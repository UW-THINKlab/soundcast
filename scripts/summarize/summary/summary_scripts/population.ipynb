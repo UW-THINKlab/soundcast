{
 "cells": [
  {
   "cell_type": "raw",
   "metadata": {
    "vscode": {
     "languageId": "raw"
    }
   },
   "source": [
    "---\n",
    "title: \"Population\"\n",
    "date: today\n",
    "---"
   ]
  },
  {
   "cell_type": "code",
   "execution_count": 1,
   "metadata": {
    "execution": {
     "iopub.execute_input": "2025-03-01T06:59:35.888830Z",
     "iopub.status.busy": "2025-03-01T06:59:35.886835Z",
     "iopub.status.idle": "2025-03-01T06:59:36.976475Z",
     "shell.execute_reply": "2025-03-01T06:59:36.974481Z"
    }
   },
   "outputs": [],
   "source": [
    "#| include: false\n",
    "\n",
    "import os\n",
    "import pandas as pd\n",
    "import numpy as np\n",
    "import sqlite3\n",
    "# import plotly.express as px\n",
    "import toml\n",
    "# import psrc_theme\n",
    "from pathlib import Path\n",
    "import summary_data\n",
    "\n",
    "# to show plotly figures in quarto HTML file\n",
    "# import plotly.io as pio\n",
    "# pio.renderers.default = \"plotly_mimetype+notebook_connected\"\n",
    "# pio.templates.default = \"simple_white+psrc_color\" # set plotly template\n",
    "\n",
    "config = summary_data.CONFIG\n",
    "all_runs = summary_data.ALL_RUNS"
   ]
  },
  {
   "cell_type": "code",
   "execution_count": 2,
   "metadata": {},
   "outputs": [],
   "source": [
    "# Join parcel lookup data to parcel files to do some county and district summaries\n",
    "# Load parcel geography lookup from soundcast db\n",
    "conn = sqlite3.connect(r'../../../../inputs/db/soundcast_inputs_2023.db')\n",
    "df_geog_lookup = pd.read_sql_query(\"SELECT ParcelID, CountyName, district_name FROM parcel_2023_geography\", conn)\n",
    "\n",
    "# Land Use Summary\n",
    "df_parcels = summary_data.load_landuse('landuse/parcels_urbansim.txt')\n",
    "# Merge lookup data to parcels\n",
    "df_parcels = df_parcels.merge(df_geog_lookup, left_on='parcelid', right_on='ParcelID', how='left')"
   ]
  },
  {
   "cell_type": "markdown",
   "metadata": {},
   "source": [
    "## Synthetic Population"
   ]
  },
  {
   "cell_type": "markdown",
   "metadata": {},
   "source": [
    "- total number of households"
   ]
  },
  {
   "cell_type": "code",
   "execution_count": 3,
   "metadata": {
    "execution": {
     "iopub.execute_input": "2025-03-01T07:00:11.030598Z",
     "iopub.status.busy": "2025-03-01T07:00:11.029601Z",
     "iopub.status.idle": "2025-03-01T07:00:11.050689Z",
     "shell.execute_reply": "2025-03-01T07:00:11.049170Z"
    }
   },
   "outputs": [],
   "source": [
    "def count_by_county(output_path: str, summary_var: str, expfac_name: str, axis_name: str):\n",
    "    df = summary_data.load_agg_data(output_path)\n",
    "\n",
    "    tab = df.groupby(['source',summary_var])[expfac_name].sum().\\\n",
    "        unstack(summary_var).\\\n",
    "        rename_axis(columns={summary_var: axis_name})\n",
    "    tab['Total'] = tab.sum(axis=1)\n",
    "\n",
    "    display(tab.style.format('{:,.0f}'))"
   ]
  },
  {
   "cell_type": "code",
   "execution_count": 4,
   "metadata": {
    "execution": {
     "iopub.execute_input": "2025-03-01T07:00:11.156605Z",
     "iopub.status.busy": "2025-03-01T07:00:11.154619Z",
     "iopub.status.idle": "2025-03-01T07:00:11.238032Z",
     "shell.execute_reply": "2025-03-01T07:00:11.236037Z"
    }
   },
   "outputs": [
    {
     "data": {
      "text/html": [
       "<style  type=\"text/css\" >\n",
       "</style><table id=\"T_d31ed_\" ><thead>    <tr>        <th class=\"index_name level0\" >Households by county</th>        <th class=\"col_heading level0 col0\" >King</th>        <th class=\"col_heading level0 col1\" >Kitsap</th>        <th class=\"col_heading level0 col2\" >Outside Region</th>        <th class=\"col_heading level0 col3\" >Pierce</th>        <th class=\"col_heading level0 col4\" >Snohomish</th>        <th class=\"col_heading level0 col5\" >Total</th>    </tr>    <tr>        <th class=\"index_name level0\" >source</th>        <th class=\"blank\" ></th>        <th class=\"blank\" ></th>        <th class=\"blank\" ></th>        <th class=\"blank\" ></th>        <th class=\"blank\" ></th>        <th class=\"blank\" ></th>    </tr></thead><tbody>\n",
       "                <tr>\n",
       "                        <th id=\"T_d31ed_level0_row0\" class=\"row_heading level0 row0\" >current run</th>\n",
       "                        <td id=\"T_d31ed_row0_col0\" class=\"data row0 col0\" >957,460</td>\n",
       "                        <td id=\"T_d31ed_row0_col1\" class=\"data row0 col1\" >108,901</td>\n",
       "                        <td id=\"T_d31ed_row0_col2\" class=\"data row0 col2\" >3</td>\n",
       "                        <td id=\"T_d31ed_row0_col3\" class=\"data row0 col3\" >350,141</td>\n",
       "                        <td id=\"T_d31ed_row0_col4\" class=\"data row0 col4\" >319,624</td>\n",
       "                        <td id=\"T_d31ed_row0_col5\" class=\"data row0 col5\" >1,736,129</td>\n",
       "            </tr>\n",
       "    </tbody></table>"
      ],
      "text/plain": [
       "<pandas.io.formats.style.Styler at 0x1bb35f0d308>"
      ]
     },
     "metadata": {},
     "output_type": "display_data"
    }
   ],
   "source": [
    "count_by_county('agg/dash/hh_geog.csv','hh_county','hhexpfac','Households by county')"
   ]
  },
  {
   "cell_type": "markdown",
   "metadata": {},
   "source": [
    "- total population"
   ]
  },
  {
   "cell_type": "code",
   "execution_count": 5,
   "metadata": {
    "execution": {
     "iopub.execute_input": "2025-03-01T07:00:11.062653Z",
     "iopub.status.busy": "2025-03-01T07:00:11.061656Z",
     "iopub.status.idle": "2025-03-01T07:00:11.144601Z",
     "shell.execute_reply": "2025-03-01T07:00:11.142577Z"
    }
   },
   "outputs": [
    {
     "data": {
      "text/html": [
       "<style  type=\"text/css\" >\n",
       "</style><table id=\"T_f6cb3_\" ><thead>    <tr>        <th class=\"index_name level0\" >Population by county</th>        <th class=\"col_heading level0 col0\" >King</th>        <th class=\"col_heading level0 col1\" >Kitsap</th>        <th class=\"col_heading level0 col2\" >Outside Region</th>        <th class=\"col_heading level0 col3\" >Pierce</th>        <th class=\"col_heading level0 col4\" >Snohomish</th>        <th class=\"col_heading level0 col5\" >Total</th>    </tr>    <tr>        <th class=\"index_name level0\" >source</th>        <th class=\"blank\" ></th>        <th class=\"blank\" ></th>        <th class=\"blank\" ></th>        <th class=\"blank\" ></th>        <th class=\"blank\" ></th>        <th class=\"blank\" ></th>    </tr></thead><tbody>\n",
       "                <tr>\n",
       "                        <th id=\"T_f6cb3_level0_row0\" class=\"row_heading level0 row0\" >current run</th>\n",
       "                        <td id=\"T_f6cb3_row0_col0\" class=\"data row0 col0\" >2,303,851</td>\n",
       "                        <td id=\"T_f6cb3_row0_col1\" class=\"data row0 col1\" >275,120</td>\n",
       "                        <td id=\"T_f6cb3_row0_col2\" class=\"data row0 col2\" >8</td>\n",
       "                        <td id=\"T_f6cb3_row0_col3\" class=\"data row0 col3\" >925,555</td>\n",
       "                        <td id=\"T_f6cb3_row0_col4\" class=\"data row0 col4\" >851,485</td>\n",
       "                        <td id=\"T_f6cb3_row0_col5\" class=\"data row0 col5\" >4,356,019</td>\n",
       "            </tr>\n",
       "    </tbody></table>"
      ],
      "text/plain": [
       "<pandas.io.formats.style.Styler at 0x1bb48667c48>"
      ]
     },
     "metadata": {},
     "output_type": "display_data"
    }
   ],
   "source": [
    "count_by_county('agg/dash/pptyp_county.csv','person_county','psexpfac','Population by county')"
   ]
  },
  {
   "cell_type": "markdown",
   "metadata": {},
   "source": [
    "## Student Enrollment"
   ]
  },
  {
   "cell_type": "code",
   "execution_count": 6,
   "metadata": {},
   "outputs": [
    {
     "data": {
      "text/html": [
       "<style  type=\"text/css\" >\n",
       "</style><table id=\"T_1a6b7_\" ><thead>    <tr>        <th class=\"blank level0\" ></th>        <th class=\"col_heading level0 col0\" >Grade School</th>        <th class=\"col_heading level0 col1\" >High School</th>        <th class=\"col_heading level0 col2\" >College</th>    </tr>    <tr>        <th class=\"index_name level0\" >source</th>        <th class=\"blank\" ></th>        <th class=\"blank\" ></th>        <th class=\"blank\" ></th>    </tr></thead><tbody>\n",
       "                <tr>\n",
       "                        <th id=\"T_1a6b7_level0_row0\" class=\"row_heading level0 row0\" >current run</th>\n",
       "                        <td id=\"T_1a6b7_row0_col0\" class=\"data row0 col0\" >442,413</td>\n",
       "                        <td id=\"T_1a6b7_row0_col1\" class=\"data row0 col1\" >211,261</td>\n",
       "                        <td id=\"T_1a6b7_row0_col2\" class=\"data row0 col2\" >136,681</td>\n",
       "            </tr>\n",
       "    </tbody></table>"
      ],
      "text/plain": [
       "<pandas.io.formats.style.Styler at 0x1bb481059c8>"
      ]
     },
     "execution_count": 6,
     "metadata": {},
     "output_type": "execute_result"
    }
   ],
   "source": [
    "# Students by grade level\n",
    "df_pivot = pd.pivot_table(df_parcels, index='source', \n",
    "                          values=['stugrd_p', 'stuhgh_p', 'stuuni_p'], \n",
    "                           aggfunc='sum')\n",
    "df_pivot.rename(columns={'stugrd_p': 'Grade School', 'stuhgh_p':'High School', 'stuuni_p':'College'}, inplace=True)\n",
    "df_pivot.style.format('{:,.0f}')"
   ]
  },
  {
   "cell_type": "markdown",
   "metadata": {},
   "source": [
    "## Employment"
   ]
  },
  {
   "cell_type": "raw",
   "metadata": {
    "vscode": {
     "languageId": "raw"
    }
   },
   "source": [
    ":::{.panel-tabset}\n",
    "### Sector"
   ]
  },
  {
   "cell_type": "code",
   "execution_count": 7,
   "metadata": {},
   "outputs": [
    {
     "data": {
      "text/html": [
       "<style  type=\"text/css\" >\n",
       "</style><table id=\"T_c6da0_\" ><thead>    <tr>        <th class=\"blank level0\" ></th>        <th class=\"col_heading level0 col0\" >Education</th>        <th class=\"col_heading level0 col1\" >Food</th>        <th class=\"col_heading level0 col2\" >Government</th>        <th class=\"col_heading level0 col3\" >Industrial</th>        <th class=\"col_heading level0 col4\" >Medical</th>        <th class=\"col_heading level0 col5\" >Office</th>        <th class=\"col_heading level0 col6\" >Other</th>        <th class=\"col_heading level0 col7\" >Retail</th>        <th class=\"col_heading level0 col8\" >Resource</th>        <th class=\"col_heading level0 col9\" >Service</th>        <th class=\"col_heading level0 col10\" >Total</th>    </tr>    <tr>        <th class=\"index_name level0\" >source</th>        <th class=\"blank\" ></th>        <th class=\"blank\" ></th>        <th class=\"blank\" ></th>        <th class=\"blank\" ></th>        <th class=\"blank\" ></th>        <th class=\"blank\" ></th>        <th class=\"blank\" ></th>        <th class=\"blank\" ></th>        <th class=\"blank\" ></th>        <th class=\"blank\" ></th>        <th class=\"blank\" ></th>    </tr></thead><tbody>\n",
       "                <tr>\n",
       "                        <th id=\"T_c6da0_level0_row0\" class=\"row_heading level0 row0\" >current run</th>\n",
       "                        <td id=\"T_c6da0_row0_col0\" class=\"data row0 col0\" >167,143</td>\n",
       "                        <td id=\"T_c6da0_row0_col1\" class=\"data row0 col1\" >157,285</td>\n",
       "                        <td id=\"T_c6da0_row0_col2\" class=\"data row0 col2\" >222,537</td>\n",
       "                        <td id=\"T_c6da0_row0_col3\" class=\"data row0 col3\" >341,587</td>\n",
       "                        <td id=\"T_c6da0_row0_col4\" class=\"data row0 col4\" >242,463</td>\n",
       "                        <td id=\"T_c6da0_row0_col5\" class=\"data row0 col5\" >582,273</td>\n",
       "                        <td id=\"T_c6da0_row0_col6\" class=\"data row0 col6\" >155,306</td>\n",
       "                        <td id=\"T_c6da0_row0_col7\" class=\"data row0 col7\" >176,184</td>\n",
       "                        <td id=\"T_c6da0_row0_col8\" class=\"data row0 col8\" >0</td>\n",
       "                        <td id=\"T_c6da0_row0_col9\" class=\"data row0 col9\" >146,168</td>\n",
       "                        <td id=\"T_c6da0_row0_col10\" class=\"data row0 col10\" >2,190,946</td>\n",
       "            </tr>\n",
       "    </tbody></table>"
      ],
      "text/plain": [
       "<pandas.io.formats.style.Styler at 0x1bb362f12c8>"
      ]
     },
     "execution_count": 7,
     "metadata": {},
     "output_type": "execute_result"
    }
   ],
   "source": [
    "df_pivot = pd.pivot_table(df_parcels, index='source', \n",
    "                          values=['emptot_p','empedu_p', 'empfoo_p', 'empgov_p', 'empind_p', 'empmed_p',\n",
    "                                'empofc_p', 'empoth_p', 'empret_p', 'emprsc_p', 'empsvc_p'], \n",
    "                           aggfunc='sum')\n",
    "df_pivot.rename(columns={'emptot_p': 'Total', 'empedu_p': 'Education', 'empfoo_p':'Food', 'empgov_p':'Government',\n",
    "                         'empind_p':'Industrial', 'empmed_p':'Medical', 'empofc_p':'Office',\n",
    "                         'empoth_p':'Other', 'empret_p':'Retail', 'emprsc_p':'Resource', 'empsvc_p':'Service'}, inplace=True)\n",
    "df_pivot.style.format('{:,.0f}')"
   ]
  },
  {
   "cell_type": "raw",
   "metadata": {
    "vscode": {
     "languageId": "raw"
    }
   },
   "source": [
    "### County"
   ]
  },
  {
   "cell_type": "code",
   "execution_count": 8,
   "metadata": {},
   "outputs": [
    {
     "data": {
      "text/html": [
       "<style  type=\"text/css\" >\n",
       "</style><table id=\"T_bf488_\" ><thead>    <tr>        <th class=\"index_name level0\" >source</th>        <th class=\"col_heading level0 col0\" >current run</th>    </tr>    <tr>        <th class=\"index_name level0\" >CountyName</th>        <th class=\"blank\" ></th>    </tr></thead><tbody>\n",
       "                <tr>\n",
       "                        <th id=\"T_bf488_level0_row0\" class=\"row_heading level0 row0\" >King</th>\n",
       "                        <td id=\"T_bf488_row0_col0\" class=\"data row0 col0\" >1,442,506</td>\n",
       "            </tr>\n",
       "            <tr>\n",
       "                        <th id=\"T_bf488_level0_row1\" class=\"row_heading level0 row1\" >Kitsap</th>\n",
       "                        <td id=\"T_bf488_row1_col0\" class=\"data row1 col0\" >92,707</td>\n",
       "            </tr>\n",
       "            <tr>\n",
       "                        <th id=\"T_bf488_level0_row2\" class=\"row_heading level0 row2\" >Outside Region</th>\n",
       "                        <td id=\"T_bf488_row2_col0\" class=\"data row2 col0\" >0</td>\n",
       "            </tr>\n",
       "            <tr>\n",
       "                        <th id=\"T_bf488_level0_row3\" class=\"row_heading level0 row3\" >Pierce</th>\n",
       "                        <td id=\"T_bf488_row3_col0\" class=\"data row3 col0\" >334,336</td>\n",
       "            </tr>\n",
       "            <tr>\n",
       "                        <th id=\"T_bf488_level0_row4\" class=\"row_heading level0 row4\" >Snohomish</th>\n",
       "                        <td id=\"T_bf488_row4_col0\" class=\"data row4 col0\" >321,397</td>\n",
       "            </tr>\n",
       "    </tbody></table>"
      ],
      "text/plain": [
       "<pandas.io.formats.style.Styler at 0x1bb46148448>"
      ]
     },
     "execution_count": 8,
     "metadata": {},
     "output_type": "execute_result"
    }
   ],
   "source": [
    "#| echo: true\n",
    "df_pivot = pd.pivot_table(df_parcels, index='CountyName', columns='source', values='emptot_p', aggfunc='sum')\n",
    "df_pivot.style.format('{:,.0f}')"
   ]
  },
  {
   "cell_type": "code",
   "execution_count": 9,
   "metadata": {
    "execution": {
     "iopub.execute_input": "2025-03-01T07:00:11.250000Z",
     "iopub.status.busy": "2025-03-01T07:00:11.249002Z",
     "iopub.status.idle": "2025-03-01T07:00:11.316071Z",
     "shell.execute_reply": "2025-03-01T07:00:11.314078Z"
    }
   },
   "outputs": [
    {
     "data": {
      "text/html": [
       "<style  type=\"text/css\" >\n",
       "</style><table id=\"T_58935_\" ><thead>    <tr>        <th class=\"index_name level0\" >Employment by county</th>        <th class=\"col_heading level0 col0\" >King</th>        <th class=\"col_heading level0 col1\" >Kitsap</th>        <th class=\"col_heading level0 col2\" >Pierce</th>        <th class=\"col_heading level0 col3\" >Snohomish</th>        <th class=\"col_heading level0 col4\" >Total</th>    </tr>    <tr>        <th class=\"index_name level0\" >source</th>        <th class=\"blank\" ></th>        <th class=\"blank\" ></th>        <th class=\"blank\" ></th>        <th class=\"blank\" ></th>        <th class=\"blank\" ></th>    </tr></thead><tbody>\n",
       "                <tr>\n",
       "                        <th id=\"T_58935_level0_row0\" class=\"row_heading level0 row0\" >current run</th>\n",
       "                        <td id=\"T_58935_row0_col0\" class=\"data row0 col0\" >1,433,410</td>\n",
       "                        <td id=\"T_58935_row0_col1\" class=\"data row0 col1\" >101,517</td>\n",
       "                        <td id=\"T_58935_row0_col2\" class=\"data row0 col2\" >353,639</td>\n",
       "                        <td id=\"T_58935_row0_col3\" class=\"data row0 col3\" >338,441</td>\n",
       "                        <td id=\"T_58935_row0_col4\" class=\"data row0 col4\" >2,227,007</td>\n",
       "            </tr>\n",
       "    </tbody></table>"
      ],
      "text/plain": [
       "<pandas.io.formats.style.Styler at 0x1bb461483c8>"
      ]
     },
     "metadata": {},
     "output_type": "display_data"
    }
   ],
   "source": [
    "#| echo: true\n",
    "count_by_county('agg/dash/person_worker_type.csv','person_work_county','psexpfac','Employment by county')"
   ]
  },
  {
   "cell_type": "raw",
   "metadata": {
    "vscode": {
     "languageId": "raw"
    }
   },
   "source": [
    "### Distict"
   ]
  },
  {
   "cell_type": "code",
   "execution_count": 10,
   "metadata": {},
   "outputs": [
    {
     "data": {
      "text/html": [
       "<style  type=\"text/css\" >\n",
       "</style><table id=\"T_d7ab4_\" ><thead>    <tr>        <th class=\"index_name level0\" >source</th>        <th class=\"col_heading level0 col0\" >current run</th>    </tr>    <tr>        <th class=\"index_name level0\" >district_name</th>        <th class=\"blank\" ></th>    </tr></thead><tbody>\n",
       "                <tr>\n",
       "                        <th id=\"T_d7ab4_level0_row0\" class=\"row_heading level0 row0\" >East Side</th>\n",
       "                        <td id=\"T_d7ab4_row0_col0\" class=\"data row0 col0\" >420,109</td>\n",
       "            </tr>\n",
       "            <tr>\n",
       "                        <th id=\"T_d7ab4_level0_row1\" class=\"row_heading level0 row1\" >Everett-Lynwood-Edmonds</th>\n",
       "                        <td id=\"T_d7ab4_row1_col0\" class=\"data row1 col0\" >158,328</td>\n",
       "            </tr>\n",
       "            <tr>\n",
       "                        <th id=\"T_d7ab4_level0_row2\" class=\"row_heading level0 row2\" >Kitsap</th>\n",
       "                        <td id=\"T_d7ab4_row2_col0\" class=\"data row2 col0\" >92,707</td>\n",
       "            </tr>\n",
       "            <tr>\n",
       "                        <th id=\"T_d7ab4_level0_row3\" class=\"row_heading level0 row3\" >North Seattle-Shoreline</th>\n",
       "                        <td id=\"T_d7ab4_row3_col0\" class=\"data row3 col0\" >147,826</td>\n",
       "            </tr>\n",
       "            <tr>\n",
       "                        <th id=\"T_d7ab4_level0_row4\" class=\"row_heading level0 row4\" >Renton-FedWay-Kent</th>\n",
       "                        <td id=\"T_d7ab4_row4_col0\" class=\"data row4 col0\" >343,930</td>\n",
       "            </tr>\n",
       "            <tr>\n",
       "                        <th id=\"T_d7ab4_level0_row5\" class=\"row_heading level0 row5\" >S.Kitsap</th>\n",
       "                        <td id=\"T_d7ab4_row5_col0\" class=\"data row5 col0\" >19,990</td>\n",
       "            </tr>\n",
       "            <tr>\n",
       "                        <th id=\"T_d7ab4_level0_row6\" class=\"row_heading level0 row6\" >Seattle CBD</th>\n",
       "                        <td id=\"T_d7ab4_row6_col0\" class=\"data row6 col0\" >394,252</td>\n",
       "            </tr>\n",
       "            <tr>\n",
       "                        <th id=\"T_d7ab4_level0_row7\" class=\"row_heading level0 row7\" >South Pierce</th>\n",
       "                        <td id=\"T_d7ab4_row7_col0\" class=\"data row7 col0\" >167,286</td>\n",
       "            </tr>\n",
       "            <tr>\n",
       "                        <th id=\"T_d7ab4_level0_row8\" class=\"row_heading level0 row8\" >Suburban Snohomish</th>\n",
       "                        <td id=\"T_d7ab4_row8_col0\" class=\"data row8 col0\" >163,069</td>\n",
       "            </tr>\n",
       "            <tr>\n",
       "                        <th id=\"T_d7ab4_level0_row9\" class=\"row_heading level0 row9\" >Tacoma</th>\n",
       "                        <td id=\"T_d7ab4_row9_col0\" class=\"data row9 col0\" >147,060</td>\n",
       "            </tr>\n",
       "            <tr>\n",
       "                        <th id=\"T_d7ab4_level0_row10\" class=\"row_heading level0 row10\" >West-South Seattle</th>\n",
       "                        <td id=\"T_d7ab4_row10_col0\" class=\"data row10 col0\" >136,389</td>\n",
       "            </tr>\n",
       "    </tbody></table>"
      ],
      "text/plain": [
       "<pandas.io.formats.style.Styler at 0x1bb4aa43cc8>"
      ]
     },
     "execution_count": 10,
     "metadata": {},
     "output_type": "execute_result"
    }
   ],
   "source": [
    "# Group total employment by district and source\n",
    "df_pivot = pd.pivot_table(df_parcels, index='district_name', columns='source', values='emptot_p', aggfunc='sum')\n",
    "df_pivot.style.format('{:,.0f}')"
   ]
  },
  {
   "cell_type": "raw",
   "metadata": {
    "vscode": {
     "languageId": "raw"
    }
   },
   "source": [
    ":::"
   ]
  },
  {
   "cell_type": "code",
   "execution_count": null,
   "metadata": {},
   "outputs": [],
   "source": []
  }
 ],
 "metadata": {
  "kernelspec": {
   "display_name": "summary",
   "language": "python",
   "name": "python3"
  },
  "language_info": {
   "codemirror_mode": {
    "name": "ipython",
    "version": 3
   },
   "file_extension": ".py",
   "mimetype": "text/x-python",
   "name": "python",
   "nbconvert_exporter": "python",
   "pygments_lexer": "ipython3",
   "version": "3.7.10"
  }
 },
 "nbformat": 4,
 "nbformat_minor": 2
}
