{
 "cells": [
  {
   "cell_type": "raw",
   "metadata": {
    "vscode": {
     "languageId": "raw"
    }
   },
   "source": [
    "---\n",
    "title: \"Population\"\n",
    "date: today\n",
    "---"
   ]
  },
  {
   "cell_type": "code",
   "execution_count": 1,
   "metadata": {
    "execution": {
     "iopub.execute_input": "2025-06-18T21:41:41.842778Z",
     "iopub.status.busy": "2025-06-18T21:41:41.841780Z",
     "iopub.status.idle": "2025-06-18T21:41:42.556390Z",
     "shell.execute_reply": "2025-06-18T21:41:42.556390Z"
    }
   },
   "outputs": [],
   "source": [
    "#| include: false\n",
    "\n",
    "import os\n",
    "import pandas as pd\n",
    "import numpy as np\n",
    "import sqlite3\n",
    "# import plotly.express as px\n",
    "import toml\n",
    "# import psrc_theme\n",
    "from pathlib import Path\n",
    "import summary_data\n",
    "\n",
    "# to show plotly figures in quarto HTML file\n",
    "# import plotly.io as pio\n",
    "# pio.renderers.default = \"plotly_mimetype+notebook_connected\"\n",
    "# pio.templates.default = \"simple_white+psrc_color\" # set plotly template\n",
    "\n",
    "config = summary_data.CONFIG\n",
    "all_runs = summary_data.ALL_RUNS"
   ]
  },
  {
   "cell_type": "code",
   "execution_count": 2,
   "metadata": {
    "execution": {
     "iopub.execute_input": "2025-06-18T21:41:42.561372Z",
     "iopub.status.busy": "2025-06-18T21:41:42.560374Z",
     "iopub.status.idle": "2025-06-18T21:41:47.413504Z",
     "shell.execute_reply": "2025-06-18T21:41:47.412504Z"
    }
   },
   "outputs": [],
   "source": [
    "# Join parcel lookup data to parcel files to do some county and district summaries\n",
    "# Load parcel geography lookup from soundcast db\n",
    "conn = sqlite3.connect(r'../../../../inputs/db/soundcast_inputs_2023.db')\n",
    "df_geog_lookup = pd.read_sql_query(\"SELECT ParcelID, CountyName, district_name FROM parcel_2023_geography\", conn)\n",
    "\n",
    "# Land Use Summary\n",
    "df_parcels = summary_data.load_landuse('landuse/parcels_urbansim.txt')\n",
    "# Merge lookup data to parcels\n",
    "df_parcels = df_parcels.merge(df_geog_lookup, left_on='parcelid', right_on='ParcelID', how='left')"
   ]
  },
  {
   "cell_type": "markdown",
   "metadata": {},
   "source": [
    "## Synthetic Population"
   ]
  },
  {
   "cell_type": "markdown",
   "metadata": {},
   "source": [
    "- total number of households"
   ]
  },
  {
   "cell_type": "code",
   "execution_count": 3,
   "metadata": {
    "execution": {
     "iopub.execute_input": "2025-06-18T21:41:47.419487Z",
     "iopub.status.busy": "2025-06-18T21:41:47.418490Z",
     "iopub.status.idle": "2025-06-18T21:41:47.429022Z",
     "shell.execute_reply": "2025-06-18T21:41:47.427987Z"
    }
   },
   "outputs": [],
   "source": [
    "def count_by_county(output_path: str, summary_var: str, expfac_name: str, axis_name: str):\n",
    "    df = summary_data.load_agg_data(output_path)\n",
    "\n",
    "    tab = df.groupby(['source',summary_var])[expfac_name].sum().\\\n",
    "        unstack(summary_var).\\\n",
    "        rename_axis(columns={summary_var: axis_name})\n",
    "    tab['Total'] = tab.sum(axis=1)\n",
    "\n",
    "    display(tab.style.format('{:,.0f}'))"
   ]
  },
  {
   "cell_type": "code",
   "execution_count": 4,
   "metadata": {
    "execution": {
     "iopub.execute_input": "2025-06-18T21:41:47.433820Z",
     "iopub.status.busy": "2025-06-18T21:41:47.433820Z",
     "iopub.status.idle": "2025-06-18T21:41:48.070608Z",
     "shell.execute_reply": "2025-06-18T21:41:48.070608Z"
    }
   },
   "outputs": [
    {
     "data": {
      "text/html": [
       "<style type=\"text/css\">\n",
       "</style>\n",
       "<table id=\"T_828db\">\n",
       "  <thead>\n",
       "    <tr>\n",
       "      <th class=\"index_name level0\" >Households by county</th>\n",
       "      <th id=\"T_828db_level0_col0\" class=\"col_heading level0 col0\" >King</th>\n",
       "      <th id=\"T_828db_level0_col1\" class=\"col_heading level0 col1\" >Kitsap</th>\n",
       "      <th id=\"T_828db_level0_col2\" class=\"col_heading level0 col2\" >Outside Region</th>\n",
       "      <th id=\"T_828db_level0_col3\" class=\"col_heading level0 col3\" >Pierce</th>\n",
       "      <th id=\"T_828db_level0_col4\" class=\"col_heading level0 col4\" >Snohomish</th>\n",
       "      <th id=\"T_828db_level0_col5\" class=\"col_heading level0 col5\" >Total</th>\n",
       "    </tr>\n",
       "    <tr>\n",
       "      <th class=\"index_name level0\" >source</th>\n",
       "      <th class=\"blank col0\" >&nbsp;</th>\n",
       "      <th class=\"blank col1\" >&nbsp;</th>\n",
       "      <th class=\"blank col2\" >&nbsp;</th>\n",
       "      <th class=\"blank col3\" >&nbsp;</th>\n",
       "      <th class=\"blank col4\" >&nbsp;</th>\n",
       "      <th class=\"blank col5\" >&nbsp;</th>\n",
       "    </tr>\n",
       "  </thead>\n",
       "  <tbody>\n",
       "    <tr>\n",
       "      <th id=\"T_828db_level0_row0\" class=\"row_heading level0 row0\" >current run</th>\n",
       "      <td id=\"T_828db_row0_col0\" class=\"data row0 col0\" >1,288,223</td>\n",
       "      <td id=\"T_828db_row0_col1\" class=\"data row0 col1\" >150,085</td>\n",
       "      <td id=\"T_828db_row0_col2\" class=\"data row0 col2\" >5</td>\n",
       "      <td id=\"T_828db_row0_col3\" class=\"data row0 col3\" >500,736</td>\n",
       "      <td id=\"T_828db_row0_col4\" class=\"data row0 col4\" >482,010</td>\n",
       "      <td id=\"T_828db_row0_col5\" class=\"data row0 col5\" >2,421,059</td>\n",
       "    </tr>\n",
       "  </tbody>\n",
       "</table>\n"
      ],
      "text/plain": [
       "<pandas.io.formats.style.Styler at 0x1b6f86b3f90>"
      ]
     },
     "metadata": {},
     "output_type": "display_data"
    }
   ],
   "source": [
    "count_by_county('agg/dash/hh_geog.csv','hh_county','hhexpfac','Households by county')"
   ]
  },
  {
   "cell_type": "markdown",
   "metadata": {},
   "source": [
    "- total population"
   ]
  },
  {
   "cell_type": "code",
   "execution_count": 5,
   "metadata": {
    "execution": {
     "iopub.execute_input": "2025-06-18T21:41:48.075598Z",
     "iopub.status.busy": "2025-06-18T21:41:48.075598Z",
     "iopub.status.idle": "2025-06-18T21:41:48.112141Z",
     "shell.execute_reply": "2025-06-18T21:41:48.111140Z"
    }
   },
   "outputs": [
    {
     "data": {
      "text/html": [
       "<style type=\"text/css\">\n",
       "</style>\n",
       "<table id=\"T_3a7dd\">\n",
       "  <thead>\n",
       "    <tr>\n",
       "      <th class=\"index_name level0\" >Population by county</th>\n",
       "      <th id=\"T_3a7dd_level0_col0\" class=\"col_heading level0 col0\" >King</th>\n",
       "      <th id=\"T_3a7dd_level0_col1\" class=\"col_heading level0 col1\" >Kitsap</th>\n",
       "      <th id=\"T_3a7dd_level0_col2\" class=\"col_heading level0 col2\" >Outside Region</th>\n",
       "      <th id=\"T_3a7dd_level0_col3\" class=\"col_heading level0 col3\" >Pierce</th>\n",
       "      <th id=\"T_3a7dd_level0_col4\" class=\"col_heading level0 col4\" >Snohomish</th>\n",
       "      <th id=\"T_3a7dd_level0_col5\" class=\"col_heading level0 col5\" >Total</th>\n",
       "    </tr>\n",
       "    <tr>\n",
       "      <th class=\"index_name level0\" >source</th>\n",
       "      <th class=\"blank col0\" >&nbsp;</th>\n",
       "      <th class=\"blank col1\" >&nbsp;</th>\n",
       "      <th class=\"blank col2\" >&nbsp;</th>\n",
       "      <th class=\"blank col3\" >&nbsp;</th>\n",
       "      <th class=\"blank col4\" >&nbsp;</th>\n",
       "      <th class=\"blank col5\" >&nbsp;</th>\n",
       "    </tr>\n",
       "  </thead>\n",
       "  <tbody>\n",
       "    <tr>\n",
       "      <th id=\"T_3a7dd_level0_row0\" class=\"row_heading level0 row0\" >current run</th>\n",
       "      <td id=\"T_3a7dd_row0_col0\" class=\"data row0 col0\" >2,988,607</td>\n",
       "      <td id=\"T_3a7dd_row0_col1\" class=\"data row0 col1\" >354,233</td>\n",
       "      <td id=\"T_3a7dd_row0_col2\" class=\"data row0 col2\" >14</td>\n",
       "      <td id=\"T_3a7dd_row0_col3\" class=\"data row0 col3\" >1,237,744</td>\n",
       "      <td id=\"T_3a7dd_row0_col4\" class=\"data row0 col4\" >1,207,563</td>\n",
       "      <td id=\"T_3a7dd_row0_col5\" class=\"data row0 col5\" >5,788,161</td>\n",
       "    </tr>\n",
       "  </tbody>\n",
       "</table>\n"
      ],
      "text/plain": [
       "<pandas.io.formats.style.Styler at 0x1b6fa5e8690>"
      ]
     },
     "metadata": {},
     "output_type": "display_data"
    }
   ],
   "source": [
    "count_by_county('agg/dash/pptyp_county.csv','person_county','psexpfac','Population by county')"
   ]
  },
  {
   "cell_type": "markdown",
   "metadata": {},
   "source": [
    "## Student Enrollment"
   ]
  },
  {
   "cell_type": "code",
   "execution_count": 6,
   "metadata": {
    "execution": {
     "iopub.execute_input": "2025-06-18T21:41:48.117127Z",
     "iopub.status.busy": "2025-06-18T21:41:48.117127Z",
     "iopub.status.idle": "2025-06-18T21:41:48.245460Z",
     "shell.execute_reply": "2025-06-18T21:41:48.245460Z"
    }
   },
   "outputs": [
    {
     "data": {
      "text/html": [
       "<style type=\"text/css\">\n",
       "</style>\n",
       "<table id=\"T_dd027\">\n",
       "  <thead>\n",
       "    <tr>\n",
       "      <th class=\"blank level0\" >&nbsp;</th>\n",
       "      <th id=\"T_dd027_level0_col0\" class=\"col_heading level0 col0\" >Grade School</th>\n",
       "      <th id=\"T_dd027_level0_col1\" class=\"col_heading level0 col1\" >High School</th>\n",
       "      <th id=\"T_dd027_level0_col2\" class=\"col_heading level0 col2\" >College</th>\n",
       "    </tr>\n",
       "    <tr>\n",
       "      <th class=\"index_name level0\" >source</th>\n",
       "      <th class=\"blank col0\" >&nbsp;</th>\n",
       "      <th class=\"blank col1\" >&nbsp;</th>\n",
       "      <th class=\"blank col2\" >&nbsp;</th>\n",
       "    </tr>\n",
       "  </thead>\n",
       "  <tbody>\n",
       "    <tr>\n",
       "      <th id=\"T_dd027_level0_row0\" class=\"row_heading level0 row0\" >current run</th>\n",
       "      <td id=\"T_dd027_row0_col0\" class=\"data row0 col0\" >442,413</td>\n",
       "      <td id=\"T_dd027_row0_col1\" class=\"data row0 col1\" >211,261</td>\n",
       "      <td id=\"T_dd027_row0_col2\" class=\"data row0 col2\" >136,681</td>\n",
       "    </tr>\n",
       "  </tbody>\n",
       "</table>\n"
      ],
      "text/plain": [
       "<pandas.io.formats.style.Styler at 0x1b6fa3e7fd0>"
      ]
     },
     "execution_count": 6,
     "metadata": {},
     "output_type": "execute_result"
    }
   ],
   "source": [
    "# Students by grade level\n",
    "df_pivot = pd.pivot_table(df_parcels, index='source', \n",
    "                          values=['stugrd_p', 'stuhgh_p', 'stuuni_p'], \n",
    "                           aggfunc='sum')\n",
    "df_pivot.rename(columns={'stugrd_p': 'Grade School', 'stuhgh_p':'High School', 'stuuni_p':'College'}, inplace=True)\n",
    "df_pivot.style.format('{:,.0f}')"
   ]
  },
  {
   "cell_type": "markdown",
   "metadata": {},
   "source": [
    "## Employment"
   ]
  },
  {
   "cell_type": "raw",
   "metadata": {
    "vscode": {
     "languageId": "raw"
    }
   },
   "source": [
    ":::{.panel-tabset}\n",
    "### Sector"
   ]
  },
  {
   "cell_type": "code",
   "execution_count": 7,
   "metadata": {
    "execution": {
     "iopub.execute_input": "2025-06-18T21:41:48.250450Z",
     "iopub.status.busy": "2025-06-18T21:41:48.250450Z",
     "iopub.status.idle": "2025-06-18T21:41:48.395917Z",
     "shell.execute_reply": "2025-06-18T21:41:48.394917Z"
    }
   },
   "outputs": [
    {
     "data": {
      "text/html": [
       "<style type=\"text/css\">\n",
       "</style>\n",
       "<table id=\"T_4d553\">\n",
       "  <thead>\n",
       "    <tr>\n",
       "      <th class=\"blank level0\" >&nbsp;</th>\n",
       "      <th id=\"T_4d553_level0_col0\" class=\"col_heading level0 col0\" >Education</th>\n",
       "      <th id=\"T_4d553_level0_col1\" class=\"col_heading level0 col1\" >Food</th>\n",
       "      <th id=\"T_4d553_level0_col2\" class=\"col_heading level0 col2\" >Government</th>\n",
       "      <th id=\"T_4d553_level0_col3\" class=\"col_heading level0 col3\" >Industrial</th>\n",
       "      <th id=\"T_4d553_level0_col4\" class=\"col_heading level0 col4\" >Medical</th>\n",
       "      <th id=\"T_4d553_level0_col5\" class=\"col_heading level0 col5\" >Office</th>\n",
       "      <th id=\"T_4d553_level0_col6\" class=\"col_heading level0 col6\" >Other</th>\n",
       "      <th id=\"T_4d553_level0_col7\" class=\"col_heading level0 col7\" >Retail</th>\n",
       "      <th id=\"T_4d553_level0_col8\" class=\"col_heading level0 col8\" >Resource</th>\n",
       "      <th id=\"T_4d553_level0_col9\" class=\"col_heading level0 col9\" >Service</th>\n",
       "      <th id=\"T_4d553_level0_col10\" class=\"col_heading level0 col10\" >Total</th>\n",
       "    </tr>\n",
       "    <tr>\n",
       "      <th class=\"index_name level0\" >source</th>\n",
       "      <th class=\"blank col0\" >&nbsp;</th>\n",
       "      <th class=\"blank col1\" >&nbsp;</th>\n",
       "      <th class=\"blank col2\" >&nbsp;</th>\n",
       "      <th class=\"blank col3\" >&nbsp;</th>\n",
       "      <th class=\"blank col4\" >&nbsp;</th>\n",
       "      <th class=\"blank col5\" >&nbsp;</th>\n",
       "      <th class=\"blank col6\" >&nbsp;</th>\n",
       "      <th class=\"blank col7\" >&nbsp;</th>\n",
       "      <th class=\"blank col8\" >&nbsp;</th>\n",
       "      <th class=\"blank col9\" >&nbsp;</th>\n",
       "      <th class=\"blank col10\" >&nbsp;</th>\n",
       "    </tr>\n",
       "  </thead>\n",
       "  <tbody>\n",
       "    <tr>\n",
       "      <th id=\"T_4d553_level0_row0\" class=\"row_heading level0 row0\" >current run</th>\n",
       "      <td id=\"T_4d553_row0_col0\" class=\"data row0 col0\" >287,539</td>\n",
       "      <td id=\"T_4d553_row0_col1\" class=\"data row0 col1\" >270,522</td>\n",
       "      <td id=\"T_4d553_row0_col2\" class=\"data row0 col2\" >179,539</td>\n",
       "      <td id=\"T_4d553_row0_col3\" class=\"data row0 col3\" >369,405</td>\n",
       "      <td id=\"T_4d553_row0_col4\" class=\"data row0 col4\" >359,833</td>\n",
       "      <td id=\"T_4d553_row0_col5\" class=\"data row0 col5\" >923,858</td>\n",
       "      <td id=\"T_4d553_row0_col6\" class=\"data row0 col6\" >163,738</td>\n",
       "      <td id=\"T_4d553_row0_col7\" class=\"data row0 col7\" >386,158</td>\n",
       "      <td id=\"T_4d553_row0_col8\" class=\"data row0 col8\" >0</td>\n",
       "      <td id=\"T_4d553_row0_col9\" class=\"data row0 col9\" >221,331</td>\n",
       "      <td id=\"T_4d553_row0_col10\" class=\"data row0 col10\" >3,161,923</td>\n",
       "    </tr>\n",
       "  </tbody>\n",
       "</table>\n"
      ],
      "text/plain": [
       "<pandas.io.formats.style.Styler at 0x1b6fa5f50d0>"
      ]
     },
     "execution_count": 7,
     "metadata": {},
     "output_type": "execute_result"
    }
   ],
   "source": [
    "df_pivot = pd.pivot_table(df_parcels, index='source', \n",
    "                          values=['emptot_p','empedu_p', 'empfoo_p', 'empgov_p', 'empind_p', 'empmed_p',\n",
    "                                'empofc_p', 'empoth_p', 'empret_p', 'emprsc_p', 'empsvc_p'], \n",
    "                           aggfunc='sum')\n",
    "df_pivot.rename(columns={'emptot_p': 'Total', 'empedu_p': 'Education', 'empfoo_p':'Food', 'empgov_p':'Government',\n",
    "                         'empind_p':'Industrial', 'empmed_p':'Medical', 'empofc_p':'Office',\n",
    "                         'empoth_p':'Other', 'empret_p':'Retail', 'emprsc_p':'Resource', 'empsvc_p':'Service'}, inplace=True)\n",
    "df_pivot.style.format('{:,.0f}')"
   ]
  },
  {
   "cell_type": "raw",
   "metadata": {
    "vscode": {
     "languageId": "raw"
    }
   },
   "source": [
    "### County"
   ]
  },
  {
   "cell_type": "code",
   "execution_count": 8,
   "metadata": {
    "execution": {
     "iopub.execute_input": "2025-06-18T21:41:48.401901Z",
     "iopub.status.busy": "2025-06-18T21:41:48.400904Z",
     "iopub.status.idle": "2025-06-18T21:41:48.654627Z",
     "shell.execute_reply": "2025-06-18T21:41:48.653626Z"
    }
   },
   "outputs": [
    {
     "data": {
      "text/html": [
       "<style type=\"text/css\">\n",
       "</style>\n",
       "<table id=\"T_f1382\">\n",
       "  <thead>\n",
       "    <tr>\n",
       "      <th class=\"index_name level0\" >source</th>\n",
       "      <th id=\"T_f1382_level0_col0\" class=\"col_heading level0 col0\" >current run</th>\n",
       "    </tr>\n",
       "    <tr>\n",
       "      <th class=\"index_name level0\" >CountyName</th>\n",
       "      <th class=\"blank col0\" >&nbsp;</th>\n",
       "    </tr>\n",
       "  </thead>\n",
       "  <tbody>\n",
       "    <tr>\n",
       "      <th id=\"T_f1382_level0_row0\" class=\"row_heading level0 row0\" >King</th>\n",
       "      <td id=\"T_f1382_row0_col0\" class=\"data row0 col0\" >2,045,960</td>\n",
       "    </tr>\n",
       "    <tr>\n",
       "      <th id=\"T_f1382_level0_row1\" class=\"row_heading level0 row1\" >Kitsap</th>\n",
       "      <td id=\"T_f1382_row1_col0\" class=\"data row1 col0\" >147,942</td>\n",
       "    </tr>\n",
       "    <tr>\n",
       "      <th id=\"T_f1382_level0_row2\" class=\"row_heading level0 row2\" >Outside Region</th>\n",
       "      <td id=\"T_f1382_row2_col0\" class=\"data row2 col0\" >0</td>\n",
       "    </tr>\n",
       "    <tr>\n",
       "      <th id=\"T_f1382_level0_row3\" class=\"row_heading level0 row3\" >Pierce</th>\n",
       "      <td id=\"T_f1382_row3_col0\" class=\"data row3 col0\" >473,614</td>\n",
       "    </tr>\n",
       "    <tr>\n",
       "      <th id=\"T_f1382_level0_row4\" class=\"row_heading level0 row4\" >Snohomish</th>\n",
       "      <td id=\"T_f1382_row4_col0\" class=\"data row4 col0\" >494,407</td>\n",
       "    </tr>\n",
       "  </tbody>\n",
       "</table>\n"
      ],
      "text/plain": [
       "<pandas.io.formats.style.Styler at 0x1b6f8d03b10>"
      ]
     },
     "execution_count": 8,
     "metadata": {},
     "output_type": "execute_result"
    }
   ],
   "source": [
    "#| echo: true\n",
    "df_pivot = pd.pivot_table(df_parcels, index='CountyName', columns='source', values='emptot_p', aggfunc='sum')\n",
    "df_pivot.style.format('{:,.0f}')"
   ]
  },
  {
   "cell_type": "code",
   "execution_count": 9,
   "metadata": {
    "execution": {
     "iopub.execute_input": "2025-06-18T21:41:48.659614Z",
     "iopub.status.busy": "2025-06-18T21:41:48.658616Z",
     "iopub.status.idle": "2025-06-18T21:41:48.698629Z",
     "shell.execute_reply": "2025-06-18T21:41:48.697628Z"
    }
   },
   "outputs": [
    {
     "data": {
      "text/html": [
       "<style type=\"text/css\">\n",
       "</style>\n",
       "<table id=\"T_ad847\">\n",
       "  <thead>\n",
       "    <tr>\n",
       "      <th class=\"index_name level0\" >Employment by county</th>\n",
       "      <th id=\"T_ad847_level0_col0\" class=\"col_heading level0 col0\" >King</th>\n",
       "      <th id=\"T_ad847_level0_col1\" class=\"col_heading level0 col1\" >Kitsap</th>\n",
       "      <th id=\"T_ad847_level0_col2\" class=\"col_heading level0 col2\" >Outside Region</th>\n",
       "      <th id=\"T_ad847_level0_col3\" class=\"col_heading level0 col3\" >Pierce</th>\n",
       "      <th id=\"T_ad847_level0_col4\" class=\"col_heading level0 col4\" >Snohomish</th>\n",
       "      <th id=\"T_ad847_level0_col5\" class=\"col_heading level0 col5\" >Total</th>\n",
       "    </tr>\n",
       "    <tr>\n",
       "      <th class=\"index_name level0\" >source</th>\n",
       "      <th class=\"blank col0\" >&nbsp;</th>\n",
       "      <th class=\"blank col1\" >&nbsp;</th>\n",
       "      <th class=\"blank col2\" >&nbsp;</th>\n",
       "      <th class=\"blank col3\" >&nbsp;</th>\n",
       "      <th class=\"blank col4\" >&nbsp;</th>\n",
       "      <th class=\"blank col5\" >&nbsp;</th>\n",
       "    </tr>\n",
       "  </thead>\n",
       "  <tbody>\n",
       "    <tr>\n",
       "      <th id=\"T_ad847_level0_row0\" class=\"row_heading level0 row0\" >current run</th>\n",
       "      <td id=\"T_ad847_row0_col0\" class=\"data row0 col0\" >1,837,611</td>\n",
       "      <td id=\"T_ad847_row0_col1\" class=\"data row0 col1\" >144,405</td>\n",
       "      <td id=\"T_ad847_row0_col2\" class=\"data row0 col2\" >1</td>\n",
       "      <td id=\"T_ad847_row0_col3\" class=\"data row0 col3\" >479,177</td>\n",
       "      <td id=\"T_ad847_row0_col4\" class=\"data row0 col4\" >489,741</td>\n",
       "      <td id=\"T_ad847_row0_col5\" class=\"data row0 col5\" >2,950,935</td>\n",
       "    </tr>\n",
       "  </tbody>\n",
       "</table>\n"
      ],
      "text/plain": [
       "<pandas.io.formats.style.Styler at 0x1b6fb088a50>"
      ]
     },
     "metadata": {},
     "output_type": "display_data"
    }
   ],
   "source": [
    "#| echo: true\n",
    "count_by_county('agg/dash/person_worker_type.csv','person_work_county','psexpfac','Employment by county')"
   ]
  },
  {
   "cell_type": "raw",
   "metadata": {
    "vscode": {
     "languageId": "raw"
    }
   },
   "source": [
    "### Distict"
   ]
  },
  {
   "cell_type": "code",
   "execution_count": 10,
   "metadata": {
    "execution": {
     "iopub.execute_input": "2025-06-18T21:41:48.703615Z",
     "iopub.status.busy": "2025-06-18T21:41:48.703615Z",
     "iopub.status.idle": "2025-06-18T21:41:48.950455Z",
     "shell.execute_reply": "2025-06-18T21:41:48.949455Z"
    }
   },
   "outputs": [
    {
     "data": {
      "text/html": [
       "<style type=\"text/css\">\n",
       "</style>\n",
       "<table id=\"T_0c8fd\">\n",
       "  <thead>\n",
       "    <tr>\n",
       "      <th class=\"index_name level0\" >source</th>\n",
       "      <th id=\"T_0c8fd_level0_col0\" class=\"col_heading level0 col0\" >current run</th>\n",
       "    </tr>\n",
       "    <tr>\n",
       "      <th class=\"index_name level0\" >district_name</th>\n",
       "      <th class=\"blank col0\" >&nbsp;</th>\n",
       "    </tr>\n",
       "  </thead>\n",
       "  <tbody>\n",
       "    <tr>\n",
       "      <th id=\"T_0c8fd_level0_row0\" class=\"row_heading level0 row0\" >East Side</th>\n",
       "      <td id=\"T_0c8fd_row0_col0\" class=\"data row0 col0\" >615,476</td>\n",
       "    </tr>\n",
       "    <tr>\n",
       "      <th id=\"T_0c8fd_level0_row1\" class=\"row_heading level0 row1\" >Everett-Lynwood-Edmonds</th>\n",
       "      <td id=\"T_0c8fd_row1_col0\" class=\"data row1 col0\" >295,998</td>\n",
       "    </tr>\n",
       "    <tr>\n",
       "      <th id=\"T_0c8fd_level0_row2\" class=\"row_heading level0 row2\" >Kitsap</th>\n",
       "      <td id=\"T_0c8fd_row2_col0\" class=\"data row2 col0\" >147,942</td>\n",
       "    </tr>\n",
       "    <tr>\n",
       "      <th id=\"T_0c8fd_level0_row3\" class=\"row_heading level0 row3\" >North Seattle-Shoreline</th>\n",
       "      <td id=\"T_0c8fd_row3_col0\" class=\"data row3 col0\" >190,173</td>\n",
       "    </tr>\n",
       "    <tr>\n",
       "      <th id=\"T_0c8fd_level0_row4\" class=\"row_heading level0 row4\" >Renton-FedWay-Kent</th>\n",
       "      <td id=\"T_0c8fd_row4_col0\" class=\"data row4 col0\" >531,467</td>\n",
       "    </tr>\n",
       "    <tr>\n",
       "      <th id=\"T_0c8fd_level0_row5\" class=\"row_heading level0 row5\" >S.Kitsap</th>\n",
       "      <td id=\"T_0c8fd_row5_col0\" class=\"data row5 col0\" >23,537</td>\n",
       "    </tr>\n",
       "    <tr>\n",
       "      <th id=\"T_0c8fd_level0_row6\" class=\"row_heading level0 row6\" >Seattle CBD</th>\n",
       "      <td id=\"T_0c8fd_row6_col0\" class=\"data row6 col0\" >509,268</td>\n",
       "    </tr>\n",
       "    <tr>\n",
       "      <th id=\"T_0c8fd_level0_row7\" class=\"row_heading level0 row7\" >South Pierce</th>\n",
       "      <td id=\"T_0c8fd_row7_col0\" class=\"data row7 col0\" >220,779</td>\n",
       "    </tr>\n",
       "    <tr>\n",
       "      <th id=\"T_0c8fd_level0_row8\" class=\"row_heading level0 row8\" >Suburban Snohomish</th>\n",
       "      <td id=\"T_0c8fd_row8_col0\" class=\"data row8 col0\" >198,412</td>\n",
       "    </tr>\n",
       "    <tr>\n",
       "      <th id=\"T_0c8fd_level0_row9\" class=\"row_heading level0 row9\" >Tacoma</th>\n",
       "      <td id=\"T_0c8fd_row9_col0\" class=\"data row9 col0\" >229,298</td>\n",
       "    </tr>\n",
       "    <tr>\n",
       "      <th id=\"T_0c8fd_level0_row10\" class=\"row_heading level0 row10\" >West-South Seattle</th>\n",
       "      <td id=\"T_0c8fd_row10_col0\" class=\"data row10 col0\" >199,573</td>\n",
       "    </tr>\n",
       "  </tbody>\n",
       "</table>\n"
      ],
      "text/plain": [
       "<pandas.io.formats.style.Styler at 0x1b6f7c70510>"
      ]
     },
     "execution_count": 10,
     "metadata": {},
     "output_type": "execute_result"
    }
   ],
   "source": [
    "# Group total employment by district and source\n",
    "df_pivot = pd.pivot_table(df_parcels, index='district_name', columns='source', values='emptot_p', aggfunc='sum')\n",
    "df_pivot.style.format('{:,.0f}')"
   ]
  },
  {
   "cell_type": "raw",
   "metadata": {
    "vscode": {
     "languageId": "raw"
    }
   },
   "source": [
    ":::"
   ]
  },
  {
   "cell_type": "code",
   "execution_count": null,
   "metadata": {},
   "outputs": [],
   "source": []
  }
 ],
 "metadata": {
  "kernelspec": {
   "display_name": "summary",
   "language": "python",
   "name": "python3"
  },
  "language_info": {
   "codemirror_mode": {
    "name": "ipython",
    "version": 3
   },
   "file_extension": ".py",
   "mimetype": "text/x-python",
   "name": "python",
   "nbconvert_exporter": "python",
   "pygments_lexer": "ipython3",
   "version": "3.11.12"
  }
 },
 "nbformat": 4,
 "nbformat_minor": 2
}
