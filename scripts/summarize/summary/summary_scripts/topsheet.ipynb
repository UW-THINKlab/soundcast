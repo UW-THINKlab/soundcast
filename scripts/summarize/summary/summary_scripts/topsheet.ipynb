{
 "cells": [
  {
   "cell_type": "raw",
   "metadata": {
    "vscode": {
     "languageId": "raw"
    }
   },
   "source": [
    "---\n",
    "title: \"Summary\"\n",
    "date: today\n",
    "---"
   ]
  },
  {
   "cell_type": "code",
   "execution_count": 1,
   "metadata": {
    "execution": {
     "iopub.execute_input": "2024-10-25T20:29:22.677908Z",
     "iopub.status.busy": "2024-10-25T20:29:22.676341Z",
     "iopub.status.idle": "2024-10-25T20:29:41.108116Z",
     "shell.execute_reply": "2024-10-25T20:29:41.106120Z"
    }
   },
   "outputs": [
    {
     "name": "stdout",
     "output_type": "stream",
     "text": [
      "Stored 'summary_data' (SummaryData)\n"
     ]
    }
   ],
   "source": [
    "#| include: false\n",
    "\n",
    "import os\n",
    "import pandas as pd\n",
    "import numpy as np\n",
    "# import plotly.express as px\n",
    "import toml\n",
    "# import psrc_theme\n",
    "from pathlib import Path\n",
    "import util\n",
    "\n",
    "# to show plotly figures in quarto HTML file\n",
    "# import plotly.io as pio\n",
    "# pio.renderers.default = \"plotly_mimetype+notebook_connected\"\n",
    "# pio.templates.default = \"simple_white+psrc_color\" # set plotly template\n",
    "\n",
    "config = toml.load(Path('../../../../configuration')/'summary_configuration.toml')\n",
    "\n",
    "# read all summary data files\n",
    "summary_data = util.SummaryData(config)\n",
    "\n",
    "%store summary_data"
   ]
  },
  {
   "cell_type": "code",
   "execution_count": 2,
   "metadata": {
    "execution": {
     "iopub.execute_input": "2024-10-25T20:29:41.146564Z",
     "iopub.status.busy": "2024-10-25T20:29:41.145566Z",
     "iopub.status.idle": "2024-10-25T20:29:41.561183Z",
     "shell.execute_reply": "2024-10-25T20:29:41.560185Z"
    }
   },
   "outputs": [],
   "source": [
    "# VMT, VHT and delay\n",
    "df_network = summary_data.network_summary.copy()"
   ]
  },
  {
   "cell_type": "code",
   "execution_count": 3,
   "metadata": {
    "execution": {
     "iopub.execute_input": "2024-10-25T20:29:41.573150Z",
     "iopub.status.busy": "2024-10-25T20:29:41.572152Z",
     "iopub.status.idle": "2024-10-25T20:29:41.624305Z",
     "shell.execute_reply": "2024-10-25T20:29:41.623623Z"
    }
   },
   "outputs": [
    {
     "name": "stderr",
     "output_type": "stream",
     "text": [
      "C:\\Users\\Modeller\\AppData\\Local\\Temp\\ipykernel_25364\\4235094857.py:5: FutureWarning: The default value of numeric_only in DataFrameGroupBy.sum is deprecated. In a future version, numeric_only will default to False. Either specify numeric_only or select only columns which should be valid for the function.\n",
      "  df_mode = df_trip.groupby('mode').sum()[['trexpfac']]/df_trip['trexpfac'].sum()\n",
      "C:\\Users\\Modeller\\AppData\\Local\\Temp\\ipykernel_25364\\4235094857.py:9: FutureWarning: The default value of numeric_only in DataFrameGroupBy.sum is deprecated. In a future version, numeric_only will default to False. Either specify numeric_only or select only columns which should be valid for the function.\n",
      "  df_emissions = df.groupby('pollutant_name').sum()\n"
     ]
    }
   ],
   "source": [
    "# transit boardings\n",
    "df_daily_boardings_by_agency = pd.read_csv(Path(config['output_path'])/'transit/daily_boardings_by_agency.csv', index_col='agency_name')\n",
    "# mode share\n",
    "df_trip = pd.read_csv(Path(config['output_path'])/'agg/dash/mode_share_county.csv')\n",
    "df_mode = df_trip.groupby('mode').sum()[['trexpfac']]/df_trip['trexpfac'].sum()\n",
    "# emission\n",
    "df_emissions_summary = pd.read_csv(Path(config['output_path'])/'emissions/emissions_summary.csv')\n",
    "df = df_emissions_summary[df_emissions_summary['veh_type'].isin(['light','medium','heavy'])]\n",
    "df_emissions = df.groupby('pollutant_name').sum()"
   ]
  },
  {
   "cell_type": "code",
   "execution_count": 9,
   "metadata": {
    "execution": {
     "iopub.execute_input": "2024-10-25T20:29:41.629044Z",
     "iopub.status.busy": "2024-10-25T20:29:41.628527Z",
     "iopub.status.idle": "2024-10-25T20:29:42.829345Z",
     "shell.execute_reply": "2024-10-25T20:29:42.827350Z"
    }
   },
   "outputs": [
    {
     "data": {
      "text/html": [
       "<style type=\"text/css\">\n",
       "</style>\n",
       "<table id=\"T_9702d\">\n",
       "  <thead>\n",
       "    <tr>\n",
       "      <th id=\"T_9702d_level0_col0\" class=\"col_heading level0 col0\" >VMT</th>\n",
       "      <th id=\"T_9702d_level0_col1\" class=\"col_heading level0 col1\" >VHT</th>\n",
       "      <th id=\"T_9702d_level0_col2\" class=\"col_heading level0 col2\" >Delay</th>\n",
       "      <th id=\"T_9702d_level0_col3\" class=\"col_heading level0 col3\" >Transit Boardings</th>\n",
       "      <th id=\"T_9702d_level0_col4\" class=\"col_heading level0 col4\" >% Transit</th>\n",
       "      <th id=\"T_9702d_level0_col5\" class=\"col_heading level0 col5\" >CO2e</th>\n",
       "    </tr>\n",
       "  </thead>\n",
       "  <tbody>\n",
       "    <tr>\n",
       "      <td id=\"T_9702d_row0_col0\" class=\"data row0 col0\" >74,794,942</td>\n",
       "      <td id=\"T_9702d_row0_col1\" class=\"data row0 col1\" >2,216,555</td>\n",
       "      <td id=\"T_9702d_row0_col2\" class=\"data row0 col2\" >195,921</td>\n",
       "      <td id=\"T_9702d_row0_col3\" class=\"data row0 col3\" >480,586</td>\n",
       "      <td id=\"T_9702d_row0_col4\" class=\"data row0 col4\" >2.0%</td>\n",
       "      <td id=\"T_9702d_row0_col5\" class=\"data row0 col5\" >41,543</td>\n",
       "    </tr>\n",
       "  </tbody>\n",
       "</table>\n"
      ],
      "text/plain": [
       "<pandas.io.formats.style.Styler at 0x15addd72a40>"
      ]
     },
     "execution_count": 9,
     "metadata": {},
     "output_type": "execute_result"
    }
   ],
   "source": [
    "data = {'VMT':               [df_network['VMT'].sum()],\n",
    "        'VHT':               [df_network['VHT'].sum()],\n",
    "        'Delay':             [df_network['total_delay'].sum()],\n",
    "        'Transit Boardings': [df_daily_boardings_by_agency['boardings'].sum()],\n",
    "        '% Transit':         [df_mode.loc['Transit']['trexpfac']],\n",
    "        'CO2e':              [df_emissions.loc['CO2 Equivalent']['total_daily_tons']]}\n",
    "\n",
    "# Create DataFrame\n",
    "pd.DataFrame(data).style.\\\n",
    "        format('{:,.0f}', subset=['VMT','VHT','Delay','Transit Boardings','CO2e']).\\\n",
    "        format('{:.1%}', subset=['% Transit']).\\\n",
    "        hide(axis=\"index\")\n"
   ]
  }
 ],
 "metadata": {
  "kernelspec": {
   "display_name": "build_notebook",
   "language": "python",
   "name": "python3"
  },
  "language_info": {
   "codemirror_mode": {
    "name": "ipython",
    "version": 3
   },
   "file_extension": ".py",
   "mimetype": "text/x-python",
   "name": "python",
   "nbconvert_exporter": "python",
   "pygments_lexer": "ipython3",
   "version": "3.10.15"
  }
 },
 "nbformat": 4,
 "nbformat_minor": 2
}
