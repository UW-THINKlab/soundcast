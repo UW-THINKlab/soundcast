{
 "cells": [
  {
   "cell_type": "raw",
   "metadata": {
    "vscode": {
     "languageId": "raw"
    }
   },
   "source": [
    "---\n",
    "title: \"Summary\"\n",
    "date: today\n",
    "---"
   ]
  },
  {
   "cell_type": "code",
   "execution_count": 1,
   "metadata": {
    "execution": {
     "iopub.execute_input": "2025-03-01T06:59:35.888830Z",
     "iopub.status.busy": "2025-03-01T06:59:35.886835Z",
     "iopub.status.idle": "2025-03-01T06:59:36.976475Z",
     "shell.execute_reply": "2025-03-01T06:59:36.974481Z"
    }
   },
   "outputs": [],
   "source": [
    "#| include: false\n",
    "\n",
    "import os\n",
    "import pandas as pd\n",
    "import numpy as np\n",
    "# import plotly.express as px\n",
    "import toml\n",
    "# import psrc_theme\n",
    "from pathlib import Path\n",
    "import summary_data\n",
    "\n",
    "# to show plotly figures in quarto HTML file\n",
    "# import plotly.io as pio\n",
    "# pio.renderers.default = \"plotly_mimetype+notebook_connected\"\n",
    "# pio.templates.default = \"simple_white+psrc_color\" # set plotly template\n",
    "\n",
    "config = summary_data.CONFIG\n",
    "all_runs = summary_data.ALL_RUNS"
   ]
  },
  {
   "cell_type": "code",
   "execution_count": 2,
   "metadata": {},
   "outputs": [],
   "source": [
    "# all_runs"
   ]
  },
  {
   "cell_type": "markdown",
   "metadata": {},
   "source": [
    "- run locations"
   ]
  },
  {
   "cell_type": "code",
   "execution_count": 3,
   "metadata": {
    "execution": {
     "iopub.execute_input": "2025-03-01T06:59:36.989440Z",
     "iopub.status.busy": "2025-03-01T06:59:36.988443Z",
     "iopub.status.idle": "2025-03-01T06:59:37.039307Z",
     "shell.execute_reply": "2025-03-01T06:59:37.037313Z"
    }
   },
   "outputs": [
    {
     "data": {
      "text/html": [
       "<div>\n",
       "<style scoped>\n",
       "    .dataframe tbody tr th:only-of-type {\n",
       "        vertical-align: middle;\n",
       "    }\n",
       "\n",
       "    .dataframe tbody tr th {\n",
       "        vertical-align: top;\n",
       "    }\n",
       "\n",
       "    .dataframe thead th {\n",
       "        text-align: right;\n",
       "    }\n",
       "</style>\n",
       "<table border=\"1\" class=\"dataframe\">\n",
       "  <thead>\n",
       "    <tr style=\"text-align: right;\">\n",
       "      <th></th>\n",
       "      <th>run location</th>\n",
       "    </tr>\n",
       "  </thead>\n",
       "  <tbody>\n",
       "    <tr>\n",
       "      <th>current run</th>\n",
       "      <td>..\\..\\..\\..</td>\n",
       "    </tr>\n",
       "    <tr>\n",
       "      <th>2050 update (lower WFH and no telecommute)</th>\n",
       "      <td>\\\\modelstation1\\c$\\workspace\\sc_2050_base_year...</td>\n",
       "    </tr>\n",
       "    <tr>\n",
       "      <th>2050 update</th>\n",
       "      <td>\\\\modelstation1\\c$\\workspace\\sc_2050_with_2023...</td>\n",
       "    </tr>\n",
       "    <tr>\n",
       "      <th>2050 RTP</th>\n",
       "      <td>L:\\RTP_2022\\final_runs\\sc_rtp_2050_constrained...</td>\n",
       "    </tr>\n",
       "  </tbody>\n",
       "</table>\n",
       "</div>"
      ],
      "text/plain": [
       "                                                                                 run location\n",
       "current run                                                                       ..\\..\\..\\..\n",
       "2050 update (lower WFH and no telecommute)  \\\\modelstation1\\c$\\workspace\\sc_2050_base_year...\n",
       "2050 update                                 \\\\modelstation1\\c$\\workspace\\sc_2050_with_2023...\n",
       "2050 RTP                                    L:\\RTP_2022\\final_runs\\sc_rtp_2050_constrained..."
      ]
     },
     "execution_count": 3,
     "metadata": {},
     "output_type": "execute_result"
    }
   ],
   "source": [
    "pd.DataFrame.from_dict(all_runs, orient='index',\n",
    "                       columns=['run location'])"
   ]
  },
  {
   "cell_type": "markdown",
   "metadata": {},
   "source": [
    "## System Summary"
   ]
  },
  {
   "cell_type": "code",
   "execution_count": 4,
   "metadata": {},
   "outputs": [],
   "source": [
    "# network summary: 'VMT','VHT','total_delay'\n",
    "df_network = summary_data.load_agg_data('network/network_results.csv')"
   ]
  },
  {
   "cell_type": "code",
   "execution_count": 5,
   "metadata": {},
   "outputs": [],
   "source": [
    "# Get light rail boardings\n",
    "df_boardings = summary_data.load_agg_data('transit/daily_boardings_by_agency.csv')"
   ]
  },
  {
   "cell_type": "code",
   "execution_count": 9,
   "metadata": {
    "execution": {
     "iopub.execute_input": "2025-03-01T06:59:37.102361Z",
     "iopub.status.busy": "2025-03-01T06:59:37.100367Z",
     "iopub.status.idle": "2025-03-01T07:00:09.646705Z",
     "shell.execute_reply": "2025-03-01T07:00:09.644678Z"
    }
   },
   "outputs": [],
   "source": [
    "network_summary = df_network.groupby('source')[['VMT','VHT','total_delay']].sum()\n",
    "network_summary = network_summary.rename(columns={'total_delay': 'Delay'})\n",
    "# transit boardings\n",
    "df_boardings = summary_data.load_agg_data('transit/daily_boardings_by_agency.csv')\n",
    "transit_ridership = df_boardings.groupby('source')['boardings'].sum()\n",
    "#Light rail boardings\n",
    "df_line_boardings = summary_data.load_agg_data('transit/transit_line_results.csv')\n",
    "lr_boardings = df_line_boardings[df_line_boardings['mode']=='r']\n",
    "lr_ridership = lr_boardings.groupby('source')['boardings'].sum()\n",
    "# mode share\n",
    "df_trip = summary_data.load_agg_data('agg/dash/mode_share_county.csv')\n",
    "df = df_trip.groupby('source')['trexpfac'].sum() # total trips\n",
    "transit_share = df_trip.loc[df_trip['mode']==\"Transit\"].groupby('source')['trexpfac'].sum()/df\n",
    "\n",
    "# emission\n",
    "df_emissions = summary_data.load_agg_data('emissions/emissions_summary.csv')\n",
    "df = df_emissions.loc[(df_emissions['veh_type'].isin(['light','medium','heavy'])) & \\\n",
    "                      (df_emissions['pollutant_name']==\"CO2 Equivalent\")].copy()\n",
    "CO2e = df.groupby('source')['total_daily_tons'].sum()"
   ]
  },
  {
   "cell_type": "code",
   "execution_count": 10,
   "metadata": {},
   "outputs": [
    {
     "data": {
      "text/html": [
       "<style  type=\"text/css\" >\n",
       "</style><table id=\"T_7b9fd_\" ><thead>    <tr>        <th class=\"blank level0\" ></th>        <th class=\"col_heading level0 col0\" >VMT</th>        <th class=\"col_heading level0 col1\" >VHT</th>        <th class=\"col_heading level0 col2\" >Delay</th>        <th class=\"col_heading level0 col3\" >Transit Boardings</th>        <th class=\"col_heading level0 col4\" >Light Rail Boardings</th>        <th class=\"col_heading level0 col5\" >% Transit</th>        <th class=\"col_heading level0 col6\" >CO2e</th>    </tr>    <tr>        <th class=\"index_name level0\" >source</th>        <th class=\"blank\" ></th>        <th class=\"blank\" ></th>        <th class=\"blank\" ></th>        <th class=\"blank\" ></th>        <th class=\"blank\" ></th>        <th class=\"blank\" ></th>        <th class=\"blank\" ></th>    </tr></thead><tbody>\n",
       "                <tr>\n",
       "                        <th id=\"T_7b9fd_level0_row0\" class=\"row_heading level0 row0\" >2050 RTP</th>\n",
       "                        <td id=\"T_7b9fd_row0_col0\" class=\"data row0 col0\" >106,132,676</td>\n",
       "                        <td id=\"T_7b9fd_row0_col1\" class=\"data row0 col1\" >3,547,251</td>\n",
       "                        <td id=\"T_7b9fd_row0_col2\" class=\"data row0 col2\" >619,306</td>\n",
       "                        <td id=\"T_7b9fd_row0_col3\" class=\"data row0 col3\" >2,333,391</td>\n",
       "                        <td id=\"T_7b9fd_row0_col4\" class=\"data row0 col4\" >783,454</td>\n",
       "                        <td id=\"T_7b9fd_row0_col5\" class=\"data row0 col5\" >6.2%</td>\n",
       "                        <td id=\"T_7b9fd_row0_col6\" class=\"data row0 col6\" >37,682</td>\n",
       "            </tr>\n",
       "            <tr>\n",
       "                        <th id=\"T_7b9fd_level0_row1\" class=\"row_heading level0 row1\" >2050 update</th>\n",
       "                        <td id=\"T_7b9fd_row1_col0\" class=\"data row1 col0\" >97,332,812</td>\n",
       "                        <td id=\"T_7b9fd_row1_col1\" class=\"data row1 col1\" >3,066,138</td>\n",
       "                        <td id=\"T_7b9fd_row1_col2\" class=\"data row1 col2\" >356,300</td>\n",
       "                        <td id=\"T_7b9fd_row1_col3\" class=\"data row1 col3\" >1,338,012</td>\n",
       "                        <td id=\"T_7b9fd_row1_col4\" class=\"data row1 col4\" >394,811</td>\n",
       "                        <td id=\"T_7b9fd_row1_col5\" class=\"data row1 col5\" >4.4%</td>\n",
       "                        <td id=\"T_7b9fd_row1_col6\" class=\"data row1 col6\" >34,533</td>\n",
       "            </tr>\n",
       "            <tr>\n",
       "                        <th id=\"T_7b9fd_level0_row2\" class=\"row_heading level0 row2\" >2050 update (lower WFH and no telecommute)</th>\n",
       "                        <td id=\"T_7b9fd_row2_col0\" class=\"data row2 col0\" >102,521,097</td>\n",
       "                        <td id=\"T_7b9fd_row2_col1\" class=\"data row2 col1\" >3,311,479</td>\n",
       "                        <td id=\"T_7b9fd_row2_col2\" class=\"data row2 col2\" >431,951</td>\n",
       "                        <td id=\"T_7b9fd_row2_col3\" class=\"data row2 col3\" >1,412,193</td>\n",
       "                        <td id=\"T_7b9fd_row2_col4\" class=\"data row2 col4\" >421,104</td>\n",
       "                        <td id=\"T_7b9fd_row2_col5\" class=\"data row2 col5\" >4.2%</td>\n",
       "                        <td id=\"T_7b9fd_row2_col6\" class=\"data row2 col6\" >36,264</td>\n",
       "            </tr>\n",
       "            <tr>\n",
       "                        <th id=\"T_7b9fd_level0_row3\" class=\"row_heading level0 row3\" >current run</th>\n",
       "                        <td id=\"T_7b9fd_row3_col0\" class=\"data row3 col0\" >82,983,139</td>\n",
       "                        <td id=\"T_7b9fd_row3_col1\" class=\"data row3 col1\" >2,557,051</td>\n",
       "                        <td id=\"T_7b9fd_row3_col2\" class=\"data row3 col2\" >239,416</td>\n",
       "                        <td id=\"T_7b9fd_row3_col3\" class=\"data row3 col3\" >485,465</td>\n",
       "                        <td id=\"T_7b9fd_row3_col4\" class=\"data row3 col4\" >92,876</td>\n",
       "                        <td id=\"T_7b9fd_row3_col5\" class=\"data row3 col5\" >2.1%</td>\n",
       "                        <td id=\"T_7b9fd_row3_col6\" class=\"data row3 col6\" >41,738</td>\n",
       "            </tr>\n",
       "    </tbody></table>"
      ],
      "text/plain": [
       "<pandas.io.formats.style.Styler at 0x27b3d1207c8>"
      ]
     },
     "execution_count": 10,
     "metadata": {},
     "output_type": "execute_result"
    }
   ],
   "source": [
    "run_summary2 = pd.DataFrame({\n",
    "    'Transit Boardings': transit_ridership,\n",
    "    'Light Rail Boardings': lr_ridership,\n",
    "    '% Transit': transit_share,\n",
    "    'CO2e': CO2e\n",
    "})\n",
    "\n",
    "pd.concat([network_summary,run_summary2], axis=1).style.\\\n",
    "        format('{:,.0f}', subset=['VMT','VHT','Delay','Transit Boardings','Light Rail Boardings','CO2e']).\\\n",
    "        format('{:.1%}', subset=['% Transit'])"
   ]
  },
  {
   "cell_type": "code",
   "execution_count": 8,
   "metadata": {},
   "outputs": [],
   "source": [
    "# # Populations near HCT and frequent transit\n",
    "# df_time = pd.read_csv(r'../../../../outputs/agg/dash/trip_time_total.csv')\n",
    "# df_ff = pd.read_csv(r'../../../../outputs/agg/dash/trip_sov_ff_time.csv')\n",
    "# hh = pd.read_csv(r'../../../../outputs/agg/dash/hh_transit_dist.csv')\n",
    "# person = pd.read_csv(r'../../../../outputs/agg/dash/person_transit_type.csv')"
   ]
  },
  {
   "cell_type": "markdown",
   "metadata": {},
   "source": [
    "## Land Use"
   ]
  },
  {
   "cell_type": "code",
   "execution_count": 9,
   "metadata": {},
   "outputs": [],
   "source": [
    "# Land Use Summary\n",
    "df_parcels = summary_data.load_landuse('landuse/parcels_urbansim.txt')"
   ]
  },
  {
   "cell_type": "code",
   "execution_count": 10,
   "metadata": {},
   "outputs": [
    {
     "data": {
      "text/html": [
       "<style  type=\"text/css\" >\n",
       "</style><table id=\"T_003f7_\" ><thead>    <tr>        <th class=\"blank level0\" ></th>        <th class=\"col_heading level0 col0\" >Households</th>        <th class=\"col_heading level0 col1\" >Jobs</th>    </tr>    <tr>        <th class=\"index_name level0\" >source</th>        <th class=\"blank\" ></th>        <th class=\"blank\" ></th>    </tr></thead><tbody>\n",
       "                <tr>\n",
       "                        <th id=\"T_003f7_level0_row0\" class=\"row_heading level0 row0\" >2050 RTP</th>\n",
       "                        <td id=\"T_003f7_row0_col0\" class=\"data row0 col0\" >2,422,603</td>\n",
       "                        <td id=\"T_003f7_row0_col1\" class=\"data row0 col1\" >3,186,523</td>\n",
       "            </tr>\n",
       "            <tr>\n",
       "                        <th id=\"T_003f7_level0_row1\" class=\"row_heading level0 row1\" >2050 update</th>\n",
       "                        <td id=\"T_003f7_row1_col0\" class=\"data row1 col0\" >2,421,059</td>\n",
       "                        <td id=\"T_003f7_row1_col1\" class=\"data row1 col1\" >3,161,923</td>\n",
       "            </tr>\n",
       "            <tr>\n",
       "                        <th id=\"T_003f7_level0_row2\" class=\"row_heading level0 row2\" >2050 update (lower WFH and no telecommute)</th>\n",
       "                        <td id=\"T_003f7_row2_col0\" class=\"data row2 col0\" >2,421,059</td>\n",
       "                        <td id=\"T_003f7_row2_col1\" class=\"data row2 col1\" >3,161,923</td>\n",
       "            </tr>\n",
       "            <tr>\n",
       "                        <th id=\"T_003f7_level0_row3\" class=\"row_heading level0 row3\" >current run</th>\n",
       "                        <td id=\"T_003f7_row3_col0\" class=\"data row3 col0\" >1,736,129</td>\n",
       "                        <td id=\"T_003f7_row3_col1\" class=\"data row3 col1\" >2,190,946</td>\n",
       "            </tr>\n",
       "    </tbody></table>"
      ],
      "text/plain": [
       "<pandas.io.formats.style.Styler at 0x204f2841f48>"
      ]
     },
     "execution_count": 10,
     "metadata": {},
     "output_type": "execute_result"
    }
   ],
   "source": [
    "# Summarize households and total jobs\n",
    "df_pivot = pd.pivot_table(df_parcels, index='source', values=['hh_p','emptot_p'], aggfunc='sum')\n",
    "df_pivot.rename(columns={'hh_p': 'Households', 'emptot_p':'Jobs'}, inplace=True)\n",
    "# df_pivot = df_pivot.style.format('{:,.f}')\n",
    "df_pivot[['Households','Jobs']].style.format('{:,.0f}')"
   ]
  },
  {
   "cell_type": "code",
   "execution_count": 11,
   "metadata": {},
   "outputs": [],
   "source": [
    "# Summarize jobs by sector\n",
    "# df.columns"
   ]
  },
  {
   "cell_type": "markdown",
   "metadata": {},
   "source": [
    "#### Jobs by Sector"
   ]
  },
  {
   "cell_type": "code",
   "execution_count": 12,
   "metadata": {},
   "outputs": [
    {
     "data": {
      "text/html": [
       "<style  type=\"text/css\" >\n",
       "</style><table id=\"T_82e64_\" ><thead>    <tr>        <th class=\"blank level0\" ></th>        <th class=\"col_heading level0 col0\" >Education</th>        <th class=\"col_heading level0 col1\" >Food</th>        <th class=\"col_heading level0 col2\" >Government</th>        <th class=\"col_heading level0 col3\" >Industrial</th>        <th class=\"col_heading level0 col4\" >Medical</th>        <th class=\"col_heading level0 col5\" >Office</th>        <th class=\"col_heading level0 col6\" >Other</th>        <th class=\"col_heading level0 col7\" >Retail</th>        <th class=\"col_heading level0 col8\" >Resource</th>        <th class=\"col_heading level0 col9\" >Service</th>    </tr>    <tr>        <th class=\"index_name level0\" >source</th>        <th class=\"blank\" ></th>        <th class=\"blank\" ></th>        <th class=\"blank\" ></th>        <th class=\"blank\" ></th>        <th class=\"blank\" ></th>        <th class=\"blank\" ></th>        <th class=\"blank\" ></th>        <th class=\"blank\" ></th>        <th class=\"blank\" ></th>        <th class=\"blank\" ></th>    </tr></thead><tbody>\n",
       "                <tr>\n",
       "                        <th id=\"T_82e64_level0_row0\" class=\"row_heading level0 row0\" >2050 RTP</th>\n",
       "                        <td id=\"T_82e64_row0_col0\" class=\"data row0 col0\" >282,038</td>\n",
       "                        <td id=\"T_82e64_row0_col1\" class=\"data row0 col1\" >269,830</td>\n",
       "                        <td id=\"T_82e64_row0_col2\" class=\"data row0 col2\" >220,584</td>\n",
       "                        <td id=\"T_82e64_row0_col3\" class=\"data row0 col3\" >367,503</td>\n",
       "                        <td id=\"T_82e64_row0_col4\" class=\"data row0 col4\" >358,855</td>\n",
       "                        <td id=\"T_82e64_row0_col5\" class=\"data row0 col5\" >924,772</td>\n",
       "                        <td id=\"T_82e64_row0_col6\" class=\"data row0 col6\" >162,475</td>\n",
       "                        <td id=\"T_82e64_row0_col7\" class=\"data row0 col7\" >379,308</td>\n",
       "                        <td id=\"T_82e64_row0_col8\" class=\"data row0 col8\" >0</td>\n",
       "                        <td id=\"T_82e64_row0_col9\" class=\"data row0 col9\" >221,158</td>\n",
       "            </tr>\n",
       "            <tr>\n",
       "                        <th id=\"T_82e64_level0_row1\" class=\"row_heading level0 row1\" >2050 update</th>\n",
       "                        <td id=\"T_82e64_row1_col0\" class=\"data row1 col0\" >287,539</td>\n",
       "                        <td id=\"T_82e64_row1_col1\" class=\"data row1 col1\" >270,522</td>\n",
       "                        <td id=\"T_82e64_row1_col2\" class=\"data row1 col2\" >179,539</td>\n",
       "                        <td id=\"T_82e64_row1_col3\" class=\"data row1 col3\" >369,405</td>\n",
       "                        <td id=\"T_82e64_row1_col4\" class=\"data row1 col4\" >359,833</td>\n",
       "                        <td id=\"T_82e64_row1_col5\" class=\"data row1 col5\" >923,858</td>\n",
       "                        <td id=\"T_82e64_row1_col6\" class=\"data row1 col6\" >163,738</td>\n",
       "                        <td id=\"T_82e64_row1_col7\" class=\"data row1 col7\" >386,158</td>\n",
       "                        <td id=\"T_82e64_row1_col8\" class=\"data row1 col8\" >0</td>\n",
       "                        <td id=\"T_82e64_row1_col9\" class=\"data row1 col9\" >221,331</td>\n",
       "            </tr>\n",
       "            <tr>\n",
       "                        <th id=\"T_82e64_level0_row2\" class=\"row_heading level0 row2\" >2050 update (lower WFH and no telecommute)</th>\n",
       "                        <td id=\"T_82e64_row2_col0\" class=\"data row2 col0\" >287,539</td>\n",
       "                        <td id=\"T_82e64_row2_col1\" class=\"data row2 col1\" >270,522</td>\n",
       "                        <td id=\"T_82e64_row2_col2\" class=\"data row2 col2\" >179,539</td>\n",
       "                        <td id=\"T_82e64_row2_col3\" class=\"data row2 col3\" >369,405</td>\n",
       "                        <td id=\"T_82e64_row2_col4\" class=\"data row2 col4\" >359,833</td>\n",
       "                        <td id=\"T_82e64_row2_col5\" class=\"data row2 col5\" >923,858</td>\n",
       "                        <td id=\"T_82e64_row2_col6\" class=\"data row2 col6\" >163,738</td>\n",
       "                        <td id=\"T_82e64_row2_col7\" class=\"data row2 col7\" >386,158</td>\n",
       "                        <td id=\"T_82e64_row2_col8\" class=\"data row2 col8\" >0</td>\n",
       "                        <td id=\"T_82e64_row2_col9\" class=\"data row2 col9\" >221,331</td>\n",
       "            </tr>\n",
       "            <tr>\n",
       "                        <th id=\"T_82e64_level0_row3\" class=\"row_heading level0 row3\" >current run</th>\n",
       "                        <td id=\"T_82e64_row3_col0\" class=\"data row3 col0\" >167,143</td>\n",
       "                        <td id=\"T_82e64_row3_col1\" class=\"data row3 col1\" >157,285</td>\n",
       "                        <td id=\"T_82e64_row3_col2\" class=\"data row3 col2\" >222,537</td>\n",
       "                        <td id=\"T_82e64_row3_col3\" class=\"data row3 col3\" >341,587</td>\n",
       "                        <td id=\"T_82e64_row3_col4\" class=\"data row3 col4\" >242,463</td>\n",
       "                        <td id=\"T_82e64_row3_col5\" class=\"data row3 col5\" >582,273</td>\n",
       "                        <td id=\"T_82e64_row3_col6\" class=\"data row3 col6\" >155,306</td>\n",
       "                        <td id=\"T_82e64_row3_col7\" class=\"data row3 col7\" >176,184</td>\n",
       "                        <td id=\"T_82e64_row3_col8\" class=\"data row3 col8\" >0</td>\n",
       "                        <td id=\"T_82e64_row3_col9\" class=\"data row3 col9\" >146,168</td>\n",
       "            </tr>\n",
       "    </tbody></table>"
      ],
      "text/plain": [
       "<pandas.io.formats.style.Styler at 0x204f282a788>"
      ]
     },
     "execution_count": 12,
     "metadata": {},
     "output_type": "execute_result"
    }
   ],
   "source": [
    "df_pivot = pd.pivot_table(df_parcels, index='source', \n",
    "                          values=['empedu_p', 'empfoo_p', 'empgov_p', 'empind_p', 'empmed_p',\n",
    "                                'empofc_p', 'empoth_p', 'empret_p', 'emprsc_p', 'empsvc_p'], \n",
    "                           aggfunc='sum')\n",
    "df_pivot.rename(columns={'empedu_p': 'Education', 'empfoo_p':'Food', 'empgov_p':'Government',\n",
    "                         'empind_p':'Industrial', 'empmed_p':'Medical', 'empofc_p':'Office',\n",
    "                         'empoth_p':'Other', 'empret_p':'Retail', 'emprsc_p':'Resource', 'empsvc_p':'Service'}, inplace=True)\n",
    "df_pivot.style.format('{:,.0f}')"
   ]
  },
  {
   "cell_type": "markdown",
   "metadata": {},
   "source": [
    "#### Student Enrollment"
   ]
  },
  {
   "cell_type": "code",
   "execution_count": 13,
   "metadata": {},
   "outputs": [
    {
     "data": {
      "text/html": [
       "<style  type=\"text/css\" >\n",
       "</style><table id=\"T_f5b3d_\" ><thead>    <tr>        <th class=\"blank level0\" ></th>        <th class=\"col_heading level0 col0\" >Grade School</th>        <th class=\"col_heading level0 col1\" >High School</th>        <th class=\"col_heading level0 col2\" >College</th>    </tr>    <tr>        <th class=\"index_name level0\" >source</th>        <th class=\"blank\" ></th>        <th class=\"blank\" ></th>        <th class=\"blank\" ></th>    </tr></thead><tbody>\n",
       "                <tr>\n",
       "                        <th id=\"T_f5b3d_level0_row0\" class=\"row_heading level0 row0\" >2050 RTP</th>\n",
       "                        <td id=\"T_f5b3d_row0_col0\" class=\"data row0 col0\" >517,319</td>\n",
       "                        <td id=\"T_f5b3d_row0_col1\" class=\"data row0 col1\" >206,601</td>\n",
       "                        <td id=\"T_f5b3d_row0_col2\" class=\"data row0 col2\" >224,710</td>\n",
       "            </tr>\n",
       "            <tr>\n",
       "                        <th id=\"T_f5b3d_level0_row1\" class=\"row_heading level0 row1\" >2050 update</th>\n",
       "                        <td id=\"T_f5b3d_row1_col0\" class=\"data row1 col0\" >442,413</td>\n",
       "                        <td id=\"T_f5b3d_row1_col1\" class=\"data row1 col1\" >211,261</td>\n",
       "                        <td id=\"T_f5b3d_row1_col2\" class=\"data row1 col2\" >136,681</td>\n",
       "            </tr>\n",
       "            <tr>\n",
       "                        <th id=\"T_f5b3d_level0_row2\" class=\"row_heading level0 row2\" >2050 update (lower WFH and no telecommute)</th>\n",
       "                        <td id=\"T_f5b3d_row2_col0\" class=\"data row2 col0\" >442,413</td>\n",
       "                        <td id=\"T_f5b3d_row2_col1\" class=\"data row2 col1\" >211,261</td>\n",
       "                        <td id=\"T_f5b3d_row2_col2\" class=\"data row2 col2\" >136,681</td>\n",
       "            </tr>\n",
       "            <tr>\n",
       "                        <th id=\"T_f5b3d_level0_row3\" class=\"row_heading level0 row3\" >current run</th>\n",
       "                        <td id=\"T_f5b3d_row3_col0\" class=\"data row3 col0\" >442,413</td>\n",
       "                        <td id=\"T_f5b3d_row3_col1\" class=\"data row3 col1\" >211,261</td>\n",
       "                        <td id=\"T_f5b3d_row3_col2\" class=\"data row3 col2\" >136,681</td>\n",
       "            </tr>\n",
       "    </tbody></table>"
      ],
      "text/plain": [
       "<pandas.io.formats.style.Styler at 0x204f2849348>"
      ]
     },
     "execution_count": 13,
     "metadata": {},
     "output_type": "execute_result"
    }
   ],
   "source": [
    "# Students by grade level\n",
    "df_pivot = pd.pivot_table(df_parcels, index='source', \n",
    "                          values=['stugrd_p', 'stuhgh_p', 'stuuni_p'], \n",
    "                           aggfunc='sum')\n",
    "df_pivot.rename(columns={'stugrd_p': 'Grade School', 'stuhgh_p':'High School', 'stuuni_p':'College'}, inplace=True)\n",
    "df_pivot.style.format('{:,.0f}')"
   ]
  },
  {
   "cell_type": "code",
   "execution_count": 14,
   "metadata": {},
   "outputs": [],
   "source": [
    "# Join parcel lookup data to parcel files to do some county and district summaries\n",
    "# Load parcel geography lookup from soundcast db\n",
    "import sqlite3\n",
    "conn = sqlite3.connect(r'../../../../inputs/db/soundcast_inputs_2023.db')\n",
    "df_geog_lookup = pd.read_sql_query(\"SELECT ParcelID, CountyName, district_name FROM parcel_2023_geography\", conn)"
   ]
  },
  {
   "cell_type": "code",
   "execution_count": 15,
   "metadata": {},
   "outputs": [],
   "source": [
    "# Merge lookup data to parcels\n",
    "df_parcels = df_parcels.merge(df_geog_lookup, left_on='parcelid', right_on='ParcelID', how='left')"
   ]
  },
  {
   "cell_type": "markdown",
   "metadata": {},
   "source": [
    "#### Total Employment by Distict"
   ]
  },
  {
   "cell_type": "code",
   "execution_count": 16,
   "metadata": {},
   "outputs": [
    {
     "data": {
      "text/html": [
       "<style  type=\"text/css\" >\n",
       "</style><table id=\"T_e2639_\" ><thead>    <tr>        <th class=\"index_name level0\" >source</th>        <th class=\"col_heading level0 col0\" >2050 RTP</th>        <th class=\"col_heading level0 col1\" >2050 update</th>        <th class=\"col_heading level0 col2\" >2050 update (lower WFH and no telecommute)</th>        <th class=\"col_heading level0 col3\" >current run</th>    </tr>    <tr>        <th class=\"index_name level0\" >CountyName</th>        <th class=\"blank\" ></th>        <th class=\"blank\" ></th>        <th class=\"blank\" ></th>        <th class=\"blank\" ></th>    </tr></thead><tbody>\n",
       "                <tr>\n",
       "                        <th id=\"T_e2639_level0_row0\" class=\"row_heading level0 row0\" >King</th>\n",
       "                        <td id=\"T_e2639_row0_col0\" class=\"data row0 col0\" >2,062,129</td>\n",
       "                        <td id=\"T_e2639_row0_col1\" class=\"data row0 col1\" >2,045,960</td>\n",
       "                        <td id=\"T_e2639_row0_col2\" class=\"data row0 col2\" >2,045,960</td>\n",
       "                        <td id=\"T_e2639_row0_col3\" class=\"data row0 col3\" >1,442,506</td>\n",
       "            </tr>\n",
       "            <tr>\n",
       "                        <th id=\"T_e2639_level0_row1\" class=\"row_heading level0 row1\" >Kitsap</th>\n",
       "                        <td id=\"T_e2639_row1_col0\" class=\"data row1 col0\" >138,251</td>\n",
       "                        <td id=\"T_e2639_row1_col1\" class=\"data row1 col1\" >147,942</td>\n",
       "                        <td id=\"T_e2639_row1_col2\" class=\"data row1 col2\" >147,942</td>\n",
       "                        <td id=\"T_e2639_row1_col3\" class=\"data row1 col3\" >92,707</td>\n",
       "            </tr>\n",
       "            <tr>\n",
       "                        <th id=\"T_e2639_level0_row2\" class=\"row_heading level0 row2\" >Outside Region</th>\n",
       "                        <td id=\"T_e2639_row2_col0\" class=\"data row2 col0\" >549</td>\n",
       "                        <td id=\"T_e2639_row2_col1\" class=\"data row2 col1\" >0</td>\n",
       "                        <td id=\"T_e2639_row2_col2\" class=\"data row2 col2\" >0</td>\n",
       "                        <td id=\"T_e2639_row2_col3\" class=\"data row2 col3\" >0</td>\n",
       "            </tr>\n",
       "            <tr>\n",
       "                        <th id=\"T_e2639_level0_row3\" class=\"row_heading level0 row3\" >Pierce</th>\n",
       "                        <td id=\"T_e2639_row3_col0\" class=\"data row3 col0\" >517,554</td>\n",
       "                        <td id=\"T_e2639_row3_col1\" class=\"data row3 col1\" >473,614</td>\n",
       "                        <td id=\"T_e2639_row3_col2\" class=\"data row3 col2\" >473,614</td>\n",
       "                        <td id=\"T_e2639_row3_col3\" class=\"data row3 col3\" >334,336</td>\n",
       "            </tr>\n",
       "            <tr>\n",
       "                        <th id=\"T_e2639_level0_row4\" class=\"row_heading level0 row4\" >Snohomish</th>\n",
       "                        <td id=\"T_e2639_row4_col0\" class=\"data row4 col0\" >468,040</td>\n",
       "                        <td id=\"T_e2639_row4_col1\" class=\"data row4 col1\" >494,407</td>\n",
       "                        <td id=\"T_e2639_row4_col2\" class=\"data row4 col2\" >494,407</td>\n",
       "                        <td id=\"T_e2639_row4_col3\" class=\"data row4 col3\" >321,397</td>\n",
       "            </tr>\n",
       "    </tbody></table>"
      ],
      "text/plain": [
       "<pandas.io.formats.style.Styler at 0x204ee9b3ac8>"
      ]
     },
     "execution_count": 16,
     "metadata": {},
     "output_type": "execute_result"
    }
   ],
   "source": [
    "# Group total employment by county and source\n",
    "df_pivot = pd.pivot_table(df_parcels, index='CountyName', columns='source', values='emptot_p', aggfunc='sum')\n",
    "df_pivot.style.format('{:,.0f}')"
   ]
  },
  {
   "cell_type": "markdown",
   "metadata": {},
   "source": [
    "#### Total Employment by Distict"
   ]
  },
  {
   "cell_type": "code",
   "execution_count": 17,
   "metadata": {},
   "outputs": [
    {
     "data": {
      "text/html": [
       "<style  type=\"text/css\" >\n",
       "</style><table id=\"T_c6e10_\" ><thead>    <tr>        <th class=\"index_name level0\" >source</th>        <th class=\"col_heading level0 col0\" >2050 RTP</th>        <th class=\"col_heading level0 col1\" >2050 update</th>        <th class=\"col_heading level0 col2\" >2050 update (lower WFH and no telecommute)</th>        <th class=\"col_heading level0 col3\" >current run</th>    </tr>    <tr>        <th class=\"index_name level0\" >district_name</th>        <th class=\"blank\" ></th>        <th class=\"blank\" ></th>        <th class=\"blank\" ></th>        <th class=\"blank\" ></th>    </tr></thead><tbody>\n",
       "                <tr>\n",
       "                        <th id=\"T_c6e10_level0_row0\" class=\"row_heading level0 row0\" >East Side</th>\n",
       "                        <td id=\"T_c6e10_row0_col0\" class=\"data row0 col0\" >693,197</td>\n",
       "                        <td id=\"T_c6e10_row0_col1\" class=\"data row0 col1\" >615,476</td>\n",
       "                        <td id=\"T_c6e10_row0_col2\" class=\"data row0 col2\" >615,476</td>\n",
       "                        <td id=\"T_c6e10_row0_col3\" class=\"data row0 col3\" >420,109</td>\n",
       "            </tr>\n",
       "            <tr>\n",
       "                        <th id=\"T_c6e10_level0_row1\" class=\"row_heading level0 row1\" >Everett-Lynwood-Edmonds</th>\n",
       "                        <td id=\"T_c6e10_row1_col0\" class=\"data row1 col0\" >125,550</td>\n",
       "                        <td id=\"T_c6e10_row1_col1\" class=\"data row1 col1\" >295,998</td>\n",
       "                        <td id=\"T_c6e10_row1_col2\" class=\"data row1 col2\" >295,998</td>\n",
       "                        <td id=\"T_c6e10_row1_col3\" class=\"data row1 col3\" >158,328</td>\n",
       "            </tr>\n",
       "            <tr>\n",
       "                        <th id=\"T_c6e10_level0_row2\" class=\"row_heading level0 row2\" >Kitsap</th>\n",
       "                        <td id=\"T_c6e10_row2_col0\" class=\"data row2 col0\" >138,252</td>\n",
       "                        <td id=\"T_c6e10_row2_col1\" class=\"data row2 col1\" >147,942</td>\n",
       "                        <td id=\"T_c6e10_row2_col2\" class=\"data row2 col2\" >147,942</td>\n",
       "                        <td id=\"T_c6e10_row2_col3\" class=\"data row2 col3\" >92,707</td>\n",
       "            </tr>\n",
       "            <tr>\n",
       "                        <th id=\"T_c6e10_level0_row3\" class=\"row_heading level0 row3\" >North Seattle-Shoreline</th>\n",
       "                        <td id=\"T_c6e10_row3_col0\" class=\"data row3 col0\" >296,871</td>\n",
       "                        <td id=\"T_c6e10_row3_col1\" class=\"data row3 col1\" >190,173</td>\n",
       "                        <td id=\"T_c6e10_row3_col2\" class=\"data row3 col2\" >190,173</td>\n",
       "                        <td id=\"T_c6e10_row3_col3\" class=\"data row3 col3\" >147,826</td>\n",
       "            </tr>\n",
       "            <tr>\n",
       "                        <th id=\"T_c6e10_level0_row4\" class=\"row_heading level0 row4\" >Renton-FedWay-Kent</th>\n",
       "                        <td id=\"T_c6e10_row4_col0\" class=\"data row4 col0\" >660,342</td>\n",
       "                        <td id=\"T_c6e10_row4_col1\" class=\"data row4 col1\" >531,467</td>\n",
       "                        <td id=\"T_c6e10_row4_col2\" class=\"data row4 col2\" >531,467</td>\n",
       "                        <td id=\"T_c6e10_row4_col3\" class=\"data row4 col3\" >343,930</td>\n",
       "            </tr>\n",
       "            <tr>\n",
       "                        <th id=\"T_c6e10_level0_row5\" class=\"row_heading level0 row5\" >S.Kitsap</th>\n",
       "                        <td id=\"T_c6e10_row5_col0\" class=\"data row5 col0\" >96,530</td>\n",
       "                        <td id=\"T_c6e10_row5_col1\" class=\"data row5 col1\" >23,537</td>\n",
       "                        <td id=\"T_c6e10_row5_col2\" class=\"data row5 col2\" >23,537</td>\n",
       "                        <td id=\"T_c6e10_row5_col3\" class=\"data row5 col3\" >19,990</td>\n",
       "            </tr>\n",
       "            <tr>\n",
       "                        <th id=\"T_c6e10_level0_row6\" class=\"row_heading level0 row6\" >Seattle CBD</th>\n",
       "                        <td id=\"T_c6e10_row6_col0\" class=\"data row6 col0\" >165,235</td>\n",
       "                        <td id=\"T_c6e10_row6_col1\" class=\"data row6 col1\" >509,268</td>\n",
       "                        <td id=\"T_c6e10_row6_col2\" class=\"data row6 col2\" >509,268</td>\n",
       "                        <td id=\"T_c6e10_row6_col3\" class=\"data row6 col3\" >394,252</td>\n",
       "            </tr>\n",
       "            <tr>\n",
       "                        <th id=\"T_c6e10_level0_row7\" class=\"row_heading level0 row7\" >South Pierce</th>\n",
       "                        <td id=\"T_c6e10_row7_col0\" class=\"data row7 col0\" >307,246</td>\n",
       "                        <td id=\"T_c6e10_row7_col1\" class=\"data row7 col1\" >220,779</td>\n",
       "                        <td id=\"T_c6e10_row7_col2\" class=\"data row7 col2\" >220,779</td>\n",
       "                        <td id=\"T_c6e10_row7_col3\" class=\"data row7 col3\" >167,286</td>\n",
       "            </tr>\n",
       "            <tr>\n",
       "                        <th id=\"T_c6e10_level0_row8\" class=\"row_heading level0 row8\" >Suburban Snohomish</th>\n",
       "                        <td id=\"T_c6e10_row8_col0\" class=\"data row8 col0\" >342,490</td>\n",
       "                        <td id=\"T_c6e10_row8_col1\" class=\"data row8 col1\" >198,412</td>\n",
       "                        <td id=\"T_c6e10_row8_col2\" class=\"data row8 col2\" >198,412</td>\n",
       "                        <td id=\"T_c6e10_row8_col3\" class=\"data row8 col3\" >163,069</td>\n",
       "            </tr>\n",
       "            <tr>\n",
       "                        <th id=\"T_c6e10_level0_row9\" class=\"row_heading level0 row9\" >Tacoma</th>\n",
       "                        <td id=\"T_c6e10_row9_col0\" class=\"data row9 col0\" >113,697</td>\n",
       "                        <td id=\"T_c6e10_row9_col1\" class=\"data row9 col1\" >229,298</td>\n",
       "                        <td id=\"T_c6e10_row9_col2\" class=\"data row9 col2\" >229,298</td>\n",
       "                        <td id=\"T_c6e10_row9_col3\" class=\"data row9 col3\" >147,060</td>\n",
       "            </tr>\n",
       "            <tr>\n",
       "                        <th id=\"T_c6e10_level0_row10\" class=\"row_heading level0 row10\" >West-South Seattle</th>\n",
       "                        <td id=\"T_c6e10_row10_col0\" class=\"data row10 col0\" >246,570</td>\n",
       "                        <td id=\"T_c6e10_row10_col1\" class=\"data row10 col1\" >199,573</td>\n",
       "                        <td id=\"T_c6e10_row10_col2\" class=\"data row10 col2\" >199,573</td>\n",
       "                        <td id=\"T_c6e10_row10_col3\" class=\"data row10 col3\" >136,389</td>\n",
       "            </tr>\n",
       "    </tbody></table>"
      ],
      "text/plain": [
       "<pandas.io.formats.style.Styler at 0x204f289d088>"
      ]
     },
     "execution_count": 17,
     "metadata": {},
     "output_type": "execute_result"
    }
   ],
   "source": [
    "# Group total employment by district and source\n",
    "df_pivot = pd.pivot_table(df_parcels, index='district_name', columns='source', values='emptot_p', aggfunc='sum')\n",
    "df_pivot.style.format('{:,.0f}')"
   ]
  },
  {
   "cell_type": "markdown",
   "metadata": {},
   "source": [
    "## Synthetic Population"
   ]
  },
  {
   "cell_type": "code",
   "execution_count": 18,
   "metadata": {
    "execution": {
     "iopub.execute_input": "2025-03-01T07:00:11.030598Z",
     "iopub.status.busy": "2025-03-01T07:00:11.029601Z",
     "iopub.status.idle": "2025-03-01T07:00:11.050689Z",
     "shell.execute_reply": "2025-03-01T07:00:11.049170Z"
    }
   },
   "outputs": [],
   "source": [
    "def count_by_county(output_path: str, summary_var: str, expfac_name: str, axis_name: str):\n",
    "    df = summary_data.load_agg_data(output_path)\n",
    "\n",
    "    tab = df.groupby(['source',summary_var])[expfac_name].sum().\\\n",
    "        unstack(summary_var).\\\n",
    "        rename_axis(columns={summary_var: axis_name})\n",
    "    tab['Total'] = tab.sum(axis=1)\n",
    "\n",
    "    display(tab.style.format('{:,.0f}'))"
   ]
  },
  {
   "cell_type": "code",
   "execution_count": 19,
   "metadata": {
    "execution": {
     "iopub.execute_input": "2025-03-01T07:00:11.062653Z",
     "iopub.status.busy": "2025-03-01T07:00:11.061656Z",
     "iopub.status.idle": "2025-03-01T07:00:11.144601Z",
     "shell.execute_reply": "2025-03-01T07:00:11.142577Z"
    }
   },
   "outputs": [
    {
     "data": {
      "text/html": [
       "<style  type=\"text/css\" >\n",
       "</style><table id=\"T_38486_\" ><thead>    <tr>        <th class=\"index_name level0\" >Population by county</th>        <th class=\"col_heading level0 col0\" >King</th>        <th class=\"col_heading level0 col1\" >Kitsap</th>        <th class=\"col_heading level0 col2\" >Outside Region</th>        <th class=\"col_heading level0 col3\" >Pierce</th>        <th class=\"col_heading level0 col4\" >Snohomish</th>        <th class=\"col_heading level0 col5\" >Total</th>    </tr>    <tr>        <th class=\"index_name level0\" >source</th>        <th class=\"blank\" ></th>        <th class=\"blank\" ></th>        <th class=\"blank\" ></th>        <th class=\"blank\" ></th>        <th class=\"blank\" ></th>        <th class=\"blank\" ></th>    </tr></thead><tbody>\n",
       "                <tr>\n",
       "                        <th id=\"T_38486_level0_row0\" class=\"row_heading level0 row0\" >2050 RTP</th>\n",
       "                        <td id=\"T_38486_row0_col0\" class=\"data row0 col0\" >3,029,767</td>\n",
       "                        <td id=\"T_38486_row0_col1\" class=\"data row0 col1\" >353,461</td>\n",
       "                        <td id=\"T_38486_row0_col2\" class=\"data row0 col2\" >nan</td>\n",
       "                        <td id=\"T_38486_row0_col3\" class=\"data row0 col3\" >1,213,634</td>\n",
       "                        <td id=\"T_38486_row0_col4\" class=\"data row0 col4\" >1,230,341</td>\n",
       "                        <td id=\"T_38486_row0_col5\" class=\"data row0 col5\" >5,827,203</td>\n",
       "            </tr>\n",
       "            <tr>\n",
       "                        <th id=\"T_38486_level0_row1\" class=\"row_heading level0 row1\" >2050 update</th>\n",
       "                        <td id=\"T_38486_row1_col0\" class=\"data row1 col0\" >2,988,607</td>\n",
       "                        <td id=\"T_38486_row1_col1\" class=\"data row1 col1\" >354,233</td>\n",
       "                        <td id=\"T_38486_row1_col2\" class=\"data row1 col2\" >14</td>\n",
       "                        <td id=\"T_38486_row1_col3\" class=\"data row1 col3\" >1,237,744</td>\n",
       "                        <td id=\"T_38486_row1_col4\" class=\"data row1 col4\" >1,207,563</td>\n",
       "                        <td id=\"T_38486_row1_col5\" class=\"data row1 col5\" >5,788,161</td>\n",
       "            </tr>\n",
       "            <tr>\n",
       "                        <th id=\"T_38486_level0_row2\" class=\"row_heading level0 row2\" >2050 update (lower WFH and no telecommute)</th>\n",
       "                        <td id=\"T_38486_row2_col0\" class=\"data row2 col0\" >2,988,607</td>\n",
       "                        <td id=\"T_38486_row2_col1\" class=\"data row2 col1\" >354,233</td>\n",
       "                        <td id=\"T_38486_row2_col2\" class=\"data row2 col2\" >14</td>\n",
       "                        <td id=\"T_38486_row2_col3\" class=\"data row2 col3\" >1,237,744</td>\n",
       "                        <td id=\"T_38486_row2_col4\" class=\"data row2 col4\" >1,207,563</td>\n",
       "                        <td id=\"T_38486_row2_col5\" class=\"data row2 col5\" >5,788,161</td>\n",
       "            </tr>\n",
       "            <tr>\n",
       "                        <th id=\"T_38486_level0_row3\" class=\"row_heading level0 row3\" >current run</th>\n",
       "                        <td id=\"T_38486_row3_col0\" class=\"data row3 col0\" >2,303,851</td>\n",
       "                        <td id=\"T_38486_row3_col1\" class=\"data row3 col1\" >275,120</td>\n",
       "                        <td id=\"T_38486_row3_col2\" class=\"data row3 col2\" >8</td>\n",
       "                        <td id=\"T_38486_row3_col3\" class=\"data row3 col3\" >925,555</td>\n",
       "                        <td id=\"T_38486_row3_col4\" class=\"data row3 col4\" >851,485</td>\n",
       "                        <td id=\"T_38486_row3_col5\" class=\"data row3 col5\" >4,356,019</td>\n",
       "            </tr>\n",
       "    </tbody></table>"
      ],
      "text/plain": [
       "<pandas.io.formats.style.Styler at 0x204ecb9f288>"
      ]
     },
     "metadata": {},
     "output_type": "display_data"
    }
   ],
   "source": [
    "count_by_county('agg/dash/pptyp_county.csv','person_county','psexpfac','Population by county')"
   ]
  },
  {
   "cell_type": "code",
   "execution_count": 20,
   "metadata": {
    "execution": {
     "iopub.execute_input": "2025-03-01T07:00:11.156605Z",
     "iopub.status.busy": "2025-03-01T07:00:11.154619Z",
     "iopub.status.idle": "2025-03-01T07:00:11.238032Z",
     "shell.execute_reply": "2025-03-01T07:00:11.236037Z"
    }
   },
   "outputs": [
    {
     "data": {
      "text/html": [
       "<style  type=\"text/css\" >\n",
       "</style><table id=\"T_50d5e_\" ><thead>    <tr>        <th class=\"index_name level0\" >Households by county</th>        <th class=\"col_heading level0 col0\" >King</th>        <th class=\"col_heading level0 col1\" >Kitsap</th>        <th class=\"col_heading level0 col2\" >Pierce</th>        <th class=\"col_heading level0 col3\" >Snohomish</th>        <th class=\"col_heading level0 col4\" >Total</th>    </tr>    <tr>        <th class=\"index_name level0\" >source</th>        <th class=\"blank\" ></th>        <th class=\"blank\" ></th>        <th class=\"blank\" ></th>        <th class=\"blank\" ></th>        <th class=\"blank\" ></th>    </tr></thead><tbody>\n",
       "                <tr>\n",
       "                        <th id=\"T_50d5e_level0_row0\" class=\"row_heading level0 row0\" >2050 RTP</th>\n",
       "                        <td id=\"T_50d5e_row0_col0\" class=\"data row0 col0\" >1,310,283</td>\n",
       "                        <td id=\"T_50d5e_row0_col1\" class=\"data row0 col1\" >147,388</td>\n",
       "                        <td id=\"T_50d5e_row0_col2\" class=\"data row0 col2\" >487,287</td>\n",
       "                        <td id=\"T_50d5e_row0_col3\" class=\"data row0 col3\" >477,645</td>\n",
       "                        <td id=\"T_50d5e_row0_col4\" class=\"data row0 col4\" >2,422,603</td>\n",
       "            </tr>\n",
       "            <tr>\n",
       "                        <th id=\"T_50d5e_level0_row1\" class=\"row_heading level0 row1\" >2050 update</th>\n",
       "                        <td id=\"T_50d5e_row1_col0\" class=\"data row1 col0\" >1,184,801</td>\n",
       "                        <td id=\"T_50d5e_row1_col1\" class=\"data row1 col1\" >60,986</td>\n",
       "                        <td id=\"T_50d5e_row1_col2\" class=\"data row1 col2\" >308,856</td>\n",
       "                        <td id=\"T_50d5e_row1_col3\" class=\"data row1 col3\" >298,332</td>\n",
       "                        <td id=\"T_50d5e_row1_col4\" class=\"data row1 col4\" >1,852,975</td>\n",
       "            </tr>\n",
       "            <tr>\n",
       "                        <th id=\"T_50d5e_level0_row2\" class=\"row_heading level0 row2\" >2050 update (lower WFH and no telecommute)</th>\n",
       "                        <td id=\"T_50d5e_row2_col0\" class=\"data row2 col0\" >1,184,801</td>\n",
       "                        <td id=\"T_50d5e_row2_col1\" class=\"data row2 col1\" >60,986</td>\n",
       "                        <td id=\"T_50d5e_row2_col2\" class=\"data row2 col2\" >308,856</td>\n",
       "                        <td id=\"T_50d5e_row2_col3\" class=\"data row2 col3\" >298,332</td>\n",
       "                        <td id=\"T_50d5e_row2_col4\" class=\"data row2 col4\" >1,852,975</td>\n",
       "            </tr>\n",
       "            <tr>\n",
       "                        <th id=\"T_50d5e_level0_row3\" class=\"row_heading level0 row3\" >current run</th>\n",
       "                        <td id=\"T_50d5e_row3_col0\" class=\"data row3 col0\" >866,673</td>\n",
       "                        <td id=\"T_50d5e_row3_col1\" class=\"data row3 col1\" >39,114</td>\n",
       "                        <td id=\"T_50d5e_row3_col2\" class=\"data row3 col2\" >196,913</td>\n",
       "                        <td id=\"T_50d5e_row3_col3\" class=\"data row3 col3\" >187,282</td>\n",
       "                        <td id=\"T_50d5e_row3_col4\" class=\"data row3 col4\" >1,289,982</td>\n",
       "            </tr>\n",
       "    </tbody></table>"
      ],
      "text/plain": [
       "<pandas.io.formats.style.Styler at 0x20506bf7c48>"
      ]
     },
     "metadata": {},
     "output_type": "display_data"
    }
   ],
   "source": [
    "count_by_county('agg/dash/hh_geog.csv','hh_county','hhexpfac','Households by county')"
   ]
  },
  {
   "cell_type": "markdown",
   "metadata": {},
   "source": [
    "## employment by work location"
   ]
  },
  {
   "cell_type": "code",
   "execution_count": 21,
   "metadata": {
    "execution": {
     "iopub.execute_input": "2025-03-01T07:00:11.250000Z",
     "iopub.status.busy": "2025-03-01T07:00:11.249002Z",
     "iopub.status.idle": "2025-03-01T07:00:11.316071Z",
     "shell.execute_reply": "2025-03-01T07:00:11.314078Z"
    }
   },
   "outputs": [
    {
     "data": {
      "text/html": [
       "<style  type=\"text/css\" >\n",
       "</style><table id=\"T_47907_\" ><thead>    <tr>        <th class=\"index_name level0\" >Employment by county</th>        <th class=\"col_heading level0 col0\" >King</th>        <th class=\"col_heading level0 col1\" >Kitsap</th>        <th class=\"col_heading level0 col2\" >Pierce</th>        <th class=\"col_heading level0 col3\" >Snohomish</th>        <th class=\"col_heading level0 col4\" >Total</th>    </tr>    <tr>        <th class=\"index_name level0\" >source</th>        <th class=\"blank\" ></th>        <th class=\"blank\" ></th>        <th class=\"blank\" ></th>        <th class=\"blank\" ></th>        <th class=\"blank\" ></th>    </tr></thead><tbody>\n",
       "                <tr>\n",
       "                        <th id=\"T_47907_level0_row0\" class=\"row_heading level0 row0\" >2050 RTP</th>\n",
       "                        <td id=\"T_47907_row0_col0\" class=\"data row0 col0\" >1,746,061</td>\n",
       "                        <td id=\"T_47907_row0_col1\" class=\"data row0 col1\" >130,941</td>\n",
       "                        <td id=\"T_47907_row0_col2\" class=\"data row0 col2\" >364,448</td>\n",
       "                        <td id=\"T_47907_row0_col3\" class=\"data row0 col3\" >397,949</td>\n",
       "                        <td id=\"T_47907_row0_col4\" class=\"data row0 col4\" >2,639,399</td>\n",
       "            </tr>\n",
       "            <tr>\n",
       "                        <th id=\"T_47907_level0_row1\" class=\"row_heading level0 row1\" >2050 update</th>\n",
       "                        <td id=\"T_47907_row1_col0\" class=\"data row1 col0\" >1,660,249</td>\n",
       "                        <td id=\"T_47907_row1_col1\" class=\"data row1 col1\" >119,626</td>\n",
       "                        <td id=\"T_47907_row1_col2\" class=\"data row1 col2\" >403,512</td>\n",
       "                        <td id=\"T_47907_row1_col3\" class=\"data row1 col3\" >406,486</td>\n",
       "                        <td id=\"T_47907_row1_col4\" class=\"data row1 col4\" >2,589,873</td>\n",
       "            </tr>\n",
       "            <tr>\n",
       "                        <th id=\"T_47907_level0_row2\" class=\"row_heading level0 row2\" >2050 update (lower WFH and no telecommute)</th>\n",
       "                        <td id=\"T_47907_row2_col0\" class=\"data row2 col0\" >1,216,757</td>\n",
       "                        <td id=\"T_47907_row2_col1\" class=\"data row2 col1\" >115,252</td>\n",
       "                        <td id=\"T_47907_row2_col2\" class=\"data row2 col2\" >407,318</td>\n",
       "                        <td id=\"T_47907_row2_col3\" class=\"data row2 col3\" >455,182</td>\n",
       "                        <td id=\"T_47907_row2_col4\" class=\"data row2 col4\" >2,194,509</td>\n",
       "            </tr>\n",
       "            <tr>\n",
       "                        <th id=\"T_47907_level0_row3\" class=\"row_heading level0 row3\" >current run</th>\n",
       "                        <td id=\"T_47907_row3_col0\" class=\"data row3 col0\" >1,273,680</td>\n",
       "                        <td id=\"T_47907_row3_col1\" class=\"data row3 col1\" >84,057</td>\n",
       "                        <td id=\"T_47907_row3_col2\" class=\"data row3 col2\" >305,156</td>\n",
       "                        <td id=\"T_47907_row3_col3\" class=\"data row3 col3\" >285,123</td>\n",
       "                        <td id=\"T_47907_row3_col4\" class=\"data row3 col4\" >1,948,016</td>\n",
       "            </tr>\n",
       "    </tbody></table>"
      ],
      "text/plain": [
       "<pandas.io.formats.style.Styler at 0x20508397388>"
      ]
     },
     "metadata": {},
     "output_type": "display_data"
    }
   ],
   "source": [
    "count_by_county('agg/dash/person_worker_type.csv','person_work_county','psexpfac','Employment by county')"
   ]
  },
  {
   "cell_type": "markdown",
   "metadata": {},
   "source": [
    "## Parking Costs"
   ]
  },
  {
   "cell_type": "code",
   "execution_count": 22,
   "metadata": {},
   "outputs": [
    {
     "data": {
      "text/html": [
       "<style  type=\"text/css\" >\n",
       "</style><table id=\"T_33390_\" ><thead>    <tr>        <th class=\"blank level0\" ></th>        <th class=\"col_heading level0 col0\" >ppricdyp</th>    </tr>    <tr>        <th class=\"index_name level0\" >source</th>        <th class=\"blank\" ></th>    </tr></thead><tbody>\n",
       "                <tr>\n",
       "                        <th id=\"T_33390_level0_row0\" class=\"row_heading level0 row0\" >2050 RTP</th>\n",
       "                        <td id=\"T_33390_row0_col0\" class=\"data row0 col0\" >100,944,431</td>\n",
       "            </tr>\n",
       "            <tr>\n",
       "                        <th id=\"T_33390_level0_row1\" class=\"row_heading level0 row1\" >2050 update</th>\n",
       "                        <td id=\"T_33390_row1_col0\" class=\"data row1 col0\" >102,112,889</td>\n",
       "            </tr>\n",
       "            <tr>\n",
       "                        <th id=\"T_33390_level0_row2\" class=\"row_heading level0 row2\" >2050 update (lower WFH and no telecommute)</th>\n",
       "                        <td id=\"T_33390_row2_col0\" class=\"data row2 col0\" >102,112,889</td>\n",
       "            </tr>\n",
       "            <tr>\n",
       "                        <th id=\"T_33390_level0_row3\" class=\"row_heading level0 row3\" >current run</th>\n",
       "                        <td id=\"T_33390_row3_col0\" class=\"data row3 col0\" >1,029,600</td>\n",
       "            </tr>\n",
       "    </tbody></table>"
      ],
      "text/plain": [
       "<pandas.io.formats.style.Styler at 0x204eec164c8>"
      ]
     },
     "execution_count": 22,
     "metadata": {},
     "output_type": "execute_result"
    }
   ],
   "source": [
    "# Daily parking cost totals (ppricdyp)\n",
    "pd.pivot_table(df_parcels, index='source', values='ppricdyp', aggfunc='sum').style.format('{:,.0f}')"
   ]
  },
  {
   "cell_type": "code",
   "execution_count": 23,
   "metadata": {},
   "outputs": [],
   "source": [
    "# # Parking costs by district\n",
    "# pd.pivot_table(df_parcels, index='district_name', columns='source', values='pprichrp', aggfunc='sum').style.format('{:,.0f}')"
   ]
  },
  {
   "cell_type": "code",
   "execution_count": 24,
   "metadata": {},
   "outputs": [],
   "source": [
    "# df_buffered.columns"
   ]
  },
  {
   "cell_type": "code",
   "execution_count": 25,
   "metadata": {},
   "outputs": [],
   "source": [
    "# # Check buffered parcels distance to light rail\n",
    "# df_buffered = summary_data.load_landuse('landuse/buffered_parcels.txt')\n",
    "\n",
    "# # Merge geography to file\n",
    "# df_buffered = df_buffered.merge(df_geog_lookup, left_on='parcelid', right_on='ParcelID', how='left')"
   ]
  },
  {
   "cell_type": "code",
   "execution_count": 26,
   "metadata": {},
   "outputs": [],
   "source": [
    "\n",
    "# df_buffered.groupby(['source','district_name'])['dist_lbus'].describe()\n",
    "# # df_buffered.columns"
   ]
  },
  {
   "cell_type": "code",
   "execution_count": null,
   "metadata": {},
   "outputs": [],
   "source": []
  }
 ],
 "metadata": {
  "kernelspec": {
   "display_name": "summary",
   "language": "python",
   "name": "python3"
  },
  "language_info": {
   "codemirror_mode": {
    "name": "ipython",
    "version": 3
   },
   "file_extension": ".py",
   "mimetype": "text/x-python",
   "name": "python",
   "nbconvert_exporter": "python",
   "pygments_lexer": "ipython3",
   "version": "3.7.10"
  }
 },
 "nbformat": 4,
 "nbformat_minor": 2
}
