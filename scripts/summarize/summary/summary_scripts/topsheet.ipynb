{
 "cells": [
  {
   "cell_type": "raw",
   "metadata": {
    "vscode": {
     "languageId": "raw"
    }
   },
   "source": [
    "---\n",
    "title: \"Summary\"\n",
    "date: today\n",
    "---"
   ]
  },
  {
   "cell_type": "code",
   "execution_count": 1,
   "metadata": {
    "execution": {
     "iopub.execute_input": "2025-06-19T04:58:03.925387Z",
     "iopub.status.busy": "2025-06-19T04:58:03.924390Z",
     "iopub.status.idle": "2025-06-19T04:58:04.617083Z",
     "shell.execute_reply": "2025-06-19T04:58:04.617083Z"
    }
   },
   "outputs": [],
   "source": [
    "#| include: false\n",
    "\n",
    "import os\n",
    "import pandas as pd\n",
    "import numpy as np\n",
    "import toml\n",
    "from pathlib import Path\n",
    "import summary_data\n",
    "\n",
    "config = summary_data.CONFIG\n",
    "all_runs = summary_data.ALL_RUNS"
   ]
  },
  {
   "cell_type": "code",
   "execution_count": 2,
   "metadata": {
    "execution": {
     "iopub.execute_input": "2025-06-19T04:58:04.622077Z",
     "iopub.status.busy": "2025-06-19T04:58:04.622077Z",
     "iopub.status.idle": "2025-06-19T04:58:04.626966Z",
     "shell.execute_reply": "2025-06-19T04:58:04.625963Z"
    }
   },
   "outputs": [],
   "source": [
    "# all_runs"
   ]
  },
  {
   "cell_type": "markdown",
   "metadata": {},
   "source": [
    "- run locations"
   ]
  },
  {
   "cell_type": "code",
   "execution_count": 3,
   "metadata": {
    "execution": {
     "iopub.execute_input": "2025-06-19T04:58:04.630955Z",
     "iopub.status.busy": "2025-06-19T04:58:04.629958Z",
     "iopub.status.idle": "2025-06-19T04:58:04.650575Z",
     "shell.execute_reply": "2025-06-19T04:58:04.650039Z"
    }
   },
   "outputs": [
    {
     "data": {
      "text/html": [
       "<div>\n",
       "<style scoped>\n",
       "    .dataframe tbody tr th:only-of-type {\n",
       "        vertical-align: middle;\n",
       "    }\n",
       "\n",
       "    .dataframe tbody tr th {\n",
       "        vertical-align: top;\n",
       "    }\n",
       "\n",
       "    .dataframe thead th {\n",
       "        text-align: right;\n",
       "    }\n",
       "</style>\n",
       "<table border=\"1\" class=\"dataframe\">\n",
       "  <thead>\n",
       "    <tr style=\"text-align: right;\">\n",
       "      <th></th>\n",
       "      <th>run location</th>\n",
       "    </tr>\n",
       "  </thead>\n",
       "  <tbody>\n",
       "    <tr>\n",
       "      <th>current run</th>\n",
       "      <td>\\\\modelstation4\\c$\\workspace\\sc_2050_old_trans...</td>\n",
       "    </tr>\n",
       "  </tbody>\n",
       "</table>\n",
       "</div>"
      ],
      "text/plain": [
       "                                                  run location\n",
       "current run  \\\\modelstation4\\c$\\workspace\\sc_2050_old_trans..."
      ]
     },
     "execution_count": 3,
     "metadata": {},
     "output_type": "execute_result"
    }
   ],
   "source": [
    "pd.DataFrame.from_dict(all_runs, orient='index',\n",
    "                       columns=['run location'])"
   ]
  },
  {
   "cell_type": "markdown",
   "metadata": {},
   "source": [
    "## System Summary"
   ]
  },
  {
   "cell_type": "code",
   "execution_count": 4,
   "metadata": {
    "execution": {
     "iopub.execute_input": "2025-06-19T04:58:04.695723Z",
     "iopub.status.busy": "2025-06-19T04:58:04.694726Z",
     "iopub.status.idle": "2025-06-19T04:58:18.393330Z",
     "shell.execute_reply": "2025-06-19T04:58:18.393330Z"
    }
   },
   "outputs": [
    {
     "name": "stderr",
     "output_type": "stream",
     "text": [
      "C:\\workspace\\sc_organize_summary_folder\\scripts\\summarize\\summary\\summary_scripts\\summary_data.py:86: FutureWarning: A value is trying to be set on a copy of a DataFrame or Series through chained assignment using an inplace method.\n",
      "The behavior will change in pandas 3.0. This inplace method will never work because the intermediate object on which we are setting values always behaves as a copy.\n",
      "\n",
      "For example, when doing 'df[col].method(value, inplace=True)', try using 'df.method({col: value}, inplace=True)' or df[col] = df[col].method(value) instead, to perform the operation inplace on the original object.\n",
      "\n",
      "\n",
      "  df[\"facility_type\"].fillna(\"Other\", inplace=True)\n",
      "C:\\workspace\\sc_organize_summary_folder\\scripts\\summarize\\summary\\summary_scripts\\summary_data.py:91: FutureWarning: A value is trying to be set on a copy of a DataFrame or Series through chained assignment using an inplace method.\n",
      "The behavior will change in pandas 3.0. This inplace method will never work because the intermediate object on which we are setting values always behaves as a copy.\n",
      "\n",
      "For example, when doing 'df[col].method(value, inplace=True)', try using 'df.method({col: value}, inplace=True)' or df[col] = df[col].method(value) instead, to perform the operation inplace on the original object.\n",
      "\n",
      "\n",
      "  df[\"county\"].fillna(\"Outside Region\", inplace=True)\n"
     ]
    }
   ],
   "source": [
    "# network summary: 'VMT','VHT','total_delay'\n",
    "df_network = summary_data.load_agg_data('network/network_results.csv')"
   ]
  },
  {
   "cell_type": "code",
   "execution_count": 5,
   "metadata": {
    "execution": {
     "iopub.execute_input": "2025-06-19T04:58:18.399322Z",
     "iopub.status.busy": "2025-06-19T04:58:18.399322Z",
     "iopub.status.idle": "2025-06-19T04:58:18.427356Z",
     "shell.execute_reply": "2025-06-19T04:58:18.426353Z"
    }
   },
   "outputs": [],
   "source": [
    "# Get light rail boardings\n",
    "df_boardings = summary_data.load_agg_data('transit/daily_boardings_by_agency.csv')"
   ]
  },
  {
   "cell_type": "code",
   "execution_count": 6,
   "metadata": {
    "execution": {
     "iopub.execute_input": "2025-06-19T04:58:18.433340Z",
     "iopub.status.busy": "2025-06-19T04:58:18.431345Z",
     "iopub.status.idle": "2025-06-19T04:58:18.612419Z",
     "shell.execute_reply": "2025-06-19T04:58:18.611415Z"
    }
   },
   "outputs": [],
   "source": [
    "network_summary = df_network.groupby('source')[['VMT','VHT','total_delay']].sum()\n",
    "network_summary = network_summary.rename(columns={'total_delay': 'Delay'})\n",
    "# transit boardings\n",
    "df_boardings = summary_data.load_agg_data('transit/daily_boardings_by_agency.csv')\n",
    "transit_ridership = df_boardings.groupby('source')['boardings'].sum()\n",
    "#Light rail boardings\n",
    "df_line_boardings = summary_data.load_agg_data('transit/transit_line_results.csv')\n",
    "lr_boardings = df_line_boardings[df_line_boardings['mode']=='r']\n",
    "lr_ridership = lr_boardings.groupby('source')['boardings'].sum()\n",
    "# mode share\n",
    "df_trip = summary_data.load_agg_data('agg/dash/mode_share_county.csv')\n",
    "df = df_trip.groupby('source')['trexpfac'].sum() # total trips\n",
    "transit_share = df_trip.loc[df_trip['mode']==\"Transit\"].groupby('source')['trexpfac'].sum()/df\n",
    "\n",
    "# emission\n",
    "df_emissions = summary_data.load_agg_data('emissions/emissions_summary.csv')\n",
    "df = df_emissions.loc[(df_emissions['veh_type'].isin(['light','medium','heavy'])) & \\\n",
    "                      (df_emissions['pollutant_name']==\"CO2 Equivalent\")].copy()\n",
    "CO2e = df.groupby('source')['total_daily_tons'].sum()"
   ]
  },
  {
   "cell_type": "code",
   "execution_count": 7,
   "metadata": {
    "execution": {
     "iopub.execute_input": "2025-06-19T04:58:18.617410Z",
     "iopub.status.busy": "2025-06-19T04:58:18.617410Z",
     "iopub.status.idle": "2025-06-19T04:58:19.403030Z",
     "shell.execute_reply": "2025-06-19T04:58:19.402027Z"
    }
   },
   "outputs": [
    {
     "data": {
      "text/html": [
       "<style type=\"text/css\">\n",
       "</style>\n",
       "<table id=\"T_f6030\">\n",
       "  <thead>\n",
       "    <tr>\n",
       "      <th class=\"blank level0\" >&nbsp;</th>\n",
       "      <th id=\"T_f6030_level0_col0\" class=\"col_heading level0 col0\" >VMT</th>\n",
       "      <th id=\"T_f6030_level0_col1\" class=\"col_heading level0 col1\" >VHT</th>\n",
       "      <th id=\"T_f6030_level0_col2\" class=\"col_heading level0 col2\" >Delay</th>\n",
       "      <th id=\"T_f6030_level0_col3\" class=\"col_heading level0 col3\" >Transit Boardings</th>\n",
       "      <th id=\"T_f6030_level0_col4\" class=\"col_heading level0 col4\" >Light Rail Boardings</th>\n",
       "      <th id=\"T_f6030_level0_col5\" class=\"col_heading level0 col5\" >% Transit</th>\n",
       "      <th id=\"T_f6030_level0_col6\" class=\"col_heading level0 col6\" >CO2e</th>\n",
       "    </tr>\n",
       "    <tr>\n",
       "      <th class=\"index_name level0\" >source</th>\n",
       "      <th class=\"blank col0\" >&nbsp;</th>\n",
       "      <th class=\"blank col1\" >&nbsp;</th>\n",
       "      <th class=\"blank col2\" >&nbsp;</th>\n",
       "      <th class=\"blank col3\" >&nbsp;</th>\n",
       "      <th class=\"blank col4\" >&nbsp;</th>\n",
       "      <th class=\"blank col5\" >&nbsp;</th>\n",
       "      <th class=\"blank col6\" >&nbsp;</th>\n",
       "    </tr>\n",
       "  </thead>\n",
       "  <tbody>\n",
       "    <tr>\n",
       "      <th id=\"T_f6030_level0_row0\" class=\"row_heading level0 row0\" >current run</th>\n",
       "      <td id=\"T_f6030_row0_col0\" class=\"data row0 col0\" >95,751,281</td>\n",
       "      <td id=\"T_f6030_row0_col1\" class=\"data row0 col1\" >3,013,369</td>\n",
       "      <td id=\"T_f6030_row0_col2\" class=\"data row0 col2\" >282,649</td>\n",
       "      <td id=\"T_f6030_row0_col3\" class=\"data row0 col3\" >1,569,048</td>\n",
       "      <td id=\"T_f6030_row0_col4\" class=\"data row0 col4\" >473,300</td>\n",
       "      <td id=\"T_f6030_row0_col5\" class=\"data row0 col5\" >4.8%</td>\n",
       "      <td id=\"T_f6030_row0_col6\" class=\"data row0 col6\" >6,393</td>\n",
       "    </tr>\n",
       "  </tbody>\n",
       "</table>\n"
      ],
      "text/plain": [
       "<pandas.io.formats.style.Styler at 0x2081099f150>"
      ]
     },
     "execution_count": 7,
     "metadata": {},
     "output_type": "execute_result"
    }
   ],
   "source": [
    "run_summary2 = pd.DataFrame({\n",
    "    'Transit Boardings': transit_ridership,\n",
    "    'Light Rail Boardings': lr_ridership,\n",
    "    '% Transit': transit_share,\n",
    "    'CO2e': CO2e\n",
    "})\n",
    "\n",
    "pd.concat([network_summary,run_summary2], axis=1).style.\\\n",
    "        format('{:,.0f}', subset=['VMT','VHT','Delay','Transit Boardings','Light Rail Boardings','CO2e']).\\\n",
    "        format('{:.1%}', subset=['% Transit'])"
   ]
  }
 ],
 "metadata": {
  "kernelspec": {
   "display_name": "summary",
   "language": "python",
   "name": "python3"
  },
  "language_info": {
   "codemirror_mode": {
    "name": "ipython",
    "version": 3
   },
   "file_extension": ".py",
   "mimetype": "text/x-python",
   "name": "python",
   "nbconvert_exporter": "python",
   "pygments_lexer": "ipython3",
   "version": "3.11.12"
  }
 },
 "nbformat": 4,
 "nbformat_minor": 2
}
