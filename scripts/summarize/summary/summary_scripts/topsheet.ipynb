{
 "cells": [
  {
   "cell_type": "raw",
   "metadata": {
    "vscode": {
     "languageId": "raw"
    }
   },
   "source": [
    "---\n",
    "title: \"Summary\"\n",
    "date: today\n",
    "---"
   ]
  },
  {
   "cell_type": "code",
   "execution_count": null,
   "metadata": {
    "execution": {
     "iopub.execute_input": "2024-10-25T20:29:22.677908Z",
     "iopub.status.busy": "2024-10-25T20:29:22.676341Z",
     "iopub.status.idle": "2024-10-25T20:29:41.108116Z",
     "shell.execute_reply": "2024-10-25T20:29:41.106120Z"
    }
   },
   "outputs": [],
   "source": [
    "#| include: false\n",
    "\n",
    "import os\n",
    "import pandas as pd\n",
    "import numpy as np\n",
    "# import plotly.express as px\n",
    "import toml\n",
    "# import psrc_theme\n",
    "from pathlib import Path\n",
    "import summary_data\n",
    "\n",
    "# to show plotly figures in quarto HTML file\n",
    "# import plotly.io as pio\n",
    "# pio.renderers.default = \"plotly_mimetype+notebook_connected\"\n",
    "# pio.templates.default = \"simple_white+psrc_color\" # set plotly template\n",
    "\n",
    "config = summary_data.CONFIG\n",
    "all_runs = summary_data.ALL_RUNS"
   ]
  },
  {
   "cell_type": "code",
   "execution_count": 2,
   "metadata": {
    "execution": {
     "iopub.execute_input": "2024-10-25T20:29:41.573150Z",
     "iopub.status.busy": "2024-10-25T20:29:41.572152Z",
     "iopub.status.idle": "2024-10-25T20:29:41.624305Z",
     "shell.execute_reply": "2024-10-25T20:29:41.623623Z"
    }
   },
   "outputs": [],
   "source": [
    "# network summary: 'VMT','VHT','total_delay'\n",
    "df = summary_data.load_agg_data('network/network_results.csv')\n",
    "df_network = df.groupby('source')[['VMT','VHT','total_delay']].sum()\n",
    "df_network = df_network.rename(columns={'total_delay': 'Delay'})\n",
    "# transit boardings\n",
    "df_boardings = summary_data.load_agg_data('transit/daily_boardings_by_agency.csv')\n",
    "transit_ridership = df_boardings.groupby('source')['boardings'].sum()\n",
    "# mode share\n",
    "df_trip = summary_data.load_agg_data('agg/dash/mode_share_county.csv')\n",
    "df = df_trip.groupby('source')['trexpfac'].sum() # total trips\n",
    "transit_share = df_trip.loc[df_trip['mode']==\"Transit\"].groupby('source')['trexpfac'].sum()/df\n",
    "\n",
    "# emission\n",
    "df_emissions = summary_data.load_agg_data('emissions/emissions_summary.csv')\n",
    "df = df_emissions.loc[(df_emissions['veh_type'].isin(['light','medium','heavy'])) & \\\n",
    "                      (df_emissions['pollutant_name']==\"CO2 Equivalent\")].copy()\n",
    "CO2e = df.groupby('source')['total_daily_tons'].sum()"
   ]
  },
  {
   "cell_type": "code",
   "execution_count": 3,
   "metadata": {},
   "outputs": [
    {
     "data": {
      "text/html": [
       "<style type=\"text/css\">\n",
       "</style>\n",
       "<table id=\"T_b4826\">\n",
       "  <thead>\n",
       "    <tr>\n",
       "      <th class=\"blank level0\" >&nbsp;</th>\n",
       "      <th id=\"T_b4826_level0_col0\" class=\"col_heading level0 col0\" >VMT</th>\n",
       "      <th id=\"T_b4826_level0_col1\" class=\"col_heading level0 col1\" >VHT</th>\n",
       "      <th id=\"T_b4826_level0_col2\" class=\"col_heading level0 col2\" >Delay</th>\n",
       "      <th id=\"T_b4826_level0_col3\" class=\"col_heading level0 col3\" >Transit Boardings</th>\n",
       "      <th id=\"T_b4826_level0_col4\" class=\"col_heading level0 col4\" >% Transit</th>\n",
       "      <th id=\"T_b4826_level0_col5\" class=\"col_heading level0 col5\" >CO2e</th>\n",
       "    </tr>\n",
       "    <tr>\n",
       "      <th class=\"index_name level0\" >source</th>\n",
       "      <th class=\"blank col0\" >&nbsp;</th>\n",
       "      <th class=\"blank col1\" >&nbsp;</th>\n",
       "      <th class=\"blank col2\" >&nbsp;</th>\n",
       "      <th class=\"blank col3\" >&nbsp;</th>\n",
       "      <th class=\"blank col4\" >&nbsp;</th>\n",
       "      <th class=\"blank col5\" >&nbsp;</th>\n",
       "    </tr>\n",
       "  </thead>\n",
       "  <tbody>\n",
       "    <tr>\n",
       "      <th id=\"T_b4826_level0_row0\" class=\"row_heading level0 row0\" >current run</th>\n",
       "      <td id=\"T_b4826_row0_col0\" class=\"data row0 col0\" >74,794,942</td>\n",
       "      <td id=\"T_b4826_row0_col1\" class=\"data row0 col1\" >2,216,555</td>\n",
       "      <td id=\"T_b4826_row0_col2\" class=\"data row0 col2\" >195,921</td>\n",
       "      <td id=\"T_b4826_row0_col3\" class=\"data row0 col3\" >480,586</td>\n",
       "      <td id=\"T_b4826_row0_col4\" class=\"data row0 col4\" >2.0%</td>\n",
       "      <td id=\"T_b4826_row0_col5\" class=\"data row0 col5\" >41,543</td>\n",
       "    </tr>\n",
       "    <tr>\n",
       "      <th id=\"T_b4826_level0_row1\" class=\"row_heading level0 row1\" >i5 toll</th>\n",
       "      <td id=\"T_b4826_row1_col0\" class=\"data row1 col0\" >105,206,842</td>\n",
       "      <td id=\"T_b4826_row1_col1\" class=\"data row1 col1\" >3,511,647</td>\n",
       "      <td id=\"T_b4826_row1_col2\" class=\"data row1 col2\" >595,756</td>\n",
       "      <td id=\"T_b4826_row1_col3\" class=\"data row1 col3\" >2,331,178</td>\n",
       "      <td id=\"T_b4826_row1_col4\" class=\"data row1 col4\" >6.2%</td>\n",
       "      <td id=\"T_b4826_row1_col5\" class=\"data row1 col5\" >37,407</td>\n",
       "    </tr>\n",
       "  </tbody>\n",
       "</table>\n"
      ],
      "text/plain": [
       "<pandas.io.formats.style.Styler at 0x276a7bee4a0>"
      ]
     },
     "execution_count": 3,
     "metadata": {},
     "output_type": "execute_result"
    }
   ],
   "source": [
    "run_summary2 = pd.DataFrame({\n",
    "    'Transit Boardings': transit_ridership,\n",
    "    '% Transit': transit_share,\n",
    "    'CO2e': CO2e\n",
    "})\n",
    "\n",
    "pd.concat([df_network,run_summary2], axis=1).style.\\\n",
    "        format('{:,.0f}', subset=['VMT','VHT','Delay','Transit Boardings','CO2e']).\\\n",
    "        format('{:.1%}', subset=['% Transit'])"
   ]
  },
  {
   "cell_type": "markdown",
   "metadata": {},
   "source": [
    "## Population & Households"
   ]
  },
  {
   "cell_type": "code",
   "execution_count": 67,
   "metadata": {},
   "outputs": [],
   "source": [
    "def count_by_county(output_path: str, summary_var: str, expfac_name: str, axis_name: str):\n",
    "    df = summary_data.load_agg_data(output_path)\n",
    "\n",
    "    tab = df.groupby(['source',summary_var])[expfac_name].sum().\\\n",
    "        unstack(summary_var).\\\n",
    "        rename_axis(columns={summary_var: axis_name})\n",
    "    tab['Total'] = tab.sum(axis=1)\n",
    "\n",
    "    display(tab.style.format('{:,.0f}'))"
   ]
  },
  {
   "cell_type": "code",
   "execution_count": 72,
   "metadata": {},
   "outputs": [
    {
     "data": {
      "text/html": [
       "<style type=\"text/css\">\n",
       "</style>\n",
       "<table id=\"T_a8d99\">\n",
       "  <thead>\n",
       "    <tr>\n",
       "      <th class=\"index_name level0\" >Population by county</th>\n",
       "      <th id=\"T_a8d99_level0_col0\" class=\"col_heading level0 col0\" >King</th>\n",
       "      <th id=\"T_a8d99_level0_col1\" class=\"col_heading level0 col1\" >Kitsap</th>\n",
       "      <th id=\"T_a8d99_level0_col2\" class=\"col_heading level0 col2\" >Pierce</th>\n",
       "      <th id=\"T_a8d99_level0_col3\" class=\"col_heading level0 col3\" >Snohomish</th>\n",
       "      <th id=\"T_a8d99_level0_col4\" class=\"col_heading level0 col4\" >Total</th>\n",
       "    </tr>\n",
       "    <tr>\n",
       "      <th class=\"index_name level0\" >source</th>\n",
       "      <th class=\"blank col0\" >&nbsp;</th>\n",
       "      <th class=\"blank col1\" >&nbsp;</th>\n",
       "      <th class=\"blank col2\" >&nbsp;</th>\n",
       "      <th class=\"blank col3\" >&nbsp;</th>\n",
       "      <th class=\"blank col4\" >&nbsp;</th>\n",
       "    </tr>\n",
       "  </thead>\n",
       "  <tbody>\n",
       "    <tr>\n",
       "      <th id=\"T_a8d99_level0_row0\" class=\"row_heading level0 row0\" >current run</th>\n",
       "      <td id=\"T_a8d99_row0_col0\" class=\"data row0 col0\" >2,303,921</td>\n",
       "      <td id=\"T_a8d99_row0_col1\" class=\"data row0 col1\" >275,126</td>\n",
       "      <td id=\"T_a8d99_row0_col2\" class=\"data row0 col2\" >925,392</td>\n",
       "      <td id=\"T_a8d99_row0_col3\" class=\"data row0 col3\" >851,593</td>\n",
       "      <td id=\"T_a8d99_row0_col4\" class=\"data row0 col4\" >4,356,032</td>\n",
       "    </tr>\n",
       "    <tr>\n",
       "      <th id=\"T_a8d99_level0_row1\" class=\"row_heading level0 row1\" >i5 toll</th>\n",
       "      <td id=\"T_a8d99_row1_col0\" class=\"data row1 col0\" >3,029,767</td>\n",
       "      <td id=\"T_a8d99_row1_col1\" class=\"data row1 col1\" >353,461</td>\n",
       "      <td id=\"T_a8d99_row1_col2\" class=\"data row1 col2\" >1,213,634</td>\n",
       "      <td id=\"T_a8d99_row1_col3\" class=\"data row1 col3\" >1,230,341</td>\n",
       "      <td id=\"T_a8d99_row1_col4\" class=\"data row1 col4\" >5,827,203</td>\n",
       "    </tr>\n",
       "  </tbody>\n",
       "</table>\n"
      ],
      "text/plain": [
       "<pandas.io.formats.style.Styler at 0x195c6ea7190>"
      ]
     },
     "metadata": {},
     "output_type": "display_data"
    }
   ],
   "source": [
    "count_by_county('agg/dash/pptyp_county.csv','person_county','psexpfac','Population by county')"
   ]
  },
  {
   "cell_type": "code",
   "execution_count": 73,
   "metadata": {},
   "outputs": [
    {
     "data": {
      "text/html": [
       "<style type=\"text/css\">\n",
       "</style>\n",
       "<table id=\"T_f1f3c\">\n",
       "  <thead>\n",
       "    <tr>\n",
       "      <th class=\"index_name level0\" >Households by county</th>\n",
       "      <th id=\"T_f1f3c_level0_col0\" class=\"col_heading level0 col0\" >King</th>\n",
       "      <th id=\"T_f1f3c_level0_col1\" class=\"col_heading level0 col1\" >Kitsap</th>\n",
       "      <th id=\"T_f1f3c_level0_col2\" class=\"col_heading level0 col2\" >Pierce</th>\n",
       "      <th id=\"T_f1f3c_level0_col3\" class=\"col_heading level0 col3\" >Snohomish</th>\n",
       "      <th id=\"T_f1f3c_level0_col4\" class=\"col_heading level0 col4\" >Total</th>\n",
       "    </tr>\n",
       "    <tr>\n",
       "      <th class=\"index_name level0\" >source</th>\n",
       "      <th class=\"blank col0\" >&nbsp;</th>\n",
       "      <th class=\"blank col1\" >&nbsp;</th>\n",
       "      <th class=\"blank col2\" >&nbsp;</th>\n",
       "      <th class=\"blank col3\" >&nbsp;</th>\n",
       "      <th class=\"blank col4\" >&nbsp;</th>\n",
       "    </tr>\n",
       "  </thead>\n",
       "  <tbody>\n",
       "    <tr>\n",
       "      <th id=\"T_f1f3c_level0_row0\" class=\"row_heading level0 row0\" >current run</th>\n",
       "      <td id=\"T_f1f3c_row0_col0\" class=\"data row0 col0\" >957,477</td>\n",
       "      <td id=\"T_f1f3c_row0_col1\" class=\"data row0 col1\" >108,903</td>\n",
       "      <td id=\"T_f1f3c_row0_col2\" class=\"data row0 col2\" >350,089</td>\n",
       "      <td id=\"T_f1f3c_row0_col3\" class=\"data row0 col3\" >319,660</td>\n",
       "      <td id=\"T_f1f3c_row0_col4\" class=\"data row0 col4\" >1,736,129</td>\n",
       "    </tr>\n",
       "    <tr>\n",
       "      <th id=\"T_f1f3c_level0_row1\" class=\"row_heading level0 row1\" >i5 toll</th>\n",
       "      <td id=\"T_f1f3c_row1_col0\" class=\"data row1 col0\" >1,310,283</td>\n",
       "      <td id=\"T_f1f3c_row1_col1\" class=\"data row1 col1\" >147,388</td>\n",
       "      <td id=\"T_f1f3c_row1_col2\" class=\"data row1 col2\" >487,287</td>\n",
       "      <td id=\"T_f1f3c_row1_col3\" class=\"data row1 col3\" >477,645</td>\n",
       "      <td id=\"T_f1f3c_row1_col4\" class=\"data row1 col4\" >2,422,603</td>\n",
       "    </tr>\n",
       "  </tbody>\n",
       "</table>\n"
      ],
      "text/plain": [
       "<pandas.io.formats.style.Styler at 0x195c6ea4c40>"
      ]
     },
     "metadata": {},
     "output_type": "display_data"
    }
   ],
   "source": [
    "count_by_county('agg/dash/hh_geog.csv','hh_county','hhexpfac','Households by county')"
   ]
  },
  {
   "cell_type": "markdown",
   "metadata": {},
   "source": [
    "## Employment by work location"
   ]
  },
  {
   "cell_type": "code",
   "execution_count": 74,
   "metadata": {},
   "outputs": [
    {
     "data": {
      "text/html": [
       "<style type=\"text/css\">\n",
       "</style>\n",
       "<table id=\"T_1f452\">\n",
       "  <thead>\n",
       "    <tr>\n",
       "      <th class=\"index_name level0\" >Employment by county</th>\n",
       "      <th id=\"T_1f452_level0_col0\" class=\"col_heading level0 col0\" >King</th>\n",
       "      <th id=\"T_1f452_level0_col1\" class=\"col_heading level0 col1\" >Kitsap</th>\n",
       "      <th id=\"T_1f452_level0_col2\" class=\"col_heading level0 col2\" >Pierce</th>\n",
       "      <th id=\"T_1f452_level0_col3\" class=\"col_heading level0 col3\" >Snohomish</th>\n",
       "      <th id=\"T_1f452_level0_col4\" class=\"col_heading level0 col4\" >Total</th>\n",
       "    </tr>\n",
       "    <tr>\n",
       "      <th class=\"index_name level0\" >source</th>\n",
       "      <th class=\"blank col0\" >&nbsp;</th>\n",
       "      <th class=\"blank col1\" >&nbsp;</th>\n",
       "      <th class=\"blank col2\" >&nbsp;</th>\n",
       "      <th class=\"blank col3\" >&nbsp;</th>\n",
       "      <th class=\"blank col4\" >&nbsp;</th>\n",
       "    </tr>\n",
       "  </thead>\n",
       "  <tbody>\n",
       "    <tr>\n",
       "      <th id=\"T_1f452_level0_row0\" class=\"row_heading level0 row0\" >current run</th>\n",
       "      <td id=\"T_1f452_row0_col0\" class=\"data row0 col0\" >1,285,062</td>\n",
       "      <td id=\"T_1f452_row0_col1\" class=\"data row0 col1\" >83,946</td>\n",
       "      <td id=\"T_1f452_row0_col2\" class=\"data row0 col2\" >285,435</td>\n",
       "      <td id=\"T_1f452_row0_col3\" class=\"data row0 col3\" >250,288</td>\n",
       "      <td id=\"T_1f452_row0_col4\" class=\"data row0 col4\" >1,904,731</td>\n",
       "    </tr>\n",
       "    <tr>\n",
       "      <th id=\"T_1f452_level0_row1\" class=\"row_heading level0 row1\" >i5 toll</th>\n",
       "      <td id=\"T_1f452_row1_col0\" class=\"data row1 col0\" >1,731,184</td>\n",
       "      <td id=\"T_1f452_row1_col1\" class=\"data row1 col1\" >132,330</td>\n",
       "      <td id=\"T_1f452_row1_col2\" class=\"data row1 col2\" >373,101</td>\n",
       "      <td id=\"T_1f452_row1_col3\" class=\"data row1 col3\" >403,608</td>\n",
       "      <td id=\"T_1f452_row1_col4\" class=\"data row1 col4\" >2,640,223</td>\n",
       "    </tr>\n",
       "  </tbody>\n",
       "</table>\n"
      ],
      "text/plain": [
       "<pandas.io.formats.style.Styler at 0x195c6ea4e80>"
      ]
     },
     "metadata": {},
     "output_type": "display_data"
    }
   ],
   "source": [
    "count_by_county('agg/dash/person_worker_type.csv','person_work_county','psexpfac','Employment by county')"
   ]
  }
 ],
 "metadata": {
  "kernelspec": {
   "display_name": "build_notebook",
   "language": "python",
   "name": "python3"
  },
  "language_info": {
   "codemirror_mode": {
    "name": "ipython",
    "version": 3
   },
   "file_extension": ".py",
   "mimetype": "text/x-python",
   "name": "python",
   "nbconvert_exporter": "python",
   "pygments_lexer": "ipython3",
   "version": "3.10.15"
  }
 },
 "nbformat": 4,
 "nbformat_minor": 2
}
