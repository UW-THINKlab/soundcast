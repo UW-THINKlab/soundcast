{
 "cells": [
  {
   "cell_type": "raw",
   "metadata": {
    "vscode": {
     "languageId": "raw"
    }
   },
   "source": [
    "---\n",
    "title: \"Summary\"\n",
    "date: today\n",
    "---"
   ]
  },
  {
   "cell_type": "code",
   "execution_count": 1,
   "metadata": {
    "execution": {
     "iopub.execute_input": "2025-03-01T06:59:35.888830Z",
     "iopub.status.busy": "2025-03-01T06:59:35.886835Z",
     "iopub.status.idle": "2025-03-01T06:59:36.976475Z",
     "shell.execute_reply": "2025-03-01T06:59:36.974481Z"
    }
   },
   "outputs": [],
   "source": [
    "#| include: false\n",
    "\n",
    "import os\n",
    "import pandas as pd\n",
    "import numpy as np\n",
    "# import plotly.express as px\n",
    "import toml\n",
    "# import psrc_theme\n",
    "from pathlib import Path\n",
    "import summary_data\n",
    "\n",
    "# to show plotly figures in quarto HTML file\n",
    "# import plotly.io as pio\n",
    "# pio.renderers.default = \"plotly_mimetype+notebook_connected\"\n",
    "# pio.templates.default = \"simple_white+psrc_color\" # set plotly template\n",
    "\n",
    "config = summary_data.CONFIG\n",
    "all_runs = summary_data.ALL_RUNS"
   ]
  },
  {
   "cell_type": "markdown",
   "metadata": {},
   "source": [
    "- run locations"
   ]
  },
  {
   "cell_type": "code",
   "execution_count": 2,
   "metadata": {
    "execution": {
     "iopub.execute_input": "2025-03-01T06:59:36.989440Z",
     "iopub.status.busy": "2025-03-01T06:59:36.988443Z",
     "iopub.status.idle": "2025-03-01T06:59:37.039307Z",
     "shell.execute_reply": "2025-03-01T06:59:37.037313Z"
    }
   },
   "outputs": [
    {
     "data": {
      "text/html": [
       "<div>\n",
       "<style scoped>\n",
       "    .dataframe tbody tr th:only-of-type {\n",
       "        vertical-align: middle;\n",
       "    }\n",
       "\n",
       "    .dataframe tbody tr th {\n",
       "        vertical-align: top;\n",
       "    }\n",
       "\n",
       "    .dataframe thead th {\n",
       "        text-align: right;\n",
       "    }\n",
       "</style>\n",
       "<table border=\"1\" class=\"dataframe\">\n",
       "  <thead>\n",
       "    <tr style=\"text-align: right;\">\n",
       "      <th></th>\n",
       "      <th>run location</th>\n",
       "    </tr>\n",
       "  </thead>\n",
       "  <tbody>\n",
       "    <tr>\n",
       "      <th>2023 base year</th>\n",
       "      <td>\\\\modelstation2\\c$\\Workspace\\sc_23_02_17_25</td>\n",
       "    </tr>\n",
       "    <tr>\n",
       "      <th>2050</th>\n",
       "      <td>C:\\workspace\\sc_2050_base_year_2023</td>\n",
       "    </tr>\n",
       "    <tr>\n",
       "      <th>2050 (no telecommute)</th>\n",
       "      <td>C:\\workspace\\sc_2050_base_year_2023_no_telecom...</td>\n",
       "    </tr>\n",
       "  </tbody>\n",
       "</table>\n",
       "</div>"
      ],
      "text/plain": [
       "                                                            run location\n",
       "2023 base year               \\\\modelstation2\\c$\\Workspace\\sc_23_02_17_25\n",
       "2050                                 C:\\workspace\\sc_2050_base_year_2023\n",
       "2050 (no telecommute)  C:\\workspace\\sc_2050_base_year_2023_no_telecom..."
      ]
     },
     "execution_count": 2,
     "metadata": {},
     "output_type": "execute_result"
    }
   ],
   "source": [
    "pd.DataFrame.from_dict(all_runs, orient='index',\n",
    "                       columns=['run location'])"
   ]
  },
  {
   "cell_type": "markdown",
   "metadata": {},
   "source": [
    "## top sheet summary"
   ]
  },
  {
   "cell_type": "code",
   "execution_count": 3,
   "metadata": {
    "execution": {
     "iopub.execute_input": "2025-03-01T06:59:37.102361Z",
     "iopub.status.busy": "2025-03-01T06:59:37.100367Z",
     "iopub.status.idle": "2025-03-01T07:00:09.646705Z",
     "shell.execute_reply": "2025-03-01T07:00:09.644678Z"
    }
   },
   "outputs": [],
   "source": [
    "# network summary: 'VMT','VHT','total_delay'\n",
    "df_network = summary_data.load_agg_data('network/network_results.csv')\n",
    "network_summary = df_network.groupby('source')[['VMT','VHT','total_delay']].sum()\n",
    "network_summary = network_summary.rename(columns={'total_delay': 'Delay'})\n",
    "# transit boardings\n",
    "df_boardings = summary_data.load_agg_data('transit/daily_boardings_by_agency.csv')\n",
    "transit_ridership = df_boardings.groupby('source')['boardings'].sum()\n",
    "# mode share\n",
    "df_trip = summary_data.load_agg_data('agg/dash/mode_share_county.csv')\n",
    "df = df_trip.groupby('source')['trexpfac'].sum() # total trips\n",
    "transit_share = df_trip.loc[df_trip['mode']==\"Transit\"].groupby('source')['trexpfac'].sum()/df\n",
    "\n",
    "# emission\n",
    "df_emissions = summary_data.load_agg_data('emissions/emissions_summary.csv')\n",
    "df = df_emissions.loc[(df_emissions['veh_type'].isin(['light','medium','heavy'])) & \\\n",
    "                      (df_emissions['pollutant_name']==\"CO2 Equivalent\")].copy()\n",
    "CO2e = df.groupby('source')['total_daily_tons'].sum()"
   ]
  },
  {
   "cell_type": "code",
   "execution_count": 4,
   "metadata": {
    "execution": {
     "iopub.execute_input": "2025-03-01T07:00:09.658675Z",
     "iopub.status.busy": "2025-03-01T07:00:09.657678Z",
     "iopub.status.idle": "2025-03-01T07:00:10.989718Z",
     "shell.execute_reply": "2025-03-01T07:00:10.987169Z"
    }
   },
   "outputs": [
    {
     "data": {
      "text/html": [
       "<style type=\"text/css\">\n",
       "</style>\n",
       "<table id=\"T_c39cf\">\n",
       "  <thead>\n",
       "    <tr>\n",
       "      <th class=\"blank level0\" >&nbsp;</th>\n",
       "      <th id=\"T_c39cf_level0_col0\" class=\"col_heading level0 col0\" >VMT</th>\n",
       "      <th id=\"T_c39cf_level0_col1\" class=\"col_heading level0 col1\" >VHT</th>\n",
       "      <th id=\"T_c39cf_level0_col2\" class=\"col_heading level0 col2\" >Delay</th>\n",
       "      <th id=\"T_c39cf_level0_col3\" class=\"col_heading level0 col3\" >Transit Boardings</th>\n",
       "      <th id=\"T_c39cf_level0_col4\" class=\"col_heading level0 col4\" >% Transit</th>\n",
       "      <th id=\"T_c39cf_level0_col5\" class=\"col_heading level0 col5\" >CO2e</th>\n",
       "    </tr>\n",
       "    <tr>\n",
       "      <th class=\"index_name level0\" >source</th>\n",
       "      <th class=\"blank col0\" >&nbsp;</th>\n",
       "      <th class=\"blank col1\" >&nbsp;</th>\n",
       "      <th class=\"blank col2\" >&nbsp;</th>\n",
       "      <th class=\"blank col3\" >&nbsp;</th>\n",
       "      <th class=\"blank col4\" >&nbsp;</th>\n",
       "      <th class=\"blank col5\" >&nbsp;</th>\n",
       "    </tr>\n",
       "  </thead>\n",
       "  <tbody>\n",
       "    <tr>\n",
       "      <th id=\"T_c39cf_level0_row0\" class=\"row_heading level0 row0\" >2023 base year</th>\n",
       "      <td id=\"T_c39cf_row0_col0\" class=\"data row0 col0\" >83,284,423</td>\n",
       "      <td id=\"T_c39cf_row0_col1\" class=\"data row0 col1\" >2,560,336</td>\n",
       "      <td id=\"T_c39cf_row0_col2\" class=\"data row0 col2\" >243,164</td>\n",
       "      <td id=\"T_c39cf_row0_col3\" class=\"data row0 col3\" >492,670</td>\n",
       "      <td id=\"T_c39cf_row0_col4\" class=\"data row0 col4\" >2.2%</td>\n",
       "      <td id=\"T_c39cf_row0_col5\" class=\"data row0 col5\" >41,889</td>\n",
       "    </tr>\n",
       "    <tr>\n",
       "      <th id=\"T_c39cf_level0_row1\" class=\"row_heading level0 row1\" >2050</th>\n",
       "      <td id=\"T_c39cf_row1_col0\" class=\"data row1 col0\" >95,979,446</td>\n",
       "      <td id=\"T_c39cf_row1_col1\" class=\"data row1 col1\" >3,014,439</td>\n",
       "      <td id=\"T_c39cf_row1_col2\" class=\"data row1 col2\" >342,792</td>\n",
       "      <td id=\"T_c39cf_row1_col3\" class=\"data row1 col3\" >1,407,741</td>\n",
       "      <td id=\"T_c39cf_row1_col4\" class=\"data row1 col4\" >4.6%</td>\n",
       "      <td id=\"T_c39cf_row1_col5\" class=\"data row1 col5\" >34,002</td>\n",
       "    </tr>\n",
       "    <tr>\n",
       "      <th id=\"T_c39cf_level0_row2\" class=\"row_heading level0 row2\" >2050 (no telecommute)</th>\n",
       "      <td id=\"T_c39cf_row2_col0\" class=\"data row2 col0\" >99,224,832</td>\n",
       "      <td id=\"T_c39cf_row2_col1\" class=\"data row2 col1\" >3,166,611</td>\n",
       "      <td id=\"T_c39cf_row2_col2\" class=\"data row2 col2\" >389,485</td>\n",
       "      <td id=\"T_c39cf_row2_col3\" class=\"data row2 col3\" >1,477,941</td>\n",
       "      <td id=\"T_c39cf_row2_col4\" class=\"data row2 col4\" >4.6%</td>\n",
       "      <td id=\"T_c39cf_row2_col5\" class=\"data row2 col5\" >35,079</td>\n",
       "    </tr>\n",
       "  </tbody>\n",
       "</table>\n"
      ],
      "text/plain": [
       "<pandas.io.formats.style.Styler at 0x1c7a1e22c20>"
      ]
     },
     "execution_count": 4,
     "metadata": {},
     "output_type": "execute_result"
    }
   ],
   "source": [
    "run_summary2 = pd.DataFrame({\n",
    "    'Transit Boardings': transit_ridership,\n",
    "    '% Transit': transit_share,\n",
    "    'CO2e': CO2e\n",
    "})\n",
    "\n",
    "pd.concat([network_summary,run_summary2], axis=1).style.\\\n",
    "        format('{:,.0f}', subset=['VMT','VHT','Delay','Transit Boardings','CO2e']).\\\n",
    "        format('{:.1%}', subset=['% Transit'])"
   ]
  },
  {
   "cell_type": "code",
   "execution_count": 5,
   "metadata": {
    "execution": {
     "iopub.execute_input": "2025-03-01T07:00:11.001676Z",
     "iopub.status.busy": "2025-03-01T07:00:10.999682Z",
     "iopub.status.idle": "2025-03-01T07:00:11.019628Z",
     "shell.execute_reply": "2025-03-01T07:00:11.017633Z"
    }
   },
   "outputs": [],
   "source": [
    "# df_network['data3'].value_counts()"
   ]
  },
  {
   "cell_type": "markdown",
   "metadata": {},
   "source": [
    "## population & households"
   ]
  },
  {
   "cell_type": "code",
   "execution_count": 6,
   "metadata": {
    "execution": {
     "iopub.execute_input": "2025-03-01T07:00:11.030598Z",
     "iopub.status.busy": "2025-03-01T07:00:11.029601Z",
     "iopub.status.idle": "2025-03-01T07:00:11.050689Z",
     "shell.execute_reply": "2025-03-01T07:00:11.049170Z"
    }
   },
   "outputs": [],
   "source": [
    "def count_by_county(output_path: str, summary_var: str, expfac_name: str, axis_name: str):\n",
    "    df = summary_data.load_agg_data(output_path)\n",
    "\n",
    "    tab = df.groupby(['source',summary_var])[expfac_name].sum().\\\n",
    "        unstack(summary_var).\\\n",
    "        rename_axis(columns={summary_var: axis_name})\n",
    "    tab['Total'] = tab.sum(axis=1)\n",
    "\n",
    "    display(tab.style.format('{:,.0f}'))"
   ]
  },
  {
   "cell_type": "code",
   "execution_count": 7,
   "metadata": {
    "execution": {
     "iopub.execute_input": "2025-03-01T07:00:11.062653Z",
     "iopub.status.busy": "2025-03-01T07:00:11.061656Z",
     "iopub.status.idle": "2025-03-01T07:00:11.144601Z",
     "shell.execute_reply": "2025-03-01T07:00:11.142577Z"
    }
   },
   "outputs": [
    {
     "data": {
      "text/html": [
       "<style type=\"text/css\">\n",
       "</style>\n",
       "<table id=\"T_cd5cc\">\n",
       "  <thead>\n",
       "    <tr>\n",
       "      <th class=\"index_name level0\" >Population by county</th>\n",
       "      <th id=\"T_cd5cc_level0_col0\" class=\"col_heading level0 col0\" >King</th>\n",
       "      <th id=\"T_cd5cc_level0_col1\" class=\"col_heading level0 col1\" >Kitsap</th>\n",
       "      <th id=\"T_cd5cc_level0_col2\" class=\"col_heading level0 col2\" >Outside Region</th>\n",
       "      <th id=\"T_cd5cc_level0_col3\" class=\"col_heading level0 col3\" >Pierce</th>\n",
       "      <th id=\"T_cd5cc_level0_col4\" class=\"col_heading level0 col4\" >Snohomish</th>\n",
       "      <th id=\"T_cd5cc_level0_col5\" class=\"col_heading level0 col5\" >Total</th>\n",
       "    </tr>\n",
       "    <tr>\n",
       "      <th class=\"index_name level0\" >source</th>\n",
       "      <th class=\"blank col0\" >&nbsp;</th>\n",
       "      <th class=\"blank col1\" >&nbsp;</th>\n",
       "      <th class=\"blank col2\" >&nbsp;</th>\n",
       "      <th class=\"blank col3\" >&nbsp;</th>\n",
       "      <th class=\"blank col4\" >&nbsp;</th>\n",
       "      <th class=\"blank col5\" >&nbsp;</th>\n",
       "    </tr>\n",
       "  </thead>\n",
       "  <tbody>\n",
       "    <tr>\n",
       "      <th id=\"T_cd5cc_level0_row0\" class=\"row_heading level0 row0\" >2023 base year</th>\n",
       "      <td id=\"T_cd5cc_row0_col0\" class=\"data row0 col0\" >2,303,851</td>\n",
       "      <td id=\"T_cd5cc_row0_col1\" class=\"data row0 col1\" >275,120</td>\n",
       "      <td id=\"T_cd5cc_row0_col2\" class=\"data row0 col2\" >8</td>\n",
       "      <td id=\"T_cd5cc_row0_col3\" class=\"data row0 col3\" >925,555</td>\n",
       "      <td id=\"T_cd5cc_row0_col4\" class=\"data row0 col4\" >851,485</td>\n",
       "      <td id=\"T_cd5cc_row0_col5\" class=\"data row0 col5\" >4,356,019</td>\n",
       "    </tr>\n",
       "    <tr>\n",
       "      <th id=\"T_cd5cc_level0_row1\" class=\"row_heading level0 row1\" >2050</th>\n",
       "      <td id=\"T_cd5cc_row1_col0\" class=\"data row1 col0\" >3,071,847</td>\n",
       "      <td id=\"T_cd5cc_row1_col1\" class=\"data row1 col1\" >356,124</td>\n",
       "      <td id=\"T_cd5cc_row1_col2\" class=\"data row1 col2\" >281</td>\n",
       "      <td id=\"T_cd5cc_row1_col3\" class=\"data row1 col3\" >1,311,285</td>\n",
       "      <td id=\"T_cd5cc_row1_col4\" class=\"data row1 col4\" >1,087,666</td>\n",
       "      <td id=\"T_cd5cc_row1_col5\" class=\"data row1 col5\" >5,827,203</td>\n",
       "    </tr>\n",
       "    <tr>\n",
       "      <th id=\"T_cd5cc_level0_row2\" class=\"row_heading level0 row2\" >2050 (no telecommute)</th>\n",
       "      <td id=\"T_cd5cc_row2_col0\" class=\"data row2 col0\" >3,071,847</td>\n",
       "      <td id=\"T_cd5cc_row2_col1\" class=\"data row2 col1\" >356,124</td>\n",
       "      <td id=\"T_cd5cc_row2_col2\" class=\"data row2 col2\" >281</td>\n",
       "      <td id=\"T_cd5cc_row2_col3\" class=\"data row2 col3\" >1,311,285</td>\n",
       "      <td id=\"T_cd5cc_row2_col4\" class=\"data row2 col4\" >1,087,666</td>\n",
       "      <td id=\"T_cd5cc_row2_col5\" class=\"data row2 col5\" >5,827,203</td>\n",
       "    </tr>\n",
       "  </tbody>\n",
       "</table>\n"
      ],
      "text/plain": [
       "<pandas.io.formats.style.Styler at 0x1c9b5891810>"
      ]
     },
     "metadata": {},
     "output_type": "display_data"
    }
   ],
   "source": [
    "count_by_county('agg/dash/pptyp_county.csv','person_county','psexpfac','Population by county')"
   ]
  },
  {
   "cell_type": "code",
   "execution_count": 8,
   "metadata": {
    "execution": {
     "iopub.execute_input": "2025-03-01T07:00:11.156605Z",
     "iopub.status.busy": "2025-03-01T07:00:11.154619Z",
     "iopub.status.idle": "2025-03-01T07:00:11.238032Z",
     "shell.execute_reply": "2025-03-01T07:00:11.236037Z"
    }
   },
   "outputs": [
    {
     "data": {
      "text/html": [
       "<style type=\"text/css\">\n",
       "</style>\n",
       "<table id=\"T_9f7a5\">\n",
       "  <thead>\n",
       "    <tr>\n",
       "      <th class=\"index_name level0\" >Households by county</th>\n",
       "      <th id=\"T_9f7a5_level0_col0\" class=\"col_heading level0 col0\" >King</th>\n",
       "      <th id=\"T_9f7a5_level0_col1\" class=\"col_heading level0 col1\" >Kitsap</th>\n",
       "      <th id=\"T_9f7a5_level0_col2\" class=\"col_heading level0 col2\" >Pierce</th>\n",
       "      <th id=\"T_9f7a5_level0_col3\" class=\"col_heading level0 col3\" >Snohomish</th>\n",
       "      <th id=\"T_9f7a5_level0_col4\" class=\"col_heading level0 col4\" >Total</th>\n",
       "    </tr>\n",
       "    <tr>\n",
       "      <th class=\"index_name level0\" >source</th>\n",
       "      <th class=\"blank col0\" >&nbsp;</th>\n",
       "      <th class=\"blank col1\" >&nbsp;</th>\n",
       "      <th class=\"blank col2\" >&nbsp;</th>\n",
       "      <th class=\"blank col3\" >&nbsp;</th>\n",
       "      <th class=\"blank col4\" >&nbsp;</th>\n",
       "    </tr>\n",
       "  </thead>\n",
       "  <tbody>\n",
       "    <tr>\n",
       "      <th id=\"T_9f7a5_level0_row0\" class=\"row_heading level0 row0\" >2023 base year</th>\n",
       "      <td id=\"T_9f7a5_row0_col0\" class=\"data row0 col0\" >866,673</td>\n",
       "      <td id=\"T_9f7a5_row0_col1\" class=\"data row0 col1\" >39,114</td>\n",
       "      <td id=\"T_9f7a5_row0_col2\" class=\"data row0 col2\" >196,913</td>\n",
       "      <td id=\"T_9f7a5_row0_col3\" class=\"data row0 col3\" >187,282</td>\n",
       "      <td id=\"T_9f7a5_row0_col4\" class=\"data row0 col4\" >1,289,982</td>\n",
       "    </tr>\n",
       "    <tr>\n",
       "      <th id=\"T_9f7a5_level0_row1\" class=\"row_heading level0 row1\" >2050</th>\n",
       "      <td id=\"T_9f7a5_row1_col0\" class=\"data row1 col0\" >1,121,117</td>\n",
       "      <td id=\"T_9f7a5_row1_col1\" class=\"data row1 col1\" >42,324</td>\n",
       "      <td id=\"T_9f7a5_row1_col2\" class=\"data row1 col2\" >255,972</td>\n",
       "      <td id=\"T_9f7a5_row1_col3\" class=\"data row1 col3\" >225,160</td>\n",
       "      <td id=\"T_9f7a5_row1_col4\" class=\"data row1 col4\" >1,644,573</td>\n",
       "    </tr>\n",
       "    <tr>\n",
       "      <th id=\"T_9f7a5_level0_row2\" class=\"row_heading level0 row2\" >2050 (no telecommute)</th>\n",
       "      <td id=\"T_9f7a5_row2_col0\" class=\"data row2 col0\" >1,121,117</td>\n",
       "      <td id=\"T_9f7a5_row2_col1\" class=\"data row2 col1\" >42,324</td>\n",
       "      <td id=\"T_9f7a5_row2_col2\" class=\"data row2 col2\" >255,972</td>\n",
       "      <td id=\"T_9f7a5_row2_col3\" class=\"data row2 col3\" >225,160</td>\n",
       "      <td id=\"T_9f7a5_row2_col4\" class=\"data row2 col4\" >1,644,573</td>\n",
       "    </tr>\n",
       "  </tbody>\n",
       "</table>\n"
      ],
      "text/plain": [
       "<pandas.io.formats.style.Styler at 0x1c9b83cbc10>"
      ]
     },
     "metadata": {},
     "output_type": "display_data"
    }
   ],
   "source": [
    "count_by_county('agg/dash/hh_geog.csv','hh_county','hhexpfac','Households by county')"
   ]
  },
  {
   "cell_type": "markdown",
   "metadata": {},
   "source": [
    "## employment by work location"
   ]
  },
  {
   "cell_type": "code",
   "execution_count": 9,
   "metadata": {
    "execution": {
     "iopub.execute_input": "2025-03-01T07:00:11.250000Z",
     "iopub.status.busy": "2025-03-01T07:00:11.249002Z",
     "iopub.status.idle": "2025-03-01T07:00:11.316071Z",
     "shell.execute_reply": "2025-03-01T07:00:11.314078Z"
    }
   },
   "outputs": [
    {
     "data": {
      "text/html": [
       "<style type=\"text/css\">\n",
       "</style>\n",
       "<table id=\"T_2f59d\">\n",
       "  <thead>\n",
       "    <tr>\n",
       "      <th class=\"index_name level0\" >Employment by county</th>\n",
       "      <th id=\"T_2f59d_level0_col0\" class=\"col_heading level0 col0\" >King</th>\n",
       "      <th id=\"T_2f59d_level0_col1\" class=\"col_heading level0 col1\" >Kitsap</th>\n",
       "      <th id=\"T_2f59d_level0_col2\" class=\"col_heading level0 col2\" >Outside Region</th>\n",
       "      <th id=\"T_2f59d_level0_col3\" class=\"col_heading level0 col3\" >Pierce</th>\n",
       "      <th id=\"T_2f59d_level0_col4\" class=\"col_heading level0 col4\" >Snohomish</th>\n",
       "      <th id=\"T_2f59d_level0_col5\" class=\"col_heading level0 col5\" >Total</th>\n",
       "    </tr>\n",
       "    <tr>\n",
       "      <th class=\"index_name level0\" >source</th>\n",
       "      <th class=\"blank col0\" >&nbsp;</th>\n",
       "      <th class=\"blank col1\" >&nbsp;</th>\n",
       "      <th class=\"blank col2\" >&nbsp;</th>\n",
       "      <th class=\"blank col3\" >&nbsp;</th>\n",
       "      <th class=\"blank col4\" >&nbsp;</th>\n",
       "      <th class=\"blank col5\" >&nbsp;</th>\n",
       "    </tr>\n",
       "  </thead>\n",
       "  <tbody>\n",
       "    <tr>\n",
       "      <th id=\"T_2f59d_level0_row0\" class=\"row_heading level0 row0\" >2023 base year</th>\n",
       "      <td id=\"T_2f59d_row0_col0\" class=\"data row0 col0\" >1,306,494</td>\n",
       "      <td id=\"T_2f59d_row0_col1\" class=\"data row0 col1\" >84,946</td>\n",
       "      <td id=\"T_2f59d_row0_col2\" class=\"data row0 col2\" >nan</td>\n",
       "      <td id=\"T_2f59d_row0_col3\" class=\"data row0 col3\" >289,579</td>\n",
       "      <td id=\"T_2f59d_row0_col4\" class=\"data row0 col4\" >284,712</td>\n",
       "      <td id=\"T_2f59d_row0_col5\" class=\"data row0 col5\" >1,965,731</td>\n",
       "    </tr>\n",
       "    <tr>\n",
       "      <th id=\"T_2f59d_level0_row1\" class=\"row_heading level0 row1\" >2050</th>\n",
       "      <td id=\"T_2f59d_row1_col0\" class=\"data row1 col0\" >1,590,694</td>\n",
       "      <td id=\"T_2f59d_row1_col1\" class=\"data row1 col1\" >106,643</td>\n",
       "      <td id=\"T_2f59d_row1_col2\" class=\"data row1 col2\" >432</td>\n",
       "      <td id=\"T_2f59d_row1_col3\" class=\"data row1 col3\" >424,220</td>\n",
       "      <td id=\"T_2f59d_row1_col4\" class=\"data row1 col4\" >371,638</td>\n",
       "      <td id=\"T_2f59d_row1_col5\" class=\"data row1 col5\" >2,493,627</td>\n",
       "    </tr>\n",
       "    <tr>\n",
       "      <th id=\"T_2f59d_level0_row2\" class=\"row_heading level0 row2\" >2050 (no telecommute)</th>\n",
       "      <td id=\"T_2f59d_row2_col0\" class=\"data row2 col0\" >1,631,199</td>\n",
       "      <td id=\"T_2f59d_row2_col1\" class=\"data row2 col1\" >108,916</td>\n",
       "      <td id=\"T_2f59d_row2_col2\" class=\"data row2 col2\" >416</td>\n",
       "      <td id=\"T_2f59d_row2_col3\" class=\"data row2 col3\" >402,133</td>\n",
       "      <td id=\"T_2f59d_row2_col4\" class=\"data row2 col4\" >373,730</td>\n",
       "      <td id=\"T_2f59d_row2_col5\" class=\"data row2 col5\" >2,516,394</td>\n",
       "    </tr>\n",
       "  </tbody>\n",
       "</table>\n"
      ],
      "text/plain": [
       "<pandas.io.formats.style.Styler at 0x1c9b83cb8e0>"
      ]
     },
     "metadata": {},
     "output_type": "display_data"
    }
   ],
   "source": [
    "count_by_county('agg/dash/person_worker_type.csv','person_work_county','psexpfac','Employment by county')"
   ]
  }
 ],
 "metadata": {
  "kernelspec": {
   "display_name": "build_notebook",
   "language": "python",
   "name": "python3"
  },
  "language_info": {
   "codemirror_mode": {
    "name": "ipython",
    "version": 3
   },
   "file_extension": ".py",
   "mimetype": "text/x-python",
   "name": "python",
   "nbconvert_exporter": "python",
   "pygments_lexer": "ipython3",
   "version": "3.10.15"
  }
 },
 "nbformat": 4,
 "nbformat_minor": 2
}
