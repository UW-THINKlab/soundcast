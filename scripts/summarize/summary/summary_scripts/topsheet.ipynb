{
 "cells": [
  {
   "cell_type": "raw",
   "metadata": {
    "vscode": {
     "languageId": "raw"
    }
   },
   "source": [
    "---\n",
    "title: \"Summary\"\n",
    "date: today\n",
    "---"
   ]
  },
  {
   "cell_type": "code",
   "execution_count": 1,
   "metadata": {
    "execution": {
     "iopub.execute_input": "2025-03-01T06:59:35.888830Z",
     "iopub.status.busy": "2025-03-01T06:59:35.886835Z",
     "iopub.status.idle": "2025-03-01T06:59:36.976475Z",
     "shell.execute_reply": "2025-03-01T06:59:36.974481Z"
    }
   },
   "outputs": [],
   "source": [
    "#| include: false\n",
    "\n",
    "import os\n",
    "import pandas as pd\n",
    "import numpy as np\n",
    "# import plotly.express as px\n",
    "import toml\n",
    "# import psrc_theme\n",
    "from pathlib import Path\n",
    "import summary_data\n",
    "\n",
    "# to show plotly figures in quarto HTML file\n",
    "# import plotly.io as pio\n",
    "# pio.renderers.default = \"plotly_mimetype+notebook_connected\"\n",
    "# pio.templates.default = \"simple_white+psrc_color\" # set plotly template\n",
    "\n",
    "config = summary_data.CONFIG\n",
    "all_runs = summary_data.ALL_RUNS"
   ]
  },
  {
   "cell_type": "code",
   "execution_count": 2,
   "metadata": {},
   "outputs": [],
   "source": [
    "# all_runs"
   ]
  },
  {
   "cell_type": "markdown",
   "metadata": {},
   "source": [
    "- run locations"
   ]
  },
  {
   "cell_type": "code",
   "execution_count": 3,
   "metadata": {
    "execution": {
     "iopub.execute_input": "2025-03-01T06:59:36.989440Z",
     "iopub.status.busy": "2025-03-01T06:59:36.988443Z",
     "iopub.status.idle": "2025-03-01T06:59:37.039307Z",
     "shell.execute_reply": "2025-03-01T06:59:37.037313Z"
    }
   },
   "outputs": [
    {
     "data": {
      "text/html": [
       "<div>\n",
       "<style scoped>\n",
       "    .dataframe tbody tr th:only-of-type {\n",
       "        vertical-align: middle;\n",
       "    }\n",
       "\n",
       "    .dataframe tbody tr th {\n",
       "        vertical-align: top;\n",
       "    }\n",
       "\n",
       "    .dataframe thead th {\n",
       "        text-align: right;\n",
       "    }\n",
       "</style>\n",
       "<table border=\"1\" class=\"dataframe\">\n",
       "  <thead>\n",
       "    <tr style=\"text-align: right;\">\n",
       "      <th></th>\n",
       "      <th>run location</th>\n",
       "    </tr>\n",
       "  </thead>\n",
       "  <tbody>\n",
       "    <tr>\n",
       "      <th>current run</th>\n",
       "      <td>..\\..\\..\\..</td>\n",
       "    </tr>\n",
       "    <tr>\n",
       "      <th>2050 (lower WFH and no telecommute)</th>\n",
       "      <td>\\\\modelstation1\\c$\\workspace\\sc_2050_base_year...</td>\n",
       "    </tr>\n",
       "    <tr>\n",
       "      <th>2050 (lower WFH,  no telecommute, new LU)</th>\n",
       "      <td>\\\\modelstation1\\c$\\workspace\\sc_2050_base_year...</td>\n",
       "    </tr>\n",
       "  </tbody>\n",
       "</table>\n",
       "</div>"
      ],
      "text/plain": [
       "                                                                                run location\n",
       "current run                                                                      ..\\..\\..\\..\n",
       "2050 (lower WFH and no telecommute)        \\\\modelstation1\\c$\\workspace\\sc_2050_base_year...\n",
       "2050 (lower WFH,  no telecommute, new LU)  \\\\modelstation1\\c$\\workspace\\sc_2050_base_year..."
      ]
     },
     "execution_count": 3,
     "metadata": {},
     "output_type": "execute_result"
    }
   ],
   "source": [
    "pd.DataFrame.from_dict(all_runs, orient='index',\n",
    "                       columns=['run location'])"
   ]
  },
  {
   "cell_type": "markdown",
   "metadata": {},
   "source": [
    "## System Summary"
   ]
  },
  {
   "cell_type": "code",
   "execution_count": 4,
   "metadata": {},
   "outputs": [],
   "source": [
    "# network summary: 'VMT','VHT','total_delay'\n",
    "df_network = summary_data.load_agg_data('network/network_results.csv')"
   ]
  },
  {
   "cell_type": "code",
   "execution_count": 14,
   "metadata": {
    "execution": {
     "iopub.execute_input": "2025-03-01T06:59:37.102361Z",
     "iopub.status.busy": "2025-03-01T06:59:37.100367Z",
     "iopub.status.idle": "2025-03-01T07:00:09.646705Z",
     "shell.execute_reply": "2025-03-01T07:00:09.644678Z"
    }
   },
   "outputs": [],
   "source": [
    "\n",
    "network_summary = df_network.groupby('source')[['VMT','VHT','total_delay']].sum()\n",
    "network_summary = network_summary.rename(columns={'total_delay': 'Delay'})\n",
    "# transit boardings\n",
    "df_boardings = summary_data.load_agg_data('transit/daily_boardings_by_agency.csv')\n",
    "transit_ridership = df_boardings.groupby('source')['boardings'].sum()\n",
    "#Light rail boardings\n",
    "lr_boardings = summary_data.load_agg_data('transit/light_rail_boardings.csv')\n",
    "# drop total rows from light rail boardings\n",
    "lr_boardings = lr_boardings[lr_boardings['Unnamed: 0']!='Total']\n",
    "lr_ridership = lr_boardings.groupby('source')['modeled_5to20'].sum()\n",
    "# mode share\n",
    "df_trip = summary_data.load_agg_data('agg/dash/mode_share_county.csv')\n",
    "df = df_trip.groupby('source')['trexpfac'].sum() # total trips\n",
    "transit_share = df_trip.loc[df_trip['mode']==\"Transit\"].groupby('source')['trexpfac'].sum()/df\n",
    "\n",
    "# emission\n",
    "df_emissions = summary_data.load_agg_data('emissions/emissions_summary.csv')\n",
    "df = df_emissions.loc[(df_emissions['veh_type'].isin(['light','medium','heavy'])) & \\\n",
    "                      (df_emissions['pollutant_name']==\"CO2 Equivalent\")].copy()\n",
    "CO2e = df.groupby('source')['total_daily_tons'].sum()"
   ]
  },
  {
   "cell_type": "code",
   "execution_count": 17,
   "metadata": {},
   "outputs": [
    {
     "data": {
      "text/html": [
       "<style  type=\"text/css\" >\n",
       "</style><table id=\"T_931a9_\" ><thead>    <tr>        <th class=\"blank level0\" ></th>        <th class=\"col_heading level0 col0\" >VMT</th>        <th class=\"col_heading level0 col1\" >VHT</th>        <th class=\"col_heading level0 col2\" >Delay</th>        <th class=\"col_heading level0 col3\" >Transit Boardings</th>        <th class=\"col_heading level0 col4\" >Light Rail Boardings</th>        <th class=\"col_heading level0 col5\" >% Transit</th>        <th class=\"col_heading level0 col6\" >CO2e</th>    </tr>    <tr>        <th class=\"index_name level0\" >source</th>        <th class=\"blank\" ></th>        <th class=\"blank\" ></th>        <th class=\"blank\" ></th>        <th class=\"blank\" ></th>        <th class=\"blank\" ></th>        <th class=\"blank\" ></th>        <th class=\"blank\" ></th>    </tr></thead><tbody>\n",
       "                <tr>\n",
       "                        <th id=\"T_931a9_level0_row0\" class=\"row_heading level0 row0\" >2050 (lower WFH and no telecommute)</th>\n",
       "                        <td id=\"T_931a9_row0_col0\" class=\"data row0 col0\" >100,959,145</td>\n",
       "                        <td id=\"T_931a9_row0_col1\" class=\"data row0 col1\" >3,258,070</td>\n",
       "                        <td id=\"T_931a9_row0_col2\" class=\"data row0 col2\" >425,539</td>\n",
       "                        <td id=\"T_931a9_row0_col3\" class=\"data row0 col3\" >1,515,011</td>\n",
       "                        <td id=\"T_931a9_row0_col4\" class=\"data row0 col4\" >512,199</td>\n",
       "                        <td id=\"T_931a9_row0_col5\" class=\"data row0 col5\" >4.7%</td>\n",
       "                        <td id=\"T_931a9_row0_col6\" class=\"data row0 col6\" >35,687</td>\n",
       "            </tr>\n",
       "            <tr>\n",
       "                        <th id=\"T_931a9_level0_row1\" class=\"row_heading level0 row1\" >2050 (lower WFH,  no telecommute, new LU)</th>\n",
       "                        <td id=\"T_931a9_row1_col0\" class=\"data row1 col0\" >95,144,481</td>\n",
       "                        <td id=\"T_931a9_row1_col1\" class=\"data row1 col1\" >2,966,375</td>\n",
       "                        <td id=\"T_931a9_row1_col2\" class=\"data row1 col2\" >318,427</td>\n",
       "                        <td id=\"T_931a9_row1_col3\" class=\"data row1 col3\" >1,298,849</td>\n",
       "                        <td id=\"T_931a9_row1_col4\" class=\"data row1 col4\" >417,074</td>\n",
       "                        <td id=\"T_931a9_row1_col5\" class=\"data row1 col5\" >4.2%</td>\n",
       "                        <td id=\"T_931a9_row1_col6\" class=\"data row1 col6\" >33,812</td>\n",
       "            </tr>\n",
       "            <tr>\n",
       "                        <th id=\"T_931a9_level0_row2\" class=\"row_heading level0 row2\" >current run</th>\n",
       "                        <td id=\"T_931a9_row2_col0\" class=\"data row2 col0\" >82,956,230</td>\n",
       "                        <td id=\"T_931a9_row2_col1\" class=\"data row2 col1\" >2,553,675</td>\n",
       "                        <td id=\"T_931a9_row2_col2\" class=\"data row2 col2\" >237,452</td>\n",
       "                        <td id=\"T_931a9_row2_col3\" class=\"data row2 col3\" >483,956</td>\n",
       "                        <td id=\"T_931a9_row2_col4\" class=\"data row2 col4\" >135,620</td>\n",
       "                        <td id=\"T_931a9_row2_col5\" class=\"data row2 col5\" >2.1%</td>\n",
       "                        <td id=\"T_931a9_row2_col6\" class=\"data row2 col6\" >41,715</td>\n",
       "            </tr>\n",
       "    </tbody></table>"
      ],
      "text/plain": [
       "<pandas.io.formats.style.Styler at 0x20abf7ce9c8>"
      ]
     },
     "execution_count": 17,
     "metadata": {},
     "output_type": "execute_result"
    }
   ],
   "source": [
    "run_summary2 = pd.DataFrame({\n",
    "    'Transit Boardings': transit_ridership,\n",
    "    'Light Rail Boardings': lr_ridership,\n",
    "    '% Transit': transit_share,\n",
    "    'CO2e': CO2e\n",
    "})\n",
    "\n",
    "pd.concat([network_summary,run_summary2], axis=1).style.\\\n",
    "        format('{:,.0f}', subset=['VMT','VHT','Delay','Transit Boardings','Light Rail Boardings','CO2e']).\\\n",
    "        format('{:.1%}', subset=['% Transit'])"
   ]
  },
  {
   "cell_type": "code",
   "execution_count": 7,
   "metadata": {},
   "outputs": [],
   "source": [
    "# os.getcwd()"
   ]
  },
  {
   "cell_type": "code",
   "execution_count": 8,
   "metadata": {},
   "outputs": [],
   "source": [
    "# # Populations near HCT and frequent transit\n",
    "# df_time = pd.read_csv(r'../../../../outputs/agg/dash/trip_time_total.csv')\n",
    "# df_ff = pd.read_csv(r'../../../../outputs/agg/dash/trip_sov_ff_time.csv')\n",
    "# hh = pd.read_csv(r'../../../../outputs/agg/dash/hh_transit_dist.csv')\n",
    "# person = pd.read_csv(r'../../../../outputs/agg/dash/person_transit_type.csv')"
   ]
  },
  {
   "cell_type": "markdown",
   "metadata": {},
   "source": [
    "## Land Use"
   ]
  },
  {
   "cell_type": "code",
   "execution_count": 18,
   "metadata": {},
   "outputs": [],
   "source": [
    "# Land Use Summary\n",
    "df_parcels = summary_data.load_landuse('landuse/parcels_urbansim.txt')"
   ]
  },
  {
   "cell_type": "code",
   "execution_count": 19,
   "metadata": {},
   "outputs": [
    {
     "data": {
      "text/html": [
       "<style  type=\"text/css\" >\n",
       "</style><table id=\"T_30e98_\" ><thead>    <tr>        <th class=\"blank level0\" ></th>        <th class=\"col_heading level0 col0\" >Households</th>        <th class=\"col_heading level0 col1\" >Jobs</th>    </tr>    <tr>        <th class=\"index_name level0\" >source</th>        <th class=\"blank\" ></th>        <th class=\"blank\" ></th>    </tr></thead><tbody>\n",
       "                <tr>\n",
       "                        <th id=\"T_30e98_level0_row0\" class=\"row_heading level0 row0\" >2050 (lower WFH and no telecommute)</th>\n",
       "                        <td id=\"T_30e98_row0_col0\" class=\"data row0 col0\" >2,422,603</td>\n",
       "                        <td id=\"T_30e98_row0_col1\" class=\"data row0 col1\" >3,137,221</td>\n",
       "            </tr>\n",
       "            <tr>\n",
       "                        <th id=\"T_30e98_level0_row1\" class=\"row_heading level0 row1\" >2050 (lower WFH,  no telecommute, new LU)</th>\n",
       "                        <td id=\"T_30e98_row1_col0\" class=\"data row1 col0\" >2,421,059</td>\n",
       "                        <td id=\"T_30e98_row1_col1\" class=\"data row1 col1\" >3,161,923</td>\n",
       "            </tr>\n",
       "            <tr>\n",
       "                        <th id=\"T_30e98_level0_row2\" class=\"row_heading level0 row2\" >current run</th>\n",
       "                        <td id=\"T_30e98_row2_col0\" class=\"data row2 col0\" >1,736,129</td>\n",
       "                        <td id=\"T_30e98_row2_col1\" class=\"data row2 col1\" >2,190,946</td>\n",
       "            </tr>\n",
       "    </tbody></table>"
      ],
      "text/plain": [
       "<pandas.io.formats.style.Styler at 0x20abf7ce548>"
      ]
     },
     "execution_count": 19,
     "metadata": {},
     "output_type": "execute_result"
    }
   ],
   "source": [
    "# Summarize households and total jobs\n",
    "df_pivot = pd.pivot_table(df_parcels, index='source', values=['hh_p','emptot_p'], aggfunc='sum')\n",
    "df_pivot.rename(columns={'hh_p': 'Households', 'emptot_p':'Jobs'}, inplace=True)\n",
    "# df_pivot = df_pivot.style.format('{:,.f}')\n",
    "df_pivot[['Households','Jobs']].style.format('{:,.0f}')"
   ]
  },
  {
   "cell_type": "code",
   "execution_count": 20,
   "metadata": {},
   "outputs": [],
   "source": [
    "# Summarize jobs by sector\n",
    "# df.columns"
   ]
  },
  {
   "cell_type": "markdown",
   "metadata": {},
   "source": [
    "#### Jobs by Sector"
   ]
  },
  {
   "cell_type": "code",
   "execution_count": 21,
   "metadata": {},
   "outputs": [
    {
     "data": {
      "text/html": [
       "<style  type=\"text/css\" >\n",
       "</style><table id=\"T_b061f_\" ><thead>    <tr>        <th class=\"blank level0\" ></th>        <th class=\"col_heading level0 col0\" >Education</th>        <th class=\"col_heading level0 col1\" >Food</th>        <th class=\"col_heading level0 col2\" >Government</th>        <th class=\"col_heading level0 col3\" >Industrial</th>        <th class=\"col_heading level0 col4\" >Medical</th>        <th class=\"col_heading level0 col5\" >Office</th>        <th class=\"col_heading level0 col6\" >Other</th>        <th class=\"col_heading level0 col7\" >Retail</th>        <th class=\"col_heading level0 col8\" >Resource</th>        <th class=\"col_heading level0 col9\" >Service</th>    </tr>    <tr>        <th class=\"index_name level0\" >source</th>        <th class=\"blank\" ></th>        <th class=\"blank\" ></th>        <th class=\"blank\" ></th>        <th class=\"blank\" ></th>        <th class=\"blank\" ></th>        <th class=\"blank\" ></th>        <th class=\"blank\" ></th>        <th class=\"blank\" ></th>        <th class=\"blank\" ></th>        <th class=\"blank\" ></th>    </tr></thead><tbody>\n",
       "                <tr>\n",
       "                        <th id=\"T_b061f_level0_row0\" class=\"row_heading level0 row0\" >2050 (lower WFH and no telecommute)</th>\n",
       "                        <td id=\"T_b061f_row0_col0\" class=\"data row0 col0\" >282,038</td>\n",
       "                        <td id=\"T_b061f_row0_col1\" class=\"data row0 col1\" >269,830</td>\n",
       "                        <td id=\"T_b061f_row0_col2\" class=\"data row0 col2\" >171,282</td>\n",
       "                        <td id=\"T_b061f_row0_col3\" class=\"data row0 col3\" >367,503</td>\n",
       "                        <td id=\"T_b061f_row0_col4\" class=\"data row0 col4\" >358,855</td>\n",
       "                        <td id=\"T_b061f_row0_col5\" class=\"data row0 col5\" >924,772</td>\n",
       "                        <td id=\"T_b061f_row0_col6\" class=\"data row0 col6\" >162,475</td>\n",
       "                        <td id=\"T_b061f_row0_col7\" class=\"data row0 col7\" >379,308</td>\n",
       "                        <td id=\"T_b061f_row0_col8\" class=\"data row0 col8\" >0</td>\n",
       "                        <td id=\"T_b061f_row0_col9\" class=\"data row0 col9\" >221,158</td>\n",
       "            </tr>\n",
       "            <tr>\n",
       "                        <th id=\"T_b061f_level0_row1\" class=\"row_heading level0 row1\" >2050 (lower WFH,  no telecommute, new LU)</th>\n",
       "                        <td id=\"T_b061f_row1_col0\" class=\"data row1 col0\" >287,539</td>\n",
       "                        <td id=\"T_b061f_row1_col1\" class=\"data row1 col1\" >270,522</td>\n",
       "                        <td id=\"T_b061f_row1_col2\" class=\"data row1 col2\" >179,539</td>\n",
       "                        <td id=\"T_b061f_row1_col3\" class=\"data row1 col3\" >369,405</td>\n",
       "                        <td id=\"T_b061f_row1_col4\" class=\"data row1 col4\" >359,833</td>\n",
       "                        <td id=\"T_b061f_row1_col5\" class=\"data row1 col5\" >923,858</td>\n",
       "                        <td id=\"T_b061f_row1_col6\" class=\"data row1 col6\" >163,738</td>\n",
       "                        <td id=\"T_b061f_row1_col7\" class=\"data row1 col7\" >386,158</td>\n",
       "                        <td id=\"T_b061f_row1_col8\" class=\"data row1 col8\" >0</td>\n",
       "                        <td id=\"T_b061f_row1_col9\" class=\"data row1 col9\" >221,331</td>\n",
       "            </tr>\n",
       "            <tr>\n",
       "                        <th id=\"T_b061f_level0_row2\" class=\"row_heading level0 row2\" >current run</th>\n",
       "                        <td id=\"T_b061f_row2_col0\" class=\"data row2 col0\" >167,143</td>\n",
       "                        <td id=\"T_b061f_row2_col1\" class=\"data row2 col1\" >157,285</td>\n",
       "                        <td id=\"T_b061f_row2_col2\" class=\"data row2 col2\" >222,537</td>\n",
       "                        <td id=\"T_b061f_row2_col3\" class=\"data row2 col3\" >341,587</td>\n",
       "                        <td id=\"T_b061f_row2_col4\" class=\"data row2 col4\" >242,463</td>\n",
       "                        <td id=\"T_b061f_row2_col5\" class=\"data row2 col5\" >582,273</td>\n",
       "                        <td id=\"T_b061f_row2_col6\" class=\"data row2 col6\" >155,306</td>\n",
       "                        <td id=\"T_b061f_row2_col7\" class=\"data row2 col7\" >176,184</td>\n",
       "                        <td id=\"T_b061f_row2_col8\" class=\"data row2 col8\" >0</td>\n",
       "                        <td id=\"T_b061f_row2_col9\" class=\"data row2 col9\" >146,168</td>\n",
       "            </tr>\n",
       "    </tbody></table>"
      ],
      "text/plain": [
       "<pandas.io.formats.style.Styler at 0x20ac0e90b08>"
      ]
     },
     "execution_count": 21,
     "metadata": {},
     "output_type": "execute_result"
    }
   ],
   "source": [
    "df_pivot = pd.pivot_table(df_parcels, index='source', \n",
    "                          values=['empedu_p', 'empfoo_p', 'empgov_p', 'empind_p', 'empmed_p',\n",
    "                                'empofc_p', 'empoth_p', 'empret_p', 'emprsc_p', 'empsvc_p'], \n",
    "                           aggfunc='sum')\n",
    "df_pivot.rename(columns={'empedu_p': 'Education', 'empfoo_p':'Food', 'empgov_p':'Government',\n",
    "                         'empind_p':'Industrial', 'empmed_p':'Medical', 'empofc_p':'Office',\n",
    "                         'empoth_p':'Other', 'empret_p':'Retail', 'emprsc_p':'Resource', 'empsvc_p':'Service'}, inplace=True)\n",
    "df_pivot.style.format('{:,.0f}')"
   ]
  },
  {
   "cell_type": "markdown",
   "metadata": {},
   "source": [
    "#### Student Enrollment"
   ]
  },
  {
   "cell_type": "code",
   "execution_count": 22,
   "metadata": {},
   "outputs": [
    {
     "data": {
      "text/html": [
       "<style  type=\"text/css\" >\n",
       "</style><table id=\"T_2f95d_\" ><thead>    <tr>        <th class=\"blank level0\" ></th>        <th class=\"col_heading level0 col0\" >Grade School</th>        <th class=\"col_heading level0 col1\" >High School</th>        <th class=\"col_heading level0 col2\" >College</th>    </tr>    <tr>        <th class=\"index_name level0\" >source</th>        <th class=\"blank\" ></th>        <th class=\"blank\" ></th>        <th class=\"blank\" ></th>    </tr></thead><tbody>\n",
       "                <tr>\n",
       "                        <th id=\"T_2f95d_level0_row0\" class=\"row_heading level0 row0\" >2050 (lower WFH and no telecommute)</th>\n",
       "                        <td id=\"T_2f95d_row0_col0\" class=\"data row0 col0\" >517,319</td>\n",
       "                        <td id=\"T_2f95d_row0_col1\" class=\"data row0 col1\" >206,601</td>\n",
       "                        <td id=\"T_2f95d_row0_col2\" class=\"data row0 col2\" >224,710</td>\n",
       "            </tr>\n",
       "            <tr>\n",
       "                        <th id=\"T_2f95d_level0_row1\" class=\"row_heading level0 row1\" >2050 (lower WFH,  no telecommute, new LU)</th>\n",
       "                        <td id=\"T_2f95d_row1_col0\" class=\"data row1 col0\" >442,413</td>\n",
       "                        <td id=\"T_2f95d_row1_col1\" class=\"data row1 col1\" >211,261</td>\n",
       "                        <td id=\"T_2f95d_row1_col2\" class=\"data row1 col2\" >136,681</td>\n",
       "            </tr>\n",
       "            <tr>\n",
       "                        <th id=\"T_2f95d_level0_row2\" class=\"row_heading level0 row2\" >current run</th>\n",
       "                        <td id=\"T_2f95d_row2_col0\" class=\"data row2 col0\" >442,413</td>\n",
       "                        <td id=\"T_2f95d_row2_col1\" class=\"data row2 col1\" >211,261</td>\n",
       "                        <td id=\"T_2f95d_row2_col2\" class=\"data row2 col2\" >136,681</td>\n",
       "            </tr>\n",
       "    </tbody></table>"
      ],
      "text/plain": [
       "<pandas.io.formats.style.Styler at 0x20abf7d1948>"
      ]
     },
     "execution_count": 22,
     "metadata": {},
     "output_type": "execute_result"
    }
   ],
   "source": [
    "# Students by grade level\n",
    "df_pivot = pd.pivot_table(df_parcels, index='source', \n",
    "                          values=['stugrd_p', 'stuhgh_p', 'stuuni_p'], \n",
    "                           aggfunc='sum')\n",
    "df_pivot.rename(columns={'stugrd_p': 'Grade School', 'stuhgh_p':'High School', 'stuuni_p':'College'}, inplace=True)\n",
    "df_pivot.style.format('{:,.0f}')"
   ]
  },
  {
   "cell_type": "code",
   "execution_count": 24,
   "metadata": {},
   "outputs": [],
   "source": [
    "# Join parcel lookup data to parcel files to do some county and district summaries\n",
    "# Load parcel geography lookup from soundcast db\n",
    "import sqlite3\n",
    "conn = sqlite3.connect(r'../../../../inputs/db/soundcast_inputs_2023.db')\n",
    "df_geog_lookup = pd.read_sql_query(\"SELECT ParcelID, CountyName, district_name FROM parcel_2023_geography\", conn)"
   ]
  },
  {
   "cell_type": "code",
   "execution_count": 25,
   "metadata": {},
   "outputs": [],
   "source": [
    "# Merge lookup data to parcels\n",
    "df_parcels = df_parcels.merge(df_geog_lookup, left_on='parcelid', right_on='ParcelID', how='left')"
   ]
  },
  {
   "cell_type": "markdown",
   "metadata": {},
   "source": [
    "#### Total Employment by Distict"
   ]
  },
  {
   "cell_type": "code",
   "execution_count": 26,
   "metadata": {},
   "outputs": [
    {
     "data": {
      "text/html": [
       "<style  type=\"text/css\" >\n",
       "</style><table id=\"T_da0e8_\" ><thead>    <tr>        <th class=\"index_name level0\" >source</th>        <th class=\"col_heading level0 col0\" >2050 (lower WFH and no telecommute)</th>        <th class=\"col_heading level0 col1\" >2050 (lower WFH,  no telecommute, new LU)</th>        <th class=\"col_heading level0 col2\" >current run</th>    </tr>    <tr>        <th class=\"index_name level0\" >CountyName</th>        <th class=\"blank\" ></th>        <th class=\"blank\" ></th>        <th class=\"blank\" ></th>    </tr></thead><tbody>\n",
       "                <tr>\n",
       "                        <th id=\"T_da0e8_level0_row0\" class=\"row_heading level0 row0\" >King</th>\n",
       "                        <td id=\"T_da0e8_row0_col0\" class=\"data row0 col0\" >2,013,406</td>\n",
       "                        <td id=\"T_da0e8_row0_col1\" class=\"data row0 col1\" >2,045,960</td>\n",
       "                        <td id=\"T_da0e8_row0_col2\" class=\"data row0 col2\" >1,442,506</td>\n",
       "            </tr>\n",
       "            <tr>\n",
       "                        <th id=\"T_da0e8_level0_row1\" class=\"row_heading level0 row1\" >Kitsap</th>\n",
       "                        <td id=\"T_da0e8_row1_col0\" class=\"data row1 col0\" >138,181</td>\n",
       "                        <td id=\"T_da0e8_row1_col1\" class=\"data row1 col1\" >147,942</td>\n",
       "                        <td id=\"T_da0e8_row1_col2\" class=\"data row1 col2\" >92,707</td>\n",
       "            </tr>\n",
       "            <tr>\n",
       "                        <th id=\"T_da0e8_level0_row2\" class=\"row_heading level0 row2\" >Outside Region</th>\n",
       "                        <td id=\"T_da0e8_row2_col0\" class=\"data row2 col0\" >549</td>\n",
       "                        <td id=\"T_da0e8_row2_col1\" class=\"data row2 col1\" >0</td>\n",
       "                        <td id=\"T_da0e8_row2_col2\" class=\"data row2 col2\" >0</td>\n",
       "            </tr>\n",
       "            <tr>\n",
       "                        <th id=\"T_da0e8_level0_row3\" class=\"row_heading level0 row3\" >Pierce</th>\n",
       "                        <td id=\"T_da0e8_row3_col0\" class=\"data row3 col0\" >517,345</td>\n",
       "                        <td id=\"T_da0e8_row3_col1\" class=\"data row3 col1\" >473,614</td>\n",
       "                        <td id=\"T_da0e8_row3_col2\" class=\"data row3 col2\" >334,336</td>\n",
       "            </tr>\n",
       "            <tr>\n",
       "                        <th id=\"T_da0e8_level0_row4\" class=\"row_heading level0 row4\" >Snohomish</th>\n",
       "                        <td id=\"T_da0e8_row4_col0\" class=\"data row4 col0\" >467,740</td>\n",
       "                        <td id=\"T_da0e8_row4_col1\" class=\"data row4 col1\" >494,407</td>\n",
       "                        <td id=\"T_da0e8_row4_col2\" class=\"data row4 col2\" >321,397</td>\n",
       "            </tr>\n",
       "    </tbody></table>"
      ],
      "text/plain": [
       "<pandas.io.formats.style.Styler at 0x20ac59dd908>"
      ]
     },
     "execution_count": 26,
     "metadata": {},
     "output_type": "execute_result"
    }
   ],
   "source": [
    "# Group total employment by county and source\n",
    "df_pivot = pd.pivot_table(df_parcels, index='CountyName', columns='source', values='emptot_p', aggfunc='sum')\n",
    "df_pivot.style.format('{:,.0f}')"
   ]
  },
  {
   "cell_type": "markdown",
   "metadata": {},
   "source": [
    "#### Total Employment by Distict"
   ]
  },
  {
   "cell_type": "code",
   "execution_count": 28,
   "metadata": {},
   "outputs": [
    {
     "data": {
      "text/html": [
       "<style  type=\"text/css\" >\n",
       "</style><table id=\"T_a84fa_\" ><thead>    <tr>        <th class=\"index_name level0\" >source</th>        <th class=\"col_heading level0 col0\" >2050 (lower WFH and no telecommute)</th>        <th class=\"col_heading level0 col1\" >2050 (lower WFH,  no telecommute, new LU)</th>        <th class=\"col_heading level0 col2\" >current run</th>    </tr>    <tr>        <th class=\"index_name level0\" >district_name</th>        <th class=\"blank\" ></th>        <th class=\"blank\" ></th>        <th class=\"blank\" ></th>    </tr></thead><tbody>\n",
       "                <tr>\n",
       "                        <th id=\"T_a84fa_level0_row0\" class=\"row_heading level0 row0\" >East Side</th>\n",
       "                        <td id=\"T_a84fa_row0_col0\" class=\"data row0 col0\" >688,421</td>\n",
       "                        <td id=\"T_a84fa_row0_col1\" class=\"data row0 col1\" >615,476</td>\n",
       "                        <td id=\"T_a84fa_row0_col2\" class=\"data row0 col2\" >420,109</td>\n",
       "            </tr>\n",
       "            <tr>\n",
       "                        <th id=\"T_a84fa_level0_row1\" class=\"row_heading level0 row1\" >Everett-Lynwood-Edmonds</th>\n",
       "                        <td id=\"T_a84fa_row1_col0\" class=\"data row1 col0\" >125,250</td>\n",
       "                        <td id=\"T_a84fa_row1_col1\" class=\"data row1 col1\" >295,998</td>\n",
       "                        <td id=\"T_a84fa_row1_col2\" class=\"data row1 col2\" >158,328</td>\n",
       "            </tr>\n",
       "            <tr>\n",
       "                        <th id=\"T_a84fa_level0_row2\" class=\"row_heading level0 row2\" >Kitsap</th>\n",
       "                        <td id=\"T_a84fa_row2_col0\" class=\"data row2 col0\" >138,182</td>\n",
       "                        <td id=\"T_a84fa_row2_col1\" class=\"data row2 col1\" >147,942</td>\n",
       "                        <td id=\"T_a84fa_row2_col2\" class=\"data row2 col2\" >92,707</td>\n",
       "            </tr>\n",
       "            <tr>\n",
       "                        <th id=\"T_a84fa_level0_row3\" class=\"row_heading level0 row3\" >North Seattle-Shoreline</th>\n",
       "                        <td id=\"T_a84fa_row3_col0\" class=\"data row3 col0\" >290,757</td>\n",
       "                        <td id=\"T_a84fa_row3_col1\" class=\"data row3 col1\" >190,173</td>\n",
       "                        <td id=\"T_a84fa_row3_col2\" class=\"data row3 col2\" >147,826</td>\n",
       "            </tr>\n",
       "            <tr>\n",
       "                        <th id=\"T_a84fa_level0_row4\" class=\"row_heading level0 row4\" >Renton-FedWay-Kent</th>\n",
       "                        <td id=\"T_a84fa_row4_col0\" class=\"data row4 col0\" >622,509</td>\n",
       "                        <td id=\"T_a84fa_row4_col1\" class=\"data row4 col1\" >531,467</td>\n",
       "                        <td id=\"T_a84fa_row4_col2\" class=\"data row4 col2\" >343,930</td>\n",
       "            </tr>\n",
       "            <tr>\n",
       "                        <th id=\"T_a84fa_level0_row5\" class=\"row_heading level0 row5\" >S.Kitsap</th>\n",
       "                        <td id=\"T_a84fa_row5_col0\" class=\"data row5 col0\" >96,530</td>\n",
       "                        <td id=\"T_a84fa_row5_col1\" class=\"data row5 col1\" >23,537</td>\n",
       "                        <td id=\"T_a84fa_row5_col2\" class=\"data row5 col2\" >19,990</td>\n",
       "            </tr>\n",
       "            <tr>\n",
       "                        <th id=\"T_a84fa_level0_row6\" class=\"row_heading level0 row6\" >Seattle CBD</th>\n",
       "                        <td id=\"T_a84fa_row6_col0\" class=\"data row6 col0\" >165,235</td>\n",
       "                        <td id=\"T_a84fa_row6_col1\" class=\"data row6 col1\" >509,268</td>\n",
       "                        <td id=\"T_a84fa_row6_col2\" class=\"data row6 col2\" >394,252</td>\n",
       "            </tr>\n",
       "            <tr>\n",
       "                        <th id=\"T_a84fa_level0_row7\" class=\"row_heading level0 row7\" >South Pierce</th>\n",
       "                        <td id=\"T_a84fa_row7_col0\" class=\"data row7 col0\" >307,246</td>\n",
       "                        <td id=\"T_a84fa_row7_col1\" class=\"data row7 col1\" >220,779</td>\n",
       "                        <td id=\"T_a84fa_row7_col2\" class=\"data row7 col2\" >167,286</td>\n",
       "            </tr>\n",
       "            <tr>\n",
       "                        <th id=\"T_a84fa_level0_row8\" class=\"row_heading level0 row8\" >Suburban Snohomish</th>\n",
       "                        <td id=\"T_a84fa_row8_col0\" class=\"data row8 col0\" >342,490</td>\n",
       "                        <td id=\"T_a84fa_row8_col1\" class=\"data row8 col1\" >198,412</td>\n",
       "                        <td id=\"T_a84fa_row8_col2\" class=\"data row8 col2\" >163,069</td>\n",
       "            </tr>\n",
       "            <tr>\n",
       "                        <th id=\"T_a84fa_level0_row9\" class=\"row_heading level0 row9\" >Tacoma</th>\n",
       "                        <td id=\"T_a84fa_row9_col0\" class=\"data row9 col0\" >113,488</td>\n",
       "                        <td id=\"T_a84fa_row9_col1\" class=\"data row9 col1\" >229,298</td>\n",
       "                        <td id=\"T_a84fa_row9_col2\" class=\"data row9 col2\" >147,060</td>\n",
       "            </tr>\n",
       "            <tr>\n",
       "                        <th id=\"T_a84fa_level0_row10\" class=\"row_heading level0 row10\" >West-South Seattle</th>\n",
       "                        <td id=\"T_a84fa_row10_col0\" class=\"data row10 col0\" >246,570</td>\n",
       "                        <td id=\"T_a84fa_row10_col1\" class=\"data row10 col1\" >199,573</td>\n",
       "                        <td id=\"T_a84fa_row10_col2\" class=\"data row10 col2\" >136,389</td>\n",
       "            </tr>\n",
       "    </tbody></table>"
      ],
      "text/plain": [
       "<pandas.io.formats.style.Styler at 0x20abf7c3848>"
      ]
     },
     "execution_count": 28,
     "metadata": {},
     "output_type": "execute_result"
    }
   ],
   "source": [
    "# Group total employment by district and source\n",
    "df_pivot = pd.pivot_table(df_parcels, index='district_name', columns='source', values='emptot_p', aggfunc='sum')\n",
    "df_pivot.style.format('{:,.0f}')"
   ]
  },
  {
   "cell_type": "markdown",
   "metadata": {},
   "source": [
    "## Synthetic Population"
   ]
  },
  {
   "cell_type": "code",
   "execution_count": 29,
   "metadata": {
    "execution": {
     "iopub.execute_input": "2025-03-01T07:00:11.030598Z",
     "iopub.status.busy": "2025-03-01T07:00:11.029601Z",
     "iopub.status.idle": "2025-03-01T07:00:11.050689Z",
     "shell.execute_reply": "2025-03-01T07:00:11.049170Z"
    }
   },
   "outputs": [],
   "source": [
    "def count_by_county(output_path: str, summary_var: str, expfac_name: str, axis_name: str):\n",
    "    df = summary_data.load_agg_data(output_path)\n",
    "\n",
    "    tab = df.groupby(['source',summary_var])[expfac_name].sum().\\\n",
    "        unstack(summary_var).\\\n",
    "        rename_axis(columns={summary_var: axis_name})\n",
    "    tab['Total'] = tab.sum(axis=1)\n",
    "\n",
    "    display(tab.style.format('{:,.0f}'))"
   ]
  },
  {
   "cell_type": "code",
   "execution_count": 30,
   "metadata": {
    "execution": {
     "iopub.execute_input": "2025-03-01T07:00:11.062653Z",
     "iopub.status.busy": "2025-03-01T07:00:11.061656Z",
     "iopub.status.idle": "2025-03-01T07:00:11.144601Z",
     "shell.execute_reply": "2025-03-01T07:00:11.142577Z"
    }
   },
   "outputs": [
    {
     "data": {
      "text/html": [
       "<style  type=\"text/css\" >\n",
       "</style><table id=\"T_fa66e_\" ><thead>    <tr>        <th class=\"index_name level0\" >Population by county</th>        <th class=\"col_heading level0 col0\" >King</th>        <th class=\"col_heading level0 col1\" >Kitsap</th>        <th class=\"col_heading level0 col2\" >Outside Region</th>        <th class=\"col_heading level0 col3\" >Pierce</th>        <th class=\"col_heading level0 col4\" >Snohomish</th>        <th class=\"col_heading level0 col5\" >Total</th>    </tr>    <tr>        <th class=\"index_name level0\" >source</th>        <th class=\"blank\" ></th>        <th class=\"blank\" ></th>        <th class=\"blank\" ></th>        <th class=\"blank\" ></th>        <th class=\"blank\" ></th>        <th class=\"blank\" ></th>    </tr></thead><tbody>\n",
       "                <tr>\n",
       "                        <th id=\"T_fa66e_level0_row0\" class=\"row_heading level0 row0\" >2050 (lower WFH and no telecommute)</th>\n",
       "                        <td id=\"T_fa66e_row0_col0\" class=\"data row0 col0\" >3,071,847</td>\n",
       "                        <td id=\"T_fa66e_row0_col1\" class=\"data row0 col1\" >356,124</td>\n",
       "                        <td id=\"T_fa66e_row0_col2\" class=\"data row0 col2\" >281</td>\n",
       "                        <td id=\"T_fa66e_row0_col3\" class=\"data row0 col3\" >1,311,285</td>\n",
       "                        <td id=\"T_fa66e_row0_col4\" class=\"data row0 col4\" >1,087,666</td>\n",
       "                        <td id=\"T_fa66e_row0_col5\" class=\"data row0 col5\" >5,827,203</td>\n",
       "            </tr>\n",
       "            <tr>\n",
       "                        <th id=\"T_fa66e_level0_row1\" class=\"row_heading level0 row1\" >2050 (lower WFH,  no telecommute, new LU)</th>\n",
       "                        <td id=\"T_fa66e_row1_col0\" class=\"data row1 col0\" >2,988,607</td>\n",
       "                        <td id=\"T_fa66e_row1_col1\" class=\"data row1 col1\" >354,233</td>\n",
       "                        <td id=\"T_fa66e_row1_col2\" class=\"data row1 col2\" >14</td>\n",
       "                        <td id=\"T_fa66e_row1_col3\" class=\"data row1 col3\" >1,237,744</td>\n",
       "                        <td id=\"T_fa66e_row1_col4\" class=\"data row1 col4\" >1,207,563</td>\n",
       "                        <td id=\"T_fa66e_row1_col5\" class=\"data row1 col5\" >5,788,161</td>\n",
       "            </tr>\n",
       "            <tr>\n",
       "                        <th id=\"T_fa66e_level0_row2\" class=\"row_heading level0 row2\" >current run</th>\n",
       "                        <td id=\"T_fa66e_row2_col0\" class=\"data row2 col0\" >2,303,851</td>\n",
       "                        <td id=\"T_fa66e_row2_col1\" class=\"data row2 col1\" >275,120</td>\n",
       "                        <td id=\"T_fa66e_row2_col2\" class=\"data row2 col2\" >8</td>\n",
       "                        <td id=\"T_fa66e_row2_col3\" class=\"data row2 col3\" >925,555</td>\n",
       "                        <td id=\"T_fa66e_row2_col4\" class=\"data row2 col4\" >851,485</td>\n",
       "                        <td id=\"T_fa66e_row2_col5\" class=\"data row2 col5\" >4,356,019</td>\n",
       "            </tr>\n",
       "    </tbody></table>"
      ],
      "text/plain": [
       "<pandas.io.formats.style.Styler at 0x20aabe70448>"
      ]
     },
     "metadata": {},
     "output_type": "display_data"
    }
   ],
   "source": [
    "count_by_county('agg/dash/pptyp_county.csv','person_county','psexpfac','Population by county')"
   ]
  },
  {
   "cell_type": "code",
   "execution_count": 31,
   "metadata": {
    "execution": {
     "iopub.execute_input": "2025-03-01T07:00:11.156605Z",
     "iopub.status.busy": "2025-03-01T07:00:11.154619Z",
     "iopub.status.idle": "2025-03-01T07:00:11.238032Z",
     "shell.execute_reply": "2025-03-01T07:00:11.236037Z"
    }
   },
   "outputs": [
    {
     "data": {
      "text/html": [
       "<style  type=\"text/css\" >\n",
       "</style><table id=\"T_c496d_\" ><thead>    <tr>        <th class=\"index_name level0\" >Households by county</th>        <th class=\"col_heading level0 col0\" >King</th>        <th class=\"col_heading level0 col1\" >Kitsap</th>        <th class=\"col_heading level0 col2\" >Pierce</th>        <th class=\"col_heading level0 col3\" >Snohomish</th>        <th class=\"col_heading level0 col4\" >Total</th>    </tr>    <tr>        <th class=\"index_name level0\" >source</th>        <th class=\"blank\" ></th>        <th class=\"blank\" ></th>        <th class=\"blank\" ></th>        <th class=\"blank\" ></th>        <th class=\"blank\" ></th>    </tr></thead><tbody>\n",
       "                <tr>\n",
       "                        <th id=\"T_c496d_level0_row0\" class=\"row_heading level0 row0\" >2050 (lower WFH and no telecommute)</th>\n",
       "                        <td id=\"T_c496d_row0_col0\" class=\"data row0 col0\" >1,121,117</td>\n",
       "                        <td id=\"T_c496d_row0_col1\" class=\"data row0 col1\" >42,324</td>\n",
       "                        <td id=\"T_c496d_row0_col2\" class=\"data row0 col2\" >255,972</td>\n",
       "                        <td id=\"T_c496d_row0_col3\" class=\"data row0 col3\" >225,160</td>\n",
       "                        <td id=\"T_c496d_row0_col4\" class=\"data row0 col4\" >1,644,573</td>\n",
       "            </tr>\n",
       "            <tr>\n",
       "                        <th id=\"T_c496d_level0_row1\" class=\"row_heading level0 row1\" >2050 (lower WFH,  no telecommute, new LU)</th>\n",
       "                        <td id=\"T_c496d_row1_col0\" class=\"data row1 col0\" >1,184,801</td>\n",
       "                        <td id=\"T_c496d_row1_col1\" class=\"data row1 col1\" >60,986</td>\n",
       "                        <td id=\"T_c496d_row1_col2\" class=\"data row1 col2\" >308,856</td>\n",
       "                        <td id=\"T_c496d_row1_col3\" class=\"data row1 col3\" >298,332</td>\n",
       "                        <td id=\"T_c496d_row1_col4\" class=\"data row1 col4\" >1,852,975</td>\n",
       "            </tr>\n",
       "            <tr>\n",
       "                        <th id=\"T_c496d_level0_row2\" class=\"row_heading level0 row2\" >current run</th>\n",
       "                        <td id=\"T_c496d_row2_col0\" class=\"data row2 col0\" >866,673</td>\n",
       "                        <td id=\"T_c496d_row2_col1\" class=\"data row2 col1\" >39,114</td>\n",
       "                        <td id=\"T_c496d_row2_col2\" class=\"data row2 col2\" >196,913</td>\n",
       "                        <td id=\"T_c496d_row2_col3\" class=\"data row2 col3\" >187,282</td>\n",
       "                        <td id=\"T_c496d_row2_col4\" class=\"data row2 col4\" >1,289,982</td>\n",
       "            </tr>\n",
       "    </tbody></table>"
      ],
      "text/plain": [
       "<pandas.io.formats.style.Styler at 0x20aabe70ac8>"
      ]
     },
     "metadata": {},
     "output_type": "display_data"
    }
   ],
   "source": [
    "count_by_county('agg/dash/hh_geog.csv','hh_county','hhexpfac','Households by county')"
   ]
  },
  {
   "cell_type": "markdown",
   "metadata": {},
   "source": [
    "## employment by work location"
   ]
  },
  {
   "cell_type": "code",
   "execution_count": 32,
   "metadata": {
    "execution": {
     "iopub.execute_input": "2025-03-01T07:00:11.250000Z",
     "iopub.status.busy": "2025-03-01T07:00:11.249002Z",
     "iopub.status.idle": "2025-03-01T07:00:11.316071Z",
     "shell.execute_reply": "2025-03-01T07:00:11.314078Z"
    }
   },
   "outputs": [
    {
     "data": {
      "text/html": [
       "<style  type=\"text/css\" >\n",
       "</style><table id=\"T_d9e42_\" ><thead>    <tr>        <th class=\"index_name level0\" >Employment by county</th>        <th class=\"col_heading level0 col0\" >King</th>        <th class=\"col_heading level0 col1\" >Kitsap</th>        <th class=\"col_heading level0 col2\" >Outside Region</th>        <th class=\"col_heading level0 col3\" >Pierce</th>        <th class=\"col_heading level0 col4\" >Snohomish</th>        <th class=\"col_heading level0 col5\" >Total</th>    </tr>    <tr>        <th class=\"index_name level0\" >source</th>        <th class=\"blank\" ></th>        <th class=\"blank\" ></th>        <th class=\"blank\" ></th>        <th class=\"blank\" ></th>        <th class=\"blank\" ></th>        <th class=\"blank\" ></th>    </tr></thead><tbody>\n",
       "                <tr>\n",
       "                        <th id=\"T_d9e42_level0_row0\" class=\"row_heading level0 row0\" >2050 (lower WFH and no telecommute)</th>\n",
       "                        <td id=\"T_d9e42_row0_col0\" class=\"data row0 col0\" >1,723,378</td>\n",
       "                        <td id=\"T_d9e42_row0_col1\" class=\"data row0 col1\" >114,376</td>\n",
       "                        <td id=\"T_d9e42_row0_col2\" class=\"data row0 col2\" >458</td>\n",
       "                        <td id=\"T_d9e42_row0_col3\" class=\"data row0 col3\" >418,024</td>\n",
       "                        <td id=\"T_d9e42_row0_col4\" class=\"data row0 col4\" >397,336</td>\n",
       "                        <td id=\"T_d9e42_row0_col5\" class=\"data row0 col5\" >2,653,572</td>\n",
       "            </tr>\n",
       "            <tr>\n",
       "                        <th id=\"T_d9e42_level0_row1\" class=\"row_heading level0 row1\" >2050 (lower WFH,  no telecommute, new LU)</th>\n",
       "                        <td id=\"T_d9e42_row1_col0\" class=\"data row1 col0\" >1,216,757</td>\n",
       "                        <td id=\"T_d9e42_row1_col1\" class=\"data row1 col1\" >115,252</td>\n",
       "                        <td id=\"T_d9e42_row1_col2\" class=\"data row1 col2\" >nan</td>\n",
       "                        <td id=\"T_d9e42_row1_col3\" class=\"data row1 col3\" >407,318</td>\n",
       "                        <td id=\"T_d9e42_row1_col4\" class=\"data row1 col4\" >455,182</td>\n",
       "                        <td id=\"T_d9e42_row1_col5\" class=\"data row1 col5\" >2,194,509</td>\n",
       "            </tr>\n",
       "            <tr>\n",
       "                        <th id=\"T_d9e42_level0_row2\" class=\"row_heading level0 row2\" >current run</th>\n",
       "                        <td id=\"T_d9e42_row2_col0\" class=\"data row2 col0\" >1,287,769</td>\n",
       "                        <td id=\"T_d9e42_row2_col1\" class=\"data row2 col1\" >84,566</td>\n",
       "                        <td id=\"T_d9e42_row2_col2\" class=\"data row2 col2\" >nan</td>\n",
       "                        <td id=\"T_d9e42_row2_col3\" class=\"data row2 col3\" >298,838</td>\n",
       "                        <td id=\"T_d9e42_row2_col4\" class=\"data row2 col4\" >281,683</td>\n",
       "                        <td id=\"T_d9e42_row2_col5\" class=\"data row2 col5\" >1,952,856</td>\n",
       "            </tr>\n",
       "    </tbody></table>"
      ],
      "text/plain": [
       "<pandas.io.formats.style.Styler at 0x20ac59ddd08>"
      ]
     },
     "metadata": {},
     "output_type": "display_data"
    }
   ],
   "source": [
    "count_by_county('agg/dash/person_worker_type.csv','person_work_county','psexpfac','Employment by county')"
   ]
  },
  {
   "cell_type": "markdown",
   "metadata": {},
   "source": [
    "## Parking Costs"
   ]
  },
  {
   "cell_type": "code",
   "execution_count": 48,
   "metadata": {},
   "outputs": [
    {
     "data": {
      "text/html": [
       "<style  type=\"text/css\" >\n",
       "</style><table id=\"T_4dca7_\" ><thead>    <tr>        <th class=\"blank level0\" ></th>        <th class=\"col_heading level0 col0\" >ppricdyp</th>    </tr>    <tr>        <th class=\"index_name level0\" >source</th>        <th class=\"blank\" ></th>    </tr></thead><tbody>\n",
       "                <tr>\n",
       "                        <th id=\"T_4dca7_level0_row0\" class=\"row_heading level0 row0\" >2050 (lower WFH and no telecommute)</th>\n",
       "                        <td id=\"T_4dca7_row0_col0\" class=\"data row0 col0\" >100,944,431</td>\n",
       "            </tr>\n",
       "            <tr>\n",
       "                        <th id=\"T_4dca7_level0_row1\" class=\"row_heading level0 row1\" >2050 (lower WFH,  no telecommute, new LU)</th>\n",
       "                        <td id=\"T_4dca7_row1_col0\" class=\"data row1 col0\" >102,112,889</td>\n",
       "            </tr>\n",
       "            <tr>\n",
       "                        <th id=\"T_4dca7_level0_row2\" class=\"row_heading level0 row2\" >current run</th>\n",
       "                        <td id=\"T_4dca7_row2_col0\" class=\"data row2 col0\" >1,029,600</td>\n",
       "            </tr>\n",
       "    </tbody></table>"
      ],
      "text/plain": [
       "<pandas.io.formats.style.Styler at 0x20ac54003c8>"
      ]
     },
     "execution_count": 48,
     "metadata": {},
     "output_type": "execute_result"
    }
   ],
   "source": [
    "# Daily parking cost totals (ppricdyp)\n",
    "pd.pivot_table(df_parcels, index='source', values='ppricdyp', aggfunc='sum').style.format('{:,.0f}')"
   ]
  },
  {
   "cell_type": "code",
   "execution_count": null,
   "metadata": {},
   "outputs": [
    {
     "data": {
      "text/html": [
       "<style  type=\"text/css\" >\n",
       "</style><table id=\"T_b0175_\" ><thead>    <tr>        <th class=\"index_name level0\" >source</th>        <th class=\"col_heading level0 col0\" >2050 (lower WFH and no telecommute)</th>        <th class=\"col_heading level0 col1\" >2050 (lower WFH,  no telecommute, new LU)</th>        <th class=\"col_heading level0 col2\" >current run</th>    </tr>    <tr>        <th class=\"index_name level0\" >district_name</th>        <th class=\"blank\" ></th>        <th class=\"blank\" ></th>        <th class=\"blank\" ></th>    </tr></thead><tbody>\n",
       "                <tr>\n",
       "                        <th id=\"T_b0175_level0_row0\" class=\"row_heading level0 row0\" >East Side</th>\n",
       "                        <td id=\"T_b0175_row0_col0\" class=\"data row0 col0\" >6,874,931</td>\n",
       "                        <td id=\"T_b0175_row0_col1\" class=\"data row0 col1\" >3,235,660</td>\n",
       "                        <td id=\"T_b0175_row0_col2\" class=\"data row0 col2\" >17,700</td>\n",
       "            </tr>\n",
       "            <tr>\n",
       "                        <th id=\"T_b0175_level0_row1\" class=\"row_heading level0 row1\" >Everett-Lynwood-Edmonds</th>\n",
       "                        <td id=\"T_b0175_row1_col0\" class=\"data row1 col0\" >835,171</td>\n",
       "                        <td id=\"T_b0175_row1_col1\" class=\"data row1 col1\" >1,292,854</td>\n",
       "                        <td id=\"T_b0175_row1_col2\" class=\"data row1 col2\" >1,400</td>\n",
       "            </tr>\n",
       "            <tr>\n",
       "                        <th id=\"T_b0175_level0_row2\" class=\"row_heading level0 row2\" >Kitsap</th>\n",
       "                        <td id=\"T_b0175_row2_col0\" class=\"data row2 col0\" >704,201</td>\n",
       "                        <td id=\"T_b0175_row2_col1\" class=\"data row2 col1\" >702,056</td>\n",
       "                        <td id=\"T_b0175_row2_col2\" class=\"data row2 col2\" >5,800</td>\n",
       "            </tr>\n",
       "            <tr>\n",
       "                        <th id=\"T_b0175_level0_row3\" class=\"row_heading level0 row3\" >North Seattle-Shoreline</th>\n",
       "                        <td id=\"T_b0175_row3_col0\" class=\"data row3 col0\" >3,289,225</td>\n",
       "                        <td id=\"T_b0175_row3_col1\" class=\"data row3 col1\" >5,857,784</td>\n",
       "                        <td id=\"T_b0175_row3_col2\" class=\"data row3 col2\" >14,900</td>\n",
       "            </tr>\n",
       "            <tr>\n",
       "                        <th id=\"T_b0175_level0_row4\" class=\"row_heading level0 row4\" >Renton-FedWay-Kent</th>\n",
       "                        <td id=\"T_b0175_row4_col0\" class=\"data row4 col0\" >6,773,264</td>\n",
       "                        <td id=\"T_b0175_row4_col1\" class=\"data row4 col1\" >5,802,658</td>\n",
       "                        <td id=\"T_b0175_row4_col2\" class=\"data row4 col2\" >0</td>\n",
       "            </tr>\n",
       "            <tr>\n",
       "                        <th id=\"T_b0175_level0_row5\" class=\"row_heading level0 row5\" >S.Kitsap</th>\n",
       "                        <td id=\"T_b0175_row5_col0\" class=\"data row5 col0\" >285,793</td>\n",
       "                        <td id=\"T_b0175_row5_col1\" class=\"data row5 col1\" >0</td>\n",
       "                        <td id=\"T_b0175_row5_col2\" class=\"data row5 col2\" >0</td>\n",
       "            </tr>\n",
       "            <tr>\n",
       "                        <th id=\"T_b0175_level0_row6\" class=\"row_heading level0 row6\" >Seattle CBD</th>\n",
       "                        <td id=\"T_b0175_row6_col0\" class=\"data row6 col0\" >1,751,674</td>\n",
       "                        <td id=\"T_b0175_row6_col1\" class=\"data row6 col1\" >5,856,685</td>\n",
       "                        <td id=\"T_b0175_row6_col2\" class=\"data row6 col2\" >145,700</td>\n",
       "            </tr>\n",
       "            <tr>\n",
       "                        <th id=\"T_b0175_level0_row7\" class=\"row_heading level0 row7\" >South Pierce</th>\n",
       "                        <td id=\"T_b0175_row7_col0\" class=\"data row7 col0\" >2,966,534</td>\n",
       "                        <td id=\"T_b0175_row7_col1\" class=\"data row7 col1\" >908,757</td>\n",
       "                        <td id=\"T_b0175_row7_col2\" class=\"data row7 col2\" >0</td>\n",
       "            </tr>\n",
       "            <tr>\n",
       "                        <th id=\"T_b0175_level0_row8\" class=\"row_heading level0 row8\" >Suburban Snohomish</th>\n",
       "                        <td id=\"T_b0175_row8_col0\" class=\"data row8 col0\" >2,025,296</td>\n",
       "                        <td id=\"T_b0175_row8_col1\" class=\"data row8 col1\" >2,151,457</td>\n",
       "                        <td id=\"T_b0175_row8_col2\" class=\"data row8 col2\" >0</td>\n",
       "            </tr>\n",
       "            <tr>\n",
       "                        <th id=\"T_b0175_level0_row9\" class=\"row_heading level0 row9\" >Tacoma</th>\n",
       "                        <td id=\"T_b0175_row9_col0\" class=\"data row9 col0\" >911,299</td>\n",
       "                        <td id=\"T_b0175_row9_col1\" class=\"data row9 col1\" >2,706,628</td>\n",
       "                        <td id=\"T_b0175_row9_col2\" class=\"data row9 col2\" >7,500</td>\n",
       "            </tr>\n",
       "            <tr>\n",
       "                        <th id=\"T_b0175_level0_row10\" class=\"row_heading level0 row10\" >West-South Seattle</th>\n",
       "                        <td id=\"T_b0175_row10_col0\" class=\"data row10 col0\" >3,108,751</td>\n",
       "                        <td id=\"T_b0175_row10_col1\" class=\"data row10 col1\" >1,535,560</td>\n",
       "                        <td id=\"T_b0175_row10_col2\" class=\"data row10 col2\" >5,800</td>\n",
       "            </tr>\n",
       "    </tbody></table>"
      ],
      "text/plain": [
       "<pandas.io.formats.style.Styler at 0x20aa90a7908>"
      ]
     },
     "execution_count": 54,
     "metadata": {},
     "output_type": "execute_result"
    }
   ],
   "source": [
    "# # Parking costs by district\n",
    "# pd.pivot_table(df_parcels, index='district_name', columns='source', values='pprichrp', aggfunc='sum').style.format('{:,.0f}')"
   ]
  },
  {
   "cell_type": "code",
   "execution_count": null,
   "metadata": {},
   "outputs": [
    {
     "data": {
      "text/plain": [
       "Index(['parcelid', 'xcoord_p', 'ycoord_p', 'sqft_p', 'taz_p', 'lutype_p',\n",
       "       'hh_p', 'stugrd_p', 'stuhgh_p', 'stuuni_p', 'empedu_p', 'empfoo_p',\n",
       "       'empgov_p', 'empind_p', 'empmed_p', 'empofc_p', 'empret_p', 'empsvc_p',\n",
       "       'empoth_p', 'emptot_p', 'parkdy_p', 'parkhr_p', 'ppricdyp', 'pprichrp',\n",
       "       'hh_1', 'stugrd_1', 'stuhgh_1', 'stuuni_1', 'empedu_1', 'empfoo_1',\n",
       "       'empgov_1', 'empind_1', 'empmed_1', 'empofc_1', 'empret_1', 'empsvc_1',\n",
       "       'empoth_1', 'emptot_1', 'parkdy_1', 'parkhr_1', 'ppricdy1', 'pprichr1',\n",
       "       'nodes1_1', 'nodes3_1', 'nodes4_1', 'tstops_1', 'nparks_1', 'aparks_1',\n",
       "       'hh_2', 'stugrd_2', 'stuhgh_2', 'stuuni_2', 'empedu_2', 'empfoo_2',\n",
       "       'empgov_2', 'empind_2', 'empmed_2', 'empofc_2', 'empret_2', 'empsvc_2',\n",
       "       'empoth_2', 'emptot_2', 'parkdy_2', 'parkhr_2', 'ppricdy2', 'pprichr2',\n",
       "       'nodes1_2', 'nodes3_2', 'nodes4_2', 'tstops_2', 'nparks_2', 'aparks_2',\n",
       "       'dist_lbus', 'dist_ebus', 'dist_crt', 'dist_fry', 'dist_lrt',\n",
       "       'dist_brt', 'raw_dist_hct', 'raw_dist_transit', 'source'],\n",
       "      dtype='object')"
      ]
     },
     "execution_count": 63,
     "metadata": {},
     "output_type": "execute_result"
    }
   ],
   "source": [
    "# df_buffered.columns"
   ]
  },
  {
   "cell_type": "code",
   "execution_count": 73,
   "metadata": {},
   "outputs": [],
   "source": [
    "# # Check buffered parcels distance to light rail\n",
    "# df_buffered = summary_data.load_landuse('landuse/buffered_parcels.txt')\n",
    "\n",
    "# # Merge geography to file\n",
    "# df_buffered = df_buffered.merge(df_geog_lookup, left_on='parcelid', right_on='ParcelID', how='left')"
   ]
  },
  {
   "cell_type": "code",
   "execution_count": 74,
   "metadata": {},
   "outputs": [],
   "source": [
    "\n",
    "# df_buffered.groupby(['source','district_name'])['dist_lbus'].describe()\n",
    "# # df_buffered.columns"
   ]
  },
  {
   "cell_type": "code",
   "execution_count": null,
   "metadata": {},
   "outputs": [],
   "source": []
  }
 ],
 "metadata": {
  "kernelspec": {
   "display_name": "summary",
   "language": "python",
   "name": "python3"
  },
  "language_info": {
   "codemirror_mode": {
    "name": "ipython",
    "version": 3
   },
   "file_extension": ".py",
   "mimetype": "text/x-python",
   "name": "python",
   "nbconvert_exporter": "python",
   "pygments_lexer": "ipython3",
   "version": "3.7.10"
  }
 },
 "nbformat": 4,
 "nbformat_minor": 2
}
