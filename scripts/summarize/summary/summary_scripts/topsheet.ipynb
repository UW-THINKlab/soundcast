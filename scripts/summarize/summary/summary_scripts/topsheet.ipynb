{
 "cells": [
  {
   "cell_type": "raw",
   "metadata": {
    "vscode": {
     "languageId": "raw"
    }
   },
   "source": [
    "---\n",
    "title: \"Summary\"\n",
    "date: today\n",
    "---"
   ]
  },
  {
   "cell_type": "code",
   "execution_count": 1,
   "metadata": {
    "execution": {
     "iopub.execute_input": "2025-03-01T06:59:35.888830Z",
     "iopub.status.busy": "2025-03-01T06:59:35.886835Z",
     "iopub.status.idle": "2025-03-01T06:59:36.976475Z",
     "shell.execute_reply": "2025-03-01T06:59:36.974481Z"
    }
   },
   "outputs": [],
   "source": [
    "#| include: false\n",
    "\n",
    "import os\n",
    "import pandas as pd\n",
    "import numpy as np\n",
    "# import plotly.express as px\n",
    "import toml\n",
    "# import psrc_theme\n",
    "from pathlib import Path\n",
    "import summary_data\n",
    "\n",
    "# to show plotly figures in quarto HTML file\n",
    "# import plotly.io as pio\n",
    "# pio.renderers.default = \"plotly_mimetype+notebook_connected\"\n",
    "# pio.templates.default = \"simple_white+psrc_color\" # set plotly template\n",
    "\n",
    "config = summary_data.CONFIG\n",
    "all_runs = summary_data.ALL_RUNS"
   ]
  },
  {
   "cell_type": "code",
   "execution_count": 2,
   "metadata": {},
   "outputs": [],
   "source": [
    "# all_runs"
   ]
  },
  {
   "cell_type": "markdown",
   "metadata": {},
   "source": [
    "- run locations"
   ]
  },
  {
   "cell_type": "code",
   "execution_count": 3,
   "metadata": {
    "execution": {
     "iopub.execute_input": "2025-03-01T06:59:36.989440Z",
     "iopub.status.busy": "2025-03-01T06:59:36.988443Z",
     "iopub.status.idle": "2025-03-01T06:59:37.039307Z",
     "shell.execute_reply": "2025-03-01T06:59:37.037313Z"
    }
   },
   "outputs": [
    {
     "data": {
      "text/html": [
       "<div>\n",
       "<style scoped>\n",
       "    .dataframe tbody tr th:only-of-type {\n",
       "        vertical-align: middle;\n",
       "    }\n",
       "\n",
       "    .dataframe tbody tr th {\n",
       "        vertical-align: top;\n",
       "    }\n",
       "\n",
       "    .dataframe thead th {\n",
       "        text-align: right;\n",
       "    }\n",
       "</style>\n",
       "<table border=\"1\" class=\"dataframe\">\n",
       "  <thead>\n",
       "    <tr style=\"text-align: right;\">\n",
       "      <th></th>\n",
       "      <th>run location</th>\n",
       "    </tr>\n",
       "  </thead>\n",
       "  <tbody>\n",
       "    <tr>\n",
       "      <th>current run</th>\n",
       "      <td>\\\\modelstation2\\c$\\Workspace\\sc_2023_04_23_25</td>\n",
       "    </tr>\n",
       "  </tbody>\n",
       "</table>\n",
       "</div>"
      ],
      "text/plain": [
       "                                              run location\n",
       "current run  \\\\modelstation2\\c$\\Workspace\\sc_2023_04_23_25"
      ]
     },
     "execution_count": 3,
     "metadata": {},
     "output_type": "execute_result"
    }
   ],
   "source": [
    "pd.DataFrame.from_dict(all_runs, orient='index',\n",
    "                       columns=['run location'])"
   ]
  },
  {
   "cell_type": "markdown",
   "metadata": {},
   "source": [
    "## System Summary"
   ]
  },
  {
   "cell_type": "code",
   "execution_count": 4,
   "metadata": {},
   "outputs": [],
   "source": [
    "# network summary: 'VMT','VHT','total_delay'\n",
    "df_network = summary_data.load_agg_data('network/network_results.csv')"
   ]
  },
  {
   "cell_type": "code",
   "execution_count": 5,
   "metadata": {},
   "outputs": [],
   "source": [
    "# Get light rail boardings\n",
    "df_boardings = summary_data.load_agg_data('transit/daily_boardings_by_agency.csv')"
   ]
  },
  {
   "cell_type": "code",
   "execution_count": 6,
   "metadata": {
    "execution": {
     "iopub.execute_input": "2025-03-01T06:59:37.102361Z",
     "iopub.status.busy": "2025-03-01T06:59:37.100367Z",
     "iopub.status.idle": "2025-03-01T07:00:09.646705Z",
     "shell.execute_reply": "2025-03-01T07:00:09.644678Z"
    }
   },
   "outputs": [],
   "source": [
    "network_summary = df_network.groupby('source')[['VMT','VHT','total_delay']].sum()\n",
    "network_summary = network_summary.rename(columns={'total_delay': 'Delay'})\n",
    "# transit boardings\n",
    "df_boardings = summary_data.load_agg_data('transit/daily_boardings_by_agency.csv')\n",
    "transit_ridership = df_boardings.groupby('source')['boardings'].sum()\n",
    "#Light rail boardings\n",
    "df_line_boardings = summary_data.load_agg_data('transit/transit_line_results.csv')\n",
    "lr_boardings = df_line_boardings[df_line_boardings['mode']=='r']\n",
    "lr_ridership = lr_boardings.groupby('source')['boardings'].sum()\n",
    "# mode share\n",
    "df_trip = summary_data.load_agg_data('agg/dash/mode_share_county.csv')\n",
    "df = df_trip.groupby('source')['trexpfac'].sum() # total trips\n",
    "transit_share = df_trip.loc[df_trip['mode']==\"Transit\"].groupby('source')['trexpfac'].sum()/df\n",
    "\n",
    "# emission\n",
    "df_emissions = summary_data.load_agg_data('emissions/emissions_summary.csv')\n",
    "df = df_emissions.loc[(df_emissions['veh_type'].isin(['light','medium','heavy'])) & \\\n",
    "                      (df_emissions['pollutant_name']==\"CO2 Equivalent\")].copy()\n",
    "CO2e = df.groupby('source')['total_daily_tons'].sum()"
   ]
  },
  {
   "cell_type": "code",
   "execution_count": 7,
   "metadata": {},
   "outputs": [
    {
     "data": {
      "text/html": [
       "<style  type=\"text/css\" >\n",
       "</style><table id=\"T_2e3df_\" ><thead>    <tr>        <th class=\"blank level0\" ></th>        <th class=\"col_heading level0 col0\" >VMT</th>        <th class=\"col_heading level0 col1\" >VHT</th>        <th class=\"col_heading level0 col2\" >Delay</th>        <th class=\"col_heading level0 col3\" >Transit Boardings</th>        <th class=\"col_heading level0 col4\" >Light Rail Boardings</th>        <th class=\"col_heading level0 col5\" >% Transit</th>        <th class=\"col_heading level0 col6\" >CO2e</th>    </tr>    <tr>        <th class=\"index_name level0\" >source</th>        <th class=\"blank\" ></th>        <th class=\"blank\" ></th>        <th class=\"blank\" ></th>        <th class=\"blank\" ></th>        <th class=\"blank\" ></th>        <th class=\"blank\" ></th>        <th class=\"blank\" ></th>    </tr></thead><tbody>\n",
       "                <tr>\n",
       "                        <th id=\"T_2e3df_level0_row0\" class=\"row_heading level0 row0\" >current run</th>\n",
       "                        <td id=\"T_2e3df_row0_col0\" class=\"data row0 col0\" >82,708,168</td>\n",
       "                        <td id=\"T_2e3df_row0_col1\" class=\"data row0 col1\" >2,526,821</td>\n",
       "                        <td id=\"T_2e3df_row0_col2\" class=\"data row0 col2\" >221,324</td>\n",
       "                        <td id=\"T_2e3df_row0_col3\" class=\"data row0 col3\" >505,909</td>\n",
       "                        <td id=\"T_2e3df_row0_col4\" class=\"data row0 col4\" >94,212</td>\n",
       "                        <td id=\"T_2e3df_row0_col5\" class=\"data row0 col5\" >2.2%</td>\n",
       "                        <td id=\"T_2e3df_row0_col6\" class=\"data row0 col6\" >41,517</td>\n",
       "            </tr>\n",
       "    </tbody></table>"
      ],
      "text/plain": [
       "<pandas.io.formats.style.Styler at 0x201a641a708>"
      ]
     },
     "execution_count": 7,
     "metadata": {},
     "output_type": "execute_result"
    }
   ],
   "source": [
    "run_summary2 = pd.DataFrame({\n",
    "    'Transit Boardings': transit_ridership,\n",
    "    'Light Rail Boardings': lr_ridership,\n",
    "    '% Transit': transit_share,\n",
    "    'CO2e': CO2e\n",
    "})\n",
    "\n",
    "pd.concat([network_summary,run_summary2], axis=1).style.\\\n",
    "        format('{:,.0f}', subset=['VMT','VHT','Delay','Transit Boardings','Light Rail Boardings','CO2e']).\\\n",
    "        format('{:.1%}', subset=['% Transit'])"
   ]
  }
 ],
 "metadata": {
  "kernelspec": {
   "display_name": "summary",
   "language": "python",
   "name": "python3"
  },
  "language_info": {
   "codemirror_mode": {
    "name": "ipython",
    "version": 3
   },
   "file_extension": ".py",
   "mimetype": "text/x-python",
   "name": "python",
   "nbconvert_exporter": "python",
   "pygments_lexer": "ipython3",
   "version": "3.7.10"
  }
 },
 "nbformat": 4,
 "nbformat_minor": 2
}
