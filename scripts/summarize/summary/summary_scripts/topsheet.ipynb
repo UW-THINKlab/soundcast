{
 "cells": [
  {
   "cell_type": "raw",
   "metadata": {
    "vscode": {
     "languageId": "raw"
    }
   },
   "source": [
    "---\n",
    "title: \"Summary\"\n",
    "date: today\n",
    "---"
   ]
  },
  {
   "cell_type": "code",
   "execution_count": 2,
   "metadata": {
    "execution": {
     "iopub.execute_input": "2025-03-01T06:59:35.888830Z",
     "iopub.status.busy": "2025-03-01T06:59:35.886835Z",
     "iopub.status.idle": "2025-03-01T06:59:36.976475Z",
     "shell.execute_reply": "2025-03-01T06:59:36.974481Z"
    }
   },
   "outputs": [],
   "source": [
    "#| include: false\n",
    "\n",
    "import os\n",
    "import pandas as pd\n",
    "import numpy as np\n",
    "# import plotly.express as px\n",
    "import toml\n",
    "# import psrc_theme\n",
    "from pathlib import Path\n",
    "import summary_data\n",
    "\n",
    "# to show plotly figures in quarto HTML file\n",
    "# import plotly.io as pio\n",
    "# pio.renderers.default = \"plotly_mimetype+notebook_connected\"\n",
    "# pio.templates.default = \"simple_white+psrc_color\" # set plotly template\n",
    "\n",
    "config = summary_data.CONFIG\n",
    "all_runs = summary_data.ALL_RUNS"
   ]
  },
  {
   "cell_type": "markdown",
   "metadata": {},
   "source": [
    "- run locations"
   ]
  },
  {
   "cell_type": "code",
   "execution_count": 3,
   "metadata": {
    "execution": {
     "iopub.execute_input": "2025-03-01T06:59:36.989440Z",
     "iopub.status.busy": "2025-03-01T06:59:36.988443Z",
     "iopub.status.idle": "2025-03-01T06:59:37.039307Z",
     "shell.execute_reply": "2025-03-01T06:59:37.037313Z"
    }
   },
   "outputs": [
    {
     "data": {
      "text/html": [
       "<div>\n",
       "<style scoped>\n",
       "    .dataframe tbody tr th:only-of-type {\n",
       "        vertical-align: middle;\n",
       "    }\n",
       "\n",
       "    .dataframe tbody tr th {\n",
       "        vertical-align: top;\n",
       "    }\n",
       "\n",
       "    .dataframe thead th {\n",
       "        text-align: right;\n",
       "    }\n",
       "</style>\n",
       "<table border=\"1\" class=\"dataframe\">\n",
       "  <thead>\n",
       "    <tr style=\"text-align: right;\">\n",
       "      <th></th>\n",
       "      <th>run location</th>\n",
       "    </tr>\n",
       "  </thead>\n",
       "  <tbody>\n",
       "    <tr>\n",
       "      <th>2023 base year</th>\n",
       "      <td>..\\..\\..\\..</td>\n",
       "    </tr>\n",
       "    <tr>\n",
       "      <th>2050 RTP</th>\n",
       "      <td>L:\\RTP_2022\\final_runs\\sc_rtp_2050_constrained...</td>\n",
       "    </tr>\n",
       "    <tr>\n",
       "      <th>2050 (lower WFH and no telecommute)</th>\n",
       "      <td>\\\\modelstation1\\c$\\workspace\\sc_2050_base_year...</td>\n",
       "    </tr>\n",
       "  </tbody>\n",
       "</table>\n",
       "</div>"
      ],
      "text/plain": [
       "                                                                          run location\n",
       "2023 base year                                                             ..\\..\\..\\..\n",
       "2050 RTP                             L:\\RTP_2022\\final_runs\\sc_rtp_2050_constrained...\n",
       "2050 (lower WFH and no telecommute)  \\\\modelstation1\\c$\\workspace\\sc_2050_base_year..."
      ]
     },
     "execution_count": 3,
     "metadata": {},
     "output_type": "execute_result"
    }
   ],
   "source": [
    "pd.DataFrame.from_dict(all_runs, orient='index',\n",
    "                       columns=['run location'])"
   ]
  },
  {
   "cell_type": "markdown",
   "metadata": {},
   "source": [
    "## top sheet summary"
   ]
  },
  {
   "cell_type": "code",
   "execution_count": 5,
   "metadata": {},
   "outputs": [],
   "source": [
    "# network summary: 'VMT','VHT','total_delay'\n",
    "df_network = summary_data.load_agg_data('network/network_results.csv')"
   ]
  },
  {
   "cell_type": "code",
   "execution_count": 8,
   "metadata": {
    "execution": {
     "iopub.execute_input": "2025-03-01T06:59:37.102361Z",
     "iopub.status.busy": "2025-03-01T06:59:37.100367Z",
     "iopub.status.idle": "2025-03-01T07:00:09.646705Z",
     "shell.execute_reply": "2025-03-01T07:00:09.644678Z"
    }
   },
   "outputs": [],
   "source": [
    "\n",
    "network_summary = df_network.groupby('source')[['VMT','VHT','total_delay']].sum()\n",
    "network_summary = network_summary.rename(columns={'total_delay': 'Delay'})\n",
    "# transit boardings\n",
    "df_boardings = summary_data.load_agg_data('transit/daily_boardings_by_agency.csv')\n",
    "transit_ridership = df_boardings.groupby('source')['boardings'].sum()\n",
    "#Light rail boardings\n",
    "lr_boardings = summary_data.load_agg_data('transit/light_rail_boardings.csv')\n",
    "lr_ridership = lr_boardings.groupby('source')['modeled_5to20'].sum()\n",
    "# mode share\n",
    "df_trip = summary_data.load_agg_data('agg/dash/mode_share_county.csv')\n",
    "df = df_trip.groupby('source')['trexpfac'].sum() # total trips\n",
    "transit_share = df_trip.loc[df_trip['mode']==\"Transit\"].groupby('source')['trexpfac'].sum()/df\n",
    "\n",
    "# emission\n",
    "df_emissions = summary_data.load_agg_data('emissions/emissions_summary.csv')\n",
    "df = df_emissions.loc[(df_emissions['veh_type'].isin(['light','medium','heavy'])) & \\\n",
    "                      (df_emissions['pollutant_name']==\"CO2 Equivalent\")].copy()\n",
    "CO2e = df.groupby('source')['total_daily_tons'].sum()"
   ]
  },
  {
   "cell_type": "code",
   "execution_count": 9,
   "metadata": {},
   "outputs": [
    {
     "data": {
      "text/html": [
       "<style  type=\"text/css\" >\n",
       "</style><table id=\"T_c55ff_\" ><thead>    <tr>        <th class=\"blank level0\" ></th>        <th class=\"col_heading level0 col0\" >VMT</th>        <th class=\"col_heading level0 col1\" >VHT</th>        <th class=\"col_heading level0 col2\" >Delay</th>        <th class=\"col_heading level0 col3\" >Transit Boardings</th>        <th class=\"col_heading level0 col4\" >Light Rail Boardings</th>        <th class=\"col_heading level0 col5\" >% Transit</th>        <th class=\"col_heading level0 col6\" >CO2e</th>    </tr>    <tr>        <th class=\"index_name level0\" >source</th>        <th class=\"blank\" ></th>        <th class=\"blank\" ></th>        <th class=\"blank\" ></th>        <th class=\"blank\" ></th>        <th class=\"blank\" ></th>        <th class=\"blank\" ></th>        <th class=\"blank\" ></th>    </tr></thead><tbody>\n",
       "                <tr>\n",
       "                        <th id=\"T_c55ff_level0_row0\" class=\"row_heading level0 row0\" >2023 base year</th>\n",
       "                        <td id=\"T_c55ff_row0_col0\" class=\"data row0 col0\" >82,956,230</td>\n",
       "                        <td id=\"T_c55ff_row0_col1\" class=\"data row0 col1\" >2,553,675</td>\n",
       "                        <td id=\"T_c55ff_row0_col2\" class=\"data row0 col2\" >237,452</td>\n",
       "                        <td id=\"T_c55ff_row0_col3\" class=\"data row0 col3\" >483,956</td>\n",
       "                        <td id=\"T_c55ff_row0_col4\" class=\"data row0 col4\" >271,239</td>\n",
       "                        <td id=\"T_c55ff_row0_col5\" class=\"data row0 col5\" >2.1%</td>\n",
       "                        <td id=\"T_c55ff_row0_col6\" class=\"data row0 col6\" >41,715</td>\n",
       "            </tr>\n",
       "            <tr>\n",
       "                        <th id=\"T_c55ff_level0_row1\" class=\"row_heading level0 row1\" >2050 (lower WFH and no telecommute)</th>\n",
       "                        <td id=\"T_c55ff_row1_col0\" class=\"data row1 col0\" >100,959,145</td>\n",
       "                        <td id=\"T_c55ff_row1_col1\" class=\"data row1 col1\" >3,258,070</td>\n",
       "                        <td id=\"T_c55ff_row1_col2\" class=\"data row1 col2\" >425,539</td>\n",
       "                        <td id=\"T_c55ff_row1_col3\" class=\"data row1 col3\" >1,515,011</td>\n",
       "                        <td id=\"T_c55ff_row1_col4\" class=\"data row1 col4\" >1,024,398</td>\n",
       "                        <td id=\"T_c55ff_row1_col5\" class=\"data row1 col5\" >4.7%</td>\n",
       "                        <td id=\"T_c55ff_row1_col6\" class=\"data row1 col6\" >35,687</td>\n",
       "            </tr>\n",
       "            <tr>\n",
       "                        <th id=\"T_c55ff_level0_row2\" class=\"row_heading level0 row2\" >2050 RTP</th>\n",
       "                        <td id=\"T_c55ff_row2_col0\" class=\"data row2 col0\" >106,132,676</td>\n",
       "                        <td id=\"T_c55ff_row2_col1\" class=\"data row2 col1\" >3,547,251</td>\n",
       "                        <td id=\"T_c55ff_row2_col2\" class=\"data row2 col2\" >619,306</td>\n",
       "                        <td id=\"T_c55ff_row2_col3\" class=\"data row2 col3\" >2,333,391</td>\n",
       "                        <td id=\"T_c55ff_row2_col4\" class=\"data row2 col4\" >1,686,299</td>\n",
       "                        <td id=\"T_c55ff_row2_col5\" class=\"data row2 col5\" >6.2%</td>\n",
       "                        <td id=\"T_c55ff_row2_col6\" class=\"data row2 col6\" >37,682</td>\n",
       "            </tr>\n",
       "    </tbody></table>"
      ],
      "text/plain": [
       "<pandas.io.formats.style.Styler at 0x2889cf1cc88>"
      ]
     },
     "execution_count": 9,
     "metadata": {},
     "output_type": "execute_result"
    }
   ],
   "source": [
    "run_summary2 = pd.DataFrame({\n",
    "    'Transit Boardings': transit_ridership,\n",
    "    'Light Rail Boardings': lr_ridership,\n",
    "    '% Transit': transit_share,\n",
    "    'CO2e': CO2e\n",
    "})\n",
    "\n",
    "pd.concat([network_summary,run_summary2], axis=1).style.\\\n",
    "        format('{:,.0f}', subset=['VMT','VHT','Delay','Transit Boardings','Light Rail Boardings','CO2e']).\\\n",
    "        format('{:.1%}', subset=['% Transit'])"
   ]
  },
  {
   "cell_type": "markdown",
   "metadata": {},
   "source": [
    "## population & households"
   ]
  },
  {
   "cell_type": "code",
   "execution_count": 6,
   "metadata": {
    "execution": {
     "iopub.execute_input": "2025-03-01T07:00:11.030598Z",
     "iopub.status.busy": "2025-03-01T07:00:11.029601Z",
     "iopub.status.idle": "2025-03-01T07:00:11.050689Z",
     "shell.execute_reply": "2025-03-01T07:00:11.049170Z"
    }
   },
   "outputs": [],
   "source": [
    "def count_by_county(output_path: str, summary_var: str, expfac_name: str, axis_name: str):\n",
    "    df = summary_data.load_agg_data(output_path)\n",
    "\n",
    "    tab = df.groupby(['source',summary_var])[expfac_name].sum().\\\n",
    "        unstack(summary_var).\\\n",
    "        rename_axis(columns={summary_var: axis_name})\n",
    "    tab['Total'] = tab.sum(axis=1)\n",
    "\n",
    "    display(tab.style.format('{:,.0f}'))"
   ]
  },
  {
   "cell_type": "code",
   "execution_count": 7,
   "metadata": {
    "execution": {
     "iopub.execute_input": "2025-03-01T07:00:11.062653Z",
     "iopub.status.busy": "2025-03-01T07:00:11.061656Z",
     "iopub.status.idle": "2025-03-01T07:00:11.144601Z",
     "shell.execute_reply": "2025-03-01T07:00:11.142577Z"
    }
   },
   "outputs": [
    {
     "data": {
      "text/html": [
       "<style  type=\"text/css\" >\n",
       "</style><table id=\"T_5527d_\" ><thead>    <tr>        <th class=\"index_name level0\" >Population by county</th>        <th class=\"col_heading level0 col0\" >King</th>        <th class=\"col_heading level0 col1\" >Kitsap</th>        <th class=\"col_heading level0 col2\" >Outside Region</th>        <th class=\"col_heading level0 col3\" >Pierce</th>        <th class=\"col_heading level0 col4\" >Snohomish</th>        <th class=\"col_heading level0 col5\" >Total</th>    </tr>    <tr>        <th class=\"index_name level0\" >source</th>        <th class=\"blank\" ></th>        <th class=\"blank\" ></th>        <th class=\"blank\" ></th>        <th class=\"blank\" ></th>        <th class=\"blank\" ></th>        <th class=\"blank\" ></th>    </tr></thead><tbody>\n",
       "                <tr>\n",
       "                        <th id=\"T_5527d_level0_row0\" class=\"row_heading level0 row0\" >2023 base year</th>\n",
       "                        <td id=\"T_5527d_row0_col0\" class=\"data row0 col0\" >2,303,851</td>\n",
       "                        <td id=\"T_5527d_row0_col1\" class=\"data row0 col1\" >275,120</td>\n",
       "                        <td id=\"T_5527d_row0_col2\" class=\"data row0 col2\" >8</td>\n",
       "                        <td id=\"T_5527d_row0_col3\" class=\"data row0 col3\" >925,555</td>\n",
       "                        <td id=\"T_5527d_row0_col4\" class=\"data row0 col4\" >851,485</td>\n",
       "                        <td id=\"T_5527d_row0_col5\" class=\"data row0 col5\" >4,356,019</td>\n",
       "            </tr>\n",
       "            <tr>\n",
       "                        <th id=\"T_5527d_level0_row1\" class=\"row_heading level0 row1\" >2050</th>\n",
       "                        <td id=\"T_5527d_row1_col0\" class=\"data row1 col0\" >3,071,847</td>\n",
       "                        <td id=\"T_5527d_row1_col1\" class=\"data row1 col1\" >356,124</td>\n",
       "                        <td id=\"T_5527d_row1_col2\" class=\"data row1 col2\" >281</td>\n",
       "                        <td id=\"T_5527d_row1_col3\" class=\"data row1 col3\" >1,311,285</td>\n",
       "                        <td id=\"T_5527d_row1_col4\" class=\"data row1 col4\" >1,087,666</td>\n",
       "                        <td id=\"T_5527d_row1_col5\" class=\"data row1 col5\" >5,827,203</td>\n",
       "            </tr>\n",
       "            <tr>\n",
       "                        <th id=\"T_5527d_level0_row2\" class=\"row_heading level0 row2\" >2050 (no telecommute + less WFH)</th>\n",
       "                        <td id=\"T_5527d_row2_col0\" class=\"data row2 col0\" >3,071,847</td>\n",
       "                        <td id=\"T_5527d_row2_col1\" class=\"data row2 col1\" >356,124</td>\n",
       "                        <td id=\"T_5527d_row2_col2\" class=\"data row2 col2\" >281</td>\n",
       "                        <td id=\"T_5527d_row2_col3\" class=\"data row2 col3\" >1,311,285</td>\n",
       "                        <td id=\"T_5527d_row2_col4\" class=\"data row2 col4\" >1,087,666</td>\n",
       "                        <td id=\"T_5527d_row2_col5\" class=\"data row2 col5\" >5,827,203</td>\n",
       "            </tr>\n",
       "            <tr>\n",
       "                        <th id=\"T_5527d_level0_row3\" class=\"row_heading level0 row3\" >2050 (no telecommute)</th>\n",
       "                        <td id=\"T_5527d_row3_col0\" class=\"data row3 col0\" >3,071,847</td>\n",
       "                        <td id=\"T_5527d_row3_col1\" class=\"data row3 col1\" >356,124</td>\n",
       "                        <td id=\"T_5527d_row3_col2\" class=\"data row3 col2\" >281</td>\n",
       "                        <td id=\"T_5527d_row3_col3\" class=\"data row3 col3\" >1,311,285</td>\n",
       "                        <td id=\"T_5527d_row3_col4\" class=\"data row3 col4\" >1,087,666</td>\n",
       "                        <td id=\"T_5527d_row3_col5\" class=\"data row3 col5\" >5,827,203</td>\n",
       "            </tr>\n",
       "    </tbody></table>"
      ],
      "text/plain": [
       "<pandas.io.formats.style.Styler at 0x1e83a0fc288>"
      ]
     },
     "metadata": {},
     "output_type": "display_data"
    }
   ],
   "source": [
    "count_by_county('agg/dash/pptyp_county.csv','person_county','psexpfac','Population by county')"
   ]
  },
  {
   "cell_type": "code",
   "execution_count": 8,
   "metadata": {
    "execution": {
     "iopub.execute_input": "2025-03-01T07:00:11.156605Z",
     "iopub.status.busy": "2025-03-01T07:00:11.154619Z",
     "iopub.status.idle": "2025-03-01T07:00:11.238032Z",
     "shell.execute_reply": "2025-03-01T07:00:11.236037Z"
    }
   },
   "outputs": [
    {
     "data": {
      "text/html": [
       "<style  type=\"text/css\" >\n",
       "</style><table id=\"T_7f9dd_\" ><thead>    <tr>        <th class=\"index_name level0\" >Households by county</th>        <th class=\"col_heading level0 col0\" >King</th>        <th class=\"col_heading level0 col1\" >Kitsap</th>        <th class=\"col_heading level0 col2\" >Pierce</th>        <th class=\"col_heading level0 col3\" >Snohomish</th>        <th class=\"col_heading level0 col4\" >Total</th>    </tr>    <tr>        <th class=\"index_name level0\" >source</th>        <th class=\"blank\" ></th>        <th class=\"blank\" ></th>        <th class=\"blank\" ></th>        <th class=\"blank\" ></th>        <th class=\"blank\" ></th>    </tr></thead><tbody>\n",
       "                <tr>\n",
       "                        <th id=\"T_7f9dd_level0_row0\" class=\"row_heading level0 row0\" >2023 base year</th>\n",
       "                        <td id=\"T_7f9dd_row0_col0\" class=\"data row0 col0\" >866,673</td>\n",
       "                        <td id=\"T_7f9dd_row0_col1\" class=\"data row0 col1\" >39,114</td>\n",
       "                        <td id=\"T_7f9dd_row0_col2\" class=\"data row0 col2\" >196,913</td>\n",
       "                        <td id=\"T_7f9dd_row0_col3\" class=\"data row0 col3\" >187,282</td>\n",
       "                        <td id=\"T_7f9dd_row0_col4\" class=\"data row0 col4\" >1,289,982</td>\n",
       "            </tr>\n",
       "            <tr>\n",
       "                        <th id=\"T_7f9dd_level0_row1\" class=\"row_heading level0 row1\" >2050</th>\n",
       "                        <td id=\"T_7f9dd_row1_col0\" class=\"data row1 col0\" >1,121,117</td>\n",
       "                        <td id=\"T_7f9dd_row1_col1\" class=\"data row1 col1\" >42,324</td>\n",
       "                        <td id=\"T_7f9dd_row1_col2\" class=\"data row1 col2\" >255,972</td>\n",
       "                        <td id=\"T_7f9dd_row1_col3\" class=\"data row1 col3\" >225,160</td>\n",
       "                        <td id=\"T_7f9dd_row1_col4\" class=\"data row1 col4\" >1,644,573</td>\n",
       "            </tr>\n",
       "            <tr>\n",
       "                        <th id=\"T_7f9dd_level0_row2\" class=\"row_heading level0 row2\" >2050 (no telecommute + less WFH)</th>\n",
       "                        <td id=\"T_7f9dd_row2_col0\" class=\"data row2 col0\" >1,121,117</td>\n",
       "                        <td id=\"T_7f9dd_row2_col1\" class=\"data row2 col1\" >42,324</td>\n",
       "                        <td id=\"T_7f9dd_row2_col2\" class=\"data row2 col2\" >255,972</td>\n",
       "                        <td id=\"T_7f9dd_row2_col3\" class=\"data row2 col3\" >225,160</td>\n",
       "                        <td id=\"T_7f9dd_row2_col4\" class=\"data row2 col4\" >1,644,573</td>\n",
       "            </tr>\n",
       "            <tr>\n",
       "                        <th id=\"T_7f9dd_level0_row3\" class=\"row_heading level0 row3\" >2050 (no telecommute)</th>\n",
       "                        <td id=\"T_7f9dd_row3_col0\" class=\"data row3 col0\" >1,121,117</td>\n",
       "                        <td id=\"T_7f9dd_row3_col1\" class=\"data row3 col1\" >42,324</td>\n",
       "                        <td id=\"T_7f9dd_row3_col2\" class=\"data row3 col2\" >255,972</td>\n",
       "                        <td id=\"T_7f9dd_row3_col3\" class=\"data row3 col3\" >225,160</td>\n",
       "                        <td id=\"T_7f9dd_row3_col4\" class=\"data row3 col4\" >1,644,573</td>\n",
       "            </tr>\n",
       "    </tbody></table>"
      ],
      "text/plain": [
       "<pandas.io.formats.style.Styler at 0x1e83a0e6288>"
      ]
     },
     "metadata": {},
     "output_type": "display_data"
    }
   ],
   "source": [
    "count_by_county('agg/dash/hh_geog.csv','hh_county','hhexpfac','Households by county')"
   ]
  },
  {
   "cell_type": "markdown",
   "metadata": {},
   "source": [
    "## employment by work location"
   ]
  },
  {
   "cell_type": "code",
   "execution_count": 9,
   "metadata": {
    "execution": {
     "iopub.execute_input": "2025-03-01T07:00:11.250000Z",
     "iopub.status.busy": "2025-03-01T07:00:11.249002Z",
     "iopub.status.idle": "2025-03-01T07:00:11.316071Z",
     "shell.execute_reply": "2025-03-01T07:00:11.314078Z"
    }
   },
   "outputs": [
    {
     "data": {
      "text/html": [
       "<style  type=\"text/css\" >\n",
       "</style><table id=\"T_152dd_\" ><thead>    <tr>        <th class=\"index_name level0\" >Employment by county</th>        <th class=\"col_heading level0 col0\" >King</th>        <th class=\"col_heading level0 col1\" >Kitsap</th>        <th class=\"col_heading level0 col2\" >Outside Region</th>        <th class=\"col_heading level0 col3\" >Pierce</th>        <th class=\"col_heading level0 col4\" >Snohomish</th>        <th class=\"col_heading level0 col5\" >Total</th>    </tr>    <tr>        <th class=\"index_name level0\" >source</th>        <th class=\"blank\" ></th>        <th class=\"blank\" ></th>        <th class=\"blank\" ></th>        <th class=\"blank\" ></th>        <th class=\"blank\" ></th>        <th class=\"blank\" ></th>    </tr></thead><tbody>\n",
       "                <tr>\n",
       "                        <th id=\"T_152dd_level0_row0\" class=\"row_heading level0 row0\" >2023 base year</th>\n",
       "                        <td id=\"T_152dd_row0_col0\" class=\"data row0 col0\" >1,287,769</td>\n",
       "                        <td id=\"T_152dd_row0_col1\" class=\"data row0 col1\" >84,566</td>\n",
       "                        <td id=\"T_152dd_row0_col2\" class=\"data row0 col2\" >nan</td>\n",
       "                        <td id=\"T_152dd_row0_col3\" class=\"data row0 col3\" >298,838</td>\n",
       "                        <td id=\"T_152dd_row0_col4\" class=\"data row0 col4\" >281,683</td>\n",
       "                        <td id=\"T_152dd_row0_col5\" class=\"data row0 col5\" >1,952,856</td>\n",
       "            </tr>\n",
       "            <tr>\n",
       "                        <th id=\"T_152dd_level0_row1\" class=\"row_heading level0 row1\" >2050</th>\n",
       "                        <td id=\"T_152dd_row1_col0\" class=\"data row1 col0\" >1,590,694</td>\n",
       "                        <td id=\"T_152dd_row1_col1\" class=\"data row1 col1\" >106,643</td>\n",
       "                        <td id=\"T_152dd_row1_col2\" class=\"data row1 col2\" >432</td>\n",
       "                        <td id=\"T_152dd_row1_col3\" class=\"data row1 col3\" >424,220</td>\n",
       "                        <td id=\"T_152dd_row1_col4\" class=\"data row1 col4\" >371,638</td>\n",
       "                        <td id=\"T_152dd_row1_col5\" class=\"data row1 col5\" >2,493,627</td>\n",
       "            </tr>\n",
       "            <tr>\n",
       "                        <th id=\"T_152dd_level0_row2\" class=\"row_heading level0 row2\" >2050 (no telecommute + less WFH)</th>\n",
       "                        <td id=\"T_152dd_row2_col0\" class=\"data row2 col0\" >1,723,378</td>\n",
       "                        <td id=\"T_152dd_row2_col1\" class=\"data row2 col1\" >114,376</td>\n",
       "                        <td id=\"T_152dd_row2_col2\" class=\"data row2 col2\" >458</td>\n",
       "                        <td id=\"T_152dd_row2_col3\" class=\"data row2 col3\" >418,024</td>\n",
       "                        <td id=\"T_152dd_row2_col4\" class=\"data row2 col4\" >397,336</td>\n",
       "                        <td id=\"T_152dd_row2_col5\" class=\"data row2 col5\" >2,653,572</td>\n",
       "            </tr>\n",
       "            <tr>\n",
       "                        <th id=\"T_152dd_level0_row3\" class=\"row_heading level0 row3\" >2050 (no telecommute)</th>\n",
       "                        <td id=\"T_152dd_row3_col0\" class=\"data row3 col0\" >1,631,199</td>\n",
       "                        <td id=\"T_152dd_row3_col1\" class=\"data row3 col1\" >108,916</td>\n",
       "                        <td id=\"T_152dd_row3_col2\" class=\"data row3 col2\" >416</td>\n",
       "                        <td id=\"T_152dd_row3_col3\" class=\"data row3 col3\" >402,133</td>\n",
       "                        <td id=\"T_152dd_row3_col4\" class=\"data row3 col4\" >373,730</td>\n",
       "                        <td id=\"T_152dd_row3_col5\" class=\"data row3 col5\" >2,516,394</td>\n",
       "            </tr>\n",
       "    </tbody></table>"
      ],
      "text/plain": [
       "<pandas.io.formats.style.Styler at 0x1e83a0ddf08>"
      ]
     },
     "metadata": {},
     "output_type": "display_data"
    }
   ],
   "source": [
    "count_by_county('agg/dash/person_worker_type.csv','person_work_county','psexpfac','Employment by county')"
   ]
  }
 ],
 "metadata": {
  "kernelspec": {
   "display_name": "summary",
   "language": "python",
   "name": "python3"
  },
  "language_info": {
   "codemirror_mode": {
    "name": "ipython",
    "version": 3
   },
   "file_extension": ".py",
   "mimetype": "text/x-python",
   "name": "python",
   "nbconvert_exporter": "python",
   "pygments_lexer": "ipython3",
   "version": "3.7.10"
  }
 },
 "nbformat": 4,
 "nbformat_minor": 2
}
