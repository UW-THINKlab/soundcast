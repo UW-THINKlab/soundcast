{
 "cells": [
  {
   "cell_type": "raw",
   "metadata": {
    "vscode": {
     "languageId": "raw"
    }
   },
   "source": [
    "---\n",
    "title: \"Parking Cost\"\n",
    "date: today\n",
    "---"
   ]
  },
  {
   "cell_type": "code",
   "execution_count": 1,
   "metadata": {
    "execution": {
     "iopub.execute_input": "2025-06-19T04:58:30.511209Z",
     "iopub.status.busy": "2025-06-19T04:58:30.511209Z",
     "iopub.status.idle": "2025-06-19T04:58:31.203688Z",
     "shell.execute_reply": "2025-06-19T04:58:31.203688Z"
    }
   },
   "outputs": [],
   "source": [
    "#| include: false\n",
    "\n",
    "import os\n",
    "import pandas as pd\n",
    "import numpy as np\n",
    "import sqlite3\n",
    "import toml\n",
    "from pathlib import Path\n",
    "import summary_data\n",
    "\n",
    "config = summary_data.CONFIG\n",
    "all_runs = summary_data.ALL_RUNS\n",
    "input_config = summary_data.INPUT_CONFIG"
   ]
  },
  {
   "cell_type": "code",
   "execution_count": 2,
   "metadata": {
    "execution": {
     "iopub.execute_input": "2025-06-19T04:58:31.209671Z",
     "iopub.status.busy": "2025-06-19T04:58:31.208674Z",
     "iopub.status.idle": "2025-06-19T04:58:35.432484Z",
     "shell.execute_reply": "2025-06-19T04:58:35.431494Z"
    }
   },
   "outputs": [],
   "source": [
    "# Join parcel lookup data to parcel files to do some county and district summaries\n",
    "# Load parcel geography lookup from soundcast db\n",
    "conn = sqlite3.connect(r'../../../../inputs/db/soundcast_inputs_2023.db')\n",
    "df_geog_lookup = pd.read_sql_query(\"SELECT ParcelID, CountyName, district_name, GrowthCenterName FROM parcel_2023_geography\", conn)\n",
    "\n",
    "# Land Use Summary\n",
    "df_parcels = summary_data.load_landuse('landuse/parcels_urbansim.txt')\n",
    "# Merge lookup data to parcels\n",
    "df_parcels = df_parcels.merge(df_geog_lookup, left_on='parcelid', right_on='ParcelID', how='left')\n",
    "\n",
    "# total parking cost\n",
    "df_parcels['total_parking_cost'] = df_parcels['pprichrp'] * df_parcels['parkhr_p']"
   ]
  },
  {
   "cell_type": "code",
   "execution_count": 3,
   "metadata": {
    "execution": {
     "iopub.execute_input": "2025-06-19T04:58:35.435474Z",
     "iopub.status.busy": "2025-06-19T04:58:35.435474Z",
     "iopub.status.idle": "2025-06-19T04:58:35.438466Z",
     "shell.execute_reply": "2025-06-19T04:58:35.438466Z"
    }
   },
   "outputs": [],
   "source": [
    "# input_config[\"model_year\"]"
   ]
  },
  {
   "cell_type": "code",
   "execution_count": 4,
   "metadata": {
    "execution": {
     "iopub.execute_input": "2025-06-19T04:58:35.440463Z",
     "iopub.status.busy": "2025-06-19T04:58:35.440463Z",
     "iopub.status.idle": "2025-06-19T04:58:36.106829Z",
     "shell.execute_reply": "2025-06-19T04:58:36.106829Z"
    }
   },
   "outputs": [],
   "source": [
    "df_parking_zones = pd.read_sql(\"SELECT * FROM parking_zones\", con=conn)\n",
    "df_parking_cost = pd.read_sql(\n",
    "    \"SELECT * FROM parking_costs WHERE year==\" + input_config[\"model_year\"], con=conn\n",
    ")\n",
    "df_parcels = pd.merge(\n",
    "    left=df_parcels, right=df_parking_zones, left_on=\"taz_p\", right_on=\"TAZ\", how=\"left\"\n",
    ")"
   ]
  },
  {
   "cell_type": "markdown",
   "metadata": {},
   "source": [
    "## Parking"
   ]
  },
  {
   "cell_type": "markdown",
   "metadata": {},
   "source": [
    "### Hourly Parking Cost\n",
    "\n",
    "- total hourly parking cost in parcel = `parkhr_p` * `pprichrp`"
   ]
  },
  {
   "cell_type": "raw",
   "metadata": {
    "vscode": {
     "languageId": "raw"
    }
   },
   "source": [
    ":::{.panel-tabset}\n",
    "\n",
    "#### Region total"
   ]
  },
  {
   "cell_type": "code",
   "execution_count": 5,
   "metadata": {
    "execution": {
     "iopub.execute_input": "2025-06-19T04:58:36.114816Z",
     "iopub.status.busy": "2025-06-19T04:58:36.113821Z",
     "iopub.status.idle": "2025-06-19T04:58:37.137765Z",
     "shell.execute_reply": "2025-06-19T04:58:37.136775Z"
    }
   },
   "outputs": [
    {
     "data": {
      "text/html": [
       "<style type=\"text/css\">\n",
       "</style>\n",
       "<table id=\"T_edecf\">\n",
       "  <caption>Percent of parcels with paid parking</caption>\n",
       "  <thead>\n",
       "    <tr>\n",
       "      <th class=\"blank level0\" >&nbsp;</th>\n",
       "      <th id=\"T_edecf_level0_col0\" class=\"col_heading level0 col0\" >proportion</th>\n",
       "    </tr>\n",
       "    <tr>\n",
       "      <th class=\"index_name level0\" >paid_parking</th>\n",
       "      <th class=\"blank col0\" >&nbsp;</th>\n",
       "    </tr>\n",
       "  </thead>\n",
       "  <tbody>\n",
       "    <tr>\n",
       "      <th id=\"T_edecf_level0_row0\" class=\"row_heading level0 row0\" >0</th>\n",
       "      <td id=\"T_edecf_row0_col0\" class=\"data row0 col0\" >97.26%</td>\n",
       "    </tr>\n",
       "    <tr>\n",
       "      <th id=\"T_edecf_level0_row1\" class=\"row_heading level0 row1\" >1</th>\n",
       "      <td id=\"T_edecf_row1_col0\" class=\"data row1 col0\" >2.74%</td>\n",
       "    </tr>\n",
       "  </tbody>\n",
       "</table>\n"
      ],
      "text/plain": [
       "<pandas.io.formats.style.Styler at 0x16a0a344290>"
      ]
     },
     "execution_count": 5,
     "metadata": {},
     "output_type": "execute_result"
    }
   ],
   "source": [
    "# # Daily parking cost totals (ppricdyp)\n",
    "# pd.pivot_table(df_parcels, index='source', values='pprichrp', aggfunc='median').style.format('{:,.2f}')\n",
    "\n",
    "# What percent of parcels have paid parking?\n",
    "df_parcels['paid_parking'] = df_parcels['pprichrp'].apply(lambda x: 1 if x > 0 else 0)\n",
    "# df_parcels[df_parcels['paid_parking']==1]\n",
    "df_parcels['paid_parking'].value_counts(normalize=True).sort_index().to_frame().style.format('{:.2%}').set_caption('Percent of parcels with paid parking')"
   ]
  },
  {
   "cell_type": "raw",
   "metadata": {
    "vscode": {
     "languageId": "raw"
    }
   },
   "source": [
    "#### District"
   ]
  },
  {
   "cell_type": "code",
   "execution_count": 6,
   "metadata": {
    "execution": {
     "iopub.execute_input": "2025-06-19T04:58:37.143749Z",
     "iopub.status.busy": "2025-06-19T04:58:37.142751Z",
     "iopub.status.idle": "2025-06-19T04:58:37.605272Z",
     "shell.execute_reply": "2025-06-19T04:58:37.604283Z"
    }
   },
   "outputs": [
    {
     "data": {
      "text/html": [
       "<style type=\"text/css\">\n",
       "</style>\n",
       "<table id=\"T_22eba\">\n",
       "  <caption>Paid parking by growth center</caption>\n",
       "  <thead>\n",
       "    <tr>\n",
       "      <th class=\"index_name level0\" >source</th>\n",
       "      <th id=\"T_22eba_level0_col0\" class=\"col_heading level0 col0\" >current run</th>\n",
       "    </tr>\n",
       "    <tr>\n",
       "      <th class=\"index_name level0\" >district_name</th>\n",
       "      <th class=\"blank col0\" >&nbsp;</th>\n",
       "    </tr>\n",
       "  </thead>\n",
       "  <tbody>\n",
       "    <tr>\n",
       "      <th id=\"T_22eba_level0_row0\" class=\"row_heading level0 row0\" >East Side</th>\n",
       "      <td id=\"T_22eba_row0_col0\" class=\"data row0 col0\" >1.3%</td>\n",
       "    </tr>\n",
       "    <tr>\n",
       "      <th id=\"T_22eba_level0_row1\" class=\"row_heading level0 row1\" >Everett-Lynwood-Edmonds</th>\n",
       "      <td id=\"T_22eba_row1_col0\" class=\"data row1 col0\" >4.3%</td>\n",
       "    </tr>\n",
       "    <tr>\n",
       "      <th id=\"T_22eba_level0_row2\" class=\"row_heading level0 row2\" >Kitsap</th>\n",
       "      <td id=\"T_22eba_row2_col0\" class=\"data row2 col0\" >2.4%</td>\n",
       "    </tr>\n",
       "    <tr>\n",
       "      <th id=\"T_22eba_level0_row3\" class=\"row_heading level0 row3\" >North Seattle-Shoreline</th>\n",
       "      <td id=\"T_22eba_row3_col0\" class=\"data row3 col0\" >5.8%</td>\n",
       "    </tr>\n",
       "    <tr>\n",
       "      <th id=\"T_22eba_level0_row4\" class=\"row_heading level0 row4\" >Renton-FedWay-Kent</th>\n",
       "      <td id=\"T_22eba_row4_col0\" class=\"data row4 col0\" >2.9%</td>\n",
       "    </tr>\n",
       "    <tr>\n",
       "      <th id=\"T_22eba_level0_row5\" class=\"row_heading level0 row5\" >S.Kitsap</th>\n",
       "      <td id=\"T_22eba_row5_col0\" class=\"data row5 col0\" >0.0%</td>\n",
       "    </tr>\n",
       "    <tr>\n",
       "      <th id=\"T_22eba_level0_row6\" class=\"row_heading level0 row6\" >Seattle CBD</th>\n",
       "      <td id=\"T_22eba_row6_col0\" class=\"data row6 col0\" >16.5%</td>\n",
       "    </tr>\n",
       "    <tr>\n",
       "      <th id=\"T_22eba_level0_row7\" class=\"row_heading level0 row7\" >South Pierce</th>\n",
       "      <td id=\"T_22eba_row7_col0\" class=\"data row7 col0\" >3.0%</td>\n",
       "    </tr>\n",
       "    <tr>\n",
       "      <th id=\"T_22eba_level0_row8\" class=\"row_heading level0 row8\" >Suburban Snohomish</th>\n",
       "      <td id=\"T_22eba_row8_col0\" class=\"data row8 col0\" >0.8%</td>\n",
       "    </tr>\n",
       "    <tr>\n",
       "      <th id=\"T_22eba_level0_row9\" class=\"row_heading level0 row9\" >Tacoma</th>\n",
       "      <td id=\"T_22eba_row9_col0\" class=\"data row9 col0\" >2.9%</td>\n",
       "    </tr>\n",
       "    <tr>\n",
       "      <th id=\"T_22eba_level0_row10\" class=\"row_heading level0 row10\" >West-South Seattle</th>\n",
       "      <td id=\"T_22eba_row10_col0\" class=\"data row10 col0\" >0.1%</td>\n",
       "    </tr>\n",
       "  </tbody>\n",
       "</table>\n"
      ],
      "text/plain": [
       "<pandas.io.formats.style.Styler at 0x16a14fb6690>"
      ]
     },
     "execution_count": 6,
     "metadata": {},
     "output_type": "execute_result"
    }
   ],
   "source": [
    "# Parking costs by district\n",
    "df1 = pd.pivot_table(df_parcels, index='district_name', columns='source', values='paid_parking', aggfunc='sum')\n",
    "df2 = pd.pivot_table(df_parcels, index='district_name', columns='source', values='paid_parking', aggfunc='count')\n",
    "\n",
    "(df1 / df2).style.format('{:,.1%}').set_caption('Paid parking by growth center')"
   ]
  },
  {
   "cell_type": "raw",
   "metadata": {
    "vscode": {
     "languageId": "raw"
    }
   },
   "source": [
    "#### Parking Zone"
   ]
  },
  {
   "cell_type": "code",
   "execution_count": 7,
   "metadata": {
    "execution": {
     "iopub.execute_input": "2025-06-19T04:58:37.610259Z",
     "iopub.status.busy": "2025-06-19T04:58:37.610259Z",
     "iopub.status.idle": "2025-06-19T04:58:40.121467Z",
     "shell.execute_reply": "2025-06-19T04:58:40.120464Z"
    }
   },
   "outputs": [
    {
     "data": {
      "text/html": [
       "<style type=\"text/css\">\n",
       "</style>\n",
       "<table id=\"T_b94a5\">\n",
       "  <caption>Paid parking by Parking Zone</caption>\n",
       "  <thead>\n",
       "    <tr>\n",
       "      <th class=\"index_name level0\" >source</th>\n",
       "      <th id=\"T_b94a5_level0_col0\" class=\"col_heading level0 col0\" >current run</th>\n",
       "    </tr>\n",
       "    <tr>\n",
       "      <th class=\"index_name level0\" >ENS</th>\n",
       "      <th class=\"blank col0\" >&nbsp;</th>\n",
       "    </tr>\n",
       "  </thead>\n",
       "  <tbody>\n",
       "    <tr>\n",
       "      <th id=\"T_b94a5_level0_row0\" class=\"row_heading level0 row0\" >00</th>\n",
       "      <td id=\"T_b94a5_row0_col0\" class=\"data row0 col0\" >0.0%</td>\n",
       "    </tr>\n",
       "    <tr>\n",
       "      <th id=\"T_b94a5_level0_row1\" class=\"row_heading level0 row1\" >01</th>\n",
       "      <td id=\"T_b94a5_row1_col0\" class=\"data row1 col0\" >100.0%</td>\n",
       "    </tr>\n",
       "    <tr>\n",
       "      <th id=\"T_b94a5_level0_row2\" class=\"row_heading level0 row2\" >02</th>\n",
       "      <td id=\"T_b94a5_row2_col0\" class=\"data row2 col0\" >100.0%</td>\n",
       "    </tr>\n",
       "    <tr>\n",
       "      <th id=\"T_b94a5_level0_row3\" class=\"row_heading level0 row3\" >03</th>\n",
       "      <td id=\"T_b94a5_row3_col0\" class=\"data row3 col0\" >100.0%</td>\n",
       "    </tr>\n",
       "    <tr>\n",
       "      <th id=\"T_b94a5_level0_row4\" class=\"row_heading level0 row4\" >04</th>\n",
       "      <td id=\"T_b94a5_row4_col0\" class=\"data row4 col0\" >100.0%</td>\n",
       "    </tr>\n",
       "    <tr>\n",
       "      <th id=\"T_b94a5_level0_row5\" class=\"row_heading level0 row5\" >05</th>\n",
       "      <td id=\"T_b94a5_row5_col0\" class=\"data row5 col0\" >100.0%</td>\n",
       "    </tr>\n",
       "    <tr>\n",
       "      <th id=\"T_b94a5_level0_row6\" class=\"row_heading level0 row6\" >06</th>\n",
       "      <td id=\"T_b94a5_row6_col0\" class=\"data row6 col0\" >100.0%</td>\n",
       "    </tr>\n",
       "    <tr>\n",
       "      <th id=\"T_b94a5_level0_row7\" class=\"row_heading level0 row7\" >07</th>\n",
       "      <td id=\"T_b94a5_row7_col0\" class=\"data row7 col0\" >100.0%</td>\n",
       "    </tr>\n",
       "    <tr>\n",
       "      <th id=\"T_b94a5_level0_row8\" class=\"row_heading level0 row8\" >08</th>\n",
       "      <td id=\"T_b94a5_row8_col0\" class=\"data row8 col0\" >100.0%</td>\n",
       "    </tr>\n",
       "    <tr>\n",
       "      <th id=\"T_b94a5_level0_row9\" class=\"row_heading level0 row9\" >09</th>\n",
       "      <td id=\"T_b94a5_row9_col0\" class=\"data row9 col0\" >100.0%</td>\n",
       "    </tr>\n",
       "    <tr>\n",
       "      <th id=\"T_b94a5_level0_row10\" class=\"row_heading level0 row10\" >10</th>\n",
       "      <td id=\"T_b94a5_row10_col0\" class=\"data row10 col0\" >100.0%</td>\n",
       "    </tr>\n",
       "    <tr>\n",
       "      <th id=\"T_b94a5_level0_row11\" class=\"row_heading level0 row11\" >11</th>\n",
       "      <td id=\"T_b94a5_row11_col0\" class=\"data row11 col0\" >100.0%</td>\n",
       "    </tr>\n",
       "    <tr>\n",
       "      <th id=\"T_b94a5_level0_row12\" class=\"row_heading level0 row12\" >15</th>\n",
       "      <td id=\"T_b94a5_row12_col0\" class=\"data row12 col0\" >0.0%</td>\n",
       "    </tr>\n",
       "    <tr>\n",
       "      <th id=\"T_b94a5_level0_row13\" class=\"row_heading level0 row13\" >16</th>\n",
       "      <td id=\"T_b94a5_row13_col0\" class=\"data row13 col0\" >100.0%</td>\n",
       "    </tr>\n",
       "    <tr>\n",
       "      <th id=\"T_b94a5_level0_row14\" class=\"row_heading level0 row14\" >17</th>\n",
       "      <td id=\"T_b94a5_row14_col0\" class=\"data row14 col0\" >100.0%</td>\n",
       "    </tr>\n",
       "    <tr>\n",
       "      <th id=\"T_b94a5_level0_row15\" class=\"row_heading level0 row15\" >18</th>\n",
       "      <td id=\"T_b94a5_row15_col0\" class=\"data row15 col0\" >100.0%</td>\n",
       "    </tr>\n",
       "    <tr>\n",
       "      <th id=\"T_b94a5_level0_row16\" class=\"row_heading level0 row16\" >19</th>\n",
       "      <td id=\"T_b94a5_row16_col0\" class=\"data row16 col0\" >100.0%</td>\n",
       "    </tr>\n",
       "    <tr>\n",
       "      <th id=\"T_b94a5_level0_row17\" class=\"row_heading level0 row17\" >20</th>\n",
       "      <td id=\"T_b94a5_row17_col0\" class=\"data row17 col0\" >100.0%</td>\n",
       "    </tr>\n",
       "    <tr>\n",
       "      <th id=\"T_b94a5_level0_row18\" class=\"row_heading level0 row18\" >21</th>\n",
       "      <td id=\"T_b94a5_row18_col0\" class=\"data row18 col0\" >100.0%</td>\n",
       "    </tr>\n",
       "    <tr>\n",
       "      <th id=\"T_b94a5_level0_row19\" class=\"row_heading level0 row19\" >22</th>\n",
       "      <td id=\"T_b94a5_row19_col0\" class=\"data row19 col0\" >100.0%</td>\n",
       "    </tr>\n",
       "    <tr>\n",
       "      <th id=\"T_b94a5_level0_row20\" class=\"row_heading level0 row20\" >24</th>\n",
       "      <td id=\"T_b94a5_row20_col0\" class=\"data row20 col0\" >100.0%</td>\n",
       "    </tr>\n",
       "    <tr>\n",
       "      <th id=\"T_b94a5_level0_row21\" class=\"row_heading level0 row21\" >26</th>\n",
       "      <td id=\"T_b94a5_row21_col0\" class=\"data row21 col0\" >100.0%</td>\n",
       "    </tr>\n",
       "    <tr>\n",
       "      <th id=\"T_b94a5_level0_row22\" class=\"row_heading level0 row22\" >27</th>\n",
       "      <td id=\"T_b94a5_row22_col0\" class=\"data row22 col0\" >100.0%</td>\n",
       "    </tr>\n",
       "    <tr>\n",
       "      <th id=\"T_b94a5_level0_row23\" class=\"row_heading level0 row23\" >28</th>\n",
       "      <td id=\"T_b94a5_row23_col0\" class=\"data row23 col0\" >100.0%</td>\n",
       "    </tr>\n",
       "    <tr>\n",
       "      <th id=\"T_b94a5_level0_row24\" class=\"row_heading level0 row24\" >29</th>\n",
       "      <td id=\"T_b94a5_row24_col0\" class=\"data row24 col0\" >100.0%</td>\n",
       "    </tr>\n",
       "    <tr>\n",
       "      <th id=\"T_b94a5_level0_row25\" class=\"row_heading level0 row25\" >30</th>\n",
       "      <td id=\"T_b94a5_row25_col0\" class=\"data row25 col0\" >100.0%</td>\n",
       "    </tr>\n",
       "    <tr>\n",
       "      <th id=\"T_b94a5_level0_row26\" class=\"row_heading level0 row26\" >31</th>\n",
       "      <td id=\"T_b94a5_row26_col0\" class=\"data row26 col0\" >100.0%</td>\n",
       "    </tr>\n",
       "    <tr>\n",
       "      <th id=\"T_b94a5_level0_row27\" class=\"row_heading level0 row27\" >32</th>\n",
       "      <td id=\"T_b94a5_row27_col0\" class=\"data row27 col0\" >0.0%</td>\n",
       "    </tr>\n",
       "    <tr>\n",
       "      <th id=\"T_b94a5_level0_row28\" class=\"row_heading level0 row28\" >33</th>\n",
       "      <td id=\"T_b94a5_row28_col0\" class=\"data row28 col0\" >100.0%</td>\n",
       "    </tr>\n",
       "    <tr>\n",
       "      <th id=\"T_b94a5_level0_row29\" class=\"row_heading level0 row29\" >34</th>\n",
       "      <td id=\"T_b94a5_row29_col0\" class=\"data row29 col0\" >100.0%</td>\n",
       "    </tr>\n",
       "    <tr>\n",
       "      <th id=\"T_b94a5_level0_row30\" class=\"row_heading level0 row30\" >35</th>\n",
       "      <td id=\"T_b94a5_row30_col0\" class=\"data row30 col0\" >100.0%</td>\n",
       "    </tr>\n",
       "    <tr>\n",
       "      <th id=\"T_b94a5_level0_row31\" class=\"row_heading level0 row31\" >36</th>\n",
       "      <td id=\"T_b94a5_row31_col0\" class=\"data row31 col0\" >0.0%</td>\n",
       "    </tr>\n",
       "    <tr>\n",
       "      <th id=\"T_b94a5_level0_row32\" class=\"row_heading level0 row32\" >37</th>\n",
       "      <td id=\"T_b94a5_row32_col0\" class=\"data row32 col0\" >100.0%</td>\n",
       "    </tr>\n",
       "    <tr>\n",
       "      <th id=\"T_b94a5_level0_row33\" class=\"row_heading level0 row33\" >39</th>\n",
       "      <td id=\"T_b94a5_row33_col0\" class=\"data row33 col0\" >100.0%</td>\n",
       "    </tr>\n",
       "    <tr>\n",
       "      <th id=\"T_b94a5_level0_row34\" class=\"row_heading level0 row34\" >40</th>\n",
       "      <td id=\"T_b94a5_row34_col0\" class=\"data row34 col0\" >0.0%</td>\n",
       "    </tr>\n",
       "    <tr>\n",
       "      <th id=\"T_b94a5_level0_row35\" class=\"row_heading level0 row35\" >42</th>\n",
       "      <td id=\"T_b94a5_row35_col0\" class=\"data row35 col0\" >100.0%</td>\n",
       "    </tr>\n",
       "    <tr>\n",
       "      <th id=\"T_b94a5_level0_row36\" class=\"row_heading level0 row36\" >43</th>\n",
       "      <td id=\"T_b94a5_row36_col0\" class=\"data row36 col0\" >100.0%</td>\n",
       "    </tr>\n",
       "    <tr>\n",
       "      <th id=\"T_b94a5_level0_row37\" class=\"row_heading level0 row37\" >44</th>\n",
       "      <td id=\"T_b94a5_row37_col0\" class=\"data row37 col0\" >100.0%</td>\n",
       "    </tr>\n",
       "  </tbody>\n",
       "</table>\n"
      ],
      "text/plain": [
       "<pandas.io.formats.style.Styler at 0x16a15028150>"
      ]
     },
     "execution_count": 7,
     "metadata": {},
     "output_type": "execute_result"
    }
   ],
   "source": [
    "\n",
    "# Sort ENS by the numeric value of the ENS column\n",
    "df_parcels['ENS'] = df_parcels['ENS'].astype(str).str.extract('(\\d+)').astype(int)\n",
    "df_parcels['ENS'] = df_parcels['ENS'].astype(str).str.zfill(2)  \n",
    "\n",
    "(pd.pivot_table(df_parcels, index='ENS', columns='source', values='paid_parking', aggfunc='sum')/\\\n",
    "    pd.pivot_table(df_parcels, index='ENS', columns='source', values='paid_parking', aggfunc='count')).style.format('{:,.1%}').set_caption('Paid parking by Parking Zone')\\\n",
    "    "
   ]
  },
  {
   "cell_type": "code",
   "execution_count": 8,
   "metadata": {
    "execution": {
     "iopub.execute_input": "2025-06-19T04:58:40.126456Z",
     "iopub.status.busy": "2025-06-19T04:58:40.125456Z",
     "iopub.status.idle": "2025-06-19T04:58:40.569184Z",
     "shell.execute_reply": "2025-06-19T04:58:40.568659Z"
    }
   },
   "outputs": [
    {
     "data": {
      "text/html": [
       "<style type=\"text/css\">\n",
       "</style>\n",
       "<table id=\"T_0bacc\">\n",
       "  <caption>Paid parking by growth center</caption>\n",
       "  <thead>\n",
       "    <tr>\n",
       "      <th class=\"index_name level0\" >source</th>\n",
       "      <th id=\"T_0bacc_level0_col0\" class=\"col_heading level0 col0\" >current run</th>\n",
       "    </tr>\n",
       "    <tr>\n",
       "      <th class=\"index_name level0\" >district_name</th>\n",
       "      <th class=\"blank col0\" >&nbsp;</th>\n",
       "    </tr>\n",
       "  </thead>\n",
       "  <tbody>\n",
       "    <tr>\n",
       "      <th id=\"T_0bacc_level0_row0\" class=\"row_heading level0 row0\" >East Side</th>\n",
       "      <td id=\"T_0bacc_row0_col0\" class=\"data row0 col0\" >1.3%</td>\n",
       "    </tr>\n",
       "    <tr>\n",
       "      <th id=\"T_0bacc_level0_row1\" class=\"row_heading level0 row1\" >Everett-Lynwood-Edmonds</th>\n",
       "      <td id=\"T_0bacc_row1_col0\" class=\"data row1 col0\" >4.3%</td>\n",
       "    </tr>\n",
       "    <tr>\n",
       "      <th id=\"T_0bacc_level0_row2\" class=\"row_heading level0 row2\" >Kitsap</th>\n",
       "      <td id=\"T_0bacc_row2_col0\" class=\"data row2 col0\" >2.4%</td>\n",
       "    </tr>\n",
       "    <tr>\n",
       "      <th id=\"T_0bacc_level0_row3\" class=\"row_heading level0 row3\" >North Seattle-Shoreline</th>\n",
       "      <td id=\"T_0bacc_row3_col0\" class=\"data row3 col0\" >5.8%</td>\n",
       "    </tr>\n",
       "    <tr>\n",
       "      <th id=\"T_0bacc_level0_row4\" class=\"row_heading level0 row4\" >Renton-FedWay-Kent</th>\n",
       "      <td id=\"T_0bacc_row4_col0\" class=\"data row4 col0\" >2.9%</td>\n",
       "    </tr>\n",
       "    <tr>\n",
       "      <th id=\"T_0bacc_level0_row5\" class=\"row_heading level0 row5\" >S.Kitsap</th>\n",
       "      <td id=\"T_0bacc_row5_col0\" class=\"data row5 col0\" >0.0%</td>\n",
       "    </tr>\n",
       "    <tr>\n",
       "      <th id=\"T_0bacc_level0_row6\" class=\"row_heading level0 row6\" >Seattle CBD</th>\n",
       "      <td id=\"T_0bacc_row6_col0\" class=\"data row6 col0\" >16.5%</td>\n",
       "    </tr>\n",
       "    <tr>\n",
       "      <th id=\"T_0bacc_level0_row7\" class=\"row_heading level0 row7\" >South Pierce</th>\n",
       "      <td id=\"T_0bacc_row7_col0\" class=\"data row7 col0\" >3.0%</td>\n",
       "    </tr>\n",
       "    <tr>\n",
       "      <th id=\"T_0bacc_level0_row8\" class=\"row_heading level0 row8\" >Suburban Snohomish</th>\n",
       "      <td id=\"T_0bacc_row8_col0\" class=\"data row8 col0\" >0.8%</td>\n",
       "    </tr>\n",
       "    <tr>\n",
       "      <th id=\"T_0bacc_level0_row9\" class=\"row_heading level0 row9\" >Tacoma</th>\n",
       "      <td id=\"T_0bacc_row9_col0\" class=\"data row9 col0\" >2.9%</td>\n",
       "    </tr>\n",
       "    <tr>\n",
       "      <th id=\"T_0bacc_level0_row10\" class=\"row_heading level0 row10\" >West-South Seattle</th>\n",
       "      <td id=\"T_0bacc_row10_col0\" class=\"data row10 col0\" >0.1%</td>\n",
       "    </tr>\n",
       "  </tbody>\n",
       "</table>\n"
      ],
      "text/plain": [
       "<pandas.io.formats.style.Styler at 0x16a4423b750>"
      ]
     },
     "execution_count": 8,
     "metadata": {},
     "output_type": "execute_result"
    }
   ],
   "source": [
    "df1 = pd.pivot_table(df_parcels, index='district_name', columns='source', values='paid_parking', aggfunc='sum')\n",
    "df2 = pd.pivot_table(df_parcels, index='district_name', columns='source', values='paid_parking', aggfunc='count')\n",
    "\n",
    "(df1 / df2).style.format('{:,.1%}').set_caption('Paid parking by growth center')"
   ]
  },
  {
   "cell_type": "raw",
   "metadata": {},
   "source": [
    "#### RGC"
   ]
  },
  {
   "cell_type": "code",
   "execution_count": 9,
   "metadata": {
    "execution": {
     "iopub.execute_input": "2025-06-19T04:58:40.575159Z",
     "iopub.status.busy": "2025-06-19T04:58:40.574162Z",
     "iopub.status.idle": "2025-06-19T04:58:41.077624Z",
     "shell.execute_reply": "2025-06-19T04:58:41.076568Z"
    }
   },
   "outputs": [
    {
     "data": {
      "text/html": [
       "<style type=\"text/css\">\n",
       "</style>\n",
       "<table id=\"T_52f79\">\n",
       "  <caption>Paid parking by growth center</caption>\n",
       "  <thead>\n",
       "    <tr>\n",
       "      <th class=\"index_name level0\" >source</th>\n",
       "      <th id=\"T_52f79_level0_col0\" class=\"col_heading level0 col0\" >current run</th>\n",
       "    </tr>\n",
       "    <tr>\n",
       "      <th class=\"index_name level0\" >GrowthCenterName</th>\n",
       "      <th class=\"blank col0\" >&nbsp;</th>\n",
       "    </tr>\n",
       "  </thead>\n",
       "  <tbody>\n",
       "    <tr>\n",
       "      <th id=\"T_52f79_level0_row0\" class=\"row_heading level0 row0\" >Auburn</th>\n",
       "      <td id=\"T_52f79_row0_col0\" class=\"data row0 col0\" >100.0%</td>\n",
       "    </tr>\n",
       "    <tr>\n",
       "      <th id=\"T_52f79_level0_row1\" class=\"row_heading level0 row1\" >Bellevue</th>\n",
       "      <td id=\"T_52f79_row1_col0\" class=\"data row1 col0\" >93.9%</td>\n",
       "    </tr>\n",
       "    <tr>\n",
       "      <th id=\"T_52f79_level0_row2\" class=\"row_heading level0 row2\" >Bothell Canyon Park</th>\n",
       "      <td id=\"T_52f79_row2_col0\" class=\"data row2 col0\" >93.8%</td>\n",
       "    </tr>\n",
       "    <tr>\n",
       "      <th id=\"T_52f79_level0_row3\" class=\"row_heading level0 row3\" >Bremerton</th>\n",
       "      <td id=\"T_52f79_row3_col0\" class=\"data row3 col0\" >97.8%</td>\n",
       "    </tr>\n",
       "    <tr>\n",
       "      <th id=\"T_52f79_level0_row4\" class=\"row_heading level0 row4\" >Burien</th>\n",
       "      <td id=\"T_52f79_row4_col0\" class=\"data row4 col0\" >0.0%</td>\n",
       "    </tr>\n",
       "    <tr>\n",
       "      <th id=\"T_52f79_level0_row5\" class=\"row_heading level0 row5\" >Everett</th>\n",
       "      <td id=\"T_52f79_row5_col0\" class=\"data row5 col0\" >95.6%</td>\n",
       "    </tr>\n",
       "    <tr>\n",
       "      <th id=\"T_52f79_level0_row6\" class=\"row_heading level0 row6\" >Federal Way</th>\n",
       "      <td id=\"T_52f79_row6_col0\" class=\"data row6 col0\" >96.9%</td>\n",
       "    </tr>\n",
       "    <tr>\n",
       "      <th id=\"T_52f79_level0_row7\" class=\"row_heading level0 row7\" >Greater Downtown Kirkland</th>\n",
       "      <td id=\"T_52f79_row7_col0\" class=\"data row7 col0\" >0.0%</td>\n",
       "    </tr>\n",
       "    <tr>\n",
       "      <th id=\"T_52f79_level0_row8\" class=\"row_heading level0 row8\" >Issaquah</th>\n",
       "      <td id=\"T_52f79_row8_col0\" class=\"data row8 col0\" >100.0%</td>\n",
       "    </tr>\n",
       "    <tr>\n",
       "      <th id=\"T_52f79_level0_row9\" class=\"row_heading level0 row9\" >Kent</th>\n",
       "      <td id=\"T_52f79_row9_col0\" class=\"data row9 col0\" >100.0%</td>\n",
       "    </tr>\n",
       "    <tr>\n",
       "      <th id=\"T_52f79_level0_row10\" class=\"row_heading level0 row10\" >Kirkland Totem Lake</th>\n",
       "      <td id=\"T_52f79_row10_col0\" class=\"data row10 col0\" >92.7%</td>\n",
       "    </tr>\n",
       "    <tr>\n",
       "      <th id=\"T_52f79_level0_row11\" class=\"row_heading level0 row11\" >Lakewood</th>\n",
       "      <td id=\"T_52f79_row11_col0\" class=\"data row11 col0\" >78.5%</td>\n",
       "    </tr>\n",
       "    <tr>\n",
       "      <th id=\"T_52f79_level0_row12\" class=\"row_heading level0 row12\" >Lynnwood</th>\n",
       "      <td id=\"T_52f79_row12_col0\" class=\"data row12 col0\" >91.5%</td>\n",
       "    </tr>\n",
       "    <tr>\n",
       "      <th id=\"T_52f79_level0_row13\" class=\"row_heading level0 row13\" >Not in RGC</th>\n",
       "      <td id=\"T_52f79_row13_col0\" class=\"data row13 col0\" >1.5%</td>\n",
       "    </tr>\n",
       "    <tr>\n",
       "      <th id=\"T_52f79_level0_row14\" class=\"row_heading level0 row14\" >Puyallup Downtown</th>\n",
       "      <td id=\"T_52f79_row14_col0\" class=\"data row14 col0\" >97.8%</td>\n",
       "    </tr>\n",
       "    <tr>\n",
       "      <th id=\"T_52f79_level0_row15\" class=\"row_heading level0 row15\" >Puyallup South Hill</th>\n",
       "      <td id=\"T_52f79_row15_col0\" class=\"data row15 col0\" >0.0%</td>\n",
       "    </tr>\n",
       "    <tr>\n",
       "      <th id=\"T_52f79_level0_row16\" class=\"row_heading level0 row16\" >Redmond Downtown</th>\n",
       "      <td id=\"T_52f79_row16_col0\" class=\"data row16 col0\" >98.5%</td>\n",
       "    </tr>\n",
       "    <tr>\n",
       "      <th id=\"T_52f79_level0_row17\" class=\"row_heading level0 row17\" >Redmond-Overlake</th>\n",
       "      <td id=\"T_52f79_row17_col0\" class=\"data row17 col0\" >99.1%</td>\n",
       "    </tr>\n",
       "    <tr>\n",
       "      <th id=\"T_52f79_level0_row18\" class=\"row_heading level0 row18\" >Renton</th>\n",
       "      <td id=\"T_52f79_row18_col0\" class=\"data row18 col0\" >99.7%</td>\n",
       "    </tr>\n",
       "    <tr>\n",
       "      <th id=\"T_52f79_level0_row19\" class=\"row_heading level0 row19\" >SeaTac</th>\n",
       "      <td id=\"T_52f79_row19_col0\" class=\"data row19 col0\" >94.2%</td>\n",
       "    </tr>\n",
       "    <tr>\n",
       "      <th id=\"T_52f79_level0_row20\" class=\"row_heading level0 row20\" >Seattle Downtown</th>\n",
       "      <td id=\"T_52f79_row20_col0\" class=\"data row20 col0\" >100.0%</td>\n",
       "    </tr>\n",
       "    <tr>\n",
       "      <th id=\"T_52f79_level0_row21\" class=\"row_heading level0 row21\" >Seattle First Hill/Capitol Hill</th>\n",
       "      <td id=\"T_52f79_row21_col0\" class=\"data row21 col0\" >98.0%</td>\n",
       "    </tr>\n",
       "    <tr>\n",
       "      <th id=\"T_52f79_level0_row22\" class=\"row_heading level0 row22\" >Seattle Northgate</th>\n",
       "      <td id=\"T_52f79_row22_col0\" class=\"data row22 col0\" >75.6%</td>\n",
       "    </tr>\n",
       "    <tr>\n",
       "      <th id=\"T_52f79_level0_row23\" class=\"row_heading level0 row23\" >Seattle South Lake Union</th>\n",
       "      <td id=\"T_52f79_row23_col0\" class=\"data row23 col0\" >100.0%</td>\n",
       "    </tr>\n",
       "    <tr>\n",
       "      <th id=\"T_52f79_level0_row24\" class=\"row_heading level0 row24\" >Seattle University Community</th>\n",
       "      <td id=\"T_52f79_row24_col0\" class=\"data row24 col0\" >94.7%</td>\n",
       "    </tr>\n",
       "    <tr>\n",
       "      <th id=\"T_52f79_level0_row25\" class=\"row_heading level0 row25\" >Seattle Uptown</th>\n",
       "      <td id=\"T_52f79_row25_col0\" class=\"data row25 col0\" >91.9%</td>\n",
       "    </tr>\n",
       "    <tr>\n",
       "      <th id=\"T_52f79_level0_row26\" class=\"row_heading level0 row26\" >Silverdale</th>\n",
       "      <td id=\"T_52f79_row26_col0\" class=\"data row26 col0\" >0.0%</td>\n",
       "    </tr>\n",
       "    <tr>\n",
       "      <th id=\"T_52f79_level0_row27\" class=\"row_heading level0 row27\" >Tacoma Downtown</th>\n",
       "      <td id=\"T_52f79_row27_col0\" class=\"data row27 col0\" >57.5%</td>\n",
       "    </tr>\n",
       "    <tr>\n",
       "      <th id=\"T_52f79_level0_row28\" class=\"row_heading level0 row28\" >Tacoma Mall</th>\n",
       "      <td id=\"T_52f79_row28_col0\" class=\"data row28 col0\" >90.8%</td>\n",
       "    </tr>\n",
       "    <tr>\n",
       "      <th id=\"T_52f79_level0_row29\" class=\"row_heading level0 row29\" >Tukwila</th>\n",
       "      <td id=\"T_52f79_row29_col0\" class=\"data row29 col0\" >96.2%</td>\n",
       "    </tr>\n",
       "    <tr>\n",
       "      <th id=\"T_52f79_level0_row30\" class=\"row_heading level0 row30\" >University Place</th>\n",
       "      <td id=\"T_52f79_row30_col0\" class=\"data row30 col0\" >98.4%</td>\n",
       "    </tr>\n",
       "  </tbody>\n",
       "</table>\n"
      ],
      "text/plain": [
       "<pandas.io.formats.style.Styler at 0x16a442360d0>"
      ]
     },
     "execution_count": 9,
     "metadata": {},
     "output_type": "execute_result"
    }
   ],
   "source": [
    "df1 = pd.pivot_table(df_parcels, index='GrowthCenterName', columns='source', values='paid_parking', aggfunc='sum')\n",
    "df2 = pd.pivot_table(df_parcels, index='GrowthCenterName', columns='source', values='paid_parking', aggfunc='count')\n",
    "\n",
    "(df1 / df2).style.format('{:,.1%}').set_caption('Paid parking by growth center')"
   ]
  },
  {
   "cell_type": "raw",
   "metadata": {
    "vscode": {
     "languageId": "raw"
    }
   },
   "source": [
    ":::"
   ]
  },
  {
   "cell_type": "markdown",
   "metadata": {},
   "source": [
    "### Parking Supply\n",
    "\n",
    "- The number of paid public off-street parking spaces with per-hour pricing"
   ]
  },
  {
   "cell_type": "raw",
   "metadata": {},
   "source": [
    ":::{.panel-tabset}\n",
    "\n",
    "#### Region total"
   ]
  },
  {
   "cell_type": "code",
   "execution_count": 10,
   "metadata": {
    "execution": {
     "iopub.execute_input": "2025-06-19T04:58:41.083771Z",
     "iopub.status.busy": "2025-06-19T04:58:41.082765Z",
     "iopub.status.idle": "2025-06-19T04:58:41.183560Z",
     "shell.execute_reply": "2025-06-19T04:58:41.182557Z"
    }
   },
   "outputs": [
    {
     "data": {
      "text/html": [
       "<style type=\"text/css\">\n",
       "</style>\n",
       "<table id=\"T_ad800\">\n",
       "  <thead>\n",
       "    <tr>\n",
       "      <th class=\"blank level0\" >&nbsp;</th>\n",
       "      <th id=\"T_ad800_level0_col0\" class=\"col_heading level0 col0\" >parkhr_p</th>\n",
       "    </tr>\n",
       "    <tr>\n",
       "      <th class=\"index_name level0\" >source</th>\n",
       "      <th class=\"blank col0\" >&nbsp;</th>\n",
       "    </tr>\n",
       "  </thead>\n",
       "  <tbody>\n",
       "    <tr>\n",
       "      <th id=\"T_ad800_level0_row0\" class=\"row_heading level0 row0\" >current run</th>\n",
       "      <td id=\"T_ad800_row0_col0\" class=\"data row0 col0\" >182,258</td>\n",
       "    </tr>\n",
       "  </tbody>\n",
       "</table>\n"
      ],
      "text/plain": [
       "<pandas.io.formats.style.Styler at 0x16a165654d0>"
      ]
     },
     "execution_count": 10,
     "metadata": {},
     "output_type": "execute_result"
    }
   ],
   "source": [
    "# Daily parking cost totals (ppricdyp)\n",
    "pd.pivot_table(df_parcels, index='source', values='parkhr_p', aggfunc='sum').style.format('{:,.0f}')"
   ]
  },
  {
   "cell_type": "raw",
   "metadata": {},
   "source": [
    "#### District"
   ]
  },
  {
   "cell_type": "code",
   "execution_count": 11,
   "metadata": {
    "execution": {
     "iopub.execute_input": "2025-06-19T04:58:41.188550Z",
     "iopub.status.busy": "2025-06-19T04:58:41.187550Z",
     "iopub.status.idle": "2025-06-19T04:58:41.431076Z",
     "shell.execute_reply": "2025-06-19T04:58:41.430073Z"
    }
   },
   "outputs": [
    {
     "data": {
      "text/html": [
       "<style type=\"text/css\">\n",
       "</style>\n",
       "<table id=\"T_bd431\">\n",
       "  <thead>\n",
       "    <tr>\n",
       "      <th class=\"index_name level0\" >source</th>\n",
       "      <th id=\"T_bd431_level0_col0\" class=\"col_heading level0 col0\" >current run</th>\n",
       "    </tr>\n",
       "    <tr>\n",
       "      <th class=\"index_name level0\" >district_name</th>\n",
       "      <th class=\"blank col0\" >&nbsp;</th>\n",
       "    </tr>\n",
       "  </thead>\n",
       "  <tbody>\n",
       "    <tr>\n",
       "      <th id=\"T_bd431_level0_row0\" class=\"row_heading level0 row0\" >East Side</th>\n",
       "      <td id=\"T_bd431_row0_col0\" class=\"data row0 col0\" >13,892</td>\n",
       "    </tr>\n",
       "    <tr>\n",
       "      <th id=\"T_bd431_level0_row1\" class=\"row_heading level0 row1\" >Everett-Lynwood-Edmonds</th>\n",
       "      <td id=\"T_bd431_row1_col0\" class=\"data row1 col0\" >16,415</td>\n",
       "    </tr>\n",
       "    <tr>\n",
       "      <th id=\"T_bd431_level0_row2\" class=\"row_heading level0 row2\" >Kitsap</th>\n",
       "      <td id=\"T_bd431_row2_col0\" class=\"data row2 col0\" >13,197</td>\n",
       "    </tr>\n",
       "    <tr>\n",
       "      <th id=\"T_bd431_level0_row3\" class=\"row_heading level0 row3\" >North Seattle-Shoreline</th>\n",
       "      <td id=\"T_bd431_row3_col0\" class=\"data row3 col0\" >31,018</td>\n",
       "    </tr>\n",
       "    <tr>\n",
       "      <th id=\"T_bd431_level0_row4\" class=\"row_heading level0 row4\" >Renton-FedWay-Kent</th>\n",
       "      <td id=\"T_bd431_row4_col0\" class=\"data row4 col0\" >27,174</td>\n",
       "    </tr>\n",
       "    <tr>\n",
       "      <th id=\"T_bd431_level0_row5\" class=\"row_heading level0 row5\" >S.Kitsap</th>\n",
       "      <td id=\"T_bd431_row5_col0\" class=\"data row5 col0\" >0</td>\n",
       "    </tr>\n",
       "    <tr>\n",
       "      <th id=\"T_bd431_level0_row6\" class=\"row_heading level0 row6\" >Seattle CBD</th>\n",
       "      <td id=\"T_bd431_row6_col0\" class=\"data row6 col0\" >31,408</td>\n",
       "    </tr>\n",
       "    <tr>\n",
       "      <th id=\"T_bd431_level0_row7\" class=\"row_heading level0 row7\" >South Pierce</th>\n",
       "      <td id=\"T_bd431_row7_col0\" class=\"data row7 col0\" >29,301</td>\n",
       "    </tr>\n",
       "    <tr>\n",
       "      <th id=\"T_bd431_level0_row8\" class=\"row_heading level0 row8\" >Suburban Snohomish</th>\n",
       "      <td id=\"T_bd431_row8_col0\" class=\"data row8 col0\" >8,342</td>\n",
       "    </tr>\n",
       "    <tr>\n",
       "      <th id=\"T_bd431_level0_row9\" class=\"row_heading level0 row9\" >Tacoma</th>\n",
       "      <td id=\"T_bd431_row9_col0\" class=\"data row9 col0\" >11,170</td>\n",
       "    </tr>\n",
       "    <tr>\n",
       "      <th id=\"T_bd431_level0_row10\" class=\"row_heading level0 row10\" >West-South Seattle</th>\n",
       "      <td id=\"T_bd431_row10_col0\" class=\"data row10 col0\" >342</td>\n",
       "    </tr>\n",
       "  </tbody>\n",
       "</table>\n"
      ],
      "text/plain": [
       "<pandas.io.formats.style.Styler at 0x16a44238510>"
      ]
     },
     "execution_count": 11,
     "metadata": {},
     "output_type": "execute_result"
    }
   ],
   "source": [
    "# Parking costs by district\n",
    "pd.pivot_table(df_parcels, index='district_name', columns='source', values='parkhr_p', aggfunc='sum').style.format('{:,.0f}')"
   ]
  },
  {
   "cell_type": "raw",
   "metadata": {
    "vscode": {
     "languageId": "raw"
    }
   },
   "source": [
    "#### Parking Zone"
   ]
  },
  {
   "cell_type": "code",
   "execution_count": 12,
   "metadata": {
    "execution": {
     "iopub.execute_input": "2025-06-19T04:58:41.436064Z",
     "iopub.status.busy": "2025-06-19T04:58:41.436064Z",
     "iopub.status.idle": "2025-06-19T04:58:41.656246Z",
     "shell.execute_reply": "2025-06-19T04:58:41.655244Z"
    }
   },
   "outputs": [
    {
     "data": {
      "text/html": [
       "<style type=\"text/css\">\n",
       "</style>\n",
       "<table id=\"T_19a44\">\n",
       "  <thead>\n",
       "    <tr>\n",
       "      <th class=\"index_name level0\" >source</th>\n",
       "      <th id=\"T_19a44_level0_col0\" class=\"col_heading level0 col0\" >current run</th>\n",
       "    </tr>\n",
       "    <tr>\n",
       "      <th class=\"index_name level0\" >ENS</th>\n",
       "      <th class=\"blank col0\" >&nbsp;</th>\n",
       "    </tr>\n",
       "  </thead>\n",
       "  <tbody>\n",
       "    <tr>\n",
       "      <th id=\"T_19a44_level0_row0\" class=\"row_heading level0 row0\" >00</th>\n",
       "      <td id=\"T_19a44_row0_col0\" class=\"data row0 col0\" >0</td>\n",
       "    </tr>\n",
       "    <tr>\n",
       "      <th id=\"T_19a44_level0_row1\" class=\"row_heading level0 row1\" >01</th>\n",
       "      <td id=\"T_19a44_row1_col0\" class=\"data row1 col0\" >1,048</td>\n",
       "    </tr>\n",
       "    <tr>\n",
       "      <th id=\"T_19a44_level0_row2\" class=\"row_heading level0 row2\" >02</th>\n",
       "      <td id=\"T_19a44_row2_col0\" class=\"data row2 col0\" >13,197</td>\n",
       "    </tr>\n",
       "    <tr>\n",
       "      <th id=\"T_19a44_level0_row3\" class=\"row_heading level0 row3\" >03</th>\n",
       "      <td id=\"T_19a44_row3_col0\" class=\"data row3 col0\" >10,575</td>\n",
       "    </tr>\n",
       "    <tr>\n",
       "      <th id=\"T_19a44_level0_row4\" class=\"row_heading level0 row4\" >04</th>\n",
       "      <td id=\"T_19a44_row4_col0\" class=\"data row4 col0\" >6,836</td>\n",
       "    </tr>\n",
       "    <tr>\n",
       "      <th id=\"T_19a44_level0_row5\" class=\"row_heading level0 row5\" >05</th>\n",
       "      <td id=\"T_19a44_row5_col0\" class=\"data row5 col0\" >8,331</td>\n",
       "    </tr>\n",
       "    <tr>\n",
       "      <th id=\"T_19a44_level0_row6\" class=\"row_heading level0 row6\" >06</th>\n",
       "      <td id=\"T_19a44_row6_col0\" class=\"data row6 col0\" >1,069</td>\n",
       "    </tr>\n",
       "    <tr>\n",
       "      <th id=\"T_19a44_level0_row7\" class=\"row_heading level0 row7\" >07</th>\n",
       "      <td id=\"T_19a44_row7_col0\" class=\"data row7 col0\" >1,669</td>\n",
       "    </tr>\n",
       "    <tr>\n",
       "      <th id=\"T_19a44_level0_row8\" class=\"row_heading level0 row8\" >08</th>\n",
       "      <td id=\"T_19a44_row8_col0\" class=\"data row8 col0\" >1,374</td>\n",
       "    </tr>\n",
       "    <tr>\n",
       "      <th id=\"T_19a44_level0_row9\" class=\"row_heading level0 row9\" >09</th>\n",
       "      <td id=\"T_19a44_row9_col0\" class=\"data row9 col0\" >1,985</td>\n",
       "    </tr>\n",
       "    <tr>\n",
       "      <th id=\"T_19a44_level0_row10\" class=\"row_heading level0 row10\" >10</th>\n",
       "      <td id=\"T_19a44_row10_col0\" class=\"data row10 col0\" >1,733</td>\n",
       "    </tr>\n",
       "    <tr>\n",
       "      <th id=\"T_19a44_level0_row11\" class=\"row_heading level0 row11\" >11</th>\n",
       "      <td id=\"T_19a44_row11_col0\" class=\"data row11 col0\" >616</td>\n",
       "    </tr>\n",
       "    <tr>\n",
       "      <th id=\"T_19a44_level0_row12\" class=\"row_heading level0 row12\" >15</th>\n",
       "      <td id=\"T_19a44_row12_col0\" class=\"data row12 col0\" >0</td>\n",
       "    </tr>\n",
       "    <tr>\n",
       "      <th id=\"T_19a44_level0_row13\" class=\"row_heading level0 row13\" >16</th>\n",
       "      <td id=\"T_19a44_row13_col0\" class=\"data row13 col0\" >4,192</td>\n",
       "    </tr>\n",
       "    <tr>\n",
       "      <th id=\"T_19a44_level0_row14\" class=\"row_heading level0 row14\" >17</th>\n",
       "      <td id=\"T_19a44_row14_col0\" class=\"data row14 col0\" >13,476</td>\n",
       "    </tr>\n",
       "    <tr>\n",
       "      <th id=\"T_19a44_level0_row15\" class=\"row_heading level0 row15\" >18</th>\n",
       "      <td id=\"T_19a44_row15_col0\" class=\"data row15 col0\" >4,692</td>\n",
       "    </tr>\n",
       "    <tr>\n",
       "      <th id=\"T_19a44_level0_row16\" class=\"row_heading level0 row16\" >19</th>\n",
       "      <td id=\"T_19a44_row16_col0\" class=\"data row16 col0\" >943</td>\n",
       "    </tr>\n",
       "    <tr>\n",
       "      <th id=\"T_19a44_level0_row17\" class=\"row_heading level0 row17\" >20</th>\n",
       "      <td id=\"T_19a44_row17_col0\" class=\"data row17 col0\" >4,634</td>\n",
       "    </tr>\n",
       "    <tr>\n",
       "      <th id=\"T_19a44_level0_row18\" class=\"row_heading level0 row18\" >21</th>\n",
       "      <td id=\"T_19a44_row18_col0\" class=\"data row18 col0\" >8,305</td>\n",
       "    </tr>\n",
       "    <tr>\n",
       "      <th id=\"T_19a44_level0_row19\" class=\"row_heading level0 row19\" >22</th>\n",
       "      <td id=\"T_19a44_row19_col0\" class=\"data row19 col0\" >5,877</td>\n",
       "    </tr>\n",
       "    <tr>\n",
       "      <th id=\"T_19a44_level0_row20\" class=\"row_heading level0 row20\" >24</th>\n",
       "      <td id=\"T_19a44_row20_col0\" class=\"data row20 col0\" >5,203</td>\n",
       "    </tr>\n",
       "    <tr>\n",
       "      <th id=\"T_19a44_level0_row21\" class=\"row_heading level0 row21\" >26</th>\n",
       "      <td id=\"T_19a44_row21_col0\" class=\"data row21 col0\" >3,997</td>\n",
       "    </tr>\n",
       "    <tr>\n",
       "      <th id=\"T_19a44_level0_row22\" class=\"row_heading level0 row22\" >27</th>\n",
       "      <td id=\"T_19a44_row22_col0\" class=\"data row22 col0\" >2,438</td>\n",
       "    </tr>\n",
       "    <tr>\n",
       "      <th id=\"T_19a44_level0_row23\" class=\"row_heading level0 row23\" >28</th>\n",
       "      <td id=\"T_19a44_row23_col0\" class=\"data row23 col0\" >6,651</td>\n",
       "    </tr>\n",
       "    <tr>\n",
       "      <th id=\"T_19a44_level0_row24\" class=\"row_heading level0 row24\" >29</th>\n",
       "      <td id=\"T_19a44_row24_col0\" class=\"data row24 col0\" >10,211</td>\n",
       "    </tr>\n",
       "    <tr>\n",
       "      <th id=\"T_19a44_level0_row25\" class=\"row_heading level0 row25\" >30</th>\n",
       "      <td id=\"T_19a44_row25_col0\" class=\"data row25 col0\" >1,564</td>\n",
       "    </tr>\n",
       "    <tr>\n",
       "      <th id=\"T_19a44_level0_row26\" class=\"row_heading level0 row26\" >31</th>\n",
       "      <td id=\"T_19a44_row26_col0\" class=\"data row26 col0\" >2,559</td>\n",
       "    </tr>\n",
       "    <tr>\n",
       "      <th id=\"T_19a44_level0_row27\" class=\"row_heading level0 row27\" >32</th>\n",
       "      <td id=\"T_19a44_row27_col0\" class=\"data row27 col0\" >0</td>\n",
       "    </tr>\n",
       "    <tr>\n",
       "      <th id=\"T_19a44_level0_row28\" class=\"row_heading level0 row28\" >33</th>\n",
       "      <td id=\"T_19a44_row28_col0\" class=\"data row28 col0\" >5,466</td>\n",
       "    </tr>\n",
       "    <tr>\n",
       "      <th id=\"T_19a44_level0_row29\" class=\"row_heading level0 row29\" >34</th>\n",
       "      <td id=\"T_19a44_row29_col0\" class=\"data row29 col0\" >721</td>\n",
       "    </tr>\n",
       "    <tr>\n",
       "      <th id=\"T_19a44_level0_row30\" class=\"row_heading level0 row30\" >35</th>\n",
       "      <td id=\"T_19a44_row30_col0\" class=\"data row30 col0\" >5,493</td>\n",
       "    </tr>\n",
       "    <tr>\n",
       "      <th id=\"T_19a44_level0_row31\" class=\"row_heading level0 row31\" >36</th>\n",
       "      <td id=\"T_19a44_row31_col0\" class=\"data row31 col0\" >0</td>\n",
       "    </tr>\n",
       "    <tr>\n",
       "      <th id=\"T_19a44_level0_row32\" class=\"row_heading level0 row32\" >37</th>\n",
       "      <td id=\"T_19a44_row32_col0\" class=\"data row32 col0\" >7,183</td>\n",
       "    </tr>\n",
       "    <tr>\n",
       "      <th id=\"T_19a44_level0_row33\" class=\"row_heading level0 row33\" >39</th>\n",
       "      <td id=\"T_19a44_row33_col0\" class=\"data row33 col0\" >4,334</td>\n",
       "    </tr>\n",
       "    <tr>\n",
       "      <th id=\"T_19a44_level0_row34\" class=\"row_heading level0 row34\" >40</th>\n",
       "      <td id=\"T_19a44_row34_col0\" class=\"data row34 col0\" >0</td>\n",
       "    </tr>\n",
       "    <tr>\n",
       "      <th id=\"T_19a44_level0_row35\" class=\"row_heading level0 row35\" >42</th>\n",
       "      <td id=\"T_19a44_row35_col0\" class=\"data row35 col0\" >18,053</td>\n",
       "    </tr>\n",
       "    <tr>\n",
       "      <th id=\"T_19a44_level0_row36\" class=\"row_heading level0 row36\" >43</th>\n",
       "      <td id=\"T_19a44_row36_col0\" class=\"data row36 col0\" >1,206</td>\n",
       "    </tr>\n",
       "    <tr>\n",
       "      <th id=\"T_19a44_level0_row37\" class=\"row_heading level0 row37\" >44</th>\n",
       "      <td id=\"T_19a44_row37_col0\" class=\"data row37 col0\" >16,625</td>\n",
       "    </tr>\n",
       "  </tbody>\n",
       "</table>\n"
      ],
      "text/plain": [
       "<pandas.io.formats.style.Styler at 0x16a0e7f8350>"
      ]
     },
     "execution_count": 12,
     "metadata": {},
     "output_type": "execute_result"
    }
   ],
   "source": [
    "# Parking costs by zone\n",
    "pd.pivot_table(df_parcels, index='ENS', columns='source', values='parkhr_p', aggfunc='sum').style.format('{:,.0f}')"
   ]
  },
  {
   "cell_type": "raw",
   "metadata": {},
   "source": [
    "#### RGC"
   ]
  },
  {
   "cell_type": "code",
   "execution_count": 13,
   "metadata": {
    "execution": {
     "iopub.execute_input": "2025-06-19T04:58:41.662231Z",
     "iopub.status.busy": "2025-06-19T04:58:41.661236Z",
     "iopub.status.idle": "2025-06-19T04:58:41.932821Z",
     "shell.execute_reply": "2025-06-19T04:58:41.931817Z"
    }
   },
   "outputs": [
    {
     "data": {
      "text/html": [
       "<style type=\"text/css\">\n",
       "</style>\n",
       "<table id=\"T_ed0f3\">\n",
       "  <thead>\n",
       "    <tr>\n",
       "      <th class=\"index_name level0\" >source</th>\n",
       "      <th id=\"T_ed0f3_level0_col0\" class=\"col_heading level0 col0\" >current run</th>\n",
       "    </tr>\n",
       "    <tr>\n",
       "      <th class=\"index_name level0\" >GrowthCenterName</th>\n",
       "      <th class=\"blank col0\" >&nbsp;</th>\n",
       "    </tr>\n",
       "  </thead>\n",
       "  <tbody>\n",
       "    <tr>\n",
       "      <th id=\"T_ed0f3_level0_row0\" class=\"row_heading level0 row0\" >Auburn</th>\n",
       "      <td id=\"T_ed0f3_row0_col0\" class=\"data row0 col0\" >2,923</td>\n",
       "    </tr>\n",
       "    <tr>\n",
       "      <th id=\"T_ed0f3_level0_row1\" class=\"row_heading level0 row1\" >Bellevue</th>\n",
       "      <td id=\"T_ed0f3_row1_col0\" class=\"data row1 col0\" >779</td>\n",
       "    </tr>\n",
       "    <tr>\n",
       "      <th id=\"T_ed0f3_level0_row2\" class=\"row_heading level0 row2\" >Bothell Canyon Park</th>\n",
       "      <td id=\"T_ed0f3_row2_col0\" class=\"data row2 col0\" >1,280</td>\n",
       "    </tr>\n",
       "    <tr>\n",
       "      <th id=\"T_ed0f3_level0_row3\" class=\"row_heading level0 row3\" >Bremerton</th>\n",
       "      <td id=\"T_ed0f3_row3_col0\" class=\"data row3 col0\" >3,276</td>\n",
       "    </tr>\n",
       "    <tr>\n",
       "      <th id=\"T_ed0f3_level0_row4\" class=\"row_heading level0 row4\" >Burien</th>\n",
       "      <td id=\"T_ed0f3_row4_col0\" class=\"data row4 col0\" >0</td>\n",
       "    </tr>\n",
       "    <tr>\n",
       "      <th id=\"T_ed0f3_level0_row5\" class=\"row_heading level0 row5\" >Everett</th>\n",
       "      <td id=\"T_ed0f3_row5_col0\" class=\"data row5 col0\" >6,667</td>\n",
       "    </tr>\n",
       "    <tr>\n",
       "      <th id=\"T_ed0f3_level0_row6\" class=\"row_heading level0 row6\" >Federal Way</th>\n",
       "      <td id=\"T_ed0f3_row6_col0\" class=\"data row6 col0\" >332</td>\n",
       "    </tr>\n",
       "    <tr>\n",
       "      <th id=\"T_ed0f3_level0_row7\" class=\"row_heading level0 row7\" >Greater Downtown Kirkland</th>\n",
       "      <td id=\"T_ed0f3_row7_col0\" class=\"data row7 col0\" >0</td>\n",
       "    </tr>\n",
       "    <tr>\n",
       "      <th id=\"T_ed0f3_level0_row8\" class=\"row_heading level0 row8\" >Issaquah</th>\n",
       "      <td id=\"T_ed0f3_row8_col0\" class=\"data row8 col0\" >774</td>\n",
       "    </tr>\n",
       "    <tr>\n",
       "      <th id=\"T_ed0f3_level0_row9\" class=\"row_heading level0 row9\" >Kent</th>\n",
       "      <td id=\"T_ed0f3_row9_col0\" class=\"data row9 col0\" >2,307</td>\n",
       "    </tr>\n",
       "    <tr>\n",
       "      <th id=\"T_ed0f3_level0_row10\" class=\"row_heading level0 row10\" >Kirkland Totem Lake</th>\n",
       "      <td id=\"T_ed0f3_row10_col0\" class=\"data row10 col0\" >1,411</td>\n",
       "    </tr>\n",
       "    <tr>\n",
       "      <th id=\"T_ed0f3_level0_row11\" class=\"row_heading level0 row11\" >Lakewood</th>\n",
       "      <td id=\"T_ed0f3_row11_col0\" class=\"data row11 col0\" >1,190</td>\n",
       "    </tr>\n",
       "    <tr>\n",
       "      <th id=\"T_ed0f3_level0_row12\" class=\"row_heading level0 row12\" >Lynnwood</th>\n",
       "      <td id=\"T_ed0f3_row12_col0\" class=\"data row12 col0\" >1,532</td>\n",
       "    </tr>\n",
       "    <tr>\n",
       "      <th id=\"T_ed0f3_level0_row13\" class=\"row_heading level0 row13\" >Not in RGC</th>\n",
       "      <td id=\"T_ed0f3_row13_col0\" class=\"data row13 col0\" >99,284</td>\n",
       "    </tr>\n",
       "    <tr>\n",
       "      <th id=\"T_ed0f3_level0_row14\" class=\"row_heading level0 row14\" >Puyallup Downtown</th>\n",
       "      <td id=\"T_ed0f3_row14_col0\" class=\"data row14 col0\" >3,460</td>\n",
       "    </tr>\n",
       "    <tr>\n",
       "      <th id=\"T_ed0f3_level0_row15\" class=\"row_heading level0 row15\" >Puyallup South Hill</th>\n",
       "      <td id=\"T_ed0f3_row15_col0\" class=\"data row15 col0\" >0</td>\n",
       "    </tr>\n",
       "    <tr>\n",
       "      <th id=\"T_ed0f3_level0_row16\" class=\"row_heading level0 row16\" >Redmond Downtown</th>\n",
       "      <td id=\"T_ed0f3_row16_col0\" class=\"data row16 col0\" >2,138</td>\n",
       "    </tr>\n",
       "    <tr>\n",
       "      <th id=\"T_ed0f3_level0_row17\" class=\"row_heading level0 row17\" >Redmond-Overlake</th>\n",
       "      <td id=\"T_ed0f3_row17_col0\" class=\"data row17 col0\" >606</td>\n",
       "    </tr>\n",
       "    <tr>\n",
       "      <th id=\"T_ed0f3_level0_row18\" class=\"row_heading level0 row18\" >Renton</th>\n",
       "      <td id=\"T_ed0f3_row18_col0\" class=\"data row18 col0\" >3,518</td>\n",
       "    </tr>\n",
       "    <tr>\n",
       "      <th id=\"T_ed0f3_level0_row19\" class=\"row_heading level0 row19\" >SeaTac</th>\n",
       "      <td id=\"T_ed0f3_row19_col0\" class=\"data row19 col0\" >3,649</td>\n",
       "    </tr>\n",
       "    <tr>\n",
       "      <th id=\"T_ed0f3_level0_row20\" class=\"row_heading level0 row20\" >Seattle Downtown</th>\n",
       "      <td id=\"T_ed0f3_row20_col0\" class=\"data row20 col0\" >5,261</td>\n",
       "    </tr>\n",
       "    <tr>\n",
       "      <th id=\"T_ed0f3_level0_row21\" class=\"row_heading level0 row21\" >Seattle First Hill/Capitol Hill</th>\n",
       "      <td id=\"T_ed0f3_row21_col0\" class=\"data row21 col0\" >15,398</td>\n",
       "    </tr>\n",
       "    <tr>\n",
       "      <th id=\"T_ed0f3_level0_row22\" class=\"row_heading level0 row22\" >Seattle Northgate</th>\n",
       "      <td id=\"T_ed0f3_row22_col0\" class=\"data row22 col0\" >1,633</td>\n",
       "    </tr>\n",
       "    <tr>\n",
       "      <th id=\"T_ed0f3_level0_row23\" class=\"row_heading level0 row23\" >Seattle South Lake Union</th>\n",
       "      <td id=\"T_ed0f3_row23_col0\" class=\"data row23 col0\" >1,654</td>\n",
       "    </tr>\n",
       "    <tr>\n",
       "      <th id=\"T_ed0f3_level0_row24\" class=\"row_heading level0 row24\" >Seattle University Community</th>\n",
       "      <td id=\"T_ed0f3_row24_col0\" class=\"data row24 col0\" >6,061</td>\n",
       "    </tr>\n",
       "    <tr>\n",
       "      <th id=\"T_ed0f3_level0_row25\" class=\"row_heading level0 row25\" >Seattle Uptown</th>\n",
       "      <td id=\"T_ed0f3_row25_col0\" class=\"data row25 col0\" >2,370</td>\n",
       "    </tr>\n",
       "    <tr>\n",
       "      <th id=\"T_ed0f3_level0_row26\" class=\"row_heading level0 row26\" >Silverdale</th>\n",
       "      <td id=\"T_ed0f3_row26_col0\" class=\"data row26 col0\" >0</td>\n",
       "    </tr>\n",
       "    <tr>\n",
       "      <th id=\"T_ed0f3_level0_row27\" class=\"row_heading level0 row27\" >Tacoma Downtown</th>\n",
       "      <td id=\"T_ed0f3_row27_col0\" class=\"data row27 col0\" >6,825</td>\n",
       "    </tr>\n",
       "    <tr>\n",
       "      <th id=\"T_ed0f3_level0_row28\" class=\"row_heading level0 row28\" >Tacoma Mall</th>\n",
       "      <td id=\"T_ed0f3_row28_col0\" class=\"data row28 col0\" >4,071</td>\n",
       "    </tr>\n",
       "    <tr>\n",
       "      <th id=\"T_ed0f3_level0_row29\" class=\"row_heading level0 row29\" >Tukwila</th>\n",
       "      <td id=\"T_ed0f3_row29_col0\" class=\"data row29 col0\" >1,317</td>\n",
       "    </tr>\n",
       "    <tr>\n",
       "      <th id=\"T_ed0f3_level0_row30\" class=\"row_heading level0 row30\" >University Place</th>\n",
       "      <td id=\"T_ed0f3_row30_col0\" class=\"data row30 col0\" >2,544</td>\n",
       "    </tr>\n",
       "  </tbody>\n",
       "</table>\n"
      ],
      "text/plain": [
       "<pandas.io.formats.style.Styler at 0x16a243640d0>"
      ]
     },
     "execution_count": 13,
     "metadata": {},
     "output_type": "execute_result"
    }
   ],
   "source": [
    "pd.pivot_table(df_parcels, index='GrowthCenterName', columns='source', values='parkhr_p', aggfunc='sum').style.format('{:,.0f}')"
   ]
  },
  {
   "cell_type": "raw",
   "metadata": {},
   "source": [
    ":::"
   ]
  },
  {
   "cell_type": "code",
   "execution_count": null,
   "metadata": {},
   "outputs": [],
   "source": []
  }
 ],
 "metadata": {
  "kernelspec": {
   "display_name": "summary",
   "language": "python",
   "name": "python3"
  },
  "language_info": {
   "codemirror_mode": {
    "name": "ipython",
    "version": 3
   },
   "file_extension": ".py",
   "mimetype": "text/x-python",
   "name": "python",
   "nbconvert_exporter": "python",
   "pygments_lexer": "ipython3",
   "version": "3.11.12"
  }
 },
 "nbformat": 4,
 "nbformat_minor": 2
}
