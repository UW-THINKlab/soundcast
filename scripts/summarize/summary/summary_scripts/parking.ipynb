{
 "cells": [
  {
   "cell_type": "raw",
   "metadata": {
    "vscode": {
     "languageId": "raw"
    }
   },
   "source": [
    "---\n",
    "title: \"Parking Cost\"\n",
    "date: today\n",
    "---"
   ]
  },
  {
   "cell_type": "code",
   "execution_count": 1,
   "metadata": {
    "execution": {
     "iopub.execute_input": "2025-06-18T21:52:48.202824Z",
     "iopub.status.busy": "2025-06-18T21:52:48.201826Z",
     "iopub.status.idle": "2025-06-18T21:52:48.843249Z",
     "shell.execute_reply": "2025-06-18T21:52:48.842729Z"
    }
   },
   "outputs": [],
   "source": [
    "#| include: false\n",
    "\n",
    "import os\n",
    "import pandas as pd\n",
    "import numpy as np\n",
    "import sqlite3\n",
    "# import plotly.express as px\n",
    "import toml\n",
    "# import psrc_theme\n",
    "from pathlib import Path\n",
    "import summary_data\n",
    "\n",
    "# to show plotly figures in quarto HTML file\n",
    "# import plotly.io as pio\n",
    "# pio.renderers.default = \"plotly_mimetype+notebook_connected\"\n",
    "# pio.templates.default = \"simple_white+psrc_color\" # set plotly template\n",
    "\n",
    "config = summary_data.CONFIG\n",
    "all_runs = summary_data.ALL_RUNS\n",
    "input_config = summary_data.INPUT_CONFIG"
   ]
  },
  {
   "cell_type": "code",
   "execution_count": 2,
   "metadata": {
    "execution": {
     "iopub.execute_input": "2025-06-18T21:52:48.849214Z",
     "iopub.status.busy": "2025-06-18T21:52:48.848595Z",
     "iopub.status.idle": "2025-06-18T21:52:54.134141Z",
     "shell.execute_reply": "2025-06-18T21:52:54.133081Z"
    }
   },
   "outputs": [],
   "source": [
    "# Join parcel lookup data to parcel files to do some county and district summaries\n",
    "# Load parcel geography lookup from soundcast db\n",
    "conn = sqlite3.connect(r'../../../../inputs/db/soundcast_inputs_2023.db')\n",
    "df_geog_lookup = pd.read_sql_query(\"SELECT ParcelID, CountyName, district_name, GrowthCenterName FROM parcel_2023_geography\", conn)\n",
    "\n",
    "# Land Use Summary\n",
    "df_parcels = summary_data.load_landuse('landuse/parcels_urbansim.txt')\n",
    "# Merge lookup data to parcels\n",
    "df_parcels = df_parcels.merge(df_geog_lookup, left_on='parcelid', right_on='ParcelID', how='left')\n",
    "\n",
    "# total parking cost\n",
    "df_parcels['total_parking_cost'] = df_parcels['pprichrp'] * df_parcels['parkhr_p']"
   ]
  },
  {
   "cell_type": "code",
   "execution_count": 3,
   "metadata": {
    "execution": {
     "iopub.execute_input": "2025-06-18T21:52:54.140130Z",
     "iopub.status.busy": "2025-06-18T21:52:54.140130Z",
     "iopub.status.idle": "2025-06-18T21:52:54.146423Z",
     "shell.execute_reply": "2025-06-18T21:52:54.145419Z"
    }
   },
   "outputs": [],
   "source": [
    "# input_config[\"model_year\"]"
   ]
  },
  {
   "cell_type": "code",
   "execution_count": 4,
   "metadata": {
    "execution": {
     "iopub.execute_input": "2025-06-18T21:52:54.151399Z",
     "iopub.status.busy": "2025-06-18T21:52:54.151399Z",
     "iopub.status.idle": "2025-06-18T21:52:54.789696Z",
     "shell.execute_reply": "2025-06-18T21:52:54.788698Z"
    }
   },
   "outputs": [],
   "source": [
    "df_parking_zones = pd.read_sql(\"SELECT * FROM parking_zones\", con=conn)\n",
    "df_parking_cost = pd.read_sql(\n",
    "    \"SELECT * FROM parking_costs WHERE year==\" + input_config[\"model_year\"], con=conn\n",
    ")\n",
    "df_parcels = pd.merge(\n",
    "    left=df_parcels, right=df_parking_zones, left_on=\"taz_p\", right_on=\"TAZ\", how=\"left\"\n",
    ")"
   ]
  },
  {
   "cell_type": "markdown",
   "metadata": {},
   "source": [
    "## Parking"
   ]
  },
  {
   "cell_type": "markdown",
   "metadata": {},
   "source": [
    "### Hourly Parking Cost\n",
    "\n",
    "- total hourly parking cost in parcel = `parkhr_p` * `pprichrp`"
   ]
  },
  {
   "cell_type": "raw",
   "metadata": {
    "vscode": {
     "languageId": "raw"
    }
   },
   "source": [
    ":::{.panel-tabset}\n",
    "\n",
    "#### Region total"
   ]
  },
  {
   "cell_type": "code",
   "execution_count": 5,
   "metadata": {
    "execution": {
     "iopub.execute_input": "2025-06-18T21:52:54.795681Z",
     "iopub.status.busy": "2025-06-18T21:52:54.794681Z",
     "iopub.status.idle": "2025-06-18T21:52:55.852914Z",
     "shell.execute_reply": "2025-06-18T21:52:55.851911Z"
    }
   },
   "outputs": [
    {
     "data": {
      "text/html": [
       "<style type=\"text/css\">\n",
       "</style>\n",
       "<table id=\"T_3efb7\">\n",
       "  <caption>Percent of parcels with paid parking</caption>\n",
       "  <thead>\n",
       "    <tr>\n",
       "      <th class=\"blank level0\" >&nbsp;</th>\n",
       "      <th id=\"T_3efb7_level0_col0\" class=\"col_heading level0 col0\" >proportion</th>\n",
       "    </tr>\n",
       "    <tr>\n",
       "      <th class=\"index_name level0\" >paid_parking</th>\n",
       "      <th class=\"blank col0\" >&nbsp;</th>\n",
       "    </tr>\n",
       "  </thead>\n",
       "  <tbody>\n",
       "    <tr>\n",
       "      <th id=\"T_3efb7_level0_row0\" class=\"row_heading level0 row0\" >0</th>\n",
       "      <td id=\"T_3efb7_row0_col0\" class=\"data row0 col0\" >97.26%</td>\n",
       "    </tr>\n",
       "    <tr>\n",
       "      <th id=\"T_3efb7_level0_row1\" class=\"row_heading level0 row1\" >1</th>\n",
       "      <td id=\"T_3efb7_row1_col0\" class=\"data row1 col0\" >2.74%</td>\n",
       "    </tr>\n",
       "  </tbody>\n",
       "</table>\n"
      ],
      "text/plain": [
       "<pandas.io.formats.style.Styler at 0x1b8f297fdd0>"
      ]
     },
     "execution_count": 5,
     "metadata": {},
     "output_type": "execute_result"
    }
   ],
   "source": [
    "# # Daily parking cost totals (ppricdyp)\n",
    "# pd.pivot_table(df_parcels, index='source', values='pprichrp', aggfunc='median').style.format('{:,.2f}')\n",
    "\n",
    "# What percent of parcels have paid parking?\n",
    "df_parcels['paid_parking'] = df_parcels['pprichrp'].apply(lambda x: 1 if x > 0 else 0)\n",
    "# df_parcels[df_parcels['paid_parking']==1]\n",
    "df_parcels['paid_parking'].value_counts(normalize=True).sort_index().to_frame().style.format('{:.2%}').set_caption('Percent of parcels with paid parking')"
   ]
  },
  {
   "cell_type": "raw",
   "metadata": {
    "vscode": {
     "languageId": "raw"
    }
   },
   "source": [
    "#### District"
   ]
  },
  {
   "cell_type": "code",
   "execution_count": 6,
   "metadata": {
    "execution": {
     "iopub.execute_input": "2025-06-18T21:52:55.889689Z",
     "iopub.status.busy": "2025-06-18T21:52:55.888690Z",
     "iopub.status.idle": "2025-06-18T21:52:56.367026Z",
     "shell.execute_reply": "2025-06-18T21:52:56.366024Z"
    }
   },
   "outputs": [
    {
     "data": {
      "text/html": [
       "<style type=\"text/css\">\n",
       "</style>\n",
       "<table id=\"T_80384\">\n",
       "  <caption>Paid parking by growth center</caption>\n",
       "  <thead>\n",
       "    <tr>\n",
       "      <th class=\"index_name level0\" >source</th>\n",
       "      <th id=\"T_80384_level0_col0\" class=\"col_heading level0 col0\" >current run</th>\n",
       "    </tr>\n",
       "    <tr>\n",
       "      <th class=\"index_name level0\" >district_name</th>\n",
       "      <th class=\"blank col0\" >&nbsp;</th>\n",
       "    </tr>\n",
       "  </thead>\n",
       "  <tbody>\n",
       "    <tr>\n",
       "      <th id=\"T_80384_level0_row0\" class=\"row_heading level0 row0\" >East Side</th>\n",
       "      <td id=\"T_80384_row0_col0\" class=\"data row0 col0\" >1.3%</td>\n",
       "    </tr>\n",
       "    <tr>\n",
       "      <th id=\"T_80384_level0_row1\" class=\"row_heading level0 row1\" >Everett-Lynwood-Edmonds</th>\n",
       "      <td id=\"T_80384_row1_col0\" class=\"data row1 col0\" >4.3%</td>\n",
       "    </tr>\n",
       "    <tr>\n",
       "      <th id=\"T_80384_level0_row2\" class=\"row_heading level0 row2\" >Kitsap</th>\n",
       "      <td id=\"T_80384_row2_col0\" class=\"data row2 col0\" >2.4%</td>\n",
       "    </tr>\n",
       "    <tr>\n",
       "      <th id=\"T_80384_level0_row3\" class=\"row_heading level0 row3\" >North Seattle-Shoreline</th>\n",
       "      <td id=\"T_80384_row3_col0\" class=\"data row3 col0\" >5.8%</td>\n",
       "    </tr>\n",
       "    <tr>\n",
       "      <th id=\"T_80384_level0_row4\" class=\"row_heading level0 row4\" >Renton-FedWay-Kent</th>\n",
       "      <td id=\"T_80384_row4_col0\" class=\"data row4 col0\" >2.9%</td>\n",
       "    </tr>\n",
       "    <tr>\n",
       "      <th id=\"T_80384_level0_row5\" class=\"row_heading level0 row5\" >S.Kitsap</th>\n",
       "      <td id=\"T_80384_row5_col0\" class=\"data row5 col0\" >0.0%</td>\n",
       "    </tr>\n",
       "    <tr>\n",
       "      <th id=\"T_80384_level0_row6\" class=\"row_heading level0 row6\" >Seattle CBD</th>\n",
       "      <td id=\"T_80384_row6_col0\" class=\"data row6 col0\" >16.5%</td>\n",
       "    </tr>\n",
       "    <tr>\n",
       "      <th id=\"T_80384_level0_row7\" class=\"row_heading level0 row7\" >South Pierce</th>\n",
       "      <td id=\"T_80384_row7_col0\" class=\"data row7 col0\" >3.0%</td>\n",
       "    </tr>\n",
       "    <tr>\n",
       "      <th id=\"T_80384_level0_row8\" class=\"row_heading level0 row8\" >Suburban Snohomish</th>\n",
       "      <td id=\"T_80384_row8_col0\" class=\"data row8 col0\" >0.8%</td>\n",
       "    </tr>\n",
       "    <tr>\n",
       "      <th id=\"T_80384_level0_row9\" class=\"row_heading level0 row9\" >Tacoma</th>\n",
       "      <td id=\"T_80384_row9_col0\" class=\"data row9 col0\" >2.9%</td>\n",
       "    </tr>\n",
       "    <tr>\n",
       "      <th id=\"T_80384_level0_row10\" class=\"row_heading level0 row10\" >West-South Seattle</th>\n",
       "      <td id=\"T_80384_row10_col0\" class=\"data row10 col0\" >0.1%</td>\n",
       "    </tr>\n",
       "  </tbody>\n",
       "</table>\n"
      ],
      "text/plain": [
       "<pandas.io.formats.style.Styler at 0x1b8883edc90>"
      ]
     },
     "execution_count": 6,
     "metadata": {},
     "output_type": "execute_result"
    }
   ],
   "source": [
    "# Parking costs by district\n",
    "df1 = pd.pivot_table(df_parcels, index='district_name', columns='source', values='paid_parking', aggfunc='sum')\n",
    "df2 = pd.pivot_table(df_parcels, index='district_name', columns='source', values='paid_parking', aggfunc='count')\n",
    "\n",
    "(df1 / df2).style.format('{:,.1%}').set_caption('Paid parking by growth center')"
   ]
  },
  {
   "cell_type": "raw",
   "metadata": {
    "vscode": {
     "languageId": "raw"
    }
   },
   "source": [
    "#### Parking Zone"
   ]
  },
  {
   "cell_type": "code",
   "execution_count": 7,
   "metadata": {
    "execution": {
     "iopub.execute_input": "2025-06-18T21:52:56.373013Z",
     "iopub.status.busy": "2025-06-18T21:52:56.372015Z",
     "iopub.status.idle": "2025-06-18T21:52:58.994243Z",
     "shell.execute_reply": "2025-06-18T21:52:58.993250Z"
    }
   },
   "outputs": [
    {
     "data": {
      "text/html": [
       "<style type=\"text/css\">\n",
       "</style>\n",
       "<table id=\"T_e914b\">\n",
       "  <caption>Paid parking by Parking Zone</caption>\n",
       "  <thead>\n",
       "    <tr>\n",
       "      <th class=\"index_name level0\" >source</th>\n",
       "      <th id=\"T_e914b_level0_col0\" class=\"col_heading level0 col0\" >current run</th>\n",
       "    </tr>\n",
       "    <tr>\n",
       "      <th class=\"index_name level0\" >ENS</th>\n",
       "      <th class=\"blank col0\" >&nbsp;</th>\n",
       "    </tr>\n",
       "  </thead>\n",
       "  <tbody>\n",
       "    <tr>\n",
       "      <th id=\"T_e914b_level0_row0\" class=\"row_heading level0 row0\" >00</th>\n",
       "      <td id=\"T_e914b_row0_col0\" class=\"data row0 col0\" >0.0%</td>\n",
       "    </tr>\n",
       "    <tr>\n",
       "      <th id=\"T_e914b_level0_row1\" class=\"row_heading level0 row1\" >01</th>\n",
       "      <td id=\"T_e914b_row1_col0\" class=\"data row1 col0\" >100.0%</td>\n",
       "    </tr>\n",
       "    <tr>\n",
       "      <th id=\"T_e914b_level0_row2\" class=\"row_heading level0 row2\" >02</th>\n",
       "      <td id=\"T_e914b_row2_col0\" class=\"data row2 col0\" >100.0%</td>\n",
       "    </tr>\n",
       "    <tr>\n",
       "      <th id=\"T_e914b_level0_row3\" class=\"row_heading level0 row3\" >03</th>\n",
       "      <td id=\"T_e914b_row3_col0\" class=\"data row3 col0\" >100.0%</td>\n",
       "    </tr>\n",
       "    <tr>\n",
       "      <th id=\"T_e914b_level0_row4\" class=\"row_heading level0 row4\" >04</th>\n",
       "      <td id=\"T_e914b_row4_col0\" class=\"data row4 col0\" >100.0%</td>\n",
       "    </tr>\n",
       "    <tr>\n",
       "      <th id=\"T_e914b_level0_row5\" class=\"row_heading level0 row5\" >05</th>\n",
       "      <td id=\"T_e914b_row5_col0\" class=\"data row5 col0\" >100.0%</td>\n",
       "    </tr>\n",
       "    <tr>\n",
       "      <th id=\"T_e914b_level0_row6\" class=\"row_heading level0 row6\" >06</th>\n",
       "      <td id=\"T_e914b_row6_col0\" class=\"data row6 col0\" >100.0%</td>\n",
       "    </tr>\n",
       "    <tr>\n",
       "      <th id=\"T_e914b_level0_row7\" class=\"row_heading level0 row7\" >07</th>\n",
       "      <td id=\"T_e914b_row7_col0\" class=\"data row7 col0\" >100.0%</td>\n",
       "    </tr>\n",
       "    <tr>\n",
       "      <th id=\"T_e914b_level0_row8\" class=\"row_heading level0 row8\" >08</th>\n",
       "      <td id=\"T_e914b_row8_col0\" class=\"data row8 col0\" >100.0%</td>\n",
       "    </tr>\n",
       "    <tr>\n",
       "      <th id=\"T_e914b_level0_row9\" class=\"row_heading level0 row9\" >09</th>\n",
       "      <td id=\"T_e914b_row9_col0\" class=\"data row9 col0\" >100.0%</td>\n",
       "    </tr>\n",
       "    <tr>\n",
       "      <th id=\"T_e914b_level0_row10\" class=\"row_heading level0 row10\" >10</th>\n",
       "      <td id=\"T_e914b_row10_col0\" class=\"data row10 col0\" >100.0%</td>\n",
       "    </tr>\n",
       "    <tr>\n",
       "      <th id=\"T_e914b_level0_row11\" class=\"row_heading level0 row11\" >11</th>\n",
       "      <td id=\"T_e914b_row11_col0\" class=\"data row11 col0\" >100.0%</td>\n",
       "    </tr>\n",
       "    <tr>\n",
       "      <th id=\"T_e914b_level0_row12\" class=\"row_heading level0 row12\" >15</th>\n",
       "      <td id=\"T_e914b_row12_col0\" class=\"data row12 col0\" >0.0%</td>\n",
       "    </tr>\n",
       "    <tr>\n",
       "      <th id=\"T_e914b_level0_row13\" class=\"row_heading level0 row13\" >16</th>\n",
       "      <td id=\"T_e914b_row13_col0\" class=\"data row13 col0\" >100.0%</td>\n",
       "    </tr>\n",
       "    <tr>\n",
       "      <th id=\"T_e914b_level0_row14\" class=\"row_heading level0 row14\" >17</th>\n",
       "      <td id=\"T_e914b_row14_col0\" class=\"data row14 col0\" >100.0%</td>\n",
       "    </tr>\n",
       "    <tr>\n",
       "      <th id=\"T_e914b_level0_row15\" class=\"row_heading level0 row15\" >18</th>\n",
       "      <td id=\"T_e914b_row15_col0\" class=\"data row15 col0\" >100.0%</td>\n",
       "    </tr>\n",
       "    <tr>\n",
       "      <th id=\"T_e914b_level0_row16\" class=\"row_heading level0 row16\" >19</th>\n",
       "      <td id=\"T_e914b_row16_col0\" class=\"data row16 col0\" >100.0%</td>\n",
       "    </tr>\n",
       "    <tr>\n",
       "      <th id=\"T_e914b_level0_row17\" class=\"row_heading level0 row17\" >20</th>\n",
       "      <td id=\"T_e914b_row17_col0\" class=\"data row17 col0\" >100.0%</td>\n",
       "    </tr>\n",
       "    <tr>\n",
       "      <th id=\"T_e914b_level0_row18\" class=\"row_heading level0 row18\" >21</th>\n",
       "      <td id=\"T_e914b_row18_col0\" class=\"data row18 col0\" >100.0%</td>\n",
       "    </tr>\n",
       "    <tr>\n",
       "      <th id=\"T_e914b_level0_row19\" class=\"row_heading level0 row19\" >22</th>\n",
       "      <td id=\"T_e914b_row19_col0\" class=\"data row19 col0\" >100.0%</td>\n",
       "    </tr>\n",
       "    <tr>\n",
       "      <th id=\"T_e914b_level0_row20\" class=\"row_heading level0 row20\" >24</th>\n",
       "      <td id=\"T_e914b_row20_col0\" class=\"data row20 col0\" >100.0%</td>\n",
       "    </tr>\n",
       "    <tr>\n",
       "      <th id=\"T_e914b_level0_row21\" class=\"row_heading level0 row21\" >26</th>\n",
       "      <td id=\"T_e914b_row21_col0\" class=\"data row21 col0\" >100.0%</td>\n",
       "    </tr>\n",
       "    <tr>\n",
       "      <th id=\"T_e914b_level0_row22\" class=\"row_heading level0 row22\" >27</th>\n",
       "      <td id=\"T_e914b_row22_col0\" class=\"data row22 col0\" >100.0%</td>\n",
       "    </tr>\n",
       "    <tr>\n",
       "      <th id=\"T_e914b_level0_row23\" class=\"row_heading level0 row23\" >28</th>\n",
       "      <td id=\"T_e914b_row23_col0\" class=\"data row23 col0\" >100.0%</td>\n",
       "    </tr>\n",
       "    <tr>\n",
       "      <th id=\"T_e914b_level0_row24\" class=\"row_heading level0 row24\" >29</th>\n",
       "      <td id=\"T_e914b_row24_col0\" class=\"data row24 col0\" >100.0%</td>\n",
       "    </tr>\n",
       "    <tr>\n",
       "      <th id=\"T_e914b_level0_row25\" class=\"row_heading level0 row25\" >30</th>\n",
       "      <td id=\"T_e914b_row25_col0\" class=\"data row25 col0\" >100.0%</td>\n",
       "    </tr>\n",
       "    <tr>\n",
       "      <th id=\"T_e914b_level0_row26\" class=\"row_heading level0 row26\" >31</th>\n",
       "      <td id=\"T_e914b_row26_col0\" class=\"data row26 col0\" >100.0%</td>\n",
       "    </tr>\n",
       "    <tr>\n",
       "      <th id=\"T_e914b_level0_row27\" class=\"row_heading level0 row27\" >32</th>\n",
       "      <td id=\"T_e914b_row27_col0\" class=\"data row27 col0\" >0.0%</td>\n",
       "    </tr>\n",
       "    <tr>\n",
       "      <th id=\"T_e914b_level0_row28\" class=\"row_heading level0 row28\" >33</th>\n",
       "      <td id=\"T_e914b_row28_col0\" class=\"data row28 col0\" >100.0%</td>\n",
       "    </tr>\n",
       "    <tr>\n",
       "      <th id=\"T_e914b_level0_row29\" class=\"row_heading level0 row29\" >34</th>\n",
       "      <td id=\"T_e914b_row29_col0\" class=\"data row29 col0\" >100.0%</td>\n",
       "    </tr>\n",
       "    <tr>\n",
       "      <th id=\"T_e914b_level0_row30\" class=\"row_heading level0 row30\" >35</th>\n",
       "      <td id=\"T_e914b_row30_col0\" class=\"data row30 col0\" >100.0%</td>\n",
       "    </tr>\n",
       "    <tr>\n",
       "      <th id=\"T_e914b_level0_row31\" class=\"row_heading level0 row31\" >36</th>\n",
       "      <td id=\"T_e914b_row31_col0\" class=\"data row31 col0\" >0.0%</td>\n",
       "    </tr>\n",
       "    <tr>\n",
       "      <th id=\"T_e914b_level0_row32\" class=\"row_heading level0 row32\" >37</th>\n",
       "      <td id=\"T_e914b_row32_col0\" class=\"data row32 col0\" >100.0%</td>\n",
       "    </tr>\n",
       "    <tr>\n",
       "      <th id=\"T_e914b_level0_row33\" class=\"row_heading level0 row33\" >39</th>\n",
       "      <td id=\"T_e914b_row33_col0\" class=\"data row33 col0\" >100.0%</td>\n",
       "    </tr>\n",
       "    <tr>\n",
       "      <th id=\"T_e914b_level0_row34\" class=\"row_heading level0 row34\" >40</th>\n",
       "      <td id=\"T_e914b_row34_col0\" class=\"data row34 col0\" >0.0%</td>\n",
       "    </tr>\n",
       "    <tr>\n",
       "      <th id=\"T_e914b_level0_row35\" class=\"row_heading level0 row35\" >42</th>\n",
       "      <td id=\"T_e914b_row35_col0\" class=\"data row35 col0\" >100.0%</td>\n",
       "    </tr>\n",
       "    <tr>\n",
       "      <th id=\"T_e914b_level0_row36\" class=\"row_heading level0 row36\" >43</th>\n",
       "      <td id=\"T_e914b_row36_col0\" class=\"data row36 col0\" >100.0%</td>\n",
       "    </tr>\n",
       "    <tr>\n",
       "      <th id=\"T_e914b_level0_row37\" class=\"row_heading level0 row37\" >44</th>\n",
       "      <td id=\"T_e914b_row37_col0\" class=\"data row37 col0\" >100.0%</td>\n",
       "    </tr>\n",
       "  </tbody>\n",
       "</table>\n"
      ],
      "text/plain": [
       "<pandas.io.formats.style.Styler at 0x1b88db7f610>"
      ]
     },
     "execution_count": 7,
     "metadata": {},
     "output_type": "execute_result"
    }
   ],
   "source": [
    "\n",
    "# Sort ENS by the numeric value of the ENS column\n",
    "df_parcels['ENS'] = df_parcels['ENS'].astype(str).str.extract('(\\d+)').astype(int)\n",
    "df_parcels['ENS'] = df_parcels['ENS'].astype(str).str.zfill(2)  \n",
    "\n",
    "(pd.pivot_table(df_parcels, index='ENS', columns='source', values='paid_parking', aggfunc='sum')/\\\n",
    "    pd.pivot_table(df_parcels, index='ENS', columns='source', values='paid_parking', aggfunc='count')).style.format('{:,.1%}').set_caption('Paid parking by Parking Zone')\\\n",
    "    "
   ]
  },
  {
   "cell_type": "code",
   "execution_count": 8,
   "metadata": {
    "execution": {
     "iopub.execute_input": "2025-06-18T21:52:59.000227Z",
     "iopub.status.busy": "2025-06-18T21:52:58.999230Z",
     "iopub.status.idle": "2025-06-18T21:52:59.438225Z",
     "shell.execute_reply": "2025-06-18T21:52:59.437235Z"
    }
   },
   "outputs": [
    {
     "data": {
      "text/html": [
       "<style type=\"text/css\">\n",
       "</style>\n",
       "<table id=\"T_9afad\">\n",
       "  <caption>Paid parking by growth center</caption>\n",
       "  <thead>\n",
       "    <tr>\n",
       "      <th class=\"index_name level0\" >source</th>\n",
       "      <th id=\"T_9afad_level0_col0\" class=\"col_heading level0 col0\" >current run</th>\n",
       "    </tr>\n",
       "    <tr>\n",
       "      <th class=\"index_name level0\" >district_name</th>\n",
       "      <th class=\"blank col0\" >&nbsp;</th>\n",
       "    </tr>\n",
       "  </thead>\n",
       "  <tbody>\n",
       "    <tr>\n",
       "      <th id=\"T_9afad_level0_row0\" class=\"row_heading level0 row0\" >East Side</th>\n",
       "      <td id=\"T_9afad_row0_col0\" class=\"data row0 col0\" >1.3%</td>\n",
       "    </tr>\n",
       "    <tr>\n",
       "      <th id=\"T_9afad_level0_row1\" class=\"row_heading level0 row1\" >Everett-Lynwood-Edmonds</th>\n",
       "      <td id=\"T_9afad_row1_col0\" class=\"data row1 col0\" >4.3%</td>\n",
       "    </tr>\n",
       "    <tr>\n",
       "      <th id=\"T_9afad_level0_row2\" class=\"row_heading level0 row2\" >Kitsap</th>\n",
       "      <td id=\"T_9afad_row2_col0\" class=\"data row2 col0\" >2.4%</td>\n",
       "    </tr>\n",
       "    <tr>\n",
       "      <th id=\"T_9afad_level0_row3\" class=\"row_heading level0 row3\" >North Seattle-Shoreline</th>\n",
       "      <td id=\"T_9afad_row3_col0\" class=\"data row3 col0\" >5.8%</td>\n",
       "    </tr>\n",
       "    <tr>\n",
       "      <th id=\"T_9afad_level0_row4\" class=\"row_heading level0 row4\" >Renton-FedWay-Kent</th>\n",
       "      <td id=\"T_9afad_row4_col0\" class=\"data row4 col0\" >2.9%</td>\n",
       "    </tr>\n",
       "    <tr>\n",
       "      <th id=\"T_9afad_level0_row5\" class=\"row_heading level0 row5\" >S.Kitsap</th>\n",
       "      <td id=\"T_9afad_row5_col0\" class=\"data row5 col0\" >0.0%</td>\n",
       "    </tr>\n",
       "    <tr>\n",
       "      <th id=\"T_9afad_level0_row6\" class=\"row_heading level0 row6\" >Seattle CBD</th>\n",
       "      <td id=\"T_9afad_row6_col0\" class=\"data row6 col0\" >16.5%</td>\n",
       "    </tr>\n",
       "    <tr>\n",
       "      <th id=\"T_9afad_level0_row7\" class=\"row_heading level0 row7\" >South Pierce</th>\n",
       "      <td id=\"T_9afad_row7_col0\" class=\"data row7 col0\" >3.0%</td>\n",
       "    </tr>\n",
       "    <tr>\n",
       "      <th id=\"T_9afad_level0_row8\" class=\"row_heading level0 row8\" >Suburban Snohomish</th>\n",
       "      <td id=\"T_9afad_row8_col0\" class=\"data row8 col0\" >0.8%</td>\n",
       "    </tr>\n",
       "    <tr>\n",
       "      <th id=\"T_9afad_level0_row9\" class=\"row_heading level0 row9\" >Tacoma</th>\n",
       "      <td id=\"T_9afad_row9_col0\" class=\"data row9 col0\" >2.9%</td>\n",
       "    </tr>\n",
       "    <tr>\n",
       "      <th id=\"T_9afad_level0_row10\" class=\"row_heading level0 row10\" >West-South Seattle</th>\n",
       "      <td id=\"T_9afad_row10_col0\" class=\"data row10 col0\" >0.1%</td>\n",
       "    </tr>\n",
       "  </tbody>\n",
       "</table>\n"
      ],
      "text/plain": [
       "<pandas.io.formats.style.Styler at 0x1b8ad8a66d0>"
      ]
     },
     "execution_count": 8,
     "metadata": {},
     "output_type": "execute_result"
    }
   ],
   "source": [
    "df1 = pd.pivot_table(df_parcels, index='district_name', columns='source', values='paid_parking', aggfunc='sum')\n",
    "df2 = pd.pivot_table(df_parcels, index='district_name', columns='source', values='paid_parking', aggfunc='count')\n",
    "\n",
    "(df1 / df2).style.format('{:,.1%}').set_caption('Paid parking by growth center')"
   ]
  },
  {
   "cell_type": "raw",
   "metadata": {},
   "source": [
    "#### RGC"
   ]
  },
  {
   "cell_type": "code",
   "execution_count": 9,
   "metadata": {
    "execution": {
     "iopub.execute_input": "2025-06-18T21:52:59.444210Z",
     "iopub.status.busy": "2025-06-18T21:52:59.443213Z",
     "iopub.status.idle": "2025-06-18T21:52:59.936420Z",
     "shell.execute_reply": "2025-06-18T21:52:59.935431Z"
    }
   },
   "outputs": [
    {
     "data": {
      "text/html": [
       "<style type=\"text/css\">\n",
       "</style>\n",
       "<table id=\"T_4ce61\">\n",
       "  <caption>Paid parking by growth center</caption>\n",
       "  <thead>\n",
       "    <tr>\n",
       "      <th class=\"index_name level0\" >source</th>\n",
       "      <th id=\"T_4ce61_level0_col0\" class=\"col_heading level0 col0\" >current run</th>\n",
       "    </tr>\n",
       "    <tr>\n",
       "      <th class=\"index_name level0\" >GrowthCenterName</th>\n",
       "      <th class=\"blank col0\" >&nbsp;</th>\n",
       "    </tr>\n",
       "  </thead>\n",
       "  <tbody>\n",
       "    <tr>\n",
       "      <th id=\"T_4ce61_level0_row0\" class=\"row_heading level0 row0\" >Auburn</th>\n",
       "      <td id=\"T_4ce61_row0_col0\" class=\"data row0 col0\" >100.0%</td>\n",
       "    </tr>\n",
       "    <tr>\n",
       "      <th id=\"T_4ce61_level0_row1\" class=\"row_heading level0 row1\" >Bellevue</th>\n",
       "      <td id=\"T_4ce61_row1_col0\" class=\"data row1 col0\" >93.9%</td>\n",
       "    </tr>\n",
       "    <tr>\n",
       "      <th id=\"T_4ce61_level0_row2\" class=\"row_heading level0 row2\" >Bothell Canyon Park</th>\n",
       "      <td id=\"T_4ce61_row2_col0\" class=\"data row2 col0\" >93.8%</td>\n",
       "    </tr>\n",
       "    <tr>\n",
       "      <th id=\"T_4ce61_level0_row3\" class=\"row_heading level0 row3\" >Bremerton</th>\n",
       "      <td id=\"T_4ce61_row3_col0\" class=\"data row3 col0\" >97.8%</td>\n",
       "    </tr>\n",
       "    <tr>\n",
       "      <th id=\"T_4ce61_level0_row4\" class=\"row_heading level0 row4\" >Burien</th>\n",
       "      <td id=\"T_4ce61_row4_col0\" class=\"data row4 col0\" >0.0%</td>\n",
       "    </tr>\n",
       "    <tr>\n",
       "      <th id=\"T_4ce61_level0_row5\" class=\"row_heading level0 row5\" >Everett</th>\n",
       "      <td id=\"T_4ce61_row5_col0\" class=\"data row5 col0\" >95.6%</td>\n",
       "    </tr>\n",
       "    <tr>\n",
       "      <th id=\"T_4ce61_level0_row6\" class=\"row_heading level0 row6\" >Federal Way</th>\n",
       "      <td id=\"T_4ce61_row6_col0\" class=\"data row6 col0\" >96.9%</td>\n",
       "    </tr>\n",
       "    <tr>\n",
       "      <th id=\"T_4ce61_level0_row7\" class=\"row_heading level0 row7\" >Greater Downtown Kirkland</th>\n",
       "      <td id=\"T_4ce61_row7_col0\" class=\"data row7 col0\" >0.0%</td>\n",
       "    </tr>\n",
       "    <tr>\n",
       "      <th id=\"T_4ce61_level0_row8\" class=\"row_heading level0 row8\" >Issaquah</th>\n",
       "      <td id=\"T_4ce61_row8_col0\" class=\"data row8 col0\" >100.0%</td>\n",
       "    </tr>\n",
       "    <tr>\n",
       "      <th id=\"T_4ce61_level0_row9\" class=\"row_heading level0 row9\" >Kent</th>\n",
       "      <td id=\"T_4ce61_row9_col0\" class=\"data row9 col0\" >100.0%</td>\n",
       "    </tr>\n",
       "    <tr>\n",
       "      <th id=\"T_4ce61_level0_row10\" class=\"row_heading level0 row10\" >Kirkland Totem Lake</th>\n",
       "      <td id=\"T_4ce61_row10_col0\" class=\"data row10 col0\" >92.7%</td>\n",
       "    </tr>\n",
       "    <tr>\n",
       "      <th id=\"T_4ce61_level0_row11\" class=\"row_heading level0 row11\" >Lakewood</th>\n",
       "      <td id=\"T_4ce61_row11_col0\" class=\"data row11 col0\" >78.5%</td>\n",
       "    </tr>\n",
       "    <tr>\n",
       "      <th id=\"T_4ce61_level0_row12\" class=\"row_heading level0 row12\" >Lynnwood</th>\n",
       "      <td id=\"T_4ce61_row12_col0\" class=\"data row12 col0\" >91.5%</td>\n",
       "    </tr>\n",
       "    <tr>\n",
       "      <th id=\"T_4ce61_level0_row13\" class=\"row_heading level0 row13\" >Not in RGC</th>\n",
       "      <td id=\"T_4ce61_row13_col0\" class=\"data row13 col0\" >1.5%</td>\n",
       "    </tr>\n",
       "    <tr>\n",
       "      <th id=\"T_4ce61_level0_row14\" class=\"row_heading level0 row14\" >Puyallup Downtown</th>\n",
       "      <td id=\"T_4ce61_row14_col0\" class=\"data row14 col0\" >97.8%</td>\n",
       "    </tr>\n",
       "    <tr>\n",
       "      <th id=\"T_4ce61_level0_row15\" class=\"row_heading level0 row15\" >Puyallup South Hill</th>\n",
       "      <td id=\"T_4ce61_row15_col0\" class=\"data row15 col0\" >0.0%</td>\n",
       "    </tr>\n",
       "    <tr>\n",
       "      <th id=\"T_4ce61_level0_row16\" class=\"row_heading level0 row16\" >Redmond Downtown</th>\n",
       "      <td id=\"T_4ce61_row16_col0\" class=\"data row16 col0\" >98.5%</td>\n",
       "    </tr>\n",
       "    <tr>\n",
       "      <th id=\"T_4ce61_level0_row17\" class=\"row_heading level0 row17\" >Redmond-Overlake</th>\n",
       "      <td id=\"T_4ce61_row17_col0\" class=\"data row17 col0\" >99.1%</td>\n",
       "    </tr>\n",
       "    <tr>\n",
       "      <th id=\"T_4ce61_level0_row18\" class=\"row_heading level0 row18\" >Renton</th>\n",
       "      <td id=\"T_4ce61_row18_col0\" class=\"data row18 col0\" >99.7%</td>\n",
       "    </tr>\n",
       "    <tr>\n",
       "      <th id=\"T_4ce61_level0_row19\" class=\"row_heading level0 row19\" >SeaTac</th>\n",
       "      <td id=\"T_4ce61_row19_col0\" class=\"data row19 col0\" >94.2%</td>\n",
       "    </tr>\n",
       "    <tr>\n",
       "      <th id=\"T_4ce61_level0_row20\" class=\"row_heading level0 row20\" >Seattle Downtown</th>\n",
       "      <td id=\"T_4ce61_row20_col0\" class=\"data row20 col0\" >100.0%</td>\n",
       "    </tr>\n",
       "    <tr>\n",
       "      <th id=\"T_4ce61_level0_row21\" class=\"row_heading level0 row21\" >Seattle First Hill/Capitol Hill</th>\n",
       "      <td id=\"T_4ce61_row21_col0\" class=\"data row21 col0\" >98.0%</td>\n",
       "    </tr>\n",
       "    <tr>\n",
       "      <th id=\"T_4ce61_level0_row22\" class=\"row_heading level0 row22\" >Seattle Northgate</th>\n",
       "      <td id=\"T_4ce61_row22_col0\" class=\"data row22 col0\" >75.6%</td>\n",
       "    </tr>\n",
       "    <tr>\n",
       "      <th id=\"T_4ce61_level0_row23\" class=\"row_heading level0 row23\" >Seattle South Lake Union</th>\n",
       "      <td id=\"T_4ce61_row23_col0\" class=\"data row23 col0\" >100.0%</td>\n",
       "    </tr>\n",
       "    <tr>\n",
       "      <th id=\"T_4ce61_level0_row24\" class=\"row_heading level0 row24\" >Seattle University Community</th>\n",
       "      <td id=\"T_4ce61_row24_col0\" class=\"data row24 col0\" >94.7%</td>\n",
       "    </tr>\n",
       "    <tr>\n",
       "      <th id=\"T_4ce61_level0_row25\" class=\"row_heading level0 row25\" >Seattle Uptown</th>\n",
       "      <td id=\"T_4ce61_row25_col0\" class=\"data row25 col0\" >91.9%</td>\n",
       "    </tr>\n",
       "    <tr>\n",
       "      <th id=\"T_4ce61_level0_row26\" class=\"row_heading level0 row26\" >Silverdale</th>\n",
       "      <td id=\"T_4ce61_row26_col0\" class=\"data row26 col0\" >0.0%</td>\n",
       "    </tr>\n",
       "    <tr>\n",
       "      <th id=\"T_4ce61_level0_row27\" class=\"row_heading level0 row27\" >Tacoma Downtown</th>\n",
       "      <td id=\"T_4ce61_row27_col0\" class=\"data row27 col0\" >57.5%</td>\n",
       "    </tr>\n",
       "    <tr>\n",
       "      <th id=\"T_4ce61_level0_row28\" class=\"row_heading level0 row28\" >Tacoma Mall</th>\n",
       "      <td id=\"T_4ce61_row28_col0\" class=\"data row28 col0\" >90.8%</td>\n",
       "    </tr>\n",
       "    <tr>\n",
       "      <th id=\"T_4ce61_level0_row29\" class=\"row_heading level0 row29\" >Tukwila</th>\n",
       "      <td id=\"T_4ce61_row29_col0\" class=\"data row29 col0\" >96.2%</td>\n",
       "    </tr>\n",
       "    <tr>\n",
       "      <th id=\"T_4ce61_level0_row30\" class=\"row_heading level0 row30\" >University Place</th>\n",
       "      <td id=\"T_4ce61_row30_col0\" class=\"data row30 col0\" >98.4%</td>\n",
       "    </tr>\n",
       "  </tbody>\n",
       "</table>\n"
      ],
      "text/plain": [
       "<pandas.io.formats.style.Styler at 0x1b8ad8a6a10>"
      ]
     },
     "execution_count": 9,
     "metadata": {},
     "output_type": "execute_result"
    }
   ],
   "source": [
    "df1 = pd.pivot_table(df_parcels, index='GrowthCenterName', columns='source', values='paid_parking', aggfunc='sum')\n",
    "df2 = pd.pivot_table(df_parcels, index='GrowthCenterName', columns='source', values='paid_parking', aggfunc='count')\n",
    "\n",
    "(df1 / df2).style.format('{:,.1%}').set_caption('Paid parking by growth center')"
   ]
  },
  {
   "cell_type": "raw",
   "metadata": {
    "vscode": {
     "languageId": "raw"
    }
   },
   "source": [
    ":::"
   ]
  },
  {
   "cell_type": "markdown",
   "metadata": {},
   "source": [
    "### Parking Supply\n",
    "\n",
    "- The number of paid public off-street parking spaces with per-hour pricing"
   ]
  },
  {
   "cell_type": "raw",
   "metadata": {},
   "source": [
    ":::{.panel-tabset}\n",
    "\n",
    "#### Region total"
   ]
  },
  {
   "cell_type": "code",
   "execution_count": 10,
   "metadata": {
    "execution": {
     "iopub.execute_input": "2025-06-18T21:52:59.942405Z",
     "iopub.status.busy": "2025-06-18T21:52:59.941410Z",
     "iopub.status.idle": "2025-06-18T21:53:00.034818Z",
     "shell.execute_reply": "2025-06-18T21:53:00.033842Z"
    }
   },
   "outputs": [
    {
     "data": {
      "text/html": [
       "<style type=\"text/css\">\n",
       "</style>\n",
       "<table id=\"T_2a6ec\">\n",
       "  <thead>\n",
       "    <tr>\n",
       "      <th class=\"blank level0\" >&nbsp;</th>\n",
       "      <th id=\"T_2a6ec_level0_col0\" class=\"col_heading level0 col0\" >parkhr_p</th>\n",
       "    </tr>\n",
       "    <tr>\n",
       "      <th class=\"index_name level0\" >source</th>\n",
       "      <th class=\"blank col0\" >&nbsp;</th>\n",
       "    </tr>\n",
       "  </thead>\n",
       "  <tbody>\n",
       "    <tr>\n",
       "      <th id=\"T_2a6ec_level0_row0\" class=\"row_heading level0 row0\" >current run</th>\n",
       "      <td id=\"T_2a6ec_row0_col0\" class=\"data row0 col0\" >182,258</td>\n",
       "    </tr>\n",
       "  </tbody>\n",
       "</table>\n"
      ],
      "text/plain": [
       "<pandas.io.formats.style.Styler at 0x1b8ad8a3f90>"
      ]
     },
     "execution_count": 10,
     "metadata": {},
     "output_type": "execute_result"
    }
   ],
   "source": [
    "# Daily parking cost totals (ppricdyp)\n",
    "pd.pivot_table(df_parcels, index='source', values='parkhr_p', aggfunc='sum').style.format('{:,.0f}')"
   ]
  },
  {
   "cell_type": "raw",
   "metadata": {},
   "source": [
    "#### District"
   ]
  },
  {
   "cell_type": "code",
   "execution_count": 11,
   "metadata": {
    "execution": {
     "iopub.execute_input": "2025-06-18T21:53:00.040802Z",
     "iopub.status.busy": "2025-06-18T21:53:00.039805Z",
     "iopub.status.idle": "2025-06-18T21:53:00.280469Z",
     "shell.execute_reply": "2025-06-18T21:53:00.279473Z"
    }
   },
   "outputs": [
    {
     "data": {
      "text/html": [
       "<style type=\"text/css\">\n",
       "</style>\n",
       "<table id=\"T_f519b\">\n",
       "  <thead>\n",
       "    <tr>\n",
       "      <th class=\"index_name level0\" >source</th>\n",
       "      <th id=\"T_f519b_level0_col0\" class=\"col_heading level0 col0\" >current run</th>\n",
       "    </tr>\n",
       "    <tr>\n",
       "      <th class=\"index_name level0\" >district_name</th>\n",
       "      <th class=\"blank col0\" >&nbsp;</th>\n",
       "    </tr>\n",
       "  </thead>\n",
       "  <tbody>\n",
       "    <tr>\n",
       "      <th id=\"T_f519b_level0_row0\" class=\"row_heading level0 row0\" >East Side</th>\n",
       "      <td id=\"T_f519b_row0_col0\" class=\"data row0 col0\" >13,892</td>\n",
       "    </tr>\n",
       "    <tr>\n",
       "      <th id=\"T_f519b_level0_row1\" class=\"row_heading level0 row1\" >Everett-Lynwood-Edmonds</th>\n",
       "      <td id=\"T_f519b_row1_col0\" class=\"data row1 col0\" >16,415</td>\n",
       "    </tr>\n",
       "    <tr>\n",
       "      <th id=\"T_f519b_level0_row2\" class=\"row_heading level0 row2\" >Kitsap</th>\n",
       "      <td id=\"T_f519b_row2_col0\" class=\"data row2 col0\" >13,197</td>\n",
       "    </tr>\n",
       "    <tr>\n",
       "      <th id=\"T_f519b_level0_row3\" class=\"row_heading level0 row3\" >North Seattle-Shoreline</th>\n",
       "      <td id=\"T_f519b_row3_col0\" class=\"data row3 col0\" >31,018</td>\n",
       "    </tr>\n",
       "    <tr>\n",
       "      <th id=\"T_f519b_level0_row4\" class=\"row_heading level0 row4\" >Renton-FedWay-Kent</th>\n",
       "      <td id=\"T_f519b_row4_col0\" class=\"data row4 col0\" >27,174</td>\n",
       "    </tr>\n",
       "    <tr>\n",
       "      <th id=\"T_f519b_level0_row5\" class=\"row_heading level0 row5\" >S.Kitsap</th>\n",
       "      <td id=\"T_f519b_row5_col0\" class=\"data row5 col0\" >0</td>\n",
       "    </tr>\n",
       "    <tr>\n",
       "      <th id=\"T_f519b_level0_row6\" class=\"row_heading level0 row6\" >Seattle CBD</th>\n",
       "      <td id=\"T_f519b_row6_col0\" class=\"data row6 col0\" >31,408</td>\n",
       "    </tr>\n",
       "    <tr>\n",
       "      <th id=\"T_f519b_level0_row7\" class=\"row_heading level0 row7\" >South Pierce</th>\n",
       "      <td id=\"T_f519b_row7_col0\" class=\"data row7 col0\" >29,301</td>\n",
       "    </tr>\n",
       "    <tr>\n",
       "      <th id=\"T_f519b_level0_row8\" class=\"row_heading level0 row8\" >Suburban Snohomish</th>\n",
       "      <td id=\"T_f519b_row8_col0\" class=\"data row8 col0\" >8,342</td>\n",
       "    </tr>\n",
       "    <tr>\n",
       "      <th id=\"T_f519b_level0_row9\" class=\"row_heading level0 row9\" >Tacoma</th>\n",
       "      <td id=\"T_f519b_row9_col0\" class=\"data row9 col0\" >11,170</td>\n",
       "    </tr>\n",
       "    <tr>\n",
       "      <th id=\"T_f519b_level0_row10\" class=\"row_heading level0 row10\" >West-South Seattle</th>\n",
       "      <td id=\"T_f519b_row10_col0\" class=\"data row10 col0\" >342</td>\n",
       "    </tr>\n",
       "  </tbody>\n",
       "</table>\n"
      ],
      "text/plain": [
       "<pandas.io.formats.style.Styler at 0x1b8ad8a3490>"
      ]
     },
     "execution_count": 11,
     "metadata": {},
     "output_type": "execute_result"
    }
   ],
   "source": [
    "# Parking costs by district\n",
    "pd.pivot_table(df_parcels, index='district_name', columns='source', values='parkhr_p', aggfunc='sum').style.format('{:,.0f}')"
   ]
  },
  {
   "cell_type": "raw",
   "metadata": {
    "vscode": {
     "languageId": "raw"
    }
   },
   "source": [
    "#### Parking Zone"
   ]
  },
  {
   "cell_type": "code",
   "execution_count": 12,
   "metadata": {
    "execution": {
     "iopub.execute_input": "2025-06-18T21:53:00.285458Z",
     "iopub.status.busy": "2025-06-18T21:53:00.285458Z",
     "iopub.status.idle": "2025-06-18T21:53:00.487496Z",
     "shell.execute_reply": "2025-06-18T21:53:00.486493Z"
    }
   },
   "outputs": [
    {
     "data": {
      "text/html": [
       "<style type=\"text/css\">\n",
       "</style>\n",
       "<table id=\"T_b1f50\">\n",
       "  <thead>\n",
       "    <tr>\n",
       "      <th class=\"index_name level0\" >source</th>\n",
       "      <th id=\"T_b1f50_level0_col0\" class=\"col_heading level0 col0\" >current run</th>\n",
       "    </tr>\n",
       "    <tr>\n",
       "      <th class=\"index_name level0\" >ENS</th>\n",
       "      <th class=\"blank col0\" >&nbsp;</th>\n",
       "    </tr>\n",
       "  </thead>\n",
       "  <tbody>\n",
       "    <tr>\n",
       "      <th id=\"T_b1f50_level0_row0\" class=\"row_heading level0 row0\" >00</th>\n",
       "      <td id=\"T_b1f50_row0_col0\" class=\"data row0 col0\" >0</td>\n",
       "    </tr>\n",
       "    <tr>\n",
       "      <th id=\"T_b1f50_level0_row1\" class=\"row_heading level0 row1\" >01</th>\n",
       "      <td id=\"T_b1f50_row1_col0\" class=\"data row1 col0\" >1,048</td>\n",
       "    </tr>\n",
       "    <tr>\n",
       "      <th id=\"T_b1f50_level0_row2\" class=\"row_heading level0 row2\" >02</th>\n",
       "      <td id=\"T_b1f50_row2_col0\" class=\"data row2 col0\" >13,197</td>\n",
       "    </tr>\n",
       "    <tr>\n",
       "      <th id=\"T_b1f50_level0_row3\" class=\"row_heading level0 row3\" >03</th>\n",
       "      <td id=\"T_b1f50_row3_col0\" class=\"data row3 col0\" >10,575</td>\n",
       "    </tr>\n",
       "    <tr>\n",
       "      <th id=\"T_b1f50_level0_row4\" class=\"row_heading level0 row4\" >04</th>\n",
       "      <td id=\"T_b1f50_row4_col0\" class=\"data row4 col0\" >6,836</td>\n",
       "    </tr>\n",
       "    <tr>\n",
       "      <th id=\"T_b1f50_level0_row5\" class=\"row_heading level0 row5\" >05</th>\n",
       "      <td id=\"T_b1f50_row5_col0\" class=\"data row5 col0\" >8,331</td>\n",
       "    </tr>\n",
       "    <tr>\n",
       "      <th id=\"T_b1f50_level0_row6\" class=\"row_heading level0 row6\" >06</th>\n",
       "      <td id=\"T_b1f50_row6_col0\" class=\"data row6 col0\" >1,069</td>\n",
       "    </tr>\n",
       "    <tr>\n",
       "      <th id=\"T_b1f50_level0_row7\" class=\"row_heading level0 row7\" >07</th>\n",
       "      <td id=\"T_b1f50_row7_col0\" class=\"data row7 col0\" >1,669</td>\n",
       "    </tr>\n",
       "    <tr>\n",
       "      <th id=\"T_b1f50_level0_row8\" class=\"row_heading level0 row8\" >08</th>\n",
       "      <td id=\"T_b1f50_row8_col0\" class=\"data row8 col0\" >1,374</td>\n",
       "    </tr>\n",
       "    <tr>\n",
       "      <th id=\"T_b1f50_level0_row9\" class=\"row_heading level0 row9\" >09</th>\n",
       "      <td id=\"T_b1f50_row9_col0\" class=\"data row9 col0\" >1,985</td>\n",
       "    </tr>\n",
       "    <tr>\n",
       "      <th id=\"T_b1f50_level0_row10\" class=\"row_heading level0 row10\" >10</th>\n",
       "      <td id=\"T_b1f50_row10_col0\" class=\"data row10 col0\" >1,733</td>\n",
       "    </tr>\n",
       "    <tr>\n",
       "      <th id=\"T_b1f50_level0_row11\" class=\"row_heading level0 row11\" >11</th>\n",
       "      <td id=\"T_b1f50_row11_col0\" class=\"data row11 col0\" >616</td>\n",
       "    </tr>\n",
       "    <tr>\n",
       "      <th id=\"T_b1f50_level0_row12\" class=\"row_heading level0 row12\" >15</th>\n",
       "      <td id=\"T_b1f50_row12_col0\" class=\"data row12 col0\" >0</td>\n",
       "    </tr>\n",
       "    <tr>\n",
       "      <th id=\"T_b1f50_level0_row13\" class=\"row_heading level0 row13\" >16</th>\n",
       "      <td id=\"T_b1f50_row13_col0\" class=\"data row13 col0\" >4,192</td>\n",
       "    </tr>\n",
       "    <tr>\n",
       "      <th id=\"T_b1f50_level0_row14\" class=\"row_heading level0 row14\" >17</th>\n",
       "      <td id=\"T_b1f50_row14_col0\" class=\"data row14 col0\" >13,476</td>\n",
       "    </tr>\n",
       "    <tr>\n",
       "      <th id=\"T_b1f50_level0_row15\" class=\"row_heading level0 row15\" >18</th>\n",
       "      <td id=\"T_b1f50_row15_col0\" class=\"data row15 col0\" >4,692</td>\n",
       "    </tr>\n",
       "    <tr>\n",
       "      <th id=\"T_b1f50_level0_row16\" class=\"row_heading level0 row16\" >19</th>\n",
       "      <td id=\"T_b1f50_row16_col0\" class=\"data row16 col0\" >943</td>\n",
       "    </tr>\n",
       "    <tr>\n",
       "      <th id=\"T_b1f50_level0_row17\" class=\"row_heading level0 row17\" >20</th>\n",
       "      <td id=\"T_b1f50_row17_col0\" class=\"data row17 col0\" >4,634</td>\n",
       "    </tr>\n",
       "    <tr>\n",
       "      <th id=\"T_b1f50_level0_row18\" class=\"row_heading level0 row18\" >21</th>\n",
       "      <td id=\"T_b1f50_row18_col0\" class=\"data row18 col0\" >8,305</td>\n",
       "    </tr>\n",
       "    <tr>\n",
       "      <th id=\"T_b1f50_level0_row19\" class=\"row_heading level0 row19\" >22</th>\n",
       "      <td id=\"T_b1f50_row19_col0\" class=\"data row19 col0\" >5,877</td>\n",
       "    </tr>\n",
       "    <tr>\n",
       "      <th id=\"T_b1f50_level0_row20\" class=\"row_heading level0 row20\" >24</th>\n",
       "      <td id=\"T_b1f50_row20_col0\" class=\"data row20 col0\" >5,203</td>\n",
       "    </tr>\n",
       "    <tr>\n",
       "      <th id=\"T_b1f50_level0_row21\" class=\"row_heading level0 row21\" >26</th>\n",
       "      <td id=\"T_b1f50_row21_col0\" class=\"data row21 col0\" >3,997</td>\n",
       "    </tr>\n",
       "    <tr>\n",
       "      <th id=\"T_b1f50_level0_row22\" class=\"row_heading level0 row22\" >27</th>\n",
       "      <td id=\"T_b1f50_row22_col0\" class=\"data row22 col0\" >2,438</td>\n",
       "    </tr>\n",
       "    <tr>\n",
       "      <th id=\"T_b1f50_level0_row23\" class=\"row_heading level0 row23\" >28</th>\n",
       "      <td id=\"T_b1f50_row23_col0\" class=\"data row23 col0\" >6,651</td>\n",
       "    </tr>\n",
       "    <tr>\n",
       "      <th id=\"T_b1f50_level0_row24\" class=\"row_heading level0 row24\" >29</th>\n",
       "      <td id=\"T_b1f50_row24_col0\" class=\"data row24 col0\" >10,211</td>\n",
       "    </tr>\n",
       "    <tr>\n",
       "      <th id=\"T_b1f50_level0_row25\" class=\"row_heading level0 row25\" >30</th>\n",
       "      <td id=\"T_b1f50_row25_col0\" class=\"data row25 col0\" >1,564</td>\n",
       "    </tr>\n",
       "    <tr>\n",
       "      <th id=\"T_b1f50_level0_row26\" class=\"row_heading level0 row26\" >31</th>\n",
       "      <td id=\"T_b1f50_row26_col0\" class=\"data row26 col0\" >2,559</td>\n",
       "    </tr>\n",
       "    <tr>\n",
       "      <th id=\"T_b1f50_level0_row27\" class=\"row_heading level0 row27\" >32</th>\n",
       "      <td id=\"T_b1f50_row27_col0\" class=\"data row27 col0\" >0</td>\n",
       "    </tr>\n",
       "    <tr>\n",
       "      <th id=\"T_b1f50_level0_row28\" class=\"row_heading level0 row28\" >33</th>\n",
       "      <td id=\"T_b1f50_row28_col0\" class=\"data row28 col0\" >5,466</td>\n",
       "    </tr>\n",
       "    <tr>\n",
       "      <th id=\"T_b1f50_level0_row29\" class=\"row_heading level0 row29\" >34</th>\n",
       "      <td id=\"T_b1f50_row29_col0\" class=\"data row29 col0\" >721</td>\n",
       "    </tr>\n",
       "    <tr>\n",
       "      <th id=\"T_b1f50_level0_row30\" class=\"row_heading level0 row30\" >35</th>\n",
       "      <td id=\"T_b1f50_row30_col0\" class=\"data row30 col0\" >5,493</td>\n",
       "    </tr>\n",
       "    <tr>\n",
       "      <th id=\"T_b1f50_level0_row31\" class=\"row_heading level0 row31\" >36</th>\n",
       "      <td id=\"T_b1f50_row31_col0\" class=\"data row31 col0\" >0</td>\n",
       "    </tr>\n",
       "    <tr>\n",
       "      <th id=\"T_b1f50_level0_row32\" class=\"row_heading level0 row32\" >37</th>\n",
       "      <td id=\"T_b1f50_row32_col0\" class=\"data row32 col0\" >7,183</td>\n",
       "    </tr>\n",
       "    <tr>\n",
       "      <th id=\"T_b1f50_level0_row33\" class=\"row_heading level0 row33\" >39</th>\n",
       "      <td id=\"T_b1f50_row33_col0\" class=\"data row33 col0\" >4,334</td>\n",
       "    </tr>\n",
       "    <tr>\n",
       "      <th id=\"T_b1f50_level0_row34\" class=\"row_heading level0 row34\" >40</th>\n",
       "      <td id=\"T_b1f50_row34_col0\" class=\"data row34 col0\" >0</td>\n",
       "    </tr>\n",
       "    <tr>\n",
       "      <th id=\"T_b1f50_level0_row35\" class=\"row_heading level0 row35\" >42</th>\n",
       "      <td id=\"T_b1f50_row35_col0\" class=\"data row35 col0\" >18,053</td>\n",
       "    </tr>\n",
       "    <tr>\n",
       "      <th id=\"T_b1f50_level0_row36\" class=\"row_heading level0 row36\" >43</th>\n",
       "      <td id=\"T_b1f50_row36_col0\" class=\"data row36 col0\" >1,206</td>\n",
       "    </tr>\n",
       "    <tr>\n",
       "      <th id=\"T_b1f50_level0_row37\" class=\"row_heading level0 row37\" >44</th>\n",
       "      <td id=\"T_b1f50_row37_col0\" class=\"data row37 col0\" >16,625</td>\n",
       "    </tr>\n",
       "  </tbody>\n",
       "</table>\n"
      ],
      "text/plain": [
       "<pandas.io.formats.style.Styler at 0x1b8ad8a3550>"
      ]
     },
     "execution_count": 12,
     "metadata": {},
     "output_type": "execute_result"
    }
   ],
   "source": [
    "# Parking costs by zone\n",
    "pd.pivot_table(df_parcels, index='ENS', columns='source', values='parkhr_p', aggfunc='sum').style.format('{:,.0f}')"
   ]
  },
  {
   "cell_type": "raw",
   "metadata": {},
   "source": [
    "#### RGC"
   ]
  },
  {
   "cell_type": "code",
   "execution_count": 13,
   "metadata": {
    "execution": {
     "iopub.execute_input": "2025-06-18T21:53:00.493481Z",
     "iopub.status.busy": "2025-06-18T21:53:00.492485Z",
     "iopub.status.idle": "2025-06-18T21:53:00.745826Z",
     "shell.execute_reply": "2025-06-18T21:53:00.744836Z"
    }
   },
   "outputs": [
    {
     "data": {
      "text/html": [
       "<style type=\"text/css\">\n",
       "</style>\n",
       "<table id=\"T_de37c\">\n",
       "  <thead>\n",
       "    <tr>\n",
       "      <th class=\"index_name level0\" >source</th>\n",
       "      <th id=\"T_de37c_level0_col0\" class=\"col_heading level0 col0\" >current run</th>\n",
       "    </tr>\n",
       "    <tr>\n",
       "      <th class=\"index_name level0\" >GrowthCenterName</th>\n",
       "      <th class=\"blank col0\" >&nbsp;</th>\n",
       "    </tr>\n",
       "  </thead>\n",
       "  <tbody>\n",
       "    <tr>\n",
       "      <th id=\"T_de37c_level0_row0\" class=\"row_heading level0 row0\" >Auburn</th>\n",
       "      <td id=\"T_de37c_row0_col0\" class=\"data row0 col0\" >2,923</td>\n",
       "    </tr>\n",
       "    <tr>\n",
       "      <th id=\"T_de37c_level0_row1\" class=\"row_heading level0 row1\" >Bellevue</th>\n",
       "      <td id=\"T_de37c_row1_col0\" class=\"data row1 col0\" >779</td>\n",
       "    </tr>\n",
       "    <tr>\n",
       "      <th id=\"T_de37c_level0_row2\" class=\"row_heading level0 row2\" >Bothell Canyon Park</th>\n",
       "      <td id=\"T_de37c_row2_col0\" class=\"data row2 col0\" >1,280</td>\n",
       "    </tr>\n",
       "    <tr>\n",
       "      <th id=\"T_de37c_level0_row3\" class=\"row_heading level0 row3\" >Bremerton</th>\n",
       "      <td id=\"T_de37c_row3_col0\" class=\"data row3 col0\" >3,276</td>\n",
       "    </tr>\n",
       "    <tr>\n",
       "      <th id=\"T_de37c_level0_row4\" class=\"row_heading level0 row4\" >Burien</th>\n",
       "      <td id=\"T_de37c_row4_col0\" class=\"data row4 col0\" >0</td>\n",
       "    </tr>\n",
       "    <tr>\n",
       "      <th id=\"T_de37c_level0_row5\" class=\"row_heading level0 row5\" >Everett</th>\n",
       "      <td id=\"T_de37c_row5_col0\" class=\"data row5 col0\" >6,667</td>\n",
       "    </tr>\n",
       "    <tr>\n",
       "      <th id=\"T_de37c_level0_row6\" class=\"row_heading level0 row6\" >Federal Way</th>\n",
       "      <td id=\"T_de37c_row6_col0\" class=\"data row6 col0\" >332</td>\n",
       "    </tr>\n",
       "    <tr>\n",
       "      <th id=\"T_de37c_level0_row7\" class=\"row_heading level0 row7\" >Greater Downtown Kirkland</th>\n",
       "      <td id=\"T_de37c_row7_col0\" class=\"data row7 col0\" >0</td>\n",
       "    </tr>\n",
       "    <tr>\n",
       "      <th id=\"T_de37c_level0_row8\" class=\"row_heading level0 row8\" >Issaquah</th>\n",
       "      <td id=\"T_de37c_row8_col0\" class=\"data row8 col0\" >774</td>\n",
       "    </tr>\n",
       "    <tr>\n",
       "      <th id=\"T_de37c_level0_row9\" class=\"row_heading level0 row9\" >Kent</th>\n",
       "      <td id=\"T_de37c_row9_col0\" class=\"data row9 col0\" >2,307</td>\n",
       "    </tr>\n",
       "    <tr>\n",
       "      <th id=\"T_de37c_level0_row10\" class=\"row_heading level0 row10\" >Kirkland Totem Lake</th>\n",
       "      <td id=\"T_de37c_row10_col0\" class=\"data row10 col0\" >1,411</td>\n",
       "    </tr>\n",
       "    <tr>\n",
       "      <th id=\"T_de37c_level0_row11\" class=\"row_heading level0 row11\" >Lakewood</th>\n",
       "      <td id=\"T_de37c_row11_col0\" class=\"data row11 col0\" >1,190</td>\n",
       "    </tr>\n",
       "    <tr>\n",
       "      <th id=\"T_de37c_level0_row12\" class=\"row_heading level0 row12\" >Lynnwood</th>\n",
       "      <td id=\"T_de37c_row12_col0\" class=\"data row12 col0\" >1,532</td>\n",
       "    </tr>\n",
       "    <tr>\n",
       "      <th id=\"T_de37c_level0_row13\" class=\"row_heading level0 row13\" >Not in RGC</th>\n",
       "      <td id=\"T_de37c_row13_col0\" class=\"data row13 col0\" >99,284</td>\n",
       "    </tr>\n",
       "    <tr>\n",
       "      <th id=\"T_de37c_level0_row14\" class=\"row_heading level0 row14\" >Puyallup Downtown</th>\n",
       "      <td id=\"T_de37c_row14_col0\" class=\"data row14 col0\" >3,460</td>\n",
       "    </tr>\n",
       "    <tr>\n",
       "      <th id=\"T_de37c_level0_row15\" class=\"row_heading level0 row15\" >Puyallup South Hill</th>\n",
       "      <td id=\"T_de37c_row15_col0\" class=\"data row15 col0\" >0</td>\n",
       "    </tr>\n",
       "    <tr>\n",
       "      <th id=\"T_de37c_level0_row16\" class=\"row_heading level0 row16\" >Redmond Downtown</th>\n",
       "      <td id=\"T_de37c_row16_col0\" class=\"data row16 col0\" >2,138</td>\n",
       "    </tr>\n",
       "    <tr>\n",
       "      <th id=\"T_de37c_level0_row17\" class=\"row_heading level0 row17\" >Redmond-Overlake</th>\n",
       "      <td id=\"T_de37c_row17_col0\" class=\"data row17 col0\" >606</td>\n",
       "    </tr>\n",
       "    <tr>\n",
       "      <th id=\"T_de37c_level0_row18\" class=\"row_heading level0 row18\" >Renton</th>\n",
       "      <td id=\"T_de37c_row18_col0\" class=\"data row18 col0\" >3,518</td>\n",
       "    </tr>\n",
       "    <tr>\n",
       "      <th id=\"T_de37c_level0_row19\" class=\"row_heading level0 row19\" >SeaTac</th>\n",
       "      <td id=\"T_de37c_row19_col0\" class=\"data row19 col0\" >3,649</td>\n",
       "    </tr>\n",
       "    <tr>\n",
       "      <th id=\"T_de37c_level0_row20\" class=\"row_heading level0 row20\" >Seattle Downtown</th>\n",
       "      <td id=\"T_de37c_row20_col0\" class=\"data row20 col0\" >5,261</td>\n",
       "    </tr>\n",
       "    <tr>\n",
       "      <th id=\"T_de37c_level0_row21\" class=\"row_heading level0 row21\" >Seattle First Hill/Capitol Hill</th>\n",
       "      <td id=\"T_de37c_row21_col0\" class=\"data row21 col0\" >15,398</td>\n",
       "    </tr>\n",
       "    <tr>\n",
       "      <th id=\"T_de37c_level0_row22\" class=\"row_heading level0 row22\" >Seattle Northgate</th>\n",
       "      <td id=\"T_de37c_row22_col0\" class=\"data row22 col0\" >1,633</td>\n",
       "    </tr>\n",
       "    <tr>\n",
       "      <th id=\"T_de37c_level0_row23\" class=\"row_heading level0 row23\" >Seattle South Lake Union</th>\n",
       "      <td id=\"T_de37c_row23_col0\" class=\"data row23 col0\" >1,654</td>\n",
       "    </tr>\n",
       "    <tr>\n",
       "      <th id=\"T_de37c_level0_row24\" class=\"row_heading level0 row24\" >Seattle University Community</th>\n",
       "      <td id=\"T_de37c_row24_col0\" class=\"data row24 col0\" >6,061</td>\n",
       "    </tr>\n",
       "    <tr>\n",
       "      <th id=\"T_de37c_level0_row25\" class=\"row_heading level0 row25\" >Seattle Uptown</th>\n",
       "      <td id=\"T_de37c_row25_col0\" class=\"data row25 col0\" >2,370</td>\n",
       "    </tr>\n",
       "    <tr>\n",
       "      <th id=\"T_de37c_level0_row26\" class=\"row_heading level0 row26\" >Silverdale</th>\n",
       "      <td id=\"T_de37c_row26_col0\" class=\"data row26 col0\" >0</td>\n",
       "    </tr>\n",
       "    <tr>\n",
       "      <th id=\"T_de37c_level0_row27\" class=\"row_heading level0 row27\" >Tacoma Downtown</th>\n",
       "      <td id=\"T_de37c_row27_col0\" class=\"data row27 col0\" >6,825</td>\n",
       "    </tr>\n",
       "    <tr>\n",
       "      <th id=\"T_de37c_level0_row28\" class=\"row_heading level0 row28\" >Tacoma Mall</th>\n",
       "      <td id=\"T_de37c_row28_col0\" class=\"data row28 col0\" >4,071</td>\n",
       "    </tr>\n",
       "    <tr>\n",
       "      <th id=\"T_de37c_level0_row29\" class=\"row_heading level0 row29\" >Tukwila</th>\n",
       "      <td id=\"T_de37c_row29_col0\" class=\"data row29 col0\" >1,317</td>\n",
       "    </tr>\n",
       "    <tr>\n",
       "      <th id=\"T_de37c_level0_row30\" class=\"row_heading level0 row30\" >University Place</th>\n",
       "      <td id=\"T_de37c_row30_col0\" class=\"data row30 col0\" >2,544</td>\n",
       "    </tr>\n",
       "  </tbody>\n",
       "</table>\n"
      ],
      "text/plain": [
       "<pandas.io.formats.style.Styler at 0x1b888145990>"
      ]
     },
     "execution_count": 13,
     "metadata": {},
     "output_type": "execute_result"
    }
   ],
   "source": [
    "pd.pivot_table(df_parcels, index='GrowthCenterName', columns='source', values='parkhr_p', aggfunc='sum').style.format('{:,.0f}')"
   ]
  },
  {
   "cell_type": "raw",
   "metadata": {},
   "source": [
    ":::"
   ]
  },
  {
   "cell_type": "code",
   "execution_count": null,
   "metadata": {},
   "outputs": [],
   "source": []
  }
 ],
 "metadata": {
  "kernelspec": {
   "display_name": "summary",
   "language": "python",
   "name": "python3"
  },
  "language_info": {
   "codemirror_mode": {
    "name": "ipython",
    "version": 3
   },
   "file_extension": ".py",
   "mimetype": "text/x-python",
   "name": "python",
   "nbconvert_exporter": "python",
   "pygments_lexer": "ipython3",
   "version": "3.11.12"
  }
 },
 "nbformat": 4,
 "nbformat_minor": 2
}
