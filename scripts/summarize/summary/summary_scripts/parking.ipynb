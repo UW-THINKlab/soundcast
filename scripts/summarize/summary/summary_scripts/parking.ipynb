{
 "cells": [
  {
   "cell_type": "raw",
   "metadata": {
    "vscode": {
     "languageId": "raw"
    }
   },
   "source": [
    "---\n",
    "title: \"Parking Cost\"\n",
    "date: today\n",
    "---"
   ]
  },
  {
   "cell_type": "code",
   "execution_count": 1,
   "metadata": {
    "execution": {
     "iopub.execute_input": "2025-03-01T06:59:35.888830Z",
     "iopub.status.busy": "2025-03-01T06:59:35.886835Z",
     "iopub.status.idle": "2025-03-01T06:59:36.976475Z",
     "shell.execute_reply": "2025-03-01T06:59:36.974481Z"
    }
   },
   "outputs": [],
   "source": [
    "#| include: false\n",
    "\n",
    "import os\n",
    "import pandas as pd\n",
    "import numpy as np\n",
    "import sqlite3\n",
    "# import plotly.express as px\n",
    "import toml\n",
    "# import psrc_theme\n",
    "from pathlib import Path\n",
    "import summary_data\n",
    "\n",
    "# to show plotly figures in quarto HTML file\n",
    "# import plotly.io as pio\n",
    "# pio.renderers.default = \"plotly_mimetype+notebook_connected\"\n",
    "# pio.templates.default = \"simple_white+psrc_color\" # set plotly template\n",
    "\n",
    "config = summary_data.CONFIG\n",
    "all_runs = summary_data.ALL_RUNS"
   ]
  },
  {
   "cell_type": "code",
   "execution_count": 2,
   "metadata": {},
   "outputs": [],
   "source": [
    "# Join parcel lookup data to parcel files to do some county and district summaries\n",
    "# Load parcel geography lookup from soundcast db\n",
    "conn = sqlite3.connect(r'../../../../inputs/db/soundcast_inputs_2023.db')\n",
    "df_geog_lookup = pd.read_sql_query(\"SELECT ParcelID, CountyName, district_name, GrowthCenterName FROM parcel_2023_geography\", conn)\n",
    "\n",
    "# Land Use Summary\n",
    "df_parcels = summary_data.load_landuse('landuse/parcels_urbansim.txt')\n",
    "# Merge lookup data to parcels\n",
    "df_parcels = df_parcels.merge(df_geog_lookup, left_on='parcelid', right_on='ParcelID', how='left')\n",
    "\n",
    "# total parking cost\n",
    "df_parcels['total_parking_cost'] = df_parcels['pprichrp'] * df_parcels['parkhr_p']"
   ]
  },
  {
   "cell_type": "markdown",
   "metadata": {},
   "source": [
    "## Parking"
   ]
  },
  {
   "cell_type": "markdown",
   "metadata": {},
   "source": [
    "### Hourly Parking Cost\n",
    "\n",
    "- total hourly parking cost in parcel = `parkhr_p` * `pprichrp`"
   ]
  },
  {
   "cell_type": "raw",
   "metadata": {
    "vscode": {
     "languageId": "raw"
    }
   },
   "source": [
    ":::{.panel-tabset}\n",
    "\n",
    "#### Region total"
   ]
  },
  {
   "cell_type": "code",
   "execution_count": 3,
   "metadata": {},
   "outputs": [
    {
     "data": {
      "text/html": [
       "<style  type=\"text/css\" >\n",
       "</style><table id=\"T_31576_\" ><thead>    <tr>        <th class=\"blank level0\" ></th>        <th class=\"col_heading level0 col0\" >total_parking_cost</th>    </tr>    <tr>        <th class=\"index_name level0\" >source</th>        <th class=\"blank\" ></th>    </tr></thead><tbody>\n",
       "                <tr>\n",
       "                        <th id=\"T_31576_level0_row0\" class=\"row_heading level0 row0\" >current run</th>\n",
       "                        <td id=\"T_31576_row0_col0\" class=\"data row0 col0\" >54,152,800</td>\n",
       "            </tr>\n",
       "    </tbody></table>"
      ],
      "text/plain": [
       "<pandas.io.formats.style.Styler at 0x228e73a1808>"
      ]
     },
     "execution_count": 3,
     "metadata": {},
     "output_type": "execute_result"
    }
   ],
   "source": [
    "# Daily parking cost totals (ppricdyp)\n",
    "pd.pivot_table(df_parcels, index='source', values='total_parking_cost', aggfunc='sum').style.format('{:,.0f}')"
   ]
  },
  {
   "cell_type": "raw",
   "metadata": {
    "vscode": {
     "languageId": "raw"
    }
   },
   "source": [
    "#### District"
   ]
  },
  {
   "cell_type": "code",
   "execution_count": 4,
   "metadata": {},
   "outputs": [
    {
     "data": {
      "text/html": [
       "<style  type=\"text/css\" >\n",
       "</style><table id=\"T_a862a_\" ><thead>    <tr>        <th class=\"index_name level0\" >source</th>        <th class=\"col_heading level0 col0\" >current run</th>    </tr>    <tr>        <th class=\"index_name level0\" >district_name</th>        <th class=\"blank\" ></th>    </tr></thead><tbody>\n",
       "                <tr>\n",
       "                        <th id=\"T_a862a_level0_row0\" class=\"row_heading level0 row0\" >East Side</th>\n",
       "                        <td id=\"T_a862a_row0_col0\" class=\"data row0 col0\" >10,600,400</td>\n",
       "            </tr>\n",
       "            <tr>\n",
       "                        <th id=\"T_a862a_level0_row1\" class=\"row_heading level0 row1\" >Everett-Lynwood-Edmonds</th>\n",
       "                        <td id=\"T_a862a_row1_col0\" class=\"data row1 col0\" >91,200</td>\n",
       "            </tr>\n",
       "            <tr>\n",
       "                        <th id=\"T_a862a_level0_row2\" class=\"row_heading level0 row2\" >Kitsap</th>\n",
       "                        <td id=\"T_a862a_row2_col0\" class=\"data row2 col0\" >968,900</td>\n",
       "            </tr>\n",
       "            <tr>\n",
       "                        <th id=\"T_a862a_level0_row3\" class=\"row_heading level0 row3\" >North Seattle-Shoreline</th>\n",
       "                        <td id=\"T_a862a_row3_col0\" class=\"data row3 col0\" >4,681,000</td>\n",
       "            </tr>\n",
       "            <tr>\n",
       "                        <th id=\"T_a862a_level0_row4\" class=\"row_heading level0 row4\" >Renton-FedWay-Kent</th>\n",
       "                        <td id=\"T_a862a_row4_col0\" class=\"data row4 col0\" >0</td>\n",
       "            </tr>\n",
       "            <tr>\n",
       "                        <th id=\"T_a862a_level0_row5\" class=\"row_heading level0 row5\" >S.Kitsap</th>\n",
       "                        <td id=\"T_a862a_row5_col0\" class=\"data row5 col0\" >0</td>\n",
       "            </tr>\n",
       "            <tr>\n",
       "                        <th id=\"T_a862a_level0_row6\" class=\"row_heading level0 row6\" >Seattle CBD</th>\n",
       "                        <td id=\"T_a862a_row6_col0\" class=\"data row6 col0\" >35,261,800</td>\n",
       "            </tr>\n",
       "            <tr>\n",
       "                        <th id=\"T_a862a_level0_row7\" class=\"row_heading level0 row7\" >South Pierce</th>\n",
       "                        <td id=\"T_a862a_row7_col0\" class=\"data row7 col0\" >0</td>\n",
       "            </tr>\n",
       "            <tr>\n",
       "                        <th id=\"T_a862a_level0_row8\" class=\"row_heading level0 row8\" >Suburban Snohomish</th>\n",
       "                        <td id=\"T_a862a_row8_col0\" class=\"data row8 col0\" >0</td>\n",
       "            </tr>\n",
       "            <tr>\n",
       "                        <th id=\"T_a862a_level0_row9\" class=\"row_heading level0 row9\" >Tacoma</th>\n",
       "                        <td id=\"T_a862a_row9_col0\" class=\"data row9 col0\" >1,010,700</td>\n",
       "            </tr>\n",
       "            <tr>\n",
       "                        <th id=\"T_a862a_level0_row10\" class=\"row_heading level0 row10\" >West-South Seattle</th>\n",
       "                        <td id=\"T_a862a_row10_col0\" class=\"data row10 col0\" >1,538,800</td>\n",
       "            </tr>\n",
       "    </tbody></table>"
      ],
      "text/plain": [
       "<pandas.io.formats.style.Styler at 0x22880bfb7c8>"
      ]
     },
     "execution_count": 4,
     "metadata": {},
     "output_type": "execute_result"
    }
   ],
   "source": [
    "# Parking costs by district\n",
    "pd.pivot_table(df_parcels, index='district_name', columns='source', values='total_parking_cost', aggfunc='sum').style.format('{:,.0f}')"
   ]
  },
  {
   "cell_type": "raw",
   "metadata": {},
   "source": [
    "#### RGC"
   ]
  },
  {
   "cell_type": "code",
   "execution_count": 5,
   "metadata": {},
   "outputs": [
    {
     "data": {
      "text/html": [
       "<style  type=\"text/css\" >\n",
       "</style><table id=\"T_49f86_\" ><thead>    <tr>        <th class=\"index_name level0\" >source</th>        <th class=\"col_heading level0 col0\" >current run</th>    </tr>    <tr>        <th class=\"index_name level0\" >GrowthCenterName</th>        <th class=\"blank\" ></th>    </tr></thead><tbody>\n",
       "                <tr>\n",
       "                        <th id=\"T_49f86_level0_row0\" class=\"row_heading level0 row0\" >Auburn</th>\n",
       "                        <td id=\"T_49f86_row0_col0\" class=\"data row0 col0\" >0</td>\n",
       "            </tr>\n",
       "            <tr>\n",
       "                        <th id=\"T_49f86_level0_row1\" class=\"row_heading level0 row1\" >Bellevue</th>\n",
       "                        <td id=\"T_49f86_row1_col0\" class=\"data row1 col0\" >10,071,200</td>\n",
       "            </tr>\n",
       "            <tr>\n",
       "                        <th id=\"T_49f86_level0_row2\" class=\"row_heading level0 row2\" >Bothell Canyon Park</th>\n",
       "                        <td id=\"T_49f86_row2_col0\" class=\"data row2 col0\" >0</td>\n",
       "            </tr>\n",
       "            <tr>\n",
       "                        <th id=\"T_49f86_level0_row3\" class=\"row_heading level0 row3\" >Bremerton</th>\n",
       "                        <td id=\"T_49f86_row3_col0\" class=\"data row3 col0\" >548,900</td>\n",
       "            </tr>\n",
       "            <tr>\n",
       "                        <th id=\"T_49f86_level0_row4\" class=\"row_heading level0 row4\" >Burien</th>\n",
       "                        <td id=\"T_49f86_row4_col0\" class=\"data row4 col0\" >0</td>\n",
       "            </tr>\n",
       "            <tr>\n",
       "                        <th id=\"T_49f86_level0_row5\" class=\"row_heading level0 row5\" >Everett</th>\n",
       "                        <td id=\"T_49f86_row5_col0\" class=\"data row5 col0\" >91,200</td>\n",
       "            </tr>\n",
       "            <tr>\n",
       "                        <th id=\"T_49f86_level0_row6\" class=\"row_heading level0 row6\" >Federal Way</th>\n",
       "                        <td id=\"T_49f86_row6_col0\" class=\"data row6 col0\" >0</td>\n",
       "            </tr>\n",
       "            <tr>\n",
       "                        <th id=\"T_49f86_level0_row7\" class=\"row_heading level0 row7\" >Greater Downtown Kirkland</th>\n",
       "                        <td id=\"T_49f86_row7_col0\" class=\"data row7 col0\" >0</td>\n",
       "            </tr>\n",
       "            <tr>\n",
       "                        <th id=\"T_49f86_level0_row8\" class=\"row_heading level0 row8\" >Issaquah</th>\n",
       "                        <td id=\"T_49f86_row8_col0\" class=\"data row8 col0\" >0</td>\n",
       "            </tr>\n",
       "            <tr>\n",
       "                        <th id=\"T_49f86_level0_row9\" class=\"row_heading level0 row9\" >Kent</th>\n",
       "                        <td id=\"T_49f86_row9_col0\" class=\"data row9 col0\" >0</td>\n",
       "            </tr>\n",
       "            <tr>\n",
       "                        <th id=\"T_49f86_level0_row10\" class=\"row_heading level0 row10\" >Kirkland Totem Lake</th>\n",
       "                        <td id=\"T_49f86_row10_col0\" class=\"data row10 col0\" >0</td>\n",
       "            </tr>\n",
       "            <tr>\n",
       "                        <th id=\"T_49f86_level0_row11\" class=\"row_heading level0 row11\" >Lakewood</th>\n",
       "                        <td id=\"T_49f86_row11_col0\" class=\"data row11 col0\" >0</td>\n",
       "            </tr>\n",
       "            <tr>\n",
       "                        <th id=\"T_49f86_level0_row12\" class=\"row_heading level0 row12\" >Lynnwood</th>\n",
       "                        <td id=\"T_49f86_row12_col0\" class=\"data row12 col0\" >0</td>\n",
       "            </tr>\n",
       "            <tr>\n",
       "                        <th id=\"T_49f86_level0_row13\" class=\"row_heading level0 row13\" >Not in RGC</th>\n",
       "                        <td id=\"T_49f86_row13_col0\" class=\"data row13 col0\" >2,442,300</td>\n",
       "            </tr>\n",
       "            <tr>\n",
       "                        <th id=\"T_49f86_level0_row14\" class=\"row_heading level0 row14\" >Puyallup Downtown</th>\n",
       "                        <td id=\"T_49f86_row14_col0\" class=\"data row14 col0\" >0</td>\n",
       "            </tr>\n",
       "            <tr>\n",
       "                        <th id=\"T_49f86_level0_row15\" class=\"row_heading level0 row15\" >Puyallup South Hill</th>\n",
       "                        <td id=\"T_49f86_row15_col0\" class=\"data row15 col0\" >0</td>\n",
       "            </tr>\n",
       "            <tr>\n",
       "                        <th id=\"T_49f86_level0_row16\" class=\"row_heading level0 row16\" >Redmond Downtown</th>\n",
       "                        <td id=\"T_49f86_row16_col0\" class=\"data row16 col0\" >0</td>\n",
       "            </tr>\n",
       "            <tr>\n",
       "                        <th id=\"T_49f86_level0_row17\" class=\"row_heading level0 row17\" >Redmond-Overlake</th>\n",
       "                        <td id=\"T_49f86_row17_col0\" class=\"data row17 col0\" >0</td>\n",
       "            </tr>\n",
       "            <tr>\n",
       "                        <th id=\"T_49f86_level0_row18\" class=\"row_heading level0 row18\" >Renton</th>\n",
       "                        <td id=\"T_49f86_row18_col0\" class=\"data row18 col0\" >0</td>\n",
       "            </tr>\n",
       "            <tr>\n",
       "                        <th id=\"T_49f86_level0_row19\" class=\"row_heading level0 row19\" >SeaTac</th>\n",
       "                        <td id=\"T_49f86_row19_col0\" class=\"data row19 col0\" >0</td>\n",
       "            </tr>\n",
       "            <tr>\n",
       "                        <th id=\"T_49f86_level0_row20\" class=\"row_heading level0 row20\" >Seattle Downtown</th>\n",
       "                        <td id=\"T_49f86_row20_col0\" class=\"data row20 col0\" >27,488,100</td>\n",
       "            </tr>\n",
       "            <tr>\n",
       "                        <th id=\"T_49f86_level0_row21\" class=\"row_heading level0 row21\" >Seattle First Hill/Capitol Hill</th>\n",
       "                        <td id=\"T_49f86_row21_col0\" class=\"data row21 col0\" >3,680,400</td>\n",
       "            </tr>\n",
       "            <tr>\n",
       "                        <th id=\"T_49f86_level0_row22\" class=\"row_heading level0 row22\" >Seattle Northgate</th>\n",
       "                        <td id=\"T_49f86_row22_col0\" class=\"data row22 col0\" >0</td>\n",
       "            </tr>\n",
       "            <tr>\n",
       "                        <th id=\"T_49f86_level0_row23\" class=\"row_heading level0 row23\" >Seattle South Lake Union</th>\n",
       "                        <td id=\"T_49f86_row23_col0\" class=\"data row23 col0\" >2,363,200</td>\n",
       "            </tr>\n",
       "            <tr>\n",
       "                        <th id=\"T_49f86_level0_row24\" class=\"row_heading level0 row24\" >Seattle University Community</th>\n",
       "                        <td id=\"T_49f86_row24_col0\" class=\"data row24 col0\" >3,578,800</td>\n",
       "            </tr>\n",
       "            <tr>\n",
       "                        <th id=\"T_49f86_level0_row25\" class=\"row_heading level0 row25\" >Seattle Uptown</th>\n",
       "                        <td id=\"T_49f86_row25_col0\" class=\"data row25 col0\" >2,878,000</td>\n",
       "            </tr>\n",
       "            <tr>\n",
       "                        <th id=\"T_49f86_level0_row26\" class=\"row_heading level0 row26\" >Silverdale</th>\n",
       "                        <td id=\"T_49f86_row26_col0\" class=\"data row26 col0\" >0</td>\n",
       "            </tr>\n",
       "            <tr>\n",
       "                        <th id=\"T_49f86_level0_row27\" class=\"row_heading level0 row27\" >Tacoma Downtown</th>\n",
       "                        <td id=\"T_49f86_row27_col0\" class=\"data row27 col0\" >1,010,700</td>\n",
       "            </tr>\n",
       "            <tr>\n",
       "                        <th id=\"T_49f86_level0_row28\" class=\"row_heading level0 row28\" >Tacoma Mall</th>\n",
       "                        <td id=\"T_49f86_row28_col0\" class=\"data row28 col0\" >0</td>\n",
       "            </tr>\n",
       "            <tr>\n",
       "                        <th id=\"T_49f86_level0_row29\" class=\"row_heading level0 row29\" >Tukwila</th>\n",
       "                        <td id=\"T_49f86_row29_col0\" class=\"data row29 col0\" >0</td>\n",
       "            </tr>\n",
       "            <tr>\n",
       "                        <th id=\"T_49f86_level0_row30\" class=\"row_heading level0 row30\" >University Place</th>\n",
       "                        <td id=\"T_49f86_row30_col0\" class=\"data row30 col0\" >0</td>\n",
       "            </tr>\n",
       "    </tbody></table>"
      ],
      "text/plain": [
       "<pandas.io.formats.style.Styler at 0x228ea637fc8>"
      ]
     },
     "execution_count": 5,
     "metadata": {},
     "output_type": "execute_result"
    }
   ],
   "source": [
    "pd.pivot_table(df_parcels, index='GrowthCenterName', columns='source', values='total_parking_cost', aggfunc='sum').style.format('{:,.0f}')"
   ]
  },
  {
   "cell_type": "raw",
   "metadata": {
    "vscode": {
     "languageId": "raw"
    }
   },
   "source": [
    ":::"
   ]
  },
  {
   "cell_type": "markdown",
   "metadata": {},
   "source": [
    "### Parking Supply\n",
    "\n",
    "- The number of paid public off-street parking spaces with per-hour pricing"
   ]
  },
  {
   "cell_type": "raw",
   "metadata": {},
   "source": [
    ":::{.panel-tabset}\n",
    "\n",
    "#### Region total"
   ]
  },
  {
   "cell_type": "code",
   "execution_count": 6,
   "metadata": {},
   "outputs": [
    {
     "data": {
      "text/html": [
       "<style  type=\"text/css\" >\n",
       "</style><table id=\"T_2fd09_\" ><thead>    <tr>        <th class=\"blank level0\" ></th>        <th class=\"col_heading level0 col0\" >parkhr_p</th>    </tr>    <tr>        <th class=\"index_name level0\" >source</th>        <th class=\"blank\" ></th>    </tr></thead><tbody>\n",
       "                <tr>\n",
       "                        <th id=\"T_2fd09_level0_row0\" class=\"row_heading level0 row0\" >current run</th>\n",
       "                        <td id=\"T_2fd09_row0_col0\" class=\"data row0 col0\" >202,147</td>\n",
       "            </tr>\n",
       "    </tbody></table>"
      ],
      "text/plain": [
       "<pandas.io.formats.style.Styler at 0x22881226e08>"
      ]
     },
     "execution_count": 6,
     "metadata": {},
     "output_type": "execute_result"
    }
   ],
   "source": [
    "# Daily parking cost totals (ppricdyp)\n",
    "pd.pivot_table(df_parcels, index='source', values='parkhr_p', aggfunc='sum').style.format('{:,.0f}')"
   ]
  },
  {
   "cell_type": "raw",
   "metadata": {},
   "source": [
    "#### District"
   ]
  },
  {
   "cell_type": "code",
   "execution_count": 7,
   "metadata": {},
   "outputs": [
    {
     "data": {
      "text/html": [
       "<style  type=\"text/css\" >\n",
       "</style><table id=\"T_d8a3c_\" ><thead>    <tr>        <th class=\"index_name level0\" >source</th>        <th class=\"col_heading level0 col0\" >current run</th>    </tr>    <tr>        <th class=\"index_name level0\" >district_name</th>        <th class=\"blank\" ></th>    </tr></thead><tbody>\n",
       "                <tr>\n",
       "                        <th id=\"T_d8a3c_level0_row0\" class=\"row_heading level0 row0\" >East Side</th>\n",
       "                        <td id=\"T_d8a3c_row0_col0\" class=\"data row0 col0\" >43,787</td>\n",
       "            </tr>\n",
       "            <tr>\n",
       "                        <th id=\"T_d8a3c_level0_row1\" class=\"row_heading level0 row1\" >Everett-Lynwood-Edmonds</th>\n",
       "                        <td id=\"T_d8a3c_row1_col0\" class=\"data row1 col0\" >13,833</td>\n",
       "            </tr>\n",
       "            <tr>\n",
       "                        <th id=\"T_d8a3c_level0_row2\" class=\"row_heading level0 row2\" >Kitsap</th>\n",
       "                        <td id=\"T_d8a3c_row2_col0\" class=\"data row2 col0\" >17,733</td>\n",
       "            </tr>\n",
       "            <tr>\n",
       "                        <th id=\"T_d8a3c_level0_row3\" class=\"row_heading level0 row3\" >North Seattle-Shoreline</th>\n",
       "                        <td id=\"T_d8a3c_row3_col0\" class=\"data row3 col0\" >18,815</td>\n",
       "            </tr>\n",
       "            <tr>\n",
       "                        <th id=\"T_d8a3c_level0_row4\" class=\"row_heading level0 row4\" >Renton-FedWay-Kent</th>\n",
       "                        <td id=\"T_d8a3c_row4_col0\" class=\"data row4 col0\" >37</td>\n",
       "            </tr>\n",
       "            <tr>\n",
       "                        <th id=\"T_d8a3c_level0_row5\" class=\"row_heading level0 row5\" >S.Kitsap</th>\n",
       "                        <td id=\"T_d8a3c_row5_col0\" class=\"data row5 col0\" >0</td>\n",
       "            </tr>\n",
       "            <tr>\n",
       "                        <th id=\"T_d8a3c_level0_row6\" class=\"row_heading level0 row6\" >Seattle CBD</th>\n",
       "                        <td id=\"T_d8a3c_row6_col0\" class=\"data row6 col0\" >80,205</td>\n",
       "            </tr>\n",
       "            <tr>\n",
       "                        <th id=\"T_d8a3c_level0_row7\" class=\"row_heading level0 row7\" >South Pierce</th>\n",
       "                        <td id=\"T_d8a3c_row7_col0\" class=\"data row7 col0\" >0</td>\n",
       "            </tr>\n",
       "            <tr>\n",
       "                        <th id=\"T_d8a3c_level0_row8\" class=\"row_heading level0 row8\" >Suburban Snohomish</th>\n",
       "                        <td id=\"T_d8a3c_row8_col0\" class=\"data row8 col0\" >0</td>\n",
       "            </tr>\n",
       "            <tr>\n",
       "                        <th id=\"T_d8a3c_level0_row9\" class=\"row_heading level0 row9\" >Tacoma</th>\n",
       "                        <td id=\"T_d8a3c_row9_col0\" class=\"data row9 col0\" >21,719</td>\n",
       "            </tr>\n",
       "            <tr>\n",
       "                        <th id=\"T_d8a3c_level0_row10\" class=\"row_heading level0 row10\" >West-South Seattle</th>\n",
       "                        <td id=\"T_d8a3c_row10_col0\" class=\"data row10 col0\" >6,018</td>\n",
       "            </tr>\n",
       "    </tbody></table>"
      ],
      "text/plain": [
       "<pandas.io.formats.style.Styler at 0x22882e82f88>"
      ]
     },
     "execution_count": 7,
     "metadata": {},
     "output_type": "execute_result"
    }
   ],
   "source": [
    "# Parking costs by district\n",
    "pd.pivot_table(df_parcels, index='district_name', columns='source', values='parkhr_p', aggfunc='sum').style.format('{:,.0f}')"
   ]
  },
  {
   "cell_type": "raw",
   "metadata": {},
   "source": [
    "#### RGC"
   ]
  },
  {
   "cell_type": "code",
   "execution_count": 8,
   "metadata": {},
   "outputs": [
    {
     "data": {
      "text/html": [
       "<style  type=\"text/css\" >\n",
       "</style><table id=\"T_1cee0_\" ><thead>    <tr>        <th class=\"index_name level0\" >source</th>        <th class=\"col_heading level0 col0\" >current run</th>    </tr>    <tr>        <th class=\"index_name level0\" >GrowthCenterName</th>        <th class=\"blank\" ></th>    </tr></thead><tbody>\n",
       "                <tr>\n",
       "                        <th id=\"T_1cee0_level0_row0\" class=\"row_heading level0 row0\" >Auburn</th>\n",
       "                        <td id=\"T_1cee0_row0_col0\" class=\"data row0 col0\" >0</td>\n",
       "            </tr>\n",
       "            <tr>\n",
       "                        <th id=\"T_1cee0_level0_row1\" class=\"row_heading level0 row1\" >Bellevue</th>\n",
       "                        <td id=\"T_1cee0_row1_col0\" class=\"data row1 col0\" >40,039</td>\n",
       "            </tr>\n",
       "            <tr>\n",
       "                        <th id=\"T_1cee0_level0_row2\" class=\"row_heading level0 row2\" >Bothell Canyon Park</th>\n",
       "                        <td id=\"T_1cee0_row2_col0\" class=\"data row2 col0\" >0</td>\n",
       "            </tr>\n",
       "            <tr>\n",
       "                        <th id=\"T_1cee0_level0_row3\" class=\"row_heading level0 row3\" >Bremerton</th>\n",
       "                        <td id=\"T_1cee0_row3_col0\" class=\"data row3 col0\" >9,686</td>\n",
       "            </tr>\n",
       "            <tr>\n",
       "                        <th id=\"T_1cee0_level0_row4\" class=\"row_heading level0 row4\" >Burien</th>\n",
       "                        <td id=\"T_1cee0_row4_col0\" class=\"data row4 col0\" >0</td>\n",
       "            </tr>\n",
       "            <tr>\n",
       "                        <th id=\"T_1cee0_level0_row5\" class=\"row_heading level0 row5\" >Everett</th>\n",
       "                        <td id=\"T_1cee0_row5_col0\" class=\"data row5 col0\" >13,641</td>\n",
       "            </tr>\n",
       "            <tr>\n",
       "                        <th id=\"T_1cee0_level0_row6\" class=\"row_heading level0 row6\" >Federal Way</th>\n",
       "                        <td id=\"T_1cee0_row6_col0\" class=\"data row6 col0\" >0</td>\n",
       "            </tr>\n",
       "            <tr>\n",
       "                        <th id=\"T_1cee0_level0_row7\" class=\"row_heading level0 row7\" >Greater Downtown Kirkland</th>\n",
       "                        <td id=\"T_1cee0_row7_col0\" class=\"data row7 col0\" >0</td>\n",
       "            </tr>\n",
       "            <tr>\n",
       "                        <th id=\"T_1cee0_level0_row8\" class=\"row_heading level0 row8\" >Issaquah</th>\n",
       "                        <td id=\"T_1cee0_row8_col0\" class=\"data row8 col0\" >0</td>\n",
       "            </tr>\n",
       "            <tr>\n",
       "                        <th id=\"T_1cee0_level0_row9\" class=\"row_heading level0 row9\" >Kent</th>\n",
       "                        <td id=\"T_1cee0_row9_col0\" class=\"data row9 col0\" >0</td>\n",
       "            </tr>\n",
       "            <tr>\n",
       "                        <th id=\"T_1cee0_level0_row10\" class=\"row_heading level0 row10\" >Kirkland Totem Lake</th>\n",
       "                        <td id=\"T_1cee0_row10_col0\" class=\"data row10 col0\" >0</td>\n",
       "            </tr>\n",
       "            <tr>\n",
       "                        <th id=\"T_1cee0_level0_row11\" class=\"row_heading level0 row11\" >Lakewood</th>\n",
       "                        <td id=\"T_1cee0_row11_col0\" class=\"data row11 col0\" >0</td>\n",
       "            </tr>\n",
       "            <tr>\n",
       "                        <th id=\"T_1cee0_level0_row12\" class=\"row_heading level0 row12\" >Lynnwood</th>\n",
       "                        <td id=\"T_1cee0_row12_col0\" class=\"data row12 col0\" >0</td>\n",
       "            </tr>\n",
       "            <tr>\n",
       "                        <th id=\"T_1cee0_level0_row13\" class=\"row_heading level0 row13\" >Not in RGC</th>\n",
       "                        <td id=\"T_1cee0_row13_col0\" class=\"data row13 col0\" >17,664</td>\n",
       "            </tr>\n",
       "            <tr>\n",
       "                        <th id=\"T_1cee0_level0_row14\" class=\"row_heading level0 row14\" >Puyallup Downtown</th>\n",
       "                        <td id=\"T_1cee0_row14_col0\" class=\"data row14 col0\" >0</td>\n",
       "            </tr>\n",
       "            <tr>\n",
       "                        <th id=\"T_1cee0_level0_row15\" class=\"row_heading level0 row15\" >Puyallup South Hill</th>\n",
       "                        <td id=\"T_1cee0_row15_col0\" class=\"data row15 col0\" >0</td>\n",
       "            </tr>\n",
       "            <tr>\n",
       "                        <th id=\"T_1cee0_level0_row16\" class=\"row_heading level0 row16\" >Redmond Downtown</th>\n",
       "                        <td id=\"T_1cee0_row16_col0\" class=\"data row16 col0\" >0</td>\n",
       "            </tr>\n",
       "            <tr>\n",
       "                        <th id=\"T_1cee0_level0_row17\" class=\"row_heading level0 row17\" >Redmond-Overlake</th>\n",
       "                        <td id=\"T_1cee0_row17_col0\" class=\"data row17 col0\" >0</td>\n",
       "            </tr>\n",
       "            <tr>\n",
       "                        <th id=\"T_1cee0_level0_row18\" class=\"row_heading level0 row18\" >Renton</th>\n",
       "                        <td id=\"T_1cee0_row18_col0\" class=\"data row18 col0\" >0</td>\n",
       "            </tr>\n",
       "            <tr>\n",
       "                        <th id=\"T_1cee0_level0_row19\" class=\"row_heading level0 row19\" >SeaTac</th>\n",
       "                        <td id=\"T_1cee0_row19_col0\" class=\"data row19 col0\" >0</td>\n",
       "            </tr>\n",
       "            <tr>\n",
       "                        <th id=\"T_1cee0_level0_row20\" class=\"row_heading level0 row20\" >Seattle Downtown</th>\n",
       "                        <td id=\"T_1cee0_row20_col0\" class=\"data row20 col0\" >55,451</td>\n",
       "            </tr>\n",
       "            <tr>\n",
       "                        <th id=\"T_1cee0_level0_row21\" class=\"row_heading level0 row21\" >Seattle First Hill/Capitol Hill</th>\n",
       "                        <td id=\"T_1cee0_row21_col0\" class=\"data row21 col0\" >10,444</td>\n",
       "            </tr>\n",
       "            <tr>\n",
       "                        <th id=\"T_1cee0_level0_row22\" class=\"row_heading level0 row22\" >Seattle Northgate</th>\n",
       "                        <td id=\"T_1cee0_row22_col0\" class=\"data row22 col0\" >0</td>\n",
       "            </tr>\n",
       "            <tr>\n",
       "                        <th id=\"T_1cee0_level0_row23\" class=\"row_heading level0 row23\" >Seattle South Lake Union</th>\n",
       "                        <td id=\"T_1cee0_row23_col0\" class=\"data row23 col0\" >10,239</td>\n",
       "            </tr>\n",
       "            <tr>\n",
       "                        <th id=\"T_1cee0_level0_row24\" class=\"row_heading level0 row24\" >Seattle University Community</th>\n",
       "                        <td id=\"T_1cee0_row24_col0\" class=\"data row24 col0\" >14,578</td>\n",
       "            </tr>\n",
       "            <tr>\n",
       "                        <th id=\"T_1cee0_level0_row25\" class=\"row_heading level0 row25\" >Seattle Uptown</th>\n",
       "                        <td id=\"T_1cee0_row25_col0\" class=\"data row25 col0\" >8,690</td>\n",
       "            </tr>\n",
       "            <tr>\n",
       "                        <th id=\"T_1cee0_level0_row26\" class=\"row_heading level0 row26\" >Silverdale</th>\n",
       "                        <td id=\"T_1cee0_row26_col0\" class=\"data row26 col0\" >0</td>\n",
       "            </tr>\n",
       "            <tr>\n",
       "                        <th id=\"T_1cee0_level0_row27\" class=\"row_heading level0 row27\" >Tacoma Downtown</th>\n",
       "                        <td id=\"T_1cee0_row27_col0\" class=\"data row27 col0\" >21,715</td>\n",
       "            </tr>\n",
       "            <tr>\n",
       "                        <th id=\"T_1cee0_level0_row28\" class=\"row_heading level0 row28\" >Tacoma Mall</th>\n",
       "                        <td id=\"T_1cee0_row28_col0\" class=\"data row28 col0\" >0</td>\n",
       "            </tr>\n",
       "            <tr>\n",
       "                        <th id=\"T_1cee0_level0_row29\" class=\"row_heading level0 row29\" >Tukwila</th>\n",
       "                        <td id=\"T_1cee0_row29_col0\" class=\"data row29 col0\" >0</td>\n",
       "            </tr>\n",
       "            <tr>\n",
       "                        <th id=\"T_1cee0_level0_row30\" class=\"row_heading level0 row30\" >University Place</th>\n",
       "                        <td id=\"T_1cee0_row30_col0\" class=\"data row30 col0\" >0</td>\n",
       "            </tr>\n",
       "    </tbody></table>"
      ],
      "text/plain": [
       "<pandas.io.formats.style.Styler at 0x228f6ac01c8>"
      ]
     },
     "execution_count": 8,
     "metadata": {},
     "output_type": "execute_result"
    }
   ],
   "source": [
    "pd.pivot_table(df_parcels, index='GrowthCenterName', columns='source', values='parkhr_p', aggfunc='sum').style.format('{:,.0f}')"
   ]
  },
  {
   "cell_type": "raw",
   "metadata": {},
   "source": [
    ":::"
   ]
  },
  {
   "cell_type": "code",
   "execution_count": 9,
   "metadata": {},
   "outputs": [],
   "source": [
    "# # Check buffered parcels distance to light rail\n",
    "# df_buffered = summary_data.load_landuse('landuse/buffered_parcels.txt')\n",
    "\n",
    "# # Merge geography to file\n",
    "# df_buffered = df_buffered.merge(df_geog_lookup, left_on='parcelid', right_on='ParcelID', how='left')"
   ]
  },
  {
   "cell_type": "code",
   "execution_count": 10,
   "metadata": {},
   "outputs": [],
   "source": [
    "\n",
    "# df_buffered.groupby(['source','district_name'])['dist_lbus'].describe()\n",
    "# # df_buffered.columns"
   ]
  },
  {
   "cell_type": "code",
   "execution_count": null,
   "metadata": {},
   "outputs": [],
   "source": []
  }
 ],
 "metadata": {
  "kernelspec": {
   "display_name": "summary",
   "language": "python",
   "name": "python3"
  },
  "language_info": {
   "codemirror_mode": {
    "name": "ipython",
    "version": 3
   },
   "file_extension": ".py",
   "mimetype": "text/x-python",
   "name": "python",
   "nbconvert_exporter": "python",
   "pygments_lexer": "ipython3",
   "version": "3.7.10"
  }
 },
 "nbformat": 4,
 "nbformat_minor": 2
}
