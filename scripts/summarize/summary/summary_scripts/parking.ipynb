{
 "cells": [
  {
   "cell_type": "raw",
   "metadata": {
    "vscode": {
     "languageId": "raw"
    }
   },
   "source": [
    "---\n",
    "title: \"Parking Cost\"\n",
    "date: today\n",
    "---"
   ]
  },
  {
   "cell_type": "code",
   "execution_count": 1,
   "metadata": {
    "execution": {
     "iopub.execute_input": "2025-03-01T06:59:35.888830Z",
     "iopub.status.busy": "2025-03-01T06:59:35.886835Z",
     "iopub.status.idle": "2025-03-01T06:59:36.976475Z",
     "shell.execute_reply": "2025-03-01T06:59:36.974481Z"
    }
   },
   "outputs": [],
   "source": [
    "#| include: false\n",
    "\n",
    "import os\n",
    "import pandas as pd\n",
    "import numpy as np\n",
    "import sqlite3\n",
    "# import plotly.express as px\n",
    "import toml\n",
    "# import psrc_theme\n",
    "from pathlib import Path\n",
    "import summary_data\n",
    "\n",
    "# to show plotly figures in quarto HTML file\n",
    "# import plotly.io as pio\n",
    "# pio.renderers.default = \"plotly_mimetype+notebook_connected\"\n",
    "# pio.templates.default = \"simple_white+psrc_color\" # set plotly template\n",
    "\n",
    "config = summary_data.CONFIG\n",
    "all_runs = summary_data.ALL_RUNS\n",
    "input_config = summary_data.INPUT_CONFIG"
   ]
  },
  {
   "cell_type": "code",
   "execution_count": 2,
   "metadata": {},
   "outputs": [],
   "source": [
    "# Join parcel lookup data to parcel files to do some county and district summaries\n",
    "# Load parcel geography lookup from soundcast db\n",
    "conn = sqlite3.connect(r'../../../../inputs/db/soundcast_inputs_2023.db')\n",
    "df_geog_lookup = pd.read_sql_query(\"SELECT ParcelID, CountyName, district_name, GrowthCenterName FROM parcel_2023_geography\", conn)\n",
    "\n",
    "# Land Use Summary\n",
    "df_parcels = summary_data.load_landuse('landuse/parcels_urbansim.txt')\n",
    "# Merge lookup data to parcels\n",
    "df_parcels = df_parcels.merge(df_geog_lookup, left_on='parcelid', right_on='ParcelID', how='left')\n",
    "\n",
    "# total parking cost\n",
    "df_parcels['total_parking_cost'] = df_parcels['pprichrp'] * df_parcels['parkhr_p']"
   ]
  },
  {
   "cell_type": "code",
   "execution_count": 6,
   "metadata": {},
   "outputs": [],
   "source": [
    "# input_config[\"model_year\"]"
   ]
  },
  {
   "cell_type": "code",
   "execution_count": 7,
   "metadata": {},
   "outputs": [],
   "source": [
    "df_parking_zones = pd.read_sql(\"SELECT * FROM parking_zones\", con=conn)\n",
    "df_parking_cost = pd.read_sql(\n",
    "    \"SELECT * FROM parking_costs WHERE year==\" + input_config[\"model_year\"], con=conn\n",
    ")\n",
    "df_parcels = pd.merge(\n",
    "    left=df_parcels, right=df_parking_zones, left_on=\"taz_p\", right_on=\"TAZ\", how=\"left\"\n",
    ")"
   ]
  },
  {
   "cell_type": "markdown",
   "metadata": {},
   "source": [
    "## Parking"
   ]
  },
  {
   "cell_type": "markdown",
   "metadata": {},
   "source": [
    "### Hourly Parking Cost\n",
    "\n",
    "- total hourly parking cost in parcel = `parkhr_p` * `pprichrp`"
   ]
  },
  {
   "cell_type": "raw",
   "metadata": {
    "vscode": {
     "languageId": "raw"
    }
   },
   "source": [
    ":::{.panel-tabset}\n",
    "\n",
    "#### Region total"
   ]
  },
  {
   "cell_type": "code",
   "execution_count": 8,
   "metadata": {},
   "outputs": [
    {
     "data": {
      "text/html": [
       "<style  type=\"text/css\" >\n",
       "</style><table id=\"T_11078_\" ><caption>Percent of parcels with paid parking</caption><thead>    <tr>        <th class=\"blank level0\" ></th>        <th class=\"col_heading level0 col0\" >paid_parking</th>    </tr></thead><tbody>\n",
       "                <tr>\n",
       "                        <th id=\"T_11078_level0_row0\" class=\"row_heading level0 row0\" >0</th>\n",
       "                        <td id=\"T_11078_row0_col0\" class=\"data row0 col0\" >99.97%</td>\n",
       "            </tr>\n",
       "            <tr>\n",
       "                        <th id=\"T_11078_level0_row1\" class=\"row_heading level0 row1\" >1</th>\n",
       "                        <td id=\"T_11078_row1_col0\" class=\"data row1 col0\" >0.03%</td>\n",
       "            </tr>\n",
       "    </tbody></table>"
      ],
      "text/plain": [
       "<pandas.io.formats.style.Styler at 0x20763d19ec8>"
      ]
     },
     "execution_count": 8,
     "metadata": {},
     "output_type": "execute_result"
    }
   ],
   "source": [
    "# # Daily parking cost totals (ppricdyp)\n",
    "# pd.pivot_table(df_parcels, index='source', values='pprichrp', aggfunc='median').style.format('{:,.2f}')\n",
    "\n",
    "# What percent of parcels have paid parking?\n",
    "df_parcels['paid_parking'] = df_parcels['pprichrp'].apply(lambda x: 1 if x > 0 else 0)\n",
    "# df_parcels[df_parcels['paid_parking']==1]\n",
    "df_parcels['paid_parking'].value_counts(normalize=True).sort_index().to_frame().style.format('{:.2%}').set_caption('Percent of parcels with paid parking')"
   ]
  },
  {
   "cell_type": "raw",
   "metadata": {
    "vscode": {
     "languageId": "raw"
    }
   },
   "source": [
    "#### District"
   ]
  },
  {
   "cell_type": "code",
   "execution_count": 9,
   "metadata": {},
   "outputs": [
    {
     "data": {
      "text/html": [
       "<style  type=\"text/css\" >\n",
       "</style><table id=\"T_8d516_\" ><caption>Paid parking by growth center</caption><thead>    <tr>        <th class=\"index_name level0\" >source</th>        <th class=\"col_heading level0 col0\" >current run</th>    </tr>    <tr>        <th class=\"index_name level0\" >district_name</th>        <th class=\"blank\" ></th>    </tr></thead><tbody>\n",
       "                <tr>\n",
       "                        <th id=\"T_8d516_level0_row0\" class=\"row_heading level0 row0\" >East Side</th>\n",
       "                        <td id=\"T_8d516_row0_col0\" class=\"data row0 col0\" >0.0%</td>\n",
       "            </tr>\n",
       "            <tr>\n",
       "                        <th id=\"T_8d516_level0_row1\" class=\"row_heading level0 row1\" >Everett-Lynwood-Edmonds</th>\n",
       "                        <td id=\"T_8d516_row1_col0\" class=\"data row1 col0\" >0.0%</td>\n",
       "            </tr>\n",
       "            <tr>\n",
       "                        <th id=\"T_8d516_level0_row2\" class=\"row_heading level0 row2\" >Kitsap</th>\n",
       "                        <td id=\"T_8d516_row2_col0\" class=\"data row2 col0\" >0.0%</td>\n",
       "            </tr>\n",
       "            <tr>\n",
       "                        <th id=\"T_8d516_level0_row3\" class=\"row_heading level0 row3\" >North Seattle-Shoreline</th>\n",
       "                        <td id=\"T_8d516_row3_col0\" class=\"data row3 col0\" >0.0%</td>\n",
       "            </tr>\n",
       "            <tr>\n",
       "                        <th id=\"T_8d516_level0_row4\" class=\"row_heading level0 row4\" >Renton-FedWay-Kent</th>\n",
       "                        <td id=\"T_8d516_row4_col0\" class=\"data row4 col0\" >0.0%</td>\n",
       "            </tr>\n",
       "            <tr>\n",
       "                        <th id=\"T_8d516_level0_row5\" class=\"row_heading level0 row5\" >S.Kitsap</th>\n",
       "                        <td id=\"T_8d516_row5_col0\" class=\"data row5 col0\" >0.0%</td>\n",
       "            </tr>\n",
       "            <tr>\n",
       "                        <th id=\"T_8d516_level0_row6\" class=\"row_heading level0 row6\" >Seattle CBD</th>\n",
       "                        <td id=\"T_8d516_row6_col0\" class=\"data row6 col0\" >0.7%</td>\n",
       "            </tr>\n",
       "            <tr>\n",
       "                        <th id=\"T_8d516_level0_row7\" class=\"row_heading level0 row7\" >South Pierce</th>\n",
       "                        <td id=\"T_8d516_row7_col0\" class=\"data row7 col0\" >0.0%</td>\n",
       "            </tr>\n",
       "            <tr>\n",
       "                        <th id=\"T_8d516_level0_row8\" class=\"row_heading level0 row8\" >Suburban Snohomish</th>\n",
       "                        <td id=\"T_8d516_row8_col0\" class=\"data row8 col0\" >0.0%</td>\n",
       "            </tr>\n",
       "            <tr>\n",
       "                        <th id=\"T_8d516_level0_row9\" class=\"row_heading level0 row9\" >Tacoma</th>\n",
       "                        <td id=\"T_8d516_row9_col0\" class=\"data row9 col0\" >0.0%</td>\n",
       "            </tr>\n",
       "            <tr>\n",
       "                        <th id=\"T_8d516_level0_row10\" class=\"row_heading level0 row10\" >West-South Seattle</th>\n",
       "                        <td id=\"T_8d516_row10_col0\" class=\"data row10 col0\" >0.0%</td>\n",
       "            </tr>\n",
       "    </tbody></table>"
      ],
      "text/plain": [
       "<pandas.io.formats.style.Styler at 0x2072e0f4c48>"
      ]
     },
     "execution_count": 9,
     "metadata": {},
     "output_type": "execute_result"
    }
   ],
   "source": [
    "# Parking costs by district\n",
    "(pd.pivot_table(df_parcels, index='district_name', columns='source', values='paid_parking', aggfunc='sum')/\\\n",
    "    pd.pivot_table(df_parcels, index='district_name', columns='source', values='paid_parking', aggfunc='count')).style.format('{:,.1%}').set_caption('Paid parking by growth center')"
   ]
  },
  {
   "cell_type": "raw",
   "metadata": {
    "vscode": {
     "languageId": "raw"
    }
   },
   "source": [
    "#### Parking Zone"
   ]
  },
  {
   "cell_type": "code",
   "execution_count": 15,
   "metadata": {},
   "outputs": [
    {
     "data": {
      "text/html": [
       "<style  type=\"text/css\" >\n",
       "</style><table id=\"T_88376_\" ><caption>Paid parking by Parking Zone</caption><thead>    <tr>        <th class=\"index_name level0\" >source</th>        <th class=\"col_heading level0 col0\" >current run</th>    </tr>    <tr>        <th class=\"index_name level0\" >ENS</th>        <th class=\"blank\" ></th>    </tr></thead><tbody>\n",
       "                <tr>\n",
       "                        <th id=\"T_88376_level0_row0\" class=\"row_heading level0 row0\" >00</th>\n",
       "                        <td id=\"T_88376_row0_col0\" class=\"data row0 col0\" >0.0%</td>\n",
       "            </tr>\n",
       "            <tr>\n",
       "                        <th id=\"T_88376_level0_row1\" class=\"row_heading level0 row1\" >01</th>\n",
       "                        <td id=\"T_88376_row1_col0\" class=\"data row1 col0\" >11.3%</td>\n",
       "            </tr>\n",
       "            <tr>\n",
       "                        <th id=\"T_88376_level0_row2\" class=\"row_heading level0 row2\" >02</th>\n",
       "                        <td id=\"T_88376_row2_col0\" class=\"data row2 col0\" >0.4%</td>\n",
       "            </tr>\n",
       "            <tr>\n",
       "                        <th id=\"T_88376_level0_row3\" class=\"row_heading level0 row3\" >03</th>\n",
       "                        <td id=\"T_88376_row3_col0\" class=\"data row3 col0\" >0.3%</td>\n",
       "            </tr>\n",
       "            <tr>\n",
       "                        <th id=\"T_88376_level0_row4\" class=\"row_heading level0 row4\" >04</th>\n",
       "                        <td id=\"T_88376_row4_col0\" class=\"data row4 col0\" >2.4%</td>\n",
       "            </tr>\n",
       "            <tr>\n",
       "                        <th id=\"T_88376_level0_row5\" class=\"row_heading level0 row5\" >05</th>\n",
       "                        <td id=\"T_88376_row5_col0\" class=\"data row5 col0\" >2.6%</td>\n",
       "            </tr>\n",
       "            <tr>\n",
       "                        <th id=\"T_88376_level0_row6\" class=\"row_heading level0 row6\" >06</th>\n",
       "                        <td id=\"T_88376_row6_col0\" class=\"data row6 col0\" >21.1%</td>\n",
       "            </tr>\n",
       "            <tr>\n",
       "                        <th id=\"T_88376_level0_row7\" class=\"row_heading level0 row7\" >07</th>\n",
       "                        <td id=\"T_88376_row7_col0\" class=\"data row7 col0\" >11.4%</td>\n",
       "            </tr>\n",
       "            <tr>\n",
       "                        <th id=\"T_88376_level0_row8\" class=\"row_heading level0 row8\" >08</th>\n",
       "                        <td id=\"T_88376_row8_col0\" class=\"data row8 col0\" >8.7%</td>\n",
       "            </tr>\n",
       "            <tr>\n",
       "                        <th id=\"T_88376_level0_row9\" class=\"row_heading level0 row9\" >09</th>\n",
       "                        <td id=\"T_88376_row9_col0\" class=\"data row9 col0\" >12.7%</td>\n",
       "            </tr>\n",
       "            <tr>\n",
       "                        <th id=\"T_88376_level0_row10\" class=\"row_heading level0 row10\" >10</th>\n",
       "                        <td id=\"T_88376_row10_col0\" class=\"data row10 col0\" >15.5%</td>\n",
       "            </tr>\n",
       "            <tr>\n",
       "                        <th id=\"T_88376_level0_row11\" class=\"row_heading level0 row11\" >11</th>\n",
       "                        <td id=\"T_88376_row11_col0\" class=\"data row11 col0\" >13.7%</td>\n",
       "            </tr>\n",
       "            <tr>\n",
       "                        <th id=\"T_88376_level0_row12\" class=\"row_heading level0 row12\" >15</th>\n",
       "                        <td id=\"T_88376_row12_col0\" class=\"data row12 col0\" >0.0%</td>\n",
       "            </tr>\n",
       "            <tr>\n",
       "                        <th id=\"T_88376_level0_row13\" class=\"row_heading level0 row13\" >16</th>\n",
       "                        <td id=\"T_88376_row13_col0\" class=\"data row13 col0\" >1.3%</td>\n",
       "            </tr>\n",
       "            <tr>\n",
       "                        <th id=\"T_88376_level0_row14\" class=\"row_heading level0 row14\" >17</th>\n",
       "                        <td id=\"T_88376_row14_col0\" class=\"data row14 col0\" >0.0%</td>\n",
       "            </tr>\n",
       "            <tr>\n",
       "                        <th id=\"T_88376_level0_row15\" class=\"row_heading level0 row15\" >18</th>\n",
       "                        <td id=\"T_88376_row15_col0\" class=\"data row15 col0\" >0.0%</td>\n",
       "            </tr>\n",
       "            <tr>\n",
       "                        <th id=\"T_88376_level0_row16\" class=\"row_heading level0 row16\" >19</th>\n",
       "                        <td id=\"T_88376_row16_col0\" class=\"data row16 col0\" >0.6%</td>\n",
       "            </tr>\n",
       "            <tr>\n",
       "                        <th id=\"T_88376_level0_row17\" class=\"row_heading level0 row17\" >20</th>\n",
       "                        <td id=\"T_88376_row17_col0\" class=\"data row17 col0\" >0.0%</td>\n",
       "            </tr>\n",
       "            <tr>\n",
       "                        <th id=\"T_88376_level0_row18\" class=\"row_heading level0 row18\" >21</th>\n",
       "                        <td id=\"T_88376_row18_col0\" class=\"data row18 col0\" >0.0%</td>\n",
       "            </tr>\n",
       "            <tr>\n",
       "                        <th id=\"T_88376_level0_row19\" class=\"row_heading level0 row19\" >22</th>\n",
       "                        <td id=\"T_88376_row19_col0\" class=\"data row19 col0\" >0.0%</td>\n",
       "            </tr>\n",
       "            <tr>\n",
       "                        <th id=\"T_88376_level0_row20\" class=\"row_heading level0 row20\" >24</th>\n",
       "                        <td id=\"T_88376_row20_col0\" class=\"data row20 col0\" >0.0%</td>\n",
       "            </tr>\n",
       "            <tr>\n",
       "                        <th id=\"T_88376_level0_row21\" class=\"row_heading level0 row21\" >26</th>\n",
       "                        <td id=\"T_88376_row21_col0\" class=\"data row21 col0\" >0.0%</td>\n",
       "            </tr>\n",
       "            <tr>\n",
       "                        <th id=\"T_88376_level0_row22\" class=\"row_heading level0 row22\" >27</th>\n",
       "                        <td id=\"T_88376_row22_col0\" class=\"data row22 col0\" >0.0%</td>\n",
       "            </tr>\n",
       "            <tr>\n",
       "                        <th id=\"T_88376_level0_row23\" class=\"row_heading level0 row23\" >28</th>\n",
       "                        <td id=\"T_88376_row23_col0\" class=\"data row23 col0\" >0.0%</td>\n",
       "            </tr>\n",
       "            <tr>\n",
       "                        <th id=\"T_88376_level0_row24\" class=\"row_heading level0 row24\" >29</th>\n",
       "                        <td id=\"T_88376_row24_col0\" class=\"data row24 col0\" >0.0%</td>\n",
       "            </tr>\n",
       "            <tr>\n",
       "                        <th id=\"T_88376_level0_row25\" class=\"row_heading level0 row25\" >30</th>\n",
       "                        <td id=\"T_88376_row25_col0\" class=\"data row25 col0\" >0.0%</td>\n",
       "            </tr>\n",
       "            <tr>\n",
       "                        <th id=\"T_88376_level0_row26\" class=\"row_heading level0 row26\" >31</th>\n",
       "                        <td id=\"T_88376_row26_col0\" class=\"data row26 col0\" >0.0%</td>\n",
       "            </tr>\n",
       "            <tr>\n",
       "                        <th id=\"T_88376_level0_row27\" class=\"row_heading level0 row27\" >32</th>\n",
       "                        <td id=\"T_88376_row27_col0\" class=\"data row27 col0\" >0.0%</td>\n",
       "            </tr>\n",
       "            <tr>\n",
       "                        <th id=\"T_88376_level0_row28\" class=\"row_heading level0 row28\" >33</th>\n",
       "                        <td id=\"T_88376_row28_col0\" class=\"data row28 col0\" >0.0%</td>\n",
       "            </tr>\n",
       "            <tr>\n",
       "                        <th id=\"T_88376_level0_row29\" class=\"row_heading level0 row29\" >34</th>\n",
       "                        <td id=\"T_88376_row29_col0\" class=\"data row29 col0\" >0.0%</td>\n",
       "            </tr>\n",
       "            <tr>\n",
       "                        <th id=\"T_88376_level0_row30\" class=\"row_heading level0 row30\" >35</th>\n",
       "                        <td id=\"T_88376_row30_col0\" class=\"data row30 col0\" >0.0%</td>\n",
       "            </tr>\n",
       "            <tr>\n",
       "                        <th id=\"T_88376_level0_row31\" class=\"row_heading level0 row31\" >36</th>\n",
       "                        <td id=\"T_88376_row31_col0\" class=\"data row31 col0\" >0.0%</td>\n",
       "            </tr>\n",
       "            <tr>\n",
       "                        <th id=\"T_88376_level0_row32\" class=\"row_heading level0 row32\" >37</th>\n",
       "                        <td id=\"T_88376_row32_col0\" class=\"data row32 col0\" >0.0%</td>\n",
       "            </tr>\n",
       "            <tr>\n",
       "                        <th id=\"T_88376_level0_row33\" class=\"row_heading level0 row33\" >39</th>\n",
       "                        <td id=\"T_88376_row33_col0\" class=\"data row33 col0\" >0.0%</td>\n",
       "            </tr>\n",
       "            <tr>\n",
       "                        <th id=\"T_88376_level0_row34\" class=\"row_heading level0 row34\" >40</th>\n",
       "                        <td id=\"T_88376_row34_col0\" class=\"data row34 col0\" >0.0%</td>\n",
       "            </tr>\n",
       "            <tr>\n",
       "                        <th id=\"T_88376_level0_row35\" class=\"row_heading level0 row35\" >42</th>\n",
       "                        <td id=\"T_88376_row35_col0\" class=\"data row35 col0\" >0.0%</td>\n",
       "            </tr>\n",
       "            <tr>\n",
       "                        <th id=\"T_88376_level0_row36\" class=\"row_heading level0 row36\" >43</th>\n",
       "                        <td id=\"T_88376_row36_col0\" class=\"data row36 col0\" >0.0%</td>\n",
       "            </tr>\n",
       "            <tr>\n",
       "                        <th id=\"T_88376_level0_row37\" class=\"row_heading level0 row37\" >44</th>\n",
       "                        <td id=\"T_88376_row37_col0\" class=\"data row37 col0\" >0.0%</td>\n",
       "            </tr>\n",
       "    </tbody></table>"
      ],
      "text/plain": [
       "<pandas.io.formats.style.Styler at 0x207855b3148>"
      ]
     },
     "execution_count": 15,
     "metadata": {},
     "output_type": "execute_result"
    }
   ],
   "source": [
    "\n",
    "# Sort ENS by the numeric value of the ENS column\n",
    "df_parcels['ENS'] = df_parcels['ENS'].astype(str).str.extract('(\\d+)').astype(int)\n",
    "df_parcels['ENS'] = df_parcels['ENS'].astype(str).str.zfill(2)  \n",
    "\n",
    "(pd.pivot_table(df_parcels, index='ENS', columns='source', values='paid_parking', aggfunc='sum')/\\\n",
    "    pd.pivot_table(df_parcels, index='ENS', columns='source', values='paid_parking', aggfunc='count')).style.format('{:,.1%}').set_caption('Paid parking by Parking Zone')\\\n",
    "    "
   ]
  },
  {
   "cell_type": "code",
   "execution_count": null,
   "metadata": {},
   "outputs": [],
   "source": [
    "(pd.pivot_table(df_parcels, index='district_name', columns='source', values='paid_parking', aggfunc='sum')/\\\n",
    "    pd.pivot_table(df_parcels, index='district_name', columns='source', values='paid_parking', aggfunc='count')).style.format('{:,.1%}').set_caption('Paid parking by growth center')\\"
   ]
  },
  {
   "cell_type": "raw",
   "metadata": {},
   "source": [
    "#### RGC"
   ]
  },
  {
   "cell_type": "code",
   "execution_count": 30,
   "metadata": {},
   "outputs": [
    {
     "data": {
      "text/html": [
       "<style  type=\"text/css\" >\n",
       "</style><table id=\"T_90045_\" ><caption>Paid parking by growth center</caption><thead>    <tr>        <th class=\"index_name level0\" >source</th>        <th class=\"col_heading level0 col0\" >current run</th>    </tr>    <tr>        <th class=\"index_name level0\" >GrowthCenterName</th>        <th class=\"blank\" ></th>    </tr></thead><tbody>\n",
       "                <tr>\n",
       "                        <th id=\"T_90045_level0_row0\" class=\"row_heading level0 row0\" >Auburn</th>\n",
       "                        <td id=\"T_90045_row0_col0\" class=\"data row0 col0\" >0.0%</td>\n",
       "            </tr>\n",
       "            <tr>\n",
       "                        <th id=\"T_90045_level0_row1\" class=\"row_heading level0 row1\" >Bellevue</th>\n",
       "                        <td id=\"T_90045_row1_col0\" class=\"data row1 col0\" >11.6%</td>\n",
       "            </tr>\n",
       "            <tr>\n",
       "                        <th id=\"T_90045_level0_row2\" class=\"row_heading level0 row2\" >Bothell Canyon Park</th>\n",
       "                        <td id=\"T_90045_row2_col0\" class=\"data row2 col0\" >0.0%</td>\n",
       "            </tr>\n",
       "            <tr>\n",
       "                        <th id=\"T_90045_level0_row3\" class=\"row_heading level0 row3\" >Bremerton</th>\n",
       "                        <td id=\"T_90045_row3_col0\" class=\"data row3 col0\" >1.3%</td>\n",
       "            </tr>\n",
       "            <tr>\n",
       "                        <th id=\"T_90045_level0_row4\" class=\"row_heading level0 row4\" >Burien</th>\n",
       "                        <td id=\"T_90045_row4_col0\" class=\"data row4 col0\" >0.0%</td>\n",
       "            </tr>\n",
       "            <tr>\n",
       "                        <th id=\"T_90045_level0_row5\" class=\"row_heading level0 row5\" >Everett</th>\n",
       "                        <td id=\"T_90045_row5_col0\" class=\"data row5 col0\" >0.5%</td>\n",
       "            </tr>\n",
       "            <tr>\n",
       "                        <th id=\"T_90045_level0_row6\" class=\"row_heading level0 row6\" >Federal Way</th>\n",
       "                        <td id=\"T_90045_row6_col0\" class=\"data row6 col0\" >0.0%</td>\n",
       "            </tr>\n",
       "            <tr>\n",
       "                        <th id=\"T_90045_level0_row7\" class=\"row_heading level0 row7\" >Greater Downtown Kirkland</th>\n",
       "                        <td id=\"T_90045_row7_col0\" class=\"data row7 col0\" >0.0%</td>\n",
       "            </tr>\n",
       "            <tr>\n",
       "                        <th id=\"T_90045_level0_row8\" class=\"row_heading level0 row8\" >Issaquah</th>\n",
       "                        <td id=\"T_90045_row8_col0\" class=\"data row8 col0\" >0.0%</td>\n",
       "            </tr>\n",
       "            <tr>\n",
       "                        <th id=\"T_90045_level0_row9\" class=\"row_heading level0 row9\" >Kent</th>\n",
       "                        <td id=\"T_90045_row9_col0\" class=\"data row9 col0\" >0.0%</td>\n",
       "            </tr>\n",
       "            <tr>\n",
       "                        <th id=\"T_90045_level0_row10\" class=\"row_heading level0 row10\" >Kirkland Totem Lake</th>\n",
       "                        <td id=\"T_90045_row10_col0\" class=\"data row10 col0\" >0.0%</td>\n",
       "            </tr>\n",
       "            <tr>\n",
       "                        <th id=\"T_90045_level0_row11\" class=\"row_heading level0 row11\" >Lakewood</th>\n",
       "                        <td id=\"T_90045_row11_col0\" class=\"data row11 col0\" >0.0%</td>\n",
       "            </tr>\n",
       "            <tr>\n",
       "                        <th id=\"T_90045_level0_row12\" class=\"row_heading level0 row12\" >Lynnwood</th>\n",
       "                        <td id=\"T_90045_row12_col0\" class=\"data row12 col0\" >0.0%</td>\n",
       "            </tr>\n",
       "            <tr>\n",
       "                        <th id=\"T_90045_level0_row13\" class=\"row_heading level0 row13\" >Not in RGC</th>\n",
       "                        <td id=\"T_90045_row13_col0\" class=\"data row13 col0\" >0.0%</td>\n",
       "            </tr>\n",
       "            <tr>\n",
       "                        <th id=\"T_90045_level0_row14\" class=\"row_heading level0 row14\" >Puyallup Downtown</th>\n",
       "                        <td id=\"T_90045_row14_col0\" class=\"data row14 col0\" >0.0%</td>\n",
       "            </tr>\n",
       "            <tr>\n",
       "                        <th id=\"T_90045_level0_row15\" class=\"row_heading level0 row15\" >Puyallup South Hill</th>\n",
       "                        <td id=\"T_90045_row15_col0\" class=\"data row15 col0\" >0.0%</td>\n",
       "            </tr>\n",
       "            <tr>\n",
       "                        <th id=\"T_90045_level0_row16\" class=\"row_heading level0 row16\" >Redmond Downtown</th>\n",
       "                        <td id=\"T_90045_row16_col0\" class=\"data row16 col0\" >0.0%</td>\n",
       "            </tr>\n",
       "            <tr>\n",
       "                        <th id=\"T_90045_level0_row17\" class=\"row_heading level0 row17\" >Redmond-Overlake</th>\n",
       "                        <td id=\"T_90045_row17_col0\" class=\"data row17 col0\" >0.0%</td>\n",
       "            </tr>\n",
       "            <tr>\n",
       "                        <th id=\"T_90045_level0_row18\" class=\"row_heading level0 row18\" >Renton</th>\n",
       "                        <td id=\"T_90045_row18_col0\" class=\"data row18 col0\" >0.0%</td>\n",
       "            </tr>\n",
       "            <tr>\n",
       "                        <th id=\"T_90045_level0_row19\" class=\"row_heading level0 row19\" >SeaTac</th>\n",
       "                        <td id=\"T_90045_row19_col0\" class=\"data row19 col0\" >0.0%</td>\n",
       "            </tr>\n",
       "            <tr>\n",
       "                        <th id=\"T_90045_level0_row20\" class=\"row_heading level0 row20\" >Seattle Downtown</th>\n",
       "                        <td id=\"T_90045_row20_col0\" class=\"data row20 col0\" >13.6%</td>\n",
       "            </tr>\n",
       "            <tr>\n",
       "                        <th id=\"T_90045_level0_row21\" class=\"row_heading level0 row21\" >Seattle First Hill/Capitol Hill</th>\n",
       "                        <td id=\"T_90045_row21_col0\" class=\"data row21 col0\" >1.4%</td>\n",
       "            </tr>\n",
       "            <tr>\n",
       "                        <th id=\"T_90045_level0_row22\" class=\"row_heading level0 row22\" >Seattle Northgate</th>\n",
       "                        <td id=\"T_90045_row22_col0\" class=\"data row22 col0\" >0.0%</td>\n",
       "            </tr>\n",
       "            <tr>\n",
       "                        <th id=\"T_90045_level0_row23\" class=\"row_heading level0 row23\" >Seattle South Lake Union</th>\n",
       "                        <td id=\"T_90045_row23_col0\" class=\"data row23 col0\" >9.2%</td>\n",
       "            </tr>\n",
       "            <tr>\n",
       "                        <th id=\"T_90045_level0_row24\" class=\"row_heading level0 row24\" >Seattle University Community</th>\n",
       "                        <td id=\"T_90045_row24_col0\" class=\"data row24 col0\" >3.1%</td>\n",
       "            </tr>\n",
       "            <tr>\n",
       "                        <th id=\"T_90045_level0_row25\" class=\"row_heading level0 row25\" >Seattle Uptown</th>\n",
       "                        <td id=\"T_90045_row25_col0\" class=\"data row25 col0\" >7.3%</td>\n",
       "            </tr>\n",
       "            <tr>\n",
       "                        <th id=\"T_90045_level0_row26\" class=\"row_heading level0 row26\" >Silverdale</th>\n",
       "                        <td id=\"T_90045_row26_col0\" class=\"data row26 col0\" >0.0%</td>\n",
       "            </tr>\n",
       "            <tr>\n",
       "                        <th id=\"T_90045_level0_row27\" class=\"row_heading level0 row27\" >Tacoma Downtown</th>\n",
       "                        <td id=\"T_90045_row27_col0\" class=\"data row27 col0\" >1.4%</td>\n",
       "            </tr>\n",
       "            <tr>\n",
       "                        <th id=\"T_90045_level0_row28\" class=\"row_heading level0 row28\" >Tacoma Mall</th>\n",
       "                        <td id=\"T_90045_row28_col0\" class=\"data row28 col0\" >0.0%</td>\n",
       "            </tr>\n",
       "            <tr>\n",
       "                        <th id=\"T_90045_level0_row29\" class=\"row_heading level0 row29\" >Tukwila</th>\n",
       "                        <td id=\"T_90045_row29_col0\" class=\"data row29 col0\" >0.0%</td>\n",
       "            </tr>\n",
       "            <tr>\n",
       "                        <th id=\"T_90045_level0_row30\" class=\"row_heading level0 row30\" >University Place</th>\n",
       "                        <td id=\"T_90045_row30_col0\" class=\"data row30 col0\" >0.0%</td>\n",
       "            </tr>\n",
       "    </tbody></table>"
      ],
      "text/plain": [
       "<pandas.io.formats.style.Styler at 0x195ada2f488>"
      ]
     },
     "execution_count": 30,
     "metadata": {},
     "output_type": "execute_result"
    }
   ],
   "source": [
    "(pd.pivot_table(df_parcels, index='GrowthCenterName', columns='source', values='paid_parking', aggfunc='sum')/\\\n",
    "    pd.pivot_table(df_parcels, index='GrowthCenterName', columns='source', values='paid_parking', aggfunc='count')).style.format('{:,.1%}').set_caption('Paid parking by growth center')\\"
   ]
  },
  {
   "cell_type": "raw",
   "metadata": {
    "vscode": {
     "languageId": "raw"
    }
   },
   "source": [
    ":::"
   ]
  },
  {
   "cell_type": "markdown",
   "metadata": {},
   "source": [
    "### Parking Supply\n",
    "\n",
    "- The number of paid public off-street parking spaces with per-hour pricing"
   ]
  },
  {
   "cell_type": "raw",
   "metadata": {},
   "source": [
    ":::{.panel-tabset}\n",
    "\n",
    "#### Region total"
   ]
  },
  {
   "cell_type": "code",
   "execution_count": 6,
   "metadata": {},
   "outputs": [
    {
     "data": {
      "text/html": [
       "<style  type=\"text/css\" >\n",
       "</style><table id=\"T_c8a4a_\" ><thead>    <tr>        <th class=\"blank level0\" ></th>        <th class=\"col_heading level0 col0\" >parkhr_p</th>    </tr>    <tr>        <th class=\"index_name level0\" >source</th>        <th class=\"blank\" ></th>    </tr></thead><tbody>\n",
       "                <tr>\n",
       "                        <th id=\"T_c8a4a_level0_row0\" class=\"row_heading level0 row0\" >current run</th>\n",
       "                        <td id=\"T_c8a4a_row0_col0\" class=\"data row0 col0\" >202,147</td>\n",
       "            </tr>\n",
       "    </tbody></table>"
      ],
      "text/plain": [
       "<pandas.io.formats.style.Styler at 0x19598ae04c8>"
      ]
     },
     "execution_count": 6,
     "metadata": {},
     "output_type": "execute_result"
    }
   ],
   "source": [
    "# Daily parking cost totals (ppricdyp)\n",
    "pd.pivot_table(df_parcels, index='source', values='parkhr_p', aggfunc='sum').style.format('{:,.0f}')"
   ]
  },
  {
   "cell_type": "raw",
   "metadata": {},
   "source": [
    "#### District"
   ]
  },
  {
   "cell_type": "code",
   "execution_count": 7,
   "metadata": {},
   "outputs": [
    {
     "data": {
      "text/html": [
       "<style  type=\"text/css\" >\n",
       "</style><table id=\"T_a81c5_\" ><thead>    <tr>        <th class=\"index_name level0\" >source</th>        <th class=\"col_heading level0 col0\" >current run</th>    </tr>    <tr>        <th class=\"index_name level0\" >district_name</th>        <th class=\"blank\" ></th>    </tr></thead><tbody>\n",
       "                <tr>\n",
       "                        <th id=\"T_a81c5_level0_row0\" class=\"row_heading level0 row0\" >East Side</th>\n",
       "                        <td id=\"T_a81c5_row0_col0\" class=\"data row0 col0\" >43,787</td>\n",
       "            </tr>\n",
       "            <tr>\n",
       "                        <th id=\"T_a81c5_level0_row1\" class=\"row_heading level0 row1\" >Everett-Lynwood-Edmonds</th>\n",
       "                        <td id=\"T_a81c5_row1_col0\" class=\"data row1 col0\" >13,833</td>\n",
       "            </tr>\n",
       "            <tr>\n",
       "                        <th id=\"T_a81c5_level0_row2\" class=\"row_heading level0 row2\" >Kitsap</th>\n",
       "                        <td id=\"T_a81c5_row2_col0\" class=\"data row2 col0\" >17,733</td>\n",
       "            </tr>\n",
       "            <tr>\n",
       "                        <th id=\"T_a81c5_level0_row3\" class=\"row_heading level0 row3\" >North Seattle-Shoreline</th>\n",
       "                        <td id=\"T_a81c5_row3_col0\" class=\"data row3 col0\" >18,815</td>\n",
       "            </tr>\n",
       "            <tr>\n",
       "                        <th id=\"T_a81c5_level0_row4\" class=\"row_heading level0 row4\" >Renton-FedWay-Kent</th>\n",
       "                        <td id=\"T_a81c5_row4_col0\" class=\"data row4 col0\" >37</td>\n",
       "            </tr>\n",
       "            <tr>\n",
       "                        <th id=\"T_a81c5_level0_row5\" class=\"row_heading level0 row5\" >S.Kitsap</th>\n",
       "                        <td id=\"T_a81c5_row5_col0\" class=\"data row5 col0\" >0</td>\n",
       "            </tr>\n",
       "            <tr>\n",
       "                        <th id=\"T_a81c5_level0_row6\" class=\"row_heading level0 row6\" >Seattle CBD</th>\n",
       "                        <td id=\"T_a81c5_row6_col0\" class=\"data row6 col0\" >80,205</td>\n",
       "            </tr>\n",
       "            <tr>\n",
       "                        <th id=\"T_a81c5_level0_row7\" class=\"row_heading level0 row7\" >South Pierce</th>\n",
       "                        <td id=\"T_a81c5_row7_col0\" class=\"data row7 col0\" >0</td>\n",
       "            </tr>\n",
       "            <tr>\n",
       "                        <th id=\"T_a81c5_level0_row8\" class=\"row_heading level0 row8\" >Suburban Snohomish</th>\n",
       "                        <td id=\"T_a81c5_row8_col0\" class=\"data row8 col0\" >0</td>\n",
       "            </tr>\n",
       "            <tr>\n",
       "                        <th id=\"T_a81c5_level0_row9\" class=\"row_heading level0 row9\" >Tacoma</th>\n",
       "                        <td id=\"T_a81c5_row9_col0\" class=\"data row9 col0\" >21,719</td>\n",
       "            </tr>\n",
       "            <tr>\n",
       "                        <th id=\"T_a81c5_level0_row10\" class=\"row_heading level0 row10\" >West-South Seattle</th>\n",
       "                        <td id=\"T_a81c5_row10_col0\" class=\"data row10 col0\" >6,018</td>\n",
       "            </tr>\n",
       "    </tbody></table>"
      ],
      "text/plain": [
       "<pandas.io.formats.style.Styler at 0x195a444f308>"
      ]
     },
     "execution_count": 7,
     "metadata": {},
     "output_type": "execute_result"
    }
   ],
   "source": [
    "# Parking costs by district\n",
    "pd.pivot_table(df_parcels, index='district_name', columns='source', values='parkhr_p', aggfunc='sum').style.format('{:,.0f}')"
   ]
  },
  {
   "cell_type": "raw",
   "metadata": {
    "vscode": {
     "languageId": "raw"
    }
   },
   "source": [
    "#### Parking Zone"
   ]
  },
  {
   "cell_type": "code",
   "execution_count": 16,
   "metadata": {},
   "outputs": [
    {
     "data": {
      "text/html": [
       "<style  type=\"text/css\" >\n",
       "</style><table id=\"T_c8629_\" ><thead>    <tr>        <th class=\"index_name level0\" >source</th>        <th class=\"col_heading level0 col0\" >current run</th>    </tr>    <tr>        <th class=\"index_name level0\" >ENS</th>        <th class=\"blank\" ></th>    </tr></thead><tbody>\n",
       "                <tr>\n",
       "                        <th id=\"T_c8629_level0_row0\" class=\"row_heading level0 row0\" >00</th>\n",
       "                        <td id=\"T_c8629_row0_col0\" class=\"data row0 col0\" >9,967</td>\n",
       "            </tr>\n",
       "            <tr>\n",
       "                        <th id=\"T_c8629_level0_row1\" class=\"row_heading level0 row1\" >01</th>\n",
       "                        <td id=\"T_c8629_row1_col0\" class=\"data row1 col0\" >42,374</td>\n",
       "            </tr>\n",
       "            <tr>\n",
       "                        <th id=\"T_c8629_level0_row2\" class=\"row_heading level0 row2\" >02</th>\n",
       "                        <td id=\"T_c8629_row2_col0\" class=\"data row2 col0\" >10,766</td>\n",
       "            </tr>\n",
       "            <tr>\n",
       "                        <th id=\"T_c8629_level0_row3\" class=\"row_heading level0 row3\" >03</th>\n",
       "                        <td id=\"T_c8629_row3_col0\" class=\"data row3 col0\" >12,484</td>\n",
       "            </tr>\n",
       "            <tr>\n",
       "                        <th id=\"T_c8629_level0_row4\" class=\"row_heading level0 row4\" >04</th>\n",
       "                        <td id=\"T_c8629_row4_col0\" class=\"data row4 col0\" >21,601</td>\n",
       "            </tr>\n",
       "            <tr>\n",
       "                        <th id=\"T_c8629_level0_row5\" class=\"row_heading level0 row5\" >05</th>\n",
       "                        <td id=\"T_c8629_row5_col0\" class=\"data row5 col0\" >18,732</td>\n",
       "            </tr>\n",
       "            <tr>\n",
       "                        <th id=\"T_c8629_level0_row6\" class=\"row_heading level0 row6\" >06</th>\n",
       "                        <td id=\"T_c8629_row6_col0\" class=\"data row6 col0\" >25,905</td>\n",
       "            </tr>\n",
       "            <tr>\n",
       "                        <th id=\"T_c8629_level0_row7\" class=\"row_heading level0 row7\" >07</th>\n",
       "                        <td id=\"T_c8629_row7_col0\" class=\"data row7 col0\" >10,444</td>\n",
       "            </tr>\n",
       "            <tr>\n",
       "                        <th id=\"T_c8629_level0_row8\" class=\"row_heading level0 row8\" >08</th>\n",
       "                        <td id=\"T_c8629_row8_col0\" class=\"data row8 col0\" >8,145</td>\n",
       "            </tr>\n",
       "            <tr>\n",
       "                        <th id=\"T_c8629_level0_row9\" class=\"row_heading level0 row9\" >09</th>\n",
       "                        <td id=\"T_c8629_row9_col0\" class=\"data row9 col0\" >16,866</td>\n",
       "            </tr>\n",
       "            <tr>\n",
       "                        <th id=\"T_c8629_level0_row10\" class=\"row_heading level0 row10\" >10</th>\n",
       "                        <td id=\"T_c8629_row10_col0\" class=\"data row10 col0\" >15,345</td>\n",
       "            </tr>\n",
       "            <tr>\n",
       "                        <th id=\"T_c8629_level0_row11\" class=\"row_heading level0 row11\" >11</th>\n",
       "                        <td id=\"T_c8629_row11_col0\" class=\"data row11 col0\" >6,750</td>\n",
       "            </tr>\n",
       "            <tr>\n",
       "                        <th id=\"T_c8629_level0_row12\" class=\"row_heading level0 row12\" >15</th>\n",
       "                        <td id=\"T_c8629_row12_col0\" class=\"data row12 col0\" >0</td>\n",
       "            </tr>\n",
       "            <tr>\n",
       "                        <th id=\"T_c8629_level0_row13\" class=\"row_heading level0 row13\" >16</th>\n",
       "                        <td id=\"T_c8629_row13_col0\" class=\"data row13 col0\" >2,508</td>\n",
       "            </tr>\n",
       "            <tr>\n",
       "                        <th id=\"T_c8629_level0_row14\" class=\"row_heading level0 row14\" >17</th>\n",
       "                        <td id=\"T_c8629_row14_col0\" class=\"data row14 col0\" >0</td>\n",
       "            </tr>\n",
       "            <tr>\n",
       "                        <th id=\"T_c8629_level0_row15\" class=\"row_heading level0 row15\" >18</th>\n",
       "                        <td id=\"T_c8629_row15_col0\" class=\"data row15 col0\" >0</td>\n",
       "            </tr>\n",
       "            <tr>\n",
       "                        <th id=\"T_c8629_level0_row16\" class=\"row_heading level0 row16\" >19</th>\n",
       "                        <td id=\"T_c8629_row16_col0\" class=\"data row16 col0\" >260</td>\n",
       "            </tr>\n",
       "            <tr>\n",
       "                        <th id=\"T_c8629_level0_row17\" class=\"row_heading level0 row17\" >20</th>\n",
       "                        <td id=\"T_c8629_row17_col0\" class=\"data row17 col0\" >0</td>\n",
       "            </tr>\n",
       "            <tr>\n",
       "                        <th id=\"T_c8629_level0_row18\" class=\"row_heading level0 row18\" >21</th>\n",
       "                        <td id=\"T_c8629_row18_col0\" class=\"data row18 col0\" >0</td>\n",
       "            </tr>\n",
       "            <tr>\n",
       "                        <th id=\"T_c8629_level0_row19\" class=\"row_heading level0 row19\" >22</th>\n",
       "                        <td id=\"T_c8629_row19_col0\" class=\"data row19 col0\" >0</td>\n",
       "            </tr>\n",
       "            <tr>\n",
       "                        <th id=\"T_c8629_level0_row20\" class=\"row_heading level0 row20\" >24</th>\n",
       "                        <td id=\"T_c8629_row20_col0\" class=\"data row20 col0\" >0</td>\n",
       "            </tr>\n",
       "            <tr>\n",
       "                        <th id=\"T_c8629_level0_row21\" class=\"row_heading level0 row21\" >26</th>\n",
       "                        <td id=\"T_c8629_row21_col0\" class=\"data row21 col0\" >0</td>\n",
       "            </tr>\n",
       "            <tr>\n",
       "                        <th id=\"T_c8629_level0_row22\" class=\"row_heading level0 row22\" >27</th>\n",
       "                        <td id=\"T_c8629_row22_col0\" class=\"data row22 col0\" >0</td>\n",
       "            </tr>\n",
       "            <tr>\n",
       "                        <th id=\"T_c8629_level0_row23\" class=\"row_heading level0 row23\" >28</th>\n",
       "                        <td id=\"T_c8629_row23_col0\" class=\"data row23 col0\" >0</td>\n",
       "            </tr>\n",
       "            <tr>\n",
       "                        <th id=\"T_c8629_level0_row24\" class=\"row_heading level0 row24\" >29</th>\n",
       "                        <td id=\"T_c8629_row24_col0\" class=\"data row24 col0\" >0</td>\n",
       "            </tr>\n",
       "            <tr>\n",
       "                        <th id=\"T_c8629_level0_row25\" class=\"row_heading level0 row25\" >30</th>\n",
       "                        <td id=\"T_c8629_row25_col0\" class=\"data row25 col0\" >0</td>\n",
       "            </tr>\n",
       "            <tr>\n",
       "                        <th id=\"T_c8629_level0_row26\" class=\"row_heading level0 row26\" >31</th>\n",
       "                        <td id=\"T_c8629_row26_col0\" class=\"data row26 col0\" >0</td>\n",
       "            </tr>\n",
       "            <tr>\n",
       "                        <th id=\"T_c8629_level0_row27\" class=\"row_heading level0 row27\" >32</th>\n",
       "                        <td id=\"T_c8629_row27_col0\" class=\"data row27 col0\" >0</td>\n",
       "            </tr>\n",
       "            <tr>\n",
       "                        <th id=\"T_c8629_level0_row28\" class=\"row_heading level0 row28\" >33</th>\n",
       "                        <td id=\"T_c8629_row28_col0\" class=\"data row28 col0\" >0</td>\n",
       "            </tr>\n",
       "            <tr>\n",
       "                        <th id=\"T_c8629_level0_row29\" class=\"row_heading level0 row29\" >34</th>\n",
       "                        <td id=\"T_c8629_row29_col0\" class=\"data row29 col0\" >0</td>\n",
       "            </tr>\n",
       "            <tr>\n",
       "                        <th id=\"T_c8629_level0_row30\" class=\"row_heading level0 row30\" >35</th>\n",
       "                        <td id=\"T_c8629_row30_col0\" class=\"data row30 col0\" >0</td>\n",
       "            </tr>\n",
       "            <tr>\n",
       "                        <th id=\"T_c8629_level0_row31\" class=\"row_heading level0 row31\" >36</th>\n",
       "                        <td id=\"T_c8629_row31_col0\" class=\"data row31 col0\" >0</td>\n",
       "            </tr>\n",
       "            <tr>\n",
       "                        <th id=\"T_c8629_level0_row32\" class=\"row_heading level0 row32\" >37</th>\n",
       "                        <td id=\"T_c8629_row32_col0\" class=\"data row32 col0\" >0</td>\n",
       "            </tr>\n",
       "            <tr>\n",
       "                        <th id=\"T_c8629_level0_row33\" class=\"row_heading level0 row33\" >39</th>\n",
       "                        <td id=\"T_c8629_row33_col0\" class=\"data row33 col0\" >0</td>\n",
       "            </tr>\n",
       "            <tr>\n",
       "                        <th id=\"T_c8629_level0_row34\" class=\"row_heading level0 row34\" >40</th>\n",
       "                        <td id=\"T_c8629_row34_col0\" class=\"data row34 col0\" >0</td>\n",
       "            </tr>\n",
       "            <tr>\n",
       "                        <th id=\"T_c8629_level0_row35\" class=\"row_heading level0 row35\" >42</th>\n",
       "                        <td id=\"T_c8629_row35_col0\" class=\"data row35 col0\" >0</td>\n",
       "            </tr>\n",
       "            <tr>\n",
       "                        <th id=\"T_c8629_level0_row36\" class=\"row_heading level0 row36\" >43</th>\n",
       "                        <td id=\"T_c8629_row36_col0\" class=\"data row36 col0\" >0</td>\n",
       "            </tr>\n",
       "            <tr>\n",
       "                        <th id=\"T_c8629_level0_row37\" class=\"row_heading level0 row37\" >44</th>\n",
       "                        <td id=\"T_c8629_row37_col0\" class=\"data row37 col0\" >0</td>\n",
       "            </tr>\n",
       "    </tbody></table>"
      ],
      "text/plain": [
       "<pandas.io.formats.style.Styler at 0x20776e5e848>"
      ]
     },
     "execution_count": 16,
     "metadata": {},
     "output_type": "execute_result"
    }
   ],
   "source": [
    "# Parking costs by zone\n",
    "pd.pivot_table(df_parcels, index='ENS', columns='source', values='parkhr_p', aggfunc='sum').style.format('{:,.0f}')"
   ]
  },
  {
   "cell_type": "raw",
   "metadata": {},
   "source": [
    "#### RGC"
   ]
  },
  {
   "cell_type": "code",
   "execution_count": 8,
   "metadata": {},
   "outputs": [
    {
     "data": {
      "text/html": [
       "<style  type=\"text/css\" >\n",
       "</style><table id=\"T_ef545_\" ><thead>    <tr>        <th class=\"index_name level0\" >source</th>        <th class=\"col_heading level0 col0\" >current run</th>    </tr>    <tr>        <th class=\"index_name level0\" >GrowthCenterName</th>        <th class=\"blank\" ></th>    </tr></thead><tbody>\n",
       "                <tr>\n",
       "                        <th id=\"T_ef545_level0_row0\" class=\"row_heading level0 row0\" >Auburn</th>\n",
       "                        <td id=\"T_ef545_row0_col0\" class=\"data row0 col0\" >0</td>\n",
       "            </tr>\n",
       "            <tr>\n",
       "                        <th id=\"T_ef545_level0_row1\" class=\"row_heading level0 row1\" >Bellevue</th>\n",
       "                        <td id=\"T_ef545_row1_col0\" class=\"data row1 col0\" >40,039</td>\n",
       "            </tr>\n",
       "            <tr>\n",
       "                        <th id=\"T_ef545_level0_row2\" class=\"row_heading level0 row2\" >Bothell Canyon Park</th>\n",
       "                        <td id=\"T_ef545_row2_col0\" class=\"data row2 col0\" >0</td>\n",
       "            </tr>\n",
       "            <tr>\n",
       "                        <th id=\"T_ef545_level0_row3\" class=\"row_heading level0 row3\" >Bremerton</th>\n",
       "                        <td id=\"T_ef545_row3_col0\" class=\"data row3 col0\" >9,686</td>\n",
       "            </tr>\n",
       "            <tr>\n",
       "                        <th id=\"T_ef545_level0_row4\" class=\"row_heading level0 row4\" >Burien</th>\n",
       "                        <td id=\"T_ef545_row4_col0\" class=\"data row4 col0\" >0</td>\n",
       "            </tr>\n",
       "            <tr>\n",
       "                        <th id=\"T_ef545_level0_row5\" class=\"row_heading level0 row5\" >Everett</th>\n",
       "                        <td id=\"T_ef545_row5_col0\" class=\"data row5 col0\" >13,641</td>\n",
       "            </tr>\n",
       "            <tr>\n",
       "                        <th id=\"T_ef545_level0_row6\" class=\"row_heading level0 row6\" >Federal Way</th>\n",
       "                        <td id=\"T_ef545_row6_col0\" class=\"data row6 col0\" >0</td>\n",
       "            </tr>\n",
       "            <tr>\n",
       "                        <th id=\"T_ef545_level0_row7\" class=\"row_heading level0 row7\" >Greater Downtown Kirkland</th>\n",
       "                        <td id=\"T_ef545_row7_col0\" class=\"data row7 col0\" >0</td>\n",
       "            </tr>\n",
       "            <tr>\n",
       "                        <th id=\"T_ef545_level0_row8\" class=\"row_heading level0 row8\" >Issaquah</th>\n",
       "                        <td id=\"T_ef545_row8_col0\" class=\"data row8 col0\" >0</td>\n",
       "            </tr>\n",
       "            <tr>\n",
       "                        <th id=\"T_ef545_level0_row9\" class=\"row_heading level0 row9\" >Kent</th>\n",
       "                        <td id=\"T_ef545_row9_col0\" class=\"data row9 col0\" >0</td>\n",
       "            </tr>\n",
       "            <tr>\n",
       "                        <th id=\"T_ef545_level0_row10\" class=\"row_heading level0 row10\" >Kirkland Totem Lake</th>\n",
       "                        <td id=\"T_ef545_row10_col0\" class=\"data row10 col0\" >0</td>\n",
       "            </tr>\n",
       "            <tr>\n",
       "                        <th id=\"T_ef545_level0_row11\" class=\"row_heading level0 row11\" >Lakewood</th>\n",
       "                        <td id=\"T_ef545_row11_col0\" class=\"data row11 col0\" >0</td>\n",
       "            </tr>\n",
       "            <tr>\n",
       "                        <th id=\"T_ef545_level0_row12\" class=\"row_heading level0 row12\" >Lynnwood</th>\n",
       "                        <td id=\"T_ef545_row12_col0\" class=\"data row12 col0\" >0</td>\n",
       "            </tr>\n",
       "            <tr>\n",
       "                        <th id=\"T_ef545_level0_row13\" class=\"row_heading level0 row13\" >Not in RGC</th>\n",
       "                        <td id=\"T_ef545_row13_col0\" class=\"data row13 col0\" >17,664</td>\n",
       "            </tr>\n",
       "            <tr>\n",
       "                        <th id=\"T_ef545_level0_row14\" class=\"row_heading level0 row14\" >Puyallup Downtown</th>\n",
       "                        <td id=\"T_ef545_row14_col0\" class=\"data row14 col0\" >0</td>\n",
       "            </tr>\n",
       "            <tr>\n",
       "                        <th id=\"T_ef545_level0_row15\" class=\"row_heading level0 row15\" >Puyallup South Hill</th>\n",
       "                        <td id=\"T_ef545_row15_col0\" class=\"data row15 col0\" >0</td>\n",
       "            </tr>\n",
       "            <tr>\n",
       "                        <th id=\"T_ef545_level0_row16\" class=\"row_heading level0 row16\" >Redmond Downtown</th>\n",
       "                        <td id=\"T_ef545_row16_col0\" class=\"data row16 col0\" >0</td>\n",
       "            </tr>\n",
       "            <tr>\n",
       "                        <th id=\"T_ef545_level0_row17\" class=\"row_heading level0 row17\" >Redmond-Overlake</th>\n",
       "                        <td id=\"T_ef545_row17_col0\" class=\"data row17 col0\" >0</td>\n",
       "            </tr>\n",
       "            <tr>\n",
       "                        <th id=\"T_ef545_level0_row18\" class=\"row_heading level0 row18\" >Renton</th>\n",
       "                        <td id=\"T_ef545_row18_col0\" class=\"data row18 col0\" >0</td>\n",
       "            </tr>\n",
       "            <tr>\n",
       "                        <th id=\"T_ef545_level0_row19\" class=\"row_heading level0 row19\" >SeaTac</th>\n",
       "                        <td id=\"T_ef545_row19_col0\" class=\"data row19 col0\" >0</td>\n",
       "            </tr>\n",
       "            <tr>\n",
       "                        <th id=\"T_ef545_level0_row20\" class=\"row_heading level0 row20\" >Seattle Downtown</th>\n",
       "                        <td id=\"T_ef545_row20_col0\" class=\"data row20 col0\" >55,451</td>\n",
       "            </tr>\n",
       "            <tr>\n",
       "                        <th id=\"T_ef545_level0_row21\" class=\"row_heading level0 row21\" >Seattle First Hill/Capitol Hill</th>\n",
       "                        <td id=\"T_ef545_row21_col0\" class=\"data row21 col0\" >10,444</td>\n",
       "            </tr>\n",
       "            <tr>\n",
       "                        <th id=\"T_ef545_level0_row22\" class=\"row_heading level0 row22\" >Seattle Northgate</th>\n",
       "                        <td id=\"T_ef545_row22_col0\" class=\"data row22 col0\" >0</td>\n",
       "            </tr>\n",
       "            <tr>\n",
       "                        <th id=\"T_ef545_level0_row23\" class=\"row_heading level0 row23\" >Seattle South Lake Union</th>\n",
       "                        <td id=\"T_ef545_row23_col0\" class=\"data row23 col0\" >10,239</td>\n",
       "            </tr>\n",
       "            <tr>\n",
       "                        <th id=\"T_ef545_level0_row24\" class=\"row_heading level0 row24\" >Seattle University Community</th>\n",
       "                        <td id=\"T_ef545_row24_col0\" class=\"data row24 col0\" >14,578</td>\n",
       "            </tr>\n",
       "            <tr>\n",
       "                        <th id=\"T_ef545_level0_row25\" class=\"row_heading level0 row25\" >Seattle Uptown</th>\n",
       "                        <td id=\"T_ef545_row25_col0\" class=\"data row25 col0\" >8,690</td>\n",
       "            </tr>\n",
       "            <tr>\n",
       "                        <th id=\"T_ef545_level0_row26\" class=\"row_heading level0 row26\" >Silverdale</th>\n",
       "                        <td id=\"T_ef545_row26_col0\" class=\"data row26 col0\" >0</td>\n",
       "            </tr>\n",
       "            <tr>\n",
       "                        <th id=\"T_ef545_level0_row27\" class=\"row_heading level0 row27\" >Tacoma Downtown</th>\n",
       "                        <td id=\"T_ef545_row27_col0\" class=\"data row27 col0\" >21,715</td>\n",
       "            </tr>\n",
       "            <tr>\n",
       "                        <th id=\"T_ef545_level0_row28\" class=\"row_heading level0 row28\" >Tacoma Mall</th>\n",
       "                        <td id=\"T_ef545_row28_col0\" class=\"data row28 col0\" >0</td>\n",
       "            </tr>\n",
       "            <tr>\n",
       "                        <th id=\"T_ef545_level0_row29\" class=\"row_heading level0 row29\" >Tukwila</th>\n",
       "                        <td id=\"T_ef545_row29_col0\" class=\"data row29 col0\" >0</td>\n",
       "            </tr>\n",
       "            <tr>\n",
       "                        <th id=\"T_ef545_level0_row30\" class=\"row_heading level0 row30\" >University Place</th>\n",
       "                        <td id=\"T_ef545_row30_col0\" class=\"data row30 col0\" >0</td>\n",
       "            </tr>\n",
       "    </tbody></table>"
      ],
      "text/plain": [
       "<pandas.io.formats.style.Styler at 0x195a2df7308>"
      ]
     },
     "execution_count": 8,
     "metadata": {},
     "output_type": "execute_result"
    }
   ],
   "source": [
    "pd.pivot_table(df_parcels, index='GrowthCenterName', columns='source', values='parkhr_p', aggfunc='sum').style.format('{:,.0f}')"
   ]
  },
  {
   "cell_type": "raw",
   "metadata": {},
   "source": [
    ":::"
   ]
  },
  {
   "cell_type": "code",
   "execution_count": null,
   "metadata": {},
   "outputs": [],
   "source": []
  }
 ],
 "metadata": {
  "kernelspec": {
   "display_name": "summary",
   "language": "python",
   "name": "python3"
  },
  "language_info": {
   "codemirror_mode": {
    "name": "ipython",
    "version": 3
   },
   "file_extension": ".py",
   "mimetype": "text/x-python",
   "name": "python",
   "nbconvert_exporter": "python",
   "pygments_lexer": "ipython3",
   "version": "3.7.10"
  }
 },
 "nbformat": 4,
 "nbformat_minor": 2
}
