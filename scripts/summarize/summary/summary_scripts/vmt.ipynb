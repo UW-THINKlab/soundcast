{
 "cells": [
  {
   "cell_type": "raw",
   "metadata": {
    "vscode": {
     "languageId": "raw"
    }
   },
   "source": [
    "---\n",
    "title: \"Vehicle Miles Traveled (VMT)\"\n",
    "date: today\n",
    "---"
   ]
  },
  {
   "cell_type": "code",
   "execution_count": 1,
   "metadata": {
    "execution": {
     "iopub.execute_input": "2025-06-19T01:55:53.766007Z",
     "iopub.status.busy": "2025-06-19T01:55:53.765009Z",
     "iopub.status.idle": "2025-06-19T01:55:54.538032Z",
     "shell.execute_reply": "2025-06-19T01:55:54.538032Z"
    }
   },
   "outputs": [],
   "source": [
    "#| include: false\n",
    "\n",
    "import os\n",
    "import pandas as pd\n",
    "import numpy as np\n",
    "# import plotly.express as px\n",
    "import toml\n",
    "# import psrc_theme\n",
    "from pathlib import Path\n",
    "import summary_data\n",
    "\n",
    "# to show plotly figures in quarto HTML file\n",
    "# import plotly.io as pio\n",
    "# pio.renderers.default = \"plotly_mimetype+notebook_connected\"\n",
    "# pio.templates.default = \"simple_white+psrc_color\" # set plotly template\n",
    "\n",
    "config = summary_data.CONFIG\n",
    "all_runs = summary_data.ALL_RUNS"
   ]
  },
  {
   "cell_type": "code",
   "execution_count": 2,
   "metadata": {
    "execution": {
     "iopub.execute_input": "2025-06-19T01:55:54.543021Z",
     "iopub.status.busy": "2025-06-19T01:55:54.543021Z",
     "iopub.status.idle": "2025-06-19T01:56:08.007650Z",
     "shell.execute_reply": "2025-06-19T01:56:08.006650Z"
    }
   },
   "outputs": [
    {
     "name": "stderr",
     "output_type": "stream",
     "text": [
      "C:\\workspace\\sc_organize_summary_folder\\scripts\\summarize\\summary\\summary_scripts\\summary_data.py:86: FutureWarning: A value is trying to be set on a copy of a DataFrame or Series through chained assignment using an inplace method.\n",
      "The behavior will change in pandas 3.0. This inplace method will never work because the intermediate object on which we are setting values always behaves as a copy.\n",
      "\n",
      "For example, when doing 'df[col].method(value, inplace=True)', try using 'df.method({col: value}, inplace=True)' or df[col] = df[col].method(value) instead, to perform the operation inplace on the original object.\n",
      "\n",
      "\n",
      "  df[\"facility_type\"].fillna(\"Other\", inplace=True)\n",
      "C:\\workspace\\sc_organize_summary_folder\\scripts\\summarize\\summary\\summary_scripts\\summary_data.py:91: FutureWarning: A value is trying to be set on a copy of a DataFrame or Series through chained assignment using an inplace method.\n",
      "The behavior will change in pandas 3.0. This inplace method will never work because the intermediate object on which we are setting values always behaves as a copy.\n",
      "\n",
      "For example, when doing 'df[col].method(value, inplace=True)', try using 'df.method({col: value}, inplace=True)' or df[col] = df[col].method(value) instead, to perform the operation inplace on the original object.\n",
      "\n",
      "\n",
      "  df[\"county\"].fillna(\"Outside Region\", inplace=True)\n"
     ]
    }
   ],
   "source": [
    "# network summary: 'VMT','VHT','total_delay'\n",
    "df_network = summary_data.load_agg_data('network/network_results.csv')"
   ]
  },
  {
   "cell_type": "markdown",
   "metadata": {},
   "source": [
    "## County"
   ]
  },
  {
   "cell_type": "code",
   "execution_count": 3,
   "metadata": {
    "execution": {
     "iopub.execute_input": "2025-06-19T01:56:08.013635Z",
     "iopub.status.busy": "2025-06-19T01:56:08.012637Z",
     "iopub.status.idle": "2025-06-19T01:56:08.923986Z",
     "shell.execute_reply": "2025-06-19T01:56:08.923986Z"
    }
   },
   "outputs": [
    {
     "data": {
      "text/html": [
       "<style type=\"text/css\">\n",
       "</style>\n",
       "<table id=\"T_5891b\">\n",
       "  <thead>\n",
       "    <tr>\n",
       "      <th class=\"index_name level0\" >VMT by county</th>\n",
       "      <th id=\"T_5891b_level0_col0\" class=\"col_heading level0 col0\" >King</th>\n",
       "      <th id=\"T_5891b_level0_col1\" class=\"col_heading level0 col1\" >Kitsap</th>\n",
       "      <th id=\"T_5891b_level0_col2\" class=\"col_heading level0 col2\" >Pierce</th>\n",
       "      <th id=\"T_5891b_level0_col3\" class=\"col_heading level0 col3\" >Snohomish</th>\n",
       "      <th id=\"T_5891b_level0_col4\" class=\"col_heading level0 col4\" >Outside Region</th>\n",
       "      <th id=\"T_5891b_level0_col5\" class=\"col_heading level0 col5\" >Total</th>\n",
       "    </tr>\n",
       "    <tr>\n",
       "      <th class=\"index_name level0\" >source</th>\n",
       "      <th class=\"blank col0\" >&nbsp;</th>\n",
       "      <th class=\"blank col1\" >&nbsp;</th>\n",
       "      <th class=\"blank col2\" >&nbsp;</th>\n",
       "      <th class=\"blank col3\" >&nbsp;</th>\n",
       "      <th class=\"blank col4\" >&nbsp;</th>\n",
       "      <th class=\"blank col5\" >&nbsp;</th>\n",
       "    </tr>\n",
       "  </thead>\n",
       "  <tbody>\n",
       "    <tr>\n",
       "      <th id=\"T_5891b_level0_row0\" class=\"row_heading level0 row0\" >current run</th>\n",
       "      <td id=\"T_5891b_row0_col0\" class=\"data row0 col0\" >48,974,522</td>\n",
       "      <td id=\"T_5891b_row0_col1\" class=\"data row0 col1\" >5,232,824</td>\n",
       "      <td id=\"T_5891b_row0_col2\" class=\"data row0 col2\" >21,703,384</td>\n",
       "      <td id=\"T_5891b_row0_col3\" class=\"data row0 col3\" >19,419,325</td>\n",
       "      <td id=\"T_5891b_row0_col4\" class=\"data row0 col4\" >421,224</td>\n",
       "      <td id=\"T_5891b_row0_col5\" class=\"data row0 col5\" >95,751,281</td>\n",
       "    </tr>\n",
       "  </tbody>\n",
       "</table>\n"
      ],
      "text/plain": [
       "<pandas.io.formats.style.Styler at 0x24749263f90>"
      ]
     },
     "metadata": {},
     "output_type": "display_data"
    }
   ],
   "source": [
    "\n",
    "df = df_network.groupby(['source','county'])['VMT'].sum().\\\n",
    "        unstack('county').\\\n",
    "        rename_axis(columns={'county': 'VMT by county'})\n",
    "tab = df[['King','Kitsap','Pierce','Snohomish','Outside Region']].copy()\n",
    "tab['Total'] = tab.sum(axis=1)\n",
    "\n",
    "display(tab.style.format('{:,.0f}'))"
   ]
  },
  {
   "cell_type": "markdown",
   "metadata": {},
   "source": [
    "## Facility Type"
   ]
  },
  {
   "cell_type": "code",
   "execution_count": 4,
   "metadata": {
    "execution": {
     "iopub.execute_input": "2025-06-19T01:56:08.930963Z",
     "iopub.status.busy": "2025-06-19T01:56:08.928969Z",
     "iopub.status.idle": "2025-06-19T01:56:09.046174Z",
     "shell.execute_reply": "2025-06-19T01:56:09.045182Z"
    }
   },
   "outputs": [
    {
     "data": {
      "text/html": [
       "<style type=\"text/css\">\n",
       "</style>\n",
       "<table id=\"T_c8a09\">\n",
       "  <thead>\n",
       "    <tr>\n",
       "      <th class=\"index_name level0\" >VMT by facility type</th>\n",
       "      <th id=\"T_c8a09_level0_col0\" class=\"col_heading level0 col0\" >Arterial</th>\n",
       "      <th id=\"T_c8a09_level0_col1\" class=\"col_heading level0 col1\" >Connector</th>\n",
       "      <th id=\"T_c8a09_level0_col2\" class=\"col_heading level0 col2\" >Highway</th>\n",
       "      <th id=\"T_c8a09_level0_col3\" class=\"col_heading level0 col3\" >Total</th>\n",
       "    </tr>\n",
       "    <tr>\n",
       "      <th class=\"index_name level0\" >source</th>\n",
       "      <th class=\"blank col0\" >&nbsp;</th>\n",
       "      <th class=\"blank col1\" >&nbsp;</th>\n",
       "      <th class=\"blank col2\" >&nbsp;</th>\n",
       "      <th class=\"blank col3\" >&nbsp;</th>\n",
       "    </tr>\n",
       "  </thead>\n",
       "  <tbody>\n",
       "    <tr>\n",
       "      <th id=\"T_c8a09_level0_row0\" class=\"row_heading level0 row0\" >current run</th>\n",
       "      <td id=\"T_c8a09_row0_col0\" class=\"data row0 col0\" >42,207,954</td>\n",
       "      <td id=\"T_c8a09_row0_col1\" class=\"data row0 col1\" >6,953,181</td>\n",
       "      <td id=\"T_c8a09_row0_col2\" class=\"data row0 col2\" >46,525,425</td>\n",
       "      <td id=\"T_c8a09_row0_col3\" class=\"data row0 col3\" >95,686,560</td>\n",
       "    </tr>\n",
       "  </tbody>\n",
       "</table>\n"
      ],
      "text/plain": [
       "<pandas.io.formats.style.Styler at 0x24748c49950>"
      ]
     },
     "metadata": {},
     "output_type": "display_data"
    }
   ],
   "source": [
    "df = df_network.groupby(['source','facility_type'])['VMT'].sum().\\\n",
    "        unstack('facility_type').\\\n",
    "        rename_axis(columns={'facility_type': 'VMT by facility type'}).\\\n",
    "        drop(columns='Other')\n",
    "df['Total'] = df.sum(axis=1)\n",
    "\n",
    "display(df.style.format('{:,.0f}'))"
   ]
  },
  {
   "cell_type": "markdown",
   "metadata": {},
   "source": [
    "## Period"
   ]
  },
  {
   "cell_type": "code",
   "execution_count": 5,
   "metadata": {
    "execution": {
     "iopub.execute_input": "2025-06-19T01:56:09.051703Z",
     "iopub.status.busy": "2025-06-19T01:56:09.050706Z",
     "iopub.status.idle": "2025-06-19T01:56:09.181796Z",
     "shell.execute_reply": "2025-06-19T01:56:09.180803Z"
    }
   },
   "outputs": [
    {
     "data": {
      "text/html": [
       "<style type=\"text/css\">\n",
       "</style>\n",
       "<table id=\"T_d5d2d\">\n",
       "  <thead>\n",
       "    <tr>\n",
       "      <th class=\"index_name level0\" >VMT by time of day</th>\n",
       "      <th id=\"T_d5d2d_level0_col0\" class=\"col_heading level0 col0\" >AM</th>\n",
       "      <th id=\"T_d5d2d_level0_col1\" class=\"col_heading level0 col1\" >Evening</th>\n",
       "      <th id=\"T_d5d2d_level0_col2\" class=\"col_heading level0 col2\" >Mid-Day</th>\n",
       "      <th id=\"T_d5d2d_level0_col3\" class=\"col_heading level0 col3\" >Night</th>\n",
       "      <th id=\"T_d5d2d_level0_col4\" class=\"col_heading level0 col4\" >PM</th>\n",
       "      <th id=\"T_d5d2d_level0_col5\" class=\"col_heading level0 col5\" >Total</th>\n",
       "    </tr>\n",
       "    <tr>\n",
       "      <th class=\"index_name level0\" >source</th>\n",
       "      <th class=\"blank col0\" >&nbsp;</th>\n",
       "      <th class=\"blank col1\" >&nbsp;</th>\n",
       "      <th class=\"blank col2\" >&nbsp;</th>\n",
       "      <th class=\"blank col3\" >&nbsp;</th>\n",
       "      <th class=\"blank col4\" >&nbsp;</th>\n",
       "      <th class=\"blank col5\" >&nbsp;</th>\n",
       "    </tr>\n",
       "  </thead>\n",
       "  <tbody>\n",
       "    <tr>\n",
       "      <th id=\"T_d5d2d_level0_row0\" class=\"row_heading level0 row0\" >current run</th>\n",
       "      <td id=\"T_d5d2d_row0_col0\" class=\"data row0 col0\" >20,969,739</td>\n",
       "      <td id=\"T_d5d2d_row0_col1\" class=\"data row0 col1\" >9,743,412</td>\n",
       "      <td id=\"T_d5d2d_row0_col2\" class=\"data row0 col2\" >33,566,230</td>\n",
       "      <td id=\"T_d5d2d_row0_col3\" class=\"data row0 col3\" >10,407,461</td>\n",
       "      <td id=\"T_d5d2d_row0_col4\" class=\"data row0 col4\" >21,064,439</td>\n",
       "      <td id=\"T_d5d2d_row0_col5\" class=\"data row0 col5\" >95,751,281</td>\n",
       "    </tr>\n",
       "  </tbody>\n",
       "</table>\n"
      ],
      "text/plain": [
       "<pandas.io.formats.style.Styler at 0x24767e8a1d0>"
      ]
     },
     "metadata": {},
     "output_type": "display_data"
    }
   ],
   "source": [
    "df = df_network.groupby(['source','tod_period'])['VMT'].sum().\\\n",
    "        unstack('tod_period').\\\n",
    "        rename_axis(columns={'tod_period': 'VMT by time of day'})\n",
    "df['Total'] = df.sum(axis=1)\n",
    "\n",
    "display(df.style.format('{:,.0f}'))"
   ]
  }
 ],
 "metadata": {
  "kernelspec": {
   "display_name": "build_notebook",
   "language": "python",
   "name": "python3"
  },
  "language_info": {
   "codemirror_mode": {
    "name": "ipython",
    "version": 3
   },
   "file_extension": ".py",
   "mimetype": "text/x-python",
   "name": "python",
   "nbconvert_exporter": "python",
   "pygments_lexer": "ipython3",
   "version": "3.11.12"
  }
 },
 "nbformat": 4,
 "nbformat_minor": 2
}
