{
 "cells": [
  {
   "cell_type": "raw",
   "metadata": {
    "vscode": {
     "languageId": "raw"
    }
   },
   "source": [
    "---\n",
    "title: \"Vehicle Miles Traveled (VMT)\"\n",
    "date: today\n",
    "---"
   ]
  },
  {
   "cell_type": "code",
   "execution_count": 1,
   "metadata": {
    "execution": {
     "iopub.execute_input": "2024-10-25T20:29:47.748188Z",
     "iopub.status.busy": "2024-10-25T20:29:47.746194Z",
     "iopub.status.idle": "2024-10-25T20:29:50.558323Z",
     "shell.execute_reply": "2024-10-25T20:29:50.557325Z"
    }
   },
   "outputs": [],
   "source": [
    "import os\n",
    "import pandas as pd\n",
    "import numpy as np\n",
    "# import plotly.express as px\n",
    "import toml\n",
    "# import psrc_theme\n",
    "from pathlib import Path\n",
    "import util\n",
    "\n",
    "# to show plotly figures in quarto HTML file\n",
    "# import plotly.io as pio\n",
    "# pio.renderers.default = \"plotly_mimetype+notebook_connected\"\n",
    "# pio.templates.default = \"simple_white+psrc_color\" # set plotly template\n",
    "\n",
    "# read all summary data files\n",
    "# get shared data: run topsheet.ipynb first\n",
    "%store -r summary_data\n",
    "\n",
    "config = summary_data.config.copy()\n",
    "df_network = summary_data.network_summary.copy()"
   ]
  },
  {
   "cell_type": "code",
   "execution_count": 2,
   "metadata": {
    "execution": {
     "iopub.execute_input": "2024-10-25T20:29:50.571288Z",
     "iopub.status.busy": "2024-10-25T20:29:50.569293Z",
     "iopub.status.idle": "2024-10-25T20:29:50.591235Z",
     "shell.execute_reply": "2024-10-25T20:29:50.589240Z"
    }
   },
   "outputs": [],
   "source": [
    "def vmt_segment(group_var: str, group_title: str, order: list) -> pd.DataFrame:\n",
    "    df = df_network[[group_var,'VMT']].groupby(group_var).sum()\n",
    "    df.loc['Total',:] = df.sum()\n",
    "\n",
    "    df.index.names = [group_title]\n",
    "    df = df.reindex(index=order).reset_index()\n",
    "    df = df.style.format({'VMT':'{:,.0f}'}).hide(axis=\"index\")\n",
    "\n",
    "    return df"
   ]
  },
  {
   "cell_type": "markdown",
   "metadata": {},
   "source": [
    "## County"
   ]
  },
  {
   "cell_type": "code",
   "execution_count": 3,
   "metadata": {
    "execution": {
     "iopub.execute_input": "2024-10-25T20:29:50.602206Z",
     "iopub.status.busy": "2024-10-25T20:29:50.601209Z",
     "iopub.status.idle": "2024-10-25T20:29:51.926567Z",
     "shell.execute_reply": "2024-10-25T20:29:51.924695Z"
    }
   },
   "outputs": [
    {
     "data": {
      "text/html": [
       "<style type=\"text/css\">\n",
       "</style>\n",
       "<table id=\"T_d9c84\">\n",
       "  <thead>\n",
       "    <tr>\n",
       "      <th id=\"T_d9c84_level0_col0\" class=\"col_heading level0 col0\" >County</th>\n",
       "      <th id=\"T_d9c84_level0_col1\" class=\"col_heading level0 col1\" >VMT</th>\n",
       "    </tr>\n",
       "  </thead>\n",
       "  <tbody>\n",
       "    <tr>\n",
       "      <td id=\"T_d9c84_row0_col0\" class=\"data row0 col0\" >King</td>\n",
       "      <td id=\"T_d9c84_row0_col1\" class=\"data row0 col1\" >39,769,936</td>\n",
       "    </tr>\n",
       "    <tr>\n",
       "      <td id=\"T_d9c84_row1_col0\" class=\"data row1 col0\" >Kitsap</td>\n",
       "      <td id=\"T_d9c84_row1_col1\" class=\"data row1 col1\" >3,910,219</td>\n",
       "    </tr>\n",
       "    <tr>\n",
       "      <td id=\"T_d9c84_row2_col0\" class=\"data row2 col0\" >Pierce</td>\n",
       "      <td id=\"T_d9c84_row2_col1\" class=\"data row2 col1\" >16,573,613</td>\n",
       "    </tr>\n",
       "    <tr>\n",
       "      <td id=\"T_d9c84_row3_col0\" class=\"data row3 col0\" >Snohomish</td>\n",
       "      <td id=\"T_d9c84_row3_col1\" class=\"data row3 col1\" >14,235,525</td>\n",
       "    </tr>\n",
       "    <tr>\n",
       "      <td id=\"T_d9c84_row4_col0\" class=\"data row4 col0\" >Outside Region</td>\n",
       "      <td id=\"T_d9c84_row4_col1\" class=\"data row4 col1\" >305,650</td>\n",
       "    </tr>\n",
       "    <tr>\n",
       "      <td id=\"T_d9c84_row5_col0\" class=\"data row5 col0\" >Total</td>\n",
       "      <td id=\"T_d9c84_row5_col1\" class=\"data row5 col1\" >74,794,942</td>\n",
       "    </tr>\n",
       "  </tbody>\n",
       "</table>\n"
      ],
      "text/plain": [
       "<pandas.io.formats.style.Styler at 0x2f58b2ad900>"
      ]
     },
     "execution_count": 3,
     "metadata": {},
     "output_type": "execute_result"
    }
   ],
   "source": [
    "vmt_segment('county','County',['King','Kitsap','Pierce','Snohomish','Outside Region','Total'])"
   ]
  },
  {
   "cell_type": "markdown",
   "metadata": {},
   "source": [
    "## Facility Type"
   ]
  },
  {
   "cell_type": "code",
   "execution_count": 4,
   "metadata": {
    "execution": {
     "iopub.execute_input": "2024-10-25T20:29:51.937061Z",
     "iopub.status.busy": "2024-10-25T20:29:51.936064Z",
     "iopub.status.idle": "2024-10-25T20:29:52.021059Z",
     "shell.execute_reply": "2024-10-25T20:29:52.019064Z"
    }
   },
   "outputs": [
    {
     "data": {
      "text/html": [
       "<style type=\"text/css\">\n",
       "</style>\n",
       "<table id=\"T_d1395\">\n",
       "  <thead>\n",
       "    <tr>\n",
       "      <th id=\"T_d1395_level0_col0\" class=\"col_heading level0 col0\" >Facility Type</th>\n",
       "      <th id=\"T_d1395_level0_col1\" class=\"col_heading level0 col1\" >VMT</th>\n",
       "    </tr>\n",
       "  </thead>\n",
       "  <tbody>\n",
       "    <tr>\n",
       "      <td id=\"T_d1395_row0_col0\" class=\"data row0 col0\" >Arterial</td>\n",
       "      <td id=\"T_d1395_row0_col1\" class=\"data row0 col1\" >31,726,501</td>\n",
       "    </tr>\n",
       "    <tr>\n",
       "      <td id=\"T_d1395_row1_col0\" class=\"data row1 col0\" >Highway</td>\n",
       "      <td id=\"T_d1395_row1_col1\" class=\"data row1 col1\" >37,784,698</td>\n",
       "    </tr>\n",
       "    <tr>\n",
       "      <td id=\"T_d1395_row2_col0\" class=\"data row2 col0\" >Connector</td>\n",
       "      <td id=\"T_d1395_row2_col1\" class=\"data row2 col1\" >5,275,254</td>\n",
       "    </tr>\n",
       "    <tr>\n",
       "      <td id=\"T_d1395_row3_col0\" class=\"data row3 col0\" >Other</td>\n",
       "      <td id=\"T_d1395_row3_col1\" class=\"data row3 col1\" >8,489</td>\n",
       "    </tr>\n",
       "    <tr>\n",
       "      <td id=\"T_d1395_row4_col0\" class=\"data row4 col0\" >Total</td>\n",
       "      <td id=\"T_d1395_row4_col1\" class=\"data row4 col1\" >74,794,942</td>\n",
       "    </tr>\n",
       "  </tbody>\n",
       "</table>\n"
      ],
      "text/plain": [
       "<pandas.io.formats.style.Styler at 0x2f58b2adb40>"
      ]
     },
     "execution_count": 4,
     "metadata": {},
     "output_type": "execute_result"
    }
   ],
   "source": [
    "vmt_segment('facility_type','Facility Type',['Arterial','Highway','Connector','Other','Total'])"
   ]
  },
  {
   "cell_type": "markdown",
   "metadata": {},
   "source": [
    "## Period"
   ]
  },
  {
   "cell_type": "code",
   "execution_count": 5,
   "metadata": {
    "execution": {
     "iopub.execute_input": "2024-10-25T20:29:52.033027Z",
     "iopub.status.busy": "2024-10-25T20:29:52.031032Z",
     "iopub.status.idle": "2024-10-25T20:29:52.114633Z",
     "shell.execute_reply": "2024-10-25T20:29:52.112639Z"
    }
   },
   "outputs": [
    {
     "data": {
      "text/html": [
       "<style type=\"text/css\">\n",
       "</style>\n",
       "<table id=\"T_aa91f\">\n",
       "  <thead>\n",
       "    <tr>\n",
       "      <th id=\"T_aa91f_level0_col0\" class=\"col_heading level0 col0\" >Period</th>\n",
       "      <th id=\"T_aa91f_level0_col1\" class=\"col_heading level0 col1\" >VMT</th>\n",
       "    </tr>\n",
       "  </thead>\n",
       "  <tbody>\n",
       "    <tr>\n",
       "      <td id=\"T_aa91f_row0_col0\" class=\"data row0 col0\" >AM</td>\n",
       "      <td id=\"T_aa91f_row0_col1\" class=\"data row0 col1\" >17,761,343</td>\n",
       "    </tr>\n",
       "    <tr>\n",
       "      <td id=\"T_aa91f_row1_col0\" class=\"data row1 col0\" >Mid-Day</td>\n",
       "      <td id=\"T_aa91f_row1_col1\" class=\"data row1 col1\" >25,357,178</td>\n",
       "    </tr>\n",
       "    <tr>\n",
       "      <td id=\"T_aa91f_row2_col0\" class=\"data row2 col0\" >PM</td>\n",
       "      <td id=\"T_aa91f_row2_col1\" class=\"data row2 col1\" >17,631,282</td>\n",
       "    </tr>\n",
       "    <tr>\n",
       "      <td id=\"T_aa91f_row3_col0\" class=\"data row3 col0\" >Evening</td>\n",
       "      <td id=\"T_aa91f_row3_col1\" class=\"data row3 col1\" >8,940,752</td>\n",
       "    </tr>\n",
       "    <tr>\n",
       "      <td id=\"T_aa91f_row4_col0\" class=\"data row4 col0\" >Night</td>\n",
       "      <td id=\"T_aa91f_row4_col1\" class=\"data row4 col1\" >5,104,388</td>\n",
       "    </tr>\n",
       "    <tr>\n",
       "      <td id=\"T_aa91f_row5_col0\" class=\"data row5 col0\" >Total</td>\n",
       "      <td id=\"T_aa91f_row5_col1\" class=\"data row5 col1\" >74,794,942</td>\n",
       "    </tr>\n",
       "  </tbody>\n",
       "</table>\n"
      ],
      "text/plain": [
       "<pandas.io.formats.style.Styler at 0x2f7b7edbbb0>"
      ]
     },
     "execution_count": 5,
     "metadata": {},
     "output_type": "execute_result"
    }
   ],
   "source": [
    "vmt_segment('tod_period','Period',['AM','Mid-Day','PM','Evening','Night','Total'])"
   ]
  }
 ],
 "metadata": {
  "kernelspec": {
   "display_name": "build_notebook",
   "language": "python",
   "name": "python3"
  },
  "language_info": {
   "codemirror_mode": {
    "name": "ipython",
    "version": 3
   },
   "file_extension": ".py",
   "mimetype": "text/x-python",
   "name": "python",
   "nbconvert_exporter": "python",
   "pygments_lexer": "ipython3",
   "version": "3.10.15"
  }
 },
 "nbformat": 4,
 "nbformat_minor": 2
}
