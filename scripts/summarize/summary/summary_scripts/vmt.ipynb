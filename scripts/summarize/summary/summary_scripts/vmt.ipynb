{
 "cells": [
  {
   "cell_type": "raw",
   "metadata": {
    "vscode": {
     "languageId": "raw"
    }
   },
   "source": [
    "---\n",
    "title: \"Vehicle Miles Traveled (VMT)\"\n",
    "date: today\n",
    "---"
   ]
  },
  {
   "cell_type": "code",
   "execution_count": 1,
   "metadata": {
    "execution": {
     "iopub.execute_input": "2025-03-01T07:00:15.066334Z",
     "iopub.status.busy": "2025-03-01T07:00:15.064339Z",
     "iopub.status.idle": "2025-03-01T07:00:16.317633Z",
     "shell.execute_reply": "2025-03-01T07:00:16.314910Z"
    }
   },
   "outputs": [],
   "source": [
    "#| include: false\n",
    "\n",
    "import os\n",
    "import pandas as pd\n",
    "import numpy as np\n",
    "# import plotly.express as px\n",
    "import toml\n",
    "# import psrc_theme\n",
    "from pathlib import Path\n",
    "import summary_data\n",
    "\n",
    "# to show plotly figures in quarto HTML file\n",
    "# import plotly.io as pio\n",
    "# pio.renderers.default = \"plotly_mimetype+notebook_connected\"\n",
    "# pio.templates.default = \"simple_white+psrc_color\" # set plotly template\n",
    "\n",
    "config = summary_data.CONFIG\n",
    "all_runs = summary_data.ALL_RUNS"
   ]
  },
  {
   "cell_type": "code",
   "execution_count": 2,
   "metadata": {
    "execution": {
     "iopub.execute_input": "2025-03-01T07:00:16.329700Z",
     "iopub.status.busy": "2025-03-01T07:00:16.327700Z",
     "iopub.status.idle": "2025-03-01T07:00:47.683624Z",
     "shell.execute_reply": "2025-03-01T07:00:47.681994Z"
    }
   },
   "outputs": [],
   "source": [
    "# network summary: 'VMT','VHT','total_delay'\n",
    "df_network = summary_data.load_agg_data('network/network_results.csv')"
   ]
  },
  {
   "cell_type": "markdown",
   "metadata": {},
   "source": [
    "## County"
   ]
  },
  {
   "cell_type": "code",
   "execution_count": 3,
   "metadata": {
    "execution": {
     "iopub.execute_input": "2025-03-01T07:00:47.696589Z",
     "iopub.status.busy": "2025-03-01T07:00:47.694595Z",
     "iopub.status.idle": "2025-03-01T07:00:49.380453Z",
     "shell.execute_reply": "2025-03-01T07:00:49.378515Z"
    }
   },
   "outputs": [
    {
     "data": {
      "text/html": [
       "<style  type=\"text/css\" >\n",
       "</style><table id=\"T_08feb_\" ><thead>    <tr>        <th class=\"index_name level0\" >VMT by county</th>        <th class=\"col_heading level0 col0\" >King</th>        <th class=\"col_heading level0 col1\" >Kitsap</th>        <th class=\"col_heading level0 col2\" >Pierce</th>        <th class=\"col_heading level0 col3\" >Snohomish</th>        <th class=\"col_heading level0 col4\" >Outside Region</th>        <th class=\"col_heading level0 col5\" >Total</th>    </tr>    <tr>        <th class=\"index_name level0\" >source</th>        <th class=\"blank\" ></th>        <th class=\"blank\" ></th>        <th class=\"blank\" ></th>        <th class=\"blank\" ></th>        <th class=\"blank\" ></th>        <th class=\"blank\" ></th>    </tr></thead><tbody>\n",
       "                <tr>\n",
       "                        <th id=\"T_08feb_level0_row0\" class=\"row_heading level0 row0\" >current run</th>\n",
       "                        <td id=\"T_08feb_row0_col0\" class=\"data row0 col0\" >43,436,111</td>\n",
       "                        <td id=\"T_08feb_row0_col1\" class=\"data row0 col1\" >4,283,174</td>\n",
       "                        <td id=\"T_08feb_row0_col2\" class=\"data row0 col2\" >18,499,126</td>\n",
       "                        <td id=\"T_08feb_row0_col3\" class=\"data row0 col3\" >16,157,203</td>\n",
       "                        <td id=\"T_08feb_row0_col4\" class=\"data row0 col4\" >332,554</td>\n",
       "                        <td id=\"T_08feb_row0_col5\" class=\"data row0 col5\" >82,708,168</td>\n",
       "            </tr>\n",
       "    </tbody></table>"
      ],
      "text/plain": [
       "<pandas.io.formats.style.Styler at 0x260f390e508>"
      ]
     },
     "metadata": {},
     "output_type": "display_data"
    }
   ],
   "source": [
    "\n",
    "df = df_network.groupby(['source','county'])['VMT'].sum().\\\n",
    "        unstack('county').\\\n",
    "        rename_axis(columns={'county': 'VMT by county'})\n",
    "tab = df[['King','Kitsap','Pierce','Snohomish','Outside Region']].copy()\n",
    "tab['Total'] = tab.sum(axis=1)\n",
    "\n",
    "display(tab.style.format('{:,.0f}'))"
   ]
  },
  {
   "cell_type": "markdown",
   "metadata": {},
   "source": [
    "## Facility Type"
   ]
  },
  {
   "cell_type": "code",
   "execution_count": 4,
   "metadata": {
    "execution": {
     "iopub.execute_input": "2025-03-01T07:00:49.392421Z",
     "iopub.status.busy": "2025-03-01T07:00:49.391423Z",
     "iopub.status.idle": "2025-03-01T07:00:49.771901Z",
     "shell.execute_reply": "2025-03-01T07:00:49.769392Z"
    }
   },
   "outputs": [
    {
     "data": {
      "text/html": [
       "<style  type=\"text/css\" >\n",
       "</style><table id=\"T_43953_\" ><thead>    <tr>        <th class=\"index_name level0\" >VMT by facility type</th>        <th class=\"col_heading level0 col0\" >Arterial</th>        <th class=\"col_heading level0 col1\" >Connector</th>        <th class=\"col_heading level0 col2\" >Highway</th>        <th class=\"col_heading level0 col3\" >Total</th>    </tr>    <tr>        <th class=\"index_name level0\" >source</th>        <th class=\"blank\" ></th>        <th class=\"blank\" ></th>        <th class=\"blank\" ></th>        <th class=\"blank\" ></th>    </tr></thead><tbody>\n",
       "                <tr>\n",
       "                        <th id=\"T_43953_level0_row0\" class=\"row_heading level0 row0\" >current run</th>\n",
       "                        <td id=\"T_43953_row0_col0\" class=\"data row0 col0\" >36,286,463</td>\n",
       "                        <td id=\"T_43953_row0_col1\" class=\"data row0 col1\" >5,897,940</td>\n",
       "                        <td id=\"T_43953_row0_col2\" class=\"data row0 col2\" >40,518,918</td>\n",
       "                        <td id=\"T_43953_row0_col3\" class=\"data row0 col3\" >82,703,321</td>\n",
       "            </tr>\n",
       "    </tbody></table>"
      ],
      "text/plain": [
       "<pandas.io.formats.style.Styler at 0x260cd06d5c8>"
      ]
     },
     "metadata": {},
     "output_type": "display_data"
    }
   ],
   "source": [
    "df = df_network.groupby(['source','facility_type'])['VMT'].sum().\\\n",
    "        unstack('facility_type').\\\n",
    "        rename_axis(columns={'facility_type': 'VMT by facility type'}).\\\n",
    "        drop(columns='Other')\n",
    "df['Total'] = df.sum(axis=1)\n",
    "\n",
    "display(df.style.format('{:,.0f}'))"
   ]
  },
  {
   "cell_type": "markdown",
   "metadata": {},
   "source": [
    "## Period"
   ]
  },
  {
   "cell_type": "code",
   "execution_count": 5,
   "metadata": {
    "execution": {
     "iopub.execute_input": "2025-03-01T07:00:49.783869Z",
     "iopub.status.busy": "2025-03-01T07:00:49.781874Z",
     "iopub.status.idle": "2025-03-01T07:00:50.159857Z",
     "shell.execute_reply": "2025-03-01T07:00:50.157862Z"
    }
   },
   "outputs": [
    {
     "data": {
      "text/html": [
       "<style  type=\"text/css\" >\n",
       "</style><table id=\"T_1a12e_\" ><thead>    <tr>        <th class=\"index_name level0\" >VMT by time of day</th>        <th class=\"col_heading level0 col0\" >AM</th>        <th class=\"col_heading level0 col1\" >Evening</th>        <th class=\"col_heading level0 col2\" >Mid-Day</th>        <th class=\"col_heading level0 col3\" >Night</th>        <th class=\"col_heading level0 col4\" >PM</th>        <th class=\"col_heading level0 col5\" >Total</th>    </tr>    <tr>        <th class=\"index_name level0\" >source</th>        <th class=\"blank\" ></th>        <th class=\"blank\" ></th>        <th class=\"blank\" ></th>        <th class=\"blank\" ></th>        <th class=\"blank\" ></th>        <th class=\"blank\" ></th>    </tr></thead><tbody>\n",
       "                <tr>\n",
       "                        <th id=\"T_1a12e_level0_row0\" class=\"row_heading level0 row0\" >current run</th>\n",
       "                        <td id=\"T_1a12e_row0_col0\" class=\"data row0 col0\" >18,293,032</td>\n",
       "                        <td id=\"T_1a12e_row0_col1\" class=\"data row0 col1\" >8,343,955</td>\n",
       "                        <td id=\"T_1a12e_row0_col2\" class=\"data row0 col2\" >28,672,582</td>\n",
       "                        <td id=\"T_1a12e_row0_col3\" class=\"data row0 col3\" >8,727,931</td>\n",
       "                        <td id=\"T_1a12e_row0_col4\" class=\"data row0 col4\" >18,670,668</td>\n",
       "                        <td id=\"T_1a12e_row0_col5\" class=\"data row0 col5\" >82,708,168</td>\n",
       "            </tr>\n",
       "    </tbody></table>"
      ],
      "text/plain": [
       "<pandas.io.formats.style.Styler at 0x260cd0a70c8>"
      ]
     },
     "metadata": {},
     "output_type": "display_data"
    }
   ],
   "source": [
    "df = df_network.groupby(['source','tod_period'])['VMT'].sum().\\\n",
    "        unstack('tod_period').\\\n",
    "        rename_axis(columns={'tod_period': 'VMT by time of day'})\n",
    "df['Total'] = df.sum(axis=1)\n",
    "\n",
    "display(df.style.format('{:,.0f}'))"
   ]
  }
 ],
 "metadata": {
  "kernelspec": {
   "display_name": "build_notebook",
   "language": "python",
   "name": "python3"
  },
  "language_info": {
   "codemirror_mode": {
    "name": "ipython",
    "version": 3
   },
   "file_extension": ".py",
   "mimetype": "text/x-python",
   "name": "python",
   "nbconvert_exporter": "python",
   "pygments_lexer": "ipython3",
   "version": "3.7.10"
  }
 },
 "nbformat": 4,
 "nbformat_minor": 2
}
