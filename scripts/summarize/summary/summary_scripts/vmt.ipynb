{
 "cells": [
  {
   "cell_type": "raw",
   "metadata": {
    "vscode": {
     "languageId": "raw"
    }
   },
   "source": [
    "---\n",
    "title: \"Vehicle Miles Traveled (VMT)\"\n",
    "date: today\n",
    "---"
   ]
  },
  {
   "cell_type": "code",
   "execution_count": 1,
   "metadata": {
    "execution": {
     "iopub.execute_input": "2025-03-01T07:00:15.066334Z",
     "iopub.status.busy": "2025-03-01T07:00:15.064339Z",
     "iopub.status.idle": "2025-03-01T07:00:16.317633Z",
     "shell.execute_reply": "2025-03-01T07:00:16.314910Z"
    }
   },
   "outputs": [],
   "source": [
    "#| include: false\n",
    "\n",
    "import os\n",
    "import pandas as pd\n",
    "import numpy as np\n",
    "# import plotly.express as px\n",
    "import toml\n",
    "# import psrc_theme\n",
    "from pathlib import Path\n",
    "import summary_data\n",
    "\n",
    "# to show plotly figures in quarto HTML file\n",
    "# import plotly.io as pio\n",
    "# pio.renderers.default = \"plotly_mimetype+notebook_connected\"\n",
    "# pio.templates.default = \"simple_white+psrc_color\" # set plotly template\n",
    "\n",
    "config = summary_data.CONFIG\n",
    "all_runs = summary_data.ALL_RUNS"
   ]
  },
  {
   "cell_type": "code",
   "execution_count": 2,
   "metadata": {
    "execution": {
     "iopub.execute_input": "2025-03-01T07:00:16.329700Z",
     "iopub.status.busy": "2025-03-01T07:00:16.327700Z",
     "iopub.status.idle": "2025-03-01T07:00:47.683624Z",
     "shell.execute_reply": "2025-03-01T07:00:47.681994Z"
    }
   },
   "outputs": [],
   "source": [
    "# network summary: 'VMT','VHT','total_delay'\n",
    "df_network = summary_data.load_agg_data('network/network_results.csv')"
   ]
  },
  {
   "cell_type": "markdown",
   "metadata": {},
   "source": [
    "## County"
   ]
  },
  {
   "cell_type": "code",
   "execution_count": 3,
   "metadata": {
    "execution": {
     "iopub.execute_input": "2025-03-01T07:00:47.696589Z",
     "iopub.status.busy": "2025-03-01T07:00:47.694595Z",
     "iopub.status.idle": "2025-03-01T07:00:49.380453Z",
     "shell.execute_reply": "2025-03-01T07:00:49.378515Z"
    }
   },
   "outputs": [
    {
     "data": {
      "text/html": [
       "<style type=\"text/css\">\n",
       "</style>\n",
       "<table id=\"T_64e5d\">\n",
       "  <thead>\n",
       "    <tr>\n",
       "      <th class=\"index_name level0\" >VMT by county</th>\n",
       "      <th id=\"T_64e5d_level0_col0\" class=\"col_heading level0 col0\" >King</th>\n",
       "      <th id=\"T_64e5d_level0_col1\" class=\"col_heading level0 col1\" >Kitsap</th>\n",
       "      <th id=\"T_64e5d_level0_col2\" class=\"col_heading level0 col2\" >Pierce</th>\n",
       "      <th id=\"T_64e5d_level0_col3\" class=\"col_heading level0 col3\" >Snohomish</th>\n",
       "      <th id=\"T_64e5d_level0_col4\" class=\"col_heading level0 col4\" >Outside Region</th>\n",
       "      <th id=\"T_64e5d_level0_col5\" class=\"col_heading level0 col5\" >Total</th>\n",
       "    </tr>\n",
       "    <tr>\n",
       "      <th class=\"index_name level0\" >source</th>\n",
       "      <th class=\"blank col0\" >&nbsp;</th>\n",
       "      <th class=\"blank col1\" >&nbsp;</th>\n",
       "      <th class=\"blank col2\" >&nbsp;</th>\n",
       "      <th class=\"blank col3\" >&nbsp;</th>\n",
       "      <th class=\"blank col4\" >&nbsp;</th>\n",
       "      <th class=\"blank col5\" >&nbsp;</th>\n",
       "    </tr>\n",
       "  </thead>\n",
       "  <tbody>\n",
       "    <tr>\n",
       "      <th id=\"T_64e5d_level0_row0\" class=\"row_heading level0 row0\" >2023 base year</th>\n",
       "      <td id=\"T_64e5d_row0_col0\" class=\"data row0 col0\" >43,513,828</td>\n",
       "      <td id=\"T_64e5d_row0_col1\" class=\"data row0 col1\" >4,282,860</td>\n",
       "      <td id=\"T_64e5d_row0_col2\" class=\"data row0 col2\" >18,600,653</td>\n",
       "      <td id=\"T_64e5d_row0_col3\" class=\"data row0 col3\" >16,553,060</td>\n",
       "      <td id=\"T_64e5d_row0_col4\" class=\"data row0 col4\" >334,022</td>\n",
       "      <td id=\"T_64e5d_row0_col5\" class=\"data row0 col5\" >83,284,423</td>\n",
       "    </tr>\n",
       "    <tr>\n",
       "      <th id=\"T_64e5d_level0_row1\" class=\"row_heading level0 row1\" >2050</th>\n",
       "      <td id=\"T_64e5d_row1_col0\" class=\"data row1 col0\" >48,948,149</td>\n",
       "      <td id=\"T_64e5d_row1_col1\" class=\"data row1 col1\" >4,982,665</td>\n",
       "      <td id=\"T_64e5d_row1_col2\" class=\"data row1 col2\" >21,530,847</td>\n",
       "      <td id=\"T_64e5d_row1_col3\" class=\"data row1 col3\" >20,033,689</td>\n",
       "      <td id=\"T_64e5d_row1_col4\" class=\"data row1 col4\" >484,095</td>\n",
       "      <td id=\"T_64e5d_row1_col5\" class=\"data row1 col5\" >95,979,446</td>\n",
       "    </tr>\n",
       "    <tr>\n",
       "      <th id=\"T_64e5d_level0_row2\" class=\"row_heading level0 row2\" >2050 (no telecommute)</th>\n",
       "      <td id=\"T_64e5d_row2_col0\" class=\"data row2 col0\" >51,006,280</td>\n",
       "      <td id=\"T_64e5d_row2_col1\" class=\"data row2 col1\" >5,178,252</td>\n",
       "      <td id=\"T_64e5d_row2_col2\" class=\"data row2 col2\" >21,926,976</td>\n",
       "      <td id=\"T_64e5d_row2_col3\" class=\"data row2 col3\" >20,622,685</td>\n",
       "      <td id=\"T_64e5d_row2_col4\" class=\"data row2 col4\" >490,640</td>\n",
       "      <td id=\"T_64e5d_row2_col5\" class=\"data row2 col5\" >99,224,832</td>\n",
       "    </tr>\n",
       "  </tbody>\n",
       "</table>\n"
      ],
      "text/plain": [
       "<pandas.io.formats.style.Styler at 0x27832fbe320>"
      ]
     },
     "metadata": {},
     "output_type": "display_data"
    }
   ],
   "source": [
    "\n",
    "df = df_network.groupby(['source','county'])['VMT'].sum().\\\n",
    "        unstack('county').\\\n",
    "        rename_axis(columns={'county': 'VMT by county'})\n",
    "tab = df[['King','Kitsap','Pierce','Snohomish','Outside Region']].copy()\n",
    "tab['Total'] = tab.sum(axis=1)\n",
    "\n",
    "display(tab.style.format('{:,.0f}'))"
   ]
  },
  {
   "cell_type": "markdown",
   "metadata": {},
   "source": [
    "## Facility Type"
   ]
  },
  {
   "cell_type": "code",
   "execution_count": 4,
   "metadata": {
    "execution": {
     "iopub.execute_input": "2025-03-01T07:00:49.392421Z",
     "iopub.status.busy": "2025-03-01T07:00:49.391423Z",
     "iopub.status.idle": "2025-03-01T07:00:49.771901Z",
     "shell.execute_reply": "2025-03-01T07:00:49.769392Z"
    }
   },
   "outputs": [
    {
     "data": {
      "text/html": [
       "<style type=\"text/css\">\n",
       "</style>\n",
       "<table id=\"T_6861e\">\n",
       "  <thead>\n",
       "    <tr>\n",
       "      <th class=\"index_name level0\" >VMT by facility type</th>\n",
       "      <th id=\"T_6861e_level0_col0\" class=\"col_heading level0 col0\" >Arterial</th>\n",
       "      <th id=\"T_6861e_level0_col1\" class=\"col_heading level0 col1\" >Connector</th>\n",
       "      <th id=\"T_6861e_level0_col2\" class=\"col_heading level0 col2\" >Highway</th>\n",
       "      <th id=\"T_6861e_level0_col3\" class=\"col_heading level0 col3\" >Total</th>\n",
       "    </tr>\n",
       "    <tr>\n",
       "      <th class=\"index_name level0\" >source</th>\n",
       "      <th class=\"blank col0\" >&nbsp;</th>\n",
       "      <th class=\"blank col1\" >&nbsp;</th>\n",
       "      <th class=\"blank col2\" >&nbsp;</th>\n",
       "      <th class=\"blank col3\" >&nbsp;</th>\n",
       "    </tr>\n",
       "  </thead>\n",
       "  <tbody>\n",
       "    <tr>\n",
       "      <th id=\"T_6861e_level0_row0\" class=\"row_heading level0 row0\" >2023 base year</th>\n",
       "      <td id=\"T_6861e_row0_col0\" class=\"data row0 col0\" >36,535,907</td>\n",
       "      <td id=\"T_6861e_row0_col1\" class=\"data row0 col1\" >5,956,318</td>\n",
       "      <td id=\"T_6861e_row0_col2\" class=\"data row0 col2\" >40,792,198</td>\n",
       "      <td id=\"T_6861e_row0_col3\" class=\"data row0 col3\" >83,284,423</td>\n",
       "    </tr>\n",
       "    <tr>\n",
       "      <th id=\"T_6861e_level0_row1\" class=\"row_heading level0 row1\" >2050</th>\n",
       "      <td id=\"T_6861e_row1_col0\" class=\"data row1 col0\" >43,557,713</td>\n",
       "      <td id=\"T_6861e_row1_col1\" class=\"data row1 col1\" >6,667,014</td>\n",
       "      <td id=\"T_6861e_row1_col2\" class=\"data row1 col2\" >45,754,719</td>\n",
       "      <td id=\"T_6861e_row1_col3\" class=\"data row1 col3\" >95,979,446</td>\n",
       "    </tr>\n",
       "    <tr>\n",
       "      <th id=\"T_6861e_level0_row2\" class=\"row_heading level0 row2\" >2050 (no telecommute)</th>\n",
       "      <td id=\"T_6861e_row2_col0\" class=\"data row2 col0\" >45,322,789</td>\n",
       "      <td id=\"T_6861e_row2_col1\" class=\"data row2 col1\" >6,920,117</td>\n",
       "      <td id=\"T_6861e_row2_col2\" class=\"data row2 col2\" >46,981,927</td>\n",
       "      <td id=\"T_6861e_row2_col3\" class=\"data row2 col3\" >99,224,832</td>\n",
       "    </tr>\n",
       "  </tbody>\n",
       "</table>\n"
      ],
      "text/plain": [
       "<pandas.io.formats.style.Styler at 0x27832f53b20>"
      ]
     },
     "metadata": {},
     "output_type": "display_data"
    }
   ],
   "source": [
    "df = df_network.groupby(['source','facility_type'])['VMT'].sum().\\\n",
    "        unstack('facility_type').\\\n",
    "        rename_axis(columns={'facility_type': 'VMT by facility type'}).\\\n",
    "        drop(columns='Other')\n",
    "df['Total'] = df.sum(axis=1)\n",
    "\n",
    "display(df.style.format('{:,.0f}'))"
   ]
  },
  {
   "cell_type": "markdown",
   "metadata": {},
   "source": [
    "## Period"
   ]
  },
  {
   "cell_type": "code",
   "execution_count": 5,
   "metadata": {
    "execution": {
     "iopub.execute_input": "2025-03-01T07:00:49.783869Z",
     "iopub.status.busy": "2025-03-01T07:00:49.781874Z",
     "iopub.status.idle": "2025-03-01T07:00:50.159857Z",
     "shell.execute_reply": "2025-03-01T07:00:50.157862Z"
    }
   },
   "outputs": [
    {
     "data": {
      "text/html": [
       "<style type=\"text/css\">\n",
       "</style>\n",
       "<table id=\"T_2d195\">\n",
       "  <thead>\n",
       "    <tr>\n",
       "      <th class=\"index_name level0\" >VMT by time of day</th>\n",
       "      <th id=\"T_2d195_level0_col0\" class=\"col_heading level0 col0\" >AM</th>\n",
       "      <th id=\"T_2d195_level0_col1\" class=\"col_heading level0 col1\" >Evening</th>\n",
       "      <th id=\"T_2d195_level0_col2\" class=\"col_heading level0 col2\" >Mid-Day</th>\n",
       "      <th id=\"T_2d195_level0_col3\" class=\"col_heading level0 col3\" >Night</th>\n",
       "      <th id=\"T_2d195_level0_col4\" class=\"col_heading level0 col4\" >PM</th>\n",
       "      <th id=\"T_2d195_level0_col5\" class=\"col_heading level0 col5\" >Total</th>\n",
       "    </tr>\n",
       "    <tr>\n",
       "      <th class=\"index_name level0\" >source</th>\n",
       "      <th class=\"blank col0\" >&nbsp;</th>\n",
       "      <th class=\"blank col1\" >&nbsp;</th>\n",
       "      <th class=\"blank col2\" >&nbsp;</th>\n",
       "      <th class=\"blank col3\" >&nbsp;</th>\n",
       "      <th class=\"blank col4\" >&nbsp;</th>\n",
       "      <th class=\"blank col5\" >&nbsp;</th>\n",
       "    </tr>\n",
       "  </thead>\n",
       "  <tbody>\n",
       "    <tr>\n",
       "      <th id=\"T_2d195_level0_row0\" class=\"row_heading level0 row0\" >2023 base year</th>\n",
       "      <td id=\"T_2d195_row0_col0\" class=\"data row0 col0\" >18,891,150</td>\n",
       "      <td id=\"T_2d195_row0_col1\" class=\"data row0 col1\" >8,156,575</td>\n",
       "      <td id=\"T_2d195_row0_col2\" class=\"data row0 col2\" >28,897,214</td>\n",
       "      <td id=\"T_2d195_row0_col3\" class=\"data row0 col3\" >7,912,491</td>\n",
       "      <td id=\"T_2d195_row0_col4\" class=\"data row0 col4\" >19,426,993</td>\n",
       "      <td id=\"T_2d195_row0_col5\" class=\"data row0 col5\" >83,284,423</td>\n",
       "    </tr>\n",
       "    <tr>\n",
       "      <th id=\"T_2d195_level0_row1\" class=\"row_heading level0 row1\" >2050</th>\n",
       "      <td id=\"T_2d195_row1_col0\" class=\"data row1 col0\" >21,211,951</td>\n",
       "      <td id=\"T_2d195_row1_col1\" class=\"data row1 col1\" >9,506,899</td>\n",
       "      <td id=\"T_2d195_row1_col2\" class=\"data row1 col2\" >33,900,111</td>\n",
       "      <td id=\"T_2d195_row1_col3\" class=\"data row1 col3\" >9,278,249</td>\n",
       "      <td id=\"T_2d195_row1_col4\" class=\"data row1 col4\" >22,082,236</td>\n",
       "      <td id=\"T_2d195_row1_col5\" class=\"data row1 col5\" >95,979,446</td>\n",
       "    </tr>\n",
       "    <tr>\n",
       "      <th id=\"T_2d195_level0_row2\" class=\"row_heading level0 row2\" >2050 (no telecommute)</th>\n",
       "      <td id=\"T_2d195_row2_col0\" class=\"data row2 col0\" >22,107,307</td>\n",
       "      <td id=\"T_2d195_row2_col1\" class=\"data row2 col1\" >9,870,897</td>\n",
       "      <td id=\"T_2d195_row2_col2\" class=\"data row2 col2\" >34,800,552</td>\n",
       "      <td id=\"T_2d195_row2_col3\" class=\"data row2 col3\" >9,716,053</td>\n",
       "      <td id=\"T_2d195_row2_col4\" class=\"data row2 col4\" >22,730,024</td>\n",
       "      <td id=\"T_2d195_row2_col5\" class=\"data row2 col5\" >99,224,832</td>\n",
       "    </tr>\n",
       "  </tbody>\n",
       "</table>\n"
      ],
      "text/plain": [
       "<pandas.io.formats.style.Styler at 0x27832f53a60>"
      ]
     },
     "metadata": {},
     "output_type": "display_data"
    }
   ],
   "source": [
    "df = df_network.groupby(['source','tod_period'])['VMT'].sum().\\\n",
    "        unstack('tod_period').\\\n",
    "        rename_axis(columns={'tod_period': 'VMT by time of day'})\n",
    "df['Total'] = df.sum(axis=1)\n",
    "\n",
    "display(df.style.format('{:,.0f}'))"
   ]
  }
 ],
 "metadata": {
  "kernelspec": {
   "display_name": "build_notebook",
   "language": "python",
   "name": "python3"
  },
  "language_info": {
   "codemirror_mode": {
    "name": "ipython",
    "version": 3
   },
   "file_extension": ".py",
   "mimetype": "text/x-python",
   "name": "python",
   "nbconvert_exporter": "python",
   "pygments_lexer": "ipython3",
   "version": "3.10.15"
  }
 },
 "nbformat": 4,
 "nbformat_minor": 2
}
