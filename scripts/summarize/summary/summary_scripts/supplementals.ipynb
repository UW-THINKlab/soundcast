{
 "cells": [
  {
   "cell_type": "raw",
   "id": "7d1f02ad",
   "metadata": {
    "vscode": {
     "languageId": "raw"
    }
   },
   "source": [
    "---\n",
    "title: \"Supplementals\"\n",
    "date: today\n",
    "---"
   ]
  },
  {
   "cell_type": "raw",
   "id": "ea43586c",
   "metadata": {},
   "source": []
  },
  {
   "cell_type": "code",
   "execution_count": null,
   "id": "4a0eb340",
   "metadata": {},
   "outputs": [],
   "source": [
    "#| include: false\n",
    "\n",
    "import os\n",
    "import pandas as pd\n",
    "import numpy as np\n",
    "import sqlite3\n",
    "# import plotly.express as px\n",
    "import toml\n",
    "from pathlib import Path\n",
    "import summary_data\n",
    "\n",
    "config = summary_data.CONFIG\n",
    "all_runs = summary_data.ALL_RUNS\n",
    "input_config = summary_data.INPUT_CONFIG"
   ]
  },
  {
   "cell_type": "markdown",
   "id": "9f1619e0",
   "metadata": {},
   "source": [
    "## Parcel Updates\n",
    "Adding Military Jobs to Parcels"
   ]
  },
  {
   "cell_type": "markdown",
   "id": "f8635545",
   "metadata": {},
   "source": [
    "# create_ixxi_work_trips.py\n",
    "### Vehicle trips to/from JBLM zones by origin/destination "
   ]
  },
  {
   "cell_type": "code",
   "execution_count": 157,
   "id": "b21dd922",
   "metadata": {},
   "outputs": [
    {
     "data": {
      "text/html": [
       "<div>\n",
       "<style scoped>\n",
       "    .dataframe tbody tr th:only-of-type {\n",
       "        vertical-align: middle;\n",
       "    }\n",
       "\n",
       "    .dataframe tbody tr th {\n",
       "        vertical-align: top;\n",
       "    }\n",
       "\n",
       "    .dataframe thead th {\n",
       "        text-align: right;\n",
       "    }\n",
       "</style>\n",
       "<table border=\"1\" class=\"dataframe\">\n",
       "  <thead>\n",
       "    <tr style=\"text-align: right;\">\n",
       "      <th></th>\n",
       "      <th>trips_to_jblm</th>\n",
       "      <th>trips_from_jblm</th>\n",
       "      <th>trips_total</th>\n",
       "    </tr>\n",
       "  </thead>\n",
       "  <tbody>\n",
       "    <tr>\n",
       "      <th>3351</th>\n",
       "      <td>16,557</td>\n",
       "      <td>16,557</td>\n",
       "      <td>33,114</td>\n",
       "    </tr>\n",
       "    <tr>\n",
       "      <th>3070</th>\n",
       "      <td>10,975</td>\n",
       "      <td>10,975</td>\n",
       "      <td>21,950</td>\n",
       "    </tr>\n",
       "    <tr>\n",
       "      <th>3353</th>\n",
       "      <td>7,302</td>\n",
       "      <td>7,302</td>\n",
       "      <td>14,604</td>\n",
       "    </tr>\n",
       "    <tr>\n",
       "      <th>3355</th>\n",
       "      <td>7,162</td>\n",
       "      <td>7,162</td>\n",
       "      <td>14,325</td>\n",
       "    </tr>\n",
       "    <tr>\n",
       "      <th>3349</th>\n",
       "      <td>6,091</td>\n",
       "      <td>6,091</td>\n",
       "      <td>12,182</td>\n",
       "    </tr>\n",
       "    <tr>\n",
       "      <th>3350</th>\n",
       "      <td>2,944</td>\n",
       "      <td>2,944</td>\n",
       "      <td>5,889</td>\n",
       "    </tr>\n",
       "    <tr>\n",
       "      <th>3354</th>\n",
       "      <td>2,735</td>\n",
       "      <td>2,735</td>\n",
       "      <td>5,470</td>\n",
       "    </tr>\n",
       "    <tr>\n",
       "      <th>3352</th>\n",
       "      <td>1,561</td>\n",
       "      <td>1,561</td>\n",
       "      <td>3,123</td>\n",
       "    </tr>\n",
       "    <tr>\n",
       "      <th>3346</th>\n",
       "      <td>1,180</td>\n",
       "      <td>1,180</td>\n",
       "      <td>2,361</td>\n",
       "    </tr>\n",
       "    <tr>\n",
       "      <th>3356</th>\n",
       "      <td>984</td>\n",
       "      <td>984</td>\n",
       "      <td>1,969</td>\n",
       "    </tr>\n",
       "    <tr>\n",
       "      <th>3061</th>\n",
       "      <td>858</td>\n",
       "      <td>858</td>\n",
       "      <td>1,717</td>\n",
       "    </tr>\n",
       "    <tr>\n",
       "      <th>3348</th>\n",
       "      <td>279</td>\n",
       "      <td>279</td>\n",
       "      <td>559</td>\n",
       "    </tr>\n",
       "    <tr>\n",
       "      <th>Total</th>\n",
       "      <td>58,634</td>\n",
       "      <td>58,634</td>\n",
       "      <td>117,268</td>\n",
       "    </tr>\n",
       "  </tbody>\n",
       "</table>\n",
       "</div>"
      ],
      "text/plain": [
       "      trips_to_jblm trips_from_jblm trips_total\n",
       "3351         16,557          16,557      33,114\n",
       "3070         10,975          10,975      21,950\n",
       "3353          7,302           7,302      14,604\n",
       "3355          7,162           7,162      14,325\n",
       "3349          6,091           6,091      12,182\n",
       "3350          2,944           2,944       5,889\n",
       "3354          2,735           2,735       5,470\n",
       "3352          1,561           1,561       3,123\n",
       "3346          1,180           1,180       2,361\n",
       "3356            984             984       1,969\n",
       "3061            858             858       1,717\n",
       "3348            279             279         559\n",
       "Total        58,634          58,634     117,268"
      ]
     },
     "execution_count": 157,
     "metadata": {},
     "output_type": "execute_result"
    }
   ],
   "source": [
    "df = pd.DataFrame(results_df[jblm_taz_list].sum(), columns=['trips_to_jblm'])\n",
    "df_from = pd.DataFrame(results_df.loc[jblm_taz_list].sum(axis=1), columns=['trips_from_jblm'])\n",
    "df = df.merge(df_from, left_index=True, right_index=True, how='outer')\n",
    "\n",
    "# Display with commas and as integer\n",
    "df = df.sort_values(by='trips_from_jblm', ascending=False)\n",
    "df['trips_total'] = df['trips_to_jblm'] + df['trips_from_jblm']\n",
    "df.loc['Total'] = df.sum(numeric_only=True)\n",
    "for col in df.columns:\n",
    "    df[col] = df[col].apply(lambda x: f\"{int(x):,}\")\n",
    "\n",
    "df\n"
   ]
  },
  {
   "cell_type": "code",
   "execution_count": null,
   "id": "3742ae11",
   "metadata": {},
   "outputs": [
    {
     "data": {
      "text/plain": [
       "np.float64(83916.24721269442)"
      ]
     },
     "execution_count": 164,
     "metadata": {},
     "output_type": "execute_result"
    }
   ],
   "source": [
    "# Total trips from external stations\n",
    "results_df[3700:].sum().sum()"
   ]
  },
  {
   "cell_type": "code",
   "execution_count": 166,
   "id": "c6147df3",
   "metadata": {},
   "outputs": [
    {
     "data": {
      "text/plain": [
       "np.float64(83927.1946450092)"
      ]
     },
     "execution_count": 166,
     "metadata": {},
     "output_type": "execute_result"
    }
   ],
   "source": [
    "# Total trips to external stations\n",
    "results_df.loc[3700:].sum().sum()"
   ]
  },
  {
   "cell_type": "markdown",
   "id": "0a166df5",
   "metadata": {},
   "source": [
    "#### Daysim IXXI File\n",
    "\n",
    "This file in generated in create_ixxi_work_trips.py and specifies what share of each zone to exclude from DaySim Work Location model\n",
    "\n",
    "Within JBLM area, Jobs_XIFrac should be 1 because we are using the exogenous data for work flows in these zones\n",
    "If Jobs_XIFrac == 1 then Daysim will not send workers to jobs in these zones\n",
    "\n",
    "Worker_IXFrac is not equal to 1 because workers in the synthetic population for these areas \n",
    "may have jobs outside the base area (family members of enlisted)\n"
   ]
  },
  {
   "cell_type": "code",
   "execution_count": 84,
   "id": "c5dc6101",
   "metadata": {},
   "outputs": [
    {
     "data": {
      "text/html": [
       "<div>\n",
       "<style scoped>\n",
       "    .dataframe tbody tr th:only-of-type {\n",
       "        vertical-align: middle;\n",
       "    }\n",
       "\n",
       "    .dataframe tbody tr th {\n",
       "        vertical-align: top;\n",
       "    }\n",
       "\n",
       "    .dataframe thead th {\n",
       "        text-align: right;\n",
       "    }\n",
       "</style>\n",
       "<table border=\"1\" class=\"dataframe\">\n",
       "  <thead>\n",
       "    <tr style=\"text-align: right;\">\n",
       "      <th></th>\n",
       "      <th>taz</th>\n",
       "      <th>Worker_IXFrac</th>\n",
       "      <th>Jobs_XIFrac</th>\n",
       "    </tr>\n",
       "  </thead>\n",
       "  <tbody>\n",
       "    <tr>\n",
       "      <th>3060</th>\n",
       "      <td>3061</td>\n",
       "      <td>0.011</td>\n",
       "      <td>1.0</td>\n",
       "    </tr>\n",
       "    <tr>\n",
       "      <th>3069</th>\n",
       "      <td>3070</td>\n",
       "      <td>1.000</td>\n",
       "      <td>1.0</td>\n",
       "    </tr>\n",
       "    <tr>\n",
       "      <th>3345</th>\n",
       "      <td>3346</td>\n",
       "      <td>0.000</td>\n",
       "      <td>1.0</td>\n",
       "    </tr>\n",
       "    <tr>\n",
       "      <th>3347</th>\n",
       "      <td>3348</td>\n",
       "      <td>0.010</td>\n",
       "      <td>1.0</td>\n",
       "    </tr>\n",
       "    <tr>\n",
       "      <th>3348</th>\n",
       "      <td>3349</td>\n",
       "      <td>0.006</td>\n",
       "      <td>1.0</td>\n",
       "    </tr>\n",
       "    <tr>\n",
       "      <th>3349</th>\n",
       "      <td>3350</td>\n",
       "      <td>0.083</td>\n",
       "      <td>1.0</td>\n",
       "    </tr>\n",
       "    <tr>\n",
       "      <th>3350</th>\n",
       "      <td>3351</td>\n",
       "      <td>1.000</td>\n",
       "      <td>1.0</td>\n",
       "    </tr>\n",
       "    <tr>\n",
       "      <th>3351</th>\n",
       "      <td>3352</td>\n",
       "      <td>0.024</td>\n",
       "      <td>1.0</td>\n",
       "    </tr>\n",
       "    <tr>\n",
       "      <th>3352</th>\n",
       "      <td>3353</td>\n",
       "      <td>0.965</td>\n",
       "      <td>1.0</td>\n",
       "    </tr>\n",
       "    <tr>\n",
       "      <th>3353</th>\n",
       "      <td>3354</td>\n",
       "      <td>0.000</td>\n",
       "      <td>1.0</td>\n",
       "    </tr>\n",
       "    <tr>\n",
       "      <th>3354</th>\n",
       "      <td>3355</td>\n",
       "      <td>0.066</td>\n",
       "      <td>1.0</td>\n",
       "    </tr>\n",
       "    <tr>\n",
       "      <th>3355</th>\n",
       "      <td>3356</td>\n",
       "      <td>0.000</td>\n",
       "      <td>1.0</td>\n",
       "    </tr>\n",
       "  </tbody>\n",
       "</table>\n",
       "</div>"
      ],
      "text/plain": [
       "       taz  Worker_IXFrac  Jobs_XIFrac\n",
       "3060  3061          0.011          1.0\n",
       "3069  3070          1.000          1.0\n",
       "3345  3346          0.000          1.0\n",
       "3347  3348          0.010          1.0\n",
       "3348  3349          0.006          1.0\n",
       "3349  3350          0.083          1.0\n",
       "3350  3351          1.000          1.0\n",
       "3351  3352          0.024          1.0\n",
       "3352  3353          0.965          1.0\n",
       "3353  3354          0.000          1.0\n",
       "3354  3355          0.066          1.0\n",
       "3355  3356          0.000          1.0"
      ]
     },
     "execution_count": 84,
     "metadata": {},
     "output_type": "execute_result"
    }
   ],
   "source": [
    "# Load ixxi fractions file and set column names\n",
    "\n",
    "df_ixxi = pd.read_csv(r\"../../../../outputs/landuse/psrc_worker_ixxifractions.dat\", sep='\\t', header=None)\n",
    "df_ixxi.columns = ['taz', 'Worker_IXFrac', 'Jobs_XIFrac']\n",
    "df_ixxi[df_ixxi['taz'].isin(jblm_taz_list)]"
   ]
  },
  {
   "cell_type": "markdown",
   "id": "1f524708",
   "metadata": {},
   "source": [
    "### Non-Work"
   ]
  },
  {
   "cell_type": "markdown",
   "id": "175a3ef1",
   "metadata": {},
   "source": [
    "Trip Generation"
   ]
  },
  {
   "cell_type": "code",
   "execution_count": 232,
   "id": "86e14cf2",
   "metadata": {},
   "outputs": [
    {
     "name": "stdout",
     "output_type": "stream",
     "text": [
      "Total productions from external zones: 75,111\n"
     ]
    }
   ],
   "source": [
    "# Productions from external zones\n",
    "df = pd.read_csv('../../../../outputs/supplemental/7_balance_trip_ends.csv')\n",
    "prods = int(df.loc[df['taz'] >= 3733, 'hsppro'].sum())\n",
    "print(f\"Total productions from external zones: {prods:,}\")\n"
   ]
  },
  {
   "cell_type": "code",
   "execution_count": 214,
   "id": "06f70b4f",
   "metadata": {},
   "outputs": [
    {
     "data": {
      "text/html": [
       "<div>\n",
       "<style scoped>\n",
       "    .dataframe tbody tr th:only-of-type {\n",
       "        vertical-align: middle;\n",
       "    }\n",
       "\n",
       "    .dataframe tbody tr th {\n",
       "        vertical-align: top;\n",
       "    }\n",
       "\n",
       "    .dataframe thead th {\n",
       "        text-align: right;\n",
       "    }\n",
       "</style>\n",
       "<table border=\"1\" class=\"dataframe\">\n",
       "  <thead>\n",
       "    <tr style=\"text-align: right;\">\n",
       "      <th></th>\n",
       "      <th>hsppro</th>\n",
       "    </tr>\n",
       "  </thead>\n",
       "  <tbody>\n",
       "    <tr>\n",
       "      <th>3069</th>\n",
       "      <td>1,392</td>\n",
       "    </tr>\n",
       "    <tr>\n",
       "      <th>3350</th>\n",
       "      <td>1,110</td>\n",
       "    </tr>\n",
       "    <tr>\n",
       "      <th>3349</th>\n",
       "      <td>1,031</td>\n",
       "    </tr>\n",
       "    <tr>\n",
       "      <th>3347</th>\n",
       "      <td>974</td>\n",
       "    </tr>\n",
       "    <tr>\n",
       "      <th>3351</th>\n",
       "      <td>832</td>\n",
       "    </tr>\n",
       "    <tr>\n",
       "      <th>3348</th>\n",
       "      <td>643</td>\n",
       "    </tr>\n",
       "    <tr>\n",
       "      <th>3060</th>\n",
       "      <td>426</td>\n",
       "    </tr>\n",
       "    <tr>\n",
       "      <th>3354</th>\n",
       "      <td>28</td>\n",
       "    </tr>\n",
       "    <tr>\n",
       "      <th>3352</th>\n",
       "      <td>18</td>\n",
       "    </tr>\n",
       "    <tr>\n",
       "      <th>3355</th>\n",
       "      <td>10</td>\n",
       "    </tr>\n",
       "    <tr>\n",
       "      <th>3345</th>\n",
       "      <td>0</td>\n",
       "    </tr>\n",
       "    <tr>\n",
       "      <th>3353</th>\n",
       "      <td>0</td>\n",
       "    </tr>\n",
       "    <tr>\n",
       "      <th>Total</th>\n",
       "      <td>6,468</td>\n",
       "    </tr>\n",
       "  </tbody>\n",
       "</table>\n",
       "</div>"
      ],
      "text/plain": [
       "      hsppro\n",
       "3069   1,392\n",
       "3350   1,110\n",
       "3349   1,031\n",
       "3347     974\n",
       "3351     832\n",
       "3348     643\n",
       "3060     426\n",
       "3354      28\n",
       "3352      18\n",
       "3355      10\n",
       "3345       0\n",
       "3353       0\n",
       "Total  6,468"
      ]
     },
     "execution_count": 214,
     "metadata": {},
     "output_type": "execute_result"
    }
   ],
   "source": [
    "# Trip Generation\n",
    "# for non-work trips\n",
    "df = pd.read_csv('../../../../outputs/supplemental/7_balance_trip_ends.csv')\n",
    "df = df[df['taz'].isin(jblm_taz_list)][['hsppro']].sort_values(by='hsppro', ascending=False)\n",
    "df.loc['Total'] = df.sum(numeric_only=True)\n",
    "# show with commas and as integer\n",
    "df['hsppro'] = df['hsppro'].apply(lambda x: f\"{int(x):,}\")\n",
    "# Create total row\n",
    "\n",
    "df"
   ]
  },
  {
   "cell_type": "markdown",
   "id": "6a41bc19",
   "metadata": {},
   "source": [
    "Trip Tables"
   ]
  }
 ],
 "metadata": {
  "kernelspec": {
   "display_name": "summary",
   "language": "python",
   "name": "python3"
  },
  "language_info": {
   "codemirror_mode": {
    "name": "ipython",
    "version": 3
   },
   "file_extension": ".py",
   "mimetype": "text/x-python",
   "name": "python",
   "nbconvert_exporter": "python",
   "pygments_lexer": "ipython3",
   "version": "3.11.12"
  }
 },
 "nbformat": 4,
 "nbformat_minor": 5
}
