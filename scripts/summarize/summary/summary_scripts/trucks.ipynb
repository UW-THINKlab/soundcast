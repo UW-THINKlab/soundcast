{
 "cells": [
  {
   "cell_type": "raw",
   "metadata": {
    "vscode": {
     "languageId": "raw"
    }
   },
   "source": [
    "---\n",
    "title: \"Truck Results\"\n",
    "date: today\n",
    "---"
   ]
  },
  {
   "cell_type": "raw",
   "metadata": {},
   "source": []
  },
  {
   "cell_type": "code",
   "execution_count": null,
   "metadata": {
    "execution": {
     "iopub.execute_input": "2024-10-25T20:29:47.748188Z",
     "iopub.status.busy": "2024-10-25T20:29:47.746194Z",
     "iopub.status.idle": "2024-10-25T20:29:50.558323Z",
     "shell.execute_reply": "2024-10-25T20:29:50.557325Z"
    }
   },
   "outputs": [],
   "source": [
    "#| include: false\n",
    "\n",
    "import os\n",
    "import h5py\n",
    "import pandas as pd\n",
    "import numpy as np\n",
    "import toml\n",
    "from pathlib import Path\n",
    "import geopandas as gpd\n",
    "import summary_data\n",
    "\n",
    "config = summary_data.CONFIG\n",
    "all_runs = summary_data.ALL_RUNS"
   ]
  },
  {
   "cell_type": "code",
   "execution_count": null,
   "metadata": {},
   "outputs": [],
   "source": [
    "# network summary: 'VMT','VHT','total_delay'\n",
    "network = summary_data.load_agg_data('network/network_results.csv')\n",
    "# delay\n",
    "delay = summary_data.load_agg_data('network/delay_user_class.csv')"
   ]
  },
  {
   "cell_type": "code",
   "execution_count": null,
   "metadata": {},
   "outputs": [
    {
     "data": {
      "text/plain": [
       "66613.31"
      ]
     },
     "execution_count": 61,
     "metadata": {},
     "output_type": "execute_result"
    }
   ],
   "source": [
    "# truck_h5['am']['mf'+'am'+'_medtrk_trips'][:].sum()"
   ]
  },
  {
   "cell_type": "code",
   "execution_count": null,
   "metadata": {},
   "outputs": [],
   "source": [
    "# network \n",
    "df_network = network.copy()\n",
    "df_network['medium_truck_vmt'] = df_network['@mveh']*df_network['length']\n",
    "df_network['heavy_truck_vmt'] = df_network['@hveh']*df_network['length']\n",
    "df_network['truck_vmt'] = df_network['heavy_truck_vmt']+df_network['medium_truck_vmt']\n",
    "\n",
    "# Results by Congestion Level\n",
    "df_network['speed'] = df_network['length']/df_network['auto_time']*60\n",
    "df_network['congestion_index'] = df_network['speed']/df_network['data2']\n",
    "df_network['congestion_index'] = df_network['congestion_index'].clip(0,1)\n",
    "df_network['congestion_category'] = pd.cut(df_network['congestion_index'], bins=[0,.25,.5,.7,1], labels=['Severe','Heavy','Moderate','Light'])\n",
    "\n",
    "# add order for county\n",
    "df_network[\"county\"] = pd.Categorical(df_network[\"county\"], categories = ['King', 'Snohomish', 'Pierce', 'Kitsap', 'Outside Region'], ordered=True)"
   ]
  },
  {
   "cell_type": "code",
   "execution_count": 33,
   "metadata": {},
   "outputs": [],
   "source": [
    "pd.options.display.float_format = '{:0,.0f}'.format"
   ]
  },
  {
   "cell_type": "markdown",
   "metadata": {},
   "source": [
    "## truck miles traveled"
   ]
  },
  {
   "cell_type": "code",
   "execution_count": 15,
   "metadata": {},
   "outputs": [
    {
     "data": {
      "text/html": [
       "<style type=\"text/css\">\n",
       "</style>\n",
       "<table id=\"T_2d239\">\n",
       "  <thead>\n",
       "    <tr>\n",
       "      <th class=\"blank level0\" >&nbsp;</th>\n",
       "      <th id=\"T_2d239_level0_col0\" class=\"col_heading level0 col0\" >all trucks</th>\n",
       "      <th id=\"T_2d239_level0_col1\" class=\"col_heading level0 col1\" >medium trucks</th>\n",
       "      <th id=\"T_2d239_level0_col2\" class=\"col_heading level0 col2\" >heavy trucks</th>\n",
       "      <th id=\"T_2d239_level0_col3\" class=\"col_heading level0 col3\" >Total</th>\n",
       "    </tr>\n",
       "    <tr>\n",
       "      <th class=\"index_name level0\" >source</th>\n",
       "      <th class=\"blank col0\" >&nbsp;</th>\n",
       "      <th class=\"blank col1\" >&nbsp;</th>\n",
       "      <th class=\"blank col2\" >&nbsp;</th>\n",
       "      <th class=\"blank col3\" >&nbsp;</th>\n",
       "    </tr>\n",
       "  </thead>\n",
       "  <tbody>\n",
       "    <tr>\n",
       "      <th id=\"T_2d239_level0_row0\" class=\"row_heading level0 row0\" >2023 base year</th>\n",
       "      <td id=\"T_2d239_row0_col0\" class=\"data row0 col0\" >6,310,148</td>\n",
       "      <td id=\"T_2d239_row0_col1\" class=\"data row0 col1\" >3,456,601</td>\n",
       "      <td id=\"T_2d239_row0_col2\" class=\"data row0 col2\" >2,853,547</td>\n",
       "      <td id=\"T_2d239_row0_col3\" class=\"data row0 col3\" >12,620,297</td>\n",
       "    </tr>\n",
       "    <tr>\n",
       "      <th id=\"T_2d239_level0_row1\" class=\"row_heading level0 row1\" >2050</th>\n",
       "      <td id=\"T_2d239_row1_col0\" class=\"data row1 col0\" >7,636,366</td>\n",
       "      <td id=\"T_2d239_row1_col1\" class=\"data row1 col1\" >3,811,855</td>\n",
       "      <td id=\"T_2d239_row1_col2\" class=\"data row1 col2\" >3,824,511</td>\n",
       "      <td id=\"T_2d239_row1_col3\" class=\"data row1 col3\" >15,272,731</td>\n",
       "    </tr>\n",
       "    <tr>\n",
       "      <th id=\"T_2d239_level0_row2\" class=\"row_heading level0 row2\" >2050 (no telecommute)</th>\n",
       "      <td id=\"T_2d239_row2_col0\" class=\"data row2 col0\" >7,691,204</td>\n",
       "      <td id=\"T_2d239_row2_col1\" class=\"data row2 col1\" >3,866,151</td>\n",
       "      <td id=\"T_2d239_row2_col2\" class=\"data row2 col2\" >3,825,053</td>\n",
       "      <td id=\"T_2d239_row2_col3\" class=\"data row2 col3\" >15,382,408</td>\n",
       "    </tr>\n",
       "  </tbody>\n",
       "</table>\n"
      ],
      "text/plain": [
       "<pandas.io.formats.style.Styler at 0x18cf12e80a0>"
      ]
     },
     "metadata": {},
     "output_type": "display_data"
    }
   ],
   "source": [
    "tab = df_network.groupby(['source'])[['truck_vmt','medium_truck_vmt','heavy_truck_vmt']].sum().\\\n",
    "        rename(columns={'truck_vmt': 'all trucks',\n",
    "                        'medium_truck_vmt': 'medium trucks',\n",
    "                        'heavy_truck_vmt': 'heavy trucks'})\n",
    "tab['Total'] = tab.sum(axis=1)\n",
    "\n",
    "display(tab.style.format('{:,.0f}'))"
   ]
  },
  {
   "cell_type": "raw",
   "metadata": {},
   "source": [
    ":::{.panel-tabset}\n",
    "\n",
    "### all trucks"
   ]
  },
  {
   "cell_type": "code",
   "execution_count": 26,
   "metadata": {},
   "outputs": [
    {
     "data": {
      "text/html": [
       "<style type=\"text/css\">\n",
       "</style>\n",
       "<table id=\"T_05748\">\n",
       "  <thead>\n",
       "    <tr>\n",
       "      <th class=\"index_name level0\" >Truck VMT by county</th>\n",
       "      <th id=\"T_05748_level0_col0\" class=\"col_heading level0 col0\" >King</th>\n",
       "      <th id=\"T_05748_level0_col1\" class=\"col_heading level0 col1\" >Snohomish</th>\n",
       "      <th id=\"T_05748_level0_col2\" class=\"col_heading level0 col2\" >Pierce</th>\n",
       "      <th id=\"T_05748_level0_col3\" class=\"col_heading level0 col3\" >Kitsap</th>\n",
       "      <th id=\"T_05748_level0_col4\" class=\"col_heading level0 col4\" >Outside Region</th>\n",
       "      <th id=\"T_05748_level0_col5\" class=\"col_heading level0 col5\" >Total</th>\n",
       "    </tr>\n",
       "    <tr>\n",
       "      <th class=\"index_name level0\" >source</th>\n",
       "      <th class=\"blank col0\" >&nbsp;</th>\n",
       "      <th class=\"blank col1\" >&nbsp;</th>\n",
       "      <th class=\"blank col2\" >&nbsp;</th>\n",
       "      <th class=\"blank col3\" >&nbsp;</th>\n",
       "      <th class=\"blank col4\" >&nbsp;</th>\n",
       "      <th class=\"blank col5\" >&nbsp;</th>\n",
       "    </tr>\n",
       "  </thead>\n",
       "  <tbody>\n",
       "    <tr>\n",
       "      <th id=\"T_05748_level0_row0\" class=\"row_heading level0 row0\" >2023 base year</th>\n",
       "      <td id=\"T_05748_row0_col0\" class=\"data row0 col0\" >3,632,964</td>\n",
       "      <td id=\"T_05748_row0_col1\" class=\"data row0 col1\" >1,192,997</td>\n",
       "      <td id=\"T_05748_row0_col2\" class=\"data row0 col2\" >1,200,370</td>\n",
       "      <td id=\"T_05748_row0_col3\" class=\"data row0 col3\" >258,097</td>\n",
       "      <td id=\"T_05748_row0_col4\" class=\"data row0 col4\" >25,721</td>\n",
       "      <td id=\"T_05748_row0_col5\" class=\"data row0 col5\" >6,310,148</td>\n",
       "    </tr>\n",
       "    <tr>\n",
       "      <th id=\"T_05748_level0_row1\" class=\"row_heading level0 row1\" >2050</th>\n",
       "      <td id=\"T_05748_row1_col0\" class=\"data row1 col0\" >4,352,853</td>\n",
       "      <td id=\"T_05748_row1_col1\" class=\"data row1 col1\" >1,499,573</td>\n",
       "      <td id=\"T_05748_row1_col2\" class=\"data row1 col2\" >1,456,986</td>\n",
       "      <td id=\"T_05748_row1_col3\" class=\"data row1 col3\" >281,949</td>\n",
       "      <td id=\"T_05748_row1_col4\" class=\"data row1 col4\" >45,005</td>\n",
       "      <td id=\"T_05748_row1_col5\" class=\"data row1 col5\" >7,636,366</td>\n",
       "    </tr>\n",
       "    <tr>\n",
       "      <th id=\"T_05748_level0_row2\" class=\"row_heading level0 row2\" >2050 (no telecommute)</th>\n",
       "      <td id=\"T_05748_row2_col0\" class=\"data row2 col0\" >4,370,892</td>\n",
       "      <td id=\"T_05748_row2_col1\" class=\"data row2 col1\" >1,502,572</td>\n",
       "      <td id=\"T_05748_row2_col2\" class=\"data row2 col2\" >1,470,978</td>\n",
       "      <td id=\"T_05748_row2_col3\" class=\"data row2 col3\" >301,376</td>\n",
       "      <td id=\"T_05748_row2_col4\" class=\"data row2 col4\" >45,386</td>\n",
       "      <td id=\"T_05748_row2_col5\" class=\"data row2 col5\" >7,691,204</td>\n",
       "    </tr>\n",
       "  </tbody>\n",
       "</table>\n"
      ],
      "text/plain": [
       "<pandas.io.formats.style.Styler at 0x18cb61d12d0>"
      ]
     },
     "metadata": {},
     "output_type": "display_data"
    }
   ],
   "source": [
    "tab = df_network.groupby(['source','county'])['truck_vmt'].sum().\\\n",
    "        reset_index().\\\n",
    "        pivot(index='source', columns='county')['truck_vmt'].\\\n",
    "        rename_axis(columns={'county': 'Truck VMT by county'})\n",
    "tab['Total'] = tab.sum(axis=1)\n",
    "\n",
    "display(tab.style.format('{:,.0f}'))"
   ]
  },
  {
   "cell_type": "raw",
   "metadata": {},
   "source": [
    "### medium trucks"
   ]
  },
  {
   "cell_type": "code",
   "execution_count": 27,
   "metadata": {},
   "outputs": [
    {
     "data": {
      "text/html": [
       "<style type=\"text/css\">\n",
       "</style>\n",
       "<table id=\"T_9bef5\">\n",
       "  <thead>\n",
       "    <tr>\n",
       "      <th class=\"index_name level0\" >Medium truck VMT by county</th>\n",
       "      <th id=\"T_9bef5_level0_col0\" class=\"col_heading level0 col0\" >King</th>\n",
       "      <th id=\"T_9bef5_level0_col1\" class=\"col_heading level0 col1\" >Snohomish</th>\n",
       "      <th id=\"T_9bef5_level0_col2\" class=\"col_heading level0 col2\" >Pierce</th>\n",
       "      <th id=\"T_9bef5_level0_col3\" class=\"col_heading level0 col3\" >Kitsap</th>\n",
       "      <th id=\"T_9bef5_level0_col4\" class=\"col_heading level0 col4\" >Outside Region</th>\n",
       "      <th id=\"T_9bef5_level0_col5\" class=\"col_heading level0 col5\" >Total</th>\n",
       "    </tr>\n",
       "    <tr>\n",
       "      <th class=\"index_name level0\" >source</th>\n",
       "      <th class=\"blank col0\" >&nbsp;</th>\n",
       "      <th class=\"blank col1\" >&nbsp;</th>\n",
       "      <th class=\"blank col2\" >&nbsp;</th>\n",
       "      <th class=\"blank col3\" >&nbsp;</th>\n",
       "      <th class=\"blank col4\" >&nbsp;</th>\n",
       "      <th class=\"blank col5\" >&nbsp;</th>\n",
       "    </tr>\n",
       "  </thead>\n",
       "  <tbody>\n",
       "    <tr>\n",
       "      <th id=\"T_9bef5_level0_row0\" class=\"row_heading level0 row0\" >2023 base year</th>\n",
       "      <td id=\"T_9bef5_row0_col0\" class=\"data row0 col0\" >2,093,196</td>\n",
       "      <td id=\"T_9bef5_row0_col1\" class=\"data row0 col1\" >607,655</td>\n",
       "      <td id=\"T_9bef5_row0_col2\" class=\"data row0 col2\" >595,233</td>\n",
       "      <td id=\"T_9bef5_row0_col3\" class=\"data row0 col3\" >160,360</td>\n",
       "      <td id=\"T_9bef5_row0_col4\" class=\"data row0 col4\" >156</td>\n",
       "      <td id=\"T_9bef5_row0_col5\" class=\"data row0 col5\" >3,456,601</td>\n",
       "    </tr>\n",
       "    <tr>\n",
       "      <th id=\"T_9bef5_level0_row1\" class=\"row_heading level0 row1\" >2050</th>\n",
       "      <td id=\"T_9bef5_row1_col0\" class=\"data row1 col0\" >2,281,982</td>\n",
       "      <td id=\"T_9bef5_row1_col1\" class=\"data row1 col1\" >714,253</td>\n",
       "      <td id=\"T_9bef5_row1_col2\" class=\"data row1 col2\" >635,226</td>\n",
       "      <td id=\"T_9bef5_row1_col3\" class=\"data row1 col3\" >171,831</td>\n",
       "      <td id=\"T_9bef5_row1_col4\" class=\"data row1 col4\" >8,562</td>\n",
       "      <td id=\"T_9bef5_row1_col5\" class=\"data row1 col5\" >3,811,855</td>\n",
       "    </tr>\n",
       "    <tr>\n",
       "      <th id=\"T_9bef5_level0_row2\" class=\"row_heading level0 row2\" >2050 (no telecommute)</th>\n",
       "      <td id=\"T_9bef5_row2_col0\" class=\"data row2 col0\" >2,299,121</td>\n",
       "      <td id=\"T_9bef5_row2_col1\" class=\"data row2 col1\" >717,430</td>\n",
       "      <td id=\"T_9bef5_row2_col2\" class=\"data row2 col2\" >649,397</td>\n",
       "      <td id=\"T_9bef5_row2_col3\" class=\"data row2 col3\" >191,235</td>\n",
       "      <td id=\"T_9bef5_row2_col4\" class=\"data row2 col4\" >8,968</td>\n",
       "      <td id=\"T_9bef5_row2_col5\" class=\"data row2 col5\" >3,866,151</td>\n",
       "    </tr>\n",
       "  </tbody>\n",
       "</table>\n"
      ],
      "text/plain": [
       "<pandas.io.formats.style.Styler at 0x18cb61d0100>"
      ]
     },
     "metadata": {},
     "output_type": "display_data"
    }
   ],
   "source": [
    "tab = df_network.groupby(['source','county'])['medium_truck_vmt'].sum().\\\n",
    "        reset_index().\\\n",
    "        pivot(index='source', columns='county')['medium_truck_vmt'].\\\n",
    "        rename_axis(columns={'county': 'Medium truck VMT by county'})\n",
    "tab['Total'] = tab.sum(axis=1)\n",
    "\n",
    "display(tab.style.format('{:,.0f}'))"
   ]
  },
  {
   "cell_type": "raw",
   "metadata": {},
   "source": [
    "### heavy trucks"
   ]
  },
  {
   "cell_type": "code",
   "execution_count": 28,
   "metadata": {},
   "outputs": [
    {
     "data": {
      "text/html": [
       "<style type=\"text/css\">\n",
       "</style>\n",
       "<table id=\"T_5ad24\">\n",
       "  <thead>\n",
       "    <tr>\n",
       "      <th class=\"index_name level0\" >Heavy truck VMT by county</th>\n",
       "      <th id=\"T_5ad24_level0_col0\" class=\"col_heading level0 col0\" >King</th>\n",
       "      <th id=\"T_5ad24_level0_col1\" class=\"col_heading level0 col1\" >Snohomish</th>\n",
       "      <th id=\"T_5ad24_level0_col2\" class=\"col_heading level0 col2\" >Pierce</th>\n",
       "      <th id=\"T_5ad24_level0_col3\" class=\"col_heading level0 col3\" >Kitsap</th>\n",
       "      <th id=\"T_5ad24_level0_col4\" class=\"col_heading level0 col4\" >Outside Region</th>\n",
       "      <th id=\"T_5ad24_level0_col5\" class=\"col_heading level0 col5\" >Total</th>\n",
       "    </tr>\n",
       "    <tr>\n",
       "      <th class=\"index_name level0\" >source</th>\n",
       "      <th class=\"blank col0\" >&nbsp;</th>\n",
       "      <th class=\"blank col1\" >&nbsp;</th>\n",
       "      <th class=\"blank col2\" >&nbsp;</th>\n",
       "      <th class=\"blank col3\" >&nbsp;</th>\n",
       "      <th class=\"blank col4\" >&nbsp;</th>\n",
       "      <th class=\"blank col5\" >&nbsp;</th>\n",
       "    </tr>\n",
       "  </thead>\n",
       "  <tbody>\n",
       "    <tr>\n",
       "      <th id=\"T_5ad24_level0_row0\" class=\"row_heading level0 row0\" >2023 base year</th>\n",
       "      <td id=\"T_5ad24_row0_col0\" class=\"data row0 col0\" >1,539,768</td>\n",
       "      <td id=\"T_5ad24_row0_col1\" class=\"data row0 col1\" >585,342</td>\n",
       "      <td id=\"T_5ad24_row0_col2\" class=\"data row0 col2\" >605,137</td>\n",
       "      <td id=\"T_5ad24_row0_col3\" class=\"data row0 col3\" >97,737</td>\n",
       "      <td id=\"T_5ad24_row0_col4\" class=\"data row0 col4\" >25,564</td>\n",
       "      <td id=\"T_5ad24_row0_col5\" class=\"data row0 col5\" >2,853,547</td>\n",
       "    </tr>\n",
       "    <tr>\n",
       "      <th id=\"T_5ad24_level0_row1\" class=\"row_heading level0 row1\" >2050</th>\n",
       "      <td id=\"T_5ad24_row1_col0\" class=\"data row1 col0\" >2,070,871</td>\n",
       "      <td id=\"T_5ad24_row1_col1\" class=\"data row1 col1\" >785,320</td>\n",
       "      <td id=\"T_5ad24_row1_col2\" class=\"data row1 col2\" >821,760</td>\n",
       "      <td id=\"T_5ad24_row1_col3\" class=\"data row1 col3\" >110,118</td>\n",
       "      <td id=\"T_5ad24_row1_col4\" class=\"data row1 col4\" >36,443</td>\n",
       "      <td id=\"T_5ad24_row1_col5\" class=\"data row1 col5\" >3,824,511</td>\n",
       "    </tr>\n",
       "    <tr>\n",
       "      <th id=\"T_5ad24_level0_row2\" class=\"row_heading level0 row2\" >2050 (no telecommute)</th>\n",
       "      <td id=\"T_5ad24_row2_col0\" class=\"data row2 col0\" >2,071,771</td>\n",
       "      <td id=\"T_5ad24_row2_col1\" class=\"data row2 col1\" >785,142</td>\n",
       "      <td id=\"T_5ad24_row2_col2\" class=\"data row2 col2\" >821,580</td>\n",
       "      <td id=\"T_5ad24_row2_col3\" class=\"data row2 col3\" >110,141</td>\n",
       "      <td id=\"T_5ad24_row2_col4\" class=\"data row2 col4\" >36,418</td>\n",
       "      <td id=\"T_5ad24_row2_col5\" class=\"data row2 col5\" >3,825,053</td>\n",
       "    </tr>\n",
       "  </tbody>\n",
       "</table>\n"
      ],
      "text/plain": [
       "<pandas.io.formats.style.Styler at 0x18cb73bf880>"
      ]
     },
     "metadata": {},
     "output_type": "display_data"
    }
   ],
   "source": [
    "tab = df_network.groupby(['source','county'])['heavy_truck_vmt'].sum().\\\n",
    "        reset_index().\\\n",
    "        pivot(index='source', columns='county')['heavy_truck_vmt'].\\\n",
    "        rename_axis(columns={'county': 'Heavy truck VMT by county'})\n",
    "tab['Total'] = tab.sum(axis=1)\n",
    "\n",
    "display(tab.style.format('{:,.0f}'))"
   ]
  },
  {
   "cell_type": "raw",
   "metadata": {
    "vscode": {
     "languageId": "raw"
    }
   },
   "source": [
    ":::"
   ]
  },
  {
   "cell_type": "markdown",
   "metadata": {},
   "source": [
    "## vehicle delay"
   ]
  },
  {
   "cell_type": "code",
   "execution_count": 31,
   "metadata": {},
   "outputs": [
    {
     "data": {
      "application/vnd.microsoft.datawrangler.viewer.v0+json": {
       "columns": [
        {
         "name": "source",
         "rawType": "object",
         "type": "string"
        },
        {
         "name": "heavy trucks",
         "rawType": "float64",
         "type": "float"
        },
        {
         "name": "medium trucks",
         "rawType": "float64",
         "type": "float"
        }
       ],
       "conversionMethod": "pd.DataFrame",
       "ref": "9ea98190-6299-49e9-8494-3068eb57ccf5",
       "rows": [
        [
         "2023 base year",
         "9678.749108963955",
         "11702.780104700905"
        ],
        [
         "2050",
         "19222.85106563537",
         "14396.807442664767"
        ],
        [
         "2050 (no telecommute)",
         "19960.98461538054",
         "15818.925683357034"
        ]
       ],
       "shape": {
        "columns": 2,
        "rows": 3
       }
      },
      "text/html": [
       "<div>\n",
       "<style scoped>\n",
       "    .dataframe tbody tr th:only-of-type {\n",
       "        vertical-align: middle;\n",
       "    }\n",
       "\n",
       "    .dataframe tbody tr th {\n",
       "        vertical-align: top;\n",
       "    }\n",
       "\n",
       "    .dataframe thead th {\n",
       "        text-align: right;\n",
       "    }\n",
       "</style>\n",
       "<table border=\"1\" class=\"dataframe\">\n",
       "  <thead>\n",
       "    <tr style=\"text-align: right;\">\n",
       "      <th></th>\n",
       "      <th>heavy trucks</th>\n",
       "      <th>medium trucks</th>\n",
       "    </tr>\n",
       "    <tr>\n",
       "      <th>source</th>\n",
       "      <th></th>\n",
       "      <th></th>\n",
       "    </tr>\n",
       "  </thead>\n",
       "  <tbody>\n",
       "    <tr>\n",
       "      <th>2023 base year</th>\n",
       "      <td>9678.749109</td>\n",
       "      <td>11702.780105</td>\n",
       "    </tr>\n",
       "    <tr>\n",
       "      <th>2050</th>\n",
       "      <td>19222.851066</td>\n",
       "      <td>14396.807443</td>\n",
       "    </tr>\n",
       "    <tr>\n",
       "      <th>2050 (no telecommute)</th>\n",
       "      <td>19960.984615</td>\n",
       "      <td>15818.925683</td>\n",
       "    </tr>\n",
       "  </tbody>\n",
       "</table>\n",
       "</div>"
      ],
      "text/plain": [
       "                       heavy trucks  medium trucks\n",
       "source                                            \n",
       "2023 base year          9678.749109   11702.780105\n",
       "2050                   19222.851066   14396.807443\n",
       "2050 (no telecommute)  19960.984615   15818.925683"
      ]
     },
     "execution_count": 31,
     "metadata": {},
     "output_type": "execute_result"
    }
   ],
   "source": [
    "tab = delay.groupby('source')[['@hveh','@mveh']].sum().\\\n",
    "        rename(columns={'@mveh': 'medium trucks',\n",
    "                        '@hveh': 'heavy trucks'})\n",
    "tab"
   ]
  },
  {
   "cell_type": "markdown",
   "metadata": {},
   "source": [
    "## vehicle trips"
   ]
  },
  {
   "cell_type": "code",
   "execution_count": null,
   "metadata": {},
   "outputs": [],
   "source": [
    "# truck_h5 = h5py.File(Path(list(all_runs.values())[0])/'outputs/trucks/truck_trips.h5', 'r')\n",
    "\n",
    "def load_h5_data(file_path: str, tod_list: list(), 2nd_layer: str):\n",
    "\n",
    "    df = pd.DataFrame()\n",
    "    for comparison_run in ALL_RUNS.keys():\n",
    "        \n",
    "        full_file_path = get_output_path(comparison_run) / file_path\n",
    "\n",
    "        df_run = h5py.File(full_file_path, 'r')\n",
    "\n",
    "        df_run[\"source\"] = comparison_run\n",
    "        df = pd.concat([df, df_run])\n",
    "\n",
    "    return df"
   ]
  },
  {
   "cell_type": "code",
   "execution_count": 71,
   "metadata": {},
   "outputs": [
    {
     "ename": "ValueError",
     "evalue": "Field names only allowed for compound types",
     "output_type": "error",
     "traceback": [
      "\u001b[1;31m---------------------------------------------------------------------------\u001b[0m",
      "\u001b[1;31mValueError\u001b[0m                                Traceback (most recent call last)",
      "Cell \u001b[1;32mIn[71], line 1\u001b[0m\n\u001b[1;32m----> 1\u001b[0m \u001b[43mtruck_h5\u001b[49m\u001b[43m[\u001b[49m\u001b[38;5;124;43m'\u001b[39;49m\u001b[38;5;124;43mam\u001b[39;49m\u001b[38;5;124;43m'\u001b[39;49m\u001b[43m]\u001b[49m\u001b[43m[\u001b[49m\u001b[38;5;124;43m'\u001b[39;49m\u001b[38;5;124;43mmfam_hvytrk_trips\u001b[39;49m\u001b[38;5;124;43m'\u001b[39;49m\u001b[43m]\u001b[49m\u001b[43m[\u001b[49m\u001b[38;5;124;43m'\u001b[39;49m\u001b[38;5;124;43m0:3751, 0:3751\u001b[39;49m\u001b[38;5;124;43m'\u001b[39;49m\u001b[43m]\u001b[49m\n",
      "File \u001b[1;32mh5py\\\\_objects.pyx:54\u001b[0m, in \u001b[0;36mh5py._objects.with_phil.wrapper\u001b[1;34m()\u001b[0m\n",
      "File \u001b[1;32mh5py\\\\_objects.pyx:55\u001b[0m, in \u001b[0;36mh5py._objects.with_phil.wrapper\u001b[1;34m()\u001b[0m\n",
      "File \u001b[1;32mc:\\Users\\Modeller\\AppData\\Local\\anaconda3\\envs\\build_notebook\\lib\\site-packages\\h5py\\_hl\\dataset.py:821\u001b[0m, in \u001b[0;36mDataset.__getitem__\u001b[1;34m(self, args, new_dtype)\u001b[0m\n\u001b[0;32m    819\u001b[0m         names \u001b[38;5;241m=\u001b[39m names[\u001b[38;5;241m0\u001b[39m]  \u001b[38;5;66;03m# Read with simpler dtype of this field\u001b[39;00m\n\u001b[0;32m    820\u001b[0m     args \u001b[38;5;241m=\u001b[39m \u001b[38;5;28mtuple\u001b[39m(x \u001b[38;5;28;01mfor\u001b[39;00m x \u001b[38;5;129;01min\u001b[39;00m args \u001b[38;5;28;01mif\u001b[39;00m \u001b[38;5;129;01mnot\u001b[39;00m \u001b[38;5;28misinstance\u001b[39m(x, \u001b[38;5;28mstr\u001b[39m))\n\u001b[1;32m--> 821\u001b[0m     \u001b[38;5;28;01mreturn\u001b[39;00m \u001b[38;5;28;43mself\u001b[39;49m\u001b[38;5;241;43m.\u001b[39;49m\u001b[43mfields\u001b[49m\u001b[43m(\u001b[49m\u001b[43mnames\u001b[49m\u001b[43m,\u001b[49m\u001b[43m \u001b[49m\u001b[43m_prior_dtype\u001b[49m\u001b[38;5;241;43m=\u001b[39;49m\u001b[43mnew_dtype\u001b[49m\u001b[43m)\u001b[49m[args]\n\u001b[0;32m    823\u001b[0m \u001b[38;5;28;01mif\u001b[39;00m new_dtype \u001b[38;5;129;01mis\u001b[39;00m \u001b[38;5;28;01mNone\u001b[39;00m:\n\u001b[0;32m    824\u001b[0m     new_dtype \u001b[38;5;241m=\u001b[39m \u001b[38;5;28mself\u001b[39m\u001b[38;5;241m.\u001b[39mdtype\n",
      "File \u001b[1;32mc:\\Users\\Modeller\\AppData\\Local\\anaconda3\\envs\\build_notebook\\lib\\site-packages\\h5py\\_hl\\dataset.py:472\u001b[0m, in \u001b[0;36mDataset.fields\u001b[1;34m(self, names, _prior_dtype)\u001b[0m\n\u001b[0;32m    470\u001b[0m \u001b[38;5;28;01mif\u001b[39;00m _prior_dtype \u001b[38;5;129;01mis\u001b[39;00m \u001b[38;5;28;01mNone\u001b[39;00m:\n\u001b[0;32m    471\u001b[0m     _prior_dtype \u001b[38;5;241m=\u001b[39m \u001b[38;5;28mself\u001b[39m\u001b[38;5;241m.\u001b[39mdtype\n\u001b[1;32m--> 472\u001b[0m \u001b[38;5;28;01mreturn\u001b[39;00m \u001b[43mFieldsView\u001b[49m\u001b[43m(\u001b[49m\u001b[38;5;28;43mself\u001b[39;49m\u001b[43m,\u001b[49m\u001b[43m \u001b[49m\u001b[43m_prior_dtype\u001b[49m\u001b[43m,\u001b[49m\u001b[43m \u001b[49m\u001b[43mnames\u001b[49m\u001b[43m)\u001b[49m\n",
      "File \u001b[1;32mc:\\Users\\Modeller\\AppData\\Local\\anaconda3\\envs\\build_notebook\\lib\\site-packages\\h5py\\_hl\\dataset.py:307\u001b[0m, in \u001b[0;36mFieldsView.__init__\u001b[1;34m(self, dset, prior_dtype, names)\u001b[0m\n\u001b[0;32m    305\u001b[0m \u001b[38;5;28;01melse\u001b[39;00m:\n\u001b[0;32m    306\u001b[0m     \u001b[38;5;28mself\u001b[39m\u001b[38;5;241m.\u001b[39mextract_field \u001b[38;5;241m=\u001b[39m \u001b[38;5;28;01mNone\u001b[39;00m\n\u001b[1;32m--> 307\u001b[0m \u001b[38;5;28mself\u001b[39m\u001b[38;5;241m.\u001b[39mread_dtype \u001b[38;5;241m=\u001b[39m \u001b[43mreadtime_dtype\u001b[49m\u001b[43m(\u001b[49m\u001b[43mprior_dtype\u001b[49m\u001b[43m,\u001b[49m\u001b[43m \u001b[49m\u001b[43mnames\u001b[49m\u001b[43m)\u001b[49m\n",
      "File \u001b[1;32mc:\\Users\\Modeller\\AppData\\Local\\anaconda3\\envs\\build_notebook\\lib\\site-packages\\h5py\\_hl\\dataset.py:326\u001b[0m, in \u001b[0;36mreadtime_dtype\u001b[1;34m(basetype, names)\u001b[0m\n\u001b[0;32m    324\u001b[0m \u001b[38;5;250m\u001b[39m\u001b[38;5;124;03m\"\"\"Make a NumPy compound dtype with a subset of available fields\"\"\"\u001b[39;00m\n\u001b[0;32m    325\u001b[0m \u001b[38;5;28;01mif\u001b[39;00m basetype\u001b[38;5;241m.\u001b[39mnames \u001b[38;5;129;01mis\u001b[39;00m \u001b[38;5;28;01mNone\u001b[39;00m:  \u001b[38;5;66;03m# Names provided, but not compound\u001b[39;00m\n\u001b[1;32m--> 326\u001b[0m     \u001b[38;5;28;01mraise\u001b[39;00m \u001b[38;5;167;01mValueError\u001b[39;00m(\u001b[38;5;124m\"\u001b[39m\u001b[38;5;124mField names only allowed for compound types\u001b[39m\u001b[38;5;124m\"\u001b[39m)\n\u001b[0;32m    328\u001b[0m \u001b[38;5;28;01mfor\u001b[39;00m name \u001b[38;5;129;01min\u001b[39;00m names:  \u001b[38;5;66;03m# Check all names are legal\u001b[39;00m\n\u001b[0;32m    329\u001b[0m     \u001b[38;5;28;01mif\u001b[39;00m name \u001b[38;5;129;01mnot\u001b[39;00m \u001b[38;5;129;01min\u001b[39;00m basetype\u001b[38;5;241m.\u001b[39mnames:\n",
      "\u001b[1;31mValueError\u001b[0m: Field names only allowed for compound types"
     ]
    }
   ],
   "source": [
    "\n",
    "truck_h5['am']['mfam_hvytrk_trips']['0:3751, 0:3751']"
   ]
  },
  {
   "cell_type": "code",
   "execution_count": 62,
   "metadata": {},
   "outputs": [],
   "source": [
    "# for \n",
    "total_med_trips = 0\n",
    "total_hvy_trips = 0\n",
    "for tod in ['am','md','pm','ev','ni']:\n",
    "    total_med_trips += truck_h5[tod]['mf'+tod+'_medtrk_trips'][:].sum()\n",
    "    total_hvy_trips += truck_h5[tod]['mf'+tod+'_hvytrk_trips'][:].sum()\n",
    "\n",
    "_df_trips = pd.DataFrame({'Trips': [total_hvy_trips, total_med_trips]}, index=['Heavy Trucks', 'Medium Trucks'])"
   ]
  },
  {
   "cell_type": "code",
   "execution_count": 63,
   "metadata": {},
   "outputs": [
    {
     "data": {
      "application/vnd.microsoft.datawrangler.viewer.v0+json": {
       "columns": [
        {
         "name": "index",
         "rawType": "object",
         "type": "string"
        },
        {
         "name": "Trips",
         "rawType": "float64",
         "type": "float"
        }
       ],
       "conversionMethod": "pd.DataFrame",
       "ref": "e161763e-0d4e-4221-b50e-4eee4a02fb0a",
       "rows": [
        [
         "Heavy Trucks",
         "134623.1845703125"
        ],
        [
         "Medium Trucks",
         "320256.330078125"
        ]
       ],
       "shape": {
        "columns": 1,
        "rows": 2
       }
      },
      "text/html": [
       "<div>\n",
       "<style scoped>\n",
       "    .dataframe tbody tr th:only-of-type {\n",
       "        vertical-align: middle;\n",
       "    }\n",
       "\n",
       "    .dataframe tbody tr th {\n",
       "        vertical-align: top;\n",
       "    }\n",
       "\n",
       "    .dataframe thead th {\n",
       "        text-align: right;\n",
       "    }\n",
       "</style>\n",
       "<table border=\"1\" class=\"dataframe\">\n",
       "  <thead>\n",
       "    <tr style=\"text-align: right;\">\n",
       "      <th></th>\n",
       "      <th>Trips</th>\n",
       "    </tr>\n",
       "  </thead>\n",
       "  <tbody>\n",
       "    <tr>\n",
       "      <th>Heavy Trucks</th>\n",
       "      <td>134623.184570</td>\n",
       "    </tr>\n",
       "    <tr>\n",
       "      <th>Medium Trucks</th>\n",
       "      <td>320256.330078</td>\n",
       "    </tr>\n",
       "  </tbody>\n",
       "</table>\n",
       "</div>"
      ],
      "text/plain": [
       "                       Trips\n",
       "Heavy Trucks   134623.184570\n",
       "Medium Trucks  320256.330078"
      ]
     },
     "execution_count": 63,
     "metadata": {},
     "output_type": "execute_result"
    }
   ],
   "source": [
    "_df_trips"
   ]
  },
  {
   "cell_type": "code",
   "execution_count": 42,
   "metadata": {},
   "outputs": [
    {
     "data": {
      "text/plain": [
       "<HDF5 file \"7to8.h5\" (mode r)>"
      ]
     },
     "execution_count": 42,
     "metadata": {},
     "output_type": "execute_result"
    }
   ],
   "source": [
    "skim_h5 = h5py.File('../../../../inputs/model/roster/7to8.h5', 'r')\n",
    "skim_h5"
   ]
  },
  {
   "cell_type": "code",
   "execution_count": 43,
   "metadata": {},
   "outputs": [],
   "source": [
    "skim_h5 = h5py.File('../../../../inputs/model/roster/7to8.h5', 'r')\n",
    "\n",
    "wt = (truck_h5['am']['mfam_hvytrk_trips'][0:3751, 0:3751] * (skim_h5['Skims']['heavy_truckd'][:]/100.0)[0:3751, 0:3751]).sum()\n",
    "hvy_dist = wt/truck_h5['am']['mfam_hvytrk_trips'][0:3751, 0:3751].sum()\n",
    "\n",
    "wt = (truck_h5['am']['mfam_medtrk_trips'][0:3751, 0:3751] * (skim_h5['Skims']['medium_truckd'][:]/100.0)[0:3751, 0:3751]).sum()\n",
    "med_dist = wt/truck_h5['am']['mfam_medtrk_trips'][0:3751, 0:3751].sum()\n",
    "\n",
    "\n",
    "_df_dist = pd.DataFrame({'Average Distance (mi)': [hvy_dist, med_dist]}, index=['Heavy Trucks', 'Medium Trucks'])"
   ]
  },
  {
   "cell_type": "code",
   "execution_count": 44,
   "metadata": {},
   "outputs": [
    {
     "data": {
      "text/html": [
       "<div>\n",
       "<style scoped>\n",
       "    .dataframe tbody tr th:only-of-type {\n",
       "        vertical-align: middle;\n",
       "    }\n",
       "\n",
       "    .dataframe tbody tr th {\n",
       "        vertical-align: top;\n",
       "    }\n",
       "\n",
       "    .dataframe thead th {\n",
       "        text-align: right;\n",
       "    }\n",
       "</style>\n",
       "<table border=\"1\" class=\"dataframe\">\n",
       "  <thead>\n",
       "    <tr style=\"text-align: right;\">\n",
       "      <th></th>\n",
       "      <th>VMT</th>\n",
       "      <th>Hours of Delay</th>\n",
       "      <th>Trips</th>\n",
       "      <th>Average Distance (mi)</th>\n",
       "    </tr>\n",
       "  </thead>\n",
       "  <tbody>\n",
       "    <tr>\n",
       "      <th>Heavy Trucks</th>\n",
       "      <td>2,853,578</td>\n",
       "      <td>9,585</td>\n",
       "      <td>134,623</td>\n",
       "      <td>38.7</td>\n",
       "    </tr>\n",
       "    <tr>\n",
       "      <th>Medium Trucks</th>\n",
       "      <td>3,454,952</td>\n",
       "      <td>11,582</td>\n",
       "      <td>320,256</td>\n",
       "      <td>15.0</td>\n",
       "    </tr>\n",
       "  </tbody>\n",
       "</table>\n",
       "</div>"
      ],
      "text/plain": [
       "                    VMT  Hours of Delay   Trips Average Distance (mi)\n",
       "Heavy Trucks  2,853,578           9,585 134,623                  38.7\n",
       "Medium Trucks 3,454,952          11,582 320,256                  15.0"
      ]
     },
     "execution_count": 44,
     "metadata": {},
     "output_type": "execute_result"
    }
   ],
   "source": [
    "df_combined = pd.concat([_df_vmt, _df_delay, _df_trips, _df_dist], axis=1)\n",
    "df_combined['Average Distance (mi)'] = df_combined['Average Distance (mi)'].map('{:.1f}'.format)\n",
    "df_combined"
   ]
  },
  {
   "cell_type": "code",
   "execution_count": 45,
   "metadata": {},
   "outputs": [
    {
     "data": {
      "text/html": [
       "<div>\n",
       "<style scoped>\n",
       "    .dataframe tbody tr th:only-of-type {\n",
       "        vertical-align: middle;\n",
       "    }\n",
       "\n",
       "    .dataframe tbody tr th {\n",
       "        vertical-align: top;\n",
       "    }\n",
       "\n",
       "    .dataframe thead th {\n",
       "        text-align: right;\n",
       "    }\n",
       "</style>\n",
       "<table border=\"1\" class=\"dataframe\">\n",
       "  <thead>\n",
       "    <tr style=\"text-align: right;\">\n",
       "      <th></th>\n",
       "      <th>Trips</th>\n",
       "    </tr>\n",
       "  </thead>\n",
       "  <tbody>\n",
       "    <tr>\n",
       "      <th>Heavy Trucks</th>\n",
       "      <td>134,623</td>\n",
       "    </tr>\n",
       "    <tr>\n",
       "      <th>Medium Trucks</th>\n",
       "      <td>320,256</td>\n",
       "    </tr>\n",
       "  </tbody>\n",
       "</table>\n",
       "</div>"
      ],
      "text/plain": [
       "                Trips\n",
       "Heavy Trucks  134,623\n",
       "Medium Trucks 320,256"
      ]
     },
     "execution_count": 45,
     "metadata": {},
     "output_type": "execute_result"
    }
   ],
   "source": [
    "_df_trips"
   ]
  },
  {
   "cell_type": "code",
   "execution_count": 77,
   "metadata": {},
   "outputs": [
    {
     "data": {
      "text/html": [
       "<div>\n",
       "<style scoped>\n",
       "    .dataframe tbody tr th:only-of-type {\n",
       "        vertical-align: middle;\n",
       "    }\n",
       "\n",
       "    .dataframe tbody tr th {\n",
       "        vertical-align: top;\n",
       "    }\n",
       "\n",
       "    .dataframe thead th {\n",
       "        text-align: right;\n",
       "    }\n",
       "</style>\n",
       "<table border=\"1\" class=\"dataframe\">\n",
       "  <thead>\n",
       "    <tr style=\"text-align: right;\">\n",
       "      <th></th>\n",
       "      <th>Trips</th>\n",
       "    </tr>\n",
       "  </thead>\n",
       "  <tbody>\n",
       "    <tr>\n",
       "      <th>Heavy Trucks</th>\n",
       "      <td>4,530</td>\n",
       "    </tr>\n",
       "    <tr>\n",
       "      <th>Medium Trucks</th>\n",
       "      <td>0</td>\n",
       "    </tr>\n",
       "  </tbody>\n",
       "</table>\n",
       "</div>"
      ],
      "text/plain": [
       "               Trips\n",
       "Heavy Trucks   4,530\n",
       "Medium Trucks      0"
      ]
     },
     "execution_count": 77,
     "metadata": {},
     "output_type": "execute_result"
    }
   ],
   "source": [
    "truck_h5 = h5py.File('../../../../outputs/trucks/truck_trips.h5', 'r')\n",
    "\n",
    "# External-external trips\n",
    "ext_med_trips = 0\n",
    "ext_hvy_trips = 0\n",
    "for tod in ['am','md','pm','ev','ni']:\n",
    "    ext_med_trips += truck_h5[tod]['mf'+tod+'_medtrk_trips'][3700:,3700:].sum()\n",
    "    ext_hvy_trips += truck_h5[tod]['mf'+tod+'_hvytrk_trips'][3700:,3700:].sum()\n",
    "\n",
    "thru_truck_trips = pd.DataFrame({'Trips': [ext_hvy_trips, ext_med_trips]}, index=['Heavy Trucks', 'Medium Trucks'])\n",
    "thru_truck_trips"
   ]
  },
  {
   "cell_type": "code",
   "execution_count": null,
   "metadata": {},
   "outputs": [
    {
     "data": {
      "text/html": [
       "<div>\n",
       "<style scoped>\n",
       "    .dataframe tbody tr th:only-of-type {\n",
       "        vertical-align: middle;\n",
       "    }\n",
       "\n",
       "    .dataframe tbody tr th {\n",
       "        vertical-align: top;\n",
       "    }\n",
       "\n",
       "    .dataframe thead th {\n",
       "        text-align: right;\n",
       "    }\n",
       "</style>\n",
       "<table border=\"1\" class=\"dataframe\">\n",
       "  <thead>\n",
       "    <tr style=\"text-align: right;\">\n",
       "      <th></th>\n",
       "      <th>Trips</th>\n",
       "    </tr>\n",
       "  </thead>\n",
       "  <tbody>\n",
       "    <tr>\n",
       "      <th>Heavy Trucks</th>\n",
       "      <td>22,236</td>\n",
       "    </tr>\n",
       "    <tr>\n",
       "      <th>Medium Trucks</th>\n",
       "      <td>0</td>\n",
       "    </tr>\n",
       "  </tbody>\n",
       "</table>\n",
       "</div>"
      ],
      "text/plain": [
       "               Trips\n",
       "Heavy Trucks  22,236\n",
       "Medium Trucks      0"
      ]
     },
     "execution_count": 71,
     "metadata": {},
     "output_type": "execute_result"
    }
   ],
   "source": [
    "# Internal ->  external trips\n",
    "ext_med_trips = 0\n",
    "ext_hvy_trips = 0\n",
    "for tod in ['am','md','pm','ev','ni']:\n",
    "    ext_med_trips += truck_h5[tod]['mf'+tod+'_medtrk_trips'][:3701,3700:].sum()\n",
    "    ext_hvy_trips += truck_h5[tod]['mf'+tod+'_hvytrk_trips'][:3701,3700:].sum()\n",
    "\n",
    "_df_trips = pd.DataFrame({'Trips': [ext_hvy_trips, ext_med_trips]}, index=['Heavy Trucks', 'Medium Trucks'])\n",
    "_df_trips"
   ]
  },
  {
   "cell_type": "code",
   "execution_count": 73,
   "metadata": {},
   "outputs": [
    {
     "data": {
      "text/html": [
       "<div>\n",
       "<style scoped>\n",
       "    .dataframe tbody tr th:only-of-type {\n",
       "        vertical-align: middle;\n",
       "    }\n",
       "\n",
       "    .dataframe tbody tr th {\n",
       "        vertical-align: top;\n",
       "    }\n",
       "\n",
       "    .dataframe thead th {\n",
       "        text-align: right;\n",
       "    }\n",
       "</style>\n",
       "<table border=\"1\" class=\"dataframe\">\n",
       "  <thead>\n",
       "    <tr style=\"text-align: right;\">\n",
       "      <th></th>\n",
       "      <th>Trips</th>\n",
       "    </tr>\n",
       "  </thead>\n",
       "  <tbody>\n",
       "    <tr>\n",
       "      <th>Heavy Trucks</th>\n",
       "      <td>22,236</td>\n",
       "    </tr>\n",
       "    <tr>\n",
       "      <th>Medium Trucks</th>\n",
       "      <td>0</td>\n",
       "    </tr>\n",
       "  </tbody>\n",
       "</table>\n",
       "</div>"
      ],
      "text/plain": [
       "               Trips\n",
       "Heavy Trucks  22,236\n",
       "Medium Trucks      0"
      ]
     },
     "execution_count": 73,
     "metadata": {},
     "output_type": "execute_result"
    }
   ],
   "source": [
    "# External ->  internal trips\n",
    "ext_med_trips = 0\n",
    "ext_hvy_trips = 0\n",
    "for tod in ['am','md','pm','ev','ni']:\n",
    "    ext_med_trips += truck_h5[tod]['mf'+tod+'_medtrk_trips'][3700:,:3701].sum()\n",
    "    ext_hvy_trips += truck_h5[tod]['mf'+tod+'_hvytrk_trips'][3700:,:3701].sum()\n",
    "\n",
    "_df_trips = pd.DataFrame({'Trips': [ext_hvy_trips, ext_med_trips]}, index=['Heavy Trucks', 'Medium Trucks'])\n",
    "_df_trips"
   ]
  },
  {
   "cell_type": "code",
   "execution_count": 79,
   "metadata": {},
   "outputs": [
    {
     "data": {
      "text/html": [
       "<div>\n",
       "<style scoped>\n",
       "    .dataframe tbody tr th:only-of-type {\n",
       "        vertical-align: middle;\n",
       "    }\n",
       "\n",
       "    .dataframe tbody tr th {\n",
       "        vertical-align: top;\n",
       "    }\n",
       "\n",
       "    .dataframe thead th {\n",
       "        text-align: right;\n",
       "    }\n",
       "</style>\n",
       "<table border=\"1\" class=\"dataframe\">\n",
       "  <thead>\n",
       "    <tr style=\"text-align: right;\">\n",
       "      <th></th>\n",
       "      <th>Trips</th>\n",
       "    </tr>\n",
       "  </thead>\n",
       "  <tbody>\n",
       "    <tr>\n",
       "      <th>Heavy Trucks</th>\n",
       "      <td>39,941</td>\n",
       "    </tr>\n",
       "    <tr>\n",
       "      <th>Medium Trucks</th>\n",
       "      <td>0</td>\n",
       "    </tr>\n",
       "  </tbody>\n",
       "</table>\n",
       "</div>"
      ],
      "text/plain": [
       "               Trips\n",
       "Heavy Trucks  39,941\n",
       "Medium Trucks      0"
      ]
     },
     "execution_count": 79,
     "metadata": {},
     "output_type": "execute_result"
    }
   ],
   "source": [
    "# Total Trips\n",
    "(_df_trips*2) - thru_truck_trips"
   ]
  },
  {
   "cell_type": "code",
   "execution_count": 70,
   "metadata": {},
   "outputs": [
    {
     "data": {
      "text/html": [
       "<div>\n",
       "<style scoped>\n",
       "    .dataframe tbody tr th:only-of-type {\n",
       "        vertical-align: middle;\n",
       "    }\n",
       "\n",
       "    .dataframe tbody tr th {\n",
       "        vertical-align: top;\n",
       "    }\n",
       "\n",
       "    .dataframe thead th {\n",
       "        text-align: right;\n",
       "    }\n",
       "</style>\n",
       "<table border=\"1\" class=\"dataframe\">\n",
       "  <thead>\n",
       "    <tr style=\"text-align: right;\">\n",
       "      <th></th>\n",
       "      <th>Trips</th>\n",
       "    </tr>\n",
       "  </thead>\n",
       "  <tbody>\n",
       "    <tr>\n",
       "      <th>Heavy Trucks</th>\n",
       "      <td>4,530</td>\n",
       "    </tr>\n",
       "    <tr>\n",
       "      <th>Medium Trucks</th>\n",
       "      <td>0</td>\n",
       "    </tr>\n",
       "  </tbody>\n",
       "</table>\n",
       "</div>"
      ],
      "text/plain": [
       "               Trips\n",
       "Heavy Trucks   4,530\n",
       "Medium Trucks      0"
      ]
     },
     "execution_count": 70,
     "metadata": {},
     "output_type": "execute_result"
    }
   ],
   "source": [
    "# All external trips\n",
    "ext_med_trips = 0\n",
    "ext_hvy_trips = 0\n",
    "for tod in ['am','md','pm','ev','ni']:\n",
    "    ext_med_trips += truck_h5[tod]['mf'+tod+'_medtrk_trips'][3700:,3700:].sum()\n",
    "    ext_hvy_trips += truck_h5[tod]['mf'+tod+'_hvytrk_trips'][3700:,3700:].sum()\n",
    "\n",
    "_df_trips = pd.DataFrame({'Trips': [ext_hvy_trips, ext_med_trips]}, index=['Heavy Trucks', 'Medium Trucks'])\n",
    "_df_trips"
   ]
  },
  {
   "cell_type": "code",
   "execution_count": 51,
   "metadata": {},
   "outputs": [
    {
     "data": {
      "text/plain": [
       "0.0"
      ]
     },
     "execution_count": 51,
     "metadata": {},
     "output_type": "execute_result"
    }
   ],
   "source": [
    "truck_h5['am']['mfam_medtrk_trips'][3700:,3700:].sum()"
   ]
  },
  {
   "cell_type": "code",
   "execution_count": 52,
   "metadata": {},
   "outputs": [],
   "source": [
    "# Speed between ODs / Travel time between ODs"
   ]
  },
  {
   "cell_type": "code",
   "execution_count": 53,
   "metadata": {},
   "outputs": [],
   "source": [
    "# % of VMT within MICs"
   ]
  },
  {
   "cell_type": "code",
   "execution_count": null,
   "metadata": {},
   "outputs": [],
   "source": []
  },
  {
   "cell_type": "code",
   "execution_count": null,
   "metadata": {},
   "outputs": [],
   "source": []
  },
  {
   "cell_type": "markdown",
   "metadata": {},
   "source": [
    "## VMT By Congestion Level"
   ]
  },
  {
   "cell_type": "code",
   "execution_count": 65,
   "metadata": {},
   "outputs": [],
   "source": [
    "# Results by Congestion Level\n",
    "df['speed'] = df['length']/df['auto_time']*60\n",
    "df['congestion_index'] = df['speed']/df['data2']\n",
    "df['congestion_index'] = df['congestion_index'].clip(0,1)\n",
    "df['congestion_category'] = pd.cut(df['congestion_index'], bins=[0,.25,.5,.7,0.99,1], labels=['Severe','Heavy','Moderate','Light','None'])"
   ]
  },
  {
   "cell_type": "markdown",
   "metadata": {},
   "source": [
    "### Miles of Roadway with AM Congestion"
   ]
  },
  {
   "cell_type": "code",
   "execution_count": 67,
   "metadata": {},
   "outputs": [
    {
     "data": {
      "text/html": [
       "<div>\n",
       "<style scoped>\n",
       "    .dataframe tbody tr th:only-of-type {\n",
       "        vertical-align: middle;\n",
       "    }\n",
       "\n",
       "    .dataframe tbody tr th {\n",
       "        vertical-align: top;\n",
       "    }\n",
       "\n",
       "    .dataframe thead th {\n",
       "        text-align: right;\n",
       "    }\n",
       "</style>\n",
       "<table border=\"1\" class=\"dataframe\">\n",
       "  <thead>\n",
       "    <tr style=\"text-align: right;\">\n",
       "      <th>county</th>\n",
       "      <th>King</th>\n",
       "      <th>Kitsap</th>\n",
       "      <th>Outside Region</th>\n",
       "      <th>Pierce</th>\n",
       "      <th>Snohomish</th>\n",
       "    </tr>\n",
       "    <tr>\n",
       "      <th>congestion_category</th>\n",
       "      <th></th>\n",
       "      <th></th>\n",
       "      <th></th>\n",
       "      <th></th>\n",
       "      <th></th>\n",
       "    </tr>\n",
       "  </thead>\n",
       "  <tbody>\n",
       "    <tr>\n",
       "      <th>Severe</th>\n",
       "      <td>33</td>\n",
       "      <td>1</td>\n",
       "      <td>0</td>\n",
       "      <td>5</td>\n",
       "      <td>6</td>\n",
       "    </tr>\n",
       "    <tr>\n",
       "      <th>Heavy</th>\n",
       "      <td>252</td>\n",
       "      <td>9</td>\n",
       "      <td>0</td>\n",
       "      <td>82</td>\n",
       "      <td>55</td>\n",
       "    </tr>\n",
       "    <tr>\n",
       "      <th>Moderate</th>\n",
       "      <td>432</td>\n",
       "      <td>21</td>\n",
       "      <td>0</td>\n",
       "      <td>194</td>\n",
       "      <td>128</td>\n",
       "    </tr>\n",
       "    <tr>\n",
       "      <th>Light</th>\n",
       "      <td>1,608</td>\n",
       "      <td>377</td>\n",
       "      <td>1</td>\n",
       "      <td>1,037</td>\n",
       "      <td>778</td>\n",
       "    </tr>\n",
       "    <tr>\n",
       "      <th>None</th>\n",
       "      <td>4,371</td>\n",
       "      <td>1,030</td>\n",
       "      <td>39</td>\n",
       "      <td>2,541</td>\n",
       "      <td>2,206</td>\n",
       "    </tr>\n",
       "  </tbody>\n",
       "</table>\n",
       "</div>"
      ],
      "text/plain": [
       "county               King  Kitsap  Outside Region  Pierce  Snohomish\n",
       "congestion_category                                                 \n",
       "Severe                 33       1               0       5          6\n",
       "Heavy                 252       9               0      82         55\n",
       "Moderate              432      21               0     194        128\n",
       "Light               1,608     377               1   1,037        778\n",
       "None                4,371   1,030              39   2,541      2,206"
      ]
     },
     "execution_count": 67,
     "metadata": {},
     "output_type": "execute_result"
    }
   ],
   "source": [
    "time_period_list = ['7to8']\n",
    "_df = df[df['tod'].isin(time_period_list)]\n",
    "_df = _df.pivot_table(index='congestion_category',columns='county',\n",
    "               aggfunc='sum',values='length')\n",
    "_df = _df/len(time_period_list)\n",
    "_df.to_clipboard()\n",
    "_df"
   ]
  },
  {
   "cell_type": "code",
   "execution_count": 68,
   "metadata": {},
   "outputs": [
    {
     "data": {
      "text/html": [
       "<div>\n",
       "<style scoped>\n",
       "    .dataframe tbody tr th:only-of-type {\n",
       "        vertical-align: middle;\n",
       "    }\n",
       "\n",
       "    .dataframe tbody tr th {\n",
       "        vertical-align: top;\n",
       "    }\n",
       "\n",
       "    .dataframe thead th {\n",
       "        text-align: right;\n",
       "    }\n",
       "</style>\n",
       "<table border=\"1\" class=\"dataframe\">\n",
       "  <thead>\n",
       "    <tr style=\"text-align: right;\">\n",
       "      <th>county</th>\n",
       "      <th>King</th>\n",
       "      <th>Kitsap</th>\n",
       "      <th>Outside Region</th>\n",
       "      <th>Pierce</th>\n",
       "      <th>Snohomish</th>\n",
       "    </tr>\n",
       "    <tr>\n",
       "      <th>congestion_category</th>\n",
       "      <th></th>\n",
       "      <th></th>\n",
       "      <th></th>\n",
       "      <th></th>\n",
       "      <th></th>\n",
       "    </tr>\n",
       "  </thead>\n",
       "  <tbody>\n",
       "    <tr>\n",
       "      <th>Severe</th>\n",
       "      <td>9</td>\n",
       "      <td>0</td>\n",
       "      <td>0</td>\n",
       "      <td>2</td>\n",
       "      <td>0</td>\n",
       "    </tr>\n",
       "    <tr>\n",
       "      <th>Heavy</th>\n",
       "      <td>120</td>\n",
       "      <td>2</td>\n",
       "      <td>0</td>\n",
       "      <td>37</td>\n",
       "      <td>19</td>\n",
       "    </tr>\n",
       "    <tr>\n",
       "      <th>Moderate</th>\n",
       "      <td>142</td>\n",
       "      <td>1</td>\n",
       "      <td>0</td>\n",
       "      <td>72</td>\n",
       "      <td>48</td>\n",
       "    </tr>\n",
       "    <tr>\n",
       "      <th>Light</th>\n",
       "      <td>426</td>\n",
       "      <td>73</td>\n",
       "      <td>0</td>\n",
       "      <td>271</td>\n",
       "      <td>191</td>\n",
       "    </tr>\n",
       "    <tr>\n",
       "      <th>None</th>\n",
       "      <td>325</td>\n",
       "      <td>31</td>\n",
       "      <td>0</td>\n",
       "      <td>140</td>\n",
       "      <td>107</td>\n",
       "    </tr>\n",
       "  </tbody>\n",
       "</table>\n",
       "</div>"
      ],
      "text/plain": [
       "county               King  Kitsap  Outside Region  Pierce  Snohomish\n",
       "congestion_category                                                 \n",
       "Severe                  9       0               0       2          0\n",
       "Heavy                 120       2               0      37         19\n",
       "Moderate              142       1               0      72         48\n",
       "Light                 426      73               0     271        191\n",
       "None                  325      31               0     140        107"
      ]
     },
     "execution_count": 68,
     "metadata": {},
     "output_type": "execute_result"
    }
   ],
   "source": [
    "time_period_list = ['7to8']\n",
    "_df = df[df['tod'].isin(time_period_list) & (df['@fgts'].isin([1,2]))]\n",
    "_df = _df.pivot_table(index='congestion_category',columns='county',\n",
    "               aggfunc='sum',values='length')\n",
    "_df = _df/len(time_period_list)\n",
    "_df.to_clipboard()\n",
    "_df"
   ]
  },
  {
   "cell_type": "markdown",
   "metadata": {},
   "source": [
    "AM Peak (5 - 9 am)"
   ]
  },
  {
   "cell_type": "code",
   "execution_count": 16,
   "metadata": {},
   "outputs": [
    {
     "data": {
      "text/html": [
       "<div>\n",
       "<style scoped>\n",
       "    .dataframe tbody tr th:only-of-type {\n",
       "        vertical-align: middle;\n",
       "    }\n",
       "\n",
       "    .dataframe tbody tr th {\n",
       "        vertical-align: top;\n",
       "    }\n",
       "\n",
       "    .dataframe thead th {\n",
       "        text-align: right;\n",
       "    }\n",
       "</style>\n",
       "<table border=\"1\" class=\"dataframe\">\n",
       "  <thead>\n",
       "    <tr style=\"text-align: right;\">\n",
       "      <th></th>\n",
       "      <th>King</th>\n",
       "      <th>Kitsap</th>\n",
       "      <th>Outside Region</th>\n",
       "      <th>Pierce</th>\n",
       "      <th>Snohomish</th>\n",
       "    </tr>\n",
       "  </thead>\n",
       "  <tbody>\n",
       "    <tr>\n",
       "      <th>Light</th>\n",
       "      <td>552,066</td>\n",
       "      <td>52,288</td>\n",
       "      <td>5,481</td>\n",
       "      <td>200,099</td>\n",
       "      <td>216,098</td>\n",
       "    </tr>\n",
       "    <tr>\n",
       "      <th>Moderate</th>\n",
       "      <td>132,933</td>\n",
       "      <td>922</td>\n",
       "      <td>0</td>\n",
       "      <td>41,906</td>\n",
       "      <td>28,194</td>\n",
       "    </tr>\n",
       "    <tr>\n",
       "      <th>Heavy</th>\n",
       "      <td>83,849</td>\n",
       "      <td>617</td>\n",
       "      <td>0</td>\n",
       "      <td>12,676</td>\n",
       "      <td>9,017</td>\n",
       "    </tr>\n",
       "    <tr>\n",
       "      <th>Severe</th>\n",
       "      <td>4,955</td>\n",
       "      <td>29</td>\n",
       "      <td>0</td>\n",
       "      <td>334</td>\n",
       "      <td>714</td>\n",
       "    </tr>\n",
       "    <tr>\n",
       "      <th>Total</th>\n",
       "      <td>773,803</td>\n",
       "      <td>53,856</td>\n",
       "      <td>5,481</td>\n",
       "      <td>255,015</td>\n",
       "      <td>254,023</td>\n",
       "    </tr>\n",
       "  </tbody>\n",
       "</table>\n",
       "</div>"
      ],
      "text/plain": [
       "            King  Kitsap  Outside Region  Pierce  Snohomish\n",
       "Light    552,066  52,288           5,481 200,099    216,098\n",
       "Moderate 132,933     922               0  41,906     28,194\n",
       "Heavy     83,849     617               0  12,676      9,017\n",
       "Severe     4,955      29               0     334        714\n",
       "Total    773,803  53,856           5,481 255,015    254,023"
      ]
     },
     "execution_count": 16,
     "metadata": {},
     "output_type": "execute_result"
    }
   ],
   "source": [
    "df['Medium and Heavy Trucks'] = df['heavy_truck_vmt']+df['medium_truck_vmt']\n",
    "\n",
    "_df = df[df['tod'].isin(['5to6','6to7','7to8','8to9'])]\n",
    "_df = _df.pivot_table(index='congestion_category',columns='county',\n",
    "               aggfunc='sum',values='Medium and Heavy Trucks')\n",
    "_df = _df.reindex(['Light','Moderate','Heavy','Severe'])\n",
    "_df.index.name = None\n",
    "_df.columns.name = None\n",
    "_df.loc['Total',:] = _df.sum()\n",
    "_df"
   ]
  },
  {
   "cell_type": "markdown",
   "metadata": {},
   "source": [
    "PM Peak (3 - 6 pm)"
   ]
  },
  {
   "cell_type": "code",
   "execution_count": 17,
   "metadata": {},
   "outputs": [
    {
     "data": {
      "text/html": [
       "<div>\n",
       "<style scoped>\n",
       "    .dataframe tbody tr th:only-of-type {\n",
       "        vertical-align: middle;\n",
       "    }\n",
       "\n",
       "    .dataframe tbody tr th {\n",
       "        vertical-align: top;\n",
       "    }\n",
       "\n",
       "    .dataframe thead th {\n",
       "        text-align: right;\n",
       "    }\n",
       "</style>\n",
       "<table border=\"1\" class=\"dataframe\">\n",
       "  <thead>\n",
       "    <tr style=\"text-align: right;\">\n",
       "      <th></th>\n",
       "      <th>King</th>\n",
       "      <th>Kitsap</th>\n",
       "      <th>Outside Region</th>\n",
       "      <th>Pierce</th>\n",
       "      <th>Snohomish</th>\n",
       "    </tr>\n",
       "  </thead>\n",
       "  <tbody>\n",
       "    <tr>\n",
       "      <th>Light</th>\n",
       "      <td>452,633</td>\n",
       "      <td>44,805</td>\n",
       "      <td>4,518</td>\n",
       "      <td>163,101</td>\n",
       "      <td>176,357</td>\n",
       "    </tr>\n",
       "    <tr>\n",
       "      <th>Moderate</th>\n",
       "      <td>129,362</td>\n",
       "      <td>736</td>\n",
       "      <td>7</td>\n",
       "      <td>38,428</td>\n",
       "      <td>32,481</td>\n",
       "    </tr>\n",
       "    <tr>\n",
       "      <th>Heavy</th>\n",
       "      <td>79,806</td>\n",
       "      <td>588</td>\n",
       "      <td>0</td>\n",
       "      <td>15,908</td>\n",
       "      <td>8,377</td>\n",
       "    </tr>\n",
       "    <tr>\n",
       "      <th>Severe</th>\n",
       "      <td>5,910</td>\n",
       "      <td>51</td>\n",
       "      <td>0</td>\n",
       "      <td>406</td>\n",
       "      <td>630</td>\n",
       "    </tr>\n",
       "    <tr>\n",
       "      <th>Total</th>\n",
       "      <td>667,712</td>\n",
       "      <td>46,180</td>\n",
       "      <td>4,525</td>\n",
       "      <td>217,843</td>\n",
       "      <td>217,845</td>\n",
       "    </tr>\n",
       "  </tbody>\n",
       "</table>\n",
       "</div>"
      ],
      "text/plain": [
       "            King  Kitsap  Outside Region  Pierce  Snohomish\n",
       "Light    452,633  44,805           4,518 163,101    176,357\n",
       "Moderate 129,362     736               7  38,428     32,481\n",
       "Heavy     79,806     588               0  15,908      8,377\n",
       "Severe     5,910      51               0     406        630\n",
       "Total    667,712  46,180           4,525 217,843    217,845"
      ]
     },
     "execution_count": 17,
     "metadata": {},
     "output_type": "execute_result"
    }
   ],
   "source": [
    "_df = df[df['tod'].isin(['15to16','16to17','17to18'])]\n",
    "_df = _df.pivot_table(index='congestion_category',columns='county',\n",
    "               aggfunc='sum',values='Medium and Heavy Trucks')\n",
    "_df = _df.reindex(['Light','Moderate','Heavy','Severe'])\n",
    "_df.index.name = None\n",
    "_df.columns.name = None\n",
    "_df.loc['Total',:] = _df.sum()\n",
    "_df"
   ]
  },
  {
   "cell_type": "markdown",
   "metadata": {},
   "source": [
    "# Share of Truck Miles by Truck Type\n",
    "Daily Total"
   ]
  },
  {
   "cell_type": "code",
   "execution_count": 18,
   "metadata": {},
   "outputs": [
    {
     "data": {
      "text/html": [
       "<div>\n",
       "<style scoped>\n",
       "    .dataframe tbody tr th:only-of-type {\n",
       "        vertical-align: middle;\n",
       "    }\n",
       "\n",
       "    .dataframe tbody tr th {\n",
       "        vertical-align: top;\n",
       "    }\n",
       "\n",
       "    .dataframe thead th {\n",
       "        text-align: right;\n",
       "    }\n",
       "</style>\n",
       "<table border=\"1\" class=\"dataframe\">\n",
       "  <thead>\n",
       "    <tr style=\"text-align: right;\">\n",
       "      <th></th>\n",
       "      <th>King</th>\n",
       "      <th>Kitsap</th>\n",
       "      <th>Outside Region</th>\n",
       "      <th>Pierce</th>\n",
       "      <th>Snohomish</th>\n",
       "    </tr>\n",
       "  </thead>\n",
       "  <tbody>\n",
       "    <tr>\n",
       "      <th>Medium Trucks</th>\n",
       "      <td>2,093,196</td>\n",
       "      <td>160,360</td>\n",
       "      <td>156</td>\n",
       "      <td>595,233</td>\n",
       "      <td>607,655</td>\n",
       "    </tr>\n",
       "    <tr>\n",
       "      <th>Heavy Trucks</th>\n",
       "      <td>1,539,768</td>\n",
       "      <td>97,737</td>\n",
       "      <td>25,564</td>\n",
       "      <td>605,137</td>\n",
       "      <td>585,342</td>\n",
       "    </tr>\n",
       "    <tr>\n",
       "      <th>Total</th>\n",
       "      <td>3,632,964</td>\n",
       "      <td>258,097</td>\n",
       "      <td>25,721</td>\n",
       "      <td>1,200,370</td>\n",
       "      <td>1,192,997</td>\n",
       "    </tr>\n",
       "  </tbody>\n",
       "</table>\n",
       "</div>"
      ],
      "text/plain": [
       "                   King  Kitsap  Outside Region    Pierce  Snohomish\n",
       "Medium Trucks 2,093,196 160,360             156   595,233    607,655\n",
       "Heavy Trucks  1,539,768  97,737          25,564   605,137    585,342\n",
       "Total         3,632,964 258,097          25,721 1,200,370  1,192,997"
      ]
     },
     "execution_count": 18,
     "metadata": {},
     "output_type": "execute_result"
    }
   ],
   "source": [
    "_df = df[['medium_truck_vmt','heavy_truck_vmt','county']].melt(\n",
    "    id_vars='county', var_name='Truck Type')\n",
    "_df = _df.pivot_table(index='Truck Type', columns='county', \n",
    "                values='value', aggfunc='sum')\n",
    "_df.rename(index={'heavy_truck_vmt': 'Heavy Trucks',\n",
    "                 'medium_truck_vmt': 'Medium Trucks'}, inplace=True)\n",
    "_df.index.name = None\n",
    "_df.columns.name = None\n",
    "_df.sort_index(ascending=False, inplace=True)\n",
    "_df_val = _df.copy()\n",
    "_df.loc['Total',:] = _df.sum()\n",
    "_df"
   ]
  },
  {
   "cell_type": "code",
   "execution_count": 19,
   "metadata": {},
   "outputs": [
    {
     "data": {
      "text/html": [
       "<div>\n",
       "<style scoped>\n",
       "    .dataframe tbody tr th:only-of-type {\n",
       "        vertical-align: middle;\n",
       "    }\n",
       "\n",
       "    .dataframe tbody tr th {\n",
       "        vertical-align: top;\n",
       "    }\n",
       "\n",
       "    .dataframe thead th {\n",
       "        text-align: right;\n",
       "    }\n",
       "</style>\n",
       "<table border=\"1\" class=\"dataframe\">\n",
       "  <thead>\n",
       "    <tr style=\"text-align: right;\">\n",
       "      <th></th>\n",
       "      <th>King</th>\n",
       "      <th>Kitsap</th>\n",
       "      <th>Outside Region</th>\n",
       "      <th>Pierce</th>\n",
       "      <th>Snohomish</th>\n",
       "    </tr>\n",
       "  </thead>\n",
       "  <tbody>\n",
       "    <tr>\n",
       "      <th>Medium Trucks</th>\n",
       "      <td>57.6%</td>\n",
       "      <td>62.1%</td>\n",
       "      <td>0.6%</td>\n",
       "      <td>49.6%</td>\n",
       "      <td>50.9%</td>\n",
       "    </tr>\n",
       "    <tr>\n",
       "      <th>Heavy Trucks</th>\n",
       "      <td>42.4%</td>\n",
       "      <td>37.9%</td>\n",
       "      <td>99.4%</td>\n",
       "      <td>50.4%</td>\n",
       "      <td>49.1%</td>\n",
       "    </tr>\n",
       "  </tbody>\n",
       "</table>\n",
       "</div>"
      ],
      "text/plain": [
       "               King  Kitsap  Outside Region  Pierce  Snohomish\n",
       "Medium Trucks 57.6%   62.1%            0.6%   49.6%      50.9%\n",
       "Heavy Trucks  42.4%   37.9%           99.4%   50.4%      49.1%"
      ]
     },
     "execution_count": 19,
     "metadata": {},
     "output_type": "execute_result"
    }
   ],
   "source": [
    "pd.options.display.float_format = '{:0,.1%}'.format\n",
    "_df_val/_df_val.sum()"
   ]
  },
  {
   "cell_type": "markdown",
   "metadata": {},
   "source": [
    "# Truck Miles on FGTS\n",
    "Freight and Goods Transportation System\n",
    "- T-1: More than 10 million tons per year\n",
    "- T-2: 2 4 million to 10 million tons per year"
   ]
  },
  {
   "cell_type": "code",
   "execution_count": 20,
   "metadata": {},
   "outputs": [
    {
     "data": {
      "text/plain": [
       "83284422.86125325"
      ]
     },
     "execution_count": 20,
     "metadata": {},
     "output_type": "execute_result"
    }
   ],
   "source": [
    "df['Medium and Heavy Trucks'] = df['heavy_truck_vmt']+df['medium_truck_vmt']\n",
    "df['Passenger VMT'] = df['VMT']-df['Medium and Heavy Trucks']\n",
    "# df['@tveh'].sum()\n",
    "df['VMT'].sum()"
   ]
  },
  {
   "cell_type": "code",
   "execution_count": 21,
   "metadata": {},
   "outputs": [
    {
     "data": {
      "text/html": [
       "<div>\n",
       "<style scoped>\n",
       "    .dataframe tbody tr th:only-of-type {\n",
       "        vertical-align: middle;\n",
       "    }\n",
       "\n",
       "    .dataframe tbody tr th {\n",
       "        vertical-align: top;\n",
       "    }\n",
       "\n",
       "    .dataframe thead th {\n",
       "        text-align: right;\n",
       "    }\n",
       "</style>\n",
       "<table border=\"1\" class=\"dataframe\">\n",
       "  <thead>\n",
       "    <tr style=\"text-align: right;\">\n",
       "      <th></th>\n",
       "      <th>T-1</th>\n",
       "      <th>T-2</th>\n",
       "      <th>Other Routes</th>\n",
       "    </tr>\n",
       "    <tr>\n",
       "      <th>Vehicle Type</th>\n",
       "      <th></th>\n",
       "      <th></th>\n",
       "      <th></th>\n",
       "    </tr>\n",
       "  </thead>\n",
       "  <tbody>\n",
       "    <tr>\n",
       "      <th>Passenger VMT</th>\n",
       "      <td>30,322,301</td>\n",
       "      <td>11,563,923</td>\n",
       "      <td>35,088,051</td>\n",
       "    </tr>\n",
       "    <tr>\n",
       "      <th>Heavy Truck VMT</th>\n",
       "      <td>2,284,776</td>\n",
       "      <td>190,393</td>\n",
       "      <td>378,378</td>\n",
       "    </tr>\n",
       "    <tr>\n",
       "      <th>Medium Truck VMT</th>\n",
       "      <td>1,898,242</td>\n",
       "      <td>536,835</td>\n",
       "      <td>1,021,524</td>\n",
       "    </tr>\n",
       "  </tbody>\n",
       "</table>\n",
       "</div>"
      ],
      "text/plain": [
       "                        T-1        T-2  Other Routes\n",
       "Vehicle Type                                        \n",
       "Passenger VMT    30,322,301 11,563,923    35,088,051\n",
       "Heavy Truck VMT   2,284,776    190,393       378,378\n",
       "Medium Truck VMT  1,898,242    536,835     1,021,524"
      ]
     },
     "execution_count": 21,
     "metadata": {},
     "output_type": "execute_result"
    }
   ],
   "source": [
    "pd.options.display.float_format = '{:0,.0f}'.format\n",
    "_df = df[['medium_truck_vmt','heavy_truck_vmt','@fgts','Passenger VMT']].melt(\n",
    "    id_vars='@fgts', var_name='Vehicle Type')\n",
    "_df = _df.pivot_table(index='Vehicle Type', columns='@fgts', \n",
    "                values='value', aggfunc='sum')\n",
    "# _df = _df.reset_index()\n",
    "_df = _df.rename_axis(None, axis=1)\n",
    "_df.rename(columns={0:'Other Routes', 1: 'T-1', 2: 'T-2'}, inplace=True)\n",
    "_df.rename(index={'heavy_truck_vmt': 'Heavy Truck VMT',\n",
    "                 'medium_truck_vmt': 'Medium Truck VMT'}, inplace=True)\n",
    "_df[['T-1','T-2','Other Routes']]"
   ]
  },
  {
   "cell_type": "code",
   "execution_count": 22,
   "metadata": {},
   "outputs": [
    {
     "data": {
      "text/html": [
       "<div>\n",
       "<style scoped>\n",
       "    .dataframe tbody tr th:only-of-type {\n",
       "        vertical-align: middle;\n",
       "    }\n",
       "\n",
       "    .dataframe tbody tr th {\n",
       "        vertical-align: top;\n",
       "    }\n",
       "\n",
       "    .dataframe thead th {\n",
       "        text-align: right;\n",
       "    }\n",
       "</style>\n",
       "<table border=\"1\" class=\"dataframe\">\n",
       "  <thead>\n",
       "    <tr style=\"text-align: right;\">\n",
       "      <th></th>\n",
       "      <th>T-1</th>\n",
       "      <th>T-2</th>\n",
       "      <th>Other Routes</th>\n",
       "    </tr>\n",
       "    <tr>\n",
       "      <th>Vehicle Type</th>\n",
       "      <th></th>\n",
       "      <th></th>\n",
       "      <th></th>\n",
       "    </tr>\n",
       "  </thead>\n",
       "  <tbody>\n",
       "    <tr>\n",
       "      <th>Passenger VMT</th>\n",
       "      <td>87.9%</td>\n",
       "      <td>94.1%</td>\n",
       "      <td>96.2%</td>\n",
       "    </tr>\n",
       "    <tr>\n",
       "      <th>Heavy Truck VMT</th>\n",
       "      <td>6.6%</td>\n",
       "      <td>1.5%</td>\n",
       "      <td>1.0%</td>\n",
       "    </tr>\n",
       "    <tr>\n",
       "      <th>Medium Truck VMT</th>\n",
       "      <td>5.5%</td>\n",
       "      <td>4.4%</td>\n",
       "      <td>2.8%</td>\n",
       "    </tr>\n",
       "  </tbody>\n",
       "</table>\n",
       "</div>"
      ],
      "text/plain": [
       "                   T-1   T-2  Other Routes\n",
       "Vehicle Type                              \n",
       "Passenger VMT    87.9% 94.1%         96.2%\n",
       "Heavy Truck VMT   6.6%  1.5%          1.0%\n",
       "Medium Truck VMT  5.5%  4.4%          2.8%"
      ]
     },
     "execution_count": 22,
     "metadata": {},
     "output_type": "execute_result"
    }
   ],
   "source": [
    "pd.options.display.float_format = '{:0,.1%}'.format\n",
    "_df[['T-1','T-2','Other Routes']]/_df[['T-1','T-2','Other Routes']].sum()"
   ]
  },
  {
   "cell_type": "code",
   "execution_count": 23,
   "metadata": {},
   "outputs": [
    {
     "data": {
      "text/html": [
       "<div>\n",
       "<style scoped>\n",
       "    .dataframe tbody tr th:only-of-type {\n",
       "        vertical-align: middle;\n",
       "    }\n",
       "\n",
       "    .dataframe tbody tr th {\n",
       "        vertical-align: top;\n",
       "    }\n",
       "\n",
       "    .dataframe thead th {\n",
       "        text-align: right;\n",
       "    }\n",
       "</style>\n",
       "<table border=\"1\" class=\"dataframe\">\n",
       "  <thead>\n",
       "    <tr style=\"text-align: right;\">\n",
       "      <th>route_type</th>\n",
       "      <th>Major Truck Routes</th>\n",
       "      <th>Other Streets</th>\n",
       "    </tr>\n",
       "  </thead>\n",
       "  <tbody>\n",
       "    <tr>\n",
       "      <th>Passenger VMT</th>\n",
       "      <td>41,886,223</td>\n",
       "      <td>35,088,051</td>\n",
       "    </tr>\n",
       "    <tr>\n",
       "      <th>Heavy Truck VMT</th>\n",
       "      <td>2,475,169</td>\n",
       "      <td>378,378</td>\n",
       "    </tr>\n",
       "    <tr>\n",
       "      <th>Medium Truck VMT</th>\n",
       "      <td>2,435,077</td>\n",
       "      <td>1,021,524</td>\n",
       "    </tr>\n",
       "  </tbody>\n",
       "</table>\n",
       "</div>"
      ],
      "text/plain": [
       "route_type        Major Truck Routes  Other Streets\n",
       "Passenger VMT             41,886,223     35,088,051\n",
       "Heavy Truck VMT            2,475,169        378,378\n",
       "Medium Truck VMT           2,435,077      1,021,524"
      ]
     },
     "execution_count": 23,
     "metadata": {},
     "output_type": "execute_result"
    }
   ],
   "source": [
    "# Combine T-1 and T-2\n",
    "pd.options.display.float_format = '{:0,.0f}'.format\n",
    "\n",
    "df['Passenger VMT'] = df['VMT']-df['Medium and Heavy Trucks']\n",
    "df['route_type']  = 'Other Streets'\n",
    "df.loc[df['@fgts'].isin([1,2]),'route_type'] = 'Major Truck Routes'\n",
    "_df = df.copy()\n",
    "_df.rename(columns={'heavy_truck_vmt': 'Heavy Truck VMT',\n",
    "                 'medium_truck_vmt': 'Medium Truck VMT'}, inplace=True)\n",
    "_df = _df.groupby('route_type')[['Medium Truck VMT','Heavy Truck VMT','Passenger VMT']].sum().T\n",
    "_df.loc[['Passenger VMT','Heavy Truck VMT','Medium Truck VMT'],:]"
   ]
  },
  {
   "cell_type": "code",
   "execution_count": null,
   "metadata": {},
   "outputs": [],
   "source": []
  },
  {
   "cell_type": "markdown",
   "metadata": {},
   "source": [
    "# Truck Congestion on FGTS\n",
    "AM Peak (5 - 9 am)"
   ]
  },
  {
   "cell_type": "code",
   "execution_count": 24,
   "metadata": {},
   "outputs": [
    {
     "data": {
      "text/html": [
       "<div>\n",
       "<style scoped>\n",
       "    .dataframe tbody tr th:only-of-type {\n",
       "        vertical-align: middle;\n",
       "    }\n",
       "\n",
       "    .dataframe tbody tr th {\n",
       "        vertical-align: top;\n",
       "    }\n",
       "\n",
       "    .dataframe thead th {\n",
       "        text-align: right;\n",
       "    }\n",
       "</style>\n",
       "<table border=\"1\" class=\"dataframe\">\n",
       "  <thead>\n",
       "    <tr style=\"text-align: right;\">\n",
       "      <th></th>\n",
       "      <th>T-1</th>\n",
       "      <th>T-2</th>\n",
       "      <th>Other Routes</th>\n",
       "    </tr>\n",
       "  </thead>\n",
       "  <tbody>\n",
       "    <tr>\n",
       "      <th>Light</th>\n",
       "      <td>1,936,183</td>\n",
       "      <td>793,680</td>\n",
       "      <td>1,613,555</td>\n",
       "    </tr>\n",
       "    <tr>\n",
       "      <th>Moderate</th>\n",
       "      <td>473,609</td>\n",
       "      <td>93,550</td>\n",
       "      <td>186,846</td>\n",
       "    </tr>\n",
       "    <tr>\n",
       "      <th>Heavy</th>\n",
       "      <td>262,314</td>\n",
       "      <td>74,174</td>\n",
       "      <td>154,050</td>\n",
       "    </tr>\n",
       "    <tr>\n",
       "      <th>Severe</th>\n",
       "      <td>21,287</td>\n",
       "      <td>26,767</td>\n",
       "      <td>65,028</td>\n",
       "    </tr>\n",
       "    <tr>\n",
       "      <th>Total</th>\n",
       "      <td>2,693,393</td>\n",
       "      <td>988,171</td>\n",
       "      <td>2,019,479</td>\n",
       "    </tr>\n",
       "  </tbody>\n",
       "</table>\n",
       "</div>"
      ],
      "text/plain": [
       "               T-1     T-2  Other Routes\n",
       "Light    1,936,183 793,680     1,613,555\n",
       "Moderate   473,609  93,550       186,846\n",
       "Heavy      262,314  74,174       154,050\n",
       "Severe      21,287  26,767        65,028\n",
       "Total    2,693,393 988,171     2,019,479"
      ]
     },
     "execution_count": 24,
     "metadata": {},
     "output_type": "execute_result"
    }
   ],
   "source": [
    "# Congested Miles on FGTS versus other Routes\n",
    "df['Medium and Heavy Trucks'] = df['@mveh']+df['@hveh']\n",
    "\n",
    "_df = df[df['tod'].isin(['5to6','6to7','7to8','8to9'])]\n",
    "_df = _df.pivot_table(index='congestion_category',columns='@fgts',\n",
    "               aggfunc='sum',values='Medium and Heavy Trucks')\n",
    "_df = _df.reindex(['Light','Moderate','Heavy','Severe'])\n",
    "_df.index.name = None\n",
    "_df.columns.name = None\n",
    "_df.rename(columns={0:'Other Routes', 1: 'T-1', 2: 'T-2'}, inplace=True)\n",
    "_df_ = _df.copy()\n",
    "_df.loc['Total',:] = _df.sum()\n",
    "_df = _df[['T-1','T-2','Other Routes']]\n",
    "_df"
   ]
  },
  {
   "cell_type": "code",
   "execution_count": 25,
   "metadata": {},
   "outputs": [
    {
     "data": {
      "text/html": [
       "<div>\n",
       "<style scoped>\n",
       "    .dataframe tbody tr th:only-of-type {\n",
       "        vertical-align: middle;\n",
       "    }\n",
       "\n",
       "    .dataframe tbody tr th {\n",
       "        vertical-align: top;\n",
       "    }\n",
       "\n",
       "    .dataframe thead th {\n",
       "        text-align: right;\n",
       "    }\n",
       "</style>\n",
       "<table border=\"1\" class=\"dataframe\">\n",
       "  <thead>\n",
       "    <tr style=\"text-align: right;\">\n",
       "      <th></th>\n",
       "      <th>Other Routes</th>\n",
       "      <th>T-1</th>\n",
       "      <th>T-2</th>\n",
       "    </tr>\n",
       "  </thead>\n",
       "  <tbody>\n",
       "    <tr>\n",
       "      <th>Light</th>\n",
       "      <td>79.9%</td>\n",
       "      <td>71.9%</td>\n",
       "      <td>80.3%</td>\n",
       "    </tr>\n",
       "    <tr>\n",
       "      <th>Moderate</th>\n",
       "      <td>9.3%</td>\n",
       "      <td>17.6%</td>\n",
       "      <td>9.5%</td>\n",
       "    </tr>\n",
       "    <tr>\n",
       "      <th>Heavy</th>\n",
       "      <td>7.6%</td>\n",
       "      <td>9.7%</td>\n",
       "      <td>7.5%</td>\n",
       "    </tr>\n",
       "    <tr>\n",
       "      <th>Severe</th>\n",
       "      <td>3.2%</td>\n",
       "      <td>0.8%</td>\n",
       "      <td>2.7%</td>\n",
       "    </tr>\n",
       "  </tbody>\n",
       "</table>\n",
       "</div>"
      ],
      "text/plain": [
       "          Other Routes   T-1   T-2\n",
       "Light            79.9% 71.9% 80.3%\n",
       "Moderate          9.3% 17.6%  9.5%\n",
       "Heavy             7.6%  9.7%  7.5%\n",
       "Severe            3.2%  0.8%  2.7%"
      ]
     },
     "execution_count": 25,
     "metadata": {},
     "output_type": "execute_result"
    }
   ],
   "source": [
    "pd.options.display.float_format = '{:0,.1%}'.format\n",
    "_df_/_df_.sum()"
   ]
  },
  {
   "cell_type": "markdown",
   "metadata": {},
   "source": [
    "PM Peak (3 - 6 pm)"
   ]
  },
  {
   "cell_type": "code",
   "execution_count": 26,
   "metadata": {},
   "outputs": [
    {
     "data": {
      "text/html": [
       "<div>\n",
       "<style scoped>\n",
       "    .dataframe tbody tr th:only-of-type {\n",
       "        vertical-align: middle;\n",
       "    }\n",
       "\n",
       "    .dataframe tbody tr th {\n",
       "        vertical-align: top;\n",
       "    }\n",
       "\n",
       "    .dataframe thead th {\n",
       "        text-align: right;\n",
       "    }\n",
       "</style>\n",
       "<table border=\"1\" class=\"dataframe\">\n",
       "  <thead>\n",
       "    <tr style=\"text-align: right;\">\n",
       "      <th></th>\n",
       "      <th>T-1</th>\n",
       "      <th>T-2</th>\n",
       "      <th>Other Routes</th>\n",
       "    </tr>\n",
       "  </thead>\n",
       "  <tbody>\n",
       "    <tr>\n",
       "      <th>Light</th>\n",
       "      <td>1,528,804</td>\n",
       "      <td>668,479</td>\n",
       "      <td>1,366,812</td>\n",
       "    </tr>\n",
       "    <tr>\n",
       "      <th>Moderate</th>\n",
       "      <td>469,364</td>\n",
       "      <td>90,309</td>\n",
       "      <td>183,103</td>\n",
       "    </tr>\n",
       "    <tr>\n",
       "      <th>Heavy</th>\n",
       "      <td>244,137</td>\n",
       "      <td>72,699</td>\n",
       "      <td>158,224</td>\n",
       "    </tr>\n",
       "    <tr>\n",
       "      <th>Severe</th>\n",
       "      <td>30,305</td>\n",
       "      <td>28,350</td>\n",
       "      <td>62,567</td>\n",
       "    </tr>\n",
       "    <tr>\n",
       "      <th>Total</th>\n",
       "      <td>2,272,610</td>\n",
       "      <td>859,837</td>\n",
       "      <td>1,770,707</td>\n",
       "    </tr>\n",
       "  </tbody>\n",
       "</table>\n",
       "</div>"
      ],
      "text/plain": [
       "               T-1     T-2  Other Routes\n",
       "Light    1,528,804 668,479     1,366,812\n",
       "Moderate   469,364  90,309       183,103\n",
       "Heavy      244,137  72,699       158,224\n",
       "Severe      30,305  28,350        62,567\n",
       "Total    2,272,610 859,837     1,770,707"
      ]
     },
     "execution_count": 26,
     "metadata": {},
     "output_type": "execute_result"
    }
   ],
   "source": [
    "pd.options.display.float_format = '{:0,.0f}'.format\n",
    "# Congested Miles on FGTS versus other Routes\n",
    "df['Medium and Heavy Trucks'] = df['@hveh']+df['@mveh']\n",
    "\n",
    "_df = df[df['tod'].isin(['15to16','16to17','17to18'])]\n",
    "_df = _df.pivot_table(index='congestion_category',columns='@fgts',\n",
    "               aggfunc='sum',values='Medium and Heavy Trucks')\n",
    "_df = _df.reindex(['Light','Moderate','Heavy','Severe'])\n",
    "_df.index.name = None\n",
    "_df.columns.name = None\n",
    "_df.rename(columns={0:'Other Routes', 1: 'T-1', 2: 'T-2'}, inplace=True)\n",
    "_df_ = _df.copy()\n",
    "_df.loc['Total',:] = _df.sum()\n",
    "_df = _df[['T-1','T-2','Other Routes']]\n",
    "_df"
   ]
  },
  {
   "cell_type": "code",
   "execution_count": 27,
   "metadata": {},
   "outputs": [
    {
     "data": {
      "text/html": [
       "<div>\n",
       "<style scoped>\n",
       "    .dataframe tbody tr th:only-of-type {\n",
       "        vertical-align: middle;\n",
       "    }\n",
       "\n",
       "    .dataframe tbody tr th {\n",
       "        vertical-align: top;\n",
       "    }\n",
       "\n",
       "    .dataframe thead th {\n",
       "        text-align: right;\n",
       "    }\n",
       "</style>\n",
       "<table border=\"1\" class=\"dataframe\">\n",
       "  <thead>\n",
       "    <tr style=\"text-align: right;\">\n",
       "      <th></th>\n",
       "      <th>Other Routes</th>\n",
       "      <th>T-1</th>\n",
       "      <th>T-2</th>\n",
       "    </tr>\n",
       "  </thead>\n",
       "  <tbody>\n",
       "    <tr>\n",
       "      <th>Light</th>\n",
       "      <td>77.2%</td>\n",
       "      <td>67.3%</td>\n",
       "      <td>77.7%</td>\n",
       "    </tr>\n",
       "    <tr>\n",
       "      <th>Moderate</th>\n",
       "      <td>10.3%</td>\n",
       "      <td>20.7%</td>\n",
       "      <td>10.5%</td>\n",
       "    </tr>\n",
       "    <tr>\n",
       "      <th>Heavy</th>\n",
       "      <td>8.9%</td>\n",
       "      <td>10.7%</td>\n",
       "      <td>8.5%</td>\n",
       "    </tr>\n",
       "    <tr>\n",
       "      <th>Severe</th>\n",
       "      <td>3.5%</td>\n",
       "      <td>1.3%</td>\n",
       "      <td>3.3%</td>\n",
       "    </tr>\n",
       "  </tbody>\n",
       "</table>\n",
       "</div>"
      ],
      "text/plain": [
       "          Other Routes   T-1   T-2\n",
       "Light            77.2% 67.3% 77.7%\n",
       "Moderate         10.3% 20.7% 10.5%\n",
       "Heavy             8.9% 10.7%  8.5%\n",
       "Severe            3.5%  1.3%  3.3%"
      ]
     },
     "execution_count": 27,
     "metadata": {},
     "output_type": "execute_result"
    }
   ],
   "source": [
    "pd.options.display.float_format = '{:0,.1%}'.format\n",
    "_df_/_df_.sum()"
   ]
  },
  {
   "cell_type": "markdown",
   "metadata": {},
   "source": [
    "# Households Within 500' of Heavy Truck Volumes\n",
    "Total number of households within 500' of T-1 and T-2 routes\n",
    "- T-1: More than 10 million tons per year\n",
    "- T-2: 2 4 million to 10 million tons per year"
   ]
  },
  {
   "cell_type": "code",
   "execution_count": 46,
   "metadata": {},
   "outputs": [
    {
     "name": "stderr",
     "output_type": "stream",
     "text": [
      "c:\\Users\\Modeller\\AppData\\Local\\anaconda3\\envs\\summary\\lib\\site-packages\\pyproj\\crs\\crs.py:53: FutureWarning: '+init=<authority>:<code>' syntax is deprecated. '<authority>:<code>' is the preferred initialization method. When making the change, be mindful of axis order changes: https://pyproj4.github.io/pyproj/stable/gotchas.html#axis-order-changes-in-proj-6\n",
      "  return _prepare_from_string(\" \".join(pjargs))\n"
     ]
    }
   ],
   "source": [
    "# Intersect buffer with land use file\n",
    "df_lu = pd.read_csv(r'..\\..\\..\\..\\outputs\\landuse\\parcels_urbansim.txt',\n",
    "                   sep='\\s+')\n",
    "\n",
    "# Load as a geodataframe\n",
    "gdf_lu = gpd.GeoDataFrame(\n",
    "    df_lu, geometry=gpd.points_from_xy(df_lu.xcoord_p, df_lu.ycoord_p))\n",
    "\n",
    "crs = {'init' : 'EPSG:2285'}\n",
    "gdf_lu.crs = crs\n",
    "\n",
    "# Buffer the parcels at 500ft\n",
    "gdf_lu['geometry'] = gdf_lu.buffer(500)"
   ]
  },
  {
   "cell_type": "code",
   "execution_count": 48,
   "metadata": {},
   "outputs": [],
   "source": [
    "\n",
    "# Intersect this geography  with the network shapefile\n",
    "gdf_network = gpd.read_file(r'..\\..\\..\\..\\inputs\\scenario\\networks\\shapefiles\\AM\\AM_edges.shp')\n",
    "# Do not include connectors since these are abstracted ul3==5; also remove weave links ul3==0 \n",
    "gdf_network = gdf_network[~gdf_network.ul3.isin([0,5])]\n",
    "# Truck network links are those that are in FGTS 1 or 2 system\n",
    "gdf_network = gdf_network[gdf_network['FGTS'].isin([1,2])]\n",
    "\n",
    "gdf_intersect = gpd.overlay(gdf_network, gdf_lu, how=\"intersection\", keep_geom_type=False)\n",
    "\n",
    "# Will need to relaculate the lengths since some were split across the regional geographies\n",
    "gdf_intersect['new_length'] = gdf_intersect.geometry.length/5280.0\n",
    "\n",
    "# filter out the polygon results and only keep lines\n",
    "gdf_intersect = gdf_intersect[gdf_intersect.geometry.type.isin(['MultiLineString','LineString'])]"
   ]
  },
  {
   "cell_type": "code",
   "execution_count": 49,
   "metadata": {},
   "outputs": [
    {
     "data": {
      "text/plain": [
       "<AxesSubplot:>"
      ]
     },
     "execution_count": 49,
     "metadata": {},
     "output_type": "execute_result"
    },
    {
     "data": {
      "image/png": "[encoded data removed]",
      "text/plain": [
       "<Figure size 936x936 with 1 Axes>"
      ]
     },
     "metadata": {
      "needs_background": "light"
     },
     "output_type": "display_data"
    }
   ],
   "source": [
    "gdf_network.plot(figsize=(13,13))"
   ]
  },
  {
   "cell_type": "code",
   "execution_count": 50,
   "metadata": {},
   "outputs": [],
   "source": [
    "truck_parcels = gdf_intersect.groupby('parcelid').first()[['hh_p']].reset_index()\n",
    "\n",
    "\n",
    "# Result should be the network components with some flags for the parcelid\n",
    "# We can take the parcel information, join with parcel info and group\n",
    "# from input_configuration import base_year\n",
    "import toml\n",
    "config = toml.load(os.path.join(os.getcwd(),r'../../../../configuration/input_configuration.toml'))\n",
    "\n",
    "parcel_geog = pd.read_sql_table('parcel_'+config['base_year']+'_geography', 'sqlite:///../../../../inputs/db/'+config['db_name'])\n",
    "df = truck_parcels.merge(parcel_geog,left_on='parcelid', right_on='ParcelID')"
   ]
  },
  {
   "cell_type": "code",
   "execution_count": 51,
   "metadata": {},
   "outputs": [],
   "source": [
    "# md(\"There are **{}** total households within 500 feet of all T-1 and T-2 routes\".format(int(df['HH_P'].sum())))\n",
    "# df['HH_P'].sum()"
   ]
  },
  {
   "cell_type": "code",
   "execution_count": 52,
   "metadata": {},
   "outputs": [],
   "source": [
    "# md(\"This is **{}**% of total regional households\".format(str((df['HH_P'].sum()/df_lu['HH_P'].sum())*100)[:5]))"
   ]
  },
  {
   "cell_type": "code",
   "execution_count": 54,
   "metadata": {},
   "outputs": [],
   "source": [
    "# Get the total number of households that in equtiy geograhpies\n",
    "# Comprae the percent of those that are in the buffer versus those that are not\n",
    "# For the 4 equity groups, perform the calc and add as a table\n",
    "results_df = pd.DataFrame()\n",
    "for col, name in {'racial_geog_vs_reg_total': 'Race',\n",
    "                  'poverty_geog_vs_reg_total': 'Poverty',\n",
    "                  'elderly_geog_vs_reg_total': 'Elderly',\n",
    "                  'youth_geog_vs_reg_total': 'Youth', \n",
    "                  'english_geog_vs_reg_total' :'Low English Proficiency',\n",
    "                  'disability_geog_vs_reg_total': 'Disability'}.items():\n",
    "    _df = df.groupby(col).sum()[['hh_p']]\n",
    "    _df['equity_group'] = name\n",
    "    results_df = results_df.append(_df)\n",
    "results_df = results_df.reset_index()\n",
    "results_df = results_df[results_df['index']>=0]"
   ]
  },
  {
   "cell_type": "markdown",
   "metadata": {},
   "source": [
    "Total Households Within 500' of T-1/T-2 Routes by Equity Group"
   ]
  },
  {
   "cell_type": "code",
   "execution_count": 55,
   "metadata": {},
   "outputs": [
    {
     "data": {
      "text/html": [
       "<div>\n",
       "<style scoped>\n",
       "    .dataframe tbody tr th:only-of-type {\n",
       "        vertical-align: middle;\n",
       "    }\n",
       "\n",
       "    .dataframe tbody tr th {\n",
       "        vertical-align: top;\n",
       "    }\n",
       "\n",
       "    .dataframe thead th {\n",
       "        text-align: right;\n",
       "    }\n",
       "</style>\n",
       "<table border=\"1\" class=\"dataframe\">\n",
       "  <thead>\n",
       "    <tr style=\"text-align: right;\">\n",
       "      <th>equity_group</th>\n",
       "      <th>Disability</th>\n",
       "      <th>Elderly</th>\n",
       "      <th>Low English Proficiency</th>\n",
       "      <th>Poverty</th>\n",
       "      <th>Race</th>\n",
       "      <th>Youth</th>\n",
       "    </tr>\n",
       "  </thead>\n",
       "  <tbody>\n",
       "    <tr>\n",
       "      <th>Households Not in Equity Geography</th>\n",
       "      <td>92,974</td>\n",
       "      <td>112,886</td>\n",
       "      <td>186,933</td>\n",
       "      <td>89,875</td>\n",
       "      <td>70,087</td>\n",
       "      <td>123,709</td>\n",
       "    </tr>\n",
       "    <tr>\n",
       "      <th>Households in Equity Geography</th>\n",
       "      <td>93,959</td>\n",
       "      <td>74,047</td>\n",
       "      <td>NaN</td>\n",
       "      <td>97,058</td>\n",
       "      <td>116,846</td>\n",
       "      <td>63,224</td>\n",
       "    </tr>\n",
       "  </tbody>\n",
       "</table>\n",
       "</div>"
      ],
      "text/plain": [
       "equity_group                        Disability  Elderly  \\\n",
       "Households Not in Equity Geography      92,974  112,886   \n",
       "Households in Equity Geography          93,959   74,047   \n",
       "\n",
       "equity_group                        Low English Proficiency  Poverty    Race  \\\n",
       "Households Not in Equity Geography                  186,933   89,875  70,087   \n",
       "Households in Equity Geography                          NaN   97,058 116,846   \n",
       "\n",
       "equity_group                         Youth  \n",
       "Households Not in Equity Geography 123,709  \n",
       "Households in Equity Geography      63,224  "
      ]
     },
     "execution_count": 55,
     "metadata": {},
     "output_type": "execute_result"
    }
   ],
   "source": [
    "_df = results_df.pivot_table(index='index', columns='equity_group', values='hh_p', aggfunc='sum')\n",
    "_df.index = ['Households Not in Equity Geography', 'Households in Equity Geography']\n",
    "_df"
   ]
  },
  {
   "cell_type": "markdown",
   "metadata": {},
   "source": [
    "% of households within 500' of truck routes that are in/outside of equity geographies"
   ]
  },
  {
   "cell_type": "code",
   "execution_count": 56,
   "metadata": {},
   "outputs": [
    {
     "data": {
      "text/html": [
       "<div>\n",
       "<style scoped>\n",
       "    .dataframe tbody tr th:only-of-type {\n",
       "        vertical-align: middle;\n",
       "    }\n",
       "\n",
       "    .dataframe tbody tr th {\n",
       "        vertical-align: top;\n",
       "    }\n",
       "\n",
       "    .dataframe thead th {\n",
       "        text-align: right;\n",
       "    }\n",
       "</style>\n",
       "<table border=\"1\" class=\"dataframe\">\n",
       "  <thead>\n",
       "    <tr style=\"text-align: right;\">\n",
       "      <th>equity_group</th>\n",
       "      <th>Disability</th>\n",
       "      <th>Elderly</th>\n",
       "      <th>Low English Proficiency</th>\n",
       "      <th>Poverty</th>\n",
       "      <th>Race</th>\n",
       "      <th>Youth</th>\n",
       "    </tr>\n",
       "  </thead>\n",
       "  <tbody>\n",
       "    <tr>\n",
       "      <th>Households Not in Equity Geography</th>\n",
       "      <td>49.7%</td>\n",
       "      <td>60.4%</td>\n",
       "      <td>100.0%</td>\n",
       "      <td>48.1%</td>\n",
       "      <td>37.5%</td>\n",
       "      <td>66.2%</td>\n",
       "    </tr>\n",
       "    <tr>\n",
       "      <th>Households in Equity Geography</th>\n",
       "      <td>50.3%</td>\n",
       "      <td>39.6%</td>\n",
       "      <td>NaN</td>\n",
       "      <td>51.9%</td>\n",
       "      <td>62.5%</td>\n",
       "      <td>33.8%</td>\n",
       "    </tr>\n",
       "  </tbody>\n",
       "</table>\n",
       "</div>"
      ],
      "text/plain": [
       "equity_group                        Disability  Elderly  \\\n",
       "Households Not in Equity Geography       49.7%    60.4%   \n",
       "Households in Equity Geography           50.3%    39.6%   \n",
       "\n",
       "equity_group                        Low English Proficiency  Poverty  Race  \\\n",
       "Households Not in Equity Geography                   100.0%    48.1% 37.5%   \n",
       "Households in Equity Geography                          NaN    51.9% 62.5%   \n",
       "\n",
       "equity_group                        Youth  \n",
       "Households Not in Equity Geography  66.2%  \n",
       "Households in Equity Geography      33.8%  "
      ]
     },
     "execution_count": 56,
     "metadata": {},
     "output_type": "execute_result"
    }
   ],
   "source": [
    "pd.options.display.float_format = '{:0,.1%}'.format\n",
    "_df/_df.sum()"
   ]
  },
  {
   "cell_type": "code",
   "execution_count": 57,
   "metadata": {},
   "outputs": [],
   "source": [
    "pd.options.display.float_format = '{:0,.0f}'.format\n",
    "\n",
    "# results_df.groupby(['equity_group','index']).sum()[['HH_P']]\n",
    "_df = results_df.pivot_table(index='equity_group',columns='index',values='hh_p')\n",
    "_df.rename(columns={0:'Not In Equity Group', 1: 'In Equity Group'}, inplace=True)\n",
    "_df.index.name = None\n",
    "_df.columns.name = None\n",
    "_df['Total Households'] = _df.sum(axis=1)\n",
    "_df_buffer = _df.copy()\n"
   ]
  },
  {
   "cell_type": "code",
   "execution_count": 59,
   "metadata": {},
   "outputs": [],
   "source": [
    "df_lu_tot = df_lu[['parcelid','hh_p']].merge(parcel_geog,left_on='parcelid', right_on='ParcelID')\n",
    "# df_lu_tot['region'] = 1\n",
    "results_df_tot = pd.DataFrame()\n",
    "for col, name in {'racial_geog_vs_reg_total': 'Race',\n",
    "                  'poverty_geog_vs_reg_total': 'Poverty',\n",
    "                  'elderly_geog_vs_reg_total': 'Elderly',\n",
    "                  'youth_geog_vs_reg_total': 'Youth',\n",
    "                  'english_geog_vs_reg_total' :'Low English Proficiency',\n",
    "                  'disability_geog_vs_reg_total': 'Disability'\n",
    "#                   'region': 'Regional Total',\n",
    "                 }.items():\n",
    "    _df = df_lu_tot.groupby(col).sum()[['hh_p']]\n",
    "    _df['equity_group'] = name\n",
    "    results_df_tot = results_df_tot.append(_df)\n",
    "results_df_tot = results_df_tot.reset_index()\n",
    "pd.options.display.float_format = '{:0,.0f}'.format\n",
    "\n",
    "results_df_tot = results_df_tot[results_df_tot['index'] >= 0]\n",
    "_df = results_df_tot.pivot_table(index='equity_group',columns='index',values='hh_p')\n",
    "_df.rename(columns={0:'Not in Equity Group', 1: 'In Equity Group'}, inplace=True)\n",
    "_df.index.name = None\n",
    "_df.columns.name = None\n",
    "_df['Total Households'] = _df.sum(axis=1)\n",
    "_df_tot = _df.copy()"
   ]
  },
  {
   "cell_type": "markdown",
   "metadata": {},
   "source": [
    "Percent of Households in Equity Group Also in the Buffer"
   ]
  },
  {
   "cell_type": "code",
   "execution_count": 60,
   "metadata": {},
   "outputs": [
    {
     "data": {
      "text/html": [
       "<div>\n",
       "<style scoped>\n",
       "    .dataframe tbody tr th:only-of-type {\n",
       "        vertical-align: middle;\n",
       "    }\n",
       "\n",
       "    .dataframe tbody tr th {\n",
       "        vertical-align: top;\n",
       "    }\n",
       "\n",
       "    .dataframe thead th {\n",
       "        text-align: right;\n",
       "    }\n",
       "</style>\n",
       "<table border=\"1\" class=\"dataframe\">\n",
       "  <thead>\n",
       "    <tr style=\"text-align: right;\">\n",
       "      <th></th>\n",
       "      <th>% of Total Households in Buffer</th>\n",
       "    </tr>\n",
       "  </thead>\n",
       "  <tbody>\n",
       "    <tr>\n",
       "      <th>Disability</th>\n",
       "      <td>11.7%</td>\n",
       "    </tr>\n",
       "    <tr>\n",
       "      <th>Elderly</th>\n",
       "      <td>8.8%</td>\n",
       "    </tr>\n",
       "    <tr>\n",
       "      <th>Low English Proficiency</th>\n",
       "      <td>NaN</td>\n",
       "    </tr>\n",
       "    <tr>\n",
       "      <th>Poverty</th>\n",
       "      <td>13.7%</td>\n",
       "    </tr>\n",
       "    <tr>\n",
       "      <th>Race</th>\n",
       "      <td>14.1%</td>\n",
       "    </tr>\n",
       "    <tr>\n",
       "      <th>Youth</th>\n",
       "      <td>7.8%</td>\n",
       "    </tr>\n",
       "    <tr>\n",
       "      <th>All Households</th>\n",
       "      <td>10.8%</td>\n",
       "    </tr>\n",
       "  </tbody>\n",
       "</table>\n",
       "</div>"
      ],
      "text/plain": [
       "                         % of Total Households in Buffer\n",
       "Disability                                         11.7%\n",
       "Elderly                                             8.8%\n",
       "Low English Proficiency                              NaN\n",
       "Poverty                                            13.7%\n",
       "Race                                               14.1%\n",
       "Youth                                               7.8%\n",
       "All Households                                     10.8%"
      ]
     },
     "execution_count": 60,
     "metadata": {},
     "output_type": "execute_result"
    }
   ],
   "source": [
    "_df = _df_tot.merge(_df_buffer, left_index=True, right_index=True, suffixes=['_tot','_buffer'])\n",
    "\n",
    "pd.options.display.float_format = '{:0,.1%}'.format\n",
    "_df_compare = pd.DataFrame(_df['In Equity Group_buffer']/_df['In Equity Group_tot'], columns=['% of Total Households in Buffer'])\n",
    "_df_compare.loc['All Households'] = (_df['Total Households_buffer']/_df['Total Households_tot'])[0]\n",
    "_df_compare"
   ]
  }
 ],
 "metadata": {
  "kernelspec": {
   "display_name": "build_notebook",
   "language": "python",
   "name": "python3"
  },
  "language_info": {
   "codemirror_mode": {
    "name": "ipython",
    "version": 3
   },
   "file_extension": ".py",
   "mimetype": "text/x-python",
   "name": "python",
   "nbconvert_exporter": "python",
   "pygments_lexer": "ipython3",
   "version": "3.10.15"
  }
 },
 "nbformat": 4,
 "nbformat_minor": 2
}
