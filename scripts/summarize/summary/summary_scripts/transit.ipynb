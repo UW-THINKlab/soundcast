{
 "cells": [
  {
   "cell_type": "raw",
   "metadata": {
    "vscode": {
     "languageId": "raw"
    }
   },
   "source": [
    "---\n",
    "title: \"Transit\"\n",
    "date: today\n",
    "---"
   ]
  },
  {
   "cell_type": "code",
   "execution_count": 1,
   "metadata": {
    "execution": {
     "iopub.execute_input": "2025-03-12T21:29:20.204811Z",
     "iopub.status.busy": "2025-03-12T21:29:20.202817Z",
     "iopub.status.idle": "2025-03-12T21:29:21.388799Z",
     "shell.execute_reply": "2025-03-12T21:29:21.386808Z"
    }
   },
   "outputs": [],
   "source": [
    "#| include: false\n",
    "\n",
    "import os\n",
    "import pandas as pd\n",
    "import numpy as np\n",
    "# import plotly.express as px\n",
    "import toml\n",
    "# import psrc_theme\n",
    "from pathlib import Path\n",
    "import summary_data\n",
    "\n",
    "# to show plotly figures in quarto HTML file\n",
    "# import plotly.io as pio\n",
    "# pio.renderers.default = \"plotly_mimetype+notebook_connected\"\n",
    "# pio.templates.default = \"simple_white+psrc_color\" # set plotly template\n",
    "\n",
    "config = summary_data.CONFIG\n",
    "valid_config = toml.load(Path(Path.cwd(), '..\\\\..\\\\..\\\\..\\\\configuration', 'validation_configuration.toml'))\n",
    "all_runs = summary_data.ALL_RUNS"
   ]
  },
  {
   "cell_type": "markdown",
   "metadata": {},
   "source": [
    "## transit boardings\n",
    "\n",
    "### boardings by mode"
   ]
  },
  {
   "cell_type": "code",
   "execution_count": 2,
   "metadata": {
    "execution": {
     "iopub.execute_input": "2025-03-12T21:29:21.401765Z",
     "iopub.status.busy": "2025-03-12T21:29:21.399770Z",
     "iopub.status.idle": "2025-03-12T21:29:21.420716Z",
     "shell.execute_reply": "2025-03-12T21:29:21.418797Z"
    }
   },
   "outputs": [],
   "source": [
    "\n",
    "# test = pd.read_csv(os.path.join('C:/workspace/sc_2050_base_year_2023/outputs/transit/transit_line_results.csv'))"
   ]
  },
  {
   "cell_type": "code",
   "execution_count": 3,
   "metadata": {
    "execution": {
     "iopub.execute_input": "2025-03-12T21:29:21.433225Z",
     "iopub.status.busy": "2025-03-12T21:29:21.431224Z",
     "iopub.status.idle": "2025-03-12T21:29:21.577275Z",
     "shell.execute_reply": "2025-03-12T21:29:21.574766Z"
    }
   },
   "outputs": [],
   "source": [
    "# Load model results and calculate modeled daily boarding by line\n",
    "df = summary_data.load_agg_data('transit/transit_line_results.csv')\n",
    "df_transit_line = (\n",
    "    df.groupby(['source', 'route_code', 'mode', 'agency_code'])\n",
    "    .agg({\"description\": \"first\", \"boardings\": \"sum\"})\n",
    "    .reset_index()\n",
    ")\n",
    "df_transit_line['agency'] = df_transit_line['agency_code'].astype('int').astype('str').map(config['agency_lookup'])"
   ]
  },
  {
   "cell_type": "code",
   "execution_count": 4,
   "metadata": {
    "execution": {
     "iopub.execute_input": "2025-03-12T21:29:21.588244Z",
     "iopub.status.busy": "2025-03-12T21:29:21.587247Z",
     "iopub.status.idle": "2025-03-12T21:29:22.809085Z",
     "shell.execute_reply": "2025-03-12T21:29:22.807088Z"
    }
   },
   "outputs": [
    {
     "data": {
      "text/html": [
       "<style type=\"text/css\">\n",
       "</style>\n",
       "<table id=\"T_41308\">\n",
       "  <thead>\n",
       "    <tr>\n",
       "      <th class=\"index_name level0\" >Transit boardings by mode</th>\n",
       "      <th id=\"T_41308_level0_col0\" class=\"col_heading level0 col0\" >b</th>\n",
       "      <th id=\"T_41308_level0_col1\" class=\"col_heading level0 col1\" >c</th>\n",
       "      <th id=\"T_41308_level0_col2\" class=\"col_heading level0 col2\" >f</th>\n",
       "      <th id=\"T_41308_level0_col3\" class=\"col_heading level0 col3\" >p</th>\n",
       "      <th id=\"T_41308_level0_col4\" class=\"col_heading level0 col4\" >r</th>\n",
       "      <th id=\"T_41308_level0_col5\" class=\"col_heading level0 col5\" >Total</th>\n",
       "    </tr>\n",
       "    <tr>\n",
       "      <th class=\"index_name level0\" >source</th>\n",
       "      <th class=\"blank col0\" >&nbsp;</th>\n",
       "      <th class=\"blank col1\" >&nbsp;</th>\n",
       "      <th class=\"blank col2\" >&nbsp;</th>\n",
       "      <th class=\"blank col3\" >&nbsp;</th>\n",
       "      <th class=\"blank col4\" >&nbsp;</th>\n",
       "      <th class=\"blank col5\" >&nbsp;</th>\n",
       "    </tr>\n",
       "  </thead>\n",
       "  <tbody>\n",
       "    <tr>\n",
       "      <th id=\"T_41308_level0_row0\" class=\"row_heading level0 row0\" >2023 base year</th>\n",
       "      <td id=\"T_41308_row0_col0\" class=\"data row0 col0\" >374,898</td>\n",
       "      <td id=\"T_41308_row0_col1\" class=\"data row0 col1\" >6,790</td>\n",
       "      <td id=\"T_41308_row0_col2\" class=\"data row0 col2\" >8,940</td>\n",
       "      <td id=\"T_41308_row0_col3\" class=\"data row0 col3\" >4,345</td>\n",
       "      <td id=\"T_41308_row0_col4\" class=\"data row0 col4\" >97,697</td>\n",
       "      <td id=\"T_41308_row0_col5\" class=\"data row0 col5\" >492,670</td>\n",
       "    </tr>\n",
       "    <tr>\n",
       "      <th id=\"T_41308_level0_row1\" class=\"row_heading level0 row1\" >2050</th>\n",
       "      <td id=\"T_41308_row1_col0\" class=\"data row1 col0\" >971,722</td>\n",
       "      <td id=\"T_41308_row1_col1\" class=\"data row1 col1\" >7,051</td>\n",
       "      <td id=\"T_41308_row1_col2\" class=\"data row1 col2\" >24,501</td>\n",
       "      <td id=\"T_41308_row1_col3\" class=\"data row1 col3\" >7,535</td>\n",
       "      <td id=\"T_41308_row1_col4\" class=\"data row1 col4\" >396,932</td>\n",
       "      <td id=\"T_41308_row1_col5\" class=\"data row1 col5\" >1,407,741</td>\n",
       "    </tr>\n",
       "    <tr>\n",
       "      <th id=\"T_41308_level0_row2\" class=\"row_heading level0 row2\" >2050 (no telecommute)</th>\n",
       "      <td id=\"T_41308_row2_col0\" class=\"data row2 col0\" >1,012,878</td>\n",
       "      <td id=\"T_41308_row2_col1\" class=\"data row2 col1\" >8,741</td>\n",
       "      <td id=\"T_41308_row2_col2\" class=\"data row2 col2\" >26,788</td>\n",
       "      <td id=\"T_41308_row2_col3\" class=\"data row2 col3\" >8,118</td>\n",
       "      <td id=\"T_41308_row2_col4\" class=\"data row2 col4\" >421,416</td>\n",
       "      <td id=\"T_41308_row2_col5\" class=\"data row2 col5\" >1,477,941</td>\n",
       "    </tr>\n",
       "  </tbody>\n",
       "</table>\n"
      ],
      "text/plain": [
       "<pandas.io.formats.style.Styler at 0x181b8851150>"
      ]
     },
     "metadata": {},
     "output_type": "display_data"
    }
   ],
   "source": [
    "tab = df_transit_line.groupby(['source','mode'])[['boardings']].sum().\\\n",
    "        reset_index().\\\n",
    "        pivot(index='source', columns='mode')['boardings'].\\\n",
    "        rename_axis(columns={'mode': 'Transit boardings by mode'})\n",
    "tab['Total'] = tab.sum(axis=1)\n",
    "\n",
    "display(tab.style.format('{:,.0f}'))\n"
   ]
  },
  {
   "cell_type": "markdown",
   "metadata": {},
   "source": [
    "### boardings by agency"
   ]
  },
  {
   "cell_type": "raw",
   "metadata": {
    "vscode": {
     "languageId": "raw"
    }
   },
   "source": [
    ":::{.panel-tabset}\n",
    "\n",
    "#### all modes"
   ]
  },
  {
   "cell_type": "code",
   "execution_count": 5,
   "metadata": {
    "execution": {
     "iopub.execute_input": "2025-03-12T21:29:22.822049Z",
     "iopub.status.busy": "2025-03-12T21:29:22.820054Z",
     "iopub.status.idle": "2025-03-12T21:29:22.887238Z",
     "shell.execute_reply": "2025-03-12T21:29:22.885058Z"
    }
   },
   "outputs": [
    {
     "data": {
      "text/html": [
       "<style type=\"text/css\">\n",
       "</style>\n",
       "<table id=\"T_e9f91\">\n",
       "  <thead>\n",
       "    <tr>\n",
       "      <th class=\"index_name level0\" >Transit boardings by agency</th>\n",
       "      <th id=\"T_e9f91_level0_col0\" class=\"col_heading level0 col0\" >Community Transit</th>\n",
       "      <th id=\"T_e9f91_level0_col1\" class=\"col_heading level0 col1\" >Everett Transit</th>\n",
       "      <th id=\"T_e9f91_level0_col2\" class=\"col_heading level0 col2\" >King County Metro</th>\n",
       "      <th id=\"T_e9f91_level0_col3\" class=\"col_heading level0 col3\" >Kitsap Transit</th>\n",
       "      <th id=\"T_e9f91_level0_col4\" class=\"col_heading level0 col4\" >Pierce Transit</th>\n",
       "      <th id=\"T_e9f91_level0_col5\" class=\"col_heading level0 col5\" >Sound Transit</th>\n",
       "      <th id=\"T_e9f91_level0_col6\" class=\"col_heading level0 col6\" >Washington Ferries</th>\n",
       "      <th id=\"T_e9f91_level0_col7\" class=\"col_heading level0 col7\" >Total</th>\n",
       "    </tr>\n",
       "    <tr>\n",
       "      <th class=\"index_name level0\" >source</th>\n",
       "      <th class=\"blank col0\" >&nbsp;</th>\n",
       "      <th class=\"blank col1\" >&nbsp;</th>\n",
       "      <th class=\"blank col2\" >&nbsp;</th>\n",
       "      <th class=\"blank col3\" >&nbsp;</th>\n",
       "      <th class=\"blank col4\" >&nbsp;</th>\n",
       "      <th class=\"blank col5\" >&nbsp;</th>\n",
       "      <th class=\"blank col6\" >&nbsp;</th>\n",
       "      <th class=\"blank col7\" >&nbsp;</th>\n",
       "    </tr>\n",
       "  </thead>\n",
       "  <tbody>\n",
       "    <tr>\n",
       "      <th id=\"T_e9f91_level0_row0\" class=\"row_heading level0 row0\" >2023 base year</th>\n",
       "      <td id=\"T_e9f91_row0_col0\" class=\"data row0 col0\" >27,193</td>\n",
       "      <td id=\"T_e9f91_row0_col1\" class=\"data row0 col1\" >4,548</td>\n",
       "      <td id=\"T_e9f91_row0_col2\" class=\"data row0 col2\" >282,075</td>\n",
       "      <td id=\"T_e9f91_row0_col3\" class=\"data row0 col3\" >10,875</td>\n",
       "      <td id=\"T_e9f91_row0_col4\" class=\"data row0 col4\" >16,165</td>\n",
       "      <td id=\"T_e9f91_row0_col5\" class=\"data row0 col5\" >145,482</td>\n",
       "      <td id=\"T_e9f91_row0_col6\" class=\"data row0 col6\" >6,334</td>\n",
       "      <td id=\"T_e9f91_row0_col7\" class=\"data row0 col7\" >492,670</td>\n",
       "    </tr>\n",
       "    <tr>\n",
       "      <th id=\"T_e9f91_level0_row1\" class=\"row_heading level0 row1\" >2050</th>\n",
       "      <td id=\"T_e9f91_row1_col0\" class=\"data row1 col0\" >131,925</td>\n",
       "      <td id=\"T_e9f91_row1_col1\" class=\"data row1 col1\" >25,916</td>\n",
       "      <td id=\"T_e9f91_row1_col2\" class=\"data row1 col2\" >718,238</td>\n",
       "      <td id=\"T_e9f91_row1_col3\" class=\"data row1 col3\" >28,987</td>\n",
       "      <td id=\"T_e9f91_row1_col4\" class=\"data row1 col4\" >57,739</td>\n",
       "      <td id=\"T_e9f91_row1_col5\" class=\"data row1 col5\" >432,650</td>\n",
       "      <td id=\"T_e9f91_row1_col6\" class=\"data row1 col6\" >12,286</td>\n",
       "      <td id=\"T_e9f91_row1_col7\" class=\"data row1 col7\" >1,407,741</td>\n",
       "    </tr>\n",
       "    <tr>\n",
       "      <th id=\"T_e9f91_level0_row2\" class=\"row_heading level0 row2\" >2050 (no telecommute)</th>\n",
       "      <td id=\"T_e9f91_row2_col0\" class=\"data row2 col0\" >134,040</td>\n",
       "      <td id=\"T_e9f91_row2_col1\" class=\"data row2 col1\" >26,774</td>\n",
       "      <td id=\"T_e9f91_row2_col2\" class=\"data row2 col2\" >752,154</td>\n",
       "      <td id=\"T_e9f91_row2_col3\" class=\"data row2 col3\" >31,779</td>\n",
       "      <td id=\"T_e9f91_row2_col4\" class=\"data row2 col4\" >59,972</td>\n",
       "      <td id=\"T_e9f91_row2_col5\" class=\"data row2 col5\" >459,798</td>\n",
       "      <td id=\"T_e9f91_row2_col6\" class=\"data row2 col6\" >13,425</td>\n",
       "      <td id=\"T_e9f91_row2_col7\" class=\"data row2 col7\" >1,477,941</td>\n",
       "    </tr>\n",
       "  </tbody>\n",
       "</table>\n"
      ],
      "text/plain": [
       "<pandas.io.formats.style.Styler at 0x183b428fb20>"
      ]
     },
     "metadata": {},
     "output_type": "display_data"
    }
   ],
   "source": [
    "\n",
    "tab = df_transit_line.groupby(['source','agency'])[['boardings']].sum().\\\n",
    "        reset_index().\\\n",
    "        pivot(index='source', columns='agency')['boardings'].\\\n",
    "        rename_axis(columns={'agency': 'Transit boardings by agency'})\n",
    "tab['Total'] = tab.sum(axis=1)\n",
    "\n",
    "display(tab.style.format('{:,.0f}'))"
   ]
  },
  {
   "cell_type": "raw",
   "metadata": {
    "vscode": {
     "languageId": "raw"
    }
   },
   "source": [
    "#### bus only"
   ]
  },
  {
   "cell_type": "code",
   "execution_count": 6,
   "metadata": {
    "execution": {
     "iopub.execute_input": "2025-03-12T21:29:22.899975Z",
     "iopub.status.busy": "2025-03-12T21:29:22.898394Z",
     "iopub.status.idle": "2025-03-12T21:29:22.948281Z",
     "shell.execute_reply": "2025-03-12T21:29:22.946272Z"
    }
   },
   "outputs": [
    {
     "data": {
      "text/html": [
       "<style type=\"text/css\">\n",
       "</style>\n",
       "<table id=\"T_482e3\">\n",
       "  <thead>\n",
       "    <tr>\n",
       "      <th class=\"index_name level0\" >Transit boardings by agency</th>\n",
       "      <th id=\"T_482e3_level0_col0\" class=\"col_heading level0 col0\" >Community Transit</th>\n",
       "      <th id=\"T_482e3_level0_col1\" class=\"col_heading level0 col1\" >Everett Transit</th>\n",
       "      <th id=\"T_482e3_level0_col2\" class=\"col_heading level0 col2\" >King County Metro</th>\n",
       "      <th id=\"T_482e3_level0_col3\" class=\"col_heading level0 col3\" >Kitsap Transit</th>\n",
       "      <th id=\"T_482e3_level0_col4\" class=\"col_heading level0 col4\" >Pierce Transit</th>\n",
       "      <th id=\"T_482e3_level0_col5\" class=\"col_heading level0 col5\" >Sound Transit</th>\n",
       "      <th id=\"T_482e3_level0_col6\" class=\"col_heading level0 col6\" >Total</th>\n",
       "    </tr>\n",
       "    <tr>\n",
       "      <th class=\"index_name level0\" >source</th>\n",
       "      <th class=\"blank col0\" >&nbsp;</th>\n",
       "      <th class=\"blank col1\" >&nbsp;</th>\n",
       "      <th class=\"blank col2\" >&nbsp;</th>\n",
       "      <th class=\"blank col3\" >&nbsp;</th>\n",
       "      <th class=\"blank col4\" >&nbsp;</th>\n",
       "      <th class=\"blank col5\" >&nbsp;</th>\n",
       "      <th class=\"blank col6\" >&nbsp;</th>\n",
       "    </tr>\n",
       "  </thead>\n",
       "  <tbody>\n",
       "    <tr>\n",
       "      <th id=\"T_482e3_level0_row0\" class=\"row_heading level0 row0\" >2023 base year</th>\n",
       "      <td id=\"T_482e3_row0_col0\" class=\"data row0 col0\" >27,193</td>\n",
       "      <td id=\"T_482e3_row0_col1\" class=\"data row0 col1\" >4,548</td>\n",
       "      <td id=\"T_482e3_row0_col2\" class=\"data row0 col2\" >279,030</td>\n",
       "      <td id=\"T_482e3_row0_col3\" class=\"data row0 col3\" >5,072</td>\n",
       "      <td id=\"T_482e3_row0_col4\" class=\"data row0 col4\" >16,165</td>\n",
       "      <td id=\"T_482e3_row0_col5\" class=\"data row0 col5\" >42,890</td>\n",
       "      <td id=\"T_482e3_row0_col6\" class=\"data row0 col6\" >374,898</td>\n",
       "    </tr>\n",
       "    <tr>\n",
       "      <th id=\"T_482e3_level0_row1\" class=\"row_heading level0 row1\" >2050</th>\n",
       "      <td id=\"T_482e3_row1_col0\" class=\"data row1 col0\" >131,925</td>\n",
       "      <td id=\"T_482e3_row1_col1\" class=\"data row1 col1\" >25,916</td>\n",
       "      <td id=\"T_482e3_row1_col2\" class=\"data row1 col2\" >708,920</td>\n",
       "      <td id=\"T_482e3_row1_col3\" class=\"data row1 col3\" >18,554</td>\n",
       "      <td id=\"T_482e3_row1_col4\" class=\"data row1 col4\" >57,739</td>\n",
       "      <td id=\"T_482e3_row1_col5\" class=\"data row1 col5\" >28,668</td>\n",
       "      <td id=\"T_482e3_row1_col6\" class=\"data row1 col6\" >971,722</td>\n",
       "    </tr>\n",
       "    <tr>\n",
       "      <th id=\"T_482e3_level0_row2\" class=\"row_heading level0 row2\" >2050 (no telecommute)</th>\n",
       "      <td id=\"T_482e3_row2_col0\" class=\"data row2 col0\" >134,040</td>\n",
       "      <td id=\"T_482e3_row2_col1\" class=\"data row2 col1\" >26,774</td>\n",
       "      <td id=\"T_482e3_row2_col2\" class=\"data row2 col2\" >742,238</td>\n",
       "      <td id=\"T_482e3_row2_col3\" class=\"data row2 col3\" >20,213</td>\n",
       "      <td id=\"T_482e3_row2_col4\" class=\"data row2 col4\" >59,972</td>\n",
       "      <td id=\"T_482e3_row2_col5\" class=\"data row2 col5\" >29,641</td>\n",
       "      <td id=\"T_482e3_row2_col6\" class=\"data row2 col6\" >1,012,878</td>\n",
       "    </tr>\n",
       "  </tbody>\n",
       "</table>\n"
      ],
      "text/plain": [
       "<pandas.io.formats.style.Styler at 0x181b8880880>"
      ]
     },
     "metadata": {},
     "output_type": "display_data"
    }
   ],
   "source": [
    "df = df_transit_line[df_transit_line['mode'].isin(['b'])].copy()\n",
    "tab = df.groupby(['source','agency'])[['boardings']].sum().\\\n",
    "        reset_index().\\\n",
    "        pivot(index='source', columns='agency')['boardings'].\\\n",
    "        rename_axis(columns={'agency': 'Transit boardings by agency'})\n",
    "tab['Total'] = tab.sum(axis=1)\n",
    "\n",
    "display(tab.style.format('{:,.0f}'))"
   ]
  },
  {
   "cell_type": "raw",
   "metadata": {
    "vscode": {
     "languageId": "raw"
    }
   },
   "source": [
    ":::"
   ]
  },
  {
   "cell_type": "code",
   "execution_count": 7,
   "metadata": {
    "execution": {
     "iopub.execute_input": "2025-03-12T21:29:22.960244Z",
     "iopub.status.busy": "2025-03-12T21:29:22.959248Z",
     "iopub.status.idle": "2025-03-12T21:29:22.978435Z",
     "shell.execute_reply": "2025-03-12T21:29:22.976438Z"
    }
   },
   "outputs": [],
   "source": [
    "### boardings by key routes\n",
    "\n",
    "# def show_key_route_boardings(route_list):\n",
    "#         df = df_transit_line[df_transit_line['route_code'].isin(route_list)].copy()\n",
    "#         tab = df.groupby(['source','description'])[['boardings']].sum().\\\n",
    "#                 reset_index().\\\n",
    "#                 pivot(index='source', columns='description')['boardings'].\\\n",
    "#                 rename_axis(columns={'description': 'Transit boardings by key routes'})\n",
    "#         tab['Total'] = tab.sum(axis=1)\n",
    "\n",
    "#         display(tab.style.format('{:,.0f}', na_rep=\"-\"))"
   ]
  },
  {
   "cell_type": "code",
   "execution_count": 8,
   "metadata": {
    "execution": {
     "iopub.execute_input": "2025-03-12T21:29:22.989406Z",
     "iopub.status.busy": "2025-03-12T21:29:22.988407Z",
     "iopub.status.idle": "2025-03-12T21:29:23.009986Z",
     "shell.execute_reply": "2025-03-12T21:29:23.007992Z"
    }
   },
   "outputs": [],
   "source": [
    "# # Ferry\n",
    "# show_key_route_boardings([4200,4201,4203,4204,5001,5002,5003,5004,5005,5006,5007,1973,1975])\n",
    "# # Rail\n",
    "# show_key_route_boardings([6996,6999,6998])\n",
    "# # RapidRide, busiest buses, streetcar\n",
    "# show_key_route_boardings([1671,1672,1673,1674,1675,1676,6550,1007,1040,1997,1998])"
   ]
  },
  {
   "cell_type": "code",
   "execution_count": 9,
   "metadata": {
    "execution": {
     "iopub.execute_input": "2025-03-12T21:29:23.022147Z",
     "iopub.status.busy": "2025-03-12T21:29:23.021145Z",
     "iopub.status.idle": "2025-03-12T21:29:23.039850Z",
     "shell.execute_reply": "2025-03-12T21:29:23.038817Z"
    }
   },
   "outputs": [],
   "source": [
    "### boardings by light rail station\n",
    "# don't have station names\n",
    "\n",
    "# df = summary_data.load_agg_data('transit/light_rail_boardings.csv')\n",
    "# df"
   ]
  }
 ],
 "metadata": {
  "kernelspec": {
   "display_name": "build_notebook",
   "language": "python",
   "name": "python3"
  },
  "language_info": {
   "codemirror_mode": {
    "name": "ipython",
    "version": 3
   },
   "file_extension": ".py",
   "mimetype": "text/x-python",
   "name": "python",
   "nbconvert_exporter": "python",
   "pygments_lexer": "ipython3",
   "version": "3.10.15"
  }
 },
 "nbformat": 4,
 "nbformat_minor": 2
}
