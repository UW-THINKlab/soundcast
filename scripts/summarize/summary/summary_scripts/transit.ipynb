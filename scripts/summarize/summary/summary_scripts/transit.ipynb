{
 "cells": [
  {
   "cell_type": "raw",
   "metadata": {
    "vscode": {
     "languageId": "raw"
    }
   },
   "source": [
    "---\n",
    "title: \"Transit\"\n",
    "date: today\n",
    "---"
   ]
  },
  {
   "cell_type": "code",
   "execution_count": 1,
   "metadata": {
    "execution": {
     "iopub.execute_input": "2025-03-12T21:29:20.204811Z",
     "iopub.status.busy": "2025-03-12T21:29:20.202817Z",
     "iopub.status.idle": "2025-03-12T21:29:21.388799Z",
     "shell.execute_reply": "2025-03-12T21:29:21.386808Z"
    }
   },
   "outputs": [],
   "source": [
    "#| include: false\n",
    "\n",
    "import os\n",
    "import pandas as pd\n",
    "import numpy as np\n",
    "# import plotly.express as px\n",
    "import toml\n",
    "# import psrc_theme\n",
    "from pathlib import Path\n",
    "from scipy.spatial import cKDTree\n",
    "import summary_data\n",
    "import sqlite3\n",
    "\n",
    "# to show plotly figures in quarto HTML file\n",
    "# import plotly.io as pio\n",
    "# pio.renderers.default = \"plotly_mimetype+notebook_connected\"\n",
    "# pio.templates.default = \"simple_white+psrc_color\" # set plotly template\n",
    "\n",
    "config = summary_data.CONFIG\n",
    "valid_config = toml.load(Path(Path.cwd(), '..\\\\..\\\\..\\\\..\\\\configuration', 'validation_configuration.toml'))\n",
    "all_runs = summary_data.ALL_RUNS"
   ]
  },
  {
   "cell_type": "markdown",
   "metadata": {},
   "source": [
    "## transit boardings\n",
    "\n",
    "### boardings by mode"
   ]
  },
  {
   "cell_type": "code",
   "execution_count": 2,
   "metadata": {
    "execution": {
     "iopub.execute_input": "2025-03-12T21:29:21.401765Z",
     "iopub.status.busy": "2025-03-12T21:29:21.399770Z",
     "iopub.status.idle": "2025-03-12T21:29:21.420716Z",
     "shell.execute_reply": "2025-03-12T21:29:21.418797Z"
    }
   },
   "outputs": [],
   "source": [
    "# all_runs['current run']"
   ]
  },
  {
   "cell_type": "code",
   "execution_count": 3,
   "metadata": {
    "execution": {
     "iopub.execute_input": "2025-03-12T21:29:21.433225Z",
     "iopub.status.busy": "2025-03-12T21:29:21.431224Z",
     "iopub.status.idle": "2025-03-12T21:29:21.577275Z",
     "shell.execute_reply": "2025-03-12T21:29:21.574766Z"
    }
   },
   "outputs": [],
   "source": [
    "# Load model results and calculate modeled daily boarding by line\n",
    "df = summary_data.load_agg_data('transit/transit_line_results.csv')\n",
    "df_transit_line = (\n",
    "    df.groupby(['source', 'route_code', 'mode', 'agency_code'])\n",
    "    .agg({\"description\": \"first\", \"boardings\": \"sum\"})\n",
    "    .reset_index()\n",
    ")\n",
    "df_transit_line['agency'] = df_transit_line['agency_code'].astype('int').astype('str').map(config['agency_lookup'])"
   ]
  },
  {
   "cell_type": "code",
   "execution_count": 4,
   "metadata": {
    "execution": {
     "iopub.execute_input": "2025-03-12T21:29:21.588244Z",
     "iopub.status.busy": "2025-03-12T21:29:21.587247Z",
     "iopub.status.idle": "2025-03-12T21:29:22.809085Z",
     "shell.execute_reply": "2025-03-12T21:29:22.807088Z"
    }
   },
   "outputs": [
    {
     "data": {
      "text/html": [
       "<style  type=\"text/css\" >\n",
       "</style><table id=\"T_7acac_\" ><thead>    <tr>        <th class=\"index_name level0\" >Transit boardings by mode</th>        <th class=\"col_heading level0 col0\" >Bus</th>        <th class=\"col_heading level0 col1\" >Commuter Rail</th>        <th class=\"col_heading level0 col2\" >Ferry (f)</th>        <th class=\"col_heading level0 col3\" >Ferry (p)</th>        <th class=\"col_heading level0 col4\" >Light Rail</th>        <th class=\"col_heading level0 col5\" >Total</th>    </tr>    <tr>        <th class=\"index_name level0\" >source</th>        <th class=\"blank\" ></th>        <th class=\"blank\" ></th>        <th class=\"blank\" ></th>        <th class=\"blank\" ></th>        <th class=\"blank\" ></th>        <th class=\"blank\" ></th>    </tr></thead><tbody>\n",
       "                <tr>\n",
       "                        <th id=\"T_7acac_level0_row0\" class=\"row_heading level0 row0\" >current run</th>\n",
       "                        <td id=\"T_7acac_row0_col0\" class=\"data row0 col0\" >390,516</td>\n",
       "                        <td id=\"T_7acac_row0_col1\" class=\"data row0 col1\" >7,253</td>\n",
       "                        <td id=\"T_7acac_row0_col2\" class=\"data row0 col2\" >9,549</td>\n",
       "                        <td id=\"T_7acac_row0_col3\" class=\"data row0 col3\" >4,379</td>\n",
       "                        <td id=\"T_7acac_row0_col4\" class=\"data row0 col4\" >94,212</td>\n",
       "                        <td id=\"T_7acac_row0_col5\" class=\"data row0 col5\" >505,909</td>\n",
       "            </tr>\n",
       "    </tbody></table>"
      ],
      "text/plain": [
       "<pandas.io.formats.style.Styler at 0x1d85f200288>"
      ]
     },
     "metadata": {},
     "output_type": "display_data"
    }
   ],
   "source": [
    "tab = df_transit_line.groupby(['source','mode'])[['boardings']].sum().\\\n",
    "        reset_index().\\\n",
    "        pivot(index='source', columns='mode')['boardings'].\\\n",
    "        rename_axis(columns={'mode': 'Transit boardings by mode'})\n",
    "tab['Total'] = tab.sum(axis=1)\n",
    "\n",
    "tab.rename(columns={'b': 'Bus', 'c': 'Commuter Rail', 'f': 'Ferry (f)', 'r': 'Light Rail', 'p': 'Ferry (p)'}, inplace=True)\n",
    "\n",
    "display(tab.style.format('{:,.0f}'))\n"
   ]
  },
  {
   "cell_type": "markdown",
   "metadata": {},
   "source": [
    "### boardings by agency"
   ]
  },
  {
   "cell_type": "raw",
   "metadata": {
    "vscode": {
     "languageId": "raw"
    }
   },
   "source": [
    ":::{.panel-tabset}\n",
    "\n",
    "#### all modes"
   ]
  },
  {
   "cell_type": "code",
   "execution_count": 5,
   "metadata": {
    "execution": {
     "iopub.execute_input": "2025-03-12T21:29:22.822049Z",
     "iopub.status.busy": "2025-03-12T21:29:22.820054Z",
     "iopub.status.idle": "2025-03-12T21:29:22.887238Z",
     "shell.execute_reply": "2025-03-12T21:29:22.885058Z"
    }
   },
   "outputs": [
    {
     "data": {
      "text/html": [
       "<style  type=\"text/css\" >\n",
       "</style><table id=\"T_f0f81_\" ><thead>    <tr>        <th class=\"index_name level0\" >Transit boardings by agency</th>        <th class=\"col_heading level0 col0\" >Community Transit</th>        <th class=\"col_heading level0 col1\" >Everett Transit</th>        <th class=\"col_heading level0 col2\" >King County Metro</th>        <th class=\"col_heading level0 col3\" >Kitsap Transit</th>        <th class=\"col_heading level0 col4\" >Pierce Transit</th>        <th class=\"col_heading level0 col5\" >Sound Transit</th>        <th class=\"col_heading level0 col6\" >Washington Ferries</th>        <th class=\"col_heading level0 col7\" >Total</th>    </tr>    <tr>        <th class=\"index_name level0\" >source</th>        <th class=\"blank\" ></th>        <th class=\"blank\" ></th>        <th class=\"blank\" ></th>        <th class=\"blank\" ></th>        <th class=\"blank\" ></th>        <th class=\"blank\" ></th>        <th class=\"blank\" ></th>        <th class=\"blank\" ></th>    </tr></thead><tbody>\n",
       "                <tr>\n",
       "                        <th id=\"T_f0f81_level0_row0\" class=\"row_heading level0 row0\" >current run</th>\n",
       "                        <td id=\"T_f0f81_row0_col0\" class=\"data row0 col0\" >26,521</td>\n",
       "                        <td id=\"T_f0f81_row0_col1\" class=\"data row0 col1\" >5,015</td>\n",
       "                        <td id=\"T_f0f81_row0_col2\" class=\"data row0 col2\" >289,533</td>\n",
       "                        <td id=\"T_f0f81_row0_col3\" class=\"data row0 col3\" >12,045</td>\n",
       "                        <td id=\"T_f0f81_row0_col4\" class=\"data row0 col4\" >23,500</td>\n",
       "                        <td id=\"T_f0f81_row0_col5\" class=\"data row0 col5\" >142,784</td>\n",
       "                        <td id=\"T_f0f81_row0_col6\" class=\"data row0 col6\" >6,512</td>\n",
       "                        <td id=\"T_f0f81_row0_col7\" class=\"data row0 col7\" >505,909</td>\n",
       "            </tr>\n",
       "    </tbody></table>"
      ],
      "text/plain": [
       "<pandas.io.formats.style.Styler at 0x1d860034708>"
      ]
     },
     "metadata": {},
     "output_type": "display_data"
    }
   ],
   "source": [
    "\n",
    "tab = df_transit_line.groupby(['source','agency'])[['boardings']].sum().\\\n",
    "        reset_index().\\\n",
    "        pivot(index='source', columns='agency')['boardings'].\\\n",
    "        rename_axis(columns={'agency': 'Transit boardings by agency'})\n",
    "tab['Total'] = tab.sum(axis=1)\n",
    "\n",
    "display(tab.style.format('{:,.0f}'))"
   ]
  },
  {
   "cell_type": "raw",
   "metadata": {
    "vscode": {
     "languageId": "raw"
    }
   },
   "source": [
    "#### bus only"
   ]
  },
  {
   "cell_type": "code",
   "execution_count": 6,
   "metadata": {
    "execution": {
     "iopub.execute_input": "2025-03-12T21:29:22.899975Z",
     "iopub.status.busy": "2025-03-12T21:29:22.898394Z",
     "iopub.status.idle": "2025-03-12T21:29:22.948281Z",
     "shell.execute_reply": "2025-03-12T21:29:22.946272Z"
    }
   },
   "outputs": [
    {
     "data": {
      "text/html": [
       "<style  type=\"text/css\" >\n",
       "</style><table id=\"T_29158_\" ><thead>    <tr>        <th class=\"index_name level0\" >Transit boardings by agency</th>        <th class=\"col_heading level0 col0\" >Community Transit</th>        <th class=\"col_heading level0 col1\" >Everett Transit</th>        <th class=\"col_heading level0 col2\" >King County Metro</th>        <th class=\"col_heading level0 col3\" >Kitsap Transit</th>        <th class=\"col_heading level0 col4\" >Pierce Transit</th>        <th class=\"col_heading level0 col5\" >Sound Transit</th>        <th class=\"col_heading level0 col6\" >Total</th>    </tr>    <tr>        <th class=\"index_name level0\" >source</th>        <th class=\"blank\" ></th>        <th class=\"blank\" ></th>        <th class=\"blank\" ></th>        <th class=\"blank\" ></th>        <th class=\"blank\" ></th>        <th class=\"blank\" ></th>        <th class=\"blank\" ></th>    </tr></thead><tbody>\n",
       "                <tr>\n",
       "                        <th id=\"T_29158_level0_row0\" class=\"row_heading level0 row0\" >current run</th>\n",
       "                        <td id=\"T_29158_row0_col0\" class=\"data row0 col0\" >26,521</td>\n",
       "                        <td id=\"T_29158_row0_col1\" class=\"data row0 col1\" >5,015</td>\n",
       "                        <td id=\"T_29158_row0_col2\" class=\"data row0 col2\" >286,615</td>\n",
       "                        <td id=\"T_29158_row0_col3\" class=\"data row0 col3\" >5,693</td>\n",
       "                        <td id=\"T_29158_row0_col4\" class=\"data row0 col4\" >23,500</td>\n",
       "                        <td id=\"T_29158_row0_col5\" class=\"data row0 col5\" >43,172</td>\n",
       "                        <td id=\"T_29158_row0_col6\" class=\"data row0 col6\" >390,516</td>\n",
       "            </tr>\n",
       "    </tbody></table>"
      ],
      "text/plain": [
       "<pandas.io.formats.style.Styler at 0x1d85c5b3e48>"
      ]
     },
     "metadata": {},
     "output_type": "display_data"
    }
   ],
   "source": [
    "df = df_transit_line[df_transit_line['mode'].isin(['b'])].copy()\n",
    "tab = df.groupby(['source','agency'])[['boardings']].sum().\\\n",
    "        reset_index().\\\n",
    "        pivot(index='source', columns='agency')['boardings'].\\\n",
    "        rename_axis(columns={'agency': 'Transit boardings by agency'})\n",
    "tab['Total'] = tab.sum(axis=1)\n",
    "\n",
    "display(tab.style.format('{:,.0f}'))"
   ]
  },
  {
   "cell_type": "raw",
   "metadata": {
    "vscode": {
     "languageId": "raw"
    }
   },
   "source": [
    ":::"
   ]
  },
  {
   "cell_type": "code",
   "execution_count": 7,
   "metadata": {
    "execution": {
     "iopub.execute_input": "2025-03-12T21:29:22.960244Z",
     "iopub.status.busy": "2025-03-12T21:29:22.959248Z",
     "iopub.status.idle": "2025-03-12T21:29:22.978435Z",
     "shell.execute_reply": "2025-03-12T21:29:22.976438Z"
    }
   },
   "outputs": [],
   "source": [
    "### boardings by key routes\n",
    "\n",
    "# def show_key_route_boardings(route_list):\n",
    "#         df = df_transit_line[df_transit_line['route_code'].isin(route_list)].copy()\n",
    "#         tab = df.groupby(['source','description'])[['boardings']].sum().\\\n",
    "#                 reset_index().\\\n",
    "#                 pivot(index='source', columns='description')['boardings'].\\\n",
    "#                 rename_axis(columns={'description': 'Transit boardings by key routes'})\n",
    "#         tab['Total'] = tab.sum(axis=1)\n",
    "\n",
    "#         display(tab.style.format('{:,.0f}', na_rep=\"-\"))"
   ]
  },
  {
   "cell_type": "code",
   "execution_count": 8,
   "metadata": {
    "execution": {
     "iopub.execute_input": "2025-03-12T21:29:22.989406Z",
     "iopub.status.busy": "2025-03-12T21:29:22.988407Z",
     "iopub.status.idle": "2025-03-12T21:29:23.009986Z",
     "shell.execute_reply": "2025-03-12T21:29:23.007992Z"
    }
   },
   "outputs": [],
   "source": [
    "# # Ferry\n",
    "# show_key_route_boardings([4200,4201,4203,4204,5001,5002,5003,5004,5005,5006,5007,1973,1975])\n",
    "# # Rail\n",
    "# show_key_route_boardings([6996,6999,6998])\n",
    "# # RapidRide, busiest buses, streetcar\n",
    "# show_key_route_boardings([1671,1672,1673,1674,1675,1676,6550,1007,1040,1997,1998])"
   ]
  },
  {
   "cell_type": "code",
   "execution_count": 9,
   "metadata": {},
   "outputs": [
    {
     "data": {
      "text/html": [
       "<style  type=\"text/css\" >\n",
       "</style><table id=\"T_602ec_\" ><thead>    <tr>        <th class=\"index_name level0\" >source</th>        <th class=\"col_heading level0 col0\" >current run</th>    </tr>    <tr>        <th class=\"index_name level0\" >station_name</th>        <th class=\"blank\" ></th>    </tr></thead><tbody>\n",
       "                <tr>\n",
       "                        <th id=\"T_602ec_level0_row0\" class=\"row_heading level0 row0\" >Angle Lake</th>\n",
       "                        <td id=\"T_602ec_row0_col0\" class=\"data row0 col0\" >3,067</td>\n",
       "            </tr>\n",
       "            <tr>\n",
       "                        <th id=\"T_602ec_level0_row1\" class=\"row_heading level0 row1\" >Beacon Hill</th>\n",
       "                        <td id=\"T_602ec_row1_col0\" class=\"data row1 col0\" >1,501</td>\n",
       "            </tr>\n",
       "            <tr>\n",
       "                        <th id=\"T_602ec_level0_row2\" class=\"row_heading level0 row2\" >Capitol Hill</th>\n",
       "                        <td id=\"T_602ec_row2_col0\" class=\"data row2 col0\" >8,022</td>\n",
       "            </tr>\n",
       "            <tr>\n",
       "                        <th id=\"T_602ec_level0_row3\" class=\"row_heading level0 row3\" >Columbia City</th>\n",
       "                        <td id=\"T_602ec_row3_col0\" class=\"data row3 col0\" >1,812</td>\n",
       "            </tr>\n",
       "            <tr>\n",
       "                        <th id=\"T_602ec_level0_row4\" class=\"row_heading level0 row4\" >Commerce Station</th>\n",
       "                        <td id=\"T_602ec_row4_col0\" class=\"data row4 col0\" >463</td>\n",
       "            </tr>\n",
       "            <tr>\n",
       "                        <th id=\"T_602ec_level0_row5\" class=\"row_heading level0 row5\" >Convention Center Station</th>\n",
       "                        <td id=\"T_602ec_row5_col0\" class=\"data row5 col0\" >660</td>\n",
       "            </tr>\n",
       "            <tr>\n",
       "                        <th id=\"T_602ec_level0_row6\" class=\"row_heading level0 row6\" >Husky Stadium</th>\n",
       "                        <td id=\"T_602ec_row6_col0\" class=\"data row6 col0\" >3,856</td>\n",
       "            </tr>\n",
       "            <tr>\n",
       "                        <th id=\"T_602ec_level0_row7\" class=\"row_heading level0 row7\" >Int'l District</th>\n",
       "                        <td id=\"T_602ec_row7_col0\" class=\"data row7 col0\" >1,790</td>\n",
       "            </tr>\n",
       "            <tr>\n",
       "                        <th id=\"T_602ec_level0_row8\" class=\"row_heading level0 row8\" >Mount Baker</th>\n",
       "                        <td id=\"T_602ec_row8_col0\" class=\"data row8 col0\" >1,634</td>\n",
       "            </tr>\n",
       "            <tr>\n",
       "                        <th id=\"T_602ec_level0_row9\" class=\"row_heading level0 row9\" >Northgate Station</th>\n",
       "                        <td id=\"T_602ec_row9_col0\" class=\"data row9 col0\" >9,607</td>\n",
       "            </tr>\n",
       "            <tr>\n",
       "                        <th id=\"T_602ec_level0_row10\" class=\"row_heading level0 row10\" >Othello</th>\n",
       "                        <td id=\"T_602ec_row10_col0\" class=\"data row10 col0\" >2,320</td>\n",
       "            </tr>\n",
       "            <tr>\n",
       "                        <th id=\"T_602ec_level0_row11\" class=\"row_heading level0 row11\" >Pioneer Square</th>\n",
       "                        <td id=\"T_602ec_row11_col0\" class=\"data row11 col0\" >5,343</td>\n",
       "            </tr>\n",
       "            <tr>\n",
       "                        <th id=\"T_602ec_level0_row12\" class=\"row_heading level0 row12\" >Rainier Beach</th>\n",
       "                        <td id=\"T_602ec_row12_col0\" class=\"data row12 col0\" >1,980</td>\n",
       "            </tr>\n",
       "            <tr>\n",
       "                        <th id=\"T_602ec_level0_row13\" class=\"row_heading level0 row13\" >Roosevelt Station</th>\n",
       "                        <td id=\"T_602ec_row13_col0\" class=\"data row13 col0\" >8,585</td>\n",
       "            </tr>\n",
       "            <tr>\n",
       "                        <th id=\"T_602ec_level0_row14\" class=\"row_heading level0 row14\" >S 25th St Station</th>\n",
       "                        <td id=\"T_602ec_row14_col0\" class=\"data row14 col0\" >536</td>\n",
       "            </tr>\n",
       "            <tr>\n",
       "                        <th id=\"T_602ec_level0_row15\" class=\"row_heading level0 row15\" >SODO</th>\n",
       "                        <td id=\"T_602ec_row15_col0\" class=\"data row15 col0\" >3,425</td>\n",
       "            </tr>\n",
       "            <tr>\n",
       "                        <th id=\"T_602ec_level0_row16\" class=\"row_heading level0 row16\" >SeaTac/Airport</th>\n",
       "                        <td id=\"T_602ec_row16_col0\" class=\"data row16 col0\" >6,626</td>\n",
       "            </tr>\n",
       "            <tr>\n",
       "                        <th id=\"T_602ec_level0_row17\" class=\"row_heading level0 row17\" >Stadium</th>\n",
       "                        <td id=\"T_602ec_row17_col0\" class=\"data row17 col0\" >556</td>\n",
       "            </tr>\n",
       "            <tr>\n",
       "                        <th id=\"T_602ec_level0_row18\" class=\"row_heading level0 row18\" >Symphony</th>\n",
       "                        <td id=\"T_602ec_row18_col0\" class=\"data row18 col0\" >6,477</td>\n",
       "            </tr>\n",
       "            <tr>\n",
       "                        <th id=\"T_602ec_level0_row19\" class=\"row_heading level0 row19\" >Tacoma Dome Station</th>\n",
       "                        <td id=\"T_602ec_row19_col0\" class=\"data row19 col0\" >282</td>\n",
       "            </tr>\n",
       "            <tr>\n",
       "                        <th id=\"T_602ec_level0_row20\" class=\"row_heading level0 row20\" >Tukwila Int'l Blvd</th>\n",
       "                        <td id=\"T_602ec_row20_col0\" class=\"data row20 col0\" >3,115</td>\n",
       "            </tr>\n",
       "            <tr>\n",
       "                        <th id=\"T_602ec_level0_row21\" class=\"row_heading level0 row21\" >Union Station</th>\n",
       "                        <td id=\"T_602ec_row21_col0\" class=\"data row21 col0\" >242</td>\n",
       "            </tr>\n",
       "            <tr>\n",
       "                        <th id=\"T_602ec_level0_row22\" class=\"row_heading level0 row22\" >University District Station</th>\n",
       "                        <td id=\"T_602ec_row22_col0\" class=\"data row22 col0\" >9,047</td>\n",
       "            </tr>\n",
       "            <tr>\n",
       "                        <th id=\"T_602ec_level0_row23\" class=\"row_heading level0 row23\" >Westlake</th>\n",
       "                        <td id=\"T_602ec_row23_col0\" class=\"data row23 col0\" >11,413</td>\n",
       "            </tr>\n",
       "    </tbody></table>"
      ],
      "text/plain": [
       "<pandas.io.formats.style.Styler at 0x1d85c5ea648>"
      ]
     },
     "execution_count": 9,
     "metadata": {},
     "output_type": "execute_result"
    }
   ],
   "source": [
    "# Light rail boardings by station\n",
    "df_boardings = summary_data.load_agg_data('transit/boardings_by_stop.csv')\n",
    "\n",
    "df_transit_stops = summary_data.load_agg_data('../inputs/scenario/networks/transit_stops.csv')\n",
    "light_rail_df = df_transit_stops[df_transit_stops['light_rail']==1]\n",
    "light_rail_df = light_rail_df[['PSRCJunctID', 'x', 'y','source']]\n",
    "\n",
    "df = pd.merge(df_boardings, light_rail_df, left_on=['i_node','source'], right_on=['PSRCJunctID','source'])\n",
    "\n",
    "# # # Load station names\n",
    "df_sql = summary_data.load_sqlite(\"SELECT station_name, emme_node FROM light_rail_station_boardings\")\n",
    "# df_sql\n",
    "# # # Merge station names to df \n",
    "df = df.merge(df_sql, left_on=['PSRCJunctID','source'], right_on=['emme_node','source'])\n",
    "# # df.to_clipboard()\n",
    "# # df_sql\n",
    "df = df[['total_boardings','station_name','PSRCJunctID','source']].drop_duplicates()\n",
    "\n",
    "# pivot table of boardings by station and source\n",
    "df = df.pivot_table(index='station_name', columns='source', values='total_boardings', aggfunc='sum')\n",
    "df.style.format('{:,.0f}', na_rep='-')"
   ]
  },
  {
   "cell_type": "markdown",
   "metadata": {
    "vscode": {
     "languageId": "raw"
    }
   },
   "source": [
    "## Employment within 1 mile of Light Rail Station"
   ]
  },
  {
   "cell_type": "code",
   "execution_count": 10,
   "metadata": {},
   "outputs": [],
   "source": [
    "df_transit_stops = summary_data.load_agg_data('../inputs/scenario/networks/transit_stops.csv')\n",
    "light_rail_df = df_transit_stops[df_transit_stops['light_rail']==1]\n",
    "light_rail_df = light_rail_df[['PSRCJunctID', 'x', 'y','source']]\n",
    "\n",
    "# light_rail_df\n",
    "\n",
    "output_df = pd.DataFrame()\n",
    "\n",
    "df_parcels = summary_data.load_landuse('landuse/buffered_parcels.txt')\n",
    "\n",
    "# Create a KDTree for fast nearest-neighbor lookup\n",
    "for source in df_parcels.source.unique():\n",
    "    \n",
    "    station_df = light_rail_df[light_rail_df['source']==source].copy()\n",
    "    parcel_df = df_parcels[df_parcels['source']==source].copy()\n",
    "\n",
    "    parcel_tree = cKDTree(parcel_df[['xcoord_p', 'ycoord_p']])\n",
    "\n",
    "    # Query the nearest parcel for each light rail station\n",
    "    distances, indices = parcel_tree.query(station_df[['x', 'y']])\n",
    "\n",
    "    # Add the nearest parcel ID to the light rail dataframe\n",
    "    station_df['nearest_parcel_id'] = parcel_df.iloc[indices]['parcelid'].values\n",
    "\n",
    "    # Merge light_rail_df with df_parcel to get the emptot_2 field\n",
    "    result_df = station_df.merge(parcel_df[['parcelid', 'emptot_2']], \n",
    "                                                 left_on='nearest_parcel_id', right_on='parcelid', how='left')\n",
    "\n",
    "\n",
    "    # # Get light rail station names\n",
    "    # # load from sqlite db\n",
    "\n",
    "    con = sqlite3.connect(os.path.join(all_runs[source], 'inputs', 'db', 'soundcast_inputs_2023.db'))\n",
    "    df_station_names = pd.read_sql_query(\"SELECT * FROM light_rail_station_boardings\", con)\n",
    "    df_station_names = df_station_names[['emme_node','station_name']].drop_duplicates()\n",
    "\n",
    "    result_df = result_df.merge(df_station_names, left_on='PSRCJunctID', right_on='emme_node', how='left')\n",
    "\n",
    "    # Select relevant columns to display\n",
    "    result_df = result_df[['station_name', 'nearest_parcel_id', 'emptot_2']]\n",
    "\n",
    "    result_df['source'] = source\n",
    "    output_df = pd.concat([output_df, result_df])\n"
   ]
  },
  {
   "cell_type": "code",
   "execution_count": 11,
   "metadata": {},
   "outputs": [
    {
     "data": {
      "text/html": [
       "<style  type=\"text/css\" >\n",
       "</style><table id=\"T_60aed_\" ><thead>    <tr>        <th class=\"index_name level0\" >source</th>        <th class=\"col_heading level0 col0\" >current run</th>    </tr>    <tr>        <th class=\"index_name level0\" >station_name</th>        <th class=\"blank\" ></th>    </tr></thead><tbody>\n",
       "                <tr>\n",
       "                        <th id=\"T_60aed_level0_row0\" class=\"row_heading level0 row0\" >Angle Lake</th>\n",
       "                        <td id=\"T_60aed_row0_col0\" class=\"data row0 col0\" >10,763</td>\n",
       "            </tr>\n",
       "            <tr>\n",
       "                        <th id=\"T_60aed_level0_row1\" class=\"row_heading level0 row1\" >Beacon Hill</th>\n",
       "                        <td id=\"T_60aed_row1_col0\" class=\"data row1 col0\" >2,701</td>\n",
       "            </tr>\n",
       "            <tr>\n",
       "                        <th id=\"T_60aed_level0_row2\" class=\"row_heading level0 row2\" >Capitol Hill</th>\n",
       "                        <td id=\"T_60aed_row2_col0\" class=\"data row2 col0\" >47,761</td>\n",
       "            </tr>\n",
       "            <tr>\n",
       "                        <th id=\"T_60aed_level0_row3\" class=\"row_heading level0 row3\" >Columbia City</th>\n",
       "                        <td id=\"T_60aed_row3_col0\" class=\"data row3 col0\" >4,179</td>\n",
       "            </tr>\n",
       "            <tr>\n",
       "                        <th id=\"T_60aed_level0_row4\" class=\"row_heading level0 row4\" >Commerce Station</th>\n",
       "                        <td id=\"T_60aed_row4_col0\" class=\"data row4 col0\" >16,293</td>\n",
       "            </tr>\n",
       "            <tr>\n",
       "                        <th id=\"T_60aed_level0_row5\" class=\"row_heading level0 row5\" >Convention Center Station</th>\n",
       "                        <td id=\"T_60aed_row5_col0\" class=\"data row5 col0\" >16,239</td>\n",
       "            </tr>\n",
       "            <tr>\n",
       "                        <th id=\"T_60aed_level0_row6\" class=\"row_heading level0 row6\" >Husky Stadium</th>\n",
       "                        <td id=\"T_60aed_row6_col0\" class=\"data row6 col0\" >16,169</td>\n",
       "            </tr>\n",
       "            <tr>\n",
       "                        <th id=\"T_60aed_level0_row7\" class=\"row_heading level0 row7\" >Int'l District</th>\n",
       "                        <td id=\"T_60aed_row7_col0\" class=\"data row7 col0\" >80,463</td>\n",
       "            </tr>\n",
       "            <tr>\n",
       "                        <th id=\"T_60aed_level0_row8\" class=\"row_heading level0 row8\" >Mount Baker</th>\n",
       "                        <td id=\"T_60aed_row8_col0\" class=\"data row8 col0\" >3,607</td>\n",
       "            </tr>\n",
       "            <tr>\n",
       "                        <th id=\"T_60aed_level0_row9\" class=\"row_heading level0 row9\" >Northgate Station</th>\n",
       "                        <td id=\"T_60aed_row9_col0\" class=\"data row9 col0\" >5,619</td>\n",
       "            </tr>\n",
       "            <tr>\n",
       "                        <th id=\"T_60aed_level0_row10\" class=\"row_heading level0 row10\" >Othello</th>\n",
       "                        <td id=\"T_60aed_row10_col0\" class=\"data row10 col0\" >1,784</td>\n",
       "            </tr>\n",
       "            <tr>\n",
       "                        <th id=\"T_60aed_level0_row11\" class=\"row_heading level0 row11\" >Pioneer Square</th>\n",
       "                        <td id=\"T_60aed_row11_col0\" class=\"data row11 col0\" >122,571</td>\n",
       "            </tr>\n",
       "            <tr>\n",
       "                        <th id=\"T_60aed_level0_row12\" class=\"row_heading level0 row12\" >Rainier Beach</th>\n",
       "                        <td id=\"T_60aed_row12_col0\" class=\"data row12 col0\" >1,396</td>\n",
       "            </tr>\n",
       "            <tr>\n",
       "                        <th id=\"T_60aed_level0_row13\" class=\"row_heading level0 row13\" >Roosevelt Station</th>\n",
       "                        <td id=\"T_60aed_row13_col0\" class=\"data row13 col0\" >4,152</td>\n",
       "            </tr>\n",
       "            <tr>\n",
       "                        <th id=\"T_60aed_level0_row14\" class=\"row_heading level0 row14\" >S 25th St Station</th>\n",
       "                        <td id=\"T_60aed_row14_col0\" class=\"data row14 col0\" >6,244</td>\n",
       "            </tr>\n",
       "            <tr>\n",
       "                        <th id=\"T_60aed_level0_row15\" class=\"row_heading level0 row15\" >SODO</th>\n",
       "                        <td id=\"T_60aed_row15_col0\" class=\"data row15 col0\" >11,198</td>\n",
       "            </tr>\n",
       "            <tr>\n",
       "                        <th id=\"T_60aed_level0_row16\" class=\"row_heading level0 row16\" >SeaTac/Airport</th>\n",
       "                        <td id=\"T_60aed_row16_col0\" class=\"data row16 col0\" >9,381</td>\n",
       "            </tr>\n",
       "            <tr>\n",
       "                        <th id=\"T_60aed_level0_row17\" class=\"row_heading level0 row17\" >Stadium</th>\n",
       "                        <td id=\"T_60aed_row17_col0\" class=\"data row17 col0\" >31,650</td>\n",
       "            </tr>\n",
       "            <tr>\n",
       "                        <th id=\"T_60aed_level0_row18\" class=\"row_heading level0 row18\" >Symphony</th>\n",
       "                        <td id=\"T_60aed_row18_col0\" class=\"data row18 col0\" >152,434</td>\n",
       "            </tr>\n",
       "            <tr>\n",
       "                        <th id=\"T_60aed_level0_row19\" class=\"row_heading level0 row19\" >Tacoma Dome Station</th>\n",
       "                        <td id=\"T_60aed_row19_col0\" class=\"data row19 col0\" >4,223</td>\n",
       "            </tr>\n",
       "            <tr>\n",
       "                        <th id=\"T_60aed_level0_row20\" class=\"row_heading level0 row20\" >Tukwila Int'l Blvd</th>\n",
       "                        <td id=\"T_60aed_row20_col0\" class=\"data row20 col0\" >2,923</td>\n",
       "            </tr>\n",
       "            <tr>\n",
       "                        <th id=\"T_60aed_level0_row21\" class=\"row_heading level0 row21\" >Union Station</th>\n",
       "                        <td id=\"T_60aed_row21_col0\" class=\"data row21 col0\" >12,689</td>\n",
       "            </tr>\n",
       "            <tr>\n",
       "                        <th id=\"T_60aed_level0_row22\" class=\"row_heading level0 row22\" >University District Station</th>\n",
       "                        <td id=\"T_60aed_row22_col0\" class=\"data row22 col0\" >18,133</td>\n",
       "            </tr>\n",
       "            <tr>\n",
       "                        <th id=\"T_60aed_level0_row23\" class=\"row_heading level0 row23\" >Westlake</th>\n",
       "                        <td id=\"T_60aed_row23_col0\" class=\"data row23 col0\" >164,675</td>\n",
       "            </tr>\n",
       "    </tbody></table>"
      ],
      "text/plain": [
       "<pandas.io.formats.style.Styler at 0x1d860763608>"
      ]
     },
     "execution_count": 11,
     "metadata": {},
     "output_type": "execute_result"
    }
   ],
   "source": [
    "# pivot table of emploment station name\n",
    "df = output_df.groupby(['source','station_name'])[['emptot_2']].sum().\\\n",
    "        reset_index().\\\n",
    "        pivot(index='source', columns='station_name')['emptot_2']\n",
    "df.T.style.format('{:,.0f}', na_rep='-')"
   ]
  },
  {
   "cell_type": "code",
   "execution_count": null,
   "metadata": {},
   "outputs": [],
   "source": []
  }
 ],
 "metadata": {
  "kernelspec": {
   "display_name": "summary",
   "language": "python",
   "name": "python3"
  },
  "language_info": {
   "codemirror_mode": {
    "name": "ipython",
    "version": 3
   },
   "file_extension": ".py",
   "mimetype": "text/x-python",
   "name": "python",
   "nbconvert_exporter": "python",
   "pygments_lexer": "ipython3",
   "version": "3.7.10"
  }
 },
 "nbformat": 4,
 "nbformat_minor": 2
}
