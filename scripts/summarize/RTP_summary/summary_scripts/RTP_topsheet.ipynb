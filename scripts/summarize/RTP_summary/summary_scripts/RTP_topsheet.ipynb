{
 "cells": [
  {
   "cell_type": "raw",
   "id": "daadae17",
   "metadata": {
    "vscode": {
     "languageId": "raw"
    }
   },
   "source": [
    "---\n",
    "title: \"Top Sheet Summary\"\n",
    "date: today\n",
    "---"
   ]
  },
  {
   "cell_type": "code",
   "execution_count": 1,
   "id": "d3920e17",
   "metadata": {
    "execution": {
     "iopub.execute_input": "2025-07-15T22:47:36.394857Z",
     "iopub.status.busy": "2025-07-15T22:47:36.393856Z",
     "iopub.status.idle": "2025-07-15T22:47:37.048205Z",
     "shell.execute_reply": "2025-07-15T22:47:37.047661Z"
    }
   },
   "outputs": [],
   "source": [
    "import pandas as pd\n",
    "import numpy as np\n",
    "import toml\n",
    "from pathlib import Path\n",
    "\n",
    "config = toml.load(Path.cwd() / '../../../../configuration/input_configuration.toml')\n",
    "summary_config = toml.load(Path.cwd() / '../../../../configuration/summary_configuration.toml')\n",
    "\n",
    "pd.set_option('display.float_format', '{:,.0f}'.format)"
   ]
  },
  {
   "cell_type": "code",
   "execution_count": 2,
   "id": "032f98ac",
   "metadata": {
    "execution": {
     "iopub.execute_input": "2025-07-15T22:47:37.051161Z",
     "iopub.status.busy": "2025-07-15T22:47:37.051161Z",
     "iopub.status.idle": "2025-07-15T22:47:37.054985Z",
     "shell.execute_reply": "2025-07-15T22:47:37.054985Z"
    }
   },
   "outputs": [],
   "source": [
    "# Relative path between notebooks and goruped output directories\n",
    "output_path = Path(summary_config['sc_run_path']) / summary_config[\"output_folder\"]\n",
    "survey_path = Path(summary_config['sc_run_path']) / summary_config[\"survey_folder\"]"
   ]
  },
  {
   "cell_type": "code",
   "execution_count": 3,
   "id": "84419b4d",
   "metadata": {
    "execution": {
     "iopub.execute_input": "2025-07-15T22:47:37.057974Z",
     "iopub.status.busy": "2025-07-15T22:47:37.057974Z",
     "iopub.status.idle": "2025-07-15T22:47:37.064450Z",
     "shell.execute_reply": "2025-07-15T22:47:37.064450Z"
    }
   },
   "outputs": [],
   "source": [
    "def load_network_summary(filepath):\n",
    "    \"\"\"Load network-level results using a standard procedure. \"\"\"\n",
    "    df = pd.read_csv(filepath)\n",
    "\n",
    "    # Get freeflow from 20to5 period\n",
    "\n",
    "    # Exclude trips taken on non-designated facilities (facility_type == 0)\n",
    "    # These are artificial (weave lanes to connect HOV) or for non-auto uses \n",
    "    df = df[df['data3'] != 0]    # data3 represents facility_type\n",
    "\n",
    "    # calculate total link VMT and VHT\n",
    "    df['VMT'] = df['@tveh']*df['length']\n",
    "    df['VHT'] = df['@tveh']*df['auto_time']/60\n",
    "\n",
    "    # Define facility type\n",
    "    df.loc[df['data3'].isin([1,2]), 'facility_type'] = 'highway'\n",
    "    df.loc[df['data3'].isin([3,4,6]), 'facility_type'] = 'arterial'\n",
    "    df.loc[df['data3'].isin([5]), 'facility_type'] = 'connector'\n",
    "\n",
    "    # Calculate delay\n",
    "    # Select links from overnight time of day\n",
    "    delay_df = df.loc[df['tod'] == '20to5'][['ij','auto_time']]\n",
    "    delay_df.rename(columns={'auto_time':'freeflow_time'}, inplace=True)\n",
    "\n",
    "    # Merge delay field back onto network link df\n",
    "    df = pd.merge(df, delay_df, on='ij', how='left')\n",
    "\n",
    "    # Calcualte hourly delay\n",
    "    df['total_delay'] = ((df['auto_time']-df['freeflow_time'])*df['@tveh'])/60    # sum of (volume)*(travtime diff from freeflow)\n",
    "\n",
    "    df['county'] =df['@countyid'].map({33: 'King',\n",
    "                                      35: 'Kitsap',\n",
    "                                      53: 'Pierce',\n",
    "                                      61: 'Snohomish'})\n",
    "    df['county'] = df['county'].fillna('Outside Region')\n",
    "    \n",
    "    return df"
   ]
  },
  {
   "cell_type": "code",
   "execution_count": 4,
   "id": "201d568a",
   "metadata": {
    "execution": {
     "iopub.execute_input": "2025-07-15T22:47:37.067437Z",
     "iopub.status.busy": "2025-07-15T22:47:37.067437Z",
     "iopub.status.idle": "2025-07-15T22:47:44.667372Z",
     "shell.execute_reply": "2025-07-15T22:47:44.666379Z"
    }
   },
   "outputs": [],
   "source": [
    "# trip data\n",
    "hh = pd.read_csv(output_path / 'agg/dash/hh_geog.csv')\n",
    "# person data\n",
    "person = pd.read_csv(output_path / 'agg/dash/pptyp_county.csv')\n",
    "# employment data\n",
    "employment = pd.read_csv(output_path / 'agg/dash/person_worker_type.csv')\n",
    "# network data\n",
    "df_network = load_network_summary(output_path / 'network/network_results.csv')\n"
   ]
  },
  {
   "cell_type": "code",
   "execution_count": 5,
   "id": "dde6f65a",
   "metadata": {
    "execution": {
     "iopub.execute_input": "2025-07-15T22:47:44.673356Z",
     "iopub.status.busy": "2025-07-15T22:47:44.672359Z",
     "iopub.status.idle": "2025-07-15T22:47:44.714525Z",
     "shell.execute_reply": "2025-07-15T22:47:44.713023Z"
    }
   },
   "outputs": [],
   "source": [
    "county_order = ['King','Kitsap','Pierce','Snohomish','Outside Region','Total']\n",
    "\n",
    "person['person_county'] = pd.Categorical(person['person_county'], ordered=True,\n",
    "                   categories=county_order)\n",
    "hh['hh_county'] = pd.Categorical(hh['hh_county'], ordered=True,\n",
    "                   categories=county_order)\n",
    "employment['person_work_county'] = pd.Categorical(employment['person_work_county'], ordered=True,\n",
    "                   categories=county_order)\n",
    "\n",
    "df_network['county'] = pd.Categorical(df_network['county'], ordered=True,\n",
    "                   categories=county_order)"
   ]
  },
  {
   "cell_type": "markdown",
   "id": "1efd72ff",
   "metadata": {},
   "source": [
    "## Households and Population"
   ]
  },
  {
   "cell_type": "code",
   "execution_count": 6,
   "id": "27a89aea",
   "metadata": {
    "execution": {
     "iopub.execute_input": "2025-07-15T22:47:44.719512Z",
     "iopub.status.busy": "2025-07-15T22:47:44.718515Z",
     "iopub.status.idle": "2025-07-15T22:47:44.748138Z",
     "shell.execute_reply": "2025-07-15T22:47:44.748138Z"
    }
   },
   "outputs": [
    {
     "name": "stderr",
     "output_type": "stream",
     "text": [
      "C:\\Users\\Modeller\\AppData\\Local\\Temp\\ipykernel_15624\\3237209379.py:2: FutureWarning: The default of observed=False is deprecated and will be changed to True in a future version of pandas. Pass observed=False to retain current behavior or observed=True to adopt the future default and silence this warning.\n",
      "  df_person = person.groupby('person_county')['psexpfac'].sum()\n",
      "C:\\Users\\Modeller\\AppData\\Local\\Temp\\ipykernel_15624\\3237209379.py:3: FutureWarning: The default of observed=False is deprecated and will be changed to True in a future version of pandas. Pass observed=False to retain current behavior or observed=True to adopt the future default and silence this warning.\n",
      "  df_hh = hh.groupby('hh_county')['hhexpfac'].sum()\n"
     ]
    },
    {
     "data": {
      "text/html": [
       "<div>\n",
       "<style scoped>\n",
       "    .dataframe tbody tr th:only-of-type {\n",
       "        vertical-align: middle;\n",
       "    }\n",
       "\n",
       "    .dataframe tbody tr th {\n",
       "        vertical-align: top;\n",
       "    }\n",
       "\n",
       "    .dataframe thead th {\n",
       "        text-align: right;\n",
       "    }\n",
       "</style>\n",
       "<table border=\"1\" class=\"dataframe\">\n",
       "  <thead>\n",
       "    <tr style=\"text-align: right;\">\n",
       "      <th></th>\n",
       "      <th>Persons</th>\n",
       "      <th>Households</th>\n",
       "    </tr>\n",
       "  </thead>\n",
       "  <tbody>\n",
       "    <tr>\n",
       "      <th>King</th>\n",
       "      <td>2,303,851</td>\n",
       "      <td>957,460</td>\n",
       "    </tr>\n",
       "    <tr>\n",
       "      <th>Kitsap</th>\n",
       "      <td>275,120</td>\n",
       "      <td>108,901</td>\n",
       "    </tr>\n",
       "    <tr>\n",
       "      <th>Pierce</th>\n",
       "      <td>925,555</td>\n",
       "      <td>350,141</td>\n",
       "    </tr>\n",
       "    <tr>\n",
       "      <th>Snohomish</th>\n",
       "      <td>851,485</td>\n",
       "      <td>319,624</td>\n",
       "    </tr>\n",
       "    <tr>\n",
       "      <th>Outside Region</th>\n",
       "      <td>8</td>\n",
       "      <td>3</td>\n",
       "    </tr>\n",
       "    <tr>\n",
       "      <th>Total</th>\n",
       "      <td>4,356,019</td>\n",
       "      <td>1,736,129</td>\n",
       "    </tr>\n",
       "  </tbody>\n",
       "</table>\n",
       "</div>"
      ],
      "text/plain": [
       "                 Persons  Households\n",
       "King           2,303,851     957,460\n",
       "Kitsap           275,120     108,901\n",
       "Pierce           925,555     350,141\n",
       "Snohomish        851,485     319,624\n",
       "Outside Region         8           3\n",
       "Total          4,356,019   1,736,129"
      ]
     },
     "execution_count": 6,
     "metadata": {},
     "output_type": "execute_result"
    }
   ],
   "source": [
    "# Total Population\n",
    "df_person = person.groupby('person_county')['psexpfac'].sum()\n",
    "df_hh = hh.groupby('hh_county')['hhexpfac'].sum()\n",
    "\n",
    "df = pd.concat([df_person,df_hh],axis=1)\n",
    "\n",
    "df.loc['Total',] = df.sum()\n",
    "df.rename(columns={'psexpfac': 'Persons',\n",
    "                   'hhexpfac': 'Households'}, inplace=True)\n",
    "\n",
    "df"
   ]
  },
  {
   "cell_type": "markdown",
   "id": "06ccfcc1",
   "metadata": {},
   "source": [
    "## Employment\n",
    "By Workplace Location"
   ]
  },
  {
   "cell_type": "code",
   "execution_count": 7,
   "id": "20e10c25",
   "metadata": {
    "execution": {
     "iopub.execute_input": "2025-07-15T22:47:44.753121Z",
     "iopub.status.busy": "2025-07-15T22:47:44.753121Z",
     "iopub.status.idle": "2025-07-15T22:47:44.765148Z",
     "shell.execute_reply": "2025-07-15T22:47:44.765148Z"
    }
   },
   "outputs": [
    {
     "data": {
      "text/html": [
       "<div>\n",
       "<style scoped>\n",
       "    .dataframe tbody tr th:only-of-type {\n",
       "        vertical-align: middle;\n",
       "    }\n",
       "\n",
       "    .dataframe tbody tr th {\n",
       "        vertical-align: top;\n",
       "    }\n",
       "\n",
       "    .dataframe thead th {\n",
       "        text-align: right;\n",
       "    }\n",
       "</style>\n",
       "<table border=\"1\" class=\"dataframe\">\n",
       "  <thead>\n",
       "    <tr style=\"text-align: right;\">\n",
       "      <th></th>\n",
       "      <th>Number of Employments</th>\n",
       "    </tr>\n",
       "    <tr>\n",
       "      <th>County</th>\n",
       "      <th></th>\n",
       "    </tr>\n",
       "  </thead>\n",
       "  <tbody>\n",
       "    <tr>\n",
       "      <th>King</th>\n",
       "      <td>1,440,729</td>\n",
       "    </tr>\n",
       "    <tr>\n",
       "      <th>Kitsap</th>\n",
       "      <td>104,852</td>\n",
       "    </tr>\n",
       "    <tr>\n",
       "      <th>Pierce</th>\n",
       "      <td>353,796</td>\n",
       "    </tr>\n",
       "    <tr>\n",
       "      <th>Snohomish</th>\n",
       "      <td>327,528</td>\n",
       "    </tr>\n",
       "    <tr>\n",
       "      <th>Total</th>\n",
       "      <td>2,226,905</td>\n",
       "    </tr>\n",
       "  </tbody>\n",
       "</table>\n",
       "</div>"
      ],
      "text/plain": [
       "           Number of Employments\n",
       "County                          \n",
       "King                   1,440,729\n",
       "Kitsap                   104,852\n",
       "Pierce                   353,796\n",
       "Snohomish                327,528\n",
       "Total                  2,226,905"
      ]
     },
     "execution_count": 7,
     "metadata": {},
     "output_type": "execute_result"
    }
   ],
   "source": [
    "df = employment.groupby('person_work_county',observed=True)['psexpfac'].sum()\n",
    "df['Total'] = df.sum()\n",
    "df = df.reset_index()\n",
    "df.rename(columns={'psexpfac': 'Number of Employments',\n",
    "                   'person_work_county':'County'}, inplace=True)\n",
    "df.set_index('County')"
   ]
  },
  {
   "cell_type": "markdown",
   "id": "cba1dd17",
   "metadata": {},
   "source": [
    "## VMT, VHT, Vehicle hours delay\n",
    "Includes truck and external trips"
   ]
  },
  {
   "cell_type": "code",
   "execution_count": 8,
   "id": "bc4122d1",
   "metadata": {
    "execution": {
     "iopub.execute_input": "2025-07-15T22:47:44.768135Z",
     "iopub.status.busy": "2025-07-15T22:47:44.768135Z",
     "iopub.status.idle": "2025-07-15T22:47:46.017246Z",
     "shell.execute_reply": "2025-07-15T22:47:46.017246Z"
    }
   },
   "outputs": [
    {
     "data": {
      "text/html": [
       "<div>\n",
       "<style scoped>\n",
       "    .dataframe tbody tr th:only-of-type {\n",
       "        vertical-align: middle;\n",
       "    }\n",
       "\n",
       "    .dataframe tbody tr th {\n",
       "        vertical-align: top;\n",
       "    }\n",
       "\n",
       "    .dataframe thead th {\n",
       "        text-align: right;\n",
       "    }\n",
       "</style>\n",
       "<table border=\"1\" class=\"dataframe\">\n",
       "  <thead>\n",
       "    <tr style=\"text-align: right;\">\n",
       "      <th></th>\n",
       "      <th>VMT</th>\n",
       "      <th>VHT</th>\n",
       "      <th>Total Delay Hours</th>\n",
       "    </tr>\n",
       "    <tr>\n",
       "      <th>county</th>\n",
       "      <th></th>\n",
       "      <th></th>\n",
       "      <th></th>\n",
       "    </tr>\n",
       "  </thead>\n",
       "  <tbody>\n",
       "    <tr>\n",
       "      <th>King</th>\n",
       "      <td>43,165,825</td>\n",
       "      <td>1,363,418</td>\n",
       "      <td>149,519</td>\n",
       "    </tr>\n",
       "    <tr>\n",
       "      <th>Kitsap</th>\n",
       "      <td>4,328,161</td>\n",
       "      <td>127,671</td>\n",
       "      <td>2,648</td>\n",
       "    </tr>\n",
       "    <tr>\n",
       "      <th>Pierce</th>\n",
       "      <td>18,368,137</td>\n",
       "      <td>546,606</td>\n",
       "      <td>29,815</td>\n",
       "    </tr>\n",
       "    <tr>\n",
       "      <th>Snohomish</th>\n",
       "      <td>16,129,425</td>\n",
       "      <td>467,277</td>\n",
       "      <td>29,787</td>\n",
       "    </tr>\n",
       "    <tr>\n",
       "      <th>Outside Region</th>\n",
       "      <td>337,207</td>\n",
       "      <td>6,537</td>\n",
       "      <td>2</td>\n",
       "    </tr>\n",
       "    <tr>\n",
       "      <th>Total</th>\n",
       "      <td>82,328,756</td>\n",
       "      <td>2,511,510</td>\n",
       "      <td>211,771</td>\n",
       "    </tr>\n",
       "  </tbody>\n",
       "</table>\n",
       "</div>"
      ],
      "text/plain": [
       "                      VMT       VHT  Total Delay Hours\n",
       "county                                                \n",
       "King           43,165,825 1,363,418            149,519\n",
       "Kitsap          4,328,161   127,671              2,648\n",
       "Pierce         18,368,137   546,606             29,815\n",
       "Snohomish      16,129,425   467,277             29,787\n",
       "Outside Region    337,207     6,537                  2\n",
       "Total          82,328,756 2,511,510            211,771"
      ]
     },
     "execution_count": 8,
     "metadata": {},
     "output_type": "execute_result"
    }
   ],
   "source": [
    "df_vmt = df_network.reset_index().groupby('county',observed=True)['VMT'].sum()\n",
    "df_vht = df_network.reset_index().groupby('county',observed=True)['VHT'].sum()\n",
    "df_delay = df_network.reset_index().groupby('county',observed=True)['total_delay'].sum()\n",
    "\n",
    "df = pd.concat([df_vmt,df_vht,df_delay], axis=1)\n",
    "df.rename(columns={'total_delay': 'Total Delay Hours'}, inplace=True)\n",
    "\n",
    "df.loc['Total',] = df.sum()\n",
    "df"
   ]
  },
  {
   "cell_type": "markdown",
   "id": "39bede99",
   "metadata": {},
   "source": [
    "## Transit Boardings"
   ]
  },
  {
   "cell_type": "code",
   "execution_count": 9,
   "id": "af2eb767",
   "metadata": {
    "execution": {
     "iopub.execute_input": "2025-07-15T22:47:46.020229Z",
     "iopub.status.busy": "2025-07-15T22:47:46.019231Z",
     "iopub.status.idle": "2025-07-15T22:47:46.027727Z",
     "shell.execute_reply": "2025-07-15T22:47:46.027727Z"
    }
   },
   "outputs": [
    {
     "data": {
      "text/html": [
       "<div>\n",
       "<style scoped>\n",
       "    .dataframe tbody tr th:only-of-type {\n",
       "        vertical-align: middle;\n",
       "    }\n",
       "\n",
       "    .dataframe tbody tr th {\n",
       "        vertical-align: top;\n",
       "    }\n",
       "\n",
       "    .dataframe thead th {\n",
       "        text-align: right;\n",
       "    }\n",
       "</style>\n",
       "<table border=\"1\" class=\"dataframe\">\n",
       "  <thead>\n",
       "    <tr style=\"text-align: right;\">\n",
       "      <th></th>\n",
       "      <th>Daily Boardings</th>\n",
       "    </tr>\n",
       "    <tr>\n",
       "      <th>agency_name</th>\n",
       "      <th></th>\n",
       "    </tr>\n",
       "  </thead>\n",
       "  <tbody>\n",
       "    <tr>\n",
       "      <th>King County Metro</th>\n",
       "      <td>288,880</td>\n",
       "    </tr>\n",
       "    <tr>\n",
       "      <th>Sound Transit</th>\n",
       "      <td>140,400</td>\n",
       "    </tr>\n",
       "    <tr>\n",
       "      <th>Community Transit</th>\n",
       "      <td>26,595</td>\n",
       "    </tr>\n",
       "    <tr>\n",
       "      <th>Pierce Transit</th>\n",
       "      <td>23,561</td>\n",
       "    </tr>\n",
       "    <tr>\n",
       "      <th>Kitsap Transit</th>\n",
       "      <td>10,961</td>\n",
       "    </tr>\n",
       "    <tr>\n",
       "      <th>Washington Ferries</th>\n",
       "      <td>6,326</td>\n",
       "    </tr>\n",
       "    <tr>\n",
       "      <th>Everett Transit</th>\n",
       "      <td>5,097</td>\n",
       "    </tr>\n",
       "    <tr>\n",
       "      <th>Total</th>\n",
       "      <td>501,820</td>\n",
       "    </tr>\n",
       "  </tbody>\n",
       "</table>\n",
       "</div>"
      ],
      "text/plain": [
       "                    Daily Boardings\n",
       "agency_name                        \n",
       "King County Metro           288,880\n",
       "Sound Transit               140,400\n",
       "Community Transit            26,595\n",
       "Pierce Transit               23,561\n",
       "Kitsap Transit               10,961\n",
       "Washington Ferries            6,326\n",
       "Everett Transit               5,097\n",
       "Total                       501,820"
      ]
     },
     "execution_count": 9,
     "metadata": {},
     "output_type": "execute_result"
    }
   ],
   "source": [
    "# transit\n",
    "transit = pd.read_csv(output_path / 'transit/daily_boardings_by_agency.csv')\n",
    "\n",
    "df = transit[['agency_name','boardings']].set_index('agency_name').copy()\n",
    "df.loc['Total',:] = df['boardings'].sum()\n",
    "df.rename(columns={'boardings': 'Daily Boardings'}, inplace=True)\n",
    "\n",
    "df\n"
   ]
  },
  {
   "cell_type": "markdown",
   "id": "7913c2a2",
   "metadata": {},
   "source": [
    "## Mode Share"
   ]
  },
  {
   "cell_type": "code",
   "execution_count": 10,
   "id": "8e0478f8",
   "metadata": {
    "execution": {
     "iopub.execute_input": "2025-07-15T22:47:46.029719Z",
     "iopub.status.busy": "2025-07-15T22:47:46.028722Z",
     "iopub.status.idle": "2025-07-15T22:47:46.663419Z",
     "shell.execute_reply": "2025-07-15T22:47:46.662435Z"
    }
   },
   "outputs": [
    {
     "data": {
      "text/html": [
       "<style type=\"text/css\">\n",
       "</style>\n",
       "<table id=\"T_e2d40\">\n",
       "  <thead>\n",
       "    <tr>\n",
       "      <th class=\"blank level0\" >&nbsp;</th>\n",
       "      <th id=\"T_e2d40_level0_col0\" class=\"col_heading level0 col0\" >Mode Share</th>\n",
       "    </tr>\n",
       "    <tr>\n",
       "      <th class=\"index_name level0\" >mode</th>\n",
       "      <th class=\"blank col0\" >&nbsp;</th>\n",
       "    </tr>\n",
       "  </thead>\n",
       "  <tbody>\n",
       "    <tr>\n",
       "      <th id=\"T_e2d40_level0_row0\" class=\"row_heading level0 row0\" >Bike</th>\n",
       "      <td id=\"T_e2d40_row0_col0\" class=\"data row0 col0\" >1.5%</td>\n",
       "    </tr>\n",
       "    <tr>\n",
       "      <th id=\"T_e2d40_level0_row1\" class=\"row_heading level0 row1\" >HOV2</th>\n",
       "      <td id=\"T_e2d40_row1_col0\" class=\"data row1 col0\" >21.3%</td>\n",
       "    </tr>\n",
       "    <tr>\n",
       "      <th id=\"T_e2d40_level0_row2\" class=\"row_heading level0 row2\" >HOV3+</th>\n",
       "      <td id=\"T_e2d40_row2_col0\" class=\"data row2 col0\" >14.1%</td>\n",
       "    </tr>\n",
       "    <tr>\n",
       "      <th id=\"T_e2d40_level0_row3\" class=\"row_heading level0 row3\" >SOV</th>\n",
       "      <td id=\"T_e2d40_row3_col0\" class=\"data row3 col0\" >44.5%</td>\n",
       "    </tr>\n",
       "    <tr>\n",
       "      <th id=\"T_e2d40_level0_row4\" class=\"row_heading level0 row4\" >School Bus</th>\n",
       "      <td id=\"T_e2d40_row4_col0\" class=\"data row4 col0\" >1.6%</td>\n",
       "    </tr>\n",
       "    <tr>\n",
       "      <th id=\"T_e2d40_level0_row5\" class=\"row_heading level0 row5\" >TNC</th>\n",
       "      <td id=\"T_e2d40_row5_col0\" class=\"data row5 col0\" >0.3%</td>\n",
       "    </tr>\n",
       "    <tr>\n",
       "      <th id=\"T_e2d40_level0_row6\" class=\"row_heading level0 row6\" >Transit</th>\n",
       "      <td id=\"T_e2d40_row6_col0\" class=\"data row6 col0\" >2.2%</td>\n",
       "    </tr>\n",
       "    <tr>\n",
       "      <th id=\"T_e2d40_level0_row7\" class=\"row_heading level0 row7\" >Walk</th>\n",
       "      <td id=\"T_e2d40_row7_col0\" class=\"data row7 col0\" >14.4%</td>\n",
       "    </tr>\n",
       "  </tbody>\n",
       "</table>\n"
      ],
      "text/plain": [
       "<pandas.io.formats.style.Styler at 0x151febb4590>"
      ]
     },
     "execution_count": 10,
     "metadata": {},
     "output_type": "execute_result"
    }
   ],
   "source": [
    "# mode share\n",
    "mode_share = pd.read_csv(output_path / 'agg/dash/mode_share_county.csv')\n",
    "\n",
    "df = mode_share.groupby('mode')['trexpfac'].sum().reset_index().set_index('mode')\n",
    "df['Mode Share'] = (df['trexpfac']/ (mode_share['trexpfac'].sum()))\n",
    "df[['Mode Share']].style.format({'Mode Share': \"{:0,.1%}\"})"
   ]
  },
  {
   "cell_type": "markdown",
   "id": "5af7856f",
   "metadata": {},
   "source": [
    "# Emissions\n",
    "Daily Tons for light, medium, and heavy vehicles; bus vehicles are excluded."
   ]
  },
  {
   "cell_type": "code",
   "execution_count": 11,
   "id": "5bb9bbd9",
   "metadata": {
    "execution": {
     "iopub.execute_input": "2025-07-15T22:47:46.668406Z",
     "iopub.status.busy": "2025-07-15T22:47:46.668406Z",
     "iopub.status.idle": "2025-07-15T22:47:46.685553Z",
     "shell.execute_reply": "2025-07-15T22:47:46.685553Z"
    }
   },
   "outputs": [
    {
     "data": {
      "text/html": [
       "<div>\n",
       "<style scoped>\n",
       "    .dataframe tbody tr th:only-of-type {\n",
       "        vertical-align: middle;\n",
       "    }\n",
       "\n",
       "    .dataframe tbody tr th {\n",
       "        vertical-align: top;\n",
       "    }\n",
       "\n",
       "    .dataframe thead th {\n",
       "        text-align: right;\n",
       "    }\n",
       "</style>\n",
       "<table border=\"1\" class=\"dataframe\">\n",
       "  <thead>\n",
       "    <tr style=\"text-align: right;\">\n",
       "      <th></th>\n",
       "      <th>Start</th>\n",
       "      <th>Intrazonal</th>\n",
       "      <th>Interzonal</th>\n",
       "      <th>Total Daily</th>\n",
       "    </tr>\n",
       "    <tr>\n",
       "      <th>pollutant_name</th>\n",
       "      <th></th>\n",
       "      <th></th>\n",
       "      <th></th>\n",
       "      <th></th>\n",
       "    </tr>\n",
       "  </thead>\n",
       "  <tbody>\n",
       "    <tr>\n",
       "      <th>CO</th>\n",
       "      <td>124</td>\n",
       "      <td>2</td>\n",
       "      <td>235</td>\n",
       "      <td>361</td>\n",
       "    </tr>\n",
       "    <tr>\n",
       "      <th>CO2 Equivalent</th>\n",
       "      <td>2,290</td>\n",
       "      <td>255</td>\n",
       "      <td>37,735</td>\n",
       "      <td>40,281</td>\n",
       "    </tr>\n",
       "    <tr>\n",
       "      <th>NOx</th>\n",
       "      <td>9</td>\n",
       "      <td>0</td>\n",
       "      <td>38</td>\n",
       "      <td>47</td>\n",
       "    </tr>\n",
       "    <tr>\n",
       "      <th>PM10 Total</th>\n",
       "      <td>0</td>\n",
       "      <td>0</td>\n",
       "      <td>5</td>\n",
       "      <td>5</td>\n",
       "    </tr>\n",
       "    <tr>\n",
       "      <th>PM25 Total</th>\n",
       "      <td>0</td>\n",
       "      <td>0</td>\n",
       "      <td>1</td>\n",
       "      <td>2</td>\n",
       "    </tr>\n",
       "  </tbody>\n",
       "</table>\n",
       "</div>"
      ],
      "text/plain": [
       "                Start  Intrazonal  Interzonal  Total Daily\n",
       "pollutant_name                                            \n",
       "CO                124           2         235          361\n",
       "CO2 Equivalent  2,290         255      37,735       40,281\n",
       "NOx                 9           0          38           47\n",
       "PM10 Total          0           0           5            5\n",
       "PM25 Total          0           0           1            2"
      ]
     },
     "execution_count": 11,
     "metadata": {},
     "output_type": "execute_result"
    }
   ],
   "source": [
    "df = pd.read_csv(output_path / 'emissions/emissions_summary.csv')\n",
    "\n",
    "df = df[df['veh_type'].isin(['light','medium','heavy'])]\n",
    "df = df.groupby('pollutant_name').sum()\n",
    "df.rename(columns={'start_tons': 'Start', 'intrazonal_tons': 'Intrazonal', 'interzonal_tons': 'Interzonal',\n",
    "                  'total_daily_tons': 'Total Daily'},\n",
    "                  inplace=True)\n",
    "df = df.loc[df.index.isin(['CO','NOx','PM25 Total','PM10 Total','CO2 Equivalent']),\n",
    "            ['Start', 'Intrazonal', 'Interzonal', 'Total Daily']]\n",
    "\n",
    "df"
   ]
  },
  {
   "cell_type": "markdown",
   "id": "8a9feb28",
   "metadata": {},
   "source": [
    "# Lane Miles"
   ]
  },
  {
   "cell_type": "code",
   "execution_count": 12,
   "id": "c6efe75c",
   "metadata": {
    "execution": {
     "iopub.execute_input": "2025-07-15T22:47:46.691539Z",
     "iopub.status.busy": "2025-07-15T22:47:46.690542Z",
     "iopub.status.idle": "2025-07-15T22:47:46.701161Z",
     "shell.execute_reply": "2025-07-15T22:47:46.700167Z"
    }
   },
   "outputs": [],
   "source": [
    "facility_type_dict = {\n",
    "    1: 'Interstate',\n",
    "    2: 'Other Freeway',\n",
    "    3: 'Expressway',\n",
    "    4: 'Ramp',\n",
    "    5: 'Principal Arterial',\n",
    "    6: 'Minor Arterial',\n",
    "    7: 'Major Collector',\n",
    "    8: 'Minor Collector',\n",
    "    9: 'Local',\n",
    "    10: 'Busway',\n",
    "    11: 'Non-Motor',\n",
    "    12: 'Light Rail',\n",
    "    13: 'Commuter Rail',\n",
    "    15: 'Ferry',\n",
    "    16: 'Passenger-Only Ferry',\n",
    "    17: 'Centroid Connector',\n",
    "    18: 'Facility Connector',\n",
    "    19: 'HOV Only Freeway',\n",
    "    20: 'HOV Only Ramp',\n",
    "    98: 'Weave Links'\n",
    "}\n",
    "\n",
    "ul3_dict = {\n",
    "    0: 'Rail/Walk/Ferry',\n",
    "    1: 'Freeway',\n",
    "    2: 'Expressway',\n",
    "    3: 'Urban Arterial',\n",
    "    4: 'One-way Arterial',\n",
    "    5: 'Centroid Connector',\n",
    "    6: 'Rural Arterial'\n",
    "}\n",
    "\n",
    "county_dict = {\n",
    "    33: 'King',\n",
    "    35: 'Kitsap',\n",
    "    53: 'Pierce',\n",
    "    61: 'Snohomish'\n",
    "}"
   ]
  },
  {
   "cell_type": "code",
   "execution_count": 13,
   "id": "0c402834",
   "metadata": {
    "execution": {
     "iopub.execute_input": "2025-07-15T22:47:46.705150Z",
     "iopub.status.busy": "2025-07-15T22:47:46.705150Z",
     "iopub.status.idle": "2025-07-15T22:47:46.713370Z",
     "shell.execute_reply": "2025-07-15T22:47:46.712865Z"
    }
   },
   "outputs": [
    {
     "data": {
      "text/plain": [
       "dict_values(['Interstate', 'Other Freeway', 'Expressway', 'Ramp', 'Principal Arterial', 'Minor Arterial', 'Major Collector', 'Minor Collector', 'Local', 'Busway', 'Non-Motor', 'Light Rail', 'Commuter Rail', 'Ferry', 'Passenger-Only Ferry', 'Centroid Connector', 'Facility Connector', 'HOV Only Freeway', 'HOV Only Ramp', 'Weave Links'])"
      ]
     },
     "execution_count": 13,
     "metadata": {},
     "output_type": "execute_result"
    }
   ],
   "source": [
    "facility_type_dict.values()"
   ]
  },
  {
   "cell_type": "code",
   "execution_count": 14,
   "id": "d54d541c",
   "metadata": {
    "execution": {
     "iopub.execute_input": "2025-07-15T22:47:46.718423Z",
     "iopub.status.busy": "2025-07-15T22:47:46.717424Z",
     "iopub.status.idle": "2025-07-15T22:47:46.855723Z",
     "shell.execute_reply": "2025-07-15T22:47:46.854729Z"
    }
   },
   "outputs": [
    {
     "data": {
      "text/html": [
       "<div>\n",
       "<style scoped>\n",
       "    .dataframe tbody tr th:only-of-type {\n",
       "        vertical-align: middle;\n",
       "    }\n",
       "\n",
       "    .dataframe tbody tr th {\n",
       "        vertical-align: top;\n",
       "    }\n",
       "\n",
       "    .dataframe thead th {\n",
       "        text-align: right;\n",
       "    }\n",
       "</style>\n",
       "<table border=\"1\" class=\"dataframe\">\n",
       "  <thead>\n",
       "    <tr style=\"text-align: right;\">\n",
       "      <th></th>\n",
       "      <th>Lane Miles</th>\n",
       "    </tr>\n",
       "    <tr>\n",
       "      <th>Facility Type</th>\n",
       "      <th></th>\n",
       "    </tr>\n",
       "  </thead>\n",
       "  <tbody>\n",
       "    <tr>\n",
       "      <th>Interstate</th>\n",
       "      <td>1,468</td>\n",
       "    </tr>\n",
       "    <tr>\n",
       "      <th>Other Freeway</th>\n",
       "      <td>767</td>\n",
       "    </tr>\n",
       "    <tr>\n",
       "      <th>Expressway</th>\n",
       "      <td>229</td>\n",
       "    </tr>\n",
       "    <tr>\n",
       "      <th>Ramp</th>\n",
       "      <td>537</td>\n",
       "    </tr>\n",
       "    <tr>\n",
       "      <th>Principal Arterial</th>\n",
       "      <td>3,101</td>\n",
       "    </tr>\n",
       "    <tr>\n",
       "      <th>Minor Arterial</th>\n",
       "      <td>4,060</td>\n",
       "    </tr>\n",
       "    <tr>\n",
       "      <th>Major Collector</th>\n",
       "      <td>2,925</td>\n",
       "    </tr>\n",
       "    <tr>\n",
       "      <th>Minor Collector</th>\n",
       "      <td>219</td>\n",
       "    </tr>\n",
       "    <tr>\n",
       "      <th>Local</th>\n",
       "      <td>299</td>\n",
       "    </tr>\n",
       "    <tr>\n",
       "      <th>Centroid Connector</th>\n",
       "      <td>9,821</td>\n",
       "    </tr>\n",
       "    <tr>\n",
       "      <th>Facility Connector</th>\n",
       "      <td>19</td>\n",
       "    </tr>\n",
       "    <tr>\n",
       "      <th>HOV Only Freeway</th>\n",
       "      <td>3</td>\n",
       "    </tr>\n",
       "    <tr>\n",
       "      <th>HOV Only Ramp</th>\n",
       "      <td>20</td>\n",
       "    </tr>\n",
       "    <tr>\n",
       "      <th>Total</th>\n",
       "      <td>23,468</td>\n",
       "    </tr>\n",
       "  </tbody>\n",
       "</table>\n",
       "</div>"
      ],
      "text/plain": [
       "                    Lane Miles\n",
       "Facility Type                 \n",
       "Interstate               1,468\n",
       "Other Freeway              767\n",
       "Expressway                 229\n",
       "Ramp                       537\n",
       "Principal Arterial       3,101\n",
       "Minor Arterial           4,060\n",
       "Major Collector          2,925\n",
       "Minor Collector            219\n",
       "Local                      299\n",
       "Centroid Connector       9,821\n",
       "Facility Connector          19\n",
       "HOV Only Freeway             3\n",
       "HOV Only Ramp               20\n",
       "Total                   23,468"
      ]
     },
     "execution_count": 14,
     "metadata": {},
     "output_type": "execute_result"
    }
   ],
   "source": [
    "# Select mid-day network\n",
    "gdf = df_network.loc[df_network['tod'] == '10to14'].copy()\n",
    "gdf['Lane Miles'] = gdf['length'] * gdf['num_lanes']\n",
    "\n",
    "gdf['Facility Type'] = pd.Categorical(gdf['@facilitytype'].map(facility_type_dict), \n",
    "                                      ordered=True,\n",
    "                                      categories=facility_type_dict.values())\n",
    "\n",
    "df = gdf.groupby(['Facility Type'], observed=True)['Lane Miles'].sum().reset_index().set_index('Facility Type')\n",
    "\n",
    "# df = df.drop(['@facilitytype','Facility Type'], axis=1)\n",
    "df.loc['Total','Lane Miles'] = df['Lane Miles'].sum()\n",
    "df"
   ]
  },
  {
   "cell_type": "code",
   "execution_count": 15,
   "id": "a435ca2a",
   "metadata": {
    "execution": {
     "iopub.execute_input": "2025-07-15T22:47:46.860710Z",
     "iopub.status.busy": "2025-07-15T22:47:46.859712Z",
     "iopub.status.idle": "2025-07-15T22:47:46.879621Z",
     "shell.execute_reply": "2025-07-15T22:47:46.878622Z"
    }
   },
   "outputs": [
    {
     "data": {
      "text/html": [
       "<div>\n",
       "<style scoped>\n",
       "    .dataframe tbody tr th:only-of-type {\n",
       "        vertical-align: middle;\n",
       "    }\n",
       "\n",
       "    .dataframe tbody tr th {\n",
       "        vertical-align: top;\n",
       "    }\n",
       "\n",
       "    .dataframe thead th {\n",
       "        text-align: right;\n",
       "    }\n",
       "</style>\n",
       "<table border=\"1\" class=\"dataframe\">\n",
       "  <thead>\n",
       "    <tr style=\"text-align: right;\">\n",
       "      <th></th>\n",
       "      <th>Lane Miles</th>\n",
       "    </tr>\n",
       "    <tr>\n",
       "      <th>Facility Group</th>\n",
       "      <th></th>\n",
       "    </tr>\n",
       "  </thead>\n",
       "  <tbody>\n",
       "    <tr>\n",
       "      <th>Freeway</th>\n",
       "      <td>2,236</td>\n",
       "    </tr>\n",
       "    <tr>\n",
       "      <th>Expressway</th>\n",
       "      <td>677</td>\n",
       "    </tr>\n",
       "    <tr>\n",
       "      <th>Urban Arterial</th>\n",
       "      <td>6,871</td>\n",
       "    </tr>\n",
       "    <tr>\n",
       "      <th>One-way Arterial</th>\n",
       "      <td>452</td>\n",
       "    </tr>\n",
       "    <tr>\n",
       "      <th>Centroid Connector</th>\n",
       "      <td>9,839</td>\n",
       "    </tr>\n",
       "    <tr>\n",
       "      <th>Rural Arterial</th>\n",
       "      <td>3,340</td>\n",
       "    </tr>\n",
       "    <tr>\n",
       "      <th>Total</th>\n",
       "      <td>23,415</td>\n",
       "    </tr>\n",
       "  </tbody>\n",
       "</table>\n",
       "</div>"
      ],
      "text/plain": [
       "                    Lane Miles\n",
       "Facility Group                \n",
       "Freeway                  2,236\n",
       "Expressway                 677\n",
       "Urban Arterial           6,871\n",
       "One-way Arterial           452\n",
       "Centroid Connector       9,839\n",
       "Rural Arterial           3,340\n",
       "Total                   23,415"
      ]
     },
     "execution_count": 15,
     "metadata": {},
     "output_type": "execute_result"
    }
   ],
   "source": [
    "gdf['Facility Group'] = pd.Categorical(gdf['data3'].map(ul3_dict), \n",
    "                                      ordered=True,\n",
    "                                      categories=ul3_dict.values())\n",
    "\n",
    "df = gdf.groupby(['Facility Group'], observed=True)['Lane Miles'].sum().reset_index().set_index('Facility Group')\n",
    "\n",
    "df.loc['Total','Lane Miles'] = df['Lane Miles'].sum()\n",
    "df"
   ]
  },
  {
   "cell_type": "code",
   "execution_count": 16,
   "id": "8d870cd2",
   "metadata": {
    "execution": {
     "iopub.execute_input": "2025-07-15T22:47:46.884608Z",
     "iopub.status.busy": "2025-07-15T22:47:46.883611Z",
     "iopub.status.idle": "2025-07-15T22:47:46.901079Z",
     "shell.execute_reply": "2025-07-15T22:47:46.900575Z"
    }
   },
   "outputs": [
    {
     "data": {
      "text/html": [
       "<div>\n",
       "<style scoped>\n",
       "    .dataframe tbody tr th:only-of-type {\n",
       "        vertical-align: middle;\n",
       "    }\n",
       "\n",
       "    .dataframe tbody tr th {\n",
       "        vertical-align: top;\n",
       "    }\n",
       "\n",
       "    .dataframe thead th {\n",
       "        text-align: right;\n",
       "    }\n",
       "</style>\n",
       "<table border=\"1\" class=\"dataframe\">\n",
       "  <thead>\n",
       "    <tr style=\"text-align: right;\">\n",
       "      <th></th>\n",
       "      <th>Lane Miles</th>\n",
       "    </tr>\n",
       "    <tr>\n",
       "      <th>county</th>\n",
       "      <th></th>\n",
       "    </tr>\n",
       "  </thead>\n",
       "  <tbody>\n",
       "    <tr>\n",
       "      <th>King</th>\n",
       "      <td>10,803</td>\n",
       "    </tr>\n",
       "    <tr>\n",
       "      <th>Kitsap</th>\n",
       "      <td>2,022</td>\n",
       "    </tr>\n",
       "    <tr>\n",
       "      <th>Pierce</th>\n",
       "      <td>5,815</td>\n",
       "    </tr>\n",
       "    <tr>\n",
       "      <th>Snohomish</th>\n",
       "      <td>4,769</td>\n",
       "    </tr>\n",
       "    <tr>\n",
       "      <th>Outside Region</th>\n",
       "      <td>58</td>\n",
       "    </tr>\n",
       "    <tr>\n",
       "      <th>Total</th>\n",
       "      <td>23,468</td>\n",
       "    </tr>\n",
       "  </tbody>\n",
       "</table>\n",
       "</div>"
      ],
      "text/plain": [
       "                Lane Miles\n",
       "county                    \n",
       "King                10,803\n",
       "Kitsap               2,022\n",
       "Pierce               5,815\n",
       "Snohomish            4,769\n",
       "Outside Region          58\n",
       "Total               23,468"
      ]
     },
     "execution_count": 16,
     "metadata": {},
     "output_type": "execute_result"
    }
   ],
   "source": [
    "# Load link attributes and join\n",
    "gdf['county'] = gdf['county'].replace(np.nan,'Outside Region')\n",
    "df = gdf.groupby(['county'], observed=True)['Lane Miles'].sum().reset_index().set_index('county')\n",
    "\n",
    "df.loc['Total','Lane Miles'] = df['Lane Miles'].sum()\n",
    "df"
   ]
  },
  {
   "cell_type": "markdown",
   "id": "60b37b1d",
   "metadata": {},
   "source": [
    "# Person Metrics"
   ]
  },
  {
   "cell_type": "code",
   "execution_count": 17,
   "id": "2a1c72f4",
   "metadata": {
    "execution": {
     "iopub.execute_input": "2025-07-15T22:47:46.907067Z",
     "iopub.status.busy": "2025-07-15T22:47:46.906069Z",
     "iopub.status.idle": "2025-07-15T22:47:49.021071Z",
     "shell.execute_reply": "2025-07-15T22:47:49.020562Z"
    }
   },
   "outputs": [],
   "source": [
    "# Daysim data\n",
    "import polars as pl\n",
    "trip = pl.read_csv(r'../../../../outputs/daysim/_trip.tsv',separator='\\t')\n",
    "person = pl.read_csv(r'../../../../outputs/daysim/_person.tsv',separator='\\t')\n",
    "hh = pl.read_csv(r'../../../../outputs/daysim/_household.tsv', separator='\\t')"
   ]
  },
  {
   "cell_type": "markdown",
   "id": "7d65b619",
   "metadata": {},
   "source": [
    "### Average Daily Miles Driven per Person"
   ]
  },
  {
   "cell_type": "code",
   "execution_count": 18,
   "id": "ef76380b",
   "metadata": {
    "execution": {
     "iopub.execute_input": "2025-07-15T22:47:49.023062Z",
     "iopub.status.busy": "2025-07-15T22:47:49.023062Z",
     "iopub.status.idle": "2025-07-15T22:47:49.142287Z",
     "shell.execute_reply": "2025-07-15T22:47:49.142287Z"
    }
   },
   "outputs": [
    {
     "name": "stdout",
     "output_type": "stream",
     "text": [
      "Average Daily VMT per person, not including externals or trucks: 14.4\n"
     ]
    }
   ],
   "source": [
    "if 'sov_ff_time' in trip.columns:\n",
    "    drive_modes = [3, 4, 5]\n",
    "    vehicle_trips = trip[['mode', 'dorp', 'travtime', 'sov_ff_time', 'travdist']].filter(pl.col(\"mode\").is_in(drive_modes)).filter(pl.col(\"dorp\") == 1)\n",
    "    avg_vmt = vehicle_trips['travdist'].sum()/ person['psexpfac'].sum()\n",
    "    print(f'Average Daily VMT per person, not including externals or trucks: {avg_vmt:.1f}')"
   ]
  },
  {
   "cell_type": "markdown",
   "id": "04270429",
   "metadata": {},
   "source": [
    "### Hours of Congestion per Person per Year\n",
    "For average Puget Sound resident:"
   ]
  },
  {
   "cell_type": "code",
   "execution_count": 19,
   "id": "13b9c15e",
   "metadata": {
    "execution": {
     "iopub.execute_input": "2025-07-15T22:47:49.144357Z",
     "iopub.status.busy": "2025-07-15T22:47:49.144357Z",
     "iopub.status.idle": "2025-07-15T22:47:49.204438Z",
     "shell.execute_reply": "2025-07-15T22:47:49.204438Z"
    }
   },
   "outputs": [
    {
     "name": "stdout",
     "output_type": "stream",
     "text": [
      "Annual hours of delay for residents, not including externals or trucks is: 15.7\n"
     ]
    }
   ],
   "source": [
    "if 'sov_ff_time' in trip.columns:\n",
    "    drive_trips = trip[['mode', 'dorp', 'travtime', 'sov_ff_time', 'travdist']].filter(pl.col(\"mode\").is_in(drive_modes))\n",
    "    drive_trips = drive_trips.with_columns(\n",
    "        delay=pl.col('travtime')-(pl.col('sov_ff_time')/100.0))\n",
    "    minutes_to_hour = 60\n",
    "    drive_mode_delay = summary_config['weekday_to_annual']*(drive_trips['delay'].sum()/person['psexpfac'].sum())/minutes_to_hour\n",
    "    print(f'Annual hours of delay for residents, not including externals or trucks is: {drive_mode_delay:.1f}')"
   ]
  },
  {
   "cell_type": "markdown",
   "id": "4aff6395",
   "metadata": {},
   "source": [
    "### Annual Hours of Delay by Average Truck\n",
    "Average annual delay (hours) per truck trip in and through the region:"
   ]
  },
  {
   "cell_type": "code",
   "execution_count": 20,
   "id": "ffcb28e6",
   "metadata": {
    "execution": {
     "iopub.execute_input": "2025-07-15T22:47:49.206432Z",
     "iopub.status.busy": "2025-07-15T22:47:49.206432Z",
     "iopub.status.idle": "2025-07-15T22:47:49.208571Z",
     "shell.execute_reply": "2025-07-15T22:47:49.208571Z"
    }
   },
   "outputs": [],
   "source": [
    "# Total truck trips"
   ]
  },
  {
   "cell_type": "code",
   "execution_count": 21,
   "id": "4c80c1d9",
   "metadata": {
    "execution": {
     "iopub.execute_input": "2025-07-15T22:47:49.210563Z",
     "iopub.status.busy": "2025-07-15T22:47:49.209566Z",
     "iopub.status.idle": "2025-07-15T22:47:49.217126Z",
     "shell.execute_reply": "2025-07-15T22:47:49.217126Z"
    }
   },
   "outputs": [
    {
     "name": "stdout",
     "output_type": "stream",
     "text": [
      "18.4\n"
     ]
    }
   ],
   "source": [
    "# Load truck trips\n",
    "df = pd.read_csv(r'../../../../outputs/trucks/trucks_summary.csv',index_col=0)\n",
    "\n",
    "# Truck delay\n",
    "net_sum = pd.read_csv(r'../../../../outputs/network/delay_user_class.csv')\n",
    "\n",
    "# Annual delay hours\n",
    "daily_delay = net_sum[['@mveh','@hveh']].sum().sum()\n",
    "\n",
    "\n",
    "# total truck trips\n",
    "trips = df['prod'].sum()\n",
    "\n",
    "# average annual delay hours per truck\n",
    "x = (daily_delay*summary_config[\"weekday_to_annual\"])/trips\n",
    "print('{:0,.1f}'.format(x))"
   ]
  },
  {
   "cell_type": "markdown",
   "id": "aee2ebd1",
   "metadata": {},
   "source": [
    "*Medium trucks only:*"
   ]
  },
  {
   "cell_type": "code",
   "execution_count": 22,
   "id": "bccd76ac",
   "metadata": {
    "execution": {
     "iopub.execute_input": "2025-07-15T22:47:49.219123Z",
     "iopub.status.busy": "2025-07-15T22:47:49.218126Z",
     "iopub.status.idle": "2025-07-15T22:47:49.221385Z",
     "shell.execute_reply": "2025-07-15T22:47:49.221385Z"
    }
   },
   "outputs": [
    {
     "name": "stdout",
     "output_type": "stream",
     "text": [
      "14.1\n"
     ]
    }
   ],
   "source": [
    "x = (net_sum['@mveh'].sum()*summary_config[\"weekday_to_annual\"])/df.loc['mt','prod']\n",
    "print('{:0,.1f}'.format(x))"
   ]
  },
  {
   "cell_type": "markdown",
   "id": "d3e57620",
   "metadata": {},
   "source": [
    "*Heavy trucks only:*"
   ]
  },
  {
   "cell_type": "code",
   "execution_count": 23,
   "id": "04c4ce06",
   "metadata": {
    "execution": {
     "iopub.execute_input": "2025-07-15T22:47:49.223382Z",
     "iopub.status.busy": "2025-07-15T22:47:49.222384Z",
     "iopub.status.idle": "2025-07-15T22:47:49.225863Z",
     "shell.execute_reply": "2025-07-15T22:47:49.225863Z"
    }
   },
   "outputs": [
    {
     "name": "stdout",
     "output_type": "stream",
     "text": [
      "32.0\n"
     ]
    }
   ],
   "source": [
    "x = (net_sum['@hveh'].sum()*summary_config[\"weekday_to_annual\"])/df.loc['ht','prod']\n",
    "print ('{:0,.1f}'.format(x))"
   ]
  },
  {
   "cell_type": "markdown",
   "id": "718c6944",
   "metadata": {},
   "source": [
    "### % Population Walking or Biking for Transportation"
   ]
  },
  {
   "cell_type": "code",
   "execution_count": 24,
   "id": "ecf93c53",
   "metadata": {
    "execution": {
     "iopub.execute_input": "2025-07-15T22:47:49.227861Z",
     "iopub.status.busy": "2025-07-15T22:47:49.226863Z",
     "iopub.status.idle": "2025-07-15T22:47:51.330851Z",
     "shell.execute_reply": "2025-07-15T22:47:51.330851Z"
    }
   },
   "outputs": [
    {
     "name": "stdout",
     "output_type": "stream",
     "text": [
      "Percent of population with at least one non-exercise walk or bike trip: 25.6%\n"
     ]
    }
   ],
   "source": [
    "trip_person = trip.join(person, on=[\"hhno\", \"pno\"], how=\"left\")\n",
    "bike_walk_trips = trip_person.filter(pl.col(\"mode\").is_in([1, 2]))\n",
    "\n",
    "# Get unique persons with at least one bike/walk trip\n",
    "bike_walk_persons = bike_walk_trips.select([\"hhno\", \"pno\"]).unique()\n",
    "bike_walk_persons = bike_walk_persons.with_columns(bike_walk=pl.lit(True))\n",
    "\n",
    "# Join back to all persons, mark bike_walk as False if not present\n",
    "person_with_bike_walk = person.join(bike_walk_persons, on=[\"hhno\", \"pno\"], how=\"left\")\n",
    "person_with_bike_walk = person_with_bike_walk.with_columns(\n",
    "    pl.col(\"bike_walk\").fill_null(False)\n",
    ")\n",
    "\n",
    "# Calculate share\n",
    "share = (\n",
    "    person_with_bike_walk.group_by(\"bike_walk\")\n",
    "    .agg(pl.col(\"psexpfac\").sum())\n",
    "    .with_columns(\n",
    "        (pl.col(\"psexpfac\") / pl.col(\"psexpfac\").sum()).alias(\"share\")\n",
    "    )\n",
    ")\n",
    "print(\"Percent of population with at least one non-exercise walk or bike trip: {:.1%}\".format(share.filter(pl.col(\"bike_walk\") == True)[\"share\"][0]))"
   ]
  },
  {
   "cell_type": "markdown",
   "id": "62979b5b",
   "metadata": {},
   "source": [
    "## Household and Jobs within 1/4 mile transit"
   ]
  },
  {
   "cell_type": "code",
   "execution_count": 25,
   "id": "2982aa81",
   "metadata": {
    "execution": {
     "iopub.execute_input": "2025-07-15T22:47:51.332843Z",
     "iopub.status.busy": "2025-07-15T22:47:51.332843Z",
     "iopub.status.idle": "2025-07-15T22:47:51.336811Z",
     "shell.execute_reply": "2025-07-15T22:47:51.336811Z"
    }
   },
   "outputs": [],
   "source": [
    "# Network data\n",
    "df = pd.read_csv(r'../../../../outputs/transit/transit_access.csv',index_col=0)"
   ]
  },
  {
   "cell_type": "markdown",
   "id": "35721244",
   "metadata": {},
   "source": [
    "**Households**"
   ]
  },
  {
   "cell_type": "code",
   "execution_count": 26,
   "id": "35af0dff",
   "metadata": {
    "execution": {
     "iopub.execute_input": "2025-07-15T22:47:51.338797Z",
     "iopub.status.busy": "2025-07-15T22:47:51.338797Z",
     "iopub.status.idle": "2025-07-15T22:47:51.342162Z",
     "shell.execute_reply": "2025-07-15T22:47:51.342162Z"
    }
   },
   "outputs": [
    {
     "name": "stdout",
     "output_type": "stream",
     "text": [
      "828,965 households within 1/4 mile of transit\n",
      "47.7% of total households\n"
     ]
    }
   ],
   "source": [
    "x = df.loc['hh_p','quarter_mile_transit']\n",
    "print('{:,.0f}'.format(x) + (\" households within 1/4 mile of transit\"))\n",
    "x = df.loc['hh_p','quarter_mile_transit']/df.loc['hh_p','total']\n",
    "print('{:,.1%}'.format(x) + (\" of total households\"))"
   ]
  },
  {
   "cell_type": "markdown",
   "id": "d570c6e5",
   "metadata": {},
   "source": [
    "**Jobs**"
   ]
  },
  {
   "cell_type": "code",
   "execution_count": 27,
   "id": "ce39bf06",
   "metadata": {
    "execution": {
     "iopub.execute_input": "2025-07-15T22:47:51.344158Z",
     "iopub.status.busy": "2025-07-15T22:47:51.343161Z",
     "iopub.status.idle": "2025-07-15T22:47:51.346505Z",
     "shell.execute_reply": "2025-07-15T22:47:51.346505Z"
    }
   },
   "outputs": [
    {
     "name": "stdout",
     "output_type": "stream",
     "text": [
      "1,556,628 jobs within 1/4 mile of transit\n",
      "38.5% of total jobs\n"
     ]
    }
   ],
   "source": [
    "x = df.loc['emptot_p','quarter_mile_transit']\n",
    "print('{:,.0f}'.format(x) + (\" jobs within 1/4 mile of transit\"))\n",
    "x = df.loc['hh_p','quarter_mile_transit']/df.loc['emptot_p','total']\n",
    "print('{:,.1%}'.format(x) + (\" of total jobs\"))"
   ]
  }
 ],
 "metadata": {
  "kernelspec": {
   "display_name": "summary",
   "language": "python",
   "name": "python3"
  },
  "language_info": {
   "codemirror_mode": {
    "name": "ipython",
    "version": 3
   },
   "file_extension": ".py",
   "mimetype": "text/x-python",
   "name": "python",
   "nbconvert_exporter": "python",
   "pygments_lexer": "ipython3",
   "version": "3.11.12"
  }
 },
 "nbformat": 4,
 "nbformat_minor": 5
}
