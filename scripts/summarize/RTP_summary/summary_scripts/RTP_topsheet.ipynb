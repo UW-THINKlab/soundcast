{
 "cells": [
  {
   "cell_type": "raw",
   "id": "daadae17",
   "metadata": {
    "vscode": {
     "languageId": "raw"
    }
   },
   "source": [
    "---\n",
    "title: \"Top Sheet Summary\"\n",
    "date: today\n",
    "---"
   ]
  },
  {
   "cell_type": "code",
   "execution_count": 1,
   "id": "d3920e17",
   "metadata": {
    "execution": {
     "iopub.execute_input": "2025-07-25T22:34:18.697201Z",
     "iopub.status.busy": "2025-07-25T22:34:18.697201Z",
     "iopub.status.idle": "2025-07-25T22:34:19.476545Z",
     "shell.execute_reply": "2025-07-25T22:34:19.476545Z"
    }
   },
   "outputs": [],
   "source": [
    "import pandas as pd\n",
    "import numpy as np\n",
    "import toml\n",
    "from pathlib import Path\n",
    "import polars as pl\n",
    "\n",
    "config = toml.load(Path.cwd() / '../../../../configuration/input_configuration.toml')\n",
    "summary_config = toml.load(Path.cwd() / '../../../../configuration/summary_configuration.toml')\n",
    "\n",
    "pd.set_option('display.float_format', '{:,.0f}'.format)"
   ]
  },
  {
   "cell_type": "code",
   "execution_count": 2,
   "id": "032f98ac",
   "metadata": {
    "execution": {
     "iopub.execute_input": "2025-07-25T22:34:19.479534Z",
     "iopub.status.busy": "2025-07-25T22:34:19.479534Z",
     "iopub.status.idle": "2025-07-25T22:34:19.484052Z",
     "shell.execute_reply": "2025-07-25T22:34:19.484052Z"
    }
   },
   "outputs": [],
   "source": [
    "# Relative path between notebooks and goruped output directories\n",
    "output_path = Path(summary_config['sc_run_path']) / summary_config[\"output_folder\"]\n",
    "survey_path = Path(summary_config['sc_run_path']) / summary_config[\"survey_folder\"]"
   ]
  },
  {
   "cell_type": "code",
   "execution_count": 3,
   "id": "84419b4d",
   "metadata": {
    "execution": {
     "iopub.execute_input": "2025-07-25T22:34:19.487040Z",
     "iopub.status.busy": "2025-07-25T22:34:19.486042Z",
     "iopub.status.idle": "2025-07-25T22:34:19.494176Z",
     "shell.execute_reply": "2025-07-25T22:34:19.494176Z"
    }
   },
   "outputs": [],
   "source": [
    "def load_network_summary(filepath):\n",
    "    \"\"\"Load network-level results using a standard procedure. \"\"\"\n",
    "    df = pd.read_csv(filepath)\n",
    "\n",
    "    # Get freeflow from 20to5 period\n",
    "\n",
    "    # Exclude trips taken on non-designated facilities (facility_type == 0)\n",
    "    # These are artificial (weave lanes to connect HOV) or for non-auto uses \n",
    "    df = df[df['data3'] != 0]    # data3 represents facility_type\n",
    "\n",
    "    # calculate total link VMT and VHT\n",
    "    df['VMT'] = df['@tveh']*df['length']\n",
    "    df['VHT'] = df['@tveh']*df['auto_time']/60\n",
    "\n",
    "    # Define facility type\n",
    "    df.loc[df['data3'].isin([1,2]), 'facility_type'] = 'highway'\n",
    "    df.loc[df['data3'].isin([3,4,6]), 'facility_type'] = 'arterial'\n",
    "    df.loc[df['data3'].isin([5]), 'facility_type'] = 'connector'\n",
    "\n",
    "    # Calculate delay\n",
    "    # Select links from overnight time of day\n",
    "    delay_df = df.loc[df['tod'] == '20to5'][['ij','auto_time']]\n",
    "    delay_df.rename(columns={'auto_time':'freeflow_time'}, inplace=True)\n",
    "\n",
    "    # Merge delay field back onto network link df\n",
    "    df = pd.merge(df, delay_df, on='ij', how='left')\n",
    "\n",
    "    # Calcualte hourly delay\n",
    "    df['total_delay'] = ((df['auto_time']-df['freeflow_time'])*df['@tveh'])/60    # sum of (volume)*(travtime diff from freeflow)\n",
    "\n",
    "    df['county'] =df['@countyid'].map({33: 'King',\n",
    "                                      35: 'Kitsap',\n",
    "                                      53: 'Pierce',\n",
    "                                      61: 'Snohomish'})\n",
    "    df['county'] = df['county'].fillna('Outside Region')\n",
    "    \n",
    "    return df"
   ]
  },
  {
   "cell_type": "code",
   "execution_count": 4,
   "id": "201d568a",
   "metadata": {
    "execution": {
     "iopub.execute_input": "2025-07-25T22:34:19.497159Z",
     "iopub.status.busy": "2025-07-25T22:34:19.496163Z",
     "iopub.status.idle": "2025-07-25T22:34:45.226258Z",
     "shell.execute_reply": "2025-07-25T22:34:45.225265Z"
    }
   },
   "outputs": [],
   "source": [
    "# trip data\n",
    "hh = pd.read_csv(output_path / 'agg/dash/hh_geog.csv')\n",
    "# person data\n",
    "person = pd.read_csv(output_path / 'agg/dash/pptyp_county.csv')\n",
    "# worker data\n",
    "employment = pd.read_csv(output_path / 'agg/dash/person_worker_type.csv')\n",
    "# network data\n",
    "df_network = load_network_summary(output_path / 'network/network_results.csv')\n",
    "# job data\n",
    "df_lu = pl.read_csv(output_path / 'landuse/parcels_urbansim.txt', separator=' ').to_pandas()\n",
    "\n",
    "# Parcel geography\n",
    "parcel_geog = pd.read_sql_table('parcel_'+config['base_year']+'_geography', 'sqlite:///../../../../inputs/db/'+config['db_name'])\n",
    "df_lu = df_lu.merge(parcel_geog, left_on='parcelid', right_on='ParcelID', how='left')"
   ]
  },
  {
   "cell_type": "code",
   "execution_count": null,
   "id": "cacb2e64",
   "metadata": {},
   "outputs": [],
   "source": []
  },
  {
   "cell_type": "code",
   "execution_count": 5,
   "id": "dde6f65a",
   "metadata": {
    "execution": {
     "iopub.execute_input": "2025-07-25T22:34:45.230247Z",
     "iopub.status.busy": "2025-07-25T22:34:45.229250Z",
     "iopub.status.idle": "2025-07-25T22:34:45.268709Z",
     "shell.execute_reply": "2025-07-25T22:34:45.267717Z"
    }
   },
   "outputs": [],
   "source": [
    "county_order = ['King','Kitsap','Pierce','Snohomish','Outside Region','Total']\n",
    "\n",
    "person['person_county'] = pd.Categorical(person['person_county'], ordered=True,\n",
    "                   categories=county_order)\n",
    "hh['hh_county'] = pd.Categorical(hh['hh_county'], ordered=True,\n",
    "                   categories=county_order)\n",
    "employment['person_work_county'] = pd.Categorical(employment['person_work_county'], ordered=True,\n",
    "                   categories=county_order)\n",
    "\n",
    "df_network['county'] = pd.Categorical(df_network['county'], ordered=True,\n",
    "                   categories=county_order)"
   ]
  },
  {
   "cell_type": "markdown",
   "id": "1efd72ff",
   "metadata": {},
   "source": [
    "## Households and Population"
   ]
  },
  {
   "cell_type": "code",
   "execution_count": 6,
   "id": "27a89aea",
   "metadata": {
    "execution": {
     "iopub.execute_input": "2025-07-25T22:34:45.272708Z",
     "iopub.status.busy": "2025-07-25T22:34:45.271701Z",
     "iopub.status.idle": "2025-07-25T22:34:45.304655Z",
     "shell.execute_reply": "2025-07-25T22:34:45.304655Z"
    }
   },
   "outputs": [
    {
     "data": {
      "text/html": [
       "<div>\n",
       "<style scoped>\n",
       "    .dataframe tbody tr th:only-of-type {\n",
       "        vertical-align: middle;\n",
       "    }\n",
       "\n",
       "    .dataframe tbody tr th {\n",
       "        vertical-align: top;\n",
       "    }\n",
       "\n",
       "    .dataframe thead th {\n",
       "        text-align: right;\n",
       "    }\n",
       "</style>\n",
       "<table border=\"1\" class=\"dataframe\">\n",
       "  <thead>\n",
       "    <tr style=\"text-align: right;\">\n",
       "      <th></th>\n",
       "      <th>Persons</th>\n",
       "      <th>Households</th>\n",
       "    </tr>\n",
       "  </thead>\n",
       "  <tbody>\n",
       "    <tr>\n",
       "      <th>King</th>\n",
       "      <td>2,303,851</td>\n",
       "      <td>957,460</td>\n",
       "    </tr>\n",
       "    <tr>\n",
       "      <th>Kitsap</th>\n",
       "      <td>275,120</td>\n",
       "      <td>108,901</td>\n",
       "    </tr>\n",
       "    <tr>\n",
       "      <th>Pierce</th>\n",
       "      <td>925,555</td>\n",
       "      <td>350,141</td>\n",
       "    </tr>\n",
       "    <tr>\n",
       "      <th>Snohomish</th>\n",
       "      <td>851,485</td>\n",
       "      <td>319,624</td>\n",
       "    </tr>\n",
       "    <tr>\n",
       "      <th>Total</th>\n",
       "      <td>4,356,011</td>\n",
       "      <td>1,736,126</td>\n",
       "    </tr>\n",
       "  </tbody>\n",
       "</table>\n",
       "</div>"
      ],
      "text/plain": [
       "            Persons  Households\n",
       "King      2,303,851     957,460\n",
       "Kitsap      275,120     108,901\n",
       "Pierce      925,555     350,141\n",
       "Snohomish   851,485     319,624\n",
       "Total     4,356,011   1,736,126"
      ]
     },
     "execution_count": 6,
     "metadata": {},
     "output_type": "execute_result"
    }
   ],
   "source": [
    "# Total Population\n",
    "df_person = person[['person_county','psexpfac']].groupby('person_county', observed=True)['psexpfac'].sum()\n",
    "df_hh = hh[['hh_county','hhexpfac']].groupby('hh_county', observed=True)['hhexpfac'].sum()\n",
    "\n",
    "df = pd.concat([df_person,df_hh],axis=1)\n",
    "df = df[df.index!='Outside Region']\n",
    "\n",
    "df.loc['Total',] = df.sum()\n",
    "df.rename(columns={'psexpfac': 'Persons',\n",
    "                   'hhexpfac': 'Households'}, inplace=True)\n",
    "\n",
    "df"
   ]
  },
  {
   "cell_type": "markdown",
   "id": "06ccfcc1",
   "metadata": {},
   "source": [
    "## Workers and Jobs\n",
    "By Workplace Location\n",
    "\n",
    "Workers are Daysim outputs and Jobs are Parcel Inputs"
   ]
  },
  {
   "cell_type": "code",
   "execution_count": 7,
   "id": "ae178021",
   "metadata": {
    "execution": {
     "iopub.execute_input": "2025-07-25T22:34:45.306645Z",
     "iopub.status.busy": "2025-07-25T22:34:45.306645Z",
     "iopub.status.idle": "2025-07-25T22:34:45.559860Z",
     "shell.execute_reply": "2025-07-25T22:34:45.558864Z"
    }
   },
   "outputs": [
    {
     "data": {
      "text/html": [
       "<div>\n",
       "<style scoped>\n",
       "    .dataframe tbody tr th:only-of-type {\n",
       "        vertical-align: middle;\n",
       "    }\n",
       "\n",
       "    .dataframe tbody tr th {\n",
       "        vertical-align: top;\n",
       "    }\n",
       "\n",
       "    .dataframe thead th {\n",
       "        text-align: right;\n",
       "    }\n",
       "</style>\n",
       "<table border=\"1\" class=\"dataframe\">\n",
       "  <thead>\n",
       "    <tr style=\"text-align: right;\">\n",
       "      <th></th>\n",
       "      <th>County</th>\n",
       "      <th>Workers</th>\n",
       "      <th>Jobs</th>\n",
       "    </tr>\n",
       "  </thead>\n",
       "  <tbody>\n",
       "    <tr>\n",
       "      <th>0</th>\n",
       "      <td>King</td>\n",
       "      <td>1,440,729</td>\n",
       "      <td>1,442,506</td>\n",
       "    </tr>\n",
       "    <tr>\n",
       "      <th>1</th>\n",
       "      <td>Kitsap</td>\n",
       "      <td>104,852</td>\n",
       "      <td>98,821</td>\n",
       "    </tr>\n",
       "    <tr>\n",
       "      <th>2</th>\n",
       "      <td>Pierce</td>\n",
       "      <td>353,796</td>\n",
       "      <td>323,128</td>\n",
       "    </tr>\n",
       "    <tr>\n",
       "      <th>3</th>\n",
       "      <td>Snohomish</td>\n",
       "      <td>327,528</td>\n",
       "      <td>290,359</td>\n",
       "    </tr>\n",
       "    <tr>\n",
       "      <th>4</th>\n",
       "      <td>Region</td>\n",
       "      <td>2,226,905</td>\n",
       "      <td>2,154,814</td>\n",
       "    </tr>\n",
       "  </tbody>\n",
       "</table>\n",
       "</div>"
      ],
      "text/plain": [
       "      County   Workers      Jobs\n",
       "0       King 1,440,729 1,442,506\n",
       "1     Kitsap   104,852    98,821\n",
       "2     Pierce   353,796   323,128\n",
       "3  Snohomish   327,528   290,359\n",
       "4     Region 2,226,905 2,154,814"
      ]
     },
     "execution_count": 7,
     "metadata": {},
     "output_type": "execute_result"
    }
   ],
   "source": [
    "# Jobs\n",
    "df_jobs = df_lu[['emptot_p','CountyName']].groupby('CountyName').sum()[['emptot_p']]\n",
    "df_jobs = df_jobs.reset_index()\n",
    "df_jobs.rename(columns={'emptot_p': 'Jobs',\n",
    "                   'CountyName':'County'}, inplace=True)\n",
    "df_jobs.set_index('County')\n",
    "df_jobs['Jobs'] = df_jobs['Jobs'].astype('float')\n",
    "\n",
    "# workers\n",
    "df = employment.groupby('person_work_county',observed=True)['psexpfac'].sum()\n",
    "\n",
    "df = df.reset_index()\n",
    "df.rename(columns={'psexpfac': 'Workers',\n",
    "                   'person_work_county':'County'}, inplace=True)\n",
    "df.set_index('County')\n",
    "df['Workers'] = df['Workers'].astype('float')\n",
    "df = df.merge(df_jobs, on='County')\n",
    "\n",
    "df.loc['Total',:] = df.sum(axis=0, numeric_only=True)\n",
    "\n",
    "df.loc['Total','County'] = 'Region'\n",
    "df.reset_index(drop=True)"
   ]
  },
  {
   "cell_type": "markdown",
   "id": "cba1dd17",
   "metadata": {},
   "source": [
    "## Total VMT, VHT, Vehicle hours delay\n",
    "Includes truck and external trips within bounds of the region (trips on partial links outside 4 counties are not included)"
   ]
  },
  {
   "cell_type": "code",
   "execution_count": 8,
   "id": "bc4122d1",
   "metadata": {
    "execution": {
     "iopub.execute_input": "2025-07-25T22:34:45.564411Z",
     "iopub.status.busy": "2025-07-25T22:34:45.564411Z",
     "iopub.status.idle": "2025-07-25T22:34:46.866375Z",
     "shell.execute_reply": "2025-07-25T22:34:46.865355Z"
    }
   },
   "outputs": [
    {
     "data": {
      "text/html": [
       "<div>\n",
       "<style scoped>\n",
       "    .dataframe tbody tr th:only-of-type {\n",
       "        vertical-align: middle;\n",
       "    }\n",
       "\n",
       "    .dataframe tbody tr th {\n",
       "        vertical-align: top;\n",
       "    }\n",
       "\n",
       "    .dataframe thead th {\n",
       "        text-align: right;\n",
       "    }\n",
       "</style>\n",
       "<table border=\"1\" class=\"dataframe\">\n",
       "  <thead>\n",
       "    <tr style=\"text-align: right;\">\n",
       "      <th></th>\n",
       "      <th>VMT</th>\n",
       "      <th>VHT</th>\n",
       "      <th>Total Delay Hours</th>\n",
       "    </tr>\n",
       "    <tr>\n",
       "      <th>county</th>\n",
       "      <th></th>\n",
       "      <th></th>\n",
       "      <th></th>\n",
       "    </tr>\n",
       "  </thead>\n",
       "  <tbody>\n",
       "    <tr>\n",
       "      <th>King</th>\n",
       "      <td>43,165,825</td>\n",
       "      <td>1,363,418</td>\n",
       "      <td>149,519</td>\n",
       "    </tr>\n",
       "    <tr>\n",
       "      <th>Kitsap</th>\n",
       "      <td>4,328,161</td>\n",
       "      <td>127,671</td>\n",
       "      <td>2,648</td>\n",
       "    </tr>\n",
       "    <tr>\n",
       "      <th>Pierce</th>\n",
       "      <td>18,368,137</td>\n",
       "      <td>546,606</td>\n",
       "      <td>29,815</td>\n",
       "    </tr>\n",
       "    <tr>\n",
       "      <th>Snohomish</th>\n",
       "      <td>16,129,425</td>\n",
       "      <td>467,277</td>\n",
       "      <td>29,787</td>\n",
       "    </tr>\n",
       "    <tr>\n",
       "      <th>Outside Region</th>\n",
       "      <td>337,207</td>\n",
       "      <td>6,537</td>\n",
       "      <td>2</td>\n",
       "    </tr>\n",
       "    <tr>\n",
       "      <th>Total</th>\n",
       "      <td>82,328,756</td>\n",
       "      <td>2,511,510</td>\n",
       "      <td>211,771</td>\n",
       "    </tr>\n",
       "  </tbody>\n",
       "</table>\n",
       "</div>"
      ],
      "text/plain": [
       "                      VMT       VHT  Total Delay Hours\n",
       "county                                                \n",
       "King           43,165,825 1,363,418            149,519\n",
       "Kitsap          4,328,161   127,671              2,648\n",
       "Pierce         18,368,137   546,606             29,815\n",
       "Snohomish      16,129,425   467,277             29,787\n",
       "Outside Region    337,207     6,537                  2\n",
       "Total          82,328,756 2,511,510            211,771"
      ]
     },
     "execution_count": 8,
     "metadata": {},
     "output_type": "execute_result"
    }
   ],
   "source": [
    "df_vmt = df_network.reset_index().groupby('county',observed=True)['VMT'].sum()\n",
    "df_vht = df_network.reset_index().groupby('county',observed=True)['VHT'].sum()\n",
    "df_delay = df_network.reset_index().groupby('county',observed=True)['total_delay'].sum()\n",
    "\n",
    "df = pd.concat([df_vmt,df_vht,df_delay], axis=1)\n",
    "# df = df[df.index!='Outside Region']\n",
    "df.rename(columns={'total_delay': 'Total Delay Hours'}, inplace=True)\n",
    "\n",
    "df.loc['Total',] = df.sum()\n",
    "total_vmt = df.loc['Total','VMT']\n",
    "\n",
    "df"
   ]
  },
  {
   "cell_type": "markdown",
   "id": "d20d3995",
   "metadata": {},
   "source": [
    "## VMT by Type"
   ]
  },
  {
   "cell_type": "code",
   "execution_count": 9,
   "id": "dd92cd5a",
   "metadata": {
    "execution": {
     "iopub.execute_input": "2025-07-25T22:34:46.870832Z",
     "iopub.status.busy": "2025-07-25T22:34:46.869834Z",
     "iopub.status.idle": "2025-07-25T22:34:46.956794Z",
     "shell.execute_reply": "2025-07-25T22:34:46.956794Z"
    }
   },
   "outputs": [
    {
     "data": {
      "text/html": [
       "<div>\n",
       "<style scoped>\n",
       "    .dataframe tbody tr th:only-of-type {\n",
       "        vertical-align: middle;\n",
       "    }\n",
       "\n",
       "    .dataframe tbody tr th {\n",
       "        vertical-align: top;\n",
       "    }\n",
       "\n",
       "    .dataframe thead th {\n",
       "        text-align: right;\n",
       "    }\n",
       "</style>\n",
       "<table border=\"1\" class=\"dataframe\">\n",
       "  <thead>\n",
       "    <tr style=\"text-align: right;\">\n",
       "      <th></th>\n",
       "      <th>VMT</th>\n",
       "    </tr>\n",
       "  </thead>\n",
       "  <tbody>\n",
       "    <tr>\n",
       "      <th>Resident</th>\n",
       "      <td>62,532,985</td>\n",
       "    </tr>\n",
       "    <tr>\n",
       "      <th>Medium Truck</th>\n",
       "      <td>4,802,682</td>\n",
       "    </tr>\n",
       "    <tr>\n",
       "      <th>Heavy Truck</th>\n",
       "      <td>5,208,294</td>\n",
       "    </tr>\n",
       "    <tr>\n",
       "      <th>External and Other</th>\n",
       "      <td>9,784,795</td>\n",
       "    </tr>\n",
       "    <tr>\n",
       "      <th>Total</th>\n",
       "      <td>82,328,756</td>\n",
       "    </tr>\n",
       "  </tbody>\n",
       "</table>\n",
       "</div>"
      ],
      "text/plain": [
       "                          VMT\n",
       "Resident           62,532,985\n",
       "Medium Truck        4,802,682\n",
       "Heavy Truck         5,208,294\n",
       "External and Other  9,784,795\n",
       "Total              82,328,756"
      ]
     },
     "execution_count": 9,
     "metadata": {},
     "output_type": "execute_result"
    }
   ],
   "source": [
    "vmt_df = pd.DataFrame()\n",
    "\n",
    "# Daysim Resident Demand\n",
    "df = pd.read_csv(output_path / 'agg/dash/person_vmt.csv')\n",
    "df = df[df['mode'].isin(['SOV','HOV2','HOV3+']) & df['dorp']==1]\n",
    "vmt_df.loc['Resident','VMT'] = df['travdist_wt'].sum()\n",
    "\n",
    "# Trucks\n",
    "df_network['medium_truck_vmt'] = df_network['@medium_truck']*df_network['length']\n",
    "df_network['heavy_truck_vmt'] = df_network['@heavy_truck']*df_network['length']\n",
    "\n",
    "vmt_df.loc['Medium Truck','VMT'] = df_network['medium_truck_vmt'].sum()\n",
    "vmt_df.loc['Heavy Truck','VMT'] = df_network['heavy_truck_vmt'].sum()\n",
    "\n",
    "# Externals\n",
    "external_vmt = total_vmt - vmt_df['VMT'].sum()\n",
    "vmt_df.loc['External and Other'] = external_vmt\n",
    "\n",
    "vmt_df.loc['Total'] = total_vmt\n",
    "vmt_df"
   ]
  },
  {
   "cell_type": "markdown",
   "id": "8bffbf51",
   "metadata": {},
   "source": [
    "## Vehicle Trips (Resident + External)"
   ]
  },
  {
   "cell_type": "code",
   "execution_count": 10,
   "id": "d2df4b19",
   "metadata": {
    "execution": {
     "iopub.execute_input": "2025-07-25T22:34:46.959780Z",
     "iopub.status.busy": "2025-07-25T22:34:46.959780Z",
     "iopub.status.idle": "2025-07-25T22:34:46.991257Z",
     "shell.execute_reply": "2025-07-25T22:34:46.990744Z"
    }
   },
   "outputs": [
    {
     "data": {
      "text/html": [
       "<div>\n",
       "<style scoped>\n",
       "    .dataframe tbody tr th:only-of-type {\n",
       "        vertical-align: middle;\n",
       "    }\n",
       "\n",
       "    .dataframe tbody tr th {\n",
       "        vertical-align: top;\n",
       "    }\n",
       "\n",
       "    .dataframe thead th {\n",
       "        text-align: right;\n",
       "    }\n",
       "</style>\n",
       "<table border=\"1\" class=\"dataframe\">\n",
       "  <thead>\n",
       "    <tr style=\"text-align: right;\">\n",
       "      <th></th>\n",
       "      <th>mode</th>\n",
       "      <th>trips</th>\n",
       "    </tr>\n",
       "  </thead>\n",
       "  <tbody>\n",
       "    <tr>\n",
       "      <th>0</th>\n",
       "      <td>Drive Alone</td>\n",
       "      <td>7,675,983</td>\n",
       "    </tr>\n",
       "    <tr>\n",
       "      <th>1</th>\n",
       "      <td>Shared Ride</td>\n",
       "      <td>3,167,635</td>\n",
       "    </tr>\n",
       "  </tbody>\n",
       "</table>\n",
       "</div>"
      ],
      "text/plain": [
       "          mode     trips\n",
       "0  Drive Alone 7,675,983\n",
       "1  Shared Ride 3,167,635"
      ]
     },
     "execution_count": 10,
     "metadata": {},
     "output_type": "execute_result"
    }
   ],
   "source": [
    "# Trips\n",
    "df = pd.read_csv(output_path / 'trips_by_class.csv')\n",
    "df.columns = ['class','trips','tod']\n",
    "df['mode'] = df['class'].map({'sov_inc1': 'Drive Alone',\n",
    "                 'sov_inc2': 'Drive Alone',\n",
    "                 'sov_inc3': 'Drive Alone',\n",
    "                 'hov2_inc1': 'Shared Ride',\n",
    "                 'hov2_inc2': 'Shared Ride',\n",
    "                 'hov2_inc3': 'Shared Ride',\n",
    "                 'hov3_inc1': 'Shared Ride',\n",
    "                 'hov3_inc2': 'Shared Ride',\n",
    "                 'hov3_inc3': 'Shared Ride'})\n",
    "df = df.groupby('mode').sum()[['trips']].reset_index()\n",
    "df"
   ]
  },
  {
   "cell_type": "markdown",
   "id": "39bede99",
   "metadata": {},
   "source": [
    "## Transit Boardings"
   ]
  },
  {
   "cell_type": "code",
   "execution_count": 11,
   "id": "af2eb767",
   "metadata": {
    "execution": {
     "iopub.execute_input": "2025-07-25T22:34:46.994242Z",
     "iopub.status.busy": "2025-07-25T22:34:46.994242Z",
     "iopub.status.idle": "2025-07-25T22:34:47.019491Z",
     "shell.execute_reply": "2025-07-25T22:34:47.019491Z"
    }
   },
   "outputs": [
    {
     "data": {
      "text/html": [
       "<div>\n",
       "<style scoped>\n",
       "    .dataframe tbody tr th:only-of-type {\n",
       "        vertical-align: middle;\n",
       "    }\n",
       "\n",
       "    .dataframe tbody tr th {\n",
       "        vertical-align: top;\n",
       "    }\n",
       "\n",
       "    .dataframe thead th {\n",
       "        text-align: right;\n",
       "    }\n",
       "</style>\n",
       "<table border=\"1\" class=\"dataframe\">\n",
       "  <thead>\n",
       "    <tr style=\"text-align: right;\">\n",
       "      <th></th>\n",
       "      <th>Daily Boardings</th>\n",
       "    </tr>\n",
       "    <tr>\n",
       "      <th>agency_name</th>\n",
       "      <th></th>\n",
       "    </tr>\n",
       "  </thead>\n",
       "  <tbody>\n",
       "    <tr>\n",
       "      <th>King County Metro</th>\n",
       "      <td>288,880</td>\n",
       "    </tr>\n",
       "    <tr>\n",
       "      <th>Sound Transit</th>\n",
       "      <td>140,400</td>\n",
       "    </tr>\n",
       "    <tr>\n",
       "      <th>Community Transit</th>\n",
       "      <td>26,595</td>\n",
       "    </tr>\n",
       "    <tr>\n",
       "      <th>Pierce Transit</th>\n",
       "      <td>23,561</td>\n",
       "    </tr>\n",
       "    <tr>\n",
       "      <th>Kitsap Transit</th>\n",
       "      <td>10,961</td>\n",
       "    </tr>\n",
       "    <tr>\n",
       "      <th>Washington Ferries</th>\n",
       "      <td>6,326</td>\n",
       "    </tr>\n",
       "    <tr>\n",
       "      <th>Everett Transit</th>\n",
       "      <td>5,097</td>\n",
       "    </tr>\n",
       "    <tr>\n",
       "      <th>Total</th>\n",
       "      <td>501,820</td>\n",
       "    </tr>\n",
       "  </tbody>\n",
       "</table>\n",
       "</div>"
      ],
      "text/plain": [
       "                    Daily Boardings\n",
       "agency_name                        \n",
       "King County Metro           288,880\n",
       "Sound Transit               140,400\n",
       "Community Transit            26,595\n",
       "Pierce Transit               23,561\n",
       "Kitsap Transit               10,961\n",
       "Washington Ferries            6,326\n",
       "Everett Transit               5,097\n",
       "Total                       501,820"
      ]
     },
     "execution_count": 11,
     "metadata": {},
     "output_type": "execute_result"
    }
   ],
   "source": [
    "# transit\n",
    "transit = pd.read_csv(output_path / 'transit/daily_boardings_by_agency.csv')\n",
    "\n",
    "df = transit[['agency_name','boardings']].set_index('agency_name').copy()\n",
    "df.loc['Total',:] = df['boardings'].sum()\n",
    "df.rename(columns={'boardings': 'Daily Boardings'}, inplace=True)\n",
    "\n",
    "df\n"
   ]
  },
  {
   "cell_type": "markdown",
   "id": "7913c2a2",
   "metadata": {},
   "source": [
    "## Mode Share \n",
    "Resident Trips"
   ]
  },
  {
   "cell_type": "code",
   "execution_count": 12,
   "id": "8e0478f8",
   "metadata": {
    "execution": {
     "iopub.execute_input": "2025-07-25T22:34:47.024478Z",
     "iopub.status.busy": "2025-07-25T22:34:47.023480Z",
     "iopub.status.idle": "2025-07-25T22:34:47.051742Z",
     "shell.execute_reply": "2025-07-25T22:34:47.051742Z"
    }
   },
   "outputs": [
    {
     "data": {
      "text/html": [
       "<div>\n",
       "<style scoped>\n",
       "    .dataframe tbody tr th:only-of-type {\n",
       "        vertical-align: middle;\n",
       "    }\n",
       "\n",
       "    .dataframe tbody tr th {\n",
       "        vertical-align: top;\n",
       "    }\n",
       "\n",
       "    .dataframe thead th {\n",
       "        text-align: right;\n",
       "    }\n",
       "</style>\n",
       "<table border=\"1\" class=\"dataframe\">\n",
       "  <thead>\n",
       "    <tr style=\"text-align: right;\">\n",
       "      <th></th>\n",
       "      <th>Total Person Trips</th>\n",
       "      <th>Mode Share</th>\n",
       "    </tr>\n",
       "    <tr>\n",
       "      <th>mode</th>\n",
       "      <th></th>\n",
       "      <th></th>\n",
       "    </tr>\n",
       "  </thead>\n",
       "  <tbody>\n",
       "    <tr>\n",
       "      <th>Bike</th>\n",
       "      <td>245,128</td>\n",
       "      <td>1.5%</td>\n",
       "    </tr>\n",
       "    <tr>\n",
       "      <th>HOV2</th>\n",
       "      <td>3,477,484</td>\n",
       "      <td>21.3%</td>\n",
       "    </tr>\n",
       "    <tr>\n",
       "      <th>HOV3+</th>\n",
       "      <td>2,298,569</td>\n",
       "      <td>14.1%</td>\n",
       "    </tr>\n",
       "    <tr>\n",
       "      <th>SOV</th>\n",
       "      <td>7,249,939</td>\n",
       "      <td>44.5%</td>\n",
       "    </tr>\n",
       "    <tr>\n",
       "      <th>School Bus</th>\n",
       "      <td>261,008</td>\n",
       "      <td>1.6%</td>\n",
       "    </tr>\n",
       "    <tr>\n",
       "      <th>TNC</th>\n",
       "      <td>52,282</td>\n",
       "      <td>0.3%</td>\n",
       "    </tr>\n",
       "    <tr>\n",
       "      <th>Transit</th>\n",
       "      <td>353,768</td>\n",
       "      <td>2.2%</td>\n",
       "    </tr>\n",
       "    <tr>\n",
       "      <th>Walk</th>\n",
       "      <td>2,354,016</td>\n",
       "      <td>14.4%</td>\n",
       "    </tr>\n",
       "    <tr>\n",
       "      <th>Total</th>\n",
       "      <td>16,292,194</td>\n",
       "      <td>100.0%</td>\n",
       "    </tr>\n",
       "  </tbody>\n",
       "</table>\n",
       "</div>"
      ],
      "text/plain": [
       "           Total Person Trips Mode Share\n",
       "mode                                    \n",
       "Bike                  245,128       1.5%\n",
       "HOV2                3,477,484      21.3%\n",
       "HOV3+               2,298,569      14.1%\n",
       "SOV                 7,249,939      44.5%\n",
       "School Bus            261,008       1.6%\n",
       "TNC                    52,282       0.3%\n",
       "Transit               353,768       2.2%\n",
       "Walk                2,354,016      14.4%\n",
       "Total              16,292,194     100.0%"
      ]
     },
     "execution_count": 12,
     "metadata": {},
     "output_type": "execute_result"
    }
   ],
   "source": [
    "# mode share\n",
    "mode_share = pd.read_csv(output_path / 'agg/dash/mode_share_county.csv')\n",
    "\n",
    "df = mode_share.groupby('mode')['trexpfac'].sum().reset_index().set_index('mode')\n",
    "df['Mode Share'] = (df['trexpfac']/ (mode_share['trexpfac'].sum()))\n",
    "df.loc['Total', :] = df.sum(axis=0)\n",
    "df['Mode Share'] = (df['Mode Share'] * 100).round(1)\n",
    "df['Mode Share'] = df['Mode Share'].astype(str) + '%'\n",
    "df['trexpfac'] = df['trexpfac'].apply(lambda x: f\"{int(round(x)):,}\")\n",
    "df.rename(columns={'trexpfac': 'Total Person Trips'}, inplace=True)\n",
    "df"
   ]
  },
  {
   "cell_type": "markdown",
   "id": "5af7856f",
   "metadata": {},
   "source": [
    "# Emissions\n",
    "Daily Tons for light, medium, and heavy vehicles; bus vehicles are excluded."
   ]
  },
  {
   "cell_type": "code",
   "execution_count": 13,
   "id": "5bb9bbd9",
   "metadata": {
    "execution": {
     "iopub.execute_input": "2025-07-25T22:34:47.053733Z",
     "iopub.status.busy": "2025-07-25T22:34:47.053733Z",
     "iopub.status.idle": "2025-07-25T22:34:47.075765Z",
     "shell.execute_reply": "2025-07-25T22:34:47.075765Z"
    }
   },
   "outputs": [
    {
     "data": {
      "text/html": [
       "<div>\n",
       "<style scoped>\n",
       "    .dataframe tbody tr th:only-of-type {\n",
       "        vertical-align: middle;\n",
       "    }\n",
       "\n",
       "    .dataframe tbody tr th {\n",
       "        vertical-align: top;\n",
       "    }\n",
       "\n",
       "    .dataframe thead th {\n",
       "        text-align: right;\n",
       "    }\n",
       "</style>\n",
       "<table border=\"1\" class=\"dataframe\">\n",
       "  <thead>\n",
       "    <tr style=\"text-align: right;\">\n",
       "      <th></th>\n",
       "      <th>Start</th>\n",
       "      <th>Intrazonal</th>\n",
       "      <th>Interzonal</th>\n",
       "      <th>Total Daily</th>\n",
       "    </tr>\n",
       "    <tr>\n",
       "      <th>pollutant_name</th>\n",
       "      <th></th>\n",
       "      <th></th>\n",
       "      <th></th>\n",
       "      <th></th>\n",
       "    </tr>\n",
       "  </thead>\n",
       "  <tbody>\n",
       "    <tr>\n",
       "      <th>CO</th>\n",
       "      <td>124</td>\n",
       "      <td>2</td>\n",
       "      <td>235</td>\n",
       "      <td>361</td>\n",
       "    </tr>\n",
       "    <tr>\n",
       "      <th>CO2 Equivalent</th>\n",
       "      <td>2,290</td>\n",
       "      <td>255</td>\n",
       "      <td>37,735</td>\n",
       "      <td>40,281</td>\n",
       "    </tr>\n",
       "    <tr>\n",
       "      <th>NOx</th>\n",
       "      <td>9</td>\n",
       "      <td>0</td>\n",
       "      <td>38</td>\n",
       "      <td>47</td>\n",
       "    </tr>\n",
       "    <tr>\n",
       "      <th>PM10 Total</th>\n",
       "      <td>0</td>\n",
       "      <td>0</td>\n",
       "      <td>5</td>\n",
       "      <td>5</td>\n",
       "    </tr>\n",
       "    <tr>\n",
       "      <th>PM25 Total</th>\n",
       "      <td>0</td>\n",
       "      <td>0</td>\n",
       "      <td>1</td>\n",
       "      <td>2</td>\n",
       "    </tr>\n",
       "  </tbody>\n",
       "</table>\n",
       "</div>"
      ],
      "text/plain": [
       "                Start  Intrazonal  Interzonal  Total Daily\n",
       "pollutant_name                                            \n",
       "CO                124           2         235          361\n",
       "CO2 Equivalent  2,290         255      37,735       40,281\n",
       "NOx                 9           0          38           47\n",
       "PM10 Total          0           0           5            5\n",
       "PM25 Total          0           0           1            2"
      ]
     },
     "execution_count": 13,
     "metadata": {},
     "output_type": "execute_result"
    }
   ],
   "source": [
    "df = pd.read_csv(output_path / 'emissions/emissions_summary.csv')\n",
    "\n",
    "df = df[df['veh_type'].isin(['light','medium','heavy'])]\n",
    "df = df.groupby('pollutant_name').sum()\n",
    "df.rename(columns={'start_tons': 'Start', 'intrazonal_tons': 'Intrazonal', 'interzonal_tons': 'Interzonal',\n",
    "                  'total_daily_tons': 'Total Daily'},\n",
    "                  inplace=True)\n",
    "df = df.loc[df.index.isin(['CO','NOx','PM25 Total','PM10 Total','CO2 Equivalent']),\n",
    "            ['Start', 'Intrazonal', 'Interzonal', 'Total Daily']]\n",
    "\n",
    "df"
   ]
  },
  {
   "cell_type": "markdown",
   "id": "8a9feb28",
   "metadata": {},
   "source": [
    "# Lane Miles"
   ]
  },
  {
   "cell_type": "code",
   "execution_count": 14,
   "id": "c6efe75c",
   "metadata": {
    "execution": {
     "iopub.execute_input": "2025-07-25T22:34:47.077755Z",
     "iopub.status.busy": "2025-07-25T22:34:47.077755Z",
     "iopub.status.idle": "2025-07-25T22:34:47.081821Z",
     "shell.execute_reply": "2025-07-25T22:34:47.081821Z"
    }
   },
   "outputs": [],
   "source": [
    "facility_type_dict = {\n",
    "    1: 'Interstate',\n",
    "    2: 'Other Freeway',\n",
    "    3: 'Expressway',\n",
    "    4: 'Ramp',\n",
    "    5: 'Principal Arterial',\n",
    "    6: 'Minor Arterial',\n",
    "    7: 'Major Collector',\n",
    "    8: 'Minor Collector',\n",
    "    9: 'Local',\n",
    "    10: 'Busway',\n",
    "    11: 'Non-Motor',\n",
    "    12: 'Light Rail',\n",
    "    13: 'Commuter Rail',\n",
    "    15: 'Ferry',\n",
    "    16: 'Passenger-Only Ferry',\n",
    "    17: 'Centroid Connector',\n",
    "    18: 'Facility Connector',\n",
    "    19: 'HOV Only Freeway',\n",
    "    20: 'HOV Only Ramp',\n",
    "    98: 'Weave Links'\n",
    "}\n",
    "\n",
    "ul3_dict = {\n",
    "    0: 'Rail/Walk/Ferry',\n",
    "    1: 'Freeway',\n",
    "    2: 'Expressway',\n",
    "    3: 'Urban Arterial',\n",
    "    4: 'One-way Arterial',\n",
    "    5: 'Centroid Connector',\n",
    "    6: 'Rural Arterial'\n",
    "}\n",
    "\n",
    "county_dict = {\n",
    "    33: 'King',\n",
    "    35: 'Kitsap',\n",
    "    53: 'Pierce',\n",
    "    61: 'Snohomish'\n",
    "}"
   ]
  },
  {
   "cell_type": "code",
   "execution_count": 15,
   "id": "d54d541c",
   "metadata": {
    "execution": {
     "iopub.execute_input": "2025-07-25T22:34:47.083811Z",
     "iopub.status.busy": "2025-07-25T22:34:47.083811Z",
     "iopub.status.idle": "2025-07-25T22:34:47.195280Z",
     "shell.execute_reply": "2025-07-25T22:34:47.194768Z"
    }
   },
   "outputs": [
    {
     "data": {
      "text/html": [
       "<div>\n",
       "<style scoped>\n",
       "    .dataframe tbody tr th:only-of-type {\n",
       "        vertical-align: middle;\n",
       "    }\n",
       "\n",
       "    .dataframe tbody tr th {\n",
       "        vertical-align: top;\n",
       "    }\n",
       "\n",
       "    .dataframe thead th {\n",
       "        text-align: right;\n",
       "    }\n",
       "</style>\n",
       "<table border=\"1\" class=\"dataframe\">\n",
       "  <thead>\n",
       "    <tr style=\"text-align: right;\">\n",
       "      <th></th>\n",
       "      <th>Lane Miles</th>\n",
       "    </tr>\n",
       "    <tr>\n",
       "      <th>Facility Type</th>\n",
       "      <th></th>\n",
       "    </tr>\n",
       "  </thead>\n",
       "  <tbody>\n",
       "    <tr>\n",
       "      <th>Interstate</th>\n",
       "      <td>1,468</td>\n",
       "    </tr>\n",
       "    <tr>\n",
       "      <th>Other Freeway</th>\n",
       "      <td>767</td>\n",
       "    </tr>\n",
       "    <tr>\n",
       "      <th>Expressway</th>\n",
       "      <td>229</td>\n",
       "    </tr>\n",
       "    <tr>\n",
       "      <th>Ramp</th>\n",
       "      <td>537</td>\n",
       "    </tr>\n",
       "    <tr>\n",
       "      <th>Principal Arterial</th>\n",
       "      <td>3,101</td>\n",
       "    </tr>\n",
       "    <tr>\n",
       "      <th>Minor Arterial</th>\n",
       "      <td>4,060</td>\n",
       "    </tr>\n",
       "    <tr>\n",
       "      <th>Major Collector</th>\n",
       "      <td>2,925</td>\n",
       "    </tr>\n",
       "    <tr>\n",
       "      <th>Minor Collector</th>\n",
       "      <td>219</td>\n",
       "    </tr>\n",
       "    <tr>\n",
       "      <th>Local</th>\n",
       "      <td>299</td>\n",
       "    </tr>\n",
       "    <tr>\n",
       "      <th>Centroid Connector</th>\n",
       "      <td>9,821</td>\n",
       "    </tr>\n",
       "    <tr>\n",
       "      <th>Facility Connector</th>\n",
       "      <td>19</td>\n",
       "    </tr>\n",
       "    <tr>\n",
       "      <th>HOV Only Freeway</th>\n",
       "      <td>3</td>\n",
       "    </tr>\n",
       "    <tr>\n",
       "      <th>HOV Only Ramp</th>\n",
       "      <td>20</td>\n",
       "    </tr>\n",
       "    <tr>\n",
       "      <th>Total</th>\n",
       "      <td>23,468</td>\n",
       "    </tr>\n",
       "  </tbody>\n",
       "</table>\n",
       "</div>"
      ],
      "text/plain": [
       "                    Lane Miles\n",
       "Facility Type                 \n",
       "Interstate               1,468\n",
       "Other Freeway              767\n",
       "Expressway                 229\n",
       "Ramp                       537\n",
       "Principal Arterial       3,101\n",
       "Minor Arterial           4,060\n",
       "Major Collector          2,925\n",
       "Minor Collector            219\n",
       "Local                      299\n",
       "Centroid Connector       9,821\n",
       "Facility Connector          19\n",
       "HOV Only Freeway             3\n",
       "HOV Only Ramp               20\n",
       "Total                   23,468"
      ]
     },
     "execution_count": 15,
     "metadata": {},
     "output_type": "execute_result"
    }
   ],
   "source": [
    "# Select mid-day network\n",
    "gdf = df_network.loc[df_network['tod'] == '10to14'].copy()\n",
    "gdf['Lane Miles'] = gdf['length'] * gdf['num_lanes']\n",
    "\n",
    "gdf['Facility Type'] = pd.Categorical(gdf['@facilitytype'].map(facility_type_dict), \n",
    "                                      ordered=True,\n",
    "                                      categories=facility_type_dict.values())\n",
    "\n",
    "df = gdf.groupby(['Facility Type'], observed=True)['Lane Miles'].sum().reset_index().set_index('Facility Type')\n",
    "\n",
    "# df = df.drop(['@facilitytype','Facility Type'], axis=1)\n",
    "df.loc['Total','Lane Miles'] = df['Lane Miles'].sum()\n",
    "df"
   ]
  },
  {
   "cell_type": "code",
   "execution_count": 16,
   "id": "a435ca2a",
   "metadata": {
    "execution": {
     "iopub.execute_input": "2025-07-25T22:34:47.199264Z",
     "iopub.status.busy": "2025-07-25T22:34:47.199264Z",
     "iopub.status.idle": "2025-07-25T22:34:47.236390Z",
     "shell.execute_reply": "2025-07-25T22:34:47.236390Z"
    }
   },
   "outputs": [
    {
     "data": {
      "text/html": [
       "<div>\n",
       "<style scoped>\n",
       "    .dataframe tbody tr th:only-of-type {\n",
       "        vertical-align: middle;\n",
       "    }\n",
       "\n",
       "    .dataframe tbody tr th {\n",
       "        vertical-align: top;\n",
       "    }\n",
       "\n",
       "    .dataframe thead th {\n",
       "        text-align: right;\n",
       "    }\n",
       "</style>\n",
       "<table border=\"1\" class=\"dataframe\">\n",
       "  <thead>\n",
       "    <tr style=\"text-align: right;\">\n",
       "      <th></th>\n",
       "      <th>Lane Miles</th>\n",
       "    </tr>\n",
       "    <tr>\n",
       "      <th>Facility Group</th>\n",
       "      <th></th>\n",
       "    </tr>\n",
       "  </thead>\n",
       "  <tbody>\n",
       "    <tr>\n",
       "      <th>Freeway</th>\n",
       "      <td>2,236</td>\n",
       "    </tr>\n",
       "    <tr>\n",
       "      <th>Expressway</th>\n",
       "      <td>677</td>\n",
       "    </tr>\n",
       "    <tr>\n",
       "      <th>Urban Arterial</th>\n",
       "      <td>6,871</td>\n",
       "    </tr>\n",
       "    <tr>\n",
       "      <th>One-way Arterial</th>\n",
       "      <td>452</td>\n",
       "    </tr>\n",
       "    <tr>\n",
       "      <th>Centroid Connector</th>\n",
       "      <td>9,839</td>\n",
       "    </tr>\n",
       "    <tr>\n",
       "      <th>Rural Arterial</th>\n",
       "      <td>3,340</td>\n",
       "    </tr>\n",
       "    <tr>\n",
       "      <th>Total</th>\n",
       "      <td>23,415</td>\n",
       "    </tr>\n",
       "  </tbody>\n",
       "</table>\n",
       "</div>"
      ],
      "text/plain": [
       "                    Lane Miles\n",
       "Facility Group                \n",
       "Freeway                  2,236\n",
       "Expressway                 677\n",
       "Urban Arterial           6,871\n",
       "One-way Arterial           452\n",
       "Centroid Connector       9,839\n",
       "Rural Arterial           3,340\n",
       "Total                   23,415"
      ]
     },
     "execution_count": 16,
     "metadata": {},
     "output_type": "execute_result"
    }
   ],
   "source": [
    "gdf['Facility Group'] = pd.Categorical(gdf['data3'].map(ul3_dict), \n",
    "                                      ordered=True,\n",
    "                                      categories=ul3_dict.values())\n",
    "\n",
    "df = gdf.groupby(['Facility Group'], observed=True)['Lane Miles'].sum().reset_index().set_index('Facility Group')\n",
    "\n",
    "df.loc['Total','Lane Miles'] = df['Lane Miles'].sum()\n",
    "df"
   ]
  },
  {
   "cell_type": "code",
   "execution_count": 17,
   "id": "8d870cd2",
   "metadata": {
    "execution": {
     "iopub.execute_input": "2025-07-25T22:34:47.238380Z",
     "iopub.status.busy": "2025-07-25T22:34:47.238380Z",
     "iopub.status.idle": "2025-07-25T22:34:47.251348Z",
     "shell.execute_reply": "2025-07-25T22:34:47.251348Z"
    }
   },
   "outputs": [
    {
     "data": {
      "text/html": [
       "<div>\n",
       "<style scoped>\n",
       "    .dataframe tbody tr th:only-of-type {\n",
       "        vertical-align: middle;\n",
       "    }\n",
       "\n",
       "    .dataframe tbody tr th {\n",
       "        vertical-align: top;\n",
       "    }\n",
       "\n",
       "    .dataframe thead th {\n",
       "        text-align: right;\n",
       "    }\n",
       "</style>\n",
       "<table border=\"1\" class=\"dataframe\">\n",
       "  <thead>\n",
       "    <tr style=\"text-align: right;\">\n",
       "      <th></th>\n",
       "      <th>Lane Miles</th>\n",
       "    </tr>\n",
       "    <tr>\n",
       "      <th>county</th>\n",
       "      <th></th>\n",
       "    </tr>\n",
       "  </thead>\n",
       "  <tbody>\n",
       "    <tr>\n",
       "      <th>King</th>\n",
       "      <td>10,803</td>\n",
       "    </tr>\n",
       "    <tr>\n",
       "      <th>Kitsap</th>\n",
       "      <td>2,022</td>\n",
       "    </tr>\n",
       "    <tr>\n",
       "      <th>Pierce</th>\n",
       "      <td>5,815</td>\n",
       "    </tr>\n",
       "    <tr>\n",
       "      <th>Snohomish</th>\n",
       "      <td>4,769</td>\n",
       "    </tr>\n",
       "    <tr>\n",
       "      <th>Outside Region</th>\n",
       "      <td>58</td>\n",
       "    </tr>\n",
       "    <tr>\n",
       "      <th>Total</th>\n",
       "      <td>23,468</td>\n",
       "    </tr>\n",
       "  </tbody>\n",
       "</table>\n",
       "</div>"
      ],
      "text/plain": [
       "                Lane Miles\n",
       "county                    \n",
       "King                10,803\n",
       "Kitsap               2,022\n",
       "Pierce               5,815\n",
       "Snohomish            4,769\n",
       "Outside Region          58\n",
       "Total               23,468"
      ]
     },
     "execution_count": 17,
     "metadata": {},
     "output_type": "execute_result"
    }
   ],
   "source": [
    "# Load link attributes and join\n",
    "gdf['county'] = gdf['county'].replace(np.nan,'Outside Region')\n",
    "df = gdf.groupby(['county'], observed=True)['Lane Miles'].sum().reset_index().set_index('county')\n",
    "\n",
    "df.loc['Total','Lane Miles'] = df['Lane Miles'].sum()\n",
    "df"
   ]
  },
  {
   "cell_type": "markdown",
   "id": "60b37b1d",
   "metadata": {},
   "source": [
    "# Person Metrics"
   ]
  },
  {
   "cell_type": "code",
   "execution_count": 18,
   "id": "2a1c72f4",
   "metadata": {
    "execution": {
     "iopub.execute_input": "2025-07-25T22:34:47.253344Z",
     "iopub.status.busy": "2025-07-25T22:34:47.253344Z",
     "iopub.status.idle": "2025-07-25T22:34:49.436797Z",
     "shell.execute_reply": "2025-07-25T22:34:49.436797Z"
    }
   },
   "outputs": [],
   "source": [
    "# Daysim data\n",
    "import polars as pl\n",
    "trip = pl.read_csv(r'../../../../outputs/daysim/_trip.tsv',separator='\\t')\n",
    "person = pl.read_csv(r'../../../../outputs/daysim/_person.tsv',separator='\\t')\n",
    "hh = pl.read_csv(r'../../../../outputs/daysim/_household.tsv', separator='\\t')"
   ]
  },
  {
   "cell_type": "markdown",
   "id": "7d65b619",
   "metadata": {},
   "source": [
    "### Average Daily Miles Driven per Person"
   ]
  },
  {
   "cell_type": "code",
   "execution_count": 19,
   "id": "ef76380b",
   "metadata": {
    "execution": {
     "iopub.execute_input": "2025-07-25T22:34:49.438788Z",
     "iopub.status.busy": "2025-07-25T22:34:49.438788Z",
     "iopub.status.idle": "2025-07-25T22:34:49.442464Z",
     "shell.execute_reply": "2025-07-25T22:34:49.442464Z"
    }
   },
   "outputs": [],
   "source": [
    "if 'sov_ff_time' in trip.columns:\n",
    "    drive_modes = [3, 4, 5]\n",
    "    vehicle_trips = trip[['mode', 'dorp', 'travtime', 'sov_ff_time', 'travdist']].filter(pl.col(\"mode\").is_in(drive_modes)).filter(pl.col(\"dorp\") == 1)\n",
    "    avg_vmt = vehicle_trips['travdist'].sum()/ person['psexpfac'].sum()\n",
    "    print(f'Average Daily VMT per person, not including externals or trucks: {avg_vmt:.1f}')"
   ]
  },
  {
   "cell_type": "markdown",
   "id": "04270429",
   "metadata": {},
   "source": [
    "### Hours of Congestion per Person per Year\n",
    "For average Puget Sound resident:"
   ]
  },
  {
   "cell_type": "code",
   "execution_count": 20,
   "id": "13b9c15e",
   "metadata": {
    "execution": {
     "iopub.execute_input": "2025-07-25T22:34:49.443967Z",
     "iopub.status.busy": "2025-07-25T22:34:49.443967Z",
     "iopub.status.idle": "2025-07-25T22:34:49.447576Z",
     "shell.execute_reply": "2025-07-25T22:34:49.447576Z"
    }
   },
   "outputs": [],
   "source": [
    "if 'sov_ff_time' in trip.columns:\n",
    "    drive_trips = trip[['mode', 'dorp', 'travtime', 'sov_ff_time', 'travdist']].filter(pl.col(\"mode\").is_in(drive_modes))\n",
    "    drive_trips = drive_trips.with_columns(\n",
    "        delay=pl.col('travtime')-(pl.col('sov_ff_time')/100.0))\n",
    "    minutes_to_hour = 60\n",
    "    drive_mode_delay = summary_config['weekday_to_annual']*(drive_trips['delay'].sum()/person['psexpfac'].sum())/minutes_to_hour\n",
    "    print(f'Annual hours of delay for residents, not including externals or trucks is: {drive_mode_delay:.1f}')"
   ]
  },
  {
   "cell_type": "markdown",
   "id": "4aff6395",
   "metadata": {},
   "source": [
    "### Annual Hours of Delay by Average Truck\n",
    "Average annual delay (hours) per truck trip in and through the region:"
   ]
  },
  {
   "cell_type": "code",
   "execution_count": 21,
   "id": "ffcb28e6",
   "metadata": {
    "execution": {
     "iopub.execute_input": "2025-07-25T22:34:49.449569Z",
     "iopub.status.busy": "2025-07-25T22:34:49.448572Z",
     "iopub.status.idle": "2025-07-25T22:34:49.451564Z",
     "shell.execute_reply": "2025-07-25T22:34:49.451564Z"
    }
   },
   "outputs": [],
   "source": [
    "# Total truck trips"
   ]
  },
  {
   "cell_type": "code",
   "execution_count": 22,
   "id": "4c80c1d9",
   "metadata": {
    "execution": {
     "iopub.execute_input": "2025-07-25T22:34:49.453559Z",
     "iopub.status.busy": "2025-07-25T22:34:49.452561Z",
     "iopub.status.idle": "2025-07-25T22:34:49.476797Z",
     "shell.execute_reply": "2025-07-25T22:34:49.476797Z"
    }
   },
   "outputs": [
    {
     "name": "stdout",
     "output_type": "stream",
     "text": [
      "18.4\n"
     ]
    }
   ],
   "source": [
    "# Load truck trips\n",
    "df = pd.read_csv(r'../../../../outputs/trucks/trucks_summary.csv',index_col=0)\n",
    "\n",
    "# Truck delay\n",
    "net_sum = pd.read_csv(r'../../../../outputs/network/delay_user_class.csv')\n",
    "\n",
    "# Annual delay hours\n",
    "daily_delay = net_sum[['@mveh','@hveh']].sum().sum()\n",
    "\n",
    "\n",
    "# total truck trips\n",
    "trips = df['prod'].sum()\n",
    "\n",
    "# average annual delay hours per truck\n",
    "x = (daily_delay*summary_config[\"weekday_to_annual\"])/trips\n",
    "print('{:0,.1f}'.format(x))"
   ]
  },
  {
   "cell_type": "markdown",
   "id": "aee2ebd1",
   "metadata": {},
   "source": [
    "*Medium trucks only:*"
   ]
  },
  {
   "cell_type": "code",
   "execution_count": 23,
   "id": "bccd76ac",
   "metadata": {
    "execution": {
     "iopub.execute_input": "2025-07-25T22:34:49.478788Z",
     "iopub.status.busy": "2025-07-25T22:34:49.478788Z",
     "iopub.status.idle": "2025-07-25T22:34:49.482627Z",
     "shell.execute_reply": "2025-07-25T22:34:49.482627Z"
    }
   },
   "outputs": [
    {
     "name": "stdout",
     "output_type": "stream",
     "text": [
      "14.1\n"
     ]
    }
   ],
   "source": [
    "x = (net_sum['@mveh'].sum()*summary_config[\"weekday_to_annual\"])/df.loc['mt','prod']\n",
    "print('{:0,.1f}'.format(x))"
   ]
  },
  {
   "cell_type": "markdown",
   "id": "d3e57620",
   "metadata": {},
   "source": [
    "*Heavy trucks only:*"
   ]
  },
  {
   "cell_type": "code",
   "execution_count": 24,
   "id": "04c4ce06",
   "metadata": {
    "execution": {
     "iopub.execute_input": "2025-07-25T22:34:49.484620Z",
     "iopub.status.busy": "2025-07-25T22:34:49.484620Z",
     "iopub.status.idle": "2025-07-25T22:34:49.487655Z",
     "shell.execute_reply": "2025-07-25T22:34:49.487655Z"
    }
   },
   "outputs": [
    {
     "name": "stdout",
     "output_type": "stream",
     "text": [
      "32.0\n"
     ]
    }
   ],
   "source": [
    "x = (net_sum['@hveh'].sum()*summary_config[\"weekday_to_annual\"])/df.loc['ht','prod']\n",
    "print ('{:0,.1f}'.format(x))"
   ]
  },
  {
   "cell_type": "markdown",
   "id": "718c6944",
   "metadata": {},
   "source": [
    "### % Population Walking or Biking for Transportation"
   ]
  },
  {
   "cell_type": "code",
   "execution_count": 25,
   "id": "ecf93c53",
   "metadata": {
    "execution": {
     "iopub.execute_input": "2025-07-25T22:34:49.489647Z",
     "iopub.status.busy": "2025-07-25T22:34:49.489647Z",
     "iopub.status.idle": "2025-07-25T22:34:51.593621Z",
     "shell.execute_reply": "2025-07-25T22:34:51.593621Z"
    }
   },
   "outputs": [
    {
     "name": "stdout",
     "output_type": "stream",
     "text": [
      "Percent of population with at least one non-exercise walk or bike trip: 25.7%\n"
     ]
    }
   ],
   "source": [
    "trip_person = trip.join(person, on=[\"hhno\", \"pno\"], how=\"left\")\n",
    "bike_walk_trips = trip_person.filter(pl.col(\"mode\").is_in([1, 2]))\n",
    "\n",
    "# Get unique persons with at least one bike/walk trip\n",
    "bike_walk_persons = bike_walk_trips.select([\"hhno\", \"pno\"]).unique()\n",
    "bike_walk_persons = bike_walk_persons.with_columns(bike_walk=pl.lit(True))\n",
    "\n",
    "# Join back to all persons, mark bike_walk as False if not present\n",
    "person_with_bike_walk = person.join(bike_walk_persons, on=[\"hhno\", \"pno\"], how=\"left\")\n",
    "person_with_bike_walk = person_with_bike_walk.with_columns(\n",
    "    pl.col(\"bike_walk\").fill_null(False)\n",
    ")\n",
    "\n",
    "# Calculate share\n",
    "share = (\n",
    "    person_with_bike_walk.group_by(\"bike_walk\")\n",
    "    .agg(pl.col(\"psexpfac\").sum())\n",
    "    .with_columns(\n",
    "        (pl.col(\"psexpfac\") / pl.col(\"psexpfac\").sum()).alias(\"share\")\n",
    "    )\n",
    ")\n",
    "print(\"Percent of population with at least one non-exercise walk or bike trip: {:.1%}\".format(share.filter(pl.col(\"bike_walk\") == True)[\"share\"][0]))"
   ]
  },
  {
   "cell_type": "markdown",
   "id": "62979b5b",
   "metadata": {},
   "source": [
    "## Household and Jobs within 1/4 mile transit"
   ]
  },
  {
   "cell_type": "code",
   "execution_count": 26,
   "id": "2982aa81",
   "metadata": {
    "execution": {
     "iopub.execute_input": "2025-07-25T22:34:51.595614Z",
     "iopub.status.busy": "2025-07-25T22:34:51.595614Z",
     "iopub.status.idle": "2025-07-25T22:34:51.612637Z",
     "shell.execute_reply": "2025-07-25T22:34:51.612637Z"
    }
   },
   "outputs": [],
   "source": [
    "# Network data\n",
    "df = pd.read_csv(r'../../../../outputs/transit/transit_access.csv',index_col=0)"
   ]
  },
  {
   "cell_type": "markdown",
   "id": "35721244",
   "metadata": {},
   "source": [
    "**Households**"
   ]
  },
  {
   "cell_type": "code",
   "execution_count": 27,
   "id": "35af0dff",
   "metadata": {
    "execution": {
     "iopub.execute_input": "2025-07-25T22:34:51.615630Z",
     "iopub.status.busy": "2025-07-25T22:34:51.615630Z",
     "iopub.status.idle": "2025-07-25T22:34:51.621124Z",
     "shell.execute_reply": "2025-07-25T22:34:51.621124Z"
    }
   },
   "outputs": [
    {
     "name": "stdout",
     "output_type": "stream",
     "text": [
      "828,965 households within 1/4 mile of transit\n",
      "47.7% of total households\n"
     ]
    }
   ],
   "source": [
    "x = df.loc['hh_p','quarter_mile_transit']\n",
    "print('{:,.0f}'.format(x) + (\" households within 1/4 mile of transit\"))\n",
    "x = df.loc['hh_p','quarter_mile_transit']/df.loc['hh_p','total']\n",
    "print('{:,.1%}'.format(x) + (\" of total households\"))"
   ]
  },
  {
   "cell_type": "markdown",
   "id": "d570c6e5",
   "metadata": {},
   "source": [
    "**Jobs**"
   ]
  },
  {
   "cell_type": "code",
   "execution_count": 28,
   "id": "ce39bf06",
   "metadata": {
    "execution": {
     "iopub.execute_input": "2025-07-25T22:34:51.624113Z",
     "iopub.status.busy": "2025-07-25T22:34:51.623116Z",
     "iopub.status.idle": "2025-07-25T22:34:51.628607Z",
     "shell.execute_reply": "2025-07-25T22:34:51.628607Z"
    }
   },
   "outputs": [
    {
     "name": "stdout",
     "output_type": "stream",
     "text": [
      "1,556,628 jobs within 1/4 mile of transit\n",
      "38.5% of total jobs\n"
     ]
    }
   ],
   "source": [
    "x = df.loc['emptot_p','quarter_mile_transit']\n",
    "print('{:,.0f}'.format(x) + (\" jobs within 1/4 mile of transit\"))\n",
    "x = df.loc['hh_p','quarter_mile_transit']/df.loc['emptot_p','total']\n",
    "print('{:,.1%}'.format(x) + (\" of total jobs\"))"
   ]
  }
 ],
 "metadata": {
  "kernelspec": {
   "display_name": "summary",
   "language": "python",
   "name": "python3"
  },
  "language_info": {
   "codemirror_mode": {
    "name": "ipython",
    "version": 3
   },
   "file_extension": ".py",
   "mimetype": "text/x-python",
   "name": "python",
   "nbconvert_exporter": "python",
   "pygments_lexer": "ipython3",
   "version": "3.11.12"
  }
 },
 "nbformat": 4,
 "nbformat_minor": 5
}
