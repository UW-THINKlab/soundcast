{
 "cells": [
  {
   "cell_type": "raw",
   "id": "fe4cb836",
   "metadata": {
    "vscode": {
     "languageId": "raw"
    }
   },
   "source": [
    "---\n",
    "title: \"Congestion\"\n",
    "date: today\n",
    "---"
   ]
  },
  {
   "cell_type": "code",
   "execution_count": 1,
   "id": "91f43bfa",
   "metadata": {
    "execution": {
     "iopub.execute_input": "2025-07-22T22:42:56.750176Z",
     "iopub.status.busy": "2025-07-22T22:42:56.749116Z",
     "iopub.status.idle": "2025-07-22T22:42:57.713727Z",
     "shell.execute_reply": "2025-07-22T22:42:57.713727Z"
    }
   },
   "outputs": [],
   "source": [
    "import pandas as pd\n",
    "import geopandas as gpd\n",
    "import toml\n",
    "from pathlib import Path\n",
    "from sqlalchemy import create_engine\n",
    "from functions import process_network_summary\n",
    "\n",
    "config = toml.load(Path.cwd() / '../../../../configuration/input_configuration.toml')\n",
    "summary_config = toml.load(Path.cwd() / '../../../../configuration/summary_configuration.toml')\n",
    "\n",
    "pd.set_option('display.float_format', '{:,.1f}'.format)"
   ]
  },
  {
   "cell_type": "code",
   "execution_count": 2,
   "id": "4164122c",
   "metadata": {
    "execution": {
     "iopub.execute_input": "2025-07-22T22:42:57.717709Z",
     "iopub.status.busy": "2025-07-22T22:42:57.716714Z",
     "iopub.status.idle": "2025-07-22T22:42:57.720635Z",
     "shell.execute_reply": "2025-07-22T22:42:57.720635Z"
    }
   },
   "outputs": [],
   "source": [
    "# Relative path between notebooks and goruped output directories\n",
    "output_path = Path(summary_config['sc_run_path']) / summary_config[\"output_folder\"]\n",
    "survey_path = Path(summary_config['sc_run_path']) / summary_config[\"survey_folder\"]"
   ]
  },
  {
   "cell_type": "code",
   "execution_count": null,
   "id": "ec6e8ae3",
   "metadata": {},
   "outputs": [],
   "source": []
  },
  {
   "cell_type": "markdown",
   "id": "70f95bfc",
   "metadata": {},
   "source": [
    "# Congestion Levels by County\n",
    "\n",
    "Congestion levels are defined by the ratio of congested speed to posted speed limits:\n",
    "\n",
    "- Minimal: Ratio > 0.70\n",
    "- Moderate: Ratio > 0.50 and <=0.70\n",
    "- Heavy: > 0.25 and <= 0.50\n",
    "- Severe: Ratio <= 0.25\n",
    "\n",
    "AM (7-8)"
   ]
  },
  {
   "cell_type": "code",
   "execution_count": 3,
   "id": "7ef4b11f",
   "metadata": {
    "execution": {
     "iopub.execute_input": "2025-07-22T22:42:57.723626Z",
     "iopub.status.busy": "2025-07-22T22:42:57.723626Z",
     "iopub.status.idle": "2025-07-22T22:42:57.726628Z",
     "shell.execute_reply": "2025-07-22T22:42:57.726628Z"
    }
   },
   "outputs": [],
   "source": [
    "# # gdf = gpd.read_file(r'../../../inputs/scenario/networks/shapefiles/AM/AM_edges.shp')\n",
    "# gdf = gpd.read_file(Path(summary_config['sc_run_path'], 'inputs/scenario/networks/shapefiles/AM/AM_edges.shp'))\n",
    "# gdf.crs = 'EPSG:2285'\n",
    "\n",
    "# df = process_network_summary()\n",
    "# # NOTE: for visualization, do not show connectors\n",
    "# df = df[df['data3'] != 5]\n",
    "# gdf = gdf.merge(df[df['tod'] == '7to8'][['ij','congestion_index','congestion_category']], left_on='link_id', right_on='ij', how='left')\n",
    "# gdf['congestion_category'] = gdf['congestion_category'].fillna('Light')\n",
    "# color_mapping = {'Light': 'grey','Moderate': 'orange','Heavy': 'red','Severe':'black'}\n",
    "# gdf.plot(color=gdf[\"congestion_category\"].map(color_mapping), alpha=0.3, linewidth=gdf['lanes'], figsize=(20,20)) "
   ]
  },
  {
   "cell_type": "code",
   "execution_count": 4,
   "id": "2f49098f",
   "metadata": {
    "execution": {
     "iopub.execute_input": "2025-07-22T22:42:57.729619Z",
     "iopub.status.busy": "2025-07-22T22:42:57.728621Z",
     "iopub.status.idle": "2025-07-22T22:43:05.779934Z",
     "shell.execute_reply": "2025-07-22T22:43:05.779934Z"
    }
   },
   "outputs": [],
   "source": [
    "df = process_network_summary()\n",
    "df = df[df['county']!='Outside Region']"
   ]
  },
  {
   "cell_type": "raw",
   "id": "059f3438",
   "metadata": {
    "vscode": {
     "languageId": "raw"
    }
   },
   "source": [
    "\n",
    ":::{.panel-tabset}\n",
    "### AM Peak (7 to 8 AM)"
   ]
  },
  {
   "cell_type": "markdown",
   "id": "f314d257",
   "metadata": {},
   "source": [
    "VMT"
   ]
  },
  {
   "cell_type": "code",
   "execution_count": 5,
   "id": "5af5287a",
   "metadata": {
    "execution": {
     "iopub.execute_input": "2025-07-22T22:43:05.784917Z",
     "iopub.status.busy": "2025-07-22T22:43:05.783918Z",
     "iopub.status.idle": "2025-07-22T22:43:05.886014Z",
     "shell.execute_reply": "2025-07-22T22:43:05.885021Z"
    }
   },
   "outputs": [
    {
     "data": {
      "text/html": [
       "<div>\n",
       "<style scoped>\n",
       "    .dataframe tbody tr th:only-of-type {\n",
       "        vertical-align: middle;\n",
       "    }\n",
       "\n",
       "    .dataframe tbody tr th {\n",
       "        vertical-align: top;\n",
       "    }\n",
       "\n",
       "    .dataframe thead th {\n",
       "        text-align: right;\n",
       "    }\n",
       "</style>\n",
       "<table border=\"1\" class=\"dataframe\">\n",
       "  <thead>\n",
       "    <tr style=\"text-align: right;\">\n",
       "      <th></th>\n",
       "      <th>King</th>\n",
       "      <th>Kitsap</th>\n",
       "      <th>Pierce</th>\n",
       "      <th>Snohomish</th>\n",
       "      <th>Region</th>\n",
       "    </tr>\n",
       "  </thead>\n",
       "  <tbody>\n",
       "    <tr>\n",
       "      <th>Light</th>\n",
       "      <td>2,097,083</td>\n",
       "      <td>286,646</td>\n",
       "      <td>997,306</td>\n",
       "      <td>891,347</td>\n",
       "      <td>4,272,382</td>\n",
       "    </tr>\n",
       "    <tr>\n",
       "      <th>Moderate</th>\n",
       "      <td>556,418</td>\n",
       "      <td>6,894</td>\n",
       "      <td>177,915</td>\n",
       "      <td>150,362</td>\n",
       "      <td>891,590</td>\n",
       "    </tr>\n",
       "    <tr>\n",
       "      <th>Heavy</th>\n",
       "      <td>506,824</td>\n",
       "      <td>9,536</td>\n",
       "      <td>63,398</td>\n",
       "      <td>87,487</td>\n",
       "      <td>667,244</td>\n",
       "    </tr>\n",
       "    <tr>\n",
       "      <th>Severe</th>\n",
       "      <td>55,994</td>\n",
       "      <td>686</td>\n",
       "      <td>4,530</td>\n",
       "      <td>5,665</td>\n",
       "      <td>66,875</td>\n",
       "    </tr>\n",
       "    <tr>\n",
       "      <th>Heavy + Severe</th>\n",
       "      <td>562,818</td>\n",
       "      <td>10,222</td>\n",
       "      <td>67,928</td>\n",
       "      <td>93,151</td>\n",
       "      <td>734,119</td>\n",
       "    </tr>\n",
       "  </tbody>\n",
       "</table>\n",
       "</div>"
      ],
      "text/plain": [
       "                    King  Kitsap  Pierce  Snohomish    Region\n",
       "Light          2,097,083 286,646 997,306    891,347 4,272,382\n",
       "Moderate         556,418   6,894 177,915    150,362   891,590\n",
       "Heavy            506,824   9,536  63,398     87,487   667,244\n",
       "Severe            55,994     686   4,530      5,665    66,875\n",
       "Heavy + Severe   562,818  10,222  67,928     93,151   734,119"
      ]
     },
     "execution_count": 5,
     "metadata": {},
     "output_type": "execute_result"
    }
   ],
   "source": [
    "pd.options.display.float_format = '{:0,.0f}'.format\n",
    "df_am = df[df['tod'] == '7to8']\n",
    "_df = df_am.pivot_table(index='congestion_category',columns='county',\n",
    "               aggfunc='sum',values='VMT')\n",
    "_df = _df.reindex(['Light','Moderate','Heavy','Severe'])\n",
    "_df.index.name = None\n",
    "_df.columns.name = None\n",
    "_df['Region'] = _df.sum(axis=1)\n",
    "_df.loc['Heavy + Severe'] = _df.loc[['Heavy','Severe']].sum(axis=0)\n",
    "_df\n",
    "\n",
    "# _df"
   ]
  },
  {
   "cell_type": "markdown",
   "id": "a478aa21",
   "metadata": {},
   "source": [
    "----\n",
    "Share of VMT"
   ]
  },
  {
   "cell_type": "code",
   "execution_count": 6,
   "id": "b36f1139",
   "metadata": {
    "execution": {
     "iopub.execute_input": "2025-07-22T22:43:05.892059Z",
     "iopub.status.busy": "2025-07-22T22:43:05.891062Z",
     "iopub.status.idle": "2025-07-22T22:43:05.905896Z",
     "shell.execute_reply": "2025-07-22T22:43:05.905379Z"
    }
   },
   "outputs": [
    {
     "data": {
      "text/html": [
       "<div>\n",
       "<style scoped>\n",
       "    .dataframe tbody tr th:only-of-type {\n",
       "        vertical-align: middle;\n",
       "    }\n",
       "\n",
       "    .dataframe tbody tr th {\n",
       "        vertical-align: top;\n",
       "    }\n",
       "\n",
       "    .dataframe thead th {\n",
       "        text-align: right;\n",
       "    }\n",
       "</style>\n",
       "<table border=\"1\" class=\"dataframe\">\n",
       "  <thead>\n",
       "    <tr style=\"text-align: right;\">\n",
       "      <th></th>\n",
       "      <th>King</th>\n",
       "      <th>Kitsap</th>\n",
       "      <th>Pierce</th>\n",
       "      <th>Snohomish</th>\n",
       "      <th>Region</th>\n",
       "    </tr>\n",
       "  </thead>\n",
       "  <tbody>\n",
       "    <tr>\n",
       "      <th>Light</th>\n",
       "      <td>55.5%</td>\n",
       "      <td>91.3%</td>\n",
       "      <td>76.1%</td>\n",
       "      <td>72.6%</td>\n",
       "      <td>64.4%</td>\n",
       "    </tr>\n",
       "    <tr>\n",
       "      <th>Moderate</th>\n",
       "      <td>14.7%</td>\n",
       "      <td>2.2%</td>\n",
       "      <td>13.6%</td>\n",
       "      <td>12.2%</td>\n",
       "      <td>13.4%</td>\n",
       "    </tr>\n",
       "    <tr>\n",
       "      <th>Heavy</th>\n",
       "      <td>13.4%</td>\n",
       "      <td>3.0%</td>\n",
       "      <td>4.8%</td>\n",
       "      <td>7.1%</td>\n",
       "      <td>10.1%</td>\n",
       "    </tr>\n",
       "    <tr>\n",
       "      <th>Severe</th>\n",
       "      <td>1.5%</td>\n",
       "      <td>0.2%</td>\n",
       "      <td>0.3%</td>\n",
       "      <td>0.5%</td>\n",
       "      <td>1.0%</td>\n",
       "    </tr>\n",
       "    <tr>\n",
       "      <th>Heavy + Severe</th>\n",
       "      <td>14.9%</td>\n",
       "      <td>3.3%</td>\n",
       "      <td>5.2%</td>\n",
       "      <td>7.6%</td>\n",
       "      <td>11.1%</td>\n",
       "    </tr>\n",
       "  </tbody>\n",
       "</table>\n",
       "</div>"
      ],
      "text/plain": [
       "                King  Kitsap  Pierce  Snohomish  Region\n",
       "Light          55.5%   91.3%   76.1%      72.6%   64.4%\n",
       "Moderate       14.7%    2.2%   13.6%      12.2%   13.4%\n",
       "Heavy          13.4%    3.0%    4.8%       7.1%   10.1%\n",
       "Severe          1.5%    0.2%    0.3%       0.5%    1.0%\n",
       "Heavy + Severe 14.9%    3.3%    5.2%       7.6%   11.1%"
      ]
     },
     "execution_count": 6,
     "metadata": {},
     "output_type": "execute_result"
    }
   ],
   "source": [
    "\n",
    "pd.options.display.float_format = '{:0,.1%}'.format\n",
    "_df = _df/_df.sum(axis=0)\n",
    "_df"
   ]
  },
  {
   "cell_type": "raw",
   "id": "fdeb02ec",
   "metadata": {
    "vscode": {
     "languageId": "raw"
    }
   },
   "source": [
    "### PM Peak (5 to 6 PM)"
   ]
  },
  {
   "cell_type": "markdown",
   "id": "0fb28b90",
   "metadata": {},
   "source": [
    "VMT"
   ]
  },
  {
   "cell_type": "code",
   "execution_count": 7,
   "id": "acacb3cc",
   "metadata": {
    "execution": {
     "iopub.execute_input": "2025-07-22T22:43:05.909882Z",
     "iopub.status.busy": "2025-07-22T22:43:05.909882Z",
     "iopub.status.idle": "2025-07-22T22:43:06.013345Z",
     "shell.execute_reply": "2025-07-22T22:43:06.012350Z"
    }
   },
   "outputs": [
    {
     "data": {
      "text/html": [
       "<div>\n",
       "<style scoped>\n",
       "    .dataframe tbody tr th:only-of-type {\n",
       "        vertical-align: middle;\n",
       "    }\n",
       "\n",
       "    .dataframe tbody tr th {\n",
       "        vertical-align: top;\n",
       "    }\n",
       "\n",
       "    .dataframe thead th {\n",
       "        text-align: right;\n",
       "    }\n",
       "</style>\n",
       "<table border=\"1\" class=\"dataframe\">\n",
       "  <thead>\n",
       "    <tr style=\"text-align: right;\">\n",
       "      <th></th>\n",
       "      <th>King</th>\n",
       "      <th>Kitsap</th>\n",
       "      <th>Pierce</th>\n",
       "      <th>Snohomish</th>\n",
       "      <th>Region</th>\n",
       "    </tr>\n",
       "  </thead>\n",
       "  <tbody>\n",
       "    <tr>\n",
       "      <th>Light</th>\n",
       "      <td>2,451,132</td>\n",
       "      <td>323,032</td>\n",
       "      <td>1,150,470</td>\n",
       "      <td>1,006,763</td>\n",
       "      <td>4,931,397</td>\n",
       "    </tr>\n",
       "    <tr>\n",
       "      <th>Moderate</th>\n",
       "      <td>600,282</td>\n",
       "      <td>6,264</td>\n",
       "      <td>157,940</td>\n",
       "      <td>167,513</td>\n",
       "      <td>931,999</td>\n",
       "    </tr>\n",
       "    <tr>\n",
       "      <th>Heavy</th>\n",
       "      <td>360,699</td>\n",
       "      <td>9,445</td>\n",
       "      <td>62,580</td>\n",
       "      <td>65,760</td>\n",
       "      <td>498,484</td>\n",
       "    </tr>\n",
       "    <tr>\n",
       "      <th>Severe</th>\n",
       "      <td>37,243</td>\n",
       "      <td>832</td>\n",
       "      <td>4,867</td>\n",
       "      <td>5,332</td>\n",
       "      <td>48,275</td>\n",
       "    </tr>\n",
       "    <tr>\n",
       "      <th>Heavy + Severe</th>\n",
       "      <td>397,942</td>\n",
       "      <td>10,277</td>\n",
       "      <td>67,448</td>\n",
       "      <td>71,092</td>\n",
       "      <td>546,759</td>\n",
       "    </tr>\n",
       "  </tbody>\n",
       "</table>\n",
       "</div>"
      ],
      "text/plain": [
       "                    King  Kitsap    Pierce  Snohomish    Region\n",
       "Light          2,451,132 323,032 1,150,470  1,006,763 4,931,397\n",
       "Moderate         600,282   6,264   157,940    167,513   931,999\n",
       "Heavy            360,699   9,445    62,580     65,760   498,484\n",
       "Severe            37,243     832     4,867      5,332    48,275\n",
       "Heavy + Severe   397,942  10,277    67,448     71,092   546,759"
      ]
     },
     "execution_count": 7,
     "metadata": {},
     "output_type": "execute_result"
    }
   ],
   "source": [
    "pd.options.display.float_format = '{:0,.0f}'.format\n",
    "df_am = df[df['tod'] == '17to18']\n",
    "_df = df_am.pivot_table(index='congestion_category',columns='county',\n",
    "               aggfunc='sum',values='VMT')\n",
    "_df = _df.reindex(['Light','Moderate','Heavy','Severe'])\n",
    "_df.index.name = None\n",
    "_df.columns.name = None\n",
    "_df['Region'] = _df.sum(axis=1)\n",
    "_df.loc['Heavy + Severe'] = _df.loc[['Heavy','Severe']].sum(axis=0)\n",
    "_df"
   ]
  },
  {
   "cell_type": "markdown",
   "id": "db0d8eea",
   "metadata": {},
   "source": [
    "----\n",
    "Share of VMT"
   ]
  },
  {
   "cell_type": "code",
   "execution_count": 8,
   "id": "e607cf53",
   "metadata": {
    "execution": {
     "iopub.execute_input": "2025-07-22T22:43:06.019365Z",
     "iopub.status.busy": "2025-07-22T22:43:06.018381Z",
     "iopub.status.idle": "2025-07-22T22:43:06.033804Z",
     "shell.execute_reply": "2025-07-22T22:43:06.032809Z"
    }
   },
   "outputs": [
    {
     "data": {
      "text/html": [
       "<div>\n",
       "<style scoped>\n",
       "    .dataframe tbody tr th:only-of-type {\n",
       "        vertical-align: middle;\n",
       "    }\n",
       "\n",
       "    .dataframe tbody tr th {\n",
       "        vertical-align: top;\n",
       "    }\n",
       "\n",
       "    .dataframe thead th {\n",
       "        text-align: right;\n",
       "    }\n",
       "</style>\n",
       "<table border=\"1\" class=\"dataframe\">\n",
       "  <thead>\n",
       "    <tr style=\"text-align: right;\">\n",
       "      <th></th>\n",
       "      <th>King</th>\n",
       "      <th>Kitsap</th>\n",
       "      <th>Pierce</th>\n",
       "      <th>Snohomish</th>\n",
       "      <th>Region</th>\n",
       "    </tr>\n",
       "  </thead>\n",
       "  <tbody>\n",
       "    <tr>\n",
       "      <th>Light</th>\n",
       "      <td>63.7%</td>\n",
       "      <td>92.3%</td>\n",
       "      <td>79.7%</td>\n",
       "      <td>76.5%</td>\n",
       "      <td>70.9%</td>\n",
       "    </tr>\n",
       "    <tr>\n",
       "      <th>Moderate</th>\n",
       "      <td>15.6%</td>\n",
       "      <td>1.8%</td>\n",
       "      <td>10.9%</td>\n",
       "      <td>12.7%</td>\n",
       "      <td>13.4%</td>\n",
       "    </tr>\n",
       "    <tr>\n",
       "      <th>Heavy</th>\n",
       "      <td>9.4%</td>\n",
       "      <td>2.7%</td>\n",
       "      <td>4.3%</td>\n",
       "      <td>5.0%</td>\n",
       "      <td>7.2%</td>\n",
       "    </tr>\n",
       "    <tr>\n",
       "      <th>Severe</th>\n",
       "      <td>1.0%</td>\n",
       "      <td>0.2%</td>\n",
       "      <td>0.3%</td>\n",
       "      <td>0.4%</td>\n",
       "      <td>0.7%</td>\n",
       "    </tr>\n",
       "    <tr>\n",
       "      <th>Heavy + Severe</th>\n",
       "      <td>10.3%</td>\n",
       "      <td>2.9%</td>\n",
       "      <td>4.7%</td>\n",
       "      <td>5.4%</td>\n",
       "      <td>7.9%</td>\n",
       "    </tr>\n",
       "  </tbody>\n",
       "</table>\n",
       "</div>"
      ],
      "text/plain": [
       "                King  Kitsap  Pierce  Snohomish  Region\n",
       "Light          63.7%   92.3%   79.7%      76.5%   70.9%\n",
       "Moderate       15.6%    1.8%   10.9%      12.7%   13.4%\n",
       "Heavy           9.4%    2.7%    4.3%       5.0%    7.2%\n",
       "Severe          1.0%    0.2%    0.3%       0.4%    0.7%\n",
       "Heavy + Severe 10.3%    2.9%    4.7%       5.4%    7.9%"
      ]
     },
     "execution_count": 8,
     "metadata": {},
     "output_type": "execute_result"
    }
   ],
   "source": [
    "pd.options.display.float_format = '{:0,.1%}'.format\n",
    "_df = _df/_df.sum(axis=0)\n",
    "_df"
   ]
  },
  {
   "cell_type": "raw",
   "id": "5ee6a692",
   "metadata": {
    "vscode": {
     "languageId": "raw"
    }
   },
   "source": [
    ":::"
   ]
  },
  {
   "cell_type": "markdown",
   "id": "650d8659",
   "metadata": {},
   "source": [
    "# Congestion by Road Type"
   ]
  },
  {
   "cell_type": "raw",
   "id": "d470131b",
   "metadata": {
    "vscode": {
     "languageId": "raw"
    }
   },
   "source": [
    "\n",
    ":::{.panel-tabset}\n",
    "### AM Peak (7 to 8 AM)"
   ]
  },
  {
   "cell_type": "markdown",
   "id": "258587b2",
   "metadata": {},
   "source": [
    "VMT"
   ]
  },
  {
   "cell_type": "code",
   "execution_count": 9,
   "id": "0b659efa",
   "metadata": {
    "execution": {
     "iopub.execute_input": "2025-07-22T22:43:06.039705Z",
     "iopub.status.busy": "2025-07-22T22:43:06.039173Z",
     "iopub.status.idle": "2025-07-22T22:43:06.144067Z",
     "shell.execute_reply": "2025-07-22T22:43:06.143069Z"
    }
   },
   "outputs": [
    {
     "data": {
      "text/html": [
       "<div>\n",
       "<style scoped>\n",
       "    .dataframe tbody tr th:only-of-type {\n",
       "        vertical-align: middle;\n",
       "    }\n",
       "\n",
       "    .dataframe tbody tr th {\n",
       "        vertical-align: top;\n",
       "    }\n",
       "\n",
       "    .dataframe thead th {\n",
       "        text-align: right;\n",
       "    }\n",
       "</style>\n",
       "<table border=\"1\" class=\"dataframe\">\n",
       "  <thead>\n",
       "    <tr style=\"text-align: right;\">\n",
       "      <th></th>\n",
       "      <th>Arterial</th>\n",
       "      <th>Connector</th>\n",
       "      <th>Highway</th>\n",
       "      <th>Other</th>\n",
       "    </tr>\n",
       "  </thead>\n",
       "  <tbody>\n",
       "    <tr>\n",
       "      <th>Light</th>\n",
       "      <td>2,121,363</td>\n",
       "      <td>324,918</td>\n",
       "      <td>1,825,809</td>\n",
       "      <td>292</td>\n",
       "    </tr>\n",
       "    <tr>\n",
       "      <th>Moderate</th>\n",
       "      <td>319,011</td>\n",
       "      <td>NaN</td>\n",
       "      <td>572,539</td>\n",
       "      <td>39</td>\n",
       "    </tr>\n",
       "    <tr>\n",
       "      <th>Heavy</th>\n",
       "      <td>187,081</td>\n",
       "      <td>NaN</td>\n",
       "      <td>480,163</td>\n",
       "      <td>0</td>\n",
       "    </tr>\n",
       "    <tr>\n",
       "      <th>Severe</th>\n",
       "      <td>32,878</td>\n",
       "      <td>NaN</td>\n",
       "      <td>33,997</td>\n",
       "      <td>0</td>\n",
       "    </tr>\n",
       "    <tr>\n",
       "      <th>Heavy + Severe</th>\n",
       "      <td>219,959</td>\n",
       "      <td>0</td>\n",
       "      <td>514,160</td>\n",
       "      <td>0</td>\n",
       "    </tr>\n",
       "  </tbody>\n",
       "</table>\n",
       "</div>"
      ],
      "text/plain": [
       "                Arterial  Connector   Highway  Other\n",
       "Light          2,121,363    324,918 1,825,809    292\n",
       "Moderate         319,011        NaN   572,539     39\n",
       "Heavy            187,081        NaN   480,163      0\n",
       "Severe            32,878        NaN    33,997      0\n",
       "Heavy + Severe   219,959          0   514,160      0"
      ]
     },
     "execution_count": 9,
     "metadata": {},
     "output_type": "execute_result"
    }
   ],
   "source": [
    "pd.options.display.float_format = '{:0,.0f}'.format\n",
    "df_am = df[df['tod'] == '7to8']\n",
    "_df = df_am.pivot_table(index='congestion_category',columns='facility_type',\n",
    "               aggfunc='sum',values='VMT')\n",
    "_df = _df.reindex(['Light','Moderate','Heavy','Severe'])\n",
    "_df.index.name = None\n",
    "_df.columns.name = None\n",
    "_df.loc['Heavy + Severe'] = _df.loc[['Heavy','Severe']].sum(axis=0)\n",
    "_df"
   ]
  },
  {
   "cell_type": "markdown",
   "id": "1b4a65c8",
   "metadata": {},
   "source": [
    "----\n",
    "Share of VMT"
   ]
  },
  {
   "cell_type": "code",
   "execution_count": 10,
   "id": "3aebb67a",
   "metadata": {
    "execution": {
     "iopub.execute_input": "2025-07-22T22:43:06.150100Z",
     "iopub.status.busy": "2025-07-22T22:43:06.149566Z",
     "iopub.status.idle": "2025-07-22T22:43:06.164037Z",
     "shell.execute_reply": "2025-07-22T22:43:06.163042Z"
    }
   },
   "outputs": [
    {
     "data": {
      "text/html": [
       "<div>\n",
       "<style scoped>\n",
       "    .dataframe tbody tr th:only-of-type {\n",
       "        vertical-align: middle;\n",
       "    }\n",
       "\n",
       "    .dataframe tbody tr th {\n",
       "        vertical-align: top;\n",
       "    }\n",
       "\n",
       "    .dataframe thead th {\n",
       "        text-align: right;\n",
       "    }\n",
       "</style>\n",
       "<table border=\"1\" class=\"dataframe\">\n",
       "  <thead>\n",
       "    <tr style=\"text-align: right;\">\n",
       "      <th></th>\n",
       "      <th>Arterial</th>\n",
       "      <th>Connector</th>\n",
       "      <th>Highway</th>\n",
       "      <th>Other</th>\n",
       "    </tr>\n",
       "  </thead>\n",
       "  <tbody>\n",
       "    <tr>\n",
       "      <th>Light</th>\n",
       "      <td>73.7%</td>\n",
       "      <td>100.0%</td>\n",
       "      <td>53.3%</td>\n",
       "      <td>88.1%</td>\n",
       "    </tr>\n",
       "    <tr>\n",
       "      <th>Moderate</th>\n",
       "      <td>11.1%</td>\n",
       "      <td>NaN</td>\n",
       "      <td>16.7%</td>\n",
       "      <td>11.9%</td>\n",
       "    </tr>\n",
       "    <tr>\n",
       "      <th>Heavy</th>\n",
       "      <td>6.5%</td>\n",
       "      <td>NaN</td>\n",
       "      <td>14.0%</td>\n",
       "      <td>0.0%</td>\n",
       "    </tr>\n",
       "    <tr>\n",
       "      <th>Severe</th>\n",
       "      <td>1.1%</td>\n",
       "      <td>NaN</td>\n",
       "      <td>1.0%</td>\n",
       "      <td>0.0%</td>\n",
       "    </tr>\n",
       "    <tr>\n",
       "      <th>Heavy + Severe</th>\n",
       "      <td>7.6%</td>\n",
       "      <td>0.0%</td>\n",
       "      <td>15.0%</td>\n",
       "      <td>0.0%</td>\n",
       "    </tr>\n",
       "  </tbody>\n",
       "</table>\n",
       "</div>"
      ],
      "text/plain": [
       "                Arterial  Connector  Highway  Other\n",
       "Light              73.7%     100.0%    53.3%  88.1%\n",
       "Moderate           11.1%        NaN    16.7%  11.9%\n",
       "Heavy               6.5%        NaN    14.0%   0.0%\n",
       "Severe              1.1%        NaN     1.0%   0.0%\n",
       "Heavy + Severe      7.6%       0.0%    15.0%   0.0%"
      ]
     },
     "execution_count": 10,
     "metadata": {},
     "output_type": "execute_result"
    }
   ],
   "source": [
    "pd.options.display.float_format = '{:0,.1%}'.format\n",
    "_df = _df/_df.sum(axis=0)\n",
    "_df"
   ]
  },
  {
   "cell_type": "raw",
   "id": "44c77ff3",
   "metadata": {
    "vscode": {
     "languageId": "raw"
    }
   },
   "source": [
    "### PM Peak (5 to 6 PM)"
   ]
  },
  {
   "cell_type": "markdown",
   "id": "910bc476",
   "metadata": {},
   "source": [
    "VMT"
   ]
  },
  {
   "cell_type": "code",
   "execution_count": 11,
   "id": "32fe5fab",
   "metadata": {
    "execution": {
     "iopub.execute_input": "2025-07-22T22:43:06.169024Z",
     "iopub.status.busy": "2025-07-22T22:43:06.169024Z",
     "iopub.status.idle": "2025-07-22T22:43:06.265504Z",
     "shell.execute_reply": "2025-07-22T22:43:06.264441Z"
    }
   },
   "outputs": [
    {
     "data": {
      "text/html": [
       "<div>\n",
       "<style scoped>\n",
       "    .dataframe tbody tr th:only-of-type {\n",
       "        vertical-align: middle;\n",
       "    }\n",
       "\n",
       "    .dataframe tbody tr th {\n",
       "        vertical-align: top;\n",
       "    }\n",
       "\n",
       "    .dataframe thead th {\n",
       "        text-align: right;\n",
       "    }\n",
       "</style>\n",
       "<table border=\"1\" class=\"dataframe\">\n",
       "  <thead>\n",
       "    <tr style=\"text-align: right;\">\n",
       "      <th></th>\n",
       "      <th>Arterial</th>\n",
       "      <th>Connector</th>\n",
       "      <th>Highway</th>\n",
       "      <th>Other</th>\n",
       "    </tr>\n",
       "  </thead>\n",
       "  <tbody>\n",
       "    <tr>\n",
       "      <th>Light</th>\n",
       "      <td>2,441,875</td>\n",
       "      <td>442,668</td>\n",
       "      <td>2,046,454</td>\n",
       "      <td>399</td>\n",
       "    </tr>\n",
       "    <tr>\n",
       "      <th>Moderate</th>\n",
       "      <td>332,125</td>\n",
       "      <td>NaN</td>\n",
       "      <td>599,874</td>\n",
       "      <td>0</td>\n",
       "    </tr>\n",
       "    <tr>\n",
       "      <th>Heavy</th>\n",
       "      <td>189,672</td>\n",
       "      <td>NaN</td>\n",
       "      <td>308,807</td>\n",
       "      <td>5</td>\n",
       "    </tr>\n",
       "    <tr>\n",
       "      <th>Severe</th>\n",
       "      <td>32,368</td>\n",
       "      <td>NaN</td>\n",
       "      <td>15,907</td>\n",
       "      <td>0</td>\n",
       "    </tr>\n",
       "    <tr>\n",
       "      <th>Heavy + Severe</th>\n",
       "      <td>222,040</td>\n",
       "      <td>0</td>\n",
       "      <td>324,714</td>\n",
       "      <td>5</td>\n",
       "    </tr>\n",
       "  </tbody>\n",
       "</table>\n",
       "</div>"
      ],
      "text/plain": [
       "                Arterial  Connector   Highway  Other\n",
       "Light          2,441,875    442,668 2,046,454    399\n",
       "Moderate         332,125        NaN   599,874      0\n",
       "Heavy            189,672        NaN   308,807      5\n",
       "Severe            32,368        NaN    15,907      0\n",
       "Heavy + Severe   222,040          0   324,714      5"
      ]
     },
     "execution_count": 11,
     "metadata": {},
     "output_type": "execute_result"
    }
   ],
   "source": [
    "\n",
    "pd.options.display.float_format = '{:0,.0f}'.format\n",
    "df_am = df[df['tod'] == '17to18']\n",
    "_df = df_am.pivot_table(index='congestion_category',columns='facility_type',\n",
    "               aggfunc='sum',values='VMT')\n",
    "_df = _df.reindex(['Light','Moderate','Heavy','Severe'])\n",
    "_df.index.name = None\n",
    "_df.columns.name = None\n",
    "_df.loc['Heavy + Severe'] = _df.loc[['Heavy','Severe']].sum(axis=0)\n",
    "_df"
   ]
  },
  {
   "cell_type": "markdown",
   "id": "2eb899b2",
   "metadata": {},
   "source": [
    "----\n",
    "Share of VMT"
   ]
  },
  {
   "cell_type": "code",
   "execution_count": 12,
   "id": "97607e1a",
   "metadata": {
    "execution": {
     "iopub.execute_input": "2025-07-22T22:43:06.270653Z",
     "iopub.status.busy": "2025-07-22T22:43:06.269656Z",
     "iopub.status.idle": "2025-07-22T22:43:06.284637Z",
     "shell.execute_reply": "2025-07-22T22:43:06.283643Z"
    }
   },
   "outputs": [
    {
     "data": {
      "text/html": [
       "<div>\n",
       "<style scoped>\n",
       "    .dataframe tbody tr th:only-of-type {\n",
       "        vertical-align: middle;\n",
       "    }\n",
       "\n",
       "    .dataframe tbody tr th {\n",
       "        vertical-align: top;\n",
       "    }\n",
       "\n",
       "    .dataframe thead th {\n",
       "        text-align: right;\n",
       "    }\n",
       "</style>\n",
       "<table border=\"1\" class=\"dataframe\">\n",
       "  <thead>\n",
       "    <tr style=\"text-align: right;\">\n",
       "      <th></th>\n",
       "      <th>Arterial</th>\n",
       "      <th>Connector</th>\n",
       "      <th>Highway</th>\n",
       "      <th>Other</th>\n",
       "    </tr>\n",
       "  </thead>\n",
       "  <tbody>\n",
       "    <tr>\n",
       "      <th>Light</th>\n",
       "      <td>75.9%</td>\n",
       "      <td>100.0%</td>\n",
       "      <td>62.1%</td>\n",
       "      <td>97.3%</td>\n",
       "    </tr>\n",
       "    <tr>\n",
       "      <th>Moderate</th>\n",
       "      <td>10.3%</td>\n",
       "      <td>NaN</td>\n",
       "      <td>18.2%</td>\n",
       "      <td>0.0%</td>\n",
       "    </tr>\n",
       "    <tr>\n",
       "      <th>Heavy</th>\n",
       "      <td>5.9%</td>\n",
       "      <td>NaN</td>\n",
       "      <td>9.4%</td>\n",
       "      <td>1.3%</td>\n",
       "    </tr>\n",
       "    <tr>\n",
       "      <th>Severe</th>\n",
       "      <td>1.0%</td>\n",
       "      <td>NaN</td>\n",
       "      <td>0.5%</td>\n",
       "      <td>0.0%</td>\n",
       "    </tr>\n",
       "    <tr>\n",
       "      <th>Heavy + Severe</th>\n",
       "      <td>6.9%</td>\n",
       "      <td>0.0%</td>\n",
       "      <td>9.9%</td>\n",
       "      <td>1.3%</td>\n",
       "    </tr>\n",
       "  </tbody>\n",
       "</table>\n",
       "</div>"
      ],
      "text/plain": [
       "                Arterial  Connector  Highway  Other\n",
       "Light              75.9%     100.0%    62.1%  97.3%\n",
       "Moderate           10.3%        NaN    18.2%   0.0%\n",
       "Heavy               5.9%        NaN     9.4%   1.3%\n",
       "Severe              1.0%        NaN     0.5%   0.0%\n",
       "Heavy + Severe      6.9%       0.0%     9.9%   1.3%"
      ]
     },
     "execution_count": 12,
     "metadata": {},
     "output_type": "execute_result"
    }
   ],
   "source": [
    "pd.options.display.float_format = '{:0,.1%}'.format\n",
    "_df = _df/_df.sum(axis=0)\n",
    "_df"
   ]
  },
  {
   "cell_type": "raw",
   "id": "9668c167",
   "metadata": {
    "vscode": {
     "languageId": "raw"
    }
   },
   "source": [
    ":::"
   ]
  },
  {
   "cell_type": "code",
   "execution_count": null,
   "id": "e0d44005",
   "metadata": {},
   "outputs": [],
   "source": []
  },
  {
   "cell_type": "code",
   "execution_count": 13,
   "id": "fa4b43ec",
   "metadata": {
    "execution": {
     "iopub.execute_input": "2025-07-22T22:43:06.289624Z",
     "iopub.status.busy": "2025-07-22T22:43:06.289624Z",
     "iopub.status.idle": "2025-07-22T22:43:06.295048Z",
     "shell.execute_reply": "2025-07-22T22:43:06.294053Z"
    }
   },
   "outputs": [],
   "source": [
    "# Congestion in Equity Focus Areas"
   ]
  },
  {
   "cell_type": "markdown",
   "id": "b5fc7e7d",
   "metadata": {},
   "source": [
    "# Corridor Travel Time"
   ]
  },
  {
   "cell_type": "raw",
   "id": "1e283f69",
   "metadata": {
    "vscode": {
     "languageId": "raw"
    }
   },
   "source": [
    ":::{.panel-tabset}\n",
    "### AM Peak (7 to 8 AM)"
   ]
  },
  {
   "cell_type": "code",
   "execution_count": 14,
   "id": "faf85113",
   "metadata": {
    "execution": {
     "iopub.execute_input": "2025-07-22T22:43:06.300082Z",
     "iopub.status.busy": "2025-07-22T22:43:06.299037Z",
     "iopub.status.idle": "2025-07-22T22:43:06.428572Z",
     "shell.execute_reply": "2025-07-22T22:43:06.427579Z"
    }
   },
   "outputs": [
    {
     "data": {
      "text/html": [
       "<div>\n",
       "<style scoped>\n",
       "    .dataframe tbody tr th:only-of-type {\n",
       "        vertical-align: middle;\n",
       "    }\n",
       "\n",
       "    .dataframe tbody tr th {\n",
       "        vertical-align: top;\n",
       "    }\n",
       "\n",
       "    .dataframe thead th {\n",
       "        text-align: right;\n",
       "    }\n",
       "</style>\n",
       "<table border=\"1\" class=\"dataframe\">\n",
       "  <thead>\n",
       "    <tr style=\"text-align: right;\">\n",
       "      <th></th>\n",
       "      <th>Corridor</th>\n",
       "      <th>Auto Travel Time (min.)</th>\n",
       "    </tr>\n",
       "  </thead>\n",
       "  <tbody>\n",
       "    <tr>\n",
       "      <th>15</th>\n",
       "      <td>Everett to Seattle - SB</td>\n",
       "      <td>60.5</td>\n",
       "    </tr>\n",
       "    <tr>\n",
       "      <th>24</th>\n",
       "      <td>Tacoma to Seattle - NB</td>\n",
       "      <td>65.2</td>\n",
       "    </tr>\n",
       "    <tr>\n",
       "      <th>51</th>\n",
       "      <td>Lynnwood to Bellevue - SB</td>\n",
       "      <td>36.9</td>\n",
       "    </tr>\n",
       "    <tr>\n",
       "      <th>60</th>\n",
       "      <td>Tukwila to Bellevue - NB</td>\n",
       "      <td>30.3</td>\n",
       "    </tr>\n",
       "    <tr>\n",
       "      <th>78</th>\n",
       "      <td>Auburn to Renton - NB</td>\n",
       "      <td>24.8</td>\n",
       "    </tr>\n",
       "    <tr>\n",
       "      <th>96</th>\n",
       "      <td>Redmond to Seattle - WB</td>\n",
       "      <td>28.9</td>\n",
       "    </tr>\n",
       "    <tr>\n",
       "      <th>114</th>\n",
       "      <td>Redmond to Bellevue - WB</td>\n",
       "      <td>12.5</td>\n",
       "    </tr>\n",
       "    <tr>\n",
       "      <th>132</th>\n",
       "      <td>Issaquah to Bellevue - WB</td>\n",
       "      <td>14.1</td>\n",
       "    </tr>\n",
       "    <tr>\n",
       "      <th>159</th>\n",
       "      <td>Bellevue to Seattle via 520 - EB</td>\n",
       "      <td>23.3</td>\n",
       "    </tr>\n",
       "    <tr>\n",
       "      <th>168</th>\n",
       "      <td>Bellevue to Seattle via 90 - WB</td>\n",
       "      <td>28.0</td>\n",
       "    </tr>\n",
       "  </tbody>\n",
       "</table>\n",
       "</div>"
      ],
      "text/plain": [
       "                             Corridor  Auto Travel Time (min.)\n",
       "15            Everett to Seattle - SB                     60.5\n",
       "24             Tacoma to Seattle - NB                     65.2\n",
       "51          Lynnwood to Bellevue - SB                     36.9\n",
       "60           Tukwila to Bellevue - NB                     30.3\n",
       "78              Auburn to Renton - NB                     24.8\n",
       "96            Redmond to Seattle - WB                     28.9\n",
       "114          Redmond to Bellevue - WB                     12.5\n",
       "132         Issaquah to Bellevue - WB                     14.1\n",
       "159  Bellevue to Seattle via 520 - EB                     23.3\n",
       "168   Bellevue to Seattle via 90 - WB                     28.0"
      ]
     },
     "execution_count": 14,
     "metadata": {},
     "output_type": "execute_result"
    }
   ],
   "source": [
    "pd.options.display.float_format = '{:0,.1f}'.format\n",
    "\n",
    "df = pd.read_csv(r'..\\..\\..\\..\\outputs\\validation\\corridor_speeds.csv')\n",
    "\n",
    "# For each Corridor_Descrption, define as AM or pm beak by finding which direction has max value\n",
    "df = df[df['tod'].isin(['7to8','17to18']) & (df['Corridor_Number'] <= 20)]\n",
    "\n",
    "# Corridors are grouped so that directions are [1,2], [3,4]\n",
    "for i in range(1,21):\n",
    "# for i in range(7,8):\n",
    "    _df = df[df['Corridor_Number'] == i]\n",
    "#     print(_df)\n",
    "    peak_time = _df.sort_values('auto_time').iloc[-1]['tod']\n",
    "    df.loc[df['Corridor_Number']==i, 'peak'] = peak_time\n",
    "    \n",
    "df.rename(columns={'Corridor_Description': 'Corridor', 'auto_time':'Auto Travel Time (min.)'}, inplace=True)\n",
    "df[(df['peak'] == '7to8') & (df['tod'] == '7to8')][['Corridor','Auto Travel Time (min.)']]"
   ]
  },
  {
   "cell_type": "raw",
   "id": "bfb6c44e",
   "metadata": {
    "vscode": {
     "languageId": "raw"
    }
   },
   "source": [
    "### PM Peak (17 to 18 PM)"
   ]
  },
  {
   "cell_type": "code",
   "execution_count": 15,
   "id": "d74ca313",
   "metadata": {
    "execution": {
     "iopub.execute_input": "2025-07-22T22:43:06.434557Z",
     "iopub.status.busy": "2025-07-22T22:43:06.433561Z",
     "iopub.status.idle": "2025-07-22T22:43:06.448786Z",
     "shell.execute_reply": "2025-07-22T22:43:06.447791Z"
    }
   },
   "outputs": [
    {
     "data": {
      "text/html": [
       "<div>\n",
       "<style scoped>\n",
       "    .dataframe tbody tr th:only-of-type {\n",
       "        vertical-align: middle;\n",
       "    }\n",
       "\n",
       "    .dataframe tbody tr th {\n",
       "        vertical-align: top;\n",
       "    }\n",
       "\n",
       "    .dataframe thead th {\n",
       "        text-align: right;\n",
       "    }\n",
       "</style>\n",
       "<table border=\"1\" class=\"dataframe\">\n",
       "  <thead>\n",
       "    <tr style=\"text-align: right;\">\n",
       "      <th></th>\n",
       "      <th>Corridor</th>\n",
       "      <th>Auto Travel Time (min.)</th>\n",
       "    </tr>\n",
       "  </thead>\n",
       "  <tbody>\n",
       "    <tr>\n",
       "      <th>2</th>\n",
       "      <td>Seattle to Everett - NB</td>\n",
       "      <td>52.5</td>\n",
       "    </tr>\n",
       "    <tr>\n",
       "      <th>29</th>\n",
       "      <td>Seattle to Tacoma - SB</td>\n",
       "      <td>55.9</td>\n",
       "    </tr>\n",
       "    <tr>\n",
       "      <th>38</th>\n",
       "      <td>Bellevue to Lynnwood - NB</td>\n",
       "      <td>31.6</td>\n",
       "    </tr>\n",
       "    <tr>\n",
       "      <th>65</th>\n",
       "      <td>Bellevue to Tukwila - SB</td>\n",
       "      <td>27.8</td>\n",
       "    </tr>\n",
       "    <tr>\n",
       "      <th>83</th>\n",
       "      <td>Renton to Auburn - SB</td>\n",
       "      <td>21.2</td>\n",
       "    </tr>\n",
       "    <tr>\n",
       "      <th>101</th>\n",
       "      <td>Seattle to Redmond - EB</td>\n",
       "      <td>23.4</td>\n",
       "    </tr>\n",
       "    <tr>\n",
       "      <th>119</th>\n",
       "      <td>Bellevue to Redmond - EB</td>\n",
       "      <td>10.8</td>\n",
       "    </tr>\n",
       "    <tr>\n",
       "      <th>137</th>\n",
       "      <td>Bellevue to Issaquah - EB</td>\n",
       "      <td>12.1</td>\n",
       "    </tr>\n",
       "    <tr>\n",
       "      <th>146</th>\n",
       "      <td>Seattle to Bellevue via 520 - WB</td>\n",
       "      <td>17.4</td>\n",
       "    </tr>\n",
       "    <tr>\n",
       "      <th>173</th>\n",
       "      <td>Seattle to Bellevue via 90 - EB</td>\n",
       "      <td>24.9</td>\n",
       "    </tr>\n",
       "  </tbody>\n",
       "</table>\n",
       "</div>"
      ],
      "text/plain": [
       "                             Corridor  Auto Travel Time (min.)\n",
       "2             Seattle to Everett - NB                     52.5\n",
       "29             Seattle to Tacoma - SB                     55.9\n",
       "38          Bellevue to Lynnwood - NB                     31.6\n",
       "65           Bellevue to Tukwila - SB                     27.8\n",
       "83              Renton to Auburn - SB                     21.2\n",
       "101           Seattle to Redmond - EB                     23.4\n",
       "119          Bellevue to Redmond - EB                     10.8\n",
       "137         Bellevue to Issaquah - EB                     12.1\n",
       "146  Seattle to Bellevue via 520 - WB                     17.4\n",
       "173   Seattle to Bellevue via 90 - EB                     24.9"
      ]
     },
     "execution_count": 15,
     "metadata": {},
     "output_type": "execute_result"
    }
   ],
   "source": [
    "df[(df['peak'] == '17to18') & (df['tod'] == '17to18')][['Corridor','Auto Travel Time (min.)']]"
   ]
  },
  {
   "cell_type": "raw",
   "id": "b4b52db4",
   "metadata": {
    "vscode": {
     "languageId": "raw"
    }
   },
   "source": [
    ":::"
   ]
  },
  {
   "cell_type": "markdown",
   "id": "b46a2c0c",
   "metadata": {
    "vscode": {
     "languageId": "raw"
    }
   },
   "source": [
    "# Delay"
   ]
  },
  {
   "cell_type": "code",
   "execution_count": 16,
   "id": "a8d295f2",
   "metadata": {
    "execution": {
     "iopub.execute_input": "2025-07-22T22:43:06.453773Z",
     "iopub.status.busy": "2025-07-22T22:43:06.453773Z",
     "iopub.status.idle": "2025-07-22T22:43:14.245623Z",
     "shell.execute_reply": "2025-07-22T22:43:14.245623Z"
    }
   },
   "outputs": [],
   "source": [
    "df = process_network_summary()\n",
    "# df = df[df['county']!='Outside Region']"
   ]
  },
  {
   "cell_type": "code",
   "execution_count": 17,
   "id": "dfca9946",
   "metadata": {
    "execution": {
     "iopub.execute_input": "2025-07-22T22:43:14.251607Z",
     "iopub.status.busy": "2025-07-22T22:43:14.251607Z",
     "iopub.status.idle": "2025-07-22T22:43:14.318877Z",
     "shell.execute_reply": "2025-07-22T22:43:14.317882Z"
    }
   },
   "outputs": [
    {
     "data": {
      "text/html": [
       "<div>\n",
       "<style scoped>\n",
       "    .dataframe tbody tr th:only-of-type {\n",
       "        vertical-align: middle;\n",
       "    }\n",
       "\n",
       "    .dataframe tbody tr th {\n",
       "        vertical-align: top;\n",
       "    }\n",
       "\n",
       "    .dataframe thead th {\n",
       "        text-align: right;\n",
       "    }\n",
       "</style>\n",
       "<table border=\"1\" class=\"dataframe\">\n",
       "  <thead>\n",
       "    <tr style=\"text-align: right;\">\n",
       "      <th></th>\n",
       "      <th>total_delay</th>\n",
       "    </tr>\n",
       "    <tr>\n",
       "      <th>county</th>\n",
       "      <th></th>\n",
       "    </tr>\n",
       "  </thead>\n",
       "  <tbody>\n",
       "    <tr>\n",
       "      <th>King</th>\n",
       "      <td>149,518.6</td>\n",
       "    </tr>\n",
       "    <tr>\n",
       "      <th>Kitsap</th>\n",
       "      <td>2,648.5</td>\n",
       "    </tr>\n",
       "    <tr>\n",
       "      <th>Outside Region</th>\n",
       "      <td>2.2</td>\n",
       "    </tr>\n",
       "    <tr>\n",
       "      <th>Pierce</th>\n",
       "      <td>29,815.2</td>\n",
       "    </tr>\n",
       "    <tr>\n",
       "      <th>Snohomish</th>\n",
       "      <td>29,786.8</td>\n",
       "    </tr>\n",
       "  </tbody>\n",
       "</table>\n",
       "</div>"
      ],
      "text/plain": [
       "                total_delay\n",
       "county                     \n",
       "King              149,518.6\n",
       "Kitsap              2,648.5\n",
       "Outside Region          2.2\n",
       "Pierce             29,815.2\n",
       "Snohomish          29,786.8"
      ]
     },
     "execution_count": 17,
     "metadata": {},
     "output_type": "execute_result"
    }
   ],
   "source": [
    "df[['total_delay','county']].groupby('county').sum()[['total_delay']]"
   ]
  },
  {
   "cell_type": "code",
   "execution_count": null,
   "id": "57236aff",
   "metadata": {},
   "outputs": [],
   "source": []
  }
 ],
 "metadata": {
  "kernelspec": {
   "display_name": "summary",
   "language": "python",
   "name": "python3"
  },
  "language_info": {
   "codemirror_mode": {
    "name": "ipython",
    "version": 3
   },
   "file_extension": ".py",
   "mimetype": "text/x-python",
   "name": "python",
   "nbconvert_exporter": "python",
   "pygments_lexer": "ipython3",
   "version": "3.11.12"
  }
 },
 "nbformat": 4,
 "nbformat_minor": 5
}
