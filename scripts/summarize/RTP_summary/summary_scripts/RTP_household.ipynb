{
 "cells": [
  {
   "cell_type": "raw",
   "id": "daadae17",
   "metadata": {
    "vscode": {
     "languageId": "raw"
    }
   },
   "source": [
    "---\n",
    "title: \"Houeshold\"\n",
    "date: today\n",
    "---"
   ]
  },
  {
   "cell_type": "code",
   "execution_count": 23,
   "id": "d3920e17",
   "metadata": {
    "execution": {
     "iopub.execute_input": "2025-07-17T22:26:59.113945Z",
     "iopub.status.busy": "2025-07-17T22:26:59.113945Z",
     "iopub.status.idle": "2025-07-17T22:26:59.709932Z",
     "shell.execute_reply": "2025-07-17T22:26:59.709418Z"
    }
   },
   "outputs": [],
   "source": [
    "import pandas as pd\n",
    "import toml\n",
    "from pathlib import Path\n",
    "\n",
    "config = toml.load(Path.cwd() / '../../../../configuration/input_configuration.toml')\n",
    "summary_config = toml.load(Path.cwd() / '../../../../configuration/summary_configuration.toml')\n",
    "\n",
    "pd.set_option('display.float_format', '{:,.0%}'.format)\n"
   ]
  },
  {
   "cell_type": "code",
   "execution_count": 3,
   "id": "032f98ac",
   "metadata": {
    "execution": {
     "iopub.execute_input": "2025-07-17T22:26:59.713923Z",
     "iopub.status.busy": "2025-07-17T22:26:59.712923Z",
     "iopub.status.idle": "2025-07-17T22:26:59.717206Z",
     "shell.execute_reply": "2025-07-17T22:26:59.717206Z"
    }
   },
   "outputs": [],
   "source": [
    "# Relative path between notebooks and goruped output directories\n",
    "output_path = Path(summary_config['sc_run_path']) / summary_config[\"output_folder\"]\n",
    "survey_path = Path(summary_config['sc_run_path']) / summary_config[\"survey_folder\"]"
   ]
  },
  {
   "cell_type": "code",
   "execution_count": 7,
   "id": "201d568a",
   "metadata": {
    "execution": {
     "iopub.execute_input": "2025-07-17T22:26:59.720195Z",
     "iopub.status.busy": "2025-07-17T22:26:59.719197Z",
     "iopub.status.idle": "2025-07-17T22:26:59.945931Z",
     "shell.execute_reply": "2025-07-17T22:26:59.944935Z"
    }
   },
   "outputs": [],
   "source": [
    "# trip data\n",
    "hh = pd.read_csv(output_path / 'agg/dash/auto_ownership_efa.csv')\n",
    "\n",
    "# list of equity geographies\n",
    "equity_geogs = summary_config['hh_equity_geogs']\n",
    "# not_equity_geogs = [\"NOT in \" + item for item in equity_geogs]"
   ]
  },
  {
   "cell_type": "code",
   "execution_count": null,
   "id": "4c5be3b0",
   "metadata": {
    "execution": {
     "iopub.execute_input": "2025-07-17T22:26:59.951915Z",
     "iopub.status.busy": "2025-07-17T22:26:59.950918Z",
     "iopub.status.idle": "2025-07-17T22:27:00.014747Z",
     "shell.execute_reply": "2025-07-17T22:27:00.013750Z"
    }
   },
   "outputs": [],
   "source": [
    "# TRIPS\n",
    "df_hh = hh.copy()\n",
    "# add home RGC\n",
    "df_hh['is_rgc'] = 'Not in RGC'\n",
    "df_hh.loc[df_hh['hh_rgc'] != 'Not in RGC', 'is_rgc'] = 'In RGC'\n",
    "\n",
    "equity_geogs = ['hh_efa_dis', 'hh_efa_older', 'hh_efa_lep', 'hh_efa_pov200', 'hh_efa_poc', 'hh_efa_youth']\n",
    "df_hh[equity_geogs] = df_hh[equity_geogs].apply(lambda x: x.\\\n",
    "        map({0: 'Below Regional Average', \n",
    "             1: 'Above Regional Average', \n",
    "             2: 'Higher Share of Equity Population'}))\n"
   ]
  },
  {
   "cell_type": "markdown",
   "id": "e5e27378",
   "metadata": {},
   "source": [
    "## Vehicle Ownership by Equity Focus Areas"
   ]
  },
  {
   "cell_type": "code",
   "execution_count": 26,
   "id": "5ecb02af",
   "metadata": {},
   "outputs": [],
   "source": [
    "def stat_by_equity_geog(df, geog, group):\n",
    "    \"\"\"\n",
    "    Function to calculate statistics by equity geography and vehicle ownership.\n",
    "    \"\"\"\n",
    "    # Group by equity geography and vehicle ownership\n",
    "    df_grouped = df.groupby([geog, group], as_index=False)['hhexpfac'].sum()\n",
    "    \n",
    "    # Calculate total households in each equity geography\n",
    "    total_hh = df.groupby([geog], as_index=False)['hhexpfac'].sum().rename(columns={'hhexpfac': 'total_hh'})\n",
    "    \n",
    "    # Merge the grouped data with total households\n",
    "    df_merged = df_grouped.merge(total_hh, on=geog)\n",
    "    \n",
    "    # Calculate percentage of households with the specified vehicle ownership\n",
    "    df_merged['percentage'] = df_merged['hhexpfac'] / df_merged['total_hh']\n",
    "    \n",
    "    return df_merged.pivot(index=geog, columns=group, values='percentage')\n"
   ]
  },
  {
   "cell_type": "raw",
   "id": "a2171bc2",
   "metadata": {},
   "source": [
    ":::{.panel-tabset}\n",
    "\n",
    "### People of Color"
   ]
  },
  {
   "cell_type": "code",
   "execution_count": 27,
   "id": "74c902d7",
   "metadata": {},
   "outputs": [
    {
     "data": {
      "text/html": [
       "<div>\n",
       "<style scoped>\n",
       "    .dataframe tbody tr th:only-of-type {\n",
       "        vertical-align: middle;\n",
       "    }\n",
       "\n",
       "    .dataframe tbody tr th {\n",
       "        vertical-align: top;\n",
       "    }\n",
       "\n",
       "    .dataframe thead th {\n",
       "        text-align: right;\n",
       "    }\n",
       "</style>\n",
       "<table border=\"1\" class=\"dataframe\">\n",
       "  <thead>\n",
       "    <tr style=\"text-align: right;\">\n",
       "      <th>hhvehs</th>\n",
       "      <th>0</th>\n",
       "      <th>1</th>\n",
       "      <th>2</th>\n",
       "      <th>3</th>\n",
       "      <th>4</th>\n",
       "    </tr>\n",
       "    <tr>\n",
       "      <th>hh_efa_poc</th>\n",
       "      <th></th>\n",
       "      <th></th>\n",
       "      <th></th>\n",
       "      <th></th>\n",
       "      <th></th>\n",
       "    </tr>\n",
       "  </thead>\n",
       "  <tbody>\n",
       "    <tr>\n",
       "      <th>Above Regional Average</th>\n",
       "      <td>10%</td>\n",
       "      <td>34%</td>\n",
       "      <td>35%</td>\n",
       "      <td>14%</td>\n",
       "      <td>8%</td>\n",
       "    </tr>\n",
       "    <tr>\n",
       "      <th>Below Regional Average</th>\n",
       "      <td>6%</td>\n",
       "      <td>31%</td>\n",
       "      <td>38%</td>\n",
       "      <td>17%</td>\n",
       "      <td>9%</td>\n",
       "    </tr>\n",
       "    <tr>\n",
       "      <th>Higher Share of Equity Population</th>\n",
       "      <td>10%</td>\n",
       "      <td>37%</td>\n",
       "      <td>34%</td>\n",
       "      <td>13%</td>\n",
       "      <td>7%</td>\n",
       "    </tr>\n",
       "  </tbody>\n",
       "</table>\n",
       "</div>"
      ],
      "text/plain": [
       "hhvehs                              0   1   2   3  4\n",
       "hh_efa_poc                                          \n",
       "Above Regional Average            10% 34% 35% 14% 8%\n",
       "Below Regional Average             6% 31% 38% 17% 9%\n",
       "Higher Share of Equity Population 10% 37% 34% 13% 7%"
      ]
     },
     "execution_count": 27,
     "metadata": {},
     "output_type": "execute_result"
    }
   ],
   "source": [
    "stat_by_equity_geog(df_hh, 'hh_efa_poc', 'hhvehs')"
   ]
  },
  {
   "cell_type": "raw",
   "id": "38cbe631",
   "metadata": {},
   "source": [
    "### Income"
   ]
  },
  {
   "cell_type": "code",
   "execution_count": 28,
   "id": "ec7dd0e4",
   "metadata": {
    "execution": {
     "iopub.execute_input": "2025-07-17T22:27:00.311417Z",
     "iopub.status.busy": "2025-07-17T22:27:00.310419Z",
     "iopub.status.idle": "2025-07-17T22:27:00.344813Z",
     "shell.execute_reply": "2025-07-17T22:27:00.343822Z"
    }
   },
   "outputs": [
    {
     "data": {
      "text/html": [
       "<div>\n",
       "<style scoped>\n",
       "    .dataframe tbody tr th:only-of-type {\n",
       "        vertical-align: middle;\n",
       "    }\n",
       "\n",
       "    .dataframe tbody tr th {\n",
       "        vertical-align: top;\n",
       "    }\n",
       "\n",
       "    .dataframe thead th {\n",
       "        text-align: right;\n",
       "    }\n",
       "</style>\n",
       "<table border=\"1\" class=\"dataframe\">\n",
       "  <thead>\n",
       "    <tr style=\"text-align: right;\">\n",
       "      <th>hhvehs</th>\n",
       "      <th>0</th>\n",
       "      <th>1</th>\n",
       "      <th>2</th>\n",
       "      <th>3</th>\n",
       "      <th>4</th>\n",
       "    </tr>\n",
       "    <tr>\n",
       "      <th>hh_efa_pov200</th>\n",
       "      <th></th>\n",
       "      <th></th>\n",
       "      <th></th>\n",
       "      <th></th>\n",
       "      <th></th>\n",
       "    </tr>\n",
       "  </thead>\n",
       "  <tbody>\n",
       "    <tr>\n",
       "      <th>Above Regional Average</th>\n",
       "      <td>8%</td>\n",
       "      <td>34%</td>\n",
       "      <td>35%</td>\n",
       "      <td>14%</td>\n",
       "      <td>8%</td>\n",
       "    </tr>\n",
       "    <tr>\n",
       "      <th>Below Regional Average</th>\n",
       "      <td>6%</td>\n",
       "      <td>30%</td>\n",
       "      <td>39%</td>\n",
       "      <td>17%</td>\n",
       "      <td>9%</td>\n",
       "    </tr>\n",
       "    <tr>\n",
       "      <th>Higher Share of Equity Population</th>\n",
       "      <td>13%</td>\n",
       "      <td>39%</td>\n",
       "      <td>31%</td>\n",
       "      <td>11%</td>\n",
       "      <td>6%</td>\n",
       "    </tr>\n",
       "  </tbody>\n",
       "</table>\n",
       "</div>"
      ],
      "text/plain": [
       "hhvehs                              0   1   2   3  4\n",
       "hh_efa_pov200                                       \n",
       "Above Regional Average             8% 34% 35% 14% 8%\n",
       "Below Regional Average             6% 30% 39% 17% 9%\n",
       "Higher Share of Equity Population 13% 39% 31% 11% 6%"
      ]
     },
     "execution_count": 28,
     "metadata": {},
     "output_type": "execute_result"
    }
   ],
   "source": [
    "stat_by_equity_geog(df_hh, 'hh_efa_pov200', 'hhvehs')"
   ]
  },
  {
   "cell_type": "raw",
   "id": "879f4fba",
   "metadata": {},
   "source": [
    "### English Proficiency"
   ]
  },
  {
   "cell_type": "code",
   "execution_count": 29,
   "id": "570cb036",
   "metadata": {
    "execution": {
     "iopub.execute_input": "2025-07-17T22:27:00.349588Z",
     "iopub.status.busy": "2025-07-17T22:27:00.349066Z",
     "iopub.status.idle": "2025-07-17T22:27:00.382544Z",
     "shell.execute_reply": "2025-07-17T22:27:00.381549Z"
    }
   },
   "outputs": [
    {
     "data": {
      "text/html": [
       "<div>\n",
       "<style scoped>\n",
       "    .dataframe tbody tr th:only-of-type {\n",
       "        vertical-align: middle;\n",
       "    }\n",
       "\n",
       "    .dataframe tbody tr th {\n",
       "        vertical-align: top;\n",
       "    }\n",
       "\n",
       "    .dataframe thead th {\n",
       "        text-align: right;\n",
       "    }\n",
       "</style>\n",
       "<table border=\"1\" class=\"dataframe\">\n",
       "  <thead>\n",
       "    <tr style=\"text-align: right;\">\n",
       "      <th>hhvehs</th>\n",
       "      <th>0</th>\n",
       "      <th>1</th>\n",
       "      <th>2</th>\n",
       "      <th>3</th>\n",
       "      <th>4</th>\n",
       "    </tr>\n",
       "    <tr>\n",
       "      <th>hh_efa_lep</th>\n",
       "      <th></th>\n",
       "      <th></th>\n",
       "      <th></th>\n",
       "      <th></th>\n",
       "      <th></th>\n",
       "    </tr>\n",
       "  </thead>\n",
       "  <tbody>\n",
       "    <tr>\n",
       "      <th>Above Regional Average</th>\n",
       "      <td>8%</td>\n",
       "      <td>32%</td>\n",
       "      <td>37%</td>\n",
       "      <td>15%</td>\n",
       "      <td>8%</td>\n",
       "    </tr>\n",
       "    <tr>\n",
       "      <th>Below Regional Average</th>\n",
       "      <td>8%</td>\n",
       "      <td>32%</td>\n",
       "      <td>37%</td>\n",
       "      <td>16%</td>\n",
       "      <td>8%</td>\n",
       "    </tr>\n",
       "    <tr>\n",
       "      <th>Higher Share of Equity Population</th>\n",
       "      <td>7%</td>\n",
       "      <td>36%</td>\n",
       "      <td>35%</td>\n",
       "      <td>13%</td>\n",
       "      <td>8%</td>\n",
       "    </tr>\n",
       "  </tbody>\n",
       "</table>\n",
       "</div>"
      ],
      "text/plain": [
       "hhvehs                             0   1   2   3  4\n",
       "hh_efa_lep                                         \n",
       "Above Regional Average            8% 32% 37% 15% 8%\n",
       "Below Regional Average            8% 32% 37% 16% 8%\n",
       "Higher Share of Equity Population 7% 36% 35% 13% 8%"
      ]
     },
     "execution_count": 29,
     "metadata": {},
     "output_type": "execute_result"
    }
   ],
   "source": [
    "stat_by_equity_geog(df_hh, 'hh_efa_lep', 'hhvehs')"
   ]
  },
  {
   "cell_type": "raw",
   "id": "0929c190",
   "metadata": {},
   "source": [
    "### Disability"
   ]
  },
  {
   "cell_type": "code",
   "execution_count": 31,
   "id": "f6c1bfa5",
   "metadata": {
    "execution": {
     "iopub.execute_input": "2025-07-17T22:27:00.387530Z",
     "iopub.status.busy": "2025-07-17T22:27:00.386533Z",
     "iopub.status.idle": "2025-07-17T22:27:00.421029Z",
     "shell.execute_reply": "2025-07-17T22:27:00.420040Z"
    }
   },
   "outputs": [
    {
     "data": {
      "text/html": [
       "<div>\n",
       "<style scoped>\n",
       "    .dataframe tbody tr th:only-of-type {\n",
       "        vertical-align: middle;\n",
       "    }\n",
       "\n",
       "    .dataframe tbody tr th {\n",
       "        vertical-align: top;\n",
       "    }\n",
       "\n",
       "    .dataframe thead th {\n",
       "        text-align: right;\n",
       "    }\n",
       "</style>\n",
       "<table border=\"1\" class=\"dataframe\">\n",
       "  <thead>\n",
       "    <tr style=\"text-align: right;\">\n",
       "      <th>hhvehs</th>\n",
       "      <th>0</th>\n",
       "      <th>1</th>\n",
       "      <th>2</th>\n",
       "      <th>3</th>\n",
       "      <th>4</th>\n",
       "    </tr>\n",
       "    <tr>\n",
       "      <th>hh_efa_dis</th>\n",
       "      <th></th>\n",
       "      <th></th>\n",
       "      <th></th>\n",
       "      <th></th>\n",
       "      <th></th>\n",
       "    </tr>\n",
       "  </thead>\n",
       "  <tbody>\n",
       "    <tr>\n",
       "      <th>Above Regional Average</th>\n",
       "      <td>8%</td>\n",
       "      <td>34%</td>\n",
       "      <td>35%</td>\n",
       "      <td>15%</td>\n",
       "      <td>8%</td>\n",
       "    </tr>\n",
       "    <tr>\n",
       "      <th>Below Regional Average</th>\n",
       "      <td>6%</td>\n",
       "      <td>31%</td>\n",
       "      <td>38%</td>\n",
       "      <td>16%</td>\n",
       "      <td>8%</td>\n",
       "    </tr>\n",
       "    <tr>\n",
       "      <th>Higher Share of Equity Population</th>\n",
       "      <td>12%</td>\n",
       "      <td>35%</td>\n",
       "      <td>32%</td>\n",
       "      <td>13%</td>\n",
       "      <td>8%</td>\n",
       "    </tr>\n",
       "  </tbody>\n",
       "</table>\n",
       "</div>"
      ],
      "text/plain": [
       "hhvehs                              0   1   2   3  4\n",
       "hh_efa_dis                                          \n",
       "Above Regional Average             8% 34% 35% 15% 8%\n",
       "Below Regional Average             6% 31% 38% 16% 8%\n",
       "Higher Share of Equity Population 12% 35% 32% 13% 8%"
      ]
     },
     "execution_count": 31,
     "metadata": {},
     "output_type": "execute_result"
    }
   ],
   "source": [
    "stat_by_equity_geog(df_hh, 'hh_efa_dis', 'hhvehs')"
   ]
  },
  {
   "cell_type": "raw",
   "id": "a24f2a2a",
   "metadata": {},
   "source": [
    "### Older Adults "
   ]
  },
  {
   "cell_type": "code",
   "execution_count": 32,
   "id": "3833328a",
   "metadata": {
    "execution": {
     "iopub.execute_input": "2025-07-17T22:27:00.426025Z",
     "iopub.status.busy": "2025-07-17T22:27:00.425027Z",
     "iopub.status.idle": "2025-07-17T22:27:00.461947Z",
     "shell.execute_reply": "2025-07-17T22:27:00.460951Z"
    }
   },
   "outputs": [
    {
     "data": {
      "text/html": [
       "<div>\n",
       "<style scoped>\n",
       "    .dataframe tbody tr th:only-of-type {\n",
       "        vertical-align: middle;\n",
       "    }\n",
       "\n",
       "    .dataframe tbody tr th {\n",
       "        vertical-align: top;\n",
       "    }\n",
       "\n",
       "    .dataframe thead th {\n",
       "        text-align: right;\n",
       "    }\n",
       "</style>\n",
       "<table border=\"1\" class=\"dataframe\">\n",
       "  <thead>\n",
       "    <tr style=\"text-align: right;\">\n",
       "      <th>hhvehs</th>\n",
       "      <th>0</th>\n",
       "      <th>1</th>\n",
       "      <th>2</th>\n",
       "      <th>3</th>\n",
       "      <th>4</th>\n",
       "    </tr>\n",
       "    <tr>\n",
       "      <th>hh_efa_older</th>\n",
       "      <th></th>\n",
       "      <th></th>\n",
       "      <th></th>\n",
       "      <th></th>\n",
       "      <th></th>\n",
       "    </tr>\n",
       "  </thead>\n",
       "  <tbody>\n",
       "    <tr>\n",
       "      <th>Above Regional Average</th>\n",
       "      <td>7%</td>\n",
       "      <td>31%</td>\n",
       "      <td>37%</td>\n",
       "      <td>17%</td>\n",
       "      <td>9%</td>\n",
       "    </tr>\n",
       "    <tr>\n",
       "      <th>Below Regional Average</th>\n",
       "      <td>9%</td>\n",
       "      <td>34%</td>\n",
       "      <td>36%</td>\n",
       "      <td>14%</td>\n",
       "      <td>7%</td>\n",
       "    </tr>\n",
       "    <tr>\n",
       "      <th>Higher Share of Equity Population</th>\n",
       "      <td>7%</td>\n",
       "      <td>31%</td>\n",
       "      <td>36%</td>\n",
       "      <td>17%</td>\n",
       "      <td>9%</td>\n",
       "    </tr>\n",
       "  </tbody>\n",
       "</table>\n",
       "</div>"
      ],
      "text/plain": [
       "hhvehs                             0   1   2   3  4\n",
       "hh_efa_older                                       \n",
       "Above Regional Average            7% 31% 37% 17% 9%\n",
       "Below Regional Average            9% 34% 36% 14% 7%\n",
       "Higher Share of Equity Population 7% 31% 36% 17% 9%"
      ]
     },
     "execution_count": 32,
     "metadata": {},
     "output_type": "execute_result"
    }
   ],
   "source": [
    "stat_by_equity_geog(df_hh, 'hh_efa_older', 'hhvehs')"
   ]
  },
  {
   "cell_type": "raw",
   "id": "85a5af6d",
   "metadata": {},
   "source": [
    "### Youth"
   ]
  },
  {
   "cell_type": "code",
   "execution_count": 33,
   "id": "240bb3e7",
   "metadata": {
    "execution": {
     "iopub.execute_input": "2025-07-17T22:27:00.466934Z",
     "iopub.status.busy": "2025-07-17T22:27:00.466934Z",
     "iopub.status.idle": "2025-07-17T22:27:00.502605Z",
     "shell.execute_reply": "2025-07-17T22:27:00.501616Z"
    }
   },
   "outputs": [
    {
     "data": {
      "text/html": [
       "<div>\n",
       "<style scoped>\n",
       "    .dataframe tbody tr th:only-of-type {\n",
       "        vertical-align: middle;\n",
       "    }\n",
       "\n",
       "    .dataframe tbody tr th {\n",
       "        vertical-align: top;\n",
       "    }\n",
       "\n",
       "    .dataframe thead th {\n",
       "        text-align: right;\n",
       "    }\n",
       "</style>\n",
       "<table border=\"1\" class=\"dataframe\">\n",
       "  <thead>\n",
       "    <tr style=\"text-align: right;\">\n",
       "      <th>hhvehs</th>\n",
       "      <th>0</th>\n",
       "      <th>1</th>\n",
       "      <th>2</th>\n",
       "      <th>3</th>\n",
       "      <th>4</th>\n",
       "    </tr>\n",
       "    <tr>\n",
       "      <th>hh_efa_youth</th>\n",
       "      <th></th>\n",
       "      <th></th>\n",
       "      <th></th>\n",
       "      <th></th>\n",
       "      <th></th>\n",
       "    </tr>\n",
       "  </thead>\n",
       "  <tbody>\n",
       "    <tr>\n",
       "      <th>Above Regional Average</th>\n",
       "      <td>4%</td>\n",
       "      <td>28%</td>\n",
       "      <td>40%</td>\n",
       "      <td>18%</td>\n",
       "      <td>10%</td>\n",
       "    </tr>\n",
       "    <tr>\n",
       "      <th>Below Regional Average</th>\n",
       "      <td>11%</td>\n",
       "      <td>38%</td>\n",
       "      <td>33%</td>\n",
       "      <td>12%</td>\n",
       "      <td>7%</td>\n",
       "    </tr>\n",
       "    <tr>\n",
       "      <th>Higher Share of Equity Population</th>\n",
       "      <td>3%</td>\n",
       "      <td>24%</td>\n",
       "      <td>43%</td>\n",
       "      <td>20%</td>\n",
       "      <td>10%</td>\n",
       "    </tr>\n",
       "  </tbody>\n",
       "</table>\n",
       "</div>"
      ],
      "text/plain": [
       "hhvehs                              0   1   2   3   4\n",
       "hh_efa_youth                                         \n",
       "Above Regional Average             4% 28% 40% 18% 10%\n",
       "Below Regional Average            11% 38% 33% 12%  7%\n",
       "Higher Share of Equity Population  3% 24% 43% 20% 10%"
      ]
     },
     "execution_count": 33,
     "metadata": {},
     "output_type": "execute_result"
    }
   ],
   "source": [
    "stat_by_equity_geog(df_hh, 'hh_efa_youth', 'hhvehs')"
   ]
  },
  {
   "cell_type": "raw",
   "id": "96d41fac",
   "metadata": {},
   "source": [
    ":::"
   ]
  }
 ],
 "metadata": {
  "kernelspec": {
   "display_name": "summary",
   "language": "python",
   "name": "python3"
  },
  "language_info": {
   "codemirror_mode": {
    "name": "ipython",
    "version": 3
   },
   "file_extension": ".py",
   "mimetype": "text/x-python",
   "name": "python",
   "nbconvert_exporter": "python",
   "pygments_lexer": "ipython3",
   "version": "3.11.12"
  }
 },
 "nbformat": 4,
 "nbformat_minor": 5
}
