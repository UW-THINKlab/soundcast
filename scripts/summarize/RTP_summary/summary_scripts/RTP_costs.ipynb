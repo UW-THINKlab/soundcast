{
 "cells": [
  {
   "cell_type": "raw",
   "id": "5288c708",
   "metadata": {
    "vscode": {
     "languageId": "raw"
    }
   },
   "source": [
    "---\n",
    "title: \"Household Transportation Costs\"\n",
    "date: today\n",
    "---"
   ]
  },
  {
   "cell_type": "markdown",
   "id": "29583245",
   "metadata": {},
   "source": [
    "- Average Annual Household Transportation Costs: Out-of-pocket expenses including tolls, parking, and transit fares\n",
    "\n",
    "    - These costs do not include other vehicle operating and purchase costs.\n",
    "\n",
    "    - Costs are annualized using factor of 320\n"
   ]
  },
  {
   "cell_type": "code",
   "execution_count": 1,
   "id": "20b477a3",
   "metadata": {
    "execution": {
     "iopub.execute_input": "2025-07-22T22:43:58.692406Z",
     "iopub.status.busy": "2025-07-22T22:43:58.692406Z",
     "iopub.status.idle": "2025-07-22T22:43:59.687654Z",
     "shell.execute_reply": "2025-07-22T22:43:59.686593Z"
    }
   },
   "outputs": [],
   "source": [
    "import pandas as pd\n",
    "import polars as pl\n",
    "import toml\n",
    "from pathlib import Path\n",
    "from sqlalchemy import create_engine\n",
    "\n",
    "config = toml.load(Path.cwd() / '../../../../configuration/input_configuration.toml')\n",
    "summary_config = toml.load(Path.cwd() / '../../../../configuration/summary_configuration.toml')\n",
    "\n",
    "pd.set_option('display.float_format', '${:0,.0f}'.format)"
   ]
  },
  {
   "cell_type": "code",
   "execution_count": 2,
   "id": "5a7bbb05",
   "metadata": {
    "execution": {
     "iopub.execute_input": "2025-07-22T22:43:59.694066Z",
     "iopub.status.busy": "2025-07-22T22:43:59.693000Z",
     "iopub.status.idle": "2025-07-22T22:43:59.700734Z",
     "shell.execute_reply": "2025-07-22T22:43:59.699745Z"
    }
   },
   "outputs": [],
   "source": [
    "# Relative path between notebooks and goruped output directories\n",
    "output_path = Path(summary_config['sc_run_path']) / summary_config[\"output_folder\"]\n",
    "survey_path = Path(summary_config['sc_run_path']) / summary_config[\"survey_folder\"]"
   ]
  },
  {
   "cell_type": "code",
   "execution_count": 3,
   "id": "dee19a06",
   "metadata": {
    "execution": {
     "iopub.execute_input": "2025-07-22T22:43:59.705721Z",
     "iopub.status.busy": "2025-07-22T22:43:59.704725Z",
     "iopub.status.idle": "2025-07-22T22:43:59.760037Z",
     "shell.execute_reply": "2025-07-22T22:43:59.759412Z"
    }
   },
   "outputs": [],
   "source": [
    "# person data\n",
    "person = pd.read_csv(output_path / 'agg/dash/person_cost.csv')\n",
    "# household data\n",
    "hh = pd.read_csv(output_path / 'agg/dash/hh_geog.csv')\n",
    "\n",
    "annual_factor = summary_config['weekday_to_annual']\n",
    "# list of equity geographies\n",
    "equity_geogs = summary_config['equity_geogs']\n",
    "not_equity_geogs = [\"NOT in \" + item for item in equity_geogs]"
   ]
  },
  {
   "cell_type": "code",
   "execution_count": 4,
   "id": "300357cc",
   "metadata": {
    "execution": {
     "iopub.execute_input": "2025-07-22T22:43:59.764094Z",
     "iopub.status.busy": "2025-07-22T22:43:59.764094Z",
     "iopub.status.idle": "2025-07-22T22:43:59.786059Z",
     "shell.execute_reply": "2025-07-22T22:43:59.785069Z"
    }
   },
   "outputs": [],
   "source": [
    "df_person = person.copy()\n",
    "df_person['is_rgc'] = \"In RGC\"\n",
    "df_person.loc[df_person['hh_rgc'] == 'Not in RGC', 'is_rgc'] = \"Not in RGC\"\n",
    "# included modes\n",
    "# TODO: ask what this means\n",
    "df_person = df_person[(df_person['mode'].isin(['SOV','HOV2','HOV3+']) & (df_person['dorp'] == 1)) \n",
    "                      | (~df_person['mode'].isin(['SOV','HOV2','HOV3+']))]\n",
    "\n",
    "df_hh = hh.copy()\n",
    "df_hh['is_rgc'] = \"In RGC\"\n",
    "df_hh.loc[df_hh['hh_rgc'] == 'Not in RGC', 'is_rgc'] = \"Not in RGC\""
   ]
  },
  {
   "cell_type": "code",
   "execution_count": 5,
   "id": "a2a024ae",
   "metadata": {
    "execution": {
     "iopub.execute_input": "2025-07-22T22:43:59.791046Z",
     "iopub.status.busy": "2025-07-22T22:43:59.790048Z",
     "iopub.status.idle": "2025-07-22T22:43:59.801844Z",
     "shell.execute_reply": "2025-07-22T22:43:59.800849Z"
    }
   },
   "outputs": [],
   "source": [
    "def annual_costs(geog, map=False):\n",
    "    df = df_person.groupby(geog, as_index=False)['travcost_wt'].sum().set_index(geog)\n",
    "    df['hhexpfac'] = df_hh.groupby(geog)['hhexpfac'].sum()\n",
    "\n",
    "    if map:\n",
    "        df.index = df.index.astype('int').map({\n",
    "                                0: 'Below Regional Average', \n",
    "                                1: 'Above Regional Average', \n",
    "                                2: 'Higher Share of Equity Population'}\n",
    "                                )\n",
    "\n",
    "    df.loc['Region'] = [df_person['travcost_wt'].sum(), df_hh['hhexpfac'].sum()]\n",
    "    df['Average Annual Costs'] = (df['travcost_wt'] / df['hhexpfac']) * annual_factor\n",
    "\n",
    "\n",
    "\n",
    "\n",
    "    return df[['Average Annual Costs']]"
   ]
  },
  {
   "cell_type": "raw",
   "id": "9fffaab9",
   "metadata": {
    "vscode": {
     "languageId": "raw"
    }
   },
   "source": [
    ":::{.panel-tabset\n",
    "## County"
   ]
  },
  {
   "cell_type": "code",
   "execution_count": 6,
   "id": "36f9fab3",
   "metadata": {
    "execution": {
     "iopub.execute_input": "2025-07-22T22:43:59.806832Z",
     "iopub.status.busy": "2025-07-22T22:43:59.805834Z",
     "iopub.status.idle": "2025-07-22T22:43:59.828605Z",
     "shell.execute_reply": "2025-07-22T22:43:59.827536Z"
    }
   },
   "outputs": [
    {
     "data": {
      "text/html": [
       "<div>\n",
       "<style scoped>\n",
       "    .dataframe tbody tr th:only-of-type {\n",
       "        vertical-align: middle;\n",
       "    }\n",
       "\n",
       "    .dataframe tbody tr th {\n",
       "        vertical-align: top;\n",
       "    }\n",
       "\n",
       "    .dataframe thead th {\n",
       "        text-align: right;\n",
       "    }\n",
       "</style>\n",
       "<table border=\"1\" class=\"dataframe\">\n",
       "  <thead>\n",
       "    <tr style=\"text-align: right;\">\n",
       "      <th></th>\n",
       "      <th>Average Annual Costs</th>\n",
       "    </tr>\n",
       "    <tr>\n",
       "      <th>hh_county</th>\n",
       "      <th></th>\n",
       "    </tr>\n",
       "  </thead>\n",
       "  <tbody>\n",
       "    <tr>\n",
       "      <th>King</th>\n",
       "      <td>$2,383</td>\n",
       "    </tr>\n",
       "    <tr>\n",
       "      <th>Kitsap</th>\n",
       "      <td>$2,837</td>\n",
       "    </tr>\n",
       "    <tr>\n",
       "      <th>Outside Region</th>\n",
       "      <td>$4,877</td>\n",
       "    </tr>\n",
       "    <tr>\n",
       "      <th>Pierce</th>\n",
       "      <td>$2,783</td>\n",
       "    </tr>\n",
       "    <tr>\n",
       "      <th>Snohomish</th>\n",
       "      <td>$2,953</td>\n",
       "    </tr>\n",
       "    <tr>\n",
       "      <th>Region</th>\n",
       "      <td>$2,597</td>\n",
       "    </tr>\n",
       "  </tbody>\n",
       "</table>\n",
       "</div>"
      ],
      "text/plain": [
       "                Average Annual Costs\n",
       "hh_county                           \n",
       "King                          $2,383\n",
       "Kitsap                        $2,837\n",
       "Outside Region                $4,877\n",
       "Pierce                        $2,783\n",
       "Snohomish                     $2,953\n",
       "Region                        $2,597"
      ]
     },
     "execution_count": 6,
     "metadata": {},
     "output_type": "execute_result"
    }
   ],
   "source": [
    "annual_costs('hh_county')"
   ]
  },
  {
   "cell_type": "raw",
   "id": "22d701e5",
   "metadata": {},
   "source": [
    "## Regional Growth Center"
   ]
  },
  {
   "cell_type": "code",
   "execution_count": 7,
   "id": "a469e394",
   "metadata": {
    "execution": {
     "iopub.execute_input": "2025-07-22T22:43:59.831884Z",
     "iopub.status.busy": "2025-07-22T22:43:59.831346Z",
     "iopub.status.idle": "2025-07-22T22:43:59.843602Z",
     "shell.execute_reply": "2025-07-22T22:43:59.843082Z"
    }
   },
   "outputs": [
    {
     "data": {
      "text/html": [
       "<div>\n",
       "<style scoped>\n",
       "    .dataframe tbody tr th:only-of-type {\n",
       "        vertical-align: middle;\n",
       "    }\n",
       "\n",
       "    .dataframe tbody tr th {\n",
       "        vertical-align: top;\n",
       "    }\n",
       "\n",
       "    .dataframe thead th {\n",
       "        text-align: right;\n",
       "    }\n",
       "</style>\n",
       "<table border=\"1\" class=\"dataframe\">\n",
       "  <thead>\n",
       "    <tr style=\"text-align: right;\">\n",
       "      <th></th>\n",
       "      <th>Average Annual Costs</th>\n",
       "    </tr>\n",
       "    <tr>\n",
       "      <th>is_rgc</th>\n",
       "      <th></th>\n",
       "    </tr>\n",
       "  </thead>\n",
       "  <tbody>\n",
       "    <tr>\n",
       "      <th>In RGC</th>\n",
       "      <td>$954</td>\n",
       "    </tr>\n",
       "    <tr>\n",
       "      <th>Not in RGC</th>\n",
       "      <td>$2,772</td>\n",
       "    </tr>\n",
       "    <tr>\n",
       "      <th>Region</th>\n",
       "      <td>$2,597</td>\n",
       "    </tr>\n",
       "  </tbody>\n",
       "</table>\n",
       "</div>"
      ],
      "text/plain": [
       "            Average Annual Costs\n",
       "is_rgc                          \n",
       "In RGC                      $954\n",
       "Not in RGC                $2,772\n",
       "Region                    $2,597"
      ]
     },
     "execution_count": 7,
     "metadata": {},
     "output_type": "execute_result"
    }
   ],
   "source": [
    "annual_costs('is_rgc')"
   ]
  },
  {
   "cell_type": "code",
   "execution_count": 8,
   "id": "f5553a7d",
   "metadata": {
    "execution": {
     "iopub.execute_input": "2025-07-22T22:43:59.846316Z",
     "iopub.status.busy": "2025-07-22T22:43:59.845779Z",
     "iopub.status.idle": "2025-07-22T22:43:59.857795Z",
     "shell.execute_reply": "2025-07-22T22:43:59.857795Z"
    }
   },
   "outputs": [
    {
     "data": {
      "text/html": [
       "<div>\n",
       "<style scoped>\n",
       "    .dataframe tbody tr th:only-of-type {\n",
       "        vertical-align: middle;\n",
       "    }\n",
       "\n",
       "    .dataframe tbody tr th {\n",
       "        vertical-align: top;\n",
       "    }\n",
       "\n",
       "    .dataframe thead th {\n",
       "        text-align: right;\n",
       "    }\n",
       "</style>\n",
       "<table border=\"1\" class=\"dataframe\">\n",
       "  <thead>\n",
       "    <tr style=\"text-align: right;\">\n",
       "      <th></th>\n",
       "      <th>Average Annual Costs</th>\n",
       "    </tr>\n",
       "    <tr>\n",
       "      <th>hh_rgc</th>\n",
       "      <th></th>\n",
       "    </tr>\n",
       "  </thead>\n",
       "  <tbody>\n",
       "    <tr>\n",
       "      <th>Auburn</th>\n",
       "      <td>$1,868</td>\n",
       "    </tr>\n",
       "    <tr>\n",
       "      <th>Bellevue</th>\n",
       "      <td>$985</td>\n",
       "    </tr>\n",
       "    <tr>\n",
       "      <th>Bothell Canyon Park</th>\n",
       "      <td>$2,391</td>\n",
       "    </tr>\n",
       "    <tr>\n",
       "      <th>Bremerton</th>\n",
       "      <td>$1,164</td>\n",
       "    </tr>\n",
       "    <tr>\n",
       "      <th>Burien</th>\n",
       "      <td>$1,815</td>\n",
       "    </tr>\n",
       "    <tr>\n",
       "      <th>Everett</th>\n",
       "      <td>$1,096</td>\n",
       "    </tr>\n",
       "    <tr>\n",
       "      <th>Federal Way</th>\n",
       "      <td>$1,947</td>\n",
       "    </tr>\n",
       "    <tr>\n",
       "      <th>Greater Downtown Kirkland</th>\n",
       "      <td>$1,824</td>\n",
       "    </tr>\n",
       "    <tr>\n",
       "      <th>Kent</th>\n",
       "      <td>$1,682</td>\n",
       "    </tr>\n",
       "    <tr>\n",
       "      <th>Kirkland Totem Lake</th>\n",
       "      <td>$1,807</td>\n",
       "    </tr>\n",
       "    <tr>\n",
       "      <th>Lakewood</th>\n",
       "      <td>$1,535</td>\n",
       "    </tr>\n",
       "    <tr>\n",
       "      <th>Lynnwood</th>\n",
       "      <td>$1,874</td>\n",
       "    </tr>\n",
       "    <tr>\n",
       "      <th>Not in RGC</th>\n",
       "      <td>$2,772</td>\n",
       "    </tr>\n",
       "    <tr>\n",
       "      <th>Puyallup Downtown</th>\n",
       "      <td>$1,361</td>\n",
       "    </tr>\n",
       "    <tr>\n",
       "      <th>Puyallup South Hill</th>\n",
       "      <td>$1,859</td>\n",
       "    </tr>\n",
       "    <tr>\n",
       "      <th>Redmond Downtown</th>\n",
       "      <td>$1,477</td>\n",
       "    </tr>\n",
       "    <tr>\n",
       "      <th>Redmond-Overlake</th>\n",
       "      <td>$1,288</td>\n",
       "    </tr>\n",
       "    <tr>\n",
       "      <th>Renton</th>\n",
       "      <td>$1,517</td>\n",
       "    </tr>\n",
       "    <tr>\n",
       "      <th>SeaTac</th>\n",
       "      <td>$2,030</td>\n",
       "    </tr>\n",
       "    <tr>\n",
       "      <th>Seattle Downtown</th>\n",
       "      <td>$424</td>\n",
       "    </tr>\n",
       "    <tr>\n",
       "      <th>Seattle First Hill/Capitol Hill</th>\n",
       "      <td>$617</td>\n",
       "    </tr>\n",
       "    <tr>\n",
       "      <th>Seattle Northgate</th>\n",
       "      <td>$1,550</td>\n",
       "    </tr>\n",
       "    <tr>\n",
       "      <th>Seattle South Lake Union</th>\n",
       "      <td>$553</td>\n",
       "    </tr>\n",
       "    <tr>\n",
       "      <th>Seattle University Community</th>\n",
       "      <td>$985</td>\n",
       "    </tr>\n",
       "    <tr>\n",
       "      <th>Seattle Uptown</th>\n",
       "      <td>$772</td>\n",
       "    </tr>\n",
       "    <tr>\n",
       "      <th>Silverdale</th>\n",
       "      <td>$965</td>\n",
       "    </tr>\n",
       "    <tr>\n",
       "      <th>Tacoma Downtown</th>\n",
       "      <td>$988</td>\n",
       "    </tr>\n",
       "    <tr>\n",
       "      <th>Tacoma Mall</th>\n",
       "      <td>$1,207</td>\n",
       "    </tr>\n",
       "    <tr>\n",
       "      <th>Tukwila</th>\n",
       "      <td>$1,361</td>\n",
       "    </tr>\n",
       "    <tr>\n",
       "      <th>University Place</th>\n",
       "      <td>$1,602</td>\n",
       "    </tr>\n",
       "    <tr>\n",
       "      <th>Region</th>\n",
       "      <td>$2,597</td>\n",
       "    </tr>\n",
       "  </tbody>\n",
       "</table>\n",
       "</div>"
      ],
      "text/plain": [
       "                                 Average Annual Costs\n",
       "hh_rgc                                               \n",
       "Auburn                                         $1,868\n",
       "Bellevue                                         $985\n",
       "Bothell Canyon Park                            $2,391\n",
       "Bremerton                                      $1,164\n",
       "Burien                                         $1,815\n",
       "Everett                                        $1,096\n",
       "Federal Way                                    $1,947\n",
       "Greater Downtown Kirkland                      $1,824\n",
       "Kent                                           $1,682\n",
       "Kirkland Totem Lake                            $1,807\n",
       "Lakewood                                       $1,535\n",
       "Lynnwood                                       $1,874\n",
       "Not in RGC                                     $2,772\n",
       "Puyallup Downtown                              $1,361\n",
       "Puyallup South Hill                            $1,859\n",
       "Redmond Downtown                               $1,477\n",
       "Redmond-Overlake                               $1,288\n",
       "Renton                                         $1,517\n",
       "SeaTac                                         $2,030\n",
       "Seattle Downtown                                 $424\n",
       "Seattle First Hill/Capitol Hill                  $617\n",
       "Seattle Northgate                              $1,550\n",
       "Seattle South Lake Union                         $553\n",
       "Seattle University Community                     $985\n",
       "Seattle Uptown                                   $772\n",
       "Silverdale                                       $965\n",
       "Tacoma Downtown                                  $988\n",
       "Tacoma Mall                                    $1,207\n",
       "Tukwila                                        $1,361\n",
       "University Place                               $1,602\n",
       "Region                                         $2,597"
      ]
     },
     "execution_count": 8,
     "metadata": {},
     "output_type": "execute_result"
    }
   ],
   "source": [
    "annual_costs('hh_rgc')"
   ]
  },
  {
   "cell_type": "raw",
   "id": "0bd99560",
   "metadata": {},
   "source": [
    "## Regional Geography"
   ]
  },
  {
   "cell_type": "code",
   "execution_count": 9,
   "id": "ddc6600e",
   "metadata": {
    "execution": {
     "iopub.execute_input": "2025-07-22T22:43:59.860783Z",
     "iopub.status.busy": "2025-07-22T22:43:59.859787Z",
     "iopub.status.idle": "2025-07-22T22:43:59.871143Z",
     "shell.execute_reply": "2025-07-22T22:43:59.870613Z"
    }
   },
   "outputs": [
    {
     "data": {
      "text/html": [
       "<div>\n",
       "<style scoped>\n",
       "    .dataframe tbody tr th:only-of-type {\n",
       "        vertical-align: middle;\n",
       "    }\n",
       "\n",
       "    .dataframe tbody tr th {\n",
       "        vertical-align: top;\n",
       "    }\n",
       "\n",
       "    .dataframe thead th {\n",
       "        text-align: right;\n",
       "    }\n",
       "</style>\n",
       "<table border=\"1\" class=\"dataframe\">\n",
       "  <thead>\n",
       "    <tr style=\"text-align: right;\">\n",
       "      <th></th>\n",
       "      <th>Average Annual Costs</th>\n",
       "    </tr>\n",
       "    <tr>\n",
       "      <th>hh_rg_proposed</th>\n",
       "      <th></th>\n",
       "    </tr>\n",
       "  </thead>\n",
       "  <tbody>\n",
       "    <tr>\n",
       "      <th>Cities and Towns</th>\n",
       "      <td>$3,399</td>\n",
       "    </tr>\n",
       "    <tr>\n",
       "      <th>Core</th>\n",
       "      <td>$2,528</td>\n",
       "    </tr>\n",
       "    <tr>\n",
       "      <th>HCT</th>\n",
       "      <td>$2,751</td>\n",
       "    </tr>\n",
       "    <tr>\n",
       "      <th>Metro</th>\n",
       "      <td>$1,689</td>\n",
       "    </tr>\n",
       "    <tr>\n",
       "      <th>Rural</th>\n",
       "      <td>$4,387</td>\n",
       "    </tr>\n",
       "    <tr>\n",
       "      <th>Urban Unincorporated</th>\n",
       "      <td>$3,187</td>\n",
       "    </tr>\n",
       "    <tr>\n",
       "      <th>Region</th>\n",
       "      <td>$2,597</td>\n",
       "    </tr>\n",
       "  </tbody>\n",
       "</table>\n",
       "</div>"
      ],
      "text/plain": [
       "                      Average Annual Costs\n",
       "hh_rg_proposed                            \n",
       "Cities and Towns                    $3,399\n",
       "Core                                $2,528\n",
       "HCT                                 $2,751\n",
       "Metro                               $1,689\n",
       "Rural                               $4,387\n",
       "Urban Unincorporated                $3,187\n",
       "Region                              $2,597"
      ]
     },
     "execution_count": 9,
     "metadata": {},
     "output_type": "execute_result"
    }
   ],
   "source": [
    "annual_costs('hh_rg_proposed')"
   ]
  },
  {
   "cell_type": "markdown",
   "id": "5398870d",
   "metadata": {},
   "source": [
    "#### Equity Focus Areas"
   ]
  },
  {
   "cell_type": "raw",
   "id": "2bd1c3e6",
   "metadata": {},
   "source": [
    ":::{.panel-tabset}\n",
    "\n",
    "### People of Color"
   ]
  },
  {
   "cell_type": "code",
   "execution_count": 10,
   "id": "6cd97dc3",
   "metadata": {
    "execution": {
     "iopub.execute_input": "2025-07-22T22:43:59.873355Z",
     "iopub.status.busy": "2025-07-22T22:43:59.873355Z",
     "iopub.status.idle": "2025-07-22T22:43:59.878769Z",
     "shell.execute_reply": "2025-07-22T22:43:59.878248Z"
    }
   },
   "outputs": [
    {
     "data": {
      "text/plain": [
       "Index(['dorp', 'mode', 'hh_rg_proposed', 'hh_county', 'hh_rgc', 'hh_city',\n",
       "       'hh_efa_dis', 'hh_efa_older', 'hh_efa_lep', 'hh_efa_pov200',\n",
       "       'hh_efa_poc', 'hh_efa_youth', 'travcost_wt', 'is_rgc'],\n",
       "      dtype='object')"
      ]
     },
     "execution_count": 10,
     "metadata": {},
     "output_type": "execute_result"
    }
   ],
   "source": [
    "df_person.columns"
   ]
  },
  {
   "cell_type": "code",
   "execution_count": 11,
   "id": "7621d13f",
   "metadata": {
    "execution": {
     "iopub.execute_input": "2025-07-22T22:43:59.881424Z",
     "iopub.status.busy": "2025-07-22T22:43:59.881411Z",
     "iopub.status.idle": "2025-07-22T22:43:59.901960Z",
     "shell.execute_reply": "2025-07-22T22:43:59.901360Z"
    }
   },
   "outputs": [
    {
     "data": {
      "text/html": [
       "<div>\n",
       "<style scoped>\n",
       "    .dataframe tbody tr th:only-of-type {\n",
       "        vertical-align: middle;\n",
       "    }\n",
       "\n",
       "    .dataframe tbody tr th {\n",
       "        vertical-align: top;\n",
       "    }\n",
       "\n",
       "    .dataframe thead th {\n",
       "        text-align: right;\n",
       "    }\n",
       "</style>\n",
       "<table border=\"1\" class=\"dataframe\">\n",
       "  <thead>\n",
       "    <tr style=\"text-align: right;\">\n",
       "      <th></th>\n",
       "      <th>Average Annual Costs</th>\n",
       "    </tr>\n",
       "    <tr>\n",
       "      <th>hh_efa_poc</th>\n",
       "      <th></th>\n",
       "    </tr>\n",
       "  </thead>\n",
       "  <tbody>\n",
       "    <tr>\n",
       "      <th>Below Regional Average</th>\n",
       "      <td>$2,811</td>\n",
       "    </tr>\n",
       "    <tr>\n",
       "      <th>Above Regional Average</th>\n",
       "      <td>$2,336</td>\n",
       "    </tr>\n",
       "    <tr>\n",
       "      <th>Higher Share of Equity Population</th>\n",
       "      <td>$2,354</td>\n",
       "    </tr>\n",
       "    <tr>\n",
       "      <th>Region</th>\n",
       "      <td>$2,597</td>\n",
       "    </tr>\n",
       "  </tbody>\n",
       "</table>\n",
       "</div>"
      ],
      "text/plain": [
       "                                   Average Annual Costs\n",
       "hh_efa_poc                                             \n",
       "Below Regional Average                           $2,811\n",
       "Above Regional Average                           $2,336\n",
       "Higher Share of Equity Population                $2,354\n",
       "Region                                           $2,597"
      ]
     },
     "execution_count": 11,
     "metadata": {},
     "output_type": "execute_result"
    }
   ],
   "source": [
    "annual_costs('hh_efa_poc', map=True)"
   ]
  },
  {
   "cell_type": "raw",
   "id": "6a753b6e",
   "metadata": {},
   "source": [
    "### Income"
   ]
  },
  {
   "cell_type": "code",
   "execution_count": 12,
   "id": "b926759f",
   "metadata": {
    "execution": {
     "iopub.execute_input": "2025-07-22T22:43:59.904197Z",
     "iopub.status.busy": "2025-07-22T22:43:59.904197Z",
     "iopub.status.idle": "2025-07-22T22:43:59.924465Z",
     "shell.execute_reply": "2025-07-22T22:43:59.924465Z"
    }
   },
   "outputs": [
    {
     "data": {
      "text/html": [
       "<div>\n",
       "<style scoped>\n",
       "    .dataframe tbody tr th:only-of-type {\n",
       "        vertical-align: middle;\n",
       "    }\n",
       "\n",
       "    .dataframe tbody tr th {\n",
       "        vertical-align: top;\n",
       "    }\n",
       "\n",
       "    .dataframe thead th {\n",
       "        text-align: right;\n",
       "    }\n",
       "</style>\n",
       "<table border=\"1\" class=\"dataframe\">\n",
       "  <thead>\n",
       "    <tr style=\"text-align: right;\">\n",
       "      <th></th>\n",
       "      <th>Average Annual Costs</th>\n",
       "    </tr>\n",
       "    <tr>\n",
       "      <th>hh_efa_pov200</th>\n",
       "      <th></th>\n",
       "    </tr>\n",
       "  </thead>\n",
       "  <tbody>\n",
       "    <tr>\n",
       "      <th>Below Regional Average</th>\n",
       "      <td>$2,806</td>\n",
       "    </tr>\n",
       "    <tr>\n",
       "      <th>Above Regional Average</th>\n",
       "      <td>$2,410</td>\n",
       "    </tr>\n",
       "    <tr>\n",
       "      <th>Higher Share of Equity Population</th>\n",
       "      <td>$2,062</td>\n",
       "    </tr>\n",
       "    <tr>\n",
       "      <th>Region</th>\n",
       "      <td>$2,597</td>\n",
       "    </tr>\n",
       "  </tbody>\n",
       "</table>\n",
       "</div>"
      ],
      "text/plain": [
       "                                   Average Annual Costs\n",
       "hh_efa_pov200                                          \n",
       "Below Regional Average                           $2,806\n",
       "Above Regional Average                           $2,410\n",
       "Higher Share of Equity Population                $2,062\n",
       "Region                                           $2,597"
      ]
     },
     "execution_count": 12,
     "metadata": {},
     "output_type": "execute_result"
    }
   ],
   "source": [
    "annual_costs('hh_efa_pov200', map=True)"
   ]
  },
  {
   "cell_type": "raw",
   "id": "f188d1ff",
   "metadata": {},
   "source": [
    "### English Proficiency"
   ]
  },
  {
   "cell_type": "code",
   "execution_count": 13,
   "id": "8b0eec82",
   "metadata": {
    "execution": {
     "iopub.execute_input": "2025-07-22T22:43:59.927466Z",
     "iopub.status.busy": "2025-07-22T22:43:59.927466Z",
     "iopub.status.idle": "2025-07-22T22:43:59.939490Z",
     "shell.execute_reply": "2025-07-22T22:43:59.938427Z"
    }
   },
   "outputs": [
    {
     "data": {
      "text/html": [
       "<div>\n",
       "<style scoped>\n",
       "    .dataframe tbody tr th:only-of-type {\n",
       "        vertical-align: middle;\n",
       "    }\n",
       "\n",
       "    .dataframe tbody tr th {\n",
       "        vertical-align: top;\n",
       "    }\n",
       "\n",
       "    .dataframe thead th {\n",
       "        text-align: right;\n",
       "    }\n",
       "</style>\n",
       "<table border=\"1\" class=\"dataframe\">\n",
       "  <thead>\n",
       "    <tr style=\"text-align: right;\">\n",
       "      <th></th>\n",
       "      <th>Average Annual Costs</th>\n",
       "    </tr>\n",
       "    <tr>\n",
       "      <th>hh_efa_lep</th>\n",
       "      <th></th>\n",
       "    </tr>\n",
       "  </thead>\n",
       "  <tbody>\n",
       "    <tr>\n",
       "      <th>Below Regional Average</th>\n",
       "      <td>$2,653</td>\n",
       "    </tr>\n",
       "    <tr>\n",
       "      <th>Above Regional Average</th>\n",
       "      <td>$2,540</td>\n",
       "    </tr>\n",
       "    <tr>\n",
       "      <th>Higher Share of Equity Population</th>\n",
       "      <td>$2,457</td>\n",
       "    </tr>\n",
       "    <tr>\n",
       "      <th>Region</th>\n",
       "      <td>$2,597</td>\n",
       "    </tr>\n",
       "  </tbody>\n",
       "</table>\n",
       "</div>"
      ],
      "text/plain": [
       "                                   Average Annual Costs\n",
       "hh_efa_lep                                             \n",
       "Below Regional Average                           $2,653\n",
       "Above Regional Average                           $2,540\n",
       "Higher Share of Equity Population                $2,457\n",
       "Region                                           $2,597"
      ]
     },
     "execution_count": 13,
     "metadata": {},
     "output_type": "execute_result"
    }
   ],
   "source": [
    "annual_costs('hh_efa_lep', map=True)"
   ]
  },
  {
   "cell_type": "raw",
   "id": "6c66143f",
   "metadata": {},
   "source": [
    "### Disability"
   ]
  },
  {
   "cell_type": "code",
   "execution_count": 14,
   "id": "33879a86",
   "metadata": {
    "execution": {
     "iopub.execute_input": "2025-07-22T22:43:59.942171Z",
     "iopub.status.busy": "2025-07-22T22:43:59.941646Z",
     "iopub.status.idle": "2025-07-22T22:43:59.951886Z",
     "shell.execute_reply": "2025-07-22T22:43:59.951356Z"
    }
   },
   "outputs": [
    {
     "data": {
      "text/html": [
       "<div>\n",
       "<style scoped>\n",
       "    .dataframe tbody tr th:only-of-type {\n",
       "        vertical-align: middle;\n",
       "    }\n",
       "\n",
       "    .dataframe tbody tr th {\n",
       "        vertical-align: top;\n",
       "    }\n",
       "\n",
       "    .dataframe thead th {\n",
       "        text-align: right;\n",
       "    }\n",
       "</style>\n",
       "<table border=\"1\" class=\"dataframe\">\n",
       "  <thead>\n",
       "    <tr style=\"text-align: right;\">\n",
       "      <th></th>\n",
       "      <th>Average Annual Costs</th>\n",
       "    </tr>\n",
       "    <tr>\n",
       "      <th>hh_efa_dis</th>\n",
       "      <th></th>\n",
       "    </tr>\n",
       "  </thead>\n",
       "  <tbody>\n",
       "    <tr>\n",
       "      <th>Below Regional Average</th>\n",
       "      <td>$2,693</td>\n",
       "    </tr>\n",
       "    <tr>\n",
       "      <th>Above Regional Average</th>\n",
       "      <td>$2,603</td>\n",
       "    </tr>\n",
       "    <tr>\n",
       "      <th>Higher Share of Equity Population</th>\n",
       "      <td>$2,245</td>\n",
       "    </tr>\n",
       "    <tr>\n",
       "      <th>Region</th>\n",
       "      <td>$2,597</td>\n",
       "    </tr>\n",
       "  </tbody>\n",
       "</table>\n",
       "</div>"
      ],
      "text/plain": [
       "                                   Average Annual Costs\n",
       "hh_efa_dis                                             \n",
       "Below Regional Average                           $2,693\n",
       "Above Regional Average                           $2,603\n",
       "Higher Share of Equity Population                $2,245\n",
       "Region                                           $2,597"
      ]
     },
     "execution_count": 14,
     "metadata": {},
     "output_type": "execute_result"
    }
   ],
   "source": [
    "annual_costs('hh_efa_dis', map=True)"
   ]
  },
  {
   "cell_type": "raw",
   "id": "47331f59",
   "metadata": {},
   "source": [
    "### Older Adults "
   ]
  },
  {
   "cell_type": "code",
   "execution_count": 15,
   "id": "6ab378fb",
   "metadata": {
    "execution": {
     "iopub.execute_input": "2025-07-22T22:43:59.954623Z",
     "iopub.status.busy": "2025-07-22T22:43:59.954098Z",
     "iopub.status.idle": "2025-07-22T22:43:59.964116Z",
     "shell.execute_reply": "2025-07-22T22:43:59.963071Z"
    }
   },
   "outputs": [
    {
     "data": {
      "text/html": [
       "<div>\n",
       "<style scoped>\n",
       "    .dataframe tbody tr th:only-of-type {\n",
       "        vertical-align: middle;\n",
       "    }\n",
       "\n",
       "    .dataframe tbody tr th {\n",
       "        vertical-align: top;\n",
       "    }\n",
       "\n",
       "    .dataframe thead th {\n",
       "        text-align: right;\n",
       "    }\n",
       "</style>\n",
       "<table border=\"1\" class=\"dataframe\">\n",
       "  <thead>\n",
       "    <tr style=\"text-align: right;\">\n",
       "      <th></th>\n",
       "      <th>Average Annual Costs</th>\n",
       "    </tr>\n",
       "    <tr>\n",
       "      <th>hh_efa_older</th>\n",
       "      <th></th>\n",
       "    </tr>\n",
       "  </thead>\n",
       "  <tbody>\n",
       "    <tr>\n",
       "      <th>Below Regional Average</th>\n",
       "      <td>$2,463</td>\n",
       "    </tr>\n",
       "    <tr>\n",
       "      <th>Above Regional Average</th>\n",
       "      <td>$2,689</td>\n",
       "    </tr>\n",
       "    <tr>\n",
       "      <th>Higher Share of Equity Population</th>\n",
       "      <td>$2,887</td>\n",
       "    </tr>\n",
       "    <tr>\n",
       "      <th>Region</th>\n",
       "      <td>$2,597</td>\n",
       "    </tr>\n",
       "  </tbody>\n",
       "</table>\n",
       "</div>"
      ],
      "text/plain": [
       "                                   Average Annual Costs\n",
       "hh_efa_older                                           \n",
       "Below Regional Average                           $2,463\n",
       "Above Regional Average                           $2,689\n",
       "Higher Share of Equity Population                $2,887\n",
       "Region                                           $2,597"
      ]
     },
     "execution_count": 15,
     "metadata": {},
     "output_type": "execute_result"
    }
   ],
   "source": [
    "annual_costs('hh_efa_older', map=True)"
   ]
  },
  {
   "cell_type": "raw",
   "id": "0eb25b76",
   "metadata": {},
   "source": [
    "### Youth"
   ]
  },
  {
   "cell_type": "code",
   "execution_count": 16,
   "id": "7238d487",
   "metadata": {
    "execution": {
     "iopub.execute_input": "2025-07-22T22:43:59.966278Z",
     "iopub.status.busy": "2025-07-22T22:43:59.966278Z",
     "iopub.status.idle": "2025-07-22T22:43:59.985239Z",
     "shell.execute_reply": "2025-07-22T22:43:59.985239Z"
    }
   },
   "outputs": [
    {
     "data": {
      "text/html": [
       "<div>\n",
       "<style scoped>\n",
       "    .dataframe tbody tr th:only-of-type {\n",
       "        vertical-align: middle;\n",
       "    }\n",
       "\n",
       "    .dataframe tbody tr th {\n",
       "        vertical-align: top;\n",
       "    }\n",
       "\n",
       "    .dataframe thead th {\n",
       "        text-align: right;\n",
       "    }\n",
       "</style>\n",
       "<table border=\"1\" class=\"dataframe\">\n",
       "  <thead>\n",
       "    <tr style=\"text-align: right;\">\n",
       "      <th></th>\n",
       "      <th>Average Annual Costs</th>\n",
       "    </tr>\n",
       "    <tr>\n",
       "      <th>hh_efa_youth</th>\n",
       "      <th></th>\n",
       "    </tr>\n",
       "  </thead>\n",
       "  <tbody>\n",
       "    <tr>\n",
       "      <th>Below Regional Average</th>\n",
       "      <td>$2,212</td>\n",
       "    </tr>\n",
       "    <tr>\n",
       "      <th>Above Regional Average</th>\n",
       "      <td>$2,984</td>\n",
       "    </tr>\n",
       "    <tr>\n",
       "      <th>Higher Share of Equity Population</th>\n",
       "      <td>$3,284</td>\n",
       "    </tr>\n",
       "    <tr>\n",
       "      <th>Region</th>\n",
       "      <td>$2,597</td>\n",
       "    </tr>\n",
       "  </tbody>\n",
       "</table>\n",
       "</div>"
      ],
      "text/plain": [
       "                                   Average Annual Costs\n",
       "hh_efa_youth                                           \n",
       "Below Regional Average                           $2,212\n",
       "Above Regional Average                           $2,984\n",
       "Higher Share of Equity Population                $3,284\n",
       "Region                                           $2,597"
      ]
     },
     "execution_count": 16,
     "metadata": {},
     "output_type": "execute_result"
    }
   ],
   "source": [
    "annual_costs('hh_efa_youth', map=True)"
   ]
  },
  {
   "cell_type": "raw",
   "id": "33c836e3",
   "metadata": {},
   "source": [
    ":::"
   ]
  }
 ],
 "metadata": {
  "kernelspec": {
   "display_name": "summary",
   "language": "python",
   "name": "python3"
  },
  "language_info": {
   "codemirror_mode": {
    "name": "ipython",
    "version": 3
   },
   "file_extension": ".py",
   "mimetype": "text/x-python",
   "name": "python",
   "nbconvert_exporter": "python",
   "pygments_lexer": "ipython3",
   "version": "3.11.12"
  }
 },
 "nbformat": 4,
 "nbformat_minor": 5
}
