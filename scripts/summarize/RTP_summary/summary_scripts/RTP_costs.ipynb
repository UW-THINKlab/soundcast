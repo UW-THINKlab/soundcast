{
 "cells": [
  {
   "cell_type": "raw",
   "id": "5288c708",
   "metadata": {
    "vscode": {
     "languageId": "raw"
    }
   },
   "source": [
    "---\n",
    "title: \"Household Transportation Costs\"\n",
    "date: today\n",
    "---"
   ]
  },
  {
   "cell_type": "markdown",
   "id": "29583245",
   "metadata": {},
   "source": [
    "- Average Annual Household Transportation Costs: Out-of-pocket expenses including tolls, parking, and transit fares\n",
    "\n",
    "    - These costs do not include other vehicle operating and purchase costs.\n",
    "\n",
    "    - Costs are annualized using factor of 320\n"
   ]
  },
  {
   "cell_type": "code",
   "execution_count": 1,
   "id": "20b477a3",
   "metadata": {
    "execution": {
     "iopub.execute_input": "2025-07-11T13:42:56.739599Z",
     "iopub.status.busy": "2025-07-11T13:42:56.738487Z",
     "iopub.status.idle": "2025-07-11T13:42:57.979362Z",
     "shell.execute_reply": "2025-07-11T13:42:57.978359Z"
    }
   },
   "outputs": [],
   "source": [
    "import pandas as pd\n",
    "import polars as pl\n",
    "import toml\n",
    "from pathlib import Path\n",
    "from sqlalchemy import create_engine\n",
    "\n",
    "config = toml.load(Path.cwd() / '../../../../configuration/input_configuration.toml')\n",
    "summary_config = toml.load(Path.cwd() / '../../../../configuration/summary_configuration.toml')\n",
    "\n",
    "pd.set_option('display.float_format', '${:0,.0f}'.format)"
   ]
  },
  {
   "cell_type": "code",
   "execution_count": 2,
   "id": "5a7bbb05",
   "metadata": {
    "execution": {
     "iopub.execute_input": "2025-07-11T13:42:57.985346Z",
     "iopub.status.busy": "2025-07-11T13:42:57.984348Z",
     "iopub.status.idle": "2025-07-11T13:42:57.992117Z",
     "shell.execute_reply": "2025-07-11T13:42:57.991113Z"
    }
   },
   "outputs": [],
   "source": [
    "# Relative path between notebooks and goruped output directories\n",
    "output_path = Path(summary_config['sc_run_path']) / summary_config[\"output_folder\"]\n",
    "survey_path = Path(summary_config['sc_run_path']) / summary_config[\"survey_folder\"]"
   ]
  },
  {
   "cell_type": "code",
   "execution_count": 3,
   "id": "dee19a06",
   "metadata": {
    "execution": {
     "iopub.execute_input": "2025-07-11T13:42:57.997735Z",
     "iopub.status.busy": "2025-07-11T13:42:57.996106Z",
     "iopub.status.idle": "2025-07-11T13:42:58.075987Z",
     "shell.execute_reply": "2025-07-11T13:42:58.074984Z"
    }
   },
   "outputs": [],
   "source": [
    "# person data\n",
    "person = pd.read_csv(output_path / 'agg/dash/person_cost.csv')\n",
    "# household data\n",
    "hh = pd.read_csv(output_path / 'agg/dash/hh_geog.csv')\n",
    "\n",
    "annual_factor = summary_config['weekday_to_annual']\n",
    "# list of equity geographies\n",
    "equity_geogs = summary_config['equity_geogs']\n",
    "not_equity_geogs = [\"NOT in \" + item for item in equity_geogs]"
   ]
  },
  {
   "cell_type": "code",
   "execution_count": 4,
   "id": "300357cc",
   "metadata": {
    "execution": {
     "iopub.execute_input": "2025-07-11T13:42:58.081971Z",
     "iopub.status.busy": "2025-07-11T13:42:58.080974Z",
     "iopub.status.idle": "2025-07-11T13:42:58.104192Z",
     "shell.execute_reply": "2025-07-11T13:42:58.103189Z"
    }
   },
   "outputs": [],
   "source": [
    "df_person = person.copy()\n",
    "df_person['is_rgc'] = \"In RGC\"\n",
    "df_person.loc[df_person['hh_rgc'] == 'Not in RGC', 'is_rgc'] = \"Not in RGC\"\n",
    "# included modes\n",
    "# TODO: ask what this means\n",
    "df_person = df_person[(df_person['mode'].isin(['SOV','HOV2','HOV3+']) & (df_person['dorp'] == 1)) \n",
    "                      | (~df_person['mode'].isin(['SOV','HOV2','HOV3+']))]\n",
    "\n",
    "df_hh = hh.copy()\n",
    "df_hh['is_rgc'] = \"In RGC\"\n",
    "df_hh.loc[df_hh['hh_rgc'] == 'Not in RGC', 'is_rgc'] = \"Not in RGC\""
   ]
  },
  {
   "cell_type": "code",
   "execution_count": 5,
   "id": "a2a024ae",
   "metadata": {
    "execution": {
     "iopub.execute_input": "2025-07-11T13:42:58.108769Z",
     "iopub.status.busy": "2025-07-11T13:42:58.108769Z",
     "iopub.status.idle": "2025-07-11T13:42:58.116305Z",
     "shell.execute_reply": "2025-07-11T13:42:58.116305Z"
    }
   },
   "outputs": [],
   "source": [
    "def annual_costs(geog):\n",
    "    df = df_person.groupby(geog, as_index=False)['travcost_wt'].sum().set_index(geog)\n",
    "    df['hhexpfac'] = df_hh.groupby(geog)['hhexpfac'].sum()\n",
    "\n",
    "    df.loc['Region'] = [df_person['travcost_wt'].sum(), df_hh['hhexpfac'].sum()]\n",
    "    df['Average Annual Costs'] = (df['travcost_wt'] / df['hhexpfac']) * annual_factor\n",
    "\n",
    "    return df[['Average Annual Costs']]"
   ]
  },
  {
   "cell_type": "raw",
   "id": "9fffaab9",
   "metadata": {
    "vscode": {
     "languageId": "raw"
    }
   },
   "source": [
    ":::{.panel-tabset\n",
    "## County"
   ]
  },
  {
   "cell_type": "code",
   "execution_count": 6,
   "id": "36f9fab3",
   "metadata": {
    "execution": {
     "iopub.execute_input": "2025-07-11T13:42:58.121297Z",
     "iopub.status.busy": "2025-07-11T13:42:58.120300Z",
     "iopub.status.idle": "2025-07-11T13:42:58.145477Z",
     "shell.execute_reply": "2025-07-11T13:42:58.144474Z"
    }
   },
   "outputs": [
    {
     "data": {
      "text/html": [
       "<div>\n",
       "<style scoped>\n",
       "    .dataframe tbody tr th:only-of-type {\n",
       "        vertical-align: middle;\n",
       "    }\n",
       "\n",
       "    .dataframe tbody tr th {\n",
       "        vertical-align: top;\n",
       "    }\n",
       "\n",
       "    .dataframe thead th {\n",
       "        text-align: right;\n",
       "    }\n",
       "</style>\n",
       "<table border=\"1\" class=\"dataframe\">\n",
       "  <thead>\n",
       "    <tr style=\"text-align: right;\">\n",
       "      <th></th>\n",
       "      <th>Average Annual Costs</th>\n",
       "    </tr>\n",
       "    <tr>\n",
       "      <th>hh_county</th>\n",
       "      <th></th>\n",
       "    </tr>\n",
       "  </thead>\n",
       "  <tbody>\n",
       "    <tr>\n",
       "      <th>King</th>\n",
       "      <td>$2,421</td>\n",
       "    </tr>\n",
       "    <tr>\n",
       "      <th>Kitsap</th>\n",
       "      <td>$2,881</td>\n",
       "    </tr>\n",
       "    <tr>\n",
       "      <th>Outside Region</th>\n",
       "      <td>$4,953</td>\n",
       "    </tr>\n",
       "    <tr>\n",
       "      <th>Pierce</th>\n",
       "      <td>$2,826</td>\n",
       "    </tr>\n",
       "    <tr>\n",
       "      <th>Snohomish</th>\n",
       "      <td>$2,999</td>\n",
       "    </tr>\n",
       "    <tr>\n",
       "      <th>Region</th>\n",
       "      <td>$2,638</td>\n",
       "    </tr>\n",
       "  </tbody>\n",
       "</table>\n",
       "</div>"
      ],
      "text/plain": [
       "                Average Annual Costs\n",
       "hh_county                           \n",
       "King                          $2,421\n",
       "Kitsap                        $2,881\n",
       "Outside Region                $4,953\n",
       "Pierce                        $2,826\n",
       "Snohomish                     $2,999\n",
       "Region                        $2,638"
      ]
     },
     "execution_count": 6,
     "metadata": {},
     "output_type": "execute_result"
    }
   ],
   "source": [
    "annual_costs('hh_county')"
   ]
  },
  {
   "cell_type": "raw",
   "id": "22d701e5",
   "metadata": {},
   "source": [
    "## Regional Growth Center"
   ]
  },
  {
   "cell_type": "code",
   "execution_count": 7,
   "id": "a469e394",
   "metadata": {
    "execution": {
     "iopub.execute_input": "2025-07-11T13:42:58.148469Z",
     "iopub.status.busy": "2025-07-11T13:42:58.147472Z",
     "iopub.status.idle": "2025-07-11T13:42:58.158697Z",
     "shell.execute_reply": "2025-07-11T13:42:58.158120Z"
    }
   },
   "outputs": [
    {
     "data": {
      "text/html": [
       "<div>\n",
       "<style scoped>\n",
       "    .dataframe tbody tr th:only-of-type {\n",
       "        vertical-align: middle;\n",
       "    }\n",
       "\n",
       "    .dataframe tbody tr th {\n",
       "        vertical-align: top;\n",
       "    }\n",
       "\n",
       "    .dataframe thead th {\n",
       "        text-align: right;\n",
       "    }\n",
       "</style>\n",
       "<table border=\"1\" class=\"dataframe\">\n",
       "  <thead>\n",
       "    <tr style=\"text-align: right;\">\n",
       "      <th></th>\n",
       "      <th>Average Annual Costs</th>\n",
       "    </tr>\n",
       "    <tr>\n",
       "      <th>is_rgc</th>\n",
       "      <th></th>\n",
       "    </tr>\n",
       "  </thead>\n",
       "  <tbody>\n",
       "    <tr>\n",
       "      <th>In RGC</th>\n",
       "      <td>$969</td>\n",
       "    </tr>\n",
       "    <tr>\n",
       "      <th>Not in RGC</th>\n",
       "      <td>$2,815</td>\n",
       "    </tr>\n",
       "    <tr>\n",
       "      <th>Region</th>\n",
       "      <td>$2,638</td>\n",
       "    </tr>\n",
       "  </tbody>\n",
       "</table>\n",
       "</div>"
      ],
      "text/plain": [
       "            Average Annual Costs\n",
       "is_rgc                          \n",
       "In RGC                      $969\n",
       "Not in RGC                $2,815\n",
       "Region                    $2,638"
      ]
     },
     "execution_count": 7,
     "metadata": {},
     "output_type": "execute_result"
    }
   ],
   "source": [
    "annual_costs('is_rgc')"
   ]
  },
  {
   "cell_type": "code",
   "execution_count": 8,
   "id": "f5553a7d",
   "metadata": {
    "execution": {
     "iopub.execute_input": "2025-07-11T13:42:58.161385Z",
     "iopub.status.busy": "2025-07-11T13:42:58.161385Z",
     "iopub.status.idle": "2025-07-11T13:42:58.173626Z",
     "shell.execute_reply": "2025-07-11T13:42:58.172623Z"
    }
   },
   "outputs": [
    {
     "data": {
      "text/html": [
       "<div>\n",
       "<style scoped>\n",
       "    .dataframe tbody tr th:only-of-type {\n",
       "        vertical-align: middle;\n",
       "    }\n",
       "\n",
       "    .dataframe tbody tr th {\n",
       "        vertical-align: top;\n",
       "    }\n",
       "\n",
       "    .dataframe thead th {\n",
       "        text-align: right;\n",
       "    }\n",
       "</style>\n",
       "<table border=\"1\" class=\"dataframe\">\n",
       "  <thead>\n",
       "    <tr style=\"text-align: right;\">\n",
       "      <th></th>\n",
       "      <th>Average Annual Costs</th>\n",
       "    </tr>\n",
       "    <tr>\n",
       "      <th>hh_rgc</th>\n",
       "      <th></th>\n",
       "    </tr>\n",
       "  </thead>\n",
       "  <tbody>\n",
       "    <tr>\n",
       "      <th>Auburn</th>\n",
       "      <td>$1,897</td>\n",
       "    </tr>\n",
       "    <tr>\n",
       "      <th>Bellevue</th>\n",
       "      <td>$1,000</td>\n",
       "    </tr>\n",
       "    <tr>\n",
       "      <th>Bothell Canyon Park</th>\n",
       "      <td>$2,429</td>\n",
       "    </tr>\n",
       "    <tr>\n",
       "      <th>Bremerton</th>\n",
       "      <td>$1,182</td>\n",
       "    </tr>\n",
       "    <tr>\n",
       "      <th>Burien</th>\n",
       "      <td>$1,843</td>\n",
       "    </tr>\n",
       "    <tr>\n",
       "      <th>Everett</th>\n",
       "      <td>$1,113</td>\n",
       "    </tr>\n",
       "    <tr>\n",
       "      <th>Federal Way</th>\n",
       "      <td>$1,978</td>\n",
       "    </tr>\n",
       "    <tr>\n",
       "      <th>Greater Downtown Kirkland</th>\n",
       "      <td>$1,853</td>\n",
       "    </tr>\n",
       "    <tr>\n",
       "      <th>Kent</th>\n",
       "      <td>$1,708</td>\n",
       "    </tr>\n",
       "    <tr>\n",
       "      <th>Kirkland Totem Lake</th>\n",
       "      <td>$1,836</td>\n",
       "    </tr>\n",
       "    <tr>\n",
       "      <th>Lakewood</th>\n",
       "      <td>$1,559</td>\n",
       "    </tr>\n",
       "    <tr>\n",
       "      <th>Lynnwood</th>\n",
       "      <td>$1,903</td>\n",
       "    </tr>\n",
       "    <tr>\n",
       "      <th>Not in RGC</th>\n",
       "      <td>$2,815</td>\n",
       "    </tr>\n",
       "    <tr>\n",
       "      <th>Puyallup Downtown</th>\n",
       "      <td>$1,382</td>\n",
       "    </tr>\n",
       "    <tr>\n",
       "      <th>Puyallup South Hill</th>\n",
       "      <td>$1,888</td>\n",
       "    </tr>\n",
       "    <tr>\n",
       "      <th>Redmond Downtown</th>\n",
       "      <td>$1,500</td>\n",
       "    </tr>\n",
       "    <tr>\n",
       "      <th>Redmond-Overlake</th>\n",
       "      <td>$1,308</td>\n",
       "    </tr>\n",
       "    <tr>\n",
       "      <th>Renton</th>\n",
       "      <td>$1,540</td>\n",
       "    </tr>\n",
       "    <tr>\n",
       "      <th>SeaTac</th>\n",
       "      <td>$2,061</td>\n",
       "    </tr>\n",
       "    <tr>\n",
       "      <th>Seattle Downtown</th>\n",
       "      <td>$431</td>\n",
       "    </tr>\n",
       "    <tr>\n",
       "      <th>Seattle First Hill/Capitol Hill</th>\n",
       "      <td>$626</td>\n",
       "    </tr>\n",
       "    <tr>\n",
       "      <th>Seattle Northgate</th>\n",
       "      <td>$1,575</td>\n",
       "    </tr>\n",
       "    <tr>\n",
       "      <th>Seattle South Lake Union</th>\n",
       "      <td>$562</td>\n",
       "    </tr>\n",
       "    <tr>\n",
       "      <th>Seattle University Community</th>\n",
       "      <td>$1,001</td>\n",
       "    </tr>\n",
       "    <tr>\n",
       "      <th>Seattle Uptown</th>\n",
       "      <td>$784</td>\n",
       "    </tr>\n",
       "    <tr>\n",
       "      <th>Silverdale</th>\n",
       "      <td>$981</td>\n",
       "    </tr>\n",
       "    <tr>\n",
       "      <th>Tacoma Downtown</th>\n",
       "      <td>$1,003</td>\n",
       "    </tr>\n",
       "    <tr>\n",
       "      <th>Tacoma Mall</th>\n",
       "      <td>$1,226</td>\n",
       "    </tr>\n",
       "    <tr>\n",
       "      <th>Tukwila</th>\n",
       "      <td>$1,382</td>\n",
       "    </tr>\n",
       "    <tr>\n",
       "      <th>University Place</th>\n",
       "      <td>$1,627</td>\n",
       "    </tr>\n",
       "    <tr>\n",
       "      <th>Region</th>\n",
       "      <td>$2,638</td>\n",
       "    </tr>\n",
       "  </tbody>\n",
       "</table>\n",
       "</div>"
      ],
      "text/plain": [
       "                                 Average Annual Costs\n",
       "hh_rgc                                               \n",
       "Auburn                                         $1,897\n",
       "Bellevue                                       $1,000\n",
       "Bothell Canyon Park                            $2,429\n",
       "Bremerton                                      $1,182\n",
       "Burien                                         $1,843\n",
       "Everett                                        $1,113\n",
       "Federal Way                                    $1,978\n",
       "Greater Downtown Kirkland                      $1,853\n",
       "Kent                                           $1,708\n",
       "Kirkland Totem Lake                            $1,836\n",
       "Lakewood                                       $1,559\n",
       "Lynnwood                                       $1,903\n",
       "Not in RGC                                     $2,815\n",
       "Puyallup Downtown                              $1,382\n",
       "Puyallup South Hill                            $1,888\n",
       "Redmond Downtown                               $1,500\n",
       "Redmond-Overlake                               $1,308\n",
       "Renton                                         $1,540\n",
       "SeaTac                                         $2,061\n",
       "Seattle Downtown                                 $431\n",
       "Seattle First Hill/Capitol Hill                  $626\n",
       "Seattle Northgate                              $1,575\n",
       "Seattle South Lake Union                         $562\n",
       "Seattle University Community                   $1,001\n",
       "Seattle Uptown                                   $784\n",
       "Silverdale                                       $981\n",
       "Tacoma Downtown                                $1,003\n",
       "Tacoma Mall                                    $1,226\n",
       "Tukwila                                        $1,382\n",
       "University Place                               $1,627\n",
       "Region                                         $2,638"
      ]
     },
     "execution_count": 8,
     "metadata": {},
     "output_type": "execute_result"
    }
   ],
   "source": [
    "annual_costs('hh_rgc')"
   ]
  },
  {
   "cell_type": "raw",
   "id": "0bd99560",
   "metadata": {},
   "source": [
    "## Regional Geography"
   ]
  },
  {
   "cell_type": "code",
   "execution_count": 9,
   "id": "ddc6600e",
   "metadata": {
    "execution": {
     "iopub.execute_input": "2025-07-11T13:42:58.175621Z",
     "iopub.status.busy": "2025-07-11T13:42:58.175621Z",
     "iopub.status.idle": "2025-07-11T13:42:58.185448Z",
     "shell.execute_reply": "2025-07-11T13:42:58.185448Z"
    }
   },
   "outputs": [
    {
     "data": {
      "text/html": [
       "<div>\n",
       "<style scoped>\n",
       "    .dataframe tbody tr th:only-of-type {\n",
       "        vertical-align: middle;\n",
       "    }\n",
       "\n",
       "    .dataframe tbody tr th {\n",
       "        vertical-align: top;\n",
       "    }\n",
       "\n",
       "    .dataframe thead th {\n",
       "        text-align: right;\n",
       "    }\n",
       "</style>\n",
       "<table border=\"1\" class=\"dataframe\">\n",
       "  <thead>\n",
       "    <tr style=\"text-align: right;\">\n",
       "      <th></th>\n",
       "      <th>Average Annual Costs</th>\n",
       "    </tr>\n",
       "    <tr>\n",
       "      <th>hh_rg_proposed</th>\n",
       "      <th></th>\n",
       "    </tr>\n",
       "  </thead>\n",
       "  <tbody>\n",
       "    <tr>\n",
       "      <th>CitiesTowns</th>\n",
       "      <td>$3,452</td>\n",
       "    </tr>\n",
       "    <tr>\n",
       "      <th>Core</th>\n",
       "      <td>$2,568</td>\n",
       "    </tr>\n",
       "    <tr>\n",
       "      <th>HCT</th>\n",
       "      <td>$2,794</td>\n",
       "    </tr>\n",
       "    <tr>\n",
       "      <th>Metro</th>\n",
       "      <td>$1,715</td>\n",
       "    </tr>\n",
       "    <tr>\n",
       "      <th>UU</th>\n",
       "      <td>$3,236</td>\n",
       "    </tr>\n",
       "    <tr>\n",
       "      <th>Region</th>\n",
       "      <td>$2,638</td>\n",
       "    </tr>\n",
       "  </tbody>\n",
       "</table>\n",
       "</div>"
      ],
      "text/plain": [
       "                Average Annual Costs\n",
       "hh_rg_proposed                      \n",
       "CitiesTowns                   $3,452\n",
       "Core                          $2,568\n",
       "HCT                           $2,794\n",
       "Metro                         $1,715\n",
       "UU                            $3,236\n",
       "Region                        $2,638"
      ]
     },
     "execution_count": 9,
     "metadata": {},
     "output_type": "execute_result"
    }
   ],
   "source": [
    "annual_costs('hh_rg_proposed')"
   ]
  },
  {
   "cell_type": "raw",
   "id": "a2027e5d",
   "metadata": {},
   "source": [
    "## Equity Geography"
   ]
  },
  {
   "cell_type": "code",
   "execution_count": 10,
   "id": "917aca57",
   "metadata": {
    "execution": {
     "iopub.execute_input": "2025-07-11T13:42:58.188446Z",
     "iopub.status.busy": "2025-07-11T13:42:58.188446Z",
     "iopub.status.idle": "2025-07-11T13:42:58.233843Z",
     "shell.execute_reply": "2025-07-11T13:42:58.232856Z"
    }
   },
   "outputs": [
    {
     "data": {
      "text/html": [
       "<div>\n",
       "<style scoped>\n",
       "    .dataframe tbody tr th:only-of-type {\n",
       "        vertical-align: middle;\n",
       "    }\n",
       "\n",
       "    .dataframe tbody tr th {\n",
       "        vertical-align: top;\n",
       "    }\n",
       "\n",
       "    .dataframe thead th {\n",
       "        text-align: right;\n",
       "    }\n",
       "</style>\n",
       "<table border=\"1\" class=\"dataframe\">\n",
       "  <thead>\n",
       "    <tr style=\"text-align: right;\">\n",
       "      <th></th>\n",
       "      <th>Inside Equity Geography</th>\n",
       "      <th>Outside Equity Geography</th>\n",
       "    </tr>\n",
       "    <tr>\n",
       "      <th>Equity Group</th>\n",
       "      <th></th>\n",
       "      <th></th>\n",
       "    </tr>\n",
       "  </thead>\n",
       "  <tbody>\n",
       "    <tr>\n",
       "      <th>hh_disability_reg</th>\n",
       "      <td>$2,522</td>\n",
       "      <td>$2,735</td>\n",
       "    </tr>\n",
       "    <tr>\n",
       "      <th>hh_elderly_reg</th>\n",
       "      <td>$2,789</td>\n",
       "      <td>$2,501</td>\n",
       "    </tr>\n",
       "    <tr>\n",
       "      <th>hh_english_reg</th>\n",
       "      <td>$2,542</td>\n",
       "      <td>$2,694</td>\n",
       "    </tr>\n",
       "    <tr>\n",
       "      <th>hh_poverty_reg</th>\n",
       "      <td>$2,321</td>\n",
       "      <td>$2,849</td>\n",
       "    </tr>\n",
       "    <tr>\n",
       "      <th>hh_racial_reg</th>\n",
       "      <td>$2,380</td>\n",
       "      <td>$2,855</td>\n",
       "    </tr>\n",
       "    <tr>\n",
       "      <th>hh_youth_reg</th>\n",
       "      <td>$3,115</td>\n",
       "      <td>$2,247</td>\n",
       "    </tr>\n",
       "    <tr>\n",
       "      <th>hh_poverty_50</th>\n",
       "      <td>$1,720</td>\n",
       "      <td>$2,658</td>\n",
       "    </tr>\n",
       "    <tr>\n",
       "      <th>hh_racial_50</th>\n",
       "      <td>$2,365</td>\n",
       "      <td>$2,761</td>\n",
       "    </tr>\n",
       "  </tbody>\n",
       "</table>\n",
       "</div>"
      ],
      "text/plain": [
       "                   Inside Equity Geography  Outside Equity Geography\n",
       "Equity Group                                                        \n",
       "hh_disability_reg                   $2,522                    $2,735\n",
       "hh_elderly_reg                      $2,789                    $2,501\n",
       "hh_english_reg                      $2,542                    $2,694\n",
       "hh_poverty_reg                      $2,321                    $2,849\n",
       "hh_racial_reg                       $2,380                    $2,855\n",
       "hh_youth_reg                        $3,115                    $2,247\n",
       "hh_poverty_50                       $1,720                    $2,658\n",
       "hh_racial_50                        $2,365                    $2,761"
      ]
     },
     "execution_count": 10,
     "metadata": {},
     "output_type": "execute_result"
    }
   ],
   "source": [
    "# get total intersections by equity geography\n",
    "df1 = df_person[equity_geogs].apply(lambda x: x * df_person['travcost_wt']).sum().reset_index()\n",
    "df1.columns = ['Equity Group', 'travcost_wt']\n",
    "df1.set_index('Equity Group', inplace=True)\n",
    "df1['hhexpfac'] = df_hh[equity_geogs].apply(lambda x: x * df_hh['hhexpfac']).sum()\n",
    "\n",
    "df1['Inside Equity Geography'] = (df1['travcost_wt'] / df1['hhexpfac']) * annual_factor\n",
    "\n",
    "# outside equity geographies\n",
    "df2 = df_person[equity_geogs].apply(lambda x: (1-x) * df_person['travcost_wt']).sum().reset_index()\n",
    "df2.columns = ['Equity Group', 'travcost_wt']\n",
    "df2.set_index('Equity Group', inplace=True)\n",
    "df2['hhexpfac'] = df_hh[equity_geogs].apply(lambda x: (1-x) * df_hh['hhexpfac']).sum()\n",
    "\n",
    "# add outside equity geographies costs\n",
    "df1['Outside Equity Geography'] = (df2['travcost_wt'] / df2['hhexpfac']) * annual_factor\n",
    "\n",
    "df1[['Inside Equity Geography','Outside Equity Geography']]"
   ]
  },
  {
   "cell_type": "raw",
   "id": "ea1f2da6",
   "metadata": {
    "execution": {
     "iopub.execute_input": "2025-05-06T19:53:04.628806Z",
     "iopub.status.busy": "2025-05-06T19:53:04.627809Z",
     "iopub.status.idle": "2025-05-06T19:53:04.637981Z",
     "shell.execute_reply": "2025-05-06T19:53:04.636976Z"
    },
    "vscode": {
     "languageId": "raw"
    }
   },
   "source": [
    ":::"
   ]
  }
 ],
 "metadata": {
  "kernelspec": {
   "display_name": "summary",
   "language": "python",
   "name": "python3"
  },
  "language_info": {
   "codemirror_mode": {
    "name": "ipython",
    "version": 3
   },
   "file_extension": ".py",
   "mimetype": "text/x-python",
   "name": "python",
   "nbconvert_exporter": "python",
   "pygments_lexer": "ipython3",
   "version": "3.11.12"
  }
 },
 "nbformat": 4,
 "nbformat_minor": 5
}
