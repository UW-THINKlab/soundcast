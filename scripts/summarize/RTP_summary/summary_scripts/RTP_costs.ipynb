{
 "cells": [
  {
   "cell_type": "raw",
   "id": "5288c708",
   "metadata": {
    "vscode": {
     "languageId": "raw"
    }
   },
   "source": [
    "---\n",
    "title: \"Household Transportation Costs\"\n",
    "date: today\n",
    "---"
   ]
  },
  {
   "cell_type": "markdown",
   "id": "29583245",
   "metadata": {},
   "source": [
    "- Average Annual Household Transportation Costs: Out-of-pocket expenses including tolls, parking, and transit fares\n",
    "\n",
    "    - These costs do not include other vehicle operating and purchase costs.\n",
    "\n",
    "    - Costs are annualized using factor of 300, as used in the 2018 RTP.\n"
   ]
  },
  {
   "cell_type": "code",
   "execution_count": 1,
   "id": "20b477a3",
   "metadata": {
    "execution": {
     "iopub.execute_input": "2025-06-19T05:04:09.568138Z",
     "iopub.status.busy": "2025-06-19T05:04:09.568138Z",
     "iopub.status.idle": "2025-06-19T05:04:10.655223Z",
     "shell.execute_reply": "2025-06-19T05:04:10.654715Z"
    }
   },
   "outputs": [],
   "source": [
    "import pandas as pd\n",
    "import polars as pl\n",
    "import toml\n",
    "from pathlib import Path\n",
    "from sqlalchemy import create_engine\n",
    "\n",
    "config = toml.load(Path.cwd() / '../../../../configuration/input_configuration.toml')\n",
    "summary_config = toml.load(Path.cwd() / '../../../../configuration/summary_configuration.toml')\n",
    "\n",
    "pd.set_option('display.float_format', '${:0,.0f}'.format)"
   ]
  },
  {
   "cell_type": "code",
   "execution_count": null,
   "id": "5a7bbb05",
   "metadata": {
    "execution": {
     "iopub.execute_input": "2025-06-19T05:04:10.661215Z",
     "iopub.status.busy": "2025-06-19T05:04:10.661215Z",
     "iopub.status.idle": "2025-06-19T05:04:10.669134Z",
     "shell.execute_reply": "2025-06-19T05:04:10.668131Z"
    }
   },
   "outputs": [],
   "source": [
    "# Relative path between notebooks and goruped output directories\n",
    "output_path = Path(summary_config['sc_run_path']) / summary_config[\"output_folder\"]\n",
    "survey_path = Path(summary_config['sc_run_path']) / summary_config[\"survey_folder\"]"
   ]
  },
  {
   "cell_type": "code",
   "execution_count": 3,
   "id": "dee19a06",
   "metadata": {
    "execution": {
     "iopub.execute_input": "2025-06-19T05:04:10.675118Z",
     "iopub.status.busy": "2025-06-19T05:04:10.674122Z",
     "iopub.status.idle": "2025-06-19T05:04:10.824543Z",
     "shell.execute_reply": "2025-06-19T05:04:10.823540Z"
    }
   },
   "outputs": [],
   "source": [
    "# person data\n",
    "person = pd.read_csv(output_path / 'agg/dash/person_cost.csv')\n",
    "# household data\n",
    "hh = pd.read_csv(output_path / 'agg/dash/hh_geog.csv')\n",
    "\n",
    "annual_factor = summary_config['weekday_to_annual']\n",
    "# list of equity geographies\n",
    "equity_geogs = summary_config['equity_geogs']\n",
    "not_equity_geogs = [\"NOT in \" + item for item in equity_geogs]"
   ]
  },
  {
   "cell_type": "code",
   "execution_count": 4,
   "id": "300357cc",
   "metadata": {
    "execution": {
     "iopub.execute_input": "2025-06-19T05:04:10.830734Z",
     "iopub.status.busy": "2025-06-19T05:04:10.829739Z",
     "iopub.status.idle": "2025-06-19T05:04:10.862100Z",
     "shell.execute_reply": "2025-06-19T05:04:10.861097Z"
    }
   },
   "outputs": [],
   "source": [
    "df_person = person.copy()\n",
    "df_person['is_rgc'] = \"In RGC\"\n",
    "df_person.loc[df_person['hh_rgc'] != 'Not in RGC', 'is_rgc'] = \"Not in RGC\"\n",
    "# included modes\n",
    "# TODO: ask what this means\n",
    "df_person = df_person[(df_person['mode'].isin(['SOV','HOV2','HOV3+']) & (df_person['dorp'] == 1)) \n",
    "                      | (~df_person['mode'].isin(['SOV','HOV2','HOV3+']))]\n",
    "\n",
    "df_hh = hh.copy()\n",
    "df_hh['is_rgc'] = \"In RGC\"\n",
    "df_hh.loc[df_hh['hh_rgc'] != 'Not in RGC', 'is_rgc'] = \"Not in RGC\""
   ]
  },
  {
   "cell_type": "code",
   "execution_count": 5,
   "id": "a2a024ae",
   "metadata": {
    "execution": {
     "iopub.execute_input": "2025-06-19T05:04:10.868082Z",
     "iopub.status.busy": "2025-06-19T05:04:10.867088Z",
     "iopub.status.idle": "2025-06-19T05:04:10.877120Z",
     "shell.execute_reply": "2025-06-19T05:04:10.876115Z"
    }
   },
   "outputs": [],
   "source": [
    "def annual_costs(geog):\n",
    "    df = df_person.groupby(geog, as_index=False)['travcost_wt'].sum().set_index(geog)\n",
    "    df['hhexpfac'] = df_hh.groupby(geog)['hhexpfac'].sum()\n",
    "\n",
    "    df.loc['Region'] = [df_person['travcost_wt'].sum(), df_hh['hhexpfac'].sum()]\n",
    "    df['Average Annual Costs'] = (df['travcost_wt'] / df['hhexpfac']) * annual_factor\n",
    "\n",
    "    return df[['Average Annual Costs']]"
   ]
  },
  {
   "cell_type": "raw",
   "id": "9fffaab9",
   "metadata": {
    "vscode": {
     "languageId": "raw"
    }
   },
   "source": [
    ":::{.panel-tabset\n",
    "## County"
   ]
  },
  {
   "cell_type": "code",
   "execution_count": 6,
   "id": "36f9fab3",
   "metadata": {
    "execution": {
     "iopub.execute_input": "2025-06-19T05:04:10.882105Z",
     "iopub.status.busy": "2025-06-19T05:04:10.882105Z",
     "iopub.status.idle": "2025-06-19T05:04:10.916386Z",
     "shell.execute_reply": "2025-06-19T05:04:10.915383Z"
    }
   },
   "outputs": [
    {
     "data": {
      "text/html": [
       "<div>\n",
       "<style scoped>\n",
       "    .dataframe tbody tr th:only-of-type {\n",
       "        vertical-align: middle;\n",
       "    }\n",
       "\n",
       "    .dataframe tbody tr th {\n",
       "        vertical-align: top;\n",
       "    }\n",
       "\n",
       "    .dataframe thead th {\n",
       "        text-align: right;\n",
       "    }\n",
       "</style>\n",
       "<table border=\"1\" class=\"dataframe\">\n",
       "  <thead>\n",
       "    <tr style=\"text-align: right;\">\n",
       "      <th></th>\n",
       "      <th>Average Annual Costs</th>\n",
       "    </tr>\n",
       "    <tr>\n",
       "      <th>hh_county</th>\n",
       "      <th></th>\n",
       "    </tr>\n",
       "  </thead>\n",
       "  <tbody>\n",
       "    <tr>\n",
       "      <th>King</th>\n",
       "      <td>$3,002</td>\n",
       "    </tr>\n",
       "    <tr>\n",
       "      <th>Kitsap</th>\n",
       "      <td>$3,938</td>\n",
       "    </tr>\n",
       "    <tr>\n",
       "      <th>Outside Region</th>\n",
       "      <td>$8,637</td>\n",
       "    </tr>\n",
       "    <tr>\n",
       "      <th>Pierce</th>\n",
       "      <td>$3,524</td>\n",
       "    </tr>\n",
       "    <tr>\n",
       "      <th>Snohomish</th>\n",
       "      <td>$3,770</td>\n",
       "    </tr>\n",
       "    <tr>\n",
       "      <th>Region</th>\n",
       "      <td>$3,321</td>\n",
       "    </tr>\n",
       "  </tbody>\n",
       "</table>\n",
       "</div>"
      ],
      "text/plain": [
       "                Average Annual Costs\n",
       "hh_county                           \n",
       "King                          $3,002\n",
       "Kitsap                        $3,938\n",
       "Outside Region                $8,637\n",
       "Pierce                        $3,524\n",
       "Snohomish                     $3,770\n",
       "Region                        $3,321"
      ]
     },
     "execution_count": 6,
     "metadata": {},
     "output_type": "execute_result"
    }
   ],
   "source": [
    "annual_costs('hh_county')"
   ]
  },
  {
   "cell_type": "raw",
   "id": "22d701e5",
   "metadata": {},
   "source": [
    "## Regional Growth Center"
   ]
  },
  {
   "cell_type": "code",
   "execution_count": 7,
   "id": "a469e394",
   "metadata": {
    "execution": {
     "iopub.execute_input": "2025-06-19T05:04:10.921375Z",
     "iopub.status.busy": "2025-06-19T05:04:10.920388Z",
     "iopub.status.idle": "2025-06-19T05:04:10.947634Z",
     "shell.execute_reply": "2025-06-19T05:04:10.946631Z"
    }
   },
   "outputs": [
    {
     "data": {
      "text/html": [
       "<div>\n",
       "<style scoped>\n",
       "    .dataframe tbody tr th:only-of-type {\n",
       "        vertical-align: middle;\n",
       "    }\n",
       "\n",
       "    .dataframe tbody tr th {\n",
       "        vertical-align: top;\n",
       "    }\n",
       "\n",
       "    .dataframe thead th {\n",
       "        text-align: right;\n",
       "    }\n",
       "</style>\n",
       "<table border=\"1\" class=\"dataframe\">\n",
       "  <thead>\n",
       "    <tr style=\"text-align: right;\">\n",
       "      <th></th>\n",
       "      <th>Average Annual Costs</th>\n",
       "    </tr>\n",
       "    <tr>\n",
       "      <th>is_rgc</th>\n",
       "      <th></th>\n",
       "    </tr>\n",
       "  </thead>\n",
       "  <tbody>\n",
       "    <tr>\n",
       "      <th>In RGC</th>\n",
       "      <td>$3,776</td>\n",
       "    </tr>\n",
       "    <tr>\n",
       "      <th>Not in RGC</th>\n",
       "      <td>$1,312</td>\n",
       "    </tr>\n",
       "    <tr>\n",
       "      <th>Region</th>\n",
       "      <td>$3,321</td>\n",
       "    </tr>\n",
       "  </tbody>\n",
       "</table>\n",
       "</div>"
      ],
      "text/plain": [
       "            Average Annual Costs\n",
       "is_rgc                          \n",
       "In RGC                    $3,776\n",
       "Not in RGC                $1,312\n",
       "Region                    $3,321"
      ]
     },
     "execution_count": 7,
     "metadata": {},
     "output_type": "execute_result"
    }
   ],
   "source": [
    "annual_costs('is_rgc')"
   ]
  },
  {
   "cell_type": "code",
   "execution_count": 8,
   "id": "f5553a7d",
   "metadata": {
    "execution": {
     "iopub.execute_input": "2025-06-19T05:04:10.952619Z",
     "iopub.status.busy": "2025-06-19T05:04:10.951622Z",
     "iopub.status.idle": "2025-06-19T05:04:10.979805Z",
     "shell.execute_reply": "2025-06-19T05:04:10.978802Z"
    }
   },
   "outputs": [
    {
     "data": {
      "text/html": [
       "<div>\n",
       "<style scoped>\n",
       "    .dataframe tbody tr th:only-of-type {\n",
       "        vertical-align: middle;\n",
       "    }\n",
       "\n",
       "    .dataframe tbody tr th {\n",
       "        vertical-align: top;\n",
       "    }\n",
       "\n",
       "    .dataframe thead th {\n",
       "        text-align: right;\n",
       "    }\n",
       "</style>\n",
       "<table border=\"1\" class=\"dataframe\">\n",
       "  <thead>\n",
       "    <tr style=\"text-align: right;\">\n",
       "      <th></th>\n",
       "      <th>Average Annual Costs</th>\n",
       "    </tr>\n",
       "    <tr>\n",
       "      <th>hh_rgc</th>\n",
       "      <th></th>\n",
       "    </tr>\n",
       "  </thead>\n",
       "  <tbody>\n",
       "    <tr>\n",
       "      <th>Auburn</th>\n",
       "      <td>$2,109</td>\n",
       "    </tr>\n",
       "    <tr>\n",
       "      <th>Bellevue</th>\n",
       "      <td>$964</td>\n",
       "    </tr>\n",
       "    <tr>\n",
       "      <th>Bothell Canyon Park</th>\n",
       "      <td>$3,389</td>\n",
       "    </tr>\n",
       "    <tr>\n",
       "      <th>Bremerton</th>\n",
       "      <td>$1,060</td>\n",
       "    </tr>\n",
       "    <tr>\n",
       "      <th>Burien</th>\n",
       "      <td>$2,525</td>\n",
       "    </tr>\n",
       "    <tr>\n",
       "      <th>Everett</th>\n",
       "      <td>$782</td>\n",
       "    </tr>\n",
       "    <tr>\n",
       "      <th>Federal Way</th>\n",
       "      <td>$2,622</td>\n",
       "    </tr>\n",
       "    <tr>\n",
       "      <th>Greater Downtown Kirkland</th>\n",
       "      <td>$2,626</td>\n",
       "    </tr>\n",
       "    <tr>\n",
       "      <th>Issaquah</th>\n",
       "      <td>$2,132</td>\n",
       "    </tr>\n",
       "    <tr>\n",
       "      <th>Kent</th>\n",
       "      <td>$1,492</td>\n",
       "    </tr>\n",
       "    <tr>\n",
       "      <th>Kirkland Totem Lake</th>\n",
       "      <td>$2,155</td>\n",
       "    </tr>\n",
       "    <tr>\n",
       "      <th>Lakewood</th>\n",
       "      <td>$1,676</td>\n",
       "    </tr>\n",
       "    <tr>\n",
       "      <th>Lynnwood</th>\n",
       "      <td>$2,280</td>\n",
       "    </tr>\n",
       "    <tr>\n",
       "      <th>Not in RGC</th>\n",
       "      <td>$3,776</td>\n",
       "    </tr>\n",
       "    <tr>\n",
       "      <th>Puyallup Downtown</th>\n",
       "      <td>$2,137</td>\n",
       "    </tr>\n",
       "    <tr>\n",
       "      <th>Puyallup South Hill</th>\n",
       "      <td>$2,426</td>\n",
       "    </tr>\n",
       "    <tr>\n",
       "      <th>Redmond Downtown</th>\n",
       "      <td>$1,749</td>\n",
       "    </tr>\n",
       "    <tr>\n",
       "      <th>Redmond-Overlake</th>\n",
       "      <td>$1,772</td>\n",
       "    </tr>\n",
       "    <tr>\n",
       "      <th>Renton</th>\n",
       "      <td>$2,308</td>\n",
       "    </tr>\n",
       "    <tr>\n",
       "      <th>SeaTac</th>\n",
       "      <td>$2,667</td>\n",
       "    </tr>\n",
       "    <tr>\n",
       "      <th>Seattle Downtown</th>\n",
       "      <td>$565</td>\n",
       "    </tr>\n",
       "    <tr>\n",
       "      <th>Seattle First Hill/Capitol Hill</th>\n",
       "      <td>$801</td>\n",
       "    </tr>\n",
       "    <tr>\n",
       "      <th>Seattle Northgate</th>\n",
       "      <td>$2,092</td>\n",
       "    </tr>\n",
       "    <tr>\n",
       "      <th>Seattle South Lake Union</th>\n",
       "      <td>$670</td>\n",
       "    </tr>\n",
       "    <tr>\n",
       "      <th>Seattle University Community</th>\n",
       "      <td>$1,472</td>\n",
       "    </tr>\n",
       "    <tr>\n",
       "      <th>Seattle Uptown</th>\n",
       "      <td>$959</td>\n",
       "    </tr>\n",
       "    <tr>\n",
       "      <th>Silverdale</th>\n",
       "      <td>$1,117</td>\n",
       "    </tr>\n",
       "    <tr>\n",
       "      <th>Tacoma Downtown</th>\n",
       "      <td>$857</td>\n",
       "    </tr>\n",
       "    <tr>\n",
       "      <th>Tacoma Mall</th>\n",
       "      <td>$1,563</td>\n",
       "    </tr>\n",
       "    <tr>\n",
       "      <th>Tukwila</th>\n",
       "      <td>$2,390</td>\n",
       "    </tr>\n",
       "    <tr>\n",
       "      <th>University Place</th>\n",
       "      <td>$2,208</td>\n",
       "    </tr>\n",
       "    <tr>\n",
       "      <th>Region</th>\n",
       "      <td>$3,321</td>\n",
       "    </tr>\n",
       "  </tbody>\n",
       "</table>\n",
       "</div>"
      ],
      "text/plain": [
       "                                 Average Annual Costs\n",
       "hh_rgc                                               \n",
       "Auburn                                         $2,109\n",
       "Bellevue                                         $964\n",
       "Bothell Canyon Park                            $3,389\n",
       "Bremerton                                      $1,060\n",
       "Burien                                         $2,525\n",
       "Everett                                          $782\n",
       "Federal Way                                    $2,622\n",
       "Greater Downtown Kirkland                      $2,626\n",
       "Issaquah                                       $2,132\n",
       "Kent                                           $1,492\n",
       "Kirkland Totem Lake                            $2,155\n",
       "Lakewood                                       $1,676\n",
       "Lynnwood                                       $2,280\n",
       "Not in RGC                                     $3,776\n",
       "Puyallup Downtown                              $2,137\n",
       "Puyallup South Hill                            $2,426\n",
       "Redmond Downtown                               $1,749\n",
       "Redmond-Overlake                               $1,772\n",
       "Renton                                         $2,308\n",
       "SeaTac                                         $2,667\n",
       "Seattle Downtown                                 $565\n",
       "Seattle First Hill/Capitol Hill                  $801\n",
       "Seattle Northgate                              $2,092\n",
       "Seattle South Lake Union                         $670\n",
       "Seattle University Community                   $1,472\n",
       "Seattle Uptown                                   $959\n",
       "Silverdale                                     $1,117\n",
       "Tacoma Downtown                                  $857\n",
       "Tacoma Mall                                    $1,563\n",
       "Tukwila                                        $2,390\n",
       "University Place                               $2,208\n",
       "Region                                         $3,321"
      ]
     },
     "execution_count": 8,
     "metadata": {},
     "output_type": "execute_result"
    }
   ],
   "source": [
    "annual_costs('hh_rgc')"
   ]
  },
  {
   "cell_type": "raw",
   "id": "0bd99560",
   "metadata": {},
   "source": [
    "## Regional Geography"
   ]
  },
  {
   "cell_type": "code",
   "execution_count": 9,
   "id": "ddc6600e",
   "metadata": {
    "execution": {
     "iopub.execute_input": "2025-06-19T05:04:10.984348Z",
     "iopub.status.busy": "2025-06-19T05:04:10.984348Z",
     "iopub.status.idle": "2025-06-19T05:04:11.005712Z",
     "shell.execute_reply": "2025-06-19T05:04:11.005712Z"
    }
   },
   "outputs": [
    {
     "data": {
      "text/html": [
       "<div>\n",
       "<style scoped>\n",
       "    .dataframe tbody tr th:only-of-type {\n",
       "        vertical-align: middle;\n",
       "    }\n",
       "\n",
       "    .dataframe tbody tr th {\n",
       "        vertical-align: top;\n",
       "    }\n",
       "\n",
       "    .dataframe thead th {\n",
       "        text-align: right;\n",
       "    }\n",
       "</style>\n",
       "<table border=\"1\" class=\"dataframe\">\n",
       "  <thead>\n",
       "    <tr style=\"text-align: right;\">\n",
       "      <th></th>\n",
       "      <th>Average Annual Costs</th>\n",
       "    </tr>\n",
       "    <tr>\n",
       "      <th>hh_rg_proposed</th>\n",
       "      <th></th>\n",
       "    </tr>\n",
       "  </thead>\n",
       "  <tbody>\n",
       "    <tr>\n",
       "      <th>CitiesTowns</th>\n",
       "      <td>$4,715</td>\n",
       "    </tr>\n",
       "    <tr>\n",
       "      <th>Core</th>\n",
       "      <td>$3,181</td>\n",
       "    </tr>\n",
       "    <tr>\n",
       "      <th>HCT</th>\n",
       "      <td>$3,751</td>\n",
       "    </tr>\n",
       "    <tr>\n",
       "      <th>Metro</th>\n",
       "      <td>$1,993</td>\n",
       "    </tr>\n",
       "    <tr>\n",
       "      <th>UU</th>\n",
       "      <td>$4,478</td>\n",
       "    </tr>\n",
       "    <tr>\n",
       "      <th>Region</th>\n",
       "      <td>$3,321</td>\n",
       "    </tr>\n",
       "  </tbody>\n",
       "</table>\n",
       "</div>"
      ],
      "text/plain": [
       "                Average Annual Costs\n",
       "hh_rg_proposed                      \n",
       "CitiesTowns                   $4,715\n",
       "Core                          $3,181\n",
       "HCT                           $3,751\n",
       "Metro                         $1,993\n",
       "UU                            $4,478\n",
       "Region                        $3,321"
      ]
     },
     "execution_count": 9,
     "metadata": {},
     "output_type": "execute_result"
    }
   ],
   "source": [
    "annual_costs('hh_rg_proposed')"
   ]
  },
  {
   "cell_type": "raw",
   "id": "a2027e5d",
   "metadata": {},
   "source": [
    "## Equity Geography"
   ]
  },
  {
   "cell_type": "code",
   "execution_count": 10,
   "id": "917aca57",
   "metadata": {
    "execution": {
     "iopub.execute_input": "2025-06-19T05:04:11.011702Z",
     "iopub.status.busy": "2025-06-19T05:04:11.010703Z",
     "iopub.status.idle": "2025-06-19T05:04:11.054158Z",
     "shell.execute_reply": "2025-06-19T05:04:11.053156Z"
    }
   },
   "outputs": [
    {
     "data": {
      "text/html": [
       "<div>\n",
       "<style scoped>\n",
       "    .dataframe tbody tr th:only-of-type {\n",
       "        vertical-align: middle;\n",
       "    }\n",
       "\n",
       "    .dataframe tbody tr th {\n",
       "        vertical-align: top;\n",
       "    }\n",
       "\n",
       "    .dataframe thead th {\n",
       "        text-align: right;\n",
       "    }\n",
       "</style>\n",
       "<table border=\"1\" class=\"dataframe\">\n",
       "  <thead>\n",
       "    <tr style=\"text-align: right;\">\n",
       "      <th></th>\n",
       "      <th>Inside Equity Geography</th>\n",
       "      <th>Outside Equity Geography</th>\n",
       "    </tr>\n",
       "    <tr>\n",
       "      <th>Equity Group</th>\n",
       "      <th></th>\n",
       "      <th></th>\n",
       "    </tr>\n",
       "  </thead>\n",
       "  <tbody>\n",
       "    <tr>\n",
       "      <th>hh_disability_reg</th>\n",
       "      <td>$3,117</td>\n",
       "      <td>$3,518</td>\n",
       "    </tr>\n",
       "    <tr>\n",
       "      <th>hh_elderly_reg</th>\n",
       "      <td>$3,593</td>\n",
       "      <td>$3,087</td>\n",
       "    </tr>\n",
       "    <tr>\n",
       "      <th>hh_english_reg</th>\n",
       "      <td>$3,099</td>\n",
       "      <td>$3,465</td>\n",
       "    </tr>\n",
       "    <tr>\n",
       "      <th>hh_poverty_reg</th>\n",
       "      <td>$2,823</td>\n",
       "      <td>$3,715</td>\n",
       "    </tr>\n",
       "    <tr>\n",
       "      <th>hh_racial_reg</th>\n",
       "      <td>$2,873</td>\n",
       "      <td>$3,742</td>\n",
       "    </tr>\n",
       "    <tr>\n",
       "      <th>hh_youth_reg</th>\n",
       "      <td>$4,078</td>\n",
       "      <td>$2,778</td>\n",
       "    </tr>\n",
       "    <tr>\n",
       "      <th>hh_poverty_50</th>\n",
       "      <td>$1,937</td>\n",
       "      <td>$3,362</td>\n",
       "    </tr>\n",
       "    <tr>\n",
       "      <th>hh_racial_50</th>\n",
       "      <td>$2,816</td>\n",
       "      <td>$3,572</td>\n",
       "    </tr>\n",
       "  </tbody>\n",
       "</table>\n",
       "</div>"
      ],
      "text/plain": [
       "                   Inside Equity Geography  Outside Equity Geography\n",
       "Equity Group                                                        \n",
       "hh_disability_reg                   $3,117                    $3,518\n",
       "hh_elderly_reg                      $3,593                    $3,087\n",
       "hh_english_reg                      $3,099                    $3,465\n",
       "hh_poverty_reg                      $2,823                    $3,715\n",
       "hh_racial_reg                       $2,873                    $3,742\n",
       "hh_youth_reg                        $4,078                    $2,778\n",
       "hh_poverty_50                       $1,937                    $3,362\n",
       "hh_racial_50                        $2,816                    $3,572"
      ]
     },
     "execution_count": 10,
     "metadata": {},
     "output_type": "execute_result"
    }
   ],
   "source": [
    "# get total intersections by equity geography\n",
    "df1 = df_person[equity_geogs].apply(lambda x: x * df_person['travcost_wt']).sum().reset_index()\n",
    "df1.columns = ['Equity Group', 'travcost_wt']\n",
    "df1.set_index('Equity Group', inplace=True)\n",
    "df1['hhexpfac'] = df_hh[equity_geogs].apply(lambda x: x * df_hh['hhexpfac']).sum()\n",
    "\n",
    "df1['Inside Equity Geography'] = (df1['travcost_wt'] / df1['hhexpfac']) * annual_factor\n",
    "\n",
    "# outside equity geographies\n",
    "df2 = df_person[equity_geogs].apply(lambda x: (1-x) * df_person['travcost_wt']).sum().reset_index()\n",
    "df2.columns = ['Equity Group', 'travcost_wt']\n",
    "df2.set_index('Equity Group', inplace=True)\n",
    "df2['hhexpfac'] = df_hh[equity_geogs].apply(lambda x: (1-x) * df_hh['hhexpfac']).sum()\n",
    "\n",
    "# add outside equity geographies costs\n",
    "df1['Outside Equity Geography'] = (df2['travcost_wt'] / df2['hhexpfac']) * annual_factor\n",
    "\n",
    "df1[['Inside Equity Geography','Outside Equity Geography']]"
   ]
  },
  {
   "cell_type": "raw",
   "id": "ea1f2da6",
   "metadata": {
    "execution": {
     "iopub.execute_input": "2025-05-06T19:53:04.628806Z",
     "iopub.status.busy": "2025-05-06T19:53:04.627809Z",
     "iopub.status.idle": "2025-05-06T19:53:04.637981Z",
     "shell.execute_reply": "2025-05-06T19:53:04.636976Z"
    },
    "vscode": {
     "languageId": "raw"
    }
   },
   "source": [
    ":::"
   ]
  }
 ],
 "metadata": {
  "kernelspec": {
   "display_name": "summary",
   "language": "python",
   "name": "python3"
  },
  "language_info": {
   "codemirror_mode": {
    "name": "ipython",
    "version": 3
   },
   "file_extension": ".py",
   "mimetype": "text/x-python",
   "name": "python",
   "nbconvert_exporter": "python",
   "pygments_lexer": "ipython3",
   "version": "3.11.12"
  }
 },
 "nbformat": 4,
 "nbformat_minor": 5
}
