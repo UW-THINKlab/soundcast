{
 "cells": [
  {
   "cell_type": "raw",
   "id": "ccc9e13b",
   "metadata": {
    "vscode": {
     "languageId": "raw"
    }
   },
   "source": [
    "---\n",
    "title: \"Freight\"\n",
    "date: today\n",
    "---"
   ]
  },
  {
   "cell_type": "code",
   "execution_count": 1,
   "id": "a424ffdb",
   "metadata": {
    "execution": {
     "iopub.execute_input": "2025-07-17T22:27:34.706349Z",
     "iopub.status.busy": "2025-07-17T22:27:34.706349Z",
     "iopub.status.idle": "2025-07-17T22:27:41.129280Z",
     "shell.execute_reply": "2025-07-17T22:27:41.129280Z"
    }
   },
   "outputs": [],
   "source": [
    "import os\n",
    "import pandas as pd\n",
    "import numpy as np\n",
    "from sqlalchemy import create_engine,text\n",
    "from scipy import stats\n",
    "import plotly.express as px\n",
    "import toml\n",
    "import geopandas as gpd\n",
    "import plotly.express as px\n",
    "import plotly.graph_objects as go\n",
    "import h5py\n",
    "from functions import process_network_summary\n",
    "\n",
    "%matplotlib inline\n",
    "from IPython.display import display, HTML\n",
    "\n",
    "pd.options.display.float_format = '{:0,.0f}'.format"
   ]
  },
  {
   "cell_type": "code",
   "execution_count": 2,
   "id": "60af24f3",
   "metadata": {
    "execution": {
     "iopub.execute_input": "2025-07-17T22:27:41.133269Z",
     "iopub.status.busy": "2025-07-17T22:27:41.132272Z",
     "iopub.status.idle": "2025-07-17T22:27:49.869197Z",
     "shell.execute_reply": "2025-07-17T22:27:49.868209Z"
    }
   },
   "outputs": [],
   "source": [
    "df = process_network_summary()"
   ]
  },
  {
   "cell_type": "markdown",
   "id": "44ea95af",
   "metadata": {
    "vscode": {
     "languageId": "raw"
    }
   },
   "source": [
    "# Truck VMT by County\n"
   ]
  },
  {
   "cell_type": "code",
   "execution_count": 3,
   "id": "a3f736aa",
   "metadata": {
    "execution": {
     "iopub.execute_input": "2025-07-17T22:27:49.873186Z",
     "iopub.status.busy": "2025-07-17T22:27:49.873186Z",
     "iopub.status.idle": "2025-07-17T22:27:49.959820Z",
     "shell.execute_reply": "2025-07-17T22:27:49.959299Z"
    }
   },
   "outputs": [
    {
     "data": {
      "text/html": [
       "<div>\n",
       "<style scoped>\n",
       "    .dataframe tbody tr th:only-of-type {\n",
       "        vertical-align: middle;\n",
       "    }\n",
       "\n",
       "    .dataframe tbody tr th {\n",
       "        vertical-align: top;\n",
       "    }\n",
       "\n",
       "    .dataframe thead th {\n",
       "        text-align: right;\n",
       "    }\n",
       "</style>\n",
       "<table border=\"1\" class=\"dataframe\">\n",
       "  <thead>\n",
       "    <tr style=\"text-align: right;\">\n",
       "      <th></th>\n",
       "      <th>County</th>\n",
       "      <th>Medium Trucks</th>\n",
       "      <th>Heavy Trucks</th>\n",
       "    </tr>\n",
       "  </thead>\n",
       "  <tbody>\n",
       "    <tr>\n",
       "      <th>0</th>\n",
       "      <td>King</td>\n",
       "      <td>1,956,019</td>\n",
       "      <td>1,417,345</td>\n",
       "    </tr>\n",
       "    <tr>\n",
       "      <th>1</th>\n",
       "      <td>Kitsap</td>\n",
       "      <td>145,016</td>\n",
       "      <td>90,382</td>\n",
       "    </tr>\n",
       "    <tr>\n",
       "      <th>2</th>\n",
       "      <td>Outside Region</td>\n",
       "      <td>21</td>\n",
       "      <td>22,280</td>\n",
       "    </tr>\n",
       "    <tr>\n",
       "      <th>3</th>\n",
       "      <td>Pierce</td>\n",
       "      <td>549,340</td>\n",
       "      <td>539,811</td>\n",
       "    </tr>\n",
       "    <tr>\n",
       "      <th>4</th>\n",
       "      <td>Snohomish</td>\n",
       "      <td>551,392</td>\n",
       "      <td>534,327</td>\n",
       "    </tr>\n",
       "    <tr>\n",
       "      <th>5</th>\n",
       "      <td>Total</td>\n",
       "      <td>3,201,788</td>\n",
       "      <td>2,604,147</td>\n",
       "    </tr>\n",
       "  </tbody>\n",
       "</table>\n",
       "</div>"
      ],
      "text/plain": [
       "           County  Medium Trucks  Heavy Trucks\n",
       "0            King      1,956,019     1,417,345\n",
       "1          Kitsap        145,016        90,382\n",
       "2  Outside Region             21        22,280\n",
       "3          Pierce        549,340       539,811\n",
       "4       Snohomish        551,392       534,327\n",
       "5           Total      3,201,788     2,604,147"
      ]
     },
     "execution_count": 3,
     "metadata": {},
     "output_type": "execute_result"
    }
   ],
   "source": [
    "\n",
    "df['medium_truck_vmt'] = df['@mveh']*df['length']\n",
    "df['heavy_truck_vmt'] = df['@hveh']*df['length']\n",
    "_df = df[['medium_truck_vmt','heavy_truck_vmt','county']].groupby('county').sum()[['medium_truck_vmt','heavy_truck_vmt']]\n",
    "_df.loc['Total',:] = _df.sum()\n",
    "_df = _df.reset_index()\n",
    "_df.rename(columns={'county':'County', 'medium_truck_vmt': 'Medium Trucks', 'heavy_truck_vmt': 'Heavy Trucks'}, inplace=True)\n",
    "_df\n"
   ]
  },
  {
   "cell_type": "markdown",
   "id": "f9d760c7",
   "metadata": {
    "vscode": {
     "languageId": "raw"
    }
   },
   "source": [
    "# Congestion by County"
   ]
  },
  {
   "cell_type": "raw",
   "id": "01e77a70",
   "metadata": {
    "vscode": {
     "languageId": "raw"
    }
   },
   "source": [
    ":::{.panel-tabset}\n",
    "### AM Peak (5 - 9 am)"
   ]
  },
  {
   "cell_type": "code",
   "execution_count": 4,
   "id": "affeba4d",
   "metadata": {
    "execution": {
     "iopub.execute_input": "2025-07-17T22:27:49.963803Z",
     "iopub.status.busy": "2025-07-17T22:27:49.962809Z",
     "iopub.status.idle": "2025-07-17T22:27:50.158549Z",
     "shell.execute_reply": "2025-07-17T22:27:50.157564Z"
    }
   },
   "outputs": [
    {
     "data": {
      "text/html": [
       "<div>\n",
       "<style scoped>\n",
       "    .dataframe tbody tr th:only-of-type {\n",
       "        vertical-align: middle;\n",
       "    }\n",
       "\n",
       "    .dataframe tbody tr th {\n",
       "        vertical-align: top;\n",
       "    }\n",
       "\n",
       "    .dataframe thead th {\n",
       "        text-align: right;\n",
       "    }\n",
       "</style>\n",
       "<table border=\"1\" class=\"dataframe\">\n",
       "  <thead>\n",
       "    <tr style=\"text-align: right;\">\n",
       "      <th></th>\n",
       "      <th>King</th>\n",
       "      <th>Kitsap</th>\n",
       "      <th>Outside Region</th>\n",
       "      <th>Pierce</th>\n",
       "      <th>Snohomish</th>\n",
       "    </tr>\n",
       "  </thead>\n",
       "  <tbody>\n",
       "    <tr>\n",
       "      <th>Light</th>\n",
       "      <td>614,182</td>\n",
       "      <td>56,178</td>\n",
       "      <td>5,619</td>\n",
       "      <td>232,892</td>\n",
       "      <td>235,207</td>\n",
       "    </tr>\n",
       "    <tr>\n",
       "      <th>Moderate</th>\n",
       "      <td>138,760</td>\n",
       "      <td>674</td>\n",
       "      <td>NaN</td>\n",
       "      <td>33,508</td>\n",
       "      <td>24,960</td>\n",
       "    </tr>\n",
       "    <tr>\n",
       "      <th>Heavy</th>\n",
       "      <td>88,887</td>\n",
       "      <td>1,219</td>\n",
       "      <td>NaN</td>\n",
       "      <td>6,393</td>\n",
       "      <td>11,572</td>\n",
       "    </tr>\n",
       "    <tr>\n",
       "      <th>Severe</th>\n",
       "      <td>5,637</td>\n",
       "      <td>47</td>\n",
       "      <td>0</td>\n",
       "      <td>466</td>\n",
       "      <td>456</td>\n",
       "    </tr>\n",
       "    <tr>\n",
       "      <th>Total</th>\n",
       "      <td>847,465</td>\n",
       "      <td>58,118</td>\n",
       "      <td>5,619</td>\n",
       "      <td>273,259</td>\n",
       "      <td>272,195</td>\n",
       "    </tr>\n",
       "  </tbody>\n",
       "</table>\n",
       "</div>"
      ],
      "text/plain": [
       "            King  Kitsap  Outside Region  Pierce  Snohomish\n",
       "Light    614,182  56,178           5,619 232,892    235,207\n",
       "Moderate 138,760     674             NaN  33,508     24,960\n",
       "Heavy     88,887   1,219             NaN   6,393     11,572\n",
       "Severe     5,637      47               0     466        456\n",
       "Total    847,465  58,118           5,619 273,259    272,195"
      ]
     },
     "execution_count": 4,
     "metadata": {},
     "output_type": "execute_result"
    }
   ],
   "source": [
    "df['Medium and Heavy Trucks'] = df['heavy_truck_vmt']+df['medium_truck_vmt']\n",
    "\n",
    "_df = df[df['tod'].isin(['5to6','6to7','7to8','8to9'])]\n",
    "_df = _df.pivot_table(index='congestion_category',columns='county',\n",
    "               aggfunc='sum',values='Medium and Heavy Trucks')\n",
    "_df = _df.reindex(['Light','Moderate','Heavy','Severe'])\n",
    "_df.index.name = None\n",
    "_df.columns.name = None\n",
    "_df.loc['Total',:] = _df.sum()\n",
    "_df"
   ]
  },
  {
   "cell_type": "raw",
   "id": "637ce9c7",
   "metadata": {
    "vscode": {
     "languageId": "raw"
    }
   },
   "source": [
    "### PM Peak (3 - 6 pm)"
   ]
  },
  {
   "cell_type": "code",
   "execution_count": 5,
   "id": "576b1dd9",
   "metadata": {
    "execution": {
     "iopub.execute_input": "2025-07-17T22:27:50.163170Z",
     "iopub.status.busy": "2025-07-17T22:27:50.163170Z",
     "iopub.status.idle": "2025-07-17T22:27:50.286626Z",
     "shell.execute_reply": "2025-07-17T22:27:50.285623Z"
    }
   },
   "outputs": [
    {
     "data": {
      "text/html": [
       "<div>\n",
       "<style scoped>\n",
       "    .dataframe tbody tr th:only-of-type {\n",
       "        vertical-align: middle;\n",
       "    }\n",
       "\n",
       "    .dataframe tbody tr th {\n",
       "        vertical-align: top;\n",
       "    }\n",
       "\n",
       "    .dataframe thead th {\n",
       "        text-align: right;\n",
       "    }\n",
       "</style>\n",
       "<table border=\"1\" class=\"dataframe\">\n",
       "  <thead>\n",
       "    <tr style=\"text-align: right;\">\n",
       "      <th></th>\n",
       "      <th>King</th>\n",
       "      <th>Kitsap</th>\n",
       "      <th>Outside Region</th>\n",
       "      <th>Pierce</th>\n",
       "      <th>Snohomish</th>\n",
       "    </tr>\n",
       "  </thead>\n",
       "  <tbody>\n",
       "    <tr>\n",
       "      <th>Light</th>\n",
       "      <td>352,832</td>\n",
       "      <td>32,838</td>\n",
       "      <td>3,301</td>\n",
       "      <td>135,995</td>\n",
       "      <td>134,757</td>\n",
       "    </tr>\n",
       "    <tr>\n",
       "      <th>Moderate</th>\n",
       "      <td>97,149</td>\n",
       "      <td>650</td>\n",
       "      <td>1</td>\n",
       "      <td>19,533</td>\n",
       "      <td>19,552</td>\n",
       "    </tr>\n",
       "    <tr>\n",
       "      <th>Heavy</th>\n",
       "      <td>44,397</td>\n",
       "      <td>639</td>\n",
       "      <td>NaN</td>\n",
       "      <td>4,371</td>\n",
       "      <td>5,108</td>\n",
       "    </tr>\n",
       "    <tr>\n",
       "      <th>Severe</th>\n",
       "      <td>2,936</td>\n",
       "      <td>45</td>\n",
       "      <td>0</td>\n",
       "      <td>324</td>\n",
       "      <td>305</td>\n",
       "    </tr>\n",
       "    <tr>\n",
       "      <th>Total</th>\n",
       "      <td>497,314</td>\n",
       "      <td>34,171</td>\n",
       "      <td>3,302</td>\n",
       "      <td>160,222</td>\n",
       "      <td>159,722</td>\n",
       "    </tr>\n",
       "  </tbody>\n",
       "</table>\n",
       "</div>"
      ],
      "text/plain": [
       "            King  Kitsap  Outside Region  Pierce  Snohomish\n",
       "Light    352,832  32,838           3,301 135,995    134,757\n",
       "Moderate  97,149     650               1  19,533     19,552\n",
       "Heavy     44,397     639             NaN   4,371      5,108\n",
       "Severe     2,936      45               0     324        305\n",
       "Total    497,314  34,171           3,302 160,222    159,722"
      ]
     },
     "execution_count": 5,
     "metadata": {},
     "output_type": "execute_result"
    }
   ],
   "source": [
    "_df = df[df['tod'].isin(['15to16','16to17','17to18'])]\n",
    "_df = _df.pivot_table(index='congestion_category',columns='county',\n",
    "               aggfunc='sum',values='Medium and Heavy Trucks')\n",
    "_df = _df.reindex(['Light','Moderate','Heavy','Severe'])\n",
    "_df.index.name = None\n",
    "_df.columns.name = None\n",
    "_df.loc['Total',:] = _df.sum()\n",
    "_df"
   ]
  },
  {
   "cell_type": "raw",
   "id": "0ef8bce7",
   "metadata": {
    "vscode": {
     "languageId": "raw"
    }
   },
   "source": [
    ":::"
   ]
  },
  {
   "cell_type": "markdown",
   "id": "92c21801",
   "metadata": {},
   "source": [
    "# Truck Miles on FGTS\n",
    "Freight and Goods Transportation System\n",
    "- T-1: More than 10 million tons per year\n",
    "- T-2: 2 4 million to 10 million tons per year"
   ]
  },
  {
   "cell_type": "raw",
   "id": "a9b60513",
   "metadata": {
    "vscode": {
     "languageId": "raw"
    }
   },
   "source": [
    ":::{.panel-tabset}\n",
    "### Values"
   ]
  },
  {
   "cell_type": "code",
   "execution_count": 6,
   "id": "8f638a40",
   "metadata": {
    "execution": {
     "iopub.execute_input": "2025-07-17T22:27:50.290294Z",
     "iopub.status.busy": "2025-07-17T22:27:50.289287Z",
     "iopub.status.idle": "2025-07-17T22:27:50.687521Z",
     "shell.execute_reply": "2025-07-17T22:27:50.686532Z"
    }
   },
   "outputs": [
    {
     "data": {
      "text/html": [
       "<div>\n",
       "<style scoped>\n",
       "    .dataframe tbody tr th:only-of-type {\n",
       "        vertical-align: middle;\n",
       "    }\n",
       "\n",
       "    .dataframe tbody tr th {\n",
       "        vertical-align: top;\n",
       "    }\n",
       "\n",
       "    .dataframe thead th {\n",
       "        text-align: right;\n",
       "    }\n",
       "</style>\n",
       "<table border=\"1\" class=\"dataframe\">\n",
       "  <thead>\n",
       "    <tr style=\"text-align: right;\">\n",
       "      <th></th>\n",
       "      <th>T-1</th>\n",
       "      <th>T-2</th>\n",
       "      <th>Other Routes</th>\n",
       "    </tr>\n",
       "    <tr>\n",
       "      <th>Vehicle Type</th>\n",
       "      <th></th>\n",
       "      <th></th>\n",
       "      <th></th>\n",
       "    </tr>\n",
       "  </thead>\n",
       "  <tbody>\n",
       "    <tr>\n",
       "      <th>Non-Truck</th>\n",
       "      <td>31,108,580</td>\n",
       "      <td>11,392,786</td>\n",
       "      <td>34,021,455</td>\n",
       "    </tr>\n",
       "    <tr>\n",
       "      <th>Heavy Trucks</th>\n",
       "      <td>2,086,616</td>\n",
       "      <td>171,753</td>\n",
       "      <td>345,778</td>\n",
       "    </tr>\n",
       "    <tr>\n",
       "      <th>Medium Trucks</th>\n",
       "      <td>1,778,553</td>\n",
       "      <td>486,250</td>\n",
       "      <td>936,984</td>\n",
       "    </tr>\n",
       "  </tbody>\n",
       "</table>\n",
       "</div>"
      ],
      "text/plain": [
       "                     T-1        T-2  Other Routes\n",
       "Vehicle Type                                     \n",
       "Non-Truck     31,108,580 11,392,786    34,021,455\n",
       "Heavy Trucks   2,086,616    171,753       345,778\n",
       "Medium Trucks  1,778,553    486,250       936,984"
      ]
     },
     "execution_count": 6,
     "metadata": {},
     "output_type": "execute_result"
    }
   ],
   "source": [
    "pd.options.display.float_format = '{:0,.0f}'.format\n",
    "df['Non-Truck'] = df['VMT']-df['Medium and Heavy Trucks']\n",
    "_df = df[['medium_truck_vmt','heavy_truck_vmt','@fgts','Non-Truck']].melt(\n",
    "    id_vars='@fgts', var_name='Vehicle Type')\n",
    "_df = _df.pivot_table(index='Vehicle Type', columns='@fgts', \n",
    "                values='value', aggfunc='sum')\n",
    "# _df = _df.reset_index()\n",
    "_df = _df.rename_axis(None, axis=1)\n",
    "_df.rename(columns={0:'Other Routes', 1: 'T-1', 2: 'T-2'}, inplace=True)\n",
    "_df.rename(index={'heavy_truck_vmt': 'Heavy Trucks',\n",
    "                 'medium_truck_vmt': 'Medium Trucks'}, inplace=True)\n",
    "_df[['T-1','T-2','Other Routes']]"
   ]
  },
  {
   "cell_type": "raw",
   "id": "d04254ba",
   "metadata": {
    "vscode": {
     "languageId": "raw"
    }
   },
   "source": [
    "### Shares"
   ]
  },
  {
   "cell_type": "code",
   "execution_count": 7,
   "id": "246a1d7c",
   "metadata": {
    "execution": {
     "iopub.execute_input": "2025-07-17T22:27:50.690518Z",
     "iopub.status.busy": "2025-07-17T22:27:50.689515Z",
     "iopub.status.idle": "2025-07-17T22:27:50.698731Z",
     "shell.execute_reply": "2025-07-17T22:27:50.698201Z"
    }
   },
   "outputs": [
    {
     "data": {
      "text/html": [
       "<div>\n",
       "<style scoped>\n",
       "    .dataframe tbody tr th:only-of-type {\n",
       "        vertical-align: middle;\n",
       "    }\n",
       "\n",
       "    .dataframe tbody tr th {\n",
       "        vertical-align: top;\n",
       "    }\n",
       "\n",
       "    .dataframe thead th {\n",
       "        text-align: right;\n",
       "    }\n",
       "</style>\n",
       "<table border=\"1\" class=\"dataframe\">\n",
       "  <thead>\n",
       "    <tr style=\"text-align: right;\">\n",
       "      <th></th>\n",
       "      <th>T-1</th>\n",
       "      <th>T-2</th>\n",
       "      <th>Other Routes</th>\n",
       "    </tr>\n",
       "    <tr>\n",
       "      <th>Vehicle Type</th>\n",
       "      <th></th>\n",
       "      <th></th>\n",
       "      <th></th>\n",
       "    </tr>\n",
       "  </thead>\n",
       "  <tbody>\n",
       "    <tr>\n",
       "      <th>Non-Truck</th>\n",
       "      <td>88.9%</td>\n",
       "      <td>94.5%</td>\n",
       "      <td>96.4%</td>\n",
       "    </tr>\n",
       "    <tr>\n",
       "      <th>Heavy Trucks</th>\n",
       "      <td>6.0%</td>\n",
       "      <td>1.4%</td>\n",
       "      <td>1.0%</td>\n",
       "    </tr>\n",
       "    <tr>\n",
       "      <th>Medium Trucks</th>\n",
       "      <td>5.1%</td>\n",
       "      <td>4.0%</td>\n",
       "      <td>2.7%</td>\n",
       "    </tr>\n",
       "  </tbody>\n",
       "</table>\n",
       "</div>"
      ],
      "text/plain": [
       "                T-1   T-2  Other Routes\n",
       "Vehicle Type                           \n",
       "Non-Truck     88.9% 94.5%         96.4%\n",
       "Heavy Trucks   6.0%  1.4%          1.0%\n",
       "Medium Trucks  5.1%  4.0%          2.7%"
      ]
     },
     "execution_count": 7,
     "metadata": {},
     "output_type": "execute_result"
    }
   ],
   "source": [
    "pd.options.display.float_format = '{:0,.1%}'.format\n",
    "_df[['T-1','T-2','Other Routes']]/_df[['T-1','T-2','Other Routes']].sum()"
   ]
  },
  {
   "cell_type": "raw",
   "id": "9512ffb0",
   "metadata": {
    "vscode": {
     "languageId": "raw"
    }
   },
   "source": [
    ":::"
   ]
  },
  {
   "cell_type": "markdown",
   "id": "7ac9cdaf",
   "metadata": {
    "vscode": {
     "languageId": "raw"
    }
   },
   "source": [
    "# Congestion on FGTS"
   ]
  },
  {
   "cell_type": "raw",
   "id": "38cf1684",
   "metadata": {
    "vscode": {
     "languageId": "raw"
    }
   },
   "source": [
    ":::{.panel-tabset}\n",
    "### AM Peak (5 - 9 am)"
   ]
  },
  {
   "cell_type": "code",
   "execution_count": 8,
   "id": "f206cb2c",
   "metadata": {
    "execution": {
     "iopub.execute_input": "2025-07-17T22:27:50.700915Z",
     "iopub.status.busy": "2025-07-17T22:27:50.700915Z",
     "iopub.status.idle": "2025-07-17T22:27:50.860740Z",
     "shell.execute_reply": "2025-07-17T22:27:50.860740Z"
    }
   },
   "outputs": [
    {
     "data": {
      "text/html": [
       "<div>\n",
       "<style scoped>\n",
       "    .dataframe tbody tr th:only-of-type {\n",
       "        vertical-align: middle;\n",
       "    }\n",
       "\n",
       "    .dataframe tbody tr th {\n",
       "        vertical-align: top;\n",
       "    }\n",
       "\n",
       "    .dataframe thead th {\n",
       "        text-align: right;\n",
       "    }\n",
       "</style>\n",
       "<table border=\"1\" class=\"dataframe\">\n",
       "  <thead>\n",
       "    <tr style=\"text-align: right;\">\n",
       "      <th></th>\n",
       "      <th>T-1</th>\n",
       "      <th>T-2</th>\n",
       "      <th>Other Routes</th>\n",
       "    </tr>\n",
       "  </thead>\n",
       "  <tbody>\n",
       "    <tr>\n",
       "      <th>Light</th>\n",
       "      <td>2,187,416</td>\n",
       "      <td>833,209</td>\n",
       "      <td>1,766,699</td>\n",
       "    </tr>\n",
       "    <tr>\n",
       "      <th>Moderate</th>\n",
       "      <td>449,411</td>\n",
       "      <td>105,827</td>\n",
       "      <td>211,493</td>\n",
       "    </tr>\n",
       "    <tr>\n",
       "      <th>Heavy</th>\n",
       "      <td>267,387</td>\n",
       "      <td>93,124</td>\n",
       "      <td>191,655</td>\n",
       "    </tr>\n",
       "    <tr>\n",
       "      <th>Severe</th>\n",
       "      <td>29,488</td>\n",
       "      <td>34,847</td>\n",
       "      <td>80,162</td>\n",
       "    </tr>\n",
       "    <tr>\n",
       "      <th>Total</th>\n",
       "      <td>2,933,702</td>\n",
       "      <td>1,067,007</td>\n",
       "      <td>2,250,009</td>\n",
       "    </tr>\n",
       "  </tbody>\n",
       "</table>\n",
       "</div>"
      ],
      "text/plain": [
       "               T-1       T-2  Other Routes\n",
       "Light    2,187,416   833,209     1,766,699\n",
       "Moderate   449,411   105,827       211,493\n",
       "Heavy      267,387    93,124       191,655\n",
       "Severe      29,488    34,847        80,162\n",
       "Total    2,933,702 1,067,007     2,250,009"
      ]
     },
     "execution_count": 8,
     "metadata": {},
     "output_type": "execute_result"
    }
   ],
   "source": [
    "pd.options.display.float_format = '{:0,.0f}'.format\n",
    "\n",
    "# Congested Miles on FGTS versus other Routes\n",
    "df['Medium and Heavy Trucks'] = df['@mveh']+df['@hveh']\n",
    "\n",
    "_df = df[df['tod'].isin(['5to6','6to7','7to8','8to9'])]\n",
    "_df = _df.pivot_table(index='congestion_category',columns='@fgts',\n",
    "               aggfunc='sum',values='Medium and Heavy Trucks')\n",
    "_df = _df.reindex(['Light','Moderate','Heavy','Severe'])\n",
    "_df.index.name = None\n",
    "_df.columns.name = None\n",
    "_df.rename(columns={0:'Other Routes', 1: 'T-1', 2: 'T-2'}, inplace=True)\n",
    "_df_ = _df.copy()\n",
    "_df.loc['Total',:] = _df.sum()\n",
    "_df = _df[['T-1','T-2','Other Routes']]\n",
    "_df"
   ]
  },
  {
   "cell_type": "code",
   "execution_count": 9,
   "id": "0cf27b71",
   "metadata": {
    "execution": {
     "iopub.execute_input": "2025-07-17T22:27:50.864698Z",
     "iopub.status.busy": "2025-07-17T22:27:50.863700Z",
     "iopub.status.idle": "2025-07-17T22:27:50.871257Z",
     "shell.execute_reply": "2025-07-17T22:27:50.871257Z"
    }
   },
   "outputs": [
    {
     "data": {
      "text/html": [
       "<div>\n",
       "<style scoped>\n",
       "    .dataframe tbody tr th:only-of-type {\n",
       "        vertical-align: middle;\n",
       "    }\n",
       "\n",
       "    .dataframe tbody tr th {\n",
       "        vertical-align: top;\n",
       "    }\n",
       "\n",
       "    .dataframe thead th {\n",
       "        text-align: right;\n",
       "    }\n",
       "</style>\n",
       "<table border=\"1\" class=\"dataframe\">\n",
       "  <thead>\n",
       "    <tr style=\"text-align: right;\">\n",
       "      <th></th>\n",
       "      <th>Other Routes</th>\n",
       "      <th>T-1</th>\n",
       "      <th>T-2</th>\n",
       "    </tr>\n",
       "  </thead>\n",
       "  <tbody>\n",
       "    <tr>\n",
       "      <th>Light</th>\n",
       "      <td>78.5%</td>\n",
       "      <td>74.6%</td>\n",
       "      <td>78.1%</td>\n",
       "    </tr>\n",
       "    <tr>\n",
       "      <th>Moderate</th>\n",
       "      <td>9.4%</td>\n",
       "      <td>15.3%</td>\n",
       "      <td>9.9%</td>\n",
       "    </tr>\n",
       "    <tr>\n",
       "      <th>Heavy</th>\n",
       "      <td>8.5%</td>\n",
       "      <td>9.1%</td>\n",
       "      <td>8.7%</td>\n",
       "    </tr>\n",
       "    <tr>\n",
       "      <th>Severe</th>\n",
       "      <td>3.6%</td>\n",
       "      <td>1.0%</td>\n",
       "      <td>3.3%</td>\n",
       "    </tr>\n",
       "  </tbody>\n",
       "</table>\n",
       "</div>"
      ],
      "text/plain": [
       "          Other Routes   T-1   T-2\n",
       "Light            78.5% 74.6% 78.1%\n",
       "Moderate          9.4% 15.3%  9.9%\n",
       "Heavy             8.5%  9.1%  8.7%\n",
       "Severe            3.6%  1.0%  3.3%"
      ]
     },
     "execution_count": 9,
     "metadata": {},
     "output_type": "execute_result"
    }
   ],
   "source": [
    "pd.options.display.float_format = '{:0,.1%}'.format\n",
    "_df_/_df_.sum()"
   ]
  },
  {
   "cell_type": "raw",
   "id": "d8b85d7c",
   "metadata": {
    "vscode": {
     "languageId": "raw"
    }
   },
   "source": [
    "### PM Peak (3 - 6 pm)"
   ]
  },
  {
   "cell_type": "code",
   "execution_count": 10,
   "id": "8cf4a517",
   "metadata": {
    "execution": {
     "iopub.execute_input": "2025-07-17T22:27:50.874253Z",
     "iopub.status.busy": "2025-07-17T22:27:50.874253Z",
     "iopub.status.idle": "2025-07-17T22:27:51.002100Z",
     "shell.execute_reply": "2025-07-17T22:27:51.001097Z"
    }
   },
   "outputs": [
    {
     "data": {
      "text/html": [
       "<div>\n",
       "<style scoped>\n",
       "    .dataframe tbody tr th:only-of-type {\n",
       "        vertical-align: middle;\n",
       "    }\n",
       "\n",
       "    .dataframe tbody tr th {\n",
       "        vertical-align: top;\n",
       "    }\n",
       "\n",
       "    .dataframe thead th {\n",
       "        text-align: right;\n",
       "    }\n",
       "</style>\n",
       "<table border=\"1\" class=\"dataframe\">\n",
       "  <thead>\n",
       "    <tr style=\"text-align: right;\">\n",
       "      <th></th>\n",
       "      <th>T-1</th>\n",
       "      <th>T-2</th>\n",
       "      <th>Other Routes</th>\n",
       "    </tr>\n",
       "  </thead>\n",
       "  <tbody>\n",
       "    <tr>\n",
       "      <th>Light</th>\n",
       "      <td>1,246,204</td>\n",
       "      <td>484,373</td>\n",
       "      <td>995,571</td>\n",
       "    </tr>\n",
       "    <tr>\n",
       "      <th>Moderate</th>\n",
       "      <td>305,609</td>\n",
       "      <td>60,678</td>\n",
       "      <td>130,523</td>\n",
       "    </tr>\n",
       "    <tr>\n",
       "      <th>Heavy</th>\n",
       "      <td>142,907</td>\n",
       "      <td>51,872</td>\n",
       "      <td>117,576</td>\n",
       "    </tr>\n",
       "    <tr>\n",
       "      <th>Severe</th>\n",
       "      <td>18,279</td>\n",
       "      <td>24,044</td>\n",
       "      <td>48,839</td>\n",
       "    </tr>\n",
       "    <tr>\n",
       "      <th>Total</th>\n",
       "      <td>1,712,998</td>\n",
       "      <td>620,967</td>\n",
       "      <td>1,292,509</td>\n",
       "    </tr>\n",
       "  </tbody>\n",
       "</table>\n",
       "</div>"
      ],
      "text/plain": [
       "               T-1     T-2  Other Routes\n",
       "Light    1,246,204 484,373       995,571\n",
       "Moderate   305,609  60,678       130,523\n",
       "Heavy      142,907  51,872       117,576\n",
       "Severe      18,279  24,044        48,839\n",
       "Total    1,712,998 620,967     1,292,509"
      ]
     },
     "execution_count": 10,
     "metadata": {},
     "output_type": "execute_result"
    }
   ],
   "source": [
    "pd.options.display.float_format = '{:0,.0f}'.format\n",
    "# Congested Miles on FGTS versus other Routes\n",
    "df['Medium and Heavy Trucks'] = df['@hveh']+df['@mveh']\n",
    "\n",
    "_df = df[df['tod'].isin(['15to16','16to17','17to18'])]\n",
    "_df = _df.pivot_table(index='congestion_category',columns='@fgts',\n",
    "               aggfunc='sum',values='Medium and Heavy Trucks')\n",
    "_df = _df.reindex(['Light','Moderate','Heavy','Severe'])\n",
    "_df.index.name = None\n",
    "_df.columns.name = None\n",
    "_df.rename(columns={0:'Other Routes', 1: 'T-1', 2: 'T-2'}, inplace=True)\n",
    "_df_ = _df.copy()\n",
    "_df.loc['Total',:] = _df.sum()\n",
    "_df = _df[['T-1','T-2','Other Routes']]\n",
    "_df"
   ]
  },
  {
   "cell_type": "code",
   "execution_count": 11,
   "id": "3220e398",
   "metadata": {
    "execution": {
     "iopub.execute_input": "2025-07-17T22:27:51.005334Z",
     "iopub.status.busy": "2025-07-17T22:27:51.004327Z",
     "iopub.status.idle": "2025-07-17T22:27:51.011580Z",
     "shell.execute_reply": "2025-07-17T22:27:51.011580Z"
    }
   },
   "outputs": [
    {
     "data": {
      "text/html": [
       "<div>\n",
       "<style scoped>\n",
       "    .dataframe tbody tr th:only-of-type {\n",
       "        vertical-align: middle;\n",
       "    }\n",
       "\n",
       "    .dataframe tbody tr th {\n",
       "        vertical-align: top;\n",
       "    }\n",
       "\n",
       "    .dataframe thead th {\n",
       "        text-align: right;\n",
       "    }\n",
       "</style>\n",
       "<table border=\"1\" class=\"dataframe\">\n",
       "  <thead>\n",
       "    <tr style=\"text-align: right;\">\n",
       "      <th></th>\n",
       "      <th>Other Routes</th>\n",
       "      <th>T-1</th>\n",
       "      <th>T-2</th>\n",
       "    </tr>\n",
       "  </thead>\n",
       "  <tbody>\n",
       "    <tr>\n",
       "      <th>Light</th>\n",
       "      <td>77.0%</td>\n",
       "      <td>72.7%</td>\n",
       "      <td>78.0%</td>\n",
       "    </tr>\n",
       "    <tr>\n",
       "      <th>Moderate</th>\n",
       "      <td>10.1%</td>\n",
       "      <td>17.8%</td>\n",
       "      <td>9.8%</td>\n",
       "    </tr>\n",
       "    <tr>\n",
       "      <th>Heavy</th>\n",
       "      <td>9.1%</td>\n",
       "      <td>8.3%</td>\n",
       "      <td>8.4%</td>\n",
       "    </tr>\n",
       "    <tr>\n",
       "      <th>Severe</th>\n",
       "      <td>3.8%</td>\n",
       "      <td>1.1%</td>\n",
       "      <td>3.9%</td>\n",
       "    </tr>\n",
       "  </tbody>\n",
       "</table>\n",
       "</div>"
      ],
      "text/plain": [
       "          Other Routes   T-1   T-2\n",
       "Light            77.0% 72.7% 78.0%\n",
       "Moderate         10.1% 17.8%  9.8%\n",
       "Heavy             9.1%  8.3%  8.4%\n",
       "Severe            3.8%  1.1%  3.9%"
      ]
     },
     "execution_count": 11,
     "metadata": {},
     "output_type": "execute_result"
    }
   ],
   "source": [
    "pd.options.display.float_format = '{:0,.1%}'.format\n",
    "_df_/_df_.sum()"
   ]
  },
  {
   "cell_type": "raw",
   "id": "7c6afe36",
   "metadata": {
    "vscode": {
     "languageId": "raw"
    }
   },
   "source": [
    ":::"
   ]
  },
  {
   "cell_type": "markdown",
   "id": "9f8beadf",
   "metadata": {},
   "source": [
    "# Equity\n",
    "\n",
    "## Households Within 500' of Heavy Truck Volumes\n",
    "Total number of households within 500' of T-1 and T-2 routes\n",
    "- T-1: More than 10 million tons per year\n",
    "- T-2: 2 4 million to 10 million tons per year"
   ]
  },
  {
   "cell_type": "code",
   "execution_count": null,
   "id": "6cda92ce",
   "metadata": {},
   "outputs": [],
   "source": []
  },
  {
   "cell_type": "code",
   "execution_count": 12,
   "id": "9f43f2e1",
   "metadata": {
    "execution": {
     "iopub.execute_input": "2025-07-17T22:27:51.014563Z",
     "iopub.status.busy": "2025-07-17T22:27:51.014563Z",
     "iopub.status.idle": "2025-07-17T22:28:13.097338Z",
     "shell.execute_reply": "2025-07-17T22:28:13.096343Z"
    }
   },
   "outputs": [],
   "source": [
    "import polars as pl\n",
    "\n",
    "# Intersect buffer with land use file\n",
    "df_lu = pl.read_csv(r'..\\..\\..\\..\\outputs\\landuse\\parcels_urbansim.txt', separator=' ').to_pandas()\n",
    "\n",
    "# Load as a geodataframe\n",
    "gdf_lu = gpd.GeoDataFrame(\n",
    "    df_lu, geometry=gpd.points_from_xy(df_lu.xcoord_p, df_lu.ycoord_p))\n",
    "# Set the coordinate reference system (CRS) to match the land use data\n",
    "gdf_lu.crs = 'EPSG:2285'\n",
    "\n",
    "# Buffer the parcels at 500ft\n",
    "gdf_lu['geometry'] = gdf_lu.buffer(500)"
   ]
  },
  {
   "cell_type": "code",
   "execution_count": 13,
   "id": "be848493",
   "metadata": {
    "execution": {
     "iopub.execute_input": "2025-07-17T22:28:13.101328Z",
     "iopub.status.busy": "2025-07-17T22:28:13.101328Z",
     "iopub.status.idle": "2025-07-17T22:28:34.990120Z",
     "shell.execute_reply": "2025-07-17T22:28:34.989123Z"
    }
   },
   "outputs": [],
   "source": [
    "\n",
    "# Intersect this geography  with the network shapefile\n",
    "gdf_network = gpd.read_file(r'..\\..\\..\\..\\inputs\\scenario\\networks\\shapefiles\\AM\\AM_edges.shp')\n",
    "# Do not include connectors since these are abstracted ul3==5; also remove weave links ul3==0 \n",
    "gdf_network = gdf_network[~gdf_network.ul3.isin([0,5])]\n",
    "# Truck network links are those that are in FGTS 1 or 2 system\n",
    "gdf_network = gdf_network[gdf_network['FGTS'].isin([1,2])]\n",
    "\n",
    "gdf_intersect = gpd.overlay(gdf_network, gdf_lu, how=\"intersection\", keep_geom_type=False)\n",
    "\n",
    "# Will need to relaculate the lengths since some were split across the regional geographies\n",
    "gdf_intersect['new_length'] = gdf_intersect.geometry.length/5280.0\n",
    "\n",
    "# filter out the polygon results and only keep lines\n",
    "gdf_intersect = gdf_intersect[gdf_intersect.geometry.type.isin(['MultiLineString','LineString'])]"
   ]
  },
  {
   "cell_type": "code",
   "execution_count": 14,
   "id": "64a3ffd0",
   "metadata": {
    "execution": {
     "iopub.execute_input": "2025-07-17T22:28:34.996103Z",
     "iopub.status.busy": "2025-07-17T22:28:34.995106Z",
     "iopub.status.idle": "2025-07-17T22:28:53.690180Z",
     "shell.execute_reply": "2025-07-17T22:28:53.689191Z"
    }
   },
   "outputs": [],
   "source": [
    "truck_parcels = gdf_intersect.groupby('parcelid').first()[['hh_p']].reset_index()\n",
    "\n",
    "\n",
    "# Result should be the network components with some flags for the parcelid\n",
    "# We can take the parcel information, join with parcel info and group\n",
    "# from input_configuration import base_year\n",
    "import toml\n",
    "config = toml.load(os.path.join(os.getcwd(),r'../../../../configuration/input_configuration.toml'))\n",
    "\n",
    "parcel_geog = pd.read_sql_table('parcel_'+config['base_year']+'_geography', 'sqlite:///../../../../inputs/db/'+config['db_name'])\n",
    "df = truck_parcels.merge(parcel_geog,left_on='parcelid', right_on='ParcelID')"
   ]
  },
  {
   "cell_type": "code",
   "execution_count": 15,
   "id": "d835af1a",
   "metadata": {
    "execution": {
     "iopub.execute_input": "2025-07-17T22:28:53.696164Z",
     "iopub.status.busy": "2025-07-17T22:28:53.695167Z",
     "iopub.status.idle": "2025-07-17T22:28:53.738523Z",
     "shell.execute_reply": "2025-07-17T22:28:53.738523Z"
    }
   },
   "outputs": [],
   "source": [
    "# Get the total number of households that in equtiy geograhpies\n",
    "# Comprae the percent of those that are in the buffer versus those that are not\n",
    "# For the 4 equity groups, perform the calc and add as a table\n",
    "results_df = pd.DataFrame()\n",
    "for col, name in {'equity_focus_areas_2023__efa_poc': 'People of Color',\n",
    "                      'equity_focus_areas_2023__efa_pov200': 'Poverty',\n",
    "                        'equity_focus_areas_2023__efa_lep': 'LEP',\n",
    "                        'equity_focus_areas_2023__efa_dis': 'Disability',\n",
    "                      'equity_focus_areas_2023__efa_older': 'Older',\n",
    "                      'equity_focus_areas_2023__efa_youth': 'Youth',\n",
    "                  }.items():\n",
    "    _df = df[[col,'hh_p']].groupby(col).sum()[['hh_p']]\n",
    "    _df['equity_group'] = name\n",
    "    results_df = pd.concat([results_df,_df])\n",
    "results_df = results_df.reset_index()\n",
    "results_df = results_df[results_df['index']>=0]"
   ]
  },
  {
   "cell_type": "markdown",
   "id": "c4e72351",
   "metadata": {
    "vscode": {
     "languageId": "raw"
    }
   },
   "source": [
    "## Total Households Within 500' of T-1/T-2 Routes by Equity Group"
   ]
  },
  {
   "cell_type": "raw",
   "id": "78c87050",
   "metadata": {
    "vscode": {
     "languageId": "raw"
    }
   },
   "source": [
    ":::{.panel-tabset}\n",
    "### Values"
   ]
  },
  {
   "cell_type": "code",
   "execution_count": 16,
   "id": "f248a641",
   "metadata": {
    "execution": {
     "iopub.execute_input": "2025-07-17T22:28:53.742512Z",
     "iopub.status.busy": "2025-07-17T22:28:53.741512Z",
     "iopub.status.idle": "2025-07-17T22:28:53.754972Z",
     "shell.execute_reply": "2025-07-17T22:28:53.753970Z"
    }
   },
   "outputs": [
    {
     "data": {
      "text/html": [
       "<div>\n",
       "<style scoped>\n",
       "    .dataframe tbody tr th:only-of-type {\n",
       "        vertical-align: middle;\n",
       "    }\n",
       "\n",
       "    .dataframe tbody tr th {\n",
       "        vertical-align: top;\n",
       "    }\n",
       "\n",
       "    .dataframe thead th {\n",
       "        text-align: right;\n",
       "    }\n",
       "</style>\n",
       "<table border=\"1\" class=\"dataframe\">\n",
       "  <thead>\n",
       "    <tr style=\"text-align: right;\">\n",
       "      <th>equity_group</th>\n",
       "      <th>Disability</th>\n",
       "      <th>LEP</th>\n",
       "      <th>Older</th>\n",
       "      <th>People of Color</th>\n",
       "      <th>Poverty</th>\n",
       "      <th>Youth</th>\n",
       "    </tr>\n",
       "    <tr>\n",
       "      <th>index</th>\n",
       "      <th></th>\n",
       "      <th></th>\n",
       "      <th></th>\n",
       "      <th></th>\n",
       "      <th></th>\n",
       "      <th></th>\n",
       "    </tr>\n",
       "  </thead>\n",
       "  <tbody>\n",
       "    <tr>\n",
       "      <th>Below Regional Average</th>\n",
       "      <td>96,729</td>\n",
       "      <td>105,618</td>\n",
       "      <td>118,343</td>\n",
       "      <td>75,091</td>\n",
       "      <td>91,169</td>\n",
       "      <td>124,528</td>\n",
       "    </tr>\n",
       "    <tr>\n",
       "      <th>Above Regional Average</th>\n",
       "      <td>56,908</td>\n",
       "      <td>41,623</td>\n",
       "      <td>53,783</td>\n",
       "      <td>65,912</td>\n",
       "      <td>56,922</td>\n",
       "      <td>45,724</td>\n",
       "    </tr>\n",
       "    <tr>\n",
       "      <th>Higher Share of Equity Population</th>\n",
       "      <td>33,259</td>\n",
       "      <td>39,655</td>\n",
       "      <td>14,770</td>\n",
       "      <td>45,893</td>\n",
       "      <td>38,805</td>\n",
       "      <td>16,644</td>\n",
       "    </tr>\n",
       "    <tr>\n",
       "      <th>Region</th>\n",
       "      <td>186,896</td>\n",
       "      <td>186,896</td>\n",
       "      <td>186,896</td>\n",
       "      <td>186,896</td>\n",
       "      <td>186,896</td>\n",
       "      <td>186,896</td>\n",
       "    </tr>\n",
       "  </tbody>\n",
       "</table>\n",
       "</div>"
      ],
      "text/plain": [
       "equity_group                       Disability     LEP   Older  \\\n",
       "index                                                           \n",
       "Below Regional Average                 96,729 105,618 118,343   \n",
       "Above Regional Average                 56,908  41,623  53,783   \n",
       "Higher Share of Equity Population      33,259  39,655  14,770   \n",
       "Region                                186,896 186,896 186,896   \n",
       "\n",
       "equity_group                       People of Color  Poverty   Youth  \n",
       "index                                                                \n",
       "Below Regional Average                      75,091   91,169 124,528  \n",
       "Above Regional Average                      65,912   56,922  45,724  \n",
       "Higher Share of Equity Population           45,893   38,805  16,644  \n",
       "Region                                     186,896  186,896 186,896  "
      ]
     },
     "execution_count": 16,
     "metadata": {},
     "output_type": "execute_result"
    }
   ],
   "source": [
    "_df = results_df.pivot_table(index='index', columns='equity_group', values='hh_p', aggfunc='sum')\n",
    "_df.index = _df.index.astype('int').map({0: 'Below Regional Average', \n",
    "                                1: 'Above Regional Average', \n",
    "                                2: 'Higher Share of Equity Population'}\n",
    "                                )\n",
    "pd.options.display.float_format = '{:0,.0f}'.format\n",
    "_df.loc['Region',:] = _df.sum(axis=0)\n",
    "_df.astype('float')"
   ]
  },
  {
   "cell_type": "raw",
   "id": "04bebd8d",
   "metadata": {
    "vscode": {
     "languageId": "raw"
    }
   },
   "source": [
    "### Shares"
   ]
  },
  {
   "cell_type": "code",
   "execution_count": 17,
   "id": "d9598460",
   "metadata": {
    "execution": {
     "iopub.execute_input": "2025-07-17T22:28:53.757966Z",
     "iopub.status.busy": "2025-07-17T22:28:53.756969Z",
     "iopub.status.idle": "2025-07-17T22:28:53.774717Z",
     "shell.execute_reply": "2025-07-17T22:28:53.773660Z"
    }
   },
   "outputs": [
    {
     "data": {
      "text/html": [
       "<div>\n",
       "<style scoped>\n",
       "    .dataframe tbody tr th:only-of-type {\n",
       "        vertical-align: middle;\n",
       "    }\n",
       "\n",
       "    .dataframe tbody tr th {\n",
       "        vertical-align: top;\n",
       "    }\n",
       "\n",
       "    .dataframe thead th {\n",
       "        text-align: right;\n",
       "    }\n",
       "</style>\n",
       "<table border=\"1\" class=\"dataframe\">\n",
       "  <thead>\n",
       "    <tr style=\"text-align: right;\">\n",
       "      <th>equity_group</th>\n",
       "      <th>Disability</th>\n",
       "      <th>LEP</th>\n",
       "      <th>Older</th>\n",
       "      <th>People of Color</th>\n",
       "      <th>Poverty</th>\n",
       "      <th>Youth</th>\n",
       "    </tr>\n",
       "    <tr>\n",
       "      <th>index</th>\n",
       "      <th></th>\n",
       "      <th></th>\n",
       "      <th></th>\n",
       "      <th></th>\n",
       "      <th></th>\n",
       "      <th></th>\n",
       "    </tr>\n",
       "  </thead>\n",
       "  <tbody>\n",
       "    <tr>\n",
       "      <th>Below Regional Average</th>\n",
       "      <td>51.8%</td>\n",
       "      <td>56.5%</td>\n",
       "      <td>63.3%</td>\n",
       "      <td>40.2%</td>\n",
       "      <td>48.8%</td>\n",
       "      <td>66.6%</td>\n",
       "    </tr>\n",
       "    <tr>\n",
       "      <th>Above Regional Average</th>\n",
       "      <td>30.4%</td>\n",
       "      <td>22.3%</td>\n",
       "      <td>28.8%</td>\n",
       "      <td>35.3%</td>\n",
       "      <td>30.5%</td>\n",
       "      <td>24.5%</td>\n",
       "    </tr>\n",
       "    <tr>\n",
       "      <th>Higher Share of Equity Population</th>\n",
       "      <td>17.8%</td>\n",
       "      <td>21.2%</td>\n",
       "      <td>7.9%</td>\n",
       "      <td>24.6%</td>\n",
       "      <td>20.8%</td>\n",
       "      <td>8.9%</td>\n",
       "    </tr>\n",
       "  </tbody>\n",
       "</table>\n",
       "</div>"
      ],
      "text/plain": [
       "equity_group                       Disability   LEP  Older  People of Color  \\\n",
       "index                                                                         \n",
       "Below Regional Average                  51.8% 56.5%  63.3%            40.2%   \n",
       "Above Regional Average                  30.4% 22.3%  28.8%            35.3%   \n",
       "Higher Share of Equity Population       17.8% 21.2%   7.9%            24.6%   \n",
       "\n",
       "equity_group                       Poverty  Youth  \n",
       "index                                              \n",
       "Below Regional Average               48.8%  66.6%  \n",
       "Above Regional Average               30.5%  24.5%  \n",
       "Higher Share of Equity Population    20.8%   8.9%  "
      ]
     },
     "execution_count": 17,
     "metadata": {},
     "output_type": "execute_result"
    }
   ],
   "source": [
    "pd.options.display.float_format = '{:0,.1%}'.format\n",
    "_df.drop('Region')/_df.drop('Region').sum()"
   ]
  },
  {
   "cell_type": "raw",
   "id": "e7e9425f",
   "metadata": {
    "vscode": {
     "languageId": "raw"
    }
   },
   "source": [
    "### Percent of Total Households "
   ]
  },
  {
   "cell_type": "code",
   "execution_count": 18,
   "id": "6fc76036",
   "metadata": {
    "execution": {
     "iopub.execute_input": "2025-07-17T22:28:53.776870Z",
     "iopub.status.busy": "2025-07-17T22:28:53.776870Z",
     "iopub.status.idle": "2025-07-17T22:28:54.351014Z",
     "shell.execute_reply": "2025-07-17T22:28:54.350043Z"
    }
   },
   "outputs": [
    {
     "data": {
      "text/html": [
       "<div>\n",
       "<style scoped>\n",
       "    .dataframe tbody tr th:only-of-type {\n",
       "        vertical-align: middle;\n",
       "    }\n",
       "\n",
       "    .dataframe tbody tr th {\n",
       "        vertical-align: top;\n",
       "    }\n",
       "\n",
       "    .dataframe thead th {\n",
       "        text-align: right;\n",
       "    }\n",
       "</style>\n",
       "<table border=\"1\" class=\"dataframe\">\n",
       "  <thead>\n",
       "    <tr style=\"text-align: right;\">\n",
       "      <th></th>\n",
       "      <th>Disability</th>\n",
       "      <th>LEP</th>\n",
       "      <th>Older</th>\n",
       "      <th>People of Color</th>\n",
       "      <th>Poverty</th>\n",
       "      <th>Youth</th>\n",
       "    </tr>\n",
       "  </thead>\n",
       "  <tbody>\n",
       "    <tr>\n",
       "      <th>Below Regional Average</th>\n",
       "      <td>10.3%</td>\n",
       "      <td>9.7%</td>\n",
       "      <td>13.0%</td>\n",
       "      <td>8.0%</td>\n",
       "      <td>8.8%</td>\n",
       "      <td>13.1%</td>\n",
       "    </tr>\n",
       "    <tr>\n",
       "      <th>Above Regional Average</th>\n",
       "      <td>10.8%</td>\n",
       "      <td>11.7%</td>\n",
       "      <td>9.1%</td>\n",
       "      <td>13.2%</td>\n",
       "      <td>12.8%</td>\n",
       "      <td>8.1%</td>\n",
       "    </tr>\n",
       "    <tr>\n",
       "      <th>Higher Share of Equity Population</th>\n",
       "      <td>12.5%</td>\n",
       "      <td>13.8%</td>\n",
       "      <td>6.3%</td>\n",
       "      <td>15.7%</td>\n",
       "      <td>15.6%</td>\n",
       "      <td>7.7%</td>\n",
       "    </tr>\n",
       "    <tr>\n",
       "      <th>Total Households</th>\n",
       "      <td>10.8%</td>\n",
       "      <td>10.8%</td>\n",
       "      <td>10.8%</td>\n",
       "      <td>10.8%</td>\n",
       "      <td>10.8%</td>\n",
       "      <td>10.8%</td>\n",
       "    </tr>\n",
       "  </tbody>\n",
       "</table>\n",
       "</div>"
      ],
      "text/plain": [
       "                                   Disability   LEP  Older  People of Color  \\\n",
       "Below Regional Average                  10.3%  9.7%  13.0%             8.0%   \n",
       "Above Regional Average                  10.8% 11.7%   9.1%            13.2%   \n",
       "Higher Share of Equity Population       12.5% 13.8%   6.3%            15.7%   \n",
       "Total Households                        10.8% 10.8%  10.8%            10.8%   \n",
       "\n",
       "                                   Poverty  Youth  \n",
       "Below Regional Average                8.8%  13.1%  \n",
       "Above Regional Average               12.8%   8.1%  \n",
       "Higher Share of Equity Population    15.6%   7.7%  \n",
       "Total Households                     10.8%  10.8%  "
      ]
     },
     "execution_count": 18,
     "metadata": {},
     "output_type": "execute_result"
    }
   ],
   "source": [
    "_df = results_df[[\"equity_group\",\"hh_p\",\"index\"]].pivot_table(index='equity_group',columns='index',values='hh_p')\n",
    "_df.rename(columns={0: 'Below Regional Average', \n",
    "                                1: 'Above Regional Average', \n",
    "                                2: 'Higher Share of Equity Population'}, inplace=True)\n",
    "_df.index.name = None\n",
    "_df.columns.name = None\n",
    "_df['Total Households'] = _df.sum(axis=1)\n",
    "_df_buffer = _df.copy()\n",
    "\n",
    "df_lu_tot = df_lu[['parcelid','hh_p']].merge(parcel_geog,left_on='parcelid', right_on='ParcelID')\n",
    "df_lu_tot['Region'] = 1\n",
    "results_df_tot = pd.DataFrame()\n",
    "for col, name in {'equity_focus_areas_2023__efa_poc': 'People of Color',\n",
    "                      'equity_focus_areas_2023__efa_pov200': 'Poverty',\n",
    "                        'equity_focus_areas_2023__efa_lep': 'LEP',\n",
    "                        'equity_focus_areas_2023__efa_dis': 'Disability',\n",
    "                      'equity_focus_areas_2023__efa_older': 'Older',\n",
    "                      'equity_focus_areas_2023__efa_youth': 'Youth',\n",
    "                  'Region': 'Region'\n",
    "                  }.items():\n",
    "    _df = df_lu_tot[['hh_p',col]].groupby(col).sum()[['hh_p']]\n",
    "    _df['equity_group'] = name\n",
    "    results_df_tot = pd.concat([results_df_tot, _df])\n",
    "results_df_tot = results_df_tot.reset_index()\n",
    "pd.options.display.float_format = '{:0,.0f}'.format\n",
    "\n",
    "_df = results_df_tot.pivot_table(index='equity_group',columns='index',values='hh_p')\n",
    "_df.rename(columns={0: 'Below Regional Average', \n",
    "                                1: 'Above Regional Average', \n",
    "                                2: 'Higher Share of Equity Population'}, inplace=True)\n",
    "_df.index.name = None\n",
    "_df.columns.name = None\n",
    "_df['Total Households'] = _df.sum(axis=1)\n",
    "_df_tot = _df.copy()\n",
    "_df = _df_tot.merge(_df_buffer, left_index=True, right_index=True, suffixes=['_tot','_buffer'])\n",
    "\n",
    "pd.options.display.float_format = '{:0,.1%}'.format\n",
    "efa_list = ['Below Regional Average', 'Above Regional Average','Higher Share of Equity Population', 'Total Households']\n",
    "for efa in efa_list:\n",
    "    _df[efa] = _df[f'{efa}_buffer']/_df[f'{efa}_tot']\n",
    "_df[efa_list].T\n"
   ]
  },
  {
   "cell_type": "raw",
   "id": "486bbd5b",
   "metadata": {
    "vscode": {
     "languageId": "raw"
    }
   },
   "source": [
    ":::"
   ]
  }
 ],
 "metadata": {
  "kernelspec": {
   "display_name": "summary",
   "language": "python",
   "name": "python3"
  },
  "language_info": {
   "codemirror_mode": {
    "name": "ipython",
    "version": 3
   },
   "file_extension": ".py",
   "mimetype": "text/x-python",
   "name": "python",
   "nbconvert_exporter": "python",
   "pygments_lexer": "ipython3",
   "version": "3.11.12"
  }
 },
 "nbformat": 4,
 "nbformat_minor": 5
}
