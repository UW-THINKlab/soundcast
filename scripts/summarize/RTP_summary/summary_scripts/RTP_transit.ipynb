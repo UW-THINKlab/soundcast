{
 "cells": [
  {
   "cell_type": "raw",
   "id": "ccc9e13b",
   "metadata": {
    "vscode": {
     "languageId": "raw"
    }
   },
   "source": [
    "---\n",
    "title: \"Transit\"\n",
    "date: today\n",
    "---"
   ]
  },
  {
   "cell_type": "code",
   "execution_count": 1,
   "id": "a424ffdb",
   "metadata": {
    "execution": {
     "iopub.execute_input": "2025-07-15T22:49:48.598496Z",
     "iopub.status.busy": "2025-07-15T22:49:48.597523Z",
     "iopub.status.idle": "2025-07-15T22:49:51.710608Z",
     "shell.execute_reply": "2025-07-15T22:49:51.709612Z"
    }
   },
   "outputs": [],
   "source": [
    "import os\n",
    "from pathlib import Path\n",
    "import pandas as pd\n",
    "import numpy as np\n",
    "import polars as pl\n",
    "from sqlalchemy import create_engine,text\n",
    "from scipy import stats\n",
    "import plotly.express as px\n",
    "import toml\n",
    "import geopandas as gpd\n",
    "import plotly.express as px\n",
    "import plotly.graph_objects as go\n",
    "import h5py\n",
    "\n",
    "%matplotlib inline\n",
    "from IPython.display import display, HTML\n",
    "\n",
    "relative_path = \"../../../..\"\n",
    "\n",
    "config = toml.load(Path.cwd() / '../../../../configuration/input_configuration.toml')\n",
    "summary_config = toml.load(Path.cwd() / '../../../../configuration/summary_configuration.toml')\n",
    "\n",
    "pd.options.display.float_format = '{:0,.0f}'.format"
   ]
  },
  {
   "cell_type": "markdown",
   "id": "f385bc16",
   "metadata": {},
   "source": [
    "# Transit Boardings"
   ]
  },
  {
   "cell_type": "raw",
   "id": "15e0909d",
   "metadata": {
    "vscode": {
     "languageId": "raw"
    }
   },
   "source": [
    ":::{.panel-tabset}\n",
    "### Agency"
   ]
  },
  {
   "cell_type": "code",
   "execution_count": 2,
   "id": "ecadfd8d",
   "metadata": {
    "execution": {
     "iopub.execute_input": "2025-07-15T22:49:51.716661Z",
     "iopub.status.busy": "2025-07-15T22:49:51.715596Z",
     "iopub.status.idle": "2025-07-15T22:49:51.743204Z",
     "shell.execute_reply": "2025-07-15T22:49:51.742694Z"
    }
   },
   "outputs": [
    {
     "data": {
      "text/html": [
       "<table border=\"1\" class=\"dataframe\">\n",
       "  <thead>\n",
       "    <tr style=\"text-align: right;\">\n",
       "      <th>Agency</th>\n",
       "      <th>Boardings</th>\n",
       "    </tr>\n",
       "  </thead>\n",
       "  <tbody>\n",
       "    <tr>\n",
       "      <td>King County Metro</td>\n",
       "      <td>288,880</td>\n",
       "    </tr>\n",
       "    <tr>\n",
       "      <td>Sound Transit</td>\n",
       "      <td>140,400</td>\n",
       "    </tr>\n",
       "    <tr>\n",
       "      <td>Community Transit</td>\n",
       "      <td>26,595</td>\n",
       "    </tr>\n",
       "    <tr>\n",
       "      <td>Pierce Transit</td>\n",
       "      <td>23,561</td>\n",
       "    </tr>\n",
       "    <tr>\n",
       "      <td>Kitsap Transit</td>\n",
       "      <td>10,961</td>\n",
       "    </tr>\n",
       "    <tr>\n",
       "      <td>Washington Ferries</td>\n",
       "      <td>6,326</td>\n",
       "    </tr>\n",
       "    <tr>\n",
       "      <td>Everett Transit</td>\n",
       "      <td>5,097</td>\n",
       "    </tr>\n",
       "    <tr>\n",
       "      <td>Region Total</td>\n",
       "      <td>501,820</td>\n",
       "    </tr>\n",
       "  </tbody>\n",
       "</table>"
      ],
      "text/plain": [
       "<IPython.core.display.HTML object>"
      ]
     },
     "execution_count": 2,
     "metadata": {},
     "output_type": "execute_result"
    }
   ],
   "source": [
    "\n",
    "df = pd.read_csv(os.path.join(relative_path,'outputs','transit','daily_boardings_by_agency.csv'),index_col=0)\n",
    "df.loc['Region Total','boardings'] = df['boardings'].sum()\n",
    "df = df.reset_index()\n",
    "df.rename(columns={'agency_name': 'Agency', 'boardings': 'Boardings'}, inplace=True)\n",
    "HTML(df.to_html(index=False))"
   ]
  },
  {
   "cell_type": "raw",
   "id": "e2c32d02",
   "metadata": {
    "vscode": {
     "languageId": "raw"
    }
   },
   "source": [
    "### Service Type"
   ]
  },
  {
   "cell_type": "code",
   "execution_count": 17,
   "id": "bc7c33d1",
   "metadata": {
    "execution": {
     "iopub.execute_input": "2025-07-15T22:49:51.747191Z",
     "iopub.status.busy": "2025-07-15T22:49:51.746193Z",
     "iopub.status.idle": "2025-07-15T22:49:51.798224Z",
     "shell.execute_reply": "2025-07-15T22:49:51.798224Z"
    }
   },
   "outputs": [
    {
     "data": {
      "text/html": [
       "<table border=\"1\" class=\"dataframe\">\n",
       "  <thead>\n",
       "    <tr style=\"text-align: right;\">\n",
       "      <th>Transit Type</th>\n",
       "      <th>Boardings</th>\n",
       "    </tr>\n",
       "  </thead>\n",
       "  <tbody>\n",
       "    <tr>\n",
       "      <td>Auto Ferry</td>\n",
       "      <td>6,326</td>\n",
       "    </tr>\n",
       "    <tr>\n",
       "      <td>Bus Rapid Transit</td>\n",
       "      <td>64,687</td>\n",
       "    </tr>\n",
       "    <tr>\n",
       "      <td>Commuter Rail</td>\n",
       "      <td>6,865</td>\n",
       "    </tr>\n",
       "    <tr>\n",
       "      <td>Light Rail</td>\n",
       "      <td>92,866</td>\n",
       "    </tr>\n",
       "    <tr>\n",
       "      <td>Local Bus</td>\n",
       "      <td>324,244</td>\n",
       "    </tr>\n",
       "    <tr>\n",
       "      <td>Passenger Ferry</td>\n",
       "      <td>6,831</td>\n",
       "    </tr>\n",
       "    <tr>\n",
       "      <td>Total</td>\n",
       "      <td>501,820</td>\n",
       "    </tr>\n",
       "  </tbody>\n",
       "</table>"
      ],
      "text/plain": [
       "<IPython.core.display.HTML object>"
      ]
     },
     "execution_count": 17,
     "metadata": {},
     "output_type": "execute_result"
    }
   ],
   "source": [
    "df = pd.read_csv(os.path.join(relative_path,'outputs','transit','transit_line_results.csv'),index_col=0)\n",
    "\n",
    "transit_type_map = {\n",
    "    1: 'Local Bus',\n",
    "    2: 'Express Bus',\n",
    "    3: 'Bus Rapid Transit',\n",
    "    4: 'Streetcar',\n",
    "    5: 'Commuter Rail',\n",
    "    6: 'Light Rail',\n",
    "    7: 'Auto Ferry',\n",
    "    8: 'Passenger Ferry'\n",
    "}\n",
    "df['transit_type'] = df['transit_type'].map(transit_type_map)\n",
    "df = df.groupby('transit_type').sum()[['boardings']]\n",
    "df.loc['Total'] = df.sum(axis=0)\n",
    "df = df.reset_index()\n",
    "df.rename(columns={'boardings':' Boardings','transit_type':'Transit Type'}, inplace=True)\n",
    "HTML(df.to_html(index=False))"
   ]
  },
  {
   "cell_type": "raw",
   "id": "fefa8946",
   "metadata": {
    "vscode": {
     "languageId": "raw"
    }
   },
   "source": [
    "### Sound Transit Modes"
   ]
  },
  {
   "cell_type": "code",
   "execution_count": 36,
   "id": "0a977e18",
   "metadata": {},
   "outputs": [
    {
     "data": {
      "text/html": [
       "<div>\n",
       "<style scoped>\n",
       "    .dataframe tbody tr th:only-of-type {\n",
       "        vertical-align: middle;\n",
       "    }\n",
       "\n",
       "    .dataframe tbody tr th {\n",
       "        vertical-align: top;\n",
       "    }\n",
       "\n",
       "    .dataframe thead th {\n",
       "        text-align: right;\n",
       "    }\n",
       "</style>\n",
       "<table border=\"1\" class=\"dataframe\">\n",
       "  <thead>\n",
       "    <tr style=\"text-align: right;\">\n",
       "      <th></th>\n",
       "      <th>boardings</th>\n",
       "    </tr>\n",
       "    <tr>\n",
       "      <th>transit_type</th>\n",
       "      <th></th>\n",
       "    </tr>\n",
       "  </thead>\n",
       "  <tbody>\n",
       "    <tr>\n",
       "      <th>Bus</th>\n",
       "      <td>42,473</td>\n",
       "    </tr>\n",
       "    <tr>\n",
       "      <th>Commuter Rail</th>\n",
       "      <td>6,865</td>\n",
       "    </tr>\n",
       "    <tr>\n",
       "      <th>Light Rail</th>\n",
       "      <td>91,062</td>\n",
       "    </tr>\n",
       "  </tbody>\n",
       "</table>\n",
       "</div>"
      ],
      "text/plain": [
       "               boardings\n",
       "transit_type            \n",
       "Bus               42,473\n",
       "Commuter Rail      6,865\n",
       "Light Rail        91,062"
      ]
     },
     "execution_count": 36,
     "metadata": {},
     "output_type": "execute_result"
    }
   ],
   "source": [
    "df = pd.read_csv(os.path.join(relative_path,'outputs','transit','transit_line_results.csv'),index_col=0)\n",
    "df = df[(df['agency_code']==6)].groupby('transit_type').sum()[['boardings']]\n",
    "df.index = df.index.map({1: 'Bus', 3: 'BRT (Stride)', 5: 'Commuter Rail', 6: 'Light Rail'})\n",
    "df"
   ]
  },
  {
   "cell_type": "markdown",
   "id": "d47815e4",
   "metadata": {},
   "source": [
    "### Trips by Submode"
   ]
  },
  {
   "cell_type": "code",
   "execution_count": 4,
   "id": "fb403a84",
   "metadata": {
    "execution": {
     "iopub.execute_input": "2025-07-15T22:49:51.802209Z",
     "iopub.status.busy": "2025-07-15T22:49:51.801210Z",
     "iopub.status.idle": "2025-07-15T22:49:51.817229Z",
     "shell.execute_reply": "2025-07-15T22:49:51.816225Z"
    }
   },
   "outputs": [
    {
     "data": {
      "text/html": [
       "<table border=\"1\" class=\"dataframe\">\n",
       "  <thead>\n",
       "    <tr style=\"text-align: right;\">\n",
       "      <th>Transit Type</th>\n",
       "      <th>Total Trips</th>\n",
       "    </tr>\n",
       "  </thead>\n",
       "  <tbody>\n",
       "    <tr>\n",
       "      <td>Commuter Rail</td>\n",
       "      <td>7,669</td>\n",
       "    </tr>\n",
       "    <tr>\n",
       "      <td>Light Rail</td>\n",
       "      <td>92,037</td>\n",
       "    </tr>\n",
       "    <tr>\n",
       "      <td>Auto Ferry</td>\n",
       "      <td>8,648</td>\n",
       "    </tr>\n",
       "    <tr>\n",
       "      <td>Passenger Ferry</td>\n",
       "      <td>3,542</td>\n",
       "    </tr>\n",
       "    <tr>\n",
       "      <td>Bus</td>\n",
       "      <td>252,169</td>\n",
       "    </tr>\n",
       "    <tr>\n",
       "      <td>Total</td>\n",
       "      <td>364,066</td>\n",
       "    </tr>\n",
       "  </tbody>\n",
       "</table>"
      ],
      "text/plain": [
       "<IPython.core.display.HTML object>"
      ]
     },
     "execution_count": 4,
     "metadata": {},
     "output_type": "execute_result"
    }
   ],
   "source": [
    "df = pd.read_csv(os.path.join(relative_path,'outputs','transit','total_transit_trips.csv'),index_col=0)\n",
    "df.rename(index={'commuter_rail': 'Commuter Rail',\n",
    "                'litrat': 'Light Rail',\n",
    "                'ferry': 'Auto Ferry',\n",
    "                'passenger_ferry': 'Passenger Ferry',\n",
    "                'trnst': 'Bus'}, inplace=True)\n",
    "df.columns = ['Total Trips']\n",
    "df.loc['Total'] = df.sum(axis=0)\n",
    "df.reset_index(inplace=True)\n",
    "df.rename(columns={'index': 'Transit Type'}, inplace=True)\n",
    "HTML(df.to_html(index=False))"
   ]
  },
  {
   "cell_type": "markdown",
   "id": "a6ac0392",
   "metadata": {},
   "source": [
    "# Households Near HCT"
   ]
  },
  {
   "cell_type": "code",
   "execution_count": 5,
   "id": "222faf9b",
   "metadata": {
    "execution": {
     "iopub.execute_input": "2025-07-15T22:49:51.822214Z",
     "iopub.status.busy": "2025-07-15T22:49:51.821221Z",
     "iopub.status.idle": "2025-07-15T22:49:51.853846Z",
     "shell.execute_reply": "2025-07-15T22:49:51.852840Z"
    }
   },
   "outputs": [],
   "source": [
    "# List of Stations\n",
    "# Load transit stops file\n",
    "\n",
    "#\"The definition we have been using for the RTP is BRT, LRT, Commuter Rail, StreetCar and Ferry.\"\n",
    "df = pd.read_csv(r'../../../../inputs/scenario/networks/transit_stops.csv')\n",
    "# Streetcar is coded as light rail\n",
    "df['hct'] = 0\n",
    "df.loc[df[['commuter_rail','light_rail','ferry','brt']].sum(axis=1) > 0,'hct'] = 1\n",
    "df_hct = df[df['hct'] == 1]\n",
    "\n",
    "# Map of Stations\n",
    "# Load as a geodataframe\n",
    "gdf_hct = gpd.GeoDataFrame(\n",
    "    df_hct, geometry=gpd.points_from_xy(df_hct.x, df_hct.y))\n",
    "\n",
    "gdf_hct.crs = 'EPSG:2285'"
   ]
  },
  {
   "cell_type": "code",
   "execution_count": 6,
   "id": "5e227d1d",
   "metadata": {
    "execution": {
     "iopub.execute_input": "2025-07-15T22:49:51.859827Z",
     "iopub.status.busy": "2025-07-15T22:49:51.858833Z",
     "iopub.status.idle": "2025-07-15T22:49:53.639047Z",
     "shell.execute_reply": "2025-07-15T22:49:53.638520Z"
    }
   },
   "outputs": [],
   "source": [
    "df_lu = pl.read_csv(r'..\\..\\..\\..\\inputs\\scenario\\landuse\\parcels_urbansim.txt', separator=\" \").to_pandas()\n",
    "\n",
    "# Load as a geodataframe\n",
    "gdf_lu = gpd.GeoDataFrame(\n",
    "    df_lu, geometry=gpd.points_from_xy(df_lu.xcoord_p, df_lu.ycoord_p))\n",
    "\n",
    "gdf_lu.crs = 'EPSG:2285'"
   ]
  },
  {
   "cell_type": "code",
   "execution_count": 7,
   "id": "6f973e52",
   "metadata": {
    "execution": {
     "iopub.execute_input": "2025-07-15T22:49:53.646011Z",
     "iopub.status.busy": "2025-07-15T22:49:53.644016Z",
     "iopub.status.idle": "2025-07-15T22:50:09.800186Z",
     "shell.execute_reply": "2025-07-15T22:50:09.800186Z"
    }
   },
   "outputs": [],
   "source": [
    "parcel_geog = pd.read_sql_table('parcel_'+config['base_year']+'_geography', 'sqlite:///../../../../inputs/db/'+config['db_name'])"
   ]
  },
  {
   "cell_type": "code",
   "execution_count": 8,
   "id": "c9a6943e",
   "metadata": {
    "execution": {
     "iopub.execute_input": "2025-07-15T22:50:09.803174Z",
     "iopub.status.busy": "2025-07-15T22:50:09.803174Z",
     "iopub.status.idle": "2025-07-15T22:50:10.327038Z",
     "shell.execute_reply": "2025-07-15T22:50:10.326046Z"
    }
   },
   "outputs": [],
   "source": [
    "df_lu = df_lu.merge(parcel_geog,left_on='parcelid', right_on='ParcelID')\n",
    "# Add a field that defines whether a parcel is inside (1) or outside (0) any RGC\n",
    "df_lu['RGC_binary'] = 0\n",
    "df_lu.loc[df_lu['GrowthCenterName'] != 'Not in RGC', 'RGC_binary'] = 1"
   ]
  },
  {
   "cell_type": "code",
   "execution_count": 9,
   "id": "9045f64a",
   "metadata": {
    "execution": {
     "iopub.execute_input": "2025-07-15T22:50:10.332025Z",
     "iopub.status.busy": "2025-07-15T22:50:10.332025Z",
     "iopub.status.idle": "2025-07-15T22:50:10.345021Z",
     "shell.execute_reply": "2025-07-15T22:50:10.344504Z"
    }
   },
   "outputs": [],
   "source": [
    "def calculate_buffer(gdf_lu, gdf_hct, distance):\n",
    "    \n",
    "    # Buffer the HCT station gdf\n",
    "    gdf_hct['geometry'] = gdf_hct.buffer(distance)\n",
    "\n",
    "    gdf_intersect = gpd.overlay(gdf_hct, gdf_lu, how=\"intersection\", keep_geom_type=False)\n",
    "    df = df_lu[df_lu['parcelid'].isin(gdf_intersect['parcelid'].unique())]\n",
    "    \n",
    "    return df\n",
    "\n",
    "def aggregate_parcels(df, col_dict, sum_field):\n",
    "    results_df = pd.DataFrame()\n",
    "    for col, name in col_dict.items():\n",
    "        _df = df[[col,sum_field]].groupby(col).sum()[[sum_field]]\n",
    "        _df['group'] = name\n",
    "        results_df = pd.concat([results_df,_df])\n",
    "    results_df = results_df.reset_index()\n",
    "    \n",
    "    return results_df"
   ]
  },
  {
   "cell_type": "code",
   "execution_count": 10,
   "id": "66158897",
   "metadata": {
    "execution": {
     "iopub.execute_input": "2025-07-15T22:50:10.349517Z",
     "iopub.status.busy": "2025-07-15T22:50:10.348520Z",
     "iopub.status.idle": "2025-07-15T22:50:12.364450Z",
     "shell.execute_reply": "2025-07-15T22:50:12.363454Z"
    }
   },
   "outputs": [],
   "source": [
    "df_025 = calculate_buffer(gdf_lu, gdf_hct, distance=5280.0/4)"
   ]
  },
  {
   "cell_type": "code",
   "execution_count": 11,
   "id": "73351f84",
   "metadata": {
    "execution": {
     "iopub.execute_input": "2025-07-15T22:50:12.370434Z",
     "iopub.status.busy": "2025-07-15T22:50:12.369437Z",
     "iopub.status.idle": "2025-07-15T22:50:20.779734Z",
     "shell.execute_reply": "2025-07-15T22:50:20.779218Z"
    }
   },
   "outputs": [],
   "source": [
    "df_050 = calculate_buffer(gdf_lu, gdf_hct, distance=5280.0/2)"
   ]
  },
  {
   "cell_type": "code",
   "execution_count": 12,
   "id": "23089080",
   "metadata": {
    "execution": {
     "iopub.execute_input": "2025-07-15T22:50:20.785716Z",
     "iopub.status.busy": "2025-07-15T22:50:20.784717Z",
     "iopub.status.idle": "2025-07-15T22:50:21.209094Z",
     "shell.execute_reply": "2025-07-15T22:50:21.209094Z"
    }
   },
   "outputs": [],
   "source": [
    "pd.options.display.float_format = '{:0,.0f}'.format\n",
    "col_dict = {'equity_focus_areas_2023__efa_poc': 'People of Color',\n",
    "                      'equity_focus_areas_2023__efa_pov200': 'Poverty',\n",
    "                        'equity_focus_areas_2023__efa_lep': 'LEP',\n",
    "                      'equity_focus_areas_2023__efa_older': 'Older',\n",
    "                      'equity_focus_areas_2023__efa_youth': 'Youth',\n",
    "            'equity_focus_areas_2023__efa_dis': 'Disability',\n",
    "           'rg_proposed': 'Regional Geography',\n",
    "            'CountyName': 'County',\n",
    "            'GrowthCenterName': 'Regional Growth Center',\n",
    "            'RGC_binary': 'RGC Binary',\n",
    "            'Region': 'Region'\n",
    "           }\n",
    "\n",
    "hct_hh_df = pd.DataFrame()\n",
    "df_025 = df_025.copy()\n",
    "df_025['Region'] = 1\n",
    "df = aggregate_parcels(df_025, col_dict, 'hh_p')\n",
    "df['distance'] = 0.25\n",
    "hct_hh_df = pd.concat([hct_hh_df,df])\n",
    "df_050 = df_050.copy()\n",
    "df_050['Region'] = 1\n",
    "df = aggregate_parcels(df_050, col_dict, 'hh_p')\n",
    "df['distance'] = 0.50\n",
    "hct_hh_df = pd.concat([hct_hh_df,df])"
   ]
  },
  {
   "cell_type": "code",
   "execution_count": 13,
   "id": "32e68e18",
   "metadata": {
    "execution": {
     "iopub.execute_input": "2025-07-15T22:50:21.212086Z",
     "iopub.status.busy": "2025-07-15T22:50:21.212086Z",
     "iopub.status.idle": "2025-07-15T22:50:21.215820Z",
     "shell.execute_reply": "2025-07-15T22:50:21.215820Z"
    }
   },
   "outputs": [],
   "source": [
    "pd.options.display.float_format = '{:0,.0f}'.format"
   ]
  },
  {
   "cell_type": "code",
   "execution_count": 14,
   "id": "03a5f329",
   "metadata": {
    "execution": {
     "iopub.execute_input": "2025-07-15T22:50:21.218805Z",
     "iopub.status.busy": "2025-07-15T22:50:21.218805Z",
     "iopub.status.idle": "2025-07-15T22:50:21.225052Z",
     "shell.execute_reply": "2025-07-15T22:50:21.224047Z"
    }
   },
   "outputs": [],
   "source": [
    "def calculate_buffer(gdf_lu, gdf_hct, distance):\n",
    "    \n",
    "    # Buffer the HCT station gdf\n",
    "    gdf_hct['geometry'] = gdf_hct.buffer(distance)\n",
    "\n",
    "    gdf_intersect = gpd.overlay(gdf_hct, gdf_lu, how=\"intersection\", keep_geom_type=False)\n",
    "    df = df_lu[df_lu['parcelid'].isin(gdf_intersect['parcelid'].unique())]\n",
    "    \n",
    "    return df\n",
    "\n",
    "def aggregate_parcels(df, col_dict, sum_field):\n",
    "    results_df = pd.DataFrame()\n",
    "    for col, name in col_dict.items():\n",
    "        _df = df[[col,sum_field]].groupby(col).sum()[[sum_field]]\n",
    "        _df['group'] = name\n",
    "        results_df = pd.concat([results_df,_df])\n",
    "    results_df = results_df.reset_index()\n",
    "    \n",
    "    return results_df"
   ]
  },
  {
   "cell_type": "code",
   "execution_count": 15,
   "id": "4eb2d25d",
   "metadata": {
    "execution": {
     "iopub.execute_input": "2025-07-15T22:50:21.228043Z",
     "iopub.status.busy": "2025-07-15T22:50:21.228043Z",
     "iopub.status.idle": "2025-07-15T22:50:39.419065Z",
     "shell.execute_reply": "2025-07-15T22:50:39.418074Z"
    }
   },
   "outputs": [],
   "source": [
    "df_025 = calculate_buffer(gdf_lu, gdf_hct, distance=5280.0/4)"
   ]
  },
  {
   "cell_type": "code",
   "execution_count": 16,
   "id": "f63f8cab",
   "metadata": {
    "execution": {
     "iopub.execute_input": "2025-07-15T22:50:39.423056Z",
     "iopub.status.busy": "2025-07-15T22:50:39.422059Z",
     "iopub.status.idle": "2025-07-15T22:51:37.671188Z",
     "shell.execute_reply": "2025-07-15T22:51:37.671188Z"
    }
   },
   "outputs": [],
   "source": [
    "df_050 = calculate_buffer(gdf_lu, gdf_hct, distance=5280.0/2)"
   ]
  },
  {
   "cell_type": "code",
   "execution_count": 17,
   "id": "7d50b87e",
   "metadata": {
    "execution": {
     "iopub.execute_input": "2025-07-15T22:51:37.676170Z",
     "iopub.status.busy": "2025-07-15T22:51:37.675173Z",
     "iopub.status.idle": "2025-07-15T22:51:38.634441Z",
     "shell.execute_reply": "2025-07-15T22:51:38.634441Z"
    }
   },
   "outputs": [],
   "source": [
    "pd.options.display.float_format = '{:0,.0f}'.format\n",
    "col_dict = {'equity_focus_areas_2023__efa_poc': 'People of Color',\n",
    "                      'equity_focus_areas_2023__efa_pov200': 'Poverty',\n",
    "                        'equity_focus_areas_2023__efa_lep': 'LEP',\n",
    "                      'equity_focus_areas_2023__efa_older': 'Older',\n",
    "                      'equity_focus_areas_2023__efa_youth': 'Youth',\n",
    "            'equity_focus_areas_2023__efa_dis': 'Disability',\n",
    "           'rg_proposed': 'Regional Geography',\n",
    "            'CountyName': 'County',\n",
    "            'GrowthCenterName': 'Regional Growth Center',\n",
    "            'RGC_binary': 'RGC Binary',\n",
    "            'Region': 'Region'\n",
    "           }\n",
    "\n",
    "hct_hh_df = pd.DataFrame()\n",
    "df_025 = df_025.copy()\n",
    "df_025['Region'] = 1\n",
    "df = aggregate_parcels(df_025, col_dict, 'hh_p')\n",
    "df['distance'] = 0.25\n",
    "hct_hh_df = pd.concat([hct_hh_df,df])\n",
    "df_050 = df_050.copy()\n",
    "df_050['Region'] = 1\n",
    "df = aggregate_parcels(df_050, col_dict, 'hh_p')\n",
    "df['distance'] = 0.50\n",
    "hct_hh_df = pd.concat([hct_hh_df,df])"
   ]
  },
  {
   "cell_type": "code",
   "execution_count": 18,
   "id": "5318fe3e",
   "metadata": {
    "execution": {
     "iopub.execute_input": "2025-07-15T22:51:38.637433Z",
     "iopub.status.busy": "2025-07-15T22:51:38.637433Z",
     "iopub.status.idle": "2025-07-15T22:51:38.640988Z",
     "shell.execute_reply": "2025-07-15T22:51:38.640472Z"
    }
   },
   "outputs": [],
   "source": [
    "pd.options.display.float_format = '{:0,.0f}'.format"
   ]
  },
  {
   "cell_type": "raw",
   "id": "67e8d2e6",
   "metadata": {},
   "source": [
    ":::{.panel-tabset}"
   ]
  },
  {
   "cell_type": "raw",
   "id": "528f6a72",
   "metadata": {},
   "source": [
    "### Region"
   ]
  },
  {
   "cell_type": "code",
   "execution_count": 19,
   "id": "d9ec280b",
   "metadata": {
    "execution": {
     "iopub.execute_input": "2025-07-15T22:51:38.642972Z",
     "iopub.status.busy": "2025-07-15T22:51:38.642972Z",
     "iopub.status.idle": "2025-07-15T22:51:38.660349Z",
     "shell.execute_reply": "2025-07-15T22:51:38.659839Z"
    }
   },
   "outputs": [
    {
     "data": {
      "text/html": [
       "<table border=\"1\" class=\"dataframe\">\n",
       "  <thead>\n",
       "    <tr style=\"text-align: right;\">\n",
       "      <th>Region</th>\n",
       "      <th>1/4 Mile</th>\n",
       "      <th>1/2 Mile</th>\n",
       "      <th>% of Households (1/4 Mile)</th>\n",
       "      <th>% of Households (1/2 Mile)</th>\n",
       "    </tr>\n",
       "  </thead>\n",
       "  <tbody>\n",
       "    <tr>\n",
       "      <td>1</td>\n",
       "      <td>616,124</td>\n",
       "      <td>784,821</td>\n",
       "      <td>35.5%</td>\n",
       "      <td>45.2%</td>\n",
       "    </tr>\n",
       "  </tbody>\n",
       "</table>"
      ],
      "text/plain": [
       "<IPython.core.display.HTML object>"
      ]
     },
     "metadata": {},
     "output_type": "display_data"
    }
   ],
   "source": [
    "\n",
    "df = hct_hh_df[hct_hh_df['group'] == 'Region']\n",
    "df = df.rename(columns={'hh_p': 'Total'}).copy()\n",
    "df = df.pivot_table(index='index', columns='distance', values='Total', aggfunc='sum')\n",
    "df[0.25] = df[0.25].astype('float32')\n",
    "df[0.5] = df[0.5].astype('float32')\n",
    "df.index.name = 'Region'\n",
    "df = df.reset_index()\n",
    "df = df.rename_axis(None, axis=1)\n",
    "df = df.rename(columns={0.25: '1/4 Mile', 0.5: '1/2 Mile'})\n",
    "\n",
    "df['% of Households (1/4 Mile)'] = df['1/4 Mile']/df_lu['hh_p'].sum()\n",
    "df['% of Households (1/2 Mile)'] = df['1/2 Mile']/df_lu['hh_p'].sum()\n",
    "\n",
    "output = df.to_html(formatters={\n",
    "    '% of Households (1/4 Mile)': '{:0,.1%}'.format,\n",
    "    '% of Households (1/2 Mile)': '{:0,.1%}'.format,\n",
    "}, index=False)\n",
    "display(HTML(output))"
   ]
  },
  {
   "cell_type": "raw",
   "id": "8fa466bd",
   "metadata": {},
   "source": [
    "### County"
   ]
  },
  {
   "cell_type": "code",
   "execution_count": 20,
   "id": "5174ce46",
   "metadata": {
    "execution": {
     "iopub.execute_input": "2025-07-15T22:51:38.663519Z",
     "iopub.status.busy": "2025-07-15T22:51:38.663000Z",
     "iopub.status.idle": "2025-07-15T22:51:38.931168Z",
     "shell.execute_reply": "2025-07-15T22:51:38.930174Z"
    }
   },
   "outputs": [
    {
     "data": {
      "text/html": [
       "<table border=\"1\" class=\"dataframe\">\n",
       "  <thead>\n",
       "    <tr style=\"text-align: right;\">\n",
       "      <th>County</th>\n",
       "      <th>1/4 Mile</th>\n",
       "      <th>1/2 Mile</th>\n",
       "      <th>% of Households (1/4 Mile)</th>\n",
       "      <th>% of Households (1/2 Mile)</th>\n",
       "    </tr>\n",
       "  </thead>\n",
       "  <tbody>\n",
       "    <tr>\n",
       "      <td>King</td>\n",
       "      <td>460,505</td>\n",
       "      <td>557,464</td>\n",
       "      <td>48.1%</td>\n",
       "      <td>58.2%</td>\n",
       "    </tr>\n",
       "    <tr>\n",
       "      <td>Kitsap</td>\n",
       "      <td>8,127</td>\n",
       "      <td>14,013</td>\n",
       "      <td>7.5%</td>\n",
       "      <td>12.9%</td>\n",
       "    </tr>\n",
       "    <tr>\n",
       "      <td>Pierce</td>\n",
       "      <td>34,700</td>\n",
       "      <td>59,745</td>\n",
       "      <td>9.9%</td>\n",
       "      <td>17.1%</td>\n",
       "    </tr>\n",
       "    <tr>\n",
       "      <td>Snohomish</td>\n",
       "      <td>112,792</td>\n",
       "      <td>153,599</td>\n",
       "      <td>35.3%</td>\n",
       "      <td>48.1%</td>\n",
       "    </tr>\n",
       "  </tbody>\n",
       "</table>"
      ],
      "text/plain": [
       "<IPython.core.display.HTML object>"
      ]
     },
     "metadata": {},
     "output_type": "display_data"
    }
   ],
   "source": [
    "pd.options.display.float_format = '{:0,.0f}'.format\n",
    "df = hct_hh_df[hct_hh_df['group'] == 'County'].copy()\n",
    "df = df.rename(columns={'hh_p': 'Total'}).copy()\n",
    "df = df.pivot_table(index='index', columns='distance', values='Total', aggfunc='sum')\n",
    "df[0.25] = df[0.25].astype('float32')\n",
    "df[0.5] = df[0.5].astype('float32')\n",
    "df.index.name = 'County'\n",
    "df = df.reset_index()\n",
    "df = df.rename_axis(None, axis=1)\n",
    "df.rename(columns={0.25: '1/4 Mile', 0.5: '1/2 Mile'}, inplace=True)\n",
    "\n",
    "_df = df.merge(df_lu[['CountyName','hh_p']].groupby('CountyName').sum()[['hh_p']].reset_index(),left_on='County', right_on='CountyName')\n",
    "_df['% of Households (1/4 Mile)'] = _df['1/4 Mile']/_df['hh_p']\n",
    "_df['% of Households (1/2 Mile)'] = _df['1/2 Mile']/_df['hh_p']\n",
    "\n",
    "df = df.merge(_df[['County', '% of Households (1/4 Mile)', '% of Households (1/2 Mile)']], \n",
    "              on='County')\n",
    "\n",
    "output = df.to_html(formatters={\n",
    "    '% of Households (1/4 Mile)': '{:0,.1%}'.format,\n",
    "    '% of Households (1/2 Mile)': '{:0,.1%}'.format,\n",
    "}, index=False)\n",
    "display(HTML(output))"
   ]
  },
  {
   "cell_type": "raw",
   "id": "0102cebd",
   "metadata": {},
   "source": [
    "### Regional Growth Center"
   ]
  },
  {
   "cell_type": "code",
   "execution_count": 21,
   "id": "b376226d",
   "metadata": {
    "execution": {
     "iopub.execute_input": "2025-07-15T22:51:38.937152Z",
     "iopub.status.busy": "2025-07-15T22:51:38.936154Z",
     "iopub.status.idle": "2025-07-15T22:51:38.991664Z",
     "shell.execute_reply": "2025-07-15T22:51:38.990673Z"
    }
   },
   "outputs": [
    {
     "data": {
      "text/html": [
       "<table border=\"1\" class=\"dataframe\">\n",
       "  <thead>\n",
       "    <tr style=\"text-align: right;\">\n",
       "      <th>RGC Designation</th>\n",
       "      <th>1/4 Mile</th>\n",
       "      <th>1/2 Mile</th>\n",
       "      <th>% of Households (1/4 Mile)</th>\n",
       "      <th>% of Households (1/2 Mile)</th>\n",
       "    </tr>\n",
       "  </thead>\n",
       "  <tbody>\n",
       "    <tr>\n",
       "      <td>Outside RGC</td>\n",
       "      <td>467,586</td>\n",
       "      <td>632,802</td>\n",
       "      <td>29.8%</td>\n",
       "      <td>40.3%</td>\n",
       "    </tr>\n",
       "    <tr>\n",
       "      <td>Inside RGC</td>\n",
       "      <td>148,538</td>\n",
       "      <td>152,019</td>\n",
       "      <td>89.1%</td>\n",
       "      <td>91.2%</td>\n",
       "    </tr>\n",
       "  </tbody>\n",
       "</table>"
      ],
      "text/plain": [
       "<IPython.core.display.HTML object>"
      ]
     },
     "metadata": {},
     "output_type": "display_data"
    }
   ],
   "source": [
    "pd.options.display.float_format = '{:0,.0f}'.format\n",
    "df = hct_hh_df[hct_hh_df['group'] == 'RGC Binary'].copy()\n",
    "df.rename(columns={'hh_p': 'Total'}, inplace=True)\n",
    "df = df.pivot_table(index='index', columns='distance', values='Total', aggfunc='sum')\n",
    "df = df.fillna(0)\n",
    "df[0.25] = df[0.25].astype('float32')\n",
    "df[0.5] = df[0.5].astype('float32')\n",
    "df.index.name = 'RGC Binary'\n",
    "df = df.reset_index()\n",
    "df = df.rename_axis(None, axis=1)\n",
    "df.rename(columns={0.25: '1/4 Mile', 0.5: '1/2 Mile'}, inplace=True)\n",
    "\n",
    "\n",
    "_df = df.merge(df_lu[['RGC_binary','hh_p']].groupby('RGC_binary').sum()[['hh_p']].reset_index(),left_on='RGC Binary', \n",
    "               right_on='RGC_binary')\n",
    "_df['% of Households (1/4 Mile)'] = _df['1/4 Mile']/_df['hh_p']\n",
    "_df['% of Households (1/2 Mile)'] = _df['1/2 Mile']/_df['hh_p']\n",
    "\n",
    "df = df.merge(_df[['RGC Binary', '% of Households (1/4 Mile)', '% of Households (1/2 Mile)']], \n",
    "              on='RGC Binary')\n",
    "df['RGC Designation'] = df['RGC Binary'].map({0: 'Outside RGC', 1: 'Inside RGC'})\n",
    "df = df[['RGC Designation','1/4 Mile','1/2 Mile','% of Households (1/4 Mile)', '% of Households (1/2 Mile)']]\n",
    "output = df.to_html(formatters={\n",
    "    '% of Households (1/4 Mile)': '{:0,.1%}'.format,\n",
    "    '% of Households (1/2 Mile)': '{:0,.1%}'.format,\n",
    "}, index=False)\n",
    "display(HTML(output))"
   ]
  },
  {
   "cell_type": "code",
   "execution_count": 22,
   "id": "5e0a5e12",
   "metadata": {
    "execution": {
     "iopub.execute_input": "2025-07-15T22:51:38.997648Z",
     "iopub.status.busy": "2025-07-15T22:51:38.996651Z",
     "iopub.status.idle": "2025-07-15T22:51:39.261987Z",
     "shell.execute_reply": "2025-07-15T22:51:39.260994Z"
    }
   },
   "outputs": [
    {
     "data": {
      "text/html": [
       "<table border=\"1\" class=\"dataframe\">\n",
       "  <thead>\n",
       "    <tr style=\"text-align: right;\">\n",
       "      <th>Regional Growth Center</th>\n",
       "      <th>1/4 Mile</th>\n",
       "      <th>1/2 Mile</th>\n",
       "      <th>% of Households (1/4 Mile)</th>\n",
       "      <th>% of Households (1/2 Mile)</th>\n",
       "    </tr>\n",
       "  </thead>\n",
       "  <tbody>\n",
       "    <tr>\n",
       "      <td>Auburn</td>\n",
       "      <td>1,004</td>\n",
       "      <td>1,004</td>\n",
       "      <td>100.0%</td>\n",
       "      <td>100.0%</td>\n",
       "    </tr>\n",
       "    <tr>\n",
       "      <td>Bellevue</td>\n",
       "      <td>9,812</td>\n",
       "      <td>9,812</td>\n",
       "      <td>100.0%</td>\n",
       "      <td>100.0%</td>\n",
       "    </tr>\n",
       "    <tr>\n",
       "      <td>Bothell Canyon Park</td>\n",
       "      <td>286</td>\n",
       "      <td>286</td>\n",
       "      <td>100.0%</td>\n",
       "      <td>100.0%</td>\n",
       "    </tr>\n",
       "    <tr>\n",
       "      <td>Bremerton</td>\n",
       "      <td>1,650</td>\n",
       "      <td>1,650</td>\n",
       "      <td>100.0%</td>\n",
       "      <td>100.0%</td>\n",
       "    </tr>\n",
       "    <tr>\n",
       "      <td>Burien</td>\n",
       "      <td>1,967</td>\n",
       "      <td>1,967</td>\n",
       "      <td>100.0%</td>\n",
       "      <td>100.0%</td>\n",
       "    </tr>\n",
       "    <tr>\n",
       "      <td>Everett</td>\n",
       "      <td>3,827</td>\n",
       "      <td>3,827</td>\n",
       "      <td>100.0%</td>\n",
       "      <td>100.0%</td>\n",
       "    </tr>\n",
       "    <tr>\n",
       "      <td>Federal Way</td>\n",
       "      <td>234</td>\n",
       "      <td>234</td>\n",
       "      <td>100.0%</td>\n",
       "      <td>100.0%</td>\n",
       "    </tr>\n",
       "    <tr>\n",
       "      <td>Greater Downtown Kirkland</td>\n",
       "      <td>0</td>\n",
       "      <td>153</td>\n",
       "      <td>0.0%</td>\n",
       "      <td>3.4%</td>\n",
       "    </tr>\n",
       "    <tr>\n",
       "      <td>Kent</td>\n",
       "      <td>967</td>\n",
       "      <td>967</td>\n",
       "      <td>100.0%</td>\n",
       "      <td>100.0%</td>\n",
       "    </tr>\n",
       "    <tr>\n",
       "      <td>Lakewood</td>\n",
       "      <td>10</td>\n",
       "      <td>249</td>\n",
       "      <td>3.9%</td>\n",
       "      <td>96.5%</td>\n",
       "    </tr>\n",
       "    <tr>\n",
       "      <td>Lynnwood</td>\n",
       "      <td>726</td>\n",
       "      <td>1,988</td>\n",
       "      <td>32.2%</td>\n",
       "      <td>88.2%</td>\n",
       "    </tr>\n",
       "    <tr>\n",
       "      <td>Not in RGC</td>\n",
       "      <td>467,586</td>\n",
       "      <td>632,802</td>\n",
       "      <td>29.8%</td>\n",
       "      <td>40.3%</td>\n",
       "    </tr>\n",
       "    <tr>\n",
       "      <td>Puyallup Downtown</td>\n",
       "      <td>566</td>\n",
       "      <td>566</td>\n",
       "      <td>100.0%</td>\n",
       "      <td>100.0%</td>\n",
       "    </tr>\n",
       "    <tr>\n",
       "      <td>Redmond Downtown</td>\n",
       "      <td>5,276</td>\n",
       "      <td>5,276</td>\n",
       "      <td>100.0%</td>\n",
       "      <td>100.0%</td>\n",
       "    </tr>\n",
       "    <tr>\n",
       "      <td>Redmond-Overlake</td>\n",
       "      <td>2,629</td>\n",
       "      <td>2,629</td>\n",
       "      <td>100.0%</td>\n",
       "      <td>100.0%</td>\n",
       "    </tr>\n",
       "    <tr>\n",
       "      <td>Renton</td>\n",
       "      <td>3,051</td>\n",
       "      <td>3,051</td>\n",
       "      <td>100.0%</td>\n",
       "      <td>100.0%</td>\n",
       "    </tr>\n",
       "    <tr>\n",
       "      <td>SeaTac</td>\n",
       "      <td>4,736</td>\n",
       "      <td>4,736</td>\n",
       "      <td>100.0%</td>\n",
       "      <td>100.0%</td>\n",
       "    </tr>\n",
       "    <tr>\n",
       "      <td>Seattle Downtown</td>\n",
       "      <td>29,898</td>\n",
       "      <td>29,898</td>\n",
       "      <td>100.0%</td>\n",
       "      <td>100.0%</td>\n",
       "    </tr>\n",
       "    <tr>\n",
       "      <td>Seattle First Hill/Capitol Hill</td>\n",
       "      <td>35,546</td>\n",
       "      <td>35,546</td>\n",
       "      <td>100.0%</td>\n",
       "      <td>100.0%</td>\n",
       "    </tr>\n",
       "    <tr>\n",
       "      <td>Seattle Northgate</td>\n",
       "      <td>4,787</td>\n",
       "      <td>4,787</td>\n",
       "      <td>100.0%</td>\n",
       "      <td>100.0%</td>\n",
       "    </tr>\n",
       "    <tr>\n",
       "      <td>Seattle South Lake Union</td>\n",
       "      <td>9,986</td>\n",
       "      <td>9,986</td>\n",
       "      <td>100.0%</td>\n",
       "      <td>100.0%</td>\n",
       "    </tr>\n",
       "    <tr>\n",
       "      <td>Seattle University Community</td>\n",
       "      <td>12,791</td>\n",
       "      <td>12,791</td>\n",
       "      <td>100.0%</td>\n",
       "      <td>100.0%</td>\n",
       "    </tr>\n",
       "    <tr>\n",
       "      <td>Seattle Uptown</td>\n",
       "      <td>8,029</td>\n",
       "      <td>8,029</td>\n",
       "      <td>100.0%</td>\n",
       "      <td>100.0%</td>\n",
       "    </tr>\n",
       "    <tr>\n",
       "      <td>Tacoma Downtown</td>\n",
       "      <td>8,997</td>\n",
       "      <td>9,365</td>\n",
       "      <td>96.1%</td>\n",
       "      <td>100.0%</td>\n",
       "    </tr>\n",
       "    <tr>\n",
       "      <td>Tacoma Mall</td>\n",
       "      <td>1,386</td>\n",
       "      <td>2,845</td>\n",
       "      <td>46.1%</td>\n",
       "      <td>94.5%</td>\n",
       "    </tr>\n",
       "    <tr>\n",
       "      <td>Tukwila</td>\n",
       "      <td>377</td>\n",
       "      <td>377</td>\n",
       "      <td>100.0%</td>\n",
       "      <td>100.0%</td>\n",
       "    </tr>\n",
       "  </tbody>\n",
       "</table>"
      ],
      "text/plain": [
       "<IPython.core.display.HTML object>"
      ]
     },
     "metadata": {},
     "output_type": "display_data"
    }
   ],
   "source": [
    "pd.options.display.float_format = '{:0,.0f}'.format\n",
    "df = hct_hh_df[hct_hh_df['group'] == 'Regional Growth Center'].copy()\n",
    "df.rename(columns={'hh_p': 'Total'}, inplace=True)\n",
    "df = df.pivot_table(index='index', columns='distance', values='Total', aggfunc='sum')\n",
    "df = df.fillna(0)\n",
    "df[0.25] = df[0.25].astype('float32')\n",
    "df[0.5] = df[0.5].astype('float32')\n",
    "df.index.name = 'Regional Growth Center'\n",
    "df = df.reset_index()\n",
    "df = df.rename_axis(None, axis=1)\n",
    "df.rename(columns={0.25: '1/4 Mile', 0.5: '1/2 Mile'}, inplace=True)\n",
    "\n",
    "# Calcualte the percent of households in this geography within 1/4 and 1/2 mile\n",
    "\n",
    "_df = df.merge(df_lu[['GrowthCenterName','hh_p']].groupby('GrowthCenterName').sum()[['hh_p']].reset_index(),left_on='Regional Growth Center', \n",
    "               right_on='GrowthCenterName')\n",
    "_df['% of Households (1/4 Mile)'] = _df['1/4 Mile']/_df['hh_p']\n",
    "_df['% of Households (1/2 Mile)'] = _df['1/2 Mile']/_df['hh_p']\n",
    "\n",
    "df = df.merge(_df[['Regional Growth Center', '% of Households (1/4 Mile)', '% of Households (1/2 Mile)']], \n",
    "              on='Regional Growth Center')\n",
    "\n",
    "output = df.to_html(formatters={\n",
    "    '% of Households (1/4 Mile)': '{:0,.1%}'.format,\n",
    "    '% of Households (1/2 Mile)': '{:0,.1%}'.format,\n",
    "}, index=False)\n",
    "display(HTML(output))"
   ]
  },
  {
   "cell_type": "raw",
   "id": "95cacf19",
   "metadata": {},
   "source": [
    "### Regional Geography"
   ]
  },
  {
   "cell_type": "code",
   "execution_count": 23,
   "id": "93de3fea",
   "metadata": {
    "execution": {
     "iopub.execute_input": "2025-07-15T22:51:39.267971Z",
     "iopub.status.busy": "2025-07-15T22:51:39.266974Z",
     "iopub.status.idle": "2025-07-15T22:51:39.443404Z",
     "shell.execute_reply": "2025-07-15T22:51:39.442408Z"
    }
   },
   "outputs": [
    {
     "data": {
      "text/html": [
       "<table border=\"1\" class=\"dataframe\">\n",
       "  <thead>\n",
       "    <tr style=\"text-align: right;\">\n",
       "      <th>Regional Geography</th>\n",
       "      <th>1/4 Mile</th>\n",
       "      <th>1/2 Mile</th>\n",
       "      <th>% of Households (1/4 Mile)</th>\n",
       "      <th>% of Households (1/2 Mile)</th>\n",
       "    </tr>\n",
       "  </thead>\n",
       "  <tbody>\n",
       "    <tr>\n",
       "      <td>CitiesTowns</td>\n",
       "      <td>919</td>\n",
       "      <td>2,632</td>\n",
       "      <td>0.7%</td>\n",
       "      <td>1.9%</td>\n",
       "    </tr>\n",
       "    <tr>\n",
       "      <td>Core</td>\n",
       "      <td>120,211</td>\n",
       "      <td>170,727</td>\n",
       "      <td>31.1%</td>\n",
       "      <td>44.1%</td>\n",
       "    </tr>\n",
       "    <tr>\n",
       "      <td>HCT</td>\n",
       "      <td>93,632</td>\n",
       "      <td>139,266</td>\n",
       "      <td>26.0%</td>\n",
       "      <td>38.7%</td>\n",
       "    </tr>\n",
       "    <tr>\n",
       "      <td>Metro</td>\n",
       "      <td>395,155</td>\n",
       "      <td>463,635</td>\n",
       "      <td>67.0%</td>\n",
       "      <td>78.6%</td>\n",
       "    </tr>\n",
       "    <tr>\n",
       "      <td>UU</td>\n",
       "      <td>4,475</td>\n",
       "      <td>5,455</td>\n",
       "      <td>7.2%</td>\n",
       "      <td>8.8%</td>\n",
       "    </tr>\n",
       "  </tbody>\n",
       "</table>"
      ],
      "text/plain": [
       "<IPython.core.display.HTML object>"
      ]
     },
     "metadata": {},
     "output_type": "display_data"
    }
   ],
   "source": [
    "pd.options.display.float_format = '{:0,.0f}'.format\n",
    "df = hct_hh_df[hct_hh_df['group'] == 'Regional Geography'].copy()\n",
    "df.rename(columns={'hh_p': 'Total'}, inplace=True)\n",
    "df = df.pivot_table(index='index', columns='distance', values='Total', aggfunc='sum')\n",
    "df = df.fillna(0)\n",
    "df[0.25] = df[0.25].astype('float32')\n",
    "df[0.5] = df[0.5].astype('float32')\n",
    "df.index.name = 'Regional Geography'\n",
    "df = df.reset_index()\n",
    "df = df.rename_axis(None, axis=1)\n",
    "df.rename(columns={0.25: '1/4 Mile', 0.5: '1/2 Mile'}, inplace=True)\n",
    "# HTML(df.to_html(index=False))\n",
    "\n",
    "_df = df.merge(df_lu[['rg_proposed','hh_p']].groupby('rg_proposed').sum()[['hh_p']].reset_index(),left_on='Regional Geography', \n",
    "               right_on='rg_proposed')\n",
    "_df['% of Households (1/4 Mile)'] = _df['1/4 Mile']/_df['hh_p']\n",
    "_df['% of Households (1/2 Mile)'] = _df['1/2 Mile']/_df['hh_p']\n",
    "\n",
    "df = df.merge(_df[['Regional Geography', '% of Households (1/4 Mile)', '% of Households (1/2 Mile)']], \n",
    "              on='Regional Geography')\n",
    "\n",
    "output = df.to_html(formatters={\n",
    "    '% of Households (1/4 Mile)': '{:0,.1%}'.format,\n",
    "    '% of Households (1/2 Mile)': '{:0,.1%}'.format,\n",
    "}, index=False)\n",
    "display(HTML(output))"
   ]
  },
  {
   "cell_type": "raw",
   "id": "b7b12eb2",
   "metadata": {},
   "source": [
    "### Equity Geography"
   ]
  },
  {
   "cell_type": "code",
   "execution_count": 24,
   "id": "1963e8e1",
   "metadata": {
    "execution": {
     "iopub.execute_input": "2025-07-15T22:51:39.449387Z",
     "iopub.status.busy": "2025-07-15T22:51:39.448390Z",
     "iopub.status.idle": "2025-07-15T22:51:39.658183Z",
     "shell.execute_reply": "2025-07-15T22:51:39.658183Z"
    }
   },
   "outputs": [
    {
     "data": {
      "text/html": [
       "<table border=\"1\" class=\"dataframe\">\n",
       "  <thead>\n",
       "    <tr style=\"text-align: right;\">\n",
       "      <th>Equity Geography</th>\n",
       "      <th>1/4 Mile</th>\n",
       "      <th>1/2 Mile</th>\n",
       "      <th>% of Households (1/4 Mile)</th>\n",
       "      <th>% of Households (1/2 Mile)</th>\n",
       "    </tr>\n",
       "  </thead>\n",
       "  <tbody>\n",
       "    <tr>\n",
       "      <td>Disability</td>\n",
       "      <td>186,917</td>\n",
       "      <td>244,904</td>\n",
       "      <td>35.4%</td>\n",
       "      <td>46.4%</td>\n",
       "    </tr>\n",
       "    <tr>\n",
       "      <td>LEP</td>\n",
       "      <td>135,046</td>\n",
       "      <td>175,841</td>\n",
       "      <td>37.8%</td>\n",
       "      <td>49.3%</td>\n",
       "    </tr>\n",
       "    <tr>\n",
       "      <td>Older</td>\n",
       "      <td>147,012</td>\n",
       "      <td>212,952</td>\n",
       "      <td>25.0%</td>\n",
       "      <td>36.1%</td>\n",
       "    </tr>\n",
       "    <tr>\n",
       "      <td>People of Color</td>\n",
       "      <td>216,908</td>\n",
       "      <td>272,023</td>\n",
       "      <td>43.3%</td>\n",
       "      <td>54.3%</td>\n",
       "    </tr>\n",
       "    <tr>\n",
       "      <td>Poverty</td>\n",
       "      <td>167,624</td>\n",
       "      <td>217,143</td>\n",
       "      <td>37.6%</td>\n",
       "      <td>48.7%</td>\n",
       "    </tr>\n",
       "    <tr>\n",
       "      <td>Youth</td>\n",
       "      <td>112,412</td>\n",
       "      <td>169,569</td>\n",
       "      <td>19.9%</td>\n",
       "      <td>30.0%</td>\n",
       "    </tr>\n",
       "  </tbody>\n",
       "</table>"
      ],
      "text/plain": [
       "<IPython.core.display.HTML object>"
      ]
     },
     "metadata": {},
     "output_type": "display_data"
    }
   ],
   "source": [
    "pd.options.display.float_format = '{:0,.0f}'.format\n",
    "df = hct_hh_df.copy()\n",
    "df = df[df['index'] == 1]\n",
    "df.rename(columns={'hh_p': 'Total'}, inplace=True)\n",
    "df.drop('index', axis=1, inplace=True)\n",
    "df = df.pivot_table(index='group', columns='distance', values='Total', aggfunc='sum')\n",
    "df[0.25] = df[0.25].astype('float32')\n",
    "df[0.5] = df[0.5].astype('float32')\n",
    "df.index.name = 'Equity Geography'\n",
    "df = df.reset_index()\n",
    "df = df.rename_axis(None, axis=1)\n",
    "df.rename(columns={0.25: '1/4 Mile', 0.5: '1/2 Mile'}, inplace=True)\n",
    "\n",
    "\n",
    "equity_dict = {'equity_focus_areas_2023__efa_poc': 'People of Color',\n",
    "                      'equity_focus_areas_2023__efa_pov200': 'Poverty',\n",
    "                        'equity_focus_areas_2023__efa_lep': 'LEP',\n",
    "                      'equity_focus_areas_2023__efa_older': 'Older',\n",
    "                      'equity_focus_areas_2023__efa_youth': 'Youth',\n",
    "            'equity_focus_areas_2023__efa_dis': 'Disability'}\n",
    "results_dict = {}\n",
    "for key, val in equity_dict.items():\n",
    "    _df = df_lu[[key, 'hh_p']].groupby(key).sum()[['hh_p']].reset_index()\n",
    "    try:\n",
    "        results_dict[val] = _df[_df[key] == 1]['hh_p'].values[0]\n",
    "    except:\n",
    "        next\n",
    "\n",
    "results_df = pd.DataFrame(results_dict.values(), index=results_dict.keys(), columns=['Total HH'])\n",
    "results_df = results_df.reset_index()\n",
    "results_df = results_df.merge(df,left_on='index', right_on='Equity Geography')\n",
    "\n",
    "results_df['% of Households (1/4 Mile)'] = results_df['1/4 Mile']/results_df['Total HH']\n",
    "results_df['% of Households (1/2 Mile)'] = results_df['1/2 Mile']/results_df['Total HH']\n",
    "\n",
    "\n",
    "\n",
    "df = df.merge(results_df[['Equity Geography', '% of Households (1/4 Mile)', '% of Households (1/2 Mile)']], \n",
    "              on='Equity Geography')\n",
    "\n",
    "output = df.to_html(formatters={\n",
    "    '% of Households (1/4 Mile)': '{:0,.1%}'.format,\n",
    "    '% of Households (1/2 Mile)': '{:0,.1%}'.format,\n",
    "}, index=False)\n",
    "display(HTML(output))"
   ]
  },
  {
   "cell_type": "code",
   "execution_count": 25,
   "id": "683b5054",
   "metadata": {
    "execution": {
     "iopub.execute_input": "2025-07-15T22:51:39.662167Z",
     "iopub.status.busy": "2025-07-15T22:51:39.661171Z",
     "iopub.status.idle": "2025-07-15T22:51:39.859898Z",
     "shell.execute_reply": "2025-07-15T22:51:39.858906Z"
    }
   },
   "outputs": [
    {
     "data": {
      "text/html": [
       "<table border=\"1\" class=\"dataframe\">\n",
       "  <thead>\n",
       "    <tr style=\"text-align: right;\">\n",
       "      <th>Equity Geography</th>\n",
       "      <th>1/4 Mile</th>\n",
       "      <th>1/2 Mile</th>\n",
       "      <th>% of Households (1/4 Mile)_x</th>\n",
       "      <th>% of Households (1/2 Mile)_x</th>\n",
       "      <th>% of Households (1/4 Mile)_y</th>\n",
       "      <th>% of Households (1/2 Mile)_y</th>\n",
       "    </tr>\n",
       "  </thead>\n",
       "  <tbody>\n",
       "    <tr>\n",
       "      <td>Disability</td>\n",
       "      <td>186,917</td>\n",
       "      <td>244,904</td>\n",
       "      <td>0</td>\n",
       "      <td>0</td>\n",
       "      <td>1</td>\n",
       "      <td>1</td>\n",
       "    </tr>\n",
       "    <tr>\n",
       "      <td>LEP</td>\n",
       "      <td>135,046</td>\n",
       "      <td>175,841</td>\n",
       "      <td>0</td>\n",
       "      <td>0</td>\n",
       "      <td>0</td>\n",
       "      <td>1</td>\n",
       "    </tr>\n",
       "    <tr>\n",
       "      <td>Older</td>\n",
       "      <td>147,012</td>\n",
       "      <td>212,952</td>\n",
       "      <td>0</td>\n",
       "      <td>0</td>\n",
       "      <td>1</td>\n",
       "      <td>1</td>\n",
       "    </tr>\n",
       "    <tr>\n",
       "      <td>People of Color</td>\n",
       "      <td>216,908</td>\n",
       "      <td>272,023</td>\n",
       "      <td>0</td>\n",
       "      <td>1</td>\n",
       "      <td>1</td>\n",
       "      <td>1</td>\n",
       "    </tr>\n",
       "    <tr>\n",
       "      <td>Poverty</td>\n",
       "      <td>167,624</td>\n",
       "      <td>217,143</td>\n",
       "      <td>0</td>\n",
       "      <td>0</td>\n",
       "      <td>1</td>\n",
       "      <td>1</td>\n",
       "    </tr>\n",
       "    <tr>\n",
       "      <td>Youth</td>\n",
       "      <td>112,412</td>\n",
       "      <td>169,569</td>\n",
       "      <td>0</td>\n",
       "      <td>0</td>\n",
       "      <td>1</td>\n",
       "      <td>1</td>\n",
       "    </tr>\n",
       "  </tbody>\n",
       "</table>"
      ],
      "text/plain": [
       "<IPython.core.display.HTML object>"
      ]
     },
     "metadata": {},
     "output_type": "display_data"
    }
   ],
   "source": [
    "# Repeat for tracts at 1 std. dev\n",
    "results_dict = {}\n",
    "for key, val in equity_dict.items():\n",
    "    _df = df_lu[[key, 'hh_p']].groupby(key).sum()[['hh_p']].reset_index()\n",
    "    try:\n",
    "        results_dict[val] = _df[_df[key] == 2]['hh_p'].values[0]\n",
    "    except:\n",
    "        next\n",
    "\n",
    "results_df = pd.DataFrame(results_dict.values(), index=results_dict.keys(), columns=['Total HH'])\n",
    "results_df = results_df.reset_index()\n",
    "results_df = results_df.merge(df,left_on='index', right_on='Equity Geography')\n",
    "\n",
    "results_df['% of Households (1/4 Mile)'] = results_df['1/4 Mile']/results_df['Total HH']\n",
    "results_df['% of Households (1/2 Mile)'] = results_df['1/2 Mile']/results_df['Total HH']\n",
    "\n",
    "\n",
    "\n",
    "df = df.merge(results_df[['Equity Geography', '% of Households (1/4 Mile)', '% of Households (1/2 Mile)']], \n",
    "              on='Equity Geography')\n",
    "\n",
    "output = df.to_html(formatters={\n",
    "    '% of Households (1/4 Mile)': '{:0,.1%}'.format,\n",
    "    '% of Households (1/2 Mile)': '{:0,.1%}'.format,\n",
    "}, index=False)\n",
    "display(HTML(output))"
   ]
  },
  {
   "cell_type": "raw",
   "id": "3d73cd9e",
   "metadata": {},
   "source": [
    ":::"
   ]
  },
  {
   "cell_type": "markdown",
   "id": "46b71404",
   "metadata": {},
   "source": [
    "# Jobs Near HCT"
   ]
  },
  {
   "cell_type": "code",
   "execution_count": 26,
   "id": "47ea413d",
   "metadata": {
    "execution": {
     "iopub.execute_input": "2025-07-15T22:51:39.865882Z",
     "iopub.status.busy": "2025-07-15T22:51:39.864885Z",
     "iopub.status.idle": "2025-07-15T22:51:40.436805Z",
     "shell.execute_reply": "2025-07-15T22:51:40.435811Z"
    }
   },
   "outputs": [],
   "source": [
    "pd.options.display.float_format = '{:0,.0f}'.format\n",
    "col_dict = {'equity_focus_areas_2023__efa_poc': 'People of Color',\n",
    "                      'equity_focus_areas_2023__efa_pov200': 'Poverty',\n",
    "                        'equity_focus_areas_2023__efa_lep': 'LEP',\n",
    "                      'equity_focus_areas_2023__efa_older': 'Older',\n",
    "                      'equity_focus_areas_2023__efa_youth': 'Youth',\n",
    "            'equity_focus_areas_2023__efa_dis': 'Disability',\n",
    "           'rg_proposed': 'Regional Geography',\n",
    "            'CountyName': 'County',\n",
    "            'GrowthCenterName': 'Regional Growth Center',\n",
    "            'RGC_binary': 'RGC Binary',\n",
    "            'Region': 'Region'\n",
    "           }\n",
    "\n",
    "hct_hh_df = pd.DataFrame()\n",
    "df_025['Region'] = 1\n",
    "df = aggregate_parcels(df_025, col_dict, 'emptot_p')\n",
    "df['distance'] = 0.25\n",
    "hct_hh_df = pd.concat([hct_hh_df,df])\n",
    "df_050['Region'] = 1\n",
    "df = aggregate_parcels(df_050, col_dict, 'emptot_p')\n",
    "df['distance'] = 0.50\n",
    "hct_hh_df = pd.concat([hct_hh_df,df])"
   ]
  },
  {
   "cell_type": "raw",
   "id": "a094b133",
   "metadata": {
    "vscode": {
     "languageId": "raw"
    }
   },
   "source": [
    "\n",
    ":::{.panel-tabset}\n",
    "### Region"
   ]
  },
  {
   "cell_type": "code",
   "execution_count": 27,
   "id": "9fa9e21f",
   "metadata": {
    "execution": {
     "iopub.execute_input": "2025-07-15T22:51:40.442789Z",
     "iopub.status.busy": "2025-07-15T22:51:40.441792Z",
     "iopub.status.idle": "2025-07-15T22:51:40.470568Z",
     "shell.execute_reply": "2025-07-15T22:51:40.469569Z"
    }
   },
   "outputs": [
    {
     "data": {
      "text/html": [
       "<table border=\"1\" class=\"dataframe\">\n",
       "  <thead>\n",
       "    <tr style=\"text-align: right;\">\n",
       "      <th>Region</th>\n",
       "      <th>1/4 Mile</th>\n",
       "      <th>1/2 Mile</th>\n",
       "      <th>% of Jobs (1/4 Mile)</th>\n",
       "      <th>% of Jobs (1/2 Mile)</th>\n",
       "    </tr>\n",
       "  </thead>\n",
       "  <tbody>\n",
       "    <tr>\n",
       "      <td>1</td>\n",
       "      <td>1,201,506</td>\n",
       "      <td>1,420,173</td>\n",
       "      <td>55.8%</td>\n",
       "      <td>66.0%</td>\n",
       "    </tr>\n",
       "  </tbody>\n",
       "</table>"
      ],
      "text/plain": [
       "<IPython.core.display.HTML object>"
      ]
     },
     "metadata": {},
     "output_type": "display_data"
    }
   ],
   "source": [
    "\n",
    "df = hct_hh_df[hct_hh_df['group'] == 'Region'].copy()\n",
    "df.rename(columns={'emptot_p': 'Total'}, inplace=True)\n",
    "df = df.pivot_table(index='index', columns='distance', values='Total', aggfunc='sum')\n",
    "df[0.25] = df[0.25].astype('float32')\n",
    "df[0.5] = df[0.5].astype('float32')\n",
    "df.index.name = 'Region'\n",
    "df = df.reset_index()\n",
    "df = df.rename_axis(None, axis=1)\n",
    "df.rename(columns={0.25: '1/4 Mile', 0.5: '1/2 Mile'}, inplace=True)\n",
    "\n",
    "df['% of Jobs (1/4 Mile)'] = df['1/4 Mile']/df_lu['emptot_p'].sum()\n",
    "df['% of Jobs (1/2 Mile)'] = df['1/2 Mile']/df_lu['emptot_p'].sum()\n",
    "\n",
    "output = df.to_html(formatters={\n",
    "    '% of Jobs (1/4 Mile)': '{:0,.1%}'.format,\n",
    "    '% of Jobs (1/2 Mile)': '{:0,.1%}'.format,\n",
    "}, index=False)\n",
    "display(HTML(output))"
   ]
  },
  {
   "cell_type": "raw",
   "id": "e03e8790",
   "metadata": {},
   "source": [
    "### County"
   ]
  },
  {
   "cell_type": "code",
   "execution_count": 28,
   "id": "464a265a",
   "metadata": {
    "execution": {
     "iopub.execute_input": "2025-07-15T22:51:40.475555Z",
     "iopub.status.busy": "2025-07-15T22:51:40.474558Z",
     "iopub.status.idle": "2025-07-15T22:51:40.740307Z",
     "shell.execute_reply": "2025-07-15T22:51:40.739312Z"
    }
   },
   "outputs": [
    {
     "data": {
      "text/html": [
       "<table border=\"1\" class=\"dataframe\">\n",
       "  <thead>\n",
       "    <tr style=\"text-align: right;\">\n",
       "      <th>County</th>\n",
       "      <th>1/4 Mile</th>\n",
       "      <th>1/2 Mile</th>\n",
       "      <th>% of Jobs (1/4 Mile)</th>\n",
       "      <th>% of Jobs (1/2 Mile)</th>\n",
       "    </tr>\n",
       "  </thead>\n",
       "  <tbody>\n",
       "    <tr>\n",
       "      <td>King</td>\n",
       "      <td>953,698</td>\n",
       "      <td>1,084,521</td>\n",
       "      <td>66.1%</td>\n",
       "      <td>75.2%</td>\n",
       "    </tr>\n",
       "    <tr>\n",
       "      <td>Kitsap</td>\n",
       "      <td>19,695</td>\n",
       "      <td>29,500</td>\n",
       "      <td>21.7%</td>\n",
       "      <td>32.4%</td>\n",
       "    </tr>\n",
       "    <tr>\n",
       "      <td>Pierce</td>\n",
       "      <td>86,326</td>\n",
       "      <td>131,459</td>\n",
       "      <td>25.8%</td>\n",
       "      <td>39.3%</td>\n",
       "    </tr>\n",
       "    <tr>\n",
       "      <td>Snohomish</td>\n",
       "      <td>141,787</td>\n",
       "      <td>174,693</td>\n",
       "      <td>49.6%</td>\n",
       "      <td>61.2%</td>\n",
       "    </tr>\n",
       "  </tbody>\n",
       "</table>"
      ],
      "text/plain": [
       "<IPython.core.display.HTML object>"
      ]
     },
     "metadata": {},
     "output_type": "display_data"
    }
   ],
   "source": [
    "pd.options.display.float_format = '{:0,.0f}'.format\n",
    "df = hct_hh_df[hct_hh_df['group'] == 'County'].copy()\n",
    "df.rename(columns={'emptot_p': 'Total'}, inplace=True)\n",
    "df = df.pivot_table(index='index', columns='distance', values='Total', aggfunc='sum')\n",
    "df[0.25] = df[0.25].astype('float32')\n",
    "df[0.5] = df[0.5].astype('float32')\n",
    "df.index.name = 'County'\n",
    "df = df.reset_index()\n",
    "df = df.rename_axis(None, axis=1)\n",
    "df.rename(columns={0.25: '1/4 Mile', 0.5: '1/2 Mile'}, inplace=True)\n",
    "\n",
    "_df = df.merge(df_lu[['CountyName','emptot_p']].groupby('CountyName').sum()[['emptot_p']].reset_index(),left_on='County', right_on='CountyName')\n",
    "_df['% of Jobs (1/4 Mile)'] = _df['1/4 Mile']/_df['emptot_p']\n",
    "_df['% of Jobs (1/2 Mile)'] = _df['1/2 Mile']/_df['emptot_p']\n",
    "\n",
    "df = df.merge(_df[['County', '% of Jobs (1/4 Mile)', '% of Jobs (1/2 Mile)']], \n",
    "              on='County')\n",
    "\n",
    "output = df.to_html(formatters={\n",
    "    '% of Jobs (1/4 Mile)': '{:0,.1%}'.format,\n",
    "    '% of Jobs (1/2 Mile)': '{:0,.1%}'.format,\n",
    "}, index=False)\n",
    "display(HTML(output))"
   ]
  },
  {
   "cell_type": "raw",
   "id": "9b7b5eaf",
   "metadata": {},
   "source": [
    "### Regional Growth Center"
   ]
  },
  {
   "cell_type": "code",
   "execution_count": 29,
   "id": "9f10b5fa",
   "metadata": {
    "execution": {
     "iopub.execute_input": "2025-07-15T22:51:40.746291Z",
     "iopub.status.busy": "2025-07-15T22:51:40.745293Z",
     "iopub.status.idle": "2025-07-15T22:51:40.802570Z",
     "shell.execute_reply": "2025-07-15T22:51:40.801575Z"
    }
   },
   "outputs": [
    {
     "data": {
      "text/html": [
       "<table border=\"1\" class=\"dataframe\">\n",
       "  <thead>\n",
       "    <tr style=\"text-align: right;\">\n",
       "      <th>RGC Designation</th>\n",
       "      <th>1/4 Mile</th>\n",
       "      <th>1/2 Mile</th>\n",
       "      <th>% of Jobs (1/4 Mile)</th>\n",
       "      <th>% of Jobs (1/2 Mile)</th>\n",
       "    </tr>\n",
       "  </thead>\n",
       "  <tbody>\n",
       "    <tr>\n",
       "      <td>Outside RGC</td>\n",
       "      <td>538,953</td>\n",
       "      <td>732,113</td>\n",
       "      <td>38.4%</td>\n",
       "      <td>52.2%</td>\n",
       "    </tr>\n",
       "    <tr>\n",
       "      <td>Inside RGC</td>\n",
       "      <td>662,553</td>\n",
       "      <td>688,060</td>\n",
       "      <td>88.3%</td>\n",
       "      <td>91.7%</td>\n",
       "    </tr>\n",
       "  </tbody>\n",
       "</table>"
      ],
      "text/plain": [
       "<IPython.core.display.HTML object>"
      ]
     },
     "metadata": {},
     "output_type": "display_data"
    }
   ],
   "source": [
    "pd.options.display.float_format = '{:0,.0f}'.format\n",
    "df = hct_hh_df[hct_hh_df['group'] == 'RGC Binary'].copy()\n",
    "df.rename(columns={'emptot_p': 'Total'}, inplace=True)\n",
    "df = df.pivot_table(index='index', columns='distance', values='Total', aggfunc='sum')\n",
    "df = df.fillna(0)\n",
    "df[0.25] = df[0.25].astype('float32')\n",
    "df[0.5] = df[0.5].astype('float32')\n",
    "df.index.name = 'RGC Binary'\n",
    "df = df.reset_index()\n",
    "df = df.rename_axis(None, axis=1)\n",
    "df.rename(columns={0.25: '1/4 Mile', 0.5: '1/2 Mile'}, inplace=True)\n",
    "\n",
    "\n",
    "_df = df.merge(df_lu[['RGC_binary','emptot_p']].groupby('RGC_binary').sum()[['emptot_p']].reset_index(),left_on='RGC Binary', \n",
    "               right_on='RGC_binary')\n",
    "_df['% of Jobs (1/4 Mile)'] = _df['1/4 Mile']/_df['emptot_p']\n",
    "_df['% of Jobs (1/2 Mile)'] = _df['1/2 Mile']/_df['emptot_p']\n",
    "\n",
    "df = df.merge(_df[['RGC Binary', '% of Jobs (1/4 Mile)', '% of Jobs (1/2 Mile)']], \n",
    "              on='RGC Binary')\n",
    "df['RGC Designation'] = df['RGC Binary'].map({0: 'Outside RGC', 1: 'Inside RGC'})\n",
    "df = df[['RGC Designation','1/4 Mile','1/2 Mile','% of Jobs (1/4 Mile)', '% of Jobs (1/2 Mile)']]\n",
    "output = df.to_html(formatters={\n",
    "    '% of Jobs (1/4 Mile)': '{:0,.1%}'.format,\n",
    "    '% of Jobs (1/2 Mile)': '{:0,.1%}'.format,\n",
    "}, index=False)\n",
    "display(HTML(output))"
   ]
  },
  {
   "cell_type": "code",
   "execution_count": 30,
   "id": "c7d57ef3",
   "metadata": {
    "execution": {
     "iopub.execute_input": "2025-07-15T22:51:40.807556Z",
     "iopub.status.busy": "2025-07-15T22:51:40.807556Z",
     "iopub.status.idle": "2025-07-15T22:51:40.838216Z",
     "shell.execute_reply": "2025-07-15T22:51:40.837223Z"
    }
   },
   "outputs": [
    {
     "data": {
      "text/html": [
       "<table border=\"1\" class=\"dataframe\">\n",
       "  <thead>\n",
       "    <tr style=\"text-align: right;\">\n",
       "      <th>Regional Growth Center</th>\n",
       "      <th>1/4 Mile</th>\n",
       "      <th>1/2 Mile</th>\n",
       "      <th>% of Total Jobs (1/4 Mile)</th>\n",
       "      <th>% of Total Jobs (1/2 Mile)</th>\n",
       "    </tr>\n",
       "  </thead>\n",
       "  <tbody>\n",
       "    <tr>\n",
       "      <td>Auburn</td>\n",
       "      <td>3,845</td>\n",
       "      <td>3,845</td>\n",
       "      <td>0.2%</td>\n",
       "      <td>0.2%</td>\n",
       "    </tr>\n",
       "    <tr>\n",
       "      <td>Bellevue</td>\n",
       "      <td>52,050</td>\n",
       "      <td>52,050</td>\n",
       "      <td>2.4%</td>\n",
       "      <td>2.4%</td>\n",
       "    </tr>\n",
       "    <tr>\n",
       "      <td>Bothell Canyon Park</td>\n",
       "      <td>13,717</td>\n",
       "      <td>13,717</td>\n",
       "      <td>0.6%</td>\n",
       "      <td>0.6%</td>\n",
       "    </tr>\n",
       "    <tr>\n",
       "      <td>Bremerton</td>\n",
       "      <td>14,726</td>\n",
       "      <td>17,655</td>\n",
       "      <td>0.7%</td>\n",
       "      <td>0.8%</td>\n",
       "    </tr>\n",
       "    <tr>\n",
       "      <td>Burien</td>\n",
       "      <td>3,758</td>\n",
       "      <td>3,758</td>\n",
       "      <td>0.2%</td>\n",
       "      <td>0.2%</td>\n",
       "    </tr>\n",
       "    <tr>\n",
       "      <td>Everett</td>\n",
       "      <td>14,300</td>\n",
       "      <td>14,300</td>\n",
       "      <td>0.7%</td>\n",
       "      <td>0.7%</td>\n",
       "    </tr>\n",
       "    <tr>\n",
       "      <td>Federal Way</td>\n",
       "      <td>2,358</td>\n",
       "      <td>2,358</td>\n",
       "      <td>0.1%</td>\n",
       "      <td>0.1%</td>\n",
       "    </tr>\n",
       "    <tr>\n",
       "      <td>Greater Downtown Kirkland</td>\n",
       "      <td>0</td>\n",
       "      <td>411</td>\n",
       "      <td>0.0%</td>\n",
       "      <td>0.0%</td>\n",
       "    </tr>\n",
       "    <tr>\n",
       "      <td>Kent</td>\n",
       "      <td>6,091</td>\n",
       "      <td>6,091</td>\n",
       "      <td>0.3%</td>\n",
       "      <td>0.3%</td>\n",
       "    </tr>\n",
       "    <tr>\n",
       "      <td>Lakewood</td>\n",
       "      <td>792</td>\n",
       "      <td>4,532</td>\n",
       "      <td>0.0%</td>\n",
       "      <td>0.2%</td>\n",
       "    </tr>\n",
       "    <tr>\n",
       "      <td>Lynnwood</td>\n",
       "      <td>692</td>\n",
       "      <td>11,739</td>\n",
       "      <td>0.0%</td>\n",
       "      <td>0.5%</td>\n",
       "    </tr>\n",
       "    <tr>\n",
       "      <td>Not in RGC</td>\n",
       "      <td>538,953</td>\n",
       "      <td>732,113</td>\n",
       "      <td>25.0%</td>\n",
       "      <td>34.0%</td>\n",
       "    </tr>\n",
       "    <tr>\n",
       "      <td>Puyallup Downtown</td>\n",
       "      <td>3,237</td>\n",
       "      <td>3,237</td>\n",
       "      <td>0.2%</td>\n",
       "      <td>0.2%</td>\n",
       "    </tr>\n",
       "    <tr>\n",
       "      <td>Redmond Downtown</td>\n",
       "      <td>10,120</td>\n",
       "      <td>10,120</td>\n",
       "      <td>0.5%</td>\n",
       "      <td>0.5%</td>\n",
       "    </tr>\n",
       "    <tr>\n",
       "      <td>Redmond-Overlake</td>\n",
       "      <td>34,214</td>\n",
       "      <td>34,214</td>\n",
       "      <td>1.6%</td>\n",
       "      <td>1.6%</td>\n",
       "    </tr>\n",
       "    <tr>\n",
       "      <td>Renton</td>\n",
       "      <td>16,601</td>\n",
       "      <td>16,601</td>\n",
       "      <td>0.8%</td>\n",
       "      <td>0.8%</td>\n",
       "    </tr>\n",
       "    <tr>\n",
       "      <td>SeaTac</td>\n",
       "      <td>26,970</td>\n",
       "      <td>26,970</td>\n",
       "      <td>1.3%</td>\n",
       "      <td>1.3%</td>\n",
       "    </tr>\n",
       "    <tr>\n",
       "      <td>Seattle Downtown</td>\n",
       "      <td>228,893</td>\n",
       "      <td>228,893</td>\n",
       "      <td>10.6%</td>\n",
       "      <td>10.6%</td>\n",
       "    </tr>\n",
       "    <tr>\n",
       "      <td>Seattle First Hill/Capitol Hill</td>\n",
       "      <td>50,736</td>\n",
       "      <td>50,736</td>\n",
       "      <td>2.4%</td>\n",
       "      <td>2.4%</td>\n",
       "    </tr>\n",
       "    <tr>\n",
       "      <td>Seattle Northgate</td>\n",
       "      <td>9,505</td>\n",
       "      <td>9,505</td>\n",
       "      <td>0.4%</td>\n",
       "      <td>0.4%</td>\n",
       "    </tr>\n",
       "    <tr>\n",
       "      <td>Seattle South Lake Union</td>\n",
       "      <td>54,135</td>\n",
       "      <td>54,135</td>\n",
       "      <td>2.5%</td>\n",
       "      <td>2.5%</td>\n",
       "    </tr>\n",
       "    <tr>\n",
       "      <td>Seattle University Community</td>\n",
       "      <td>36,582</td>\n",
       "      <td>36,582</td>\n",
       "      <td>1.7%</td>\n",
       "      <td>1.7%</td>\n",
       "    </tr>\n",
       "    <tr>\n",
       "      <td>Seattle Uptown</td>\n",
       "      <td>14,068</td>\n",
       "      <td>14,068</td>\n",
       "      <td>0.7%</td>\n",
       "      <td>0.7%</td>\n",
       "    </tr>\n",
       "    <tr>\n",
       "      <td>Tacoma Downtown</td>\n",
       "      <td>46,894</td>\n",
       "      <td>46,999</td>\n",
       "      <td>2.2%</td>\n",
       "      <td>2.2%</td>\n",
       "    </tr>\n",
       "    <tr>\n",
       "      <td>Tacoma Mall</td>\n",
       "      <td>422</td>\n",
       "      <td>6,963</td>\n",
       "      <td>0.0%</td>\n",
       "      <td>0.3%</td>\n",
       "    </tr>\n",
       "    <tr>\n",
       "      <td>Tukwila</td>\n",
       "      <td>17,847</td>\n",
       "      <td>18,581</td>\n",
       "      <td>0.8%</td>\n",
       "      <td>0.9%</td>\n",
       "    </tr>\n",
       "  </tbody>\n",
       "</table>"
      ],
      "text/plain": [
       "<IPython.core.display.HTML object>"
      ]
     },
     "metadata": {},
     "output_type": "display_data"
    }
   ],
   "source": [
    "pd.options.display.float_format = '{:0,.0f}'.format\n",
    "df = hct_hh_df[hct_hh_df['group'] == 'Regional Growth Center'].copy()\n",
    "df.rename(columns={'emptot_p': 'Total'}, inplace=True)\n",
    "df = df.pivot_table(index='index', columns='distance', values='Total', aggfunc='sum')\n",
    "df = df.fillna(0)\n",
    "df[0.25] = df[0.25].astype('float32')\n",
    "df[0.5] = df[0.5].astype('float32')\n",
    "df.index.name = 'Regional Growth Center'\n",
    "df = df.reset_index()\n",
    "df = df.rename_axis(None, axis=1)\n",
    "df.rename(columns={0.25: '1/4 Mile', 0.5: '1/2 Mile'}, inplace=True)\n",
    "df['% of Total Jobs (1/4 Mile)'] = df['1/4 Mile']/df_lu['emptot_p'].sum()\n",
    "df['% of Total Jobs (1/2 Mile)'] = df['1/2 Mile']/df_lu['emptot_p'].sum()\n",
    "\n",
    "output = df.to_html(formatters={\n",
    "    '% of Total Jobs (1/4 Mile)': '{:0,.1%}'.format,\n",
    "    '% of Total Jobs (1/2 Mile)': '{:0,.1%}'.format,\n",
    "}, index=False)\n",
    "display(HTML(output))"
   ]
  },
  {
   "cell_type": "raw",
   "id": "b3827922",
   "metadata": {},
   "source": [
    "### Regional Geography"
   ]
  },
  {
   "cell_type": "code",
   "execution_count": 31,
   "id": "5a1d3811",
   "metadata": {
    "execution": {
     "iopub.execute_input": "2025-07-15T22:51:40.841208Z",
     "iopub.status.busy": "2025-07-15T22:51:40.841208Z",
     "iopub.status.idle": "2025-07-15T22:51:40.857198Z",
     "shell.execute_reply": "2025-07-15T22:51:40.857198Z"
    }
   },
   "outputs": [
    {
     "data": {
      "text/html": [
       "<table border=\"1\" class=\"dataframe\">\n",
       "  <thead>\n",
       "    <tr style=\"text-align: right;\">\n",
       "      <th>Regional Geography</th>\n",
       "      <th>1/4 Mile</th>\n",
       "      <th>1/2 Mile</th>\n",
       "      <th>% of Total Jobs (1/4 Mile)</th>\n",
       "      <th>% of Total Jobs (1/2 Mile)</th>\n",
       "    </tr>\n",
       "  </thead>\n",
       "  <tbody>\n",
       "    <tr>\n",
       "      <td>CitiesTowns</td>\n",
       "      <td>1,067</td>\n",
       "      <td>2,587</td>\n",
       "      <td>0.0%</td>\n",
       "      <td>0.1%</td>\n",
       "    </tr>\n",
       "    <tr>\n",
       "      <td>Core</td>\n",
       "      <td>305,099</td>\n",
       "      <td>400,249</td>\n",
       "      <td>14.2%</td>\n",
       "      <td>18.6%</td>\n",
       "    </tr>\n",
       "    <tr>\n",
       "      <td>HCT</td>\n",
       "      <td>66,806</td>\n",
       "      <td>92,344</td>\n",
       "      <td>3.1%</td>\n",
       "      <td>4.3%</td>\n",
       "    </tr>\n",
       "    <tr>\n",
       "      <td>Metro</td>\n",
       "      <td>820,129</td>\n",
       "      <td>915,310</td>\n",
       "      <td>38.1%</td>\n",
       "      <td>42.5%</td>\n",
       "    </tr>\n",
       "    <tr>\n",
       "      <td>UU</td>\n",
       "      <td>4,636</td>\n",
       "      <td>5,143</td>\n",
       "      <td>0.2%</td>\n",
       "      <td>0.2%</td>\n",
       "    </tr>\n",
       "  </tbody>\n",
       "</table>"
      ],
      "text/plain": [
       "<IPython.core.display.HTML object>"
      ]
     },
     "metadata": {},
     "output_type": "display_data"
    }
   ],
   "source": [
    "df = hct_hh_df[hct_hh_df['group'] == 'Regional Geography'].copy()\n",
    "df.rename(columns={'emptot_p': 'Total'}, inplace=True)\n",
    "df = df.pivot_table(index='index', columns='distance', values='Total', aggfunc='sum')\n",
    "df = df.fillna(0)\n",
    "df[0.25] = df[0.25].astype('float32')\n",
    "df[0.5] = df[0.5].astype('float32')\n",
    "df.index.name = 'Regional Geography'\n",
    "df = df.reset_index()\n",
    "df = df.rename_axis(None, axis=1)\n",
    "df.rename(columns={0.25: '1/4 Mile', 0.5: '1/2 Mile'}, inplace=True)\n",
    "df['% of Total Jobs (1/4 Mile)'] = df['1/4 Mile']/df_lu['emptot_p'].sum()\n",
    "df['% of Total Jobs (1/2 Mile)'] = df['1/2 Mile']/df_lu['emptot_p'].sum()\n",
    "\n",
    "output = df.to_html(formatters={\n",
    "    '% of Total Jobs (1/4 Mile)': '{:0,.1%}'.format,\n",
    "    '% of Total Jobs (1/2 Mile)': '{:0,.1%}'.format,\n",
    "}, index=False)\n",
    "display(HTML(output))"
   ]
  },
  {
   "cell_type": "raw",
   "id": "b533b97a",
   "metadata": {},
   "source": [
    "#### Equity Geography"
   ]
  },
  {
   "cell_type": "code",
   "execution_count": 32,
   "id": "78e24950",
   "metadata": {
    "execution": {
     "iopub.execute_input": "2025-07-15T22:51:40.861185Z",
     "iopub.status.busy": "2025-07-15T22:51:40.860187Z",
     "iopub.status.idle": "2025-07-15T22:51:40.882441Z",
     "shell.execute_reply": "2025-07-15T22:51:40.882441Z"
    }
   },
   "outputs": [
    {
     "data": {
      "text/html": [
       "<table border=\"1\" class=\"dataframe\">\n",
       "  <thead>\n",
       "    <tr style=\"text-align: right;\">\n",
       "      <th>Equity Geography</th>\n",
       "      <th>1/4 Mile</th>\n",
       "      <th>1/2 Mile</th>\n",
       "      <th>% of Total Jobs (1/4 Mile)</th>\n",
       "      <th>% of Total Jobs (1/2 Mile)</th>\n",
       "    </tr>\n",
       "  </thead>\n",
       "  <tbody>\n",
       "    <tr>\n",
       "      <td>Disability</td>\n",
       "      <td>271,842</td>\n",
       "      <td>337,805</td>\n",
       "      <td>12.6%</td>\n",
       "      <td>15.7%</td>\n",
       "    </tr>\n",
       "    <tr>\n",
       "      <td>LEP</td>\n",
       "      <td>348,783</td>\n",
       "      <td>396,154</td>\n",
       "      <td>16.2%</td>\n",
       "      <td>18.4%</td>\n",
       "    </tr>\n",
       "    <tr>\n",
       "      <td>Older</td>\n",
       "      <td>275,315</td>\n",
       "      <td>351,611</td>\n",
       "      <td>12.8%</td>\n",
       "      <td>16.3%</td>\n",
       "    </tr>\n",
       "    <tr>\n",
       "      <td>People of Color</td>\n",
       "      <td>518,929</td>\n",
       "      <td>596,504</td>\n",
       "      <td>24.1%</td>\n",
       "      <td>27.7%</td>\n",
       "    </tr>\n",
       "    <tr>\n",
       "      <td>Poverty</td>\n",
       "      <td>367,723</td>\n",
       "      <td>447,135</td>\n",
       "      <td>17.1%</td>\n",
       "      <td>20.8%</td>\n",
       "    </tr>\n",
       "    <tr>\n",
       "      <td>RGC Binary</td>\n",
       "      <td>662,553</td>\n",
       "      <td>688,060</td>\n",
       "      <td>30.8%</td>\n",
       "      <td>32.0%</td>\n",
       "    </tr>\n",
       "    <tr>\n",
       "      <td>Region</td>\n",
       "      <td>1,201,506</td>\n",
       "      <td>1,420,173</td>\n",
       "      <td>55.8%</td>\n",
       "      <td>66.0%</td>\n",
       "    </tr>\n",
       "    <tr>\n",
       "      <td>Youth</td>\n",
       "      <td>134,264</td>\n",
       "      <td>218,644</td>\n",
       "      <td>6.2%</td>\n",
       "      <td>10.2%</td>\n",
       "    </tr>\n",
       "  </tbody>\n",
       "</table>"
      ],
      "text/plain": [
       "<IPython.core.display.HTML object>"
      ]
     },
     "metadata": {},
     "output_type": "display_data"
    }
   ],
   "source": [
    "# df = aggregate_parcels(df_lu, col_dict, 'HH_P')\n",
    "df = hct_hh_df.copy()\n",
    "df = df[df['index'] == 1].copy()\n",
    "df.rename(columns={'emptot_p': 'Total'}, inplace=True)\n",
    "df.drop('index', axis=1, inplace=True)\n",
    "df = df.pivot_table(index='group', columns='distance', values='Total', aggfunc='sum')\n",
    "df[0.25] = df[0.25].astype('float32')\n",
    "df[0.5] = df[0.5].astype('float32')\n",
    "df.index.name = 'Equity Geography'\n",
    "df = df.reset_index()\n",
    "df = df.rename_axis(None, axis=1)\n",
    "df.rename(columns={0.25: '1/4 Mile', 0.5: '1/2 Mile'}, inplace=True)\n",
    "df['% of Total Jobs (1/4 Mile)'] = df['1/4 Mile']/df_lu['emptot_p'].sum()\n",
    "df['% of Total Jobs (1/2 Mile)'] = df['1/2 Mile']/df_lu['emptot_p'].sum()\n",
    "\n",
    "\n",
    "\n",
    "output = df.to_html(formatters={\n",
    "    '% of Total Jobs (1/4 Mile)': '{:0,.1%}'.format,\n",
    "    '% of Total Jobs (1/2 Mile)': '{:0,.1%}'.format,\n",
    "}, index=False)\n",
    "display(HTML(output))"
   ]
  },
  {
   "cell_type": "raw",
   "id": "f934ac35",
   "metadata": {},
   "source": [
    ":::"
   ]
  },
  {
   "cell_type": "markdown",
   "id": "e60c3775",
   "metadata": {},
   "source": [
    "# Transit Access Mode\n",
    "Percent of Transit Trips Accessed by Walking"
   ]
  },
  {
   "cell_type": "raw",
   "id": "2d102918",
   "metadata": {
    "vscode": {
     "languageId": "raw"
    }
   },
   "source": [
    ":::{.panel-tabset}\n",
    "### Region"
   ]
  },
  {
   "cell_type": "code",
   "execution_count": 33,
   "id": "37593d14",
   "metadata": {
    "execution": {
     "iopub.execute_input": "2025-07-15T22:51:40.885439Z",
     "iopub.status.busy": "2025-07-15T22:51:40.885439Z",
     "iopub.status.idle": "2025-07-15T22:51:40.984062Z",
     "shell.execute_reply": "2025-07-15T22:51:40.983009Z"
    }
   },
   "outputs": [
    {
     "data": {
      "text/html": [
       "<div>\n",
       "<style scoped>\n",
       "    .dataframe tbody tr th:only-of-type {\n",
       "        vertical-align: middle;\n",
       "    }\n",
       "\n",
       "    .dataframe tbody tr th {\n",
       "        vertical-align: top;\n",
       "    }\n",
       "\n",
       "    .dataframe thead th {\n",
       "        text-align: right;\n",
       "    }\n",
       "</style>\n",
       "<table border=\"1\" class=\"dataframe\">\n",
       "  <thead>\n",
       "    <tr style=\"text-align: right;\">\n",
       "      <th></th>\n",
       "      <th>% Transit trips Accessed by Walking</th>\n",
       "    </tr>\n",
       "  </thead>\n",
       "  <tbody>\n",
       "    <tr>\n",
       "      <th>Region</th>\n",
       "      <td>95.1%</td>\n",
       "    </tr>\n",
       "  </tbody>\n",
       "</table>\n",
       "</div>"
      ],
      "text/plain": [
       "        % Transit trips Accessed by Walking\n",
       "Region                                95.1%"
      ]
     },
     "execution_count": 33,
     "metadata": {},
     "output_type": "execute_result"
    }
   ],
   "source": [
    "pd.options.display.float_format = '{:0,.1%}'.format\n",
    "df = pd.read_csv(r'../../../../outputs/agg/dash/trip_mode_by_tour_mode.csv')\n",
    "_df = df.copy()\n",
    "pnr_transit_trips = _df[(_df['tmodetp'] == 'Park') & (_df['mode'] == 'Transit')]['trexpfac'].sum()\n",
    "walk_transit_trips = _df[(_df['tmodetp'] == 'Transit') & (_df['mode'] == 'Transit')]['trexpfac'].sum()\n",
    "reg_access = (walk_transit_trips/(walk_transit_trips+pnr_transit_trips))\n",
    "pd.DataFrame([reg_access], columns=['% Transit trips Accessed by Walking'], index=['Region'])\n"
   ]
  },
  {
   "cell_type": "raw",
   "id": "6314503c",
   "metadata": {},
   "source": [
    "### Equity Geographies"
   ]
  },
  {
   "cell_type": "code",
   "execution_count": 34,
   "id": "85a5e80b",
   "metadata": {
    "execution": {
     "iopub.execute_input": "2025-07-15T22:51:40.990048Z",
     "iopub.status.busy": "2025-07-15T22:51:40.989048Z",
     "iopub.status.idle": "2025-07-15T22:51:41.055594Z",
     "shell.execute_reply": "2025-07-15T22:51:41.054599Z"
    }
   },
   "outputs": [
    {
     "data": {
      "text/html": [
       "<div>\n",
       "<style scoped>\n",
       "    .dataframe tbody tr th:only-of-type {\n",
       "        vertical-align: middle;\n",
       "    }\n",
       "\n",
       "    .dataframe tbody tr th {\n",
       "        vertical-align: top;\n",
       "    }\n",
       "\n",
       "    .dataframe thead th {\n",
       "        text-align: right;\n",
       "    }\n",
       "</style>\n",
       "<table border=\"1\" class=\"dataframe\">\n",
       "  <thead>\n",
       "    <tr style=\"text-align: right;\">\n",
       "      <th></th>\n",
       "      <th>% Transit Trips Accessed by Walking</th>\n",
       "    </tr>\n",
       "  </thead>\n",
       "  <tbody>\n",
       "    <tr>\n",
       "      <th>hh_efa_dis</th>\n",
       "      <td>95.7%</td>\n",
       "    </tr>\n",
       "    <tr>\n",
       "      <th>hh_efa_older</th>\n",
       "      <td>95.1%</td>\n",
       "    </tr>\n",
       "    <tr>\n",
       "      <th>hh_efa_lep</th>\n",
       "      <td>95.7%</td>\n",
       "    </tr>\n",
       "    <tr>\n",
       "      <th>hh_efa_pov200</th>\n",
       "      <td>96.0%</td>\n",
       "    </tr>\n",
       "    <tr>\n",
       "      <th>hh_efa_poc</th>\n",
       "      <td>96.2%</td>\n",
       "    </tr>\n",
       "    <tr>\n",
       "      <th>hh_efa_youth</th>\n",
       "      <td>93.3%</td>\n",
       "    </tr>\n",
       "  </tbody>\n",
       "</table>\n",
       "</div>"
      ],
      "text/plain": [
       "               % Transit Trips Accessed by Walking\n",
       "hh_efa_dis                                   95.7%\n",
       "hh_efa_older                                 95.1%\n",
       "hh_efa_lep                                   95.7%\n",
       "hh_efa_pov200                                96.0%\n",
       "hh_efa_poc                                   96.2%\n",
       "hh_efa_youth                                 93.3%"
      ]
     },
     "execution_count": 34,
     "metadata": {},
     "output_type": "execute_result"
    }
   ],
   "source": [
    "pd.options.display.float_format = '{:0,.1%}'.format\n",
    "_df = df.copy()\n",
    "results_df = pd.DataFrame()\n",
    "list_50 = ['hh_racial','hh_poverty']\n",
    "# for col in ['hh_disability','hh_elderly','hh_english','hh_poverty','hh_racial','hh_youth']:\n",
    "for col in summary_config[\"hh_equity_geogs\"]:\n",
    "    pnr_transit_trips = _df[(_df[col] == 1) & \n",
    "                            (_df['tmodetp'] == 'Park') &\n",
    "                            (_df['mode'] == 'Transit')]['trexpfac'].sum()\n",
    "    walk_transit_trips = _df[(_df[col] == 1) & \n",
    "                                (_df['tmodetp'] == 'Transit') & \n",
    "                                (_df['mode'] == 'Transit')]['trexpfac'].sum()\n",
    "    if (pnr_transit_trips > 0) & (walk_transit_trips > 0):\n",
    "        results_df.loc[col,'% Transit Trips Accessed by Walking'] = walk_transit_trips/(walk_transit_trips+pnr_transit_trips)\n",
    "# results_df.rename(columns={'_reg':'> Regional Average', '_50': '> 50%'}, inplace=True)\n",
    "results_df"
   ]
  },
  {
   "cell_type": "raw",
   "id": "f73ae35f",
   "metadata": {
    "vscode": {
     "languageId": "raw"
    }
   },
   "source": [
    ":::"
   ]
  },
  {
   "cell_type": "markdown",
   "id": "611f51e2",
   "metadata": {},
   "source": [
    "# Transit Equity"
   ]
  },
  {
   "cell_type": "code",
   "execution_count": 35,
   "id": "9f157a0e",
   "metadata": {
    "execution": {
     "iopub.execute_input": "2025-07-15T22:51:41.061607Z",
     "iopub.status.busy": "2025-07-15T22:51:41.061081Z",
     "iopub.status.idle": "2025-07-15T22:52:32.358993Z",
     "shell.execute_reply": "2025-07-15T22:52:32.358000Z"
    }
   },
   "outputs": [],
   "source": [
    "\n",
    "\n",
    "myh5 = h5py.File(r'..\\..\\..\\..\\inputs\\scenario\\landuse\\hh_and_persons.h5', 'r')\n",
    "person = pd.read_csv(r'..\\..\\..\\..\\outputs\\daysim\\_person.tsv', sep='\\t')\n",
    "df_trip = pd.read_csv(r'..\\..\\..\\..\\outputs\\daysim\\_trip.tsv', sep='\\t')\n",
    "df_hh = pd.read_csv(r'..\\..\\..\\..\\outputs\\daysim\\_household.tsv', sep='\\t')"
   ]
  },
  {
   "cell_type": "code",
   "execution_count": 36,
   "id": "b6f9adec",
   "metadata": {
    "execution": {
     "iopub.execute_input": "2025-07-15T22:52:32.364570Z",
     "iopub.status.busy": "2025-07-15T22:52:32.364570Z",
     "iopub.status.idle": "2025-07-15T22:52:36.551915Z",
     "shell.execute_reply": "2025-07-15T22:52:36.551915Z"
    }
   },
   "outputs": [],
   "source": [
    "# Create a DataFrame from the h5 file\n",
    "df_person = pd.DataFrame()\n",
    "for col in ['hhno','pno','prace']:\n",
    "    df_person[col] = myh5['Person'][col][:]\n",
    "\n",
    "df_trip = df_trip.merge(df_person[['hhno','pno','prace']], on=['hhno','pno'], how='left')"
   ]
  },
  {
   "cell_type": "code",
   "execution_count": 37,
   "id": "3cfd38b8",
   "metadata": {
    "execution": {
     "iopub.execute_input": "2025-07-15T22:52:36.554902Z",
     "iopub.status.busy": "2025-07-15T22:52:36.554902Z",
     "iopub.status.idle": "2025-07-15T22:52:41.950062Z",
     "shell.execute_reply": "2025-07-15T22:52:41.949068Z"
    }
   },
   "outputs": [
    {
     "name": "stderr",
     "output_type": "stream",
     "text": [
      "C:\\Users\\Modeller\\AppData\\Local\\Temp\\ipykernel_7300\\2330724568.py:22: FutureWarning: DataFrame.applymap has been deprecated. Use DataFrame.map instead.\n",
      "  df[['Work %','School %','Other %']] = df[['Work %','School %','Other %']].applymap(\"{:,.1%}\".format)\n"
     ]
    },
    {
     "data": {
      "text/html": [
       "<div>\n",
       "<style scoped>\n",
       "    .dataframe tbody tr th:only-of-type {\n",
       "        vertical-align: middle;\n",
       "    }\n",
       "\n",
       "    .dataframe tbody tr th {\n",
       "        vertical-align: top;\n",
       "    }\n",
       "\n",
       "    .dataframe thead th {\n",
       "        text-align: right;\n",
       "    }\n",
       "</style>\n",
       "<table border=\"1\" class=\"dataframe\">\n",
       "  <thead>\n",
       "    <tr style=\"text-align: right;\">\n",
       "      <th>Purpose Type</th>\n",
       "      <th>Work %</th>\n",
       "      <th>School %</th>\n",
       "      <th>Other %</th>\n",
       "    </tr>\n",
       "    <tr>\n",
       "      <th>Path Type</th>\n",
       "      <th></th>\n",
       "      <th></th>\n",
       "      <th></th>\n",
       "    </tr>\n",
       "  </thead>\n",
       "  <tbody>\n",
       "    <tr>\n",
       "      <th>Bus</th>\n",
       "      <td>16.1%</td>\n",
       "      <td>14.4%</td>\n",
       "      <td>69.5%</td>\n",
       "    </tr>\n",
       "    <tr>\n",
       "      <th>Commuter Rail</th>\n",
       "      <td>52.0%</td>\n",
       "      <td>1.8%</td>\n",
       "      <td>46.2%</td>\n",
       "    </tr>\n",
       "    <tr>\n",
       "      <th>Drive</th>\n",
       "      <td>20.2%</td>\n",
       "      <td>6.2%</td>\n",
       "      <td>73.6%</td>\n",
       "    </tr>\n",
       "    <tr>\n",
       "      <th>Ferry 1</th>\n",
       "      <td>41.6%</td>\n",
       "      <td>15.2%</td>\n",
       "      <td>43.1%</td>\n",
       "    </tr>\n",
       "    <tr>\n",
       "      <th>Ferry 2</th>\n",
       "      <td>61.5%</td>\n",
       "      <td>1.9%</td>\n",
       "      <td>36.6%</td>\n",
       "    </tr>\n",
       "    <tr>\n",
       "      <th>Light Rail</th>\n",
       "      <td>31.9%</td>\n",
       "      <td>14.2%</td>\n",
       "      <td>53.9%</td>\n",
       "    </tr>\n",
       "  </tbody>\n",
       "</table>\n",
       "</div>"
      ],
      "text/plain": [
       "Purpose Type  Work % School % Other %\n",
       "Path Type                            \n",
       "Bus            16.1%    14.4%   69.5%\n",
       "Commuter Rail  52.0%     1.8%   46.2%\n",
       "Drive          20.2%     6.2%   73.6%\n",
       "Ferry 1        41.6%    15.2%   43.1%\n",
       "Ferry 2        61.5%     1.9%   36.6%\n",
       "Light Rail     31.9%    14.2%   53.9%"
      ]
     },
     "execution_count": 37,
     "metadata": {},
     "output_type": "execute_result"
    }
   ],
   "source": [
    "# Create group of work, school, and all other purposes\n",
    "df_trip['Purpose Type'] = 'Other'\n",
    "df_trip.loc[df_trip['dpurp']==0, 'Purpose Type'] = 'Home'\n",
    "df_trip.loc[df_trip['dpurp']==1, 'Purpose Type'] = 'Work'\n",
    "df_trip.loc[df_trip['dpurp']==2, 'Purpose Type'] = 'School'\n",
    "\n",
    "# Rename path types\n",
    "df_trip.loc[df_trip['pathtype']==1, 'Path Type'] = 'Drive'\n",
    "df_trip.loc[df_trip['pathtype']==3, 'Path Type'] = 'Bus'\n",
    "df_trip.loc[df_trip['pathtype']==4, 'Path Type'] = 'Light Rail'\n",
    "df_trip.loc[df_trip['pathtype']==5, 'Path Type'] = 'Ferry 1'\n",
    "df_trip.loc[df_trip['pathtype']==6, 'Path Type'] = 'Commuter Rail'\n",
    "df_trip.loc[df_trip['pathtype']==7, 'Path Type'] = 'Ferry 2'\n",
    "\n",
    "df = pd.pivot_table(df_trip[(df_trip['dpurp']!=0) & (~df_trip['pathtype'].isin([0,'Drive']))], values='trexpfac', index='Path Type', columns='Purpose Type', aggfunc='sum')\n",
    "\n",
    "df['Total'] = df.sum(axis=1)\n",
    "for row in df.index:\n",
    "    for col in ['Work','School','Other']:\n",
    "        df.loc[row, col + ' %'] = df.loc[row, col] / df.loc[row, 'Total']\n",
    "\n",
    "df[['Work %','School %','Other %']] = df[['Work %','School %','Other %']].applymap(\"{:,.1%}\".format)\n",
    "df[['Work %','School %','Other %']]"
   ]
  },
  {
   "cell_type": "code",
   "execution_count": 38,
   "id": "a5ce7716",
   "metadata": {
    "execution": {
     "iopub.execute_input": "2025-07-15T22:52:41.956655Z",
     "iopub.status.busy": "2025-07-15T22:52:41.955659Z",
     "iopub.status.idle": "2025-07-15T22:52:45.700493Z",
     "shell.execute_reply": "2025-07-15T22:52:45.699979Z"
    }
   },
   "outputs": [],
   "source": [
    "\n",
    "race_dict = {\n",
    "    '1': 'White alone',\n",
    "    '2': 'Black or African American alone',\n",
    "    '3': 'American Indian alone',\n",
    "    '4': 'Alaska Native alone',\n",
    "    '5': 'American Indian and Alaska Native tribes specified',\n",
    "    '6': 'Asian alone',\n",
    "    '7': 'Native Hawaiian and Other Pacific Islander alone',\n",
    "    '8': 'Some Other Race alone',\n",
    "    '9': 'Two or More Races'\n",
    "}\n",
    "\n",
    "\n",
    "df_trip['Race'] = df_trip['prace'].astype('int').astype('str').map(race_dict)"
   ]
  },
  {
   "cell_type": "code",
   "execution_count": 39,
   "id": "fe532770",
   "metadata": {
    "execution": {
     "iopub.execute_input": "2025-07-15T22:52:45.704479Z",
     "iopub.status.busy": "2025-07-15T22:52:45.704479Z",
     "iopub.status.idle": "2025-07-15T22:52:49.778449Z",
     "shell.execute_reply": "2025-07-15T22:52:49.777449Z"
    }
   },
   "outputs": [
    {
     "data": {
      "text/html": [
       "<div>\n",
       "<style scoped>\n",
       "    .dataframe tbody tr th:only-of-type {\n",
       "        vertical-align: middle;\n",
       "    }\n",
       "\n",
       "    .dataframe tbody tr th {\n",
       "        vertical-align: top;\n",
       "    }\n",
       "\n",
       "    .dataframe thead th {\n",
       "        text-align: right;\n",
       "    }\n",
       "</style>\n",
       "<table border=\"1\" class=\"dataframe\">\n",
       "  <thead>\n",
       "    <tr style=\"text-align: right;\">\n",
       "      <th>Race</th>\n",
       "      <th>White alone</th>\n",
       "      <th>Black or African American alone</th>\n",
       "      <th>American Indian alone</th>\n",
       "      <th>Alaska Native alone</th>\n",
       "      <th>American Indian and Alaska Native tribes specified</th>\n",
       "      <th>Asian alone</th>\n",
       "      <th>Native Hawaiian and Other Pacific Islander alone</th>\n",
       "      <th>Some Other Race alone</th>\n",
       "      <th>Two or More Races</th>\n",
       "    </tr>\n",
       "    <tr>\n",
       "      <th>Path Type</th>\n",
       "      <th></th>\n",
       "      <th></th>\n",
       "      <th></th>\n",
       "      <th></th>\n",
       "      <th></th>\n",
       "      <th></th>\n",
       "      <th></th>\n",
       "      <th></th>\n",
       "      <th></th>\n",
       "    </tr>\n",
       "  </thead>\n",
       "  <tbody>\n",
       "    <tr>\n",
       "      <th>Bus</th>\n",
       "      <td>58.8%</td>\n",
       "      <td>7.8%</td>\n",
       "      <td>0.6%</td>\n",
       "      <td>0.1%</td>\n",
       "      <td>0.1%</td>\n",
       "      <td>18.8%</td>\n",
       "      <td>0.7%</td>\n",
       "      <td>4.0%</td>\n",
       "      <td>9.1%</td>\n",
       "    </tr>\n",
       "    <tr>\n",
       "      <th>Commuter Rail</th>\n",
       "      <td>62.6%</td>\n",
       "      <td>7.4%</td>\n",
       "      <td>0.8%</td>\n",
       "      <td>0.1%</td>\n",
       "      <td>0.1%</td>\n",
       "      <td>11.9%</td>\n",
       "      <td>2.3%</td>\n",
       "      <td>5.0%</td>\n",
       "      <td>9.8%</td>\n",
       "    </tr>\n",
       "    <tr>\n",
       "      <th>Drive</th>\n",
       "      <td>64.6%</td>\n",
       "      <td>5.6%</td>\n",
       "      <td>0.6%</td>\n",
       "      <td>0.1%</td>\n",
       "      <td>0.1%</td>\n",
       "      <td>14.8%</td>\n",
       "      <td>1.0%</td>\n",
       "      <td>4.3%</td>\n",
       "      <td>9.0%</td>\n",
       "    </tr>\n",
       "    <tr>\n",
       "      <th>Ferry 1</th>\n",
       "      <td>77.5%</td>\n",
       "      <td>2.0%</td>\n",
       "      <td>0.5%</td>\n",
       "      <td>0.1%</td>\n",
       "      <td>0.3%</td>\n",
       "      <td>5.7%</td>\n",
       "      <td>2.1%</td>\n",
       "      <td>2.6%</td>\n",
       "      <td>9.2%</td>\n",
       "    </tr>\n",
       "    <tr>\n",
       "      <th>Ferry 2</th>\n",
       "      <td>82.0%</td>\n",
       "      <td>1.9%</td>\n",
       "      <td>0.9%</td>\n",
       "      <td>0.1%</td>\n",
       "      <td>0.2%</td>\n",
       "      <td>4.4%</td>\n",
       "      <td>0.9%</td>\n",
       "      <td>2.6%</td>\n",
       "      <td>7.0%</td>\n",
       "    </tr>\n",
       "    <tr>\n",
       "      <th>Light Rail</th>\n",
       "      <td>57.1%</td>\n",
       "      <td>8.7%</td>\n",
       "      <td>0.6%</td>\n",
       "      <td>0.1%</td>\n",
       "      <td>0.1%</td>\n",
       "      <td>20.7%</td>\n",
       "      <td>0.6%</td>\n",
       "      <td>3.6%</td>\n",
       "      <td>8.4%</td>\n",
       "    </tr>\n",
       "  </tbody>\n",
       "</table>\n",
       "</div>"
      ],
      "text/plain": [
       "Race          White alone Black or African American alone  \\\n",
       "Path Type                                                   \n",
       "Bus                 58.8%                            7.8%   \n",
       "Commuter Rail       62.6%                            7.4%   \n",
       "Drive               64.6%                            5.6%   \n",
       "Ferry 1             77.5%                            2.0%   \n",
       "Ferry 2             82.0%                            1.9%   \n",
       "Light Rail          57.1%                            8.7%   \n",
       "\n",
       "Race          American Indian alone Alaska Native alone  \\\n",
       "Path Type                                                 \n",
       "Bus                            0.6%                0.1%   \n",
       "Commuter Rail                  0.8%                0.1%   \n",
       "Drive                          0.6%                0.1%   \n",
       "Ferry 1                        0.5%                0.1%   \n",
       "Ferry 2                        0.9%                0.1%   \n",
       "Light Rail                     0.6%                0.1%   \n",
       "\n",
       "Race          American Indian and Alaska Native tribes specified Asian alone  \\\n",
       "Path Type                                                                      \n",
       "Bus                                                         0.1%       18.8%   \n",
       "Commuter Rail                                               0.1%       11.9%   \n",
       "Drive                                                       0.1%       14.8%   \n",
       "Ferry 1                                                     0.3%        5.7%   \n",
       "Ferry 2                                                     0.2%        4.4%   \n",
       "Light Rail                                                  0.1%       20.7%   \n",
       "\n",
       "Race          Native Hawaiian and Other Pacific Islander alone  \\\n",
       "Path Type                                                        \n",
       "Bus                                                       0.7%   \n",
       "Commuter Rail                                             2.3%   \n",
       "Drive                                                     1.0%   \n",
       "Ferry 1                                                   2.1%   \n",
       "Ferry 2                                                   0.9%   \n",
       "Light Rail                                                0.6%   \n",
       "\n",
       "Race          Some Other Race alone Two or More Races  \n",
       "Path Type                                              \n",
       "Bus                            4.0%              9.1%  \n",
       "Commuter Rail                  5.0%              9.8%  \n",
       "Drive                          4.3%              9.0%  \n",
       "Ferry 1                        2.6%              9.2%  \n",
       "Ferry 2                        2.6%              7.0%  \n",
       "Light Rail                     3.6%              8.4%  "
      ]
     },
     "execution_count": 39,
     "metadata": {},
     "output_type": "execute_result"
    }
   ],
   "source": [
    "# Submode Ridership by race\n",
    "df = pd.pivot_table(df_trip[(df_trip['pathtype']!=\"Drive\")], values='trexpfac', index='Path Type', columns='Race', aggfunc=\"sum\")\n",
    "race_cols = ['White alone','Black or African American alone','American Indian alone',\n",
    "             'Alaska Native alone','American Indian and Alaska Native tribes specified','Asian alone',\n",
    "             'Native Hawaiian and Other Pacific Islander alone','Some Other Race alone','Two or More Races']\n",
    "# Calculate shares of total by Race for each Path Type\n",
    "df['Total'] = df.sum(axis=1)\n",
    "df = df.astype('float')\n",
    "for row in df.index:\n",
    "    for col in race_cols:\n",
    "        df.loc[row, col] = df.loc[row, col] / df.loc[row, 'Total']\n",
    "df[race_cols] = df[race_cols].map(\"{:,.1%}\".format)\n",
    "df[race_cols]"
   ]
  },
  {
   "cell_type": "code",
   "execution_count": 40,
   "id": "18899f95",
   "metadata": {
    "execution": {
     "iopub.execute_input": "2025-07-15T22:52:49.783497Z",
     "iopub.status.busy": "2025-07-15T22:52:49.783497Z",
     "iopub.status.idle": "2025-07-15T22:52:52.901966Z",
     "shell.execute_reply": "2025-07-15T22:52:52.901452Z"
    }
   },
   "outputs": [],
   "source": [
    "df_trip = df_trip.merge(df_hh[['hhno','hhincome']], on=['hhno'], how='left')"
   ]
  },
  {
   "cell_type": "code",
   "execution_count": 41,
   "id": "767b9cc3",
   "metadata": {
    "execution": {
     "iopub.execute_input": "2025-07-15T22:52:52.907948Z",
     "iopub.status.busy": "2025-07-15T22:52:52.906951Z",
     "iopub.status.idle": "2025-07-15T22:52:54.226534Z",
     "shell.execute_reply": "2025-07-15T22:52:54.225538Z"
    }
   },
   "outputs": [
    {
     "data": {
      "text/html": [
       "<div>\n",
       "<style scoped>\n",
       "    .dataframe tbody tr th:only-of-type {\n",
       "        vertical-align: middle;\n",
       "    }\n",
       "\n",
       "    .dataframe tbody tr th {\n",
       "        vertical-align: top;\n",
       "    }\n",
       "\n",
       "    .dataframe thead th {\n",
       "        text-align: right;\n",
       "    }\n",
       "</style>\n",
       "<table border=\"1\" class=\"dataframe\">\n",
       "  <thead>\n",
       "    <tr style=\"text-align: right;\">\n",
       "      <th>Income Bin</th>\n",
       "      <th>&lt;20k</th>\n",
       "      <th>20-40k</th>\n",
       "      <th>40-60k</th>\n",
       "      <th>60-80k</th>\n",
       "      <th>80-100k</th>\n",
       "      <th>100-120k</th>\n",
       "      <th>120-140k</th>\n",
       "      <th>140-160k</th>\n",
       "      <th>160-180k</th>\n",
       "      <th>180-200k</th>\n",
       "      <th>&gt;200k</th>\n",
       "    </tr>\n",
       "    <tr>\n",
       "      <th>Path Type</th>\n",
       "      <th></th>\n",
       "      <th></th>\n",
       "      <th></th>\n",
       "      <th></th>\n",
       "      <th></th>\n",
       "      <th></th>\n",
       "      <th></th>\n",
       "      <th></th>\n",
       "      <th></th>\n",
       "      <th></th>\n",
       "      <th></th>\n",
       "    </tr>\n",
       "  </thead>\n",
       "  <tbody>\n",
       "    <tr>\n",
       "      <th>Bus</th>\n",
       "      <td>35,171</td>\n",
       "      <td>27,776</td>\n",
       "      <td>23,230</td>\n",
       "      <td>20,390</td>\n",
       "      <td>19,091</td>\n",
       "      <td>14,943</td>\n",
       "      <td>14,499</td>\n",
       "      <td>13,522</td>\n",
       "      <td>11,040</td>\n",
       "      <td>9,905</td>\n",
       "      <td>60,626</td>\n",
       "    </tr>\n",
       "    <tr>\n",
       "      <th>Commuter Rail</th>\n",
       "      <td>179</td>\n",
       "      <td>336</td>\n",
       "      <td>621</td>\n",
       "      <td>646</td>\n",
       "      <td>960</td>\n",
       "      <td>748</td>\n",
       "      <td>736</td>\n",
       "      <td>587</td>\n",
       "      <td>479</td>\n",
       "      <td>510</td>\n",
       "      <td>1,733</td>\n",
       "    </tr>\n",
       "    <tr>\n",
       "      <th>Ferry 1</th>\n",
       "      <td>210</td>\n",
       "      <td>243</td>\n",
       "      <td>353</td>\n",
       "      <td>397</td>\n",
       "      <td>324</td>\n",
       "      <td>348</td>\n",
       "      <td>288</td>\n",
       "      <td>228</td>\n",
       "      <td>222</td>\n",
       "      <td>174</td>\n",
       "      <td>725</td>\n",
       "    </tr>\n",
       "    <tr>\n",
       "      <th>Ferry 2</th>\n",
       "      <td>124</td>\n",
       "      <td>311</td>\n",
       "      <td>472</td>\n",
       "      <td>774</td>\n",
       "      <td>860</td>\n",
       "      <td>944</td>\n",
       "      <td>786</td>\n",
       "      <td>708</td>\n",
       "      <td>555</td>\n",
       "      <td>443</td>\n",
       "      <td>2,664</td>\n",
       "    </tr>\n",
       "    <tr>\n",
       "      <th>Light Rail</th>\n",
       "      <td>9,378</td>\n",
       "      <td>7,440</td>\n",
       "      <td>7,018</td>\n",
       "      <td>6,858</td>\n",
       "      <td>6,413</td>\n",
       "      <td>5,327</td>\n",
       "      <td>5,139</td>\n",
       "      <td>4,789</td>\n",
       "      <td>3,947</td>\n",
       "      <td>3,193</td>\n",
       "      <td>24,151</td>\n",
       "    </tr>\n",
       "  </tbody>\n",
       "</table>\n",
       "</div>"
      ],
      "text/plain": [
       "Income Bin       <20k  20-40k  40-60k  60-80k 80-100k 100-120k 120-140k  \\\n",
       "Path Type                                                                 \n",
       "Bus            35,171  27,776  23,230  20,390  19,091   14,943   14,499   \n",
       "Commuter Rail     179     336     621     646     960      748      736   \n",
       "Ferry 1           210     243     353     397     324      348      288   \n",
       "Ferry 2           124     311     472     774     860      944      786   \n",
       "Light Rail      9,378   7,440   7,018   6,858   6,413    5,327    5,139   \n",
       "\n",
       "Income Bin    140-160k 160-180k 180-200k   >200k  \n",
       "Path Type                                         \n",
       "Bus             13,522   11,040    9,905  60,626  \n",
       "Commuter Rail      587      479      510   1,733  \n",
       "Ferry 1            228      222      174     725  \n",
       "Ferry 2            708      555      443   2,664  \n",
       "Light Rail       4,789    3,947    3,193  24,151  "
      ]
     },
     "execution_count": 41,
     "metadata": {},
     "output_type": "execute_result"
    }
   ],
   "source": [
    "# Create bins for hhincome\n",
    "bins = [0, 20000, 40000, 60000, 80000, 100000, 120000, 140000, 160000, 180000, 200000, np.inf]\n",
    "labels = ['<20k', '20-40k', '40-60k', '60-80k', '80-100k', '100-120k', '120-140k', '140-160k', '160-180k', '180-200k', '>200k']\n",
    "df_trip['Income Bin'] = pd.cut(df_trip['hhincome'], bins=bins, labels=labels, right=False)\n",
    "df_trip['Income Bin'] = df_trip['Income Bin'].astype('str')\n",
    "\n",
    "# Transit Submodes by Income\n",
    "df = pd.pivot_table(df_trip[(df_trip['Path Type']!=\"Drive\")], values='trexpfac', index='Path Type', columns='Income Bin', aggfunc=\"sum\")\n",
    "\n",
    "# display labels with no significant figs\n",
    "df[labels] = df[labels].map(\"{:0,.0f}\".format)\n",
    "df[labels]"
   ]
  },
  {
   "cell_type": "code",
   "execution_count": 42,
   "id": "800a6052",
   "metadata": {
    "execution": {
     "iopub.execute_input": "2025-07-15T22:52:54.231520Z",
     "iopub.status.busy": "2025-07-15T22:52:54.231520Z",
     "iopub.status.idle": "2025-07-15T22:52:55.072497Z",
     "shell.execute_reply": "2025-07-15T22:52:55.071512Z"
    }
   },
   "outputs": [
    {
     "data": {
      "text/html": [
       "<div>\n",
       "<style scoped>\n",
       "    .dataframe tbody tr th:only-of-type {\n",
       "        vertical-align: middle;\n",
       "    }\n",
       "\n",
       "    .dataframe tbody tr th {\n",
       "        vertical-align: top;\n",
       "    }\n",
       "\n",
       "    .dataframe thead th {\n",
       "        text-align: right;\n",
       "    }\n",
       "</style>\n",
       "<table border=\"1\" class=\"dataframe\">\n",
       "  <thead>\n",
       "    <tr style=\"text-align: right;\">\n",
       "      <th></th>\n",
       "      <th>hhincome</th>\n",
       "    </tr>\n",
       "    <tr>\n",
       "      <th>Path Type</th>\n",
       "      <th></th>\n",
       "    </tr>\n",
       "  </thead>\n",
       "  <tbody>\n",
       "    <tr>\n",
       "      <th>Bus</th>\n",
       "      <td>$99,537</td>\n",
       "    </tr>\n",
       "    <tr>\n",
       "      <th>Commuter Rail</th>\n",
       "      <td>$127,518</td>\n",
       "    </tr>\n",
       "    <tr>\n",
       "      <th>Ferry 1</th>\n",
       "      <td>$113,419</td>\n",
       "    </tr>\n",
       "    <tr>\n",
       "      <th>Ferry 2</th>\n",
       "      <td>$141,962</td>\n",
       "    </tr>\n",
       "    <tr>\n",
       "      <th>Light Rail</th>\n",
       "      <td>$117,951</td>\n",
       "    </tr>\n",
       "  </tbody>\n",
       "</table>\n",
       "</div>"
      ],
      "text/plain": [
       "               hhincome\n",
       "Path Type              \n",
       "Bus             $99,537\n",
       "Commuter Rail  $127,518\n",
       "Ferry 1        $113,419\n",
       "Ferry 2        $141,962\n",
       "Light Rail     $117,951"
      ]
     },
     "execution_count": 42,
     "metadata": {},
     "output_type": "execute_result"
    }
   ],
   "source": [
    "pd.pivot_table(\n",
    "    df_trip[df_trip['Path Type'] != \"Drive\"],\n",
    "    values='hhincome',\n",
    "    index='Path Type',\n",
    "    aggfunc=\"median\"\n",
    ").astype(int).map(lambda x: \"${:,.0f}\".format(x))"
   ]
  },
  {
   "cell_type": "code",
   "execution_count": null,
   "id": "32468756",
   "metadata": {},
   "outputs": [],
   "source": []
  }
 ],
 "metadata": {
  "kernelspec": {
   "display_name": "summary",
   "language": "python",
   "name": "python3"
  },
  "language_info": {
   "codemirror_mode": {
    "name": "ipython",
    "version": 3
   },
   "file_extension": ".py",
   "mimetype": "text/x-python",
   "name": "python",
   "nbconvert_exporter": "python",
   "pygments_lexer": "ipython3",
   "version": "3.11.12"
  }
 },
 "nbformat": 4,
 "nbformat_minor": 5
}
