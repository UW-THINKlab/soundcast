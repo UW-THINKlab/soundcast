{
 "cells": [
  {
   "cell_type": "raw",
   "id": "5288c708",
   "metadata": {
    "vscode": {
     "languageId": "raw"
    }
   },
   "source": [
    "---\n",
    "title: \"Household Transportation Costs\"\n",
    "date: today\n",
    "---"
   ]
  },
  {
   "cell_type": "markdown",
   "id": "29583245",
   "metadata": {},
   "source": [
    "- Average Annual Household Transportation Costs: Out-of-pocket expenses including tolls, parking, and transit fares\n",
    "\n",
    "    - These costs do not include other vehicle operating and purchase costs.\n",
    "\n",
    "    - Costs are annualized using factor of 300, as used in the 2018 RTP.\n"
   ]
  },
  {
   "cell_type": "code",
   "execution_count": 1,
   "id": "20b477a3",
   "metadata": {
    "execution": {
     "iopub.execute_input": "2025-05-06T19:53:02.613585Z",
     "iopub.status.busy": "2025-05-06T19:53:02.613585Z",
     "iopub.status.idle": "2025-05-06T19:53:04.007740Z",
     "shell.execute_reply": "2025-05-06T19:53:04.007740Z"
    }
   },
   "outputs": [],
   "source": [
    "import os, sys, shutil\n",
    "# sys.path.append(os.path.join(os.getcwd(),\"inputs\"))\n",
    "# sys.path.append(os.path.join(os.getcwd(),r\"../../../scripts/summarize/standard\"))\n",
    "# sys.path.append(os.path.join(os.getcwd(),r'../../..'))\n",
    "import numpy as np\n",
    "import pandas as pd\n",
    "from sqlalchemy import create_engine\n",
    "import sqlalchemy\n",
    "from shapely import wkt\n",
    "# from input_configuration import base_year\n",
    "# from emme_configuration import *\n",
    "# from standard_summary_configuration import *\n",
    "pd.options.mode.chained_assignment = None\n",
    "import os, sys, time, shutil\n",
    "import warnings\n",
    "warnings.simplefilter(action='ignore', category=FutureWarning)\n",
    "import pandas as pd\n",
    "pd.options.mode.chained_assignment = None\n",
    "import h5py\n",
    "import toml\n",
    "config = toml.load(os.path.join(os.getcwd(),'../../../../configuration/input_configuration.toml'))\n",
    "summary_config = toml.load(os.path.join(os.getcwd(),'../../../../configuration/summary_configuration.toml'))\n",
    "\n",
    "\n",
    "%matplotlib inline\n",
    "\n",
    "from IPython.display import display, HTML\n",
    "\n",
    "if (sys.version_info < (3, 0)):\n",
    "    HTML('''<script>\n",
    "    code_show=true; \n",
    "    function code_toggle() {\n",
    "     if (code_show){\n",
    "     $('div.input').hide();\n",
    "     } else {\n",
    "     $('div.input').show();\n",
    "     }\n",
    "     code_show = !code_show\n",
    "    } \n",
    "    $( document ).ready(code_toggle);\n",
    "    </script>\n",
    "    <form action=\"javascript:code_toggle()\"><input type=\"submit\" value=\"Click here to toggle on/off the raw code.\"></form>''')\n"
   ]
  },
  {
   "cell_type": "code",
   "execution_count": 2,
   "id": "5a7bbb05",
   "metadata": {
    "execution": {
     "iopub.execute_input": "2025-05-06T19:53:04.010735Z",
     "iopub.status.busy": "2025-05-06T19:53:04.010735Z",
     "iopub.status.idle": "2025-05-06T19:53:04.014939Z",
     "shell.execute_reply": "2025-05-06T19:53:04.014939Z"
    }
   },
   "outputs": [],
   "source": [
    "CSS = \"\"\"\n",
    ".output {\n",
    "    flex-direction: row;\n",
    "}\n",
    "\"\"\"\n",
    "\n",
    "HTML('<style>{}</style>'.format(CSS))\n",
    "\n",
    "# Relative path between notebooks and goruped output directories\n",
    "# relative_path = '../../../outputs/agg/dash'\n",
    "output_path = os.path.join(summary_config['sc_run_path'], summary_config[\"output_folder\"])\n",
    "survey_path = os.path.join(summary_config['sc_run_path'], summary_config[\"survey_folder\"])"
   ]
  },
  {
   "cell_type": "code",
   "execution_count": 3,
   "id": "dee19a06",
   "metadata": {
    "execution": {
     "iopub.execute_input": "2025-05-06T19:53:04.018149Z",
     "iopub.status.busy": "2025-05-06T19:53:04.017143Z",
     "iopub.status.idle": "2025-05-06T19:53:04.087089Z",
     "shell.execute_reply": "2025-05-06T19:53:04.086084Z"
    }
   },
   "outputs": [],
   "source": [
    "df = pd.read_csv(os.path.join(output_path,'agg/dash/person_cost.csv'))\n",
    "df_hh = pd.read_csv(os.path.join(output_path,'agg/dash/hh_geog.csv'))\n",
    "\n",
    "annual_factor = 300\n",
    "\n",
    "df['is_rgc'] = 0\n",
    "df.loc[df['hh_rgc'] != 'Not in RGC', 'is_rgc'] = 1\n",
    "df_hh['is_rgc'] = 0\n",
    "df_hh.loc[df_hh['hh_rgc'] != 'Not in RGC', 'is_rgc'] = 1"
   ]
  },
  {
   "cell_type": "code",
   "execution_count": 4,
   "id": "20ff10cb",
   "metadata": {
    "execution": {
     "iopub.execute_input": "2025-05-06T19:53:04.091077Z",
     "iopub.status.busy": "2025-05-06T19:53:04.091077Z",
     "iopub.status.idle": "2025-05-06T19:53:04.106050Z",
     "shell.execute_reply": "2025-05-06T19:53:04.106050Z"
    }
   },
   "outputs": [],
   "source": [
    "df = df[(((df['mode'].isin(['SOV','HOV2','HOV3+']) & (df['dorp'] == 1)) \n",
    "          | (~df['mode'].isin(['SOV','HOV2','HOV3+']))))]"
   ]
  },
  {
   "cell_type": "code",
   "execution_count": 5,
   "id": "693fb40e",
   "metadata": {
    "execution": {
     "iopub.execute_input": "2025-05-06T19:53:04.110043Z",
     "iopub.status.busy": "2025-05-06T19:53:04.110043Z",
     "iopub.status.idle": "2025-05-06T19:53:04.114121Z",
     "shell.execute_reply": "2025-05-06T19:53:04.114121Z"
    }
   },
   "outputs": [],
   "source": [
    "pd.options.display.float_format = '${:0,.0f}'.format"
   ]
  },
  {
   "cell_type": "markdown",
   "id": "9fffaab9",
   "metadata": {},
   "source": [
    "## County"
   ]
  },
  {
   "cell_type": "code",
   "execution_count": 6,
   "id": "a2a024ae",
   "metadata": {
    "execution": {
     "iopub.execute_input": "2025-05-06T19:53:04.118113Z",
     "iopub.status.busy": "2025-05-06T19:53:04.117116Z",
     "iopub.status.idle": "2025-05-06T19:53:04.210371Z",
     "shell.execute_reply": "2025-05-06T19:53:04.209368Z"
    }
   },
   "outputs": [
    {
     "data": {
      "text/html": [
       "<div>\n",
       "<style scoped>\n",
       "    .dataframe tbody tr th:only-of-type {\n",
       "        vertical-align: middle;\n",
       "    }\n",
       "\n",
       "    .dataframe tbody tr th {\n",
       "        vertical-align: top;\n",
       "    }\n",
       "\n",
       "    .dataframe thead th {\n",
       "        text-align: right;\n",
       "    }\n",
       "</style>\n",
       "<table border=\"1\" class=\"dataframe\">\n",
       "  <thead>\n",
       "    <tr style=\"text-align: right;\">\n",
       "      <th></th>\n",
       "      <th>Average Annual Costs</th>\n",
       "    </tr>\n",
       "    <tr>\n",
       "      <th>hh_county</th>\n",
       "      <th></th>\n",
       "    </tr>\n",
       "  </thead>\n",
       "  <tbody>\n",
       "    <tr>\n",
       "      <th>King</th>\n",
       "      <td>$2,241</td>\n",
       "    </tr>\n",
       "    <tr>\n",
       "      <th>Kitsap</th>\n",
       "      <td>$2,769</td>\n",
       "    </tr>\n",
       "    <tr>\n",
       "      <th>Outside Region</th>\n",
       "      <td>$2,585</td>\n",
       "    </tr>\n",
       "    <tr>\n",
       "      <th>Pierce</th>\n",
       "      <td>$2,609</td>\n",
       "    </tr>\n",
       "    <tr>\n",
       "      <th>Snohomish</th>\n",
       "      <td>$2,758</td>\n",
       "    </tr>\n",
       "    <tr>\n",
       "      <th>Region</th>\n",
       "      <td>$2,443</td>\n",
       "    </tr>\n",
       "  </tbody>\n",
       "</table>\n",
       "</div>"
      ],
      "text/plain": [
       "                Average Annual Costs\n",
       "hh_county                           \n",
       "King                          $2,241\n",
       "Kitsap                        $2,769\n",
       "Outside Region                $2,585\n",
       "Pierce                        $2,609\n",
       "Snohomish                     $2,758\n",
       "Region                        $2,443"
      ]
     },
     "execution_count": 6,
     "metadata": {},
     "output_type": "execute_result"
    }
   ],
   "source": [
    "_df = pd.DataFrame(df.groupby('hh_county').sum()['travcost_wt']/df_hh.groupby('hh_county').sum()['hhexpfac'])*annual_factor\n",
    "_df.columns = ['Average Annual Costs']\n",
    "_df.loc['Region'] = df['travcost_wt'].sum()/df_hh['hhexpfac'].sum()*annual_factor\n",
    "_df"
   ]
  },
  {
   "cell_type": "markdown",
   "id": "22d701e5",
   "metadata": {},
   "source": [
    "## Regional Growth Center"
   ]
  },
  {
   "cell_type": "code",
   "execution_count": 7,
   "id": "a469e394",
   "metadata": {
    "execution": {
     "iopub.execute_input": "2025-05-06T19:53:04.215358Z",
     "iopub.status.busy": "2025-05-06T19:53:04.215358Z",
     "iopub.status.idle": "2025-05-06T19:53:04.366918Z",
     "shell.execute_reply": "2025-05-06T19:53:04.365915Z"
    }
   },
   "outputs": [
    {
     "data": {
      "text/html": [
       "<div>\n",
       "<style scoped>\n",
       "    .dataframe tbody tr th:only-of-type {\n",
       "        vertical-align: middle;\n",
       "    }\n",
       "\n",
       "    .dataframe tbody tr th {\n",
       "        vertical-align: top;\n",
       "    }\n",
       "\n",
       "    .dataframe thead th {\n",
       "        text-align: right;\n",
       "    }\n",
       "</style>\n",
       "<table border=\"1\" class=\"dataframe\">\n",
       "  <thead>\n",
       "    <tr style=\"text-align: right;\">\n",
       "      <th></th>\n",
       "      <th>Average Annual Costs</th>\n",
       "    </tr>\n",
       "    <tr>\n",
       "      <th>is_rgc</th>\n",
       "      <th></th>\n",
       "    </tr>\n",
       "  </thead>\n",
       "  <tbody>\n",
       "    <tr>\n",
       "      <th>0</th>\n",
       "      <td>$2,607</td>\n",
       "    </tr>\n",
       "    <tr>\n",
       "      <th>1</th>\n",
       "      <td>$901</td>\n",
       "    </tr>\n",
       "  </tbody>\n",
       "</table>\n",
       "</div>"
      ],
      "text/plain": [
       "        Average Annual Costs\n",
       "is_rgc                      \n",
       "0                     $2,607\n",
       "1                       $901"
      ]
     },
     "execution_count": 7,
     "metadata": {},
     "output_type": "execute_result"
    }
   ],
   "source": [
    "_df = pd.DataFrame(df.groupby('is_rgc').sum()['travcost_wt']/df_hh.groupby('is_rgc').sum()['hhexpfac'])*annual_factor\n",
    "_df.columns = ['Average Annual Costs']\n",
    "_df"
   ]
  },
  {
   "cell_type": "code",
   "execution_count": 8,
   "id": "f5553a7d",
   "metadata": {
    "execution": {
     "iopub.execute_input": "2025-05-06T19:53:04.371905Z",
     "iopub.status.busy": "2025-05-06T19:53:04.370908Z",
     "iopub.status.idle": "2025-05-06T19:53:04.478998Z",
     "shell.execute_reply": "2025-05-06T19:53:04.477995Z"
    }
   },
   "outputs": [
    {
     "data": {
      "text/html": [
       "<div>\n",
       "<style scoped>\n",
       "    .dataframe tbody tr th:only-of-type {\n",
       "        vertical-align: middle;\n",
       "    }\n",
       "\n",
       "    .dataframe tbody tr th {\n",
       "        vertical-align: top;\n",
       "    }\n",
       "\n",
       "    .dataframe thead th {\n",
       "        text-align: right;\n",
       "    }\n",
       "</style>\n",
       "<table border=\"1\" class=\"dataframe\">\n",
       "  <thead>\n",
       "    <tr style=\"text-align: right;\">\n",
       "      <th></th>\n",
       "      <th>Average Annual Costs</th>\n",
       "    </tr>\n",
       "    <tr>\n",
       "      <th>hh_rgc</th>\n",
       "      <th></th>\n",
       "    </tr>\n",
       "  </thead>\n",
       "  <tbody>\n",
       "    <tr>\n",
       "      <th>Auburn</th>\n",
       "      <td>$1,726</td>\n",
       "    </tr>\n",
       "    <tr>\n",
       "      <th>Bellevue</th>\n",
       "      <td>$932</td>\n",
       "    </tr>\n",
       "    <tr>\n",
       "      <th>Bothell Canyon Park</th>\n",
       "      <td>$2,357</td>\n",
       "    </tr>\n",
       "    <tr>\n",
       "      <th>Bremerton</th>\n",
       "      <td>$1,139</td>\n",
       "    </tr>\n",
       "    <tr>\n",
       "      <th>Burien</th>\n",
       "      <td>$1,699</td>\n",
       "    </tr>\n",
       "    <tr>\n",
       "      <th>Everett</th>\n",
       "      <td>$1,086</td>\n",
       "    </tr>\n",
       "    <tr>\n",
       "      <th>Federal Way</th>\n",
       "      <td>$1,866</td>\n",
       "    </tr>\n",
       "    <tr>\n",
       "      <th>Greater Downtown Kirkland</th>\n",
       "      <td>$1,749</td>\n",
       "    </tr>\n",
       "    <tr>\n",
       "      <th>Kent</th>\n",
       "      <td>$1,603</td>\n",
       "    </tr>\n",
       "    <tr>\n",
       "      <th>Kirkland Totem Lake</th>\n",
       "      <td>$1,668</td>\n",
       "    </tr>\n",
       "    <tr>\n",
       "      <th>Lakewood</th>\n",
       "      <td>$1,497</td>\n",
       "    </tr>\n",
       "    <tr>\n",
       "      <th>Lynnwood</th>\n",
       "      <td>$1,727</td>\n",
       "    </tr>\n",
       "    <tr>\n",
       "      <th>Not in RGC</th>\n",
       "      <td>$2,607</td>\n",
       "    </tr>\n",
       "    <tr>\n",
       "      <th>Puyallup Downtown</th>\n",
       "      <td>$1,301</td>\n",
       "    </tr>\n",
       "    <tr>\n",
       "      <th>Puyallup South Hill</th>\n",
       "      <td>$1,691</td>\n",
       "    </tr>\n",
       "    <tr>\n",
       "      <th>Redmond Downtown</th>\n",
       "      <td>$1,377</td>\n",
       "    </tr>\n",
       "    <tr>\n",
       "      <th>Redmond-Overlake</th>\n",
       "      <td>$1,233</td>\n",
       "    </tr>\n",
       "    <tr>\n",
       "      <th>Renton</th>\n",
       "      <td>$1,442</td>\n",
       "    </tr>\n",
       "    <tr>\n",
       "      <th>SeaTac</th>\n",
       "      <td>$1,928</td>\n",
       "    </tr>\n",
       "    <tr>\n",
       "      <th>Seattle Downtown</th>\n",
       "      <td>$400</td>\n",
       "    </tr>\n",
       "    <tr>\n",
       "      <th>Seattle First Hill/Capitol Hill</th>\n",
       "      <td>$584</td>\n",
       "    </tr>\n",
       "    <tr>\n",
       "      <th>Seattle Northgate</th>\n",
       "      <td>$1,460</td>\n",
       "    </tr>\n",
       "    <tr>\n",
       "      <th>Seattle South Lake Union</th>\n",
       "      <td>$512</td>\n",
       "    </tr>\n",
       "    <tr>\n",
       "      <th>Seattle University Community</th>\n",
       "      <td>$918</td>\n",
       "    </tr>\n",
       "    <tr>\n",
       "      <th>Seattle Uptown</th>\n",
       "      <td>$722</td>\n",
       "    </tr>\n",
       "    <tr>\n",
       "      <th>Silverdale</th>\n",
       "      <td>$922</td>\n",
       "    </tr>\n",
       "    <tr>\n",
       "      <th>Tacoma Downtown</th>\n",
       "      <td>$936</td>\n",
       "    </tr>\n",
       "    <tr>\n",
       "      <th>Tacoma Mall</th>\n",
       "      <td>$1,174</td>\n",
       "    </tr>\n",
       "    <tr>\n",
       "      <th>Tukwila</th>\n",
       "      <td>$1,283</td>\n",
       "    </tr>\n",
       "    <tr>\n",
       "      <th>University Place</th>\n",
       "      <td>$1,521</td>\n",
       "    </tr>\n",
       "  </tbody>\n",
       "</table>\n",
       "</div>"
      ],
      "text/plain": [
       "                                 Average Annual Costs\n",
       "hh_rgc                                               \n",
       "Auburn                                         $1,726\n",
       "Bellevue                                         $932\n",
       "Bothell Canyon Park                            $2,357\n",
       "Bremerton                                      $1,139\n",
       "Burien                                         $1,699\n",
       "Everett                                        $1,086\n",
       "Federal Way                                    $1,866\n",
       "Greater Downtown Kirkland                      $1,749\n",
       "Kent                                           $1,603\n",
       "Kirkland Totem Lake                            $1,668\n",
       "Lakewood                                       $1,497\n",
       "Lynnwood                                       $1,727\n",
       "Not in RGC                                     $2,607\n",
       "Puyallup Downtown                              $1,301\n",
       "Puyallup South Hill                            $1,691\n",
       "Redmond Downtown                               $1,377\n",
       "Redmond-Overlake                               $1,233\n",
       "Renton                                         $1,442\n",
       "SeaTac                                         $1,928\n",
       "Seattle Downtown                                 $400\n",
       "Seattle First Hill/Capitol Hill                  $584\n",
       "Seattle Northgate                              $1,460\n",
       "Seattle South Lake Union                         $512\n",
       "Seattle University Community                     $918\n",
       "Seattle Uptown                                   $722\n",
       "Silverdale                                       $922\n",
       "Tacoma Downtown                                  $936\n",
       "Tacoma Mall                                    $1,174\n",
       "Tukwila                                        $1,283\n",
       "University Place                               $1,521"
      ]
     },
     "execution_count": 8,
     "metadata": {},
     "output_type": "execute_result"
    }
   ],
   "source": [
    "_df = pd.DataFrame(df.groupby('hh_rgc').sum()['travcost_wt']/df_hh.groupby('hh_rgc').sum()['hhexpfac'])*annual_factor\n",
    "_df.columns = ['Average Annual Costs']\n",
    "_df"
   ]
  },
  {
   "cell_type": "markdown",
   "id": "0bd99560",
   "metadata": {},
   "source": [
    "## Regional Geography"
   ]
  },
  {
   "cell_type": "code",
   "execution_count": 9,
   "id": "ddc6600e",
   "metadata": {
    "execution": {
     "iopub.execute_input": "2025-05-06T19:53:04.483985Z",
     "iopub.status.busy": "2025-05-06T19:53:04.482988Z",
     "iopub.status.idle": "2025-05-06T19:53:04.551876Z",
     "shell.execute_reply": "2025-05-06T19:53:04.550873Z"
    }
   },
   "outputs": [
    {
     "data": {
      "text/html": [
       "<div>\n",
       "<style scoped>\n",
       "    .dataframe tbody tr th:only-of-type {\n",
       "        vertical-align: middle;\n",
       "    }\n",
       "\n",
       "    .dataframe tbody tr th {\n",
       "        vertical-align: top;\n",
       "    }\n",
       "\n",
       "    .dataframe thead th {\n",
       "        text-align: right;\n",
       "    }\n",
       "</style>\n",
       "<table border=\"1\" class=\"dataframe\">\n",
       "  <thead>\n",
       "    <tr style=\"text-align: right;\">\n",
       "      <th></th>\n",
       "      <th>Average Annual Costs</th>\n",
       "    </tr>\n",
       "    <tr>\n",
       "      <th>hh_rg_proposed</th>\n",
       "      <th></th>\n",
       "    </tr>\n",
       "  </thead>\n",
       "  <tbody>\n",
       "    <tr>\n",
       "      <th>CitiesTowns</th>\n",
       "      <td>$3,194</td>\n",
       "    </tr>\n",
       "    <tr>\n",
       "      <th>Core</th>\n",
       "      <td>$2,381</td>\n",
       "    </tr>\n",
       "    <tr>\n",
       "      <th>HCT</th>\n",
       "      <td>$2,581</td>\n",
       "    </tr>\n",
       "    <tr>\n",
       "      <th>Metro</th>\n",
       "      <td>$1,592</td>\n",
       "    </tr>\n",
       "    <tr>\n",
       "      <th>UU</th>\n",
       "      <td>$3,005</td>\n",
       "    </tr>\n",
       "  </tbody>\n",
       "</table>\n",
       "</div>"
      ],
      "text/plain": [
       "                Average Annual Costs\n",
       "hh_rg_proposed                      \n",
       "CitiesTowns                   $3,194\n",
       "Core                          $2,381\n",
       "HCT                           $2,581\n",
       "Metro                         $1,592\n",
       "UU                            $3,005"
      ]
     },
     "execution_count": 9,
     "metadata": {},
     "output_type": "execute_result"
    }
   ],
   "source": [
    "_df = pd.DataFrame(df.groupby('hh_rg_proposed').sum()['travcost_wt']/df_hh.groupby('hh_rg_proposed').sum()['hhexpfac'])*annual_factor\n",
    "_df.columns = ['Average Annual Costs']\n",
    "_df"
   ]
  },
  {
   "cell_type": "markdown",
   "id": "a2027e5d",
   "metadata": {},
   "source": [
    "## Equity Geography"
   ]
  },
  {
   "cell_type": "code",
   "execution_count": 10,
   "id": "cb043e84",
   "metadata": {
    "execution": {
     "iopub.execute_input": "2025-05-06T19:53:04.557860Z",
     "iopub.status.busy": "2025-05-06T19:53:04.556863Z",
     "iopub.status.idle": "2025-05-06T19:53:04.623201Z",
     "shell.execute_reply": "2025-05-06T19:53:04.622198Z"
    }
   },
   "outputs": [
    {
     "data": {
      "text/html": [
       "<div>\n",
       "<style scoped>\n",
       "    .dataframe tbody tr th:only-of-type {\n",
       "        vertical-align: middle;\n",
       "    }\n",
       "\n",
       "    .dataframe tbody tr th {\n",
       "        vertical-align: top;\n",
       "    }\n",
       "\n",
       "    .dataframe thead th {\n",
       "        text-align: right;\n",
       "    }\n",
       "</style>\n",
       "<table border=\"1\" class=\"dataframe\">\n",
       "  <thead>\n",
       "    <tr style=\"text-align: right;\">\n",
       "      <th></th>\n",
       "      <th>Inside Equity Geog</th>\n",
       "      <th>Outside Equity Geog</th>\n",
       "    </tr>\n",
       "  </thead>\n",
       "  <tbody>\n",
       "    <tr>\n",
       "      <th>hh_youth_reg</th>\n",
       "      <td>$2,878</td>\n",
       "      <td>$2,087</td>\n",
       "    </tr>\n",
       "    <tr>\n",
       "      <th>hh_elderly_reg</th>\n",
       "      <td>$2,590</td>\n",
       "      <td>$2,310</td>\n",
       "    </tr>\n",
       "    <tr>\n",
       "      <th>hh_elderly_50</th>\n",
       "      <td>$2,918</td>\n",
       "      <td>$2,443</td>\n",
       "    </tr>\n",
       "    <tr>\n",
       "      <th>hh_english_reg</th>\n",
       "      <td>$2,353</td>\n",
       "      <td>$2,497</td>\n",
       "    </tr>\n",
       "    <tr>\n",
       "      <th>hh_racial_reg</th>\n",
       "      <td>$2,199</td>\n",
       "      <td>$2,649</td>\n",
       "    </tr>\n",
       "    <tr>\n",
       "      <th>hh_racial_50</th>\n",
       "      <td>$2,188</td>\n",
       "      <td>$2,559</td>\n",
       "    </tr>\n",
       "    <tr>\n",
       "      <th>hh_poverty_reg</th>\n",
       "      <td>$2,149</td>\n",
       "      <td>$2,640</td>\n",
       "    </tr>\n",
       "    <tr>\n",
       "      <th>hh_poverty_50</th>\n",
       "      <td>$1,587</td>\n",
       "      <td>$2,462</td>\n",
       "    </tr>\n",
       "    <tr>\n",
       "      <th>hh_disability_reg</th>\n",
       "      <td>$2,340</td>\n",
       "      <td>$2,530</td>\n",
       "    </tr>\n",
       "  </tbody>\n",
       "</table>\n",
       "</div>"
      ],
      "text/plain": [
       "                   Inside Equity Geog  Outside Equity Geog\n",
       "hh_youth_reg                   $2,878               $2,087\n",
       "hh_elderly_reg                 $2,590               $2,310\n",
       "hh_elderly_50                  $2,918               $2,443\n",
       "hh_english_reg                 $2,353               $2,497\n",
       "hh_racial_reg                  $2,199               $2,649\n",
       "hh_racial_50                   $2,188               $2,559\n",
       "hh_poverty_reg                 $2,149               $2,640\n",
       "hh_poverty_50                  $1,587               $2,462\n",
       "hh_disability_reg              $2,340               $2,530"
      ]
     },
     "execution_count": 10,
     "metadata": {},
     "output_type": "execute_result"
    }
   ],
   "source": [
    "results_df = pd.DataFrame()\n",
    "trip_rate_df = pd.DataFrame()\n",
    "list_50 = ['hh_racial','hh_poverty']\n",
    "\n",
    "# Calculate total work trips per each group\n",
    "work_results_df = pd.DataFrame()\n",
    "equity_geogs = ['hh_youth','hh_elderly','hh_english','hh_racial','hh_poverty','hh_disability']\n",
    "for equity_geog in equity_geogs:\n",
    "    for geog_type in ['_reg','_50']:\n",
    "        if df_hh[df_hh[equity_geog+geog_type] == 1]['hhexpfac'].sum() > 0:\n",
    "            _df = (df[df[equity_geog+geog_type] == 1]['travcost_wt'].sum()/df_hh[df_hh[equity_geog+geog_type] == 1]['hhexpfac'].sum())*annual_factor\n",
    "            results_df.loc[equity_geog+geog_type,'costs'] = _df\n",
    "        \n",
    "inv_results_df = pd.DataFrame()\n",
    "trip_rate_df = pd.DataFrame()\n",
    "list_50 = ['hh_racial','hh_poverty']\n",
    "\n",
    "# Calculate total work trips per each group\n",
    "work_results_df = pd.DataFrame()\n",
    "equity_geogs = ['hh_youth','hh_elderly','hh_english','hh_racial','hh_poverty','hh_disability']\n",
    "for equity_geog in equity_geogs:\n",
    "    for geog_type in ['_reg','_50']:\n",
    "        if df_hh[df_hh[equity_geog+geog_type] == 1]['hhexpfac'].sum() > 0:\n",
    "            _df = (df[df[equity_geog+geog_type] == 0]['travcost_wt'].sum()/df_hh[df_hh[equity_geog+geog_type] == 0]['hhexpfac'].sum())*annual_factor\n",
    "            inv_results_df.loc[equity_geog+geog_type,'costs'] = _df\n",
    "        \n",
    "# inv_results_df.index = ['NOT in '+i for i in results_df.index] \n",
    "_df = results_df.merge(inv_results_df, left_index=True, right_index=True)\n",
    "_df.columns = ['Inside Equity Geog','Outside Equity Geog']\n",
    "_df[~_df.isnull()]"
   ]
  },
  {
   "cell_type": "code",
   "execution_count": 11,
   "id": "ea1f2da6",
   "metadata": {
    "execution": {
     "iopub.execute_input": "2025-05-06T19:53:04.628806Z",
     "iopub.status.busy": "2025-05-06T19:53:04.627809Z",
     "iopub.status.idle": "2025-05-06T19:53:04.637981Z",
     "shell.execute_reply": "2025-05-06T19:53:04.636976Z"
    }
   },
   "outputs": [
    {
     "data": {
      "text/plain": [
       "np.False_"
      ]
     },
     "execution_count": 11,
     "metadata": {},
     "output_type": "execute_result"
    }
   ],
   "source": [
    "df_hh[df_hh[equity_geog+geog_type] == 1]['hhexpfac'].sum() > 0"
   ]
  }
 ],
 "metadata": {
  "kernelspec": {
   "display_name": "summary",
   "language": "python",
   "name": "python3"
  },
  "language_info": {
   "codemirror_mode": {
    "name": "ipython",
    "version": 3
   },
   "file_extension": ".py",
   "mimetype": "text/x-python",
   "name": "python",
   "nbconvert_exporter": "python",
   "pygments_lexer": "ipython3",
   "version": "3.11.0"
  }
 },
 "nbformat": 4,
 "nbformat_minor": 5
}
