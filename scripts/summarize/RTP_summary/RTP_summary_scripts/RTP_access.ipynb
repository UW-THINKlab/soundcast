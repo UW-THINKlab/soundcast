{
 "cells": [
  {
   "cell_type": "raw",
   "id": "1db2c3b8",
   "metadata": {
    "vscode": {
     "languageId": "raw"
    }
   },
   "source": [
    "---\n",
    "title: \"Access\"\n",
    "date: today\n",
    "---"
   ]
  },
  {
   "cell_type": "code",
   "execution_count": 1,
   "id": "7612ec0f",
   "metadata": {
    "execution": {
     "iopub.execute_input": "2025-05-06T19:51:55.373681Z",
     "iopub.status.busy": "2025-05-06T19:51:55.372660Z",
     "iopub.status.idle": "2025-05-06T19:51:57.585865Z",
     "shell.execute_reply": "2025-05-06T19:51:57.585865Z"
    }
   },
   "outputs": [],
   "source": [
    "import os, sys, time, glob\n",
    "import warnings\n",
    "import re\n",
    "warnings.simplefilter(action='ignore', category=FutureWarning)\n",
    "import pandas as pd\n",
    "import pandana as pdna\n",
    "pd.options.mode.chained_assignment = None\n",
    "import h5py\n",
    "import toml\n",
    "config = toml.load(os.path.join(os.getcwd(),'../../../../configuration/input_configuration.toml'))\n",
    "summary_config = toml.load(os.path.join(os.getcwd(),'../../../../configuration/summary_configuration.toml'))\n",
    "\n",
    "%matplotlib inline\n",
    "\n",
    "from IPython.display import display, HTML\n",
    "\n",
    "if (sys.version_info < (3, 0)):\n",
    "    HTML('''<script>\n",
    "    code_show=true; \n",
    "    function code_toggle() {\n",
    "     if (code_show){\n",
    "     $('div.input').hide();\n",
    "     } else {\n",
    "     $('div.input').show();\n",
    "     }\n",
    "     code_show = !code_show\n",
    "    } \n",
    "    $( document ).ready(code_toggle);\n",
    "    </script>\n",
    "    <form action=\"javascript:code_toggle()\"><input type=\"submit\" value=\"Click here to toggle on/off the raw code.\"></form>''')\n"
   ]
  },
  {
   "cell_type": "code",
   "execution_count": 2,
   "id": "11cb8591",
   "metadata": {
    "execution": {
     "iopub.execute_input": "2025-05-06T19:51:57.588862Z",
     "iopub.status.busy": "2025-05-06T19:51:57.588862Z",
     "iopub.status.idle": "2025-05-06T19:51:57.593313Z",
     "shell.execute_reply": "2025-05-06T19:51:57.593313Z"
    }
   },
   "outputs": [],
   "source": [
    "CSS = \"\"\"\n",
    ".output {\n",
    "    flex-direction: row;\n",
    "}\n",
    "\"\"\"\n",
    "\n",
    "HTML('<style>{}</style>'.format(CSS))\n",
    "\n",
    "# Relative path between notebooks and goruped output directories\n",
    "output_path = os.path.join(summary_config['sc_run_path'], summary_config[\"output_folder\"])\n",
    "survey_path = os.path.join(summary_config['sc_run_path'], summary_config[\"survey_folder\"])\n",
    "output_dir = os.path.join(output_path,'RTP\\person')\n",
    "\n",
    "# Write out CSVs with a numeric value prefix to help organize outputs \n",
    "incr = 1"
   ]
  },
  {
   "cell_type": "code",
   "execution_count": 3,
   "id": "538e1347",
   "metadata": {
    "execution": {
     "iopub.execute_input": "2025-05-06T19:51:57.596310Z",
     "iopub.status.busy": "2025-05-06T19:51:57.596310Z",
     "iopub.status.idle": "2025-05-06T19:51:57.599627Z",
     "shell.execute_reply": "2025-05-06T19:51:57.599146Z"
    }
   },
   "outputs": [],
   "source": [
    "pd.options.display.float_format = '{:0,.0f}'.format"
   ]
  },
  {
   "cell_type": "code",
   "execution_count": 4,
   "id": "df57c54e",
   "metadata": {
    "execution": {
     "iopub.execute_input": "2025-05-06T19:51:57.601627Z",
     "iopub.status.busy": "2025-05-06T19:51:57.601627Z",
     "iopub.status.idle": "2025-05-06T19:51:57.607537Z",
     "shell.execute_reply": "2025-05-06T19:51:57.607537Z"
    }
   },
   "outputs": [],
   "source": [
    "def load_network_summary(filepath):\n",
    "    \"\"\"Load network-level results using a standard procedure. \"\"\"\n",
    "    df = pd.read_csv(filepath)\n",
    "\n",
    "    # Congested network components by time of day\n",
    "    df.columns\n",
    "\n",
    "    # Get freeflow from 20to5 period\n",
    "\n",
    "    # Exclude trips taken on non-designated facilities (facility_type == 0)\n",
    "    # These are artificial (weave lanes to connect HOV) or for non-auto uses \n",
    "    df = df[df['data3'] != 0]    # data3 represents facility_type\n",
    "\n",
    "    # calculate total link VMT and VHT\n",
    "    df['VMT'] = df['@tveh']*df['length']\n",
    "    df['VHT'] = df['@tveh']*df['auto_time']/60\n",
    "\n",
    "    # Define facility type\n",
    "    df.loc[df['data3'].isin([1,2]), 'facility_type'] = 'highway'\n",
    "    df.loc[df['data3'].isin([3,4,6]), 'facility_type'] = 'arterial'\n",
    "    df.loc[df['data3'].isin([5]), 'facility_type'] = 'connector'\n",
    "\n",
    "    # Calculate delay\n",
    "    # Select links from overnight time of day\n",
    "    delay_df = df.loc[df['tod'] == '20to5'][['ij','auto_time']]\n",
    "    delay_df.rename(columns={'auto_time':'freeflow_time'}, inplace=True)\n",
    "\n",
    "    # Merge delay field back onto network link df\n",
    "    df = pd.merge(df, delay_df, on='ij', how='left')\n",
    "\n",
    "    # Calcualte hourly delay\n",
    "    df['total_delay'] = ((df['auto_time']-df['freeflow_time'])*df['@tveh'])/60    # sum of (volume)*(travtime diff from freeflow)\n",
    "\n",
    "    df['county'] =df['@countyid'].map({33: 'King',\n",
    "                                      35: 'Kitsap',\n",
    "                                      53: 'Pierce',\n",
    "                                      61: 'Snohomish'})\n",
    "    \n",
    "    return df"
   ]
  },
  {
   "cell_type": "code",
   "execution_count": 5,
   "id": "4bda5732",
   "metadata": {
    "execution": {
     "iopub.execute_input": "2025-05-06T19:51:57.610536Z",
     "iopub.status.busy": "2025-05-06T19:51:57.610536Z",
     "iopub.status.idle": "2025-05-06T19:51:57.613190Z",
     "shell.execute_reply": "2025-05-06T19:51:57.613190Z"
    }
   },
   "outputs": [],
   "source": [
    "def weighted_average(weight_col, summary_col):\n",
    "    pass"
   ]
  },
  {
   "cell_type": "markdown",
   "id": "a31ddcae",
   "metadata": {},
   "source": [
    "## Jobs Accessible within 45 Minutes of Transit"
   ]
  },
  {
   "cell_type": "code",
   "execution_count": null,
   "id": "95f8e842",
   "metadata": {},
   "outputs": [],
   "source": []
  },
  {
   "cell_type": "code",
   "execution_count": 6,
   "id": "5af91277",
   "metadata": {
    "execution": {
     "iopub.execute_input": "2025-05-06T19:51:57.616189Z",
     "iopub.status.busy": "2025-05-06T19:51:57.616189Z",
     "iopub.status.idle": "2025-05-06T19:52:03.713051Z",
     "shell.execute_reply": "2025-05-06T19:52:03.712417Z"
    }
   },
   "outputs": [],
   "source": [
    "pd.options.display.float_format = '{:0,.0f}'.format\n",
    "df = pd.read_csv(os.path.join(output_path,'access/transit_jobs_access.csv')); incr+=1\n",
    "df_lu = pd.read_csv(os.path.join(output_path,'landuse/parcels_urbansim.txt'),\n",
    "                   sep='\\s+', usecols=['parcelid','emptot_p'])\n",
    "tot_jobs = df_lu['emptot_p'].sum()"
   ]
  },
  {
   "cell_type": "raw",
   "id": "3e87473c",
   "metadata": {
    "vscode": {
     "languageId": "raw"
    }
   },
   "source": [
    ":::{.panel-tabset}\n",
    "\n",
    "### Region and County"
   ]
  },
  {
   "cell_type": "markdown",
   "id": "a9c78b4d",
   "metadata": {},
   "source": [
    "- Region"
   ]
  },
  {
   "cell_type": "code",
   "execution_count": 7,
   "id": "171a3f4b",
   "metadata": {
    "execution": {
     "iopub.execute_input": "2025-05-06T19:52:03.719040Z",
     "iopub.status.busy": "2025-05-06T19:52:03.719040Z",
     "iopub.status.idle": "2025-05-06T19:52:03.745713Z",
     "shell.execute_reply": "2025-05-06T19:52:03.744711Z"
    }
   },
   "outputs": [
    {
     "data": {
      "text/html": [
       "<table border=\"1\" class=\"dataframe\">\n",
       "  <thead>\n",
       "    <tr style=\"text-align: right;\">\n",
       "      <th>Jobs within 45-minute Transit Commute</th>\n",
       "      <th>% Total Jobs</th>\n",
       "    </tr>\n",
       "  </thead>\n",
       "  <tbody>\n",
       "    <tr>\n",
       "      <td>136,789</td>\n",
       "      <td>6.2%</td>\n",
       "    </tr>\n",
       "  </tbody>\n",
       "</table>"
      ],
      "text/plain": [
       "<IPython.core.display.HTML object>"
      ]
     },
     "metadata": {},
     "output_type": "display_data"
    }
   ],
   "source": [
    "_df = df[df['geography_group'] == 'region']\n",
    "_df.index = _df.geography\n",
    "_df = _df[['value']]\n",
    "_df.rename(columns={'value': 'Jobs within 45-minute Transit Commute'}, inplace=True)\n",
    "_df.to_csv(os.path.join(output_dir,str(incr)+'_transit_jobs_45min_region.csv')); incr+=1\n",
    "_df['% Total Jobs'] = _df['Jobs within 45-minute Transit Commute']/tot_jobs\n",
    "output = _df.to_html(formatters={\n",
    "    '% Total Jobs': '{:0,.1%}'.format\n",
    "}, index=False)\n",
    "display(HTML(output))"
   ]
  },
  {
   "cell_type": "markdown",
   "id": "7721422e",
   "metadata": {},
   "source": [
    "- County"
   ]
  },
  {
   "cell_type": "code",
   "execution_count": 8,
   "id": "99d32fb3",
   "metadata": {
    "execution": {
     "iopub.execute_input": "2025-05-06T19:52:03.749703Z",
     "iopub.status.busy": "2025-05-06T19:52:03.749703Z",
     "iopub.status.idle": "2025-05-06T19:52:03.765093Z",
     "shell.execute_reply": "2025-05-06T19:52:03.764040Z"
    }
   },
   "outputs": [
    {
     "data": {
      "text/html": [
       "<table border=\"1\" class=\"dataframe\">\n",
       "  <thead>\n",
       "    <tr style=\"text-align: right;\">\n",
       "      <th></th>\n",
       "      <th>Jobs within 45-minute Transit Commute</th>\n",
       "      <th>% Total Jobs</th>\n",
       "    </tr>\n",
       "    <tr>\n",
       "      <th>geography</th>\n",
       "      <th></th>\n",
       "      <th></th>\n",
       "    </tr>\n",
       "  </thead>\n",
       "  <tbody>\n",
       "    <tr>\n",
       "      <th>King</th>\n",
       "      <td>231,260</td>\n",
       "      <td>10.6%</td>\n",
       "    </tr>\n",
       "    <tr>\n",
       "      <th>Kitsap</th>\n",
       "      <td>6,350</td>\n",
       "      <td>0.3%</td>\n",
       "    </tr>\n",
       "    <tr>\n",
       "      <th>Outside Region</th>\n",
       "      <td>0</td>\n",
       "      <td>0.0%</td>\n",
       "    </tr>\n",
       "    <tr>\n",
       "      <th>Pierce</th>\n",
       "      <td>19,378</td>\n",
       "      <td>0.9%</td>\n",
       "    </tr>\n",
       "    <tr>\n",
       "      <th>Snohomish</th>\n",
       "      <td>26,860</td>\n",
       "      <td>1.2%</td>\n",
       "    </tr>\n",
       "  </tbody>\n",
       "</table>"
      ],
      "text/plain": [
       "<IPython.core.display.HTML object>"
      ]
     },
     "metadata": {},
     "output_type": "display_data"
    }
   ],
   "source": [
    "_df = df[df['geography_group'] == 'CountyName']\n",
    "_df.index = _df.geography\n",
    "_df = _df[['value']]\n",
    "_df.rename(columns={'value': 'Jobs within 45-minute Transit Commute'}, inplace=True)\n",
    "_df.to_csv(os.path.join(output_dir,str(incr)+'_transit_jobs_45min_county.csv')); incr+=1\n",
    "_df['% Total Jobs'] = _df['Jobs within 45-minute Transit Commute']/tot_jobs\n",
    "output = _df.to_html(formatters={\n",
    "    '% Total Jobs': '{:0,.1%}'.format\n",
    "})\n",
    "display(HTML(output))"
   ]
  },
  {
   "cell_type": "raw",
   "id": "dde58323",
   "metadata": {},
   "source": [
    "### Regional Growth Center"
   ]
  },
  {
   "cell_type": "code",
   "execution_count": 9,
   "id": "233c1561",
   "metadata": {
    "execution": {
     "iopub.execute_input": "2025-05-06T19:52:03.767739Z",
     "iopub.status.busy": "2025-05-06T19:52:03.767207Z",
     "iopub.status.idle": "2025-05-06T19:52:03.779974Z",
     "shell.execute_reply": "2025-05-06T19:52:03.778972Z"
    }
   },
   "outputs": [
    {
     "data": {
      "text/html": [
       "<table border=\"1\" class=\"dataframe\">\n",
       "  <thead>\n",
       "    <tr style=\"text-align: right;\">\n",
       "      <th></th>\n",
       "      <th>Jobs within 45-minute Transit Commute</th>\n",
       "      <th>% Total Jobs</th>\n",
       "    </tr>\n",
       "    <tr>\n",
       "      <th>geography</th>\n",
       "      <th></th>\n",
       "      <th></th>\n",
       "    </tr>\n",
       "  </thead>\n",
       "  <tbody>\n",
       "    <tr>\n",
       "      <th>Not in RGC</th>\n",
       "      <td>101,330</td>\n",
       "      <td>4.6%</td>\n",
       "    </tr>\n",
       "    <tr>\n",
       "      <th>All RGCs</th>\n",
       "      <td>470,742</td>\n",
       "      <td>21.5%</td>\n",
       "    </tr>\n",
       "  </tbody>\n",
       "</table>"
      ],
      "text/plain": [
       "<IPython.core.display.HTML object>"
      ]
     },
     "metadata": {},
     "output_type": "display_data"
    }
   ],
   "source": [
    "_df = df[df['geography_group'] == 'rgc_binary']\n",
    "_df.index = _df.geography.map({'0': 'Not in RGC', '1': 'All RGCs'})\n",
    "_df = _df[['value']]\n",
    "_df.rename(columns={'value': 'Jobs within 45-minute Transit Commute'}, inplace=True)\n",
    "_df.to_csv(os.path.join(output_dir,str(incr)+'_transit_jobs_45min_rgc.csv')); incr+=1\n",
    "_df['% Total Jobs'] = _df['Jobs within 45-minute Transit Commute']/tot_jobs\n",
    "output = _df.to_html(formatters={\n",
    "    '% Total Jobs': '{:0,.1%}'.format\n",
    "})\n",
    "display(HTML(output))"
   ]
  },
  {
   "cell_type": "code",
   "execution_count": 10,
   "id": "1dd9d5c1",
   "metadata": {
    "execution": {
     "iopub.execute_input": "2025-05-06T19:52:03.782783Z",
     "iopub.status.busy": "2025-05-06T19:52:03.781777Z",
     "iopub.status.idle": "2025-05-06T19:52:03.796142Z",
     "shell.execute_reply": "2025-05-06T19:52:03.795140Z"
    }
   },
   "outputs": [
    {
     "data": {
      "text/html": [
       "<table border=\"1\" class=\"dataframe\">\n",
       "  <thead>\n",
       "    <tr style=\"text-align: right;\">\n",
       "      <th></th>\n",
       "      <th>Jobs within 45-minute Transit Commute</th>\n",
       "      <th>% Total Jobs</th>\n",
       "    </tr>\n",
       "    <tr>\n",
       "      <th>geography</th>\n",
       "      <th></th>\n",
       "      <th></th>\n",
       "    </tr>\n",
       "  </thead>\n",
       "  <tbody>\n",
       "    <tr>\n",
       "      <th>Auburn</th>\n",
       "      <td>66,443</td>\n",
       "      <td>3.0%</td>\n",
       "    </tr>\n",
       "    <tr>\n",
       "      <th>Bellevue</th>\n",
       "      <td>460,091</td>\n",
       "      <td>21.0%</td>\n",
       "    </tr>\n",
       "    <tr>\n",
       "      <th>Bothell Canyon Park</th>\n",
       "      <td>38,990</td>\n",
       "      <td>1.8%</td>\n",
       "    </tr>\n",
       "    <tr>\n",
       "      <th>Bremerton</th>\n",
       "      <td>34,597</td>\n",
       "      <td>1.6%</td>\n",
       "    </tr>\n",
       "    <tr>\n",
       "      <th>Burien</th>\n",
       "      <td>121,489</td>\n",
       "      <td>5.5%</td>\n",
       "    </tr>\n",
       "    <tr>\n",
       "      <th>Everett</th>\n",
       "      <td>57,712</td>\n",
       "      <td>2.6%</td>\n",
       "    </tr>\n",
       "    <tr>\n",
       "      <th>Federal Way</th>\n",
       "      <td>86,817</td>\n",
       "      <td>4.0%</td>\n",
       "    </tr>\n",
       "    <tr>\n",
       "      <th>Greater Downtown Kirkland</th>\n",
       "      <td>245,173</td>\n",
       "      <td>11.2%</td>\n",
       "    </tr>\n",
       "    <tr>\n",
       "      <th>Issaquah</th>\n",
       "      <td>0</td>\n",
       "      <td>0.0%</td>\n",
       "    </tr>\n",
       "    <tr>\n",
       "      <th>Kent</th>\n",
       "      <td>146,424</td>\n",
       "      <td>6.7%</td>\n",
       "    </tr>\n",
       "    <tr>\n",
       "      <th>Kirkland Totem Lake</th>\n",
       "      <td>116,148</td>\n",
       "      <td>5.3%</td>\n",
       "    </tr>\n",
       "    <tr>\n",
       "      <th>Lakewood</th>\n",
       "      <td>36,052</td>\n",
       "      <td>1.6%</td>\n",
       "    </tr>\n",
       "    <tr>\n",
       "      <th>Lynnwood</th>\n",
       "      <td>61,993</td>\n",
       "      <td>2.8%</td>\n",
       "    </tr>\n",
       "    <tr>\n",
       "      <th>Not in RGC</th>\n",
       "      <td>101,330</td>\n",
       "      <td>4.6%</td>\n",
       "    </tr>\n",
       "    <tr>\n",
       "      <th>Puyallup Downtown</th>\n",
       "      <td>28,630</td>\n",
       "      <td>1.3%</td>\n",
       "    </tr>\n",
       "    <tr>\n",
       "      <th>Puyallup South Hill</th>\n",
       "      <td>13,886</td>\n",
       "      <td>0.6%</td>\n",
       "    </tr>\n",
       "    <tr>\n",
       "      <th>Redmond Downtown</th>\n",
       "      <td>188,870</td>\n",
       "      <td>8.6%</td>\n",
       "    </tr>\n",
       "    <tr>\n",
       "      <th>Redmond-Overlake</th>\n",
       "      <td>289,137</td>\n",
       "      <td>13.2%</td>\n",
       "    </tr>\n",
       "    <tr>\n",
       "      <th>Renton</th>\n",
       "      <td>146,232</td>\n",
       "      <td>6.7%</td>\n",
       "    </tr>\n",
       "    <tr>\n",
       "      <th>SeaTac</th>\n",
       "      <td>127,090</td>\n",
       "      <td>5.8%</td>\n",
       "    </tr>\n",
       "    <tr>\n",
       "      <th>Seattle Downtown</th>\n",
       "      <td>731,866</td>\n",
       "      <td>33.4%</td>\n",
       "    </tr>\n",
       "    <tr>\n",
       "      <th>Seattle First Hill/Capitol Hill</th>\n",
       "      <td>660,061</td>\n",
       "      <td>30.1%</td>\n",
       "    </tr>\n",
       "    <tr>\n",
       "      <th>Seattle Northgate</th>\n",
       "      <td>509,510</td>\n",
       "      <td>23.3%</td>\n",
       "    </tr>\n",
       "    <tr>\n",
       "      <th>Seattle South Lake Union</th>\n",
       "      <td>619,767</td>\n",
       "      <td>28.3%</td>\n",
       "    </tr>\n",
       "    <tr>\n",
       "      <th>Seattle University Community</th>\n",
       "      <td>655,347</td>\n",
       "      <td>29.9%</td>\n",
       "    </tr>\n",
       "    <tr>\n",
       "      <th>Seattle Uptown</th>\n",
       "      <td>596,875</td>\n",
       "      <td>27.2%</td>\n",
       "    </tr>\n",
       "    <tr>\n",
       "      <th>Silverdale</th>\n",
       "      <td>8,985</td>\n",
       "      <td>0.4%</td>\n",
       "    </tr>\n",
       "    <tr>\n",
       "      <th>Tacoma Downtown</th>\n",
       "      <td>98,525</td>\n",
       "      <td>4.5%</td>\n",
       "    </tr>\n",
       "    <tr>\n",
       "      <th>Tacoma Mall</th>\n",
       "      <td>88,606</td>\n",
       "      <td>4.0%</td>\n",
       "    </tr>\n",
       "    <tr>\n",
       "      <th>Tukwila</th>\n",
       "      <td>229,382</td>\n",
       "      <td>10.5%</td>\n",
       "    </tr>\n",
       "    <tr>\n",
       "      <th>University Place</th>\n",
       "      <td>55,333</td>\n",
       "      <td>2.5%</td>\n",
       "    </tr>\n",
       "  </tbody>\n",
       "</table>"
      ],
      "text/plain": [
       "<IPython.core.display.HTML object>"
      ]
     },
     "metadata": {},
     "output_type": "display_data"
    }
   ],
   "source": [
    "_df = df[df['geography_group'] == 'GrowthCenterName']\n",
    "_df.index = _df.geography\n",
    "_df = _df[['value']]\n",
    "_df.rename(columns={'value': 'Jobs within 45-minute Transit Commute'}, inplace=True)\n",
    "_df.to_csv(os.path.join(output_dir,str(incr)+'_transit_jobs_45min_rgc.csv')); incr+=1\n",
    "_df['% Total Jobs'] = _df['Jobs within 45-minute Transit Commute']/tot_jobs\n",
    "output = _df.to_html(formatters={\n",
    "    '% Total Jobs': '{:0,.1%}'.format\n",
    "})\n",
    "display(HTML(output))"
   ]
  },
  {
   "cell_type": "raw",
   "id": "ae36b104",
   "metadata": {},
   "source": [
    "### Regional Geography"
   ]
  },
  {
   "cell_type": "code",
   "execution_count": 11,
   "id": "f03adb38",
   "metadata": {
    "execution": {
     "iopub.execute_input": "2025-05-06T19:52:03.799134Z",
     "iopub.status.busy": "2025-05-06T19:52:03.798136Z",
     "iopub.status.idle": "2025-05-06T19:52:03.810892Z",
     "shell.execute_reply": "2025-05-06T19:52:03.809890Z"
    }
   },
   "outputs": [
    {
     "data": {
      "text/html": [
       "<table border=\"1\" class=\"dataframe\">\n",
       "  <thead>\n",
       "    <tr style=\"text-align: right;\">\n",
       "      <th></th>\n",
       "      <th>Jobs within 45-minute Transit Commute</th>\n",
       "      <th>% Total Jobs</th>\n",
       "    </tr>\n",
       "    <tr>\n",
       "      <th>geography</th>\n",
       "      <th></th>\n",
       "      <th></th>\n",
       "    </tr>\n",
       "  </thead>\n",
       "  <tbody>\n",
       "    <tr>\n",
       "      <th>CitiesTowns</th>\n",
       "      <td>10,445</td>\n",
       "      <td>0.5%</td>\n",
       "    </tr>\n",
       "    <tr>\n",
       "      <th>Core</th>\n",
       "      <td>58,411</td>\n",
       "      <td>2.7%</td>\n",
       "    </tr>\n",
       "    <tr>\n",
       "      <th>HCT</th>\n",
       "      <td>37,241</td>\n",
       "      <td>1.7%</td>\n",
       "    </tr>\n",
       "    <tr>\n",
       "      <th>Metro</th>\n",
       "      <td>337,548</td>\n",
       "      <td>15.4%</td>\n",
       "    </tr>\n",
       "    <tr>\n",
       "      <th>UU</th>\n",
       "      <td>10,125</td>\n",
       "      <td>0.5%</td>\n",
       "    </tr>\n",
       "  </tbody>\n",
       "</table>"
      ],
      "text/plain": [
       "<IPython.core.display.HTML object>"
      ]
     },
     "metadata": {},
     "output_type": "display_data"
    }
   ],
   "source": [
    "_df = df[df['geography_group'] == 'rg_proposed']\n",
    "_df.index = _df.geography\n",
    "_df = _df[['value']]\n",
    "_df.rename(columns={'value': 'Jobs within 45-minute Transit Commute'}, inplace=True)\n",
    "_df.to_csv(os.path.join(output_dir,str(incr)+'_transit_jobs_45min_reg_geog.csv')); incr+=1\n",
    "_df['% Total Jobs'] = _df['Jobs within 45-minute Transit Commute']/tot_jobs\n",
    "output = _df.to_html(formatters={\n",
    "    '% Total Jobs': '{:0,.1%}'.format\n",
    "})\n",
    "display(HTML(output))"
   ]
  },
  {
   "cell_type": "raw",
   "id": "d21555a6",
   "metadata": {},
   "source": [
    "### Equity Geographies"
   ]
  },
  {
   "cell_type": "code",
   "execution_count": 12,
   "id": "55df3d9a",
   "metadata": {
    "execution": {
     "iopub.execute_input": "2025-05-06T19:52:03.812887Z",
     "iopub.status.busy": "2025-05-06T19:52:03.812887Z",
     "iopub.status.idle": "2025-05-06T19:52:03.816601Z",
     "shell.execute_reply": "2025-05-06T19:52:03.816601Z"
    }
   },
   "outputs": [],
   "source": [
    "geo_list = []\n",
    "equity_geogs = ['youth','elderly','english','racial','poverty','disability']\n",
    "for equity_geog in equity_geogs:\n",
    "    for geog_type in ['_geog_vs_reg_total','_geog_vs_50_percent']:\n",
    "        if geog_type == '_geog_vs_reg_total' or equity_geog in ['poverty','racial']:\n",
    "            geo_list.append(equity_geog+geog_type)"
   ]
  },
  {
   "cell_type": "code",
   "execution_count": 13,
   "id": "6fd857cf",
   "metadata": {
    "execution": {
     "iopub.execute_input": "2025-05-06T19:52:03.819598Z",
     "iopub.status.busy": "2025-05-06T19:52:03.819598Z",
     "iopub.status.idle": "2025-05-06T19:52:03.842453Z",
     "shell.execute_reply": "2025-05-06T19:52:03.842453Z"
    }
   },
   "outputs": [
    {
     "data": {
      "text/html": [
       "<table border=\"1\" class=\"dataframe\">\n",
       "  <thead>\n",
       "    <tr style=\"text-align: right;\">\n",
       "      <th>Equity Group</th>\n",
       "      <th>Jobs within 45-minute Transit Commute</th>\n",
       "      <th>% Total Jobs</th>\n",
       "    </tr>\n",
       "  </thead>\n",
       "  <tbody>\n",
       "    <tr>\n",
       "      <td>youth_geog_vs_reg_total</td>\n",
       "      <td>46,731</td>\n",
       "      <td>2.1%</td>\n",
       "    </tr>\n",
       "    <tr>\n",
       "      <td>elderly_geog_vs_reg_total</td>\n",
       "      <td>97,174</td>\n",
       "      <td>4.4%</td>\n",
       "    </tr>\n",
       "    <tr>\n",
       "      <td>english_geog_vs_reg_total</td>\n",
       "      <td>123,357</td>\n",
       "      <td>5.6%</td>\n",
       "    </tr>\n",
       "    <tr>\n",
       "      <td>racial_geog_vs_reg_total</td>\n",
       "      <td>156,230</td>\n",
       "      <td>7.1%</td>\n",
       "    </tr>\n",
       "    <tr>\n",
       "      <td>racial_geog_vs_50_percent</td>\n",
       "      <td>166,342</td>\n",
       "      <td>7.6%</td>\n",
       "    </tr>\n",
       "    <tr>\n",
       "      <td>poverty_geog_vs_reg_total</td>\n",
       "      <td>135,051</td>\n",
       "      <td>6.2%</td>\n",
       "    </tr>\n",
       "    <tr>\n",
       "      <td>poverty_geog_vs_50_percent</td>\n",
       "      <td>309,614</td>\n",
       "      <td>14.1%</td>\n",
       "    </tr>\n",
       "    <tr>\n",
       "      <td>disability_geog_vs_reg_total</td>\n",
       "      <td>112,059</td>\n",
       "      <td>5.1%</td>\n",
       "    </tr>\n",
       "  </tbody>\n",
       "</table>"
      ],
      "text/plain": [
       "<IPython.core.display.HTML object>"
      ]
     },
     "metadata": {},
     "output_type": "display_data"
    }
   ],
   "source": [
    "result_df = pd.DataFrame()\n",
    "for col in geo_list:\n",
    "    _df = df[(df['geography_group'] == col) & (df['geography'] == '1')]\n",
    "    result_df = pd.concat([result_df, _df[['geography_group', 'value']]])\n",
    "    #result_df = result_df.append(_df[['geography_group', 'value']])\n",
    "result_df.to_csv(os.path.join(output_dir,str(incr)+'_transit_jobs_45min_equity.csv')); incr+=1\n",
    "result_df.rename(columns={'geography_group': 'Equity Group', 'value': 'Jobs within 45-minute Transit Commute'}, inplace=True)\n",
    "# result_df = result_df['']\n",
    "result_df['% Total Jobs'] = result_df['Jobs within 45-minute Transit Commute']/tot_jobs\n",
    "output = result_df.to_html(formatters={\n",
    "    '% Total Jobs': '{:0,.1%}'.format\n",
    "}, index=False)\n",
    "display(HTML(output))"
   ]
  },
  {
   "cell_type": "code",
   "execution_count": 14,
   "id": "4f3f812a",
   "metadata": {
    "execution": {
     "iopub.execute_input": "2025-05-06T19:52:03.845451Z",
     "iopub.status.busy": "2025-05-06T19:52:03.845451Z",
     "iopub.status.idle": "2025-05-06T19:52:03.856329Z",
     "shell.execute_reply": "2025-05-06T19:52:03.855326Z"
    }
   },
   "outputs": [
    {
     "data": {
      "text/html": [
       "<div>\n",
       "<style scoped>\n",
       "    .dataframe tbody tr th:only-of-type {\n",
       "        vertical-align: middle;\n",
       "    }\n",
       "\n",
       "    .dataframe tbody tr th {\n",
       "        vertical-align: top;\n",
       "    }\n",
       "\n",
       "    .dataframe thead th {\n",
       "        text-align: right;\n",
       "    }\n",
       "</style>\n",
       "<table border=\"1\" class=\"dataframe\">\n",
       "  <thead>\n",
       "    <tr style=\"text-align: right;\">\n",
       "      <th></th>\n",
       "      <th>geography_group</th>\n",
       "      <th>value</th>\n",
       "    </tr>\n",
       "  </thead>\n",
       "  <tbody>\n",
       "    <tr>\n",
       "      <th>997</th>\n",
       "      <td>disability_geog_vs_reg_total</td>\n",
       "      <td>112,059</td>\n",
       "    </tr>\n",
       "  </tbody>\n",
       "</table>\n",
       "</div>"
      ],
      "text/plain": [
       "                  geography_group   value\n",
       "997  disability_geog_vs_reg_total 112,059"
      ]
     },
     "execution_count": 14,
     "metadata": {},
     "output_type": "execute_result"
    }
   ],
   "source": [
    "_df[['geography_group', 'value']]"
   ]
  },
  {
   "cell_type": "code",
   "execution_count": 15,
   "id": "9c5151fa",
   "metadata": {
    "execution": {
     "iopub.execute_input": "2025-05-06T19:52:03.858323Z",
     "iopub.status.busy": "2025-05-06T19:52:03.858323Z",
     "iopub.status.idle": "2025-05-06T19:52:03.878845Z",
     "shell.execute_reply": "2025-05-06T19:52:03.877843Z"
    }
   },
   "outputs": [
    {
     "data": {
      "text/html": [
       "<table border=\"1\" class=\"dataframe\">\n",
       "  <thead>\n",
       "    <tr style=\"text-align: right;\">\n",
       "      <th>Equity Group</th>\n",
       "      <th>Jobs within 45-minute Transit Commute</th>\n",
       "      <th>% Total Jobs</th>\n",
       "    </tr>\n",
       "  </thead>\n",
       "  <tbody>\n",
       "    <tr>\n",
       "      <td>NOT in youth_geog_vs_reg_total</td>\n",
       "      <td>210,620</td>\n",
       "      <td>9.6%</td>\n",
       "    </tr>\n",
       "    <tr>\n",
       "      <td>NOT in elderly_geog_vs_reg_total</td>\n",
       "      <td>172,628</td>\n",
       "      <td>7.9%</td>\n",
       "    </tr>\n",
       "    <tr>\n",
       "      <td>NOT in english_geog_vs_reg_total</td>\n",
       "      <td>144,703</td>\n",
       "      <td>6.6%</td>\n",
       "    </tr>\n",
       "    <tr>\n",
       "      <td>NOT in racial_geog_vs_reg_total</td>\n",
       "      <td>120,413</td>\n",
       "      <td>5.5%</td>\n",
       "    </tr>\n",
       "    <tr>\n",
       "      <td>NOT in racial_geog_vs_50_percent</td>\n",
       "      <td>123,395</td>\n",
       "      <td>5.6%</td>\n",
       "    </tr>\n",
       "    <tr>\n",
       "      <td>NOT in poverty_geog_vs_reg_total</td>\n",
       "      <td>137,952</td>\n",
       "      <td>6.3%</td>\n",
       "    </tr>\n",
       "    <tr>\n",
       "      <td>NOT in poverty_geog_vs_50_percent</td>\n",
       "      <td>133,015</td>\n",
       "      <td>6.1%</td>\n",
       "    </tr>\n",
       "    <tr>\n",
       "      <td>NOT in disability_geog_vs_reg_total</td>\n",
       "      <td>157,579</td>\n",
       "      <td>7.2%</td>\n",
       "    </tr>\n",
       "  </tbody>\n",
       "</table>"
      ],
      "text/plain": [
       "<IPython.core.display.HTML object>"
      ]
     },
     "metadata": {},
     "output_type": "display_data"
    }
   ],
   "source": [
    "result_df = pd.DataFrame()\n",
    "for col in geo_list:\n",
    "    _df = df[(df['geography_group'] == col) & (df['geography'] == '0')]\n",
    "    result_df = pd.concat([result_df, _df[['geography_group', 'value']]])\n",
    "    #result_df = result_df.append(_df[['geography_group', 'value']])\n",
    "result_df.to_csv(os.path.join(output_dir,str(incr)+'_transit_jobs_45min_equity.csv')); incr+=1\n",
    "result_df.rename(columns={'geography_group': 'Equity Group', 'value': 'Jobs within 45-minute Transit Commute'}, inplace=True)\n",
    "# result_df = result_df['']\n",
    "result_df['% Total Jobs'] = result_df['Jobs within 45-minute Transit Commute']/tot_jobs\n",
    "result_df['Equity Group'] = ['NOT in '+i for i in result_df['Equity Group']]\n",
    "output = result_df.to_html(formatters={\n",
    "    '% Total Jobs': '{:0,.1%}'.format\n",
    "}, index=False)\n",
    "display(HTML(output))"
   ]
  },
  {
   "cell_type": "raw",
   "id": "a6d37207",
   "metadata": {
    "vscode": {
     "languageId": "raw"
    }
   },
   "source": [
    ":::"
   ]
  },
  {
   "cell_type": "markdown",
   "id": "96de9dce",
   "metadata": {},
   "source": [
    "## Average Jobs Accessible within 1 Mile Walk and 3 Mile Bike\n",
    "Note that this is not using the bike network, but is instead using the all-streets network.\n",
    "\n",
    "Average accessible jobs are weighted averages based on parcel household population."
   ]
  },
  {
   "cell_type": "code",
   "execution_count": 16,
   "id": "ae76099b",
   "metadata": {
    "execution": {
     "iopub.execute_input": "2025-05-06T19:52:03.880840Z",
     "iopub.status.busy": "2025-05-06T19:52:03.880840Z",
     "iopub.status.idle": "2025-05-06T19:52:03.886219Z",
     "shell.execute_reply": "2025-05-06T19:52:03.886219Z"
    }
   },
   "outputs": [],
   "source": [
    "df = pd.read_csv(os.path.join(output_path,'access/walk_bike_jobs_access.csv'))"
   ]
  },
  {
   "cell_type": "raw",
   "id": "95e0eee2",
   "metadata": {
    "vscode": {
     "languageId": "raw"
    }
   },
   "source": [
    ":::{.panel-tabset}\n",
    "\n",
    "### Regional Average and County"
   ]
  },
  {
   "cell_type": "markdown",
   "id": "c914e0d4",
   "metadata": {},
   "source": [
    "- Regional Average"
   ]
  },
  {
   "cell_type": "code",
   "execution_count": 17,
   "id": "0a4de82e",
   "metadata": {
    "execution": {
     "iopub.execute_input": "2025-05-06T19:52:03.889216Z",
     "iopub.status.busy": "2025-05-06T19:52:03.888219Z",
     "iopub.status.idle": "2025-05-06T19:52:03.898093Z",
     "shell.execute_reply": "2025-05-06T19:52:03.897090Z"
    }
   },
   "outputs": [
    {
     "data": {
      "text/html": [
       "<table border=\"1\" class=\"dataframe\">\n",
       "  <thead>\n",
       "    <tr style=\"text-align: right;\">\n",
       "      <th>Jobs within 1-mile Walk</th>\n",
       "      <th>Jobs within 3-mile Bike</th>\n",
       "      <th>% Total Jobs (1-mile walk)</th>\n",
       "      <th>% Total Jobs (3-mile bike)</th>\n",
       "    </tr>\n",
       "  </thead>\n",
       "  <tbody>\n",
       "    <tr>\n",
       "      <td>11,172</td>\n",
       "      <td>54,354</td>\n",
       "      <td>0.5%</td>\n",
       "      <td>2.5%</td>\n",
       "    </tr>\n",
       "  </tbody>\n",
       "</table>"
      ],
      "text/plain": [
       "<IPython.core.display.HTML object>"
      ]
     },
     "metadata": {},
     "output_type": "display_data"
    }
   ],
   "source": [
    "_df = df[df['geography_group'] == 'region']\n",
    "_df.index = _df.geography_value\n",
    "_df = _df[['jobs_1_mile_walk','jobs_3_mile_bike']]\n",
    "_df.rename(columns={'jobs_1_mile_walk': 'Jobs within 1-mile Walk',\n",
    "                   'jobs_3_mile_bike': 'Jobs within 3-mile Bike'}, inplace=True)\n",
    "_df['% Total Jobs (1-mile walk)'] = _df['Jobs within 1-mile Walk']/tot_jobs\n",
    "_df['% Total Jobs (3-mile bike)'] = _df['Jobs within 3-mile Bike']/tot_jobs\n",
    "_df.to_csv(os.path.join(output_dir,str(incr)+'_walk_bike_jobs_region.csv')); incr+=1\n",
    "output = _df.to_html(formatters={\n",
    "    '% Total Jobs (1-mile walk)': '{:0,.1%}'.format,\n",
    "    '% Total Jobs (3-mile bike)': '{:0,.1%}'.format,\n",
    "}, index=False)\n",
    "display(HTML(output))"
   ]
  },
  {
   "cell_type": "markdown",
   "id": "0295aaee",
   "metadata": {},
   "source": [
    "- County"
   ]
  },
  {
   "cell_type": "code",
   "execution_count": 18,
   "id": "9dbf449c",
   "metadata": {
    "execution": {
     "iopub.execute_input": "2025-05-06T19:52:03.900088Z",
     "iopub.status.busy": "2025-05-06T19:52:03.900088Z",
     "iopub.status.idle": "2025-05-06T19:52:03.910525Z",
     "shell.execute_reply": "2025-05-06T19:52:03.909522Z"
    }
   },
   "outputs": [
    {
     "data": {
      "text/html": [
       "<table border=\"1\" class=\"dataframe\">\n",
       "  <thead>\n",
       "    <tr style=\"text-align: right;\">\n",
       "      <th></th>\n",
       "      <th>Jobs within 1-mile Walk</th>\n",
       "      <th>Jobs within 3-mile Bike</th>\n",
       "      <th>% Total Jobs (1-mile walk)</th>\n",
       "      <th>% Total Jobs (3-mile bike)</th>\n",
       "    </tr>\n",
       "    <tr>\n",
       "      <th>geography_value</th>\n",
       "      <th></th>\n",
       "      <th></th>\n",
       "      <th></th>\n",
       "      <th></th>\n",
       "    </tr>\n",
       "  </thead>\n",
       "  <tbody>\n",
       "    <tr>\n",
       "      <th>King</th>\n",
       "      <td>18,519</td>\n",
       "      <td>84,915</td>\n",
       "      <td>0.8%</td>\n",
       "      <td>3.9%</td>\n",
       "    </tr>\n",
       "    <tr>\n",
       "      <th>Kitsap</th>\n",
       "      <td>1,159</td>\n",
       "      <td>7,422</td>\n",
       "      <td>0.1%</td>\n",
       "      <td>0.3%</td>\n",
       "    </tr>\n",
       "    <tr>\n",
       "      <th>Outside Region</th>\n",
       "      <td>0</td>\n",
       "      <td>31</td>\n",
       "      <td>0.0%</td>\n",
       "      <td>0.0%</td>\n",
       "    </tr>\n",
       "    <tr>\n",
       "      <th>Pierce</th>\n",
       "      <td>2,537</td>\n",
       "      <td>18,572</td>\n",
       "      <td>0.1%</td>\n",
       "      <td>0.8%</td>\n",
       "    </tr>\n",
       "    <tr>\n",
       "      <th>Snohomish</th>\n",
       "      <td>2,036</td>\n",
       "      <td>17,994</td>\n",
       "      <td>0.1%</td>\n",
       "      <td>0.8%</td>\n",
       "    </tr>\n",
       "  </tbody>\n",
       "</table>"
      ],
      "text/plain": [
       "<IPython.core.display.HTML object>"
      ]
     },
     "metadata": {},
     "output_type": "display_data"
    }
   ],
   "source": [
    "_df = df[df['geography_group'] == 'CountyName']\n",
    "_df.index = _df.geography_value\n",
    "_df = _df[['jobs_1_mile_walk','jobs_3_mile_bike']]\n",
    "_df.rename(columns={'jobs_1_mile_walk': 'Jobs within 1-mile Walk',\n",
    "                   'jobs_3_mile_bike': 'Jobs within 3-mile Bike'}, inplace=True)\n",
    "_df.to_csv(os.path.join(output_dir,str(incr)+'_walk_bike_jobs_county.csv')); incr+=1\n",
    "_df['% Total Jobs (1-mile walk)'] = _df['Jobs within 1-mile Walk']/tot_jobs\n",
    "_df['% Total Jobs (3-mile bike)'] = _df['Jobs within 3-mile Bike']/tot_jobs\n",
    "_df.to_csv(os.path.join(output_dir,str(incr)+'_walk_bike_jobs_region.csv')); incr+=1\n",
    "output = _df.to_html(formatters={\n",
    "    '% Total Jobs (1-mile walk)': '{:0,.1%}'.format,\n",
    "    '% Total Jobs (3-mile bike)': '{:0,.1%}'.format,\n",
    "})\n",
    "display(HTML(output))"
   ]
  },
  {
   "cell_type": "raw",
   "id": "dff56a37",
   "metadata": {},
   "source": [
    "### Regional Growth Center"
   ]
  },
  {
   "cell_type": "code",
   "execution_count": 19,
   "id": "ac7a0390",
   "metadata": {
    "execution": {
     "iopub.execute_input": "2025-05-06T19:52:03.913375Z",
     "iopub.status.busy": "2025-05-06T19:52:03.912369Z",
     "iopub.status.idle": "2025-05-06T19:52:03.928167Z",
     "shell.execute_reply": "2025-05-06T19:52:03.928167Z"
    }
   },
   "outputs": [
    {
     "data": {
      "text/html": [
       "<table border=\"1\" class=\"dataframe\">\n",
       "  <thead>\n",
       "    <tr style=\"text-align: right;\">\n",
       "      <th></th>\n",
       "      <th>Jobs within 1-mile Walk</th>\n",
       "      <th>Jobs within 3-mile Bike</th>\n",
       "      <th>% Total Jobs (1-mile walk)</th>\n",
       "      <th>% Total Jobs (3-mile bike)</th>\n",
       "    </tr>\n",
       "    <tr>\n",
       "      <th>geography_value</th>\n",
       "      <th></th>\n",
       "      <th></th>\n",
       "      <th></th>\n",
       "      <th></th>\n",
       "    </tr>\n",
       "  </thead>\n",
       "  <tbody>\n",
       "    <tr>\n",
       "      <th>Not in RGC</th>\n",
       "      <td>2,923</td>\n",
       "      <td>34,998</td>\n",
       "      <td>0.1%</td>\n",
       "      <td>1.6%</td>\n",
       "    </tr>\n",
       "    <tr>\n",
       "      <th>All RGCs</th>\n",
       "      <td>88,863</td>\n",
       "      <td>236,642</td>\n",
       "      <td>4.1%</td>\n",
       "      <td>10.8%</td>\n",
       "    </tr>\n",
       "  </tbody>\n",
       "</table>"
      ],
      "text/plain": [
       "<IPython.core.display.HTML object>"
      ]
     },
     "metadata": {},
     "output_type": "display_data"
    }
   ],
   "source": [
    "_df = df[df['geography_group'] == 'rgc_binary']\n",
    "_df.index = _df.geography_value.map({'0': 'Not in RGC', '1': 'All RGCs'})\n",
    "_df = _df[['jobs_1_mile_walk','jobs_3_mile_bike']]\n",
    "_df.rename(columns={'jobs_1_mile_walk': 'Jobs within 1-mile Walk',\n",
    "                   'jobs_3_mile_bike': 'Jobs within 3-mile Bike'}, inplace=True)\n",
    "_df.to_csv(os.path.join(output_dir,str(incr)+'_walk_bike_jobs_rgc.csv')); incr+=1\n",
    "_df['% Total Jobs (1-mile walk)'] = _df['Jobs within 1-mile Walk']/tot_jobs\n",
    "_df['% Total Jobs (3-mile bike)'] = _df['Jobs within 3-mile Bike']/tot_jobs\n",
    "_df.to_csv(os.path.join(output_dir,str(incr)+'_walk_bike_jobs_region.csv')); incr+=1\n",
    "output = _df.to_html(formatters={\n",
    "    '% Total Jobs (1-mile walk)': '{:0,.1%}'.format,\n",
    "    '% Total Jobs (3-mile bike)': '{:0,.1%}'.format,\n",
    "})\n",
    "display(HTML(output))"
   ]
  },
  {
   "cell_type": "code",
   "execution_count": 20,
   "id": "d3bbfa50",
   "metadata": {
    "execution": {
     "iopub.execute_input": "2025-05-06T19:52:03.931165Z",
     "iopub.status.busy": "2025-05-06T19:52:03.931165Z",
     "iopub.status.idle": "2025-05-06T19:52:03.942197Z",
     "shell.execute_reply": "2025-05-06T19:52:03.941195Z"
    }
   },
   "outputs": [
    {
     "data": {
      "text/html": [
       "<table border=\"1\" class=\"dataframe\">\n",
       "  <thead>\n",
       "    <tr style=\"text-align: right;\">\n",
       "      <th></th>\n",
       "      <th>Jobs within 1-mile Walk</th>\n",
       "      <th>Jobs within 3-mile Bike</th>\n",
       "      <th>% Total Jobs (1-mile walk)</th>\n",
       "      <th>% Total Jobs (3-mile bike)</th>\n",
       "    </tr>\n",
       "    <tr>\n",
       "      <th>geography_value</th>\n",
       "      <th></th>\n",
       "      <th></th>\n",
       "      <th></th>\n",
       "      <th></th>\n",
       "    </tr>\n",
       "  </thead>\n",
       "  <tbody>\n",
       "    <tr>\n",
       "      <th>Auburn</th>\n",
       "      <td>10,541</td>\n",
       "      <td>40,324</td>\n",
       "      <td>0.5%</td>\n",
       "      <td>1.8%</td>\n",
       "    </tr>\n",
       "    <tr>\n",
       "      <th>Bellevue</th>\n",
       "      <td>59,188</td>\n",
       "      <td>110,699</td>\n",
       "      <td>2.7%</td>\n",
       "      <td>5.1%</td>\n",
       "    </tr>\n",
       "    <tr>\n",
       "      <th>Bothell Canyon Park</th>\n",
       "      <td>8,539</td>\n",
       "      <td>21,748</td>\n",
       "      <td>0.4%</td>\n",
       "      <td>1.0%</td>\n",
       "    </tr>\n",
       "    <tr>\n",
       "      <th>Bremerton</th>\n",
       "      <td>11,478</td>\n",
       "      <td>29,603</td>\n",
       "      <td>0.5%</td>\n",
       "      <td>1.4%</td>\n",
       "    </tr>\n",
       "    <tr>\n",
       "      <th>Burien</th>\n",
       "      <td>4,829</td>\n",
       "      <td>13,400</td>\n",
       "      <td>0.2%</td>\n",
       "      <td>0.6%</td>\n",
       "    </tr>\n",
       "    <tr>\n",
       "      <th>Everett</th>\n",
       "      <td>15,192</td>\n",
       "      <td>35,065</td>\n",
       "      <td>0.7%</td>\n",
       "      <td>1.6%</td>\n",
       "    </tr>\n",
       "    <tr>\n",
       "      <th>Federal Way</th>\n",
       "      <td>6,348</td>\n",
       "      <td>26,221</td>\n",
       "      <td>0.3%</td>\n",
       "      <td>1.2%</td>\n",
       "    </tr>\n",
       "    <tr>\n",
       "      <th>Greater Downtown Kirkland</th>\n",
       "      <td>12,208</td>\n",
       "      <td>36,559</td>\n",
       "      <td>0.6%</td>\n",
       "      <td>1.7%</td>\n",
       "    </tr>\n",
       "    <tr>\n",
       "      <th>Issaquah</th>\n",
       "      <td>NaN</td>\n",
       "      <td>NaN</td>\n",
       "      <td>NaN</td>\n",
       "      <td>NaN</td>\n",
       "    </tr>\n",
       "    <tr>\n",
       "      <th>Kent</th>\n",
       "      <td>10,478</td>\n",
       "      <td>45,920</td>\n",
       "      <td>0.5%</td>\n",
       "      <td>2.1%</td>\n",
       "    </tr>\n",
       "    <tr>\n",
       "      <th>Kirkland Totem Lake</th>\n",
       "      <td>8,528</td>\n",
       "      <td>33,064</td>\n",
       "      <td>0.4%</td>\n",
       "      <td>1.5%</td>\n",
       "    </tr>\n",
       "    <tr>\n",
       "      <th>Lakewood</th>\n",
       "      <td>6,444</td>\n",
       "      <td>25,422</td>\n",
       "      <td>0.3%</td>\n",
       "      <td>1.2%</td>\n",
       "    </tr>\n",
       "    <tr>\n",
       "      <th>Lynnwood</th>\n",
       "      <td>9,395</td>\n",
       "      <td>47,055</td>\n",
       "      <td>0.4%</td>\n",
       "      <td>2.1%</td>\n",
       "    </tr>\n",
       "    <tr>\n",
       "      <th>Not in RGC</th>\n",
       "      <td>2,923</td>\n",
       "      <td>34,998</td>\n",
       "      <td>0.1%</td>\n",
       "      <td>1.6%</td>\n",
       "    </tr>\n",
       "    <tr>\n",
       "      <th>Puyallup Downtown</th>\n",
       "      <td>7,643</td>\n",
       "      <td>31,585</td>\n",
       "      <td>0.3%</td>\n",
       "      <td>1.4%</td>\n",
       "    </tr>\n",
       "    <tr>\n",
       "      <th>Puyallup South Hill</th>\n",
       "      <td>5,820</td>\n",
       "      <td>23,193</td>\n",
       "      <td>0.3%</td>\n",
       "      <td>1.1%</td>\n",
       "    </tr>\n",
       "    <tr>\n",
       "      <th>Redmond Downtown</th>\n",
       "      <td>14,412</td>\n",
       "      <td>73,450</td>\n",
       "      <td>0.7%</td>\n",
       "      <td>3.4%</td>\n",
       "    </tr>\n",
       "    <tr>\n",
       "      <th>Redmond-Overlake</th>\n",
       "      <td>40,678</td>\n",
       "      <td>106,177</td>\n",
       "      <td>1.9%</td>\n",
       "      <td>4.8%</td>\n",
       "    </tr>\n",
       "    <tr>\n",
       "      <th>Renton</th>\n",
       "      <td>12,653</td>\n",
       "      <td>54,485</td>\n",
       "      <td>0.6%</td>\n",
       "      <td>2.5%</td>\n",
       "    </tr>\n",
       "    <tr>\n",
       "      <th>SeaTac</th>\n",
       "      <td>12,354</td>\n",
       "      <td>57,127</td>\n",
       "      <td>0.6%</td>\n",
       "      <td>2.6%</td>\n",
       "    </tr>\n",
       "    <tr>\n",
       "      <th>Seattle Downtown</th>\n",
       "      <td>201,230</td>\n",
       "      <td>411,387</td>\n",
       "      <td>9.2%</td>\n",
       "      <td>18.8%</td>\n",
       "    </tr>\n",
       "    <tr>\n",
       "      <th>Seattle First Hill/Capitol Hill</th>\n",
       "      <td>138,437</td>\n",
       "      <td>403,234</td>\n",
       "      <td>6.3%</td>\n",
       "      <td>18.4%</td>\n",
       "    </tr>\n",
       "    <tr>\n",
       "      <th>Seattle Northgate</th>\n",
       "      <td>8,686</td>\n",
       "      <td>42,074</td>\n",
       "      <td>0.4%</td>\n",
       "      <td>1.9%</td>\n",
       "    </tr>\n",
       "    <tr>\n",
       "      <th>Seattle South Lake Union</th>\n",
       "      <td>154,182</td>\n",
       "      <td>409,701</td>\n",
       "      <td>7.0%</td>\n",
       "      <td>18.7%</td>\n",
       "    </tr>\n",
       "    <tr>\n",
       "      <th>Seattle University Community</th>\n",
       "      <td>24,298</td>\n",
       "      <td>107,776</td>\n",
       "      <td>1.1%</td>\n",
       "      <td>4.9%</td>\n",
       "    </tr>\n",
       "    <tr>\n",
       "      <th>Seattle Uptown</th>\n",
       "      <td>68,199</td>\n",
       "      <td>395,973</td>\n",
       "      <td>3.1%</td>\n",
       "      <td>18.1%</td>\n",
       "    </tr>\n",
       "    <tr>\n",
       "      <th>Silverdale</th>\n",
       "      <td>5,172</td>\n",
       "      <td>10,505</td>\n",
       "      <td>0.2%</td>\n",
       "      <td>0.5%</td>\n",
       "    </tr>\n",
       "    <tr>\n",
       "      <th>Tacoma Downtown</th>\n",
       "      <td>30,153</td>\n",
       "      <td>79,404</td>\n",
       "      <td>1.4%</td>\n",
       "      <td>3.6%</td>\n",
       "    </tr>\n",
       "    <tr>\n",
       "      <th>Tacoma Mall</th>\n",
       "      <td>10,265</td>\n",
       "      <td>51,559</td>\n",
       "      <td>0.5%</td>\n",
       "      <td>2.4%</td>\n",
       "    </tr>\n",
       "    <tr>\n",
       "      <th>Tukwila</th>\n",
       "      <td>19,149</td>\n",
       "      <td>87,604</td>\n",
       "      <td>0.9%</td>\n",
       "      <td>4.0%</td>\n",
       "    </tr>\n",
       "    <tr>\n",
       "      <th>University Place</th>\n",
       "      <td>2,882</td>\n",
       "      <td>15,898</td>\n",
       "      <td>0.1%</td>\n",
       "      <td>0.7%</td>\n",
       "    </tr>\n",
       "  </tbody>\n",
       "</table>"
      ],
      "text/plain": [
       "<IPython.core.display.HTML object>"
      ]
     },
     "metadata": {},
     "output_type": "display_data"
    }
   ],
   "source": [
    "_df = df[df['geography_group'] == 'GrowthCenterName']\n",
    "_df.index = _df.geography_value\n",
    "_df = _df[['jobs_1_mile_walk','jobs_3_mile_bike']]\n",
    "_df.rename(columns={'jobs_1_mile_walk': 'Jobs within 1-mile Walk',\n",
    "                   'jobs_3_mile_bike': 'Jobs within 3-mile Bike'}, inplace=True)\n",
    "_df.to_csv(os.path.join(output_dir,str(incr)+'_walk_bike_jobs_rgc.csv')); incr+=1\n",
    "_df['% Total Jobs (1-mile walk)'] = _df['Jobs within 1-mile Walk']/tot_jobs\n",
    "_df['% Total Jobs (3-mile bike)'] = _df['Jobs within 3-mile Bike']/tot_jobs\n",
    "_df.to_csv(os.path.join(output_dir,str(incr)+'_walk_bike_jobs_region.csv')); incr+=1\n",
    "output = _df.to_html(formatters={\n",
    "    '% Total Jobs (1-mile walk)': '{:0,.1%}'.format,\n",
    "    '% Total Jobs (3-mile bike)': '{:0,.1%}'.format,\n",
    "})\n",
    "display(HTML(output))"
   ]
  },
  {
   "cell_type": "raw",
   "id": "b9a7c722",
   "metadata": {},
   "source": [
    "### Regional Geography"
   ]
  },
  {
   "cell_type": "code",
   "execution_count": 21,
   "id": "7ca02a90",
   "metadata": {
    "execution": {
     "iopub.execute_input": "2025-05-06T19:52:03.944193Z",
     "iopub.status.busy": "2025-05-06T19:52:03.944193Z",
     "iopub.status.idle": "2025-05-06T19:52:03.955068Z",
     "shell.execute_reply": "2025-05-06T19:52:03.955068Z"
    }
   },
   "outputs": [
    {
     "data": {
      "text/html": [
       "<table border=\"1\" class=\"dataframe\">\n",
       "  <thead>\n",
       "    <tr style=\"text-align: right;\">\n",
       "      <th></th>\n",
       "      <th>Jobs within 1-mile Walk</th>\n",
       "      <th>Jobs within 3-mile Bike</th>\n",
       "      <th>% Total Jobs (1-mile walk)</th>\n",
       "      <th>% Total Jobs (3-mile bike)</th>\n",
       "    </tr>\n",
       "    <tr>\n",
       "      <th>geography_value</th>\n",
       "      <th></th>\n",
       "      <th></th>\n",
       "      <th></th>\n",
       "      <th></th>\n",
       "    </tr>\n",
       "  </thead>\n",
       "  <tbody>\n",
       "    <tr>\n",
       "      <th>CitiesTowns</th>\n",
       "      <td>984</td>\n",
       "      <td>8,948</td>\n",
       "      <td>0.0%</td>\n",
       "      <td>0.4%</td>\n",
       "    </tr>\n",
       "    <tr>\n",
       "      <th>Core</th>\n",
       "      <td>3,416</td>\n",
       "      <td>28,646</td>\n",
       "      <td>0.2%</td>\n",
       "      <td>1.3%</td>\n",
       "    </tr>\n",
       "    <tr>\n",
       "      <th>HCT</th>\n",
       "      <td>1,495</td>\n",
       "      <td>15,923</td>\n",
       "      <td>0.1%</td>\n",
       "      <td>0.7%</td>\n",
       "    </tr>\n",
       "    <tr>\n",
       "      <th>Metro</th>\n",
       "      <td>29,414</td>\n",
       "      <td>127,845</td>\n",
       "      <td>1.3%</td>\n",
       "      <td>5.8%</td>\n",
       "    </tr>\n",
       "    <tr>\n",
       "      <th>UU</th>\n",
       "      <td>443</td>\n",
       "      <td>7,024</td>\n",
       "      <td>0.0%</td>\n",
       "      <td>0.3%</td>\n",
       "    </tr>\n",
       "  </tbody>\n",
       "</table>"
      ],
      "text/plain": [
       "<IPython.core.display.HTML object>"
      ]
     },
     "metadata": {},
     "output_type": "display_data"
    }
   ],
   "source": [
    "_df = df[df['geography_group'] == 'rg_proposed']\n",
    "_df.index = _df.geography_value\n",
    "_df = _df[['jobs_1_mile_walk','jobs_3_mile_bike']]\n",
    "_df.rename(columns={'jobs_1_mile_walk': 'Jobs within 1-mile Walk',\n",
    "                   'jobs_3_mile_bike': 'Jobs within 3-mile Bike'}, inplace=True)\n",
    "_df.to_csv(os.path.join(output_dir,str(incr)+'_walk_bike_jobs_reg_geog.csv')); incr+=1\n",
    "_df['% Total Jobs (1-mile walk)'] = _df['Jobs within 1-mile Walk']/tot_jobs\n",
    "_df['% Total Jobs (3-mile bike)'] = _df['Jobs within 3-mile Bike']/tot_jobs\n",
    "_df.to_csv(os.path.join(output_dir,str(incr)+'_walk_bike_jobs_region.csv')); incr+=1\n",
    "output = _df.to_html(formatters={\n",
    "    '% Total Jobs (1-mile walk)': '{:0,.1%}'.format,\n",
    "    '% Total Jobs (3-mile bike)': '{:0,.1%}'.format,\n",
    "})\n",
    "display(HTML(output))"
   ]
  },
  {
   "cell_type": "raw",
   "id": "2493d7ec",
   "metadata": {},
   "source": [
    "### Equity Geographies"
   ]
  },
  {
   "cell_type": "code",
   "execution_count": 22,
   "id": "5e35d2a2",
   "metadata": {
    "execution": {
     "iopub.execute_input": "2025-05-06T19:52:03.958066Z",
     "iopub.status.busy": "2025-05-06T19:52:03.957069Z",
     "iopub.status.idle": "2025-05-06T19:52:03.982081Z",
     "shell.execute_reply": "2025-05-06T19:52:03.981559Z"
    }
   },
   "outputs": [
    {
     "data": {
      "text/html": [
       "<table border=\"1\" class=\"dataframe\">\n",
       "  <thead>\n",
       "    <tr style=\"text-align: right;\">\n",
       "      <th>Equity Group</th>\n",
       "      <th>Jobs within 1-mile Walk</th>\n",
       "      <th>Jobs within 3-mile Bike</th>\n",
       "      <th>% Total Jobs (1-mile walk)</th>\n",
       "      <th>% Total Jobs (3-mile bike)</th>\n",
       "    </tr>\n",
       "  </thead>\n",
       "  <tbody>\n",
       "    <tr>\n",
       "      <td>youth_geog_vs_reg_total</td>\n",
       "      <td>1,735</td>\n",
       "      <td>19,322</td>\n",
       "      <td>0.1%</td>\n",
       "      <td>0.9%</td>\n",
       "    </tr>\n",
       "    <tr>\n",
       "      <td>elderly_geog_vs_reg_total</td>\n",
       "      <td>8,544</td>\n",
       "      <td>40,333</td>\n",
       "      <td>0.4%</td>\n",
       "      <td>1.8%</td>\n",
       "    </tr>\n",
       "    <tr>\n",
       "      <td>english_geog_vs_reg_total</td>\n",
       "      <td>10,839</td>\n",
       "      <td>48,404</td>\n",
       "      <td>0.5%</td>\n",
       "      <td>2.2%</td>\n",
       "    </tr>\n",
       "    <tr>\n",
       "      <td>racial_geog_vs_reg_total</td>\n",
       "      <td>18,063</td>\n",
       "      <td>69,071</td>\n",
       "      <td>0.8%</td>\n",
       "      <td>3.2%</td>\n",
       "    </tr>\n",
       "    <tr>\n",
       "      <td>racial_geog_vs_50_percent</td>\n",
       "      <td>18,653</td>\n",
       "      <td>70,871</td>\n",
       "      <td>0.9%</td>\n",
       "      <td>3.2%</td>\n",
       "    </tr>\n",
       "    <tr>\n",
       "      <td>poverty_geog_vs_reg_total</td>\n",
       "      <td>13,811</td>\n",
       "      <td>57,047</td>\n",
       "      <td>0.6%</td>\n",
       "      <td>2.6%</td>\n",
       "    </tr>\n",
       "    <tr>\n",
       "      <td>poverty_geog_vs_50_percent</td>\n",
       "      <td>30,974</td>\n",
       "      <td>101,410</td>\n",
       "      <td>1.4%</td>\n",
       "      <td>4.6%</td>\n",
       "    </tr>\n",
       "    <tr>\n",
       "      <td>disability_geog_vs_reg_total</td>\n",
       "      <td>12,956</td>\n",
       "      <td>51,240</td>\n",
       "      <td>0.6%</td>\n",
       "      <td>2.3%</td>\n",
       "    </tr>\n",
       "  </tbody>\n",
       "</table>"
      ],
      "text/plain": [
       "<IPython.core.display.HTML object>"
      ]
     },
     "metadata": {},
     "output_type": "display_data"
    }
   ],
   "source": [
    "result_df = pd.DataFrame()\n",
    "for col in geo_list:\n",
    "    _df = df[(df['geography_group'] == col) & (df['geography_value'] == '1')]\n",
    "    result_df = pd.concat([result_df, _df[['geography_group', 'jobs_1_mile_walk','jobs_3_mile_bike']]])\n",
    "    #result_df = result_df.append(_df[['geography_group', 'jobs_1_mile_walk','jobs_3_mile_bike']])\n",
    "result_df.to_csv(os.path.join(output_dir,str(incr)+'_walk_bike_jobs_equity.csv')); incr+=1\n",
    "result_df.rename(columns={'geography_group': 'Equity Group', \n",
    "                          'jobs_1_mile_walk': 'Jobs within 1-mile Walk',\n",
    "                        'jobs_3_mile_bike':  'Jobs within 3-mile Bike'}, inplace=True)\n",
    "\n",
    "result_df['% Total Jobs (1-mile walk)'] = result_df['Jobs within 1-mile Walk']/tot_jobs\n",
    "result_df['% Total Jobs (3-mile bike)'] = result_df['Jobs within 3-mile Bike']/tot_jobs\n",
    "output = result_df.to_html(formatters={\n",
    "    '% Total Jobs (1-mile walk)': '{:0,.1%}'.format,\n",
    "    '% Total Jobs (3-mile bike)': '{:0,.1%}'.format\n",
    "}, index=False)\n",
    "display(HTML(output))"
   ]
  },
  {
   "cell_type": "code",
   "execution_count": 23,
   "id": "7061d680",
   "metadata": {
    "execution": {
     "iopub.execute_input": "2025-05-06T19:52:03.984729Z",
     "iopub.status.busy": "2025-05-06T19:52:03.984196Z",
     "iopub.status.idle": "2025-05-06T19:52:04.000285Z",
     "shell.execute_reply": "2025-05-06T19:52:03.999282Z"
    }
   },
   "outputs": [
    {
     "data": {
      "text/html": [
       "<table border=\"1\" class=\"dataframe\">\n",
       "  <thead>\n",
       "    <tr style=\"text-align: right;\">\n",
       "      <th>Equity Group</th>\n",
       "      <th>Jobs within 1-mile Walk</th>\n",
       "      <th>Jobs within 3-mile Bike</th>\n",
       "      <th>% Total Jobs (1-mile walk)</th>\n",
       "      <th>% Total Jobs (3-mile bike)</th>\n",
       "    </tr>\n",
       "  </thead>\n",
       "  <tbody>\n",
       "    <tr>\n",
       "      <td>NOT in youth_geog_vs_reg_total</td>\n",
       "      <td>18,909</td>\n",
       "      <td>83,074</td>\n",
       "      <td>0.9%</td>\n",
       "      <td>3.8%</td>\n",
       "    </tr>\n",
       "    <tr>\n",
       "      <td>NOT in elderly_geog_vs_reg_total</td>\n",
       "      <td>13,551</td>\n",
       "      <td>67,038</td>\n",
       "      <td>0.6%</td>\n",
       "      <td>3.1%</td>\n",
       "    </tr>\n",
       "    <tr>\n",
       "      <td>NOT in english_geog_vs_reg_total</td>\n",
       "      <td>11,369</td>\n",
       "      <td>57,859</td>\n",
       "      <td>0.5%</td>\n",
       "      <td>2.6%</td>\n",
       "    </tr>\n",
       "    <tr>\n",
       "      <td>NOT in racial_geog_vs_reg_total</td>\n",
       "      <td>5,368</td>\n",
       "      <td>41,956</td>\n",
       "      <td>0.2%</td>\n",
       "      <td>1.9%</td>\n",
       "    </tr>\n",
       "    <tr>\n",
       "      <td>NOT in racial_geog_vs_50_percent</td>\n",
       "      <td>7,782</td>\n",
       "      <td>46,868</td>\n",
       "      <td>0.4%</td>\n",
       "      <td>2.1%</td>\n",
       "    </tr>\n",
       "    <tr>\n",
       "      <td>NOT in poverty_geog_vs_reg_total</td>\n",
       "      <td>9,408</td>\n",
       "      <td>52,553</td>\n",
       "      <td>0.4%</td>\n",
       "      <td>2.4%</td>\n",
       "    </tr>\n",
       "    <tr>\n",
       "      <td>NOT in poverty_geog_vs_50_percent</td>\n",
       "      <td>10,740</td>\n",
       "      <td>53,326</td>\n",
       "      <td>0.5%</td>\n",
       "      <td>2.4%</td>\n",
       "    </tr>\n",
       "    <tr>\n",
       "      <td>NOT in disability_geog_vs_reg_total</td>\n",
       "      <td>9,673</td>\n",
       "      <td>56,971</td>\n",
       "      <td>0.4%</td>\n",
       "      <td>2.6%</td>\n",
       "    </tr>\n",
       "  </tbody>\n",
       "</table>"
      ],
      "text/plain": [
       "<IPython.core.display.HTML object>"
      ]
     },
     "metadata": {},
     "output_type": "display_data"
    }
   ],
   "source": [
    "result_df = pd.DataFrame()\n",
    "for col in geo_list:\n",
    "    _df = df[(df['geography_group'] == col) & (df['geography_value'] == '0')]\n",
    "    result_df = pd.concat([result_df, _df[['geography_group', 'jobs_1_mile_walk','jobs_3_mile_bike']]])\n",
    "    #result_df = result_df.append(_df[['geography_group', 'jobs_1_mile_walk','jobs_3_mile_bike']])\n",
    "result_df.to_csv(os.path.join(output_dir,str(incr)+'_walk_bike_jobs_equity.csv')); incr+=1\n",
    "result_df.rename(columns={'geography_group': 'Equity Group', \n",
    "                          'jobs_1_mile_walk': 'Jobs within 1-mile Walk',\n",
    "                        'jobs_3_mile_bike':  'Jobs within 3-mile Bike'}, inplace=True)\n",
    "\n",
    "result_df['% Total Jobs (1-mile walk)'] = result_df['Jobs within 1-mile Walk']/tot_jobs\n",
    "result_df['% Total Jobs (3-mile bike)'] = result_df['Jobs within 3-mile Bike']/tot_jobs\n",
    "result_df['Equity Group'] = ['NOT in '+i for i in result_df['Equity Group']]\n",
    "output = result_df.to_html(formatters={\n",
    "    '% Total Jobs (1-mile walk)': '{:0,.1%}'.format,\n",
    "    '% Total Jobs (3-mile bike)': '{:0,.1%}'.format\n",
    "}, index=False)\n",
    "display(HTML(output))"
   ]
  },
  {
   "cell_type": "raw",
   "id": "cc3d6f47",
   "metadata": {
    "vscode": {
     "languageId": "raw"
    }
   },
   "source": [
    ":::"
   ]
  },
  {
   "cell_type": "markdown",
   "id": "c91e395a",
   "metadata": {},
   "source": [
    "## Intersection Density"
   ]
  },
  {
   "cell_type": "code",
   "execution_count": 24,
   "id": "cf44ff17",
   "metadata": {
    "execution": {
     "iopub.execute_input": "2025-05-06T19:52:04.002281Z",
     "iopub.status.busy": "2025-05-06T19:52:04.002281Z",
     "iopub.status.idle": "2025-05-06T19:52:59.356521Z",
     "shell.execute_reply": "2025-05-06T19:52:59.356521Z"
    }
   },
   "outputs": [],
   "source": [
    "df = pd.read_csv(os.path.join(output_path,'landuse/buffered_parcels.txt'), delim_whitespace=True)\n",
    "\n",
    "# Total intersections within 1/2 mile buffer\n",
    "df['intersections'] = df[['nodes3_2','nodes4_2']].sum(axis=1)\n",
    "parcel_geog = pd.read_sql_table('parcel_'+config['base_year']+'_geography', 'sqlite:///'+summary_config['sc_run_path']+'/inputs/db/'+config['db_name'])\n",
    "df = df.merge(parcel_geog, left_on='parcelid', right_on='ParcelID')"
   ]
  },
  {
   "cell_type": "raw",
   "id": "0bfe6c2b",
   "metadata": {
    "vscode": {
     "languageId": "raw"
    }
   },
   "source": [
    ":::{.panel-tabset}\n",
    "\n",
    "### County"
   ]
  },
  {
   "cell_type": "code",
   "execution_count": 25,
   "id": "bb444139",
   "metadata": {
    "execution": {
     "iopub.execute_input": "2025-05-06T19:52:59.362514Z",
     "iopub.status.busy": "2025-05-06T19:52:59.362514Z",
     "iopub.status.idle": "2025-05-06T19:52:59.368587Z",
     "shell.execute_reply": "2025-05-06T19:52:59.367584Z"
    }
   },
   "outputs": [],
   "source": [
    "# #population weighted measure\n",
    "# df['intersections_wt'] = df['intersections']*df['hh_p']\n",
    "# _df = pd.DataFrame(df.groupby('CountyName').sum()['intersections_wt']/df.groupby('CountyName').sum()['hh_p'])\n",
    "# _df.columns = ['Intersections']\n",
    "# _df"
   ]
  },
  {
   "cell_type": "code",
   "execution_count": 26,
   "id": "6f8d468c",
   "metadata": {
    "execution": {
     "iopub.execute_input": "2025-05-06T19:52:59.373608Z",
     "iopub.status.busy": "2025-05-06T19:52:59.372576Z",
     "iopub.status.idle": "2025-05-06T19:52:59.571348Z",
     "shell.execute_reply": "2025-05-06T19:52:59.570345Z"
    }
   },
   "outputs": [
    {
     "data": {
      "text/html": [
       "<div>\n",
       "<style scoped>\n",
       "    .dataframe tbody tr th:only-of-type {\n",
       "        vertical-align: middle;\n",
       "    }\n",
       "\n",
       "    .dataframe tbody tr th {\n",
       "        vertical-align: top;\n",
       "    }\n",
       "\n",
       "    .dataframe thead th {\n",
       "        text-align: right;\n",
       "    }\n",
       "</style>\n",
       "<table border=\"1\" class=\"dataframe\">\n",
       "  <thead>\n",
       "    <tr style=\"text-align: right;\">\n",
       "      <th></th>\n",
       "      <th>CountyName</th>\n",
       "      <th>Intersections</th>\n",
       "    </tr>\n",
       "  </thead>\n",
       "  <tbody>\n",
       "    <tr>\n",
       "      <th>0</th>\n",
       "      <td>King</td>\n",
       "      <td>155</td>\n",
       "    </tr>\n",
       "    <tr>\n",
       "      <th>1</th>\n",
       "      <td>Kitsap</td>\n",
       "      <td>51</td>\n",
       "    </tr>\n",
       "    <tr>\n",
       "      <th>2</th>\n",
       "      <td>Outside Region</td>\n",
       "      <td>4</td>\n",
       "    </tr>\n",
       "    <tr>\n",
       "      <th>3</th>\n",
       "      <td>Pierce</td>\n",
       "      <td>80</td>\n",
       "    </tr>\n",
       "    <tr>\n",
       "      <th>4</th>\n",
       "      <td>Snohomish</td>\n",
       "      <td>73</td>\n",
       "    </tr>\n",
       "  </tbody>\n",
       "</table>\n",
       "</div>"
      ],
      "text/plain": [
       "       CountyName  Intersections\n",
       "0            King            155\n",
       "1          Kitsap             51\n",
       "2  Outside Region              4\n",
       "3          Pierce             80\n",
       "4       Snohomish             73"
      ]
     },
     "execution_count": 26,
     "metadata": {},
     "output_type": "execute_result"
    }
   ],
   "source": [
    "# population weighted measure\n",
    "df['intersections_wt'] = df['intersections']*df['hh_p']\n",
    "_df = df.groupby('CountyName')[['intersections_wt', 'hh_p']].sum().reset_index()\n",
    "_df['Intersections'] = _df['intersections_wt']/_df['hh_p']\n",
    "_df[['CountyName', 'Intersections']]\n",
    "#_df1 = df.groupby('CountyName')['hh_p'].sum().reset_index()"
   ]
  },
  {
   "cell_type": "raw",
   "id": "fd0d70e7",
   "metadata": {},
   "source": [
    "### Regional Growth Center"
   ]
  },
  {
   "cell_type": "code",
   "execution_count": 27,
   "id": "da61584d",
   "metadata": {
    "execution": {
     "iopub.execute_input": "2025-05-06T19:52:59.576336Z",
     "iopub.status.busy": "2025-05-06T19:52:59.576336Z",
     "iopub.status.idle": "2025-05-06T19:52:59.582249Z",
     "shell.execute_reply": "2025-05-06T19:52:59.581245Z"
    }
   },
   "outputs": [],
   "source": [
    "# population weighted measure\n",
    "# df['intersections_wt'] = df['intersections']*df['hh_p']\n",
    "# _df = pd.DataFrame(df.groupby('GrowthCenterName').sum()['intersections_wt']/df.groupby('GrowthCenterName').sum()['hh_p'])\n",
    "# _df.columns = ['Intersections']\n",
    "# _df"
   ]
  },
  {
   "cell_type": "code",
   "execution_count": 28,
   "id": "4838dea4",
   "metadata": {
    "execution": {
     "iopub.execute_input": "2025-05-06T19:52:59.587237Z",
     "iopub.status.busy": "2025-05-06T19:52:59.586240Z",
     "iopub.status.idle": "2025-05-06T19:52:59.789704Z",
     "shell.execute_reply": "2025-05-06T19:52:59.788702Z"
    }
   },
   "outputs": [
    {
     "data": {
      "text/html": [
       "<div>\n",
       "<style scoped>\n",
       "    .dataframe tbody tr th:only-of-type {\n",
       "        vertical-align: middle;\n",
       "    }\n",
       "\n",
       "    .dataframe tbody tr th {\n",
       "        vertical-align: top;\n",
       "    }\n",
       "\n",
       "    .dataframe thead th {\n",
       "        text-align: right;\n",
       "    }\n",
       "</style>\n",
       "<table border=\"1\" class=\"dataframe\">\n",
       "  <thead>\n",
       "    <tr style=\"text-align: right;\">\n",
       "      <th></th>\n",
       "      <th>GrowthCenterName</th>\n",
       "      <th>Intersections</th>\n",
       "    </tr>\n",
       "  </thead>\n",
       "  <tbody>\n",
       "    <tr>\n",
       "      <th>0</th>\n",
       "      <td>Auburn</td>\n",
       "      <td>192</td>\n",
       "    </tr>\n",
       "    <tr>\n",
       "      <th>1</th>\n",
       "      <td>Bellevue</td>\n",
       "      <td>273</td>\n",
       "    </tr>\n",
       "    <tr>\n",
       "      <th>2</th>\n",
       "      <td>Bothell Canyon Park</td>\n",
       "      <td>69</td>\n",
       "    </tr>\n",
       "    <tr>\n",
       "      <th>3</th>\n",
       "      <td>Bremerton</td>\n",
       "      <td>168</td>\n",
       "    </tr>\n",
       "    <tr>\n",
       "      <th>4</th>\n",
       "      <td>Burien</td>\n",
       "      <td>176</td>\n",
       "    </tr>\n",
       "    <tr>\n",
       "      <th>5</th>\n",
       "      <td>Everett</td>\n",
       "      <td>161</td>\n",
       "    </tr>\n",
       "    <tr>\n",
       "      <th>6</th>\n",
       "      <td>Federal Way</td>\n",
       "      <td>134</td>\n",
       "    </tr>\n",
       "    <tr>\n",
       "      <th>7</th>\n",
       "      <td>Greater Downtown Kirkland</td>\n",
       "      <td>167</td>\n",
       "    </tr>\n",
       "    <tr>\n",
       "      <th>8</th>\n",
       "      <td>Issaquah</td>\n",
       "      <td>NaN</td>\n",
       "    </tr>\n",
       "    <tr>\n",
       "      <th>9</th>\n",
       "      <td>Kent</td>\n",
       "      <td>214</td>\n",
       "    </tr>\n",
       "    <tr>\n",
       "      <th>10</th>\n",
       "      <td>Kirkland Totem Lake</td>\n",
       "      <td>124</td>\n",
       "    </tr>\n",
       "    <tr>\n",
       "      <th>11</th>\n",
       "      <td>Lakewood</td>\n",
       "      <td>123</td>\n",
       "    </tr>\n",
       "    <tr>\n",
       "      <th>12</th>\n",
       "      <td>Lynnwood</td>\n",
       "      <td>139</td>\n",
       "    </tr>\n",
       "    <tr>\n",
       "      <th>13</th>\n",
       "      <td>Not in RGC</td>\n",
       "      <td>100</td>\n",
       "    </tr>\n",
       "    <tr>\n",
       "      <th>14</th>\n",
       "      <td>Puyallup Downtown</td>\n",
       "      <td>183</td>\n",
       "    </tr>\n",
       "    <tr>\n",
       "      <th>15</th>\n",
       "      <td>Puyallup South Hill</td>\n",
       "      <td>65</td>\n",
       "    </tr>\n",
       "    <tr>\n",
       "      <th>16</th>\n",
       "      <td>Redmond Downtown</td>\n",
       "      <td>223</td>\n",
       "    </tr>\n",
       "    <tr>\n",
       "      <th>17</th>\n",
       "      <td>Redmond-Overlake</td>\n",
       "      <td>159</td>\n",
       "    </tr>\n",
       "    <tr>\n",
       "      <th>18</th>\n",
       "      <td>Renton</td>\n",
       "      <td>199</td>\n",
       "    </tr>\n",
       "    <tr>\n",
       "      <th>19</th>\n",
       "      <td>SeaTac</td>\n",
       "      <td>109</td>\n",
       "    </tr>\n",
       "    <tr>\n",
       "      <th>20</th>\n",
       "      <td>Seattle Downtown</td>\n",
       "      <td>419</td>\n",
       "    </tr>\n",
       "    <tr>\n",
       "      <th>21</th>\n",
       "      <td>Seattle First Hill/Capitol Hill</td>\n",
       "      <td>405</td>\n",
       "    </tr>\n",
       "    <tr>\n",
       "      <th>22</th>\n",
       "      <td>Seattle Northgate</td>\n",
       "      <td>175</td>\n",
       "    </tr>\n",
       "    <tr>\n",
       "      <th>23</th>\n",
       "      <td>Seattle South Lake Union</td>\n",
       "      <td>356</td>\n",
       "    </tr>\n",
       "    <tr>\n",
       "      <th>24</th>\n",
       "      <td>Seattle University Community</td>\n",
       "      <td>284</td>\n",
       "    </tr>\n",
       "    <tr>\n",
       "      <th>25</th>\n",
       "      <td>Seattle Uptown</td>\n",
       "      <td>281</td>\n",
       "    </tr>\n",
       "    <tr>\n",
       "      <th>26</th>\n",
       "      <td>Silverdale</td>\n",
       "      <td>77</td>\n",
       "    </tr>\n",
       "    <tr>\n",
       "      <th>27</th>\n",
       "      <td>Tacoma Downtown</td>\n",
       "      <td>203</td>\n",
       "    </tr>\n",
       "    <tr>\n",
       "      <th>28</th>\n",
       "      <td>Tacoma Mall</td>\n",
       "      <td>103</td>\n",
       "    </tr>\n",
       "    <tr>\n",
       "      <th>29</th>\n",
       "      <td>Tukwila</td>\n",
       "      <td>114</td>\n",
       "    </tr>\n",
       "    <tr>\n",
       "      <th>30</th>\n",
       "      <td>University Place</td>\n",
       "      <td>109</td>\n",
       "    </tr>\n",
       "  </tbody>\n",
       "</table>\n",
       "</div>"
      ],
      "text/plain": [
       "                   GrowthCenterName  Intersections\n",
       "0                            Auburn            192\n",
       "1                          Bellevue            273\n",
       "2               Bothell Canyon Park             69\n",
       "3                         Bremerton            168\n",
       "4                            Burien            176\n",
       "5                           Everett            161\n",
       "6                       Federal Way            134\n",
       "7         Greater Downtown Kirkland            167\n",
       "8                          Issaquah            NaN\n",
       "9                              Kent            214\n",
       "10              Kirkland Totem Lake            124\n",
       "11                         Lakewood            123\n",
       "12                         Lynnwood            139\n",
       "13                       Not in RGC            100\n",
       "14                Puyallup Downtown            183\n",
       "15              Puyallup South Hill             65\n",
       "16                 Redmond Downtown            223\n",
       "17                 Redmond-Overlake            159\n",
       "18                           Renton            199\n",
       "19                           SeaTac            109\n",
       "20                 Seattle Downtown            419\n",
       "21  Seattle First Hill/Capitol Hill            405\n",
       "22                Seattle Northgate            175\n",
       "23         Seattle South Lake Union            356\n",
       "24     Seattle University Community            284\n",
       "25                   Seattle Uptown            281\n",
       "26                       Silverdale             77\n",
       "27                  Tacoma Downtown            203\n",
       "28                      Tacoma Mall            103\n",
       "29                          Tukwila            114\n",
       "30                 University Place            109"
      ]
     },
     "execution_count": 28,
     "metadata": {},
     "output_type": "execute_result"
    }
   ],
   "source": [
    "# population weighted measure\n",
    "df['intersections_wt'] = df['intersections']*df['hh_p']\n",
    "_df = df.groupby('GrowthCenterName')[['intersections_wt', 'hh_p']].sum().reset_index()\n",
    "_df['Intersections'] = _df['intersections_wt']/_df['hh_p']\n",
    "_df[['GrowthCenterName', 'Intersections']]\n",
    "#_df1 = df.groupby('CountyName')['hh_p'].sum().reset_index()"
   ]
  },
  {
   "cell_type": "raw",
   "id": "ca3e8b01",
   "metadata": {},
   "source": [
    "### Regional Geography"
   ]
  },
  {
   "cell_type": "code",
   "execution_count": 29,
   "id": "e5e26e1f",
   "metadata": {
    "execution": {
     "iopub.execute_input": "2025-05-06T19:52:59.794693Z",
     "iopub.status.busy": "2025-05-06T19:52:59.794693Z",
     "iopub.status.idle": "2025-05-06T19:52:59.800224Z",
     "shell.execute_reply": "2025-05-06T19:52:59.799221Z"
    }
   },
   "outputs": [],
   "source": [
    "# population weighted measure\n",
    "# df['intersections_wt'] = df['intersections']*df['hh_p']\n",
    "# _df = pd.DataFrame(df.groupby('GrowthCenterName').sum()['intersections_wt']/df.groupby('GrowthCenterName').sum()['hh_p'])\n",
    "# _df.columns = ['Intersections']\n",
    "# _df"
   ]
  },
  {
   "cell_type": "code",
   "execution_count": 30,
   "id": "f5244056",
   "metadata": {
    "execution": {
     "iopub.execute_input": "2025-05-06T19:52:59.805214Z",
     "iopub.status.busy": "2025-05-06T19:52:59.805214Z",
     "iopub.status.idle": "2025-05-06T19:53:00.001132Z",
     "shell.execute_reply": "2025-05-06T19:53:00.000128Z"
    }
   },
   "outputs": [
    {
     "data": {
      "text/html": [
       "<div>\n",
       "<style scoped>\n",
       "    .dataframe tbody tr th:only-of-type {\n",
       "        vertical-align: middle;\n",
       "    }\n",
       "\n",
       "    .dataframe tbody tr th {\n",
       "        vertical-align: top;\n",
       "    }\n",
       "\n",
       "    .dataframe thead th {\n",
       "        text-align: right;\n",
       "    }\n",
       "</style>\n",
       "<table border=\"1\" class=\"dataframe\">\n",
       "  <thead>\n",
       "    <tr style=\"text-align: right;\">\n",
       "      <th></th>\n",
       "      <th>GrowthCenterName</th>\n",
       "      <th>Intersections</th>\n",
       "    </tr>\n",
       "  </thead>\n",
       "  <tbody>\n",
       "    <tr>\n",
       "      <th>0</th>\n",
       "      <td>Auburn</td>\n",
       "      <td>192</td>\n",
       "    </tr>\n",
       "    <tr>\n",
       "      <th>1</th>\n",
       "      <td>Bellevue</td>\n",
       "      <td>273</td>\n",
       "    </tr>\n",
       "    <tr>\n",
       "      <th>2</th>\n",
       "      <td>Bothell Canyon Park</td>\n",
       "      <td>69</td>\n",
       "    </tr>\n",
       "    <tr>\n",
       "      <th>3</th>\n",
       "      <td>Bremerton</td>\n",
       "      <td>168</td>\n",
       "    </tr>\n",
       "    <tr>\n",
       "      <th>4</th>\n",
       "      <td>Burien</td>\n",
       "      <td>176</td>\n",
       "    </tr>\n",
       "    <tr>\n",
       "      <th>5</th>\n",
       "      <td>Everett</td>\n",
       "      <td>161</td>\n",
       "    </tr>\n",
       "    <tr>\n",
       "      <th>6</th>\n",
       "      <td>Federal Way</td>\n",
       "      <td>134</td>\n",
       "    </tr>\n",
       "    <tr>\n",
       "      <th>7</th>\n",
       "      <td>Greater Downtown Kirkland</td>\n",
       "      <td>167</td>\n",
       "    </tr>\n",
       "    <tr>\n",
       "      <th>8</th>\n",
       "      <td>Issaquah</td>\n",
       "      <td>NaN</td>\n",
       "    </tr>\n",
       "    <tr>\n",
       "      <th>9</th>\n",
       "      <td>Kent</td>\n",
       "      <td>214</td>\n",
       "    </tr>\n",
       "    <tr>\n",
       "      <th>10</th>\n",
       "      <td>Kirkland Totem Lake</td>\n",
       "      <td>124</td>\n",
       "    </tr>\n",
       "    <tr>\n",
       "      <th>11</th>\n",
       "      <td>Lakewood</td>\n",
       "      <td>123</td>\n",
       "    </tr>\n",
       "    <tr>\n",
       "      <th>12</th>\n",
       "      <td>Lynnwood</td>\n",
       "      <td>139</td>\n",
       "    </tr>\n",
       "    <tr>\n",
       "      <th>13</th>\n",
       "      <td>Not in RGC</td>\n",
       "      <td>100</td>\n",
       "    </tr>\n",
       "    <tr>\n",
       "      <th>14</th>\n",
       "      <td>Puyallup Downtown</td>\n",
       "      <td>183</td>\n",
       "    </tr>\n",
       "    <tr>\n",
       "      <th>15</th>\n",
       "      <td>Puyallup South Hill</td>\n",
       "      <td>65</td>\n",
       "    </tr>\n",
       "    <tr>\n",
       "      <th>16</th>\n",
       "      <td>Redmond Downtown</td>\n",
       "      <td>223</td>\n",
       "    </tr>\n",
       "    <tr>\n",
       "      <th>17</th>\n",
       "      <td>Redmond-Overlake</td>\n",
       "      <td>159</td>\n",
       "    </tr>\n",
       "    <tr>\n",
       "      <th>18</th>\n",
       "      <td>Renton</td>\n",
       "      <td>199</td>\n",
       "    </tr>\n",
       "    <tr>\n",
       "      <th>19</th>\n",
       "      <td>SeaTac</td>\n",
       "      <td>109</td>\n",
       "    </tr>\n",
       "    <tr>\n",
       "      <th>20</th>\n",
       "      <td>Seattle Downtown</td>\n",
       "      <td>419</td>\n",
       "    </tr>\n",
       "    <tr>\n",
       "      <th>21</th>\n",
       "      <td>Seattle First Hill/Capitol Hill</td>\n",
       "      <td>405</td>\n",
       "    </tr>\n",
       "    <tr>\n",
       "      <th>22</th>\n",
       "      <td>Seattle Northgate</td>\n",
       "      <td>175</td>\n",
       "    </tr>\n",
       "    <tr>\n",
       "      <th>23</th>\n",
       "      <td>Seattle South Lake Union</td>\n",
       "      <td>356</td>\n",
       "    </tr>\n",
       "    <tr>\n",
       "      <th>24</th>\n",
       "      <td>Seattle University Community</td>\n",
       "      <td>284</td>\n",
       "    </tr>\n",
       "    <tr>\n",
       "      <th>25</th>\n",
       "      <td>Seattle Uptown</td>\n",
       "      <td>281</td>\n",
       "    </tr>\n",
       "    <tr>\n",
       "      <th>26</th>\n",
       "      <td>Silverdale</td>\n",
       "      <td>77</td>\n",
       "    </tr>\n",
       "    <tr>\n",
       "      <th>27</th>\n",
       "      <td>Tacoma Downtown</td>\n",
       "      <td>203</td>\n",
       "    </tr>\n",
       "    <tr>\n",
       "      <th>28</th>\n",
       "      <td>Tacoma Mall</td>\n",
       "      <td>103</td>\n",
       "    </tr>\n",
       "    <tr>\n",
       "      <th>29</th>\n",
       "      <td>Tukwila</td>\n",
       "      <td>114</td>\n",
       "    </tr>\n",
       "    <tr>\n",
       "      <th>30</th>\n",
       "      <td>University Place</td>\n",
       "      <td>109</td>\n",
       "    </tr>\n",
       "  </tbody>\n",
       "</table>\n",
       "</div>"
      ],
      "text/plain": [
       "                   GrowthCenterName  Intersections\n",
       "0                            Auburn            192\n",
       "1                          Bellevue            273\n",
       "2               Bothell Canyon Park             69\n",
       "3                         Bremerton            168\n",
       "4                            Burien            176\n",
       "5                           Everett            161\n",
       "6                       Federal Way            134\n",
       "7         Greater Downtown Kirkland            167\n",
       "8                          Issaquah            NaN\n",
       "9                              Kent            214\n",
       "10              Kirkland Totem Lake            124\n",
       "11                         Lakewood            123\n",
       "12                         Lynnwood            139\n",
       "13                       Not in RGC            100\n",
       "14                Puyallup Downtown            183\n",
       "15              Puyallup South Hill             65\n",
       "16                 Redmond Downtown            223\n",
       "17                 Redmond-Overlake            159\n",
       "18                           Renton            199\n",
       "19                           SeaTac            109\n",
       "20                 Seattle Downtown            419\n",
       "21  Seattle First Hill/Capitol Hill            405\n",
       "22                Seattle Northgate            175\n",
       "23         Seattle South Lake Union            356\n",
       "24     Seattle University Community            284\n",
       "25                   Seattle Uptown            281\n",
       "26                       Silverdale             77\n",
       "27                  Tacoma Downtown            203\n",
       "28                      Tacoma Mall            103\n",
       "29                          Tukwila            114\n",
       "30                 University Place            109"
      ]
     },
     "execution_count": 30,
     "metadata": {},
     "output_type": "execute_result"
    }
   ],
   "source": [
    "df['intersections_wt'] = df['intersections']*df['hh_p']\n",
    "_df = df.groupby('GrowthCenterName')[['intersections_wt', 'hh_p']].sum().reset_index()\n",
    "_df['Intersections'] = _df['intersections_wt']/_df['hh_p']\n",
    "_df[['GrowthCenterName', 'Intersections']]"
   ]
  },
  {
   "cell_type": "raw",
   "id": "856cf708",
   "metadata": {},
   "source": [
    "### Equity Geography"
   ]
  },
  {
   "cell_type": "code",
   "execution_count": 31,
   "id": "bdb86c3d",
   "metadata": {
    "execution": {
     "iopub.execute_input": "2025-05-06T19:53:00.006118Z",
     "iopub.status.busy": "2025-05-06T19:53:00.006118Z",
     "iopub.status.idle": "2025-05-06T19:53:00.011372Z",
     "shell.execute_reply": "2025-05-06T19:53:00.010369Z"
    }
   },
   "outputs": [],
   "source": [
    "# col = 'youth_geog_vs_reg_total'\n",
    "# df['intersections_wt'] = df['intersections']*df['hh_p']\n",
    "# _df = pd.DataFrame(df.groupby(col).sum()['intersections_wt']/df.groupby(col).sum()['hh_p'])"
   ]
  },
  {
   "cell_type": "code",
   "execution_count": 32,
   "id": "6de561a6",
   "metadata": {
    "execution": {
     "iopub.execute_input": "2025-05-06T19:53:00.016358Z",
     "iopub.status.busy": "2025-05-06T19:53:00.015363Z",
     "iopub.status.idle": "2025-05-06T19:53:00.091747Z",
     "shell.execute_reply": "2025-05-06T19:53:00.090744Z"
    }
   },
   "outputs": [
    {
     "data": {
      "text/html": [
       "<div>\n",
       "<style scoped>\n",
       "    .dataframe tbody tr th:only-of-type {\n",
       "        vertical-align: middle;\n",
       "    }\n",
       "\n",
       "    .dataframe tbody tr th {\n",
       "        vertical-align: top;\n",
       "    }\n",
       "\n",
       "    .dataframe thead th {\n",
       "        text-align: right;\n",
       "    }\n",
       "</style>\n",
       "<table border=\"1\" class=\"dataframe\">\n",
       "  <thead>\n",
       "    <tr style=\"text-align: right;\">\n",
       "      <th></th>\n",
       "      <th>youth_geog_vs_reg_total</th>\n",
       "      <th>Intersections</th>\n",
       "    </tr>\n",
       "  </thead>\n",
       "  <tbody>\n",
       "    <tr>\n",
       "      <th>0</th>\n",
       "      <td>-1</td>\n",
       "      <td>NaN</td>\n",
       "    </tr>\n",
       "    <tr>\n",
       "      <th>1</th>\n",
       "      <td>0</td>\n",
       "      <td>152</td>\n",
       "    </tr>\n",
       "    <tr>\n",
       "      <th>2</th>\n",
       "      <td>1</td>\n",
       "      <td>78</td>\n",
       "    </tr>\n",
       "  </tbody>\n",
       "</table>\n",
       "</div>"
      ],
      "text/plain": [
       "   youth_geog_vs_reg_total  Intersections\n",
       "0                       -1            NaN\n",
       "1                        0            152\n",
       "2                        1             78"
      ]
     },
     "execution_count": 32,
     "metadata": {},
     "output_type": "execute_result"
    }
   ],
   "source": [
    "col = 'youth_geog_vs_reg_total'\n",
    "df['intersections_wt'] = df['intersections']*df['hh_p']\n",
    "_df = df.groupby(col)[['intersections_wt', 'hh_p']].sum().reset_index()\n",
    "_df['Intersections'] = _df['intersections_wt']/_df['hh_p']\n",
    "_df[[col, 'Intersections']]"
   ]
  },
  {
   "cell_type": "code",
   "execution_count": 33,
   "id": "b01cd4c2",
   "metadata": {
    "execution": {
     "iopub.execute_input": "2025-05-06T19:53:00.096734Z",
     "iopub.status.busy": "2025-05-06T19:53:00.096734Z",
     "iopub.status.idle": "2025-05-06T19:53:00.102699Z",
     "shell.execute_reply": "2025-05-06T19:53:00.101697Z"
    }
   },
   "outputs": [],
   "source": [
    "# population weighted measure\n",
    "# needs to be refactored\n",
    "# results_df = pd.DataFrame()\n",
    "# for col in geo_list:\n",
    "#     df['intersections_wt'] = df['intersections']*df['hh_p']\n",
    "#     _df = pd.DataFrame(df.groupby(col).sum()['intersections_wt']/df.groupby(col).sum()['hh_p'])\n",
    "#     try:\n",
    "#         results_df[col] = _df.loc[1]\n",
    "#     except:\n",
    "#         next\n",
    "# results_df = results_df.T\n",
    "# results_df.columns = ['Intersections']\n",
    "# results_df"
   ]
  },
  {
   "cell_type": "code",
   "execution_count": 34,
   "id": "fcfe7d03",
   "metadata": {
    "execution": {
     "iopub.execute_input": "2025-05-06T19:53:00.107688Z",
     "iopub.status.busy": "2025-05-06T19:53:00.106690Z",
     "iopub.status.idle": "2025-05-06T19:53:00.113022Z",
     "shell.execute_reply": "2025-05-06T19:53:00.112018Z"
    }
   },
   "outputs": [],
   "source": [
    "# population weighted measure\n",
    "# needs to be refactored\n",
    "\n",
    "# results_df = pd.DataFrame()\n",
    "# for col in geo_list:\n",
    "#     df['intersections_wt'] = df['intersections']*df['hh_p']\n",
    "#     _df = pd.DataFrame(df.groupby(col).sum()['intersections_wt']/df.groupby(col).sum()['hh_p'])\n",
    "#     results_df[col] = _df.loc[0]\n",
    "# results_df = results_df.T\n",
    "# results_df.columns = ['Intersections']\n",
    "# results_df.index = ['NOT in '+ i for i in results_df.index]\n",
    "# results_df"
   ]
  },
  {
   "cell_type": "raw",
   "id": "26c35d60",
   "metadata": {
    "vscode": {
     "languageId": "raw"
    }
   },
   "source": [
    ":::"
   ]
  }
 ],
 "metadata": {
  "kernelspec": {
   "display_name": "summary",
   "language": "python",
   "name": "python3"
  },
  "language_info": {
   "codemirror_mode": {
    "name": "ipython",
    "version": 3
   },
   "file_extension": ".py",
   "mimetype": "text/x-python",
   "name": "python",
   "nbconvert_exporter": "python",
   "pygments_lexer": "ipython3",
   "version": "3.11.0"
  }
 },
 "nbformat": 4,
 "nbformat_minor": 5
}
