{
 "cells": [
  {
   "cell_type": "raw",
   "id": "35d0934ac2ce2456",
   "metadata": {},
   "source": [
    "---\n",
    "title: \"Traffic Summary\"\n",
    "date: today\n",
    "---"
   ]
  },
  {
   "cell_type": "code",
   "execution_count": 1,
   "id": "3c1a81e12086b602",
   "metadata": {
    "ExecuteTime": {
     "end_time": "2024-06-24T21:13:24.907193Z",
     "start_time": "2024-06-24T21:13:21.750667Z"
    },
    "execution": {
     "iopub.execute_input": "2024-06-24T21:55:40.573343Z",
     "iopub.status.busy": "2024-06-24T21:55:40.573343Z",
     "iopub.status.idle": "2024-06-24T21:55:44.494756Z",
     "shell.execute_reply": "2024-06-24T21:55:44.494756Z"
    }
   },
   "outputs": [],
   "source": [
    "import os\n",
    "import pandas as pd\n",
    "import numpy as np\n",
    "import h5py\n",
    "from sqlalchemy import create_engine\n",
    "from scipy import stats\n",
    "import plotly.express as px\n",
    "import toml\n",
    "import psrc_theme\n",
    "\n",
    "%matplotlib inline\n",
    "from IPython.display import display, HTML\n",
    "\n",
    "# to show plotly figures in quarto HTML file\n",
    "import plotly.io as pio\n",
    "pio.renderers.default = \"plotly_mimetype+notebook_connected\"\n",
    "pio.templates.default = \"simple_white+psrc_color\" # set plotly template\n",
    "\n",
    "input_config = toml.load(os.path.join(os.getcwd(), '..\\\\..\\\\..\\\\..\\\\configuration', 'input_configuration.toml'))\n",
    "valid_config = toml.load(os.path.join(os.getcwd(), '..\\\\..\\\\..\\\\..\\\\configuration', 'validation_configuration.toml'))\n",
    "emme_config = toml.load(os.path.join(os.getcwd(), '..\\\\..\\\\..\\\\..\\\\configuration','emme_configuration.toml'))\n",
    "network_config = toml.load(os.path.join(os.getcwd(), '..\\\\..\\\\..\\\\..\\\\configuration','network_configuration.toml'))\n",
    "\n",
    "# create connection\n",
    "conn = create_engine('sqlite:///../../../../inputs/db/'+input_config['db_name'])\n",
    "\n",
    "# summary data location\n",
    "csv_path = os.path.join(valid_config['model_dir'], 'outputs/validation')\n",
    "\n",
    "# table format\n",
    "pd.options.display.float_format = '{:0,.0f}'.format\n",
    "format_percent = \"{:,.1%}\".format"
   ]
  },
  {
   "cell_type": "markdown",
   "id": "fa9bc0cb",
   "metadata": {},
   "source": [
    "## VMT"
   ]
  },
  {
   "cell_type": "raw",
   "id": "b1e21be6",
   "metadata": {},
   "source": [
    ":::{.panel-tabset}\n",
    "### VMT\n",
    "VMT for model links, including some externals that cross outside region"
   ]
  },
  {
   "cell_type": "code",
   "execution_count": 2,
   "id": "75471d8c",
   "metadata": {},
   "outputs": [
    {
     "data": {
      "text/html": [
       "<div>\n",
       "<style scoped>\n",
       "    .dataframe tbody tr th:only-of-type {\n",
       "        vertical-align: middle;\n",
       "    }\n",
       "\n",
       "    .dataframe tbody tr th {\n",
       "        vertical-align: top;\n",
       "    }\n",
       "\n",
       "    .dataframe thead th {\n",
       "        text-align: right;\n",
       "    }\n",
       "</style>\n",
       "<table border=\"1\" class=\"dataframe\">\n",
       "  <thead>\n",
       "    <tr style=\"text-align: right;\">\n",
       "      <th></th>\n",
       "      <th>VMT</th>\n",
       "      <th>VHT</th>\n",
       "      <th>delay</th>\n",
       "    </tr>\n",
       "    <tr>\n",
       "      <th>county_name</th>\n",
       "      <th></th>\n",
       "      <th></th>\n",
       "      <th></th>\n",
       "    </tr>\n",
       "  </thead>\n",
       "  <tbody>\n",
       "    <tr>\n",
       "      <th>King</th>\n",
       "      <td>43,334,726</td>\n",
       "      <td>1,367,541</td>\n",
       "      <td>156,356</td>\n",
       "    </tr>\n",
       "    <tr>\n",
       "      <th>Kitsap</th>\n",
       "      <td>4,262,157</td>\n",
       "      <td>125,584</td>\n",
       "      <td>2,385</td>\n",
       "    </tr>\n",
       "    <tr>\n",
       "      <th>Outside Region</th>\n",
       "      <td>332,474</td>\n",
       "      <td>6,409</td>\n",
       "      <td>2</td>\n",
       "    </tr>\n",
       "    <tr>\n",
       "      <th>Pierce</th>\n",
       "      <td>18,600,424</td>\n",
       "      <td>566,293</td>\n",
       "      <td>43,954</td>\n",
       "    </tr>\n",
       "    <tr>\n",
       "      <th>Snohomish</th>\n",
       "      <td>16,426,449</td>\n",
       "      <td>487,848</td>\n",
       "      <td>34,755</td>\n",
       "    </tr>\n",
       "    <tr>\n",
       "      <th>Total</th>\n",
       "      <td>82,956,230</td>\n",
       "      <td>2,553,675</td>\n",
       "      <td>237,452</td>\n",
       "    </tr>\n",
       "  </tbody>\n",
       "</table>\n",
       "</div>"
      ],
      "text/plain": [
       "                      VMT       VHT   delay\n",
       "county_name                                \n",
       "King           43,334,726 1,367,541 156,356\n",
       "Kitsap          4,262,157   125,584   2,385\n",
       "Outside Region    332,474     6,409       2\n",
       "Pierce         18,600,424   566,293  43,954\n",
       "Snohomish      16,426,449   487,848  34,755\n",
       "Total          82,956,230 2,553,675 237,452"
      ]
     },
     "execution_count": 2,
     "metadata": {},
     "output_type": "execute_result"
    }
   ],
   "source": [
    "df = pd.read_csv(os.path.join(valid_config['model_dir'], r'outputs/network/county_network.csv'))\n",
    "df.index = df.county_name\n",
    "df.loc['Total',:] = df.sum().values\n",
    "df = df[['VMT','VHT','delay']]\n",
    "df"
   ]
  },
  {
   "cell_type": "raw",
   "id": "3354f05c",
   "metadata": {},
   "source": [
    "Model VMT versus county-level HPMS data"
   ]
  },
  {
   "cell_type": "code",
   "execution_count": 3,
   "id": "f0081206",
   "metadata": {},
   "outputs": [
    {
     "data": {
      "text/html": [
       "<div>\n",
       "<style scoped>\n",
       "    .dataframe tbody tr th:only-of-type {\n",
       "        vertical-align: middle;\n",
       "    }\n",
       "\n",
       "    .dataframe tbody tr th {\n",
       "        vertical-align: top;\n",
       "    }\n",
       "\n",
       "    .dataframe thead th {\n",
       "        text-align: right;\n",
       "    }\n",
       "</style>\n",
       "<table border=\"1\" class=\"dataframe\">\n",
       "  <thead>\n",
       "    <tr style=\"text-align: right;\">\n",
       "      <th></th>\n",
       "      <th>model</th>\n",
       "      <th>observed</th>\n",
       "      <th>% diff</th>\n",
       "    </tr>\n",
       "    <tr>\n",
       "      <th>county</th>\n",
       "      <th></th>\n",
       "      <th></th>\n",
       "      <th></th>\n",
       "    </tr>\n",
       "  </thead>\n",
       "  <tbody>\n",
       "    <tr>\n",
       "      <th>King</th>\n",
       "      <td>43,334,726</td>\n",
       "      <td>43,820,112</td>\n",
       "      <td>-1.1%</td>\n",
       "    </tr>\n",
       "    <tr>\n",
       "      <th>Kitsap</th>\n",
       "      <td>4,262,157</td>\n",
       "      <td>4,840,030</td>\n",
       "      <td>-11.9%</td>\n",
       "    </tr>\n",
       "    <tr>\n",
       "      <th>Pierce</th>\n",
       "      <td>18,600,424</td>\n",
       "      <td>17,994,803</td>\n",
       "      <td>3.4%</td>\n",
       "    </tr>\n",
       "    <tr>\n",
       "      <th>Snohomish</th>\n",
       "      <td>16,426,449</td>\n",
       "      <td>15,825,794</td>\n",
       "      <td>3.8%</td>\n",
       "    </tr>\n",
       "    <tr>\n",
       "      <th>Total</th>\n",
       "      <td>82,623,756</td>\n",
       "      <td>82,480,739</td>\n",
       "      <td>0.2%</td>\n",
       "    </tr>\n",
       "  </tbody>\n",
       "</table>\n",
       "</div>"
      ],
      "text/plain": [
       "               model   observed  % diff\n",
       "county                                 \n",
       "King      43,334,726 43,820,112   -1.1%\n",
       "Kitsap     4,262,157  4,840,030  -11.9%\n",
       "Pierce    18,600,424 17,994,803    3.4%\n",
       "Snohomish 16,426,449 15,825,794    3.8%\n",
       "Total     82,623,756 82,480,739    0.2%"
      ]
     },
     "execution_count": 3,
     "metadata": {},
     "output_type": "execute_result"
    }
   ],
   "source": [
    "df = pd.read_csv(os.path.join(valid_config['model_dir'], r'outputs/network/county_network.csv'))\n",
    "\n",
    "df_obs = pd.read_sql(\"SELECT * FROM observed_vmt WHERE year=\"+str(input_config['base_year']), con=conn)\n",
    "df_obs.rename(columns={'vmt': 'observed'}, inplace=True)\n",
    "\n",
    "df = df[['county_name','VMT']].merge(df_obs, left_on='county_name', right_on='county')\n",
    "df.rename(columns={'VMT': 'model'}, inplace=True)\n",
    "df.index = df['county']\n",
    "df[['observed','model']] = df[['observed','model']].astype('float')\n",
    "\n",
    "df.loc['Total',:] = df.sum().values\n",
    "\n",
    "df['% diff'] = (df['model']-df['observed'])/df['observed']\n",
    "df[['% diff']] = df[['% diff']].applymap(format_percent)\n",
    "df[['model','observed','% diff']]"
   ]
  },
  {
   "cell_type": "raw",
   "id": "12e1740a",
   "metadata": {},
   "source": [
    ":::"
   ]
  },
  {
   "cell_type": "markdown",
   "id": "916da9b1c4cbd6da",
   "metadata": {},
   "source": [
    "## Daily Traffic Counts"
   ]
  },
  {
   "cell_type": "raw",
   "id": "9ab84874b18330bc",
   "metadata": {},
   "source": [
    ":::{.panel-tabset}\n",
    "### traffic by facility type"
   ]
  },
  {
   "cell_type": "code",
   "execution_count": 4,
   "id": "3d0602498872d993",
   "metadata": {
    "ExecuteTime": {
     "end_time": "2024-06-24T21:13:27.250795Z",
     "start_time": "2024-06-24T21:13:26.984996Z"
    },
    "execution": {
     "iopub.execute_input": "2024-06-24T21:55:44.494756Z",
     "iopub.status.busy": "2024-06-24T21:55:44.494756Z",
     "iopub.status.idle": "2024-06-24T21:55:44.713484Z",
     "shell.execute_reply": "2024-06-24T21:55:44.713484Z"
    }
   },
   "outputs": [
    {
     "data": {
      "text/html": [
       "<div>\n",
       "<style scoped>\n",
       "    .dataframe tbody tr th:only-of-type {\n",
       "        vertical-align: middle;\n",
       "    }\n",
       "\n",
       "    .dataframe tbody tr th {\n",
       "        vertical-align: top;\n",
       "    }\n",
       "\n",
       "    .dataframe thead th {\n",
       "        text-align: right;\n",
       "    }\n",
       "</style>\n",
       "<table border=\"1\" class=\"dataframe\">\n",
       "  <thead>\n",
       "    <tr style=\"text-align: right;\">\n",
       "      <th></th>\n",
       "      <th>observed</th>\n",
       "      <th>modeled</th>\n",
       "      <th>diff</th>\n",
       "      <th>percent_diff</th>\n",
       "    </tr>\n",
       "    <tr>\n",
       "      <th>@facilitytype</th>\n",
       "      <th></th>\n",
       "      <th></th>\n",
       "      <th></th>\n",
       "      <th></th>\n",
       "    </tr>\n",
       "  </thead>\n",
       "  <tbody>\n",
       "    <tr>\n",
       "      <th>Arterial</th>\n",
       "      <td>13,095,011</td>\n",
       "      <td>13,543,142</td>\n",
       "      <td>448,131</td>\n",
       "      <td>3.4%</td>\n",
       "    </tr>\n",
       "    <tr>\n",
       "      <th>Collector</th>\n",
       "      <td>72,096</td>\n",
       "      <td>73,563</td>\n",
       "      <td>1,467</td>\n",
       "      <td>2.0%</td>\n",
       "    </tr>\n",
       "    <tr>\n",
       "      <th>Freeway</th>\n",
       "      <td>46,403,290</td>\n",
       "      <td>44,692,035</td>\n",
       "      <td>-1,711,255</td>\n",
       "      <td>-3.7%</td>\n",
       "    </tr>\n",
       "    <tr>\n",
       "      <th>HOV</th>\n",
       "      <td>246,054</td>\n",
       "      <td>273,418</td>\n",
       "      <td>27,364</td>\n",
       "      <td>11.1%</td>\n",
       "    </tr>\n",
       "    <tr>\n",
       "      <th>Ramp</th>\n",
       "      <td>334,132</td>\n",
       "      <td>255,819</td>\n",
       "      <td>-78,313</td>\n",
       "      <td>-23.4%</td>\n",
       "    </tr>\n",
       "    <tr>\n",
       "      <th>Total</th>\n",
       "      <td>60,150,583</td>\n",
       "      <td>58,837,977</td>\n",
       "      <td>-1,312,606</td>\n",
       "      <td>-2.2%</td>\n",
       "    </tr>\n",
       "  </tbody>\n",
       "</table>\n",
       "</div>"
      ],
      "text/plain": [
       "                observed    modeled       diff percent_diff\n",
       "@facilitytype                                              \n",
       "Arterial      13,095,011 13,543,142    448,131         3.4%\n",
       "Collector         72,096     73,563      1,467         2.0%\n",
       "Freeway       46,403,290 44,692,035 -1,711,255        -3.7%\n",
       "HOV              246,054    273,418     27,364        11.1%\n",
       "Ramp             334,132    255,819    -78,313       -23.4%\n",
       "Total         60,150,583 58,837,977 -1,312,606        -2.2%"
      ]
     },
     "execution_count": 4,
     "metadata": {},
     "output_type": "execute_result"
    }
   ],
   "source": [
    "df = pd.read_csv(os.path.join(csv_path, 'daily_volume.csv'))\n",
    "df[['modeled', 'observed']] = df[['modeled', 'observed']].astype('float')\n",
    "_df = df.groupby('@facilitytype').sum()[['observed', 'modeled']]\n",
    "_df.loc['Total', :] = _df.sum().values\n",
    "_df['diff'] = _df['modeled'] - _df['observed']\n",
    "_df['percent_diff'] = _df['diff'] / _df['observed']\n",
    "_df[['percent_diff']] = _df[['percent_diff']].applymap(format_percent)\n",
    "_df"
   ]
  },
  {
   "cell_type": "raw",
   "id": "318ed515b29396d1",
   "metadata": {},
   "source": [
    "### traffic by county"
   ]
  },
  {
   "cell_type": "code",
   "execution_count": 5,
   "id": "a9e08108f2b1ff34",
   "metadata": {
    "ExecuteTime": {
     "end_time": "2024-06-24T21:14:07.016217Z",
     "start_time": "2024-06-24T21:14:06.922235Z"
    },
    "execution": {
     "iopub.execute_input": "2024-06-24T21:55:44.713484Z",
     "iopub.status.busy": "2024-06-24T21:55:44.713484Z",
     "iopub.status.idle": "2024-06-24T21:55:44.776571Z",
     "shell.execute_reply": "2024-06-24T21:55:44.776571Z"
    }
   },
   "outputs": [
    {
     "data": {
      "text/html": [
       "<div>\n",
       "<style scoped>\n",
       "    .dataframe tbody tr th:only-of-type {\n",
       "        vertical-align: middle;\n",
       "    }\n",
       "\n",
       "    .dataframe tbody tr th {\n",
       "        vertical-align: top;\n",
       "    }\n",
       "\n",
       "    .dataframe thead th {\n",
       "        text-align: right;\n",
       "    }\n",
       "</style>\n",
       "<table border=\"1\" class=\"dataframe\">\n",
       "  <thead>\n",
       "    <tr style=\"text-align: right;\">\n",
       "      <th></th>\n",
       "      <th>observed</th>\n",
       "      <th>modeled</th>\n",
       "      <th>diff</th>\n",
       "      <th>percent_diff</th>\n",
       "    </tr>\n",
       "    <tr>\n",
       "      <th>county</th>\n",
       "      <th></th>\n",
       "      <th></th>\n",
       "      <th></th>\n",
       "      <th></th>\n",
       "    </tr>\n",
       "  </thead>\n",
       "  <tbody>\n",
       "    <tr>\n",
       "      <th>King</th>\n",
       "      <td>32,134,196</td>\n",
       "      <td>32,222,198</td>\n",
       "      <td>88,002</td>\n",
       "      <td>0.3%</td>\n",
       "    </tr>\n",
       "    <tr>\n",
       "      <th>Kitsap</th>\n",
       "      <td>3,636,120</td>\n",
       "      <td>2,761,648</td>\n",
       "      <td>-874,472</td>\n",
       "      <td>-24.0%</td>\n",
       "    </tr>\n",
       "    <tr>\n",
       "      <th>Pierce</th>\n",
       "      <td>12,521,561</td>\n",
       "      <td>12,555,164</td>\n",
       "      <td>33,603</td>\n",
       "      <td>0.3%</td>\n",
       "    </tr>\n",
       "    <tr>\n",
       "      <th>Snohomish</th>\n",
       "      <td>11,858,706</td>\n",
       "      <td>11,298,967</td>\n",
       "      <td>-559,739</td>\n",
       "      <td>-4.7%</td>\n",
       "    </tr>\n",
       "    <tr>\n",
       "      <th>Total</th>\n",
       "      <td>60,150,583</td>\n",
       "      <td>58,837,977</td>\n",
       "      <td>-1,312,606</td>\n",
       "      <td>-2.2%</td>\n",
       "    </tr>\n",
       "  </tbody>\n",
       "</table>\n",
       "</div>"
      ],
      "text/plain": [
       "            observed    modeled       diff percent_diff\n",
       "county                                                 \n",
       "King      32,134,196 32,222,198     88,002         0.3%\n",
       "Kitsap     3,636,120  2,761,648   -874,472       -24.0%\n",
       "Pierce    12,521,561 12,555,164     33,603         0.3%\n",
       "Snohomish 11,858,706 11,298,967   -559,739        -4.7%\n",
       "Total     60,150,583 58,837,977 -1,312,606        -2.2%"
      ]
     },
     "execution_count": 5,
     "metadata": {},
     "output_type": "execute_result"
    }
   ],
   "source": [
    "df = pd.read_csv(os.path.join(csv_path,'daily_volume_county_facility.csv'))\n",
    "df[['modeled','observed']] = df[['modeled','observed']].astype('float')\n",
    "\n",
    "_df = df.groupby('county').sum()[['observed','modeled']]\n",
    "_df.loc['Total',:] = _df.sum().values\n",
    "_df['diff'] = _df['modeled']-_df['observed']\n",
    "_df['percent_diff'] = _df['diff']/_df['observed']\n",
    "_df[['percent_diff']] = _df[['percent_diff']].applymap(format_percent)\n",
    "_df"
   ]
  },
  {
   "cell_type": "raw",
   "id": "4cbb7796cba1fac",
   "metadata": {},
   "source": [
    ":::"
   ]
  },
  {
   "cell_type": "markdown",
   "id": "1ed4a57b3001060f",
   "metadata": {},
   "source": [
    "## Daily Traffic Scatterplot"
   ]
  },
  {
   "cell_type": "raw",
   "id": "4769a675e263f0c4",
   "metadata": {},
   "source": [
    ":::{.panel-tabset}\n",
    "\n",
    "### all roads"
   ]
  },
  {
   "cell_type": "code",
   "execution_count": 6,
   "id": "2030adc6c52f8ab9",
   "metadata": {
    "ExecuteTime": {
     "end_time": "2024-06-24T21:40:18.699723Z",
     "start_time": "2024-06-24T21:40:18.277822Z"
    },
    "execution": {
     "iopub.execute_input": "2024-06-24T21:55:44.776571Z",
     "iopub.status.busy": "2024-06-24T21:55:44.776571Z",
     "iopub.status.idle": "2024-06-24T21:55:45.353957Z",
     "shell.execute_reply": "2024-06-24T21:55:45.353957Z"
    }
   },
   "outputs": [
    {
     "data": {
      "text/plain": [
       "[<matplotlib.lines.Line2D at 0x18f147bfc08>]"
      ]
     },
     "execution_count": 6,
     "metadata": {},
     "output_type": "execute_result"
    },
    {
     "data": {
      "image/png": "[encoded data removed]",
      "text/plain": [
       "<Figure size 432x288 with 1 Axes>"
      ]
     },
     "metadata": {
      "needs_background": "light"
     },
     "output_type": "display_data"
    }
   ],
   "source": [
    "df = pd.read_csv(os.path.join(csv_path,'daily_volume.csv'))\n",
    "ax = df.plot(kind='scatter', x='observed', y='modeled')\n",
    "lim = df[['observed','modeled']].max().max()*1.05\n",
    "ax.set_ylim(0,lim)\n",
    "ax.set_xlim(0,lim)\n",
    "x = np.linspace(*ax.get_xlim())\n",
    "ax.plot(x, x)"
   ]
  },
  {
   "cell_type": "code",
   "execution_count": 7,
   "id": "4121d8204203b7a1",
   "metadata": {
    "ExecuteTime": {
     "end_time": "2024-06-24T21:40:35.668359Z",
     "start_time": "2024-06-24T21:40:35.652845Z"
    },
    "execution": {
     "iopub.execute_input": "2024-06-24T21:55:45.370254Z",
     "iopub.status.busy": "2024-06-24T21:55:45.369735Z",
     "iopub.status.idle": "2024-06-24T21:55:45.400891Z",
     "shell.execute_reply": "2024-06-24T21:55:45.400891Z"
    }
   },
   "outputs": [
    {
     "name": "stdout",
     "output_type": "stream",
     "text": [
      "r^2: 0.961012196705784\n"
     ]
    }
   ],
   "source": [
    "slope, intercept, r_value, p_value, std_err = stats.linregress(df['observed'],df['modeled'])\n",
    "print('r^2: ' + str(r_value))"
   ]
  },
  {
   "cell_type": "raw",
   "id": "1cf84d74ba6e5dcb",
   "metadata": {},
   "source": [
    "### by county"
   ]
  },
  {
   "cell_type": "code",
   "execution_count": 8,
   "id": "ed6c7a6a78b76539",
   "metadata": {
    "ExecuteTime": {
     "end_time": "2024-06-24T21:41:13.949480Z",
     "start_time": "2024-06-24T21:41:13.122059Z"
    },
    "execution": {
     "iopub.execute_input": "2024-06-24T21:55:45.400891Z",
     "iopub.status.busy": "2024-06-24T21:55:45.400891Z",
     "iopub.status.idle": "2024-06-24T21:55:46.932020Z",
     "shell.execute_reply": "2024-06-24T21:55:46.932020Z"
    }
   },
   "outputs": [
    {
     "name": "stdout",
     "output_type": "stream",
     "text": [
      "King r^2: 0.9609991204003623\n",
      "Kitsap r^2: 0.9638882786261542\n",
      "Pierce r^2: 0.9643623080107435\n",
      "Snohomish r^2: 0.9538346349133157\n"
     ]
    },
    {
     "data": {
      "image/png": "[encoded data removed]",
      "text/plain": [
       "<Figure size 432x288 with 1 Axes>"
      ]
     },
     "metadata": {
      "needs_background": "light"
     },
     "output_type": "display_data"
    },
    {
     "data": {
      "image/png": "[encoded data removed]",
      "text/plain": [
       "<Figure size 432x288 with 1 Axes>"
      ]
     },
     "metadata": {
      "needs_background": "light"
     },
     "output_type": "display_data"
    },
    {
     "data": {
      "image/png": "[encoded data removed]",
      "text/plain": [
       "<Figure size 432x288 with 1 Axes>"
      ]
     },
     "metadata": {
      "needs_background": "light"
     },
     "output_type": "display_data"
    },
    {
     "data": {
      "image/png": "[encoded data removed]",
      "text/plain": [
       "<Figure size 432x288 with 1 Axes>"
      ]
     },
     "metadata": {
      "needs_background": "light"
     },
     "output_type": "display_data"
    }
   ],
   "source": [
    "for county in np.unique(df['county']):\n",
    "    _df = df[df['county'] == county]\n",
    "    ax = _df.plot(kind='scatter', x='observed', y='modeled', label=county)\n",
    "    lim = _df[['observed','modeled']].max().max()*1.05\n",
    "    ax.set_ylim(0,lim)\n",
    "    ax.set_xlim(0,lim)\n",
    "    slope, intercept, r_value, p_value, std_err = stats.linregress(_df['observed'],_df['modeled'])\n",
    "    x = np.linspace(*ax.get_xlim())\n",
    "    ax.plot(x, x)\n",
    "    print(str(county) + ' r^2: ' + str(r_value))"
   ]
  },
  {
   "cell_type": "raw",
   "id": "33fd1eaf4a4116cd",
   "metadata": {},
   "source": [
    "### by facility type"
   ]
  },
  {
   "cell_type": "code",
   "execution_count": 9,
   "id": "d56f85ef",
   "metadata": {},
   "outputs": [
    {
     "data": {
      "text/plain": [
       "array(['Freeway', 'Ramp', 'HOV', 'Arterial', 'Collector'], dtype=object)"
      ]
     },
     "execution_count": 9,
     "metadata": {},
     "output_type": "execute_result"
    }
   ],
   "source": [
    "df['@facilitytype'].unique()"
   ]
  },
  {
   "cell_type": "code",
   "execution_count": 10,
   "id": "4439d4607f364b6d",
   "metadata": {
    "ExecuteTime": {
     "end_time": "2024-06-24T21:41:37.621816Z",
     "start_time": "2024-06-24T21:41:37.152840Z"
    },
    "execution": {
     "iopub.execute_input": "2024-06-24T21:55:46.947599Z",
     "iopub.status.busy": "2024-06-24T21:55:46.947599Z",
     "iopub.status.idle": "2024-06-24T21:55:47.776595Z",
     "shell.execute_reply": "2024-06-24T21:55:47.776595Z"
    }
   },
   "outputs": [
    {
     "name": "stdout",
     "output_type": "stream",
     "text": [
      "r^2 Freeway: 0.9510960405225224\n"
     ]
    },
    {
     "data": {
      "image/png": "[encoded data removed]",
      "text/plain": [
       "<Figure size 432x288 with 1 Axes>"
      ]
     },
     "metadata": {
      "needs_background": "light"
     },
     "output_type": "display_data"
    }
   ],
   "source": [
    "# for factype in ['Freeway','Arterial']:\n",
    "for factype in ['Freeway']:\n",
    "    _df = df[df['@facilitytype'] == factype]\n",
    "    ax = _df.plot(kind='scatter', x='observed', y='modeled', label=factype)\n",
    "    lim = _df[['observed','modeled']].max().max()*1.05\n",
    "    ax.set_ylim(0,lim)\n",
    "    ax.set_xlim(0,lim)\n",
    "    x = np.linspace(*ax.get_xlim())\n",
    "    ax.plot(x, x)\n",
    "    slope, intercept, r_value, p_value, std_err = stats.linregress(_df['observed'],_df['modeled'])\n",
    "    print('r^2 ' + str(factype) + ': ' + str(r_value))"
   ]
  },
  {
   "cell_type": "raw",
   "id": "95fc70f3fe7ad579",
   "metadata": {},
   "source": [
    ":::"
   ]
  },
  {
   "cell_type": "code",
   "execution_count": 11,
   "id": "25272c3f",
   "metadata": {},
   "outputs": [],
   "source": [
    "## hourly volumnes"
   ]
  },
  {
   "cell_type": "code",
   "execution_count": 12,
   "id": "2c7cb227ac728135",
   "metadata": {
    "ExecuteTime": {
     "end_time": "2024-06-24T21:42:50.230565Z",
     "start_time": "2024-06-24T21:42:49.902592Z"
    },
    "execution": {
     "iopub.execute_input": "2024-06-24T21:55:47.791669Z",
     "iopub.status.busy": "2024-06-24T21:55:47.791669Z",
     "iopub.status.idle": "2024-06-24T21:55:48.385801Z",
     "shell.execute_reply": "2024-06-24T21:55:48.385801Z"
    }
   },
   "outputs": [],
   "source": [
    "# df = pd.read_csv(os.path.join(csv_path,'hourly_volume.csv'))\n",
    "# ax = df.plot(kind='scatter', x='observed', y='modeled')\n",
    "# lim = df[['observed','modeled']].max().max()*1.05\n",
    "# ax.set_ylim(0,lim)\n",
    "# ax.set_xlim(0,lim)\n",
    "# x = np.linspace(*ax.get_xlim())\n",
    "# ax.plot(x, x)\n",
    "# slope, intercept, r_value, p_value, std_err = stats.linregress(df['observed'],df['modeled'])\n",
    "# print('r^2: ' + str(r_value))"
   ]
  },
  {
   "cell_type": "markdown",
   "id": "570811475e66e98d",
   "metadata": {},
   "source": [
    "## Screenlines"
   ]
  },
  {
   "cell_type": "code",
   "execution_count": 13,
   "id": "6ee15d11aa23ee15",
   "metadata": {
    "ExecuteTime": {
     "end_time": "2024-06-24T21:43:33.293169Z",
     "start_time": "2024-06-24T21:43:33.194667Z"
    },
    "execution": {
     "iopub.execute_input": "2024-06-24T21:55:48.402354Z",
     "iopub.status.busy": "2024-06-24T21:55:48.402044Z",
     "iopub.status.idle": "2024-06-24T21:55:48.510823Z",
     "shell.execute_reply": "2024-06-24T21:55:48.510203Z"
    }
   },
   "outputs": [
    {
     "data": {
      "text/html": [
       "<div>\n",
       "<style scoped>\n",
       "    .dataframe tbody tr th:only-of-type {\n",
       "        vertical-align: middle;\n",
       "    }\n",
       "\n",
       "    .dataframe tbody tr th {\n",
       "        vertical-align: top;\n",
       "    }\n",
       "\n",
       "    .dataframe thead th {\n",
       "        text-align: right;\n",
       "    }\n",
       "</style>\n",
       "<table border=\"1\" class=\"dataframe\">\n",
       "  <thead>\n",
       "    <tr style=\"text-align: right;\">\n",
       "      <th></th>\n",
       "      <th>name</th>\n",
       "      <th>observed</th>\n",
       "      <th>modeled</th>\n",
       "      <th>county</th>\n",
       "      <th>diff</th>\n",
       "      <th>percent_diff</th>\n",
       "    </tr>\n",
       "  </thead>\n",
       "  <tbody>\n",
       "    <tr>\n",
       "      <th>0</th>\n",
       "      <td>AUBURN - SOUTH KING</td>\n",
       "      <td>592,476</td>\n",
       "      <td>508,558</td>\n",
       "      <td>King</td>\n",
       "      <td>-83,918</td>\n",
       "      <td>-14.2%</td>\n",
       "    </tr>\n",
       "    <tr>\n",
       "      <th>1</th>\n",
       "      <td>KENT</td>\n",
       "      <td>559,335</td>\n",
       "      <td>466,210</td>\n",
       "      <td>King</td>\n",
       "      <td>-93,125</td>\n",
       "      <td>-16.6%</td>\n",
       "    </tr>\n",
       "    <tr>\n",
       "      <th>2</th>\n",
       "      <td>SHIP CANAL</td>\n",
       "      <td>480,070</td>\n",
       "      <td>489,391</td>\n",
       "      <td>King</td>\n",
       "      <td>9,321</td>\n",
       "      <td>1.9%</td>\n",
       "    </tr>\n",
       "    <tr>\n",
       "      <th>3</th>\n",
       "      <td>SEATTLE - SOUTH OF CBD</td>\n",
       "      <td>473,322</td>\n",
       "      <td>460,398</td>\n",
       "      <td>King</td>\n",
       "      <td>-12,924</td>\n",
       "      <td>-2.7%</td>\n",
       "    </tr>\n",
       "    <tr>\n",
       "      <th>4</th>\n",
       "      <td>MILL CREEK</td>\n",
       "      <td>391,447</td>\n",
       "      <td>370,587</td>\n",
       "      <td>King</td>\n",
       "      <td>-20,860</td>\n",
       "      <td>-5.3%</td>\n",
       "    </tr>\n",
       "    <tr>\n",
       "      <th>5</th>\n",
       "      <td>SOUTH BELLEVUE</td>\n",
       "      <td>389,700</td>\n",
       "      <td>360,642</td>\n",
       "      <td>King</td>\n",
       "      <td>-29,058</td>\n",
       "      <td>-7.5%</td>\n",
       "    </tr>\n",
       "    <tr>\n",
       "      <th>6</th>\n",
       "      <td>KIRKLAND-REDMOND</td>\n",
       "      <td>381,663</td>\n",
       "      <td>369,834</td>\n",
       "      <td>King</td>\n",
       "      <td>-11,829</td>\n",
       "      <td>-3.1%</td>\n",
       "    </tr>\n",
       "    <tr>\n",
       "      <th>7</th>\n",
       "      <td>SEATTLE - NORTH</td>\n",
       "      <td>356,051</td>\n",
       "      <td>346,023</td>\n",
       "      <td>King</td>\n",
       "      <td>-10,028</td>\n",
       "      <td>-2.8%</td>\n",
       "    </tr>\n",
       "    <tr>\n",
       "      <th>8</th>\n",
       "      <td>TACOMA - EAST OF CBD</td>\n",
       "      <td>324,463</td>\n",
       "      <td>336,689</td>\n",
       "      <td>Pierce</td>\n",
       "      <td>12,226</td>\n",
       "      <td>3.8%</td>\n",
       "    </tr>\n",
       "    <tr>\n",
       "      <th>9</th>\n",
       "      <td>PARKLAND</td>\n",
       "      <td>299,722</td>\n",
       "      <td>263,402</td>\n",
       "      <td>Pierce</td>\n",
       "      <td>-36,320</td>\n",
       "      <td>-12.1%</td>\n",
       "    </tr>\n",
       "    <tr>\n",
       "      <th>10</th>\n",
       "      <td>BOTHELL</td>\n",
       "      <td>291,573</td>\n",
       "      <td>339,881</td>\n",
       "      <td>King</td>\n",
       "      <td>48,308</td>\n",
       "      <td>16.6%</td>\n",
       "    </tr>\n",
       "    <tr>\n",
       "      <th>11</th>\n",
       "      <td>LYNNWOOD-BOTHELL</td>\n",
       "      <td>260,099</td>\n",
       "      <td>307,927</td>\n",
       "      <td>King</td>\n",
       "      <td>47,828</td>\n",
       "      <td>18.4%</td>\n",
       "    </tr>\n",
       "    <tr>\n",
       "      <th>12</th>\n",
       "      <td>TUKWILA</td>\n",
       "      <td>257,776</td>\n",
       "      <td>227,083</td>\n",
       "      <td>King</td>\n",
       "      <td>-30,693</td>\n",
       "      <td>-11.9%</td>\n",
       "    </tr>\n",
       "    <tr>\n",
       "      <th>13</th>\n",
       "      <td>TRANSLAKE</td>\n",
       "      <td>222,188</td>\n",
       "      <td>248,232</td>\n",
       "      <td>King</td>\n",
       "      <td>26,044</td>\n",
       "      <td>11.7%</td>\n",
       "    </tr>\n",
       "    <tr>\n",
       "      <th>14</th>\n",
       "      <td>PUYALLUP</td>\n",
       "      <td>128,700</td>\n",
       "      <td>122,080</td>\n",
       "      <td>Pierce</td>\n",
       "      <td>-6,620</td>\n",
       "      <td>-5.1%</td>\n",
       "    </tr>\n",
       "    <tr>\n",
       "      <th>15</th>\n",
       "      <td>WOODINVILLE</td>\n",
       "      <td>116,355</td>\n",
       "      <td>159,869</td>\n",
       "      <td>King</td>\n",
       "      <td>43,514</td>\n",
       "      <td>37.4%</td>\n",
       "    </tr>\n",
       "    <tr>\n",
       "      <th>16</th>\n",
       "      <td>NORTH KITSAP</td>\n",
       "      <td>104,890</td>\n",
       "      <td>71,510</td>\n",
       "      <td>Kitsap</td>\n",
       "      <td>-33,380</td>\n",
       "      <td>-31.8%</td>\n",
       "    </tr>\n",
       "    <tr>\n",
       "      <th>17</th>\n",
       "      <td>TACOMA NARROWS</td>\n",
       "      <td>97,300</td>\n",
       "      <td>106,438</td>\n",
       "      <td>Pierce</td>\n",
       "      <td>9,138</td>\n",
       "      <td>9.4%</td>\n",
       "    </tr>\n",
       "    <tr>\n",
       "      <th>18</th>\n",
       "      <td>PRESTON-ISSAQUAH</td>\n",
       "      <td>86,462</td>\n",
       "      <td>87,091</td>\n",
       "      <td>King</td>\n",
       "      <td>629</td>\n",
       "      <td>0.7%</td>\n",
       "    </tr>\n",
       "    <tr>\n",
       "      <th>19</th>\n",
       "      <td>GIG HARBOR</td>\n",
       "      <td>84,875</td>\n",
       "      <td>83,433</td>\n",
       "      <td>Pierce</td>\n",
       "      <td>-1,442</td>\n",
       "      <td>-1.7%</td>\n",
       "    </tr>\n",
       "    <tr>\n",
       "      <th>20</th>\n",
       "      <td>SEATAC</td>\n",
       "      <td>72,402</td>\n",
       "      <td>84,948</td>\n",
       "      <td>King</td>\n",
       "      <td>12,546</td>\n",
       "      <td>17.3%</td>\n",
       "    </tr>\n",
       "    <tr>\n",
       "      <th>21</th>\n",
       "      <td>MAPLE VALLEY</td>\n",
       "      <td>70,813</td>\n",
       "      <td>58,493</td>\n",
       "      <td>King</td>\n",
       "      <td>-12,320</td>\n",
       "      <td>-17.4%</td>\n",
       "    </tr>\n",
       "    <tr>\n",
       "      <th>22</th>\n",
       "      <td>RENTON</td>\n",
       "      <td>68,127</td>\n",
       "      <td>65,670</td>\n",
       "      <td>King</td>\n",
       "      <td>-2,457</td>\n",
       "      <td>-3.6%</td>\n",
       "    </tr>\n",
       "    <tr>\n",
       "      <th>23</th>\n",
       "      <td>AGATE PASS BRIDGE</td>\n",
       "      <td>21,000</td>\n",
       "      <td>20,366</td>\n",
       "      <td>Kitsap</td>\n",
       "      <td>-634</td>\n",
       "      <td>-3.0%</td>\n",
       "    </tr>\n",
       "    <tr>\n",
       "      <th>24</th>\n",
       "      <td>CROSS SOUND</td>\n",
       "      <td>14,565</td>\n",
       "      <td>15,196</td>\n",
       "      <td>Kitsap</td>\n",
       "      <td>631</td>\n",
       "      <td>4.3%</td>\n",
       "    </tr>\n",
       "    <tr>\n",
       "      <th>25</th>\n",
       "      <td>TOTAL</td>\n",
       "      <td>6,145,374</td>\n",
       "      <td>5,969,949</td>\n",
       "      <td>NaN</td>\n",
       "      <td>-175,425</td>\n",
       "      <td>-2.9%</td>\n",
       "    </tr>\n",
       "  </tbody>\n",
       "</table>\n",
       "</div>"
      ],
      "text/plain": [
       "                      name  observed   modeled  county     diff percent_diff\n",
       "0      AUBURN - SOUTH KING   592,476   508,558    King  -83,918       -14.2%\n",
       "1                     KENT   559,335   466,210    King  -93,125       -16.6%\n",
       "2               SHIP CANAL   480,070   489,391    King    9,321         1.9%\n",
       "3   SEATTLE - SOUTH OF CBD   473,322   460,398    King  -12,924        -2.7%\n",
       "4               MILL CREEK   391,447   370,587    King  -20,860        -5.3%\n",
       "5           SOUTH BELLEVUE   389,700   360,642    King  -29,058        -7.5%\n",
       "6         KIRKLAND-REDMOND   381,663   369,834    King  -11,829        -3.1%\n",
       "7          SEATTLE - NORTH   356,051   346,023    King  -10,028        -2.8%\n",
       "8     TACOMA - EAST OF CBD   324,463   336,689  Pierce   12,226         3.8%\n",
       "9                 PARKLAND   299,722   263,402  Pierce  -36,320       -12.1%\n",
       "10                 BOTHELL   291,573   339,881    King   48,308        16.6%\n",
       "11        LYNNWOOD-BOTHELL   260,099   307,927    King   47,828        18.4%\n",
       "12                 TUKWILA   257,776   227,083    King  -30,693       -11.9%\n",
       "13               TRANSLAKE   222,188   248,232    King   26,044        11.7%\n",
       "14                PUYALLUP   128,700   122,080  Pierce   -6,620        -5.1%\n",
       "15             WOODINVILLE   116,355   159,869    King   43,514        37.4%\n",
       "16            NORTH KITSAP   104,890    71,510  Kitsap  -33,380       -31.8%\n",
       "17          TACOMA NARROWS    97,300   106,438  Pierce    9,138         9.4%\n",
       "18        PRESTON-ISSAQUAH    86,462    87,091    King      629         0.7%\n",
       "19              GIG HARBOR    84,875    83,433  Pierce   -1,442        -1.7%\n",
       "20                  SEATAC    72,402    84,948    King   12,546        17.3%\n",
       "21            MAPLE VALLEY    70,813    58,493    King  -12,320       -17.4%\n",
       "22                  RENTON    68,127    65,670    King   -2,457        -3.6%\n",
       "23       AGATE PASS BRIDGE    21,000    20,366  Kitsap     -634        -3.0%\n",
       "24             CROSS SOUND    14,565    15,196  Kitsap      631         4.3%\n",
       "25                   TOTAL 6,145,374 5,969,949     NaN -175,425        -2.9%"
      ]
     },
     "execution_count": 13,
     "metadata": {},
     "output_type": "execute_result"
    }
   ],
   "source": [
    "df = pd.read_csv(os.path.join(csv_path,'screenlines.csv'))\n",
    "df = df.append(df.sum(numeric_only=True), ignore_index=True)\n",
    "df.at[df.index[-1], 'name'] = 'TOTAL'\n",
    "#df.at['C', 'name'] = 10\n",
    "df['percent_diff'] = df['diff']/df['observed']\n",
    "df[['percent_diff']] = df[['percent_diff']].applymap(format_percent)\n",
    "df"
   ]
  },
  {
   "cell_type": "code",
   "execution_count": 14,
   "id": "85e33c82ecdece63",
   "metadata": {
    "ExecuteTime": {
     "end_time": "2024-06-24T21:43:47.402427Z",
     "start_time": "2024-06-24T21:43:47.214746Z"
    },
    "execution": {
     "iopub.execute_input": "2024-06-24T21:55:48.526454Z",
     "iopub.status.busy": "2024-06-24T21:55:48.510823Z",
     "iopub.status.idle": "2024-06-24T21:55:48.917265Z",
     "shell.execute_reply": "2024-06-24T21:55:48.917265Z"
    }
   },
   "outputs": [
    {
     "name": "stdout",
     "output_type": "stream",
     "text": [
      "r^2 : 0.9829816620790108\n"
     ]
    },
    {
     "data": {
      "image/png": "[encoded data removed]",
      "text/plain": [
       "<Figure size 432x288 with 1 Axes>"
      ]
     },
     "metadata": {
      "needs_background": "light"
     },
     "output_type": "display_data"
    }
   ],
   "source": [
    "df = df.head(-1)\n",
    "ax = df.plot(kind='scatter', x='observed', y='modeled')\n",
    "lim = df[['observed','modeled']].max().max()*1.05\n",
    "ax.set_ylim(0,lim)\n",
    "ax.set_xlim(0,lim)\n",
    "x = np.linspace(*ax.get_xlim())\n",
    "ax.plot(x, x)\n",
    "slope, intercept, r_value, p_value, std_err = stats.linregress(df['observed'],df['modeled'])\n",
    "print('r^2 : ' + str(r_value))"
   ]
  },
  {
   "cell_type": "markdown",
   "id": "6e3acde1",
   "metadata": {},
   "source": [
    "# External Stations"
   ]
  },
  {
   "cell_type": "raw",
   "id": "bf56b611",
   "metadata": {},
   "source": [
    ":::{.panel-tabset}\n",
    "### Observed vs Model Counts"
   ]
  },
  {
   "cell_type": "code",
   "execution_count": 15,
   "id": "3995fd29",
   "metadata": {},
   "outputs": [
    {
     "data": {
      "text/html": [
       "<div>\n",
       "<style scoped>\n",
       "    .dataframe tbody tr th:only-of-type {\n",
       "        vertical-align: middle;\n",
       "    }\n",
       "\n",
       "    .dataframe tbody tr th {\n",
       "        vertical-align: top;\n",
       "    }\n",
       "\n",
       "    .dataframe thead th {\n",
       "        text-align: right;\n",
       "    }\n",
       "</style>\n",
       "<table border=\"1\" class=\"dataframe\">\n",
       "  <thead>\n",
       "    <tr style=\"text-align: right;\">\n",
       "      <th></th>\n",
       "      <th>external_station</th>\n",
       "      <th>location</th>\n",
       "      <th>county</th>\n",
       "      <th>observed</th>\n",
       "      <th>modeled</th>\n",
       "      <th>diff</th>\n",
       "      <th>percent_diff</th>\n",
       "    </tr>\n",
       "  </thead>\n",
       "  <tbody>\n",
       "    <tr>\n",
       "      <th>0</th>\n",
       "      <td>3733</td>\n",
       "      <td>I-5 to Olympia</td>\n",
       "      <td>Pierce</td>\n",
       "      <td>129,250</td>\n",
       "      <td>130,957</td>\n",
       "      <td>1,707</td>\n",
       "      <td>1.3%</td>\n",
       "    </tr>\n",
       "    <tr>\n",
       "      <th>1</th>\n",
       "      <td>3744</td>\n",
       "      <td>I-5 to Mount Vernon</td>\n",
       "      <td>Snohomish</td>\n",
       "      <td>65,880</td>\n",
       "      <td>64,086</td>\n",
       "      <td>-1,794</td>\n",
       "      <td>-2.7%</td>\n",
       "    </tr>\n",
       "    <tr>\n",
       "      <th>2</th>\n",
       "      <td>3739</td>\n",
       "      <td>I-90 @ Snoqualmie Pass</td>\n",
       "      <td>King</td>\n",
       "      <td>30,500</td>\n",
       "      <td>33,264</td>\n",
       "      <td>2,764</td>\n",
       "      <td>9.1%</td>\n",
       "    </tr>\n",
       "    <tr>\n",
       "      <th>3</th>\n",
       "      <td>3734</td>\n",
       "      <td>SR-507 to Yelm</td>\n",
       "      <td>Pierce</td>\n",
       "      <td>22,700</td>\n",
       "      <td>22,729</td>\n",
       "      <td>29</td>\n",
       "      <td>0.1%</td>\n",
       "    </tr>\n",
       "    <tr>\n",
       "      <th>4</th>\n",
       "      <td>3746</td>\n",
       "      <td>SR-532 to Camano Island</td>\n",
       "      <td>Snohomish</td>\n",
       "      <td>21,250</td>\n",
       "      <td>20,776</td>\n",
       "      <td>-474</td>\n",
       "      <td>-2.2%</td>\n",
       "    </tr>\n",
       "    <tr>\n",
       "      <th>5</th>\n",
       "      <td>3749</td>\n",
       "      <td>SR-3 to Belfair</td>\n",
       "      <td>Kitsap</td>\n",
       "      <td>20,329</td>\n",
       "      <td>18,144</td>\n",
       "      <td>-2,185</td>\n",
       "      <td>-10.8%</td>\n",
       "    </tr>\n",
       "    <tr>\n",
       "      <th>6</th>\n",
       "      <td>3748</td>\n",
       "      <td>Hood Canal Bridge</td>\n",
       "      <td>Kitsap</td>\n",
       "      <td>18,200</td>\n",
       "      <td>17,826</td>\n",
       "      <td>-374</td>\n",
       "      <td>-2.1%</td>\n",
       "    </tr>\n",
       "    <tr>\n",
       "      <th>7</th>\n",
       "      <td>3745</td>\n",
       "      <td>SR-530 N/O Stanwood</td>\n",
       "      <td>Snohomish</td>\n",
       "      <td>9,100</td>\n",
       "      <td>9,175</td>\n",
       "      <td>75</td>\n",
       "      <td>0.8%</td>\n",
       "    </tr>\n",
       "    <tr>\n",
       "      <th>8</th>\n",
       "      <td>3747</td>\n",
       "      <td>Mukilteo-Clinton Ferry</td>\n",
       "      <td>Snohomish</td>\n",
       "      <td>6,050</td>\n",
       "      <td>5,952</td>\n",
       "      <td>-98</td>\n",
       "      <td>-1.6%</td>\n",
       "    </tr>\n",
       "    <tr>\n",
       "      <th>9</th>\n",
       "      <td>3750</td>\n",
       "      <td>SR-302 to Shelton</td>\n",
       "      <td>Pierce</td>\n",
       "      <td>4,550</td>\n",
       "      <td>4,537</td>\n",
       "      <td>-13</td>\n",
       "      <td>-0.3%</td>\n",
       "    </tr>\n",
       "    <tr>\n",
       "      <th>10</th>\n",
       "      <td>3740</td>\n",
       "      <td>SR-2 @ Stevens Pass</td>\n",
       "      <td>King</td>\n",
       "      <td>3,050</td>\n",
       "      <td>4,559</td>\n",
       "      <td>1,509</td>\n",
       "      <td>49.5%</td>\n",
       "    </tr>\n",
       "    <tr>\n",
       "      <th>11</th>\n",
       "      <td>3735</td>\n",
       "      <td>SR-7 to Morton</td>\n",
       "      <td>Pierce</td>\n",
       "      <td>2,900</td>\n",
       "      <td>2,744</td>\n",
       "      <td>-156</td>\n",
       "      <td>-5.4%</td>\n",
       "    </tr>\n",
       "    <tr>\n",
       "      <th>12</th>\n",
       "      <td>3742</td>\n",
       "      <td>SR-530 N/O Darrington</td>\n",
       "      <td>Snohomish</td>\n",
       "      <td>2,100</td>\n",
       "      <td>2,106</td>\n",
       "      <td>6</td>\n",
       "      <td>0.3%</td>\n",
       "    </tr>\n",
       "    <tr>\n",
       "      <th>13</th>\n",
       "      <td>3736</td>\n",
       "      <td>SR-706 to Longmire</td>\n",
       "      <td>Pierce</td>\n",
       "      <td>1,800</td>\n",
       "      <td>1,800</td>\n",
       "      <td>0</td>\n",
       "      <td>0.0%</td>\n",
       "    </tr>\n",
       "    <tr>\n",
       "      <th>14</th>\n",
       "      <td>3743</td>\n",
       "      <td>SR-9 N/O Arlington</td>\n",
       "      <td>Snohomish</td>\n",
       "      <td>1,450</td>\n",
       "      <td>1,528</td>\n",
       "      <td>78</td>\n",
       "      <td>5.4%</td>\n",
       "    </tr>\n",
       "    <tr>\n",
       "      <th>15</th>\n",
       "      <td>3738</td>\n",
       "      <td>SR 410 E/O Cayuse Pass</td>\n",
       "      <td>Pierce</td>\n",
       "      <td>1,200</td>\n",
       "      <td>996</td>\n",
       "      <td>-204</td>\n",
       "      <td>-17.0%</td>\n",
       "    </tr>\n",
       "    <tr>\n",
       "      <th>16</th>\n",
       "      <td>3737</td>\n",
       "      <td>SR-123 S/O Cayuse Pass</td>\n",
       "      <td>Pierce</td>\n",
       "      <td>920</td>\n",
       "      <td>1,055</td>\n",
       "      <td>135</td>\n",
       "      <td>14.7%</td>\n",
       "    </tr>\n",
       "    <tr>\n",
       "      <th>17</th>\n",
       "      <td>3741</td>\n",
       "      <td>SR-92 to Monte Carlo</td>\n",
       "      <td>Snohomish</td>\n",
       "      <td>90</td>\n",
       "      <td>91</td>\n",
       "      <td>1</td>\n",
       "      <td>1.3%</td>\n",
       "    </tr>\n",
       "  </tbody>\n",
       "</table>\n",
       "</div>"
      ],
      "text/plain": [
       "    external_station                 location     county  observed  modeled  \\\n",
       "0               3733           I-5 to Olympia     Pierce   129,250  130,957   \n",
       "1               3744      I-5 to Mount Vernon  Snohomish    65,880   64,086   \n",
       "2               3739   I-90 @ Snoqualmie Pass       King    30,500   33,264   \n",
       "3               3734           SR-507 to Yelm     Pierce    22,700   22,729   \n",
       "4               3746  SR-532 to Camano Island  Snohomish    21,250   20,776   \n",
       "5               3749          SR-3 to Belfair     Kitsap    20,329   18,144   \n",
       "6               3748        Hood Canal Bridge     Kitsap    18,200   17,826   \n",
       "7               3745      SR-530 N/O Stanwood  Snohomish     9,100    9,175   \n",
       "8               3747   Mukilteo-Clinton Ferry  Snohomish     6,050    5,952   \n",
       "9               3750        SR-302 to Shelton     Pierce     4,550    4,537   \n",
       "10              3740      SR-2 @ Stevens Pass       King     3,050    4,559   \n",
       "11              3735           SR-7 to Morton     Pierce     2,900    2,744   \n",
       "12              3742    SR-530 N/O Darrington  Snohomish     2,100    2,106   \n",
       "13              3736       SR-706 to Longmire     Pierce     1,800    1,800   \n",
       "14              3743       SR-9 N/O Arlington  Snohomish     1,450    1,528   \n",
       "15              3738   SR 410 E/O Cayuse Pass     Pierce     1,200      996   \n",
       "16              3737   SR-123 S/O Cayuse Pass     Pierce       920    1,055   \n",
       "17              3741     SR-92 to Monte Carlo  Snohomish        90       91   \n",
       "\n",
       "     diff percent_diff  \n",
       "0   1,707         1.3%  \n",
       "1  -1,794        -2.7%  \n",
       "2   2,764         9.1%  \n",
       "3      29         0.1%  \n",
       "4    -474        -2.2%  \n",
       "5  -2,185       -10.8%  \n",
       "6    -374        -2.1%  \n",
       "7      75         0.8%  \n",
       "8     -98        -1.6%  \n",
       "9     -13        -0.3%  \n",
       "10  1,509        49.5%  \n",
       "11   -156        -5.4%  \n",
       "12      6         0.3%  \n",
       "13      0         0.0%  \n",
       "14     78         5.4%  \n",
       "15   -204       -17.0%  \n",
       "16    135        14.7%  \n",
       "17      1         1.3%  "
      ]
     },
     "execution_count": 15,
     "metadata": {},
     "output_type": "execute_result"
    }
   ],
   "source": [
    "df = pd.read_csv(os.path.join(csv_path,'external_volumes.csv'))\n",
    "df['percent_diff'] = df['diff']/df['observed']\n",
    "df[['percent_diff']] = df[['percent_diff']].applymap(format_percent)\n",
    "df"
   ]
  },
  {
   "cell_type": "code",
   "execution_count": 16,
   "id": "9006a5e5",
   "metadata": {},
   "outputs": [
    {
     "name": "stdout",
     "output_type": "stream",
     "text": [
      "r^2 : 0.9994048794235328\n"
     ]
    },
    {
     "data": {
      "image/png": "[encoded data removed]",
      "text/plain": [
       "<Figure size 432x288 with 1 Axes>"
      ]
     },
     "metadata": {
      "needs_background": "light"
     },
     "output_type": "display_data"
    }
   ],
   "source": [
    "df = df.head(-1)\n",
    "ax = df.plot(kind='scatter', x='observed', y='modeled')\n",
    "lim = df[['observed','modeled']].max().max()*1.05\n",
    "ax.set_ylim(0,lim)\n",
    "ax.set_xlim(0,lim)\n",
    "x = np.linspace(*ax.get_xlim())\n",
    "ax.plot(x, x)\n",
    "slope, intercept, r_value, p_value, std_err = stats.linregress(df['observed'],df['modeled'])\n",
    "print('r^2 : ' + str(r_value))"
   ]
  },
  {
   "cell_type": "raw",
   "id": "7cd73d93",
   "metadata": {},
   "source": [
    "### Model VMT/Trips by Mode"
   ]
  },
  {
   "cell_type": "code",
   "execution_count": null,
   "id": "4632dadd",
   "metadata": {},
   "outputs": [],
   "source": [
    "## External trips/VMT\n",
    "df_23 = h5py.File(r'..\\..\\..\\..\\inputs\\model\\daysim\\roster\\7to8.h5')\n",
    "df_23_skims_sov = df_23['Skims']['sov_inc2d'][:]/100\n",
    "df_23_skims_hov2 = df_23['Skims']['hov2_inc2d'][:]/100\n",
    "df_23_skims_hov3 = df_23['Skims']['hov3_inc2d'][:]/100\n",
    "\n",
    "df_results_new = pd.DataFrame()\n",
    "\n",
    "tod_list = ['5to6', '6to7', '7to8', '8to9', '9to10', '10to14', '14to15', '15to16', '16to17', '17to18', '18to20', '20to5']\n",
    "for tod in tod_list:\n",
    "#     print(tod)\n",
    "    df_temp = pd.DataFrame()\n",
    "    for mode in ['sov','hov2','hov3']:\n",
    "#         print(mode)\n",
    "        od_new = h5py.File(r'..\\..\\..\\..\\outputs\\supplemental\\external_work_'+tod+'.h5', 'r')[mode][:]\n",
    "        df_temp.loc[tod,mode+'_vmt'] = (df_23_skims_sov*od_new).sum()\n",
    "        df_temp.loc[tod,mode+'_trips'] = od_new.sum()\n",
    "        df_temp.loc[tod,mode+'_avg_dist'] = df_temp.loc[tod,mode+'_vmt']/df_temp.loc[tod,mode+'_trips']\n",
    "    df_results_new = pd.concat([df_results_new, df_temp ])"
   ]
  },
  {
   "cell_type": "code",
   "execution_count": 18,
   "id": "b8c74662",
   "metadata": {},
   "outputs": [
    {
     "data": {
      "text/html": [
       "<div>\n",
       "<style scoped>\n",
       "    .dataframe tbody tr th:only-of-type {\n",
       "        vertical-align: middle;\n",
       "    }\n",
       "\n",
       "    .dataframe tbody tr th {\n",
       "        vertical-align: top;\n",
       "    }\n",
       "\n",
       "    .dataframe thead th {\n",
       "        text-align: right;\n",
       "    }\n",
       "</style>\n",
       "<table border=\"1\" class=\"dataframe\">\n",
       "  <thead>\n",
       "    <tr style=\"text-align: right;\">\n",
       "      <th></th>\n",
       "      <th>VMT</th>\n",
       "      <th>Trips</th>\n",
       "      <th>Avg Distance</th>\n",
       "    </tr>\n",
       "  </thead>\n",
       "  <tbody>\n",
       "    <tr>\n",
       "      <th>SOV</th>\n",
       "      <td>7,527,765</td>\n",
       "      <td>237,683</td>\n",
       "      <td>32</td>\n",
       "    </tr>\n",
       "    <tr>\n",
       "      <th>HOV2</th>\n",
       "      <td>571,910</td>\n",
       "      <td>18,264</td>\n",
       "      <td>31</td>\n",
       "    </tr>\n",
       "    <tr>\n",
       "      <th>HOV3</th>\n",
       "      <td>210,881</td>\n",
       "      <td>6,382</td>\n",
       "      <td>33</td>\n",
       "    </tr>\n",
       "    <tr>\n",
       "      <th>Total</th>\n",
       "      <td>8,310,556</td>\n",
       "      <td>262,329</td>\n",
       "      <td>32</td>\n",
       "    </tr>\n",
       "  </tbody>\n",
       "</table>\n",
       "</div>"
      ],
      "text/plain": [
       "            VMT   Trips  Avg Distance\n",
       "SOV   7,527,765 237,683            32\n",
       "HOV2    571,910  18,264            31\n",
       "HOV3    210,881   6,382            33\n",
       "Total 8,310,556 262,329            32"
      ]
     },
     "execution_count": 18,
     "metadata": {},
     "output_type": "execute_result"
    }
   ],
   "source": [
    "df_vmt = pd.DataFrame(df_results_new[['sov_vmt','hov2_vmt','hov3_vmt']].sum(),\n",
    "            columns=['VMT'])\n",
    "df_vmt.index = [i.split('_')[0].upper() for i in df_vmt.index]\n",
    "\n",
    "df_trips = pd.DataFrame(df_results_new[['sov_trips','hov2_trips','hov3_trips']].sum(),\n",
    "            columns=['Trips'])\n",
    "df_trips.index = [i.split('_')[0].upper() for i in df_trips.index]\n",
    "\n",
    "df = df_vmt.merge(df_trips, left_index=True, right_index=True)\n",
    "\n",
    "df.loc['Total',:] = df.sum(axis=0)\n",
    "df['Avg Distance'] = df['VMT']/df['Trips']\n",
    "df"
   ]
  },
  {
   "cell_type": "raw",
   "id": "ab13d57a",
   "metadata": {
    "vscode": {
     "languageId": "raw"
    }
   },
   "source": [
    ":::"
   ]
  },
  {
   "cell_type": "markdown",
   "id": "f49c3f61",
   "metadata": {},
   "source": [
    "# Trucks"
   ]
  },
  {
   "cell_type": "code",
   "execution_count": 19,
   "id": "aa5ec0de",
   "metadata": {},
   "outputs": [],
   "source": [
    "daily_counts = pd.read_sql(\"SELECT * FROM daily_counts WHERE year=\"+str(input_config['base_year']), con=conn)\n",
    "\n",
    "daily_counts['htrk_vehicles'] = daily_counts['htrk_vehicles'].astype('float').fillna(-1)\n",
    "\n",
    "facility_type_lookup = {\n",
    "    1: \"Freeway\",  # Interstate\n",
    "    2: \"Freeway\",  # Ohter Freeway\n",
    "    3: \"Freeway\",  # Expressway\n",
    "    4: \"Ramp\",\n",
    "    5: \"Arterial\",  # Principal arterial\n",
    "    6: \"Arterial\",  # Minor Arterial\n",
    "    7: \"Collector\",  # Major Collector\n",
    "    8: \"Collector\",  # Minor Collector\n",
    "    9: \"Collector\",  # Local\n",
    "    10: \"Busway\",\n",
    "    11: \"Non-Motor\",\n",
    "    12: \"Light Rail\",\n",
    "    13: \"Commuter Rail\",\n",
    "    15: \"Ferry\",\n",
    "    16: \"Passenger Only Ferry\",\n",
    "    17: \"Connector\",  # centroid connector\n",
    "    18: \"Connector\",  # facility connector\n",
    "    19: \"HOV\",  # HOV Only Freeway\n",
    "    20: \"HOV\",  # HOV Flag\n",
    "}"
   ]
  },
  {
   "cell_type": "code",
   "execution_count": 20,
   "id": "c61e0773",
   "metadata": {},
   "outputs": [],
   "source": [
    "# FIXME: move to validation.py\n",
    "df_network = pd.read_csv(r\"..\\..\\..\\..\\outputs\\network\\network_results.csv\")\n",
    "model_vol_df = df_network.copy()\n",
    "model_vol_df[\"@facilitytype\"] = model_vol_df[\"@facilitytype\"].map(\n",
    "    facility_type_lookup\n",
    ")\n",
    "\n",
    "# Get daily and model volumes\n",
    "df_daily = (\n",
    "    model_vol_df.groupby([\"@countid\"])\n",
    "    .agg({\"@tveh\": \"sum\", \"@facilitytype\": \"first\", '@mveh': 'sum', '@hveh': 'sum'})\n",
    "    .reset_index()\n",
    ")\n",
    "\n",
    "# Merge observed with model\n",
    "df_daily = df_daily.merge(daily_counts, left_on=\"@countid\", right_on=\"flag\")"
   ]
  },
  {
   "cell_type": "code",
   "execution_count": 21,
   "id": "13d5e93b",
   "metadata": {},
   "outputs": [],
   "source": [
    "county_lookup = {\n",
    "    33: 'King',\n",
    "    35: 'Kitsap',\n",
    "    53: 'Pierce',\n",
    "    61: 'Snohomish'\n",
    "}\n",
    "\n",
    "df_daily['County'] = df_daily['countyid'].map(county_lookup)"
   ]
  },
  {
   "cell_type": "code",
   "execution_count": 22,
   "id": "7087ce17",
   "metadata": {},
   "outputs": [],
   "source": [
    "df_daily_med = df_daily.copy()\n",
    "df_daily_med.rename(columns={'@mveh': 'Model', 'mtrk_vehicles': 'Observed'}, inplace=True)\n",
    "df_daily_med = df_daily_med[~df_daily_med['Observed'].isnull()]\n",
    "for col in ['Model','Observed']:\n",
    "    df_daily_med[col] = df_daily_med[col].astype('int')\n",
    "df_daily_med = df_daily_med[df_daily_med['Observed'] > 0]\n",
    "\n",
    "df_daily_heavy = df_daily.copy()\n",
    "df_daily_heavy.rename(columns={'@hveh': 'Model', 'htrk_vehicles': 'Observed'}, inplace=True)\n",
    "df_daily_heavy = df_daily_heavy[~df_daily_heavy['Observed'].isnull()]\n",
    "for col in ['Model','Observed']:\n",
    "    df_daily_heavy[col] = df_daily_heavy[col].astype('int')\n",
    "df_daily_heavy = df_daily_heavy[df_daily_heavy['Observed'] > 0]"
   ]
  },
  {
   "cell_type": "code",
   "execution_count": 23,
   "id": "77254978",
   "metadata": {},
   "outputs": [],
   "source": [
    "def create_truck_chart(df_daily, truck_type, county=None):\n",
    "\n",
    "    if county:\n",
    "        df_daily = df_daily[df_daily['County'] == county]\n",
    "        title = truck_type + ' Trucks: '+county\n",
    "    else:\n",
    "        title = truck_type + ' Trucks: Region'\n",
    "\n",
    "    slope, intercept, r_value, p_value, std_err = stats.linregress(df_daily['Observed'], df_daily['Model'])\n",
    "\n",
    "    fig = px.scatter(df_daily, y='Model', x='Observed', title=title, hover_data=['location','County'])\n",
    "    fig.update_layout(height=600, width=800, margin=dict(l=100, r=100, t=100, b=100))\n",
    "\n",
    "    # Get max value, either observed or modeled\n",
    "    max_val = df_daily[['Observed','Model']].max().max()\n",
    "\n",
    "    # Add 45-degree line\n",
    "    fig.add_shape(\n",
    "        type=\"line\",\n",
    "        x0=0, y0=0,\n",
    "        x1=max_val, y1=max_val,\n",
    "        line=dict(color=\"Red\", width=2, dash=\"dash\")\n",
    "    )\n",
    "\n",
    "    # Add best fit line\n",
    "    x_fit = np.linspace(0, max(df_daily['Observed']), 100)\n",
    "    y_fit = slope * x_fit + intercept\n",
    "    fig.add_trace(px.line(x=x_fit, y=y_fit, labels={'x':'Observed', 'y':'Model'}).data[0])\n",
    "    fig.update_traces(line=dict(color=\"Grey\", width=2))\n",
    "\n",
    "    # Add label for 45-degree line\n",
    "\n",
    "    fig.add_annotation(\n",
    "        x=max_val*1.05,\n",
    "        y=max_val*1.05,\n",
    "        text='y = x',\n",
    "        showarrow=False,\n",
    "        font=dict(size=12, color=\"pink\"),\n",
    "        align=\"right\"\n",
    "    )\n",
    "\n",
    "    # Add R-squared value as annotation\n",
    "    fig.add_annotation(\n",
    "        x=max(x_fit)*1.05,\n",
    "        y=max(y_fit)*1.05,\n",
    "        text=f'r^2 = {r_value**2:.2f}',\n",
    "        showarrow=False,\n",
    "        font=dict(size=12, color=\"black\"),\n",
    "        align=\"right\"\n",
    "    )\n",
    "\n",
    "    return fig\n"
   ]
  },
  {
   "cell_type": "markdown",
   "id": "1b416bfb",
   "metadata": {},
   "source": [
    "### Heavy Truck Counts"
   ]
  },
  {
   "cell_type": "raw",
   "id": "60e42113",
   "metadata": {
    "vscode": {
     "languageId": "raw"
    }
   },
   "source": [
    ":::{.panel-tabset}\n",
    "\n",
    "#### Region"
   ]
  },
  {
   "cell_type": "code",
   "execution_count": 24,
   "id": "27e84bb1",
   "metadata": {},
   "outputs": [
    {
     "data": {
      "text/html": [
       "        <script type=\"text/javascript\">\n",
       "        window.PlotlyConfig = {MathJaxConfig: 'local'};\n",
       "        if (window.MathJax && window.MathJax.Hub && window.MathJax.Hub.Config) {window.MathJax.Hub.Config({SVG: {font: \"STIX-Web\"}});}\n",
       "        if (typeof require !== 'undefined') {\n",
       "        require.undef(\"plotly\");\n",
       "        requirejs.config({\n",
       "            paths: {\n",
       "                'plotly': ['https://cdn.plot.ly/plotly-2.27.0.min']\n",
       "            }\n",
       "        });\n",
       "        require(['plotly'], function(Plotly) {\n",
       "            window._Plotly = Plotly;\n",
       "        });\n",
       "        }\n",
       "        </script>\n",
       "        "
      ]
     },
     "metadata": {},
     "output_type": "display_data"
    },
    {
     "data": {
      "application/vnd.plotly.v1+json": {
       "config": {
        "plotlyServerURL": "https://plot.ly"
       },
       "data": [
        {
         "customdata": [
          [
           "I-5 S/O Mounts NB",
           "Pierce"
          ],
          [
           "I-5 S/O Mounts SB",
           "Pierce"
          ],
          [
           "I-5 S/O Division NB",
           "Pierce"
          ],
          [
           "I-5 S/O Division SB",
           "Pierce"
          ],
          [
           "I-5 @ N/O Division NB",
           "Pierce"
          ],
          [
           "I-5 @ N/O Division SB",
           "Pierce"
          ],
          [
           "I-5 S/O SR-512 NB",
           "Pierce"
          ],
          [
           "I-5 S/O SR-512 SB",
           "Pierce"
          ],
          [
           "I-5 N/O SR-512 NB",
           "Pierce"
          ],
          [
           "I-5 N/O SR-512 SB",
           "Pierce"
          ],
          [
           "I-5 N/O 56th NB",
           "Pierce"
          ],
          [
           "I-5 N/O 56th SB",
           "Pierce"
          ],
          [
           "I-5 E/O SR-16 NB",
           "Pierce"
          ],
          [
           "I-5 E/O SR-16 SB",
           "Pierce"
          ],
          [
           "I-5 E/O Port of Tacoma NB",
           "Pierce"
          ],
          [
           "I-5 E/O Port of Tacoma SB (HOV from 56)",
           "Pierce"
          ],
          [
           "I-5 S/O 205th NB",
           "King"
          ],
          [
           "I-5 S/O 205th SB",
           "King"
          ],
          [
           "I-5 @ 44th NB",
           "Snohomish"
          ],
          [
           "I-5 @ 44th SB",
           "Snohomish"
          ],
          [
           "I-5 N/O 164th NB",
           "Snohomish"
          ],
          [
           "I-5 N/O 164th SB",
           "Snohomish"
          ],
          [
           "I-5 N/O SR-526 NB",
           "Snohomish"
          ],
          [
           "I-5 N/O SR-526 SB",
           "Snohomish"
          ],
          [
           "I-5 N/O 41st NB",
           "Snohomish"
          ],
          [
           "I-5 N/O 41st SB",
           "Snohomish"
          ],
          [
           "I-5 @ SR-528 NB",
           "Snohomish"
          ],
          [
           "I-5 @ SR-528 SB",
           "Snohomish"
          ],
          [
           "I-5 N/O SR-531 NB",
           "Snohomish"
          ],
          [
           "I-5 N/O SR-531 SB",
           "Snohomish"
          ],
          [
           "I-5 Rev N/O I-5 GP NB/SB",
           "King"
          ],
          [
           "I-90 E/O I-5 WB",
           "King"
          ],
          [
           "I-90 E/O I-5 EB",
           "King"
          ],
          [
           "I-90 E/O W Lk Sam WB",
           "King"
          ],
          [
           "I-90 E/O W Lk Sam EB",
           "King"
          ],
          [
           "I-90 E/O SR-900 WB",
           "King"
          ],
          [
           "I-405 @ I-5 Southcenter NB",
           "King"
          ],
          [
           "I-405 @ I-5 Southcenter SB",
           "King"
          ],
          [
           "I-405 @ Lake Wash Blvd NB",
           "King"
          ],
          [
           "I-405 @ I-90 NB",
           "King"
          ],
          [
           "I-405 @ I-90 SB",
           "King"
          ],
          [
           "I-405 N/O SR-527 NB",
           "Snohomish"
          ],
          [
           "I-405 N/O SR-527 SB",
           "Snohomish"
          ],
          [
           "SR-525 N/O I-5 NB",
           "Snohomish"
          ],
          [
           "SR-525 N/O I-5 SB",
           "Snohomish"
          ],
          [
           "SR-520 @ x-lake bridge WB",
           "King"
          ],
          [
           "SR-520 @ x-lake bridge EB",
           "King"
          ],
          [
           "SR-167 S/O 43rd NB",
           "King"
          ],
          [
           "SR-167 S/O 43rd SB",
           "King"
          ],
          [
           "SR-167 N/O SR-18 NB",
           "King"
          ],
          [
           "SR-167 N/O SR-18 SB",
           "King"
          ],
          [
           "SR-167 S/O 15th SW NB",
           "King"
          ],
          [
           "SR-167 S/O 15th SW SB",
           "King"
          ],
          [
           "SR-512 W/O Meridian WB",
           "Pierce"
          ],
          [
           "SR-512 W/O Meridian EB",
           "Pierce"
          ],
          [
           "SR-509 @ Holden NB",
           "King"
          ],
          [
           "SR-509 @ Holden SB",
           "King"
          ],
          [
           "SR-99 N/O 14th NB",
           "King"
          ],
          [
           "SR-99 N/O 14th SB",
           "King"
          ],
          [
           "SR-99 N/O WSF NB",
           "King"
          ],
          [
           "SR-99 N/O WSF SB",
           "King"
          ],
          [
           "SR-99 tunnel NB",
           "King"
          ],
          [
           "SR-99 tunnel SB",
           "King"
          ],
          [
           "SR-599 S/O Pacific NB",
           "King"
          ],
          [
           "SR-599 S/O Pacific SB",
           "King"
          ],
          [
           "SR-599 @ Pacific NB",
           "King"
          ],
          [
           "SR-599 @ Pacific SB",
           "King"
          ],
          [
           "SR-18 @ I-5 WB",
           "King"
          ],
          [
           "SR-18 @ I-5 EB",
           "King"
          ],
          [
           "SR-18 W/O Auburn-Black Diamond WB",
           "King"
          ],
          [
           "SR-18 W/O Auburn-Black Diamond EB",
           "King"
          ],
          [
           "SR-18 E/O SR-516 WB",
           "King"
          ],
          [
           "SR-18 E/O SR-516 EB",
           "King"
          ],
          [
           "SR-18 E/O 256th WB",
           "King"
          ],
          [
           "SR-18 E/O 256th EB",
           "King"
          ],
          [
           "SR-522 N/O 195th WB",
           "King"
          ],
          [
           "SR-522 N/O 195th EB",
           "King"
          ],
          [
           "I-5 N/O I-5 Rev CBD NB/SB",
           "King"
          ],
          [
           "I-5 @ SR-532 NB/SB",
           "Snohomish"
          ],
          [
           "I-5 @ Skagit border NB/SB",
           "Snohomish"
          ],
          [
           "I-90 W/O SR-18 WB/EB",
           "King"
          ],
          [
           "I-90 E/O SR-18 WB/EB",
           "King"
          ],
          [
           "I-90 E/O 436th WB/EB",
           "King"
          ],
          [
           "I-90 @ Kittitas County WB/EB",
           "King"
          ],
          [
           "I-405 N/O SR-522 NB/SB",
           "King"
          ],
          [
           "SR-525 N/O SR-526 NB/SB",
           "Snohomish"
          ],
          [
           "SR-525 N/O 5th NB/SB",
           "Snohomish"
          ],
          [
           "SR-167 N/O Grady NB/SB",
           "King"
          ],
          [
           "SR-167 W/O SR-410 NB/SB",
           "Pierce"
          ],
          [
           "SR-167 E/O SR-161 NB/SB",
           "Pierce"
          ],
          [
           "SR-410 E/O S Prairie WB/EB",
           "Pierce"
          ],
          [
           "SR-410 E/O 244th WB/EB",
           "King"
          ],
          [
           "SR-410 E/O Farman WB/EB",
           "King"
          ],
          [
           "SR-410 @ Greenwater River WB/EB",
           "King"
          ],
          [
           "SR-410 E/O Chinook WB/EB",
           "Pierce"
          ],
          [
           "SR-410 W/O SR-123 WB/EB",
           "Pierce"
          ],
          [
           "SR-410 E/O SR-123 WB/EB",
           "Pierce"
          ],
          [
           "SR-512 @ I-5 WB/EB",
           "Pierce"
          ],
          [
           "SR-512 W/O SR-7 WB/EB",
           "Pierce"
          ],
          [
           "SR-512 S/O SR-167 WB/EB",
           "Pierce"
          ],
          [
           "SR-509 E/O I-705 NB/SB",
           "Pierce"
          ],
          [
           "SR-509 W/O Alexander NB/SB",
           "Pierce"
          ],
          [
           "SR-509 S/O 11th NB/SB",
           "Pierce"
          ],
          [
           "SR-509 N/O Hyada NB/SB",
           "Pierce"
          ],
          [
           "SR-509 E/O Soundview NB/SB",
           "Pierce"
          ],
          [
           "SR-509 E/O 47th NB/SB",
           "King"
          ],
          [
           "SR-509 E/O 21st NB/SB",
           "King"
          ],
          [
           "SR-509 W/O SR-516 NB/SB",
           "King"
          ],
          [
           "SR-509 W/O Des Moines Mem NB/SB",
           "King"
          ],
          [
           "SR-509 E/O 1st Ave NB/SB",
           "King"
          ],
          [
           "SR-509 E/O Des Moines Mem NB/SB",
           "King"
          ],
          [
           "SR-509 @ SR-509 ramp overpass NB/SB",
           "King"
          ],
          [
           "SR-509 N/O Des Moines Mem NB/SB",
           "King"
          ],
          [
           "SR-509 N/O SR-518 NB/SB",
           "King"
          ],
          [
           "SR-99 @ I-5 NB/SB",
           "Pierce"
          ],
          [
           "SR-99 E/O 54th NB/SB",
           "Pierce"
          ],
          [
           "SR-99 S/O Porter NB/SB",
           "Pierce"
          ],
          [
           "SR-99 S/O SR-18 NB/SB",
           "King"
          ],
          [
           "SR-99 N/O SR-18 NB/SB",
           "King"
          ],
          [
           "SR-99 N/O 320th NB/SB",
           "King"
          ],
          [
           "SR-99 N/O 188th NB/SB",
           "King"
          ],
          [
           "SR-99 @ WSF NB/SB",
           "King"
          ],
          [
           "SR-99 @ Aurora Bridge NB/SB",
           "King"
          ],
          [
           "SR-99 N/O 38th NB/SB",
           "King"
          ],
          [
           "SR-99 S/O Roosevelt NB/SB",
           "King"
          ],
          [
           "SR-99 E/O Evergreen NB/SB",
           "Snohomish"
          ],
          [
           "SR-599 N/O I-5 NB/SB",
           "King"
          ],
          [
           "SR-518 @ SR-509 WB/EB",
           "King"
          ],
          [
           "SR-518 E/O SR-509 WB/EB",
           "King"
          ],
          [
           "SR-18 E/O SR-99 WB/EB",
           "King"
          ],
          [
           "SR-18 N/O 304th WB/EB",
           "King"
          ],
          [
           "SR-18 S/O I-90 WB/EB",
           "King"
          ],
          [
           "SR-16 @ TNB NB/SB",
           "Pierce"
          ],
          [
           "SR-16 @ Purdy Dr NB/SB",
           "Pierce"
          ],
          [
           "SR-16  N/O SR-302 NB/SB",
           "Kitsap"
          ],
          [
           "SR-16 N/O SR-160 NB/SB",
           "Kitsap"
          ],
          [
           "SR-16 N/O Tremont NB/SB",
           "Kitsap"
          ],
          [
           "SR-16 S/O SR-3 NB",
           "Kitsap"
          ],
          [
           "SR-202 @ SR-522 NB/SB",
           "King"
          ],
          [
           "SR-202 N/O 145th NB/SB",
           "King"
          ],
          [
           "SR-202 @ Sammamish River Br NB/SB",
           "King"
          ],
          [
           "SR-202 S/O 144th NB/SB",
           "King"
          ],
          [
           "SR-202 N/O Redmond Way NB/SB",
           "King"
          ],
          [
           "SR-202 E/O 164th NB/SB",
           "King"
          ],
          [
           "SR-202 E/O SR-520 NB/SB",
           "King"
          ],
          [
           "SR-202 E/O E Lk Samm NB/SB",
           "King"
          ],
          [
           "SR-202 E/O Sahalee NB/SB",
           "King"
          ],
          [
           "SR-202 E/O 236th NB/SB",
           "King"
          ],
          [
           "SR-202 S/O Ames Lake NB/SB",
           "King"
          ],
          [
           "SR-202 S/O Duthie Hill NB/SB",
           "King"
          ],
          [
           "SR-202 E/O SR-203 NB/SB",
           "King"
          ],
          [
           "SR-202 N/O I-90 NB/SB",
           "King"
          ],
          [
           "SR-526 W/O Paine Field Blvd WB/EB",
           "Snohomish"
          ],
          [
           "SR-526 E/O Paine Field Blvd WB/EB",
           "Snohomish"
          ],
          [
           "SR-9 @ SR-522 NB/SB",
           "Snohomish"
          ],
          [
           "SR-9 N/O SR-2 NB/SB",
           "Snohomish"
          ],
          [
           "SR-9 N/O SR-204 NB/SB",
           "Snohomish"
          ],
          [
           "SR-9 N/O SR-92 NB/SB",
           "Snohomish"
          ],
          [
           "SR-9 N/O 132nd NB/SB",
           "Snohomish"
          ],
          [
           "SR-9 N/O SR-531 NB/SB",
           "Snohomish"
          ],
          [
           "SR-9 S/O 67th NB/SB",
           "Snohomish"
          ],
          [
           "SR-9 N/O Kackman NB/SB",
           "Snohomish"
          ],
          [
           "SR-9 N/O Stanwood-Bryant NB/SB",
           "Snohomish"
          ],
          [
           "SR-532 @ Island County WB/EB",
           "Snohomish"
          ],
          [
           "SR-532 W/O 28th WB/EB",
           "Snohomish"
          ],
          [
           "SR-522 N/O 145th NB/SB",
           "King"
          ],
          [
           "SR-104 @ Hood Canal Bridge WB/EB",
           "Kitsap"
          ],
          [
           "SR-104 E/O Hood Canal Bridge WB/EB",
           "Kitsap"
          ],
          [
           "SR-104 N/O Pt Gamble Rd WB/EB",
           "Kitsap"
          ],
          [
           "SR-104 E/O SR-307 WB/EB",
           "Kitsap"
          ],
          [
           "SR-104 E/O Hansville WB/EB",
           "Kitsap"
          ],
          [
           "SR-104 @ Ferry Loading Edm WB/EB",
           "Snohomish"
          ],
          [
           "SR-104 N/O Pine WB/EB",
           "Snohomish"
          ],
          [
           "SR-104 E/O 5th WB/EB",
           "Snohomish"
          ],
          [
           "SR-104 W/O 19th WB/EB",
           "King"
          ],
          [
           "SR-160 @ SR-16 WB/EB",
           "Kitsap"
          ],
          [
           "SR-160 E/O Long Lake Rd WB/EB",
           "Kitsap"
          ],
          [
           "SR-160 W/O Banner WB/EB",
           "Kitsap"
          ],
          [
           "SR-160 E/O Peterson WB/EB",
           "Kitsap"
          ],
          [
           "SR-160 S/O Southworth Dr WB/EB",
           "Kitsap"
          ],
          [
           "SR-166 E/O SR-16 WB/EB",
           "Kitsap"
          ],
          [
           "SR-3 E/O Sunset Way NB/SB",
           "Kitsap"
          ],
          [
           "SR-3 N/O SR-305 NB/SB",
           "Kitsap"
          ],
          [
           "SR-3 S/O Newberry Hill Rd NB/SB",
           "Kitsap"
          ],
          [
           "SR-3 @ SR-304 NB/SB",
           "Kitsap"
          ],
          [
           "SR-3 NE of SR-16 NB/SB",
           "Kitsap"
          ],
          [
           "SR-3 W/O Lake Flora Rd NB/SB",
           "Kitsap"
          ],
          [
           "SR-302 N/O 144th WB/EB",
           "Pierce"
          ],
          [
           "SR-302 S/O 144th WB/EB",
           "Pierce"
          ],
          [
           "SR-302 W/O Key Peninsula Hwy WB/EB",
           "Pierce"
          ],
          [
           "SR-302 W/O Wright-Bliss WB/EB (E/O?)",
           "Pierce"
          ],
          [
           "SR-303 E/O SR-3 NB/SB",
           "Kitsap"
          ],
          [
           "SR-303 N/O 11th St NB/SB",
           "Kitsap"
          ],
          [
           "SR-303 N/O SR-304 NB/SB",
           "Kitsap"
          ],
          [
           "SR-304 E/O SR-3 WB/EB",
           "Kitsap"
          ],
          [
           "SR-304 W/O Naval WB/EB",
           "Kitsap"
          ],
          [
           "SR-305 W/O SR-307 WB/EB",
           "Kitsap"
          ],
          [
           "SR-305 W/O Suquamish Way WB/EB",
           "Kitsap"
          ],
          [
           "SR-305 N/O Day Rd WB/EB",
           "Kitsap"
          ],
          [
           "SR-305 N/O High School Rd WB/EB",
           "Kitsap"
          ],
          [
           "SR-305 S/O Winslow Way WB/EB",
           "Kitsap"
          ],
          [
           "SR-305 @ Ferry Ramp WB/EB",
           "Kitsap"
          ],
          [
           "SR-307 W/O SR-104 NB/SB",
           "Kitsap"
          ],
          [
           "SR-307 N/O Gunderson NB/SB",
           "Kitsap"
          ],
          [
           "SR-307 S/O Gunderson NB/SB",
           "Kitsap"
          ],
          [
           "SR-307 N/O SR-305 NB/SB",
           "Kitsap"
          ],
          [
           "SR-308 @ SR-3 WB/EB",
           "Kitsap"
          ],
          [
           "SR-308 E/O SR-3 WB/EB",
           "Kitsap"
          ],
          [
           "SR-308 E/O Silverdale Way WB/EB",
           "Kitsap"
          ],
          [
           "SR-308 W/O Brownsville Hwy WB/EB",
           "Kitsap"
          ],
          [
           "SR-310 @ SR-3 WB/EB",
           "Kitsap"
          ],
          [
           "SR-310 W/O Callow WB/EB",
           "Kitsap"
          ],
          [
           "SR-516 E/O SR-509 WB/EB",
           "King"
          ],
          [
           "SR-516 W/O I-5 WB/EB",
           "King"
          ],
          [
           "SR-516 E/O Meeker WB/EB",
           "King"
          ],
          [
           "SR-516 W/O SR-167 WB/EB",
           "King"
          ],
          [
           "SR-516 E/O SR-167 WB/EB",
           "King"
          ],
          [
           "SR-516 E/O SR-18 WB/EB",
           "King"
          ],
          [
           "SR-161 E/O SR-7 NB/SB",
           "Pierce"
          ],
          [
           "SR-161 N/O Center NB/SB",
           "Pierce"
          ],
          [
           "SR-161 N/O Eatonville Cutoff NB/SB",
           "Pierce"
          ],
          [
           "SR-161 N/O 304th NB/SB",
           "Pierce"
          ],
          [
           "SR-161 N/O 264th NB/SB",
           "Pierce"
          ],
          [
           "SR-161 S/O 224th NB/SB",
           "Pierce"
          ],
          [
           "SR-161 N/O 224th NB/SB",
           "Pierce"
          ],
          [
           "SR-161 N/O 204th NB/SB",
           "Pierce"
          ],
          [
           "SR-161 S/O SR-167 SB off-ramp NB/SB",
           "Pierce"
          ],
          [
           "SR-161 S/O Valley NB/SB",
           "Pierce"
          ],
          [
           "SR-161 N/O Valley NB/SB",
           "Pierce"
          ],
          [
           "SR-161 N/O 8th NB/SB",
           "Pierce"
          ],
          [
           "SR-900 S/O NB I-5 on-ramp @ Boe Acc WB/EB",
           "King"
          ],
          [
           "SR-900 E/O 68th WB/EB",
           "King"
          ],
          [
           "SR-900 @ I-405 WB/EB",
           "King"
          ],
          [
           "SR-900 E/O 148th WB/EB",
           "King"
          ],
          [
           "SR-900 N/O Talus WB/EB",
           "King"
          ],
          [
           "SR-900 N/O Newport WB/EB",
           "King"
          ],
          [
           "SR-524 W/O 3rd WB/EB",
           "Snohomish"
          ],
          [
           "SR-524 S/O Main WB/EB",
           "Snohomish"
          ],
          [
           "SR-524 N/O Main WB/EB",
           "Snohomish"
          ],
          [
           "SR-524 E/O 68th WB/EB",
           "Snohomish"
          ],
          [
           "SR-524 E/O 39th WB/EB",
           "Snohomish"
          ],
          [
           "SR-524 N/O Paradise Lake WB/EB",
           "Snohomish"
          ],
          [
           "SR-7 @ Thurston County NB/SB",
           "Pierce"
          ],
          [
           "SR-7 W/O Alder Cutoff NB/SB",
           "Pierce"
          ],
          [
           "SR-7 N/O Eatonville Hwy NB/SB",
           "Pierce"
          ],
          [
           "SR-7 N/O Silver Lake NB/SB",
           "Pierce"
          ],
          [
           "SR-7 S/O SR-702 NB/SB",
           "Pierce"
          ],
          [
           "SR-7 N/O 304th NB/SB",
           "Pierce"
          ],
          [
           "SR-7 N/O 260th NB/SB",
           "Pierce"
          ],
          [
           "SR-7 S/O 224th NB/SB",
           "Pierce"
          ],
          [
           "SR-7 N/O 224th NB/SB",
           "Pierce"
          ],
          [
           "SR-7 N/O 38th NB/SB",
           "Pierce"
          ],
          [
           "SR-2 E/O I-5 WB/EB",
           "Snohomish"
          ],
          [
           "SR-2 S/O SR-204 WB/EB",
           "Snohomish"
          ],
          [
           "SR-2 E/O Main WB/EB",
           "Snohomish"
          ],
          [
           "SR-2 E/O Rice WB/EB",
           "Snohomish"
          ],
          [
           "SR-2 E/O 10th (Gold Bar) WB/EB",
           "Snohomish"
          ],
          [
           "SR-2 W/O Index-Galena WB/EB",
           "Snohomish"
          ],
          [
           "SR-2 E/O Index-Galena WB/EB",
           "Snohomish"
          ],
          [
           "SR-2 E/O Skykomish WB/EB",
           "King"
          ],
          [
           "SR-527 N/O I-405 NB/SB",
           "Snohomish"
          ],
          [
           "SR-527 N/O 196th NB/SB",
           "Snohomish"
          ],
          [
           "SR-527 N/O Dumas NB/SB",
           "Snohomish"
          ],
          [
           "SR-527 N/O 100th NB/SB",
           "Snohomish"
          ],
          [
           "SR-513 S/O 44th NB/SB",
           "King"
          ],
          [
           "SR-169 N/O SR-164 NB/SB",
           "King"
          ],
          [
           "SR-169 S/O Lawson NB/SB",
           "King"
          ],
          [
           "SR-169 S/O 276th NB/SB",
           "King"
          ],
          [
           "SR-169 N/O 280th NB/SB",
           "King"
          ],
          [
           "SR-169 N/O 231st NB/SB",
           "King"
          ],
          [
           "SR-169 N/O 232nd NB/SB",
           "King"
          ],
          [
           "SR-169 W/O 140th NB/SB",
           "King"
          ],
          [
           "SR-515 N/O SR-516 NB/SB",
           "King"
          ],
          [
           "SR-515 N/O 108th NB/SB",
           "King"
          ],
          [
           "SR-515 N/O Puget NB/SB",
           "King"
          ],
          [
           "SR-181 N/O SR-516 NB/SB",
           "King"
          ],
          [
           "SR-181 S/O James NB/SB",
           "King"
          ],
          [
           "SR-181 N/O James NB/SB",
           "King"
          ],
          [
           "SR-181 N/O 228th NB/SB",
           "King"
          ],
          [
           "SR-181 N/O 180th NB/SB",
           "King"
          ],
          [
           "SR-181 S/O Longacres NB/SB",
           "King"
          ],
          [
           "SR-523 E/O Lenora WB/EB",
           "King"
          ],
          [
           "SR-529 @ I-5 (Evt) NB/SB",
           "Snohomish"
          ],
          [
           "SR-529 S/O Everett NB/SB",
           "Snohomish"
          ],
          [
           "SR-529 W/O Maple NB/SB",
           "Snohomish"
          ],
          [
           "SR-529 N/O Everett NB/SB",
           "Snohomish"
          ],
          [
           "SR-529 N/O Broadway NB/SB",
           "Snohomish"
          ],
          [
           "SR-96 @ I-5 WB/EB",
           "Snohomish"
          ],
          [
           "SR-96 N/O 132nd WB/EB",
           "Snohomish"
          ],
          [
           "SR-96 E/O Seattle Hill WB/EB",
           "Snohomish"
          ],
          [
           "SR-164 @ SR-18 WB/EB",
           "King"
          ],
          [
           "SR-164 S/O 400th WB/EB",
           "King"
          ],
          [
           "SR-528 @ I-5 WB/EB",
           "Snohomish"
          ],
          [
           "SR-528 E/O SR-529 WB/EB",
           "Snohomish"
          ],
          [
           "SR-531 N/O Rose WB/EB",
           "Snohomish"
          ],
          [
           "SR-531 E/O Lk Goodwin WB/EB",
           "Snohomish"
          ],
          [
           "SR-531 E/O 27th WB/EB",
           "Snohomish"
          ],
          [
           "SR-531 E/O I-5 WB/EB",
           "Snohomish"
          ],
          [
           "SR-531 E/O 43rd WB/EB",
           "Snohomish"
          ],
          [
           "SR-531 W/O 67th WB/EB",
           "Snohomish"
          ],
          [
           "SR-531 E/O 67th WB/EB",
           "Snohomish"
          ],
          [
           "SR-162 @ SR-410 WB/EB",
           "Pierce"
          ],
          [
           "SR-162 S/O Pioneer WB/EB",
           "Pierce"
          ],
          [
           "SR-162 E/O Orville WB/EB",
           "Pierce"
          ],
          [
           "SR-162 E/O S Prairie WB/EB",
           "Pierce"
          ],
          [
           "SR-162 N/O SR-165 WB/EB",
           "Pierce"
          ],
          [
           "SR-163 @ SR-16 NB/SB",
           "Pierce"
          ],
          [
           "SR-163 N/O 37th NB/SB",
           "Pierce"
          ],
          [
           "SR-163 N/O Park NB/SB",
           "Pierce"
          ],
          [
           "SR-530 @ I-5 WB/EB",
           "Snohomish"
          ],
          [
           "SR-530 E/O Smokey Pt WB/EB",
           "Snohomish"
          ],
          [
           "SR-530 N/O 211th WB/EB",
           "Snohomish"
          ],
          [
           "SR-530 E/O SR-9 WB/EB",
           "Snohomish"
          ],
          [
           "SR-530 W/O Arlington Hts WB/EB",
           "Snohomish"
          ],
          [
           "SR-530 E/O Arlington Hts WB/EB",
           "Snohomish"
          ],
          [
           "SR-530 W/O Jim Creek WB/EB",
           "Snohomish"
          ],
          [
           "SR-530 W/O Ramstad WB/EB",
           "Snohomish"
          ],
          [
           "SR-530 @ Skagit County WB/EB",
           "Snohomish"
          ],
          [
           "SR-203 N/O 203rd NB/SB",
           "Snohomish"
          ],
          [
           "SR-203 N/O Cherry Valley NB/SB",
           "King"
          ],
          [
           "SR-203 N/O 124th NB/SB",
           "King"
          ],
          [
           "SR-203 W/O Stillwater Hill NB/SB",
           "King"
          ],
          [
           "SR-203 N/O Carnation Farm NB/SB",
           "King"
          ],
          [
           "SR-203 N/O Tolt Hill NB/SB",
           "King"
          ],
          [
           "SR-203 N/O SR-202 NB/SB",
           "King"
          ],
          [
           "SR-507 S/O SR-7 NB/SB",
           "Pierce"
          ],
          [
           "SR-507 S/O E Gate NB/SB",
           "Pierce"
          ],
          [
           "SR-507 S/O 288th NB/SB",
           "Pierce"
          ],
          [
           "SR-507 N/O 346th NB/SB",
           "Pierce"
          ],
          [
           "SR-204 @ SR-2 NB/SB",
           "Snohomish"
          ],
          [
           "SR-204 N/O 20th NB/SB",
           "Snohomish"
          ],
          [
           "SR-204 N/O SR-2 NB/SB",
           "Snohomish"
          ],
          [
           "SR-519 W/O 4th NB/SB",
           "King"
          ],
          [
           "SR-92 E/O Lake WB/EB",
           "Snohomish"
          ],
          [
           "SR-92 E/O Callow WB/EB",
           "Snohomish"
          ],
          [
           "SR-92 E/O Quarry WB/EB",
           "Snohomish"
          ],
          [
           "SR-92 W/O Mountain Loop WB/EB",
           "Snohomish"
          ],
          [
           "SR-702 E/O SR-507 WB/EB",
           "Pierce"
          ],
          [
           "SR-702 E/O Harts Lake WB/EB",
           "Pierce"
          ],
          [
           "SR-702 E/O 40th WB/EB",
           "Pierce"
          ],
          [
           "SR-702 W/O 8th WB/EB",
           "Pierce"
          ],
          [
           "SR-702 E/O 8th WB/EB",
           "Pierce"
          ],
          [
           "SR-165 W/O SR-162 NB/SB",
           "Pierce"
          ],
          [
           "SR-165 N/O Davis NB/SB",
           "Pierce"
          ],
          [
           "SR-165 N/O Wilkeson-Carbonado NB/SB",
           "Pierce"
          ],
          [
           "SR-704 E/O Spanaway Loop WB/EB",
           "Pierce"
          ],
          [
           "SR-706 E/O SR-7 WB/EB",
           "Pierce"
          ],
          [
           "SR-706 E/O Kernahan WB/EB",
           "Pierce"
          ]
         ],
         "hovertemplate": "Observed=%{x}<br>Model=%{y}<br>location=%{customdata[0]}<br>County=%{customdata[1]}<extra></extra>",
         "legendgroup": "",
         "line": {
          "color": "Grey",
          "width": 2
         },
         "marker": {
          "color": "#91268F",
          "symbol": "circle"
         },
         "mode": "markers",
         "name": "",
         "orientation": "v",
         "showlegend": false,
         "type": "scatter",
         "x": [
          5573,
          5542,
          5922,
          6132,
          4944,
          4825,
          5532,
          5301,
          5029,
          5099,
          5967,
          6014,
          2704,
          5893,
          3834,
          4831,
          2322,
          2482,
          2931,
          2951,
          3252,
          3274,
          3206,
          3377,
          2734,
          3167,
          3043,
          3126,
          2304,
          2316,
          764,
          901,
          830,
          1933,
          1905,
          2505,
          855,
          1392,
          2142,
          321,
          258,
          1355,
          1425,
          403,
          274,
          137,
          138,
          2142,
          2289,
          2264,
          2273,
          3621,
          3308,
          2397,
          2397,
          938,
          942,
          1170,
          868,
          173,
          157,
          144,
          131,
          1302,
          1091,
          1389,
          920,
          945,
          1721,
          2401,
          2292,
          2108,
          2077,
          2714,
          2654,
          764,
          823,
          2893,
          4052,
          4113,
          3334,
          10502,
          6332,
          6539,
          2933,
          173,
          48,
          308,
          7266,
          3486,
          614,
          508,
          797,
          31,
          21,
          17,
          14,
          3402,
          3992,
          4756,
          962,
          2112,
          103,
          11,
          14,
          19,
          68,
          60,
          10,
          32,
          86,
          120,
          210,
          372,
          1392,
          2775,
          1196,
          1242,
          280,
          288,
          174,
          222,
          146,
          108,
          141,
          123,
          2754,
          246,
          336,
          1417,
          5817,
          3461,
          1762,
          1426,
          1558,
          1210,
          1364,
          1155,
          265,
          83,
          76,
          321,
          54,
          146,
          477,
          307,
          420,
          378,
          300,
          318,
          284,
          110,
          99,
          92,
          699,
          285,
          653,
          317,
          372,
          169,
          229,
          167,
          82,
          309,
          328,
          167,
          612,
          75,
          70,
          144,
          84,
          59,
          55,
          72,
          76,
          114,
          34,
          30,
          19,
          12,
          140,
          1020,
          1012,
          1159,
          988,
          1360,
          288,
          79,
          104,
          57,
          52,
          180,
          216,
          98,
          210,
          126,
          266,
          420,
          420,
          234,
          11,
          9,
          196,
          168,
          126,
          120,
          39,
          36,
          66,
          22,
          138,
          26,
          80,
          540,
          375,
          960,
          288,
          351,
          25,
          201,
          112,
          418,
          338,
          324,
          324,
          532,
          850,
          1739,
          180,
          175,
          396,
          84,
          208,
          76,
          242,
          84,
          8,
          6,
          6,
          76,
          176,
          507,
          142,
          110,
          67,
          90,
          98,
          400,
          377,
          432,
          374,
          168,
          891,
          874,
          506,
          420,
          444,
          243,
          192,
          126,
          265,
          279,
          44,
          156,
          56,
          224,
          440,
          304,
          231,
          850,
          1035,
          1248,
          100,
          96,
          141,
          957,
          897,
          899,
          1050,
          999,
          918,
          84,
          88,
          49,
          65,
          84,
          825,
          220,
          42,
          62,
          297,
          198,
          260,
          330,
          18,
          99,
          429,
          697,
          696,
          340,
          182,
          420,
          1034,
          209,
          136,
          135,
          40,
          36,
          90,
          705,
          609,
          464,
          400,
          403,
          383,
          380,
          299,
          47,
          408,
          340,
          364,
          315,
          284,
          330,
          332,
          464,
          352,
          520,
          351,
          58,
          55,
          400,
          638,
          494,
          448,
          60,
          718,
          252,
          220,
          266,
          166,
          254,
          166,
          50,
          18,
          648,
          38,
          13
         ],
         "xaxis": "x",
         "y": [
          5574,
          5572,
          5831,
          5831,
          5809,
          5807,
          5677,
          5621,
          5355,
          5924,
          6043,
          6071,
          5447,
          8223,
          10261,
          10137,
          5235,
          5463,
          5061,
          5250,
          6338,
          6213,
          5970,
          5875,
          5891,
          5783,
          5022,
          4978,
          3892,
          3868,
          4885,
          1134,
          1246,
          1254,
          1285,
          1319,
          223,
          1702,
          4447,
          4346,
          4027,
          2251,
          1872,
          834,
          737,
          61,
          57,
          3617,
          3832,
          4870,
          5083,
          4148,
          4068,
          1319,
          1268,
          204,
          319,
          1362,
          868,
          169,
          198,
          68,
          76,
          1501,
          1031,
          1444,
          986,
          1523,
          622,
          1752,
          1698,
          1785,
          1737,
          1815,
          1761,
          1826,
          1745,
          7143,
          6858,
          6703,
          2920,
          5915,
          6040,
          5173,
          4164,
          102,
          115,
          684,
          4397,
          1800,
          84,
          34,
          94,
          94,
          94,
          94,
          94,
          1323,
          1640,
          2945,
          820,
          1158,
          1903,
          0,
          0,
          0,
          25,
          43,
          15,
          13,
          13,
          122,
          250,
          458,
          1323,
          1026,
          894,
          2493,
          84,
          134,
          225,
          210,
          172,
          21,
          33,
          0,
          2888,
          500,
          519,
          2697,
          3371,
          3906,
          4740,
          3830,
          3839,
          3204,
          3166,
          1580,
          18,
          18,
          5,
          24,
          41,
          41,
          1314,
          12,
          1,
          36,
          36,
          30,
          286,
          321,
          2,
          58,
          371,
          283,
          476,
          539,
          128,
          41,
          43,
          59,
          189,
          115,
          115,
          122,
          956,
          2,
          2,
          153,
          115,
          0,
          34,
          34,
          41,
          199,
          18,
          18,
          21,
          21,
          2,
          954,
          1169,
          2452,
          2898,
          3176,
          9,
          27,
          21,
          252,
          237,
          22,
          168,
          50,
          277,
          149,
          478,
          149,
          127,
          98,
          0,
          0,
          153,
          153,
          154,
          258,
          56,
          109,
          38,
          0,
          9,
          0,
          38,
          419,
          2008,
          2444,
          1734,
          70,
          0,
          41,
          41,
          90,
          90,
          111,
          137,
          174,
          714,
          1147,
          78,
          715,
          1226,
          98,
          189,
          57,
          133,
          128,
          4,
          0,
          4,
          9,
          22,
          181,
          0,
          16,
          16,
          16,
          16,
          67,
          70,
          71,
          58,
          13,
          838,
          619,
          1895,
          2008,
          1987,
          1987,
          1882,
          64,
          66,
          58,
          2,
          9,
          0,
          0,
          56,
          73,
          73,
          101,
          193,
          199,
          5,
          16,
          42,
          1006,
          1005,
          1095,
          2093,
          1488,
          1501,
          38,
          120,
          60,
          12,
          113,
          23,
          74,
          22,
          4,
          255,
          116,
          750,
          223,
          0,
          7,
          197,
          1321,
          1262,
          83,
          87,
          125,
          96,
          5,
          5,
          5,
          95,
          96,
          249,
          113,
          152,
          148,
          133,
          134,
          133,
          133,
          133,
          1,
          546,
          545,
          499,
          508,
          508,
          508,
          508,
          442,
          474,
          468,
          468,
          37,
          58,
          286,
          983,
          214,
          214,
          0,
          60,
          6,
          6,
          19,
          19,
          17,
          5,
          0,
          0,
          402,
          0,
          0
         ],
         "yaxis": "y"
        },
        {
         "hovertemplate": "Observed=%{x}<br>Model=%{y}<extra></extra>",
         "legendgroup": "",
         "line": {
          "color": "Grey",
          "dash": "solid",
          "width": 2
         },
         "marker": {
          "symbol": "circle"
         },
         "mode": "lines",
         "name": "",
         "orientation": "v",
         "showlegend": false,
         "type": "scatter",
         "x": [
          0,
          106.08080808080808,
          212.16161616161617,
          318.24242424242425,
          424.32323232323233,
          530.4040404040404,
          636.4848484848485,
          742.5656565656566,
          848.6464646464647,
          954.7272727272727,
          1060.8080808080808,
          1166.888888888889,
          1272.969696969697,
          1379.050505050505,
          1485.1313131313132,
          1591.2121212121212,
          1697.2929292929293,
          1803.3737373737374,
          1909.4545454545455,
          2015.5353535353536,
          2121.6161616161617,
          2227.69696969697,
          2333.777777777778,
          2439.8585858585857,
          2545.939393939394,
          2652.0202020202023,
          2758.10101010101,
          2864.181818181818,
          2970.2626262626263,
          3076.3434343434346,
          3182.4242424242425,
          3288.5050505050503,
          3394.5858585858587,
          3500.666666666667,
          3606.747474747475,
          3712.8282828282827,
          3818.909090909091,
          3924.9898989898993,
          4031.070707070707,
          4137.151515151515,
          4243.232323232323,
          4349.313131313132,
          4455.39393939394,
          4561.474747474747,
          4667.555555555556,
          4773.636363636364,
          4879.717171717171,
          4985.79797979798,
          5091.878787878788,
          5197.959595959596,
          5304.040404040405,
          5410.121212121212,
          5516.20202020202,
          5622.282828282829,
          5728.363636363636,
          5834.444444444444,
          5940.525252525253,
          6046.606060606061,
          6152.686868686869,
          6258.767676767677,
          6364.848484848485,
          6470.929292929293,
          6577.010101010101,
          6683.090909090909,
          6789.171717171717,
          6895.252525252526,
          7001.333333333334,
          7107.414141414141,
          7213.49494949495,
          7319.575757575758,
          7425.656565656565,
          7531.737373737374,
          7637.818181818182,
          7743.89898989899,
          7849.979797979799,
          7956.060606060606,
          8062.141414141414,
          8168.222222222223,
          8274.30303030303,
          8380.38383838384,
          8486.464646464647,
          8592.545454545454,
          8698.626262626263,
          8804.70707070707,
          8910.78787878788,
          9016.868686868687,
          9122.949494949495,
          9229.030303030304,
          9335.111111111111,
          9441.191919191919,
          9547.272727272728,
          9653.353535353535,
          9759.434343434343,
          9865.515151515152,
          9971.59595959596,
          10077.676767676769,
          10183.757575757576,
          10289.838383838383,
          10395.919191919193,
          10502
         ],
         "xaxis": "x",
         "y": [
          158.67028173401218,
          271.59684164981115,
          384.5234015656102,
          497.44996148140916,
          610.3765213972082,
          723.3030813130072,
          836.2296412288061,
          949.1562011446052,
          1062.0827610604042,
          1175.009320976203,
          1287.9358808920022,
          1400.8624408078012,
          1513.7890007236,
          1626.7155606393992,
          1739.6421205551983,
          1852.5686804709972,
          1965.4952403867962,
          2078.4218003025953,
          2191.348360218394,
          2304.274920134193,
          2417.201480049992,
          2530.1280399657917,
          2643.0545998815905,
          2755.9811597973894,
          2868.9077197131883,
          2981.834279628987,
          3094.760839544786,
          3207.687399460585,
          3320.6139593763846,
          3433.5405192921835,
          3546.4670792079824,
          3659.393639123781,
          3772.32019903958,
          3885.24675895538,
          3998.173318871178,
          4111.099878786977,
          4224.026438702776,
          4336.952998618575,
          4449.879558534374,
          4562.806118450173,
          4675.732678365972,
          4788.659238281772,
          4901.5857981975705,
          5014.5123581133685,
          5127.438918029168,
          5240.365477944967,
          5353.292037860766,
          5466.218597776565,
          5579.145157692364,
          5692.071717608163,
          5804.998277523962,
          5917.924837439761,
          6030.85139735556,
          6143.777957271359,
          6256.704517187158,
          6369.631077102957,
          6482.557637018756,
          6595.484196934555,
          6708.410756850354,
          6821.337316766153,
          6934.263876681952,
          7047.190436597752,
          7160.11699651355,
          7273.043556429348,
          7385.970116345148,
          7498.896676260947,
          7611.823236176747,
          7724.749796092545,
          7837.676356008344,
          7950.602915924143,
          8063.529475839941,
          8176.456035755741,
          8289.382595671541,
          8402.30915558734,
          8515.235715503139,
          8628.162275418937,
          8741.088835334736,
          8854.015395250535,
          8966.941955166334,
          9079.868515082133,
          9192.795074997932,
          9305.72163491373,
          9418.648194829531,
          9531.574754745328,
          9644.501314661129,
          9757.427874576928,
          9870.354434492725,
          9983.280994408526,
          10096.207554324325,
          10209.134114240122,
          10322.060674155922,
          10434.987234071721,
          10547.91379398752,
          10660.840353903319,
          10773.766913819118,
          10886.693473734918,
          10999.620033650715,
          11112.546593566514,
          11225.473153482315,
          11338.399713398112
         ],
         "yaxis": "y"
        }
       ],
       "layout": {
        "annotations": [
         {
          "align": "right",
          "font": {
           "color": "pink",
           "size": 12
          },
          "showarrow": false,
          "text": "y = x",
          "x": 11027.1,
          "y": 11027.1
         },
         {
          "align": "right",
          "font": {
           "color": "black",
           "size": 12
          },
          "showarrow": false,
          "text": "r^2 = 0.70",
          "x": 11027.1,
          "y": 11905.319699068019
         }
        ],
        "height": 600,
        "legend": {
         "tracegroupgap": 0
        },
        "margin": {
         "b": 100,
         "l": 100,
         "r": 100,
         "t": 100
        },
        "shapes": [
         {
          "line": {
           "color": "Red",
           "dash": "dash",
           "width": 2
          },
          "type": "line",
          "x0": 0,
          "x1": 10502,
          "y0": 0,
          "y1": 10502
         }
        ],
        "template": {
         "data": {
          "bar": [
           {
            "error_x": {
             "color": "rgb(36,36,36)"
            },
            "error_y": {
             "color": "rgb(36,36,36)"
            },
            "marker": {
             "line": {
              "color": "white",
              "width": 0.5
             },
             "pattern": {
              "fillmode": "overlay",
              "size": 10,
              "solidity": 0.2
             }
            },
            "type": "bar"
           }
          ],
          "barpolar": [
           {
            "marker": {
             "line": {
              "color": "white",
              "width": 0.5
             },
             "pattern": {
              "fillmode": "overlay",
              "size": 10,
              "solidity": 0.2
             }
            },
            "type": "barpolar"
           }
          ],
          "carpet": [
           {
            "aaxis": {
             "endlinecolor": "rgb(36,36,36)",
             "gridcolor": "white",
             "linecolor": "white",
             "minorgridcolor": "white",
             "startlinecolor": "rgb(36,36,36)"
            },
            "baxis": {
             "endlinecolor": "rgb(36,36,36)",
             "gridcolor": "white",
             "linecolor": "white",
             "minorgridcolor": "white",
             "startlinecolor": "rgb(36,36,36)"
            },
            "type": "carpet"
           }
          ],
          "choropleth": [
           {
            "colorbar": {
             "outlinewidth": 1,
             "tickcolor": "rgb(36,36,36)",
             "ticks": "outside"
            },
            "type": "choropleth"
           }
          ],
          "contour": [
           {
            "colorbar": {
             "outlinewidth": 1,
             "tickcolor": "rgb(36,36,36)",
             "ticks": "outside"
            },
            "colorscale": [
             [
              0,
              "#440154"
             ],
             [
              0.1111111111111111,
              "#482878"
             ],
             [
              0.2222222222222222,
              "#3e4989"
             ],
             [
              0.3333333333333333,
              "#31688e"
             ],
             [
              0.4444444444444444,
              "#26828e"
             ],
             [
              0.5555555555555556,
              "#1f9e89"
             ],
             [
              0.6666666666666666,
              "#35b779"
             ],
             [
              0.7777777777777778,
              "#6ece58"
             ],
             [
              0.8888888888888888,
              "#b5de2b"
             ],
             [
              1,
              "#fde725"
             ]
            ],
            "type": "contour"
           }
          ],
          "contourcarpet": [
           {
            "colorbar": {
             "outlinewidth": 1,
             "tickcolor": "rgb(36,36,36)",
             "ticks": "outside"
            },
            "type": "contourcarpet"
           }
          ],
          "heatmap": [
           {
            "colorbar": {
             "outlinewidth": 1,
             "tickcolor": "rgb(36,36,36)",
             "ticks": "outside"
            },
            "colorscale": [
             [
              0,
              "#440154"
             ],
             [
              0.1111111111111111,
              "#482878"
             ],
             [
              0.2222222222222222,
              "#3e4989"
             ],
             [
              0.3333333333333333,
              "#31688e"
             ],
             [
              0.4444444444444444,
              "#26828e"
             ],
             [
              0.5555555555555556,
              "#1f9e89"
             ],
             [
              0.6666666666666666,
              "#35b779"
             ],
             [
              0.7777777777777778,
              "#6ece58"
             ],
             [
              0.8888888888888888,
              "#b5de2b"
             ],
             [
              1,
              "#fde725"
             ]
            ],
            "type": "heatmap"
           }
          ],
          "heatmapgl": [
           {
            "colorbar": {
             "outlinewidth": 1,
             "tickcolor": "rgb(36,36,36)",
             "ticks": "outside"
            },
            "colorscale": [
             [
              0,
              "#440154"
             ],
             [
              0.1111111111111111,
              "#482878"
             ],
             [
              0.2222222222222222,
              "#3e4989"
             ],
             [
              0.3333333333333333,
              "#31688e"
             ],
             [
              0.4444444444444444,
              "#26828e"
             ],
             [
              0.5555555555555556,
              "#1f9e89"
             ],
             [
              0.6666666666666666,
              "#35b779"
             ],
             [
              0.7777777777777778,
              "#6ece58"
             ],
             [
              0.8888888888888888,
              "#b5de2b"
             ],
             [
              1,
              "#fde725"
             ]
            ],
            "type": "heatmapgl"
           }
          ],
          "histogram": [
           {
            "marker": {
             "line": {
              "color": "white",
              "width": 0.6
             }
            },
            "type": "histogram"
           }
          ],
          "histogram2d": [
           {
            "colorbar": {
             "outlinewidth": 1,
             "tickcolor": "rgb(36,36,36)",
             "ticks": "outside"
            },
            "colorscale": [
             [
              0,
              "#440154"
             ],
             [
              0.1111111111111111,
              "#482878"
             ],
             [
              0.2222222222222222,
              "#3e4989"
             ],
             [
              0.3333333333333333,
              "#31688e"
             ],
             [
              0.4444444444444444,
              "#26828e"
             ],
             [
              0.5555555555555556,
              "#1f9e89"
             ],
             [
              0.6666666666666666,
              "#35b779"
             ],
             [
              0.7777777777777778,
              "#6ece58"
             ],
             [
              0.8888888888888888,
              "#b5de2b"
             ],
             [
              1,
              "#fde725"
             ]
            ],
            "type": "histogram2d"
           }
          ],
          "histogram2dcontour": [
           {
            "colorbar": {
             "outlinewidth": 1,
             "tickcolor": "rgb(36,36,36)",
             "ticks": "outside"
            },
            "colorscale": [
             [
              0,
              "#440154"
             ],
             [
              0.1111111111111111,
              "#482878"
             ],
             [
              0.2222222222222222,
              "#3e4989"
             ],
             [
              0.3333333333333333,
              "#31688e"
             ],
             [
              0.4444444444444444,
              "#26828e"
             ],
             [
              0.5555555555555556,
              "#1f9e89"
             ],
             [
              0.6666666666666666,
              "#35b779"
             ],
             [
              0.7777777777777778,
              "#6ece58"
             ],
             [
              0.8888888888888888,
              "#b5de2b"
             ],
             [
              1,
              "#fde725"
             ]
            ],
            "type": "histogram2dcontour"
           }
          ],
          "mesh3d": [
           {
            "colorbar": {
             "outlinewidth": 1,
             "tickcolor": "rgb(36,36,36)",
             "ticks": "outside"
            },
            "type": "mesh3d"
           }
          ],
          "parcoords": [
           {
            "line": {
             "colorbar": {
              "outlinewidth": 1,
              "tickcolor": "rgb(36,36,36)",
              "ticks": "outside"
             }
            },
            "type": "parcoords"
           }
          ],
          "pie": [
           {
            "automargin": true,
            "type": "pie"
           }
          ],
          "scatter": [
           {
            "fillpattern": {
             "fillmode": "overlay",
             "size": 10,
             "solidity": 0.2
            },
            "type": "scatter"
           }
          ],
          "scatter3d": [
           {
            "line": {
             "colorbar": {
              "outlinewidth": 1,
              "tickcolor": "rgb(36,36,36)",
              "ticks": "outside"
             }
            },
            "marker": {
             "colorbar": {
              "outlinewidth": 1,
              "tickcolor": "rgb(36,36,36)",
              "ticks": "outside"
             }
            },
            "type": "scatter3d"
           }
          ],
          "scattercarpet": [
           {
            "marker": {
             "colorbar": {
              "outlinewidth": 1,
              "tickcolor": "rgb(36,36,36)",
              "ticks": "outside"
             }
            },
            "type": "scattercarpet"
           }
          ],
          "scattergeo": [
           {
            "marker": {
             "colorbar": {
              "outlinewidth": 1,
              "tickcolor": "rgb(36,36,36)",
              "ticks": "outside"
             }
            },
            "type": "scattergeo"
           }
          ],
          "scattergl": [
           {
            "marker": {
             "colorbar": {
              "outlinewidth": 1,
              "tickcolor": "rgb(36,36,36)",
              "ticks": "outside"
             }
            },
            "type": "scattergl"
           }
          ],
          "scattermapbox": [
           {
            "marker": {
             "colorbar": {
              "outlinewidth": 1,
              "tickcolor": "rgb(36,36,36)",
              "ticks": "outside"
             }
            },
            "type": "scattermapbox"
           }
          ],
          "scatterpolar": [
           {
            "marker": {
             "colorbar": {
              "outlinewidth": 1,
              "tickcolor": "rgb(36,36,36)",
              "ticks": "outside"
             }
            },
            "type": "scatterpolar"
           }
          ],
          "scatterpolargl": [
           {
            "marker": {
             "colorbar": {
              "outlinewidth": 1,
              "tickcolor": "rgb(36,36,36)",
              "ticks": "outside"
             }
            },
            "type": "scatterpolargl"
           }
          ],
          "scatterternary": [
           {
            "marker": {
             "colorbar": {
              "outlinewidth": 1,
              "tickcolor": "rgb(36,36,36)",
              "ticks": "outside"
             }
            },
            "type": "scatterternary"
           }
          ],
          "surface": [
           {
            "colorbar": {
             "outlinewidth": 1,
             "tickcolor": "rgb(36,36,36)",
             "ticks": "outside"
            },
            "colorscale": [
             [
              0,
              "#440154"
             ],
             [
              0.1111111111111111,
              "#482878"
             ],
             [
              0.2222222222222222,
              "#3e4989"
             ],
             [
              0.3333333333333333,
              "#31688e"
             ],
             [
              0.4444444444444444,
              "#26828e"
             ],
             [
              0.5555555555555556,
              "#1f9e89"
             ],
             [
              0.6666666666666666,
              "#35b779"
             ],
             [
              0.7777777777777778,
              "#6ece58"
             ],
             [
              0.8888888888888888,
              "#b5de2b"
             ],
             [
              1,
              "#fde725"
             ]
            ],
            "type": "surface"
           }
          ],
          "table": [
           {
            "cells": {
             "fill": {
              "color": "rgb(237,237,237)"
             },
             "line": {
              "color": "white"
             }
            },
            "header": {
             "fill": {
              "color": "rgb(217,217,217)"
             },
             "line": {
              "color": "white"
             }
            },
            "type": "table"
           }
          ]
         },
         "layout": {
          "annotationdefaults": {
           "arrowhead": 0,
           "arrowwidth": 1
          },
          "autotypenumbers": "strict",
          "coloraxis": {
           "colorbar": {
            "outlinewidth": 1,
            "tickcolor": "rgb(36,36,36)",
            "ticks": "outside"
           }
          },
          "colorscale": {
           "diverging": [
            [
             0,
             "rgb(103,0,31)"
            ],
            [
             0.1,
             "rgb(178,24,43)"
            ],
            [
             0.2,
             "rgb(214,96,77)"
            ],
            [
             0.3,
             "rgb(244,165,130)"
            ],
            [
             0.4,
             "rgb(253,219,199)"
            ],
            [
             0.5,
             "rgb(247,247,247)"
            ],
            [
             0.6,
             "rgb(209,229,240)"
            ],
            [
             0.7,
             "rgb(146,197,222)"
            ],
            [
             0.8,
             "rgb(67,147,195)"
            ],
            [
             0.9,
             "rgb(33,102,172)"
            ],
            [
             1,
             "rgb(5,48,97)"
            ]
           ],
           "sequential": [
            [
             0,
             "#440154"
            ],
            [
             0.1111111111111111,
             "#482878"
            ],
            [
             0.2222222222222222,
             "#3e4989"
            ],
            [
             0.3333333333333333,
             "#31688e"
            ],
            [
             0.4444444444444444,
             "#26828e"
            ],
            [
             0.5555555555555556,
             "#1f9e89"
            ],
            [
             0.6666666666666666,
             "#35b779"
            ],
            [
             0.7777777777777778,
             "#6ece58"
            ],
            [
             0.8888888888888888,
             "#b5de2b"
            ],
            [
             1,
             "#fde725"
            ]
           ],
           "sequentialminus": [
            [
             0,
             "#440154"
            ],
            [
             0.1111111111111111,
             "#482878"
            ],
            [
             0.2222222222222222,
             "#3e4989"
            ],
            [
             0.3333333333333333,
             "#31688e"
            ],
            [
             0.4444444444444444,
             "#26828e"
            ],
            [
             0.5555555555555556,
             "#1f9e89"
            ],
            [
             0.6666666666666666,
             "#35b779"
            ],
            [
             0.7777777777777778,
             "#6ece58"
            ],
            [
             0.8888888888888888,
             "#b5de2b"
            ],
            [
             1,
             "#fde725"
            ]
           ]
          },
          "colorway": [
           "#91268F",
           "#8CC63E",
           "#00A7A0",
           "#F05A28",
           "#4C4C4C",
           "#630460",
           "#9f3913",
           "#588527",
           "#00716c",
           "#3e4040"
          ],
          "font": {
           "color": "rgb(36,36,36)",
           "family": "Poppins",
           "size": 11
          },
          "geo": {
           "bgcolor": "white",
           "lakecolor": "white",
           "landcolor": "white",
           "showlakes": true,
           "showland": true,
           "subunitcolor": "white"
          },
          "hoverlabel": {
           "align": "left"
          },
          "hovermode": "closest",
          "mapbox": {
           "style": "light"
          },
          "paper_bgcolor": "white",
          "plot_bgcolor": "white",
          "polar": {
           "angularaxis": {
            "gridcolor": "rgb(232,232,232)",
            "linecolor": "rgb(36,36,36)",
            "showgrid": false,
            "showline": true,
            "ticks": "outside"
           },
           "bgcolor": "white",
           "radialaxis": {
            "gridcolor": "rgb(232,232,232)",
            "linecolor": "rgb(36,36,36)",
            "showgrid": false,
            "showline": true,
            "ticks": "outside"
           }
          },
          "scene": {
           "xaxis": {
            "backgroundcolor": "white",
            "gridcolor": "rgb(232,232,232)",
            "gridwidth": 2,
            "linecolor": "rgb(36,36,36)",
            "showbackground": true,
            "showgrid": false,
            "showline": true,
            "ticks": "outside",
            "zeroline": false,
            "zerolinecolor": "rgb(36,36,36)"
           },
           "yaxis": {
            "backgroundcolor": "white",
            "gridcolor": "rgb(232,232,232)",
            "gridwidth": 2,
            "linecolor": "rgb(36,36,36)",
            "showbackground": true,
            "showgrid": false,
            "showline": true,
            "ticks": "outside",
            "zeroline": false,
            "zerolinecolor": "rgb(36,36,36)"
           },
           "zaxis": {
            "backgroundcolor": "white",
            "gridcolor": "rgb(232,232,232)",
            "gridwidth": 2,
            "linecolor": "rgb(36,36,36)",
            "showbackground": true,
            "showgrid": false,
            "showline": true,
            "ticks": "outside",
            "zeroline": false,
            "zerolinecolor": "rgb(36,36,36)"
           }
          },
          "shapedefaults": {
           "fillcolor": "black",
           "line": {
            "width": 0
           },
           "opacity": 0.3
          },
          "ternary": {
           "aaxis": {
            "gridcolor": "rgb(232,232,232)",
            "linecolor": "rgb(36,36,36)",
            "showgrid": false,
            "showline": true,
            "ticks": "outside"
           },
           "baxis": {
            "gridcolor": "rgb(232,232,232)",
            "linecolor": "rgb(36,36,36)",
            "showgrid": false,
            "showline": true,
            "ticks": "outside"
           },
           "bgcolor": "white",
           "caxis": {
            "gridcolor": "rgb(232,232,232)",
            "linecolor": "rgb(36,36,36)",
            "showgrid": false,
            "showline": true,
            "ticks": "outside"
           }
          },
          "title": {
           "x": 0.05
          },
          "xaxis": {
           "automargin": true,
           "gridcolor": "rgb(232,232,232)",
           "linecolor": "rgb(36,36,36)",
           "showgrid": false,
           "showline": true,
           "ticks": "outside",
           "title": {
            "standoff": 15
           },
           "zeroline": false,
           "zerolinecolor": "rgb(36,36,36)"
          },
          "yaxis": {
           "automargin": true,
           "gridcolor": "rgb(232,232,232)",
           "linecolor": "rgb(36,36,36)",
           "showgrid": false,
           "showline": true,
           "ticks": "outside",
           "title": {
            "standoff": 15
           },
           "zeroline": false,
           "zerolinecolor": "rgb(36,36,36)"
          }
         }
        },
        "title": {
         "text": "Heavy Trucks: Region"
        },
        "width": 800,
        "xaxis": {
         "anchor": "y",
         "domain": [
          0,
          1
         ],
         "title": {
          "text": "Observed"
         }
        },
        "yaxis": {
         "anchor": "x",
         "domain": [
          0,
          1
         ],
         "title": {
          "text": "Model"
         }
        }
       }
      },
      "text/html": [
       "<div>                            <div id=\"cf2db48b-cdb6-48c3-a6aa-ede1babb08c8\" class=\"plotly-graph-div\" style=\"height:600px; width:800px;\"></div>            <script type=\"text/javascript\">                require([\"plotly\"], function(Plotly) {                    window.PLOTLYENV=window.PLOTLYENV || {};                                    if (document.getElementById(\"cf2db48b-cdb6-48c3-a6aa-ede1babb08c8\")) {                    Plotly.newPlot(                        \"cf2db48b-cdb6-48c3-a6aa-ede1babb08c8\",                        [{\"customdata\":[[\"I-5 S\\u002fO Mounts NB\",\"Pierce\"],[\"I-5 S\\u002fO Mounts SB\",\"Pierce\"],[\"I-5 S\\u002fO Division NB\",\"Pierce\"],[\"I-5 S\\u002fO Division SB\",\"Pierce\"],[\"I-5 @ N\\u002fO Division NB\",\"Pierce\"],[\"I-5 @ N\\u002fO Division SB\",\"Pierce\"],[\"I-5 S\\u002fO SR-512 NB\",\"Pierce\"],[\"I-5 S\\u002fO SR-512 SB\",\"Pierce\"],[\"I-5 N\\u002fO SR-512 NB\",\"Pierce\"],[\"I-5 N\\u002fO SR-512 SB\",\"Pierce\"],[\"I-5 N\\u002fO 56th NB\",\"Pierce\"],[\"I-5 N\\u002fO 56th SB\",\"Pierce\"],[\"I-5 E\\u002fO SR-16 NB\",\"Pierce\"],[\"I-5 E\\u002fO SR-16 SB\",\"Pierce\"],[\"I-5 E\\u002fO Port of Tacoma NB\",\"Pierce\"],[\"I-5 E\\u002fO Port of Tacoma SB (HOV from 56)\",\"Pierce\"],[\"I-5 S\\u002fO 205th NB\",\"King\"],[\"I-5 S\\u002fO 205th SB\",\"King\"],[\"I-5 @ 44th NB\",\"Snohomish\"],[\"I-5 @ 44th SB\",\"Snohomish\"],[\"I-5 N\\u002fO 164th NB\",\"Snohomish\"],[\"I-5 N\\u002fO 164th SB\",\"Snohomish\"],[\"I-5 N\\u002fO SR-526 NB\",\"Snohomish\"],[\"I-5 N\\u002fO SR-526 SB\",\"Snohomish\"],[\"I-5 N\\u002fO 41st NB\",\"Snohomish\"],[\"I-5 N\\u002fO 41st SB\",\"Snohomish\"],[\"I-5 @ SR-528 NB\",\"Snohomish\"],[\"I-5 @ SR-528 SB\",\"Snohomish\"],[\"I-5 N\\u002fO SR-531 NB\",\"Snohomish\"],[\"I-5 N\\u002fO SR-531 SB\",\"Snohomish\"],[\"I-5 Rev N\\u002fO I-5 GP NB\\u002fSB\",\"King\"],[\"I-90 E\\u002fO I-5 WB\",\"King\"],[\"I-90 E\\u002fO I-5 EB\",\"King\"],[\"I-90 E\\u002fO W Lk Sam WB\",\"King\"],[\"I-90 E\\u002fO W Lk Sam EB\",\"King\"],[\"I-90 E\\u002fO SR-900 WB\",\"King\"],[\"I-405 @ I-5 Southcenter NB\",\"King\"],[\"I-405 @ I-5 Southcenter SB\",\"King\"],[\"I-405 @ Lake Wash Blvd NB\",\"King\"],[\"I-405 @ I-90 NB\",\"King\"],[\"I-405 @ I-90 SB\",\"King\"],[\"I-405 N\\u002fO SR-527 NB\",\"Snohomish\"],[\"I-405 N\\u002fO SR-527 SB\",\"Snohomish\"],[\"SR-525 N\\u002fO I-5 NB\",\"Snohomish\"],[\"SR-525 N\\u002fO I-5 SB\",\"Snohomish\"],[\"SR-520 @ x-lake bridge WB\",\"King\"],[\"SR-520 @ x-lake bridge EB\",\"King\"],[\"SR-167 S\\u002fO 43rd NB\",\"King\"],[\"SR-167 S\\u002fO 43rd SB\",\"King\"],[\"SR-167 N\\u002fO SR-18 NB\",\"King\"],[\"SR-167 N\\u002fO SR-18 SB\",\"King\"],[\"SR-167 S\\u002fO 15th SW NB\",\"King\"],[\"SR-167 S\\u002fO 15th SW SB\",\"King\"],[\"SR-512 W\\u002fO Meridian WB\",\"Pierce\"],[\"SR-512 W\\u002fO Meridian EB\",\"Pierce\"],[\"SR-509 @ Holden NB\",\"King\"],[\"SR-509 @ Holden SB\",\"King\"],[\"SR-99 N\\u002fO 14th NB\",\"King\"],[\"SR-99 N\\u002fO 14th SB\",\"King\"],[\"SR-99 N\\u002fO WSF NB\",\"King\"],[\"SR-99 N\\u002fO WSF SB\",\"King\"],[\"SR-99 tunnel NB\",\"King\"],[\"SR-99 tunnel SB\",\"King\"],[\"SR-599 S\\u002fO Pacific NB\",\"King\"],[\"SR-599 S\\u002fO Pacific SB\",\"King\"],[\"SR-599 @ Pacific NB\",\"King\"],[\"SR-599 @ Pacific SB\",\"King\"],[\"SR-18 @ I-5 WB\",\"King\"],[\"SR-18 @ I-5 EB\",\"King\"],[\"SR-18 W\\u002fO Auburn-Black Diamond WB\",\"King\"],[\"SR-18 W\\u002fO Auburn-Black Diamond EB\",\"King\"],[\"SR-18 E\\u002fO SR-516 WB\",\"King\"],[\"SR-18 E\\u002fO SR-516 EB\",\"King\"],[\"SR-18 E\\u002fO 256th WB\",\"King\"],[\"SR-18 E\\u002fO 256th EB\",\"King\"],[\"SR-522 N\\u002fO 195th WB\",\"King\"],[\"SR-522 N\\u002fO 195th EB\",\"King\"],[\"I-5 N\\u002fO I-5 Rev CBD NB\\u002fSB\",\"King\"],[\"I-5 @ SR-532 NB\\u002fSB\",\"Snohomish\"],[\"I-5 @ Skagit border NB\\u002fSB\",\"Snohomish\"],[\"I-90 W\\u002fO SR-18 WB\\u002fEB\",\"King\"],[\"I-90 E\\u002fO SR-18 WB\\u002fEB\",\"King\"],[\"I-90 E\\u002fO 436th WB\\u002fEB\",\"King\"],[\"I-90 @ Kittitas County WB\\u002fEB\",\"King\"],[\"I-405 N\\u002fO SR-522 NB\\u002fSB\",\"King\"],[\"SR-525 N\\u002fO SR-526 NB\\u002fSB\",\"Snohomish\"],[\"SR-525 N\\u002fO 5th NB\\u002fSB\",\"Snohomish\"],[\"SR-167 N\\u002fO Grady NB\\u002fSB\",\"King\"],[\"SR-167 W\\u002fO SR-410 NB\\u002fSB\",\"Pierce\"],[\"SR-167 E\\u002fO SR-161 NB\\u002fSB\",\"Pierce\"],[\"SR-410 E\\u002fO S Prairie WB\\u002fEB\",\"Pierce\"],[\"SR-410 E\\u002fO 244th WB\\u002fEB\",\"King\"],[\"SR-410 E\\u002fO Farman WB\\u002fEB\",\"King\"],[\"SR-410 @ Greenwater River WB\\u002fEB\",\"King\"],[\"SR-410 E\\u002fO Chinook WB\\u002fEB\",\"Pierce\"],[\"SR-410 W\\u002fO SR-123 WB\\u002fEB\",\"Pierce\"],[\"SR-410 E\\u002fO SR-123 WB\\u002fEB\",\"Pierce\"],[\"SR-512 @ I-5 WB\\u002fEB\",\"Pierce\"],[\"SR-512 W\\u002fO SR-7 WB\\u002fEB\",\"Pierce\"],[\"SR-512 S\\u002fO SR-167 WB\\u002fEB\",\"Pierce\"],[\"SR-509 E\\u002fO I-705 NB\\u002fSB\",\"Pierce\"],[\"SR-509 W\\u002fO Alexander NB\\u002fSB\",\"Pierce\"],[\"SR-509 S\\u002fO 11th NB\\u002fSB\",\"Pierce\"],[\"SR-509 N\\u002fO Hyada NB\\u002fSB\",\"Pierce\"],[\"SR-509 E\\u002fO Soundview NB\\u002fSB\",\"Pierce\"],[\"SR-509 E\\u002fO 47th NB\\u002fSB\",\"King\"],[\"SR-509 E\\u002fO 21st NB\\u002fSB\",\"King\"],[\"SR-509 W\\u002fO SR-516 NB\\u002fSB\",\"King\"],[\"SR-509 W\\u002fO Des Moines Mem NB\\u002fSB\",\"King\"],[\"SR-509 E\\u002fO 1st Ave NB\\u002fSB\",\"King\"],[\"SR-509 E\\u002fO Des Moines Mem NB\\u002fSB\",\"King\"],[\"SR-509 @ SR-509 ramp overpass NB\\u002fSB\",\"King\"],[\"SR-509 N\\u002fO Des Moines Mem NB\\u002fSB\",\"King\"],[\"SR-509 N\\u002fO SR-518 NB\\u002fSB\",\"King\"],[\"SR-99 @ I-5 NB\\u002fSB\",\"Pierce\"],[\"SR-99 E\\u002fO 54th NB\\u002fSB\",\"Pierce\"],[\"SR-99 S\\u002fO Porter NB\\u002fSB\",\"Pierce\"],[\"SR-99 S\\u002fO SR-18 NB\\u002fSB\",\"King\"],[\"SR-99 N\\u002fO SR-18 NB\\u002fSB\",\"King\"],[\"SR-99 N\\u002fO 320th NB\\u002fSB\",\"King\"],[\"SR-99 N\\u002fO 188th NB\\u002fSB\",\"King\"],[\"SR-99 @ WSF NB\\u002fSB\",\"King\"],[\"SR-99 @ Aurora Bridge NB\\u002fSB\",\"King\"],[\"SR-99 N\\u002fO 38th NB\\u002fSB\",\"King\"],[\"SR-99 S\\u002fO Roosevelt NB\\u002fSB\",\"King\"],[\"SR-99 E\\u002fO Evergreen NB\\u002fSB\",\"Snohomish\"],[\"SR-599 N\\u002fO I-5 NB\\u002fSB\",\"King\"],[\"SR-518 @ SR-509 WB\\u002fEB\",\"King\"],[\"SR-518 E\\u002fO SR-509 WB\\u002fEB\",\"King\"],[\"SR-18 E\\u002fO SR-99 WB\\u002fEB\",\"King\"],[\"SR-18 N\\u002fO 304th WB\\u002fEB\",\"King\"],[\"SR-18 S\\u002fO I-90 WB\\u002fEB\",\"King\"],[\"SR-16 @ TNB NB\\u002fSB\",\"Pierce\"],[\"SR-16 @ Purdy Dr NB\\u002fSB\",\"Pierce\"],[\"SR-16  N\\u002fO SR-302 NB\\u002fSB\",\"Kitsap\"],[\"SR-16 N\\u002fO SR-160 NB\\u002fSB\",\"Kitsap\"],[\"SR-16 N\\u002fO Tremont NB\\u002fSB\",\"Kitsap\"],[\"SR-16 S\\u002fO SR-3 NB\",\"Kitsap\"],[\"SR-202 @ SR-522 NB\\u002fSB\",\"King\"],[\"SR-202 N\\u002fO 145th NB\\u002fSB\",\"King\"],[\"SR-202 @ Sammamish River Br NB\\u002fSB\",\"King\"],[\"SR-202 S\\u002fO 144th NB\\u002fSB\",\"King\"],[\"SR-202 N\\u002fO Redmond Way NB\\u002fSB\",\"King\"],[\"SR-202 E\\u002fO 164th NB\\u002fSB\",\"King\"],[\"SR-202 E\\u002fO SR-520 NB\\u002fSB\",\"King\"],[\"SR-202 E\\u002fO E Lk Samm NB\\u002fSB\",\"King\"],[\"SR-202 E\\u002fO Sahalee NB\\u002fSB\",\"King\"],[\"SR-202 E\\u002fO 236th NB\\u002fSB\",\"King\"],[\"SR-202 S\\u002fO Ames Lake NB\\u002fSB\",\"King\"],[\"SR-202 S\\u002fO Duthie Hill NB\\u002fSB\",\"King\"],[\"SR-202 E\\u002fO SR-203 NB\\u002fSB\",\"King\"],[\"SR-202 N\\u002fO I-90 NB\\u002fSB\",\"King\"],[\"SR-526 W\\u002fO Paine Field Blvd WB\\u002fEB\",\"Snohomish\"],[\"SR-526 E\\u002fO Paine Field Blvd WB\\u002fEB\",\"Snohomish\"],[\"SR-9 @ SR-522 NB\\u002fSB\",\"Snohomish\"],[\"SR-9 N\\u002fO SR-2 NB\\u002fSB\",\"Snohomish\"],[\"SR-9 N\\u002fO SR-204 NB\\u002fSB\",\"Snohomish\"],[\"SR-9 N\\u002fO SR-92 NB\\u002fSB\",\"Snohomish\"],[\"SR-9 N\\u002fO 132nd NB\\u002fSB\",\"Snohomish\"],[\"SR-9 N\\u002fO SR-531 NB\\u002fSB\",\"Snohomish\"],[\"SR-9 S\\u002fO 67th NB\\u002fSB\",\"Snohomish\"],[\"SR-9 N\\u002fO Kackman NB\\u002fSB\",\"Snohomish\"],[\"SR-9 N\\u002fO Stanwood-Bryant NB\\u002fSB\",\"Snohomish\"],[\"SR-532 @ Island County WB\\u002fEB\",\"Snohomish\"],[\"SR-532 W\\u002fO 28th WB\\u002fEB\",\"Snohomish\"],[\"SR-522 N\\u002fO 145th NB\\u002fSB\",\"King\"],[\"SR-104 @ Hood Canal Bridge WB\\u002fEB\",\"Kitsap\"],[\"SR-104 E\\u002fO Hood Canal Bridge WB\\u002fEB\",\"Kitsap\"],[\"SR-104 N\\u002fO Pt Gamble Rd WB\\u002fEB\",\"Kitsap\"],[\"SR-104 E\\u002fO SR-307 WB\\u002fEB\",\"Kitsap\"],[\"SR-104 E\\u002fO Hansville WB\\u002fEB\",\"Kitsap\"],[\"SR-104 @ Ferry Loading Edm WB\\u002fEB\",\"Snohomish\"],[\"SR-104 N\\u002fO Pine WB\\u002fEB\",\"Snohomish\"],[\"SR-104 E\\u002fO 5th WB\\u002fEB\",\"Snohomish\"],[\"SR-104 W\\u002fO 19th WB\\u002fEB\",\"King\"],[\"SR-160 @ SR-16 WB\\u002fEB\",\"Kitsap\"],[\"SR-160 E\\u002fO Long Lake Rd WB\\u002fEB\",\"Kitsap\"],[\"SR-160 W\\u002fO Banner WB\\u002fEB\",\"Kitsap\"],[\"SR-160 E\\u002fO Peterson WB\\u002fEB\",\"Kitsap\"],[\"SR-160 S\\u002fO Southworth Dr WB\\u002fEB\",\"Kitsap\"],[\"SR-166 E\\u002fO SR-16 WB\\u002fEB\",\"Kitsap\"],[\"SR-3 E\\u002fO Sunset Way NB\\u002fSB\",\"Kitsap\"],[\"SR-3 N\\u002fO SR-305 NB\\u002fSB\",\"Kitsap\"],[\"SR-3 S\\u002fO Newberry Hill Rd NB\\u002fSB\",\"Kitsap\"],[\"SR-3 @ SR-304 NB\\u002fSB\",\"Kitsap\"],[\"SR-3 NE of SR-16 NB\\u002fSB\",\"Kitsap\"],[\"SR-3 W\\u002fO Lake Flora Rd NB\\u002fSB\",\"Kitsap\"],[\"SR-302 N\\u002fO 144th WB\\u002fEB\",\"Pierce\"],[\"SR-302 S\\u002fO 144th WB\\u002fEB\",\"Pierce\"],[\"SR-302 W\\u002fO Key Peninsula Hwy WB\\u002fEB\",\"Pierce\"],[\"SR-302 W\\u002fO Wright-Bliss WB\\u002fEB (E\\u002fO?)\",\"Pierce\"],[\"SR-303 E\\u002fO SR-3 NB\\u002fSB\",\"Kitsap\"],[\"SR-303 N\\u002fO 11th St NB\\u002fSB\",\"Kitsap\"],[\"SR-303 N\\u002fO SR-304 NB\\u002fSB\",\"Kitsap\"],[\"SR-304 E\\u002fO SR-3 WB\\u002fEB\",\"Kitsap\"],[\"SR-304 W\\u002fO Naval WB\\u002fEB\",\"Kitsap\"],[\"SR-305 W\\u002fO SR-307 WB\\u002fEB\",\"Kitsap\"],[\"SR-305 W\\u002fO Suquamish Way WB\\u002fEB\",\"Kitsap\"],[\"SR-305 N\\u002fO Day Rd WB\\u002fEB\",\"Kitsap\"],[\"SR-305 N\\u002fO High School Rd WB\\u002fEB\",\"Kitsap\"],[\"SR-305 S\\u002fO Winslow Way WB\\u002fEB\",\"Kitsap\"],[\"SR-305 @ Ferry Ramp WB\\u002fEB\",\"Kitsap\"],[\"SR-307 W\\u002fO SR-104 NB\\u002fSB\",\"Kitsap\"],[\"SR-307 N\\u002fO Gunderson NB\\u002fSB\",\"Kitsap\"],[\"SR-307 S\\u002fO Gunderson NB\\u002fSB\",\"Kitsap\"],[\"SR-307 N\\u002fO SR-305 NB\\u002fSB\",\"Kitsap\"],[\"SR-308 @ SR-3 WB\\u002fEB\",\"Kitsap\"],[\"SR-308 E\\u002fO SR-3 WB\\u002fEB\",\"Kitsap\"],[\"SR-308 E\\u002fO Silverdale Way WB\\u002fEB\",\"Kitsap\"],[\"SR-308 W\\u002fO Brownsville Hwy WB\\u002fEB\",\"Kitsap\"],[\"SR-310 @ SR-3 WB\\u002fEB\",\"Kitsap\"],[\"SR-310 W\\u002fO Callow WB\\u002fEB\",\"Kitsap\"],[\"SR-516 E\\u002fO SR-509 WB\\u002fEB\",\"King\"],[\"SR-516 W\\u002fO I-5 WB\\u002fEB\",\"King\"],[\"SR-516 E\\u002fO Meeker WB\\u002fEB\",\"King\"],[\"SR-516 W\\u002fO SR-167 WB\\u002fEB\",\"King\"],[\"SR-516 E\\u002fO SR-167 WB\\u002fEB\",\"King\"],[\"SR-516 E\\u002fO SR-18 WB\\u002fEB\",\"King\"],[\"SR-161 E\\u002fO SR-7 NB\\u002fSB\",\"Pierce\"],[\"SR-161 N\\u002fO Center NB\\u002fSB\",\"Pierce\"],[\"SR-161 N\\u002fO Eatonville Cutoff NB\\u002fSB\",\"Pierce\"],[\"SR-161 N\\u002fO 304th NB\\u002fSB\",\"Pierce\"],[\"SR-161 N\\u002fO 264th NB\\u002fSB\",\"Pierce\"],[\"SR-161 S\\u002fO 224th NB\\u002fSB\",\"Pierce\"],[\"SR-161 N\\u002fO 224th NB\\u002fSB\",\"Pierce\"],[\"SR-161 N\\u002fO 204th NB\\u002fSB\",\"Pierce\"],[\"SR-161 S\\u002fO SR-167 SB off-ramp NB\\u002fSB\",\"Pierce\"],[\"SR-161 S\\u002fO Valley NB\\u002fSB\",\"Pierce\"],[\"SR-161 N\\u002fO Valley NB\\u002fSB\",\"Pierce\"],[\"SR-161 N\\u002fO 8th NB\\u002fSB\",\"Pierce\"],[\"SR-900 S\\u002fO NB I-5 on-ramp @ Boe Acc WB\\u002fEB\",\"King\"],[\"SR-900 E\\u002fO 68th WB\\u002fEB\",\"King\"],[\"SR-900 @ I-405 WB\\u002fEB\",\"King\"],[\"SR-900 E\\u002fO 148th WB\\u002fEB\",\"King\"],[\"SR-900 N\\u002fO Talus WB\\u002fEB\",\"King\"],[\"SR-900 N\\u002fO Newport WB\\u002fEB\",\"King\"],[\"SR-524 W\\u002fO 3rd WB\\u002fEB\",\"Snohomish\"],[\"SR-524 S\\u002fO Main WB\\u002fEB\",\"Snohomish\"],[\"SR-524 N\\u002fO Main WB\\u002fEB\",\"Snohomish\"],[\"SR-524 E\\u002fO 68th WB\\u002fEB\",\"Snohomish\"],[\"SR-524 E\\u002fO 39th WB\\u002fEB\",\"Snohomish\"],[\"SR-524 N\\u002fO Paradise Lake WB\\u002fEB\",\"Snohomish\"],[\"SR-7 @ Thurston County NB\\u002fSB\",\"Pierce\"],[\"SR-7 W\\u002fO Alder Cutoff NB\\u002fSB\",\"Pierce\"],[\"SR-7 N\\u002fO Eatonville Hwy NB\\u002fSB\",\"Pierce\"],[\"SR-7 N\\u002fO Silver Lake NB\\u002fSB\",\"Pierce\"],[\"SR-7 S\\u002fO SR-702 NB\\u002fSB\",\"Pierce\"],[\"SR-7 N\\u002fO 304th NB\\u002fSB\",\"Pierce\"],[\"SR-7 N\\u002fO 260th NB\\u002fSB\",\"Pierce\"],[\"SR-7 S\\u002fO 224th NB\\u002fSB\",\"Pierce\"],[\"SR-7 N\\u002fO 224th NB\\u002fSB\",\"Pierce\"],[\"SR-7 N\\u002fO 38th NB\\u002fSB\",\"Pierce\"],[\"SR-2 E\\u002fO I-5 WB\\u002fEB\",\"Snohomish\"],[\"SR-2 S\\u002fO SR-204 WB\\u002fEB\",\"Snohomish\"],[\"SR-2 E\\u002fO Main WB\\u002fEB\",\"Snohomish\"],[\"SR-2 E\\u002fO Rice WB\\u002fEB\",\"Snohomish\"],[\"SR-2 E\\u002fO 10th (Gold Bar) WB\\u002fEB\",\"Snohomish\"],[\"SR-2 W\\u002fO Index-Galena WB\\u002fEB\",\"Snohomish\"],[\"SR-2 E\\u002fO Index-Galena WB\\u002fEB\",\"Snohomish\"],[\"SR-2 E\\u002fO Skykomish WB\\u002fEB\",\"King\"],[\"SR-527 N\\u002fO I-405 NB\\u002fSB\",\"Snohomish\"],[\"SR-527 N\\u002fO 196th NB\\u002fSB\",\"Snohomish\"],[\"SR-527 N\\u002fO Dumas NB\\u002fSB\",\"Snohomish\"],[\"SR-527 N\\u002fO 100th NB\\u002fSB\",\"Snohomish\"],[\"SR-513 S\\u002fO 44th NB\\u002fSB\",\"King\"],[\"SR-169 N\\u002fO SR-164 NB\\u002fSB\",\"King\"],[\"SR-169 S\\u002fO Lawson NB\\u002fSB\",\"King\"],[\"SR-169 S\\u002fO 276th NB\\u002fSB\",\"King\"],[\"SR-169 N\\u002fO 280th NB\\u002fSB\",\"King\"],[\"SR-169 N\\u002fO 231st NB\\u002fSB\",\"King\"],[\"SR-169 N\\u002fO 232nd NB\\u002fSB\",\"King\"],[\"SR-169 W\\u002fO 140th NB\\u002fSB\",\"King\"],[\"SR-515 N\\u002fO SR-516 NB\\u002fSB\",\"King\"],[\"SR-515 N\\u002fO 108th NB\\u002fSB\",\"King\"],[\"SR-515 N\\u002fO Puget NB\\u002fSB\",\"King\"],[\"SR-181 N\\u002fO SR-516 NB\\u002fSB\",\"King\"],[\"SR-181 S\\u002fO James NB\\u002fSB\",\"King\"],[\"SR-181 N\\u002fO James NB\\u002fSB\",\"King\"],[\"SR-181 N\\u002fO 228th NB\\u002fSB\",\"King\"],[\"SR-181 N\\u002fO 180th NB\\u002fSB\",\"King\"],[\"SR-181 S\\u002fO Longacres NB\\u002fSB\",\"King\"],[\"SR-523 E\\u002fO Lenora WB\\u002fEB\",\"King\"],[\"SR-529 @ I-5 (Evt) NB\\u002fSB\",\"Snohomish\"],[\"SR-529 S\\u002fO Everett NB\\u002fSB\",\"Snohomish\"],[\"SR-529 W\\u002fO Maple NB\\u002fSB\",\"Snohomish\"],[\"SR-529 N\\u002fO Everett NB\\u002fSB\",\"Snohomish\"],[\"SR-529 N\\u002fO Broadway NB\\u002fSB\",\"Snohomish\"],[\"SR-96 @ I-5 WB\\u002fEB\",\"Snohomish\"],[\"SR-96 N\\u002fO 132nd WB\\u002fEB\",\"Snohomish\"],[\"SR-96 E\\u002fO Seattle Hill WB\\u002fEB\",\"Snohomish\"],[\"SR-164 @ SR-18 WB\\u002fEB\",\"King\"],[\"SR-164 S\\u002fO 400th WB\\u002fEB\",\"King\"],[\"SR-528 @ I-5 WB\\u002fEB\",\"Snohomish\"],[\"SR-528 E\\u002fO SR-529 WB\\u002fEB\",\"Snohomish\"],[\"SR-531 N\\u002fO Rose WB\\u002fEB\",\"Snohomish\"],[\"SR-531 E\\u002fO Lk Goodwin WB\\u002fEB\",\"Snohomish\"],[\"SR-531 E\\u002fO 27th WB\\u002fEB\",\"Snohomish\"],[\"SR-531 E\\u002fO I-5 WB\\u002fEB\",\"Snohomish\"],[\"SR-531 E\\u002fO 43rd WB\\u002fEB\",\"Snohomish\"],[\"SR-531 W\\u002fO 67th WB\\u002fEB\",\"Snohomish\"],[\"SR-531 E\\u002fO 67th WB\\u002fEB\",\"Snohomish\"],[\"SR-162 @ SR-410 WB\\u002fEB\",\"Pierce\"],[\"SR-162 S\\u002fO Pioneer WB\\u002fEB\",\"Pierce\"],[\"SR-162 E\\u002fO Orville WB\\u002fEB\",\"Pierce\"],[\"SR-162 E\\u002fO S Prairie WB\\u002fEB\",\"Pierce\"],[\"SR-162 N\\u002fO SR-165 WB\\u002fEB\",\"Pierce\"],[\"SR-163 @ SR-16 NB\\u002fSB\",\"Pierce\"],[\"SR-163 N\\u002fO 37th NB\\u002fSB\",\"Pierce\"],[\"SR-163 N\\u002fO Park NB\\u002fSB\",\"Pierce\"],[\"SR-530 @ I-5 WB\\u002fEB\",\"Snohomish\"],[\"SR-530 E\\u002fO Smokey Pt WB\\u002fEB\",\"Snohomish\"],[\"SR-530 N\\u002fO 211th WB\\u002fEB\",\"Snohomish\"],[\"SR-530 E\\u002fO SR-9 WB\\u002fEB\",\"Snohomish\"],[\"SR-530 W\\u002fO Arlington Hts WB\\u002fEB\",\"Snohomish\"],[\"SR-530 E\\u002fO Arlington Hts WB\\u002fEB\",\"Snohomish\"],[\"SR-530 W\\u002fO Jim Creek WB\\u002fEB\",\"Snohomish\"],[\"SR-530 W\\u002fO Ramstad WB\\u002fEB\",\"Snohomish\"],[\"SR-530 @ Skagit County WB\\u002fEB\",\"Snohomish\"],[\"SR-203 N\\u002fO 203rd NB\\u002fSB\",\"Snohomish\"],[\"SR-203 N\\u002fO Cherry Valley NB\\u002fSB\",\"King\"],[\"SR-203 N\\u002fO 124th NB\\u002fSB\",\"King\"],[\"SR-203 W\\u002fO Stillwater Hill NB\\u002fSB\",\"King\"],[\"SR-203 N\\u002fO Carnation Farm NB\\u002fSB\",\"King\"],[\"SR-203 N\\u002fO Tolt Hill NB\\u002fSB\",\"King\"],[\"SR-203 N\\u002fO SR-202 NB\\u002fSB\",\"King\"],[\"SR-507 S\\u002fO SR-7 NB\\u002fSB\",\"Pierce\"],[\"SR-507 S\\u002fO E Gate NB\\u002fSB\",\"Pierce\"],[\"SR-507 S\\u002fO 288th NB\\u002fSB\",\"Pierce\"],[\"SR-507 N\\u002fO 346th NB\\u002fSB\",\"Pierce\"],[\"SR-204 @ SR-2 NB\\u002fSB\",\"Snohomish\"],[\"SR-204 N\\u002fO 20th NB\\u002fSB\",\"Snohomish\"],[\"SR-204 N\\u002fO SR-2 NB\\u002fSB\",\"Snohomish\"],[\"SR-519 W\\u002fO 4th NB\\u002fSB\",\"King\"],[\"SR-92 E\\u002fO Lake WB\\u002fEB\",\"Snohomish\"],[\"SR-92 E\\u002fO Callow WB\\u002fEB\",\"Snohomish\"],[\"SR-92 E\\u002fO Quarry WB\\u002fEB\",\"Snohomish\"],[\"SR-92 W\\u002fO Mountain Loop WB\\u002fEB\",\"Snohomish\"],[\"SR-702 E\\u002fO SR-507 WB\\u002fEB\",\"Pierce\"],[\"SR-702 E\\u002fO Harts Lake WB\\u002fEB\",\"Pierce\"],[\"SR-702 E\\u002fO 40th WB\\u002fEB\",\"Pierce\"],[\"SR-702 W\\u002fO 8th WB\\u002fEB\",\"Pierce\"],[\"SR-702 E\\u002fO 8th WB\\u002fEB\",\"Pierce\"],[\"SR-165 W\\u002fO SR-162 NB\\u002fSB\",\"Pierce\"],[\"SR-165 N\\u002fO Davis NB\\u002fSB\",\"Pierce\"],[\"SR-165 N\\u002fO Wilkeson-Carbonado NB\\u002fSB\",\"Pierce\"],[\"SR-704 E\\u002fO Spanaway Loop WB\\u002fEB\",\"Pierce\"],[\"SR-706 E\\u002fO SR-7 WB\\u002fEB\",\"Pierce\"],[\"SR-706 E\\u002fO Kernahan WB\\u002fEB\",\"Pierce\"]],\"hovertemplate\":\"Observed=%{x}\\u003cbr\\u003eModel=%{y}\\u003cbr\\u003elocation=%{customdata[0]}\\u003cbr\\u003eCounty=%{customdata[1]}\\u003cextra\\u003e\\u003c\\u002fextra\\u003e\",\"legendgroup\":\"\",\"marker\":{\"color\":\"#91268F\",\"symbol\":\"circle\"},\"mode\":\"markers\",\"name\":\"\",\"orientation\":\"v\",\"showlegend\":false,\"x\":[5573,5542,5922,6132,4944,4825,5532,5301,5029,5099,5967,6014,2704,5893,3834,4831,2322,2482,2931,2951,3252,3274,3206,3377,2734,3167,3043,3126,2304,2316,764,901,830,1933,1905,2505,855,1392,2142,321,258,1355,1425,403,274,137,138,2142,2289,2264,2273,3621,3308,2397,2397,938,942,1170,868,173,157,144,131,1302,1091,1389,920,945,1721,2401,2292,2108,2077,2714,2654,764,823,2893,4052,4113,3334,10502,6332,6539,2933,173,48,308,7266,3486,614,508,797,31,21,17,14,3402,3992,4756,962,2112,103,11,14,19,68,60,10,32,86,120,210,372,1392,2775,1196,1242,280,288,174,222,146,108,141,123,2754,246,336,1417,5817,3461,1762,1426,1558,1210,1364,1155,265,83,76,321,54,146,477,307,420,378,300,318,284,110,99,92,699,285,653,317,372,169,229,167,82,309,328,167,612,75,70,144,84,59,55,72,76,114,34,30,19,12,140,1020,1012,1159,988,1360,288,79,104,57,52,180,216,98,210,126,266,420,420,234,11,9,196,168,126,120,39,36,66,22,138,26,80,540,375,960,288,351,25,201,112,418,338,324,324,532,850,1739,180,175,396,84,208,76,242,84,8,6,6,76,176,507,142,110,67,90,98,400,377,432,374,168,891,874,506,420,444,243,192,126,265,279,44,156,56,224,440,304,231,850,1035,1248,100,96,141,957,897,899,1050,999,918,84,88,49,65,84,825,220,42,62,297,198,260,330,18,99,429,697,696,340,182,420,1034,209,136,135,40,36,90,705,609,464,400,403,383,380,299,47,408,340,364,315,284,330,332,464,352,520,351,58,55,400,638,494,448,60,718,252,220,266,166,254,166,50,18,648,38,13],\"xaxis\":\"x\",\"y\":[5574,5572,5831,5831,5809,5807,5677,5621,5355,5924,6043,6071,5447,8223,10261,10137,5235,5463,5061,5250,6338,6213,5970,5875,5891,5783,5022,4978,3892,3868,4885,1134,1246,1254,1285,1319,223,1702,4447,4346,4027,2251,1872,834,737,61,57,3617,3832,4870,5083,4148,4068,1319,1268,204,319,1362,868,169,198,68,76,1501,1031,1444,986,1523,622,1752,1698,1785,1737,1815,1761,1826,1745,7143,6858,6703,2920,5915,6040,5173,4164,102,115,684,4397,1800,84,34,94,94,94,94,94,1323,1640,2945,820,1158,1903,0,0,0,25,43,15,13,13,122,250,458,1323,1026,894,2493,84,134,225,210,172,21,33,0,2888,500,519,2697,3371,3906,4740,3830,3839,3204,3166,1580,18,18,5,24,41,41,1314,12,1,36,36,30,286,321,2,58,371,283,476,539,128,41,43,59,189,115,115,122,956,2,2,153,115,0,34,34,41,199,18,18,21,21,2,954,1169,2452,2898,3176,9,27,21,252,237,22,168,50,277,149,478,149,127,98,0,0,153,153,154,258,56,109,38,0,9,0,38,419,2008,2444,1734,70,0,41,41,90,90,111,137,174,714,1147,78,715,1226,98,189,57,133,128,4,0,4,9,22,181,0,16,16,16,16,67,70,71,58,13,838,619,1895,2008,1987,1987,1882,64,66,58,2,9,0,0,56,73,73,101,193,199,5,16,42,1006,1005,1095,2093,1488,1501,38,120,60,12,113,23,74,22,4,255,116,750,223,0,7,197,1321,1262,83,87,125,96,5,5,5,95,96,249,113,152,148,133,134,133,133,133,1,546,545,499,508,508,508,508,442,474,468,468,37,58,286,983,214,214,0,60,6,6,19,19,17,5,0,0,402,0,0],\"yaxis\":\"y\",\"type\":\"scatter\",\"line\":{\"color\":\"Grey\",\"width\":2}},{\"hovertemplate\":\"Observed=%{x}\\u003cbr\\u003eModel=%{y}\\u003cextra\\u003e\\u003c\\u002fextra\\u003e\",\"legendgroup\":\"\",\"line\":{\"color\":\"Grey\",\"dash\":\"solid\",\"width\":2},\"marker\":{\"symbol\":\"circle\"},\"mode\":\"lines\",\"name\":\"\",\"orientation\":\"v\",\"showlegend\":false,\"x\":[0.0,106.08080808080808,212.16161616161617,318.24242424242425,424.32323232323233,530.4040404040404,636.4848484848485,742.5656565656566,848.6464646464647,954.7272727272727,1060.8080808080808,1166.888888888889,1272.969696969697,1379.050505050505,1485.1313131313132,1591.2121212121212,1697.2929292929293,1803.3737373737374,1909.4545454545455,2015.5353535353536,2121.6161616161617,2227.69696969697,2333.777777777778,2439.8585858585857,2545.939393939394,2652.0202020202023,2758.10101010101,2864.181818181818,2970.2626262626263,3076.3434343434346,3182.4242424242425,3288.5050505050503,3394.5858585858587,3500.666666666667,3606.747474747475,3712.8282828282827,3818.909090909091,3924.9898989898993,4031.070707070707,4137.151515151515,4243.232323232323,4349.313131313132,4455.39393939394,4561.474747474747,4667.555555555556,4773.636363636364,4879.717171717171,4985.79797979798,5091.878787878788,5197.959595959596,5304.040404040405,5410.121212121212,5516.20202020202,5622.282828282829,5728.363636363636,5834.444444444444,5940.525252525253,6046.606060606061,6152.686868686869,6258.767676767677,6364.848484848485,6470.929292929293,6577.010101010101,6683.090909090909,6789.171717171717,6895.252525252526,7001.333333333334,7107.414141414141,7213.49494949495,7319.575757575758,7425.656565656565,7531.737373737374,7637.818181818182,7743.89898989899,7849.979797979799,7956.060606060606,8062.141414141414,8168.222222222223,8274.30303030303,8380.38383838384,8486.464646464647,8592.545454545454,8698.626262626263,8804.70707070707,8910.78787878788,9016.868686868687,9122.949494949495,9229.030303030304,9335.111111111111,9441.191919191919,9547.272727272728,9653.353535353535,9759.434343434343,9865.515151515152,9971.59595959596,10077.676767676769,10183.757575757576,10289.838383838383,10395.919191919193,10502.0],\"xaxis\":\"x\",\"y\":[158.67028173401218,271.59684164981115,384.5234015656102,497.44996148140916,610.3765213972082,723.3030813130072,836.2296412288061,949.1562011446052,1062.0827610604042,1175.009320976203,1287.9358808920022,1400.8624408078012,1513.7890007236,1626.7155606393992,1739.6421205551983,1852.5686804709972,1965.4952403867962,2078.4218003025953,2191.348360218394,2304.274920134193,2417.201480049992,2530.1280399657917,2643.0545998815905,2755.9811597973894,2868.9077197131883,2981.834279628987,3094.760839544786,3207.687399460585,3320.6139593763846,3433.5405192921835,3546.4670792079824,3659.393639123781,3772.32019903958,3885.24675895538,3998.173318871178,4111.099878786977,4224.026438702776,4336.952998618575,4449.879558534374,4562.806118450173,4675.732678365972,4788.659238281772,4901.5857981975705,5014.5123581133685,5127.438918029168,5240.365477944967,5353.292037860766,5466.218597776565,5579.145157692364,5692.071717608163,5804.998277523962,5917.924837439761,6030.85139735556,6143.777957271359,6256.704517187158,6369.631077102957,6482.557637018756,6595.484196934555,6708.410756850354,6821.337316766153,6934.263876681952,7047.190436597752,7160.11699651355,7273.043556429348,7385.970116345148,7498.896676260947,7611.823236176747,7724.749796092545,7837.676356008344,7950.602915924143,8063.529475839941,8176.456035755741,8289.382595671541,8402.30915558734,8515.235715503139,8628.162275418937,8741.088835334736,8854.015395250535,8966.941955166334,9079.868515082133,9192.795074997932,9305.72163491373,9418.648194829531,9531.574754745328,9644.501314661129,9757.427874576928,9870.354434492725,9983.280994408526,10096.207554324325,10209.134114240122,10322.060674155922,10434.987234071721,10547.91379398752,10660.840353903319,10773.766913819118,10886.693473734918,10999.620033650715,11112.546593566514,11225.473153482315,11338.399713398112],\"yaxis\":\"y\",\"type\":\"scatter\"}],                        {\"template\":{\"data\":{\"barpolar\":[{\"marker\":{\"line\":{\"color\":\"white\",\"width\":0.5},\"pattern\":{\"fillmode\":\"overlay\",\"size\":10,\"solidity\":0.2}},\"type\":\"barpolar\"}],\"bar\":[{\"error_x\":{\"color\":\"rgb(36,36,36)\"},\"error_y\":{\"color\":\"rgb(36,36,36)\"},\"marker\":{\"line\":{\"color\":\"white\",\"width\":0.5},\"pattern\":{\"fillmode\":\"overlay\",\"size\":10,\"solidity\":0.2}},\"type\":\"bar\"}],\"carpet\":[{\"aaxis\":{\"endlinecolor\":\"rgb(36,36,36)\",\"gridcolor\":\"white\",\"linecolor\":\"white\",\"minorgridcolor\":\"white\",\"startlinecolor\":\"rgb(36,36,36)\"},\"baxis\":{\"endlinecolor\":\"rgb(36,36,36)\",\"gridcolor\":\"white\",\"linecolor\":\"white\",\"minorgridcolor\":\"white\",\"startlinecolor\":\"rgb(36,36,36)\"},\"type\":\"carpet\"}],\"choropleth\":[{\"colorbar\":{\"outlinewidth\":1,\"tickcolor\":\"rgb(36,36,36)\",\"ticks\":\"outside\"},\"type\":\"choropleth\"}],\"contourcarpet\":[{\"colorbar\":{\"outlinewidth\":1,\"tickcolor\":\"rgb(36,36,36)\",\"ticks\":\"outside\"},\"type\":\"contourcarpet\"}],\"contour\":[{\"colorbar\":{\"outlinewidth\":1,\"tickcolor\":\"rgb(36,36,36)\",\"ticks\":\"outside\"},\"colorscale\":[[0.0,\"#440154\"],[0.1111111111111111,\"#482878\"],[0.2222222222222222,\"#3e4989\"],[0.3333333333333333,\"#31688e\"],[0.4444444444444444,\"#26828e\"],[0.5555555555555556,\"#1f9e89\"],[0.6666666666666666,\"#35b779\"],[0.7777777777777778,\"#6ece58\"],[0.8888888888888888,\"#b5de2b\"],[1.0,\"#fde725\"]],\"type\":\"contour\"}],\"heatmapgl\":[{\"colorbar\":{\"outlinewidth\":1,\"tickcolor\":\"rgb(36,36,36)\",\"ticks\":\"outside\"},\"colorscale\":[[0.0,\"#440154\"],[0.1111111111111111,\"#482878\"],[0.2222222222222222,\"#3e4989\"],[0.3333333333333333,\"#31688e\"],[0.4444444444444444,\"#26828e\"],[0.5555555555555556,\"#1f9e89\"],[0.6666666666666666,\"#35b779\"],[0.7777777777777778,\"#6ece58\"],[0.8888888888888888,\"#b5de2b\"],[1.0,\"#fde725\"]],\"type\":\"heatmapgl\"}],\"heatmap\":[{\"colorbar\":{\"outlinewidth\":1,\"tickcolor\":\"rgb(36,36,36)\",\"ticks\":\"outside\"},\"colorscale\":[[0.0,\"#440154\"],[0.1111111111111111,\"#482878\"],[0.2222222222222222,\"#3e4989\"],[0.3333333333333333,\"#31688e\"],[0.4444444444444444,\"#26828e\"],[0.5555555555555556,\"#1f9e89\"],[0.6666666666666666,\"#35b779\"],[0.7777777777777778,\"#6ece58\"],[0.8888888888888888,\"#b5de2b\"],[1.0,\"#fde725\"]],\"type\":\"heatmap\"}],\"histogram2dcontour\":[{\"colorbar\":{\"outlinewidth\":1,\"tickcolor\":\"rgb(36,36,36)\",\"ticks\":\"outside\"},\"colorscale\":[[0.0,\"#440154\"],[0.1111111111111111,\"#482878\"],[0.2222222222222222,\"#3e4989\"],[0.3333333333333333,\"#31688e\"],[0.4444444444444444,\"#26828e\"],[0.5555555555555556,\"#1f9e89\"],[0.6666666666666666,\"#35b779\"],[0.7777777777777778,\"#6ece58\"],[0.8888888888888888,\"#b5de2b\"],[1.0,\"#fde725\"]],\"type\":\"histogram2dcontour\"}],\"histogram2d\":[{\"colorbar\":{\"outlinewidth\":1,\"tickcolor\":\"rgb(36,36,36)\",\"ticks\":\"outside\"},\"colorscale\":[[0.0,\"#440154\"],[0.1111111111111111,\"#482878\"],[0.2222222222222222,\"#3e4989\"],[0.3333333333333333,\"#31688e\"],[0.4444444444444444,\"#26828e\"],[0.5555555555555556,\"#1f9e89\"],[0.6666666666666666,\"#35b779\"],[0.7777777777777778,\"#6ece58\"],[0.8888888888888888,\"#b5de2b\"],[1.0,\"#fde725\"]],\"type\":\"histogram2d\"}],\"histogram\":[{\"marker\":{\"line\":{\"color\":\"white\",\"width\":0.6}},\"type\":\"histogram\"}],\"mesh3d\":[{\"colorbar\":{\"outlinewidth\":1,\"tickcolor\":\"rgb(36,36,36)\",\"ticks\":\"outside\"},\"type\":\"mesh3d\"}],\"parcoords\":[{\"line\":{\"colorbar\":{\"outlinewidth\":1,\"tickcolor\":\"rgb(36,36,36)\",\"ticks\":\"outside\"}},\"type\":\"parcoords\"}],\"pie\":[{\"automargin\":true,\"type\":\"pie\"}],\"scatter3d\":[{\"line\":{\"colorbar\":{\"outlinewidth\":1,\"tickcolor\":\"rgb(36,36,36)\",\"ticks\":\"outside\"}},\"marker\":{\"colorbar\":{\"outlinewidth\":1,\"tickcolor\":\"rgb(36,36,36)\",\"ticks\":\"outside\"}},\"type\":\"scatter3d\"}],\"scattercarpet\":[{\"marker\":{\"colorbar\":{\"outlinewidth\":1,\"tickcolor\":\"rgb(36,36,36)\",\"ticks\":\"outside\"}},\"type\":\"scattercarpet\"}],\"scattergeo\":[{\"marker\":{\"colorbar\":{\"outlinewidth\":1,\"tickcolor\":\"rgb(36,36,36)\",\"ticks\":\"outside\"}},\"type\":\"scattergeo\"}],\"scattergl\":[{\"marker\":{\"colorbar\":{\"outlinewidth\":1,\"tickcolor\":\"rgb(36,36,36)\",\"ticks\":\"outside\"}},\"type\":\"scattergl\"}],\"scattermapbox\":[{\"marker\":{\"colorbar\":{\"outlinewidth\":1,\"tickcolor\":\"rgb(36,36,36)\",\"ticks\":\"outside\"}},\"type\":\"scattermapbox\"}],\"scatterpolargl\":[{\"marker\":{\"colorbar\":{\"outlinewidth\":1,\"tickcolor\":\"rgb(36,36,36)\",\"ticks\":\"outside\"}},\"type\":\"scatterpolargl\"}],\"scatterpolar\":[{\"marker\":{\"colorbar\":{\"outlinewidth\":1,\"tickcolor\":\"rgb(36,36,36)\",\"ticks\":\"outside\"}},\"type\":\"scatterpolar\"}],\"scatter\":[{\"fillpattern\":{\"fillmode\":\"overlay\",\"size\":10,\"solidity\":0.2},\"type\":\"scatter\"}],\"scatterternary\":[{\"marker\":{\"colorbar\":{\"outlinewidth\":1,\"tickcolor\":\"rgb(36,36,36)\",\"ticks\":\"outside\"}},\"type\":\"scatterternary\"}],\"surface\":[{\"colorbar\":{\"outlinewidth\":1,\"tickcolor\":\"rgb(36,36,36)\",\"ticks\":\"outside\"},\"colorscale\":[[0.0,\"#440154\"],[0.1111111111111111,\"#482878\"],[0.2222222222222222,\"#3e4989\"],[0.3333333333333333,\"#31688e\"],[0.4444444444444444,\"#26828e\"],[0.5555555555555556,\"#1f9e89\"],[0.6666666666666666,\"#35b779\"],[0.7777777777777778,\"#6ece58\"],[0.8888888888888888,\"#b5de2b\"],[1.0,\"#fde725\"]],\"type\":\"surface\"}],\"table\":[{\"cells\":{\"fill\":{\"color\":\"rgb(237,237,237)\"},\"line\":{\"color\":\"white\"}},\"header\":{\"fill\":{\"color\":\"rgb(217,217,217)\"},\"line\":{\"color\":\"white\"}},\"type\":\"table\"}]},\"layout\":{\"annotationdefaults\":{\"arrowhead\":0,\"arrowwidth\":1},\"autotypenumbers\":\"strict\",\"coloraxis\":{\"colorbar\":{\"outlinewidth\":1,\"tickcolor\":\"rgb(36,36,36)\",\"ticks\":\"outside\"}},\"colorscale\":{\"diverging\":[[0.0,\"rgb(103,0,31)\"],[0.1,\"rgb(178,24,43)\"],[0.2,\"rgb(214,96,77)\"],[0.3,\"rgb(244,165,130)\"],[0.4,\"rgb(253,219,199)\"],[0.5,\"rgb(247,247,247)\"],[0.6,\"rgb(209,229,240)\"],[0.7,\"rgb(146,197,222)\"],[0.8,\"rgb(67,147,195)\"],[0.9,\"rgb(33,102,172)\"],[1.0,\"rgb(5,48,97)\"]],\"sequential\":[[0.0,\"#440154\"],[0.1111111111111111,\"#482878\"],[0.2222222222222222,\"#3e4989\"],[0.3333333333333333,\"#31688e\"],[0.4444444444444444,\"#26828e\"],[0.5555555555555556,\"#1f9e89\"],[0.6666666666666666,\"#35b779\"],[0.7777777777777778,\"#6ece58\"],[0.8888888888888888,\"#b5de2b\"],[1.0,\"#fde725\"]],\"sequentialminus\":[[0.0,\"#440154\"],[0.1111111111111111,\"#482878\"],[0.2222222222222222,\"#3e4989\"],[0.3333333333333333,\"#31688e\"],[0.4444444444444444,\"#26828e\"],[0.5555555555555556,\"#1f9e89\"],[0.6666666666666666,\"#35b779\"],[0.7777777777777778,\"#6ece58\"],[0.8888888888888888,\"#b5de2b\"],[1.0,\"#fde725\"]]},\"colorway\":[\"#91268F\",\"#8CC63E\",\"#00A7A0\",\"#F05A28\",\"#4C4C4C\",\"#630460\",\"#9f3913\",\"#588527\",\"#00716c\",\"#3e4040\"],\"font\":{\"color\":\"rgb(36,36,36)\",\"family\":\"Poppins\",\"size\":11},\"geo\":{\"bgcolor\":\"white\",\"lakecolor\":\"white\",\"landcolor\":\"white\",\"showlakes\":true,\"showland\":true,\"subunitcolor\":\"white\"},\"hoverlabel\":{\"align\":\"left\"},\"hovermode\":\"closest\",\"mapbox\":{\"style\":\"light\"},\"paper_bgcolor\":\"white\",\"plot_bgcolor\":\"white\",\"polar\":{\"angularaxis\":{\"gridcolor\":\"rgb(232,232,232)\",\"linecolor\":\"rgb(36,36,36)\",\"showgrid\":false,\"showline\":true,\"ticks\":\"outside\"},\"bgcolor\":\"white\",\"radialaxis\":{\"gridcolor\":\"rgb(232,232,232)\",\"linecolor\":\"rgb(36,36,36)\",\"showgrid\":false,\"showline\":true,\"ticks\":\"outside\"}},\"scene\":{\"xaxis\":{\"backgroundcolor\":\"white\",\"gridcolor\":\"rgb(232,232,232)\",\"gridwidth\":2,\"linecolor\":\"rgb(36,36,36)\",\"showbackground\":true,\"showgrid\":false,\"showline\":true,\"ticks\":\"outside\",\"zeroline\":false,\"zerolinecolor\":\"rgb(36,36,36)\"},\"yaxis\":{\"backgroundcolor\":\"white\",\"gridcolor\":\"rgb(232,232,232)\",\"gridwidth\":2,\"linecolor\":\"rgb(36,36,36)\",\"showbackground\":true,\"showgrid\":false,\"showline\":true,\"ticks\":\"outside\",\"zeroline\":false,\"zerolinecolor\":\"rgb(36,36,36)\"},\"zaxis\":{\"backgroundcolor\":\"white\",\"gridcolor\":\"rgb(232,232,232)\",\"gridwidth\":2,\"linecolor\":\"rgb(36,36,36)\",\"showbackground\":true,\"showgrid\":false,\"showline\":true,\"ticks\":\"outside\",\"zeroline\":false,\"zerolinecolor\":\"rgb(36,36,36)\"}},\"shapedefaults\":{\"fillcolor\":\"black\",\"line\":{\"width\":0},\"opacity\":0.3},\"ternary\":{\"aaxis\":{\"gridcolor\":\"rgb(232,232,232)\",\"linecolor\":\"rgb(36,36,36)\",\"showgrid\":false,\"showline\":true,\"ticks\":\"outside\"},\"baxis\":{\"gridcolor\":\"rgb(232,232,232)\",\"linecolor\":\"rgb(36,36,36)\",\"showgrid\":false,\"showline\":true,\"ticks\":\"outside\"},\"bgcolor\":\"white\",\"caxis\":{\"gridcolor\":\"rgb(232,232,232)\",\"linecolor\":\"rgb(36,36,36)\",\"showgrid\":false,\"showline\":true,\"ticks\":\"outside\"}},\"title\":{\"x\":0.05},\"xaxis\":{\"automargin\":true,\"gridcolor\":\"rgb(232,232,232)\",\"linecolor\":\"rgb(36,36,36)\",\"showgrid\":false,\"showline\":true,\"ticks\":\"outside\",\"title\":{\"standoff\":15},\"zeroline\":false,\"zerolinecolor\":\"rgb(36,36,36)\"},\"yaxis\":{\"automargin\":true,\"gridcolor\":\"rgb(232,232,232)\",\"linecolor\":\"rgb(36,36,36)\",\"showgrid\":false,\"showline\":true,\"ticks\":\"outside\",\"title\":{\"standoff\":15},\"zeroline\":false,\"zerolinecolor\":\"rgb(36,36,36)\"}}},\"xaxis\":{\"anchor\":\"y\",\"domain\":[0.0,1.0],\"title\":{\"text\":\"Observed\"}},\"yaxis\":{\"anchor\":\"x\",\"domain\":[0.0,1.0],\"title\":{\"text\":\"Model\"}},\"legend\":{\"tracegroupgap\":0},\"title\":{\"text\":\"Heavy Trucks: Region\"},\"margin\":{\"l\":100,\"r\":100,\"t\":100,\"b\":100},\"height\":600,\"width\":800,\"shapes\":[{\"line\":{\"color\":\"Red\",\"dash\":\"dash\",\"width\":2},\"type\":\"line\",\"x0\":0,\"x1\":10502,\"y0\":0,\"y1\":10502}],\"annotations\":[{\"align\":\"right\",\"font\":{\"color\":\"pink\",\"size\":12},\"showarrow\":false,\"text\":\"y = x\",\"x\":11027.1,\"y\":11027.1},{\"align\":\"right\",\"font\":{\"color\":\"black\",\"size\":12},\"showarrow\":false,\"text\":\"r^2 = 0.70\",\"x\":11027.1,\"y\":11905.319699068019}]},                        {\"responsive\": true}                    ).then(function(){\n",
       "                            \n",
       "var gd = document.getElementById('cf2db48b-cdb6-48c3-a6aa-ede1babb08c8');\n",
       "var x = new MutationObserver(function (mutations, observer) {{\n",
       "        var display = window.getComputedStyle(gd).display;\n",
       "        if (!display || display === 'none') {{\n",
       "            console.log([gd, 'removed!']);\n",
       "            Plotly.purge(gd);\n",
       "            observer.disconnect();\n",
       "        }}\n",
       "}});\n",
       "\n",
       "// Listen for the removal of the full notebook cells\n",
       "var notebookContainer = gd.closest('#notebook-container');\n",
       "if (notebookContainer) {{\n",
       "    x.observe(notebookContainer, {childList: true});\n",
       "}}\n",
       "\n",
       "// Listen for the clearing of the current output cell\n",
       "var outputEl = gd.closest('.output');\n",
       "if (outputEl) {{\n",
       "    x.observe(outputEl, {childList: true});\n",
       "}}\n",
       "\n",
       "                        })                };                });            </script>        </div>"
      ]
     },
     "metadata": {},
     "output_type": "display_data"
    }
   ],
   "source": [
    "fig = create_truck_chart(df_daily_heavy, 'Heavy')\n",
    "fig.show()"
   ]
  },
  {
   "cell_type": "raw",
   "id": "3bd56227",
   "metadata": {
    "vscode": {
     "languageId": "raw"
    }
   },
   "source": [
    "#### King"
   ]
  },
  {
   "cell_type": "code",
   "execution_count": 25,
   "id": "c4ff02a8",
   "metadata": {},
   "outputs": [
    {
     "data": {
      "application/vnd.plotly.v1+json": {
       "config": {
        "plotlyServerURL": "https://plot.ly"
       },
       "data": [
        {
         "customdata": [
          [
           "I-5 S/O 205th NB",
           "King"
          ],
          [
           "I-5 S/O 205th SB",
           "King"
          ],
          [
           "I-5 Rev N/O I-5 GP NB/SB",
           "King"
          ],
          [
           "I-90 E/O I-5 WB",
           "King"
          ],
          [
           "I-90 E/O I-5 EB",
           "King"
          ],
          [
           "I-90 E/O W Lk Sam WB",
           "King"
          ],
          [
           "I-90 E/O W Lk Sam EB",
           "King"
          ],
          [
           "I-90 E/O SR-900 WB",
           "King"
          ],
          [
           "I-405 @ I-5 Southcenter NB",
           "King"
          ],
          [
           "I-405 @ I-5 Southcenter SB",
           "King"
          ],
          [
           "I-405 @ Lake Wash Blvd NB",
           "King"
          ],
          [
           "I-405 @ I-90 NB",
           "King"
          ],
          [
           "I-405 @ I-90 SB",
           "King"
          ],
          [
           "SR-520 @ x-lake bridge WB",
           "King"
          ],
          [
           "SR-520 @ x-lake bridge EB",
           "King"
          ],
          [
           "SR-167 S/O 43rd NB",
           "King"
          ],
          [
           "SR-167 S/O 43rd SB",
           "King"
          ],
          [
           "SR-167 N/O SR-18 NB",
           "King"
          ],
          [
           "SR-167 N/O SR-18 SB",
           "King"
          ],
          [
           "SR-167 S/O 15th SW NB",
           "King"
          ],
          [
           "SR-167 S/O 15th SW SB",
           "King"
          ],
          [
           "SR-509 @ Holden NB",
           "King"
          ],
          [
           "SR-509 @ Holden SB",
           "King"
          ],
          [
           "SR-99 N/O 14th NB",
           "King"
          ],
          [
           "SR-99 N/O 14th SB",
           "King"
          ],
          [
           "SR-99 N/O WSF NB",
           "King"
          ],
          [
           "SR-99 N/O WSF SB",
           "King"
          ],
          [
           "SR-99 tunnel NB",
           "King"
          ],
          [
           "SR-99 tunnel SB",
           "King"
          ],
          [
           "SR-599 S/O Pacific NB",
           "King"
          ],
          [
           "SR-599 S/O Pacific SB",
           "King"
          ],
          [
           "SR-599 @ Pacific NB",
           "King"
          ],
          [
           "SR-599 @ Pacific SB",
           "King"
          ],
          [
           "SR-18 @ I-5 WB",
           "King"
          ],
          [
           "SR-18 @ I-5 EB",
           "King"
          ],
          [
           "SR-18 W/O Auburn-Black Diamond WB",
           "King"
          ],
          [
           "SR-18 W/O Auburn-Black Diamond EB",
           "King"
          ],
          [
           "SR-18 E/O SR-516 WB",
           "King"
          ],
          [
           "SR-18 E/O SR-516 EB",
           "King"
          ],
          [
           "SR-18 E/O 256th WB",
           "King"
          ],
          [
           "SR-18 E/O 256th EB",
           "King"
          ],
          [
           "SR-522 N/O 195th WB",
           "King"
          ],
          [
           "SR-522 N/O 195th EB",
           "King"
          ],
          [
           "I-5 N/O I-5 Rev CBD NB/SB",
           "King"
          ],
          [
           "I-90 W/O SR-18 WB/EB",
           "King"
          ],
          [
           "I-90 E/O SR-18 WB/EB",
           "King"
          ],
          [
           "I-90 E/O 436th WB/EB",
           "King"
          ],
          [
           "I-90 @ Kittitas County WB/EB",
           "King"
          ],
          [
           "I-405 N/O SR-522 NB/SB",
           "King"
          ],
          [
           "SR-167 N/O Grady NB/SB",
           "King"
          ],
          [
           "SR-410 E/O 244th WB/EB",
           "King"
          ],
          [
           "SR-410 E/O Farman WB/EB",
           "King"
          ],
          [
           "SR-410 @ Greenwater River WB/EB",
           "King"
          ],
          [
           "SR-509 E/O 47th NB/SB",
           "King"
          ],
          [
           "SR-509 E/O 21st NB/SB",
           "King"
          ],
          [
           "SR-509 W/O SR-516 NB/SB",
           "King"
          ],
          [
           "SR-509 W/O Des Moines Mem NB/SB",
           "King"
          ],
          [
           "SR-509 E/O 1st Ave NB/SB",
           "King"
          ],
          [
           "SR-509 E/O Des Moines Mem NB/SB",
           "King"
          ],
          [
           "SR-509 @ SR-509 ramp overpass NB/SB",
           "King"
          ],
          [
           "SR-509 N/O Des Moines Mem NB/SB",
           "King"
          ],
          [
           "SR-509 N/O SR-518 NB/SB",
           "King"
          ],
          [
           "SR-99 S/O SR-18 NB/SB",
           "King"
          ],
          [
           "SR-99 N/O SR-18 NB/SB",
           "King"
          ],
          [
           "SR-99 N/O 320th NB/SB",
           "King"
          ],
          [
           "SR-99 N/O 188th NB/SB",
           "King"
          ],
          [
           "SR-99 @ WSF NB/SB",
           "King"
          ],
          [
           "SR-99 @ Aurora Bridge NB/SB",
           "King"
          ],
          [
           "SR-99 N/O 38th NB/SB",
           "King"
          ],
          [
           "SR-99 S/O Roosevelt NB/SB",
           "King"
          ],
          [
           "SR-599 N/O I-5 NB/SB",
           "King"
          ],
          [
           "SR-518 @ SR-509 WB/EB",
           "King"
          ],
          [
           "SR-518 E/O SR-509 WB/EB",
           "King"
          ],
          [
           "SR-18 E/O SR-99 WB/EB",
           "King"
          ],
          [
           "SR-18 N/O 304th WB/EB",
           "King"
          ],
          [
           "SR-18 S/O I-90 WB/EB",
           "King"
          ],
          [
           "SR-202 @ SR-522 NB/SB",
           "King"
          ],
          [
           "SR-202 N/O 145th NB/SB",
           "King"
          ],
          [
           "SR-202 @ Sammamish River Br NB/SB",
           "King"
          ],
          [
           "SR-202 S/O 144th NB/SB",
           "King"
          ],
          [
           "SR-202 N/O Redmond Way NB/SB",
           "King"
          ],
          [
           "SR-202 E/O 164th NB/SB",
           "King"
          ],
          [
           "SR-202 E/O SR-520 NB/SB",
           "King"
          ],
          [
           "SR-202 E/O E Lk Samm NB/SB",
           "King"
          ],
          [
           "SR-202 E/O Sahalee NB/SB",
           "King"
          ],
          [
           "SR-202 E/O 236th NB/SB",
           "King"
          ],
          [
           "SR-202 S/O Ames Lake NB/SB",
           "King"
          ],
          [
           "SR-202 S/O Duthie Hill NB/SB",
           "King"
          ],
          [
           "SR-202 E/O SR-203 NB/SB",
           "King"
          ],
          [
           "SR-202 N/O I-90 NB/SB",
           "King"
          ],
          [
           "SR-522 N/O 145th NB/SB",
           "King"
          ],
          [
           "SR-104 W/O 19th WB/EB",
           "King"
          ],
          [
           "SR-516 E/O SR-509 WB/EB",
           "King"
          ],
          [
           "SR-516 W/O I-5 WB/EB",
           "King"
          ],
          [
           "SR-516 E/O Meeker WB/EB",
           "King"
          ],
          [
           "SR-516 W/O SR-167 WB/EB",
           "King"
          ],
          [
           "SR-516 E/O SR-167 WB/EB",
           "King"
          ],
          [
           "SR-516 E/O SR-18 WB/EB",
           "King"
          ],
          [
           "SR-900 S/O NB I-5 on-ramp @ Boe Acc WB/EB",
           "King"
          ],
          [
           "SR-900 E/O 68th WB/EB",
           "King"
          ],
          [
           "SR-900 @ I-405 WB/EB",
           "King"
          ],
          [
           "SR-900 E/O 148th WB/EB",
           "King"
          ],
          [
           "SR-900 N/O Talus WB/EB",
           "King"
          ],
          [
           "SR-900 N/O Newport WB/EB",
           "King"
          ],
          [
           "SR-2 E/O Skykomish WB/EB",
           "King"
          ],
          [
           "SR-513 S/O 44th NB/SB",
           "King"
          ],
          [
           "SR-169 N/O SR-164 NB/SB",
           "King"
          ],
          [
           "SR-169 S/O Lawson NB/SB",
           "King"
          ],
          [
           "SR-169 S/O 276th NB/SB",
           "King"
          ],
          [
           "SR-169 N/O 280th NB/SB",
           "King"
          ],
          [
           "SR-169 N/O 231st NB/SB",
           "King"
          ],
          [
           "SR-169 N/O 232nd NB/SB",
           "King"
          ],
          [
           "SR-169 W/O 140th NB/SB",
           "King"
          ],
          [
           "SR-515 N/O SR-516 NB/SB",
           "King"
          ],
          [
           "SR-515 N/O 108th NB/SB",
           "King"
          ],
          [
           "SR-515 N/O Puget NB/SB",
           "King"
          ],
          [
           "SR-181 N/O SR-516 NB/SB",
           "King"
          ],
          [
           "SR-181 S/O James NB/SB",
           "King"
          ],
          [
           "SR-181 N/O James NB/SB",
           "King"
          ],
          [
           "SR-181 N/O 228th NB/SB",
           "King"
          ],
          [
           "SR-181 N/O 180th NB/SB",
           "King"
          ],
          [
           "SR-181 S/O Longacres NB/SB",
           "King"
          ],
          [
           "SR-523 E/O Lenora WB/EB",
           "King"
          ],
          [
           "SR-164 @ SR-18 WB/EB",
           "King"
          ],
          [
           "SR-164 S/O 400th WB/EB",
           "King"
          ],
          [
           "SR-203 N/O Cherry Valley NB/SB",
           "King"
          ],
          [
           "SR-203 N/O 124th NB/SB",
           "King"
          ],
          [
           "SR-203 W/O Stillwater Hill NB/SB",
           "King"
          ],
          [
           "SR-203 N/O Carnation Farm NB/SB",
           "King"
          ],
          [
           "SR-203 N/O Tolt Hill NB/SB",
           "King"
          ],
          [
           "SR-203 N/O SR-202 NB/SB",
           "King"
          ],
          [
           "SR-519 W/O 4th NB/SB",
           "King"
          ]
         ],
         "hovertemplate": "Observed=%{x}<br>Model=%{y}<br>location=%{customdata[0]}<br>County=%{customdata[1]}<extra></extra>",
         "legendgroup": "",
         "line": {
          "color": "Grey",
          "width": 2
         },
         "marker": {
          "color": "#91268F",
          "symbol": "circle"
         },
         "mode": "markers",
         "name": "",
         "orientation": "v",
         "showlegend": false,
         "type": "scatter",
         "x": [
          2322,
          2482,
          764,
          901,
          830,
          1933,
          1905,
          2505,
          855,
          1392,
          2142,
          321,
          258,
          137,
          138,
          2142,
          2289,
          2264,
          2273,
          3621,
          3308,
          938,
          942,
          1170,
          868,
          173,
          157,
          144,
          131,
          1302,
          1091,
          1389,
          920,
          945,
          1721,
          2401,
          2292,
          2108,
          2077,
          2714,
          2654,
          764,
          823,
          2893,
          3334,
          10502,
          6332,
          6539,
          2933,
          308,
          508,
          797,
          31,
          19,
          68,
          60,
          10,
          32,
          86,
          120,
          210,
          372,
          1242,
          280,
          288,
          174,
          222,
          146,
          108,
          141,
          2754,
          246,
          336,
          1417,
          5817,
          3461,
          265,
          83,
          76,
          321,
          54,
          146,
          477,
          307,
          420,
          378,
          300,
          318,
          284,
          110,
          167,
          76,
          80,
          540,
          375,
          960,
          288,
          351,
          396,
          84,
          208,
          76,
          242,
          84,
          126,
          56,
          224,
          440,
          304,
          231,
          850,
          1035,
          1248,
          100,
          96,
          141,
          957,
          897,
          899,
          1050,
          999,
          918,
          84,
          297,
          198,
          340,
          364,
          315,
          284,
          330,
          332,
          638
         ],
         "xaxis": "x",
         "y": [
          5235,
          5463,
          4885,
          1134,
          1246,
          1254,
          1285,
          1319,
          223,
          1702,
          4447,
          4346,
          4027,
          61,
          57,
          3617,
          3832,
          4870,
          5083,
          4148,
          4068,
          204,
          319,
          1362,
          868,
          169,
          198,
          68,
          76,
          1501,
          1031,
          1444,
          986,
          1523,
          622,
          1752,
          1698,
          1785,
          1737,
          1815,
          1761,
          1826,
          1745,
          7143,
          2920,
          5915,
          6040,
          5173,
          4164,
          684,
          34,
          94,
          94,
          0,
          25,
          43,
          15,
          13,
          13,
          122,
          250,
          458,
          2493,
          84,
          134,
          225,
          210,
          172,
          21,
          33,
          2888,
          500,
          519,
          2697,
          3371,
          3906,
          18,
          18,
          5,
          24,
          41,
          41,
          1314,
          12,
          1,
          36,
          36,
          30,
          286,
          321,
          122,
          41,
          38,
          419,
          2008,
          2444,
          1734,
          70,
          1226,
          98,
          189,
          57,
          133,
          128,
          64,
          0,
          0,
          56,
          73,
          73,
          101,
          193,
          199,
          5,
          16,
          42,
          1006,
          1005,
          1095,
          2093,
          1488,
          1501,
          38,
          255,
          116,
          545,
          499,
          508,
          508,
          508,
          508,
          983
         ],
         "yaxis": "y"
        },
        {
         "hovertemplate": "Observed=%{x}<br>Model=%{y}<extra></extra>",
         "legendgroup": "",
         "line": {
          "color": "Grey",
          "dash": "solid",
          "width": 2
         },
         "marker": {
          "symbol": "circle"
         },
         "mode": "lines",
         "name": "",
         "orientation": "v",
         "showlegend": false,
         "type": "scatter",
         "x": [
          0,
          106.08080808080808,
          212.16161616161617,
          318.24242424242425,
          424.32323232323233,
          530.4040404040404,
          636.4848484848485,
          742.5656565656566,
          848.6464646464647,
          954.7272727272727,
          1060.8080808080808,
          1166.888888888889,
          1272.969696969697,
          1379.050505050505,
          1485.1313131313132,
          1591.2121212121212,
          1697.2929292929293,
          1803.3737373737374,
          1909.4545454545455,
          2015.5353535353536,
          2121.6161616161617,
          2227.69696969697,
          2333.777777777778,
          2439.8585858585857,
          2545.939393939394,
          2652.0202020202023,
          2758.10101010101,
          2864.181818181818,
          2970.2626262626263,
          3076.3434343434346,
          3182.4242424242425,
          3288.5050505050503,
          3394.5858585858587,
          3500.666666666667,
          3606.747474747475,
          3712.8282828282827,
          3818.909090909091,
          3924.9898989898993,
          4031.070707070707,
          4137.151515151515,
          4243.232323232323,
          4349.313131313132,
          4455.39393939394,
          4561.474747474747,
          4667.555555555556,
          4773.636363636364,
          4879.717171717171,
          4985.79797979798,
          5091.878787878788,
          5197.959595959596,
          5304.040404040405,
          5410.121212121212,
          5516.20202020202,
          5622.282828282829,
          5728.363636363636,
          5834.444444444444,
          5940.525252525253,
          6046.606060606061,
          6152.686868686869,
          6258.767676767677,
          6364.848484848485,
          6470.929292929293,
          6577.010101010101,
          6683.090909090909,
          6789.171717171717,
          6895.252525252526,
          7001.333333333334,
          7107.414141414141,
          7213.49494949495,
          7319.575757575758,
          7425.656565656565,
          7531.737373737374,
          7637.818181818182,
          7743.89898989899,
          7849.979797979799,
          7956.060606060606,
          8062.141414141414,
          8168.222222222223,
          8274.30303030303,
          8380.38383838384,
          8486.464646464647,
          8592.545454545454,
          8698.626262626263,
          8804.70707070707,
          8910.78787878788,
          9016.868686868687,
          9122.949494949495,
          9229.030303030304,
          9335.111111111111,
          9441.191919191919,
          9547.272727272728,
          9653.353535353535,
          9759.434343434343,
          9865.515151515152,
          9971.59595959596,
          10077.676767676769,
          10183.757575757576,
          10289.838383838383,
          10395.919191919193,
          10502
         ],
         "xaxis": "x",
         "y": [
          363.4195331468053,
          452.38054039753257,
          541.3415476482598,
          630.3025548989872,
          719.2635621497144,
          808.2245694004416,
          897.185576651169,
          986.1465839018963,
          1075.1075911526236,
          1164.0685984033507,
          1253.029605654078,
          1341.9906129048054,
          1430.9516201555325,
          1519.91262740626,
          1608.8736346569872,
          1697.8346419077147,
          1786.7956491584418,
          1875.756656409169,
          1964.7176636598965,
          2053.6786709106236,
          2142.6396781613507,
          2231.6006854120783,
          2320.5616926628054,
          2409.5226999135325,
          2498.48370716426,
          2587.4447144149876,
          2676.4057216657147,
          2765.366728916442,
          2854.3277361671694,
          2943.288743417897,
          3032.249750668624,
          3121.210757919351,
          3210.1717651700783,
          3299.132772420806,
          3388.093779671533,
          3477.05478692226,
          3566.0157941729876,
          3654.976801423715,
          3743.9378086744423,
          3832.8988159251694,
          3921.8598231758965,
          4010.820830426624,
          4099.781837677351,
          4188.742844928078,
          4277.703852178805,
          4366.664859429533,
          4455.62586668026,
          4544.586873930987,
          4633.547881181715,
          4722.508888432442,
          4811.46989568317,
          4900.4309029338965,
          4989.391910184624,
          5078.352917435352,
          5167.313924686078,
          5256.274931936806,
          5345.235939187533,
          5434.196946438261,
          5523.1579536889885,
          5612.118960939715,
          5701.079968190443,
          5790.04097544117,
          5879.001982691897,
          5967.962989942624,
          6056.923997193351,
          6145.885004444079,
          6234.846011694806,
          6323.807018945533,
          6412.7680261962605,
          6501.729033446988,
          6590.690040697715,
          6679.651047948442,
          6768.61205519917,
          6857.573062449897,
          6946.534069700625,
          7035.495076951352,
          7124.456084202079,
          7213.417091452807,
          7302.378098703533,
          7391.339105954261,
          7480.300113204988,
          7569.261120455715,
          7658.222127706443,
          7747.183134957169,
          7836.144142207898,
          7925.1051494586245,
          8014.066156709351,
          8103.02716396008,
          8191.988171210806,
          8280.949178461533,
          8369.91018571226,
          8458.871192962988,
          8547.832200213714,
          8636.793207464443,
          8725.754214715169,
          8814.715221965898,
          8903.676229216624,
          8992.637236467352,
          9081.59824371808,
          9170.559250968807
         ],
         "yaxis": "y"
        }
       ],
       "layout": {
        "annotations": [
         {
          "align": "right",
          "font": {
           "color": "pink",
           "size": 12
          },
          "showarrow": false,
          "text": "y = x",
          "x": 11027.1,
          "y": 11027.1
         },
         {
          "align": "right",
          "font": {
           "color": "black",
           "size": 12
          },
          "showarrow": false,
          "text": "r^2 = 0.56",
          "x": 11027.1,
          "y": 9629.087213517247
         }
        ],
        "height": 600,
        "legend": {
         "tracegroupgap": 0
        },
        "margin": {
         "b": 100,
         "l": 100,
         "r": 100,
         "t": 100
        },
        "shapes": [
         {
          "line": {
           "color": "Red",
           "dash": "dash",
           "width": 2
          },
          "type": "line",
          "x0": 0,
          "x1": 10502,
          "y0": 0,
          "y1": 10502
         }
        ],
        "template": {
         "data": {
          "bar": [
           {
            "error_x": {
             "color": "rgb(36,36,36)"
            },
            "error_y": {
             "color": "rgb(36,36,36)"
            },
            "marker": {
             "line": {
              "color": "white",
              "width": 0.5
             },
             "pattern": {
              "fillmode": "overlay",
              "size": 10,
              "solidity": 0.2
             }
            },
            "type": "bar"
           }
          ],
          "barpolar": [
           {
            "marker": {
             "line": {
              "color": "white",
              "width": 0.5
             },
             "pattern": {
              "fillmode": "overlay",
              "size": 10,
              "solidity": 0.2
             }
            },
            "type": "barpolar"
           }
          ],
          "carpet": [
           {
            "aaxis": {
             "endlinecolor": "rgb(36,36,36)",
             "gridcolor": "white",
             "linecolor": "white",
             "minorgridcolor": "white",
             "startlinecolor": "rgb(36,36,36)"
            },
            "baxis": {
             "endlinecolor": "rgb(36,36,36)",
             "gridcolor": "white",
             "linecolor": "white",
             "minorgridcolor": "white",
             "startlinecolor": "rgb(36,36,36)"
            },
            "type": "carpet"
           }
          ],
          "choropleth": [
           {
            "colorbar": {
             "outlinewidth": 1,
             "tickcolor": "rgb(36,36,36)",
             "ticks": "outside"
            },
            "type": "choropleth"
           }
          ],
          "contour": [
           {
            "colorbar": {
             "outlinewidth": 1,
             "tickcolor": "rgb(36,36,36)",
             "ticks": "outside"
            },
            "colorscale": [
             [
              0,
              "#440154"
             ],
             [
              0.1111111111111111,
              "#482878"
             ],
             [
              0.2222222222222222,
              "#3e4989"
             ],
             [
              0.3333333333333333,
              "#31688e"
             ],
             [
              0.4444444444444444,
              "#26828e"
             ],
             [
              0.5555555555555556,
              "#1f9e89"
             ],
             [
              0.6666666666666666,
              "#35b779"
             ],
             [
              0.7777777777777778,
              "#6ece58"
             ],
             [
              0.8888888888888888,
              "#b5de2b"
             ],
             [
              1,
              "#fde725"
             ]
            ],
            "type": "contour"
           }
          ],
          "contourcarpet": [
           {
            "colorbar": {
             "outlinewidth": 1,
             "tickcolor": "rgb(36,36,36)",
             "ticks": "outside"
            },
            "type": "contourcarpet"
           }
          ],
          "heatmap": [
           {
            "colorbar": {
             "outlinewidth": 1,
             "tickcolor": "rgb(36,36,36)",
             "ticks": "outside"
            },
            "colorscale": [
             [
              0,
              "#440154"
             ],
             [
              0.1111111111111111,
              "#482878"
             ],
             [
              0.2222222222222222,
              "#3e4989"
             ],
             [
              0.3333333333333333,
              "#31688e"
             ],
             [
              0.4444444444444444,
              "#26828e"
             ],
             [
              0.5555555555555556,
              "#1f9e89"
             ],
             [
              0.6666666666666666,
              "#35b779"
             ],
             [
              0.7777777777777778,
              "#6ece58"
             ],
             [
              0.8888888888888888,
              "#b5de2b"
             ],
             [
              1,
              "#fde725"
             ]
            ],
            "type": "heatmap"
           }
          ],
          "heatmapgl": [
           {
            "colorbar": {
             "outlinewidth": 1,
             "tickcolor": "rgb(36,36,36)",
             "ticks": "outside"
            },
            "colorscale": [
             [
              0,
              "#440154"
             ],
             [
              0.1111111111111111,
              "#482878"
             ],
             [
              0.2222222222222222,
              "#3e4989"
             ],
             [
              0.3333333333333333,
              "#31688e"
             ],
             [
              0.4444444444444444,
              "#26828e"
             ],
             [
              0.5555555555555556,
              "#1f9e89"
             ],
             [
              0.6666666666666666,
              "#35b779"
             ],
             [
              0.7777777777777778,
              "#6ece58"
             ],
             [
              0.8888888888888888,
              "#b5de2b"
             ],
             [
              1,
              "#fde725"
             ]
            ],
            "type": "heatmapgl"
           }
          ],
          "histogram": [
           {
            "marker": {
             "line": {
              "color": "white",
              "width": 0.6
             }
            },
            "type": "histogram"
           }
          ],
          "histogram2d": [
           {
            "colorbar": {
             "outlinewidth": 1,
             "tickcolor": "rgb(36,36,36)",
             "ticks": "outside"
            },
            "colorscale": [
             [
              0,
              "#440154"
             ],
             [
              0.1111111111111111,
              "#482878"
             ],
             [
              0.2222222222222222,
              "#3e4989"
             ],
             [
              0.3333333333333333,
              "#31688e"
             ],
             [
              0.4444444444444444,
              "#26828e"
             ],
             [
              0.5555555555555556,
              "#1f9e89"
             ],
             [
              0.6666666666666666,
              "#35b779"
             ],
             [
              0.7777777777777778,
              "#6ece58"
             ],
             [
              0.8888888888888888,
              "#b5de2b"
             ],
             [
              1,
              "#fde725"
             ]
            ],
            "type": "histogram2d"
           }
          ],
          "histogram2dcontour": [
           {
            "colorbar": {
             "outlinewidth": 1,
             "tickcolor": "rgb(36,36,36)",
             "ticks": "outside"
            },
            "colorscale": [
             [
              0,
              "#440154"
             ],
             [
              0.1111111111111111,
              "#482878"
             ],
             [
              0.2222222222222222,
              "#3e4989"
             ],
             [
              0.3333333333333333,
              "#31688e"
             ],
             [
              0.4444444444444444,
              "#26828e"
             ],
             [
              0.5555555555555556,
              "#1f9e89"
             ],
             [
              0.6666666666666666,
              "#35b779"
             ],
             [
              0.7777777777777778,
              "#6ece58"
             ],
             [
              0.8888888888888888,
              "#b5de2b"
             ],
             [
              1,
              "#fde725"
             ]
            ],
            "type": "histogram2dcontour"
           }
          ],
          "mesh3d": [
           {
            "colorbar": {
             "outlinewidth": 1,
             "tickcolor": "rgb(36,36,36)",
             "ticks": "outside"
            },
            "type": "mesh3d"
           }
          ],
          "parcoords": [
           {
            "line": {
             "colorbar": {
              "outlinewidth": 1,
              "tickcolor": "rgb(36,36,36)",
              "ticks": "outside"
             }
            },
            "type": "parcoords"
           }
          ],
          "pie": [
           {
            "automargin": true,
            "type": "pie"
           }
          ],
          "scatter": [
           {
            "fillpattern": {
             "fillmode": "overlay",
             "size": 10,
             "solidity": 0.2
            },
            "type": "scatter"
           }
          ],
          "scatter3d": [
           {
            "line": {
             "colorbar": {
              "outlinewidth": 1,
              "tickcolor": "rgb(36,36,36)",
              "ticks": "outside"
             }
            },
            "marker": {
             "colorbar": {
              "outlinewidth": 1,
              "tickcolor": "rgb(36,36,36)",
              "ticks": "outside"
             }
            },
            "type": "scatter3d"
           }
          ],
          "scattercarpet": [
           {
            "marker": {
             "colorbar": {
              "outlinewidth": 1,
              "tickcolor": "rgb(36,36,36)",
              "ticks": "outside"
             }
            },
            "type": "scattercarpet"
           }
          ],
          "scattergeo": [
           {
            "marker": {
             "colorbar": {
              "outlinewidth": 1,
              "tickcolor": "rgb(36,36,36)",
              "ticks": "outside"
             }
            },
            "type": "scattergeo"
           }
          ],
          "scattergl": [
           {
            "marker": {
             "colorbar": {
              "outlinewidth": 1,
              "tickcolor": "rgb(36,36,36)",
              "ticks": "outside"
             }
            },
            "type": "scattergl"
           }
          ],
          "scattermapbox": [
           {
            "marker": {
             "colorbar": {
              "outlinewidth": 1,
              "tickcolor": "rgb(36,36,36)",
              "ticks": "outside"
             }
            },
            "type": "scattermapbox"
           }
          ],
          "scatterpolar": [
           {
            "marker": {
             "colorbar": {
              "outlinewidth": 1,
              "tickcolor": "rgb(36,36,36)",
              "ticks": "outside"
             }
            },
            "type": "scatterpolar"
           }
          ],
          "scatterpolargl": [
           {
            "marker": {
             "colorbar": {
              "outlinewidth": 1,
              "tickcolor": "rgb(36,36,36)",
              "ticks": "outside"
             }
            },
            "type": "scatterpolargl"
           }
          ],
          "scatterternary": [
           {
            "marker": {
             "colorbar": {
              "outlinewidth": 1,
              "tickcolor": "rgb(36,36,36)",
              "ticks": "outside"
             }
            },
            "type": "scatterternary"
           }
          ],
          "surface": [
           {
            "colorbar": {
             "outlinewidth": 1,
             "tickcolor": "rgb(36,36,36)",
             "ticks": "outside"
            },
            "colorscale": [
             [
              0,
              "#440154"
             ],
             [
              0.1111111111111111,
              "#482878"
             ],
             [
              0.2222222222222222,
              "#3e4989"
             ],
             [
              0.3333333333333333,
              "#31688e"
             ],
             [
              0.4444444444444444,
              "#26828e"
             ],
             [
              0.5555555555555556,
              "#1f9e89"
             ],
             [
              0.6666666666666666,
              "#35b779"
             ],
             [
              0.7777777777777778,
              "#6ece58"
             ],
             [
              0.8888888888888888,
              "#b5de2b"
             ],
             [
              1,
              "#fde725"
             ]
            ],
            "type": "surface"
           }
          ],
          "table": [
           {
            "cells": {
             "fill": {
              "color": "rgb(237,237,237)"
             },
             "line": {
              "color": "white"
             }
            },
            "header": {
             "fill": {
              "color": "rgb(217,217,217)"
             },
             "line": {
              "color": "white"
             }
            },
            "type": "table"
           }
          ]
         },
         "layout": {
          "annotationdefaults": {
           "arrowhead": 0,
           "arrowwidth": 1
          },
          "autotypenumbers": "strict",
          "coloraxis": {
           "colorbar": {
            "outlinewidth": 1,
            "tickcolor": "rgb(36,36,36)",
            "ticks": "outside"
           }
          },
          "colorscale": {
           "diverging": [
            [
             0,
             "rgb(103,0,31)"
            ],
            [
             0.1,
             "rgb(178,24,43)"
            ],
            [
             0.2,
             "rgb(214,96,77)"
            ],
            [
             0.3,
             "rgb(244,165,130)"
            ],
            [
             0.4,
             "rgb(253,219,199)"
            ],
            [
             0.5,
             "rgb(247,247,247)"
            ],
            [
             0.6,
             "rgb(209,229,240)"
            ],
            [
             0.7,
             "rgb(146,197,222)"
            ],
            [
             0.8,
             "rgb(67,147,195)"
            ],
            [
             0.9,
             "rgb(33,102,172)"
            ],
            [
             1,
             "rgb(5,48,97)"
            ]
           ],
           "sequential": [
            [
             0,
             "#440154"
            ],
            [
             0.1111111111111111,
             "#482878"
            ],
            [
             0.2222222222222222,
             "#3e4989"
            ],
            [
             0.3333333333333333,
             "#31688e"
            ],
            [
             0.4444444444444444,
             "#26828e"
            ],
            [
             0.5555555555555556,
             "#1f9e89"
            ],
            [
             0.6666666666666666,
             "#35b779"
            ],
            [
             0.7777777777777778,
             "#6ece58"
            ],
            [
             0.8888888888888888,
             "#b5de2b"
            ],
            [
             1,
             "#fde725"
            ]
           ],
           "sequentialminus": [
            [
             0,
             "#440154"
            ],
            [
             0.1111111111111111,
             "#482878"
            ],
            [
             0.2222222222222222,
             "#3e4989"
            ],
            [
             0.3333333333333333,
             "#31688e"
            ],
            [
             0.4444444444444444,
             "#26828e"
            ],
            [
             0.5555555555555556,
             "#1f9e89"
            ],
            [
             0.6666666666666666,
             "#35b779"
            ],
            [
             0.7777777777777778,
             "#6ece58"
            ],
            [
             0.8888888888888888,
             "#b5de2b"
            ],
            [
             1,
             "#fde725"
            ]
           ]
          },
          "colorway": [
           "#91268F",
           "#8CC63E",
           "#00A7A0",
           "#F05A28",
           "#4C4C4C",
           "#630460",
           "#9f3913",
           "#588527",
           "#00716c",
           "#3e4040"
          ],
          "font": {
           "color": "rgb(36,36,36)",
           "family": "Poppins",
           "size": 11
          },
          "geo": {
           "bgcolor": "white",
           "lakecolor": "white",
           "landcolor": "white",
           "showlakes": true,
           "showland": true,
           "subunitcolor": "white"
          },
          "hoverlabel": {
           "align": "left"
          },
          "hovermode": "closest",
          "mapbox": {
           "style": "light"
          },
          "paper_bgcolor": "white",
          "plot_bgcolor": "white",
          "polar": {
           "angularaxis": {
            "gridcolor": "rgb(232,232,232)",
            "linecolor": "rgb(36,36,36)",
            "showgrid": false,
            "showline": true,
            "ticks": "outside"
           },
           "bgcolor": "white",
           "radialaxis": {
            "gridcolor": "rgb(232,232,232)",
            "linecolor": "rgb(36,36,36)",
            "showgrid": false,
            "showline": true,
            "ticks": "outside"
           }
          },
          "scene": {
           "xaxis": {
            "backgroundcolor": "white",
            "gridcolor": "rgb(232,232,232)",
            "gridwidth": 2,
            "linecolor": "rgb(36,36,36)",
            "showbackground": true,
            "showgrid": false,
            "showline": true,
            "ticks": "outside",
            "zeroline": false,
            "zerolinecolor": "rgb(36,36,36)"
           },
           "yaxis": {
            "backgroundcolor": "white",
            "gridcolor": "rgb(232,232,232)",
            "gridwidth": 2,
            "linecolor": "rgb(36,36,36)",
            "showbackground": true,
            "showgrid": false,
            "showline": true,
            "ticks": "outside",
            "zeroline": false,
            "zerolinecolor": "rgb(36,36,36)"
           },
           "zaxis": {
            "backgroundcolor": "white",
            "gridcolor": "rgb(232,232,232)",
            "gridwidth": 2,
            "linecolor": "rgb(36,36,36)",
            "showbackground": true,
            "showgrid": false,
            "showline": true,
            "ticks": "outside",
            "zeroline": false,
            "zerolinecolor": "rgb(36,36,36)"
           }
          },
          "shapedefaults": {
           "fillcolor": "black",
           "line": {
            "width": 0
           },
           "opacity": 0.3
          },
          "ternary": {
           "aaxis": {
            "gridcolor": "rgb(232,232,232)",
            "linecolor": "rgb(36,36,36)",
            "showgrid": false,
            "showline": true,
            "ticks": "outside"
           },
           "baxis": {
            "gridcolor": "rgb(232,232,232)",
            "linecolor": "rgb(36,36,36)",
            "showgrid": false,
            "showline": true,
            "ticks": "outside"
           },
           "bgcolor": "white",
           "caxis": {
            "gridcolor": "rgb(232,232,232)",
            "linecolor": "rgb(36,36,36)",
            "showgrid": false,
            "showline": true,
            "ticks": "outside"
           }
          },
          "title": {
           "x": 0.05
          },
          "xaxis": {
           "automargin": true,
           "gridcolor": "rgb(232,232,232)",
           "linecolor": "rgb(36,36,36)",
           "showgrid": false,
           "showline": true,
           "ticks": "outside",
           "title": {
            "standoff": 15
           },
           "zeroline": false,
           "zerolinecolor": "rgb(36,36,36)"
          },
          "yaxis": {
           "automargin": true,
           "gridcolor": "rgb(232,232,232)",
           "linecolor": "rgb(36,36,36)",
           "showgrid": false,
           "showline": true,
           "ticks": "outside",
           "title": {
            "standoff": 15
           },
           "zeroline": false,
           "zerolinecolor": "rgb(36,36,36)"
          }
         }
        },
        "title": {
         "text": "Heavy Trucks: King"
        },
        "width": 800,
        "xaxis": {
         "anchor": "y",
         "domain": [
          0,
          1
         ],
         "title": {
          "text": "Observed"
         }
        },
        "yaxis": {
         "anchor": "x",
         "domain": [
          0,
          1
         ],
         "title": {
          "text": "Model"
         }
        }
       }
      },
      "text/html": [
       "<div>                            <div id=\"326a48a3-00c6-4754-ab85-c5989fc540d8\" class=\"plotly-graph-div\" style=\"height:600px; width:800px;\"></div>            <script type=\"text/javascript\">                require([\"plotly\"], function(Plotly) {                    window.PLOTLYENV=window.PLOTLYENV || {};                                    if (document.getElementById(\"326a48a3-00c6-4754-ab85-c5989fc540d8\")) {                    Plotly.newPlot(                        \"326a48a3-00c6-4754-ab85-c5989fc540d8\",                        [{\"customdata\":[[\"I-5 S\\u002fO 205th NB\",\"King\"],[\"I-5 S\\u002fO 205th SB\",\"King\"],[\"I-5 Rev N\\u002fO I-5 GP NB\\u002fSB\",\"King\"],[\"I-90 E\\u002fO I-5 WB\",\"King\"],[\"I-90 E\\u002fO I-5 EB\",\"King\"],[\"I-90 E\\u002fO W Lk Sam WB\",\"King\"],[\"I-90 E\\u002fO W Lk Sam EB\",\"King\"],[\"I-90 E\\u002fO SR-900 WB\",\"King\"],[\"I-405 @ I-5 Southcenter NB\",\"King\"],[\"I-405 @ I-5 Southcenter SB\",\"King\"],[\"I-405 @ Lake Wash Blvd NB\",\"King\"],[\"I-405 @ I-90 NB\",\"King\"],[\"I-405 @ I-90 SB\",\"King\"],[\"SR-520 @ x-lake bridge WB\",\"King\"],[\"SR-520 @ x-lake bridge EB\",\"King\"],[\"SR-167 S\\u002fO 43rd NB\",\"King\"],[\"SR-167 S\\u002fO 43rd SB\",\"King\"],[\"SR-167 N\\u002fO SR-18 NB\",\"King\"],[\"SR-167 N\\u002fO SR-18 SB\",\"King\"],[\"SR-167 S\\u002fO 15th SW NB\",\"King\"],[\"SR-167 S\\u002fO 15th SW SB\",\"King\"],[\"SR-509 @ Holden NB\",\"King\"],[\"SR-509 @ Holden SB\",\"King\"],[\"SR-99 N\\u002fO 14th NB\",\"King\"],[\"SR-99 N\\u002fO 14th SB\",\"King\"],[\"SR-99 N\\u002fO WSF NB\",\"King\"],[\"SR-99 N\\u002fO WSF SB\",\"King\"],[\"SR-99 tunnel NB\",\"King\"],[\"SR-99 tunnel SB\",\"King\"],[\"SR-599 S\\u002fO Pacific NB\",\"King\"],[\"SR-599 S\\u002fO Pacific SB\",\"King\"],[\"SR-599 @ Pacific NB\",\"King\"],[\"SR-599 @ Pacific SB\",\"King\"],[\"SR-18 @ I-5 WB\",\"King\"],[\"SR-18 @ I-5 EB\",\"King\"],[\"SR-18 W\\u002fO Auburn-Black Diamond WB\",\"King\"],[\"SR-18 W\\u002fO Auburn-Black Diamond EB\",\"King\"],[\"SR-18 E\\u002fO SR-516 WB\",\"King\"],[\"SR-18 E\\u002fO SR-516 EB\",\"King\"],[\"SR-18 E\\u002fO 256th WB\",\"King\"],[\"SR-18 E\\u002fO 256th EB\",\"King\"],[\"SR-522 N\\u002fO 195th WB\",\"King\"],[\"SR-522 N\\u002fO 195th EB\",\"King\"],[\"I-5 N\\u002fO I-5 Rev CBD NB\\u002fSB\",\"King\"],[\"I-90 W\\u002fO SR-18 WB\\u002fEB\",\"King\"],[\"I-90 E\\u002fO SR-18 WB\\u002fEB\",\"King\"],[\"I-90 E\\u002fO 436th WB\\u002fEB\",\"King\"],[\"I-90 @ Kittitas County WB\\u002fEB\",\"King\"],[\"I-405 N\\u002fO SR-522 NB\\u002fSB\",\"King\"],[\"SR-167 N\\u002fO Grady NB\\u002fSB\",\"King\"],[\"SR-410 E\\u002fO 244th WB\\u002fEB\",\"King\"],[\"SR-410 E\\u002fO Farman WB\\u002fEB\",\"King\"],[\"SR-410 @ Greenwater River WB\\u002fEB\",\"King\"],[\"SR-509 E\\u002fO 47th NB\\u002fSB\",\"King\"],[\"SR-509 E\\u002fO 21st NB\\u002fSB\",\"King\"],[\"SR-509 W\\u002fO SR-516 NB\\u002fSB\",\"King\"],[\"SR-509 W\\u002fO Des Moines Mem NB\\u002fSB\",\"King\"],[\"SR-509 E\\u002fO 1st Ave NB\\u002fSB\",\"King\"],[\"SR-509 E\\u002fO Des Moines Mem NB\\u002fSB\",\"King\"],[\"SR-509 @ SR-509 ramp overpass NB\\u002fSB\",\"King\"],[\"SR-509 N\\u002fO Des Moines Mem NB\\u002fSB\",\"King\"],[\"SR-509 N\\u002fO SR-518 NB\\u002fSB\",\"King\"],[\"SR-99 S\\u002fO SR-18 NB\\u002fSB\",\"King\"],[\"SR-99 N\\u002fO SR-18 NB\\u002fSB\",\"King\"],[\"SR-99 N\\u002fO 320th NB\\u002fSB\",\"King\"],[\"SR-99 N\\u002fO 188th NB\\u002fSB\",\"King\"],[\"SR-99 @ WSF NB\\u002fSB\",\"King\"],[\"SR-99 @ Aurora Bridge NB\\u002fSB\",\"King\"],[\"SR-99 N\\u002fO 38th NB\\u002fSB\",\"King\"],[\"SR-99 S\\u002fO Roosevelt NB\\u002fSB\",\"King\"],[\"SR-599 N\\u002fO I-5 NB\\u002fSB\",\"King\"],[\"SR-518 @ SR-509 WB\\u002fEB\",\"King\"],[\"SR-518 E\\u002fO SR-509 WB\\u002fEB\",\"King\"],[\"SR-18 E\\u002fO SR-99 WB\\u002fEB\",\"King\"],[\"SR-18 N\\u002fO 304th WB\\u002fEB\",\"King\"],[\"SR-18 S\\u002fO I-90 WB\\u002fEB\",\"King\"],[\"SR-202 @ SR-522 NB\\u002fSB\",\"King\"],[\"SR-202 N\\u002fO 145th NB\\u002fSB\",\"King\"],[\"SR-202 @ Sammamish River Br NB\\u002fSB\",\"King\"],[\"SR-202 S\\u002fO 144th NB\\u002fSB\",\"King\"],[\"SR-202 N\\u002fO Redmond Way NB\\u002fSB\",\"King\"],[\"SR-202 E\\u002fO 164th NB\\u002fSB\",\"King\"],[\"SR-202 E\\u002fO SR-520 NB\\u002fSB\",\"King\"],[\"SR-202 E\\u002fO E Lk Samm NB\\u002fSB\",\"King\"],[\"SR-202 E\\u002fO Sahalee NB\\u002fSB\",\"King\"],[\"SR-202 E\\u002fO 236th NB\\u002fSB\",\"King\"],[\"SR-202 S\\u002fO Ames Lake NB\\u002fSB\",\"King\"],[\"SR-202 S\\u002fO Duthie Hill NB\\u002fSB\",\"King\"],[\"SR-202 E\\u002fO SR-203 NB\\u002fSB\",\"King\"],[\"SR-202 N\\u002fO I-90 NB\\u002fSB\",\"King\"],[\"SR-522 N\\u002fO 145th NB\\u002fSB\",\"King\"],[\"SR-104 W\\u002fO 19th WB\\u002fEB\",\"King\"],[\"SR-516 E\\u002fO SR-509 WB\\u002fEB\",\"King\"],[\"SR-516 W\\u002fO I-5 WB\\u002fEB\",\"King\"],[\"SR-516 E\\u002fO Meeker WB\\u002fEB\",\"King\"],[\"SR-516 W\\u002fO SR-167 WB\\u002fEB\",\"King\"],[\"SR-516 E\\u002fO SR-167 WB\\u002fEB\",\"King\"],[\"SR-516 E\\u002fO SR-18 WB\\u002fEB\",\"King\"],[\"SR-900 S\\u002fO NB I-5 on-ramp @ Boe Acc WB\\u002fEB\",\"King\"],[\"SR-900 E\\u002fO 68th WB\\u002fEB\",\"King\"],[\"SR-900 @ I-405 WB\\u002fEB\",\"King\"],[\"SR-900 E\\u002fO 148th WB\\u002fEB\",\"King\"],[\"SR-900 N\\u002fO Talus WB\\u002fEB\",\"King\"],[\"SR-900 N\\u002fO Newport WB\\u002fEB\",\"King\"],[\"SR-2 E\\u002fO Skykomish WB\\u002fEB\",\"King\"],[\"SR-513 S\\u002fO 44th NB\\u002fSB\",\"King\"],[\"SR-169 N\\u002fO SR-164 NB\\u002fSB\",\"King\"],[\"SR-169 S\\u002fO Lawson NB\\u002fSB\",\"King\"],[\"SR-169 S\\u002fO 276th NB\\u002fSB\",\"King\"],[\"SR-169 N\\u002fO 280th NB\\u002fSB\",\"King\"],[\"SR-169 N\\u002fO 231st NB\\u002fSB\",\"King\"],[\"SR-169 N\\u002fO 232nd NB\\u002fSB\",\"King\"],[\"SR-169 W\\u002fO 140th NB\\u002fSB\",\"King\"],[\"SR-515 N\\u002fO SR-516 NB\\u002fSB\",\"King\"],[\"SR-515 N\\u002fO 108th NB\\u002fSB\",\"King\"],[\"SR-515 N\\u002fO Puget NB\\u002fSB\",\"King\"],[\"SR-181 N\\u002fO SR-516 NB\\u002fSB\",\"King\"],[\"SR-181 S\\u002fO James NB\\u002fSB\",\"King\"],[\"SR-181 N\\u002fO James NB\\u002fSB\",\"King\"],[\"SR-181 N\\u002fO 228th NB\\u002fSB\",\"King\"],[\"SR-181 N\\u002fO 180th NB\\u002fSB\",\"King\"],[\"SR-181 S\\u002fO Longacres NB\\u002fSB\",\"King\"],[\"SR-523 E\\u002fO Lenora WB\\u002fEB\",\"King\"],[\"SR-164 @ SR-18 WB\\u002fEB\",\"King\"],[\"SR-164 S\\u002fO 400th WB\\u002fEB\",\"King\"],[\"SR-203 N\\u002fO Cherry Valley NB\\u002fSB\",\"King\"],[\"SR-203 N\\u002fO 124th NB\\u002fSB\",\"King\"],[\"SR-203 W\\u002fO Stillwater Hill NB\\u002fSB\",\"King\"],[\"SR-203 N\\u002fO Carnation Farm NB\\u002fSB\",\"King\"],[\"SR-203 N\\u002fO Tolt Hill NB\\u002fSB\",\"King\"],[\"SR-203 N\\u002fO SR-202 NB\\u002fSB\",\"King\"],[\"SR-519 W\\u002fO 4th NB\\u002fSB\",\"King\"]],\"hovertemplate\":\"Observed=%{x}\\u003cbr\\u003eModel=%{y}\\u003cbr\\u003elocation=%{customdata[0]}\\u003cbr\\u003eCounty=%{customdata[1]}\\u003cextra\\u003e\\u003c\\u002fextra\\u003e\",\"legendgroup\":\"\",\"marker\":{\"color\":\"#91268F\",\"symbol\":\"circle\"},\"mode\":\"markers\",\"name\":\"\",\"orientation\":\"v\",\"showlegend\":false,\"x\":[2322,2482,764,901,830,1933,1905,2505,855,1392,2142,321,258,137,138,2142,2289,2264,2273,3621,3308,938,942,1170,868,173,157,144,131,1302,1091,1389,920,945,1721,2401,2292,2108,2077,2714,2654,764,823,2893,3334,10502,6332,6539,2933,308,508,797,31,19,68,60,10,32,86,120,210,372,1242,280,288,174,222,146,108,141,2754,246,336,1417,5817,3461,265,83,76,321,54,146,477,307,420,378,300,318,284,110,167,76,80,540,375,960,288,351,396,84,208,76,242,84,126,56,224,440,304,231,850,1035,1248,100,96,141,957,897,899,1050,999,918,84,297,198,340,364,315,284,330,332,638],\"xaxis\":\"x\",\"y\":[5235,5463,4885,1134,1246,1254,1285,1319,223,1702,4447,4346,4027,61,57,3617,3832,4870,5083,4148,4068,204,319,1362,868,169,198,68,76,1501,1031,1444,986,1523,622,1752,1698,1785,1737,1815,1761,1826,1745,7143,2920,5915,6040,5173,4164,684,34,94,94,0,25,43,15,13,13,122,250,458,2493,84,134,225,210,172,21,33,2888,500,519,2697,3371,3906,18,18,5,24,41,41,1314,12,1,36,36,30,286,321,122,41,38,419,2008,2444,1734,70,1226,98,189,57,133,128,64,0,0,56,73,73,101,193,199,5,16,42,1006,1005,1095,2093,1488,1501,38,255,116,545,499,508,508,508,508,983],\"yaxis\":\"y\",\"type\":\"scatter\",\"line\":{\"color\":\"Grey\",\"width\":2}},{\"hovertemplate\":\"Observed=%{x}\\u003cbr\\u003eModel=%{y}\\u003cextra\\u003e\\u003c\\u002fextra\\u003e\",\"legendgroup\":\"\",\"line\":{\"color\":\"Grey\",\"dash\":\"solid\",\"width\":2},\"marker\":{\"symbol\":\"circle\"},\"mode\":\"lines\",\"name\":\"\",\"orientation\":\"v\",\"showlegend\":false,\"x\":[0.0,106.08080808080808,212.16161616161617,318.24242424242425,424.32323232323233,530.4040404040404,636.4848484848485,742.5656565656566,848.6464646464647,954.7272727272727,1060.8080808080808,1166.888888888889,1272.969696969697,1379.050505050505,1485.1313131313132,1591.2121212121212,1697.2929292929293,1803.3737373737374,1909.4545454545455,2015.5353535353536,2121.6161616161617,2227.69696969697,2333.777777777778,2439.8585858585857,2545.939393939394,2652.0202020202023,2758.10101010101,2864.181818181818,2970.2626262626263,3076.3434343434346,3182.4242424242425,3288.5050505050503,3394.5858585858587,3500.666666666667,3606.747474747475,3712.8282828282827,3818.909090909091,3924.9898989898993,4031.070707070707,4137.151515151515,4243.232323232323,4349.313131313132,4455.39393939394,4561.474747474747,4667.555555555556,4773.636363636364,4879.717171717171,4985.79797979798,5091.878787878788,5197.959595959596,5304.040404040405,5410.121212121212,5516.20202020202,5622.282828282829,5728.363636363636,5834.444444444444,5940.525252525253,6046.606060606061,6152.686868686869,6258.767676767677,6364.848484848485,6470.929292929293,6577.010101010101,6683.090909090909,6789.171717171717,6895.252525252526,7001.333333333334,7107.414141414141,7213.49494949495,7319.575757575758,7425.656565656565,7531.737373737374,7637.818181818182,7743.89898989899,7849.979797979799,7956.060606060606,8062.141414141414,8168.222222222223,8274.30303030303,8380.38383838384,8486.464646464647,8592.545454545454,8698.626262626263,8804.70707070707,8910.78787878788,9016.868686868687,9122.949494949495,9229.030303030304,9335.111111111111,9441.191919191919,9547.272727272728,9653.353535353535,9759.434343434343,9865.515151515152,9971.59595959596,10077.676767676769,10183.757575757576,10289.838383838383,10395.919191919193,10502.0],\"xaxis\":\"x\",\"y\":[363.4195331468053,452.38054039753257,541.3415476482598,630.3025548989872,719.2635621497144,808.2245694004416,897.185576651169,986.1465839018963,1075.1075911526236,1164.0685984033507,1253.029605654078,1341.9906129048054,1430.9516201555325,1519.91262740626,1608.8736346569872,1697.8346419077147,1786.7956491584418,1875.756656409169,1964.7176636598965,2053.6786709106236,2142.6396781613507,2231.6006854120783,2320.5616926628054,2409.5226999135325,2498.48370716426,2587.4447144149876,2676.4057216657147,2765.366728916442,2854.3277361671694,2943.288743417897,3032.249750668624,3121.210757919351,3210.1717651700783,3299.132772420806,3388.093779671533,3477.05478692226,3566.0157941729876,3654.976801423715,3743.9378086744423,3832.8988159251694,3921.8598231758965,4010.820830426624,4099.781837677351,4188.742844928078,4277.703852178805,4366.664859429533,4455.62586668026,4544.586873930987,4633.547881181715,4722.508888432442,4811.46989568317,4900.4309029338965,4989.391910184624,5078.352917435352,5167.313924686078,5256.274931936806,5345.235939187533,5434.196946438261,5523.1579536889885,5612.118960939715,5701.079968190443,5790.04097544117,5879.001982691897,5967.962989942624,6056.923997193351,6145.885004444079,6234.846011694806,6323.807018945533,6412.7680261962605,6501.729033446988,6590.690040697715,6679.651047948442,6768.61205519917,6857.573062449897,6946.534069700625,7035.495076951352,7124.456084202079,7213.417091452807,7302.378098703533,7391.339105954261,7480.300113204988,7569.261120455715,7658.222127706443,7747.183134957169,7836.144142207898,7925.1051494586245,8014.066156709351,8103.02716396008,8191.988171210806,8280.949178461533,8369.91018571226,8458.871192962988,8547.832200213714,8636.793207464443,8725.754214715169,8814.715221965898,8903.676229216624,8992.637236467352,9081.59824371808,9170.559250968807],\"yaxis\":\"y\",\"type\":\"scatter\"}],                        {\"template\":{\"data\":{\"barpolar\":[{\"marker\":{\"line\":{\"color\":\"white\",\"width\":0.5},\"pattern\":{\"fillmode\":\"overlay\",\"size\":10,\"solidity\":0.2}},\"type\":\"barpolar\"}],\"bar\":[{\"error_x\":{\"color\":\"rgb(36,36,36)\"},\"error_y\":{\"color\":\"rgb(36,36,36)\"},\"marker\":{\"line\":{\"color\":\"white\",\"width\":0.5},\"pattern\":{\"fillmode\":\"overlay\",\"size\":10,\"solidity\":0.2}},\"type\":\"bar\"}],\"carpet\":[{\"aaxis\":{\"endlinecolor\":\"rgb(36,36,36)\",\"gridcolor\":\"white\",\"linecolor\":\"white\",\"minorgridcolor\":\"white\",\"startlinecolor\":\"rgb(36,36,36)\"},\"baxis\":{\"endlinecolor\":\"rgb(36,36,36)\",\"gridcolor\":\"white\",\"linecolor\":\"white\",\"minorgridcolor\":\"white\",\"startlinecolor\":\"rgb(36,36,36)\"},\"type\":\"carpet\"}],\"choropleth\":[{\"colorbar\":{\"outlinewidth\":1,\"tickcolor\":\"rgb(36,36,36)\",\"ticks\":\"outside\"},\"type\":\"choropleth\"}],\"contourcarpet\":[{\"colorbar\":{\"outlinewidth\":1,\"tickcolor\":\"rgb(36,36,36)\",\"ticks\":\"outside\"},\"type\":\"contourcarpet\"}],\"contour\":[{\"colorbar\":{\"outlinewidth\":1,\"tickcolor\":\"rgb(36,36,36)\",\"ticks\":\"outside\"},\"colorscale\":[[0.0,\"#440154\"],[0.1111111111111111,\"#482878\"],[0.2222222222222222,\"#3e4989\"],[0.3333333333333333,\"#31688e\"],[0.4444444444444444,\"#26828e\"],[0.5555555555555556,\"#1f9e89\"],[0.6666666666666666,\"#35b779\"],[0.7777777777777778,\"#6ece58\"],[0.8888888888888888,\"#b5de2b\"],[1.0,\"#fde725\"]],\"type\":\"contour\"}],\"heatmapgl\":[{\"colorbar\":{\"outlinewidth\":1,\"tickcolor\":\"rgb(36,36,36)\",\"ticks\":\"outside\"},\"colorscale\":[[0.0,\"#440154\"],[0.1111111111111111,\"#482878\"],[0.2222222222222222,\"#3e4989\"],[0.3333333333333333,\"#31688e\"],[0.4444444444444444,\"#26828e\"],[0.5555555555555556,\"#1f9e89\"],[0.6666666666666666,\"#35b779\"],[0.7777777777777778,\"#6ece58\"],[0.8888888888888888,\"#b5de2b\"],[1.0,\"#fde725\"]],\"type\":\"heatmapgl\"}],\"heatmap\":[{\"colorbar\":{\"outlinewidth\":1,\"tickcolor\":\"rgb(36,36,36)\",\"ticks\":\"outside\"},\"colorscale\":[[0.0,\"#440154\"],[0.1111111111111111,\"#482878\"],[0.2222222222222222,\"#3e4989\"],[0.3333333333333333,\"#31688e\"],[0.4444444444444444,\"#26828e\"],[0.5555555555555556,\"#1f9e89\"],[0.6666666666666666,\"#35b779\"],[0.7777777777777778,\"#6ece58\"],[0.8888888888888888,\"#b5de2b\"],[1.0,\"#fde725\"]],\"type\":\"heatmap\"}],\"histogram2dcontour\":[{\"colorbar\":{\"outlinewidth\":1,\"tickcolor\":\"rgb(36,36,36)\",\"ticks\":\"outside\"},\"colorscale\":[[0.0,\"#440154\"],[0.1111111111111111,\"#482878\"],[0.2222222222222222,\"#3e4989\"],[0.3333333333333333,\"#31688e\"],[0.4444444444444444,\"#26828e\"],[0.5555555555555556,\"#1f9e89\"],[0.6666666666666666,\"#35b779\"],[0.7777777777777778,\"#6ece58\"],[0.8888888888888888,\"#b5de2b\"],[1.0,\"#fde725\"]],\"type\":\"histogram2dcontour\"}],\"histogram2d\":[{\"colorbar\":{\"outlinewidth\":1,\"tickcolor\":\"rgb(36,36,36)\",\"ticks\":\"outside\"},\"colorscale\":[[0.0,\"#440154\"],[0.1111111111111111,\"#482878\"],[0.2222222222222222,\"#3e4989\"],[0.3333333333333333,\"#31688e\"],[0.4444444444444444,\"#26828e\"],[0.5555555555555556,\"#1f9e89\"],[0.6666666666666666,\"#35b779\"],[0.7777777777777778,\"#6ece58\"],[0.8888888888888888,\"#b5de2b\"],[1.0,\"#fde725\"]],\"type\":\"histogram2d\"}],\"histogram\":[{\"marker\":{\"line\":{\"color\":\"white\",\"width\":0.6}},\"type\":\"histogram\"}],\"mesh3d\":[{\"colorbar\":{\"outlinewidth\":1,\"tickcolor\":\"rgb(36,36,36)\",\"ticks\":\"outside\"},\"type\":\"mesh3d\"}],\"parcoords\":[{\"line\":{\"colorbar\":{\"outlinewidth\":1,\"tickcolor\":\"rgb(36,36,36)\",\"ticks\":\"outside\"}},\"type\":\"parcoords\"}],\"pie\":[{\"automargin\":true,\"type\":\"pie\"}],\"scatter3d\":[{\"line\":{\"colorbar\":{\"outlinewidth\":1,\"tickcolor\":\"rgb(36,36,36)\",\"ticks\":\"outside\"}},\"marker\":{\"colorbar\":{\"outlinewidth\":1,\"tickcolor\":\"rgb(36,36,36)\",\"ticks\":\"outside\"}},\"type\":\"scatter3d\"}],\"scattercarpet\":[{\"marker\":{\"colorbar\":{\"outlinewidth\":1,\"tickcolor\":\"rgb(36,36,36)\",\"ticks\":\"outside\"}},\"type\":\"scattercarpet\"}],\"scattergeo\":[{\"marker\":{\"colorbar\":{\"outlinewidth\":1,\"tickcolor\":\"rgb(36,36,36)\",\"ticks\":\"outside\"}},\"type\":\"scattergeo\"}],\"scattergl\":[{\"marker\":{\"colorbar\":{\"outlinewidth\":1,\"tickcolor\":\"rgb(36,36,36)\",\"ticks\":\"outside\"}},\"type\":\"scattergl\"}],\"scattermapbox\":[{\"marker\":{\"colorbar\":{\"outlinewidth\":1,\"tickcolor\":\"rgb(36,36,36)\",\"ticks\":\"outside\"}},\"type\":\"scattermapbox\"}],\"scatterpolargl\":[{\"marker\":{\"colorbar\":{\"outlinewidth\":1,\"tickcolor\":\"rgb(36,36,36)\",\"ticks\":\"outside\"}},\"type\":\"scatterpolargl\"}],\"scatterpolar\":[{\"marker\":{\"colorbar\":{\"outlinewidth\":1,\"tickcolor\":\"rgb(36,36,36)\",\"ticks\":\"outside\"}},\"type\":\"scatterpolar\"}],\"scatter\":[{\"fillpattern\":{\"fillmode\":\"overlay\",\"size\":10,\"solidity\":0.2},\"type\":\"scatter\"}],\"scatterternary\":[{\"marker\":{\"colorbar\":{\"outlinewidth\":1,\"tickcolor\":\"rgb(36,36,36)\",\"ticks\":\"outside\"}},\"type\":\"scatterternary\"}],\"surface\":[{\"colorbar\":{\"outlinewidth\":1,\"tickcolor\":\"rgb(36,36,36)\",\"ticks\":\"outside\"},\"colorscale\":[[0.0,\"#440154\"],[0.1111111111111111,\"#482878\"],[0.2222222222222222,\"#3e4989\"],[0.3333333333333333,\"#31688e\"],[0.4444444444444444,\"#26828e\"],[0.5555555555555556,\"#1f9e89\"],[0.6666666666666666,\"#35b779\"],[0.7777777777777778,\"#6ece58\"],[0.8888888888888888,\"#b5de2b\"],[1.0,\"#fde725\"]],\"type\":\"surface\"}],\"table\":[{\"cells\":{\"fill\":{\"color\":\"rgb(237,237,237)\"},\"line\":{\"color\":\"white\"}},\"header\":{\"fill\":{\"color\":\"rgb(217,217,217)\"},\"line\":{\"color\":\"white\"}},\"type\":\"table\"}]},\"layout\":{\"annotationdefaults\":{\"arrowhead\":0,\"arrowwidth\":1},\"autotypenumbers\":\"strict\",\"coloraxis\":{\"colorbar\":{\"outlinewidth\":1,\"tickcolor\":\"rgb(36,36,36)\",\"ticks\":\"outside\"}},\"colorscale\":{\"diverging\":[[0.0,\"rgb(103,0,31)\"],[0.1,\"rgb(178,24,43)\"],[0.2,\"rgb(214,96,77)\"],[0.3,\"rgb(244,165,130)\"],[0.4,\"rgb(253,219,199)\"],[0.5,\"rgb(247,247,247)\"],[0.6,\"rgb(209,229,240)\"],[0.7,\"rgb(146,197,222)\"],[0.8,\"rgb(67,147,195)\"],[0.9,\"rgb(33,102,172)\"],[1.0,\"rgb(5,48,97)\"]],\"sequential\":[[0.0,\"#440154\"],[0.1111111111111111,\"#482878\"],[0.2222222222222222,\"#3e4989\"],[0.3333333333333333,\"#31688e\"],[0.4444444444444444,\"#26828e\"],[0.5555555555555556,\"#1f9e89\"],[0.6666666666666666,\"#35b779\"],[0.7777777777777778,\"#6ece58\"],[0.8888888888888888,\"#b5de2b\"],[1.0,\"#fde725\"]],\"sequentialminus\":[[0.0,\"#440154\"],[0.1111111111111111,\"#482878\"],[0.2222222222222222,\"#3e4989\"],[0.3333333333333333,\"#31688e\"],[0.4444444444444444,\"#26828e\"],[0.5555555555555556,\"#1f9e89\"],[0.6666666666666666,\"#35b779\"],[0.7777777777777778,\"#6ece58\"],[0.8888888888888888,\"#b5de2b\"],[1.0,\"#fde725\"]]},\"colorway\":[\"#91268F\",\"#8CC63E\",\"#00A7A0\",\"#F05A28\",\"#4C4C4C\",\"#630460\",\"#9f3913\",\"#588527\",\"#00716c\",\"#3e4040\"],\"font\":{\"color\":\"rgb(36,36,36)\",\"family\":\"Poppins\",\"size\":11},\"geo\":{\"bgcolor\":\"white\",\"lakecolor\":\"white\",\"landcolor\":\"white\",\"showlakes\":true,\"showland\":true,\"subunitcolor\":\"white\"},\"hoverlabel\":{\"align\":\"left\"},\"hovermode\":\"closest\",\"mapbox\":{\"style\":\"light\"},\"paper_bgcolor\":\"white\",\"plot_bgcolor\":\"white\",\"polar\":{\"angularaxis\":{\"gridcolor\":\"rgb(232,232,232)\",\"linecolor\":\"rgb(36,36,36)\",\"showgrid\":false,\"showline\":true,\"ticks\":\"outside\"},\"bgcolor\":\"white\",\"radialaxis\":{\"gridcolor\":\"rgb(232,232,232)\",\"linecolor\":\"rgb(36,36,36)\",\"showgrid\":false,\"showline\":true,\"ticks\":\"outside\"}},\"scene\":{\"xaxis\":{\"backgroundcolor\":\"white\",\"gridcolor\":\"rgb(232,232,232)\",\"gridwidth\":2,\"linecolor\":\"rgb(36,36,36)\",\"showbackground\":true,\"showgrid\":false,\"showline\":true,\"ticks\":\"outside\",\"zeroline\":false,\"zerolinecolor\":\"rgb(36,36,36)\"},\"yaxis\":{\"backgroundcolor\":\"white\",\"gridcolor\":\"rgb(232,232,232)\",\"gridwidth\":2,\"linecolor\":\"rgb(36,36,36)\",\"showbackground\":true,\"showgrid\":false,\"showline\":true,\"ticks\":\"outside\",\"zeroline\":false,\"zerolinecolor\":\"rgb(36,36,36)\"},\"zaxis\":{\"backgroundcolor\":\"white\",\"gridcolor\":\"rgb(232,232,232)\",\"gridwidth\":2,\"linecolor\":\"rgb(36,36,36)\",\"showbackground\":true,\"showgrid\":false,\"showline\":true,\"ticks\":\"outside\",\"zeroline\":false,\"zerolinecolor\":\"rgb(36,36,36)\"}},\"shapedefaults\":{\"fillcolor\":\"black\",\"line\":{\"width\":0},\"opacity\":0.3},\"ternary\":{\"aaxis\":{\"gridcolor\":\"rgb(232,232,232)\",\"linecolor\":\"rgb(36,36,36)\",\"showgrid\":false,\"showline\":true,\"ticks\":\"outside\"},\"baxis\":{\"gridcolor\":\"rgb(232,232,232)\",\"linecolor\":\"rgb(36,36,36)\",\"showgrid\":false,\"showline\":true,\"ticks\":\"outside\"},\"bgcolor\":\"white\",\"caxis\":{\"gridcolor\":\"rgb(232,232,232)\",\"linecolor\":\"rgb(36,36,36)\",\"showgrid\":false,\"showline\":true,\"ticks\":\"outside\"}},\"title\":{\"x\":0.05},\"xaxis\":{\"automargin\":true,\"gridcolor\":\"rgb(232,232,232)\",\"linecolor\":\"rgb(36,36,36)\",\"showgrid\":false,\"showline\":true,\"ticks\":\"outside\",\"title\":{\"standoff\":15},\"zeroline\":false,\"zerolinecolor\":\"rgb(36,36,36)\"},\"yaxis\":{\"automargin\":true,\"gridcolor\":\"rgb(232,232,232)\",\"linecolor\":\"rgb(36,36,36)\",\"showgrid\":false,\"showline\":true,\"ticks\":\"outside\",\"title\":{\"standoff\":15},\"zeroline\":false,\"zerolinecolor\":\"rgb(36,36,36)\"}}},\"xaxis\":{\"anchor\":\"y\",\"domain\":[0.0,1.0],\"title\":{\"text\":\"Observed\"}},\"yaxis\":{\"anchor\":\"x\",\"domain\":[0.0,1.0],\"title\":{\"text\":\"Model\"}},\"legend\":{\"tracegroupgap\":0},\"title\":{\"text\":\"Heavy Trucks: King\"},\"margin\":{\"l\":100,\"r\":100,\"t\":100,\"b\":100},\"height\":600,\"width\":800,\"shapes\":[{\"line\":{\"color\":\"Red\",\"dash\":\"dash\",\"width\":2},\"type\":\"line\",\"x0\":0,\"x1\":10502,\"y0\":0,\"y1\":10502}],\"annotations\":[{\"align\":\"right\",\"font\":{\"color\":\"pink\",\"size\":12},\"showarrow\":false,\"text\":\"y = x\",\"x\":11027.1,\"y\":11027.1},{\"align\":\"right\",\"font\":{\"color\":\"black\",\"size\":12},\"showarrow\":false,\"text\":\"r^2 = 0.56\",\"x\":11027.1,\"y\":9629.087213517247}]},                        {\"responsive\": true}                    ).then(function(){\n",
       "                            \n",
       "var gd = document.getElementById('326a48a3-00c6-4754-ab85-c5989fc540d8');\n",
       "var x = new MutationObserver(function (mutations, observer) {{\n",
       "        var display = window.getComputedStyle(gd).display;\n",
       "        if (!display || display === 'none') {{\n",
       "            console.log([gd, 'removed!']);\n",
       "            Plotly.purge(gd);\n",
       "            observer.disconnect();\n",
       "        }}\n",
       "}});\n",
       "\n",
       "// Listen for the removal of the full notebook cells\n",
       "var notebookContainer = gd.closest('#notebook-container');\n",
       "if (notebookContainer) {{\n",
       "    x.observe(notebookContainer, {childList: true});\n",
       "}}\n",
       "\n",
       "// Listen for the clearing of the current output cell\n",
       "var outputEl = gd.closest('.output');\n",
       "if (outputEl) {{\n",
       "    x.observe(outputEl, {childList: true});\n",
       "}}\n",
       "\n",
       "                        })                };                });            </script>        </div>"
      ]
     },
     "metadata": {},
     "output_type": "display_data"
    }
   ],
   "source": [
    "fig = create_truck_chart(df_daily_heavy, 'Heavy', 'King')\n",
    "fig.show()"
   ]
  },
  {
   "cell_type": "raw",
   "id": "d8920eeb",
   "metadata": {
    "vscode": {
     "languageId": "raw"
    }
   },
   "source": [
    "#### Kitsap"
   ]
  },
  {
   "cell_type": "code",
   "execution_count": 26,
   "id": "0c8e0f42",
   "metadata": {},
   "outputs": [
    {
     "data": {
      "application/vnd.plotly.v1+json": {
       "config": {
        "plotlyServerURL": "https://plot.ly"
       },
       "data": [
        {
         "customdata": [
          [
           "SR-16  N/O SR-302 NB/SB",
           "Kitsap"
          ],
          [
           "SR-16 N/O SR-160 NB/SB",
           "Kitsap"
          ],
          [
           "SR-16 N/O Tremont NB/SB",
           "Kitsap"
          ],
          [
           "SR-16 S/O SR-3 NB",
           "Kitsap"
          ],
          [
           "SR-104 @ Hood Canal Bridge WB/EB",
           "Kitsap"
          ],
          [
           "SR-104 E/O Hood Canal Bridge WB/EB",
           "Kitsap"
          ],
          [
           "SR-104 N/O Pt Gamble Rd WB/EB",
           "Kitsap"
          ],
          [
           "SR-104 E/O SR-307 WB/EB",
           "Kitsap"
          ],
          [
           "SR-104 E/O Hansville WB/EB",
           "Kitsap"
          ],
          [
           "SR-160 @ SR-16 WB/EB",
           "Kitsap"
          ],
          [
           "SR-160 E/O Long Lake Rd WB/EB",
           "Kitsap"
          ],
          [
           "SR-160 W/O Banner WB/EB",
           "Kitsap"
          ],
          [
           "SR-160 E/O Peterson WB/EB",
           "Kitsap"
          ],
          [
           "SR-160 S/O Southworth Dr WB/EB",
           "Kitsap"
          ],
          [
           "SR-166 E/O SR-16 WB/EB",
           "Kitsap"
          ],
          [
           "SR-3 E/O Sunset Way NB/SB",
           "Kitsap"
          ],
          [
           "SR-3 N/O SR-305 NB/SB",
           "Kitsap"
          ],
          [
           "SR-3 S/O Newberry Hill Rd NB/SB",
           "Kitsap"
          ],
          [
           "SR-3 @ SR-304 NB/SB",
           "Kitsap"
          ],
          [
           "SR-3 NE of SR-16 NB/SB",
           "Kitsap"
          ],
          [
           "SR-3 W/O Lake Flora Rd NB/SB",
           "Kitsap"
          ],
          [
           "SR-303 E/O SR-3 NB/SB",
           "Kitsap"
          ],
          [
           "SR-303 N/O 11th St NB/SB",
           "Kitsap"
          ],
          [
           "SR-303 N/O SR-304 NB/SB",
           "Kitsap"
          ],
          [
           "SR-304 E/O SR-3 WB/EB",
           "Kitsap"
          ],
          [
           "SR-304 W/O Naval WB/EB",
           "Kitsap"
          ],
          [
           "SR-305 W/O SR-307 WB/EB",
           "Kitsap"
          ],
          [
           "SR-305 W/O Suquamish Way WB/EB",
           "Kitsap"
          ],
          [
           "SR-305 N/O Day Rd WB/EB",
           "Kitsap"
          ],
          [
           "SR-305 N/O High School Rd WB/EB",
           "Kitsap"
          ],
          [
           "SR-305 S/O Winslow Way WB/EB",
           "Kitsap"
          ],
          [
           "SR-305 @ Ferry Ramp WB/EB",
           "Kitsap"
          ],
          [
           "SR-307 W/O SR-104 NB/SB",
           "Kitsap"
          ],
          [
           "SR-307 N/O Gunderson NB/SB",
           "Kitsap"
          ],
          [
           "SR-307 S/O Gunderson NB/SB",
           "Kitsap"
          ],
          [
           "SR-307 N/O SR-305 NB/SB",
           "Kitsap"
          ],
          [
           "SR-308 @ SR-3 WB/EB",
           "Kitsap"
          ],
          [
           "SR-308 E/O SR-3 WB/EB",
           "Kitsap"
          ],
          [
           "SR-308 E/O Silverdale Way WB/EB",
           "Kitsap"
          ],
          [
           "SR-308 W/O Brownsville Hwy WB/EB",
           "Kitsap"
          ],
          [
           "SR-310 @ SR-3 WB/EB",
           "Kitsap"
          ],
          [
           "SR-310 W/O Callow WB/EB",
           "Kitsap"
          ]
         ],
         "hovertemplate": "Observed=%{x}<br>Model=%{y}<br>location=%{customdata[0]}<br>County=%{customdata[1]}<extra></extra>",
         "legendgroup": "",
         "line": {
          "color": "Grey",
          "width": 2
         },
         "marker": {
          "color": "#91268F",
          "symbol": "circle"
         },
         "mode": "markers",
         "name": "",
         "orientation": "v",
         "showlegend": false,
         "type": "scatter",
         "x": [
          1558,
          1210,
          1364,
          1155,
          612,
          75,
          70,
          144,
          84,
          114,
          34,
          30,
          19,
          12,
          140,
          1020,
          1012,
          1159,
          988,
          1360,
          288,
          180,
          216,
          98,
          210,
          126,
          266,
          420,
          420,
          234,
          11,
          9,
          196,
          168,
          126,
          120,
          39,
          36,
          66,
          22,
          138,
          26
         ],
         "xaxis": "x",
         "y": [
          3839,
          3204,
          3166,
          1580,
          956,
          2,
          2,
          153,
          115,
          199,
          18,
          18,
          21,
          21,
          2,
          954,
          1169,
          2452,
          2898,
          3176,
          9,
          22,
          168,
          50,
          277,
          149,
          478,
          149,
          127,
          98,
          0,
          0,
          153,
          153,
          154,
          258,
          56,
          109,
          38,
          0,
          9,
          0
         ],
         "yaxis": "y"
        },
        {
         "hovertemplate": "Observed=%{x}<br>Model=%{y}<extra></extra>",
         "legendgroup": "",
         "line": {
          "color": "Grey",
          "dash": "solid",
          "width": 2
         },
         "marker": {
          "symbol": "circle"
         },
         "mode": "lines",
         "name": "",
         "orientation": "v",
         "showlegend": false,
         "type": "scatter",
         "x": [
          0,
          15.737373737373737,
          31.474747474747474,
          47.21212121212121,
          62.94949494949495,
          78.68686868686868,
          94.42424242424242,
          110.16161616161617,
          125.8989898989899,
          141.63636363636363,
          157.37373737373736,
          173.11111111111111,
          188.84848484848484,
          204.58585858585857,
          220.32323232323233,
          236.06060606060606,
          251.7979797979798,
          267.5353535353535,
          283.27272727272725,
          299.010101010101,
          314.7474747474747,
          330.4848484848485,
          346.22222222222223,
          361.95959595959596,
          377.6969696969697,
          393.4343434343434,
          409.17171717171715,
          424.9090909090909,
          440.64646464646466,
          456.3838383838384,
          472.1212121212121,
          487.85858585858585,
          503.5959595959596,
          519.3333333333334,
          535.070707070707,
          550.8080808080808,
          566.5454545454545,
          582.2828282828283,
          598.020202020202,
          613.7575757575758,
          629.4949494949494,
          645.2323232323232,
          660.969696969697,
          676.7070707070707,
          692.4444444444445,
          708.1818181818181,
          723.9191919191919,
          739.6565656565656,
          755.3939393939394,
          771.1313131313132,
          786.8686868686868,
          802.6060606060606,
          818.3434343434343,
          834.0808080808081,
          849.8181818181818,
          865.5555555555555,
          881.2929292929293,
          897.030303030303,
          912.7676767676768,
          928.5050505050505,
          944.2424242424242,
          959.9797979797979,
          975.7171717171717,
          991.4545454545454,
          1007.1919191919192,
          1022.929292929293,
          1038.6666666666667,
          1054.4040404040404,
          1070.141414141414,
          1085.8787878787878,
          1101.6161616161617,
          1117.3535353535353,
          1133.090909090909,
          1148.828282828283,
          1164.5656565656566,
          1180.3030303030303,
          1196.040404040404,
          1211.7777777777778,
          1227.5151515151515,
          1243.2525252525252,
          1258.9898989898988,
          1274.7272727272727,
          1290.4646464646464,
          1306.20202020202,
          1321.939393939394,
          1337.6767676767677,
          1353.4141414141413,
          1369.151515151515,
          1384.888888888889,
          1400.6262626262626,
          1416.3636363636363,
          1432.1010101010102,
          1447.8383838383838,
          1463.5757575757575,
          1479.3131313131312,
          1495.050505050505,
          1510.7878787878788,
          1526.5252525252524,
          1542.2626262626263,
          1558
         ],
         "xaxis": "x",
         "y": [
          -192.33421116414547,
          -157.49471025344164,
          -122.65520934273779,
          -87.81570843203394,
          -52.97620752133011,
          -18.136706610626277,
          16.702794300077585,
          51.54229521078145,
          86.38179612148525,
          121.22129703218911,
          156.06079794289292,
          190.90029885359684,
          225.73979976430064,
          260.5793006750045,
          295.41880158570837,
          330.25830249641217,
          365.097803407116,
          399.9373043178199,
          434.7768052285237,
          469.6163061392275,
          504.4558070499313,
          539.2953079606353,
          574.1348088713391,
          608.974309782043,
          643.8138106927468,
          678.6533116034506,
          713.4928125141545,
          748.3323134248583,
          783.1718143355622,
          818.011315246266,
          852.8508161569698,
          887.6903170676737,
          922.5298179783774,
          957.3693188890816,
          992.2088197997853,
          1027.0483207104892,
          1061.8878216211929,
          1096.7273225318968,
          1131.5668234426005,
          1166.4063243533044,
          1201.245825264008,
          1236.085326174712,
          1270.9248270854162,
          1305.7643279961198,
          1340.6038289068238,
          1375.4433298175275,
          1410.2828307282314,
          1445.122331638935,
          1479.961832549639,
          1514.801333460343,
          1549.6408343710466,
          1584.4803352817507,
          1619.3198361924544,
          1654.1593371031584,
          1688.998838013862,
          1723.838338924566,
          1758.6778398352699,
          1793.5173407459736,
          1828.3568416566775,
          1863.1963425673812,
          1898.035843478085,
          1932.875344388789,
          1967.714845299493,
          2002.5543462101964,
          2037.3938471209003,
          2072.2333480316047,
          2107.0728489423086,
          2141.912349853012,
          2176.751850763716,
          2211.5913516744195,
          2246.430852585124,
          2281.2703534958273,
          2316.109854406531,
          2350.9493553172356,
          2385.788856227939,
          2420.628357138643,
          2455.4678580493464,
          2490.307358960051,
          2525.1468598707543,
          2559.986360781458,
          2594.8258616921617,
          2629.665362602866,
          2664.5048635135695,
          2699.3443644242734,
          2734.183865334978,
          2769.0233662456812,
          2803.862867156385,
          2838.7023680670886,
          2873.541868977793,
          2908.3813698884965,
          2943.2208707992004,
          2978.0603717099043,
          3012.899872620608,
          3047.739373531312,
          3082.5788744420156,
          3117.41837535272,
          3152.2578762634234,
          3187.0973771741274,
          3221.9368780848313,
          3256.776378995535
         ],
         "yaxis": "y"
        }
       ],
       "layout": {
        "annotations": [
         {
          "align": "right",
          "font": {
           "color": "pink",
           "size": 12
          },
          "showarrow": false,
          "text": "y = x",
          "x": 4030.9500000000003,
          "y": 4030.9500000000003
         },
         {
          "align": "right",
          "font": {
           "color": "black",
           "size": 12
          },
          "showarrow": false,
          "text": "r^2 = 0.88",
          "x": 1635.9,
          "y": 3419.615197945312
         }
        ],
        "height": 600,
        "legend": {
         "tracegroupgap": 0
        },
        "margin": {
         "b": 100,
         "l": 100,
         "r": 100,
         "t": 100
        },
        "shapes": [
         {
          "line": {
           "color": "Red",
           "dash": "dash",
           "width": 2
          },
          "type": "line",
          "x0": 0,
          "x1": 3839,
          "y0": 0,
          "y1": 3839
         }
        ],
        "template": {
         "data": {
          "bar": [
           {
            "error_x": {
             "color": "rgb(36,36,36)"
            },
            "error_y": {
             "color": "rgb(36,36,36)"
            },
            "marker": {
             "line": {
              "color": "white",
              "width": 0.5
             },
             "pattern": {
              "fillmode": "overlay",
              "size": 10,
              "solidity": 0.2
             }
            },
            "type": "bar"
           }
          ],
          "barpolar": [
           {
            "marker": {
             "line": {
              "color": "white",
              "width": 0.5
             },
             "pattern": {
              "fillmode": "overlay",
              "size": 10,
              "solidity": 0.2
             }
            },
            "type": "barpolar"
           }
          ],
          "carpet": [
           {
            "aaxis": {
             "endlinecolor": "rgb(36,36,36)",
             "gridcolor": "white",
             "linecolor": "white",
             "minorgridcolor": "white",
             "startlinecolor": "rgb(36,36,36)"
            },
            "baxis": {
             "endlinecolor": "rgb(36,36,36)",
             "gridcolor": "white",
             "linecolor": "white",
             "minorgridcolor": "white",
             "startlinecolor": "rgb(36,36,36)"
            },
            "type": "carpet"
           }
          ],
          "choropleth": [
           {
            "colorbar": {
             "outlinewidth": 1,
             "tickcolor": "rgb(36,36,36)",
             "ticks": "outside"
            },
            "type": "choropleth"
           }
          ],
          "contour": [
           {
            "colorbar": {
             "outlinewidth": 1,
             "tickcolor": "rgb(36,36,36)",
             "ticks": "outside"
            },
            "colorscale": [
             [
              0,
              "#440154"
             ],
             [
              0.1111111111111111,
              "#482878"
             ],
             [
              0.2222222222222222,
              "#3e4989"
             ],
             [
              0.3333333333333333,
              "#31688e"
             ],
             [
              0.4444444444444444,
              "#26828e"
             ],
             [
              0.5555555555555556,
              "#1f9e89"
             ],
             [
              0.6666666666666666,
              "#35b779"
             ],
             [
              0.7777777777777778,
              "#6ece58"
             ],
             [
              0.8888888888888888,
              "#b5de2b"
             ],
             [
              1,
              "#fde725"
             ]
            ],
            "type": "contour"
           }
          ],
          "contourcarpet": [
           {
            "colorbar": {
             "outlinewidth": 1,
             "tickcolor": "rgb(36,36,36)",
             "ticks": "outside"
            },
            "type": "contourcarpet"
           }
          ],
          "heatmap": [
           {
            "colorbar": {
             "outlinewidth": 1,
             "tickcolor": "rgb(36,36,36)",
             "ticks": "outside"
            },
            "colorscale": [
             [
              0,
              "#440154"
             ],
             [
              0.1111111111111111,
              "#482878"
             ],
             [
              0.2222222222222222,
              "#3e4989"
             ],
             [
              0.3333333333333333,
              "#31688e"
             ],
             [
              0.4444444444444444,
              "#26828e"
             ],
             [
              0.5555555555555556,
              "#1f9e89"
             ],
             [
              0.6666666666666666,
              "#35b779"
             ],
             [
              0.7777777777777778,
              "#6ece58"
             ],
             [
              0.8888888888888888,
              "#b5de2b"
             ],
             [
              1,
              "#fde725"
             ]
            ],
            "type": "heatmap"
           }
          ],
          "heatmapgl": [
           {
            "colorbar": {
             "outlinewidth": 1,
             "tickcolor": "rgb(36,36,36)",
             "ticks": "outside"
            },
            "colorscale": [
             [
              0,
              "#440154"
             ],
             [
              0.1111111111111111,
              "#482878"
             ],
             [
              0.2222222222222222,
              "#3e4989"
             ],
             [
              0.3333333333333333,
              "#31688e"
             ],
             [
              0.4444444444444444,
              "#26828e"
             ],
             [
              0.5555555555555556,
              "#1f9e89"
             ],
             [
              0.6666666666666666,
              "#35b779"
             ],
             [
              0.7777777777777778,
              "#6ece58"
             ],
             [
              0.8888888888888888,
              "#b5de2b"
             ],
             [
              1,
              "#fde725"
             ]
            ],
            "type": "heatmapgl"
           }
          ],
          "histogram": [
           {
            "marker": {
             "line": {
              "color": "white",
              "width": 0.6
             }
            },
            "type": "histogram"
           }
          ],
          "histogram2d": [
           {
            "colorbar": {
             "outlinewidth": 1,
             "tickcolor": "rgb(36,36,36)",
             "ticks": "outside"
            },
            "colorscale": [
             [
              0,
              "#440154"
             ],
             [
              0.1111111111111111,
              "#482878"
             ],
             [
              0.2222222222222222,
              "#3e4989"
             ],
             [
              0.3333333333333333,
              "#31688e"
             ],
             [
              0.4444444444444444,
              "#26828e"
             ],
             [
              0.5555555555555556,
              "#1f9e89"
             ],
             [
              0.6666666666666666,
              "#35b779"
             ],
             [
              0.7777777777777778,
              "#6ece58"
             ],
             [
              0.8888888888888888,
              "#b5de2b"
             ],
             [
              1,
              "#fde725"
             ]
            ],
            "type": "histogram2d"
           }
          ],
          "histogram2dcontour": [
           {
            "colorbar": {
             "outlinewidth": 1,
             "tickcolor": "rgb(36,36,36)",
             "ticks": "outside"
            },
            "colorscale": [
             [
              0,
              "#440154"
             ],
             [
              0.1111111111111111,
              "#482878"
             ],
             [
              0.2222222222222222,
              "#3e4989"
             ],
             [
              0.3333333333333333,
              "#31688e"
             ],
             [
              0.4444444444444444,
              "#26828e"
             ],
             [
              0.5555555555555556,
              "#1f9e89"
             ],
             [
              0.6666666666666666,
              "#35b779"
             ],
             [
              0.7777777777777778,
              "#6ece58"
             ],
             [
              0.8888888888888888,
              "#b5de2b"
             ],
             [
              1,
              "#fde725"
             ]
            ],
            "type": "histogram2dcontour"
           }
          ],
          "mesh3d": [
           {
            "colorbar": {
             "outlinewidth": 1,
             "tickcolor": "rgb(36,36,36)",
             "ticks": "outside"
            },
            "type": "mesh3d"
           }
          ],
          "parcoords": [
           {
            "line": {
             "colorbar": {
              "outlinewidth": 1,
              "tickcolor": "rgb(36,36,36)",
              "ticks": "outside"
             }
            },
            "type": "parcoords"
           }
          ],
          "pie": [
           {
            "automargin": true,
            "type": "pie"
           }
          ],
          "scatter": [
           {
            "fillpattern": {
             "fillmode": "overlay",
             "size": 10,
             "solidity": 0.2
            },
            "type": "scatter"
           }
          ],
          "scatter3d": [
           {
            "line": {
             "colorbar": {
              "outlinewidth": 1,
              "tickcolor": "rgb(36,36,36)",
              "ticks": "outside"
             }
            },
            "marker": {
             "colorbar": {
              "outlinewidth": 1,
              "tickcolor": "rgb(36,36,36)",
              "ticks": "outside"
             }
            },
            "type": "scatter3d"
           }
          ],
          "scattercarpet": [
           {
            "marker": {
             "colorbar": {
              "outlinewidth": 1,
              "tickcolor": "rgb(36,36,36)",
              "ticks": "outside"
             }
            },
            "type": "scattercarpet"
           }
          ],
          "scattergeo": [
           {
            "marker": {
             "colorbar": {
              "outlinewidth": 1,
              "tickcolor": "rgb(36,36,36)",
              "ticks": "outside"
             }
            },
            "type": "scattergeo"
           }
          ],
          "scattergl": [
           {
            "marker": {
             "colorbar": {
              "outlinewidth": 1,
              "tickcolor": "rgb(36,36,36)",
              "ticks": "outside"
             }
            },
            "type": "scattergl"
           }
          ],
          "scattermapbox": [
           {
            "marker": {
             "colorbar": {
              "outlinewidth": 1,
              "tickcolor": "rgb(36,36,36)",
              "ticks": "outside"
             }
            },
            "type": "scattermapbox"
           }
          ],
          "scatterpolar": [
           {
            "marker": {
             "colorbar": {
              "outlinewidth": 1,
              "tickcolor": "rgb(36,36,36)",
              "ticks": "outside"
             }
            },
            "type": "scatterpolar"
           }
          ],
          "scatterpolargl": [
           {
            "marker": {
             "colorbar": {
              "outlinewidth": 1,
              "tickcolor": "rgb(36,36,36)",
              "ticks": "outside"
             }
            },
            "type": "scatterpolargl"
           }
          ],
          "scatterternary": [
           {
            "marker": {
             "colorbar": {
              "outlinewidth": 1,
              "tickcolor": "rgb(36,36,36)",
              "ticks": "outside"
             }
            },
            "type": "scatterternary"
           }
          ],
          "surface": [
           {
            "colorbar": {
             "outlinewidth": 1,
             "tickcolor": "rgb(36,36,36)",
             "ticks": "outside"
            },
            "colorscale": [
             [
              0,
              "#440154"
             ],
             [
              0.1111111111111111,
              "#482878"
             ],
             [
              0.2222222222222222,
              "#3e4989"
             ],
             [
              0.3333333333333333,
              "#31688e"
             ],
             [
              0.4444444444444444,
              "#26828e"
             ],
             [
              0.5555555555555556,
              "#1f9e89"
             ],
             [
              0.6666666666666666,
              "#35b779"
             ],
             [
              0.7777777777777778,
              "#6ece58"
             ],
             [
              0.8888888888888888,
              "#b5de2b"
             ],
             [
              1,
              "#fde725"
             ]
            ],
            "type": "surface"
           }
          ],
          "table": [
           {
            "cells": {
             "fill": {
              "color": "rgb(237,237,237)"
             },
             "line": {
              "color": "white"
             }
            },
            "header": {
             "fill": {
              "color": "rgb(217,217,217)"
             },
             "line": {
              "color": "white"
             }
            },
            "type": "table"
           }
          ]
         },
         "layout": {
          "annotationdefaults": {
           "arrowhead": 0,
           "arrowwidth": 1
          },
          "autotypenumbers": "strict",
          "coloraxis": {
           "colorbar": {
            "outlinewidth": 1,
            "tickcolor": "rgb(36,36,36)",
            "ticks": "outside"
           }
          },
          "colorscale": {
           "diverging": [
            [
             0,
             "rgb(103,0,31)"
            ],
            [
             0.1,
             "rgb(178,24,43)"
            ],
            [
             0.2,
             "rgb(214,96,77)"
            ],
            [
             0.3,
             "rgb(244,165,130)"
            ],
            [
             0.4,
             "rgb(253,219,199)"
            ],
            [
             0.5,
             "rgb(247,247,247)"
            ],
            [
             0.6,
             "rgb(209,229,240)"
            ],
            [
             0.7,
             "rgb(146,197,222)"
            ],
            [
             0.8,
             "rgb(67,147,195)"
            ],
            [
             0.9,
             "rgb(33,102,172)"
            ],
            [
             1,
             "rgb(5,48,97)"
            ]
           ],
           "sequential": [
            [
             0,
             "#440154"
            ],
            [
             0.1111111111111111,
             "#482878"
            ],
            [
             0.2222222222222222,
             "#3e4989"
            ],
            [
             0.3333333333333333,
             "#31688e"
            ],
            [
             0.4444444444444444,
             "#26828e"
            ],
            [
             0.5555555555555556,
             "#1f9e89"
            ],
            [
             0.6666666666666666,
             "#35b779"
            ],
            [
             0.7777777777777778,
             "#6ece58"
            ],
            [
             0.8888888888888888,
             "#b5de2b"
            ],
            [
             1,
             "#fde725"
            ]
           ],
           "sequentialminus": [
            [
             0,
             "#440154"
            ],
            [
             0.1111111111111111,
             "#482878"
            ],
            [
             0.2222222222222222,
             "#3e4989"
            ],
            [
             0.3333333333333333,
             "#31688e"
            ],
            [
             0.4444444444444444,
             "#26828e"
            ],
            [
             0.5555555555555556,
             "#1f9e89"
            ],
            [
             0.6666666666666666,
             "#35b779"
            ],
            [
             0.7777777777777778,
             "#6ece58"
            ],
            [
             0.8888888888888888,
             "#b5de2b"
            ],
            [
             1,
             "#fde725"
            ]
           ]
          },
          "colorway": [
           "#91268F",
           "#8CC63E",
           "#00A7A0",
           "#F05A28",
           "#4C4C4C",
           "#630460",
           "#9f3913",
           "#588527",
           "#00716c",
           "#3e4040"
          ],
          "font": {
           "color": "rgb(36,36,36)",
           "family": "Poppins",
           "size": 11
          },
          "geo": {
           "bgcolor": "white",
           "lakecolor": "white",
           "landcolor": "white",
           "showlakes": true,
           "showland": true,
           "subunitcolor": "white"
          },
          "hoverlabel": {
           "align": "left"
          },
          "hovermode": "closest",
          "mapbox": {
           "style": "light"
          },
          "paper_bgcolor": "white",
          "plot_bgcolor": "white",
          "polar": {
           "angularaxis": {
            "gridcolor": "rgb(232,232,232)",
            "linecolor": "rgb(36,36,36)",
            "showgrid": false,
            "showline": true,
            "ticks": "outside"
           },
           "bgcolor": "white",
           "radialaxis": {
            "gridcolor": "rgb(232,232,232)",
            "linecolor": "rgb(36,36,36)",
            "showgrid": false,
            "showline": true,
            "ticks": "outside"
           }
          },
          "scene": {
           "xaxis": {
            "backgroundcolor": "white",
            "gridcolor": "rgb(232,232,232)",
            "gridwidth": 2,
            "linecolor": "rgb(36,36,36)",
            "showbackground": true,
            "showgrid": false,
            "showline": true,
            "ticks": "outside",
            "zeroline": false,
            "zerolinecolor": "rgb(36,36,36)"
           },
           "yaxis": {
            "backgroundcolor": "white",
            "gridcolor": "rgb(232,232,232)",
            "gridwidth": 2,
            "linecolor": "rgb(36,36,36)",
            "showbackground": true,
            "showgrid": false,
            "showline": true,
            "ticks": "outside",
            "zeroline": false,
            "zerolinecolor": "rgb(36,36,36)"
           },
           "zaxis": {
            "backgroundcolor": "white",
            "gridcolor": "rgb(232,232,232)",
            "gridwidth": 2,
            "linecolor": "rgb(36,36,36)",
            "showbackground": true,
            "showgrid": false,
            "showline": true,
            "ticks": "outside",
            "zeroline": false,
            "zerolinecolor": "rgb(36,36,36)"
           }
          },
          "shapedefaults": {
           "fillcolor": "black",
           "line": {
            "width": 0
           },
           "opacity": 0.3
          },
          "ternary": {
           "aaxis": {
            "gridcolor": "rgb(232,232,232)",
            "linecolor": "rgb(36,36,36)",
            "showgrid": false,
            "showline": true,
            "ticks": "outside"
           },
           "baxis": {
            "gridcolor": "rgb(232,232,232)",
            "linecolor": "rgb(36,36,36)",
            "showgrid": false,
            "showline": true,
            "ticks": "outside"
           },
           "bgcolor": "white",
           "caxis": {
            "gridcolor": "rgb(232,232,232)",
            "linecolor": "rgb(36,36,36)",
            "showgrid": false,
            "showline": true,
            "ticks": "outside"
           }
          },
          "title": {
           "x": 0.05
          },
          "xaxis": {
           "automargin": true,
           "gridcolor": "rgb(232,232,232)",
           "linecolor": "rgb(36,36,36)",
           "showgrid": false,
           "showline": true,
           "ticks": "outside",
           "title": {
            "standoff": 15
           },
           "zeroline": false,
           "zerolinecolor": "rgb(36,36,36)"
          },
          "yaxis": {
           "automargin": true,
           "gridcolor": "rgb(232,232,232)",
           "linecolor": "rgb(36,36,36)",
           "showgrid": false,
           "showline": true,
           "ticks": "outside",
           "title": {
            "standoff": 15
           },
           "zeroline": false,
           "zerolinecolor": "rgb(36,36,36)"
          }
         }
        },
        "title": {
         "text": "Heavy Trucks: Kitsap"
        },
        "width": 800,
        "xaxis": {
         "anchor": "y",
         "domain": [
          0,
          1
         ],
         "title": {
          "text": "Observed"
         }
        },
        "yaxis": {
         "anchor": "x",
         "domain": [
          0,
          1
         ],
         "title": {
          "text": "Model"
         }
        }
       }
      },
      "text/html": [
       "<div>                            <div id=\"367f6a4a-cceb-4bce-8da4-eafa76d1c0de\" class=\"plotly-graph-div\" style=\"height:600px; width:800px;\"></div>            <script type=\"text/javascript\">                require([\"plotly\"], function(Plotly) {                    window.PLOTLYENV=window.PLOTLYENV || {};                                    if (document.getElementById(\"367f6a4a-cceb-4bce-8da4-eafa76d1c0de\")) {                    Plotly.newPlot(                        \"367f6a4a-cceb-4bce-8da4-eafa76d1c0de\",                        [{\"customdata\":[[\"SR-16  N\\u002fO SR-302 NB\\u002fSB\",\"Kitsap\"],[\"SR-16 N\\u002fO SR-160 NB\\u002fSB\",\"Kitsap\"],[\"SR-16 N\\u002fO Tremont NB\\u002fSB\",\"Kitsap\"],[\"SR-16 S\\u002fO SR-3 NB\",\"Kitsap\"],[\"SR-104 @ Hood Canal Bridge WB\\u002fEB\",\"Kitsap\"],[\"SR-104 E\\u002fO Hood Canal Bridge WB\\u002fEB\",\"Kitsap\"],[\"SR-104 N\\u002fO Pt Gamble Rd WB\\u002fEB\",\"Kitsap\"],[\"SR-104 E\\u002fO SR-307 WB\\u002fEB\",\"Kitsap\"],[\"SR-104 E\\u002fO Hansville WB\\u002fEB\",\"Kitsap\"],[\"SR-160 @ SR-16 WB\\u002fEB\",\"Kitsap\"],[\"SR-160 E\\u002fO Long Lake Rd WB\\u002fEB\",\"Kitsap\"],[\"SR-160 W\\u002fO Banner WB\\u002fEB\",\"Kitsap\"],[\"SR-160 E\\u002fO Peterson WB\\u002fEB\",\"Kitsap\"],[\"SR-160 S\\u002fO Southworth Dr WB\\u002fEB\",\"Kitsap\"],[\"SR-166 E\\u002fO SR-16 WB\\u002fEB\",\"Kitsap\"],[\"SR-3 E\\u002fO Sunset Way NB\\u002fSB\",\"Kitsap\"],[\"SR-3 N\\u002fO SR-305 NB\\u002fSB\",\"Kitsap\"],[\"SR-3 S\\u002fO Newberry Hill Rd NB\\u002fSB\",\"Kitsap\"],[\"SR-3 @ SR-304 NB\\u002fSB\",\"Kitsap\"],[\"SR-3 NE of SR-16 NB\\u002fSB\",\"Kitsap\"],[\"SR-3 W\\u002fO Lake Flora Rd NB\\u002fSB\",\"Kitsap\"],[\"SR-303 E\\u002fO SR-3 NB\\u002fSB\",\"Kitsap\"],[\"SR-303 N\\u002fO 11th St NB\\u002fSB\",\"Kitsap\"],[\"SR-303 N\\u002fO SR-304 NB\\u002fSB\",\"Kitsap\"],[\"SR-304 E\\u002fO SR-3 WB\\u002fEB\",\"Kitsap\"],[\"SR-304 W\\u002fO Naval WB\\u002fEB\",\"Kitsap\"],[\"SR-305 W\\u002fO SR-307 WB\\u002fEB\",\"Kitsap\"],[\"SR-305 W\\u002fO Suquamish Way WB\\u002fEB\",\"Kitsap\"],[\"SR-305 N\\u002fO Day Rd WB\\u002fEB\",\"Kitsap\"],[\"SR-305 N\\u002fO High School Rd WB\\u002fEB\",\"Kitsap\"],[\"SR-305 S\\u002fO Winslow Way WB\\u002fEB\",\"Kitsap\"],[\"SR-305 @ Ferry Ramp WB\\u002fEB\",\"Kitsap\"],[\"SR-307 W\\u002fO SR-104 NB\\u002fSB\",\"Kitsap\"],[\"SR-307 N\\u002fO Gunderson NB\\u002fSB\",\"Kitsap\"],[\"SR-307 S\\u002fO Gunderson NB\\u002fSB\",\"Kitsap\"],[\"SR-307 N\\u002fO SR-305 NB\\u002fSB\",\"Kitsap\"],[\"SR-308 @ SR-3 WB\\u002fEB\",\"Kitsap\"],[\"SR-308 E\\u002fO SR-3 WB\\u002fEB\",\"Kitsap\"],[\"SR-308 E\\u002fO Silverdale Way WB\\u002fEB\",\"Kitsap\"],[\"SR-308 W\\u002fO Brownsville Hwy WB\\u002fEB\",\"Kitsap\"],[\"SR-310 @ SR-3 WB\\u002fEB\",\"Kitsap\"],[\"SR-310 W\\u002fO Callow WB\\u002fEB\",\"Kitsap\"]],\"hovertemplate\":\"Observed=%{x}\\u003cbr\\u003eModel=%{y}\\u003cbr\\u003elocation=%{customdata[0]}\\u003cbr\\u003eCounty=%{customdata[1]}\\u003cextra\\u003e\\u003c\\u002fextra\\u003e\",\"legendgroup\":\"\",\"marker\":{\"color\":\"#91268F\",\"symbol\":\"circle\"},\"mode\":\"markers\",\"name\":\"\",\"orientation\":\"v\",\"showlegend\":false,\"x\":[1558,1210,1364,1155,612,75,70,144,84,114,34,30,19,12,140,1020,1012,1159,988,1360,288,180,216,98,210,126,266,420,420,234,11,9,196,168,126,120,39,36,66,22,138,26],\"xaxis\":\"x\",\"y\":[3839,3204,3166,1580,956,2,2,153,115,199,18,18,21,21,2,954,1169,2452,2898,3176,9,22,168,50,277,149,478,149,127,98,0,0,153,153,154,258,56,109,38,0,9,0],\"yaxis\":\"y\",\"type\":\"scatter\",\"line\":{\"color\":\"Grey\",\"width\":2}},{\"hovertemplate\":\"Observed=%{x}\\u003cbr\\u003eModel=%{y}\\u003cextra\\u003e\\u003c\\u002fextra\\u003e\",\"legendgroup\":\"\",\"line\":{\"color\":\"Grey\",\"dash\":\"solid\",\"width\":2},\"marker\":{\"symbol\":\"circle\"},\"mode\":\"lines\",\"name\":\"\",\"orientation\":\"v\",\"showlegend\":false,\"x\":[0.0,15.737373737373737,31.474747474747474,47.21212121212121,62.94949494949495,78.68686868686868,94.42424242424242,110.16161616161617,125.8989898989899,141.63636363636363,157.37373737373736,173.11111111111111,188.84848484848484,204.58585858585857,220.32323232323233,236.06060606060606,251.7979797979798,267.5353535353535,283.27272727272725,299.010101010101,314.7474747474747,330.4848484848485,346.22222222222223,361.95959595959596,377.6969696969697,393.4343434343434,409.17171717171715,424.9090909090909,440.64646464646466,456.3838383838384,472.1212121212121,487.85858585858585,503.5959595959596,519.3333333333334,535.070707070707,550.8080808080808,566.5454545454545,582.2828282828283,598.020202020202,613.7575757575758,629.4949494949494,645.2323232323232,660.969696969697,676.7070707070707,692.4444444444445,708.1818181818181,723.9191919191919,739.6565656565656,755.3939393939394,771.1313131313132,786.8686868686868,802.6060606060606,818.3434343434343,834.0808080808081,849.8181818181818,865.5555555555555,881.2929292929293,897.030303030303,912.7676767676768,928.5050505050505,944.2424242424242,959.9797979797979,975.7171717171717,991.4545454545454,1007.1919191919192,1022.929292929293,1038.6666666666667,1054.4040404040404,1070.141414141414,1085.8787878787878,1101.6161616161617,1117.3535353535353,1133.090909090909,1148.828282828283,1164.5656565656566,1180.3030303030303,1196.040404040404,1211.7777777777778,1227.5151515151515,1243.2525252525252,1258.9898989898988,1274.7272727272727,1290.4646464646464,1306.20202020202,1321.939393939394,1337.6767676767677,1353.4141414141413,1369.151515151515,1384.888888888889,1400.6262626262626,1416.3636363636363,1432.1010101010102,1447.8383838383838,1463.5757575757575,1479.3131313131312,1495.050505050505,1510.7878787878788,1526.5252525252524,1542.2626262626263,1558.0],\"xaxis\":\"x\",\"y\":[-192.33421116414547,-157.49471025344164,-122.65520934273779,-87.81570843203394,-52.97620752133011,-18.136706610626277,16.702794300077585,51.54229521078145,86.38179612148525,121.22129703218911,156.06079794289292,190.90029885359684,225.73979976430064,260.5793006750045,295.41880158570837,330.25830249641217,365.097803407116,399.9373043178199,434.7768052285237,469.6163061392275,504.4558070499313,539.2953079606353,574.1348088713391,608.974309782043,643.8138106927468,678.6533116034506,713.4928125141545,748.3323134248583,783.1718143355622,818.011315246266,852.8508161569698,887.6903170676737,922.5298179783774,957.3693188890816,992.2088197997853,1027.0483207104892,1061.8878216211929,1096.7273225318968,1131.5668234426005,1166.4063243533044,1201.245825264008,1236.085326174712,1270.9248270854162,1305.7643279961198,1340.6038289068238,1375.4433298175275,1410.2828307282314,1445.122331638935,1479.961832549639,1514.801333460343,1549.6408343710466,1584.4803352817507,1619.3198361924544,1654.1593371031584,1688.998838013862,1723.838338924566,1758.6778398352699,1793.5173407459736,1828.3568416566775,1863.1963425673812,1898.035843478085,1932.875344388789,1967.714845299493,2002.5543462101964,2037.3938471209003,2072.2333480316047,2107.0728489423086,2141.912349853012,2176.751850763716,2211.5913516744195,2246.430852585124,2281.2703534958273,2316.109854406531,2350.9493553172356,2385.788856227939,2420.628357138643,2455.4678580493464,2490.307358960051,2525.1468598707543,2559.986360781458,2594.8258616921617,2629.665362602866,2664.5048635135695,2699.3443644242734,2734.183865334978,2769.0233662456812,2803.862867156385,2838.7023680670886,2873.541868977793,2908.3813698884965,2943.2208707992004,2978.0603717099043,3012.899872620608,3047.739373531312,3082.5788744420156,3117.41837535272,3152.2578762634234,3187.0973771741274,3221.9368780848313,3256.776378995535],\"yaxis\":\"y\",\"type\":\"scatter\"}],                        {\"template\":{\"data\":{\"barpolar\":[{\"marker\":{\"line\":{\"color\":\"white\",\"width\":0.5},\"pattern\":{\"fillmode\":\"overlay\",\"size\":10,\"solidity\":0.2}},\"type\":\"barpolar\"}],\"bar\":[{\"error_x\":{\"color\":\"rgb(36,36,36)\"},\"error_y\":{\"color\":\"rgb(36,36,36)\"},\"marker\":{\"line\":{\"color\":\"white\",\"width\":0.5},\"pattern\":{\"fillmode\":\"overlay\",\"size\":10,\"solidity\":0.2}},\"type\":\"bar\"}],\"carpet\":[{\"aaxis\":{\"endlinecolor\":\"rgb(36,36,36)\",\"gridcolor\":\"white\",\"linecolor\":\"white\",\"minorgridcolor\":\"white\",\"startlinecolor\":\"rgb(36,36,36)\"},\"baxis\":{\"endlinecolor\":\"rgb(36,36,36)\",\"gridcolor\":\"white\",\"linecolor\":\"white\",\"minorgridcolor\":\"white\",\"startlinecolor\":\"rgb(36,36,36)\"},\"type\":\"carpet\"}],\"choropleth\":[{\"colorbar\":{\"outlinewidth\":1,\"tickcolor\":\"rgb(36,36,36)\",\"ticks\":\"outside\"},\"type\":\"choropleth\"}],\"contourcarpet\":[{\"colorbar\":{\"outlinewidth\":1,\"tickcolor\":\"rgb(36,36,36)\",\"ticks\":\"outside\"},\"type\":\"contourcarpet\"}],\"contour\":[{\"colorbar\":{\"outlinewidth\":1,\"tickcolor\":\"rgb(36,36,36)\",\"ticks\":\"outside\"},\"colorscale\":[[0.0,\"#440154\"],[0.1111111111111111,\"#482878\"],[0.2222222222222222,\"#3e4989\"],[0.3333333333333333,\"#31688e\"],[0.4444444444444444,\"#26828e\"],[0.5555555555555556,\"#1f9e89\"],[0.6666666666666666,\"#35b779\"],[0.7777777777777778,\"#6ece58\"],[0.8888888888888888,\"#b5de2b\"],[1.0,\"#fde725\"]],\"type\":\"contour\"}],\"heatmapgl\":[{\"colorbar\":{\"outlinewidth\":1,\"tickcolor\":\"rgb(36,36,36)\",\"ticks\":\"outside\"},\"colorscale\":[[0.0,\"#440154\"],[0.1111111111111111,\"#482878\"],[0.2222222222222222,\"#3e4989\"],[0.3333333333333333,\"#31688e\"],[0.4444444444444444,\"#26828e\"],[0.5555555555555556,\"#1f9e89\"],[0.6666666666666666,\"#35b779\"],[0.7777777777777778,\"#6ece58\"],[0.8888888888888888,\"#b5de2b\"],[1.0,\"#fde725\"]],\"type\":\"heatmapgl\"}],\"heatmap\":[{\"colorbar\":{\"outlinewidth\":1,\"tickcolor\":\"rgb(36,36,36)\",\"ticks\":\"outside\"},\"colorscale\":[[0.0,\"#440154\"],[0.1111111111111111,\"#482878\"],[0.2222222222222222,\"#3e4989\"],[0.3333333333333333,\"#31688e\"],[0.4444444444444444,\"#26828e\"],[0.5555555555555556,\"#1f9e89\"],[0.6666666666666666,\"#35b779\"],[0.7777777777777778,\"#6ece58\"],[0.8888888888888888,\"#b5de2b\"],[1.0,\"#fde725\"]],\"type\":\"heatmap\"}],\"histogram2dcontour\":[{\"colorbar\":{\"outlinewidth\":1,\"tickcolor\":\"rgb(36,36,36)\",\"ticks\":\"outside\"},\"colorscale\":[[0.0,\"#440154\"],[0.1111111111111111,\"#482878\"],[0.2222222222222222,\"#3e4989\"],[0.3333333333333333,\"#31688e\"],[0.4444444444444444,\"#26828e\"],[0.5555555555555556,\"#1f9e89\"],[0.6666666666666666,\"#35b779\"],[0.7777777777777778,\"#6ece58\"],[0.8888888888888888,\"#b5de2b\"],[1.0,\"#fde725\"]],\"type\":\"histogram2dcontour\"}],\"histogram2d\":[{\"colorbar\":{\"outlinewidth\":1,\"tickcolor\":\"rgb(36,36,36)\",\"ticks\":\"outside\"},\"colorscale\":[[0.0,\"#440154\"],[0.1111111111111111,\"#482878\"],[0.2222222222222222,\"#3e4989\"],[0.3333333333333333,\"#31688e\"],[0.4444444444444444,\"#26828e\"],[0.5555555555555556,\"#1f9e89\"],[0.6666666666666666,\"#35b779\"],[0.7777777777777778,\"#6ece58\"],[0.8888888888888888,\"#b5de2b\"],[1.0,\"#fde725\"]],\"type\":\"histogram2d\"}],\"histogram\":[{\"marker\":{\"line\":{\"color\":\"white\",\"width\":0.6}},\"type\":\"histogram\"}],\"mesh3d\":[{\"colorbar\":{\"outlinewidth\":1,\"tickcolor\":\"rgb(36,36,36)\",\"ticks\":\"outside\"},\"type\":\"mesh3d\"}],\"parcoords\":[{\"line\":{\"colorbar\":{\"outlinewidth\":1,\"tickcolor\":\"rgb(36,36,36)\",\"ticks\":\"outside\"}},\"type\":\"parcoords\"}],\"pie\":[{\"automargin\":true,\"type\":\"pie\"}],\"scatter3d\":[{\"line\":{\"colorbar\":{\"outlinewidth\":1,\"tickcolor\":\"rgb(36,36,36)\",\"ticks\":\"outside\"}},\"marker\":{\"colorbar\":{\"outlinewidth\":1,\"tickcolor\":\"rgb(36,36,36)\",\"ticks\":\"outside\"}},\"type\":\"scatter3d\"}],\"scattercarpet\":[{\"marker\":{\"colorbar\":{\"outlinewidth\":1,\"tickcolor\":\"rgb(36,36,36)\",\"ticks\":\"outside\"}},\"type\":\"scattercarpet\"}],\"scattergeo\":[{\"marker\":{\"colorbar\":{\"outlinewidth\":1,\"tickcolor\":\"rgb(36,36,36)\",\"ticks\":\"outside\"}},\"type\":\"scattergeo\"}],\"scattergl\":[{\"marker\":{\"colorbar\":{\"outlinewidth\":1,\"tickcolor\":\"rgb(36,36,36)\",\"ticks\":\"outside\"}},\"type\":\"scattergl\"}],\"scattermapbox\":[{\"marker\":{\"colorbar\":{\"outlinewidth\":1,\"tickcolor\":\"rgb(36,36,36)\",\"ticks\":\"outside\"}},\"type\":\"scattermapbox\"}],\"scatterpolargl\":[{\"marker\":{\"colorbar\":{\"outlinewidth\":1,\"tickcolor\":\"rgb(36,36,36)\",\"ticks\":\"outside\"}},\"type\":\"scatterpolargl\"}],\"scatterpolar\":[{\"marker\":{\"colorbar\":{\"outlinewidth\":1,\"tickcolor\":\"rgb(36,36,36)\",\"ticks\":\"outside\"}},\"type\":\"scatterpolar\"}],\"scatter\":[{\"fillpattern\":{\"fillmode\":\"overlay\",\"size\":10,\"solidity\":0.2},\"type\":\"scatter\"}],\"scatterternary\":[{\"marker\":{\"colorbar\":{\"outlinewidth\":1,\"tickcolor\":\"rgb(36,36,36)\",\"ticks\":\"outside\"}},\"type\":\"scatterternary\"}],\"surface\":[{\"colorbar\":{\"outlinewidth\":1,\"tickcolor\":\"rgb(36,36,36)\",\"ticks\":\"outside\"},\"colorscale\":[[0.0,\"#440154\"],[0.1111111111111111,\"#482878\"],[0.2222222222222222,\"#3e4989\"],[0.3333333333333333,\"#31688e\"],[0.4444444444444444,\"#26828e\"],[0.5555555555555556,\"#1f9e89\"],[0.6666666666666666,\"#35b779\"],[0.7777777777777778,\"#6ece58\"],[0.8888888888888888,\"#b5de2b\"],[1.0,\"#fde725\"]],\"type\":\"surface\"}],\"table\":[{\"cells\":{\"fill\":{\"color\":\"rgb(237,237,237)\"},\"line\":{\"color\":\"white\"}},\"header\":{\"fill\":{\"color\":\"rgb(217,217,217)\"},\"line\":{\"color\":\"white\"}},\"type\":\"table\"}]},\"layout\":{\"annotationdefaults\":{\"arrowhead\":0,\"arrowwidth\":1},\"autotypenumbers\":\"strict\",\"coloraxis\":{\"colorbar\":{\"outlinewidth\":1,\"tickcolor\":\"rgb(36,36,36)\",\"ticks\":\"outside\"}},\"colorscale\":{\"diverging\":[[0.0,\"rgb(103,0,31)\"],[0.1,\"rgb(178,24,43)\"],[0.2,\"rgb(214,96,77)\"],[0.3,\"rgb(244,165,130)\"],[0.4,\"rgb(253,219,199)\"],[0.5,\"rgb(247,247,247)\"],[0.6,\"rgb(209,229,240)\"],[0.7,\"rgb(146,197,222)\"],[0.8,\"rgb(67,147,195)\"],[0.9,\"rgb(33,102,172)\"],[1.0,\"rgb(5,48,97)\"]],\"sequential\":[[0.0,\"#440154\"],[0.1111111111111111,\"#482878\"],[0.2222222222222222,\"#3e4989\"],[0.3333333333333333,\"#31688e\"],[0.4444444444444444,\"#26828e\"],[0.5555555555555556,\"#1f9e89\"],[0.6666666666666666,\"#35b779\"],[0.7777777777777778,\"#6ece58\"],[0.8888888888888888,\"#b5de2b\"],[1.0,\"#fde725\"]],\"sequentialminus\":[[0.0,\"#440154\"],[0.1111111111111111,\"#482878\"],[0.2222222222222222,\"#3e4989\"],[0.3333333333333333,\"#31688e\"],[0.4444444444444444,\"#26828e\"],[0.5555555555555556,\"#1f9e89\"],[0.6666666666666666,\"#35b779\"],[0.7777777777777778,\"#6ece58\"],[0.8888888888888888,\"#b5de2b\"],[1.0,\"#fde725\"]]},\"colorway\":[\"#91268F\",\"#8CC63E\",\"#00A7A0\",\"#F05A28\",\"#4C4C4C\",\"#630460\",\"#9f3913\",\"#588527\",\"#00716c\",\"#3e4040\"],\"font\":{\"color\":\"rgb(36,36,36)\",\"family\":\"Poppins\",\"size\":11},\"geo\":{\"bgcolor\":\"white\",\"lakecolor\":\"white\",\"landcolor\":\"white\",\"showlakes\":true,\"showland\":true,\"subunitcolor\":\"white\"},\"hoverlabel\":{\"align\":\"left\"},\"hovermode\":\"closest\",\"mapbox\":{\"style\":\"light\"},\"paper_bgcolor\":\"white\",\"plot_bgcolor\":\"white\",\"polar\":{\"angularaxis\":{\"gridcolor\":\"rgb(232,232,232)\",\"linecolor\":\"rgb(36,36,36)\",\"showgrid\":false,\"showline\":true,\"ticks\":\"outside\"},\"bgcolor\":\"white\",\"radialaxis\":{\"gridcolor\":\"rgb(232,232,232)\",\"linecolor\":\"rgb(36,36,36)\",\"showgrid\":false,\"showline\":true,\"ticks\":\"outside\"}},\"scene\":{\"xaxis\":{\"backgroundcolor\":\"white\",\"gridcolor\":\"rgb(232,232,232)\",\"gridwidth\":2,\"linecolor\":\"rgb(36,36,36)\",\"showbackground\":true,\"showgrid\":false,\"showline\":true,\"ticks\":\"outside\",\"zeroline\":false,\"zerolinecolor\":\"rgb(36,36,36)\"},\"yaxis\":{\"backgroundcolor\":\"white\",\"gridcolor\":\"rgb(232,232,232)\",\"gridwidth\":2,\"linecolor\":\"rgb(36,36,36)\",\"showbackground\":true,\"showgrid\":false,\"showline\":true,\"ticks\":\"outside\",\"zeroline\":false,\"zerolinecolor\":\"rgb(36,36,36)\"},\"zaxis\":{\"backgroundcolor\":\"white\",\"gridcolor\":\"rgb(232,232,232)\",\"gridwidth\":2,\"linecolor\":\"rgb(36,36,36)\",\"showbackground\":true,\"showgrid\":false,\"showline\":true,\"ticks\":\"outside\",\"zeroline\":false,\"zerolinecolor\":\"rgb(36,36,36)\"}},\"shapedefaults\":{\"fillcolor\":\"black\",\"line\":{\"width\":0},\"opacity\":0.3},\"ternary\":{\"aaxis\":{\"gridcolor\":\"rgb(232,232,232)\",\"linecolor\":\"rgb(36,36,36)\",\"showgrid\":false,\"showline\":true,\"ticks\":\"outside\"},\"baxis\":{\"gridcolor\":\"rgb(232,232,232)\",\"linecolor\":\"rgb(36,36,36)\",\"showgrid\":false,\"showline\":true,\"ticks\":\"outside\"},\"bgcolor\":\"white\",\"caxis\":{\"gridcolor\":\"rgb(232,232,232)\",\"linecolor\":\"rgb(36,36,36)\",\"showgrid\":false,\"showline\":true,\"ticks\":\"outside\"}},\"title\":{\"x\":0.05},\"xaxis\":{\"automargin\":true,\"gridcolor\":\"rgb(232,232,232)\",\"linecolor\":\"rgb(36,36,36)\",\"showgrid\":false,\"showline\":true,\"ticks\":\"outside\",\"title\":{\"standoff\":15},\"zeroline\":false,\"zerolinecolor\":\"rgb(36,36,36)\"},\"yaxis\":{\"automargin\":true,\"gridcolor\":\"rgb(232,232,232)\",\"linecolor\":\"rgb(36,36,36)\",\"showgrid\":false,\"showline\":true,\"ticks\":\"outside\",\"title\":{\"standoff\":15},\"zeroline\":false,\"zerolinecolor\":\"rgb(36,36,36)\"}}},\"xaxis\":{\"anchor\":\"y\",\"domain\":[0.0,1.0],\"title\":{\"text\":\"Observed\"}},\"yaxis\":{\"anchor\":\"x\",\"domain\":[0.0,1.0],\"title\":{\"text\":\"Model\"}},\"legend\":{\"tracegroupgap\":0},\"title\":{\"text\":\"Heavy Trucks: Kitsap\"},\"margin\":{\"l\":100,\"r\":100,\"t\":100,\"b\":100},\"height\":600,\"width\":800,\"shapes\":[{\"line\":{\"color\":\"Red\",\"dash\":\"dash\",\"width\":2},\"type\":\"line\",\"x0\":0,\"x1\":3839,\"y0\":0,\"y1\":3839}],\"annotations\":[{\"align\":\"right\",\"font\":{\"color\":\"pink\",\"size\":12},\"showarrow\":false,\"text\":\"y = x\",\"x\":4030.9500000000003,\"y\":4030.9500000000003},{\"align\":\"right\",\"font\":{\"color\":\"black\",\"size\":12},\"showarrow\":false,\"text\":\"r^2 = 0.88\",\"x\":1635.9,\"y\":3419.615197945312}]},                        {\"responsive\": true}                    ).then(function(){\n",
       "                            \n",
       "var gd = document.getElementById('367f6a4a-cceb-4bce-8da4-eafa76d1c0de');\n",
       "var x = new MutationObserver(function (mutations, observer) {{\n",
       "        var display = window.getComputedStyle(gd).display;\n",
       "        if (!display || display === 'none') {{\n",
       "            console.log([gd, 'removed!']);\n",
       "            Plotly.purge(gd);\n",
       "            observer.disconnect();\n",
       "        }}\n",
       "}});\n",
       "\n",
       "// Listen for the removal of the full notebook cells\n",
       "var notebookContainer = gd.closest('#notebook-container');\n",
       "if (notebookContainer) {{\n",
       "    x.observe(notebookContainer, {childList: true});\n",
       "}}\n",
       "\n",
       "// Listen for the clearing of the current output cell\n",
       "var outputEl = gd.closest('.output');\n",
       "if (outputEl) {{\n",
       "    x.observe(outputEl, {childList: true});\n",
       "}}\n",
       "\n",
       "                        })                };                });            </script>        </div>"
      ]
     },
     "metadata": {},
     "output_type": "display_data"
    }
   ],
   "source": [
    "fig = create_truck_chart(df_daily_heavy, 'Heavy', 'Kitsap')\n",
    "fig.show()"
   ]
  },
  {
   "cell_type": "raw",
   "id": "f6c91eb1",
   "metadata": {
    "vscode": {
     "languageId": "raw"
    }
   },
   "source": [
    "#### Pierce"
   ]
  },
  {
   "cell_type": "code",
   "execution_count": 27,
   "id": "4661c354",
   "metadata": {},
   "outputs": [
    {
     "data": {
      "application/vnd.plotly.v1+json": {
       "config": {
        "plotlyServerURL": "https://plot.ly"
       },
       "data": [
        {
         "customdata": [
          [
           "I-5 S/O Mounts NB",
           "Pierce"
          ],
          [
           "I-5 S/O Mounts SB",
           "Pierce"
          ],
          [
           "I-5 S/O Division NB",
           "Pierce"
          ],
          [
           "I-5 S/O Division SB",
           "Pierce"
          ],
          [
           "I-5 @ N/O Division NB",
           "Pierce"
          ],
          [
           "I-5 @ N/O Division SB",
           "Pierce"
          ],
          [
           "I-5 S/O SR-512 NB",
           "Pierce"
          ],
          [
           "I-5 S/O SR-512 SB",
           "Pierce"
          ],
          [
           "I-5 N/O SR-512 NB",
           "Pierce"
          ],
          [
           "I-5 N/O SR-512 SB",
           "Pierce"
          ],
          [
           "I-5 N/O 56th NB",
           "Pierce"
          ],
          [
           "I-5 N/O 56th SB",
           "Pierce"
          ],
          [
           "I-5 E/O SR-16 NB",
           "Pierce"
          ],
          [
           "I-5 E/O SR-16 SB",
           "Pierce"
          ],
          [
           "I-5 E/O Port of Tacoma NB",
           "Pierce"
          ],
          [
           "I-5 E/O Port of Tacoma SB (HOV from 56)",
           "Pierce"
          ],
          [
           "SR-512 W/O Meridian WB",
           "Pierce"
          ],
          [
           "SR-512 W/O Meridian EB",
           "Pierce"
          ],
          [
           "SR-167 W/O SR-410 NB/SB",
           "Pierce"
          ],
          [
           "SR-167 E/O SR-161 NB/SB",
           "Pierce"
          ],
          [
           "SR-410 E/O S Prairie WB/EB",
           "Pierce"
          ],
          [
           "SR-410 E/O Chinook WB/EB",
           "Pierce"
          ],
          [
           "SR-410 W/O SR-123 WB/EB",
           "Pierce"
          ],
          [
           "SR-410 E/O SR-123 WB/EB",
           "Pierce"
          ],
          [
           "SR-512 @ I-5 WB/EB",
           "Pierce"
          ],
          [
           "SR-512 W/O SR-7 WB/EB",
           "Pierce"
          ],
          [
           "SR-512 S/O SR-167 WB/EB",
           "Pierce"
          ],
          [
           "SR-509 E/O I-705 NB/SB",
           "Pierce"
          ],
          [
           "SR-509 W/O Alexander NB/SB",
           "Pierce"
          ],
          [
           "SR-509 S/O 11th NB/SB",
           "Pierce"
          ],
          [
           "SR-509 N/O Hyada NB/SB",
           "Pierce"
          ],
          [
           "SR-509 E/O Soundview NB/SB",
           "Pierce"
          ],
          [
           "SR-99 @ I-5 NB/SB",
           "Pierce"
          ],
          [
           "SR-99 E/O 54th NB/SB",
           "Pierce"
          ],
          [
           "SR-99 S/O Porter NB/SB",
           "Pierce"
          ],
          [
           "SR-16 @ TNB NB/SB",
           "Pierce"
          ],
          [
           "SR-16 @ Purdy Dr NB/SB",
           "Pierce"
          ],
          [
           "SR-302 N/O 144th WB/EB",
           "Pierce"
          ],
          [
           "SR-302 S/O 144th WB/EB",
           "Pierce"
          ],
          [
           "SR-302 W/O Key Peninsula Hwy WB/EB",
           "Pierce"
          ],
          [
           "SR-302 W/O Wright-Bliss WB/EB (E/O?)",
           "Pierce"
          ],
          [
           "SR-161 E/O SR-7 NB/SB",
           "Pierce"
          ],
          [
           "SR-161 N/O Center NB/SB",
           "Pierce"
          ],
          [
           "SR-161 N/O Eatonville Cutoff NB/SB",
           "Pierce"
          ],
          [
           "SR-161 N/O 304th NB/SB",
           "Pierce"
          ],
          [
           "SR-161 N/O 264th NB/SB",
           "Pierce"
          ],
          [
           "SR-161 S/O 224th NB/SB",
           "Pierce"
          ],
          [
           "SR-161 N/O 224th NB/SB",
           "Pierce"
          ],
          [
           "SR-161 N/O 204th NB/SB",
           "Pierce"
          ],
          [
           "SR-161 S/O SR-167 SB off-ramp NB/SB",
           "Pierce"
          ],
          [
           "SR-161 S/O Valley NB/SB",
           "Pierce"
          ],
          [
           "SR-161 N/O Valley NB/SB",
           "Pierce"
          ],
          [
           "SR-161 N/O 8th NB/SB",
           "Pierce"
          ],
          [
           "SR-7 @ Thurston County NB/SB",
           "Pierce"
          ],
          [
           "SR-7 W/O Alder Cutoff NB/SB",
           "Pierce"
          ],
          [
           "SR-7 N/O Eatonville Hwy NB/SB",
           "Pierce"
          ],
          [
           "SR-7 N/O Silver Lake NB/SB",
           "Pierce"
          ],
          [
           "SR-7 S/O SR-702 NB/SB",
           "Pierce"
          ],
          [
           "SR-7 N/O 304th NB/SB",
           "Pierce"
          ],
          [
           "SR-7 N/O 260th NB/SB",
           "Pierce"
          ],
          [
           "SR-7 S/O 224th NB/SB",
           "Pierce"
          ],
          [
           "SR-7 N/O 224th NB/SB",
           "Pierce"
          ],
          [
           "SR-7 N/O 38th NB/SB",
           "Pierce"
          ],
          [
           "SR-162 @ SR-410 WB/EB",
           "Pierce"
          ],
          [
           "SR-162 S/O Pioneer WB/EB",
           "Pierce"
          ],
          [
           "SR-162 E/O Orville WB/EB",
           "Pierce"
          ],
          [
           "SR-162 E/O S Prairie WB/EB",
           "Pierce"
          ],
          [
           "SR-162 N/O SR-165 WB/EB",
           "Pierce"
          ],
          [
           "SR-163 @ SR-16 NB/SB",
           "Pierce"
          ],
          [
           "SR-163 N/O 37th NB/SB",
           "Pierce"
          ],
          [
           "SR-163 N/O Park NB/SB",
           "Pierce"
          ],
          [
           "SR-507 S/O SR-7 NB/SB",
           "Pierce"
          ],
          [
           "SR-507 S/O E Gate NB/SB",
           "Pierce"
          ],
          [
           "SR-507 S/O 288th NB/SB",
           "Pierce"
          ],
          [
           "SR-507 N/O 346th NB/SB",
           "Pierce"
          ],
          [
           "SR-702 E/O SR-507 WB/EB",
           "Pierce"
          ],
          [
           "SR-702 E/O Harts Lake WB/EB",
           "Pierce"
          ],
          [
           "SR-702 E/O 40th WB/EB",
           "Pierce"
          ],
          [
           "SR-702 W/O 8th WB/EB",
           "Pierce"
          ],
          [
           "SR-702 E/O 8th WB/EB",
           "Pierce"
          ],
          [
           "SR-165 W/O SR-162 NB/SB",
           "Pierce"
          ],
          [
           "SR-165 N/O Davis NB/SB",
           "Pierce"
          ],
          [
           "SR-165 N/O Wilkeson-Carbonado NB/SB",
           "Pierce"
          ],
          [
           "SR-704 E/O Spanaway Loop WB/EB",
           "Pierce"
          ],
          [
           "SR-706 E/O SR-7 WB/EB",
           "Pierce"
          ],
          [
           "SR-706 E/O Kernahan WB/EB",
           "Pierce"
          ]
         ],
         "hovertemplate": "Observed=%{x}<br>Model=%{y}<br>location=%{customdata[0]}<br>County=%{customdata[1]}<extra></extra>",
         "legendgroup": "",
         "line": {
          "color": "Grey",
          "width": 2
         },
         "marker": {
          "color": "#91268F",
          "symbol": "circle"
         },
         "mode": "markers",
         "name": "",
         "orientation": "v",
         "showlegend": false,
         "type": "scatter",
         "x": [
          5573,
          5542,
          5922,
          6132,
          4944,
          4825,
          5532,
          5301,
          5029,
          5099,
          5967,
          6014,
          2704,
          5893,
          3834,
          4831,
          2397,
          2397,
          7266,
          3486,
          614,
          21,
          17,
          14,
          3402,
          3992,
          4756,
          962,
          2112,
          103,
          11,
          14,
          1392,
          2775,
          1196,
          1762,
          1426,
          79,
          104,
          57,
          52,
          25,
          201,
          112,
          418,
          338,
          324,
          324,
          532,
          850,
          1739,
          180,
          175,
          142,
          110,
          67,
          90,
          98,
          400,
          377,
          432,
          374,
          168,
          420,
          1034,
          209,
          136,
          135,
          40,
          36,
          90,
          464,
          352,
          520,
          351,
          252,
          220,
          266,
          166,
          254,
          166,
          50,
          18,
          648,
          38,
          13
         ],
         "xaxis": "x",
         "y": [
          5574,
          5572,
          5831,
          5831,
          5809,
          5807,
          5677,
          5621,
          5355,
          5924,
          6043,
          6071,
          5447,
          8223,
          10261,
          10137,
          1319,
          1268,
          4397,
          1800,
          84,
          94,
          94,
          94,
          1323,
          1640,
          2945,
          820,
          1158,
          1903,
          0,
          0,
          1323,
          1026,
          894,
          4740,
          3830,
          27,
          21,
          252,
          237,
          0,
          41,
          41,
          90,
          90,
          111,
          137,
          174,
          714,
          1147,
          78,
          715,
          0,
          16,
          16,
          16,
          16,
          67,
          70,
          71,
          58,
          13,
          125,
          96,
          5,
          5,
          5,
          95,
          96,
          249,
          442,
          474,
          468,
          468,
          6,
          6,
          19,
          19,
          17,
          5,
          0,
          0,
          402,
          0,
          0
         ],
         "yaxis": "y"
        },
        {
         "hovertemplate": "Observed=%{x}<br>Model=%{y}<extra></extra>",
         "legendgroup": "",
         "line": {
          "color": "Grey",
          "dash": "solid",
          "width": 2
         },
         "marker": {
          "symbol": "circle"
         },
         "mode": "lines",
         "name": "",
         "orientation": "v",
         "showlegend": false,
         "type": "scatter",
         "x": [
          0,
          73.39393939393939,
          146.78787878787878,
          220.1818181818182,
          293.57575757575756,
          366.96969696969694,
          440.3636363636364,
          513.7575757575758,
          587.1515151515151,
          660.5454545454545,
          733.9393939393939,
          807.3333333333333,
          880.7272727272727,
          954.1212121212121,
          1027.5151515151515,
          1100.9090909090908,
          1174.3030303030303,
          1247.6969696969697,
          1321.090909090909,
          1394.4848484848485,
          1467.8787878787878,
          1541.2727272727273,
          1614.6666666666665,
          1688.060606060606,
          1761.4545454545455,
          1834.8484848484848,
          1908.2424242424242,
          1981.6363636363635,
          2055.030303030303,
          2128.4242424242425,
          2201.8181818181815,
          2275.212121212121,
          2348.6060606060605,
          2422,
          2495.3939393939395,
          2568.7878787878785,
          2642.181818181818,
          2715.5757575757575,
          2788.969696969697,
          2862.363636363636,
          2935.7575757575755,
          3009.151515151515,
          3082.5454545454545,
          3155.939393939394,
          3229.333333333333,
          3302.7272727272725,
          3376.121212121212,
          3449.5151515151515,
          3522.909090909091,
          3596.30303030303,
          3669.6969696969695,
          3743.090909090909,
          3816.4848484848485,
          3889.8787878787875,
          3963.272727272727,
          4036.6666666666665,
          4110.060606060606,
          4183.454545454545,
          4256.848484848485,
          4330.242424242424,
          4403.636363636363,
          4477.030303030303,
          4550.424242424242,
          4623.818181818182,
          4697.212121212121,
          4770.60606060606,
          4844,
          4917.393939393939,
          4990.787878787879,
          5064.181818181818,
          5137.575757575757,
          5210.969696969697,
          5284.363636363636,
          5357.757575757576,
          5431.151515151515,
          5504.545454545454,
          5577.939393939394,
          5651.333333333333,
          5724.727272727272,
          5798.121212121212,
          5871.515151515151,
          5944.909090909091,
          6018.30303030303,
          6091.696969696969,
          6165.090909090909,
          6238.484848484848,
          6311.878787878788,
          6385.272727272727,
          6458.666666666666,
          6532.060606060606,
          6605.454545454545,
          6678.848484848485,
          6752.242424242424,
          6825.636363636363,
          6899.030303030303,
          6972.424242424242,
          7045.818181818182,
          7119.212121212121,
          7192.60606060606,
          7266
         ],
         "xaxis": "x",
         "y": [
          -37.00379228914676,
          40.37570243903636,
          117.75519716721948,
          195.1346918954026,
          272.5141866235857,
          349.8936813517688,
          427.27317607995195,
          504.6526708081351,
          582.0321655363182,
          659.4116602645013,
          736.7911549926844,
          814.1706497208675,
          891.5501444490507,
          968.9296391772339,
          1046.309133905417,
          1123.6886286335998,
          1201.0681233617831,
          1278.4476180899665,
          1355.8271128181493,
          1433.2066075463326,
          1510.5861022745155,
          1587.9655970026988,
          1665.3450917308817,
          1742.724586459065,
          1820.104081187248,
          1897.4835759154312,
          1974.8630706436145,
          2052.2425653717974,
          2129.6220600999804,
          2207.0015548281635,
          2284.3810495563466,
          2361.7605442845297,
          2439.140039012713,
          2516.519533740896,
          2593.89902846908,
          2671.278523197262,
          2748.658017925445,
          2826.0375126536283,
          2903.4170073818123,
          2980.7965021099944,
          3058.1759968381775,
          3135.5554915663606,
          3212.9349862945446,
          3290.3144810227277,
          3367.69397575091,
          3445.073470479094,
          3522.452965207277,
          3599.83245993546,
          3677.211954663643,
          3754.5914493918262,
          3831.9709441200093,
          3909.3504388481924,
          3986.7299335763755,
          4064.1094283045577,
          4141.488923032742,
          4218.868417760925,
          4296.247912489108,
          4373.62740721729,
          4451.006901945474,
          4528.386396673657,
          4605.765891401839,
          4683.145386130023,
          4760.524880858206,
          4837.9043755863895,
          4915.283870314573,
          4992.663365042756,
          5070.042859770939,
          5147.422354499122,
          5224.801849227306,
          5302.181343955488,
          5379.560838683671,
          5456.940333411854,
          5534.319828140037,
          5611.699322868221,
          5689.0788175964035,
          5766.458312324587,
          5843.837807052771,
          5921.217301780953,
          5998.596796509136,
          6075.97629123732,
          6153.355785965502,
          6230.735280693686,
          6308.114775421868,
          6385.494270150051,
          6462.873764878235,
          6540.2532596064175,
          6617.6327543346015,
          6695.012249062785,
          6772.391743790967,
          6849.771238519151,
          6927.150733247334,
          7004.530227975517,
          7081.9097227037,
          7159.289217431883,
          7236.668712160066,
          7314.048206888249,
          7391.427701616432,
          7468.8071963446155,
          7546.186691072799,
          7623.566185800982
         ],
         "yaxis": "y"
        }
       ],
       "layout": {
        "annotations": [
         {
          "align": "right",
          "font": {
           "color": "pink",
           "size": 12
          },
          "showarrow": false,
          "text": "y = x",
          "x": 10774.050000000001,
          "y": 10774.050000000001
         },
         {
          "align": "right",
          "font": {
           "color": "black",
           "size": 12
          },
          "showarrow": false,
          "text": "r^2 = 0.76",
          "x": 7629.3,
          "y": 8004.744495091031
         }
        ],
        "height": 600,
        "legend": {
         "tracegroupgap": 0
        },
        "margin": {
         "b": 100,
         "l": 100,
         "r": 100,
         "t": 100
        },
        "shapes": [
         {
          "line": {
           "color": "Red",
           "dash": "dash",
           "width": 2
          },
          "type": "line",
          "x0": 0,
          "x1": 10261,
          "y0": 0,
          "y1": 10261
         }
        ],
        "template": {
         "data": {
          "bar": [
           {
            "error_x": {
             "color": "rgb(36,36,36)"
            },
            "error_y": {
             "color": "rgb(36,36,36)"
            },
            "marker": {
             "line": {
              "color": "white",
              "width": 0.5
             },
             "pattern": {
              "fillmode": "overlay",
              "size": 10,
              "solidity": 0.2
             }
            },
            "type": "bar"
           }
          ],
          "barpolar": [
           {
            "marker": {
             "line": {
              "color": "white",
              "width": 0.5
             },
             "pattern": {
              "fillmode": "overlay",
              "size": 10,
              "solidity": 0.2
             }
            },
            "type": "barpolar"
           }
          ],
          "carpet": [
           {
            "aaxis": {
             "endlinecolor": "rgb(36,36,36)",
             "gridcolor": "white",
             "linecolor": "white",
             "minorgridcolor": "white",
             "startlinecolor": "rgb(36,36,36)"
            },
            "baxis": {
             "endlinecolor": "rgb(36,36,36)",
             "gridcolor": "white",
             "linecolor": "white",
             "minorgridcolor": "white",
             "startlinecolor": "rgb(36,36,36)"
            },
            "type": "carpet"
           }
          ],
          "choropleth": [
           {
            "colorbar": {
             "outlinewidth": 1,
             "tickcolor": "rgb(36,36,36)",
             "ticks": "outside"
            },
            "type": "choropleth"
           }
          ],
          "contour": [
           {
            "colorbar": {
             "outlinewidth": 1,
             "tickcolor": "rgb(36,36,36)",
             "ticks": "outside"
            },
            "colorscale": [
             [
              0,
              "#440154"
             ],
             [
              0.1111111111111111,
              "#482878"
             ],
             [
              0.2222222222222222,
              "#3e4989"
             ],
             [
              0.3333333333333333,
              "#31688e"
             ],
             [
              0.4444444444444444,
              "#26828e"
             ],
             [
              0.5555555555555556,
              "#1f9e89"
             ],
             [
              0.6666666666666666,
              "#35b779"
             ],
             [
              0.7777777777777778,
              "#6ece58"
             ],
             [
              0.8888888888888888,
              "#b5de2b"
             ],
             [
              1,
              "#fde725"
             ]
            ],
            "type": "contour"
           }
          ],
          "contourcarpet": [
           {
            "colorbar": {
             "outlinewidth": 1,
             "tickcolor": "rgb(36,36,36)",
             "ticks": "outside"
            },
            "type": "contourcarpet"
           }
          ],
          "heatmap": [
           {
            "colorbar": {
             "outlinewidth": 1,
             "tickcolor": "rgb(36,36,36)",
             "ticks": "outside"
            },
            "colorscale": [
             [
              0,
              "#440154"
             ],
             [
              0.1111111111111111,
              "#482878"
             ],
             [
              0.2222222222222222,
              "#3e4989"
             ],
             [
              0.3333333333333333,
              "#31688e"
             ],
             [
              0.4444444444444444,
              "#26828e"
             ],
             [
              0.5555555555555556,
              "#1f9e89"
             ],
             [
              0.6666666666666666,
              "#35b779"
             ],
             [
              0.7777777777777778,
              "#6ece58"
             ],
             [
              0.8888888888888888,
              "#b5de2b"
             ],
             [
              1,
              "#fde725"
             ]
            ],
            "type": "heatmap"
           }
          ],
          "heatmapgl": [
           {
            "colorbar": {
             "outlinewidth": 1,
             "tickcolor": "rgb(36,36,36)",
             "ticks": "outside"
            },
            "colorscale": [
             [
              0,
              "#440154"
             ],
             [
              0.1111111111111111,
              "#482878"
             ],
             [
              0.2222222222222222,
              "#3e4989"
             ],
             [
              0.3333333333333333,
              "#31688e"
             ],
             [
              0.4444444444444444,
              "#26828e"
             ],
             [
              0.5555555555555556,
              "#1f9e89"
             ],
             [
              0.6666666666666666,
              "#35b779"
             ],
             [
              0.7777777777777778,
              "#6ece58"
             ],
             [
              0.8888888888888888,
              "#b5de2b"
             ],
             [
              1,
              "#fde725"
             ]
            ],
            "type": "heatmapgl"
           }
          ],
          "histogram": [
           {
            "marker": {
             "line": {
              "color": "white",
              "width": 0.6
             }
            },
            "type": "histogram"
           }
          ],
          "histogram2d": [
           {
            "colorbar": {
             "outlinewidth": 1,
             "tickcolor": "rgb(36,36,36)",
             "ticks": "outside"
            },
            "colorscale": [
             [
              0,
              "#440154"
             ],
             [
              0.1111111111111111,
              "#482878"
             ],
             [
              0.2222222222222222,
              "#3e4989"
             ],
             [
              0.3333333333333333,
              "#31688e"
             ],
             [
              0.4444444444444444,
              "#26828e"
             ],
             [
              0.5555555555555556,
              "#1f9e89"
             ],
             [
              0.6666666666666666,
              "#35b779"
             ],
             [
              0.7777777777777778,
              "#6ece58"
             ],
             [
              0.8888888888888888,
              "#b5de2b"
             ],
             [
              1,
              "#fde725"
             ]
            ],
            "type": "histogram2d"
           }
          ],
          "histogram2dcontour": [
           {
            "colorbar": {
             "outlinewidth": 1,
             "tickcolor": "rgb(36,36,36)",
             "ticks": "outside"
            },
            "colorscale": [
             [
              0,
              "#440154"
             ],
             [
              0.1111111111111111,
              "#482878"
             ],
             [
              0.2222222222222222,
              "#3e4989"
             ],
             [
              0.3333333333333333,
              "#31688e"
             ],
             [
              0.4444444444444444,
              "#26828e"
             ],
             [
              0.5555555555555556,
              "#1f9e89"
             ],
             [
              0.6666666666666666,
              "#35b779"
             ],
             [
              0.7777777777777778,
              "#6ece58"
             ],
             [
              0.8888888888888888,
              "#b5de2b"
             ],
             [
              1,
              "#fde725"
             ]
            ],
            "type": "histogram2dcontour"
           }
          ],
          "mesh3d": [
           {
            "colorbar": {
             "outlinewidth": 1,
             "tickcolor": "rgb(36,36,36)",
             "ticks": "outside"
            },
            "type": "mesh3d"
           }
          ],
          "parcoords": [
           {
            "line": {
             "colorbar": {
              "outlinewidth": 1,
              "tickcolor": "rgb(36,36,36)",
              "ticks": "outside"
             }
            },
            "type": "parcoords"
           }
          ],
          "pie": [
           {
            "automargin": true,
            "type": "pie"
           }
          ],
          "scatter": [
           {
            "fillpattern": {
             "fillmode": "overlay",
             "size": 10,
             "solidity": 0.2
            },
            "type": "scatter"
           }
          ],
          "scatter3d": [
           {
            "line": {
             "colorbar": {
              "outlinewidth": 1,
              "tickcolor": "rgb(36,36,36)",
              "ticks": "outside"
             }
            },
            "marker": {
             "colorbar": {
              "outlinewidth": 1,
              "tickcolor": "rgb(36,36,36)",
              "ticks": "outside"
             }
            },
            "type": "scatter3d"
           }
          ],
          "scattercarpet": [
           {
            "marker": {
             "colorbar": {
              "outlinewidth": 1,
              "tickcolor": "rgb(36,36,36)",
              "ticks": "outside"
             }
            },
            "type": "scattercarpet"
           }
          ],
          "scattergeo": [
           {
            "marker": {
             "colorbar": {
              "outlinewidth": 1,
              "tickcolor": "rgb(36,36,36)",
              "ticks": "outside"
             }
            },
            "type": "scattergeo"
           }
          ],
          "scattergl": [
           {
            "marker": {
             "colorbar": {
              "outlinewidth": 1,
              "tickcolor": "rgb(36,36,36)",
              "ticks": "outside"
             }
            },
            "type": "scattergl"
           }
          ],
          "scattermapbox": [
           {
            "marker": {
             "colorbar": {
              "outlinewidth": 1,
              "tickcolor": "rgb(36,36,36)",
              "ticks": "outside"
             }
            },
            "type": "scattermapbox"
           }
          ],
          "scatterpolar": [
           {
            "marker": {
             "colorbar": {
              "outlinewidth": 1,
              "tickcolor": "rgb(36,36,36)",
              "ticks": "outside"
             }
            },
            "type": "scatterpolar"
           }
          ],
          "scatterpolargl": [
           {
            "marker": {
             "colorbar": {
              "outlinewidth": 1,
              "tickcolor": "rgb(36,36,36)",
              "ticks": "outside"
             }
            },
            "type": "scatterpolargl"
           }
          ],
          "scatterternary": [
           {
            "marker": {
             "colorbar": {
              "outlinewidth": 1,
              "tickcolor": "rgb(36,36,36)",
              "ticks": "outside"
             }
            },
            "type": "scatterternary"
           }
          ],
          "surface": [
           {
            "colorbar": {
             "outlinewidth": 1,
             "tickcolor": "rgb(36,36,36)",
             "ticks": "outside"
            },
            "colorscale": [
             [
              0,
              "#440154"
             ],
             [
              0.1111111111111111,
              "#482878"
             ],
             [
              0.2222222222222222,
              "#3e4989"
             ],
             [
              0.3333333333333333,
              "#31688e"
             ],
             [
              0.4444444444444444,
              "#26828e"
             ],
             [
              0.5555555555555556,
              "#1f9e89"
             ],
             [
              0.6666666666666666,
              "#35b779"
             ],
             [
              0.7777777777777778,
              "#6ece58"
             ],
             [
              0.8888888888888888,
              "#b5de2b"
             ],
             [
              1,
              "#fde725"
             ]
            ],
            "type": "surface"
           }
          ],
          "table": [
           {
            "cells": {
             "fill": {
              "color": "rgb(237,237,237)"
             },
             "line": {
              "color": "white"
             }
            },
            "header": {
             "fill": {
              "color": "rgb(217,217,217)"
             },
             "line": {
              "color": "white"
             }
            },
            "type": "table"
           }
          ]
         },
         "layout": {
          "annotationdefaults": {
           "arrowhead": 0,
           "arrowwidth": 1
          },
          "autotypenumbers": "strict",
          "coloraxis": {
           "colorbar": {
            "outlinewidth": 1,
            "tickcolor": "rgb(36,36,36)",
            "ticks": "outside"
           }
          },
          "colorscale": {
           "diverging": [
            [
             0,
             "rgb(103,0,31)"
            ],
            [
             0.1,
             "rgb(178,24,43)"
            ],
            [
             0.2,
             "rgb(214,96,77)"
            ],
            [
             0.3,
             "rgb(244,165,130)"
            ],
            [
             0.4,
             "rgb(253,219,199)"
            ],
            [
             0.5,
             "rgb(247,247,247)"
            ],
            [
             0.6,
             "rgb(209,229,240)"
            ],
            [
             0.7,
             "rgb(146,197,222)"
            ],
            [
             0.8,
             "rgb(67,147,195)"
            ],
            [
             0.9,
             "rgb(33,102,172)"
            ],
            [
             1,
             "rgb(5,48,97)"
            ]
           ],
           "sequential": [
            [
             0,
             "#440154"
            ],
            [
             0.1111111111111111,
             "#482878"
            ],
            [
             0.2222222222222222,
             "#3e4989"
            ],
            [
             0.3333333333333333,
             "#31688e"
            ],
            [
             0.4444444444444444,
             "#26828e"
            ],
            [
             0.5555555555555556,
             "#1f9e89"
            ],
            [
             0.6666666666666666,
             "#35b779"
            ],
            [
             0.7777777777777778,
             "#6ece58"
            ],
            [
             0.8888888888888888,
             "#b5de2b"
            ],
            [
             1,
             "#fde725"
            ]
           ],
           "sequentialminus": [
            [
             0,
             "#440154"
            ],
            [
             0.1111111111111111,
             "#482878"
            ],
            [
             0.2222222222222222,
             "#3e4989"
            ],
            [
             0.3333333333333333,
             "#31688e"
            ],
            [
             0.4444444444444444,
             "#26828e"
            ],
            [
             0.5555555555555556,
             "#1f9e89"
            ],
            [
             0.6666666666666666,
             "#35b779"
            ],
            [
             0.7777777777777778,
             "#6ece58"
            ],
            [
             0.8888888888888888,
             "#b5de2b"
            ],
            [
             1,
             "#fde725"
            ]
           ]
          },
          "colorway": [
           "#91268F",
           "#8CC63E",
           "#00A7A0",
           "#F05A28",
           "#4C4C4C",
           "#630460",
           "#9f3913",
           "#588527",
           "#00716c",
           "#3e4040"
          ],
          "font": {
           "color": "rgb(36,36,36)",
           "family": "Poppins",
           "size": 11
          },
          "geo": {
           "bgcolor": "white",
           "lakecolor": "white",
           "landcolor": "white",
           "showlakes": true,
           "showland": true,
           "subunitcolor": "white"
          },
          "hoverlabel": {
           "align": "left"
          },
          "hovermode": "closest",
          "mapbox": {
           "style": "light"
          },
          "paper_bgcolor": "white",
          "plot_bgcolor": "white",
          "polar": {
           "angularaxis": {
            "gridcolor": "rgb(232,232,232)",
            "linecolor": "rgb(36,36,36)",
            "showgrid": false,
            "showline": true,
            "ticks": "outside"
           },
           "bgcolor": "white",
           "radialaxis": {
            "gridcolor": "rgb(232,232,232)",
            "linecolor": "rgb(36,36,36)",
            "showgrid": false,
            "showline": true,
            "ticks": "outside"
           }
          },
          "scene": {
           "xaxis": {
            "backgroundcolor": "white",
            "gridcolor": "rgb(232,232,232)",
            "gridwidth": 2,
            "linecolor": "rgb(36,36,36)",
            "showbackground": true,
            "showgrid": false,
            "showline": true,
            "ticks": "outside",
            "zeroline": false,
            "zerolinecolor": "rgb(36,36,36)"
           },
           "yaxis": {
            "backgroundcolor": "white",
            "gridcolor": "rgb(232,232,232)",
            "gridwidth": 2,
            "linecolor": "rgb(36,36,36)",
            "showbackground": true,
            "showgrid": false,
            "showline": true,
            "ticks": "outside",
            "zeroline": false,
            "zerolinecolor": "rgb(36,36,36)"
           },
           "zaxis": {
            "backgroundcolor": "white",
            "gridcolor": "rgb(232,232,232)",
            "gridwidth": 2,
            "linecolor": "rgb(36,36,36)",
            "showbackground": true,
            "showgrid": false,
            "showline": true,
            "ticks": "outside",
            "zeroline": false,
            "zerolinecolor": "rgb(36,36,36)"
           }
          },
          "shapedefaults": {
           "fillcolor": "black",
           "line": {
            "width": 0
           },
           "opacity": 0.3
          },
          "ternary": {
           "aaxis": {
            "gridcolor": "rgb(232,232,232)",
            "linecolor": "rgb(36,36,36)",
            "showgrid": false,
            "showline": true,
            "ticks": "outside"
           },
           "baxis": {
            "gridcolor": "rgb(232,232,232)",
            "linecolor": "rgb(36,36,36)",
            "showgrid": false,
            "showline": true,
            "ticks": "outside"
           },
           "bgcolor": "white",
           "caxis": {
            "gridcolor": "rgb(232,232,232)",
            "linecolor": "rgb(36,36,36)",
            "showgrid": false,
            "showline": true,
            "ticks": "outside"
           }
          },
          "title": {
           "x": 0.05
          },
          "xaxis": {
           "automargin": true,
           "gridcolor": "rgb(232,232,232)",
           "linecolor": "rgb(36,36,36)",
           "showgrid": false,
           "showline": true,
           "ticks": "outside",
           "title": {
            "standoff": 15
           },
           "zeroline": false,
           "zerolinecolor": "rgb(36,36,36)"
          },
          "yaxis": {
           "automargin": true,
           "gridcolor": "rgb(232,232,232)",
           "linecolor": "rgb(36,36,36)",
           "showgrid": false,
           "showline": true,
           "ticks": "outside",
           "title": {
            "standoff": 15
           },
           "zeroline": false,
           "zerolinecolor": "rgb(36,36,36)"
          }
         }
        },
        "title": {
         "text": "Heavy Trucks: Pierce"
        },
        "width": 800,
        "xaxis": {
         "anchor": "y",
         "domain": [
          0,
          1
         ],
         "title": {
          "text": "Observed"
         }
        },
        "yaxis": {
         "anchor": "x",
         "domain": [
          0,
          1
         ],
         "title": {
          "text": "Model"
         }
        }
       }
      },
      "text/html": [
       "<div>                            <div id=\"393a8859-45fa-4a85-9b9c-6fe2dfc85634\" class=\"plotly-graph-div\" style=\"height:600px; width:800px;\"></div>            <script type=\"text/javascript\">                require([\"plotly\"], function(Plotly) {                    window.PLOTLYENV=window.PLOTLYENV || {};                                    if (document.getElementById(\"393a8859-45fa-4a85-9b9c-6fe2dfc85634\")) {                    Plotly.newPlot(                        \"393a8859-45fa-4a85-9b9c-6fe2dfc85634\",                        [{\"customdata\":[[\"I-5 S\\u002fO Mounts NB\",\"Pierce\"],[\"I-5 S\\u002fO Mounts SB\",\"Pierce\"],[\"I-5 S\\u002fO Division NB\",\"Pierce\"],[\"I-5 S\\u002fO Division SB\",\"Pierce\"],[\"I-5 @ N\\u002fO Division NB\",\"Pierce\"],[\"I-5 @ N\\u002fO Division SB\",\"Pierce\"],[\"I-5 S\\u002fO SR-512 NB\",\"Pierce\"],[\"I-5 S\\u002fO SR-512 SB\",\"Pierce\"],[\"I-5 N\\u002fO SR-512 NB\",\"Pierce\"],[\"I-5 N\\u002fO SR-512 SB\",\"Pierce\"],[\"I-5 N\\u002fO 56th NB\",\"Pierce\"],[\"I-5 N\\u002fO 56th SB\",\"Pierce\"],[\"I-5 E\\u002fO SR-16 NB\",\"Pierce\"],[\"I-5 E\\u002fO SR-16 SB\",\"Pierce\"],[\"I-5 E\\u002fO Port of Tacoma NB\",\"Pierce\"],[\"I-5 E\\u002fO Port of Tacoma SB (HOV from 56)\",\"Pierce\"],[\"SR-512 W\\u002fO Meridian WB\",\"Pierce\"],[\"SR-512 W\\u002fO Meridian EB\",\"Pierce\"],[\"SR-167 W\\u002fO SR-410 NB\\u002fSB\",\"Pierce\"],[\"SR-167 E\\u002fO SR-161 NB\\u002fSB\",\"Pierce\"],[\"SR-410 E\\u002fO S Prairie WB\\u002fEB\",\"Pierce\"],[\"SR-410 E\\u002fO Chinook WB\\u002fEB\",\"Pierce\"],[\"SR-410 W\\u002fO SR-123 WB\\u002fEB\",\"Pierce\"],[\"SR-410 E\\u002fO SR-123 WB\\u002fEB\",\"Pierce\"],[\"SR-512 @ I-5 WB\\u002fEB\",\"Pierce\"],[\"SR-512 W\\u002fO SR-7 WB\\u002fEB\",\"Pierce\"],[\"SR-512 S\\u002fO SR-167 WB\\u002fEB\",\"Pierce\"],[\"SR-509 E\\u002fO I-705 NB\\u002fSB\",\"Pierce\"],[\"SR-509 W\\u002fO Alexander NB\\u002fSB\",\"Pierce\"],[\"SR-509 S\\u002fO 11th NB\\u002fSB\",\"Pierce\"],[\"SR-509 N\\u002fO Hyada NB\\u002fSB\",\"Pierce\"],[\"SR-509 E\\u002fO Soundview NB\\u002fSB\",\"Pierce\"],[\"SR-99 @ I-5 NB\\u002fSB\",\"Pierce\"],[\"SR-99 E\\u002fO 54th NB\\u002fSB\",\"Pierce\"],[\"SR-99 S\\u002fO Porter NB\\u002fSB\",\"Pierce\"],[\"SR-16 @ TNB NB\\u002fSB\",\"Pierce\"],[\"SR-16 @ Purdy Dr NB\\u002fSB\",\"Pierce\"],[\"SR-302 N\\u002fO 144th WB\\u002fEB\",\"Pierce\"],[\"SR-302 S\\u002fO 144th WB\\u002fEB\",\"Pierce\"],[\"SR-302 W\\u002fO Key Peninsula Hwy WB\\u002fEB\",\"Pierce\"],[\"SR-302 W\\u002fO Wright-Bliss WB\\u002fEB (E\\u002fO?)\",\"Pierce\"],[\"SR-161 E\\u002fO SR-7 NB\\u002fSB\",\"Pierce\"],[\"SR-161 N\\u002fO Center NB\\u002fSB\",\"Pierce\"],[\"SR-161 N\\u002fO Eatonville Cutoff NB\\u002fSB\",\"Pierce\"],[\"SR-161 N\\u002fO 304th NB\\u002fSB\",\"Pierce\"],[\"SR-161 N\\u002fO 264th NB\\u002fSB\",\"Pierce\"],[\"SR-161 S\\u002fO 224th NB\\u002fSB\",\"Pierce\"],[\"SR-161 N\\u002fO 224th NB\\u002fSB\",\"Pierce\"],[\"SR-161 N\\u002fO 204th NB\\u002fSB\",\"Pierce\"],[\"SR-161 S\\u002fO SR-167 SB off-ramp NB\\u002fSB\",\"Pierce\"],[\"SR-161 S\\u002fO Valley NB\\u002fSB\",\"Pierce\"],[\"SR-161 N\\u002fO Valley NB\\u002fSB\",\"Pierce\"],[\"SR-161 N\\u002fO 8th NB\\u002fSB\",\"Pierce\"],[\"SR-7 @ Thurston County NB\\u002fSB\",\"Pierce\"],[\"SR-7 W\\u002fO Alder Cutoff NB\\u002fSB\",\"Pierce\"],[\"SR-7 N\\u002fO Eatonville Hwy NB\\u002fSB\",\"Pierce\"],[\"SR-7 N\\u002fO Silver Lake NB\\u002fSB\",\"Pierce\"],[\"SR-7 S\\u002fO SR-702 NB\\u002fSB\",\"Pierce\"],[\"SR-7 N\\u002fO 304th NB\\u002fSB\",\"Pierce\"],[\"SR-7 N\\u002fO 260th NB\\u002fSB\",\"Pierce\"],[\"SR-7 S\\u002fO 224th NB\\u002fSB\",\"Pierce\"],[\"SR-7 N\\u002fO 224th NB\\u002fSB\",\"Pierce\"],[\"SR-7 N\\u002fO 38th NB\\u002fSB\",\"Pierce\"],[\"SR-162 @ SR-410 WB\\u002fEB\",\"Pierce\"],[\"SR-162 S\\u002fO Pioneer WB\\u002fEB\",\"Pierce\"],[\"SR-162 E\\u002fO Orville WB\\u002fEB\",\"Pierce\"],[\"SR-162 E\\u002fO S Prairie WB\\u002fEB\",\"Pierce\"],[\"SR-162 N\\u002fO SR-165 WB\\u002fEB\",\"Pierce\"],[\"SR-163 @ SR-16 NB\\u002fSB\",\"Pierce\"],[\"SR-163 N\\u002fO 37th NB\\u002fSB\",\"Pierce\"],[\"SR-163 N\\u002fO Park NB\\u002fSB\",\"Pierce\"],[\"SR-507 S\\u002fO SR-7 NB\\u002fSB\",\"Pierce\"],[\"SR-507 S\\u002fO E Gate NB\\u002fSB\",\"Pierce\"],[\"SR-507 S\\u002fO 288th NB\\u002fSB\",\"Pierce\"],[\"SR-507 N\\u002fO 346th NB\\u002fSB\",\"Pierce\"],[\"SR-702 E\\u002fO SR-507 WB\\u002fEB\",\"Pierce\"],[\"SR-702 E\\u002fO Harts Lake WB\\u002fEB\",\"Pierce\"],[\"SR-702 E\\u002fO 40th WB\\u002fEB\",\"Pierce\"],[\"SR-702 W\\u002fO 8th WB\\u002fEB\",\"Pierce\"],[\"SR-702 E\\u002fO 8th WB\\u002fEB\",\"Pierce\"],[\"SR-165 W\\u002fO SR-162 NB\\u002fSB\",\"Pierce\"],[\"SR-165 N\\u002fO Davis NB\\u002fSB\",\"Pierce\"],[\"SR-165 N\\u002fO Wilkeson-Carbonado NB\\u002fSB\",\"Pierce\"],[\"SR-704 E\\u002fO Spanaway Loop WB\\u002fEB\",\"Pierce\"],[\"SR-706 E\\u002fO SR-7 WB\\u002fEB\",\"Pierce\"],[\"SR-706 E\\u002fO Kernahan WB\\u002fEB\",\"Pierce\"]],\"hovertemplate\":\"Observed=%{x}\\u003cbr\\u003eModel=%{y}\\u003cbr\\u003elocation=%{customdata[0]}\\u003cbr\\u003eCounty=%{customdata[1]}\\u003cextra\\u003e\\u003c\\u002fextra\\u003e\",\"legendgroup\":\"\",\"marker\":{\"color\":\"#91268F\",\"symbol\":\"circle\"},\"mode\":\"markers\",\"name\":\"\",\"orientation\":\"v\",\"showlegend\":false,\"x\":[5573,5542,5922,6132,4944,4825,5532,5301,5029,5099,5967,6014,2704,5893,3834,4831,2397,2397,7266,3486,614,21,17,14,3402,3992,4756,962,2112,103,11,14,1392,2775,1196,1762,1426,79,104,57,52,25,201,112,418,338,324,324,532,850,1739,180,175,142,110,67,90,98,400,377,432,374,168,420,1034,209,136,135,40,36,90,464,352,520,351,252,220,266,166,254,166,50,18,648,38,13],\"xaxis\":\"x\",\"y\":[5574,5572,5831,5831,5809,5807,5677,5621,5355,5924,6043,6071,5447,8223,10261,10137,1319,1268,4397,1800,84,94,94,94,1323,1640,2945,820,1158,1903,0,0,1323,1026,894,4740,3830,27,21,252,237,0,41,41,90,90,111,137,174,714,1147,78,715,0,16,16,16,16,67,70,71,58,13,125,96,5,5,5,95,96,249,442,474,468,468,6,6,19,19,17,5,0,0,402,0,0],\"yaxis\":\"y\",\"type\":\"scatter\",\"line\":{\"color\":\"Grey\",\"width\":2}},{\"hovertemplate\":\"Observed=%{x}\\u003cbr\\u003eModel=%{y}\\u003cextra\\u003e\\u003c\\u002fextra\\u003e\",\"legendgroup\":\"\",\"line\":{\"color\":\"Grey\",\"dash\":\"solid\",\"width\":2},\"marker\":{\"symbol\":\"circle\"},\"mode\":\"lines\",\"name\":\"\",\"orientation\":\"v\",\"showlegend\":false,\"x\":[0.0,73.39393939393939,146.78787878787878,220.1818181818182,293.57575757575756,366.96969696969694,440.3636363636364,513.7575757575758,587.1515151515151,660.5454545454545,733.9393939393939,807.3333333333333,880.7272727272727,954.1212121212121,1027.5151515151515,1100.9090909090908,1174.3030303030303,1247.6969696969697,1321.090909090909,1394.4848484848485,1467.8787878787878,1541.2727272727273,1614.6666666666665,1688.060606060606,1761.4545454545455,1834.8484848484848,1908.2424242424242,1981.6363636363635,2055.030303030303,2128.4242424242425,2201.8181818181815,2275.212121212121,2348.6060606060605,2422.0,2495.3939393939395,2568.7878787878785,2642.181818181818,2715.5757575757575,2788.969696969697,2862.363636363636,2935.7575757575755,3009.151515151515,3082.5454545454545,3155.939393939394,3229.333333333333,3302.7272727272725,3376.121212121212,3449.5151515151515,3522.909090909091,3596.30303030303,3669.6969696969695,3743.090909090909,3816.4848484848485,3889.8787878787875,3963.272727272727,4036.6666666666665,4110.060606060606,4183.454545454545,4256.848484848485,4330.242424242424,4403.636363636363,4477.030303030303,4550.424242424242,4623.818181818182,4697.212121212121,4770.60606060606,4844.0,4917.393939393939,4990.787878787879,5064.181818181818,5137.575757575757,5210.969696969697,5284.363636363636,5357.757575757576,5431.151515151515,5504.545454545454,5577.939393939394,5651.333333333333,5724.727272727272,5798.121212121212,5871.515151515151,5944.909090909091,6018.30303030303,6091.696969696969,6165.090909090909,6238.484848484848,6311.878787878788,6385.272727272727,6458.666666666666,6532.060606060606,6605.454545454545,6678.848484848485,6752.242424242424,6825.636363636363,6899.030303030303,6972.424242424242,7045.818181818182,7119.212121212121,7192.60606060606,7266.0],\"xaxis\":\"x\",\"y\":[-37.00379228914676,40.37570243903636,117.75519716721948,195.1346918954026,272.5141866235857,349.8936813517688,427.27317607995195,504.6526708081351,582.0321655363182,659.4116602645013,736.7911549926844,814.1706497208675,891.5501444490507,968.9296391772339,1046.309133905417,1123.6886286335998,1201.0681233617831,1278.4476180899665,1355.8271128181493,1433.2066075463326,1510.5861022745155,1587.9655970026988,1665.3450917308817,1742.724586459065,1820.104081187248,1897.4835759154312,1974.8630706436145,2052.2425653717974,2129.6220600999804,2207.0015548281635,2284.3810495563466,2361.7605442845297,2439.140039012713,2516.519533740896,2593.89902846908,2671.278523197262,2748.658017925445,2826.0375126536283,2903.4170073818123,2980.7965021099944,3058.1759968381775,3135.5554915663606,3212.9349862945446,3290.3144810227277,3367.69397575091,3445.073470479094,3522.452965207277,3599.83245993546,3677.211954663643,3754.5914493918262,3831.9709441200093,3909.3504388481924,3986.7299335763755,4064.1094283045577,4141.488923032742,4218.868417760925,4296.247912489108,4373.62740721729,4451.006901945474,4528.386396673657,4605.765891401839,4683.145386130023,4760.524880858206,4837.9043755863895,4915.283870314573,4992.663365042756,5070.042859770939,5147.422354499122,5224.801849227306,5302.181343955488,5379.560838683671,5456.940333411854,5534.319828140037,5611.699322868221,5689.0788175964035,5766.458312324587,5843.837807052771,5921.217301780953,5998.596796509136,6075.97629123732,6153.355785965502,6230.735280693686,6308.114775421868,6385.494270150051,6462.873764878235,6540.2532596064175,6617.6327543346015,6695.012249062785,6772.391743790967,6849.771238519151,6927.150733247334,7004.530227975517,7081.9097227037,7159.289217431883,7236.668712160066,7314.048206888249,7391.427701616432,7468.8071963446155,7546.186691072799,7623.566185800982],\"yaxis\":\"y\",\"type\":\"scatter\"}],                        {\"template\":{\"data\":{\"barpolar\":[{\"marker\":{\"line\":{\"color\":\"white\",\"width\":0.5},\"pattern\":{\"fillmode\":\"overlay\",\"size\":10,\"solidity\":0.2}},\"type\":\"barpolar\"}],\"bar\":[{\"error_x\":{\"color\":\"rgb(36,36,36)\"},\"error_y\":{\"color\":\"rgb(36,36,36)\"},\"marker\":{\"line\":{\"color\":\"white\",\"width\":0.5},\"pattern\":{\"fillmode\":\"overlay\",\"size\":10,\"solidity\":0.2}},\"type\":\"bar\"}],\"carpet\":[{\"aaxis\":{\"endlinecolor\":\"rgb(36,36,36)\",\"gridcolor\":\"white\",\"linecolor\":\"white\",\"minorgridcolor\":\"white\",\"startlinecolor\":\"rgb(36,36,36)\"},\"baxis\":{\"endlinecolor\":\"rgb(36,36,36)\",\"gridcolor\":\"white\",\"linecolor\":\"white\",\"minorgridcolor\":\"white\",\"startlinecolor\":\"rgb(36,36,36)\"},\"type\":\"carpet\"}],\"choropleth\":[{\"colorbar\":{\"outlinewidth\":1,\"tickcolor\":\"rgb(36,36,36)\",\"ticks\":\"outside\"},\"type\":\"choropleth\"}],\"contourcarpet\":[{\"colorbar\":{\"outlinewidth\":1,\"tickcolor\":\"rgb(36,36,36)\",\"ticks\":\"outside\"},\"type\":\"contourcarpet\"}],\"contour\":[{\"colorbar\":{\"outlinewidth\":1,\"tickcolor\":\"rgb(36,36,36)\",\"ticks\":\"outside\"},\"colorscale\":[[0.0,\"#440154\"],[0.1111111111111111,\"#482878\"],[0.2222222222222222,\"#3e4989\"],[0.3333333333333333,\"#31688e\"],[0.4444444444444444,\"#26828e\"],[0.5555555555555556,\"#1f9e89\"],[0.6666666666666666,\"#35b779\"],[0.7777777777777778,\"#6ece58\"],[0.8888888888888888,\"#b5de2b\"],[1.0,\"#fde725\"]],\"type\":\"contour\"}],\"heatmapgl\":[{\"colorbar\":{\"outlinewidth\":1,\"tickcolor\":\"rgb(36,36,36)\",\"ticks\":\"outside\"},\"colorscale\":[[0.0,\"#440154\"],[0.1111111111111111,\"#482878\"],[0.2222222222222222,\"#3e4989\"],[0.3333333333333333,\"#31688e\"],[0.4444444444444444,\"#26828e\"],[0.5555555555555556,\"#1f9e89\"],[0.6666666666666666,\"#35b779\"],[0.7777777777777778,\"#6ece58\"],[0.8888888888888888,\"#b5de2b\"],[1.0,\"#fde725\"]],\"type\":\"heatmapgl\"}],\"heatmap\":[{\"colorbar\":{\"outlinewidth\":1,\"tickcolor\":\"rgb(36,36,36)\",\"ticks\":\"outside\"},\"colorscale\":[[0.0,\"#440154\"],[0.1111111111111111,\"#482878\"],[0.2222222222222222,\"#3e4989\"],[0.3333333333333333,\"#31688e\"],[0.4444444444444444,\"#26828e\"],[0.5555555555555556,\"#1f9e89\"],[0.6666666666666666,\"#35b779\"],[0.7777777777777778,\"#6ece58\"],[0.8888888888888888,\"#b5de2b\"],[1.0,\"#fde725\"]],\"type\":\"heatmap\"}],\"histogram2dcontour\":[{\"colorbar\":{\"outlinewidth\":1,\"tickcolor\":\"rgb(36,36,36)\",\"ticks\":\"outside\"},\"colorscale\":[[0.0,\"#440154\"],[0.1111111111111111,\"#482878\"],[0.2222222222222222,\"#3e4989\"],[0.3333333333333333,\"#31688e\"],[0.4444444444444444,\"#26828e\"],[0.5555555555555556,\"#1f9e89\"],[0.6666666666666666,\"#35b779\"],[0.7777777777777778,\"#6ece58\"],[0.8888888888888888,\"#b5de2b\"],[1.0,\"#fde725\"]],\"type\":\"histogram2dcontour\"}],\"histogram2d\":[{\"colorbar\":{\"outlinewidth\":1,\"tickcolor\":\"rgb(36,36,36)\",\"ticks\":\"outside\"},\"colorscale\":[[0.0,\"#440154\"],[0.1111111111111111,\"#482878\"],[0.2222222222222222,\"#3e4989\"],[0.3333333333333333,\"#31688e\"],[0.4444444444444444,\"#26828e\"],[0.5555555555555556,\"#1f9e89\"],[0.6666666666666666,\"#35b779\"],[0.7777777777777778,\"#6ece58\"],[0.8888888888888888,\"#b5de2b\"],[1.0,\"#fde725\"]],\"type\":\"histogram2d\"}],\"histogram\":[{\"marker\":{\"line\":{\"color\":\"white\",\"width\":0.6}},\"type\":\"histogram\"}],\"mesh3d\":[{\"colorbar\":{\"outlinewidth\":1,\"tickcolor\":\"rgb(36,36,36)\",\"ticks\":\"outside\"},\"type\":\"mesh3d\"}],\"parcoords\":[{\"line\":{\"colorbar\":{\"outlinewidth\":1,\"tickcolor\":\"rgb(36,36,36)\",\"ticks\":\"outside\"}},\"type\":\"parcoords\"}],\"pie\":[{\"automargin\":true,\"type\":\"pie\"}],\"scatter3d\":[{\"line\":{\"colorbar\":{\"outlinewidth\":1,\"tickcolor\":\"rgb(36,36,36)\",\"ticks\":\"outside\"}},\"marker\":{\"colorbar\":{\"outlinewidth\":1,\"tickcolor\":\"rgb(36,36,36)\",\"ticks\":\"outside\"}},\"type\":\"scatter3d\"}],\"scattercarpet\":[{\"marker\":{\"colorbar\":{\"outlinewidth\":1,\"tickcolor\":\"rgb(36,36,36)\",\"ticks\":\"outside\"}},\"type\":\"scattercarpet\"}],\"scattergeo\":[{\"marker\":{\"colorbar\":{\"outlinewidth\":1,\"tickcolor\":\"rgb(36,36,36)\",\"ticks\":\"outside\"}},\"type\":\"scattergeo\"}],\"scattergl\":[{\"marker\":{\"colorbar\":{\"outlinewidth\":1,\"tickcolor\":\"rgb(36,36,36)\",\"ticks\":\"outside\"}},\"type\":\"scattergl\"}],\"scattermapbox\":[{\"marker\":{\"colorbar\":{\"outlinewidth\":1,\"tickcolor\":\"rgb(36,36,36)\",\"ticks\":\"outside\"}},\"type\":\"scattermapbox\"}],\"scatterpolargl\":[{\"marker\":{\"colorbar\":{\"outlinewidth\":1,\"tickcolor\":\"rgb(36,36,36)\",\"ticks\":\"outside\"}},\"type\":\"scatterpolargl\"}],\"scatterpolar\":[{\"marker\":{\"colorbar\":{\"outlinewidth\":1,\"tickcolor\":\"rgb(36,36,36)\",\"ticks\":\"outside\"}},\"type\":\"scatterpolar\"}],\"scatter\":[{\"fillpattern\":{\"fillmode\":\"overlay\",\"size\":10,\"solidity\":0.2},\"type\":\"scatter\"}],\"scatterternary\":[{\"marker\":{\"colorbar\":{\"outlinewidth\":1,\"tickcolor\":\"rgb(36,36,36)\",\"ticks\":\"outside\"}},\"type\":\"scatterternary\"}],\"surface\":[{\"colorbar\":{\"outlinewidth\":1,\"tickcolor\":\"rgb(36,36,36)\",\"ticks\":\"outside\"},\"colorscale\":[[0.0,\"#440154\"],[0.1111111111111111,\"#482878\"],[0.2222222222222222,\"#3e4989\"],[0.3333333333333333,\"#31688e\"],[0.4444444444444444,\"#26828e\"],[0.5555555555555556,\"#1f9e89\"],[0.6666666666666666,\"#35b779\"],[0.7777777777777778,\"#6ece58\"],[0.8888888888888888,\"#b5de2b\"],[1.0,\"#fde725\"]],\"type\":\"surface\"}],\"table\":[{\"cells\":{\"fill\":{\"color\":\"rgb(237,237,237)\"},\"line\":{\"color\":\"white\"}},\"header\":{\"fill\":{\"color\":\"rgb(217,217,217)\"},\"line\":{\"color\":\"white\"}},\"type\":\"table\"}]},\"layout\":{\"annotationdefaults\":{\"arrowhead\":0,\"arrowwidth\":1},\"autotypenumbers\":\"strict\",\"coloraxis\":{\"colorbar\":{\"outlinewidth\":1,\"tickcolor\":\"rgb(36,36,36)\",\"ticks\":\"outside\"}},\"colorscale\":{\"diverging\":[[0.0,\"rgb(103,0,31)\"],[0.1,\"rgb(178,24,43)\"],[0.2,\"rgb(214,96,77)\"],[0.3,\"rgb(244,165,130)\"],[0.4,\"rgb(253,219,199)\"],[0.5,\"rgb(247,247,247)\"],[0.6,\"rgb(209,229,240)\"],[0.7,\"rgb(146,197,222)\"],[0.8,\"rgb(67,147,195)\"],[0.9,\"rgb(33,102,172)\"],[1.0,\"rgb(5,48,97)\"]],\"sequential\":[[0.0,\"#440154\"],[0.1111111111111111,\"#482878\"],[0.2222222222222222,\"#3e4989\"],[0.3333333333333333,\"#31688e\"],[0.4444444444444444,\"#26828e\"],[0.5555555555555556,\"#1f9e89\"],[0.6666666666666666,\"#35b779\"],[0.7777777777777778,\"#6ece58\"],[0.8888888888888888,\"#b5de2b\"],[1.0,\"#fde725\"]],\"sequentialminus\":[[0.0,\"#440154\"],[0.1111111111111111,\"#482878\"],[0.2222222222222222,\"#3e4989\"],[0.3333333333333333,\"#31688e\"],[0.4444444444444444,\"#26828e\"],[0.5555555555555556,\"#1f9e89\"],[0.6666666666666666,\"#35b779\"],[0.7777777777777778,\"#6ece58\"],[0.8888888888888888,\"#b5de2b\"],[1.0,\"#fde725\"]]},\"colorway\":[\"#91268F\",\"#8CC63E\",\"#00A7A0\",\"#F05A28\",\"#4C4C4C\",\"#630460\",\"#9f3913\",\"#588527\",\"#00716c\",\"#3e4040\"],\"font\":{\"color\":\"rgb(36,36,36)\",\"family\":\"Poppins\",\"size\":11},\"geo\":{\"bgcolor\":\"white\",\"lakecolor\":\"white\",\"landcolor\":\"white\",\"showlakes\":true,\"showland\":true,\"subunitcolor\":\"white\"},\"hoverlabel\":{\"align\":\"left\"},\"hovermode\":\"closest\",\"mapbox\":{\"style\":\"light\"},\"paper_bgcolor\":\"white\",\"plot_bgcolor\":\"white\",\"polar\":{\"angularaxis\":{\"gridcolor\":\"rgb(232,232,232)\",\"linecolor\":\"rgb(36,36,36)\",\"showgrid\":false,\"showline\":true,\"ticks\":\"outside\"},\"bgcolor\":\"white\",\"radialaxis\":{\"gridcolor\":\"rgb(232,232,232)\",\"linecolor\":\"rgb(36,36,36)\",\"showgrid\":false,\"showline\":true,\"ticks\":\"outside\"}},\"scene\":{\"xaxis\":{\"backgroundcolor\":\"white\",\"gridcolor\":\"rgb(232,232,232)\",\"gridwidth\":2,\"linecolor\":\"rgb(36,36,36)\",\"showbackground\":true,\"showgrid\":false,\"showline\":true,\"ticks\":\"outside\",\"zeroline\":false,\"zerolinecolor\":\"rgb(36,36,36)\"},\"yaxis\":{\"backgroundcolor\":\"white\",\"gridcolor\":\"rgb(232,232,232)\",\"gridwidth\":2,\"linecolor\":\"rgb(36,36,36)\",\"showbackground\":true,\"showgrid\":false,\"showline\":true,\"ticks\":\"outside\",\"zeroline\":false,\"zerolinecolor\":\"rgb(36,36,36)\"},\"zaxis\":{\"backgroundcolor\":\"white\",\"gridcolor\":\"rgb(232,232,232)\",\"gridwidth\":2,\"linecolor\":\"rgb(36,36,36)\",\"showbackground\":true,\"showgrid\":false,\"showline\":true,\"ticks\":\"outside\",\"zeroline\":false,\"zerolinecolor\":\"rgb(36,36,36)\"}},\"shapedefaults\":{\"fillcolor\":\"black\",\"line\":{\"width\":0},\"opacity\":0.3},\"ternary\":{\"aaxis\":{\"gridcolor\":\"rgb(232,232,232)\",\"linecolor\":\"rgb(36,36,36)\",\"showgrid\":false,\"showline\":true,\"ticks\":\"outside\"},\"baxis\":{\"gridcolor\":\"rgb(232,232,232)\",\"linecolor\":\"rgb(36,36,36)\",\"showgrid\":false,\"showline\":true,\"ticks\":\"outside\"},\"bgcolor\":\"white\",\"caxis\":{\"gridcolor\":\"rgb(232,232,232)\",\"linecolor\":\"rgb(36,36,36)\",\"showgrid\":false,\"showline\":true,\"ticks\":\"outside\"}},\"title\":{\"x\":0.05},\"xaxis\":{\"automargin\":true,\"gridcolor\":\"rgb(232,232,232)\",\"linecolor\":\"rgb(36,36,36)\",\"showgrid\":false,\"showline\":true,\"ticks\":\"outside\",\"title\":{\"standoff\":15},\"zeroline\":false,\"zerolinecolor\":\"rgb(36,36,36)\"},\"yaxis\":{\"automargin\":true,\"gridcolor\":\"rgb(232,232,232)\",\"linecolor\":\"rgb(36,36,36)\",\"showgrid\":false,\"showline\":true,\"ticks\":\"outside\",\"title\":{\"standoff\":15},\"zeroline\":false,\"zerolinecolor\":\"rgb(36,36,36)\"}}},\"xaxis\":{\"anchor\":\"y\",\"domain\":[0.0,1.0],\"title\":{\"text\":\"Observed\"}},\"yaxis\":{\"anchor\":\"x\",\"domain\":[0.0,1.0],\"title\":{\"text\":\"Model\"}},\"legend\":{\"tracegroupgap\":0},\"title\":{\"text\":\"Heavy Trucks: Pierce\"},\"margin\":{\"l\":100,\"r\":100,\"t\":100,\"b\":100},\"height\":600,\"width\":800,\"shapes\":[{\"line\":{\"color\":\"Red\",\"dash\":\"dash\",\"width\":2},\"type\":\"line\",\"x0\":0,\"x1\":10261,\"y0\":0,\"y1\":10261}],\"annotations\":[{\"align\":\"right\",\"font\":{\"color\":\"pink\",\"size\":12},\"showarrow\":false,\"text\":\"y = x\",\"x\":10774.050000000001,\"y\":10774.050000000001},{\"align\":\"right\",\"font\":{\"color\":\"black\",\"size\":12},\"showarrow\":false,\"text\":\"r^2 = 0.76\",\"x\":7629.3,\"y\":8004.744495091031}]},                        {\"responsive\": true}                    ).then(function(){\n",
       "                            \n",
       "var gd = document.getElementById('393a8859-45fa-4a85-9b9c-6fe2dfc85634');\n",
       "var x = new MutationObserver(function (mutations, observer) {{\n",
       "        var display = window.getComputedStyle(gd).display;\n",
       "        if (!display || display === 'none') {{\n",
       "            console.log([gd, 'removed!']);\n",
       "            Plotly.purge(gd);\n",
       "            observer.disconnect();\n",
       "        }}\n",
       "}});\n",
       "\n",
       "// Listen for the removal of the full notebook cells\n",
       "var notebookContainer = gd.closest('#notebook-container');\n",
       "if (notebookContainer) {{\n",
       "    x.observe(notebookContainer, {childList: true});\n",
       "}}\n",
       "\n",
       "// Listen for the clearing of the current output cell\n",
       "var outputEl = gd.closest('.output');\n",
       "if (outputEl) {{\n",
       "    x.observe(outputEl, {childList: true});\n",
       "}}\n",
       "\n",
       "                        })                };                });            </script>        </div>"
      ]
     },
     "metadata": {},
     "output_type": "display_data"
    }
   ],
   "source": [
    "fig = create_truck_chart(df_daily_heavy, 'Heavy', 'Pierce')\n",
    "fig.show()"
   ]
  },
  {
   "cell_type": "raw",
   "id": "60af6289",
   "metadata": {
    "vscode": {
     "languageId": "raw"
    }
   },
   "source": [
    "#### Snohomish"
   ]
  },
  {
   "cell_type": "code",
   "execution_count": 28,
   "id": "e7a2925c",
   "metadata": {},
   "outputs": [
    {
     "data": {
      "application/vnd.plotly.v1+json": {
       "config": {
        "plotlyServerURL": "https://plot.ly"
       },
       "data": [
        {
         "customdata": [
          [
           "I-5 @ 44th NB",
           "Snohomish"
          ],
          [
           "I-5 @ 44th SB",
           "Snohomish"
          ],
          [
           "I-5 N/O 164th NB",
           "Snohomish"
          ],
          [
           "I-5 N/O 164th SB",
           "Snohomish"
          ],
          [
           "I-5 N/O SR-526 NB",
           "Snohomish"
          ],
          [
           "I-5 N/O SR-526 SB",
           "Snohomish"
          ],
          [
           "I-5 N/O 41st NB",
           "Snohomish"
          ],
          [
           "I-5 N/O 41st SB",
           "Snohomish"
          ],
          [
           "I-5 @ SR-528 NB",
           "Snohomish"
          ],
          [
           "I-5 @ SR-528 SB",
           "Snohomish"
          ],
          [
           "I-5 N/O SR-531 NB",
           "Snohomish"
          ],
          [
           "I-5 N/O SR-531 SB",
           "Snohomish"
          ],
          [
           "I-405 N/O SR-527 NB",
           "Snohomish"
          ],
          [
           "I-405 N/O SR-527 SB",
           "Snohomish"
          ],
          [
           "SR-525 N/O I-5 NB",
           "Snohomish"
          ],
          [
           "SR-525 N/O I-5 SB",
           "Snohomish"
          ],
          [
           "I-5 @ SR-532 NB/SB",
           "Snohomish"
          ],
          [
           "I-5 @ Skagit border NB/SB",
           "Snohomish"
          ],
          [
           "SR-525 N/O SR-526 NB/SB",
           "Snohomish"
          ],
          [
           "SR-525 N/O 5th NB/SB",
           "Snohomish"
          ],
          [
           "SR-99 E/O Evergreen NB/SB",
           "Snohomish"
          ],
          [
           "SR-526 W/O Paine Field Blvd WB/EB",
           "Snohomish"
          ],
          [
           "SR-526 E/O Paine Field Blvd WB/EB",
           "Snohomish"
          ],
          [
           "SR-9 @ SR-522 NB/SB",
           "Snohomish"
          ],
          [
           "SR-9 N/O SR-2 NB/SB",
           "Snohomish"
          ],
          [
           "SR-9 N/O SR-204 NB/SB",
           "Snohomish"
          ],
          [
           "SR-9 N/O SR-92 NB/SB",
           "Snohomish"
          ],
          [
           "SR-9 N/O 132nd NB/SB",
           "Snohomish"
          ],
          [
           "SR-9 N/O SR-531 NB/SB",
           "Snohomish"
          ],
          [
           "SR-9 S/O 67th NB/SB",
           "Snohomish"
          ],
          [
           "SR-9 N/O Kackman NB/SB",
           "Snohomish"
          ],
          [
           "SR-9 N/O Stanwood-Bryant NB/SB",
           "Snohomish"
          ],
          [
           "SR-532 @ Island County WB/EB",
           "Snohomish"
          ],
          [
           "SR-532 W/O 28th WB/EB",
           "Snohomish"
          ],
          [
           "SR-104 @ Ferry Loading Edm WB/EB",
           "Snohomish"
          ],
          [
           "SR-104 N/O Pine WB/EB",
           "Snohomish"
          ],
          [
           "SR-104 E/O 5th WB/EB",
           "Snohomish"
          ],
          [
           "SR-524 W/O 3rd WB/EB",
           "Snohomish"
          ],
          [
           "SR-524 S/O Main WB/EB",
           "Snohomish"
          ],
          [
           "SR-524 N/O Main WB/EB",
           "Snohomish"
          ],
          [
           "SR-524 E/O 68th WB/EB",
           "Snohomish"
          ],
          [
           "SR-524 E/O 39th WB/EB",
           "Snohomish"
          ],
          [
           "SR-524 N/O Paradise Lake WB/EB",
           "Snohomish"
          ],
          [
           "SR-2 E/O I-5 WB/EB",
           "Snohomish"
          ],
          [
           "SR-2 S/O SR-204 WB/EB",
           "Snohomish"
          ],
          [
           "SR-2 E/O Main WB/EB",
           "Snohomish"
          ],
          [
           "SR-2 E/O Rice WB/EB",
           "Snohomish"
          ],
          [
           "SR-2 E/O 10th (Gold Bar) WB/EB",
           "Snohomish"
          ],
          [
           "SR-2 W/O Index-Galena WB/EB",
           "Snohomish"
          ],
          [
           "SR-2 E/O Index-Galena WB/EB",
           "Snohomish"
          ],
          [
           "SR-527 N/O I-405 NB/SB",
           "Snohomish"
          ],
          [
           "SR-527 N/O 196th NB/SB",
           "Snohomish"
          ],
          [
           "SR-527 N/O Dumas NB/SB",
           "Snohomish"
          ],
          [
           "SR-527 N/O 100th NB/SB",
           "Snohomish"
          ],
          [
           "SR-529 @ I-5 (Evt) NB/SB",
           "Snohomish"
          ],
          [
           "SR-529 S/O Everett NB/SB",
           "Snohomish"
          ],
          [
           "SR-529 W/O Maple NB/SB",
           "Snohomish"
          ],
          [
           "SR-529 N/O Everett NB/SB",
           "Snohomish"
          ],
          [
           "SR-529 N/O Broadway NB/SB",
           "Snohomish"
          ],
          [
           "SR-96 @ I-5 WB/EB",
           "Snohomish"
          ],
          [
           "SR-96 N/O 132nd WB/EB",
           "Snohomish"
          ],
          [
           "SR-96 E/O Seattle Hill WB/EB",
           "Snohomish"
          ],
          [
           "SR-528 @ I-5 WB/EB",
           "Snohomish"
          ],
          [
           "SR-528 E/O SR-529 WB/EB",
           "Snohomish"
          ],
          [
           "SR-531 N/O Rose WB/EB",
           "Snohomish"
          ],
          [
           "SR-531 E/O Lk Goodwin WB/EB",
           "Snohomish"
          ],
          [
           "SR-531 E/O 27th WB/EB",
           "Snohomish"
          ],
          [
           "SR-531 E/O I-5 WB/EB",
           "Snohomish"
          ],
          [
           "SR-531 E/O 43rd WB/EB",
           "Snohomish"
          ],
          [
           "SR-531 W/O 67th WB/EB",
           "Snohomish"
          ],
          [
           "SR-531 E/O 67th WB/EB",
           "Snohomish"
          ],
          [
           "SR-530 @ I-5 WB/EB",
           "Snohomish"
          ],
          [
           "SR-530 E/O Smokey Pt WB/EB",
           "Snohomish"
          ],
          [
           "SR-530 N/O 211th WB/EB",
           "Snohomish"
          ],
          [
           "SR-530 E/O SR-9 WB/EB",
           "Snohomish"
          ],
          [
           "SR-530 W/O Arlington Hts WB/EB",
           "Snohomish"
          ],
          [
           "SR-530 E/O Arlington Hts WB/EB",
           "Snohomish"
          ],
          [
           "SR-530 W/O Jim Creek WB/EB",
           "Snohomish"
          ],
          [
           "SR-530 W/O Ramstad WB/EB",
           "Snohomish"
          ],
          [
           "SR-530 @ Skagit County WB/EB",
           "Snohomish"
          ],
          [
           "SR-203 N/O 203rd NB/SB",
           "Snohomish"
          ],
          [
           "SR-204 @ SR-2 NB/SB",
           "Snohomish"
          ],
          [
           "SR-204 N/O 20th NB/SB",
           "Snohomish"
          ],
          [
           "SR-204 N/O SR-2 NB/SB",
           "Snohomish"
          ],
          [
           "SR-92 E/O Lake WB/EB",
           "Snohomish"
          ],
          [
           "SR-92 E/O Callow WB/EB",
           "Snohomish"
          ],
          [
           "SR-92 E/O Quarry WB/EB",
           "Snohomish"
          ],
          [
           "SR-92 W/O Mountain Loop WB/EB",
           "Snohomish"
          ]
         ],
         "hovertemplate": "Observed=%{x}<br>Model=%{y}<br>location=%{customdata[0]}<br>County=%{customdata[1]}<extra></extra>",
         "legendgroup": "",
         "line": {
          "color": "Grey",
          "width": 2
         },
         "marker": {
          "color": "#91268F",
          "symbol": "circle"
         },
         "mode": "markers",
         "name": "",
         "orientation": "v",
         "showlegend": false,
         "type": "scatter",
         "x": [
          2931,
          2951,
          3252,
          3274,
          3206,
          3377,
          2734,
          3167,
          3043,
          3126,
          2304,
          2316,
          1355,
          1425,
          403,
          274,
          4052,
          4113,
          173,
          48,
          123,
          99,
          92,
          699,
          285,
          653,
          317,
          372,
          169,
          229,
          167,
          82,
          309,
          328,
          59,
          55,
          72,
          8,
          6,
          6,
          76,
          176,
          507,
          891,
          874,
          506,
          420,
          444,
          243,
          192,
          265,
          279,
          44,
          156,
          88,
          49,
          65,
          84,
          825,
          220,
          42,
          62,
          260,
          330,
          18,
          99,
          429,
          697,
          696,
          340,
          182,
          705,
          609,
          464,
          400,
          403,
          383,
          380,
          299,
          47,
          408,
          58,
          55,
          400,
          494,
          448,
          60,
          718
         ],
         "xaxis": "x",
         "y": [
          5061,
          5250,
          6338,
          6213,
          5970,
          5875,
          5891,
          5783,
          5022,
          4978,
          3892,
          3868,
          2251,
          1872,
          834,
          737,
          6858,
          6703,
          102,
          115,
          0,
          2,
          58,
          371,
          283,
          476,
          539,
          128,
          41,
          43,
          59,
          189,
          115,
          115,
          0,
          34,
          34,
          4,
          0,
          4,
          9,
          22,
          181,
          838,
          619,
          1895,
          2008,
          1987,
          1987,
          1882,
          66,
          58,
          2,
          9,
          120,
          60,
          12,
          113,
          23,
          74,
          22,
          4,
          750,
          223,
          0,
          7,
          197,
          1321,
          1262,
          83,
          87,
          113,
          152,
          148,
          133,
          134,
          133,
          133,
          133,
          1,
          546,
          37,
          58,
          286,
          214,
          214,
          0,
          60
         ],
         "yaxis": "y"
        },
        {
         "hovertemplate": "Observed=%{x}<br>Model=%{y}<extra></extra>",
         "legendgroup": "",
         "line": {
          "color": "Grey",
          "dash": "solid",
          "width": 2
         },
         "marker": {
          "symbol": "circle"
         },
         "mode": "lines",
         "name": "",
         "orientation": "v",
         "showlegend": false,
         "type": "scatter",
         "x": [
          0,
          41.54545454545455,
          83.0909090909091,
          124.63636363636364,
          166.1818181818182,
          207.72727272727275,
          249.27272727272728,
          290.8181818181818,
          332.3636363636364,
          373.90909090909093,
          415.4545454545455,
          457,
          498.54545454545456,
          540.0909090909091,
          581.6363636363636,
          623.1818181818182,
          664.7272727272727,
          706.2727272727273,
          747.8181818181819,
          789.3636363636364,
          830.909090909091,
          872.4545454545455,
          914,
          955.5454545454546,
          997.0909090909091,
          1038.6363636363637,
          1080.1818181818182,
          1121.7272727272727,
          1163.2727272727273,
          1204.8181818181818,
          1246.3636363636365,
          1287.909090909091,
          1329.4545454545455,
          1371,
          1412.5454545454545,
          1454.0909090909092,
          1495.6363636363637,
          1537.1818181818182,
          1578.7272727272727,
          1620.2727272727273,
          1661.818181818182,
          1703.3636363636365,
          1744.909090909091,
          1786.4545454545455,
          1828,
          1869.5454545454545,
          1911.0909090909092,
          1952.6363636363637,
          1994.1818181818182,
          2035.7272727272727,
          2077.2727272727275,
          2118.818181818182,
          2160.3636363636365,
          2201.909090909091,
          2243.4545454545455,
          2285,
          2326.5454545454545,
          2368.090909090909,
          2409.6363636363635,
          2451.1818181818185,
          2492.727272727273,
          2534.2727272727275,
          2575.818181818182,
          2617.3636363636365,
          2658.909090909091,
          2700.4545454545455,
          2742,
          2783.5454545454545,
          2825.090909090909,
          2866.6363636363635,
          2908.1818181818185,
          2949.727272727273,
          2991.2727272727275,
          3032.818181818182,
          3074.3636363636365,
          3115.909090909091,
          3157.4545454545455,
          3199,
          3240.5454545454545,
          3282.090909090909,
          3323.636363636364,
          3365.1818181818185,
          3406.727272727273,
          3448.2727272727275,
          3489.818181818182,
          3531.3636363636365,
          3572.909090909091,
          3614.4545454545455,
          3656,
          3697.5454545454545,
          3739.090909090909,
          3780.636363636364,
          3822.1818181818185,
          3863.727272727273,
          3905.2727272727275,
          3946.818181818182,
          3988.3636363636365,
          4029.909090909091,
          4071.4545454545455,
          4113
         ],
         "xaxis": "x",
         "y": [
          -187.11637681622642,
          -112.69681971938266,
          -38.2772626225389,
          36.14229447430486,
          110.56185157114862,
          184.9814086679924,
          259.40096576483614,
          333.8205228616798,
          408.24007995852367,
          482.6596370553674,
          557.0791941522112,
          631.4987512490549,
          705.9183083458987,
          780.3378654427424,
          854.7574225395861,
          929.1769796364299,
          1003.5965367332738,
          1078.0160938301174,
          1152.4356509269612,
          1226.8552080238048,
          1301.274765120649,
          1375.6943222174925,
          1450.1138793143361,
          1524.53343641118,
          1598.9529935080238,
          1673.3725506048677,
          1747.7921077017113,
          1822.211664798555,
          1896.6312218953985,
          1971.0507789922422,
          2045.4703360890862,
          2119.8898931859303,
          2194.309450282774,
          2268.7290073796175,
          2343.148564476461,
          2417.5681215733052,
          2491.987678670149,
          2566.4072357669925,
          2640.826792863836,
          2715.24634996068,
          2789.6659070575242,
          2864.085464154368,
          2938.5050212512115,
          3012.924578348055,
          3087.3441354448987,
          3161.7636925417423,
          3236.1832496385864,
          3310.60280673543,
          3385.022363832274,
          3459.4419209291177,
          3533.861478025962,
          3608.2810351228054,
          3682.700592219649,
          3757.1201493164926,
          3831.5397064133363,
          3905.95926351018,
          3980.3788206070235,
          4054.7983777038676,
          4129.21793480071,
          4203.637491897556,
          4278.057048994398,
          4352.4766060912425,
          4426.896163188087,
          4501.315720284931,
          4575.735277381775,
          4650.154834478617,
          4724.574391575461,
          4798.993948672305,
          4873.413505769149,
          4947.833062865993,
          5022.252619962837,
          5096.672177059681,
          5171.091734156524,
          5245.511291253368,
          5319.930848350212,
          5394.350405447056,
          5468.769962543898,
          5543.189519640742,
          5617.609076737586,
          5692.02863383443,
          5766.448190931274,
          5840.8677480281185,
          5915.287305124963,
          5989.706862221805,
          6064.126419318649,
          6138.545976415493,
          6212.965533512337,
          6287.385090609181,
          6361.804647706023,
          6436.2242048028675,
          6510.6437618997115,
          6585.063318996556,
          6659.4828760934,
          6733.902433190244,
          6808.321990287086,
          6882.74154738393,
          6957.161104480774,
          7031.580661577618,
          7106.000218674462,
          7180.419775771305
         ],
         "yaxis": "y"
        }
       ],
       "layout": {
        "annotations": [
         {
          "align": "right",
          "font": {
           "color": "pink",
           "size": 12
          },
          "showarrow": false,
          "text": "y = x",
          "x": 7200.900000000001,
          "y": 7200.900000000001
         },
         {
          "align": "right",
          "font": {
           "color": "black",
           "size": 12
          },
          "showarrow": false,
          "text": "r^2 = 0.93",
          "x": 4318.650000000001,
          "y": 7539.44076455987
         }
        ],
        "height": 600,
        "legend": {
         "tracegroupgap": 0
        },
        "margin": {
         "b": 100,
         "l": 100,
         "r": 100,
         "t": 100
        },
        "shapes": [
         {
          "line": {
           "color": "Red",
           "dash": "dash",
           "width": 2
          },
          "type": "line",
          "x0": 0,
          "x1": 6858,
          "y0": 0,
          "y1": 6858
         }
        ],
        "template": {
         "data": {
          "bar": [
           {
            "error_x": {
             "color": "rgb(36,36,36)"
            },
            "error_y": {
             "color": "rgb(36,36,36)"
            },
            "marker": {
             "line": {
              "color": "white",
              "width": 0.5
             },
             "pattern": {
              "fillmode": "overlay",
              "size": 10,
              "solidity": 0.2
             }
            },
            "type": "bar"
           }
          ],
          "barpolar": [
           {
            "marker": {
             "line": {
              "color": "white",
              "width": 0.5
             },
             "pattern": {
              "fillmode": "overlay",
              "size": 10,
              "solidity": 0.2
             }
            },
            "type": "barpolar"
           }
          ],
          "carpet": [
           {
            "aaxis": {
             "endlinecolor": "rgb(36,36,36)",
             "gridcolor": "white",
             "linecolor": "white",
             "minorgridcolor": "white",
             "startlinecolor": "rgb(36,36,36)"
            },
            "baxis": {
             "endlinecolor": "rgb(36,36,36)",
             "gridcolor": "white",
             "linecolor": "white",
             "minorgridcolor": "white",
             "startlinecolor": "rgb(36,36,36)"
            },
            "type": "carpet"
           }
          ],
          "choropleth": [
           {
            "colorbar": {
             "outlinewidth": 1,
             "tickcolor": "rgb(36,36,36)",
             "ticks": "outside"
            },
            "type": "choropleth"
           }
          ],
          "contour": [
           {
            "colorbar": {
             "outlinewidth": 1,
             "tickcolor": "rgb(36,36,36)",
             "ticks": "outside"
            },
            "colorscale": [
             [
              0,
              "#440154"
             ],
             [
              0.1111111111111111,
              "#482878"
             ],
             [
              0.2222222222222222,
              "#3e4989"
             ],
             [
              0.3333333333333333,
              "#31688e"
             ],
             [
              0.4444444444444444,
              "#26828e"
             ],
             [
              0.5555555555555556,
              "#1f9e89"
             ],
             [
              0.6666666666666666,
              "#35b779"
             ],
             [
              0.7777777777777778,
              "#6ece58"
             ],
             [
              0.8888888888888888,
              "#b5de2b"
             ],
             [
              1,
              "#fde725"
             ]
            ],
            "type": "contour"
           }
          ],
          "contourcarpet": [
           {
            "colorbar": {
             "outlinewidth": 1,
             "tickcolor": "rgb(36,36,36)",
             "ticks": "outside"
            },
            "type": "contourcarpet"
           }
          ],
          "heatmap": [
           {
            "colorbar": {
             "outlinewidth": 1,
             "tickcolor": "rgb(36,36,36)",
             "ticks": "outside"
            },
            "colorscale": [
             [
              0,
              "#440154"
             ],
             [
              0.1111111111111111,
              "#482878"
             ],
             [
              0.2222222222222222,
              "#3e4989"
             ],
             [
              0.3333333333333333,
              "#31688e"
             ],
             [
              0.4444444444444444,
              "#26828e"
             ],
             [
              0.5555555555555556,
              "#1f9e89"
             ],
             [
              0.6666666666666666,
              "#35b779"
             ],
             [
              0.7777777777777778,
              "#6ece58"
             ],
             [
              0.8888888888888888,
              "#b5de2b"
             ],
             [
              1,
              "#fde725"
             ]
            ],
            "type": "heatmap"
           }
          ],
          "heatmapgl": [
           {
            "colorbar": {
             "outlinewidth": 1,
             "tickcolor": "rgb(36,36,36)",
             "ticks": "outside"
            },
            "colorscale": [
             [
              0,
              "#440154"
             ],
             [
              0.1111111111111111,
              "#482878"
             ],
             [
              0.2222222222222222,
              "#3e4989"
             ],
             [
              0.3333333333333333,
              "#31688e"
             ],
             [
              0.4444444444444444,
              "#26828e"
             ],
             [
              0.5555555555555556,
              "#1f9e89"
             ],
             [
              0.6666666666666666,
              "#35b779"
             ],
             [
              0.7777777777777778,
              "#6ece58"
             ],
             [
              0.8888888888888888,
              "#b5de2b"
             ],
             [
              1,
              "#fde725"
             ]
            ],
            "type": "heatmapgl"
           }
          ],
          "histogram": [
           {
            "marker": {
             "line": {
              "color": "white",
              "width": 0.6
             }
            },
            "type": "histogram"
           }
          ],
          "histogram2d": [
           {
            "colorbar": {
             "outlinewidth": 1,
             "tickcolor": "rgb(36,36,36)",
             "ticks": "outside"
            },
            "colorscale": [
             [
              0,
              "#440154"
             ],
             [
              0.1111111111111111,
              "#482878"
             ],
             [
              0.2222222222222222,
              "#3e4989"
             ],
             [
              0.3333333333333333,
              "#31688e"
             ],
             [
              0.4444444444444444,
              "#26828e"
             ],
             [
              0.5555555555555556,
              "#1f9e89"
             ],
             [
              0.6666666666666666,
              "#35b779"
             ],
             [
              0.7777777777777778,
              "#6ece58"
             ],
             [
              0.8888888888888888,
              "#b5de2b"
             ],
             [
              1,
              "#fde725"
             ]
            ],
            "type": "histogram2d"
           }
          ],
          "histogram2dcontour": [
           {
            "colorbar": {
             "outlinewidth": 1,
             "tickcolor": "rgb(36,36,36)",
             "ticks": "outside"
            },
            "colorscale": [
             [
              0,
              "#440154"
             ],
             [
              0.1111111111111111,
              "#482878"
             ],
             [
              0.2222222222222222,
              "#3e4989"
             ],
             [
              0.3333333333333333,
              "#31688e"
             ],
             [
              0.4444444444444444,
              "#26828e"
             ],
             [
              0.5555555555555556,
              "#1f9e89"
             ],
             [
              0.6666666666666666,
              "#35b779"
             ],
             [
              0.7777777777777778,
              "#6ece58"
             ],
             [
              0.8888888888888888,
              "#b5de2b"
             ],
             [
              1,
              "#fde725"
             ]
            ],
            "type": "histogram2dcontour"
           }
          ],
          "mesh3d": [
           {
            "colorbar": {
             "outlinewidth": 1,
             "tickcolor": "rgb(36,36,36)",
             "ticks": "outside"
            },
            "type": "mesh3d"
           }
          ],
          "parcoords": [
           {
            "line": {
             "colorbar": {
              "outlinewidth": 1,
              "tickcolor": "rgb(36,36,36)",
              "ticks": "outside"
             }
            },
            "type": "parcoords"
           }
          ],
          "pie": [
           {
            "automargin": true,
            "type": "pie"
           }
          ],
          "scatter": [
           {
            "fillpattern": {
             "fillmode": "overlay",
             "size": 10,
             "solidity": 0.2
            },
            "type": "scatter"
           }
          ],
          "scatter3d": [
           {
            "line": {
             "colorbar": {
              "outlinewidth": 1,
              "tickcolor": "rgb(36,36,36)",
              "ticks": "outside"
             }
            },
            "marker": {
             "colorbar": {
              "outlinewidth": 1,
              "tickcolor": "rgb(36,36,36)",
              "ticks": "outside"
             }
            },
            "type": "scatter3d"
           }
          ],
          "scattercarpet": [
           {
            "marker": {
             "colorbar": {
              "outlinewidth": 1,
              "tickcolor": "rgb(36,36,36)",
              "ticks": "outside"
             }
            },
            "type": "scattercarpet"
           }
          ],
          "scattergeo": [
           {
            "marker": {
             "colorbar": {
              "outlinewidth": 1,
              "tickcolor": "rgb(36,36,36)",
              "ticks": "outside"
             }
            },
            "type": "scattergeo"
           }
          ],
          "scattergl": [
           {
            "marker": {
             "colorbar": {
              "outlinewidth": 1,
              "tickcolor": "rgb(36,36,36)",
              "ticks": "outside"
             }
            },
            "type": "scattergl"
           }
          ],
          "scattermapbox": [
           {
            "marker": {
             "colorbar": {
              "outlinewidth": 1,
              "tickcolor": "rgb(36,36,36)",
              "ticks": "outside"
             }
            },
            "type": "scattermapbox"
           }
          ],
          "scatterpolar": [
           {
            "marker": {
             "colorbar": {
              "outlinewidth": 1,
              "tickcolor": "rgb(36,36,36)",
              "ticks": "outside"
             }
            },
            "type": "scatterpolar"
           }
          ],
          "scatterpolargl": [
           {
            "marker": {
             "colorbar": {
              "outlinewidth": 1,
              "tickcolor": "rgb(36,36,36)",
              "ticks": "outside"
             }
            },
            "type": "scatterpolargl"
           }
          ],
          "scatterternary": [
           {
            "marker": {
             "colorbar": {
              "outlinewidth": 1,
              "tickcolor": "rgb(36,36,36)",
              "ticks": "outside"
             }
            },
            "type": "scatterternary"
           }
          ],
          "surface": [
           {
            "colorbar": {
             "outlinewidth": 1,
             "tickcolor": "rgb(36,36,36)",
             "ticks": "outside"
            },
            "colorscale": [
             [
              0,
              "#440154"
             ],
             [
              0.1111111111111111,
              "#482878"
             ],
             [
              0.2222222222222222,
              "#3e4989"
             ],
             [
              0.3333333333333333,
              "#31688e"
             ],
             [
              0.4444444444444444,
              "#26828e"
             ],
             [
              0.5555555555555556,
              "#1f9e89"
             ],
             [
              0.6666666666666666,
              "#35b779"
             ],
             [
              0.7777777777777778,
              "#6ece58"
             ],
             [
              0.8888888888888888,
              "#b5de2b"
             ],
             [
              1,
              "#fde725"
             ]
            ],
            "type": "surface"
           }
          ],
          "table": [
           {
            "cells": {
             "fill": {
              "color": "rgb(237,237,237)"
             },
             "line": {
              "color": "white"
             }
            },
            "header": {
             "fill": {
              "color": "rgb(217,217,217)"
             },
             "line": {
              "color": "white"
             }
            },
            "type": "table"
           }
          ]
         },
         "layout": {
          "annotationdefaults": {
           "arrowhead": 0,
           "arrowwidth": 1
          },
          "autotypenumbers": "strict",
          "coloraxis": {
           "colorbar": {
            "outlinewidth": 1,
            "tickcolor": "rgb(36,36,36)",
            "ticks": "outside"
           }
          },
          "colorscale": {
           "diverging": [
            [
             0,
             "rgb(103,0,31)"
            ],
            [
             0.1,
             "rgb(178,24,43)"
            ],
            [
             0.2,
             "rgb(214,96,77)"
            ],
            [
             0.3,
             "rgb(244,165,130)"
            ],
            [
             0.4,
             "rgb(253,219,199)"
            ],
            [
             0.5,
             "rgb(247,247,247)"
            ],
            [
             0.6,
             "rgb(209,229,240)"
            ],
            [
             0.7,
             "rgb(146,197,222)"
            ],
            [
             0.8,
             "rgb(67,147,195)"
            ],
            [
             0.9,
             "rgb(33,102,172)"
            ],
            [
             1,
             "rgb(5,48,97)"
            ]
           ],
           "sequential": [
            [
             0,
             "#440154"
            ],
            [
             0.1111111111111111,
             "#482878"
            ],
            [
             0.2222222222222222,
             "#3e4989"
            ],
            [
             0.3333333333333333,
             "#31688e"
            ],
            [
             0.4444444444444444,
             "#26828e"
            ],
            [
             0.5555555555555556,
             "#1f9e89"
            ],
            [
             0.6666666666666666,
             "#35b779"
            ],
            [
             0.7777777777777778,
             "#6ece58"
            ],
            [
             0.8888888888888888,
             "#b5de2b"
            ],
            [
             1,
             "#fde725"
            ]
           ],
           "sequentialminus": [
            [
             0,
             "#440154"
            ],
            [
             0.1111111111111111,
             "#482878"
            ],
            [
             0.2222222222222222,
             "#3e4989"
            ],
            [
             0.3333333333333333,
             "#31688e"
            ],
            [
             0.4444444444444444,
             "#26828e"
            ],
            [
             0.5555555555555556,
             "#1f9e89"
            ],
            [
             0.6666666666666666,
             "#35b779"
            ],
            [
             0.7777777777777778,
             "#6ece58"
            ],
            [
             0.8888888888888888,
             "#b5de2b"
            ],
            [
             1,
             "#fde725"
            ]
           ]
          },
          "colorway": [
           "#91268F",
           "#8CC63E",
           "#00A7A0",
           "#F05A28",
           "#4C4C4C",
           "#630460",
           "#9f3913",
           "#588527",
           "#00716c",
           "#3e4040"
          ],
          "font": {
           "color": "rgb(36,36,36)",
           "family": "Poppins",
           "size": 11
          },
          "geo": {
           "bgcolor": "white",
           "lakecolor": "white",
           "landcolor": "white",
           "showlakes": true,
           "showland": true,
           "subunitcolor": "white"
          },
          "hoverlabel": {
           "align": "left"
          },
          "hovermode": "closest",
          "mapbox": {
           "style": "light"
          },
          "paper_bgcolor": "white",
          "plot_bgcolor": "white",
          "polar": {
           "angularaxis": {
            "gridcolor": "rgb(232,232,232)",
            "linecolor": "rgb(36,36,36)",
            "showgrid": false,
            "showline": true,
            "ticks": "outside"
           },
           "bgcolor": "white",
           "radialaxis": {
            "gridcolor": "rgb(232,232,232)",
            "linecolor": "rgb(36,36,36)",
            "showgrid": false,
            "showline": true,
            "ticks": "outside"
           }
          },
          "scene": {
           "xaxis": {
            "backgroundcolor": "white",
            "gridcolor": "rgb(232,232,232)",
            "gridwidth": 2,
            "linecolor": "rgb(36,36,36)",
            "showbackground": true,
            "showgrid": false,
            "showline": true,
            "ticks": "outside",
            "zeroline": false,
            "zerolinecolor": "rgb(36,36,36)"
           },
           "yaxis": {
            "backgroundcolor": "white",
            "gridcolor": "rgb(232,232,232)",
            "gridwidth": 2,
            "linecolor": "rgb(36,36,36)",
            "showbackground": true,
            "showgrid": false,
            "showline": true,
            "ticks": "outside",
            "zeroline": false,
            "zerolinecolor": "rgb(36,36,36)"
           },
           "zaxis": {
            "backgroundcolor": "white",
            "gridcolor": "rgb(232,232,232)",
            "gridwidth": 2,
            "linecolor": "rgb(36,36,36)",
            "showbackground": true,
            "showgrid": false,
            "showline": true,
            "ticks": "outside",
            "zeroline": false,
            "zerolinecolor": "rgb(36,36,36)"
           }
          },
          "shapedefaults": {
           "fillcolor": "black",
           "line": {
            "width": 0
           },
           "opacity": 0.3
          },
          "ternary": {
           "aaxis": {
            "gridcolor": "rgb(232,232,232)",
            "linecolor": "rgb(36,36,36)",
            "showgrid": false,
            "showline": true,
            "ticks": "outside"
           },
           "baxis": {
            "gridcolor": "rgb(232,232,232)",
            "linecolor": "rgb(36,36,36)",
            "showgrid": false,
            "showline": true,
            "ticks": "outside"
           },
           "bgcolor": "white",
           "caxis": {
            "gridcolor": "rgb(232,232,232)",
            "linecolor": "rgb(36,36,36)",
            "showgrid": false,
            "showline": true,
            "ticks": "outside"
           }
          },
          "title": {
           "x": 0.05
          },
          "xaxis": {
           "automargin": true,
           "gridcolor": "rgb(232,232,232)",
           "linecolor": "rgb(36,36,36)",
           "showgrid": false,
           "showline": true,
           "ticks": "outside",
           "title": {
            "standoff": 15
           },
           "zeroline": false,
           "zerolinecolor": "rgb(36,36,36)"
          },
          "yaxis": {
           "automargin": true,
           "gridcolor": "rgb(232,232,232)",
           "linecolor": "rgb(36,36,36)",
           "showgrid": false,
           "showline": true,
           "ticks": "outside",
           "title": {
            "standoff": 15
           },
           "zeroline": false,
           "zerolinecolor": "rgb(36,36,36)"
          }
         }
        },
        "title": {
         "text": "Heavy Trucks: Snohomish"
        },
        "width": 800,
        "xaxis": {
         "anchor": "y",
         "domain": [
          0,
          1
         ],
         "title": {
          "text": "Observed"
         }
        },
        "yaxis": {
         "anchor": "x",
         "domain": [
          0,
          1
         ],
         "title": {
          "text": "Model"
         }
        }
       }
      },
      "text/html": [
       "<div>                            <div id=\"b6ffa4bb-49ca-43c5-86df-ef9f44915831\" class=\"plotly-graph-div\" style=\"height:600px; width:800px;\"></div>            <script type=\"text/javascript\">                require([\"plotly\"], function(Plotly) {                    window.PLOTLYENV=window.PLOTLYENV || {};                                    if (document.getElementById(\"b6ffa4bb-49ca-43c5-86df-ef9f44915831\")) {                    Plotly.newPlot(                        \"b6ffa4bb-49ca-43c5-86df-ef9f44915831\",                        [{\"customdata\":[[\"I-5 @ 44th NB\",\"Snohomish\"],[\"I-5 @ 44th SB\",\"Snohomish\"],[\"I-5 N\\u002fO 164th NB\",\"Snohomish\"],[\"I-5 N\\u002fO 164th SB\",\"Snohomish\"],[\"I-5 N\\u002fO SR-526 NB\",\"Snohomish\"],[\"I-5 N\\u002fO SR-526 SB\",\"Snohomish\"],[\"I-5 N\\u002fO 41st NB\",\"Snohomish\"],[\"I-5 N\\u002fO 41st SB\",\"Snohomish\"],[\"I-5 @ SR-528 NB\",\"Snohomish\"],[\"I-5 @ SR-528 SB\",\"Snohomish\"],[\"I-5 N\\u002fO SR-531 NB\",\"Snohomish\"],[\"I-5 N\\u002fO SR-531 SB\",\"Snohomish\"],[\"I-405 N\\u002fO SR-527 NB\",\"Snohomish\"],[\"I-405 N\\u002fO SR-527 SB\",\"Snohomish\"],[\"SR-525 N\\u002fO I-5 NB\",\"Snohomish\"],[\"SR-525 N\\u002fO I-5 SB\",\"Snohomish\"],[\"I-5 @ SR-532 NB\\u002fSB\",\"Snohomish\"],[\"I-5 @ Skagit border NB\\u002fSB\",\"Snohomish\"],[\"SR-525 N\\u002fO SR-526 NB\\u002fSB\",\"Snohomish\"],[\"SR-525 N\\u002fO 5th NB\\u002fSB\",\"Snohomish\"],[\"SR-99 E\\u002fO Evergreen NB\\u002fSB\",\"Snohomish\"],[\"SR-526 W\\u002fO Paine Field Blvd WB\\u002fEB\",\"Snohomish\"],[\"SR-526 E\\u002fO Paine Field Blvd WB\\u002fEB\",\"Snohomish\"],[\"SR-9 @ SR-522 NB\\u002fSB\",\"Snohomish\"],[\"SR-9 N\\u002fO SR-2 NB\\u002fSB\",\"Snohomish\"],[\"SR-9 N\\u002fO SR-204 NB\\u002fSB\",\"Snohomish\"],[\"SR-9 N\\u002fO SR-92 NB\\u002fSB\",\"Snohomish\"],[\"SR-9 N\\u002fO 132nd NB\\u002fSB\",\"Snohomish\"],[\"SR-9 N\\u002fO SR-531 NB\\u002fSB\",\"Snohomish\"],[\"SR-9 S\\u002fO 67th NB\\u002fSB\",\"Snohomish\"],[\"SR-9 N\\u002fO Kackman NB\\u002fSB\",\"Snohomish\"],[\"SR-9 N\\u002fO Stanwood-Bryant NB\\u002fSB\",\"Snohomish\"],[\"SR-532 @ Island County WB\\u002fEB\",\"Snohomish\"],[\"SR-532 W\\u002fO 28th WB\\u002fEB\",\"Snohomish\"],[\"SR-104 @ Ferry Loading Edm WB\\u002fEB\",\"Snohomish\"],[\"SR-104 N\\u002fO Pine WB\\u002fEB\",\"Snohomish\"],[\"SR-104 E\\u002fO 5th WB\\u002fEB\",\"Snohomish\"],[\"SR-524 W\\u002fO 3rd WB\\u002fEB\",\"Snohomish\"],[\"SR-524 S\\u002fO Main WB\\u002fEB\",\"Snohomish\"],[\"SR-524 N\\u002fO Main WB\\u002fEB\",\"Snohomish\"],[\"SR-524 E\\u002fO 68th WB\\u002fEB\",\"Snohomish\"],[\"SR-524 E\\u002fO 39th WB\\u002fEB\",\"Snohomish\"],[\"SR-524 N\\u002fO Paradise Lake WB\\u002fEB\",\"Snohomish\"],[\"SR-2 E\\u002fO I-5 WB\\u002fEB\",\"Snohomish\"],[\"SR-2 S\\u002fO SR-204 WB\\u002fEB\",\"Snohomish\"],[\"SR-2 E\\u002fO Main WB\\u002fEB\",\"Snohomish\"],[\"SR-2 E\\u002fO Rice WB\\u002fEB\",\"Snohomish\"],[\"SR-2 E\\u002fO 10th (Gold Bar) WB\\u002fEB\",\"Snohomish\"],[\"SR-2 W\\u002fO Index-Galena WB\\u002fEB\",\"Snohomish\"],[\"SR-2 E\\u002fO Index-Galena WB\\u002fEB\",\"Snohomish\"],[\"SR-527 N\\u002fO I-405 NB\\u002fSB\",\"Snohomish\"],[\"SR-527 N\\u002fO 196th NB\\u002fSB\",\"Snohomish\"],[\"SR-527 N\\u002fO Dumas NB\\u002fSB\",\"Snohomish\"],[\"SR-527 N\\u002fO 100th NB\\u002fSB\",\"Snohomish\"],[\"SR-529 @ I-5 (Evt) NB\\u002fSB\",\"Snohomish\"],[\"SR-529 S\\u002fO Everett NB\\u002fSB\",\"Snohomish\"],[\"SR-529 W\\u002fO Maple NB\\u002fSB\",\"Snohomish\"],[\"SR-529 N\\u002fO Everett NB\\u002fSB\",\"Snohomish\"],[\"SR-529 N\\u002fO Broadway NB\\u002fSB\",\"Snohomish\"],[\"SR-96 @ I-5 WB\\u002fEB\",\"Snohomish\"],[\"SR-96 N\\u002fO 132nd WB\\u002fEB\",\"Snohomish\"],[\"SR-96 E\\u002fO Seattle Hill WB\\u002fEB\",\"Snohomish\"],[\"SR-528 @ I-5 WB\\u002fEB\",\"Snohomish\"],[\"SR-528 E\\u002fO SR-529 WB\\u002fEB\",\"Snohomish\"],[\"SR-531 N\\u002fO Rose WB\\u002fEB\",\"Snohomish\"],[\"SR-531 E\\u002fO Lk Goodwin WB\\u002fEB\",\"Snohomish\"],[\"SR-531 E\\u002fO 27th WB\\u002fEB\",\"Snohomish\"],[\"SR-531 E\\u002fO I-5 WB\\u002fEB\",\"Snohomish\"],[\"SR-531 E\\u002fO 43rd WB\\u002fEB\",\"Snohomish\"],[\"SR-531 W\\u002fO 67th WB\\u002fEB\",\"Snohomish\"],[\"SR-531 E\\u002fO 67th WB\\u002fEB\",\"Snohomish\"],[\"SR-530 @ I-5 WB\\u002fEB\",\"Snohomish\"],[\"SR-530 E\\u002fO Smokey Pt WB\\u002fEB\",\"Snohomish\"],[\"SR-530 N\\u002fO 211th WB\\u002fEB\",\"Snohomish\"],[\"SR-530 E\\u002fO SR-9 WB\\u002fEB\",\"Snohomish\"],[\"SR-530 W\\u002fO Arlington Hts WB\\u002fEB\",\"Snohomish\"],[\"SR-530 E\\u002fO Arlington Hts WB\\u002fEB\",\"Snohomish\"],[\"SR-530 W\\u002fO Jim Creek WB\\u002fEB\",\"Snohomish\"],[\"SR-530 W\\u002fO Ramstad WB\\u002fEB\",\"Snohomish\"],[\"SR-530 @ Skagit County WB\\u002fEB\",\"Snohomish\"],[\"SR-203 N\\u002fO 203rd NB\\u002fSB\",\"Snohomish\"],[\"SR-204 @ SR-2 NB\\u002fSB\",\"Snohomish\"],[\"SR-204 N\\u002fO 20th NB\\u002fSB\",\"Snohomish\"],[\"SR-204 N\\u002fO SR-2 NB\\u002fSB\",\"Snohomish\"],[\"SR-92 E\\u002fO Lake WB\\u002fEB\",\"Snohomish\"],[\"SR-92 E\\u002fO Callow WB\\u002fEB\",\"Snohomish\"],[\"SR-92 E\\u002fO Quarry WB\\u002fEB\",\"Snohomish\"],[\"SR-92 W\\u002fO Mountain Loop WB\\u002fEB\",\"Snohomish\"]],\"hovertemplate\":\"Observed=%{x}\\u003cbr\\u003eModel=%{y}\\u003cbr\\u003elocation=%{customdata[0]}\\u003cbr\\u003eCounty=%{customdata[1]}\\u003cextra\\u003e\\u003c\\u002fextra\\u003e\",\"legendgroup\":\"\",\"marker\":{\"color\":\"#91268F\",\"symbol\":\"circle\"},\"mode\":\"markers\",\"name\":\"\",\"orientation\":\"v\",\"showlegend\":false,\"x\":[2931,2951,3252,3274,3206,3377,2734,3167,3043,3126,2304,2316,1355,1425,403,274,4052,4113,173,48,123,99,92,699,285,653,317,372,169,229,167,82,309,328,59,55,72,8,6,6,76,176,507,891,874,506,420,444,243,192,265,279,44,156,88,49,65,84,825,220,42,62,260,330,18,99,429,697,696,340,182,705,609,464,400,403,383,380,299,47,408,58,55,400,494,448,60,718],\"xaxis\":\"x\",\"y\":[5061,5250,6338,6213,5970,5875,5891,5783,5022,4978,3892,3868,2251,1872,834,737,6858,6703,102,115,0,2,58,371,283,476,539,128,41,43,59,189,115,115,0,34,34,4,0,4,9,22,181,838,619,1895,2008,1987,1987,1882,66,58,2,9,120,60,12,113,23,74,22,4,750,223,0,7,197,1321,1262,83,87,113,152,148,133,134,133,133,133,1,546,37,58,286,214,214,0,60],\"yaxis\":\"y\",\"type\":\"scatter\",\"line\":{\"color\":\"Grey\",\"width\":2}},{\"hovertemplate\":\"Observed=%{x}\\u003cbr\\u003eModel=%{y}\\u003cextra\\u003e\\u003c\\u002fextra\\u003e\",\"legendgroup\":\"\",\"line\":{\"color\":\"Grey\",\"dash\":\"solid\",\"width\":2},\"marker\":{\"symbol\":\"circle\"},\"mode\":\"lines\",\"name\":\"\",\"orientation\":\"v\",\"showlegend\":false,\"x\":[0.0,41.54545454545455,83.0909090909091,124.63636363636364,166.1818181818182,207.72727272727275,249.27272727272728,290.8181818181818,332.3636363636364,373.90909090909093,415.4545454545455,457.0,498.54545454545456,540.0909090909091,581.6363636363636,623.1818181818182,664.7272727272727,706.2727272727273,747.8181818181819,789.3636363636364,830.909090909091,872.4545454545455,914.0,955.5454545454546,997.0909090909091,1038.6363636363637,1080.1818181818182,1121.7272727272727,1163.2727272727273,1204.8181818181818,1246.3636363636365,1287.909090909091,1329.4545454545455,1371.0,1412.5454545454545,1454.0909090909092,1495.6363636363637,1537.1818181818182,1578.7272727272727,1620.2727272727273,1661.818181818182,1703.3636363636365,1744.909090909091,1786.4545454545455,1828.0,1869.5454545454545,1911.0909090909092,1952.6363636363637,1994.1818181818182,2035.7272727272727,2077.2727272727275,2118.818181818182,2160.3636363636365,2201.909090909091,2243.4545454545455,2285.0,2326.5454545454545,2368.090909090909,2409.6363636363635,2451.1818181818185,2492.727272727273,2534.2727272727275,2575.818181818182,2617.3636363636365,2658.909090909091,2700.4545454545455,2742.0,2783.5454545454545,2825.090909090909,2866.6363636363635,2908.1818181818185,2949.727272727273,2991.2727272727275,3032.818181818182,3074.3636363636365,3115.909090909091,3157.4545454545455,3199.0,3240.5454545454545,3282.090909090909,3323.636363636364,3365.1818181818185,3406.727272727273,3448.2727272727275,3489.818181818182,3531.3636363636365,3572.909090909091,3614.4545454545455,3656.0,3697.5454545454545,3739.090909090909,3780.636363636364,3822.1818181818185,3863.727272727273,3905.2727272727275,3946.818181818182,3988.3636363636365,4029.909090909091,4071.4545454545455,4113.0],\"xaxis\":\"x\",\"y\":[-187.11637681622642,-112.69681971938266,-38.2772626225389,36.14229447430486,110.56185157114862,184.9814086679924,259.40096576483614,333.8205228616798,408.24007995852367,482.6596370553674,557.0791941522112,631.4987512490549,705.9183083458987,780.3378654427424,854.7574225395861,929.1769796364299,1003.5965367332738,1078.0160938301174,1152.4356509269612,1226.8552080238048,1301.274765120649,1375.6943222174925,1450.1138793143361,1524.53343641118,1598.9529935080238,1673.3725506048677,1747.7921077017113,1822.211664798555,1896.6312218953985,1971.0507789922422,2045.4703360890862,2119.8898931859303,2194.309450282774,2268.7290073796175,2343.148564476461,2417.5681215733052,2491.987678670149,2566.4072357669925,2640.826792863836,2715.24634996068,2789.6659070575242,2864.085464154368,2938.5050212512115,3012.924578348055,3087.3441354448987,3161.7636925417423,3236.1832496385864,3310.60280673543,3385.022363832274,3459.4419209291177,3533.861478025962,3608.2810351228054,3682.700592219649,3757.1201493164926,3831.5397064133363,3905.95926351018,3980.3788206070235,4054.7983777038676,4129.21793480071,4203.637491897556,4278.057048994398,4352.4766060912425,4426.896163188087,4501.315720284931,4575.735277381775,4650.154834478617,4724.574391575461,4798.993948672305,4873.413505769149,4947.833062865993,5022.252619962837,5096.672177059681,5171.091734156524,5245.511291253368,5319.930848350212,5394.350405447056,5468.769962543898,5543.189519640742,5617.609076737586,5692.02863383443,5766.448190931274,5840.8677480281185,5915.287305124963,5989.706862221805,6064.126419318649,6138.545976415493,6212.965533512337,6287.385090609181,6361.804647706023,6436.2242048028675,6510.6437618997115,6585.063318996556,6659.4828760934,6733.902433190244,6808.321990287086,6882.74154738393,6957.161104480774,7031.580661577618,7106.000218674462,7180.419775771305],\"yaxis\":\"y\",\"type\":\"scatter\"}],                        {\"template\":{\"data\":{\"barpolar\":[{\"marker\":{\"line\":{\"color\":\"white\",\"width\":0.5},\"pattern\":{\"fillmode\":\"overlay\",\"size\":10,\"solidity\":0.2}},\"type\":\"barpolar\"}],\"bar\":[{\"error_x\":{\"color\":\"rgb(36,36,36)\"},\"error_y\":{\"color\":\"rgb(36,36,36)\"},\"marker\":{\"line\":{\"color\":\"white\",\"width\":0.5},\"pattern\":{\"fillmode\":\"overlay\",\"size\":10,\"solidity\":0.2}},\"type\":\"bar\"}],\"carpet\":[{\"aaxis\":{\"endlinecolor\":\"rgb(36,36,36)\",\"gridcolor\":\"white\",\"linecolor\":\"white\",\"minorgridcolor\":\"white\",\"startlinecolor\":\"rgb(36,36,36)\"},\"baxis\":{\"endlinecolor\":\"rgb(36,36,36)\",\"gridcolor\":\"white\",\"linecolor\":\"white\",\"minorgridcolor\":\"white\",\"startlinecolor\":\"rgb(36,36,36)\"},\"type\":\"carpet\"}],\"choropleth\":[{\"colorbar\":{\"outlinewidth\":1,\"tickcolor\":\"rgb(36,36,36)\",\"ticks\":\"outside\"},\"type\":\"choropleth\"}],\"contourcarpet\":[{\"colorbar\":{\"outlinewidth\":1,\"tickcolor\":\"rgb(36,36,36)\",\"ticks\":\"outside\"},\"type\":\"contourcarpet\"}],\"contour\":[{\"colorbar\":{\"outlinewidth\":1,\"tickcolor\":\"rgb(36,36,36)\",\"ticks\":\"outside\"},\"colorscale\":[[0.0,\"#440154\"],[0.1111111111111111,\"#482878\"],[0.2222222222222222,\"#3e4989\"],[0.3333333333333333,\"#31688e\"],[0.4444444444444444,\"#26828e\"],[0.5555555555555556,\"#1f9e89\"],[0.6666666666666666,\"#35b779\"],[0.7777777777777778,\"#6ece58\"],[0.8888888888888888,\"#b5de2b\"],[1.0,\"#fde725\"]],\"type\":\"contour\"}],\"heatmapgl\":[{\"colorbar\":{\"outlinewidth\":1,\"tickcolor\":\"rgb(36,36,36)\",\"ticks\":\"outside\"},\"colorscale\":[[0.0,\"#440154\"],[0.1111111111111111,\"#482878\"],[0.2222222222222222,\"#3e4989\"],[0.3333333333333333,\"#31688e\"],[0.4444444444444444,\"#26828e\"],[0.5555555555555556,\"#1f9e89\"],[0.6666666666666666,\"#35b779\"],[0.7777777777777778,\"#6ece58\"],[0.8888888888888888,\"#b5de2b\"],[1.0,\"#fde725\"]],\"type\":\"heatmapgl\"}],\"heatmap\":[{\"colorbar\":{\"outlinewidth\":1,\"tickcolor\":\"rgb(36,36,36)\",\"ticks\":\"outside\"},\"colorscale\":[[0.0,\"#440154\"],[0.1111111111111111,\"#482878\"],[0.2222222222222222,\"#3e4989\"],[0.3333333333333333,\"#31688e\"],[0.4444444444444444,\"#26828e\"],[0.5555555555555556,\"#1f9e89\"],[0.6666666666666666,\"#35b779\"],[0.7777777777777778,\"#6ece58\"],[0.8888888888888888,\"#b5de2b\"],[1.0,\"#fde725\"]],\"type\":\"heatmap\"}],\"histogram2dcontour\":[{\"colorbar\":{\"outlinewidth\":1,\"tickcolor\":\"rgb(36,36,36)\",\"ticks\":\"outside\"},\"colorscale\":[[0.0,\"#440154\"],[0.1111111111111111,\"#482878\"],[0.2222222222222222,\"#3e4989\"],[0.3333333333333333,\"#31688e\"],[0.4444444444444444,\"#26828e\"],[0.5555555555555556,\"#1f9e89\"],[0.6666666666666666,\"#35b779\"],[0.7777777777777778,\"#6ece58\"],[0.8888888888888888,\"#b5de2b\"],[1.0,\"#fde725\"]],\"type\":\"histogram2dcontour\"}],\"histogram2d\":[{\"colorbar\":{\"outlinewidth\":1,\"tickcolor\":\"rgb(36,36,36)\",\"ticks\":\"outside\"},\"colorscale\":[[0.0,\"#440154\"],[0.1111111111111111,\"#482878\"],[0.2222222222222222,\"#3e4989\"],[0.3333333333333333,\"#31688e\"],[0.4444444444444444,\"#26828e\"],[0.5555555555555556,\"#1f9e89\"],[0.6666666666666666,\"#35b779\"],[0.7777777777777778,\"#6ece58\"],[0.8888888888888888,\"#b5de2b\"],[1.0,\"#fde725\"]],\"type\":\"histogram2d\"}],\"histogram\":[{\"marker\":{\"line\":{\"color\":\"white\",\"width\":0.6}},\"type\":\"histogram\"}],\"mesh3d\":[{\"colorbar\":{\"outlinewidth\":1,\"tickcolor\":\"rgb(36,36,36)\",\"ticks\":\"outside\"},\"type\":\"mesh3d\"}],\"parcoords\":[{\"line\":{\"colorbar\":{\"outlinewidth\":1,\"tickcolor\":\"rgb(36,36,36)\",\"ticks\":\"outside\"}},\"type\":\"parcoords\"}],\"pie\":[{\"automargin\":true,\"type\":\"pie\"}],\"scatter3d\":[{\"line\":{\"colorbar\":{\"outlinewidth\":1,\"tickcolor\":\"rgb(36,36,36)\",\"ticks\":\"outside\"}},\"marker\":{\"colorbar\":{\"outlinewidth\":1,\"tickcolor\":\"rgb(36,36,36)\",\"ticks\":\"outside\"}},\"type\":\"scatter3d\"}],\"scattercarpet\":[{\"marker\":{\"colorbar\":{\"outlinewidth\":1,\"tickcolor\":\"rgb(36,36,36)\",\"ticks\":\"outside\"}},\"type\":\"scattercarpet\"}],\"scattergeo\":[{\"marker\":{\"colorbar\":{\"outlinewidth\":1,\"tickcolor\":\"rgb(36,36,36)\",\"ticks\":\"outside\"}},\"type\":\"scattergeo\"}],\"scattergl\":[{\"marker\":{\"colorbar\":{\"outlinewidth\":1,\"tickcolor\":\"rgb(36,36,36)\",\"ticks\":\"outside\"}},\"type\":\"scattergl\"}],\"scattermapbox\":[{\"marker\":{\"colorbar\":{\"outlinewidth\":1,\"tickcolor\":\"rgb(36,36,36)\",\"ticks\":\"outside\"}},\"type\":\"scattermapbox\"}],\"scatterpolargl\":[{\"marker\":{\"colorbar\":{\"outlinewidth\":1,\"tickcolor\":\"rgb(36,36,36)\",\"ticks\":\"outside\"}},\"type\":\"scatterpolargl\"}],\"scatterpolar\":[{\"marker\":{\"colorbar\":{\"outlinewidth\":1,\"tickcolor\":\"rgb(36,36,36)\",\"ticks\":\"outside\"}},\"type\":\"scatterpolar\"}],\"scatter\":[{\"fillpattern\":{\"fillmode\":\"overlay\",\"size\":10,\"solidity\":0.2},\"type\":\"scatter\"}],\"scatterternary\":[{\"marker\":{\"colorbar\":{\"outlinewidth\":1,\"tickcolor\":\"rgb(36,36,36)\",\"ticks\":\"outside\"}},\"type\":\"scatterternary\"}],\"surface\":[{\"colorbar\":{\"outlinewidth\":1,\"tickcolor\":\"rgb(36,36,36)\",\"ticks\":\"outside\"},\"colorscale\":[[0.0,\"#440154\"],[0.1111111111111111,\"#482878\"],[0.2222222222222222,\"#3e4989\"],[0.3333333333333333,\"#31688e\"],[0.4444444444444444,\"#26828e\"],[0.5555555555555556,\"#1f9e89\"],[0.6666666666666666,\"#35b779\"],[0.7777777777777778,\"#6ece58\"],[0.8888888888888888,\"#b5de2b\"],[1.0,\"#fde725\"]],\"type\":\"surface\"}],\"table\":[{\"cells\":{\"fill\":{\"color\":\"rgb(237,237,237)\"},\"line\":{\"color\":\"white\"}},\"header\":{\"fill\":{\"color\":\"rgb(217,217,217)\"},\"line\":{\"color\":\"white\"}},\"type\":\"table\"}]},\"layout\":{\"annotationdefaults\":{\"arrowhead\":0,\"arrowwidth\":1},\"autotypenumbers\":\"strict\",\"coloraxis\":{\"colorbar\":{\"outlinewidth\":1,\"tickcolor\":\"rgb(36,36,36)\",\"ticks\":\"outside\"}},\"colorscale\":{\"diverging\":[[0.0,\"rgb(103,0,31)\"],[0.1,\"rgb(178,24,43)\"],[0.2,\"rgb(214,96,77)\"],[0.3,\"rgb(244,165,130)\"],[0.4,\"rgb(253,219,199)\"],[0.5,\"rgb(247,247,247)\"],[0.6,\"rgb(209,229,240)\"],[0.7,\"rgb(146,197,222)\"],[0.8,\"rgb(67,147,195)\"],[0.9,\"rgb(33,102,172)\"],[1.0,\"rgb(5,48,97)\"]],\"sequential\":[[0.0,\"#440154\"],[0.1111111111111111,\"#482878\"],[0.2222222222222222,\"#3e4989\"],[0.3333333333333333,\"#31688e\"],[0.4444444444444444,\"#26828e\"],[0.5555555555555556,\"#1f9e89\"],[0.6666666666666666,\"#35b779\"],[0.7777777777777778,\"#6ece58\"],[0.8888888888888888,\"#b5de2b\"],[1.0,\"#fde725\"]],\"sequentialminus\":[[0.0,\"#440154\"],[0.1111111111111111,\"#482878\"],[0.2222222222222222,\"#3e4989\"],[0.3333333333333333,\"#31688e\"],[0.4444444444444444,\"#26828e\"],[0.5555555555555556,\"#1f9e89\"],[0.6666666666666666,\"#35b779\"],[0.7777777777777778,\"#6ece58\"],[0.8888888888888888,\"#b5de2b\"],[1.0,\"#fde725\"]]},\"colorway\":[\"#91268F\",\"#8CC63E\",\"#00A7A0\",\"#F05A28\",\"#4C4C4C\",\"#630460\",\"#9f3913\",\"#588527\",\"#00716c\",\"#3e4040\"],\"font\":{\"color\":\"rgb(36,36,36)\",\"family\":\"Poppins\",\"size\":11},\"geo\":{\"bgcolor\":\"white\",\"lakecolor\":\"white\",\"landcolor\":\"white\",\"showlakes\":true,\"showland\":true,\"subunitcolor\":\"white\"},\"hoverlabel\":{\"align\":\"left\"},\"hovermode\":\"closest\",\"mapbox\":{\"style\":\"light\"},\"paper_bgcolor\":\"white\",\"plot_bgcolor\":\"white\",\"polar\":{\"angularaxis\":{\"gridcolor\":\"rgb(232,232,232)\",\"linecolor\":\"rgb(36,36,36)\",\"showgrid\":false,\"showline\":true,\"ticks\":\"outside\"},\"bgcolor\":\"white\",\"radialaxis\":{\"gridcolor\":\"rgb(232,232,232)\",\"linecolor\":\"rgb(36,36,36)\",\"showgrid\":false,\"showline\":true,\"ticks\":\"outside\"}},\"scene\":{\"xaxis\":{\"backgroundcolor\":\"white\",\"gridcolor\":\"rgb(232,232,232)\",\"gridwidth\":2,\"linecolor\":\"rgb(36,36,36)\",\"showbackground\":true,\"showgrid\":false,\"showline\":true,\"ticks\":\"outside\",\"zeroline\":false,\"zerolinecolor\":\"rgb(36,36,36)\"},\"yaxis\":{\"backgroundcolor\":\"white\",\"gridcolor\":\"rgb(232,232,232)\",\"gridwidth\":2,\"linecolor\":\"rgb(36,36,36)\",\"showbackground\":true,\"showgrid\":false,\"showline\":true,\"ticks\":\"outside\",\"zeroline\":false,\"zerolinecolor\":\"rgb(36,36,36)\"},\"zaxis\":{\"backgroundcolor\":\"white\",\"gridcolor\":\"rgb(232,232,232)\",\"gridwidth\":2,\"linecolor\":\"rgb(36,36,36)\",\"showbackground\":true,\"showgrid\":false,\"showline\":true,\"ticks\":\"outside\",\"zeroline\":false,\"zerolinecolor\":\"rgb(36,36,36)\"}},\"shapedefaults\":{\"fillcolor\":\"black\",\"line\":{\"width\":0},\"opacity\":0.3},\"ternary\":{\"aaxis\":{\"gridcolor\":\"rgb(232,232,232)\",\"linecolor\":\"rgb(36,36,36)\",\"showgrid\":false,\"showline\":true,\"ticks\":\"outside\"},\"baxis\":{\"gridcolor\":\"rgb(232,232,232)\",\"linecolor\":\"rgb(36,36,36)\",\"showgrid\":false,\"showline\":true,\"ticks\":\"outside\"},\"bgcolor\":\"white\",\"caxis\":{\"gridcolor\":\"rgb(232,232,232)\",\"linecolor\":\"rgb(36,36,36)\",\"showgrid\":false,\"showline\":true,\"ticks\":\"outside\"}},\"title\":{\"x\":0.05},\"xaxis\":{\"automargin\":true,\"gridcolor\":\"rgb(232,232,232)\",\"linecolor\":\"rgb(36,36,36)\",\"showgrid\":false,\"showline\":true,\"ticks\":\"outside\",\"title\":{\"standoff\":15},\"zeroline\":false,\"zerolinecolor\":\"rgb(36,36,36)\"},\"yaxis\":{\"automargin\":true,\"gridcolor\":\"rgb(232,232,232)\",\"linecolor\":\"rgb(36,36,36)\",\"showgrid\":false,\"showline\":true,\"ticks\":\"outside\",\"title\":{\"standoff\":15},\"zeroline\":false,\"zerolinecolor\":\"rgb(36,36,36)\"}}},\"xaxis\":{\"anchor\":\"y\",\"domain\":[0.0,1.0],\"title\":{\"text\":\"Observed\"}},\"yaxis\":{\"anchor\":\"x\",\"domain\":[0.0,1.0],\"title\":{\"text\":\"Model\"}},\"legend\":{\"tracegroupgap\":0},\"title\":{\"text\":\"Heavy Trucks: Snohomish\"},\"margin\":{\"l\":100,\"r\":100,\"t\":100,\"b\":100},\"height\":600,\"width\":800,\"shapes\":[{\"line\":{\"color\":\"Red\",\"dash\":\"dash\",\"width\":2},\"type\":\"line\",\"x0\":0,\"x1\":6858,\"y0\":0,\"y1\":6858}],\"annotations\":[{\"align\":\"right\",\"font\":{\"color\":\"pink\",\"size\":12},\"showarrow\":false,\"text\":\"y = x\",\"x\":7200.900000000001,\"y\":7200.900000000001},{\"align\":\"right\",\"font\":{\"color\":\"black\",\"size\":12},\"showarrow\":false,\"text\":\"r^2 = 0.93\",\"x\":4318.650000000001,\"y\":7539.44076455987}]},                        {\"responsive\": true}                    ).then(function(){\n",
       "                            \n",
       "var gd = document.getElementById('b6ffa4bb-49ca-43c5-86df-ef9f44915831');\n",
       "var x = new MutationObserver(function (mutations, observer) {{\n",
       "        var display = window.getComputedStyle(gd).display;\n",
       "        if (!display || display === 'none') {{\n",
       "            console.log([gd, 'removed!']);\n",
       "            Plotly.purge(gd);\n",
       "            observer.disconnect();\n",
       "        }}\n",
       "}});\n",
       "\n",
       "// Listen for the removal of the full notebook cells\n",
       "var notebookContainer = gd.closest('#notebook-container');\n",
       "if (notebookContainer) {{\n",
       "    x.observe(notebookContainer, {childList: true});\n",
       "}}\n",
       "\n",
       "// Listen for the clearing of the current output cell\n",
       "var outputEl = gd.closest('.output');\n",
       "if (outputEl) {{\n",
       "    x.observe(outputEl, {childList: true});\n",
       "}}\n",
       "\n",
       "                        })                };                });            </script>        </div>"
      ]
     },
     "metadata": {},
     "output_type": "display_data"
    }
   ],
   "source": [
    "fig = create_truck_chart(df_daily_heavy, 'Heavy', 'Snohomish')\n",
    "fig.show()"
   ]
  },
  {
   "cell_type": "raw",
   "id": "f8527f4f",
   "metadata": {
    "vscode": {
     "languageId": "raw"
    }
   },
   "source": [
    ":::"
   ]
  },
  {
   "cell_type": "markdown",
   "id": "0182397d",
   "metadata": {},
   "source": [
    "### Medium Truck Counts"
   ]
  },
  {
   "cell_type": "raw",
   "id": "076ed585",
   "metadata": {},
   "source": [
    ":::{.panel-tabset}\n",
    "\n",
    "#### Region"
   ]
  },
  {
   "cell_type": "code",
   "execution_count": 29,
   "id": "642f14ef",
   "metadata": {},
   "outputs": [
    {
     "data": {
      "application/vnd.plotly.v1+json": {
       "config": {
        "plotlyServerURL": "https://plot.ly"
       },
       "data": [
        {
         "customdata": [
          [
           "I-5 S/O Mounts NB",
           "Pierce"
          ],
          [
           "I-5 S/O Mounts SB",
           "Pierce"
          ],
          [
           "I-5 S/O Division NB",
           "Pierce"
          ],
          [
           "I-5 S/O Division SB",
           "Pierce"
          ],
          [
           "I-5 @ N/O Division NB",
           "Pierce"
          ],
          [
           "I-5 @ N/O Division SB",
           "Pierce"
          ],
          [
           "I-5 S/O SR-512 NB",
           "Pierce"
          ],
          [
           "I-5 S/O SR-512 SB",
           "Pierce"
          ],
          [
           "I-5 N/O SR-512 NB",
           "Pierce"
          ],
          [
           "I-5 N/O SR-512 SB",
           "Pierce"
          ],
          [
           "I-5 N/O 56th NB",
           "Pierce"
          ],
          [
           "I-5 N/O 56th SB",
           "Pierce"
          ],
          [
           "I-5 E/O SR-16 NB",
           "Pierce"
          ],
          [
           "I-5 E/O SR-16 SB",
           "Pierce"
          ],
          [
           "I-5 E/O Port of Tacoma NB",
           "Pierce"
          ],
          [
           "I-5 E/O Port of Tacoma SB (HOV from 56)",
           "Pierce"
          ],
          [
           "I-5 S/O 205th NB",
           "King"
          ],
          [
           "I-5 S/O 205th SB",
           "King"
          ],
          [
           "I-5 @ 44th NB",
           "Snohomish"
          ],
          [
           "I-5 @ 44th SB",
           "Snohomish"
          ],
          [
           "I-5 N/O 164th NB",
           "Snohomish"
          ],
          [
           "I-5 N/O 164th SB",
           "Snohomish"
          ],
          [
           "I-5 N/O SR-526 NB",
           "Snohomish"
          ],
          [
           "I-5 N/O SR-526 SB",
           "Snohomish"
          ],
          [
           "I-5 N/O 41st NB",
           "Snohomish"
          ],
          [
           "I-5 N/O 41st SB",
           "Snohomish"
          ],
          [
           "I-5 @ SR-528 NB",
           "Snohomish"
          ],
          [
           "I-5 @ SR-528 SB",
           "Snohomish"
          ],
          [
           "I-5 N/O SR-531 NB",
           "Snohomish"
          ],
          [
           "I-5 N/O SR-531 SB",
           "Snohomish"
          ],
          [
           "I-5 Rev N/O I-5 GP NB/SB",
           "King"
          ],
          [
           "I-90 E/O I-5 WB",
           "King"
          ],
          [
           "I-90 E/O I-5 EB",
           "King"
          ],
          [
           "I-90 E/O W Lk Sam WB",
           "King"
          ],
          [
           "I-90 E/O W Lk Sam EB",
           "King"
          ],
          [
           "I-90 E/O SR-900 WB",
           "King"
          ],
          [
           "I-405 @ I-5 Southcenter NB",
           "King"
          ],
          [
           "I-405 @ I-5 Southcenter SB",
           "King"
          ],
          [
           "I-405 @ Lake Wash Blvd NB",
           "King"
          ],
          [
           "I-405 @ I-90 NB",
           "King"
          ],
          [
           "I-405 @ I-90 SB",
           "King"
          ],
          [
           "I-405 N/O SR-527 NB",
           "Snohomish"
          ],
          [
           "I-405 N/O SR-527 SB",
           "Snohomish"
          ],
          [
           "SR-525 N/O I-5 NB",
           "Snohomish"
          ],
          [
           "SR-525 N/O I-5 SB",
           "Snohomish"
          ],
          [
           "SR-520 @ x-lake bridge WB",
           "King"
          ],
          [
           "SR-520 @ x-lake bridge EB",
           "King"
          ],
          [
           "SR-167 S/O 43rd NB",
           "King"
          ],
          [
           "SR-167 S/O 43rd SB",
           "King"
          ],
          [
           "SR-167 N/O SR-18 NB",
           "King"
          ],
          [
           "SR-167 N/O SR-18 SB",
           "King"
          ],
          [
           "SR-167 S/O 15th SW NB",
           "King"
          ],
          [
           "SR-167 S/O 15th SW SB",
           "King"
          ],
          [
           "SR-512 W/O Meridian WB",
           "Pierce"
          ],
          [
           "SR-512 W/O Meridian EB",
           "Pierce"
          ],
          [
           "SR-509 @ Holden NB",
           "King"
          ],
          [
           "SR-509 @ Holden SB",
           "King"
          ],
          [
           "SR-99 N/O 14th NB",
           "King"
          ],
          [
           "SR-99 N/O 14th SB",
           "King"
          ],
          [
           "SR-99 N/O WSF NB",
           "King"
          ],
          [
           "SR-99 N/O WSF SB",
           "King"
          ],
          [
           "SR-99 tunnel NB",
           "King"
          ],
          [
           "SR-99 tunnel SB",
           "King"
          ],
          [
           "SR-599 S/O Pacific NB",
           "King"
          ],
          [
           "SR-599 S/O Pacific SB",
           "King"
          ],
          [
           "SR-599 @ Pacific NB",
           "King"
          ],
          [
           "SR-599 @ Pacific SB",
           "King"
          ],
          [
           "SR-18 @ I-5 WB",
           "King"
          ],
          [
           "SR-18 @ I-5 EB",
           "King"
          ],
          [
           "SR-18 W/O Auburn-Black Diamond WB",
           "King"
          ],
          [
           "SR-18 W/O Auburn-Black Diamond EB",
           "King"
          ],
          [
           "SR-18 E/O SR-516 WB",
           "King"
          ],
          [
           "SR-18 E/O SR-516 EB",
           "King"
          ],
          [
           "SR-18 E/O 256th WB",
           "King"
          ],
          [
           "SR-18 E/O 256th EB",
           "King"
          ],
          [
           "SR-522 N/O 195th WB",
           "King"
          ],
          [
           "SR-522 N/O 195th EB",
           "King"
          ],
          [
           "I-5 N/O I-5 Rev CBD NB/SB",
           "King"
          ],
          [
           "I-5 @ SR-532 NB/SB",
           "Snohomish"
          ],
          [
           "I-5 @ Skagit border NB/SB",
           "Snohomish"
          ],
          [
           "I-90 W/O SR-18 WB/EB",
           "King"
          ],
          [
           "I-90 E/O SR-18 WB/EB",
           "King"
          ],
          [
           "I-90 E/O 436th WB/EB",
           "King"
          ],
          [
           "I-90 @ Kittitas County WB/EB",
           "King"
          ],
          [
           "I-405 N/O SR-522 NB/SB",
           "King"
          ],
          [
           "SR-525 N/O SR-526 NB/SB",
           "Snohomish"
          ],
          [
           "SR-525 N/O 5th NB/SB",
           "Snohomish"
          ],
          [
           "SR-167 N/O Grady NB/SB",
           "King"
          ],
          [
           "SR-167 W/O SR-410 NB/SB",
           "Pierce"
          ],
          [
           "SR-167 E/O SR-161 NB/SB",
           "Pierce"
          ],
          [
           "SR-410 E/O S Prairie WB/EB",
           "Pierce"
          ],
          [
           "SR-410 E/O 244th WB/EB",
           "King"
          ],
          [
           "SR-410 E/O Farman WB/EB",
           "King"
          ],
          [
           "SR-410 @ Greenwater River WB/EB",
           "King"
          ],
          [
           "SR-410 E/O Chinook WB/EB",
           "Pierce"
          ],
          [
           "SR-410 W/O SR-123 WB/EB",
           "Pierce"
          ],
          [
           "SR-410 E/O SR-123 WB/EB",
           "Pierce"
          ],
          [
           "SR-512 @ I-5 WB/EB",
           "Pierce"
          ],
          [
           "SR-512 W/O SR-7 WB/EB",
           "Pierce"
          ],
          [
           "SR-512 S/O SR-167 WB/EB",
           "Pierce"
          ],
          [
           "SR-509 E/O I-705 NB/SB",
           "Pierce"
          ],
          [
           "SR-509 W/O Alexander NB/SB",
           "Pierce"
          ],
          [
           "SR-509 S/O 11th NB/SB",
           "Pierce"
          ],
          [
           "SR-509 N/O Hyada NB/SB",
           "Pierce"
          ],
          [
           "SR-509 E/O Soundview NB/SB",
           "Pierce"
          ],
          [
           "SR-509 E/O 47th NB/SB",
           "King"
          ],
          [
           "SR-509 E/O 21st NB/SB",
           "King"
          ],
          [
           "SR-509 W/O SR-516 NB/SB",
           "King"
          ],
          [
           "SR-509 W/O Des Moines Mem NB/SB",
           "King"
          ],
          [
           "SR-509 E/O 1st Ave NB/SB",
           "King"
          ],
          [
           "SR-509 E/O Des Moines Mem NB/SB",
           "King"
          ],
          [
           "SR-509 @ SR-509 ramp overpass NB/SB",
           "King"
          ],
          [
           "SR-509 N/O Des Moines Mem NB/SB",
           "King"
          ],
          [
           "SR-509 N/O SR-518 NB/SB",
           "King"
          ],
          [
           "SR-99 @ I-5 NB/SB",
           "Pierce"
          ],
          [
           "SR-99 E/O 54th NB/SB",
           "Pierce"
          ],
          [
           "SR-99 S/O Porter NB/SB",
           "Pierce"
          ],
          [
           "SR-99 S/O SR-18 NB/SB",
           "King"
          ],
          [
           "SR-99 N/O SR-18 NB/SB",
           "King"
          ],
          [
           "SR-99 N/O 320th NB/SB",
           "King"
          ],
          [
           "SR-99 N/O 188th NB/SB",
           "King"
          ],
          [
           "SR-99 @ WSF NB/SB",
           "King"
          ],
          [
           "SR-99 @ Aurora Bridge NB/SB",
           "King"
          ],
          [
           "SR-99 N/O 38th NB/SB",
           "King"
          ],
          [
           "SR-99 S/O Roosevelt NB/SB",
           "King"
          ],
          [
           "SR-99 E/O Evergreen NB/SB",
           "Snohomish"
          ],
          [
           "SR-599 N/O I-5 NB/SB",
           "King"
          ],
          [
           "SR-518 @ SR-509 WB/EB",
           "King"
          ],
          [
           "SR-518 E/O SR-509 WB/EB",
           "King"
          ],
          [
           "SR-18 E/O SR-99 WB/EB",
           "King"
          ],
          [
           "SR-18 N/O 304th WB/EB",
           "King"
          ],
          [
           "SR-18 S/O I-90 WB/EB",
           "King"
          ],
          [
           "SR-16 @ TNB NB/SB",
           "Pierce"
          ],
          [
           "SR-16 @ Purdy Dr NB/SB",
           "Pierce"
          ],
          [
           "SR-16  N/O SR-302 NB/SB",
           "Kitsap"
          ],
          [
           "SR-16 N/O SR-160 NB/SB",
           "Kitsap"
          ],
          [
           "SR-16 N/O Tremont NB/SB",
           "Kitsap"
          ],
          [
           "SR-16 S/O SR-3 NB",
           "Kitsap"
          ],
          [
           "SR-202 @ SR-522 NB/SB",
           "King"
          ],
          [
           "SR-202 N/O 145th NB/SB",
           "King"
          ],
          [
           "SR-202 @ Sammamish River Br NB/SB",
           "King"
          ],
          [
           "SR-202 S/O 144th NB/SB",
           "King"
          ],
          [
           "SR-202 N/O Redmond Way NB/SB",
           "King"
          ],
          [
           "SR-202 E/O 164th NB/SB",
           "King"
          ],
          [
           "SR-202 E/O SR-520 NB/SB",
           "King"
          ],
          [
           "SR-202 E/O E Lk Samm NB/SB",
           "King"
          ],
          [
           "SR-202 E/O Sahalee NB/SB",
           "King"
          ],
          [
           "SR-202 E/O 236th NB/SB",
           "King"
          ],
          [
           "SR-202 S/O Ames Lake NB/SB",
           "King"
          ],
          [
           "SR-202 S/O Duthie Hill NB/SB",
           "King"
          ],
          [
           "SR-202 E/O SR-203 NB/SB",
           "King"
          ],
          [
           "SR-202 N/O I-90 NB/SB",
           "King"
          ],
          [
           "SR-526 W/O Paine Field Blvd WB/EB",
           "Snohomish"
          ],
          [
           "SR-526 E/O Paine Field Blvd WB/EB",
           "Snohomish"
          ],
          [
           "SR-9 @ SR-522 NB/SB",
           "Snohomish"
          ],
          [
           "SR-9 N/O SR-2 NB/SB",
           "Snohomish"
          ],
          [
           "SR-9 N/O SR-204 NB/SB",
           "Snohomish"
          ],
          [
           "SR-9 N/O SR-92 NB/SB",
           "Snohomish"
          ],
          [
           "SR-9 N/O 132nd NB/SB",
           "Snohomish"
          ],
          [
           "SR-9 N/O SR-531 NB/SB",
           "Snohomish"
          ],
          [
           "SR-9 S/O 67th NB/SB",
           "Snohomish"
          ],
          [
           "SR-9 N/O Kackman NB/SB",
           "Snohomish"
          ],
          [
           "SR-9 N/O Stanwood-Bryant NB/SB",
           "Snohomish"
          ],
          [
           "SR-532 @ Island County WB/EB",
           "Snohomish"
          ],
          [
           "SR-532 W/O 28th WB/EB",
           "Snohomish"
          ],
          [
           "SR-522 N/O 145th NB/SB",
           "King"
          ],
          [
           "SR-104 @ Hood Canal Bridge WB/EB",
           "Kitsap"
          ],
          [
           "SR-104 E/O Hood Canal Bridge WB/EB",
           "Kitsap"
          ],
          [
           "SR-104 N/O Pt Gamble Rd WB/EB",
           "Kitsap"
          ],
          [
           "SR-104 E/O SR-307 WB/EB",
           "Kitsap"
          ],
          [
           "SR-104 E/O Hansville WB/EB",
           "Kitsap"
          ],
          [
           "SR-104 @ Ferry Loading Edm WB/EB",
           "Snohomish"
          ],
          [
           "SR-104 N/O Pine WB/EB",
           "Snohomish"
          ],
          [
           "SR-104 E/O 5th WB/EB",
           "Snohomish"
          ],
          [
           "SR-104 W/O 19th WB/EB",
           "King"
          ],
          [
           "SR-160 @ SR-16 WB/EB",
           "Kitsap"
          ],
          [
           "SR-160 E/O Long Lake Rd WB/EB",
           "Kitsap"
          ],
          [
           "SR-160 W/O Banner WB/EB",
           "Kitsap"
          ],
          [
           "SR-160 E/O Peterson WB/EB",
           "Kitsap"
          ],
          [
           "SR-160 S/O Southworth Dr WB/EB",
           "Kitsap"
          ],
          [
           "SR-166 E/O SR-16 WB/EB",
           "Kitsap"
          ],
          [
           "SR-3 E/O Sunset Way NB/SB",
           "Kitsap"
          ],
          [
           "SR-3 N/O SR-305 NB/SB",
           "Kitsap"
          ],
          [
           "SR-3 S/O Newberry Hill Rd NB/SB",
           "Kitsap"
          ],
          [
           "SR-3 @ SR-304 NB/SB",
           "Kitsap"
          ],
          [
           "SR-3 NE of SR-16 NB/SB",
           "Kitsap"
          ],
          [
           "SR-3 W/O Lake Flora Rd NB/SB",
           "Kitsap"
          ],
          [
           "SR-302 N/O 144th WB/EB",
           "Pierce"
          ],
          [
           "SR-302 S/O 144th WB/EB",
           "Pierce"
          ],
          [
           "SR-302 W/O Key Peninsula Hwy WB/EB",
           "Pierce"
          ],
          [
           "SR-302 W/O Wright-Bliss WB/EB (E/O?)",
           "Pierce"
          ],
          [
           "SR-303 E/O SR-3 NB/SB",
           "Kitsap"
          ],
          [
           "SR-303 N/O 11th St NB/SB",
           "Kitsap"
          ],
          [
           "SR-303 N/O SR-304 NB/SB",
           "Kitsap"
          ],
          [
           "SR-304 E/O SR-3 WB/EB",
           "Kitsap"
          ],
          [
           "SR-304 W/O Naval WB/EB",
           "Kitsap"
          ],
          [
           "SR-305 W/O SR-307 WB/EB",
           "Kitsap"
          ],
          [
           "SR-305 W/O Suquamish Way WB/EB",
           "Kitsap"
          ],
          [
           "SR-305 N/O Day Rd WB/EB",
           "Kitsap"
          ],
          [
           "SR-305 N/O High School Rd WB/EB",
           "Kitsap"
          ],
          [
           "SR-305 S/O Winslow Way WB/EB",
           "Kitsap"
          ],
          [
           "SR-305 @ Ferry Ramp WB/EB",
           "Kitsap"
          ],
          [
           "SR-307 W/O SR-104 NB/SB",
           "Kitsap"
          ],
          [
           "SR-307 N/O Gunderson NB/SB",
           "Kitsap"
          ],
          [
           "SR-307 S/O Gunderson NB/SB",
           "Kitsap"
          ],
          [
           "SR-307 N/O SR-305 NB/SB",
           "Kitsap"
          ],
          [
           "SR-308 @ SR-3 WB/EB",
           "Kitsap"
          ],
          [
           "SR-308 E/O SR-3 WB/EB",
           "Kitsap"
          ],
          [
           "SR-308 E/O Silverdale Way WB/EB",
           "Kitsap"
          ],
          [
           "SR-308 W/O Brownsville Hwy WB/EB",
           "Kitsap"
          ],
          [
           "SR-310 @ SR-3 WB/EB",
           "Kitsap"
          ],
          [
           "SR-310 W/O Callow WB/EB",
           "Kitsap"
          ],
          [
           "SR-516 E/O SR-509 WB/EB",
           "King"
          ],
          [
           "SR-516 W/O I-5 WB/EB",
           "King"
          ],
          [
           "SR-516 E/O Meeker WB/EB",
           "King"
          ],
          [
           "SR-516 W/O SR-167 WB/EB",
           "King"
          ],
          [
           "SR-516 E/O SR-167 WB/EB",
           "King"
          ],
          [
           "SR-516 E/O SR-18 WB/EB",
           "King"
          ],
          [
           "SR-161 E/O SR-7 NB/SB",
           "Pierce"
          ],
          [
           "SR-161 N/O Center NB/SB",
           "Pierce"
          ],
          [
           "SR-161 N/O Eatonville Cutoff NB/SB",
           "Pierce"
          ],
          [
           "SR-161 N/O 304th NB/SB",
           "Pierce"
          ],
          [
           "SR-161 N/O 264th NB/SB",
           "Pierce"
          ],
          [
           "SR-161 S/O 224th NB/SB",
           "Pierce"
          ],
          [
           "SR-161 N/O 224th NB/SB",
           "Pierce"
          ],
          [
           "SR-161 N/O 204th NB/SB",
           "Pierce"
          ],
          [
           "SR-161 S/O SR-167 SB off-ramp NB/SB",
           "Pierce"
          ],
          [
           "SR-161 S/O Valley NB/SB",
           "Pierce"
          ],
          [
           "SR-161 N/O Valley NB/SB",
           "Pierce"
          ],
          [
           "SR-161 N/O 8th NB/SB",
           "Pierce"
          ],
          [
           "SR-900 S/O NB I-5 on-ramp @ Boe Acc WB/EB",
           "King"
          ],
          [
           "SR-900 E/O 68th WB/EB",
           "King"
          ],
          [
           "SR-900 @ I-405 WB/EB",
           "King"
          ],
          [
           "SR-900 E/O 148th WB/EB",
           "King"
          ],
          [
           "SR-900 N/O Talus WB/EB",
           "King"
          ],
          [
           "SR-900 N/O Newport WB/EB",
           "King"
          ],
          [
           "SR-524 W/O 3rd WB/EB",
           "Snohomish"
          ],
          [
           "SR-524 S/O Main WB/EB",
           "Snohomish"
          ],
          [
           "SR-524 N/O Main WB/EB",
           "Snohomish"
          ],
          [
           "SR-524 E/O 68th WB/EB",
           "Snohomish"
          ],
          [
           "SR-524 E/O 39th WB/EB",
           "Snohomish"
          ],
          [
           "SR-524 N/O Paradise Lake WB/EB",
           "Snohomish"
          ],
          [
           "SR-7 @ Thurston County NB/SB",
           "Pierce"
          ],
          [
           "SR-7 W/O Alder Cutoff NB/SB",
           "Pierce"
          ],
          [
           "SR-7 N/O Eatonville Hwy NB/SB",
           "Pierce"
          ],
          [
           "SR-7 N/O Silver Lake NB/SB",
           "Pierce"
          ],
          [
           "SR-7 S/O SR-702 NB/SB",
           "Pierce"
          ],
          [
           "SR-7 N/O 304th NB/SB",
           "Pierce"
          ],
          [
           "SR-7 N/O 260th NB/SB",
           "Pierce"
          ],
          [
           "SR-7 S/O 224th NB/SB",
           "Pierce"
          ],
          [
           "SR-7 N/O 224th NB/SB",
           "Pierce"
          ],
          [
           "SR-7 N/O 38th NB/SB",
           "Pierce"
          ],
          [
           "SR-2 E/O I-5 WB/EB",
           "Snohomish"
          ],
          [
           "SR-2 S/O SR-204 WB/EB",
           "Snohomish"
          ],
          [
           "SR-2 E/O Main WB/EB",
           "Snohomish"
          ],
          [
           "SR-2 E/O Rice WB/EB",
           "Snohomish"
          ],
          [
           "SR-2 E/O 10th (Gold Bar) WB/EB",
           "Snohomish"
          ],
          [
           "SR-2 W/O Index-Galena WB/EB",
           "Snohomish"
          ],
          [
           "SR-2 E/O Index-Galena WB/EB",
           "Snohomish"
          ],
          [
           "SR-2 E/O Skykomish WB/EB",
           "King"
          ],
          [
           "SR-527 N/O I-405 NB/SB",
           "Snohomish"
          ],
          [
           "SR-527 N/O 196th NB/SB",
           "Snohomish"
          ],
          [
           "SR-527 N/O Dumas NB/SB",
           "Snohomish"
          ],
          [
           "SR-527 N/O 100th NB/SB",
           "Snohomish"
          ],
          [
           "SR-513 S/O 44th NB/SB",
           "King"
          ],
          [
           "SR-169 N/O SR-164 NB/SB",
           "King"
          ],
          [
           "SR-169 S/O Lawson NB/SB",
           "King"
          ],
          [
           "SR-169 S/O 276th NB/SB",
           "King"
          ],
          [
           "SR-169 N/O 280th NB/SB",
           "King"
          ],
          [
           "SR-169 N/O 231st NB/SB",
           "King"
          ],
          [
           "SR-169 N/O 232nd NB/SB",
           "King"
          ],
          [
           "SR-169 W/O 140th NB/SB",
           "King"
          ],
          [
           "SR-515 N/O SR-516 NB/SB",
           "King"
          ],
          [
           "SR-515 N/O 108th NB/SB",
           "King"
          ],
          [
           "SR-515 N/O Puget NB/SB",
           "King"
          ],
          [
           "SR-181 N/O SR-516 NB/SB",
           "King"
          ],
          [
           "SR-181 S/O James NB/SB",
           "King"
          ],
          [
           "SR-181 N/O James NB/SB",
           "King"
          ],
          [
           "SR-181 N/O 228th NB/SB",
           "King"
          ],
          [
           "SR-181 N/O 180th NB/SB",
           "King"
          ],
          [
           "SR-181 S/O Longacres NB/SB",
           "King"
          ],
          [
           "SR-523 E/O Lenora WB/EB",
           "King"
          ],
          [
           "SR-529 @ I-5 (Evt) NB/SB",
           "Snohomish"
          ],
          [
           "SR-529 S/O Everett NB/SB",
           "Snohomish"
          ],
          [
           "SR-529 W/O Maple NB/SB",
           "Snohomish"
          ],
          [
           "SR-529 N/O Everett NB/SB",
           "Snohomish"
          ],
          [
           "SR-529 N/O Broadway NB/SB",
           "Snohomish"
          ],
          [
           "SR-96 @ I-5 WB/EB",
           "Snohomish"
          ],
          [
           "SR-96 N/O 132nd WB/EB",
           "Snohomish"
          ],
          [
           "SR-96 E/O Seattle Hill WB/EB",
           "Snohomish"
          ],
          [
           "SR-164 @ SR-18 WB/EB",
           "King"
          ],
          [
           "SR-164 S/O 400th WB/EB",
           "King"
          ],
          [
           "SR-528 @ I-5 WB/EB",
           "Snohomish"
          ],
          [
           "SR-528 E/O SR-529 WB/EB",
           "Snohomish"
          ],
          [
           "SR-531 N/O Rose WB/EB",
           "Snohomish"
          ],
          [
           "SR-531 E/O Lk Goodwin WB/EB",
           "Snohomish"
          ],
          [
           "SR-531 E/O 27th WB/EB",
           "Snohomish"
          ],
          [
           "SR-531 E/O I-5 WB/EB",
           "Snohomish"
          ],
          [
           "SR-531 E/O 43rd WB/EB",
           "Snohomish"
          ],
          [
           "SR-531 W/O 67th WB/EB",
           "Snohomish"
          ],
          [
           "SR-531 E/O 67th WB/EB",
           "Snohomish"
          ],
          [
           "SR-162 @ SR-410 WB/EB",
           "Pierce"
          ],
          [
           "SR-162 S/O Pioneer WB/EB",
           "Pierce"
          ],
          [
           "SR-162 E/O Orville WB/EB",
           "Pierce"
          ],
          [
           "SR-162 E/O S Prairie WB/EB",
           "Pierce"
          ],
          [
           "SR-162 N/O SR-165 WB/EB",
           "Pierce"
          ],
          [
           "SR-163 @ SR-16 NB/SB",
           "Pierce"
          ],
          [
           "SR-163 N/O 37th NB/SB",
           "Pierce"
          ],
          [
           "SR-163 N/O Park NB/SB",
           "Pierce"
          ],
          [
           "SR-530 @ I-5 WB/EB",
           "Snohomish"
          ],
          [
           "SR-530 E/O Smokey Pt WB/EB",
           "Snohomish"
          ],
          [
           "SR-530 N/O 211th WB/EB",
           "Snohomish"
          ],
          [
           "SR-530 E/O SR-9 WB/EB",
           "Snohomish"
          ],
          [
           "SR-530 W/O Arlington Hts WB/EB",
           "Snohomish"
          ],
          [
           "SR-530 E/O Arlington Hts WB/EB",
           "Snohomish"
          ],
          [
           "SR-530 W/O Jim Creek WB/EB",
           "Snohomish"
          ],
          [
           "SR-530 W/O Ramstad WB/EB",
           "Snohomish"
          ],
          [
           "SR-530 @ Skagit County WB/EB",
           "Snohomish"
          ],
          [
           "SR-203 N/O 203rd NB/SB",
           "Snohomish"
          ],
          [
           "SR-203 N/O Cherry Valley NB/SB",
           "King"
          ],
          [
           "SR-203 N/O 124th NB/SB",
           "King"
          ],
          [
           "SR-203 W/O Stillwater Hill NB/SB",
           "King"
          ],
          [
           "SR-203 N/O Carnation Farm NB/SB",
           "King"
          ],
          [
           "SR-203 N/O Tolt Hill NB/SB",
           "King"
          ],
          [
           "SR-203 N/O SR-202 NB/SB",
           "King"
          ],
          [
           "SR-507 S/O SR-7 NB/SB",
           "Pierce"
          ],
          [
           "SR-507 S/O E Gate NB/SB",
           "Pierce"
          ],
          [
           "SR-507 S/O 288th NB/SB",
           "Pierce"
          ],
          [
           "SR-507 N/O 346th NB/SB",
           "Pierce"
          ],
          [
           "SR-204 @ SR-2 NB/SB",
           "Snohomish"
          ],
          [
           "SR-204 N/O 20th NB/SB",
           "Snohomish"
          ],
          [
           "SR-204 N/O SR-2 NB/SB",
           "Snohomish"
          ],
          [
           "SR-519 W/O 4th NB/SB",
           "King"
          ],
          [
           "SR-92 E/O Lake WB/EB",
           "Snohomish"
          ],
          [
           "SR-92 E/O Callow WB/EB",
           "Snohomish"
          ],
          [
           "SR-92 E/O Quarry WB/EB",
           "Snohomish"
          ],
          [
           "SR-92 W/O Mountain Loop WB/EB",
           "Snohomish"
          ],
          [
           "SR-702 E/O SR-507 WB/EB",
           "Pierce"
          ],
          [
           "SR-702 E/O Harts Lake WB/EB",
           "Pierce"
          ],
          [
           "SR-702 E/O 40th WB/EB",
           "Pierce"
          ],
          [
           "SR-702 W/O 8th WB/EB",
           "Pierce"
          ],
          [
           "SR-702 E/O 8th WB/EB",
           "Pierce"
          ],
          [
           "SR-165 W/O SR-162 NB/SB",
           "Pierce"
          ],
          [
           "SR-165 N/O Davis NB/SB",
           "Pierce"
          ],
          [
           "SR-165 N/O Wilkeson-Carbonado NB/SB",
           "Pierce"
          ],
          [
           "SR-704 E/O Spanaway Loop WB/EB",
           "Pierce"
          ],
          [
           "SR-706 E/O SR-7 WB/EB",
           "Pierce"
          ],
          [
           "SR-706 E/O Kernahan WB/EB",
           "Pierce"
          ]
         ],
         "hovertemplate": "Observed=%{x}<br>Model=%{y}<br>location=%{customdata[0]}<br>County=%{customdata[1]}<extra></extra>",
         "legendgroup": "",
         "line": {
          "color": "Grey",
          "width": 2
         },
         "marker": {
          "color": "#91268F",
          "symbol": "circle"
         },
         "mode": "markers",
         "name": "",
         "orientation": "v",
         "showlegend": false,
         "type": "scatter",
         "x": [
          2398,
          2384,
          2500,
          2589,
          2331,
          2275,
          2608,
          2499,
          4754,
          4821,
          5641,
          5686,
          1764,
          3843,
          2614,
          3294,
          1786,
          1909,
          2586,
          2604,
          2869,
          2888,
          2689,
          2832,
          2293,
          2656,
          2191,
          2251,
          1728,
          1737,
          645,
          1525,
          1405,
          1400,
          1380,
          1329,
          1046,
          1702,
          2618,
          3724,
          2998,
          1539,
          1620,
          1248,
          851,
          1030,
          1032,
          2276,
          2432,
          2405,
          2415,
          2776,
          2536,
          2040,
          2040,
          1806,
          1814,
          850,
          630,
          1279,
          1163,
          1067,
          968,
          859,
          720,
          1271,
          842,
          534,
          973,
          1357,
          1295,
          882,
          869,
          1054,
          1031,
          1556,
          1676,
          2448,
          2444,
          2481,
          1769,
          2644,
          1594,
          1323,
          3333,
          710,
          364,
          1270,
          5571,
          2749,
          1262,
          970,
          554,
          73,
          74,
          48,
          29,
          2835,
          3326,
          4048,
          1036,
          2310,
          171,
          59,
          62,
          128,
          408,
          680,
          240,
          102,
          421,
          720,
          1320,
          1488,
          1276,
          1600,
          1150,
          1053,
          600,
          704,
          2349,
          1643,
          2416,
          1512,
          1056,
          475,
          2808,
          787,
          1075,
          1329,
          2434,
          1344,
          3133,
          2138,
          2336,
          1997,
          2251,
          2041,
          882,
          249,
          217,
          662,
          506,
          815,
          1705,
          1125,
          874,
          457,
          589,
          363,
          431,
          331,
          396,
          915,
          1853,
          1311,
          1387,
          1987,
          829,
          484,
          658,
          443,
          135,
          1056,
          739,
          1170,
          702,
          197,
          215,
          512,
          288,
          294,
          220,
          360,
          475,
          475,
          525,
          408,
          233,
          86,
          280,
          1258,
          1725,
          2074,
          1768,
          3230,
          864,
          426,
          871,
          227,
          157,
          972,
          1008,
          434,
          810,
          609,
          1102,
          660,
          600,
          468,
          265,
          221,
          714,
          476,
          612,
          680,
          156,
          199,
          263,
          230,
          897,
          286,
          260,
          1080,
          875,
          1680,
          984,
          975,
          24,
          456,
          313,
          594,
          598,
          504,
          864,
          1216,
          1000,
          1850,
          720,
          800,
          924,
          392,
          754,
          198,
          682,
          546,
          68,
          160,
          167,
          494,
          330,
          1157,
          241,
          106,
          193,
          228,
          363,
          690,
          897,
          1350,
          858,
          378,
          2430,
          1634,
          858,
          735,
          516,
          346,
          242,
          214,
          1484,
          837,
          704,
          858,
          728,
          398,
          594,
          816,
          546,
          1675,
          1058,
          1014,
          825,
          408,
          893,
          1798,
          1265,
          1450,
          1650,
          1620,
          2108,
          609,
          333,
          271,
          364,
          238,
          1122,
          1408,
          392,
          220,
          810,
          660,
          728,
          616,
          75,
          432,
          693,
          1230,
          1632,
          969,
          560,
          640,
          924,
          618,
          354,
          547,
          420,
          276,
          161,
          690,
          882,
          784,
          420,
          520,
          461,
          410,
          276,
          167,
          636,
          590,
          741,
          486,
          490,
          539,
          502,
          1264,
          462,
          533,
          611,
          259,
          371,
          960,
          1044,
          1349,
          994,
          320,
          324,
          524,
          396,
          389,
          382,
          322,
          390,
          211,
          120,
          720,
          150,
          75
         ],
         "xaxis": "x",
         "y": [
          0,
          0,
          717,
          741,
          710,
          732,
          1039,
          1009,
          1986,
          2379,
          3333,
          3525,
          1855,
          5933,
          6358,
          6403,
          6558,
          6312,
          5690,
          5707,
          5140,
          4826,
          4455,
          4479,
          4351,
          4199,
          1914,
          1938,
          645,
          615,
          3129,
          4578,
          4778,
          2621,
          2618,
          1805,
          1466,
          3143,
          6099,
          5183,
          5112,
          4675,
          4533,
          3093,
          2871,
          3556,
          3467,
          4034,
          4182,
          4679,
          4818,
          4005,
          3951,
          2279,
          2255,
          1672,
          1754,
          1374,
          887,
          2212,
          2375,
          1292,
          1474,
          1802,
          1585,
          1552,
          1187,
          1321,
          838,
          1408,
          1288,
          849,
          792,
          884,
          819,
          1788,
          1631,
          11055,
          120,
          0,
          1575,
          1272,
          61,
          0,
          9024,
          347,
          33,
          2143,
          6937,
          3114,
          1146,
          400,
          52,
          41,
          0,
          0,
          0,
          3291,
          3343,
          5149,
          1677,
          1550,
          94,
          29,
          29,
          70,
          323,
          227,
          144,
          74,
          97,
          841,
          1779,
          2752,
          1296,
          1270,
          1328,
          1296,
          827,
          688,
          1748,
          3428,
          3120,
          1775,
          699,
          141,
          3408,
          1922,
          2034,
          1871,
          2171,
          866,
          6861,
          4138,
          4291,
          3504,
          3704,
          2087,
          725,
          446,
          279,
          826,
          369,
          420,
          2236,
          1431,
          531,
          493,
          381,
          195,
          279,
          664,
          194,
          1764,
          1329,
          1343,
          1814,
          2145,
          693,
          536,
          183,
          46,
          63,
          0,
          596,
          2204,
          0,
          24,
          17,
          230,
          170,
          293,
          170,
          284,
          479,
          566,
          181,
          134,
          186,
          71,
          415,
          54,
          209,
          2688,
          2719,
          4285,
          0,
          324,
          331,
          140,
          42,
          845,
          966,
          335,
          1656,
          830,
          1754,
          1075,
          1130,
          165,
          90,
          90,
          281,
          330,
          606,
          625,
          112,
          120,
          196,
          125,
          369,
          140,
          159,
          2092,
          3147,
          3947,
          1769,
          1016,
          4,
          28,
          190,
          353,
          350,
          530,
          587,
          1043,
          1333,
          1993,
          595,
          1398,
          1701,
          586,
          1502,
          594,
          1097,
          885,
          293,
          68,
          315,
          668,
          452,
          609,
          0,
          16,
          23,
          30,
          28,
          243,
          292,
          329,
          414,
          193,
          3183,
          1687,
          755,
          308,
          111,
          111,
          80,
          0,
          3059,
          942,
          402,
          1050,
          1602,
          105,
          412,
          329,
          581,
          869,
          931,
          1741,
          329,
          589,
          1231,
          2017,
          1803,
          2299,
          3116,
          3364,
          3437,
          653,
          465,
          420,
          355,
          131,
          617,
          1532,
          416,
          53,
          933,
          659,
          1121,
          595,
          42,
          153,
          604,
          1459,
          934,
          241,
          365,
          523,
          734,
          246,
          130,
          240,
          980,
          369,
          201,
          327,
          605,
          406,
          386,
          396,
          331,
          281,
          232,
          0,
          444,
          455,
          460,
          217,
          230,
          315,
          206,
          252,
          158,
          46,
          48,
          166,
          299,
          1370,
          2271,
          792,
          572,
          195,
          158,
          10,
          10,
          107,
          107,
          54,
          159,
          81,
          37,
          764,
          0,
          0
         ],
         "yaxis": "y"
        },
        {
         "hovertemplate": "Observed=%{x}<br>Model=%{y}<extra></extra>",
         "legendgroup": "",
         "line": {
          "color": "Grey",
          "dash": "solid",
          "width": 2
         },
         "marker": {
          "symbol": "circle"
         },
         "mode": "lines",
         "name": "",
         "orientation": "v",
         "showlegend": false,
         "type": "scatter",
         "x": [
          0,
          57.43434343434343,
          114.86868686868686,
          172.3030303030303,
          229.73737373737373,
          287.17171717171715,
          344.6060606060606,
          402.04040404040404,
          459.47474747474746,
          516.9090909090909,
          574.3434343434343,
          631.7777777777777,
          689.2121212121212,
          746.6464646464647,
          804.0808080808081,
          861.5151515151515,
          918.9494949494949,
          976.3838383838383,
          1033.8181818181818,
          1091.2525252525252,
          1148.6868686868686,
          1206.121212121212,
          1263.5555555555554,
          1320.9898989898988,
          1378.4242424242425,
          1435.858585858586,
          1493.2929292929293,
          1550.7272727272727,
          1608.1616161616162,
          1665.5959595959596,
          1723.030303030303,
          1780.4646464646464,
          1837.8989898989898,
          1895.3333333333333,
          1952.7676767676767,
          2010.20202020202,
          2067.6363636363635,
          2125.070707070707,
          2182.5050505050503,
          2239.939393939394,
          2297.373737373737,
          2354.808080808081,
          2412.242424242424,
          2469.6767676767677,
          2527.111111111111,
          2584.5454545454545,
          2641.9797979797977,
          2699.4141414141413,
          2756.848484848485,
          2814.282828282828,
          2871.717171717172,
          2929.151515151515,
          2986.5858585858587,
          3044.020202020202,
          3101.4545454545455,
          3158.8888888888887,
          3216.3232323232323,
          3273.7575757575755,
          3331.191919191919,
          3388.6262626262624,
          3446.060606060606,
          3503.494949494949,
          3560.929292929293,
          3618.363636363636,
          3675.7979797979797,
          3733.2323232323233,
          3790.6666666666665,
          3848.10101010101,
          3905.5353535353534,
          3962.969696969697,
          4020.40404040404,
          4077.838383838384,
          4135.272727272727,
          4192.707070707071,
          4250.141414141414,
          4307.575757575757,
          4365.010101010101,
          4422.444444444444,
          4479.878787878788,
          4537.313131313131,
          4594.747474747474,
          4652.181818181818,
          4709.616161616162,
          4767.050505050505,
          4824.484848484848,
          4881.919191919192,
          4939.353535353535,
          4996.787878787879,
          5054.222222222222,
          5111.656565656565,
          5169.090909090909,
          5226.525252525253,
          5283.959595959595,
          5341.393939393939,
          5398.828282828283,
          5456.262626262626,
          5513.69696969697,
          5571.131313131313,
          5628.565656565656,
          5686
         ],
         "xaxis": "x",
         "y": [
          -43.68669112788325,
          27.999882882180174,
          99.6864568922436,
          171.37303090230705,
          243.05960491237045,
          314.74617892243384,
          386.43275293249735,
          458.11932694256075,
          529.8059009526241,
          601.4924749626875,
          673.1790489727509,
          744.8656229828143,
          816.552196992878,
          888.2387710029413,
          959.9253450130047,
          1031.6119190230681,
          1103.2984930331315,
          1174.985067043195,
          1246.6716410532583,
          1318.3582150633217,
          1390.0447890733851,
          1461.7313630834485,
          1533.417937093512,
          1605.1045111035753,
          1676.7910851136392,
          1748.4776591237026,
          1820.164233133766,
          1891.8508071438293,
          1963.5373811538927,
          2035.2239551639561,
          2106.9105291740198,
          2178.5971031840827,
          2250.2836771941465,
          2321.9702512042095,
          2393.6568252142733,
          2465.3433992243363,
          2537.0299732344,
          2608.716547244464,
          2680.403121254527,
          2752.089695264591,
          2823.7762692746537,
          2895.4628432847176,
          2967.1494172947805,
          3038.8359913048444,
          3110.5225653149073,
          3182.209139324971,
          3253.895713335034,
          3325.582287345098,
          3397.268861355162,
          3468.9554353652247,
          3540.6420093752886,
          3612.3285833853515,
          3684.0151573954154,
          3755.7017314054783,
          3827.388305415542,
          3899.074879425605,
          3970.761453435669,
          4042.448027445732,
          4114.134601455796,
          4185.821175465859,
          4257.5077494759225,
          4329.1943234859855,
          4400.880897496049,
          4472.567471506112,
          4544.254045516176,
          4615.94061952624,
          4687.627193536303,
          4759.313767546367,
          4831.00034155643,
          4902.686915566494,
          4974.3734895765565,
          5046.06006358662,
          5117.746637596683,
          5189.433211606747,
          5261.119785616811,
          5332.806359626873,
          5404.492933636937,
          5476.179507647001,
          5547.866081657065,
          5619.552655667127,
          5691.23922967719,
          5762.925803687254,
          5834.612377697318,
          5906.298951707382,
          5977.985525717444,
          6049.672099727508,
          6121.358673737572,
          6193.045247747636,
          6264.731821757698,
          6336.4183957677615,
          6408.104969777825,
          6479.791543787889,
          6551.478117797951,
          6623.164691808015,
          6694.851265818079,
          6766.537839828143,
          6838.224413838207,
          6909.910987848269,
          6981.5975618583325,
          7053.284135868396
         ],
         "yaxis": "y"
        }
       ],
       "layout": {
        "annotations": [
         {
          "align": "right",
          "font": {
           "color": "pink",
           "size": 12
          },
          "showarrow": false,
          "text": "y = x",
          "x": 11607.75,
          "y": 11607.75
         },
         {
          "align": "right",
          "font": {
           "color": "black",
           "size": 12
          },
          "showarrow": false,
          "text": "r^2 = 0.52",
          "x": 5970.3,
          "y": 7405.948342661816
         }
        ],
        "height": 600,
        "legend": {
         "tracegroupgap": 0
        },
        "margin": {
         "b": 100,
         "l": 100,
         "r": 100,
         "t": 100
        },
        "shapes": [
         {
          "line": {
           "color": "Red",
           "dash": "dash",
           "width": 2
          },
          "type": "line",
          "x0": 0,
          "x1": 11055,
          "y0": 0,
          "y1": 11055
         }
        ],
        "template": {
         "data": {
          "bar": [
           {
            "error_x": {
             "color": "rgb(36,36,36)"
            },
            "error_y": {
             "color": "rgb(36,36,36)"
            },
            "marker": {
             "line": {
              "color": "white",
              "width": 0.5
             },
             "pattern": {
              "fillmode": "overlay",
              "size": 10,
              "solidity": 0.2
             }
            },
            "type": "bar"
           }
          ],
          "barpolar": [
           {
            "marker": {
             "line": {
              "color": "white",
              "width": 0.5
             },
             "pattern": {
              "fillmode": "overlay",
              "size": 10,
              "solidity": 0.2
             }
            },
            "type": "barpolar"
           }
          ],
          "carpet": [
           {
            "aaxis": {
             "endlinecolor": "rgb(36,36,36)",
             "gridcolor": "white",
             "linecolor": "white",
             "minorgridcolor": "white",
             "startlinecolor": "rgb(36,36,36)"
            },
            "baxis": {
             "endlinecolor": "rgb(36,36,36)",
             "gridcolor": "white",
             "linecolor": "white",
             "minorgridcolor": "white",
             "startlinecolor": "rgb(36,36,36)"
            },
            "type": "carpet"
           }
          ],
          "choropleth": [
           {
            "colorbar": {
             "outlinewidth": 1,
             "tickcolor": "rgb(36,36,36)",
             "ticks": "outside"
            },
            "type": "choropleth"
           }
          ],
          "contour": [
           {
            "colorbar": {
             "outlinewidth": 1,
             "tickcolor": "rgb(36,36,36)",
             "ticks": "outside"
            },
            "colorscale": [
             [
              0,
              "#440154"
             ],
             [
              0.1111111111111111,
              "#482878"
             ],
             [
              0.2222222222222222,
              "#3e4989"
             ],
             [
              0.3333333333333333,
              "#31688e"
             ],
             [
              0.4444444444444444,
              "#26828e"
             ],
             [
              0.5555555555555556,
              "#1f9e89"
             ],
             [
              0.6666666666666666,
              "#35b779"
             ],
             [
              0.7777777777777778,
              "#6ece58"
             ],
             [
              0.8888888888888888,
              "#b5de2b"
             ],
             [
              1,
              "#fde725"
             ]
            ],
            "type": "contour"
           }
          ],
          "contourcarpet": [
           {
            "colorbar": {
             "outlinewidth": 1,
             "tickcolor": "rgb(36,36,36)",
             "ticks": "outside"
            },
            "type": "contourcarpet"
           }
          ],
          "heatmap": [
           {
            "colorbar": {
             "outlinewidth": 1,
             "tickcolor": "rgb(36,36,36)",
             "ticks": "outside"
            },
            "colorscale": [
             [
              0,
              "#440154"
             ],
             [
              0.1111111111111111,
              "#482878"
             ],
             [
              0.2222222222222222,
              "#3e4989"
             ],
             [
              0.3333333333333333,
              "#31688e"
             ],
             [
              0.4444444444444444,
              "#26828e"
             ],
             [
              0.5555555555555556,
              "#1f9e89"
             ],
             [
              0.6666666666666666,
              "#35b779"
             ],
             [
              0.7777777777777778,
              "#6ece58"
             ],
             [
              0.8888888888888888,
              "#b5de2b"
             ],
             [
              1,
              "#fde725"
             ]
            ],
            "type": "heatmap"
           }
          ],
          "heatmapgl": [
           {
            "colorbar": {
             "outlinewidth": 1,
             "tickcolor": "rgb(36,36,36)",
             "ticks": "outside"
            },
            "colorscale": [
             [
              0,
              "#440154"
             ],
             [
              0.1111111111111111,
              "#482878"
             ],
             [
              0.2222222222222222,
              "#3e4989"
             ],
             [
              0.3333333333333333,
              "#31688e"
             ],
             [
              0.4444444444444444,
              "#26828e"
             ],
             [
              0.5555555555555556,
              "#1f9e89"
             ],
             [
              0.6666666666666666,
              "#35b779"
             ],
             [
              0.7777777777777778,
              "#6ece58"
             ],
             [
              0.8888888888888888,
              "#b5de2b"
             ],
             [
              1,
              "#fde725"
             ]
            ],
            "type": "heatmapgl"
           }
          ],
          "histogram": [
           {
            "marker": {
             "line": {
              "color": "white",
              "width": 0.6
             }
            },
            "type": "histogram"
           }
          ],
          "histogram2d": [
           {
            "colorbar": {
             "outlinewidth": 1,
             "tickcolor": "rgb(36,36,36)",
             "ticks": "outside"
            },
            "colorscale": [
             [
              0,
              "#440154"
             ],
             [
              0.1111111111111111,
              "#482878"
             ],
             [
              0.2222222222222222,
              "#3e4989"
             ],
             [
              0.3333333333333333,
              "#31688e"
             ],
             [
              0.4444444444444444,
              "#26828e"
             ],
             [
              0.5555555555555556,
              "#1f9e89"
             ],
             [
              0.6666666666666666,
              "#35b779"
             ],
             [
              0.7777777777777778,
              "#6ece58"
             ],
             [
              0.8888888888888888,
              "#b5de2b"
             ],
             [
              1,
              "#fde725"
             ]
            ],
            "type": "histogram2d"
           }
          ],
          "histogram2dcontour": [
           {
            "colorbar": {
             "outlinewidth": 1,
             "tickcolor": "rgb(36,36,36)",
             "ticks": "outside"
            },
            "colorscale": [
             [
              0,
              "#440154"
             ],
             [
              0.1111111111111111,
              "#482878"
             ],
             [
              0.2222222222222222,
              "#3e4989"
             ],
             [
              0.3333333333333333,
              "#31688e"
             ],
             [
              0.4444444444444444,
              "#26828e"
             ],
             [
              0.5555555555555556,
              "#1f9e89"
             ],
             [
              0.6666666666666666,
              "#35b779"
             ],
             [
              0.7777777777777778,
              "#6ece58"
             ],
             [
              0.8888888888888888,
              "#b5de2b"
             ],
             [
              1,
              "#fde725"
             ]
            ],
            "type": "histogram2dcontour"
           }
          ],
          "mesh3d": [
           {
            "colorbar": {
             "outlinewidth": 1,
             "tickcolor": "rgb(36,36,36)",
             "ticks": "outside"
            },
            "type": "mesh3d"
           }
          ],
          "parcoords": [
           {
            "line": {
             "colorbar": {
              "outlinewidth": 1,
              "tickcolor": "rgb(36,36,36)",
              "ticks": "outside"
             }
            },
            "type": "parcoords"
           }
          ],
          "pie": [
           {
            "automargin": true,
            "type": "pie"
           }
          ],
          "scatter": [
           {
            "fillpattern": {
             "fillmode": "overlay",
             "size": 10,
             "solidity": 0.2
            },
            "type": "scatter"
           }
          ],
          "scatter3d": [
           {
            "line": {
             "colorbar": {
              "outlinewidth": 1,
              "tickcolor": "rgb(36,36,36)",
              "ticks": "outside"
             }
            },
            "marker": {
             "colorbar": {
              "outlinewidth": 1,
              "tickcolor": "rgb(36,36,36)",
              "ticks": "outside"
             }
            },
            "type": "scatter3d"
           }
          ],
          "scattercarpet": [
           {
            "marker": {
             "colorbar": {
              "outlinewidth": 1,
              "tickcolor": "rgb(36,36,36)",
              "ticks": "outside"
             }
            },
            "type": "scattercarpet"
           }
          ],
          "scattergeo": [
           {
            "marker": {
             "colorbar": {
              "outlinewidth": 1,
              "tickcolor": "rgb(36,36,36)",
              "ticks": "outside"
             }
            },
            "type": "scattergeo"
           }
          ],
          "scattergl": [
           {
            "marker": {
             "colorbar": {
              "outlinewidth": 1,
              "tickcolor": "rgb(36,36,36)",
              "ticks": "outside"
             }
            },
            "type": "scattergl"
           }
          ],
          "scattermapbox": [
           {
            "marker": {
             "colorbar": {
              "outlinewidth": 1,
              "tickcolor": "rgb(36,36,36)",
              "ticks": "outside"
             }
            },
            "type": "scattermapbox"
           }
          ],
          "scatterpolar": [
           {
            "marker": {
             "colorbar": {
              "outlinewidth": 1,
              "tickcolor": "rgb(36,36,36)",
              "ticks": "outside"
             }
            },
            "type": "scatterpolar"
           }
          ],
          "scatterpolargl": [
           {
            "marker": {
             "colorbar": {
              "outlinewidth": 1,
              "tickcolor": "rgb(36,36,36)",
              "ticks": "outside"
             }
            },
            "type": "scatterpolargl"
           }
          ],
          "scatterternary": [
           {
            "marker": {
             "colorbar": {
              "outlinewidth": 1,
              "tickcolor": "rgb(36,36,36)",
              "ticks": "outside"
             }
            },
            "type": "scatterternary"
           }
          ],
          "surface": [
           {
            "colorbar": {
             "outlinewidth": 1,
             "tickcolor": "rgb(36,36,36)",
             "ticks": "outside"
            },
            "colorscale": [
             [
              0,
              "#440154"
             ],
             [
              0.1111111111111111,
              "#482878"
             ],
             [
              0.2222222222222222,
              "#3e4989"
             ],
             [
              0.3333333333333333,
              "#31688e"
             ],
             [
              0.4444444444444444,
              "#26828e"
             ],
             [
              0.5555555555555556,
              "#1f9e89"
             ],
             [
              0.6666666666666666,
              "#35b779"
             ],
             [
              0.7777777777777778,
              "#6ece58"
             ],
             [
              0.8888888888888888,
              "#b5de2b"
             ],
             [
              1,
              "#fde725"
             ]
            ],
            "type": "surface"
           }
          ],
          "table": [
           {
            "cells": {
             "fill": {
              "color": "rgb(237,237,237)"
             },
             "line": {
              "color": "white"
             }
            },
            "header": {
             "fill": {
              "color": "rgb(217,217,217)"
             },
             "line": {
              "color": "white"
             }
            },
            "type": "table"
           }
          ]
         },
         "layout": {
          "annotationdefaults": {
           "arrowhead": 0,
           "arrowwidth": 1
          },
          "autotypenumbers": "strict",
          "coloraxis": {
           "colorbar": {
            "outlinewidth": 1,
            "tickcolor": "rgb(36,36,36)",
            "ticks": "outside"
           }
          },
          "colorscale": {
           "diverging": [
            [
             0,
             "rgb(103,0,31)"
            ],
            [
             0.1,
             "rgb(178,24,43)"
            ],
            [
             0.2,
             "rgb(214,96,77)"
            ],
            [
             0.3,
             "rgb(244,165,130)"
            ],
            [
             0.4,
             "rgb(253,219,199)"
            ],
            [
             0.5,
             "rgb(247,247,247)"
            ],
            [
             0.6,
             "rgb(209,229,240)"
            ],
            [
             0.7,
             "rgb(146,197,222)"
            ],
            [
             0.8,
             "rgb(67,147,195)"
            ],
            [
             0.9,
             "rgb(33,102,172)"
            ],
            [
             1,
             "rgb(5,48,97)"
            ]
           ],
           "sequential": [
            [
             0,
             "#440154"
            ],
            [
             0.1111111111111111,
             "#482878"
            ],
            [
             0.2222222222222222,
             "#3e4989"
            ],
            [
             0.3333333333333333,
             "#31688e"
            ],
            [
             0.4444444444444444,
             "#26828e"
            ],
            [
             0.5555555555555556,
             "#1f9e89"
            ],
            [
             0.6666666666666666,
             "#35b779"
            ],
            [
             0.7777777777777778,
             "#6ece58"
            ],
            [
             0.8888888888888888,
             "#b5de2b"
            ],
            [
             1,
             "#fde725"
            ]
           ],
           "sequentialminus": [
            [
             0,
             "#440154"
            ],
            [
             0.1111111111111111,
             "#482878"
            ],
            [
             0.2222222222222222,
             "#3e4989"
            ],
            [
             0.3333333333333333,
             "#31688e"
            ],
            [
             0.4444444444444444,
             "#26828e"
            ],
            [
             0.5555555555555556,
             "#1f9e89"
            ],
            [
             0.6666666666666666,
             "#35b779"
            ],
            [
             0.7777777777777778,
             "#6ece58"
            ],
            [
             0.8888888888888888,
             "#b5de2b"
            ],
            [
             1,
             "#fde725"
            ]
           ]
          },
          "colorway": [
           "#91268F",
           "#8CC63E",
           "#00A7A0",
           "#F05A28",
           "#4C4C4C",
           "#630460",
           "#9f3913",
           "#588527",
           "#00716c",
           "#3e4040"
          ],
          "font": {
           "color": "rgb(36,36,36)",
           "family": "Poppins",
           "size": 11
          },
          "geo": {
           "bgcolor": "white",
           "lakecolor": "white",
           "landcolor": "white",
           "showlakes": true,
           "showland": true,
           "subunitcolor": "white"
          },
          "hoverlabel": {
           "align": "left"
          },
          "hovermode": "closest",
          "mapbox": {
           "style": "light"
          },
          "paper_bgcolor": "white",
          "plot_bgcolor": "white",
          "polar": {
           "angularaxis": {
            "gridcolor": "rgb(232,232,232)",
            "linecolor": "rgb(36,36,36)",
            "showgrid": false,
            "showline": true,
            "ticks": "outside"
           },
           "bgcolor": "white",
           "radialaxis": {
            "gridcolor": "rgb(232,232,232)",
            "linecolor": "rgb(36,36,36)",
            "showgrid": false,
            "showline": true,
            "ticks": "outside"
           }
          },
          "scene": {
           "xaxis": {
            "backgroundcolor": "white",
            "gridcolor": "rgb(232,232,232)",
            "gridwidth": 2,
            "linecolor": "rgb(36,36,36)",
            "showbackground": true,
            "showgrid": false,
            "showline": true,
            "ticks": "outside",
            "zeroline": false,
            "zerolinecolor": "rgb(36,36,36)"
           },
           "yaxis": {
            "backgroundcolor": "white",
            "gridcolor": "rgb(232,232,232)",
            "gridwidth": 2,
            "linecolor": "rgb(36,36,36)",
            "showbackground": true,
            "showgrid": false,
            "showline": true,
            "ticks": "outside",
            "zeroline": false,
            "zerolinecolor": "rgb(36,36,36)"
           },
           "zaxis": {
            "backgroundcolor": "white",
            "gridcolor": "rgb(232,232,232)",
            "gridwidth": 2,
            "linecolor": "rgb(36,36,36)",
            "showbackground": true,
            "showgrid": false,
            "showline": true,
            "ticks": "outside",
            "zeroline": false,
            "zerolinecolor": "rgb(36,36,36)"
           }
          },
          "shapedefaults": {
           "fillcolor": "black",
           "line": {
            "width": 0
           },
           "opacity": 0.3
          },
          "ternary": {
           "aaxis": {
            "gridcolor": "rgb(232,232,232)",
            "linecolor": "rgb(36,36,36)",
            "showgrid": false,
            "showline": true,
            "ticks": "outside"
           },
           "baxis": {
            "gridcolor": "rgb(232,232,232)",
            "linecolor": "rgb(36,36,36)",
            "showgrid": false,
            "showline": true,
            "ticks": "outside"
           },
           "bgcolor": "white",
           "caxis": {
            "gridcolor": "rgb(232,232,232)",
            "linecolor": "rgb(36,36,36)",
            "showgrid": false,
            "showline": true,
            "ticks": "outside"
           }
          },
          "title": {
           "x": 0.05
          },
          "xaxis": {
           "automargin": true,
           "gridcolor": "rgb(232,232,232)",
           "linecolor": "rgb(36,36,36)",
           "showgrid": false,
           "showline": true,
           "ticks": "outside",
           "title": {
            "standoff": 15
           },
           "zeroline": false,
           "zerolinecolor": "rgb(36,36,36)"
          },
          "yaxis": {
           "automargin": true,
           "gridcolor": "rgb(232,232,232)",
           "linecolor": "rgb(36,36,36)",
           "showgrid": false,
           "showline": true,
           "ticks": "outside",
           "title": {
            "standoff": 15
           },
           "zeroline": false,
           "zerolinecolor": "rgb(36,36,36)"
          }
         }
        },
        "title": {
         "text": "Medium Trucks: Region"
        },
        "width": 800,
        "xaxis": {
         "anchor": "y",
         "domain": [
          0,
          1
         ],
         "title": {
          "text": "Observed"
         }
        },
        "yaxis": {
         "anchor": "x",
         "domain": [
          0,
          1
         ],
         "title": {
          "text": "Model"
         }
        }
       }
      },
      "text/html": [
       "<div>                            <div id=\"dcc8a8cc-533b-419d-918a-22eadda0c1c5\" class=\"plotly-graph-div\" style=\"height:600px; width:800px;\"></div>            <script type=\"text/javascript\">                require([\"plotly\"], function(Plotly) {                    window.PLOTLYENV=window.PLOTLYENV || {};                                    if (document.getElementById(\"dcc8a8cc-533b-419d-918a-22eadda0c1c5\")) {                    Plotly.newPlot(                        \"dcc8a8cc-533b-419d-918a-22eadda0c1c5\",                        [{\"customdata\":[[\"I-5 S\\u002fO Mounts NB\",\"Pierce\"],[\"I-5 S\\u002fO Mounts SB\",\"Pierce\"],[\"I-5 S\\u002fO Division NB\",\"Pierce\"],[\"I-5 S\\u002fO Division SB\",\"Pierce\"],[\"I-5 @ N\\u002fO Division NB\",\"Pierce\"],[\"I-5 @ N\\u002fO Division SB\",\"Pierce\"],[\"I-5 S\\u002fO SR-512 NB\",\"Pierce\"],[\"I-5 S\\u002fO SR-512 SB\",\"Pierce\"],[\"I-5 N\\u002fO SR-512 NB\",\"Pierce\"],[\"I-5 N\\u002fO SR-512 SB\",\"Pierce\"],[\"I-5 N\\u002fO 56th NB\",\"Pierce\"],[\"I-5 N\\u002fO 56th SB\",\"Pierce\"],[\"I-5 E\\u002fO SR-16 NB\",\"Pierce\"],[\"I-5 E\\u002fO SR-16 SB\",\"Pierce\"],[\"I-5 E\\u002fO Port of Tacoma NB\",\"Pierce\"],[\"I-5 E\\u002fO Port of Tacoma SB (HOV from 56)\",\"Pierce\"],[\"I-5 S\\u002fO 205th NB\",\"King\"],[\"I-5 S\\u002fO 205th SB\",\"King\"],[\"I-5 @ 44th NB\",\"Snohomish\"],[\"I-5 @ 44th SB\",\"Snohomish\"],[\"I-5 N\\u002fO 164th NB\",\"Snohomish\"],[\"I-5 N\\u002fO 164th SB\",\"Snohomish\"],[\"I-5 N\\u002fO SR-526 NB\",\"Snohomish\"],[\"I-5 N\\u002fO SR-526 SB\",\"Snohomish\"],[\"I-5 N\\u002fO 41st NB\",\"Snohomish\"],[\"I-5 N\\u002fO 41st SB\",\"Snohomish\"],[\"I-5 @ SR-528 NB\",\"Snohomish\"],[\"I-5 @ SR-528 SB\",\"Snohomish\"],[\"I-5 N\\u002fO SR-531 NB\",\"Snohomish\"],[\"I-5 N\\u002fO SR-531 SB\",\"Snohomish\"],[\"I-5 Rev N\\u002fO I-5 GP NB\\u002fSB\",\"King\"],[\"I-90 E\\u002fO I-5 WB\",\"King\"],[\"I-90 E\\u002fO I-5 EB\",\"King\"],[\"I-90 E\\u002fO W Lk Sam WB\",\"King\"],[\"I-90 E\\u002fO W Lk Sam EB\",\"King\"],[\"I-90 E\\u002fO SR-900 WB\",\"King\"],[\"I-405 @ I-5 Southcenter NB\",\"King\"],[\"I-405 @ I-5 Southcenter SB\",\"King\"],[\"I-405 @ Lake Wash Blvd NB\",\"King\"],[\"I-405 @ I-90 NB\",\"King\"],[\"I-405 @ I-90 SB\",\"King\"],[\"I-405 N\\u002fO SR-527 NB\",\"Snohomish\"],[\"I-405 N\\u002fO SR-527 SB\",\"Snohomish\"],[\"SR-525 N\\u002fO I-5 NB\",\"Snohomish\"],[\"SR-525 N\\u002fO I-5 SB\",\"Snohomish\"],[\"SR-520 @ x-lake bridge WB\",\"King\"],[\"SR-520 @ x-lake bridge EB\",\"King\"],[\"SR-167 S\\u002fO 43rd NB\",\"King\"],[\"SR-167 S\\u002fO 43rd SB\",\"King\"],[\"SR-167 N\\u002fO SR-18 NB\",\"King\"],[\"SR-167 N\\u002fO SR-18 SB\",\"King\"],[\"SR-167 S\\u002fO 15th SW NB\",\"King\"],[\"SR-167 S\\u002fO 15th SW SB\",\"King\"],[\"SR-512 W\\u002fO Meridian WB\",\"Pierce\"],[\"SR-512 W\\u002fO Meridian EB\",\"Pierce\"],[\"SR-509 @ Holden NB\",\"King\"],[\"SR-509 @ Holden SB\",\"King\"],[\"SR-99 N\\u002fO 14th NB\",\"King\"],[\"SR-99 N\\u002fO 14th SB\",\"King\"],[\"SR-99 N\\u002fO WSF NB\",\"King\"],[\"SR-99 N\\u002fO WSF SB\",\"King\"],[\"SR-99 tunnel NB\",\"King\"],[\"SR-99 tunnel SB\",\"King\"],[\"SR-599 S\\u002fO Pacific NB\",\"King\"],[\"SR-599 S\\u002fO Pacific SB\",\"King\"],[\"SR-599 @ Pacific NB\",\"King\"],[\"SR-599 @ Pacific SB\",\"King\"],[\"SR-18 @ I-5 WB\",\"King\"],[\"SR-18 @ I-5 EB\",\"King\"],[\"SR-18 W\\u002fO Auburn-Black Diamond WB\",\"King\"],[\"SR-18 W\\u002fO Auburn-Black Diamond EB\",\"King\"],[\"SR-18 E\\u002fO SR-516 WB\",\"King\"],[\"SR-18 E\\u002fO SR-516 EB\",\"King\"],[\"SR-18 E\\u002fO 256th WB\",\"King\"],[\"SR-18 E\\u002fO 256th EB\",\"King\"],[\"SR-522 N\\u002fO 195th WB\",\"King\"],[\"SR-522 N\\u002fO 195th EB\",\"King\"],[\"I-5 N\\u002fO I-5 Rev CBD NB\\u002fSB\",\"King\"],[\"I-5 @ SR-532 NB\\u002fSB\",\"Snohomish\"],[\"I-5 @ Skagit border NB\\u002fSB\",\"Snohomish\"],[\"I-90 W\\u002fO SR-18 WB\\u002fEB\",\"King\"],[\"I-90 E\\u002fO SR-18 WB\\u002fEB\",\"King\"],[\"I-90 E\\u002fO 436th WB\\u002fEB\",\"King\"],[\"I-90 @ Kittitas County WB\\u002fEB\",\"King\"],[\"I-405 N\\u002fO SR-522 NB\\u002fSB\",\"King\"],[\"SR-525 N\\u002fO SR-526 NB\\u002fSB\",\"Snohomish\"],[\"SR-525 N\\u002fO 5th NB\\u002fSB\",\"Snohomish\"],[\"SR-167 N\\u002fO Grady NB\\u002fSB\",\"King\"],[\"SR-167 W\\u002fO SR-410 NB\\u002fSB\",\"Pierce\"],[\"SR-167 E\\u002fO SR-161 NB\\u002fSB\",\"Pierce\"],[\"SR-410 E\\u002fO S Prairie WB\\u002fEB\",\"Pierce\"],[\"SR-410 E\\u002fO 244th WB\\u002fEB\",\"King\"],[\"SR-410 E\\u002fO Farman WB\\u002fEB\",\"King\"],[\"SR-410 @ Greenwater River WB\\u002fEB\",\"King\"],[\"SR-410 E\\u002fO Chinook WB\\u002fEB\",\"Pierce\"],[\"SR-410 W\\u002fO SR-123 WB\\u002fEB\",\"Pierce\"],[\"SR-410 E\\u002fO SR-123 WB\\u002fEB\",\"Pierce\"],[\"SR-512 @ I-5 WB\\u002fEB\",\"Pierce\"],[\"SR-512 W\\u002fO SR-7 WB\\u002fEB\",\"Pierce\"],[\"SR-512 S\\u002fO SR-167 WB\\u002fEB\",\"Pierce\"],[\"SR-509 E\\u002fO I-705 NB\\u002fSB\",\"Pierce\"],[\"SR-509 W\\u002fO Alexander NB\\u002fSB\",\"Pierce\"],[\"SR-509 S\\u002fO 11th NB\\u002fSB\",\"Pierce\"],[\"SR-509 N\\u002fO Hyada NB\\u002fSB\",\"Pierce\"],[\"SR-509 E\\u002fO Soundview NB\\u002fSB\",\"Pierce\"],[\"SR-509 E\\u002fO 47th NB\\u002fSB\",\"King\"],[\"SR-509 E\\u002fO 21st NB\\u002fSB\",\"King\"],[\"SR-509 W\\u002fO SR-516 NB\\u002fSB\",\"King\"],[\"SR-509 W\\u002fO Des Moines Mem NB\\u002fSB\",\"King\"],[\"SR-509 E\\u002fO 1st Ave NB\\u002fSB\",\"King\"],[\"SR-509 E\\u002fO Des Moines Mem NB\\u002fSB\",\"King\"],[\"SR-509 @ SR-509 ramp overpass NB\\u002fSB\",\"King\"],[\"SR-509 N\\u002fO Des Moines Mem NB\\u002fSB\",\"King\"],[\"SR-509 N\\u002fO SR-518 NB\\u002fSB\",\"King\"],[\"SR-99 @ I-5 NB\\u002fSB\",\"Pierce\"],[\"SR-99 E\\u002fO 54th NB\\u002fSB\",\"Pierce\"],[\"SR-99 S\\u002fO Porter NB\\u002fSB\",\"Pierce\"],[\"SR-99 S\\u002fO SR-18 NB\\u002fSB\",\"King\"],[\"SR-99 N\\u002fO SR-18 NB\\u002fSB\",\"King\"],[\"SR-99 N\\u002fO 320th NB\\u002fSB\",\"King\"],[\"SR-99 N\\u002fO 188th NB\\u002fSB\",\"King\"],[\"SR-99 @ WSF NB\\u002fSB\",\"King\"],[\"SR-99 @ Aurora Bridge NB\\u002fSB\",\"King\"],[\"SR-99 N\\u002fO 38th NB\\u002fSB\",\"King\"],[\"SR-99 S\\u002fO Roosevelt NB\\u002fSB\",\"King\"],[\"SR-99 E\\u002fO Evergreen NB\\u002fSB\",\"Snohomish\"],[\"SR-599 N\\u002fO I-5 NB\\u002fSB\",\"King\"],[\"SR-518 @ SR-509 WB\\u002fEB\",\"King\"],[\"SR-518 E\\u002fO SR-509 WB\\u002fEB\",\"King\"],[\"SR-18 E\\u002fO SR-99 WB\\u002fEB\",\"King\"],[\"SR-18 N\\u002fO 304th WB\\u002fEB\",\"King\"],[\"SR-18 S\\u002fO I-90 WB\\u002fEB\",\"King\"],[\"SR-16 @ TNB NB\\u002fSB\",\"Pierce\"],[\"SR-16 @ Purdy Dr NB\\u002fSB\",\"Pierce\"],[\"SR-16  N\\u002fO SR-302 NB\\u002fSB\",\"Kitsap\"],[\"SR-16 N\\u002fO SR-160 NB\\u002fSB\",\"Kitsap\"],[\"SR-16 N\\u002fO Tremont NB\\u002fSB\",\"Kitsap\"],[\"SR-16 S\\u002fO SR-3 NB\",\"Kitsap\"],[\"SR-202 @ SR-522 NB\\u002fSB\",\"King\"],[\"SR-202 N\\u002fO 145th NB\\u002fSB\",\"King\"],[\"SR-202 @ Sammamish River Br NB\\u002fSB\",\"King\"],[\"SR-202 S\\u002fO 144th NB\\u002fSB\",\"King\"],[\"SR-202 N\\u002fO Redmond Way NB\\u002fSB\",\"King\"],[\"SR-202 E\\u002fO 164th NB\\u002fSB\",\"King\"],[\"SR-202 E\\u002fO SR-520 NB\\u002fSB\",\"King\"],[\"SR-202 E\\u002fO E Lk Samm NB\\u002fSB\",\"King\"],[\"SR-202 E\\u002fO Sahalee NB\\u002fSB\",\"King\"],[\"SR-202 E\\u002fO 236th NB\\u002fSB\",\"King\"],[\"SR-202 S\\u002fO Ames Lake NB\\u002fSB\",\"King\"],[\"SR-202 S\\u002fO Duthie Hill NB\\u002fSB\",\"King\"],[\"SR-202 E\\u002fO SR-203 NB\\u002fSB\",\"King\"],[\"SR-202 N\\u002fO I-90 NB\\u002fSB\",\"King\"],[\"SR-526 W\\u002fO Paine Field Blvd WB\\u002fEB\",\"Snohomish\"],[\"SR-526 E\\u002fO Paine Field Blvd WB\\u002fEB\",\"Snohomish\"],[\"SR-9 @ SR-522 NB\\u002fSB\",\"Snohomish\"],[\"SR-9 N\\u002fO SR-2 NB\\u002fSB\",\"Snohomish\"],[\"SR-9 N\\u002fO SR-204 NB\\u002fSB\",\"Snohomish\"],[\"SR-9 N\\u002fO SR-92 NB\\u002fSB\",\"Snohomish\"],[\"SR-9 N\\u002fO 132nd NB\\u002fSB\",\"Snohomish\"],[\"SR-9 N\\u002fO SR-531 NB\\u002fSB\",\"Snohomish\"],[\"SR-9 S\\u002fO 67th NB\\u002fSB\",\"Snohomish\"],[\"SR-9 N\\u002fO Kackman NB\\u002fSB\",\"Snohomish\"],[\"SR-9 N\\u002fO Stanwood-Bryant NB\\u002fSB\",\"Snohomish\"],[\"SR-532 @ Island County WB\\u002fEB\",\"Snohomish\"],[\"SR-532 W\\u002fO 28th WB\\u002fEB\",\"Snohomish\"],[\"SR-522 N\\u002fO 145th NB\\u002fSB\",\"King\"],[\"SR-104 @ Hood Canal Bridge WB\\u002fEB\",\"Kitsap\"],[\"SR-104 E\\u002fO Hood Canal Bridge WB\\u002fEB\",\"Kitsap\"],[\"SR-104 N\\u002fO Pt Gamble Rd WB\\u002fEB\",\"Kitsap\"],[\"SR-104 E\\u002fO SR-307 WB\\u002fEB\",\"Kitsap\"],[\"SR-104 E\\u002fO Hansville WB\\u002fEB\",\"Kitsap\"],[\"SR-104 @ Ferry Loading Edm WB\\u002fEB\",\"Snohomish\"],[\"SR-104 N\\u002fO Pine WB\\u002fEB\",\"Snohomish\"],[\"SR-104 E\\u002fO 5th WB\\u002fEB\",\"Snohomish\"],[\"SR-104 W\\u002fO 19th WB\\u002fEB\",\"King\"],[\"SR-160 @ SR-16 WB\\u002fEB\",\"Kitsap\"],[\"SR-160 E\\u002fO Long Lake Rd WB\\u002fEB\",\"Kitsap\"],[\"SR-160 W\\u002fO Banner WB\\u002fEB\",\"Kitsap\"],[\"SR-160 E\\u002fO Peterson WB\\u002fEB\",\"Kitsap\"],[\"SR-160 S\\u002fO Southworth Dr WB\\u002fEB\",\"Kitsap\"],[\"SR-166 E\\u002fO SR-16 WB\\u002fEB\",\"Kitsap\"],[\"SR-3 E\\u002fO Sunset Way NB\\u002fSB\",\"Kitsap\"],[\"SR-3 N\\u002fO SR-305 NB\\u002fSB\",\"Kitsap\"],[\"SR-3 S\\u002fO Newberry Hill Rd NB\\u002fSB\",\"Kitsap\"],[\"SR-3 @ SR-304 NB\\u002fSB\",\"Kitsap\"],[\"SR-3 NE of SR-16 NB\\u002fSB\",\"Kitsap\"],[\"SR-3 W\\u002fO Lake Flora Rd NB\\u002fSB\",\"Kitsap\"],[\"SR-302 N\\u002fO 144th WB\\u002fEB\",\"Pierce\"],[\"SR-302 S\\u002fO 144th WB\\u002fEB\",\"Pierce\"],[\"SR-302 W\\u002fO Key Peninsula Hwy WB\\u002fEB\",\"Pierce\"],[\"SR-302 W\\u002fO Wright-Bliss WB\\u002fEB (E\\u002fO?)\",\"Pierce\"],[\"SR-303 E\\u002fO SR-3 NB\\u002fSB\",\"Kitsap\"],[\"SR-303 N\\u002fO 11th St NB\\u002fSB\",\"Kitsap\"],[\"SR-303 N\\u002fO SR-304 NB\\u002fSB\",\"Kitsap\"],[\"SR-304 E\\u002fO SR-3 WB\\u002fEB\",\"Kitsap\"],[\"SR-304 W\\u002fO Naval WB\\u002fEB\",\"Kitsap\"],[\"SR-305 W\\u002fO SR-307 WB\\u002fEB\",\"Kitsap\"],[\"SR-305 W\\u002fO Suquamish Way WB\\u002fEB\",\"Kitsap\"],[\"SR-305 N\\u002fO Day Rd WB\\u002fEB\",\"Kitsap\"],[\"SR-305 N\\u002fO High School Rd WB\\u002fEB\",\"Kitsap\"],[\"SR-305 S\\u002fO Winslow Way WB\\u002fEB\",\"Kitsap\"],[\"SR-305 @ Ferry Ramp WB\\u002fEB\",\"Kitsap\"],[\"SR-307 W\\u002fO SR-104 NB\\u002fSB\",\"Kitsap\"],[\"SR-307 N\\u002fO Gunderson NB\\u002fSB\",\"Kitsap\"],[\"SR-307 S\\u002fO Gunderson NB\\u002fSB\",\"Kitsap\"],[\"SR-307 N\\u002fO SR-305 NB\\u002fSB\",\"Kitsap\"],[\"SR-308 @ SR-3 WB\\u002fEB\",\"Kitsap\"],[\"SR-308 E\\u002fO SR-3 WB\\u002fEB\",\"Kitsap\"],[\"SR-308 E\\u002fO Silverdale Way WB\\u002fEB\",\"Kitsap\"],[\"SR-308 W\\u002fO Brownsville Hwy WB\\u002fEB\",\"Kitsap\"],[\"SR-310 @ SR-3 WB\\u002fEB\",\"Kitsap\"],[\"SR-310 W\\u002fO Callow WB\\u002fEB\",\"Kitsap\"],[\"SR-516 E\\u002fO SR-509 WB\\u002fEB\",\"King\"],[\"SR-516 W\\u002fO I-5 WB\\u002fEB\",\"King\"],[\"SR-516 E\\u002fO Meeker WB\\u002fEB\",\"King\"],[\"SR-516 W\\u002fO SR-167 WB\\u002fEB\",\"King\"],[\"SR-516 E\\u002fO SR-167 WB\\u002fEB\",\"King\"],[\"SR-516 E\\u002fO SR-18 WB\\u002fEB\",\"King\"],[\"SR-161 E\\u002fO SR-7 NB\\u002fSB\",\"Pierce\"],[\"SR-161 N\\u002fO Center NB\\u002fSB\",\"Pierce\"],[\"SR-161 N\\u002fO Eatonville Cutoff NB\\u002fSB\",\"Pierce\"],[\"SR-161 N\\u002fO 304th NB\\u002fSB\",\"Pierce\"],[\"SR-161 N\\u002fO 264th NB\\u002fSB\",\"Pierce\"],[\"SR-161 S\\u002fO 224th NB\\u002fSB\",\"Pierce\"],[\"SR-161 N\\u002fO 224th NB\\u002fSB\",\"Pierce\"],[\"SR-161 N\\u002fO 204th NB\\u002fSB\",\"Pierce\"],[\"SR-161 S\\u002fO SR-167 SB off-ramp NB\\u002fSB\",\"Pierce\"],[\"SR-161 S\\u002fO Valley NB\\u002fSB\",\"Pierce\"],[\"SR-161 N\\u002fO Valley NB\\u002fSB\",\"Pierce\"],[\"SR-161 N\\u002fO 8th NB\\u002fSB\",\"Pierce\"],[\"SR-900 S\\u002fO NB I-5 on-ramp @ Boe Acc WB\\u002fEB\",\"King\"],[\"SR-900 E\\u002fO 68th WB\\u002fEB\",\"King\"],[\"SR-900 @ I-405 WB\\u002fEB\",\"King\"],[\"SR-900 E\\u002fO 148th WB\\u002fEB\",\"King\"],[\"SR-900 N\\u002fO Talus WB\\u002fEB\",\"King\"],[\"SR-900 N\\u002fO Newport WB\\u002fEB\",\"King\"],[\"SR-524 W\\u002fO 3rd WB\\u002fEB\",\"Snohomish\"],[\"SR-524 S\\u002fO Main WB\\u002fEB\",\"Snohomish\"],[\"SR-524 N\\u002fO Main WB\\u002fEB\",\"Snohomish\"],[\"SR-524 E\\u002fO 68th WB\\u002fEB\",\"Snohomish\"],[\"SR-524 E\\u002fO 39th WB\\u002fEB\",\"Snohomish\"],[\"SR-524 N\\u002fO Paradise Lake WB\\u002fEB\",\"Snohomish\"],[\"SR-7 @ Thurston County NB\\u002fSB\",\"Pierce\"],[\"SR-7 W\\u002fO Alder Cutoff NB\\u002fSB\",\"Pierce\"],[\"SR-7 N\\u002fO Eatonville Hwy NB\\u002fSB\",\"Pierce\"],[\"SR-7 N\\u002fO Silver Lake NB\\u002fSB\",\"Pierce\"],[\"SR-7 S\\u002fO SR-702 NB\\u002fSB\",\"Pierce\"],[\"SR-7 N\\u002fO 304th NB\\u002fSB\",\"Pierce\"],[\"SR-7 N\\u002fO 260th NB\\u002fSB\",\"Pierce\"],[\"SR-7 S\\u002fO 224th NB\\u002fSB\",\"Pierce\"],[\"SR-7 N\\u002fO 224th NB\\u002fSB\",\"Pierce\"],[\"SR-7 N\\u002fO 38th NB\\u002fSB\",\"Pierce\"],[\"SR-2 E\\u002fO I-5 WB\\u002fEB\",\"Snohomish\"],[\"SR-2 S\\u002fO SR-204 WB\\u002fEB\",\"Snohomish\"],[\"SR-2 E\\u002fO Main WB\\u002fEB\",\"Snohomish\"],[\"SR-2 E\\u002fO Rice WB\\u002fEB\",\"Snohomish\"],[\"SR-2 E\\u002fO 10th (Gold Bar) WB\\u002fEB\",\"Snohomish\"],[\"SR-2 W\\u002fO Index-Galena WB\\u002fEB\",\"Snohomish\"],[\"SR-2 E\\u002fO Index-Galena WB\\u002fEB\",\"Snohomish\"],[\"SR-2 E\\u002fO Skykomish WB\\u002fEB\",\"King\"],[\"SR-527 N\\u002fO I-405 NB\\u002fSB\",\"Snohomish\"],[\"SR-527 N\\u002fO 196th NB\\u002fSB\",\"Snohomish\"],[\"SR-527 N\\u002fO Dumas NB\\u002fSB\",\"Snohomish\"],[\"SR-527 N\\u002fO 100th NB\\u002fSB\",\"Snohomish\"],[\"SR-513 S\\u002fO 44th NB\\u002fSB\",\"King\"],[\"SR-169 N\\u002fO SR-164 NB\\u002fSB\",\"King\"],[\"SR-169 S\\u002fO Lawson NB\\u002fSB\",\"King\"],[\"SR-169 S\\u002fO 276th NB\\u002fSB\",\"King\"],[\"SR-169 N\\u002fO 280th NB\\u002fSB\",\"King\"],[\"SR-169 N\\u002fO 231st NB\\u002fSB\",\"King\"],[\"SR-169 N\\u002fO 232nd NB\\u002fSB\",\"King\"],[\"SR-169 W\\u002fO 140th NB\\u002fSB\",\"King\"],[\"SR-515 N\\u002fO SR-516 NB\\u002fSB\",\"King\"],[\"SR-515 N\\u002fO 108th NB\\u002fSB\",\"King\"],[\"SR-515 N\\u002fO Puget NB\\u002fSB\",\"King\"],[\"SR-181 N\\u002fO SR-516 NB\\u002fSB\",\"King\"],[\"SR-181 S\\u002fO James NB\\u002fSB\",\"King\"],[\"SR-181 N\\u002fO James NB\\u002fSB\",\"King\"],[\"SR-181 N\\u002fO 228th NB\\u002fSB\",\"King\"],[\"SR-181 N\\u002fO 180th NB\\u002fSB\",\"King\"],[\"SR-181 S\\u002fO Longacres NB\\u002fSB\",\"King\"],[\"SR-523 E\\u002fO Lenora WB\\u002fEB\",\"King\"],[\"SR-529 @ I-5 (Evt) NB\\u002fSB\",\"Snohomish\"],[\"SR-529 S\\u002fO Everett NB\\u002fSB\",\"Snohomish\"],[\"SR-529 W\\u002fO Maple NB\\u002fSB\",\"Snohomish\"],[\"SR-529 N\\u002fO Everett NB\\u002fSB\",\"Snohomish\"],[\"SR-529 N\\u002fO Broadway NB\\u002fSB\",\"Snohomish\"],[\"SR-96 @ I-5 WB\\u002fEB\",\"Snohomish\"],[\"SR-96 N\\u002fO 132nd WB\\u002fEB\",\"Snohomish\"],[\"SR-96 E\\u002fO Seattle Hill WB\\u002fEB\",\"Snohomish\"],[\"SR-164 @ SR-18 WB\\u002fEB\",\"King\"],[\"SR-164 S\\u002fO 400th WB\\u002fEB\",\"King\"],[\"SR-528 @ I-5 WB\\u002fEB\",\"Snohomish\"],[\"SR-528 E\\u002fO SR-529 WB\\u002fEB\",\"Snohomish\"],[\"SR-531 N\\u002fO Rose WB\\u002fEB\",\"Snohomish\"],[\"SR-531 E\\u002fO Lk Goodwin WB\\u002fEB\",\"Snohomish\"],[\"SR-531 E\\u002fO 27th WB\\u002fEB\",\"Snohomish\"],[\"SR-531 E\\u002fO I-5 WB\\u002fEB\",\"Snohomish\"],[\"SR-531 E\\u002fO 43rd WB\\u002fEB\",\"Snohomish\"],[\"SR-531 W\\u002fO 67th WB\\u002fEB\",\"Snohomish\"],[\"SR-531 E\\u002fO 67th WB\\u002fEB\",\"Snohomish\"],[\"SR-162 @ SR-410 WB\\u002fEB\",\"Pierce\"],[\"SR-162 S\\u002fO Pioneer WB\\u002fEB\",\"Pierce\"],[\"SR-162 E\\u002fO Orville WB\\u002fEB\",\"Pierce\"],[\"SR-162 E\\u002fO S Prairie WB\\u002fEB\",\"Pierce\"],[\"SR-162 N\\u002fO SR-165 WB\\u002fEB\",\"Pierce\"],[\"SR-163 @ SR-16 NB\\u002fSB\",\"Pierce\"],[\"SR-163 N\\u002fO 37th NB\\u002fSB\",\"Pierce\"],[\"SR-163 N\\u002fO Park NB\\u002fSB\",\"Pierce\"],[\"SR-530 @ I-5 WB\\u002fEB\",\"Snohomish\"],[\"SR-530 E\\u002fO Smokey Pt WB\\u002fEB\",\"Snohomish\"],[\"SR-530 N\\u002fO 211th WB\\u002fEB\",\"Snohomish\"],[\"SR-530 E\\u002fO SR-9 WB\\u002fEB\",\"Snohomish\"],[\"SR-530 W\\u002fO Arlington Hts WB\\u002fEB\",\"Snohomish\"],[\"SR-530 E\\u002fO Arlington Hts WB\\u002fEB\",\"Snohomish\"],[\"SR-530 W\\u002fO Jim Creek WB\\u002fEB\",\"Snohomish\"],[\"SR-530 W\\u002fO Ramstad WB\\u002fEB\",\"Snohomish\"],[\"SR-530 @ Skagit County WB\\u002fEB\",\"Snohomish\"],[\"SR-203 N\\u002fO 203rd NB\\u002fSB\",\"Snohomish\"],[\"SR-203 N\\u002fO Cherry Valley NB\\u002fSB\",\"King\"],[\"SR-203 N\\u002fO 124th NB\\u002fSB\",\"King\"],[\"SR-203 W\\u002fO Stillwater Hill NB\\u002fSB\",\"King\"],[\"SR-203 N\\u002fO Carnation Farm NB\\u002fSB\",\"King\"],[\"SR-203 N\\u002fO Tolt Hill NB\\u002fSB\",\"King\"],[\"SR-203 N\\u002fO SR-202 NB\\u002fSB\",\"King\"],[\"SR-507 S\\u002fO SR-7 NB\\u002fSB\",\"Pierce\"],[\"SR-507 S\\u002fO E Gate NB\\u002fSB\",\"Pierce\"],[\"SR-507 S\\u002fO 288th NB\\u002fSB\",\"Pierce\"],[\"SR-507 N\\u002fO 346th NB\\u002fSB\",\"Pierce\"],[\"SR-204 @ SR-2 NB\\u002fSB\",\"Snohomish\"],[\"SR-204 N\\u002fO 20th NB\\u002fSB\",\"Snohomish\"],[\"SR-204 N\\u002fO SR-2 NB\\u002fSB\",\"Snohomish\"],[\"SR-519 W\\u002fO 4th NB\\u002fSB\",\"King\"],[\"SR-92 E\\u002fO Lake WB\\u002fEB\",\"Snohomish\"],[\"SR-92 E\\u002fO Callow WB\\u002fEB\",\"Snohomish\"],[\"SR-92 E\\u002fO Quarry WB\\u002fEB\",\"Snohomish\"],[\"SR-92 W\\u002fO Mountain Loop WB\\u002fEB\",\"Snohomish\"],[\"SR-702 E\\u002fO SR-507 WB\\u002fEB\",\"Pierce\"],[\"SR-702 E\\u002fO Harts Lake WB\\u002fEB\",\"Pierce\"],[\"SR-702 E\\u002fO 40th WB\\u002fEB\",\"Pierce\"],[\"SR-702 W\\u002fO 8th WB\\u002fEB\",\"Pierce\"],[\"SR-702 E\\u002fO 8th WB\\u002fEB\",\"Pierce\"],[\"SR-165 W\\u002fO SR-162 NB\\u002fSB\",\"Pierce\"],[\"SR-165 N\\u002fO Davis NB\\u002fSB\",\"Pierce\"],[\"SR-165 N\\u002fO Wilkeson-Carbonado NB\\u002fSB\",\"Pierce\"],[\"SR-704 E\\u002fO Spanaway Loop WB\\u002fEB\",\"Pierce\"],[\"SR-706 E\\u002fO SR-7 WB\\u002fEB\",\"Pierce\"],[\"SR-706 E\\u002fO Kernahan WB\\u002fEB\",\"Pierce\"]],\"hovertemplate\":\"Observed=%{x}\\u003cbr\\u003eModel=%{y}\\u003cbr\\u003elocation=%{customdata[0]}\\u003cbr\\u003eCounty=%{customdata[1]}\\u003cextra\\u003e\\u003c\\u002fextra\\u003e\",\"legendgroup\":\"\",\"marker\":{\"color\":\"#91268F\",\"symbol\":\"circle\"},\"mode\":\"markers\",\"name\":\"\",\"orientation\":\"v\",\"showlegend\":false,\"x\":[2398,2384,2500,2589,2331,2275,2608,2499,4754,4821,5641,5686,1764,3843,2614,3294,1786,1909,2586,2604,2869,2888,2689,2832,2293,2656,2191,2251,1728,1737,645,1525,1405,1400,1380,1329,1046,1702,2618,3724,2998,1539,1620,1248,851,1030,1032,2276,2432,2405,2415,2776,2536,2040,2040,1806,1814,850,630,1279,1163,1067,968,859,720,1271,842,534,973,1357,1295,882,869,1054,1031,1556,1676,2448,2444,2481,1769,2644,1594,1323,3333,710,364,1270,5571,2749,1262,970,554,73,74,48,29,2835,3326,4048,1036,2310,171,59,62,128,408,680,240,102,421,720,1320,1488,1276,1600,1150,1053,600,704,2349,1643,2416,1512,1056,475,2808,787,1075,1329,2434,1344,3133,2138,2336,1997,2251,2041,882,249,217,662,506,815,1705,1125,874,457,589,363,431,331,396,915,1853,1311,1387,1987,829,484,658,443,135,1056,739,1170,702,197,215,512,288,294,220,360,475,475,525,408,233,86,280,1258,1725,2074,1768,3230,864,426,871,227,157,972,1008,434,810,609,1102,660,600,468,265,221,714,476,612,680,156,199,263,230,897,286,260,1080,875,1680,984,975,24,456,313,594,598,504,864,1216,1000,1850,720,800,924,392,754,198,682,546,68,160,167,494,330,1157,241,106,193,228,363,690,897,1350,858,378,2430,1634,858,735,516,346,242,214,1484,837,704,858,728,398,594,816,546,1675,1058,1014,825,408,893,1798,1265,1450,1650,1620,2108,609,333,271,364,238,1122,1408,392,220,810,660,728,616,75,432,693,1230,1632,969,560,640,924,618,354,547,420,276,161,690,882,784,420,520,461,410,276,167,636,590,741,486,490,539,502,1264,462,533,611,259,371,960,1044,1349,994,320,324,524,396,389,382,322,390,211,120,720,150,75],\"xaxis\":\"x\",\"y\":[0,0,717,741,710,732,1039,1009,1986,2379,3333,3525,1855,5933,6358,6403,6558,6312,5690,5707,5140,4826,4455,4479,4351,4199,1914,1938,645,615,3129,4578,4778,2621,2618,1805,1466,3143,6099,5183,5112,4675,4533,3093,2871,3556,3467,4034,4182,4679,4818,4005,3951,2279,2255,1672,1754,1374,887,2212,2375,1292,1474,1802,1585,1552,1187,1321,838,1408,1288,849,792,884,819,1788,1631,11055,120,0,1575,1272,61,0,9024,347,33,2143,6937,3114,1146,400,52,41,0,0,0,3291,3343,5149,1677,1550,94,29,29,70,323,227,144,74,97,841,1779,2752,1296,1270,1328,1296,827,688,1748,3428,3120,1775,699,141,3408,1922,2034,1871,2171,866,6861,4138,4291,3504,3704,2087,725,446,279,826,369,420,2236,1431,531,493,381,195,279,664,194,1764,1329,1343,1814,2145,693,536,183,46,63,0,596,2204,0,24,17,230,170,293,170,284,479,566,181,134,186,71,415,54,209,2688,2719,4285,0,324,331,140,42,845,966,335,1656,830,1754,1075,1130,165,90,90,281,330,606,625,112,120,196,125,369,140,159,2092,3147,3947,1769,1016,4,28,190,353,350,530,587,1043,1333,1993,595,1398,1701,586,1502,594,1097,885,293,68,315,668,452,609,0,16,23,30,28,243,292,329,414,193,3183,1687,755,308,111,111,80,0,3059,942,402,1050,1602,105,412,329,581,869,931,1741,329,589,1231,2017,1803,2299,3116,3364,3437,653,465,420,355,131,617,1532,416,53,933,659,1121,595,42,153,604,1459,934,241,365,523,734,246,130,240,980,369,201,327,605,406,386,396,331,281,232,0,444,455,460,217,230,315,206,252,158,46,48,166,299,1370,2271,792,572,195,158,10,10,107,107,54,159,81,37,764,0,0],\"yaxis\":\"y\",\"type\":\"scatter\",\"line\":{\"color\":\"Grey\",\"width\":2}},{\"hovertemplate\":\"Observed=%{x}\\u003cbr\\u003eModel=%{y}\\u003cextra\\u003e\\u003c\\u002fextra\\u003e\",\"legendgroup\":\"\",\"line\":{\"color\":\"Grey\",\"dash\":\"solid\",\"width\":2},\"marker\":{\"symbol\":\"circle\"},\"mode\":\"lines\",\"name\":\"\",\"orientation\":\"v\",\"showlegend\":false,\"x\":[0.0,57.43434343434343,114.86868686868686,172.3030303030303,229.73737373737373,287.17171717171715,344.6060606060606,402.04040404040404,459.47474747474746,516.9090909090909,574.3434343434343,631.7777777777777,689.2121212121212,746.6464646464647,804.0808080808081,861.5151515151515,918.9494949494949,976.3838383838383,1033.8181818181818,1091.2525252525252,1148.6868686868686,1206.121212121212,1263.5555555555554,1320.9898989898988,1378.4242424242425,1435.858585858586,1493.2929292929293,1550.7272727272727,1608.1616161616162,1665.5959595959596,1723.030303030303,1780.4646464646464,1837.8989898989898,1895.3333333333333,1952.7676767676767,2010.20202020202,2067.6363636363635,2125.070707070707,2182.5050505050503,2239.939393939394,2297.373737373737,2354.808080808081,2412.242424242424,2469.6767676767677,2527.111111111111,2584.5454545454545,2641.9797979797977,2699.4141414141413,2756.848484848485,2814.282828282828,2871.717171717172,2929.151515151515,2986.5858585858587,3044.020202020202,3101.4545454545455,3158.8888888888887,3216.3232323232323,3273.7575757575755,3331.191919191919,3388.6262626262624,3446.060606060606,3503.494949494949,3560.929292929293,3618.363636363636,3675.7979797979797,3733.2323232323233,3790.6666666666665,3848.10101010101,3905.5353535353534,3962.969696969697,4020.40404040404,4077.838383838384,4135.272727272727,4192.707070707071,4250.141414141414,4307.575757575757,4365.010101010101,4422.444444444444,4479.878787878788,4537.313131313131,4594.747474747474,4652.181818181818,4709.616161616162,4767.050505050505,4824.484848484848,4881.919191919192,4939.353535353535,4996.787878787879,5054.222222222222,5111.656565656565,5169.090909090909,5226.525252525253,5283.959595959595,5341.393939393939,5398.828282828283,5456.262626262626,5513.69696969697,5571.131313131313,5628.565656565656,5686.0],\"xaxis\":\"x\",\"y\":[-43.68669112788325,27.999882882180174,99.6864568922436,171.37303090230705,243.05960491237045,314.74617892243384,386.43275293249735,458.11932694256075,529.8059009526241,601.4924749626875,673.1790489727509,744.8656229828143,816.552196992878,888.2387710029413,959.9253450130047,1031.6119190230681,1103.2984930331315,1174.985067043195,1246.6716410532583,1318.3582150633217,1390.0447890733851,1461.7313630834485,1533.417937093512,1605.1045111035753,1676.7910851136392,1748.4776591237026,1820.164233133766,1891.8508071438293,1963.5373811538927,2035.2239551639561,2106.9105291740198,2178.5971031840827,2250.2836771941465,2321.9702512042095,2393.6568252142733,2465.3433992243363,2537.0299732344,2608.716547244464,2680.403121254527,2752.089695264591,2823.7762692746537,2895.4628432847176,2967.1494172947805,3038.8359913048444,3110.5225653149073,3182.209139324971,3253.895713335034,3325.582287345098,3397.268861355162,3468.9554353652247,3540.6420093752886,3612.3285833853515,3684.0151573954154,3755.7017314054783,3827.388305415542,3899.074879425605,3970.761453435669,4042.448027445732,4114.134601455796,4185.821175465859,4257.5077494759225,4329.1943234859855,4400.880897496049,4472.567471506112,4544.254045516176,4615.94061952624,4687.627193536303,4759.313767546367,4831.00034155643,4902.686915566494,4974.3734895765565,5046.06006358662,5117.746637596683,5189.433211606747,5261.119785616811,5332.806359626873,5404.492933636937,5476.179507647001,5547.866081657065,5619.552655667127,5691.23922967719,5762.925803687254,5834.612377697318,5906.298951707382,5977.985525717444,6049.672099727508,6121.358673737572,6193.045247747636,6264.731821757698,6336.4183957677615,6408.104969777825,6479.791543787889,6551.478117797951,6623.164691808015,6694.851265818079,6766.537839828143,6838.224413838207,6909.910987848269,6981.5975618583325,7053.284135868396],\"yaxis\":\"y\",\"type\":\"scatter\"}],                        {\"template\":{\"data\":{\"barpolar\":[{\"marker\":{\"line\":{\"color\":\"white\",\"width\":0.5},\"pattern\":{\"fillmode\":\"overlay\",\"size\":10,\"solidity\":0.2}},\"type\":\"barpolar\"}],\"bar\":[{\"error_x\":{\"color\":\"rgb(36,36,36)\"},\"error_y\":{\"color\":\"rgb(36,36,36)\"},\"marker\":{\"line\":{\"color\":\"white\",\"width\":0.5},\"pattern\":{\"fillmode\":\"overlay\",\"size\":10,\"solidity\":0.2}},\"type\":\"bar\"}],\"carpet\":[{\"aaxis\":{\"endlinecolor\":\"rgb(36,36,36)\",\"gridcolor\":\"white\",\"linecolor\":\"white\",\"minorgridcolor\":\"white\",\"startlinecolor\":\"rgb(36,36,36)\"},\"baxis\":{\"endlinecolor\":\"rgb(36,36,36)\",\"gridcolor\":\"white\",\"linecolor\":\"white\",\"minorgridcolor\":\"white\",\"startlinecolor\":\"rgb(36,36,36)\"},\"type\":\"carpet\"}],\"choropleth\":[{\"colorbar\":{\"outlinewidth\":1,\"tickcolor\":\"rgb(36,36,36)\",\"ticks\":\"outside\"},\"type\":\"choropleth\"}],\"contourcarpet\":[{\"colorbar\":{\"outlinewidth\":1,\"tickcolor\":\"rgb(36,36,36)\",\"ticks\":\"outside\"},\"type\":\"contourcarpet\"}],\"contour\":[{\"colorbar\":{\"outlinewidth\":1,\"tickcolor\":\"rgb(36,36,36)\",\"ticks\":\"outside\"},\"colorscale\":[[0.0,\"#440154\"],[0.1111111111111111,\"#482878\"],[0.2222222222222222,\"#3e4989\"],[0.3333333333333333,\"#31688e\"],[0.4444444444444444,\"#26828e\"],[0.5555555555555556,\"#1f9e89\"],[0.6666666666666666,\"#35b779\"],[0.7777777777777778,\"#6ece58\"],[0.8888888888888888,\"#b5de2b\"],[1.0,\"#fde725\"]],\"type\":\"contour\"}],\"heatmapgl\":[{\"colorbar\":{\"outlinewidth\":1,\"tickcolor\":\"rgb(36,36,36)\",\"ticks\":\"outside\"},\"colorscale\":[[0.0,\"#440154\"],[0.1111111111111111,\"#482878\"],[0.2222222222222222,\"#3e4989\"],[0.3333333333333333,\"#31688e\"],[0.4444444444444444,\"#26828e\"],[0.5555555555555556,\"#1f9e89\"],[0.6666666666666666,\"#35b779\"],[0.7777777777777778,\"#6ece58\"],[0.8888888888888888,\"#b5de2b\"],[1.0,\"#fde725\"]],\"type\":\"heatmapgl\"}],\"heatmap\":[{\"colorbar\":{\"outlinewidth\":1,\"tickcolor\":\"rgb(36,36,36)\",\"ticks\":\"outside\"},\"colorscale\":[[0.0,\"#440154\"],[0.1111111111111111,\"#482878\"],[0.2222222222222222,\"#3e4989\"],[0.3333333333333333,\"#31688e\"],[0.4444444444444444,\"#26828e\"],[0.5555555555555556,\"#1f9e89\"],[0.6666666666666666,\"#35b779\"],[0.7777777777777778,\"#6ece58\"],[0.8888888888888888,\"#b5de2b\"],[1.0,\"#fde725\"]],\"type\":\"heatmap\"}],\"histogram2dcontour\":[{\"colorbar\":{\"outlinewidth\":1,\"tickcolor\":\"rgb(36,36,36)\",\"ticks\":\"outside\"},\"colorscale\":[[0.0,\"#440154\"],[0.1111111111111111,\"#482878\"],[0.2222222222222222,\"#3e4989\"],[0.3333333333333333,\"#31688e\"],[0.4444444444444444,\"#26828e\"],[0.5555555555555556,\"#1f9e89\"],[0.6666666666666666,\"#35b779\"],[0.7777777777777778,\"#6ece58\"],[0.8888888888888888,\"#b5de2b\"],[1.0,\"#fde725\"]],\"type\":\"histogram2dcontour\"}],\"histogram2d\":[{\"colorbar\":{\"outlinewidth\":1,\"tickcolor\":\"rgb(36,36,36)\",\"ticks\":\"outside\"},\"colorscale\":[[0.0,\"#440154\"],[0.1111111111111111,\"#482878\"],[0.2222222222222222,\"#3e4989\"],[0.3333333333333333,\"#31688e\"],[0.4444444444444444,\"#26828e\"],[0.5555555555555556,\"#1f9e89\"],[0.6666666666666666,\"#35b779\"],[0.7777777777777778,\"#6ece58\"],[0.8888888888888888,\"#b5de2b\"],[1.0,\"#fde725\"]],\"type\":\"histogram2d\"}],\"histogram\":[{\"marker\":{\"line\":{\"color\":\"white\",\"width\":0.6}},\"type\":\"histogram\"}],\"mesh3d\":[{\"colorbar\":{\"outlinewidth\":1,\"tickcolor\":\"rgb(36,36,36)\",\"ticks\":\"outside\"},\"type\":\"mesh3d\"}],\"parcoords\":[{\"line\":{\"colorbar\":{\"outlinewidth\":1,\"tickcolor\":\"rgb(36,36,36)\",\"ticks\":\"outside\"}},\"type\":\"parcoords\"}],\"pie\":[{\"automargin\":true,\"type\":\"pie\"}],\"scatter3d\":[{\"line\":{\"colorbar\":{\"outlinewidth\":1,\"tickcolor\":\"rgb(36,36,36)\",\"ticks\":\"outside\"}},\"marker\":{\"colorbar\":{\"outlinewidth\":1,\"tickcolor\":\"rgb(36,36,36)\",\"ticks\":\"outside\"}},\"type\":\"scatter3d\"}],\"scattercarpet\":[{\"marker\":{\"colorbar\":{\"outlinewidth\":1,\"tickcolor\":\"rgb(36,36,36)\",\"ticks\":\"outside\"}},\"type\":\"scattercarpet\"}],\"scattergeo\":[{\"marker\":{\"colorbar\":{\"outlinewidth\":1,\"tickcolor\":\"rgb(36,36,36)\",\"ticks\":\"outside\"}},\"type\":\"scattergeo\"}],\"scattergl\":[{\"marker\":{\"colorbar\":{\"outlinewidth\":1,\"tickcolor\":\"rgb(36,36,36)\",\"ticks\":\"outside\"}},\"type\":\"scattergl\"}],\"scattermapbox\":[{\"marker\":{\"colorbar\":{\"outlinewidth\":1,\"tickcolor\":\"rgb(36,36,36)\",\"ticks\":\"outside\"}},\"type\":\"scattermapbox\"}],\"scatterpolargl\":[{\"marker\":{\"colorbar\":{\"outlinewidth\":1,\"tickcolor\":\"rgb(36,36,36)\",\"ticks\":\"outside\"}},\"type\":\"scatterpolargl\"}],\"scatterpolar\":[{\"marker\":{\"colorbar\":{\"outlinewidth\":1,\"tickcolor\":\"rgb(36,36,36)\",\"ticks\":\"outside\"}},\"type\":\"scatterpolar\"}],\"scatter\":[{\"fillpattern\":{\"fillmode\":\"overlay\",\"size\":10,\"solidity\":0.2},\"type\":\"scatter\"}],\"scatterternary\":[{\"marker\":{\"colorbar\":{\"outlinewidth\":1,\"tickcolor\":\"rgb(36,36,36)\",\"ticks\":\"outside\"}},\"type\":\"scatterternary\"}],\"surface\":[{\"colorbar\":{\"outlinewidth\":1,\"tickcolor\":\"rgb(36,36,36)\",\"ticks\":\"outside\"},\"colorscale\":[[0.0,\"#440154\"],[0.1111111111111111,\"#482878\"],[0.2222222222222222,\"#3e4989\"],[0.3333333333333333,\"#31688e\"],[0.4444444444444444,\"#26828e\"],[0.5555555555555556,\"#1f9e89\"],[0.6666666666666666,\"#35b779\"],[0.7777777777777778,\"#6ece58\"],[0.8888888888888888,\"#b5de2b\"],[1.0,\"#fde725\"]],\"type\":\"surface\"}],\"table\":[{\"cells\":{\"fill\":{\"color\":\"rgb(237,237,237)\"},\"line\":{\"color\":\"white\"}},\"header\":{\"fill\":{\"color\":\"rgb(217,217,217)\"},\"line\":{\"color\":\"white\"}},\"type\":\"table\"}]},\"layout\":{\"annotationdefaults\":{\"arrowhead\":0,\"arrowwidth\":1},\"autotypenumbers\":\"strict\",\"coloraxis\":{\"colorbar\":{\"outlinewidth\":1,\"tickcolor\":\"rgb(36,36,36)\",\"ticks\":\"outside\"}},\"colorscale\":{\"diverging\":[[0.0,\"rgb(103,0,31)\"],[0.1,\"rgb(178,24,43)\"],[0.2,\"rgb(214,96,77)\"],[0.3,\"rgb(244,165,130)\"],[0.4,\"rgb(253,219,199)\"],[0.5,\"rgb(247,247,247)\"],[0.6,\"rgb(209,229,240)\"],[0.7,\"rgb(146,197,222)\"],[0.8,\"rgb(67,147,195)\"],[0.9,\"rgb(33,102,172)\"],[1.0,\"rgb(5,48,97)\"]],\"sequential\":[[0.0,\"#440154\"],[0.1111111111111111,\"#482878\"],[0.2222222222222222,\"#3e4989\"],[0.3333333333333333,\"#31688e\"],[0.4444444444444444,\"#26828e\"],[0.5555555555555556,\"#1f9e89\"],[0.6666666666666666,\"#35b779\"],[0.7777777777777778,\"#6ece58\"],[0.8888888888888888,\"#b5de2b\"],[1.0,\"#fde725\"]],\"sequentialminus\":[[0.0,\"#440154\"],[0.1111111111111111,\"#482878\"],[0.2222222222222222,\"#3e4989\"],[0.3333333333333333,\"#31688e\"],[0.4444444444444444,\"#26828e\"],[0.5555555555555556,\"#1f9e89\"],[0.6666666666666666,\"#35b779\"],[0.7777777777777778,\"#6ece58\"],[0.8888888888888888,\"#b5de2b\"],[1.0,\"#fde725\"]]},\"colorway\":[\"#91268F\",\"#8CC63E\",\"#00A7A0\",\"#F05A28\",\"#4C4C4C\",\"#630460\",\"#9f3913\",\"#588527\",\"#00716c\",\"#3e4040\"],\"font\":{\"color\":\"rgb(36,36,36)\",\"family\":\"Poppins\",\"size\":11},\"geo\":{\"bgcolor\":\"white\",\"lakecolor\":\"white\",\"landcolor\":\"white\",\"showlakes\":true,\"showland\":true,\"subunitcolor\":\"white\"},\"hoverlabel\":{\"align\":\"left\"},\"hovermode\":\"closest\",\"mapbox\":{\"style\":\"light\"},\"paper_bgcolor\":\"white\",\"plot_bgcolor\":\"white\",\"polar\":{\"angularaxis\":{\"gridcolor\":\"rgb(232,232,232)\",\"linecolor\":\"rgb(36,36,36)\",\"showgrid\":false,\"showline\":true,\"ticks\":\"outside\"},\"bgcolor\":\"white\",\"radialaxis\":{\"gridcolor\":\"rgb(232,232,232)\",\"linecolor\":\"rgb(36,36,36)\",\"showgrid\":false,\"showline\":true,\"ticks\":\"outside\"}},\"scene\":{\"xaxis\":{\"backgroundcolor\":\"white\",\"gridcolor\":\"rgb(232,232,232)\",\"gridwidth\":2,\"linecolor\":\"rgb(36,36,36)\",\"showbackground\":true,\"showgrid\":false,\"showline\":true,\"ticks\":\"outside\",\"zeroline\":false,\"zerolinecolor\":\"rgb(36,36,36)\"},\"yaxis\":{\"backgroundcolor\":\"white\",\"gridcolor\":\"rgb(232,232,232)\",\"gridwidth\":2,\"linecolor\":\"rgb(36,36,36)\",\"showbackground\":true,\"showgrid\":false,\"showline\":true,\"ticks\":\"outside\",\"zeroline\":false,\"zerolinecolor\":\"rgb(36,36,36)\"},\"zaxis\":{\"backgroundcolor\":\"white\",\"gridcolor\":\"rgb(232,232,232)\",\"gridwidth\":2,\"linecolor\":\"rgb(36,36,36)\",\"showbackground\":true,\"showgrid\":false,\"showline\":true,\"ticks\":\"outside\",\"zeroline\":false,\"zerolinecolor\":\"rgb(36,36,36)\"}},\"shapedefaults\":{\"fillcolor\":\"black\",\"line\":{\"width\":0},\"opacity\":0.3},\"ternary\":{\"aaxis\":{\"gridcolor\":\"rgb(232,232,232)\",\"linecolor\":\"rgb(36,36,36)\",\"showgrid\":false,\"showline\":true,\"ticks\":\"outside\"},\"baxis\":{\"gridcolor\":\"rgb(232,232,232)\",\"linecolor\":\"rgb(36,36,36)\",\"showgrid\":false,\"showline\":true,\"ticks\":\"outside\"},\"bgcolor\":\"white\",\"caxis\":{\"gridcolor\":\"rgb(232,232,232)\",\"linecolor\":\"rgb(36,36,36)\",\"showgrid\":false,\"showline\":true,\"ticks\":\"outside\"}},\"title\":{\"x\":0.05},\"xaxis\":{\"automargin\":true,\"gridcolor\":\"rgb(232,232,232)\",\"linecolor\":\"rgb(36,36,36)\",\"showgrid\":false,\"showline\":true,\"ticks\":\"outside\",\"title\":{\"standoff\":15},\"zeroline\":false,\"zerolinecolor\":\"rgb(36,36,36)\"},\"yaxis\":{\"automargin\":true,\"gridcolor\":\"rgb(232,232,232)\",\"linecolor\":\"rgb(36,36,36)\",\"showgrid\":false,\"showline\":true,\"ticks\":\"outside\",\"title\":{\"standoff\":15},\"zeroline\":false,\"zerolinecolor\":\"rgb(36,36,36)\"}}},\"xaxis\":{\"anchor\":\"y\",\"domain\":[0.0,1.0],\"title\":{\"text\":\"Observed\"}},\"yaxis\":{\"anchor\":\"x\",\"domain\":[0.0,1.0],\"title\":{\"text\":\"Model\"}},\"legend\":{\"tracegroupgap\":0},\"title\":{\"text\":\"Medium Trucks: Region\"},\"margin\":{\"l\":100,\"r\":100,\"t\":100,\"b\":100},\"height\":600,\"width\":800,\"shapes\":[{\"line\":{\"color\":\"Red\",\"dash\":\"dash\",\"width\":2},\"type\":\"line\",\"x0\":0,\"x1\":11055,\"y0\":0,\"y1\":11055}],\"annotations\":[{\"align\":\"right\",\"font\":{\"color\":\"pink\",\"size\":12},\"showarrow\":false,\"text\":\"y = x\",\"x\":11607.75,\"y\":11607.75},{\"align\":\"right\",\"font\":{\"color\":\"black\",\"size\":12},\"showarrow\":false,\"text\":\"r^2 = 0.52\",\"x\":5970.3,\"y\":7405.948342661816}]},                        {\"responsive\": true}                    ).then(function(){\n",
       "                            \n",
       "var gd = document.getElementById('dcc8a8cc-533b-419d-918a-22eadda0c1c5');\n",
       "var x = new MutationObserver(function (mutations, observer) {{\n",
       "        var display = window.getComputedStyle(gd).display;\n",
       "        if (!display || display === 'none') {{\n",
       "            console.log([gd, 'removed!']);\n",
       "            Plotly.purge(gd);\n",
       "            observer.disconnect();\n",
       "        }}\n",
       "}});\n",
       "\n",
       "// Listen for the removal of the full notebook cells\n",
       "var notebookContainer = gd.closest('#notebook-container');\n",
       "if (notebookContainer) {{\n",
       "    x.observe(notebookContainer, {childList: true});\n",
       "}}\n",
       "\n",
       "// Listen for the clearing of the current output cell\n",
       "var outputEl = gd.closest('.output');\n",
       "if (outputEl) {{\n",
       "    x.observe(outputEl, {childList: true});\n",
       "}}\n",
       "\n",
       "                        })                };                });            </script>        </div>"
      ]
     },
     "metadata": {},
     "output_type": "display_data"
    }
   ],
   "source": [
    "fig = create_truck_chart(df_daily_med, 'Medium')\n",
    "fig.show()"
   ]
  },
  {
   "cell_type": "raw",
   "id": "d673c0fb",
   "metadata": {},
   "source": [
    "#### King"
   ]
  },
  {
   "cell_type": "code",
   "execution_count": 30,
   "id": "e5361979",
   "metadata": {},
   "outputs": [
    {
     "data": {
      "application/vnd.plotly.v1+json": {
       "config": {
        "plotlyServerURL": "https://plot.ly"
       },
       "data": [
        {
         "customdata": [
          [
           "I-5 S/O 205th NB",
           "King"
          ],
          [
           "I-5 S/O 205th SB",
           "King"
          ],
          [
           "I-5 Rev N/O I-5 GP NB/SB",
           "King"
          ],
          [
           "I-90 E/O I-5 WB",
           "King"
          ],
          [
           "I-90 E/O I-5 EB",
           "King"
          ],
          [
           "I-90 E/O W Lk Sam WB",
           "King"
          ],
          [
           "I-90 E/O W Lk Sam EB",
           "King"
          ],
          [
           "I-90 E/O SR-900 WB",
           "King"
          ],
          [
           "I-405 @ I-5 Southcenter NB",
           "King"
          ],
          [
           "I-405 @ I-5 Southcenter SB",
           "King"
          ],
          [
           "I-405 @ Lake Wash Blvd NB",
           "King"
          ],
          [
           "I-405 @ I-90 NB",
           "King"
          ],
          [
           "I-405 @ I-90 SB",
           "King"
          ],
          [
           "SR-520 @ x-lake bridge WB",
           "King"
          ],
          [
           "SR-520 @ x-lake bridge EB",
           "King"
          ],
          [
           "SR-167 S/O 43rd NB",
           "King"
          ],
          [
           "SR-167 S/O 43rd SB",
           "King"
          ],
          [
           "SR-167 N/O SR-18 NB",
           "King"
          ],
          [
           "SR-167 N/O SR-18 SB",
           "King"
          ],
          [
           "SR-167 S/O 15th SW NB",
           "King"
          ],
          [
           "SR-167 S/O 15th SW SB",
           "King"
          ],
          [
           "SR-509 @ Holden NB",
           "King"
          ],
          [
           "SR-509 @ Holden SB",
           "King"
          ],
          [
           "SR-99 N/O 14th NB",
           "King"
          ],
          [
           "SR-99 N/O 14th SB",
           "King"
          ],
          [
           "SR-99 N/O WSF NB",
           "King"
          ],
          [
           "SR-99 N/O WSF SB",
           "King"
          ],
          [
           "SR-99 tunnel NB",
           "King"
          ],
          [
           "SR-99 tunnel SB",
           "King"
          ],
          [
           "SR-599 S/O Pacific NB",
           "King"
          ],
          [
           "SR-599 S/O Pacific SB",
           "King"
          ],
          [
           "SR-599 @ Pacific NB",
           "King"
          ],
          [
           "SR-599 @ Pacific SB",
           "King"
          ],
          [
           "SR-18 @ I-5 WB",
           "King"
          ],
          [
           "SR-18 @ I-5 EB",
           "King"
          ],
          [
           "SR-18 W/O Auburn-Black Diamond WB",
           "King"
          ],
          [
           "SR-18 W/O Auburn-Black Diamond EB",
           "King"
          ],
          [
           "SR-18 E/O SR-516 WB",
           "King"
          ],
          [
           "SR-18 E/O SR-516 EB",
           "King"
          ],
          [
           "SR-18 E/O 256th WB",
           "King"
          ],
          [
           "SR-18 E/O 256th EB",
           "King"
          ],
          [
           "SR-522 N/O 195th WB",
           "King"
          ],
          [
           "SR-522 N/O 195th EB",
           "King"
          ],
          [
           "I-5 N/O I-5 Rev CBD NB/SB",
           "King"
          ],
          [
           "I-90 W/O SR-18 WB/EB",
           "King"
          ],
          [
           "I-90 E/O SR-18 WB/EB",
           "King"
          ],
          [
           "I-90 E/O 436th WB/EB",
           "King"
          ],
          [
           "I-90 @ Kittitas County WB/EB",
           "King"
          ],
          [
           "I-405 N/O SR-522 NB/SB",
           "King"
          ],
          [
           "SR-167 N/O Grady NB/SB",
           "King"
          ],
          [
           "SR-410 E/O 244th WB/EB",
           "King"
          ],
          [
           "SR-410 E/O Farman WB/EB",
           "King"
          ],
          [
           "SR-410 @ Greenwater River WB/EB",
           "King"
          ],
          [
           "SR-509 E/O 47th NB/SB",
           "King"
          ],
          [
           "SR-509 E/O 21st NB/SB",
           "King"
          ],
          [
           "SR-509 W/O SR-516 NB/SB",
           "King"
          ],
          [
           "SR-509 W/O Des Moines Mem NB/SB",
           "King"
          ],
          [
           "SR-509 E/O 1st Ave NB/SB",
           "King"
          ],
          [
           "SR-509 E/O Des Moines Mem NB/SB",
           "King"
          ],
          [
           "SR-509 @ SR-509 ramp overpass NB/SB",
           "King"
          ],
          [
           "SR-509 N/O Des Moines Mem NB/SB",
           "King"
          ],
          [
           "SR-509 N/O SR-518 NB/SB",
           "King"
          ],
          [
           "SR-99 S/O SR-18 NB/SB",
           "King"
          ],
          [
           "SR-99 N/O SR-18 NB/SB",
           "King"
          ],
          [
           "SR-99 N/O 320th NB/SB",
           "King"
          ],
          [
           "SR-99 N/O 188th NB/SB",
           "King"
          ],
          [
           "SR-99 @ WSF NB/SB",
           "King"
          ],
          [
           "SR-99 @ Aurora Bridge NB/SB",
           "King"
          ],
          [
           "SR-99 N/O 38th NB/SB",
           "King"
          ],
          [
           "SR-99 S/O Roosevelt NB/SB",
           "King"
          ],
          [
           "SR-599 N/O I-5 NB/SB",
           "King"
          ],
          [
           "SR-518 @ SR-509 WB/EB",
           "King"
          ],
          [
           "SR-518 E/O SR-509 WB/EB",
           "King"
          ],
          [
           "SR-18 E/O SR-99 WB/EB",
           "King"
          ],
          [
           "SR-18 N/O 304th WB/EB",
           "King"
          ],
          [
           "SR-18 S/O I-90 WB/EB",
           "King"
          ],
          [
           "SR-202 @ SR-522 NB/SB",
           "King"
          ],
          [
           "SR-202 N/O 145th NB/SB",
           "King"
          ],
          [
           "SR-202 @ Sammamish River Br NB/SB",
           "King"
          ],
          [
           "SR-202 S/O 144th NB/SB",
           "King"
          ],
          [
           "SR-202 N/O Redmond Way NB/SB",
           "King"
          ],
          [
           "SR-202 E/O 164th NB/SB",
           "King"
          ],
          [
           "SR-202 E/O SR-520 NB/SB",
           "King"
          ],
          [
           "SR-202 E/O E Lk Samm NB/SB",
           "King"
          ],
          [
           "SR-202 E/O Sahalee NB/SB",
           "King"
          ],
          [
           "SR-202 E/O 236th NB/SB",
           "King"
          ],
          [
           "SR-202 S/O Ames Lake NB/SB",
           "King"
          ],
          [
           "SR-202 S/O Duthie Hill NB/SB",
           "King"
          ],
          [
           "SR-202 E/O SR-203 NB/SB",
           "King"
          ],
          [
           "SR-202 N/O I-90 NB/SB",
           "King"
          ],
          [
           "SR-522 N/O 145th NB/SB",
           "King"
          ],
          [
           "SR-104 W/O 19th WB/EB",
           "King"
          ],
          [
           "SR-516 E/O SR-509 WB/EB",
           "King"
          ],
          [
           "SR-516 W/O I-5 WB/EB",
           "King"
          ],
          [
           "SR-516 E/O Meeker WB/EB",
           "King"
          ],
          [
           "SR-516 W/O SR-167 WB/EB",
           "King"
          ],
          [
           "SR-516 E/O SR-167 WB/EB",
           "King"
          ],
          [
           "SR-516 E/O SR-18 WB/EB",
           "King"
          ],
          [
           "SR-900 S/O NB I-5 on-ramp @ Boe Acc WB/EB",
           "King"
          ],
          [
           "SR-900 E/O 68th WB/EB",
           "King"
          ],
          [
           "SR-900 @ I-405 WB/EB",
           "King"
          ],
          [
           "SR-900 E/O 148th WB/EB",
           "King"
          ],
          [
           "SR-900 N/O Talus WB/EB",
           "King"
          ],
          [
           "SR-900 N/O Newport WB/EB",
           "King"
          ],
          [
           "SR-2 E/O Skykomish WB/EB",
           "King"
          ],
          [
           "SR-513 S/O 44th NB/SB",
           "King"
          ],
          [
           "SR-169 N/O SR-164 NB/SB",
           "King"
          ],
          [
           "SR-169 S/O Lawson NB/SB",
           "King"
          ],
          [
           "SR-169 S/O 276th NB/SB",
           "King"
          ],
          [
           "SR-169 N/O 280th NB/SB",
           "King"
          ],
          [
           "SR-169 N/O 231st NB/SB",
           "King"
          ],
          [
           "SR-169 N/O 232nd NB/SB",
           "King"
          ],
          [
           "SR-169 W/O 140th NB/SB",
           "King"
          ],
          [
           "SR-515 N/O SR-516 NB/SB",
           "King"
          ],
          [
           "SR-515 N/O 108th NB/SB",
           "King"
          ],
          [
           "SR-515 N/O Puget NB/SB",
           "King"
          ],
          [
           "SR-181 N/O SR-516 NB/SB",
           "King"
          ],
          [
           "SR-181 S/O James NB/SB",
           "King"
          ],
          [
           "SR-181 N/O James NB/SB",
           "King"
          ],
          [
           "SR-181 N/O 228th NB/SB",
           "King"
          ],
          [
           "SR-181 N/O 180th NB/SB",
           "King"
          ],
          [
           "SR-181 S/O Longacres NB/SB",
           "King"
          ],
          [
           "SR-523 E/O Lenora WB/EB",
           "King"
          ],
          [
           "SR-164 @ SR-18 WB/EB",
           "King"
          ],
          [
           "SR-164 S/O 400th WB/EB",
           "King"
          ],
          [
           "SR-203 N/O Cherry Valley NB/SB",
           "King"
          ],
          [
           "SR-203 N/O 124th NB/SB",
           "King"
          ],
          [
           "SR-203 W/O Stillwater Hill NB/SB",
           "King"
          ],
          [
           "SR-203 N/O Carnation Farm NB/SB",
           "King"
          ],
          [
           "SR-203 N/O Tolt Hill NB/SB",
           "King"
          ],
          [
           "SR-203 N/O SR-202 NB/SB",
           "King"
          ],
          [
           "SR-519 W/O 4th NB/SB",
           "King"
          ]
         ],
         "hovertemplate": "Observed=%{x}<br>Model=%{y}<br>location=%{customdata[0]}<br>County=%{customdata[1]}<extra></extra>",
         "legendgroup": "",
         "line": {
          "color": "Grey",
          "width": 2
         },
         "marker": {
          "color": "#91268F",
          "symbol": "circle"
         },
         "mode": "markers",
         "name": "",
         "orientation": "v",
         "showlegend": false,
         "type": "scatter",
         "x": [
          1786,
          1909,
          645,
          1525,
          1405,
          1400,
          1380,
          1329,
          1046,
          1702,
          2618,
          3724,
          2998,
          1030,
          1032,
          2276,
          2432,
          2405,
          2415,
          2776,
          2536,
          1806,
          1814,
          850,
          630,
          1279,
          1163,
          1067,
          968,
          859,
          720,
          1271,
          842,
          534,
          973,
          1357,
          1295,
          882,
          869,
          1054,
          1031,
          1556,
          1676,
          2448,
          1769,
          2644,
          1594,
          1323,
          3333,
          1270,
          970,
          554,
          73,
          128,
          408,
          680,
          240,
          102,
          421,
          720,
          1320,
          1488,
          1053,
          600,
          704,
          2349,
          1643,
          2416,
          1512,
          1056,
          2808,
          787,
          1075,
          1329,
          2434,
          1344,
          882,
          249,
          217,
          662,
          506,
          815,
          1705,
          1125,
          874,
          457,
          589,
          363,
          431,
          331,
          1170,
          475,
          260,
          1080,
          875,
          1680,
          984,
          975,
          924,
          392,
          754,
          198,
          682,
          546,
          214,
          728,
          398,
          594,
          816,
          546,
          1675,
          1058,
          1014,
          825,
          408,
          893,
          1798,
          1265,
          1450,
          1650,
          1620,
          2108,
          609,
          810,
          660,
          590,
          741,
          486,
          490,
          539,
          502,
          1044
         ],
         "xaxis": "x",
         "y": [
          6558,
          6312,
          3129,
          4578,
          4778,
          2621,
          2618,
          1805,
          1466,
          3143,
          6099,
          5183,
          5112,
          3556,
          3467,
          4034,
          4182,
          4679,
          4818,
          4005,
          3951,
          1672,
          1754,
          1374,
          887,
          2212,
          2375,
          1292,
          1474,
          1802,
          1585,
          1552,
          1187,
          1321,
          838,
          1408,
          1288,
          849,
          792,
          884,
          819,
          1788,
          1631,
          11055,
          1575,
          1272,
          61,
          0,
          9024,
          2143,
          400,
          52,
          41,
          70,
          323,
          227,
          144,
          74,
          97,
          841,
          1779,
          2752,
          1296,
          827,
          688,
          1748,
          3428,
          3120,
          1775,
          699,
          3408,
          1922,
          2034,
          1871,
          2171,
          866,
          725,
          446,
          279,
          826,
          369,
          420,
          2236,
          1431,
          531,
          493,
          381,
          195,
          279,
          664,
          2204,
          479,
          159,
          2092,
          3147,
          3947,
          1769,
          1016,
          1701,
          586,
          1502,
          594,
          1097,
          885,
          0,
          1602,
          105,
          412,
          329,
          581,
          869,
          931,
          1741,
          329,
          589,
          1231,
          2017,
          1803,
          2299,
          3116,
          3364,
          3437,
          653,
          933,
          659,
          455,
          460,
          217,
          230,
          315,
          206,
          2271
         ],
         "yaxis": "y"
        },
        {
         "hovertemplate": "Observed=%{x}<br>Model=%{y}<extra></extra>",
         "legendgroup": "",
         "line": {
          "color": "Grey",
          "dash": "solid",
          "width": 2
         },
         "marker": {
          "symbol": "circle"
         },
         "mode": "lines",
         "name": "",
         "orientation": "v",
         "showlegend": false,
         "type": "scatter",
         "x": [
          0,
          37.61616161616162,
          75.23232323232324,
          112.84848484848486,
          150.46464646464648,
          188.08080808080808,
          225.69696969696972,
          263.31313131313135,
          300.92929292929296,
          338.54545454545456,
          376.16161616161617,
          413.7777777777778,
          451.39393939393943,
          489.01010101010104,
          526.6262626262627,
          564.2424242424242,
          601.8585858585859,
          639.4747474747476,
          677.0909090909091,
          714.7070707070708,
          752.3232323232323,
          789.939393939394,
          827.5555555555557,
          865.1717171717172,
          902.7878787878789,
          940.4040404040405,
          978.0202020202021,
          1015.6363636363637,
          1053.2525252525254,
          1090.868686868687,
          1128.4848484848485,
          1166.1010101010102,
          1203.7171717171718,
          1241.3333333333335,
          1278.9494949494951,
          1316.5656565656566,
          1354.1818181818182,
          1391.79797979798,
          1429.4141414141416,
          1467.0303030303032,
          1504.6464646464647,
          1542.2626262626263,
          1579.878787878788,
          1617.4949494949497,
          1655.1111111111113,
          1692.727272727273,
          1730.3434343434344,
          1767.959595959596,
          1805.5757575757577,
          1843.1919191919194,
          1880.808080808081,
          1918.4242424242425,
          1956.0404040404042,
          1993.6565656565658,
          2031.2727272727275,
          2068.888888888889,
          2106.505050505051,
          2144.1212121212125,
          2181.737373737374,
          2219.3535353535353,
          2256.969696969697,
          2294.5858585858587,
          2332.2020202020203,
          2369.818181818182,
          2407.4343434343436,
          2445.0505050505053,
          2482.666666666667,
          2520.2828282828286,
          2557.8989898989903,
          2595.515151515152,
          2633.131313131313,
          2670.747474747475,
          2708.3636363636365,
          2745.979797979798,
          2783.59595959596,
          2821.2121212121215,
          2858.828282828283,
          2896.444444444445,
          2934.0606060606065,
          2971.676767676768,
          3009.2929292929293,
          3046.909090909091,
          3084.5252525252527,
          3122.1414141414143,
          3159.757575757576,
          3197.3737373737376,
          3234.9898989898993,
          3272.606060606061,
          3310.2222222222226,
          3347.8383838383843,
          3385.454545454546,
          3423.070707070707,
          3460.686868686869,
          3498.3030303030305,
          3535.919191919192,
          3573.535353535354,
          3611.1515151515155,
          3648.767676767677,
          3686.383838383839,
          3724
         ],
         "xaxis": "x",
         "y": [
          -362.71394253631433,
          -292.942081720687,
          -223.1702209050596,
          -153.39836008943223,
          -83.62649927380488,
          -13.854638458177533,
          55.91722235744987,
          125.68908317307722,
          195.46094398870457,
          265.23280480433186,
          335.00466561995927,
          404.7765264355867,
          474.5483872512141,
          544.3202480668414,
          614.0921088824688,
          683.8639696980961,
          753.6358305137235,
          823.4076913293509,
          893.1795521449781,
          962.9514129606057,
          1032.7232737762329,
          1102.4951345918603,
          1172.2669954074877,
          1242.0388562231149,
          1311.8107170387425,
          1381.58257785437,
          1451.354438669997,
          1521.1262994856245,
          1590.898160301252,
          1660.6700211168793,
          1730.4418819325065,
          1800.2137427481339,
          1869.9856035637613,
          1939.7574643793887,
          2009.529325195016,
          2079.301186010643,
          2149.0730468262705,
          2218.8449076418983,
          2288.6167684575257,
          2358.388629273153,
          2428.16049008878,
          2497.9323509044075,
          2567.704211720035,
          2637.4760725356623,
          2707.2479333512897,
          2777.019794166917,
          2846.791654982544,
          2916.563515798172,
          2986.3353766137993,
          3056.1072374294267,
          3125.879098245054,
          3195.650959060681,
          3265.4228198763085,
          3335.194680691936,
          3404.9665415075633,
          3474.7384023231907,
          3544.510263138818,
          3614.2821239544455,
          3684.053984770073,
          3753.8258455857,
          3823.5977064013273,
          3893.3695672169547,
          3963.141428032582,
          4032.9132888482095,
          4102.685149663837,
          4172.457010479464,
          4242.228871295092,
          4312.000732110719,
          4381.772592926347,
          4451.5444537419735,
          4521.3163145576,
          4591.088175373228,
          4660.860036188855,
          4730.631897004483,
          4800.403757820111,
          4870.175618635738,
          4939.947479451366,
          5009.719340266993,
          5079.491201082621,
          5149.2630618982475,
          5219.034922713874,
          5288.806783529502,
          5358.578644345129,
          5428.350505160757,
          5498.122365976384,
          5567.894226792012,
          5637.6660876076385,
          5707.437948423267,
          5777.209809238893,
          5846.981670054522,
          5916.753530870148,
          5986.525391685775,
          6056.297252501403,
          6126.069113317029,
          6195.840974132658,
          6265.612834948286,
          6335.3846957639125,
          6405.156556579541,
          6474.928417395167,
          6544.700278210794
         ],
         "yaxis": "y"
        }
       ],
       "layout": {
        "annotations": [
         {
          "align": "right",
          "font": {
           "color": "pink",
           "size": 12
          },
          "showarrow": false,
          "text": "y = x",
          "x": 11607.75,
          "y": 11607.75
         },
         {
          "align": "right",
          "font": {
           "color": "black",
           "size": 12
          },
          "showarrow": false,
          "text": "r^2 = 0.57",
          "x": 3910.2000000000003,
          "y": 6871.935292121334
         }
        ],
        "height": 600,
        "legend": {
         "tracegroupgap": 0
        },
        "margin": {
         "b": 100,
         "l": 100,
         "r": 100,
         "t": 100
        },
        "shapes": [
         {
          "line": {
           "color": "Red",
           "dash": "dash",
           "width": 2
          },
          "type": "line",
          "x0": 0,
          "x1": 11055,
          "y0": 0,
          "y1": 11055
         }
        ],
        "template": {
         "data": {
          "bar": [
           {
            "error_x": {
             "color": "rgb(36,36,36)"
            },
            "error_y": {
             "color": "rgb(36,36,36)"
            },
            "marker": {
             "line": {
              "color": "white",
              "width": 0.5
             },
             "pattern": {
              "fillmode": "overlay",
              "size": 10,
              "solidity": 0.2
             }
            },
            "type": "bar"
           }
          ],
          "barpolar": [
           {
            "marker": {
             "line": {
              "color": "white",
              "width": 0.5
             },
             "pattern": {
              "fillmode": "overlay",
              "size": 10,
              "solidity": 0.2
             }
            },
            "type": "barpolar"
           }
          ],
          "carpet": [
           {
            "aaxis": {
             "endlinecolor": "rgb(36,36,36)",
             "gridcolor": "white",
             "linecolor": "white",
             "minorgridcolor": "white",
             "startlinecolor": "rgb(36,36,36)"
            },
            "baxis": {
             "endlinecolor": "rgb(36,36,36)",
             "gridcolor": "white",
             "linecolor": "white",
             "minorgridcolor": "white",
             "startlinecolor": "rgb(36,36,36)"
            },
            "type": "carpet"
           }
          ],
          "choropleth": [
           {
            "colorbar": {
             "outlinewidth": 1,
             "tickcolor": "rgb(36,36,36)",
             "ticks": "outside"
            },
            "type": "choropleth"
           }
          ],
          "contour": [
           {
            "colorbar": {
             "outlinewidth": 1,
             "tickcolor": "rgb(36,36,36)",
             "ticks": "outside"
            },
            "colorscale": [
             [
              0,
              "#440154"
             ],
             [
              0.1111111111111111,
              "#482878"
             ],
             [
              0.2222222222222222,
              "#3e4989"
             ],
             [
              0.3333333333333333,
              "#31688e"
             ],
             [
              0.4444444444444444,
              "#26828e"
             ],
             [
              0.5555555555555556,
              "#1f9e89"
             ],
             [
              0.6666666666666666,
              "#35b779"
             ],
             [
              0.7777777777777778,
              "#6ece58"
             ],
             [
              0.8888888888888888,
              "#b5de2b"
             ],
             [
              1,
              "#fde725"
             ]
            ],
            "type": "contour"
           }
          ],
          "contourcarpet": [
           {
            "colorbar": {
             "outlinewidth": 1,
             "tickcolor": "rgb(36,36,36)",
             "ticks": "outside"
            },
            "type": "contourcarpet"
           }
          ],
          "heatmap": [
           {
            "colorbar": {
             "outlinewidth": 1,
             "tickcolor": "rgb(36,36,36)",
             "ticks": "outside"
            },
            "colorscale": [
             [
              0,
              "#440154"
             ],
             [
              0.1111111111111111,
              "#482878"
             ],
             [
              0.2222222222222222,
              "#3e4989"
             ],
             [
              0.3333333333333333,
              "#31688e"
             ],
             [
              0.4444444444444444,
              "#26828e"
             ],
             [
              0.5555555555555556,
              "#1f9e89"
             ],
             [
              0.6666666666666666,
              "#35b779"
             ],
             [
              0.7777777777777778,
              "#6ece58"
             ],
             [
              0.8888888888888888,
              "#b5de2b"
             ],
             [
              1,
              "#fde725"
             ]
            ],
            "type": "heatmap"
           }
          ],
          "heatmapgl": [
           {
            "colorbar": {
             "outlinewidth": 1,
             "tickcolor": "rgb(36,36,36)",
             "ticks": "outside"
            },
            "colorscale": [
             [
              0,
              "#440154"
             ],
             [
              0.1111111111111111,
              "#482878"
             ],
             [
              0.2222222222222222,
              "#3e4989"
             ],
             [
              0.3333333333333333,
              "#31688e"
             ],
             [
              0.4444444444444444,
              "#26828e"
             ],
             [
              0.5555555555555556,
              "#1f9e89"
             ],
             [
              0.6666666666666666,
              "#35b779"
             ],
             [
              0.7777777777777778,
              "#6ece58"
             ],
             [
              0.8888888888888888,
              "#b5de2b"
             ],
             [
              1,
              "#fde725"
             ]
            ],
            "type": "heatmapgl"
           }
          ],
          "histogram": [
           {
            "marker": {
             "line": {
              "color": "white",
              "width": 0.6
             }
            },
            "type": "histogram"
           }
          ],
          "histogram2d": [
           {
            "colorbar": {
             "outlinewidth": 1,
             "tickcolor": "rgb(36,36,36)",
             "ticks": "outside"
            },
            "colorscale": [
             [
              0,
              "#440154"
             ],
             [
              0.1111111111111111,
              "#482878"
             ],
             [
              0.2222222222222222,
              "#3e4989"
             ],
             [
              0.3333333333333333,
              "#31688e"
             ],
             [
              0.4444444444444444,
              "#26828e"
             ],
             [
              0.5555555555555556,
              "#1f9e89"
             ],
             [
              0.6666666666666666,
              "#35b779"
             ],
             [
              0.7777777777777778,
              "#6ece58"
             ],
             [
              0.8888888888888888,
              "#b5de2b"
             ],
             [
              1,
              "#fde725"
             ]
            ],
            "type": "histogram2d"
           }
          ],
          "histogram2dcontour": [
           {
            "colorbar": {
             "outlinewidth": 1,
             "tickcolor": "rgb(36,36,36)",
             "ticks": "outside"
            },
            "colorscale": [
             [
              0,
              "#440154"
             ],
             [
              0.1111111111111111,
              "#482878"
             ],
             [
              0.2222222222222222,
              "#3e4989"
             ],
             [
              0.3333333333333333,
              "#31688e"
             ],
             [
              0.4444444444444444,
              "#26828e"
             ],
             [
              0.5555555555555556,
              "#1f9e89"
             ],
             [
              0.6666666666666666,
              "#35b779"
             ],
             [
              0.7777777777777778,
              "#6ece58"
             ],
             [
              0.8888888888888888,
              "#b5de2b"
             ],
             [
              1,
              "#fde725"
             ]
            ],
            "type": "histogram2dcontour"
           }
          ],
          "mesh3d": [
           {
            "colorbar": {
             "outlinewidth": 1,
             "tickcolor": "rgb(36,36,36)",
             "ticks": "outside"
            },
            "type": "mesh3d"
           }
          ],
          "parcoords": [
           {
            "line": {
             "colorbar": {
              "outlinewidth": 1,
              "tickcolor": "rgb(36,36,36)",
              "ticks": "outside"
             }
            },
            "type": "parcoords"
           }
          ],
          "pie": [
           {
            "automargin": true,
            "type": "pie"
           }
          ],
          "scatter": [
           {
            "fillpattern": {
             "fillmode": "overlay",
             "size": 10,
             "solidity": 0.2
            },
            "type": "scatter"
           }
          ],
          "scatter3d": [
           {
            "line": {
             "colorbar": {
              "outlinewidth": 1,
              "tickcolor": "rgb(36,36,36)",
              "ticks": "outside"
             }
            },
            "marker": {
             "colorbar": {
              "outlinewidth": 1,
              "tickcolor": "rgb(36,36,36)",
              "ticks": "outside"
             }
            },
            "type": "scatter3d"
           }
          ],
          "scattercarpet": [
           {
            "marker": {
             "colorbar": {
              "outlinewidth": 1,
              "tickcolor": "rgb(36,36,36)",
              "ticks": "outside"
             }
            },
            "type": "scattercarpet"
           }
          ],
          "scattergeo": [
           {
            "marker": {
             "colorbar": {
              "outlinewidth": 1,
              "tickcolor": "rgb(36,36,36)",
              "ticks": "outside"
             }
            },
            "type": "scattergeo"
           }
          ],
          "scattergl": [
           {
            "marker": {
             "colorbar": {
              "outlinewidth": 1,
              "tickcolor": "rgb(36,36,36)",
              "ticks": "outside"
             }
            },
            "type": "scattergl"
           }
          ],
          "scattermapbox": [
           {
            "marker": {
             "colorbar": {
              "outlinewidth": 1,
              "tickcolor": "rgb(36,36,36)",
              "ticks": "outside"
             }
            },
            "type": "scattermapbox"
           }
          ],
          "scatterpolar": [
           {
            "marker": {
             "colorbar": {
              "outlinewidth": 1,
              "tickcolor": "rgb(36,36,36)",
              "ticks": "outside"
             }
            },
            "type": "scatterpolar"
           }
          ],
          "scatterpolargl": [
           {
            "marker": {
             "colorbar": {
              "outlinewidth": 1,
              "tickcolor": "rgb(36,36,36)",
              "ticks": "outside"
             }
            },
            "type": "scatterpolargl"
           }
          ],
          "scatterternary": [
           {
            "marker": {
             "colorbar": {
              "outlinewidth": 1,
              "tickcolor": "rgb(36,36,36)",
              "ticks": "outside"
             }
            },
            "type": "scatterternary"
           }
          ],
          "surface": [
           {
            "colorbar": {
             "outlinewidth": 1,
             "tickcolor": "rgb(36,36,36)",
             "ticks": "outside"
            },
            "colorscale": [
             [
              0,
              "#440154"
             ],
             [
              0.1111111111111111,
              "#482878"
             ],
             [
              0.2222222222222222,
              "#3e4989"
             ],
             [
              0.3333333333333333,
              "#31688e"
             ],
             [
              0.4444444444444444,
              "#26828e"
             ],
             [
              0.5555555555555556,
              "#1f9e89"
             ],
             [
              0.6666666666666666,
              "#35b779"
             ],
             [
              0.7777777777777778,
              "#6ece58"
             ],
             [
              0.8888888888888888,
              "#b5de2b"
             ],
             [
              1,
              "#fde725"
             ]
            ],
            "type": "surface"
           }
          ],
          "table": [
           {
            "cells": {
             "fill": {
              "color": "rgb(237,237,237)"
             },
             "line": {
              "color": "white"
             }
            },
            "header": {
             "fill": {
              "color": "rgb(217,217,217)"
             },
             "line": {
              "color": "white"
             }
            },
            "type": "table"
           }
          ]
         },
         "layout": {
          "annotationdefaults": {
           "arrowhead": 0,
           "arrowwidth": 1
          },
          "autotypenumbers": "strict",
          "coloraxis": {
           "colorbar": {
            "outlinewidth": 1,
            "tickcolor": "rgb(36,36,36)",
            "ticks": "outside"
           }
          },
          "colorscale": {
           "diverging": [
            [
             0,
             "rgb(103,0,31)"
            ],
            [
             0.1,
             "rgb(178,24,43)"
            ],
            [
             0.2,
             "rgb(214,96,77)"
            ],
            [
             0.3,
             "rgb(244,165,130)"
            ],
            [
             0.4,
             "rgb(253,219,199)"
            ],
            [
             0.5,
             "rgb(247,247,247)"
            ],
            [
             0.6,
             "rgb(209,229,240)"
            ],
            [
             0.7,
             "rgb(146,197,222)"
            ],
            [
             0.8,
             "rgb(67,147,195)"
            ],
            [
             0.9,
             "rgb(33,102,172)"
            ],
            [
             1,
             "rgb(5,48,97)"
            ]
           ],
           "sequential": [
            [
             0,
             "#440154"
            ],
            [
             0.1111111111111111,
             "#482878"
            ],
            [
             0.2222222222222222,
             "#3e4989"
            ],
            [
             0.3333333333333333,
             "#31688e"
            ],
            [
             0.4444444444444444,
             "#26828e"
            ],
            [
             0.5555555555555556,
             "#1f9e89"
            ],
            [
             0.6666666666666666,
             "#35b779"
            ],
            [
             0.7777777777777778,
             "#6ece58"
            ],
            [
             0.8888888888888888,
             "#b5de2b"
            ],
            [
             1,
             "#fde725"
            ]
           ],
           "sequentialminus": [
            [
             0,
             "#440154"
            ],
            [
             0.1111111111111111,
             "#482878"
            ],
            [
             0.2222222222222222,
             "#3e4989"
            ],
            [
             0.3333333333333333,
             "#31688e"
            ],
            [
             0.4444444444444444,
             "#26828e"
            ],
            [
             0.5555555555555556,
             "#1f9e89"
            ],
            [
             0.6666666666666666,
             "#35b779"
            ],
            [
             0.7777777777777778,
             "#6ece58"
            ],
            [
             0.8888888888888888,
             "#b5de2b"
            ],
            [
             1,
             "#fde725"
            ]
           ]
          },
          "colorway": [
           "#91268F",
           "#8CC63E",
           "#00A7A0",
           "#F05A28",
           "#4C4C4C",
           "#630460",
           "#9f3913",
           "#588527",
           "#00716c",
           "#3e4040"
          ],
          "font": {
           "color": "rgb(36,36,36)",
           "family": "Poppins",
           "size": 11
          },
          "geo": {
           "bgcolor": "white",
           "lakecolor": "white",
           "landcolor": "white",
           "showlakes": true,
           "showland": true,
           "subunitcolor": "white"
          },
          "hoverlabel": {
           "align": "left"
          },
          "hovermode": "closest",
          "mapbox": {
           "style": "light"
          },
          "paper_bgcolor": "white",
          "plot_bgcolor": "white",
          "polar": {
           "angularaxis": {
            "gridcolor": "rgb(232,232,232)",
            "linecolor": "rgb(36,36,36)",
            "showgrid": false,
            "showline": true,
            "ticks": "outside"
           },
           "bgcolor": "white",
           "radialaxis": {
            "gridcolor": "rgb(232,232,232)",
            "linecolor": "rgb(36,36,36)",
            "showgrid": false,
            "showline": true,
            "ticks": "outside"
           }
          },
          "scene": {
           "xaxis": {
            "backgroundcolor": "white",
            "gridcolor": "rgb(232,232,232)",
            "gridwidth": 2,
            "linecolor": "rgb(36,36,36)",
            "showbackground": true,
            "showgrid": false,
            "showline": true,
            "ticks": "outside",
            "zeroline": false,
            "zerolinecolor": "rgb(36,36,36)"
           },
           "yaxis": {
            "backgroundcolor": "white",
            "gridcolor": "rgb(232,232,232)",
            "gridwidth": 2,
            "linecolor": "rgb(36,36,36)",
            "showbackground": true,
            "showgrid": false,
            "showline": true,
            "ticks": "outside",
            "zeroline": false,
            "zerolinecolor": "rgb(36,36,36)"
           },
           "zaxis": {
            "backgroundcolor": "white",
            "gridcolor": "rgb(232,232,232)",
            "gridwidth": 2,
            "linecolor": "rgb(36,36,36)",
            "showbackground": true,
            "showgrid": false,
            "showline": true,
            "ticks": "outside",
            "zeroline": false,
            "zerolinecolor": "rgb(36,36,36)"
           }
          },
          "shapedefaults": {
           "fillcolor": "black",
           "line": {
            "width": 0
           },
           "opacity": 0.3
          },
          "ternary": {
           "aaxis": {
            "gridcolor": "rgb(232,232,232)",
            "linecolor": "rgb(36,36,36)",
            "showgrid": false,
            "showline": true,
            "ticks": "outside"
           },
           "baxis": {
            "gridcolor": "rgb(232,232,232)",
            "linecolor": "rgb(36,36,36)",
            "showgrid": false,
            "showline": true,
            "ticks": "outside"
           },
           "bgcolor": "white",
           "caxis": {
            "gridcolor": "rgb(232,232,232)",
            "linecolor": "rgb(36,36,36)",
            "showgrid": false,
            "showline": true,
            "ticks": "outside"
           }
          },
          "title": {
           "x": 0.05
          },
          "xaxis": {
           "automargin": true,
           "gridcolor": "rgb(232,232,232)",
           "linecolor": "rgb(36,36,36)",
           "showgrid": false,
           "showline": true,
           "ticks": "outside",
           "title": {
            "standoff": 15
           },
           "zeroline": false,
           "zerolinecolor": "rgb(36,36,36)"
          },
          "yaxis": {
           "automargin": true,
           "gridcolor": "rgb(232,232,232)",
           "linecolor": "rgb(36,36,36)",
           "showgrid": false,
           "showline": true,
           "ticks": "outside",
           "title": {
            "standoff": 15
           },
           "zeroline": false,
           "zerolinecolor": "rgb(36,36,36)"
          }
         }
        },
        "title": {
         "text": "Medium Trucks: King"
        },
        "width": 800,
        "xaxis": {
         "anchor": "y",
         "domain": [
          0,
          1
         ],
         "title": {
          "text": "Observed"
         }
        },
        "yaxis": {
         "anchor": "x",
         "domain": [
          0,
          1
         ],
         "title": {
          "text": "Model"
         }
        }
       }
      },
      "text/html": [
       "<div>                            <div id=\"1ea246b9-6d38-4c0d-b82c-cfc89fc8680e\" class=\"plotly-graph-div\" style=\"height:600px; width:800px;\"></div>            <script type=\"text/javascript\">                require([\"plotly\"], function(Plotly) {                    window.PLOTLYENV=window.PLOTLYENV || {};                                    if (document.getElementById(\"1ea246b9-6d38-4c0d-b82c-cfc89fc8680e\")) {                    Plotly.newPlot(                        \"1ea246b9-6d38-4c0d-b82c-cfc89fc8680e\",                        [{\"customdata\":[[\"I-5 S\\u002fO 205th NB\",\"King\"],[\"I-5 S\\u002fO 205th SB\",\"King\"],[\"I-5 Rev N\\u002fO I-5 GP NB\\u002fSB\",\"King\"],[\"I-90 E\\u002fO I-5 WB\",\"King\"],[\"I-90 E\\u002fO I-5 EB\",\"King\"],[\"I-90 E\\u002fO W Lk Sam WB\",\"King\"],[\"I-90 E\\u002fO W Lk Sam EB\",\"King\"],[\"I-90 E\\u002fO SR-900 WB\",\"King\"],[\"I-405 @ I-5 Southcenter NB\",\"King\"],[\"I-405 @ I-5 Southcenter SB\",\"King\"],[\"I-405 @ Lake Wash Blvd NB\",\"King\"],[\"I-405 @ I-90 NB\",\"King\"],[\"I-405 @ I-90 SB\",\"King\"],[\"SR-520 @ x-lake bridge WB\",\"King\"],[\"SR-520 @ x-lake bridge EB\",\"King\"],[\"SR-167 S\\u002fO 43rd NB\",\"King\"],[\"SR-167 S\\u002fO 43rd SB\",\"King\"],[\"SR-167 N\\u002fO SR-18 NB\",\"King\"],[\"SR-167 N\\u002fO SR-18 SB\",\"King\"],[\"SR-167 S\\u002fO 15th SW NB\",\"King\"],[\"SR-167 S\\u002fO 15th SW SB\",\"King\"],[\"SR-509 @ Holden NB\",\"King\"],[\"SR-509 @ Holden SB\",\"King\"],[\"SR-99 N\\u002fO 14th NB\",\"King\"],[\"SR-99 N\\u002fO 14th SB\",\"King\"],[\"SR-99 N\\u002fO WSF NB\",\"King\"],[\"SR-99 N\\u002fO WSF SB\",\"King\"],[\"SR-99 tunnel NB\",\"King\"],[\"SR-99 tunnel SB\",\"King\"],[\"SR-599 S\\u002fO Pacific NB\",\"King\"],[\"SR-599 S\\u002fO Pacific SB\",\"King\"],[\"SR-599 @ Pacific NB\",\"King\"],[\"SR-599 @ Pacific SB\",\"King\"],[\"SR-18 @ I-5 WB\",\"King\"],[\"SR-18 @ I-5 EB\",\"King\"],[\"SR-18 W\\u002fO Auburn-Black Diamond WB\",\"King\"],[\"SR-18 W\\u002fO Auburn-Black Diamond EB\",\"King\"],[\"SR-18 E\\u002fO SR-516 WB\",\"King\"],[\"SR-18 E\\u002fO SR-516 EB\",\"King\"],[\"SR-18 E\\u002fO 256th WB\",\"King\"],[\"SR-18 E\\u002fO 256th EB\",\"King\"],[\"SR-522 N\\u002fO 195th WB\",\"King\"],[\"SR-522 N\\u002fO 195th EB\",\"King\"],[\"I-5 N\\u002fO I-5 Rev CBD NB\\u002fSB\",\"King\"],[\"I-90 W\\u002fO SR-18 WB\\u002fEB\",\"King\"],[\"I-90 E\\u002fO SR-18 WB\\u002fEB\",\"King\"],[\"I-90 E\\u002fO 436th WB\\u002fEB\",\"King\"],[\"I-90 @ Kittitas County WB\\u002fEB\",\"King\"],[\"I-405 N\\u002fO SR-522 NB\\u002fSB\",\"King\"],[\"SR-167 N\\u002fO Grady NB\\u002fSB\",\"King\"],[\"SR-410 E\\u002fO 244th WB\\u002fEB\",\"King\"],[\"SR-410 E\\u002fO Farman WB\\u002fEB\",\"King\"],[\"SR-410 @ Greenwater River WB\\u002fEB\",\"King\"],[\"SR-509 E\\u002fO 47th NB\\u002fSB\",\"King\"],[\"SR-509 E\\u002fO 21st NB\\u002fSB\",\"King\"],[\"SR-509 W\\u002fO SR-516 NB\\u002fSB\",\"King\"],[\"SR-509 W\\u002fO Des Moines Mem NB\\u002fSB\",\"King\"],[\"SR-509 E\\u002fO 1st Ave NB\\u002fSB\",\"King\"],[\"SR-509 E\\u002fO Des Moines Mem NB\\u002fSB\",\"King\"],[\"SR-509 @ SR-509 ramp overpass NB\\u002fSB\",\"King\"],[\"SR-509 N\\u002fO Des Moines Mem NB\\u002fSB\",\"King\"],[\"SR-509 N\\u002fO SR-518 NB\\u002fSB\",\"King\"],[\"SR-99 S\\u002fO SR-18 NB\\u002fSB\",\"King\"],[\"SR-99 N\\u002fO SR-18 NB\\u002fSB\",\"King\"],[\"SR-99 N\\u002fO 320th NB\\u002fSB\",\"King\"],[\"SR-99 N\\u002fO 188th NB\\u002fSB\",\"King\"],[\"SR-99 @ WSF NB\\u002fSB\",\"King\"],[\"SR-99 @ Aurora Bridge NB\\u002fSB\",\"King\"],[\"SR-99 N\\u002fO 38th NB\\u002fSB\",\"King\"],[\"SR-99 S\\u002fO Roosevelt NB\\u002fSB\",\"King\"],[\"SR-599 N\\u002fO I-5 NB\\u002fSB\",\"King\"],[\"SR-518 @ SR-509 WB\\u002fEB\",\"King\"],[\"SR-518 E\\u002fO SR-509 WB\\u002fEB\",\"King\"],[\"SR-18 E\\u002fO SR-99 WB\\u002fEB\",\"King\"],[\"SR-18 N\\u002fO 304th WB\\u002fEB\",\"King\"],[\"SR-18 S\\u002fO I-90 WB\\u002fEB\",\"King\"],[\"SR-202 @ SR-522 NB\\u002fSB\",\"King\"],[\"SR-202 N\\u002fO 145th NB\\u002fSB\",\"King\"],[\"SR-202 @ Sammamish River Br NB\\u002fSB\",\"King\"],[\"SR-202 S\\u002fO 144th NB\\u002fSB\",\"King\"],[\"SR-202 N\\u002fO Redmond Way NB\\u002fSB\",\"King\"],[\"SR-202 E\\u002fO 164th NB\\u002fSB\",\"King\"],[\"SR-202 E\\u002fO SR-520 NB\\u002fSB\",\"King\"],[\"SR-202 E\\u002fO E Lk Samm NB\\u002fSB\",\"King\"],[\"SR-202 E\\u002fO Sahalee NB\\u002fSB\",\"King\"],[\"SR-202 E\\u002fO 236th NB\\u002fSB\",\"King\"],[\"SR-202 S\\u002fO Ames Lake NB\\u002fSB\",\"King\"],[\"SR-202 S\\u002fO Duthie Hill NB\\u002fSB\",\"King\"],[\"SR-202 E\\u002fO SR-203 NB\\u002fSB\",\"King\"],[\"SR-202 N\\u002fO I-90 NB\\u002fSB\",\"King\"],[\"SR-522 N\\u002fO 145th NB\\u002fSB\",\"King\"],[\"SR-104 W\\u002fO 19th WB\\u002fEB\",\"King\"],[\"SR-516 E\\u002fO SR-509 WB\\u002fEB\",\"King\"],[\"SR-516 W\\u002fO I-5 WB\\u002fEB\",\"King\"],[\"SR-516 E\\u002fO Meeker WB\\u002fEB\",\"King\"],[\"SR-516 W\\u002fO SR-167 WB\\u002fEB\",\"King\"],[\"SR-516 E\\u002fO SR-167 WB\\u002fEB\",\"King\"],[\"SR-516 E\\u002fO SR-18 WB\\u002fEB\",\"King\"],[\"SR-900 S\\u002fO NB I-5 on-ramp @ Boe Acc WB\\u002fEB\",\"King\"],[\"SR-900 E\\u002fO 68th WB\\u002fEB\",\"King\"],[\"SR-900 @ I-405 WB\\u002fEB\",\"King\"],[\"SR-900 E\\u002fO 148th WB\\u002fEB\",\"King\"],[\"SR-900 N\\u002fO Talus WB\\u002fEB\",\"King\"],[\"SR-900 N\\u002fO Newport WB\\u002fEB\",\"King\"],[\"SR-2 E\\u002fO Skykomish WB\\u002fEB\",\"King\"],[\"SR-513 S\\u002fO 44th NB\\u002fSB\",\"King\"],[\"SR-169 N\\u002fO SR-164 NB\\u002fSB\",\"King\"],[\"SR-169 S\\u002fO Lawson NB\\u002fSB\",\"King\"],[\"SR-169 S\\u002fO 276th NB\\u002fSB\",\"King\"],[\"SR-169 N\\u002fO 280th NB\\u002fSB\",\"King\"],[\"SR-169 N\\u002fO 231st NB\\u002fSB\",\"King\"],[\"SR-169 N\\u002fO 232nd NB\\u002fSB\",\"King\"],[\"SR-169 W\\u002fO 140th NB\\u002fSB\",\"King\"],[\"SR-515 N\\u002fO SR-516 NB\\u002fSB\",\"King\"],[\"SR-515 N\\u002fO 108th NB\\u002fSB\",\"King\"],[\"SR-515 N\\u002fO Puget NB\\u002fSB\",\"King\"],[\"SR-181 N\\u002fO SR-516 NB\\u002fSB\",\"King\"],[\"SR-181 S\\u002fO James NB\\u002fSB\",\"King\"],[\"SR-181 N\\u002fO James NB\\u002fSB\",\"King\"],[\"SR-181 N\\u002fO 228th NB\\u002fSB\",\"King\"],[\"SR-181 N\\u002fO 180th NB\\u002fSB\",\"King\"],[\"SR-181 S\\u002fO Longacres NB\\u002fSB\",\"King\"],[\"SR-523 E\\u002fO Lenora WB\\u002fEB\",\"King\"],[\"SR-164 @ SR-18 WB\\u002fEB\",\"King\"],[\"SR-164 S\\u002fO 400th WB\\u002fEB\",\"King\"],[\"SR-203 N\\u002fO Cherry Valley NB\\u002fSB\",\"King\"],[\"SR-203 N\\u002fO 124th NB\\u002fSB\",\"King\"],[\"SR-203 W\\u002fO Stillwater Hill NB\\u002fSB\",\"King\"],[\"SR-203 N\\u002fO Carnation Farm NB\\u002fSB\",\"King\"],[\"SR-203 N\\u002fO Tolt Hill NB\\u002fSB\",\"King\"],[\"SR-203 N\\u002fO SR-202 NB\\u002fSB\",\"King\"],[\"SR-519 W\\u002fO 4th NB\\u002fSB\",\"King\"]],\"hovertemplate\":\"Observed=%{x}\\u003cbr\\u003eModel=%{y}\\u003cbr\\u003elocation=%{customdata[0]}\\u003cbr\\u003eCounty=%{customdata[1]}\\u003cextra\\u003e\\u003c\\u002fextra\\u003e\",\"legendgroup\":\"\",\"marker\":{\"color\":\"#91268F\",\"symbol\":\"circle\"},\"mode\":\"markers\",\"name\":\"\",\"orientation\":\"v\",\"showlegend\":false,\"x\":[1786,1909,645,1525,1405,1400,1380,1329,1046,1702,2618,3724,2998,1030,1032,2276,2432,2405,2415,2776,2536,1806,1814,850,630,1279,1163,1067,968,859,720,1271,842,534,973,1357,1295,882,869,1054,1031,1556,1676,2448,1769,2644,1594,1323,3333,1270,970,554,73,128,408,680,240,102,421,720,1320,1488,1053,600,704,2349,1643,2416,1512,1056,2808,787,1075,1329,2434,1344,882,249,217,662,506,815,1705,1125,874,457,589,363,431,331,1170,475,260,1080,875,1680,984,975,924,392,754,198,682,546,214,728,398,594,816,546,1675,1058,1014,825,408,893,1798,1265,1450,1650,1620,2108,609,810,660,590,741,486,490,539,502,1044],\"xaxis\":\"x\",\"y\":[6558,6312,3129,4578,4778,2621,2618,1805,1466,3143,6099,5183,5112,3556,3467,4034,4182,4679,4818,4005,3951,1672,1754,1374,887,2212,2375,1292,1474,1802,1585,1552,1187,1321,838,1408,1288,849,792,884,819,1788,1631,11055,1575,1272,61,0,9024,2143,400,52,41,70,323,227,144,74,97,841,1779,2752,1296,827,688,1748,3428,3120,1775,699,3408,1922,2034,1871,2171,866,725,446,279,826,369,420,2236,1431,531,493,381,195,279,664,2204,479,159,2092,3147,3947,1769,1016,1701,586,1502,594,1097,885,0,1602,105,412,329,581,869,931,1741,329,589,1231,2017,1803,2299,3116,3364,3437,653,933,659,455,460,217,230,315,206,2271],\"yaxis\":\"y\",\"type\":\"scatter\",\"line\":{\"color\":\"Grey\",\"width\":2}},{\"hovertemplate\":\"Observed=%{x}\\u003cbr\\u003eModel=%{y}\\u003cextra\\u003e\\u003c\\u002fextra\\u003e\",\"legendgroup\":\"\",\"line\":{\"color\":\"Grey\",\"dash\":\"solid\",\"width\":2},\"marker\":{\"symbol\":\"circle\"},\"mode\":\"lines\",\"name\":\"\",\"orientation\":\"v\",\"showlegend\":false,\"x\":[0.0,37.61616161616162,75.23232323232324,112.84848484848486,150.46464646464648,188.08080808080808,225.69696969696972,263.31313131313135,300.92929292929296,338.54545454545456,376.16161616161617,413.7777777777778,451.39393939393943,489.01010101010104,526.6262626262627,564.2424242424242,601.8585858585859,639.4747474747476,677.0909090909091,714.7070707070708,752.3232323232323,789.939393939394,827.5555555555557,865.1717171717172,902.7878787878789,940.4040404040405,978.0202020202021,1015.6363636363637,1053.2525252525254,1090.868686868687,1128.4848484848485,1166.1010101010102,1203.7171717171718,1241.3333333333335,1278.9494949494951,1316.5656565656566,1354.1818181818182,1391.79797979798,1429.4141414141416,1467.0303030303032,1504.6464646464647,1542.2626262626263,1579.878787878788,1617.4949494949497,1655.1111111111113,1692.727272727273,1730.3434343434344,1767.959595959596,1805.5757575757577,1843.1919191919194,1880.808080808081,1918.4242424242425,1956.0404040404042,1993.6565656565658,2031.2727272727275,2068.888888888889,2106.505050505051,2144.1212121212125,2181.737373737374,2219.3535353535353,2256.969696969697,2294.5858585858587,2332.2020202020203,2369.818181818182,2407.4343434343436,2445.0505050505053,2482.666666666667,2520.2828282828286,2557.8989898989903,2595.515151515152,2633.131313131313,2670.747474747475,2708.3636363636365,2745.979797979798,2783.59595959596,2821.2121212121215,2858.828282828283,2896.444444444445,2934.0606060606065,2971.676767676768,3009.2929292929293,3046.909090909091,3084.5252525252527,3122.1414141414143,3159.757575757576,3197.3737373737376,3234.9898989898993,3272.606060606061,3310.2222222222226,3347.8383838383843,3385.454545454546,3423.070707070707,3460.686868686869,3498.3030303030305,3535.919191919192,3573.535353535354,3611.1515151515155,3648.767676767677,3686.383838383839,3724.0],\"xaxis\":\"x\",\"y\":[-362.71394253631433,-292.942081720687,-223.1702209050596,-153.39836008943223,-83.62649927380488,-13.854638458177533,55.91722235744987,125.68908317307722,195.46094398870457,265.23280480433186,335.00466561995927,404.7765264355867,474.5483872512141,544.3202480668414,614.0921088824688,683.8639696980961,753.6358305137235,823.4076913293509,893.1795521449781,962.9514129606057,1032.7232737762329,1102.4951345918603,1172.2669954074877,1242.0388562231149,1311.8107170387425,1381.58257785437,1451.354438669997,1521.1262994856245,1590.898160301252,1660.6700211168793,1730.4418819325065,1800.2137427481339,1869.9856035637613,1939.7574643793887,2009.529325195016,2079.301186010643,2149.0730468262705,2218.8449076418983,2288.6167684575257,2358.388629273153,2428.16049008878,2497.9323509044075,2567.704211720035,2637.4760725356623,2707.2479333512897,2777.019794166917,2846.791654982544,2916.563515798172,2986.3353766137993,3056.1072374294267,3125.879098245054,3195.650959060681,3265.4228198763085,3335.194680691936,3404.9665415075633,3474.7384023231907,3544.510263138818,3614.2821239544455,3684.053984770073,3753.8258455857,3823.5977064013273,3893.3695672169547,3963.141428032582,4032.9132888482095,4102.685149663837,4172.457010479464,4242.228871295092,4312.000732110719,4381.772592926347,4451.5444537419735,4521.3163145576,4591.088175373228,4660.860036188855,4730.631897004483,4800.403757820111,4870.175618635738,4939.947479451366,5009.719340266993,5079.491201082621,5149.2630618982475,5219.034922713874,5288.806783529502,5358.578644345129,5428.350505160757,5498.122365976384,5567.894226792012,5637.6660876076385,5707.437948423267,5777.209809238893,5846.981670054522,5916.753530870148,5986.525391685775,6056.297252501403,6126.069113317029,6195.840974132658,6265.612834948286,6335.3846957639125,6405.156556579541,6474.928417395167,6544.700278210794],\"yaxis\":\"y\",\"type\":\"scatter\"}],                        {\"template\":{\"data\":{\"barpolar\":[{\"marker\":{\"line\":{\"color\":\"white\",\"width\":0.5},\"pattern\":{\"fillmode\":\"overlay\",\"size\":10,\"solidity\":0.2}},\"type\":\"barpolar\"}],\"bar\":[{\"error_x\":{\"color\":\"rgb(36,36,36)\"},\"error_y\":{\"color\":\"rgb(36,36,36)\"},\"marker\":{\"line\":{\"color\":\"white\",\"width\":0.5},\"pattern\":{\"fillmode\":\"overlay\",\"size\":10,\"solidity\":0.2}},\"type\":\"bar\"}],\"carpet\":[{\"aaxis\":{\"endlinecolor\":\"rgb(36,36,36)\",\"gridcolor\":\"white\",\"linecolor\":\"white\",\"minorgridcolor\":\"white\",\"startlinecolor\":\"rgb(36,36,36)\"},\"baxis\":{\"endlinecolor\":\"rgb(36,36,36)\",\"gridcolor\":\"white\",\"linecolor\":\"white\",\"minorgridcolor\":\"white\",\"startlinecolor\":\"rgb(36,36,36)\"},\"type\":\"carpet\"}],\"choropleth\":[{\"colorbar\":{\"outlinewidth\":1,\"tickcolor\":\"rgb(36,36,36)\",\"ticks\":\"outside\"},\"type\":\"choropleth\"}],\"contourcarpet\":[{\"colorbar\":{\"outlinewidth\":1,\"tickcolor\":\"rgb(36,36,36)\",\"ticks\":\"outside\"},\"type\":\"contourcarpet\"}],\"contour\":[{\"colorbar\":{\"outlinewidth\":1,\"tickcolor\":\"rgb(36,36,36)\",\"ticks\":\"outside\"},\"colorscale\":[[0.0,\"#440154\"],[0.1111111111111111,\"#482878\"],[0.2222222222222222,\"#3e4989\"],[0.3333333333333333,\"#31688e\"],[0.4444444444444444,\"#26828e\"],[0.5555555555555556,\"#1f9e89\"],[0.6666666666666666,\"#35b779\"],[0.7777777777777778,\"#6ece58\"],[0.8888888888888888,\"#b5de2b\"],[1.0,\"#fde725\"]],\"type\":\"contour\"}],\"heatmapgl\":[{\"colorbar\":{\"outlinewidth\":1,\"tickcolor\":\"rgb(36,36,36)\",\"ticks\":\"outside\"},\"colorscale\":[[0.0,\"#440154\"],[0.1111111111111111,\"#482878\"],[0.2222222222222222,\"#3e4989\"],[0.3333333333333333,\"#31688e\"],[0.4444444444444444,\"#26828e\"],[0.5555555555555556,\"#1f9e89\"],[0.6666666666666666,\"#35b779\"],[0.7777777777777778,\"#6ece58\"],[0.8888888888888888,\"#b5de2b\"],[1.0,\"#fde725\"]],\"type\":\"heatmapgl\"}],\"heatmap\":[{\"colorbar\":{\"outlinewidth\":1,\"tickcolor\":\"rgb(36,36,36)\",\"ticks\":\"outside\"},\"colorscale\":[[0.0,\"#440154\"],[0.1111111111111111,\"#482878\"],[0.2222222222222222,\"#3e4989\"],[0.3333333333333333,\"#31688e\"],[0.4444444444444444,\"#26828e\"],[0.5555555555555556,\"#1f9e89\"],[0.6666666666666666,\"#35b779\"],[0.7777777777777778,\"#6ece58\"],[0.8888888888888888,\"#b5de2b\"],[1.0,\"#fde725\"]],\"type\":\"heatmap\"}],\"histogram2dcontour\":[{\"colorbar\":{\"outlinewidth\":1,\"tickcolor\":\"rgb(36,36,36)\",\"ticks\":\"outside\"},\"colorscale\":[[0.0,\"#440154\"],[0.1111111111111111,\"#482878\"],[0.2222222222222222,\"#3e4989\"],[0.3333333333333333,\"#31688e\"],[0.4444444444444444,\"#26828e\"],[0.5555555555555556,\"#1f9e89\"],[0.6666666666666666,\"#35b779\"],[0.7777777777777778,\"#6ece58\"],[0.8888888888888888,\"#b5de2b\"],[1.0,\"#fde725\"]],\"type\":\"histogram2dcontour\"}],\"histogram2d\":[{\"colorbar\":{\"outlinewidth\":1,\"tickcolor\":\"rgb(36,36,36)\",\"ticks\":\"outside\"},\"colorscale\":[[0.0,\"#440154\"],[0.1111111111111111,\"#482878\"],[0.2222222222222222,\"#3e4989\"],[0.3333333333333333,\"#31688e\"],[0.4444444444444444,\"#26828e\"],[0.5555555555555556,\"#1f9e89\"],[0.6666666666666666,\"#35b779\"],[0.7777777777777778,\"#6ece58\"],[0.8888888888888888,\"#b5de2b\"],[1.0,\"#fde725\"]],\"type\":\"histogram2d\"}],\"histogram\":[{\"marker\":{\"line\":{\"color\":\"white\",\"width\":0.6}},\"type\":\"histogram\"}],\"mesh3d\":[{\"colorbar\":{\"outlinewidth\":1,\"tickcolor\":\"rgb(36,36,36)\",\"ticks\":\"outside\"},\"type\":\"mesh3d\"}],\"parcoords\":[{\"line\":{\"colorbar\":{\"outlinewidth\":1,\"tickcolor\":\"rgb(36,36,36)\",\"ticks\":\"outside\"}},\"type\":\"parcoords\"}],\"pie\":[{\"automargin\":true,\"type\":\"pie\"}],\"scatter3d\":[{\"line\":{\"colorbar\":{\"outlinewidth\":1,\"tickcolor\":\"rgb(36,36,36)\",\"ticks\":\"outside\"}},\"marker\":{\"colorbar\":{\"outlinewidth\":1,\"tickcolor\":\"rgb(36,36,36)\",\"ticks\":\"outside\"}},\"type\":\"scatter3d\"}],\"scattercarpet\":[{\"marker\":{\"colorbar\":{\"outlinewidth\":1,\"tickcolor\":\"rgb(36,36,36)\",\"ticks\":\"outside\"}},\"type\":\"scattercarpet\"}],\"scattergeo\":[{\"marker\":{\"colorbar\":{\"outlinewidth\":1,\"tickcolor\":\"rgb(36,36,36)\",\"ticks\":\"outside\"}},\"type\":\"scattergeo\"}],\"scattergl\":[{\"marker\":{\"colorbar\":{\"outlinewidth\":1,\"tickcolor\":\"rgb(36,36,36)\",\"ticks\":\"outside\"}},\"type\":\"scattergl\"}],\"scattermapbox\":[{\"marker\":{\"colorbar\":{\"outlinewidth\":1,\"tickcolor\":\"rgb(36,36,36)\",\"ticks\":\"outside\"}},\"type\":\"scattermapbox\"}],\"scatterpolargl\":[{\"marker\":{\"colorbar\":{\"outlinewidth\":1,\"tickcolor\":\"rgb(36,36,36)\",\"ticks\":\"outside\"}},\"type\":\"scatterpolargl\"}],\"scatterpolar\":[{\"marker\":{\"colorbar\":{\"outlinewidth\":1,\"tickcolor\":\"rgb(36,36,36)\",\"ticks\":\"outside\"}},\"type\":\"scatterpolar\"}],\"scatter\":[{\"fillpattern\":{\"fillmode\":\"overlay\",\"size\":10,\"solidity\":0.2},\"type\":\"scatter\"}],\"scatterternary\":[{\"marker\":{\"colorbar\":{\"outlinewidth\":1,\"tickcolor\":\"rgb(36,36,36)\",\"ticks\":\"outside\"}},\"type\":\"scatterternary\"}],\"surface\":[{\"colorbar\":{\"outlinewidth\":1,\"tickcolor\":\"rgb(36,36,36)\",\"ticks\":\"outside\"},\"colorscale\":[[0.0,\"#440154\"],[0.1111111111111111,\"#482878\"],[0.2222222222222222,\"#3e4989\"],[0.3333333333333333,\"#31688e\"],[0.4444444444444444,\"#26828e\"],[0.5555555555555556,\"#1f9e89\"],[0.6666666666666666,\"#35b779\"],[0.7777777777777778,\"#6ece58\"],[0.8888888888888888,\"#b5de2b\"],[1.0,\"#fde725\"]],\"type\":\"surface\"}],\"table\":[{\"cells\":{\"fill\":{\"color\":\"rgb(237,237,237)\"},\"line\":{\"color\":\"white\"}},\"header\":{\"fill\":{\"color\":\"rgb(217,217,217)\"},\"line\":{\"color\":\"white\"}},\"type\":\"table\"}]},\"layout\":{\"annotationdefaults\":{\"arrowhead\":0,\"arrowwidth\":1},\"autotypenumbers\":\"strict\",\"coloraxis\":{\"colorbar\":{\"outlinewidth\":1,\"tickcolor\":\"rgb(36,36,36)\",\"ticks\":\"outside\"}},\"colorscale\":{\"diverging\":[[0.0,\"rgb(103,0,31)\"],[0.1,\"rgb(178,24,43)\"],[0.2,\"rgb(214,96,77)\"],[0.3,\"rgb(244,165,130)\"],[0.4,\"rgb(253,219,199)\"],[0.5,\"rgb(247,247,247)\"],[0.6,\"rgb(209,229,240)\"],[0.7,\"rgb(146,197,222)\"],[0.8,\"rgb(67,147,195)\"],[0.9,\"rgb(33,102,172)\"],[1.0,\"rgb(5,48,97)\"]],\"sequential\":[[0.0,\"#440154\"],[0.1111111111111111,\"#482878\"],[0.2222222222222222,\"#3e4989\"],[0.3333333333333333,\"#31688e\"],[0.4444444444444444,\"#26828e\"],[0.5555555555555556,\"#1f9e89\"],[0.6666666666666666,\"#35b779\"],[0.7777777777777778,\"#6ece58\"],[0.8888888888888888,\"#b5de2b\"],[1.0,\"#fde725\"]],\"sequentialminus\":[[0.0,\"#440154\"],[0.1111111111111111,\"#482878\"],[0.2222222222222222,\"#3e4989\"],[0.3333333333333333,\"#31688e\"],[0.4444444444444444,\"#26828e\"],[0.5555555555555556,\"#1f9e89\"],[0.6666666666666666,\"#35b779\"],[0.7777777777777778,\"#6ece58\"],[0.8888888888888888,\"#b5de2b\"],[1.0,\"#fde725\"]]},\"colorway\":[\"#91268F\",\"#8CC63E\",\"#00A7A0\",\"#F05A28\",\"#4C4C4C\",\"#630460\",\"#9f3913\",\"#588527\",\"#00716c\",\"#3e4040\"],\"font\":{\"color\":\"rgb(36,36,36)\",\"family\":\"Poppins\",\"size\":11},\"geo\":{\"bgcolor\":\"white\",\"lakecolor\":\"white\",\"landcolor\":\"white\",\"showlakes\":true,\"showland\":true,\"subunitcolor\":\"white\"},\"hoverlabel\":{\"align\":\"left\"},\"hovermode\":\"closest\",\"mapbox\":{\"style\":\"light\"},\"paper_bgcolor\":\"white\",\"plot_bgcolor\":\"white\",\"polar\":{\"angularaxis\":{\"gridcolor\":\"rgb(232,232,232)\",\"linecolor\":\"rgb(36,36,36)\",\"showgrid\":false,\"showline\":true,\"ticks\":\"outside\"},\"bgcolor\":\"white\",\"radialaxis\":{\"gridcolor\":\"rgb(232,232,232)\",\"linecolor\":\"rgb(36,36,36)\",\"showgrid\":false,\"showline\":true,\"ticks\":\"outside\"}},\"scene\":{\"xaxis\":{\"backgroundcolor\":\"white\",\"gridcolor\":\"rgb(232,232,232)\",\"gridwidth\":2,\"linecolor\":\"rgb(36,36,36)\",\"showbackground\":true,\"showgrid\":false,\"showline\":true,\"ticks\":\"outside\",\"zeroline\":false,\"zerolinecolor\":\"rgb(36,36,36)\"},\"yaxis\":{\"backgroundcolor\":\"white\",\"gridcolor\":\"rgb(232,232,232)\",\"gridwidth\":2,\"linecolor\":\"rgb(36,36,36)\",\"showbackground\":true,\"showgrid\":false,\"showline\":true,\"ticks\":\"outside\",\"zeroline\":false,\"zerolinecolor\":\"rgb(36,36,36)\"},\"zaxis\":{\"backgroundcolor\":\"white\",\"gridcolor\":\"rgb(232,232,232)\",\"gridwidth\":2,\"linecolor\":\"rgb(36,36,36)\",\"showbackground\":true,\"showgrid\":false,\"showline\":true,\"ticks\":\"outside\",\"zeroline\":false,\"zerolinecolor\":\"rgb(36,36,36)\"}},\"shapedefaults\":{\"fillcolor\":\"black\",\"line\":{\"width\":0},\"opacity\":0.3},\"ternary\":{\"aaxis\":{\"gridcolor\":\"rgb(232,232,232)\",\"linecolor\":\"rgb(36,36,36)\",\"showgrid\":false,\"showline\":true,\"ticks\":\"outside\"},\"baxis\":{\"gridcolor\":\"rgb(232,232,232)\",\"linecolor\":\"rgb(36,36,36)\",\"showgrid\":false,\"showline\":true,\"ticks\":\"outside\"},\"bgcolor\":\"white\",\"caxis\":{\"gridcolor\":\"rgb(232,232,232)\",\"linecolor\":\"rgb(36,36,36)\",\"showgrid\":false,\"showline\":true,\"ticks\":\"outside\"}},\"title\":{\"x\":0.05},\"xaxis\":{\"automargin\":true,\"gridcolor\":\"rgb(232,232,232)\",\"linecolor\":\"rgb(36,36,36)\",\"showgrid\":false,\"showline\":true,\"ticks\":\"outside\",\"title\":{\"standoff\":15},\"zeroline\":false,\"zerolinecolor\":\"rgb(36,36,36)\"},\"yaxis\":{\"automargin\":true,\"gridcolor\":\"rgb(232,232,232)\",\"linecolor\":\"rgb(36,36,36)\",\"showgrid\":false,\"showline\":true,\"ticks\":\"outside\",\"title\":{\"standoff\":15},\"zeroline\":false,\"zerolinecolor\":\"rgb(36,36,36)\"}}},\"xaxis\":{\"anchor\":\"y\",\"domain\":[0.0,1.0],\"title\":{\"text\":\"Observed\"}},\"yaxis\":{\"anchor\":\"x\",\"domain\":[0.0,1.0],\"title\":{\"text\":\"Model\"}},\"legend\":{\"tracegroupgap\":0},\"title\":{\"text\":\"Medium Trucks: King\"},\"margin\":{\"l\":100,\"r\":100,\"t\":100,\"b\":100},\"height\":600,\"width\":800,\"shapes\":[{\"line\":{\"color\":\"Red\",\"dash\":\"dash\",\"width\":2},\"type\":\"line\",\"x0\":0,\"x1\":11055,\"y0\":0,\"y1\":11055}],\"annotations\":[{\"align\":\"right\",\"font\":{\"color\":\"pink\",\"size\":12},\"showarrow\":false,\"text\":\"y = x\",\"x\":11607.75,\"y\":11607.75},{\"align\":\"right\",\"font\":{\"color\":\"black\",\"size\":12},\"showarrow\":false,\"text\":\"r^2 = 0.57\",\"x\":3910.2000000000003,\"y\":6871.935292121334}]},                        {\"responsive\": true}                    ).then(function(){\n",
       "                            \n",
       "var gd = document.getElementById('1ea246b9-6d38-4c0d-b82c-cfc89fc8680e');\n",
       "var x = new MutationObserver(function (mutations, observer) {{\n",
       "        var display = window.getComputedStyle(gd).display;\n",
       "        if (!display || display === 'none') {{\n",
       "            console.log([gd, 'removed!']);\n",
       "            Plotly.purge(gd);\n",
       "            observer.disconnect();\n",
       "        }}\n",
       "}});\n",
       "\n",
       "// Listen for the removal of the full notebook cells\n",
       "var notebookContainer = gd.closest('#notebook-container');\n",
       "if (notebookContainer) {{\n",
       "    x.observe(notebookContainer, {childList: true});\n",
       "}}\n",
       "\n",
       "// Listen for the clearing of the current output cell\n",
       "var outputEl = gd.closest('.output');\n",
       "if (outputEl) {{\n",
       "    x.observe(outputEl, {childList: true});\n",
       "}}\n",
       "\n",
       "                        })                };                });            </script>        </div>"
      ]
     },
     "metadata": {},
     "output_type": "display_data"
    }
   ],
   "source": [
    "fig = create_truck_chart(df_daily_med, 'Medium', 'King')\n",
    "fig.show()"
   ]
  },
  {
   "cell_type": "raw",
   "id": "5e3e1423",
   "metadata": {},
   "source": [
    "#### Kitsap"
   ]
  },
  {
   "cell_type": "code",
   "execution_count": 31,
   "id": "adf23089",
   "metadata": {},
   "outputs": [
    {
     "data": {
      "application/vnd.plotly.v1+json": {
       "config": {
        "plotlyServerURL": "https://plot.ly"
       },
       "data": [
        {
         "customdata": [
          [
           "SR-16  N/O SR-302 NB/SB",
           "Kitsap"
          ],
          [
           "SR-16 N/O SR-160 NB/SB",
           "Kitsap"
          ],
          [
           "SR-16 N/O Tremont NB/SB",
           "Kitsap"
          ],
          [
           "SR-16 S/O SR-3 NB",
           "Kitsap"
          ],
          [
           "SR-104 @ Hood Canal Bridge WB/EB",
           "Kitsap"
          ],
          [
           "SR-104 E/O Hood Canal Bridge WB/EB",
           "Kitsap"
          ],
          [
           "SR-104 N/O Pt Gamble Rd WB/EB",
           "Kitsap"
          ],
          [
           "SR-104 E/O SR-307 WB/EB",
           "Kitsap"
          ],
          [
           "SR-104 E/O Hansville WB/EB",
           "Kitsap"
          ],
          [
           "SR-160 @ SR-16 WB/EB",
           "Kitsap"
          ],
          [
           "SR-160 E/O Long Lake Rd WB/EB",
           "Kitsap"
          ],
          [
           "SR-160 W/O Banner WB/EB",
           "Kitsap"
          ],
          [
           "SR-160 E/O Peterson WB/EB",
           "Kitsap"
          ],
          [
           "SR-160 S/O Southworth Dr WB/EB",
           "Kitsap"
          ],
          [
           "SR-166 E/O SR-16 WB/EB",
           "Kitsap"
          ],
          [
           "SR-3 E/O Sunset Way NB/SB",
           "Kitsap"
          ],
          [
           "SR-3 N/O SR-305 NB/SB",
           "Kitsap"
          ],
          [
           "SR-3 S/O Newberry Hill Rd NB/SB",
           "Kitsap"
          ],
          [
           "SR-3 @ SR-304 NB/SB",
           "Kitsap"
          ],
          [
           "SR-3 NE of SR-16 NB/SB",
           "Kitsap"
          ],
          [
           "SR-3 W/O Lake Flora Rd NB/SB",
           "Kitsap"
          ],
          [
           "SR-303 E/O SR-3 NB/SB",
           "Kitsap"
          ],
          [
           "SR-303 N/O 11th St NB/SB",
           "Kitsap"
          ],
          [
           "SR-303 N/O SR-304 NB/SB",
           "Kitsap"
          ],
          [
           "SR-304 E/O SR-3 WB/EB",
           "Kitsap"
          ],
          [
           "SR-304 W/O Naval WB/EB",
           "Kitsap"
          ],
          [
           "SR-305 W/O SR-307 WB/EB",
           "Kitsap"
          ],
          [
           "SR-305 W/O Suquamish Way WB/EB",
           "Kitsap"
          ],
          [
           "SR-305 N/O Day Rd WB/EB",
           "Kitsap"
          ],
          [
           "SR-305 N/O High School Rd WB/EB",
           "Kitsap"
          ],
          [
           "SR-305 S/O Winslow Way WB/EB",
           "Kitsap"
          ],
          [
           "SR-305 @ Ferry Ramp WB/EB",
           "Kitsap"
          ],
          [
           "SR-307 W/O SR-104 NB/SB",
           "Kitsap"
          ],
          [
           "SR-307 N/O Gunderson NB/SB",
           "Kitsap"
          ],
          [
           "SR-307 S/O Gunderson NB/SB",
           "Kitsap"
          ],
          [
           "SR-307 N/O SR-305 NB/SB",
           "Kitsap"
          ],
          [
           "SR-308 @ SR-3 WB/EB",
           "Kitsap"
          ],
          [
           "SR-308 E/O SR-3 WB/EB",
           "Kitsap"
          ],
          [
           "SR-308 E/O Silverdale Way WB/EB",
           "Kitsap"
          ],
          [
           "SR-308 W/O Brownsville Hwy WB/EB",
           "Kitsap"
          ],
          [
           "SR-310 @ SR-3 WB/EB",
           "Kitsap"
          ],
          [
           "SR-310 W/O Callow WB/EB",
           "Kitsap"
          ]
         ],
         "hovertemplate": "Observed=%{x}<br>Model=%{y}<br>location=%{customdata[0]}<br>County=%{customdata[1]}<extra></extra>",
         "legendgroup": "",
         "line": {
          "color": "Grey",
          "width": 2
         },
         "marker": {
          "color": "#91268F",
          "symbol": "circle"
         },
         "mode": "markers",
         "name": "",
         "orientation": "v",
         "showlegend": false,
         "type": "scatter",
         "x": [
          2336,
          1997,
          2251,
          2041,
          702,
          197,
          215,
          512,
          288,
          475,
          525,
          408,
          233,
          86,
          280,
          1258,
          1725,
          2074,
          1768,
          3230,
          864,
          972,
          1008,
          434,
          810,
          609,
          1102,
          660,
          600,
          468,
          265,
          221,
          714,
          476,
          612,
          680,
          156,
          199,
          263,
          230,
          897,
          286
         ],
         "xaxis": "x",
         "y": [
          4291,
          3504,
          3704,
          2087,
          0,
          24,
          17,
          230,
          170,
          566,
          181,
          134,
          186,
          71,
          415,
          54,
          209,
          2688,
          2719,
          4285,
          0,
          845,
          966,
          335,
          1656,
          830,
          1754,
          1075,
          1130,
          165,
          90,
          90,
          281,
          330,
          606,
          625,
          112,
          120,
          196,
          125,
          369,
          140
         ],
         "yaxis": "y"
        },
        {
         "hovertemplate": "Observed=%{x}<br>Model=%{y}<extra></extra>",
         "legendgroup": "",
         "line": {
          "color": "Grey",
          "dash": "solid",
          "width": 2
         },
         "marker": {
          "symbol": "circle"
         },
         "mode": "lines",
         "name": "",
         "orientation": "v",
         "showlegend": false,
         "type": "scatter",
         "x": [
          0,
          32.62626262626262,
          65.25252525252525,
          97.87878787878788,
          130.5050505050505,
          163.1313131313131,
          195.75757575757575,
          228.38383838383837,
          261.010101010101,
          293.6363636363636,
          326.2626262626262,
          358.88888888888886,
          391.5151515151515,
          424.1414141414141,
          456.76767676767673,
          489.3939393939393,
          522.020202020202,
          554.6464646464646,
          587.2727272727273,
          619.8989898989898,
          652.5252525252524,
          685.1515151515151,
          717.7777777777777,
          750.4040404040403,
          783.030303030303,
          815.6565656565656,
          848.2828282828282,
          880.9090909090908,
          913.5353535353535,
          946.161616161616,
          978.7878787878786,
          1011.4141414141413,
          1044.040404040404,
          1076.6666666666665,
          1109.292929292929,
          1141.9191919191917,
          1174.5454545454545,
          1207.171717171717,
          1239.7979797979797,
          1272.4242424242423,
          1305.0505050505049,
          1337.6767676767674,
          1370.3030303030303,
          1402.9292929292928,
          1435.5555555555554,
          1468.181818181818,
          1500.8080808080806,
          1533.4343434343432,
          1566.060606060606,
          1598.6868686868686,
          1631.3131313131312,
          1663.9393939393938,
          1696.5656565656564,
          1729.191919191919,
          1761.8181818181815,
          1794.4444444444443,
          1827.070707070707,
          1859.6969696969695,
          1892.323232323232,
          1924.9494949494947,
          1957.5757575757573,
          1990.20202020202,
          2022.8282828282827,
          2055.454545454545,
          2088.080808080808,
          2120.7070707070707,
          2153.333333333333,
          2185.959595959596,
          2218.585858585858,
          2251.212121212121,
          2283.8383838383834,
          2316.464646464646,
          2349.090909090909,
          2381.7171717171714,
          2414.343434343434,
          2446.9696969696965,
          2479.5959595959594,
          2512.222222222222,
          2544.8484848484845,
          2577.4747474747473,
          2610.1010101010097,
          2642.7272727272725,
          2675.353535353535,
          2707.9797979797977,
          2740.6060606060605,
          2773.232323232323,
          2805.8585858585857,
          2838.484848484848,
          2871.111111111111,
          2903.737373737373,
          2936.363636363636,
          2968.989898989899,
          3001.616161616161,
          3034.242424242424,
          3066.8686868686864,
          3099.494949494949,
          3132.121212121212,
          3164.7474747474744,
          3197.373737373737,
          3230
         ],
         "xaxis": "x",
         "y": [
          -330.933753730725,
          -283.30981513012335,
          -235.6858765295217,
          -188.06193792892,
          -140.43799932831834,
          -92.81406072771671,
          -45.19012212711499,
          2.4338164734866723,
          50.057755074088334,
          97.68169367469,
          145.3056322752916,
          192.92957087589332,
          240.55350947649504,
          288.17744807709664,
          335.80138667769836,
          383.42532527829997,
          431.0492638789017,
          478.6732024795033,
          526.297141080105,
          573.9210796807066,
          621.5450182813082,
          669.16895688191,
          716.7928954825117,
          764.4168340831133,
          812.0407726837151,
          859.6647112843167,
          907.2886498849183,
          954.9125884855199,
          1002.5365270861217,
          1050.1604656867235,
          1097.7844042873248,
          1145.4083428879267,
          1193.0322814885285,
          1240.6562200891299,
          1288.2801586897317,
          1335.904097290333,
          1383.528035890935,
          1431.1519744915367,
          1478.7759130921381,
          1526.39985169274,
          1574.0237902933413,
          1621.6477288939432,
          1669.271667494545,
          1716.8956060951468,
          1764.5195446957482,
          1812.14348329635,
          1859.7674218969514,
          1907.3913604975533,
          1955.015299098155,
          2002.6392376987565,
          2050.2631762993583,
          2097.8871148999597,
          2145.5110535005615,
          2193.134992101163,
          2240.7589307017647,
          2288.3828693023665,
          2336.0068079029684,
          2383.6307465035698,
          2431.2546851041716,
          2478.878623704773,
          2526.502562305375,
          2574.1265009059766,
          2621.7504395065785,
          2669.3743781071794,
          2716.9983167077817,
          2764.6222553083835,
          2812.246193908985,
          2859.8701325095867,
          2907.494071110188,
          2955.11800971079,
          3002.7419483113913,
          3050.365886911993,
          3097.989825512595,
          3145.6137641131963,
          3193.237702713798,
          3240.8616413143995,
          3288.4855799150014,
          3336.1095185156037,
          3383.7334571162046,
          3431.357395716807,
          3478.981334317408,
          3526.60527291801,
          3574.229211518611,
          3621.8531501192133,
          3669.477088719815,
          3717.1010273204165,
          3764.7249659210183,
          3812.3489045216197,
          3859.9728431222215,
          3907.5967817228225,
          3955.220720323425,
          4002.844658924027,
          4050.468597524628,
          4098.09253612523,
          4145.716474725832,
          4193.340413326434,
          4240.964351927036,
          4288.588290527637,
          4336.2122291282385,
          4383.83616772884
         ],
         "yaxis": "y"
        }
       ],
       "layout": {
        "annotations": [
         {
          "align": "right",
          "font": {
           "color": "pink",
           "size": 12
          },
          "showarrow": false,
          "text": "y = x",
          "x": 4505.55,
          "y": 4505.55
         },
         {
          "align": "right",
          "font": {
           "color": "black",
           "size": 12
          },
          "showarrow": false,
          "text": "r^2 = 0.78",
          "x": 3391.5,
          "y": 4603.027976115282
         }
        ],
        "height": 600,
        "legend": {
         "tracegroupgap": 0
        },
        "margin": {
         "b": 100,
         "l": 100,
         "r": 100,
         "t": 100
        },
        "shapes": [
         {
          "line": {
           "color": "Red",
           "dash": "dash",
           "width": 2
          },
          "type": "line",
          "x0": 0,
          "x1": 4291,
          "y0": 0,
          "y1": 4291
         }
        ],
        "template": {
         "data": {
          "bar": [
           {
            "error_x": {
             "color": "rgb(36,36,36)"
            },
            "error_y": {
             "color": "rgb(36,36,36)"
            },
            "marker": {
             "line": {
              "color": "white",
              "width": 0.5
             },
             "pattern": {
              "fillmode": "overlay",
              "size": 10,
              "solidity": 0.2
             }
            },
            "type": "bar"
           }
          ],
          "barpolar": [
           {
            "marker": {
             "line": {
              "color": "white",
              "width": 0.5
             },
             "pattern": {
              "fillmode": "overlay",
              "size": 10,
              "solidity": 0.2
             }
            },
            "type": "barpolar"
           }
          ],
          "carpet": [
           {
            "aaxis": {
             "endlinecolor": "rgb(36,36,36)",
             "gridcolor": "white",
             "linecolor": "white",
             "minorgridcolor": "white",
             "startlinecolor": "rgb(36,36,36)"
            },
            "baxis": {
             "endlinecolor": "rgb(36,36,36)",
             "gridcolor": "white",
             "linecolor": "white",
             "minorgridcolor": "white",
             "startlinecolor": "rgb(36,36,36)"
            },
            "type": "carpet"
           }
          ],
          "choropleth": [
           {
            "colorbar": {
             "outlinewidth": 1,
             "tickcolor": "rgb(36,36,36)",
             "ticks": "outside"
            },
            "type": "choropleth"
           }
          ],
          "contour": [
           {
            "colorbar": {
             "outlinewidth": 1,
             "tickcolor": "rgb(36,36,36)",
             "ticks": "outside"
            },
            "colorscale": [
             [
              0,
              "#440154"
             ],
             [
              0.1111111111111111,
              "#482878"
             ],
             [
              0.2222222222222222,
              "#3e4989"
             ],
             [
              0.3333333333333333,
              "#31688e"
             ],
             [
              0.4444444444444444,
              "#26828e"
             ],
             [
              0.5555555555555556,
              "#1f9e89"
             ],
             [
              0.6666666666666666,
              "#35b779"
             ],
             [
              0.7777777777777778,
              "#6ece58"
             ],
             [
              0.8888888888888888,
              "#b5de2b"
             ],
             [
              1,
              "#fde725"
             ]
            ],
            "type": "contour"
           }
          ],
          "contourcarpet": [
           {
            "colorbar": {
             "outlinewidth": 1,
             "tickcolor": "rgb(36,36,36)",
             "ticks": "outside"
            },
            "type": "contourcarpet"
           }
          ],
          "heatmap": [
           {
            "colorbar": {
             "outlinewidth": 1,
             "tickcolor": "rgb(36,36,36)",
             "ticks": "outside"
            },
            "colorscale": [
             [
              0,
              "#440154"
             ],
             [
              0.1111111111111111,
              "#482878"
             ],
             [
              0.2222222222222222,
              "#3e4989"
             ],
             [
              0.3333333333333333,
              "#31688e"
             ],
             [
              0.4444444444444444,
              "#26828e"
             ],
             [
              0.5555555555555556,
              "#1f9e89"
             ],
             [
              0.6666666666666666,
              "#35b779"
             ],
             [
              0.7777777777777778,
              "#6ece58"
             ],
             [
              0.8888888888888888,
              "#b5de2b"
             ],
             [
              1,
              "#fde725"
             ]
            ],
            "type": "heatmap"
           }
          ],
          "heatmapgl": [
           {
            "colorbar": {
             "outlinewidth": 1,
             "tickcolor": "rgb(36,36,36)",
             "ticks": "outside"
            },
            "colorscale": [
             [
              0,
              "#440154"
             ],
             [
              0.1111111111111111,
              "#482878"
             ],
             [
              0.2222222222222222,
              "#3e4989"
             ],
             [
              0.3333333333333333,
              "#31688e"
             ],
             [
              0.4444444444444444,
              "#26828e"
             ],
             [
              0.5555555555555556,
              "#1f9e89"
             ],
             [
              0.6666666666666666,
              "#35b779"
             ],
             [
              0.7777777777777778,
              "#6ece58"
             ],
             [
              0.8888888888888888,
              "#b5de2b"
             ],
             [
              1,
              "#fde725"
             ]
            ],
            "type": "heatmapgl"
           }
          ],
          "histogram": [
           {
            "marker": {
             "line": {
              "color": "white",
              "width": 0.6
             }
            },
            "type": "histogram"
           }
          ],
          "histogram2d": [
           {
            "colorbar": {
             "outlinewidth": 1,
             "tickcolor": "rgb(36,36,36)",
             "ticks": "outside"
            },
            "colorscale": [
             [
              0,
              "#440154"
             ],
             [
              0.1111111111111111,
              "#482878"
             ],
             [
              0.2222222222222222,
              "#3e4989"
             ],
             [
              0.3333333333333333,
              "#31688e"
             ],
             [
              0.4444444444444444,
              "#26828e"
             ],
             [
              0.5555555555555556,
              "#1f9e89"
             ],
             [
              0.6666666666666666,
              "#35b779"
             ],
             [
              0.7777777777777778,
              "#6ece58"
             ],
             [
              0.8888888888888888,
              "#b5de2b"
             ],
             [
              1,
              "#fde725"
             ]
            ],
            "type": "histogram2d"
           }
          ],
          "histogram2dcontour": [
           {
            "colorbar": {
             "outlinewidth": 1,
             "tickcolor": "rgb(36,36,36)",
             "ticks": "outside"
            },
            "colorscale": [
             [
              0,
              "#440154"
             ],
             [
              0.1111111111111111,
              "#482878"
             ],
             [
              0.2222222222222222,
              "#3e4989"
             ],
             [
              0.3333333333333333,
              "#31688e"
             ],
             [
              0.4444444444444444,
              "#26828e"
             ],
             [
              0.5555555555555556,
              "#1f9e89"
             ],
             [
              0.6666666666666666,
              "#35b779"
             ],
             [
              0.7777777777777778,
              "#6ece58"
             ],
             [
              0.8888888888888888,
              "#b5de2b"
             ],
             [
              1,
              "#fde725"
             ]
            ],
            "type": "histogram2dcontour"
           }
          ],
          "mesh3d": [
           {
            "colorbar": {
             "outlinewidth": 1,
             "tickcolor": "rgb(36,36,36)",
             "ticks": "outside"
            },
            "type": "mesh3d"
           }
          ],
          "parcoords": [
           {
            "line": {
             "colorbar": {
              "outlinewidth": 1,
              "tickcolor": "rgb(36,36,36)",
              "ticks": "outside"
             }
            },
            "type": "parcoords"
           }
          ],
          "pie": [
           {
            "automargin": true,
            "type": "pie"
           }
          ],
          "scatter": [
           {
            "fillpattern": {
             "fillmode": "overlay",
             "size": 10,
             "solidity": 0.2
            },
            "type": "scatter"
           }
          ],
          "scatter3d": [
           {
            "line": {
             "colorbar": {
              "outlinewidth": 1,
              "tickcolor": "rgb(36,36,36)",
              "ticks": "outside"
             }
            },
            "marker": {
             "colorbar": {
              "outlinewidth": 1,
              "tickcolor": "rgb(36,36,36)",
              "ticks": "outside"
             }
            },
            "type": "scatter3d"
           }
          ],
          "scattercarpet": [
           {
            "marker": {
             "colorbar": {
              "outlinewidth": 1,
              "tickcolor": "rgb(36,36,36)",
              "ticks": "outside"
             }
            },
            "type": "scattercarpet"
           }
          ],
          "scattergeo": [
           {
            "marker": {
             "colorbar": {
              "outlinewidth": 1,
              "tickcolor": "rgb(36,36,36)",
              "ticks": "outside"
             }
            },
            "type": "scattergeo"
           }
          ],
          "scattergl": [
           {
            "marker": {
             "colorbar": {
              "outlinewidth": 1,
              "tickcolor": "rgb(36,36,36)",
              "ticks": "outside"
             }
            },
            "type": "scattergl"
           }
          ],
          "scattermapbox": [
           {
            "marker": {
             "colorbar": {
              "outlinewidth": 1,
              "tickcolor": "rgb(36,36,36)",
              "ticks": "outside"
             }
            },
            "type": "scattermapbox"
           }
          ],
          "scatterpolar": [
           {
            "marker": {
             "colorbar": {
              "outlinewidth": 1,
              "tickcolor": "rgb(36,36,36)",
              "ticks": "outside"
             }
            },
            "type": "scatterpolar"
           }
          ],
          "scatterpolargl": [
           {
            "marker": {
             "colorbar": {
              "outlinewidth": 1,
              "tickcolor": "rgb(36,36,36)",
              "ticks": "outside"
             }
            },
            "type": "scatterpolargl"
           }
          ],
          "scatterternary": [
           {
            "marker": {
             "colorbar": {
              "outlinewidth": 1,
              "tickcolor": "rgb(36,36,36)",
              "ticks": "outside"
             }
            },
            "type": "scatterternary"
           }
          ],
          "surface": [
           {
            "colorbar": {
             "outlinewidth": 1,
             "tickcolor": "rgb(36,36,36)",
             "ticks": "outside"
            },
            "colorscale": [
             [
              0,
              "#440154"
             ],
             [
              0.1111111111111111,
              "#482878"
             ],
             [
              0.2222222222222222,
              "#3e4989"
             ],
             [
              0.3333333333333333,
              "#31688e"
             ],
             [
              0.4444444444444444,
              "#26828e"
             ],
             [
              0.5555555555555556,
              "#1f9e89"
             ],
             [
              0.6666666666666666,
              "#35b779"
             ],
             [
              0.7777777777777778,
              "#6ece58"
             ],
             [
              0.8888888888888888,
              "#b5de2b"
             ],
             [
              1,
              "#fde725"
             ]
            ],
            "type": "surface"
           }
          ],
          "table": [
           {
            "cells": {
             "fill": {
              "color": "rgb(237,237,237)"
             },
             "line": {
              "color": "white"
             }
            },
            "header": {
             "fill": {
              "color": "rgb(217,217,217)"
             },
             "line": {
              "color": "white"
             }
            },
            "type": "table"
           }
          ]
         },
         "layout": {
          "annotationdefaults": {
           "arrowhead": 0,
           "arrowwidth": 1
          },
          "autotypenumbers": "strict",
          "coloraxis": {
           "colorbar": {
            "outlinewidth": 1,
            "tickcolor": "rgb(36,36,36)",
            "ticks": "outside"
           }
          },
          "colorscale": {
           "diverging": [
            [
             0,
             "rgb(103,0,31)"
            ],
            [
             0.1,
             "rgb(178,24,43)"
            ],
            [
             0.2,
             "rgb(214,96,77)"
            ],
            [
             0.3,
             "rgb(244,165,130)"
            ],
            [
             0.4,
             "rgb(253,219,199)"
            ],
            [
             0.5,
             "rgb(247,247,247)"
            ],
            [
             0.6,
             "rgb(209,229,240)"
            ],
            [
             0.7,
             "rgb(146,197,222)"
            ],
            [
             0.8,
             "rgb(67,147,195)"
            ],
            [
             0.9,
             "rgb(33,102,172)"
            ],
            [
             1,
             "rgb(5,48,97)"
            ]
           ],
           "sequential": [
            [
             0,
             "#440154"
            ],
            [
             0.1111111111111111,
             "#482878"
            ],
            [
             0.2222222222222222,
             "#3e4989"
            ],
            [
             0.3333333333333333,
             "#31688e"
            ],
            [
             0.4444444444444444,
             "#26828e"
            ],
            [
             0.5555555555555556,
             "#1f9e89"
            ],
            [
             0.6666666666666666,
             "#35b779"
            ],
            [
             0.7777777777777778,
             "#6ece58"
            ],
            [
             0.8888888888888888,
             "#b5de2b"
            ],
            [
             1,
             "#fde725"
            ]
           ],
           "sequentialminus": [
            [
             0,
             "#440154"
            ],
            [
             0.1111111111111111,
             "#482878"
            ],
            [
             0.2222222222222222,
             "#3e4989"
            ],
            [
             0.3333333333333333,
             "#31688e"
            ],
            [
             0.4444444444444444,
             "#26828e"
            ],
            [
             0.5555555555555556,
             "#1f9e89"
            ],
            [
             0.6666666666666666,
             "#35b779"
            ],
            [
             0.7777777777777778,
             "#6ece58"
            ],
            [
             0.8888888888888888,
             "#b5de2b"
            ],
            [
             1,
             "#fde725"
            ]
           ]
          },
          "colorway": [
           "#91268F",
           "#8CC63E",
           "#00A7A0",
           "#F05A28",
           "#4C4C4C",
           "#630460",
           "#9f3913",
           "#588527",
           "#00716c",
           "#3e4040"
          ],
          "font": {
           "color": "rgb(36,36,36)",
           "family": "Poppins",
           "size": 11
          },
          "geo": {
           "bgcolor": "white",
           "lakecolor": "white",
           "landcolor": "white",
           "showlakes": true,
           "showland": true,
           "subunitcolor": "white"
          },
          "hoverlabel": {
           "align": "left"
          },
          "hovermode": "closest",
          "mapbox": {
           "style": "light"
          },
          "paper_bgcolor": "white",
          "plot_bgcolor": "white",
          "polar": {
           "angularaxis": {
            "gridcolor": "rgb(232,232,232)",
            "linecolor": "rgb(36,36,36)",
            "showgrid": false,
            "showline": true,
            "ticks": "outside"
           },
           "bgcolor": "white",
           "radialaxis": {
            "gridcolor": "rgb(232,232,232)",
            "linecolor": "rgb(36,36,36)",
            "showgrid": false,
            "showline": true,
            "ticks": "outside"
           }
          },
          "scene": {
           "xaxis": {
            "backgroundcolor": "white",
            "gridcolor": "rgb(232,232,232)",
            "gridwidth": 2,
            "linecolor": "rgb(36,36,36)",
            "showbackground": true,
            "showgrid": false,
            "showline": true,
            "ticks": "outside",
            "zeroline": false,
            "zerolinecolor": "rgb(36,36,36)"
           },
           "yaxis": {
            "backgroundcolor": "white",
            "gridcolor": "rgb(232,232,232)",
            "gridwidth": 2,
            "linecolor": "rgb(36,36,36)",
            "showbackground": true,
            "showgrid": false,
            "showline": true,
            "ticks": "outside",
            "zeroline": false,
            "zerolinecolor": "rgb(36,36,36)"
           },
           "zaxis": {
            "backgroundcolor": "white",
            "gridcolor": "rgb(232,232,232)",
            "gridwidth": 2,
            "linecolor": "rgb(36,36,36)",
            "showbackground": true,
            "showgrid": false,
            "showline": true,
            "ticks": "outside",
            "zeroline": false,
            "zerolinecolor": "rgb(36,36,36)"
           }
          },
          "shapedefaults": {
           "fillcolor": "black",
           "line": {
            "width": 0
           },
           "opacity": 0.3
          },
          "ternary": {
           "aaxis": {
            "gridcolor": "rgb(232,232,232)",
            "linecolor": "rgb(36,36,36)",
            "showgrid": false,
            "showline": true,
            "ticks": "outside"
           },
           "baxis": {
            "gridcolor": "rgb(232,232,232)",
            "linecolor": "rgb(36,36,36)",
            "showgrid": false,
            "showline": true,
            "ticks": "outside"
           },
           "bgcolor": "white",
           "caxis": {
            "gridcolor": "rgb(232,232,232)",
            "linecolor": "rgb(36,36,36)",
            "showgrid": false,
            "showline": true,
            "ticks": "outside"
           }
          },
          "title": {
           "x": 0.05
          },
          "xaxis": {
           "automargin": true,
           "gridcolor": "rgb(232,232,232)",
           "linecolor": "rgb(36,36,36)",
           "showgrid": false,
           "showline": true,
           "ticks": "outside",
           "title": {
            "standoff": 15
           },
           "zeroline": false,
           "zerolinecolor": "rgb(36,36,36)"
          },
          "yaxis": {
           "automargin": true,
           "gridcolor": "rgb(232,232,232)",
           "linecolor": "rgb(36,36,36)",
           "showgrid": false,
           "showline": true,
           "ticks": "outside",
           "title": {
            "standoff": 15
           },
           "zeroline": false,
           "zerolinecolor": "rgb(36,36,36)"
          }
         }
        },
        "title": {
         "text": "Medium Trucks: Kitsap"
        },
        "width": 800,
        "xaxis": {
         "anchor": "y",
         "domain": [
          0,
          1
         ],
         "title": {
          "text": "Observed"
         }
        },
        "yaxis": {
         "anchor": "x",
         "domain": [
          0,
          1
         ],
         "title": {
          "text": "Model"
         }
        }
       }
      },
      "text/html": [
       "<div>                            <div id=\"2f521095-67eb-4410-955d-9effa22648a0\" class=\"plotly-graph-div\" style=\"height:600px; width:800px;\"></div>            <script type=\"text/javascript\">                require([\"plotly\"], function(Plotly) {                    window.PLOTLYENV=window.PLOTLYENV || {};                                    if (document.getElementById(\"2f521095-67eb-4410-955d-9effa22648a0\")) {                    Plotly.newPlot(                        \"2f521095-67eb-4410-955d-9effa22648a0\",                        [{\"customdata\":[[\"SR-16  N\\u002fO SR-302 NB\\u002fSB\",\"Kitsap\"],[\"SR-16 N\\u002fO SR-160 NB\\u002fSB\",\"Kitsap\"],[\"SR-16 N\\u002fO Tremont NB\\u002fSB\",\"Kitsap\"],[\"SR-16 S\\u002fO SR-3 NB\",\"Kitsap\"],[\"SR-104 @ Hood Canal Bridge WB\\u002fEB\",\"Kitsap\"],[\"SR-104 E\\u002fO Hood Canal Bridge WB\\u002fEB\",\"Kitsap\"],[\"SR-104 N\\u002fO Pt Gamble Rd WB\\u002fEB\",\"Kitsap\"],[\"SR-104 E\\u002fO SR-307 WB\\u002fEB\",\"Kitsap\"],[\"SR-104 E\\u002fO Hansville WB\\u002fEB\",\"Kitsap\"],[\"SR-160 @ SR-16 WB\\u002fEB\",\"Kitsap\"],[\"SR-160 E\\u002fO Long Lake Rd WB\\u002fEB\",\"Kitsap\"],[\"SR-160 W\\u002fO Banner WB\\u002fEB\",\"Kitsap\"],[\"SR-160 E\\u002fO Peterson WB\\u002fEB\",\"Kitsap\"],[\"SR-160 S\\u002fO Southworth Dr WB\\u002fEB\",\"Kitsap\"],[\"SR-166 E\\u002fO SR-16 WB\\u002fEB\",\"Kitsap\"],[\"SR-3 E\\u002fO Sunset Way NB\\u002fSB\",\"Kitsap\"],[\"SR-3 N\\u002fO SR-305 NB\\u002fSB\",\"Kitsap\"],[\"SR-3 S\\u002fO Newberry Hill Rd NB\\u002fSB\",\"Kitsap\"],[\"SR-3 @ SR-304 NB\\u002fSB\",\"Kitsap\"],[\"SR-3 NE of SR-16 NB\\u002fSB\",\"Kitsap\"],[\"SR-3 W\\u002fO Lake Flora Rd NB\\u002fSB\",\"Kitsap\"],[\"SR-303 E\\u002fO SR-3 NB\\u002fSB\",\"Kitsap\"],[\"SR-303 N\\u002fO 11th St NB\\u002fSB\",\"Kitsap\"],[\"SR-303 N\\u002fO SR-304 NB\\u002fSB\",\"Kitsap\"],[\"SR-304 E\\u002fO SR-3 WB\\u002fEB\",\"Kitsap\"],[\"SR-304 W\\u002fO Naval WB\\u002fEB\",\"Kitsap\"],[\"SR-305 W\\u002fO SR-307 WB\\u002fEB\",\"Kitsap\"],[\"SR-305 W\\u002fO Suquamish Way WB\\u002fEB\",\"Kitsap\"],[\"SR-305 N\\u002fO Day Rd WB\\u002fEB\",\"Kitsap\"],[\"SR-305 N\\u002fO High School Rd WB\\u002fEB\",\"Kitsap\"],[\"SR-305 S\\u002fO Winslow Way WB\\u002fEB\",\"Kitsap\"],[\"SR-305 @ Ferry Ramp WB\\u002fEB\",\"Kitsap\"],[\"SR-307 W\\u002fO SR-104 NB\\u002fSB\",\"Kitsap\"],[\"SR-307 N\\u002fO Gunderson NB\\u002fSB\",\"Kitsap\"],[\"SR-307 S\\u002fO Gunderson NB\\u002fSB\",\"Kitsap\"],[\"SR-307 N\\u002fO SR-305 NB\\u002fSB\",\"Kitsap\"],[\"SR-308 @ SR-3 WB\\u002fEB\",\"Kitsap\"],[\"SR-308 E\\u002fO SR-3 WB\\u002fEB\",\"Kitsap\"],[\"SR-308 E\\u002fO Silverdale Way WB\\u002fEB\",\"Kitsap\"],[\"SR-308 W\\u002fO Brownsville Hwy WB\\u002fEB\",\"Kitsap\"],[\"SR-310 @ SR-3 WB\\u002fEB\",\"Kitsap\"],[\"SR-310 W\\u002fO Callow WB\\u002fEB\",\"Kitsap\"]],\"hovertemplate\":\"Observed=%{x}\\u003cbr\\u003eModel=%{y}\\u003cbr\\u003elocation=%{customdata[0]}\\u003cbr\\u003eCounty=%{customdata[1]}\\u003cextra\\u003e\\u003c\\u002fextra\\u003e\",\"legendgroup\":\"\",\"marker\":{\"color\":\"#91268F\",\"symbol\":\"circle\"},\"mode\":\"markers\",\"name\":\"\",\"orientation\":\"v\",\"showlegend\":false,\"x\":[2336,1997,2251,2041,702,197,215,512,288,475,525,408,233,86,280,1258,1725,2074,1768,3230,864,972,1008,434,810,609,1102,660,600,468,265,221,714,476,612,680,156,199,263,230,897,286],\"xaxis\":\"x\",\"y\":[4291,3504,3704,2087,0,24,17,230,170,566,181,134,186,71,415,54,209,2688,2719,4285,0,845,966,335,1656,830,1754,1075,1130,165,90,90,281,330,606,625,112,120,196,125,369,140],\"yaxis\":\"y\",\"type\":\"scatter\",\"line\":{\"color\":\"Grey\",\"width\":2}},{\"hovertemplate\":\"Observed=%{x}\\u003cbr\\u003eModel=%{y}\\u003cextra\\u003e\\u003c\\u002fextra\\u003e\",\"legendgroup\":\"\",\"line\":{\"color\":\"Grey\",\"dash\":\"solid\",\"width\":2},\"marker\":{\"symbol\":\"circle\"},\"mode\":\"lines\",\"name\":\"\",\"orientation\":\"v\",\"showlegend\":false,\"x\":[0.0,32.62626262626262,65.25252525252525,97.87878787878788,130.5050505050505,163.1313131313131,195.75757575757575,228.38383838383837,261.010101010101,293.6363636363636,326.2626262626262,358.88888888888886,391.5151515151515,424.1414141414141,456.76767676767673,489.3939393939393,522.020202020202,554.6464646464646,587.2727272727273,619.8989898989898,652.5252525252524,685.1515151515151,717.7777777777777,750.4040404040403,783.030303030303,815.6565656565656,848.2828282828282,880.9090909090908,913.5353535353535,946.161616161616,978.7878787878786,1011.4141414141413,1044.040404040404,1076.6666666666665,1109.292929292929,1141.9191919191917,1174.5454545454545,1207.171717171717,1239.7979797979797,1272.4242424242423,1305.0505050505049,1337.6767676767674,1370.3030303030303,1402.9292929292928,1435.5555555555554,1468.181818181818,1500.8080808080806,1533.4343434343432,1566.060606060606,1598.6868686868686,1631.3131313131312,1663.9393939393938,1696.5656565656564,1729.191919191919,1761.8181818181815,1794.4444444444443,1827.070707070707,1859.6969696969695,1892.323232323232,1924.9494949494947,1957.5757575757573,1990.20202020202,2022.8282828282827,2055.454545454545,2088.080808080808,2120.7070707070707,2153.333333333333,2185.959595959596,2218.585858585858,2251.212121212121,2283.8383838383834,2316.464646464646,2349.090909090909,2381.7171717171714,2414.343434343434,2446.9696969696965,2479.5959595959594,2512.222222222222,2544.8484848484845,2577.4747474747473,2610.1010101010097,2642.7272727272725,2675.353535353535,2707.9797979797977,2740.6060606060605,2773.232323232323,2805.8585858585857,2838.484848484848,2871.111111111111,2903.737373737373,2936.363636363636,2968.989898989899,3001.616161616161,3034.242424242424,3066.8686868686864,3099.494949494949,3132.121212121212,3164.7474747474744,3197.373737373737,3230.0],\"xaxis\":\"x\",\"y\":[-330.933753730725,-283.30981513012335,-235.6858765295217,-188.06193792892,-140.43799932831834,-92.81406072771671,-45.19012212711499,2.4338164734866723,50.057755074088334,97.68169367469,145.3056322752916,192.92957087589332,240.55350947649504,288.17744807709664,335.80138667769836,383.42532527829997,431.0492638789017,478.6732024795033,526.297141080105,573.9210796807066,621.5450182813082,669.16895688191,716.7928954825117,764.4168340831133,812.0407726837151,859.6647112843167,907.2886498849183,954.9125884855199,1002.5365270861217,1050.1604656867235,1097.7844042873248,1145.4083428879267,1193.0322814885285,1240.6562200891299,1288.2801586897317,1335.904097290333,1383.528035890935,1431.1519744915367,1478.7759130921381,1526.39985169274,1574.0237902933413,1621.6477288939432,1669.271667494545,1716.8956060951468,1764.5195446957482,1812.14348329635,1859.7674218969514,1907.3913604975533,1955.015299098155,2002.6392376987565,2050.2631762993583,2097.8871148999597,2145.5110535005615,2193.134992101163,2240.7589307017647,2288.3828693023665,2336.0068079029684,2383.6307465035698,2431.2546851041716,2478.878623704773,2526.502562305375,2574.1265009059766,2621.7504395065785,2669.3743781071794,2716.9983167077817,2764.6222553083835,2812.246193908985,2859.8701325095867,2907.494071110188,2955.11800971079,3002.7419483113913,3050.365886911993,3097.989825512595,3145.6137641131963,3193.237702713798,3240.8616413143995,3288.4855799150014,3336.1095185156037,3383.7334571162046,3431.357395716807,3478.981334317408,3526.60527291801,3574.229211518611,3621.8531501192133,3669.477088719815,3717.1010273204165,3764.7249659210183,3812.3489045216197,3859.9728431222215,3907.5967817228225,3955.220720323425,4002.844658924027,4050.468597524628,4098.09253612523,4145.716474725832,4193.340413326434,4240.964351927036,4288.588290527637,4336.2122291282385,4383.83616772884],\"yaxis\":\"y\",\"type\":\"scatter\"}],                        {\"template\":{\"data\":{\"barpolar\":[{\"marker\":{\"line\":{\"color\":\"white\",\"width\":0.5},\"pattern\":{\"fillmode\":\"overlay\",\"size\":10,\"solidity\":0.2}},\"type\":\"barpolar\"}],\"bar\":[{\"error_x\":{\"color\":\"rgb(36,36,36)\"},\"error_y\":{\"color\":\"rgb(36,36,36)\"},\"marker\":{\"line\":{\"color\":\"white\",\"width\":0.5},\"pattern\":{\"fillmode\":\"overlay\",\"size\":10,\"solidity\":0.2}},\"type\":\"bar\"}],\"carpet\":[{\"aaxis\":{\"endlinecolor\":\"rgb(36,36,36)\",\"gridcolor\":\"white\",\"linecolor\":\"white\",\"minorgridcolor\":\"white\",\"startlinecolor\":\"rgb(36,36,36)\"},\"baxis\":{\"endlinecolor\":\"rgb(36,36,36)\",\"gridcolor\":\"white\",\"linecolor\":\"white\",\"minorgridcolor\":\"white\",\"startlinecolor\":\"rgb(36,36,36)\"},\"type\":\"carpet\"}],\"choropleth\":[{\"colorbar\":{\"outlinewidth\":1,\"tickcolor\":\"rgb(36,36,36)\",\"ticks\":\"outside\"},\"type\":\"choropleth\"}],\"contourcarpet\":[{\"colorbar\":{\"outlinewidth\":1,\"tickcolor\":\"rgb(36,36,36)\",\"ticks\":\"outside\"},\"type\":\"contourcarpet\"}],\"contour\":[{\"colorbar\":{\"outlinewidth\":1,\"tickcolor\":\"rgb(36,36,36)\",\"ticks\":\"outside\"},\"colorscale\":[[0.0,\"#440154\"],[0.1111111111111111,\"#482878\"],[0.2222222222222222,\"#3e4989\"],[0.3333333333333333,\"#31688e\"],[0.4444444444444444,\"#26828e\"],[0.5555555555555556,\"#1f9e89\"],[0.6666666666666666,\"#35b779\"],[0.7777777777777778,\"#6ece58\"],[0.8888888888888888,\"#b5de2b\"],[1.0,\"#fde725\"]],\"type\":\"contour\"}],\"heatmapgl\":[{\"colorbar\":{\"outlinewidth\":1,\"tickcolor\":\"rgb(36,36,36)\",\"ticks\":\"outside\"},\"colorscale\":[[0.0,\"#440154\"],[0.1111111111111111,\"#482878\"],[0.2222222222222222,\"#3e4989\"],[0.3333333333333333,\"#31688e\"],[0.4444444444444444,\"#26828e\"],[0.5555555555555556,\"#1f9e89\"],[0.6666666666666666,\"#35b779\"],[0.7777777777777778,\"#6ece58\"],[0.8888888888888888,\"#b5de2b\"],[1.0,\"#fde725\"]],\"type\":\"heatmapgl\"}],\"heatmap\":[{\"colorbar\":{\"outlinewidth\":1,\"tickcolor\":\"rgb(36,36,36)\",\"ticks\":\"outside\"},\"colorscale\":[[0.0,\"#440154\"],[0.1111111111111111,\"#482878\"],[0.2222222222222222,\"#3e4989\"],[0.3333333333333333,\"#31688e\"],[0.4444444444444444,\"#26828e\"],[0.5555555555555556,\"#1f9e89\"],[0.6666666666666666,\"#35b779\"],[0.7777777777777778,\"#6ece58\"],[0.8888888888888888,\"#b5de2b\"],[1.0,\"#fde725\"]],\"type\":\"heatmap\"}],\"histogram2dcontour\":[{\"colorbar\":{\"outlinewidth\":1,\"tickcolor\":\"rgb(36,36,36)\",\"ticks\":\"outside\"},\"colorscale\":[[0.0,\"#440154\"],[0.1111111111111111,\"#482878\"],[0.2222222222222222,\"#3e4989\"],[0.3333333333333333,\"#31688e\"],[0.4444444444444444,\"#26828e\"],[0.5555555555555556,\"#1f9e89\"],[0.6666666666666666,\"#35b779\"],[0.7777777777777778,\"#6ece58\"],[0.8888888888888888,\"#b5de2b\"],[1.0,\"#fde725\"]],\"type\":\"histogram2dcontour\"}],\"histogram2d\":[{\"colorbar\":{\"outlinewidth\":1,\"tickcolor\":\"rgb(36,36,36)\",\"ticks\":\"outside\"},\"colorscale\":[[0.0,\"#440154\"],[0.1111111111111111,\"#482878\"],[0.2222222222222222,\"#3e4989\"],[0.3333333333333333,\"#31688e\"],[0.4444444444444444,\"#26828e\"],[0.5555555555555556,\"#1f9e89\"],[0.6666666666666666,\"#35b779\"],[0.7777777777777778,\"#6ece58\"],[0.8888888888888888,\"#b5de2b\"],[1.0,\"#fde725\"]],\"type\":\"histogram2d\"}],\"histogram\":[{\"marker\":{\"line\":{\"color\":\"white\",\"width\":0.6}},\"type\":\"histogram\"}],\"mesh3d\":[{\"colorbar\":{\"outlinewidth\":1,\"tickcolor\":\"rgb(36,36,36)\",\"ticks\":\"outside\"},\"type\":\"mesh3d\"}],\"parcoords\":[{\"line\":{\"colorbar\":{\"outlinewidth\":1,\"tickcolor\":\"rgb(36,36,36)\",\"ticks\":\"outside\"}},\"type\":\"parcoords\"}],\"pie\":[{\"automargin\":true,\"type\":\"pie\"}],\"scatter3d\":[{\"line\":{\"colorbar\":{\"outlinewidth\":1,\"tickcolor\":\"rgb(36,36,36)\",\"ticks\":\"outside\"}},\"marker\":{\"colorbar\":{\"outlinewidth\":1,\"tickcolor\":\"rgb(36,36,36)\",\"ticks\":\"outside\"}},\"type\":\"scatter3d\"}],\"scattercarpet\":[{\"marker\":{\"colorbar\":{\"outlinewidth\":1,\"tickcolor\":\"rgb(36,36,36)\",\"ticks\":\"outside\"}},\"type\":\"scattercarpet\"}],\"scattergeo\":[{\"marker\":{\"colorbar\":{\"outlinewidth\":1,\"tickcolor\":\"rgb(36,36,36)\",\"ticks\":\"outside\"}},\"type\":\"scattergeo\"}],\"scattergl\":[{\"marker\":{\"colorbar\":{\"outlinewidth\":1,\"tickcolor\":\"rgb(36,36,36)\",\"ticks\":\"outside\"}},\"type\":\"scattergl\"}],\"scattermapbox\":[{\"marker\":{\"colorbar\":{\"outlinewidth\":1,\"tickcolor\":\"rgb(36,36,36)\",\"ticks\":\"outside\"}},\"type\":\"scattermapbox\"}],\"scatterpolargl\":[{\"marker\":{\"colorbar\":{\"outlinewidth\":1,\"tickcolor\":\"rgb(36,36,36)\",\"ticks\":\"outside\"}},\"type\":\"scatterpolargl\"}],\"scatterpolar\":[{\"marker\":{\"colorbar\":{\"outlinewidth\":1,\"tickcolor\":\"rgb(36,36,36)\",\"ticks\":\"outside\"}},\"type\":\"scatterpolar\"}],\"scatter\":[{\"fillpattern\":{\"fillmode\":\"overlay\",\"size\":10,\"solidity\":0.2},\"type\":\"scatter\"}],\"scatterternary\":[{\"marker\":{\"colorbar\":{\"outlinewidth\":1,\"tickcolor\":\"rgb(36,36,36)\",\"ticks\":\"outside\"}},\"type\":\"scatterternary\"}],\"surface\":[{\"colorbar\":{\"outlinewidth\":1,\"tickcolor\":\"rgb(36,36,36)\",\"ticks\":\"outside\"},\"colorscale\":[[0.0,\"#440154\"],[0.1111111111111111,\"#482878\"],[0.2222222222222222,\"#3e4989\"],[0.3333333333333333,\"#31688e\"],[0.4444444444444444,\"#26828e\"],[0.5555555555555556,\"#1f9e89\"],[0.6666666666666666,\"#35b779\"],[0.7777777777777778,\"#6ece58\"],[0.8888888888888888,\"#b5de2b\"],[1.0,\"#fde725\"]],\"type\":\"surface\"}],\"table\":[{\"cells\":{\"fill\":{\"color\":\"rgb(237,237,237)\"},\"line\":{\"color\":\"white\"}},\"header\":{\"fill\":{\"color\":\"rgb(217,217,217)\"},\"line\":{\"color\":\"white\"}},\"type\":\"table\"}]},\"layout\":{\"annotationdefaults\":{\"arrowhead\":0,\"arrowwidth\":1},\"autotypenumbers\":\"strict\",\"coloraxis\":{\"colorbar\":{\"outlinewidth\":1,\"tickcolor\":\"rgb(36,36,36)\",\"ticks\":\"outside\"}},\"colorscale\":{\"diverging\":[[0.0,\"rgb(103,0,31)\"],[0.1,\"rgb(178,24,43)\"],[0.2,\"rgb(214,96,77)\"],[0.3,\"rgb(244,165,130)\"],[0.4,\"rgb(253,219,199)\"],[0.5,\"rgb(247,247,247)\"],[0.6,\"rgb(209,229,240)\"],[0.7,\"rgb(146,197,222)\"],[0.8,\"rgb(67,147,195)\"],[0.9,\"rgb(33,102,172)\"],[1.0,\"rgb(5,48,97)\"]],\"sequential\":[[0.0,\"#440154\"],[0.1111111111111111,\"#482878\"],[0.2222222222222222,\"#3e4989\"],[0.3333333333333333,\"#31688e\"],[0.4444444444444444,\"#26828e\"],[0.5555555555555556,\"#1f9e89\"],[0.6666666666666666,\"#35b779\"],[0.7777777777777778,\"#6ece58\"],[0.8888888888888888,\"#b5de2b\"],[1.0,\"#fde725\"]],\"sequentialminus\":[[0.0,\"#440154\"],[0.1111111111111111,\"#482878\"],[0.2222222222222222,\"#3e4989\"],[0.3333333333333333,\"#31688e\"],[0.4444444444444444,\"#26828e\"],[0.5555555555555556,\"#1f9e89\"],[0.6666666666666666,\"#35b779\"],[0.7777777777777778,\"#6ece58\"],[0.8888888888888888,\"#b5de2b\"],[1.0,\"#fde725\"]]},\"colorway\":[\"#91268F\",\"#8CC63E\",\"#00A7A0\",\"#F05A28\",\"#4C4C4C\",\"#630460\",\"#9f3913\",\"#588527\",\"#00716c\",\"#3e4040\"],\"font\":{\"color\":\"rgb(36,36,36)\",\"family\":\"Poppins\",\"size\":11},\"geo\":{\"bgcolor\":\"white\",\"lakecolor\":\"white\",\"landcolor\":\"white\",\"showlakes\":true,\"showland\":true,\"subunitcolor\":\"white\"},\"hoverlabel\":{\"align\":\"left\"},\"hovermode\":\"closest\",\"mapbox\":{\"style\":\"light\"},\"paper_bgcolor\":\"white\",\"plot_bgcolor\":\"white\",\"polar\":{\"angularaxis\":{\"gridcolor\":\"rgb(232,232,232)\",\"linecolor\":\"rgb(36,36,36)\",\"showgrid\":false,\"showline\":true,\"ticks\":\"outside\"},\"bgcolor\":\"white\",\"radialaxis\":{\"gridcolor\":\"rgb(232,232,232)\",\"linecolor\":\"rgb(36,36,36)\",\"showgrid\":false,\"showline\":true,\"ticks\":\"outside\"}},\"scene\":{\"xaxis\":{\"backgroundcolor\":\"white\",\"gridcolor\":\"rgb(232,232,232)\",\"gridwidth\":2,\"linecolor\":\"rgb(36,36,36)\",\"showbackground\":true,\"showgrid\":false,\"showline\":true,\"ticks\":\"outside\",\"zeroline\":false,\"zerolinecolor\":\"rgb(36,36,36)\"},\"yaxis\":{\"backgroundcolor\":\"white\",\"gridcolor\":\"rgb(232,232,232)\",\"gridwidth\":2,\"linecolor\":\"rgb(36,36,36)\",\"showbackground\":true,\"showgrid\":false,\"showline\":true,\"ticks\":\"outside\",\"zeroline\":false,\"zerolinecolor\":\"rgb(36,36,36)\"},\"zaxis\":{\"backgroundcolor\":\"white\",\"gridcolor\":\"rgb(232,232,232)\",\"gridwidth\":2,\"linecolor\":\"rgb(36,36,36)\",\"showbackground\":true,\"showgrid\":false,\"showline\":true,\"ticks\":\"outside\",\"zeroline\":false,\"zerolinecolor\":\"rgb(36,36,36)\"}},\"shapedefaults\":{\"fillcolor\":\"black\",\"line\":{\"width\":0},\"opacity\":0.3},\"ternary\":{\"aaxis\":{\"gridcolor\":\"rgb(232,232,232)\",\"linecolor\":\"rgb(36,36,36)\",\"showgrid\":false,\"showline\":true,\"ticks\":\"outside\"},\"baxis\":{\"gridcolor\":\"rgb(232,232,232)\",\"linecolor\":\"rgb(36,36,36)\",\"showgrid\":false,\"showline\":true,\"ticks\":\"outside\"},\"bgcolor\":\"white\",\"caxis\":{\"gridcolor\":\"rgb(232,232,232)\",\"linecolor\":\"rgb(36,36,36)\",\"showgrid\":false,\"showline\":true,\"ticks\":\"outside\"}},\"title\":{\"x\":0.05},\"xaxis\":{\"automargin\":true,\"gridcolor\":\"rgb(232,232,232)\",\"linecolor\":\"rgb(36,36,36)\",\"showgrid\":false,\"showline\":true,\"ticks\":\"outside\",\"title\":{\"standoff\":15},\"zeroline\":false,\"zerolinecolor\":\"rgb(36,36,36)\"},\"yaxis\":{\"automargin\":true,\"gridcolor\":\"rgb(232,232,232)\",\"linecolor\":\"rgb(36,36,36)\",\"showgrid\":false,\"showline\":true,\"ticks\":\"outside\",\"title\":{\"standoff\":15},\"zeroline\":false,\"zerolinecolor\":\"rgb(36,36,36)\"}}},\"xaxis\":{\"anchor\":\"y\",\"domain\":[0.0,1.0],\"title\":{\"text\":\"Observed\"}},\"yaxis\":{\"anchor\":\"x\",\"domain\":[0.0,1.0],\"title\":{\"text\":\"Model\"}},\"legend\":{\"tracegroupgap\":0},\"title\":{\"text\":\"Medium Trucks: Kitsap\"},\"margin\":{\"l\":100,\"r\":100,\"t\":100,\"b\":100},\"height\":600,\"width\":800,\"shapes\":[{\"line\":{\"color\":\"Red\",\"dash\":\"dash\",\"width\":2},\"type\":\"line\",\"x0\":0,\"x1\":4291,\"y0\":0,\"y1\":4291}],\"annotations\":[{\"align\":\"right\",\"font\":{\"color\":\"pink\",\"size\":12},\"showarrow\":false,\"text\":\"y = x\",\"x\":4505.55,\"y\":4505.55},{\"align\":\"right\",\"font\":{\"color\":\"black\",\"size\":12},\"showarrow\":false,\"text\":\"r^2 = 0.78\",\"x\":3391.5,\"y\":4603.027976115282}]},                        {\"responsive\": true}                    ).then(function(){\n",
       "                            \n",
       "var gd = document.getElementById('2f521095-67eb-4410-955d-9effa22648a0');\n",
       "var x = new MutationObserver(function (mutations, observer) {{\n",
       "        var display = window.getComputedStyle(gd).display;\n",
       "        if (!display || display === 'none') {{\n",
       "            console.log([gd, 'removed!']);\n",
       "            Plotly.purge(gd);\n",
       "            observer.disconnect();\n",
       "        }}\n",
       "}});\n",
       "\n",
       "// Listen for the removal of the full notebook cells\n",
       "var notebookContainer = gd.closest('#notebook-container');\n",
       "if (notebookContainer) {{\n",
       "    x.observe(notebookContainer, {childList: true});\n",
       "}}\n",
       "\n",
       "// Listen for the clearing of the current output cell\n",
       "var outputEl = gd.closest('.output');\n",
       "if (outputEl) {{\n",
       "    x.observe(outputEl, {childList: true});\n",
       "}}\n",
       "\n",
       "                        })                };                });            </script>        </div>"
      ]
     },
     "metadata": {},
     "output_type": "display_data"
    }
   ],
   "source": [
    "fig = create_truck_chart(df_daily_med, 'Medium', 'Kitsap')\n",
    "fig.show()"
   ]
  },
  {
   "cell_type": "raw",
   "id": "7c56e60a",
   "metadata": {},
   "source": [
    "#### Pierce"
   ]
  },
  {
   "cell_type": "code",
   "execution_count": 32,
   "id": "70397228",
   "metadata": {},
   "outputs": [
    {
     "data": {
      "application/vnd.plotly.v1+json": {
       "config": {
        "plotlyServerURL": "https://plot.ly"
       },
       "data": [
        {
         "customdata": [
          [
           "I-5 S/O Mounts NB",
           "Pierce"
          ],
          [
           "I-5 S/O Mounts SB",
           "Pierce"
          ],
          [
           "I-5 S/O Division NB",
           "Pierce"
          ],
          [
           "I-5 S/O Division SB",
           "Pierce"
          ],
          [
           "I-5 @ N/O Division NB",
           "Pierce"
          ],
          [
           "I-5 @ N/O Division SB",
           "Pierce"
          ],
          [
           "I-5 S/O SR-512 NB",
           "Pierce"
          ],
          [
           "I-5 S/O SR-512 SB",
           "Pierce"
          ],
          [
           "I-5 N/O SR-512 NB",
           "Pierce"
          ],
          [
           "I-5 N/O SR-512 SB",
           "Pierce"
          ],
          [
           "I-5 N/O 56th NB",
           "Pierce"
          ],
          [
           "I-5 N/O 56th SB",
           "Pierce"
          ],
          [
           "I-5 E/O SR-16 NB",
           "Pierce"
          ],
          [
           "I-5 E/O SR-16 SB",
           "Pierce"
          ],
          [
           "I-5 E/O Port of Tacoma NB",
           "Pierce"
          ],
          [
           "I-5 E/O Port of Tacoma SB (HOV from 56)",
           "Pierce"
          ],
          [
           "SR-512 W/O Meridian WB",
           "Pierce"
          ],
          [
           "SR-512 W/O Meridian EB",
           "Pierce"
          ],
          [
           "SR-167 W/O SR-410 NB/SB",
           "Pierce"
          ],
          [
           "SR-167 E/O SR-161 NB/SB",
           "Pierce"
          ],
          [
           "SR-410 E/O S Prairie WB/EB",
           "Pierce"
          ],
          [
           "SR-410 E/O Chinook WB/EB",
           "Pierce"
          ],
          [
           "SR-410 W/O SR-123 WB/EB",
           "Pierce"
          ],
          [
           "SR-410 E/O SR-123 WB/EB",
           "Pierce"
          ],
          [
           "SR-512 @ I-5 WB/EB",
           "Pierce"
          ],
          [
           "SR-512 W/O SR-7 WB/EB",
           "Pierce"
          ],
          [
           "SR-512 S/O SR-167 WB/EB",
           "Pierce"
          ],
          [
           "SR-509 E/O I-705 NB/SB",
           "Pierce"
          ],
          [
           "SR-509 W/O Alexander NB/SB",
           "Pierce"
          ],
          [
           "SR-509 S/O 11th NB/SB",
           "Pierce"
          ],
          [
           "SR-509 N/O Hyada NB/SB",
           "Pierce"
          ],
          [
           "SR-509 E/O Soundview NB/SB",
           "Pierce"
          ],
          [
           "SR-99 @ I-5 NB/SB",
           "Pierce"
          ],
          [
           "SR-99 E/O 54th NB/SB",
           "Pierce"
          ],
          [
           "SR-99 S/O Porter NB/SB",
           "Pierce"
          ],
          [
           "SR-16 @ TNB NB/SB",
           "Pierce"
          ],
          [
           "SR-16 @ Purdy Dr NB/SB",
           "Pierce"
          ],
          [
           "SR-302 N/O 144th WB/EB",
           "Pierce"
          ],
          [
           "SR-302 S/O 144th WB/EB",
           "Pierce"
          ],
          [
           "SR-302 W/O Key Peninsula Hwy WB/EB",
           "Pierce"
          ],
          [
           "SR-302 W/O Wright-Bliss WB/EB (E/O?)",
           "Pierce"
          ],
          [
           "SR-161 E/O SR-7 NB/SB",
           "Pierce"
          ],
          [
           "SR-161 N/O Center NB/SB",
           "Pierce"
          ],
          [
           "SR-161 N/O Eatonville Cutoff NB/SB",
           "Pierce"
          ],
          [
           "SR-161 N/O 304th NB/SB",
           "Pierce"
          ],
          [
           "SR-161 N/O 264th NB/SB",
           "Pierce"
          ],
          [
           "SR-161 S/O 224th NB/SB",
           "Pierce"
          ],
          [
           "SR-161 N/O 224th NB/SB",
           "Pierce"
          ],
          [
           "SR-161 N/O 204th NB/SB",
           "Pierce"
          ],
          [
           "SR-161 S/O SR-167 SB off-ramp NB/SB",
           "Pierce"
          ],
          [
           "SR-161 S/O Valley NB/SB",
           "Pierce"
          ],
          [
           "SR-161 N/O Valley NB/SB",
           "Pierce"
          ],
          [
           "SR-161 N/O 8th NB/SB",
           "Pierce"
          ],
          [
           "SR-7 @ Thurston County NB/SB",
           "Pierce"
          ],
          [
           "SR-7 W/O Alder Cutoff NB/SB",
           "Pierce"
          ],
          [
           "SR-7 N/O Eatonville Hwy NB/SB",
           "Pierce"
          ],
          [
           "SR-7 N/O Silver Lake NB/SB",
           "Pierce"
          ],
          [
           "SR-7 S/O SR-702 NB/SB",
           "Pierce"
          ],
          [
           "SR-7 N/O 304th NB/SB",
           "Pierce"
          ],
          [
           "SR-7 N/O 260th NB/SB",
           "Pierce"
          ],
          [
           "SR-7 S/O 224th NB/SB",
           "Pierce"
          ],
          [
           "SR-7 N/O 224th NB/SB",
           "Pierce"
          ],
          [
           "SR-7 N/O 38th NB/SB",
           "Pierce"
          ],
          [
           "SR-162 @ SR-410 WB/EB",
           "Pierce"
          ],
          [
           "SR-162 S/O Pioneer WB/EB",
           "Pierce"
          ],
          [
           "SR-162 E/O Orville WB/EB",
           "Pierce"
          ],
          [
           "SR-162 E/O S Prairie WB/EB",
           "Pierce"
          ],
          [
           "SR-162 N/O SR-165 WB/EB",
           "Pierce"
          ],
          [
           "SR-163 @ SR-16 NB/SB",
           "Pierce"
          ],
          [
           "SR-163 N/O 37th NB/SB",
           "Pierce"
          ],
          [
           "SR-163 N/O Park NB/SB",
           "Pierce"
          ],
          [
           "SR-507 S/O SR-7 NB/SB",
           "Pierce"
          ],
          [
           "SR-507 S/O E Gate NB/SB",
           "Pierce"
          ],
          [
           "SR-507 S/O 288th NB/SB",
           "Pierce"
          ],
          [
           "SR-507 N/O 346th NB/SB",
           "Pierce"
          ],
          [
           "SR-702 E/O SR-507 WB/EB",
           "Pierce"
          ],
          [
           "SR-702 E/O Harts Lake WB/EB",
           "Pierce"
          ],
          [
           "SR-702 E/O 40th WB/EB",
           "Pierce"
          ],
          [
           "SR-702 W/O 8th WB/EB",
           "Pierce"
          ],
          [
           "SR-702 E/O 8th WB/EB",
           "Pierce"
          ],
          [
           "SR-165 W/O SR-162 NB/SB",
           "Pierce"
          ],
          [
           "SR-165 N/O Davis NB/SB",
           "Pierce"
          ],
          [
           "SR-165 N/O Wilkeson-Carbonado NB/SB",
           "Pierce"
          ],
          [
           "SR-704 E/O Spanaway Loop WB/EB",
           "Pierce"
          ],
          [
           "SR-706 E/O SR-7 WB/EB",
           "Pierce"
          ],
          [
           "SR-706 E/O Kernahan WB/EB",
           "Pierce"
          ]
         ],
         "hovertemplate": "Observed=%{x}<br>Model=%{y}<br>location=%{customdata[0]}<br>County=%{customdata[1]}<extra></extra>",
         "legendgroup": "",
         "line": {
          "color": "Grey",
          "width": 2
         },
         "marker": {
          "color": "#91268F",
          "symbol": "circle"
         },
         "mode": "markers",
         "name": "",
         "orientation": "v",
         "showlegend": false,
         "type": "scatter",
         "x": [
          2398,
          2384,
          2500,
          2589,
          2331,
          2275,
          2608,
          2499,
          4754,
          4821,
          5641,
          5686,
          1764,
          3843,
          2614,
          3294,
          2040,
          2040,
          5571,
          2749,
          1262,
          74,
          48,
          29,
          2835,
          3326,
          4048,
          1036,
          2310,
          171,
          59,
          62,
          1276,
          1600,
          1150,
          3133,
          2138,
          426,
          871,
          227,
          157,
          24,
          456,
          313,
          594,
          598,
          504,
          864,
          1216,
          1000,
          1850,
          720,
          800,
          241,
          106,
          193,
          228,
          363,
          690,
          897,
          1350,
          858,
          378,
          640,
          924,
          618,
          354,
          547,
          420,
          276,
          161,
          1264,
          462,
          533,
          611,
          524,
          396,
          389,
          382,
          322,
          390,
          211,
          120,
          720,
          150,
          75
         ],
         "xaxis": "x",
         "y": [
          0,
          0,
          717,
          741,
          710,
          732,
          1039,
          1009,
          1986,
          2379,
          3333,
          3525,
          1855,
          5933,
          6358,
          6403,
          2279,
          2255,
          6937,
          3114,
          1146,
          0,
          0,
          0,
          3291,
          3343,
          5149,
          1677,
          1550,
          94,
          29,
          29,
          1296,
          1270,
          1328,
          6861,
          4138,
          324,
          331,
          140,
          42,
          4,
          28,
          190,
          353,
          350,
          530,
          587,
          1043,
          1333,
          1993,
          595,
          1398,
          0,
          16,
          23,
          30,
          28,
          243,
          292,
          329,
          414,
          193,
          523,
          734,
          246,
          130,
          240,
          980,
          369,
          201,
          252,
          158,
          46,
          48,
          10,
          10,
          107,
          107,
          54,
          159,
          81,
          37,
          764,
          0,
          0
         ],
         "yaxis": "y"
        },
        {
         "hovertemplate": "Observed=%{x}<br>Model=%{y}<extra></extra>",
         "legendgroup": "",
         "line": {
          "color": "Grey",
          "dash": "solid",
          "width": 2
         },
         "marker": {
          "symbol": "circle"
         },
         "mode": "lines",
         "name": "",
         "orientation": "v",
         "showlegend": false,
         "type": "scatter",
         "x": [
          0,
          57.43434343434343,
          114.86868686868686,
          172.3030303030303,
          229.73737373737373,
          287.17171717171715,
          344.6060606060606,
          402.04040404040404,
          459.47474747474746,
          516.9090909090909,
          574.3434343434343,
          631.7777777777777,
          689.2121212121212,
          746.6464646464647,
          804.0808080808081,
          861.5151515151515,
          918.9494949494949,
          976.3838383838383,
          1033.8181818181818,
          1091.2525252525252,
          1148.6868686868686,
          1206.121212121212,
          1263.5555555555554,
          1320.9898989898988,
          1378.4242424242425,
          1435.858585858586,
          1493.2929292929293,
          1550.7272727272727,
          1608.1616161616162,
          1665.5959595959596,
          1723.030303030303,
          1780.4646464646464,
          1837.8989898989898,
          1895.3333333333333,
          1952.7676767676767,
          2010.20202020202,
          2067.6363636363635,
          2125.070707070707,
          2182.5050505050503,
          2239.939393939394,
          2297.373737373737,
          2354.808080808081,
          2412.242424242424,
          2469.6767676767677,
          2527.111111111111,
          2584.5454545454545,
          2641.9797979797977,
          2699.4141414141413,
          2756.848484848485,
          2814.282828282828,
          2871.717171717172,
          2929.151515151515,
          2986.5858585858587,
          3044.020202020202,
          3101.4545454545455,
          3158.8888888888887,
          3216.3232323232323,
          3273.7575757575755,
          3331.191919191919,
          3388.6262626262624,
          3446.060606060606,
          3503.494949494949,
          3560.929292929293,
          3618.363636363636,
          3675.7979797979797,
          3733.2323232323233,
          3790.6666666666665,
          3848.10101010101,
          3905.5353535353534,
          3962.969696969697,
          4020.40404040404,
          4077.838383838384,
          4135.272727272727,
          4192.707070707071,
          4250.141414141414,
          4307.575757575757,
          4365.010101010101,
          4422.444444444444,
          4479.878787878788,
          4537.313131313131,
          4594.747474747474,
          4652.181818181818,
          4709.616161616162,
          4767.050505050505,
          4824.484848484848,
          4881.919191919192,
          4939.353535353535,
          4996.787878787879,
          5054.222222222222,
          5111.656565656565,
          5169.090909090909,
          5226.525252525253,
          5283.959595959595,
          5341.393939393939,
          5398.828282828283,
          5456.262626262626,
          5513.69696969697,
          5571.131313131313,
          5628.565656565656,
          5686
         ],
         "xaxis": "x",
         "y": [
          -98.04290135167935,
          -44.774495789844906,
          8.493909771989536,
          61.762315333824006,
          115.03072089565842,
          168.29912645749283,
          221.56753201932736,
          274.8359375811618,
          328.1043431429962,
          381.37274870483066,
          434.641154266665,
          487.9095598284995,
          541.1779653903341,
          594.4463709521684,
          647.7147765140029,
          700.9831820758374,
          754.2515876376717,
          807.5199931995062,
          860.7883987613407,
          914.056804323175,
          967.3252098850094,
          1020.5936154468438,
          1073.8620210086783,
          1127.1304265705128,
          1180.3988321323475,
          1233.667237694182,
          1286.9356432560162,
          1340.2040488178507,
          1393.4724543796851,
          1446.7408599415196,
          1500.009265503354,
          1553.2776710651885,
          1606.5460766270228,
          1659.8144821888573,
          1713.0828877506917,
          1766.3512933125262,
          1819.6196988743607,
          1872.8881044361951,
          1926.1565099980294,
          1979.4249155598643,
          2032.693321121698,
          2085.961726683533,
          2139.230132245367,
          2192.4985378072015,
          2245.766943369036,
          2299.035348930871,
          2352.3037544927047,
          2405.5721600545394,
          2458.840565616374,
          2512.108971178209,
          2565.3773767400435,
          2618.6457823018773,
          2671.914187863712,
          2725.1825934255457,
          2778.4509989873804,
          2831.719404549215,
          2884.98781011105,
          2938.2562156728836,
          2991.5246212347183,
          3044.793026796553,
          3098.0614323583877,
          3151.3298379202215,
          3204.598243482056,
          3257.86664904389,
          3311.1350546057247,
          3364.4034601675594,
          3417.671865729394,
          3470.940271291229,
          3524.2086768530626,
          3577.4770824148973,
          3630.745487976732,
          3684.0138935385667,
          3737.2822991004005,
          3790.550704662235,
          3843.81911022407,
          3897.0875157859036,
          3950.3559213477383,
          4003.624326909573,
          4056.8927324714077,
          4110.1611380332415,
          4163.429543595075,
          4216.69794915691,
          4269.966354718745,
          4323.234760280579,
          4376.503165842413,
          4429.771571404248,
          4483.039976966083,
          4536.308382527917,
          4589.576788089751,
          4642.845193651586,
          4696.1135992134205,
          4749.382004775255,
          4802.650410337089,
          4855.918815898924,
          4909.187221460758,
          4962.455627022593,
          5015.724032584428,
          5068.9924381462615,
          5122.260843708096,
          5175.529249269931
         ],
         "yaxis": "y"
        }
       ],
       "layout": {
        "annotations": [
         {
          "align": "right",
          "font": {
           "color": "pink",
           "size": 12
          },
          "showarrow": false,
          "text": "y = x",
          "x": 7283.85,
          "y": 7283.85
         },
         {
          "align": "right",
          "font": {
           "color": "black",
           "size": 12
          },
          "showarrow": false,
          "text": "r^2 = 0.58",
          "x": 5970.3,
          "y": 5434.305711733427
         }
        ],
        "height": 600,
        "legend": {
         "tracegroupgap": 0
        },
        "margin": {
         "b": 100,
         "l": 100,
         "r": 100,
         "t": 100
        },
        "shapes": [
         {
          "line": {
           "color": "Red",
           "dash": "dash",
           "width": 2
          },
          "type": "line",
          "x0": 0,
          "x1": 6937,
          "y0": 0,
          "y1": 6937
         }
        ],
        "template": {
         "data": {
          "bar": [
           {
            "error_x": {
             "color": "rgb(36,36,36)"
            },
            "error_y": {
             "color": "rgb(36,36,36)"
            },
            "marker": {
             "line": {
              "color": "white",
              "width": 0.5
             },
             "pattern": {
              "fillmode": "overlay",
              "size": 10,
              "solidity": 0.2
             }
            },
            "type": "bar"
           }
          ],
          "barpolar": [
           {
            "marker": {
             "line": {
              "color": "white",
              "width": 0.5
             },
             "pattern": {
              "fillmode": "overlay",
              "size": 10,
              "solidity": 0.2
             }
            },
            "type": "barpolar"
           }
          ],
          "carpet": [
           {
            "aaxis": {
             "endlinecolor": "rgb(36,36,36)",
             "gridcolor": "white",
             "linecolor": "white",
             "minorgridcolor": "white",
             "startlinecolor": "rgb(36,36,36)"
            },
            "baxis": {
             "endlinecolor": "rgb(36,36,36)",
             "gridcolor": "white",
             "linecolor": "white",
             "minorgridcolor": "white",
             "startlinecolor": "rgb(36,36,36)"
            },
            "type": "carpet"
           }
          ],
          "choropleth": [
           {
            "colorbar": {
             "outlinewidth": 1,
             "tickcolor": "rgb(36,36,36)",
             "ticks": "outside"
            },
            "type": "choropleth"
           }
          ],
          "contour": [
           {
            "colorbar": {
             "outlinewidth": 1,
             "tickcolor": "rgb(36,36,36)",
             "ticks": "outside"
            },
            "colorscale": [
             [
              0,
              "#440154"
             ],
             [
              0.1111111111111111,
              "#482878"
             ],
             [
              0.2222222222222222,
              "#3e4989"
             ],
             [
              0.3333333333333333,
              "#31688e"
             ],
             [
              0.4444444444444444,
              "#26828e"
             ],
             [
              0.5555555555555556,
              "#1f9e89"
             ],
             [
              0.6666666666666666,
              "#35b779"
             ],
             [
              0.7777777777777778,
              "#6ece58"
             ],
             [
              0.8888888888888888,
              "#b5de2b"
             ],
             [
              1,
              "#fde725"
             ]
            ],
            "type": "contour"
           }
          ],
          "contourcarpet": [
           {
            "colorbar": {
             "outlinewidth": 1,
             "tickcolor": "rgb(36,36,36)",
             "ticks": "outside"
            },
            "type": "contourcarpet"
           }
          ],
          "heatmap": [
           {
            "colorbar": {
             "outlinewidth": 1,
             "tickcolor": "rgb(36,36,36)",
             "ticks": "outside"
            },
            "colorscale": [
             [
              0,
              "#440154"
             ],
             [
              0.1111111111111111,
              "#482878"
             ],
             [
              0.2222222222222222,
              "#3e4989"
             ],
             [
              0.3333333333333333,
              "#31688e"
             ],
             [
              0.4444444444444444,
              "#26828e"
             ],
             [
              0.5555555555555556,
              "#1f9e89"
             ],
             [
              0.6666666666666666,
              "#35b779"
             ],
             [
              0.7777777777777778,
              "#6ece58"
             ],
             [
              0.8888888888888888,
              "#b5de2b"
             ],
             [
              1,
              "#fde725"
             ]
            ],
            "type": "heatmap"
           }
          ],
          "heatmapgl": [
           {
            "colorbar": {
             "outlinewidth": 1,
             "tickcolor": "rgb(36,36,36)",
             "ticks": "outside"
            },
            "colorscale": [
             [
              0,
              "#440154"
             ],
             [
              0.1111111111111111,
              "#482878"
             ],
             [
              0.2222222222222222,
              "#3e4989"
             ],
             [
              0.3333333333333333,
              "#31688e"
             ],
             [
              0.4444444444444444,
              "#26828e"
             ],
             [
              0.5555555555555556,
              "#1f9e89"
             ],
             [
              0.6666666666666666,
              "#35b779"
             ],
             [
              0.7777777777777778,
              "#6ece58"
             ],
             [
              0.8888888888888888,
              "#b5de2b"
             ],
             [
              1,
              "#fde725"
             ]
            ],
            "type": "heatmapgl"
           }
          ],
          "histogram": [
           {
            "marker": {
             "line": {
              "color": "white",
              "width": 0.6
             }
            },
            "type": "histogram"
           }
          ],
          "histogram2d": [
           {
            "colorbar": {
             "outlinewidth": 1,
             "tickcolor": "rgb(36,36,36)",
             "ticks": "outside"
            },
            "colorscale": [
             [
              0,
              "#440154"
             ],
             [
              0.1111111111111111,
              "#482878"
             ],
             [
              0.2222222222222222,
              "#3e4989"
             ],
             [
              0.3333333333333333,
              "#31688e"
             ],
             [
              0.4444444444444444,
              "#26828e"
             ],
             [
              0.5555555555555556,
              "#1f9e89"
             ],
             [
              0.6666666666666666,
              "#35b779"
             ],
             [
              0.7777777777777778,
              "#6ece58"
             ],
             [
              0.8888888888888888,
              "#b5de2b"
             ],
             [
              1,
              "#fde725"
             ]
            ],
            "type": "histogram2d"
           }
          ],
          "histogram2dcontour": [
           {
            "colorbar": {
             "outlinewidth": 1,
             "tickcolor": "rgb(36,36,36)",
             "ticks": "outside"
            },
            "colorscale": [
             [
              0,
              "#440154"
             ],
             [
              0.1111111111111111,
              "#482878"
             ],
             [
              0.2222222222222222,
              "#3e4989"
             ],
             [
              0.3333333333333333,
              "#31688e"
             ],
             [
              0.4444444444444444,
              "#26828e"
             ],
             [
              0.5555555555555556,
              "#1f9e89"
             ],
             [
              0.6666666666666666,
              "#35b779"
             ],
             [
              0.7777777777777778,
              "#6ece58"
             ],
             [
              0.8888888888888888,
              "#b5de2b"
             ],
             [
              1,
              "#fde725"
             ]
            ],
            "type": "histogram2dcontour"
           }
          ],
          "mesh3d": [
           {
            "colorbar": {
             "outlinewidth": 1,
             "tickcolor": "rgb(36,36,36)",
             "ticks": "outside"
            },
            "type": "mesh3d"
           }
          ],
          "parcoords": [
           {
            "line": {
             "colorbar": {
              "outlinewidth": 1,
              "tickcolor": "rgb(36,36,36)",
              "ticks": "outside"
             }
            },
            "type": "parcoords"
           }
          ],
          "pie": [
           {
            "automargin": true,
            "type": "pie"
           }
          ],
          "scatter": [
           {
            "fillpattern": {
             "fillmode": "overlay",
             "size": 10,
             "solidity": 0.2
            },
            "type": "scatter"
           }
          ],
          "scatter3d": [
           {
            "line": {
             "colorbar": {
              "outlinewidth": 1,
              "tickcolor": "rgb(36,36,36)",
              "ticks": "outside"
             }
            },
            "marker": {
             "colorbar": {
              "outlinewidth": 1,
              "tickcolor": "rgb(36,36,36)",
              "ticks": "outside"
             }
            },
            "type": "scatter3d"
           }
          ],
          "scattercarpet": [
           {
            "marker": {
             "colorbar": {
              "outlinewidth": 1,
              "tickcolor": "rgb(36,36,36)",
              "ticks": "outside"
             }
            },
            "type": "scattercarpet"
           }
          ],
          "scattergeo": [
           {
            "marker": {
             "colorbar": {
              "outlinewidth": 1,
              "tickcolor": "rgb(36,36,36)",
              "ticks": "outside"
             }
            },
            "type": "scattergeo"
           }
          ],
          "scattergl": [
           {
            "marker": {
             "colorbar": {
              "outlinewidth": 1,
              "tickcolor": "rgb(36,36,36)",
              "ticks": "outside"
             }
            },
            "type": "scattergl"
           }
          ],
          "scattermapbox": [
           {
            "marker": {
             "colorbar": {
              "outlinewidth": 1,
              "tickcolor": "rgb(36,36,36)",
              "ticks": "outside"
             }
            },
            "type": "scattermapbox"
           }
          ],
          "scatterpolar": [
           {
            "marker": {
             "colorbar": {
              "outlinewidth": 1,
              "tickcolor": "rgb(36,36,36)",
              "ticks": "outside"
             }
            },
            "type": "scatterpolar"
           }
          ],
          "scatterpolargl": [
           {
            "marker": {
             "colorbar": {
              "outlinewidth": 1,
              "tickcolor": "rgb(36,36,36)",
              "ticks": "outside"
             }
            },
            "type": "scatterpolargl"
           }
          ],
          "scatterternary": [
           {
            "marker": {
             "colorbar": {
              "outlinewidth": 1,
              "tickcolor": "rgb(36,36,36)",
              "ticks": "outside"
             }
            },
            "type": "scatterternary"
           }
          ],
          "surface": [
           {
            "colorbar": {
             "outlinewidth": 1,
             "tickcolor": "rgb(36,36,36)",
             "ticks": "outside"
            },
            "colorscale": [
             [
              0,
              "#440154"
             ],
             [
              0.1111111111111111,
              "#482878"
             ],
             [
              0.2222222222222222,
              "#3e4989"
             ],
             [
              0.3333333333333333,
              "#31688e"
             ],
             [
              0.4444444444444444,
              "#26828e"
             ],
             [
              0.5555555555555556,
              "#1f9e89"
             ],
             [
              0.6666666666666666,
              "#35b779"
             ],
             [
              0.7777777777777778,
              "#6ece58"
             ],
             [
              0.8888888888888888,
              "#b5de2b"
             ],
             [
              1,
              "#fde725"
             ]
            ],
            "type": "surface"
           }
          ],
          "table": [
           {
            "cells": {
             "fill": {
              "color": "rgb(237,237,237)"
             },
             "line": {
              "color": "white"
             }
            },
            "header": {
             "fill": {
              "color": "rgb(217,217,217)"
             },
             "line": {
              "color": "white"
             }
            },
            "type": "table"
           }
          ]
         },
         "layout": {
          "annotationdefaults": {
           "arrowhead": 0,
           "arrowwidth": 1
          },
          "autotypenumbers": "strict",
          "coloraxis": {
           "colorbar": {
            "outlinewidth": 1,
            "tickcolor": "rgb(36,36,36)",
            "ticks": "outside"
           }
          },
          "colorscale": {
           "diverging": [
            [
             0,
             "rgb(103,0,31)"
            ],
            [
             0.1,
             "rgb(178,24,43)"
            ],
            [
             0.2,
             "rgb(214,96,77)"
            ],
            [
             0.3,
             "rgb(244,165,130)"
            ],
            [
             0.4,
             "rgb(253,219,199)"
            ],
            [
             0.5,
             "rgb(247,247,247)"
            ],
            [
             0.6,
             "rgb(209,229,240)"
            ],
            [
             0.7,
             "rgb(146,197,222)"
            ],
            [
             0.8,
             "rgb(67,147,195)"
            ],
            [
             0.9,
             "rgb(33,102,172)"
            ],
            [
             1,
             "rgb(5,48,97)"
            ]
           ],
           "sequential": [
            [
             0,
             "#440154"
            ],
            [
             0.1111111111111111,
             "#482878"
            ],
            [
             0.2222222222222222,
             "#3e4989"
            ],
            [
             0.3333333333333333,
             "#31688e"
            ],
            [
             0.4444444444444444,
             "#26828e"
            ],
            [
             0.5555555555555556,
             "#1f9e89"
            ],
            [
             0.6666666666666666,
             "#35b779"
            ],
            [
             0.7777777777777778,
             "#6ece58"
            ],
            [
             0.8888888888888888,
             "#b5de2b"
            ],
            [
             1,
             "#fde725"
            ]
           ],
           "sequentialminus": [
            [
             0,
             "#440154"
            ],
            [
             0.1111111111111111,
             "#482878"
            ],
            [
             0.2222222222222222,
             "#3e4989"
            ],
            [
             0.3333333333333333,
             "#31688e"
            ],
            [
             0.4444444444444444,
             "#26828e"
            ],
            [
             0.5555555555555556,
             "#1f9e89"
            ],
            [
             0.6666666666666666,
             "#35b779"
            ],
            [
             0.7777777777777778,
             "#6ece58"
            ],
            [
             0.8888888888888888,
             "#b5de2b"
            ],
            [
             1,
             "#fde725"
            ]
           ]
          },
          "colorway": [
           "#91268F",
           "#8CC63E",
           "#00A7A0",
           "#F05A28",
           "#4C4C4C",
           "#630460",
           "#9f3913",
           "#588527",
           "#00716c",
           "#3e4040"
          ],
          "font": {
           "color": "rgb(36,36,36)",
           "family": "Poppins",
           "size": 11
          },
          "geo": {
           "bgcolor": "white",
           "lakecolor": "white",
           "landcolor": "white",
           "showlakes": true,
           "showland": true,
           "subunitcolor": "white"
          },
          "hoverlabel": {
           "align": "left"
          },
          "hovermode": "closest",
          "mapbox": {
           "style": "light"
          },
          "paper_bgcolor": "white",
          "plot_bgcolor": "white",
          "polar": {
           "angularaxis": {
            "gridcolor": "rgb(232,232,232)",
            "linecolor": "rgb(36,36,36)",
            "showgrid": false,
            "showline": true,
            "ticks": "outside"
           },
           "bgcolor": "white",
           "radialaxis": {
            "gridcolor": "rgb(232,232,232)",
            "linecolor": "rgb(36,36,36)",
            "showgrid": false,
            "showline": true,
            "ticks": "outside"
           }
          },
          "scene": {
           "xaxis": {
            "backgroundcolor": "white",
            "gridcolor": "rgb(232,232,232)",
            "gridwidth": 2,
            "linecolor": "rgb(36,36,36)",
            "showbackground": true,
            "showgrid": false,
            "showline": true,
            "ticks": "outside",
            "zeroline": false,
            "zerolinecolor": "rgb(36,36,36)"
           },
           "yaxis": {
            "backgroundcolor": "white",
            "gridcolor": "rgb(232,232,232)",
            "gridwidth": 2,
            "linecolor": "rgb(36,36,36)",
            "showbackground": true,
            "showgrid": false,
            "showline": true,
            "ticks": "outside",
            "zeroline": false,
            "zerolinecolor": "rgb(36,36,36)"
           },
           "zaxis": {
            "backgroundcolor": "white",
            "gridcolor": "rgb(232,232,232)",
            "gridwidth": 2,
            "linecolor": "rgb(36,36,36)",
            "showbackground": true,
            "showgrid": false,
            "showline": true,
            "ticks": "outside",
            "zeroline": false,
            "zerolinecolor": "rgb(36,36,36)"
           }
          },
          "shapedefaults": {
           "fillcolor": "black",
           "line": {
            "width": 0
           },
           "opacity": 0.3
          },
          "ternary": {
           "aaxis": {
            "gridcolor": "rgb(232,232,232)",
            "linecolor": "rgb(36,36,36)",
            "showgrid": false,
            "showline": true,
            "ticks": "outside"
           },
           "baxis": {
            "gridcolor": "rgb(232,232,232)",
            "linecolor": "rgb(36,36,36)",
            "showgrid": false,
            "showline": true,
            "ticks": "outside"
           },
           "bgcolor": "white",
           "caxis": {
            "gridcolor": "rgb(232,232,232)",
            "linecolor": "rgb(36,36,36)",
            "showgrid": false,
            "showline": true,
            "ticks": "outside"
           }
          },
          "title": {
           "x": 0.05
          },
          "xaxis": {
           "automargin": true,
           "gridcolor": "rgb(232,232,232)",
           "linecolor": "rgb(36,36,36)",
           "showgrid": false,
           "showline": true,
           "ticks": "outside",
           "title": {
            "standoff": 15
           },
           "zeroline": false,
           "zerolinecolor": "rgb(36,36,36)"
          },
          "yaxis": {
           "automargin": true,
           "gridcolor": "rgb(232,232,232)",
           "linecolor": "rgb(36,36,36)",
           "showgrid": false,
           "showline": true,
           "ticks": "outside",
           "title": {
            "standoff": 15
           },
           "zeroline": false,
           "zerolinecolor": "rgb(36,36,36)"
          }
         }
        },
        "title": {
         "text": "Medium Trucks: Pierce"
        },
        "width": 800,
        "xaxis": {
         "anchor": "y",
         "domain": [
          0,
          1
         ],
         "title": {
          "text": "Observed"
         }
        },
        "yaxis": {
         "anchor": "x",
         "domain": [
          0,
          1
         ],
         "title": {
          "text": "Model"
         }
        }
       }
      },
      "text/html": [
       "<div>                            <div id=\"29a1b24a-acea-4ab5-83aa-a4ed17142448\" class=\"plotly-graph-div\" style=\"height:600px; width:800px;\"></div>            <script type=\"text/javascript\">                require([\"plotly\"], function(Plotly) {                    window.PLOTLYENV=window.PLOTLYENV || {};                                    if (document.getElementById(\"29a1b24a-acea-4ab5-83aa-a4ed17142448\")) {                    Plotly.newPlot(                        \"29a1b24a-acea-4ab5-83aa-a4ed17142448\",                        [{\"customdata\":[[\"I-5 S\\u002fO Mounts NB\",\"Pierce\"],[\"I-5 S\\u002fO Mounts SB\",\"Pierce\"],[\"I-5 S\\u002fO Division NB\",\"Pierce\"],[\"I-5 S\\u002fO Division SB\",\"Pierce\"],[\"I-5 @ N\\u002fO Division NB\",\"Pierce\"],[\"I-5 @ N\\u002fO Division SB\",\"Pierce\"],[\"I-5 S\\u002fO SR-512 NB\",\"Pierce\"],[\"I-5 S\\u002fO SR-512 SB\",\"Pierce\"],[\"I-5 N\\u002fO SR-512 NB\",\"Pierce\"],[\"I-5 N\\u002fO SR-512 SB\",\"Pierce\"],[\"I-5 N\\u002fO 56th NB\",\"Pierce\"],[\"I-5 N\\u002fO 56th SB\",\"Pierce\"],[\"I-5 E\\u002fO SR-16 NB\",\"Pierce\"],[\"I-5 E\\u002fO SR-16 SB\",\"Pierce\"],[\"I-5 E\\u002fO Port of Tacoma NB\",\"Pierce\"],[\"I-5 E\\u002fO Port of Tacoma SB (HOV from 56)\",\"Pierce\"],[\"SR-512 W\\u002fO Meridian WB\",\"Pierce\"],[\"SR-512 W\\u002fO Meridian EB\",\"Pierce\"],[\"SR-167 W\\u002fO SR-410 NB\\u002fSB\",\"Pierce\"],[\"SR-167 E\\u002fO SR-161 NB\\u002fSB\",\"Pierce\"],[\"SR-410 E\\u002fO S Prairie WB\\u002fEB\",\"Pierce\"],[\"SR-410 E\\u002fO Chinook WB\\u002fEB\",\"Pierce\"],[\"SR-410 W\\u002fO SR-123 WB\\u002fEB\",\"Pierce\"],[\"SR-410 E\\u002fO SR-123 WB\\u002fEB\",\"Pierce\"],[\"SR-512 @ I-5 WB\\u002fEB\",\"Pierce\"],[\"SR-512 W\\u002fO SR-7 WB\\u002fEB\",\"Pierce\"],[\"SR-512 S\\u002fO SR-167 WB\\u002fEB\",\"Pierce\"],[\"SR-509 E\\u002fO I-705 NB\\u002fSB\",\"Pierce\"],[\"SR-509 W\\u002fO Alexander NB\\u002fSB\",\"Pierce\"],[\"SR-509 S\\u002fO 11th NB\\u002fSB\",\"Pierce\"],[\"SR-509 N\\u002fO Hyada NB\\u002fSB\",\"Pierce\"],[\"SR-509 E\\u002fO Soundview NB\\u002fSB\",\"Pierce\"],[\"SR-99 @ I-5 NB\\u002fSB\",\"Pierce\"],[\"SR-99 E\\u002fO 54th NB\\u002fSB\",\"Pierce\"],[\"SR-99 S\\u002fO Porter NB\\u002fSB\",\"Pierce\"],[\"SR-16 @ TNB NB\\u002fSB\",\"Pierce\"],[\"SR-16 @ Purdy Dr NB\\u002fSB\",\"Pierce\"],[\"SR-302 N\\u002fO 144th WB\\u002fEB\",\"Pierce\"],[\"SR-302 S\\u002fO 144th WB\\u002fEB\",\"Pierce\"],[\"SR-302 W\\u002fO Key Peninsula Hwy WB\\u002fEB\",\"Pierce\"],[\"SR-302 W\\u002fO Wright-Bliss WB\\u002fEB (E\\u002fO?)\",\"Pierce\"],[\"SR-161 E\\u002fO SR-7 NB\\u002fSB\",\"Pierce\"],[\"SR-161 N\\u002fO Center NB\\u002fSB\",\"Pierce\"],[\"SR-161 N\\u002fO Eatonville Cutoff NB\\u002fSB\",\"Pierce\"],[\"SR-161 N\\u002fO 304th NB\\u002fSB\",\"Pierce\"],[\"SR-161 N\\u002fO 264th NB\\u002fSB\",\"Pierce\"],[\"SR-161 S\\u002fO 224th NB\\u002fSB\",\"Pierce\"],[\"SR-161 N\\u002fO 224th NB\\u002fSB\",\"Pierce\"],[\"SR-161 N\\u002fO 204th NB\\u002fSB\",\"Pierce\"],[\"SR-161 S\\u002fO SR-167 SB off-ramp NB\\u002fSB\",\"Pierce\"],[\"SR-161 S\\u002fO Valley NB\\u002fSB\",\"Pierce\"],[\"SR-161 N\\u002fO Valley NB\\u002fSB\",\"Pierce\"],[\"SR-161 N\\u002fO 8th NB\\u002fSB\",\"Pierce\"],[\"SR-7 @ Thurston County NB\\u002fSB\",\"Pierce\"],[\"SR-7 W\\u002fO Alder Cutoff NB\\u002fSB\",\"Pierce\"],[\"SR-7 N\\u002fO Eatonville Hwy NB\\u002fSB\",\"Pierce\"],[\"SR-7 N\\u002fO Silver Lake NB\\u002fSB\",\"Pierce\"],[\"SR-7 S\\u002fO SR-702 NB\\u002fSB\",\"Pierce\"],[\"SR-7 N\\u002fO 304th NB\\u002fSB\",\"Pierce\"],[\"SR-7 N\\u002fO 260th NB\\u002fSB\",\"Pierce\"],[\"SR-7 S\\u002fO 224th NB\\u002fSB\",\"Pierce\"],[\"SR-7 N\\u002fO 224th NB\\u002fSB\",\"Pierce\"],[\"SR-7 N\\u002fO 38th NB\\u002fSB\",\"Pierce\"],[\"SR-162 @ SR-410 WB\\u002fEB\",\"Pierce\"],[\"SR-162 S\\u002fO Pioneer WB\\u002fEB\",\"Pierce\"],[\"SR-162 E\\u002fO Orville WB\\u002fEB\",\"Pierce\"],[\"SR-162 E\\u002fO S Prairie WB\\u002fEB\",\"Pierce\"],[\"SR-162 N\\u002fO SR-165 WB\\u002fEB\",\"Pierce\"],[\"SR-163 @ SR-16 NB\\u002fSB\",\"Pierce\"],[\"SR-163 N\\u002fO 37th NB\\u002fSB\",\"Pierce\"],[\"SR-163 N\\u002fO Park NB\\u002fSB\",\"Pierce\"],[\"SR-507 S\\u002fO SR-7 NB\\u002fSB\",\"Pierce\"],[\"SR-507 S\\u002fO E Gate NB\\u002fSB\",\"Pierce\"],[\"SR-507 S\\u002fO 288th NB\\u002fSB\",\"Pierce\"],[\"SR-507 N\\u002fO 346th NB\\u002fSB\",\"Pierce\"],[\"SR-702 E\\u002fO SR-507 WB\\u002fEB\",\"Pierce\"],[\"SR-702 E\\u002fO Harts Lake WB\\u002fEB\",\"Pierce\"],[\"SR-702 E\\u002fO 40th WB\\u002fEB\",\"Pierce\"],[\"SR-702 W\\u002fO 8th WB\\u002fEB\",\"Pierce\"],[\"SR-702 E\\u002fO 8th WB\\u002fEB\",\"Pierce\"],[\"SR-165 W\\u002fO SR-162 NB\\u002fSB\",\"Pierce\"],[\"SR-165 N\\u002fO Davis NB\\u002fSB\",\"Pierce\"],[\"SR-165 N\\u002fO Wilkeson-Carbonado NB\\u002fSB\",\"Pierce\"],[\"SR-704 E\\u002fO Spanaway Loop WB\\u002fEB\",\"Pierce\"],[\"SR-706 E\\u002fO SR-7 WB\\u002fEB\",\"Pierce\"],[\"SR-706 E\\u002fO Kernahan WB\\u002fEB\",\"Pierce\"]],\"hovertemplate\":\"Observed=%{x}\\u003cbr\\u003eModel=%{y}\\u003cbr\\u003elocation=%{customdata[0]}\\u003cbr\\u003eCounty=%{customdata[1]}\\u003cextra\\u003e\\u003c\\u002fextra\\u003e\",\"legendgroup\":\"\",\"marker\":{\"color\":\"#91268F\",\"symbol\":\"circle\"},\"mode\":\"markers\",\"name\":\"\",\"orientation\":\"v\",\"showlegend\":false,\"x\":[2398,2384,2500,2589,2331,2275,2608,2499,4754,4821,5641,5686,1764,3843,2614,3294,2040,2040,5571,2749,1262,74,48,29,2835,3326,4048,1036,2310,171,59,62,1276,1600,1150,3133,2138,426,871,227,157,24,456,313,594,598,504,864,1216,1000,1850,720,800,241,106,193,228,363,690,897,1350,858,378,640,924,618,354,547,420,276,161,1264,462,533,611,524,396,389,382,322,390,211,120,720,150,75],\"xaxis\":\"x\",\"y\":[0,0,717,741,710,732,1039,1009,1986,2379,3333,3525,1855,5933,6358,6403,2279,2255,6937,3114,1146,0,0,0,3291,3343,5149,1677,1550,94,29,29,1296,1270,1328,6861,4138,324,331,140,42,4,28,190,353,350,530,587,1043,1333,1993,595,1398,0,16,23,30,28,243,292,329,414,193,523,734,246,130,240,980,369,201,252,158,46,48,10,10,107,107,54,159,81,37,764,0,0],\"yaxis\":\"y\",\"type\":\"scatter\",\"line\":{\"color\":\"Grey\",\"width\":2}},{\"hovertemplate\":\"Observed=%{x}\\u003cbr\\u003eModel=%{y}\\u003cextra\\u003e\\u003c\\u002fextra\\u003e\",\"legendgroup\":\"\",\"line\":{\"color\":\"Grey\",\"dash\":\"solid\",\"width\":2},\"marker\":{\"symbol\":\"circle\"},\"mode\":\"lines\",\"name\":\"\",\"orientation\":\"v\",\"showlegend\":false,\"x\":[0.0,57.43434343434343,114.86868686868686,172.3030303030303,229.73737373737373,287.17171717171715,344.6060606060606,402.04040404040404,459.47474747474746,516.9090909090909,574.3434343434343,631.7777777777777,689.2121212121212,746.6464646464647,804.0808080808081,861.5151515151515,918.9494949494949,976.3838383838383,1033.8181818181818,1091.2525252525252,1148.6868686868686,1206.121212121212,1263.5555555555554,1320.9898989898988,1378.4242424242425,1435.858585858586,1493.2929292929293,1550.7272727272727,1608.1616161616162,1665.5959595959596,1723.030303030303,1780.4646464646464,1837.8989898989898,1895.3333333333333,1952.7676767676767,2010.20202020202,2067.6363636363635,2125.070707070707,2182.5050505050503,2239.939393939394,2297.373737373737,2354.808080808081,2412.242424242424,2469.6767676767677,2527.111111111111,2584.5454545454545,2641.9797979797977,2699.4141414141413,2756.848484848485,2814.282828282828,2871.717171717172,2929.151515151515,2986.5858585858587,3044.020202020202,3101.4545454545455,3158.8888888888887,3216.3232323232323,3273.7575757575755,3331.191919191919,3388.6262626262624,3446.060606060606,3503.494949494949,3560.929292929293,3618.363636363636,3675.7979797979797,3733.2323232323233,3790.6666666666665,3848.10101010101,3905.5353535353534,3962.969696969697,4020.40404040404,4077.838383838384,4135.272727272727,4192.707070707071,4250.141414141414,4307.575757575757,4365.010101010101,4422.444444444444,4479.878787878788,4537.313131313131,4594.747474747474,4652.181818181818,4709.616161616162,4767.050505050505,4824.484848484848,4881.919191919192,4939.353535353535,4996.787878787879,5054.222222222222,5111.656565656565,5169.090909090909,5226.525252525253,5283.959595959595,5341.393939393939,5398.828282828283,5456.262626262626,5513.69696969697,5571.131313131313,5628.565656565656,5686.0],\"xaxis\":\"x\",\"y\":[-98.04290135167935,-44.774495789844906,8.493909771989536,61.762315333824006,115.03072089565842,168.29912645749283,221.56753201932736,274.8359375811618,328.1043431429962,381.37274870483066,434.641154266665,487.9095598284995,541.1779653903341,594.4463709521684,647.7147765140029,700.9831820758374,754.2515876376717,807.5199931995062,860.7883987613407,914.056804323175,967.3252098850094,1020.5936154468438,1073.8620210086783,1127.1304265705128,1180.3988321323475,1233.667237694182,1286.9356432560162,1340.2040488178507,1393.4724543796851,1446.7408599415196,1500.009265503354,1553.2776710651885,1606.5460766270228,1659.8144821888573,1713.0828877506917,1766.3512933125262,1819.6196988743607,1872.8881044361951,1926.1565099980294,1979.4249155598643,2032.693321121698,2085.961726683533,2139.230132245367,2192.4985378072015,2245.766943369036,2299.035348930871,2352.3037544927047,2405.5721600545394,2458.840565616374,2512.108971178209,2565.3773767400435,2618.6457823018773,2671.914187863712,2725.1825934255457,2778.4509989873804,2831.719404549215,2884.98781011105,2938.2562156728836,2991.5246212347183,3044.793026796553,3098.0614323583877,3151.3298379202215,3204.598243482056,3257.86664904389,3311.1350546057247,3364.4034601675594,3417.671865729394,3470.940271291229,3524.2086768530626,3577.4770824148973,3630.745487976732,3684.0138935385667,3737.2822991004005,3790.550704662235,3843.81911022407,3897.0875157859036,3950.3559213477383,4003.624326909573,4056.8927324714077,4110.1611380332415,4163.429543595075,4216.69794915691,4269.966354718745,4323.234760280579,4376.503165842413,4429.771571404248,4483.039976966083,4536.308382527917,4589.576788089751,4642.845193651586,4696.1135992134205,4749.382004775255,4802.650410337089,4855.918815898924,4909.187221460758,4962.455627022593,5015.724032584428,5068.9924381462615,5122.260843708096,5175.529249269931],\"yaxis\":\"y\",\"type\":\"scatter\"}],                        {\"template\":{\"data\":{\"barpolar\":[{\"marker\":{\"line\":{\"color\":\"white\",\"width\":0.5},\"pattern\":{\"fillmode\":\"overlay\",\"size\":10,\"solidity\":0.2}},\"type\":\"barpolar\"}],\"bar\":[{\"error_x\":{\"color\":\"rgb(36,36,36)\"},\"error_y\":{\"color\":\"rgb(36,36,36)\"},\"marker\":{\"line\":{\"color\":\"white\",\"width\":0.5},\"pattern\":{\"fillmode\":\"overlay\",\"size\":10,\"solidity\":0.2}},\"type\":\"bar\"}],\"carpet\":[{\"aaxis\":{\"endlinecolor\":\"rgb(36,36,36)\",\"gridcolor\":\"white\",\"linecolor\":\"white\",\"minorgridcolor\":\"white\",\"startlinecolor\":\"rgb(36,36,36)\"},\"baxis\":{\"endlinecolor\":\"rgb(36,36,36)\",\"gridcolor\":\"white\",\"linecolor\":\"white\",\"minorgridcolor\":\"white\",\"startlinecolor\":\"rgb(36,36,36)\"},\"type\":\"carpet\"}],\"choropleth\":[{\"colorbar\":{\"outlinewidth\":1,\"tickcolor\":\"rgb(36,36,36)\",\"ticks\":\"outside\"},\"type\":\"choropleth\"}],\"contourcarpet\":[{\"colorbar\":{\"outlinewidth\":1,\"tickcolor\":\"rgb(36,36,36)\",\"ticks\":\"outside\"},\"type\":\"contourcarpet\"}],\"contour\":[{\"colorbar\":{\"outlinewidth\":1,\"tickcolor\":\"rgb(36,36,36)\",\"ticks\":\"outside\"},\"colorscale\":[[0.0,\"#440154\"],[0.1111111111111111,\"#482878\"],[0.2222222222222222,\"#3e4989\"],[0.3333333333333333,\"#31688e\"],[0.4444444444444444,\"#26828e\"],[0.5555555555555556,\"#1f9e89\"],[0.6666666666666666,\"#35b779\"],[0.7777777777777778,\"#6ece58\"],[0.8888888888888888,\"#b5de2b\"],[1.0,\"#fde725\"]],\"type\":\"contour\"}],\"heatmapgl\":[{\"colorbar\":{\"outlinewidth\":1,\"tickcolor\":\"rgb(36,36,36)\",\"ticks\":\"outside\"},\"colorscale\":[[0.0,\"#440154\"],[0.1111111111111111,\"#482878\"],[0.2222222222222222,\"#3e4989\"],[0.3333333333333333,\"#31688e\"],[0.4444444444444444,\"#26828e\"],[0.5555555555555556,\"#1f9e89\"],[0.6666666666666666,\"#35b779\"],[0.7777777777777778,\"#6ece58\"],[0.8888888888888888,\"#b5de2b\"],[1.0,\"#fde725\"]],\"type\":\"heatmapgl\"}],\"heatmap\":[{\"colorbar\":{\"outlinewidth\":1,\"tickcolor\":\"rgb(36,36,36)\",\"ticks\":\"outside\"},\"colorscale\":[[0.0,\"#440154\"],[0.1111111111111111,\"#482878\"],[0.2222222222222222,\"#3e4989\"],[0.3333333333333333,\"#31688e\"],[0.4444444444444444,\"#26828e\"],[0.5555555555555556,\"#1f9e89\"],[0.6666666666666666,\"#35b779\"],[0.7777777777777778,\"#6ece58\"],[0.8888888888888888,\"#b5de2b\"],[1.0,\"#fde725\"]],\"type\":\"heatmap\"}],\"histogram2dcontour\":[{\"colorbar\":{\"outlinewidth\":1,\"tickcolor\":\"rgb(36,36,36)\",\"ticks\":\"outside\"},\"colorscale\":[[0.0,\"#440154\"],[0.1111111111111111,\"#482878\"],[0.2222222222222222,\"#3e4989\"],[0.3333333333333333,\"#31688e\"],[0.4444444444444444,\"#26828e\"],[0.5555555555555556,\"#1f9e89\"],[0.6666666666666666,\"#35b779\"],[0.7777777777777778,\"#6ece58\"],[0.8888888888888888,\"#b5de2b\"],[1.0,\"#fde725\"]],\"type\":\"histogram2dcontour\"}],\"histogram2d\":[{\"colorbar\":{\"outlinewidth\":1,\"tickcolor\":\"rgb(36,36,36)\",\"ticks\":\"outside\"},\"colorscale\":[[0.0,\"#440154\"],[0.1111111111111111,\"#482878\"],[0.2222222222222222,\"#3e4989\"],[0.3333333333333333,\"#31688e\"],[0.4444444444444444,\"#26828e\"],[0.5555555555555556,\"#1f9e89\"],[0.6666666666666666,\"#35b779\"],[0.7777777777777778,\"#6ece58\"],[0.8888888888888888,\"#b5de2b\"],[1.0,\"#fde725\"]],\"type\":\"histogram2d\"}],\"histogram\":[{\"marker\":{\"line\":{\"color\":\"white\",\"width\":0.6}},\"type\":\"histogram\"}],\"mesh3d\":[{\"colorbar\":{\"outlinewidth\":1,\"tickcolor\":\"rgb(36,36,36)\",\"ticks\":\"outside\"},\"type\":\"mesh3d\"}],\"parcoords\":[{\"line\":{\"colorbar\":{\"outlinewidth\":1,\"tickcolor\":\"rgb(36,36,36)\",\"ticks\":\"outside\"}},\"type\":\"parcoords\"}],\"pie\":[{\"automargin\":true,\"type\":\"pie\"}],\"scatter3d\":[{\"line\":{\"colorbar\":{\"outlinewidth\":1,\"tickcolor\":\"rgb(36,36,36)\",\"ticks\":\"outside\"}},\"marker\":{\"colorbar\":{\"outlinewidth\":1,\"tickcolor\":\"rgb(36,36,36)\",\"ticks\":\"outside\"}},\"type\":\"scatter3d\"}],\"scattercarpet\":[{\"marker\":{\"colorbar\":{\"outlinewidth\":1,\"tickcolor\":\"rgb(36,36,36)\",\"ticks\":\"outside\"}},\"type\":\"scattercarpet\"}],\"scattergeo\":[{\"marker\":{\"colorbar\":{\"outlinewidth\":1,\"tickcolor\":\"rgb(36,36,36)\",\"ticks\":\"outside\"}},\"type\":\"scattergeo\"}],\"scattergl\":[{\"marker\":{\"colorbar\":{\"outlinewidth\":1,\"tickcolor\":\"rgb(36,36,36)\",\"ticks\":\"outside\"}},\"type\":\"scattergl\"}],\"scattermapbox\":[{\"marker\":{\"colorbar\":{\"outlinewidth\":1,\"tickcolor\":\"rgb(36,36,36)\",\"ticks\":\"outside\"}},\"type\":\"scattermapbox\"}],\"scatterpolargl\":[{\"marker\":{\"colorbar\":{\"outlinewidth\":1,\"tickcolor\":\"rgb(36,36,36)\",\"ticks\":\"outside\"}},\"type\":\"scatterpolargl\"}],\"scatterpolar\":[{\"marker\":{\"colorbar\":{\"outlinewidth\":1,\"tickcolor\":\"rgb(36,36,36)\",\"ticks\":\"outside\"}},\"type\":\"scatterpolar\"}],\"scatter\":[{\"fillpattern\":{\"fillmode\":\"overlay\",\"size\":10,\"solidity\":0.2},\"type\":\"scatter\"}],\"scatterternary\":[{\"marker\":{\"colorbar\":{\"outlinewidth\":1,\"tickcolor\":\"rgb(36,36,36)\",\"ticks\":\"outside\"}},\"type\":\"scatterternary\"}],\"surface\":[{\"colorbar\":{\"outlinewidth\":1,\"tickcolor\":\"rgb(36,36,36)\",\"ticks\":\"outside\"},\"colorscale\":[[0.0,\"#440154\"],[0.1111111111111111,\"#482878\"],[0.2222222222222222,\"#3e4989\"],[0.3333333333333333,\"#31688e\"],[0.4444444444444444,\"#26828e\"],[0.5555555555555556,\"#1f9e89\"],[0.6666666666666666,\"#35b779\"],[0.7777777777777778,\"#6ece58\"],[0.8888888888888888,\"#b5de2b\"],[1.0,\"#fde725\"]],\"type\":\"surface\"}],\"table\":[{\"cells\":{\"fill\":{\"color\":\"rgb(237,237,237)\"},\"line\":{\"color\":\"white\"}},\"header\":{\"fill\":{\"color\":\"rgb(217,217,217)\"},\"line\":{\"color\":\"white\"}},\"type\":\"table\"}]},\"layout\":{\"annotationdefaults\":{\"arrowhead\":0,\"arrowwidth\":1},\"autotypenumbers\":\"strict\",\"coloraxis\":{\"colorbar\":{\"outlinewidth\":1,\"tickcolor\":\"rgb(36,36,36)\",\"ticks\":\"outside\"}},\"colorscale\":{\"diverging\":[[0.0,\"rgb(103,0,31)\"],[0.1,\"rgb(178,24,43)\"],[0.2,\"rgb(214,96,77)\"],[0.3,\"rgb(244,165,130)\"],[0.4,\"rgb(253,219,199)\"],[0.5,\"rgb(247,247,247)\"],[0.6,\"rgb(209,229,240)\"],[0.7,\"rgb(146,197,222)\"],[0.8,\"rgb(67,147,195)\"],[0.9,\"rgb(33,102,172)\"],[1.0,\"rgb(5,48,97)\"]],\"sequential\":[[0.0,\"#440154\"],[0.1111111111111111,\"#482878\"],[0.2222222222222222,\"#3e4989\"],[0.3333333333333333,\"#31688e\"],[0.4444444444444444,\"#26828e\"],[0.5555555555555556,\"#1f9e89\"],[0.6666666666666666,\"#35b779\"],[0.7777777777777778,\"#6ece58\"],[0.8888888888888888,\"#b5de2b\"],[1.0,\"#fde725\"]],\"sequentialminus\":[[0.0,\"#440154\"],[0.1111111111111111,\"#482878\"],[0.2222222222222222,\"#3e4989\"],[0.3333333333333333,\"#31688e\"],[0.4444444444444444,\"#26828e\"],[0.5555555555555556,\"#1f9e89\"],[0.6666666666666666,\"#35b779\"],[0.7777777777777778,\"#6ece58\"],[0.8888888888888888,\"#b5de2b\"],[1.0,\"#fde725\"]]},\"colorway\":[\"#91268F\",\"#8CC63E\",\"#00A7A0\",\"#F05A28\",\"#4C4C4C\",\"#630460\",\"#9f3913\",\"#588527\",\"#00716c\",\"#3e4040\"],\"font\":{\"color\":\"rgb(36,36,36)\",\"family\":\"Poppins\",\"size\":11},\"geo\":{\"bgcolor\":\"white\",\"lakecolor\":\"white\",\"landcolor\":\"white\",\"showlakes\":true,\"showland\":true,\"subunitcolor\":\"white\"},\"hoverlabel\":{\"align\":\"left\"},\"hovermode\":\"closest\",\"mapbox\":{\"style\":\"light\"},\"paper_bgcolor\":\"white\",\"plot_bgcolor\":\"white\",\"polar\":{\"angularaxis\":{\"gridcolor\":\"rgb(232,232,232)\",\"linecolor\":\"rgb(36,36,36)\",\"showgrid\":false,\"showline\":true,\"ticks\":\"outside\"},\"bgcolor\":\"white\",\"radialaxis\":{\"gridcolor\":\"rgb(232,232,232)\",\"linecolor\":\"rgb(36,36,36)\",\"showgrid\":false,\"showline\":true,\"ticks\":\"outside\"}},\"scene\":{\"xaxis\":{\"backgroundcolor\":\"white\",\"gridcolor\":\"rgb(232,232,232)\",\"gridwidth\":2,\"linecolor\":\"rgb(36,36,36)\",\"showbackground\":true,\"showgrid\":false,\"showline\":true,\"ticks\":\"outside\",\"zeroline\":false,\"zerolinecolor\":\"rgb(36,36,36)\"},\"yaxis\":{\"backgroundcolor\":\"white\",\"gridcolor\":\"rgb(232,232,232)\",\"gridwidth\":2,\"linecolor\":\"rgb(36,36,36)\",\"showbackground\":true,\"showgrid\":false,\"showline\":true,\"ticks\":\"outside\",\"zeroline\":false,\"zerolinecolor\":\"rgb(36,36,36)\"},\"zaxis\":{\"backgroundcolor\":\"white\",\"gridcolor\":\"rgb(232,232,232)\",\"gridwidth\":2,\"linecolor\":\"rgb(36,36,36)\",\"showbackground\":true,\"showgrid\":false,\"showline\":true,\"ticks\":\"outside\",\"zeroline\":false,\"zerolinecolor\":\"rgb(36,36,36)\"}},\"shapedefaults\":{\"fillcolor\":\"black\",\"line\":{\"width\":0},\"opacity\":0.3},\"ternary\":{\"aaxis\":{\"gridcolor\":\"rgb(232,232,232)\",\"linecolor\":\"rgb(36,36,36)\",\"showgrid\":false,\"showline\":true,\"ticks\":\"outside\"},\"baxis\":{\"gridcolor\":\"rgb(232,232,232)\",\"linecolor\":\"rgb(36,36,36)\",\"showgrid\":false,\"showline\":true,\"ticks\":\"outside\"},\"bgcolor\":\"white\",\"caxis\":{\"gridcolor\":\"rgb(232,232,232)\",\"linecolor\":\"rgb(36,36,36)\",\"showgrid\":false,\"showline\":true,\"ticks\":\"outside\"}},\"title\":{\"x\":0.05},\"xaxis\":{\"automargin\":true,\"gridcolor\":\"rgb(232,232,232)\",\"linecolor\":\"rgb(36,36,36)\",\"showgrid\":false,\"showline\":true,\"ticks\":\"outside\",\"title\":{\"standoff\":15},\"zeroline\":false,\"zerolinecolor\":\"rgb(36,36,36)\"},\"yaxis\":{\"automargin\":true,\"gridcolor\":\"rgb(232,232,232)\",\"linecolor\":\"rgb(36,36,36)\",\"showgrid\":false,\"showline\":true,\"ticks\":\"outside\",\"title\":{\"standoff\":15},\"zeroline\":false,\"zerolinecolor\":\"rgb(36,36,36)\"}}},\"xaxis\":{\"anchor\":\"y\",\"domain\":[0.0,1.0],\"title\":{\"text\":\"Observed\"}},\"yaxis\":{\"anchor\":\"x\",\"domain\":[0.0,1.0],\"title\":{\"text\":\"Model\"}},\"legend\":{\"tracegroupgap\":0},\"title\":{\"text\":\"Medium Trucks: Pierce\"},\"margin\":{\"l\":100,\"r\":100,\"t\":100,\"b\":100},\"height\":600,\"width\":800,\"shapes\":[{\"line\":{\"color\":\"Red\",\"dash\":\"dash\",\"width\":2},\"type\":\"line\",\"x0\":0,\"x1\":6937,\"y0\":0,\"y1\":6937}],\"annotations\":[{\"align\":\"right\",\"font\":{\"color\":\"pink\",\"size\":12},\"showarrow\":false,\"text\":\"y = x\",\"x\":7283.85,\"y\":7283.85},{\"align\":\"right\",\"font\":{\"color\":\"black\",\"size\":12},\"showarrow\":false,\"text\":\"r^2 = 0.58\",\"x\":5970.3,\"y\":5434.305711733427}]},                        {\"responsive\": true}                    ).then(function(){\n",
       "                            \n",
       "var gd = document.getElementById('29a1b24a-acea-4ab5-83aa-a4ed17142448');\n",
       "var x = new MutationObserver(function (mutations, observer) {{\n",
       "        var display = window.getComputedStyle(gd).display;\n",
       "        if (!display || display === 'none') {{\n",
       "            console.log([gd, 'removed!']);\n",
       "            Plotly.purge(gd);\n",
       "            observer.disconnect();\n",
       "        }}\n",
       "}});\n",
       "\n",
       "// Listen for the removal of the full notebook cells\n",
       "var notebookContainer = gd.closest('#notebook-container');\n",
       "if (notebookContainer) {{\n",
       "    x.observe(notebookContainer, {childList: true});\n",
       "}}\n",
       "\n",
       "// Listen for the clearing of the current output cell\n",
       "var outputEl = gd.closest('.output');\n",
       "if (outputEl) {{\n",
       "    x.observe(outputEl, {childList: true});\n",
       "}}\n",
       "\n",
       "                        })                };                });            </script>        </div>"
      ]
     },
     "metadata": {},
     "output_type": "display_data"
    }
   ],
   "source": [
    "fig = create_truck_chart(df_daily_med, 'Medium', 'Pierce')\n",
    "fig.show()"
   ]
  },
  {
   "cell_type": "raw",
   "id": "e54ab844",
   "metadata": {},
   "source": [
    "#### Snohomish"
   ]
  },
  {
   "cell_type": "code",
   "execution_count": 33,
   "id": "b4a630bf",
   "metadata": {},
   "outputs": [
    {
     "data": {
      "application/vnd.plotly.v1+json": {
       "config": {
        "plotlyServerURL": "https://plot.ly"
       },
       "data": [
        {
         "customdata": [
          [
           "I-5 @ 44th NB",
           "Snohomish"
          ],
          [
           "I-5 @ 44th SB",
           "Snohomish"
          ],
          [
           "I-5 N/O 164th NB",
           "Snohomish"
          ],
          [
           "I-5 N/O 164th SB",
           "Snohomish"
          ],
          [
           "I-5 N/O SR-526 NB",
           "Snohomish"
          ],
          [
           "I-5 N/O SR-526 SB",
           "Snohomish"
          ],
          [
           "I-5 N/O 41st NB",
           "Snohomish"
          ],
          [
           "I-5 N/O 41st SB",
           "Snohomish"
          ],
          [
           "I-5 @ SR-528 NB",
           "Snohomish"
          ],
          [
           "I-5 @ SR-528 SB",
           "Snohomish"
          ],
          [
           "I-5 N/O SR-531 NB",
           "Snohomish"
          ],
          [
           "I-5 N/O SR-531 SB",
           "Snohomish"
          ],
          [
           "I-405 N/O SR-527 NB",
           "Snohomish"
          ],
          [
           "I-405 N/O SR-527 SB",
           "Snohomish"
          ],
          [
           "SR-525 N/O I-5 NB",
           "Snohomish"
          ],
          [
           "SR-525 N/O I-5 SB",
           "Snohomish"
          ],
          [
           "I-5 @ SR-532 NB/SB",
           "Snohomish"
          ],
          [
           "I-5 @ Skagit border NB/SB",
           "Snohomish"
          ],
          [
           "SR-525 N/O SR-526 NB/SB",
           "Snohomish"
          ],
          [
           "SR-525 N/O 5th NB/SB",
           "Snohomish"
          ],
          [
           "SR-99 E/O Evergreen NB/SB",
           "Snohomish"
          ],
          [
           "SR-526 W/O Paine Field Blvd WB/EB",
           "Snohomish"
          ],
          [
           "SR-526 E/O Paine Field Blvd WB/EB",
           "Snohomish"
          ],
          [
           "SR-9 @ SR-522 NB/SB",
           "Snohomish"
          ],
          [
           "SR-9 N/O SR-2 NB/SB",
           "Snohomish"
          ],
          [
           "SR-9 N/O SR-204 NB/SB",
           "Snohomish"
          ],
          [
           "SR-9 N/O SR-92 NB/SB",
           "Snohomish"
          ],
          [
           "SR-9 N/O 132nd NB/SB",
           "Snohomish"
          ],
          [
           "SR-9 N/O SR-531 NB/SB",
           "Snohomish"
          ],
          [
           "SR-9 S/O 67th NB/SB",
           "Snohomish"
          ],
          [
           "SR-9 N/O Kackman NB/SB",
           "Snohomish"
          ],
          [
           "SR-9 N/O Stanwood-Bryant NB/SB",
           "Snohomish"
          ],
          [
           "SR-532 @ Island County WB/EB",
           "Snohomish"
          ],
          [
           "SR-532 W/O 28th WB/EB",
           "Snohomish"
          ],
          [
           "SR-104 @ Ferry Loading Edm WB/EB",
           "Snohomish"
          ],
          [
           "SR-104 N/O Pine WB/EB",
           "Snohomish"
          ],
          [
           "SR-104 E/O 5th WB/EB",
           "Snohomish"
          ],
          [
           "SR-524 W/O 3rd WB/EB",
           "Snohomish"
          ],
          [
           "SR-524 S/O Main WB/EB",
           "Snohomish"
          ],
          [
           "SR-524 N/O Main WB/EB",
           "Snohomish"
          ],
          [
           "SR-524 E/O 68th WB/EB",
           "Snohomish"
          ],
          [
           "SR-524 E/O 39th WB/EB",
           "Snohomish"
          ],
          [
           "SR-524 N/O Paradise Lake WB/EB",
           "Snohomish"
          ],
          [
           "SR-2 E/O I-5 WB/EB",
           "Snohomish"
          ],
          [
           "SR-2 S/O SR-204 WB/EB",
           "Snohomish"
          ],
          [
           "SR-2 E/O Main WB/EB",
           "Snohomish"
          ],
          [
           "SR-2 E/O Rice WB/EB",
           "Snohomish"
          ],
          [
           "SR-2 E/O 10th (Gold Bar) WB/EB",
           "Snohomish"
          ],
          [
           "SR-2 W/O Index-Galena WB/EB",
           "Snohomish"
          ],
          [
           "SR-2 E/O Index-Galena WB/EB",
           "Snohomish"
          ],
          [
           "SR-527 N/O I-405 NB/SB",
           "Snohomish"
          ],
          [
           "SR-527 N/O 196th NB/SB",
           "Snohomish"
          ],
          [
           "SR-527 N/O Dumas NB/SB",
           "Snohomish"
          ],
          [
           "SR-527 N/O 100th NB/SB",
           "Snohomish"
          ],
          [
           "SR-529 @ I-5 (Evt) NB/SB",
           "Snohomish"
          ],
          [
           "SR-529 S/O Everett NB/SB",
           "Snohomish"
          ],
          [
           "SR-529 W/O Maple NB/SB",
           "Snohomish"
          ],
          [
           "SR-529 N/O Everett NB/SB",
           "Snohomish"
          ],
          [
           "SR-529 N/O Broadway NB/SB",
           "Snohomish"
          ],
          [
           "SR-96 @ I-5 WB/EB",
           "Snohomish"
          ],
          [
           "SR-96 N/O 132nd WB/EB",
           "Snohomish"
          ],
          [
           "SR-96 E/O Seattle Hill WB/EB",
           "Snohomish"
          ],
          [
           "SR-528 @ I-5 WB/EB",
           "Snohomish"
          ],
          [
           "SR-528 E/O SR-529 WB/EB",
           "Snohomish"
          ],
          [
           "SR-531 N/O Rose WB/EB",
           "Snohomish"
          ],
          [
           "SR-531 E/O Lk Goodwin WB/EB",
           "Snohomish"
          ],
          [
           "SR-531 E/O 27th WB/EB",
           "Snohomish"
          ],
          [
           "SR-531 E/O I-5 WB/EB",
           "Snohomish"
          ],
          [
           "SR-531 E/O 43rd WB/EB",
           "Snohomish"
          ],
          [
           "SR-531 W/O 67th WB/EB",
           "Snohomish"
          ],
          [
           "SR-531 E/O 67th WB/EB",
           "Snohomish"
          ],
          [
           "SR-530 @ I-5 WB/EB",
           "Snohomish"
          ],
          [
           "SR-530 E/O Smokey Pt WB/EB",
           "Snohomish"
          ],
          [
           "SR-530 N/O 211th WB/EB",
           "Snohomish"
          ],
          [
           "SR-530 E/O SR-9 WB/EB",
           "Snohomish"
          ],
          [
           "SR-530 W/O Arlington Hts WB/EB",
           "Snohomish"
          ],
          [
           "SR-530 E/O Arlington Hts WB/EB",
           "Snohomish"
          ],
          [
           "SR-530 W/O Jim Creek WB/EB",
           "Snohomish"
          ],
          [
           "SR-530 W/O Ramstad WB/EB",
           "Snohomish"
          ],
          [
           "SR-530 @ Skagit County WB/EB",
           "Snohomish"
          ],
          [
           "SR-203 N/O 203rd NB/SB",
           "Snohomish"
          ],
          [
           "SR-204 @ SR-2 NB/SB",
           "Snohomish"
          ],
          [
           "SR-204 N/O 20th NB/SB",
           "Snohomish"
          ],
          [
           "SR-204 N/O SR-2 NB/SB",
           "Snohomish"
          ],
          [
           "SR-92 E/O Lake WB/EB",
           "Snohomish"
          ],
          [
           "SR-92 E/O Callow WB/EB",
           "Snohomish"
          ],
          [
           "SR-92 E/O Quarry WB/EB",
           "Snohomish"
          ],
          [
           "SR-92 W/O Mountain Loop WB/EB",
           "Snohomish"
          ]
         ],
         "hovertemplate": "Observed=%{x}<br>Model=%{y}<br>location=%{customdata[0]}<br>County=%{customdata[1]}<extra></extra>",
         "legendgroup": "",
         "line": {
          "color": "Grey",
          "width": 2
         },
         "marker": {
          "color": "#91268F",
          "symbol": "circle"
         },
         "mode": "markers",
         "name": "",
         "orientation": "v",
         "showlegend": false,
         "type": "scatter",
         "x": [
          2586,
          2604,
          2869,
          2888,
          2689,
          2832,
          2293,
          2656,
          2191,
          2251,
          1728,
          1737,
          1539,
          1620,
          1248,
          851,
          2444,
          2481,
          710,
          364,
          475,
          396,
          915,
          1853,
          1311,
          1387,
          1987,
          829,
          484,
          658,
          443,
          135,
          1056,
          739,
          294,
          220,
          360,
          68,
          160,
          167,
          494,
          330,
          1157,
          2430,
          1634,
          858,
          735,
          516,
          346,
          242,
          1484,
          837,
          704,
          858,
          333,
          271,
          364,
          238,
          1122,
          1408,
          392,
          220,
          728,
          616,
          75,
          432,
          693,
          1230,
          1632,
          969,
          560,
          690,
          882,
          784,
          420,
          520,
          461,
          410,
          276,
          167,
          636,
          259,
          371,
          960,
          1349,
          994,
          320,
          324
         ],
         "xaxis": "x",
         "y": [
          5690,
          5707,
          5140,
          4826,
          4455,
          4479,
          4351,
          4199,
          1914,
          1938,
          645,
          615,
          4675,
          4533,
          3093,
          2871,
          120,
          0,
          347,
          33,
          141,
          194,
          1764,
          1329,
          1343,
          1814,
          2145,
          693,
          536,
          183,
          46,
          63,
          0,
          596,
          293,
          170,
          284,
          293,
          68,
          315,
          668,
          452,
          609,
          3183,
          1687,
          755,
          308,
          111,
          111,
          80,
          3059,
          942,
          402,
          1050,
          465,
          420,
          355,
          131,
          617,
          1532,
          416,
          53,
          1121,
          595,
          42,
          153,
          604,
          1459,
          934,
          241,
          365,
          327,
          605,
          406,
          386,
          396,
          331,
          281,
          232,
          0,
          444,
          166,
          299,
          1370,
          792,
          572,
          195,
          158
         ],
         "yaxis": "y"
        },
        {
         "hovertemplate": "Observed=%{x}<br>Model=%{y}<extra></extra>",
         "legendgroup": "",
         "line": {
          "color": "Grey",
          "dash": "solid",
          "width": 2
         },
         "marker": {
          "symbol": "circle"
         },
         "mode": "lines",
         "name": "",
         "orientation": "v",
         "showlegend": false,
         "type": "scatter",
         "x": [
          0,
          29.171717171717173,
          58.343434343434346,
          87.51515151515152,
          116.68686868686869,
          145.85858585858585,
          175.03030303030303,
          204.2020202020202,
          233.37373737373738,
          262.54545454545456,
          291.7171717171717,
          320.8888888888889,
          350.06060606060606,
          379.23232323232327,
          408.4040404040404,
          437.5757575757576,
          466.74747474747477,
          495.9191919191919,
          525.0909090909091,
          554.2626262626263,
          583.4343434343434,
          612.6060606060606,
          641.7777777777778,
          670.949494949495,
          700.1212121212121,
          729.2929292929293,
          758.4646464646465,
          787.6363636363636,
          816.8080808080808,
          845.979797979798,
          875.1515151515152,
          904.3232323232323,
          933.4949494949495,
          962.6666666666667,
          991.8383838383838,
          1021.010101010101,
          1050.1818181818182,
          1079.3535353535353,
          1108.5252525252527,
          1137.6969696969697,
          1166.8686868686868,
          1196.0404040404042,
          1225.2121212121212,
          1254.3838383838383,
          1283.5555555555557,
          1312.7272727272727,
          1341.89898989899,
          1371.0707070707072,
          1400.2424242424242,
          1429.4141414141416,
          1458.5858585858587,
          1487.7575757575758,
          1516.929292929293,
          1546.1010101010102,
          1575.2727272727273,
          1604.4444444444446,
          1633.6161616161617,
          1662.7878787878788,
          1691.959595959596,
          1721.1313131313132,
          1750.3030303030305,
          1779.4747474747476,
          1808.6464646464647,
          1837.818181818182,
          1866.989898989899,
          1896.1616161616162,
          1925.3333333333335,
          1954.5050505050506,
          1983.6767676767677,
          2012.848484848485,
          2042.020202020202,
          2071.191919191919,
          2100.3636363636365,
          2129.535353535354,
          2158.7070707070707,
          2187.878787878788,
          2217.0505050505053,
          2246.222222222222,
          2275.3939393939395,
          2304.565656565657,
          2333.7373737373737,
          2362.909090909091,
          2392.0808080808083,
          2421.252525252525,
          2450.4242424242425,
          2479.59595959596,
          2508.7676767676767,
          2537.939393939394,
          2567.1111111111113,
          2596.282828282828,
          2625.4545454545455,
          2654.626262626263,
          2683.79797979798,
          2712.969696969697,
          2742.1414141414143,
          2771.3131313131316,
          2800.4848484848485,
          2829.656565656566,
          2858.828282828283,
          2888
         ],
         "xaxis": "x",
         "y": [
          -334.59882930492677,
          -291.2206729753594,
          -247.842516645792,
          -204.4643603162246,
          -161.08620398665718,
          -117.70804765708979,
          -74.32989132752243,
          -30.951734997954986,
          12.426421331612403,
          55.80457766117979,
          99.18273399074718,
          142.56089032031457,
          185.9390466498819,
          229.31720297944935,
          272.6953593090168,
          316.07351563858424,
          359.4516719681516,
          402.8298282977189,
          446.20798462728635,
          489.5861409568538,
          532.9642972864211,
          576.3424536159885,
          619.7206099455559,
          663.0987662751234,
          706.4769226046906,
          749.855078934258,
          793.2332352638255,
          836.6113915933929,
          879.9895479229604,
          923.3677042525278,
          966.7458605820952,
          1010.1240169116625,
          1053.50217324123,
          1096.8803295707974,
          1140.2584859003646,
          1183.636642229932,
          1227.0147985594995,
          1270.3929548890667,
          1313.7711112186344,
          1357.1492675482016,
          1400.527423877769,
          1443.9055802073365,
          1487.2837365369037,
          1530.6618928664711,
          1574.0400491960386,
          1617.418205525606,
          1660.7963618551735,
          1704.174518184741,
          1747.552674514308,
          1790.9308308438758,
          1834.3089871734428,
          1877.6871435030102,
          1921.0652998325777,
          1964.4434561621451,
          2007.8216124917126,
          2051.19976882128,
          2094.5779251508475,
          2137.9560814804145,
          2181.3342378099824,
          2224.7123941395494,
          2268.0905504691173,
          2311.4687067986843,
          2354.8468631282517,
          2398.225019457819,
          2441.6031757873866,
          2484.9813321169536,
          2528.3594884465215,
          2571.7376447760885,
          2615.115801105656,
          2658.4939574352234,
          2701.872113764791,
          2745.2502700943583,
          2788.6284264239257,
          2832.006582753493,
          2875.38473908306,
          2918.762895412628,
          2962.1410517421955,
          3005.5192080717625,
          3048.89736440133,
          3092.275520730898,
          3135.653677060465,
          3179.0318333900323,
          3222.4099897195997,
          3265.7881460491667,
          3309.166302378734,
          3352.544458708302,
          3395.922615037869,
          3439.3007713674365,
          3482.678927697004,
          3526.057084026571,
          3569.435240356139,
          3612.8133966857063,
          3656.1915530152737,
          3699.5697093448407,
          3742.9478656744086,
          3786.3260220039765,
          3829.7041783335426,
          3873.0823346631105,
          3916.4604909926784,
          3959.8386473222454
         ],
         "yaxis": "y"
        }
       ],
       "layout": {
        "annotations": [
         {
          "align": "right",
          "font": {
           "color": "pink",
           "size": 12
          },
          "showarrow": false,
          "text": "y = x",
          "x": 5992.35,
          "y": 5992.35
         },
         {
          "align": "right",
          "font": {
           "color": "black",
           "size": 12
          },
          "showarrow": false,
          "text": "r^2 = 0.62",
          "x": 3032.4,
          "y": 4157.830579688358
         }
        ],
        "height": 600,
        "legend": {
         "tracegroupgap": 0
        },
        "margin": {
         "b": 100,
         "l": 100,
         "r": 100,
         "t": 100
        },
        "shapes": [
         {
          "line": {
           "color": "Red",
           "dash": "dash",
           "width": 2
          },
          "type": "line",
          "x0": 0,
          "x1": 5707,
          "y0": 0,
          "y1": 5707
         }
        ],
        "template": {
         "data": {
          "bar": [
           {
            "error_x": {
             "color": "rgb(36,36,36)"
            },
            "error_y": {
             "color": "rgb(36,36,36)"
            },
            "marker": {
             "line": {
              "color": "white",
              "width": 0.5
             },
             "pattern": {
              "fillmode": "overlay",
              "size": 10,
              "solidity": 0.2
             }
            },
            "type": "bar"
           }
          ],
          "barpolar": [
           {
            "marker": {
             "line": {
              "color": "white",
              "width": 0.5
             },
             "pattern": {
              "fillmode": "overlay",
              "size": 10,
              "solidity": 0.2
             }
            },
            "type": "barpolar"
           }
          ],
          "carpet": [
           {
            "aaxis": {
             "endlinecolor": "rgb(36,36,36)",
             "gridcolor": "white",
             "linecolor": "white",
             "minorgridcolor": "white",
             "startlinecolor": "rgb(36,36,36)"
            },
            "baxis": {
             "endlinecolor": "rgb(36,36,36)",
             "gridcolor": "white",
             "linecolor": "white",
             "minorgridcolor": "white",
             "startlinecolor": "rgb(36,36,36)"
            },
            "type": "carpet"
           }
          ],
          "choropleth": [
           {
            "colorbar": {
             "outlinewidth": 1,
             "tickcolor": "rgb(36,36,36)",
             "ticks": "outside"
            },
            "type": "choropleth"
           }
          ],
          "contour": [
           {
            "colorbar": {
             "outlinewidth": 1,
             "tickcolor": "rgb(36,36,36)",
             "ticks": "outside"
            },
            "colorscale": [
             [
              0,
              "#440154"
             ],
             [
              0.1111111111111111,
              "#482878"
             ],
             [
              0.2222222222222222,
              "#3e4989"
             ],
             [
              0.3333333333333333,
              "#31688e"
             ],
             [
              0.4444444444444444,
              "#26828e"
             ],
             [
              0.5555555555555556,
              "#1f9e89"
             ],
             [
              0.6666666666666666,
              "#35b779"
             ],
             [
              0.7777777777777778,
              "#6ece58"
             ],
             [
              0.8888888888888888,
              "#b5de2b"
             ],
             [
              1,
              "#fde725"
             ]
            ],
            "type": "contour"
           }
          ],
          "contourcarpet": [
           {
            "colorbar": {
             "outlinewidth": 1,
             "tickcolor": "rgb(36,36,36)",
             "ticks": "outside"
            },
            "type": "contourcarpet"
           }
          ],
          "heatmap": [
           {
            "colorbar": {
             "outlinewidth": 1,
             "tickcolor": "rgb(36,36,36)",
             "ticks": "outside"
            },
            "colorscale": [
             [
              0,
              "#440154"
             ],
             [
              0.1111111111111111,
              "#482878"
             ],
             [
              0.2222222222222222,
              "#3e4989"
             ],
             [
              0.3333333333333333,
              "#31688e"
             ],
             [
              0.4444444444444444,
              "#26828e"
             ],
             [
              0.5555555555555556,
              "#1f9e89"
             ],
             [
              0.6666666666666666,
              "#35b779"
             ],
             [
              0.7777777777777778,
              "#6ece58"
             ],
             [
              0.8888888888888888,
              "#b5de2b"
             ],
             [
              1,
              "#fde725"
             ]
            ],
            "type": "heatmap"
           }
          ],
          "heatmapgl": [
           {
            "colorbar": {
             "outlinewidth": 1,
             "tickcolor": "rgb(36,36,36)",
             "ticks": "outside"
            },
            "colorscale": [
             [
              0,
              "#440154"
             ],
             [
              0.1111111111111111,
              "#482878"
             ],
             [
              0.2222222222222222,
              "#3e4989"
             ],
             [
              0.3333333333333333,
              "#31688e"
             ],
             [
              0.4444444444444444,
              "#26828e"
             ],
             [
              0.5555555555555556,
              "#1f9e89"
             ],
             [
              0.6666666666666666,
              "#35b779"
             ],
             [
              0.7777777777777778,
              "#6ece58"
             ],
             [
              0.8888888888888888,
              "#b5de2b"
             ],
             [
              1,
              "#fde725"
             ]
            ],
            "type": "heatmapgl"
           }
          ],
          "histogram": [
           {
            "marker": {
             "line": {
              "color": "white",
              "width": 0.6
             }
            },
            "type": "histogram"
           }
          ],
          "histogram2d": [
           {
            "colorbar": {
             "outlinewidth": 1,
             "tickcolor": "rgb(36,36,36)",
             "ticks": "outside"
            },
            "colorscale": [
             [
              0,
              "#440154"
             ],
             [
              0.1111111111111111,
              "#482878"
             ],
             [
              0.2222222222222222,
              "#3e4989"
             ],
             [
              0.3333333333333333,
              "#31688e"
             ],
             [
              0.4444444444444444,
              "#26828e"
             ],
             [
              0.5555555555555556,
              "#1f9e89"
             ],
             [
              0.6666666666666666,
              "#35b779"
             ],
             [
              0.7777777777777778,
              "#6ece58"
             ],
             [
              0.8888888888888888,
              "#b5de2b"
             ],
             [
              1,
              "#fde725"
             ]
            ],
            "type": "histogram2d"
           }
          ],
          "histogram2dcontour": [
           {
            "colorbar": {
             "outlinewidth": 1,
             "tickcolor": "rgb(36,36,36)",
             "ticks": "outside"
            },
            "colorscale": [
             [
              0,
              "#440154"
             ],
             [
              0.1111111111111111,
              "#482878"
             ],
             [
              0.2222222222222222,
              "#3e4989"
             ],
             [
              0.3333333333333333,
              "#31688e"
             ],
             [
              0.4444444444444444,
              "#26828e"
             ],
             [
              0.5555555555555556,
              "#1f9e89"
             ],
             [
              0.6666666666666666,
              "#35b779"
             ],
             [
              0.7777777777777778,
              "#6ece58"
             ],
             [
              0.8888888888888888,
              "#b5de2b"
             ],
             [
              1,
              "#fde725"
             ]
            ],
            "type": "histogram2dcontour"
           }
          ],
          "mesh3d": [
           {
            "colorbar": {
             "outlinewidth": 1,
             "tickcolor": "rgb(36,36,36)",
             "ticks": "outside"
            },
            "type": "mesh3d"
           }
          ],
          "parcoords": [
           {
            "line": {
             "colorbar": {
              "outlinewidth": 1,
              "tickcolor": "rgb(36,36,36)",
              "ticks": "outside"
             }
            },
            "type": "parcoords"
           }
          ],
          "pie": [
           {
            "automargin": true,
            "type": "pie"
           }
          ],
          "scatter": [
           {
            "fillpattern": {
             "fillmode": "overlay",
             "size": 10,
             "solidity": 0.2
            },
            "type": "scatter"
           }
          ],
          "scatter3d": [
           {
            "line": {
             "colorbar": {
              "outlinewidth": 1,
              "tickcolor": "rgb(36,36,36)",
              "ticks": "outside"
             }
            },
            "marker": {
             "colorbar": {
              "outlinewidth": 1,
              "tickcolor": "rgb(36,36,36)",
              "ticks": "outside"
             }
            },
            "type": "scatter3d"
           }
          ],
          "scattercarpet": [
           {
            "marker": {
             "colorbar": {
              "outlinewidth": 1,
              "tickcolor": "rgb(36,36,36)",
              "ticks": "outside"
             }
            },
            "type": "scattercarpet"
           }
          ],
          "scattergeo": [
           {
            "marker": {
             "colorbar": {
              "outlinewidth": 1,
              "tickcolor": "rgb(36,36,36)",
              "ticks": "outside"
             }
            },
            "type": "scattergeo"
           }
          ],
          "scattergl": [
           {
            "marker": {
             "colorbar": {
              "outlinewidth": 1,
              "tickcolor": "rgb(36,36,36)",
              "ticks": "outside"
             }
            },
            "type": "scattergl"
           }
          ],
          "scattermapbox": [
           {
            "marker": {
             "colorbar": {
              "outlinewidth": 1,
              "tickcolor": "rgb(36,36,36)",
              "ticks": "outside"
             }
            },
            "type": "scattermapbox"
           }
          ],
          "scatterpolar": [
           {
            "marker": {
             "colorbar": {
              "outlinewidth": 1,
              "tickcolor": "rgb(36,36,36)",
              "ticks": "outside"
             }
            },
            "type": "scatterpolar"
           }
          ],
          "scatterpolargl": [
           {
            "marker": {
             "colorbar": {
              "outlinewidth": 1,
              "tickcolor": "rgb(36,36,36)",
              "ticks": "outside"
             }
            },
            "type": "scatterpolargl"
           }
          ],
          "scatterternary": [
           {
            "marker": {
             "colorbar": {
              "outlinewidth": 1,
              "tickcolor": "rgb(36,36,36)",
              "ticks": "outside"
             }
            },
            "type": "scatterternary"
           }
          ],
          "surface": [
           {
            "colorbar": {
             "outlinewidth": 1,
             "tickcolor": "rgb(36,36,36)",
             "ticks": "outside"
            },
            "colorscale": [
             [
              0,
              "#440154"
             ],
             [
              0.1111111111111111,
              "#482878"
             ],
             [
              0.2222222222222222,
              "#3e4989"
             ],
             [
              0.3333333333333333,
              "#31688e"
             ],
             [
              0.4444444444444444,
              "#26828e"
             ],
             [
              0.5555555555555556,
              "#1f9e89"
             ],
             [
              0.6666666666666666,
              "#35b779"
             ],
             [
              0.7777777777777778,
              "#6ece58"
             ],
             [
              0.8888888888888888,
              "#b5de2b"
             ],
             [
              1,
              "#fde725"
             ]
            ],
            "type": "surface"
           }
          ],
          "table": [
           {
            "cells": {
             "fill": {
              "color": "rgb(237,237,237)"
             },
             "line": {
              "color": "white"
             }
            },
            "header": {
             "fill": {
              "color": "rgb(217,217,217)"
             },
             "line": {
              "color": "white"
             }
            },
            "type": "table"
           }
          ]
         },
         "layout": {
          "annotationdefaults": {
           "arrowhead": 0,
           "arrowwidth": 1
          },
          "autotypenumbers": "strict",
          "coloraxis": {
           "colorbar": {
            "outlinewidth": 1,
            "tickcolor": "rgb(36,36,36)",
            "ticks": "outside"
           }
          },
          "colorscale": {
           "diverging": [
            [
             0,
             "rgb(103,0,31)"
            ],
            [
             0.1,
             "rgb(178,24,43)"
            ],
            [
             0.2,
             "rgb(214,96,77)"
            ],
            [
             0.3,
             "rgb(244,165,130)"
            ],
            [
             0.4,
             "rgb(253,219,199)"
            ],
            [
             0.5,
             "rgb(247,247,247)"
            ],
            [
             0.6,
             "rgb(209,229,240)"
            ],
            [
             0.7,
             "rgb(146,197,222)"
            ],
            [
             0.8,
             "rgb(67,147,195)"
            ],
            [
             0.9,
             "rgb(33,102,172)"
            ],
            [
             1,
             "rgb(5,48,97)"
            ]
           ],
           "sequential": [
            [
             0,
             "#440154"
            ],
            [
             0.1111111111111111,
             "#482878"
            ],
            [
             0.2222222222222222,
             "#3e4989"
            ],
            [
             0.3333333333333333,
             "#31688e"
            ],
            [
             0.4444444444444444,
             "#26828e"
            ],
            [
             0.5555555555555556,
             "#1f9e89"
            ],
            [
             0.6666666666666666,
             "#35b779"
            ],
            [
             0.7777777777777778,
             "#6ece58"
            ],
            [
             0.8888888888888888,
             "#b5de2b"
            ],
            [
             1,
             "#fde725"
            ]
           ],
           "sequentialminus": [
            [
             0,
             "#440154"
            ],
            [
             0.1111111111111111,
             "#482878"
            ],
            [
             0.2222222222222222,
             "#3e4989"
            ],
            [
             0.3333333333333333,
             "#31688e"
            ],
            [
             0.4444444444444444,
             "#26828e"
            ],
            [
             0.5555555555555556,
             "#1f9e89"
            ],
            [
             0.6666666666666666,
             "#35b779"
            ],
            [
             0.7777777777777778,
             "#6ece58"
            ],
            [
             0.8888888888888888,
             "#b5de2b"
            ],
            [
             1,
             "#fde725"
            ]
           ]
          },
          "colorway": [
           "#91268F",
           "#8CC63E",
           "#00A7A0",
           "#F05A28",
           "#4C4C4C",
           "#630460",
           "#9f3913",
           "#588527",
           "#00716c",
           "#3e4040"
          ],
          "font": {
           "color": "rgb(36,36,36)",
           "family": "Poppins",
           "size": 11
          },
          "geo": {
           "bgcolor": "white",
           "lakecolor": "white",
           "landcolor": "white",
           "showlakes": true,
           "showland": true,
           "subunitcolor": "white"
          },
          "hoverlabel": {
           "align": "left"
          },
          "hovermode": "closest",
          "mapbox": {
           "style": "light"
          },
          "paper_bgcolor": "white",
          "plot_bgcolor": "white",
          "polar": {
           "angularaxis": {
            "gridcolor": "rgb(232,232,232)",
            "linecolor": "rgb(36,36,36)",
            "showgrid": false,
            "showline": true,
            "ticks": "outside"
           },
           "bgcolor": "white",
           "radialaxis": {
            "gridcolor": "rgb(232,232,232)",
            "linecolor": "rgb(36,36,36)",
            "showgrid": false,
            "showline": true,
            "ticks": "outside"
           }
          },
          "scene": {
           "xaxis": {
            "backgroundcolor": "white",
            "gridcolor": "rgb(232,232,232)",
            "gridwidth": 2,
            "linecolor": "rgb(36,36,36)",
            "showbackground": true,
            "showgrid": false,
            "showline": true,
            "ticks": "outside",
            "zeroline": false,
            "zerolinecolor": "rgb(36,36,36)"
           },
           "yaxis": {
            "backgroundcolor": "white",
            "gridcolor": "rgb(232,232,232)",
            "gridwidth": 2,
            "linecolor": "rgb(36,36,36)",
            "showbackground": true,
            "showgrid": false,
            "showline": true,
            "ticks": "outside",
            "zeroline": false,
            "zerolinecolor": "rgb(36,36,36)"
           },
           "zaxis": {
            "backgroundcolor": "white",
            "gridcolor": "rgb(232,232,232)",
            "gridwidth": 2,
            "linecolor": "rgb(36,36,36)",
            "showbackground": true,
            "showgrid": false,
            "showline": true,
            "ticks": "outside",
            "zeroline": false,
            "zerolinecolor": "rgb(36,36,36)"
           }
          },
          "shapedefaults": {
           "fillcolor": "black",
           "line": {
            "width": 0
           },
           "opacity": 0.3
          },
          "ternary": {
           "aaxis": {
            "gridcolor": "rgb(232,232,232)",
            "linecolor": "rgb(36,36,36)",
            "showgrid": false,
            "showline": true,
            "ticks": "outside"
           },
           "baxis": {
            "gridcolor": "rgb(232,232,232)",
            "linecolor": "rgb(36,36,36)",
            "showgrid": false,
            "showline": true,
            "ticks": "outside"
           },
           "bgcolor": "white",
           "caxis": {
            "gridcolor": "rgb(232,232,232)",
            "linecolor": "rgb(36,36,36)",
            "showgrid": false,
            "showline": true,
            "ticks": "outside"
           }
          },
          "title": {
           "x": 0.05
          },
          "xaxis": {
           "automargin": true,
           "gridcolor": "rgb(232,232,232)",
           "linecolor": "rgb(36,36,36)",
           "showgrid": false,
           "showline": true,
           "ticks": "outside",
           "title": {
            "standoff": 15
           },
           "zeroline": false,
           "zerolinecolor": "rgb(36,36,36)"
          },
          "yaxis": {
           "automargin": true,
           "gridcolor": "rgb(232,232,232)",
           "linecolor": "rgb(36,36,36)",
           "showgrid": false,
           "showline": true,
           "ticks": "outside",
           "title": {
            "standoff": 15
           },
           "zeroline": false,
           "zerolinecolor": "rgb(36,36,36)"
          }
         }
        },
        "title": {
         "text": "Medium Trucks: Snohomish"
        },
        "width": 800,
        "xaxis": {
         "anchor": "y",
         "domain": [
          0,
          1
         ],
         "title": {
          "text": "Observed"
         }
        },
        "yaxis": {
         "anchor": "x",
         "domain": [
          0,
          1
         ],
         "title": {
          "text": "Model"
         }
        }
       }
      },
      "text/html": [
       "<div>                            <div id=\"3378452d-5354-47c6-a467-32c82ad6c645\" class=\"plotly-graph-div\" style=\"height:600px; width:800px;\"></div>            <script type=\"text/javascript\">                require([\"plotly\"], function(Plotly) {                    window.PLOTLYENV=window.PLOTLYENV || {};                                    if (document.getElementById(\"3378452d-5354-47c6-a467-32c82ad6c645\")) {                    Plotly.newPlot(                        \"3378452d-5354-47c6-a467-32c82ad6c645\",                        [{\"customdata\":[[\"I-5 @ 44th NB\",\"Snohomish\"],[\"I-5 @ 44th SB\",\"Snohomish\"],[\"I-5 N\\u002fO 164th NB\",\"Snohomish\"],[\"I-5 N\\u002fO 164th SB\",\"Snohomish\"],[\"I-5 N\\u002fO SR-526 NB\",\"Snohomish\"],[\"I-5 N\\u002fO SR-526 SB\",\"Snohomish\"],[\"I-5 N\\u002fO 41st NB\",\"Snohomish\"],[\"I-5 N\\u002fO 41st SB\",\"Snohomish\"],[\"I-5 @ SR-528 NB\",\"Snohomish\"],[\"I-5 @ SR-528 SB\",\"Snohomish\"],[\"I-5 N\\u002fO SR-531 NB\",\"Snohomish\"],[\"I-5 N\\u002fO SR-531 SB\",\"Snohomish\"],[\"I-405 N\\u002fO SR-527 NB\",\"Snohomish\"],[\"I-405 N\\u002fO SR-527 SB\",\"Snohomish\"],[\"SR-525 N\\u002fO I-5 NB\",\"Snohomish\"],[\"SR-525 N\\u002fO I-5 SB\",\"Snohomish\"],[\"I-5 @ SR-532 NB\\u002fSB\",\"Snohomish\"],[\"I-5 @ Skagit border NB\\u002fSB\",\"Snohomish\"],[\"SR-525 N\\u002fO SR-526 NB\\u002fSB\",\"Snohomish\"],[\"SR-525 N\\u002fO 5th NB\\u002fSB\",\"Snohomish\"],[\"SR-99 E\\u002fO Evergreen NB\\u002fSB\",\"Snohomish\"],[\"SR-526 W\\u002fO Paine Field Blvd WB\\u002fEB\",\"Snohomish\"],[\"SR-526 E\\u002fO Paine Field Blvd WB\\u002fEB\",\"Snohomish\"],[\"SR-9 @ SR-522 NB\\u002fSB\",\"Snohomish\"],[\"SR-9 N\\u002fO SR-2 NB\\u002fSB\",\"Snohomish\"],[\"SR-9 N\\u002fO SR-204 NB\\u002fSB\",\"Snohomish\"],[\"SR-9 N\\u002fO SR-92 NB\\u002fSB\",\"Snohomish\"],[\"SR-9 N\\u002fO 132nd NB\\u002fSB\",\"Snohomish\"],[\"SR-9 N\\u002fO SR-531 NB\\u002fSB\",\"Snohomish\"],[\"SR-9 S\\u002fO 67th NB\\u002fSB\",\"Snohomish\"],[\"SR-9 N\\u002fO Kackman NB\\u002fSB\",\"Snohomish\"],[\"SR-9 N\\u002fO Stanwood-Bryant NB\\u002fSB\",\"Snohomish\"],[\"SR-532 @ Island County WB\\u002fEB\",\"Snohomish\"],[\"SR-532 W\\u002fO 28th WB\\u002fEB\",\"Snohomish\"],[\"SR-104 @ Ferry Loading Edm WB\\u002fEB\",\"Snohomish\"],[\"SR-104 N\\u002fO Pine WB\\u002fEB\",\"Snohomish\"],[\"SR-104 E\\u002fO 5th WB\\u002fEB\",\"Snohomish\"],[\"SR-524 W\\u002fO 3rd WB\\u002fEB\",\"Snohomish\"],[\"SR-524 S\\u002fO Main WB\\u002fEB\",\"Snohomish\"],[\"SR-524 N\\u002fO Main WB\\u002fEB\",\"Snohomish\"],[\"SR-524 E\\u002fO 68th WB\\u002fEB\",\"Snohomish\"],[\"SR-524 E\\u002fO 39th WB\\u002fEB\",\"Snohomish\"],[\"SR-524 N\\u002fO Paradise Lake WB\\u002fEB\",\"Snohomish\"],[\"SR-2 E\\u002fO I-5 WB\\u002fEB\",\"Snohomish\"],[\"SR-2 S\\u002fO SR-204 WB\\u002fEB\",\"Snohomish\"],[\"SR-2 E\\u002fO Main WB\\u002fEB\",\"Snohomish\"],[\"SR-2 E\\u002fO Rice WB\\u002fEB\",\"Snohomish\"],[\"SR-2 E\\u002fO 10th (Gold Bar) WB\\u002fEB\",\"Snohomish\"],[\"SR-2 W\\u002fO Index-Galena WB\\u002fEB\",\"Snohomish\"],[\"SR-2 E\\u002fO Index-Galena WB\\u002fEB\",\"Snohomish\"],[\"SR-527 N\\u002fO I-405 NB\\u002fSB\",\"Snohomish\"],[\"SR-527 N\\u002fO 196th NB\\u002fSB\",\"Snohomish\"],[\"SR-527 N\\u002fO Dumas NB\\u002fSB\",\"Snohomish\"],[\"SR-527 N\\u002fO 100th NB\\u002fSB\",\"Snohomish\"],[\"SR-529 @ I-5 (Evt) NB\\u002fSB\",\"Snohomish\"],[\"SR-529 S\\u002fO Everett NB\\u002fSB\",\"Snohomish\"],[\"SR-529 W\\u002fO Maple NB\\u002fSB\",\"Snohomish\"],[\"SR-529 N\\u002fO Everett NB\\u002fSB\",\"Snohomish\"],[\"SR-529 N\\u002fO Broadway NB\\u002fSB\",\"Snohomish\"],[\"SR-96 @ I-5 WB\\u002fEB\",\"Snohomish\"],[\"SR-96 N\\u002fO 132nd WB\\u002fEB\",\"Snohomish\"],[\"SR-96 E\\u002fO Seattle Hill WB\\u002fEB\",\"Snohomish\"],[\"SR-528 @ I-5 WB\\u002fEB\",\"Snohomish\"],[\"SR-528 E\\u002fO SR-529 WB\\u002fEB\",\"Snohomish\"],[\"SR-531 N\\u002fO Rose WB\\u002fEB\",\"Snohomish\"],[\"SR-531 E\\u002fO Lk Goodwin WB\\u002fEB\",\"Snohomish\"],[\"SR-531 E\\u002fO 27th WB\\u002fEB\",\"Snohomish\"],[\"SR-531 E\\u002fO I-5 WB\\u002fEB\",\"Snohomish\"],[\"SR-531 E\\u002fO 43rd WB\\u002fEB\",\"Snohomish\"],[\"SR-531 W\\u002fO 67th WB\\u002fEB\",\"Snohomish\"],[\"SR-531 E\\u002fO 67th WB\\u002fEB\",\"Snohomish\"],[\"SR-530 @ I-5 WB\\u002fEB\",\"Snohomish\"],[\"SR-530 E\\u002fO Smokey Pt WB\\u002fEB\",\"Snohomish\"],[\"SR-530 N\\u002fO 211th WB\\u002fEB\",\"Snohomish\"],[\"SR-530 E\\u002fO SR-9 WB\\u002fEB\",\"Snohomish\"],[\"SR-530 W\\u002fO Arlington Hts WB\\u002fEB\",\"Snohomish\"],[\"SR-530 E\\u002fO Arlington Hts WB\\u002fEB\",\"Snohomish\"],[\"SR-530 W\\u002fO Jim Creek WB\\u002fEB\",\"Snohomish\"],[\"SR-530 W\\u002fO Ramstad WB\\u002fEB\",\"Snohomish\"],[\"SR-530 @ Skagit County WB\\u002fEB\",\"Snohomish\"],[\"SR-203 N\\u002fO 203rd NB\\u002fSB\",\"Snohomish\"],[\"SR-204 @ SR-2 NB\\u002fSB\",\"Snohomish\"],[\"SR-204 N\\u002fO 20th NB\\u002fSB\",\"Snohomish\"],[\"SR-204 N\\u002fO SR-2 NB\\u002fSB\",\"Snohomish\"],[\"SR-92 E\\u002fO Lake WB\\u002fEB\",\"Snohomish\"],[\"SR-92 E\\u002fO Callow WB\\u002fEB\",\"Snohomish\"],[\"SR-92 E\\u002fO Quarry WB\\u002fEB\",\"Snohomish\"],[\"SR-92 W\\u002fO Mountain Loop WB\\u002fEB\",\"Snohomish\"]],\"hovertemplate\":\"Observed=%{x}\\u003cbr\\u003eModel=%{y}\\u003cbr\\u003elocation=%{customdata[0]}\\u003cbr\\u003eCounty=%{customdata[1]}\\u003cextra\\u003e\\u003c\\u002fextra\\u003e\",\"legendgroup\":\"\",\"marker\":{\"color\":\"#91268F\",\"symbol\":\"circle\"},\"mode\":\"markers\",\"name\":\"\",\"orientation\":\"v\",\"showlegend\":false,\"x\":[2586,2604,2869,2888,2689,2832,2293,2656,2191,2251,1728,1737,1539,1620,1248,851,2444,2481,710,364,475,396,915,1853,1311,1387,1987,829,484,658,443,135,1056,739,294,220,360,68,160,167,494,330,1157,2430,1634,858,735,516,346,242,1484,837,704,858,333,271,364,238,1122,1408,392,220,728,616,75,432,693,1230,1632,969,560,690,882,784,420,520,461,410,276,167,636,259,371,960,1349,994,320,324],\"xaxis\":\"x\",\"y\":[5690,5707,5140,4826,4455,4479,4351,4199,1914,1938,645,615,4675,4533,3093,2871,120,0,347,33,141,194,1764,1329,1343,1814,2145,693,536,183,46,63,0,596,293,170,284,293,68,315,668,452,609,3183,1687,755,308,111,111,80,3059,942,402,1050,465,420,355,131,617,1532,416,53,1121,595,42,153,604,1459,934,241,365,327,605,406,386,396,331,281,232,0,444,166,299,1370,792,572,195,158],\"yaxis\":\"y\",\"type\":\"scatter\",\"line\":{\"color\":\"Grey\",\"width\":2}},{\"hovertemplate\":\"Observed=%{x}\\u003cbr\\u003eModel=%{y}\\u003cextra\\u003e\\u003c\\u002fextra\\u003e\",\"legendgroup\":\"\",\"line\":{\"color\":\"Grey\",\"dash\":\"solid\",\"width\":2},\"marker\":{\"symbol\":\"circle\"},\"mode\":\"lines\",\"name\":\"\",\"orientation\":\"v\",\"showlegend\":false,\"x\":[0.0,29.171717171717173,58.343434343434346,87.51515151515152,116.68686868686869,145.85858585858585,175.03030303030303,204.2020202020202,233.37373737373738,262.54545454545456,291.7171717171717,320.8888888888889,350.06060606060606,379.23232323232327,408.4040404040404,437.5757575757576,466.74747474747477,495.9191919191919,525.0909090909091,554.2626262626263,583.4343434343434,612.6060606060606,641.7777777777778,670.949494949495,700.1212121212121,729.2929292929293,758.4646464646465,787.6363636363636,816.8080808080808,845.979797979798,875.1515151515152,904.3232323232323,933.4949494949495,962.6666666666667,991.8383838383838,1021.010101010101,1050.1818181818182,1079.3535353535353,1108.5252525252527,1137.6969696969697,1166.8686868686868,1196.0404040404042,1225.2121212121212,1254.3838383838383,1283.5555555555557,1312.7272727272727,1341.89898989899,1371.0707070707072,1400.2424242424242,1429.4141414141416,1458.5858585858587,1487.7575757575758,1516.929292929293,1546.1010101010102,1575.2727272727273,1604.4444444444446,1633.6161616161617,1662.7878787878788,1691.959595959596,1721.1313131313132,1750.3030303030305,1779.4747474747476,1808.6464646464647,1837.818181818182,1866.989898989899,1896.1616161616162,1925.3333333333335,1954.5050505050506,1983.6767676767677,2012.848484848485,2042.020202020202,2071.191919191919,2100.3636363636365,2129.535353535354,2158.7070707070707,2187.878787878788,2217.0505050505053,2246.222222222222,2275.3939393939395,2304.565656565657,2333.7373737373737,2362.909090909091,2392.0808080808083,2421.252525252525,2450.4242424242425,2479.59595959596,2508.7676767676767,2537.939393939394,2567.1111111111113,2596.282828282828,2625.4545454545455,2654.626262626263,2683.79797979798,2712.969696969697,2742.1414141414143,2771.3131313131316,2800.4848484848485,2829.656565656566,2858.828282828283,2888.0],\"xaxis\":\"x\",\"y\":[-334.59882930492677,-291.2206729753594,-247.842516645792,-204.4643603162246,-161.08620398665718,-117.70804765708979,-74.32989132752243,-30.951734997954986,12.426421331612403,55.80457766117979,99.18273399074718,142.56089032031457,185.9390466498819,229.31720297944935,272.6953593090168,316.07351563858424,359.4516719681516,402.8298282977189,446.20798462728635,489.5861409568538,532.9642972864211,576.3424536159885,619.7206099455559,663.0987662751234,706.4769226046906,749.855078934258,793.2332352638255,836.6113915933929,879.9895479229604,923.3677042525278,966.7458605820952,1010.1240169116625,1053.50217324123,1096.8803295707974,1140.2584859003646,1183.636642229932,1227.0147985594995,1270.3929548890667,1313.7711112186344,1357.1492675482016,1400.527423877769,1443.9055802073365,1487.2837365369037,1530.6618928664711,1574.0400491960386,1617.418205525606,1660.7963618551735,1704.174518184741,1747.552674514308,1790.9308308438758,1834.3089871734428,1877.6871435030102,1921.0652998325777,1964.4434561621451,2007.8216124917126,2051.19976882128,2094.5779251508475,2137.9560814804145,2181.3342378099824,2224.7123941395494,2268.0905504691173,2311.4687067986843,2354.8468631282517,2398.225019457819,2441.6031757873866,2484.9813321169536,2528.3594884465215,2571.7376447760885,2615.115801105656,2658.4939574352234,2701.872113764791,2745.2502700943583,2788.6284264239257,2832.006582753493,2875.38473908306,2918.762895412628,2962.1410517421955,3005.5192080717625,3048.89736440133,3092.275520730898,3135.653677060465,3179.0318333900323,3222.4099897195997,3265.7881460491667,3309.166302378734,3352.544458708302,3395.922615037869,3439.3007713674365,3482.678927697004,3526.057084026571,3569.435240356139,3612.8133966857063,3656.1915530152737,3699.5697093448407,3742.9478656744086,3786.3260220039765,3829.7041783335426,3873.0823346631105,3916.4604909926784,3959.8386473222454],\"yaxis\":\"y\",\"type\":\"scatter\"}],                        {\"template\":{\"data\":{\"barpolar\":[{\"marker\":{\"line\":{\"color\":\"white\",\"width\":0.5},\"pattern\":{\"fillmode\":\"overlay\",\"size\":10,\"solidity\":0.2}},\"type\":\"barpolar\"}],\"bar\":[{\"error_x\":{\"color\":\"rgb(36,36,36)\"},\"error_y\":{\"color\":\"rgb(36,36,36)\"},\"marker\":{\"line\":{\"color\":\"white\",\"width\":0.5},\"pattern\":{\"fillmode\":\"overlay\",\"size\":10,\"solidity\":0.2}},\"type\":\"bar\"}],\"carpet\":[{\"aaxis\":{\"endlinecolor\":\"rgb(36,36,36)\",\"gridcolor\":\"white\",\"linecolor\":\"white\",\"minorgridcolor\":\"white\",\"startlinecolor\":\"rgb(36,36,36)\"},\"baxis\":{\"endlinecolor\":\"rgb(36,36,36)\",\"gridcolor\":\"white\",\"linecolor\":\"white\",\"minorgridcolor\":\"white\",\"startlinecolor\":\"rgb(36,36,36)\"},\"type\":\"carpet\"}],\"choropleth\":[{\"colorbar\":{\"outlinewidth\":1,\"tickcolor\":\"rgb(36,36,36)\",\"ticks\":\"outside\"},\"type\":\"choropleth\"}],\"contourcarpet\":[{\"colorbar\":{\"outlinewidth\":1,\"tickcolor\":\"rgb(36,36,36)\",\"ticks\":\"outside\"},\"type\":\"contourcarpet\"}],\"contour\":[{\"colorbar\":{\"outlinewidth\":1,\"tickcolor\":\"rgb(36,36,36)\",\"ticks\":\"outside\"},\"colorscale\":[[0.0,\"#440154\"],[0.1111111111111111,\"#482878\"],[0.2222222222222222,\"#3e4989\"],[0.3333333333333333,\"#31688e\"],[0.4444444444444444,\"#26828e\"],[0.5555555555555556,\"#1f9e89\"],[0.6666666666666666,\"#35b779\"],[0.7777777777777778,\"#6ece58\"],[0.8888888888888888,\"#b5de2b\"],[1.0,\"#fde725\"]],\"type\":\"contour\"}],\"heatmapgl\":[{\"colorbar\":{\"outlinewidth\":1,\"tickcolor\":\"rgb(36,36,36)\",\"ticks\":\"outside\"},\"colorscale\":[[0.0,\"#440154\"],[0.1111111111111111,\"#482878\"],[0.2222222222222222,\"#3e4989\"],[0.3333333333333333,\"#31688e\"],[0.4444444444444444,\"#26828e\"],[0.5555555555555556,\"#1f9e89\"],[0.6666666666666666,\"#35b779\"],[0.7777777777777778,\"#6ece58\"],[0.8888888888888888,\"#b5de2b\"],[1.0,\"#fde725\"]],\"type\":\"heatmapgl\"}],\"heatmap\":[{\"colorbar\":{\"outlinewidth\":1,\"tickcolor\":\"rgb(36,36,36)\",\"ticks\":\"outside\"},\"colorscale\":[[0.0,\"#440154\"],[0.1111111111111111,\"#482878\"],[0.2222222222222222,\"#3e4989\"],[0.3333333333333333,\"#31688e\"],[0.4444444444444444,\"#26828e\"],[0.5555555555555556,\"#1f9e89\"],[0.6666666666666666,\"#35b779\"],[0.7777777777777778,\"#6ece58\"],[0.8888888888888888,\"#b5de2b\"],[1.0,\"#fde725\"]],\"type\":\"heatmap\"}],\"histogram2dcontour\":[{\"colorbar\":{\"outlinewidth\":1,\"tickcolor\":\"rgb(36,36,36)\",\"ticks\":\"outside\"},\"colorscale\":[[0.0,\"#440154\"],[0.1111111111111111,\"#482878\"],[0.2222222222222222,\"#3e4989\"],[0.3333333333333333,\"#31688e\"],[0.4444444444444444,\"#26828e\"],[0.5555555555555556,\"#1f9e89\"],[0.6666666666666666,\"#35b779\"],[0.7777777777777778,\"#6ece58\"],[0.8888888888888888,\"#b5de2b\"],[1.0,\"#fde725\"]],\"type\":\"histogram2dcontour\"}],\"histogram2d\":[{\"colorbar\":{\"outlinewidth\":1,\"tickcolor\":\"rgb(36,36,36)\",\"ticks\":\"outside\"},\"colorscale\":[[0.0,\"#440154\"],[0.1111111111111111,\"#482878\"],[0.2222222222222222,\"#3e4989\"],[0.3333333333333333,\"#31688e\"],[0.4444444444444444,\"#26828e\"],[0.5555555555555556,\"#1f9e89\"],[0.6666666666666666,\"#35b779\"],[0.7777777777777778,\"#6ece58\"],[0.8888888888888888,\"#b5de2b\"],[1.0,\"#fde725\"]],\"type\":\"histogram2d\"}],\"histogram\":[{\"marker\":{\"line\":{\"color\":\"white\",\"width\":0.6}},\"type\":\"histogram\"}],\"mesh3d\":[{\"colorbar\":{\"outlinewidth\":1,\"tickcolor\":\"rgb(36,36,36)\",\"ticks\":\"outside\"},\"type\":\"mesh3d\"}],\"parcoords\":[{\"line\":{\"colorbar\":{\"outlinewidth\":1,\"tickcolor\":\"rgb(36,36,36)\",\"ticks\":\"outside\"}},\"type\":\"parcoords\"}],\"pie\":[{\"automargin\":true,\"type\":\"pie\"}],\"scatter3d\":[{\"line\":{\"colorbar\":{\"outlinewidth\":1,\"tickcolor\":\"rgb(36,36,36)\",\"ticks\":\"outside\"}},\"marker\":{\"colorbar\":{\"outlinewidth\":1,\"tickcolor\":\"rgb(36,36,36)\",\"ticks\":\"outside\"}},\"type\":\"scatter3d\"}],\"scattercarpet\":[{\"marker\":{\"colorbar\":{\"outlinewidth\":1,\"tickcolor\":\"rgb(36,36,36)\",\"ticks\":\"outside\"}},\"type\":\"scattercarpet\"}],\"scattergeo\":[{\"marker\":{\"colorbar\":{\"outlinewidth\":1,\"tickcolor\":\"rgb(36,36,36)\",\"ticks\":\"outside\"}},\"type\":\"scattergeo\"}],\"scattergl\":[{\"marker\":{\"colorbar\":{\"outlinewidth\":1,\"tickcolor\":\"rgb(36,36,36)\",\"ticks\":\"outside\"}},\"type\":\"scattergl\"}],\"scattermapbox\":[{\"marker\":{\"colorbar\":{\"outlinewidth\":1,\"tickcolor\":\"rgb(36,36,36)\",\"ticks\":\"outside\"}},\"type\":\"scattermapbox\"}],\"scatterpolargl\":[{\"marker\":{\"colorbar\":{\"outlinewidth\":1,\"tickcolor\":\"rgb(36,36,36)\",\"ticks\":\"outside\"}},\"type\":\"scatterpolargl\"}],\"scatterpolar\":[{\"marker\":{\"colorbar\":{\"outlinewidth\":1,\"tickcolor\":\"rgb(36,36,36)\",\"ticks\":\"outside\"}},\"type\":\"scatterpolar\"}],\"scatter\":[{\"fillpattern\":{\"fillmode\":\"overlay\",\"size\":10,\"solidity\":0.2},\"type\":\"scatter\"}],\"scatterternary\":[{\"marker\":{\"colorbar\":{\"outlinewidth\":1,\"tickcolor\":\"rgb(36,36,36)\",\"ticks\":\"outside\"}},\"type\":\"scatterternary\"}],\"surface\":[{\"colorbar\":{\"outlinewidth\":1,\"tickcolor\":\"rgb(36,36,36)\",\"ticks\":\"outside\"},\"colorscale\":[[0.0,\"#440154\"],[0.1111111111111111,\"#482878\"],[0.2222222222222222,\"#3e4989\"],[0.3333333333333333,\"#31688e\"],[0.4444444444444444,\"#26828e\"],[0.5555555555555556,\"#1f9e89\"],[0.6666666666666666,\"#35b779\"],[0.7777777777777778,\"#6ece58\"],[0.8888888888888888,\"#b5de2b\"],[1.0,\"#fde725\"]],\"type\":\"surface\"}],\"table\":[{\"cells\":{\"fill\":{\"color\":\"rgb(237,237,237)\"},\"line\":{\"color\":\"white\"}},\"header\":{\"fill\":{\"color\":\"rgb(217,217,217)\"},\"line\":{\"color\":\"white\"}},\"type\":\"table\"}]},\"layout\":{\"annotationdefaults\":{\"arrowhead\":0,\"arrowwidth\":1},\"autotypenumbers\":\"strict\",\"coloraxis\":{\"colorbar\":{\"outlinewidth\":1,\"tickcolor\":\"rgb(36,36,36)\",\"ticks\":\"outside\"}},\"colorscale\":{\"diverging\":[[0.0,\"rgb(103,0,31)\"],[0.1,\"rgb(178,24,43)\"],[0.2,\"rgb(214,96,77)\"],[0.3,\"rgb(244,165,130)\"],[0.4,\"rgb(253,219,199)\"],[0.5,\"rgb(247,247,247)\"],[0.6,\"rgb(209,229,240)\"],[0.7,\"rgb(146,197,222)\"],[0.8,\"rgb(67,147,195)\"],[0.9,\"rgb(33,102,172)\"],[1.0,\"rgb(5,48,97)\"]],\"sequential\":[[0.0,\"#440154\"],[0.1111111111111111,\"#482878\"],[0.2222222222222222,\"#3e4989\"],[0.3333333333333333,\"#31688e\"],[0.4444444444444444,\"#26828e\"],[0.5555555555555556,\"#1f9e89\"],[0.6666666666666666,\"#35b779\"],[0.7777777777777778,\"#6ece58\"],[0.8888888888888888,\"#b5de2b\"],[1.0,\"#fde725\"]],\"sequentialminus\":[[0.0,\"#440154\"],[0.1111111111111111,\"#482878\"],[0.2222222222222222,\"#3e4989\"],[0.3333333333333333,\"#31688e\"],[0.4444444444444444,\"#26828e\"],[0.5555555555555556,\"#1f9e89\"],[0.6666666666666666,\"#35b779\"],[0.7777777777777778,\"#6ece58\"],[0.8888888888888888,\"#b5de2b\"],[1.0,\"#fde725\"]]},\"colorway\":[\"#91268F\",\"#8CC63E\",\"#00A7A0\",\"#F05A28\",\"#4C4C4C\",\"#630460\",\"#9f3913\",\"#588527\",\"#00716c\",\"#3e4040\"],\"font\":{\"color\":\"rgb(36,36,36)\",\"family\":\"Poppins\",\"size\":11},\"geo\":{\"bgcolor\":\"white\",\"lakecolor\":\"white\",\"landcolor\":\"white\",\"showlakes\":true,\"showland\":true,\"subunitcolor\":\"white\"},\"hoverlabel\":{\"align\":\"left\"},\"hovermode\":\"closest\",\"mapbox\":{\"style\":\"light\"},\"paper_bgcolor\":\"white\",\"plot_bgcolor\":\"white\",\"polar\":{\"angularaxis\":{\"gridcolor\":\"rgb(232,232,232)\",\"linecolor\":\"rgb(36,36,36)\",\"showgrid\":false,\"showline\":true,\"ticks\":\"outside\"},\"bgcolor\":\"white\",\"radialaxis\":{\"gridcolor\":\"rgb(232,232,232)\",\"linecolor\":\"rgb(36,36,36)\",\"showgrid\":false,\"showline\":true,\"ticks\":\"outside\"}},\"scene\":{\"xaxis\":{\"backgroundcolor\":\"white\",\"gridcolor\":\"rgb(232,232,232)\",\"gridwidth\":2,\"linecolor\":\"rgb(36,36,36)\",\"showbackground\":true,\"showgrid\":false,\"showline\":true,\"ticks\":\"outside\",\"zeroline\":false,\"zerolinecolor\":\"rgb(36,36,36)\"},\"yaxis\":{\"backgroundcolor\":\"white\",\"gridcolor\":\"rgb(232,232,232)\",\"gridwidth\":2,\"linecolor\":\"rgb(36,36,36)\",\"showbackground\":true,\"showgrid\":false,\"showline\":true,\"ticks\":\"outside\",\"zeroline\":false,\"zerolinecolor\":\"rgb(36,36,36)\"},\"zaxis\":{\"backgroundcolor\":\"white\",\"gridcolor\":\"rgb(232,232,232)\",\"gridwidth\":2,\"linecolor\":\"rgb(36,36,36)\",\"showbackground\":true,\"showgrid\":false,\"showline\":true,\"ticks\":\"outside\",\"zeroline\":false,\"zerolinecolor\":\"rgb(36,36,36)\"}},\"shapedefaults\":{\"fillcolor\":\"black\",\"line\":{\"width\":0},\"opacity\":0.3},\"ternary\":{\"aaxis\":{\"gridcolor\":\"rgb(232,232,232)\",\"linecolor\":\"rgb(36,36,36)\",\"showgrid\":false,\"showline\":true,\"ticks\":\"outside\"},\"baxis\":{\"gridcolor\":\"rgb(232,232,232)\",\"linecolor\":\"rgb(36,36,36)\",\"showgrid\":false,\"showline\":true,\"ticks\":\"outside\"},\"bgcolor\":\"white\",\"caxis\":{\"gridcolor\":\"rgb(232,232,232)\",\"linecolor\":\"rgb(36,36,36)\",\"showgrid\":false,\"showline\":true,\"ticks\":\"outside\"}},\"title\":{\"x\":0.05},\"xaxis\":{\"automargin\":true,\"gridcolor\":\"rgb(232,232,232)\",\"linecolor\":\"rgb(36,36,36)\",\"showgrid\":false,\"showline\":true,\"ticks\":\"outside\",\"title\":{\"standoff\":15},\"zeroline\":false,\"zerolinecolor\":\"rgb(36,36,36)\"},\"yaxis\":{\"automargin\":true,\"gridcolor\":\"rgb(232,232,232)\",\"linecolor\":\"rgb(36,36,36)\",\"showgrid\":false,\"showline\":true,\"ticks\":\"outside\",\"title\":{\"standoff\":15},\"zeroline\":false,\"zerolinecolor\":\"rgb(36,36,36)\"}}},\"xaxis\":{\"anchor\":\"y\",\"domain\":[0.0,1.0],\"title\":{\"text\":\"Observed\"}},\"yaxis\":{\"anchor\":\"x\",\"domain\":[0.0,1.0],\"title\":{\"text\":\"Model\"}},\"legend\":{\"tracegroupgap\":0},\"title\":{\"text\":\"Medium Trucks: Snohomish\"},\"margin\":{\"l\":100,\"r\":100,\"t\":100,\"b\":100},\"height\":600,\"width\":800,\"shapes\":[{\"line\":{\"color\":\"Red\",\"dash\":\"dash\",\"width\":2},\"type\":\"line\",\"x0\":0,\"x1\":5707,\"y0\":0,\"y1\":5707}],\"annotations\":[{\"align\":\"right\",\"font\":{\"color\":\"pink\",\"size\":12},\"showarrow\":false,\"text\":\"y = x\",\"x\":5992.35,\"y\":5992.35},{\"align\":\"right\",\"font\":{\"color\":\"black\",\"size\":12},\"showarrow\":false,\"text\":\"r^2 = 0.62\",\"x\":3032.4,\"y\":4157.830579688358}]},                        {\"responsive\": true}                    ).then(function(){\n",
       "                            \n",
       "var gd = document.getElementById('3378452d-5354-47c6-a467-32c82ad6c645');\n",
       "var x = new MutationObserver(function (mutations, observer) {{\n",
       "        var display = window.getComputedStyle(gd).display;\n",
       "        if (!display || display === 'none') {{\n",
       "            console.log([gd, 'removed!']);\n",
       "            Plotly.purge(gd);\n",
       "            observer.disconnect();\n",
       "        }}\n",
       "}});\n",
       "\n",
       "// Listen for the removal of the full notebook cells\n",
       "var notebookContainer = gd.closest('#notebook-container');\n",
       "if (notebookContainer) {{\n",
       "    x.observe(notebookContainer, {childList: true});\n",
       "}}\n",
       "\n",
       "// Listen for the clearing of the current output cell\n",
       "var outputEl = gd.closest('.output');\n",
       "if (outputEl) {{\n",
       "    x.observe(outputEl, {childList: true});\n",
       "}}\n",
       "\n",
       "                        })                };                });            </script>        </div>"
      ]
     },
     "metadata": {},
     "output_type": "display_data"
    }
   ],
   "source": [
    "fig = create_truck_chart(df_daily_med, 'Medium', 'Snohomish')\n",
    "fig.show()"
   ]
  },
  {
   "cell_type": "raw",
   "id": "2e93c7ef",
   "metadata": {},
   "source": [
    ":::"
   ]
  }
 ],
 "metadata": {
  "kernelspec": {
   "display_name": "summary",
   "language": "python",
   "name": "python3"
  },
  "language_info": {
   "codemirror_mode": {
    "name": "ipython",
    "version": 3
   },
   "file_extension": ".py",
   "mimetype": "text/x-python",
   "name": "python",
   "nbconvert_exporter": "python",
   "pygments_lexer": "ipython3",
   "version": "3.7.10"
  }
 },
 "nbformat": 4,
 "nbformat_minor": 5
}
