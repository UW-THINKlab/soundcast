{
 "cells": [
  {
   "cell_type": "raw",
   "id": "35d0934ac2ce2456",
   "metadata": {},
   "source": [
    "---\n",
    "title: \"Traffic Summary\"\n",
    "date: today\n",
    "---"
   ]
  },
  {
   "cell_type": "code",
   "execution_count": 1,
   "id": "3c1a81e12086b602",
   "metadata": {
    "ExecuteTime": {
     "end_time": "2024-06-24T21:13:24.907193Z",
     "start_time": "2024-06-24T21:13:21.750667Z"
    },
    "execution": {
     "iopub.execute_input": "2025-06-18T22:59:09.641990Z",
     "iopub.status.busy": "2025-06-18T22:59:09.641990Z",
     "iopub.status.idle": "2025-06-18T22:59:13.093820Z",
     "shell.execute_reply": "2025-06-18T22:59:13.093820Z"
    }
   },
   "outputs": [],
   "source": [
    "import os\n",
    "import pandas as pd\n",
    "import numpy as np\n",
    "import h5py\n",
    "from sqlalchemy import create_engine\n",
    "from scipy import stats\n",
    "import plotly.express as px\n",
    "import toml\n",
    "import psrc_theme\n",
    "\n",
    "%matplotlib inline\n",
    "from IPython.display import display, HTML\n",
    "\n",
    "# to show plotly figures in quarto HTML file\n",
    "import plotly.io as pio\n",
    "pio.renderers.default = \"plotly_mimetype+notebook_connected\"\n",
    "pio.templates.default = \"simple_white+psrc_color\" # set plotly template\n",
    "\n",
    "input_config = toml.load(os.path.join(os.getcwd(), '..\\\\..\\\\..\\\\..\\\\configuration', 'input_configuration.toml'))\n",
    "valid_config = toml.load(os.path.join(os.getcwd(), '..\\\\..\\\\..\\\\..\\\\configuration', 'validation_configuration.toml'))\n",
    "emme_config = toml.load(os.path.join(os.getcwd(), '..\\\\..\\\\..\\\\..\\\\configuration','emme_configuration.toml'))\n",
    "network_config = toml.load(os.path.join(os.getcwd(), '..\\\\..\\\\..\\\\..\\\\configuration','network_configuration.toml'))\n",
    "\n",
    "# create connection\n",
    "conn = create_engine('sqlite:///../../../../inputs/db/'+input_config['db_name'])\n",
    "\n",
    "# summary data location\n",
    "csv_path = os.path.join(valid_config['model_dir'], 'outputs/validation')\n",
    "\n",
    "# table format\n",
    "pd.options.display.float_format = '{:0,.0f}'.format\n",
    "format_percent = \"{:,.1%}\".format"
   ]
  },
  {
   "cell_type": "markdown",
   "id": "fa9bc0cb",
   "metadata": {},
   "source": [
    "## VMT"
   ]
  },
  {
   "cell_type": "raw",
   "id": "b1e21be6",
   "metadata": {},
   "source": [
    ":::{.panel-tabset}\n",
    "### VMT\n",
    "VMT for model links, including some externals that cross outside region"
   ]
  },
  {
   "cell_type": "code",
   "execution_count": 2,
   "id": "75471d8c",
   "metadata": {
    "execution": {
     "iopub.execute_input": "2025-06-18T22:59:13.099411Z",
     "iopub.status.busy": "2025-06-18T22:59:13.098413Z",
     "iopub.status.idle": "2025-06-18T22:59:13.127129Z",
     "shell.execute_reply": "2025-06-18T22:59:13.127129Z"
    }
   },
   "outputs": [
    {
     "data": {
      "text/html": [
       "<div>\n",
       "<style scoped>\n",
       "    .dataframe tbody tr th:only-of-type {\n",
       "        vertical-align: middle;\n",
       "    }\n",
       "\n",
       "    .dataframe tbody tr th {\n",
       "        vertical-align: top;\n",
       "    }\n",
       "\n",
       "    .dataframe thead th {\n",
       "        text-align: right;\n",
       "    }\n",
       "</style>\n",
       "<table border=\"1\" class=\"dataframe\">\n",
       "  <thead>\n",
       "    <tr style=\"text-align: right;\">\n",
       "      <th></th>\n",
       "      <th>VMT</th>\n",
       "      <th>VHT</th>\n",
       "      <th>delay</th>\n",
       "    </tr>\n",
       "    <tr>\n",
       "      <th>county_name</th>\n",
       "      <th></th>\n",
       "      <th></th>\n",
       "      <th></th>\n",
       "    </tr>\n",
       "  </thead>\n",
       "  <tbody>\n",
       "    <tr>\n",
       "      <th>King</th>\n",
       "      <td>48,974,522</td>\n",
       "      <td>1,563,575</td>\n",
       "      <td>178,959</td>\n",
       "    </tr>\n",
       "    <tr>\n",
       "      <th>Kitsap</th>\n",
       "      <td>5,232,824</td>\n",
       "      <td>157,394</td>\n",
       "      <td>4,192</td>\n",
       "    </tr>\n",
       "    <tr>\n",
       "      <th>Outside Region</th>\n",
       "      <td>421,224</td>\n",
       "      <td>8,835</td>\n",
       "      <td>224</td>\n",
       "    </tr>\n",
       "    <tr>\n",
       "      <th>Pierce</th>\n",
       "      <td>21,703,384</td>\n",
       "      <td>673,394</td>\n",
       "      <td>48,173</td>\n",
       "    </tr>\n",
       "    <tr>\n",
       "      <th>Snohomish</th>\n",
       "      <td>19,419,325</td>\n",
       "      <td>610,171</td>\n",
       "      <td>51,102</td>\n",
       "    </tr>\n",
       "    <tr>\n",
       "      <th>Total</th>\n",
       "      <td>95,751,281</td>\n",
       "      <td>3,013,369</td>\n",
       "      <td>282,649</td>\n",
       "    </tr>\n",
       "  </tbody>\n",
       "</table>\n",
       "</div>"
      ],
      "text/plain": [
       "                      VMT       VHT   delay\n",
       "county_name                                \n",
       "King           48,974,522 1,563,575 178,959\n",
       "Kitsap          5,232,824   157,394   4,192\n",
       "Outside Region    421,224     8,835     224\n",
       "Pierce         21,703,384   673,394  48,173\n",
       "Snohomish      19,419,325   610,171  51,102\n",
       "Total          95,751,281 3,013,369 282,649"
      ]
     },
     "execution_count": 2,
     "metadata": {},
     "output_type": "execute_result"
    }
   ],
   "source": [
    "df = pd.read_csv(os.path.join(valid_config['model_dir'], r'outputs/network/county_network.csv'))\n",
    "df.index = df.county_name\n",
    "df.loc['Total',:] = df.sum().values\n",
    "df = df[['VMT','VHT','delay']]\n",
    "df"
   ]
  },
  {
   "cell_type": "raw",
   "id": "3354f05c",
   "metadata": {},
   "source": [
    "Model VMT versus county-level HPMS data"
   ]
  },
  {
   "cell_type": "code",
   "execution_count": 3,
   "id": "f0081206",
   "metadata": {
    "execution": {
     "iopub.execute_input": "2025-06-18T22:59:13.132113Z",
     "iopub.status.busy": "2025-06-18T22:59:13.132113Z",
     "iopub.status.idle": "2025-06-18T22:59:13.177201Z",
     "shell.execute_reply": "2025-06-18T22:59:13.176198Z"
    }
   },
   "outputs": [
    {
     "name": "stderr",
     "output_type": "stream",
     "text": [
      "C:\\Users\\Modeller\\AppData\\Local\\Temp\\ipykernel_22512\\2489709904.py:14: FutureWarning:\n",
      "\n",
      "DataFrame.applymap has been deprecated. Use DataFrame.map instead.\n",
      "\n"
     ]
    },
    {
     "data": {
      "text/html": [
       "<div>\n",
       "<style scoped>\n",
       "    .dataframe tbody tr th:only-of-type {\n",
       "        vertical-align: middle;\n",
       "    }\n",
       "\n",
       "    .dataframe tbody tr th {\n",
       "        vertical-align: top;\n",
       "    }\n",
       "\n",
       "    .dataframe thead th {\n",
       "        text-align: right;\n",
       "    }\n",
       "</style>\n",
       "<table border=\"1\" class=\"dataframe\">\n",
       "  <thead>\n",
       "    <tr style=\"text-align: right;\">\n",
       "      <th></th>\n",
       "      <th>model</th>\n",
       "      <th>observed</th>\n",
       "      <th>% diff</th>\n",
       "    </tr>\n",
       "    <tr>\n",
       "      <th>county</th>\n",
       "      <th></th>\n",
       "      <th></th>\n",
       "      <th></th>\n",
       "    </tr>\n",
       "  </thead>\n",
       "  <tbody>\n",
       "    <tr>\n",
       "      <th>King</th>\n",
       "      <td>48,974,522</td>\n",
       "      <td>43,820,112</td>\n",
       "      <td>11.8%</td>\n",
       "    </tr>\n",
       "    <tr>\n",
       "      <th>Kitsap</th>\n",
       "      <td>5,232,824</td>\n",
       "      <td>4,840,030</td>\n",
       "      <td>8.1%</td>\n",
       "    </tr>\n",
       "    <tr>\n",
       "      <th>Pierce</th>\n",
       "      <td>21,703,384</td>\n",
       "      <td>17,994,803</td>\n",
       "      <td>20.6%</td>\n",
       "    </tr>\n",
       "    <tr>\n",
       "      <th>Snohomish</th>\n",
       "      <td>19,419,325</td>\n",
       "      <td>15,825,794</td>\n",
       "      <td>22.7%</td>\n",
       "    </tr>\n",
       "    <tr>\n",
       "      <th>Total</th>\n",
       "      <td>95,330,056</td>\n",
       "      <td>82,480,739</td>\n",
       "      <td>15.6%</td>\n",
       "    </tr>\n",
       "  </tbody>\n",
       "</table>\n",
       "</div>"
      ],
      "text/plain": [
       "               model   observed % diff\n",
       "county                                \n",
       "King      48,974,522 43,820,112  11.8%\n",
       "Kitsap     5,232,824  4,840,030   8.1%\n",
       "Pierce    21,703,384 17,994,803  20.6%\n",
       "Snohomish 19,419,325 15,825,794  22.7%\n",
       "Total     95,330,056 82,480,739  15.6%"
      ]
     },
     "execution_count": 3,
     "metadata": {},
     "output_type": "execute_result"
    }
   ],
   "source": [
    "df = pd.read_csv(os.path.join(valid_config['model_dir'], r'outputs/network/county_network.csv'))\n",
    "\n",
    "df_obs = pd.read_sql(\"SELECT * FROM observed_vmt WHERE year=\"+str(input_config['base_year']), con=conn)\n",
    "df_obs.rename(columns={'vmt': 'observed'}, inplace=True)\n",
    "\n",
    "df = df[['county_name','VMT']].merge(df_obs, left_on='county_name', right_on='county')\n",
    "df.rename(columns={'VMT': 'model'}, inplace=True)\n",
    "df.index = df['county']\n",
    "df[['observed','model']] = df[['observed','model']].astype('float')\n",
    "\n",
    "df.loc['Total',:] = df.sum().values\n",
    "\n",
    "df['% diff'] = (df['model']-df['observed'])/df['observed']\n",
    "df[['% diff']] = df[['% diff']].applymap(format_percent)\n",
    "df[['model','observed','% diff']]"
   ]
  },
  {
   "cell_type": "raw",
   "id": "12e1740a",
   "metadata": {},
   "source": [
    ":::"
   ]
  },
  {
   "cell_type": "markdown",
   "id": "916da9b1c4cbd6da",
   "metadata": {},
   "source": [
    "## Daily Traffic Counts"
   ]
  },
  {
   "cell_type": "raw",
   "id": "9ab84874b18330bc",
   "metadata": {},
   "source": [
    ":::{.panel-tabset}\n",
    "### traffic by facility type"
   ]
  },
  {
   "cell_type": "code",
   "execution_count": 4,
   "id": "3d0602498872d993",
   "metadata": {
    "ExecuteTime": {
     "end_time": "2024-06-24T21:13:27.250795Z",
     "start_time": "2024-06-24T21:13:26.984996Z"
    },
    "execution": {
     "iopub.execute_input": "2025-06-18T22:59:13.183186Z",
     "iopub.status.busy": "2025-06-18T22:59:13.182187Z",
     "iopub.status.idle": "2025-06-18T22:59:13.266865Z",
     "shell.execute_reply": "2025-06-18T22:59:13.265862Z"
    }
   },
   "outputs": [
    {
     "name": "stderr",
     "output_type": "stream",
     "text": [
      "C:\\Users\\Modeller\\AppData\\Local\\Temp\\ipykernel_22512\\3988584661.py:7: FutureWarning:\n",
      "\n",
      "DataFrame.applymap has been deprecated. Use DataFrame.map instead.\n",
      "\n"
     ]
    },
    {
     "data": {
      "text/html": [
       "<div>\n",
       "<style scoped>\n",
       "    .dataframe tbody tr th:only-of-type {\n",
       "        vertical-align: middle;\n",
       "    }\n",
       "\n",
       "    .dataframe tbody tr th {\n",
       "        vertical-align: top;\n",
       "    }\n",
       "\n",
       "    .dataframe thead th {\n",
       "        text-align: right;\n",
       "    }\n",
       "</style>\n",
       "<table border=\"1\" class=\"dataframe\">\n",
       "  <thead>\n",
       "    <tr style=\"text-align: right;\">\n",
       "      <th></th>\n",
       "      <th>observed</th>\n",
       "      <th>modeled</th>\n",
       "      <th>diff</th>\n",
       "      <th>percent_diff</th>\n",
       "    </tr>\n",
       "    <tr>\n",
       "      <th>@facilitytype</th>\n",
       "      <th></th>\n",
       "      <th></th>\n",
       "      <th></th>\n",
       "      <th></th>\n",
       "    </tr>\n",
       "  </thead>\n",
       "  <tbody>\n",
       "    <tr>\n",
       "      <th>Arterial</th>\n",
       "      <td>25,947,039</td>\n",
       "      <td>28,357,243</td>\n",
       "      <td>2,410,204</td>\n",
       "      <td>9.3%</td>\n",
       "    </tr>\n",
       "    <tr>\n",
       "      <th>Busway</th>\n",
       "      <td>4,664</td>\n",
       "      <td>2,679</td>\n",
       "      <td>-1,985</td>\n",
       "      <td>-42.6%</td>\n",
       "    </tr>\n",
       "    <tr>\n",
       "      <th>Collector</th>\n",
       "      <td>2,426,624</td>\n",
       "      <td>2,353,860</td>\n",
       "      <td>-72,764</td>\n",
       "      <td>-3.0%</td>\n",
       "    </tr>\n",
       "    <tr>\n",
       "      <th>Freeway</th>\n",
       "      <td>46,613,833</td>\n",
       "      <td>51,250,606</td>\n",
       "      <td>4,636,773</td>\n",
       "      <td>9.9%</td>\n",
       "    </tr>\n",
       "    <tr>\n",
       "      <th>HOV</th>\n",
       "      <td>246,054</td>\n",
       "      <td>308,264</td>\n",
       "      <td>62,210</td>\n",
       "      <td>25.3%</td>\n",
       "    </tr>\n",
       "    <tr>\n",
       "      <th>Ramp</th>\n",
       "      <td>346,844</td>\n",
       "      <td>295,450</td>\n",
       "      <td>-51,394</td>\n",
       "      <td>-14.8%</td>\n",
       "    </tr>\n",
       "    <tr>\n",
       "      <th>Total</th>\n",
       "      <td>75,585,058</td>\n",
       "      <td>82,568,102</td>\n",
       "      <td>6,983,044</td>\n",
       "      <td>9.2%</td>\n",
       "    </tr>\n",
       "  </tbody>\n",
       "</table>\n",
       "</div>"
      ],
      "text/plain": [
       "                observed    modeled      diff percent_diff\n",
       "@facilitytype                                             \n",
       "Arterial      25,947,039 28,357,243 2,410,204         9.3%\n",
       "Busway             4,664      2,679    -1,985       -42.6%\n",
       "Collector      2,426,624  2,353,860   -72,764        -3.0%\n",
       "Freeway       46,613,833 51,250,606 4,636,773         9.9%\n",
       "HOV              246,054    308,264    62,210        25.3%\n",
       "Ramp             346,844    295,450   -51,394       -14.8%\n",
       "Total         75,585,058 82,568,102 6,983,044         9.2%"
      ]
     },
     "execution_count": 4,
     "metadata": {},
     "output_type": "execute_result"
    }
   ],
   "source": [
    "df = pd.read_csv(os.path.join(csv_path, 'daily_volume.csv'))\n",
    "df[['modeled', 'observed']] = df[['modeled', 'observed']].astype('float')\n",
    "_df = df.groupby('@facilitytype').sum()[['observed', 'modeled']]\n",
    "_df.loc['Total', :] = _df.sum().values\n",
    "_df['diff'] = _df['modeled'] - _df['observed']\n",
    "_df['percent_diff'] = _df['diff'] / _df['observed']\n",
    "_df[['percent_diff']] = _df[['percent_diff']].applymap(format_percent)\n",
    "_df"
   ]
  },
  {
   "cell_type": "raw",
   "id": "318ed515b29396d1",
   "metadata": {},
   "source": [
    "### traffic by county"
   ]
  },
  {
   "cell_type": "code",
   "execution_count": 5,
   "id": "a9e08108f2b1ff34",
   "metadata": {
    "ExecuteTime": {
     "end_time": "2024-06-24T21:14:07.016217Z",
     "start_time": "2024-06-24T21:14:06.922235Z"
    },
    "execution": {
     "iopub.execute_input": "2025-06-18T22:59:13.272849Z",
     "iopub.status.busy": "2025-06-18T22:59:13.272849Z",
     "iopub.status.idle": "2025-06-18T22:59:13.307306Z",
     "shell.execute_reply": "2025-06-18T22:59:13.306311Z"
    }
   },
   "outputs": [
    {
     "name": "stderr",
     "output_type": "stream",
     "text": [
      "C:\\Users\\Modeller\\AppData\\Local\\Temp\\ipykernel_22512\\4255960492.py:8: FutureWarning:\n",
      "\n",
      "DataFrame.applymap has been deprecated. Use DataFrame.map instead.\n",
      "\n"
     ]
    },
    {
     "data": {
      "text/html": [
       "<div>\n",
       "<style scoped>\n",
       "    .dataframe tbody tr th:only-of-type {\n",
       "        vertical-align: middle;\n",
       "    }\n",
       "\n",
       "    .dataframe tbody tr th {\n",
       "        vertical-align: top;\n",
       "    }\n",
       "\n",
       "    .dataframe thead th {\n",
       "        text-align: right;\n",
       "    }\n",
       "</style>\n",
       "<table border=\"1\" class=\"dataframe\">\n",
       "  <thead>\n",
       "    <tr style=\"text-align: right;\">\n",
       "      <th></th>\n",
       "      <th>observed</th>\n",
       "      <th>modeled</th>\n",
       "      <th>diff</th>\n",
       "      <th>percent_diff</th>\n",
       "    </tr>\n",
       "    <tr>\n",
       "      <th>county</th>\n",
       "      <th></th>\n",
       "      <th></th>\n",
       "      <th></th>\n",
       "      <th></th>\n",
       "    </tr>\n",
       "  </thead>\n",
       "  <tbody>\n",
       "    <tr>\n",
       "      <th>King</th>\n",
       "      <td>41,560,507</td>\n",
       "      <td>45,747,236</td>\n",
       "      <td>4,186,729</td>\n",
       "      <td>10.1%</td>\n",
       "    </tr>\n",
       "    <tr>\n",
       "      <th>Kitsap</th>\n",
       "      <td>3,818,020</td>\n",
       "      <td>3,464,931</td>\n",
       "      <td>-353,089</td>\n",
       "      <td>-9.2%</td>\n",
       "    </tr>\n",
       "    <tr>\n",
       "      <th>Pierce</th>\n",
       "      <td>17,276,329</td>\n",
       "      <td>18,966,999</td>\n",
       "      <td>1,690,670</td>\n",
       "      <td>9.8%</td>\n",
       "    </tr>\n",
       "    <tr>\n",
       "      <th>Snohomish</th>\n",
       "      <td>12,930,202</td>\n",
       "      <td>14,388,936</td>\n",
       "      <td>1,458,734</td>\n",
       "      <td>11.3%</td>\n",
       "    </tr>\n",
       "    <tr>\n",
       "      <th>Total</th>\n",
       "      <td>75,585,058</td>\n",
       "      <td>82,568,102</td>\n",
       "      <td>6,983,044</td>\n",
       "      <td>9.2%</td>\n",
       "    </tr>\n",
       "  </tbody>\n",
       "</table>\n",
       "</div>"
      ],
      "text/plain": [
       "            observed    modeled      diff percent_diff\n",
       "county                                                \n",
       "King      41,560,507 45,747,236 4,186,729        10.1%\n",
       "Kitsap     3,818,020  3,464,931  -353,089        -9.2%\n",
       "Pierce    17,276,329 18,966,999 1,690,670         9.8%\n",
       "Snohomish 12,930,202 14,388,936 1,458,734        11.3%\n",
       "Total     75,585,058 82,568,102 6,983,044         9.2%"
      ]
     },
     "execution_count": 5,
     "metadata": {},
     "output_type": "execute_result"
    }
   ],
   "source": [
    "df = pd.read_csv(os.path.join(csv_path,'daily_volume_county_facility.csv'))\n",
    "df[['modeled','observed']] = df[['modeled','observed']].astype('float')\n",
    "\n",
    "_df = df.groupby('county').sum()[['observed','modeled']]\n",
    "_df.loc['Total',:] = _df.sum().values\n",
    "_df['diff'] = _df['modeled']-_df['observed']\n",
    "_df['percent_diff'] = _df['diff']/_df['observed']\n",
    "_df[['percent_diff']] = _df[['percent_diff']].applymap(format_percent)\n",
    "_df"
   ]
  },
  {
   "cell_type": "raw",
   "id": "4cbb7796cba1fac",
   "metadata": {},
   "source": [
    ":::"
   ]
  },
  {
   "cell_type": "markdown",
   "id": "1ed4a57b3001060f",
   "metadata": {},
   "source": [
    "## Daily Traffic Scatterplot"
   ]
  },
  {
   "cell_type": "raw",
   "id": "4769a675e263f0c4",
   "metadata": {},
   "source": [
    ":::{.panel-tabset}\n",
    "\n",
    "### all roads"
   ]
  },
  {
   "cell_type": "code",
   "execution_count": 6,
   "id": "2030adc6c52f8ab9",
   "metadata": {
    "ExecuteTime": {
     "end_time": "2024-06-24T21:40:18.699723Z",
     "start_time": "2024-06-24T21:40:18.277822Z"
    },
    "execution": {
     "iopub.execute_input": "2025-06-18T22:59:13.313875Z",
     "iopub.status.busy": "2025-06-18T22:59:13.312292Z",
     "iopub.status.idle": "2025-06-18T22:59:13.549239Z",
     "shell.execute_reply": "2025-06-18T22:59:13.548235Z"
    }
   },
   "outputs": [
    {
     "data": {
      "text/plain": [
       "[<matplotlib.lines.Line2D at 0x20726ac1690>]"
      ]
     },
     "execution_count": 6,
     "metadata": {},
     "output_type": "execute_result"
    },
    {
     "data": {
      "image/png": "[encoded data removed]",
      "text/plain": [
       "<Figure size 640x480 with 1 Axes>"
      ]
     },
     "metadata": {},
     "output_type": "display_data"
    }
   ],
   "source": [
    "df = pd.read_csv(os.path.join(csv_path,'daily_volume.csv'))\n",
    "ax = df.plot(kind='scatter', x='observed', y='modeled')\n",
    "lim = df[['observed','modeled']].max().max()*1.05\n",
    "ax.set_ylim(0,lim)\n",
    "ax.set_xlim(0,lim)\n",
    "x = np.linspace(*ax.get_xlim())\n",
    "ax.plot(x, x)"
   ]
  },
  {
   "cell_type": "code",
   "execution_count": 7,
   "id": "4121d8204203b7a1",
   "metadata": {
    "ExecuteTime": {
     "end_time": "2024-06-24T21:40:35.668359Z",
     "start_time": "2024-06-24T21:40:35.652845Z"
    },
    "execution": {
     "iopub.execute_input": "2025-06-18T22:59:13.555223Z",
     "iopub.status.busy": "2025-06-18T22:59:13.554226Z",
     "iopub.status.idle": "2025-06-18T22:59:13.568493Z",
     "shell.execute_reply": "2025-06-18T22:59:13.567383Z"
    }
   },
   "outputs": [
    {
     "name": "stdout",
     "output_type": "stream",
     "text": [
      "r^2: 0.9670146996938374\n"
     ]
    }
   ],
   "source": [
    "slope, intercept, r_value, p_value, std_err = stats.linregress(df['observed'],df['modeled'])\n",
    "print('r^2: ' + str(r_value))"
   ]
  },
  {
   "cell_type": "raw",
   "id": "1cf84d74ba6e5dcb",
   "metadata": {},
   "source": [
    "### by county"
   ]
  },
  {
   "cell_type": "code",
   "execution_count": 8,
   "id": "ed6c7a6a78b76539",
   "metadata": {
    "ExecuteTime": {
     "end_time": "2024-06-24T21:41:13.949480Z",
     "start_time": "2024-06-24T21:41:13.122059Z"
    },
    "execution": {
     "iopub.execute_input": "2025-06-18T22:59:13.575778Z",
     "iopub.status.busy": "2025-06-18T22:59:13.574781Z",
     "iopub.status.idle": "2025-06-18T22:59:14.185377Z",
     "shell.execute_reply": "2025-06-18T22:59:14.184274Z"
    }
   },
   "outputs": [
    {
     "name": "stdout",
     "output_type": "stream",
     "text": [
      "King r^2: 0.9695785826906169\n",
      "Kitsap r^2: 0.9615981747249349\n",
      "Pierce r^2: 0.9709621567811046\n",
      "Snohomish r^2: 0.9558659781464349\n"
     ]
    },
    {
     "data": {
      "image/png": "[encoded data removed]",
      "text/plain": [
       "<Figure size 640x480 with 1 Axes>"
      ]
     },
     "metadata": {},
     "output_type": "display_data"
    },
    {
     "data": {
      "image/png": "[encoded data removed]",
      "text/plain": [
       "<Figure size 640x480 with 1 Axes>"
      ]
     },
     "metadata": {},
     "output_type": "display_data"
    },
    {
     "data": {
      "image/png": "[encoded data removed]",
      "text/plain": [
       "<Figure size 640x480 with 1 Axes>"
      ]
     },
     "metadata": {},
     "output_type": "display_data"
    },
    {
     "data": {
      "image/png": "[encoded data removed]",
      "text/plain": [
       "<Figure size 640x480 with 1 Axes>"
      ]
     },
     "metadata": {},
     "output_type": "display_data"
    }
   ],
   "source": [
    "for county in np.unique(df['county']):\n",
    "    _df = df[df['county'] == county]\n",
    "    ax = _df.plot(kind='scatter', x='observed', y='modeled', label=county)\n",
    "    lim = _df[['observed','modeled']].max().max()*1.05\n",
    "    ax.set_ylim(0,lim)\n",
    "    ax.set_xlim(0,lim)\n",
    "    slope, intercept, r_value, p_value, std_err = stats.linregress(_df['observed'],_df['modeled'])\n",
    "    x = np.linspace(*ax.get_xlim())\n",
    "    ax.plot(x, x)\n",
    "    print(str(county) + ' r^2: ' + str(r_value))"
   ]
  },
  {
   "cell_type": "raw",
   "id": "33fd1eaf4a4116cd",
   "metadata": {},
   "source": [
    "### by facility type"
   ]
  },
  {
   "cell_type": "code",
   "execution_count": 9,
   "id": "d56f85ef",
   "metadata": {
    "execution": {
     "iopub.execute_input": "2025-06-18T22:59:14.190880Z",
     "iopub.status.busy": "2025-06-18T22:59:14.189879Z",
     "iopub.status.idle": "2025-06-18T22:59:14.201239Z",
     "shell.execute_reply": "2025-06-18T22:59:14.200236Z"
    }
   },
   "outputs": [
    {
     "data": {
      "text/plain": [
       "array(['Freeway', 'Ramp', 'HOV', 'Arterial', 'Collector', 'Busway'],\n",
       "      dtype=object)"
      ]
     },
     "execution_count": 9,
     "metadata": {},
     "output_type": "execute_result"
    }
   ],
   "source": [
    "df['@facilitytype'].unique()"
   ]
  },
  {
   "cell_type": "code",
   "execution_count": 10,
   "id": "4439d4607f364b6d",
   "metadata": {
    "ExecuteTime": {
     "end_time": "2024-06-24T21:41:37.621816Z",
     "start_time": "2024-06-24T21:41:37.152840Z"
    },
    "execution": {
     "iopub.execute_input": "2025-06-18T22:59:14.207224Z",
     "iopub.status.busy": "2025-06-18T22:59:14.205228Z",
     "iopub.status.idle": "2025-06-18T22:59:14.357741Z",
     "shell.execute_reply": "2025-06-18T22:59:14.356740Z"
    }
   },
   "outputs": [
    {
     "name": "stdout",
     "output_type": "stream",
     "text": [
      "r^2 Freeway: 0.935502352711039\n"
     ]
    },
    {
     "data": {
      "image/png": "[encoded data removed]",
      "text/plain": [
       "<Figure size 640x480 with 1 Axes>"
      ]
     },
     "metadata": {},
     "output_type": "display_data"
    }
   ],
   "source": [
    "# for factype in ['Freeway','Arterial']:\n",
    "for factype in ['Freeway']:\n",
    "    _df = df[df['@facilitytype'] == factype]\n",
    "    ax = _df.plot(kind='scatter', x='observed', y='modeled', label=factype)\n",
    "    lim = _df[['observed','modeled']].max().max()*1.05\n",
    "    ax.set_ylim(0,lim)\n",
    "    ax.set_xlim(0,lim)\n",
    "    x = np.linspace(*ax.get_xlim())\n",
    "    ax.plot(x, x)\n",
    "    slope, intercept, r_value, p_value, std_err = stats.linregress(_df['observed'],_df['modeled'])\n",
    "    print('r^2 ' + str(factype) + ': ' + str(r_value))"
   ]
  },
  {
   "cell_type": "raw",
   "id": "95fc70f3fe7ad579",
   "metadata": {},
   "source": [
    ":::"
   ]
  },
  {
   "cell_type": "code",
   "execution_count": 11,
   "id": "25272c3f",
   "metadata": {
    "execution": {
     "iopub.execute_input": "2025-06-18T22:59:14.363727Z",
     "iopub.status.busy": "2025-06-18T22:59:14.362730Z",
     "iopub.status.idle": "2025-06-18T22:59:14.368269Z",
     "shell.execute_reply": "2025-06-18T22:59:14.367274Z"
    }
   },
   "outputs": [],
   "source": [
    "## hourly volumnes"
   ]
  },
  {
   "cell_type": "code",
   "execution_count": 12,
   "id": "2c7cb227ac728135",
   "metadata": {
    "ExecuteTime": {
     "end_time": "2024-06-24T21:42:50.230565Z",
     "start_time": "2024-06-24T21:42:49.902592Z"
    },
    "execution": {
     "iopub.execute_input": "2025-06-18T22:59:14.373255Z",
     "iopub.status.busy": "2025-06-18T22:59:14.372258Z",
     "iopub.status.idle": "2025-06-18T22:59:14.379102Z",
     "shell.execute_reply": "2025-06-18T22:59:14.378114Z"
    }
   },
   "outputs": [],
   "source": [
    "# df = pd.read_csv(os.path.join(csv_path,'hourly_volume.csv'))\n",
    "# ax = df.plot(kind='scatter', x='observed', y='modeled')\n",
    "# lim = df[['observed','modeled']].max().max()*1.05\n",
    "# ax.set_ylim(0,lim)\n",
    "# ax.set_xlim(0,lim)\n",
    "# x = np.linspace(*ax.get_xlim())\n",
    "# ax.plot(x, x)\n",
    "# slope, intercept, r_value, p_value, std_err = stats.linregress(df['observed'],df['modeled'])\n",
    "# print('r^2: ' + str(r_value))"
   ]
  },
  {
   "cell_type": "markdown",
   "id": "570811475e66e98d",
   "metadata": {},
   "source": [
    "## Screenlines"
   ]
  },
  {
   "cell_type": "code",
   "execution_count": 13,
   "id": "6ee15d11aa23ee15",
   "metadata": {
    "ExecuteTime": {
     "end_time": "2024-06-24T21:43:33.293169Z",
     "start_time": "2024-06-24T21:43:33.194667Z"
    },
    "execution": {
     "iopub.execute_input": "2025-06-18T22:59:14.385087Z",
     "iopub.status.busy": "2025-06-18T22:59:14.384090Z",
     "iopub.status.idle": "2025-06-18T22:59:14.418965Z",
     "shell.execute_reply": "2025-06-18T22:59:14.417963Z"
    }
   },
   "outputs": [
    {
     "name": "stderr",
     "output_type": "stream",
     "text": [
      "C:\\Users\\Modeller\\AppData\\Local\\Temp\\ipykernel_22512\\2463447694.py:7: FutureWarning:\n",
      "\n",
      "DataFrame.applymap has been deprecated. Use DataFrame.map instead.\n",
      "\n"
     ]
    },
    {
     "data": {
      "text/html": [
       "<div>\n",
       "<style scoped>\n",
       "    .dataframe tbody tr th:only-of-type {\n",
       "        vertical-align: middle;\n",
       "    }\n",
       "\n",
       "    .dataframe tbody tr th {\n",
       "        vertical-align: top;\n",
       "    }\n",
       "\n",
       "    .dataframe thead th {\n",
       "        text-align: right;\n",
       "    }\n",
       "</style>\n",
       "<table border=\"1\" class=\"dataframe\">\n",
       "  <thead>\n",
       "    <tr style=\"text-align: right;\">\n",
       "      <th></th>\n",
       "      <th>name</th>\n",
       "      <th>observed</th>\n",
       "      <th>modeled</th>\n",
       "      <th>county</th>\n",
       "      <th>diff</th>\n",
       "      <th>percent_diff</th>\n",
       "    </tr>\n",
       "  </thead>\n",
       "  <tbody>\n",
       "    <tr>\n",
       "      <th>0</th>\n",
       "      <td>AUBURN - SOUTH KING</td>\n",
       "      <td>592,476</td>\n",
       "      <td>602,943</td>\n",
       "      <td>King</td>\n",
       "      <td>10,467</td>\n",
       "      <td>1.8%</td>\n",
       "    </tr>\n",
       "    <tr>\n",
       "      <th>1</th>\n",
       "      <td>KENT</td>\n",
       "      <td>559,335</td>\n",
       "      <td>497,046</td>\n",
       "      <td>King</td>\n",
       "      <td>-62,289</td>\n",
       "      <td>-11.1%</td>\n",
       "    </tr>\n",
       "    <tr>\n",
       "      <th>2</th>\n",
       "      <td>SHIP CANAL</td>\n",
       "      <td>481,563</td>\n",
       "      <td>533,780</td>\n",
       "      <td>King</td>\n",
       "      <td>52,217</td>\n",
       "      <td>10.8%</td>\n",
       "    </tr>\n",
       "    <tr>\n",
       "      <th>3</th>\n",
       "      <td>SEATTLE - SOUTH OF CBD</td>\n",
       "      <td>473,322</td>\n",
       "      <td>485,438</td>\n",
       "      <td>King</td>\n",
       "      <td>12,116</td>\n",
       "      <td>2.6%</td>\n",
       "    </tr>\n",
       "    <tr>\n",
       "      <th>4</th>\n",
       "      <td>MILL CREEK</td>\n",
       "      <td>391,447</td>\n",
       "      <td>439,189</td>\n",
       "      <td>King</td>\n",
       "      <td>47,742</td>\n",
       "      <td>12.2%</td>\n",
       "    </tr>\n",
       "    <tr>\n",
       "      <th>5</th>\n",
       "      <td>SOUTH BELLEVUE</td>\n",
       "      <td>389,700</td>\n",
       "      <td>386,477</td>\n",
       "      <td>King</td>\n",
       "      <td>-3,223</td>\n",
       "      <td>-0.8%</td>\n",
       "    </tr>\n",
       "    <tr>\n",
       "      <th>6</th>\n",
       "      <td>KIRKLAND-REDMOND</td>\n",
       "      <td>380,783</td>\n",
       "      <td>442,549</td>\n",
       "      <td>King</td>\n",
       "      <td>61,766</td>\n",
       "      <td>16.2%</td>\n",
       "    </tr>\n",
       "    <tr>\n",
       "      <th>7</th>\n",
       "      <td>SEATTLE - NORTH</td>\n",
       "      <td>356,051</td>\n",
       "      <td>378,527</td>\n",
       "      <td>King</td>\n",
       "      <td>22,476</td>\n",
       "      <td>6.3%</td>\n",
       "    </tr>\n",
       "    <tr>\n",
       "      <th>8</th>\n",
       "      <td>TACOMA - EAST OF CBD</td>\n",
       "      <td>324,463</td>\n",
       "      <td>379,183</td>\n",
       "      <td>Pierce</td>\n",
       "      <td>54,720</td>\n",
       "      <td>16.9%</td>\n",
       "    </tr>\n",
       "    <tr>\n",
       "      <th>9</th>\n",
       "      <td>PARKLAND</td>\n",
       "      <td>299,722</td>\n",
       "      <td>320,498</td>\n",
       "      <td>Pierce</td>\n",
       "      <td>20,776</td>\n",
       "      <td>6.9%</td>\n",
       "    </tr>\n",
       "    <tr>\n",
       "      <th>10</th>\n",
       "      <td>BOTHELL</td>\n",
       "      <td>291,573</td>\n",
       "      <td>358,656</td>\n",
       "      <td>King</td>\n",
       "      <td>67,083</td>\n",
       "      <td>23.0%</td>\n",
       "    </tr>\n",
       "    <tr>\n",
       "      <th>11</th>\n",
       "      <td>LYNNWOOD-BOTHELL</td>\n",
       "      <td>260,099</td>\n",
       "      <td>340,678</td>\n",
       "      <td>King</td>\n",
       "      <td>80,579</td>\n",
       "      <td>31.0%</td>\n",
       "    </tr>\n",
       "    <tr>\n",
       "      <th>12</th>\n",
       "      <td>TUKWILA</td>\n",
       "      <td>257,776</td>\n",
       "      <td>275,016</td>\n",
       "      <td>King</td>\n",
       "      <td>17,240</td>\n",
       "      <td>6.7%</td>\n",
       "    </tr>\n",
       "    <tr>\n",
       "      <th>13</th>\n",
       "      <td>TRANSLAKE</td>\n",
       "      <td>222,188</td>\n",
       "      <td>303,979</td>\n",
       "      <td>King</td>\n",
       "      <td>81,791</td>\n",
       "      <td>36.8%</td>\n",
       "    </tr>\n",
       "    <tr>\n",
       "      <th>14</th>\n",
       "      <td>PUYALLUP</td>\n",
       "      <td>128,700</td>\n",
       "      <td>139,299</td>\n",
       "      <td>Pierce</td>\n",
       "      <td>10,599</td>\n",
       "      <td>8.2%</td>\n",
       "    </tr>\n",
       "    <tr>\n",
       "      <th>15</th>\n",
       "      <td>WOODINVILLE</td>\n",
       "      <td>116,355</td>\n",
       "      <td>152,423</td>\n",
       "      <td>King</td>\n",
       "      <td>36,068</td>\n",
       "      <td>31.0%</td>\n",
       "    </tr>\n",
       "    <tr>\n",
       "      <th>16</th>\n",
       "      <td>NORTH KITSAP</td>\n",
       "      <td>104,890</td>\n",
       "      <td>92,546</td>\n",
       "      <td>Kitsap</td>\n",
       "      <td>-12,344</td>\n",
       "      <td>-11.8%</td>\n",
       "    </tr>\n",
       "    <tr>\n",
       "      <th>17</th>\n",
       "      <td>TACOMA NARROWS</td>\n",
       "      <td>97,300</td>\n",
       "      <td>119,566</td>\n",
       "      <td>Pierce</td>\n",
       "      <td>22,266</td>\n",
       "      <td>22.9%</td>\n",
       "    </tr>\n",
       "    <tr>\n",
       "      <th>18</th>\n",
       "      <td>PRESTON-ISSAQUAH</td>\n",
       "      <td>86,462</td>\n",
       "      <td>87,290</td>\n",
       "      <td>King</td>\n",
       "      <td>828</td>\n",
       "      <td>1.0%</td>\n",
       "    </tr>\n",
       "    <tr>\n",
       "      <th>19</th>\n",
       "      <td>GIG HARBOR</td>\n",
       "      <td>84,875</td>\n",
       "      <td>95,099</td>\n",
       "      <td>Pierce</td>\n",
       "      <td>10,224</td>\n",
       "      <td>12.0%</td>\n",
       "    </tr>\n",
       "    <tr>\n",
       "      <th>20</th>\n",
       "      <td>SEATAC</td>\n",
       "      <td>72,402</td>\n",
       "      <td>80,160</td>\n",
       "      <td>King</td>\n",
       "      <td>7,758</td>\n",
       "      <td>10.7%</td>\n",
       "    </tr>\n",
       "    <tr>\n",
       "      <th>21</th>\n",
       "      <td>MAPLE VALLEY</td>\n",
       "      <td>70,813</td>\n",
       "      <td>65,883</td>\n",
       "      <td>King</td>\n",
       "      <td>-4,930</td>\n",
       "      <td>-7.0%</td>\n",
       "    </tr>\n",
       "    <tr>\n",
       "      <th>22</th>\n",
       "      <td>RENTON</td>\n",
       "      <td>68,127</td>\n",
       "      <td>76,024</td>\n",
       "      <td>King</td>\n",
       "      <td>7,897</td>\n",
       "      <td>11.6%</td>\n",
       "    </tr>\n",
       "    <tr>\n",
       "      <th>23</th>\n",
       "      <td>AGATE PASS BRIDGE</td>\n",
       "      <td>21,000</td>\n",
       "      <td>22,968</td>\n",
       "      <td>Kitsap</td>\n",
       "      <td>1,968</td>\n",
       "      <td>9.4%</td>\n",
       "    </tr>\n",
       "    <tr>\n",
       "      <th>24</th>\n",
       "      <td>CROSS SOUND</td>\n",
       "      <td>14,302</td>\n",
       "      <td>29,055</td>\n",
       "      <td>Kitsap</td>\n",
       "      <td>14,753</td>\n",
       "      <td>103.2%</td>\n",
       "    </tr>\n",
       "    <tr>\n",
       "      <th>25</th>\n",
       "      <td>TOTAL</td>\n",
       "      <td>6,145,724</td>\n",
       "      <td>6,704,274</td>\n",
       "      <td>NaN</td>\n",
       "      <td>558,550</td>\n",
       "      <td>9.1%</td>\n",
       "    </tr>\n",
       "  </tbody>\n",
       "</table>\n",
       "</div>"
      ],
      "text/plain": [
       "                      name  observed   modeled  county    diff percent_diff\n",
       "0      AUBURN - SOUTH KING   592,476   602,943    King  10,467         1.8%\n",
       "1                     KENT   559,335   497,046    King -62,289       -11.1%\n",
       "2               SHIP CANAL   481,563   533,780    King  52,217        10.8%\n",
       "3   SEATTLE - SOUTH OF CBD   473,322   485,438    King  12,116         2.6%\n",
       "4               MILL CREEK   391,447   439,189    King  47,742        12.2%\n",
       "5           SOUTH BELLEVUE   389,700   386,477    King  -3,223        -0.8%\n",
       "6         KIRKLAND-REDMOND   380,783   442,549    King  61,766        16.2%\n",
       "7          SEATTLE - NORTH   356,051   378,527    King  22,476         6.3%\n",
       "8     TACOMA - EAST OF CBD   324,463   379,183  Pierce  54,720        16.9%\n",
       "9                 PARKLAND   299,722   320,498  Pierce  20,776         6.9%\n",
       "10                 BOTHELL   291,573   358,656    King  67,083        23.0%\n",
       "11        LYNNWOOD-BOTHELL   260,099   340,678    King  80,579        31.0%\n",
       "12                 TUKWILA   257,776   275,016    King  17,240         6.7%\n",
       "13               TRANSLAKE   222,188   303,979    King  81,791        36.8%\n",
       "14                PUYALLUP   128,700   139,299  Pierce  10,599         8.2%\n",
       "15             WOODINVILLE   116,355   152,423    King  36,068        31.0%\n",
       "16            NORTH KITSAP   104,890    92,546  Kitsap -12,344       -11.8%\n",
       "17          TACOMA NARROWS    97,300   119,566  Pierce  22,266        22.9%\n",
       "18        PRESTON-ISSAQUAH    86,462    87,290    King     828         1.0%\n",
       "19              GIG HARBOR    84,875    95,099  Pierce  10,224        12.0%\n",
       "20                  SEATAC    72,402    80,160    King   7,758        10.7%\n",
       "21            MAPLE VALLEY    70,813    65,883    King  -4,930        -7.0%\n",
       "22                  RENTON    68,127    76,024    King   7,897        11.6%\n",
       "23       AGATE PASS BRIDGE    21,000    22,968  Kitsap   1,968         9.4%\n",
       "24             CROSS SOUND    14,302    29,055  Kitsap  14,753       103.2%\n",
       "25                   TOTAL 6,145,724 6,704,274     NaN 558,550         9.1%"
      ]
     },
     "execution_count": 13,
     "metadata": {},
     "output_type": "execute_result"
    }
   ],
   "source": [
    "df = pd.read_csv(os.path.join(csv_path,'screenlines.csv'))\n",
    "df.loc[df.index.max() + 1]= df.sum(numeric_only=True)\n",
    "#df = df.append(df.sum(numeric_only=True), ignore_index=True)\n",
    "df.at[df.index[-1], 'name'] = 'TOTAL'\n",
    "#df.at['C', 'name'] = 10\n",
    "df['percent_diff'] = df['diff']/df['observed']\n",
    "df[['percent_diff']] = df[['percent_diff']].applymap(format_percent)\n",
    "df"
   ]
  },
  {
   "cell_type": "code",
   "execution_count": 14,
   "id": "85e33c82ecdece63",
   "metadata": {
    "ExecuteTime": {
     "end_time": "2024-06-24T21:43:47.402427Z",
     "start_time": "2024-06-24T21:43:47.214746Z"
    },
    "execution": {
     "iopub.execute_input": "2025-06-18T22:59:14.423952Z",
     "iopub.status.busy": "2025-06-18T22:59:14.422954Z",
     "iopub.status.idle": "2025-06-18T22:59:14.563182Z",
     "shell.execute_reply": "2025-06-18T22:59:14.562131Z"
    }
   },
   "outputs": [
    {
     "name": "stdout",
     "output_type": "stream",
     "text": [
      "r^2 : 0.9838389338378044\n"
     ]
    },
    {
     "data": {
      "image/png": "[encoded data removed]",
      "text/plain": [
       "<Figure size 640x480 with 1 Axes>"
      ]
     },
     "metadata": {},
     "output_type": "display_data"
    }
   ],
   "source": [
    "df = df.head(-1)\n",
    "ax = df.plot(kind='scatter', x='observed', y='modeled')\n",
    "lim = df[['observed','modeled']].max().max()*1.05\n",
    "ax.set_ylim(0,lim)\n",
    "ax.set_xlim(0,lim)\n",
    "x = np.linspace(*ax.get_xlim())\n",
    "ax.plot(x, x)\n",
    "slope, intercept, r_value, p_value, std_err = stats.linregress(df['observed'],df['modeled'])\n",
    "print('r^2 : ' + str(r_value))"
   ]
  },
  {
   "cell_type": "markdown",
   "id": "6e3acde1",
   "metadata": {},
   "source": [
    "# External Stations"
   ]
  },
  {
   "cell_type": "raw",
   "id": "bf56b611",
   "metadata": {},
   "source": [
    ":::{.panel-tabset}\n",
    "### Observed vs Model Counts"
   ]
  },
  {
   "cell_type": "code",
   "execution_count": 15,
   "id": "3995fd29",
   "metadata": {
    "execution": {
     "iopub.execute_input": "2025-06-18T22:59:14.569235Z",
     "iopub.status.busy": "2025-06-18T22:59:14.568130Z",
     "iopub.status.idle": "2025-06-18T22:59:14.594050Z",
     "shell.execute_reply": "2025-06-18T22:59:14.593055Z"
    }
   },
   "outputs": [
    {
     "name": "stderr",
     "output_type": "stream",
     "text": [
      "C:\\Users\\Modeller\\AppData\\Local\\Temp\\ipykernel_22512\\2144700014.py:3: FutureWarning:\n",
      "\n",
      "DataFrame.applymap has been deprecated. Use DataFrame.map instead.\n",
      "\n"
     ]
    },
    {
     "data": {
      "text/html": [
       "<div>\n",
       "<style scoped>\n",
       "    .dataframe tbody tr th:only-of-type {\n",
       "        vertical-align: middle;\n",
       "    }\n",
       "\n",
       "    .dataframe tbody tr th {\n",
       "        vertical-align: top;\n",
       "    }\n",
       "\n",
       "    .dataframe thead th {\n",
       "        text-align: right;\n",
       "    }\n",
       "</style>\n",
       "<table border=\"1\" class=\"dataframe\">\n",
       "  <thead>\n",
       "    <tr style=\"text-align: right;\">\n",
       "      <th></th>\n",
       "      <th>external_station</th>\n",
       "      <th>location</th>\n",
       "      <th>county</th>\n",
       "      <th>observed</th>\n",
       "      <th>modeled</th>\n",
       "      <th>diff</th>\n",
       "      <th>percent_diff</th>\n",
       "    </tr>\n",
       "  </thead>\n",
       "  <tbody>\n",
       "    <tr>\n",
       "      <th>0</th>\n",
       "      <td>3733</td>\n",
       "      <td>I-5 to Olympia</td>\n",
       "      <td>Pierce</td>\n",
       "      <td>129,250</td>\n",
       "      <td>133,689</td>\n",
       "      <td>4,439</td>\n",
       "      <td>3.4%</td>\n",
       "    </tr>\n",
       "    <tr>\n",
       "      <th>1</th>\n",
       "      <td>3744</td>\n",
       "      <td>I-5 to Mount Vernon</td>\n",
       "      <td>Snohomish</td>\n",
       "      <td>65,880</td>\n",
       "      <td>79,207</td>\n",
       "      <td>13,327</td>\n",
       "      <td>20.2%</td>\n",
       "    </tr>\n",
       "    <tr>\n",
       "      <th>2</th>\n",
       "      <td>3739</td>\n",
       "      <td>I-90 @ Snoqualmie Pass</td>\n",
       "      <td>King</td>\n",
       "      <td>30,500</td>\n",
       "      <td>44,363</td>\n",
       "      <td>13,863</td>\n",
       "      <td>45.5%</td>\n",
       "    </tr>\n",
       "    <tr>\n",
       "      <th>3</th>\n",
       "      <td>3734</td>\n",
       "      <td>SR-507 to Yelm</td>\n",
       "      <td>Pierce</td>\n",
       "      <td>22,700</td>\n",
       "      <td>25,630</td>\n",
       "      <td>2,930</td>\n",
       "      <td>12.9%</td>\n",
       "    </tr>\n",
       "    <tr>\n",
       "      <th>4</th>\n",
       "      <td>3746</td>\n",
       "      <td>SR-532 to Camano Island</td>\n",
       "      <td>Snohomish</td>\n",
       "      <td>21,250</td>\n",
       "      <td>22,839</td>\n",
       "      <td>1,589</td>\n",
       "      <td>7.5%</td>\n",
       "    </tr>\n",
       "    <tr>\n",
       "      <th>5</th>\n",
       "      <td>3749</td>\n",
       "      <td>SR-3 to Belfair</td>\n",
       "      <td>Kitsap</td>\n",
       "      <td>20,329</td>\n",
       "      <td>22,882</td>\n",
       "      <td>2,553</td>\n",
       "      <td>12.6%</td>\n",
       "    </tr>\n",
       "    <tr>\n",
       "      <th>6</th>\n",
       "      <td>3748</td>\n",
       "      <td>Hood Canal Bridge</td>\n",
       "      <td>Kitsap</td>\n",
       "      <td>18,200</td>\n",
       "      <td>21,184</td>\n",
       "      <td>2,984</td>\n",
       "      <td>16.4%</td>\n",
       "    </tr>\n",
       "    <tr>\n",
       "      <th>7</th>\n",
       "      <td>3747</td>\n",
       "      <td>Mukilteo-Clinton Ferry</td>\n",
       "      <td>Snohomish</td>\n",
       "      <td>9,800</td>\n",
       "      <td>7,865</td>\n",
       "      <td>-1,935</td>\n",
       "      <td>-19.7%</td>\n",
       "    </tr>\n",
       "    <tr>\n",
       "      <th>8</th>\n",
       "      <td>3745</td>\n",
       "      <td>SR-530 N/O Stanwood</td>\n",
       "      <td>Snohomish</td>\n",
       "      <td>9,100</td>\n",
       "      <td>9,126</td>\n",
       "      <td>26</td>\n",
       "      <td>0.3%</td>\n",
       "    </tr>\n",
       "    <tr>\n",
       "      <th>9</th>\n",
       "      <td>3750</td>\n",
       "      <td>SR-302 to Shelton</td>\n",
       "      <td>Pierce</td>\n",
       "      <td>4,550</td>\n",
       "      <td>6,526</td>\n",
       "      <td>1,976</td>\n",
       "      <td>43.4%</td>\n",
       "    </tr>\n",
       "    <tr>\n",
       "      <th>10</th>\n",
       "      <td>3740</td>\n",
       "      <td>SR-2 @ Stevens Pass</td>\n",
       "      <td>King</td>\n",
       "      <td>3,050</td>\n",
       "      <td>6,175</td>\n",
       "      <td>3,125</td>\n",
       "      <td>102.4%</td>\n",
       "    </tr>\n",
       "    <tr>\n",
       "      <th>11</th>\n",
       "      <td>3735</td>\n",
       "      <td>SR-7 to Morton</td>\n",
       "      <td>Pierce</td>\n",
       "      <td>2,900</td>\n",
       "      <td>3,077</td>\n",
       "      <td>177</td>\n",
       "      <td>6.1%</td>\n",
       "    </tr>\n",
       "    <tr>\n",
       "      <th>12</th>\n",
       "      <td>3742</td>\n",
       "      <td>SR-530 N/O Darrington</td>\n",
       "      <td>Snohomish</td>\n",
       "      <td>2,100</td>\n",
       "      <td>2,176</td>\n",
       "      <td>76</td>\n",
       "      <td>3.6%</td>\n",
       "    </tr>\n",
       "    <tr>\n",
       "      <th>13</th>\n",
       "      <td>3736</td>\n",
       "      <td>SR-706 to Longmire</td>\n",
       "      <td>Pierce</td>\n",
       "      <td>1,800</td>\n",
       "      <td>1,827</td>\n",
       "      <td>27</td>\n",
       "      <td>1.5%</td>\n",
       "    </tr>\n",
       "    <tr>\n",
       "      <th>14</th>\n",
       "      <td>3743</td>\n",
       "      <td>SR-9 N/O Arlington</td>\n",
       "      <td>Snohomish</td>\n",
       "      <td>1,450</td>\n",
       "      <td>1,570</td>\n",
       "      <td>120</td>\n",
       "      <td>8.2%</td>\n",
       "    </tr>\n",
       "    <tr>\n",
       "      <th>15</th>\n",
       "      <td>3738</td>\n",
       "      <td>SR 410 E/O Cayuse Pass</td>\n",
       "      <td>Pierce</td>\n",
       "      <td>1,200</td>\n",
       "      <td>1,041</td>\n",
       "      <td>-159</td>\n",
       "      <td>-13.2%</td>\n",
       "    </tr>\n",
       "    <tr>\n",
       "      <th>16</th>\n",
       "      <td>3737</td>\n",
       "      <td>SR-123 S/O Cayuse Pass</td>\n",
       "      <td>Pierce</td>\n",
       "      <td>920</td>\n",
       "      <td>1,077</td>\n",
       "      <td>157</td>\n",
       "      <td>17.1%</td>\n",
       "    </tr>\n",
       "    <tr>\n",
       "      <th>17</th>\n",
       "      <td>3741</td>\n",
       "      <td>SR-92 to Monte Carlo</td>\n",
       "      <td>Snohomish</td>\n",
       "      <td>90</td>\n",
       "      <td>87</td>\n",
       "      <td>-3</td>\n",
       "      <td>-3.0%</td>\n",
       "    </tr>\n",
       "  </tbody>\n",
       "</table>\n",
       "</div>"
      ],
      "text/plain": [
       "    external_station                 location     county  observed  modeled  \\\n",
       "0               3733           I-5 to Olympia     Pierce   129,250  133,689   \n",
       "1               3744      I-5 to Mount Vernon  Snohomish    65,880   79,207   \n",
       "2               3739   I-90 @ Snoqualmie Pass       King    30,500   44,363   \n",
       "3               3734           SR-507 to Yelm     Pierce    22,700   25,630   \n",
       "4               3746  SR-532 to Camano Island  Snohomish    21,250   22,839   \n",
       "5               3749          SR-3 to Belfair     Kitsap    20,329   22,882   \n",
       "6               3748        Hood Canal Bridge     Kitsap    18,200   21,184   \n",
       "7               3747   Mukilteo-Clinton Ferry  Snohomish     9,800    7,865   \n",
       "8               3745      SR-530 N/O Stanwood  Snohomish     9,100    9,126   \n",
       "9               3750        SR-302 to Shelton     Pierce     4,550    6,526   \n",
       "10              3740      SR-2 @ Stevens Pass       King     3,050    6,175   \n",
       "11              3735           SR-7 to Morton     Pierce     2,900    3,077   \n",
       "12              3742    SR-530 N/O Darrington  Snohomish     2,100    2,176   \n",
       "13              3736       SR-706 to Longmire     Pierce     1,800    1,827   \n",
       "14              3743       SR-9 N/O Arlington  Snohomish     1,450    1,570   \n",
       "15              3738   SR 410 E/O Cayuse Pass     Pierce     1,200    1,041   \n",
       "16              3737   SR-123 S/O Cayuse Pass     Pierce       920    1,077   \n",
       "17              3741     SR-92 to Monte Carlo  Snohomish        90       87   \n",
       "\n",
       "     diff percent_diff  \n",
       "0   4,439         3.4%  \n",
       "1  13,327        20.2%  \n",
       "2  13,863        45.5%  \n",
       "3   2,930        12.9%  \n",
       "4   1,589         7.5%  \n",
       "5   2,553        12.6%  \n",
       "6   2,984        16.4%  \n",
       "7  -1,935       -19.7%  \n",
       "8      26         0.3%  \n",
       "9   1,976        43.4%  \n",
       "10  3,125       102.4%  \n",
       "11    177         6.1%  \n",
       "12     76         3.6%  \n",
       "13     27         1.5%  \n",
       "14    120         8.2%  \n",
       "15   -159       -13.2%  \n",
       "16    157        17.1%  \n",
       "17     -3        -3.0%  "
      ]
     },
     "execution_count": 15,
     "metadata": {},
     "output_type": "execute_result"
    }
   ],
   "source": [
    "df = pd.read_csv(os.path.join(csv_path,'external_volumes.csv'))\n",
    "df['percent_diff'] = df['diff']/df['observed']\n",
    "df[['percent_diff']] = df[['percent_diff']].applymap(format_percent)\n",
    "df"
   ]
  },
  {
   "cell_type": "code",
   "execution_count": 16,
   "id": "9006a5e5",
   "metadata": {
    "execution": {
     "iopub.execute_input": "2025-06-18T22:59:14.600039Z",
     "iopub.status.busy": "2025-06-18T22:59:14.598041Z",
     "iopub.status.idle": "2025-06-18T22:59:14.728998Z",
     "shell.execute_reply": "2025-06-18T22:59:14.727995Z"
    }
   },
   "outputs": [
    {
     "name": "stdout",
     "output_type": "stream",
     "text": [
      "r^2 : 0.9940236069905113\n"
     ]
    },
    {
     "data": {
      "image/png": "[encoded data removed]",
      "text/plain": [
       "<Figure size 640x480 with 1 Axes>"
      ]
     },
     "metadata": {},
     "output_type": "display_data"
    }
   ],
   "source": [
    "df = df.head(-1)\n",
    "ax = df.plot(kind='scatter', x='observed', y='modeled')\n",
    "lim = df[['observed','modeled']].max().max()*1.05\n",
    "ax.set_ylim(0,lim)\n",
    "ax.set_xlim(0,lim)\n",
    "x = np.linspace(*ax.get_xlim())\n",
    "ax.plot(x, x)\n",
    "slope, intercept, r_value, p_value, std_err = stats.linregress(df['observed'],df['modeled'])\n",
    "print('r^2 : ' + str(r_value))"
   ]
  },
  {
   "cell_type": "raw",
   "id": "7cd73d93",
   "metadata": {},
   "source": [
    "### Model VMT/Trips by Mode"
   ]
  },
  {
   "cell_type": "code",
   "execution_count": 17,
   "id": "4632dadd",
   "metadata": {
    "execution": {
     "iopub.execute_input": "2025-06-18T22:59:14.734592Z",
     "iopub.status.busy": "2025-06-18T22:59:14.733594Z",
     "iopub.status.idle": "2025-06-18T22:59:44.599758Z",
     "shell.execute_reply": "2025-06-18T22:59:44.598755Z"
    }
   },
   "outputs": [],
   "source": [
    "## External trips/VMT\n",
    "\n",
    "df_23 = h5py.File(os.path.join(valid_config['model_dir'], 'inputs/model/daysim/roster/7to8.h5'))\n",
    "df_23_skims_sov = df_23['Skims']['sov_inc2d'][:]/100\n",
    "df_23_skims_hov2 = df_23['Skims']['hov2_inc2d'][:]/100\n",
    "df_23_skims_hov3 = df_23['Skims']['hov3_inc2d'][:]/100\n",
    "\n",
    "df_results_new = pd.DataFrame()\n",
    "\n",
    "tod_list = ['5to6', '6to7', '7to8', '8to9', '9to10', '10to14', '14to15', '15to16', '16to17', '17to18', '18to20', '20to5']\n",
    "for tod in tod_list:\n",
    "#     print(tod)\n",
    "    df_temp = pd.DataFrame()\n",
    "    for mode in ['sov','hov2','hov3']:\n",
    "#         print(mode)\n",
    "        od_new = h5py.File(os.path.join(valid_config['model_dir'], 'outputs/supplemental/external_work_'+tod+'.h5'), 'r')[mode][:]\n",
    "        df_temp.loc[tod,mode+'_vmt'] = (df_23_skims_sov*od_new).sum()\n",
    "        df_temp.loc[tod,mode+'_trips'] = od_new.sum()\n",
    "        df_temp.loc[tod,mode+'_avg_dist'] = df_temp.loc[tod,mode+'_vmt']/df_temp.loc[tod,mode+'_trips']\n",
    "    df_results_new = pd.concat([df_results_new, df_temp ])"
   ]
  },
  {
   "cell_type": "code",
   "execution_count": 18,
   "id": "b8c74662",
   "metadata": {
    "execution": {
     "iopub.execute_input": "2025-06-18T22:59:44.606740Z",
     "iopub.status.busy": "2025-06-18T22:59:44.604745Z",
     "iopub.status.idle": "2025-06-18T22:59:44.627853Z",
     "shell.execute_reply": "2025-06-18T22:59:44.626858Z"
    }
   },
   "outputs": [
    {
     "data": {
      "text/html": [
       "<div>\n",
       "<style scoped>\n",
       "    .dataframe tbody tr th:only-of-type {\n",
       "        vertical-align: middle;\n",
       "    }\n",
       "\n",
       "    .dataframe tbody tr th {\n",
       "        vertical-align: top;\n",
       "    }\n",
       "\n",
       "    .dataframe thead th {\n",
       "        text-align: right;\n",
       "    }\n",
       "</style>\n",
       "<table border=\"1\" class=\"dataframe\">\n",
       "  <thead>\n",
       "    <tr style=\"text-align: right;\">\n",
       "      <th></th>\n",
       "      <th>VMT</th>\n",
       "      <th>Trips</th>\n",
       "      <th>Avg Distance</th>\n",
       "    </tr>\n",
       "  </thead>\n",
       "  <tbody>\n",
       "    <tr>\n",
       "      <th>SOV</th>\n",
       "      <td>9,728,400</td>\n",
       "      <td>313,204</td>\n",
       "      <td>31</td>\n",
       "    </tr>\n",
       "    <tr>\n",
       "      <th>HOV2</th>\n",
       "      <td>739,916</td>\n",
       "      <td>24,112</td>\n",
       "      <td>31</td>\n",
       "    </tr>\n",
       "    <tr>\n",
       "      <th>HOV3</th>\n",
       "      <td>272,036</td>\n",
       "      <td>8,360</td>\n",
       "      <td>33</td>\n",
       "    </tr>\n",
       "    <tr>\n",
       "      <th>Total</th>\n",
       "      <td>10,740,352</td>\n",
       "      <td>345,676</td>\n",
       "      <td>31</td>\n",
       "    </tr>\n",
       "  </tbody>\n",
       "</table>\n",
       "</div>"
      ],
      "text/plain": [
       "             VMT   Trips  Avg Distance\n",
       "SOV    9,728,400 313,204            31\n",
       "HOV2     739,916  24,112            31\n",
       "HOV3     272,036   8,360            33\n",
       "Total 10,740,352 345,676            31"
      ]
     },
     "execution_count": 18,
     "metadata": {},
     "output_type": "execute_result"
    }
   ],
   "source": [
    "df_vmt = pd.DataFrame(df_results_new[['sov_vmt','hov2_vmt','hov3_vmt']].sum(),\n",
    "            columns=['VMT'])\n",
    "df_vmt.index = [i.split('_')[0].upper() for i in df_vmt.index]\n",
    "\n",
    "df_trips = pd.DataFrame(df_results_new[['sov_trips','hov2_trips','hov3_trips']].sum(),\n",
    "            columns=['Trips'])\n",
    "df_trips.index = [i.split('_')[0].upper() for i in df_trips.index]\n",
    "\n",
    "df = df_vmt.merge(df_trips, left_index=True, right_index=True)\n",
    "\n",
    "df.loc['Total',:] = df.sum(axis=0)\n",
    "df['Avg Distance'] = df['VMT']/df['Trips']\n",
    "df"
   ]
  },
  {
   "cell_type": "raw",
   "id": "ab13d57a",
   "metadata": {
    "vscode": {
     "languageId": "raw"
    }
   },
   "source": [
    ":::"
   ]
  },
  {
   "cell_type": "markdown",
   "id": "f49c3f61",
   "metadata": {},
   "source": [
    "# Trucks"
   ]
  },
  {
   "cell_type": "code",
   "execution_count": 19,
   "id": "aa5ec0de",
   "metadata": {
    "execution": {
     "iopub.execute_input": "2025-06-18T22:59:44.634836Z",
     "iopub.status.busy": "2025-06-18T22:59:44.632839Z",
     "iopub.status.idle": "2025-06-18T22:59:44.662366Z",
     "shell.execute_reply": "2025-06-18T22:59:44.661762Z"
    }
   },
   "outputs": [],
   "source": [
    "daily_counts = pd.read_sql(\"SELECT * FROM daily_counts WHERE year=\"+str(input_config['base_year']), con=conn)\n",
    "\n",
    "daily_counts['htrk_vehicles'] = daily_counts['htrk_vehicles'].astype('float').fillna(-1)\n",
    "\n",
    "facility_type_lookup = {\n",
    "    1: \"Freeway\",  # Interstate\n",
    "    2: \"Freeway\",  # Ohter Freeway\n",
    "    3: \"Freeway\",  # Expressway\n",
    "    4: \"Ramp\",\n",
    "    5: \"Arterial\",  # Principal arterial\n",
    "    6: \"Arterial\",  # Minor Arterial\n",
    "    7: \"Collector\",  # Major Collector\n",
    "    8: \"Collector\",  # Minor Collector\n",
    "    9: \"Collector\",  # Local\n",
    "    10: \"Busway\",\n",
    "    11: \"Non-Motor\",\n",
    "    12: \"Light Rail\",\n",
    "    13: \"Commuter Rail\",\n",
    "    15: \"Ferry\",\n",
    "    16: \"Passenger Only Ferry\",\n",
    "    17: \"Connector\",  # centroid connector\n",
    "    18: \"Connector\",  # facility connector\n",
    "    19: \"HOV\",  # HOV Only Freeway\n",
    "    20: \"HOV\",  # HOV Flag\n",
    "}"
   ]
  },
  {
   "cell_type": "code",
   "execution_count": 20,
   "id": "c61e0773",
   "metadata": {
    "execution": {
     "iopub.execute_input": "2025-06-18T22:59:44.668359Z",
     "iopub.status.busy": "2025-06-18T22:59:44.667361Z",
     "iopub.status.idle": "2025-06-18T22:59:57.651790Z",
     "shell.execute_reply": "2025-06-18T22:59:57.651790Z"
    }
   },
   "outputs": [],
   "source": [
    "# FIXME: move to validation.py\n",
    "\n",
    "df_network = pd.read_csv(os.path.join(valid_config['model_dir'], 'outputs/network/network_results.csv'))\n",
    "model_vol_df = df_network.copy()\n",
    "model_vol_df[\"@facilitytype\"] = model_vol_df[\"@facilitytype\"].map(\n",
    "    facility_type_lookup\n",
    ")\n",
    "\n",
    "# Get daily and model volumes\n",
    "df_daily = (\n",
    "    model_vol_df.groupby([\"@countid\"])\n",
    "    .agg({\"@tveh\": \"sum\", \"@facilitytype\": \"first\", '@mveh': 'sum', '@hveh': 'sum'})\n",
    "    .reset_index()\n",
    ")\n",
    "\n",
    "# Merge observed with model\n",
    "df_daily = df_daily.merge(daily_counts, left_on=\"@countid\", right_on=\"flag\")"
   ]
  },
  {
   "cell_type": "code",
   "execution_count": 21,
   "id": "13d5e93b",
   "metadata": {
    "execution": {
     "iopub.execute_input": "2025-06-18T22:59:57.657770Z",
     "iopub.status.busy": "2025-06-18T22:59:57.657770Z",
     "iopub.status.idle": "2025-06-18T22:59:57.666745Z",
     "shell.execute_reply": "2025-06-18T22:59:57.665748Z"
    }
   },
   "outputs": [],
   "source": [
    "county_lookup = {\n",
    "    33: 'King',\n",
    "    35: 'Kitsap',\n",
    "    53: 'Pierce',\n",
    "    61: 'Snohomish'\n",
    "}\n",
    "\n",
    "df_daily['County'] = df_daily['countyid'].map(county_lookup)"
   ]
  },
  {
   "cell_type": "code",
   "execution_count": 22,
   "id": "7087ce17",
   "metadata": {
    "execution": {
     "iopub.execute_input": "2025-06-18T22:59:57.669737Z",
     "iopub.status.busy": "2025-06-18T22:59:57.668740Z",
     "iopub.status.idle": "2025-06-18T22:59:57.683998Z",
     "shell.execute_reply": "2025-06-18T22:59:57.683004Z"
    }
   },
   "outputs": [],
   "source": [
    "df_daily_med = df_daily.copy()\n",
    "df_daily_med.rename(columns={'@mveh': 'Model', 'mtrk_vehicles': 'Observed'}, inplace=True)\n",
    "df_daily_med = df_daily_med[~df_daily_med['Observed'].isnull()]\n",
    "for col in ['Model','Observed']:\n",
    "    df_daily_med[col] = df_daily_med[col].astype('int')\n",
    "df_daily_med = df_daily_med[df_daily_med['Observed'] > 0]\n",
    "\n",
    "df_daily_heavy = df_daily.copy()\n",
    "df_daily_heavy.rename(columns={'@hveh': 'Model', 'htrk_vehicles': 'Observed'}, inplace=True)\n",
    "df_daily_heavy = df_daily_heavy[~df_daily_heavy['Observed'].isnull()]\n",
    "for col in ['Model','Observed']:\n",
    "    df_daily_heavy[col] = df_daily_heavy[col].astype('int')\n",
    "df_daily_heavy = df_daily_heavy[df_daily_heavy['Observed'] > 0]"
   ]
  },
  {
   "cell_type": "code",
   "execution_count": 23,
   "id": "77254978",
   "metadata": {
    "execution": {
     "iopub.execute_input": "2025-06-18T22:59:57.687118Z",
     "iopub.status.busy": "2025-06-18T22:59:57.686608Z",
     "iopub.status.idle": "2025-06-18T22:59:57.700793Z",
     "shell.execute_reply": "2025-06-18T22:59:57.699800Z"
    }
   },
   "outputs": [],
   "source": [
    "def create_truck_chart(df_daily, truck_type, county=None):\n",
    "\n",
    "    if county:\n",
    "        df_daily = df_daily[df_daily['County'] == county]\n",
    "        title = truck_type + ' Trucks: '+county\n",
    "    else:\n",
    "        title = truck_type + ' Trucks: Region'\n",
    "\n",
    "    slope, intercept, r_value, p_value, std_err = stats.linregress(df_daily['Observed'], df_daily['Model'])\n",
    "\n",
    "    fig = px.scatter(df_daily, y='Model', x='Observed', title=title, hover_data=['location','County'])\n",
    "    fig.update_layout(height=600, width=800, margin=dict(l=100, r=100, t=100, b=100))\n",
    "\n",
    "    # Get max value, either observed or modeled\n",
    "    max_val = df_daily[['Observed','Model']].max().max()\n",
    "\n",
    "    # Add 45-degree line\n",
    "    fig.add_shape(\n",
    "        type=\"line\",\n",
    "        x0=0, y0=0,\n",
    "        x1=max_val, y1=max_val,\n",
    "        line=dict(color=\"Red\", width=2, dash=\"dash\")\n",
    "    )\n",
    "\n",
    "    # Add best fit line\n",
    "    x_fit = np.linspace(0, max(df_daily['Observed']), 100)\n",
    "    y_fit = slope * x_fit + intercept\n",
    "    fig.add_trace(px.line(x=x_fit, y=y_fit, labels={'x':'Observed', 'y':'Model'}).data[0])\n",
    "    fig.update_traces(line=dict(color=\"Grey\", width=2))\n",
    "\n",
    "    # Add label for 45-degree line\n",
    "\n",
    "    fig.add_annotation(\n",
    "        x=max_val*1.05,\n",
    "        y=max_val*1.05,\n",
    "        text='y = x',\n",
    "        showarrow=False,\n",
    "        font=dict(size=12, color=\"pink\"),\n",
    "        align=\"right\"\n",
    "    )\n",
    "\n",
    "    # Add R-squared value as annotation\n",
    "    fig.add_annotation(\n",
    "        x=max(x_fit)*1.05,\n",
    "        y=max(y_fit)*1.05,\n",
    "        text=f'r^2 = {r_value**2:.2f}',\n",
    "        showarrow=False,\n",
    "        font=dict(size=12, color=\"black\"),\n",
    "        align=\"right\"\n",
    "    )\n",
    "\n",
    "    return fig\n"
   ]
  },
  {
   "cell_type": "markdown",
   "id": "1b416bfb",
   "metadata": {},
   "source": [
    "### Heavy Truck Counts"
   ]
  },
  {
   "cell_type": "raw",
   "id": "60e42113",
   "metadata": {
    "vscode": {
     "languageId": "raw"
    }
   },
   "source": [
    ":::{.panel-tabset}\n",
    "\n",
    "#### Region"
   ]
  },
  {
   "cell_type": "code",
   "execution_count": 24,
   "id": "27e84bb1",
   "metadata": {
    "execution": {
     "iopub.execute_input": "2025-06-18T22:59:57.703786Z",
     "iopub.status.busy": "2025-06-18T22:59:57.703786Z",
     "iopub.status.idle": "2025-06-18T22:59:58.165927Z",
     "shell.execute_reply": "2025-06-18T22:59:58.164924Z"
    }
   },
   "outputs": [
    {
     "data": {
      "text/html": [
       "        <script type=\"text/javascript\">\n",
       "        window.PlotlyConfig = {MathJaxConfig: 'local'};\n",
       "        if (window.MathJax && window.MathJax.Hub && window.MathJax.Hub.Config) {window.MathJax.Hub.Config({SVG: {font: \"STIX-Web\"}});}\n",
       "        </script>\n",
       "        <script type=\"module\">import \"https://cdn.plot.ly/plotly-3.0.1.min\"</script>\n",
       "        "
      ]
     },
     "metadata": {},
     "output_type": "display_data"
    },
    {
     "data": {
      "application/vnd.plotly.v1+json": {
       "config": {
        "plotlyServerURL": "https://plot.ly"
       },
       "data": [
        {
         "customdata": [
          [
           "I-5 S/O Mounts NB",
           "Pierce"
          ],
          [
           "I-5 S/O Mounts SB",
           "Pierce"
          ],
          [
           "I-5 S/O Division NB",
           "Pierce"
          ],
          [
           "I-5 S/O Division SB",
           "Pierce"
          ],
          [
           "I-5 @ N/O Division NB",
           "Pierce"
          ],
          [
           "I-5 @ N/O Division SB",
           "Pierce"
          ],
          [
           "I-5 S/O SR-512 NB",
           "Pierce"
          ],
          [
           "I-5 S/O SR-512 SB",
           "Pierce"
          ],
          [
           "I-5 N/O SR-512 NB",
           "Pierce"
          ],
          [
           "I-5 N/O SR-512 SB",
           "Pierce"
          ],
          [
           "I-5 N/O 56th NB",
           "Pierce"
          ],
          [
           "I-5 N/O 56th SB",
           "Pierce"
          ],
          [
           "I-5 E/O SR-16 NB",
           "Pierce"
          ],
          [
           "I-5 E/O SR-16 SB",
           "Pierce"
          ],
          [
           "I-5 E/O Port of Tacoma NB",
           "Pierce"
          ],
          [
           "I-5 E/O Port of Tacoma SB (HOV from 56)",
           "Pierce"
          ],
          [
           "I-5 S/O 205th NB",
           "King"
          ],
          [
           "I-5 S/O 205th SB",
           "King"
          ],
          [
           "I-5 @ 44th NB",
           "Snohomish"
          ],
          [
           "I-5 @ 44th SB",
           "Snohomish"
          ],
          [
           "I-5 N/O 164th NB",
           "Snohomish"
          ],
          [
           "I-5 N/O 164th SB",
           "Snohomish"
          ],
          [
           "I-5 N/O SR-526 NB",
           "Snohomish"
          ],
          [
           "I-5 N/O SR-526 SB",
           "Snohomish"
          ],
          [
           "I-5 N/O 41st NB",
           "Snohomish"
          ],
          [
           "I-5 N/O 41st SB",
           "Snohomish"
          ],
          [
           "I-5 @ SR-528 NB",
           "Snohomish"
          ],
          [
           "I-5 @ SR-528 SB",
           "Snohomish"
          ],
          [
           "I-5 N/O SR-531 NB",
           "Snohomish"
          ],
          [
           "I-5 N/O SR-531 SB",
           "Snohomish"
          ],
          [
           "I-5 Rev N/O I-5 GP NB/SB",
           "King"
          ],
          [
           "I-90 E/O I-5 WB",
           "King"
          ],
          [
           "I-90 E/O I-5 EB",
           "King"
          ],
          [
           "I-90 E/O W Lk Sam WB",
           "King"
          ],
          [
           "I-90 E/O W Lk Sam EB",
           "King"
          ],
          [
           "I-90 E/O SR-900 WB",
           "King"
          ],
          [
           "I-405 @ I-5 Southcenter NB",
           "King"
          ],
          [
           "I-405 @ I-5 Southcenter SB",
           "King"
          ],
          [
           "I-405 @ Lake Wash Blvd NB",
           "King"
          ],
          [
           "I-405 @ I-90 NB",
           "King"
          ],
          [
           "I-405 @ I-90 SB",
           "King"
          ],
          [
           "I-405 N/O SR-527 NB",
           "Snohomish"
          ],
          [
           "I-405 N/O SR-527 SB",
           "Snohomish"
          ],
          [
           "SR-525 N/O I-5 NB",
           "Snohomish"
          ],
          [
           "SR-525 N/O I-5 SB",
           "Snohomish"
          ],
          [
           "SR-520 @ x-lake bridge WB",
           "King"
          ],
          [
           "SR-520 @ x-lake bridge EB",
           "King"
          ],
          [
           "SR-167 S/O 43rd NB",
           "King"
          ],
          [
           "SR-167 S/O 43rd SB",
           "King"
          ],
          [
           "SR-167 N/O SR-18 NB",
           "King"
          ],
          [
           "SR-167 N/O SR-18 SB",
           "King"
          ],
          [
           "SR-167 S/O 15th SW NB",
           "King"
          ],
          [
           "SR-167 S/O 15th SW SB",
           "King"
          ],
          [
           "SR-512 W/O Meridian WB",
           "Pierce"
          ],
          [
           "SR-512 W/O Meridian EB",
           "Pierce"
          ],
          [
           "SR-509 @ Holden NB",
           "King"
          ],
          [
           "SR-509 @ Holden SB",
           "King"
          ],
          [
           "SR-99 N/O 14th NB",
           "King"
          ],
          [
           "SR-99 N/O 14th SB",
           "King"
          ],
          [
           "SR-99 N/O WSF NB",
           "King"
          ],
          [
           "SR-99 N/O WSF SB",
           "King"
          ],
          [
           "SR-99 tunnel NB",
           "King"
          ],
          [
           "SR-99 tunnel SB",
           "King"
          ],
          [
           "SR-599 S/O Pacific NB",
           "King"
          ],
          [
           "SR-599 S/O Pacific SB",
           "King"
          ],
          [
           "SR-599 @ Pacific NB",
           "King"
          ],
          [
           "SR-599 @ Pacific SB",
           "King"
          ],
          [
           "SR-18 @ I-5 WB",
           "King"
          ],
          [
           "SR-18 @ I-5 EB",
           "King"
          ],
          [
           "SR-18 W/O Auburn-Black Diamond WB",
           "King"
          ],
          [
           "SR-18 W/O Auburn-Black Diamond EB",
           "King"
          ],
          [
           "SR-18 E/O SR-516 WB",
           "King"
          ],
          [
           "SR-18 E/O SR-516 EB",
           "King"
          ],
          [
           "SR-18 E/O 256th WB",
           "King"
          ],
          [
           "SR-18 E/O 256th EB",
           "King"
          ],
          [
           "SR-522 N/O 195th WB",
           "King"
          ],
          [
           "SR-522 N/O 195th EB",
           "King"
          ],
          [
           "I-5 N/O I-5 Rev CBD NB/SB",
           "King"
          ],
          [
           "I-5 @ SR-532 NB/SB",
           "Snohomish"
          ],
          [
           "I-5 @ Skagit border NB/SB",
           "Snohomish"
          ],
          [
           "I-90 W/O SR-18 WB/EB",
           "King"
          ],
          [
           "I-90 E/O SR-18 WB/EB",
           "King"
          ],
          [
           "I-90 E/O 436th WB/EB",
           "King"
          ],
          [
           "I-90 @ Kittitas County WB/EB",
           "King"
          ],
          [
           "I-405 N/O SR-522 NB/SB",
           "King"
          ],
          [
           "SR-525 N/O SR-526 NB/SB",
           "Snohomish"
          ],
          [
           "SR-525 N/O 5th NB/SB",
           "Snohomish"
          ],
          [
           "SR-167 N/O Grady NB/SB",
           "King"
          ],
          [
           "SR-167 W/O SR-410 NB/SB",
           "Pierce"
          ],
          [
           "SR-167 E/O SR-161 NB/SB",
           "Pierce"
          ],
          [
           "SR-410 E/O S Prairie WB/EB",
           "Pierce"
          ],
          [
           "SR-410 E/O 244th WB/EB",
           "King"
          ],
          [
           "SR-410 E/O Farman WB/EB",
           "King"
          ],
          [
           "SR-410 @ Greenwater River WB/EB",
           "King"
          ],
          [
           "SR-410 E/O Chinook WB/EB",
           "Pierce"
          ],
          [
           "SR-410 W/O SR-123 WB/EB",
           "Pierce"
          ],
          [
           "SR-410 E/O SR-123 WB/EB",
           "Pierce"
          ],
          [
           "SR-512 @ I-5 WB/EB",
           "Pierce"
          ],
          [
           "SR-512 W/O SR-7 WB/EB",
           "Pierce"
          ],
          [
           "SR-512 S/O SR-167 WB/EB",
           "Pierce"
          ],
          [
           "SR-509 E/O I-705 NB/SB",
           "Pierce"
          ],
          [
           "SR-509 W/O Alexander NB/SB",
           "Pierce"
          ],
          [
           "SR-509 S/O 11th NB/SB",
           "Pierce"
          ],
          [
           "SR-509 N/O Hyada NB/SB",
           "Pierce"
          ],
          [
           "SR-509 E/O Soundview NB/SB",
           "Pierce"
          ],
          [
           "SR-509 E/O 47th NB/SB",
           "King"
          ],
          [
           "SR-509 E/O 21st NB/SB",
           "King"
          ],
          [
           "SR-509 W/O SR-516 NB/SB",
           "King"
          ],
          [
           "SR-509 W/O Des Moines Mem NB/SB",
           "King"
          ],
          [
           "SR-509 E/O 1st Ave NB/SB",
           "King"
          ],
          [
           "SR-509 E/O Des Moines Mem NB/SB",
           "King"
          ],
          [
           "SR-509 N/O Des Moines Mem NB/SB",
           "King"
          ],
          [
           "SR-509 N/O SR-518 NB/SB",
           "King"
          ],
          [
           "SR-99 @ I-5 NB/SB",
           "Pierce"
          ],
          [
           "SR-99 E/O 54th NB/SB",
           "Pierce"
          ],
          [
           "SR-99 S/O Porter NB/SB",
           "Pierce"
          ],
          [
           "SR-99 S/O SR-18 NB/SB",
           "King"
          ],
          [
           "SR-99 N/O SR-18 NB/SB",
           "King"
          ],
          [
           "SR-99 N/O 320th NB/SB",
           "King"
          ],
          [
           "SR-99 N/O 188th NB/SB",
           "King"
          ],
          [
           "SR-99 @ WSF NB/SB",
           "King"
          ],
          [
           "SR-99 @ Aurora Bridge NB/SB",
           "King"
          ],
          [
           "SR-99 N/O 38th NB/SB",
           "King"
          ],
          [
           "SR-99 S/O Roosevelt NB/SB",
           "King"
          ],
          [
           "SR-99 E/O Evergreen NB/SB",
           "Snohomish"
          ],
          [
           "SR-599 N/O I-5 NB/SB",
           "King"
          ],
          [
           "SR-518 @ SR-509 WB/EB",
           "King"
          ],
          [
           "SR-518 E/O SR-509 WB/EB",
           "King"
          ],
          [
           "SR-18 E/O SR-99 WB/EB",
           "King"
          ],
          [
           "SR-18 N/O 304th WB/EB",
           "King"
          ],
          [
           "SR-18 S/O I-90 WB/EB",
           "King"
          ],
          [
           "SR-16 @ TNB NB/SB",
           "Pierce"
          ],
          [
           "SR-16 @ Purdy Dr NB/SB",
           "Pierce"
          ],
          [
           "SR-16  N/O SR-302 NB/SB",
           "Kitsap"
          ],
          [
           "SR-16 N/O SR-160 NB/SB",
           "Kitsap"
          ],
          [
           "SR-16 N/O Tremont NB/SB",
           "Kitsap"
          ],
          [
           "SR-16 S/O SR-3 NB",
           "Kitsap"
          ],
          [
           "SR-202 @ SR-522 NB/SB",
           "King"
          ],
          [
           "SR-202 N/O 145th NB/SB",
           "King"
          ],
          [
           "SR-202 @ Sammamish River Br NB/SB",
           "King"
          ],
          [
           "SR-202 S/O 144th NB/SB",
           "King"
          ],
          [
           "SR-202 N/O Redmond Way NB/SB",
           "King"
          ],
          [
           "SR-202 E/O 164th NB/SB",
           "King"
          ],
          [
           "SR-202 E/O SR-520 NB/SB",
           "King"
          ],
          [
           "SR-202 E/O E Lk Samm NB/SB",
           "King"
          ],
          [
           "SR-202 E/O Sahalee NB/SB",
           "King"
          ],
          [
           "SR-202 E/O 236th NB/SB",
           "King"
          ],
          [
           "SR-202 S/O Ames Lake NB/SB",
           "King"
          ],
          [
           "SR-202 S/O Duthie Hill NB/SB",
           "King"
          ],
          [
           "SR-202 E/O SR-203 NB/SB",
           "King"
          ],
          [
           "SR-202 N/O I-90 NB/SB",
           "King"
          ],
          [
           "SR-526 W/O Paine Field Blvd WB/EB",
           "Snohomish"
          ],
          [
           "SR-526 E/O Paine Field Blvd WB/EB",
           "Snohomish"
          ],
          [
           "SR-9 @ SR-522 NB/SB",
           "Snohomish"
          ],
          [
           "SR-9 N/O SR-2 NB/SB",
           "Snohomish"
          ],
          [
           "SR-9 N/O SR-204 NB/SB",
           "Snohomish"
          ],
          [
           "SR-9 N/O SR-92 NB/SB",
           "Snohomish"
          ],
          [
           "SR-9 N/O 132nd NB/SB",
           "Snohomish"
          ],
          [
           "SR-9 N/O SR-531 NB/SB",
           "Snohomish"
          ],
          [
           "SR-9 S/O 67th NB/SB",
           "Snohomish"
          ],
          [
           "SR-9 N/O Kackman NB/SB",
           "Snohomish"
          ],
          [
           "SR-9 N/O Stanwood-Bryant NB/SB",
           "Snohomish"
          ],
          [
           "SR-532 @ Island County WB/EB",
           "Snohomish"
          ],
          [
           "SR-532 W/O 28th WB/EB",
           "Snohomish"
          ],
          [
           "SR-522 N/O 145th NB/SB",
           "King"
          ],
          [
           "SR-104 @ Hood Canal Bridge WB/EB",
           "Kitsap"
          ],
          [
           "SR-104 E/O Hood Canal Bridge WB/EB",
           "Kitsap"
          ],
          [
           "SR-104 N/O Pt Gamble Rd WB/EB",
           "Kitsap"
          ],
          [
           "SR-104 E/O SR-307 WB/EB",
           "Kitsap"
          ],
          [
           "SR-104 E/O Hansville WB/EB",
           "Kitsap"
          ],
          [
           "SR-104 @ Ferry Loading Edm WB/EB",
           "Snohomish"
          ],
          [
           "SR-104 N/O Pine WB/EB",
           "Snohomish"
          ],
          [
           "SR-104 E/O 5th WB/EB",
           "Snohomish"
          ],
          [
           "SR-104 W/O 19th WB/EB",
           "King"
          ],
          [
           "SR-160 @ SR-16 WB/EB",
           "Kitsap"
          ],
          [
           "SR-160 E/O Long Lake Rd WB/EB",
           "Kitsap"
          ],
          [
           "SR-160 W/O Banner WB/EB",
           "Kitsap"
          ],
          [
           "SR-160 E/O Peterson WB/EB",
           "Kitsap"
          ],
          [
           "SR-160 S/O Southworth Dr WB/EB",
           "Kitsap"
          ],
          [
           "SR-166 E/O SR-16 WB/EB",
           "Kitsap"
          ],
          [
           "SR-3 E/O Sunset Way NB/SB",
           "Kitsap"
          ],
          [
           "SR-3 N/O SR-305 NB/SB",
           "Kitsap"
          ],
          [
           "SR-3 S/O Newberry Hill Rd NB/SB",
           "Kitsap"
          ],
          [
           "SR-3 @ SR-304 NB/SB",
           "Kitsap"
          ],
          [
           "SR-3 NE of SR-16 NB/SB",
           "Kitsap"
          ],
          [
           "SR-3 W/O Lake Flora Rd NB/SB",
           "Kitsap"
          ],
          [
           "SR-302 N/O 144th WB/EB",
           "Pierce"
          ],
          [
           "SR-302 S/O 144th WB/EB",
           "Pierce"
          ],
          [
           "SR-302 W/O Key Peninsula Hwy WB/EB",
           "Pierce"
          ],
          [
           "SR-302 W/O Wright-Bliss WB/EB (E/O?)",
           "Pierce"
          ],
          [
           "SR-303 E/O SR-3 NB/SB",
           "Kitsap"
          ],
          [
           "SR-303 N/O 11th St NB/SB",
           "Kitsap"
          ],
          [
           "SR-303 N/O SR-304 NB/SB",
           "Kitsap"
          ],
          [
           "SR-304 E/O SR-3 WB/EB",
           "Kitsap"
          ],
          [
           "SR-304 W/O Naval WB/EB",
           "Kitsap"
          ],
          [
           "SR-305 W/O SR-307 WB/EB",
           "Kitsap"
          ],
          [
           "SR-305 W/O Suquamish Way WB/EB",
           "Kitsap"
          ],
          [
           "SR-305 N/O Day Rd WB/EB",
           "Kitsap"
          ],
          [
           "SR-305 N/O High School Rd WB/EB",
           "Kitsap"
          ],
          [
           "SR-305 S/O Winslow Way WB/EB",
           "Kitsap"
          ],
          [
           "SR-305 @ Ferry Ramp WB/EB",
           "Kitsap"
          ],
          [
           "SR-307 W/O SR-104 NB/SB",
           "Kitsap"
          ],
          [
           "SR-307 N/O Gunderson NB/SB",
           "Kitsap"
          ],
          [
           "SR-307 S/O Gunderson NB/SB",
           "Kitsap"
          ],
          [
           "SR-307 N/O SR-305 NB/SB",
           "Kitsap"
          ],
          [
           "SR-308 @ SR-3 WB/EB",
           "Kitsap"
          ],
          [
           "SR-308 E/O SR-3 WB/EB",
           "Kitsap"
          ],
          [
           "SR-308 E/O Silverdale Way WB/EB",
           "Kitsap"
          ],
          [
           "SR-308 W/O Brownsville Hwy WB/EB",
           "Kitsap"
          ],
          [
           "SR-310 @ SR-3 WB/EB",
           "Kitsap"
          ],
          [
           "SR-310 W/O Callow WB/EB",
           "Kitsap"
          ],
          [
           "SR-516 E/O SR-509 WB/EB",
           "King"
          ],
          [
           "SR-516 W/O I-5 WB/EB",
           "King"
          ],
          [
           "SR-516 E/O Meeker WB/EB",
           "King"
          ],
          [
           "SR-516 W/O SR-167 WB/EB",
           "King"
          ],
          [
           "SR-516 E/O SR-167 WB/EB",
           "King"
          ],
          [
           "SR-516 E/O SR-18 WB/EB",
           "King"
          ],
          [
           "SR-161 E/O SR-7 NB/SB",
           "Pierce"
          ],
          [
           "SR-161 N/O Center NB/SB",
           "Pierce"
          ],
          [
           "SR-161 N/O Eatonville Cutoff NB/SB",
           "Pierce"
          ],
          [
           "SR-161 N/O 304th NB/SB",
           "Pierce"
          ],
          [
           "SR-161 N/O 264th NB/SB",
           "Pierce"
          ],
          [
           "SR-161 S/O 224th NB/SB",
           "Pierce"
          ],
          [
           "SR-161 N/O 224th NB/SB",
           "Pierce"
          ],
          [
           "SR-161 N/O 200th NB/SB",
           "Pierce"
          ],
          [
           "SR-161 S/O SR-167 SB off-ramp NB/SB",
           "Pierce"
          ],
          [
           "SR-161 S/O Valley NB/SB",
           "Pierce"
          ],
          [
           "SR-161 N/O Valley NB/SB",
           "Pierce"
          ],
          [
           "SR-161 N/O 8th NB/SB",
           "Pierce"
          ],
          [
           "SR-900 S/O NB I-5 on-ramp @ Boe Acc WB/EB",
           "King"
          ],
          [
           "SR-900 E/O 68th WB/EB",
           "King"
          ],
          [
           "SR-900 @ I-405 WB/EB",
           "King"
          ],
          [
           "SR-900 E/O 148th WB/EB",
           "King"
          ],
          [
           "SR-900 N/O Talus WB/EB",
           "King"
          ],
          [
           "SR-900 N/O Newport WB/EB",
           "King"
          ],
          [
           "SR-524 W/O 3rd WB/EB",
           "Snohomish"
          ],
          [
           "SR-524 S/O Main WB/EB",
           "Snohomish"
          ],
          [
           "SR-524 N/O Main WB/EB",
           "Snohomish"
          ],
          [
           "SR-524 E/O 68th WB/EB",
           "Snohomish"
          ],
          [
           "SR-524 E/O 39th WB/EB",
           "Snohomish"
          ],
          [
           "SR-7 @ Thurston County NB/SB",
           "Pierce"
          ],
          [
           "SR-7 W/O Alder Cutoff NB/SB",
           "Pierce"
          ],
          [
           "SR-7 N/O Eatonville Hwy NB/SB",
           "Pierce"
          ],
          [
           "SR-7 N/O Silver Lake NB/SB",
           "Pierce"
          ],
          [
           "SR-7 S/O SR-702 NB/SB",
           "Pierce"
          ],
          [
           "SR-7 N/O 304th NB/SB",
           "Pierce"
          ],
          [
           "SR-7 N/O 260th NB/SB",
           "Pierce"
          ],
          [
           "SR-7 S/O 224th NB/SB",
           "Pierce"
          ],
          [
           "SR-7 N/O 224th NB/SB",
           "Pierce"
          ],
          [
           "SR-7 N/O 38th NB/SB",
           "Pierce"
          ],
          [
           "SR-2 E/O I-5 WB/EB",
           "Snohomish"
          ],
          [
           "SR-2 S/O SR-204 WB/EB",
           "Snohomish"
          ],
          [
           "SR-2 E/O Main WB/EB",
           "Snohomish"
          ],
          [
           "SR-2 E/O Rice WB/EB",
           "Snohomish"
          ],
          [
           "SR-2 E/O 10th (Gold Bar) WB/EB",
           "Snohomish"
          ],
          [
           "SR-2 W/O Index-Galena WB/EB",
           "Snohomish"
          ],
          [
           "SR-2 E/O Index-Galena WB/EB",
           "Snohomish"
          ],
          [
           "SR-2 E/O Skykomish WB/EB",
           "King"
          ],
          [
           "SR-527 N/O I-405 NB/SB",
           "Snohomish"
          ],
          [
           "SR-527 N/O 196th NB/SB",
           "Snohomish"
          ],
          [
           "SR-527 N/O Dumas NB/SB",
           "Snohomish"
          ],
          [
           "SR-527 N/O 100th NB/SB",
           "Snohomish"
          ],
          [
           "SR-513 S/O 44th NB/SB",
           "King"
          ],
          [
           "SR-169 N/O SR-164 NB/SB",
           "King"
          ],
          [
           "SR-169 S/O Lawson NB/SB",
           "King"
          ],
          [
           "SR-169 S/O 280th NB/SB",
           "King"
          ],
          [
           "SR-169 N/O 276th NB/SB",
           "King"
          ],
          [
           "SR-169 N/O 231st NB/SB",
           "King"
          ],
          [
           "SR-169 N/O 231st NB/SB",
           "King"
          ],
          [
           "SR-169 W/O 140th NB/SB",
           "King"
          ],
          [
           "SR-515 N/O SR-516 NB/SB",
           "King"
          ],
          [
           "SR-515 N/O 108th NB/SB",
           "King"
          ],
          [
           "SR-515 N/O Puget NB/SB",
           "King"
          ],
          [
           "SR-181 N/O SR-516 NB/SB",
           "King"
          ],
          [
           "SR-181 S/O James NB/SB",
           "King"
          ],
          [
           "SR-181 N/O James NB/SB",
           "King"
          ],
          [
           "SR-181 N/O 228th NB/SB",
           "King"
          ],
          [
           "SR-181 N/O 180th NB/SB",
           "King"
          ],
          [
           "SR-181 S/O Longacres NB/SB",
           "King"
          ],
          [
           "SR-523 E/O Lenora WB/EB",
           "King"
          ],
          [
           "SR-529 @ I-5 (Evt) NB/SB",
           "Snohomish"
          ],
          [
           "SR-529 S/O Everett NB/SB",
           "Snohomish"
          ],
          [
           "SR-529 W/O Maple NB/SB",
           "Snohomish"
          ],
          [
           "SR-529 N/O Everett NB/SB",
           "Snohomish"
          ],
          [
           "SR-529 N/O Broadway NB/SB",
           "Snohomish"
          ],
          [
           "SR-96 @ I-5 WB/EB",
           "Snohomish"
          ],
          [
           "SR-96 N/O 132nd WB/EB",
           "Snohomish"
          ],
          [
           "SR-96 E/O Seattle Hill WB/EB",
           "Snohomish"
          ],
          [
           "SR-164 @ SR-18 WB/EB",
           "King"
          ],
          [
           "SR-164 S/O 400th WB/EB",
           "King"
          ],
          [
           "SR-528 @ I-5 WB/EB",
           "Snohomish"
          ],
          [
           "SR-528 E/O SR-529 WB/EB",
           "Snohomish"
          ],
          [
           "SR-531 N/O Rose WB/EB",
           "Snohomish"
          ],
          [
           "SR-531 E/O Lk Goodwin WB/EB",
           "Snohomish"
          ],
          [
           "SR-531 E/O 27th WB/EB",
           "Snohomish"
          ],
          [
           "SR-531 E/O I-5 WB/EB",
           "Snohomish"
          ],
          [
           "SR-531 E/O 43rd WB/EB",
           "Snohomish"
          ],
          [
           "SR-531 W/O 67th WB/EB",
           "Snohomish"
          ],
          [
           "SR-531 E/O 67th WB/EB",
           "Snohomish"
          ],
          [
           "SR-162 @ SR-410 WB/EB",
           "Pierce"
          ],
          [
           "SR-162 S/O Pioneer WB/EB",
           "Pierce"
          ],
          [
           "SR-162 E/O Orville WB/EB",
           "Pierce"
          ],
          [
           "SR-162 E/O S Prairie WB/EB",
           "Pierce"
          ],
          [
           "SR-162 N/O SR-165 WB/EB",
           "Pierce"
          ],
          [
           "SR-163 @ SR-16 NB/SB",
           "Pierce"
          ],
          [
           "SR-163 N/O 37th NB/SB",
           "Pierce"
          ],
          [
           "SR-163 N/O Park NB/SB",
           "Pierce"
          ],
          [
           "SR-530 @ I-5 WB/EB",
           "Snohomish"
          ],
          [
           "SR-530 E/O Smokey Pt WB/EB",
           "Snohomish"
          ],
          [
           "SR-530 N/O 211th WB/EB",
           "Snohomish"
          ],
          [
           "SR-530 E/O SR-9 WB/EB",
           "Snohomish"
          ],
          [
           "SR-530 S/O Arlington Hts WB/EB",
           "Snohomish"
          ],
          [
           "SR-530 N/O Arlington Hts WB/EB",
           "Snohomish"
          ],
          [
           "SR-530 W/O Jim Creek WB/EB",
           "Snohomish"
          ],
          [
           "SR-530 W/O Ramstad WB/EB",
           "Snohomish"
          ],
          [
           "SR-530 @ Skagit County WB/EB",
           "Snohomish"
          ],
          [
           "SR-203 N/O 203rd NB/SB",
           "Snohomish"
          ],
          [
           "SR-203 N/O Cherry Valley NB/SB",
           "King"
          ],
          [
           "SR-203 N/O 124th NB/SB",
           "King"
          ],
          [
           "SR-203 W/O Stillwater Hill NB/SB",
           "King"
          ],
          [
           "SR-203 N/O Carnation Farm NB/SB",
           "King"
          ],
          [
           "SR-203 N/O Tolt Hill NB/SB",
           "King"
          ],
          [
           "SR-203 N/O SR-202 NB/SB",
           "King"
          ],
          [
           "SR-507 S/O SR-7 NB/SB",
           "Pierce"
          ],
          [
           "SR-507 S/O E Gate NB/SB",
           "Pierce"
          ],
          [
           "SR-507 S/O 288th NB/SB",
           "Pierce"
          ],
          [
           "SR-507 N/O 346th NB/SB",
           "Pierce"
          ],
          [
           "SR-204 @ SR-2 NB/SB",
           "Snohomish"
          ],
          [
           "SR-204 N/O 20th NB/SB",
           "Snohomish"
          ],
          [
           "SR-204 N/O SR-2 NB/SB",
           "Snohomish"
          ],
          [
           "SR-519 W/O 4th NB/SB",
           "King"
          ],
          [
           "SR-92 E/O Lake WB/EB",
           "Snohomish"
          ],
          [
           "SR-92 E/O Callow WB/EB",
           "Snohomish"
          ],
          [
           "SR-92 E/O Quarry WB/EB",
           "Snohomish"
          ],
          [
           "SR-92 W/O Mountain Loop WB/EB",
           "Snohomish"
          ],
          [
           "SR-702 E/O SR-507 WB/EB",
           "Pierce"
          ],
          [
           "SR-702 E/O Harts Lake WB/EB",
           "Pierce"
          ],
          [
           "SR-702 E/O 40th WB/EB",
           "Pierce"
          ],
          [
           "SR-702 W/O 8th WB/EB",
           "Pierce"
          ],
          [
           "SR-702 E/O 8th WB/EB",
           "Pierce"
          ],
          [
           "SR-165 E/O SR-162 NB/SB",
           "Pierce"
          ],
          [
           "SR-165 N/O Davis NB/SB",
           "Pierce"
          ],
          [
           "SR-165 N/O Wilkeson-Carbonado NB/SB",
           "Pierce"
          ],
          [
           "SR-704 E/O Spanaway Loop WB/EB",
           "Pierce"
          ],
          [
           "SR-706 E/O SR-7 WB/EB",
           "Pierce"
          ],
          [
           "SR-706 E/O Kernahan WB/EB",
           "Pierce"
          ]
         ],
         "hovertemplate": "Observed=%{x}<br>Model=%{y}<br>location=%{customdata[0]}<br>County=%{customdata[1]}<extra></extra>",
         "legendgroup": "",
         "line": {
          "color": "Grey",
          "width": 2
         },
         "marker": {
          "color": "#91268F",
          "symbol": "circle"
         },
         "mode": "markers",
         "name": "",
         "orientation": "v",
         "showlegend": false,
         "type": "scatter",
         "x": {
          "bdata": "xRWmFSIX9BdQE9kSnBW1FKUT6xNPF34XkAoFF/oO3xISCbIJcwuHC7QMygyGDDENrgpfDOMLNgwACQwJ/AKFAz4DjQdxB8kJVwNwBV4IQQECAUsFkQWTARIBiQCKAF4I8QjYCOEIJQ7sDF0JXQmqA64DkgRkA60AnQCQAIMAFgVDBG0FmAOxA7kGYQn0CDwIHQiaCl4K/AI3A1ML+A83EBEM3yN4E50UewulADYAOAGRHOINdAIHApQCHQATABMAEAA4Dd4PixKQBPIJcAAMAA8AFABJADsACgAgAFcA5wBlAXcFsArPBNwFCwFPAewA0wCNAGoAiABxAKYK9AAxAYkFHBbEDNYGKgXgBZ4EIwVqBBoBaQBcAEcBOQCVANsBNQGUAXIBFAEuARYBcABqAFcA3gIxAUoCFgFmAacA0wDDAE4ANwFIAa0AbAJFAEIAlwBXAD8AOABRAE4AfgAhABwAEwAOAKIAzwPMAz0FdgQUBkUBWgBsADwANwC2ANAAYwDnAI0AHgHGAcMBAwELAAkA3wC6AJIAhAAqACkARwAYAI4AGABVAEsCgwH9AzABcwEZAMgAcACcAWUBRgFbAQwCiwMRB7gAtgCzAVoA0wBQAB8BawAGAAUABwBKAK4AjABsAEcAXwBoAKIBmAHNAaEBtADbA9ID8gGXAbYB6ACqAGcADAEbASsAkQA3AOkAqgFEAfcAeAM8BC4FZQBfAI4A5AO+A70DVAQdBL0DXQBkADcASgBkAIYD0QApAFQAOwHEAB4BaAESAGQAqAG2ArUCVgG1ALsBbATvAIwAlwArACgAWQD6AnwC7AGsAbMBkgGKAUoBLwCzAXUBigEnARoBUgFbAdsBcwETAoIBPQA8ALMBdwIWAuABPQDXAhYB4QAaAa0ABgGvADMAEwDBAiYADgA=",
          "dtype": "i2"
         },
         "xaxis": "x",
         "y": {
          "bdata": "3RreGiEcIBwGHAEcrRtDG7MeFR+MH9IfYhy7KUUzvyt9F6MYKBYOF1keRx2VHLsbGxwpGxkYsxeyEo0SWRHEBKcFkgaqBpQGTwAhCAsZZBf+Fe8M0QruA64D4ADTAAoTshRnGG0bExSmE9cHCQgsBloJXAPXAboC6wOpAlcDxgMrAnQD+wFJCrICGQgFCA4I/gdeCE8IkAn/COwjGCFGIC0OdxwJHekYJRiBAJEA4wIvGm4DiAA8AHQAdAB0AHQAdABiC1IIAhGiBMQQLggAAAAAAAAVAAQAAgAAAAAAjRPvEmICtgH7AqsHIQBJAA0AVAWfA/UAPQAAAPsH3QAoAToLwQ+PEe0XWxNnE2gQOBAaCBMAFwAGACAAIwAiAIIGAwABABcAFgAWAFYBgAECAGcAUwJKAiUCkQHYAFoAXQCDAOkAigCFAEkAngQCAAIAvACNAAAAKQApAAQA7wAWABYAGgAaAAMAnASkBbcM6g4/EAsAIwAaADQBIwEjANkAfQBUAf4ATAK4AKAAegAAAAAAvAC8AL0APQFHAJAAMQAAACIAAAACAMwBrQeTCjMITQAAADQANABgAGAAdgCfAMoAlgETAwsAmQDFBUUAugAHABcADwAFAAAABgALABkAAAARABEAEQBQAFsAXwBgACkAAQBwA8ICBgiwCZUJlQkTCVEAaQBOAAcADwAAAAUASwB0AHQAnAACARkBDgAcAGsAiwRvBMsEvAVpBdgFWwCnACYAEwCNABsAXwASAAUAygB4AEkDGwEAAAMAjgCRBfgFdQB/AJUAaAAJAAgACABzAHQAJgGeAMsAwwCgAKQAowCjAKMAAwAqAioC6wH3AfcB9wH3AScCMgIpAikCIABYAOoAbwMJAf0AAABIAAcABwAsACwAIAAJAAAAAAA1AQAAAAA=",
          "dtype": "i2"
         },
         "yaxis": "y"
        },
        {
         "hovertemplate": "Observed=%{x}<br>Model=%{y}<extra></extra>",
         "legendgroup": "",
         "line": {
          "color": "Grey",
          "dash": "solid",
          "width": 2
         },
         "marker": {
          "symbol": "circle"
         },
         "mode": "lines",
         "name": "",
         "orientation": "v",
         "showlegend": false,
         "type": "scatter",
         "x": {
          "bdata": "AAAAAAAAAADwwQcffDBXQPDBBx98MGdAdNFFF11kcUDwwQcffDB3QGyyySab/HxAdNFFF11kgUCyySabbEqEQPDBBx98MIdALrrooosWikBssskmm/yMQKqqqqqq4o9AdNFFF11kkUCTTTbZZNeSQLLJJptsSpRA0UUXXXS9lUDwwQcffDCXQA8++OCDo5hALrrooosWmkBNNtlkk4mbQGyyySab/JxAiy666KJvnkCqqqqqquKfQGSTTTbZqqBAdNFFF11koUCEDz744B2iQJNNNtlk16JAoosuuuiQo0CyySabbEqkQMIHH3zwA6VA0UUXXXS9pUDggw8++HamQPDBBx98MKdAAAAAAADqp0APPvjgg6OoQB588MEHXalALrrooosWqkA++OCDD9CqQE022WSTiatAXHTRRRdDrEBssskmm/ysQHzwwQcftq1Aiy666KJvrkCabLLJJimvQKqqqqqq4q9AXXTRRRdOsEBkk0022aqwQGyyySabB7FAdNFFF11ksUB88MEHH8GxQIQPPvjgHbJAiy666KJ6skCTTTbZZNeyQJtssskmNLNAoosuuuiQs0Cqqqqqqu2zQLLJJptsSrRAuuiiiy6ntEDCBx988AO1QMkmm2yyYLVA0UUXXXS9tUDZZJNNNhq2QOCDDz74drZA6KKLLrrTtkDwwQcffDC3QPjggw8+jbdAAAAAAADqt0AHH3zwwUa4QA8++OCDo7hAF1100UUAuUAefPDBB125QCabbLLJublALrrooosWukA22WSTTXO6QD744IMP0LpARRdddNEsu0BNNtlkk4m7QFVVVVVV5rtAXHTRRRdDvEBkk0022Z+8QGyyySab/LxAdNFFF11ZvUB88MEHH7a9QIMPPvjgEr5Aiy666KJvvkCTTTbZZMy+QJpssskmKb9AoosuuuiFv0CqqqqqquK/QNlkk022H8BAXXTRRRdOwEDhgw8+eHzAQGSTTTbZqsBA6KKLLjrZwEBssskmmwfBQPDBBx/8NcFAdNFFF11kwUD44IMPvpLBQHzwwQcfwcFAAAAAAIDvwUA=",
          "dtype": "f8"
         },
         "xaxis": "x",
         "y": {
          "bdata": "KE8W46LAY0CO2mGyqu1xQIiNOPMD+3lAQqAHmi4EgUC++XI62wqFQDxT3tqHEYlAuaxJezQYjUAbg9qNcI+QQNkvEN7GkpJAmNxFLh2WlEBXiXt+c5mWQBU2sc7JnJhA1OLmHiCgmkCSjxxvdqOcQFE8Ur/Mpp5AiPTDhxFVoEDmyt6vvFahQEah+ddnWKJApncUABNao0AETi8ovlukQGQkSlBpXaVAxPpkeBRfpkAi0X+gv2CnQIKnmshqYqhA4n218BVkqUBCVNAYwWWqQKAq60BsZ6tA/gAGaRdprEBe1yCRwmqtQL6tO7ltbK5AHIRW4Rhur0A+rbgE4jewQG0Yxpi3uLBAnYPTLI05sUDN7uDAYrqxQPxZ7lQ4O7JALMX76A28skBcMAl94zyzQIubFhG5vbNAuwYkpY4+tEDrcTE5ZL+0QBvdPs05QLVASkhMYQ/BtUB5s1n15EG2QKkeZ4m6wrZA2Yl0HZBDt0AI9YGxZcS3QDhgj0U7RbhAaMuc2RDGuECYNqpt5ka5QMihtwG8x7lA9gzFlZFIukAmeNIpZ8m6QFbj3708SrtAhU7tURLLu0C1ufrl50u8QOUkCHq9zLxAFZAVDpNNvUBF+yKiaM69QHNmMDY+T75Ao9E9yhPQvkDTPEte6VC/QAKoWPK+0b9AmQkzQ0opwEAxvzkNtWnAQMl0QNcfqsBAYSpHoYrqwED5301r9SrBQJGVVDVga8FAKUtb/8qrwUDAAGLJNezBQFi2aJOgLMJA8GtvXQttwkCIIXYndq3CQCDXfPHg7cJAt4yDu0suw0BPQoqFtm7DQOf3kE8hr8NAf62XGYzvw0AXY57j9i/EQK8Ypa1hcMRAR86rd8ywxEDfg7JBN/HEQHY5uQuiMcVADu+/1QxyxUCmpMafd7LFQD1azWni8sVA1Q/UM00zxkBtxdr9t3PGQAV74ccitMZAnTDokY30xkA15u5b+DTHQMyb9SVjdcdAZFH87821x0D8BgO6OPbHQJS8CYSjNshALHIQTg53yEDEJxcYebfIQFzdHeLj98hA9JIkrE44yUA=",
          "dtype": "f8"
         },
         "yaxis": "y"
        }
       ],
       "layout": {
        "annotations": [
         {
          "align": "right",
          "font": {
           "color": "pink",
           "size": 12
          },
          "showarrow": false,
          "text": "y = x",
          "x": 13781.25,
          "y": 13781.25
         },
         {
          "align": "right",
          "font": {
           "color": "black",
           "size": 12
          },
          "showarrow": false,
          "text": "r^2 = 0.70",
          "x": 9642.15,
          "y": 13558.245359802573
         }
        ],
        "height": 600,
        "legend": {
         "tracegroupgap": 0
        },
        "margin": {
         "b": 100,
         "l": 100,
         "r": 100,
         "t": 100
        },
        "shapes": [
         {
          "line": {
           "color": "Red",
           "dash": "dash",
           "width": 2
          },
          "type": "line",
          "x0": 0,
          "x1": 13125,
          "y0": 0,
          "y1": 13125
         }
        ],
        "template": {
         "data": {
          "bar": [
           {
            "error_x": {
             "color": "rgb(36,36,36)"
            },
            "error_y": {
             "color": "rgb(36,36,36)"
            },
            "marker": {
             "line": {
              "color": "white",
              "width": 0.5
             },
             "pattern": {
              "fillmode": "overlay",
              "size": 10,
              "solidity": 0.2
             }
            },
            "type": "bar"
           }
          ],
          "barpolar": [
           {
            "marker": {
             "line": {
              "color": "white",
              "width": 0.5
             },
             "pattern": {
              "fillmode": "overlay",
              "size": 10,
              "solidity": 0.2
             }
            },
            "type": "barpolar"
           }
          ],
          "carpet": [
           {
            "aaxis": {
             "endlinecolor": "rgb(36,36,36)",
             "gridcolor": "white",
             "linecolor": "white",
             "minorgridcolor": "white",
             "startlinecolor": "rgb(36,36,36)"
            },
            "baxis": {
             "endlinecolor": "rgb(36,36,36)",
             "gridcolor": "white",
             "linecolor": "white",
             "minorgridcolor": "white",
             "startlinecolor": "rgb(36,36,36)"
            },
            "type": "carpet"
           }
          ],
          "choropleth": [
           {
            "colorbar": {
             "outlinewidth": 1,
             "tickcolor": "rgb(36,36,36)",
             "ticks": "outside"
            },
            "type": "choropleth"
           }
          ],
          "contour": [
           {
            "colorbar": {
             "outlinewidth": 1,
             "tickcolor": "rgb(36,36,36)",
             "ticks": "outside"
            },
            "colorscale": [
             [
              0.0,
              "#440154"
             ],
             [
              0.1111111111111111,
              "#482878"
             ],
             [
              0.2222222222222222,
              "#3e4989"
             ],
             [
              0.3333333333333333,
              "#31688e"
             ],
             [
              0.4444444444444444,
              "#26828e"
             ],
             [
              0.5555555555555556,
              "#1f9e89"
             ],
             [
              0.6666666666666666,
              "#35b779"
             ],
             [
              0.7777777777777778,
              "#6ece58"
             ],
             [
              0.8888888888888888,
              "#b5de2b"
             ],
             [
              1.0,
              "#fde725"
             ]
            ],
            "type": "contour"
           }
          ],
          "contourcarpet": [
           {
            "colorbar": {
             "outlinewidth": 1,
             "tickcolor": "rgb(36,36,36)",
             "ticks": "outside"
            },
            "type": "contourcarpet"
           }
          ],
          "heatmap": [
           {
            "colorbar": {
             "outlinewidth": 1,
             "tickcolor": "rgb(36,36,36)",
             "ticks": "outside"
            },
            "colorscale": [
             [
              0.0,
              "#440154"
             ],
             [
              0.1111111111111111,
              "#482878"
             ],
             [
              0.2222222222222222,
              "#3e4989"
             ],
             [
              0.3333333333333333,
              "#31688e"
             ],
             [
              0.4444444444444444,
              "#26828e"
             ],
             [
              0.5555555555555556,
              "#1f9e89"
             ],
             [
              0.6666666666666666,
              "#35b779"
             ],
             [
              0.7777777777777778,
              "#6ece58"
             ],
             [
              0.8888888888888888,
              "#b5de2b"
             ],
             [
              1.0,
              "#fde725"
             ]
            ],
            "type": "heatmap"
           }
          ],
          "histogram": [
           {
            "marker": {
             "line": {
              "color": "white",
              "width": 0.6
             }
            },
            "type": "histogram"
           }
          ],
          "histogram2d": [
           {
            "colorbar": {
             "outlinewidth": 1,
             "tickcolor": "rgb(36,36,36)",
             "ticks": "outside"
            },
            "colorscale": [
             [
              0.0,
              "#440154"
             ],
             [
              0.1111111111111111,
              "#482878"
             ],
             [
              0.2222222222222222,
              "#3e4989"
             ],
             [
              0.3333333333333333,
              "#31688e"
             ],
             [
              0.4444444444444444,
              "#26828e"
             ],
             [
              0.5555555555555556,
              "#1f9e89"
             ],
             [
              0.6666666666666666,
              "#35b779"
             ],
             [
              0.7777777777777778,
              "#6ece58"
             ],
             [
              0.8888888888888888,
              "#b5de2b"
             ],
             [
              1.0,
              "#fde725"
             ]
            ],
            "type": "histogram2d"
           }
          ],
          "histogram2dcontour": [
           {
            "colorbar": {
             "outlinewidth": 1,
             "tickcolor": "rgb(36,36,36)",
             "ticks": "outside"
            },
            "colorscale": [
             [
              0.0,
              "#440154"
             ],
             [
              0.1111111111111111,
              "#482878"
             ],
             [
              0.2222222222222222,
              "#3e4989"
             ],
             [
              0.3333333333333333,
              "#31688e"
             ],
             [
              0.4444444444444444,
              "#26828e"
             ],
             [
              0.5555555555555556,
              "#1f9e89"
             ],
             [
              0.6666666666666666,
              "#35b779"
             ],
             [
              0.7777777777777778,
              "#6ece58"
             ],
             [
              0.8888888888888888,
              "#b5de2b"
             ],
             [
              1.0,
              "#fde725"
             ]
            ],
            "type": "histogram2dcontour"
           }
          ],
          "mesh3d": [
           {
            "colorbar": {
             "outlinewidth": 1,
             "tickcolor": "rgb(36,36,36)",
             "ticks": "outside"
            },
            "type": "mesh3d"
           }
          ],
          "parcoords": [
           {
            "line": {
             "colorbar": {
              "outlinewidth": 1,
              "tickcolor": "rgb(36,36,36)",
              "ticks": "outside"
             }
            },
            "type": "parcoords"
           }
          ],
          "pie": [
           {
            "automargin": true,
            "type": "pie"
           }
          ],
          "scatter": [
           {
            "fillpattern": {
             "fillmode": "overlay",
             "size": 10,
             "solidity": 0.2
            },
            "type": "scatter"
           }
          ],
          "scatter3d": [
           {
            "line": {
             "colorbar": {
              "outlinewidth": 1,
              "tickcolor": "rgb(36,36,36)",
              "ticks": "outside"
             }
            },
            "marker": {
             "colorbar": {
              "outlinewidth": 1,
              "tickcolor": "rgb(36,36,36)",
              "ticks": "outside"
             }
            },
            "type": "scatter3d"
           }
          ],
          "scattercarpet": [
           {
            "marker": {
             "colorbar": {
              "outlinewidth": 1,
              "tickcolor": "rgb(36,36,36)",
              "ticks": "outside"
             }
            },
            "type": "scattercarpet"
           }
          ],
          "scattergeo": [
           {
            "marker": {
             "colorbar": {
              "outlinewidth": 1,
              "tickcolor": "rgb(36,36,36)",
              "ticks": "outside"
             }
            },
            "type": "scattergeo"
           }
          ],
          "scattergl": [
           {
            "marker": {
             "colorbar": {
              "outlinewidth": 1,
              "tickcolor": "rgb(36,36,36)",
              "ticks": "outside"
             }
            },
            "type": "scattergl"
           }
          ],
          "scattermap": [
           {
            "marker": {
             "colorbar": {
              "outlinewidth": 1,
              "tickcolor": "rgb(36,36,36)",
              "ticks": "outside"
             }
            },
            "type": "scattermap"
           }
          ],
          "scattermapbox": [
           {
            "marker": {
             "colorbar": {
              "outlinewidth": 1,
              "tickcolor": "rgb(36,36,36)",
              "ticks": "outside"
             }
            },
            "type": "scattermapbox"
           }
          ],
          "scatterpolar": [
           {
            "marker": {
             "colorbar": {
              "outlinewidth": 1,
              "tickcolor": "rgb(36,36,36)",
              "ticks": "outside"
             }
            },
            "type": "scatterpolar"
           }
          ],
          "scatterpolargl": [
           {
            "marker": {
             "colorbar": {
              "outlinewidth": 1,
              "tickcolor": "rgb(36,36,36)",
              "ticks": "outside"
             }
            },
            "type": "scatterpolargl"
           }
          ],
          "scatterternary": [
           {
            "marker": {
             "colorbar": {
              "outlinewidth": 1,
              "tickcolor": "rgb(36,36,36)",
              "ticks": "outside"
             }
            },
            "type": "scatterternary"
           }
          ],
          "surface": [
           {
            "colorbar": {
             "outlinewidth": 1,
             "tickcolor": "rgb(36,36,36)",
             "ticks": "outside"
            },
            "colorscale": [
             [
              0.0,
              "#440154"
             ],
             [
              0.1111111111111111,
              "#482878"
             ],
             [
              0.2222222222222222,
              "#3e4989"
             ],
             [
              0.3333333333333333,
              "#31688e"
             ],
             [
              0.4444444444444444,
              "#26828e"
             ],
             [
              0.5555555555555556,
              "#1f9e89"
             ],
             [
              0.6666666666666666,
              "#35b779"
             ],
             [
              0.7777777777777778,
              "#6ece58"
             ],
             [
              0.8888888888888888,
              "#b5de2b"
             ],
             [
              1.0,
              "#fde725"
             ]
            ],
            "type": "surface"
           }
          ],
          "table": [
           {
            "cells": {
             "fill": {
              "color": "rgb(237,237,237)"
             },
             "line": {
              "color": "white"
             }
            },
            "header": {
             "fill": {
              "color": "rgb(217,217,217)"
             },
             "line": {
              "color": "white"
             }
            },
            "type": "table"
           }
          ]
         },
         "layout": {
          "annotationdefaults": {
           "arrowhead": 0,
           "arrowwidth": 1
          },
          "autotypenumbers": "strict",
          "coloraxis": {
           "colorbar": {
            "outlinewidth": 1,
            "tickcolor": "rgb(36,36,36)",
            "ticks": "outside"
           }
          },
          "colorscale": {
           "diverging": [
            [
             0.0,
             "rgb(103,0,31)"
            ],
            [
             0.1,
             "rgb(178,24,43)"
            ],
            [
             0.2,
             "rgb(214,96,77)"
            ],
            [
             0.3,
             "rgb(244,165,130)"
            ],
            [
             0.4,
             "rgb(253,219,199)"
            ],
            [
             0.5,
             "rgb(247,247,247)"
            ],
            [
             0.6,
             "rgb(209,229,240)"
            ],
            [
             0.7,
             "rgb(146,197,222)"
            ],
            [
             0.8,
             "rgb(67,147,195)"
            ],
            [
             0.9,
             "rgb(33,102,172)"
            ],
            [
             1.0,
             "rgb(5,48,97)"
            ]
           ],
           "sequential": [
            [
             0.0,
             "#440154"
            ],
            [
             0.1111111111111111,
             "#482878"
            ],
            [
             0.2222222222222222,
             "#3e4989"
            ],
            [
             0.3333333333333333,
             "#31688e"
            ],
            [
             0.4444444444444444,
             "#26828e"
            ],
            [
             0.5555555555555556,
             "#1f9e89"
            ],
            [
             0.6666666666666666,
             "#35b779"
            ],
            [
             0.7777777777777778,
             "#6ece58"
            ],
            [
             0.8888888888888888,
             "#b5de2b"
            ],
            [
             1.0,
             "#fde725"
            ]
           ],
           "sequentialminus": [
            [
             0.0,
             "#440154"
            ],
            [
             0.1111111111111111,
             "#482878"
            ],
            [
             0.2222222222222222,
             "#3e4989"
            ],
            [
             0.3333333333333333,
             "#31688e"
            ],
            [
             0.4444444444444444,
             "#26828e"
            ],
            [
             0.5555555555555556,
             "#1f9e89"
            ],
            [
             0.6666666666666666,
             "#35b779"
            ],
            [
             0.7777777777777778,
             "#6ece58"
            ],
            [
             0.8888888888888888,
             "#b5de2b"
            ],
            [
             1.0,
             "#fde725"
            ]
           ]
          },
          "colorway": [
           "#91268F",
           "#8CC63E",
           "#00A7A0",
           "#F05A28",
           "#4C4C4C",
           "#630460",
           "#9f3913",
           "#588527",
           "#00716c",
           "#3e4040"
          ],
          "font": {
           "color": "rgb(36,36,36)",
           "family": "Poppins",
           "size": 11
          },
          "geo": {
           "bgcolor": "white",
           "lakecolor": "white",
           "landcolor": "white",
           "showlakes": true,
           "showland": true,
           "subunitcolor": "white"
          },
          "hoverlabel": {
           "align": "left"
          },
          "hovermode": "closest",
          "mapbox": {
           "style": "light"
          },
          "paper_bgcolor": "white",
          "plot_bgcolor": "white",
          "polar": {
           "angularaxis": {
            "gridcolor": "rgb(232,232,232)",
            "linecolor": "rgb(36,36,36)",
            "showgrid": false,
            "showline": true,
            "ticks": "outside"
           },
           "bgcolor": "white",
           "radialaxis": {
            "gridcolor": "rgb(232,232,232)",
            "linecolor": "rgb(36,36,36)",
            "showgrid": false,
            "showline": true,
            "ticks": "outside"
           }
          },
          "scene": {
           "xaxis": {
            "backgroundcolor": "white",
            "gridcolor": "rgb(232,232,232)",
            "gridwidth": 2,
            "linecolor": "rgb(36,36,36)",
            "showbackground": true,
            "showgrid": false,
            "showline": true,
            "ticks": "outside",
            "zeroline": false,
            "zerolinecolor": "rgb(36,36,36)"
           },
           "yaxis": {
            "backgroundcolor": "white",
            "gridcolor": "rgb(232,232,232)",
            "gridwidth": 2,
            "linecolor": "rgb(36,36,36)",
            "showbackground": true,
            "showgrid": false,
            "showline": true,
            "ticks": "outside",
            "zeroline": false,
            "zerolinecolor": "rgb(36,36,36)"
           },
           "zaxis": {
            "backgroundcolor": "white",
            "gridcolor": "rgb(232,232,232)",
            "gridwidth": 2,
            "linecolor": "rgb(36,36,36)",
            "showbackground": true,
            "showgrid": false,
            "showline": true,
            "ticks": "outside",
            "zeroline": false,
            "zerolinecolor": "rgb(36,36,36)"
           }
          },
          "shapedefaults": {
           "fillcolor": "black",
           "line": {
            "width": 0
           },
           "opacity": 0.3
          },
          "ternary": {
           "aaxis": {
            "gridcolor": "rgb(232,232,232)",
            "linecolor": "rgb(36,36,36)",
            "showgrid": false,
            "showline": true,
            "ticks": "outside"
           },
           "baxis": {
            "gridcolor": "rgb(232,232,232)",
            "linecolor": "rgb(36,36,36)",
            "showgrid": false,
            "showline": true,
            "ticks": "outside"
           },
           "bgcolor": "white",
           "caxis": {
            "gridcolor": "rgb(232,232,232)",
            "linecolor": "rgb(36,36,36)",
            "showgrid": false,
            "showline": true,
            "ticks": "outside"
           }
          },
          "title": {
           "x": 0.05
          },
          "xaxis": {
           "automargin": true,
           "gridcolor": "rgb(232,232,232)",
           "linecolor": "rgb(36,36,36)",
           "showgrid": false,
           "showline": true,
           "ticks": "outside",
           "title": {
            "standoff": 15
           },
           "zeroline": false,
           "zerolinecolor": "rgb(36,36,36)"
          },
          "yaxis": {
           "automargin": true,
           "gridcolor": "rgb(232,232,232)",
           "linecolor": "rgb(36,36,36)",
           "showgrid": false,
           "showline": true,
           "ticks": "outside",
           "title": {
            "standoff": 15
           },
           "zeroline": false,
           "zerolinecolor": "rgb(36,36,36)"
          }
         }
        },
        "title": {
         "text": "Heavy Trucks: Region"
        },
        "width": 800,
        "xaxis": {
         "anchor": "y",
         "domain": [
          0.0,
          1.0
         ],
         "title": {
          "text": "Observed"
         }
        },
        "yaxis": {
         "anchor": "x",
         "domain": [
          0.0,
          1.0
         ],
         "title": {
          "text": "Model"
         }
        }
       }
      },
      "text/html": [
       "<div>            <script src=\"https://cdnjs.cloudflare.com/ajax/libs/mathjax/2.7.5/MathJax.js?config=TeX-AMS-MML_SVG\"></script><script type=\"text/javascript\">if (window.MathJax && window.MathJax.Hub && window.MathJax.Hub.Config) {window.MathJax.Hub.Config({SVG: {font: \"STIX-Web\"}});}</script>                <script type=\"text/javascript\">window.PlotlyConfig = {MathJaxConfig: 'local'};</script>\n",
       "        <script charset=\"utf-8\" src=\"https://cdn.plot.ly/plotly-3.0.1.min.js\"></script>                <div id=\"05ac174e-0381-46db-a6a9-f453bc833aab\" class=\"plotly-graph-div\" style=\"height:600px; width:800px;\"></div>            <script type=\"text/javascript\">                window.PLOTLYENV=window.PLOTLYENV || {};                                if (document.getElementById(\"05ac174e-0381-46db-a6a9-f453bc833aab\")) {                    Plotly.newPlot(                        \"05ac174e-0381-46db-a6a9-f453bc833aab\",                        [{\"customdata\":[[\"I-5 S\\u002fO Mounts NB\",\"Pierce\"],[\"I-5 S\\u002fO Mounts SB\",\"Pierce\"],[\"I-5 S\\u002fO Division NB\",\"Pierce\"],[\"I-5 S\\u002fO Division SB\",\"Pierce\"],[\"I-5 @ N\\u002fO Division NB\",\"Pierce\"],[\"I-5 @ N\\u002fO Division SB\",\"Pierce\"],[\"I-5 S\\u002fO SR-512 NB\",\"Pierce\"],[\"I-5 S\\u002fO SR-512 SB\",\"Pierce\"],[\"I-5 N\\u002fO SR-512 NB\",\"Pierce\"],[\"I-5 N\\u002fO SR-512 SB\",\"Pierce\"],[\"I-5 N\\u002fO 56th NB\",\"Pierce\"],[\"I-5 N\\u002fO 56th SB\",\"Pierce\"],[\"I-5 E\\u002fO SR-16 NB\",\"Pierce\"],[\"I-5 E\\u002fO SR-16 SB\",\"Pierce\"],[\"I-5 E\\u002fO Port of Tacoma NB\",\"Pierce\"],[\"I-5 E\\u002fO Port of Tacoma SB (HOV from 56)\",\"Pierce\"],[\"I-5 S\\u002fO 205th NB\",\"King\"],[\"I-5 S\\u002fO 205th SB\",\"King\"],[\"I-5 @ 44th NB\",\"Snohomish\"],[\"I-5 @ 44th SB\",\"Snohomish\"],[\"I-5 N\\u002fO 164th NB\",\"Snohomish\"],[\"I-5 N\\u002fO 164th SB\",\"Snohomish\"],[\"I-5 N\\u002fO SR-526 NB\",\"Snohomish\"],[\"I-5 N\\u002fO SR-526 SB\",\"Snohomish\"],[\"I-5 N\\u002fO 41st NB\",\"Snohomish\"],[\"I-5 N\\u002fO 41st SB\",\"Snohomish\"],[\"I-5 @ SR-528 NB\",\"Snohomish\"],[\"I-5 @ SR-528 SB\",\"Snohomish\"],[\"I-5 N\\u002fO SR-531 NB\",\"Snohomish\"],[\"I-5 N\\u002fO SR-531 SB\",\"Snohomish\"],[\"I-5 Rev N\\u002fO I-5 GP NB\\u002fSB\",\"King\"],[\"I-90 E\\u002fO I-5 WB\",\"King\"],[\"I-90 E\\u002fO I-5 EB\",\"King\"],[\"I-90 E\\u002fO W Lk Sam WB\",\"King\"],[\"I-90 E\\u002fO W Lk Sam EB\",\"King\"],[\"I-90 E\\u002fO SR-900 WB\",\"King\"],[\"I-405 @ I-5 Southcenter NB\",\"King\"],[\"I-405 @ I-5 Southcenter SB\",\"King\"],[\"I-405 @ Lake Wash Blvd NB\",\"King\"],[\"I-405 @ I-90 NB\",\"King\"],[\"I-405 @ I-90 SB\",\"King\"],[\"I-405 N\\u002fO SR-527 NB\",\"Snohomish\"],[\"I-405 N\\u002fO SR-527 SB\",\"Snohomish\"],[\"SR-525 N\\u002fO I-5 NB\",\"Snohomish\"],[\"SR-525 N\\u002fO I-5 SB\",\"Snohomish\"],[\"SR-520 @ x-lake bridge WB\",\"King\"],[\"SR-520 @ x-lake bridge EB\",\"King\"],[\"SR-167 S\\u002fO 43rd NB\",\"King\"],[\"SR-167 S\\u002fO 43rd SB\",\"King\"],[\"SR-167 N\\u002fO SR-18 NB\",\"King\"],[\"SR-167 N\\u002fO SR-18 SB\",\"King\"],[\"SR-167 S\\u002fO 15th SW NB\",\"King\"],[\"SR-167 S\\u002fO 15th SW SB\",\"King\"],[\"SR-512 W\\u002fO Meridian WB\",\"Pierce\"],[\"SR-512 W\\u002fO Meridian EB\",\"Pierce\"],[\"SR-509 @ Holden NB\",\"King\"],[\"SR-509 @ Holden SB\",\"King\"],[\"SR-99 N\\u002fO 14th NB\",\"King\"],[\"SR-99 N\\u002fO 14th SB\",\"King\"],[\"SR-99 N\\u002fO WSF NB\",\"King\"],[\"SR-99 N\\u002fO WSF SB\",\"King\"],[\"SR-99 tunnel NB\",\"King\"],[\"SR-99 tunnel SB\",\"King\"],[\"SR-599 S\\u002fO Pacific NB\",\"King\"],[\"SR-599 S\\u002fO Pacific SB\",\"King\"],[\"SR-599 @ Pacific NB\",\"King\"],[\"SR-599 @ Pacific SB\",\"King\"],[\"SR-18 @ I-5 WB\",\"King\"],[\"SR-18 @ I-5 EB\",\"King\"],[\"SR-18 W\\u002fO Auburn-Black Diamond WB\",\"King\"],[\"SR-18 W\\u002fO Auburn-Black Diamond EB\",\"King\"],[\"SR-18 E\\u002fO SR-516 WB\",\"King\"],[\"SR-18 E\\u002fO SR-516 EB\",\"King\"],[\"SR-18 E\\u002fO 256th WB\",\"King\"],[\"SR-18 E\\u002fO 256th EB\",\"King\"],[\"SR-522 N\\u002fO 195th WB\",\"King\"],[\"SR-522 N\\u002fO 195th EB\",\"King\"],[\"I-5 N\\u002fO I-5 Rev CBD NB\\u002fSB\",\"King\"],[\"I-5 @ SR-532 NB\\u002fSB\",\"Snohomish\"],[\"I-5 @ Skagit border NB\\u002fSB\",\"Snohomish\"],[\"I-90 W\\u002fO SR-18 WB\\u002fEB\",\"King\"],[\"I-90 E\\u002fO SR-18 WB\\u002fEB\",\"King\"],[\"I-90 E\\u002fO 436th WB\\u002fEB\",\"King\"],[\"I-90 @ Kittitas County WB\\u002fEB\",\"King\"],[\"I-405 N\\u002fO SR-522 NB\\u002fSB\",\"King\"],[\"SR-525 N\\u002fO SR-526 NB\\u002fSB\",\"Snohomish\"],[\"SR-525 N\\u002fO 5th NB\\u002fSB\",\"Snohomish\"],[\"SR-167 N\\u002fO Grady NB\\u002fSB\",\"King\"],[\"SR-167 W\\u002fO SR-410 NB\\u002fSB\",\"Pierce\"],[\"SR-167 E\\u002fO SR-161 NB\\u002fSB\",\"Pierce\"],[\"SR-410 E\\u002fO S Prairie WB\\u002fEB\",\"Pierce\"],[\"SR-410 E\\u002fO 244th WB\\u002fEB\",\"King\"],[\"SR-410 E\\u002fO Farman WB\\u002fEB\",\"King\"],[\"SR-410 @ Greenwater River WB\\u002fEB\",\"King\"],[\"SR-410 E\\u002fO Chinook WB\\u002fEB\",\"Pierce\"],[\"SR-410 W\\u002fO SR-123 WB\\u002fEB\",\"Pierce\"],[\"SR-410 E\\u002fO SR-123 WB\\u002fEB\",\"Pierce\"],[\"SR-512 @ I-5 WB\\u002fEB\",\"Pierce\"],[\"SR-512 W\\u002fO SR-7 WB\\u002fEB\",\"Pierce\"],[\"SR-512 S\\u002fO SR-167 WB\\u002fEB\",\"Pierce\"],[\"SR-509 E\\u002fO I-705 NB\\u002fSB\",\"Pierce\"],[\"SR-509 W\\u002fO Alexander NB\\u002fSB\",\"Pierce\"],[\"SR-509 S\\u002fO 11th NB\\u002fSB\",\"Pierce\"],[\"SR-509 N\\u002fO Hyada NB\\u002fSB\",\"Pierce\"],[\"SR-509 E\\u002fO Soundview NB\\u002fSB\",\"Pierce\"],[\"SR-509 E\\u002fO 47th NB\\u002fSB\",\"King\"],[\"SR-509 E\\u002fO 21st NB\\u002fSB\",\"King\"],[\"SR-509 W\\u002fO SR-516 NB\\u002fSB\",\"King\"],[\"SR-509 W\\u002fO Des Moines Mem NB\\u002fSB\",\"King\"],[\"SR-509 E\\u002fO 1st Ave NB\\u002fSB\",\"King\"],[\"SR-509 E\\u002fO Des Moines Mem NB\\u002fSB\",\"King\"],[\"SR-509 N\\u002fO Des Moines Mem NB\\u002fSB\",\"King\"],[\"SR-509 N\\u002fO SR-518 NB\\u002fSB\",\"King\"],[\"SR-99 @ I-5 NB\\u002fSB\",\"Pierce\"],[\"SR-99 E\\u002fO 54th NB\\u002fSB\",\"Pierce\"],[\"SR-99 S\\u002fO Porter NB\\u002fSB\",\"Pierce\"],[\"SR-99 S\\u002fO SR-18 NB\\u002fSB\",\"King\"],[\"SR-99 N\\u002fO SR-18 NB\\u002fSB\",\"King\"],[\"SR-99 N\\u002fO 320th NB\\u002fSB\",\"King\"],[\"SR-99 N\\u002fO 188th NB\\u002fSB\",\"King\"],[\"SR-99 @ WSF NB\\u002fSB\",\"King\"],[\"SR-99 @ Aurora Bridge NB\\u002fSB\",\"King\"],[\"SR-99 N\\u002fO 38th NB\\u002fSB\",\"King\"],[\"SR-99 S\\u002fO Roosevelt NB\\u002fSB\",\"King\"],[\"SR-99 E\\u002fO Evergreen NB\\u002fSB\",\"Snohomish\"],[\"SR-599 N\\u002fO I-5 NB\\u002fSB\",\"King\"],[\"SR-518 @ SR-509 WB\\u002fEB\",\"King\"],[\"SR-518 E\\u002fO SR-509 WB\\u002fEB\",\"King\"],[\"SR-18 E\\u002fO SR-99 WB\\u002fEB\",\"King\"],[\"SR-18 N\\u002fO 304th WB\\u002fEB\",\"King\"],[\"SR-18 S\\u002fO I-90 WB\\u002fEB\",\"King\"],[\"SR-16 @ TNB NB\\u002fSB\",\"Pierce\"],[\"SR-16 @ Purdy Dr NB\\u002fSB\",\"Pierce\"],[\"SR-16  N\\u002fO SR-302 NB\\u002fSB\",\"Kitsap\"],[\"SR-16 N\\u002fO SR-160 NB\\u002fSB\",\"Kitsap\"],[\"SR-16 N\\u002fO Tremont NB\\u002fSB\",\"Kitsap\"],[\"SR-16 S\\u002fO SR-3 NB\",\"Kitsap\"],[\"SR-202 @ SR-522 NB\\u002fSB\",\"King\"],[\"SR-202 N\\u002fO 145th NB\\u002fSB\",\"King\"],[\"SR-202 @ Sammamish River Br NB\\u002fSB\",\"King\"],[\"SR-202 S\\u002fO 144th NB\\u002fSB\",\"King\"],[\"SR-202 N\\u002fO Redmond Way NB\\u002fSB\",\"King\"],[\"SR-202 E\\u002fO 164th NB\\u002fSB\",\"King\"],[\"SR-202 E\\u002fO SR-520 NB\\u002fSB\",\"King\"],[\"SR-202 E\\u002fO E Lk Samm NB\\u002fSB\",\"King\"],[\"SR-202 E\\u002fO Sahalee NB\\u002fSB\",\"King\"],[\"SR-202 E\\u002fO 236th NB\\u002fSB\",\"King\"],[\"SR-202 S\\u002fO Ames Lake NB\\u002fSB\",\"King\"],[\"SR-202 S\\u002fO Duthie Hill NB\\u002fSB\",\"King\"],[\"SR-202 E\\u002fO SR-203 NB\\u002fSB\",\"King\"],[\"SR-202 N\\u002fO I-90 NB\\u002fSB\",\"King\"],[\"SR-526 W\\u002fO Paine Field Blvd WB\\u002fEB\",\"Snohomish\"],[\"SR-526 E\\u002fO Paine Field Blvd WB\\u002fEB\",\"Snohomish\"],[\"SR-9 @ SR-522 NB\\u002fSB\",\"Snohomish\"],[\"SR-9 N\\u002fO SR-2 NB\\u002fSB\",\"Snohomish\"],[\"SR-9 N\\u002fO SR-204 NB\\u002fSB\",\"Snohomish\"],[\"SR-9 N\\u002fO SR-92 NB\\u002fSB\",\"Snohomish\"],[\"SR-9 N\\u002fO 132nd NB\\u002fSB\",\"Snohomish\"],[\"SR-9 N\\u002fO SR-531 NB\\u002fSB\",\"Snohomish\"],[\"SR-9 S\\u002fO 67th NB\\u002fSB\",\"Snohomish\"],[\"SR-9 N\\u002fO Kackman NB\\u002fSB\",\"Snohomish\"],[\"SR-9 N\\u002fO Stanwood-Bryant NB\\u002fSB\",\"Snohomish\"],[\"SR-532 @ Island County WB\\u002fEB\",\"Snohomish\"],[\"SR-532 W\\u002fO 28th WB\\u002fEB\",\"Snohomish\"],[\"SR-522 N\\u002fO 145th NB\\u002fSB\",\"King\"],[\"SR-104 @ Hood Canal Bridge WB\\u002fEB\",\"Kitsap\"],[\"SR-104 E\\u002fO Hood Canal Bridge WB\\u002fEB\",\"Kitsap\"],[\"SR-104 N\\u002fO Pt Gamble Rd WB\\u002fEB\",\"Kitsap\"],[\"SR-104 E\\u002fO SR-307 WB\\u002fEB\",\"Kitsap\"],[\"SR-104 E\\u002fO Hansville WB\\u002fEB\",\"Kitsap\"],[\"SR-104 @ Ferry Loading Edm WB\\u002fEB\",\"Snohomish\"],[\"SR-104 N\\u002fO Pine WB\\u002fEB\",\"Snohomish\"],[\"SR-104 E\\u002fO 5th WB\\u002fEB\",\"Snohomish\"],[\"SR-104 W\\u002fO 19th WB\\u002fEB\",\"King\"],[\"SR-160 @ SR-16 WB\\u002fEB\",\"Kitsap\"],[\"SR-160 E\\u002fO Long Lake Rd WB\\u002fEB\",\"Kitsap\"],[\"SR-160 W\\u002fO Banner WB\\u002fEB\",\"Kitsap\"],[\"SR-160 E\\u002fO Peterson WB\\u002fEB\",\"Kitsap\"],[\"SR-160 S\\u002fO Southworth Dr WB\\u002fEB\",\"Kitsap\"],[\"SR-166 E\\u002fO SR-16 WB\\u002fEB\",\"Kitsap\"],[\"SR-3 E\\u002fO Sunset Way NB\\u002fSB\",\"Kitsap\"],[\"SR-3 N\\u002fO SR-305 NB\\u002fSB\",\"Kitsap\"],[\"SR-3 S\\u002fO Newberry Hill Rd NB\\u002fSB\",\"Kitsap\"],[\"SR-3 @ SR-304 NB\\u002fSB\",\"Kitsap\"],[\"SR-3 NE of SR-16 NB\\u002fSB\",\"Kitsap\"],[\"SR-3 W\\u002fO Lake Flora Rd NB\\u002fSB\",\"Kitsap\"],[\"SR-302 N\\u002fO 144th WB\\u002fEB\",\"Pierce\"],[\"SR-302 S\\u002fO 144th WB\\u002fEB\",\"Pierce\"],[\"SR-302 W\\u002fO Key Peninsula Hwy WB\\u002fEB\",\"Pierce\"],[\"SR-302 W\\u002fO Wright-Bliss WB\\u002fEB (E\\u002fO?)\",\"Pierce\"],[\"SR-303 E\\u002fO SR-3 NB\\u002fSB\",\"Kitsap\"],[\"SR-303 N\\u002fO 11th St NB\\u002fSB\",\"Kitsap\"],[\"SR-303 N\\u002fO SR-304 NB\\u002fSB\",\"Kitsap\"],[\"SR-304 E\\u002fO SR-3 WB\\u002fEB\",\"Kitsap\"],[\"SR-304 W\\u002fO Naval WB\\u002fEB\",\"Kitsap\"],[\"SR-305 W\\u002fO SR-307 WB\\u002fEB\",\"Kitsap\"],[\"SR-305 W\\u002fO Suquamish Way WB\\u002fEB\",\"Kitsap\"],[\"SR-305 N\\u002fO Day Rd WB\\u002fEB\",\"Kitsap\"],[\"SR-305 N\\u002fO High School Rd WB\\u002fEB\",\"Kitsap\"],[\"SR-305 S\\u002fO Winslow Way WB\\u002fEB\",\"Kitsap\"],[\"SR-305 @ Ferry Ramp WB\\u002fEB\",\"Kitsap\"],[\"SR-307 W\\u002fO SR-104 NB\\u002fSB\",\"Kitsap\"],[\"SR-307 N\\u002fO Gunderson NB\\u002fSB\",\"Kitsap\"],[\"SR-307 S\\u002fO Gunderson NB\\u002fSB\",\"Kitsap\"],[\"SR-307 N\\u002fO SR-305 NB\\u002fSB\",\"Kitsap\"],[\"SR-308 @ SR-3 WB\\u002fEB\",\"Kitsap\"],[\"SR-308 E\\u002fO SR-3 WB\\u002fEB\",\"Kitsap\"],[\"SR-308 E\\u002fO Silverdale Way WB\\u002fEB\",\"Kitsap\"],[\"SR-308 W\\u002fO Brownsville Hwy WB\\u002fEB\",\"Kitsap\"],[\"SR-310 @ SR-3 WB\\u002fEB\",\"Kitsap\"],[\"SR-310 W\\u002fO Callow WB\\u002fEB\",\"Kitsap\"],[\"SR-516 E\\u002fO SR-509 WB\\u002fEB\",\"King\"],[\"SR-516 W\\u002fO I-5 WB\\u002fEB\",\"King\"],[\"SR-516 E\\u002fO Meeker WB\\u002fEB\",\"King\"],[\"SR-516 W\\u002fO SR-167 WB\\u002fEB\",\"King\"],[\"SR-516 E\\u002fO SR-167 WB\\u002fEB\",\"King\"],[\"SR-516 E\\u002fO SR-18 WB\\u002fEB\",\"King\"],[\"SR-161 E\\u002fO SR-7 NB\\u002fSB\",\"Pierce\"],[\"SR-161 N\\u002fO Center NB\\u002fSB\",\"Pierce\"],[\"SR-161 N\\u002fO Eatonville Cutoff NB\\u002fSB\",\"Pierce\"],[\"SR-161 N\\u002fO 304th NB\\u002fSB\",\"Pierce\"],[\"SR-161 N\\u002fO 264th NB\\u002fSB\",\"Pierce\"],[\"SR-161 S\\u002fO 224th NB\\u002fSB\",\"Pierce\"],[\"SR-161 N\\u002fO 224th NB\\u002fSB\",\"Pierce\"],[\"SR-161 N\\u002fO 200th NB\\u002fSB\",\"Pierce\"],[\"SR-161 S\\u002fO SR-167 SB off-ramp NB\\u002fSB\",\"Pierce\"],[\"SR-161 S\\u002fO Valley NB\\u002fSB\",\"Pierce\"],[\"SR-161 N\\u002fO Valley NB\\u002fSB\",\"Pierce\"],[\"SR-161 N\\u002fO 8th NB\\u002fSB\",\"Pierce\"],[\"SR-900 S\\u002fO NB I-5 on-ramp @ Boe Acc WB\\u002fEB\",\"King\"],[\"SR-900 E\\u002fO 68th WB\\u002fEB\",\"King\"],[\"SR-900 @ I-405 WB\\u002fEB\",\"King\"],[\"SR-900 E\\u002fO 148th WB\\u002fEB\",\"King\"],[\"SR-900 N\\u002fO Talus WB\\u002fEB\",\"King\"],[\"SR-900 N\\u002fO Newport WB\\u002fEB\",\"King\"],[\"SR-524 W\\u002fO 3rd WB\\u002fEB\",\"Snohomish\"],[\"SR-524 S\\u002fO Main WB\\u002fEB\",\"Snohomish\"],[\"SR-524 N\\u002fO Main WB\\u002fEB\",\"Snohomish\"],[\"SR-524 E\\u002fO 68th WB\\u002fEB\",\"Snohomish\"],[\"SR-524 E\\u002fO 39th WB\\u002fEB\",\"Snohomish\"],[\"SR-7 @ Thurston County NB\\u002fSB\",\"Pierce\"],[\"SR-7 W\\u002fO Alder Cutoff NB\\u002fSB\",\"Pierce\"],[\"SR-7 N\\u002fO Eatonville Hwy NB\\u002fSB\",\"Pierce\"],[\"SR-7 N\\u002fO Silver Lake NB\\u002fSB\",\"Pierce\"],[\"SR-7 S\\u002fO SR-702 NB\\u002fSB\",\"Pierce\"],[\"SR-7 N\\u002fO 304th NB\\u002fSB\",\"Pierce\"],[\"SR-7 N\\u002fO 260th NB\\u002fSB\",\"Pierce\"],[\"SR-7 S\\u002fO 224th NB\\u002fSB\",\"Pierce\"],[\"SR-7 N\\u002fO 224th NB\\u002fSB\",\"Pierce\"],[\"SR-7 N\\u002fO 38th NB\\u002fSB\",\"Pierce\"],[\"SR-2 E\\u002fO I-5 WB\\u002fEB\",\"Snohomish\"],[\"SR-2 S\\u002fO SR-204 WB\\u002fEB\",\"Snohomish\"],[\"SR-2 E\\u002fO Main WB\\u002fEB\",\"Snohomish\"],[\"SR-2 E\\u002fO Rice WB\\u002fEB\",\"Snohomish\"],[\"SR-2 E\\u002fO 10th (Gold Bar) WB\\u002fEB\",\"Snohomish\"],[\"SR-2 W\\u002fO Index-Galena WB\\u002fEB\",\"Snohomish\"],[\"SR-2 E\\u002fO Index-Galena WB\\u002fEB\",\"Snohomish\"],[\"SR-2 E\\u002fO Skykomish WB\\u002fEB\",\"King\"],[\"SR-527 N\\u002fO I-405 NB\\u002fSB\",\"Snohomish\"],[\"SR-527 N\\u002fO 196th NB\\u002fSB\",\"Snohomish\"],[\"SR-527 N\\u002fO Dumas NB\\u002fSB\",\"Snohomish\"],[\"SR-527 N\\u002fO 100th NB\\u002fSB\",\"Snohomish\"],[\"SR-513 S\\u002fO 44th NB\\u002fSB\",\"King\"],[\"SR-169 N\\u002fO SR-164 NB\\u002fSB\",\"King\"],[\"SR-169 S\\u002fO Lawson NB\\u002fSB\",\"King\"],[\"SR-169 S\\u002fO 280th NB\\u002fSB\",\"King\"],[\"SR-169 N\\u002fO 276th NB\\u002fSB\",\"King\"],[\"SR-169 N\\u002fO 231st NB\\u002fSB\",\"King\"],[\"SR-169 N\\u002fO 231st NB\\u002fSB\",\"King\"],[\"SR-169 W\\u002fO 140th NB\\u002fSB\",\"King\"],[\"SR-515 N\\u002fO SR-516 NB\\u002fSB\",\"King\"],[\"SR-515 N\\u002fO 108th NB\\u002fSB\",\"King\"],[\"SR-515 N\\u002fO Puget NB\\u002fSB\",\"King\"],[\"SR-181 N\\u002fO SR-516 NB\\u002fSB\",\"King\"],[\"SR-181 S\\u002fO James NB\\u002fSB\",\"King\"],[\"SR-181 N\\u002fO James NB\\u002fSB\",\"King\"],[\"SR-181 N\\u002fO 228th NB\\u002fSB\",\"King\"],[\"SR-181 N\\u002fO 180th NB\\u002fSB\",\"King\"],[\"SR-181 S\\u002fO Longacres NB\\u002fSB\",\"King\"],[\"SR-523 E\\u002fO Lenora WB\\u002fEB\",\"King\"],[\"SR-529 @ I-5 (Evt) NB\\u002fSB\",\"Snohomish\"],[\"SR-529 S\\u002fO Everett NB\\u002fSB\",\"Snohomish\"],[\"SR-529 W\\u002fO Maple NB\\u002fSB\",\"Snohomish\"],[\"SR-529 N\\u002fO Everett NB\\u002fSB\",\"Snohomish\"],[\"SR-529 N\\u002fO Broadway NB\\u002fSB\",\"Snohomish\"],[\"SR-96 @ I-5 WB\\u002fEB\",\"Snohomish\"],[\"SR-96 N\\u002fO 132nd WB\\u002fEB\",\"Snohomish\"],[\"SR-96 E\\u002fO Seattle Hill WB\\u002fEB\",\"Snohomish\"],[\"SR-164 @ SR-18 WB\\u002fEB\",\"King\"],[\"SR-164 S\\u002fO 400th WB\\u002fEB\",\"King\"],[\"SR-528 @ I-5 WB\\u002fEB\",\"Snohomish\"],[\"SR-528 E\\u002fO SR-529 WB\\u002fEB\",\"Snohomish\"],[\"SR-531 N\\u002fO Rose WB\\u002fEB\",\"Snohomish\"],[\"SR-531 E\\u002fO Lk Goodwin WB\\u002fEB\",\"Snohomish\"],[\"SR-531 E\\u002fO 27th WB\\u002fEB\",\"Snohomish\"],[\"SR-531 E\\u002fO I-5 WB\\u002fEB\",\"Snohomish\"],[\"SR-531 E\\u002fO 43rd WB\\u002fEB\",\"Snohomish\"],[\"SR-531 W\\u002fO 67th WB\\u002fEB\",\"Snohomish\"],[\"SR-531 E\\u002fO 67th WB\\u002fEB\",\"Snohomish\"],[\"SR-162 @ SR-410 WB\\u002fEB\",\"Pierce\"],[\"SR-162 S\\u002fO Pioneer WB\\u002fEB\",\"Pierce\"],[\"SR-162 E\\u002fO Orville WB\\u002fEB\",\"Pierce\"],[\"SR-162 E\\u002fO S Prairie WB\\u002fEB\",\"Pierce\"],[\"SR-162 N\\u002fO SR-165 WB\\u002fEB\",\"Pierce\"],[\"SR-163 @ SR-16 NB\\u002fSB\",\"Pierce\"],[\"SR-163 N\\u002fO 37th NB\\u002fSB\",\"Pierce\"],[\"SR-163 N\\u002fO Park NB\\u002fSB\",\"Pierce\"],[\"SR-530 @ I-5 WB\\u002fEB\",\"Snohomish\"],[\"SR-530 E\\u002fO Smokey Pt WB\\u002fEB\",\"Snohomish\"],[\"SR-530 N\\u002fO 211th WB\\u002fEB\",\"Snohomish\"],[\"SR-530 E\\u002fO SR-9 WB\\u002fEB\",\"Snohomish\"],[\"SR-530 S\\u002fO Arlington Hts WB\\u002fEB\",\"Snohomish\"],[\"SR-530 N\\u002fO Arlington Hts WB\\u002fEB\",\"Snohomish\"],[\"SR-530 W\\u002fO Jim Creek WB\\u002fEB\",\"Snohomish\"],[\"SR-530 W\\u002fO Ramstad WB\\u002fEB\",\"Snohomish\"],[\"SR-530 @ Skagit County WB\\u002fEB\",\"Snohomish\"],[\"SR-203 N\\u002fO 203rd NB\\u002fSB\",\"Snohomish\"],[\"SR-203 N\\u002fO Cherry Valley NB\\u002fSB\",\"King\"],[\"SR-203 N\\u002fO 124th NB\\u002fSB\",\"King\"],[\"SR-203 W\\u002fO Stillwater Hill NB\\u002fSB\",\"King\"],[\"SR-203 N\\u002fO Carnation Farm NB\\u002fSB\",\"King\"],[\"SR-203 N\\u002fO Tolt Hill NB\\u002fSB\",\"King\"],[\"SR-203 N\\u002fO SR-202 NB\\u002fSB\",\"King\"],[\"SR-507 S\\u002fO SR-7 NB\\u002fSB\",\"Pierce\"],[\"SR-507 S\\u002fO E Gate NB\\u002fSB\",\"Pierce\"],[\"SR-507 S\\u002fO 288th NB\\u002fSB\",\"Pierce\"],[\"SR-507 N\\u002fO 346th NB\\u002fSB\",\"Pierce\"],[\"SR-204 @ SR-2 NB\\u002fSB\",\"Snohomish\"],[\"SR-204 N\\u002fO 20th NB\\u002fSB\",\"Snohomish\"],[\"SR-204 N\\u002fO SR-2 NB\\u002fSB\",\"Snohomish\"],[\"SR-519 W\\u002fO 4th NB\\u002fSB\",\"King\"],[\"SR-92 E\\u002fO Lake WB\\u002fEB\",\"Snohomish\"],[\"SR-92 E\\u002fO Callow WB\\u002fEB\",\"Snohomish\"],[\"SR-92 E\\u002fO Quarry WB\\u002fEB\",\"Snohomish\"],[\"SR-92 W\\u002fO Mountain Loop WB\\u002fEB\",\"Snohomish\"],[\"SR-702 E\\u002fO SR-507 WB\\u002fEB\",\"Pierce\"],[\"SR-702 E\\u002fO Harts Lake WB\\u002fEB\",\"Pierce\"],[\"SR-702 E\\u002fO 40th WB\\u002fEB\",\"Pierce\"],[\"SR-702 W\\u002fO 8th WB\\u002fEB\",\"Pierce\"],[\"SR-702 E\\u002fO 8th WB\\u002fEB\",\"Pierce\"],[\"SR-165 E\\u002fO SR-162 NB\\u002fSB\",\"Pierce\"],[\"SR-165 N\\u002fO Davis NB\\u002fSB\",\"Pierce\"],[\"SR-165 N\\u002fO Wilkeson-Carbonado NB\\u002fSB\",\"Pierce\"],[\"SR-704 E\\u002fO Spanaway Loop WB\\u002fEB\",\"Pierce\"],[\"SR-706 E\\u002fO SR-7 WB\\u002fEB\",\"Pierce\"],[\"SR-706 E\\u002fO Kernahan WB\\u002fEB\",\"Pierce\"]],\"hovertemplate\":\"Observed=%{x}\\u003cbr\\u003eModel=%{y}\\u003cbr\\u003elocation=%{customdata[0]}\\u003cbr\\u003eCounty=%{customdata[1]}\\u003cextra\\u003e\\u003c\\u002fextra\\u003e\",\"legendgroup\":\"\",\"marker\":{\"color\":\"#91268F\",\"symbol\":\"circle\"},\"mode\":\"markers\",\"name\":\"\",\"orientation\":\"v\",\"showlegend\":false,\"x\":{\"dtype\":\"i2\",\"bdata\":\"xRWmFSIX9BdQE9kSnBW1FKUT6xNPF34XkAoFF\\u002foO3xISCbIJcwuHC7QMygyGDDENrgpfDOMLNgwACQwJ\\u002fAKFAz4DjQdxB8kJVwNwBV4IQQECAUsFkQWTARIBiQCKAF4I8QjYCOEIJQ7sDF0JXQmqA64DkgRkA60AnQCQAIMAFgVDBG0FmAOxA7kGYQn0CDwIHQiaCl4K\\u002fAI3A1ML+A83EBEM3yN4E50UewulADYAOAGRHOINdAIHApQCHQATABMAEAA4Dd4PixKQBPIJcAAMAA8AFABJADsACgAgAFcA5wBlAXcFsArPBNwFCwFPAewA0wCNAGoAiABxAKYK9AAxAYkFHBbEDNYGKgXgBZ4EIwVqBBoBaQBcAEcBOQCVANsBNQGUAXIBFAEuARYBcABqAFcA3gIxAUoCFgFmAacA0wDDAE4ANwFIAa0AbAJFAEIAlwBXAD8AOABRAE4AfgAhABwAEwAOAKIAzwPMAz0FdgQUBkUBWgBsADwANwC2ANAAYwDnAI0AHgHGAcMBAwELAAkA3wC6AJIAhAAqACkARwAYAI4AGABVAEsCgwH9AzABcwEZAMgAcACcAWUBRgFbAQwCiwMRB7gAtgCzAVoA0wBQAB8BawAGAAUABwBKAK4AjABsAEcAXwBoAKIBmAHNAaEBtADbA9ID8gGXAbYB6ACqAGcADAEbASsAkQA3AOkAqgFEAfcAeAM8BC4FZQBfAI4A5AO+A70DVAQdBL0DXQBkADcASgBkAIYD0QApAFQAOwHEAB4BaAESAGQAqAG2ArUCVgG1ALsBbATvAIwAlwArACgAWQD6AnwC7AGsAbMBkgGKAUoBLwCzAXUBigEnARoBUgFbAdsBcwETAoIBPQA8ALMBdwIWAuABPQDXAhYB4QAaAa0ABgGvADMAEwDBAiYADgA=\"},\"xaxis\":\"x\",\"y\":{\"dtype\":\"i2\",\"bdata\":\"3RreGiEcIBwGHAEcrRtDG7MeFR+MH9IfYhy7KUUzvyt9F6MYKBYOF1keRx2VHLsbGxwpGxkYsxeyEo0SWRHEBKcFkgaqBpQGTwAhCAsZZBf+Fe8M0QruA64D4ADTAAoTshRnGG0bExSmE9cHCQgsBloJXAPXAboC6wOpAlcDxgMrAnQD+wFJCrICGQgFCA4I\\u002fgdeCE8IkAn\\u002fCOwjGCFGIC0OdxwJHekYJRiBAJEA4wIvGm4DiAA8AHQAdAB0AHQAdABiC1IIAhGiBMQQLggAAAAAAAAVAAQAAgAAAAAAjRPvEmICtgH7AqsHIQBJAA0AVAWfA\\u002fUAPQAAAPsH3QAoAToLwQ+PEe0XWxNnE2gQOBAaCBMAFwAGACAAIwAiAIIGAwABABcAFgAWAFYBgAECAGcAUwJKAiUCkQHYAFoAXQCDAOkAigCFAEkAngQCAAIAvACNAAAAKQApAAQA7wAWABYAGgAaAAMAnASkBbcM6g4\\u002fEAsAIwAaADQBIwEjANkAfQBUAf4ATAK4AKAAegAAAAAAvAC8AL0APQFHAJAAMQAAACIAAAACAMwBrQeTCjMITQAAADQANABgAGAAdgCfAMoAlgETAwsAmQDFBUUAugAHABcADwAFAAAABgALABkAAAARABEAEQBQAFsAXwBgACkAAQBwA8ICBgiwCZUJlQkTCVEAaQBOAAcADwAAAAUASwB0AHQAnAACARkBDgAcAGsAiwRvBMsEvAVpBdgFWwCnACYAEwCNABsAXwASAAUAygB4AEkDGwEAAAMAjgCRBfgFdQB\\u002fAJUAaAAJAAgACABzAHQAJgGeAMsAwwCgAKQAowCjAKMAAwAqAioC6wH3AfcB9wH3AScCMgIpAikCIABYAOoAbwMJAf0AAABIAAcABwAsACwAIAAJAAAAAAA1AQAAAAA=\"},\"yaxis\":\"y\",\"type\":\"scatter\",\"line\":{\"color\":\"Grey\",\"width\":2}},{\"hovertemplate\":\"Observed=%{x}\\u003cbr\\u003eModel=%{y}\\u003cextra\\u003e\\u003c\\u002fextra\\u003e\",\"legendgroup\":\"\",\"line\":{\"color\":\"Grey\",\"dash\":\"solid\",\"width\":2},\"marker\":{\"symbol\":\"circle\"},\"mode\":\"lines\",\"name\":\"\",\"orientation\":\"v\",\"showlegend\":false,\"x\":{\"dtype\":\"f8\",\"bdata\":\"AAAAAAAAAADwwQcffDBXQPDBBx98MGdAdNFFF11kcUDwwQcffDB3QGyyySab\\u002fHxAdNFFF11kgUCyySabbEqEQPDBBx98MIdALrrooosWikBssskmm\\u002fyMQKqqqqqq4o9AdNFFF11kkUCTTTbZZNeSQLLJJptsSpRA0UUXXXS9lUDwwQcffDCXQA8++OCDo5hALrrooosWmkBNNtlkk4mbQGyyySab\\u002fJxAiy666KJvnkCqqqqqquKfQGSTTTbZqqBAdNFFF11koUCEDz744B2iQJNNNtlk16JAoosuuuiQo0CyySabbEqkQMIHH3zwA6VA0UUXXXS9pUDggw8++HamQPDBBx98MKdAAAAAAADqp0APPvjgg6OoQB588MEHXalALrrooosWqkA++OCDD9CqQE022WSTiatAXHTRRRdDrEBssskmm\\u002fysQHzwwQcftq1Aiy666KJvrkCabLLJJimvQKqqqqqq4q9AXXTRRRdOsEBkk0022aqwQGyyySabB7FAdNFFF11ksUB88MEHH8GxQIQPPvjgHbJAiy666KJ6skCTTTbZZNeyQJtssskmNLNAoosuuuiQs0Cqqqqqqu2zQLLJJptsSrRAuuiiiy6ntEDCBx988AO1QMkmm2yyYLVA0UUXXXS9tUDZZJNNNhq2QOCDDz74drZA6KKLLrrTtkDwwQcffDC3QPjggw8+jbdAAAAAAADqt0AHH3zwwUa4QA8++OCDo7hAF1100UUAuUAefPDBB125QCabbLLJublALrrooosWukA22WSTTXO6QD744IMP0LpARRdddNEsu0BNNtlkk4m7QFVVVVVV5rtAXHTRRRdDvEBkk0022Z+8QGyyySab\\u002fLxAdNFFF11ZvUB88MEHH7a9QIMPPvjgEr5Aiy666KJvvkCTTTbZZMy+QJpssskmKb9AoosuuuiFv0CqqqqqquK\\u002fQNlkk022H8BAXXTRRRdOwEDhgw8+eHzAQGSTTTbZqsBA6KKLLjrZwEBssskmmwfBQPDBBx\\u002f8NcFAdNFFF11kwUD44IMPvpLBQHzwwQcfwcFAAAAAAIDvwUA=\"},\"xaxis\":\"x\",\"y\":{\"dtype\":\"f8\",\"bdata\":\"KE8W46LAY0CO2mGyqu1xQIiNOPMD+3lAQqAHmi4EgUC++XI62wqFQDxT3tqHEYlAuaxJezQYjUAbg9qNcI+QQNkvEN7GkpJAmNxFLh2WlEBXiXt+c5mWQBU2sc7JnJhA1OLmHiCgmkCSjxxvdqOcQFE8Ur\\u002fMpp5AiPTDhxFVoEDmyt6vvFahQEah+ddnWKJApncUABNao0AETi8ovlukQGQkSlBpXaVAxPpkeBRfpkAi0X+gv2CnQIKnmshqYqhA4n218BVkqUBCVNAYwWWqQKAq60BsZ6tA\\u002fgAGaRdprEBe1yCRwmqtQL6tO7ltbK5AHIRW4Rhur0A+rbgE4jewQG0Yxpi3uLBAnYPTLI05sUDN7uDAYrqxQPxZ7lQ4O7JALMX76A28skBcMAl94zyzQIubFhG5vbNAuwYkpY4+tEDrcTE5ZL+0QBvdPs05QLVASkhMYQ\\u002fBtUB5s1n15EG2QKkeZ4m6wrZA2Yl0HZBDt0AI9YGxZcS3QDhgj0U7RbhAaMuc2RDGuECYNqpt5ka5QMihtwG8x7lA9gzFlZFIukAmeNIpZ8m6QFbj3708SrtAhU7tURLLu0C1ufrl50u8QOUkCHq9zLxAFZAVDpNNvUBF+yKiaM69QHNmMDY+T75Ao9E9yhPQvkDTPEte6VC\\u002fQAKoWPK+0b9AmQkzQ0opwEAxvzkNtWnAQMl0QNcfqsBAYSpHoYrqwED5301r9SrBQJGVVDVga8FAKUtb\\u002f8qrwUDAAGLJNezBQFi2aJOgLMJA8GtvXQttwkCIIXYndq3CQCDXfPHg7cJAt4yDu0suw0BPQoqFtm7DQOf3kE8hr8NAf62XGYzvw0AXY57j9i\\u002fEQK8Ypa1hcMRAR86rd8ywxEDfg7JBN\\u002fHEQHY5uQuiMcVADu+\\u002f1QxyxUCmpMafd7LFQD1azWni8sVA1Q\\u002fUM00zxkBtxdr9t3PGQAV74ccitMZAnTDokY30xkA15u5b+DTHQMyb9SVjdcdAZFH87821x0D8BgO6OPbHQJS8CYSjNshALHIQTg53yEDEJxcYebfIQFzdHeLj98hA9JIkrE44yUA=\"},\"yaxis\":\"y\",\"type\":\"scatter\"}],                        {\"template\":{\"data\":{\"barpolar\":[{\"marker\":{\"line\":{\"color\":\"white\",\"width\":0.5},\"pattern\":{\"fillmode\":\"overlay\",\"size\":10,\"solidity\":0.2}},\"type\":\"barpolar\"}],\"bar\":[{\"error_x\":{\"color\":\"rgb(36,36,36)\"},\"error_y\":{\"color\":\"rgb(36,36,36)\"},\"marker\":{\"line\":{\"color\":\"white\",\"width\":0.5},\"pattern\":{\"fillmode\":\"overlay\",\"size\":10,\"solidity\":0.2}},\"type\":\"bar\"}],\"carpet\":[{\"aaxis\":{\"endlinecolor\":\"rgb(36,36,36)\",\"gridcolor\":\"white\",\"linecolor\":\"white\",\"minorgridcolor\":\"white\",\"startlinecolor\":\"rgb(36,36,36)\"},\"baxis\":{\"endlinecolor\":\"rgb(36,36,36)\",\"gridcolor\":\"white\",\"linecolor\":\"white\",\"minorgridcolor\":\"white\",\"startlinecolor\":\"rgb(36,36,36)\"},\"type\":\"carpet\"}],\"choropleth\":[{\"colorbar\":{\"outlinewidth\":1,\"tickcolor\":\"rgb(36,36,36)\",\"ticks\":\"outside\"},\"type\":\"choropleth\"}],\"contourcarpet\":[{\"colorbar\":{\"outlinewidth\":1,\"tickcolor\":\"rgb(36,36,36)\",\"ticks\":\"outside\"},\"type\":\"contourcarpet\"}],\"contour\":[{\"colorbar\":{\"outlinewidth\":1,\"tickcolor\":\"rgb(36,36,36)\",\"ticks\":\"outside\"},\"colorscale\":[[0.0,\"#440154\"],[0.1111111111111111,\"#482878\"],[0.2222222222222222,\"#3e4989\"],[0.3333333333333333,\"#31688e\"],[0.4444444444444444,\"#26828e\"],[0.5555555555555556,\"#1f9e89\"],[0.6666666666666666,\"#35b779\"],[0.7777777777777778,\"#6ece58\"],[0.8888888888888888,\"#b5de2b\"],[1.0,\"#fde725\"]],\"type\":\"contour\"}],\"heatmap\":[{\"colorbar\":{\"outlinewidth\":1,\"tickcolor\":\"rgb(36,36,36)\",\"ticks\":\"outside\"},\"colorscale\":[[0.0,\"#440154\"],[0.1111111111111111,\"#482878\"],[0.2222222222222222,\"#3e4989\"],[0.3333333333333333,\"#31688e\"],[0.4444444444444444,\"#26828e\"],[0.5555555555555556,\"#1f9e89\"],[0.6666666666666666,\"#35b779\"],[0.7777777777777778,\"#6ece58\"],[0.8888888888888888,\"#b5de2b\"],[1.0,\"#fde725\"]],\"type\":\"heatmap\"}],\"histogram2dcontour\":[{\"colorbar\":{\"outlinewidth\":1,\"tickcolor\":\"rgb(36,36,36)\",\"ticks\":\"outside\"},\"colorscale\":[[0.0,\"#440154\"],[0.1111111111111111,\"#482878\"],[0.2222222222222222,\"#3e4989\"],[0.3333333333333333,\"#31688e\"],[0.4444444444444444,\"#26828e\"],[0.5555555555555556,\"#1f9e89\"],[0.6666666666666666,\"#35b779\"],[0.7777777777777778,\"#6ece58\"],[0.8888888888888888,\"#b5de2b\"],[1.0,\"#fde725\"]],\"type\":\"histogram2dcontour\"}],\"histogram2d\":[{\"colorbar\":{\"outlinewidth\":1,\"tickcolor\":\"rgb(36,36,36)\",\"ticks\":\"outside\"},\"colorscale\":[[0.0,\"#440154\"],[0.1111111111111111,\"#482878\"],[0.2222222222222222,\"#3e4989\"],[0.3333333333333333,\"#31688e\"],[0.4444444444444444,\"#26828e\"],[0.5555555555555556,\"#1f9e89\"],[0.6666666666666666,\"#35b779\"],[0.7777777777777778,\"#6ece58\"],[0.8888888888888888,\"#b5de2b\"],[1.0,\"#fde725\"]],\"type\":\"histogram2d\"}],\"histogram\":[{\"marker\":{\"line\":{\"color\":\"white\",\"width\":0.6}},\"type\":\"histogram\"}],\"mesh3d\":[{\"colorbar\":{\"outlinewidth\":1,\"tickcolor\":\"rgb(36,36,36)\",\"ticks\":\"outside\"},\"type\":\"mesh3d\"}],\"parcoords\":[{\"line\":{\"colorbar\":{\"outlinewidth\":1,\"tickcolor\":\"rgb(36,36,36)\",\"ticks\":\"outside\"}},\"type\":\"parcoords\"}],\"pie\":[{\"automargin\":true,\"type\":\"pie\"}],\"scatter3d\":[{\"line\":{\"colorbar\":{\"outlinewidth\":1,\"tickcolor\":\"rgb(36,36,36)\",\"ticks\":\"outside\"}},\"marker\":{\"colorbar\":{\"outlinewidth\":1,\"tickcolor\":\"rgb(36,36,36)\",\"ticks\":\"outside\"}},\"type\":\"scatter3d\"}],\"scattercarpet\":[{\"marker\":{\"colorbar\":{\"outlinewidth\":1,\"tickcolor\":\"rgb(36,36,36)\",\"ticks\":\"outside\"}},\"type\":\"scattercarpet\"}],\"scattergeo\":[{\"marker\":{\"colorbar\":{\"outlinewidth\":1,\"tickcolor\":\"rgb(36,36,36)\",\"ticks\":\"outside\"}},\"type\":\"scattergeo\"}],\"scattergl\":[{\"marker\":{\"colorbar\":{\"outlinewidth\":1,\"tickcolor\":\"rgb(36,36,36)\",\"ticks\":\"outside\"}},\"type\":\"scattergl\"}],\"scattermapbox\":[{\"marker\":{\"colorbar\":{\"outlinewidth\":1,\"tickcolor\":\"rgb(36,36,36)\",\"ticks\":\"outside\"}},\"type\":\"scattermapbox\"}],\"scattermap\":[{\"marker\":{\"colorbar\":{\"outlinewidth\":1,\"tickcolor\":\"rgb(36,36,36)\",\"ticks\":\"outside\"}},\"type\":\"scattermap\"}],\"scatterpolargl\":[{\"marker\":{\"colorbar\":{\"outlinewidth\":1,\"tickcolor\":\"rgb(36,36,36)\",\"ticks\":\"outside\"}},\"type\":\"scatterpolargl\"}],\"scatterpolar\":[{\"marker\":{\"colorbar\":{\"outlinewidth\":1,\"tickcolor\":\"rgb(36,36,36)\",\"ticks\":\"outside\"}},\"type\":\"scatterpolar\"}],\"scatter\":[{\"fillpattern\":{\"fillmode\":\"overlay\",\"size\":10,\"solidity\":0.2},\"type\":\"scatter\"}],\"scatterternary\":[{\"marker\":{\"colorbar\":{\"outlinewidth\":1,\"tickcolor\":\"rgb(36,36,36)\",\"ticks\":\"outside\"}},\"type\":\"scatterternary\"}],\"surface\":[{\"colorbar\":{\"outlinewidth\":1,\"tickcolor\":\"rgb(36,36,36)\",\"ticks\":\"outside\"},\"colorscale\":[[0.0,\"#440154\"],[0.1111111111111111,\"#482878\"],[0.2222222222222222,\"#3e4989\"],[0.3333333333333333,\"#31688e\"],[0.4444444444444444,\"#26828e\"],[0.5555555555555556,\"#1f9e89\"],[0.6666666666666666,\"#35b779\"],[0.7777777777777778,\"#6ece58\"],[0.8888888888888888,\"#b5de2b\"],[1.0,\"#fde725\"]],\"type\":\"surface\"}],\"table\":[{\"cells\":{\"fill\":{\"color\":\"rgb(237,237,237)\"},\"line\":{\"color\":\"white\"}},\"header\":{\"fill\":{\"color\":\"rgb(217,217,217)\"},\"line\":{\"color\":\"white\"}},\"type\":\"table\"}]},\"layout\":{\"annotationdefaults\":{\"arrowhead\":0,\"arrowwidth\":1},\"autotypenumbers\":\"strict\",\"coloraxis\":{\"colorbar\":{\"outlinewidth\":1,\"tickcolor\":\"rgb(36,36,36)\",\"ticks\":\"outside\"}},\"colorscale\":{\"diverging\":[[0.0,\"rgb(103,0,31)\"],[0.1,\"rgb(178,24,43)\"],[0.2,\"rgb(214,96,77)\"],[0.3,\"rgb(244,165,130)\"],[0.4,\"rgb(253,219,199)\"],[0.5,\"rgb(247,247,247)\"],[0.6,\"rgb(209,229,240)\"],[0.7,\"rgb(146,197,222)\"],[0.8,\"rgb(67,147,195)\"],[0.9,\"rgb(33,102,172)\"],[1.0,\"rgb(5,48,97)\"]],\"sequential\":[[0.0,\"#440154\"],[0.1111111111111111,\"#482878\"],[0.2222222222222222,\"#3e4989\"],[0.3333333333333333,\"#31688e\"],[0.4444444444444444,\"#26828e\"],[0.5555555555555556,\"#1f9e89\"],[0.6666666666666666,\"#35b779\"],[0.7777777777777778,\"#6ece58\"],[0.8888888888888888,\"#b5de2b\"],[1.0,\"#fde725\"]],\"sequentialminus\":[[0.0,\"#440154\"],[0.1111111111111111,\"#482878\"],[0.2222222222222222,\"#3e4989\"],[0.3333333333333333,\"#31688e\"],[0.4444444444444444,\"#26828e\"],[0.5555555555555556,\"#1f9e89\"],[0.6666666666666666,\"#35b779\"],[0.7777777777777778,\"#6ece58\"],[0.8888888888888888,\"#b5de2b\"],[1.0,\"#fde725\"]]},\"colorway\":[\"#91268F\",\"#8CC63E\",\"#00A7A0\",\"#F05A28\",\"#4C4C4C\",\"#630460\",\"#9f3913\",\"#588527\",\"#00716c\",\"#3e4040\"],\"font\":{\"color\":\"rgb(36,36,36)\",\"family\":\"Poppins\",\"size\":11},\"geo\":{\"bgcolor\":\"white\",\"lakecolor\":\"white\",\"landcolor\":\"white\",\"showlakes\":true,\"showland\":true,\"subunitcolor\":\"white\"},\"hoverlabel\":{\"align\":\"left\"},\"hovermode\":\"closest\",\"mapbox\":{\"style\":\"light\"},\"paper_bgcolor\":\"white\",\"plot_bgcolor\":\"white\",\"polar\":{\"angularaxis\":{\"gridcolor\":\"rgb(232,232,232)\",\"linecolor\":\"rgb(36,36,36)\",\"showgrid\":false,\"showline\":true,\"ticks\":\"outside\"},\"bgcolor\":\"white\",\"radialaxis\":{\"gridcolor\":\"rgb(232,232,232)\",\"linecolor\":\"rgb(36,36,36)\",\"showgrid\":false,\"showline\":true,\"ticks\":\"outside\"}},\"scene\":{\"xaxis\":{\"backgroundcolor\":\"white\",\"gridcolor\":\"rgb(232,232,232)\",\"gridwidth\":2,\"linecolor\":\"rgb(36,36,36)\",\"showbackground\":true,\"showgrid\":false,\"showline\":true,\"ticks\":\"outside\",\"zeroline\":false,\"zerolinecolor\":\"rgb(36,36,36)\"},\"yaxis\":{\"backgroundcolor\":\"white\",\"gridcolor\":\"rgb(232,232,232)\",\"gridwidth\":2,\"linecolor\":\"rgb(36,36,36)\",\"showbackground\":true,\"showgrid\":false,\"showline\":true,\"ticks\":\"outside\",\"zeroline\":false,\"zerolinecolor\":\"rgb(36,36,36)\"},\"zaxis\":{\"backgroundcolor\":\"white\",\"gridcolor\":\"rgb(232,232,232)\",\"gridwidth\":2,\"linecolor\":\"rgb(36,36,36)\",\"showbackground\":true,\"showgrid\":false,\"showline\":true,\"ticks\":\"outside\",\"zeroline\":false,\"zerolinecolor\":\"rgb(36,36,36)\"}},\"shapedefaults\":{\"fillcolor\":\"black\",\"line\":{\"width\":0},\"opacity\":0.3},\"ternary\":{\"aaxis\":{\"gridcolor\":\"rgb(232,232,232)\",\"linecolor\":\"rgb(36,36,36)\",\"showgrid\":false,\"showline\":true,\"ticks\":\"outside\"},\"baxis\":{\"gridcolor\":\"rgb(232,232,232)\",\"linecolor\":\"rgb(36,36,36)\",\"showgrid\":false,\"showline\":true,\"ticks\":\"outside\"},\"bgcolor\":\"white\",\"caxis\":{\"gridcolor\":\"rgb(232,232,232)\",\"linecolor\":\"rgb(36,36,36)\",\"showgrid\":false,\"showline\":true,\"ticks\":\"outside\"}},\"title\":{\"x\":0.05},\"xaxis\":{\"automargin\":true,\"gridcolor\":\"rgb(232,232,232)\",\"linecolor\":\"rgb(36,36,36)\",\"showgrid\":false,\"showline\":true,\"ticks\":\"outside\",\"title\":{\"standoff\":15},\"zeroline\":false,\"zerolinecolor\":\"rgb(36,36,36)\"},\"yaxis\":{\"automargin\":true,\"gridcolor\":\"rgb(232,232,232)\",\"linecolor\":\"rgb(36,36,36)\",\"showgrid\":false,\"showline\":true,\"ticks\":\"outside\",\"title\":{\"standoff\":15},\"zeroline\":false,\"zerolinecolor\":\"rgb(36,36,36)\"}}},\"xaxis\":{\"anchor\":\"y\",\"domain\":[0.0,1.0],\"title\":{\"text\":\"Observed\"}},\"yaxis\":{\"anchor\":\"x\",\"domain\":[0.0,1.0],\"title\":{\"text\":\"Model\"}},\"legend\":{\"tracegroupgap\":0},\"title\":{\"text\":\"Heavy Trucks: Region\"},\"margin\":{\"l\":100,\"r\":100,\"t\":100,\"b\":100},\"height\":600,\"width\":800,\"shapes\":[{\"line\":{\"color\":\"Red\",\"dash\":\"dash\",\"width\":2},\"type\":\"line\",\"x0\":0,\"x1\":13125,\"y0\":0,\"y1\":13125}],\"annotations\":[{\"align\":\"right\",\"font\":{\"color\":\"pink\",\"size\":12},\"showarrow\":false,\"text\":\"y = x\",\"x\":13781.25,\"y\":13781.25},{\"align\":\"right\",\"font\":{\"color\":\"black\",\"size\":12},\"showarrow\":false,\"text\":\"r^2 = 0.70\",\"x\":9642.15,\"y\":13558.245359802573}]},                        {\"responsive\": true}                    ).then(function(){\n",
       "                            \n",
       "var gd = document.getElementById('05ac174e-0381-46db-a6a9-f453bc833aab');\n",
       "var x = new MutationObserver(function (mutations, observer) {{\n",
       "        var display = window.getComputedStyle(gd).display;\n",
       "        if (!display || display === 'none') {{\n",
       "            console.log([gd, 'removed!']);\n",
       "            Plotly.purge(gd);\n",
       "            observer.disconnect();\n",
       "        }}\n",
       "}});\n",
       "\n",
       "// Listen for the removal of the full notebook cells\n",
       "var notebookContainer = gd.closest('#notebook-container');\n",
       "if (notebookContainer) {{\n",
       "    x.observe(notebookContainer, {childList: true});\n",
       "}}\n",
       "\n",
       "// Listen for the clearing of the current output cell\n",
       "var outputEl = gd.closest('.output');\n",
       "if (outputEl) {{\n",
       "    x.observe(outputEl, {childList: true});\n",
       "}}\n",
       "\n",
       "                        })                };            </script>        </div>"
      ]
     },
     "metadata": {},
     "output_type": "display_data"
    }
   ],
   "source": [
    "fig = create_truck_chart(df_daily_heavy, 'Heavy')\n",
    "fig.show()"
   ]
  },
  {
   "cell_type": "raw",
   "id": "3bd56227",
   "metadata": {
    "vscode": {
     "languageId": "raw"
    }
   },
   "source": [
    "#### King"
   ]
  },
  {
   "cell_type": "code",
   "execution_count": 25,
   "id": "c4ff02a8",
   "metadata": {
    "execution": {
     "iopub.execute_input": "2025-06-18T22:59:58.174503Z",
     "iopub.status.busy": "2025-06-18T22:59:58.174503Z",
     "iopub.status.idle": "2025-06-18T22:59:58.319869Z",
     "shell.execute_reply": "2025-06-18T22:59:58.318865Z"
    }
   },
   "outputs": [
    {
     "data": {
      "application/vnd.plotly.v1+json": {
       "config": {
        "plotlyServerURL": "https://plot.ly"
       },
       "data": [
        {
         "customdata": [
          [
           "I-5 S/O 205th NB",
           "King"
          ],
          [
           "I-5 S/O 205th SB",
           "King"
          ],
          [
           "I-5 Rev N/O I-5 GP NB/SB",
           "King"
          ],
          [
           "I-90 E/O I-5 WB",
           "King"
          ],
          [
           "I-90 E/O I-5 EB",
           "King"
          ],
          [
           "I-90 E/O W Lk Sam WB",
           "King"
          ],
          [
           "I-90 E/O W Lk Sam EB",
           "King"
          ],
          [
           "I-90 E/O SR-900 WB",
           "King"
          ],
          [
           "I-405 @ I-5 Southcenter NB",
           "King"
          ],
          [
           "I-405 @ I-5 Southcenter SB",
           "King"
          ],
          [
           "I-405 @ Lake Wash Blvd NB",
           "King"
          ],
          [
           "I-405 @ I-90 NB",
           "King"
          ],
          [
           "I-405 @ I-90 SB",
           "King"
          ],
          [
           "SR-520 @ x-lake bridge WB",
           "King"
          ],
          [
           "SR-520 @ x-lake bridge EB",
           "King"
          ],
          [
           "SR-167 S/O 43rd NB",
           "King"
          ],
          [
           "SR-167 S/O 43rd SB",
           "King"
          ],
          [
           "SR-167 N/O SR-18 NB",
           "King"
          ],
          [
           "SR-167 N/O SR-18 SB",
           "King"
          ],
          [
           "SR-167 S/O 15th SW NB",
           "King"
          ],
          [
           "SR-167 S/O 15th SW SB",
           "King"
          ],
          [
           "SR-509 @ Holden NB",
           "King"
          ],
          [
           "SR-509 @ Holden SB",
           "King"
          ],
          [
           "SR-99 N/O 14th NB",
           "King"
          ],
          [
           "SR-99 N/O 14th SB",
           "King"
          ],
          [
           "SR-99 N/O WSF NB",
           "King"
          ],
          [
           "SR-99 N/O WSF SB",
           "King"
          ],
          [
           "SR-99 tunnel NB",
           "King"
          ],
          [
           "SR-99 tunnel SB",
           "King"
          ],
          [
           "SR-599 S/O Pacific NB",
           "King"
          ],
          [
           "SR-599 S/O Pacific SB",
           "King"
          ],
          [
           "SR-599 @ Pacific NB",
           "King"
          ],
          [
           "SR-599 @ Pacific SB",
           "King"
          ],
          [
           "SR-18 @ I-5 WB",
           "King"
          ],
          [
           "SR-18 @ I-5 EB",
           "King"
          ],
          [
           "SR-18 W/O Auburn-Black Diamond WB",
           "King"
          ],
          [
           "SR-18 W/O Auburn-Black Diamond EB",
           "King"
          ],
          [
           "SR-18 E/O SR-516 WB",
           "King"
          ],
          [
           "SR-18 E/O SR-516 EB",
           "King"
          ],
          [
           "SR-18 E/O 256th WB",
           "King"
          ],
          [
           "SR-18 E/O 256th EB",
           "King"
          ],
          [
           "SR-522 N/O 195th WB",
           "King"
          ],
          [
           "SR-522 N/O 195th EB",
           "King"
          ],
          [
           "I-5 N/O I-5 Rev CBD NB/SB",
           "King"
          ],
          [
           "I-90 W/O SR-18 WB/EB",
           "King"
          ],
          [
           "I-90 E/O SR-18 WB/EB",
           "King"
          ],
          [
           "I-90 E/O 436th WB/EB",
           "King"
          ],
          [
           "I-90 @ Kittitas County WB/EB",
           "King"
          ],
          [
           "I-405 N/O SR-522 NB/SB",
           "King"
          ],
          [
           "SR-167 N/O Grady NB/SB",
           "King"
          ],
          [
           "SR-410 E/O 244th WB/EB",
           "King"
          ],
          [
           "SR-410 E/O Farman WB/EB",
           "King"
          ],
          [
           "SR-410 @ Greenwater River WB/EB",
           "King"
          ],
          [
           "SR-509 E/O 47th NB/SB",
           "King"
          ],
          [
           "SR-509 E/O 21st NB/SB",
           "King"
          ],
          [
           "SR-509 W/O SR-516 NB/SB",
           "King"
          ],
          [
           "SR-509 W/O Des Moines Mem NB/SB",
           "King"
          ],
          [
           "SR-509 E/O 1st Ave NB/SB",
           "King"
          ],
          [
           "SR-509 E/O Des Moines Mem NB/SB",
           "King"
          ],
          [
           "SR-509 N/O Des Moines Mem NB/SB",
           "King"
          ],
          [
           "SR-509 N/O SR-518 NB/SB",
           "King"
          ],
          [
           "SR-99 S/O SR-18 NB/SB",
           "King"
          ],
          [
           "SR-99 N/O SR-18 NB/SB",
           "King"
          ],
          [
           "SR-99 N/O 320th NB/SB",
           "King"
          ],
          [
           "SR-99 N/O 188th NB/SB",
           "King"
          ],
          [
           "SR-99 @ WSF NB/SB",
           "King"
          ],
          [
           "SR-99 @ Aurora Bridge NB/SB",
           "King"
          ],
          [
           "SR-99 N/O 38th NB/SB",
           "King"
          ],
          [
           "SR-99 S/O Roosevelt NB/SB",
           "King"
          ],
          [
           "SR-599 N/O I-5 NB/SB",
           "King"
          ],
          [
           "SR-518 @ SR-509 WB/EB",
           "King"
          ],
          [
           "SR-518 E/O SR-509 WB/EB",
           "King"
          ],
          [
           "SR-18 E/O SR-99 WB/EB",
           "King"
          ],
          [
           "SR-18 N/O 304th WB/EB",
           "King"
          ],
          [
           "SR-18 S/O I-90 WB/EB",
           "King"
          ],
          [
           "SR-202 @ SR-522 NB/SB",
           "King"
          ],
          [
           "SR-202 N/O 145th NB/SB",
           "King"
          ],
          [
           "SR-202 @ Sammamish River Br NB/SB",
           "King"
          ],
          [
           "SR-202 S/O 144th NB/SB",
           "King"
          ],
          [
           "SR-202 N/O Redmond Way NB/SB",
           "King"
          ],
          [
           "SR-202 E/O 164th NB/SB",
           "King"
          ],
          [
           "SR-202 E/O SR-520 NB/SB",
           "King"
          ],
          [
           "SR-202 E/O E Lk Samm NB/SB",
           "King"
          ],
          [
           "SR-202 E/O Sahalee NB/SB",
           "King"
          ],
          [
           "SR-202 E/O 236th NB/SB",
           "King"
          ],
          [
           "SR-202 S/O Ames Lake NB/SB",
           "King"
          ],
          [
           "SR-202 S/O Duthie Hill NB/SB",
           "King"
          ],
          [
           "SR-202 E/O SR-203 NB/SB",
           "King"
          ],
          [
           "SR-202 N/O I-90 NB/SB",
           "King"
          ],
          [
           "SR-522 N/O 145th NB/SB",
           "King"
          ],
          [
           "SR-104 W/O 19th WB/EB",
           "King"
          ],
          [
           "SR-516 E/O SR-509 WB/EB",
           "King"
          ],
          [
           "SR-516 W/O I-5 WB/EB",
           "King"
          ],
          [
           "SR-516 E/O Meeker WB/EB",
           "King"
          ],
          [
           "SR-516 W/O SR-167 WB/EB",
           "King"
          ],
          [
           "SR-516 E/O SR-167 WB/EB",
           "King"
          ],
          [
           "SR-516 E/O SR-18 WB/EB",
           "King"
          ],
          [
           "SR-900 S/O NB I-5 on-ramp @ Boe Acc WB/EB",
           "King"
          ],
          [
           "SR-900 E/O 68th WB/EB",
           "King"
          ],
          [
           "SR-900 @ I-405 WB/EB",
           "King"
          ],
          [
           "SR-900 E/O 148th WB/EB",
           "King"
          ],
          [
           "SR-900 N/O Talus WB/EB",
           "King"
          ],
          [
           "SR-900 N/O Newport WB/EB",
           "King"
          ],
          [
           "SR-2 E/O Skykomish WB/EB",
           "King"
          ],
          [
           "SR-513 S/O 44th NB/SB",
           "King"
          ],
          [
           "SR-169 N/O SR-164 NB/SB",
           "King"
          ],
          [
           "SR-169 S/O Lawson NB/SB",
           "King"
          ],
          [
           "SR-169 S/O 280th NB/SB",
           "King"
          ],
          [
           "SR-169 N/O 276th NB/SB",
           "King"
          ],
          [
           "SR-169 N/O 231st NB/SB",
           "King"
          ],
          [
           "SR-169 N/O 231st NB/SB",
           "King"
          ],
          [
           "SR-169 W/O 140th NB/SB",
           "King"
          ],
          [
           "SR-515 N/O SR-516 NB/SB",
           "King"
          ],
          [
           "SR-515 N/O 108th NB/SB",
           "King"
          ],
          [
           "SR-515 N/O Puget NB/SB",
           "King"
          ],
          [
           "SR-181 N/O SR-516 NB/SB",
           "King"
          ],
          [
           "SR-181 S/O James NB/SB",
           "King"
          ],
          [
           "SR-181 N/O James NB/SB",
           "King"
          ],
          [
           "SR-181 N/O 228th NB/SB",
           "King"
          ],
          [
           "SR-181 N/O 180th NB/SB",
           "King"
          ],
          [
           "SR-181 S/O Longacres NB/SB",
           "King"
          ],
          [
           "SR-523 E/O Lenora WB/EB",
           "King"
          ],
          [
           "SR-164 @ SR-18 WB/EB",
           "King"
          ],
          [
           "SR-164 S/O 400th WB/EB",
           "King"
          ],
          [
           "SR-203 N/O Cherry Valley NB/SB",
           "King"
          ],
          [
           "SR-203 N/O 124th NB/SB",
           "King"
          ],
          [
           "SR-203 W/O Stillwater Hill NB/SB",
           "King"
          ],
          [
           "SR-203 N/O Carnation Farm NB/SB",
           "King"
          ],
          [
           "SR-203 N/O Tolt Hill NB/SB",
           "King"
          ],
          [
           "SR-203 N/O SR-202 NB/SB",
           "King"
          ],
          [
           "SR-519 W/O 4th NB/SB",
           "King"
          ]
         ],
         "hovertemplate": "Observed=%{x}<br>Model=%{y}<br>location=%{customdata[0]}<br>County=%{customdata[1]}<extra></extra>",
         "legendgroup": "",
         "line": {
          "color": "Grey",
          "width": 2
         },
         "marker": {
          "color": "#91268F",
          "symbol": "circle"
         },
         "mode": "markers",
         "name": "",
         "orientation": "v",
         "showlegend": false,
         "type": "scatter",
         "x": {
          "bdata": "EgmyCfwChQM+A40HcQfJCVcDcAVeCEEBAgGJAIoAXgjxCNgI4QglDuwMqgOuA5IEZAOtAJ0AkACDABYFQwRtBZgDsQO5BmEJ9Ag8CB0ImgpeCvwCNwNTCxEM3yN4E50Uews4AQcClAIdABQASQA7AAoAIABXAOcAZQHcBQsBTwHsANMAjQBqAIgApgr0ADEBiQUcFsQMGgFpAFwARwE5AJUA2wE1AZQBcgEUAS4BFgFwAK0ATgBVAEsCgwH9AzABcwGzAVoA0wBQAB8BawBnADcA6QCqAUQB9wB4AzwELgVlAF8AjgDkA74DvQNUBB0EvQNdADsBxAB1AYoBJwEaAVIBWwF3Ag==",
          "dtype": "i2"
         },
         "xaxis": "x",
         "y": {
          "bdata": "fRejGFkRxASnBZIGqgaUBk8AIQgLGWQX/hXgANMAChOyFGcYbRsTFKYTLAZaCVwD1wG6AusDqQJXA8YDKwJ0A/sBSQqyAhkIBQgOCP4HXghPCJAJ/wjsIy0OdxwJHekYJRjjAjwAdAB0AAAAFQAEAAIAAAAAAI0T7xKrByEASQANAFQFnwP1AD0A+wfdACgBOgvBD48REwAXAAYAIAAjACIAggYDAAEAFwAWABYAVgGAAUkABAACAMwBrQeTCjMITQDFBUUAugAHABcADwBRAAAABQBLAHQAdACcAAIBGQEOABwAawCLBG8EywS8BWkF2AVbAMoAeAAqAusB9wH3AfcB9wFvAw==",
          "dtype": "i2"
         },
         "yaxis": "y"
        },
        {
         "hovertemplate": "Observed=%{x}<br>Model=%{y}<extra></extra>",
         "legendgroup": "",
         "line": {
          "color": "Grey",
          "dash": "solid",
          "width": 2
         },
         "marker": {
          "symbol": "circle"
         },
         "mode": "lines",
         "name": "",
         "orientation": "v",
         "showlegend": false,
         "type": "scatter",
         "x": {
          "bdata": "AAAAAAAAAADwwQcffDBXQPDBBx98MGdAdNFFF11kcUDwwQcffDB3QGyyySab/HxAdNFFF11kgUCyySabbEqEQPDBBx98MIdALrrooosWikBssskmm/yMQKqqqqqq4o9AdNFFF11kkUCTTTbZZNeSQLLJJptsSpRA0UUXXXS9lUDwwQcffDCXQA8++OCDo5hALrrooosWmkBNNtlkk4mbQGyyySab/JxAiy666KJvnkCqqqqqquKfQGSTTTbZqqBAdNFFF11koUCEDz744B2iQJNNNtlk16JAoosuuuiQo0CyySabbEqkQMIHH3zwA6VA0UUXXXS9pUDggw8++HamQPDBBx98MKdAAAAAAADqp0APPvjgg6OoQB588MEHXalALrrooosWqkA++OCDD9CqQE022WSTiatAXHTRRRdDrEBssskmm/ysQHzwwQcftq1Aiy666KJvrkCabLLJJimvQKqqqqqq4q9AXXTRRRdOsEBkk0022aqwQGyyySabB7FAdNFFF11ksUB88MEHH8GxQIQPPvjgHbJAiy666KJ6skCTTTbZZNeyQJtssskmNLNAoosuuuiQs0Cqqqqqqu2zQLLJJptsSrRAuuiiiy6ntEDCBx988AO1QMkmm2yyYLVA0UUXXXS9tUDZZJNNNhq2QOCDDz74drZA6KKLLrrTtkDwwQcffDC3QPjggw8+jbdAAAAAAADqt0AHH3zwwUa4QA8++OCDo7hAF1100UUAuUAefPDBB125QCabbLLJublALrrooosWukA22WSTTXO6QD744IMP0LpARRdddNEsu0BNNtlkk4m7QFVVVVVV5rtAXHTRRRdDvEBkk0022Z+8QGyyySab/LxAdNFFF11ZvUB88MEHH7a9QIMPPvjgEr5Aiy666KJvvkCTTTbZZMy+QJpssskmKb9AoosuuuiFv0CqqqqqquK/QNlkk022H8BAXXTRRRdOwEDhgw8+eHzAQGSTTTbZqsBA6KKLLjrZwEBssskmmwfBQPDBBx/8NcFAdNFFF11kwUD44IMPvpLBQHzwwQcfwcFAAAAAAIDvwUA=",
          "dtype": "f8"
         },
         "xaxis": "x",
         "y": {
          "bdata": "FEatQaNne0BNlG08uvWAQJCFBNiiN4RA03abc4t5h0AWaDIPdLuKQFlZyapc/Y1ATiUwo6KfkEDwnfvwlkCSQJIWxz6L4ZNAM4+SjH+ClUDUB17acyOXQHaAKShoxJhAF/n0dVxlmkC5ccDDUAacQFvqixFFp51A/GJXXzlIn0DPbZHWlnSgQCAqd/0QRaFAcOZcJIsVokDBokJLBeaiQBJfKHJ/tqNAYhsOmfmGpEC01/O/c1elQASU2ebtJ6ZAVFC/DWj4pkCmDKU04sinQPbIiltcmahARoVwgtZpqUCYQVapUDqqQOr9O9DKCqtAOroh90Tbq0CKdgcev6usQNwy7UQ5fK1ALO/Sa7NMrkB8q7iSLR2vQMxnnrmn7a9ADxJC8BBfsEA48LQDTsewQGDOJxeLL7FAiKyaKsiXsUCwig0+BQCyQNlogFFCaLJAAUfzZH/QskApJWZ4vDizQFID2Yv5oLNAe+FLnzYJtECiv76yc3G0QMudMcaw2bRA83uk2e1BtUAcWhftKqq1QEU4igBoErZAbBb9E6V6tkCV9G8n4uK2QL7S4jofS7dA5bBVTlyzt0AOj8hhmRu4QDdtO3XWg7hAX0uuiBPsuECIKSGcUFS5QK8HlK+NvLlA2OUGw8okukABxHnWB426QCii7OlE9bpAUYBf/YFdu0B6XtIQv8W7QKI8RST8LbxAyxq4NzmWvEDy+CpLdv68QBvXnV6zZr1ARLUQcvDOvUBrk4OFLTe+QJRx9phqn75AvU9prKcHv0DlLdy/5G+/QA4MT9Mh2L9AG/Vgcy8gwEAvZBr9TVTAQETT04ZsiMBAV0KNEIu8wEBssUaaqfDAQIAgACTIJMFAlY+5reZYwUCp/nI3BY3BQL1tLMEjwcFA0dzlSkL1wUDlS5/UYCnCQPm6WF5/XcJADioS6J2RwkAimctxvMXCQDYIhfva+cJAS3c+hfktw0Bf5vcOGGLDQHJVsZg2lsNAhsRqIlXKw0CbMySsc/7DQK+i3TWSMsRAwxGXv7BmxEDYgFBJz5rEQOzvCdPtzsRAAF/DXAwDxUA=",
          "dtype": "f8"
         },
         "yaxis": "y"
        }
       ],
       "layout": {
        "annotations": [
         {
          "align": "right",
          "font": {
           "color": "pink",
           "size": 12
          },
          "showarrow": false,
          "text": "y = x",
          "x": 9655.800000000001,
          "y": 9655.800000000001
         },
         {
          "align": "right",
          "font": {
           "color": "black",
           "size": 12
          },
          "showarrow": false,
          "text": "r^2 = 0.51",
          "x": 9642.15,
          "y": 11296.0014099526
         }
        ],
        "height": 600,
        "legend": {
         "tracegroupgap": 0
        },
        "margin": {
         "b": 100,
         "l": 100,
         "r": 100,
         "t": 100
        },
        "shapes": [
         {
          "line": {
           "color": "Red",
           "dash": "dash",
           "width": 2
          },
          "type": "line",
          "x0": 0,
          "x1": 9196,
          "y0": 0,
          "y1": 9196
         }
        ],
        "template": {
         "data": {
          "bar": [
           {
            "error_x": {
             "color": "rgb(36,36,36)"
            },
            "error_y": {
             "color": "rgb(36,36,36)"
            },
            "marker": {
             "line": {
              "color": "white",
              "width": 0.5
             },
             "pattern": {
              "fillmode": "overlay",
              "size": 10,
              "solidity": 0.2
             }
            },
            "type": "bar"
           }
          ],
          "barpolar": [
           {
            "marker": {
             "line": {
              "color": "white",
              "width": 0.5
             },
             "pattern": {
              "fillmode": "overlay",
              "size": 10,
              "solidity": 0.2
             }
            },
            "type": "barpolar"
           }
          ],
          "carpet": [
           {
            "aaxis": {
             "endlinecolor": "rgb(36,36,36)",
             "gridcolor": "white",
             "linecolor": "white",
             "minorgridcolor": "white",
             "startlinecolor": "rgb(36,36,36)"
            },
            "baxis": {
             "endlinecolor": "rgb(36,36,36)",
             "gridcolor": "white",
             "linecolor": "white",
             "minorgridcolor": "white",
             "startlinecolor": "rgb(36,36,36)"
            },
            "type": "carpet"
           }
          ],
          "choropleth": [
           {
            "colorbar": {
             "outlinewidth": 1,
             "tickcolor": "rgb(36,36,36)",
             "ticks": "outside"
            },
            "type": "choropleth"
           }
          ],
          "contour": [
           {
            "colorbar": {
             "outlinewidth": 1,
             "tickcolor": "rgb(36,36,36)",
             "ticks": "outside"
            },
            "colorscale": [
             [
              0.0,
              "#440154"
             ],
             [
              0.1111111111111111,
              "#482878"
             ],
             [
              0.2222222222222222,
              "#3e4989"
             ],
             [
              0.3333333333333333,
              "#31688e"
             ],
             [
              0.4444444444444444,
              "#26828e"
             ],
             [
              0.5555555555555556,
              "#1f9e89"
             ],
             [
              0.6666666666666666,
              "#35b779"
             ],
             [
              0.7777777777777778,
              "#6ece58"
             ],
             [
              0.8888888888888888,
              "#b5de2b"
             ],
             [
              1.0,
              "#fde725"
             ]
            ],
            "type": "contour"
           }
          ],
          "contourcarpet": [
           {
            "colorbar": {
             "outlinewidth": 1,
             "tickcolor": "rgb(36,36,36)",
             "ticks": "outside"
            },
            "type": "contourcarpet"
           }
          ],
          "heatmap": [
           {
            "colorbar": {
             "outlinewidth": 1,
             "tickcolor": "rgb(36,36,36)",
             "ticks": "outside"
            },
            "colorscale": [
             [
              0.0,
              "#440154"
             ],
             [
              0.1111111111111111,
              "#482878"
             ],
             [
              0.2222222222222222,
              "#3e4989"
             ],
             [
              0.3333333333333333,
              "#31688e"
             ],
             [
              0.4444444444444444,
              "#26828e"
             ],
             [
              0.5555555555555556,
              "#1f9e89"
             ],
             [
              0.6666666666666666,
              "#35b779"
             ],
             [
              0.7777777777777778,
              "#6ece58"
             ],
             [
              0.8888888888888888,
              "#b5de2b"
             ],
             [
              1.0,
              "#fde725"
             ]
            ],
            "type": "heatmap"
           }
          ],
          "histogram": [
           {
            "marker": {
             "line": {
              "color": "white",
              "width": 0.6
             }
            },
            "type": "histogram"
           }
          ],
          "histogram2d": [
           {
            "colorbar": {
             "outlinewidth": 1,
             "tickcolor": "rgb(36,36,36)",
             "ticks": "outside"
            },
            "colorscale": [
             [
              0.0,
              "#440154"
             ],
             [
              0.1111111111111111,
              "#482878"
             ],
             [
              0.2222222222222222,
              "#3e4989"
             ],
             [
              0.3333333333333333,
              "#31688e"
             ],
             [
              0.4444444444444444,
              "#26828e"
             ],
             [
              0.5555555555555556,
              "#1f9e89"
             ],
             [
              0.6666666666666666,
              "#35b779"
             ],
             [
              0.7777777777777778,
              "#6ece58"
             ],
             [
              0.8888888888888888,
              "#b5de2b"
             ],
             [
              1.0,
              "#fde725"
             ]
            ],
            "type": "histogram2d"
           }
          ],
          "histogram2dcontour": [
           {
            "colorbar": {
             "outlinewidth": 1,
             "tickcolor": "rgb(36,36,36)",
             "ticks": "outside"
            },
            "colorscale": [
             [
              0.0,
              "#440154"
             ],
             [
              0.1111111111111111,
              "#482878"
             ],
             [
              0.2222222222222222,
              "#3e4989"
             ],
             [
              0.3333333333333333,
              "#31688e"
             ],
             [
              0.4444444444444444,
              "#26828e"
             ],
             [
              0.5555555555555556,
              "#1f9e89"
             ],
             [
              0.6666666666666666,
              "#35b779"
             ],
             [
              0.7777777777777778,
              "#6ece58"
             ],
             [
              0.8888888888888888,
              "#b5de2b"
             ],
             [
              1.0,
              "#fde725"
             ]
            ],
            "type": "histogram2dcontour"
           }
          ],
          "mesh3d": [
           {
            "colorbar": {
             "outlinewidth": 1,
             "tickcolor": "rgb(36,36,36)",
             "ticks": "outside"
            },
            "type": "mesh3d"
           }
          ],
          "parcoords": [
           {
            "line": {
             "colorbar": {
              "outlinewidth": 1,
              "tickcolor": "rgb(36,36,36)",
              "ticks": "outside"
             }
            },
            "type": "parcoords"
           }
          ],
          "pie": [
           {
            "automargin": true,
            "type": "pie"
           }
          ],
          "scatter": [
           {
            "fillpattern": {
             "fillmode": "overlay",
             "size": 10,
             "solidity": 0.2
            },
            "type": "scatter"
           }
          ],
          "scatter3d": [
           {
            "line": {
             "colorbar": {
              "outlinewidth": 1,
              "tickcolor": "rgb(36,36,36)",
              "ticks": "outside"
             }
            },
            "marker": {
             "colorbar": {
              "outlinewidth": 1,
              "tickcolor": "rgb(36,36,36)",
              "ticks": "outside"
             }
            },
            "type": "scatter3d"
           }
          ],
          "scattercarpet": [
           {
            "marker": {
             "colorbar": {
              "outlinewidth": 1,
              "tickcolor": "rgb(36,36,36)",
              "ticks": "outside"
             }
            },
            "type": "scattercarpet"
           }
          ],
          "scattergeo": [
           {
            "marker": {
             "colorbar": {
              "outlinewidth": 1,
              "tickcolor": "rgb(36,36,36)",
              "ticks": "outside"
             }
            },
            "type": "scattergeo"
           }
          ],
          "scattergl": [
           {
            "marker": {
             "colorbar": {
              "outlinewidth": 1,
              "tickcolor": "rgb(36,36,36)",
              "ticks": "outside"
             }
            },
            "type": "scattergl"
           }
          ],
          "scattermap": [
           {
            "marker": {
             "colorbar": {
              "outlinewidth": 1,
              "tickcolor": "rgb(36,36,36)",
              "ticks": "outside"
             }
            },
            "type": "scattermap"
           }
          ],
          "scattermapbox": [
           {
            "marker": {
             "colorbar": {
              "outlinewidth": 1,
              "tickcolor": "rgb(36,36,36)",
              "ticks": "outside"
             }
            },
            "type": "scattermapbox"
           }
          ],
          "scatterpolar": [
           {
            "marker": {
             "colorbar": {
              "outlinewidth": 1,
              "tickcolor": "rgb(36,36,36)",
              "ticks": "outside"
             }
            },
            "type": "scatterpolar"
           }
          ],
          "scatterpolargl": [
           {
            "marker": {
             "colorbar": {
              "outlinewidth": 1,
              "tickcolor": "rgb(36,36,36)",
              "ticks": "outside"
             }
            },
            "type": "scatterpolargl"
           }
          ],
          "scatterternary": [
           {
            "marker": {
             "colorbar": {
              "outlinewidth": 1,
              "tickcolor": "rgb(36,36,36)",
              "ticks": "outside"
             }
            },
            "type": "scatterternary"
           }
          ],
          "surface": [
           {
            "colorbar": {
             "outlinewidth": 1,
             "tickcolor": "rgb(36,36,36)",
             "ticks": "outside"
            },
            "colorscale": [
             [
              0.0,
              "#440154"
             ],
             [
              0.1111111111111111,
              "#482878"
             ],
             [
              0.2222222222222222,
              "#3e4989"
             ],
             [
              0.3333333333333333,
              "#31688e"
             ],
             [
              0.4444444444444444,
              "#26828e"
             ],
             [
              0.5555555555555556,
              "#1f9e89"
             ],
             [
              0.6666666666666666,
              "#35b779"
             ],
             [
              0.7777777777777778,
              "#6ece58"
             ],
             [
              0.8888888888888888,
              "#b5de2b"
             ],
             [
              1.0,
              "#fde725"
             ]
            ],
            "type": "surface"
           }
          ],
          "table": [
           {
            "cells": {
             "fill": {
              "color": "rgb(237,237,237)"
             },
             "line": {
              "color": "white"
             }
            },
            "header": {
             "fill": {
              "color": "rgb(217,217,217)"
             },
             "line": {
              "color": "white"
             }
            },
            "type": "table"
           }
          ]
         },
         "layout": {
          "annotationdefaults": {
           "arrowhead": 0,
           "arrowwidth": 1
          },
          "autotypenumbers": "strict",
          "coloraxis": {
           "colorbar": {
            "outlinewidth": 1,
            "tickcolor": "rgb(36,36,36)",
            "ticks": "outside"
           }
          },
          "colorscale": {
           "diverging": [
            [
             0.0,
             "rgb(103,0,31)"
            ],
            [
             0.1,
             "rgb(178,24,43)"
            ],
            [
             0.2,
             "rgb(214,96,77)"
            ],
            [
             0.3,
             "rgb(244,165,130)"
            ],
            [
             0.4,
             "rgb(253,219,199)"
            ],
            [
             0.5,
             "rgb(247,247,247)"
            ],
            [
             0.6,
             "rgb(209,229,240)"
            ],
            [
             0.7,
             "rgb(146,197,222)"
            ],
            [
             0.8,
             "rgb(67,147,195)"
            ],
            [
             0.9,
             "rgb(33,102,172)"
            ],
            [
             1.0,
             "rgb(5,48,97)"
            ]
           ],
           "sequential": [
            [
             0.0,
             "#440154"
            ],
            [
             0.1111111111111111,
             "#482878"
            ],
            [
             0.2222222222222222,
             "#3e4989"
            ],
            [
             0.3333333333333333,
             "#31688e"
            ],
            [
             0.4444444444444444,
             "#26828e"
            ],
            [
             0.5555555555555556,
             "#1f9e89"
            ],
            [
             0.6666666666666666,
             "#35b779"
            ],
            [
             0.7777777777777778,
             "#6ece58"
            ],
            [
             0.8888888888888888,
             "#b5de2b"
            ],
            [
             1.0,
             "#fde725"
            ]
           ],
           "sequentialminus": [
            [
             0.0,
             "#440154"
            ],
            [
             0.1111111111111111,
             "#482878"
            ],
            [
             0.2222222222222222,
             "#3e4989"
            ],
            [
             0.3333333333333333,
             "#31688e"
            ],
            [
             0.4444444444444444,
             "#26828e"
            ],
            [
             0.5555555555555556,
             "#1f9e89"
            ],
            [
             0.6666666666666666,
             "#35b779"
            ],
            [
             0.7777777777777778,
             "#6ece58"
            ],
            [
             0.8888888888888888,
             "#b5de2b"
            ],
            [
             1.0,
             "#fde725"
            ]
           ]
          },
          "colorway": [
           "#91268F",
           "#8CC63E",
           "#00A7A0",
           "#F05A28",
           "#4C4C4C",
           "#630460",
           "#9f3913",
           "#588527",
           "#00716c",
           "#3e4040"
          ],
          "font": {
           "color": "rgb(36,36,36)",
           "family": "Poppins",
           "size": 11
          },
          "geo": {
           "bgcolor": "white",
           "lakecolor": "white",
           "landcolor": "white",
           "showlakes": true,
           "showland": true,
           "subunitcolor": "white"
          },
          "hoverlabel": {
           "align": "left"
          },
          "hovermode": "closest",
          "mapbox": {
           "style": "light"
          },
          "paper_bgcolor": "white",
          "plot_bgcolor": "white",
          "polar": {
           "angularaxis": {
            "gridcolor": "rgb(232,232,232)",
            "linecolor": "rgb(36,36,36)",
            "showgrid": false,
            "showline": true,
            "ticks": "outside"
           },
           "bgcolor": "white",
           "radialaxis": {
            "gridcolor": "rgb(232,232,232)",
            "linecolor": "rgb(36,36,36)",
            "showgrid": false,
            "showline": true,
            "ticks": "outside"
           }
          },
          "scene": {
           "xaxis": {
            "backgroundcolor": "white",
            "gridcolor": "rgb(232,232,232)",
            "gridwidth": 2,
            "linecolor": "rgb(36,36,36)",
            "showbackground": true,
            "showgrid": false,
            "showline": true,
            "ticks": "outside",
            "zeroline": false,
            "zerolinecolor": "rgb(36,36,36)"
           },
           "yaxis": {
            "backgroundcolor": "white",
            "gridcolor": "rgb(232,232,232)",
            "gridwidth": 2,
            "linecolor": "rgb(36,36,36)",
            "showbackground": true,
            "showgrid": false,
            "showline": true,
            "ticks": "outside",
            "zeroline": false,
            "zerolinecolor": "rgb(36,36,36)"
           },
           "zaxis": {
            "backgroundcolor": "white",
            "gridcolor": "rgb(232,232,232)",
            "gridwidth": 2,
            "linecolor": "rgb(36,36,36)",
            "showbackground": true,
            "showgrid": false,
            "showline": true,
            "ticks": "outside",
            "zeroline": false,
            "zerolinecolor": "rgb(36,36,36)"
           }
          },
          "shapedefaults": {
           "fillcolor": "black",
           "line": {
            "width": 0
           },
           "opacity": 0.3
          },
          "ternary": {
           "aaxis": {
            "gridcolor": "rgb(232,232,232)",
            "linecolor": "rgb(36,36,36)",
            "showgrid": false,
            "showline": true,
            "ticks": "outside"
           },
           "baxis": {
            "gridcolor": "rgb(232,232,232)",
            "linecolor": "rgb(36,36,36)",
            "showgrid": false,
            "showline": true,
            "ticks": "outside"
           },
           "bgcolor": "white",
           "caxis": {
            "gridcolor": "rgb(232,232,232)",
            "linecolor": "rgb(36,36,36)",
            "showgrid": false,
            "showline": true,
            "ticks": "outside"
           }
          },
          "title": {
           "x": 0.05
          },
          "xaxis": {
           "automargin": true,
           "gridcolor": "rgb(232,232,232)",
           "linecolor": "rgb(36,36,36)",
           "showgrid": false,
           "showline": true,
           "ticks": "outside",
           "title": {
            "standoff": 15
           },
           "zeroline": false,
           "zerolinecolor": "rgb(36,36,36)"
          },
          "yaxis": {
           "automargin": true,
           "gridcolor": "rgb(232,232,232)",
           "linecolor": "rgb(36,36,36)",
           "showgrid": false,
           "showline": true,
           "ticks": "outside",
           "title": {
            "standoff": 15
           },
           "zeroline": false,
           "zerolinecolor": "rgb(36,36,36)"
          }
         }
        },
        "title": {
         "text": "Heavy Trucks: King"
        },
        "width": 800,
        "xaxis": {
         "anchor": "y",
         "domain": [
          0.0,
          1.0
         ],
         "title": {
          "text": "Observed"
         }
        },
        "yaxis": {
         "anchor": "x",
         "domain": [
          0.0,
          1.0
         ],
         "title": {
          "text": "Model"
         }
        }
       }
      },
      "text/html": [
       "<div>            <script src=\"https://cdnjs.cloudflare.com/ajax/libs/mathjax/2.7.5/MathJax.js?config=TeX-AMS-MML_SVG\"></script><script type=\"text/javascript\">if (window.MathJax && window.MathJax.Hub && window.MathJax.Hub.Config) {window.MathJax.Hub.Config({SVG: {font: \"STIX-Web\"}});}</script>                <script type=\"text/javascript\">window.PlotlyConfig = {MathJaxConfig: 'local'};</script>\n",
       "        <script charset=\"utf-8\" src=\"https://cdn.plot.ly/plotly-3.0.1.min.js\"></script>                <div id=\"1341d9db-2863-4dea-983f-b9adf94be32a\" class=\"plotly-graph-div\" style=\"height:600px; width:800px;\"></div>            <script type=\"text/javascript\">                window.PLOTLYENV=window.PLOTLYENV || {};                                if (document.getElementById(\"1341d9db-2863-4dea-983f-b9adf94be32a\")) {                    Plotly.newPlot(                        \"1341d9db-2863-4dea-983f-b9adf94be32a\",                        [{\"customdata\":[[\"I-5 S\\u002fO 205th NB\",\"King\"],[\"I-5 S\\u002fO 205th SB\",\"King\"],[\"I-5 Rev N\\u002fO I-5 GP NB\\u002fSB\",\"King\"],[\"I-90 E\\u002fO I-5 WB\",\"King\"],[\"I-90 E\\u002fO I-5 EB\",\"King\"],[\"I-90 E\\u002fO W Lk Sam WB\",\"King\"],[\"I-90 E\\u002fO W Lk Sam EB\",\"King\"],[\"I-90 E\\u002fO SR-900 WB\",\"King\"],[\"I-405 @ I-5 Southcenter NB\",\"King\"],[\"I-405 @ I-5 Southcenter SB\",\"King\"],[\"I-405 @ Lake Wash Blvd NB\",\"King\"],[\"I-405 @ I-90 NB\",\"King\"],[\"I-405 @ I-90 SB\",\"King\"],[\"SR-520 @ x-lake bridge WB\",\"King\"],[\"SR-520 @ x-lake bridge EB\",\"King\"],[\"SR-167 S\\u002fO 43rd NB\",\"King\"],[\"SR-167 S\\u002fO 43rd SB\",\"King\"],[\"SR-167 N\\u002fO SR-18 NB\",\"King\"],[\"SR-167 N\\u002fO SR-18 SB\",\"King\"],[\"SR-167 S\\u002fO 15th SW NB\",\"King\"],[\"SR-167 S\\u002fO 15th SW SB\",\"King\"],[\"SR-509 @ Holden NB\",\"King\"],[\"SR-509 @ Holden SB\",\"King\"],[\"SR-99 N\\u002fO 14th NB\",\"King\"],[\"SR-99 N\\u002fO 14th SB\",\"King\"],[\"SR-99 N\\u002fO WSF NB\",\"King\"],[\"SR-99 N\\u002fO WSF SB\",\"King\"],[\"SR-99 tunnel NB\",\"King\"],[\"SR-99 tunnel SB\",\"King\"],[\"SR-599 S\\u002fO Pacific NB\",\"King\"],[\"SR-599 S\\u002fO Pacific SB\",\"King\"],[\"SR-599 @ Pacific NB\",\"King\"],[\"SR-599 @ Pacific SB\",\"King\"],[\"SR-18 @ I-5 WB\",\"King\"],[\"SR-18 @ I-5 EB\",\"King\"],[\"SR-18 W\\u002fO Auburn-Black Diamond WB\",\"King\"],[\"SR-18 W\\u002fO Auburn-Black Diamond EB\",\"King\"],[\"SR-18 E\\u002fO SR-516 WB\",\"King\"],[\"SR-18 E\\u002fO SR-516 EB\",\"King\"],[\"SR-18 E\\u002fO 256th WB\",\"King\"],[\"SR-18 E\\u002fO 256th EB\",\"King\"],[\"SR-522 N\\u002fO 195th WB\",\"King\"],[\"SR-522 N\\u002fO 195th EB\",\"King\"],[\"I-5 N\\u002fO I-5 Rev CBD NB\\u002fSB\",\"King\"],[\"I-90 W\\u002fO SR-18 WB\\u002fEB\",\"King\"],[\"I-90 E\\u002fO SR-18 WB\\u002fEB\",\"King\"],[\"I-90 E\\u002fO 436th WB\\u002fEB\",\"King\"],[\"I-90 @ Kittitas County WB\\u002fEB\",\"King\"],[\"I-405 N\\u002fO SR-522 NB\\u002fSB\",\"King\"],[\"SR-167 N\\u002fO Grady NB\\u002fSB\",\"King\"],[\"SR-410 E\\u002fO 244th WB\\u002fEB\",\"King\"],[\"SR-410 E\\u002fO Farman WB\\u002fEB\",\"King\"],[\"SR-410 @ Greenwater River WB\\u002fEB\",\"King\"],[\"SR-509 E\\u002fO 47th NB\\u002fSB\",\"King\"],[\"SR-509 E\\u002fO 21st NB\\u002fSB\",\"King\"],[\"SR-509 W\\u002fO SR-516 NB\\u002fSB\",\"King\"],[\"SR-509 W\\u002fO Des Moines Mem NB\\u002fSB\",\"King\"],[\"SR-509 E\\u002fO 1st Ave NB\\u002fSB\",\"King\"],[\"SR-509 E\\u002fO Des Moines Mem NB\\u002fSB\",\"King\"],[\"SR-509 N\\u002fO Des Moines Mem NB\\u002fSB\",\"King\"],[\"SR-509 N\\u002fO SR-518 NB\\u002fSB\",\"King\"],[\"SR-99 S\\u002fO SR-18 NB\\u002fSB\",\"King\"],[\"SR-99 N\\u002fO SR-18 NB\\u002fSB\",\"King\"],[\"SR-99 N\\u002fO 320th NB\\u002fSB\",\"King\"],[\"SR-99 N\\u002fO 188th NB\\u002fSB\",\"King\"],[\"SR-99 @ WSF NB\\u002fSB\",\"King\"],[\"SR-99 @ Aurora Bridge NB\\u002fSB\",\"King\"],[\"SR-99 N\\u002fO 38th NB\\u002fSB\",\"King\"],[\"SR-99 S\\u002fO Roosevelt NB\\u002fSB\",\"King\"],[\"SR-599 N\\u002fO I-5 NB\\u002fSB\",\"King\"],[\"SR-518 @ SR-509 WB\\u002fEB\",\"King\"],[\"SR-518 E\\u002fO SR-509 WB\\u002fEB\",\"King\"],[\"SR-18 E\\u002fO SR-99 WB\\u002fEB\",\"King\"],[\"SR-18 N\\u002fO 304th WB\\u002fEB\",\"King\"],[\"SR-18 S\\u002fO I-90 WB\\u002fEB\",\"King\"],[\"SR-202 @ SR-522 NB\\u002fSB\",\"King\"],[\"SR-202 N\\u002fO 145th NB\\u002fSB\",\"King\"],[\"SR-202 @ Sammamish River Br NB\\u002fSB\",\"King\"],[\"SR-202 S\\u002fO 144th NB\\u002fSB\",\"King\"],[\"SR-202 N\\u002fO Redmond Way NB\\u002fSB\",\"King\"],[\"SR-202 E\\u002fO 164th NB\\u002fSB\",\"King\"],[\"SR-202 E\\u002fO SR-520 NB\\u002fSB\",\"King\"],[\"SR-202 E\\u002fO E Lk Samm NB\\u002fSB\",\"King\"],[\"SR-202 E\\u002fO Sahalee NB\\u002fSB\",\"King\"],[\"SR-202 E\\u002fO 236th NB\\u002fSB\",\"King\"],[\"SR-202 S\\u002fO Ames Lake NB\\u002fSB\",\"King\"],[\"SR-202 S\\u002fO Duthie Hill NB\\u002fSB\",\"King\"],[\"SR-202 E\\u002fO SR-203 NB\\u002fSB\",\"King\"],[\"SR-202 N\\u002fO I-90 NB\\u002fSB\",\"King\"],[\"SR-522 N\\u002fO 145th NB\\u002fSB\",\"King\"],[\"SR-104 W\\u002fO 19th WB\\u002fEB\",\"King\"],[\"SR-516 E\\u002fO SR-509 WB\\u002fEB\",\"King\"],[\"SR-516 W\\u002fO I-5 WB\\u002fEB\",\"King\"],[\"SR-516 E\\u002fO Meeker WB\\u002fEB\",\"King\"],[\"SR-516 W\\u002fO SR-167 WB\\u002fEB\",\"King\"],[\"SR-516 E\\u002fO SR-167 WB\\u002fEB\",\"King\"],[\"SR-516 E\\u002fO SR-18 WB\\u002fEB\",\"King\"],[\"SR-900 S\\u002fO NB I-5 on-ramp @ Boe Acc WB\\u002fEB\",\"King\"],[\"SR-900 E\\u002fO 68th WB\\u002fEB\",\"King\"],[\"SR-900 @ I-405 WB\\u002fEB\",\"King\"],[\"SR-900 E\\u002fO 148th WB\\u002fEB\",\"King\"],[\"SR-900 N\\u002fO Talus WB\\u002fEB\",\"King\"],[\"SR-900 N\\u002fO Newport WB\\u002fEB\",\"King\"],[\"SR-2 E\\u002fO Skykomish WB\\u002fEB\",\"King\"],[\"SR-513 S\\u002fO 44th NB\\u002fSB\",\"King\"],[\"SR-169 N\\u002fO SR-164 NB\\u002fSB\",\"King\"],[\"SR-169 S\\u002fO Lawson NB\\u002fSB\",\"King\"],[\"SR-169 S\\u002fO 280th NB\\u002fSB\",\"King\"],[\"SR-169 N\\u002fO 276th NB\\u002fSB\",\"King\"],[\"SR-169 N\\u002fO 231st NB\\u002fSB\",\"King\"],[\"SR-169 N\\u002fO 231st NB\\u002fSB\",\"King\"],[\"SR-169 W\\u002fO 140th NB\\u002fSB\",\"King\"],[\"SR-515 N\\u002fO SR-516 NB\\u002fSB\",\"King\"],[\"SR-515 N\\u002fO 108th NB\\u002fSB\",\"King\"],[\"SR-515 N\\u002fO Puget NB\\u002fSB\",\"King\"],[\"SR-181 N\\u002fO SR-516 NB\\u002fSB\",\"King\"],[\"SR-181 S\\u002fO James NB\\u002fSB\",\"King\"],[\"SR-181 N\\u002fO James NB\\u002fSB\",\"King\"],[\"SR-181 N\\u002fO 228th NB\\u002fSB\",\"King\"],[\"SR-181 N\\u002fO 180th NB\\u002fSB\",\"King\"],[\"SR-181 S\\u002fO Longacres NB\\u002fSB\",\"King\"],[\"SR-523 E\\u002fO Lenora WB\\u002fEB\",\"King\"],[\"SR-164 @ SR-18 WB\\u002fEB\",\"King\"],[\"SR-164 S\\u002fO 400th WB\\u002fEB\",\"King\"],[\"SR-203 N\\u002fO Cherry Valley NB\\u002fSB\",\"King\"],[\"SR-203 N\\u002fO 124th NB\\u002fSB\",\"King\"],[\"SR-203 W\\u002fO Stillwater Hill NB\\u002fSB\",\"King\"],[\"SR-203 N\\u002fO Carnation Farm NB\\u002fSB\",\"King\"],[\"SR-203 N\\u002fO Tolt Hill NB\\u002fSB\",\"King\"],[\"SR-203 N\\u002fO SR-202 NB\\u002fSB\",\"King\"],[\"SR-519 W\\u002fO 4th NB\\u002fSB\",\"King\"]],\"hovertemplate\":\"Observed=%{x}\\u003cbr\\u003eModel=%{y}\\u003cbr\\u003elocation=%{customdata[0]}\\u003cbr\\u003eCounty=%{customdata[1]}\\u003cextra\\u003e\\u003c\\u002fextra\\u003e\",\"legendgroup\":\"\",\"marker\":{\"color\":\"#91268F\",\"symbol\":\"circle\"},\"mode\":\"markers\",\"name\":\"\",\"orientation\":\"v\",\"showlegend\":false,\"x\":{\"dtype\":\"i2\",\"bdata\":\"EgmyCfwChQM+A40HcQfJCVcDcAVeCEEBAgGJAIoAXgjxCNgI4QglDuwMqgOuA5IEZAOtAJ0AkACDABYFQwRtBZgDsQO5BmEJ9Ag8CB0ImgpeCvwCNwNTCxEM3yN4E50Uews4AQcClAIdABQASQA7AAoAIABXAOcAZQHcBQsBTwHsANMAjQBqAIgApgr0ADEBiQUcFsQMGgFpAFwARwE5AJUA2wE1AZQBcgEUAS4BFgFwAK0ATgBVAEsCgwH9AzABcwGzAVoA0wBQAB8BawBnADcA6QCqAUQB9wB4AzwELgVlAF8AjgDkA74DvQNUBB0EvQNdADsBxAB1AYoBJwEaAVIBWwF3Ag==\"},\"xaxis\":\"x\",\"y\":{\"dtype\":\"i2\",\"bdata\":\"fRejGFkRxASnBZIGqgaUBk8AIQgLGWQX\\u002fhXgANMAChOyFGcYbRsTFKYTLAZaCVwD1wG6AusDqQJXA8YDKwJ0A\\u002fsBSQqyAhkIBQgOCP4HXghPCJAJ\\u002fwjsIy0OdxwJHekYJRjjAjwAdAB0AAAAFQAEAAIAAAAAAI0T7xKrByEASQANAFQFnwP1AD0A+wfdACgBOgvBD48REwAXAAYAIAAjACIAggYDAAEAFwAWABYAVgGAAUkABAACAMwBrQeTCjMITQDFBUUAugAHABcADwBRAAAABQBLAHQAdACcAAIBGQEOABwAawCLBG8EywS8BWkF2AVbAMoAeAAqAusB9wH3AfcB9wFvAw==\"},\"yaxis\":\"y\",\"type\":\"scatter\",\"line\":{\"color\":\"Grey\",\"width\":2}},{\"hovertemplate\":\"Observed=%{x}\\u003cbr\\u003eModel=%{y}\\u003cextra\\u003e\\u003c\\u002fextra\\u003e\",\"legendgroup\":\"\",\"line\":{\"color\":\"Grey\",\"dash\":\"solid\",\"width\":2},\"marker\":{\"symbol\":\"circle\"},\"mode\":\"lines\",\"name\":\"\",\"orientation\":\"v\",\"showlegend\":false,\"x\":{\"dtype\":\"f8\",\"bdata\":\"AAAAAAAAAADwwQcffDBXQPDBBx98MGdAdNFFF11kcUDwwQcffDB3QGyyySab\\u002fHxAdNFFF11kgUCyySabbEqEQPDBBx98MIdALrrooosWikBssskmm\\u002fyMQKqqqqqq4o9AdNFFF11kkUCTTTbZZNeSQLLJJptsSpRA0UUXXXS9lUDwwQcffDCXQA8++OCDo5hALrrooosWmkBNNtlkk4mbQGyyySab\\u002fJxAiy666KJvnkCqqqqqquKfQGSTTTbZqqBAdNFFF11koUCEDz744B2iQJNNNtlk16JAoosuuuiQo0CyySabbEqkQMIHH3zwA6VA0UUXXXS9pUDggw8++HamQPDBBx98MKdAAAAAAADqp0APPvjgg6OoQB588MEHXalALrrooosWqkA++OCDD9CqQE022WSTiatAXHTRRRdDrEBssskmm\\u002fysQHzwwQcftq1Aiy666KJvrkCabLLJJimvQKqqqqqq4q9AXXTRRRdOsEBkk0022aqwQGyyySabB7FAdNFFF11ksUB88MEHH8GxQIQPPvjgHbJAiy666KJ6skCTTTbZZNeyQJtssskmNLNAoosuuuiQs0Cqqqqqqu2zQLLJJptsSrRAuuiiiy6ntEDCBx988AO1QMkmm2yyYLVA0UUXXXS9tUDZZJNNNhq2QOCDDz74drZA6KKLLrrTtkDwwQcffDC3QPjggw8+jbdAAAAAAADqt0AHH3zwwUa4QA8++OCDo7hAF1100UUAuUAefPDBB125QCabbLLJublALrrooosWukA22WSTTXO6QD744IMP0LpARRdddNEsu0BNNtlkk4m7QFVVVVVV5rtAXHTRRRdDvEBkk0022Z+8QGyyySab\\u002fLxAdNFFF11ZvUB88MEHH7a9QIMPPvjgEr5Aiy666KJvvkCTTTbZZMy+QJpssskmKb9AoosuuuiFv0CqqqqqquK\\u002fQNlkk022H8BAXXTRRRdOwEDhgw8+eHzAQGSTTTbZqsBA6KKLLjrZwEBssskmmwfBQPDBBx\\u002f8NcFAdNFFF11kwUD44IMPvpLBQHzwwQcfwcFAAAAAAIDvwUA=\"},\"xaxis\":\"x\",\"y\":{\"dtype\":\"f8\",\"bdata\":\"FEatQaNne0BNlG08uvWAQJCFBNiiN4RA03abc4t5h0AWaDIPdLuKQFlZyapc\\u002fY1ATiUwo6KfkEDwnfvwlkCSQJIWxz6L4ZNAM4+SjH+ClUDUB17acyOXQHaAKShoxJhAF\\u002fn0dVxlmkC5ccDDUAacQFvqixFFp51A\\u002fGJXXzlIn0DPbZHWlnSgQCAqd\\u002f0QRaFAcOZcJIsVokDBokJLBeaiQBJfKHJ\\u002ftqNAYhsOmfmGpEC01\\u002fO\\u002fc1elQASU2ebtJ6ZAVFC\\u002fDWj4pkCmDKU04sinQPbIiltcmahARoVwgtZpqUCYQVapUDqqQOr9O9DKCqtAOroh90Tbq0CKdgcev6usQNwy7UQ5fK1ALO\\u002fSa7NMrkB8q7iSLR2vQMxnnrmn7a9ADxJC8BBfsEA48LQDTsewQGDOJxeLL7FAiKyaKsiXsUCwig0+BQCyQNlogFFCaLJAAUfzZH\\u002fQskApJWZ4vDizQFID2Yv5oLNAe+FLnzYJtECiv76yc3G0QMudMcaw2bRA83uk2e1BtUAcWhftKqq1QEU4igBoErZAbBb9E6V6tkCV9G8n4uK2QL7S4jofS7dA5bBVTlyzt0AOj8hhmRu4QDdtO3XWg7hAX0uuiBPsuECIKSGcUFS5QK8HlK+NvLlA2OUGw8okukABxHnWB426QCii7OlE9bpAUYBf\\u002fYFdu0B6XtIQv8W7QKI8RST8LbxAyxq4NzmWvEDy+CpLdv68QBvXnV6zZr1ARLUQcvDOvUBrk4OFLTe+QJRx9phqn75AvU9prKcHv0DlLdy\\u002f5G+\\u002fQA4MT9Mh2L9AG\\u002fVgcy8gwEAvZBr9TVTAQETT04ZsiMBAV0KNEIu8wEBssUaaqfDAQIAgACTIJMFAlY+5reZYwUCp\\u002fnI3BY3BQL1tLMEjwcFA0dzlSkL1wUDlS5\\u002fUYCnCQPm6WF5\\u002fXcJADioS6J2RwkAimctxvMXCQDYIhfva+cJAS3c+hfktw0Bf5vcOGGLDQHJVsZg2lsNAhsRqIlXKw0CbMySsc\\u002f7DQK+i3TWSMsRAwxGXv7BmxEDYgFBJz5rEQOzvCdPtzsRAAF\\u002fDXAwDxUA=\"},\"yaxis\":\"y\",\"type\":\"scatter\"}],                        {\"template\":{\"data\":{\"barpolar\":[{\"marker\":{\"line\":{\"color\":\"white\",\"width\":0.5},\"pattern\":{\"fillmode\":\"overlay\",\"size\":10,\"solidity\":0.2}},\"type\":\"barpolar\"}],\"bar\":[{\"error_x\":{\"color\":\"rgb(36,36,36)\"},\"error_y\":{\"color\":\"rgb(36,36,36)\"},\"marker\":{\"line\":{\"color\":\"white\",\"width\":0.5},\"pattern\":{\"fillmode\":\"overlay\",\"size\":10,\"solidity\":0.2}},\"type\":\"bar\"}],\"carpet\":[{\"aaxis\":{\"endlinecolor\":\"rgb(36,36,36)\",\"gridcolor\":\"white\",\"linecolor\":\"white\",\"minorgridcolor\":\"white\",\"startlinecolor\":\"rgb(36,36,36)\"},\"baxis\":{\"endlinecolor\":\"rgb(36,36,36)\",\"gridcolor\":\"white\",\"linecolor\":\"white\",\"minorgridcolor\":\"white\",\"startlinecolor\":\"rgb(36,36,36)\"},\"type\":\"carpet\"}],\"choropleth\":[{\"colorbar\":{\"outlinewidth\":1,\"tickcolor\":\"rgb(36,36,36)\",\"ticks\":\"outside\"},\"type\":\"choropleth\"}],\"contourcarpet\":[{\"colorbar\":{\"outlinewidth\":1,\"tickcolor\":\"rgb(36,36,36)\",\"ticks\":\"outside\"},\"type\":\"contourcarpet\"}],\"contour\":[{\"colorbar\":{\"outlinewidth\":1,\"tickcolor\":\"rgb(36,36,36)\",\"ticks\":\"outside\"},\"colorscale\":[[0.0,\"#440154\"],[0.1111111111111111,\"#482878\"],[0.2222222222222222,\"#3e4989\"],[0.3333333333333333,\"#31688e\"],[0.4444444444444444,\"#26828e\"],[0.5555555555555556,\"#1f9e89\"],[0.6666666666666666,\"#35b779\"],[0.7777777777777778,\"#6ece58\"],[0.8888888888888888,\"#b5de2b\"],[1.0,\"#fde725\"]],\"type\":\"contour\"}],\"heatmap\":[{\"colorbar\":{\"outlinewidth\":1,\"tickcolor\":\"rgb(36,36,36)\",\"ticks\":\"outside\"},\"colorscale\":[[0.0,\"#440154\"],[0.1111111111111111,\"#482878\"],[0.2222222222222222,\"#3e4989\"],[0.3333333333333333,\"#31688e\"],[0.4444444444444444,\"#26828e\"],[0.5555555555555556,\"#1f9e89\"],[0.6666666666666666,\"#35b779\"],[0.7777777777777778,\"#6ece58\"],[0.8888888888888888,\"#b5de2b\"],[1.0,\"#fde725\"]],\"type\":\"heatmap\"}],\"histogram2dcontour\":[{\"colorbar\":{\"outlinewidth\":1,\"tickcolor\":\"rgb(36,36,36)\",\"ticks\":\"outside\"},\"colorscale\":[[0.0,\"#440154\"],[0.1111111111111111,\"#482878\"],[0.2222222222222222,\"#3e4989\"],[0.3333333333333333,\"#31688e\"],[0.4444444444444444,\"#26828e\"],[0.5555555555555556,\"#1f9e89\"],[0.6666666666666666,\"#35b779\"],[0.7777777777777778,\"#6ece58\"],[0.8888888888888888,\"#b5de2b\"],[1.0,\"#fde725\"]],\"type\":\"histogram2dcontour\"}],\"histogram2d\":[{\"colorbar\":{\"outlinewidth\":1,\"tickcolor\":\"rgb(36,36,36)\",\"ticks\":\"outside\"},\"colorscale\":[[0.0,\"#440154\"],[0.1111111111111111,\"#482878\"],[0.2222222222222222,\"#3e4989\"],[0.3333333333333333,\"#31688e\"],[0.4444444444444444,\"#26828e\"],[0.5555555555555556,\"#1f9e89\"],[0.6666666666666666,\"#35b779\"],[0.7777777777777778,\"#6ece58\"],[0.8888888888888888,\"#b5de2b\"],[1.0,\"#fde725\"]],\"type\":\"histogram2d\"}],\"histogram\":[{\"marker\":{\"line\":{\"color\":\"white\",\"width\":0.6}},\"type\":\"histogram\"}],\"mesh3d\":[{\"colorbar\":{\"outlinewidth\":1,\"tickcolor\":\"rgb(36,36,36)\",\"ticks\":\"outside\"},\"type\":\"mesh3d\"}],\"parcoords\":[{\"line\":{\"colorbar\":{\"outlinewidth\":1,\"tickcolor\":\"rgb(36,36,36)\",\"ticks\":\"outside\"}},\"type\":\"parcoords\"}],\"pie\":[{\"automargin\":true,\"type\":\"pie\"}],\"scatter3d\":[{\"line\":{\"colorbar\":{\"outlinewidth\":1,\"tickcolor\":\"rgb(36,36,36)\",\"ticks\":\"outside\"}},\"marker\":{\"colorbar\":{\"outlinewidth\":1,\"tickcolor\":\"rgb(36,36,36)\",\"ticks\":\"outside\"}},\"type\":\"scatter3d\"}],\"scattercarpet\":[{\"marker\":{\"colorbar\":{\"outlinewidth\":1,\"tickcolor\":\"rgb(36,36,36)\",\"ticks\":\"outside\"}},\"type\":\"scattercarpet\"}],\"scattergeo\":[{\"marker\":{\"colorbar\":{\"outlinewidth\":1,\"tickcolor\":\"rgb(36,36,36)\",\"ticks\":\"outside\"}},\"type\":\"scattergeo\"}],\"scattergl\":[{\"marker\":{\"colorbar\":{\"outlinewidth\":1,\"tickcolor\":\"rgb(36,36,36)\",\"ticks\":\"outside\"}},\"type\":\"scattergl\"}],\"scattermapbox\":[{\"marker\":{\"colorbar\":{\"outlinewidth\":1,\"tickcolor\":\"rgb(36,36,36)\",\"ticks\":\"outside\"}},\"type\":\"scattermapbox\"}],\"scattermap\":[{\"marker\":{\"colorbar\":{\"outlinewidth\":1,\"tickcolor\":\"rgb(36,36,36)\",\"ticks\":\"outside\"}},\"type\":\"scattermap\"}],\"scatterpolargl\":[{\"marker\":{\"colorbar\":{\"outlinewidth\":1,\"tickcolor\":\"rgb(36,36,36)\",\"ticks\":\"outside\"}},\"type\":\"scatterpolargl\"}],\"scatterpolar\":[{\"marker\":{\"colorbar\":{\"outlinewidth\":1,\"tickcolor\":\"rgb(36,36,36)\",\"ticks\":\"outside\"}},\"type\":\"scatterpolar\"}],\"scatter\":[{\"fillpattern\":{\"fillmode\":\"overlay\",\"size\":10,\"solidity\":0.2},\"type\":\"scatter\"}],\"scatterternary\":[{\"marker\":{\"colorbar\":{\"outlinewidth\":1,\"tickcolor\":\"rgb(36,36,36)\",\"ticks\":\"outside\"}},\"type\":\"scatterternary\"}],\"surface\":[{\"colorbar\":{\"outlinewidth\":1,\"tickcolor\":\"rgb(36,36,36)\",\"ticks\":\"outside\"},\"colorscale\":[[0.0,\"#440154\"],[0.1111111111111111,\"#482878\"],[0.2222222222222222,\"#3e4989\"],[0.3333333333333333,\"#31688e\"],[0.4444444444444444,\"#26828e\"],[0.5555555555555556,\"#1f9e89\"],[0.6666666666666666,\"#35b779\"],[0.7777777777777778,\"#6ece58\"],[0.8888888888888888,\"#b5de2b\"],[1.0,\"#fde725\"]],\"type\":\"surface\"}],\"table\":[{\"cells\":{\"fill\":{\"color\":\"rgb(237,237,237)\"},\"line\":{\"color\":\"white\"}},\"header\":{\"fill\":{\"color\":\"rgb(217,217,217)\"},\"line\":{\"color\":\"white\"}},\"type\":\"table\"}]},\"layout\":{\"annotationdefaults\":{\"arrowhead\":0,\"arrowwidth\":1},\"autotypenumbers\":\"strict\",\"coloraxis\":{\"colorbar\":{\"outlinewidth\":1,\"tickcolor\":\"rgb(36,36,36)\",\"ticks\":\"outside\"}},\"colorscale\":{\"diverging\":[[0.0,\"rgb(103,0,31)\"],[0.1,\"rgb(178,24,43)\"],[0.2,\"rgb(214,96,77)\"],[0.3,\"rgb(244,165,130)\"],[0.4,\"rgb(253,219,199)\"],[0.5,\"rgb(247,247,247)\"],[0.6,\"rgb(209,229,240)\"],[0.7,\"rgb(146,197,222)\"],[0.8,\"rgb(67,147,195)\"],[0.9,\"rgb(33,102,172)\"],[1.0,\"rgb(5,48,97)\"]],\"sequential\":[[0.0,\"#440154\"],[0.1111111111111111,\"#482878\"],[0.2222222222222222,\"#3e4989\"],[0.3333333333333333,\"#31688e\"],[0.4444444444444444,\"#26828e\"],[0.5555555555555556,\"#1f9e89\"],[0.6666666666666666,\"#35b779\"],[0.7777777777777778,\"#6ece58\"],[0.8888888888888888,\"#b5de2b\"],[1.0,\"#fde725\"]],\"sequentialminus\":[[0.0,\"#440154\"],[0.1111111111111111,\"#482878\"],[0.2222222222222222,\"#3e4989\"],[0.3333333333333333,\"#31688e\"],[0.4444444444444444,\"#26828e\"],[0.5555555555555556,\"#1f9e89\"],[0.6666666666666666,\"#35b779\"],[0.7777777777777778,\"#6ece58\"],[0.8888888888888888,\"#b5de2b\"],[1.0,\"#fde725\"]]},\"colorway\":[\"#91268F\",\"#8CC63E\",\"#00A7A0\",\"#F05A28\",\"#4C4C4C\",\"#630460\",\"#9f3913\",\"#588527\",\"#00716c\",\"#3e4040\"],\"font\":{\"color\":\"rgb(36,36,36)\",\"family\":\"Poppins\",\"size\":11},\"geo\":{\"bgcolor\":\"white\",\"lakecolor\":\"white\",\"landcolor\":\"white\",\"showlakes\":true,\"showland\":true,\"subunitcolor\":\"white\"},\"hoverlabel\":{\"align\":\"left\"},\"hovermode\":\"closest\",\"mapbox\":{\"style\":\"light\"},\"paper_bgcolor\":\"white\",\"plot_bgcolor\":\"white\",\"polar\":{\"angularaxis\":{\"gridcolor\":\"rgb(232,232,232)\",\"linecolor\":\"rgb(36,36,36)\",\"showgrid\":false,\"showline\":true,\"ticks\":\"outside\"},\"bgcolor\":\"white\",\"radialaxis\":{\"gridcolor\":\"rgb(232,232,232)\",\"linecolor\":\"rgb(36,36,36)\",\"showgrid\":false,\"showline\":true,\"ticks\":\"outside\"}},\"scene\":{\"xaxis\":{\"backgroundcolor\":\"white\",\"gridcolor\":\"rgb(232,232,232)\",\"gridwidth\":2,\"linecolor\":\"rgb(36,36,36)\",\"showbackground\":true,\"showgrid\":false,\"showline\":true,\"ticks\":\"outside\",\"zeroline\":false,\"zerolinecolor\":\"rgb(36,36,36)\"},\"yaxis\":{\"backgroundcolor\":\"white\",\"gridcolor\":\"rgb(232,232,232)\",\"gridwidth\":2,\"linecolor\":\"rgb(36,36,36)\",\"showbackground\":true,\"showgrid\":false,\"showline\":true,\"ticks\":\"outside\",\"zeroline\":false,\"zerolinecolor\":\"rgb(36,36,36)\"},\"zaxis\":{\"backgroundcolor\":\"white\",\"gridcolor\":\"rgb(232,232,232)\",\"gridwidth\":2,\"linecolor\":\"rgb(36,36,36)\",\"showbackground\":true,\"showgrid\":false,\"showline\":true,\"ticks\":\"outside\",\"zeroline\":false,\"zerolinecolor\":\"rgb(36,36,36)\"}},\"shapedefaults\":{\"fillcolor\":\"black\",\"line\":{\"width\":0},\"opacity\":0.3},\"ternary\":{\"aaxis\":{\"gridcolor\":\"rgb(232,232,232)\",\"linecolor\":\"rgb(36,36,36)\",\"showgrid\":false,\"showline\":true,\"ticks\":\"outside\"},\"baxis\":{\"gridcolor\":\"rgb(232,232,232)\",\"linecolor\":\"rgb(36,36,36)\",\"showgrid\":false,\"showline\":true,\"ticks\":\"outside\"},\"bgcolor\":\"white\",\"caxis\":{\"gridcolor\":\"rgb(232,232,232)\",\"linecolor\":\"rgb(36,36,36)\",\"showgrid\":false,\"showline\":true,\"ticks\":\"outside\"}},\"title\":{\"x\":0.05},\"xaxis\":{\"automargin\":true,\"gridcolor\":\"rgb(232,232,232)\",\"linecolor\":\"rgb(36,36,36)\",\"showgrid\":false,\"showline\":true,\"ticks\":\"outside\",\"title\":{\"standoff\":15},\"zeroline\":false,\"zerolinecolor\":\"rgb(36,36,36)\"},\"yaxis\":{\"automargin\":true,\"gridcolor\":\"rgb(232,232,232)\",\"linecolor\":\"rgb(36,36,36)\",\"showgrid\":false,\"showline\":true,\"ticks\":\"outside\",\"title\":{\"standoff\":15},\"zeroline\":false,\"zerolinecolor\":\"rgb(36,36,36)\"}}},\"xaxis\":{\"anchor\":\"y\",\"domain\":[0.0,1.0],\"title\":{\"text\":\"Observed\"}},\"yaxis\":{\"anchor\":\"x\",\"domain\":[0.0,1.0],\"title\":{\"text\":\"Model\"}},\"legend\":{\"tracegroupgap\":0},\"title\":{\"text\":\"Heavy Trucks: King\"},\"margin\":{\"l\":100,\"r\":100,\"t\":100,\"b\":100},\"height\":600,\"width\":800,\"shapes\":[{\"line\":{\"color\":\"Red\",\"dash\":\"dash\",\"width\":2},\"type\":\"line\",\"x0\":0,\"x1\":9196,\"y0\":0,\"y1\":9196}],\"annotations\":[{\"align\":\"right\",\"font\":{\"color\":\"pink\",\"size\":12},\"showarrow\":false,\"text\":\"y = x\",\"x\":9655.800000000001,\"y\":9655.800000000001},{\"align\":\"right\",\"font\":{\"color\":\"black\",\"size\":12},\"showarrow\":false,\"text\":\"r^2 = 0.51\",\"x\":9642.15,\"y\":11296.0014099526}]},                        {\"responsive\": true}                    ).then(function(){\n",
       "                            \n",
       "var gd = document.getElementById('1341d9db-2863-4dea-983f-b9adf94be32a');\n",
       "var x = new MutationObserver(function (mutations, observer) {{\n",
       "        var display = window.getComputedStyle(gd).display;\n",
       "        if (!display || display === 'none') {{\n",
       "            console.log([gd, 'removed!']);\n",
       "            Plotly.purge(gd);\n",
       "            observer.disconnect();\n",
       "        }}\n",
       "}});\n",
       "\n",
       "// Listen for the removal of the full notebook cells\n",
       "var notebookContainer = gd.closest('#notebook-container');\n",
       "if (notebookContainer) {{\n",
       "    x.observe(notebookContainer, {childList: true});\n",
       "}}\n",
       "\n",
       "// Listen for the clearing of the current output cell\n",
       "var outputEl = gd.closest('.output');\n",
       "if (outputEl) {{\n",
       "    x.observe(outputEl, {childList: true});\n",
       "}}\n",
       "\n",
       "                        })                };            </script>        </div>"
      ]
     },
     "metadata": {},
     "output_type": "display_data"
    }
   ],
   "source": [
    "fig = create_truck_chart(df_daily_heavy, 'Heavy', 'King')\n",
    "fig.show()"
   ]
  },
  {
   "cell_type": "raw",
   "id": "d8920eeb",
   "metadata": {
    "vscode": {
     "languageId": "raw"
    }
   },
   "source": [
    "#### Kitsap"
   ]
  },
  {
   "cell_type": "code",
   "execution_count": 26,
   "id": "0c8e0f42",
   "metadata": {
    "execution": {
     "iopub.execute_input": "2025-06-18T22:59:58.326850Z",
     "iopub.status.busy": "2025-06-18T22:59:58.326850Z",
     "iopub.status.idle": "2025-06-18T22:59:58.451081Z",
     "shell.execute_reply": "2025-06-18T22:59:58.450078Z"
    }
   },
   "outputs": [
    {
     "data": {
      "application/vnd.plotly.v1+json": {
       "config": {
        "plotlyServerURL": "https://plot.ly"
       },
       "data": [
        {
         "customdata": [
          [
           "SR-16  N/O SR-302 NB/SB",
           "Kitsap"
          ],
          [
           "SR-16 N/O SR-160 NB/SB",
           "Kitsap"
          ],
          [
           "SR-16 N/O Tremont NB/SB",
           "Kitsap"
          ],
          [
           "SR-16 S/O SR-3 NB",
           "Kitsap"
          ],
          [
           "SR-104 @ Hood Canal Bridge WB/EB",
           "Kitsap"
          ],
          [
           "SR-104 E/O Hood Canal Bridge WB/EB",
           "Kitsap"
          ],
          [
           "SR-104 N/O Pt Gamble Rd WB/EB",
           "Kitsap"
          ],
          [
           "SR-104 E/O SR-307 WB/EB",
           "Kitsap"
          ],
          [
           "SR-104 E/O Hansville WB/EB",
           "Kitsap"
          ],
          [
           "SR-160 @ SR-16 WB/EB",
           "Kitsap"
          ],
          [
           "SR-160 E/O Long Lake Rd WB/EB",
           "Kitsap"
          ],
          [
           "SR-160 W/O Banner WB/EB",
           "Kitsap"
          ],
          [
           "SR-160 E/O Peterson WB/EB",
           "Kitsap"
          ],
          [
           "SR-160 S/O Southworth Dr WB/EB",
           "Kitsap"
          ],
          [
           "SR-166 E/O SR-16 WB/EB",
           "Kitsap"
          ],
          [
           "SR-3 E/O Sunset Way NB/SB",
           "Kitsap"
          ],
          [
           "SR-3 N/O SR-305 NB/SB",
           "Kitsap"
          ],
          [
           "SR-3 S/O Newberry Hill Rd NB/SB",
           "Kitsap"
          ],
          [
           "SR-3 @ SR-304 NB/SB",
           "Kitsap"
          ],
          [
           "SR-3 NE of SR-16 NB/SB",
           "Kitsap"
          ],
          [
           "SR-3 W/O Lake Flora Rd NB/SB",
           "Kitsap"
          ],
          [
           "SR-303 E/O SR-3 NB/SB",
           "Kitsap"
          ],
          [
           "SR-303 N/O 11th St NB/SB",
           "Kitsap"
          ],
          [
           "SR-303 N/O SR-304 NB/SB",
           "Kitsap"
          ],
          [
           "SR-304 E/O SR-3 WB/EB",
           "Kitsap"
          ],
          [
           "SR-304 W/O Naval WB/EB",
           "Kitsap"
          ],
          [
           "SR-305 W/O SR-307 WB/EB",
           "Kitsap"
          ],
          [
           "SR-305 W/O Suquamish Way WB/EB",
           "Kitsap"
          ],
          [
           "SR-305 N/O Day Rd WB/EB",
           "Kitsap"
          ],
          [
           "SR-305 N/O High School Rd WB/EB",
           "Kitsap"
          ],
          [
           "SR-305 S/O Winslow Way WB/EB",
           "Kitsap"
          ],
          [
           "SR-305 @ Ferry Ramp WB/EB",
           "Kitsap"
          ],
          [
           "SR-307 W/O SR-104 NB/SB",
           "Kitsap"
          ],
          [
           "SR-307 N/O Gunderson NB/SB",
           "Kitsap"
          ],
          [
           "SR-307 S/O Gunderson NB/SB",
           "Kitsap"
          ],
          [
           "SR-307 N/O SR-305 NB/SB",
           "Kitsap"
          ],
          [
           "SR-308 @ SR-3 WB/EB",
           "Kitsap"
          ],
          [
           "SR-308 E/O SR-3 WB/EB",
           "Kitsap"
          ],
          [
           "SR-308 E/O Silverdale Way WB/EB",
           "Kitsap"
          ],
          [
           "SR-308 W/O Brownsville Hwy WB/EB",
           "Kitsap"
          ],
          [
           "SR-310 @ SR-3 WB/EB",
           "Kitsap"
          ],
          [
           "SR-310 W/O Callow WB/EB",
           "Kitsap"
          ]
         ],
         "hovertemplate": "Observed=%{x}<br>Model=%{y}<br>location=%{customdata[0]}<br>County=%{customdata[1]}<extra></extra>",
         "legendgroup": "",
         "line": {
          "color": "Grey",
          "width": 2
         },
         "marker": {
          "color": "#91268F",
          "symbol": "circle"
         },
         "mode": "markers",
         "name": "",
         "orientation": "v",
         "showlegend": false,
         "type": "scatter",
         "x": {
          "bdata": "4AWeBCMFagRsAkUAQgCXAFcAfgAhABwAEwAOAKIAzwPMAz0FdgQUBkUBtgDQAGMA5wCNAB4BxgHDAQMBCwAJAN8AugCSAIQAKgApAEcAGACOABgA",
          "dtype": "i2"
         },
         "xaxis": "x",
         "y": {
          "bdata": "ZxNoEDgQGgieBAIAAgC8AI0A7wAWABYAGgAaAAMAnASkBbcM6g4/EAsAIwDZAH0AVAH+AEwCuACgAHoAAAAAALwAvAC9AD0BRwCQADEAAAAiAAAA",
          "dtype": "i2"
         },
         "yaxis": "y"
        },
        {
         "hovertemplate": "Observed=%{x}<br>Model=%{y}<extra></extra>",
         "legendgroup": "",
         "line": {
          "color": "Grey",
          "dash": "solid",
          "width": 2
         },
         "marker": {
          "symbol": "circle"
         },
         "mode": "lines",
         "name": "",
         "orientation": "v",
         "showlegend": false,
         "type": "scatter",
         "x": {
          "bdata": "AAAAAAAAAADFvJ0hMW8vQMW8nSExbz9AlE022WSTR0DFvJ0hMW9PQPuVArV+pVNAlE022WSTV0AsBWr9SoFbQMW8nSExb19AL7rooouuYUD7lQK1fqVjQMdxHMdxnGVAlE022WSTZ0BgKVDrV4ppQCwFav1KgWtA+eCDDz54bUDFvJ0hMW9vQEnM2xkSs3BAL7rooouucUAVqPUrBapyQPuVArV+pXNA4YMPPvigdEDHcRzHcZx1QK5fKVDrl3ZAlE022WSTd0B6O0Ni3o54QGApUOtXinlARhdddNGFekAsBWr9SoF7QBPzdobEfHxA+eCDDz54fUDfzpCYt3N+QMW8nSExb39AVlVVVVU1gEBJzNsZErOAQDxDYt7OMIFAL7rooouugUAiMW9nSCyCQBWo9SsFqoJACB988MEng0D7lQK1fqWDQO4MiXk7I4RA4YMPPvighEDU+pUCtR6FQMdxHMdxnIVAu+iiiy4ahkCuXylQ65eGQKHWrxSoFYdAlE022WSTh0CHxLydIRGIQHo7Q2LejohAbbLJJpsMiUBgKVDrV4qJQFOg1q8UCIpARhdddNGFikA5juM4jgOLQCwFav1KgYtAH3zwwQf/i0AT83aGxHyMQAZq/UqB+oxA+eCDDz54jUDsVwrU+vWNQN/OkJi3c45A0kUXXXTxjkDFvJ0hMW+PQLgzJObt7I9AVlVVVVU1kEDPkJi3M3SQQEnM2xkSs5BAwgcffPDxkEA8Q2LezjCRQLV+pUCtb5FAL7rooouukUCo9SsFau2RQCIxb2dILJJAm2yyySZrkkAVqPUrBaqSQI/jOI7j6JJACB988MEnk0CCWr9SoGaTQPuVArV+pZNAddFFF13kk0DuDIl5OyOUQGhIzNsZYpRA4YMPPviglEBbv1Kg1t+UQNT6lQK1HpVATjbZZJNdlUDHcRzHcZyVQEGtXylQ25VAu+iiiy4alkA0JObtDFmWQK5fKVDrl5ZAJ5tsssnWlkCh1q8UqBWXQBoS83aGVJdAlE022WSTl0ANiXk7Q9KXQIfEvJ0hEZhAAAAAAABQmEA=",
          "dtype": "f8"
         },
         "xaxis": "x",
         "y": {
          "bdata": "8DnBQ7T6cMB48WQB4WdswBBvR3tZ2mbAqOwp9dFMYcCC1BjelH5XwGSfu6MLx0jAAK4sWmyHFMDYczCNMKVDQLw+01Kn7VRAyCGHL1sEYEAupKS14pFlQJQmwjtqH2tAgNTv4HhWcECylf6jPB1zQOZWDWcA5HVAHBgcKsSqeEBO2Srth3F7QISaObBLOH5A3C2kuYd/gEB1jiub6eKBQA/vsnxLRoNAqU86Xq2phEBCsME/Dw2GQN4QSSFxcIdAeHHQAtPTiEAS0lfkNDeKQKoy38WWmotARJNmp/j9jEDe8+2IWmGOQHpUdWq8xI9Ailr+JQ+UkEDWCsIWwEWRQCO7hQdx95FAcWtJ+CGpkkC+Gw3p0lqTQAvM0NmDDJRAWHyUyjS+lECkLFi75W+VQPHcG6yWIZZAPo3fnEfTlkCLPaON+ISXQNjtZn6pNphAJZ4qb1romEByTu5fC5qZQL7+sVC8S5pADa91QW39mkBaXzkyHq+bQKYP/SLPYJxA9L/AE4ASnUBAcIQEMcSdQI4gSPXhdZ5A2tAL5pInn0Amgc/WQ9mfQLqYyWN6RaBA4HAr3FKeoEAHSY1UK/egQC0h78wDUKFAVPlQRdyooUB70bK9tAGiQKGpFDaNWqJAyIF2rmWzokDuWdgmPgyjQBQyOp8WZaNAOwqcF++9o0Bh4v2PxxakQIi6Xwigb6RAr5LBgHjIpEDVaiP5UCGlQPxChXEpeqVAIRvn6QHTpUBJ80hi2iumQG7LqtqyhKZAlqMMU4vdpkC7e27LYzanQOJT0EM8j6dACCwyvBTop0AvBJQ07UCoQFbc9azFmahAfLRXJZ7yqECjjLmddkupQMlkGxZPpKlA8Dx9jif9qUAWFd8GAFaqQD3tQH/YrqpAY8Wi97AHq0CKnQRwiWCrQLB1ZuhhuatA103IYDoSrED8JSrZEmusQCT+i1Hrw6xAS9btycMcrUBwrk9CnHWtQJiGsbp0zq1Avl4TM00nrkDkNnWrJYCuQAoP1yP+2K5AMuc4nNYxr0BYv5oUr4qvQH6X/IyH469A0jevAjAesEA=",
          "dtype": "f8"
         },
         "yaxis": "y"
        }
       ],
       "layout": {
        "annotations": [
         {
          "align": "right",
          "font": {
           "color": "pink",
           "size": 12
          },
          "showarrow": false,
          "text": "y = x",
          "x": 5215.35,
          "y": 5215.35
         },
         {
          "align": "right",
          "font": {
           "color": "black",
           "size": 12
          },
          "showarrow": false,
          "text": "r^2 = 0.88",
          "x": 1633.8000000000002,
          "y": 4332.496918009458
         }
        ],
        "height": 600,
        "legend": {
         "tracegroupgap": 0
        },
        "margin": {
         "b": 100,
         "l": 100,
         "r": 100,
         "t": 100
        },
        "shapes": [
         {
          "line": {
           "color": "Red",
           "dash": "dash",
           "width": 2
          },
          "type": "line",
          "x0": 0,
          "x1": 4967,
          "y0": 0,
          "y1": 4967
         }
        ],
        "template": {
         "data": {
          "bar": [
           {
            "error_x": {
             "color": "rgb(36,36,36)"
            },
            "error_y": {
             "color": "rgb(36,36,36)"
            },
            "marker": {
             "line": {
              "color": "white",
              "width": 0.5
             },
             "pattern": {
              "fillmode": "overlay",
              "size": 10,
              "solidity": 0.2
             }
            },
            "type": "bar"
           }
          ],
          "barpolar": [
           {
            "marker": {
             "line": {
              "color": "white",
              "width": 0.5
             },
             "pattern": {
              "fillmode": "overlay",
              "size": 10,
              "solidity": 0.2
             }
            },
            "type": "barpolar"
           }
          ],
          "carpet": [
           {
            "aaxis": {
             "endlinecolor": "rgb(36,36,36)",
             "gridcolor": "white",
             "linecolor": "white",
             "minorgridcolor": "white",
             "startlinecolor": "rgb(36,36,36)"
            },
            "baxis": {
             "endlinecolor": "rgb(36,36,36)",
             "gridcolor": "white",
             "linecolor": "white",
             "minorgridcolor": "white",
             "startlinecolor": "rgb(36,36,36)"
            },
            "type": "carpet"
           }
          ],
          "choropleth": [
           {
            "colorbar": {
             "outlinewidth": 1,
             "tickcolor": "rgb(36,36,36)",
             "ticks": "outside"
            },
            "type": "choropleth"
           }
          ],
          "contour": [
           {
            "colorbar": {
             "outlinewidth": 1,
             "tickcolor": "rgb(36,36,36)",
             "ticks": "outside"
            },
            "colorscale": [
             [
              0.0,
              "#440154"
             ],
             [
              0.1111111111111111,
              "#482878"
             ],
             [
              0.2222222222222222,
              "#3e4989"
             ],
             [
              0.3333333333333333,
              "#31688e"
             ],
             [
              0.4444444444444444,
              "#26828e"
             ],
             [
              0.5555555555555556,
              "#1f9e89"
             ],
             [
              0.6666666666666666,
              "#35b779"
             ],
             [
              0.7777777777777778,
              "#6ece58"
             ],
             [
              0.8888888888888888,
              "#b5de2b"
             ],
             [
              1.0,
              "#fde725"
             ]
            ],
            "type": "contour"
           }
          ],
          "contourcarpet": [
           {
            "colorbar": {
             "outlinewidth": 1,
             "tickcolor": "rgb(36,36,36)",
             "ticks": "outside"
            },
            "type": "contourcarpet"
           }
          ],
          "heatmap": [
           {
            "colorbar": {
             "outlinewidth": 1,
             "tickcolor": "rgb(36,36,36)",
             "ticks": "outside"
            },
            "colorscale": [
             [
              0.0,
              "#440154"
             ],
             [
              0.1111111111111111,
              "#482878"
             ],
             [
              0.2222222222222222,
              "#3e4989"
             ],
             [
              0.3333333333333333,
              "#31688e"
             ],
             [
              0.4444444444444444,
              "#26828e"
             ],
             [
              0.5555555555555556,
              "#1f9e89"
             ],
             [
              0.6666666666666666,
              "#35b779"
             ],
             [
              0.7777777777777778,
              "#6ece58"
             ],
             [
              0.8888888888888888,
              "#b5de2b"
             ],
             [
              1.0,
              "#fde725"
             ]
            ],
            "type": "heatmap"
           }
          ],
          "histogram": [
           {
            "marker": {
             "line": {
              "color": "white",
              "width": 0.6
             }
            },
            "type": "histogram"
           }
          ],
          "histogram2d": [
           {
            "colorbar": {
             "outlinewidth": 1,
             "tickcolor": "rgb(36,36,36)",
             "ticks": "outside"
            },
            "colorscale": [
             [
              0.0,
              "#440154"
             ],
             [
              0.1111111111111111,
              "#482878"
             ],
             [
              0.2222222222222222,
              "#3e4989"
             ],
             [
              0.3333333333333333,
              "#31688e"
             ],
             [
              0.4444444444444444,
              "#26828e"
             ],
             [
              0.5555555555555556,
              "#1f9e89"
             ],
             [
              0.6666666666666666,
              "#35b779"
             ],
             [
              0.7777777777777778,
              "#6ece58"
             ],
             [
              0.8888888888888888,
              "#b5de2b"
             ],
             [
              1.0,
              "#fde725"
             ]
            ],
            "type": "histogram2d"
           }
          ],
          "histogram2dcontour": [
           {
            "colorbar": {
             "outlinewidth": 1,
             "tickcolor": "rgb(36,36,36)",
             "ticks": "outside"
            },
            "colorscale": [
             [
              0.0,
              "#440154"
             ],
             [
              0.1111111111111111,
              "#482878"
             ],
             [
              0.2222222222222222,
              "#3e4989"
             ],
             [
              0.3333333333333333,
              "#31688e"
             ],
             [
              0.4444444444444444,
              "#26828e"
             ],
             [
              0.5555555555555556,
              "#1f9e89"
             ],
             [
              0.6666666666666666,
              "#35b779"
             ],
             [
              0.7777777777777778,
              "#6ece58"
             ],
             [
              0.8888888888888888,
              "#b5de2b"
             ],
             [
              1.0,
              "#fde725"
             ]
            ],
            "type": "histogram2dcontour"
           }
          ],
          "mesh3d": [
           {
            "colorbar": {
             "outlinewidth": 1,
             "tickcolor": "rgb(36,36,36)",
             "ticks": "outside"
            },
            "type": "mesh3d"
           }
          ],
          "parcoords": [
           {
            "line": {
             "colorbar": {
              "outlinewidth": 1,
              "tickcolor": "rgb(36,36,36)",
              "ticks": "outside"
             }
            },
            "type": "parcoords"
           }
          ],
          "pie": [
           {
            "automargin": true,
            "type": "pie"
           }
          ],
          "scatter": [
           {
            "fillpattern": {
             "fillmode": "overlay",
             "size": 10,
             "solidity": 0.2
            },
            "type": "scatter"
           }
          ],
          "scatter3d": [
           {
            "line": {
             "colorbar": {
              "outlinewidth": 1,
              "tickcolor": "rgb(36,36,36)",
              "ticks": "outside"
             }
            },
            "marker": {
             "colorbar": {
              "outlinewidth": 1,
              "tickcolor": "rgb(36,36,36)",
              "ticks": "outside"
             }
            },
            "type": "scatter3d"
           }
          ],
          "scattercarpet": [
           {
            "marker": {
             "colorbar": {
              "outlinewidth": 1,
              "tickcolor": "rgb(36,36,36)",
              "ticks": "outside"
             }
            },
            "type": "scattercarpet"
           }
          ],
          "scattergeo": [
           {
            "marker": {
             "colorbar": {
              "outlinewidth": 1,
              "tickcolor": "rgb(36,36,36)",
              "ticks": "outside"
             }
            },
            "type": "scattergeo"
           }
          ],
          "scattergl": [
           {
            "marker": {
             "colorbar": {
              "outlinewidth": 1,
              "tickcolor": "rgb(36,36,36)",
              "ticks": "outside"
             }
            },
            "type": "scattergl"
           }
          ],
          "scattermap": [
           {
            "marker": {
             "colorbar": {
              "outlinewidth": 1,
              "tickcolor": "rgb(36,36,36)",
              "ticks": "outside"
             }
            },
            "type": "scattermap"
           }
          ],
          "scattermapbox": [
           {
            "marker": {
             "colorbar": {
              "outlinewidth": 1,
              "tickcolor": "rgb(36,36,36)",
              "ticks": "outside"
             }
            },
            "type": "scattermapbox"
           }
          ],
          "scatterpolar": [
           {
            "marker": {
             "colorbar": {
              "outlinewidth": 1,
              "tickcolor": "rgb(36,36,36)",
              "ticks": "outside"
             }
            },
            "type": "scatterpolar"
           }
          ],
          "scatterpolargl": [
           {
            "marker": {
             "colorbar": {
              "outlinewidth": 1,
              "tickcolor": "rgb(36,36,36)",
              "ticks": "outside"
             }
            },
            "type": "scatterpolargl"
           }
          ],
          "scatterternary": [
           {
            "marker": {
             "colorbar": {
              "outlinewidth": 1,
              "tickcolor": "rgb(36,36,36)",
              "ticks": "outside"
             }
            },
            "type": "scatterternary"
           }
          ],
          "surface": [
           {
            "colorbar": {
             "outlinewidth": 1,
             "tickcolor": "rgb(36,36,36)",
             "ticks": "outside"
            },
            "colorscale": [
             [
              0.0,
              "#440154"
             ],
             [
              0.1111111111111111,
              "#482878"
             ],
             [
              0.2222222222222222,
              "#3e4989"
             ],
             [
              0.3333333333333333,
              "#31688e"
             ],
             [
              0.4444444444444444,
              "#26828e"
             ],
             [
              0.5555555555555556,
              "#1f9e89"
             ],
             [
              0.6666666666666666,
              "#35b779"
             ],
             [
              0.7777777777777778,
              "#6ece58"
             ],
             [
              0.8888888888888888,
              "#b5de2b"
             ],
             [
              1.0,
              "#fde725"
             ]
            ],
            "type": "surface"
           }
          ],
          "table": [
           {
            "cells": {
             "fill": {
              "color": "rgb(237,237,237)"
             },
             "line": {
              "color": "white"
             }
            },
            "header": {
             "fill": {
              "color": "rgb(217,217,217)"
             },
             "line": {
              "color": "white"
             }
            },
            "type": "table"
           }
          ]
         },
         "layout": {
          "annotationdefaults": {
           "arrowhead": 0,
           "arrowwidth": 1
          },
          "autotypenumbers": "strict",
          "coloraxis": {
           "colorbar": {
            "outlinewidth": 1,
            "tickcolor": "rgb(36,36,36)",
            "ticks": "outside"
           }
          },
          "colorscale": {
           "diverging": [
            [
             0.0,
             "rgb(103,0,31)"
            ],
            [
             0.1,
             "rgb(178,24,43)"
            ],
            [
             0.2,
             "rgb(214,96,77)"
            ],
            [
             0.3,
             "rgb(244,165,130)"
            ],
            [
             0.4,
             "rgb(253,219,199)"
            ],
            [
             0.5,
             "rgb(247,247,247)"
            ],
            [
             0.6,
             "rgb(209,229,240)"
            ],
            [
             0.7,
             "rgb(146,197,222)"
            ],
            [
             0.8,
             "rgb(67,147,195)"
            ],
            [
             0.9,
             "rgb(33,102,172)"
            ],
            [
             1.0,
             "rgb(5,48,97)"
            ]
           ],
           "sequential": [
            [
             0.0,
             "#440154"
            ],
            [
             0.1111111111111111,
             "#482878"
            ],
            [
             0.2222222222222222,
             "#3e4989"
            ],
            [
             0.3333333333333333,
             "#31688e"
            ],
            [
             0.4444444444444444,
             "#26828e"
            ],
            [
             0.5555555555555556,
             "#1f9e89"
            ],
            [
             0.6666666666666666,
             "#35b779"
            ],
            [
             0.7777777777777778,
             "#6ece58"
            ],
            [
             0.8888888888888888,
             "#b5de2b"
            ],
            [
             1.0,
             "#fde725"
            ]
           ],
           "sequentialminus": [
            [
             0.0,
             "#440154"
            ],
            [
             0.1111111111111111,
             "#482878"
            ],
            [
             0.2222222222222222,
             "#3e4989"
            ],
            [
             0.3333333333333333,
             "#31688e"
            ],
            [
             0.4444444444444444,
             "#26828e"
            ],
            [
             0.5555555555555556,
             "#1f9e89"
            ],
            [
             0.6666666666666666,
             "#35b779"
            ],
            [
             0.7777777777777778,
             "#6ece58"
            ],
            [
             0.8888888888888888,
             "#b5de2b"
            ],
            [
             1.0,
             "#fde725"
            ]
           ]
          },
          "colorway": [
           "#91268F",
           "#8CC63E",
           "#00A7A0",
           "#F05A28",
           "#4C4C4C",
           "#630460",
           "#9f3913",
           "#588527",
           "#00716c",
           "#3e4040"
          ],
          "font": {
           "color": "rgb(36,36,36)",
           "family": "Poppins",
           "size": 11
          },
          "geo": {
           "bgcolor": "white",
           "lakecolor": "white",
           "landcolor": "white",
           "showlakes": true,
           "showland": true,
           "subunitcolor": "white"
          },
          "hoverlabel": {
           "align": "left"
          },
          "hovermode": "closest",
          "mapbox": {
           "style": "light"
          },
          "paper_bgcolor": "white",
          "plot_bgcolor": "white",
          "polar": {
           "angularaxis": {
            "gridcolor": "rgb(232,232,232)",
            "linecolor": "rgb(36,36,36)",
            "showgrid": false,
            "showline": true,
            "ticks": "outside"
           },
           "bgcolor": "white",
           "radialaxis": {
            "gridcolor": "rgb(232,232,232)",
            "linecolor": "rgb(36,36,36)",
            "showgrid": false,
            "showline": true,
            "ticks": "outside"
           }
          },
          "scene": {
           "xaxis": {
            "backgroundcolor": "white",
            "gridcolor": "rgb(232,232,232)",
            "gridwidth": 2,
            "linecolor": "rgb(36,36,36)",
            "showbackground": true,
            "showgrid": false,
            "showline": true,
            "ticks": "outside",
            "zeroline": false,
            "zerolinecolor": "rgb(36,36,36)"
           },
           "yaxis": {
            "backgroundcolor": "white",
            "gridcolor": "rgb(232,232,232)",
            "gridwidth": 2,
            "linecolor": "rgb(36,36,36)",
            "showbackground": true,
            "showgrid": false,
            "showline": true,
            "ticks": "outside",
            "zeroline": false,
            "zerolinecolor": "rgb(36,36,36)"
           },
           "zaxis": {
            "backgroundcolor": "white",
            "gridcolor": "rgb(232,232,232)",
            "gridwidth": 2,
            "linecolor": "rgb(36,36,36)",
            "showbackground": true,
            "showgrid": false,
            "showline": true,
            "ticks": "outside",
            "zeroline": false,
            "zerolinecolor": "rgb(36,36,36)"
           }
          },
          "shapedefaults": {
           "fillcolor": "black",
           "line": {
            "width": 0
           },
           "opacity": 0.3
          },
          "ternary": {
           "aaxis": {
            "gridcolor": "rgb(232,232,232)",
            "linecolor": "rgb(36,36,36)",
            "showgrid": false,
            "showline": true,
            "ticks": "outside"
           },
           "baxis": {
            "gridcolor": "rgb(232,232,232)",
            "linecolor": "rgb(36,36,36)",
            "showgrid": false,
            "showline": true,
            "ticks": "outside"
           },
           "bgcolor": "white",
           "caxis": {
            "gridcolor": "rgb(232,232,232)",
            "linecolor": "rgb(36,36,36)",
            "showgrid": false,
            "showline": true,
            "ticks": "outside"
           }
          },
          "title": {
           "x": 0.05
          },
          "xaxis": {
           "automargin": true,
           "gridcolor": "rgb(232,232,232)",
           "linecolor": "rgb(36,36,36)",
           "showgrid": false,
           "showline": true,
           "ticks": "outside",
           "title": {
            "standoff": 15
           },
           "zeroline": false,
           "zerolinecolor": "rgb(36,36,36)"
          },
          "yaxis": {
           "automargin": true,
           "gridcolor": "rgb(232,232,232)",
           "linecolor": "rgb(36,36,36)",
           "showgrid": false,
           "showline": true,
           "ticks": "outside",
           "title": {
            "standoff": 15
           },
           "zeroline": false,
           "zerolinecolor": "rgb(36,36,36)"
          }
         }
        },
        "title": {
         "text": "Heavy Trucks: Kitsap"
        },
        "width": 800,
        "xaxis": {
         "anchor": "y",
         "domain": [
          0.0,
          1.0
         ],
         "title": {
          "text": "Observed"
         }
        },
        "yaxis": {
         "anchor": "x",
         "domain": [
          0.0,
          1.0
         ],
         "title": {
          "text": "Model"
         }
        }
       }
      },
      "text/html": [
       "<div>            <script src=\"https://cdnjs.cloudflare.com/ajax/libs/mathjax/2.7.5/MathJax.js?config=TeX-AMS-MML_SVG\"></script><script type=\"text/javascript\">if (window.MathJax && window.MathJax.Hub && window.MathJax.Hub.Config) {window.MathJax.Hub.Config({SVG: {font: \"STIX-Web\"}});}</script>                <script type=\"text/javascript\">window.PlotlyConfig = {MathJaxConfig: 'local'};</script>\n",
       "        <script charset=\"utf-8\" src=\"https://cdn.plot.ly/plotly-3.0.1.min.js\"></script>                <div id=\"a87242a1-e8e6-485e-9b99-7eb0d320f36f\" class=\"plotly-graph-div\" style=\"height:600px; width:800px;\"></div>            <script type=\"text/javascript\">                window.PLOTLYENV=window.PLOTLYENV || {};                                if (document.getElementById(\"a87242a1-e8e6-485e-9b99-7eb0d320f36f\")) {                    Plotly.newPlot(                        \"a87242a1-e8e6-485e-9b99-7eb0d320f36f\",                        [{\"customdata\":[[\"SR-16  N\\u002fO SR-302 NB\\u002fSB\",\"Kitsap\"],[\"SR-16 N\\u002fO SR-160 NB\\u002fSB\",\"Kitsap\"],[\"SR-16 N\\u002fO Tremont NB\\u002fSB\",\"Kitsap\"],[\"SR-16 S\\u002fO SR-3 NB\",\"Kitsap\"],[\"SR-104 @ Hood Canal Bridge WB\\u002fEB\",\"Kitsap\"],[\"SR-104 E\\u002fO Hood Canal Bridge WB\\u002fEB\",\"Kitsap\"],[\"SR-104 N\\u002fO Pt Gamble Rd WB\\u002fEB\",\"Kitsap\"],[\"SR-104 E\\u002fO SR-307 WB\\u002fEB\",\"Kitsap\"],[\"SR-104 E\\u002fO Hansville WB\\u002fEB\",\"Kitsap\"],[\"SR-160 @ SR-16 WB\\u002fEB\",\"Kitsap\"],[\"SR-160 E\\u002fO Long Lake Rd WB\\u002fEB\",\"Kitsap\"],[\"SR-160 W\\u002fO Banner WB\\u002fEB\",\"Kitsap\"],[\"SR-160 E\\u002fO Peterson WB\\u002fEB\",\"Kitsap\"],[\"SR-160 S\\u002fO Southworth Dr WB\\u002fEB\",\"Kitsap\"],[\"SR-166 E\\u002fO SR-16 WB\\u002fEB\",\"Kitsap\"],[\"SR-3 E\\u002fO Sunset Way NB\\u002fSB\",\"Kitsap\"],[\"SR-3 N\\u002fO SR-305 NB\\u002fSB\",\"Kitsap\"],[\"SR-3 S\\u002fO Newberry Hill Rd NB\\u002fSB\",\"Kitsap\"],[\"SR-3 @ SR-304 NB\\u002fSB\",\"Kitsap\"],[\"SR-3 NE of SR-16 NB\\u002fSB\",\"Kitsap\"],[\"SR-3 W\\u002fO Lake Flora Rd NB\\u002fSB\",\"Kitsap\"],[\"SR-303 E\\u002fO SR-3 NB\\u002fSB\",\"Kitsap\"],[\"SR-303 N\\u002fO 11th St NB\\u002fSB\",\"Kitsap\"],[\"SR-303 N\\u002fO SR-304 NB\\u002fSB\",\"Kitsap\"],[\"SR-304 E\\u002fO SR-3 WB\\u002fEB\",\"Kitsap\"],[\"SR-304 W\\u002fO Naval WB\\u002fEB\",\"Kitsap\"],[\"SR-305 W\\u002fO SR-307 WB\\u002fEB\",\"Kitsap\"],[\"SR-305 W\\u002fO Suquamish Way WB\\u002fEB\",\"Kitsap\"],[\"SR-305 N\\u002fO Day Rd WB\\u002fEB\",\"Kitsap\"],[\"SR-305 N\\u002fO High School Rd WB\\u002fEB\",\"Kitsap\"],[\"SR-305 S\\u002fO Winslow Way WB\\u002fEB\",\"Kitsap\"],[\"SR-305 @ Ferry Ramp WB\\u002fEB\",\"Kitsap\"],[\"SR-307 W\\u002fO SR-104 NB\\u002fSB\",\"Kitsap\"],[\"SR-307 N\\u002fO Gunderson NB\\u002fSB\",\"Kitsap\"],[\"SR-307 S\\u002fO Gunderson NB\\u002fSB\",\"Kitsap\"],[\"SR-307 N\\u002fO SR-305 NB\\u002fSB\",\"Kitsap\"],[\"SR-308 @ SR-3 WB\\u002fEB\",\"Kitsap\"],[\"SR-308 E\\u002fO SR-3 WB\\u002fEB\",\"Kitsap\"],[\"SR-308 E\\u002fO Silverdale Way WB\\u002fEB\",\"Kitsap\"],[\"SR-308 W\\u002fO Brownsville Hwy WB\\u002fEB\",\"Kitsap\"],[\"SR-310 @ SR-3 WB\\u002fEB\",\"Kitsap\"],[\"SR-310 W\\u002fO Callow WB\\u002fEB\",\"Kitsap\"]],\"hovertemplate\":\"Observed=%{x}\\u003cbr\\u003eModel=%{y}\\u003cbr\\u003elocation=%{customdata[0]}\\u003cbr\\u003eCounty=%{customdata[1]}\\u003cextra\\u003e\\u003c\\u002fextra\\u003e\",\"legendgroup\":\"\",\"marker\":{\"color\":\"#91268F\",\"symbol\":\"circle\"},\"mode\":\"markers\",\"name\":\"\",\"orientation\":\"v\",\"showlegend\":false,\"x\":{\"dtype\":\"i2\",\"bdata\":\"4AWeBCMFagRsAkUAQgCXAFcAfgAhABwAEwAOAKIAzwPMAz0FdgQUBkUBtgDQAGMA5wCNAB4BxgHDAQMBCwAJAN8AugCSAIQAKgApAEcAGACOABgA\"},\"xaxis\":\"x\",\"y\":{\"dtype\":\"i2\",\"bdata\":\"ZxNoEDgQGgieBAIAAgC8AI0A7wAWABYAGgAaAAMAnASkBbcM6g4\\u002fEAsAIwDZAH0AVAH+AEwCuACgAHoAAAAAALwAvAC9AD0BRwCQADEAAAAiAAAA\"},\"yaxis\":\"y\",\"type\":\"scatter\",\"line\":{\"color\":\"Grey\",\"width\":2}},{\"hovertemplate\":\"Observed=%{x}\\u003cbr\\u003eModel=%{y}\\u003cextra\\u003e\\u003c\\u002fextra\\u003e\",\"legendgroup\":\"\",\"line\":{\"color\":\"Grey\",\"dash\":\"solid\",\"width\":2},\"marker\":{\"symbol\":\"circle\"},\"mode\":\"lines\",\"name\":\"\",\"orientation\":\"v\",\"showlegend\":false,\"x\":{\"dtype\":\"f8\",\"bdata\":\"AAAAAAAAAADFvJ0hMW8vQMW8nSExbz9AlE022WSTR0DFvJ0hMW9PQPuVArV+pVNAlE022WSTV0AsBWr9SoFbQMW8nSExb19AL7rooouuYUD7lQK1fqVjQMdxHMdxnGVAlE022WSTZ0BgKVDrV4ppQCwFav1KgWtA+eCDDz54bUDFvJ0hMW9vQEnM2xkSs3BAL7rooouucUAVqPUrBapyQPuVArV+pXNA4YMPPvigdEDHcRzHcZx1QK5fKVDrl3ZAlE022WSTd0B6O0Ni3o54QGApUOtXinlARhdddNGFekAsBWr9SoF7QBPzdobEfHxA+eCDDz54fUDfzpCYt3N+QMW8nSExb39AVlVVVVU1gEBJzNsZErOAQDxDYt7OMIFAL7rooouugUAiMW9nSCyCQBWo9SsFqoJACB988MEng0D7lQK1fqWDQO4MiXk7I4RA4YMPPvighEDU+pUCtR6FQMdxHMdxnIVAu+iiiy4ahkCuXylQ65eGQKHWrxSoFYdAlE022WSTh0CHxLydIRGIQHo7Q2LejohAbbLJJpsMiUBgKVDrV4qJQFOg1q8UCIpARhdddNGFikA5juM4jgOLQCwFav1KgYtAH3zwwQf\\u002fi0AT83aGxHyMQAZq\\u002fUqB+oxA+eCDDz54jUDsVwrU+vWNQN\\u002fOkJi3c45A0kUXXXTxjkDFvJ0hMW+PQLgzJObt7I9AVlVVVVU1kEDPkJi3M3SQQEnM2xkSs5BAwgcffPDxkEA8Q2LezjCRQLV+pUCtb5FAL7rooouukUCo9SsFau2RQCIxb2dILJJAm2yyySZrkkAVqPUrBaqSQI\\u002fjOI7j6JJACB988MEnk0CCWr9SoGaTQPuVArV+pZNAddFFF13kk0DuDIl5OyOUQGhIzNsZYpRA4YMPPviglEBbv1Kg1t+UQNT6lQK1HpVATjbZZJNdlUDHcRzHcZyVQEGtXylQ25VAu+iiiy4alkA0JObtDFmWQK5fKVDrl5ZAJ5tsssnWlkCh1q8UqBWXQBoS83aGVJdAlE022WSTl0ANiXk7Q9KXQIfEvJ0hEZhAAAAAAABQmEA=\"},\"xaxis\":\"x\",\"y\":{\"dtype\":\"f8\",\"bdata\":\"8DnBQ7T6cMB48WQB4WdswBBvR3tZ2mbAqOwp9dFMYcCC1BjelH5XwGSfu6MLx0jAAK4sWmyHFMDYczCNMKVDQLw+01Kn7VRAyCGHL1sEYEAupKS14pFlQJQmwjtqH2tAgNTv4HhWcECylf6jPB1zQOZWDWcA5HVAHBgcKsSqeEBO2Srth3F7QISaObBLOH5A3C2kuYd\\u002fgEB1jiub6eKBQA\\u002fvsnxLRoNAqU86Xq2phEBCsME\\u002fDw2GQN4QSSFxcIdAeHHQAtPTiEAS0lfkNDeKQKoy38WWmotARJNmp\\u002fj9jEDe8+2IWmGOQHpUdWq8xI9Ailr+JQ+UkEDWCsIWwEWRQCO7hQdx95FAcWtJ+CGpkkC+Gw3p0lqTQAvM0NmDDJRAWHyUyjS+lECkLFi75W+VQPHcG6yWIZZAPo3fnEfTlkCLPaON+ISXQNjtZn6pNphAJZ4qb1romEByTu5fC5qZQL7+sVC8S5pADa91QW39mkBaXzkyHq+bQKYP\\u002fSLPYJxA9L\\u002fAE4ASnUBAcIQEMcSdQI4gSPXhdZ5A2tAL5pInn0Amgc\\u002fWQ9mfQLqYyWN6RaBA4HAr3FKeoEAHSY1UK\\u002fegQC0h78wDUKFAVPlQRdyooUB70bK9tAGiQKGpFDaNWqJAyIF2rmWzokDuWdgmPgyjQBQyOp8WZaNAOwqcF++9o0Bh4v2PxxakQIi6Xwigb6RAr5LBgHjIpEDVaiP5UCGlQPxChXEpeqVAIRvn6QHTpUBJ80hi2iumQG7LqtqyhKZAlqMMU4vdpkC7e27LYzanQOJT0EM8j6dACCwyvBTop0AvBJQ07UCoQFbc9azFmahAfLRXJZ7yqECjjLmddkupQMlkGxZPpKlA8Dx9jif9qUAWFd8GAFaqQD3tQH\\u002fYrqpAY8Wi97AHq0CKnQRwiWCrQLB1ZuhhuatA103IYDoSrED8JSrZEmusQCT+i1Hrw6xAS9btycMcrUBwrk9CnHWtQJiGsbp0zq1Avl4TM00nrkDkNnWrJYCuQAoP1yP+2K5AMuc4nNYxr0BYv5oUr4qvQH6X\\u002fIyH469A0jevAjAesEA=\"},\"yaxis\":\"y\",\"type\":\"scatter\"}],                        {\"template\":{\"data\":{\"barpolar\":[{\"marker\":{\"line\":{\"color\":\"white\",\"width\":0.5},\"pattern\":{\"fillmode\":\"overlay\",\"size\":10,\"solidity\":0.2}},\"type\":\"barpolar\"}],\"bar\":[{\"error_x\":{\"color\":\"rgb(36,36,36)\"},\"error_y\":{\"color\":\"rgb(36,36,36)\"},\"marker\":{\"line\":{\"color\":\"white\",\"width\":0.5},\"pattern\":{\"fillmode\":\"overlay\",\"size\":10,\"solidity\":0.2}},\"type\":\"bar\"}],\"carpet\":[{\"aaxis\":{\"endlinecolor\":\"rgb(36,36,36)\",\"gridcolor\":\"white\",\"linecolor\":\"white\",\"minorgridcolor\":\"white\",\"startlinecolor\":\"rgb(36,36,36)\"},\"baxis\":{\"endlinecolor\":\"rgb(36,36,36)\",\"gridcolor\":\"white\",\"linecolor\":\"white\",\"minorgridcolor\":\"white\",\"startlinecolor\":\"rgb(36,36,36)\"},\"type\":\"carpet\"}],\"choropleth\":[{\"colorbar\":{\"outlinewidth\":1,\"tickcolor\":\"rgb(36,36,36)\",\"ticks\":\"outside\"},\"type\":\"choropleth\"}],\"contourcarpet\":[{\"colorbar\":{\"outlinewidth\":1,\"tickcolor\":\"rgb(36,36,36)\",\"ticks\":\"outside\"},\"type\":\"contourcarpet\"}],\"contour\":[{\"colorbar\":{\"outlinewidth\":1,\"tickcolor\":\"rgb(36,36,36)\",\"ticks\":\"outside\"},\"colorscale\":[[0.0,\"#440154\"],[0.1111111111111111,\"#482878\"],[0.2222222222222222,\"#3e4989\"],[0.3333333333333333,\"#31688e\"],[0.4444444444444444,\"#26828e\"],[0.5555555555555556,\"#1f9e89\"],[0.6666666666666666,\"#35b779\"],[0.7777777777777778,\"#6ece58\"],[0.8888888888888888,\"#b5de2b\"],[1.0,\"#fde725\"]],\"type\":\"contour\"}],\"heatmap\":[{\"colorbar\":{\"outlinewidth\":1,\"tickcolor\":\"rgb(36,36,36)\",\"ticks\":\"outside\"},\"colorscale\":[[0.0,\"#440154\"],[0.1111111111111111,\"#482878\"],[0.2222222222222222,\"#3e4989\"],[0.3333333333333333,\"#31688e\"],[0.4444444444444444,\"#26828e\"],[0.5555555555555556,\"#1f9e89\"],[0.6666666666666666,\"#35b779\"],[0.7777777777777778,\"#6ece58\"],[0.8888888888888888,\"#b5de2b\"],[1.0,\"#fde725\"]],\"type\":\"heatmap\"}],\"histogram2dcontour\":[{\"colorbar\":{\"outlinewidth\":1,\"tickcolor\":\"rgb(36,36,36)\",\"ticks\":\"outside\"},\"colorscale\":[[0.0,\"#440154\"],[0.1111111111111111,\"#482878\"],[0.2222222222222222,\"#3e4989\"],[0.3333333333333333,\"#31688e\"],[0.4444444444444444,\"#26828e\"],[0.5555555555555556,\"#1f9e89\"],[0.6666666666666666,\"#35b779\"],[0.7777777777777778,\"#6ece58\"],[0.8888888888888888,\"#b5de2b\"],[1.0,\"#fde725\"]],\"type\":\"histogram2dcontour\"}],\"histogram2d\":[{\"colorbar\":{\"outlinewidth\":1,\"tickcolor\":\"rgb(36,36,36)\",\"ticks\":\"outside\"},\"colorscale\":[[0.0,\"#440154\"],[0.1111111111111111,\"#482878\"],[0.2222222222222222,\"#3e4989\"],[0.3333333333333333,\"#31688e\"],[0.4444444444444444,\"#26828e\"],[0.5555555555555556,\"#1f9e89\"],[0.6666666666666666,\"#35b779\"],[0.7777777777777778,\"#6ece58\"],[0.8888888888888888,\"#b5de2b\"],[1.0,\"#fde725\"]],\"type\":\"histogram2d\"}],\"histogram\":[{\"marker\":{\"line\":{\"color\":\"white\",\"width\":0.6}},\"type\":\"histogram\"}],\"mesh3d\":[{\"colorbar\":{\"outlinewidth\":1,\"tickcolor\":\"rgb(36,36,36)\",\"ticks\":\"outside\"},\"type\":\"mesh3d\"}],\"parcoords\":[{\"line\":{\"colorbar\":{\"outlinewidth\":1,\"tickcolor\":\"rgb(36,36,36)\",\"ticks\":\"outside\"}},\"type\":\"parcoords\"}],\"pie\":[{\"automargin\":true,\"type\":\"pie\"}],\"scatter3d\":[{\"line\":{\"colorbar\":{\"outlinewidth\":1,\"tickcolor\":\"rgb(36,36,36)\",\"ticks\":\"outside\"}},\"marker\":{\"colorbar\":{\"outlinewidth\":1,\"tickcolor\":\"rgb(36,36,36)\",\"ticks\":\"outside\"}},\"type\":\"scatter3d\"}],\"scattercarpet\":[{\"marker\":{\"colorbar\":{\"outlinewidth\":1,\"tickcolor\":\"rgb(36,36,36)\",\"ticks\":\"outside\"}},\"type\":\"scattercarpet\"}],\"scattergeo\":[{\"marker\":{\"colorbar\":{\"outlinewidth\":1,\"tickcolor\":\"rgb(36,36,36)\",\"ticks\":\"outside\"}},\"type\":\"scattergeo\"}],\"scattergl\":[{\"marker\":{\"colorbar\":{\"outlinewidth\":1,\"tickcolor\":\"rgb(36,36,36)\",\"ticks\":\"outside\"}},\"type\":\"scattergl\"}],\"scattermapbox\":[{\"marker\":{\"colorbar\":{\"outlinewidth\":1,\"tickcolor\":\"rgb(36,36,36)\",\"ticks\":\"outside\"}},\"type\":\"scattermapbox\"}],\"scattermap\":[{\"marker\":{\"colorbar\":{\"outlinewidth\":1,\"tickcolor\":\"rgb(36,36,36)\",\"ticks\":\"outside\"}},\"type\":\"scattermap\"}],\"scatterpolargl\":[{\"marker\":{\"colorbar\":{\"outlinewidth\":1,\"tickcolor\":\"rgb(36,36,36)\",\"ticks\":\"outside\"}},\"type\":\"scatterpolargl\"}],\"scatterpolar\":[{\"marker\":{\"colorbar\":{\"outlinewidth\":1,\"tickcolor\":\"rgb(36,36,36)\",\"ticks\":\"outside\"}},\"type\":\"scatterpolar\"}],\"scatter\":[{\"fillpattern\":{\"fillmode\":\"overlay\",\"size\":10,\"solidity\":0.2},\"type\":\"scatter\"}],\"scatterternary\":[{\"marker\":{\"colorbar\":{\"outlinewidth\":1,\"tickcolor\":\"rgb(36,36,36)\",\"ticks\":\"outside\"}},\"type\":\"scatterternary\"}],\"surface\":[{\"colorbar\":{\"outlinewidth\":1,\"tickcolor\":\"rgb(36,36,36)\",\"ticks\":\"outside\"},\"colorscale\":[[0.0,\"#440154\"],[0.1111111111111111,\"#482878\"],[0.2222222222222222,\"#3e4989\"],[0.3333333333333333,\"#31688e\"],[0.4444444444444444,\"#26828e\"],[0.5555555555555556,\"#1f9e89\"],[0.6666666666666666,\"#35b779\"],[0.7777777777777778,\"#6ece58\"],[0.8888888888888888,\"#b5de2b\"],[1.0,\"#fde725\"]],\"type\":\"surface\"}],\"table\":[{\"cells\":{\"fill\":{\"color\":\"rgb(237,237,237)\"},\"line\":{\"color\":\"white\"}},\"header\":{\"fill\":{\"color\":\"rgb(217,217,217)\"},\"line\":{\"color\":\"white\"}},\"type\":\"table\"}]},\"layout\":{\"annotationdefaults\":{\"arrowhead\":0,\"arrowwidth\":1},\"autotypenumbers\":\"strict\",\"coloraxis\":{\"colorbar\":{\"outlinewidth\":1,\"tickcolor\":\"rgb(36,36,36)\",\"ticks\":\"outside\"}},\"colorscale\":{\"diverging\":[[0.0,\"rgb(103,0,31)\"],[0.1,\"rgb(178,24,43)\"],[0.2,\"rgb(214,96,77)\"],[0.3,\"rgb(244,165,130)\"],[0.4,\"rgb(253,219,199)\"],[0.5,\"rgb(247,247,247)\"],[0.6,\"rgb(209,229,240)\"],[0.7,\"rgb(146,197,222)\"],[0.8,\"rgb(67,147,195)\"],[0.9,\"rgb(33,102,172)\"],[1.0,\"rgb(5,48,97)\"]],\"sequential\":[[0.0,\"#440154\"],[0.1111111111111111,\"#482878\"],[0.2222222222222222,\"#3e4989\"],[0.3333333333333333,\"#31688e\"],[0.4444444444444444,\"#26828e\"],[0.5555555555555556,\"#1f9e89\"],[0.6666666666666666,\"#35b779\"],[0.7777777777777778,\"#6ece58\"],[0.8888888888888888,\"#b5de2b\"],[1.0,\"#fde725\"]],\"sequentialminus\":[[0.0,\"#440154\"],[0.1111111111111111,\"#482878\"],[0.2222222222222222,\"#3e4989\"],[0.3333333333333333,\"#31688e\"],[0.4444444444444444,\"#26828e\"],[0.5555555555555556,\"#1f9e89\"],[0.6666666666666666,\"#35b779\"],[0.7777777777777778,\"#6ece58\"],[0.8888888888888888,\"#b5de2b\"],[1.0,\"#fde725\"]]},\"colorway\":[\"#91268F\",\"#8CC63E\",\"#00A7A0\",\"#F05A28\",\"#4C4C4C\",\"#630460\",\"#9f3913\",\"#588527\",\"#00716c\",\"#3e4040\"],\"font\":{\"color\":\"rgb(36,36,36)\",\"family\":\"Poppins\",\"size\":11},\"geo\":{\"bgcolor\":\"white\",\"lakecolor\":\"white\",\"landcolor\":\"white\",\"showlakes\":true,\"showland\":true,\"subunitcolor\":\"white\"},\"hoverlabel\":{\"align\":\"left\"},\"hovermode\":\"closest\",\"mapbox\":{\"style\":\"light\"},\"paper_bgcolor\":\"white\",\"plot_bgcolor\":\"white\",\"polar\":{\"angularaxis\":{\"gridcolor\":\"rgb(232,232,232)\",\"linecolor\":\"rgb(36,36,36)\",\"showgrid\":false,\"showline\":true,\"ticks\":\"outside\"},\"bgcolor\":\"white\",\"radialaxis\":{\"gridcolor\":\"rgb(232,232,232)\",\"linecolor\":\"rgb(36,36,36)\",\"showgrid\":false,\"showline\":true,\"ticks\":\"outside\"}},\"scene\":{\"xaxis\":{\"backgroundcolor\":\"white\",\"gridcolor\":\"rgb(232,232,232)\",\"gridwidth\":2,\"linecolor\":\"rgb(36,36,36)\",\"showbackground\":true,\"showgrid\":false,\"showline\":true,\"ticks\":\"outside\",\"zeroline\":false,\"zerolinecolor\":\"rgb(36,36,36)\"},\"yaxis\":{\"backgroundcolor\":\"white\",\"gridcolor\":\"rgb(232,232,232)\",\"gridwidth\":2,\"linecolor\":\"rgb(36,36,36)\",\"showbackground\":true,\"showgrid\":false,\"showline\":true,\"ticks\":\"outside\",\"zeroline\":false,\"zerolinecolor\":\"rgb(36,36,36)\"},\"zaxis\":{\"backgroundcolor\":\"white\",\"gridcolor\":\"rgb(232,232,232)\",\"gridwidth\":2,\"linecolor\":\"rgb(36,36,36)\",\"showbackground\":true,\"showgrid\":false,\"showline\":true,\"ticks\":\"outside\",\"zeroline\":false,\"zerolinecolor\":\"rgb(36,36,36)\"}},\"shapedefaults\":{\"fillcolor\":\"black\",\"line\":{\"width\":0},\"opacity\":0.3},\"ternary\":{\"aaxis\":{\"gridcolor\":\"rgb(232,232,232)\",\"linecolor\":\"rgb(36,36,36)\",\"showgrid\":false,\"showline\":true,\"ticks\":\"outside\"},\"baxis\":{\"gridcolor\":\"rgb(232,232,232)\",\"linecolor\":\"rgb(36,36,36)\",\"showgrid\":false,\"showline\":true,\"ticks\":\"outside\"},\"bgcolor\":\"white\",\"caxis\":{\"gridcolor\":\"rgb(232,232,232)\",\"linecolor\":\"rgb(36,36,36)\",\"showgrid\":false,\"showline\":true,\"ticks\":\"outside\"}},\"title\":{\"x\":0.05},\"xaxis\":{\"automargin\":true,\"gridcolor\":\"rgb(232,232,232)\",\"linecolor\":\"rgb(36,36,36)\",\"showgrid\":false,\"showline\":true,\"ticks\":\"outside\",\"title\":{\"standoff\":15},\"zeroline\":false,\"zerolinecolor\":\"rgb(36,36,36)\"},\"yaxis\":{\"automargin\":true,\"gridcolor\":\"rgb(232,232,232)\",\"linecolor\":\"rgb(36,36,36)\",\"showgrid\":false,\"showline\":true,\"ticks\":\"outside\",\"title\":{\"standoff\":15},\"zeroline\":false,\"zerolinecolor\":\"rgb(36,36,36)\"}}},\"xaxis\":{\"anchor\":\"y\",\"domain\":[0.0,1.0],\"title\":{\"text\":\"Observed\"}},\"yaxis\":{\"anchor\":\"x\",\"domain\":[0.0,1.0],\"title\":{\"text\":\"Model\"}},\"legend\":{\"tracegroupgap\":0},\"title\":{\"text\":\"Heavy Trucks: Kitsap\"},\"margin\":{\"l\":100,\"r\":100,\"t\":100,\"b\":100},\"height\":600,\"width\":800,\"shapes\":[{\"line\":{\"color\":\"Red\",\"dash\":\"dash\",\"width\":2},\"type\":\"line\",\"x0\":0,\"x1\":4967,\"y0\":0,\"y1\":4967}],\"annotations\":[{\"align\":\"right\",\"font\":{\"color\":\"pink\",\"size\":12},\"showarrow\":false,\"text\":\"y = x\",\"x\":5215.35,\"y\":5215.35},{\"align\":\"right\",\"font\":{\"color\":\"black\",\"size\":12},\"showarrow\":false,\"text\":\"r^2 = 0.88\",\"x\":1633.8000000000002,\"y\":4332.496918009458}]},                        {\"responsive\": true}                    ).then(function(){\n",
       "                            \n",
       "var gd = document.getElementById('a87242a1-e8e6-485e-9b99-7eb0d320f36f');\n",
       "var x = new MutationObserver(function (mutations, observer) {{\n",
       "        var display = window.getComputedStyle(gd).display;\n",
       "        if (!display || display === 'none') {{\n",
       "            console.log([gd, 'removed!']);\n",
       "            Plotly.purge(gd);\n",
       "            observer.disconnect();\n",
       "        }}\n",
       "}});\n",
       "\n",
       "// Listen for the removal of the full notebook cells\n",
       "var notebookContainer = gd.closest('#notebook-container');\n",
       "if (notebookContainer) {{\n",
       "    x.observe(notebookContainer, {childList: true});\n",
       "}}\n",
       "\n",
       "// Listen for the clearing of the current output cell\n",
       "var outputEl = gd.closest('.output');\n",
       "if (outputEl) {{\n",
       "    x.observe(outputEl, {childList: true});\n",
       "}}\n",
       "\n",
       "                        })                };            </script>        </div>"
      ]
     },
     "metadata": {},
     "output_type": "display_data"
    }
   ],
   "source": [
    "fig = create_truck_chart(df_daily_heavy, 'Heavy', 'Kitsap')\n",
    "fig.show()"
   ]
  },
  {
   "cell_type": "raw",
   "id": "f6c91eb1",
   "metadata": {
    "vscode": {
     "languageId": "raw"
    }
   },
   "source": [
    "#### Pierce"
   ]
  },
  {
   "cell_type": "code",
   "execution_count": 27,
   "id": "4661c354",
   "metadata": {
    "execution": {
     "iopub.execute_input": "2025-06-18T22:59:58.457614Z",
     "iopub.status.busy": "2025-06-18T22:59:58.456617Z",
     "iopub.status.idle": "2025-06-18T22:59:58.585866Z",
     "shell.execute_reply": "2025-06-18T22:59:58.584803Z"
    }
   },
   "outputs": [
    {
     "data": {
      "application/vnd.plotly.v1+json": {
       "config": {
        "plotlyServerURL": "https://plot.ly"
       },
       "data": [
        {
         "customdata": [
          [
           "I-5 S/O Mounts NB",
           "Pierce"
          ],
          [
           "I-5 S/O Mounts SB",
           "Pierce"
          ],
          [
           "I-5 S/O Division NB",
           "Pierce"
          ],
          [
           "I-5 S/O Division SB",
           "Pierce"
          ],
          [
           "I-5 @ N/O Division NB",
           "Pierce"
          ],
          [
           "I-5 @ N/O Division SB",
           "Pierce"
          ],
          [
           "I-5 S/O SR-512 NB",
           "Pierce"
          ],
          [
           "I-5 S/O SR-512 SB",
           "Pierce"
          ],
          [
           "I-5 N/O SR-512 NB",
           "Pierce"
          ],
          [
           "I-5 N/O SR-512 SB",
           "Pierce"
          ],
          [
           "I-5 N/O 56th NB",
           "Pierce"
          ],
          [
           "I-5 N/O 56th SB",
           "Pierce"
          ],
          [
           "I-5 E/O SR-16 NB",
           "Pierce"
          ],
          [
           "I-5 E/O SR-16 SB",
           "Pierce"
          ],
          [
           "I-5 E/O Port of Tacoma NB",
           "Pierce"
          ],
          [
           "I-5 E/O Port of Tacoma SB (HOV from 56)",
           "Pierce"
          ],
          [
           "SR-512 W/O Meridian WB",
           "Pierce"
          ],
          [
           "SR-512 W/O Meridian EB",
           "Pierce"
          ],
          [
           "SR-167 W/O SR-410 NB/SB",
           "Pierce"
          ],
          [
           "SR-167 E/O SR-161 NB/SB",
           "Pierce"
          ],
          [
           "SR-410 E/O S Prairie WB/EB",
           "Pierce"
          ],
          [
           "SR-410 E/O Chinook WB/EB",
           "Pierce"
          ],
          [
           "SR-410 W/O SR-123 WB/EB",
           "Pierce"
          ],
          [
           "SR-410 E/O SR-123 WB/EB",
           "Pierce"
          ],
          [
           "SR-512 @ I-5 WB/EB",
           "Pierce"
          ],
          [
           "SR-512 W/O SR-7 WB/EB",
           "Pierce"
          ],
          [
           "SR-512 S/O SR-167 WB/EB",
           "Pierce"
          ],
          [
           "SR-509 E/O I-705 NB/SB",
           "Pierce"
          ],
          [
           "SR-509 W/O Alexander NB/SB",
           "Pierce"
          ],
          [
           "SR-509 S/O 11th NB/SB",
           "Pierce"
          ],
          [
           "SR-509 N/O Hyada NB/SB",
           "Pierce"
          ],
          [
           "SR-509 E/O Soundview NB/SB",
           "Pierce"
          ],
          [
           "SR-99 @ I-5 NB/SB",
           "Pierce"
          ],
          [
           "SR-99 E/O 54th NB/SB",
           "Pierce"
          ],
          [
           "SR-99 S/O Porter NB/SB",
           "Pierce"
          ],
          [
           "SR-16 @ TNB NB/SB",
           "Pierce"
          ],
          [
           "SR-16 @ Purdy Dr NB/SB",
           "Pierce"
          ],
          [
           "SR-302 N/O 144th WB/EB",
           "Pierce"
          ],
          [
           "SR-302 S/O 144th WB/EB",
           "Pierce"
          ],
          [
           "SR-302 W/O Key Peninsula Hwy WB/EB",
           "Pierce"
          ],
          [
           "SR-302 W/O Wright-Bliss WB/EB (E/O?)",
           "Pierce"
          ],
          [
           "SR-161 E/O SR-7 NB/SB",
           "Pierce"
          ],
          [
           "SR-161 N/O Center NB/SB",
           "Pierce"
          ],
          [
           "SR-161 N/O Eatonville Cutoff NB/SB",
           "Pierce"
          ],
          [
           "SR-161 N/O 304th NB/SB",
           "Pierce"
          ],
          [
           "SR-161 N/O 264th NB/SB",
           "Pierce"
          ],
          [
           "SR-161 S/O 224th NB/SB",
           "Pierce"
          ],
          [
           "SR-161 N/O 224th NB/SB",
           "Pierce"
          ],
          [
           "SR-161 N/O 200th NB/SB",
           "Pierce"
          ],
          [
           "SR-161 S/O SR-167 SB off-ramp NB/SB",
           "Pierce"
          ],
          [
           "SR-161 S/O Valley NB/SB",
           "Pierce"
          ],
          [
           "SR-161 N/O Valley NB/SB",
           "Pierce"
          ],
          [
           "SR-161 N/O 8th NB/SB",
           "Pierce"
          ],
          [
           "SR-7 @ Thurston County NB/SB",
           "Pierce"
          ],
          [
           "SR-7 W/O Alder Cutoff NB/SB",
           "Pierce"
          ],
          [
           "SR-7 N/O Eatonville Hwy NB/SB",
           "Pierce"
          ],
          [
           "SR-7 N/O Silver Lake NB/SB",
           "Pierce"
          ],
          [
           "SR-7 S/O SR-702 NB/SB",
           "Pierce"
          ],
          [
           "SR-7 N/O 304th NB/SB",
           "Pierce"
          ],
          [
           "SR-7 N/O 260th NB/SB",
           "Pierce"
          ],
          [
           "SR-7 S/O 224th NB/SB",
           "Pierce"
          ],
          [
           "SR-7 N/O 224th NB/SB",
           "Pierce"
          ],
          [
           "SR-7 N/O 38th NB/SB",
           "Pierce"
          ],
          [
           "SR-162 @ SR-410 WB/EB",
           "Pierce"
          ],
          [
           "SR-162 S/O Pioneer WB/EB",
           "Pierce"
          ],
          [
           "SR-162 E/O Orville WB/EB",
           "Pierce"
          ],
          [
           "SR-162 E/O S Prairie WB/EB",
           "Pierce"
          ],
          [
           "SR-162 N/O SR-165 WB/EB",
           "Pierce"
          ],
          [
           "SR-163 @ SR-16 NB/SB",
           "Pierce"
          ],
          [
           "SR-163 N/O 37th NB/SB",
           "Pierce"
          ],
          [
           "SR-163 N/O Park NB/SB",
           "Pierce"
          ],
          [
           "SR-507 S/O SR-7 NB/SB",
           "Pierce"
          ],
          [
           "SR-507 S/O E Gate NB/SB",
           "Pierce"
          ],
          [
           "SR-507 S/O 288th NB/SB",
           "Pierce"
          ],
          [
           "SR-507 N/O 346th NB/SB",
           "Pierce"
          ],
          [
           "SR-702 E/O SR-507 WB/EB",
           "Pierce"
          ],
          [
           "SR-702 E/O Harts Lake WB/EB",
           "Pierce"
          ],
          [
           "SR-702 E/O 40th WB/EB",
           "Pierce"
          ],
          [
           "SR-702 W/O 8th WB/EB",
           "Pierce"
          ],
          [
           "SR-702 E/O 8th WB/EB",
           "Pierce"
          ],
          [
           "SR-165 E/O SR-162 NB/SB",
           "Pierce"
          ],
          [
           "SR-165 N/O Davis NB/SB",
           "Pierce"
          ],
          [
           "SR-165 N/O Wilkeson-Carbonado NB/SB",
           "Pierce"
          ],
          [
           "SR-704 E/O Spanaway Loop WB/EB",
           "Pierce"
          ],
          [
           "SR-706 E/O SR-7 WB/EB",
           "Pierce"
          ],
          [
           "SR-706 E/O Kernahan WB/EB",
           "Pierce"
          ]
         ],
         "hovertemplate": "Observed=%{x}<br>Model=%{y}<br>location=%{customdata[0]}<br>County=%{customdata[1]}<extra></extra>",
         "legendgroup": "",
         "line": {
          "color": "Grey",
          "width": 2
         },
         "marker": {
          "color": "#91268F",
          "symbol": "circle"
         },
         "mode": "markers",
         "name": "",
         "orientation": "v",
         "showlegend": false,
         "type": "scatter",
         "x": {
          "bdata": "xRWmFSIX9BdQE9kSnBW1FKUT6xNPF34XkAoFF/oO3xJdCV0JkRziDXQCEwATABAAOA3eD4sSkATyCXAADAAPAHcFsArPBNYGKgVaAGwAPAA3ABkAyABwAJwBZQFGAVsBDAKLAxEHuAC2AIwAbABHAF8AaACiAZgBzQGhAbQAuwFsBO8AjACXACsAKABZANsBcwETAoIBFgHhABoBrQAGAa8AMwATAMECJgAOAA==",
          "dtype": "i2"
         },
         "xaxis": "x",
         "y": {
          "bdata": "3RreGiEcIBwGHAEcrRtDG7MeFR+MH9IfYhy7KUUzvyvXBwkILxpuA4gAdAB0AHQAYgtSCAIRogTEEC4IAAAAAGICtgH7Au0XWxMjABoANAEjAQAANAA0AGAAYAB2AJ8AygCWARMDCwCZAAAAEQARABEAUABbAF8AYAApAAEAlQBoAAkACAAIAHMAdAAmAScCMgIpAikCBwAHACwALAAgAAkAAAAAADUBAAAAAA==",
          "dtype": "i2"
         },
         "yaxis": "y"
        },
        {
         "hovertemplate": "Observed=%{x}<br>Model=%{y}<extra></extra>",
         "legendgroup": "",
         "line": {
          "color": "Grey",
          "dash": "solid",
          "width": 2
         },
         "marker": {
          "symbol": "circle"
         },
         "mode": "lines",
         "name": "",
         "orientation": "v",
         "showlegend": false,
         "type": "scatter",
         "x": {
          "bdata": "AAAAAAAAAABi3s6QmHdSQGLezpCYd2JAk0022WSza0Bi3s6QmHdyQPqVArV+FXdAk0022WSze0CWArV+pSiAQGLezpCYd4JALrrooovGhED6lQK1fhWHQMdxHMdxZIlAk0022WSzi0BfKVDrVwKOQJYCtX6lKJBAfPDBBx9QkUBi3s6QmHeSQEjM2xkSn5NALrrooovGlEAUqPUrBe6VQPqVArV+FZdA4YMPPvg8mEDHcRzHcWSZQK1fKVDri5pAk0022WSzm0B5O0Ni3tqcQF8pUOtXAp5ARRdddNEpn0CWArV+pSigQIl5O0NivKBAfPDBBx9QoUBvZ0jM2+OhQGLezpCYd6JAVVVVVVULo0BIzNsZEp+jQDtDYt7OMqRALrrooovGpEAhMW9nSFqlQBSo9SsF7qVABx988MGBpkD6lQK1fhWnQO4MiXk7qadA4YMPPvg8qEDU+pUCtdCoQMdxHMdxZKlAuuiiiy74qUCtXylQ64uqQKDWrxSoH6tAk0022WSzq0CGxLydIUesQHk7Q2Le2qxAbLLJJpturUBfKVDrVwKuQFKg1q8Ulq5ARRdddNEpr0A4juM4jr2vQJYCtX6lKLBADz744INysECJeTtDYrywQAK1fqVABrFAfPDBBx9QsUD1KwVq/ZmxQG9nSMzb47FA6KKLLrotskBi3s6QmHeyQNwZEvN2wbJAVVVVVVULs0DPkJi3M1WzQEjM2xkSn7NAwgcffPDos0A7Q2LezjK0QLV+pUCtfLRALrrooovGtECo9SsFahC1QCExb2dIWrVAm2yyySaktUAUqPUrBe61QI7jOI7jN7ZABx988MGBtkCBWr9SoMu2QPqVArV+FbdAdNFFF11ft0DuDIl5O6m3QGdIzNsZ87dA4YMPPvg8uEBav1Kg1oa4QNT6lQK10LhATTbZZJMauUDHcRzHcWS5QECtXylQrrlAuuiiiy74uUAzJObtDEK6QK1fKVDri7pAJptsssnVukCg1q8UqB+7QBkS83aGabtAk0022WSzu0ANiXk7Q/27QIbEvJ0hR7xAAAAAAACRvEA=",
          "dtype": "f8"
         },
         "xaxis": "x",
         "y": {
          "bdata": "gCGNyw0hW8CA48/m44kewBAls07RT1dALKTpbSBEaEDo2jwaLHByQLnjhP1HvnhAjOzM4GMMf0CvegriP62CQBh/rtNN1IVAgINSxVv7iEDph/a2aSKMQFKMmqh3SY9AXkgfzUI4kUCSSvHFycuSQMdMw75QX5RA+06Vt9fylUAwUWewXoaXQGRTOanlGZlAmFULomytmkDMV92a80CcQAFar5N61J1ANlyBjAFon0A1r6lCxH2gQFCwEr+HR6FAarF7O0sRokCEsuS3DtuiQJ6zTTTSpKNAuLS2sJVupEDTtR8tWTilQO22iKkcAqZAB7jxJeDLpkAhuVqio5WnQDy6wx5nX6hAVrssmyopqUBwvJUX7vKpQIq9/pOxvKpApL5nEHWGq0C+v9CMOFCsQNjAOQn8Ga1A88Gihb/jrUANwwsCg62uQCjEdH5Gd69AoeJu/YQgsEAuY6O7ZoWwQLvj13lI6rBASGQMOCpPsUDW5ED2C7SxQGNldbTtGLJA8OWpcs99skB9Zt4wseKyQArnEu+SR7NAl2dHrXSss0Ak6HtrVhG0QLFosCk4drRAPunk5xnbtEDLaRmm+z+1QFnqTWTdpLVA5WqCIr8JtkBz67bgoG62QABs656C07ZAjewfXWQ4t0AabVQbRp23QKftiNknArhANG69lwlnuEDC7vFV68u4QE9vJhTNMLlA3O9a0q6VuUBpcI+QkPq5QPbww05yX7pAhHH4DFTEukAQ8izLNSm7QJ5yYYkXjrtAKvOVR/nyu0C4c8oF21e8QET0/sO8vLxA0nQzgp4hvUBe9WdAgIa9QOx1nP5h671AefbQvENQvkAGdwV7JbW+QJP3OTkHGr9AIXhu9+h+v0Cu+KK1yuO/QJ286zlWJMBA5PwFGcdWwEAqPSD4N4nAQHF9Oteou8BAuL1UthnuwED+/W6ViiDBQEU+iXT7UsFAi36jU2yFwUDSvr0y3bfBQBn/1xFO6sFAXz/y8L4cwkCmfwzQL0/CQOy/Jq+ggcJAMwBBjhG0wkB6QFttgubCQMCAdUzzGMNAB8GPK2RLw0A=",
          "dtype": "f8"
         },
         "yaxis": "y"
        }
       ],
       "layout": {
        "annotations": [
         {
          "align": "right",
          "font": {
           "color": "pink",
           "size": 12
          },
          "showarrow": false,
          "text": "y = x",
          "x": 13781.25,
          "y": 13781.25
         },
         {
          "align": "right",
          "font": {
           "color": "black",
           "size": 12
          },
          "showarrow": false,
          "text": "r^2 = 0.77",
          "x": 7678.650000000001,
          "y": 10372.721708362307
         }
        ],
        "height": 600,
        "legend": {
         "tracegroupgap": 0
        },
        "margin": {
         "b": 100,
         "l": 100,
         "r": 100,
         "t": 100
        },
        "shapes": [
         {
          "line": {
           "color": "Red",
           "dash": "dash",
           "width": 2
          },
          "type": "line",
          "x0": 0,
          "x1": 13125,
          "y0": 0,
          "y1": 13125
         }
        ],
        "template": {
         "data": {
          "bar": [
           {
            "error_x": {
             "color": "rgb(36,36,36)"
            },
            "error_y": {
             "color": "rgb(36,36,36)"
            },
            "marker": {
             "line": {
              "color": "white",
              "width": 0.5
             },
             "pattern": {
              "fillmode": "overlay",
              "size": 10,
              "solidity": 0.2
             }
            },
            "type": "bar"
           }
          ],
          "barpolar": [
           {
            "marker": {
             "line": {
              "color": "white",
              "width": 0.5
             },
             "pattern": {
              "fillmode": "overlay",
              "size": 10,
              "solidity": 0.2
             }
            },
            "type": "barpolar"
           }
          ],
          "carpet": [
           {
            "aaxis": {
             "endlinecolor": "rgb(36,36,36)",
             "gridcolor": "white",
             "linecolor": "white",
             "minorgridcolor": "white",
             "startlinecolor": "rgb(36,36,36)"
            },
            "baxis": {
             "endlinecolor": "rgb(36,36,36)",
             "gridcolor": "white",
             "linecolor": "white",
             "minorgridcolor": "white",
             "startlinecolor": "rgb(36,36,36)"
            },
            "type": "carpet"
           }
          ],
          "choropleth": [
           {
            "colorbar": {
             "outlinewidth": 1,
             "tickcolor": "rgb(36,36,36)",
             "ticks": "outside"
            },
            "type": "choropleth"
           }
          ],
          "contour": [
           {
            "colorbar": {
             "outlinewidth": 1,
             "tickcolor": "rgb(36,36,36)",
             "ticks": "outside"
            },
            "colorscale": [
             [
              0.0,
              "#440154"
             ],
             [
              0.1111111111111111,
              "#482878"
             ],
             [
              0.2222222222222222,
              "#3e4989"
             ],
             [
              0.3333333333333333,
              "#31688e"
             ],
             [
              0.4444444444444444,
              "#26828e"
             ],
             [
              0.5555555555555556,
              "#1f9e89"
             ],
             [
              0.6666666666666666,
              "#35b779"
             ],
             [
              0.7777777777777778,
              "#6ece58"
             ],
             [
              0.8888888888888888,
              "#b5de2b"
             ],
             [
              1.0,
              "#fde725"
             ]
            ],
            "type": "contour"
           }
          ],
          "contourcarpet": [
           {
            "colorbar": {
             "outlinewidth": 1,
             "tickcolor": "rgb(36,36,36)",
             "ticks": "outside"
            },
            "type": "contourcarpet"
           }
          ],
          "heatmap": [
           {
            "colorbar": {
             "outlinewidth": 1,
             "tickcolor": "rgb(36,36,36)",
             "ticks": "outside"
            },
            "colorscale": [
             [
              0.0,
              "#440154"
             ],
             [
              0.1111111111111111,
              "#482878"
             ],
             [
              0.2222222222222222,
              "#3e4989"
             ],
             [
              0.3333333333333333,
              "#31688e"
             ],
             [
              0.4444444444444444,
              "#26828e"
             ],
             [
              0.5555555555555556,
              "#1f9e89"
             ],
             [
              0.6666666666666666,
              "#35b779"
             ],
             [
              0.7777777777777778,
              "#6ece58"
             ],
             [
              0.8888888888888888,
              "#b5de2b"
             ],
             [
              1.0,
              "#fde725"
             ]
            ],
            "type": "heatmap"
           }
          ],
          "histogram": [
           {
            "marker": {
             "line": {
              "color": "white",
              "width": 0.6
             }
            },
            "type": "histogram"
           }
          ],
          "histogram2d": [
           {
            "colorbar": {
             "outlinewidth": 1,
             "tickcolor": "rgb(36,36,36)",
             "ticks": "outside"
            },
            "colorscale": [
             [
              0.0,
              "#440154"
             ],
             [
              0.1111111111111111,
              "#482878"
             ],
             [
              0.2222222222222222,
              "#3e4989"
             ],
             [
              0.3333333333333333,
              "#31688e"
             ],
             [
              0.4444444444444444,
              "#26828e"
             ],
             [
              0.5555555555555556,
              "#1f9e89"
             ],
             [
              0.6666666666666666,
              "#35b779"
             ],
             [
              0.7777777777777778,
              "#6ece58"
             ],
             [
              0.8888888888888888,
              "#b5de2b"
             ],
             [
              1.0,
              "#fde725"
             ]
            ],
            "type": "histogram2d"
           }
          ],
          "histogram2dcontour": [
           {
            "colorbar": {
             "outlinewidth": 1,
             "tickcolor": "rgb(36,36,36)",
             "ticks": "outside"
            },
            "colorscale": [
             [
              0.0,
              "#440154"
             ],
             [
              0.1111111111111111,
              "#482878"
             ],
             [
              0.2222222222222222,
              "#3e4989"
             ],
             [
              0.3333333333333333,
              "#31688e"
             ],
             [
              0.4444444444444444,
              "#26828e"
             ],
             [
              0.5555555555555556,
              "#1f9e89"
             ],
             [
              0.6666666666666666,
              "#35b779"
             ],
             [
              0.7777777777777778,
              "#6ece58"
             ],
             [
              0.8888888888888888,
              "#b5de2b"
             ],
             [
              1.0,
              "#fde725"
             ]
            ],
            "type": "histogram2dcontour"
           }
          ],
          "mesh3d": [
           {
            "colorbar": {
             "outlinewidth": 1,
             "tickcolor": "rgb(36,36,36)",
             "ticks": "outside"
            },
            "type": "mesh3d"
           }
          ],
          "parcoords": [
           {
            "line": {
             "colorbar": {
              "outlinewidth": 1,
              "tickcolor": "rgb(36,36,36)",
              "ticks": "outside"
             }
            },
            "type": "parcoords"
           }
          ],
          "pie": [
           {
            "automargin": true,
            "type": "pie"
           }
          ],
          "scatter": [
           {
            "fillpattern": {
             "fillmode": "overlay",
             "size": 10,
             "solidity": 0.2
            },
            "type": "scatter"
           }
          ],
          "scatter3d": [
           {
            "line": {
             "colorbar": {
              "outlinewidth": 1,
              "tickcolor": "rgb(36,36,36)",
              "ticks": "outside"
             }
            },
            "marker": {
             "colorbar": {
              "outlinewidth": 1,
              "tickcolor": "rgb(36,36,36)",
              "ticks": "outside"
             }
            },
            "type": "scatter3d"
           }
          ],
          "scattercarpet": [
           {
            "marker": {
             "colorbar": {
              "outlinewidth": 1,
              "tickcolor": "rgb(36,36,36)",
              "ticks": "outside"
             }
            },
            "type": "scattercarpet"
           }
          ],
          "scattergeo": [
           {
            "marker": {
             "colorbar": {
              "outlinewidth": 1,
              "tickcolor": "rgb(36,36,36)",
              "ticks": "outside"
             }
            },
            "type": "scattergeo"
           }
          ],
          "scattergl": [
           {
            "marker": {
             "colorbar": {
              "outlinewidth": 1,
              "tickcolor": "rgb(36,36,36)",
              "ticks": "outside"
             }
            },
            "type": "scattergl"
           }
          ],
          "scattermap": [
           {
            "marker": {
             "colorbar": {
              "outlinewidth": 1,
              "tickcolor": "rgb(36,36,36)",
              "ticks": "outside"
             }
            },
            "type": "scattermap"
           }
          ],
          "scattermapbox": [
           {
            "marker": {
             "colorbar": {
              "outlinewidth": 1,
              "tickcolor": "rgb(36,36,36)",
              "ticks": "outside"
             }
            },
            "type": "scattermapbox"
           }
          ],
          "scatterpolar": [
           {
            "marker": {
             "colorbar": {
              "outlinewidth": 1,
              "tickcolor": "rgb(36,36,36)",
              "ticks": "outside"
             }
            },
            "type": "scatterpolar"
           }
          ],
          "scatterpolargl": [
           {
            "marker": {
             "colorbar": {
              "outlinewidth": 1,
              "tickcolor": "rgb(36,36,36)",
              "ticks": "outside"
             }
            },
            "type": "scatterpolargl"
           }
          ],
          "scatterternary": [
           {
            "marker": {
             "colorbar": {
              "outlinewidth": 1,
              "tickcolor": "rgb(36,36,36)",
              "ticks": "outside"
             }
            },
            "type": "scatterternary"
           }
          ],
          "surface": [
           {
            "colorbar": {
             "outlinewidth": 1,
             "tickcolor": "rgb(36,36,36)",
             "ticks": "outside"
            },
            "colorscale": [
             [
              0.0,
              "#440154"
             ],
             [
              0.1111111111111111,
              "#482878"
             ],
             [
              0.2222222222222222,
              "#3e4989"
             ],
             [
              0.3333333333333333,
              "#31688e"
             ],
             [
              0.4444444444444444,
              "#26828e"
             ],
             [
              0.5555555555555556,
              "#1f9e89"
             ],
             [
              0.6666666666666666,
              "#35b779"
             ],
             [
              0.7777777777777778,
              "#6ece58"
             ],
             [
              0.8888888888888888,
              "#b5de2b"
             ],
             [
              1.0,
              "#fde725"
             ]
            ],
            "type": "surface"
           }
          ],
          "table": [
           {
            "cells": {
             "fill": {
              "color": "rgb(237,237,237)"
             },
             "line": {
              "color": "white"
             }
            },
            "header": {
             "fill": {
              "color": "rgb(217,217,217)"
             },
             "line": {
              "color": "white"
             }
            },
            "type": "table"
           }
          ]
         },
         "layout": {
          "annotationdefaults": {
           "arrowhead": 0,
           "arrowwidth": 1
          },
          "autotypenumbers": "strict",
          "coloraxis": {
           "colorbar": {
            "outlinewidth": 1,
            "tickcolor": "rgb(36,36,36)",
            "ticks": "outside"
           }
          },
          "colorscale": {
           "diverging": [
            [
             0.0,
             "rgb(103,0,31)"
            ],
            [
             0.1,
             "rgb(178,24,43)"
            ],
            [
             0.2,
             "rgb(214,96,77)"
            ],
            [
             0.3,
             "rgb(244,165,130)"
            ],
            [
             0.4,
             "rgb(253,219,199)"
            ],
            [
             0.5,
             "rgb(247,247,247)"
            ],
            [
             0.6,
             "rgb(209,229,240)"
            ],
            [
             0.7,
             "rgb(146,197,222)"
            ],
            [
             0.8,
             "rgb(67,147,195)"
            ],
            [
             0.9,
             "rgb(33,102,172)"
            ],
            [
             1.0,
             "rgb(5,48,97)"
            ]
           ],
           "sequential": [
            [
             0.0,
             "#440154"
            ],
            [
             0.1111111111111111,
             "#482878"
            ],
            [
             0.2222222222222222,
             "#3e4989"
            ],
            [
             0.3333333333333333,
             "#31688e"
            ],
            [
             0.4444444444444444,
             "#26828e"
            ],
            [
             0.5555555555555556,
             "#1f9e89"
            ],
            [
             0.6666666666666666,
             "#35b779"
            ],
            [
             0.7777777777777778,
             "#6ece58"
            ],
            [
             0.8888888888888888,
             "#b5de2b"
            ],
            [
             1.0,
             "#fde725"
            ]
           ],
           "sequentialminus": [
            [
             0.0,
             "#440154"
            ],
            [
             0.1111111111111111,
             "#482878"
            ],
            [
             0.2222222222222222,
             "#3e4989"
            ],
            [
             0.3333333333333333,
             "#31688e"
            ],
            [
             0.4444444444444444,
             "#26828e"
            ],
            [
             0.5555555555555556,
             "#1f9e89"
            ],
            [
             0.6666666666666666,
             "#35b779"
            ],
            [
             0.7777777777777778,
             "#6ece58"
            ],
            [
             0.8888888888888888,
             "#b5de2b"
            ],
            [
             1.0,
             "#fde725"
            ]
           ]
          },
          "colorway": [
           "#91268F",
           "#8CC63E",
           "#00A7A0",
           "#F05A28",
           "#4C4C4C",
           "#630460",
           "#9f3913",
           "#588527",
           "#00716c",
           "#3e4040"
          ],
          "font": {
           "color": "rgb(36,36,36)",
           "family": "Poppins",
           "size": 11
          },
          "geo": {
           "bgcolor": "white",
           "lakecolor": "white",
           "landcolor": "white",
           "showlakes": true,
           "showland": true,
           "subunitcolor": "white"
          },
          "hoverlabel": {
           "align": "left"
          },
          "hovermode": "closest",
          "mapbox": {
           "style": "light"
          },
          "paper_bgcolor": "white",
          "plot_bgcolor": "white",
          "polar": {
           "angularaxis": {
            "gridcolor": "rgb(232,232,232)",
            "linecolor": "rgb(36,36,36)",
            "showgrid": false,
            "showline": true,
            "ticks": "outside"
           },
           "bgcolor": "white",
           "radialaxis": {
            "gridcolor": "rgb(232,232,232)",
            "linecolor": "rgb(36,36,36)",
            "showgrid": false,
            "showline": true,
            "ticks": "outside"
           }
          },
          "scene": {
           "xaxis": {
            "backgroundcolor": "white",
            "gridcolor": "rgb(232,232,232)",
            "gridwidth": 2,
            "linecolor": "rgb(36,36,36)",
            "showbackground": true,
            "showgrid": false,
            "showline": true,
            "ticks": "outside",
            "zeroline": false,
            "zerolinecolor": "rgb(36,36,36)"
           },
           "yaxis": {
            "backgroundcolor": "white",
            "gridcolor": "rgb(232,232,232)",
            "gridwidth": 2,
            "linecolor": "rgb(36,36,36)",
            "showbackground": true,
            "showgrid": false,
            "showline": true,
            "ticks": "outside",
            "zeroline": false,
            "zerolinecolor": "rgb(36,36,36)"
           },
           "zaxis": {
            "backgroundcolor": "white",
            "gridcolor": "rgb(232,232,232)",
            "gridwidth": 2,
            "linecolor": "rgb(36,36,36)",
            "showbackground": true,
            "showgrid": false,
            "showline": true,
            "ticks": "outside",
            "zeroline": false,
            "zerolinecolor": "rgb(36,36,36)"
           }
          },
          "shapedefaults": {
           "fillcolor": "black",
           "line": {
            "width": 0
           },
           "opacity": 0.3
          },
          "ternary": {
           "aaxis": {
            "gridcolor": "rgb(232,232,232)",
            "linecolor": "rgb(36,36,36)",
            "showgrid": false,
            "showline": true,
            "ticks": "outside"
           },
           "baxis": {
            "gridcolor": "rgb(232,232,232)",
            "linecolor": "rgb(36,36,36)",
            "showgrid": false,
            "showline": true,
            "ticks": "outside"
           },
           "bgcolor": "white",
           "caxis": {
            "gridcolor": "rgb(232,232,232)",
            "linecolor": "rgb(36,36,36)",
            "showgrid": false,
            "showline": true,
            "ticks": "outside"
           }
          },
          "title": {
           "x": 0.05
          },
          "xaxis": {
           "automargin": true,
           "gridcolor": "rgb(232,232,232)",
           "linecolor": "rgb(36,36,36)",
           "showgrid": false,
           "showline": true,
           "ticks": "outside",
           "title": {
            "standoff": 15
           },
           "zeroline": false,
           "zerolinecolor": "rgb(36,36,36)"
          },
          "yaxis": {
           "automargin": true,
           "gridcolor": "rgb(232,232,232)",
           "linecolor": "rgb(36,36,36)",
           "showgrid": false,
           "showline": true,
           "ticks": "outside",
           "title": {
            "standoff": 15
           },
           "zeroline": false,
           "zerolinecolor": "rgb(36,36,36)"
          }
         }
        },
        "title": {
         "text": "Heavy Trucks: Pierce"
        },
        "width": 800,
        "xaxis": {
         "anchor": "y",
         "domain": [
          0.0,
          1.0
         ],
         "title": {
          "text": "Observed"
         }
        },
        "yaxis": {
         "anchor": "x",
         "domain": [
          0.0,
          1.0
         ],
         "title": {
          "text": "Model"
         }
        }
       }
      },
      "text/html": [
       "<div>            <script src=\"https://cdnjs.cloudflare.com/ajax/libs/mathjax/2.7.5/MathJax.js?config=TeX-AMS-MML_SVG\"></script><script type=\"text/javascript\">if (window.MathJax && window.MathJax.Hub && window.MathJax.Hub.Config) {window.MathJax.Hub.Config({SVG: {font: \"STIX-Web\"}});}</script>                <script type=\"text/javascript\">window.PlotlyConfig = {MathJaxConfig: 'local'};</script>\n",
       "        <script charset=\"utf-8\" src=\"https://cdn.plot.ly/plotly-3.0.1.min.js\"></script>                <div id=\"55799f13-6f0c-43d6-a2f8-69504c84f870\" class=\"plotly-graph-div\" style=\"height:600px; width:800px;\"></div>            <script type=\"text/javascript\">                window.PLOTLYENV=window.PLOTLYENV || {};                                if (document.getElementById(\"55799f13-6f0c-43d6-a2f8-69504c84f870\")) {                    Plotly.newPlot(                        \"55799f13-6f0c-43d6-a2f8-69504c84f870\",                        [{\"customdata\":[[\"I-5 S\\u002fO Mounts NB\",\"Pierce\"],[\"I-5 S\\u002fO Mounts SB\",\"Pierce\"],[\"I-5 S\\u002fO Division NB\",\"Pierce\"],[\"I-5 S\\u002fO Division SB\",\"Pierce\"],[\"I-5 @ N\\u002fO Division NB\",\"Pierce\"],[\"I-5 @ N\\u002fO Division SB\",\"Pierce\"],[\"I-5 S\\u002fO SR-512 NB\",\"Pierce\"],[\"I-5 S\\u002fO SR-512 SB\",\"Pierce\"],[\"I-5 N\\u002fO SR-512 NB\",\"Pierce\"],[\"I-5 N\\u002fO SR-512 SB\",\"Pierce\"],[\"I-5 N\\u002fO 56th NB\",\"Pierce\"],[\"I-5 N\\u002fO 56th SB\",\"Pierce\"],[\"I-5 E\\u002fO SR-16 NB\",\"Pierce\"],[\"I-5 E\\u002fO SR-16 SB\",\"Pierce\"],[\"I-5 E\\u002fO Port of Tacoma NB\",\"Pierce\"],[\"I-5 E\\u002fO Port of Tacoma SB (HOV from 56)\",\"Pierce\"],[\"SR-512 W\\u002fO Meridian WB\",\"Pierce\"],[\"SR-512 W\\u002fO Meridian EB\",\"Pierce\"],[\"SR-167 W\\u002fO SR-410 NB\\u002fSB\",\"Pierce\"],[\"SR-167 E\\u002fO SR-161 NB\\u002fSB\",\"Pierce\"],[\"SR-410 E\\u002fO S Prairie WB\\u002fEB\",\"Pierce\"],[\"SR-410 E\\u002fO Chinook WB\\u002fEB\",\"Pierce\"],[\"SR-410 W\\u002fO SR-123 WB\\u002fEB\",\"Pierce\"],[\"SR-410 E\\u002fO SR-123 WB\\u002fEB\",\"Pierce\"],[\"SR-512 @ I-5 WB\\u002fEB\",\"Pierce\"],[\"SR-512 W\\u002fO SR-7 WB\\u002fEB\",\"Pierce\"],[\"SR-512 S\\u002fO SR-167 WB\\u002fEB\",\"Pierce\"],[\"SR-509 E\\u002fO I-705 NB\\u002fSB\",\"Pierce\"],[\"SR-509 W\\u002fO Alexander NB\\u002fSB\",\"Pierce\"],[\"SR-509 S\\u002fO 11th NB\\u002fSB\",\"Pierce\"],[\"SR-509 N\\u002fO Hyada NB\\u002fSB\",\"Pierce\"],[\"SR-509 E\\u002fO Soundview NB\\u002fSB\",\"Pierce\"],[\"SR-99 @ I-5 NB\\u002fSB\",\"Pierce\"],[\"SR-99 E\\u002fO 54th NB\\u002fSB\",\"Pierce\"],[\"SR-99 S\\u002fO Porter NB\\u002fSB\",\"Pierce\"],[\"SR-16 @ TNB NB\\u002fSB\",\"Pierce\"],[\"SR-16 @ Purdy Dr NB\\u002fSB\",\"Pierce\"],[\"SR-302 N\\u002fO 144th WB\\u002fEB\",\"Pierce\"],[\"SR-302 S\\u002fO 144th WB\\u002fEB\",\"Pierce\"],[\"SR-302 W\\u002fO Key Peninsula Hwy WB\\u002fEB\",\"Pierce\"],[\"SR-302 W\\u002fO Wright-Bliss WB\\u002fEB (E\\u002fO?)\",\"Pierce\"],[\"SR-161 E\\u002fO SR-7 NB\\u002fSB\",\"Pierce\"],[\"SR-161 N\\u002fO Center NB\\u002fSB\",\"Pierce\"],[\"SR-161 N\\u002fO Eatonville Cutoff NB\\u002fSB\",\"Pierce\"],[\"SR-161 N\\u002fO 304th NB\\u002fSB\",\"Pierce\"],[\"SR-161 N\\u002fO 264th NB\\u002fSB\",\"Pierce\"],[\"SR-161 S\\u002fO 224th NB\\u002fSB\",\"Pierce\"],[\"SR-161 N\\u002fO 224th NB\\u002fSB\",\"Pierce\"],[\"SR-161 N\\u002fO 200th NB\\u002fSB\",\"Pierce\"],[\"SR-161 S\\u002fO SR-167 SB off-ramp NB\\u002fSB\",\"Pierce\"],[\"SR-161 S\\u002fO Valley NB\\u002fSB\",\"Pierce\"],[\"SR-161 N\\u002fO Valley NB\\u002fSB\",\"Pierce\"],[\"SR-161 N\\u002fO 8th NB\\u002fSB\",\"Pierce\"],[\"SR-7 @ Thurston County NB\\u002fSB\",\"Pierce\"],[\"SR-7 W\\u002fO Alder Cutoff NB\\u002fSB\",\"Pierce\"],[\"SR-7 N\\u002fO Eatonville Hwy NB\\u002fSB\",\"Pierce\"],[\"SR-7 N\\u002fO Silver Lake NB\\u002fSB\",\"Pierce\"],[\"SR-7 S\\u002fO SR-702 NB\\u002fSB\",\"Pierce\"],[\"SR-7 N\\u002fO 304th NB\\u002fSB\",\"Pierce\"],[\"SR-7 N\\u002fO 260th NB\\u002fSB\",\"Pierce\"],[\"SR-7 S\\u002fO 224th NB\\u002fSB\",\"Pierce\"],[\"SR-7 N\\u002fO 224th NB\\u002fSB\",\"Pierce\"],[\"SR-7 N\\u002fO 38th NB\\u002fSB\",\"Pierce\"],[\"SR-162 @ SR-410 WB\\u002fEB\",\"Pierce\"],[\"SR-162 S\\u002fO Pioneer WB\\u002fEB\",\"Pierce\"],[\"SR-162 E\\u002fO Orville WB\\u002fEB\",\"Pierce\"],[\"SR-162 E\\u002fO S Prairie WB\\u002fEB\",\"Pierce\"],[\"SR-162 N\\u002fO SR-165 WB\\u002fEB\",\"Pierce\"],[\"SR-163 @ SR-16 NB\\u002fSB\",\"Pierce\"],[\"SR-163 N\\u002fO 37th NB\\u002fSB\",\"Pierce\"],[\"SR-163 N\\u002fO Park NB\\u002fSB\",\"Pierce\"],[\"SR-507 S\\u002fO SR-7 NB\\u002fSB\",\"Pierce\"],[\"SR-507 S\\u002fO E Gate NB\\u002fSB\",\"Pierce\"],[\"SR-507 S\\u002fO 288th NB\\u002fSB\",\"Pierce\"],[\"SR-507 N\\u002fO 346th NB\\u002fSB\",\"Pierce\"],[\"SR-702 E\\u002fO SR-507 WB\\u002fEB\",\"Pierce\"],[\"SR-702 E\\u002fO Harts Lake WB\\u002fEB\",\"Pierce\"],[\"SR-702 E\\u002fO 40th WB\\u002fEB\",\"Pierce\"],[\"SR-702 W\\u002fO 8th WB\\u002fEB\",\"Pierce\"],[\"SR-702 E\\u002fO 8th WB\\u002fEB\",\"Pierce\"],[\"SR-165 E\\u002fO SR-162 NB\\u002fSB\",\"Pierce\"],[\"SR-165 N\\u002fO Davis NB\\u002fSB\",\"Pierce\"],[\"SR-165 N\\u002fO Wilkeson-Carbonado NB\\u002fSB\",\"Pierce\"],[\"SR-704 E\\u002fO Spanaway Loop WB\\u002fEB\",\"Pierce\"],[\"SR-706 E\\u002fO SR-7 WB\\u002fEB\",\"Pierce\"],[\"SR-706 E\\u002fO Kernahan WB\\u002fEB\",\"Pierce\"]],\"hovertemplate\":\"Observed=%{x}\\u003cbr\\u003eModel=%{y}\\u003cbr\\u003elocation=%{customdata[0]}\\u003cbr\\u003eCounty=%{customdata[1]}\\u003cextra\\u003e\\u003c\\u002fextra\\u003e\",\"legendgroup\":\"\",\"marker\":{\"color\":\"#91268F\",\"symbol\":\"circle\"},\"mode\":\"markers\",\"name\":\"\",\"orientation\":\"v\",\"showlegend\":false,\"x\":{\"dtype\":\"i2\",\"bdata\":\"xRWmFSIX9BdQE9kSnBW1FKUT6xNPF34XkAoFF\\u002foO3xJdCV0JkRziDXQCEwATABAAOA3eD4sSkATyCXAADAAPAHcFsArPBNYGKgVaAGwAPAA3ABkAyABwAJwBZQFGAVsBDAKLAxEHuAC2AIwAbABHAF8AaACiAZgBzQGhAbQAuwFsBO8AjACXACsAKABZANsBcwETAoIBFgHhABoBrQAGAa8AMwATAMECJgAOAA==\"},\"xaxis\":\"x\",\"y\":{\"dtype\":\"i2\",\"bdata\":\"3RreGiEcIBwGHAEcrRtDG7MeFR+MH9IfYhy7KUUzvyvXBwkILxpuA4gAdAB0AHQAYgtSCAIRogTEEC4IAAAAAGICtgH7Au0XWxMjABoANAEjAQAANAA0AGAAYAB2AJ8AygCWARMDCwCZAAAAEQARABEAUABbAF8AYAApAAEAlQBoAAkACAAIAHMAdAAmAScCMgIpAikCBwAHACwALAAgAAkAAAAAADUBAAAAAA==\"},\"yaxis\":\"y\",\"type\":\"scatter\",\"line\":{\"color\":\"Grey\",\"width\":2}},{\"hovertemplate\":\"Observed=%{x}\\u003cbr\\u003eModel=%{y}\\u003cextra\\u003e\\u003c\\u002fextra\\u003e\",\"legendgroup\":\"\",\"line\":{\"color\":\"Grey\",\"dash\":\"solid\",\"width\":2},\"marker\":{\"symbol\":\"circle\"},\"mode\":\"lines\",\"name\":\"\",\"orientation\":\"v\",\"showlegend\":false,\"x\":{\"dtype\":\"f8\",\"bdata\":\"AAAAAAAAAABi3s6QmHdSQGLezpCYd2JAk0022WSza0Bi3s6QmHdyQPqVArV+FXdAk0022WSze0CWArV+pSiAQGLezpCYd4JALrrooovGhED6lQK1fhWHQMdxHMdxZIlAk0022WSzi0BfKVDrVwKOQJYCtX6lKJBAfPDBBx9QkUBi3s6QmHeSQEjM2xkSn5NALrrooovGlEAUqPUrBe6VQPqVArV+FZdA4YMPPvg8mEDHcRzHcWSZQK1fKVDri5pAk0022WSzm0B5O0Ni3tqcQF8pUOtXAp5ARRdddNEpn0CWArV+pSigQIl5O0NivKBAfPDBBx9QoUBvZ0jM2+OhQGLezpCYd6JAVVVVVVULo0BIzNsZEp+jQDtDYt7OMqRALrrooovGpEAhMW9nSFqlQBSo9SsF7qVABx988MGBpkD6lQK1fhWnQO4MiXk7qadA4YMPPvg8qEDU+pUCtdCoQMdxHMdxZKlAuuiiiy74qUCtXylQ64uqQKDWrxSoH6tAk0022WSzq0CGxLydIUesQHk7Q2Le2qxAbLLJJpturUBfKVDrVwKuQFKg1q8Ulq5ARRdddNEpr0A4juM4jr2vQJYCtX6lKLBADz744INysECJeTtDYrywQAK1fqVABrFAfPDBBx9QsUD1KwVq\\u002fZmxQG9nSMzb47FA6KKLLrotskBi3s6QmHeyQNwZEvN2wbJAVVVVVVULs0DPkJi3M1WzQEjM2xkSn7NAwgcffPDos0A7Q2LezjK0QLV+pUCtfLRALrrooovGtECo9SsFahC1QCExb2dIWrVAm2yyySaktUAUqPUrBe61QI7jOI7jN7ZABx988MGBtkCBWr9SoMu2QPqVArV+FbdAdNFFF11ft0DuDIl5O6m3QGdIzNsZ87dA4YMPPvg8uEBav1Kg1oa4QNT6lQK10LhATTbZZJMauUDHcRzHcWS5QECtXylQrrlAuuiiiy74uUAzJObtDEK6QK1fKVDri7pAJptsssnVukCg1q8UqB+7QBkS83aGabtAk0022WSzu0ANiXk7Q\\u002f27QIbEvJ0hR7xAAAAAAACRvEA=\"},\"xaxis\":\"x\",\"y\":{\"dtype\":\"f8\",\"bdata\":\"gCGNyw0hW8CA48\\u002fm44kewBAls07RT1dALKTpbSBEaEDo2jwaLHByQLnjhP1HvnhAjOzM4GMMf0CvegriP62CQBh\\u002frtNN1IVAgINSxVv7iEDph\\u002fa2aSKMQFKMmqh3SY9AXkgfzUI4kUCSSvHFycuSQMdMw75QX5RA+06Vt9fylUAwUWewXoaXQGRTOanlGZlAmFULomytmkDMV92a80CcQAFar5N61J1ANlyBjAFon0A1r6lCxH2gQFCwEr+HR6FAarF7O0sRokCEsuS3DtuiQJ6zTTTSpKNAuLS2sJVupEDTtR8tWTilQO22iKkcAqZAB7jxJeDLpkAhuVqio5WnQDy6wx5nX6hAVrssmyopqUBwvJUX7vKpQIq9\\u002fpOxvKpApL5nEHWGq0C+v9CMOFCsQNjAOQn8Ga1A88Gihb\\u002fjrUANwwsCg62uQCjEdH5Gd69AoeJu\\u002fYQgsEAuY6O7ZoWwQLvj13lI6rBASGQMOCpPsUDW5ED2C7SxQGNldbTtGLJA8OWpcs99skB9Zt4wseKyQArnEu+SR7NAl2dHrXSss0Ak6HtrVhG0QLFosCk4drRAPunk5xnbtEDLaRmm+z+1QFnqTWTdpLVA5WqCIr8JtkBz67bgoG62QABs656C07ZAjewfXWQ4t0AabVQbRp23QKftiNknArhANG69lwlnuEDC7vFV68u4QE9vJhTNMLlA3O9a0q6VuUBpcI+QkPq5QPbww05yX7pAhHH4DFTEukAQ8izLNSm7QJ5yYYkXjrtAKvOVR\\u002fnyu0C4c8oF21e8QET0\\u002fsO8vLxA0nQzgp4hvUBe9WdAgIa9QOx1nP5h671AefbQvENQvkAGdwV7JbW+QJP3OTkHGr9AIXhu9+h+v0Cu+KK1yuO\\u002fQJ286zlWJMBA5PwFGcdWwEAqPSD4N4nAQHF9Oteou8BAuL1UthnuwED+\\u002fW6ViiDBQEU+iXT7UsFAi36jU2yFwUDSvr0y3bfBQBn\\u002f1xFO6sFAXz\\u002fy8L4cwkCmfwzQL0\\u002fCQOy\\u002fJq+ggcJAMwBBjhG0wkB6QFttgubCQMCAdUzzGMNAB8GPK2RLw0A=\"},\"yaxis\":\"y\",\"type\":\"scatter\"}],                        {\"template\":{\"data\":{\"barpolar\":[{\"marker\":{\"line\":{\"color\":\"white\",\"width\":0.5},\"pattern\":{\"fillmode\":\"overlay\",\"size\":10,\"solidity\":0.2}},\"type\":\"barpolar\"}],\"bar\":[{\"error_x\":{\"color\":\"rgb(36,36,36)\"},\"error_y\":{\"color\":\"rgb(36,36,36)\"},\"marker\":{\"line\":{\"color\":\"white\",\"width\":0.5},\"pattern\":{\"fillmode\":\"overlay\",\"size\":10,\"solidity\":0.2}},\"type\":\"bar\"}],\"carpet\":[{\"aaxis\":{\"endlinecolor\":\"rgb(36,36,36)\",\"gridcolor\":\"white\",\"linecolor\":\"white\",\"minorgridcolor\":\"white\",\"startlinecolor\":\"rgb(36,36,36)\"},\"baxis\":{\"endlinecolor\":\"rgb(36,36,36)\",\"gridcolor\":\"white\",\"linecolor\":\"white\",\"minorgridcolor\":\"white\",\"startlinecolor\":\"rgb(36,36,36)\"},\"type\":\"carpet\"}],\"choropleth\":[{\"colorbar\":{\"outlinewidth\":1,\"tickcolor\":\"rgb(36,36,36)\",\"ticks\":\"outside\"},\"type\":\"choropleth\"}],\"contourcarpet\":[{\"colorbar\":{\"outlinewidth\":1,\"tickcolor\":\"rgb(36,36,36)\",\"ticks\":\"outside\"},\"type\":\"contourcarpet\"}],\"contour\":[{\"colorbar\":{\"outlinewidth\":1,\"tickcolor\":\"rgb(36,36,36)\",\"ticks\":\"outside\"},\"colorscale\":[[0.0,\"#440154\"],[0.1111111111111111,\"#482878\"],[0.2222222222222222,\"#3e4989\"],[0.3333333333333333,\"#31688e\"],[0.4444444444444444,\"#26828e\"],[0.5555555555555556,\"#1f9e89\"],[0.6666666666666666,\"#35b779\"],[0.7777777777777778,\"#6ece58\"],[0.8888888888888888,\"#b5de2b\"],[1.0,\"#fde725\"]],\"type\":\"contour\"}],\"heatmap\":[{\"colorbar\":{\"outlinewidth\":1,\"tickcolor\":\"rgb(36,36,36)\",\"ticks\":\"outside\"},\"colorscale\":[[0.0,\"#440154\"],[0.1111111111111111,\"#482878\"],[0.2222222222222222,\"#3e4989\"],[0.3333333333333333,\"#31688e\"],[0.4444444444444444,\"#26828e\"],[0.5555555555555556,\"#1f9e89\"],[0.6666666666666666,\"#35b779\"],[0.7777777777777778,\"#6ece58\"],[0.8888888888888888,\"#b5de2b\"],[1.0,\"#fde725\"]],\"type\":\"heatmap\"}],\"histogram2dcontour\":[{\"colorbar\":{\"outlinewidth\":1,\"tickcolor\":\"rgb(36,36,36)\",\"ticks\":\"outside\"},\"colorscale\":[[0.0,\"#440154\"],[0.1111111111111111,\"#482878\"],[0.2222222222222222,\"#3e4989\"],[0.3333333333333333,\"#31688e\"],[0.4444444444444444,\"#26828e\"],[0.5555555555555556,\"#1f9e89\"],[0.6666666666666666,\"#35b779\"],[0.7777777777777778,\"#6ece58\"],[0.8888888888888888,\"#b5de2b\"],[1.0,\"#fde725\"]],\"type\":\"histogram2dcontour\"}],\"histogram2d\":[{\"colorbar\":{\"outlinewidth\":1,\"tickcolor\":\"rgb(36,36,36)\",\"ticks\":\"outside\"},\"colorscale\":[[0.0,\"#440154\"],[0.1111111111111111,\"#482878\"],[0.2222222222222222,\"#3e4989\"],[0.3333333333333333,\"#31688e\"],[0.4444444444444444,\"#26828e\"],[0.5555555555555556,\"#1f9e89\"],[0.6666666666666666,\"#35b779\"],[0.7777777777777778,\"#6ece58\"],[0.8888888888888888,\"#b5de2b\"],[1.0,\"#fde725\"]],\"type\":\"histogram2d\"}],\"histogram\":[{\"marker\":{\"line\":{\"color\":\"white\",\"width\":0.6}},\"type\":\"histogram\"}],\"mesh3d\":[{\"colorbar\":{\"outlinewidth\":1,\"tickcolor\":\"rgb(36,36,36)\",\"ticks\":\"outside\"},\"type\":\"mesh3d\"}],\"parcoords\":[{\"line\":{\"colorbar\":{\"outlinewidth\":1,\"tickcolor\":\"rgb(36,36,36)\",\"ticks\":\"outside\"}},\"type\":\"parcoords\"}],\"pie\":[{\"automargin\":true,\"type\":\"pie\"}],\"scatter3d\":[{\"line\":{\"colorbar\":{\"outlinewidth\":1,\"tickcolor\":\"rgb(36,36,36)\",\"ticks\":\"outside\"}},\"marker\":{\"colorbar\":{\"outlinewidth\":1,\"tickcolor\":\"rgb(36,36,36)\",\"ticks\":\"outside\"}},\"type\":\"scatter3d\"}],\"scattercarpet\":[{\"marker\":{\"colorbar\":{\"outlinewidth\":1,\"tickcolor\":\"rgb(36,36,36)\",\"ticks\":\"outside\"}},\"type\":\"scattercarpet\"}],\"scattergeo\":[{\"marker\":{\"colorbar\":{\"outlinewidth\":1,\"tickcolor\":\"rgb(36,36,36)\",\"ticks\":\"outside\"}},\"type\":\"scattergeo\"}],\"scattergl\":[{\"marker\":{\"colorbar\":{\"outlinewidth\":1,\"tickcolor\":\"rgb(36,36,36)\",\"ticks\":\"outside\"}},\"type\":\"scattergl\"}],\"scattermapbox\":[{\"marker\":{\"colorbar\":{\"outlinewidth\":1,\"tickcolor\":\"rgb(36,36,36)\",\"ticks\":\"outside\"}},\"type\":\"scattermapbox\"}],\"scattermap\":[{\"marker\":{\"colorbar\":{\"outlinewidth\":1,\"tickcolor\":\"rgb(36,36,36)\",\"ticks\":\"outside\"}},\"type\":\"scattermap\"}],\"scatterpolargl\":[{\"marker\":{\"colorbar\":{\"outlinewidth\":1,\"tickcolor\":\"rgb(36,36,36)\",\"ticks\":\"outside\"}},\"type\":\"scatterpolargl\"}],\"scatterpolar\":[{\"marker\":{\"colorbar\":{\"outlinewidth\":1,\"tickcolor\":\"rgb(36,36,36)\",\"ticks\":\"outside\"}},\"type\":\"scatterpolar\"}],\"scatter\":[{\"fillpattern\":{\"fillmode\":\"overlay\",\"size\":10,\"solidity\":0.2},\"type\":\"scatter\"}],\"scatterternary\":[{\"marker\":{\"colorbar\":{\"outlinewidth\":1,\"tickcolor\":\"rgb(36,36,36)\",\"ticks\":\"outside\"}},\"type\":\"scatterternary\"}],\"surface\":[{\"colorbar\":{\"outlinewidth\":1,\"tickcolor\":\"rgb(36,36,36)\",\"ticks\":\"outside\"},\"colorscale\":[[0.0,\"#440154\"],[0.1111111111111111,\"#482878\"],[0.2222222222222222,\"#3e4989\"],[0.3333333333333333,\"#31688e\"],[0.4444444444444444,\"#26828e\"],[0.5555555555555556,\"#1f9e89\"],[0.6666666666666666,\"#35b779\"],[0.7777777777777778,\"#6ece58\"],[0.8888888888888888,\"#b5de2b\"],[1.0,\"#fde725\"]],\"type\":\"surface\"}],\"table\":[{\"cells\":{\"fill\":{\"color\":\"rgb(237,237,237)\"},\"line\":{\"color\":\"white\"}},\"header\":{\"fill\":{\"color\":\"rgb(217,217,217)\"},\"line\":{\"color\":\"white\"}},\"type\":\"table\"}]},\"layout\":{\"annotationdefaults\":{\"arrowhead\":0,\"arrowwidth\":1},\"autotypenumbers\":\"strict\",\"coloraxis\":{\"colorbar\":{\"outlinewidth\":1,\"tickcolor\":\"rgb(36,36,36)\",\"ticks\":\"outside\"}},\"colorscale\":{\"diverging\":[[0.0,\"rgb(103,0,31)\"],[0.1,\"rgb(178,24,43)\"],[0.2,\"rgb(214,96,77)\"],[0.3,\"rgb(244,165,130)\"],[0.4,\"rgb(253,219,199)\"],[0.5,\"rgb(247,247,247)\"],[0.6,\"rgb(209,229,240)\"],[0.7,\"rgb(146,197,222)\"],[0.8,\"rgb(67,147,195)\"],[0.9,\"rgb(33,102,172)\"],[1.0,\"rgb(5,48,97)\"]],\"sequential\":[[0.0,\"#440154\"],[0.1111111111111111,\"#482878\"],[0.2222222222222222,\"#3e4989\"],[0.3333333333333333,\"#31688e\"],[0.4444444444444444,\"#26828e\"],[0.5555555555555556,\"#1f9e89\"],[0.6666666666666666,\"#35b779\"],[0.7777777777777778,\"#6ece58\"],[0.8888888888888888,\"#b5de2b\"],[1.0,\"#fde725\"]],\"sequentialminus\":[[0.0,\"#440154\"],[0.1111111111111111,\"#482878\"],[0.2222222222222222,\"#3e4989\"],[0.3333333333333333,\"#31688e\"],[0.4444444444444444,\"#26828e\"],[0.5555555555555556,\"#1f9e89\"],[0.6666666666666666,\"#35b779\"],[0.7777777777777778,\"#6ece58\"],[0.8888888888888888,\"#b5de2b\"],[1.0,\"#fde725\"]]},\"colorway\":[\"#91268F\",\"#8CC63E\",\"#00A7A0\",\"#F05A28\",\"#4C4C4C\",\"#630460\",\"#9f3913\",\"#588527\",\"#00716c\",\"#3e4040\"],\"font\":{\"color\":\"rgb(36,36,36)\",\"family\":\"Poppins\",\"size\":11},\"geo\":{\"bgcolor\":\"white\",\"lakecolor\":\"white\",\"landcolor\":\"white\",\"showlakes\":true,\"showland\":true,\"subunitcolor\":\"white\"},\"hoverlabel\":{\"align\":\"left\"},\"hovermode\":\"closest\",\"mapbox\":{\"style\":\"light\"},\"paper_bgcolor\":\"white\",\"plot_bgcolor\":\"white\",\"polar\":{\"angularaxis\":{\"gridcolor\":\"rgb(232,232,232)\",\"linecolor\":\"rgb(36,36,36)\",\"showgrid\":false,\"showline\":true,\"ticks\":\"outside\"},\"bgcolor\":\"white\",\"radialaxis\":{\"gridcolor\":\"rgb(232,232,232)\",\"linecolor\":\"rgb(36,36,36)\",\"showgrid\":false,\"showline\":true,\"ticks\":\"outside\"}},\"scene\":{\"xaxis\":{\"backgroundcolor\":\"white\",\"gridcolor\":\"rgb(232,232,232)\",\"gridwidth\":2,\"linecolor\":\"rgb(36,36,36)\",\"showbackground\":true,\"showgrid\":false,\"showline\":true,\"ticks\":\"outside\",\"zeroline\":false,\"zerolinecolor\":\"rgb(36,36,36)\"},\"yaxis\":{\"backgroundcolor\":\"white\",\"gridcolor\":\"rgb(232,232,232)\",\"gridwidth\":2,\"linecolor\":\"rgb(36,36,36)\",\"showbackground\":true,\"showgrid\":false,\"showline\":true,\"ticks\":\"outside\",\"zeroline\":false,\"zerolinecolor\":\"rgb(36,36,36)\"},\"zaxis\":{\"backgroundcolor\":\"white\",\"gridcolor\":\"rgb(232,232,232)\",\"gridwidth\":2,\"linecolor\":\"rgb(36,36,36)\",\"showbackground\":true,\"showgrid\":false,\"showline\":true,\"ticks\":\"outside\",\"zeroline\":false,\"zerolinecolor\":\"rgb(36,36,36)\"}},\"shapedefaults\":{\"fillcolor\":\"black\",\"line\":{\"width\":0},\"opacity\":0.3},\"ternary\":{\"aaxis\":{\"gridcolor\":\"rgb(232,232,232)\",\"linecolor\":\"rgb(36,36,36)\",\"showgrid\":false,\"showline\":true,\"ticks\":\"outside\"},\"baxis\":{\"gridcolor\":\"rgb(232,232,232)\",\"linecolor\":\"rgb(36,36,36)\",\"showgrid\":false,\"showline\":true,\"ticks\":\"outside\"},\"bgcolor\":\"white\",\"caxis\":{\"gridcolor\":\"rgb(232,232,232)\",\"linecolor\":\"rgb(36,36,36)\",\"showgrid\":false,\"showline\":true,\"ticks\":\"outside\"}},\"title\":{\"x\":0.05},\"xaxis\":{\"automargin\":true,\"gridcolor\":\"rgb(232,232,232)\",\"linecolor\":\"rgb(36,36,36)\",\"showgrid\":false,\"showline\":true,\"ticks\":\"outside\",\"title\":{\"standoff\":15},\"zeroline\":false,\"zerolinecolor\":\"rgb(36,36,36)\"},\"yaxis\":{\"automargin\":true,\"gridcolor\":\"rgb(232,232,232)\",\"linecolor\":\"rgb(36,36,36)\",\"showgrid\":false,\"showline\":true,\"ticks\":\"outside\",\"title\":{\"standoff\":15},\"zeroline\":false,\"zerolinecolor\":\"rgb(36,36,36)\"}}},\"xaxis\":{\"anchor\":\"y\",\"domain\":[0.0,1.0],\"title\":{\"text\":\"Observed\"}},\"yaxis\":{\"anchor\":\"x\",\"domain\":[0.0,1.0],\"title\":{\"text\":\"Model\"}},\"legend\":{\"tracegroupgap\":0},\"title\":{\"text\":\"Heavy Trucks: Pierce\"},\"margin\":{\"l\":100,\"r\":100,\"t\":100,\"b\":100},\"height\":600,\"width\":800,\"shapes\":[{\"line\":{\"color\":\"Red\",\"dash\":\"dash\",\"width\":2},\"type\":\"line\",\"x0\":0,\"x1\":13125,\"y0\":0,\"y1\":13125}],\"annotations\":[{\"align\":\"right\",\"font\":{\"color\":\"pink\",\"size\":12},\"showarrow\":false,\"text\":\"y = x\",\"x\":13781.25,\"y\":13781.25},{\"align\":\"right\",\"font\":{\"color\":\"black\",\"size\":12},\"showarrow\":false,\"text\":\"r^2 = 0.77\",\"x\":7678.650000000001,\"y\":10372.721708362307}]},                        {\"responsive\": true}                    ).then(function(){\n",
       "                            \n",
       "var gd = document.getElementById('55799f13-6f0c-43d6-a2f8-69504c84f870');\n",
       "var x = new MutationObserver(function (mutations, observer) {{\n",
       "        var display = window.getComputedStyle(gd).display;\n",
       "        if (!display || display === 'none') {{\n",
       "            console.log([gd, 'removed!']);\n",
       "            Plotly.purge(gd);\n",
       "            observer.disconnect();\n",
       "        }}\n",
       "}});\n",
       "\n",
       "// Listen for the removal of the full notebook cells\n",
       "var notebookContainer = gd.closest('#notebook-container');\n",
       "if (notebookContainer) {{\n",
       "    x.observe(notebookContainer, {childList: true});\n",
       "}}\n",
       "\n",
       "// Listen for the clearing of the current output cell\n",
       "var outputEl = gd.closest('.output');\n",
       "if (outputEl) {{\n",
       "    x.observe(outputEl, {childList: true});\n",
       "}}\n",
       "\n",
       "                        })                };            </script>        </div>"
      ]
     },
     "metadata": {},
     "output_type": "display_data"
    }
   ],
   "source": [
    "fig = create_truck_chart(df_daily_heavy, 'Heavy', 'Pierce')\n",
    "fig.show()"
   ]
  },
  {
   "cell_type": "raw",
   "id": "60af6289",
   "metadata": {
    "vscode": {
     "languageId": "raw"
    }
   },
   "source": [
    "#### Snohomish"
   ]
  },
  {
   "cell_type": "code",
   "execution_count": 28,
   "id": "e7a2925c",
   "metadata": {
    "execution": {
     "iopub.execute_input": "2025-06-18T22:59:58.593635Z",
     "iopub.status.busy": "2025-06-18T22:59:58.592637Z",
     "iopub.status.idle": "2025-06-18T22:59:58.722588Z",
     "shell.execute_reply": "2025-06-18T22:59:58.721595Z"
    }
   },
   "outputs": [
    {
     "data": {
      "application/vnd.plotly.v1+json": {
       "config": {
        "plotlyServerURL": "https://plot.ly"
       },
       "data": [
        {
         "customdata": [
          [
           "I-5 @ 44th NB",
           "Snohomish"
          ],
          [
           "I-5 @ 44th SB",
           "Snohomish"
          ],
          [
           "I-5 N/O 164th NB",
           "Snohomish"
          ],
          [
           "I-5 N/O 164th SB",
           "Snohomish"
          ],
          [
           "I-5 N/O SR-526 NB",
           "Snohomish"
          ],
          [
           "I-5 N/O SR-526 SB",
           "Snohomish"
          ],
          [
           "I-5 N/O 41st NB",
           "Snohomish"
          ],
          [
           "I-5 N/O 41st SB",
           "Snohomish"
          ],
          [
           "I-5 @ SR-528 NB",
           "Snohomish"
          ],
          [
           "I-5 @ SR-528 SB",
           "Snohomish"
          ],
          [
           "I-5 N/O SR-531 NB",
           "Snohomish"
          ],
          [
           "I-5 N/O SR-531 SB",
           "Snohomish"
          ],
          [
           "I-405 N/O SR-527 NB",
           "Snohomish"
          ],
          [
           "I-405 N/O SR-527 SB",
           "Snohomish"
          ],
          [
           "SR-525 N/O I-5 NB",
           "Snohomish"
          ],
          [
           "SR-525 N/O I-5 SB",
           "Snohomish"
          ],
          [
           "I-5 @ SR-532 NB/SB",
           "Snohomish"
          ],
          [
           "I-5 @ Skagit border NB/SB",
           "Snohomish"
          ],
          [
           "SR-525 N/O SR-526 NB/SB",
           "Snohomish"
          ],
          [
           "SR-525 N/O 5th NB/SB",
           "Snohomish"
          ],
          [
           "SR-99 E/O Evergreen NB/SB",
           "Snohomish"
          ],
          [
           "SR-526 W/O Paine Field Blvd WB/EB",
           "Snohomish"
          ],
          [
           "SR-526 E/O Paine Field Blvd WB/EB",
           "Snohomish"
          ],
          [
           "SR-9 @ SR-522 NB/SB",
           "Snohomish"
          ],
          [
           "SR-9 N/O SR-2 NB/SB",
           "Snohomish"
          ],
          [
           "SR-9 N/O SR-204 NB/SB",
           "Snohomish"
          ],
          [
           "SR-9 N/O SR-92 NB/SB",
           "Snohomish"
          ],
          [
           "SR-9 N/O 132nd NB/SB",
           "Snohomish"
          ],
          [
           "SR-9 N/O SR-531 NB/SB",
           "Snohomish"
          ],
          [
           "SR-9 S/O 67th NB/SB",
           "Snohomish"
          ],
          [
           "SR-9 N/O Kackman NB/SB",
           "Snohomish"
          ],
          [
           "SR-9 N/O Stanwood-Bryant NB/SB",
           "Snohomish"
          ],
          [
           "SR-532 @ Island County WB/EB",
           "Snohomish"
          ],
          [
           "SR-532 W/O 28th WB/EB",
           "Snohomish"
          ],
          [
           "SR-104 @ Ferry Loading Edm WB/EB",
           "Snohomish"
          ],
          [
           "SR-104 N/O Pine WB/EB",
           "Snohomish"
          ],
          [
           "SR-104 E/O 5th WB/EB",
           "Snohomish"
          ],
          [
           "SR-524 W/O 3rd WB/EB",
           "Snohomish"
          ],
          [
           "SR-524 S/O Main WB/EB",
           "Snohomish"
          ],
          [
           "SR-524 N/O Main WB/EB",
           "Snohomish"
          ],
          [
           "SR-524 E/O 68th WB/EB",
           "Snohomish"
          ],
          [
           "SR-524 E/O 39th WB/EB",
           "Snohomish"
          ],
          [
           "SR-2 E/O I-5 WB/EB",
           "Snohomish"
          ],
          [
           "SR-2 S/O SR-204 WB/EB",
           "Snohomish"
          ],
          [
           "SR-2 E/O Main WB/EB",
           "Snohomish"
          ],
          [
           "SR-2 E/O Rice WB/EB",
           "Snohomish"
          ],
          [
           "SR-2 E/O 10th (Gold Bar) WB/EB",
           "Snohomish"
          ],
          [
           "SR-2 W/O Index-Galena WB/EB",
           "Snohomish"
          ],
          [
           "SR-2 E/O Index-Galena WB/EB",
           "Snohomish"
          ],
          [
           "SR-527 N/O I-405 NB/SB",
           "Snohomish"
          ],
          [
           "SR-527 N/O 196th NB/SB",
           "Snohomish"
          ],
          [
           "SR-527 N/O Dumas NB/SB",
           "Snohomish"
          ],
          [
           "SR-527 N/O 100th NB/SB",
           "Snohomish"
          ],
          [
           "SR-529 @ I-5 (Evt) NB/SB",
           "Snohomish"
          ],
          [
           "SR-529 S/O Everett NB/SB",
           "Snohomish"
          ],
          [
           "SR-529 W/O Maple NB/SB",
           "Snohomish"
          ],
          [
           "SR-529 N/O Everett NB/SB",
           "Snohomish"
          ],
          [
           "SR-529 N/O Broadway NB/SB",
           "Snohomish"
          ],
          [
           "SR-96 @ I-5 WB/EB",
           "Snohomish"
          ],
          [
           "SR-96 N/O 132nd WB/EB",
           "Snohomish"
          ],
          [
           "SR-96 E/O Seattle Hill WB/EB",
           "Snohomish"
          ],
          [
           "SR-528 @ I-5 WB/EB",
           "Snohomish"
          ],
          [
           "SR-528 E/O SR-529 WB/EB",
           "Snohomish"
          ],
          [
           "SR-531 N/O Rose WB/EB",
           "Snohomish"
          ],
          [
           "SR-531 E/O Lk Goodwin WB/EB",
           "Snohomish"
          ],
          [
           "SR-531 E/O 27th WB/EB",
           "Snohomish"
          ],
          [
           "SR-531 E/O I-5 WB/EB",
           "Snohomish"
          ],
          [
           "SR-531 E/O 43rd WB/EB",
           "Snohomish"
          ],
          [
           "SR-531 W/O 67th WB/EB",
           "Snohomish"
          ],
          [
           "SR-531 E/O 67th WB/EB",
           "Snohomish"
          ],
          [
           "SR-530 @ I-5 WB/EB",
           "Snohomish"
          ],
          [
           "SR-530 E/O Smokey Pt WB/EB",
           "Snohomish"
          ],
          [
           "SR-530 N/O 211th WB/EB",
           "Snohomish"
          ],
          [
           "SR-530 E/O SR-9 WB/EB",
           "Snohomish"
          ],
          [
           "SR-530 S/O Arlington Hts WB/EB",
           "Snohomish"
          ],
          [
           "SR-530 N/O Arlington Hts WB/EB",
           "Snohomish"
          ],
          [
           "SR-530 W/O Jim Creek WB/EB",
           "Snohomish"
          ],
          [
           "SR-530 W/O Ramstad WB/EB",
           "Snohomish"
          ],
          [
           "SR-530 @ Skagit County WB/EB",
           "Snohomish"
          ],
          [
           "SR-203 N/O 203rd NB/SB",
           "Snohomish"
          ],
          [
           "SR-204 @ SR-2 NB/SB",
           "Snohomish"
          ],
          [
           "SR-204 N/O 20th NB/SB",
           "Snohomish"
          ],
          [
           "SR-204 N/O SR-2 NB/SB",
           "Snohomish"
          ],
          [
           "SR-92 E/O Lake WB/EB",
           "Snohomish"
          ],
          [
           "SR-92 E/O Callow WB/EB",
           "Snohomish"
          ],
          [
           "SR-92 E/O Quarry WB/EB",
           "Snohomish"
          ],
          [
           "SR-92 W/O Mountain Loop WB/EB",
           "Snohomish"
          ]
         ],
         "hovertemplate": "Observed=%{x}<br>Model=%{y}<br>location=%{customdata[0]}<br>County=%{customdata[1]}<extra></extra>",
         "legendgroup": "",
         "line": {
          "color": "Grey",
          "width": 2
         },
         "marker": {
          "color": "#91268F",
          "symbol": "circle"
         },
         "mode": "markers",
         "name": "",
         "orientation": "v",
         "showlegend": false,
         "type": "scatter",
         "x": {
          "bdata": "cwuHC7QMygyGDDENrgpfDOMLNgwACQwJSwWRBZMBEgH4DzcQpQA2AHEAagBXAN4CMQFKAhYBZgGnANMAwwBOADcBSAE/ADgAUQAGAAUABwBKAK4A2wPSA/IBlwG2AegAqgAMARsBKwCRAGQANwBKAGQAhgPRACkAVAAeAWgBEgBkAKgBtgK1AlYBtQD6AnwC7AGsAbMBkgGKAUoBLwCzAT0APACzARYC4AE9ANcC",
          "dtype": "i2"
         },
         "xaxis": "x",
         "y": {
          "bdata": "KBYOF1keRx2VHLsbGxwpGxkYsxeyEo0S7wzRCu4DrgMYIUYggQCRAAAAAgBnAFMCSgIlApEB2ABaAF0AgwDpAIoAhQAAACkAKQAFAAAABgALABkAcAPCAgYIsAmVCZUJEwlpAE4ABwAPAKcAJgATAI0AGwBfABIABQBJAxsBAAADAI4AkQX4BXUAfwCeAMsAwwCgAKQAowCjAKMAAwAqAiAAWADqAAkB/QAAAEgA",
          "dtype": "i2"
         },
         "yaxis": "y"
        },
        {
         "hovertemplate": "Observed=%{x}<br>Model=%{y}<extra></extra>",
         "legendgroup": "",
         "line": {
          "color": "Grey",
          "dash": "solid",
          "width": 2
         },
         "marker": {
          "symbol": "circle"
         },
         "mode": "lines",
         "name": "",
         "orientation": "v",
         "showlegend": false,
         "type": "scatter",
         "x": {
          "bdata": "AAAAAAAAAADM2xkS8/ZEQMzbGRLz9lRAsskmm2xyX0DM2xkS8/ZkQL9SoNavNGpAsskmm2xyb0BSoNavFFhyQMzbGRLz9nRARhdddNGVd0C/UqDWrzR6QDiO4ziO03xAsskmm2xyf0CWArV+pQiBQFKg1q8UWIJADz744IOng0DM2xkS8/aEQIl5O0NiRoZARhdddNGVh0ACtX6lQOWIQL9SoNavNIpAfPDBBx+Ei0A4juM4jtOMQPUrBWr9Io5Asskmm2xyj0C3MyTm7WCQQJYCtX6lCJFAdNFFF12wkUBSoNavFFiSQDFvZ0jM/5JADz744IOnk0DuDIl5O0+UQMzbGRLz9pRAqqqqqqqelUCJeTtDYkaWQGdIzNsZ7pZARhdddNGVl0Ak5u0MiT2YQAK1fqVA5ZhA4YMPPviMmUC/UqDWrzSaQJ0hMW9n3JpAfPDBBx+Em0Bav1Kg1iucQDiO4ziO05xAF1100UV7nUD1KwVq/SKeQNT6lQK1yp5Asskmm2xyn0BIzNsZEg2gQLczJObtYKBAJ5tsssm0oECWArV+pQihQAVq/UqBXKFAdNFFF12woUDjOI7jOASiQFKg1q8UWKJAwgcffPCrokAxb2dIzP+iQKDWrxSoU6NADz744IOno0B+pUCtX/ujQO4MiXk7T6RAXXTRRRejpEDM2xkS8/akQDtDYt7OSqVAqqqqqqqepUAaEvN2hvKlQIl5O0NiRqZA+OCDDz6apkBnSMzbGe6mQNavFKj1QadARhdddNGVp0C1fqVAremnQCTm7QyJPahAk0022WSRqEACtX6lQOWoQHEcx3EcOalA4YMPPviMqUBQ61cK1OCpQL9SoNavNKpALrrooouIqkCdITFvZ9yqQA2JeTtDMKtAfPDBBx+Eq0DrVwrU+terQFq/UqDWK6xAySabbLJ/rEA4juM4jtOsQKj1KwVqJ61AF1100UV7rUCGxLydIc+tQPUrBWr9Iq5AZJNNNtl2rkDU+pUCtcquQENi3s6QHq9Asskmm2xyr0AhMW9nSMavQEjM2xkSDbBAAAAAAAA3sEA=",
          "dtype": "f8"
         },
         "xaxis": "x",
         "y": {
          "bdata": "eCpzPVb7a8BQQNiDWKZgwKRY9ShrRUXA+E92vYsOSEAmfviooFhhQExok2KerWxAOikXDk4BdEBMnuTqzKt5QGITssdLVn9AO8Q/UmWAgkDEfqbApFWFQE45DS/kKohA2PNznSMAi0BirtoLY9WNQHW0ID1RVZBAuxFU9PC/kUAAb4erkCqTQEXMumIwlZRAiinuGdD/lUDOhiHRb2qXQBPkVIgP1ZhAWUGIP68/mkCdnrv2TqqbQOH77q3uFJ1AJ1kiZY5/nkBrtlUcLuqfQNiJxOlmqqBAejhexbZfoUAc5/egBhWiQMCVkXxWyqJAYkQrWKZ/o0AG88Qz9jSkQKihXg9G6qRASlD46pWfpUDs/pHG5VSmQI6tK6I1CqdAMlzFfYW/p0DUCl9Z1XSoQHa5+DQlKqlAGGiSEHXfqUC6FizsxJSqQFzFxccUSqtAAHRfo2T/q0CiIvl+tLSsQETRkloEaq1A6H8sNlQfrkCILsYRpNSuQCzdX+3zia9A58V85KEfsEA4nUnSSXqwQIl0FsDx1LBA20vjrZkvsUAsI7CbQYqxQH36fInp5LFAztFJd5E/skAfqRZlOZqyQHCA41Lh9LJAwlewQIlPs0ATL30uMaqzQGUGShzZBLRAtt0WCoFftEAHteP3KLq0QFmMsOXQFLVAqmN903hvtUD7OkrBIMq1QEwSF6/IJLZAnenjnHB/tkDvwLCKGNq2QECYfXjANLdAkW9KZmiPt0DiRhdUEOq3QDMe5EG4RLhAhfWwL2CfuEDWzH0dCPq4QCekSguwVLlAeHsX+VevuUDJUuTm/wm6QBoqsdSnZLpAbAF+wk+/ukC92Eqw9xm7QA6wF56fdLtAX4fki0fPu0CwXrF57ym8QAM2fmeXhLxAVA1LVT/fvECl5BdD5zm9QPa75DCPlL1AR5OxHjfvvUCYan4M30m+QOpBS/qGpL5AOxkY6C7/vkCM8OTV1lm/QNzHscN+tL9Al0+/WJMHwEBAu6VP5zTAQOkmjEY7YsBAkZJyPY+PwEA6/lg047zAQOJpPys36sBAi9UlIosXwUA=",
          "dtype": "f8"
         },
         "yaxis": "y"
        }
       ],
       "layout": {
        "annotations": [
         {
          "align": "right",
          "font": {
           "color": "pink",
           "size": 12
          },
          "showarrow": false,
          "text": "y = x",
          "x": 8895.6,
          "y": 8895.6
         },
         {
          "align": "right",
          "font": {
           "color": "black",
           "size": 12
          },
          "showarrow": false,
          "text": "r^2 = 0.93",
          "x": 4358.55,
          "y": 9188.641328588232
         }
        ],
        "height": 600,
        "legend": {
         "tracegroupgap": 0
        },
        "margin": {
         "b": 100,
         "l": 100,
         "r": 100,
         "t": 100
        },
        "shapes": [
         {
          "line": {
           "color": "Red",
           "dash": "dash",
           "width": 2
          },
          "type": "line",
          "x0": 0,
          "x1": 8472,
          "y0": 0,
          "y1": 8472
         }
        ],
        "template": {
         "data": {
          "bar": [
           {
            "error_x": {
             "color": "rgb(36,36,36)"
            },
            "error_y": {
             "color": "rgb(36,36,36)"
            },
            "marker": {
             "line": {
              "color": "white",
              "width": 0.5
             },
             "pattern": {
              "fillmode": "overlay",
              "size": 10,
              "solidity": 0.2
             }
            },
            "type": "bar"
           }
          ],
          "barpolar": [
           {
            "marker": {
             "line": {
              "color": "white",
              "width": 0.5
             },
             "pattern": {
              "fillmode": "overlay",
              "size": 10,
              "solidity": 0.2
             }
            },
            "type": "barpolar"
           }
          ],
          "carpet": [
           {
            "aaxis": {
             "endlinecolor": "rgb(36,36,36)",
             "gridcolor": "white",
             "linecolor": "white",
             "minorgridcolor": "white",
             "startlinecolor": "rgb(36,36,36)"
            },
            "baxis": {
             "endlinecolor": "rgb(36,36,36)",
             "gridcolor": "white",
             "linecolor": "white",
             "minorgridcolor": "white",
             "startlinecolor": "rgb(36,36,36)"
            },
            "type": "carpet"
           }
          ],
          "choropleth": [
           {
            "colorbar": {
             "outlinewidth": 1,
             "tickcolor": "rgb(36,36,36)",
             "ticks": "outside"
            },
            "type": "choropleth"
           }
          ],
          "contour": [
           {
            "colorbar": {
             "outlinewidth": 1,
             "tickcolor": "rgb(36,36,36)",
             "ticks": "outside"
            },
            "colorscale": [
             [
              0.0,
              "#440154"
             ],
             [
              0.1111111111111111,
              "#482878"
             ],
             [
              0.2222222222222222,
              "#3e4989"
             ],
             [
              0.3333333333333333,
              "#31688e"
             ],
             [
              0.4444444444444444,
              "#26828e"
             ],
             [
              0.5555555555555556,
              "#1f9e89"
             ],
             [
              0.6666666666666666,
              "#35b779"
             ],
             [
              0.7777777777777778,
              "#6ece58"
             ],
             [
              0.8888888888888888,
              "#b5de2b"
             ],
             [
              1.0,
              "#fde725"
             ]
            ],
            "type": "contour"
           }
          ],
          "contourcarpet": [
           {
            "colorbar": {
             "outlinewidth": 1,
             "tickcolor": "rgb(36,36,36)",
             "ticks": "outside"
            },
            "type": "contourcarpet"
           }
          ],
          "heatmap": [
           {
            "colorbar": {
             "outlinewidth": 1,
             "tickcolor": "rgb(36,36,36)",
             "ticks": "outside"
            },
            "colorscale": [
             [
              0.0,
              "#440154"
             ],
             [
              0.1111111111111111,
              "#482878"
             ],
             [
              0.2222222222222222,
              "#3e4989"
             ],
             [
              0.3333333333333333,
              "#31688e"
             ],
             [
              0.4444444444444444,
              "#26828e"
             ],
             [
              0.5555555555555556,
              "#1f9e89"
             ],
             [
              0.6666666666666666,
              "#35b779"
             ],
             [
              0.7777777777777778,
              "#6ece58"
             ],
             [
              0.8888888888888888,
              "#b5de2b"
             ],
             [
              1.0,
              "#fde725"
             ]
            ],
            "type": "heatmap"
           }
          ],
          "histogram": [
           {
            "marker": {
             "line": {
              "color": "white",
              "width": 0.6
             }
            },
            "type": "histogram"
           }
          ],
          "histogram2d": [
           {
            "colorbar": {
             "outlinewidth": 1,
             "tickcolor": "rgb(36,36,36)",
             "ticks": "outside"
            },
            "colorscale": [
             [
              0.0,
              "#440154"
             ],
             [
              0.1111111111111111,
              "#482878"
             ],
             [
              0.2222222222222222,
              "#3e4989"
             ],
             [
              0.3333333333333333,
              "#31688e"
             ],
             [
              0.4444444444444444,
              "#26828e"
             ],
             [
              0.5555555555555556,
              "#1f9e89"
             ],
             [
              0.6666666666666666,
              "#35b779"
             ],
             [
              0.7777777777777778,
              "#6ece58"
             ],
             [
              0.8888888888888888,
              "#b5de2b"
             ],
             [
              1.0,
              "#fde725"
             ]
            ],
            "type": "histogram2d"
           }
          ],
          "histogram2dcontour": [
           {
            "colorbar": {
             "outlinewidth": 1,
             "tickcolor": "rgb(36,36,36)",
             "ticks": "outside"
            },
            "colorscale": [
             [
              0.0,
              "#440154"
             ],
             [
              0.1111111111111111,
              "#482878"
             ],
             [
              0.2222222222222222,
              "#3e4989"
             ],
             [
              0.3333333333333333,
              "#31688e"
             ],
             [
              0.4444444444444444,
              "#26828e"
             ],
             [
              0.5555555555555556,
              "#1f9e89"
             ],
             [
              0.6666666666666666,
              "#35b779"
             ],
             [
              0.7777777777777778,
              "#6ece58"
             ],
             [
              0.8888888888888888,
              "#b5de2b"
             ],
             [
              1.0,
              "#fde725"
             ]
            ],
            "type": "histogram2dcontour"
           }
          ],
          "mesh3d": [
           {
            "colorbar": {
             "outlinewidth": 1,
             "tickcolor": "rgb(36,36,36)",
             "ticks": "outside"
            },
            "type": "mesh3d"
           }
          ],
          "parcoords": [
           {
            "line": {
             "colorbar": {
              "outlinewidth": 1,
              "tickcolor": "rgb(36,36,36)",
              "ticks": "outside"
             }
            },
            "type": "parcoords"
           }
          ],
          "pie": [
           {
            "automargin": true,
            "type": "pie"
           }
          ],
          "scatter": [
           {
            "fillpattern": {
             "fillmode": "overlay",
             "size": 10,
             "solidity": 0.2
            },
            "type": "scatter"
           }
          ],
          "scatter3d": [
           {
            "line": {
             "colorbar": {
              "outlinewidth": 1,
              "tickcolor": "rgb(36,36,36)",
              "ticks": "outside"
             }
            },
            "marker": {
             "colorbar": {
              "outlinewidth": 1,
              "tickcolor": "rgb(36,36,36)",
              "ticks": "outside"
             }
            },
            "type": "scatter3d"
           }
          ],
          "scattercarpet": [
           {
            "marker": {
             "colorbar": {
              "outlinewidth": 1,
              "tickcolor": "rgb(36,36,36)",
              "ticks": "outside"
             }
            },
            "type": "scattercarpet"
           }
          ],
          "scattergeo": [
           {
            "marker": {
             "colorbar": {
              "outlinewidth": 1,
              "tickcolor": "rgb(36,36,36)",
              "ticks": "outside"
             }
            },
            "type": "scattergeo"
           }
          ],
          "scattergl": [
           {
            "marker": {
             "colorbar": {
              "outlinewidth": 1,
              "tickcolor": "rgb(36,36,36)",
              "ticks": "outside"
             }
            },
            "type": "scattergl"
           }
          ],
          "scattermap": [
           {
            "marker": {
             "colorbar": {
              "outlinewidth": 1,
              "tickcolor": "rgb(36,36,36)",
              "ticks": "outside"
             }
            },
            "type": "scattermap"
           }
          ],
          "scattermapbox": [
           {
            "marker": {
             "colorbar": {
              "outlinewidth": 1,
              "tickcolor": "rgb(36,36,36)",
              "ticks": "outside"
             }
            },
            "type": "scattermapbox"
           }
          ],
          "scatterpolar": [
           {
            "marker": {
             "colorbar": {
              "outlinewidth": 1,
              "tickcolor": "rgb(36,36,36)",
              "ticks": "outside"
             }
            },
            "type": "scatterpolar"
           }
          ],
          "scatterpolargl": [
           {
            "marker": {
             "colorbar": {
              "outlinewidth": 1,
              "tickcolor": "rgb(36,36,36)",
              "ticks": "outside"
             }
            },
            "type": "scatterpolargl"
           }
          ],
          "scatterternary": [
           {
            "marker": {
             "colorbar": {
              "outlinewidth": 1,
              "tickcolor": "rgb(36,36,36)",
              "ticks": "outside"
             }
            },
            "type": "scatterternary"
           }
          ],
          "surface": [
           {
            "colorbar": {
             "outlinewidth": 1,
             "tickcolor": "rgb(36,36,36)",
             "ticks": "outside"
            },
            "colorscale": [
             [
              0.0,
              "#440154"
             ],
             [
              0.1111111111111111,
              "#482878"
             ],
             [
              0.2222222222222222,
              "#3e4989"
             ],
             [
              0.3333333333333333,
              "#31688e"
             ],
             [
              0.4444444444444444,
              "#26828e"
             ],
             [
              0.5555555555555556,
              "#1f9e89"
             ],
             [
              0.6666666666666666,
              "#35b779"
             ],
             [
              0.7777777777777778,
              "#6ece58"
             ],
             [
              0.8888888888888888,
              "#b5de2b"
             ],
             [
              1.0,
              "#fde725"
             ]
            ],
            "type": "surface"
           }
          ],
          "table": [
           {
            "cells": {
             "fill": {
              "color": "rgb(237,237,237)"
             },
             "line": {
              "color": "white"
             }
            },
            "header": {
             "fill": {
              "color": "rgb(217,217,217)"
             },
             "line": {
              "color": "white"
             }
            },
            "type": "table"
           }
          ]
         },
         "layout": {
          "annotationdefaults": {
           "arrowhead": 0,
           "arrowwidth": 1
          },
          "autotypenumbers": "strict",
          "coloraxis": {
           "colorbar": {
            "outlinewidth": 1,
            "tickcolor": "rgb(36,36,36)",
            "ticks": "outside"
           }
          },
          "colorscale": {
           "diverging": [
            [
             0.0,
             "rgb(103,0,31)"
            ],
            [
             0.1,
             "rgb(178,24,43)"
            ],
            [
             0.2,
             "rgb(214,96,77)"
            ],
            [
             0.3,
             "rgb(244,165,130)"
            ],
            [
             0.4,
             "rgb(253,219,199)"
            ],
            [
             0.5,
             "rgb(247,247,247)"
            ],
            [
             0.6,
             "rgb(209,229,240)"
            ],
            [
             0.7,
             "rgb(146,197,222)"
            ],
            [
             0.8,
             "rgb(67,147,195)"
            ],
            [
             0.9,
             "rgb(33,102,172)"
            ],
            [
             1.0,
             "rgb(5,48,97)"
            ]
           ],
           "sequential": [
            [
             0.0,
             "#440154"
            ],
            [
             0.1111111111111111,
             "#482878"
            ],
            [
             0.2222222222222222,
             "#3e4989"
            ],
            [
             0.3333333333333333,
             "#31688e"
            ],
            [
             0.4444444444444444,
             "#26828e"
            ],
            [
             0.5555555555555556,
             "#1f9e89"
            ],
            [
             0.6666666666666666,
             "#35b779"
            ],
            [
             0.7777777777777778,
             "#6ece58"
            ],
            [
             0.8888888888888888,
             "#b5de2b"
            ],
            [
             1.0,
             "#fde725"
            ]
           ],
           "sequentialminus": [
            [
             0.0,
             "#440154"
            ],
            [
             0.1111111111111111,
             "#482878"
            ],
            [
             0.2222222222222222,
             "#3e4989"
            ],
            [
             0.3333333333333333,
             "#31688e"
            ],
            [
             0.4444444444444444,
             "#26828e"
            ],
            [
             0.5555555555555556,
             "#1f9e89"
            ],
            [
             0.6666666666666666,
             "#35b779"
            ],
            [
             0.7777777777777778,
             "#6ece58"
            ],
            [
             0.8888888888888888,
             "#b5de2b"
            ],
            [
             1.0,
             "#fde725"
            ]
           ]
          },
          "colorway": [
           "#91268F",
           "#8CC63E",
           "#00A7A0",
           "#F05A28",
           "#4C4C4C",
           "#630460",
           "#9f3913",
           "#588527",
           "#00716c",
           "#3e4040"
          ],
          "font": {
           "color": "rgb(36,36,36)",
           "family": "Poppins",
           "size": 11
          },
          "geo": {
           "bgcolor": "white",
           "lakecolor": "white",
           "landcolor": "white",
           "showlakes": true,
           "showland": true,
           "subunitcolor": "white"
          },
          "hoverlabel": {
           "align": "left"
          },
          "hovermode": "closest",
          "mapbox": {
           "style": "light"
          },
          "paper_bgcolor": "white",
          "plot_bgcolor": "white",
          "polar": {
           "angularaxis": {
            "gridcolor": "rgb(232,232,232)",
            "linecolor": "rgb(36,36,36)",
            "showgrid": false,
            "showline": true,
            "ticks": "outside"
           },
           "bgcolor": "white",
           "radialaxis": {
            "gridcolor": "rgb(232,232,232)",
            "linecolor": "rgb(36,36,36)",
            "showgrid": false,
            "showline": true,
            "ticks": "outside"
           }
          },
          "scene": {
           "xaxis": {
            "backgroundcolor": "white",
            "gridcolor": "rgb(232,232,232)",
            "gridwidth": 2,
            "linecolor": "rgb(36,36,36)",
            "showbackground": true,
            "showgrid": false,
            "showline": true,
            "ticks": "outside",
            "zeroline": false,
            "zerolinecolor": "rgb(36,36,36)"
           },
           "yaxis": {
            "backgroundcolor": "white",
            "gridcolor": "rgb(232,232,232)",
            "gridwidth": 2,
            "linecolor": "rgb(36,36,36)",
            "showbackground": true,
            "showgrid": false,
            "showline": true,
            "ticks": "outside",
            "zeroline": false,
            "zerolinecolor": "rgb(36,36,36)"
           },
           "zaxis": {
            "backgroundcolor": "white",
            "gridcolor": "rgb(232,232,232)",
            "gridwidth": 2,
            "linecolor": "rgb(36,36,36)",
            "showbackground": true,
            "showgrid": false,
            "showline": true,
            "ticks": "outside",
            "zeroline": false,
            "zerolinecolor": "rgb(36,36,36)"
           }
          },
          "shapedefaults": {
           "fillcolor": "black",
           "line": {
            "width": 0
           },
           "opacity": 0.3
          },
          "ternary": {
           "aaxis": {
            "gridcolor": "rgb(232,232,232)",
            "linecolor": "rgb(36,36,36)",
            "showgrid": false,
            "showline": true,
            "ticks": "outside"
           },
           "baxis": {
            "gridcolor": "rgb(232,232,232)",
            "linecolor": "rgb(36,36,36)",
            "showgrid": false,
            "showline": true,
            "ticks": "outside"
           },
           "bgcolor": "white",
           "caxis": {
            "gridcolor": "rgb(232,232,232)",
            "linecolor": "rgb(36,36,36)",
            "showgrid": false,
            "showline": true,
            "ticks": "outside"
           }
          },
          "title": {
           "x": 0.05
          },
          "xaxis": {
           "automargin": true,
           "gridcolor": "rgb(232,232,232)",
           "linecolor": "rgb(36,36,36)",
           "showgrid": false,
           "showline": true,
           "ticks": "outside",
           "title": {
            "standoff": 15
           },
           "zeroline": false,
           "zerolinecolor": "rgb(36,36,36)"
          },
          "yaxis": {
           "automargin": true,
           "gridcolor": "rgb(232,232,232)",
           "linecolor": "rgb(36,36,36)",
           "showgrid": false,
           "showline": true,
           "ticks": "outside",
           "title": {
            "standoff": 15
           },
           "zeroline": false,
           "zerolinecolor": "rgb(36,36,36)"
          }
         }
        },
        "title": {
         "text": "Heavy Trucks: Snohomish"
        },
        "width": 800,
        "xaxis": {
         "anchor": "y",
         "domain": [
          0.0,
          1.0
         ],
         "title": {
          "text": "Observed"
         }
        },
        "yaxis": {
         "anchor": "x",
         "domain": [
          0.0,
          1.0
         ],
         "title": {
          "text": "Model"
         }
        }
       }
      },
      "text/html": [
       "<div>            <script src=\"https://cdnjs.cloudflare.com/ajax/libs/mathjax/2.7.5/MathJax.js?config=TeX-AMS-MML_SVG\"></script><script type=\"text/javascript\">if (window.MathJax && window.MathJax.Hub && window.MathJax.Hub.Config) {window.MathJax.Hub.Config({SVG: {font: \"STIX-Web\"}});}</script>                <script type=\"text/javascript\">window.PlotlyConfig = {MathJaxConfig: 'local'};</script>\n",
       "        <script charset=\"utf-8\" src=\"https://cdn.plot.ly/plotly-3.0.1.min.js\"></script>                <div id=\"ea0bb58f-c4f6-41d4-9ed0-787d2b9912e7\" class=\"plotly-graph-div\" style=\"height:600px; width:800px;\"></div>            <script type=\"text/javascript\">                window.PLOTLYENV=window.PLOTLYENV || {};                                if (document.getElementById(\"ea0bb58f-c4f6-41d4-9ed0-787d2b9912e7\")) {                    Plotly.newPlot(                        \"ea0bb58f-c4f6-41d4-9ed0-787d2b9912e7\",                        [{\"customdata\":[[\"I-5 @ 44th NB\",\"Snohomish\"],[\"I-5 @ 44th SB\",\"Snohomish\"],[\"I-5 N\\u002fO 164th NB\",\"Snohomish\"],[\"I-5 N\\u002fO 164th SB\",\"Snohomish\"],[\"I-5 N\\u002fO SR-526 NB\",\"Snohomish\"],[\"I-5 N\\u002fO SR-526 SB\",\"Snohomish\"],[\"I-5 N\\u002fO 41st NB\",\"Snohomish\"],[\"I-5 N\\u002fO 41st SB\",\"Snohomish\"],[\"I-5 @ SR-528 NB\",\"Snohomish\"],[\"I-5 @ SR-528 SB\",\"Snohomish\"],[\"I-5 N\\u002fO SR-531 NB\",\"Snohomish\"],[\"I-5 N\\u002fO SR-531 SB\",\"Snohomish\"],[\"I-405 N\\u002fO SR-527 NB\",\"Snohomish\"],[\"I-405 N\\u002fO SR-527 SB\",\"Snohomish\"],[\"SR-525 N\\u002fO I-5 NB\",\"Snohomish\"],[\"SR-525 N\\u002fO I-5 SB\",\"Snohomish\"],[\"I-5 @ SR-532 NB\\u002fSB\",\"Snohomish\"],[\"I-5 @ Skagit border NB\\u002fSB\",\"Snohomish\"],[\"SR-525 N\\u002fO SR-526 NB\\u002fSB\",\"Snohomish\"],[\"SR-525 N\\u002fO 5th NB\\u002fSB\",\"Snohomish\"],[\"SR-99 E\\u002fO Evergreen NB\\u002fSB\",\"Snohomish\"],[\"SR-526 W\\u002fO Paine Field Blvd WB\\u002fEB\",\"Snohomish\"],[\"SR-526 E\\u002fO Paine Field Blvd WB\\u002fEB\",\"Snohomish\"],[\"SR-9 @ SR-522 NB\\u002fSB\",\"Snohomish\"],[\"SR-9 N\\u002fO SR-2 NB\\u002fSB\",\"Snohomish\"],[\"SR-9 N\\u002fO SR-204 NB\\u002fSB\",\"Snohomish\"],[\"SR-9 N\\u002fO SR-92 NB\\u002fSB\",\"Snohomish\"],[\"SR-9 N\\u002fO 132nd NB\\u002fSB\",\"Snohomish\"],[\"SR-9 N\\u002fO SR-531 NB\\u002fSB\",\"Snohomish\"],[\"SR-9 S\\u002fO 67th NB\\u002fSB\",\"Snohomish\"],[\"SR-9 N\\u002fO Kackman NB\\u002fSB\",\"Snohomish\"],[\"SR-9 N\\u002fO Stanwood-Bryant NB\\u002fSB\",\"Snohomish\"],[\"SR-532 @ Island County WB\\u002fEB\",\"Snohomish\"],[\"SR-532 W\\u002fO 28th WB\\u002fEB\",\"Snohomish\"],[\"SR-104 @ Ferry Loading Edm WB\\u002fEB\",\"Snohomish\"],[\"SR-104 N\\u002fO Pine WB\\u002fEB\",\"Snohomish\"],[\"SR-104 E\\u002fO 5th WB\\u002fEB\",\"Snohomish\"],[\"SR-524 W\\u002fO 3rd WB\\u002fEB\",\"Snohomish\"],[\"SR-524 S\\u002fO Main WB\\u002fEB\",\"Snohomish\"],[\"SR-524 N\\u002fO Main WB\\u002fEB\",\"Snohomish\"],[\"SR-524 E\\u002fO 68th WB\\u002fEB\",\"Snohomish\"],[\"SR-524 E\\u002fO 39th WB\\u002fEB\",\"Snohomish\"],[\"SR-2 E\\u002fO I-5 WB\\u002fEB\",\"Snohomish\"],[\"SR-2 S\\u002fO SR-204 WB\\u002fEB\",\"Snohomish\"],[\"SR-2 E\\u002fO Main WB\\u002fEB\",\"Snohomish\"],[\"SR-2 E\\u002fO Rice WB\\u002fEB\",\"Snohomish\"],[\"SR-2 E\\u002fO 10th (Gold Bar) WB\\u002fEB\",\"Snohomish\"],[\"SR-2 W\\u002fO Index-Galena WB\\u002fEB\",\"Snohomish\"],[\"SR-2 E\\u002fO Index-Galena WB\\u002fEB\",\"Snohomish\"],[\"SR-527 N\\u002fO I-405 NB\\u002fSB\",\"Snohomish\"],[\"SR-527 N\\u002fO 196th NB\\u002fSB\",\"Snohomish\"],[\"SR-527 N\\u002fO Dumas NB\\u002fSB\",\"Snohomish\"],[\"SR-527 N\\u002fO 100th NB\\u002fSB\",\"Snohomish\"],[\"SR-529 @ I-5 (Evt) NB\\u002fSB\",\"Snohomish\"],[\"SR-529 S\\u002fO Everett NB\\u002fSB\",\"Snohomish\"],[\"SR-529 W\\u002fO Maple NB\\u002fSB\",\"Snohomish\"],[\"SR-529 N\\u002fO Everett NB\\u002fSB\",\"Snohomish\"],[\"SR-529 N\\u002fO Broadway NB\\u002fSB\",\"Snohomish\"],[\"SR-96 @ I-5 WB\\u002fEB\",\"Snohomish\"],[\"SR-96 N\\u002fO 132nd WB\\u002fEB\",\"Snohomish\"],[\"SR-96 E\\u002fO Seattle Hill WB\\u002fEB\",\"Snohomish\"],[\"SR-528 @ I-5 WB\\u002fEB\",\"Snohomish\"],[\"SR-528 E\\u002fO SR-529 WB\\u002fEB\",\"Snohomish\"],[\"SR-531 N\\u002fO Rose WB\\u002fEB\",\"Snohomish\"],[\"SR-531 E\\u002fO Lk Goodwin WB\\u002fEB\",\"Snohomish\"],[\"SR-531 E\\u002fO 27th WB\\u002fEB\",\"Snohomish\"],[\"SR-531 E\\u002fO I-5 WB\\u002fEB\",\"Snohomish\"],[\"SR-531 E\\u002fO 43rd WB\\u002fEB\",\"Snohomish\"],[\"SR-531 W\\u002fO 67th WB\\u002fEB\",\"Snohomish\"],[\"SR-531 E\\u002fO 67th WB\\u002fEB\",\"Snohomish\"],[\"SR-530 @ I-5 WB\\u002fEB\",\"Snohomish\"],[\"SR-530 E\\u002fO Smokey Pt WB\\u002fEB\",\"Snohomish\"],[\"SR-530 N\\u002fO 211th WB\\u002fEB\",\"Snohomish\"],[\"SR-530 E\\u002fO SR-9 WB\\u002fEB\",\"Snohomish\"],[\"SR-530 S\\u002fO Arlington Hts WB\\u002fEB\",\"Snohomish\"],[\"SR-530 N\\u002fO Arlington Hts WB\\u002fEB\",\"Snohomish\"],[\"SR-530 W\\u002fO Jim Creek WB\\u002fEB\",\"Snohomish\"],[\"SR-530 W\\u002fO Ramstad WB\\u002fEB\",\"Snohomish\"],[\"SR-530 @ Skagit County WB\\u002fEB\",\"Snohomish\"],[\"SR-203 N\\u002fO 203rd NB\\u002fSB\",\"Snohomish\"],[\"SR-204 @ SR-2 NB\\u002fSB\",\"Snohomish\"],[\"SR-204 N\\u002fO 20th NB\\u002fSB\",\"Snohomish\"],[\"SR-204 N\\u002fO SR-2 NB\\u002fSB\",\"Snohomish\"],[\"SR-92 E\\u002fO Lake WB\\u002fEB\",\"Snohomish\"],[\"SR-92 E\\u002fO Callow WB\\u002fEB\",\"Snohomish\"],[\"SR-92 E\\u002fO Quarry WB\\u002fEB\",\"Snohomish\"],[\"SR-92 W\\u002fO Mountain Loop WB\\u002fEB\",\"Snohomish\"]],\"hovertemplate\":\"Observed=%{x}\\u003cbr\\u003eModel=%{y}\\u003cbr\\u003elocation=%{customdata[0]}\\u003cbr\\u003eCounty=%{customdata[1]}\\u003cextra\\u003e\\u003c\\u002fextra\\u003e\",\"legendgroup\":\"\",\"marker\":{\"color\":\"#91268F\",\"symbol\":\"circle\"},\"mode\":\"markers\",\"name\":\"\",\"orientation\":\"v\",\"showlegend\":false,\"x\":{\"dtype\":\"i2\",\"bdata\":\"cwuHC7QMygyGDDENrgpfDOMLNgwACQwJSwWRBZMBEgH4DzcQpQA2AHEAagBXAN4CMQFKAhYBZgGnANMAwwBOADcBSAE\\u002fADgAUQAGAAUABwBKAK4A2wPSA\\u002fIBlwG2AegAqgAMARsBKwCRAGQANwBKAGQAhgPRACkAVAAeAWgBEgBkAKgBtgK1AlYBtQD6AnwC7AGsAbMBkgGKAUoBLwCzAT0APACzARYC4AE9ANcC\"},\"xaxis\":\"x\",\"y\":{\"dtype\":\"i2\",\"bdata\":\"KBYOF1keRx2VHLsbGxwpGxkYsxeyEo0S7wzRCu4DrgMYIUYggQCRAAAAAgBnAFMCSgIlApEB2ABaAF0AgwDpAIoAhQAAACkAKQAFAAAABgALABkAcAPCAgYIsAmVCZUJEwlpAE4ABwAPAKcAJgATAI0AGwBfABIABQBJAxsBAAADAI4AkQX4BXUAfwCeAMsAwwCgAKQAowCjAKMAAwAqAiAAWADqAAkB\\u002fQAAAEgA\"},\"yaxis\":\"y\",\"type\":\"scatter\",\"line\":{\"color\":\"Grey\",\"width\":2}},{\"hovertemplate\":\"Observed=%{x}\\u003cbr\\u003eModel=%{y}\\u003cextra\\u003e\\u003c\\u002fextra\\u003e\",\"legendgroup\":\"\",\"line\":{\"color\":\"Grey\",\"dash\":\"solid\",\"width\":2},\"marker\":{\"symbol\":\"circle\"},\"mode\":\"lines\",\"name\":\"\",\"orientation\":\"v\",\"showlegend\":false,\"x\":{\"dtype\":\"f8\",\"bdata\":\"AAAAAAAAAADM2xkS8\\u002fZEQMzbGRLz9lRAsskmm2xyX0DM2xkS8\\u002fZkQL9SoNavNGpAsskmm2xyb0BSoNavFFhyQMzbGRLz9nRARhdddNGVd0C\\u002fUqDWrzR6QDiO4ziO03xAsskmm2xyf0CWArV+pQiBQFKg1q8UWIJADz744IOng0DM2xkS8\\u002faEQIl5O0NiRoZARhdddNGVh0ACtX6lQOWIQL9SoNavNIpAfPDBBx+Ei0A4juM4jtOMQPUrBWr9Io5Asskmm2xyj0C3MyTm7WCQQJYCtX6lCJFAdNFFF12wkUBSoNavFFiSQDFvZ0jM\\u002f5JADz744IOnk0DuDIl5O0+UQMzbGRLz9pRAqqqqqqqelUCJeTtDYkaWQGdIzNsZ7pZARhdddNGVl0Ak5u0MiT2YQAK1fqVA5ZhA4YMPPviMmUC\\u002fUqDWrzSaQJ0hMW9n3JpAfPDBBx+Em0Bav1Kg1iucQDiO4ziO05xAF1100UV7nUD1KwVq\\u002fSKeQNT6lQK1yp5Asskmm2xyn0BIzNsZEg2gQLczJObtYKBAJ5tsssm0oECWArV+pQihQAVq\\u002fUqBXKFAdNFFF12woUDjOI7jOASiQFKg1q8UWKJAwgcffPCrokAxb2dIzP+iQKDWrxSoU6NADz744IOno0B+pUCtX\\u002fujQO4MiXk7T6RAXXTRRRejpEDM2xkS8\\u002fakQDtDYt7OSqVAqqqqqqqepUAaEvN2hvKlQIl5O0NiRqZA+OCDDz6apkBnSMzbGe6mQNavFKj1QadARhdddNGVp0C1fqVAremnQCTm7QyJPahAk0022WSRqEACtX6lQOWoQHEcx3EcOalA4YMPPviMqUBQ61cK1OCpQL9SoNavNKpALrrooouIqkCdITFvZ9yqQA2JeTtDMKtAfPDBBx+Eq0DrVwrU+terQFq\\u002fUqDWK6xAySabbLJ\\u002frEA4juM4jtOsQKj1KwVqJ61AF1100UV7rUCGxLydIc+tQPUrBWr9Iq5AZJNNNtl2rkDU+pUCtcquQENi3s6QHq9Asskmm2xyr0AhMW9nSMavQEjM2xkSDbBAAAAAAAA3sEA=\"},\"xaxis\":\"x\",\"y\":{\"dtype\":\"f8\",\"bdata\":\"eCpzPVb7a8BQQNiDWKZgwKRY9ShrRUXA+E92vYsOSEAmfviooFhhQExok2KerWxAOikXDk4BdEBMnuTqzKt5QGITssdLVn9AO8Q\\u002fUmWAgkDEfqbApFWFQE45DS\\u002fkKohA2PNznSMAi0BirtoLY9WNQHW0ID1RVZBAuxFU9PC\\u002fkUAAb4erkCqTQEXMumIwlZRAiinuGdD\\u002flUDOhiHRb2qXQBPkVIgP1ZhAWUGIP68\\u002fmkCdnrv2TqqbQOH77q3uFJ1AJ1kiZY5\\u002fnkBrtlUcLuqfQNiJxOlmqqBAejhexbZfoUAc5\\u002fegBhWiQMCVkXxWyqJAYkQrWKZ\\u002fo0AG88Qz9jSkQKihXg9G6qRASlD46pWfpUDs\\u002fpHG5VSmQI6tK6I1CqdAMlzFfYW\\u002fp0DUCl9Z1XSoQHa5+DQlKqlAGGiSEHXfqUC6FizsxJSqQFzFxccUSqtAAHRfo2T\\u002fq0CiIvl+tLSsQETRkloEaq1A6H8sNlQfrkCILsYRpNSuQCzdX+3zia9A58V85KEfsEA4nUnSSXqwQIl0FsDx1LBA20vjrZkvsUAsI7CbQYqxQH36fInp5LFAztFJd5E\\u002fskAfqRZlOZqyQHCA41Lh9LJAwlewQIlPs0ATL30uMaqzQGUGShzZBLRAtt0WCoFftEAHteP3KLq0QFmMsOXQFLVAqmN903hvtUD7OkrBIMq1QEwSF6\\u002fIJLZAnenjnHB\\u002ftkDvwLCKGNq2QECYfXjANLdAkW9KZmiPt0DiRhdUEOq3QDMe5EG4RLhAhfWwL2CfuEDWzH0dCPq4QCekSguwVLlAeHsX+VevuUDJUuTm\\u002fwm6QBoqsdSnZLpAbAF+wk+\\u002fukC92Eqw9xm7QA6wF56fdLtAX4fki0fPu0CwXrF57ym8QAM2fmeXhLxAVA1LVT\\u002ffvECl5BdD5zm9QPa75DCPlL1AR5OxHjfvvUCYan4M30m+QOpBS\\u002fqGpL5AOxkY6C7\\u002fvkCM8OTV1lm\\u002fQNzHscN+tL9Al0+\\u002fWJMHwEBAu6VP5zTAQOkmjEY7YsBAkZJyPY+PwEA6\\u002flg047zAQOJpPys36sBAi9UlIosXwUA=\"},\"yaxis\":\"y\",\"type\":\"scatter\"}],                        {\"template\":{\"data\":{\"barpolar\":[{\"marker\":{\"line\":{\"color\":\"white\",\"width\":0.5},\"pattern\":{\"fillmode\":\"overlay\",\"size\":10,\"solidity\":0.2}},\"type\":\"barpolar\"}],\"bar\":[{\"error_x\":{\"color\":\"rgb(36,36,36)\"},\"error_y\":{\"color\":\"rgb(36,36,36)\"},\"marker\":{\"line\":{\"color\":\"white\",\"width\":0.5},\"pattern\":{\"fillmode\":\"overlay\",\"size\":10,\"solidity\":0.2}},\"type\":\"bar\"}],\"carpet\":[{\"aaxis\":{\"endlinecolor\":\"rgb(36,36,36)\",\"gridcolor\":\"white\",\"linecolor\":\"white\",\"minorgridcolor\":\"white\",\"startlinecolor\":\"rgb(36,36,36)\"},\"baxis\":{\"endlinecolor\":\"rgb(36,36,36)\",\"gridcolor\":\"white\",\"linecolor\":\"white\",\"minorgridcolor\":\"white\",\"startlinecolor\":\"rgb(36,36,36)\"},\"type\":\"carpet\"}],\"choropleth\":[{\"colorbar\":{\"outlinewidth\":1,\"tickcolor\":\"rgb(36,36,36)\",\"ticks\":\"outside\"},\"type\":\"choropleth\"}],\"contourcarpet\":[{\"colorbar\":{\"outlinewidth\":1,\"tickcolor\":\"rgb(36,36,36)\",\"ticks\":\"outside\"},\"type\":\"contourcarpet\"}],\"contour\":[{\"colorbar\":{\"outlinewidth\":1,\"tickcolor\":\"rgb(36,36,36)\",\"ticks\":\"outside\"},\"colorscale\":[[0.0,\"#440154\"],[0.1111111111111111,\"#482878\"],[0.2222222222222222,\"#3e4989\"],[0.3333333333333333,\"#31688e\"],[0.4444444444444444,\"#26828e\"],[0.5555555555555556,\"#1f9e89\"],[0.6666666666666666,\"#35b779\"],[0.7777777777777778,\"#6ece58\"],[0.8888888888888888,\"#b5de2b\"],[1.0,\"#fde725\"]],\"type\":\"contour\"}],\"heatmap\":[{\"colorbar\":{\"outlinewidth\":1,\"tickcolor\":\"rgb(36,36,36)\",\"ticks\":\"outside\"},\"colorscale\":[[0.0,\"#440154\"],[0.1111111111111111,\"#482878\"],[0.2222222222222222,\"#3e4989\"],[0.3333333333333333,\"#31688e\"],[0.4444444444444444,\"#26828e\"],[0.5555555555555556,\"#1f9e89\"],[0.6666666666666666,\"#35b779\"],[0.7777777777777778,\"#6ece58\"],[0.8888888888888888,\"#b5de2b\"],[1.0,\"#fde725\"]],\"type\":\"heatmap\"}],\"histogram2dcontour\":[{\"colorbar\":{\"outlinewidth\":1,\"tickcolor\":\"rgb(36,36,36)\",\"ticks\":\"outside\"},\"colorscale\":[[0.0,\"#440154\"],[0.1111111111111111,\"#482878\"],[0.2222222222222222,\"#3e4989\"],[0.3333333333333333,\"#31688e\"],[0.4444444444444444,\"#26828e\"],[0.5555555555555556,\"#1f9e89\"],[0.6666666666666666,\"#35b779\"],[0.7777777777777778,\"#6ece58\"],[0.8888888888888888,\"#b5de2b\"],[1.0,\"#fde725\"]],\"type\":\"histogram2dcontour\"}],\"histogram2d\":[{\"colorbar\":{\"outlinewidth\":1,\"tickcolor\":\"rgb(36,36,36)\",\"ticks\":\"outside\"},\"colorscale\":[[0.0,\"#440154\"],[0.1111111111111111,\"#482878\"],[0.2222222222222222,\"#3e4989\"],[0.3333333333333333,\"#31688e\"],[0.4444444444444444,\"#26828e\"],[0.5555555555555556,\"#1f9e89\"],[0.6666666666666666,\"#35b779\"],[0.7777777777777778,\"#6ece58\"],[0.8888888888888888,\"#b5de2b\"],[1.0,\"#fde725\"]],\"type\":\"histogram2d\"}],\"histogram\":[{\"marker\":{\"line\":{\"color\":\"white\",\"width\":0.6}},\"type\":\"histogram\"}],\"mesh3d\":[{\"colorbar\":{\"outlinewidth\":1,\"tickcolor\":\"rgb(36,36,36)\",\"ticks\":\"outside\"},\"type\":\"mesh3d\"}],\"parcoords\":[{\"line\":{\"colorbar\":{\"outlinewidth\":1,\"tickcolor\":\"rgb(36,36,36)\",\"ticks\":\"outside\"}},\"type\":\"parcoords\"}],\"pie\":[{\"automargin\":true,\"type\":\"pie\"}],\"scatter3d\":[{\"line\":{\"colorbar\":{\"outlinewidth\":1,\"tickcolor\":\"rgb(36,36,36)\",\"ticks\":\"outside\"}},\"marker\":{\"colorbar\":{\"outlinewidth\":1,\"tickcolor\":\"rgb(36,36,36)\",\"ticks\":\"outside\"}},\"type\":\"scatter3d\"}],\"scattercarpet\":[{\"marker\":{\"colorbar\":{\"outlinewidth\":1,\"tickcolor\":\"rgb(36,36,36)\",\"ticks\":\"outside\"}},\"type\":\"scattercarpet\"}],\"scattergeo\":[{\"marker\":{\"colorbar\":{\"outlinewidth\":1,\"tickcolor\":\"rgb(36,36,36)\",\"ticks\":\"outside\"}},\"type\":\"scattergeo\"}],\"scattergl\":[{\"marker\":{\"colorbar\":{\"outlinewidth\":1,\"tickcolor\":\"rgb(36,36,36)\",\"ticks\":\"outside\"}},\"type\":\"scattergl\"}],\"scattermapbox\":[{\"marker\":{\"colorbar\":{\"outlinewidth\":1,\"tickcolor\":\"rgb(36,36,36)\",\"ticks\":\"outside\"}},\"type\":\"scattermapbox\"}],\"scattermap\":[{\"marker\":{\"colorbar\":{\"outlinewidth\":1,\"tickcolor\":\"rgb(36,36,36)\",\"ticks\":\"outside\"}},\"type\":\"scattermap\"}],\"scatterpolargl\":[{\"marker\":{\"colorbar\":{\"outlinewidth\":1,\"tickcolor\":\"rgb(36,36,36)\",\"ticks\":\"outside\"}},\"type\":\"scatterpolargl\"}],\"scatterpolar\":[{\"marker\":{\"colorbar\":{\"outlinewidth\":1,\"tickcolor\":\"rgb(36,36,36)\",\"ticks\":\"outside\"}},\"type\":\"scatterpolar\"}],\"scatter\":[{\"fillpattern\":{\"fillmode\":\"overlay\",\"size\":10,\"solidity\":0.2},\"type\":\"scatter\"}],\"scatterternary\":[{\"marker\":{\"colorbar\":{\"outlinewidth\":1,\"tickcolor\":\"rgb(36,36,36)\",\"ticks\":\"outside\"}},\"type\":\"scatterternary\"}],\"surface\":[{\"colorbar\":{\"outlinewidth\":1,\"tickcolor\":\"rgb(36,36,36)\",\"ticks\":\"outside\"},\"colorscale\":[[0.0,\"#440154\"],[0.1111111111111111,\"#482878\"],[0.2222222222222222,\"#3e4989\"],[0.3333333333333333,\"#31688e\"],[0.4444444444444444,\"#26828e\"],[0.5555555555555556,\"#1f9e89\"],[0.6666666666666666,\"#35b779\"],[0.7777777777777778,\"#6ece58\"],[0.8888888888888888,\"#b5de2b\"],[1.0,\"#fde725\"]],\"type\":\"surface\"}],\"table\":[{\"cells\":{\"fill\":{\"color\":\"rgb(237,237,237)\"},\"line\":{\"color\":\"white\"}},\"header\":{\"fill\":{\"color\":\"rgb(217,217,217)\"},\"line\":{\"color\":\"white\"}},\"type\":\"table\"}]},\"layout\":{\"annotationdefaults\":{\"arrowhead\":0,\"arrowwidth\":1},\"autotypenumbers\":\"strict\",\"coloraxis\":{\"colorbar\":{\"outlinewidth\":1,\"tickcolor\":\"rgb(36,36,36)\",\"ticks\":\"outside\"}},\"colorscale\":{\"diverging\":[[0.0,\"rgb(103,0,31)\"],[0.1,\"rgb(178,24,43)\"],[0.2,\"rgb(214,96,77)\"],[0.3,\"rgb(244,165,130)\"],[0.4,\"rgb(253,219,199)\"],[0.5,\"rgb(247,247,247)\"],[0.6,\"rgb(209,229,240)\"],[0.7,\"rgb(146,197,222)\"],[0.8,\"rgb(67,147,195)\"],[0.9,\"rgb(33,102,172)\"],[1.0,\"rgb(5,48,97)\"]],\"sequential\":[[0.0,\"#440154\"],[0.1111111111111111,\"#482878\"],[0.2222222222222222,\"#3e4989\"],[0.3333333333333333,\"#31688e\"],[0.4444444444444444,\"#26828e\"],[0.5555555555555556,\"#1f9e89\"],[0.6666666666666666,\"#35b779\"],[0.7777777777777778,\"#6ece58\"],[0.8888888888888888,\"#b5de2b\"],[1.0,\"#fde725\"]],\"sequentialminus\":[[0.0,\"#440154\"],[0.1111111111111111,\"#482878\"],[0.2222222222222222,\"#3e4989\"],[0.3333333333333333,\"#31688e\"],[0.4444444444444444,\"#26828e\"],[0.5555555555555556,\"#1f9e89\"],[0.6666666666666666,\"#35b779\"],[0.7777777777777778,\"#6ece58\"],[0.8888888888888888,\"#b5de2b\"],[1.0,\"#fde725\"]]},\"colorway\":[\"#91268F\",\"#8CC63E\",\"#00A7A0\",\"#F05A28\",\"#4C4C4C\",\"#630460\",\"#9f3913\",\"#588527\",\"#00716c\",\"#3e4040\"],\"font\":{\"color\":\"rgb(36,36,36)\",\"family\":\"Poppins\",\"size\":11},\"geo\":{\"bgcolor\":\"white\",\"lakecolor\":\"white\",\"landcolor\":\"white\",\"showlakes\":true,\"showland\":true,\"subunitcolor\":\"white\"},\"hoverlabel\":{\"align\":\"left\"},\"hovermode\":\"closest\",\"mapbox\":{\"style\":\"light\"},\"paper_bgcolor\":\"white\",\"plot_bgcolor\":\"white\",\"polar\":{\"angularaxis\":{\"gridcolor\":\"rgb(232,232,232)\",\"linecolor\":\"rgb(36,36,36)\",\"showgrid\":false,\"showline\":true,\"ticks\":\"outside\"},\"bgcolor\":\"white\",\"radialaxis\":{\"gridcolor\":\"rgb(232,232,232)\",\"linecolor\":\"rgb(36,36,36)\",\"showgrid\":false,\"showline\":true,\"ticks\":\"outside\"}},\"scene\":{\"xaxis\":{\"backgroundcolor\":\"white\",\"gridcolor\":\"rgb(232,232,232)\",\"gridwidth\":2,\"linecolor\":\"rgb(36,36,36)\",\"showbackground\":true,\"showgrid\":false,\"showline\":true,\"ticks\":\"outside\",\"zeroline\":false,\"zerolinecolor\":\"rgb(36,36,36)\"},\"yaxis\":{\"backgroundcolor\":\"white\",\"gridcolor\":\"rgb(232,232,232)\",\"gridwidth\":2,\"linecolor\":\"rgb(36,36,36)\",\"showbackground\":true,\"showgrid\":false,\"showline\":true,\"ticks\":\"outside\",\"zeroline\":false,\"zerolinecolor\":\"rgb(36,36,36)\"},\"zaxis\":{\"backgroundcolor\":\"white\",\"gridcolor\":\"rgb(232,232,232)\",\"gridwidth\":2,\"linecolor\":\"rgb(36,36,36)\",\"showbackground\":true,\"showgrid\":false,\"showline\":true,\"ticks\":\"outside\",\"zeroline\":false,\"zerolinecolor\":\"rgb(36,36,36)\"}},\"shapedefaults\":{\"fillcolor\":\"black\",\"line\":{\"width\":0},\"opacity\":0.3},\"ternary\":{\"aaxis\":{\"gridcolor\":\"rgb(232,232,232)\",\"linecolor\":\"rgb(36,36,36)\",\"showgrid\":false,\"showline\":true,\"ticks\":\"outside\"},\"baxis\":{\"gridcolor\":\"rgb(232,232,232)\",\"linecolor\":\"rgb(36,36,36)\",\"showgrid\":false,\"showline\":true,\"ticks\":\"outside\"},\"bgcolor\":\"white\",\"caxis\":{\"gridcolor\":\"rgb(232,232,232)\",\"linecolor\":\"rgb(36,36,36)\",\"showgrid\":false,\"showline\":true,\"ticks\":\"outside\"}},\"title\":{\"x\":0.05},\"xaxis\":{\"automargin\":true,\"gridcolor\":\"rgb(232,232,232)\",\"linecolor\":\"rgb(36,36,36)\",\"showgrid\":false,\"showline\":true,\"ticks\":\"outside\",\"title\":{\"standoff\":15},\"zeroline\":false,\"zerolinecolor\":\"rgb(36,36,36)\"},\"yaxis\":{\"automargin\":true,\"gridcolor\":\"rgb(232,232,232)\",\"linecolor\":\"rgb(36,36,36)\",\"showgrid\":false,\"showline\":true,\"ticks\":\"outside\",\"title\":{\"standoff\":15},\"zeroline\":false,\"zerolinecolor\":\"rgb(36,36,36)\"}}},\"xaxis\":{\"anchor\":\"y\",\"domain\":[0.0,1.0],\"title\":{\"text\":\"Observed\"}},\"yaxis\":{\"anchor\":\"x\",\"domain\":[0.0,1.0],\"title\":{\"text\":\"Model\"}},\"legend\":{\"tracegroupgap\":0},\"title\":{\"text\":\"Heavy Trucks: Snohomish\"},\"margin\":{\"l\":100,\"r\":100,\"t\":100,\"b\":100},\"height\":600,\"width\":800,\"shapes\":[{\"line\":{\"color\":\"Red\",\"dash\":\"dash\",\"width\":2},\"type\":\"line\",\"x0\":0,\"x1\":8472,\"y0\":0,\"y1\":8472}],\"annotations\":[{\"align\":\"right\",\"font\":{\"color\":\"pink\",\"size\":12},\"showarrow\":false,\"text\":\"y = x\",\"x\":8895.6,\"y\":8895.6},{\"align\":\"right\",\"font\":{\"color\":\"black\",\"size\":12},\"showarrow\":false,\"text\":\"r^2 = 0.93\",\"x\":4358.55,\"y\":9188.641328588232}]},                        {\"responsive\": true}                    ).then(function(){\n",
       "                            \n",
       "var gd = document.getElementById('ea0bb58f-c4f6-41d4-9ed0-787d2b9912e7');\n",
       "var x = new MutationObserver(function (mutations, observer) {{\n",
       "        var display = window.getComputedStyle(gd).display;\n",
       "        if (!display || display === 'none') {{\n",
       "            console.log([gd, 'removed!']);\n",
       "            Plotly.purge(gd);\n",
       "            observer.disconnect();\n",
       "        }}\n",
       "}});\n",
       "\n",
       "// Listen for the removal of the full notebook cells\n",
       "var notebookContainer = gd.closest('#notebook-container');\n",
       "if (notebookContainer) {{\n",
       "    x.observe(notebookContainer, {childList: true});\n",
       "}}\n",
       "\n",
       "// Listen for the clearing of the current output cell\n",
       "var outputEl = gd.closest('.output');\n",
       "if (outputEl) {{\n",
       "    x.observe(outputEl, {childList: true});\n",
       "}}\n",
       "\n",
       "                        })                };            </script>        </div>"
      ]
     },
     "metadata": {},
     "output_type": "display_data"
    }
   ],
   "source": [
    "fig = create_truck_chart(df_daily_heavy, 'Heavy', 'Snohomish')\n",
    "fig.show()"
   ]
  },
  {
   "cell_type": "raw",
   "id": "f8527f4f",
   "metadata": {
    "vscode": {
     "languageId": "raw"
    }
   },
   "source": [
    ":::"
   ]
  },
  {
   "cell_type": "markdown",
   "id": "0182397d",
   "metadata": {},
   "source": [
    "### Medium Truck Counts"
   ]
  },
  {
   "cell_type": "raw",
   "id": "076ed585",
   "metadata": {},
   "source": [
    ":::{.panel-tabset}\n",
    "\n",
    "#### Region"
   ]
  },
  {
   "cell_type": "code",
   "execution_count": 29,
   "id": "642f14ef",
   "metadata": {
    "execution": {
     "iopub.execute_input": "2025-06-18T22:59:58.731564Z",
     "iopub.status.busy": "2025-06-18T22:59:58.730568Z",
     "iopub.status.idle": "2025-06-18T22:59:58.855105Z",
     "shell.execute_reply": "2025-06-18T22:59:58.854102Z"
    }
   },
   "outputs": [
    {
     "data": {
      "application/vnd.plotly.v1+json": {
       "config": {
        "plotlyServerURL": "https://plot.ly"
       },
       "data": [
        {
         "customdata": [
          [
           "I-5 S/O Mounts NB",
           "Pierce"
          ],
          [
           "I-5 S/O Mounts SB",
           "Pierce"
          ],
          [
           "I-5 S/O Division NB",
           "Pierce"
          ],
          [
           "I-5 S/O Division SB",
           "Pierce"
          ],
          [
           "I-5 @ N/O Division NB",
           "Pierce"
          ],
          [
           "I-5 @ N/O Division SB",
           "Pierce"
          ],
          [
           "I-5 S/O SR-512 NB",
           "Pierce"
          ],
          [
           "I-5 S/O SR-512 SB",
           "Pierce"
          ],
          [
           "I-5 N/O SR-512 NB",
           "Pierce"
          ],
          [
           "I-5 N/O SR-512 SB",
           "Pierce"
          ],
          [
           "I-5 N/O 56th NB",
           "Pierce"
          ],
          [
           "I-5 N/O 56th SB",
           "Pierce"
          ],
          [
           "I-5 E/O SR-16 NB",
           "Pierce"
          ],
          [
           "I-5 E/O SR-16 SB",
           "Pierce"
          ],
          [
           "I-5 E/O Port of Tacoma NB",
           "Pierce"
          ],
          [
           "I-5 E/O Port of Tacoma SB (HOV from 56)",
           "Pierce"
          ],
          [
           "I-5 S/O 205th NB",
           "King"
          ],
          [
           "I-5 S/O 205th SB",
           "King"
          ],
          [
           "I-5 @ 44th NB",
           "Snohomish"
          ],
          [
           "I-5 @ 44th SB",
           "Snohomish"
          ],
          [
           "I-5 N/O 164th NB",
           "Snohomish"
          ],
          [
           "I-5 N/O 164th SB",
           "Snohomish"
          ],
          [
           "I-5 N/O SR-526 NB",
           "Snohomish"
          ],
          [
           "I-5 N/O SR-526 SB",
           "Snohomish"
          ],
          [
           "I-5 N/O 41st NB",
           "Snohomish"
          ],
          [
           "I-5 N/O 41st SB",
           "Snohomish"
          ],
          [
           "I-5 @ SR-528 NB",
           "Snohomish"
          ],
          [
           "I-5 @ SR-528 SB",
           "Snohomish"
          ],
          [
           "I-5 N/O SR-531 NB",
           "Snohomish"
          ],
          [
           "I-5 N/O SR-531 SB",
           "Snohomish"
          ],
          [
           "I-5 Rev N/O I-5 GP NB/SB",
           "King"
          ],
          [
           "I-90 E/O I-5 WB",
           "King"
          ],
          [
           "I-90 E/O I-5 EB",
           "King"
          ],
          [
           "I-90 E/O W Lk Sam WB",
           "King"
          ],
          [
           "I-90 E/O W Lk Sam EB",
           "King"
          ],
          [
           "I-90 E/O SR-900 WB",
           "King"
          ],
          [
           "I-405 @ I-5 Southcenter NB",
           "King"
          ],
          [
           "I-405 @ I-5 Southcenter SB",
           "King"
          ],
          [
           "I-405 @ Lake Wash Blvd NB",
           "King"
          ],
          [
           "I-405 @ I-90 NB",
           "King"
          ],
          [
           "I-405 @ I-90 SB",
           "King"
          ],
          [
           "I-405 N/O SR-527 NB",
           "Snohomish"
          ],
          [
           "I-405 N/O SR-527 SB",
           "Snohomish"
          ],
          [
           "SR-525 N/O I-5 NB",
           "Snohomish"
          ],
          [
           "SR-525 N/O I-5 SB",
           "Snohomish"
          ],
          [
           "SR-520 @ x-lake bridge WB",
           "King"
          ],
          [
           "SR-520 @ x-lake bridge EB",
           "King"
          ],
          [
           "SR-167 S/O 43rd NB",
           "King"
          ],
          [
           "SR-167 S/O 43rd SB",
           "King"
          ],
          [
           "SR-167 N/O SR-18 NB",
           "King"
          ],
          [
           "SR-167 N/O SR-18 SB",
           "King"
          ],
          [
           "SR-167 S/O 15th SW NB",
           "King"
          ],
          [
           "SR-167 S/O 15th SW SB",
           "King"
          ],
          [
           "SR-512 W/O Meridian WB",
           "Pierce"
          ],
          [
           "SR-512 W/O Meridian EB",
           "Pierce"
          ],
          [
           "SR-509 @ Holden NB",
           "King"
          ],
          [
           "SR-509 @ Holden SB",
           "King"
          ],
          [
           "SR-99 N/O 14th NB",
           "King"
          ],
          [
           "SR-99 N/O 14th SB",
           "King"
          ],
          [
           "SR-99 N/O WSF NB",
           "King"
          ],
          [
           "SR-99 N/O WSF SB",
           "King"
          ],
          [
           "SR-99 tunnel NB",
           "King"
          ],
          [
           "SR-99 tunnel SB",
           "King"
          ],
          [
           "SR-599 S/O Pacific NB",
           "King"
          ],
          [
           "SR-599 S/O Pacific SB",
           "King"
          ],
          [
           "SR-599 @ Pacific NB",
           "King"
          ],
          [
           "SR-599 @ Pacific SB",
           "King"
          ],
          [
           "SR-18 @ I-5 WB",
           "King"
          ],
          [
           "SR-18 @ I-5 EB",
           "King"
          ],
          [
           "SR-18 W/O Auburn-Black Diamond WB",
           "King"
          ],
          [
           "SR-18 W/O Auburn-Black Diamond EB",
           "King"
          ],
          [
           "SR-18 E/O SR-516 WB",
           "King"
          ],
          [
           "SR-18 E/O SR-516 EB",
           "King"
          ],
          [
           "SR-18 E/O 256th WB",
           "King"
          ],
          [
           "SR-18 E/O 256th EB",
           "King"
          ],
          [
           "SR-522 N/O 195th WB",
           "King"
          ],
          [
           "SR-522 N/O 195th EB",
           "King"
          ],
          [
           "I-5 N/O I-5 Rev CBD NB/SB",
           "King"
          ],
          [
           "I-5 @ SR-532 NB/SB",
           "Snohomish"
          ],
          [
           "I-5 @ Skagit border NB/SB",
           "Snohomish"
          ],
          [
           "I-90 W/O SR-18 WB/EB",
           "King"
          ],
          [
           "I-90 E/O SR-18 WB/EB",
           "King"
          ],
          [
           "I-90 E/O 436th WB/EB",
           "King"
          ],
          [
           "I-90 @ Kittitas County WB/EB",
           "King"
          ],
          [
           "I-405 N/O SR-522 NB/SB",
           "King"
          ],
          [
           "SR-525 N/O SR-526 NB/SB",
           "Snohomish"
          ],
          [
           "SR-525 N/O 5th NB/SB",
           "Snohomish"
          ],
          [
           "SR-167 N/O Grady NB/SB",
           "King"
          ],
          [
           "SR-167 W/O SR-410 NB/SB",
           "Pierce"
          ],
          [
           "SR-167 E/O SR-161 NB/SB",
           "Pierce"
          ],
          [
           "SR-410 E/O S Prairie WB/EB",
           "Pierce"
          ],
          [
           "SR-410 E/O 244th WB/EB",
           "King"
          ],
          [
           "SR-410 E/O Farman WB/EB",
           "King"
          ],
          [
           "SR-410 @ Greenwater River WB/EB",
           "King"
          ],
          [
           "SR-410 E/O Chinook WB/EB",
           "Pierce"
          ],
          [
           "SR-410 W/O SR-123 WB/EB",
           "Pierce"
          ],
          [
           "SR-410 E/O SR-123 WB/EB",
           "Pierce"
          ],
          [
           "SR-512 @ I-5 WB/EB",
           "Pierce"
          ],
          [
           "SR-512 W/O SR-7 WB/EB",
           "Pierce"
          ],
          [
           "SR-512 S/O SR-167 WB/EB",
           "Pierce"
          ],
          [
           "SR-509 E/O I-705 NB/SB",
           "Pierce"
          ],
          [
           "SR-509 W/O Alexander NB/SB",
           "Pierce"
          ],
          [
           "SR-509 S/O 11th NB/SB",
           "Pierce"
          ],
          [
           "SR-509 N/O Hyada NB/SB",
           "Pierce"
          ],
          [
           "SR-509 E/O Soundview NB/SB",
           "Pierce"
          ],
          [
           "SR-509 E/O 47th NB/SB",
           "King"
          ],
          [
           "SR-509 E/O 21st NB/SB",
           "King"
          ],
          [
           "SR-509 W/O SR-516 NB/SB",
           "King"
          ],
          [
           "SR-509 W/O Des Moines Mem NB/SB",
           "King"
          ],
          [
           "SR-509 E/O 1st Ave NB/SB",
           "King"
          ],
          [
           "SR-509 E/O Des Moines Mem NB/SB",
           "King"
          ],
          [
           "SR-509 N/O Des Moines Mem NB/SB",
           "King"
          ],
          [
           "SR-509 N/O SR-518 NB/SB",
           "King"
          ],
          [
           "SR-99 @ I-5 NB/SB",
           "Pierce"
          ],
          [
           "SR-99 E/O 54th NB/SB",
           "Pierce"
          ],
          [
           "SR-99 S/O Porter NB/SB",
           "Pierce"
          ],
          [
           "SR-99 S/O SR-18 NB/SB",
           "King"
          ],
          [
           "SR-99 N/O SR-18 NB/SB",
           "King"
          ],
          [
           "SR-99 N/O 320th NB/SB",
           "King"
          ],
          [
           "SR-99 N/O 188th NB/SB",
           "King"
          ],
          [
           "SR-99 @ WSF NB/SB",
           "King"
          ],
          [
           "SR-99 @ Aurora Bridge NB/SB",
           "King"
          ],
          [
           "SR-99 N/O 38th NB/SB",
           "King"
          ],
          [
           "SR-99 S/O Roosevelt NB/SB",
           "King"
          ],
          [
           "SR-99 E/O Evergreen NB/SB",
           "Snohomish"
          ],
          [
           "SR-599 N/O I-5 NB/SB",
           "King"
          ],
          [
           "SR-518 @ SR-509 WB/EB",
           "King"
          ],
          [
           "SR-518 E/O SR-509 WB/EB",
           "King"
          ],
          [
           "SR-18 E/O SR-99 WB/EB",
           "King"
          ],
          [
           "SR-18 N/O 304th WB/EB",
           "King"
          ],
          [
           "SR-18 S/O I-90 WB/EB",
           "King"
          ],
          [
           "SR-16 @ TNB NB/SB",
           "Pierce"
          ],
          [
           "SR-16 @ Purdy Dr NB/SB",
           "Pierce"
          ],
          [
           "SR-16  N/O SR-302 NB/SB",
           "Kitsap"
          ],
          [
           "SR-16 N/O SR-160 NB/SB",
           "Kitsap"
          ],
          [
           "SR-16 N/O Tremont NB/SB",
           "Kitsap"
          ],
          [
           "SR-16 S/O SR-3 NB",
           "Kitsap"
          ],
          [
           "SR-202 @ SR-522 NB/SB",
           "King"
          ],
          [
           "SR-202 N/O 145th NB/SB",
           "King"
          ],
          [
           "SR-202 @ Sammamish River Br NB/SB",
           "King"
          ],
          [
           "SR-202 S/O 144th NB/SB",
           "King"
          ],
          [
           "SR-202 N/O Redmond Way NB/SB",
           "King"
          ],
          [
           "SR-202 E/O 164th NB/SB",
           "King"
          ],
          [
           "SR-202 E/O SR-520 NB/SB",
           "King"
          ],
          [
           "SR-202 E/O E Lk Samm NB/SB",
           "King"
          ],
          [
           "SR-202 E/O Sahalee NB/SB",
           "King"
          ],
          [
           "SR-202 E/O 236th NB/SB",
           "King"
          ],
          [
           "SR-202 S/O Ames Lake NB/SB",
           "King"
          ],
          [
           "SR-202 S/O Duthie Hill NB/SB",
           "King"
          ],
          [
           "SR-202 E/O SR-203 NB/SB",
           "King"
          ],
          [
           "SR-202 N/O I-90 NB/SB",
           "King"
          ],
          [
           "SR-526 W/O Paine Field Blvd WB/EB",
           "Snohomish"
          ],
          [
           "SR-526 E/O Paine Field Blvd WB/EB",
           "Snohomish"
          ],
          [
           "SR-9 @ SR-522 NB/SB",
           "Snohomish"
          ],
          [
           "SR-9 N/O SR-2 NB/SB",
           "Snohomish"
          ],
          [
           "SR-9 N/O SR-204 NB/SB",
           "Snohomish"
          ],
          [
           "SR-9 N/O SR-92 NB/SB",
           "Snohomish"
          ],
          [
           "SR-9 N/O 132nd NB/SB",
           "Snohomish"
          ],
          [
           "SR-9 N/O SR-531 NB/SB",
           "Snohomish"
          ],
          [
           "SR-9 S/O 67th NB/SB",
           "Snohomish"
          ],
          [
           "SR-9 N/O Kackman NB/SB",
           "Snohomish"
          ],
          [
           "SR-9 N/O Stanwood-Bryant NB/SB",
           "Snohomish"
          ],
          [
           "SR-532 @ Island County WB/EB",
           "Snohomish"
          ],
          [
           "SR-532 W/O 28th WB/EB",
           "Snohomish"
          ],
          [
           "SR-522 N/O 145th NB/SB",
           "King"
          ],
          [
           "SR-104 @ Hood Canal Bridge WB/EB",
           "Kitsap"
          ],
          [
           "SR-104 E/O Hood Canal Bridge WB/EB",
           "Kitsap"
          ],
          [
           "SR-104 N/O Pt Gamble Rd WB/EB",
           "Kitsap"
          ],
          [
           "SR-104 E/O SR-307 WB/EB",
           "Kitsap"
          ],
          [
           "SR-104 E/O Hansville WB/EB",
           "Kitsap"
          ],
          [
           "SR-104 @ Ferry Loading Edm WB/EB",
           "Snohomish"
          ],
          [
           "SR-104 N/O Pine WB/EB",
           "Snohomish"
          ],
          [
           "SR-104 E/O 5th WB/EB",
           "Snohomish"
          ],
          [
           "SR-104 W/O 19th WB/EB",
           "King"
          ],
          [
           "SR-160 @ SR-16 WB/EB",
           "Kitsap"
          ],
          [
           "SR-160 E/O Long Lake Rd WB/EB",
           "Kitsap"
          ],
          [
           "SR-160 W/O Banner WB/EB",
           "Kitsap"
          ],
          [
           "SR-160 E/O Peterson WB/EB",
           "Kitsap"
          ],
          [
           "SR-160 S/O Southworth Dr WB/EB",
           "Kitsap"
          ],
          [
           "SR-166 E/O SR-16 WB/EB",
           "Kitsap"
          ],
          [
           "SR-3 E/O Sunset Way NB/SB",
           "Kitsap"
          ],
          [
           "SR-3 N/O SR-305 NB/SB",
           "Kitsap"
          ],
          [
           "SR-3 S/O Newberry Hill Rd NB/SB",
           "Kitsap"
          ],
          [
           "SR-3 @ SR-304 NB/SB",
           "Kitsap"
          ],
          [
           "SR-3 NE of SR-16 NB/SB",
           "Kitsap"
          ],
          [
           "SR-3 W/O Lake Flora Rd NB/SB",
           "Kitsap"
          ],
          [
           "SR-302 N/O 144th WB/EB",
           "Pierce"
          ],
          [
           "SR-302 S/O 144th WB/EB",
           "Pierce"
          ],
          [
           "SR-302 W/O Key Peninsula Hwy WB/EB",
           "Pierce"
          ],
          [
           "SR-302 W/O Wright-Bliss WB/EB (E/O?)",
           "Pierce"
          ],
          [
           "SR-303 E/O SR-3 NB/SB",
           "Kitsap"
          ],
          [
           "SR-303 N/O 11th St NB/SB",
           "Kitsap"
          ],
          [
           "SR-303 N/O SR-304 NB/SB",
           "Kitsap"
          ],
          [
           "SR-304 E/O SR-3 WB/EB",
           "Kitsap"
          ],
          [
           "SR-304 W/O Naval WB/EB",
           "Kitsap"
          ],
          [
           "SR-305 W/O SR-307 WB/EB",
           "Kitsap"
          ],
          [
           "SR-305 W/O Suquamish Way WB/EB",
           "Kitsap"
          ],
          [
           "SR-305 N/O Day Rd WB/EB",
           "Kitsap"
          ],
          [
           "SR-305 N/O High School Rd WB/EB",
           "Kitsap"
          ],
          [
           "SR-305 S/O Winslow Way WB/EB",
           "Kitsap"
          ],
          [
           "SR-305 @ Ferry Ramp WB/EB",
           "Kitsap"
          ],
          [
           "SR-307 W/O SR-104 NB/SB",
           "Kitsap"
          ],
          [
           "SR-307 N/O Gunderson NB/SB",
           "Kitsap"
          ],
          [
           "SR-307 S/O Gunderson NB/SB",
           "Kitsap"
          ],
          [
           "SR-307 N/O SR-305 NB/SB",
           "Kitsap"
          ],
          [
           "SR-308 @ SR-3 WB/EB",
           "Kitsap"
          ],
          [
           "SR-308 E/O SR-3 WB/EB",
           "Kitsap"
          ],
          [
           "SR-308 E/O Silverdale Way WB/EB",
           "Kitsap"
          ],
          [
           "SR-308 W/O Brownsville Hwy WB/EB",
           "Kitsap"
          ],
          [
           "SR-310 @ SR-3 WB/EB",
           "Kitsap"
          ],
          [
           "SR-310 W/O Callow WB/EB",
           "Kitsap"
          ],
          [
           "SR-516 E/O SR-509 WB/EB",
           "King"
          ],
          [
           "SR-516 W/O I-5 WB/EB",
           "King"
          ],
          [
           "SR-516 E/O Meeker WB/EB",
           "King"
          ],
          [
           "SR-516 W/O SR-167 WB/EB",
           "King"
          ],
          [
           "SR-516 E/O SR-167 WB/EB",
           "King"
          ],
          [
           "SR-516 E/O SR-18 WB/EB",
           "King"
          ],
          [
           "SR-161 E/O SR-7 NB/SB",
           "Pierce"
          ],
          [
           "SR-161 N/O Center NB/SB",
           "Pierce"
          ],
          [
           "SR-161 N/O Eatonville Cutoff NB/SB",
           "Pierce"
          ],
          [
           "SR-161 N/O 304th NB/SB",
           "Pierce"
          ],
          [
           "SR-161 N/O 264th NB/SB",
           "Pierce"
          ],
          [
           "SR-161 S/O 224th NB/SB",
           "Pierce"
          ],
          [
           "SR-161 N/O 224th NB/SB",
           "Pierce"
          ],
          [
           "SR-161 N/O 200th NB/SB",
           "Pierce"
          ],
          [
           "SR-161 S/O SR-167 SB off-ramp NB/SB",
           "Pierce"
          ],
          [
           "SR-161 S/O Valley NB/SB",
           "Pierce"
          ],
          [
           "SR-161 N/O Valley NB/SB",
           "Pierce"
          ],
          [
           "SR-161 N/O 8th NB/SB",
           "Pierce"
          ],
          [
           "SR-900 S/O NB I-5 on-ramp @ Boe Acc WB/EB",
           "King"
          ],
          [
           "SR-900 E/O 68th WB/EB",
           "King"
          ],
          [
           "SR-900 @ I-405 WB/EB",
           "King"
          ],
          [
           "SR-900 E/O 148th WB/EB",
           "King"
          ],
          [
           "SR-900 N/O Talus WB/EB",
           "King"
          ],
          [
           "SR-900 N/O Newport WB/EB",
           "King"
          ],
          [
           "SR-524 W/O 3rd WB/EB",
           "Snohomish"
          ],
          [
           "SR-524 S/O Main WB/EB",
           "Snohomish"
          ],
          [
           "SR-524 N/O Main WB/EB",
           "Snohomish"
          ],
          [
           "SR-524 E/O 68th WB/EB",
           "Snohomish"
          ],
          [
           "SR-524 E/O 39th WB/EB",
           "Snohomish"
          ],
          [
           "SR-7 @ Thurston County NB/SB",
           "Pierce"
          ],
          [
           "SR-7 W/O Alder Cutoff NB/SB",
           "Pierce"
          ],
          [
           "SR-7 N/O Eatonville Hwy NB/SB",
           "Pierce"
          ],
          [
           "SR-7 N/O Silver Lake NB/SB",
           "Pierce"
          ],
          [
           "SR-7 S/O SR-702 NB/SB",
           "Pierce"
          ],
          [
           "SR-7 N/O 304th NB/SB",
           "Pierce"
          ],
          [
           "SR-7 N/O 260th NB/SB",
           "Pierce"
          ],
          [
           "SR-7 S/O 224th NB/SB",
           "Pierce"
          ],
          [
           "SR-7 N/O 224th NB/SB",
           "Pierce"
          ],
          [
           "SR-7 N/O 38th NB/SB",
           "Pierce"
          ],
          [
           "SR-2 E/O I-5 WB/EB",
           "Snohomish"
          ],
          [
           "SR-2 S/O SR-204 WB/EB",
           "Snohomish"
          ],
          [
           "SR-2 E/O Main WB/EB",
           "Snohomish"
          ],
          [
           "SR-2 E/O Rice WB/EB",
           "Snohomish"
          ],
          [
           "SR-2 E/O 10th (Gold Bar) WB/EB",
           "Snohomish"
          ],
          [
           "SR-2 W/O Index-Galena WB/EB",
           "Snohomish"
          ],
          [
           "SR-2 E/O Index-Galena WB/EB",
           "Snohomish"
          ],
          [
           "SR-2 E/O Skykomish WB/EB",
           "King"
          ],
          [
           "SR-527 N/O I-405 NB/SB",
           "Snohomish"
          ],
          [
           "SR-527 N/O 196th NB/SB",
           "Snohomish"
          ],
          [
           "SR-527 N/O Dumas NB/SB",
           "Snohomish"
          ],
          [
           "SR-527 N/O 100th NB/SB",
           "Snohomish"
          ],
          [
           "SR-513 S/O 44th NB/SB",
           "King"
          ],
          [
           "SR-169 N/O SR-164 NB/SB",
           "King"
          ],
          [
           "SR-169 S/O Lawson NB/SB",
           "King"
          ],
          [
           "SR-169 S/O 280th NB/SB",
           "King"
          ],
          [
           "SR-169 N/O 276th NB/SB",
           "King"
          ],
          [
           "SR-169 N/O 231st NB/SB",
           "King"
          ],
          [
           "SR-169 N/O 231st NB/SB",
           "King"
          ],
          [
           "SR-169 W/O 140th NB/SB",
           "King"
          ],
          [
           "SR-515 N/O SR-516 NB/SB",
           "King"
          ],
          [
           "SR-515 N/O 108th NB/SB",
           "King"
          ],
          [
           "SR-515 N/O Puget NB/SB",
           "King"
          ],
          [
           "SR-181 N/O SR-516 NB/SB",
           "King"
          ],
          [
           "SR-181 S/O James NB/SB",
           "King"
          ],
          [
           "SR-181 N/O James NB/SB",
           "King"
          ],
          [
           "SR-181 N/O 228th NB/SB",
           "King"
          ],
          [
           "SR-181 N/O 180th NB/SB",
           "King"
          ],
          [
           "SR-181 S/O Longacres NB/SB",
           "King"
          ],
          [
           "SR-523 E/O Lenora WB/EB",
           "King"
          ],
          [
           "SR-529 @ I-5 (Evt) NB/SB",
           "Snohomish"
          ],
          [
           "SR-529 S/O Everett NB/SB",
           "Snohomish"
          ],
          [
           "SR-529 W/O Maple NB/SB",
           "Snohomish"
          ],
          [
           "SR-529 N/O Everett NB/SB",
           "Snohomish"
          ],
          [
           "SR-529 N/O Broadway NB/SB",
           "Snohomish"
          ],
          [
           "SR-96 @ I-5 WB/EB",
           "Snohomish"
          ],
          [
           "SR-96 N/O 132nd WB/EB",
           "Snohomish"
          ],
          [
           "SR-96 E/O Seattle Hill WB/EB",
           "Snohomish"
          ],
          [
           "SR-164 @ SR-18 WB/EB",
           "King"
          ],
          [
           "SR-164 S/O 400th WB/EB",
           "King"
          ],
          [
           "SR-528 @ I-5 WB/EB",
           "Snohomish"
          ],
          [
           "SR-528 E/O SR-529 WB/EB",
           "Snohomish"
          ],
          [
           "SR-531 N/O Rose WB/EB",
           "Snohomish"
          ],
          [
           "SR-531 E/O Lk Goodwin WB/EB",
           "Snohomish"
          ],
          [
           "SR-531 E/O 27th WB/EB",
           "Snohomish"
          ],
          [
           "SR-531 E/O I-5 WB/EB",
           "Snohomish"
          ],
          [
           "SR-531 E/O 43rd WB/EB",
           "Snohomish"
          ],
          [
           "SR-531 W/O 67th WB/EB",
           "Snohomish"
          ],
          [
           "SR-531 E/O 67th WB/EB",
           "Snohomish"
          ],
          [
           "SR-162 @ SR-410 WB/EB",
           "Pierce"
          ],
          [
           "SR-162 S/O Pioneer WB/EB",
           "Pierce"
          ],
          [
           "SR-162 E/O Orville WB/EB",
           "Pierce"
          ],
          [
           "SR-162 E/O S Prairie WB/EB",
           "Pierce"
          ],
          [
           "SR-162 N/O SR-165 WB/EB",
           "Pierce"
          ],
          [
           "SR-163 @ SR-16 NB/SB",
           "Pierce"
          ],
          [
           "SR-163 N/O 37th NB/SB",
           "Pierce"
          ],
          [
           "SR-163 N/O Park NB/SB",
           "Pierce"
          ],
          [
           "SR-530 @ I-5 WB/EB",
           "Snohomish"
          ],
          [
           "SR-530 E/O Smokey Pt WB/EB",
           "Snohomish"
          ],
          [
           "SR-530 N/O 211th WB/EB",
           "Snohomish"
          ],
          [
           "SR-530 E/O SR-9 WB/EB",
           "Snohomish"
          ],
          [
           "SR-530 S/O Arlington Hts WB/EB",
           "Snohomish"
          ],
          [
           "SR-530 N/O Arlington Hts WB/EB",
           "Snohomish"
          ],
          [
           "SR-530 W/O Jim Creek WB/EB",
           "Snohomish"
          ],
          [
           "SR-530 W/O Ramstad WB/EB",
           "Snohomish"
          ],
          [
           "SR-530 @ Skagit County WB/EB",
           "Snohomish"
          ],
          [
           "SR-203 N/O 203rd NB/SB",
           "Snohomish"
          ],
          [
           "SR-203 N/O Cherry Valley NB/SB",
           "King"
          ],
          [
           "SR-203 N/O 124th NB/SB",
           "King"
          ],
          [
           "SR-203 W/O Stillwater Hill NB/SB",
           "King"
          ],
          [
           "SR-203 N/O Carnation Farm NB/SB",
           "King"
          ],
          [
           "SR-203 N/O Tolt Hill NB/SB",
           "King"
          ],
          [
           "SR-203 N/O SR-202 NB/SB",
           "King"
          ],
          [
           "SR-507 S/O SR-7 NB/SB",
           "Pierce"
          ],
          [
           "SR-507 S/O E Gate NB/SB",
           "Pierce"
          ],
          [
           "SR-507 S/O 288th NB/SB",
           "Pierce"
          ],
          [
           "SR-507 N/O 346th NB/SB",
           "Pierce"
          ],
          [
           "SR-204 @ SR-2 NB/SB",
           "Snohomish"
          ],
          [
           "SR-204 N/O 20th NB/SB",
           "Snohomish"
          ],
          [
           "SR-204 N/O SR-2 NB/SB",
           "Snohomish"
          ],
          [
           "SR-519 W/O 4th NB/SB",
           "King"
          ],
          [
           "SR-92 E/O Lake WB/EB",
           "Snohomish"
          ],
          [
           "SR-92 E/O Callow WB/EB",
           "Snohomish"
          ],
          [
           "SR-92 E/O Quarry WB/EB",
           "Snohomish"
          ],
          [
           "SR-92 W/O Mountain Loop WB/EB",
           "Snohomish"
          ],
          [
           "SR-702 E/O SR-507 WB/EB",
           "Pierce"
          ],
          [
           "SR-702 E/O Harts Lake WB/EB",
           "Pierce"
          ],
          [
           "SR-702 E/O 40th WB/EB",
           "Pierce"
          ],
          [
           "SR-702 W/O 8th WB/EB",
           "Pierce"
          ],
          [
           "SR-702 E/O 8th WB/EB",
           "Pierce"
          ],
          [
           "SR-165 E/O SR-162 NB/SB",
           "Pierce"
          ],
          [
           "SR-165 N/O Davis NB/SB",
           "Pierce"
          ],
          [
           "SR-165 N/O Wilkeson-Carbonado NB/SB",
           "Pierce"
          ],
          [
           "SR-704 E/O Spanaway Loop WB/EB",
           "Pierce"
          ],
          [
           "SR-706 E/O SR-7 WB/EB",
           "Pierce"
          ],
          [
           "SR-706 E/O Kernahan WB/EB",
           "Pierce"
          ]
         ],
         "hovertemplate": "Observed=%{x}<br>Model=%{y}<br>location=%{customdata[0]}<br>County=%{customdata[1]}<extra></extra>",
         "legendgroup": "",
         "line": {
          "color": "Grey",
          "width": 2
         },
         "marker": {
          "color": "#91268F",
          "symbol": "circle"
         },
         "mode": "markers",
         "name": "",
         "orientation": "v",
         "showlegend": false,
         "type": "scatter",
         "x": {
          "bdata": "XglQCcQJHQobCeMIMArDCZIS1RIJFjYW5AYDDzYK3gz6BnUHGgosCjULSAuBChAL9QhgCo8IywjABskGhQL1BX0FeAVkBTEFFgSmBjoKjA62CwMGVAbgBFMDBgQIBOQIgAllCW8J2AroCfgH+AcOBxYHUgN2Av8EiwQrBMgDWwPQAvcESgMWAs0DTQUPBXIDZQMeBAcEFAaMBpUJognICWcGCAnnBCwECw2lApIBBwXmFfMKCwXfA8sBQwBBADcAIAAECzkNyA/qBOEKugBBAEYAhQC0AZcC+wBlAKgBrAWSBQMFKgafBPgEOwI0A24MGQYUCc4F/QOzAdwKDQPPAzAFQAn1BCcMvwfQCJ8HeQjMB6sDOwEHAaECFQI8A6EGbQRIA78BHQJaAaYBTwGpAWYDmwd8Bd0E0gYeA90BXwIEAoEAJwTjArkEyAK0AMsAGQIrATkB4ACUAeYBCwL1AYMB6wBhAEUBsgR5Bl8J+wdvDtAD5gGFA/AApADZA8sDtQF8A6kCogTJAoQCBgIXAeUALQMQAsQC7AKqAOUAHAH3AJgDCQETAZYEhgP7BhAEBwQYAMQBOQFKAngC+wGdA68EKwSEB+ECQQP3A6YB/QLPACgDuAI3AJYAswDgAUYB7QBnAMsA7wCCAdECywOiBb0DlAGDCiQHTAPJAv4BSQHWALAA3AVSA60CHgPMAp4BPwJkA0cC1QZVBDUEPgOVAYYDUAdHBQgGzQarBpUIpQJ5AS4BnwEbAcoENwWCASoBWwOPAiEDoQJLALIBrgLKBFkGzwMuAqIC9APCAmwBZALHATMBoADqApoDPwPCATEC5AGqATABpwClAocCIQPIAecBKQINAg4F5wEhAqECEgGSARUECQSyBSgERAFIAUIClQGcAY4BTAGaAdoAfQAPA5YATQA=",
          "dtype": "i2"
         },
         "xaxis": "x",
         "y": {
          "bdata": "AAAAAKYCwgKdArcCVwQjBLsIUwl7DG0N2gUkFNEUZBS8GMMXbxNvE4AT7BGOFP8UMBFnEIcIWQiuAosCkAj0EJUScgsEC3IHswO1CqUYHxP9EosTcxOADNwL6RRjFScMBQ0LDk0PVAt6CwYJJQhBCHcIjQOZAoYKKQwbCVwJsgRgBO4DXgMmB28DWwXoBJECZALMApsCsAVnBTkonAAAAO8GBAZ1AAAA9iQmAn4AZQhaG08FqwQfAl4ATwAAAAAAAAAGDi0OWxR/EJIQeAAbABsAOgBoAawASQArADMAeBCvELQCCgQJBkUFrwMYAzkDUhCkD2wJBwMKATEJAQf/BQsH/wcfA+0U3ApuC+gJxAvwBtoCbAKnAfQDnAHdAZcIjwU3Ah4CpQHpAFUBAwNUAd0IqwTfBWkFvQS4A5UCNAFHAEkAAACRAukHAAAnAB8ABQHAAOEAywBFAQECRQLiALUAzwBkABYCSAA+AbQJ3AjgDgAARgEPAYkAKQDjA28EBQJzBkQEggbmAzQErAA6ADoAMgF3AY0CkgKDAHAAuABzAFECJgFrANMJ+Ay7D84JFAUFACUAyQBWAVEB/wEdAtYDYgIBBIsBqgOvBqEBiAauAc4CfAL0AFkAHQHYArsBAAAWAB4AJwBAAAgBNQFWAcAB7ACeDWsIEwOfAZgAmABrAAAAQg9qBHAC1wQYBoMAnQGdAZUClQN1A4cGwgFbAsIE0AltBz0KmAsiCYoJUQNCBCoEnQMJAYMD8Ae/AVEA6AMrAqYClQIAAHcAGQMGBqkFTwKLAlkCbAMnAbcAIAFeA1QBHAF4Ac4C1gH4AfABqAF7AUMBAACuAboB5gHgAO0AcwHMAAUBmAAkACcA3gCtAVUFiAcBAy0C+wDHAA4ADgCAAIAAVgDdAFQAJgCMAgMABAA=",
          "dtype": "i2"
         },
         "yaxis": "y"
        },
        {
         "hovertemplate": "Observed=%{x}<br>Model=%{y}<extra></extra>",
         "legendgroup": "",
         "line": {
          "color": "Grey",
          "dash": "solid",
          "width": 2
         },
         "marker": {
          "symbol": "circle"
         },
         "mode": "lines",
         "name": "",
         "orientation": "v",
         "showlegend": false,
         "type": "scatter",
         "x": {
          "bdata": "AAAAAAAAAABi3s6QmLdMQGLezpCYt1xAyiabbLKJZUBi3s6QmLdsQP1KgVq/8nFAyiabbLKJdUCWArV+pSB5QGLezpCYt3xAF1100UUngED9SoFav/KBQOM4juM4voNAyiabbLKJhUCwFKj1K1WHQJYCtX6lIIlAfPDBBx/sikBi3s6QmLeMQEjM2xkSg45AF1100UUnkEAK1PqVAg2RQP1KgVq/8pFA8MEHH3zYkkDjOI7jOL6TQNavFKj1o5RAyiabbLKJlUC9nSExb2+WQLAUqPUrVZdAo4suuug6mECWArV+pSCZQIl5O0NiBppAfPDBBx/smkBvZ0jM29GbQGLezpCYt5xAVVVVVVWdnUBIzNsZEoOeQDtDYt7OaJ9AF1100UUnoECRmLczJJqgQArU+pUCDaFAhA8++OB/oUD9SoFav/KhQHeGxLydZaJA8MEHH3zYokBq/UqBWkujQOM4juM4vqNAXXTRRRcxpEDWrxSo9aOkQFDrVwrUFqVAyiabbLKJpUBDYt7OkPylQL2dITFvb6ZANtlkk03ipkCwFKj1K1WnQClQ61cKyKdAo4suuug6qEAcx3Ecx62oQJYCtX6lIKlADz744IOTqUCJeTtDYgaqQAK1fqVAeapAfPDBBx/sqkD1KwVq/V6rQG9nSMzb0atA6KKLLrpErEBi3s6QmLesQNwZEvN2Kq1AVVVVVVWdrUDPkJi3MxCuQEjM2xkSg65AwgcffPD1rkA7Q2LezmivQLV+pUCt269AF1100UUnsEDU+pUCtWCwQJGYtzMkmrBATTbZZJPTsEAK1PqVAg2xQMdxHMdxRrFAhA8++OB/sUBArV8pULmxQP1KgVq/8rFAuuiiiy4sskB3hsS8nWWyQDQk5u0Mn7JA8MEHH3zYskCtXylQ6xGzQGr9SoFaS7NAJ5tsssmEs0DjOI7jOL6zQKDWrxSo97NAXXTRRRcxtEAaEvN2hmq0QNavFKj1o7RAk0022WTdtEBQ61cK1Ba1QA2JeTtDULVAyiabbLKJtUCGxLydIcO1QENi3s6Q/LVAAAAAAAA2tkA=",
          "dtype": "f8"
         },
         "xaxis": "x",
         "y": {
          "bdata": "QIfvHORsR0DSZO+8hU9cQAKDs7VMdGZAnFPvjNbAbkAakhUysIZzQGd6sx31rHdAtGJRCTrTe0AAS+/0fvl/QKaZRvDhD4JAzI0VZgQjhEDzgeTbJjaGQBl2s1FJSYhAQGqCx2tcikBmXlE9jm+MQIxSILOwgo5AWaN3lOlKkEBsHV/PelSRQH+XRgoMXpJAkhEuRZ1nk0ClixWALnGUQLkF/bq/epVAzH/k9VCElkDf+csw4o2XQPJzs2tzl5hABu6apgShmUAZaILhlaqaQCziaRwntJtAP1xRV7i9nEBS1jiSScedQGVQIM3a0J5AeMoHCGzan0BGoneh/nGgQE9f6z7H9qBAWRxf3I97oUBi2dJ5WACiQGyWRhchhaJAdVO6tOkJo0CAEC5Sso6jQIjNoe96E6RAk4oVjUOYpECcR4kqDB2lQKYE/cfUoaVAr8FwZZ0mpkC5fuQCZqumQMI7WKAuMKdAzPjLPfe0p0DVtT/bvzmoQN9ys3iIvqhA6S8nFlFDqUDy7JqzGcipQPypDlHiTKpABWeC7qrRqkAPJPaLc1arQBjhaSk826tAIp7dxgRgrEArW1FkzeSsQDUYxQGWaa1APtU4n17urUBIkqw8J3OuQFFPINrv965AWwyUd7h8r0Cy5IOKwACwQDjDPdkkQ7BAvKH3J4mFsEBAgLF27cewQMZea8VRCrFASj0lFLZMsUDQG99iGo+xQFT6mLF+0bFA2NhSAOMTskBetwxPR1ayQOKVxp2rmLJAZnSA7A/bskDsUjo7dB2zQHIx9InYX7NA9A+u2Dyis0B67mcnoeSzQADNIXYFJ7RAhKvbxGlptEAIipUTzqu0QI5oT2Iy7rRAEkcJsZYwtUCYJcP/+nK1QBwEfU5ftbVAoOI2ncP3tUAmwfDrJzq2QKqfqjqMfLZAMH5kifC+tkC0XB7YVAG3QDg72Ca5Q7dAvhmSdR2Gt0BC+EvEgci3QMbWBRPmCrhATLW/YUpNuEDQk3mwro+4QFZyM/8S0rhA2lDtTXcUuUBeL6ec21a5QOQNYes/mblAaOwaOqTbuUA=",
          "dtype": "f8"
         },
         "yaxis": "y"
        }
       ],
       "layout": {
        "annotations": [
         {
          "align": "right",
          "font": {
           "color": "pink",
           "size": 12
          },
          "showarrow": false,
          "text": "y = x",
          "x": 10811.85,
          "y": 10811.85
         },
         {
          "align": "right",
          "font": {
           "color": "black",
           "size": 12
          },
          "showarrow": false,
          "text": "r^2 = 0.48",
          "x": 5970.3,
          "y": 6950.623587195256
         }
        ],
        "height": 600,
        "legend": {
         "tracegroupgap": 0
        },
        "margin": {
         "b": 100,
         "l": 100,
         "r": 100,
         "t": 100
        },
        "shapes": [
         {
          "line": {
           "color": "Red",
           "dash": "dash",
           "width": 2
          },
          "type": "line",
          "x0": 0,
          "x1": 10297,
          "y0": 0,
          "y1": 10297
         }
        ],
        "template": {
         "data": {
          "bar": [
           {
            "error_x": {
             "color": "rgb(36,36,36)"
            },
            "error_y": {
             "color": "rgb(36,36,36)"
            },
            "marker": {
             "line": {
              "color": "white",
              "width": 0.5
             },
             "pattern": {
              "fillmode": "overlay",
              "size": 10,
              "solidity": 0.2
             }
            },
            "type": "bar"
           }
          ],
          "barpolar": [
           {
            "marker": {
             "line": {
              "color": "white",
              "width": 0.5
             },
             "pattern": {
              "fillmode": "overlay",
              "size": 10,
              "solidity": 0.2
             }
            },
            "type": "barpolar"
           }
          ],
          "carpet": [
           {
            "aaxis": {
             "endlinecolor": "rgb(36,36,36)",
             "gridcolor": "white",
             "linecolor": "white",
             "minorgridcolor": "white",
             "startlinecolor": "rgb(36,36,36)"
            },
            "baxis": {
             "endlinecolor": "rgb(36,36,36)",
             "gridcolor": "white",
             "linecolor": "white",
             "minorgridcolor": "white",
             "startlinecolor": "rgb(36,36,36)"
            },
            "type": "carpet"
           }
          ],
          "choropleth": [
           {
            "colorbar": {
             "outlinewidth": 1,
             "tickcolor": "rgb(36,36,36)",
             "ticks": "outside"
            },
            "type": "choropleth"
           }
          ],
          "contour": [
           {
            "colorbar": {
             "outlinewidth": 1,
             "tickcolor": "rgb(36,36,36)",
             "ticks": "outside"
            },
            "colorscale": [
             [
              0.0,
              "#440154"
             ],
             [
              0.1111111111111111,
              "#482878"
             ],
             [
              0.2222222222222222,
              "#3e4989"
             ],
             [
              0.3333333333333333,
              "#31688e"
             ],
             [
              0.4444444444444444,
              "#26828e"
             ],
             [
              0.5555555555555556,
              "#1f9e89"
             ],
             [
              0.6666666666666666,
              "#35b779"
             ],
             [
              0.7777777777777778,
              "#6ece58"
             ],
             [
              0.8888888888888888,
              "#b5de2b"
             ],
             [
              1.0,
              "#fde725"
             ]
            ],
            "type": "contour"
           }
          ],
          "contourcarpet": [
           {
            "colorbar": {
             "outlinewidth": 1,
             "tickcolor": "rgb(36,36,36)",
             "ticks": "outside"
            },
            "type": "contourcarpet"
           }
          ],
          "heatmap": [
           {
            "colorbar": {
             "outlinewidth": 1,
             "tickcolor": "rgb(36,36,36)",
             "ticks": "outside"
            },
            "colorscale": [
             [
              0.0,
              "#440154"
             ],
             [
              0.1111111111111111,
              "#482878"
             ],
             [
              0.2222222222222222,
              "#3e4989"
             ],
             [
              0.3333333333333333,
              "#31688e"
             ],
             [
              0.4444444444444444,
              "#26828e"
             ],
             [
              0.5555555555555556,
              "#1f9e89"
             ],
             [
              0.6666666666666666,
              "#35b779"
             ],
             [
              0.7777777777777778,
              "#6ece58"
             ],
             [
              0.8888888888888888,
              "#b5de2b"
             ],
             [
              1.0,
              "#fde725"
             ]
            ],
            "type": "heatmap"
           }
          ],
          "histogram": [
           {
            "marker": {
             "line": {
              "color": "white",
              "width": 0.6
             }
            },
            "type": "histogram"
           }
          ],
          "histogram2d": [
           {
            "colorbar": {
             "outlinewidth": 1,
             "tickcolor": "rgb(36,36,36)",
             "ticks": "outside"
            },
            "colorscale": [
             [
              0.0,
              "#440154"
             ],
             [
              0.1111111111111111,
              "#482878"
             ],
             [
              0.2222222222222222,
              "#3e4989"
             ],
             [
              0.3333333333333333,
              "#31688e"
             ],
             [
              0.4444444444444444,
              "#26828e"
             ],
             [
              0.5555555555555556,
              "#1f9e89"
             ],
             [
              0.6666666666666666,
              "#35b779"
             ],
             [
              0.7777777777777778,
              "#6ece58"
             ],
             [
              0.8888888888888888,
              "#b5de2b"
             ],
             [
              1.0,
              "#fde725"
             ]
            ],
            "type": "histogram2d"
           }
          ],
          "histogram2dcontour": [
           {
            "colorbar": {
             "outlinewidth": 1,
             "tickcolor": "rgb(36,36,36)",
             "ticks": "outside"
            },
            "colorscale": [
             [
              0.0,
              "#440154"
             ],
             [
              0.1111111111111111,
              "#482878"
             ],
             [
              0.2222222222222222,
              "#3e4989"
             ],
             [
              0.3333333333333333,
              "#31688e"
             ],
             [
              0.4444444444444444,
              "#26828e"
             ],
             [
              0.5555555555555556,
              "#1f9e89"
             ],
             [
              0.6666666666666666,
              "#35b779"
             ],
             [
              0.7777777777777778,
              "#6ece58"
             ],
             [
              0.8888888888888888,
              "#b5de2b"
             ],
             [
              1.0,
              "#fde725"
             ]
            ],
            "type": "histogram2dcontour"
           }
          ],
          "mesh3d": [
           {
            "colorbar": {
             "outlinewidth": 1,
             "tickcolor": "rgb(36,36,36)",
             "ticks": "outside"
            },
            "type": "mesh3d"
           }
          ],
          "parcoords": [
           {
            "line": {
             "colorbar": {
              "outlinewidth": 1,
              "tickcolor": "rgb(36,36,36)",
              "ticks": "outside"
             }
            },
            "type": "parcoords"
           }
          ],
          "pie": [
           {
            "automargin": true,
            "type": "pie"
           }
          ],
          "scatter": [
           {
            "fillpattern": {
             "fillmode": "overlay",
             "size": 10,
             "solidity": 0.2
            },
            "type": "scatter"
           }
          ],
          "scatter3d": [
           {
            "line": {
             "colorbar": {
              "outlinewidth": 1,
              "tickcolor": "rgb(36,36,36)",
              "ticks": "outside"
             }
            },
            "marker": {
             "colorbar": {
              "outlinewidth": 1,
              "tickcolor": "rgb(36,36,36)",
              "ticks": "outside"
             }
            },
            "type": "scatter3d"
           }
          ],
          "scattercarpet": [
           {
            "marker": {
             "colorbar": {
              "outlinewidth": 1,
              "tickcolor": "rgb(36,36,36)",
              "ticks": "outside"
             }
            },
            "type": "scattercarpet"
           }
          ],
          "scattergeo": [
           {
            "marker": {
             "colorbar": {
              "outlinewidth": 1,
              "tickcolor": "rgb(36,36,36)",
              "ticks": "outside"
             }
            },
            "type": "scattergeo"
           }
          ],
          "scattergl": [
           {
            "marker": {
             "colorbar": {
              "outlinewidth": 1,
              "tickcolor": "rgb(36,36,36)",
              "ticks": "outside"
             }
            },
            "type": "scattergl"
           }
          ],
          "scattermap": [
           {
            "marker": {
             "colorbar": {
              "outlinewidth": 1,
              "tickcolor": "rgb(36,36,36)",
              "ticks": "outside"
             }
            },
            "type": "scattermap"
           }
          ],
          "scattermapbox": [
           {
            "marker": {
             "colorbar": {
              "outlinewidth": 1,
              "tickcolor": "rgb(36,36,36)",
              "ticks": "outside"
             }
            },
            "type": "scattermapbox"
           }
          ],
          "scatterpolar": [
           {
            "marker": {
             "colorbar": {
              "outlinewidth": 1,
              "tickcolor": "rgb(36,36,36)",
              "ticks": "outside"
             }
            },
            "type": "scatterpolar"
           }
          ],
          "scatterpolargl": [
           {
            "marker": {
             "colorbar": {
              "outlinewidth": 1,
              "tickcolor": "rgb(36,36,36)",
              "ticks": "outside"
             }
            },
            "type": "scatterpolargl"
           }
          ],
          "scatterternary": [
           {
            "marker": {
             "colorbar": {
              "outlinewidth": 1,
              "tickcolor": "rgb(36,36,36)",
              "ticks": "outside"
             }
            },
            "type": "scatterternary"
           }
          ],
          "surface": [
           {
            "colorbar": {
             "outlinewidth": 1,
             "tickcolor": "rgb(36,36,36)",
             "ticks": "outside"
            },
            "colorscale": [
             [
              0.0,
              "#440154"
             ],
             [
              0.1111111111111111,
              "#482878"
             ],
             [
              0.2222222222222222,
              "#3e4989"
             ],
             [
              0.3333333333333333,
              "#31688e"
             ],
             [
              0.4444444444444444,
              "#26828e"
             ],
             [
              0.5555555555555556,
              "#1f9e89"
             ],
             [
              0.6666666666666666,
              "#35b779"
             ],
             [
              0.7777777777777778,
              "#6ece58"
             ],
             [
              0.8888888888888888,
              "#b5de2b"
             ],
             [
              1.0,
              "#fde725"
             ]
            ],
            "type": "surface"
           }
          ],
          "table": [
           {
            "cells": {
             "fill": {
              "color": "rgb(237,237,237)"
             },
             "line": {
              "color": "white"
             }
            },
            "header": {
             "fill": {
              "color": "rgb(217,217,217)"
             },
             "line": {
              "color": "white"
             }
            },
            "type": "table"
           }
          ]
         },
         "layout": {
          "annotationdefaults": {
           "arrowhead": 0,
           "arrowwidth": 1
          },
          "autotypenumbers": "strict",
          "coloraxis": {
           "colorbar": {
            "outlinewidth": 1,
            "tickcolor": "rgb(36,36,36)",
            "ticks": "outside"
           }
          },
          "colorscale": {
           "diverging": [
            [
             0.0,
             "rgb(103,0,31)"
            ],
            [
             0.1,
             "rgb(178,24,43)"
            ],
            [
             0.2,
             "rgb(214,96,77)"
            ],
            [
             0.3,
             "rgb(244,165,130)"
            ],
            [
             0.4,
             "rgb(253,219,199)"
            ],
            [
             0.5,
             "rgb(247,247,247)"
            ],
            [
             0.6,
             "rgb(209,229,240)"
            ],
            [
             0.7,
             "rgb(146,197,222)"
            ],
            [
             0.8,
             "rgb(67,147,195)"
            ],
            [
             0.9,
             "rgb(33,102,172)"
            ],
            [
             1.0,
             "rgb(5,48,97)"
            ]
           ],
           "sequential": [
            [
             0.0,
             "#440154"
            ],
            [
             0.1111111111111111,
             "#482878"
            ],
            [
             0.2222222222222222,
             "#3e4989"
            ],
            [
             0.3333333333333333,
             "#31688e"
            ],
            [
             0.4444444444444444,
             "#26828e"
            ],
            [
             0.5555555555555556,
             "#1f9e89"
            ],
            [
             0.6666666666666666,
             "#35b779"
            ],
            [
             0.7777777777777778,
             "#6ece58"
            ],
            [
             0.8888888888888888,
             "#b5de2b"
            ],
            [
             1.0,
             "#fde725"
            ]
           ],
           "sequentialminus": [
            [
             0.0,
             "#440154"
            ],
            [
             0.1111111111111111,
             "#482878"
            ],
            [
             0.2222222222222222,
             "#3e4989"
            ],
            [
             0.3333333333333333,
             "#31688e"
            ],
            [
             0.4444444444444444,
             "#26828e"
            ],
            [
             0.5555555555555556,
             "#1f9e89"
            ],
            [
             0.6666666666666666,
             "#35b779"
            ],
            [
             0.7777777777777778,
             "#6ece58"
            ],
            [
             0.8888888888888888,
             "#b5de2b"
            ],
            [
             1.0,
             "#fde725"
            ]
           ]
          },
          "colorway": [
           "#91268F",
           "#8CC63E",
           "#00A7A0",
           "#F05A28",
           "#4C4C4C",
           "#630460",
           "#9f3913",
           "#588527",
           "#00716c",
           "#3e4040"
          ],
          "font": {
           "color": "rgb(36,36,36)",
           "family": "Poppins",
           "size": 11
          },
          "geo": {
           "bgcolor": "white",
           "lakecolor": "white",
           "landcolor": "white",
           "showlakes": true,
           "showland": true,
           "subunitcolor": "white"
          },
          "hoverlabel": {
           "align": "left"
          },
          "hovermode": "closest",
          "mapbox": {
           "style": "light"
          },
          "paper_bgcolor": "white",
          "plot_bgcolor": "white",
          "polar": {
           "angularaxis": {
            "gridcolor": "rgb(232,232,232)",
            "linecolor": "rgb(36,36,36)",
            "showgrid": false,
            "showline": true,
            "ticks": "outside"
           },
           "bgcolor": "white",
           "radialaxis": {
            "gridcolor": "rgb(232,232,232)",
            "linecolor": "rgb(36,36,36)",
            "showgrid": false,
            "showline": true,
            "ticks": "outside"
           }
          },
          "scene": {
           "xaxis": {
            "backgroundcolor": "white",
            "gridcolor": "rgb(232,232,232)",
            "gridwidth": 2,
            "linecolor": "rgb(36,36,36)",
            "showbackground": true,
            "showgrid": false,
            "showline": true,
            "ticks": "outside",
            "zeroline": false,
            "zerolinecolor": "rgb(36,36,36)"
           },
           "yaxis": {
            "backgroundcolor": "white",
            "gridcolor": "rgb(232,232,232)",
            "gridwidth": 2,
            "linecolor": "rgb(36,36,36)",
            "showbackground": true,
            "showgrid": false,
            "showline": true,
            "ticks": "outside",
            "zeroline": false,
            "zerolinecolor": "rgb(36,36,36)"
           },
           "zaxis": {
            "backgroundcolor": "white",
            "gridcolor": "rgb(232,232,232)",
            "gridwidth": 2,
            "linecolor": "rgb(36,36,36)",
            "showbackground": true,
            "showgrid": false,
            "showline": true,
            "ticks": "outside",
            "zeroline": false,
            "zerolinecolor": "rgb(36,36,36)"
           }
          },
          "shapedefaults": {
           "fillcolor": "black",
           "line": {
            "width": 0
           },
           "opacity": 0.3
          },
          "ternary": {
           "aaxis": {
            "gridcolor": "rgb(232,232,232)",
            "linecolor": "rgb(36,36,36)",
            "showgrid": false,
            "showline": true,
            "ticks": "outside"
           },
           "baxis": {
            "gridcolor": "rgb(232,232,232)",
            "linecolor": "rgb(36,36,36)",
            "showgrid": false,
            "showline": true,
            "ticks": "outside"
           },
           "bgcolor": "white",
           "caxis": {
            "gridcolor": "rgb(232,232,232)",
            "linecolor": "rgb(36,36,36)",
            "showgrid": false,
            "showline": true,
            "ticks": "outside"
           }
          },
          "title": {
           "x": 0.05
          },
          "xaxis": {
           "automargin": true,
           "gridcolor": "rgb(232,232,232)",
           "linecolor": "rgb(36,36,36)",
           "showgrid": false,
           "showline": true,
           "ticks": "outside",
           "title": {
            "standoff": 15
           },
           "zeroline": false,
           "zerolinecolor": "rgb(36,36,36)"
          },
          "yaxis": {
           "automargin": true,
           "gridcolor": "rgb(232,232,232)",
           "linecolor": "rgb(36,36,36)",
           "showgrid": false,
           "showline": true,
           "ticks": "outside",
           "title": {
            "standoff": 15
           },
           "zeroline": false,
           "zerolinecolor": "rgb(36,36,36)"
          }
         }
        },
        "title": {
         "text": "Medium Trucks: Region"
        },
        "width": 800,
        "xaxis": {
         "anchor": "y",
         "domain": [
          0.0,
          1.0
         ],
         "title": {
          "text": "Observed"
         }
        },
        "yaxis": {
         "anchor": "x",
         "domain": [
          0.0,
          1.0
         ],
         "title": {
          "text": "Model"
         }
        }
       }
      },
      "text/html": [
       "<div>            <script src=\"https://cdnjs.cloudflare.com/ajax/libs/mathjax/2.7.5/MathJax.js?config=TeX-AMS-MML_SVG\"></script><script type=\"text/javascript\">if (window.MathJax && window.MathJax.Hub && window.MathJax.Hub.Config) {window.MathJax.Hub.Config({SVG: {font: \"STIX-Web\"}});}</script>                <script type=\"text/javascript\">window.PlotlyConfig = {MathJaxConfig: 'local'};</script>\n",
       "        <script charset=\"utf-8\" src=\"https://cdn.plot.ly/plotly-3.0.1.min.js\"></script>                <div id=\"d1a09662-1d9a-471d-a1ae-0e68384a520d\" class=\"plotly-graph-div\" style=\"height:600px; width:800px;\"></div>            <script type=\"text/javascript\">                window.PLOTLYENV=window.PLOTLYENV || {};                                if (document.getElementById(\"d1a09662-1d9a-471d-a1ae-0e68384a520d\")) {                    Plotly.newPlot(                        \"d1a09662-1d9a-471d-a1ae-0e68384a520d\",                        [{\"customdata\":[[\"I-5 S\\u002fO Mounts NB\",\"Pierce\"],[\"I-5 S\\u002fO Mounts SB\",\"Pierce\"],[\"I-5 S\\u002fO Division NB\",\"Pierce\"],[\"I-5 S\\u002fO Division SB\",\"Pierce\"],[\"I-5 @ N\\u002fO Division NB\",\"Pierce\"],[\"I-5 @ N\\u002fO Division SB\",\"Pierce\"],[\"I-5 S\\u002fO SR-512 NB\",\"Pierce\"],[\"I-5 S\\u002fO SR-512 SB\",\"Pierce\"],[\"I-5 N\\u002fO SR-512 NB\",\"Pierce\"],[\"I-5 N\\u002fO SR-512 SB\",\"Pierce\"],[\"I-5 N\\u002fO 56th NB\",\"Pierce\"],[\"I-5 N\\u002fO 56th SB\",\"Pierce\"],[\"I-5 E\\u002fO SR-16 NB\",\"Pierce\"],[\"I-5 E\\u002fO SR-16 SB\",\"Pierce\"],[\"I-5 E\\u002fO Port of Tacoma NB\",\"Pierce\"],[\"I-5 E\\u002fO Port of Tacoma SB (HOV from 56)\",\"Pierce\"],[\"I-5 S\\u002fO 205th NB\",\"King\"],[\"I-5 S\\u002fO 205th SB\",\"King\"],[\"I-5 @ 44th NB\",\"Snohomish\"],[\"I-5 @ 44th SB\",\"Snohomish\"],[\"I-5 N\\u002fO 164th NB\",\"Snohomish\"],[\"I-5 N\\u002fO 164th SB\",\"Snohomish\"],[\"I-5 N\\u002fO SR-526 NB\",\"Snohomish\"],[\"I-5 N\\u002fO SR-526 SB\",\"Snohomish\"],[\"I-5 N\\u002fO 41st NB\",\"Snohomish\"],[\"I-5 N\\u002fO 41st SB\",\"Snohomish\"],[\"I-5 @ SR-528 NB\",\"Snohomish\"],[\"I-5 @ SR-528 SB\",\"Snohomish\"],[\"I-5 N\\u002fO SR-531 NB\",\"Snohomish\"],[\"I-5 N\\u002fO SR-531 SB\",\"Snohomish\"],[\"I-5 Rev N\\u002fO I-5 GP NB\\u002fSB\",\"King\"],[\"I-90 E\\u002fO I-5 WB\",\"King\"],[\"I-90 E\\u002fO I-5 EB\",\"King\"],[\"I-90 E\\u002fO W Lk Sam WB\",\"King\"],[\"I-90 E\\u002fO W Lk Sam EB\",\"King\"],[\"I-90 E\\u002fO SR-900 WB\",\"King\"],[\"I-405 @ I-5 Southcenter NB\",\"King\"],[\"I-405 @ I-5 Southcenter SB\",\"King\"],[\"I-405 @ Lake Wash Blvd NB\",\"King\"],[\"I-405 @ I-90 NB\",\"King\"],[\"I-405 @ I-90 SB\",\"King\"],[\"I-405 N\\u002fO SR-527 NB\",\"Snohomish\"],[\"I-405 N\\u002fO SR-527 SB\",\"Snohomish\"],[\"SR-525 N\\u002fO I-5 NB\",\"Snohomish\"],[\"SR-525 N\\u002fO I-5 SB\",\"Snohomish\"],[\"SR-520 @ x-lake bridge WB\",\"King\"],[\"SR-520 @ x-lake bridge EB\",\"King\"],[\"SR-167 S\\u002fO 43rd NB\",\"King\"],[\"SR-167 S\\u002fO 43rd SB\",\"King\"],[\"SR-167 N\\u002fO SR-18 NB\",\"King\"],[\"SR-167 N\\u002fO SR-18 SB\",\"King\"],[\"SR-167 S\\u002fO 15th SW NB\",\"King\"],[\"SR-167 S\\u002fO 15th SW SB\",\"King\"],[\"SR-512 W\\u002fO Meridian WB\",\"Pierce\"],[\"SR-512 W\\u002fO Meridian EB\",\"Pierce\"],[\"SR-509 @ Holden NB\",\"King\"],[\"SR-509 @ Holden SB\",\"King\"],[\"SR-99 N\\u002fO 14th NB\",\"King\"],[\"SR-99 N\\u002fO 14th SB\",\"King\"],[\"SR-99 N\\u002fO WSF NB\",\"King\"],[\"SR-99 N\\u002fO WSF SB\",\"King\"],[\"SR-99 tunnel NB\",\"King\"],[\"SR-99 tunnel SB\",\"King\"],[\"SR-599 S\\u002fO Pacific NB\",\"King\"],[\"SR-599 S\\u002fO Pacific SB\",\"King\"],[\"SR-599 @ Pacific NB\",\"King\"],[\"SR-599 @ Pacific SB\",\"King\"],[\"SR-18 @ I-5 WB\",\"King\"],[\"SR-18 @ I-5 EB\",\"King\"],[\"SR-18 W\\u002fO Auburn-Black Diamond WB\",\"King\"],[\"SR-18 W\\u002fO Auburn-Black Diamond EB\",\"King\"],[\"SR-18 E\\u002fO SR-516 WB\",\"King\"],[\"SR-18 E\\u002fO SR-516 EB\",\"King\"],[\"SR-18 E\\u002fO 256th WB\",\"King\"],[\"SR-18 E\\u002fO 256th EB\",\"King\"],[\"SR-522 N\\u002fO 195th WB\",\"King\"],[\"SR-522 N\\u002fO 195th EB\",\"King\"],[\"I-5 N\\u002fO I-5 Rev CBD NB\\u002fSB\",\"King\"],[\"I-5 @ SR-532 NB\\u002fSB\",\"Snohomish\"],[\"I-5 @ Skagit border NB\\u002fSB\",\"Snohomish\"],[\"I-90 W\\u002fO SR-18 WB\\u002fEB\",\"King\"],[\"I-90 E\\u002fO SR-18 WB\\u002fEB\",\"King\"],[\"I-90 E\\u002fO 436th WB\\u002fEB\",\"King\"],[\"I-90 @ Kittitas County WB\\u002fEB\",\"King\"],[\"I-405 N\\u002fO SR-522 NB\\u002fSB\",\"King\"],[\"SR-525 N\\u002fO SR-526 NB\\u002fSB\",\"Snohomish\"],[\"SR-525 N\\u002fO 5th NB\\u002fSB\",\"Snohomish\"],[\"SR-167 N\\u002fO Grady NB\\u002fSB\",\"King\"],[\"SR-167 W\\u002fO SR-410 NB\\u002fSB\",\"Pierce\"],[\"SR-167 E\\u002fO SR-161 NB\\u002fSB\",\"Pierce\"],[\"SR-410 E\\u002fO S Prairie WB\\u002fEB\",\"Pierce\"],[\"SR-410 E\\u002fO 244th WB\\u002fEB\",\"King\"],[\"SR-410 E\\u002fO Farman WB\\u002fEB\",\"King\"],[\"SR-410 @ Greenwater River WB\\u002fEB\",\"King\"],[\"SR-410 E\\u002fO Chinook WB\\u002fEB\",\"Pierce\"],[\"SR-410 W\\u002fO SR-123 WB\\u002fEB\",\"Pierce\"],[\"SR-410 E\\u002fO SR-123 WB\\u002fEB\",\"Pierce\"],[\"SR-512 @ I-5 WB\\u002fEB\",\"Pierce\"],[\"SR-512 W\\u002fO SR-7 WB\\u002fEB\",\"Pierce\"],[\"SR-512 S\\u002fO SR-167 WB\\u002fEB\",\"Pierce\"],[\"SR-509 E\\u002fO I-705 NB\\u002fSB\",\"Pierce\"],[\"SR-509 W\\u002fO Alexander NB\\u002fSB\",\"Pierce\"],[\"SR-509 S\\u002fO 11th NB\\u002fSB\",\"Pierce\"],[\"SR-509 N\\u002fO Hyada NB\\u002fSB\",\"Pierce\"],[\"SR-509 E\\u002fO Soundview NB\\u002fSB\",\"Pierce\"],[\"SR-509 E\\u002fO 47th NB\\u002fSB\",\"King\"],[\"SR-509 E\\u002fO 21st NB\\u002fSB\",\"King\"],[\"SR-509 W\\u002fO SR-516 NB\\u002fSB\",\"King\"],[\"SR-509 W\\u002fO Des Moines Mem NB\\u002fSB\",\"King\"],[\"SR-509 E\\u002fO 1st Ave NB\\u002fSB\",\"King\"],[\"SR-509 E\\u002fO Des Moines Mem NB\\u002fSB\",\"King\"],[\"SR-509 N\\u002fO Des Moines Mem NB\\u002fSB\",\"King\"],[\"SR-509 N\\u002fO SR-518 NB\\u002fSB\",\"King\"],[\"SR-99 @ I-5 NB\\u002fSB\",\"Pierce\"],[\"SR-99 E\\u002fO 54th NB\\u002fSB\",\"Pierce\"],[\"SR-99 S\\u002fO Porter NB\\u002fSB\",\"Pierce\"],[\"SR-99 S\\u002fO SR-18 NB\\u002fSB\",\"King\"],[\"SR-99 N\\u002fO SR-18 NB\\u002fSB\",\"King\"],[\"SR-99 N\\u002fO 320th NB\\u002fSB\",\"King\"],[\"SR-99 N\\u002fO 188th NB\\u002fSB\",\"King\"],[\"SR-99 @ WSF NB\\u002fSB\",\"King\"],[\"SR-99 @ Aurora Bridge NB\\u002fSB\",\"King\"],[\"SR-99 N\\u002fO 38th NB\\u002fSB\",\"King\"],[\"SR-99 S\\u002fO Roosevelt NB\\u002fSB\",\"King\"],[\"SR-99 E\\u002fO Evergreen NB\\u002fSB\",\"Snohomish\"],[\"SR-599 N\\u002fO I-5 NB\\u002fSB\",\"King\"],[\"SR-518 @ SR-509 WB\\u002fEB\",\"King\"],[\"SR-518 E\\u002fO SR-509 WB\\u002fEB\",\"King\"],[\"SR-18 E\\u002fO SR-99 WB\\u002fEB\",\"King\"],[\"SR-18 N\\u002fO 304th WB\\u002fEB\",\"King\"],[\"SR-18 S\\u002fO I-90 WB\\u002fEB\",\"King\"],[\"SR-16 @ TNB NB\\u002fSB\",\"Pierce\"],[\"SR-16 @ Purdy Dr NB\\u002fSB\",\"Pierce\"],[\"SR-16  N\\u002fO SR-302 NB\\u002fSB\",\"Kitsap\"],[\"SR-16 N\\u002fO SR-160 NB\\u002fSB\",\"Kitsap\"],[\"SR-16 N\\u002fO Tremont NB\\u002fSB\",\"Kitsap\"],[\"SR-16 S\\u002fO SR-3 NB\",\"Kitsap\"],[\"SR-202 @ SR-522 NB\\u002fSB\",\"King\"],[\"SR-202 N\\u002fO 145th NB\\u002fSB\",\"King\"],[\"SR-202 @ Sammamish River Br NB\\u002fSB\",\"King\"],[\"SR-202 S\\u002fO 144th NB\\u002fSB\",\"King\"],[\"SR-202 N\\u002fO Redmond Way NB\\u002fSB\",\"King\"],[\"SR-202 E\\u002fO 164th NB\\u002fSB\",\"King\"],[\"SR-202 E\\u002fO SR-520 NB\\u002fSB\",\"King\"],[\"SR-202 E\\u002fO E Lk Samm NB\\u002fSB\",\"King\"],[\"SR-202 E\\u002fO Sahalee NB\\u002fSB\",\"King\"],[\"SR-202 E\\u002fO 236th NB\\u002fSB\",\"King\"],[\"SR-202 S\\u002fO Ames Lake NB\\u002fSB\",\"King\"],[\"SR-202 S\\u002fO Duthie Hill NB\\u002fSB\",\"King\"],[\"SR-202 E\\u002fO SR-203 NB\\u002fSB\",\"King\"],[\"SR-202 N\\u002fO I-90 NB\\u002fSB\",\"King\"],[\"SR-526 W\\u002fO Paine Field Blvd WB\\u002fEB\",\"Snohomish\"],[\"SR-526 E\\u002fO Paine Field Blvd WB\\u002fEB\",\"Snohomish\"],[\"SR-9 @ SR-522 NB\\u002fSB\",\"Snohomish\"],[\"SR-9 N\\u002fO SR-2 NB\\u002fSB\",\"Snohomish\"],[\"SR-9 N\\u002fO SR-204 NB\\u002fSB\",\"Snohomish\"],[\"SR-9 N\\u002fO SR-92 NB\\u002fSB\",\"Snohomish\"],[\"SR-9 N\\u002fO 132nd NB\\u002fSB\",\"Snohomish\"],[\"SR-9 N\\u002fO SR-531 NB\\u002fSB\",\"Snohomish\"],[\"SR-9 S\\u002fO 67th NB\\u002fSB\",\"Snohomish\"],[\"SR-9 N\\u002fO Kackman NB\\u002fSB\",\"Snohomish\"],[\"SR-9 N\\u002fO Stanwood-Bryant NB\\u002fSB\",\"Snohomish\"],[\"SR-532 @ Island County WB\\u002fEB\",\"Snohomish\"],[\"SR-532 W\\u002fO 28th WB\\u002fEB\",\"Snohomish\"],[\"SR-522 N\\u002fO 145th NB\\u002fSB\",\"King\"],[\"SR-104 @ Hood Canal Bridge WB\\u002fEB\",\"Kitsap\"],[\"SR-104 E\\u002fO Hood Canal Bridge WB\\u002fEB\",\"Kitsap\"],[\"SR-104 N\\u002fO Pt Gamble Rd WB\\u002fEB\",\"Kitsap\"],[\"SR-104 E\\u002fO SR-307 WB\\u002fEB\",\"Kitsap\"],[\"SR-104 E\\u002fO Hansville WB\\u002fEB\",\"Kitsap\"],[\"SR-104 @ Ferry Loading Edm WB\\u002fEB\",\"Snohomish\"],[\"SR-104 N\\u002fO Pine WB\\u002fEB\",\"Snohomish\"],[\"SR-104 E\\u002fO 5th WB\\u002fEB\",\"Snohomish\"],[\"SR-104 W\\u002fO 19th WB\\u002fEB\",\"King\"],[\"SR-160 @ SR-16 WB\\u002fEB\",\"Kitsap\"],[\"SR-160 E\\u002fO Long Lake Rd WB\\u002fEB\",\"Kitsap\"],[\"SR-160 W\\u002fO Banner WB\\u002fEB\",\"Kitsap\"],[\"SR-160 E\\u002fO Peterson WB\\u002fEB\",\"Kitsap\"],[\"SR-160 S\\u002fO Southworth Dr WB\\u002fEB\",\"Kitsap\"],[\"SR-166 E\\u002fO SR-16 WB\\u002fEB\",\"Kitsap\"],[\"SR-3 E\\u002fO Sunset Way NB\\u002fSB\",\"Kitsap\"],[\"SR-3 N\\u002fO SR-305 NB\\u002fSB\",\"Kitsap\"],[\"SR-3 S\\u002fO Newberry Hill Rd NB\\u002fSB\",\"Kitsap\"],[\"SR-3 @ SR-304 NB\\u002fSB\",\"Kitsap\"],[\"SR-3 NE of SR-16 NB\\u002fSB\",\"Kitsap\"],[\"SR-3 W\\u002fO Lake Flora Rd NB\\u002fSB\",\"Kitsap\"],[\"SR-302 N\\u002fO 144th WB\\u002fEB\",\"Pierce\"],[\"SR-302 S\\u002fO 144th WB\\u002fEB\",\"Pierce\"],[\"SR-302 W\\u002fO Key Peninsula Hwy WB\\u002fEB\",\"Pierce\"],[\"SR-302 W\\u002fO Wright-Bliss WB\\u002fEB (E\\u002fO?)\",\"Pierce\"],[\"SR-303 E\\u002fO SR-3 NB\\u002fSB\",\"Kitsap\"],[\"SR-303 N\\u002fO 11th St NB\\u002fSB\",\"Kitsap\"],[\"SR-303 N\\u002fO SR-304 NB\\u002fSB\",\"Kitsap\"],[\"SR-304 E\\u002fO SR-3 WB\\u002fEB\",\"Kitsap\"],[\"SR-304 W\\u002fO Naval WB\\u002fEB\",\"Kitsap\"],[\"SR-305 W\\u002fO SR-307 WB\\u002fEB\",\"Kitsap\"],[\"SR-305 W\\u002fO Suquamish Way WB\\u002fEB\",\"Kitsap\"],[\"SR-305 N\\u002fO Day Rd WB\\u002fEB\",\"Kitsap\"],[\"SR-305 N\\u002fO High School Rd WB\\u002fEB\",\"Kitsap\"],[\"SR-305 S\\u002fO Winslow Way WB\\u002fEB\",\"Kitsap\"],[\"SR-305 @ Ferry Ramp WB\\u002fEB\",\"Kitsap\"],[\"SR-307 W\\u002fO SR-104 NB\\u002fSB\",\"Kitsap\"],[\"SR-307 N\\u002fO Gunderson NB\\u002fSB\",\"Kitsap\"],[\"SR-307 S\\u002fO Gunderson NB\\u002fSB\",\"Kitsap\"],[\"SR-307 N\\u002fO SR-305 NB\\u002fSB\",\"Kitsap\"],[\"SR-308 @ SR-3 WB\\u002fEB\",\"Kitsap\"],[\"SR-308 E\\u002fO SR-3 WB\\u002fEB\",\"Kitsap\"],[\"SR-308 E\\u002fO Silverdale Way WB\\u002fEB\",\"Kitsap\"],[\"SR-308 W\\u002fO Brownsville Hwy WB\\u002fEB\",\"Kitsap\"],[\"SR-310 @ SR-3 WB\\u002fEB\",\"Kitsap\"],[\"SR-310 W\\u002fO Callow WB\\u002fEB\",\"Kitsap\"],[\"SR-516 E\\u002fO SR-509 WB\\u002fEB\",\"King\"],[\"SR-516 W\\u002fO I-5 WB\\u002fEB\",\"King\"],[\"SR-516 E\\u002fO Meeker WB\\u002fEB\",\"King\"],[\"SR-516 W\\u002fO SR-167 WB\\u002fEB\",\"King\"],[\"SR-516 E\\u002fO SR-167 WB\\u002fEB\",\"King\"],[\"SR-516 E\\u002fO SR-18 WB\\u002fEB\",\"King\"],[\"SR-161 E\\u002fO SR-7 NB\\u002fSB\",\"Pierce\"],[\"SR-161 N\\u002fO Center NB\\u002fSB\",\"Pierce\"],[\"SR-161 N\\u002fO Eatonville Cutoff NB\\u002fSB\",\"Pierce\"],[\"SR-161 N\\u002fO 304th NB\\u002fSB\",\"Pierce\"],[\"SR-161 N\\u002fO 264th NB\\u002fSB\",\"Pierce\"],[\"SR-161 S\\u002fO 224th NB\\u002fSB\",\"Pierce\"],[\"SR-161 N\\u002fO 224th NB\\u002fSB\",\"Pierce\"],[\"SR-161 N\\u002fO 200th NB\\u002fSB\",\"Pierce\"],[\"SR-161 S\\u002fO SR-167 SB off-ramp NB\\u002fSB\",\"Pierce\"],[\"SR-161 S\\u002fO Valley NB\\u002fSB\",\"Pierce\"],[\"SR-161 N\\u002fO Valley NB\\u002fSB\",\"Pierce\"],[\"SR-161 N\\u002fO 8th NB\\u002fSB\",\"Pierce\"],[\"SR-900 S\\u002fO NB I-5 on-ramp @ Boe Acc WB\\u002fEB\",\"King\"],[\"SR-900 E\\u002fO 68th WB\\u002fEB\",\"King\"],[\"SR-900 @ I-405 WB\\u002fEB\",\"King\"],[\"SR-900 E\\u002fO 148th WB\\u002fEB\",\"King\"],[\"SR-900 N\\u002fO Talus WB\\u002fEB\",\"King\"],[\"SR-900 N\\u002fO Newport WB\\u002fEB\",\"King\"],[\"SR-524 W\\u002fO 3rd WB\\u002fEB\",\"Snohomish\"],[\"SR-524 S\\u002fO Main WB\\u002fEB\",\"Snohomish\"],[\"SR-524 N\\u002fO Main WB\\u002fEB\",\"Snohomish\"],[\"SR-524 E\\u002fO 68th WB\\u002fEB\",\"Snohomish\"],[\"SR-524 E\\u002fO 39th WB\\u002fEB\",\"Snohomish\"],[\"SR-7 @ Thurston County NB\\u002fSB\",\"Pierce\"],[\"SR-7 W\\u002fO Alder Cutoff NB\\u002fSB\",\"Pierce\"],[\"SR-7 N\\u002fO Eatonville Hwy NB\\u002fSB\",\"Pierce\"],[\"SR-7 N\\u002fO Silver Lake NB\\u002fSB\",\"Pierce\"],[\"SR-7 S\\u002fO SR-702 NB\\u002fSB\",\"Pierce\"],[\"SR-7 N\\u002fO 304th NB\\u002fSB\",\"Pierce\"],[\"SR-7 N\\u002fO 260th NB\\u002fSB\",\"Pierce\"],[\"SR-7 S\\u002fO 224th NB\\u002fSB\",\"Pierce\"],[\"SR-7 N\\u002fO 224th NB\\u002fSB\",\"Pierce\"],[\"SR-7 N\\u002fO 38th NB\\u002fSB\",\"Pierce\"],[\"SR-2 E\\u002fO I-5 WB\\u002fEB\",\"Snohomish\"],[\"SR-2 S\\u002fO SR-204 WB\\u002fEB\",\"Snohomish\"],[\"SR-2 E\\u002fO Main WB\\u002fEB\",\"Snohomish\"],[\"SR-2 E\\u002fO Rice WB\\u002fEB\",\"Snohomish\"],[\"SR-2 E\\u002fO 10th (Gold Bar) WB\\u002fEB\",\"Snohomish\"],[\"SR-2 W\\u002fO Index-Galena WB\\u002fEB\",\"Snohomish\"],[\"SR-2 E\\u002fO Index-Galena WB\\u002fEB\",\"Snohomish\"],[\"SR-2 E\\u002fO Skykomish WB\\u002fEB\",\"King\"],[\"SR-527 N\\u002fO I-405 NB\\u002fSB\",\"Snohomish\"],[\"SR-527 N\\u002fO 196th NB\\u002fSB\",\"Snohomish\"],[\"SR-527 N\\u002fO Dumas NB\\u002fSB\",\"Snohomish\"],[\"SR-527 N\\u002fO 100th NB\\u002fSB\",\"Snohomish\"],[\"SR-513 S\\u002fO 44th NB\\u002fSB\",\"King\"],[\"SR-169 N\\u002fO SR-164 NB\\u002fSB\",\"King\"],[\"SR-169 S\\u002fO Lawson NB\\u002fSB\",\"King\"],[\"SR-169 S\\u002fO 280th NB\\u002fSB\",\"King\"],[\"SR-169 N\\u002fO 276th NB\\u002fSB\",\"King\"],[\"SR-169 N\\u002fO 231st NB\\u002fSB\",\"King\"],[\"SR-169 N\\u002fO 231st NB\\u002fSB\",\"King\"],[\"SR-169 W\\u002fO 140th NB\\u002fSB\",\"King\"],[\"SR-515 N\\u002fO SR-516 NB\\u002fSB\",\"King\"],[\"SR-515 N\\u002fO 108th NB\\u002fSB\",\"King\"],[\"SR-515 N\\u002fO Puget NB\\u002fSB\",\"King\"],[\"SR-181 N\\u002fO SR-516 NB\\u002fSB\",\"King\"],[\"SR-181 S\\u002fO James NB\\u002fSB\",\"King\"],[\"SR-181 N\\u002fO James NB\\u002fSB\",\"King\"],[\"SR-181 N\\u002fO 228th NB\\u002fSB\",\"King\"],[\"SR-181 N\\u002fO 180th NB\\u002fSB\",\"King\"],[\"SR-181 S\\u002fO Longacres NB\\u002fSB\",\"King\"],[\"SR-523 E\\u002fO Lenora WB\\u002fEB\",\"King\"],[\"SR-529 @ I-5 (Evt) NB\\u002fSB\",\"Snohomish\"],[\"SR-529 S\\u002fO Everett NB\\u002fSB\",\"Snohomish\"],[\"SR-529 W\\u002fO Maple NB\\u002fSB\",\"Snohomish\"],[\"SR-529 N\\u002fO Everett NB\\u002fSB\",\"Snohomish\"],[\"SR-529 N\\u002fO Broadway NB\\u002fSB\",\"Snohomish\"],[\"SR-96 @ I-5 WB\\u002fEB\",\"Snohomish\"],[\"SR-96 N\\u002fO 132nd WB\\u002fEB\",\"Snohomish\"],[\"SR-96 E\\u002fO Seattle Hill WB\\u002fEB\",\"Snohomish\"],[\"SR-164 @ SR-18 WB\\u002fEB\",\"King\"],[\"SR-164 S\\u002fO 400th WB\\u002fEB\",\"King\"],[\"SR-528 @ I-5 WB\\u002fEB\",\"Snohomish\"],[\"SR-528 E\\u002fO SR-529 WB\\u002fEB\",\"Snohomish\"],[\"SR-531 N\\u002fO Rose WB\\u002fEB\",\"Snohomish\"],[\"SR-531 E\\u002fO Lk Goodwin WB\\u002fEB\",\"Snohomish\"],[\"SR-531 E\\u002fO 27th WB\\u002fEB\",\"Snohomish\"],[\"SR-531 E\\u002fO I-5 WB\\u002fEB\",\"Snohomish\"],[\"SR-531 E\\u002fO 43rd WB\\u002fEB\",\"Snohomish\"],[\"SR-531 W\\u002fO 67th WB\\u002fEB\",\"Snohomish\"],[\"SR-531 E\\u002fO 67th WB\\u002fEB\",\"Snohomish\"],[\"SR-162 @ SR-410 WB\\u002fEB\",\"Pierce\"],[\"SR-162 S\\u002fO Pioneer WB\\u002fEB\",\"Pierce\"],[\"SR-162 E\\u002fO Orville WB\\u002fEB\",\"Pierce\"],[\"SR-162 E\\u002fO S Prairie WB\\u002fEB\",\"Pierce\"],[\"SR-162 N\\u002fO SR-165 WB\\u002fEB\",\"Pierce\"],[\"SR-163 @ SR-16 NB\\u002fSB\",\"Pierce\"],[\"SR-163 N\\u002fO 37th NB\\u002fSB\",\"Pierce\"],[\"SR-163 N\\u002fO Park NB\\u002fSB\",\"Pierce\"],[\"SR-530 @ I-5 WB\\u002fEB\",\"Snohomish\"],[\"SR-530 E\\u002fO Smokey Pt WB\\u002fEB\",\"Snohomish\"],[\"SR-530 N\\u002fO 211th WB\\u002fEB\",\"Snohomish\"],[\"SR-530 E\\u002fO SR-9 WB\\u002fEB\",\"Snohomish\"],[\"SR-530 S\\u002fO Arlington Hts WB\\u002fEB\",\"Snohomish\"],[\"SR-530 N\\u002fO Arlington Hts WB\\u002fEB\",\"Snohomish\"],[\"SR-530 W\\u002fO Jim Creek WB\\u002fEB\",\"Snohomish\"],[\"SR-530 W\\u002fO Ramstad WB\\u002fEB\",\"Snohomish\"],[\"SR-530 @ Skagit County WB\\u002fEB\",\"Snohomish\"],[\"SR-203 N\\u002fO 203rd NB\\u002fSB\",\"Snohomish\"],[\"SR-203 N\\u002fO Cherry Valley NB\\u002fSB\",\"King\"],[\"SR-203 N\\u002fO 124th NB\\u002fSB\",\"King\"],[\"SR-203 W\\u002fO Stillwater Hill NB\\u002fSB\",\"King\"],[\"SR-203 N\\u002fO Carnation Farm NB\\u002fSB\",\"King\"],[\"SR-203 N\\u002fO Tolt Hill NB\\u002fSB\",\"King\"],[\"SR-203 N\\u002fO SR-202 NB\\u002fSB\",\"King\"],[\"SR-507 S\\u002fO SR-7 NB\\u002fSB\",\"Pierce\"],[\"SR-507 S\\u002fO E Gate NB\\u002fSB\",\"Pierce\"],[\"SR-507 S\\u002fO 288th NB\\u002fSB\",\"Pierce\"],[\"SR-507 N\\u002fO 346th NB\\u002fSB\",\"Pierce\"],[\"SR-204 @ SR-2 NB\\u002fSB\",\"Snohomish\"],[\"SR-204 N\\u002fO 20th NB\\u002fSB\",\"Snohomish\"],[\"SR-204 N\\u002fO SR-2 NB\\u002fSB\",\"Snohomish\"],[\"SR-519 W\\u002fO 4th NB\\u002fSB\",\"King\"],[\"SR-92 E\\u002fO Lake WB\\u002fEB\",\"Snohomish\"],[\"SR-92 E\\u002fO Callow WB\\u002fEB\",\"Snohomish\"],[\"SR-92 E\\u002fO Quarry WB\\u002fEB\",\"Snohomish\"],[\"SR-92 W\\u002fO Mountain Loop WB\\u002fEB\",\"Snohomish\"],[\"SR-702 E\\u002fO SR-507 WB\\u002fEB\",\"Pierce\"],[\"SR-702 E\\u002fO Harts Lake WB\\u002fEB\",\"Pierce\"],[\"SR-702 E\\u002fO 40th WB\\u002fEB\",\"Pierce\"],[\"SR-702 W\\u002fO 8th WB\\u002fEB\",\"Pierce\"],[\"SR-702 E\\u002fO 8th WB\\u002fEB\",\"Pierce\"],[\"SR-165 E\\u002fO SR-162 NB\\u002fSB\",\"Pierce\"],[\"SR-165 N\\u002fO Davis NB\\u002fSB\",\"Pierce\"],[\"SR-165 N\\u002fO Wilkeson-Carbonado NB\\u002fSB\",\"Pierce\"],[\"SR-704 E\\u002fO Spanaway Loop WB\\u002fEB\",\"Pierce\"],[\"SR-706 E\\u002fO SR-7 WB\\u002fEB\",\"Pierce\"],[\"SR-706 E\\u002fO Kernahan WB\\u002fEB\",\"Pierce\"]],\"hovertemplate\":\"Observed=%{x}\\u003cbr\\u003eModel=%{y}\\u003cbr\\u003elocation=%{customdata[0]}\\u003cbr\\u003eCounty=%{customdata[1]}\\u003cextra\\u003e\\u003c\\u002fextra\\u003e\",\"legendgroup\":\"\",\"marker\":{\"color\":\"#91268F\",\"symbol\":\"circle\"},\"mode\":\"markers\",\"name\":\"\",\"orientation\":\"v\",\"showlegend\":false,\"x\":{\"dtype\":\"i2\",\"bdata\":\"XglQCcQJHQobCeMIMArDCZIS1RIJFjYW5AYDDzYK3gz6BnUHGgosCjULSAuBChAL9QhgCo8IywjABskGhQL1BX0FeAVkBTEFFgSmBjoKjA62CwMGVAbgBFMDBgQIBOQIgAllCW8J2AroCfgH+AcOBxYHUgN2Av8EiwQrBMgDWwPQAvcESgMWAs0DTQUPBXIDZQMeBAcEFAaMBpUJognICWcGCAnnBCwECw2lApIBBwXmFfMKCwXfA8sBQwBBADcAIAAECzkNyA\\u002fqBOEKugBBAEYAhQC0AZcC+wBlAKgBrAWSBQMFKgafBPgEOwI0A24MGQYUCc4F\\u002fQOzAdwKDQPPAzAFQAn1BCcMvwfQCJ8HeQjMB6sDOwEHAaECFQI8A6EGbQRIA78BHQJaAaYBTwGpAWYDmwd8Bd0E0gYeA90BXwIEAoEAJwTjArkEyAK0AMsAGQIrATkB4ACUAeYBCwL1AYMB6wBhAEUBsgR5Bl8J+wdvDtAD5gGFA\\u002fAApADZA8sDtQF8A6kCogTJAoQCBgIXAeUALQMQAsQC7AKqAOUAHAH3AJgDCQETAZYEhgP7BhAEBwQYAMQBOQFKAngC+wGdA68EKwSEB+ECQQP3A6YB\\u002fQLPACgDuAI3AJYAswDgAUYB7QBnAMsA7wCCAdECywOiBb0DlAGDCiQHTAPJAv4BSQHWALAA3AVSA60CHgPMAp4BPwJkA0cC1QZVBDUEPgOVAYYDUAdHBQgGzQarBpUIpQJ5AS4BnwEbAcoENwWCASoBWwOPAiEDoQJLALIBrgLKBFkGzwMuAqIC9APCAmwBZALHATMBoADqApoDPwPCATEC5AGqATABpwClAocCIQPIAecBKQINAg4F5wEhAqECEgGSARUECQSyBSgERAFIAUIClQGcAY4BTAGaAdoAfQAPA5YATQA=\"},\"xaxis\":\"x\",\"y\":{\"dtype\":\"i2\",\"bdata\":\"AAAAAKYCwgKdArcCVwQjBLsIUwl7DG0N2gUkFNEUZBS8GMMXbxNvE4AT7BGOFP8UMBFnEIcIWQiuAosCkAj0EJUScgsEC3IHswO1CqUYHxP9EosTcxOADNwL6RRjFScMBQ0LDk0PVAt6CwYJJQhBCHcIjQOZAoYKKQwbCVwJsgRgBO4DXgMmB28DWwXoBJECZALMApsCsAVnBTkonAAAAO8GBAZ1AAAA9iQmAn4AZQhaG08FqwQfAl4ATwAAAAAAAAAGDi0OWxR\\u002fEJIQeAAbABsAOgBoAawASQArADMAeBCvELQCCgQJBkUFrwMYAzkDUhCkD2wJBwMKATEJAQf\\u002fBQsH\\u002fwcfA+0U3ApuC+gJxAvwBtoCbAKnAfQDnAHdAZcIjwU3Ah4CpQHpAFUBAwNUAd0IqwTfBWkFvQS4A5UCNAFHAEkAAACRAukHAAAnAB8ABQHAAOEAywBFAQECRQLiALUAzwBkABYCSAA+AbQJ3AjgDgAARgEPAYkAKQDjA28EBQJzBkQEggbmAzQErAA6ADoAMgF3AY0CkgKDAHAAuABzAFECJgFrANMJ+Ay7D84JFAUFACUAyQBWAVEB\\u002fwEdAtYDYgIBBIsBqgOvBqEBiAauAc4CfAL0AFkAHQHYArsBAAAWAB4AJwBAAAgBNQFWAcAB7ACeDWsIEwOfAZgAmABrAAAAQg9qBHAC1wQYBoMAnQGdAZUClQN1A4cGwgFbAsIE0AltBz0KmAsiCYoJUQNCBCoEnQMJAYMD8Ae\\u002fAVEA6AMrAqYClQIAAHcAGQMGBqkFTwKLAlkCbAMnAbcAIAFeA1QBHAF4Ac4C1gH4AfABqAF7AUMBAACuAboB5gHgAO0AcwHMAAUBmAAkACcA3gCtAVUFiAcBAy0C+wDHAA4ADgCAAIAAVgDdAFQAJgCMAgMABAA=\"},\"yaxis\":\"y\",\"type\":\"scatter\",\"line\":{\"color\":\"Grey\",\"width\":2}},{\"hovertemplate\":\"Observed=%{x}\\u003cbr\\u003eModel=%{y}\\u003cextra\\u003e\\u003c\\u002fextra\\u003e\",\"legendgroup\":\"\",\"line\":{\"color\":\"Grey\",\"dash\":\"solid\",\"width\":2},\"marker\":{\"symbol\":\"circle\"},\"mode\":\"lines\",\"name\":\"\",\"orientation\":\"v\",\"showlegend\":false,\"x\":{\"dtype\":\"f8\",\"bdata\":\"AAAAAAAAAABi3s6QmLdMQGLezpCYt1xAyiabbLKJZUBi3s6QmLdsQP1KgVq\\u002f8nFAyiabbLKJdUCWArV+pSB5QGLezpCYt3xAF1100UUngED9SoFav\\u002fKBQOM4juM4voNAyiabbLKJhUCwFKj1K1WHQJYCtX6lIIlAfPDBBx\\u002fsikBi3s6QmLeMQEjM2xkSg45AF1100UUnkEAK1PqVAg2RQP1KgVq\\u002f8pFA8MEHH3zYkkDjOI7jOL6TQNavFKj1o5RAyiabbLKJlUC9nSExb2+WQLAUqPUrVZdAo4suuug6mECWArV+pSCZQIl5O0NiBppAfPDBBx\\u002fsmkBvZ0jM29GbQGLezpCYt5xAVVVVVVWdnUBIzNsZEoOeQDtDYt7OaJ9AF1100UUnoECRmLczJJqgQArU+pUCDaFAhA8++OB\\u002foUD9SoFav\\u002fKhQHeGxLydZaJA8MEHH3zYokBq\\u002fUqBWkujQOM4juM4vqNAXXTRRRcxpEDWrxSo9aOkQFDrVwrUFqVAyiabbLKJpUBDYt7OkPylQL2dITFvb6ZANtlkk03ipkCwFKj1K1WnQClQ61cKyKdAo4suuug6qEAcx3Ecx62oQJYCtX6lIKlADz744IOTqUCJeTtDYgaqQAK1fqVAeapAfPDBBx\\u002fsqkD1KwVq\\u002fV6rQG9nSMzb0atA6KKLLrpErEBi3s6QmLesQNwZEvN2Kq1AVVVVVVWdrUDPkJi3MxCuQEjM2xkSg65AwgcffPD1rkA7Q2LezmivQLV+pUCt269AF1100UUnsEDU+pUCtWCwQJGYtzMkmrBATTbZZJPTsEAK1PqVAg2xQMdxHMdxRrFAhA8++OB\\u002fsUBArV8pULmxQP1KgVq\\u002f8rFAuuiiiy4sskB3hsS8nWWyQDQk5u0Mn7JA8MEHH3zYskCtXylQ6xGzQGr9SoFaS7NAJ5tsssmEs0DjOI7jOL6zQKDWrxSo97NAXXTRRRcxtEAaEvN2hmq0QNavFKj1o7RAk0022WTdtEBQ61cK1Ba1QA2JeTtDULVAyiabbLKJtUCGxLydIcO1QENi3s6Q\\u002fLVAAAAAAAA2tkA=\"},\"xaxis\":\"x\",\"y\":{\"dtype\":\"f8\",\"bdata\":\"QIfvHORsR0DSZO+8hU9cQAKDs7VMdGZAnFPvjNbAbkAakhUysIZzQGd6sx31rHdAtGJRCTrTe0AAS+\\u002f0fvl\\u002fQKaZRvDhD4JAzI0VZgQjhEDzgeTbJjaGQBl2s1FJSYhAQGqCx2tcikBmXlE9jm+MQIxSILOwgo5AWaN3lOlKkEBsHV\\u002fPelSRQH+XRgoMXpJAkhEuRZ1nk0ClixWALnGUQLkF\\u002fbq\\u002fepVAzH\\u002fk9VCElkDf+csw4o2XQPJzs2tzl5hABu6apgShmUAZaILhlaqaQCziaRwntJtAP1xRV7i9nEBS1jiSScedQGVQIM3a0J5AeMoHCGzan0BGoneh\\u002fnGgQE9f6z7H9qBAWRxf3I97oUBi2dJ5WACiQGyWRhchhaJAdVO6tOkJo0CAEC5Sso6jQIjNoe96E6RAk4oVjUOYpECcR4kqDB2lQKYE\\u002fcfUoaVAr8FwZZ0mpkC5fuQCZqumQMI7WKAuMKdAzPjLPfe0p0DVtT\\u002fbvzmoQN9ys3iIvqhA6S8nFlFDqUDy7JqzGcipQPypDlHiTKpABWeC7qrRqkAPJPaLc1arQBjhaSk826tAIp7dxgRgrEArW1FkzeSsQDUYxQGWaa1APtU4n17urUBIkqw8J3OuQFFPINrv965AWwyUd7h8r0Cy5IOKwACwQDjDPdkkQ7BAvKH3J4mFsEBAgLF27cewQMZea8VRCrFASj0lFLZMsUDQG99iGo+xQFT6mLF+0bFA2NhSAOMTskBetwxPR1ayQOKVxp2rmLJAZnSA7A\\u002fbskDsUjo7dB2zQHIx9InYX7NA9A+u2Dyis0B67mcnoeSzQADNIXYFJ7RAhKvbxGlptEAIipUTzqu0QI5oT2Iy7rRAEkcJsZYwtUCYJcP\\u002f+nK1QBwEfU5ftbVAoOI2ncP3tUAmwfDrJzq2QKqfqjqMfLZAMH5kifC+tkC0XB7YVAG3QDg72Ca5Q7dAvhmSdR2Gt0BC+EvEgci3QMbWBRPmCrhATLW\\u002fYUpNuEDQk3mwro+4QFZyM\\u002f8S0rhA2lDtTXcUuUBeL6ec21a5QOQNYes\\u002fmblAaOwaOqTbuUA=\"},\"yaxis\":\"y\",\"type\":\"scatter\"}],                        {\"template\":{\"data\":{\"barpolar\":[{\"marker\":{\"line\":{\"color\":\"white\",\"width\":0.5},\"pattern\":{\"fillmode\":\"overlay\",\"size\":10,\"solidity\":0.2}},\"type\":\"barpolar\"}],\"bar\":[{\"error_x\":{\"color\":\"rgb(36,36,36)\"},\"error_y\":{\"color\":\"rgb(36,36,36)\"},\"marker\":{\"line\":{\"color\":\"white\",\"width\":0.5},\"pattern\":{\"fillmode\":\"overlay\",\"size\":10,\"solidity\":0.2}},\"type\":\"bar\"}],\"carpet\":[{\"aaxis\":{\"endlinecolor\":\"rgb(36,36,36)\",\"gridcolor\":\"white\",\"linecolor\":\"white\",\"minorgridcolor\":\"white\",\"startlinecolor\":\"rgb(36,36,36)\"},\"baxis\":{\"endlinecolor\":\"rgb(36,36,36)\",\"gridcolor\":\"white\",\"linecolor\":\"white\",\"minorgridcolor\":\"white\",\"startlinecolor\":\"rgb(36,36,36)\"},\"type\":\"carpet\"}],\"choropleth\":[{\"colorbar\":{\"outlinewidth\":1,\"tickcolor\":\"rgb(36,36,36)\",\"ticks\":\"outside\"},\"type\":\"choropleth\"}],\"contourcarpet\":[{\"colorbar\":{\"outlinewidth\":1,\"tickcolor\":\"rgb(36,36,36)\",\"ticks\":\"outside\"},\"type\":\"contourcarpet\"}],\"contour\":[{\"colorbar\":{\"outlinewidth\":1,\"tickcolor\":\"rgb(36,36,36)\",\"ticks\":\"outside\"},\"colorscale\":[[0.0,\"#440154\"],[0.1111111111111111,\"#482878\"],[0.2222222222222222,\"#3e4989\"],[0.3333333333333333,\"#31688e\"],[0.4444444444444444,\"#26828e\"],[0.5555555555555556,\"#1f9e89\"],[0.6666666666666666,\"#35b779\"],[0.7777777777777778,\"#6ece58\"],[0.8888888888888888,\"#b5de2b\"],[1.0,\"#fde725\"]],\"type\":\"contour\"}],\"heatmap\":[{\"colorbar\":{\"outlinewidth\":1,\"tickcolor\":\"rgb(36,36,36)\",\"ticks\":\"outside\"},\"colorscale\":[[0.0,\"#440154\"],[0.1111111111111111,\"#482878\"],[0.2222222222222222,\"#3e4989\"],[0.3333333333333333,\"#31688e\"],[0.4444444444444444,\"#26828e\"],[0.5555555555555556,\"#1f9e89\"],[0.6666666666666666,\"#35b779\"],[0.7777777777777778,\"#6ece58\"],[0.8888888888888888,\"#b5de2b\"],[1.0,\"#fde725\"]],\"type\":\"heatmap\"}],\"histogram2dcontour\":[{\"colorbar\":{\"outlinewidth\":1,\"tickcolor\":\"rgb(36,36,36)\",\"ticks\":\"outside\"},\"colorscale\":[[0.0,\"#440154\"],[0.1111111111111111,\"#482878\"],[0.2222222222222222,\"#3e4989\"],[0.3333333333333333,\"#31688e\"],[0.4444444444444444,\"#26828e\"],[0.5555555555555556,\"#1f9e89\"],[0.6666666666666666,\"#35b779\"],[0.7777777777777778,\"#6ece58\"],[0.8888888888888888,\"#b5de2b\"],[1.0,\"#fde725\"]],\"type\":\"histogram2dcontour\"}],\"histogram2d\":[{\"colorbar\":{\"outlinewidth\":1,\"tickcolor\":\"rgb(36,36,36)\",\"ticks\":\"outside\"},\"colorscale\":[[0.0,\"#440154\"],[0.1111111111111111,\"#482878\"],[0.2222222222222222,\"#3e4989\"],[0.3333333333333333,\"#31688e\"],[0.4444444444444444,\"#26828e\"],[0.5555555555555556,\"#1f9e89\"],[0.6666666666666666,\"#35b779\"],[0.7777777777777778,\"#6ece58\"],[0.8888888888888888,\"#b5de2b\"],[1.0,\"#fde725\"]],\"type\":\"histogram2d\"}],\"histogram\":[{\"marker\":{\"line\":{\"color\":\"white\",\"width\":0.6}},\"type\":\"histogram\"}],\"mesh3d\":[{\"colorbar\":{\"outlinewidth\":1,\"tickcolor\":\"rgb(36,36,36)\",\"ticks\":\"outside\"},\"type\":\"mesh3d\"}],\"parcoords\":[{\"line\":{\"colorbar\":{\"outlinewidth\":1,\"tickcolor\":\"rgb(36,36,36)\",\"ticks\":\"outside\"}},\"type\":\"parcoords\"}],\"pie\":[{\"automargin\":true,\"type\":\"pie\"}],\"scatter3d\":[{\"line\":{\"colorbar\":{\"outlinewidth\":1,\"tickcolor\":\"rgb(36,36,36)\",\"ticks\":\"outside\"}},\"marker\":{\"colorbar\":{\"outlinewidth\":1,\"tickcolor\":\"rgb(36,36,36)\",\"ticks\":\"outside\"}},\"type\":\"scatter3d\"}],\"scattercarpet\":[{\"marker\":{\"colorbar\":{\"outlinewidth\":1,\"tickcolor\":\"rgb(36,36,36)\",\"ticks\":\"outside\"}},\"type\":\"scattercarpet\"}],\"scattergeo\":[{\"marker\":{\"colorbar\":{\"outlinewidth\":1,\"tickcolor\":\"rgb(36,36,36)\",\"ticks\":\"outside\"}},\"type\":\"scattergeo\"}],\"scattergl\":[{\"marker\":{\"colorbar\":{\"outlinewidth\":1,\"tickcolor\":\"rgb(36,36,36)\",\"ticks\":\"outside\"}},\"type\":\"scattergl\"}],\"scattermapbox\":[{\"marker\":{\"colorbar\":{\"outlinewidth\":1,\"tickcolor\":\"rgb(36,36,36)\",\"ticks\":\"outside\"}},\"type\":\"scattermapbox\"}],\"scattermap\":[{\"marker\":{\"colorbar\":{\"outlinewidth\":1,\"tickcolor\":\"rgb(36,36,36)\",\"ticks\":\"outside\"}},\"type\":\"scattermap\"}],\"scatterpolargl\":[{\"marker\":{\"colorbar\":{\"outlinewidth\":1,\"tickcolor\":\"rgb(36,36,36)\",\"ticks\":\"outside\"}},\"type\":\"scatterpolargl\"}],\"scatterpolar\":[{\"marker\":{\"colorbar\":{\"outlinewidth\":1,\"tickcolor\":\"rgb(36,36,36)\",\"ticks\":\"outside\"}},\"type\":\"scatterpolar\"}],\"scatter\":[{\"fillpattern\":{\"fillmode\":\"overlay\",\"size\":10,\"solidity\":0.2},\"type\":\"scatter\"}],\"scatterternary\":[{\"marker\":{\"colorbar\":{\"outlinewidth\":1,\"tickcolor\":\"rgb(36,36,36)\",\"ticks\":\"outside\"}},\"type\":\"scatterternary\"}],\"surface\":[{\"colorbar\":{\"outlinewidth\":1,\"tickcolor\":\"rgb(36,36,36)\",\"ticks\":\"outside\"},\"colorscale\":[[0.0,\"#440154\"],[0.1111111111111111,\"#482878\"],[0.2222222222222222,\"#3e4989\"],[0.3333333333333333,\"#31688e\"],[0.4444444444444444,\"#26828e\"],[0.5555555555555556,\"#1f9e89\"],[0.6666666666666666,\"#35b779\"],[0.7777777777777778,\"#6ece58\"],[0.8888888888888888,\"#b5de2b\"],[1.0,\"#fde725\"]],\"type\":\"surface\"}],\"table\":[{\"cells\":{\"fill\":{\"color\":\"rgb(237,237,237)\"},\"line\":{\"color\":\"white\"}},\"header\":{\"fill\":{\"color\":\"rgb(217,217,217)\"},\"line\":{\"color\":\"white\"}},\"type\":\"table\"}]},\"layout\":{\"annotationdefaults\":{\"arrowhead\":0,\"arrowwidth\":1},\"autotypenumbers\":\"strict\",\"coloraxis\":{\"colorbar\":{\"outlinewidth\":1,\"tickcolor\":\"rgb(36,36,36)\",\"ticks\":\"outside\"}},\"colorscale\":{\"diverging\":[[0.0,\"rgb(103,0,31)\"],[0.1,\"rgb(178,24,43)\"],[0.2,\"rgb(214,96,77)\"],[0.3,\"rgb(244,165,130)\"],[0.4,\"rgb(253,219,199)\"],[0.5,\"rgb(247,247,247)\"],[0.6,\"rgb(209,229,240)\"],[0.7,\"rgb(146,197,222)\"],[0.8,\"rgb(67,147,195)\"],[0.9,\"rgb(33,102,172)\"],[1.0,\"rgb(5,48,97)\"]],\"sequential\":[[0.0,\"#440154\"],[0.1111111111111111,\"#482878\"],[0.2222222222222222,\"#3e4989\"],[0.3333333333333333,\"#31688e\"],[0.4444444444444444,\"#26828e\"],[0.5555555555555556,\"#1f9e89\"],[0.6666666666666666,\"#35b779\"],[0.7777777777777778,\"#6ece58\"],[0.8888888888888888,\"#b5de2b\"],[1.0,\"#fde725\"]],\"sequentialminus\":[[0.0,\"#440154\"],[0.1111111111111111,\"#482878\"],[0.2222222222222222,\"#3e4989\"],[0.3333333333333333,\"#31688e\"],[0.4444444444444444,\"#26828e\"],[0.5555555555555556,\"#1f9e89\"],[0.6666666666666666,\"#35b779\"],[0.7777777777777778,\"#6ece58\"],[0.8888888888888888,\"#b5de2b\"],[1.0,\"#fde725\"]]},\"colorway\":[\"#91268F\",\"#8CC63E\",\"#00A7A0\",\"#F05A28\",\"#4C4C4C\",\"#630460\",\"#9f3913\",\"#588527\",\"#00716c\",\"#3e4040\"],\"font\":{\"color\":\"rgb(36,36,36)\",\"family\":\"Poppins\",\"size\":11},\"geo\":{\"bgcolor\":\"white\",\"lakecolor\":\"white\",\"landcolor\":\"white\",\"showlakes\":true,\"showland\":true,\"subunitcolor\":\"white\"},\"hoverlabel\":{\"align\":\"left\"},\"hovermode\":\"closest\",\"mapbox\":{\"style\":\"light\"},\"paper_bgcolor\":\"white\",\"plot_bgcolor\":\"white\",\"polar\":{\"angularaxis\":{\"gridcolor\":\"rgb(232,232,232)\",\"linecolor\":\"rgb(36,36,36)\",\"showgrid\":false,\"showline\":true,\"ticks\":\"outside\"},\"bgcolor\":\"white\",\"radialaxis\":{\"gridcolor\":\"rgb(232,232,232)\",\"linecolor\":\"rgb(36,36,36)\",\"showgrid\":false,\"showline\":true,\"ticks\":\"outside\"}},\"scene\":{\"xaxis\":{\"backgroundcolor\":\"white\",\"gridcolor\":\"rgb(232,232,232)\",\"gridwidth\":2,\"linecolor\":\"rgb(36,36,36)\",\"showbackground\":true,\"showgrid\":false,\"showline\":true,\"ticks\":\"outside\",\"zeroline\":false,\"zerolinecolor\":\"rgb(36,36,36)\"},\"yaxis\":{\"backgroundcolor\":\"white\",\"gridcolor\":\"rgb(232,232,232)\",\"gridwidth\":2,\"linecolor\":\"rgb(36,36,36)\",\"showbackground\":true,\"showgrid\":false,\"showline\":true,\"ticks\":\"outside\",\"zeroline\":false,\"zerolinecolor\":\"rgb(36,36,36)\"},\"zaxis\":{\"backgroundcolor\":\"white\",\"gridcolor\":\"rgb(232,232,232)\",\"gridwidth\":2,\"linecolor\":\"rgb(36,36,36)\",\"showbackground\":true,\"showgrid\":false,\"showline\":true,\"ticks\":\"outside\",\"zeroline\":false,\"zerolinecolor\":\"rgb(36,36,36)\"}},\"shapedefaults\":{\"fillcolor\":\"black\",\"line\":{\"width\":0},\"opacity\":0.3},\"ternary\":{\"aaxis\":{\"gridcolor\":\"rgb(232,232,232)\",\"linecolor\":\"rgb(36,36,36)\",\"showgrid\":false,\"showline\":true,\"ticks\":\"outside\"},\"baxis\":{\"gridcolor\":\"rgb(232,232,232)\",\"linecolor\":\"rgb(36,36,36)\",\"showgrid\":false,\"showline\":true,\"ticks\":\"outside\"},\"bgcolor\":\"white\",\"caxis\":{\"gridcolor\":\"rgb(232,232,232)\",\"linecolor\":\"rgb(36,36,36)\",\"showgrid\":false,\"showline\":true,\"ticks\":\"outside\"}},\"title\":{\"x\":0.05},\"xaxis\":{\"automargin\":true,\"gridcolor\":\"rgb(232,232,232)\",\"linecolor\":\"rgb(36,36,36)\",\"showgrid\":false,\"showline\":true,\"ticks\":\"outside\",\"title\":{\"standoff\":15},\"zeroline\":false,\"zerolinecolor\":\"rgb(36,36,36)\"},\"yaxis\":{\"automargin\":true,\"gridcolor\":\"rgb(232,232,232)\",\"linecolor\":\"rgb(36,36,36)\",\"showgrid\":false,\"showline\":true,\"ticks\":\"outside\",\"title\":{\"standoff\":15},\"zeroline\":false,\"zerolinecolor\":\"rgb(36,36,36)\"}}},\"xaxis\":{\"anchor\":\"y\",\"domain\":[0.0,1.0],\"title\":{\"text\":\"Observed\"}},\"yaxis\":{\"anchor\":\"x\",\"domain\":[0.0,1.0],\"title\":{\"text\":\"Model\"}},\"legend\":{\"tracegroupgap\":0},\"title\":{\"text\":\"Medium Trucks: Region\"},\"margin\":{\"l\":100,\"r\":100,\"t\":100,\"b\":100},\"height\":600,\"width\":800,\"shapes\":[{\"line\":{\"color\":\"Red\",\"dash\":\"dash\",\"width\":2},\"type\":\"line\",\"x0\":0,\"x1\":10297,\"y0\":0,\"y1\":10297}],\"annotations\":[{\"align\":\"right\",\"font\":{\"color\":\"pink\",\"size\":12},\"showarrow\":false,\"text\":\"y = x\",\"x\":10811.85,\"y\":10811.85},{\"align\":\"right\",\"font\":{\"color\":\"black\",\"size\":12},\"showarrow\":false,\"text\":\"r^2 = 0.48\",\"x\":5970.3,\"y\":6950.623587195256}]},                        {\"responsive\": true}                    ).then(function(){\n",
       "                            \n",
       "var gd = document.getElementById('d1a09662-1d9a-471d-a1ae-0e68384a520d');\n",
       "var x = new MutationObserver(function (mutations, observer) {{\n",
       "        var display = window.getComputedStyle(gd).display;\n",
       "        if (!display || display === 'none') {{\n",
       "            console.log([gd, 'removed!']);\n",
       "            Plotly.purge(gd);\n",
       "            observer.disconnect();\n",
       "        }}\n",
       "}});\n",
       "\n",
       "// Listen for the removal of the full notebook cells\n",
       "var notebookContainer = gd.closest('#notebook-container');\n",
       "if (notebookContainer) {{\n",
       "    x.observe(notebookContainer, {childList: true});\n",
       "}}\n",
       "\n",
       "// Listen for the clearing of the current output cell\n",
       "var outputEl = gd.closest('.output');\n",
       "if (outputEl) {{\n",
       "    x.observe(outputEl, {childList: true});\n",
       "}}\n",
       "\n",
       "                        })                };            </script>        </div>"
      ]
     },
     "metadata": {},
     "output_type": "display_data"
    }
   ],
   "source": [
    "fig = create_truck_chart(df_daily_med, 'Medium')\n",
    "fig.show()"
   ]
  },
  {
   "cell_type": "raw",
   "id": "d673c0fb",
   "metadata": {},
   "source": [
    "#### King"
   ]
  },
  {
   "cell_type": "code",
   "execution_count": 30,
   "id": "e5361979",
   "metadata": {
    "execution": {
     "iopub.execute_input": "2025-06-18T22:59:58.863083Z",
     "iopub.status.busy": "2025-06-18T22:59:58.862086Z",
     "iopub.status.idle": "2025-06-18T22:59:58.987394Z",
     "shell.execute_reply": "2025-06-18T22:59:58.986391Z"
    }
   },
   "outputs": [
    {
     "data": {
      "application/vnd.plotly.v1+json": {
       "config": {
        "plotlyServerURL": "https://plot.ly"
       },
       "data": [
        {
         "customdata": [
          [
           "I-5 S/O 205th NB",
           "King"
          ],
          [
           "I-5 S/O 205th SB",
           "King"
          ],
          [
           "I-5 Rev N/O I-5 GP NB/SB",
           "King"
          ],
          [
           "I-90 E/O I-5 WB",
           "King"
          ],
          [
           "I-90 E/O I-5 EB",
           "King"
          ],
          [
           "I-90 E/O W Lk Sam WB",
           "King"
          ],
          [
           "I-90 E/O W Lk Sam EB",
           "King"
          ],
          [
           "I-90 E/O SR-900 WB",
           "King"
          ],
          [
           "I-405 @ I-5 Southcenter NB",
           "King"
          ],
          [
           "I-405 @ I-5 Southcenter SB",
           "King"
          ],
          [
           "I-405 @ Lake Wash Blvd NB",
           "King"
          ],
          [
           "I-405 @ I-90 NB",
           "King"
          ],
          [
           "I-405 @ I-90 SB",
           "King"
          ],
          [
           "SR-520 @ x-lake bridge WB",
           "King"
          ],
          [
           "SR-520 @ x-lake bridge EB",
           "King"
          ],
          [
           "SR-167 S/O 43rd NB",
           "King"
          ],
          [
           "SR-167 S/O 43rd SB",
           "King"
          ],
          [
           "SR-167 N/O SR-18 NB",
           "King"
          ],
          [
           "SR-167 N/O SR-18 SB",
           "King"
          ],
          [
           "SR-167 S/O 15th SW NB",
           "King"
          ],
          [
           "SR-167 S/O 15th SW SB",
           "King"
          ],
          [
           "SR-509 @ Holden NB",
           "King"
          ],
          [
           "SR-509 @ Holden SB",
           "King"
          ],
          [
           "SR-99 N/O 14th NB",
           "King"
          ],
          [
           "SR-99 N/O 14th SB",
           "King"
          ],
          [
           "SR-99 N/O WSF NB",
           "King"
          ],
          [
           "SR-99 N/O WSF SB",
           "King"
          ],
          [
           "SR-99 tunnel NB",
           "King"
          ],
          [
           "SR-99 tunnel SB",
           "King"
          ],
          [
           "SR-599 S/O Pacific NB",
           "King"
          ],
          [
           "SR-599 S/O Pacific SB",
           "King"
          ],
          [
           "SR-599 @ Pacific NB",
           "King"
          ],
          [
           "SR-599 @ Pacific SB",
           "King"
          ],
          [
           "SR-18 @ I-5 WB",
           "King"
          ],
          [
           "SR-18 @ I-5 EB",
           "King"
          ],
          [
           "SR-18 W/O Auburn-Black Diamond WB",
           "King"
          ],
          [
           "SR-18 W/O Auburn-Black Diamond EB",
           "King"
          ],
          [
           "SR-18 E/O SR-516 WB",
           "King"
          ],
          [
           "SR-18 E/O SR-516 EB",
           "King"
          ],
          [
           "SR-18 E/O 256th WB",
           "King"
          ],
          [
           "SR-18 E/O 256th EB",
           "King"
          ],
          [
           "SR-522 N/O 195th WB",
           "King"
          ],
          [
           "SR-522 N/O 195th EB",
           "King"
          ],
          [
           "I-5 N/O I-5 Rev CBD NB/SB",
           "King"
          ],
          [
           "I-90 W/O SR-18 WB/EB",
           "King"
          ],
          [
           "I-90 E/O SR-18 WB/EB",
           "King"
          ],
          [
           "I-90 E/O 436th WB/EB",
           "King"
          ],
          [
           "I-90 @ Kittitas County WB/EB",
           "King"
          ],
          [
           "I-405 N/O SR-522 NB/SB",
           "King"
          ],
          [
           "SR-167 N/O Grady NB/SB",
           "King"
          ],
          [
           "SR-410 E/O 244th WB/EB",
           "King"
          ],
          [
           "SR-410 E/O Farman WB/EB",
           "King"
          ],
          [
           "SR-410 @ Greenwater River WB/EB",
           "King"
          ],
          [
           "SR-509 E/O 47th NB/SB",
           "King"
          ],
          [
           "SR-509 E/O 21st NB/SB",
           "King"
          ],
          [
           "SR-509 W/O SR-516 NB/SB",
           "King"
          ],
          [
           "SR-509 W/O Des Moines Mem NB/SB",
           "King"
          ],
          [
           "SR-509 E/O 1st Ave NB/SB",
           "King"
          ],
          [
           "SR-509 E/O Des Moines Mem NB/SB",
           "King"
          ],
          [
           "SR-509 N/O Des Moines Mem NB/SB",
           "King"
          ],
          [
           "SR-509 N/O SR-518 NB/SB",
           "King"
          ],
          [
           "SR-99 S/O SR-18 NB/SB",
           "King"
          ],
          [
           "SR-99 N/O SR-18 NB/SB",
           "King"
          ],
          [
           "SR-99 N/O 320th NB/SB",
           "King"
          ],
          [
           "SR-99 N/O 188th NB/SB",
           "King"
          ],
          [
           "SR-99 @ WSF NB/SB",
           "King"
          ],
          [
           "SR-99 @ Aurora Bridge NB/SB",
           "King"
          ],
          [
           "SR-99 N/O 38th NB/SB",
           "King"
          ],
          [
           "SR-99 S/O Roosevelt NB/SB",
           "King"
          ],
          [
           "SR-599 N/O I-5 NB/SB",
           "King"
          ],
          [
           "SR-518 @ SR-509 WB/EB",
           "King"
          ],
          [
           "SR-518 E/O SR-509 WB/EB",
           "King"
          ],
          [
           "SR-18 E/O SR-99 WB/EB",
           "King"
          ],
          [
           "SR-18 N/O 304th WB/EB",
           "King"
          ],
          [
           "SR-18 S/O I-90 WB/EB",
           "King"
          ],
          [
           "SR-202 @ SR-522 NB/SB",
           "King"
          ],
          [
           "SR-202 N/O 145th NB/SB",
           "King"
          ],
          [
           "SR-202 @ Sammamish River Br NB/SB",
           "King"
          ],
          [
           "SR-202 S/O 144th NB/SB",
           "King"
          ],
          [
           "SR-202 N/O Redmond Way NB/SB",
           "King"
          ],
          [
           "SR-202 E/O 164th NB/SB",
           "King"
          ],
          [
           "SR-202 E/O SR-520 NB/SB",
           "King"
          ],
          [
           "SR-202 E/O E Lk Samm NB/SB",
           "King"
          ],
          [
           "SR-202 E/O Sahalee NB/SB",
           "King"
          ],
          [
           "SR-202 E/O 236th NB/SB",
           "King"
          ],
          [
           "SR-202 S/O Ames Lake NB/SB",
           "King"
          ],
          [
           "SR-202 S/O Duthie Hill NB/SB",
           "King"
          ],
          [
           "SR-202 E/O SR-203 NB/SB",
           "King"
          ],
          [
           "SR-202 N/O I-90 NB/SB",
           "King"
          ],
          [
           "SR-522 N/O 145th NB/SB",
           "King"
          ],
          [
           "SR-104 W/O 19th WB/EB",
           "King"
          ],
          [
           "SR-516 E/O SR-509 WB/EB",
           "King"
          ],
          [
           "SR-516 W/O I-5 WB/EB",
           "King"
          ],
          [
           "SR-516 E/O Meeker WB/EB",
           "King"
          ],
          [
           "SR-516 W/O SR-167 WB/EB",
           "King"
          ],
          [
           "SR-516 E/O SR-167 WB/EB",
           "King"
          ],
          [
           "SR-516 E/O SR-18 WB/EB",
           "King"
          ],
          [
           "SR-900 S/O NB I-5 on-ramp @ Boe Acc WB/EB",
           "King"
          ],
          [
           "SR-900 E/O 68th WB/EB",
           "King"
          ],
          [
           "SR-900 @ I-405 WB/EB",
           "King"
          ],
          [
           "SR-900 E/O 148th WB/EB",
           "King"
          ],
          [
           "SR-900 N/O Talus WB/EB",
           "King"
          ],
          [
           "SR-900 N/O Newport WB/EB",
           "King"
          ],
          [
           "SR-2 E/O Skykomish WB/EB",
           "King"
          ],
          [
           "SR-513 S/O 44th NB/SB",
           "King"
          ],
          [
           "SR-169 N/O SR-164 NB/SB",
           "King"
          ],
          [
           "SR-169 S/O Lawson NB/SB",
           "King"
          ],
          [
           "SR-169 S/O 280th NB/SB",
           "King"
          ],
          [
           "SR-169 N/O 276th NB/SB",
           "King"
          ],
          [
           "SR-169 N/O 231st NB/SB",
           "King"
          ],
          [
           "SR-169 N/O 231st NB/SB",
           "King"
          ],
          [
           "SR-169 W/O 140th NB/SB",
           "King"
          ],
          [
           "SR-515 N/O SR-516 NB/SB",
           "King"
          ],
          [
           "SR-515 N/O 108th NB/SB",
           "King"
          ],
          [
           "SR-515 N/O Puget NB/SB",
           "King"
          ],
          [
           "SR-181 N/O SR-516 NB/SB",
           "King"
          ],
          [
           "SR-181 S/O James NB/SB",
           "King"
          ],
          [
           "SR-181 N/O James NB/SB",
           "King"
          ],
          [
           "SR-181 N/O 228th NB/SB",
           "King"
          ],
          [
           "SR-181 N/O 180th NB/SB",
           "King"
          ],
          [
           "SR-181 S/O Longacres NB/SB",
           "King"
          ],
          [
           "SR-523 E/O Lenora WB/EB",
           "King"
          ],
          [
           "SR-164 @ SR-18 WB/EB",
           "King"
          ],
          [
           "SR-164 S/O 400th WB/EB",
           "King"
          ],
          [
           "SR-203 N/O Cherry Valley NB/SB",
           "King"
          ],
          [
           "SR-203 N/O 124th NB/SB",
           "King"
          ],
          [
           "SR-203 W/O Stillwater Hill NB/SB",
           "King"
          ],
          [
           "SR-203 N/O Carnation Farm NB/SB",
           "King"
          ],
          [
           "SR-203 N/O Tolt Hill NB/SB",
           "King"
          ],
          [
           "SR-203 N/O SR-202 NB/SB",
           "King"
          ],
          [
           "SR-519 W/O 4th NB/SB",
           "King"
          ]
         ],
         "hovertemplate": "Observed=%{x}<br>Model=%{y}<br>location=%{customdata[0]}<br>County=%{customdata[1]}<extra></extra>",
         "legendgroup": "",
         "line": {
          "color": "Grey",
          "width": 2
         },
         "marker": {
          "color": "#91268F",
          "symbol": "circle"
         },
         "mode": "markers",
         "name": "",
         "orientation": "v",
         "showlegend": false,
         "type": "scatter",
         "x": {
          "bdata": "+gZ1B4UC9QV9BXgFZAUxBRYEpgY6CowOtgsGBAgE5AiACWUJbwnYCugJDgcWB1IDdgL/BIsEKwTIA1sD0AL3BEoDFgLNA00FDwVyA2UDHgQHBBQGjAaVCWcGCAnnBCwECw0HBd8DywFDAIUAtAGXAvsAZQCoAawFkgX4BDsCNANuDBkGFAnOBf0D3AoNA88DMAVACfUEqwM7AQcBoQIVAjwDoQZtBEgDvwEdAloBpgFPAbkE5gETAZYEhgP7BhAEBwT3A6YB/QLPACgDuAKwAMwCngE/AmQDRwLVBlUENQQ+A5UBhgNQB0cFCAbNBqsGlQilAlsDjwKHAiEDyAHnASkCDQIJBA==",
          "dtype": "i2"
         },
         "xaxis": "x",
         "y": {
          "bdata": "vBjDF5AI9BCVEnILBAtyB7MDtQqlGB8T/RLpFGMVJwwFDQsOTQ9UC3oLQQh3CI0DmQKGCikMGwlcCbIEYATuA14DJgdvA1sF6ASRAmQCzAKbArAFZwU5KO8GBAZ1AAAA9iRlCB8CXgBPADoAaAGsAEkAKwAzAHgQrxBFBa8DGAM5A1IQpA9sCQcDMQkBB/8FCwf/Bx8D2gJsAqcB9AOcAd0BlwiPBTcCHgKlAekAVQEDA+kHAQJrANMJ+Ay7D84JFAWvBqEBiAauAc4CfAIAABgGgwCdAZ0BlQKVA3UDhwbCAVsCwgTQCW0HPQqYCyIJiglRA+gDKwK6AeYB4ADtAHMBzACIBw==",
          "dtype": "i2"
         },
         "yaxis": "y"
        },
        {
         "hovertemplate": "Observed=%{x}<br>Model=%{y}<extra></extra>",
         "legendgroup": "",
         "line": {
          "color": "Grey",
          "dash": "solid",
          "width": 2
         },
         "marker": {
          "symbol": "circle"
         },
         "mode": "lines",
         "name": "",
         "orientation": "v",
         "showlegend": false,
         "type": "scatter",
         "x": {
          "bdata": "AAAAAAAAAAB6O0Ni3s5CQHo7Q2LezlJAN9lkk002XEB6O0Ni3s5iQFgK1PqVgmdAN9lkk002bEAL1PqVAnVwQHo7Q2LeznJA6aKLLroodUBYCtT6lYJ3QMhxHMdx3HlAN9lkk002fECmQK1fKZB+QAvU+pUCdYBAwgcffPChgUB6O0Ni3s6CQDJvZ0jM+4NA6aKLLroohUCh1q8UqFWGQFgK1PqVgodAED744IOviEDIcRzHcdyJQH+lQK1fCYtAN9lkk002jEDvDIl5O2ONQKZArV8pkI5AXnTRRRe9j0AL1PqVAnWQQOftDIl5C5FAwgcffPChkUCeITFvZziSQHo7Q2LezpJAVlVVVVVlk0Ayb2dIzPuTQA2JeTtDkpRA6aKLLroolUDFvJ0hMb+VQKHWrxSoVZZAffDBBx/slkBYCtT6lYKXQDQk5u0MGZhAED744IOvmEDsVwrU+kWZQMhxHMdx3JlApIsuuuhymkB/pUCtXwmbQFu/UqDWn5tAN9lkk002nEAT83aGxMycQO8MiXk7Y51AyiabbLL5nUCmQK1fKZCeQIJav1KgJp9AXnTRRRe9n0Adx3EcxymgQAvU+pUCdaBA+eCDDz7AoEDn7QyJeQuhQNT6lQK1VqFAwgcffPChoUCwFKj1K+2hQJ4hMW9nOKJAjC666KKDokB6O0Ni3s6iQGhIzNsZGqNAVlVVVVVlo0BEYt7OkLCjQDJvZ0jM+6NAIHzwwQdHpEANiXk7Q5KkQPuVArV+3aRA6aKLLroopUDXrxSo9XOlQMW8nSExv6VAs8kmm2wKpkCh1q8UqFWmQI/jOI7joKZAffDBBx/spkBr/UqBWjenQFgK1PqVgqdARhdddNHNp0A0JObtDBmoQCIxb2dIZKhAED744IOvqED+SoFav/qoQOxXCtT6RalA2mSTTTaRqUDIcRzHcdypQLZ+pUCtJ6pApIsuuuhyqkCRmLczJL6qQH+lQK1fCatAbbLJJptUq0Bbv1Kg1p+rQEnM2xkS66tAN9lkk002rEAl5u0MiYGsQBPzdobEzKxAAAAAAAAYrUA=",
          "dtype": "f8"
         },
         "xaxis": "x",
         "y": {
          "bdata": "KAOIwjuKZsCAGq1S7DddwF5dlEDCtkrAEOnFkFAJJEDyqHtEtV1SQGBKbzsgHWFASsCg1GULaUAaG+m21XxwQA3WgYP4c3RAApEaUBtreED0S7McPmJ8QHUDpnSwLIBA72Dy2kEogkBpvj5B0yOEQOQbi6dkH4ZAXXnXDfYaiEDX1iN0hxaKQFI0cNoYEoxAzJG8QKoNjkCjd4TTnQSQQF+mqoZmApFAHdXQOS8AkkDaA/fs9/2SQJcyHaDA+5NAVGFDU4n5lEARkGkGUveVQM6+j7ka9ZZAi+21bOPyl0BJHNwfrPCYQAZLAtN07plAwnkohj3smkB/qE45BuqbQDzXdOzO55xA+QWbn5flnUC3NMFSYOOeQHNj5wUp4Z9AGMmG3HhvoEB24Bk2Xe6gQNb3rI9BbaFANA9A6SXsoUCSJtNCCmuiQPA9Zpzu6aJAUFX59dJoo0CubIxPt+ejQAyEH6mbZqRAbJuyAoDlpEDKskVcZGSlQCjK2LVI46VAhuFrDy1ipkDm+P5oEeGmQEQQksL1X6dAoiclHNrep0AAP7h1vl2oQGBWS8+i3KhAvm3eKIdbqUAchXGCa9qpQHycBNxPWapA2rOXNTTYqkA4yyqPGFerQJbivej81atA9PlQQuFUrEBSEeSbxdOsQLIod/WpUq1AEEAKT47RrUBuV52oclCuQM5uMAJXz65ALIbDWztOr0CMnVa1H82vQHXadAcCJrBAJGY+NHRlsEDT8Qdh5qSwQIJ90Y1Y5LBAMgmbusojsUDhlGTnPGOxQJAgLhSvorFAQKz3QCHisUDvN8FtkyGyQJ7DipoFYbJATk9Ux3egskD92h306d+yQKtm5yBcH7NAW/KwTc5es0AKfnp6QJ6zQLkJRKey3bNAaZUN1CQdtEAYIdcAl1y0QMesoC0JnLRAdzhqWnvbtEAmxDOH7Rq1QNVP/bNfWrVAhdvG4NGZtUAzZ5ANRNm1QOPyWTq2GLZAkn4jZyhYtkBBCu2Tmpe2QPGVtsAM17ZAoCGA7X4Wt0BPrUka8VW3QP84E0djlbdArcTcc9XUt0A=",
          "dtype": "f8"
         },
         "yaxis": "y"
        }
       ],
       "layout": {
        "annotations": [
         {
          "align": "right",
          "font": {
           "color": "pink",
           "size": 12
          },
          "showarrow": false,
          "text": "y = x",
          "x": 10811.85,
          "y": 10811.85
         },
         {
          "align": "right",
          "font": {
           "color": "black",
           "size": 12
          },
          "showarrow": false,
          "text": "r^2 = 0.48",
          "x": 3910.2000000000003,
          "y": 6405.875489128034
         }
        ],
        "height": 600,
        "legend": {
         "tracegroupgap": 0
        },
        "margin": {
         "b": 100,
         "l": 100,
         "r": 100,
         "t": 100
        },
        "shapes": [
         {
          "line": {
           "color": "Red",
           "dash": "dash",
           "width": 2
          },
          "type": "line",
          "x0": 0,
          "x1": 10297,
          "y0": 0,
          "y1": 10297
         }
        ],
        "template": {
         "data": {
          "bar": [
           {
            "error_x": {
             "color": "rgb(36,36,36)"
            },
            "error_y": {
             "color": "rgb(36,36,36)"
            },
            "marker": {
             "line": {
              "color": "white",
              "width": 0.5
             },
             "pattern": {
              "fillmode": "overlay",
              "size": 10,
              "solidity": 0.2
             }
            },
            "type": "bar"
           }
          ],
          "barpolar": [
           {
            "marker": {
             "line": {
              "color": "white",
              "width": 0.5
             },
             "pattern": {
              "fillmode": "overlay",
              "size": 10,
              "solidity": 0.2
             }
            },
            "type": "barpolar"
           }
          ],
          "carpet": [
           {
            "aaxis": {
             "endlinecolor": "rgb(36,36,36)",
             "gridcolor": "white",
             "linecolor": "white",
             "minorgridcolor": "white",
             "startlinecolor": "rgb(36,36,36)"
            },
            "baxis": {
             "endlinecolor": "rgb(36,36,36)",
             "gridcolor": "white",
             "linecolor": "white",
             "minorgridcolor": "white",
             "startlinecolor": "rgb(36,36,36)"
            },
            "type": "carpet"
           }
          ],
          "choropleth": [
           {
            "colorbar": {
             "outlinewidth": 1,
             "tickcolor": "rgb(36,36,36)",
             "ticks": "outside"
            },
            "type": "choropleth"
           }
          ],
          "contour": [
           {
            "colorbar": {
             "outlinewidth": 1,
             "tickcolor": "rgb(36,36,36)",
             "ticks": "outside"
            },
            "colorscale": [
             [
              0.0,
              "#440154"
             ],
             [
              0.1111111111111111,
              "#482878"
             ],
             [
              0.2222222222222222,
              "#3e4989"
             ],
             [
              0.3333333333333333,
              "#31688e"
             ],
             [
              0.4444444444444444,
              "#26828e"
             ],
             [
              0.5555555555555556,
              "#1f9e89"
             ],
             [
              0.6666666666666666,
              "#35b779"
             ],
             [
              0.7777777777777778,
              "#6ece58"
             ],
             [
              0.8888888888888888,
              "#b5de2b"
             ],
             [
              1.0,
              "#fde725"
             ]
            ],
            "type": "contour"
           }
          ],
          "contourcarpet": [
           {
            "colorbar": {
             "outlinewidth": 1,
             "tickcolor": "rgb(36,36,36)",
             "ticks": "outside"
            },
            "type": "contourcarpet"
           }
          ],
          "heatmap": [
           {
            "colorbar": {
             "outlinewidth": 1,
             "tickcolor": "rgb(36,36,36)",
             "ticks": "outside"
            },
            "colorscale": [
             [
              0.0,
              "#440154"
             ],
             [
              0.1111111111111111,
              "#482878"
             ],
             [
              0.2222222222222222,
              "#3e4989"
             ],
             [
              0.3333333333333333,
              "#31688e"
             ],
             [
              0.4444444444444444,
              "#26828e"
             ],
             [
              0.5555555555555556,
              "#1f9e89"
             ],
             [
              0.6666666666666666,
              "#35b779"
             ],
             [
              0.7777777777777778,
              "#6ece58"
             ],
             [
              0.8888888888888888,
              "#b5de2b"
             ],
             [
              1.0,
              "#fde725"
             ]
            ],
            "type": "heatmap"
           }
          ],
          "histogram": [
           {
            "marker": {
             "line": {
              "color": "white",
              "width": 0.6
             }
            },
            "type": "histogram"
           }
          ],
          "histogram2d": [
           {
            "colorbar": {
             "outlinewidth": 1,
             "tickcolor": "rgb(36,36,36)",
             "ticks": "outside"
            },
            "colorscale": [
             [
              0.0,
              "#440154"
             ],
             [
              0.1111111111111111,
              "#482878"
             ],
             [
              0.2222222222222222,
              "#3e4989"
             ],
             [
              0.3333333333333333,
              "#31688e"
             ],
             [
              0.4444444444444444,
              "#26828e"
             ],
             [
              0.5555555555555556,
              "#1f9e89"
             ],
             [
              0.6666666666666666,
              "#35b779"
             ],
             [
              0.7777777777777778,
              "#6ece58"
             ],
             [
              0.8888888888888888,
              "#b5de2b"
             ],
             [
              1.0,
              "#fde725"
             ]
            ],
            "type": "histogram2d"
           }
          ],
          "histogram2dcontour": [
           {
            "colorbar": {
             "outlinewidth": 1,
             "tickcolor": "rgb(36,36,36)",
             "ticks": "outside"
            },
            "colorscale": [
             [
              0.0,
              "#440154"
             ],
             [
              0.1111111111111111,
              "#482878"
             ],
             [
              0.2222222222222222,
              "#3e4989"
             ],
             [
              0.3333333333333333,
              "#31688e"
             ],
             [
              0.4444444444444444,
              "#26828e"
             ],
             [
              0.5555555555555556,
              "#1f9e89"
             ],
             [
              0.6666666666666666,
              "#35b779"
             ],
             [
              0.7777777777777778,
              "#6ece58"
             ],
             [
              0.8888888888888888,
              "#b5de2b"
             ],
             [
              1.0,
              "#fde725"
             ]
            ],
            "type": "histogram2dcontour"
           }
          ],
          "mesh3d": [
           {
            "colorbar": {
             "outlinewidth": 1,
             "tickcolor": "rgb(36,36,36)",
             "ticks": "outside"
            },
            "type": "mesh3d"
           }
          ],
          "parcoords": [
           {
            "line": {
             "colorbar": {
              "outlinewidth": 1,
              "tickcolor": "rgb(36,36,36)",
              "ticks": "outside"
             }
            },
            "type": "parcoords"
           }
          ],
          "pie": [
           {
            "automargin": true,
            "type": "pie"
           }
          ],
          "scatter": [
           {
            "fillpattern": {
             "fillmode": "overlay",
             "size": 10,
             "solidity": 0.2
            },
            "type": "scatter"
           }
          ],
          "scatter3d": [
           {
            "line": {
             "colorbar": {
              "outlinewidth": 1,
              "tickcolor": "rgb(36,36,36)",
              "ticks": "outside"
             }
            },
            "marker": {
             "colorbar": {
              "outlinewidth": 1,
              "tickcolor": "rgb(36,36,36)",
              "ticks": "outside"
             }
            },
            "type": "scatter3d"
           }
          ],
          "scattercarpet": [
           {
            "marker": {
             "colorbar": {
              "outlinewidth": 1,
              "tickcolor": "rgb(36,36,36)",
              "ticks": "outside"
             }
            },
            "type": "scattercarpet"
           }
          ],
          "scattergeo": [
           {
            "marker": {
             "colorbar": {
              "outlinewidth": 1,
              "tickcolor": "rgb(36,36,36)",
              "ticks": "outside"
             }
            },
            "type": "scattergeo"
           }
          ],
          "scattergl": [
           {
            "marker": {
             "colorbar": {
              "outlinewidth": 1,
              "tickcolor": "rgb(36,36,36)",
              "ticks": "outside"
             }
            },
            "type": "scattergl"
           }
          ],
          "scattermap": [
           {
            "marker": {
             "colorbar": {
              "outlinewidth": 1,
              "tickcolor": "rgb(36,36,36)",
              "ticks": "outside"
             }
            },
            "type": "scattermap"
           }
          ],
          "scattermapbox": [
           {
            "marker": {
             "colorbar": {
              "outlinewidth": 1,
              "tickcolor": "rgb(36,36,36)",
              "ticks": "outside"
             }
            },
            "type": "scattermapbox"
           }
          ],
          "scatterpolar": [
           {
            "marker": {
             "colorbar": {
              "outlinewidth": 1,
              "tickcolor": "rgb(36,36,36)",
              "ticks": "outside"
             }
            },
            "type": "scatterpolar"
           }
          ],
          "scatterpolargl": [
           {
            "marker": {
             "colorbar": {
              "outlinewidth": 1,
              "tickcolor": "rgb(36,36,36)",
              "ticks": "outside"
             }
            },
            "type": "scatterpolargl"
           }
          ],
          "scatterternary": [
           {
            "marker": {
             "colorbar": {
              "outlinewidth": 1,
              "tickcolor": "rgb(36,36,36)",
              "ticks": "outside"
             }
            },
            "type": "scatterternary"
           }
          ],
          "surface": [
           {
            "colorbar": {
             "outlinewidth": 1,
             "tickcolor": "rgb(36,36,36)",
             "ticks": "outside"
            },
            "colorscale": [
             [
              0.0,
              "#440154"
             ],
             [
              0.1111111111111111,
              "#482878"
             ],
             [
              0.2222222222222222,
              "#3e4989"
             ],
             [
              0.3333333333333333,
              "#31688e"
             ],
             [
              0.4444444444444444,
              "#26828e"
             ],
             [
              0.5555555555555556,
              "#1f9e89"
             ],
             [
              0.6666666666666666,
              "#35b779"
             ],
             [
              0.7777777777777778,
              "#6ece58"
             ],
             [
              0.8888888888888888,
              "#b5de2b"
             ],
             [
              1.0,
              "#fde725"
             ]
            ],
            "type": "surface"
           }
          ],
          "table": [
           {
            "cells": {
             "fill": {
              "color": "rgb(237,237,237)"
             },
             "line": {
              "color": "white"
             }
            },
            "header": {
             "fill": {
              "color": "rgb(217,217,217)"
             },
             "line": {
              "color": "white"
             }
            },
            "type": "table"
           }
          ]
         },
         "layout": {
          "annotationdefaults": {
           "arrowhead": 0,
           "arrowwidth": 1
          },
          "autotypenumbers": "strict",
          "coloraxis": {
           "colorbar": {
            "outlinewidth": 1,
            "tickcolor": "rgb(36,36,36)",
            "ticks": "outside"
           }
          },
          "colorscale": {
           "diverging": [
            [
             0.0,
             "rgb(103,0,31)"
            ],
            [
             0.1,
             "rgb(178,24,43)"
            ],
            [
             0.2,
             "rgb(214,96,77)"
            ],
            [
             0.3,
             "rgb(244,165,130)"
            ],
            [
             0.4,
             "rgb(253,219,199)"
            ],
            [
             0.5,
             "rgb(247,247,247)"
            ],
            [
             0.6,
             "rgb(209,229,240)"
            ],
            [
             0.7,
             "rgb(146,197,222)"
            ],
            [
             0.8,
             "rgb(67,147,195)"
            ],
            [
             0.9,
             "rgb(33,102,172)"
            ],
            [
             1.0,
             "rgb(5,48,97)"
            ]
           ],
           "sequential": [
            [
             0.0,
             "#440154"
            ],
            [
             0.1111111111111111,
             "#482878"
            ],
            [
             0.2222222222222222,
             "#3e4989"
            ],
            [
             0.3333333333333333,
             "#31688e"
            ],
            [
             0.4444444444444444,
             "#26828e"
            ],
            [
             0.5555555555555556,
             "#1f9e89"
            ],
            [
             0.6666666666666666,
             "#35b779"
            ],
            [
             0.7777777777777778,
             "#6ece58"
            ],
            [
             0.8888888888888888,
             "#b5de2b"
            ],
            [
             1.0,
             "#fde725"
            ]
           ],
           "sequentialminus": [
            [
             0.0,
             "#440154"
            ],
            [
             0.1111111111111111,
             "#482878"
            ],
            [
             0.2222222222222222,
             "#3e4989"
            ],
            [
             0.3333333333333333,
             "#31688e"
            ],
            [
             0.4444444444444444,
             "#26828e"
            ],
            [
             0.5555555555555556,
             "#1f9e89"
            ],
            [
             0.6666666666666666,
             "#35b779"
            ],
            [
             0.7777777777777778,
             "#6ece58"
            ],
            [
             0.8888888888888888,
             "#b5de2b"
            ],
            [
             1.0,
             "#fde725"
            ]
           ]
          },
          "colorway": [
           "#91268F",
           "#8CC63E",
           "#00A7A0",
           "#F05A28",
           "#4C4C4C",
           "#630460",
           "#9f3913",
           "#588527",
           "#00716c",
           "#3e4040"
          ],
          "font": {
           "color": "rgb(36,36,36)",
           "family": "Poppins",
           "size": 11
          },
          "geo": {
           "bgcolor": "white",
           "lakecolor": "white",
           "landcolor": "white",
           "showlakes": true,
           "showland": true,
           "subunitcolor": "white"
          },
          "hoverlabel": {
           "align": "left"
          },
          "hovermode": "closest",
          "mapbox": {
           "style": "light"
          },
          "paper_bgcolor": "white",
          "plot_bgcolor": "white",
          "polar": {
           "angularaxis": {
            "gridcolor": "rgb(232,232,232)",
            "linecolor": "rgb(36,36,36)",
            "showgrid": false,
            "showline": true,
            "ticks": "outside"
           },
           "bgcolor": "white",
           "radialaxis": {
            "gridcolor": "rgb(232,232,232)",
            "linecolor": "rgb(36,36,36)",
            "showgrid": false,
            "showline": true,
            "ticks": "outside"
           }
          },
          "scene": {
           "xaxis": {
            "backgroundcolor": "white",
            "gridcolor": "rgb(232,232,232)",
            "gridwidth": 2,
            "linecolor": "rgb(36,36,36)",
            "showbackground": true,
            "showgrid": false,
            "showline": true,
            "ticks": "outside",
            "zeroline": false,
            "zerolinecolor": "rgb(36,36,36)"
           },
           "yaxis": {
            "backgroundcolor": "white",
            "gridcolor": "rgb(232,232,232)",
            "gridwidth": 2,
            "linecolor": "rgb(36,36,36)",
            "showbackground": true,
            "showgrid": false,
            "showline": true,
            "ticks": "outside",
            "zeroline": false,
            "zerolinecolor": "rgb(36,36,36)"
           },
           "zaxis": {
            "backgroundcolor": "white",
            "gridcolor": "rgb(232,232,232)",
            "gridwidth": 2,
            "linecolor": "rgb(36,36,36)",
            "showbackground": true,
            "showgrid": false,
            "showline": true,
            "ticks": "outside",
            "zeroline": false,
            "zerolinecolor": "rgb(36,36,36)"
           }
          },
          "shapedefaults": {
           "fillcolor": "black",
           "line": {
            "width": 0
           },
           "opacity": 0.3
          },
          "ternary": {
           "aaxis": {
            "gridcolor": "rgb(232,232,232)",
            "linecolor": "rgb(36,36,36)",
            "showgrid": false,
            "showline": true,
            "ticks": "outside"
           },
           "baxis": {
            "gridcolor": "rgb(232,232,232)",
            "linecolor": "rgb(36,36,36)",
            "showgrid": false,
            "showline": true,
            "ticks": "outside"
           },
           "bgcolor": "white",
           "caxis": {
            "gridcolor": "rgb(232,232,232)",
            "linecolor": "rgb(36,36,36)",
            "showgrid": false,
            "showline": true,
            "ticks": "outside"
           }
          },
          "title": {
           "x": 0.05
          },
          "xaxis": {
           "automargin": true,
           "gridcolor": "rgb(232,232,232)",
           "linecolor": "rgb(36,36,36)",
           "showgrid": false,
           "showline": true,
           "ticks": "outside",
           "title": {
            "standoff": 15
           },
           "zeroline": false,
           "zerolinecolor": "rgb(36,36,36)"
          },
          "yaxis": {
           "automargin": true,
           "gridcolor": "rgb(232,232,232)",
           "linecolor": "rgb(36,36,36)",
           "showgrid": false,
           "showline": true,
           "ticks": "outside",
           "title": {
            "standoff": 15
           },
           "zeroline": false,
           "zerolinecolor": "rgb(36,36,36)"
          }
         }
        },
        "title": {
         "text": "Medium Trucks: King"
        },
        "width": 800,
        "xaxis": {
         "anchor": "y",
         "domain": [
          0.0,
          1.0
         ],
         "title": {
          "text": "Observed"
         }
        },
        "yaxis": {
         "anchor": "x",
         "domain": [
          0.0,
          1.0
         ],
         "title": {
          "text": "Model"
         }
        }
       }
      },
      "text/html": [
       "<div>            <script src=\"https://cdnjs.cloudflare.com/ajax/libs/mathjax/2.7.5/MathJax.js?config=TeX-AMS-MML_SVG\"></script><script type=\"text/javascript\">if (window.MathJax && window.MathJax.Hub && window.MathJax.Hub.Config) {window.MathJax.Hub.Config({SVG: {font: \"STIX-Web\"}});}</script>                <script type=\"text/javascript\">window.PlotlyConfig = {MathJaxConfig: 'local'};</script>\n",
       "        <script charset=\"utf-8\" src=\"https://cdn.plot.ly/plotly-3.0.1.min.js\"></script>                <div id=\"1808d115-2e96-4776-8697-600a75987e5d\" class=\"plotly-graph-div\" style=\"height:600px; width:800px;\"></div>            <script type=\"text/javascript\">                window.PLOTLYENV=window.PLOTLYENV || {};                                if (document.getElementById(\"1808d115-2e96-4776-8697-600a75987e5d\")) {                    Plotly.newPlot(                        \"1808d115-2e96-4776-8697-600a75987e5d\",                        [{\"customdata\":[[\"I-5 S\\u002fO 205th NB\",\"King\"],[\"I-5 S\\u002fO 205th SB\",\"King\"],[\"I-5 Rev N\\u002fO I-5 GP NB\\u002fSB\",\"King\"],[\"I-90 E\\u002fO I-5 WB\",\"King\"],[\"I-90 E\\u002fO I-5 EB\",\"King\"],[\"I-90 E\\u002fO W Lk Sam WB\",\"King\"],[\"I-90 E\\u002fO W Lk Sam EB\",\"King\"],[\"I-90 E\\u002fO SR-900 WB\",\"King\"],[\"I-405 @ I-5 Southcenter NB\",\"King\"],[\"I-405 @ I-5 Southcenter SB\",\"King\"],[\"I-405 @ Lake Wash Blvd NB\",\"King\"],[\"I-405 @ I-90 NB\",\"King\"],[\"I-405 @ I-90 SB\",\"King\"],[\"SR-520 @ x-lake bridge WB\",\"King\"],[\"SR-520 @ x-lake bridge EB\",\"King\"],[\"SR-167 S\\u002fO 43rd NB\",\"King\"],[\"SR-167 S\\u002fO 43rd SB\",\"King\"],[\"SR-167 N\\u002fO SR-18 NB\",\"King\"],[\"SR-167 N\\u002fO SR-18 SB\",\"King\"],[\"SR-167 S\\u002fO 15th SW NB\",\"King\"],[\"SR-167 S\\u002fO 15th SW SB\",\"King\"],[\"SR-509 @ Holden NB\",\"King\"],[\"SR-509 @ Holden SB\",\"King\"],[\"SR-99 N\\u002fO 14th NB\",\"King\"],[\"SR-99 N\\u002fO 14th SB\",\"King\"],[\"SR-99 N\\u002fO WSF NB\",\"King\"],[\"SR-99 N\\u002fO WSF SB\",\"King\"],[\"SR-99 tunnel NB\",\"King\"],[\"SR-99 tunnel SB\",\"King\"],[\"SR-599 S\\u002fO Pacific NB\",\"King\"],[\"SR-599 S\\u002fO Pacific SB\",\"King\"],[\"SR-599 @ Pacific NB\",\"King\"],[\"SR-599 @ Pacific SB\",\"King\"],[\"SR-18 @ I-5 WB\",\"King\"],[\"SR-18 @ I-5 EB\",\"King\"],[\"SR-18 W\\u002fO Auburn-Black Diamond WB\",\"King\"],[\"SR-18 W\\u002fO Auburn-Black Diamond EB\",\"King\"],[\"SR-18 E\\u002fO SR-516 WB\",\"King\"],[\"SR-18 E\\u002fO SR-516 EB\",\"King\"],[\"SR-18 E\\u002fO 256th WB\",\"King\"],[\"SR-18 E\\u002fO 256th EB\",\"King\"],[\"SR-522 N\\u002fO 195th WB\",\"King\"],[\"SR-522 N\\u002fO 195th EB\",\"King\"],[\"I-5 N\\u002fO I-5 Rev CBD NB\\u002fSB\",\"King\"],[\"I-90 W\\u002fO SR-18 WB\\u002fEB\",\"King\"],[\"I-90 E\\u002fO SR-18 WB\\u002fEB\",\"King\"],[\"I-90 E\\u002fO 436th WB\\u002fEB\",\"King\"],[\"I-90 @ Kittitas County WB\\u002fEB\",\"King\"],[\"I-405 N\\u002fO SR-522 NB\\u002fSB\",\"King\"],[\"SR-167 N\\u002fO Grady NB\\u002fSB\",\"King\"],[\"SR-410 E\\u002fO 244th WB\\u002fEB\",\"King\"],[\"SR-410 E\\u002fO Farman WB\\u002fEB\",\"King\"],[\"SR-410 @ Greenwater River WB\\u002fEB\",\"King\"],[\"SR-509 E\\u002fO 47th NB\\u002fSB\",\"King\"],[\"SR-509 E\\u002fO 21st NB\\u002fSB\",\"King\"],[\"SR-509 W\\u002fO SR-516 NB\\u002fSB\",\"King\"],[\"SR-509 W\\u002fO Des Moines Mem NB\\u002fSB\",\"King\"],[\"SR-509 E\\u002fO 1st Ave NB\\u002fSB\",\"King\"],[\"SR-509 E\\u002fO Des Moines Mem NB\\u002fSB\",\"King\"],[\"SR-509 N\\u002fO Des Moines Mem NB\\u002fSB\",\"King\"],[\"SR-509 N\\u002fO SR-518 NB\\u002fSB\",\"King\"],[\"SR-99 S\\u002fO SR-18 NB\\u002fSB\",\"King\"],[\"SR-99 N\\u002fO SR-18 NB\\u002fSB\",\"King\"],[\"SR-99 N\\u002fO 320th NB\\u002fSB\",\"King\"],[\"SR-99 N\\u002fO 188th NB\\u002fSB\",\"King\"],[\"SR-99 @ WSF NB\\u002fSB\",\"King\"],[\"SR-99 @ Aurora Bridge NB\\u002fSB\",\"King\"],[\"SR-99 N\\u002fO 38th NB\\u002fSB\",\"King\"],[\"SR-99 S\\u002fO Roosevelt NB\\u002fSB\",\"King\"],[\"SR-599 N\\u002fO I-5 NB\\u002fSB\",\"King\"],[\"SR-518 @ SR-509 WB\\u002fEB\",\"King\"],[\"SR-518 E\\u002fO SR-509 WB\\u002fEB\",\"King\"],[\"SR-18 E\\u002fO SR-99 WB\\u002fEB\",\"King\"],[\"SR-18 N\\u002fO 304th WB\\u002fEB\",\"King\"],[\"SR-18 S\\u002fO I-90 WB\\u002fEB\",\"King\"],[\"SR-202 @ SR-522 NB\\u002fSB\",\"King\"],[\"SR-202 N\\u002fO 145th NB\\u002fSB\",\"King\"],[\"SR-202 @ Sammamish River Br NB\\u002fSB\",\"King\"],[\"SR-202 S\\u002fO 144th NB\\u002fSB\",\"King\"],[\"SR-202 N\\u002fO Redmond Way NB\\u002fSB\",\"King\"],[\"SR-202 E\\u002fO 164th NB\\u002fSB\",\"King\"],[\"SR-202 E\\u002fO SR-520 NB\\u002fSB\",\"King\"],[\"SR-202 E\\u002fO E Lk Samm NB\\u002fSB\",\"King\"],[\"SR-202 E\\u002fO Sahalee NB\\u002fSB\",\"King\"],[\"SR-202 E\\u002fO 236th NB\\u002fSB\",\"King\"],[\"SR-202 S\\u002fO Ames Lake NB\\u002fSB\",\"King\"],[\"SR-202 S\\u002fO Duthie Hill NB\\u002fSB\",\"King\"],[\"SR-202 E\\u002fO SR-203 NB\\u002fSB\",\"King\"],[\"SR-202 N\\u002fO I-90 NB\\u002fSB\",\"King\"],[\"SR-522 N\\u002fO 145th NB\\u002fSB\",\"King\"],[\"SR-104 W\\u002fO 19th WB\\u002fEB\",\"King\"],[\"SR-516 E\\u002fO SR-509 WB\\u002fEB\",\"King\"],[\"SR-516 W\\u002fO I-5 WB\\u002fEB\",\"King\"],[\"SR-516 E\\u002fO Meeker WB\\u002fEB\",\"King\"],[\"SR-516 W\\u002fO SR-167 WB\\u002fEB\",\"King\"],[\"SR-516 E\\u002fO SR-167 WB\\u002fEB\",\"King\"],[\"SR-516 E\\u002fO SR-18 WB\\u002fEB\",\"King\"],[\"SR-900 S\\u002fO NB I-5 on-ramp @ Boe Acc WB\\u002fEB\",\"King\"],[\"SR-900 E\\u002fO 68th WB\\u002fEB\",\"King\"],[\"SR-900 @ I-405 WB\\u002fEB\",\"King\"],[\"SR-900 E\\u002fO 148th WB\\u002fEB\",\"King\"],[\"SR-900 N\\u002fO Talus WB\\u002fEB\",\"King\"],[\"SR-900 N\\u002fO Newport WB\\u002fEB\",\"King\"],[\"SR-2 E\\u002fO Skykomish WB\\u002fEB\",\"King\"],[\"SR-513 S\\u002fO 44th NB\\u002fSB\",\"King\"],[\"SR-169 N\\u002fO SR-164 NB\\u002fSB\",\"King\"],[\"SR-169 S\\u002fO Lawson NB\\u002fSB\",\"King\"],[\"SR-169 S\\u002fO 280th NB\\u002fSB\",\"King\"],[\"SR-169 N\\u002fO 276th NB\\u002fSB\",\"King\"],[\"SR-169 N\\u002fO 231st NB\\u002fSB\",\"King\"],[\"SR-169 N\\u002fO 231st NB\\u002fSB\",\"King\"],[\"SR-169 W\\u002fO 140th NB\\u002fSB\",\"King\"],[\"SR-515 N\\u002fO SR-516 NB\\u002fSB\",\"King\"],[\"SR-515 N\\u002fO 108th NB\\u002fSB\",\"King\"],[\"SR-515 N\\u002fO Puget NB\\u002fSB\",\"King\"],[\"SR-181 N\\u002fO SR-516 NB\\u002fSB\",\"King\"],[\"SR-181 S\\u002fO James NB\\u002fSB\",\"King\"],[\"SR-181 N\\u002fO James NB\\u002fSB\",\"King\"],[\"SR-181 N\\u002fO 228th NB\\u002fSB\",\"King\"],[\"SR-181 N\\u002fO 180th NB\\u002fSB\",\"King\"],[\"SR-181 S\\u002fO Longacres NB\\u002fSB\",\"King\"],[\"SR-523 E\\u002fO Lenora WB\\u002fEB\",\"King\"],[\"SR-164 @ SR-18 WB\\u002fEB\",\"King\"],[\"SR-164 S\\u002fO 400th WB\\u002fEB\",\"King\"],[\"SR-203 N\\u002fO Cherry Valley NB\\u002fSB\",\"King\"],[\"SR-203 N\\u002fO 124th NB\\u002fSB\",\"King\"],[\"SR-203 W\\u002fO Stillwater Hill NB\\u002fSB\",\"King\"],[\"SR-203 N\\u002fO Carnation Farm NB\\u002fSB\",\"King\"],[\"SR-203 N\\u002fO Tolt Hill NB\\u002fSB\",\"King\"],[\"SR-203 N\\u002fO SR-202 NB\\u002fSB\",\"King\"],[\"SR-519 W\\u002fO 4th NB\\u002fSB\",\"King\"]],\"hovertemplate\":\"Observed=%{x}\\u003cbr\\u003eModel=%{y}\\u003cbr\\u003elocation=%{customdata[0]}\\u003cbr\\u003eCounty=%{customdata[1]}\\u003cextra\\u003e\\u003c\\u002fextra\\u003e\",\"legendgroup\":\"\",\"marker\":{\"color\":\"#91268F\",\"symbol\":\"circle\"},\"mode\":\"markers\",\"name\":\"\",\"orientation\":\"v\",\"showlegend\":false,\"x\":{\"dtype\":\"i2\",\"bdata\":\"+gZ1B4UC9QV9BXgFZAUxBRYEpgY6CowOtgsGBAgE5AiACWUJbwnYCugJDgcWB1IDdgL\\u002fBIsEKwTIA1sD0AL3BEoDFgLNA00FDwVyA2UDHgQHBBQGjAaVCWcGCAnnBCwECw0HBd8DywFDAIUAtAGXAvsAZQCoAawFkgX4BDsCNANuDBkGFAnOBf0D3AoNA88DMAVACfUEqwM7AQcBoQIVAjwDoQZtBEgDvwEdAloBpgFPAbkE5gETAZYEhgP7BhAEBwT3A6YB\\u002fQLPACgDuAKwAMwCngE\\u002fAmQDRwLVBlUENQQ+A5UBhgNQB0cFCAbNBqsGlQilAlsDjwKHAiEDyAHnASkCDQIJBA==\"},\"xaxis\":\"x\",\"y\":{\"dtype\":\"i2\",\"bdata\":\"vBjDF5AI9BCVEnILBAtyB7MDtQqlGB8T\\u002fRLpFGMVJwwFDQsOTQ9UC3oLQQh3CI0DmQKGCikMGwlcCbIEYATuA14DJgdvA1sF6ASRAmQCzAKbArAFZwU5KO8GBAZ1AAAA9iRlCB8CXgBPADoAaAGsAEkAKwAzAHgQrxBFBa8DGAM5A1IQpA9sCQcDMQkBB\\u002f8FCwf\\u002fBx8D2gJsAqcB9AOcAd0BlwiPBTcCHgKlAekAVQEDA+kHAQJrANMJ+Ay7D84JFAWvBqEBiAauAc4CfAIAABgGgwCdAZ0BlQKVA3UDhwbCAVsCwgTQCW0HPQqYCyIJiglRA+gDKwK6AeYB4ADtAHMBzACIBw==\"},\"yaxis\":\"y\",\"type\":\"scatter\",\"line\":{\"color\":\"Grey\",\"width\":2}},{\"hovertemplate\":\"Observed=%{x}\\u003cbr\\u003eModel=%{y}\\u003cextra\\u003e\\u003c\\u002fextra\\u003e\",\"legendgroup\":\"\",\"line\":{\"color\":\"Grey\",\"dash\":\"solid\",\"width\":2},\"marker\":{\"symbol\":\"circle\"},\"mode\":\"lines\",\"name\":\"\",\"orientation\":\"v\",\"showlegend\":false,\"x\":{\"dtype\":\"f8\",\"bdata\":\"AAAAAAAAAAB6O0Ni3s5CQHo7Q2LezlJAN9lkk002XEB6O0Ni3s5iQFgK1PqVgmdAN9lkk002bEAL1PqVAnVwQHo7Q2LeznJA6aKLLroodUBYCtT6lYJ3QMhxHMdx3HlAN9lkk002fECmQK1fKZB+QAvU+pUCdYBAwgcffPChgUB6O0Ni3s6CQDJvZ0jM+4NA6aKLLroohUCh1q8UqFWGQFgK1PqVgodAED744IOviEDIcRzHcdyJQH+lQK1fCYtAN9lkk002jEDvDIl5O2ONQKZArV8pkI5AXnTRRRe9j0AL1PqVAnWQQOftDIl5C5FAwgcffPChkUCeITFvZziSQHo7Q2LezpJAVlVVVVVlk0Ayb2dIzPuTQA2JeTtDkpRA6aKLLroolUDFvJ0hMb+VQKHWrxSoVZZAffDBBx\\u002fslkBYCtT6lYKXQDQk5u0MGZhAED744IOvmEDsVwrU+kWZQMhxHMdx3JlApIsuuuhymkB\\u002fpUCtXwmbQFu\\u002fUqDWn5tAN9lkk002nEAT83aGxMycQO8MiXk7Y51AyiabbLL5nUCmQK1fKZCeQIJav1KgJp9AXnTRRRe9n0Adx3EcxymgQAvU+pUCdaBA+eCDDz7AoEDn7QyJeQuhQNT6lQK1VqFAwgcffPChoUCwFKj1K+2hQJ4hMW9nOKJAjC666KKDokB6O0Ni3s6iQGhIzNsZGqNAVlVVVVVlo0BEYt7OkLCjQDJvZ0jM+6NAIHzwwQdHpEANiXk7Q5KkQPuVArV+3aRA6aKLLroopUDXrxSo9XOlQMW8nSExv6VAs8kmm2wKpkCh1q8UqFWmQI\\u002fjOI7joKZAffDBBx\\u002fspkBr\\u002fUqBWjenQFgK1PqVgqdARhdddNHNp0A0JObtDBmoQCIxb2dIZKhAED744IOvqED+SoFav\\u002fqoQOxXCtT6RalA2mSTTTaRqUDIcRzHcdypQLZ+pUCtJ6pApIsuuuhyqkCRmLczJL6qQH+lQK1fCatAbbLJJptUq0Bbv1Kg1p+rQEnM2xkS66tAN9lkk002rEAl5u0MiYGsQBPzdobEzKxAAAAAAAAYrUA=\"},\"xaxis\":\"x\",\"y\":{\"dtype\":\"f8\",\"bdata\":\"KAOIwjuKZsCAGq1S7DddwF5dlEDCtkrAEOnFkFAJJEDyqHtEtV1SQGBKbzsgHWFASsCg1GULaUAaG+m21XxwQA3WgYP4c3RAApEaUBtreED0S7McPmJ8QHUDpnSwLIBA72Dy2kEogkBpvj5B0yOEQOQbi6dkH4ZAXXnXDfYaiEDX1iN0hxaKQFI0cNoYEoxAzJG8QKoNjkCjd4TTnQSQQF+mqoZmApFAHdXQOS8AkkDaA\\u002ffs9\\u002f2SQJcyHaDA+5NAVGFDU4n5lEARkGkGUveVQM6+j7ka9ZZAi+21bOPyl0BJHNwfrPCYQAZLAtN07plAwnkohj3smkB\\u002fqE45BuqbQDzXdOzO55xA+QWbn5flnUC3NMFSYOOeQHNj5wUp4Z9AGMmG3HhvoEB24Bk2Xe6gQNb3rI9BbaFANA9A6SXsoUCSJtNCCmuiQPA9Zpzu6aJAUFX59dJoo0CubIxPt+ejQAyEH6mbZqRAbJuyAoDlpEDKskVcZGSlQCjK2LVI46VAhuFrDy1ipkDm+P5oEeGmQEQQksL1X6dAoiclHNrep0AAP7h1vl2oQGBWS8+i3KhAvm3eKIdbqUAchXGCa9qpQHycBNxPWapA2rOXNTTYqkA4yyqPGFerQJbivej81atA9PlQQuFUrEBSEeSbxdOsQLIod\\u002fWpUq1AEEAKT47RrUBuV52oclCuQM5uMAJXz65ALIbDWztOr0CMnVa1H82vQHXadAcCJrBAJGY+NHRlsEDT8Qdh5qSwQIJ90Y1Y5LBAMgmbusojsUDhlGTnPGOxQJAgLhSvorFAQKz3QCHisUDvN8FtkyGyQJ7DipoFYbJATk9Ux3egskD92h306d+yQKtm5yBcH7NAW\\u002fKwTc5es0AKfnp6QJ6zQLkJRKey3bNAaZUN1CQdtEAYIdcAl1y0QMesoC0JnLRAdzhqWnvbtEAmxDOH7Rq1QNVP\\u002fbNfWrVAhdvG4NGZtUAzZ5ANRNm1QOPyWTq2GLZAkn4jZyhYtkBBCu2Tmpe2QPGVtsAM17ZAoCGA7X4Wt0BPrUka8VW3QP84E0djlbdArcTcc9XUt0A=\"},\"yaxis\":\"y\",\"type\":\"scatter\"}],                        {\"template\":{\"data\":{\"barpolar\":[{\"marker\":{\"line\":{\"color\":\"white\",\"width\":0.5},\"pattern\":{\"fillmode\":\"overlay\",\"size\":10,\"solidity\":0.2}},\"type\":\"barpolar\"}],\"bar\":[{\"error_x\":{\"color\":\"rgb(36,36,36)\"},\"error_y\":{\"color\":\"rgb(36,36,36)\"},\"marker\":{\"line\":{\"color\":\"white\",\"width\":0.5},\"pattern\":{\"fillmode\":\"overlay\",\"size\":10,\"solidity\":0.2}},\"type\":\"bar\"}],\"carpet\":[{\"aaxis\":{\"endlinecolor\":\"rgb(36,36,36)\",\"gridcolor\":\"white\",\"linecolor\":\"white\",\"minorgridcolor\":\"white\",\"startlinecolor\":\"rgb(36,36,36)\"},\"baxis\":{\"endlinecolor\":\"rgb(36,36,36)\",\"gridcolor\":\"white\",\"linecolor\":\"white\",\"minorgridcolor\":\"white\",\"startlinecolor\":\"rgb(36,36,36)\"},\"type\":\"carpet\"}],\"choropleth\":[{\"colorbar\":{\"outlinewidth\":1,\"tickcolor\":\"rgb(36,36,36)\",\"ticks\":\"outside\"},\"type\":\"choropleth\"}],\"contourcarpet\":[{\"colorbar\":{\"outlinewidth\":1,\"tickcolor\":\"rgb(36,36,36)\",\"ticks\":\"outside\"},\"type\":\"contourcarpet\"}],\"contour\":[{\"colorbar\":{\"outlinewidth\":1,\"tickcolor\":\"rgb(36,36,36)\",\"ticks\":\"outside\"},\"colorscale\":[[0.0,\"#440154\"],[0.1111111111111111,\"#482878\"],[0.2222222222222222,\"#3e4989\"],[0.3333333333333333,\"#31688e\"],[0.4444444444444444,\"#26828e\"],[0.5555555555555556,\"#1f9e89\"],[0.6666666666666666,\"#35b779\"],[0.7777777777777778,\"#6ece58\"],[0.8888888888888888,\"#b5de2b\"],[1.0,\"#fde725\"]],\"type\":\"contour\"}],\"heatmap\":[{\"colorbar\":{\"outlinewidth\":1,\"tickcolor\":\"rgb(36,36,36)\",\"ticks\":\"outside\"},\"colorscale\":[[0.0,\"#440154\"],[0.1111111111111111,\"#482878\"],[0.2222222222222222,\"#3e4989\"],[0.3333333333333333,\"#31688e\"],[0.4444444444444444,\"#26828e\"],[0.5555555555555556,\"#1f9e89\"],[0.6666666666666666,\"#35b779\"],[0.7777777777777778,\"#6ece58\"],[0.8888888888888888,\"#b5de2b\"],[1.0,\"#fde725\"]],\"type\":\"heatmap\"}],\"histogram2dcontour\":[{\"colorbar\":{\"outlinewidth\":1,\"tickcolor\":\"rgb(36,36,36)\",\"ticks\":\"outside\"},\"colorscale\":[[0.0,\"#440154\"],[0.1111111111111111,\"#482878\"],[0.2222222222222222,\"#3e4989\"],[0.3333333333333333,\"#31688e\"],[0.4444444444444444,\"#26828e\"],[0.5555555555555556,\"#1f9e89\"],[0.6666666666666666,\"#35b779\"],[0.7777777777777778,\"#6ece58\"],[0.8888888888888888,\"#b5de2b\"],[1.0,\"#fde725\"]],\"type\":\"histogram2dcontour\"}],\"histogram2d\":[{\"colorbar\":{\"outlinewidth\":1,\"tickcolor\":\"rgb(36,36,36)\",\"ticks\":\"outside\"},\"colorscale\":[[0.0,\"#440154\"],[0.1111111111111111,\"#482878\"],[0.2222222222222222,\"#3e4989\"],[0.3333333333333333,\"#31688e\"],[0.4444444444444444,\"#26828e\"],[0.5555555555555556,\"#1f9e89\"],[0.6666666666666666,\"#35b779\"],[0.7777777777777778,\"#6ece58\"],[0.8888888888888888,\"#b5de2b\"],[1.0,\"#fde725\"]],\"type\":\"histogram2d\"}],\"histogram\":[{\"marker\":{\"line\":{\"color\":\"white\",\"width\":0.6}},\"type\":\"histogram\"}],\"mesh3d\":[{\"colorbar\":{\"outlinewidth\":1,\"tickcolor\":\"rgb(36,36,36)\",\"ticks\":\"outside\"},\"type\":\"mesh3d\"}],\"parcoords\":[{\"line\":{\"colorbar\":{\"outlinewidth\":1,\"tickcolor\":\"rgb(36,36,36)\",\"ticks\":\"outside\"}},\"type\":\"parcoords\"}],\"pie\":[{\"automargin\":true,\"type\":\"pie\"}],\"scatter3d\":[{\"line\":{\"colorbar\":{\"outlinewidth\":1,\"tickcolor\":\"rgb(36,36,36)\",\"ticks\":\"outside\"}},\"marker\":{\"colorbar\":{\"outlinewidth\":1,\"tickcolor\":\"rgb(36,36,36)\",\"ticks\":\"outside\"}},\"type\":\"scatter3d\"}],\"scattercarpet\":[{\"marker\":{\"colorbar\":{\"outlinewidth\":1,\"tickcolor\":\"rgb(36,36,36)\",\"ticks\":\"outside\"}},\"type\":\"scattercarpet\"}],\"scattergeo\":[{\"marker\":{\"colorbar\":{\"outlinewidth\":1,\"tickcolor\":\"rgb(36,36,36)\",\"ticks\":\"outside\"}},\"type\":\"scattergeo\"}],\"scattergl\":[{\"marker\":{\"colorbar\":{\"outlinewidth\":1,\"tickcolor\":\"rgb(36,36,36)\",\"ticks\":\"outside\"}},\"type\":\"scattergl\"}],\"scattermapbox\":[{\"marker\":{\"colorbar\":{\"outlinewidth\":1,\"tickcolor\":\"rgb(36,36,36)\",\"ticks\":\"outside\"}},\"type\":\"scattermapbox\"}],\"scattermap\":[{\"marker\":{\"colorbar\":{\"outlinewidth\":1,\"tickcolor\":\"rgb(36,36,36)\",\"ticks\":\"outside\"}},\"type\":\"scattermap\"}],\"scatterpolargl\":[{\"marker\":{\"colorbar\":{\"outlinewidth\":1,\"tickcolor\":\"rgb(36,36,36)\",\"ticks\":\"outside\"}},\"type\":\"scatterpolargl\"}],\"scatterpolar\":[{\"marker\":{\"colorbar\":{\"outlinewidth\":1,\"tickcolor\":\"rgb(36,36,36)\",\"ticks\":\"outside\"}},\"type\":\"scatterpolar\"}],\"scatter\":[{\"fillpattern\":{\"fillmode\":\"overlay\",\"size\":10,\"solidity\":0.2},\"type\":\"scatter\"}],\"scatterternary\":[{\"marker\":{\"colorbar\":{\"outlinewidth\":1,\"tickcolor\":\"rgb(36,36,36)\",\"ticks\":\"outside\"}},\"type\":\"scatterternary\"}],\"surface\":[{\"colorbar\":{\"outlinewidth\":1,\"tickcolor\":\"rgb(36,36,36)\",\"ticks\":\"outside\"},\"colorscale\":[[0.0,\"#440154\"],[0.1111111111111111,\"#482878\"],[0.2222222222222222,\"#3e4989\"],[0.3333333333333333,\"#31688e\"],[0.4444444444444444,\"#26828e\"],[0.5555555555555556,\"#1f9e89\"],[0.6666666666666666,\"#35b779\"],[0.7777777777777778,\"#6ece58\"],[0.8888888888888888,\"#b5de2b\"],[1.0,\"#fde725\"]],\"type\":\"surface\"}],\"table\":[{\"cells\":{\"fill\":{\"color\":\"rgb(237,237,237)\"},\"line\":{\"color\":\"white\"}},\"header\":{\"fill\":{\"color\":\"rgb(217,217,217)\"},\"line\":{\"color\":\"white\"}},\"type\":\"table\"}]},\"layout\":{\"annotationdefaults\":{\"arrowhead\":0,\"arrowwidth\":1},\"autotypenumbers\":\"strict\",\"coloraxis\":{\"colorbar\":{\"outlinewidth\":1,\"tickcolor\":\"rgb(36,36,36)\",\"ticks\":\"outside\"}},\"colorscale\":{\"diverging\":[[0.0,\"rgb(103,0,31)\"],[0.1,\"rgb(178,24,43)\"],[0.2,\"rgb(214,96,77)\"],[0.3,\"rgb(244,165,130)\"],[0.4,\"rgb(253,219,199)\"],[0.5,\"rgb(247,247,247)\"],[0.6,\"rgb(209,229,240)\"],[0.7,\"rgb(146,197,222)\"],[0.8,\"rgb(67,147,195)\"],[0.9,\"rgb(33,102,172)\"],[1.0,\"rgb(5,48,97)\"]],\"sequential\":[[0.0,\"#440154\"],[0.1111111111111111,\"#482878\"],[0.2222222222222222,\"#3e4989\"],[0.3333333333333333,\"#31688e\"],[0.4444444444444444,\"#26828e\"],[0.5555555555555556,\"#1f9e89\"],[0.6666666666666666,\"#35b779\"],[0.7777777777777778,\"#6ece58\"],[0.8888888888888888,\"#b5de2b\"],[1.0,\"#fde725\"]],\"sequentialminus\":[[0.0,\"#440154\"],[0.1111111111111111,\"#482878\"],[0.2222222222222222,\"#3e4989\"],[0.3333333333333333,\"#31688e\"],[0.4444444444444444,\"#26828e\"],[0.5555555555555556,\"#1f9e89\"],[0.6666666666666666,\"#35b779\"],[0.7777777777777778,\"#6ece58\"],[0.8888888888888888,\"#b5de2b\"],[1.0,\"#fde725\"]]},\"colorway\":[\"#91268F\",\"#8CC63E\",\"#00A7A0\",\"#F05A28\",\"#4C4C4C\",\"#630460\",\"#9f3913\",\"#588527\",\"#00716c\",\"#3e4040\"],\"font\":{\"color\":\"rgb(36,36,36)\",\"family\":\"Poppins\",\"size\":11},\"geo\":{\"bgcolor\":\"white\",\"lakecolor\":\"white\",\"landcolor\":\"white\",\"showlakes\":true,\"showland\":true,\"subunitcolor\":\"white\"},\"hoverlabel\":{\"align\":\"left\"},\"hovermode\":\"closest\",\"mapbox\":{\"style\":\"light\"},\"paper_bgcolor\":\"white\",\"plot_bgcolor\":\"white\",\"polar\":{\"angularaxis\":{\"gridcolor\":\"rgb(232,232,232)\",\"linecolor\":\"rgb(36,36,36)\",\"showgrid\":false,\"showline\":true,\"ticks\":\"outside\"},\"bgcolor\":\"white\",\"radialaxis\":{\"gridcolor\":\"rgb(232,232,232)\",\"linecolor\":\"rgb(36,36,36)\",\"showgrid\":false,\"showline\":true,\"ticks\":\"outside\"}},\"scene\":{\"xaxis\":{\"backgroundcolor\":\"white\",\"gridcolor\":\"rgb(232,232,232)\",\"gridwidth\":2,\"linecolor\":\"rgb(36,36,36)\",\"showbackground\":true,\"showgrid\":false,\"showline\":true,\"ticks\":\"outside\",\"zeroline\":false,\"zerolinecolor\":\"rgb(36,36,36)\"},\"yaxis\":{\"backgroundcolor\":\"white\",\"gridcolor\":\"rgb(232,232,232)\",\"gridwidth\":2,\"linecolor\":\"rgb(36,36,36)\",\"showbackground\":true,\"showgrid\":false,\"showline\":true,\"ticks\":\"outside\",\"zeroline\":false,\"zerolinecolor\":\"rgb(36,36,36)\"},\"zaxis\":{\"backgroundcolor\":\"white\",\"gridcolor\":\"rgb(232,232,232)\",\"gridwidth\":2,\"linecolor\":\"rgb(36,36,36)\",\"showbackground\":true,\"showgrid\":false,\"showline\":true,\"ticks\":\"outside\",\"zeroline\":false,\"zerolinecolor\":\"rgb(36,36,36)\"}},\"shapedefaults\":{\"fillcolor\":\"black\",\"line\":{\"width\":0},\"opacity\":0.3},\"ternary\":{\"aaxis\":{\"gridcolor\":\"rgb(232,232,232)\",\"linecolor\":\"rgb(36,36,36)\",\"showgrid\":false,\"showline\":true,\"ticks\":\"outside\"},\"baxis\":{\"gridcolor\":\"rgb(232,232,232)\",\"linecolor\":\"rgb(36,36,36)\",\"showgrid\":false,\"showline\":true,\"ticks\":\"outside\"},\"bgcolor\":\"white\",\"caxis\":{\"gridcolor\":\"rgb(232,232,232)\",\"linecolor\":\"rgb(36,36,36)\",\"showgrid\":false,\"showline\":true,\"ticks\":\"outside\"}},\"title\":{\"x\":0.05},\"xaxis\":{\"automargin\":true,\"gridcolor\":\"rgb(232,232,232)\",\"linecolor\":\"rgb(36,36,36)\",\"showgrid\":false,\"showline\":true,\"ticks\":\"outside\",\"title\":{\"standoff\":15},\"zeroline\":false,\"zerolinecolor\":\"rgb(36,36,36)\"},\"yaxis\":{\"automargin\":true,\"gridcolor\":\"rgb(232,232,232)\",\"linecolor\":\"rgb(36,36,36)\",\"showgrid\":false,\"showline\":true,\"ticks\":\"outside\",\"title\":{\"standoff\":15},\"zeroline\":false,\"zerolinecolor\":\"rgb(36,36,36)\"}}},\"xaxis\":{\"anchor\":\"y\",\"domain\":[0.0,1.0],\"title\":{\"text\":\"Observed\"}},\"yaxis\":{\"anchor\":\"x\",\"domain\":[0.0,1.0],\"title\":{\"text\":\"Model\"}},\"legend\":{\"tracegroupgap\":0},\"title\":{\"text\":\"Medium Trucks: King\"},\"margin\":{\"l\":100,\"r\":100,\"t\":100,\"b\":100},\"height\":600,\"width\":800,\"shapes\":[{\"line\":{\"color\":\"Red\",\"dash\":\"dash\",\"width\":2},\"type\":\"line\",\"x0\":0,\"x1\":10297,\"y0\":0,\"y1\":10297}],\"annotations\":[{\"align\":\"right\",\"font\":{\"color\":\"pink\",\"size\":12},\"showarrow\":false,\"text\":\"y = x\",\"x\":10811.85,\"y\":10811.85},{\"align\":\"right\",\"font\":{\"color\":\"black\",\"size\":12},\"showarrow\":false,\"text\":\"r^2 = 0.48\",\"x\":3910.2000000000003,\"y\":6405.875489128034}]},                        {\"responsive\": true}                    ).then(function(){\n",
       "                            \n",
       "var gd = document.getElementById('1808d115-2e96-4776-8697-600a75987e5d');\n",
       "var x = new MutationObserver(function (mutations, observer) {{\n",
       "        var display = window.getComputedStyle(gd).display;\n",
       "        if (!display || display === 'none') {{\n",
       "            console.log([gd, 'removed!']);\n",
       "            Plotly.purge(gd);\n",
       "            observer.disconnect();\n",
       "        }}\n",
       "}});\n",
       "\n",
       "// Listen for the removal of the full notebook cells\n",
       "var notebookContainer = gd.closest('#notebook-container');\n",
       "if (notebookContainer) {{\n",
       "    x.observe(notebookContainer, {childList: true});\n",
       "}}\n",
       "\n",
       "// Listen for the clearing of the current output cell\n",
       "var outputEl = gd.closest('.output');\n",
       "if (outputEl) {{\n",
       "    x.observe(outputEl, {childList: true});\n",
       "}}\n",
       "\n",
       "                        })                };            </script>        </div>"
      ]
     },
     "metadata": {},
     "output_type": "display_data"
    }
   ],
   "source": [
    "fig = create_truck_chart(df_daily_med, 'Medium', 'King')\n",
    "fig.show()"
   ]
  },
  {
   "cell_type": "raw",
   "id": "5e3e1423",
   "metadata": {},
   "source": [
    "#### Kitsap"
   ]
  },
  {
   "cell_type": "code",
   "execution_count": 31,
   "id": "adf23089",
   "metadata": {
    "execution": {
     "iopub.execute_input": "2025-06-18T22:59:58.994375Z",
     "iopub.status.busy": "2025-06-18T22:59:58.993378Z",
     "iopub.status.idle": "2025-06-18T22:59:59.116253Z",
     "shell.execute_reply": "2025-06-18T22:59:59.115258Z"
    }
   },
   "outputs": [
    {
     "data": {
      "application/vnd.plotly.v1+json": {
       "config": {
        "plotlyServerURL": "https://plot.ly"
       },
       "data": [
        {
         "customdata": [
          [
           "SR-16  N/O SR-302 NB/SB",
           "Kitsap"
          ],
          [
           "SR-16 N/O SR-160 NB/SB",
           "Kitsap"
          ],
          [
           "SR-16 N/O Tremont NB/SB",
           "Kitsap"
          ],
          [
           "SR-16 S/O SR-3 NB",
           "Kitsap"
          ],
          [
           "SR-104 @ Hood Canal Bridge WB/EB",
           "Kitsap"
          ],
          [
           "SR-104 E/O Hood Canal Bridge WB/EB",
           "Kitsap"
          ],
          [
           "SR-104 N/O Pt Gamble Rd WB/EB",
           "Kitsap"
          ],
          [
           "SR-104 E/O SR-307 WB/EB",
           "Kitsap"
          ],
          [
           "SR-104 E/O Hansville WB/EB",
           "Kitsap"
          ],
          [
           "SR-160 @ SR-16 WB/EB",
           "Kitsap"
          ],
          [
           "SR-160 E/O Long Lake Rd WB/EB",
           "Kitsap"
          ],
          [
           "SR-160 W/O Banner WB/EB",
           "Kitsap"
          ],
          [
           "SR-160 E/O Peterson WB/EB",
           "Kitsap"
          ],
          [
           "SR-160 S/O Southworth Dr WB/EB",
           "Kitsap"
          ],
          [
           "SR-166 E/O SR-16 WB/EB",
           "Kitsap"
          ],
          [
           "SR-3 E/O Sunset Way NB/SB",
           "Kitsap"
          ],
          [
           "SR-3 N/O SR-305 NB/SB",
           "Kitsap"
          ],
          [
           "SR-3 S/O Newberry Hill Rd NB/SB",
           "Kitsap"
          ],
          [
           "SR-3 @ SR-304 NB/SB",
           "Kitsap"
          ],
          [
           "SR-3 NE of SR-16 NB/SB",
           "Kitsap"
          ],
          [
           "SR-3 W/O Lake Flora Rd NB/SB",
           "Kitsap"
          ],
          [
           "SR-303 E/O SR-3 NB/SB",
           "Kitsap"
          ],
          [
           "SR-303 N/O 11th St NB/SB",
           "Kitsap"
          ],
          [
           "SR-303 N/O SR-304 NB/SB",
           "Kitsap"
          ],
          [
           "SR-304 E/O SR-3 WB/EB",
           "Kitsap"
          ],
          [
           "SR-304 W/O Naval WB/EB",
           "Kitsap"
          ],
          [
           "SR-305 W/O SR-307 WB/EB",
           "Kitsap"
          ],
          [
           "SR-305 W/O Suquamish Way WB/EB",
           "Kitsap"
          ],
          [
           "SR-305 N/O Day Rd WB/EB",
           "Kitsap"
          ],
          [
           "SR-305 N/O High School Rd WB/EB",
           "Kitsap"
          ],
          [
           "SR-305 S/O Winslow Way WB/EB",
           "Kitsap"
          ],
          [
           "SR-305 @ Ferry Ramp WB/EB",
           "Kitsap"
          ],
          [
           "SR-307 W/O SR-104 NB/SB",
           "Kitsap"
          ],
          [
           "SR-307 N/O Gunderson NB/SB",
           "Kitsap"
          ],
          [
           "SR-307 S/O Gunderson NB/SB",
           "Kitsap"
          ],
          [
           "SR-307 N/O SR-305 NB/SB",
           "Kitsap"
          ],
          [
           "SR-308 @ SR-3 WB/EB",
           "Kitsap"
          ],
          [
           "SR-308 E/O SR-3 WB/EB",
           "Kitsap"
          ],
          [
           "SR-308 E/O Silverdale Way WB/EB",
           "Kitsap"
          ],
          [
           "SR-308 W/O Brownsville Hwy WB/EB",
           "Kitsap"
          ],
          [
           "SR-310 @ SR-3 WB/EB",
           "Kitsap"
          ],
          [
           "SR-310 W/O Callow WB/EB",
           "Kitsap"
          ]
         ],
         "hovertemplate": "Observed=%{x}<br>Model=%{y}<br>location=%{customdata[0]}<br>County=%{customdata[1]}<extra></extra>",
         "legendgroup": "",
         "line": {
          "color": "Grey",
          "width": 2
         },
         "marker": {
          "color": "#91268F",
          "symbol": "circle"
         },
         "mode": "markers",
         "name": "",
         "orientation": "v",
         "showlegend": false,
         "type": "scatter",
         "x": {
          "bdata": "0AifB3kIzAfIArQAywAZAisBCwL1AYMB6wBhAEUBsgR5Bl8J+wdvDtAD2QPLA7UBfAOpAqIEyQKEAgYCFwHlAC0DEALEAuwCqgDlABwB9wCYAwkB",
          "dtype": "i2"
         },
         "xaxis": "x",
         "y": {
          "bdata": "bgvoCcQL8AYAACcAHwAFAcAARQLiALUAzwBkABYCSAA+AbQJ3AjgDgAA4wNvBAUCcwZEBIIG5gM0BKwAOgA6ADIBdwGNApICgwBwALgAcwBRAiYB",
          "dtype": "i2"
         },
         "yaxis": "y"
        },
        {
         "hovertemplate": "Observed=%{x}<br>Model=%{y}<extra></extra>",
         "legendgroup": "",
         "line": {
          "color": "Grey",
          "dash": "solid",
          "width": 2
         },
         "marker": {
          "symbol": "circle"
         },
         "mode": "lines",
         "name": "",
         "orientation": "v",
         "showlegend": false,
         "type": "scatter",
         "x": {
          "bdata": "AAAAAAAAAAB/pUCtX6lCQH+lQK1fqVJAPvjggw/+W0B/pUCtX6liQN/OkJi3U2dAPvjggw/+a0DPkJi3M1RwQH+lQK1fqXJAL7rooov+dEDfzpCYt1N3QI/jOI7jqHlAPvjggw/+e0DuDIl5O1N+QM+QmLczVIBAJ5tsssl+gUB/pUCtX6mCQNevFKj104NAL7rooov+hECHxLydISmGQN/OkJi3U4dAN9lkk01+iECP4ziO46iJQOftDIl504pAPvjggw/+i0CWArV+pSiNQO4MiXk7U45ARhdddNF9j0DPkJi3M1SQQPuVArV+6ZBAJ5tsssl+kUBToNavFBSSQH+lQK1fqZJAq6qqqqo+k0DXrxSo9dOTQAO1fqVAaZRAL7rooov+lEBbv1Kg1pOVQIfEvJ0hKZZAs8kmm2y+lkDfzpCYt1OXQAvU+pUC6ZdAN9lkk01+mEBj3s6QmBOZQI/jOI7jqJlAu+iiiy4+mkDn7QyJedOaQBPzdobEaJtAPvjggw/+m0Bq/UqBWpOcQJYCtX6lKJ1AwgcffPC9nUDuDIl5O1OeQBoS83aG6J5ARhdddNF9n0A5juM4jgmgQM+QmLczVKBAZZNNNtmeoED7lQK1fumgQJGYtzMkNKFAJ5tsssl+oUC9nSExb8mhQFOg1q8UFKJA6aKLLrpeokB/pUCtX6miQBWo9SsF9KJAq6qqqqo+o0BBrV8pUImjQNevFKj106NAbbLJJpsepEADtX6lQGmkQJm3MyTms6RAL7rooov+pEDFvJ0hMUmlQFu/UqDWk6VA8cEHH3zepUCHxLydISmmQB3HcRzHc6ZAs8kmm2y+pkBJzNsZEgmnQN/OkJi3U6dAddFFF12ep0AL1PqVAumnQKHWrxSoM6hAN9lkk01+qEDN2xkS88ioQGPezpCYE6lA+eCDDz5eqUCP4ziO46ipQCXm7QyJ86lAu+iiiy4+qkBR61cK1IiqQOftDIl506pAffDBBx8eq0AT83aGxGirQKn1KwVqs6tAPvjggw/+q0DU+pUCtUisQGr9SoFak6xAAAAAAADerEA=",
          "dtype": "f8"
         },
         "xaxis": "x",
         "y": {
          "bdata": "bBmRT6QzY8CKEdKgdQtcwDvwgaKir1HAtDvHkD5PPcAQk/LQGkAoQGDn3LCsx0pA/pS+Vqm/V0AmW4cqvg1hQM5rr6mnO2ZAdHzXKJFpa0COxv9TvUtwQOLOkxOy4nJANdcn06Z5dUCI37uSmxB4QNznT1KQp3pAMPDjEYU+fUCE+HfRedV/QGwAhkg3NoFAlQRQqLGBgkC/CBoILM2DQOkM5GemGIVAExGuxyBkhkA9FXgnm6+HQGcZQocV+4hAkB0M549GikC5IdZGCpKLQOMloKaE3YxADSpqBv8ojkA3LjRmeXSPQDAZ/+L5X5BARhvkErcFkUBaHclCdKuRQHAfrnIxUZJAhCGTou72kkCaI3jSq5yTQK4lXQJpQpRAwidCMibolEDYKSdi442VQOwrDJKgM5ZAAi7xwV3ZlkAWMNbxGn+XQCwyuyHYJJhAQDSgUZXKmEBWNoWBUnCZQGo4arEPFppAgDpP4cy7mkCUPDQRimGbQKo+GUFHB5xAvkD+cAStnEDSQuOgwVKdQOZEyNB++J1A/EatADyenkAQSZIw+UOfQCZLd2C26Z9AnSYuyLlHoECopyBgmJqgQLIoE/h27aBAvKkFkFVAoUDHKvgnNJOhQNGr6r8S5qFA3CzdV/E4okDmrc/vz4uiQPEuwoeu3qJA+6+0H40xo0AGMae3a4SjQBCymU9K16NAGzOM5ygqpEAltH5/B32kQDA1cRfmz6RAOrZjr8QipUBFN1ZHo3WlQE+4SN+ByKVAWTk7d2AbpkBkui0PP26mQG47IKcdwaZAebwSP/wTp0CDPQXX2manQI6+9265uadAmD/qBpgMqECjwNyedl+oQK1BzzZVsqhAuMLBzjMFqUDCQ7RmElipQM3Epv7wqqlA10WZls/9qUDixosurlCqQOxHfsaMo6pA98hwXmv2qkABSmP2SUmrQAvLVY4onKtAFkxIJgfvq0AgzTq+5UGsQCtOLVbElKxANc8f7qLnrEBAUBKGgTqtQErRBB5gja1AVFL3tT7grUBe0+lNHTOuQGlU3OX7ha5Ac9XOfdrYrkA=",
          "dtype": "f8"
         },
         "yaxis": "y"
        }
       ],
       "layout": {
        "annotations": [
         {
          "align": "right",
          "font": {
           "color": "pink",
           "size": 12
          },
          "showarrow": false,
          "text": "y = x",
          "x": 3998.4,
          "y": 3998.4
         },
         {
          "align": "right",
          "font": {
           "color": "black",
           "size": 12
          },
          "showarrow": false,
          "text": "r^2 = 0.80",
          "x": 3879.75,
          "y": 4145.848078142866
         }
        ],
        "height": 600,
        "legend": {
         "tracegroupgap": 0
        },
        "margin": {
         "b": 100,
         "l": 100,
         "r": 100,
         "t": 100
        },
        "shapes": [
         {
          "line": {
           "color": "Red",
           "dash": "dash",
           "width": 2
          },
          "type": "line",
          "x0": 0,
          "x1": 3808,
          "y0": 0,
          "y1": 3808
         }
        ],
        "template": {
         "data": {
          "bar": [
           {
            "error_x": {
             "color": "rgb(36,36,36)"
            },
            "error_y": {
             "color": "rgb(36,36,36)"
            },
            "marker": {
             "line": {
              "color": "white",
              "width": 0.5
             },
             "pattern": {
              "fillmode": "overlay",
              "size": 10,
              "solidity": 0.2
             }
            },
            "type": "bar"
           }
          ],
          "barpolar": [
           {
            "marker": {
             "line": {
              "color": "white",
              "width": 0.5
             },
             "pattern": {
              "fillmode": "overlay",
              "size": 10,
              "solidity": 0.2
             }
            },
            "type": "barpolar"
           }
          ],
          "carpet": [
           {
            "aaxis": {
             "endlinecolor": "rgb(36,36,36)",
             "gridcolor": "white",
             "linecolor": "white",
             "minorgridcolor": "white",
             "startlinecolor": "rgb(36,36,36)"
            },
            "baxis": {
             "endlinecolor": "rgb(36,36,36)",
             "gridcolor": "white",
             "linecolor": "white",
             "minorgridcolor": "white",
             "startlinecolor": "rgb(36,36,36)"
            },
            "type": "carpet"
           }
          ],
          "choropleth": [
           {
            "colorbar": {
             "outlinewidth": 1,
             "tickcolor": "rgb(36,36,36)",
             "ticks": "outside"
            },
            "type": "choropleth"
           }
          ],
          "contour": [
           {
            "colorbar": {
             "outlinewidth": 1,
             "tickcolor": "rgb(36,36,36)",
             "ticks": "outside"
            },
            "colorscale": [
             [
              0.0,
              "#440154"
             ],
             [
              0.1111111111111111,
              "#482878"
             ],
             [
              0.2222222222222222,
              "#3e4989"
             ],
             [
              0.3333333333333333,
              "#31688e"
             ],
             [
              0.4444444444444444,
              "#26828e"
             ],
             [
              0.5555555555555556,
              "#1f9e89"
             ],
             [
              0.6666666666666666,
              "#35b779"
             ],
             [
              0.7777777777777778,
              "#6ece58"
             ],
             [
              0.8888888888888888,
              "#b5de2b"
             ],
             [
              1.0,
              "#fde725"
             ]
            ],
            "type": "contour"
           }
          ],
          "contourcarpet": [
           {
            "colorbar": {
             "outlinewidth": 1,
             "tickcolor": "rgb(36,36,36)",
             "ticks": "outside"
            },
            "type": "contourcarpet"
           }
          ],
          "heatmap": [
           {
            "colorbar": {
             "outlinewidth": 1,
             "tickcolor": "rgb(36,36,36)",
             "ticks": "outside"
            },
            "colorscale": [
             [
              0.0,
              "#440154"
             ],
             [
              0.1111111111111111,
              "#482878"
             ],
             [
              0.2222222222222222,
              "#3e4989"
             ],
             [
              0.3333333333333333,
              "#31688e"
             ],
             [
              0.4444444444444444,
              "#26828e"
             ],
             [
              0.5555555555555556,
              "#1f9e89"
             ],
             [
              0.6666666666666666,
              "#35b779"
             ],
             [
              0.7777777777777778,
              "#6ece58"
             ],
             [
              0.8888888888888888,
              "#b5de2b"
             ],
             [
              1.0,
              "#fde725"
             ]
            ],
            "type": "heatmap"
           }
          ],
          "histogram": [
           {
            "marker": {
             "line": {
              "color": "white",
              "width": 0.6
             }
            },
            "type": "histogram"
           }
          ],
          "histogram2d": [
           {
            "colorbar": {
             "outlinewidth": 1,
             "tickcolor": "rgb(36,36,36)",
             "ticks": "outside"
            },
            "colorscale": [
             [
              0.0,
              "#440154"
             ],
             [
              0.1111111111111111,
              "#482878"
             ],
             [
              0.2222222222222222,
              "#3e4989"
             ],
             [
              0.3333333333333333,
              "#31688e"
             ],
             [
              0.4444444444444444,
              "#26828e"
             ],
             [
              0.5555555555555556,
              "#1f9e89"
             ],
             [
              0.6666666666666666,
              "#35b779"
             ],
             [
              0.7777777777777778,
              "#6ece58"
             ],
             [
              0.8888888888888888,
              "#b5de2b"
             ],
             [
              1.0,
              "#fde725"
             ]
            ],
            "type": "histogram2d"
           }
          ],
          "histogram2dcontour": [
           {
            "colorbar": {
             "outlinewidth": 1,
             "tickcolor": "rgb(36,36,36)",
             "ticks": "outside"
            },
            "colorscale": [
             [
              0.0,
              "#440154"
             ],
             [
              0.1111111111111111,
              "#482878"
             ],
             [
              0.2222222222222222,
              "#3e4989"
             ],
             [
              0.3333333333333333,
              "#31688e"
             ],
             [
              0.4444444444444444,
              "#26828e"
             ],
             [
              0.5555555555555556,
              "#1f9e89"
             ],
             [
              0.6666666666666666,
              "#35b779"
             ],
             [
              0.7777777777777778,
              "#6ece58"
             ],
             [
              0.8888888888888888,
              "#b5de2b"
             ],
             [
              1.0,
              "#fde725"
             ]
            ],
            "type": "histogram2dcontour"
           }
          ],
          "mesh3d": [
           {
            "colorbar": {
             "outlinewidth": 1,
             "tickcolor": "rgb(36,36,36)",
             "ticks": "outside"
            },
            "type": "mesh3d"
           }
          ],
          "parcoords": [
           {
            "line": {
             "colorbar": {
              "outlinewidth": 1,
              "tickcolor": "rgb(36,36,36)",
              "ticks": "outside"
             }
            },
            "type": "parcoords"
           }
          ],
          "pie": [
           {
            "automargin": true,
            "type": "pie"
           }
          ],
          "scatter": [
           {
            "fillpattern": {
             "fillmode": "overlay",
             "size": 10,
             "solidity": 0.2
            },
            "type": "scatter"
           }
          ],
          "scatter3d": [
           {
            "line": {
             "colorbar": {
              "outlinewidth": 1,
              "tickcolor": "rgb(36,36,36)",
              "ticks": "outside"
             }
            },
            "marker": {
             "colorbar": {
              "outlinewidth": 1,
              "tickcolor": "rgb(36,36,36)",
              "ticks": "outside"
             }
            },
            "type": "scatter3d"
           }
          ],
          "scattercarpet": [
           {
            "marker": {
             "colorbar": {
              "outlinewidth": 1,
              "tickcolor": "rgb(36,36,36)",
              "ticks": "outside"
             }
            },
            "type": "scattercarpet"
           }
          ],
          "scattergeo": [
           {
            "marker": {
             "colorbar": {
              "outlinewidth": 1,
              "tickcolor": "rgb(36,36,36)",
              "ticks": "outside"
             }
            },
            "type": "scattergeo"
           }
          ],
          "scattergl": [
           {
            "marker": {
             "colorbar": {
              "outlinewidth": 1,
              "tickcolor": "rgb(36,36,36)",
              "ticks": "outside"
             }
            },
            "type": "scattergl"
           }
          ],
          "scattermap": [
           {
            "marker": {
             "colorbar": {
              "outlinewidth": 1,
              "tickcolor": "rgb(36,36,36)",
              "ticks": "outside"
             }
            },
            "type": "scattermap"
           }
          ],
          "scattermapbox": [
           {
            "marker": {
             "colorbar": {
              "outlinewidth": 1,
              "tickcolor": "rgb(36,36,36)",
              "ticks": "outside"
             }
            },
            "type": "scattermapbox"
           }
          ],
          "scatterpolar": [
           {
            "marker": {
             "colorbar": {
              "outlinewidth": 1,
              "tickcolor": "rgb(36,36,36)",
              "ticks": "outside"
             }
            },
            "type": "scatterpolar"
           }
          ],
          "scatterpolargl": [
           {
            "marker": {
             "colorbar": {
              "outlinewidth": 1,
              "tickcolor": "rgb(36,36,36)",
              "ticks": "outside"
             }
            },
            "type": "scatterpolargl"
           }
          ],
          "scatterternary": [
           {
            "marker": {
             "colorbar": {
              "outlinewidth": 1,
              "tickcolor": "rgb(36,36,36)",
              "ticks": "outside"
             }
            },
            "type": "scatterternary"
           }
          ],
          "surface": [
           {
            "colorbar": {
             "outlinewidth": 1,
             "tickcolor": "rgb(36,36,36)",
             "ticks": "outside"
            },
            "colorscale": [
             [
              0.0,
              "#440154"
             ],
             [
              0.1111111111111111,
              "#482878"
             ],
             [
              0.2222222222222222,
              "#3e4989"
             ],
             [
              0.3333333333333333,
              "#31688e"
             ],
             [
              0.4444444444444444,
              "#26828e"
             ],
             [
              0.5555555555555556,
              "#1f9e89"
             ],
             [
              0.6666666666666666,
              "#35b779"
             ],
             [
              0.7777777777777778,
              "#6ece58"
             ],
             [
              0.8888888888888888,
              "#b5de2b"
             ],
             [
              1.0,
              "#fde725"
             ]
            ],
            "type": "surface"
           }
          ],
          "table": [
           {
            "cells": {
             "fill": {
              "color": "rgb(237,237,237)"
             },
             "line": {
              "color": "white"
             }
            },
            "header": {
             "fill": {
              "color": "rgb(217,217,217)"
             },
             "line": {
              "color": "white"
             }
            },
            "type": "table"
           }
          ]
         },
         "layout": {
          "annotationdefaults": {
           "arrowhead": 0,
           "arrowwidth": 1
          },
          "autotypenumbers": "strict",
          "coloraxis": {
           "colorbar": {
            "outlinewidth": 1,
            "tickcolor": "rgb(36,36,36)",
            "ticks": "outside"
           }
          },
          "colorscale": {
           "diverging": [
            [
             0.0,
             "rgb(103,0,31)"
            ],
            [
             0.1,
             "rgb(178,24,43)"
            ],
            [
             0.2,
             "rgb(214,96,77)"
            ],
            [
             0.3,
             "rgb(244,165,130)"
            ],
            [
             0.4,
             "rgb(253,219,199)"
            ],
            [
             0.5,
             "rgb(247,247,247)"
            ],
            [
             0.6,
             "rgb(209,229,240)"
            ],
            [
             0.7,
             "rgb(146,197,222)"
            ],
            [
             0.8,
             "rgb(67,147,195)"
            ],
            [
             0.9,
             "rgb(33,102,172)"
            ],
            [
             1.0,
             "rgb(5,48,97)"
            ]
           ],
           "sequential": [
            [
             0.0,
             "#440154"
            ],
            [
             0.1111111111111111,
             "#482878"
            ],
            [
             0.2222222222222222,
             "#3e4989"
            ],
            [
             0.3333333333333333,
             "#31688e"
            ],
            [
             0.4444444444444444,
             "#26828e"
            ],
            [
             0.5555555555555556,
             "#1f9e89"
            ],
            [
             0.6666666666666666,
             "#35b779"
            ],
            [
             0.7777777777777778,
             "#6ece58"
            ],
            [
             0.8888888888888888,
             "#b5de2b"
            ],
            [
             1.0,
             "#fde725"
            ]
           ],
           "sequentialminus": [
            [
             0.0,
             "#440154"
            ],
            [
             0.1111111111111111,
             "#482878"
            ],
            [
             0.2222222222222222,
             "#3e4989"
            ],
            [
             0.3333333333333333,
             "#31688e"
            ],
            [
             0.4444444444444444,
             "#26828e"
            ],
            [
             0.5555555555555556,
             "#1f9e89"
            ],
            [
             0.6666666666666666,
             "#35b779"
            ],
            [
             0.7777777777777778,
             "#6ece58"
            ],
            [
             0.8888888888888888,
             "#b5de2b"
            ],
            [
             1.0,
             "#fde725"
            ]
           ]
          },
          "colorway": [
           "#91268F",
           "#8CC63E",
           "#00A7A0",
           "#F05A28",
           "#4C4C4C",
           "#630460",
           "#9f3913",
           "#588527",
           "#00716c",
           "#3e4040"
          ],
          "font": {
           "color": "rgb(36,36,36)",
           "family": "Poppins",
           "size": 11
          },
          "geo": {
           "bgcolor": "white",
           "lakecolor": "white",
           "landcolor": "white",
           "showlakes": true,
           "showland": true,
           "subunitcolor": "white"
          },
          "hoverlabel": {
           "align": "left"
          },
          "hovermode": "closest",
          "mapbox": {
           "style": "light"
          },
          "paper_bgcolor": "white",
          "plot_bgcolor": "white",
          "polar": {
           "angularaxis": {
            "gridcolor": "rgb(232,232,232)",
            "linecolor": "rgb(36,36,36)",
            "showgrid": false,
            "showline": true,
            "ticks": "outside"
           },
           "bgcolor": "white",
           "radialaxis": {
            "gridcolor": "rgb(232,232,232)",
            "linecolor": "rgb(36,36,36)",
            "showgrid": false,
            "showline": true,
            "ticks": "outside"
           }
          },
          "scene": {
           "xaxis": {
            "backgroundcolor": "white",
            "gridcolor": "rgb(232,232,232)",
            "gridwidth": 2,
            "linecolor": "rgb(36,36,36)",
            "showbackground": true,
            "showgrid": false,
            "showline": true,
            "ticks": "outside",
            "zeroline": false,
            "zerolinecolor": "rgb(36,36,36)"
           },
           "yaxis": {
            "backgroundcolor": "white",
            "gridcolor": "rgb(232,232,232)",
            "gridwidth": 2,
            "linecolor": "rgb(36,36,36)",
            "showbackground": true,
            "showgrid": false,
            "showline": true,
            "ticks": "outside",
            "zeroline": false,
            "zerolinecolor": "rgb(36,36,36)"
           },
           "zaxis": {
            "backgroundcolor": "white",
            "gridcolor": "rgb(232,232,232)",
            "gridwidth": 2,
            "linecolor": "rgb(36,36,36)",
            "showbackground": true,
            "showgrid": false,
            "showline": true,
            "ticks": "outside",
            "zeroline": false,
            "zerolinecolor": "rgb(36,36,36)"
           }
          },
          "shapedefaults": {
           "fillcolor": "black",
           "line": {
            "width": 0
           },
           "opacity": 0.3
          },
          "ternary": {
           "aaxis": {
            "gridcolor": "rgb(232,232,232)",
            "linecolor": "rgb(36,36,36)",
            "showgrid": false,
            "showline": true,
            "ticks": "outside"
           },
           "baxis": {
            "gridcolor": "rgb(232,232,232)",
            "linecolor": "rgb(36,36,36)",
            "showgrid": false,
            "showline": true,
            "ticks": "outside"
           },
           "bgcolor": "white",
           "caxis": {
            "gridcolor": "rgb(232,232,232)",
            "linecolor": "rgb(36,36,36)",
            "showgrid": false,
            "showline": true,
            "ticks": "outside"
           }
          },
          "title": {
           "x": 0.05
          },
          "xaxis": {
           "automargin": true,
           "gridcolor": "rgb(232,232,232)",
           "linecolor": "rgb(36,36,36)",
           "showgrid": false,
           "showline": true,
           "ticks": "outside",
           "title": {
            "standoff": 15
           },
           "zeroline": false,
           "zerolinecolor": "rgb(36,36,36)"
          },
          "yaxis": {
           "automargin": true,
           "gridcolor": "rgb(232,232,232)",
           "linecolor": "rgb(36,36,36)",
           "showgrid": false,
           "showline": true,
           "ticks": "outside",
           "title": {
            "standoff": 15
           },
           "zeroline": false,
           "zerolinecolor": "rgb(36,36,36)"
          }
         }
        },
        "title": {
         "text": "Medium Trucks: Kitsap"
        },
        "width": 800,
        "xaxis": {
         "anchor": "y",
         "domain": [
          0.0,
          1.0
         ],
         "title": {
          "text": "Observed"
         }
        },
        "yaxis": {
         "anchor": "x",
         "domain": [
          0.0,
          1.0
         ],
         "title": {
          "text": "Model"
         }
        }
       }
      },
      "text/html": [
       "<div>            <script src=\"https://cdnjs.cloudflare.com/ajax/libs/mathjax/2.7.5/MathJax.js?config=TeX-AMS-MML_SVG\"></script><script type=\"text/javascript\">if (window.MathJax && window.MathJax.Hub && window.MathJax.Hub.Config) {window.MathJax.Hub.Config({SVG: {font: \"STIX-Web\"}});}</script>                <script type=\"text/javascript\">window.PlotlyConfig = {MathJaxConfig: 'local'};</script>\n",
       "        <script charset=\"utf-8\" src=\"https://cdn.plot.ly/plotly-3.0.1.min.js\"></script>                <div id=\"496a5ec4-2670-4fdf-accb-aa755a5d9fc7\" class=\"plotly-graph-div\" style=\"height:600px; width:800px;\"></div>            <script type=\"text/javascript\">                window.PLOTLYENV=window.PLOTLYENV || {};                                if (document.getElementById(\"496a5ec4-2670-4fdf-accb-aa755a5d9fc7\")) {                    Plotly.newPlot(                        \"496a5ec4-2670-4fdf-accb-aa755a5d9fc7\",                        [{\"customdata\":[[\"SR-16  N\\u002fO SR-302 NB\\u002fSB\",\"Kitsap\"],[\"SR-16 N\\u002fO SR-160 NB\\u002fSB\",\"Kitsap\"],[\"SR-16 N\\u002fO Tremont NB\\u002fSB\",\"Kitsap\"],[\"SR-16 S\\u002fO SR-3 NB\",\"Kitsap\"],[\"SR-104 @ Hood Canal Bridge WB\\u002fEB\",\"Kitsap\"],[\"SR-104 E\\u002fO Hood Canal Bridge WB\\u002fEB\",\"Kitsap\"],[\"SR-104 N\\u002fO Pt Gamble Rd WB\\u002fEB\",\"Kitsap\"],[\"SR-104 E\\u002fO SR-307 WB\\u002fEB\",\"Kitsap\"],[\"SR-104 E\\u002fO Hansville WB\\u002fEB\",\"Kitsap\"],[\"SR-160 @ SR-16 WB\\u002fEB\",\"Kitsap\"],[\"SR-160 E\\u002fO Long Lake Rd WB\\u002fEB\",\"Kitsap\"],[\"SR-160 W\\u002fO Banner WB\\u002fEB\",\"Kitsap\"],[\"SR-160 E\\u002fO Peterson WB\\u002fEB\",\"Kitsap\"],[\"SR-160 S\\u002fO Southworth Dr WB\\u002fEB\",\"Kitsap\"],[\"SR-166 E\\u002fO SR-16 WB\\u002fEB\",\"Kitsap\"],[\"SR-3 E\\u002fO Sunset Way NB\\u002fSB\",\"Kitsap\"],[\"SR-3 N\\u002fO SR-305 NB\\u002fSB\",\"Kitsap\"],[\"SR-3 S\\u002fO Newberry Hill Rd NB\\u002fSB\",\"Kitsap\"],[\"SR-3 @ SR-304 NB\\u002fSB\",\"Kitsap\"],[\"SR-3 NE of SR-16 NB\\u002fSB\",\"Kitsap\"],[\"SR-3 W\\u002fO Lake Flora Rd NB\\u002fSB\",\"Kitsap\"],[\"SR-303 E\\u002fO SR-3 NB\\u002fSB\",\"Kitsap\"],[\"SR-303 N\\u002fO 11th St NB\\u002fSB\",\"Kitsap\"],[\"SR-303 N\\u002fO SR-304 NB\\u002fSB\",\"Kitsap\"],[\"SR-304 E\\u002fO SR-3 WB\\u002fEB\",\"Kitsap\"],[\"SR-304 W\\u002fO Naval WB\\u002fEB\",\"Kitsap\"],[\"SR-305 W\\u002fO SR-307 WB\\u002fEB\",\"Kitsap\"],[\"SR-305 W\\u002fO Suquamish Way WB\\u002fEB\",\"Kitsap\"],[\"SR-305 N\\u002fO Day Rd WB\\u002fEB\",\"Kitsap\"],[\"SR-305 N\\u002fO High School Rd WB\\u002fEB\",\"Kitsap\"],[\"SR-305 S\\u002fO Winslow Way WB\\u002fEB\",\"Kitsap\"],[\"SR-305 @ Ferry Ramp WB\\u002fEB\",\"Kitsap\"],[\"SR-307 W\\u002fO SR-104 NB\\u002fSB\",\"Kitsap\"],[\"SR-307 N\\u002fO Gunderson NB\\u002fSB\",\"Kitsap\"],[\"SR-307 S\\u002fO Gunderson NB\\u002fSB\",\"Kitsap\"],[\"SR-307 N\\u002fO SR-305 NB\\u002fSB\",\"Kitsap\"],[\"SR-308 @ SR-3 WB\\u002fEB\",\"Kitsap\"],[\"SR-308 E\\u002fO SR-3 WB\\u002fEB\",\"Kitsap\"],[\"SR-308 E\\u002fO Silverdale Way WB\\u002fEB\",\"Kitsap\"],[\"SR-308 W\\u002fO Brownsville Hwy WB\\u002fEB\",\"Kitsap\"],[\"SR-310 @ SR-3 WB\\u002fEB\",\"Kitsap\"],[\"SR-310 W\\u002fO Callow WB\\u002fEB\",\"Kitsap\"]],\"hovertemplate\":\"Observed=%{x}\\u003cbr\\u003eModel=%{y}\\u003cbr\\u003elocation=%{customdata[0]}\\u003cbr\\u003eCounty=%{customdata[1]}\\u003cextra\\u003e\\u003c\\u002fextra\\u003e\",\"legendgroup\":\"\",\"marker\":{\"color\":\"#91268F\",\"symbol\":\"circle\"},\"mode\":\"markers\",\"name\":\"\",\"orientation\":\"v\",\"showlegend\":false,\"x\":{\"dtype\":\"i2\",\"bdata\":\"0AifB3kIzAfIArQAywAZAisBCwL1AYMB6wBhAEUBsgR5Bl8J+wdvDtAD2QPLA7UBfAOpAqIEyQKEAgYCFwHlAC0DEALEAuwCqgDlABwB9wCYAwkB\"},\"xaxis\":\"x\",\"y\":{\"dtype\":\"i2\",\"bdata\":\"bgvoCcQL8AYAACcAHwAFAcAARQLiALUAzwBkABYCSAA+AbQJ3AjgDgAA4wNvBAUCcwZEBIIG5gM0BKwAOgA6ADIBdwGNApICgwBwALgAcwBRAiYB\"},\"yaxis\":\"y\",\"type\":\"scatter\",\"line\":{\"color\":\"Grey\",\"width\":2}},{\"hovertemplate\":\"Observed=%{x}\\u003cbr\\u003eModel=%{y}\\u003cextra\\u003e\\u003c\\u002fextra\\u003e\",\"legendgroup\":\"\",\"line\":{\"color\":\"Grey\",\"dash\":\"solid\",\"width\":2},\"marker\":{\"symbol\":\"circle\"},\"mode\":\"lines\",\"name\":\"\",\"orientation\":\"v\",\"showlegend\":false,\"x\":{\"dtype\":\"f8\",\"bdata\":\"AAAAAAAAAAB\\u002fpUCtX6lCQH+lQK1fqVJAPvjggw\\u002f+W0B\\u002fpUCtX6liQN\\u002fOkJi3U2dAPvjggw\\u002f+a0DPkJi3M1RwQH+lQK1fqXJAL7rooov+dEDfzpCYt1N3QI\\u002fjOI7jqHlAPvjggw\\u002f+e0DuDIl5O1N+QM+QmLczVIBAJ5tsssl+gUB\\u002fpUCtX6mCQNevFKj104NAL7rooov+hECHxLydISmGQN\\u002fOkJi3U4dAN9lkk01+iECP4ziO46iJQOftDIl504pAPvjggw\\u002f+i0CWArV+pSiNQO4MiXk7U45ARhdddNF9j0DPkJi3M1SQQPuVArV+6ZBAJ5tsssl+kUBToNavFBSSQH+lQK1fqZJAq6qqqqo+k0DXrxSo9dOTQAO1fqVAaZRAL7rooov+lEBbv1Kg1pOVQIfEvJ0hKZZAs8kmm2y+lkDfzpCYt1OXQAvU+pUC6ZdAN9lkk01+mEBj3s6QmBOZQI\\u002fjOI7jqJlAu+iiiy4+mkDn7QyJedOaQBPzdobEaJtAPvjggw\\u002f+m0Bq\\u002fUqBWpOcQJYCtX6lKJ1AwgcffPC9nUDuDIl5O1OeQBoS83aG6J5ARhdddNF9n0A5juM4jgmgQM+QmLczVKBAZZNNNtmeoED7lQK1fumgQJGYtzMkNKFAJ5tsssl+oUC9nSExb8mhQFOg1q8UFKJA6aKLLrpeokB\\u002fpUCtX6miQBWo9SsF9KJAq6qqqqo+o0BBrV8pUImjQNevFKj106NAbbLJJpsepEADtX6lQGmkQJm3MyTms6RAL7rooov+pEDFvJ0hMUmlQFu\\u002fUqDWk6VA8cEHH3zepUCHxLydISmmQB3HcRzHc6ZAs8kmm2y+pkBJzNsZEgmnQN\\u002fOkJi3U6dAddFFF12ep0AL1PqVAumnQKHWrxSoM6hAN9lkk01+qEDN2xkS88ioQGPezpCYE6lA+eCDDz5eqUCP4ziO46ipQCXm7QyJ86lAu+iiiy4+qkBR61cK1IiqQOftDIl506pAffDBBx8eq0AT83aGxGirQKn1KwVqs6tAPvjggw\\u002f+q0DU+pUCtUisQGr9SoFak6xAAAAAAADerEA=\"},\"xaxis\":\"x\",\"y\":{\"dtype\":\"f8\",\"bdata\":\"bBmRT6QzY8CKEdKgdQtcwDvwgaKir1HAtDvHkD5PPcAQk\\u002fLQGkAoQGDn3LCsx0pA\\u002fpS+Vqm\\u002fV0AmW4cqvg1hQM5rr6mnO2ZAdHzXKJFpa0COxv9TvUtwQOLOkxOy4nJANdcn06Z5dUCI37uSmxB4QNznT1KQp3pAMPDjEYU+fUCE+HfRedV\\u002fQGwAhkg3NoFAlQRQqLGBgkC\\u002fCBoILM2DQOkM5GemGIVAExGuxyBkhkA9FXgnm6+HQGcZQocV+4hAkB0M549GikC5IdZGCpKLQOMloKaE3YxADSpqBv8ojkA3LjRmeXSPQDAZ\\u002f+L5X5BARhvkErcFkUBaHclCdKuRQHAfrnIxUZJAhCGTou72kkCaI3jSq5yTQK4lXQJpQpRAwidCMibolEDYKSdi442VQOwrDJKgM5ZAAi7xwV3ZlkAWMNbxGn+XQCwyuyHYJJhAQDSgUZXKmEBWNoWBUnCZQGo4arEPFppAgDpP4cy7mkCUPDQRimGbQKo+GUFHB5xAvkD+cAStnEDSQuOgwVKdQOZEyNB++J1A\\u002fEatADyenkAQSZIw+UOfQCZLd2C26Z9AnSYuyLlHoECopyBgmJqgQLIoE\\u002fh27aBAvKkFkFVAoUDHKvgnNJOhQNGr6r8S5qFA3CzdV\\u002fE4okDmrc\\u002fvz4uiQPEuwoeu3qJA+6+0H40xo0AGMae3a4SjQBCymU9K16NAGzOM5ygqpEAltH5\\u002fB32kQDA1cRfmz6RAOrZjr8QipUBFN1ZHo3WlQE+4SN+ByKVAWTk7d2AbpkBkui0PP26mQG47IKcdwaZAebwSP\\u002fwTp0CDPQXX2manQI6+9265uadAmD\\u002fqBpgMqECjwNyedl+oQK1BzzZVsqhAuMLBzjMFqUDCQ7RmElipQM3Epv7wqqlA10WZls\\u002f9qUDixosurlCqQOxHfsaMo6pA98hwXmv2qkABSmP2SUmrQAvLVY4onKtAFkxIJgfvq0AgzTq+5UGsQCtOLVbElKxANc8f7qLnrEBAUBKGgTqtQErRBB5gja1AVFL3tT7grUBe0+lNHTOuQGlU3OX7ha5Ac9XOfdrYrkA=\"},\"yaxis\":\"y\",\"type\":\"scatter\"}],                        {\"template\":{\"data\":{\"barpolar\":[{\"marker\":{\"line\":{\"color\":\"white\",\"width\":0.5},\"pattern\":{\"fillmode\":\"overlay\",\"size\":10,\"solidity\":0.2}},\"type\":\"barpolar\"}],\"bar\":[{\"error_x\":{\"color\":\"rgb(36,36,36)\"},\"error_y\":{\"color\":\"rgb(36,36,36)\"},\"marker\":{\"line\":{\"color\":\"white\",\"width\":0.5},\"pattern\":{\"fillmode\":\"overlay\",\"size\":10,\"solidity\":0.2}},\"type\":\"bar\"}],\"carpet\":[{\"aaxis\":{\"endlinecolor\":\"rgb(36,36,36)\",\"gridcolor\":\"white\",\"linecolor\":\"white\",\"minorgridcolor\":\"white\",\"startlinecolor\":\"rgb(36,36,36)\"},\"baxis\":{\"endlinecolor\":\"rgb(36,36,36)\",\"gridcolor\":\"white\",\"linecolor\":\"white\",\"minorgridcolor\":\"white\",\"startlinecolor\":\"rgb(36,36,36)\"},\"type\":\"carpet\"}],\"choropleth\":[{\"colorbar\":{\"outlinewidth\":1,\"tickcolor\":\"rgb(36,36,36)\",\"ticks\":\"outside\"},\"type\":\"choropleth\"}],\"contourcarpet\":[{\"colorbar\":{\"outlinewidth\":1,\"tickcolor\":\"rgb(36,36,36)\",\"ticks\":\"outside\"},\"type\":\"contourcarpet\"}],\"contour\":[{\"colorbar\":{\"outlinewidth\":1,\"tickcolor\":\"rgb(36,36,36)\",\"ticks\":\"outside\"},\"colorscale\":[[0.0,\"#440154\"],[0.1111111111111111,\"#482878\"],[0.2222222222222222,\"#3e4989\"],[0.3333333333333333,\"#31688e\"],[0.4444444444444444,\"#26828e\"],[0.5555555555555556,\"#1f9e89\"],[0.6666666666666666,\"#35b779\"],[0.7777777777777778,\"#6ece58\"],[0.8888888888888888,\"#b5de2b\"],[1.0,\"#fde725\"]],\"type\":\"contour\"}],\"heatmap\":[{\"colorbar\":{\"outlinewidth\":1,\"tickcolor\":\"rgb(36,36,36)\",\"ticks\":\"outside\"},\"colorscale\":[[0.0,\"#440154\"],[0.1111111111111111,\"#482878\"],[0.2222222222222222,\"#3e4989\"],[0.3333333333333333,\"#31688e\"],[0.4444444444444444,\"#26828e\"],[0.5555555555555556,\"#1f9e89\"],[0.6666666666666666,\"#35b779\"],[0.7777777777777778,\"#6ece58\"],[0.8888888888888888,\"#b5de2b\"],[1.0,\"#fde725\"]],\"type\":\"heatmap\"}],\"histogram2dcontour\":[{\"colorbar\":{\"outlinewidth\":1,\"tickcolor\":\"rgb(36,36,36)\",\"ticks\":\"outside\"},\"colorscale\":[[0.0,\"#440154\"],[0.1111111111111111,\"#482878\"],[0.2222222222222222,\"#3e4989\"],[0.3333333333333333,\"#31688e\"],[0.4444444444444444,\"#26828e\"],[0.5555555555555556,\"#1f9e89\"],[0.6666666666666666,\"#35b779\"],[0.7777777777777778,\"#6ece58\"],[0.8888888888888888,\"#b5de2b\"],[1.0,\"#fde725\"]],\"type\":\"histogram2dcontour\"}],\"histogram2d\":[{\"colorbar\":{\"outlinewidth\":1,\"tickcolor\":\"rgb(36,36,36)\",\"ticks\":\"outside\"},\"colorscale\":[[0.0,\"#440154\"],[0.1111111111111111,\"#482878\"],[0.2222222222222222,\"#3e4989\"],[0.3333333333333333,\"#31688e\"],[0.4444444444444444,\"#26828e\"],[0.5555555555555556,\"#1f9e89\"],[0.6666666666666666,\"#35b779\"],[0.7777777777777778,\"#6ece58\"],[0.8888888888888888,\"#b5de2b\"],[1.0,\"#fde725\"]],\"type\":\"histogram2d\"}],\"histogram\":[{\"marker\":{\"line\":{\"color\":\"white\",\"width\":0.6}},\"type\":\"histogram\"}],\"mesh3d\":[{\"colorbar\":{\"outlinewidth\":1,\"tickcolor\":\"rgb(36,36,36)\",\"ticks\":\"outside\"},\"type\":\"mesh3d\"}],\"parcoords\":[{\"line\":{\"colorbar\":{\"outlinewidth\":1,\"tickcolor\":\"rgb(36,36,36)\",\"ticks\":\"outside\"}},\"type\":\"parcoords\"}],\"pie\":[{\"automargin\":true,\"type\":\"pie\"}],\"scatter3d\":[{\"line\":{\"colorbar\":{\"outlinewidth\":1,\"tickcolor\":\"rgb(36,36,36)\",\"ticks\":\"outside\"}},\"marker\":{\"colorbar\":{\"outlinewidth\":1,\"tickcolor\":\"rgb(36,36,36)\",\"ticks\":\"outside\"}},\"type\":\"scatter3d\"}],\"scattercarpet\":[{\"marker\":{\"colorbar\":{\"outlinewidth\":1,\"tickcolor\":\"rgb(36,36,36)\",\"ticks\":\"outside\"}},\"type\":\"scattercarpet\"}],\"scattergeo\":[{\"marker\":{\"colorbar\":{\"outlinewidth\":1,\"tickcolor\":\"rgb(36,36,36)\",\"ticks\":\"outside\"}},\"type\":\"scattergeo\"}],\"scattergl\":[{\"marker\":{\"colorbar\":{\"outlinewidth\":1,\"tickcolor\":\"rgb(36,36,36)\",\"ticks\":\"outside\"}},\"type\":\"scattergl\"}],\"scattermapbox\":[{\"marker\":{\"colorbar\":{\"outlinewidth\":1,\"tickcolor\":\"rgb(36,36,36)\",\"ticks\":\"outside\"}},\"type\":\"scattermapbox\"}],\"scattermap\":[{\"marker\":{\"colorbar\":{\"outlinewidth\":1,\"tickcolor\":\"rgb(36,36,36)\",\"ticks\":\"outside\"}},\"type\":\"scattermap\"}],\"scatterpolargl\":[{\"marker\":{\"colorbar\":{\"outlinewidth\":1,\"tickcolor\":\"rgb(36,36,36)\",\"ticks\":\"outside\"}},\"type\":\"scatterpolargl\"}],\"scatterpolar\":[{\"marker\":{\"colorbar\":{\"outlinewidth\":1,\"tickcolor\":\"rgb(36,36,36)\",\"ticks\":\"outside\"}},\"type\":\"scatterpolar\"}],\"scatter\":[{\"fillpattern\":{\"fillmode\":\"overlay\",\"size\":10,\"solidity\":0.2},\"type\":\"scatter\"}],\"scatterternary\":[{\"marker\":{\"colorbar\":{\"outlinewidth\":1,\"tickcolor\":\"rgb(36,36,36)\",\"ticks\":\"outside\"}},\"type\":\"scatterternary\"}],\"surface\":[{\"colorbar\":{\"outlinewidth\":1,\"tickcolor\":\"rgb(36,36,36)\",\"ticks\":\"outside\"},\"colorscale\":[[0.0,\"#440154\"],[0.1111111111111111,\"#482878\"],[0.2222222222222222,\"#3e4989\"],[0.3333333333333333,\"#31688e\"],[0.4444444444444444,\"#26828e\"],[0.5555555555555556,\"#1f9e89\"],[0.6666666666666666,\"#35b779\"],[0.7777777777777778,\"#6ece58\"],[0.8888888888888888,\"#b5de2b\"],[1.0,\"#fde725\"]],\"type\":\"surface\"}],\"table\":[{\"cells\":{\"fill\":{\"color\":\"rgb(237,237,237)\"},\"line\":{\"color\":\"white\"}},\"header\":{\"fill\":{\"color\":\"rgb(217,217,217)\"},\"line\":{\"color\":\"white\"}},\"type\":\"table\"}]},\"layout\":{\"annotationdefaults\":{\"arrowhead\":0,\"arrowwidth\":1},\"autotypenumbers\":\"strict\",\"coloraxis\":{\"colorbar\":{\"outlinewidth\":1,\"tickcolor\":\"rgb(36,36,36)\",\"ticks\":\"outside\"}},\"colorscale\":{\"diverging\":[[0.0,\"rgb(103,0,31)\"],[0.1,\"rgb(178,24,43)\"],[0.2,\"rgb(214,96,77)\"],[0.3,\"rgb(244,165,130)\"],[0.4,\"rgb(253,219,199)\"],[0.5,\"rgb(247,247,247)\"],[0.6,\"rgb(209,229,240)\"],[0.7,\"rgb(146,197,222)\"],[0.8,\"rgb(67,147,195)\"],[0.9,\"rgb(33,102,172)\"],[1.0,\"rgb(5,48,97)\"]],\"sequential\":[[0.0,\"#440154\"],[0.1111111111111111,\"#482878\"],[0.2222222222222222,\"#3e4989\"],[0.3333333333333333,\"#31688e\"],[0.4444444444444444,\"#26828e\"],[0.5555555555555556,\"#1f9e89\"],[0.6666666666666666,\"#35b779\"],[0.7777777777777778,\"#6ece58\"],[0.8888888888888888,\"#b5de2b\"],[1.0,\"#fde725\"]],\"sequentialminus\":[[0.0,\"#440154\"],[0.1111111111111111,\"#482878\"],[0.2222222222222222,\"#3e4989\"],[0.3333333333333333,\"#31688e\"],[0.4444444444444444,\"#26828e\"],[0.5555555555555556,\"#1f9e89\"],[0.6666666666666666,\"#35b779\"],[0.7777777777777778,\"#6ece58\"],[0.8888888888888888,\"#b5de2b\"],[1.0,\"#fde725\"]]},\"colorway\":[\"#91268F\",\"#8CC63E\",\"#00A7A0\",\"#F05A28\",\"#4C4C4C\",\"#630460\",\"#9f3913\",\"#588527\",\"#00716c\",\"#3e4040\"],\"font\":{\"color\":\"rgb(36,36,36)\",\"family\":\"Poppins\",\"size\":11},\"geo\":{\"bgcolor\":\"white\",\"lakecolor\":\"white\",\"landcolor\":\"white\",\"showlakes\":true,\"showland\":true,\"subunitcolor\":\"white\"},\"hoverlabel\":{\"align\":\"left\"},\"hovermode\":\"closest\",\"mapbox\":{\"style\":\"light\"},\"paper_bgcolor\":\"white\",\"plot_bgcolor\":\"white\",\"polar\":{\"angularaxis\":{\"gridcolor\":\"rgb(232,232,232)\",\"linecolor\":\"rgb(36,36,36)\",\"showgrid\":false,\"showline\":true,\"ticks\":\"outside\"},\"bgcolor\":\"white\",\"radialaxis\":{\"gridcolor\":\"rgb(232,232,232)\",\"linecolor\":\"rgb(36,36,36)\",\"showgrid\":false,\"showline\":true,\"ticks\":\"outside\"}},\"scene\":{\"xaxis\":{\"backgroundcolor\":\"white\",\"gridcolor\":\"rgb(232,232,232)\",\"gridwidth\":2,\"linecolor\":\"rgb(36,36,36)\",\"showbackground\":true,\"showgrid\":false,\"showline\":true,\"ticks\":\"outside\",\"zeroline\":false,\"zerolinecolor\":\"rgb(36,36,36)\"},\"yaxis\":{\"backgroundcolor\":\"white\",\"gridcolor\":\"rgb(232,232,232)\",\"gridwidth\":2,\"linecolor\":\"rgb(36,36,36)\",\"showbackground\":true,\"showgrid\":false,\"showline\":true,\"ticks\":\"outside\",\"zeroline\":false,\"zerolinecolor\":\"rgb(36,36,36)\"},\"zaxis\":{\"backgroundcolor\":\"white\",\"gridcolor\":\"rgb(232,232,232)\",\"gridwidth\":2,\"linecolor\":\"rgb(36,36,36)\",\"showbackground\":true,\"showgrid\":false,\"showline\":true,\"ticks\":\"outside\",\"zeroline\":false,\"zerolinecolor\":\"rgb(36,36,36)\"}},\"shapedefaults\":{\"fillcolor\":\"black\",\"line\":{\"width\":0},\"opacity\":0.3},\"ternary\":{\"aaxis\":{\"gridcolor\":\"rgb(232,232,232)\",\"linecolor\":\"rgb(36,36,36)\",\"showgrid\":false,\"showline\":true,\"ticks\":\"outside\"},\"baxis\":{\"gridcolor\":\"rgb(232,232,232)\",\"linecolor\":\"rgb(36,36,36)\",\"showgrid\":false,\"showline\":true,\"ticks\":\"outside\"},\"bgcolor\":\"white\",\"caxis\":{\"gridcolor\":\"rgb(232,232,232)\",\"linecolor\":\"rgb(36,36,36)\",\"showgrid\":false,\"showline\":true,\"ticks\":\"outside\"}},\"title\":{\"x\":0.05},\"xaxis\":{\"automargin\":true,\"gridcolor\":\"rgb(232,232,232)\",\"linecolor\":\"rgb(36,36,36)\",\"showgrid\":false,\"showline\":true,\"ticks\":\"outside\",\"title\":{\"standoff\":15},\"zeroline\":false,\"zerolinecolor\":\"rgb(36,36,36)\"},\"yaxis\":{\"automargin\":true,\"gridcolor\":\"rgb(232,232,232)\",\"linecolor\":\"rgb(36,36,36)\",\"showgrid\":false,\"showline\":true,\"ticks\":\"outside\",\"title\":{\"standoff\":15},\"zeroline\":false,\"zerolinecolor\":\"rgb(36,36,36)\"}}},\"xaxis\":{\"anchor\":\"y\",\"domain\":[0.0,1.0],\"title\":{\"text\":\"Observed\"}},\"yaxis\":{\"anchor\":\"x\",\"domain\":[0.0,1.0],\"title\":{\"text\":\"Model\"}},\"legend\":{\"tracegroupgap\":0},\"title\":{\"text\":\"Medium Trucks: Kitsap\"},\"margin\":{\"l\":100,\"r\":100,\"t\":100,\"b\":100},\"height\":600,\"width\":800,\"shapes\":[{\"line\":{\"color\":\"Red\",\"dash\":\"dash\",\"width\":2},\"type\":\"line\",\"x0\":0,\"x1\":3808,\"y0\":0,\"y1\":3808}],\"annotations\":[{\"align\":\"right\",\"font\":{\"color\":\"pink\",\"size\":12},\"showarrow\":false,\"text\":\"y = x\",\"x\":3998.4,\"y\":3998.4},{\"align\":\"right\",\"font\":{\"color\":\"black\",\"size\":12},\"showarrow\":false,\"text\":\"r^2 = 0.80\",\"x\":3879.75,\"y\":4145.848078142866}]},                        {\"responsive\": true}                    ).then(function(){\n",
       "                            \n",
       "var gd = document.getElementById('496a5ec4-2670-4fdf-accb-aa755a5d9fc7');\n",
       "var x = new MutationObserver(function (mutations, observer) {{\n",
       "        var display = window.getComputedStyle(gd).display;\n",
       "        if (!display || display === 'none') {{\n",
       "            console.log([gd, 'removed!']);\n",
       "            Plotly.purge(gd);\n",
       "            observer.disconnect();\n",
       "        }}\n",
       "}});\n",
       "\n",
       "// Listen for the removal of the full notebook cells\n",
       "var notebookContainer = gd.closest('#notebook-container');\n",
       "if (notebookContainer) {{\n",
       "    x.observe(notebookContainer, {childList: true});\n",
       "}}\n",
       "\n",
       "// Listen for the clearing of the current output cell\n",
       "var outputEl = gd.closest('.output');\n",
       "if (outputEl) {{\n",
       "    x.observe(outputEl, {childList: true});\n",
       "}}\n",
       "\n",
       "                        })                };            </script>        </div>"
      ]
     },
     "metadata": {},
     "output_type": "display_data"
    }
   ],
   "source": [
    "fig = create_truck_chart(df_daily_med, 'Medium', 'Kitsap')\n",
    "fig.show()"
   ]
  },
  {
   "cell_type": "raw",
   "id": "7c56e60a",
   "metadata": {},
   "source": [
    "#### Pierce"
   ]
  },
  {
   "cell_type": "code",
   "execution_count": 32,
   "id": "70397228",
   "metadata": {
    "execution": {
     "iopub.execute_input": "2025-06-18T22:59:59.122237Z",
     "iopub.status.busy": "2025-06-18T22:59:59.122237Z",
     "iopub.status.idle": "2025-06-18T22:59:59.363839Z",
     "shell.execute_reply": "2025-06-18T22:59:59.362836Z"
    }
   },
   "outputs": [
    {
     "data": {
      "application/vnd.plotly.v1+json": {
       "config": {
        "plotlyServerURL": "https://plot.ly"
       },
       "data": [
        {
         "customdata": [
          [
           "I-5 S/O Mounts NB",
           "Pierce"
          ],
          [
           "I-5 S/O Mounts SB",
           "Pierce"
          ],
          [
           "I-5 S/O Division NB",
           "Pierce"
          ],
          [
           "I-5 S/O Division SB",
           "Pierce"
          ],
          [
           "I-5 @ N/O Division NB",
           "Pierce"
          ],
          [
           "I-5 @ N/O Division SB",
           "Pierce"
          ],
          [
           "I-5 S/O SR-512 NB",
           "Pierce"
          ],
          [
           "I-5 S/O SR-512 SB",
           "Pierce"
          ],
          [
           "I-5 N/O SR-512 NB",
           "Pierce"
          ],
          [
           "I-5 N/O SR-512 SB",
           "Pierce"
          ],
          [
           "I-5 N/O 56th NB",
           "Pierce"
          ],
          [
           "I-5 N/O 56th SB",
           "Pierce"
          ],
          [
           "I-5 E/O SR-16 NB",
           "Pierce"
          ],
          [
           "I-5 E/O SR-16 SB",
           "Pierce"
          ],
          [
           "I-5 E/O Port of Tacoma NB",
           "Pierce"
          ],
          [
           "I-5 E/O Port of Tacoma SB (HOV from 56)",
           "Pierce"
          ],
          [
           "SR-512 W/O Meridian WB",
           "Pierce"
          ],
          [
           "SR-512 W/O Meridian EB",
           "Pierce"
          ],
          [
           "SR-167 W/O SR-410 NB/SB",
           "Pierce"
          ],
          [
           "SR-167 E/O SR-161 NB/SB",
           "Pierce"
          ],
          [
           "SR-410 E/O S Prairie WB/EB",
           "Pierce"
          ],
          [
           "SR-410 E/O Chinook WB/EB",
           "Pierce"
          ],
          [
           "SR-410 W/O SR-123 WB/EB",
           "Pierce"
          ],
          [
           "SR-410 E/O SR-123 WB/EB",
           "Pierce"
          ],
          [
           "SR-512 @ I-5 WB/EB",
           "Pierce"
          ],
          [
           "SR-512 W/O SR-7 WB/EB",
           "Pierce"
          ],
          [
           "SR-512 S/O SR-167 WB/EB",
           "Pierce"
          ],
          [
           "SR-509 E/O I-705 NB/SB",
           "Pierce"
          ],
          [
           "SR-509 W/O Alexander NB/SB",
           "Pierce"
          ],
          [
           "SR-509 S/O 11th NB/SB",
           "Pierce"
          ],
          [
           "SR-509 N/O Hyada NB/SB",
           "Pierce"
          ],
          [
           "SR-509 E/O Soundview NB/SB",
           "Pierce"
          ],
          [
           "SR-99 @ I-5 NB/SB",
           "Pierce"
          ],
          [
           "SR-99 E/O 54th NB/SB",
           "Pierce"
          ],
          [
           "SR-99 S/O Porter NB/SB",
           "Pierce"
          ],
          [
           "SR-16 @ TNB NB/SB",
           "Pierce"
          ],
          [
           "SR-16 @ Purdy Dr NB/SB",
           "Pierce"
          ],
          [
           "SR-302 N/O 144th WB/EB",
           "Pierce"
          ],
          [
           "SR-302 S/O 144th WB/EB",
           "Pierce"
          ],
          [
           "SR-302 W/O Key Peninsula Hwy WB/EB",
           "Pierce"
          ],
          [
           "SR-302 W/O Wright-Bliss WB/EB (E/O?)",
           "Pierce"
          ],
          [
           "SR-161 E/O SR-7 NB/SB",
           "Pierce"
          ],
          [
           "SR-161 N/O Center NB/SB",
           "Pierce"
          ],
          [
           "SR-161 N/O Eatonville Cutoff NB/SB",
           "Pierce"
          ],
          [
           "SR-161 N/O 304th NB/SB",
           "Pierce"
          ],
          [
           "SR-161 N/O 264th NB/SB",
           "Pierce"
          ],
          [
           "SR-161 S/O 224th NB/SB",
           "Pierce"
          ],
          [
           "SR-161 N/O 224th NB/SB",
           "Pierce"
          ],
          [
           "SR-161 N/O 200th NB/SB",
           "Pierce"
          ],
          [
           "SR-161 S/O SR-167 SB off-ramp NB/SB",
           "Pierce"
          ],
          [
           "SR-161 S/O Valley NB/SB",
           "Pierce"
          ],
          [
           "SR-161 N/O Valley NB/SB",
           "Pierce"
          ],
          [
           "SR-161 N/O 8th NB/SB",
           "Pierce"
          ],
          [
           "SR-7 @ Thurston County NB/SB",
           "Pierce"
          ],
          [
           "SR-7 W/O Alder Cutoff NB/SB",
           "Pierce"
          ],
          [
           "SR-7 N/O Eatonville Hwy NB/SB",
           "Pierce"
          ],
          [
           "SR-7 N/O Silver Lake NB/SB",
           "Pierce"
          ],
          [
           "SR-7 S/O SR-702 NB/SB",
           "Pierce"
          ],
          [
           "SR-7 N/O 304th NB/SB",
           "Pierce"
          ],
          [
           "SR-7 N/O 260th NB/SB",
           "Pierce"
          ],
          [
           "SR-7 S/O 224th NB/SB",
           "Pierce"
          ],
          [
           "SR-7 N/O 224th NB/SB",
           "Pierce"
          ],
          [
           "SR-7 N/O 38th NB/SB",
           "Pierce"
          ],
          [
           "SR-162 @ SR-410 WB/EB",
           "Pierce"
          ],
          [
           "SR-162 S/O Pioneer WB/EB",
           "Pierce"
          ],
          [
           "SR-162 E/O Orville WB/EB",
           "Pierce"
          ],
          [
           "SR-162 E/O S Prairie WB/EB",
           "Pierce"
          ],
          [
           "SR-162 N/O SR-165 WB/EB",
           "Pierce"
          ],
          [
           "SR-163 @ SR-16 NB/SB",
           "Pierce"
          ],
          [
           "SR-163 N/O 37th NB/SB",
           "Pierce"
          ],
          [
           "SR-163 N/O Park NB/SB",
           "Pierce"
          ],
          [
           "SR-507 S/O SR-7 NB/SB",
           "Pierce"
          ],
          [
           "SR-507 S/O E Gate NB/SB",
           "Pierce"
          ],
          [
           "SR-507 S/O 288th NB/SB",
           "Pierce"
          ],
          [
           "SR-507 N/O 346th NB/SB",
           "Pierce"
          ],
          [
           "SR-702 E/O SR-507 WB/EB",
           "Pierce"
          ],
          [
           "SR-702 E/O Harts Lake WB/EB",
           "Pierce"
          ],
          [
           "SR-702 E/O 40th WB/EB",
           "Pierce"
          ],
          [
           "SR-702 W/O 8th WB/EB",
           "Pierce"
          ],
          [
           "SR-702 E/O 8th WB/EB",
           "Pierce"
          ],
          [
           "SR-165 E/O SR-162 NB/SB",
           "Pierce"
          ],
          [
           "SR-165 N/O Davis NB/SB",
           "Pierce"
          ],
          [
           "SR-165 N/O Wilkeson-Carbonado NB/SB",
           "Pierce"
          ],
          [
           "SR-704 E/O Spanaway Loop WB/EB",
           "Pierce"
          ],
          [
           "SR-706 E/O SR-7 WB/EB",
           "Pierce"
          ],
          [
           "SR-706 E/O Kernahan WB/EB",
           "Pierce"
          ]
         ],
         "hovertemplate": "Observed=%{x}<br>Model=%{y}<br>location=%{customdata[0]}<br>County=%{customdata[1]}<extra></extra>",
         "legendgroup": "",
         "line": {
          "color": "Grey",
          "width": 2
         },
         "marker": {
          "color": "#91268F",
          "symbol": "circle"
         },
         "mode": "markers",
         "name": "",
         "orientation": "v",
         "showlegend": false,
         "type": "scatter",
         "x": {
          "bdata": "XglQCcQJHQobCeMIMArDCZIS1RIJFjYW5AYDDzYK3gz4B/gH5hXzCgsFQQA3ACAABAs5DcgP6gThCroAQQBGAAMFKgafBCcMvwfmAYUD8ACkABgAxAE5AUoCeAL7AZ0DrwQrBIQH4QJBA+0AZwDLAO8AggHRAssDogW9A5QBogL0A8ICbAFkAscBMwGgAA4F5wEhAqECQgKVAZwBjgFMAZoB2gB9AA8DlgBNAA==",
          "dtype": "i2"
         },
         "xaxis": "x",
         "y": {
          "bdata": "AAAAAKYCwgKdArcCVwQjBLsIUwl7DG0N2gUkFNEUZBQGCSUIWhtPBasEAAAAAAAABg4tDlsUfxCSEHgAGwAbALQCCgQJBu0U3ApGAQ8BiQApAAUAJQDJAFYBUQH/AR0C1gNiAgEEiwGqAwAAFgAeACcAQAAIATUBVgHAAewAWQJsAycBtwAgAV4DVAEcAQUBmAAkACcADgAOAIAAgABWAN0AVAAmAIwCAwAEAA==",
          "dtype": "i2"
         },
         "yaxis": "y"
        },
        {
         "hovertemplate": "Observed=%{x}<br>Model=%{y}<extra></extra>",
         "legendgroup": "",
         "line": {
          "color": "Grey",
          "dash": "solid",
          "width": 2
         },
         "marker": {
          "symbol": "circle"
         },
         "mode": "lines",
         "name": "",
         "orientation": "v",
         "showlegend": false,
         "type": "scatter",
         "x": {
          "bdata": "AAAAAAAAAABi3s6QmLdMQGLezpCYt1xAyiabbLKJZUBi3s6QmLdsQP1KgVq/8nFAyiabbLKJdUCWArV+pSB5QGLezpCYt3xAF1100UUngED9SoFav/KBQOM4juM4voNAyiabbLKJhUCwFKj1K1WHQJYCtX6lIIlAfPDBBx/sikBi3s6QmLeMQEjM2xkSg45AF1100UUnkEAK1PqVAg2RQP1KgVq/8pFA8MEHH3zYkkDjOI7jOL6TQNavFKj1o5RAyiabbLKJlUC9nSExb2+WQLAUqPUrVZdAo4suuug6mECWArV+pSCZQIl5O0NiBppAfPDBBx/smkBvZ0jM29GbQGLezpCYt5xAVVVVVVWdnUBIzNsZEoOeQDtDYt7OaJ9AF1100UUnoECRmLczJJqgQArU+pUCDaFAhA8++OB/oUD9SoFav/KhQHeGxLydZaJA8MEHH3zYokBq/UqBWkujQOM4juM4vqNAXXTRRRcxpEDWrxSo9aOkQFDrVwrUFqVAyiabbLKJpUBDYt7OkPylQL2dITFvb6ZANtlkk03ipkCwFKj1K1WnQClQ61cKyKdAo4suuug6qEAcx3Ecx62oQJYCtX6lIKlADz744IOTqUCJeTtDYgaqQAK1fqVAeapAfPDBBx/sqkD1KwVq/V6rQG9nSMzb0atA6KKLLrpErEBi3s6QmLesQNwZEvN2Kq1AVVVVVVWdrUDPkJi3MxCuQEjM2xkSg65AwgcffPD1rkA7Q2LezmivQLV+pUCt269AF1100UUnsEDU+pUCtWCwQJGYtzMkmrBATTbZZJPTsEAK1PqVAg2xQMdxHMdxRrFAhA8++OB/sUBArV8pULmxQP1KgVq/8rFAuuiiiy4sskB3hsS8nWWyQDQk5u0Mn7JA8MEHH3zYskCtXylQ6xGzQGr9SoFaS7NAJ5tsssmEs0DjOI7jOL6zQKDWrxSo97NAXXTRRRcxtEAaEvN2hmq0QNavFKj1o7RAk0022WTdtEBQ61cK1Ba1QA2JeTtDULVAyiabbLKJtUCGxLydIcO1QENi3s6Q/LVAAAAAAAA2tkA=",
          "dtype": "f8"
         },
         "xaxis": "x",
         "y": {
          "bdata": "IIX6cKqBXMCSwUGEwq5PwJDjOZrAaCnAzM8kN2L6QkA8DGxKeidWQEnYorzhaGFAdqoPVAa+Z0CgfHzrKhNuQGandMEnNHJAexArDbpedUCReeFYTIl4QKbil6Tes3tAvktO8HDefkBqWgKegQSBQPSO3cPKmYJAf8O46RMvhEAK+JMPXcSFQJUsbzWmWYdAH2FKW+/uiECqlSWBOISKQDXKAKeBGYxAwP7bzMqujUBKM7fyE0SPQOszSYyubJBAMc42H1M3kUB2aCSy9wGSQLwCEkWczJJAAZ3/10CXk0BGN+1q5WGUQIzR2v2JLJVA0WvIkC73lUAWBrYj08GWQFygo7Z3jJdAoTqRSRxXmEDn1H7cwCGZQCxvbG9l7JlAcQlaAgq3mkC4o0eVroGbQPw9NShTTJxAQtgiu/cWnUCHchBOnOGdQM4M/uBArJ5AEqfrc+V2n0CsoGwDxSCgQM5t40wXhqBA8TpalmnroEAUCNHfu1ChQDfVRykOtqFAWqK+cmAbokB8bzW8soCiQJ88rAUF5qJAwQkjT1dLo0Dl1pmYqbCjQAekEOL7FaRAKnGHK057pEBMPv50oOCkQG8Ldb7yRaVAktjrB0WrpUC1pWJRlxCmQNdy2ZrpdaZA+j9Q5DvbpkAcDcctjkCnQD/aPXfgpadAYqe0wDILqECFdCsKhXCoQKhBolPX1ahAyg4ZnSk7qUDt24/me6CpQBCpBjDOBapAM3Z9eSBrqkBVQ/TCctCqQHgQawzFNatAmt3hVRebq0C9qlifaQCsQOF3z+i7ZaxAAkVGMg7LrEAlEr17YDCtQEjfM8Wyla1Aa6yqDgX7rUCNeSFYV2CuQLBGmKGpxa5A0xMP6/sqr0D34IU0TpCvQBmu/H2g9a9Anr25Y3ktsEAuJHWIImCwQMCKMK3LkrBAUvHr0XTFsEDiV6f2HfiwQHS+YhvHKrFABiUeQHBdsUCYi9lkGZCxQCjylInCwrFAulhQrmv1sUBMvwvTFCiyQNwlx/e9WrJAboyCHGeNskD+8j1BEMCyQJBZ+WW58rJAIsC0imIls0A=",
          "dtype": "f8"
         },
         "yaxis": "y"
        }
       ],
       "layout": {
        "annotations": [
         {
          "align": "right",
          "font": {
           "color": "pink",
           "size": 12
          },
          "showarrow": false,
          "text": "y = x",
          "x": 7352.1,
          "y": 7352.1
         },
         {
          "align": "right",
          "font": {
           "color": "black",
           "size": 12
          },
          "showarrow": false,
          "text": "r^2 = 0.60",
          "x": 5970.3,
          "y": 5146.454175435784
         }
        ],
        "height": 600,
        "legend": {
         "tracegroupgap": 0
        },
        "margin": {
         "b": 100,
         "l": 100,
         "r": 100,
         "t": 100
        },
        "shapes": [
         {
          "line": {
           "color": "Red",
           "dash": "dash",
           "width": 2
          },
          "type": "line",
          "x0": 0,
          "x1": 7002,
          "y0": 0,
          "y1": 7002
         }
        ],
        "template": {
         "data": {
          "bar": [
           {
            "error_x": {
             "color": "rgb(36,36,36)"
            },
            "error_y": {
             "color": "rgb(36,36,36)"
            },
            "marker": {
             "line": {
              "color": "white",
              "width": 0.5
             },
             "pattern": {
              "fillmode": "overlay",
              "size": 10,
              "solidity": 0.2
             }
            },
            "type": "bar"
           }
          ],
          "barpolar": [
           {
            "marker": {
             "line": {
              "color": "white",
              "width": 0.5
             },
             "pattern": {
              "fillmode": "overlay",
              "size": 10,
              "solidity": 0.2
             }
            },
            "type": "barpolar"
           }
          ],
          "carpet": [
           {
            "aaxis": {
             "endlinecolor": "rgb(36,36,36)",
             "gridcolor": "white",
             "linecolor": "white",
             "minorgridcolor": "white",
             "startlinecolor": "rgb(36,36,36)"
            },
            "baxis": {
             "endlinecolor": "rgb(36,36,36)",
             "gridcolor": "white",
             "linecolor": "white",
             "minorgridcolor": "white",
             "startlinecolor": "rgb(36,36,36)"
            },
            "type": "carpet"
           }
          ],
          "choropleth": [
           {
            "colorbar": {
             "outlinewidth": 1,
             "tickcolor": "rgb(36,36,36)",
             "ticks": "outside"
            },
            "type": "choropleth"
           }
          ],
          "contour": [
           {
            "colorbar": {
             "outlinewidth": 1,
             "tickcolor": "rgb(36,36,36)",
             "ticks": "outside"
            },
            "colorscale": [
             [
              0.0,
              "#440154"
             ],
             [
              0.1111111111111111,
              "#482878"
             ],
             [
              0.2222222222222222,
              "#3e4989"
             ],
             [
              0.3333333333333333,
              "#31688e"
             ],
             [
              0.4444444444444444,
              "#26828e"
             ],
             [
              0.5555555555555556,
              "#1f9e89"
             ],
             [
              0.6666666666666666,
              "#35b779"
             ],
             [
              0.7777777777777778,
              "#6ece58"
             ],
             [
              0.8888888888888888,
              "#b5de2b"
             ],
             [
              1.0,
              "#fde725"
             ]
            ],
            "type": "contour"
           }
          ],
          "contourcarpet": [
           {
            "colorbar": {
             "outlinewidth": 1,
             "tickcolor": "rgb(36,36,36)",
             "ticks": "outside"
            },
            "type": "contourcarpet"
           }
          ],
          "heatmap": [
           {
            "colorbar": {
             "outlinewidth": 1,
             "tickcolor": "rgb(36,36,36)",
             "ticks": "outside"
            },
            "colorscale": [
             [
              0.0,
              "#440154"
             ],
             [
              0.1111111111111111,
              "#482878"
             ],
             [
              0.2222222222222222,
              "#3e4989"
             ],
             [
              0.3333333333333333,
              "#31688e"
             ],
             [
              0.4444444444444444,
              "#26828e"
             ],
             [
              0.5555555555555556,
              "#1f9e89"
             ],
             [
              0.6666666666666666,
              "#35b779"
             ],
             [
              0.7777777777777778,
              "#6ece58"
             ],
             [
              0.8888888888888888,
              "#b5de2b"
             ],
             [
              1.0,
              "#fde725"
             ]
            ],
            "type": "heatmap"
           }
          ],
          "histogram": [
           {
            "marker": {
             "line": {
              "color": "white",
              "width": 0.6
             }
            },
            "type": "histogram"
           }
          ],
          "histogram2d": [
           {
            "colorbar": {
             "outlinewidth": 1,
             "tickcolor": "rgb(36,36,36)",
             "ticks": "outside"
            },
            "colorscale": [
             [
              0.0,
              "#440154"
             ],
             [
              0.1111111111111111,
              "#482878"
             ],
             [
              0.2222222222222222,
              "#3e4989"
             ],
             [
              0.3333333333333333,
              "#31688e"
             ],
             [
              0.4444444444444444,
              "#26828e"
             ],
             [
              0.5555555555555556,
              "#1f9e89"
             ],
             [
              0.6666666666666666,
              "#35b779"
             ],
             [
              0.7777777777777778,
              "#6ece58"
             ],
             [
              0.8888888888888888,
              "#b5de2b"
             ],
             [
              1.0,
              "#fde725"
             ]
            ],
            "type": "histogram2d"
           }
          ],
          "histogram2dcontour": [
           {
            "colorbar": {
             "outlinewidth": 1,
             "tickcolor": "rgb(36,36,36)",
             "ticks": "outside"
            },
            "colorscale": [
             [
              0.0,
              "#440154"
             ],
             [
              0.1111111111111111,
              "#482878"
             ],
             [
              0.2222222222222222,
              "#3e4989"
             ],
             [
              0.3333333333333333,
              "#31688e"
             ],
             [
              0.4444444444444444,
              "#26828e"
             ],
             [
              0.5555555555555556,
              "#1f9e89"
             ],
             [
              0.6666666666666666,
              "#35b779"
             ],
             [
              0.7777777777777778,
              "#6ece58"
             ],
             [
              0.8888888888888888,
              "#b5de2b"
             ],
             [
              1.0,
              "#fde725"
             ]
            ],
            "type": "histogram2dcontour"
           }
          ],
          "mesh3d": [
           {
            "colorbar": {
             "outlinewidth": 1,
             "tickcolor": "rgb(36,36,36)",
             "ticks": "outside"
            },
            "type": "mesh3d"
           }
          ],
          "parcoords": [
           {
            "line": {
             "colorbar": {
              "outlinewidth": 1,
              "tickcolor": "rgb(36,36,36)",
              "ticks": "outside"
             }
            },
            "type": "parcoords"
           }
          ],
          "pie": [
           {
            "automargin": true,
            "type": "pie"
           }
          ],
          "scatter": [
           {
            "fillpattern": {
             "fillmode": "overlay",
             "size": 10,
             "solidity": 0.2
            },
            "type": "scatter"
           }
          ],
          "scatter3d": [
           {
            "line": {
             "colorbar": {
              "outlinewidth": 1,
              "tickcolor": "rgb(36,36,36)",
              "ticks": "outside"
             }
            },
            "marker": {
             "colorbar": {
              "outlinewidth": 1,
              "tickcolor": "rgb(36,36,36)",
              "ticks": "outside"
             }
            },
            "type": "scatter3d"
           }
          ],
          "scattercarpet": [
           {
            "marker": {
             "colorbar": {
              "outlinewidth": 1,
              "tickcolor": "rgb(36,36,36)",
              "ticks": "outside"
             }
            },
            "type": "scattercarpet"
           }
          ],
          "scattergeo": [
           {
            "marker": {
             "colorbar": {
              "outlinewidth": 1,
              "tickcolor": "rgb(36,36,36)",
              "ticks": "outside"
             }
            },
            "type": "scattergeo"
           }
          ],
          "scattergl": [
           {
            "marker": {
             "colorbar": {
              "outlinewidth": 1,
              "tickcolor": "rgb(36,36,36)",
              "ticks": "outside"
             }
            },
            "type": "scattergl"
           }
          ],
          "scattermap": [
           {
            "marker": {
             "colorbar": {
              "outlinewidth": 1,
              "tickcolor": "rgb(36,36,36)",
              "ticks": "outside"
             }
            },
            "type": "scattermap"
           }
          ],
          "scattermapbox": [
           {
            "marker": {
             "colorbar": {
              "outlinewidth": 1,
              "tickcolor": "rgb(36,36,36)",
              "ticks": "outside"
             }
            },
            "type": "scattermapbox"
           }
          ],
          "scatterpolar": [
           {
            "marker": {
             "colorbar": {
              "outlinewidth": 1,
              "tickcolor": "rgb(36,36,36)",
              "ticks": "outside"
             }
            },
            "type": "scatterpolar"
           }
          ],
          "scatterpolargl": [
           {
            "marker": {
             "colorbar": {
              "outlinewidth": 1,
              "tickcolor": "rgb(36,36,36)",
              "ticks": "outside"
             }
            },
            "type": "scatterpolargl"
           }
          ],
          "scatterternary": [
           {
            "marker": {
             "colorbar": {
              "outlinewidth": 1,
              "tickcolor": "rgb(36,36,36)",
              "ticks": "outside"
             }
            },
            "type": "scatterternary"
           }
          ],
          "surface": [
           {
            "colorbar": {
             "outlinewidth": 1,
             "tickcolor": "rgb(36,36,36)",
             "ticks": "outside"
            },
            "colorscale": [
             [
              0.0,
              "#440154"
             ],
             [
              0.1111111111111111,
              "#482878"
             ],
             [
              0.2222222222222222,
              "#3e4989"
             ],
             [
              0.3333333333333333,
              "#31688e"
             ],
             [
              0.4444444444444444,
              "#26828e"
             ],
             [
              0.5555555555555556,
              "#1f9e89"
             ],
             [
              0.6666666666666666,
              "#35b779"
             ],
             [
              0.7777777777777778,
              "#6ece58"
             ],
             [
              0.8888888888888888,
              "#b5de2b"
             ],
             [
              1.0,
              "#fde725"
             ]
            ],
            "type": "surface"
           }
          ],
          "table": [
           {
            "cells": {
             "fill": {
              "color": "rgb(237,237,237)"
             },
             "line": {
              "color": "white"
             }
            },
            "header": {
             "fill": {
              "color": "rgb(217,217,217)"
             },
             "line": {
              "color": "white"
             }
            },
            "type": "table"
           }
          ]
         },
         "layout": {
          "annotationdefaults": {
           "arrowhead": 0,
           "arrowwidth": 1
          },
          "autotypenumbers": "strict",
          "coloraxis": {
           "colorbar": {
            "outlinewidth": 1,
            "tickcolor": "rgb(36,36,36)",
            "ticks": "outside"
           }
          },
          "colorscale": {
           "diverging": [
            [
             0.0,
             "rgb(103,0,31)"
            ],
            [
             0.1,
             "rgb(178,24,43)"
            ],
            [
             0.2,
             "rgb(214,96,77)"
            ],
            [
             0.3,
             "rgb(244,165,130)"
            ],
            [
             0.4,
             "rgb(253,219,199)"
            ],
            [
             0.5,
             "rgb(247,247,247)"
            ],
            [
             0.6,
             "rgb(209,229,240)"
            ],
            [
             0.7,
             "rgb(146,197,222)"
            ],
            [
             0.8,
             "rgb(67,147,195)"
            ],
            [
             0.9,
             "rgb(33,102,172)"
            ],
            [
             1.0,
             "rgb(5,48,97)"
            ]
           ],
           "sequential": [
            [
             0.0,
             "#440154"
            ],
            [
             0.1111111111111111,
             "#482878"
            ],
            [
             0.2222222222222222,
             "#3e4989"
            ],
            [
             0.3333333333333333,
             "#31688e"
            ],
            [
             0.4444444444444444,
             "#26828e"
            ],
            [
             0.5555555555555556,
             "#1f9e89"
            ],
            [
             0.6666666666666666,
             "#35b779"
            ],
            [
             0.7777777777777778,
             "#6ece58"
            ],
            [
             0.8888888888888888,
             "#b5de2b"
            ],
            [
             1.0,
             "#fde725"
            ]
           ],
           "sequentialminus": [
            [
             0.0,
             "#440154"
            ],
            [
             0.1111111111111111,
             "#482878"
            ],
            [
             0.2222222222222222,
             "#3e4989"
            ],
            [
             0.3333333333333333,
             "#31688e"
            ],
            [
             0.4444444444444444,
             "#26828e"
            ],
            [
             0.5555555555555556,
             "#1f9e89"
            ],
            [
             0.6666666666666666,
             "#35b779"
            ],
            [
             0.7777777777777778,
             "#6ece58"
            ],
            [
             0.8888888888888888,
             "#b5de2b"
            ],
            [
             1.0,
             "#fde725"
            ]
           ]
          },
          "colorway": [
           "#91268F",
           "#8CC63E",
           "#00A7A0",
           "#F05A28",
           "#4C4C4C",
           "#630460",
           "#9f3913",
           "#588527",
           "#00716c",
           "#3e4040"
          ],
          "font": {
           "color": "rgb(36,36,36)",
           "family": "Poppins",
           "size": 11
          },
          "geo": {
           "bgcolor": "white",
           "lakecolor": "white",
           "landcolor": "white",
           "showlakes": true,
           "showland": true,
           "subunitcolor": "white"
          },
          "hoverlabel": {
           "align": "left"
          },
          "hovermode": "closest",
          "mapbox": {
           "style": "light"
          },
          "paper_bgcolor": "white",
          "plot_bgcolor": "white",
          "polar": {
           "angularaxis": {
            "gridcolor": "rgb(232,232,232)",
            "linecolor": "rgb(36,36,36)",
            "showgrid": false,
            "showline": true,
            "ticks": "outside"
           },
           "bgcolor": "white",
           "radialaxis": {
            "gridcolor": "rgb(232,232,232)",
            "linecolor": "rgb(36,36,36)",
            "showgrid": false,
            "showline": true,
            "ticks": "outside"
           }
          },
          "scene": {
           "xaxis": {
            "backgroundcolor": "white",
            "gridcolor": "rgb(232,232,232)",
            "gridwidth": 2,
            "linecolor": "rgb(36,36,36)",
            "showbackground": true,
            "showgrid": false,
            "showline": true,
            "ticks": "outside",
            "zeroline": false,
            "zerolinecolor": "rgb(36,36,36)"
           },
           "yaxis": {
            "backgroundcolor": "white",
            "gridcolor": "rgb(232,232,232)",
            "gridwidth": 2,
            "linecolor": "rgb(36,36,36)",
            "showbackground": true,
            "showgrid": false,
            "showline": true,
            "ticks": "outside",
            "zeroline": false,
            "zerolinecolor": "rgb(36,36,36)"
           },
           "zaxis": {
            "backgroundcolor": "white",
            "gridcolor": "rgb(232,232,232)",
            "gridwidth": 2,
            "linecolor": "rgb(36,36,36)",
            "showbackground": true,
            "showgrid": false,
            "showline": true,
            "ticks": "outside",
            "zeroline": false,
            "zerolinecolor": "rgb(36,36,36)"
           }
          },
          "shapedefaults": {
           "fillcolor": "black",
           "line": {
            "width": 0
           },
           "opacity": 0.3
          },
          "ternary": {
           "aaxis": {
            "gridcolor": "rgb(232,232,232)",
            "linecolor": "rgb(36,36,36)",
            "showgrid": false,
            "showline": true,
            "ticks": "outside"
           },
           "baxis": {
            "gridcolor": "rgb(232,232,232)",
            "linecolor": "rgb(36,36,36)",
            "showgrid": false,
            "showline": true,
            "ticks": "outside"
           },
           "bgcolor": "white",
           "caxis": {
            "gridcolor": "rgb(232,232,232)",
            "linecolor": "rgb(36,36,36)",
            "showgrid": false,
            "showline": true,
            "ticks": "outside"
           }
          },
          "title": {
           "x": 0.05
          },
          "xaxis": {
           "automargin": true,
           "gridcolor": "rgb(232,232,232)",
           "linecolor": "rgb(36,36,36)",
           "showgrid": false,
           "showline": true,
           "ticks": "outside",
           "title": {
            "standoff": 15
           },
           "zeroline": false,
           "zerolinecolor": "rgb(36,36,36)"
          },
          "yaxis": {
           "automargin": true,
           "gridcolor": "rgb(232,232,232)",
           "linecolor": "rgb(36,36,36)",
           "showgrid": false,
           "showline": true,
           "ticks": "outside",
           "title": {
            "standoff": 15
           },
           "zeroline": false,
           "zerolinecolor": "rgb(36,36,36)"
          }
         }
        },
        "title": {
         "text": "Medium Trucks: Pierce"
        },
        "width": 800,
        "xaxis": {
         "anchor": "y",
         "domain": [
          0.0,
          1.0
         ],
         "title": {
          "text": "Observed"
         }
        },
        "yaxis": {
         "anchor": "x",
         "domain": [
          0.0,
          1.0
         ],
         "title": {
          "text": "Model"
         }
        }
       }
      },
      "text/html": [
       "<div>            <script src=\"https://cdnjs.cloudflare.com/ajax/libs/mathjax/2.7.5/MathJax.js?config=TeX-AMS-MML_SVG\"></script><script type=\"text/javascript\">if (window.MathJax && window.MathJax.Hub && window.MathJax.Hub.Config) {window.MathJax.Hub.Config({SVG: {font: \"STIX-Web\"}});}</script>                <script type=\"text/javascript\">window.PlotlyConfig = {MathJaxConfig: 'local'};</script>\n",
       "        <script charset=\"utf-8\" src=\"https://cdn.plot.ly/plotly-3.0.1.min.js\"></script>                <div id=\"b51810d7-ebef-4e6e-9dee-47c3d665ad20\" class=\"plotly-graph-div\" style=\"height:600px; width:800px;\"></div>            <script type=\"text/javascript\">                window.PLOTLYENV=window.PLOTLYENV || {};                                if (document.getElementById(\"b51810d7-ebef-4e6e-9dee-47c3d665ad20\")) {                    Plotly.newPlot(                        \"b51810d7-ebef-4e6e-9dee-47c3d665ad20\",                        [{\"customdata\":[[\"I-5 S\\u002fO Mounts NB\",\"Pierce\"],[\"I-5 S\\u002fO Mounts SB\",\"Pierce\"],[\"I-5 S\\u002fO Division NB\",\"Pierce\"],[\"I-5 S\\u002fO Division SB\",\"Pierce\"],[\"I-5 @ N\\u002fO Division NB\",\"Pierce\"],[\"I-5 @ N\\u002fO Division SB\",\"Pierce\"],[\"I-5 S\\u002fO SR-512 NB\",\"Pierce\"],[\"I-5 S\\u002fO SR-512 SB\",\"Pierce\"],[\"I-5 N\\u002fO SR-512 NB\",\"Pierce\"],[\"I-5 N\\u002fO SR-512 SB\",\"Pierce\"],[\"I-5 N\\u002fO 56th NB\",\"Pierce\"],[\"I-5 N\\u002fO 56th SB\",\"Pierce\"],[\"I-5 E\\u002fO SR-16 NB\",\"Pierce\"],[\"I-5 E\\u002fO SR-16 SB\",\"Pierce\"],[\"I-5 E\\u002fO Port of Tacoma NB\",\"Pierce\"],[\"I-5 E\\u002fO Port of Tacoma SB (HOV from 56)\",\"Pierce\"],[\"SR-512 W\\u002fO Meridian WB\",\"Pierce\"],[\"SR-512 W\\u002fO Meridian EB\",\"Pierce\"],[\"SR-167 W\\u002fO SR-410 NB\\u002fSB\",\"Pierce\"],[\"SR-167 E\\u002fO SR-161 NB\\u002fSB\",\"Pierce\"],[\"SR-410 E\\u002fO S Prairie WB\\u002fEB\",\"Pierce\"],[\"SR-410 E\\u002fO Chinook WB\\u002fEB\",\"Pierce\"],[\"SR-410 W\\u002fO SR-123 WB\\u002fEB\",\"Pierce\"],[\"SR-410 E\\u002fO SR-123 WB\\u002fEB\",\"Pierce\"],[\"SR-512 @ I-5 WB\\u002fEB\",\"Pierce\"],[\"SR-512 W\\u002fO SR-7 WB\\u002fEB\",\"Pierce\"],[\"SR-512 S\\u002fO SR-167 WB\\u002fEB\",\"Pierce\"],[\"SR-509 E\\u002fO I-705 NB\\u002fSB\",\"Pierce\"],[\"SR-509 W\\u002fO Alexander NB\\u002fSB\",\"Pierce\"],[\"SR-509 S\\u002fO 11th NB\\u002fSB\",\"Pierce\"],[\"SR-509 N\\u002fO Hyada NB\\u002fSB\",\"Pierce\"],[\"SR-509 E\\u002fO Soundview NB\\u002fSB\",\"Pierce\"],[\"SR-99 @ I-5 NB\\u002fSB\",\"Pierce\"],[\"SR-99 E\\u002fO 54th NB\\u002fSB\",\"Pierce\"],[\"SR-99 S\\u002fO Porter NB\\u002fSB\",\"Pierce\"],[\"SR-16 @ TNB NB\\u002fSB\",\"Pierce\"],[\"SR-16 @ Purdy Dr NB\\u002fSB\",\"Pierce\"],[\"SR-302 N\\u002fO 144th WB\\u002fEB\",\"Pierce\"],[\"SR-302 S\\u002fO 144th WB\\u002fEB\",\"Pierce\"],[\"SR-302 W\\u002fO Key Peninsula Hwy WB\\u002fEB\",\"Pierce\"],[\"SR-302 W\\u002fO Wright-Bliss WB\\u002fEB (E\\u002fO?)\",\"Pierce\"],[\"SR-161 E\\u002fO SR-7 NB\\u002fSB\",\"Pierce\"],[\"SR-161 N\\u002fO Center NB\\u002fSB\",\"Pierce\"],[\"SR-161 N\\u002fO Eatonville Cutoff NB\\u002fSB\",\"Pierce\"],[\"SR-161 N\\u002fO 304th NB\\u002fSB\",\"Pierce\"],[\"SR-161 N\\u002fO 264th NB\\u002fSB\",\"Pierce\"],[\"SR-161 S\\u002fO 224th NB\\u002fSB\",\"Pierce\"],[\"SR-161 N\\u002fO 224th NB\\u002fSB\",\"Pierce\"],[\"SR-161 N\\u002fO 200th NB\\u002fSB\",\"Pierce\"],[\"SR-161 S\\u002fO SR-167 SB off-ramp NB\\u002fSB\",\"Pierce\"],[\"SR-161 S\\u002fO Valley NB\\u002fSB\",\"Pierce\"],[\"SR-161 N\\u002fO Valley NB\\u002fSB\",\"Pierce\"],[\"SR-161 N\\u002fO 8th NB\\u002fSB\",\"Pierce\"],[\"SR-7 @ Thurston County NB\\u002fSB\",\"Pierce\"],[\"SR-7 W\\u002fO Alder Cutoff NB\\u002fSB\",\"Pierce\"],[\"SR-7 N\\u002fO Eatonville Hwy NB\\u002fSB\",\"Pierce\"],[\"SR-7 N\\u002fO Silver Lake NB\\u002fSB\",\"Pierce\"],[\"SR-7 S\\u002fO SR-702 NB\\u002fSB\",\"Pierce\"],[\"SR-7 N\\u002fO 304th NB\\u002fSB\",\"Pierce\"],[\"SR-7 N\\u002fO 260th NB\\u002fSB\",\"Pierce\"],[\"SR-7 S\\u002fO 224th NB\\u002fSB\",\"Pierce\"],[\"SR-7 N\\u002fO 224th NB\\u002fSB\",\"Pierce\"],[\"SR-7 N\\u002fO 38th NB\\u002fSB\",\"Pierce\"],[\"SR-162 @ SR-410 WB\\u002fEB\",\"Pierce\"],[\"SR-162 S\\u002fO Pioneer WB\\u002fEB\",\"Pierce\"],[\"SR-162 E\\u002fO Orville WB\\u002fEB\",\"Pierce\"],[\"SR-162 E\\u002fO S Prairie WB\\u002fEB\",\"Pierce\"],[\"SR-162 N\\u002fO SR-165 WB\\u002fEB\",\"Pierce\"],[\"SR-163 @ SR-16 NB\\u002fSB\",\"Pierce\"],[\"SR-163 N\\u002fO 37th NB\\u002fSB\",\"Pierce\"],[\"SR-163 N\\u002fO Park NB\\u002fSB\",\"Pierce\"],[\"SR-507 S\\u002fO SR-7 NB\\u002fSB\",\"Pierce\"],[\"SR-507 S\\u002fO E Gate NB\\u002fSB\",\"Pierce\"],[\"SR-507 S\\u002fO 288th NB\\u002fSB\",\"Pierce\"],[\"SR-507 N\\u002fO 346th NB\\u002fSB\",\"Pierce\"],[\"SR-702 E\\u002fO SR-507 WB\\u002fEB\",\"Pierce\"],[\"SR-702 E\\u002fO Harts Lake WB\\u002fEB\",\"Pierce\"],[\"SR-702 E\\u002fO 40th WB\\u002fEB\",\"Pierce\"],[\"SR-702 W\\u002fO 8th WB\\u002fEB\",\"Pierce\"],[\"SR-702 E\\u002fO 8th WB\\u002fEB\",\"Pierce\"],[\"SR-165 E\\u002fO SR-162 NB\\u002fSB\",\"Pierce\"],[\"SR-165 N\\u002fO Davis NB\\u002fSB\",\"Pierce\"],[\"SR-165 N\\u002fO Wilkeson-Carbonado NB\\u002fSB\",\"Pierce\"],[\"SR-704 E\\u002fO Spanaway Loop WB\\u002fEB\",\"Pierce\"],[\"SR-706 E\\u002fO SR-7 WB\\u002fEB\",\"Pierce\"],[\"SR-706 E\\u002fO Kernahan WB\\u002fEB\",\"Pierce\"]],\"hovertemplate\":\"Observed=%{x}\\u003cbr\\u003eModel=%{y}\\u003cbr\\u003elocation=%{customdata[0]}\\u003cbr\\u003eCounty=%{customdata[1]}\\u003cextra\\u003e\\u003c\\u002fextra\\u003e\",\"legendgroup\":\"\",\"marker\":{\"color\":\"#91268F\",\"symbol\":\"circle\"},\"mode\":\"markers\",\"name\":\"\",\"orientation\":\"v\",\"showlegend\":false,\"x\":{\"dtype\":\"i2\",\"bdata\":\"XglQCcQJHQobCeMIMArDCZIS1RIJFjYW5AYDDzYK3gz4B\\u002fgH5hXzCgsFQQA3ACAABAs5DcgP6gThCroAQQBGAAMFKgafBCcMvwfmAYUD8ACkABgAxAE5AUoCeAL7AZ0DrwQrBIQH4QJBA+0AZwDLAO8AggHRAssDogW9A5QBogL0A8ICbAFkAscBMwGgAA4F5wEhAqECQgKVAZwBjgFMAZoB2gB9AA8DlgBNAA==\"},\"xaxis\":\"x\",\"y\":{\"dtype\":\"i2\",\"bdata\":\"AAAAAKYCwgKdArcCVwQjBLsIUwl7DG0N2gUkFNEUZBQGCSUIWhtPBasEAAAAAAAABg4tDlsUfxCSEHgAGwAbALQCCgQJBu0U3ApGAQ8BiQApAAUAJQDJAFYBUQH\\u002fAR0C1gNiAgEEiwGqAwAAFgAeACcAQAAIATUBVgHAAewAWQJsAycBtwAgAV4DVAEcAQUBmAAkACcADgAOAIAAgABWAN0AVAAmAIwCAwAEAA==\"},\"yaxis\":\"y\",\"type\":\"scatter\",\"line\":{\"color\":\"Grey\",\"width\":2}},{\"hovertemplate\":\"Observed=%{x}\\u003cbr\\u003eModel=%{y}\\u003cextra\\u003e\\u003c\\u002fextra\\u003e\",\"legendgroup\":\"\",\"line\":{\"color\":\"Grey\",\"dash\":\"solid\",\"width\":2},\"marker\":{\"symbol\":\"circle\"},\"mode\":\"lines\",\"name\":\"\",\"orientation\":\"v\",\"showlegend\":false,\"x\":{\"dtype\":\"f8\",\"bdata\":\"AAAAAAAAAABi3s6QmLdMQGLezpCYt1xAyiabbLKJZUBi3s6QmLdsQP1KgVq\\u002f8nFAyiabbLKJdUCWArV+pSB5QGLezpCYt3xAF1100UUngED9SoFav\\u002fKBQOM4juM4voNAyiabbLKJhUCwFKj1K1WHQJYCtX6lIIlAfPDBBx\\u002fsikBi3s6QmLeMQEjM2xkSg45AF1100UUnkEAK1PqVAg2RQP1KgVq\\u002f8pFA8MEHH3zYkkDjOI7jOL6TQNavFKj1o5RAyiabbLKJlUC9nSExb2+WQLAUqPUrVZdAo4suuug6mECWArV+pSCZQIl5O0NiBppAfPDBBx\\u002fsmkBvZ0jM29GbQGLezpCYt5xAVVVVVVWdnUBIzNsZEoOeQDtDYt7OaJ9AF1100UUnoECRmLczJJqgQArU+pUCDaFAhA8++OB\\u002foUD9SoFav\\u002fKhQHeGxLydZaJA8MEHH3zYokBq\\u002fUqBWkujQOM4juM4vqNAXXTRRRcxpEDWrxSo9aOkQFDrVwrUFqVAyiabbLKJpUBDYt7OkPylQL2dITFvb6ZANtlkk03ipkCwFKj1K1WnQClQ61cKyKdAo4suuug6qEAcx3Ecx62oQJYCtX6lIKlADz744IOTqUCJeTtDYgaqQAK1fqVAeapAfPDBBx\\u002fsqkD1KwVq\\u002fV6rQG9nSMzb0atA6KKLLrpErEBi3s6QmLesQNwZEvN2Kq1AVVVVVVWdrUDPkJi3MxCuQEjM2xkSg65AwgcffPD1rkA7Q2LezmivQLV+pUCt269AF1100UUnsEDU+pUCtWCwQJGYtzMkmrBATTbZZJPTsEAK1PqVAg2xQMdxHMdxRrFAhA8++OB\\u002fsUBArV8pULmxQP1KgVq\\u002f8rFAuuiiiy4sskB3hsS8nWWyQDQk5u0Mn7JA8MEHH3zYskCtXylQ6xGzQGr9SoFaS7NAJ5tsssmEs0DjOI7jOL6zQKDWrxSo97NAXXTRRRcxtEAaEvN2hmq0QNavFKj1o7RAk0022WTdtEBQ61cK1Ba1QA2JeTtDULVAyiabbLKJtUCGxLydIcO1QENi3s6Q\\u002fLVAAAAAAAA2tkA=\"},\"xaxis\":\"x\",\"y\":{\"dtype\":\"f8\",\"bdata\":\"IIX6cKqBXMCSwUGEwq5PwJDjOZrAaCnAzM8kN2L6QkA8DGxKeidWQEnYorzhaGFAdqoPVAa+Z0CgfHzrKhNuQGandMEnNHJAexArDbpedUCReeFYTIl4QKbil6Tes3tAvktO8HDefkBqWgKegQSBQPSO3cPKmYJAf8O46RMvhEAK+JMPXcSFQJUsbzWmWYdAH2FKW+\\u002fuiECqlSWBOISKQDXKAKeBGYxAwP7bzMqujUBKM7fyE0SPQOszSYyubJBAMc42H1M3kUB2aCSy9wGSQLwCEkWczJJAAZ3\\u002f10CXk0BGN+1q5WGUQIzR2v2JLJVA0WvIkC73lUAWBrYj08GWQFygo7Z3jJdAoTqRSRxXmEDn1H7cwCGZQCxvbG9l7JlAcQlaAgq3mkC4o0eVroGbQPw9NShTTJxAQtgiu\\u002fcWnUCHchBOnOGdQM4M\\u002fuBArJ5AEqfrc+V2n0CsoGwDxSCgQM5t40wXhqBA8TpalmnroEAUCNHfu1ChQDfVRykOtqFAWqK+cmAbokB8bzW8soCiQJ88rAUF5qJAwQkjT1dLo0Dl1pmYqbCjQAekEOL7FaRAKnGHK057pEBMPv50oOCkQG8Ldb7yRaVAktjrB0WrpUC1pWJRlxCmQNdy2ZrpdaZA+j9Q5DvbpkAcDcctjkCnQD\\u002faPXfgpadAYqe0wDILqECFdCsKhXCoQKhBolPX1ahAyg4ZnSk7qUDt24\\u002fme6CpQBCpBjDOBapAM3Z9eSBrqkBVQ\\u002fTCctCqQHgQawzFNatAmt3hVRebq0C9qlifaQCsQOF3z+i7ZaxAAkVGMg7LrEAlEr17YDCtQEjfM8Wyla1Aa6yqDgX7rUCNeSFYV2CuQLBGmKGpxa5A0xMP6\\u002fsqr0D34IU0TpCvQBmu\\u002fH2g9a9Anr25Y3ktsEAuJHWIImCwQMCKMK3LkrBAUvHr0XTFsEDiV6f2HfiwQHS+YhvHKrFABiUeQHBdsUCYi9lkGZCxQCjylInCwrFAulhQrmv1sUBMvwvTFCiyQNwlx\\u002fe9WrJAboyCHGeNskD+8j1BEMCyQJBZ+WW58rJAIsC0imIls0A=\"},\"yaxis\":\"y\",\"type\":\"scatter\"}],                        {\"template\":{\"data\":{\"barpolar\":[{\"marker\":{\"line\":{\"color\":\"white\",\"width\":0.5},\"pattern\":{\"fillmode\":\"overlay\",\"size\":10,\"solidity\":0.2}},\"type\":\"barpolar\"}],\"bar\":[{\"error_x\":{\"color\":\"rgb(36,36,36)\"},\"error_y\":{\"color\":\"rgb(36,36,36)\"},\"marker\":{\"line\":{\"color\":\"white\",\"width\":0.5},\"pattern\":{\"fillmode\":\"overlay\",\"size\":10,\"solidity\":0.2}},\"type\":\"bar\"}],\"carpet\":[{\"aaxis\":{\"endlinecolor\":\"rgb(36,36,36)\",\"gridcolor\":\"white\",\"linecolor\":\"white\",\"minorgridcolor\":\"white\",\"startlinecolor\":\"rgb(36,36,36)\"},\"baxis\":{\"endlinecolor\":\"rgb(36,36,36)\",\"gridcolor\":\"white\",\"linecolor\":\"white\",\"minorgridcolor\":\"white\",\"startlinecolor\":\"rgb(36,36,36)\"},\"type\":\"carpet\"}],\"choropleth\":[{\"colorbar\":{\"outlinewidth\":1,\"tickcolor\":\"rgb(36,36,36)\",\"ticks\":\"outside\"},\"type\":\"choropleth\"}],\"contourcarpet\":[{\"colorbar\":{\"outlinewidth\":1,\"tickcolor\":\"rgb(36,36,36)\",\"ticks\":\"outside\"},\"type\":\"contourcarpet\"}],\"contour\":[{\"colorbar\":{\"outlinewidth\":1,\"tickcolor\":\"rgb(36,36,36)\",\"ticks\":\"outside\"},\"colorscale\":[[0.0,\"#440154\"],[0.1111111111111111,\"#482878\"],[0.2222222222222222,\"#3e4989\"],[0.3333333333333333,\"#31688e\"],[0.4444444444444444,\"#26828e\"],[0.5555555555555556,\"#1f9e89\"],[0.6666666666666666,\"#35b779\"],[0.7777777777777778,\"#6ece58\"],[0.8888888888888888,\"#b5de2b\"],[1.0,\"#fde725\"]],\"type\":\"contour\"}],\"heatmap\":[{\"colorbar\":{\"outlinewidth\":1,\"tickcolor\":\"rgb(36,36,36)\",\"ticks\":\"outside\"},\"colorscale\":[[0.0,\"#440154\"],[0.1111111111111111,\"#482878\"],[0.2222222222222222,\"#3e4989\"],[0.3333333333333333,\"#31688e\"],[0.4444444444444444,\"#26828e\"],[0.5555555555555556,\"#1f9e89\"],[0.6666666666666666,\"#35b779\"],[0.7777777777777778,\"#6ece58\"],[0.8888888888888888,\"#b5de2b\"],[1.0,\"#fde725\"]],\"type\":\"heatmap\"}],\"histogram2dcontour\":[{\"colorbar\":{\"outlinewidth\":1,\"tickcolor\":\"rgb(36,36,36)\",\"ticks\":\"outside\"},\"colorscale\":[[0.0,\"#440154\"],[0.1111111111111111,\"#482878\"],[0.2222222222222222,\"#3e4989\"],[0.3333333333333333,\"#31688e\"],[0.4444444444444444,\"#26828e\"],[0.5555555555555556,\"#1f9e89\"],[0.6666666666666666,\"#35b779\"],[0.7777777777777778,\"#6ece58\"],[0.8888888888888888,\"#b5de2b\"],[1.0,\"#fde725\"]],\"type\":\"histogram2dcontour\"}],\"histogram2d\":[{\"colorbar\":{\"outlinewidth\":1,\"tickcolor\":\"rgb(36,36,36)\",\"ticks\":\"outside\"},\"colorscale\":[[0.0,\"#440154\"],[0.1111111111111111,\"#482878\"],[0.2222222222222222,\"#3e4989\"],[0.3333333333333333,\"#31688e\"],[0.4444444444444444,\"#26828e\"],[0.5555555555555556,\"#1f9e89\"],[0.6666666666666666,\"#35b779\"],[0.7777777777777778,\"#6ece58\"],[0.8888888888888888,\"#b5de2b\"],[1.0,\"#fde725\"]],\"type\":\"histogram2d\"}],\"histogram\":[{\"marker\":{\"line\":{\"color\":\"white\",\"width\":0.6}},\"type\":\"histogram\"}],\"mesh3d\":[{\"colorbar\":{\"outlinewidth\":1,\"tickcolor\":\"rgb(36,36,36)\",\"ticks\":\"outside\"},\"type\":\"mesh3d\"}],\"parcoords\":[{\"line\":{\"colorbar\":{\"outlinewidth\":1,\"tickcolor\":\"rgb(36,36,36)\",\"ticks\":\"outside\"}},\"type\":\"parcoords\"}],\"pie\":[{\"automargin\":true,\"type\":\"pie\"}],\"scatter3d\":[{\"line\":{\"colorbar\":{\"outlinewidth\":1,\"tickcolor\":\"rgb(36,36,36)\",\"ticks\":\"outside\"}},\"marker\":{\"colorbar\":{\"outlinewidth\":1,\"tickcolor\":\"rgb(36,36,36)\",\"ticks\":\"outside\"}},\"type\":\"scatter3d\"}],\"scattercarpet\":[{\"marker\":{\"colorbar\":{\"outlinewidth\":1,\"tickcolor\":\"rgb(36,36,36)\",\"ticks\":\"outside\"}},\"type\":\"scattercarpet\"}],\"scattergeo\":[{\"marker\":{\"colorbar\":{\"outlinewidth\":1,\"tickcolor\":\"rgb(36,36,36)\",\"ticks\":\"outside\"}},\"type\":\"scattergeo\"}],\"scattergl\":[{\"marker\":{\"colorbar\":{\"outlinewidth\":1,\"tickcolor\":\"rgb(36,36,36)\",\"ticks\":\"outside\"}},\"type\":\"scattergl\"}],\"scattermapbox\":[{\"marker\":{\"colorbar\":{\"outlinewidth\":1,\"tickcolor\":\"rgb(36,36,36)\",\"ticks\":\"outside\"}},\"type\":\"scattermapbox\"}],\"scattermap\":[{\"marker\":{\"colorbar\":{\"outlinewidth\":1,\"tickcolor\":\"rgb(36,36,36)\",\"ticks\":\"outside\"}},\"type\":\"scattermap\"}],\"scatterpolargl\":[{\"marker\":{\"colorbar\":{\"outlinewidth\":1,\"tickcolor\":\"rgb(36,36,36)\",\"ticks\":\"outside\"}},\"type\":\"scatterpolargl\"}],\"scatterpolar\":[{\"marker\":{\"colorbar\":{\"outlinewidth\":1,\"tickcolor\":\"rgb(36,36,36)\",\"ticks\":\"outside\"}},\"type\":\"scatterpolar\"}],\"scatter\":[{\"fillpattern\":{\"fillmode\":\"overlay\",\"size\":10,\"solidity\":0.2},\"type\":\"scatter\"}],\"scatterternary\":[{\"marker\":{\"colorbar\":{\"outlinewidth\":1,\"tickcolor\":\"rgb(36,36,36)\",\"ticks\":\"outside\"}},\"type\":\"scatterternary\"}],\"surface\":[{\"colorbar\":{\"outlinewidth\":1,\"tickcolor\":\"rgb(36,36,36)\",\"ticks\":\"outside\"},\"colorscale\":[[0.0,\"#440154\"],[0.1111111111111111,\"#482878\"],[0.2222222222222222,\"#3e4989\"],[0.3333333333333333,\"#31688e\"],[0.4444444444444444,\"#26828e\"],[0.5555555555555556,\"#1f9e89\"],[0.6666666666666666,\"#35b779\"],[0.7777777777777778,\"#6ece58\"],[0.8888888888888888,\"#b5de2b\"],[1.0,\"#fde725\"]],\"type\":\"surface\"}],\"table\":[{\"cells\":{\"fill\":{\"color\":\"rgb(237,237,237)\"},\"line\":{\"color\":\"white\"}},\"header\":{\"fill\":{\"color\":\"rgb(217,217,217)\"},\"line\":{\"color\":\"white\"}},\"type\":\"table\"}]},\"layout\":{\"annotationdefaults\":{\"arrowhead\":0,\"arrowwidth\":1},\"autotypenumbers\":\"strict\",\"coloraxis\":{\"colorbar\":{\"outlinewidth\":1,\"tickcolor\":\"rgb(36,36,36)\",\"ticks\":\"outside\"}},\"colorscale\":{\"diverging\":[[0.0,\"rgb(103,0,31)\"],[0.1,\"rgb(178,24,43)\"],[0.2,\"rgb(214,96,77)\"],[0.3,\"rgb(244,165,130)\"],[0.4,\"rgb(253,219,199)\"],[0.5,\"rgb(247,247,247)\"],[0.6,\"rgb(209,229,240)\"],[0.7,\"rgb(146,197,222)\"],[0.8,\"rgb(67,147,195)\"],[0.9,\"rgb(33,102,172)\"],[1.0,\"rgb(5,48,97)\"]],\"sequential\":[[0.0,\"#440154\"],[0.1111111111111111,\"#482878\"],[0.2222222222222222,\"#3e4989\"],[0.3333333333333333,\"#31688e\"],[0.4444444444444444,\"#26828e\"],[0.5555555555555556,\"#1f9e89\"],[0.6666666666666666,\"#35b779\"],[0.7777777777777778,\"#6ece58\"],[0.8888888888888888,\"#b5de2b\"],[1.0,\"#fde725\"]],\"sequentialminus\":[[0.0,\"#440154\"],[0.1111111111111111,\"#482878\"],[0.2222222222222222,\"#3e4989\"],[0.3333333333333333,\"#31688e\"],[0.4444444444444444,\"#26828e\"],[0.5555555555555556,\"#1f9e89\"],[0.6666666666666666,\"#35b779\"],[0.7777777777777778,\"#6ece58\"],[0.8888888888888888,\"#b5de2b\"],[1.0,\"#fde725\"]]},\"colorway\":[\"#91268F\",\"#8CC63E\",\"#00A7A0\",\"#F05A28\",\"#4C4C4C\",\"#630460\",\"#9f3913\",\"#588527\",\"#00716c\",\"#3e4040\"],\"font\":{\"color\":\"rgb(36,36,36)\",\"family\":\"Poppins\",\"size\":11},\"geo\":{\"bgcolor\":\"white\",\"lakecolor\":\"white\",\"landcolor\":\"white\",\"showlakes\":true,\"showland\":true,\"subunitcolor\":\"white\"},\"hoverlabel\":{\"align\":\"left\"},\"hovermode\":\"closest\",\"mapbox\":{\"style\":\"light\"},\"paper_bgcolor\":\"white\",\"plot_bgcolor\":\"white\",\"polar\":{\"angularaxis\":{\"gridcolor\":\"rgb(232,232,232)\",\"linecolor\":\"rgb(36,36,36)\",\"showgrid\":false,\"showline\":true,\"ticks\":\"outside\"},\"bgcolor\":\"white\",\"radialaxis\":{\"gridcolor\":\"rgb(232,232,232)\",\"linecolor\":\"rgb(36,36,36)\",\"showgrid\":false,\"showline\":true,\"ticks\":\"outside\"}},\"scene\":{\"xaxis\":{\"backgroundcolor\":\"white\",\"gridcolor\":\"rgb(232,232,232)\",\"gridwidth\":2,\"linecolor\":\"rgb(36,36,36)\",\"showbackground\":true,\"showgrid\":false,\"showline\":true,\"ticks\":\"outside\",\"zeroline\":false,\"zerolinecolor\":\"rgb(36,36,36)\"},\"yaxis\":{\"backgroundcolor\":\"white\",\"gridcolor\":\"rgb(232,232,232)\",\"gridwidth\":2,\"linecolor\":\"rgb(36,36,36)\",\"showbackground\":true,\"showgrid\":false,\"showline\":true,\"ticks\":\"outside\",\"zeroline\":false,\"zerolinecolor\":\"rgb(36,36,36)\"},\"zaxis\":{\"backgroundcolor\":\"white\",\"gridcolor\":\"rgb(232,232,232)\",\"gridwidth\":2,\"linecolor\":\"rgb(36,36,36)\",\"showbackground\":true,\"showgrid\":false,\"showline\":true,\"ticks\":\"outside\",\"zeroline\":false,\"zerolinecolor\":\"rgb(36,36,36)\"}},\"shapedefaults\":{\"fillcolor\":\"black\",\"line\":{\"width\":0},\"opacity\":0.3},\"ternary\":{\"aaxis\":{\"gridcolor\":\"rgb(232,232,232)\",\"linecolor\":\"rgb(36,36,36)\",\"showgrid\":false,\"showline\":true,\"ticks\":\"outside\"},\"baxis\":{\"gridcolor\":\"rgb(232,232,232)\",\"linecolor\":\"rgb(36,36,36)\",\"showgrid\":false,\"showline\":true,\"ticks\":\"outside\"},\"bgcolor\":\"white\",\"caxis\":{\"gridcolor\":\"rgb(232,232,232)\",\"linecolor\":\"rgb(36,36,36)\",\"showgrid\":false,\"showline\":true,\"ticks\":\"outside\"}},\"title\":{\"x\":0.05},\"xaxis\":{\"automargin\":true,\"gridcolor\":\"rgb(232,232,232)\",\"linecolor\":\"rgb(36,36,36)\",\"showgrid\":false,\"showline\":true,\"ticks\":\"outside\",\"title\":{\"standoff\":15},\"zeroline\":false,\"zerolinecolor\":\"rgb(36,36,36)\"},\"yaxis\":{\"automargin\":true,\"gridcolor\":\"rgb(232,232,232)\",\"linecolor\":\"rgb(36,36,36)\",\"showgrid\":false,\"showline\":true,\"ticks\":\"outside\",\"title\":{\"standoff\":15},\"zeroline\":false,\"zerolinecolor\":\"rgb(36,36,36)\"}}},\"xaxis\":{\"anchor\":\"y\",\"domain\":[0.0,1.0],\"title\":{\"text\":\"Observed\"}},\"yaxis\":{\"anchor\":\"x\",\"domain\":[0.0,1.0],\"title\":{\"text\":\"Model\"}},\"legend\":{\"tracegroupgap\":0},\"title\":{\"text\":\"Medium Trucks: Pierce\"},\"margin\":{\"l\":100,\"r\":100,\"t\":100,\"b\":100},\"height\":600,\"width\":800,\"shapes\":[{\"line\":{\"color\":\"Red\",\"dash\":\"dash\",\"width\":2},\"type\":\"line\",\"x0\":0,\"x1\":7002,\"y0\":0,\"y1\":7002}],\"annotations\":[{\"align\":\"right\",\"font\":{\"color\":\"pink\",\"size\":12},\"showarrow\":false,\"text\":\"y = x\",\"x\":7352.1,\"y\":7352.1},{\"align\":\"right\",\"font\":{\"color\":\"black\",\"size\":12},\"showarrow\":false,\"text\":\"r^2 = 0.60\",\"x\":5970.3,\"y\":5146.454175435784}]},                        {\"responsive\": true}                    ).then(function(){\n",
       "                            \n",
       "var gd = document.getElementById('b51810d7-ebef-4e6e-9dee-47c3d665ad20');\n",
       "var x = new MutationObserver(function (mutations, observer) {{\n",
       "        var display = window.getComputedStyle(gd).display;\n",
       "        if (!display || display === 'none') {{\n",
       "            console.log([gd, 'removed!']);\n",
       "            Plotly.purge(gd);\n",
       "            observer.disconnect();\n",
       "        }}\n",
       "}});\n",
       "\n",
       "// Listen for the removal of the full notebook cells\n",
       "var notebookContainer = gd.closest('#notebook-container');\n",
       "if (notebookContainer) {{\n",
       "    x.observe(notebookContainer, {childList: true});\n",
       "}}\n",
       "\n",
       "// Listen for the clearing of the current output cell\n",
       "var outputEl = gd.closest('.output');\n",
       "if (outputEl) {{\n",
       "    x.observe(outputEl, {childList: true});\n",
       "}}\n",
       "\n",
       "                        })                };            </script>        </div>"
      ]
     },
     "metadata": {},
     "output_type": "display_data"
    }
   ],
   "source": [
    "fig = create_truck_chart(df_daily_med, 'Medium', 'Pierce')\n",
    "fig.show()"
   ]
  },
  {
   "cell_type": "raw",
   "id": "e54ab844",
   "metadata": {},
   "source": [
    "#### Snohomish"
   ]
  },
  {
   "cell_type": "code",
   "execution_count": 33,
   "id": "b4a630bf",
   "metadata": {
    "execution": {
     "iopub.execute_input": "2025-06-18T22:59:59.370820Z",
     "iopub.status.busy": "2025-06-18T22:59:59.369823Z",
     "iopub.status.idle": "2025-06-18T22:59:59.501753Z",
     "shell.execute_reply": "2025-06-18T22:59:59.500764Z"
    }
   },
   "outputs": [
    {
     "data": {
      "application/vnd.plotly.v1+json": {
       "config": {
        "plotlyServerURL": "https://plot.ly"
       },
       "data": [
        {
         "customdata": [
          [
           "I-5 @ 44th NB",
           "Snohomish"
          ],
          [
           "I-5 @ 44th SB",
           "Snohomish"
          ],
          [
           "I-5 N/O 164th NB",
           "Snohomish"
          ],
          [
           "I-5 N/O 164th SB",
           "Snohomish"
          ],
          [
           "I-5 N/O SR-526 NB",
           "Snohomish"
          ],
          [
           "I-5 N/O SR-526 SB",
           "Snohomish"
          ],
          [
           "I-5 N/O 41st NB",
           "Snohomish"
          ],
          [
           "I-5 N/O 41st SB",
           "Snohomish"
          ],
          [
           "I-5 @ SR-528 NB",
           "Snohomish"
          ],
          [
           "I-5 @ SR-528 SB",
           "Snohomish"
          ],
          [
           "I-5 N/O SR-531 NB",
           "Snohomish"
          ],
          [
           "I-5 N/O SR-531 SB",
           "Snohomish"
          ],
          [
           "I-405 N/O SR-527 NB",
           "Snohomish"
          ],
          [
           "I-405 N/O SR-527 SB",
           "Snohomish"
          ],
          [
           "SR-525 N/O I-5 NB",
           "Snohomish"
          ],
          [
           "SR-525 N/O I-5 SB",
           "Snohomish"
          ],
          [
           "I-5 @ SR-532 NB/SB",
           "Snohomish"
          ],
          [
           "I-5 @ Skagit border NB/SB",
           "Snohomish"
          ],
          [
           "SR-525 N/O SR-526 NB/SB",
           "Snohomish"
          ],
          [
           "SR-525 N/O 5th NB/SB",
           "Snohomish"
          ],
          [
           "SR-99 E/O Evergreen NB/SB",
           "Snohomish"
          ],
          [
           "SR-526 W/O Paine Field Blvd WB/EB",
           "Snohomish"
          ],
          [
           "SR-526 E/O Paine Field Blvd WB/EB",
           "Snohomish"
          ],
          [
           "SR-9 @ SR-522 NB/SB",
           "Snohomish"
          ],
          [
           "SR-9 N/O SR-2 NB/SB",
           "Snohomish"
          ],
          [
           "SR-9 N/O SR-204 NB/SB",
           "Snohomish"
          ],
          [
           "SR-9 N/O SR-92 NB/SB",
           "Snohomish"
          ],
          [
           "SR-9 N/O 132nd NB/SB",
           "Snohomish"
          ],
          [
           "SR-9 N/O SR-531 NB/SB",
           "Snohomish"
          ],
          [
           "SR-9 S/O 67th NB/SB",
           "Snohomish"
          ],
          [
           "SR-9 N/O Kackman NB/SB",
           "Snohomish"
          ],
          [
           "SR-9 N/O Stanwood-Bryant NB/SB",
           "Snohomish"
          ],
          [
           "SR-532 @ Island County WB/EB",
           "Snohomish"
          ],
          [
           "SR-532 W/O 28th WB/EB",
           "Snohomish"
          ],
          [
           "SR-104 @ Ferry Loading Edm WB/EB",
           "Snohomish"
          ],
          [
           "SR-104 N/O Pine WB/EB",
           "Snohomish"
          ],
          [
           "SR-104 E/O 5th WB/EB",
           "Snohomish"
          ],
          [
           "SR-524 W/O 3rd WB/EB",
           "Snohomish"
          ],
          [
           "SR-524 S/O Main WB/EB",
           "Snohomish"
          ],
          [
           "SR-524 N/O Main WB/EB",
           "Snohomish"
          ],
          [
           "SR-524 E/O 68th WB/EB",
           "Snohomish"
          ],
          [
           "SR-524 E/O 39th WB/EB",
           "Snohomish"
          ],
          [
           "SR-2 E/O I-5 WB/EB",
           "Snohomish"
          ],
          [
           "SR-2 S/O SR-204 WB/EB",
           "Snohomish"
          ],
          [
           "SR-2 E/O Main WB/EB",
           "Snohomish"
          ],
          [
           "SR-2 E/O Rice WB/EB",
           "Snohomish"
          ],
          [
           "SR-2 E/O 10th (Gold Bar) WB/EB",
           "Snohomish"
          ],
          [
           "SR-2 W/O Index-Galena WB/EB",
           "Snohomish"
          ],
          [
           "SR-2 E/O Index-Galena WB/EB",
           "Snohomish"
          ],
          [
           "SR-527 N/O I-405 NB/SB",
           "Snohomish"
          ],
          [
           "SR-527 N/O 196th NB/SB",
           "Snohomish"
          ],
          [
           "SR-527 N/O Dumas NB/SB",
           "Snohomish"
          ],
          [
           "SR-527 N/O 100th NB/SB",
           "Snohomish"
          ],
          [
           "SR-529 @ I-5 (Evt) NB/SB",
           "Snohomish"
          ],
          [
           "SR-529 S/O Everett NB/SB",
           "Snohomish"
          ],
          [
           "SR-529 W/O Maple NB/SB",
           "Snohomish"
          ],
          [
           "SR-529 N/O Everett NB/SB",
           "Snohomish"
          ],
          [
           "SR-529 N/O Broadway NB/SB",
           "Snohomish"
          ],
          [
           "SR-96 @ I-5 WB/EB",
           "Snohomish"
          ],
          [
           "SR-96 N/O 132nd WB/EB",
           "Snohomish"
          ],
          [
           "SR-96 E/O Seattle Hill WB/EB",
           "Snohomish"
          ],
          [
           "SR-528 @ I-5 WB/EB",
           "Snohomish"
          ],
          [
           "SR-528 E/O SR-529 WB/EB",
           "Snohomish"
          ],
          [
           "SR-531 N/O Rose WB/EB",
           "Snohomish"
          ],
          [
           "SR-531 E/O Lk Goodwin WB/EB",
           "Snohomish"
          ],
          [
           "SR-531 E/O 27th WB/EB",
           "Snohomish"
          ],
          [
           "SR-531 E/O I-5 WB/EB",
           "Snohomish"
          ],
          [
           "SR-531 E/O 43rd WB/EB",
           "Snohomish"
          ],
          [
           "SR-531 W/O 67th WB/EB",
           "Snohomish"
          ],
          [
           "SR-531 E/O 67th WB/EB",
           "Snohomish"
          ],
          [
           "SR-530 @ I-5 WB/EB",
           "Snohomish"
          ],
          [
           "SR-530 E/O Smokey Pt WB/EB",
           "Snohomish"
          ],
          [
           "SR-530 N/O 211th WB/EB",
           "Snohomish"
          ],
          [
           "SR-530 E/O SR-9 WB/EB",
           "Snohomish"
          ],
          [
           "SR-530 S/O Arlington Hts WB/EB",
           "Snohomish"
          ],
          [
           "SR-530 N/O Arlington Hts WB/EB",
           "Snohomish"
          ],
          [
           "SR-530 W/O Jim Creek WB/EB",
           "Snohomish"
          ],
          [
           "SR-530 W/O Ramstad WB/EB",
           "Snohomish"
          ],
          [
           "SR-530 @ Skagit County WB/EB",
           "Snohomish"
          ],
          [
           "SR-203 N/O 203rd NB/SB",
           "Snohomish"
          ],
          [
           "SR-204 @ SR-2 NB/SB",
           "Snohomish"
          ],
          [
           "SR-204 N/O 20th NB/SB",
           "Snohomish"
          ],
          [
           "SR-204 N/O SR-2 NB/SB",
           "Snohomish"
          ],
          [
           "SR-92 E/O Lake WB/EB",
           "Snohomish"
          ],
          [
           "SR-92 E/O Callow WB/EB",
           "Snohomish"
          ],
          [
           "SR-92 E/O Quarry WB/EB",
           "Snohomish"
          ],
          [
           "SR-92 W/O Mountain Loop WB/EB",
           "Snohomish"
          ]
         ],
         "hovertemplate": "Observed=%{x}<br>Model=%{y}<br>location=%{customdata[0]}<br>County=%{customdata[1]}<extra></extra>",
         "legendgroup": "",
         "line": {
          "color": "Grey",
          "width": 2
         },
         "marker": {
          "color": "#91268F",
          "symbol": "circle"
         },
         "mode": "markers",
         "name": "",
         "orientation": "v",
         "showlegend": false,
         "type": "scatter",
         "x": {
          "bdata": "GgosCjULSAuBChAL9QhgCo8IywjABskGAwZUBuAEUwOiCcgJpQKSAbMBqQFmA5sHfAXdBNIGHgPdAV8CBAKBACcE4wI5AeAAlAE3AJYAswDgAUYBgwokB0wDyQL+AUkB1gDcBVIDrQIeA3kBLgGfARsBygQ3BYIBKgEhA6ECSwCyAa4CygRZBs8DLgLqApoDPwPCATEC5AGqATABpwClAhIBkgEVBLIFKAREAUgB",
          "dtype": "i2"
         },
         "xaxis": "x",
         "y": {
          "bdata": "bxNvE4AT7BGOFP8UMBFnEIcIWQiuAosCixNzE4AM3AucAAAAJgJ+AAoBVAHdCKsE3wVpBb0EuAOVAjQBRwBJAAAAkQLhAMsARQH0AFkAHQHYArsBng1rCBMDnwGYAJgAawBCD2oEcALXBEIEKgSdAwkBgwPwB78BUQCmApUCAAB3ABkDBgapBU8CiwJ4Ac4C1gH4AfABqAF7AUMBAACuAd4ArQFVBQEDLQL7AMcA",
          "dtype": "i2"
         },
         "yaxis": "y"
        },
        {
         "hovertemplate": "Observed=%{x}<br>Model=%{y}<extra></extra>",
         "legendgroup": "",
         "line": {
          "color": "Grey",
          "dash": "solid",
          "width": 2
         },
         "marker": {
          "symbol": "circle"
         },
         "mode": "lines",
         "name": "",
         "orientation": "v",
         "showlegend": false,
         "type": "scatter",
         "x": {
          "bdata": "AAAAAAAAAADXrxSo9Ss9QNevFKj1K01A4YMPPvjgVUDXrxSo9StdQObtDIl5O2JA4YMPPvjgZUDcGRLzdoZpQNevFKj1K21A6aKLLrpocEDm7QyJeTtyQOQ4juM4DnRA4YMPPvjgdUDfzpCYt7N3QNwZEvN2hnlA2mSTTTZZe0DXrxSo9St9QNT6lQK1/n5A6aKLLrpogEBoSMzbGVKBQObtDIl5O4JAZZNNNtkkg0DkOI7jOA6EQGPezpCY94RA4YMPPvjghUBgKVDrV8qGQN/OkJi3s4dAXXTRRRediEDcGRLzdoaJQFu/UqDWb4pA2mSTTTZZi0BYCtT6lUKMQNevFKj1K41AVlVVVVUVjkDU+pUCtf6OQFOg1q8U6I9A6aKLLrpokECo9SsFat2QQGhIzNsZUpFAJ5tsssnGkUDm7QyJeTuSQKZArV8psJJAZZNNNtkkk0Ak5u0MiZmTQOQ4juM4DpRAo4suuuiClEBj3s6QmPeUQCIxb2dIbJVA4YMPPvjglUCh1q8UqFWWQGApUOtXypZAH3zwwQc/l0DfzpCYt7OXQJ4hMW9nKJhAXXTRRRedmEAdx3EcxxGZQNwZEvN2hplAm2yyySb7mUBbv1Kg1m+aQBoS83aG5JpA2mSTTTZZm0CZtzMk5s2bQFgK1PqVQpxAGF100UW3nEDXrxSo9SudQJYCtX6loJ1AVlVVVVUVnkAVqPUrBYqeQNT6lQK1/p5AlE022WRzn0BToNavFOifQIl5O0NiLqBA6aKLLrpooEBJzNsZEqOgQKj1KwVq3aBACB988MEXoUBoSMzbGVKhQMdxHMdxjKFAJ5tsssnGoUCHxLydIQGiQObtDIl5O6JARhdddNF1okCmQK1fKbCiQAVq/UqB6qJAZZNNNtkko0DFvJ0hMV+jQCTm7QyJmaNAhA8++ODTo0DkOI7jOA6kQENi3s6QSKRAo4suuuiCpEADtX6lQL2kQGPezpCY96RAwgcffPAxpUAiMW9nSGylQIJav1KgpqVA4YMPPvjgpUBBrV8pUBumQKHWrxSoVaZAAAAAAACQpkA=",
          "dtype": "f8"
         },
         "xaxis": "x",
         "y": {
          "bdata": "kGxYuzwNa8Ae8u678bdlwKt3hbymYmDAcvo3ercaVsAYC8r2QuBGwAAVQpJvsQjAeMiBBBXKQ0Ak2ROBoI9UQAjO5n82Ol9AduFcP2byZEDoW8Y+sUdqQFzWLz78nG9AZqjMniN5ckCgZYEeySN1QNoiNp5uzndAFODqHRR5ekBMnZ+duSN9QIRaVB1fzn9A34uEToI8gUB86l4O1ZGCQBhJOc4n54NAtacTjno8hUBSBu5NzZGGQO9kyA0g54dAisOizXI8iUAoIn2NxZGKQMSAV00Y54tAYN8xDWs8jUD+PQzNvZGOQJqc5owQ549AnH1gpjGekEDprE0G20iRQDjcOmaE85FAhgsoxi2ekkDUOhUm10iTQCNqAoaA85NAcZnv5SmelEC/yNxF00iVQA74yaV885VAXCe3BSaelkCqVqRlz0iXQPmFkcV485dAR7V+JSKemECV5GuFy0iZQOQTWeV085lAMkNGRR6emkCBcjOlx0ibQM+hIAVx85tAHNENZRqenEBsAPvEw0idQLov6CRt851ACF/VhBaenkBWjsLkv0ifQKS9r0Rp859AeXZOUglPoEAhDkUCXqSgQMilO7Ky+aBAbj0yYgdPoUAW1SgSXKShQL1sH8Kw+aFAZQQWcgVPokALnAwiWqSiQLIzA9Ku+aJAWsv5gQNPo0ABY/AxWKSjQKj65uGs+aNAT5LdkQFPpED2KdRBVqSkQJ3ByvGq+aRARVnBof9OpUDs8LdRVKSlQJOIrgGp+aVAOiClsf1OpkDit5thUqSmQIhPkhGn+aZAMOeIwftOp0DXfn9xUKSnQH0WdiGl+adAJa5s0flOqEDNRWOBTqSoQHPdWTGj+ahAGnVQ4fdOqUDCDEeRTKSpQGikPUGh+alAEDw08fVOqkC30yqhSqSqQF5rIVGf+apABQMYAfROq0Ctmg6xSKSrQFMyBWGd+atA+8n7EPJOrECiYfLARqSsQEr56HCb+axA8JDfIPBOrUCYKNbQRKStQD/AzICZ+a1A5VfDMO5OrkCN77ngQqSuQDWHsJCX+a5A2x6nQOxOr0A=",
          "dtype": "f8"
         },
         "yaxis": "y"
        }
       ],
       "layout": {
        "annotations": [
         {
          "align": "right",
          "font": {
           "color": "pink",
           "size": 12
          },
          "showarrow": false,
          "text": "y = x",
          "x": 5643.75,
          "y": 5643.75
         },
         {
          "align": "right",
          "font": {
           "color": "black",
           "size": 12
          },
          "showarrow": false,
          "text": "r^2 = 0.59",
          "x": 3032.4,
          "y": 4207.834502299922
         }
        ],
        "height": 600,
        "legend": {
         "tracegroupgap": 0
        },
        "margin": {
         "b": 100,
         "l": 100,
         "r": 100,
         "t": 100
        },
        "shapes": [
         {
          "line": {
           "color": "Red",
           "dash": "dash",
           "width": 2
          },
          "type": "line",
          "x0": 0,
          "x1": 5375,
          "y0": 0,
          "y1": 5375
         }
        ],
        "template": {
         "data": {
          "bar": [
           {
            "error_x": {
             "color": "rgb(36,36,36)"
            },
            "error_y": {
             "color": "rgb(36,36,36)"
            },
            "marker": {
             "line": {
              "color": "white",
              "width": 0.5
             },
             "pattern": {
              "fillmode": "overlay",
              "size": 10,
              "solidity": 0.2
             }
            },
            "type": "bar"
           }
          ],
          "barpolar": [
           {
            "marker": {
             "line": {
              "color": "white",
              "width": 0.5
             },
             "pattern": {
              "fillmode": "overlay",
              "size": 10,
              "solidity": 0.2
             }
            },
            "type": "barpolar"
           }
          ],
          "carpet": [
           {
            "aaxis": {
             "endlinecolor": "rgb(36,36,36)",
             "gridcolor": "white",
             "linecolor": "white",
             "minorgridcolor": "white",
             "startlinecolor": "rgb(36,36,36)"
            },
            "baxis": {
             "endlinecolor": "rgb(36,36,36)",
             "gridcolor": "white",
             "linecolor": "white",
             "minorgridcolor": "white",
             "startlinecolor": "rgb(36,36,36)"
            },
            "type": "carpet"
           }
          ],
          "choropleth": [
           {
            "colorbar": {
             "outlinewidth": 1,
             "tickcolor": "rgb(36,36,36)",
             "ticks": "outside"
            },
            "type": "choropleth"
           }
          ],
          "contour": [
           {
            "colorbar": {
             "outlinewidth": 1,
             "tickcolor": "rgb(36,36,36)",
             "ticks": "outside"
            },
            "colorscale": [
             [
              0.0,
              "#440154"
             ],
             [
              0.1111111111111111,
              "#482878"
             ],
             [
              0.2222222222222222,
              "#3e4989"
             ],
             [
              0.3333333333333333,
              "#31688e"
             ],
             [
              0.4444444444444444,
              "#26828e"
             ],
             [
              0.5555555555555556,
              "#1f9e89"
             ],
             [
              0.6666666666666666,
              "#35b779"
             ],
             [
              0.7777777777777778,
              "#6ece58"
             ],
             [
              0.8888888888888888,
              "#b5de2b"
             ],
             [
              1.0,
              "#fde725"
             ]
            ],
            "type": "contour"
           }
          ],
          "contourcarpet": [
           {
            "colorbar": {
             "outlinewidth": 1,
             "tickcolor": "rgb(36,36,36)",
             "ticks": "outside"
            },
            "type": "contourcarpet"
           }
          ],
          "heatmap": [
           {
            "colorbar": {
             "outlinewidth": 1,
             "tickcolor": "rgb(36,36,36)",
             "ticks": "outside"
            },
            "colorscale": [
             [
              0.0,
              "#440154"
             ],
             [
              0.1111111111111111,
              "#482878"
             ],
             [
              0.2222222222222222,
              "#3e4989"
             ],
             [
              0.3333333333333333,
              "#31688e"
             ],
             [
              0.4444444444444444,
              "#26828e"
             ],
             [
              0.5555555555555556,
              "#1f9e89"
             ],
             [
              0.6666666666666666,
              "#35b779"
             ],
             [
              0.7777777777777778,
              "#6ece58"
             ],
             [
              0.8888888888888888,
              "#b5de2b"
             ],
             [
              1.0,
              "#fde725"
             ]
            ],
            "type": "heatmap"
           }
          ],
          "histogram": [
           {
            "marker": {
             "line": {
              "color": "white",
              "width": 0.6
             }
            },
            "type": "histogram"
           }
          ],
          "histogram2d": [
           {
            "colorbar": {
             "outlinewidth": 1,
             "tickcolor": "rgb(36,36,36)",
             "ticks": "outside"
            },
            "colorscale": [
             [
              0.0,
              "#440154"
             ],
             [
              0.1111111111111111,
              "#482878"
             ],
             [
              0.2222222222222222,
              "#3e4989"
             ],
             [
              0.3333333333333333,
              "#31688e"
             ],
             [
              0.4444444444444444,
              "#26828e"
             ],
             [
              0.5555555555555556,
              "#1f9e89"
             ],
             [
              0.6666666666666666,
              "#35b779"
             ],
             [
              0.7777777777777778,
              "#6ece58"
             ],
             [
              0.8888888888888888,
              "#b5de2b"
             ],
             [
              1.0,
              "#fde725"
             ]
            ],
            "type": "histogram2d"
           }
          ],
          "histogram2dcontour": [
           {
            "colorbar": {
             "outlinewidth": 1,
             "tickcolor": "rgb(36,36,36)",
             "ticks": "outside"
            },
            "colorscale": [
             [
              0.0,
              "#440154"
             ],
             [
              0.1111111111111111,
              "#482878"
             ],
             [
              0.2222222222222222,
              "#3e4989"
             ],
             [
              0.3333333333333333,
              "#31688e"
             ],
             [
              0.4444444444444444,
              "#26828e"
             ],
             [
              0.5555555555555556,
              "#1f9e89"
             ],
             [
              0.6666666666666666,
              "#35b779"
             ],
             [
              0.7777777777777778,
              "#6ece58"
             ],
             [
              0.8888888888888888,
              "#b5de2b"
             ],
             [
              1.0,
              "#fde725"
             ]
            ],
            "type": "histogram2dcontour"
           }
          ],
          "mesh3d": [
           {
            "colorbar": {
             "outlinewidth": 1,
             "tickcolor": "rgb(36,36,36)",
             "ticks": "outside"
            },
            "type": "mesh3d"
           }
          ],
          "parcoords": [
           {
            "line": {
             "colorbar": {
              "outlinewidth": 1,
              "tickcolor": "rgb(36,36,36)",
              "ticks": "outside"
             }
            },
            "type": "parcoords"
           }
          ],
          "pie": [
           {
            "automargin": true,
            "type": "pie"
           }
          ],
          "scatter": [
           {
            "fillpattern": {
             "fillmode": "overlay",
             "size": 10,
             "solidity": 0.2
            },
            "type": "scatter"
           }
          ],
          "scatter3d": [
           {
            "line": {
             "colorbar": {
              "outlinewidth": 1,
              "tickcolor": "rgb(36,36,36)",
              "ticks": "outside"
             }
            },
            "marker": {
             "colorbar": {
              "outlinewidth": 1,
              "tickcolor": "rgb(36,36,36)",
              "ticks": "outside"
             }
            },
            "type": "scatter3d"
           }
          ],
          "scattercarpet": [
           {
            "marker": {
             "colorbar": {
              "outlinewidth": 1,
              "tickcolor": "rgb(36,36,36)",
              "ticks": "outside"
             }
            },
            "type": "scattercarpet"
           }
          ],
          "scattergeo": [
           {
            "marker": {
             "colorbar": {
              "outlinewidth": 1,
              "tickcolor": "rgb(36,36,36)",
              "ticks": "outside"
             }
            },
            "type": "scattergeo"
           }
          ],
          "scattergl": [
           {
            "marker": {
             "colorbar": {
              "outlinewidth": 1,
              "tickcolor": "rgb(36,36,36)",
              "ticks": "outside"
             }
            },
            "type": "scattergl"
           }
          ],
          "scattermap": [
           {
            "marker": {
             "colorbar": {
              "outlinewidth": 1,
              "tickcolor": "rgb(36,36,36)",
              "ticks": "outside"
             }
            },
            "type": "scattermap"
           }
          ],
          "scattermapbox": [
           {
            "marker": {
             "colorbar": {
              "outlinewidth": 1,
              "tickcolor": "rgb(36,36,36)",
              "ticks": "outside"
             }
            },
            "type": "scattermapbox"
           }
          ],
          "scatterpolar": [
           {
            "marker": {
             "colorbar": {
              "outlinewidth": 1,
              "tickcolor": "rgb(36,36,36)",
              "ticks": "outside"
             }
            },
            "type": "scatterpolar"
           }
          ],
          "scatterpolargl": [
           {
            "marker": {
             "colorbar": {
              "outlinewidth": 1,
              "tickcolor": "rgb(36,36,36)",
              "ticks": "outside"
             }
            },
            "type": "scatterpolargl"
           }
          ],
          "scatterternary": [
           {
            "marker": {
             "colorbar": {
              "outlinewidth": 1,
              "tickcolor": "rgb(36,36,36)",
              "ticks": "outside"
             }
            },
            "type": "scatterternary"
           }
          ],
          "surface": [
           {
            "colorbar": {
             "outlinewidth": 1,
             "tickcolor": "rgb(36,36,36)",
             "ticks": "outside"
            },
            "colorscale": [
             [
              0.0,
              "#440154"
             ],
             [
              0.1111111111111111,
              "#482878"
             ],
             [
              0.2222222222222222,
              "#3e4989"
             ],
             [
              0.3333333333333333,
              "#31688e"
             ],
             [
              0.4444444444444444,
              "#26828e"
             ],
             [
              0.5555555555555556,
              "#1f9e89"
             ],
             [
              0.6666666666666666,
              "#35b779"
             ],
             [
              0.7777777777777778,
              "#6ece58"
             ],
             [
              0.8888888888888888,
              "#b5de2b"
             ],
             [
              1.0,
              "#fde725"
             ]
            ],
            "type": "surface"
           }
          ],
          "table": [
           {
            "cells": {
             "fill": {
              "color": "rgb(237,237,237)"
             },
             "line": {
              "color": "white"
             }
            },
            "header": {
             "fill": {
              "color": "rgb(217,217,217)"
             },
             "line": {
              "color": "white"
             }
            },
            "type": "table"
           }
          ]
         },
         "layout": {
          "annotationdefaults": {
           "arrowhead": 0,
           "arrowwidth": 1
          },
          "autotypenumbers": "strict",
          "coloraxis": {
           "colorbar": {
            "outlinewidth": 1,
            "tickcolor": "rgb(36,36,36)",
            "ticks": "outside"
           }
          },
          "colorscale": {
           "diverging": [
            [
             0.0,
             "rgb(103,0,31)"
            ],
            [
             0.1,
             "rgb(178,24,43)"
            ],
            [
             0.2,
             "rgb(214,96,77)"
            ],
            [
             0.3,
             "rgb(244,165,130)"
            ],
            [
             0.4,
             "rgb(253,219,199)"
            ],
            [
             0.5,
             "rgb(247,247,247)"
            ],
            [
             0.6,
             "rgb(209,229,240)"
            ],
            [
             0.7,
             "rgb(146,197,222)"
            ],
            [
             0.8,
             "rgb(67,147,195)"
            ],
            [
             0.9,
             "rgb(33,102,172)"
            ],
            [
             1.0,
             "rgb(5,48,97)"
            ]
           ],
           "sequential": [
            [
             0.0,
             "#440154"
            ],
            [
             0.1111111111111111,
             "#482878"
            ],
            [
             0.2222222222222222,
             "#3e4989"
            ],
            [
             0.3333333333333333,
             "#31688e"
            ],
            [
             0.4444444444444444,
             "#26828e"
            ],
            [
             0.5555555555555556,
             "#1f9e89"
            ],
            [
             0.6666666666666666,
             "#35b779"
            ],
            [
             0.7777777777777778,
             "#6ece58"
            ],
            [
             0.8888888888888888,
             "#b5de2b"
            ],
            [
             1.0,
             "#fde725"
            ]
           ],
           "sequentialminus": [
            [
             0.0,
             "#440154"
            ],
            [
             0.1111111111111111,
             "#482878"
            ],
            [
             0.2222222222222222,
             "#3e4989"
            ],
            [
             0.3333333333333333,
             "#31688e"
            ],
            [
             0.4444444444444444,
             "#26828e"
            ],
            [
             0.5555555555555556,
             "#1f9e89"
            ],
            [
             0.6666666666666666,
             "#35b779"
            ],
            [
             0.7777777777777778,
             "#6ece58"
            ],
            [
             0.8888888888888888,
             "#b5de2b"
            ],
            [
             1.0,
             "#fde725"
            ]
           ]
          },
          "colorway": [
           "#91268F",
           "#8CC63E",
           "#00A7A0",
           "#F05A28",
           "#4C4C4C",
           "#630460",
           "#9f3913",
           "#588527",
           "#00716c",
           "#3e4040"
          ],
          "font": {
           "color": "rgb(36,36,36)",
           "family": "Poppins",
           "size": 11
          },
          "geo": {
           "bgcolor": "white",
           "lakecolor": "white",
           "landcolor": "white",
           "showlakes": true,
           "showland": true,
           "subunitcolor": "white"
          },
          "hoverlabel": {
           "align": "left"
          },
          "hovermode": "closest",
          "mapbox": {
           "style": "light"
          },
          "paper_bgcolor": "white",
          "plot_bgcolor": "white",
          "polar": {
           "angularaxis": {
            "gridcolor": "rgb(232,232,232)",
            "linecolor": "rgb(36,36,36)",
            "showgrid": false,
            "showline": true,
            "ticks": "outside"
           },
           "bgcolor": "white",
           "radialaxis": {
            "gridcolor": "rgb(232,232,232)",
            "linecolor": "rgb(36,36,36)",
            "showgrid": false,
            "showline": true,
            "ticks": "outside"
           }
          },
          "scene": {
           "xaxis": {
            "backgroundcolor": "white",
            "gridcolor": "rgb(232,232,232)",
            "gridwidth": 2,
            "linecolor": "rgb(36,36,36)",
            "showbackground": true,
            "showgrid": false,
            "showline": true,
            "ticks": "outside",
            "zeroline": false,
            "zerolinecolor": "rgb(36,36,36)"
           },
           "yaxis": {
            "backgroundcolor": "white",
            "gridcolor": "rgb(232,232,232)",
            "gridwidth": 2,
            "linecolor": "rgb(36,36,36)",
            "showbackground": true,
            "showgrid": false,
            "showline": true,
            "ticks": "outside",
            "zeroline": false,
            "zerolinecolor": "rgb(36,36,36)"
           },
           "zaxis": {
            "backgroundcolor": "white",
            "gridcolor": "rgb(232,232,232)",
            "gridwidth": 2,
            "linecolor": "rgb(36,36,36)",
            "showbackground": true,
            "showgrid": false,
            "showline": true,
            "ticks": "outside",
            "zeroline": false,
            "zerolinecolor": "rgb(36,36,36)"
           }
          },
          "shapedefaults": {
           "fillcolor": "black",
           "line": {
            "width": 0
           },
           "opacity": 0.3
          },
          "ternary": {
           "aaxis": {
            "gridcolor": "rgb(232,232,232)",
            "linecolor": "rgb(36,36,36)",
            "showgrid": false,
            "showline": true,
            "ticks": "outside"
           },
           "baxis": {
            "gridcolor": "rgb(232,232,232)",
            "linecolor": "rgb(36,36,36)",
            "showgrid": false,
            "showline": true,
            "ticks": "outside"
           },
           "bgcolor": "white",
           "caxis": {
            "gridcolor": "rgb(232,232,232)",
            "linecolor": "rgb(36,36,36)",
            "showgrid": false,
            "showline": true,
            "ticks": "outside"
           }
          },
          "title": {
           "x": 0.05
          },
          "xaxis": {
           "automargin": true,
           "gridcolor": "rgb(232,232,232)",
           "linecolor": "rgb(36,36,36)",
           "showgrid": false,
           "showline": true,
           "ticks": "outside",
           "title": {
            "standoff": 15
           },
           "zeroline": false,
           "zerolinecolor": "rgb(36,36,36)"
          },
          "yaxis": {
           "automargin": true,
           "gridcolor": "rgb(232,232,232)",
           "linecolor": "rgb(36,36,36)",
           "showgrid": false,
           "showline": true,
           "ticks": "outside",
           "title": {
            "standoff": 15
           },
           "zeroline": false,
           "zerolinecolor": "rgb(36,36,36)"
          }
         }
        },
        "title": {
         "text": "Medium Trucks: Snohomish"
        },
        "width": 800,
        "xaxis": {
         "anchor": "y",
         "domain": [
          0.0,
          1.0
         ],
         "title": {
          "text": "Observed"
         }
        },
        "yaxis": {
         "anchor": "x",
         "domain": [
          0.0,
          1.0
         ],
         "title": {
          "text": "Model"
         }
        }
       }
      },
      "text/html": [
       "<div>            <script src=\"https://cdnjs.cloudflare.com/ajax/libs/mathjax/2.7.5/MathJax.js?config=TeX-AMS-MML_SVG\"></script><script type=\"text/javascript\">if (window.MathJax && window.MathJax.Hub && window.MathJax.Hub.Config) {window.MathJax.Hub.Config({SVG: {font: \"STIX-Web\"}});}</script>                <script type=\"text/javascript\">window.PlotlyConfig = {MathJaxConfig: 'local'};</script>\n",
       "        <script charset=\"utf-8\" src=\"https://cdn.plot.ly/plotly-3.0.1.min.js\"></script>                <div id=\"d57ee28a-cc19-406a-aae6-498e62410dd3\" class=\"plotly-graph-div\" style=\"height:600px; width:800px;\"></div>            <script type=\"text/javascript\">                window.PLOTLYENV=window.PLOTLYENV || {};                                if (document.getElementById(\"d57ee28a-cc19-406a-aae6-498e62410dd3\")) {                    Plotly.newPlot(                        \"d57ee28a-cc19-406a-aae6-498e62410dd3\",                        [{\"customdata\":[[\"I-5 @ 44th NB\",\"Snohomish\"],[\"I-5 @ 44th SB\",\"Snohomish\"],[\"I-5 N\\u002fO 164th NB\",\"Snohomish\"],[\"I-5 N\\u002fO 164th SB\",\"Snohomish\"],[\"I-5 N\\u002fO SR-526 NB\",\"Snohomish\"],[\"I-5 N\\u002fO SR-526 SB\",\"Snohomish\"],[\"I-5 N\\u002fO 41st NB\",\"Snohomish\"],[\"I-5 N\\u002fO 41st SB\",\"Snohomish\"],[\"I-5 @ SR-528 NB\",\"Snohomish\"],[\"I-5 @ SR-528 SB\",\"Snohomish\"],[\"I-5 N\\u002fO SR-531 NB\",\"Snohomish\"],[\"I-5 N\\u002fO SR-531 SB\",\"Snohomish\"],[\"I-405 N\\u002fO SR-527 NB\",\"Snohomish\"],[\"I-405 N\\u002fO SR-527 SB\",\"Snohomish\"],[\"SR-525 N\\u002fO I-5 NB\",\"Snohomish\"],[\"SR-525 N\\u002fO I-5 SB\",\"Snohomish\"],[\"I-5 @ SR-532 NB\\u002fSB\",\"Snohomish\"],[\"I-5 @ Skagit border NB\\u002fSB\",\"Snohomish\"],[\"SR-525 N\\u002fO SR-526 NB\\u002fSB\",\"Snohomish\"],[\"SR-525 N\\u002fO 5th NB\\u002fSB\",\"Snohomish\"],[\"SR-99 E\\u002fO Evergreen NB\\u002fSB\",\"Snohomish\"],[\"SR-526 W\\u002fO Paine Field Blvd WB\\u002fEB\",\"Snohomish\"],[\"SR-526 E\\u002fO Paine Field Blvd WB\\u002fEB\",\"Snohomish\"],[\"SR-9 @ SR-522 NB\\u002fSB\",\"Snohomish\"],[\"SR-9 N\\u002fO SR-2 NB\\u002fSB\",\"Snohomish\"],[\"SR-9 N\\u002fO SR-204 NB\\u002fSB\",\"Snohomish\"],[\"SR-9 N\\u002fO SR-92 NB\\u002fSB\",\"Snohomish\"],[\"SR-9 N\\u002fO 132nd NB\\u002fSB\",\"Snohomish\"],[\"SR-9 N\\u002fO SR-531 NB\\u002fSB\",\"Snohomish\"],[\"SR-9 S\\u002fO 67th NB\\u002fSB\",\"Snohomish\"],[\"SR-9 N\\u002fO Kackman NB\\u002fSB\",\"Snohomish\"],[\"SR-9 N\\u002fO Stanwood-Bryant NB\\u002fSB\",\"Snohomish\"],[\"SR-532 @ Island County WB\\u002fEB\",\"Snohomish\"],[\"SR-532 W\\u002fO 28th WB\\u002fEB\",\"Snohomish\"],[\"SR-104 @ Ferry Loading Edm WB\\u002fEB\",\"Snohomish\"],[\"SR-104 N\\u002fO Pine WB\\u002fEB\",\"Snohomish\"],[\"SR-104 E\\u002fO 5th WB\\u002fEB\",\"Snohomish\"],[\"SR-524 W\\u002fO 3rd WB\\u002fEB\",\"Snohomish\"],[\"SR-524 S\\u002fO Main WB\\u002fEB\",\"Snohomish\"],[\"SR-524 N\\u002fO Main WB\\u002fEB\",\"Snohomish\"],[\"SR-524 E\\u002fO 68th WB\\u002fEB\",\"Snohomish\"],[\"SR-524 E\\u002fO 39th WB\\u002fEB\",\"Snohomish\"],[\"SR-2 E\\u002fO I-5 WB\\u002fEB\",\"Snohomish\"],[\"SR-2 S\\u002fO SR-204 WB\\u002fEB\",\"Snohomish\"],[\"SR-2 E\\u002fO Main WB\\u002fEB\",\"Snohomish\"],[\"SR-2 E\\u002fO Rice WB\\u002fEB\",\"Snohomish\"],[\"SR-2 E\\u002fO 10th (Gold Bar) WB\\u002fEB\",\"Snohomish\"],[\"SR-2 W\\u002fO Index-Galena WB\\u002fEB\",\"Snohomish\"],[\"SR-2 E\\u002fO Index-Galena WB\\u002fEB\",\"Snohomish\"],[\"SR-527 N\\u002fO I-405 NB\\u002fSB\",\"Snohomish\"],[\"SR-527 N\\u002fO 196th NB\\u002fSB\",\"Snohomish\"],[\"SR-527 N\\u002fO Dumas NB\\u002fSB\",\"Snohomish\"],[\"SR-527 N\\u002fO 100th NB\\u002fSB\",\"Snohomish\"],[\"SR-529 @ I-5 (Evt) NB\\u002fSB\",\"Snohomish\"],[\"SR-529 S\\u002fO Everett NB\\u002fSB\",\"Snohomish\"],[\"SR-529 W\\u002fO Maple NB\\u002fSB\",\"Snohomish\"],[\"SR-529 N\\u002fO Everett NB\\u002fSB\",\"Snohomish\"],[\"SR-529 N\\u002fO Broadway NB\\u002fSB\",\"Snohomish\"],[\"SR-96 @ I-5 WB\\u002fEB\",\"Snohomish\"],[\"SR-96 N\\u002fO 132nd WB\\u002fEB\",\"Snohomish\"],[\"SR-96 E\\u002fO Seattle Hill WB\\u002fEB\",\"Snohomish\"],[\"SR-528 @ I-5 WB\\u002fEB\",\"Snohomish\"],[\"SR-528 E\\u002fO SR-529 WB\\u002fEB\",\"Snohomish\"],[\"SR-531 N\\u002fO Rose WB\\u002fEB\",\"Snohomish\"],[\"SR-531 E\\u002fO Lk Goodwin WB\\u002fEB\",\"Snohomish\"],[\"SR-531 E\\u002fO 27th WB\\u002fEB\",\"Snohomish\"],[\"SR-531 E\\u002fO I-5 WB\\u002fEB\",\"Snohomish\"],[\"SR-531 E\\u002fO 43rd WB\\u002fEB\",\"Snohomish\"],[\"SR-531 W\\u002fO 67th WB\\u002fEB\",\"Snohomish\"],[\"SR-531 E\\u002fO 67th WB\\u002fEB\",\"Snohomish\"],[\"SR-530 @ I-5 WB\\u002fEB\",\"Snohomish\"],[\"SR-530 E\\u002fO Smokey Pt WB\\u002fEB\",\"Snohomish\"],[\"SR-530 N\\u002fO 211th WB\\u002fEB\",\"Snohomish\"],[\"SR-530 E\\u002fO SR-9 WB\\u002fEB\",\"Snohomish\"],[\"SR-530 S\\u002fO Arlington Hts WB\\u002fEB\",\"Snohomish\"],[\"SR-530 N\\u002fO Arlington Hts WB\\u002fEB\",\"Snohomish\"],[\"SR-530 W\\u002fO Jim Creek WB\\u002fEB\",\"Snohomish\"],[\"SR-530 W\\u002fO Ramstad WB\\u002fEB\",\"Snohomish\"],[\"SR-530 @ Skagit County WB\\u002fEB\",\"Snohomish\"],[\"SR-203 N\\u002fO 203rd NB\\u002fSB\",\"Snohomish\"],[\"SR-204 @ SR-2 NB\\u002fSB\",\"Snohomish\"],[\"SR-204 N\\u002fO 20th NB\\u002fSB\",\"Snohomish\"],[\"SR-204 N\\u002fO SR-2 NB\\u002fSB\",\"Snohomish\"],[\"SR-92 E\\u002fO Lake WB\\u002fEB\",\"Snohomish\"],[\"SR-92 E\\u002fO Callow WB\\u002fEB\",\"Snohomish\"],[\"SR-92 E\\u002fO Quarry WB\\u002fEB\",\"Snohomish\"],[\"SR-92 W\\u002fO Mountain Loop WB\\u002fEB\",\"Snohomish\"]],\"hovertemplate\":\"Observed=%{x}\\u003cbr\\u003eModel=%{y}\\u003cbr\\u003elocation=%{customdata[0]}\\u003cbr\\u003eCounty=%{customdata[1]}\\u003cextra\\u003e\\u003c\\u002fextra\\u003e\",\"legendgroup\":\"\",\"marker\":{\"color\":\"#91268F\",\"symbol\":\"circle\"},\"mode\":\"markers\",\"name\":\"\",\"orientation\":\"v\",\"showlegend\":false,\"x\":{\"dtype\":\"i2\",\"bdata\":\"GgosCjULSAuBChAL9QhgCo8IywjABskGAwZUBuAEUwOiCcgJpQKSAbMBqQFmA5sHfAXdBNIGHgPdAV8CBAKBACcE4wI5AeAAlAE3AJYAswDgAUYBgwokB0wDyQL+AUkB1gDcBVIDrQIeA3kBLgGfARsBygQ3BYIBKgEhA6ECSwCyAa4CygRZBs8DLgLqApoDPwPCATEC5AGqATABpwClAhIBkgEVBLIFKAREAUgB\"},\"xaxis\":\"x\",\"y\":{\"dtype\":\"i2\",\"bdata\":\"bxNvE4AT7BGOFP8UMBFnEIcIWQiuAosCixNzE4AM3AucAAAAJgJ+AAoBVAHdCKsE3wVpBb0EuAOVAjQBRwBJAAAAkQLhAMsARQH0AFkAHQHYArsBng1rCBMDnwGYAJgAawBCD2oEcALXBEIEKgSdAwkBgwPwB78BUQCmApUCAAB3ABkDBgapBU8CiwJ4Ac4C1gH4AfABqAF7AUMBAACuAd4ArQFVBQEDLQL7AMcA\"},\"yaxis\":\"y\",\"type\":\"scatter\",\"line\":{\"color\":\"Grey\",\"width\":2}},{\"hovertemplate\":\"Observed=%{x}\\u003cbr\\u003eModel=%{y}\\u003cextra\\u003e\\u003c\\u002fextra\\u003e\",\"legendgroup\":\"\",\"line\":{\"color\":\"Grey\",\"dash\":\"solid\",\"width\":2},\"marker\":{\"symbol\":\"circle\"},\"mode\":\"lines\",\"name\":\"\",\"orientation\":\"v\",\"showlegend\":false,\"x\":{\"dtype\":\"f8\",\"bdata\":\"AAAAAAAAAADXrxSo9Ss9QNevFKj1K01A4YMPPvjgVUDXrxSo9StdQObtDIl5O2JA4YMPPvjgZUDcGRLzdoZpQNevFKj1K21A6aKLLrpocEDm7QyJeTtyQOQ4juM4DnRA4YMPPvjgdUDfzpCYt7N3QNwZEvN2hnlA2mSTTTZZe0DXrxSo9St9QNT6lQK1\\u002fn5A6aKLLrpogEBoSMzbGVKBQObtDIl5O4JAZZNNNtkkg0DkOI7jOA6EQGPezpCY94RA4YMPPvjghUBgKVDrV8qGQN\\u002fOkJi3s4dAXXTRRRediEDcGRLzdoaJQFu\\u002fUqDWb4pA2mSTTTZZi0BYCtT6lUKMQNevFKj1K41AVlVVVVUVjkDU+pUCtf6OQFOg1q8U6I9A6aKLLrpokECo9SsFat2QQGhIzNsZUpFAJ5tsssnGkUDm7QyJeTuSQKZArV8psJJAZZNNNtkkk0Ak5u0MiZmTQOQ4juM4DpRAo4suuuiClEBj3s6QmPeUQCIxb2dIbJVA4YMPPvjglUCh1q8UqFWWQGApUOtXypZAH3zwwQc\\u002fl0DfzpCYt7OXQJ4hMW9nKJhAXXTRRRedmEAdx3EcxxGZQNwZEvN2hplAm2yyySb7mUBbv1Kg1m+aQBoS83aG5JpA2mSTTTZZm0CZtzMk5s2bQFgK1PqVQpxAGF100UW3nEDXrxSo9SudQJYCtX6loJ1AVlVVVVUVnkAVqPUrBYqeQNT6lQK1\\u002fp5AlE022WRzn0BToNavFOifQIl5O0NiLqBA6aKLLrpooEBJzNsZEqOgQKj1KwVq3aBACB988MEXoUBoSMzbGVKhQMdxHMdxjKFAJ5tsssnGoUCHxLydIQGiQObtDIl5O6JARhdddNF1okCmQK1fKbCiQAVq\\u002fUqB6qJAZZNNNtkko0DFvJ0hMV+jQCTm7QyJmaNAhA8++ODTo0DkOI7jOA6kQENi3s6QSKRAo4suuuiCpEADtX6lQL2kQGPezpCY96RAwgcffPAxpUAiMW9nSGylQIJav1KgpqVA4YMPPvjgpUBBrV8pUBumQKHWrxSoVaZAAAAAAACQpkA=\"},\"xaxis\":\"x\",\"y\":{\"dtype\":\"f8\",\"bdata\":\"kGxYuzwNa8Ae8u678bdlwKt3hbymYmDAcvo3ercaVsAYC8r2QuBGwAAVQpJvsQjAeMiBBBXKQ0Ak2ROBoI9UQAjO5n82Ol9AduFcP2byZEDoW8Y+sUdqQFzWLz78nG9AZqjMniN5ckCgZYEeySN1QNoiNp5uzndAFODqHRR5ekBMnZ+duSN9QIRaVB1fzn9A34uEToI8gUB86l4O1ZGCQBhJOc4n54NAtacTjno8hUBSBu5NzZGGQO9kyA0g54dAisOizXI8iUAoIn2NxZGKQMSAV00Y54tAYN8xDWs8jUD+PQzNvZGOQJqc5owQ549AnH1gpjGekEDprE0G20iRQDjcOmaE85FAhgsoxi2ekkDUOhUm10iTQCNqAoaA85NAcZnv5SmelEC\\u002fyNxF00iVQA74yaV885VAXCe3BSaelkCqVqRlz0iXQPmFkcV485dAR7V+JSKemECV5GuFy0iZQOQTWeV085lAMkNGRR6emkCBcjOlx0ibQM+hIAVx85tAHNENZRqenEBsAPvEw0idQLov6CRt851ACF\\u002fVhBaenkBWjsLkv0ifQKS9r0Rp859AeXZOUglPoEAhDkUCXqSgQMilO7Ky+aBAbj0yYgdPoUAW1SgSXKShQL1sH8Kw+aFAZQQWcgVPokALnAwiWqSiQLIzA9Ku+aJAWsv5gQNPo0ABY\\u002fAxWKSjQKj65uGs+aNAT5LdkQFPpED2KdRBVqSkQJ3ByvGq+aRARVnBof9OpUDs8LdRVKSlQJOIrgGp+aVAOiClsf1OpkDit5thUqSmQIhPkhGn+aZAMOeIwftOp0DXfn9xUKSnQH0WdiGl+adAJa5s0flOqEDNRWOBTqSoQHPdWTGj+ahAGnVQ4fdOqUDCDEeRTKSpQGikPUGh+alAEDw08fVOqkC30yqhSqSqQF5rIVGf+apABQMYAfROq0Ctmg6xSKSrQFMyBWGd+atA+8n7EPJOrECiYfLARqSsQEr56HCb+axA8JDfIPBOrUCYKNbQRKStQD\\u002fAzICZ+a1A5VfDMO5OrkCN77ngQqSuQDWHsJCX+a5A2x6nQOxOr0A=\"},\"yaxis\":\"y\",\"type\":\"scatter\"}],                        {\"template\":{\"data\":{\"barpolar\":[{\"marker\":{\"line\":{\"color\":\"white\",\"width\":0.5},\"pattern\":{\"fillmode\":\"overlay\",\"size\":10,\"solidity\":0.2}},\"type\":\"barpolar\"}],\"bar\":[{\"error_x\":{\"color\":\"rgb(36,36,36)\"},\"error_y\":{\"color\":\"rgb(36,36,36)\"},\"marker\":{\"line\":{\"color\":\"white\",\"width\":0.5},\"pattern\":{\"fillmode\":\"overlay\",\"size\":10,\"solidity\":0.2}},\"type\":\"bar\"}],\"carpet\":[{\"aaxis\":{\"endlinecolor\":\"rgb(36,36,36)\",\"gridcolor\":\"white\",\"linecolor\":\"white\",\"minorgridcolor\":\"white\",\"startlinecolor\":\"rgb(36,36,36)\"},\"baxis\":{\"endlinecolor\":\"rgb(36,36,36)\",\"gridcolor\":\"white\",\"linecolor\":\"white\",\"minorgridcolor\":\"white\",\"startlinecolor\":\"rgb(36,36,36)\"},\"type\":\"carpet\"}],\"choropleth\":[{\"colorbar\":{\"outlinewidth\":1,\"tickcolor\":\"rgb(36,36,36)\",\"ticks\":\"outside\"},\"type\":\"choropleth\"}],\"contourcarpet\":[{\"colorbar\":{\"outlinewidth\":1,\"tickcolor\":\"rgb(36,36,36)\",\"ticks\":\"outside\"},\"type\":\"contourcarpet\"}],\"contour\":[{\"colorbar\":{\"outlinewidth\":1,\"tickcolor\":\"rgb(36,36,36)\",\"ticks\":\"outside\"},\"colorscale\":[[0.0,\"#440154\"],[0.1111111111111111,\"#482878\"],[0.2222222222222222,\"#3e4989\"],[0.3333333333333333,\"#31688e\"],[0.4444444444444444,\"#26828e\"],[0.5555555555555556,\"#1f9e89\"],[0.6666666666666666,\"#35b779\"],[0.7777777777777778,\"#6ece58\"],[0.8888888888888888,\"#b5de2b\"],[1.0,\"#fde725\"]],\"type\":\"contour\"}],\"heatmap\":[{\"colorbar\":{\"outlinewidth\":1,\"tickcolor\":\"rgb(36,36,36)\",\"ticks\":\"outside\"},\"colorscale\":[[0.0,\"#440154\"],[0.1111111111111111,\"#482878\"],[0.2222222222222222,\"#3e4989\"],[0.3333333333333333,\"#31688e\"],[0.4444444444444444,\"#26828e\"],[0.5555555555555556,\"#1f9e89\"],[0.6666666666666666,\"#35b779\"],[0.7777777777777778,\"#6ece58\"],[0.8888888888888888,\"#b5de2b\"],[1.0,\"#fde725\"]],\"type\":\"heatmap\"}],\"histogram2dcontour\":[{\"colorbar\":{\"outlinewidth\":1,\"tickcolor\":\"rgb(36,36,36)\",\"ticks\":\"outside\"},\"colorscale\":[[0.0,\"#440154\"],[0.1111111111111111,\"#482878\"],[0.2222222222222222,\"#3e4989\"],[0.3333333333333333,\"#31688e\"],[0.4444444444444444,\"#26828e\"],[0.5555555555555556,\"#1f9e89\"],[0.6666666666666666,\"#35b779\"],[0.7777777777777778,\"#6ece58\"],[0.8888888888888888,\"#b5de2b\"],[1.0,\"#fde725\"]],\"type\":\"histogram2dcontour\"}],\"histogram2d\":[{\"colorbar\":{\"outlinewidth\":1,\"tickcolor\":\"rgb(36,36,36)\",\"ticks\":\"outside\"},\"colorscale\":[[0.0,\"#440154\"],[0.1111111111111111,\"#482878\"],[0.2222222222222222,\"#3e4989\"],[0.3333333333333333,\"#31688e\"],[0.4444444444444444,\"#26828e\"],[0.5555555555555556,\"#1f9e89\"],[0.6666666666666666,\"#35b779\"],[0.7777777777777778,\"#6ece58\"],[0.8888888888888888,\"#b5de2b\"],[1.0,\"#fde725\"]],\"type\":\"histogram2d\"}],\"histogram\":[{\"marker\":{\"line\":{\"color\":\"white\",\"width\":0.6}},\"type\":\"histogram\"}],\"mesh3d\":[{\"colorbar\":{\"outlinewidth\":1,\"tickcolor\":\"rgb(36,36,36)\",\"ticks\":\"outside\"},\"type\":\"mesh3d\"}],\"parcoords\":[{\"line\":{\"colorbar\":{\"outlinewidth\":1,\"tickcolor\":\"rgb(36,36,36)\",\"ticks\":\"outside\"}},\"type\":\"parcoords\"}],\"pie\":[{\"automargin\":true,\"type\":\"pie\"}],\"scatter3d\":[{\"line\":{\"colorbar\":{\"outlinewidth\":1,\"tickcolor\":\"rgb(36,36,36)\",\"ticks\":\"outside\"}},\"marker\":{\"colorbar\":{\"outlinewidth\":1,\"tickcolor\":\"rgb(36,36,36)\",\"ticks\":\"outside\"}},\"type\":\"scatter3d\"}],\"scattercarpet\":[{\"marker\":{\"colorbar\":{\"outlinewidth\":1,\"tickcolor\":\"rgb(36,36,36)\",\"ticks\":\"outside\"}},\"type\":\"scattercarpet\"}],\"scattergeo\":[{\"marker\":{\"colorbar\":{\"outlinewidth\":1,\"tickcolor\":\"rgb(36,36,36)\",\"ticks\":\"outside\"}},\"type\":\"scattergeo\"}],\"scattergl\":[{\"marker\":{\"colorbar\":{\"outlinewidth\":1,\"tickcolor\":\"rgb(36,36,36)\",\"ticks\":\"outside\"}},\"type\":\"scattergl\"}],\"scattermapbox\":[{\"marker\":{\"colorbar\":{\"outlinewidth\":1,\"tickcolor\":\"rgb(36,36,36)\",\"ticks\":\"outside\"}},\"type\":\"scattermapbox\"}],\"scattermap\":[{\"marker\":{\"colorbar\":{\"outlinewidth\":1,\"tickcolor\":\"rgb(36,36,36)\",\"ticks\":\"outside\"}},\"type\":\"scattermap\"}],\"scatterpolargl\":[{\"marker\":{\"colorbar\":{\"outlinewidth\":1,\"tickcolor\":\"rgb(36,36,36)\",\"ticks\":\"outside\"}},\"type\":\"scatterpolargl\"}],\"scatterpolar\":[{\"marker\":{\"colorbar\":{\"outlinewidth\":1,\"tickcolor\":\"rgb(36,36,36)\",\"ticks\":\"outside\"}},\"type\":\"scatterpolar\"}],\"scatter\":[{\"fillpattern\":{\"fillmode\":\"overlay\",\"size\":10,\"solidity\":0.2},\"type\":\"scatter\"}],\"scatterternary\":[{\"marker\":{\"colorbar\":{\"outlinewidth\":1,\"tickcolor\":\"rgb(36,36,36)\",\"ticks\":\"outside\"}},\"type\":\"scatterternary\"}],\"surface\":[{\"colorbar\":{\"outlinewidth\":1,\"tickcolor\":\"rgb(36,36,36)\",\"ticks\":\"outside\"},\"colorscale\":[[0.0,\"#440154\"],[0.1111111111111111,\"#482878\"],[0.2222222222222222,\"#3e4989\"],[0.3333333333333333,\"#31688e\"],[0.4444444444444444,\"#26828e\"],[0.5555555555555556,\"#1f9e89\"],[0.6666666666666666,\"#35b779\"],[0.7777777777777778,\"#6ece58\"],[0.8888888888888888,\"#b5de2b\"],[1.0,\"#fde725\"]],\"type\":\"surface\"}],\"table\":[{\"cells\":{\"fill\":{\"color\":\"rgb(237,237,237)\"},\"line\":{\"color\":\"white\"}},\"header\":{\"fill\":{\"color\":\"rgb(217,217,217)\"},\"line\":{\"color\":\"white\"}},\"type\":\"table\"}]},\"layout\":{\"annotationdefaults\":{\"arrowhead\":0,\"arrowwidth\":1},\"autotypenumbers\":\"strict\",\"coloraxis\":{\"colorbar\":{\"outlinewidth\":1,\"tickcolor\":\"rgb(36,36,36)\",\"ticks\":\"outside\"}},\"colorscale\":{\"diverging\":[[0.0,\"rgb(103,0,31)\"],[0.1,\"rgb(178,24,43)\"],[0.2,\"rgb(214,96,77)\"],[0.3,\"rgb(244,165,130)\"],[0.4,\"rgb(253,219,199)\"],[0.5,\"rgb(247,247,247)\"],[0.6,\"rgb(209,229,240)\"],[0.7,\"rgb(146,197,222)\"],[0.8,\"rgb(67,147,195)\"],[0.9,\"rgb(33,102,172)\"],[1.0,\"rgb(5,48,97)\"]],\"sequential\":[[0.0,\"#440154\"],[0.1111111111111111,\"#482878\"],[0.2222222222222222,\"#3e4989\"],[0.3333333333333333,\"#31688e\"],[0.4444444444444444,\"#26828e\"],[0.5555555555555556,\"#1f9e89\"],[0.6666666666666666,\"#35b779\"],[0.7777777777777778,\"#6ece58\"],[0.8888888888888888,\"#b5de2b\"],[1.0,\"#fde725\"]],\"sequentialminus\":[[0.0,\"#440154\"],[0.1111111111111111,\"#482878\"],[0.2222222222222222,\"#3e4989\"],[0.3333333333333333,\"#31688e\"],[0.4444444444444444,\"#26828e\"],[0.5555555555555556,\"#1f9e89\"],[0.6666666666666666,\"#35b779\"],[0.7777777777777778,\"#6ece58\"],[0.8888888888888888,\"#b5de2b\"],[1.0,\"#fde725\"]]},\"colorway\":[\"#91268F\",\"#8CC63E\",\"#00A7A0\",\"#F05A28\",\"#4C4C4C\",\"#630460\",\"#9f3913\",\"#588527\",\"#00716c\",\"#3e4040\"],\"font\":{\"color\":\"rgb(36,36,36)\",\"family\":\"Poppins\",\"size\":11},\"geo\":{\"bgcolor\":\"white\",\"lakecolor\":\"white\",\"landcolor\":\"white\",\"showlakes\":true,\"showland\":true,\"subunitcolor\":\"white\"},\"hoverlabel\":{\"align\":\"left\"},\"hovermode\":\"closest\",\"mapbox\":{\"style\":\"light\"},\"paper_bgcolor\":\"white\",\"plot_bgcolor\":\"white\",\"polar\":{\"angularaxis\":{\"gridcolor\":\"rgb(232,232,232)\",\"linecolor\":\"rgb(36,36,36)\",\"showgrid\":false,\"showline\":true,\"ticks\":\"outside\"},\"bgcolor\":\"white\",\"radialaxis\":{\"gridcolor\":\"rgb(232,232,232)\",\"linecolor\":\"rgb(36,36,36)\",\"showgrid\":false,\"showline\":true,\"ticks\":\"outside\"}},\"scene\":{\"xaxis\":{\"backgroundcolor\":\"white\",\"gridcolor\":\"rgb(232,232,232)\",\"gridwidth\":2,\"linecolor\":\"rgb(36,36,36)\",\"showbackground\":true,\"showgrid\":false,\"showline\":true,\"ticks\":\"outside\",\"zeroline\":false,\"zerolinecolor\":\"rgb(36,36,36)\"},\"yaxis\":{\"backgroundcolor\":\"white\",\"gridcolor\":\"rgb(232,232,232)\",\"gridwidth\":2,\"linecolor\":\"rgb(36,36,36)\",\"showbackground\":true,\"showgrid\":false,\"showline\":true,\"ticks\":\"outside\",\"zeroline\":false,\"zerolinecolor\":\"rgb(36,36,36)\"},\"zaxis\":{\"backgroundcolor\":\"white\",\"gridcolor\":\"rgb(232,232,232)\",\"gridwidth\":2,\"linecolor\":\"rgb(36,36,36)\",\"showbackground\":true,\"showgrid\":false,\"showline\":true,\"ticks\":\"outside\",\"zeroline\":false,\"zerolinecolor\":\"rgb(36,36,36)\"}},\"shapedefaults\":{\"fillcolor\":\"black\",\"line\":{\"width\":0},\"opacity\":0.3},\"ternary\":{\"aaxis\":{\"gridcolor\":\"rgb(232,232,232)\",\"linecolor\":\"rgb(36,36,36)\",\"showgrid\":false,\"showline\":true,\"ticks\":\"outside\"},\"baxis\":{\"gridcolor\":\"rgb(232,232,232)\",\"linecolor\":\"rgb(36,36,36)\",\"showgrid\":false,\"showline\":true,\"ticks\":\"outside\"},\"bgcolor\":\"white\",\"caxis\":{\"gridcolor\":\"rgb(232,232,232)\",\"linecolor\":\"rgb(36,36,36)\",\"showgrid\":false,\"showline\":true,\"ticks\":\"outside\"}},\"title\":{\"x\":0.05},\"xaxis\":{\"automargin\":true,\"gridcolor\":\"rgb(232,232,232)\",\"linecolor\":\"rgb(36,36,36)\",\"showgrid\":false,\"showline\":true,\"ticks\":\"outside\",\"title\":{\"standoff\":15},\"zeroline\":false,\"zerolinecolor\":\"rgb(36,36,36)\"},\"yaxis\":{\"automargin\":true,\"gridcolor\":\"rgb(232,232,232)\",\"linecolor\":\"rgb(36,36,36)\",\"showgrid\":false,\"showline\":true,\"ticks\":\"outside\",\"title\":{\"standoff\":15},\"zeroline\":false,\"zerolinecolor\":\"rgb(36,36,36)\"}}},\"xaxis\":{\"anchor\":\"y\",\"domain\":[0.0,1.0],\"title\":{\"text\":\"Observed\"}},\"yaxis\":{\"anchor\":\"x\",\"domain\":[0.0,1.0],\"title\":{\"text\":\"Model\"}},\"legend\":{\"tracegroupgap\":0},\"title\":{\"text\":\"Medium Trucks: Snohomish\"},\"margin\":{\"l\":100,\"r\":100,\"t\":100,\"b\":100},\"height\":600,\"width\":800,\"shapes\":[{\"line\":{\"color\":\"Red\",\"dash\":\"dash\",\"width\":2},\"type\":\"line\",\"x0\":0,\"x1\":5375,\"y0\":0,\"y1\":5375}],\"annotations\":[{\"align\":\"right\",\"font\":{\"color\":\"pink\",\"size\":12},\"showarrow\":false,\"text\":\"y = x\",\"x\":5643.75,\"y\":5643.75},{\"align\":\"right\",\"font\":{\"color\":\"black\",\"size\":12},\"showarrow\":false,\"text\":\"r^2 = 0.59\",\"x\":3032.4,\"y\":4207.834502299922}]},                        {\"responsive\": true}                    ).then(function(){\n",
       "                            \n",
       "var gd = document.getElementById('d57ee28a-cc19-406a-aae6-498e62410dd3');\n",
       "var x = new MutationObserver(function (mutations, observer) {{\n",
       "        var display = window.getComputedStyle(gd).display;\n",
       "        if (!display || display === 'none') {{\n",
       "            console.log([gd, 'removed!']);\n",
       "            Plotly.purge(gd);\n",
       "            observer.disconnect();\n",
       "        }}\n",
       "}});\n",
       "\n",
       "// Listen for the removal of the full notebook cells\n",
       "var notebookContainer = gd.closest('#notebook-container');\n",
       "if (notebookContainer) {{\n",
       "    x.observe(notebookContainer, {childList: true});\n",
       "}}\n",
       "\n",
       "// Listen for the clearing of the current output cell\n",
       "var outputEl = gd.closest('.output');\n",
       "if (outputEl) {{\n",
       "    x.observe(outputEl, {childList: true});\n",
       "}}\n",
       "\n",
       "                        })                };            </script>        </div>"
      ]
     },
     "metadata": {},
     "output_type": "display_data"
    }
   ],
   "source": [
    "fig = create_truck_chart(df_daily_med, 'Medium', 'Snohomish')\n",
    "fig.show()"
   ]
  },
  {
   "cell_type": "raw",
   "id": "2e93c7ef",
   "metadata": {},
   "source": [
    ":::"
   ]
  }
 ],
 "metadata": {
  "kernelspec": {
   "display_name": "summary",
   "language": "python",
   "name": "python3"
  },
  "language_info": {
   "codemirror_mode": {
    "name": "ipython",
    "version": 3
   },
   "file_extension": ".py",
   "mimetype": "text/x-python",
   "name": "python",
   "nbconvert_exporter": "python",
   "pygments_lexer": "ipython3",
   "version": "3.11.12"
  }
 },
 "nbformat": 4,
 "nbformat_minor": 5
}
