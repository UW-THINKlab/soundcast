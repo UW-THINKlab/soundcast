{
 "cells": [
  {
   "cell_type": "raw",
   "id": "35d0934ac2ce2456",
   "metadata": {},
   "source": [
    "---\n",
    "title: \"Traffic Summary\"\n",
    "date: today\n",
    "---"
   ]
  },
  {
   "cell_type": "code",
   "execution_count": 1,
   "id": "3c1a81e12086b602",
   "metadata": {
    "ExecuteTime": {
     "end_time": "2024-06-24T21:13:24.907193Z",
     "start_time": "2024-06-24T21:13:21.750667Z"
    },
    "execution": {
     "iopub.execute_input": "2024-06-24T21:55:40.573343Z",
     "iopub.status.busy": "2024-06-24T21:55:40.573343Z",
     "iopub.status.idle": "2024-06-24T21:55:44.494756Z",
     "shell.execute_reply": "2024-06-24T21:55:44.494756Z"
    }
   },
   "outputs": [],
   "source": [
    "import os\n",
    "import pandas as pd\n",
    "import numpy as np\n",
    "import h5py\n",
    "from sqlalchemy import create_engine\n",
    "from scipy import stats\n",
    "import plotly.express as px\n",
    "import toml\n",
    "import psrc_theme\n",
    "\n",
    "%matplotlib inline\n",
    "from IPython.display import display, HTML\n",
    "\n",
    "# to show plotly figures in quarto HTML file\n",
    "import plotly.io as pio\n",
    "pio.renderers.default = \"plotly_mimetype+notebook_connected\"\n",
    "pio.templates.default = \"simple_white+psrc_color\" # set plotly template\n",
    "\n",
    "input_config = toml.load(os.path.join(os.getcwd(), '..\\\\..\\\\..\\\\..\\\\configuration', 'input_configuration.toml'))\n",
    "valid_config = toml.load(os.path.join(os.getcwd(), '..\\\\..\\\\..\\\\..\\\\configuration', 'validation_configuration.toml'))\n",
    "emme_config = toml.load(os.path.join(os.getcwd(), '..\\\\..\\\\..\\\\..\\\\configuration','emme_configuration.toml'))\n",
    "network_config = toml.load(os.path.join(os.getcwd(), '..\\\\..\\\\..\\\\..\\\\configuration','network_configuration.toml'))\n",
    "\n",
    "# create connection\n",
    "conn = create_engine('sqlite:///../../../../inputs/db/'+input_config['db_name'])\n",
    "\n",
    "# summary data location\n",
    "csv_path = os.path.join(valid_config['model_dir'], 'outputs/validation')\n",
    "\n",
    "# table format\n",
    "pd.options.display.float_format = '{:0,.0f}'.format\n",
    "format_percent = \"{:,.1%}\".format"
   ]
  },
  {
   "cell_type": "markdown",
   "id": "fa9bc0cb",
   "metadata": {},
   "source": [
    "## VMT"
   ]
  },
  {
   "cell_type": "raw",
   "id": "b1e21be6",
   "metadata": {},
   "source": [
    ":::{.panel-tabset}\n",
    "### VMT\n",
    "VMT for model links, including some externals that cross outside region"
   ]
  },
  {
   "cell_type": "code",
   "execution_count": 2,
   "id": "75471d8c",
   "metadata": {},
   "outputs": [
    {
     "data": {
      "text/html": [
       "<div>\n",
       "<style scoped>\n",
       "    .dataframe tbody tr th:only-of-type {\n",
       "        vertical-align: middle;\n",
       "    }\n",
       "\n",
       "    .dataframe tbody tr th {\n",
       "        vertical-align: top;\n",
       "    }\n",
       "\n",
       "    .dataframe thead th {\n",
       "        text-align: right;\n",
       "    }\n",
       "</style>\n",
       "<table border=\"1\" class=\"dataframe\">\n",
       "  <thead>\n",
       "    <tr style=\"text-align: right;\">\n",
       "      <th></th>\n",
       "      <th>VMT</th>\n",
       "      <th>VHT</th>\n",
       "      <th>delay</th>\n",
       "    </tr>\n",
       "    <tr>\n",
       "      <th>county_name</th>\n",
       "      <th></th>\n",
       "      <th></th>\n",
       "      <th></th>\n",
       "    </tr>\n",
       "  </thead>\n",
       "  <tbody>\n",
       "    <tr>\n",
       "      <th>King</th>\n",
       "      <td>43,388,501</td>\n",
       "      <td>1,374,624</td>\n",
       "      <td>171,796</td>\n",
       "    </tr>\n",
       "    <tr>\n",
       "      <th>Kitsap</th>\n",
       "      <td>4,264,333</td>\n",
       "      <td>122,982</td>\n",
       "      <td>2,651</td>\n",
       "    </tr>\n",
       "    <tr>\n",
       "      <th>Outside Region</th>\n",
       "      <td>334,327</td>\n",
       "      <td>6,410</td>\n",
       "      <td>4</td>\n",
       "    </tr>\n",
       "    <tr>\n",
       "      <th>Pierce</th>\n",
       "      <td>18,669,674</td>\n",
       "      <td>566,253</td>\n",
       "      <td>48,735</td>\n",
       "    </tr>\n",
       "    <tr>\n",
       "      <th>Snohomish</th>\n",
       "      <td>16,520,513</td>\n",
       "      <td>493,862</td>\n",
       "      <td>44,037</td>\n",
       "    </tr>\n",
       "    <tr>\n",
       "      <th>Total</th>\n",
       "      <td>83,177,348</td>\n",
       "      <td>2,564,131</td>\n",
       "      <td>267,223</td>\n",
       "    </tr>\n",
       "  </tbody>\n",
       "</table>\n",
       "</div>"
      ],
      "text/plain": [
       "                      VMT       VHT   delay\n",
       "county_name                                \n",
       "King           43,388,501 1,374,624 171,796\n",
       "Kitsap          4,264,333   122,982   2,651\n",
       "Outside Region    334,327     6,410       4\n",
       "Pierce         18,669,674   566,253  48,735\n",
       "Snohomish      16,520,513   493,862  44,037\n",
       "Total          83,177,348 2,564,131 267,223"
      ]
     },
     "execution_count": 2,
     "metadata": {},
     "output_type": "execute_result"
    }
   ],
   "source": [
    "df = pd.read_csv(os.path.join(valid_config['model_dir'], r'outputs/network/county_network.csv'))\n",
    "df.index = df.county_name\n",
    "df.loc['Total',:] = df.sum().values\n",
    "df = df[['VMT','VHT','delay']]\n",
    "df"
   ]
  },
  {
   "cell_type": "raw",
   "id": "3354f05c",
   "metadata": {},
   "source": [
    "Model VMT versus county-level HPMS data"
   ]
  },
  {
   "cell_type": "code",
   "execution_count": 3,
   "id": "f0081206",
   "metadata": {},
   "outputs": [
    {
     "data": {
      "text/html": [
       "<div>\n",
       "<style scoped>\n",
       "    .dataframe tbody tr th:only-of-type {\n",
       "        vertical-align: middle;\n",
       "    }\n",
       "\n",
       "    .dataframe tbody tr th {\n",
       "        vertical-align: top;\n",
       "    }\n",
       "\n",
       "    .dataframe thead th {\n",
       "        text-align: right;\n",
       "    }\n",
       "</style>\n",
       "<table border=\"1\" class=\"dataframe\">\n",
       "  <thead>\n",
       "    <tr style=\"text-align: right;\">\n",
       "      <th></th>\n",
       "      <th>model</th>\n",
       "      <th>observed</th>\n",
       "      <th>% diff</th>\n",
       "    </tr>\n",
       "    <tr>\n",
       "      <th>county</th>\n",
       "      <th></th>\n",
       "      <th></th>\n",
       "      <th></th>\n",
       "    </tr>\n",
       "  </thead>\n",
       "  <tbody>\n",
       "    <tr>\n",
       "      <th>King</th>\n",
       "      <td>43,388,501</td>\n",
       "      <td>43,820,112</td>\n",
       "      <td>-1.0%</td>\n",
       "    </tr>\n",
       "    <tr>\n",
       "      <th>Kitsap</th>\n",
       "      <td>4,264,333</td>\n",
       "      <td>4,840,030</td>\n",
       "      <td>-11.9%</td>\n",
       "    </tr>\n",
       "    <tr>\n",
       "      <th>Pierce</th>\n",
       "      <td>18,669,674</td>\n",
       "      <td>17,994,803</td>\n",
       "      <td>3.8%</td>\n",
       "    </tr>\n",
       "    <tr>\n",
       "      <th>Snohomish</th>\n",
       "      <td>16,520,513</td>\n",
       "      <td>15,825,794</td>\n",
       "      <td>4.4%</td>\n",
       "    </tr>\n",
       "    <tr>\n",
       "      <th>Total</th>\n",
       "      <td>82,843,022</td>\n",
       "      <td>82,480,739</td>\n",
       "      <td>0.4%</td>\n",
       "    </tr>\n",
       "  </tbody>\n",
       "</table>\n",
       "</div>"
      ],
      "text/plain": [
       "               model   observed  % diff\n",
       "county                                 \n",
       "King      43,388,501 43,820,112   -1.0%\n",
       "Kitsap     4,264,333  4,840,030  -11.9%\n",
       "Pierce    18,669,674 17,994,803    3.8%\n",
       "Snohomish 16,520,513 15,825,794    4.4%\n",
       "Total     82,843,022 82,480,739    0.4%"
      ]
     },
     "execution_count": 3,
     "metadata": {},
     "output_type": "execute_result"
    }
   ],
   "source": [
    "df = pd.read_csv(os.path.join(valid_config['model_dir'], r'outputs/network/county_network.csv'))\n",
    "\n",
    "df_obs = pd.read_sql(\"SELECT * FROM observed_vmt WHERE year=\"+str(input_config['base_year']), con=conn)\n",
    "df_obs.rename(columns={'vmt': 'observed'}, inplace=True)\n",
    "\n",
    "df = df[['county_name','VMT']].merge(df_obs, left_on='county_name', right_on='county')\n",
    "df.rename(columns={'VMT': 'model'}, inplace=True)\n",
    "df.index = df['county']\n",
    "df[['observed','model']] = df[['observed','model']].astype('float')\n",
    "\n",
    "df.loc['Total',:] = df.sum().values\n",
    "\n",
    "df['% diff'] = (df['model']-df['observed'])/df['observed']\n",
    "df[['% diff']] = df[['% diff']].applymap(format_percent)\n",
    "df[['model','observed','% diff']]"
   ]
  },
  {
   "cell_type": "raw",
   "id": "12e1740a",
   "metadata": {},
   "source": [
    ":::"
   ]
  },
  {
   "cell_type": "markdown",
   "id": "916da9b1c4cbd6da",
   "metadata": {},
   "source": [
    "## Daily Traffic Counts"
   ]
  },
  {
   "cell_type": "raw",
   "id": "9ab84874b18330bc",
   "metadata": {},
   "source": [
    ":::{.panel-tabset}\n",
    "### traffic by facility type"
   ]
  },
  {
   "cell_type": "code",
   "execution_count": 4,
   "id": "3d0602498872d993",
   "metadata": {
    "ExecuteTime": {
     "end_time": "2024-06-24T21:13:27.250795Z",
     "start_time": "2024-06-24T21:13:26.984996Z"
    },
    "execution": {
     "iopub.execute_input": "2024-06-24T21:55:44.494756Z",
     "iopub.status.busy": "2024-06-24T21:55:44.494756Z",
     "iopub.status.idle": "2024-06-24T21:55:44.713484Z",
     "shell.execute_reply": "2024-06-24T21:55:44.713484Z"
    }
   },
   "outputs": [
    {
     "data": {
      "text/html": [
       "<div>\n",
       "<style scoped>\n",
       "    .dataframe tbody tr th:only-of-type {\n",
       "        vertical-align: middle;\n",
       "    }\n",
       "\n",
       "    .dataframe tbody tr th {\n",
       "        vertical-align: top;\n",
       "    }\n",
       "\n",
       "    .dataframe thead th {\n",
       "        text-align: right;\n",
       "    }\n",
       "</style>\n",
       "<table border=\"1\" class=\"dataframe\">\n",
       "  <thead>\n",
       "    <tr style=\"text-align: right;\">\n",
       "      <th></th>\n",
       "      <th>observed</th>\n",
       "      <th>modeled</th>\n",
       "      <th>diff</th>\n",
       "      <th>percent_diff</th>\n",
       "    </tr>\n",
       "    <tr>\n",
       "      <th>@facilitytype</th>\n",
       "      <th></th>\n",
       "      <th></th>\n",
       "      <th></th>\n",
       "      <th></th>\n",
       "    </tr>\n",
       "  </thead>\n",
       "  <tbody>\n",
       "    <tr>\n",
       "      <th>Arterial</th>\n",
       "      <td>13,060,004</td>\n",
       "      <td>13,640,025</td>\n",
       "      <td>580,021</td>\n",
       "      <td>4.4%</td>\n",
       "    </tr>\n",
       "    <tr>\n",
       "      <th>Collector</th>\n",
       "      <td>72,096</td>\n",
       "      <td>86,383</td>\n",
       "      <td>14,287</td>\n",
       "      <td>19.8%</td>\n",
       "    </tr>\n",
       "    <tr>\n",
       "      <th>Freeway</th>\n",
       "      <td>46,455,221</td>\n",
       "      <td>44,470,094</td>\n",
       "      <td>-1,985,127</td>\n",
       "      <td>-4.3%</td>\n",
       "    </tr>\n",
       "    <tr>\n",
       "      <th>HOV</th>\n",
       "      <td>246,053</td>\n",
       "      <td>269,348</td>\n",
       "      <td>23,295</td>\n",
       "      <td>9.5%</td>\n",
       "    </tr>\n",
       "    <tr>\n",
       "      <th>Ramp</th>\n",
       "      <td>334,132</td>\n",
       "      <td>251,017</td>\n",
       "      <td>-83,115</td>\n",
       "      <td>-24.9%</td>\n",
       "    </tr>\n",
       "    <tr>\n",
       "      <th>Total</th>\n",
       "      <td>60,167,506</td>\n",
       "      <td>58,716,867</td>\n",
       "      <td>-1,450,639</td>\n",
       "      <td>-2.4%</td>\n",
       "    </tr>\n",
       "  </tbody>\n",
       "</table>\n",
       "</div>"
      ],
      "text/plain": [
       "                observed    modeled       diff percent_diff\n",
       "@facilitytype                                              \n",
       "Arterial      13,060,004 13,640,025    580,021         4.4%\n",
       "Collector         72,096     86,383     14,287        19.8%\n",
       "Freeway       46,455,221 44,470,094 -1,985,127        -4.3%\n",
       "HOV              246,053    269,348     23,295         9.5%\n",
       "Ramp             334,132    251,017    -83,115       -24.9%\n",
       "Total         60,167,506 58,716,867 -1,450,639        -2.4%"
      ]
     },
     "execution_count": 4,
     "metadata": {},
     "output_type": "execute_result"
    }
   ],
   "source": [
    "df = pd.read_csv(os.path.join(csv_path, 'daily_volume.csv'))\n",
    "df[['modeled', 'observed']] = df[['modeled', 'observed']].astype('float')\n",
    "_df = df.groupby('@facilitytype').sum()[['observed', 'modeled']]\n",
    "_df.loc['Total', :] = _df.sum().values\n",
    "_df['diff'] = _df['modeled'] - _df['observed']\n",
    "_df['percent_diff'] = _df['diff'] / _df['observed']\n",
    "_df[['percent_diff']] = _df[['percent_diff']].applymap(format_percent)\n",
    "_df"
   ]
  },
  {
   "cell_type": "raw",
   "id": "318ed515b29396d1",
   "metadata": {},
   "source": [
    "### traffic by county"
   ]
  },
  {
   "cell_type": "code",
   "execution_count": 5,
   "id": "a9e08108f2b1ff34",
   "metadata": {
    "ExecuteTime": {
     "end_time": "2024-06-24T21:14:07.016217Z",
     "start_time": "2024-06-24T21:14:06.922235Z"
    },
    "execution": {
     "iopub.execute_input": "2024-06-24T21:55:44.713484Z",
     "iopub.status.busy": "2024-06-24T21:55:44.713484Z",
     "iopub.status.idle": "2024-06-24T21:55:44.776571Z",
     "shell.execute_reply": "2024-06-24T21:55:44.776571Z"
    }
   },
   "outputs": [
    {
     "data": {
      "text/html": [
       "<div>\n",
       "<style scoped>\n",
       "    .dataframe tbody tr th:only-of-type {\n",
       "        vertical-align: middle;\n",
       "    }\n",
       "\n",
       "    .dataframe tbody tr th {\n",
       "        vertical-align: top;\n",
       "    }\n",
       "\n",
       "    .dataframe thead th {\n",
       "        text-align: right;\n",
       "    }\n",
       "</style>\n",
       "<table border=\"1\" class=\"dataframe\">\n",
       "  <thead>\n",
       "    <tr style=\"text-align: right;\">\n",
       "      <th></th>\n",
       "      <th>observed</th>\n",
       "      <th>modeled</th>\n",
       "      <th>diff</th>\n",
       "      <th>percent_diff</th>\n",
       "    </tr>\n",
       "    <tr>\n",
       "      <th>county</th>\n",
       "      <th></th>\n",
       "      <th></th>\n",
       "      <th></th>\n",
       "      <th></th>\n",
       "    </tr>\n",
       "  </thead>\n",
       "  <tbody>\n",
       "    <tr>\n",
       "      <th>King</th>\n",
       "      <td>32,134,146</td>\n",
       "      <td>31,971,386</td>\n",
       "      <td>-162,760</td>\n",
       "      <td>-0.5%</td>\n",
       "    </tr>\n",
       "    <tr>\n",
       "      <th>Kitsap</th>\n",
       "      <td>3,636,120</td>\n",
       "      <td>2,834,544</td>\n",
       "      <td>-801,576</td>\n",
       "      <td>-22.0%</td>\n",
       "    </tr>\n",
       "    <tr>\n",
       "      <th>Pierce</th>\n",
       "      <td>12,521,558</td>\n",
       "      <td>12,560,058</td>\n",
       "      <td>38,500</td>\n",
       "      <td>0.3%</td>\n",
       "    </tr>\n",
       "    <tr>\n",
       "      <th>Snohomish</th>\n",
       "      <td>11,875,682</td>\n",
       "      <td>11,350,879</td>\n",
       "      <td>-524,803</td>\n",
       "      <td>-4.4%</td>\n",
       "    </tr>\n",
       "    <tr>\n",
       "      <th>Total</th>\n",
       "      <td>60,167,506</td>\n",
       "      <td>58,716,867</td>\n",
       "      <td>-1,450,639</td>\n",
       "      <td>-2.4%</td>\n",
       "    </tr>\n",
       "  </tbody>\n",
       "</table>\n",
       "</div>"
      ],
      "text/plain": [
       "            observed    modeled       diff percent_diff\n",
       "county                                                 \n",
       "King      32,134,146 31,971,386   -162,760        -0.5%\n",
       "Kitsap     3,636,120  2,834,544   -801,576       -22.0%\n",
       "Pierce    12,521,558 12,560,058     38,500         0.3%\n",
       "Snohomish 11,875,682 11,350,879   -524,803        -4.4%\n",
       "Total     60,167,506 58,716,867 -1,450,639        -2.4%"
      ]
     },
     "execution_count": 5,
     "metadata": {},
     "output_type": "execute_result"
    }
   ],
   "source": [
    "df = pd.read_csv(os.path.join(csv_path,'daily_volume_county_facility.csv'))\n",
    "df[['modeled','observed']] = df[['modeled','observed']].astype('float')\n",
    "\n",
    "_df = df.groupby('county').sum()[['observed','modeled']]\n",
    "_df.loc['Total',:] = _df.sum().values\n",
    "_df['diff'] = _df['modeled']-_df['observed']\n",
    "_df['percent_diff'] = _df['diff']/_df['observed']\n",
    "_df[['percent_diff']] = _df[['percent_diff']].applymap(format_percent)\n",
    "_df"
   ]
  },
  {
   "cell_type": "raw",
   "id": "4cbb7796cba1fac",
   "metadata": {},
   "source": [
    ":::"
   ]
  },
  {
   "cell_type": "markdown",
   "id": "1ed4a57b3001060f",
   "metadata": {},
   "source": [
    "## Daily Traffic Scatterplot"
   ]
  },
  {
   "cell_type": "raw",
   "id": "4769a675e263f0c4",
   "metadata": {},
   "source": [
    ":::{.panel-tabset}\n",
    "\n",
    "### all roads"
   ]
  },
  {
   "cell_type": "code",
   "execution_count": 6,
   "id": "2030adc6c52f8ab9",
   "metadata": {
    "ExecuteTime": {
     "end_time": "2024-06-24T21:40:18.699723Z",
     "start_time": "2024-06-24T21:40:18.277822Z"
    },
    "execution": {
     "iopub.execute_input": "2024-06-24T21:55:44.776571Z",
     "iopub.status.busy": "2024-06-24T21:55:44.776571Z",
     "iopub.status.idle": "2024-06-24T21:55:45.353957Z",
     "shell.execute_reply": "2024-06-24T21:55:45.353957Z"
    }
   },
   "outputs": [
    {
     "data": {
      "text/plain": [
       "[<matplotlib.lines.Line2D at 0x215fa2bfd88>]"
      ]
     },
     "execution_count": 6,
     "metadata": {},
     "output_type": "execute_result"
    },
    {
     "data": {
      "image/png": "[encoded data removed]",
      "text/plain": [
       "<Figure size 432x288 with 1 Axes>"
      ]
     },
     "metadata": {
      "needs_background": "light"
     },
     "output_type": "display_data"
    }
   ],
   "source": [
    "df = pd.read_csv(os.path.join(csv_path,'daily_volume.csv'))\n",
    "ax = df.plot(kind='scatter', x='observed', y='modeled')\n",
    "lim = df[['observed','modeled']].max().max()*1.05\n",
    "ax.set_ylim(0,lim)\n",
    "ax.set_xlim(0,lim)\n",
    "x = np.linspace(*ax.get_xlim())\n",
    "ax.plot(x, x)"
   ]
  },
  {
   "cell_type": "code",
   "execution_count": 7,
   "id": "4121d8204203b7a1",
   "metadata": {
    "ExecuteTime": {
     "end_time": "2024-06-24T21:40:35.668359Z",
     "start_time": "2024-06-24T21:40:35.652845Z"
    },
    "execution": {
     "iopub.execute_input": "2024-06-24T21:55:45.370254Z",
     "iopub.status.busy": "2024-06-24T21:55:45.369735Z",
     "iopub.status.idle": "2024-06-24T21:55:45.400891Z",
     "shell.execute_reply": "2024-06-24T21:55:45.400891Z"
    }
   },
   "outputs": [
    {
     "name": "stdout",
     "output_type": "stream",
     "text": [
      "r^2: 0.9595320017049398\n"
     ]
    }
   ],
   "source": [
    "slope, intercept, r_value, p_value, std_err = stats.linregress(df['observed'],df['modeled'])\n",
    "print('r^2: ' + str(r_value))"
   ]
  },
  {
   "cell_type": "raw",
   "id": "1cf84d74ba6e5dcb",
   "metadata": {},
   "source": [
    "### by county"
   ]
  },
  {
   "cell_type": "code",
   "execution_count": 8,
   "id": "ed6c7a6a78b76539",
   "metadata": {
    "ExecuteTime": {
     "end_time": "2024-06-24T21:41:13.949480Z",
     "start_time": "2024-06-24T21:41:13.122059Z"
    },
    "execution": {
     "iopub.execute_input": "2024-06-24T21:55:45.400891Z",
     "iopub.status.busy": "2024-06-24T21:55:45.400891Z",
     "iopub.status.idle": "2024-06-24T21:55:46.932020Z",
     "shell.execute_reply": "2024-06-24T21:55:46.932020Z"
    }
   },
   "outputs": [
    {
     "name": "stdout",
     "output_type": "stream",
     "text": [
      "King r^2: 0.9601518416989088\n",
      "Kitsap r^2: 0.9580857095062555\n",
      "Pierce r^2: 0.9632941127766418\n",
      "Snohomish r^2: 0.9468261080455748\n"
     ]
    },
    {
     "data": {
      "image/png": "[encoded data removed]",
      "text/plain": [
       "<Figure size 432x288 with 1 Axes>"
      ]
     },
     "metadata": {
      "needs_background": "light"
     },
     "output_type": "display_data"
    },
    {
     "data": {
      "image/png": "[encoded data removed]",
      "text/plain": [
       "<Figure size 432x288 with 1 Axes>"
      ]
     },
     "metadata": {
      "needs_background": "light"
     },
     "output_type": "display_data"
    },
    {
     "data": {
      "image/png": "[encoded data removed]",
      "text/plain": [
       "<Figure size 432x288 with 1 Axes>"
      ]
     },
     "metadata": {
      "needs_background": "light"
     },
     "output_type": "display_data"
    },
    {
     "data": {
      "image/png": "[encoded data removed]",
      "text/plain": [
       "<Figure size 432x288 with 1 Axes>"
      ]
     },
     "metadata": {
      "needs_background": "light"
     },
     "output_type": "display_data"
    }
   ],
   "source": [
    "for county in np.unique(df['county']):\n",
    "    _df = df[df['county'] == county]\n",
    "    ax = _df.plot(kind='scatter', x='observed', y='modeled', label=county)\n",
    "    lim = _df[['observed','modeled']].max().max()*1.05\n",
    "    ax.set_ylim(0,lim)\n",
    "    ax.set_xlim(0,lim)\n",
    "    slope, intercept, r_value, p_value, std_err = stats.linregress(_df['observed'],_df['modeled'])\n",
    "    x = np.linspace(*ax.get_xlim())\n",
    "    ax.plot(x, x)\n",
    "    print(str(county) + ' r^2: ' + str(r_value))"
   ]
  },
  {
   "cell_type": "raw",
   "id": "33fd1eaf4a4116cd",
   "metadata": {},
   "source": [
    "### by facility type"
   ]
  },
  {
   "cell_type": "code",
   "execution_count": 9,
   "id": "d56f85ef",
   "metadata": {},
   "outputs": [
    {
     "data": {
      "text/plain": [
       "array(['Freeway', 'Ramp', 'HOV', 'Arterial', 'Collector'], dtype=object)"
      ]
     },
     "execution_count": 9,
     "metadata": {},
     "output_type": "execute_result"
    }
   ],
   "source": [
    "df['@facilitytype'].unique()"
   ]
  },
  {
   "cell_type": "code",
   "execution_count": 10,
   "id": "4439d4607f364b6d",
   "metadata": {
    "ExecuteTime": {
     "end_time": "2024-06-24T21:41:37.621816Z",
     "start_time": "2024-06-24T21:41:37.152840Z"
    },
    "execution": {
     "iopub.execute_input": "2024-06-24T21:55:46.947599Z",
     "iopub.status.busy": "2024-06-24T21:55:46.947599Z",
     "iopub.status.idle": "2024-06-24T21:55:47.776595Z",
     "shell.execute_reply": "2024-06-24T21:55:47.776595Z"
    }
   },
   "outputs": [
    {
     "name": "stdout",
     "output_type": "stream",
     "text": [
      "r^2 Freeway: 0.9492474001742188\n"
     ]
    },
    {
     "data": {
      "image/png": "[encoded data removed]",
      "text/plain": [
       "<Figure size 432x288 with 1 Axes>"
      ]
     },
     "metadata": {
      "needs_background": "light"
     },
     "output_type": "display_data"
    }
   ],
   "source": [
    "# for factype in ['Freeway','Arterial']:\n",
    "for factype in ['Freeway']:\n",
    "    _df = df[df['@facilitytype'] == factype]\n",
    "    ax = _df.plot(kind='scatter', x='observed', y='modeled', label=factype)\n",
    "    lim = _df[['observed','modeled']].max().max()*1.05\n",
    "    ax.set_ylim(0,lim)\n",
    "    ax.set_xlim(0,lim)\n",
    "    x = np.linspace(*ax.get_xlim())\n",
    "    ax.plot(x, x)\n",
    "    slope, intercept, r_value, p_value, std_err = stats.linregress(_df['observed'],_df['modeled'])\n",
    "    print('r^2 ' + str(factype) + ': ' + str(r_value))"
   ]
  },
  {
   "cell_type": "raw",
   "id": "95fc70f3fe7ad579",
   "metadata": {},
   "source": [
    ":::"
   ]
  },
  {
   "cell_type": "code",
   "execution_count": 11,
   "id": "25272c3f",
   "metadata": {},
   "outputs": [],
   "source": [
    "## hourly volumnes"
   ]
  },
  {
   "cell_type": "code",
   "execution_count": 12,
   "id": "2c7cb227ac728135",
   "metadata": {
    "ExecuteTime": {
     "end_time": "2024-06-24T21:42:50.230565Z",
     "start_time": "2024-06-24T21:42:49.902592Z"
    },
    "execution": {
     "iopub.execute_input": "2024-06-24T21:55:47.791669Z",
     "iopub.status.busy": "2024-06-24T21:55:47.791669Z",
     "iopub.status.idle": "2024-06-24T21:55:48.385801Z",
     "shell.execute_reply": "2024-06-24T21:55:48.385801Z"
    }
   },
   "outputs": [],
   "source": [
    "# df = pd.read_csv(os.path.join(csv_path,'hourly_volume.csv'))\n",
    "# ax = df.plot(kind='scatter', x='observed', y='modeled')\n",
    "# lim = df[['observed','modeled']].max().max()*1.05\n",
    "# ax.set_ylim(0,lim)\n",
    "# ax.set_xlim(0,lim)\n",
    "# x = np.linspace(*ax.get_xlim())\n",
    "# ax.plot(x, x)\n",
    "# slope, intercept, r_value, p_value, std_err = stats.linregress(df['observed'],df['modeled'])\n",
    "# print('r^2: ' + str(r_value))"
   ]
  },
  {
   "cell_type": "markdown",
   "id": "570811475e66e98d",
   "metadata": {},
   "source": [
    "## Screenlines"
   ]
  },
  {
   "cell_type": "code",
   "execution_count": 13,
   "id": "6ee15d11aa23ee15",
   "metadata": {
    "ExecuteTime": {
     "end_time": "2024-06-24T21:43:33.293169Z",
     "start_time": "2024-06-24T21:43:33.194667Z"
    },
    "execution": {
     "iopub.execute_input": "2024-06-24T21:55:48.402354Z",
     "iopub.status.busy": "2024-06-24T21:55:48.402044Z",
     "iopub.status.idle": "2024-06-24T21:55:48.510823Z",
     "shell.execute_reply": "2024-06-24T21:55:48.510203Z"
    }
   },
   "outputs": [
    {
     "data": {
      "text/html": [
       "<div>\n",
       "<style scoped>\n",
       "    .dataframe tbody tr th:only-of-type {\n",
       "        vertical-align: middle;\n",
       "    }\n",
       "\n",
       "    .dataframe tbody tr th {\n",
       "        vertical-align: top;\n",
       "    }\n",
       "\n",
       "    .dataframe thead th {\n",
       "        text-align: right;\n",
       "    }\n",
       "</style>\n",
       "<table border=\"1\" class=\"dataframe\">\n",
       "  <thead>\n",
       "    <tr style=\"text-align: right;\">\n",
       "      <th></th>\n",
       "      <th>name</th>\n",
       "      <th>observed</th>\n",
       "      <th>modeled</th>\n",
       "      <th>county</th>\n",
       "      <th>diff</th>\n",
       "      <th>percent_diff</th>\n",
       "    </tr>\n",
       "  </thead>\n",
       "  <tbody>\n",
       "    <tr>\n",
       "      <th>0</th>\n",
       "      <td>AUBURN - SOUTH KING</td>\n",
       "      <td>592,476</td>\n",
       "      <td>498,941</td>\n",
       "      <td>King</td>\n",
       "      <td>-93,535</td>\n",
       "      <td>-15.8%</td>\n",
       "    </tr>\n",
       "    <tr>\n",
       "      <th>1</th>\n",
       "      <td>KENT</td>\n",
       "      <td>559,335</td>\n",
       "      <td>465,512</td>\n",
       "      <td>King</td>\n",
       "      <td>-93,823</td>\n",
       "      <td>-16.8%</td>\n",
       "    </tr>\n",
       "    <tr>\n",
       "      <th>2</th>\n",
       "      <td>SHIP CANAL</td>\n",
       "      <td>480,070</td>\n",
       "      <td>493,548</td>\n",
       "      <td>King</td>\n",
       "      <td>13,478</td>\n",
       "      <td>2.8%</td>\n",
       "    </tr>\n",
       "    <tr>\n",
       "      <th>3</th>\n",
       "      <td>SEATTLE - SOUTH OF CBD</td>\n",
       "      <td>473,322</td>\n",
       "      <td>469,453</td>\n",
       "      <td>King</td>\n",
       "      <td>-3,869</td>\n",
       "      <td>-0.8%</td>\n",
       "    </tr>\n",
       "    <tr>\n",
       "      <th>4</th>\n",
       "      <td>MILL CREEK</td>\n",
       "      <td>391,447</td>\n",
       "      <td>373,765</td>\n",
       "      <td>King</td>\n",
       "      <td>-17,682</td>\n",
       "      <td>-4.5%</td>\n",
       "    </tr>\n",
       "    <tr>\n",
       "      <th>5</th>\n",
       "      <td>SOUTH BELLEVUE</td>\n",
       "      <td>389,700</td>\n",
       "      <td>356,618</td>\n",
       "      <td>King</td>\n",
       "      <td>-33,082</td>\n",
       "      <td>-8.5%</td>\n",
       "    </tr>\n",
       "    <tr>\n",
       "      <th>6</th>\n",
       "      <td>KIRKLAND-REDMOND</td>\n",
       "      <td>381,663</td>\n",
       "      <td>367,976</td>\n",
       "      <td>King</td>\n",
       "      <td>-13,687</td>\n",
       "      <td>-3.6%</td>\n",
       "    </tr>\n",
       "    <tr>\n",
       "      <th>7</th>\n",
       "      <td>SEATTLE - NORTH</td>\n",
       "      <td>356,051</td>\n",
       "      <td>345,168</td>\n",
       "      <td>King</td>\n",
       "      <td>-10,883</td>\n",
       "      <td>-3.1%</td>\n",
       "    </tr>\n",
       "    <tr>\n",
       "      <th>8</th>\n",
       "      <td>TACOMA - EAST OF CBD</td>\n",
       "      <td>324,463</td>\n",
       "      <td>334,706</td>\n",
       "      <td>Pierce</td>\n",
       "      <td>10,243</td>\n",
       "      <td>3.2%</td>\n",
       "    </tr>\n",
       "    <tr>\n",
       "      <th>9</th>\n",
       "      <td>PARKLAND</td>\n",
       "      <td>299,722</td>\n",
       "      <td>272,155</td>\n",
       "      <td>Pierce</td>\n",
       "      <td>-27,567</td>\n",
       "      <td>-9.2%</td>\n",
       "    </tr>\n",
       "    <tr>\n",
       "      <th>10</th>\n",
       "      <td>BOTHELL</td>\n",
       "      <td>291,573</td>\n",
       "      <td>323,362</td>\n",
       "      <td>King</td>\n",
       "      <td>31,789</td>\n",
       "      <td>10.9%</td>\n",
       "    </tr>\n",
       "    <tr>\n",
       "      <th>11</th>\n",
       "      <td>LYNNWOOD-BOTHELL</td>\n",
       "      <td>260,099</td>\n",
       "      <td>304,539</td>\n",
       "      <td>King</td>\n",
       "      <td>44,440</td>\n",
       "      <td>17.1%</td>\n",
       "    </tr>\n",
       "    <tr>\n",
       "      <th>12</th>\n",
       "      <td>TUKWILA</td>\n",
       "      <td>257,776</td>\n",
       "      <td>226,053</td>\n",
       "      <td>King</td>\n",
       "      <td>-31,723</td>\n",
       "      <td>-12.3%</td>\n",
       "    </tr>\n",
       "    <tr>\n",
       "      <th>13</th>\n",
       "      <td>TRANSLAKE</td>\n",
       "      <td>222,188</td>\n",
       "      <td>242,697</td>\n",
       "      <td>King</td>\n",
       "      <td>20,509</td>\n",
       "      <td>9.2%</td>\n",
       "    </tr>\n",
       "    <tr>\n",
       "      <th>14</th>\n",
       "      <td>PUYALLUP</td>\n",
       "      <td>128,700</td>\n",
       "      <td>121,901</td>\n",
       "      <td>Pierce</td>\n",
       "      <td>-6,799</td>\n",
       "      <td>-5.3%</td>\n",
       "    </tr>\n",
       "    <tr>\n",
       "      <th>15</th>\n",
       "      <td>WOODINVILLE</td>\n",
       "      <td>116,355</td>\n",
       "      <td>160,915</td>\n",
       "      <td>King</td>\n",
       "      <td>44,560</td>\n",
       "      <td>38.3%</td>\n",
       "    </tr>\n",
       "    <tr>\n",
       "      <th>16</th>\n",
       "      <td>NORTH KITSAP</td>\n",
       "      <td>104,890</td>\n",
       "      <td>70,714</td>\n",
       "      <td>Kitsap</td>\n",
       "      <td>-34,176</td>\n",
       "      <td>-32.6%</td>\n",
       "    </tr>\n",
       "    <tr>\n",
       "      <th>17</th>\n",
       "      <td>TACOMA NARROWS</td>\n",
       "      <td>97,300</td>\n",
       "      <td>104,711</td>\n",
       "      <td>Pierce</td>\n",
       "      <td>7,411</td>\n",
       "      <td>7.6%</td>\n",
       "    </tr>\n",
       "    <tr>\n",
       "      <th>18</th>\n",
       "      <td>PRESTON-ISSAQUAH</td>\n",
       "      <td>86,462</td>\n",
       "      <td>86,505</td>\n",
       "      <td>King</td>\n",
       "      <td>43</td>\n",
       "      <td>0.0%</td>\n",
       "    </tr>\n",
       "    <tr>\n",
       "      <th>19</th>\n",
       "      <td>GIG HARBOR</td>\n",
       "      <td>84,875</td>\n",
       "      <td>84,239</td>\n",
       "      <td>Pierce</td>\n",
       "      <td>-636</td>\n",
       "      <td>-0.7%</td>\n",
       "    </tr>\n",
       "    <tr>\n",
       "      <th>20</th>\n",
       "      <td>SEATAC</td>\n",
       "      <td>72,402</td>\n",
       "      <td>87,980</td>\n",
       "      <td>King</td>\n",
       "      <td>15,578</td>\n",
       "      <td>21.5%</td>\n",
       "    </tr>\n",
       "    <tr>\n",
       "      <th>21</th>\n",
       "      <td>MAPLE VALLEY</td>\n",
       "      <td>70,813</td>\n",
       "      <td>57,692</td>\n",
       "      <td>King</td>\n",
       "      <td>-13,121</td>\n",
       "      <td>-18.5%</td>\n",
       "    </tr>\n",
       "    <tr>\n",
       "      <th>22</th>\n",
       "      <td>RENTON</td>\n",
       "      <td>68,127</td>\n",
       "      <td>63,258</td>\n",
       "      <td>King</td>\n",
       "      <td>-4,869</td>\n",
       "      <td>-7.1%</td>\n",
       "    </tr>\n",
       "    <tr>\n",
       "      <th>23</th>\n",
       "      <td>AGATE PASS BRIDGE</td>\n",
       "      <td>21,000</td>\n",
       "      <td>19,858</td>\n",
       "      <td>Kitsap</td>\n",
       "      <td>-1,142</td>\n",
       "      <td>-5.4%</td>\n",
       "    </tr>\n",
       "    <tr>\n",
       "      <th>24</th>\n",
       "      <td>CROSS SOUND</td>\n",
       "      <td>14,565</td>\n",
       "      <td>15,957</td>\n",
       "      <td>Kitsap</td>\n",
       "      <td>1,392</td>\n",
       "      <td>9.6%</td>\n",
       "    </tr>\n",
       "    <tr>\n",
       "      <th>25</th>\n",
       "      <td>TOTAL</td>\n",
       "      <td>6,145,374</td>\n",
       "      <td>5,948,221</td>\n",
       "      <td>NaN</td>\n",
       "      <td>-197,153</td>\n",
       "      <td>-3.2%</td>\n",
       "    </tr>\n",
       "  </tbody>\n",
       "</table>\n",
       "</div>"
      ],
      "text/plain": [
       "                      name  observed   modeled  county     diff percent_diff\n",
       "0      AUBURN - SOUTH KING   592,476   498,941    King  -93,535       -15.8%\n",
       "1                     KENT   559,335   465,512    King  -93,823       -16.8%\n",
       "2               SHIP CANAL   480,070   493,548    King   13,478         2.8%\n",
       "3   SEATTLE - SOUTH OF CBD   473,322   469,453    King   -3,869        -0.8%\n",
       "4               MILL CREEK   391,447   373,765    King  -17,682        -4.5%\n",
       "5           SOUTH BELLEVUE   389,700   356,618    King  -33,082        -8.5%\n",
       "6         KIRKLAND-REDMOND   381,663   367,976    King  -13,687        -3.6%\n",
       "7          SEATTLE - NORTH   356,051   345,168    King  -10,883        -3.1%\n",
       "8     TACOMA - EAST OF CBD   324,463   334,706  Pierce   10,243         3.2%\n",
       "9                 PARKLAND   299,722   272,155  Pierce  -27,567        -9.2%\n",
       "10                 BOTHELL   291,573   323,362    King   31,789        10.9%\n",
       "11        LYNNWOOD-BOTHELL   260,099   304,539    King   44,440        17.1%\n",
       "12                 TUKWILA   257,776   226,053    King  -31,723       -12.3%\n",
       "13               TRANSLAKE   222,188   242,697    King   20,509         9.2%\n",
       "14                PUYALLUP   128,700   121,901  Pierce   -6,799        -5.3%\n",
       "15             WOODINVILLE   116,355   160,915    King   44,560        38.3%\n",
       "16            NORTH KITSAP   104,890    70,714  Kitsap  -34,176       -32.6%\n",
       "17          TACOMA NARROWS    97,300   104,711  Pierce    7,411         7.6%\n",
       "18        PRESTON-ISSAQUAH    86,462    86,505    King       43         0.0%\n",
       "19              GIG HARBOR    84,875    84,239  Pierce     -636        -0.7%\n",
       "20                  SEATAC    72,402    87,980    King   15,578        21.5%\n",
       "21            MAPLE VALLEY    70,813    57,692    King  -13,121       -18.5%\n",
       "22                  RENTON    68,127    63,258    King   -4,869        -7.1%\n",
       "23       AGATE PASS BRIDGE    21,000    19,858  Kitsap   -1,142        -5.4%\n",
       "24             CROSS SOUND    14,565    15,957  Kitsap    1,392         9.6%\n",
       "25                   TOTAL 6,145,374 5,948,221     NaN -197,153        -3.2%"
      ]
     },
     "execution_count": 13,
     "metadata": {},
     "output_type": "execute_result"
    }
   ],
   "source": [
    "df = pd.read_csv(os.path.join(csv_path,'screenlines.csv'))\n",
    "df = df.append(df.sum(numeric_only=True), ignore_index=True)\n",
    "df.at[df.index[-1], 'name'] = 'TOTAL'\n",
    "#df.at['C', 'name'] = 10\n",
    "df['percent_diff'] = df['diff']/df['observed']\n",
    "df[['percent_diff']] = df[['percent_diff']].applymap(format_percent)\n",
    "df"
   ]
  },
  {
   "cell_type": "code",
   "execution_count": 14,
   "id": "85e33c82ecdece63",
   "metadata": {
    "ExecuteTime": {
     "end_time": "2024-06-24T21:43:47.402427Z",
     "start_time": "2024-06-24T21:43:47.214746Z"
    },
    "execution": {
     "iopub.execute_input": "2024-06-24T21:55:48.526454Z",
     "iopub.status.busy": "2024-06-24T21:55:48.510823Z",
     "iopub.status.idle": "2024-06-24T21:55:48.917265Z",
     "shell.execute_reply": "2024-06-24T21:55:48.917265Z"
    }
   },
   "outputs": [
    {
     "name": "stdout",
     "output_type": "stream",
     "text": [
      "r^2 : 0.983530020193849\n"
     ]
    },
    {
     "data": {
      "image/png": "[encoded data removed]",
      "text/plain": [
       "<Figure size 432x288 with 1 Axes>"
      ]
     },
     "metadata": {
      "needs_background": "light"
     },
     "output_type": "display_data"
    }
   ],
   "source": [
    "df = df.head(-1)\n",
    "ax = df.plot(kind='scatter', x='observed', y='modeled')\n",
    "lim = df[['observed','modeled']].max().max()*1.05\n",
    "ax.set_ylim(0,lim)\n",
    "ax.set_xlim(0,lim)\n",
    "x = np.linspace(*ax.get_xlim())\n",
    "ax.plot(x, x)\n",
    "slope, intercept, r_value, p_value, std_err = stats.linregress(df['observed'],df['modeled'])\n",
    "print('r^2 : ' + str(r_value))"
   ]
  },
  {
   "cell_type": "raw",
   "id": "0aa73178",
   "metadata": {},
   "source": [
    ":::"
   ]
  },
  {
   "cell_type": "markdown",
   "id": "6e3acde1",
   "metadata": {},
   "source": [
    "# External Stations"
   ]
  },
  {
   "cell_type": "raw",
   "id": "bf56b611",
   "metadata": {},
   "source": [
    ":::{.panel-tabset}\n",
    "### Observed vs Model Counts"
   ]
  },
  {
   "cell_type": "code",
   "execution_count": 15,
   "id": "3995fd29",
   "metadata": {},
   "outputs": [
    {
     "data": {
      "text/html": [
       "<div>\n",
       "<style scoped>\n",
       "    .dataframe tbody tr th:only-of-type {\n",
       "        vertical-align: middle;\n",
       "    }\n",
       "\n",
       "    .dataframe tbody tr th {\n",
       "        vertical-align: top;\n",
       "    }\n",
       "\n",
       "    .dataframe thead th {\n",
       "        text-align: right;\n",
       "    }\n",
       "</style>\n",
       "<table border=\"1\" class=\"dataframe\">\n",
       "  <thead>\n",
       "    <tr style=\"text-align: right;\">\n",
       "      <th></th>\n",
       "      <th>external_station</th>\n",
       "      <th>location</th>\n",
       "      <th>county</th>\n",
       "      <th>observed</th>\n",
       "      <th>modeled</th>\n",
       "      <th>diff</th>\n",
       "      <th>percent_diff</th>\n",
       "    </tr>\n",
       "  </thead>\n",
       "  <tbody>\n",
       "    <tr>\n",
       "      <th>0</th>\n",
       "      <td>3733</td>\n",
       "      <td>I-5 to Olympia</td>\n",
       "      <td>Pierce</td>\n",
       "      <td>132,000</td>\n",
       "      <td>131,947</td>\n",
       "      <td>-53</td>\n",
       "      <td>-0.0%</td>\n",
       "    </tr>\n",
       "    <tr>\n",
       "      <th>1</th>\n",
       "      <td>3744</td>\n",
       "      <td>I-5 to Mount Vernon</td>\n",
       "      <td>Snohomish</td>\n",
       "      <td>64,400</td>\n",
       "      <td>64,426</td>\n",
       "      <td>26</td>\n",
       "      <td>0.0%</td>\n",
       "    </tr>\n",
       "    <tr>\n",
       "      <th>2</th>\n",
       "      <td>3739</td>\n",
       "      <td>I-90 @ Snoqualmie Pass</td>\n",
       "      <td>King</td>\n",
       "      <td>33,800</td>\n",
       "      <td>33,440</td>\n",
       "      <td>-360</td>\n",
       "      <td>-1.1%</td>\n",
       "    </tr>\n",
       "    <tr>\n",
       "      <th>3</th>\n",
       "      <td>3734</td>\n",
       "      <td>SR-507 to Yelm</td>\n",
       "      <td>Pierce</td>\n",
       "      <td>21,800</td>\n",
       "      <td>22,723</td>\n",
       "      <td>923</td>\n",
       "      <td>4.2%</td>\n",
       "    </tr>\n",
       "    <tr>\n",
       "      <th>4</th>\n",
       "      <td>3746</td>\n",
       "      <td>SR-532 to Camano Island</td>\n",
       "      <td>Snohomish</td>\n",
       "      <td>20,700</td>\n",
       "      <td>20,759</td>\n",
       "      <td>59</td>\n",
       "      <td>0.3%</td>\n",
       "    </tr>\n",
       "    <tr>\n",
       "      <th>5</th>\n",
       "      <td>3749</td>\n",
       "      <td>SR-3 to Belfair</td>\n",
       "      <td>Kitsap</td>\n",
       "      <td>18,400</td>\n",
       "      <td>18,135</td>\n",
       "      <td>-265</td>\n",
       "      <td>-1.4%</td>\n",
       "    </tr>\n",
       "    <tr>\n",
       "      <th>6</th>\n",
       "      <td>3748</td>\n",
       "      <td>Hood Canal Bridge</td>\n",
       "      <td>Kitsap</td>\n",
       "      <td>17,600</td>\n",
       "      <td>17,851</td>\n",
       "      <td>251</td>\n",
       "      <td>1.4%</td>\n",
       "    </tr>\n",
       "    <tr>\n",
       "      <th>7</th>\n",
       "      <td>3745</td>\n",
       "      <td>SR-530 N/O Stanwood</td>\n",
       "      <td>Snohomish</td>\n",
       "      <td>9,100</td>\n",
       "      <td>9,173</td>\n",
       "      <td>73</td>\n",
       "      <td>0.8%</td>\n",
       "    </tr>\n",
       "    <tr>\n",
       "      <th>8</th>\n",
       "      <td>3747</td>\n",
       "      <td>Mukilteo-Clinton Ferry</td>\n",
       "      <td>Snohomish</td>\n",
       "      <td>6,050</td>\n",
       "      <td>5,963</td>\n",
       "      <td>-87</td>\n",
       "      <td>-1.4%</td>\n",
       "    </tr>\n",
       "    <tr>\n",
       "      <th>9</th>\n",
       "      <td>3740</td>\n",
       "      <td>SR-2 @ Stevens Pass</td>\n",
       "      <td>King</td>\n",
       "      <td>4,600</td>\n",
       "      <td>4,571</td>\n",
       "      <td>-29</td>\n",
       "      <td>-0.6%</td>\n",
       "    </tr>\n",
       "    <tr>\n",
       "      <th>10</th>\n",
       "      <td>3750</td>\n",
       "      <td>SR-302 to Shelton</td>\n",
       "      <td>Pierce</td>\n",
       "      <td>4,200</td>\n",
       "      <td>4,563</td>\n",
       "      <td>363</td>\n",
       "      <td>8.6%</td>\n",
       "    </tr>\n",
       "    <tr>\n",
       "      <th>11</th>\n",
       "      <td>3735</td>\n",
       "      <td>SR-7 to Morton</td>\n",
       "      <td>Pierce</td>\n",
       "      <td>2,800</td>\n",
       "      <td>2,740</td>\n",
       "      <td>-60</td>\n",
       "      <td>-2.1%</td>\n",
       "    </tr>\n",
       "    <tr>\n",
       "      <th>12</th>\n",
       "      <td>3742</td>\n",
       "      <td>SR-530 N/O Darrington</td>\n",
       "      <td>Snohomish</td>\n",
       "      <td>2,100</td>\n",
       "      <td>2,106</td>\n",
       "      <td>6</td>\n",
       "      <td>0.3%</td>\n",
       "    </tr>\n",
       "    <tr>\n",
       "      <th>13</th>\n",
       "      <td>3736</td>\n",
       "      <td>SR-706 to Longmire</td>\n",
       "      <td>Pierce</td>\n",
       "      <td>1,800</td>\n",
       "      <td>1,802</td>\n",
       "      <td>2</td>\n",
       "      <td>0.1%</td>\n",
       "    </tr>\n",
       "    <tr>\n",
       "      <th>14</th>\n",
       "      <td>3743</td>\n",
       "      <td>SR-9 N/O Arlington</td>\n",
       "      <td>Snohomish</td>\n",
       "      <td>1,500</td>\n",
       "      <td>1,527</td>\n",
       "      <td>27</td>\n",
       "      <td>1.8%</td>\n",
       "    </tr>\n",
       "    <tr>\n",
       "      <th>15</th>\n",
       "      <td>3737</td>\n",
       "      <td>SR-123 S/O Cayuse Pass</td>\n",
       "      <td>Pierce</td>\n",
       "      <td>1,100</td>\n",
       "      <td>1,055</td>\n",
       "      <td>-45</td>\n",
       "      <td>-4.1%</td>\n",
       "    </tr>\n",
       "    <tr>\n",
       "      <th>16</th>\n",
       "      <td>3738</td>\n",
       "      <td>SR 410 E/O Cayuse Pass</td>\n",
       "      <td>Pierce</td>\n",
       "      <td>1,000</td>\n",
       "      <td>997</td>\n",
       "      <td>-3</td>\n",
       "      <td>-0.3%</td>\n",
       "    </tr>\n",
       "    <tr>\n",
       "      <th>17</th>\n",
       "      <td>3741</td>\n",
       "      <td>SR-92 to Monte Carlo</td>\n",
       "      <td>Snohomish</td>\n",
       "      <td>90</td>\n",
       "      <td>92</td>\n",
       "      <td>2</td>\n",
       "      <td>1.9%</td>\n",
       "    </tr>\n",
       "  </tbody>\n",
       "</table>\n",
       "</div>"
      ],
      "text/plain": [
       "    external_station                 location     county  observed  modeled  \\\n",
       "0               3733           I-5 to Olympia     Pierce   132,000  131,947   \n",
       "1               3744      I-5 to Mount Vernon  Snohomish    64,400   64,426   \n",
       "2               3739   I-90 @ Snoqualmie Pass       King    33,800   33,440   \n",
       "3               3734           SR-507 to Yelm     Pierce    21,800   22,723   \n",
       "4               3746  SR-532 to Camano Island  Snohomish    20,700   20,759   \n",
       "5               3749          SR-3 to Belfair     Kitsap    18,400   18,135   \n",
       "6               3748        Hood Canal Bridge     Kitsap    17,600   17,851   \n",
       "7               3745      SR-530 N/O Stanwood  Snohomish     9,100    9,173   \n",
       "8               3747   Mukilteo-Clinton Ferry  Snohomish     6,050    5,963   \n",
       "9               3740      SR-2 @ Stevens Pass       King     4,600    4,571   \n",
       "10              3750        SR-302 to Shelton     Pierce     4,200    4,563   \n",
       "11              3735           SR-7 to Morton     Pierce     2,800    2,740   \n",
       "12              3742    SR-530 N/O Darrington  Snohomish     2,100    2,106   \n",
       "13              3736       SR-706 to Longmire     Pierce     1,800    1,802   \n",
       "14              3743       SR-9 N/O Arlington  Snohomish     1,500    1,527   \n",
       "15              3737   SR-123 S/O Cayuse Pass     Pierce     1,100    1,055   \n",
       "16              3738   SR 410 E/O Cayuse Pass     Pierce     1,000      997   \n",
       "17              3741     SR-92 to Monte Carlo  Snohomish        90       92   \n",
       "\n",
       "    diff percent_diff  \n",
       "0    -53        -0.0%  \n",
       "1     26         0.0%  \n",
       "2   -360        -1.1%  \n",
       "3    923         4.2%  \n",
       "4     59         0.3%  \n",
       "5   -265        -1.4%  \n",
       "6    251         1.4%  \n",
       "7     73         0.8%  \n",
       "8    -87        -1.4%  \n",
       "9    -29        -0.6%  \n",
       "10   363         8.6%  \n",
       "11   -60        -2.1%  \n",
       "12     6         0.3%  \n",
       "13     2         0.1%  \n",
       "14    27         1.8%  \n",
       "15   -45        -4.1%  \n",
       "16    -3        -0.3%  \n",
       "17     2         1.9%  "
      ]
     },
     "execution_count": 15,
     "metadata": {},
     "output_type": "execute_result"
    }
   ],
   "source": [
    "df = pd.read_csv(os.path.join(csv_path,'external_volumes.csv'))\n",
    "df['percent_diff'] = df['diff']/df['observed']\n",
    "df[['percent_diff']] = df[['percent_diff']].applymap(format_percent)\n",
    "df"
   ]
  },
  {
   "cell_type": "code",
   "execution_count": 16,
   "id": "9006a5e5",
   "metadata": {},
   "outputs": [
    {
     "name": "stdout",
     "output_type": "stream",
     "text": [
      "r^2 : 0.999965007318884\n"
     ]
    },
    {
     "data": {
      "image/png": "[encoded data removed]",
      "text/plain": [
       "<Figure size 432x288 with 1 Axes>"
      ]
     },
     "metadata": {
      "needs_background": "light"
     },
     "output_type": "display_data"
    }
   ],
   "source": [
    "df = df.head(-1)\n",
    "ax = df.plot(kind='scatter', x='observed', y='modeled')\n",
    "lim = df[['observed','modeled']].max().max()*1.05\n",
    "ax.set_ylim(0,lim)\n",
    "ax.set_xlim(0,lim)\n",
    "x = np.linspace(*ax.get_xlim())\n",
    "ax.plot(x, x)\n",
    "slope, intercept, r_value, p_value, std_err = stats.linregress(df['observed'],df['modeled'])\n",
    "print('r^2 : ' + str(r_value))"
   ]
  },
  {
   "cell_type": "raw",
   "id": "7cd73d93",
   "metadata": {},
   "source": [
    "### Model VMT/Trips by Mode"
   ]
  },
  {
   "cell_type": "code",
   "execution_count": 17,
   "id": "4632dadd",
   "metadata": {},
   "outputs": [],
   "source": [
    "## External trips/VMT\n",
    "df_23 = h5py.File(r'..\\..\\..\\..\\inputs\\model\\roster\\7to8.h5')\n",
    "df_23_skims_sov = df_23['Skims']['sov_inc2d'][:]/100\n",
    "df_23_skims_hov2 = df_23['Skims']['hov2_inc2d'][:]/100\n",
    "df_23_skims_hov3 = df_23['Skims']['hov3_inc2d'][:]/100\n",
    "\n",
    "df_results_new = pd.DataFrame()\n",
    "\n",
    "tod_list = ['5to6', '6to7', '7to8', '8to9', '9to10', '10to14', '14to15', '15to16', '16to17', '17to18', '18to20', '20to5']\n",
    "for tod in tod_list:\n",
    "#     print(tod)\n",
    "    df_temp = pd.DataFrame()\n",
    "    for mode in ['sov','hov2','hov3']:\n",
    "#         print(mode)\n",
    "        od_new = h5py.File(r'..\\..\\..\\..\\outputs\\supplemental\\external_work_'+tod+'.h5', 'r')[mode][:]\n",
    "        df_temp.loc[tod,mode+'_vmt'] = (df_23_skims_sov*od_new).sum()\n",
    "        df_temp.loc[tod,mode+'_trips'] = od_new.sum()\n",
    "        df_temp.loc[tod,mode+'_avg_dist'] = df_temp.loc[tod,mode+'_vmt']/df_temp.loc[tod,mode+'_trips']\n",
    "    df_results_new = pd.concat([df_results_new, df_temp ])"
   ]
  },
  {
   "cell_type": "code",
   "execution_count": 18,
   "id": "b8c74662",
   "metadata": {},
   "outputs": [
    {
     "data": {
      "text/html": [
       "<div>\n",
       "<style scoped>\n",
       "    .dataframe tbody tr th:only-of-type {\n",
       "        vertical-align: middle;\n",
       "    }\n",
       "\n",
       "    .dataframe tbody tr th {\n",
       "        vertical-align: top;\n",
       "    }\n",
       "\n",
       "    .dataframe thead th {\n",
       "        text-align: right;\n",
       "    }\n",
       "</style>\n",
       "<table border=\"1\" class=\"dataframe\">\n",
       "  <thead>\n",
       "    <tr style=\"text-align: right;\">\n",
       "      <th></th>\n",
       "      <th>VMT</th>\n",
       "      <th>Trips</th>\n",
       "      <th>Avg Distance</th>\n",
       "    </tr>\n",
       "  </thead>\n",
       "  <tbody>\n",
       "    <tr>\n",
       "      <th>SOV</th>\n",
       "      <td>7,530,033</td>\n",
       "      <td>237,683</td>\n",
       "      <td>32</td>\n",
       "    </tr>\n",
       "    <tr>\n",
       "      <th>HOV2</th>\n",
       "      <td>572,076</td>\n",
       "      <td>18,264</td>\n",
       "      <td>31</td>\n",
       "    </tr>\n",
       "    <tr>\n",
       "      <th>HOV3</th>\n",
       "      <td>210,948</td>\n",
       "      <td>6,382</td>\n",
       "      <td>33</td>\n",
       "    </tr>\n",
       "    <tr>\n",
       "      <th>Total</th>\n",
       "      <td>8,313,057</td>\n",
       "      <td>262,329</td>\n",
       "      <td>32</td>\n",
       "    </tr>\n",
       "  </tbody>\n",
       "</table>\n",
       "</div>"
      ],
      "text/plain": [
       "            VMT   Trips  Avg Distance\n",
       "SOV   7,530,033 237,683            32\n",
       "HOV2    572,076  18,264            31\n",
       "HOV3    210,948   6,382            33\n",
       "Total 8,313,057 262,329            32"
      ]
     },
     "execution_count": 18,
     "metadata": {},
     "output_type": "execute_result"
    }
   ],
   "source": [
    "df_vmt = pd.DataFrame(df_results_new[['sov_vmt','hov2_vmt','hov3_vmt']].sum(),\n",
    "            columns=['VMT'])\n",
    "df_vmt.index = [i.split('_')[0].upper() for i in df_vmt.index]\n",
    "\n",
    "df_trips = pd.DataFrame(df_results_new[['sov_trips','hov2_trips','hov3_trips']].sum(),\n",
    "            columns=['Trips'])\n",
    "df_trips.index = [i.split('_')[0].upper() for i in df_trips.index]\n",
    "\n",
    "df = df_vmt.merge(df_trips, left_index=True, right_index=True)\n",
    "\n",
    "df.loc['Total',:] = df.sum(axis=0)\n",
    "df['Avg Distance'] = df['VMT']/df['Trips']\n",
    "df"
   ]
  },
  {
   "cell_type": "code",
   "execution_count": null,
   "id": "f49c3f61",
   "metadata": {},
   "outputs": [],
   "source": []
  }
 ],
 "metadata": {
  "kernelspec": {
   "display_name": "Python 3",
   "language": "python",
   "name": "python3"
  },
  "language_info": {
   "codemirror_mode": {
    "name": "ipython",
    "version": 3
   },
   "file_extension": ".py",
   "mimetype": "text/x-python",
   "name": "python",
   "nbconvert_exporter": "python",
   "pygments_lexer": "ipython3",
   "version": "3.7.10"
  }
 },
 "nbformat": 4,
 "nbformat_minor": 5
}
