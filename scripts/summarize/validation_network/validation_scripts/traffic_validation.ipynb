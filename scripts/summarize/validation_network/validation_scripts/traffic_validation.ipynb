{
 "cells": [
  {
   "cell_type": "raw",
   "id": "35d0934ac2ce2456",
   "metadata": {},
   "source": [
    "---\n",
    "title: \"Traffic Summary\"\n",
    "date: today\n",
    "---"
   ]
  },
  {
   "cell_type": "code",
   "execution_count": 1,
   "id": "3c1a81e12086b602",
   "metadata": {
    "ExecuteTime": {
     "end_time": "2024-06-24T21:13:24.907193Z",
     "start_time": "2024-06-24T21:13:21.750667Z"
    },
    "execution": {
     "iopub.execute_input": "2025-05-01T14:37:59.611800Z",
     "iopub.status.busy": "2025-05-01T14:37:59.610736Z",
     "iopub.status.idle": "2025-05-01T14:38:02.627193Z",
     "shell.execute_reply": "2025-05-01T14:38:02.626416Z"
    }
   },
   "outputs": [],
   "source": [
    "import os\n",
    "import pandas as pd\n",
    "import numpy as np\n",
    "import h5py\n",
    "from sqlalchemy import create_engine\n",
    "from scipy import stats\n",
    "import plotly.express as px\n",
    "import toml\n",
    "import psrc_theme\n",
    "\n",
    "%matplotlib inline\n",
    "from IPython.display import display, HTML\n",
    "\n",
    "# to show plotly figures in quarto HTML file\n",
    "import plotly.io as pio\n",
    "pio.renderers.default = \"plotly_mimetype+notebook_connected\"\n",
    "pio.templates.default = \"simple_white+psrc_color\" # set plotly template\n",
    "\n",
    "input_config = toml.load(os.path.join(os.getcwd(), '..\\\\..\\\\..\\\\..\\\\configuration', 'input_configuration.toml'))\n",
    "valid_config = toml.load(os.path.join(os.getcwd(), '..\\\\..\\\\..\\\\..\\\\configuration', 'validation_configuration.toml'))\n",
    "emme_config = toml.load(os.path.join(os.getcwd(), '..\\\\..\\\\..\\\\..\\\\configuration','emme_configuration.toml'))\n",
    "network_config = toml.load(os.path.join(os.getcwd(), '..\\\\..\\\\..\\\\..\\\\configuration','network_configuration.toml'))\n",
    "\n",
    "# create connection\n",
    "conn = create_engine('sqlite:///../../../../inputs/db/'+input_config['db_name'])\n",
    "\n",
    "# summary data location\n",
    "csv_path = os.path.join(valid_config['model_dir'], 'outputs/validation')\n",
    "\n",
    "# table format\n",
    "pd.options.display.float_format = '{:0,.0f}'.format\n",
    "format_percent = \"{:,.1%}\".format"
   ]
  },
  {
   "cell_type": "markdown",
   "id": "fa9bc0cb",
   "metadata": {},
   "source": [
    "## VMT"
   ]
  },
  {
   "cell_type": "raw",
   "id": "b1e21be6",
   "metadata": {},
   "source": [
    ":::{.panel-tabset}\n",
    "### VMT\n",
    "VMT for model links, including some externals that cross outside region"
   ]
  },
  {
   "cell_type": "code",
   "execution_count": 2,
   "id": "75471d8c",
   "metadata": {
    "execution": {
     "iopub.execute_input": "2025-05-01T14:38:02.632254Z",
     "iopub.status.busy": "2025-05-01T14:38:02.632254Z",
     "iopub.status.idle": "2025-05-01T14:38:02.675924Z",
     "shell.execute_reply": "2025-05-01T14:38:02.674861Z"
    }
   },
   "outputs": [
    {
     "data": {
      "text/html": [
       "<div>\n",
       "<style scoped>\n",
       "    .dataframe tbody tr th:only-of-type {\n",
       "        vertical-align: middle;\n",
       "    }\n",
       "\n",
       "    .dataframe tbody tr th {\n",
       "        vertical-align: top;\n",
       "    }\n",
       "\n",
       "    .dataframe thead th {\n",
       "        text-align: right;\n",
       "    }\n",
       "</style>\n",
       "<table border=\"1\" class=\"dataframe\">\n",
       "  <thead>\n",
       "    <tr style=\"text-align: right;\">\n",
       "      <th></th>\n",
       "      <th>VMT</th>\n",
       "      <th>VHT</th>\n",
       "      <th>delay</th>\n",
       "    </tr>\n",
       "    <tr>\n",
       "      <th>county_name</th>\n",
       "      <th></th>\n",
       "      <th></th>\n",
       "      <th></th>\n",
       "    </tr>\n",
       "  </thead>\n",
       "  <tbody>\n",
       "    <tr>\n",
       "      <th>King</th>\n",
       "      <td>43,367,957</td>\n",
       "      <td>1,371,588</td>\n",
       "      <td>155,379</td>\n",
       "    </tr>\n",
       "    <tr>\n",
       "      <th>Kitsap</th>\n",
       "      <td>4,296,499</td>\n",
       "      <td>125,990</td>\n",
       "      <td>2,274</td>\n",
       "    </tr>\n",
       "    <tr>\n",
       "      <th>Outside Region</th>\n",
       "      <td>332,433</td>\n",
       "      <td>6,407</td>\n",
       "      <td>2</td>\n",
       "    </tr>\n",
       "    <tr>\n",
       "      <th>Pierce</th>\n",
       "      <td>18,485,584</td>\n",
       "      <td>552,025</td>\n",
       "      <td>31,743</td>\n",
       "    </tr>\n",
       "    <tr>\n",
       "      <th>Snohomish</th>\n",
       "      <td>16,179,615</td>\n",
       "      <td>473,876</td>\n",
       "      <td>31,710</td>\n",
       "    </tr>\n",
       "    <tr>\n",
       "      <th>Total</th>\n",
       "      <td>82,662,089</td>\n",
       "      <td>2,529,886</td>\n",
       "      <td>221,108</td>\n",
       "    </tr>\n",
       "  </tbody>\n",
       "</table>\n",
       "</div>"
      ],
      "text/plain": [
       "                      VMT       VHT   delay\n",
       "county_name                                \n",
       "King           43,367,957 1,371,588 155,379\n",
       "Kitsap          4,296,499   125,990   2,274\n",
       "Outside Region    332,433     6,407       2\n",
       "Pierce         18,485,584   552,025  31,743\n",
       "Snohomish      16,179,615   473,876  31,710\n",
       "Total          82,662,089 2,529,886 221,108"
      ]
     },
     "execution_count": 2,
     "metadata": {},
     "output_type": "execute_result"
    }
   ],
   "source": [
    "df = pd.read_csv(os.path.join(valid_config['model_dir'], r'outputs/network/county_network.csv'))\n",
    "df.index = df.county_name\n",
    "df.loc['Total',:] = df.sum().values\n",
    "df = df[['VMT','VHT','delay']]\n",
    "df"
   ]
  },
  {
   "cell_type": "raw",
   "id": "3354f05c",
   "metadata": {},
   "source": [
    "Model VMT versus county-level HPMS data"
   ]
  },
  {
   "cell_type": "code",
   "execution_count": 3,
   "id": "f0081206",
   "metadata": {
    "execution": {
     "iopub.execute_input": "2025-05-01T14:38:02.678849Z",
     "iopub.status.busy": "2025-05-01T14:38:02.678849Z",
     "iopub.status.idle": "2025-05-01T14:38:02.721164Z",
     "shell.execute_reply": "2025-05-01T14:38:02.721164Z"
    }
   },
   "outputs": [
    {
     "name": "stderr",
     "output_type": "stream",
     "text": [
      "C:\\Users\\modeller\\AppData\\Local\\Temp\\ipykernel_14240\\2489709904.py:14: FutureWarning:\n",
      "\n",
      "DataFrame.applymap has been deprecated. Use DataFrame.map instead.\n",
      "\n"
     ]
    },
    {
     "data": {
      "text/html": [
       "<div>\n",
       "<style scoped>\n",
       "    .dataframe tbody tr th:only-of-type {\n",
       "        vertical-align: middle;\n",
       "    }\n",
       "\n",
       "    .dataframe tbody tr th {\n",
       "        vertical-align: top;\n",
       "    }\n",
       "\n",
       "    .dataframe thead th {\n",
       "        text-align: right;\n",
       "    }\n",
       "</style>\n",
       "<table border=\"1\" class=\"dataframe\">\n",
       "  <thead>\n",
       "    <tr style=\"text-align: right;\">\n",
       "      <th></th>\n",
       "      <th>model</th>\n",
       "      <th>observed</th>\n",
       "      <th>% diff</th>\n",
       "    </tr>\n",
       "    <tr>\n",
       "      <th>county</th>\n",
       "      <th></th>\n",
       "      <th></th>\n",
       "      <th></th>\n",
       "    </tr>\n",
       "  </thead>\n",
       "  <tbody>\n",
       "    <tr>\n",
       "      <th>King</th>\n",
       "      <td>43,367,957</td>\n",
       "      <td>43,820,112</td>\n",
       "      <td>-1.0%</td>\n",
       "    </tr>\n",
       "    <tr>\n",
       "      <th>Kitsap</th>\n",
       "      <td>4,296,499</td>\n",
       "      <td>4,840,030</td>\n",
       "      <td>-11.2%</td>\n",
       "    </tr>\n",
       "    <tr>\n",
       "      <th>Pierce</th>\n",
       "      <td>18,485,584</td>\n",
       "      <td>17,994,803</td>\n",
       "      <td>2.7%</td>\n",
       "    </tr>\n",
       "    <tr>\n",
       "      <th>Snohomish</th>\n",
       "      <td>16,179,615</td>\n",
       "      <td>15,825,794</td>\n",
       "      <td>2.2%</td>\n",
       "    </tr>\n",
       "    <tr>\n",
       "      <th>Total</th>\n",
       "      <td>82,329,656</td>\n",
       "      <td>82,480,739</td>\n",
       "      <td>-0.2%</td>\n",
       "    </tr>\n",
       "  </tbody>\n",
       "</table>\n",
       "</div>"
      ],
      "text/plain": [
       "               model   observed  % diff\n",
       "county                                 \n",
       "King      43,367,957 43,820,112   -1.0%\n",
       "Kitsap     4,296,499  4,840,030  -11.2%\n",
       "Pierce    18,485,584 17,994,803    2.7%\n",
       "Snohomish 16,179,615 15,825,794    2.2%\n",
       "Total     82,329,656 82,480,739   -0.2%"
      ]
     },
     "execution_count": 3,
     "metadata": {},
     "output_type": "execute_result"
    }
   ],
   "source": [
    "df = pd.read_csv(os.path.join(valid_config['model_dir'], r'outputs/network/county_network.csv'))\n",
    "\n",
    "df_obs = pd.read_sql(\"SELECT * FROM observed_vmt WHERE year=\"+str(input_config['base_year']), con=conn)\n",
    "df_obs.rename(columns={'vmt': 'observed'}, inplace=True)\n",
    "\n",
    "df = df[['county_name','VMT']].merge(df_obs, left_on='county_name', right_on='county')\n",
    "df.rename(columns={'VMT': 'model'}, inplace=True)\n",
    "df.index = df['county']\n",
    "df[['observed','model']] = df[['observed','model']].astype('float')\n",
    "\n",
    "df.loc['Total',:] = df.sum().values\n",
    "\n",
    "df['% diff'] = (df['model']-df['observed'])/df['observed']\n",
    "df[['% diff']] = df[['% diff']].applymap(format_percent)\n",
    "df[['model','observed','% diff']]"
   ]
  },
  {
   "cell_type": "raw",
   "id": "12e1740a",
   "metadata": {},
   "source": [
    ":::"
   ]
  },
  {
   "cell_type": "markdown",
   "id": "916da9b1c4cbd6da",
   "metadata": {},
   "source": [
    "## Daily Traffic Counts"
   ]
  },
  {
   "cell_type": "raw",
   "id": "9ab84874b18330bc",
   "metadata": {},
   "source": [
    ":::{.panel-tabset}\n",
    "### traffic by facility type"
   ]
  },
  {
   "cell_type": "code",
   "execution_count": 4,
   "id": "3d0602498872d993",
   "metadata": {
    "ExecuteTime": {
     "end_time": "2024-06-24T21:13:27.250795Z",
     "start_time": "2024-06-24T21:13:26.984996Z"
    },
    "execution": {
     "iopub.execute_input": "2025-05-01T14:38:02.726149Z",
     "iopub.status.busy": "2025-05-01T14:38:02.725087Z",
     "iopub.status.idle": "2025-05-01T14:38:02.781790Z",
     "shell.execute_reply": "2025-05-01T14:38:02.780799Z"
    }
   },
   "outputs": [
    {
     "name": "stderr",
     "output_type": "stream",
     "text": [
      "C:\\Users\\modeller\\AppData\\Local\\Temp\\ipykernel_14240\\3988584661.py:7: FutureWarning:\n",
      "\n",
      "DataFrame.applymap has been deprecated. Use DataFrame.map instead.\n",
      "\n"
     ]
    },
    {
     "data": {
      "text/html": [
       "<div>\n",
       "<style scoped>\n",
       "    .dataframe tbody tr th:only-of-type {\n",
       "        vertical-align: middle;\n",
       "    }\n",
       "\n",
       "    .dataframe tbody tr th {\n",
       "        vertical-align: top;\n",
       "    }\n",
       "\n",
       "    .dataframe thead th {\n",
       "        text-align: right;\n",
       "    }\n",
       "</style>\n",
       "<table border=\"1\" class=\"dataframe\">\n",
       "  <thead>\n",
       "    <tr style=\"text-align: right;\">\n",
       "      <th></th>\n",
       "      <th>observed</th>\n",
       "      <th>modeled</th>\n",
       "      <th>diff</th>\n",
       "      <th>percent_diff</th>\n",
       "    </tr>\n",
       "    <tr>\n",
       "      <th>@facilitytype</th>\n",
       "      <th></th>\n",
       "      <th></th>\n",
       "      <th></th>\n",
       "      <th></th>\n",
       "    </tr>\n",
       "  </thead>\n",
       "  <tbody>\n",
       "    <tr>\n",
       "      <th>Arterial</th>\n",
       "      <td>13,059,811</td>\n",
       "      <td>13,049,777</td>\n",
       "      <td>-10,034</td>\n",
       "      <td>-0.1%</td>\n",
       "    </tr>\n",
       "    <tr>\n",
       "      <th>Collector</th>\n",
       "      <td>72,096</td>\n",
       "      <td>73,359</td>\n",
       "      <td>1,263</td>\n",
       "      <td>1.8%</td>\n",
       "    </tr>\n",
       "    <tr>\n",
       "      <th>Freeway</th>\n",
       "      <td>46,324,090</td>\n",
       "      <td>45,141,378</td>\n",
       "      <td>-1,182,712</td>\n",
       "      <td>-2.6%</td>\n",
       "    </tr>\n",
       "    <tr>\n",
       "      <th>HOV</th>\n",
       "      <td>246,054</td>\n",
       "      <td>281,929</td>\n",
       "      <td>35,875</td>\n",
       "      <td>14.6%</td>\n",
       "    </tr>\n",
       "    <tr>\n",
       "      <th>Ramp</th>\n",
       "      <td>334,132</td>\n",
       "      <td>262,424</td>\n",
       "      <td>-71,708</td>\n",
       "      <td>-21.5%</td>\n",
       "    </tr>\n",
       "    <tr>\n",
       "      <th>Total</th>\n",
       "      <td>60,036,183</td>\n",
       "      <td>58,808,867</td>\n",
       "      <td>-1,227,316</td>\n",
       "      <td>-2.0%</td>\n",
       "    </tr>\n",
       "  </tbody>\n",
       "</table>\n",
       "</div>"
      ],
      "text/plain": [
       "                observed    modeled       diff percent_diff\n",
       "@facilitytype                                              \n",
       "Arterial      13,059,811 13,049,777    -10,034        -0.1%\n",
       "Collector         72,096     73,359      1,263         1.8%\n",
       "Freeway       46,324,090 45,141,378 -1,182,712        -2.6%\n",
       "HOV              246,054    281,929     35,875        14.6%\n",
       "Ramp             334,132    262,424    -71,708       -21.5%\n",
       "Total         60,036,183 58,808,867 -1,227,316        -2.0%"
      ]
     },
     "execution_count": 4,
     "metadata": {},
     "output_type": "execute_result"
    }
   ],
   "source": [
    "df = pd.read_csv(os.path.join(csv_path, 'daily_volume.csv'))\n",
    "df[['modeled', 'observed']] = df[['modeled', 'observed']].astype('float')\n",
    "_df = df.groupby('@facilitytype').sum()[['observed', 'modeled']]\n",
    "_df.loc['Total', :] = _df.sum().values\n",
    "_df['diff'] = _df['modeled'] - _df['observed']\n",
    "_df['percent_diff'] = _df['diff'] / _df['observed']\n",
    "_df[['percent_diff']] = _df[['percent_diff']].applymap(format_percent)\n",
    "_df"
   ]
  },
  {
   "cell_type": "raw",
   "id": "318ed515b29396d1",
   "metadata": {},
   "source": [
    "### traffic by county"
   ]
  },
  {
   "cell_type": "code",
   "execution_count": 5,
   "id": "a9e08108f2b1ff34",
   "metadata": {
    "ExecuteTime": {
     "end_time": "2024-06-24T21:14:07.016217Z",
     "start_time": "2024-06-24T21:14:06.922235Z"
    },
    "execution": {
     "iopub.execute_input": "2025-05-01T14:38:02.786848Z",
     "iopub.status.busy": "2025-05-01T14:38:02.786848Z",
     "iopub.status.idle": "2025-05-01T14:38:02.834115Z",
     "shell.execute_reply": "2025-05-01T14:38:02.833042Z"
    }
   },
   "outputs": [
    {
     "name": "stderr",
     "output_type": "stream",
     "text": [
      "C:\\Users\\modeller\\AppData\\Local\\Temp\\ipykernel_14240\\4255960492.py:8: FutureWarning:\n",
      "\n",
      "DataFrame.applymap has been deprecated. Use DataFrame.map instead.\n",
      "\n"
     ]
    },
    {
     "data": {
      "text/html": [
       "<div>\n",
       "<style scoped>\n",
       "    .dataframe tbody tr th:only-of-type {\n",
       "        vertical-align: middle;\n",
       "    }\n",
       "\n",
       "    .dataframe tbody tr th {\n",
       "        vertical-align: top;\n",
       "    }\n",
       "\n",
       "    .dataframe thead th {\n",
       "        text-align: right;\n",
       "    }\n",
       "</style>\n",
       "<table border=\"1\" class=\"dataframe\">\n",
       "  <thead>\n",
       "    <tr style=\"text-align: right;\">\n",
       "      <th></th>\n",
       "      <th>observed</th>\n",
       "      <th>modeled</th>\n",
       "      <th>diff</th>\n",
       "      <th>percent_diff</th>\n",
       "    </tr>\n",
       "    <tr>\n",
       "      <th>county</th>\n",
       "      <th></th>\n",
       "      <th></th>\n",
       "      <th></th>\n",
       "      <th></th>\n",
       "    </tr>\n",
       "  </thead>\n",
       "  <tbody>\n",
       "    <tr>\n",
       "      <th>King</th>\n",
       "      <td>32,134,196</td>\n",
       "      <td>32,230,061</td>\n",
       "      <td>95,865</td>\n",
       "      <td>0.3%</td>\n",
       "    </tr>\n",
       "    <tr>\n",
       "      <th>Kitsap</th>\n",
       "      <td>3,636,120</td>\n",
       "      <td>2,822,937</td>\n",
       "      <td>-813,183</td>\n",
       "      <td>-22.4%</td>\n",
       "    </tr>\n",
       "    <tr>\n",
       "      <th>Pierce</th>\n",
       "      <td>12,442,361</td>\n",
       "      <td>12,619,580</td>\n",
       "      <td>177,219</td>\n",
       "      <td>1.4%</td>\n",
       "    </tr>\n",
       "    <tr>\n",
       "      <th>Snohomish</th>\n",
       "      <td>11,823,506</td>\n",
       "      <td>11,136,289</td>\n",
       "      <td>-687,217</td>\n",
       "      <td>-5.8%</td>\n",
       "    </tr>\n",
       "    <tr>\n",
       "      <th>Total</th>\n",
       "      <td>60,036,183</td>\n",
       "      <td>58,808,867</td>\n",
       "      <td>-1,227,316</td>\n",
       "      <td>-2.0%</td>\n",
       "    </tr>\n",
       "  </tbody>\n",
       "</table>\n",
       "</div>"
      ],
      "text/plain": [
       "            observed    modeled       diff percent_diff\n",
       "county                                                 \n",
       "King      32,134,196 32,230,061     95,865         0.3%\n",
       "Kitsap     3,636,120  2,822,937   -813,183       -22.4%\n",
       "Pierce    12,442,361 12,619,580    177,219         1.4%\n",
       "Snohomish 11,823,506 11,136,289   -687,217        -5.8%\n",
       "Total     60,036,183 58,808,867 -1,227,316        -2.0%"
      ]
     },
     "execution_count": 5,
     "metadata": {},
     "output_type": "execute_result"
    }
   ],
   "source": [
    "df = pd.read_csv(os.path.join(csv_path,'daily_volume_county_facility.csv'))\n",
    "df[['modeled','observed']] = df[['modeled','observed']].astype('float')\n",
    "\n",
    "_df = df.groupby('county').sum()[['observed','modeled']]\n",
    "_df.loc['Total',:] = _df.sum().values\n",
    "_df['diff'] = _df['modeled']-_df['observed']\n",
    "_df['percent_diff'] = _df['diff']/_df['observed']\n",
    "_df[['percent_diff']] = _df[['percent_diff']].applymap(format_percent)\n",
    "_df"
   ]
  },
  {
   "cell_type": "raw",
   "id": "4cbb7796cba1fac",
   "metadata": {},
   "source": [
    ":::"
   ]
  },
  {
   "cell_type": "markdown",
   "id": "1ed4a57b3001060f",
   "metadata": {},
   "source": [
    "## Daily Traffic Scatterplot"
   ]
  },
  {
   "cell_type": "raw",
   "id": "4769a675e263f0c4",
   "metadata": {},
   "source": [
    ":::{.panel-tabset}\n",
    "\n",
    "### all roads"
   ]
  },
  {
   "cell_type": "code",
   "execution_count": 6,
   "id": "2030adc6c52f8ab9",
   "metadata": {
    "ExecuteTime": {
     "end_time": "2024-06-24T21:40:18.699723Z",
     "start_time": "2024-06-24T21:40:18.277822Z"
    },
    "execution": {
     "iopub.execute_input": "2025-05-01T14:38:02.840085Z",
     "iopub.status.busy": "2025-05-01T14:38:02.839086Z",
     "iopub.status.idle": "2025-05-01T14:38:03.162320Z",
     "shell.execute_reply": "2025-05-01T14:38:03.161333Z"
    }
   },
   "outputs": [
    {
     "data": {
      "text/plain": [
       "[<matplotlib.lines.Line2D at 0x2536032e710>]"
      ]
     },
     "execution_count": 6,
     "metadata": {},
     "output_type": "execute_result"
    },
    {
     "data": {
      "image/png": "[encoded data removed]",
      "text/plain": [
       "<Figure size 640x480 with 1 Axes>"
      ]
     },
     "metadata": {},
     "output_type": "display_data"
    }
   ],
   "source": [
    "df = pd.read_csv(os.path.join(csv_path,'daily_volume.csv'))\n",
    "ax = df.plot(kind='scatter', x='observed', y='modeled')\n",
    "lim = df[['observed','modeled']].max().max()*1.05\n",
    "ax.set_ylim(0,lim)\n",
    "ax.set_xlim(0,lim)\n",
    "x = np.linspace(*ax.get_xlim())\n",
    "ax.plot(x, x)"
   ]
  },
  {
   "cell_type": "code",
   "execution_count": 7,
   "id": "4121d8204203b7a1",
   "metadata": {
    "ExecuteTime": {
     "end_time": "2024-06-24T21:40:35.668359Z",
     "start_time": "2024-06-24T21:40:35.652845Z"
    },
    "execution": {
     "iopub.execute_input": "2025-05-01T14:38:03.167918Z",
     "iopub.status.busy": "2025-05-01T14:38:03.167918Z",
     "iopub.status.idle": "2025-05-01T14:38:03.177902Z",
     "shell.execute_reply": "2025-05-01T14:38:03.176913Z"
    }
   },
   "outputs": [
    {
     "name": "stdout",
     "output_type": "stream",
     "text": [
      "r^2: 0.9660066246549027\n"
     ]
    }
   ],
   "source": [
    "slope, intercept, r_value, p_value, std_err = stats.linregress(df['observed'],df['modeled'])\n",
    "print('r^2: ' + str(r_value))"
   ]
  },
  {
   "cell_type": "raw",
   "id": "1cf84d74ba6e5dcb",
   "metadata": {},
   "source": [
    "### by county"
   ]
  },
  {
   "cell_type": "code",
   "execution_count": 8,
   "id": "ed6c7a6a78b76539",
   "metadata": {
    "ExecuteTime": {
     "end_time": "2024-06-24T21:41:13.949480Z",
     "start_time": "2024-06-24T21:41:13.122059Z"
    },
    "execution": {
     "iopub.execute_input": "2025-05-01T14:38:03.183887Z",
     "iopub.status.busy": "2025-05-01T14:38:03.182889Z",
     "iopub.status.idle": "2025-05-01T14:38:03.729987Z",
     "shell.execute_reply": "2025-05-01T14:38:03.729006Z"
    }
   },
   "outputs": [
    {
     "name": "stdout",
     "output_type": "stream",
     "text": [
      "King r^2: 0.9663519761803304\n",
      "Kitsap r^2: 0.9637737712240951\n",
      "Pierce r^2: 0.9668256621944221\n",
      "Snohomish r^2: 0.9625631734926484\n"
     ]
    },
    {
     "data": {
      "image/png": "[encoded data removed]",
      "text/plain": [
       "<Figure size 640x480 with 1 Axes>"
      ]
     },
     "metadata": {},
     "output_type": "display_data"
    },
    {
     "data": {
      "image/png": "[encoded data removed]",
      "text/plain": [
       "<Figure size 640x480 with 1 Axes>"
      ]
     },
     "metadata": {},
     "output_type": "display_data"
    },
    {
     "data": {
      "image/png": "[encoded data removed]",
      "text/plain": [
       "<Figure size 640x480 with 1 Axes>"
      ]
     },
     "metadata": {},
     "output_type": "display_data"
    },
    {
     "data": {
      "image/png": "[encoded data removed]",
      "text/plain": [
       "<Figure size 640x480 with 1 Axes>"
      ]
     },
     "metadata": {},
     "output_type": "display_data"
    }
   ],
   "source": [
    "for county in np.unique(df['county']):\n",
    "    _df = df[df['county'] == county]\n",
    "    ax = _df.plot(kind='scatter', x='observed', y='modeled', label=county)\n",
    "    lim = _df[['observed','modeled']].max().max()*1.05\n",
    "    ax.set_ylim(0,lim)\n",
    "    ax.set_xlim(0,lim)\n",
    "    slope, intercept, r_value, p_value, std_err = stats.linregress(_df['observed'],_df['modeled'])\n",
    "    x = np.linspace(*ax.get_xlim())\n",
    "    ax.plot(x, x)\n",
    "    print(str(county) + ' r^2: ' + str(r_value))"
   ]
  },
  {
   "cell_type": "raw",
   "id": "33fd1eaf4a4116cd",
   "metadata": {},
   "source": [
    "### by facility type"
   ]
  },
  {
   "cell_type": "code",
   "execution_count": 9,
   "id": "d56f85ef",
   "metadata": {
    "execution": {
     "iopub.execute_input": "2025-05-01T14:38:03.735970Z",
     "iopub.status.busy": "2025-05-01T14:38:03.734972Z",
     "iopub.status.idle": "2025-05-01T14:38:03.744884Z",
     "shell.execute_reply": "2025-05-01T14:38:03.743888Z"
    }
   },
   "outputs": [
    {
     "data": {
      "text/plain": [
       "array(['Freeway', 'Ramp', 'HOV', 'Arterial', 'Collector'], dtype=object)"
      ]
     },
     "execution_count": 9,
     "metadata": {},
     "output_type": "execute_result"
    }
   ],
   "source": [
    "df['@facilitytype'].unique()"
   ]
  },
  {
   "cell_type": "code",
   "execution_count": 10,
   "id": "4439d4607f364b6d",
   "metadata": {
    "ExecuteTime": {
     "end_time": "2024-06-24T21:41:37.621816Z",
     "start_time": "2024-06-24T21:41:37.152840Z"
    },
    "execution": {
     "iopub.execute_input": "2025-05-01T14:38:03.749868Z",
     "iopub.status.busy": "2025-05-01T14:38:03.749868Z",
     "iopub.status.idle": "2025-05-01T14:38:03.886691Z",
     "shell.execute_reply": "2025-05-01T14:38:03.885504Z"
    }
   },
   "outputs": [
    {
     "name": "stdout",
     "output_type": "stream",
     "text": [
      "r^2 Freeway: 0.9568246989523925\n"
     ]
    },
    {
     "data": {
      "image/png": "[encoded data removed]",
      "text/plain": [
       "<Figure size 640x480 with 1 Axes>"
      ]
     },
     "metadata": {},
     "output_type": "display_data"
    }
   ],
   "source": [
    "# for factype in ['Freeway','Arterial']:\n",
    "for factype in ['Freeway']:\n",
    "    _df = df[df['@facilitytype'] == factype]\n",
    "    ax = _df.plot(kind='scatter', x='observed', y='modeled', label=factype)\n",
    "    lim = _df[['observed','modeled']].max().max()*1.05\n",
    "    ax.set_ylim(0,lim)\n",
    "    ax.set_xlim(0,lim)\n",
    "    x = np.linspace(*ax.get_xlim())\n",
    "    ax.plot(x, x)\n",
    "    slope, intercept, r_value, p_value, std_err = stats.linregress(_df['observed'],_df['modeled'])\n",
    "    print('r^2 ' + str(factype) + ': ' + str(r_value))"
   ]
  },
  {
   "cell_type": "raw",
   "id": "95fc70f3fe7ad579",
   "metadata": {},
   "source": [
    ":::"
   ]
  },
  {
   "cell_type": "code",
   "execution_count": 11,
   "id": "25272c3f",
   "metadata": {
    "execution": {
     "iopub.execute_input": "2025-05-01T14:38:03.891986Z",
     "iopub.status.busy": "2025-05-01T14:38:03.891461Z",
     "iopub.status.idle": "2025-05-01T14:38:03.897311Z",
     "shell.execute_reply": "2025-05-01T14:38:03.896174Z"
    }
   },
   "outputs": [],
   "source": [
    "## hourly volumnes"
   ]
  },
  {
   "cell_type": "code",
   "execution_count": 12,
   "id": "2c7cb227ac728135",
   "metadata": {
    "ExecuteTime": {
     "end_time": "2024-06-24T21:42:50.230565Z",
     "start_time": "2024-06-24T21:42:49.902592Z"
    },
    "execution": {
     "iopub.execute_input": "2025-05-01T14:38:03.902808Z",
     "iopub.status.busy": "2025-05-01T14:38:03.901810Z",
     "iopub.status.idle": "2025-05-01T14:38:03.908913Z",
     "shell.execute_reply": "2025-05-01T14:38:03.907925Z"
    }
   },
   "outputs": [],
   "source": [
    "# df = pd.read_csv(os.path.join(csv_path,'hourly_volume.csv'))\n",
    "# ax = df.plot(kind='scatter', x='observed', y='modeled')\n",
    "# lim = df[['observed','modeled']].max().max()*1.05\n",
    "# ax.set_ylim(0,lim)\n",
    "# ax.set_xlim(0,lim)\n",
    "# x = np.linspace(*ax.get_xlim())\n",
    "# ax.plot(x, x)\n",
    "# slope, intercept, r_value, p_value, std_err = stats.linregress(df['observed'],df['modeled'])\n",
    "# print('r^2: ' + str(r_value))"
   ]
  },
  {
   "cell_type": "markdown",
   "id": "570811475e66e98d",
   "metadata": {},
   "source": [
    "## Screenlines"
   ]
  },
  {
   "cell_type": "code",
   "execution_count": 13,
   "id": "6ee15d11aa23ee15",
   "metadata": {
    "ExecuteTime": {
     "end_time": "2024-06-24T21:43:33.293169Z",
     "start_time": "2024-06-24T21:43:33.194667Z"
    },
    "execution": {
     "iopub.execute_input": "2025-05-01T14:38:03.914896Z",
     "iopub.status.busy": "2025-05-01T14:38:03.913899Z",
     "iopub.status.idle": "2025-05-01T14:38:03.953143Z",
     "shell.execute_reply": "2025-05-01T14:38:03.952147Z"
    }
   },
   "outputs": [
    {
     "name": "stderr",
     "output_type": "stream",
     "text": [
      "C:\\Users\\modeller\\AppData\\Local\\Temp\\ipykernel_14240\\2463447694.py:7: FutureWarning:\n",
      "\n",
      "DataFrame.applymap has been deprecated. Use DataFrame.map instead.\n",
      "\n"
     ]
    },
    {
     "data": {
      "text/html": [
       "<div>\n",
       "<style scoped>\n",
       "    .dataframe tbody tr th:only-of-type {\n",
       "        vertical-align: middle;\n",
       "    }\n",
       "\n",
       "    .dataframe tbody tr th {\n",
       "        vertical-align: top;\n",
       "    }\n",
       "\n",
       "    .dataframe thead th {\n",
       "        text-align: right;\n",
       "    }\n",
       "</style>\n",
       "<table border=\"1\" class=\"dataframe\">\n",
       "  <thead>\n",
       "    <tr style=\"text-align: right;\">\n",
       "      <th></th>\n",
       "      <th>name</th>\n",
       "      <th>observed</th>\n",
       "      <th>modeled</th>\n",
       "      <th>county</th>\n",
       "      <th>diff</th>\n",
       "      <th>percent_diff</th>\n",
       "    </tr>\n",
       "  </thead>\n",
       "  <tbody>\n",
       "    <tr>\n",
       "      <th>0</th>\n",
       "      <td>AUBURN - SOUTH KING</td>\n",
       "      <td>592,476</td>\n",
       "      <td>518,462</td>\n",
       "      <td>King</td>\n",
       "      <td>-74,014</td>\n",
       "      <td>-12.5%</td>\n",
       "    </tr>\n",
       "    <tr>\n",
       "      <th>1</th>\n",
       "      <td>KENT</td>\n",
       "      <td>559,335</td>\n",
       "      <td>489,463</td>\n",
       "      <td>King</td>\n",
       "      <td>-69,872</td>\n",
       "      <td>-12.5%</td>\n",
       "    </tr>\n",
       "    <tr>\n",
       "      <th>2</th>\n",
       "      <td>SHIP CANAL</td>\n",
       "      <td>481,563</td>\n",
       "      <td>496,238</td>\n",
       "      <td>King</td>\n",
       "      <td>14,675</td>\n",
       "      <td>3.0%</td>\n",
       "    </tr>\n",
       "    <tr>\n",
       "      <th>3</th>\n",
       "      <td>SEATTLE - SOUTH OF CBD</td>\n",
       "      <td>473,322</td>\n",
       "      <td>462,750</td>\n",
       "      <td>King</td>\n",
       "      <td>-10,572</td>\n",
       "      <td>-2.2%</td>\n",
       "    </tr>\n",
       "    <tr>\n",
       "      <th>4</th>\n",
       "      <td>MILL CREEK</td>\n",
       "      <td>391,447</td>\n",
       "      <td>369,068</td>\n",
       "      <td>King</td>\n",
       "      <td>-22,379</td>\n",
       "      <td>-5.7%</td>\n",
       "    </tr>\n",
       "    <tr>\n",
       "      <th>5</th>\n",
       "      <td>SOUTH BELLEVUE</td>\n",
       "      <td>389,700</td>\n",
       "      <td>363,476</td>\n",
       "      <td>King</td>\n",
       "      <td>-26,224</td>\n",
       "      <td>-6.7%</td>\n",
       "    </tr>\n",
       "    <tr>\n",
       "      <th>6</th>\n",
       "      <td>KIRKLAND-REDMOND</td>\n",
       "      <td>380,783</td>\n",
       "      <td>382,453</td>\n",
       "      <td>King</td>\n",
       "      <td>1,670</td>\n",
       "      <td>0.4%</td>\n",
       "    </tr>\n",
       "    <tr>\n",
       "      <th>7</th>\n",
       "      <td>SEATTLE - NORTH</td>\n",
       "      <td>356,051</td>\n",
       "      <td>344,614</td>\n",
       "      <td>King</td>\n",
       "      <td>-11,437</td>\n",
       "      <td>-3.2%</td>\n",
       "    </tr>\n",
       "    <tr>\n",
       "      <th>8</th>\n",
       "      <td>TACOMA - EAST OF CBD</td>\n",
       "      <td>324,463</td>\n",
       "      <td>337,921</td>\n",
       "      <td>Pierce</td>\n",
       "      <td>13,458</td>\n",
       "      <td>4.1%</td>\n",
       "    </tr>\n",
       "    <tr>\n",
       "      <th>9</th>\n",
       "      <td>PARKLAND</td>\n",
       "      <td>299,722</td>\n",
       "      <td>269,496</td>\n",
       "      <td>Pierce</td>\n",
       "      <td>-30,226</td>\n",
       "      <td>-10.1%</td>\n",
       "    </tr>\n",
       "    <tr>\n",
       "      <th>10</th>\n",
       "      <td>BOTHELL</td>\n",
       "      <td>291,573</td>\n",
       "      <td>308,965</td>\n",
       "      <td>King</td>\n",
       "      <td>17,392</td>\n",
       "      <td>6.0%</td>\n",
       "    </tr>\n",
       "    <tr>\n",
       "      <th>11</th>\n",
       "      <td>LYNNWOOD-BOTHELL</td>\n",
       "      <td>260,099</td>\n",
       "      <td>293,294</td>\n",
       "      <td>King</td>\n",
       "      <td>33,195</td>\n",
       "      <td>12.8%</td>\n",
       "    </tr>\n",
       "    <tr>\n",
       "      <th>12</th>\n",
       "      <td>TUKWILA</td>\n",
       "      <td>257,776</td>\n",
       "      <td>237,843</td>\n",
       "      <td>King</td>\n",
       "      <td>-19,933</td>\n",
       "      <td>-7.7%</td>\n",
       "    </tr>\n",
       "    <tr>\n",
       "      <th>13</th>\n",
       "      <td>TRANSLAKE</td>\n",
       "      <td>222,188</td>\n",
       "      <td>240,036</td>\n",
       "      <td>King</td>\n",
       "      <td>17,848</td>\n",
       "      <td>8.0%</td>\n",
       "    </tr>\n",
       "    <tr>\n",
       "      <th>14</th>\n",
       "      <td>PUYALLUP</td>\n",
       "      <td>128,700</td>\n",
       "      <td>122,655</td>\n",
       "      <td>Pierce</td>\n",
       "      <td>-6,045</td>\n",
       "      <td>-4.7%</td>\n",
       "    </tr>\n",
       "    <tr>\n",
       "      <th>15</th>\n",
       "      <td>WOODINVILLE</td>\n",
       "      <td>116,355</td>\n",
       "      <td>129,733</td>\n",
       "      <td>King</td>\n",
       "      <td>13,378</td>\n",
       "      <td>11.5%</td>\n",
       "    </tr>\n",
       "    <tr>\n",
       "      <th>16</th>\n",
       "      <td>NORTH KITSAP</td>\n",
       "      <td>104,890</td>\n",
       "      <td>72,920</td>\n",
       "      <td>Kitsap</td>\n",
       "      <td>-31,970</td>\n",
       "      <td>-30.5%</td>\n",
       "    </tr>\n",
       "    <tr>\n",
       "      <th>17</th>\n",
       "      <td>TACOMA NARROWS</td>\n",
       "      <td>97,300</td>\n",
       "      <td>108,097</td>\n",
       "      <td>Pierce</td>\n",
       "      <td>10,797</td>\n",
       "      <td>11.1%</td>\n",
       "    </tr>\n",
       "    <tr>\n",
       "      <th>18</th>\n",
       "      <td>PRESTON-ISSAQUAH</td>\n",
       "      <td>86,462</td>\n",
       "      <td>85,989</td>\n",
       "      <td>King</td>\n",
       "      <td>-473</td>\n",
       "      <td>-0.5%</td>\n",
       "    </tr>\n",
       "    <tr>\n",
       "      <th>19</th>\n",
       "      <td>GIG HARBOR</td>\n",
       "      <td>84,875</td>\n",
       "      <td>85,969</td>\n",
       "      <td>Pierce</td>\n",
       "      <td>1,094</td>\n",
       "      <td>1.3%</td>\n",
       "    </tr>\n",
       "    <tr>\n",
       "      <th>20</th>\n",
       "      <td>SEATAC</td>\n",
       "      <td>72,402</td>\n",
       "      <td>87,815</td>\n",
       "      <td>King</td>\n",
       "      <td>15,413</td>\n",
       "      <td>21.3%</td>\n",
       "    </tr>\n",
       "    <tr>\n",
       "      <th>21</th>\n",
       "      <td>MAPLE VALLEY</td>\n",
       "      <td>70,813</td>\n",
       "      <td>60,943</td>\n",
       "      <td>King</td>\n",
       "      <td>-9,870</td>\n",
       "      <td>-13.9%</td>\n",
       "    </tr>\n",
       "    <tr>\n",
       "      <th>22</th>\n",
       "      <td>RENTON</td>\n",
       "      <td>68,127</td>\n",
       "      <td>67,501</td>\n",
       "      <td>King</td>\n",
       "      <td>-626</td>\n",
       "      <td>-0.9%</td>\n",
       "    </tr>\n",
       "    <tr>\n",
       "      <th>23</th>\n",
       "      <td>AGATE PASS BRIDGE</td>\n",
       "      <td>21,000</td>\n",
       "      <td>20,331</td>\n",
       "      <td>Kitsap</td>\n",
       "      <td>-669</td>\n",
       "      <td>-3.2%</td>\n",
       "    </tr>\n",
       "    <tr>\n",
       "      <th>24</th>\n",
       "      <td>CROSS SOUND</td>\n",
       "      <td>14,302</td>\n",
       "      <td>15,520</td>\n",
       "      <td>Kitsap</td>\n",
       "      <td>1,218</td>\n",
       "      <td>8.5%</td>\n",
       "    </tr>\n",
       "    <tr>\n",
       "      <th>25</th>\n",
       "      <td>TOTAL</td>\n",
       "      <td>6,145,724</td>\n",
       "      <td>5,971,550</td>\n",
       "      <td>NaN</td>\n",
       "      <td>-174,174</td>\n",
       "      <td>-2.8%</td>\n",
       "    </tr>\n",
       "  </tbody>\n",
       "</table>\n",
       "</div>"
      ],
      "text/plain": [
       "                      name  observed   modeled  county     diff percent_diff\n",
       "0      AUBURN - SOUTH KING   592,476   518,462    King  -74,014       -12.5%\n",
       "1                     KENT   559,335   489,463    King  -69,872       -12.5%\n",
       "2               SHIP CANAL   481,563   496,238    King   14,675         3.0%\n",
       "3   SEATTLE - SOUTH OF CBD   473,322   462,750    King  -10,572        -2.2%\n",
       "4               MILL CREEK   391,447   369,068    King  -22,379        -5.7%\n",
       "5           SOUTH BELLEVUE   389,700   363,476    King  -26,224        -6.7%\n",
       "6         KIRKLAND-REDMOND   380,783   382,453    King    1,670         0.4%\n",
       "7          SEATTLE - NORTH   356,051   344,614    King  -11,437        -3.2%\n",
       "8     TACOMA - EAST OF CBD   324,463   337,921  Pierce   13,458         4.1%\n",
       "9                 PARKLAND   299,722   269,496  Pierce  -30,226       -10.1%\n",
       "10                 BOTHELL   291,573   308,965    King   17,392         6.0%\n",
       "11        LYNNWOOD-BOTHELL   260,099   293,294    King   33,195        12.8%\n",
       "12                 TUKWILA   257,776   237,843    King  -19,933        -7.7%\n",
       "13               TRANSLAKE   222,188   240,036    King   17,848         8.0%\n",
       "14                PUYALLUP   128,700   122,655  Pierce   -6,045        -4.7%\n",
       "15             WOODINVILLE   116,355   129,733    King   13,378        11.5%\n",
       "16            NORTH KITSAP   104,890    72,920  Kitsap  -31,970       -30.5%\n",
       "17          TACOMA NARROWS    97,300   108,097  Pierce   10,797        11.1%\n",
       "18        PRESTON-ISSAQUAH    86,462    85,989    King     -473        -0.5%\n",
       "19              GIG HARBOR    84,875    85,969  Pierce    1,094         1.3%\n",
       "20                  SEATAC    72,402    87,815    King   15,413        21.3%\n",
       "21            MAPLE VALLEY    70,813    60,943    King   -9,870       -13.9%\n",
       "22                  RENTON    68,127    67,501    King     -626        -0.9%\n",
       "23       AGATE PASS BRIDGE    21,000    20,331  Kitsap     -669        -3.2%\n",
       "24             CROSS SOUND    14,302    15,520  Kitsap    1,218         8.5%\n",
       "25                   TOTAL 6,145,724 5,971,550     NaN -174,174        -2.8%"
      ]
     },
     "execution_count": 13,
     "metadata": {},
     "output_type": "execute_result"
    }
   ],
   "source": [
    "df = pd.read_csv(os.path.join(csv_path,'screenlines.csv'))\n",
    "df.loc[df.index.max() + 1]= df.sum(numeric_only=True)\n",
    "#df = df.append(df.sum(numeric_only=True), ignore_index=True)\n",
    "df.at[df.index[-1], 'name'] = 'TOTAL'\n",
    "#df.at['C', 'name'] = 10\n",
    "df['percent_diff'] = df['diff']/df['observed']\n",
    "df[['percent_diff']] = df[['percent_diff']].applymap(format_percent)\n",
    "df"
   ]
  },
  {
   "cell_type": "code",
   "execution_count": 14,
   "id": "85e33c82ecdece63",
   "metadata": {
    "ExecuteTime": {
     "end_time": "2024-06-24T21:43:47.402427Z",
     "start_time": "2024-06-24T21:43:47.214746Z"
    },
    "execution": {
     "iopub.execute_input": "2025-05-01T14:38:03.958198Z",
     "iopub.status.busy": "2025-05-01T14:38:03.957133Z",
     "iopub.status.idle": "2025-05-01T14:38:04.102614Z",
     "shell.execute_reply": "2025-05-01T14:38:04.101617Z"
    }
   },
   "outputs": [
    {
     "name": "stdout",
     "output_type": "stream",
     "text": [
      "r^2 : 0.9907552897597844\n"
     ]
    },
    {
     "data": {
      "image/png": "[encoded data removed]",
      "text/plain": [
       "<Figure size 640x480 with 1 Axes>"
      ]
     },
     "metadata": {},
     "output_type": "display_data"
    }
   ],
   "source": [
    "df = df.head(-1)\n",
    "ax = df.plot(kind='scatter', x='observed', y='modeled')\n",
    "lim = df[['observed','modeled']].max().max()*1.05\n",
    "ax.set_ylim(0,lim)\n",
    "ax.set_xlim(0,lim)\n",
    "x = np.linspace(*ax.get_xlim())\n",
    "ax.plot(x, x)\n",
    "slope, intercept, r_value, p_value, std_err = stats.linregress(df['observed'],df['modeled'])\n",
    "print('r^2 : ' + str(r_value))"
   ]
  },
  {
   "cell_type": "markdown",
   "id": "6e3acde1",
   "metadata": {},
   "source": [
    "# External Stations"
   ]
  },
  {
   "cell_type": "raw",
   "id": "bf56b611",
   "metadata": {},
   "source": [
    ":::{.panel-tabset}\n",
    "### Observed vs Model Counts"
   ]
  },
  {
   "cell_type": "code",
   "execution_count": 15,
   "id": "3995fd29",
   "metadata": {
    "execution": {
     "iopub.execute_input": "2025-05-01T14:38:04.108571Z",
     "iopub.status.busy": "2025-05-01T14:38:04.108042Z",
     "iopub.status.idle": "2025-05-01T14:38:04.139492Z",
     "shell.execute_reply": "2025-05-01T14:38:04.138323Z"
    }
   },
   "outputs": [
    {
     "name": "stderr",
     "output_type": "stream",
     "text": [
      "C:\\Users\\modeller\\AppData\\Local\\Temp\\ipykernel_14240\\2144700014.py:3: FutureWarning:\n",
      "\n",
      "DataFrame.applymap has been deprecated. Use DataFrame.map instead.\n",
      "\n"
     ]
    },
    {
     "data": {
      "text/html": [
       "<div>\n",
       "<style scoped>\n",
       "    .dataframe tbody tr th:only-of-type {\n",
       "        vertical-align: middle;\n",
       "    }\n",
       "\n",
       "    .dataframe tbody tr th {\n",
       "        vertical-align: top;\n",
       "    }\n",
       "\n",
       "    .dataframe thead th {\n",
       "        text-align: right;\n",
       "    }\n",
       "</style>\n",
       "<table border=\"1\" class=\"dataframe\">\n",
       "  <thead>\n",
       "    <tr style=\"text-align: right;\">\n",
       "      <th></th>\n",
       "      <th>external_station</th>\n",
       "      <th>location</th>\n",
       "      <th>county</th>\n",
       "      <th>observed</th>\n",
       "      <th>modeled</th>\n",
       "      <th>diff</th>\n",
       "      <th>percent_diff</th>\n",
       "    </tr>\n",
       "  </thead>\n",
       "  <tbody>\n",
       "    <tr>\n",
       "      <th>0</th>\n",
       "      <td>3733</td>\n",
       "      <td>I-5 to Olympia</td>\n",
       "      <td>Pierce</td>\n",
       "      <td>129,250</td>\n",
       "      <td>131,022</td>\n",
       "      <td>1,772</td>\n",
       "      <td>1.4%</td>\n",
       "    </tr>\n",
       "    <tr>\n",
       "      <th>1</th>\n",
       "      <td>3744</td>\n",
       "      <td>I-5 to Mount Vernon</td>\n",
       "      <td>Snohomish</td>\n",
       "      <td>65,880</td>\n",
       "      <td>64,124</td>\n",
       "      <td>-1,756</td>\n",
       "      <td>-2.7%</td>\n",
       "    </tr>\n",
       "    <tr>\n",
       "      <th>2</th>\n",
       "      <td>3739</td>\n",
       "      <td>I-90 @ Snoqualmie Pass</td>\n",
       "      <td>King</td>\n",
       "      <td>30,500</td>\n",
       "      <td>33,275</td>\n",
       "      <td>2,775</td>\n",
       "      <td>9.1%</td>\n",
       "    </tr>\n",
       "    <tr>\n",
       "      <th>3</th>\n",
       "      <td>3734</td>\n",
       "      <td>SR-507 to Yelm</td>\n",
       "      <td>Pierce</td>\n",
       "      <td>22,700</td>\n",
       "      <td>22,727</td>\n",
       "      <td>27</td>\n",
       "      <td>0.1%</td>\n",
       "    </tr>\n",
       "    <tr>\n",
       "      <th>4</th>\n",
       "      <td>3746</td>\n",
       "      <td>SR-532 to Camano Island</td>\n",
       "      <td>Snohomish</td>\n",
       "      <td>21,250</td>\n",
       "      <td>20,766</td>\n",
       "      <td>-484</td>\n",
       "      <td>-2.3%</td>\n",
       "    </tr>\n",
       "    <tr>\n",
       "      <th>5</th>\n",
       "      <td>3749</td>\n",
       "      <td>SR-3 to Belfair</td>\n",
       "      <td>Kitsap</td>\n",
       "      <td>20,329</td>\n",
       "      <td>18,154</td>\n",
       "      <td>-2,175</td>\n",
       "      <td>-10.7%</td>\n",
       "    </tr>\n",
       "    <tr>\n",
       "      <th>6</th>\n",
       "      <td>3748</td>\n",
       "      <td>Hood Canal Bridge</td>\n",
       "      <td>Kitsap</td>\n",
       "      <td>18,200</td>\n",
       "      <td>17,836</td>\n",
       "      <td>-364</td>\n",
       "      <td>-2.0%</td>\n",
       "    </tr>\n",
       "    <tr>\n",
       "      <th>7</th>\n",
       "      <td>3747</td>\n",
       "      <td>Mukilteo-Clinton Ferry</td>\n",
       "      <td>Snohomish</td>\n",
       "      <td>9,800</td>\n",
       "      <td>5,965</td>\n",
       "      <td>-3,835</td>\n",
       "      <td>-39.1%</td>\n",
       "    </tr>\n",
       "    <tr>\n",
       "      <th>8</th>\n",
       "      <td>3745</td>\n",
       "      <td>SR-530 N/O Stanwood</td>\n",
       "      <td>Snohomish</td>\n",
       "      <td>9,100</td>\n",
       "      <td>9,168</td>\n",
       "      <td>68</td>\n",
       "      <td>0.8%</td>\n",
       "    </tr>\n",
       "    <tr>\n",
       "      <th>9</th>\n",
       "      <td>3750</td>\n",
       "      <td>SR-302 to Shelton</td>\n",
       "      <td>Pierce</td>\n",
       "      <td>4,550</td>\n",
       "      <td>4,560</td>\n",
       "      <td>10</td>\n",
       "      <td>0.2%</td>\n",
       "    </tr>\n",
       "    <tr>\n",
       "      <th>10</th>\n",
       "      <td>3740</td>\n",
       "      <td>SR-2 @ Stevens Pass</td>\n",
       "      <td>King</td>\n",
       "      <td>3,050</td>\n",
       "      <td>4,569</td>\n",
       "      <td>1,519</td>\n",
       "      <td>49.8%</td>\n",
       "    </tr>\n",
       "    <tr>\n",
       "      <th>11</th>\n",
       "      <td>3735</td>\n",
       "      <td>SR-7 to Morton</td>\n",
       "      <td>Pierce</td>\n",
       "      <td>2,900</td>\n",
       "      <td>2,737</td>\n",
       "      <td>-163</td>\n",
       "      <td>-5.6%</td>\n",
       "    </tr>\n",
       "    <tr>\n",
       "      <th>12</th>\n",
       "      <td>3742</td>\n",
       "      <td>SR-530 N/O Darrington</td>\n",
       "      <td>Snohomish</td>\n",
       "      <td>2,100</td>\n",
       "      <td>2,105</td>\n",
       "      <td>5</td>\n",
       "      <td>0.2%</td>\n",
       "    </tr>\n",
       "    <tr>\n",
       "      <th>13</th>\n",
       "      <td>3736</td>\n",
       "      <td>SR-706 to Longmire</td>\n",
       "      <td>Pierce</td>\n",
       "      <td>1,800</td>\n",
       "      <td>1,805</td>\n",
       "      <td>5</td>\n",
       "      <td>0.3%</td>\n",
       "    </tr>\n",
       "    <tr>\n",
       "      <th>14</th>\n",
       "      <td>3743</td>\n",
       "      <td>SR-9 N/O Arlington</td>\n",
       "      <td>Snohomish</td>\n",
       "      <td>1,450</td>\n",
       "      <td>1,535</td>\n",
       "      <td>85</td>\n",
       "      <td>5.9%</td>\n",
       "    </tr>\n",
       "    <tr>\n",
       "      <th>15</th>\n",
       "      <td>3738</td>\n",
       "      <td>SR 410 E/O Cayuse Pass</td>\n",
       "      <td>Pierce</td>\n",
       "      <td>1,200</td>\n",
       "      <td>996</td>\n",
       "      <td>-204</td>\n",
       "      <td>-17.0%</td>\n",
       "    </tr>\n",
       "    <tr>\n",
       "      <th>16</th>\n",
       "      <td>3737</td>\n",
       "      <td>SR-123 S/O Cayuse Pass</td>\n",
       "      <td>Pierce</td>\n",
       "      <td>920</td>\n",
       "      <td>1,056</td>\n",
       "      <td>136</td>\n",
       "      <td>14.7%</td>\n",
       "    </tr>\n",
       "    <tr>\n",
       "      <th>17</th>\n",
       "      <td>3741</td>\n",
       "      <td>SR-92 to Monte Carlo</td>\n",
       "      <td>Snohomish</td>\n",
       "      <td>90</td>\n",
       "      <td>89</td>\n",
       "      <td>-1</td>\n",
       "      <td>-1.5%</td>\n",
       "    </tr>\n",
       "  </tbody>\n",
       "</table>\n",
       "</div>"
      ],
      "text/plain": [
       "    external_station                 location     county  observed  modeled  \\\n",
       "0               3733           I-5 to Olympia     Pierce   129,250  131,022   \n",
       "1               3744      I-5 to Mount Vernon  Snohomish    65,880   64,124   \n",
       "2               3739   I-90 @ Snoqualmie Pass       King    30,500   33,275   \n",
       "3               3734           SR-507 to Yelm     Pierce    22,700   22,727   \n",
       "4               3746  SR-532 to Camano Island  Snohomish    21,250   20,766   \n",
       "5               3749          SR-3 to Belfair     Kitsap    20,329   18,154   \n",
       "6               3748        Hood Canal Bridge     Kitsap    18,200   17,836   \n",
       "7               3747   Mukilteo-Clinton Ferry  Snohomish     9,800    5,965   \n",
       "8               3745      SR-530 N/O Stanwood  Snohomish     9,100    9,168   \n",
       "9               3750        SR-302 to Shelton     Pierce     4,550    4,560   \n",
       "10              3740      SR-2 @ Stevens Pass       King     3,050    4,569   \n",
       "11              3735           SR-7 to Morton     Pierce     2,900    2,737   \n",
       "12              3742    SR-530 N/O Darrington  Snohomish     2,100    2,105   \n",
       "13              3736       SR-706 to Longmire     Pierce     1,800    1,805   \n",
       "14              3743       SR-9 N/O Arlington  Snohomish     1,450    1,535   \n",
       "15              3738   SR 410 E/O Cayuse Pass     Pierce     1,200      996   \n",
       "16              3737   SR-123 S/O Cayuse Pass     Pierce       920    1,056   \n",
       "17              3741     SR-92 to Monte Carlo  Snohomish        90       89   \n",
       "\n",
       "     diff percent_diff  \n",
       "0   1,772         1.4%  \n",
       "1  -1,756        -2.7%  \n",
       "2   2,775         9.1%  \n",
       "3      27         0.1%  \n",
       "4    -484        -2.3%  \n",
       "5  -2,175       -10.7%  \n",
       "6    -364        -2.0%  \n",
       "7  -3,835       -39.1%  \n",
       "8      68         0.8%  \n",
       "9      10         0.2%  \n",
       "10  1,519        49.8%  \n",
       "11   -163        -5.6%  \n",
       "12      5         0.2%  \n",
       "13      5         0.3%  \n",
       "14     85         5.9%  \n",
       "15   -204       -17.0%  \n",
       "16    136        14.7%  \n",
       "17     -1        -1.5%  "
      ]
     },
     "execution_count": 15,
     "metadata": {},
     "output_type": "execute_result"
    }
   ],
   "source": [
    "df = pd.read_csv(os.path.join(csv_path,'external_volumes.csv'))\n",
    "df['percent_diff'] = df['diff']/df['observed']\n",
    "df[['percent_diff']] = df[['percent_diff']].applymap(format_percent)\n",
    "df"
   ]
  },
  {
   "cell_type": "code",
   "execution_count": 16,
   "id": "9006a5e5",
   "metadata": {
    "execution": {
     "iopub.execute_input": "2025-05-01T14:38:04.145156Z",
     "iopub.status.busy": "2025-05-01T14:38:04.144157Z",
     "iopub.status.idle": "2025-05-01T14:38:04.274367Z",
     "shell.execute_reply": "2025-05-01T14:38:04.273833Z"
    }
   },
   "outputs": [
    {
     "name": "stdout",
     "output_type": "stream",
     "text": [
      "r^2 : 0.9990066604550166\n"
     ]
    },
    {
     "data": {
      "image/png": "[encoded data removed]",
      "text/plain": [
       "<Figure size 640x480 with 1 Axes>"
      ]
     },
     "metadata": {},
     "output_type": "display_data"
    }
   ],
   "source": [
    "df = df.head(-1)\n",
    "ax = df.plot(kind='scatter', x='observed', y='modeled')\n",
    "lim = df[['observed','modeled']].max().max()*1.05\n",
    "ax.set_ylim(0,lim)\n",
    "ax.set_xlim(0,lim)\n",
    "x = np.linspace(*ax.get_xlim())\n",
    "ax.plot(x, x)\n",
    "slope, intercept, r_value, p_value, std_err = stats.linregress(df['observed'],df['modeled'])\n",
    "print('r^2 : ' + str(r_value))"
   ]
  },
  {
   "cell_type": "raw",
   "id": "7cd73d93",
   "metadata": {},
   "source": [
    "### Model VMT/Trips by Mode"
   ]
  },
  {
   "cell_type": "code",
   "execution_count": 17,
   "id": "4632dadd",
   "metadata": {
    "execution": {
     "iopub.execute_input": "2025-05-01T14:38:04.280572Z",
     "iopub.status.busy": "2025-05-01T14:38:04.279572Z",
     "iopub.status.idle": "2025-05-01T14:38:10.093908Z",
     "shell.execute_reply": "2025-05-01T14:38:10.092915Z"
    }
   },
   "outputs": [],
   "source": [
    "## External trips/VMT\n",
    "df_23 = h5py.File(r'..\\..\\..\\..\\inputs\\model\\daysim\\roster\\7to8.h5')\n",
    "df_23_skims_sov = df_23['Skims']['sov_inc2d'][:]/100\n",
    "df_23_skims_hov2 = df_23['Skims']['hov2_inc2d'][:]/100\n",
    "df_23_skims_hov3 = df_23['Skims']['hov3_inc2d'][:]/100\n",
    "\n",
    "df_results_new = pd.DataFrame()\n",
    "\n",
    "tod_list = ['5to6', '6to7', '7to8', '8to9', '9to10', '10to14', '14to15', '15to16', '16to17', '17to18', '18to20', '20to5']\n",
    "for tod in tod_list:\n",
    "#     print(tod)\n",
    "    df_temp = pd.DataFrame()\n",
    "    for mode in ['sov','hov2','hov3']:\n",
    "#         print(mode)\n",
    "        od_new = h5py.File(r'..\\..\\..\\..\\outputs\\supplemental\\external_work_'+tod+'.h5', 'r')[mode][:]\n",
    "        df_temp.loc[tod,mode+'_vmt'] = (df_23_skims_sov*od_new).sum()\n",
    "        df_temp.loc[tod,mode+'_trips'] = od_new.sum()\n",
    "        df_temp.loc[tod,mode+'_avg_dist'] = df_temp.loc[tod,mode+'_vmt']/df_temp.loc[tod,mode+'_trips']\n",
    "    df_results_new = pd.concat([df_results_new, df_temp ])"
   ]
  },
  {
   "cell_type": "code",
   "execution_count": 18,
   "id": "b8c74662",
   "metadata": {
    "execution": {
     "iopub.execute_input": "2025-05-01T14:38:10.097897Z",
     "iopub.status.busy": "2025-05-01T14:38:10.096900Z",
     "iopub.status.idle": "2025-05-01T14:38:10.115590Z",
     "shell.execute_reply": "2025-05-01T14:38:10.114914Z"
    }
   },
   "outputs": [
    {
     "data": {
      "text/html": [
       "<div>\n",
       "<style scoped>\n",
       "    .dataframe tbody tr th:only-of-type {\n",
       "        vertical-align: middle;\n",
       "    }\n",
       "\n",
       "    .dataframe tbody tr th {\n",
       "        vertical-align: top;\n",
       "    }\n",
       "\n",
       "    .dataframe thead th {\n",
       "        text-align: right;\n",
       "    }\n",
       "</style>\n",
       "<table border=\"1\" class=\"dataframe\">\n",
       "  <thead>\n",
       "    <tr style=\"text-align: right;\">\n",
       "      <th></th>\n",
       "      <th>VMT</th>\n",
       "      <th>Trips</th>\n",
       "      <th>Avg Distance</th>\n",
       "    </tr>\n",
       "  </thead>\n",
       "  <tbody>\n",
       "    <tr>\n",
       "      <th>SOV</th>\n",
       "      <td>7,565,134</td>\n",
       "      <td>237,921</td>\n",
       "      <td>32</td>\n",
       "    </tr>\n",
       "    <tr>\n",
       "      <th>HOV2</th>\n",
       "      <td>574,773</td>\n",
       "      <td>18,304</td>\n",
       "      <td>31</td>\n",
       "    </tr>\n",
       "    <tr>\n",
       "      <th>HOV3</th>\n",
       "      <td>211,883</td>\n",
       "      <td>6,392</td>\n",
       "      <td>33</td>\n",
       "    </tr>\n",
       "    <tr>\n",
       "      <th>Total</th>\n",
       "      <td>8,351,790</td>\n",
       "      <td>262,617</td>\n",
       "      <td>32</td>\n",
       "    </tr>\n",
       "  </tbody>\n",
       "</table>\n",
       "</div>"
      ],
      "text/plain": [
       "            VMT   Trips  Avg Distance\n",
       "SOV   7,565,134 237,921            32\n",
       "HOV2    574,773  18,304            31\n",
       "HOV3    211,883   6,392            33\n",
       "Total 8,351,790 262,617            32"
      ]
     },
     "execution_count": 18,
     "metadata": {},
     "output_type": "execute_result"
    }
   ],
   "source": [
    "df_vmt = pd.DataFrame(df_results_new[['sov_vmt','hov2_vmt','hov3_vmt']].sum(),\n",
    "            columns=['VMT'])\n",
    "df_vmt.index = [i.split('_')[0].upper() for i in df_vmt.index]\n",
    "\n",
    "df_trips = pd.DataFrame(df_results_new[['sov_trips','hov2_trips','hov3_trips']].sum(),\n",
    "            columns=['Trips'])\n",
    "df_trips.index = [i.split('_')[0].upper() for i in df_trips.index]\n",
    "\n",
    "df = df_vmt.merge(df_trips, left_index=True, right_index=True)\n",
    "\n",
    "df.loc['Total',:] = df.sum(axis=0)\n",
    "df['Avg Distance'] = df['VMT']/df['Trips']\n",
    "df"
   ]
  },
  {
   "cell_type": "raw",
   "id": "ab13d57a",
   "metadata": {
    "vscode": {
     "languageId": "raw"
    }
   },
   "source": [
    ":::"
   ]
  },
  {
   "cell_type": "markdown",
   "id": "f49c3f61",
   "metadata": {},
   "source": [
    "# Trucks"
   ]
  },
  {
   "cell_type": "code",
   "execution_count": 19,
   "id": "aa5ec0de",
   "metadata": {
    "execution": {
     "iopub.execute_input": "2025-05-01T14:38:10.119586Z",
     "iopub.status.busy": "2025-05-01T14:38:10.118587Z",
     "iopub.status.idle": "2025-05-01T14:38:10.138082Z",
     "shell.execute_reply": "2025-05-01T14:38:10.137076Z"
    }
   },
   "outputs": [],
   "source": [
    "daily_counts = pd.read_sql(\"SELECT * FROM daily_counts WHERE year=\"+str(input_config['base_year']), con=conn)\n",
    "\n",
    "daily_counts['htrk_vehicles'] = daily_counts['htrk_vehicles'].astype('float').fillna(-1)\n",
    "\n",
    "facility_type_lookup = {\n",
    "    1: \"Freeway\",  # Interstate\n",
    "    2: \"Freeway\",  # Ohter Freeway\n",
    "    3: \"Freeway\",  # Expressway\n",
    "    4: \"Ramp\",\n",
    "    5: \"Arterial\",  # Principal arterial\n",
    "    6: \"Arterial\",  # Minor Arterial\n",
    "    7: \"Collector\",  # Major Collector\n",
    "    8: \"Collector\",  # Minor Collector\n",
    "    9: \"Collector\",  # Local\n",
    "    10: \"Busway\",\n",
    "    11: \"Non-Motor\",\n",
    "    12: \"Light Rail\",\n",
    "    13: \"Commuter Rail\",\n",
    "    15: \"Ferry\",\n",
    "    16: \"Passenger Only Ferry\",\n",
    "    17: \"Connector\",  # centroid connector\n",
    "    18: \"Connector\",  # facility connector\n",
    "    19: \"HOV\",  # HOV Only Freeway\n",
    "    20: \"HOV\",  # HOV Flag\n",
    "}"
   ]
  },
  {
   "cell_type": "code",
   "execution_count": 20,
   "id": "c61e0773",
   "metadata": {
    "execution": {
     "iopub.execute_input": "2025-05-01T14:38:10.144065Z",
     "iopub.status.busy": "2025-05-01T14:38:10.143067Z",
     "iopub.status.idle": "2025-05-01T14:38:16.479189Z",
     "shell.execute_reply": "2025-05-01T14:38:16.478201Z"
    }
   },
   "outputs": [],
   "source": [
    "# FIXME: move to validation.py\n",
    "df_network = pd.read_csv(r\"..\\..\\..\\..\\outputs\\network\\network_results.csv\")\n",
    "model_vol_df = df_network.copy()\n",
    "model_vol_df[\"@facilitytype\"] = model_vol_df[\"@facilitytype\"].map(\n",
    "    facility_type_lookup\n",
    ")\n",
    "\n",
    "# Get daily and model volumes\n",
    "df_daily = (\n",
    "    model_vol_df.groupby([\"@countid\"])\n",
    "    .agg({\"@tveh\": \"sum\", \"@facilitytype\": \"first\", '@mveh': 'sum', '@hveh': 'sum'})\n",
    "    .reset_index()\n",
    ")\n",
    "\n",
    "# Merge observed with model\n",
    "df_daily = df_daily.merge(daily_counts, left_on=\"@countid\", right_on=\"flag\")"
   ]
  },
  {
   "cell_type": "code",
   "execution_count": 21,
   "id": "13d5e93b",
   "metadata": {
    "execution": {
     "iopub.execute_input": "2025-05-01T14:38:16.485174Z",
     "iopub.status.busy": "2025-05-01T14:38:16.484175Z",
     "iopub.status.idle": "2025-05-01T14:38:16.493853Z",
     "shell.execute_reply": "2025-05-01T14:38:16.492859Z"
    }
   },
   "outputs": [],
   "source": [
    "county_lookup = {\n",
    "    33: 'King',\n",
    "    35: 'Kitsap',\n",
    "    53: 'Pierce',\n",
    "    61: 'Snohomish'\n",
    "}\n",
    "\n",
    "df_daily['County'] = df_daily['countyid'].map(county_lookup)"
   ]
  },
  {
   "cell_type": "code",
   "execution_count": 22,
   "id": "7087ce17",
   "metadata": {
    "execution": {
     "iopub.execute_input": "2025-05-01T14:38:16.499837Z",
     "iopub.status.busy": "2025-05-01T14:38:16.498841Z",
     "iopub.status.idle": "2025-05-01T14:38:16.521633Z",
     "shell.execute_reply": "2025-05-01T14:38:16.520627Z"
    }
   },
   "outputs": [],
   "source": [
    "df_daily_med = df_daily.copy()\n",
    "df_daily_med.rename(columns={'@mveh': 'Model', 'mtrk_vehicles': 'Observed'}, inplace=True)\n",
    "df_daily_med = df_daily_med[~df_daily_med['Observed'].isnull()]\n",
    "for col in ['Model','Observed']:\n",
    "    df_daily_med[col] = df_daily_med[col].astype('int')\n",
    "df_daily_med = df_daily_med[df_daily_med['Observed'] > 0]\n",
    "\n",
    "df_daily_heavy = df_daily.copy()\n",
    "df_daily_heavy.rename(columns={'@hveh': 'Model', 'htrk_vehicles': 'Observed'}, inplace=True)\n",
    "df_daily_heavy = df_daily_heavy[~df_daily_heavy['Observed'].isnull()]\n",
    "for col in ['Model','Observed']:\n",
    "    df_daily_heavy[col] = df_daily_heavy[col].astype('int')\n",
    "df_daily_heavy = df_daily_heavy[df_daily_heavy['Observed'] > 0]"
   ]
  },
  {
   "cell_type": "code",
   "execution_count": 23,
   "id": "77254978",
   "metadata": {
    "execution": {
     "iopub.execute_input": "2025-05-01T14:38:16.526685Z",
     "iopub.status.busy": "2025-05-01T14:38:16.526685Z",
     "iopub.status.idle": "2025-05-01T14:38:16.546845Z",
     "shell.execute_reply": "2025-05-01T14:38:16.545839Z"
    }
   },
   "outputs": [],
   "source": [
    "def create_truck_chart(df_daily, truck_type, county=None):\n",
    "\n",
    "    if county:\n",
    "        df_daily = df_daily[df_daily['County'] == county]\n",
    "        title = truck_type + ' Trucks: '+county\n",
    "    else:\n",
    "        title = truck_type + ' Trucks: Region'\n",
    "\n",
    "    slope, intercept, r_value, p_value, std_err = stats.linregress(df_daily['Observed'], df_daily['Model'])\n",
    "\n",
    "    fig = px.scatter(df_daily, y='Model', x='Observed', title=title, hover_data=['location','County'])\n",
    "    fig.update_layout(height=600, width=800, margin=dict(l=100, r=100, t=100, b=100))\n",
    "\n",
    "    # Get max value, either observed or modeled\n",
    "    max_val = df_daily[['Observed','Model']].max().max()\n",
    "\n",
    "    # Add 45-degree line\n",
    "    fig.add_shape(\n",
    "        type=\"line\",\n",
    "        x0=0, y0=0,\n",
    "        x1=max_val, y1=max_val,\n",
    "        line=dict(color=\"Red\", width=2, dash=\"dash\")\n",
    "    )\n",
    "\n",
    "    # Add best fit line\n",
    "    x_fit = np.linspace(0, max(df_daily['Observed']), 100)\n",
    "    y_fit = slope * x_fit + intercept\n",
    "    fig.add_trace(px.line(x=x_fit, y=y_fit, labels={'x':'Observed', 'y':'Model'}).data[0])\n",
    "    fig.update_traces(line=dict(color=\"Grey\", width=2))\n",
    "\n",
    "    # Add label for 45-degree line\n",
    "\n",
    "    fig.add_annotation(\n",
    "        x=max_val*1.05,\n",
    "        y=max_val*1.05,\n",
    "        text='y = x',\n",
    "        showarrow=False,\n",
    "        font=dict(size=12, color=\"pink\"),\n",
    "        align=\"right\"\n",
    "    )\n",
    "\n",
    "    # Add R-squared value as annotation\n",
    "    fig.add_annotation(\n",
    "        x=max(x_fit)*1.05,\n",
    "        y=max(y_fit)*1.05,\n",
    "        text=f'r^2 = {r_value**2:.2f}',\n",
    "        showarrow=False,\n",
    "        font=dict(size=12, color=\"black\"),\n",
    "        align=\"right\"\n",
    "    )\n",
    "\n",
    "    return fig\n"
   ]
  },
  {
   "cell_type": "markdown",
   "id": "1b416bfb",
   "metadata": {},
   "source": [
    "### Heavy Truck Counts"
   ]
  },
  {
   "cell_type": "raw",
   "id": "60e42113",
   "metadata": {
    "vscode": {
     "languageId": "raw"
    }
   },
   "source": [
    ":::{.panel-tabset}\n",
    "\n",
    "#### Region"
   ]
  },
  {
   "cell_type": "code",
   "execution_count": 24,
   "id": "27e84bb1",
   "metadata": {
    "execution": {
     "iopub.execute_input": "2025-05-01T14:38:16.551830Z",
     "iopub.status.busy": "2025-05-01T14:38:16.551830Z",
     "iopub.status.idle": "2025-05-01T14:38:16.948856Z",
     "shell.execute_reply": "2025-05-01T14:38:16.948856Z"
    }
   },
   "outputs": [
    {
     "data": {
      "text/html": [
       "        <script type=\"text/javascript\">\n",
       "        window.PlotlyConfig = {MathJaxConfig: 'local'};\n",
       "        if (window.MathJax && window.MathJax.Hub && window.MathJax.Hub.Config) {window.MathJax.Hub.Config({SVG: {font: \"STIX-Web\"}});}\n",
       "        </script>\n",
       "        <script type=\"module\">import \"https://cdn.plot.ly/plotly-3.0.1.min\"</script>\n",
       "        "
      ]
     },
     "metadata": {},
     "output_type": "display_data"
    },
    {
     "data": {
      "application/vnd.plotly.v1+json": {
       "config": {
        "plotlyServerURL": "https://plot.ly"
       },
       "data": [
        {
         "customdata": [
          [
           "I-5 S/O Mounts NB",
           "Pierce"
          ],
          [
           "I-5 S/O Mounts SB",
           "Pierce"
          ],
          [
           "I-5 S/O Division NB",
           "Pierce"
          ],
          [
           "I-5 S/O Division SB",
           "Pierce"
          ],
          [
           "I-5 @ N/O Division NB",
           "Pierce"
          ],
          [
           "I-5 @ N/O Division SB",
           "Pierce"
          ],
          [
           "I-5 S/O SR-512 NB",
           "Pierce"
          ],
          [
           "I-5 S/O SR-512 SB",
           "Pierce"
          ],
          [
           "I-5 N/O SR-512 NB",
           "Pierce"
          ],
          [
           "I-5 N/O SR-512 SB",
           "Pierce"
          ],
          [
           "I-5 N/O 56th NB",
           "Pierce"
          ],
          [
           "I-5 N/O 56th SB",
           "Pierce"
          ],
          [
           "I-5 E/O SR-16 NB",
           "Pierce"
          ],
          [
           "I-5 E/O SR-16 SB",
           "Pierce"
          ],
          [
           "I-5 E/O Port of Tacoma NB",
           "Pierce"
          ],
          [
           "I-5 E/O Port of Tacoma SB (HOV from 56)",
           "Pierce"
          ],
          [
           "I-5 S/O 205th NB",
           "King"
          ],
          [
           "I-5 S/O 205th SB",
           "King"
          ],
          [
           "I-5 @ 44th NB",
           "Snohomish"
          ],
          [
           "I-5 @ 44th SB",
           "Snohomish"
          ],
          [
           "I-5 N/O 164th NB",
           "Snohomish"
          ],
          [
           "I-5 N/O 164th SB",
           "Snohomish"
          ],
          [
           "I-5 N/O SR-526 NB",
           "Snohomish"
          ],
          [
           "I-5 N/O SR-526 SB",
           "Snohomish"
          ],
          [
           "I-5 N/O 41st NB",
           "Snohomish"
          ],
          [
           "I-5 N/O 41st SB",
           "Snohomish"
          ],
          [
           "I-5 @ SR-528 NB",
           "Snohomish"
          ],
          [
           "I-5 @ SR-528 SB",
           "Snohomish"
          ],
          [
           "I-5 N/O SR-531 NB",
           "Snohomish"
          ],
          [
           "I-5 N/O SR-531 SB",
           "Snohomish"
          ],
          [
           "I-5 Rev N/O I-5 GP NB/SB",
           "King"
          ],
          [
           "I-90 E/O I-5 WB",
           "King"
          ],
          [
           "I-90 E/O I-5 EB",
           "King"
          ],
          [
           "I-90 E/O W Lk Sam WB",
           "King"
          ],
          [
           "I-90 E/O W Lk Sam EB",
           "King"
          ],
          [
           "I-90 E/O SR-900 WB",
           "King"
          ],
          [
           "I-405 @ I-5 Southcenter NB",
           "King"
          ],
          [
           "I-405 @ I-5 Southcenter SB",
           "King"
          ],
          [
           "I-405 @ Lake Wash Blvd NB",
           "King"
          ],
          [
           "I-405 @ I-90 NB",
           "King"
          ],
          [
           "I-405 @ I-90 SB",
           "King"
          ],
          [
           "I-405 N/O SR-527 NB",
           "Snohomish"
          ],
          [
           "I-405 N/O SR-527 SB",
           "Snohomish"
          ],
          [
           "SR-525 N/O I-5 NB",
           "Snohomish"
          ],
          [
           "SR-525 N/O I-5 SB",
           "Snohomish"
          ],
          [
           "SR-520 @ x-lake bridge WB",
           "King"
          ],
          [
           "SR-520 @ x-lake bridge EB",
           "King"
          ],
          [
           "SR-167 S/O 43rd NB",
           "King"
          ],
          [
           "SR-167 S/O 43rd SB",
           "King"
          ],
          [
           "SR-167 N/O SR-18 NB",
           "King"
          ],
          [
           "SR-167 N/O SR-18 SB",
           "King"
          ],
          [
           "SR-167 S/O 15th SW NB",
           "King"
          ],
          [
           "SR-167 S/O 15th SW SB",
           "King"
          ],
          [
           "SR-512 W/O Meridian WB",
           "Pierce"
          ],
          [
           "SR-512 W/O Meridian EB",
           "Pierce"
          ],
          [
           "SR-509 @ Holden NB",
           "King"
          ],
          [
           "SR-509 @ Holden SB",
           "King"
          ],
          [
           "SR-99 N/O 14th NB",
           "King"
          ],
          [
           "SR-99 N/O 14th SB",
           "King"
          ],
          [
           "SR-99 N/O WSF NB",
           "King"
          ],
          [
           "SR-99 N/O WSF SB",
           "King"
          ],
          [
           "SR-99 tunnel NB",
           "King"
          ],
          [
           "SR-99 tunnel SB",
           "King"
          ],
          [
           "SR-599 S/O Pacific NB",
           "King"
          ],
          [
           "SR-599 S/O Pacific SB",
           "King"
          ],
          [
           "SR-599 @ Pacific NB",
           "King"
          ],
          [
           "SR-599 @ Pacific SB",
           "King"
          ],
          [
           "SR-18 @ I-5 WB",
           "King"
          ],
          [
           "SR-18 @ I-5 EB",
           "King"
          ],
          [
           "SR-18 W/O Auburn-Black Diamond WB",
           "King"
          ],
          [
           "SR-18 W/O Auburn-Black Diamond EB",
           "King"
          ],
          [
           "SR-18 E/O SR-516 WB",
           "King"
          ],
          [
           "SR-18 E/O SR-516 EB",
           "King"
          ],
          [
           "SR-18 E/O 256th WB",
           "King"
          ],
          [
           "SR-18 E/O 256th EB",
           "King"
          ],
          [
           "SR-522 N/O 195th WB",
           "King"
          ],
          [
           "SR-522 N/O 195th EB",
           "King"
          ],
          [
           "I-5 N/O I-5 Rev CBD NB/SB",
           "King"
          ],
          [
           "I-5 @ SR-532 NB/SB",
           "Snohomish"
          ],
          [
           "I-5 @ Skagit border NB/SB",
           "Snohomish"
          ],
          [
           "I-90 W/O SR-18 WB/EB",
           "King"
          ],
          [
           "I-90 E/O SR-18 WB/EB",
           "King"
          ],
          [
           "I-90 E/O 436th WB/EB",
           "King"
          ],
          [
           "I-90 @ Kittitas County WB/EB",
           "King"
          ],
          [
           "I-405 N/O SR-522 NB/SB",
           "King"
          ],
          [
           "SR-525 N/O SR-526 NB/SB",
           "Snohomish"
          ],
          [
           "SR-525 N/O 5th NB/SB",
           "Snohomish"
          ],
          [
           "SR-167 N/O Grady NB/SB",
           "King"
          ],
          [
           "SR-167 W/O SR-410 NB/SB",
           "Pierce"
          ],
          [
           "SR-167 E/O SR-161 NB/SB",
           "Pierce"
          ],
          [
           "SR-410 E/O S Prairie WB/EB",
           "Pierce"
          ],
          [
           "SR-410 E/O 244th WB/EB",
           "King"
          ],
          [
           "SR-410 E/O Farman WB/EB",
           "King"
          ],
          [
           "SR-410 @ Greenwater River WB/EB",
           "King"
          ],
          [
           "SR-410 E/O Chinook WB/EB",
           "Pierce"
          ],
          [
           "SR-410 W/O SR-123 WB/EB",
           "Pierce"
          ],
          [
           "SR-410 E/O SR-123 WB/EB",
           "Pierce"
          ],
          [
           "SR-512 @ I-5 WB/EB",
           "Pierce"
          ],
          [
           "SR-512 W/O SR-7 WB/EB",
           "Pierce"
          ],
          [
           "SR-512 S/O SR-167 WB/EB",
           "Pierce"
          ],
          [
           "SR-509 E/O I-705 NB/SB",
           "Pierce"
          ],
          [
           "SR-509 W/O Alexander NB/SB",
           "Pierce"
          ],
          [
           "SR-509 S/O 11th NB/SB",
           "Pierce"
          ],
          [
           "SR-509 N/O Hyada NB/SB",
           "Pierce"
          ],
          [
           "SR-509 E/O Soundview NB/SB",
           "Pierce"
          ],
          [
           "SR-509 E/O 47th NB/SB",
           "King"
          ],
          [
           "SR-509 E/O 21st NB/SB",
           "King"
          ],
          [
           "SR-509 W/O SR-516 NB/SB",
           "King"
          ],
          [
           "SR-509 W/O Des Moines Mem NB/SB",
           "King"
          ],
          [
           "SR-509 E/O 1st Ave NB/SB",
           "King"
          ],
          [
           "SR-509 E/O Des Moines Mem NB/SB",
           "King"
          ],
          [
           "SR-509 @ SR-509 ramp overpass NB/SB",
           "King"
          ],
          [
           "SR-509 N/O Des Moines Mem NB/SB",
           "King"
          ],
          [
           "SR-509 N/O SR-518 NB/SB",
           "King"
          ],
          [
           "SR-99 @ I-5 NB/SB",
           "Pierce"
          ],
          [
           "SR-99 E/O 54th NB/SB",
           "Pierce"
          ],
          [
           "SR-99 S/O Porter NB/SB",
           "Pierce"
          ],
          [
           "SR-99 S/O SR-18 NB/SB",
           "King"
          ],
          [
           "SR-99 N/O SR-18 NB/SB",
           "King"
          ],
          [
           "SR-99 N/O 320th NB/SB",
           "King"
          ],
          [
           "SR-99 N/O 188th NB/SB",
           "King"
          ],
          [
           "SR-99 @ WSF NB/SB",
           "King"
          ],
          [
           "SR-99 @ Aurora Bridge NB/SB",
           "King"
          ],
          [
           "SR-99 N/O 38th NB/SB",
           "King"
          ],
          [
           "SR-99 S/O Roosevelt NB/SB",
           "King"
          ],
          [
           "SR-99 E/O Evergreen NB/SB",
           "Snohomish"
          ],
          [
           "SR-599 N/O I-5 NB/SB",
           "King"
          ],
          [
           "SR-518 @ SR-509 WB/EB",
           "King"
          ],
          [
           "SR-518 E/O SR-509 WB/EB",
           "King"
          ],
          [
           "SR-18 E/O SR-99 WB/EB",
           "King"
          ],
          [
           "SR-18 N/O 304th WB/EB",
           "King"
          ],
          [
           "SR-18 S/O I-90 WB/EB",
           "King"
          ],
          [
           "SR-16 @ TNB NB/SB",
           "Pierce"
          ],
          [
           "SR-16 @ Purdy Dr NB/SB",
           "Pierce"
          ],
          [
           "SR-16  N/O SR-302 NB/SB",
           "Kitsap"
          ],
          [
           "SR-16 N/O SR-160 NB/SB",
           "Kitsap"
          ],
          [
           "SR-16 N/O Tremont NB/SB",
           "Kitsap"
          ],
          [
           "SR-16 S/O SR-3 NB",
           "Kitsap"
          ],
          [
           "SR-202 @ SR-522 NB/SB",
           "King"
          ],
          [
           "SR-202 N/O 145th NB/SB",
           "King"
          ],
          [
           "SR-202 @ Sammamish River Br NB/SB",
           "King"
          ],
          [
           "SR-202 S/O 144th NB/SB",
           "King"
          ],
          [
           "SR-202 N/O Redmond Way NB/SB",
           "King"
          ],
          [
           "SR-202 E/O 164th NB/SB",
           "King"
          ],
          [
           "SR-202 E/O SR-520 NB/SB",
           "King"
          ],
          [
           "SR-202 E/O E Lk Samm NB/SB",
           "King"
          ],
          [
           "SR-202 E/O Sahalee NB/SB",
           "King"
          ],
          [
           "SR-202 E/O 236th NB/SB",
           "King"
          ],
          [
           "SR-202 S/O Ames Lake NB/SB",
           "King"
          ],
          [
           "SR-202 S/O Duthie Hill NB/SB",
           "King"
          ],
          [
           "SR-202 E/O SR-203 NB/SB",
           "King"
          ],
          [
           "SR-202 N/O I-90 NB/SB",
           "King"
          ],
          [
           "SR-526 W/O Paine Field Blvd WB/EB",
           "Snohomish"
          ],
          [
           "SR-526 E/O Paine Field Blvd WB/EB",
           "Snohomish"
          ],
          [
           "SR-9 @ SR-522 NB/SB",
           "Snohomish"
          ],
          [
           "SR-9 N/O SR-2 NB/SB",
           "Snohomish"
          ],
          [
           "SR-9 N/O SR-204 NB/SB",
           "Snohomish"
          ],
          [
           "SR-9 N/O SR-92 NB/SB",
           "Snohomish"
          ],
          [
           "SR-9 N/O 132nd NB/SB",
           "Snohomish"
          ],
          [
           "SR-9 N/O SR-531 NB/SB",
           "Snohomish"
          ],
          [
           "SR-9 S/O 67th NB/SB",
           "Snohomish"
          ],
          [
           "SR-9 N/O Kackman NB/SB",
           "Snohomish"
          ],
          [
           "SR-9 N/O Stanwood-Bryant NB/SB",
           "Snohomish"
          ],
          [
           "SR-532 @ Island County WB/EB",
           "Snohomish"
          ],
          [
           "SR-532 W/O 28th WB/EB",
           "Snohomish"
          ],
          [
           "SR-522 N/O 145th NB/SB",
           "King"
          ],
          [
           "SR-104 @ Hood Canal Bridge WB/EB",
           "Kitsap"
          ],
          [
           "SR-104 E/O Hood Canal Bridge WB/EB",
           "Kitsap"
          ],
          [
           "SR-104 N/O Pt Gamble Rd WB/EB",
           "Kitsap"
          ],
          [
           "SR-104 E/O SR-307 WB/EB",
           "Kitsap"
          ],
          [
           "SR-104 E/O Hansville WB/EB",
           "Kitsap"
          ],
          [
           "SR-104 @ Ferry Loading Edm WB/EB",
           "Snohomish"
          ],
          [
           "SR-104 N/O Pine WB/EB",
           "Snohomish"
          ],
          [
           "SR-104 E/O 5th WB/EB",
           "Snohomish"
          ],
          [
           "SR-104 W/O 19th WB/EB",
           "King"
          ],
          [
           "SR-160 @ SR-16 WB/EB",
           "Kitsap"
          ],
          [
           "SR-160 E/O Long Lake Rd WB/EB",
           "Kitsap"
          ],
          [
           "SR-160 W/O Banner WB/EB",
           "Kitsap"
          ],
          [
           "SR-160 E/O Peterson WB/EB",
           "Kitsap"
          ],
          [
           "SR-160 S/O Southworth Dr WB/EB",
           "Kitsap"
          ],
          [
           "SR-166 E/O SR-16 WB/EB",
           "Kitsap"
          ],
          [
           "SR-3 E/O Sunset Way NB/SB",
           "Kitsap"
          ],
          [
           "SR-3 N/O SR-305 NB/SB",
           "Kitsap"
          ],
          [
           "SR-3 S/O Newberry Hill Rd NB/SB",
           "Kitsap"
          ],
          [
           "SR-3 @ SR-304 NB/SB",
           "Kitsap"
          ],
          [
           "SR-3 NE of SR-16 NB/SB",
           "Kitsap"
          ],
          [
           "SR-3 W/O Lake Flora Rd NB/SB",
           "Kitsap"
          ],
          [
           "SR-302 N/O 144th WB/EB",
           "Pierce"
          ],
          [
           "SR-302 S/O 144th WB/EB",
           "Pierce"
          ],
          [
           "SR-302 W/O Key Peninsula Hwy WB/EB",
           "Pierce"
          ],
          [
           "SR-302 W/O Wright-Bliss WB/EB (E/O?)",
           "Pierce"
          ],
          [
           "SR-303 E/O SR-3 NB/SB",
           "Kitsap"
          ],
          [
           "SR-303 N/O 11th St NB/SB",
           "Kitsap"
          ],
          [
           "SR-303 N/O SR-304 NB/SB",
           "Kitsap"
          ],
          [
           "SR-304 E/O SR-3 WB/EB",
           "Kitsap"
          ],
          [
           "SR-304 W/O Naval WB/EB",
           "Kitsap"
          ],
          [
           "SR-305 W/O SR-307 WB/EB",
           "Kitsap"
          ],
          [
           "SR-305 W/O Suquamish Way WB/EB",
           "Kitsap"
          ],
          [
           "SR-305 N/O Day Rd WB/EB",
           "Kitsap"
          ],
          [
           "SR-305 N/O High School Rd WB/EB",
           "Kitsap"
          ],
          [
           "SR-305 S/O Winslow Way WB/EB",
           "Kitsap"
          ],
          [
           "SR-305 @ Ferry Ramp WB/EB",
           "Kitsap"
          ],
          [
           "SR-307 W/O SR-104 NB/SB",
           "Kitsap"
          ],
          [
           "SR-307 N/O Gunderson NB/SB",
           "Kitsap"
          ],
          [
           "SR-307 S/O Gunderson NB/SB",
           "Kitsap"
          ],
          [
           "SR-307 N/O SR-305 NB/SB",
           "Kitsap"
          ],
          [
           "SR-308 @ SR-3 WB/EB",
           "Kitsap"
          ],
          [
           "SR-308 E/O SR-3 WB/EB",
           "Kitsap"
          ],
          [
           "SR-308 E/O Silverdale Way WB/EB",
           "Kitsap"
          ],
          [
           "SR-308 W/O Brownsville Hwy WB/EB",
           "Kitsap"
          ],
          [
           "SR-310 @ SR-3 WB/EB",
           "Kitsap"
          ],
          [
           "SR-310 W/O Callow WB/EB",
           "Kitsap"
          ],
          [
           "SR-516 E/O SR-509 WB/EB",
           "King"
          ],
          [
           "SR-516 W/O I-5 WB/EB",
           "King"
          ],
          [
           "SR-516 E/O Meeker WB/EB",
           "King"
          ],
          [
           "SR-516 W/O SR-167 WB/EB",
           "King"
          ],
          [
           "SR-516 E/O SR-167 WB/EB",
           "King"
          ],
          [
           "SR-516 E/O SR-18 WB/EB",
           "King"
          ],
          [
           "SR-161 E/O SR-7 NB/SB",
           "Pierce"
          ],
          [
           "SR-161 N/O Center NB/SB",
           "Pierce"
          ],
          [
           "SR-161 N/O Eatonville Cutoff NB/SB",
           "Pierce"
          ],
          [
           "SR-161 N/O 304th NB/SB",
           "Pierce"
          ],
          [
           "SR-161 N/O 264th NB/SB",
           "Pierce"
          ],
          [
           "SR-161 S/O 224th NB/SB",
           "Pierce"
          ],
          [
           "SR-161 N/O 224th NB/SB",
           "Pierce"
          ],
          [
           "SR-161 N/O 204th NB/SB",
           "Pierce"
          ],
          [
           "SR-161 S/O SR-167 SB off-ramp NB/SB",
           "Pierce"
          ],
          [
           "SR-161 S/O Valley NB/SB",
           "Pierce"
          ],
          [
           "SR-161 N/O Valley NB/SB",
           "Pierce"
          ],
          [
           "SR-161 N/O 8th NB/SB",
           "Pierce"
          ],
          [
           "SR-900 S/O NB I-5 on-ramp @ Boe Acc WB/EB",
           "King"
          ],
          [
           "SR-900 E/O 68th WB/EB",
           "King"
          ],
          [
           "SR-900 @ I-405 WB/EB",
           "King"
          ],
          [
           "SR-900 E/O 148th WB/EB",
           "King"
          ],
          [
           "SR-900 N/O Talus WB/EB",
           "King"
          ],
          [
           "SR-900 N/O Newport WB/EB",
           "King"
          ],
          [
           "SR-524 W/O 3rd WB/EB",
           "Snohomish"
          ],
          [
           "SR-524 S/O Main WB/EB",
           "Snohomish"
          ],
          [
           "SR-524 N/O Main WB/EB",
           "Snohomish"
          ],
          [
           "SR-524 E/O 68th WB/EB",
           "Snohomish"
          ],
          [
           "SR-524 E/O 39th WB/EB",
           "Snohomish"
          ],
          [
           "SR-524 N/O Paradise Lake WB/EB",
           "Snohomish"
          ],
          [
           "SR-7 @ Thurston County NB/SB",
           "Pierce"
          ],
          [
           "SR-7 W/O Alder Cutoff NB/SB",
           "Pierce"
          ],
          [
           "SR-7 N/O Eatonville Hwy NB/SB",
           "Pierce"
          ],
          [
           "SR-7 N/O Silver Lake NB/SB",
           "Pierce"
          ],
          [
           "SR-7 S/O SR-702 NB/SB",
           "Pierce"
          ],
          [
           "SR-7 N/O 304th NB/SB",
           "Pierce"
          ],
          [
           "SR-7 N/O 260th NB/SB",
           "Pierce"
          ],
          [
           "SR-7 S/O 224th NB/SB",
           "Pierce"
          ],
          [
           "SR-7 N/O 224th NB/SB",
           "Pierce"
          ],
          [
           "SR-7 N/O 38th NB/SB",
           "Pierce"
          ],
          [
           "SR-2 E/O I-5 WB/EB",
           "Snohomish"
          ],
          [
           "SR-2 S/O SR-204 WB/EB",
           "Snohomish"
          ],
          [
           "SR-2 E/O Main WB/EB",
           "Snohomish"
          ],
          [
           "SR-2 E/O Rice WB/EB",
           "Snohomish"
          ],
          [
           "SR-2 E/O 10th (Gold Bar) WB/EB",
           "Snohomish"
          ],
          [
           "SR-2 W/O Index-Galena WB/EB",
           "Snohomish"
          ],
          [
           "SR-2 E/O Index-Galena WB/EB",
           "Snohomish"
          ],
          [
           "SR-2 E/O Skykomish WB/EB",
           "King"
          ],
          [
           "SR-527 N/O I-405 NB/SB",
           "Snohomish"
          ],
          [
           "SR-527 N/O 196th NB/SB",
           "Snohomish"
          ],
          [
           "SR-527 N/O Dumas NB/SB",
           "Snohomish"
          ],
          [
           "SR-527 N/O 100th NB/SB",
           "Snohomish"
          ],
          [
           "SR-513 S/O 44th NB/SB",
           "King"
          ],
          [
           "SR-169 N/O SR-164 NB/SB",
           "King"
          ],
          [
           "SR-169 S/O Lawson NB/SB",
           "King"
          ],
          [
           "SR-169 S/O 276th NB/SB",
           "King"
          ],
          [
           "SR-169 N/O 280th NB/SB",
           "King"
          ],
          [
           "SR-169 N/O 231st NB/SB",
           "King"
          ],
          [
           "SR-169 N/O 232nd NB/SB",
           "King"
          ],
          [
           "SR-169 W/O 140th NB/SB",
           "King"
          ],
          [
           "SR-515 N/O SR-516 NB/SB",
           "King"
          ],
          [
           "SR-515 N/O 108th NB/SB",
           "King"
          ],
          [
           "SR-515 N/O Puget NB/SB",
           "King"
          ],
          [
           "SR-181 N/O SR-516 NB/SB",
           "King"
          ],
          [
           "SR-181 S/O James NB/SB",
           "King"
          ],
          [
           "SR-181 N/O James NB/SB",
           "King"
          ],
          [
           "SR-181 N/O 228th NB/SB",
           "King"
          ],
          [
           "SR-181 N/O 180th NB/SB",
           "King"
          ],
          [
           "SR-181 S/O Longacres NB/SB",
           "King"
          ],
          [
           "SR-523 E/O Lenora WB/EB",
           "King"
          ],
          [
           "SR-529 @ I-5 (Evt) NB/SB",
           "Snohomish"
          ],
          [
           "SR-529 S/O Everett NB/SB",
           "Snohomish"
          ],
          [
           "SR-529 W/O Maple NB/SB",
           "Snohomish"
          ],
          [
           "SR-529 N/O Everett NB/SB",
           "Snohomish"
          ],
          [
           "SR-529 N/O Broadway NB/SB",
           "Snohomish"
          ],
          [
           "SR-96 @ I-5 WB/EB",
           "Snohomish"
          ],
          [
           "SR-96 N/O 132nd WB/EB",
           "Snohomish"
          ],
          [
           "SR-96 E/O Seattle Hill WB/EB",
           "Snohomish"
          ],
          [
           "SR-164 @ SR-18 WB/EB",
           "King"
          ],
          [
           "SR-164 S/O 400th WB/EB",
           "King"
          ],
          [
           "SR-528 @ I-5 WB/EB",
           "Snohomish"
          ],
          [
           "SR-528 E/O SR-529 WB/EB",
           "Snohomish"
          ],
          [
           "SR-531 N/O Rose WB/EB",
           "Snohomish"
          ],
          [
           "SR-531 E/O Lk Goodwin WB/EB",
           "Snohomish"
          ],
          [
           "SR-531 E/O 27th WB/EB",
           "Snohomish"
          ],
          [
           "SR-531 E/O I-5 WB/EB",
           "Snohomish"
          ],
          [
           "SR-531 E/O 43rd WB/EB",
           "Snohomish"
          ],
          [
           "SR-531 W/O 67th WB/EB",
           "Snohomish"
          ],
          [
           "SR-531 E/O 67th WB/EB",
           "Snohomish"
          ],
          [
           "SR-162 @ SR-410 WB/EB",
           "Pierce"
          ],
          [
           "SR-162 S/O Pioneer WB/EB",
           "Pierce"
          ],
          [
           "SR-162 E/O Orville WB/EB",
           "Pierce"
          ],
          [
           "SR-162 E/O S Prairie WB/EB",
           "Pierce"
          ],
          [
           "SR-162 N/O SR-165 WB/EB",
           "Pierce"
          ],
          [
           "SR-163 @ SR-16 NB/SB",
           "Pierce"
          ],
          [
           "SR-163 N/O 37th NB/SB",
           "Pierce"
          ],
          [
           "SR-163 N/O Park NB/SB",
           "Pierce"
          ],
          [
           "SR-530 @ I-5 WB/EB",
           "Snohomish"
          ],
          [
           "SR-530 E/O Smokey Pt WB/EB",
           "Snohomish"
          ],
          [
           "SR-530 N/O 211th WB/EB",
           "Snohomish"
          ],
          [
           "SR-530 E/O SR-9 WB/EB",
           "Snohomish"
          ],
          [
           "SR-530 W/O Arlington Hts WB/EB",
           "Snohomish"
          ],
          [
           "SR-530 E/O Arlington Hts WB/EB",
           "Snohomish"
          ],
          [
           "SR-530 W/O Jim Creek WB/EB",
           "Snohomish"
          ],
          [
           "SR-530 W/O Ramstad WB/EB",
           "Snohomish"
          ],
          [
           "SR-530 @ Skagit County WB/EB",
           "Snohomish"
          ],
          [
           "SR-203 N/O 203rd NB/SB",
           "Snohomish"
          ],
          [
           "SR-203 N/O Cherry Valley NB/SB",
           "King"
          ],
          [
           "SR-203 N/O 124th NB/SB",
           "King"
          ],
          [
           "SR-203 W/O Stillwater Hill NB/SB",
           "King"
          ],
          [
           "SR-203 N/O Carnation Farm NB/SB",
           "King"
          ],
          [
           "SR-203 N/O Tolt Hill NB/SB",
           "King"
          ],
          [
           "SR-203 N/O SR-202 NB/SB",
           "King"
          ],
          [
           "SR-507 S/O SR-7 NB/SB",
           "Pierce"
          ],
          [
           "SR-507 S/O E Gate NB/SB",
           "Pierce"
          ],
          [
           "SR-507 S/O 288th NB/SB",
           "Pierce"
          ],
          [
           "SR-507 N/O 346th NB/SB",
           "Pierce"
          ],
          [
           "SR-204 @ SR-2 NB/SB",
           "Snohomish"
          ],
          [
           "SR-204 N/O 20th NB/SB",
           "Snohomish"
          ],
          [
           "SR-204 N/O SR-2 NB/SB",
           "Snohomish"
          ],
          [
           "SR-519 W/O 4th NB/SB",
           "King"
          ],
          [
           "SR-92 E/O Lake WB/EB",
           "Snohomish"
          ],
          [
           "SR-92 E/O Callow WB/EB",
           "Snohomish"
          ],
          [
           "SR-92 E/O Quarry WB/EB",
           "Snohomish"
          ],
          [
           "SR-92 W/O Mountain Loop WB/EB",
           "Snohomish"
          ],
          [
           "SR-702 E/O SR-507 WB/EB",
           "Pierce"
          ],
          [
           "SR-702 E/O Harts Lake WB/EB",
           "Pierce"
          ],
          [
           "SR-702 E/O 40th WB/EB",
           "Pierce"
          ],
          [
           "SR-702 W/O 8th WB/EB",
           "Pierce"
          ],
          [
           "SR-702 E/O 8th WB/EB",
           "Pierce"
          ],
          [
           "SR-165 W/O SR-162 NB/SB",
           "Pierce"
          ],
          [
           "SR-165 N/O Davis NB/SB",
           "Pierce"
          ],
          [
           "SR-165 N/O Wilkeson-Carbonado NB/SB",
           "Pierce"
          ],
          [
           "SR-704 E/O Spanaway Loop WB/EB",
           "Pierce"
          ],
          [
           "SR-706 E/O SR-7 WB/EB",
           "Pierce"
          ],
          [
           "SR-706 E/O Kernahan WB/EB",
           "Pierce"
          ]
         ],
         "hovertemplate": "Observed=%{x}<br>Model=%{y}<br>location=%{customdata[0]}<br>County=%{customdata[1]}<extra></extra>",
         "legendgroup": "",
         "line": {
          "color": "Grey",
          "width": 2
         },
         "marker": {
          "color": "#91268F",
          "symbol": "circle"
         },
         "mode": "markers",
         "name": "",
         "orientation": "v",
         "showlegend": false,
         "type": "scatter",
         "x": {
          "bdata": "xRWmFSIX9BdQE9kSnBW1FKUT6xNPF34XkAoFF/oO3xISCbIJcwuHC7QMygyGDDENrgpfDOMLNgwACQwJ/AKFAz4DjQdxB8kJVwNwBV4IQQECAUsFkQWTARIBiQCKAF4I8QjYCOEIJQ7sDF0JXQmqA64DkgRkA60AnQCQAIMAFgVDBG0FmAOxA7kGYQn0CDwIHQiaCl4K/AI3A00L1A8REAYNBim8GIsZdQutADAANAFiHJ4NZgL8AR0DHwAVABEADgBKDZgPlBLCA0AIZwALAA4AEwBEADwACgAgAFYAeADSAHQBcAXXCqwE2gQYASABrgDeAJIAbACNAHsAwgr2AFABiQW5FoUN4gaSBRYGugRUBYMECQFTAEwAQQE2AJIA3QEzAaQBegEsAT4BHAFuAGMAXAC7Ah0BjQI9AXQBqQDlAKcAUgA1AUgBpwBkAksARgCQAFQAOwA3AEgATAByACIAHgATAAwAjAD8A/QDhwTcA1AFIAFPAGgAOQA0ALQA2ABiANIAfgAKAaQBpAHqAAsACQDEAKgAfgB4ACcAJABCABYAigAaAFAAHAJ3AcADIAFfARkAyQBwAKIBUgFEAUQBFAJSA8sGtACvAIwBVADQAEwA8gBUAAgABgAGAEwAsAD7AY4AbgBDAFoAYgCQAXkBsAF2AagAewNqA/oBpAG8AfMAwAB+AAkBFwEsAJwAOADgALgBMAHnAFIDCwTgBGQAYACNAL0DgQODAxoE5wOWA1QAWAAxAEEAVAA5A9wAKgA+ACkBxgAEAUoBEgBjAK0BuQK4AlQBtgCkAQoE0QCIAIcAKAAkAFoAwQJhAtABkAGTAX8BfAErAS8AmAFUAWwBOwEcAUoBTAHQAWABCAJfAToANwCQAX4C7gHAATwAzgL8ANwACgGmAP4ApgAyABIAiAImAA0A",
          "dtype": "i2"
         },
         "xaxis": "x",
         "y": {
          "bdata": "xhXEFcwWyRa1FrIWMRYyFqwVQRekF9IXWxU+IDAoqydGFB4VkxNJFPEYSxhYFwsXCRevFqUTjhM3DyMPxxBPBOUE6QQEBSYFuACrBoERJxHqDwQJowceA/QCPQA3AO4MmA8RE/kUMhAGEAUF5gTRACYBcAW2A6UA2wBHAEsAAwZUBMUFLQToBnEC4AatBgQHtwYmB+wGAQfHBvwdyxovGnELHheXFzUU3xBmAHMAiwI2EScHXAAjAF4AXgBeAF4AXgDWBWEGNgsmA4YE1wcAAAAAAAAUACYAEQAMAAwAeQALAbsBmwXhAlkDmQg/AHYA5QDQAK8AFgAiAAAAuAvOAdgBnwo8DWMPhBL1Dv8OhAxeDCwGEgASAAUAGQAiACIAJgUGAAEAJQAlACIAJQE9AQIAOQBsAfMANAHPAWIAHgAgADMAvQBzAHgAcAC8AwIAAgCaAHMAAAAjACMAKQDHABIAEgAVABUAAgC6A5AEkwlVC2gMCQAbABUA/ADtABYAqAA0ABMBjwDeAZUAfwBiAAAAAACZAJkAmgADATgAbgAmAAAACwAAABcAqgFJCR4LvwY7AAAAJwAnAEQARABYAGEAgwBUAm8EVQDyAc4EWgDHADcAggB7AAMAAAADAAgAFgC1AAAAEgASABIANQA8AD4AQAAoAAgARQNqAmkH2AfDB8MHWgdAAEYAOgACAAgAAAAAADkASQBJAG0AvgDFAAcAEAAXAN4D3gM3BJAG6AT7BCUAeAA8AAwAcQAXAE4AFgAEAAUBcgDxAuMAAQAHANMAOgX+BEAARACJAHMABgAFAAUAXABcAPoAcwCbAJcAhACGAIUAhQCFAAEAMAIwAgECCQIJAgkCCQLXAeIB2wHbASUAOgAdAVED1ADUAAAAPAAFAAUACwALACYABgAAAAAAjgEAAAAA",
          "dtype": "i2"
         },
         "yaxis": "y"
        },
        {
         "hovertemplate": "Observed=%{x}<br>Model=%{y}<extra></extra>",
         "legendgroup": "",
         "line": {
          "color": "Grey",
          "dash": "solid",
          "width": 2
         },
         "marker": {
          "symbol": "circle"
         },
         "mode": "lines",
         "name": "",
         "orientation": "v",
         "showlegend": false,
         "type": "scatter",
         "x": {
          "bdata": "AAAAAAAAAACwFKj1K4VaQLAUqPUrhWpAhA8++ODjc0CwFKj1K4V6QO4MiXk7k4BAhA8++ODjg0AaEvN2hjSHQLAUqPUrhYpARhdddNHVjUDuDIl5O5OQQDmO4ziOO5JAhA8++ODjk0DPkJi3M4yVQBoS83aGNJdAZZNNNtncmECwFKj1K4WaQPuVArV+LZxARhdddNHVnUCRmLczJH6fQO4MiXk7k6BAlE022WRnoUA5juM4jjuiQN7OkJi3D6NAhA8++ODjo0AqUOtXCrikQM+QmLczjKVAdNFFF11gpkAaEvN2hjSnQMBSoNavCKhAZZNNNtncqEAK1PqVArGpQLAUqPUrhapAVlVVVVVZq0D7lQK1fi2sQKDWrxSoAa1ARhdddNHVrUDsVwrU+qmuQJGYtzMkfq9Am2yyySYpsEDuDIl5O5OwQEGtXylQ/bBAlE022WRnsUDm7QyJedGxQDmO4ziOO7JAjC666KKlskDezpCYtw+zQDFvZ0jMebNAhA8++ODjs0DXrxSo9U20QCpQ61cKuLRAfPDBBx8itUDPkJi3M4y1QCIxb2dI9rVAdNFFF11gtkDHcRzHccq2QBoS83aGNLdAbbLJJpuet0DAUqDWrwi4QBLzdobEcrhAZZNNNtncuEC4MyTm7Ua5QArU+pUCsblAXXTRRRcbukCwFKj1K4W6QAO1fqVA77pAVlVVVVVZu0Co9SsFasO7QPuVArV+LbxATjbZZJOXvECg1q8UqAG9QPN2hsS8a71ARhdddNHVvUCZtzMk5j++QOxXCtT6qb5APvjggw8Uv0CRmLczJH6/QOQ4juM46L9Am2yyySYpwEDFvJ0hMV7AQO4MiXk7k8BAF1100UXIwEBBrV8pUP3AQGr9SoFaMsFAlE022WRnwUC9nSExb5zBQObtDIl50cFAED744IMGwkA5juM4jjvCQGLezpCYcMJAjC666KKlwkC1fqVArdrCQN7OkJi3D8NACB988MFEw0Axb2dIzHnDQFu/UqDWrsNAhA8++ODjw0CtXylQ6xjEQNevFKj1TcRAAAAAAACDxEA=",
          "dtype": "f8"
         },
         "xaxis": "x",
         "y": {
          "bdata": "UD/UHuhLY0DuWiUmtrxwQDSW4Dx403dAe9GbUzrqfkBghis1fgCDQAQkiUDfi4ZAp8HmS0AXikBKX0RXoaKNQHb+UDEBl5BASM3/trFckkAanK48YiKUQOxqXcIS6JVAvTkMSMOtl0CPCLvNc3OZQGDXaVMkOZtAMqYY2dT+nEADdcdehcSeQOohO/IaRaBAVIkSNfMnoUC88Ol3ywqiQCVYwbqj7aJAjr+Y/XvQo0D3JnBAVLOkQF+OR4MslqVAyPUexgR5pkAxXfYI3VunQJrEzUu1PqhAAiyljo0hqUBrk3zRZQSqQNX6UxQ+56pAPWIrVxbKq0ClyQKa7qysQA4x2tzGj61AeJixH59yrkDg/4hid1WvQKQzsNInHLBAWecb9JONsEAOm4cVAP+wQMJO8zZscLFAdgJfWNjhsUAqtsp5RFOyQOBpNpuwxLJAlB2ivBw2s0BI0Q3eiKezQPyEef/0GLRAsDjlIGGKtEBk7FBCzfu0QBigvGM5bbVAzlMohaXetUCCB5SmEVC2QDa7/8d9wbZA6m5r6ekyt0CgItcKVqS3QFTWQizCFbhACIquTS6HuEC8PRpvmvi4QHDxhZAGarlAJqXxsXLbuUDaWF3T3ky6QI4MyfRKvrpAQsA0Frcvu0D4c6A3I6G7QKonDFmPErxAYNt3evuDvEAUj+ObZ/W8QMhCT73TZr1Afva63j/YvUAwqiYArEm+QOZdkiEYu75AmhH+QoQsv0BOxWlk8J2/QIG86kKuB8BAXJagU2RAwEA2cFZkGnnAQBBKDHXQscBA6iPChYbqwEDE/XeWPCPBQJ7XLafyW8FAeLHjt6iUwUBTi5nIXs3BQC1lT9kUBsJABz8F6so+wkDiGLv6gHfCQLvycAs3sMJAlswmHO3owkBwptwsoyHDQEqAkj1ZWsNAJVpITg+Tw0D/M/5excvDQNgNtG97BMRAs+dpgDE9xECNwR+R53XEQGeb1aGdrsRAQnWLslPnxEAbT0HDCSDFQPYo99O/WMVA0AKt5HWRxUCq3GL1K8rFQIW2GAbiAsZAX5DOFpg7xkA=",
          "dtype": "f8"
         },
         "yaxis": "y"
        }
       ],
       "layout": {
        "annotations": [
         {
          "align": "right",
          "font": {
           "color": "pink",
           "size": 12
          },
          "showarrow": false,
          "text": "y = x",
          "x": 11027.1,
          "y": 11027.1
         },
         {
          "align": "right",
          "font": {
           "color": "black",
           "size": 12
          },
          "showarrow": false,
          "text": "r^2 = 0.70",
          "x": 11027.1,
          "y": 11952.347605811614
         }
        ],
        "height": 600,
        "legend": {
         "tracegroupgap": 0
        },
        "margin": {
         "b": 100,
         "l": 100,
         "r": 100,
         "t": 100
        },
        "shapes": [
         {
          "line": {
           "color": "Red",
           "dash": "dash",
           "width": 2
          },
          "type": "line",
          "x0": 0,
          "x1": 10502,
          "y0": 0,
          "y1": 10502
         }
        ],
        "template": {
         "data": {
          "bar": [
           {
            "error_x": {
             "color": "rgb(36,36,36)"
            },
            "error_y": {
             "color": "rgb(36,36,36)"
            },
            "marker": {
             "line": {
              "color": "white",
              "width": 0.5
             },
             "pattern": {
              "fillmode": "overlay",
              "size": 10,
              "solidity": 0.2
             }
            },
            "type": "bar"
           }
          ],
          "barpolar": [
           {
            "marker": {
             "line": {
              "color": "white",
              "width": 0.5
             },
             "pattern": {
              "fillmode": "overlay",
              "size": 10,
              "solidity": 0.2
             }
            },
            "type": "barpolar"
           }
          ],
          "carpet": [
           {
            "aaxis": {
             "endlinecolor": "rgb(36,36,36)",
             "gridcolor": "white",
             "linecolor": "white",
             "minorgridcolor": "white",
             "startlinecolor": "rgb(36,36,36)"
            },
            "baxis": {
             "endlinecolor": "rgb(36,36,36)",
             "gridcolor": "white",
             "linecolor": "white",
             "minorgridcolor": "white",
             "startlinecolor": "rgb(36,36,36)"
            },
            "type": "carpet"
           }
          ],
          "choropleth": [
           {
            "colorbar": {
             "outlinewidth": 1,
             "tickcolor": "rgb(36,36,36)",
             "ticks": "outside"
            },
            "type": "choropleth"
           }
          ],
          "contour": [
           {
            "colorbar": {
             "outlinewidth": 1,
             "tickcolor": "rgb(36,36,36)",
             "ticks": "outside"
            },
            "colorscale": [
             [
              0.0,
              "#440154"
             ],
             [
              0.1111111111111111,
              "#482878"
             ],
             [
              0.2222222222222222,
              "#3e4989"
             ],
             [
              0.3333333333333333,
              "#31688e"
             ],
             [
              0.4444444444444444,
              "#26828e"
             ],
             [
              0.5555555555555556,
              "#1f9e89"
             ],
             [
              0.6666666666666666,
              "#35b779"
             ],
             [
              0.7777777777777778,
              "#6ece58"
             ],
             [
              0.8888888888888888,
              "#b5de2b"
             ],
             [
              1.0,
              "#fde725"
             ]
            ],
            "type": "contour"
           }
          ],
          "contourcarpet": [
           {
            "colorbar": {
             "outlinewidth": 1,
             "tickcolor": "rgb(36,36,36)",
             "ticks": "outside"
            },
            "type": "contourcarpet"
           }
          ],
          "heatmap": [
           {
            "colorbar": {
             "outlinewidth": 1,
             "tickcolor": "rgb(36,36,36)",
             "ticks": "outside"
            },
            "colorscale": [
             [
              0.0,
              "#440154"
             ],
             [
              0.1111111111111111,
              "#482878"
             ],
             [
              0.2222222222222222,
              "#3e4989"
             ],
             [
              0.3333333333333333,
              "#31688e"
             ],
             [
              0.4444444444444444,
              "#26828e"
             ],
             [
              0.5555555555555556,
              "#1f9e89"
             ],
             [
              0.6666666666666666,
              "#35b779"
             ],
             [
              0.7777777777777778,
              "#6ece58"
             ],
             [
              0.8888888888888888,
              "#b5de2b"
             ],
             [
              1.0,
              "#fde725"
             ]
            ],
            "type": "heatmap"
           }
          ],
          "histogram": [
           {
            "marker": {
             "line": {
              "color": "white",
              "width": 0.6
             }
            },
            "type": "histogram"
           }
          ],
          "histogram2d": [
           {
            "colorbar": {
             "outlinewidth": 1,
             "tickcolor": "rgb(36,36,36)",
             "ticks": "outside"
            },
            "colorscale": [
             [
              0.0,
              "#440154"
             ],
             [
              0.1111111111111111,
              "#482878"
             ],
             [
              0.2222222222222222,
              "#3e4989"
             ],
             [
              0.3333333333333333,
              "#31688e"
             ],
             [
              0.4444444444444444,
              "#26828e"
             ],
             [
              0.5555555555555556,
              "#1f9e89"
             ],
             [
              0.6666666666666666,
              "#35b779"
             ],
             [
              0.7777777777777778,
              "#6ece58"
             ],
             [
              0.8888888888888888,
              "#b5de2b"
             ],
             [
              1.0,
              "#fde725"
             ]
            ],
            "type": "histogram2d"
           }
          ],
          "histogram2dcontour": [
           {
            "colorbar": {
             "outlinewidth": 1,
             "tickcolor": "rgb(36,36,36)",
             "ticks": "outside"
            },
            "colorscale": [
             [
              0.0,
              "#440154"
             ],
             [
              0.1111111111111111,
              "#482878"
             ],
             [
              0.2222222222222222,
              "#3e4989"
             ],
             [
              0.3333333333333333,
              "#31688e"
             ],
             [
              0.4444444444444444,
              "#26828e"
             ],
             [
              0.5555555555555556,
              "#1f9e89"
             ],
             [
              0.6666666666666666,
              "#35b779"
             ],
             [
              0.7777777777777778,
              "#6ece58"
             ],
             [
              0.8888888888888888,
              "#b5de2b"
             ],
             [
              1.0,
              "#fde725"
             ]
            ],
            "type": "histogram2dcontour"
           }
          ],
          "mesh3d": [
           {
            "colorbar": {
             "outlinewidth": 1,
             "tickcolor": "rgb(36,36,36)",
             "ticks": "outside"
            },
            "type": "mesh3d"
           }
          ],
          "parcoords": [
           {
            "line": {
             "colorbar": {
              "outlinewidth": 1,
              "tickcolor": "rgb(36,36,36)",
              "ticks": "outside"
             }
            },
            "type": "parcoords"
           }
          ],
          "pie": [
           {
            "automargin": true,
            "type": "pie"
           }
          ],
          "scatter": [
           {
            "fillpattern": {
             "fillmode": "overlay",
             "size": 10,
             "solidity": 0.2
            },
            "type": "scatter"
           }
          ],
          "scatter3d": [
           {
            "line": {
             "colorbar": {
              "outlinewidth": 1,
              "tickcolor": "rgb(36,36,36)",
              "ticks": "outside"
             }
            },
            "marker": {
             "colorbar": {
              "outlinewidth": 1,
              "tickcolor": "rgb(36,36,36)",
              "ticks": "outside"
             }
            },
            "type": "scatter3d"
           }
          ],
          "scattercarpet": [
           {
            "marker": {
             "colorbar": {
              "outlinewidth": 1,
              "tickcolor": "rgb(36,36,36)",
              "ticks": "outside"
             }
            },
            "type": "scattercarpet"
           }
          ],
          "scattergeo": [
           {
            "marker": {
             "colorbar": {
              "outlinewidth": 1,
              "tickcolor": "rgb(36,36,36)",
              "ticks": "outside"
             }
            },
            "type": "scattergeo"
           }
          ],
          "scattergl": [
           {
            "marker": {
             "colorbar": {
              "outlinewidth": 1,
              "tickcolor": "rgb(36,36,36)",
              "ticks": "outside"
             }
            },
            "type": "scattergl"
           }
          ],
          "scattermap": [
           {
            "marker": {
             "colorbar": {
              "outlinewidth": 1,
              "tickcolor": "rgb(36,36,36)",
              "ticks": "outside"
             }
            },
            "type": "scattermap"
           }
          ],
          "scattermapbox": [
           {
            "marker": {
             "colorbar": {
              "outlinewidth": 1,
              "tickcolor": "rgb(36,36,36)",
              "ticks": "outside"
             }
            },
            "type": "scattermapbox"
           }
          ],
          "scatterpolar": [
           {
            "marker": {
             "colorbar": {
              "outlinewidth": 1,
              "tickcolor": "rgb(36,36,36)",
              "ticks": "outside"
             }
            },
            "type": "scatterpolar"
           }
          ],
          "scatterpolargl": [
           {
            "marker": {
             "colorbar": {
              "outlinewidth": 1,
              "tickcolor": "rgb(36,36,36)",
              "ticks": "outside"
             }
            },
            "type": "scatterpolargl"
           }
          ],
          "scatterternary": [
           {
            "marker": {
             "colorbar": {
              "outlinewidth": 1,
              "tickcolor": "rgb(36,36,36)",
              "ticks": "outside"
             }
            },
            "type": "scatterternary"
           }
          ],
          "surface": [
           {
            "colorbar": {
             "outlinewidth": 1,
             "tickcolor": "rgb(36,36,36)",
             "ticks": "outside"
            },
            "colorscale": [
             [
              0.0,
              "#440154"
             ],
             [
              0.1111111111111111,
              "#482878"
             ],
             [
              0.2222222222222222,
              "#3e4989"
             ],
             [
              0.3333333333333333,
              "#31688e"
             ],
             [
              0.4444444444444444,
              "#26828e"
             ],
             [
              0.5555555555555556,
              "#1f9e89"
             ],
             [
              0.6666666666666666,
              "#35b779"
             ],
             [
              0.7777777777777778,
              "#6ece58"
             ],
             [
              0.8888888888888888,
              "#b5de2b"
             ],
             [
              1.0,
              "#fde725"
             ]
            ],
            "type": "surface"
           }
          ],
          "table": [
           {
            "cells": {
             "fill": {
              "color": "rgb(237,237,237)"
             },
             "line": {
              "color": "white"
             }
            },
            "header": {
             "fill": {
              "color": "rgb(217,217,217)"
             },
             "line": {
              "color": "white"
             }
            },
            "type": "table"
           }
          ]
         },
         "layout": {
          "annotationdefaults": {
           "arrowhead": 0,
           "arrowwidth": 1
          },
          "autotypenumbers": "strict",
          "coloraxis": {
           "colorbar": {
            "outlinewidth": 1,
            "tickcolor": "rgb(36,36,36)",
            "ticks": "outside"
           }
          },
          "colorscale": {
           "diverging": [
            [
             0.0,
             "rgb(103,0,31)"
            ],
            [
             0.1,
             "rgb(178,24,43)"
            ],
            [
             0.2,
             "rgb(214,96,77)"
            ],
            [
             0.3,
             "rgb(244,165,130)"
            ],
            [
             0.4,
             "rgb(253,219,199)"
            ],
            [
             0.5,
             "rgb(247,247,247)"
            ],
            [
             0.6,
             "rgb(209,229,240)"
            ],
            [
             0.7,
             "rgb(146,197,222)"
            ],
            [
             0.8,
             "rgb(67,147,195)"
            ],
            [
             0.9,
             "rgb(33,102,172)"
            ],
            [
             1.0,
             "rgb(5,48,97)"
            ]
           ],
           "sequential": [
            [
             0.0,
             "#440154"
            ],
            [
             0.1111111111111111,
             "#482878"
            ],
            [
             0.2222222222222222,
             "#3e4989"
            ],
            [
             0.3333333333333333,
             "#31688e"
            ],
            [
             0.4444444444444444,
             "#26828e"
            ],
            [
             0.5555555555555556,
             "#1f9e89"
            ],
            [
             0.6666666666666666,
             "#35b779"
            ],
            [
             0.7777777777777778,
             "#6ece58"
            ],
            [
             0.8888888888888888,
             "#b5de2b"
            ],
            [
             1.0,
             "#fde725"
            ]
           ],
           "sequentialminus": [
            [
             0.0,
             "#440154"
            ],
            [
             0.1111111111111111,
             "#482878"
            ],
            [
             0.2222222222222222,
             "#3e4989"
            ],
            [
             0.3333333333333333,
             "#31688e"
            ],
            [
             0.4444444444444444,
             "#26828e"
            ],
            [
             0.5555555555555556,
             "#1f9e89"
            ],
            [
             0.6666666666666666,
             "#35b779"
            ],
            [
             0.7777777777777778,
             "#6ece58"
            ],
            [
             0.8888888888888888,
             "#b5de2b"
            ],
            [
             1.0,
             "#fde725"
            ]
           ]
          },
          "colorway": [
           "#91268F",
           "#8CC63E",
           "#00A7A0",
           "#F05A28",
           "#4C4C4C",
           "#630460",
           "#9f3913",
           "#588527",
           "#00716c",
           "#3e4040"
          ],
          "font": {
           "color": "rgb(36,36,36)",
           "family": "Poppins",
           "size": 11
          },
          "geo": {
           "bgcolor": "white",
           "lakecolor": "white",
           "landcolor": "white",
           "showlakes": true,
           "showland": true,
           "subunitcolor": "white"
          },
          "hoverlabel": {
           "align": "left"
          },
          "hovermode": "closest",
          "mapbox": {
           "style": "light"
          },
          "paper_bgcolor": "white",
          "plot_bgcolor": "white",
          "polar": {
           "angularaxis": {
            "gridcolor": "rgb(232,232,232)",
            "linecolor": "rgb(36,36,36)",
            "showgrid": false,
            "showline": true,
            "ticks": "outside"
           },
           "bgcolor": "white",
           "radialaxis": {
            "gridcolor": "rgb(232,232,232)",
            "linecolor": "rgb(36,36,36)",
            "showgrid": false,
            "showline": true,
            "ticks": "outside"
           }
          },
          "scene": {
           "xaxis": {
            "backgroundcolor": "white",
            "gridcolor": "rgb(232,232,232)",
            "gridwidth": 2,
            "linecolor": "rgb(36,36,36)",
            "showbackground": true,
            "showgrid": false,
            "showline": true,
            "ticks": "outside",
            "zeroline": false,
            "zerolinecolor": "rgb(36,36,36)"
           },
           "yaxis": {
            "backgroundcolor": "white",
            "gridcolor": "rgb(232,232,232)",
            "gridwidth": 2,
            "linecolor": "rgb(36,36,36)",
            "showbackground": true,
            "showgrid": false,
            "showline": true,
            "ticks": "outside",
            "zeroline": false,
            "zerolinecolor": "rgb(36,36,36)"
           },
           "zaxis": {
            "backgroundcolor": "white",
            "gridcolor": "rgb(232,232,232)",
            "gridwidth": 2,
            "linecolor": "rgb(36,36,36)",
            "showbackground": true,
            "showgrid": false,
            "showline": true,
            "ticks": "outside",
            "zeroline": false,
            "zerolinecolor": "rgb(36,36,36)"
           }
          },
          "shapedefaults": {
           "fillcolor": "black",
           "line": {
            "width": 0
           },
           "opacity": 0.3
          },
          "ternary": {
           "aaxis": {
            "gridcolor": "rgb(232,232,232)",
            "linecolor": "rgb(36,36,36)",
            "showgrid": false,
            "showline": true,
            "ticks": "outside"
           },
           "baxis": {
            "gridcolor": "rgb(232,232,232)",
            "linecolor": "rgb(36,36,36)",
            "showgrid": false,
            "showline": true,
            "ticks": "outside"
           },
           "bgcolor": "white",
           "caxis": {
            "gridcolor": "rgb(232,232,232)",
            "linecolor": "rgb(36,36,36)",
            "showgrid": false,
            "showline": true,
            "ticks": "outside"
           }
          },
          "title": {
           "x": 0.05
          },
          "xaxis": {
           "automargin": true,
           "gridcolor": "rgb(232,232,232)",
           "linecolor": "rgb(36,36,36)",
           "showgrid": false,
           "showline": true,
           "ticks": "outside",
           "title": {
            "standoff": 15
           },
           "zeroline": false,
           "zerolinecolor": "rgb(36,36,36)"
          },
          "yaxis": {
           "automargin": true,
           "gridcolor": "rgb(232,232,232)",
           "linecolor": "rgb(36,36,36)",
           "showgrid": false,
           "showline": true,
           "ticks": "outside",
           "title": {
            "standoff": 15
           },
           "zeroline": false,
           "zerolinecolor": "rgb(36,36,36)"
          }
         }
        },
        "title": {
         "text": "Heavy Trucks: Region"
        },
        "width": 800,
        "xaxis": {
         "anchor": "y",
         "domain": [
          0.0,
          1.0
         ],
         "title": {
          "text": "Observed"
         }
        },
        "yaxis": {
         "anchor": "x",
         "domain": [
          0.0,
          1.0
         ],
         "title": {
          "text": "Model"
         }
        }
       }
      },
      "text/html": [
       "<div>            <script src=\"https://cdnjs.cloudflare.com/ajax/libs/mathjax/2.7.5/MathJax.js?config=TeX-AMS-MML_SVG\"></script><script type=\"text/javascript\">if (window.MathJax && window.MathJax.Hub && window.MathJax.Hub.Config) {window.MathJax.Hub.Config({SVG: {font: \"STIX-Web\"}});}</script>                <script type=\"text/javascript\">window.PlotlyConfig = {MathJaxConfig: 'local'};</script>\n",
       "        <script charset=\"utf-8\" src=\"https://cdn.plot.ly/plotly-3.0.1.min.js\"></script>                <div id=\"e6d10621-7e7b-4e3b-afb8-62337029ad24\" class=\"plotly-graph-div\" style=\"height:600px; width:800px;\"></div>            <script type=\"text/javascript\">                window.PLOTLYENV=window.PLOTLYENV || {};                                if (document.getElementById(\"e6d10621-7e7b-4e3b-afb8-62337029ad24\")) {                    Plotly.newPlot(                        \"e6d10621-7e7b-4e3b-afb8-62337029ad24\",                        [{\"customdata\":[[\"I-5 S\\u002fO Mounts NB\",\"Pierce\"],[\"I-5 S\\u002fO Mounts SB\",\"Pierce\"],[\"I-5 S\\u002fO Division NB\",\"Pierce\"],[\"I-5 S\\u002fO Division SB\",\"Pierce\"],[\"I-5 @ N\\u002fO Division NB\",\"Pierce\"],[\"I-5 @ N\\u002fO Division SB\",\"Pierce\"],[\"I-5 S\\u002fO SR-512 NB\",\"Pierce\"],[\"I-5 S\\u002fO SR-512 SB\",\"Pierce\"],[\"I-5 N\\u002fO SR-512 NB\",\"Pierce\"],[\"I-5 N\\u002fO SR-512 SB\",\"Pierce\"],[\"I-5 N\\u002fO 56th NB\",\"Pierce\"],[\"I-5 N\\u002fO 56th SB\",\"Pierce\"],[\"I-5 E\\u002fO SR-16 NB\",\"Pierce\"],[\"I-5 E\\u002fO SR-16 SB\",\"Pierce\"],[\"I-5 E\\u002fO Port of Tacoma NB\",\"Pierce\"],[\"I-5 E\\u002fO Port of Tacoma SB (HOV from 56)\",\"Pierce\"],[\"I-5 S\\u002fO 205th NB\",\"King\"],[\"I-5 S\\u002fO 205th SB\",\"King\"],[\"I-5 @ 44th NB\",\"Snohomish\"],[\"I-5 @ 44th SB\",\"Snohomish\"],[\"I-5 N\\u002fO 164th NB\",\"Snohomish\"],[\"I-5 N\\u002fO 164th SB\",\"Snohomish\"],[\"I-5 N\\u002fO SR-526 NB\",\"Snohomish\"],[\"I-5 N\\u002fO SR-526 SB\",\"Snohomish\"],[\"I-5 N\\u002fO 41st NB\",\"Snohomish\"],[\"I-5 N\\u002fO 41st SB\",\"Snohomish\"],[\"I-5 @ SR-528 NB\",\"Snohomish\"],[\"I-5 @ SR-528 SB\",\"Snohomish\"],[\"I-5 N\\u002fO SR-531 NB\",\"Snohomish\"],[\"I-5 N\\u002fO SR-531 SB\",\"Snohomish\"],[\"I-5 Rev N\\u002fO I-5 GP NB\\u002fSB\",\"King\"],[\"I-90 E\\u002fO I-5 WB\",\"King\"],[\"I-90 E\\u002fO I-5 EB\",\"King\"],[\"I-90 E\\u002fO W Lk Sam WB\",\"King\"],[\"I-90 E\\u002fO W Lk Sam EB\",\"King\"],[\"I-90 E\\u002fO SR-900 WB\",\"King\"],[\"I-405 @ I-5 Southcenter NB\",\"King\"],[\"I-405 @ I-5 Southcenter SB\",\"King\"],[\"I-405 @ Lake Wash Blvd NB\",\"King\"],[\"I-405 @ I-90 NB\",\"King\"],[\"I-405 @ I-90 SB\",\"King\"],[\"I-405 N\\u002fO SR-527 NB\",\"Snohomish\"],[\"I-405 N\\u002fO SR-527 SB\",\"Snohomish\"],[\"SR-525 N\\u002fO I-5 NB\",\"Snohomish\"],[\"SR-525 N\\u002fO I-5 SB\",\"Snohomish\"],[\"SR-520 @ x-lake bridge WB\",\"King\"],[\"SR-520 @ x-lake bridge EB\",\"King\"],[\"SR-167 S\\u002fO 43rd NB\",\"King\"],[\"SR-167 S\\u002fO 43rd SB\",\"King\"],[\"SR-167 N\\u002fO SR-18 NB\",\"King\"],[\"SR-167 N\\u002fO SR-18 SB\",\"King\"],[\"SR-167 S\\u002fO 15th SW NB\",\"King\"],[\"SR-167 S\\u002fO 15th SW SB\",\"King\"],[\"SR-512 W\\u002fO Meridian WB\",\"Pierce\"],[\"SR-512 W\\u002fO Meridian EB\",\"Pierce\"],[\"SR-509 @ Holden NB\",\"King\"],[\"SR-509 @ Holden SB\",\"King\"],[\"SR-99 N\\u002fO 14th NB\",\"King\"],[\"SR-99 N\\u002fO 14th SB\",\"King\"],[\"SR-99 N\\u002fO WSF NB\",\"King\"],[\"SR-99 N\\u002fO WSF SB\",\"King\"],[\"SR-99 tunnel NB\",\"King\"],[\"SR-99 tunnel SB\",\"King\"],[\"SR-599 S\\u002fO Pacific NB\",\"King\"],[\"SR-599 S\\u002fO Pacific SB\",\"King\"],[\"SR-599 @ Pacific NB\",\"King\"],[\"SR-599 @ Pacific SB\",\"King\"],[\"SR-18 @ I-5 WB\",\"King\"],[\"SR-18 @ I-5 EB\",\"King\"],[\"SR-18 W\\u002fO Auburn-Black Diamond WB\",\"King\"],[\"SR-18 W\\u002fO Auburn-Black Diamond EB\",\"King\"],[\"SR-18 E\\u002fO SR-516 WB\",\"King\"],[\"SR-18 E\\u002fO SR-516 EB\",\"King\"],[\"SR-18 E\\u002fO 256th WB\",\"King\"],[\"SR-18 E\\u002fO 256th EB\",\"King\"],[\"SR-522 N\\u002fO 195th WB\",\"King\"],[\"SR-522 N\\u002fO 195th EB\",\"King\"],[\"I-5 N\\u002fO I-5 Rev CBD NB\\u002fSB\",\"King\"],[\"I-5 @ SR-532 NB\\u002fSB\",\"Snohomish\"],[\"I-5 @ Skagit border NB\\u002fSB\",\"Snohomish\"],[\"I-90 W\\u002fO SR-18 WB\\u002fEB\",\"King\"],[\"I-90 E\\u002fO SR-18 WB\\u002fEB\",\"King\"],[\"I-90 E\\u002fO 436th WB\\u002fEB\",\"King\"],[\"I-90 @ Kittitas County WB\\u002fEB\",\"King\"],[\"I-405 N\\u002fO SR-522 NB\\u002fSB\",\"King\"],[\"SR-525 N\\u002fO SR-526 NB\\u002fSB\",\"Snohomish\"],[\"SR-525 N\\u002fO 5th NB\\u002fSB\",\"Snohomish\"],[\"SR-167 N\\u002fO Grady NB\\u002fSB\",\"King\"],[\"SR-167 W\\u002fO SR-410 NB\\u002fSB\",\"Pierce\"],[\"SR-167 E\\u002fO SR-161 NB\\u002fSB\",\"Pierce\"],[\"SR-410 E\\u002fO S Prairie WB\\u002fEB\",\"Pierce\"],[\"SR-410 E\\u002fO 244th WB\\u002fEB\",\"King\"],[\"SR-410 E\\u002fO Farman WB\\u002fEB\",\"King\"],[\"SR-410 @ Greenwater River WB\\u002fEB\",\"King\"],[\"SR-410 E\\u002fO Chinook WB\\u002fEB\",\"Pierce\"],[\"SR-410 W\\u002fO SR-123 WB\\u002fEB\",\"Pierce\"],[\"SR-410 E\\u002fO SR-123 WB\\u002fEB\",\"Pierce\"],[\"SR-512 @ I-5 WB\\u002fEB\",\"Pierce\"],[\"SR-512 W\\u002fO SR-7 WB\\u002fEB\",\"Pierce\"],[\"SR-512 S\\u002fO SR-167 WB\\u002fEB\",\"Pierce\"],[\"SR-509 E\\u002fO I-705 NB\\u002fSB\",\"Pierce\"],[\"SR-509 W\\u002fO Alexander NB\\u002fSB\",\"Pierce\"],[\"SR-509 S\\u002fO 11th NB\\u002fSB\",\"Pierce\"],[\"SR-509 N\\u002fO Hyada NB\\u002fSB\",\"Pierce\"],[\"SR-509 E\\u002fO Soundview NB\\u002fSB\",\"Pierce\"],[\"SR-509 E\\u002fO 47th NB\\u002fSB\",\"King\"],[\"SR-509 E\\u002fO 21st NB\\u002fSB\",\"King\"],[\"SR-509 W\\u002fO SR-516 NB\\u002fSB\",\"King\"],[\"SR-509 W\\u002fO Des Moines Mem NB\\u002fSB\",\"King\"],[\"SR-509 E\\u002fO 1st Ave NB\\u002fSB\",\"King\"],[\"SR-509 E\\u002fO Des Moines Mem NB\\u002fSB\",\"King\"],[\"SR-509 @ SR-509 ramp overpass NB\\u002fSB\",\"King\"],[\"SR-509 N\\u002fO Des Moines Mem NB\\u002fSB\",\"King\"],[\"SR-509 N\\u002fO SR-518 NB\\u002fSB\",\"King\"],[\"SR-99 @ I-5 NB\\u002fSB\",\"Pierce\"],[\"SR-99 E\\u002fO 54th NB\\u002fSB\",\"Pierce\"],[\"SR-99 S\\u002fO Porter NB\\u002fSB\",\"Pierce\"],[\"SR-99 S\\u002fO SR-18 NB\\u002fSB\",\"King\"],[\"SR-99 N\\u002fO SR-18 NB\\u002fSB\",\"King\"],[\"SR-99 N\\u002fO 320th NB\\u002fSB\",\"King\"],[\"SR-99 N\\u002fO 188th NB\\u002fSB\",\"King\"],[\"SR-99 @ WSF NB\\u002fSB\",\"King\"],[\"SR-99 @ Aurora Bridge NB\\u002fSB\",\"King\"],[\"SR-99 N\\u002fO 38th NB\\u002fSB\",\"King\"],[\"SR-99 S\\u002fO Roosevelt NB\\u002fSB\",\"King\"],[\"SR-99 E\\u002fO Evergreen NB\\u002fSB\",\"Snohomish\"],[\"SR-599 N\\u002fO I-5 NB\\u002fSB\",\"King\"],[\"SR-518 @ SR-509 WB\\u002fEB\",\"King\"],[\"SR-518 E\\u002fO SR-509 WB\\u002fEB\",\"King\"],[\"SR-18 E\\u002fO SR-99 WB\\u002fEB\",\"King\"],[\"SR-18 N\\u002fO 304th WB\\u002fEB\",\"King\"],[\"SR-18 S\\u002fO I-90 WB\\u002fEB\",\"King\"],[\"SR-16 @ TNB NB\\u002fSB\",\"Pierce\"],[\"SR-16 @ Purdy Dr NB\\u002fSB\",\"Pierce\"],[\"SR-16  N\\u002fO SR-302 NB\\u002fSB\",\"Kitsap\"],[\"SR-16 N\\u002fO SR-160 NB\\u002fSB\",\"Kitsap\"],[\"SR-16 N\\u002fO Tremont NB\\u002fSB\",\"Kitsap\"],[\"SR-16 S\\u002fO SR-3 NB\",\"Kitsap\"],[\"SR-202 @ SR-522 NB\\u002fSB\",\"King\"],[\"SR-202 N\\u002fO 145th NB\\u002fSB\",\"King\"],[\"SR-202 @ Sammamish River Br NB\\u002fSB\",\"King\"],[\"SR-202 S\\u002fO 144th NB\\u002fSB\",\"King\"],[\"SR-202 N\\u002fO Redmond Way NB\\u002fSB\",\"King\"],[\"SR-202 E\\u002fO 164th NB\\u002fSB\",\"King\"],[\"SR-202 E\\u002fO SR-520 NB\\u002fSB\",\"King\"],[\"SR-202 E\\u002fO E Lk Samm NB\\u002fSB\",\"King\"],[\"SR-202 E\\u002fO Sahalee NB\\u002fSB\",\"King\"],[\"SR-202 E\\u002fO 236th NB\\u002fSB\",\"King\"],[\"SR-202 S\\u002fO Ames Lake NB\\u002fSB\",\"King\"],[\"SR-202 S\\u002fO Duthie Hill NB\\u002fSB\",\"King\"],[\"SR-202 E\\u002fO SR-203 NB\\u002fSB\",\"King\"],[\"SR-202 N\\u002fO I-90 NB\\u002fSB\",\"King\"],[\"SR-526 W\\u002fO Paine Field Blvd WB\\u002fEB\",\"Snohomish\"],[\"SR-526 E\\u002fO Paine Field Blvd WB\\u002fEB\",\"Snohomish\"],[\"SR-9 @ SR-522 NB\\u002fSB\",\"Snohomish\"],[\"SR-9 N\\u002fO SR-2 NB\\u002fSB\",\"Snohomish\"],[\"SR-9 N\\u002fO SR-204 NB\\u002fSB\",\"Snohomish\"],[\"SR-9 N\\u002fO SR-92 NB\\u002fSB\",\"Snohomish\"],[\"SR-9 N\\u002fO 132nd NB\\u002fSB\",\"Snohomish\"],[\"SR-9 N\\u002fO SR-531 NB\\u002fSB\",\"Snohomish\"],[\"SR-9 S\\u002fO 67th NB\\u002fSB\",\"Snohomish\"],[\"SR-9 N\\u002fO Kackman NB\\u002fSB\",\"Snohomish\"],[\"SR-9 N\\u002fO Stanwood-Bryant NB\\u002fSB\",\"Snohomish\"],[\"SR-532 @ Island County WB\\u002fEB\",\"Snohomish\"],[\"SR-532 W\\u002fO 28th WB\\u002fEB\",\"Snohomish\"],[\"SR-522 N\\u002fO 145th NB\\u002fSB\",\"King\"],[\"SR-104 @ Hood Canal Bridge WB\\u002fEB\",\"Kitsap\"],[\"SR-104 E\\u002fO Hood Canal Bridge WB\\u002fEB\",\"Kitsap\"],[\"SR-104 N\\u002fO Pt Gamble Rd WB\\u002fEB\",\"Kitsap\"],[\"SR-104 E\\u002fO SR-307 WB\\u002fEB\",\"Kitsap\"],[\"SR-104 E\\u002fO Hansville WB\\u002fEB\",\"Kitsap\"],[\"SR-104 @ Ferry Loading Edm WB\\u002fEB\",\"Snohomish\"],[\"SR-104 N\\u002fO Pine WB\\u002fEB\",\"Snohomish\"],[\"SR-104 E\\u002fO 5th WB\\u002fEB\",\"Snohomish\"],[\"SR-104 W\\u002fO 19th WB\\u002fEB\",\"King\"],[\"SR-160 @ SR-16 WB\\u002fEB\",\"Kitsap\"],[\"SR-160 E\\u002fO Long Lake Rd WB\\u002fEB\",\"Kitsap\"],[\"SR-160 W\\u002fO Banner WB\\u002fEB\",\"Kitsap\"],[\"SR-160 E\\u002fO Peterson WB\\u002fEB\",\"Kitsap\"],[\"SR-160 S\\u002fO Southworth Dr WB\\u002fEB\",\"Kitsap\"],[\"SR-166 E\\u002fO SR-16 WB\\u002fEB\",\"Kitsap\"],[\"SR-3 E\\u002fO Sunset Way NB\\u002fSB\",\"Kitsap\"],[\"SR-3 N\\u002fO SR-305 NB\\u002fSB\",\"Kitsap\"],[\"SR-3 S\\u002fO Newberry Hill Rd NB\\u002fSB\",\"Kitsap\"],[\"SR-3 @ SR-304 NB\\u002fSB\",\"Kitsap\"],[\"SR-3 NE of SR-16 NB\\u002fSB\",\"Kitsap\"],[\"SR-3 W\\u002fO Lake Flora Rd NB\\u002fSB\",\"Kitsap\"],[\"SR-302 N\\u002fO 144th WB\\u002fEB\",\"Pierce\"],[\"SR-302 S\\u002fO 144th WB\\u002fEB\",\"Pierce\"],[\"SR-302 W\\u002fO Key Peninsula Hwy WB\\u002fEB\",\"Pierce\"],[\"SR-302 W\\u002fO Wright-Bliss WB\\u002fEB (E\\u002fO?)\",\"Pierce\"],[\"SR-303 E\\u002fO SR-3 NB\\u002fSB\",\"Kitsap\"],[\"SR-303 N\\u002fO 11th St NB\\u002fSB\",\"Kitsap\"],[\"SR-303 N\\u002fO SR-304 NB\\u002fSB\",\"Kitsap\"],[\"SR-304 E\\u002fO SR-3 WB\\u002fEB\",\"Kitsap\"],[\"SR-304 W\\u002fO Naval WB\\u002fEB\",\"Kitsap\"],[\"SR-305 W\\u002fO SR-307 WB\\u002fEB\",\"Kitsap\"],[\"SR-305 W\\u002fO Suquamish Way WB\\u002fEB\",\"Kitsap\"],[\"SR-305 N\\u002fO Day Rd WB\\u002fEB\",\"Kitsap\"],[\"SR-305 N\\u002fO High School Rd WB\\u002fEB\",\"Kitsap\"],[\"SR-305 S\\u002fO Winslow Way WB\\u002fEB\",\"Kitsap\"],[\"SR-305 @ Ferry Ramp WB\\u002fEB\",\"Kitsap\"],[\"SR-307 W\\u002fO SR-104 NB\\u002fSB\",\"Kitsap\"],[\"SR-307 N\\u002fO Gunderson NB\\u002fSB\",\"Kitsap\"],[\"SR-307 S\\u002fO Gunderson NB\\u002fSB\",\"Kitsap\"],[\"SR-307 N\\u002fO SR-305 NB\\u002fSB\",\"Kitsap\"],[\"SR-308 @ SR-3 WB\\u002fEB\",\"Kitsap\"],[\"SR-308 E\\u002fO SR-3 WB\\u002fEB\",\"Kitsap\"],[\"SR-308 E\\u002fO Silverdale Way WB\\u002fEB\",\"Kitsap\"],[\"SR-308 W\\u002fO Brownsville Hwy WB\\u002fEB\",\"Kitsap\"],[\"SR-310 @ SR-3 WB\\u002fEB\",\"Kitsap\"],[\"SR-310 W\\u002fO Callow WB\\u002fEB\",\"Kitsap\"],[\"SR-516 E\\u002fO SR-509 WB\\u002fEB\",\"King\"],[\"SR-516 W\\u002fO I-5 WB\\u002fEB\",\"King\"],[\"SR-516 E\\u002fO Meeker WB\\u002fEB\",\"King\"],[\"SR-516 W\\u002fO SR-167 WB\\u002fEB\",\"King\"],[\"SR-516 E\\u002fO SR-167 WB\\u002fEB\",\"King\"],[\"SR-516 E\\u002fO SR-18 WB\\u002fEB\",\"King\"],[\"SR-161 E\\u002fO SR-7 NB\\u002fSB\",\"Pierce\"],[\"SR-161 N\\u002fO Center NB\\u002fSB\",\"Pierce\"],[\"SR-161 N\\u002fO Eatonville Cutoff NB\\u002fSB\",\"Pierce\"],[\"SR-161 N\\u002fO 304th NB\\u002fSB\",\"Pierce\"],[\"SR-161 N\\u002fO 264th NB\\u002fSB\",\"Pierce\"],[\"SR-161 S\\u002fO 224th NB\\u002fSB\",\"Pierce\"],[\"SR-161 N\\u002fO 224th NB\\u002fSB\",\"Pierce\"],[\"SR-161 N\\u002fO 204th NB\\u002fSB\",\"Pierce\"],[\"SR-161 S\\u002fO SR-167 SB off-ramp NB\\u002fSB\",\"Pierce\"],[\"SR-161 S\\u002fO Valley NB\\u002fSB\",\"Pierce\"],[\"SR-161 N\\u002fO Valley NB\\u002fSB\",\"Pierce\"],[\"SR-161 N\\u002fO 8th NB\\u002fSB\",\"Pierce\"],[\"SR-900 S\\u002fO NB I-5 on-ramp @ Boe Acc WB\\u002fEB\",\"King\"],[\"SR-900 E\\u002fO 68th WB\\u002fEB\",\"King\"],[\"SR-900 @ I-405 WB\\u002fEB\",\"King\"],[\"SR-900 E\\u002fO 148th WB\\u002fEB\",\"King\"],[\"SR-900 N\\u002fO Talus WB\\u002fEB\",\"King\"],[\"SR-900 N\\u002fO Newport WB\\u002fEB\",\"King\"],[\"SR-524 W\\u002fO 3rd WB\\u002fEB\",\"Snohomish\"],[\"SR-524 S\\u002fO Main WB\\u002fEB\",\"Snohomish\"],[\"SR-524 N\\u002fO Main WB\\u002fEB\",\"Snohomish\"],[\"SR-524 E\\u002fO 68th WB\\u002fEB\",\"Snohomish\"],[\"SR-524 E\\u002fO 39th WB\\u002fEB\",\"Snohomish\"],[\"SR-524 N\\u002fO Paradise Lake WB\\u002fEB\",\"Snohomish\"],[\"SR-7 @ Thurston County NB\\u002fSB\",\"Pierce\"],[\"SR-7 W\\u002fO Alder Cutoff NB\\u002fSB\",\"Pierce\"],[\"SR-7 N\\u002fO Eatonville Hwy NB\\u002fSB\",\"Pierce\"],[\"SR-7 N\\u002fO Silver Lake NB\\u002fSB\",\"Pierce\"],[\"SR-7 S\\u002fO SR-702 NB\\u002fSB\",\"Pierce\"],[\"SR-7 N\\u002fO 304th NB\\u002fSB\",\"Pierce\"],[\"SR-7 N\\u002fO 260th NB\\u002fSB\",\"Pierce\"],[\"SR-7 S\\u002fO 224th NB\\u002fSB\",\"Pierce\"],[\"SR-7 N\\u002fO 224th NB\\u002fSB\",\"Pierce\"],[\"SR-7 N\\u002fO 38th NB\\u002fSB\",\"Pierce\"],[\"SR-2 E\\u002fO I-5 WB\\u002fEB\",\"Snohomish\"],[\"SR-2 S\\u002fO SR-204 WB\\u002fEB\",\"Snohomish\"],[\"SR-2 E\\u002fO Main WB\\u002fEB\",\"Snohomish\"],[\"SR-2 E\\u002fO Rice WB\\u002fEB\",\"Snohomish\"],[\"SR-2 E\\u002fO 10th (Gold Bar) WB\\u002fEB\",\"Snohomish\"],[\"SR-2 W\\u002fO Index-Galena WB\\u002fEB\",\"Snohomish\"],[\"SR-2 E\\u002fO Index-Galena WB\\u002fEB\",\"Snohomish\"],[\"SR-2 E\\u002fO Skykomish WB\\u002fEB\",\"King\"],[\"SR-527 N\\u002fO I-405 NB\\u002fSB\",\"Snohomish\"],[\"SR-527 N\\u002fO 196th NB\\u002fSB\",\"Snohomish\"],[\"SR-527 N\\u002fO Dumas NB\\u002fSB\",\"Snohomish\"],[\"SR-527 N\\u002fO 100th NB\\u002fSB\",\"Snohomish\"],[\"SR-513 S\\u002fO 44th NB\\u002fSB\",\"King\"],[\"SR-169 N\\u002fO SR-164 NB\\u002fSB\",\"King\"],[\"SR-169 S\\u002fO Lawson NB\\u002fSB\",\"King\"],[\"SR-169 S\\u002fO 276th NB\\u002fSB\",\"King\"],[\"SR-169 N\\u002fO 280th NB\\u002fSB\",\"King\"],[\"SR-169 N\\u002fO 231st NB\\u002fSB\",\"King\"],[\"SR-169 N\\u002fO 232nd NB\\u002fSB\",\"King\"],[\"SR-169 W\\u002fO 140th NB\\u002fSB\",\"King\"],[\"SR-515 N\\u002fO SR-516 NB\\u002fSB\",\"King\"],[\"SR-515 N\\u002fO 108th NB\\u002fSB\",\"King\"],[\"SR-515 N\\u002fO Puget NB\\u002fSB\",\"King\"],[\"SR-181 N\\u002fO SR-516 NB\\u002fSB\",\"King\"],[\"SR-181 S\\u002fO James NB\\u002fSB\",\"King\"],[\"SR-181 N\\u002fO James NB\\u002fSB\",\"King\"],[\"SR-181 N\\u002fO 228th NB\\u002fSB\",\"King\"],[\"SR-181 N\\u002fO 180th NB\\u002fSB\",\"King\"],[\"SR-181 S\\u002fO Longacres NB\\u002fSB\",\"King\"],[\"SR-523 E\\u002fO Lenora WB\\u002fEB\",\"King\"],[\"SR-529 @ I-5 (Evt) NB\\u002fSB\",\"Snohomish\"],[\"SR-529 S\\u002fO Everett NB\\u002fSB\",\"Snohomish\"],[\"SR-529 W\\u002fO Maple NB\\u002fSB\",\"Snohomish\"],[\"SR-529 N\\u002fO Everett NB\\u002fSB\",\"Snohomish\"],[\"SR-529 N\\u002fO Broadway NB\\u002fSB\",\"Snohomish\"],[\"SR-96 @ I-5 WB\\u002fEB\",\"Snohomish\"],[\"SR-96 N\\u002fO 132nd WB\\u002fEB\",\"Snohomish\"],[\"SR-96 E\\u002fO Seattle Hill WB\\u002fEB\",\"Snohomish\"],[\"SR-164 @ SR-18 WB\\u002fEB\",\"King\"],[\"SR-164 S\\u002fO 400th WB\\u002fEB\",\"King\"],[\"SR-528 @ I-5 WB\\u002fEB\",\"Snohomish\"],[\"SR-528 E\\u002fO SR-529 WB\\u002fEB\",\"Snohomish\"],[\"SR-531 N\\u002fO Rose WB\\u002fEB\",\"Snohomish\"],[\"SR-531 E\\u002fO Lk Goodwin WB\\u002fEB\",\"Snohomish\"],[\"SR-531 E\\u002fO 27th WB\\u002fEB\",\"Snohomish\"],[\"SR-531 E\\u002fO I-5 WB\\u002fEB\",\"Snohomish\"],[\"SR-531 E\\u002fO 43rd WB\\u002fEB\",\"Snohomish\"],[\"SR-531 W\\u002fO 67th WB\\u002fEB\",\"Snohomish\"],[\"SR-531 E\\u002fO 67th WB\\u002fEB\",\"Snohomish\"],[\"SR-162 @ SR-410 WB\\u002fEB\",\"Pierce\"],[\"SR-162 S\\u002fO Pioneer WB\\u002fEB\",\"Pierce\"],[\"SR-162 E\\u002fO Orville WB\\u002fEB\",\"Pierce\"],[\"SR-162 E\\u002fO S Prairie WB\\u002fEB\",\"Pierce\"],[\"SR-162 N\\u002fO SR-165 WB\\u002fEB\",\"Pierce\"],[\"SR-163 @ SR-16 NB\\u002fSB\",\"Pierce\"],[\"SR-163 N\\u002fO 37th NB\\u002fSB\",\"Pierce\"],[\"SR-163 N\\u002fO Park NB\\u002fSB\",\"Pierce\"],[\"SR-530 @ I-5 WB\\u002fEB\",\"Snohomish\"],[\"SR-530 E\\u002fO Smokey Pt WB\\u002fEB\",\"Snohomish\"],[\"SR-530 N\\u002fO 211th WB\\u002fEB\",\"Snohomish\"],[\"SR-530 E\\u002fO SR-9 WB\\u002fEB\",\"Snohomish\"],[\"SR-530 W\\u002fO Arlington Hts WB\\u002fEB\",\"Snohomish\"],[\"SR-530 E\\u002fO Arlington Hts WB\\u002fEB\",\"Snohomish\"],[\"SR-530 W\\u002fO Jim Creek WB\\u002fEB\",\"Snohomish\"],[\"SR-530 W\\u002fO Ramstad WB\\u002fEB\",\"Snohomish\"],[\"SR-530 @ Skagit County WB\\u002fEB\",\"Snohomish\"],[\"SR-203 N\\u002fO 203rd NB\\u002fSB\",\"Snohomish\"],[\"SR-203 N\\u002fO Cherry Valley NB\\u002fSB\",\"King\"],[\"SR-203 N\\u002fO 124th NB\\u002fSB\",\"King\"],[\"SR-203 W\\u002fO Stillwater Hill NB\\u002fSB\",\"King\"],[\"SR-203 N\\u002fO Carnation Farm NB\\u002fSB\",\"King\"],[\"SR-203 N\\u002fO Tolt Hill NB\\u002fSB\",\"King\"],[\"SR-203 N\\u002fO SR-202 NB\\u002fSB\",\"King\"],[\"SR-507 S\\u002fO SR-7 NB\\u002fSB\",\"Pierce\"],[\"SR-507 S\\u002fO E Gate NB\\u002fSB\",\"Pierce\"],[\"SR-507 S\\u002fO 288th NB\\u002fSB\",\"Pierce\"],[\"SR-507 N\\u002fO 346th NB\\u002fSB\",\"Pierce\"],[\"SR-204 @ SR-2 NB\\u002fSB\",\"Snohomish\"],[\"SR-204 N\\u002fO 20th NB\\u002fSB\",\"Snohomish\"],[\"SR-204 N\\u002fO SR-2 NB\\u002fSB\",\"Snohomish\"],[\"SR-519 W\\u002fO 4th NB\\u002fSB\",\"King\"],[\"SR-92 E\\u002fO Lake WB\\u002fEB\",\"Snohomish\"],[\"SR-92 E\\u002fO Callow WB\\u002fEB\",\"Snohomish\"],[\"SR-92 E\\u002fO Quarry WB\\u002fEB\",\"Snohomish\"],[\"SR-92 W\\u002fO Mountain Loop WB\\u002fEB\",\"Snohomish\"],[\"SR-702 E\\u002fO SR-507 WB\\u002fEB\",\"Pierce\"],[\"SR-702 E\\u002fO Harts Lake WB\\u002fEB\",\"Pierce\"],[\"SR-702 E\\u002fO 40th WB\\u002fEB\",\"Pierce\"],[\"SR-702 W\\u002fO 8th WB\\u002fEB\",\"Pierce\"],[\"SR-702 E\\u002fO 8th WB\\u002fEB\",\"Pierce\"],[\"SR-165 W\\u002fO SR-162 NB\\u002fSB\",\"Pierce\"],[\"SR-165 N\\u002fO Davis NB\\u002fSB\",\"Pierce\"],[\"SR-165 N\\u002fO Wilkeson-Carbonado NB\\u002fSB\",\"Pierce\"],[\"SR-704 E\\u002fO Spanaway Loop WB\\u002fEB\",\"Pierce\"],[\"SR-706 E\\u002fO SR-7 WB\\u002fEB\",\"Pierce\"],[\"SR-706 E\\u002fO Kernahan WB\\u002fEB\",\"Pierce\"]],\"hovertemplate\":\"Observed=%{x}\\u003cbr\\u003eModel=%{y}\\u003cbr\\u003elocation=%{customdata[0]}\\u003cbr\\u003eCounty=%{customdata[1]}\\u003cextra\\u003e\\u003c\\u002fextra\\u003e\",\"legendgroup\":\"\",\"marker\":{\"color\":\"#91268F\",\"symbol\":\"circle\"},\"mode\":\"markers\",\"name\":\"\",\"orientation\":\"v\",\"showlegend\":false,\"x\":{\"dtype\":\"i2\",\"bdata\":\"xRWmFSIX9BdQE9kSnBW1FKUT6xNPF34XkAoFF\\u002foO3xISCbIJcwuHC7QMygyGDDENrgpfDOMLNgwACQwJ\\u002fAKFAz4DjQdxB8kJVwNwBV4IQQECAUsFkQWTARIBiQCKAF4I8QjYCOEIJQ7sDF0JXQmqA64DkgRkA60AnQCQAIMAFgVDBG0FmAOxA7kGYQn0CDwIHQiaCl4K\\u002fAI3A00L1A8REAYNBim8GIsZdQutADAANAFiHJ4NZgL8AR0DHwAVABEADgBKDZgPlBLCA0AIZwALAA4AEwBEADwACgAgAFYAeADSAHQBcAXXCqwE2gQYASABrgDeAJIAbACNAHsAwgr2AFABiQW5FoUN4gaSBRYGugRUBYMECQFTAEwAQQE2AJIA3QEzAaQBegEsAT4BHAFuAGMAXAC7Ah0BjQI9AXQBqQDlAKcAUgA1AUgBpwBkAksARgCQAFQAOwA3AEgATAByACIAHgATAAwAjAD8A\\u002fQDhwTcA1AFIAFPAGgAOQA0ALQA2ABiANIAfgAKAaQBpAHqAAsACQDEAKgAfgB4ACcAJABCABYAigAaAFAAHAJ3AcADIAFfARkAyQBwAKIBUgFEAUQBFAJSA8sGtACvAIwBVADQAEwA8gBUAAgABgAGAEwAsAD7AY4AbgBDAFoAYgCQAXkBsAF2AagAewNqA\\u002foBpAG8AfMAwAB+AAkBFwEsAJwAOADgALgBMAHnAFIDCwTgBGQAYACNAL0DgQODAxoE5wOWA1QAWAAxAEEAVAA5A9wAKgA+ACkBxgAEAUoBEgBjAK0BuQK4AlQBtgCkAQoE0QCIAIcAKAAkAFoAwQJhAtABkAGTAX8BfAErAS8AmAFUAWwBOwEcAUoBTAHQAWABCAJfAToANwCQAX4C7gHAATwAzgL8ANwACgGmAP4ApgAyABIAiAImAA0A\"},\"xaxis\":\"x\",\"y\":{\"dtype\":\"i2\",\"bdata\":\"xhXEFcwWyRa1FrIWMRYyFqwVQRekF9IXWxU+IDAoqydGFB4VkxNJFPEYSxhYFwsXCRevFqUTjhM3DyMPxxBPBOUE6QQEBSYFuACrBoERJxHqDwQJowceA\\u002fQCPQA3AO4MmA8RE\\u002fkUMhAGEAUF5gTRACYBcAW2A6UA2wBHAEsAAwZUBMUFLQToBnEC4AatBgQHtwYmB+wGAQfHBvwdyxovGnELHheXFzUU3xBmAHMAiwI2EScHXAAjAF4AXgBeAF4AXgDWBWEGNgsmA4YE1wcAAAAAAAAUACYAEQAMAAwAeQALAbsBmwXhAlkDmQg\\u002fAHYA5QDQAK8AFgAiAAAAuAvOAdgBnwo8DWMPhBL1Dv8OhAxeDCwGEgASAAUAGQAiACIAJgUGAAEAJQAlACIAJQE9AQIAOQBsAfMANAHPAWIAHgAgADMAvQBzAHgAcAC8AwIAAgCaAHMAAAAjACMAKQDHABIAEgAVABUAAgC6A5AEkwlVC2gMCQAbABUA\\u002fADtABYAqAA0ABMBjwDeAZUAfwBiAAAAAACZAJkAmgADATgAbgAmAAAACwAAABcAqgFJCR4LvwY7AAAAJwAnAEQARABYAGEAgwBUAm8EVQDyAc4EWgDHADcAggB7AAMAAAADAAgAFgC1AAAAEgASABIANQA8AD4AQAAoAAgARQNqAmkH2AfDB8MHWgdAAEYAOgACAAgAAAAAADkASQBJAG0AvgDFAAcAEAAXAN4D3gM3BJAG6AT7BCUAeAA8AAwAcQAXAE4AFgAEAAUBcgDxAuMAAQAHANMAOgX+BEAARACJAHMABgAFAAUAXABcAPoAcwCbAJcAhACGAIUAhQCFAAEAMAIwAgECCQIJAgkCCQLXAeIB2wHbASUAOgAdAVED1ADUAAAAPAAFAAUACwALACYABgAAAAAAjgEAAAAA\"},\"yaxis\":\"y\",\"type\":\"scatter\",\"line\":{\"color\":\"Grey\",\"width\":2}},{\"hovertemplate\":\"Observed=%{x}\\u003cbr\\u003eModel=%{y}\\u003cextra\\u003e\\u003c\\u002fextra\\u003e\",\"legendgroup\":\"\",\"line\":{\"color\":\"Grey\",\"dash\":\"solid\",\"width\":2},\"marker\":{\"symbol\":\"circle\"},\"mode\":\"lines\",\"name\":\"\",\"orientation\":\"v\",\"showlegend\":false,\"x\":{\"dtype\":\"f8\",\"bdata\":\"AAAAAAAAAACwFKj1K4VaQLAUqPUrhWpAhA8++ODjc0CwFKj1K4V6QO4MiXk7k4BAhA8++ODjg0AaEvN2hjSHQLAUqPUrhYpARhdddNHVjUDuDIl5O5OQQDmO4ziOO5JAhA8++ODjk0DPkJi3M4yVQBoS83aGNJdAZZNNNtncmECwFKj1K4WaQPuVArV+LZxARhdddNHVnUCRmLczJH6fQO4MiXk7k6BAlE022WRnoUA5juM4jjuiQN7OkJi3D6NAhA8++ODjo0AqUOtXCrikQM+QmLczjKVAdNFFF11gpkAaEvN2hjSnQMBSoNavCKhAZZNNNtncqEAK1PqVArGpQLAUqPUrhapAVlVVVVVZq0D7lQK1fi2sQKDWrxSoAa1ARhdddNHVrUDsVwrU+qmuQJGYtzMkfq9Am2yyySYpsEDuDIl5O5OwQEGtXylQ\\u002fbBAlE022WRnsUDm7QyJedGxQDmO4ziOO7JAjC666KKlskDezpCYtw+zQDFvZ0jMebNAhA8++ODjs0DXrxSo9U20QCpQ61cKuLRAfPDBBx8itUDPkJi3M4y1QCIxb2dI9rVAdNFFF11gtkDHcRzHccq2QBoS83aGNLdAbbLJJpuet0DAUqDWrwi4QBLzdobEcrhAZZNNNtncuEC4MyTm7Ua5QArU+pUCsblAXXTRRRcbukCwFKj1K4W6QAO1fqVA77pAVlVVVVVZu0Co9SsFasO7QPuVArV+LbxATjbZZJOXvECg1q8UqAG9QPN2hsS8a71ARhdddNHVvUCZtzMk5j++QOxXCtT6qb5APvjggw8Uv0CRmLczJH6\\u002fQOQ4juM46L9Am2yyySYpwEDFvJ0hMV7AQO4MiXk7k8BAF1100UXIwEBBrV8pUP3AQGr9SoFaMsFAlE022WRnwUC9nSExb5zBQObtDIl50cFAED744IMGwkA5juM4jjvCQGLezpCYcMJAjC666KKlwkC1fqVArdrCQN7OkJi3D8NACB988MFEw0Axb2dIzHnDQFu\\u002fUqDWrsNAhA8++ODjw0CtXylQ6xjEQNevFKj1TcRAAAAAAACDxEA=\"},\"xaxis\":\"x\",\"y\":{\"dtype\":\"f8\",\"bdata\":\"UD\\u002fUHuhLY0DuWiUmtrxwQDSW4Dx403dAe9GbUzrqfkBghis1fgCDQAQkiUDfi4ZAp8HmS0AXikBKX0RXoaKNQHb+UDEBl5BASM3\\u002ftrFckkAanK48YiKUQOxqXcIS6JVAvTkMSMOtl0CPCLvNc3OZQGDXaVMkOZtAMqYY2dT+nEADdcdehcSeQOohO\\u002fIaRaBAVIkSNfMnoUC88Ol3ywqiQCVYwbqj7aJAjr+Y\\u002fXvQo0D3JnBAVLOkQF+OR4MslqVAyPUexgR5pkAxXfYI3VunQJrEzUu1PqhAAiyljo0hqUBrk3zRZQSqQNX6UxQ+56pAPWIrVxbKq0ClyQKa7qysQA4x2tzGj61AeJixH59yrkDg\\u002f4hid1WvQKQzsNInHLBAWecb9JONsEAOm4cVAP+wQMJO8zZscLFAdgJfWNjhsUAqtsp5RFOyQOBpNpuwxLJAlB2ivBw2s0BI0Q3eiKezQPyEef\\u002f0GLRAsDjlIGGKtEBk7FBCzfu0QBigvGM5bbVAzlMohaXetUCCB5SmEVC2QDa7\\u002f8d9wbZA6m5r6ekyt0CgItcKVqS3QFTWQizCFbhACIquTS6HuEC8PRpvmvi4QHDxhZAGarlAJqXxsXLbuUDaWF3T3ky6QI4MyfRKvrpAQsA0Frcvu0D4c6A3I6G7QKonDFmPErxAYNt3evuDvEAUj+ObZ\\u002fW8QMhCT73TZr1Afva63j\\u002fYvUAwqiYArEm+QOZdkiEYu75AmhH+QoQsv0BOxWlk8J2\\u002fQIG86kKuB8BAXJagU2RAwEA2cFZkGnnAQBBKDHXQscBA6iPChYbqwEDE\\u002fXeWPCPBQJ7XLafyW8FAeLHjt6iUwUBTi5nIXs3BQC1lT9kUBsJABz8F6so+wkDiGLv6gHfCQLvycAs3sMJAlswmHO3owkBwptwsoyHDQEqAkj1ZWsNAJVpITg+Tw0D\\u002fM\\u002f5excvDQNgNtG97BMRAs+dpgDE9xECNwR+R53XEQGeb1aGdrsRAQnWLslPnxEAbT0HDCSDFQPYo99O\\u002fWMVA0AKt5HWRxUCq3GL1K8rFQIW2GAbiAsZAX5DOFpg7xkA=\"},\"yaxis\":\"y\",\"type\":\"scatter\"}],                        {\"template\":{\"data\":{\"barpolar\":[{\"marker\":{\"line\":{\"color\":\"white\",\"width\":0.5},\"pattern\":{\"fillmode\":\"overlay\",\"size\":10,\"solidity\":0.2}},\"type\":\"barpolar\"}],\"bar\":[{\"error_x\":{\"color\":\"rgb(36,36,36)\"},\"error_y\":{\"color\":\"rgb(36,36,36)\"},\"marker\":{\"line\":{\"color\":\"white\",\"width\":0.5},\"pattern\":{\"fillmode\":\"overlay\",\"size\":10,\"solidity\":0.2}},\"type\":\"bar\"}],\"carpet\":[{\"aaxis\":{\"endlinecolor\":\"rgb(36,36,36)\",\"gridcolor\":\"white\",\"linecolor\":\"white\",\"minorgridcolor\":\"white\",\"startlinecolor\":\"rgb(36,36,36)\"},\"baxis\":{\"endlinecolor\":\"rgb(36,36,36)\",\"gridcolor\":\"white\",\"linecolor\":\"white\",\"minorgridcolor\":\"white\",\"startlinecolor\":\"rgb(36,36,36)\"},\"type\":\"carpet\"}],\"choropleth\":[{\"colorbar\":{\"outlinewidth\":1,\"tickcolor\":\"rgb(36,36,36)\",\"ticks\":\"outside\"},\"type\":\"choropleth\"}],\"contourcarpet\":[{\"colorbar\":{\"outlinewidth\":1,\"tickcolor\":\"rgb(36,36,36)\",\"ticks\":\"outside\"},\"type\":\"contourcarpet\"}],\"contour\":[{\"colorbar\":{\"outlinewidth\":1,\"tickcolor\":\"rgb(36,36,36)\",\"ticks\":\"outside\"},\"colorscale\":[[0.0,\"#440154\"],[0.1111111111111111,\"#482878\"],[0.2222222222222222,\"#3e4989\"],[0.3333333333333333,\"#31688e\"],[0.4444444444444444,\"#26828e\"],[0.5555555555555556,\"#1f9e89\"],[0.6666666666666666,\"#35b779\"],[0.7777777777777778,\"#6ece58\"],[0.8888888888888888,\"#b5de2b\"],[1.0,\"#fde725\"]],\"type\":\"contour\"}],\"heatmap\":[{\"colorbar\":{\"outlinewidth\":1,\"tickcolor\":\"rgb(36,36,36)\",\"ticks\":\"outside\"},\"colorscale\":[[0.0,\"#440154\"],[0.1111111111111111,\"#482878\"],[0.2222222222222222,\"#3e4989\"],[0.3333333333333333,\"#31688e\"],[0.4444444444444444,\"#26828e\"],[0.5555555555555556,\"#1f9e89\"],[0.6666666666666666,\"#35b779\"],[0.7777777777777778,\"#6ece58\"],[0.8888888888888888,\"#b5de2b\"],[1.0,\"#fde725\"]],\"type\":\"heatmap\"}],\"histogram2dcontour\":[{\"colorbar\":{\"outlinewidth\":1,\"tickcolor\":\"rgb(36,36,36)\",\"ticks\":\"outside\"},\"colorscale\":[[0.0,\"#440154\"],[0.1111111111111111,\"#482878\"],[0.2222222222222222,\"#3e4989\"],[0.3333333333333333,\"#31688e\"],[0.4444444444444444,\"#26828e\"],[0.5555555555555556,\"#1f9e89\"],[0.6666666666666666,\"#35b779\"],[0.7777777777777778,\"#6ece58\"],[0.8888888888888888,\"#b5de2b\"],[1.0,\"#fde725\"]],\"type\":\"histogram2dcontour\"}],\"histogram2d\":[{\"colorbar\":{\"outlinewidth\":1,\"tickcolor\":\"rgb(36,36,36)\",\"ticks\":\"outside\"},\"colorscale\":[[0.0,\"#440154\"],[0.1111111111111111,\"#482878\"],[0.2222222222222222,\"#3e4989\"],[0.3333333333333333,\"#31688e\"],[0.4444444444444444,\"#26828e\"],[0.5555555555555556,\"#1f9e89\"],[0.6666666666666666,\"#35b779\"],[0.7777777777777778,\"#6ece58\"],[0.8888888888888888,\"#b5de2b\"],[1.0,\"#fde725\"]],\"type\":\"histogram2d\"}],\"histogram\":[{\"marker\":{\"line\":{\"color\":\"white\",\"width\":0.6}},\"type\":\"histogram\"}],\"mesh3d\":[{\"colorbar\":{\"outlinewidth\":1,\"tickcolor\":\"rgb(36,36,36)\",\"ticks\":\"outside\"},\"type\":\"mesh3d\"}],\"parcoords\":[{\"line\":{\"colorbar\":{\"outlinewidth\":1,\"tickcolor\":\"rgb(36,36,36)\",\"ticks\":\"outside\"}},\"type\":\"parcoords\"}],\"pie\":[{\"automargin\":true,\"type\":\"pie\"}],\"scatter3d\":[{\"line\":{\"colorbar\":{\"outlinewidth\":1,\"tickcolor\":\"rgb(36,36,36)\",\"ticks\":\"outside\"}},\"marker\":{\"colorbar\":{\"outlinewidth\":1,\"tickcolor\":\"rgb(36,36,36)\",\"ticks\":\"outside\"}},\"type\":\"scatter3d\"}],\"scattercarpet\":[{\"marker\":{\"colorbar\":{\"outlinewidth\":1,\"tickcolor\":\"rgb(36,36,36)\",\"ticks\":\"outside\"}},\"type\":\"scattercarpet\"}],\"scattergeo\":[{\"marker\":{\"colorbar\":{\"outlinewidth\":1,\"tickcolor\":\"rgb(36,36,36)\",\"ticks\":\"outside\"}},\"type\":\"scattergeo\"}],\"scattergl\":[{\"marker\":{\"colorbar\":{\"outlinewidth\":1,\"tickcolor\":\"rgb(36,36,36)\",\"ticks\":\"outside\"}},\"type\":\"scattergl\"}],\"scattermapbox\":[{\"marker\":{\"colorbar\":{\"outlinewidth\":1,\"tickcolor\":\"rgb(36,36,36)\",\"ticks\":\"outside\"}},\"type\":\"scattermapbox\"}],\"scattermap\":[{\"marker\":{\"colorbar\":{\"outlinewidth\":1,\"tickcolor\":\"rgb(36,36,36)\",\"ticks\":\"outside\"}},\"type\":\"scattermap\"}],\"scatterpolargl\":[{\"marker\":{\"colorbar\":{\"outlinewidth\":1,\"tickcolor\":\"rgb(36,36,36)\",\"ticks\":\"outside\"}},\"type\":\"scatterpolargl\"}],\"scatterpolar\":[{\"marker\":{\"colorbar\":{\"outlinewidth\":1,\"tickcolor\":\"rgb(36,36,36)\",\"ticks\":\"outside\"}},\"type\":\"scatterpolar\"}],\"scatter\":[{\"fillpattern\":{\"fillmode\":\"overlay\",\"size\":10,\"solidity\":0.2},\"type\":\"scatter\"}],\"scatterternary\":[{\"marker\":{\"colorbar\":{\"outlinewidth\":1,\"tickcolor\":\"rgb(36,36,36)\",\"ticks\":\"outside\"}},\"type\":\"scatterternary\"}],\"surface\":[{\"colorbar\":{\"outlinewidth\":1,\"tickcolor\":\"rgb(36,36,36)\",\"ticks\":\"outside\"},\"colorscale\":[[0.0,\"#440154\"],[0.1111111111111111,\"#482878\"],[0.2222222222222222,\"#3e4989\"],[0.3333333333333333,\"#31688e\"],[0.4444444444444444,\"#26828e\"],[0.5555555555555556,\"#1f9e89\"],[0.6666666666666666,\"#35b779\"],[0.7777777777777778,\"#6ece58\"],[0.8888888888888888,\"#b5de2b\"],[1.0,\"#fde725\"]],\"type\":\"surface\"}],\"table\":[{\"cells\":{\"fill\":{\"color\":\"rgb(237,237,237)\"},\"line\":{\"color\":\"white\"}},\"header\":{\"fill\":{\"color\":\"rgb(217,217,217)\"},\"line\":{\"color\":\"white\"}},\"type\":\"table\"}]},\"layout\":{\"annotationdefaults\":{\"arrowhead\":0,\"arrowwidth\":1},\"autotypenumbers\":\"strict\",\"coloraxis\":{\"colorbar\":{\"outlinewidth\":1,\"tickcolor\":\"rgb(36,36,36)\",\"ticks\":\"outside\"}},\"colorscale\":{\"diverging\":[[0.0,\"rgb(103,0,31)\"],[0.1,\"rgb(178,24,43)\"],[0.2,\"rgb(214,96,77)\"],[0.3,\"rgb(244,165,130)\"],[0.4,\"rgb(253,219,199)\"],[0.5,\"rgb(247,247,247)\"],[0.6,\"rgb(209,229,240)\"],[0.7,\"rgb(146,197,222)\"],[0.8,\"rgb(67,147,195)\"],[0.9,\"rgb(33,102,172)\"],[1.0,\"rgb(5,48,97)\"]],\"sequential\":[[0.0,\"#440154\"],[0.1111111111111111,\"#482878\"],[0.2222222222222222,\"#3e4989\"],[0.3333333333333333,\"#31688e\"],[0.4444444444444444,\"#26828e\"],[0.5555555555555556,\"#1f9e89\"],[0.6666666666666666,\"#35b779\"],[0.7777777777777778,\"#6ece58\"],[0.8888888888888888,\"#b5de2b\"],[1.0,\"#fde725\"]],\"sequentialminus\":[[0.0,\"#440154\"],[0.1111111111111111,\"#482878\"],[0.2222222222222222,\"#3e4989\"],[0.3333333333333333,\"#31688e\"],[0.4444444444444444,\"#26828e\"],[0.5555555555555556,\"#1f9e89\"],[0.6666666666666666,\"#35b779\"],[0.7777777777777778,\"#6ece58\"],[0.8888888888888888,\"#b5de2b\"],[1.0,\"#fde725\"]]},\"colorway\":[\"#91268F\",\"#8CC63E\",\"#00A7A0\",\"#F05A28\",\"#4C4C4C\",\"#630460\",\"#9f3913\",\"#588527\",\"#00716c\",\"#3e4040\"],\"font\":{\"color\":\"rgb(36,36,36)\",\"family\":\"Poppins\",\"size\":11},\"geo\":{\"bgcolor\":\"white\",\"lakecolor\":\"white\",\"landcolor\":\"white\",\"showlakes\":true,\"showland\":true,\"subunitcolor\":\"white\"},\"hoverlabel\":{\"align\":\"left\"},\"hovermode\":\"closest\",\"mapbox\":{\"style\":\"light\"},\"paper_bgcolor\":\"white\",\"plot_bgcolor\":\"white\",\"polar\":{\"angularaxis\":{\"gridcolor\":\"rgb(232,232,232)\",\"linecolor\":\"rgb(36,36,36)\",\"showgrid\":false,\"showline\":true,\"ticks\":\"outside\"},\"bgcolor\":\"white\",\"radialaxis\":{\"gridcolor\":\"rgb(232,232,232)\",\"linecolor\":\"rgb(36,36,36)\",\"showgrid\":false,\"showline\":true,\"ticks\":\"outside\"}},\"scene\":{\"xaxis\":{\"backgroundcolor\":\"white\",\"gridcolor\":\"rgb(232,232,232)\",\"gridwidth\":2,\"linecolor\":\"rgb(36,36,36)\",\"showbackground\":true,\"showgrid\":false,\"showline\":true,\"ticks\":\"outside\",\"zeroline\":false,\"zerolinecolor\":\"rgb(36,36,36)\"},\"yaxis\":{\"backgroundcolor\":\"white\",\"gridcolor\":\"rgb(232,232,232)\",\"gridwidth\":2,\"linecolor\":\"rgb(36,36,36)\",\"showbackground\":true,\"showgrid\":false,\"showline\":true,\"ticks\":\"outside\",\"zeroline\":false,\"zerolinecolor\":\"rgb(36,36,36)\"},\"zaxis\":{\"backgroundcolor\":\"white\",\"gridcolor\":\"rgb(232,232,232)\",\"gridwidth\":2,\"linecolor\":\"rgb(36,36,36)\",\"showbackground\":true,\"showgrid\":false,\"showline\":true,\"ticks\":\"outside\",\"zeroline\":false,\"zerolinecolor\":\"rgb(36,36,36)\"}},\"shapedefaults\":{\"fillcolor\":\"black\",\"line\":{\"width\":0},\"opacity\":0.3},\"ternary\":{\"aaxis\":{\"gridcolor\":\"rgb(232,232,232)\",\"linecolor\":\"rgb(36,36,36)\",\"showgrid\":false,\"showline\":true,\"ticks\":\"outside\"},\"baxis\":{\"gridcolor\":\"rgb(232,232,232)\",\"linecolor\":\"rgb(36,36,36)\",\"showgrid\":false,\"showline\":true,\"ticks\":\"outside\"},\"bgcolor\":\"white\",\"caxis\":{\"gridcolor\":\"rgb(232,232,232)\",\"linecolor\":\"rgb(36,36,36)\",\"showgrid\":false,\"showline\":true,\"ticks\":\"outside\"}},\"title\":{\"x\":0.05},\"xaxis\":{\"automargin\":true,\"gridcolor\":\"rgb(232,232,232)\",\"linecolor\":\"rgb(36,36,36)\",\"showgrid\":false,\"showline\":true,\"ticks\":\"outside\",\"title\":{\"standoff\":15},\"zeroline\":false,\"zerolinecolor\":\"rgb(36,36,36)\"},\"yaxis\":{\"automargin\":true,\"gridcolor\":\"rgb(232,232,232)\",\"linecolor\":\"rgb(36,36,36)\",\"showgrid\":false,\"showline\":true,\"ticks\":\"outside\",\"title\":{\"standoff\":15},\"zeroline\":false,\"zerolinecolor\":\"rgb(36,36,36)\"}}},\"xaxis\":{\"anchor\":\"y\",\"domain\":[0.0,1.0],\"title\":{\"text\":\"Observed\"}},\"yaxis\":{\"anchor\":\"x\",\"domain\":[0.0,1.0],\"title\":{\"text\":\"Model\"}},\"legend\":{\"tracegroupgap\":0},\"title\":{\"text\":\"Heavy Trucks: Region\"},\"margin\":{\"l\":100,\"r\":100,\"t\":100,\"b\":100},\"height\":600,\"width\":800,\"shapes\":[{\"line\":{\"color\":\"Red\",\"dash\":\"dash\",\"width\":2},\"type\":\"line\",\"x0\":0,\"x1\":10502,\"y0\":0,\"y1\":10502}],\"annotations\":[{\"align\":\"right\",\"font\":{\"color\":\"pink\",\"size\":12},\"showarrow\":false,\"text\":\"y = x\",\"x\":11027.1,\"y\":11027.1},{\"align\":\"right\",\"font\":{\"color\":\"black\",\"size\":12},\"showarrow\":false,\"text\":\"r^2 = 0.70\",\"x\":11027.1,\"y\":11952.347605811614}]},                        {\"responsive\": true}                    ).then(function(){\n",
       "                            \n",
       "var gd = document.getElementById('e6d10621-7e7b-4e3b-afb8-62337029ad24');\n",
       "var x = new MutationObserver(function (mutations, observer) {{\n",
       "        var display = window.getComputedStyle(gd).display;\n",
       "        if (!display || display === 'none') {{\n",
       "            console.log([gd, 'removed!']);\n",
       "            Plotly.purge(gd);\n",
       "            observer.disconnect();\n",
       "        }}\n",
       "}});\n",
       "\n",
       "// Listen for the removal of the full notebook cells\n",
       "var notebookContainer = gd.closest('#notebook-container');\n",
       "if (notebookContainer) {{\n",
       "    x.observe(notebookContainer, {childList: true});\n",
       "}}\n",
       "\n",
       "// Listen for the clearing of the current output cell\n",
       "var outputEl = gd.closest('.output');\n",
       "if (outputEl) {{\n",
       "    x.observe(outputEl, {childList: true});\n",
       "}}\n",
       "\n",
       "                        })                };            </script>        </div>"
      ]
     },
     "metadata": {},
     "output_type": "display_data"
    }
   ],
   "source": [
    "fig = create_truck_chart(df_daily_heavy, 'Heavy')\n",
    "fig.show()"
   ]
  },
  {
   "cell_type": "raw",
   "id": "3bd56227",
   "metadata": {
    "vscode": {
     "languageId": "raw"
    }
   },
   "source": [
    "#### King"
   ]
  },
  {
   "cell_type": "code",
   "execution_count": 25,
   "id": "c4ff02a8",
   "metadata": {
    "execution": {
     "iopub.execute_input": "2025-05-01T14:38:16.957828Z",
     "iopub.status.busy": "2025-05-01T14:38:16.957828Z",
     "iopub.status.idle": "2025-05-01T14:38:17.123946Z",
     "shell.execute_reply": "2025-05-01T14:38:17.122962Z"
    }
   },
   "outputs": [
    {
     "data": {
      "application/vnd.plotly.v1+json": {
       "config": {
        "plotlyServerURL": "https://plot.ly"
       },
       "data": [
        {
         "customdata": [
          [
           "I-5 S/O 205th NB",
           "King"
          ],
          [
           "I-5 S/O 205th SB",
           "King"
          ],
          [
           "I-5 Rev N/O I-5 GP NB/SB",
           "King"
          ],
          [
           "I-90 E/O I-5 WB",
           "King"
          ],
          [
           "I-90 E/O I-5 EB",
           "King"
          ],
          [
           "I-90 E/O W Lk Sam WB",
           "King"
          ],
          [
           "I-90 E/O W Lk Sam EB",
           "King"
          ],
          [
           "I-90 E/O SR-900 WB",
           "King"
          ],
          [
           "I-405 @ I-5 Southcenter NB",
           "King"
          ],
          [
           "I-405 @ I-5 Southcenter SB",
           "King"
          ],
          [
           "I-405 @ Lake Wash Blvd NB",
           "King"
          ],
          [
           "I-405 @ I-90 NB",
           "King"
          ],
          [
           "I-405 @ I-90 SB",
           "King"
          ],
          [
           "SR-520 @ x-lake bridge WB",
           "King"
          ],
          [
           "SR-520 @ x-lake bridge EB",
           "King"
          ],
          [
           "SR-167 S/O 43rd NB",
           "King"
          ],
          [
           "SR-167 S/O 43rd SB",
           "King"
          ],
          [
           "SR-167 N/O SR-18 NB",
           "King"
          ],
          [
           "SR-167 N/O SR-18 SB",
           "King"
          ],
          [
           "SR-167 S/O 15th SW NB",
           "King"
          ],
          [
           "SR-167 S/O 15th SW SB",
           "King"
          ],
          [
           "SR-509 @ Holden NB",
           "King"
          ],
          [
           "SR-509 @ Holden SB",
           "King"
          ],
          [
           "SR-99 N/O 14th NB",
           "King"
          ],
          [
           "SR-99 N/O 14th SB",
           "King"
          ],
          [
           "SR-99 N/O WSF NB",
           "King"
          ],
          [
           "SR-99 N/O WSF SB",
           "King"
          ],
          [
           "SR-99 tunnel NB",
           "King"
          ],
          [
           "SR-99 tunnel SB",
           "King"
          ],
          [
           "SR-599 S/O Pacific NB",
           "King"
          ],
          [
           "SR-599 S/O Pacific SB",
           "King"
          ],
          [
           "SR-599 @ Pacific NB",
           "King"
          ],
          [
           "SR-599 @ Pacific SB",
           "King"
          ],
          [
           "SR-18 @ I-5 WB",
           "King"
          ],
          [
           "SR-18 @ I-5 EB",
           "King"
          ],
          [
           "SR-18 W/O Auburn-Black Diamond WB",
           "King"
          ],
          [
           "SR-18 W/O Auburn-Black Diamond EB",
           "King"
          ],
          [
           "SR-18 E/O SR-516 WB",
           "King"
          ],
          [
           "SR-18 E/O SR-516 EB",
           "King"
          ],
          [
           "SR-18 E/O 256th WB",
           "King"
          ],
          [
           "SR-18 E/O 256th EB",
           "King"
          ],
          [
           "SR-522 N/O 195th WB",
           "King"
          ],
          [
           "SR-522 N/O 195th EB",
           "King"
          ],
          [
           "I-5 N/O I-5 Rev CBD NB/SB",
           "King"
          ],
          [
           "I-90 W/O SR-18 WB/EB",
           "King"
          ],
          [
           "I-90 E/O SR-18 WB/EB",
           "King"
          ],
          [
           "I-90 E/O 436th WB/EB",
           "King"
          ],
          [
           "I-90 @ Kittitas County WB/EB",
           "King"
          ],
          [
           "I-405 N/O SR-522 NB/SB",
           "King"
          ],
          [
           "SR-167 N/O Grady NB/SB",
           "King"
          ],
          [
           "SR-410 E/O 244th WB/EB",
           "King"
          ],
          [
           "SR-410 E/O Farman WB/EB",
           "King"
          ],
          [
           "SR-410 @ Greenwater River WB/EB",
           "King"
          ],
          [
           "SR-509 E/O 47th NB/SB",
           "King"
          ],
          [
           "SR-509 E/O 21st NB/SB",
           "King"
          ],
          [
           "SR-509 W/O SR-516 NB/SB",
           "King"
          ],
          [
           "SR-509 W/O Des Moines Mem NB/SB",
           "King"
          ],
          [
           "SR-509 E/O 1st Ave NB/SB",
           "King"
          ],
          [
           "SR-509 E/O Des Moines Mem NB/SB",
           "King"
          ],
          [
           "SR-509 @ SR-509 ramp overpass NB/SB",
           "King"
          ],
          [
           "SR-509 N/O Des Moines Mem NB/SB",
           "King"
          ],
          [
           "SR-509 N/O SR-518 NB/SB",
           "King"
          ],
          [
           "SR-99 S/O SR-18 NB/SB",
           "King"
          ],
          [
           "SR-99 N/O SR-18 NB/SB",
           "King"
          ],
          [
           "SR-99 N/O 320th NB/SB",
           "King"
          ],
          [
           "SR-99 N/O 188th NB/SB",
           "King"
          ],
          [
           "SR-99 @ WSF NB/SB",
           "King"
          ],
          [
           "SR-99 @ Aurora Bridge NB/SB",
           "King"
          ],
          [
           "SR-99 N/O 38th NB/SB",
           "King"
          ],
          [
           "SR-99 S/O Roosevelt NB/SB",
           "King"
          ],
          [
           "SR-599 N/O I-5 NB/SB",
           "King"
          ],
          [
           "SR-518 @ SR-509 WB/EB",
           "King"
          ],
          [
           "SR-518 E/O SR-509 WB/EB",
           "King"
          ],
          [
           "SR-18 E/O SR-99 WB/EB",
           "King"
          ],
          [
           "SR-18 N/O 304th WB/EB",
           "King"
          ],
          [
           "SR-18 S/O I-90 WB/EB",
           "King"
          ],
          [
           "SR-202 @ SR-522 NB/SB",
           "King"
          ],
          [
           "SR-202 N/O 145th NB/SB",
           "King"
          ],
          [
           "SR-202 @ Sammamish River Br NB/SB",
           "King"
          ],
          [
           "SR-202 S/O 144th NB/SB",
           "King"
          ],
          [
           "SR-202 N/O Redmond Way NB/SB",
           "King"
          ],
          [
           "SR-202 E/O 164th NB/SB",
           "King"
          ],
          [
           "SR-202 E/O SR-520 NB/SB",
           "King"
          ],
          [
           "SR-202 E/O E Lk Samm NB/SB",
           "King"
          ],
          [
           "SR-202 E/O Sahalee NB/SB",
           "King"
          ],
          [
           "SR-202 E/O 236th NB/SB",
           "King"
          ],
          [
           "SR-202 S/O Ames Lake NB/SB",
           "King"
          ],
          [
           "SR-202 S/O Duthie Hill NB/SB",
           "King"
          ],
          [
           "SR-202 E/O SR-203 NB/SB",
           "King"
          ],
          [
           "SR-202 N/O I-90 NB/SB",
           "King"
          ],
          [
           "SR-522 N/O 145th NB/SB",
           "King"
          ],
          [
           "SR-104 W/O 19th WB/EB",
           "King"
          ],
          [
           "SR-516 E/O SR-509 WB/EB",
           "King"
          ],
          [
           "SR-516 W/O I-5 WB/EB",
           "King"
          ],
          [
           "SR-516 E/O Meeker WB/EB",
           "King"
          ],
          [
           "SR-516 W/O SR-167 WB/EB",
           "King"
          ],
          [
           "SR-516 E/O SR-167 WB/EB",
           "King"
          ],
          [
           "SR-516 E/O SR-18 WB/EB",
           "King"
          ],
          [
           "SR-900 S/O NB I-5 on-ramp @ Boe Acc WB/EB",
           "King"
          ],
          [
           "SR-900 E/O 68th WB/EB",
           "King"
          ],
          [
           "SR-900 @ I-405 WB/EB",
           "King"
          ],
          [
           "SR-900 E/O 148th WB/EB",
           "King"
          ],
          [
           "SR-900 N/O Talus WB/EB",
           "King"
          ],
          [
           "SR-900 N/O Newport WB/EB",
           "King"
          ],
          [
           "SR-2 E/O Skykomish WB/EB",
           "King"
          ],
          [
           "SR-513 S/O 44th NB/SB",
           "King"
          ],
          [
           "SR-169 N/O SR-164 NB/SB",
           "King"
          ],
          [
           "SR-169 S/O Lawson NB/SB",
           "King"
          ],
          [
           "SR-169 S/O 276th NB/SB",
           "King"
          ],
          [
           "SR-169 N/O 280th NB/SB",
           "King"
          ],
          [
           "SR-169 N/O 231st NB/SB",
           "King"
          ],
          [
           "SR-169 N/O 232nd NB/SB",
           "King"
          ],
          [
           "SR-169 W/O 140th NB/SB",
           "King"
          ],
          [
           "SR-515 N/O SR-516 NB/SB",
           "King"
          ],
          [
           "SR-515 N/O 108th NB/SB",
           "King"
          ],
          [
           "SR-515 N/O Puget NB/SB",
           "King"
          ],
          [
           "SR-181 N/O SR-516 NB/SB",
           "King"
          ],
          [
           "SR-181 S/O James NB/SB",
           "King"
          ],
          [
           "SR-181 N/O James NB/SB",
           "King"
          ],
          [
           "SR-181 N/O 228th NB/SB",
           "King"
          ],
          [
           "SR-181 N/O 180th NB/SB",
           "King"
          ],
          [
           "SR-181 S/O Longacres NB/SB",
           "King"
          ],
          [
           "SR-523 E/O Lenora WB/EB",
           "King"
          ],
          [
           "SR-164 @ SR-18 WB/EB",
           "King"
          ],
          [
           "SR-164 S/O 400th WB/EB",
           "King"
          ],
          [
           "SR-203 N/O Cherry Valley NB/SB",
           "King"
          ],
          [
           "SR-203 N/O 124th NB/SB",
           "King"
          ],
          [
           "SR-203 W/O Stillwater Hill NB/SB",
           "King"
          ],
          [
           "SR-203 N/O Carnation Farm NB/SB",
           "King"
          ],
          [
           "SR-203 N/O Tolt Hill NB/SB",
           "King"
          ],
          [
           "SR-203 N/O SR-202 NB/SB",
           "King"
          ],
          [
           "SR-519 W/O 4th NB/SB",
           "King"
          ]
         ],
         "hovertemplate": "Observed=%{x}<br>Model=%{y}<br>location=%{customdata[0]}<br>County=%{customdata[1]}<extra></extra>",
         "legendgroup": "",
         "line": {
          "color": "Grey",
          "width": 2
         },
         "marker": {
          "color": "#91268F",
          "symbol": "circle"
         },
         "mode": "markers",
         "name": "",
         "orientation": "v",
         "showlegend": false,
         "type": "scatter",
         "x": {
          "bdata": "EgmyCfwChQM+A40HcQfJCVcDcAVeCEEBAgGJAIoAXgjxCNgI4QglDuwMqgOuA5IEZAOtAJ0AkACDABYFQwRtBZgDsQO5BmEJ9Ag8CB0ImgpeCvwCNwNNCwYNBim8GIsZdQs0AfwBHQMfABMARAA8AAoAIABWAHgA0gB0AdoEGAEgAa4A3gCSAGwAjQDCCvYAUAGJBbkWhQ0JAVMATABBATYAkgDdATMBpAF6ASwBPgEcAW4ApwBMAFAAHAJ3AcADIAFfAYwBVADQAEwA8gBUAH4AOADgALgBMAHnAFIDCwTgBGQAYACNAL0DgQODAxoE5wOWA1QAKQHGAFQBbAE7ARwBSgFMAX4C",
          "dtype": "i2"
         },
         "xaxis": "x",
         "y": {
          "bdata": "RhQeFccQTwTlBOkEBAUmBbgAqwaBEScR6g89ADcA7gyYDxET+RQyEAYQ0QAmAXAFtgOlANsARwBLAAMGVATFBS0E6AZxAuAGrQYEB7cGJgfsBgEHxwb8HXELHheXFzUU3xCLAiMAXgBeAAAAFAAmABEADAAMAHkACwG7AZkIPwB2AOUA0ACvABYAIgC4C84B2AGfCjwNYw8SABIABQAZACIAIgAmBQYAAQAlACUAIgAlAT0BcAApABcAqgFJCR4LvwY7AM4EWgDHADcAggB7AEAAAAAAADkASQBJAG0AvgDFAAcAEAAXAN4D3gM3BJAG6AT7BCUABQFyADACAQIJAgkCCQIJAlED",
          "dtype": "i2"
         },
         "yaxis": "y"
        },
        {
         "hovertemplate": "Observed=%{x}<br>Model=%{y}<extra></extra>",
         "legendgroup": "",
         "line": {
          "color": "Grey",
          "dash": "solid",
          "width": 2
         },
         "marker": {
          "symbol": "circle"
         },
         "mode": "lines",
         "name": "",
         "orientation": "v",
         "showlegend": false,
         "type": "scatter",
         "x": {
          "bdata": "AAAAAAAAAACwFKj1K4VaQLAUqPUrhWpAhA8++ODjc0CwFKj1K4V6QO4MiXk7k4BAhA8++ODjg0AaEvN2hjSHQLAUqPUrhYpARhdddNHVjUDuDIl5O5OQQDmO4ziOO5JAhA8++ODjk0DPkJi3M4yVQBoS83aGNJdAZZNNNtncmECwFKj1K4WaQPuVArV+LZxARhdddNHVnUCRmLczJH6fQO4MiXk7k6BAlE022WRnoUA5juM4jjuiQN7OkJi3D6NAhA8++ODjo0AqUOtXCrikQM+QmLczjKVAdNFFF11gpkAaEvN2hjSnQMBSoNavCKhAZZNNNtncqEAK1PqVArGpQLAUqPUrhapAVlVVVVVZq0D7lQK1fi2sQKDWrxSoAa1ARhdddNHVrUDsVwrU+qmuQJGYtzMkfq9Am2yyySYpsEDuDIl5O5OwQEGtXylQ/bBAlE022WRnsUDm7QyJedGxQDmO4ziOO7JAjC666KKlskDezpCYtw+zQDFvZ0jMebNAhA8++ODjs0DXrxSo9U20QCpQ61cKuLRAfPDBBx8itUDPkJi3M4y1QCIxb2dI9rVAdNFFF11gtkDHcRzHccq2QBoS83aGNLdAbbLJJpuet0DAUqDWrwi4QBLzdobEcrhAZZNNNtncuEC4MyTm7Ua5QArU+pUCsblAXXTRRRcbukCwFKj1K4W6QAO1fqVA77pAVlVVVVVZu0Co9SsFasO7QPuVArV+LbxATjbZZJOXvECg1q8UqAG9QPN2hsS8a71ARhdddNHVvUCZtzMk5j++QOxXCtT6qb5APvjggw8Uv0CRmLczJH6/QOQ4juM46L9Am2yyySYpwEDFvJ0hMV7AQO4MiXk7k8BAF1100UXIwEBBrV8pUP3AQGr9SoFaMsFAlE022WRnwUC9nSExb5zBQObtDIl50cFAED744IMGwkA5juM4jjvCQGLezpCYcMJAjC666KKlwkC1fqVArdrCQN7OkJi3D8NACB988MFEw0Axb2dIzHnDQFu/UqDWrsNAhA8++ODjw0CtXylQ6xjEQNevFKj1TcRAAAAAAACDxEA=",
          "dtype": "f8"
         },
         "xaxis": "x",
         "y": {
          "bdata": "6u2iiIludkAKosdXZAl8QBQrdpMf0oBAJIUI+4yfg0A035pi+myGQEQ5LcpnOolAVJO/MdUHjEBk7VGZQtWOQLojcgBY0ZBAwlA7tA44kkDKfQRoxZ6TQNKqzRt8BZVA2teWzzJslkDiBGCD6dKXQOoxKTegOZlA8F7y6lagmkD4i7ueDQecQAC5hFLEbZ1ACOZNBnvUnkCIiQvdmB2gQAwg8Db00KBAkbbUkE+EoUAUTbnqqjeiQJfjnUQG66JAHHqCnmGeo0CgEGf4vFGkQCSnS1IYBaVApz0wrHO4pUAs1BQGz2umQLBq+V8qH6dAMwHeuYXSp0C3l8IT4YWoQDsup208OalAwMSLx5fsqUBDW3Ah85+qQMfxVHtOU6tAS4g51akGrEDPHh4vBbqsQFO1Aolgba1A1kvn4rsgrkBb4ss8F9SuQN94sJZyh69AsodK+GYdsEDz0jylFHewQDYeL1LC0LBAeGkh/28qsUC5tBOsHYSxQPz/BVnL3bFAPkv4BXk3skCAluqyJpGyQMLh3F/U6rJAAy3PDIJEs0BGeMG5L56zQIjDs2bd97NAyQ6mE4tRtEALWpjAOKu0QE6lim3mBLVAkPB8GpRetUDSO2/HQbi1QBOHYXTvEbZAVdJTIZ1rtkCYHUbOSsW2QNloOHv4HrdAG7QqKKZ4t0Bd/xzVU9K3QJ9KD4IBLLhA4pUBL6+FuEAj4fPbXN+4QGUs5ogKOblAp3fYNbiSuUDpwsriZey5QCsOvY8TRrpAbVmvPMGfukCvpKHpbvm6QPHvk5YcU7tAMzuGQ8qsu0B1hnjwdwa8QLfRap0lYLxA+BxdStO5vEA8aE/3gBO9QH2zQaQubb1Avv4zUdzGvUABSib+iSC+QEOVGKs3er5AhuAKWOXTvkDHK/0Eky2/QAh377FAh79AS8LhXu7gv0DGBuoFTh3AQGcsY9wkSsBACFLcsvt2wECpd1WJ0qPAQEmdzl+p0MBA68JHNoD9wECM6MAMVyrBQC0OOuMtV8FAzjOzuQSEwUBuWSyQ27DBQBB/pWay3cFAsaQePYkKwkA=",
          "dtype": "f8"
         },
         "yaxis": "y"
        }
       ],
       "layout": {
        "annotations": [
         {
          "align": "right",
          "font": {
           "color": "pink",
           "size": 12
          },
          "showarrow": false,
          "text": "y = x",
          "x": 11027.1,
          "y": 11027.1
         },
         {
          "align": "right",
          "font": {
           "color": "black",
           "size": 12
          },
          "showarrow": false,
          "text": "r^2 = 0.56",
          "x": 11027.1,
          "y": 9698.925786611497
         }
        ],
        "height": 600,
        "legend": {
         "tracegroupgap": 0
        },
        "margin": {
         "b": 100,
         "l": 100,
         "r": 100,
         "t": 100
        },
        "shapes": [
         {
          "line": {
           "color": "Red",
           "dash": "dash",
           "width": 2
          },
          "type": "line",
          "x0": 0,
          "x1": 10502,
          "y0": 0,
          "y1": 10502
         }
        ],
        "template": {
         "data": {
          "bar": [
           {
            "error_x": {
             "color": "rgb(36,36,36)"
            },
            "error_y": {
             "color": "rgb(36,36,36)"
            },
            "marker": {
             "line": {
              "color": "white",
              "width": 0.5
             },
             "pattern": {
              "fillmode": "overlay",
              "size": 10,
              "solidity": 0.2
             }
            },
            "type": "bar"
           }
          ],
          "barpolar": [
           {
            "marker": {
             "line": {
              "color": "white",
              "width": 0.5
             },
             "pattern": {
              "fillmode": "overlay",
              "size": 10,
              "solidity": 0.2
             }
            },
            "type": "barpolar"
           }
          ],
          "carpet": [
           {
            "aaxis": {
             "endlinecolor": "rgb(36,36,36)",
             "gridcolor": "white",
             "linecolor": "white",
             "minorgridcolor": "white",
             "startlinecolor": "rgb(36,36,36)"
            },
            "baxis": {
             "endlinecolor": "rgb(36,36,36)",
             "gridcolor": "white",
             "linecolor": "white",
             "minorgridcolor": "white",
             "startlinecolor": "rgb(36,36,36)"
            },
            "type": "carpet"
           }
          ],
          "choropleth": [
           {
            "colorbar": {
             "outlinewidth": 1,
             "tickcolor": "rgb(36,36,36)",
             "ticks": "outside"
            },
            "type": "choropleth"
           }
          ],
          "contour": [
           {
            "colorbar": {
             "outlinewidth": 1,
             "tickcolor": "rgb(36,36,36)",
             "ticks": "outside"
            },
            "colorscale": [
             [
              0.0,
              "#440154"
             ],
             [
              0.1111111111111111,
              "#482878"
             ],
             [
              0.2222222222222222,
              "#3e4989"
             ],
             [
              0.3333333333333333,
              "#31688e"
             ],
             [
              0.4444444444444444,
              "#26828e"
             ],
             [
              0.5555555555555556,
              "#1f9e89"
             ],
             [
              0.6666666666666666,
              "#35b779"
             ],
             [
              0.7777777777777778,
              "#6ece58"
             ],
             [
              0.8888888888888888,
              "#b5de2b"
             ],
             [
              1.0,
              "#fde725"
             ]
            ],
            "type": "contour"
           }
          ],
          "contourcarpet": [
           {
            "colorbar": {
             "outlinewidth": 1,
             "tickcolor": "rgb(36,36,36)",
             "ticks": "outside"
            },
            "type": "contourcarpet"
           }
          ],
          "heatmap": [
           {
            "colorbar": {
             "outlinewidth": 1,
             "tickcolor": "rgb(36,36,36)",
             "ticks": "outside"
            },
            "colorscale": [
             [
              0.0,
              "#440154"
             ],
             [
              0.1111111111111111,
              "#482878"
             ],
             [
              0.2222222222222222,
              "#3e4989"
             ],
             [
              0.3333333333333333,
              "#31688e"
             ],
             [
              0.4444444444444444,
              "#26828e"
             ],
             [
              0.5555555555555556,
              "#1f9e89"
             ],
             [
              0.6666666666666666,
              "#35b779"
             ],
             [
              0.7777777777777778,
              "#6ece58"
             ],
             [
              0.8888888888888888,
              "#b5de2b"
             ],
             [
              1.0,
              "#fde725"
             ]
            ],
            "type": "heatmap"
           }
          ],
          "histogram": [
           {
            "marker": {
             "line": {
              "color": "white",
              "width": 0.6
             }
            },
            "type": "histogram"
           }
          ],
          "histogram2d": [
           {
            "colorbar": {
             "outlinewidth": 1,
             "tickcolor": "rgb(36,36,36)",
             "ticks": "outside"
            },
            "colorscale": [
             [
              0.0,
              "#440154"
             ],
             [
              0.1111111111111111,
              "#482878"
             ],
             [
              0.2222222222222222,
              "#3e4989"
             ],
             [
              0.3333333333333333,
              "#31688e"
             ],
             [
              0.4444444444444444,
              "#26828e"
             ],
             [
              0.5555555555555556,
              "#1f9e89"
             ],
             [
              0.6666666666666666,
              "#35b779"
             ],
             [
              0.7777777777777778,
              "#6ece58"
             ],
             [
              0.8888888888888888,
              "#b5de2b"
             ],
             [
              1.0,
              "#fde725"
             ]
            ],
            "type": "histogram2d"
           }
          ],
          "histogram2dcontour": [
           {
            "colorbar": {
             "outlinewidth": 1,
             "tickcolor": "rgb(36,36,36)",
             "ticks": "outside"
            },
            "colorscale": [
             [
              0.0,
              "#440154"
             ],
             [
              0.1111111111111111,
              "#482878"
             ],
             [
              0.2222222222222222,
              "#3e4989"
             ],
             [
              0.3333333333333333,
              "#31688e"
             ],
             [
              0.4444444444444444,
              "#26828e"
             ],
             [
              0.5555555555555556,
              "#1f9e89"
             ],
             [
              0.6666666666666666,
              "#35b779"
             ],
             [
              0.7777777777777778,
              "#6ece58"
             ],
             [
              0.8888888888888888,
              "#b5de2b"
             ],
             [
              1.0,
              "#fde725"
             ]
            ],
            "type": "histogram2dcontour"
           }
          ],
          "mesh3d": [
           {
            "colorbar": {
             "outlinewidth": 1,
             "tickcolor": "rgb(36,36,36)",
             "ticks": "outside"
            },
            "type": "mesh3d"
           }
          ],
          "parcoords": [
           {
            "line": {
             "colorbar": {
              "outlinewidth": 1,
              "tickcolor": "rgb(36,36,36)",
              "ticks": "outside"
             }
            },
            "type": "parcoords"
           }
          ],
          "pie": [
           {
            "automargin": true,
            "type": "pie"
           }
          ],
          "scatter": [
           {
            "fillpattern": {
             "fillmode": "overlay",
             "size": 10,
             "solidity": 0.2
            },
            "type": "scatter"
           }
          ],
          "scatter3d": [
           {
            "line": {
             "colorbar": {
              "outlinewidth": 1,
              "tickcolor": "rgb(36,36,36)",
              "ticks": "outside"
             }
            },
            "marker": {
             "colorbar": {
              "outlinewidth": 1,
              "tickcolor": "rgb(36,36,36)",
              "ticks": "outside"
             }
            },
            "type": "scatter3d"
           }
          ],
          "scattercarpet": [
           {
            "marker": {
             "colorbar": {
              "outlinewidth": 1,
              "tickcolor": "rgb(36,36,36)",
              "ticks": "outside"
             }
            },
            "type": "scattercarpet"
           }
          ],
          "scattergeo": [
           {
            "marker": {
             "colorbar": {
              "outlinewidth": 1,
              "tickcolor": "rgb(36,36,36)",
              "ticks": "outside"
             }
            },
            "type": "scattergeo"
           }
          ],
          "scattergl": [
           {
            "marker": {
             "colorbar": {
              "outlinewidth": 1,
              "tickcolor": "rgb(36,36,36)",
              "ticks": "outside"
             }
            },
            "type": "scattergl"
           }
          ],
          "scattermap": [
           {
            "marker": {
             "colorbar": {
              "outlinewidth": 1,
              "tickcolor": "rgb(36,36,36)",
              "ticks": "outside"
             }
            },
            "type": "scattermap"
           }
          ],
          "scattermapbox": [
           {
            "marker": {
             "colorbar": {
              "outlinewidth": 1,
              "tickcolor": "rgb(36,36,36)",
              "ticks": "outside"
             }
            },
            "type": "scattermapbox"
           }
          ],
          "scatterpolar": [
           {
            "marker": {
             "colorbar": {
              "outlinewidth": 1,
              "tickcolor": "rgb(36,36,36)",
              "ticks": "outside"
             }
            },
            "type": "scatterpolar"
           }
          ],
          "scatterpolargl": [
           {
            "marker": {
             "colorbar": {
              "outlinewidth": 1,
              "tickcolor": "rgb(36,36,36)",
              "ticks": "outside"
             }
            },
            "type": "scatterpolargl"
           }
          ],
          "scatterternary": [
           {
            "marker": {
             "colorbar": {
              "outlinewidth": 1,
              "tickcolor": "rgb(36,36,36)",
              "ticks": "outside"
             }
            },
            "type": "scatterternary"
           }
          ],
          "surface": [
           {
            "colorbar": {
             "outlinewidth": 1,
             "tickcolor": "rgb(36,36,36)",
             "ticks": "outside"
            },
            "colorscale": [
             [
              0.0,
              "#440154"
             ],
             [
              0.1111111111111111,
              "#482878"
             ],
             [
              0.2222222222222222,
              "#3e4989"
             ],
             [
              0.3333333333333333,
              "#31688e"
             ],
             [
              0.4444444444444444,
              "#26828e"
             ],
             [
              0.5555555555555556,
              "#1f9e89"
             ],
             [
              0.6666666666666666,
              "#35b779"
             ],
             [
              0.7777777777777778,
              "#6ece58"
             ],
             [
              0.8888888888888888,
              "#b5de2b"
             ],
             [
              1.0,
              "#fde725"
             ]
            ],
            "type": "surface"
           }
          ],
          "table": [
           {
            "cells": {
             "fill": {
              "color": "rgb(237,237,237)"
             },
             "line": {
              "color": "white"
             }
            },
            "header": {
             "fill": {
              "color": "rgb(217,217,217)"
             },
             "line": {
              "color": "white"
             }
            },
            "type": "table"
           }
          ]
         },
         "layout": {
          "annotationdefaults": {
           "arrowhead": 0,
           "arrowwidth": 1
          },
          "autotypenumbers": "strict",
          "coloraxis": {
           "colorbar": {
            "outlinewidth": 1,
            "tickcolor": "rgb(36,36,36)",
            "ticks": "outside"
           }
          },
          "colorscale": {
           "diverging": [
            [
             0.0,
             "rgb(103,0,31)"
            ],
            [
             0.1,
             "rgb(178,24,43)"
            ],
            [
             0.2,
             "rgb(214,96,77)"
            ],
            [
             0.3,
             "rgb(244,165,130)"
            ],
            [
             0.4,
             "rgb(253,219,199)"
            ],
            [
             0.5,
             "rgb(247,247,247)"
            ],
            [
             0.6,
             "rgb(209,229,240)"
            ],
            [
             0.7,
             "rgb(146,197,222)"
            ],
            [
             0.8,
             "rgb(67,147,195)"
            ],
            [
             0.9,
             "rgb(33,102,172)"
            ],
            [
             1.0,
             "rgb(5,48,97)"
            ]
           ],
           "sequential": [
            [
             0.0,
             "#440154"
            ],
            [
             0.1111111111111111,
             "#482878"
            ],
            [
             0.2222222222222222,
             "#3e4989"
            ],
            [
             0.3333333333333333,
             "#31688e"
            ],
            [
             0.4444444444444444,
             "#26828e"
            ],
            [
             0.5555555555555556,
             "#1f9e89"
            ],
            [
             0.6666666666666666,
             "#35b779"
            ],
            [
             0.7777777777777778,
             "#6ece58"
            ],
            [
             0.8888888888888888,
             "#b5de2b"
            ],
            [
             1.0,
             "#fde725"
            ]
           ],
           "sequentialminus": [
            [
             0.0,
             "#440154"
            ],
            [
             0.1111111111111111,
             "#482878"
            ],
            [
             0.2222222222222222,
             "#3e4989"
            ],
            [
             0.3333333333333333,
             "#31688e"
            ],
            [
             0.4444444444444444,
             "#26828e"
            ],
            [
             0.5555555555555556,
             "#1f9e89"
            ],
            [
             0.6666666666666666,
             "#35b779"
            ],
            [
             0.7777777777777778,
             "#6ece58"
            ],
            [
             0.8888888888888888,
             "#b5de2b"
            ],
            [
             1.0,
             "#fde725"
            ]
           ]
          },
          "colorway": [
           "#91268F",
           "#8CC63E",
           "#00A7A0",
           "#F05A28",
           "#4C4C4C",
           "#630460",
           "#9f3913",
           "#588527",
           "#00716c",
           "#3e4040"
          ],
          "font": {
           "color": "rgb(36,36,36)",
           "family": "Poppins",
           "size": 11
          },
          "geo": {
           "bgcolor": "white",
           "lakecolor": "white",
           "landcolor": "white",
           "showlakes": true,
           "showland": true,
           "subunitcolor": "white"
          },
          "hoverlabel": {
           "align": "left"
          },
          "hovermode": "closest",
          "mapbox": {
           "style": "light"
          },
          "paper_bgcolor": "white",
          "plot_bgcolor": "white",
          "polar": {
           "angularaxis": {
            "gridcolor": "rgb(232,232,232)",
            "linecolor": "rgb(36,36,36)",
            "showgrid": false,
            "showline": true,
            "ticks": "outside"
           },
           "bgcolor": "white",
           "radialaxis": {
            "gridcolor": "rgb(232,232,232)",
            "linecolor": "rgb(36,36,36)",
            "showgrid": false,
            "showline": true,
            "ticks": "outside"
           }
          },
          "scene": {
           "xaxis": {
            "backgroundcolor": "white",
            "gridcolor": "rgb(232,232,232)",
            "gridwidth": 2,
            "linecolor": "rgb(36,36,36)",
            "showbackground": true,
            "showgrid": false,
            "showline": true,
            "ticks": "outside",
            "zeroline": false,
            "zerolinecolor": "rgb(36,36,36)"
           },
           "yaxis": {
            "backgroundcolor": "white",
            "gridcolor": "rgb(232,232,232)",
            "gridwidth": 2,
            "linecolor": "rgb(36,36,36)",
            "showbackground": true,
            "showgrid": false,
            "showline": true,
            "ticks": "outside",
            "zeroline": false,
            "zerolinecolor": "rgb(36,36,36)"
           },
           "zaxis": {
            "backgroundcolor": "white",
            "gridcolor": "rgb(232,232,232)",
            "gridwidth": 2,
            "linecolor": "rgb(36,36,36)",
            "showbackground": true,
            "showgrid": false,
            "showline": true,
            "ticks": "outside",
            "zeroline": false,
            "zerolinecolor": "rgb(36,36,36)"
           }
          },
          "shapedefaults": {
           "fillcolor": "black",
           "line": {
            "width": 0
           },
           "opacity": 0.3
          },
          "ternary": {
           "aaxis": {
            "gridcolor": "rgb(232,232,232)",
            "linecolor": "rgb(36,36,36)",
            "showgrid": false,
            "showline": true,
            "ticks": "outside"
           },
           "baxis": {
            "gridcolor": "rgb(232,232,232)",
            "linecolor": "rgb(36,36,36)",
            "showgrid": false,
            "showline": true,
            "ticks": "outside"
           },
           "bgcolor": "white",
           "caxis": {
            "gridcolor": "rgb(232,232,232)",
            "linecolor": "rgb(36,36,36)",
            "showgrid": false,
            "showline": true,
            "ticks": "outside"
           }
          },
          "title": {
           "x": 0.05
          },
          "xaxis": {
           "automargin": true,
           "gridcolor": "rgb(232,232,232)",
           "linecolor": "rgb(36,36,36)",
           "showgrid": false,
           "showline": true,
           "ticks": "outside",
           "title": {
            "standoff": 15
           },
           "zeroline": false,
           "zerolinecolor": "rgb(36,36,36)"
          },
          "yaxis": {
           "automargin": true,
           "gridcolor": "rgb(232,232,232)",
           "linecolor": "rgb(36,36,36)",
           "showgrid": false,
           "showline": true,
           "ticks": "outside",
           "title": {
            "standoff": 15
           },
           "zeroline": false,
           "zerolinecolor": "rgb(36,36,36)"
          }
         }
        },
        "title": {
         "text": "Heavy Trucks: King"
        },
        "width": 800,
        "xaxis": {
         "anchor": "y",
         "domain": [
          0.0,
          1.0
         ],
         "title": {
          "text": "Observed"
         }
        },
        "yaxis": {
         "anchor": "x",
         "domain": [
          0.0,
          1.0
         ],
         "title": {
          "text": "Model"
         }
        }
       }
      },
      "text/html": [
       "<div>            <script src=\"https://cdnjs.cloudflare.com/ajax/libs/mathjax/2.7.5/MathJax.js?config=TeX-AMS-MML_SVG\"></script><script type=\"text/javascript\">if (window.MathJax && window.MathJax.Hub && window.MathJax.Hub.Config) {window.MathJax.Hub.Config({SVG: {font: \"STIX-Web\"}});}</script>                <script type=\"text/javascript\">window.PlotlyConfig = {MathJaxConfig: 'local'};</script>\n",
       "        <script charset=\"utf-8\" src=\"https://cdn.plot.ly/plotly-3.0.1.min.js\"></script>                <div id=\"a8c53fb9-dd7e-4f8e-98ea-10e7d7771941\" class=\"plotly-graph-div\" style=\"height:600px; width:800px;\"></div>            <script type=\"text/javascript\">                window.PLOTLYENV=window.PLOTLYENV || {};                                if (document.getElementById(\"a8c53fb9-dd7e-4f8e-98ea-10e7d7771941\")) {                    Plotly.newPlot(                        \"a8c53fb9-dd7e-4f8e-98ea-10e7d7771941\",                        [{\"customdata\":[[\"I-5 S\\u002fO 205th NB\",\"King\"],[\"I-5 S\\u002fO 205th SB\",\"King\"],[\"I-5 Rev N\\u002fO I-5 GP NB\\u002fSB\",\"King\"],[\"I-90 E\\u002fO I-5 WB\",\"King\"],[\"I-90 E\\u002fO I-5 EB\",\"King\"],[\"I-90 E\\u002fO W Lk Sam WB\",\"King\"],[\"I-90 E\\u002fO W Lk Sam EB\",\"King\"],[\"I-90 E\\u002fO SR-900 WB\",\"King\"],[\"I-405 @ I-5 Southcenter NB\",\"King\"],[\"I-405 @ I-5 Southcenter SB\",\"King\"],[\"I-405 @ Lake Wash Blvd NB\",\"King\"],[\"I-405 @ I-90 NB\",\"King\"],[\"I-405 @ I-90 SB\",\"King\"],[\"SR-520 @ x-lake bridge WB\",\"King\"],[\"SR-520 @ x-lake bridge EB\",\"King\"],[\"SR-167 S\\u002fO 43rd NB\",\"King\"],[\"SR-167 S\\u002fO 43rd SB\",\"King\"],[\"SR-167 N\\u002fO SR-18 NB\",\"King\"],[\"SR-167 N\\u002fO SR-18 SB\",\"King\"],[\"SR-167 S\\u002fO 15th SW NB\",\"King\"],[\"SR-167 S\\u002fO 15th SW SB\",\"King\"],[\"SR-509 @ Holden NB\",\"King\"],[\"SR-509 @ Holden SB\",\"King\"],[\"SR-99 N\\u002fO 14th NB\",\"King\"],[\"SR-99 N\\u002fO 14th SB\",\"King\"],[\"SR-99 N\\u002fO WSF NB\",\"King\"],[\"SR-99 N\\u002fO WSF SB\",\"King\"],[\"SR-99 tunnel NB\",\"King\"],[\"SR-99 tunnel SB\",\"King\"],[\"SR-599 S\\u002fO Pacific NB\",\"King\"],[\"SR-599 S\\u002fO Pacific SB\",\"King\"],[\"SR-599 @ Pacific NB\",\"King\"],[\"SR-599 @ Pacific SB\",\"King\"],[\"SR-18 @ I-5 WB\",\"King\"],[\"SR-18 @ I-5 EB\",\"King\"],[\"SR-18 W\\u002fO Auburn-Black Diamond WB\",\"King\"],[\"SR-18 W\\u002fO Auburn-Black Diamond EB\",\"King\"],[\"SR-18 E\\u002fO SR-516 WB\",\"King\"],[\"SR-18 E\\u002fO SR-516 EB\",\"King\"],[\"SR-18 E\\u002fO 256th WB\",\"King\"],[\"SR-18 E\\u002fO 256th EB\",\"King\"],[\"SR-522 N\\u002fO 195th WB\",\"King\"],[\"SR-522 N\\u002fO 195th EB\",\"King\"],[\"I-5 N\\u002fO I-5 Rev CBD NB\\u002fSB\",\"King\"],[\"I-90 W\\u002fO SR-18 WB\\u002fEB\",\"King\"],[\"I-90 E\\u002fO SR-18 WB\\u002fEB\",\"King\"],[\"I-90 E\\u002fO 436th WB\\u002fEB\",\"King\"],[\"I-90 @ Kittitas County WB\\u002fEB\",\"King\"],[\"I-405 N\\u002fO SR-522 NB\\u002fSB\",\"King\"],[\"SR-167 N\\u002fO Grady NB\\u002fSB\",\"King\"],[\"SR-410 E\\u002fO 244th WB\\u002fEB\",\"King\"],[\"SR-410 E\\u002fO Farman WB\\u002fEB\",\"King\"],[\"SR-410 @ Greenwater River WB\\u002fEB\",\"King\"],[\"SR-509 E\\u002fO 47th NB\\u002fSB\",\"King\"],[\"SR-509 E\\u002fO 21st NB\\u002fSB\",\"King\"],[\"SR-509 W\\u002fO SR-516 NB\\u002fSB\",\"King\"],[\"SR-509 W\\u002fO Des Moines Mem NB\\u002fSB\",\"King\"],[\"SR-509 E\\u002fO 1st Ave NB\\u002fSB\",\"King\"],[\"SR-509 E\\u002fO Des Moines Mem NB\\u002fSB\",\"King\"],[\"SR-509 @ SR-509 ramp overpass NB\\u002fSB\",\"King\"],[\"SR-509 N\\u002fO Des Moines Mem NB\\u002fSB\",\"King\"],[\"SR-509 N\\u002fO SR-518 NB\\u002fSB\",\"King\"],[\"SR-99 S\\u002fO SR-18 NB\\u002fSB\",\"King\"],[\"SR-99 N\\u002fO SR-18 NB\\u002fSB\",\"King\"],[\"SR-99 N\\u002fO 320th NB\\u002fSB\",\"King\"],[\"SR-99 N\\u002fO 188th NB\\u002fSB\",\"King\"],[\"SR-99 @ WSF NB\\u002fSB\",\"King\"],[\"SR-99 @ Aurora Bridge NB\\u002fSB\",\"King\"],[\"SR-99 N\\u002fO 38th NB\\u002fSB\",\"King\"],[\"SR-99 S\\u002fO Roosevelt NB\\u002fSB\",\"King\"],[\"SR-599 N\\u002fO I-5 NB\\u002fSB\",\"King\"],[\"SR-518 @ SR-509 WB\\u002fEB\",\"King\"],[\"SR-518 E\\u002fO SR-509 WB\\u002fEB\",\"King\"],[\"SR-18 E\\u002fO SR-99 WB\\u002fEB\",\"King\"],[\"SR-18 N\\u002fO 304th WB\\u002fEB\",\"King\"],[\"SR-18 S\\u002fO I-90 WB\\u002fEB\",\"King\"],[\"SR-202 @ SR-522 NB\\u002fSB\",\"King\"],[\"SR-202 N\\u002fO 145th NB\\u002fSB\",\"King\"],[\"SR-202 @ Sammamish River Br NB\\u002fSB\",\"King\"],[\"SR-202 S\\u002fO 144th NB\\u002fSB\",\"King\"],[\"SR-202 N\\u002fO Redmond Way NB\\u002fSB\",\"King\"],[\"SR-202 E\\u002fO 164th NB\\u002fSB\",\"King\"],[\"SR-202 E\\u002fO SR-520 NB\\u002fSB\",\"King\"],[\"SR-202 E\\u002fO E Lk Samm NB\\u002fSB\",\"King\"],[\"SR-202 E\\u002fO Sahalee NB\\u002fSB\",\"King\"],[\"SR-202 E\\u002fO 236th NB\\u002fSB\",\"King\"],[\"SR-202 S\\u002fO Ames Lake NB\\u002fSB\",\"King\"],[\"SR-202 S\\u002fO Duthie Hill NB\\u002fSB\",\"King\"],[\"SR-202 E\\u002fO SR-203 NB\\u002fSB\",\"King\"],[\"SR-202 N\\u002fO I-90 NB\\u002fSB\",\"King\"],[\"SR-522 N\\u002fO 145th NB\\u002fSB\",\"King\"],[\"SR-104 W\\u002fO 19th WB\\u002fEB\",\"King\"],[\"SR-516 E\\u002fO SR-509 WB\\u002fEB\",\"King\"],[\"SR-516 W\\u002fO I-5 WB\\u002fEB\",\"King\"],[\"SR-516 E\\u002fO Meeker WB\\u002fEB\",\"King\"],[\"SR-516 W\\u002fO SR-167 WB\\u002fEB\",\"King\"],[\"SR-516 E\\u002fO SR-167 WB\\u002fEB\",\"King\"],[\"SR-516 E\\u002fO SR-18 WB\\u002fEB\",\"King\"],[\"SR-900 S\\u002fO NB I-5 on-ramp @ Boe Acc WB\\u002fEB\",\"King\"],[\"SR-900 E\\u002fO 68th WB\\u002fEB\",\"King\"],[\"SR-900 @ I-405 WB\\u002fEB\",\"King\"],[\"SR-900 E\\u002fO 148th WB\\u002fEB\",\"King\"],[\"SR-900 N\\u002fO Talus WB\\u002fEB\",\"King\"],[\"SR-900 N\\u002fO Newport WB\\u002fEB\",\"King\"],[\"SR-2 E\\u002fO Skykomish WB\\u002fEB\",\"King\"],[\"SR-513 S\\u002fO 44th NB\\u002fSB\",\"King\"],[\"SR-169 N\\u002fO SR-164 NB\\u002fSB\",\"King\"],[\"SR-169 S\\u002fO Lawson NB\\u002fSB\",\"King\"],[\"SR-169 S\\u002fO 276th NB\\u002fSB\",\"King\"],[\"SR-169 N\\u002fO 280th NB\\u002fSB\",\"King\"],[\"SR-169 N\\u002fO 231st NB\\u002fSB\",\"King\"],[\"SR-169 N\\u002fO 232nd NB\\u002fSB\",\"King\"],[\"SR-169 W\\u002fO 140th NB\\u002fSB\",\"King\"],[\"SR-515 N\\u002fO SR-516 NB\\u002fSB\",\"King\"],[\"SR-515 N\\u002fO 108th NB\\u002fSB\",\"King\"],[\"SR-515 N\\u002fO Puget NB\\u002fSB\",\"King\"],[\"SR-181 N\\u002fO SR-516 NB\\u002fSB\",\"King\"],[\"SR-181 S\\u002fO James NB\\u002fSB\",\"King\"],[\"SR-181 N\\u002fO James NB\\u002fSB\",\"King\"],[\"SR-181 N\\u002fO 228th NB\\u002fSB\",\"King\"],[\"SR-181 N\\u002fO 180th NB\\u002fSB\",\"King\"],[\"SR-181 S\\u002fO Longacres NB\\u002fSB\",\"King\"],[\"SR-523 E\\u002fO Lenora WB\\u002fEB\",\"King\"],[\"SR-164 @ SR-18 WB\\u002fEB\",\"King\"],[\"SR-164 S\\u002fO 400th WB\\u002fEB\",\"King\"],[\"SR-203 N\\u002fO Cherry Valley NB\\u002fSB\",\"King\"],[\"SR-203 N\\u002fO 124th NB\\u002fSB\",\"King\"],[\"SR-203 W\\u002fO Stillwater Hill NB\\u002fSB\",\"King\"],[\"SR-203 N\\u002fO Carnation Farm NB\\u002fSB\",\"King\"],[\"SR-203 N\\u002fO Tolt Hill NB\\u002fSB\",\"King\"],[\"SR-203 N\\u002fO SR-202 NB\\u002fSB\",\"King\"],[\"SR-519 W\\u002fO 4th NB\\u002fSB\",\"King\"]],\"hovertemplate\":\"Observed=%{x}\\u003cbr\\u003eModel=%{y}\\u003cbr\\u003elocation=%{customdata[0]}\\u003cbr\\u003eCounty=%{customdata[1]}\\u003cextra\\u003e\\u003c\\u002fextra\\u003e\",\"legendgroup\":\"\",\"marker\":{\"color\":\"#91268F\",\"symbol\":\"circle\"},\"mode\":\"markers\",\"name\":\"\",\"orientation\":\"v\",\"showlegend\":false,\"x\":{\"dtype\":\"i2\",\"bdata\":\"EgmyCfwChQM+A40HcQfJCVcDcAVeCEEBAgGJAIoAXgjxCNgI4QglDuwMqgOuA5IEZAOtAJ0AkACDABYFQwRtBZgDsQO5BmEJ9Ag8CB0ImgpeCvwCNwNNCwYNBim8GIsZdQs0AfwBHQMfABMARAA8AAoAIABWAHgA0gB0AdoEGAEgAa4A3gCSAGwAjQDCCvYAUAGJBbkWhQ0JAVMATABBATYAkgDdATMBpAF6ASwBPgEcAW4ApwBMAFAAHAJ3AcADIAFfAYwBVADQAEwA8gBUAH4AOADgALgBMAHnAFIDCwTgBGQAYACNAL0DgQODAxoE5wOWA1QAKQHGAFQBbAE7ARwBSgFMAX4C\"},\"xaxis\":\"x\",\"y\":{\"dtype\":\"i2\",\"bdata\":\"RhQeFccQTwTlBOkEBAUmBbgAqwaBEScR6g89ADcA7gyYDxET+RQyEAYQ0QAmAXAFtgOlANsARwBLAAMGVATFBS0E6AZxAuAGrQYEB7cGJgfsBgEHxwb8HXELHheXFzUU3xCLAiMAXgBeAAAAFAAmABEADAAMAHkACwG7AZkIPwB2AOUA0ACvABYAIgC4C84B2AGfCjwNYw8SABIABQAZACIAIgAmBQYAAQAlACUAIgAlAT0BcAApABcAqgFJCR4LvwY7AM4EWgDHADcAggB7AEAAAAAAADkASQBJAG0AvgDFAAcAEAAXAN4D3gM3BJAG6AT7BCUABQFyADACAQIJAgkCCQIJAlED\"},\"yaxis\":\"y\",\"type\":\"scatter\",\"line\":{\"color\":\"Grey\",\"width\":2}},{\"hovertemplate\":\"Observed=%{x}\\u003cbr\\u003eModel=%{y}\\u003cextra\\u003e\\u003c\\u002fextra\\u003e\",\"legendgroup\":\"\",\"line\":{\"color\":\"Grey\",\"dash\":\"solid\",\"width\":2},\"marker\":{\"symbol\":\"circle\"},\"mode\":\"lines\",\"name\":\"\",\"orientation\":\"v\",\"showlegend\":false,\"x\":{\"dtype\":\"f8\",\"bdata\":\"AAAAAAAAAACwFKj1K4VaQLAUqPUrhWpAhA8++ODjc0CwFKj1K4V6QO4MiXk7k4BAhA8++ODjg0AaEvN2hjSHQLAUqPUrhYpARhdddNHVjUDuDIl5O5OQQDmO4ziOO5JAhA8++ODjk0DPkJi3M4yVQBoS83aGNJdAZZNNNtncmECwFKj1K4WaQPuVArV+LZxARhdddNHVnUCRmLczJH6fQO4MiXk7k6BAlE022WRnoUA5juM4jjuiQN7OkJi3D6NAhA8++ODjo0AqUOtXCrikQM+QmLczjKVAdNFFF11gpkAaEvN2hjSnQMBSoNavCKhAZZNNNtncqEAK1PqVArGpQLAUqPUrhapAVlVVVVVZq0D7lQK1fi2sQKDWrxSoAa1ARhdddNHVrUDsVwrU+qmuQJGYtzMkfq9Am2yyySYpsEDuDIl5O5OwQEGtXylQ\\u002fbBAlE022WRnsUDm7QyJedGxQDmO4ziOO7JAjC666KKlskDezpCYtw+zQDFvZ0jMebNAhA8++ODjs0DXrxSo9U20QCpQ61cKuLRAfPDBBx8itUDPkJi3M4y1QCIxb2dI9rVAdNFFF11gtkDHcRzHccq2QBoS83aGNLdAbbLJJpuet0DAUqDWrwi4QBLzdobEcrhAZZNNNtncuEC4MyTm7Ua5QArU+pUCsblAXXTRRRcbukCwFKj1K4W6QAO1fqVA77pAVlVVVVVZu0Co9SsFasO7QPuVArV+LbxATjbZZJOXvECg1q8UqAG9QPN2hsS8a71ARhdddNHVvUCZtzMk5j++QOxXCtT6qb5APvjggw8Uv0CRmLczJH6\\u002fQOQ4juM46L9Am2yyySYpwEDFvJ0hMV7AQO4MiXk7k8BAF1100UXIwEBBrV8pUP3AQGr9SoFaMsFAlE022WRnwUC9nSExb5zBQObtDIl50cFAED744IMGwkA5juM4jjvCQGLezpCYcMJAjC666KKlwkC1fqVArdrCQN7OkJi3D8NACB988MFEw0Axb2dIzHnDQFu\\u002fUqDWrsNAhA8++ODjw0CtXylQ6xjEQNevFKj1TcRAAAAAAACDxEA=\"},\"xaxis\":\"x\",\"y\":{\"dtype\":\"f8\",\"bdata\":\"6u2iiIludkAKosdXZAl8QBQrdpMf0oBAJIUI+4yfg0A035pi+myGQEQ5LcpnOolAVJO\\u002fMdUHjEBk7VGZQtWOQLojcgBY0ZBAwlA7tA44kkDKfQRoxZ6TQNKqzRt8BZVA2teWzzJslkDiBGCD6dKXQOoxKTegOZlA8F7y6lagmkD4i7ueDQecQAC5hFLEbZ1ACOZNBnvUnkCIiQvdmB2gQAwg8Db00KBAkbbUkE+EoUAUTbnqqjeiQJfjnUQG66JAHHqCnmGeo0CgEGf4vFGkQCSnS1IYBaVApz0wrHO4pUAs1BQGz2umQLBq+V8qH6dAMwHeuYXSp0C3l8IT4YWoQDsup208OalAwMSLx5fsqUBDW3Ah85+qQMfxVHtOU6tAS4g51akGrEDPHh4vBbqsQFO1Aolgba1A1kvn4rsgrkBb4ss8F9SuQN94sJZyh69AsodK+GYdsEDz0jylFHewQDYeL1LC0LBAeGkh\\u002f28qsUC5tBOsHYSxQPz\\u002fBVnL3bFAPkv4BXk3skCAluqyJpGyQMLh3F\\u002fU6rJAAy3PDIJEs0BGeMG5L56zQIjDs2bd97NAyQ6mE4tRtEALWpjAOKu0QE6lim3mBLVAkPB8GpRetUDSO2\\u002fHQbi1QBOHYXTvEbZAVdJTIZ1rtkCYHUbOSsW2QNloOHv4HrdAG7QqKKZ4t0Bd\\u002fxzVU9K3QJ9KD4IBLLhA4pUBL6+FuEAj4fPbXN+4QGUs5ogKOblAp3fYNbiSuUDpwsriZey5QCsOvY8TRrpAbVmvPMGfukCvpKHpbvm6QPHvk5YcU7tAMzuGQ8qsu0B1hnjwdwa8QLfRap0lYLxA+BxdStO5vEA8aE\\u002f3gBO9QH2zQaQubb1Avv4zUdzGvUABSib+iSC+QEOVGKs3er5AhuAKWOXTvkDHK\\u002f0Eky2\\u002fQAh377FAh79AS8LhXu7gv0DGBuoFTh3AQGcsY9wkSsBACFLcsvt2wECpd1WJ0qPAQEmdzl+p0MBA68JHNoD9wECM6MAMVyrBQC0OOuMtV8FAzjOzuQSEwUBuWSyQ27DBQBB\\u002fpWay3cFAsaQePYkKwkA=\"},\"yaxis\":\"y\",\"type\":\"scatter\"}],                        {\"template\":{\"data\":{\"barpolar\":[{\"marker\":{\"line\":{\"color\":\"white\",\"width\":0.5},\"pattern\":{\"fillmode\":\"overlay\",\"size\":10,\"solidity\":0.2}},\"type\":\"barpolar\"}],\"bar\":[{\"error_x\":{\"color\":\"rgb(36,36,36)\"},\"error_y\":{\"color\":\"rgb(36,36,36)\"},\"marker\":{\"line\":{\"color\":\"white\",\"width\":0.5},\"pattern\":{\"fillmode\":\"overlay\",\"size\":10,\"solidity\":0.2}},\"type\":\"bar\"}],\"carpet\":[{\"aaxis\":{\"endlinecolor\":\"rgb(36,36,36)\",\"gridcolor\":\"white\",\"linecolor\":\"white\",\"minorgridcolor\":\"white\",\"startlinecolor\":\"rgb(36,36,36)\"},\"baxis\":{\"endlinecolor\":\"rgb(36,36,36)\",\"gridcolor\":\"white\",\"linecolor\":\"white\",\"minorgridcolor\":\"white\",\"startlinecolor\":\"rgb(36,36,36)\"},\"type\":\"carpet\"}],\"choropleth\":[{\"colorbar\":{\"outlinewidth\":1,\"tickcolor\":\"rgb(36,36,36)\",\"ticks\":\"outside\"},\"type\":\"choropleth\"}],\"contourcarpet\":[{\"colorbar\":{\"outlinewidth\":1,\"tickcolor\":\"rgb(36,36,36)\",\"ticks\":\"outside\"},\"type\":\"contourcarpet\"}],\"contour\":[{\"colorbar\":{\"outlinewidth\":1,\"tickcolor\":\"rgb(36,36,36)\",\"ticks\":\"outside\"},\"colorscale\":[[0.0,\"#440154\"],[0.1111111111111111,\"#482878\"],[0.2222222222222222,\"#3e4989\"],[0.3333333333333333,\"#31688e\"],[0.4444444444444444,\"#26828e\"],[0.5555555555555556,\"#1f9e89\"],[0.6666666666666666,\"#35b779\"],[0.7777777777777778,\"#6ece58\"],[0.8888888888888888,\"#b5de2b\"],[1.0,\"#fde725\"]],\"type\":\"contour\"}],\"heatmap\":[{\"colorbar\":{\"outlinewidth\":1,\"tickcolor\":\"rgb(36,36,36)\",\"ticks\":\"outside\"},\"colorscale\":[[0.0,\"#440154\"],[0.1111111111111111,\"#482878\"],[0.2222222222222222,\"#3e4989\"],[0.3333333333333333,\"#31688e\"],[0.4444444444444444,\"#26828e\"],[0.5555555555555556,\"#1f9e89\"],[0.6666666666666666,\"#35b779\"],[0.7777777777777778,\"#6ece58\"],[0.8888888888888888,\"#b5de2b\"],[1.0,\"#fde725\"]],\"type\":\"heatmap\"}],\"histogram2dcontour\":[{\"colorbar\":{\"outlinewidth\":1,\"tickcolor\":\"rgb(36,36,36)\",\"ticks\":\"outside\"},\"colorscale\":[[0.0,\"#440154\"],[0.1111111111111111,\"#482878\"],[0.2222222222222222,\"#3e4989\"],[0.3333333333333333,\"#31688e\"],[0.4444444444444444,\"#26828e\"],[0.5555555555555556,\"#1f9e89\"],[0.6666666666666666,\"#35b779\"],[0.7777777777777778,\"#6ece58\"],[0.8888888888888888,\"#b5de2b\"],[1.0,\"#fde725\"]],\"type\":\"histogram2dcontour\"}],\"histogram2d\":[{\"colorbar\":{\"outlinewidth\":1,\"tickcolor\":\"rgb(36,36,36)\",\"ticks\":\"outside\"},\"colorscale\":[[0.0,\"#440154\"],[0.1111111111111111,\"#482878\"],[0.2222222222222222,\"#3e4989\"],[0.3333333333333333,\"#31688e\"],[0.4444444444444444,\"#26828e\"],[0.5555555555555556,\"#1f9e89\"],[0.6666666666666666,\"#35b779\"],[0.7777777777777778,\"#6ece58\"],[0.8888888888888888,\"#b5de2b\"],[1.0,\"#fde725\"]],\"type\":\"histogram2d\"}],\"histogram\":[{\"marker\":{\"line\":{\"color\":\"white\",\"width\":0.6}},\"type\":\"histogram\"}],\"mesh3d\":[{\"colorbar\":{\"outlinewidth\":1,\"tickcolor\":\"rgb(36,36,36)\",\"ticks\":\"outside\"},\"type\":\"mesh3d\"}],\"parcoords\":[{\"line\":{\"colorbar\":{\"outlinewidth\":1,\"tickcolor\":\"rgb(36,36,36)\",\"ticks\":\"outside\"}},\"type\":\"parcoords\"}],\"pie\":[{\"automargin\":true,\"type\":\"pie\"}],\"scatter3d\":[{\"line\":{\"colorbar\":{\"outlinewidth\":1,\"tickcolor\":\"rgb(36,36,36)\",\"ticks\":\"outside\"}},\"marker\":{\"colorbar\":{\"outlinewidth\":1,\"tickcolor\":\"rgb(36,36,36)\",\"ticks\":\"outside\"}},\"type\":\"scatter3d\"}],\"scattercarpet\":[{\"marker\":{\"colorbar\":{\"outlinewidth\":1,\"tickcolor\":\"rgb(36,36,36)\",\"ticks\":\"outside\"}},\"type\":\"scattercarpet\"}],\"scattergeo\":[{\"marker\":{\"colorbar\":{\"outlinewidth\":1,\"tickcolor\":\"rgb(36,36,36)\",\"ticks\":\"outside\"}},\"type\":\"scattergeo\"}],\"scattergl\":[{\"marker\":{\"colorbar\":{\"outlinewidth\":1,\"tickcolor\":\"rgb(36,36,36)\",\"ticks\":\"outside\"}},\"type\":\"scattergl\"}],\"scattermapbox\":[{\"marker\":{\"colorbar\":{\"outlinewidth\":1,\"tickcolor\":\"rgb(36,36,36)\",\"ticks\":\"outside\"}},\"type\":\"scattermapbox\"}],\"scattermap\":[{\"marker\":{\"colorbar\":{\"outlinewidth\":1,\"tickcolor\":\"rgb(36,36,36)\",\"ticks\":\"outside\"}},\"type\":\"scattermap\"}],\"scatterpolargl\":[{\"marker\":{\"colorbar\":{\"outlinewidth\":1,\"tickcolor\":\"rgb(36,36,36)\",\"ticks\":\"outside\"}},\"type\":\"scatterpolargl\"}],\"scatterpolar\":[{\"marker\":{\"colorbar\":{\"outlinewidth\":1,\"tickcolor\":\"rgb(36,36,36)\",\"ticks\":\"outside\"}},\"type\":\"scatterpolar\"}],\"scatter\":[{\"fillpattern\":{\"fillmode\":\"overlay\",\"size\":10,\"solidity\":0.2},\"type\":\"scatter\"}],\"scatterternary\":[{\"marker\":{\"colorbar\":{\"outlinewidth\":1,\"tickcolor\":\"rgb(36,36,36)\",\"ticks\":\"outside\"}},\"type\":\"scatterternary\"}],\"surface\":[{\"colorbar\":{\"outlinewidth\":1,\"tickcolor\":\"rgb(36,36,36)\",\"ticks\":\"outside\"},\"colorscale\":[[0.0,\"#440154\"],[0.1111111111111111,\"#482878\"],[0.2222222222222222,\"#3e4989\"],[0.3333333333333333,\"#31688e\"],[0.4444444444444444,\"#26828e\"],[0.5555555555555556,\"#1f9e89\"],[0.6666666666666666,\"#35b779\"],[0.7777777777777778,\"#6ece58\"],[0.8888888888888888,\"#b5de2b\"],[1.0,\"#fde725\"]],\"type\":\"surface\"}],\"table\":[{\"cells\":{\"fill\":{\"color\":\"rgb(237,237,237)\"},\"line\":{\"color\":\"white\"}},\"header\":{\"fill\":{\"color\":\"rgb(217,217,217)\"},\"line\":{\"color\":\"white\"}},\"type\":\"table\"}]},\"layout\":{\"annotationdefaults\":{\"arrowhead\":0,\"arrowwidth\":1},\"autotypenumbers\":\"strict\",\"coloraxis\":{\"colorbar\":{\"outlinewidth\":1,\"tickcolor\":\"rgb(36,36,36)\",\"ticks\":\"outside\"}},\"colorscale\":{\"diverging\":[[0.0,\"rgb(103,0,31)\"],[0.1,\"rgb(178,24,43)\"],[0.2,\"rgb(214,96,77)\"],[0.3,\"rgb(244,165,130)\"],[0.4,\"rgb(253,219,199)\"],[0.5,\"rgb(247,247,247)\"],[0.6,\"rgb(209,229,240)\"],[0.7,\"rgb(146,197,222)\"],[0.8,\"rgb(67,147,195)\"],[0.9,\"rgb(33,102,172)\"],[1.0,\"rgb(5,48,97)\"]],\"sequential\":[[0.0,\"#440154\"],[0.1111111111111111,\"#482878\"],[0.2222222222222222,\"#3e4989\"],[0.3333333333333333,\"#31688e\"],[0.4444444444444444,\"#26828e\"],[0.5555555555555556,\"#1f9e89\"],[0.6666666666666666,\"#35b779\"],[0.7777777777777778,\"#6ece58\"],[0.8888888888888888,\"#b5de2b\"],[1.0,\"#fde725\"]],\"sequentialminus\":[[0.0,\"#440154\"],[0.1111111111111111,\"#482878\"],[0.2222222222222222,\"#3e4989\"],[0.3333333333333333,\"#31688e\"],[0.4444444444444444,\"#26828e\"],[0.5555555555555556,\"#1f9e89\"],[0.6666666666666666,\"#35b779\"],[0.7777777777777778,\"#6ece58\"],[0.8888888888888888,\"#b5de2b\"],[1.0,\"#fde725\"]]},\"colorway\":[\"#91268F\",\"#8CC63E\",\"#00A7A0\",\"#F05A28\",\"#4C4C4C\",\"#630460\",\"#9f3913\",\"#588527\",\"#00716c\",\"#3e4040\"],\"font\":{\"color\":\"rgb(36,36,36)\",\"family\":\"Poppins\",\"size\":11},\"geo\":{\"bgcolor\":\"white\",\"lakecolor\":\"white\",\"landcolor\":\"white\",\"showlakes\":true,\"showland\":true,\"subunitcolor\":\"white\"},\"hoverlabel\":{\"align\":\"left\"},\"hovermode\":\"closest\",\"mapbox\":{\"style\":\"light\"},\"paper_bgcolor\":\"white\",\"plot_bgcolor\":\"white\",\"polar\":{\"angularaxis\":{\"gridcolor\":\"rgb(232,232,232)\",\"linecolor\":\"rgb(36,36,36)\",\"showgrid\":false,\"showline\":true,\"ticks\":\"outside\"},\"bgcolor\":\"white\",\"radialaxis\":{\"gridcolor\":\"rgb(232,232,232)\",\"linecolor\":\"rgb(36,36,36)\",\"showgrid\":false,\"showline\":true,\"ticks\":\"outside\"}},\"scene\":{\"xaxis\":{\"backgroundcolor\":\"white\",\"gridcolor\":\"rgb(232,232,232)\",\"gridwidth\":2,\"linecolor\":\"rgb(36,36,36)\",\"showbackground\":true,\"showgrid\":false,\"showline\":true,\"ticks\":\"outside\",\"zeroline\":false,\"zerolinecolor\":\"rgb(36,36,36)\"},\"yaxis\":{\"backgroundcolor\":\"white\",\"gridcolor\":\"rgb(232,232,232)\",\"gridwidth\":2,\"linecolor\":\"rgb(36,36,36)\",\"showbackground\":true,\"showgrid\":false,\"showline\":true,\"ticks\":\"outside\",\"zeroline\":false,\"zerolinecolor\":\"rgb(36,36,36)\"},\"zaxis\":{\"backgroundcolor\":\"white\",\"gridcolor\":\"rgb(232,232,232)\",\"gridwidth\":2,\"linecolor\":\"rgb(36,36,36)\",\"showbackground\":true,\"showgrid\":false,\"showline\":true,\"ticks\":\"outside\",\"zeroline\":false,\"zerolinecolor\":\"rgb(36,36,36)\"}},\"shapedefaults\":{\"fillcolor\":\"black\",\"line\":{\"width\":0},\"opacity\":0.3},\"ternary\":{\"aaxis\":{\"gridcolor\":\"rgb(232,232,232)\",\"linecolor\":\"rgb(36,36,36)\",\"showgrid\":false,\"showline\":true,\"ticks\":\"outside\"},\"baxis\":{\"gridcolor\":\"rgb(232,232,232)\",\"linecolor\":\"rgb(36,36,36)\",\"showgrid\":false,\"showline\":true,\"ticks\":\"outside\"},\"bgcolor\":\"white\",\"caxis\":{\"gridcolor\":\"rgb(232,232,232)\",\"linecolor\":\"rgb(36,36,36)\",\"showgrid\":false,\"showline\":true,\"ticks\":\"outside\"}},\"title\":{\"x\":0.05},\"xaxis\":{\"automargin\":true,\"gridcolor\":\"rgb(232,232,232)\",\"linecolor\":\"rgb(36,36,36)\",\"showgrid\":false,\"showline\":true,\"ticks\":\"outside\",\"title\":{\"standoff\":15},\"zeroline\":false,\"zerolinecolor\":\"rgb(36,36,36)\"},\"yaxis\":{\"automargin\":true,\"gridcolor\":\"rgb(232,232,232)\",\"linecolor\":\"rgb(36,36,36)\",\"showgrid\":false,\"showline\":true,\"ticks\":\"outside\",\"title\":{\"standoff\":15},\"zeroline\":false,\"zerolinecolor\":\"rgb(36,36,36)\"}}},\"xaxis\":{\"anchor\":\"y\",\"domain\":[0.0,1.0],\"title\":{\"text\":\"Observed\"}},\"yaxis\":{\"anchor\":\"x\",\"domain\":[0.0,1.0],\"title\":{\"text\":\"Model\"}},\"legend\":{\"tracegroupgap\":0},\"title\":{\"text\":\"Heavy Trucks: King\"},\"margin\":{\"l\":100,\"r\":100,\"t\":100,\"b\":100},\"height\":600,\"width\":800,\"shapes\":[{\"line\":{\"color\":\"Red\",\"dash\":\"dash\",\"width\":2},\"type\":\"line\",\"x0\":0,\"x1\":10502,\"y0\":0,\"y1\":10502}],\"annotations\":[{\"align\":\"right\",\"font\":{\"color\":\"pink\",\"size\":12},\"showarrow\":false,\"text\":\"y = x\",\"x\":11027.1,\"y\":11027.1},{\"align\":\"right\",\"font\":{\"color\":\"black\",\"size\":12},\"showarrow\":false,\"text\":\"r^2 = 0.56\",\"x\":11027.1,\"y\":9698.925786611497}]},                        {\"responsive\": true}                    ).then(function(){\n",
       "                            \n",
       "var gd = document.getElementById('a8c53fb9-dd7e-4f8e-98ea-10e7d7771941');\n",
       "var x = new MutationObserver(function (mutations, observer) {{\n",
       "        var display = window.getComputedStyle(gd).display;\n",
       "        if (!display || display === 'none') {{\n",
       "            console.log([gd, 'removed!']);\n",
       "            Plotly.purge(gd);\n",
       "            observer.disconnect();\n",
       "        }}\n",
       "}});\n",
       "\n",
       "// Listen for the removal of the full notebook cells\n",
       "var notebookContainer = gd.closest('#notebook-container');\n",
       "if (notebookContainer) {{\n",
       "    x.observe(notebookContainer, {childList: true});\n",
       "}}\n",
       "\n",
       "// Listen for the clearing of the current output cell\n",
       "var outputEl = gd.closest('.output');\n",
       "if (outputEl) {{\n",
       "    x.observe(outputEl, {childList: true});\n",
       "}}\n",
       "\n",
       "                        })                };            </script>        </div>"
      ]
     },
     "metadata": {},
     "output_type": "display_data"
    }
   ],
   "source": [
    "fig = create_truck_chart(df_daily_heavy, 'Heavy', 'King')\n",
    "fig.show()"
   ]
  },
  {
   "cell_type": "raw",
   "id": "d8920eeb",
   "metadata": {
    "vscode": {
     "languageId": "raw"
    }
   },
   "source": [
    "#### Kitsap"
   ]
  },
  {
   "cell_type": "code",
   "execution_count": 26,
   "id": "0c8e0f42",
   "metadata": {
    "execution": {
     "iopub.execute_input": "2025-05-01T14:38:17.127934Z",
     "iopub.status.busy": "2025-05-01T14:38:17.126937Z",
     "iopub.status.idle": "2025-05-01T14:38:17.258947Z",
     "shell.execute_reply": "2025-05-01T14:38:17.257955Z"
    }
   },
   "outputs": [
    {
     "data": {
      "application/vnd.plotly.v1+json": {
       "config": {
        "plotlyServerURL": "https://plot.ly"
       },
       "data": [
        {
         "customdata": [
          [
           "SR-16  N/O SR-302 NB/SB",
           "Kitsap"
          ],
          [
           "SR-16 N/O SR-160 NB/SB",
           "Kitsap"
          ],
          [
           "SR-16 N/O Tremont NB/SB",
           "Kitsap"
          ],
          [
           "SR-16 S/O SR-3 NB",
           "Kitsap"
          ],
          [
           "SR-104 @ Hood Canal Bridge WB/EB",
           "Kitsap"
          ],
          [
           "SR-104 E/O Hood Canal Bridge WB/EB",
           "Kitsap"
          ],
          [
           "SR-104 N/O Pt Gamble Rd WB/EB",
           "Kitsap"
          ],
          [
           "SR-104 E/O SR-307 WB/EB",
           "Kitsap"
          ],
          [
           "SR-104 E/O Hansville WB/EB",
           "Kitsap"
          ],
          [
           "SR-160 @ SR-16 WB/EB",
           "Kitsap"
          ],
          [
           "SR-160 E/O Long Lake Rd WB/EB",
           "Kitsap"
          ],
          [
           "SR-160 W/O Banner WB/EB",
           "Kitsap"
          ],
          [
           "SR-160 E/O Peterson WB/EB",
           "Kitsap"
          ],
          [
           "SR-160 S/O Southworth Dr WB/EB",
           "Kitsap"
          ],
          [
           "SR-166 E/O SR-16 WB/EB",
           "Kitsap"
          ],
          [
           "SR-3 E/O Sunset Way NB/SB",
           "Kitsap"
          ],
          [
           "SR-3 N/O SR-305 NB/SB",
           "Kitsap"
          ],
          [
           "SR-3 S/O Newberry Hill Rd NB/SB",
           "Kitsap"
          ],
          [
           "SR-3 @ SR-304 NB/SB",
           "Kitsap"
          ],
          [
           "SR-3 NE of SR-16 NB/SB",
           "Kitsap"
          ],
          [
           "SR-3 W/O Lake Flora Rd NB/SB",
           "Kitsap"
          ],
          [
           "SR-303 E/O SR-3 NB/SB",
           "Kitsap"
          ],
          [
           "SR-303 N/O 11th St NB/SB",
           "Kitsap"
          ],
          [
           "SR-303 N/O SR-304 NB/SB",
           "Kitsap"
          ],
          [
           "SR-304 E/O SR-3 WB/EB",
           "Kitsap"
          ],
          [
           "SR-304 W/O Naval WB/EB",
           "Kitsap"
          ],
          [
           "SR-305 W/O SR-307 WB/EB",
           "Kitsap"
          ],
          [
           "SR-305 W/O Suquamish Way WB/EB",
           "Kitsap"
          ],
          [
           "SR-305 N/O Day Rd WB/EB",
           "Kitsap"
          ],
          [
           "SR-305 N/O High School Rd WB/EB",
           "Kitsap"
          ],
          [
           "SR-305 S/O Winslow Way WB/EB",
           "Kitsap"
          ],
          [
           "SR-305 @ Ferry Ramp WB/EB",
           "Kitsap"
          ],
          [
           "SR-307 W/O SR-104 NB/SB",
           "Kitsap"
          ],
          [
           "SR-307 N/O Gunderson NB/SB",
           "Kitsap"
          ],
          [
           "SR-307 S/O Gunderson NB/SB",
           "Kitsap"
          ],
          [
           "SR-307 N/O SR-305 NB/SB",
           "Kitsap"
          ],
          [
           "SR-308 @ SR-3 WB/EB",
           "Kitsap"
          ],
          [
           "SR-308 E/O SR-3 WB/EB",
           "Kitsap"
          ],
          [
           "SR-308 E/O Silverdale Way WB/EB",
           "Kitsap"
          ],
          [
           "SR-308 W/O Brownsville Hwy WB/EB",
           "Kitsap"
          ],
          [
           "SR-310 @ SR-3 WB/EB",
           "Kitsap"
          ],
          [
           "SR-310 W/O Callow WB/EB",
           "Kitsap"
          ]
         ],
         "hovertemplate": "Observed=%{x}<br>Model=%{y}<br>location=%{customdata[0]}<br>County=%{customdata[1]}<extra></extra>",
         "legendgroup": "",
         "line": {
          "color": "Grey",
          "width": 2
         },
         "marker": {
          "color": "#91268F",
          "symbol": "circle"
         },
         "mode": "markers",
         "name": "",
         "orientation": "v",
         "showlegend": false,
         "type": "scatter",
         "x": {
          "bdata": "Fga6BFQFgwRkAksARgCQAFQAcgAiAB4AEwAMAIwA/AP0A4cE3ANQBSABtADYAGIA0gB+AAoBpAGkAeoACwAJAMQAqAB+AHgAJwAkAEIAFgCKABoA",
          "dtype": "i2"
         },
         "xaxis": "x",
         "y": {
          "bdata": "/w6EDF4MLAa8AwIAAgCaAHMAxwASABIAFQAVAAIAugOQBJMJVQtoDAkAFgCoADQAEwGPAN4BlQB/AGIAAAAAAJkAmQCaAAMBOABuACYAAAALAAAA",
          "dtype": "i2"
         },
         "yaxis": "y"
        },
        {
         "hovertemplate": "Observed=%{x}<br>Model=%{y}<extra></extra>",
         "legendgroup": "",
         "line": {
          "color": "Grey",
          "dash": "solid",
          "width": 2
         },
         "marker": {
          "symbol": "circle"
         },
         "mode": "lines",
         "name": "",
         "orientation": "v",
         "showlegend": false,
         "type": "scatter",
         "x": {
          "bdata": "AAAAAAAAAAAk5u0MiXkvQCTm7QyJeT9Am2yyySabR0Ak5u0MiXlPQNavFKj1q1NAm2yyySabV0BgKVDrV4pbQCTm7QyJeV9AdNFFF120YUDWrxSo9atjQDmO4ziOo2VAm2yyySabZ0D9SoFav5JpQGApUOtXimtAwgcffPCBbUAk5u0MiXlvQENi3s6QuHBAdNFFF120cUClQK1fKbByQNavFKj1q3NACB988MGndEA5juM4jqN1QGr9SoFan3ZAm2yyySabd0DM2xkS85Z4QP1KgVq/knlALrrooouOekBgKVDrV4p7QJGYtzMkhnxAwgcffPCBfUDzdobEvH1+QCTm7QyJeX9Aq6qqqqo6gEBDYt7OkLiAQNwZEvN2NoFAdNFFF120gUANiXk7QzKCQKVArV8psIJAPvjggw8ug0DWrxSo9auDQG9nSMzbKYRACB988MGnhECg1q8UqCWFQDmO4ziOo4VA0UUXXXQhhkBq/UqBWp+GQAK1fqVAHYdAm2yyySabh0A0JObtDBmIQMzbGRLzlohAZZNNNtkUiUD9SoFav5KJQJYCtX6lEIpALrrooouOikDHcRzHcQyLQGApUOtXiotA+OCDDz4IjECRmLczJIaMQClQ61cKBI1AwgcffPCBjUBav1Kg1v+NQPN2hsS8fY5Aiy666KL7jkAk5u0MiXmPQL2dITFv949Aq6qqqqo6kEB3hsS8nXmQQENi3s6QuJBADz744IP3kEDcGRLzdjaRQKj1KwVqdZFAdNFFF120kUBBrV8pUPORQA2JeTtDMpJA2WSTTTZxkkClQK1fKbCSQHIcx3Ec75JAPvjggw8uk0AK1PqVAm2TQNavFKj1q5NAo4suuujqk0BvZ0jM2ymUQDtDYt7OaJRACB988MGnlEDU+pUCteaUQKDWrxSoJZVAbLLJJptklUA5juM4jqOVQAVq/UqB4pVA0UUXXXQhlkCeITFvZ2CWQGr9SoFan5ZANtlkk03elkACtX6lQB2XQM+QmLczXJdAm2yyySabl0BnSMzbGdqXQDQk5u0MGZhAAAAAAABYmEA=",
          "dtype": "f8"
         },
         "xaxis": "x",
         "y": {
          "bdata": "VDkNvzcLaMB/HHbfVLBjwFX/vf/jql7Aq8WPQB71VcAEGMMCsX5KwGBJzQhLJjLASJ3r88uwMED4QVJ48cNJQKRaV3u+l1VAUJSFOoRNXkD85tn8pIFjQNIDcdyH3GdApiAIvGo3bEC9ns/NJklwQCgtmz2YdnJAkrtmrQmkdED8STIde9F2QGbY/Yzs/nhA0mbJ/F0se0A89ZRsz1l9QKaDYNxAh39ACQkWJlnagEA+0PvdEfGBQHOX4ZXKB4NAqF7HTYMehEDdJa0FPDWFQBLtkr30S4ZAR7R4da1ih0B9e14tZnmIQLNCROUekIlA5wkqndemikAd0Q9VkL2LQFGY9QxJ1IxAh1/bxAHrjUC7JsF8ugGPQPp2U5o5DJBAlFpG9pWXkEAuPjlS8iKRQMghLK5OrpFAZAUfCqs5kkD+6BFmB8WSQJjMBMJjUJNANLD3HcDbk0DOk+p5HGeUQGh33dV48pRAAlvQMdV9lUCePsONMQmWQDgitumNlJZA0gWpReofl0Bu6ZuhRquXQAjNjv2iNphAorCBWf/BmEA8lHS1W02ZQNh3ZxG42JlAcltabRRkmkAMP03JcO+aQKgiQCXNeptAQgYzgSkGnEDe6SXdhZGcQHjNGDniHJ1AErELlT6onUCslP7wmjOeQEh48Uz3vp5A4lvkqFNKn0B8P9cEsNWfQIwRZTCGMKBAWYNeXjR2oEAm9VeM4rugQPNmUbqQAaFAwNhK6D5HoUCPSkQW7YyhQFy8PUSb0qFAKS43ckkYokD3nzCg912iQMQRKs6lo6JAkYMj/FPpokBe9RwqAi+jQCxnFliwdKNA+dgPhl66o0DGSgm0DACkQJO8AuK6RaRAYS78D2mLpEAuoPU9F9GkQPsR72vFFqVAyYPomXNcpUCW9eHHIaKlQGNn2/XP56VAMNnUI34tpkD+Ss5RLHOmQMu8x3/auKZAmC7BrYj+pkBmoLrbNkSnQDMStAnliadAAIStN5PPp0DN9aZlQRWoQJtnoJPvWqhAaNmZwZ2gqEA1S5PvS+aoQAO9jB36K6lA0C6GS6hxqUA=",
          "dtype": "f8"
         },
         "yaxis": "y"
        }
       ],
       "layout": {
        "annotations": [
         {
          "align": "right",
          "font": {
           "color": "pink",
           "size": 12
          },
          "showarrow": false,
          "text": "y = x",
          "x": 4030.9500000000003,
          "y": 4030.9500000000003
         },
         {
          "align": "right",
          "font": {
           "color": "black",
           "size": 12
          },
          "showarrow": false,
          "text": "r^2 = 0.88",
          "x": 1635.9,
          "y": 3419.6701362637286
         }
        ],
        "height": 600,
        "legend": {
         "tracegroupgap": 0
        },
        "margin": {
         "b": 100,
         "l": 100,
         "r": 100,
         "t": 100
        },
        "shapes": [
         {
          "line": {
           "color": "Red",
           "dash": "dash",
           "width": 2
          },
          "type": "line",
          "x0": 0,
          "x1": 3839,
          "y0": 0,
          "y1": 3839
         }
        ],
        "template": {
         "data": {
          "bar": [
           {
            "error_x": {
             "color": "rgb(36,36,36)"
            },
            "error_y": {
             "color": "rgb(36,36,36)"
            },
            "marker": {
             "line": {
              "color": "white",
              "width": 0.5
             },
             "pattern": {
              "fillmode": "overlay",
              "size": 10,
              "solidity": 0.2
             }
            },
            "type": "bar"
           }
          ],
          "barpolar": [
           {
            "marker": {
             "line": {
              "color": "white",
              "width": 0.5
             },
             "pattern": {
              "fillmode": "overlay",
              "size": 10,
              "solidity": 0.2
             }
            },
            "type": "barpolar"
           }
          ],
          "carpet": [
           {
            "aaxis": {
             "endlinecolor": "rgb(36,36,36)",
             "gridcolor": "white",
             "linecolor": "white",
             "minorgridcolor": "white",
             "startlinecolor": "rgb(36,36,36)"
            },
            "baxis": {
             "endlinecolor": "rgb(36,36,36)",
             "gridcolor": "white",
             "linecolor": "white",
             "minorgridcolor": "white",
             "startlinecolor": "rgb(36,36,36)"
            },
            "type": "carpet"
           }
          ],
          "choropleth": [
           {
            "colorbar": {
             "outlinewidth": 1,
             "tickcolor": "rgb(36,36,36)",
             "ticks": "outside"
            },
            "type": "choropleth"
           }
          ],
          "contour": [
           {
            "colorbar": {
             "outlinewidth": 1,
             "tickcolor": "rgb(36,36,36)",
             "ticks": "outside"
            },
            "colorscale": [
             [
              0.0,
              "#440154"
             ],
             [
              0.1111111111111111,
              "#482878"
             ],
             [
              0.2222222222222222,
              "#3e4989"
             ],
             [
              0.3333333333333333,
              "#31688e"
             ],
             [
              0.4444444444444444,
              "#26828e"
             ],
             [
              0.5555555555555556,
              "#1f9e89"
             ],
             [
              0.6666666666666666,
              "#35b779"
             ],
             [
              0.7777777777777778,
              "#6ece58"
             ],
             [
              0.8888888888888888,
              "#b5de2b"
             ],
             [
              1.0,
              "#fde725"
             ]
            ],
            "type": "contour"
           }
          ],
          "contourcarpet": [
           {
            "colorbar": {
             "outlinewidth": 1,
             "tickcolor": "rgb(36,36,36)",
             "ticks": "outside"
            },
            "type": "contourcarpet"
           }
          ],
          "heatmap": [
           {
            "colorbar": {
             "outlinewidth": 1,
             "tickcolor": "rgb(36,36,36)",
             "ticks": "outside"
            },
            "colorscale": [
             [
              0.0,
              "#440154"
             ],
             [
              0.1111111111111111,
              "#482878"
             ],
             [
              0.2222222222222222,
              "#3e4989"
             ],
             [
              0.3333333333333333,
              "#31688e"
             ],
             [
              0.4444444444444444,
              "#26828e"
             ],
             [
              0.5555555555555556,
              "#1f9e89"
             ],
             [
              0.6666666666666666,
              "#35b779"
             ],
             [
              0.7777777777777778,
              "#6ece58"
             ],
             [
              0.8888888888888888,
              "#b5de2b"
             ],
             [
              1.0,
              "#fde725"
             ]
            ],
            "type": "heatmap"
           }
          ],
          "histogram": [
           {
            "marker": {
             "line": {
              "color": "white",
              "width": 0.6
             }
            },
            "type": "histogram"
           }
          ],
          "histogram2d": [
           {
            "colorbar": {
             "outlinewidth": 1,
             "tickcolor": "rgb(36,36,36)",
             "ticks": "outside"
            },
            "colorscale": [
             [
              0.0,
              "#440154"
             ],
             [
              0.1111111111111111,
              "#482878"
             ],
             [
              0.2222222222222222,
              "#3e4989"
             ],
             [
              0.3333333333333333,
              "#31688e"
             ],
             [
              0.4444444444444444,
              "#26828e"
             ],
             [
              0.5555555555555556,
              "#1f9e89"
             ],
             [
              0.6666666666666666,
              "#35b779"
             ],
             [
              0.7777777777777778,
              "#6ece58"
             ],
             [
              0.8888888888888888,
              "#b5de2b"
             ],
             [
              1.0,
              "#fde725"
             ]
            ],
            "type": "histogram2d"
           }
          ],
          "histogram2dcontour": [
           {
            "colorbar": {
             "outlinewidth": 1,
             "tickcolor": "rgb(36,36,36)",
             "ticks": "outside"
            },
            "colorscale": [
             [
              0.0,
              "#440154"
             ],
             [
              0.1111111111111111,
              "#482878"
             ],
             [
              0.2222222222222222,
              "#3e4989"
             ],
             [
              0.3333333333333333,
              "#31688e"
             ],
             [
              0.4444444444444444,
              "#26828e"
             ],
             [
              0.5555555555555556,
              "#1f9e89"
             ],
             [
              0.6666666666666666,
              "#35b779"
             ],
             [
              0.7777777777777778,
              "#6ece58"
             ],
             [
              0.8888888888888888,
              "#b5de2b"
             ],
             [
              1.0,
              "#fde725"
             ]
            ],
            "type": "histogram2dcontour"
           }
          ],
          "mesh3d": [
           {
            "colorbar": {
             "outlinewidth": 1,
             "tickcolor": "rgb(36,36,36)",
             "ticks": "outside"
            },
            "type": "mesh3d"
           }
          ],
          "parcoords": [
           {
            "line": {
             "colorbar": {
              "outlinewidth": 1,
              "tickcolor": "rgb(36,36,36)",
              "ticks": "outside"
             }
            },
            "type": "parcoords"
           }
          ],
          "pie": [
           {
            "automargin": true,
            "type": "pie"
           }
          ],
          "scatter": [
           {
            "fillpattern": {
             "fillmode": "overlay",
             "size": 10,
             "solidity": 0.2
            },
            "type": "scatter"
           }
          ],
          "scatter3d": [
           {
            "line": {
             "colorbar": {
              "outlinewidth": 1,
              "tickcolor": "rgb(36,36,36)",
              "ticks": "outside"
             }
            },
            "marker": {
             "colorbar": {
              "outlinewidth": 1,
              "tickcolor": "rgb(36,36,36)",
              "ticks": "outside"
             }
            },
            "type": "scatter3d"
           }
          ],
          "scattercarpet": [
           {
            "marker": {
             "colorbar": {
              "outlinewidth": 1,
              "tickcolor": "rgb(36,36,36)",
              "ticks": "outside"
             }
            },
            "type": "scattercarpet"
           }
          ],
          "scattergeo": [
           {
            "marker": {
             "colorbar": {
              "outlinewidth": 1,
              "tickcolor": "rgb(36,36,36)",
              "ticks": "outside"
             }
            },
            "type": "scattergeo"
           }
          ],
          "scattergl": [
           {
            "marker": {
             "colorbar": {
              "outlinewidth": 1,
              "tickcolor": "rgb(36,36,36)",
              "ticks": "outside"
             }
            },
            "type": "scattergl"
           }
          ],
          "scattermap": [
           {
            "marker": {
             "colorbar": {
              "outlinewidth": 1,
              "tickcolor": "rgb(36,36,36)",
              "ticks": "outside"
             }
            },
            "type": "scattermap"
           }
          ],
          "scattermapbox": [
           {
            "marker": {
             "colorbar": {
              "outlinewidth": 1,
              "tickcolor": "rgb(36,36,36)",
              "ticks": "outside"
             }
            },
            "type": "scattermapbox"
           }
          ],
          "scatterpolar": [
           {
            "marker": {
             "colorbar": {
              "outlinewidth": 1,
              "tickcolor": "rgb(36,36,36)",
              "ticks": "outside"
             }
            },
            "type": "scatterpolar"
           }
          ],
          "scatterpolargl": [
           {
            "marker": {
             "colorbar": {
              "outlinewidth": 1,
              "tickcolor": "rgb(36,36,36)",
              "ticks": "outside"
             }
            },
            "type": "scatterpolargl"
           }
          ],
          "scatterternary": [
           {
            "marker": {
             "colorbar": {
              "outlinewidth": 1,
              "tickcolor": "rgb(36,36,36)",
              "ticks": "outside"
             }
            },
            "type": "scatterternary"
           }
          ],
          "surface": [
           {
            "colorbar": {
             "outlinewidth": 1,
             "tickcolor": "rgb(36,36,36)",
             "ticks": "outside"
            },
            "colorscale": [
             [
              0.0,
              "#440154"
             ],
             [
              0.1111111111111111,
              "#482878"
             ],
             [
              0.2222222222222222,
              "#3e4989"
             ],
             [
              0.3333333333333333,
              "#31688e"
             ],
             [
              0.4444444444444444,
              "#26828e"
             ],
             [
              0.5555555555555556,
              "#1f9e89"
             ],
             [
              0.6666666666666666,
              "#35b779"
             ],
             [
              0.7777777777777778,
              "#6ece58"
             ],
             [
              0.8888888888888888,
              "#b5de2b"
             ],
             [
              1.0,
              "#fde725"
             ]
            ],
            "type": "surface"
           }
          ],
          "table": [
           {
            "cells": {
             "fill": {
              "color": "rgb(237,237,237)"
             },
             "line": {
              "color": "white"
             }
            },
            "header": {
             "fill": {
              "color": "rgb(217,217,217)"
             },
             "line": {
              "color": "white"
             }
            },
            "type": "table"
           }
          ]
         },
         "layout": {
          "annotationdefaults": {
           "arrowhead": 0,
           "arrowwidth": 1
          },
          "autotypenumbers": "strict",
          "coloraxis": {
           "colorbar": {
            "outlinewidth": 1,
            "tickcolor": "rgb(36,36,36)",
            "ticks": "outside"
           }
          },
          "colorscale": {
           "diverging": [
            [
             0.0,
             "rgb(103,0,31)"
            ],
            [
             0.1,
             "rgb(178,24,43)"
            ],
            [
             0.2,
             "rgb(214,96,77)"
            ],
            [
             0.3,
             "rgb(244,165,130)"
            ],
            [
             0.4,
             "rgb(253,219,199)"
            ],
            [
             0.5,
             "rgb(247,247,247)"
            ],
            [
             0.6,
             "rgb(209,229,240)"
            ],
            [
             0.7,
             "rgb(146,197,222)"
            ],
            [
             0.8,
             "rgb(67,147,195)"
            ],
            [
             0.9,
             "rgb(33,102,172)"
            ],
            [
             1.0,
             "rgb(5,48,97)"
            ]
           ],
           "sequential": [
            [
             0.0,
             "#440154"
            ],
            [
             0.1111111111111111,
             "#482878"
            ],
            [
             0.2222222222222222,
             "#3e4989"
            ],
            [
             0.3333333333333333,
             "#31688e"
            ],
            [
             0.4444444444444444,
             "#26828e"
            ],
            [
             0.5555555555555556,
             "#1f9e89"
            ],
            [
             0.6666666666666666,
             "#35b779"
            ],
            [
             0.7777777777777778,
             "#6ece58"
            ],
            [
             0.8888888888888888,
             "#b5de2b"
            ],
            [
             1.0,
             "#fde725"
            ]
           ],
           "sequentialminus": [
            [
             0.0,
             "#440154"
            ],
            [
             0.1111111111111111,
             "#482878"
            ],
            [
             0.2222222222222222,
             "#3e4989"
            ],
            [
             0.3333333333333333,
             "#31688e"
            ],
            [
             0.4444444444444444,
             "#26828e"
            ],
            [
             0.5555555555555556,
             "#1f9e89"
            ],
            [
             0.6666666666666666,
             "#35b779"
            ],
            [
             0.7777777777777778,
             "#6ece58"
            ],
            [
             0.8888888888888888,
             "#b5de2b"
            ],
            [
             1.0,
             "#fde725"
            ]
           ]
          },
          "colorway": [
           "#91268F",
           "#8CC63E",
           "#00A7A0",
           "#F05A28",
           "#4C4C4C",
           "#630460",
           "#9f3913",
           "#588527",
           "#00716c",
           "#3e4040"
          ],
          "font": {
           "color": "rgb(36,36,36)",
           "family": "Poppins",
           "size": 11
          },
          "geo": {
           "bgcolor": "white",
           "lakecolor": "white",
           "landcolor": "white",
           "showlakes": true,
           "showland": true,
           "subunitcolor": "white"
          },
          "hoverlabel": {
           "align": "left"
          },
          "hovermode": "closest",
          "mapbox": {
           "style": "light"
          },
          "paper_bgcolor": "white",
          "plot_bgcolor": "white",
          "polar": {
           "angularaxis": {
            "gridcolor": "rgb(232,232,232)",
            "linecolor": "rgb(36,36,36)",
            "showgrid": false,
            "showline": true,
            "ticks": "outside"
           },
           "bgcolor": "white",
           "radialaxis": {
            "gridcolor": "rgb(232,232,232)",
            "linecolor": "rgb(36,36,36)",
            "showgrid": false,
            "showline": true,
            "ticks": "outside"
           }
          },
          "scene": {
           "xaxis": {
            "backgroundcolor": "white",
            "gridcolor": "rgb(232,232,232)",
            "gridwidth": 2,
            "linecolor": "rgb(36,36,36)",
            "showbackground": true,
            "showgrid": false,
            "showline": true,
            "ticks": "outside",
            "zeroline": false,
            "zerolinecolor": "rgb(36,36,36)"
           },
           "yaxis": {
            "backgroundcolor": "white",
            "gridcolor": "rgb(232,232,232)",
            "gridwidth": 2,
            "linecolor": "rgb(36,36,36)",
            "showbackground": true,
            "showgrid": false,
            "showline": true,
            "ticks": "outside",
            "zeroline": false,
            "zerolinecolor": "rgb(36,36,36)"
           },
           "zaxis": {
            "backgroundcolor": "white",
            "gridcolor": "rgb(232,232,232)",
            "gridwidth": 2,
            "linecolor": "rgb(36,36,36)",
            "showbackground": true,
            "showgrid": false,
            "showline": true,
            "ticks": "outside",
            "zeroline": false,
            "zerolinecolor": "rgb(36,36,36)"
           }
          },
          "shapedefaults": {
           "fillcolor": "black",
           "line": {
            "width": 0
           },
           "opacity": 0.3
          },
          "ternary": {
           "aaxis": {
            "gridcolor": "rgb(232,232,232)",
            "linecolor": "rgb(36,36,36)",
            "showgrid": false,
            "showline": true,
            "ticks": "outside"
           },
           "baxis": {
            "gridcolor": "rgb(232,232,232)",
            "linecolor": "rgb(36,36,36)",
            "showgrid": false,
            "showline": true,
            "ticks": "outside"
           },
           "bgcolor": "white",
           "caxis": {
            "gridcolor": "rgb(232,232,232)",
            "linecolor": "rgb(36,36,36)",
            "showgrid": false,
            "showline": true,
            "ticks": "outside"
           }
          },
          "title": {
           "x": 0.05
          },
          "xaxis": {
           "automargin": true,
           "gridcolor": "rgb(232,232,232)",
           "linecolor": "rgb(36,36,36)",
           "showgrid": false,
           "showline": true,
           "ticks": "outside",
           "title": {
            "standoff": 15
           },
           "zeroline": false,
           "zerolinecolor": "rgb(36,36,36)"
          },
          "yaxis": {
           "automargin": true,
           "gridcolor": "rgb(232,232,232)",
           "linecolor": "rgb(36,36,36)",
           "showgrid": false,
           "showline": true,
           "ticks": "outside",
           "title": {
            "standoff": 15
           },
           "zeroline": false,
           "zerolinecolor": "rgb(36,36,36)"
          }
         }
        },
        "title": {
         "text": "Heavy Trucks: Kitsap"
        },
        "width": 800,
        "xaxis": {
         "anchor": "y",
         "domain": [
          0.0,
          1.0
         ],
         "title": {
          "text": "Observed"
         }
        },
        "yaxis": {
         "anchor": "x",
         "domain": [
          0.0,
          1.0
         ],
         "title": {
          "text": "Model"
         }
        }
       }
      },
      "text/html": [
       "<div>            <script src=\"https://cdnjs.cloudflare.com/ajax/libs/mathjax/2.7.5/MathJax.js?config=TeX-AMS-MML_SVG\"></script><script type=\"text/javascript\">if (window.MathJax && window.MathJax.Hub && window.MathJax.Hub.Config) {window.MathJax.Hub.Config({SVG: {font: \"STIX-Web\"}});}</script>                <script type=\"text/javascript\">window.PlotlyConfig = {MathJaxConfig: 'local'};</script>\n",
       "        <script charset=\"utf-8\" src=\"https://cdn.plot.ly/plotly-3.0.1.min.js\"></script>                <div id=\"45c74b42-ac86-461e-9769-39fa0979cd5a\" class=\"plotly-graph-div\" style=\"height:600px; width:800px;\"></div>            <script type=\"text/javascript\">                window.PLOTLYENV=window.PLOTLYENV || {};                                if (document.getElementById(\"45c74b42-ac86-461e-9769-39fa0979cd5a\")) {                    Plotly.newPlot(                        \"45c74b42-ac86-461e-9769-39fa0979cd5a\",                        [{\"customdata\":[[\"SR-16  N\\u002fO SR-302 NB\\u002fSB\",\"Kitsap\"],[\"SR-16 N\\u002fO SR-160 NB\\u002fSB\",\"Kitsap\"],[\"SR-16 N\\u002fO Tremont NB\\u002fSB\",\"Kitsap\"],[\"SR-16 S\\u002fO SR-3 NB\",\"Kitsap\"],[\"SR-104 @ Hood Canal Bridge WB\\u002fEB\",\"Kitsap\"],[\"SR-104 E\\u002fO Hood Canal Bridge WB\\u002fEB\",\"Kitsap\"],[\"SR-104 N\\u002fO Pt Gamble Rd WB\\u002fEB\",\"Kitsap\"],[\"SR-104 E\\u002fO SR-307 WB\\u002fEB\",\"Kitsap\"],[\"SR-104 E\\u002fO Hansville WB\\u002fEB\",\"Kitsap\"],[\"SR-160 @ SR-16 WB\\u002fEB\",\"Kitsap\"],[\"SR-160 E\\u002fO Long Lake Rd WB\\u002fEB\",\"Kitsap\"],[\"SR-160 W\\u002fO Banner WB\\u002fEB\",\"Kitsap\"],[\"SR-160 E\\u002fO Peterson WB\\u002fEB\",\"Kitsap\"],[\"SR-160 S\\u002fO Southworth Dr WB\\u002fEB\",\"Kitsap\"],[\"SR-166 E\\u002fO SR-16 WB\\u002fEB\",\"Kitsap\"],[\"SR-3 E\\u002fO Sunset Way NB\\u002fSB\",\"Kitsap\"],[\"SR-3 N\\u002fO SR-305 NB\\u002fSB\",\"Kitsap\"],[\"SR-3 S\\u002fO Newberry Hill Rd NB\\u002fSB\",\"Kitsap\"],[\"SR-3 @ SR-304 NB\\u002fSB\",\"Kitsap\"],[\"SR-3 NE of SR-16 NB\\u002fSB\",\"Kitsap\"],[\"SR-3 W\\u002fO Lake Flora Rd NB\\u002fSB\",\"Kitsap\"],[\"SR-303 E\\u002fO SR-3 NB\\u002fSB\",\"Kitsap\"],[\"SR-303 N\\u002fO 11th St NB\\u002fSB\",\"Kitsap\"],[\"SR-303 N\\u002fO SR-304 NB\\u002fSB\",\"Kitsap\"],[\"SR-304 E\\u002fO SR-3 WB\\u002fEB\",\"Kitsap\"],[\"SR-304 W\\u002fO Naval WB\\u002fEB\",\"Kitsap\"],[\"SR-305 W\\u002fO SR-307 WB\\u002fEB\",\"Kitsap\"],[\"SR-305 W\\u002fO Suquamish Way WB\\u002fEB\",\"Kitsap\"],[\"SR-305 N\\u002fO Day Rd WB\\u002fEB\",\"Kitsap\"],[\"SR-305 N\\u002fO High School Rd WB\\u002fEB\",\"Kitsap\"],[\"SR-305 S\\u002fO Winslow Way WB\\u002fEB\",\"Kitsap\"],[\"SR-305 @ Ferry Ramp WB\\u002fEB\",\"Kitsap\"],[\"SR-307 W\\u002fO SR-104 NB\\u002fSB\",\"Kitsap\"],[\"SR-307 N\\u002fO Gunderson NB\\u002fSB\",\"Kitsap\"],[\"SR-307 S\\u002fO Gunderson NB\\u002fSB\",\"Kitsap\"],[\"SR-307 N\\u002fO SR-305 NB\\u002fSB\",\"Kitsap\"],[\"SR-308 @ SR-3 WB\\u002fEB\",\"Kitsap\"],[\"SR-308 E\\u002fO SR-3 WB\\u002fEB\",\"Kitsap\"],[\"SR-308 E\\u002fO Silverdale Way WB\\u002fEB\",\"Kitsap\"],[\"SR-308 W\\u002fO Brownsville Hwy WB\\u002fEB\",\"Kitsap\"],[\"SR-310 @ SR-3 WB\\u002fEB\",\"Kitsap\"],[\"SR-310 W\\u002fO Callow WB\\u002fEB\",\"Kitsap\"]],\"hovertemplate\":\"Observed=%{x}\\u003cbr\\u003eModel=%{y}\\u003cbr\\u003elocation=%{customdata[0]}\\u003cbr\\u003eCounty=%{customdata[1]}\\u003cextra\\u003e\\u003c\\u002fextra\\u003e\",\"legendgroup\":\"\",\"marker\":{\"color\":\"#91268F\",\"symbol\":\"circle\"},\"mode\":\"markers\",\"name\":\"\",\"orientation\":\"v\",\"showlegend\":false,\"x\":{\"dtype\":\"i2\",\"bdata\":\"Fga6BFQFgwRkAksARgCQAFQAcgAiAB4AEwAMAIwA\\u002fAP0A4cE3ANQBSABtADYAGIA0gB+AAoBpAGkAeoACwAJAMQAqAB+AHgAJwAkAEIAFgCKABoA\"},\"xaxis\":\"x\",\"y\":{\"dtype\":\"i2\",\"bdata\":\"\\u002fw6EDF4MLAa8AwIAAgCaAHMAxwASABIAFQAVAAIAugOQBJMJVQtoDAkAFgCoADQAEwGPAN4BlQB\\u002fAGIAAAAAAJkAmQCaAAMBOABuACYAAAALAAAA\"},\"yaxis\":\"y\",\"type\":\"scatter\",\"line\":{\"color\":\"Grey\",\"width\":2}},{\"hovertemplate\":\"Observed=%{x}\\u003cbr\\u003eModel=%{y}\\u003cextra\\u003e\\u003c\\u002fextra\\u003e\",\"legendgroup\":\"\",\"line\":{\"color\":\"Grey\",\"dash\":\"solid\",\"width\":2},\"marker\":{\"symbol\":\"circle\"},\"mode\":\"lines\",\"name\":\"\",\"orientation\":\"v\",\"showlegend\":false,\"x\":{\"dtype\":\"f8\",\"bdata\":\"AAAAAAAAAAAk5u0MiXkvQCTm7QyJeT9Am2yyySabR0Ak5u0MiXlPQNavFKj1q1NAm2yyySabV0BgKVDrV4pbQCTm7QyJeV9AdNFFF120YUDWrxSo9atjQDmO4ziOo2VAm2yyySabZ0D9SoFav5JpQGApUOtXimtAwgcffPCBbUAk5u0MiXlvQENi3s6QuHBAdNFFF120cUClQK1fKbByQNavFKj1q3NACB988MGndEA5juM4jqN1QGr9SoFan3ZAm2yyySabd0DM2xkS85Z4QP1KgVq\\u002fknlALrrooouOekBgKVDrV4p7QJGYtzMkhnxAwgcffPCBfUDzdobEvH1+QCTm7QyJeX9Aq6qqqqo6gEBDYt7OkLiAQNwZEvN2NoFAdNFFF120gUANiXk7QzKCQKVArV8psIJAPvjggw8ug0DWrxSo9auDQG9nSMzbKYRACB988MGnhECg1q8UqCWFQDmO4ziOo4VA0UUXXXQhhkBq\\u002fUqBWp+GQAK1fqVAHYdAm2yyySabh0A0JObtDBmIQMzbGRLzlohAZZNNNtkUiUD9SoFav5KJQJYCtX6lEIpALrrooouOikDHcRzHcQyLQGApUOtXiotA+OCDDz4IjECRmLczJIaMQClQ61cKBI1AwgcffPCBjUBav1Kg1v+NQPN2hsS8fY5Aiy666KL7jkAk5u0MiXmPQL2dITFv949Aq6qqqqo6kEB3hsS8nXmQQENi3s6QuJBADz744IP3kEDcGRLzdjaRQKj1KwVqdZFAdNFFF120kUBBrV8pUPORQA2JeTtDMpJA2WSTTTZxkkClQK1fKbCSQHIcx3Ec75JAPvjggw8uk0AK1PqVAm2TQNavFKj1q5NAo4suuujqk0BvZ0jM2ymUQDtDYt7OaJRACB988MGnlEDU+pUCteaUQKDWrxSoJZVAbLLJJptklUA5juM4jqOVQAVq\\u002fUqB4pVA0UUXXXQhlkCeITFvZ2CWQGr9SoFan5ZANtlkk03elkACtX6lQB2XQM+QmLczXJdAm2yyySabl0BnSMzbGdqXQDQk5u0MGZhAAAAAAABYmEA=\"},\"xaxis\":\"x\",\"y\":{\"dtype\":\"f8\",\"bdata\":\"VDkNvzcLaMB\\u002fHHbfVLBjwFX\\u002fvf\\u002fjql7Aq8WPQB71VcAEGMMCsX5KwGBJzQhLJjLASJ3r88uwMED4QVJ48cNJQKRaV3u+l1VAUJSFOoRNXkD85tn8pIFjQNIDcdyH3GdApiAIvGo3bEC9ns\\u002fNJklwQCgtmz2YdnJAkrtmrQmkdED8STIde9F2QGbY\\u002fYzs\\u002fnhA0mbJ\\u002fF0se0A89ZRsz1l9QKaDYNxAh39ACQkWJlnagEA+0PvdEfGBQHOX4ZXKB4NAqF7HTYMehEDdJa0FPDWFQBLtkr30S4ZAR7R4da1ih0B9e14tZnmIQLNCROUekIlA5wkqndemikAd0Q9VkL2LQFGY9QxJ1IxAh1\\u002fbxAHrjUC7JsF8ugGPQPp2U5o5DJBAlFpG9pWXkEAuPjlS8iKRQMghLK5OrpFAZAUfCqs5kkD+6BFmB8WSQJjMBMJjUJNANLD3HcDbk0DOk+p5HGeUQGh33dV48pRAAlvQMdV9lUCePsONMQmWQDgitumNlJZA0gWpReofl0Bu6ZuhRquXQAjNjv2iNphAorCBWf\\u002fBmEA8lHS1W02ZQNh3ZxG42JlAcltabRRkmkAMP03JcO+aQKgiQCXNeptAQgYzgSkGnEDe6SXdhZGcQHjNGDniHJ1AErELlT6onUCslP7wmjOeQEh48Uz3vp5A4lvkqFNKn0B8P9cEsNWfQIwRZTCGMKBAWYNeXjR2oEAm9VeM4rugQPNmUbqQAaFAwNhK6D5HoUCPSkQW7YyhQFy8PUSb0qFAKS43ckkYokD3nzCg912iQMQRKs6lo6JAkYMj\\u002fFPpokBe9RwqAi+jQCxnFliwdKNA+dgPhl66o0DGSgm0DACkQJO8AuK6RaRAYS78D2mLpEAuoPU9F9GkQPsR72vFFqVAyYPomXNcpUCW9eHHIaKlQGNn2\\u002fXP56VAMNnUI34tpkD+Ss5RLHOmQMu8x3\\u002fauKZAmC7BrYj+pkBmoLrbNkSnQDMStAnliadAAIStN5PPp0DN9aZlQRWoQJtnoJPvWqhAaNmZwZ2gqEA1S5PvS+aoQAO9jB36K6lA0C6GS6hxqUA=\"},\"yaxis\":\"y\",\"type\":\"scatter\"}],                        {\"template\":{\"data\":{\"barpolar\":[{\"marker\":{\"line\":{\"color\":\"white\",\"width\":0.5},\"pattern\":{\"fillmode\":\"overlay\",\"size\":10,\"solidity\":0.2}},\"type\":\"barpolar\"}],\"bar\":[{\"error_x\":{\"color\":\"rgb(36,36,36)\"},\"error_y\":{\"color\":\"rgb(36,36,36)\"},\"marker\":{\"line\":{\"color\":\"white\",\"width\":0.5},\"pattern\":{\"fillmode\":\"overlay\",\"size\":10,\"solidity\":0.2}},\"type\":\"bar\"}],\"carpet\":[{\"aaxis\":{\"endlinecolor\":\"rgb(36,36,36)\",\"gridcolor\":\"white\",\"linecolor\":\"white\",\"minorgridcolor\":\"white\",\"startlinecolor\":\"rgb(36,36,36)\"},\"baxis\":{\"endlinecolor\":\"rgb(36,36,36)\",\"gridcolor\":\"white\",\"linecolor\":\"white\",\"minorgridcolor\":\"white\",\"startlinecolor\":\"rgb(36,36,36)\"},\"type\":\"carpet\"}],\"choropleth\":[{\"colorbar\":{\"outlinewidth\":1,\"tickcolor\":\"rgb(36,36,36)\",\"ticks\":\"outside\"},\"type\":\"choropleth\"}],\"contourcarpet\":[{\"colorbar\":{\"outlinewidth\":1,\"tickcolor\":\"rgb(36,36,36)\",\"ticks\":\"outside\"},\"type\":\"contourcarpet\"}],\"contour\":[{\"colorbar\":{\"outlinewidth\":1,\"tickcolor\":\"rgb(36,36,36)\",\"ticks\":\"outside\"},\"colorscale\":[[0.0,\"#440154\"],[0.1111111111111111,\"#482878\"],[0.2222222222222222,\"#3e4989\"],[0.3333333333333333,\"#31688e\"],[0.4444444444444444,\"#26828e\"],[0.5555555555555556,\"#1f9e89\"],[0.6666666666666666,\"#35b779\"],[0.7777777777777778,\"#6ece58\"],[0.8888888888888888,\"#b5de2b\"],[1.0,\"#fde725\"]],\"type\":\"contour\"}],\"heatmap\":[{\"colorbar\":{\"outlinewidth\":1,\"tickcolor\":\"rgb(36,36,36)\",\"ticks\":\"outside\"},\"colorscale\":[[0.0,\"#440154\"],[0.1111111111111111,\"#482878\"],[0.2222222222222222,\"#3e4989\"],[0.3333333333333333,\"#31688e\"],[0.4444444444444444,\"#26828e\"],[0.5555555555555556,\"#1f9e89\"],[0.6666666666666666,\"#35b779\"],[0.7777777777777778,\"#6ece58\"],[0.8888888888888888,\"#b5de2b\"],[1.0,\"#fde725\"]],\"type\":\"heatmap\"}],\"histogram2dcontour\":[{\"colorbar\":{\"outlinewidth\":1,\"tickcolor\":\"rgb(36,36,36)\",\"ticks\":\"outside\"},\"colorscale\":[[0.0,\"#440154\"],[0.1111111111111111,\"#482878\"],[0.2222222222222222,\"#3e4989\"],[0.3333333333333333,\"#31688e\"],[0.4444444444444444,\"#26828e\"],[0.5555555555555556,\"#1f9e89\"],[0.6666666666666666,\"#35b779\"],[0.7777777777777778,\"#6ece58\"],[0.8888888888888888,\"#b5de2b\"],[1.0,\"#fde725\"]],\"type\":\"histogram2dcontour\"}],\"histogram2d\":[{\"colorbar\":{\"outlinewidth\":1,\"tickcolor\":\"rgb(36,36,36)\",\"ticks\":\"outside\"},\"colorscale\":[[0.0,\"#440154\"],[0.1111111111111111,\"#482878\"],[0.2222222222222222,\"#3e4989\"],[0.3333333333333333,\"#31688e\"],[0.4444444444444444,\"#26828e\"],[0.5555555555555556,\"#1f9e89\"],[0.6666666666666666,\"#35b779\"],[0.7777777777777778,\"#6ece58\"],[0.8888888888888888,\"#b5de2b\"],[1.0,\"#fde725\"]],\"type\":\"histogram2d\"}],\"histogram\":[{\"marker\":{\"line\":{\"color\":\"white\",\"width\":0.6}},\"type\":\"histogram\"}],\"mesh3d\":[{\"colorbar\":{\"outlinewidth\":1,\"tickcolor\":\"rgb(36,36,36)\",\"ticks\":\"outside\"},\"type\":\"mesh3d\"}],\"parcoords\":[{\"line\":{\"colorbar\":{\"outlinewidth\":1,\"tickcolor\":\"rgb(36,36,36)\",\"ticks\":\"outside\"}},\"type\":\"parcoords\"}],\"pie\":[{\"automargin\":true,\"type\":\"pie\"}],\"scatter3d\":[{\"line\":{\"colorbar\":{\"outlinewidth\":1,\"tickcolor\":\"rgb(36,36,36)\",\"ticks\":\"outside\"}},\"marker\":{\"colorbar\":{\"outlinewidth\":1,\"tickcolor\":\"rgb(36,36,36)\",\"ticks\":\"outside\"}},\"type\":\"scatter3d\"}],\"scattercarpet\":[{\"marker\":{\"colorbar\":{\"outlinewidth\":1,\"tickcolor\":\"rgb(36,36,36)\",\"ticks\":\"outside\"}},\"type\":\"scattercarpet\"}],\"scattergeo\":[{\"marker\":{\"colorbar\":{\"outlinewidth\":1,\"tickcolor\":\"rgb(36,36,36)\",\"ticks\":\"outside\"}},\"type\":\"scattergeo\"}],\"scattergl\":[{\"marker\":{\"colorbar\":{\"outlinewidth\":1,\"tickcolor\":\"rgb(36,36,36)\",\"ticks\":\"outside\"}},\"type\":\"scattergl\"}],\"scattermapbox\":[{\"marker\":{\"colorbar\":{\"outlinewidth\":1,\"tickcolor\":\"rgb(36,36,36)\",\"ticks\":\"outside\"}},\"type\":\"scattermapbox\"}],\"scattermap\":[{\"marker\":{\"colorbar\":{\"outlinewidth\":1,\"tickcolor\":\"rgb(36,36,36)\",\"ticks\":\"outside\"}},\"type\":\"scattermap\"}],\"scatterpolargl\":[{\"marker\":{\"colorbar\":{\"outlinewidth\":1,\"tickcolor\":\"rgb(36,36,36)\",\"ticks\":\"outside\"}},\"type\":\"scatterpolargl\"}],\"scatterpolar\":[{\"marker\":{\"colorbar\":{\"outlinewidth\":1,\"tickcolor\":\"rgb(36,36,36)\",\"ticks\":\"outside\"}},\"type\":\"scatterpolar\"}],\"scatter\":[{\"fillpattern\":{\"fillmode\":\"overlay\",\"size\":10,\"solidity\":0.2},\"type\":\"scatter\"}],\"scatterternary\":[{\"marker\":{\"colorbar\":{\"outlinewidth\":1,\"tickcolor\":\"rgb(36,36,36)\",\"ticks\":\"outside\"}},\"type\":\"scatterternary\"}],\"surface\":[{\"colorbar\":{\"outlinewidth\":1,\"tickcolor\":\"rgb(36,36,36)\",\"ticks\":\"outside\"},\"colorscale\":[[0.0,\"#440154\"],[0.1111111111111111,\"#482878\"],[0.2222222222222222,\"#3e4989\"],[0.3333333333333333,\"#31688e\"],[0.4444444444444444,\"#26828e\"],[0.5555555555555556,\"#1f9e89\"],[0.6666666666666666,\"#35b779\"],[0.7777777777777778,\"#6ece58\"],[0.8888888888888888,\"#b5de2b\"],[1.0,\"#fde725\"]],\"type\":\"surface\"}],\"table\":[{\"cells\":{\"fill\":{\"color\":\"rgb(237,237,237)\"},\"line\":{\"color\":\"white\"}},\"header\":{\"fill\":{\"color\":\"rgb(217,217,217)\"},\"line\":{\"color\":\"white\"}},\"type\":\"table\"}]},\"layout\":{\"annotationdefaults\":{\"arrowhead\":0,\"arrowwidth\":1},\"autotypenumbers\":\"strict\",\"coloraxis\":{\"colorbar\":{\"outlinewidth\":1,\"tickcolor\":\"rgb(36,36,36)\",\"ticks\":\"outside\"}},\"colorscale\":{\"diverging\":[[0.0,\"rgb(103,0,31)\"],[0.1,\"rgb(178,24,43)\"],[0.2,\"rgb(214,96,77)\"],[0.3,\"rgb(244,165,130)\"],[0.4,\"rgb(253,219,199)\"],[0.5,\"rgb(247,247,247)\"],[0.6,\"rgb(209,229,240)\"],[0.7,\"rgb(146,197,222)\"],[0.8,\"rgb(67,147,195)\"],[0.9,\"rgb(33,102,172)\"],[1.0,\"rgb(5,48,97)\"]],\"sequential\":[[0.0,\"#440154\"],[0.1111111111111111,\"#482878\"],[0.2222222222222222,\"#3e4989\"],[0.3333333333333333,\"#31688e\"],[0.4444444444444444,\"#26828e\"],[0.5555555555555556,\"#1f9e89\"],[0.6666666666666666,\"#35b779\"],[0.7777777777777778,\"#6ece58\"],[0.8888888888888888,\"#b5de2b\"],[1.0,\"#fde725\"]],\"sequentialminus\":[[0.0,\"#440154\"],[0.1111111111111111,\"#482878\"],[0.2222222222222222,\"#3e4989\"],[0.3333333333333333,\"#31688e\"],[0.4444444444444444,\"#26828e\"],[0.5555555555555556,\"#1f9e89\"],[0.6666666666666666,\"#35b779\"],[0.7777777777777778,\"#6ece58\"],[0.8888888888888888,\"#b5de2b\"],[1.0,\"#fde725\"]]},\"colorway\":[\"#91268F\",\"#8CC63E\",\"#00A7A0\",\"#F05A28\",\"#4C4C4C\",\"#630460\",\"#9f3913\",\"#588527\",\"#00716c\",\"#3e4040\"],\"font\":{\"color\":\"rgb(36,36,36)\",\"family\":\"Poppins\",\"size\":11},\"geo\":{\"bgcolor\":\"white\",\"lakecolor\":\"white\",\"landcolor\":\"white\",\"showlakes\":true,\"showland\":true,\"subunitcolor\":\"white\"},\"hoverlabel\":{\"align\":\"left\"},\"hovermode\":\"closest\",\"mapbox\":{\"style\":\"light\"},\"paper_bgcolor\":\"white\",\"plot_bgcolor\":\"white\",\"polar\":{\"angularaxis\":{\"gridcolor\":\"rgb(232,232,232)\",\"linecolor\":\"rgb(36,36,36)\",\"showgrid\":false,\"showline\":true,\"ticks\":\"outside\"},\"bgcolor\":\"white\",\"radialaxis\":{\"gridcolor\":\"rgb(232,232,232)\",\"linecolor\":\"rgb(36,36,36)\",\"showgrid\":false,\"showline\":true,\"ticks\":\"outside\"}},\"scene\":{\"xaxis\":{\"backgroundcolor\":\"white\",\"gridcolor\":\"rgb(232,232,232)\",\"gridwidth\":2,\"linecolor\":\"rgb(36,36,36)\",\"showbackground\":true,\"showgrid\":false,\"showline\":true,\"ticks\":\"outside\",\"zeroline\":false,\"zerolinecolor\":\"rgb(36,36,36)\"},\"yaxis\":{\"backgroundcolor\":\"white\",\"gridcolor\":\"rgb(232,232,232)\",\"gridwidth\":2,\"linecolor\":\"rgb(36,36,36)\",\"showbackground\":true,\"showgrid\":false,\"showline\":true,\"ticks\":\"outside\",\"zeroline\":false,\"zerolinecolor\":\"rgb(36,36,36)\"},\"zaxis\":{\"backgroundcolor\":\"white\",\"gridcolor\":\"rgb(232,232,232)\",\"gridwidth\":2,\"linecolor\":\"rgb(36,36,36)\",\"showbackground\":true,\"showgrid\":false,\"showline\":true,\"ticks\":\"outside\",\"zeroline\":false,\"zerolinecolor\":\"rgb(36,36,36)\"}},\"shapedefaults\":{\"fillcolor\":\"black\",\"line\":{\"width\":0},\"opacity\":0.3},\"ternary\":{\"aaxis\":{\"gridcolor\":\"rgb(232,232,232)\",\"linecolor\":\"rgb(36,36,36)\",\"showgrid\":false,\"showline\":true,\"ticks\":\"outside\"},\"baxis\":{\"gridcolor\":\"rgb(232,232,232)\",\"linecolor\":\"rgb(36,36,36)\",\"showgrid\":false,\"showline\":true,\"ticks\":\"outside\"},\"bgcolor\":\"white\",\"caxis\":{\"gridcolor\":\"rgb(232,232,232)\",\"linecolor\":\"rgb(36,36,36)\",\"showgrid\":false,\"showline\":true,\"ticks\":\"outside\"}},\"title\":{\"x\":0.05},\"xaxis\":{\"automargin\":true,\"gridcolor\":\"rgb(232,232,232)\",\"linecolor\":\"rgb(36,36,36)\",\"showgrid\":false,\"showline\":true,\"ticks\":\"outside\",\"title\":{\"standoff\":15},\"zeroline\":false,\"zerolinecolor\":\"rgb(36,36,36)\"},\"yaxis\":{\"automargin\":true,\"gridcolor\":\"rgb(232,232,232)\",\"linecolor\":\"rgb(36,36,36)\",\"showgrid\":false,\"showline\":true,\"ticks\":\"outside\",\"title\":{\"standoff\":15},\"zeroline\":false,\"zerolinecolor\":\"rgb(36,36,36)\"}}},\"xaxis\":{\"anchor\":\"y\",\"domain\":[0.0,1.0],\"title\":{\"text\":\"Observed\"}},\"yaxis\":{\"anchor\":\"x\",\"domain\":[0.0,1.0],\"title\":{\"text\":\"Model\"}},\"legend\":{\"tracegroupgap\":0},\"title\":{\"text\":\"Heavy Trucks: Kitsap\"},\"margin\":{\"l\":100,\"r\":100,\"t\":100,\"b\":100},\"height\":600,\"width\":800,\"shapes\":[{\"line\":{\"color\":\"Red\",\"dash\":\"dash\",\"width\":2},\"type\":\"line\",\"x0\":0,\"x1\":3839,\"y0\":0,\"y1\":3839}],\"annotations\":[{\"align\":\"right\",\"font\":{\"color\":\"pink\",\"size\":12},\"showarrow\":false,\"text\":\"y = x\",\"x\":4030.9500000000003,\"y\":4030.9500000000003},{\"align\":\"right\",\"font\":{\"color\":\"black\",\"size\":12},\"showarrow\":false,\"text\":\"r^2 = 0.88\",\"x\":1635.9,\"y\":3419.6701362637286}]},                        {\"responsive\": true}                    ).then(function(){\n",
       "                            \n",
       "var gd = document.getElementById('45c74b42-ac86-461e-9769-39fa0979cd5a');\n",
       "var x = new MutationObserver(function (mutations, observer) {{\n",
       "        var display = window.getComputedStyle(gd).display;\n",
       "        if (!display || display === 'none') {{\n",
       "            console.log([gd, 'removed!']);\n",
       "            Plotly.purge(gd);\n",
       "            observer.disconnect();\n",
       "        }}\n",
       "}});\n",
       "\n",
       "// Listen for the removal of the full notebook cells\n",
       "var notebookContainer = gd.closest('#notebook-container');\n",
       "if (notebookContainer) {{\n",
       "    x.observe(notebookContainer, {childList: true});\n",
       "}}\n",
       "\n",
       "// Listen for the clearing of the current output cell\n",
       "var outputEl = gd.closest('.output');\n",
       "if (outputEl) {{\n",
       "    x.observe(outputEl, {childList: true});\n",
       "}}\n",
       "\n",
       "                        })                };            </script>        </div>"
      ]
     },
     "metadata": {},
     "output_type": "display_data"
    }
   ],
   "source": [
    "fig = create_truck_chart(df_daily_heavy, 'Heavy', 'Kitsap')\n",
    "fig.show()"
   ]
  },
  {
   "cell_type": "raw",
   "id": "f6c91eb1",
   "metadata": {
    "vscode": {
     "languageId": "raw"
    }
   },
   "source": [
    "#### Pierce"
   ]
  },
  {
   "cell_type": "code",
   "execution_count": 27,
   "id": "4661c354",
   "metadata": {
    "execution": {
     "iopub.execute_input": "2025-05-01T14:38:17.265930Z",
     "iopub.status.busy": "2025-05-01T14:38:17.264934Z",
     "iopub.status.idle": "2025-05-01T14:38:17.391357Z",
     "shell.execute_reply": "2025-05-01T14:38:17.390361Z"
    }
   },
   "outputs": [
    {
     "data": {
      "application/vnd.plotly.v1+json": {
       "config": {
        "plotlyServerURL": "https://plot.ly"
       },
       "data": [
        {
         "customdata": [
          [
           "I-5 S/O Mounts NB",
           "Pierce"
          ],
          [
           "I-5 S/O Mounts SB",
           "Pierce"
          ],
          [
           "I-5 S/O Division NB",
           "Pierce"
          ],
          [
           "I-5 S/O Division SB",
           "Pierce"
          ],
          [
           "I-5 @ N/O Division NB",
           "Pierce"
          ],
          [
           "I-5 @ N/O Division SB",
           "Pierce"
          ],
          [
           "I-5 S/O SR-512 NB",
           "Pierce"
          ],
          [
           "I-5 S/O SR-512 SB",
           "Pierce"
          ],
          [
           "I-5 N/O SR-512 NB",
           "Pierce"
          ],
          [
           "I-5 N/O SR-512 SB",
           "Pierce"
          ],
          [
           "I-5 N/O 56th NB",
           "Pierce"
          ],
          [
           "I-5 N/O 56th SB",
           "Pierce"
          ],
          [
           "I-5 E/O SR-16 NB",
           "Pierce"
          ],
          [
           "I-5 E/O SR-16 SB",
           "Pierce"
          ],
          [
           "I-5 E/O Port of Tacoma NB",
           "Pierce"
          ],
          [
           "I-5 E/O Port of Tacoma SB (HOV from 56)",
           "Pierce"
          ],
          [
           "SR-512 W/O Meridian WB",
           "Pierce"
          ],
          [
           "SR-512 W/O Meridian EB",
           "Pierce"
          ],
          [
           "SR-167 W/O SR-410 NB/SB",
           "Pierce"
          ],
          [
           "SR-167 E/O SR-161 NB/SB",
           "Pierce"
          ],
          [
           "SR-410 E/O S Prairie WB/EB",
           "Pierce"
          ],
          [
           "SR-410 E/O Chinook WB/EB",
           "Pierce"
          ],
          [
           "SR-410 W/O SR-123 WB/EB",
           "Pierce"
          ],
          [
           "SR-410 E/O SR-123 WB/EB",
           "Pierce"
          ],
          [
           "SR-512 @ I-5 WB/EB",
           "Pierce"
          ],
          [
           "SR-512 W/O SR-7 WB/EB",
           "Pierce"
          ],
          [
           "SR-512 S/O SR-167 WB/EB",
           "Pierce"
          ],
          [
           "SR-509 E/O I-705 NB/SB",
           "Pierce"
          ],
          [
           "SR-509 W/O Alexander NB/SB",
           "Pierce"
          ],
          [
           "SR-509 S/O 11th NB/SB",
           "Pierce"
          ],
          [
           "SR-509 N/O Hyada NB/SB",
           "Pierce"
          ],
          [
           "SR-509 E/O Soundview NB/SB",
           "Pierce"
          ],
          [
           "SR-99 @ I-5 NB/SB",
           "Pierce"
          ],
          [
           "SR-99 E/O 54th NB/SB",
           "Pierce"
          ],
          [
           "SR-99 S/O Porter NB/SB",
           "Pierce"
          ],
          [
           "SR-16 @ TNB NB/SB",
           "Pierce"
          ],
          [
           "SR-16 @ Purdy Dr NB/SB",
           "Pierce"
          ],
          [
           "SR-302 N/O 144th WB/EB",
           "Pierce"
          ],
          [
           "SR-302 S/O 144th WB/EB",
           "Pierce"
          ],
          [
           "SR-302 W/O Key Peninsula Hwy WB/EB",
           "Pierce"
          ],
          [
           "SR-302 W/O Wright-Bliss WB/EB (E/O?)",
           "Pierce"
          ],
          [
           "SR-161 E/O SR-7 NB/SB",
           "Pierce"
          ],
          [
           "SR-161 N/O Center NB/SB",
           "Pierce"
          ],
          [
           "SR-161 N/O Eatonville Cutoff NB/SB",
           "Pierce"
          ],
          [
           "SR-161 N/O 304th NB/SB",
           "Pierce"
          ],
          [
           "SR-161 N/O 264th NB/SB",
           "Pierce"
          ],
          [
           "SR-161 S/O 224th NB/SB",
           "Pierce"
          ],
          [
           "SR-161 N/O 224th NB/SB",
           "Pierce"
          ],
          [
           "SR-161 N/O 204th NB/SB",
           "Pierce"
          ],
          [
           "SR-161 S/O SR-167 SB off-ramp NB/SB",
           "Pierce"
          ],
          [
           "SR-161 S/O Valley NB/SB",
           "Pierce"
          ],
          [
           "SR-161 N/O Valley NB/SB",
           "Pierce"
          ],
          [
           "SR-161 N/O 8th NB/SB",
           "Pierce"
          ],
          [
           "SR-7 @ Thurston County NB/SB",
           "Pierce"
          ],
          [
           "SR-7 W/O Alder Cutoff NB/SB",
           "Pierce"
          ],
          [
           "SR-7 N/O Eatonville Hwy NB/SB",
           "Pierce"
          ],
          [
           "SR-7 N/O Silver Lake NB/SB",
           "Pierce"
          ],
          [
           "SR-7 S/O SR-702 NB/SB",
           "Pierce"
          ],
          [
           "SR-7 N/O 304th NB/SB",
           "Pierce"
          ],
          [
           "SR-7 N/O 260th NB/SB",
           "Pierce"
          ],
          [
           "SR-7 S/O 224th NB/SB",
           "Pierce"
          ],
          [
           "SR-7 N/O 224th NB/SB",
           "Pierce"
          ],
          [
           "SR-7 N/O 38th NB/SB",
           "Pierce"
          ],
          [
           "SR-162 @ SR-410 WB/EB",
           "Pierce"
          ],
          [
           "SR-162 S/O Pioneer WB/EB",
           "Pierce"
          ],
          [
           "SR-162 E/O Orville WB/EB",
           "Pierce"
          ],
          [
           "SR-162 E/O S Prairie WB/EB",
           "Pierce"
          ],
          [
           "SR-162 N/O SR-165 WB/EB",
           "Pierce"
          ],
          [
           "SR-163 @ SR-16 NB/SB",
           "Pierce"
          ],
          [
           "SR-163 N/O 37th NB/SB",
           "Pierce"
          ],
          [
           "SR-163 N/O Park NB/SB",
           "Pierce"
          ],
          [
           "SR-507 S/O SR-7 NB/SB",
           "Pierce"
          ],
          [
           "SR-507 S/O E Gate NB/SB",
           "Pierce"
          ],
          [
           "SR-507 S/O 288th NB/SB",
           "Pierce"
          ],
          [
           "SR-507 N/O 346th NB/SB",
           "Pierce"
          ],
          [
           "SR-702 E/O SR-507 WB/EB",
           "Pierce"
          ],
          [
           "SR-702 E/O Harts Lake WB/EB",
           "Pierce"
          ],
          [
           "SR-702 E/O 40th WB/EB",
           "Pierce"
          ],
          [
           "SR-702 W/O 8th WB/EB",
           "Pierce"
          ],
          [
           "SR-702 E/O 8th WB/EB",
           "Pierce"
          ],
          [
           "SR-165 W/O SR-162 NB/SB",
           "Pierce"
          ],
          [
           "SR-165 N/O Davis NB/SB",
           "Pierce"
          ],
          [
           "SR-165 N/O Wilkeson-Carbonado NB/SB",
           "Pierce"
          ],
          [
           "SR-704 E/O Spanaway Loop WB/EB",
           "Pierce"
          ],
          [
           "SR-706 E/O SR-7 WB/EB",
           "Pierce"
          ],
          [
           "SR-706 E/O Kernahan WB/EB",
           "Pierce"
          ]
         ],
         "hovertemplate": "Observed=%{x}<br>Model=%{y}<br>location=%{customdata[0]}<br>County=%{customdata[1]}<extra></extra>",
         "legendgroup": "",
         "line": {
          "color": "Grey",
          "width": 2
         },
         "marker": {
          "color": "#91268F",
          "symbol": "circle"
         },
         "mode": "markers",
         "name": "",
         "orientation": "v",
         "showlegend": false,
         "type": "scatter",
         "x": {
          "bdata": "xRWmFSIX9BdQE9kSnBW1FKUT6xNPF34XkAoFF/oO3xJdCV0JYhyeDWYCFQARAA4ASg2YD5QSwgNACGcACwAOAHAF1wqsBOIGkgVPAGgAOQA0ABkAyQBwAKIBUgFEAUQBFAJSA8sGtACvAI4AbgBDAFoAYgCQAXkBsAF2AagApAEKBNEAiACHACgAJABaANABYAEIAl8B/ADcAAoBpgD+AKYAMgASAIgCJgANAA==",
          "dtype": "i2"
         },
         "xaxis": "x",
         "y": {
          "bdata": "xhXEFcwWyRa1FrIWMRYyFqwVQRekF9IXWxU+IDAoqycFBeYENhEnB1wAXgBeAF4A1gVhBjYLJgOGBNcHAAAAAJsF4QJZA4QS9Q4bABUA/ADtAAAAJwAnAEQARABYAGEAgwBUAm8EVQDyAQAAEgASABIANQA8AD4AQAAoAAgAiQBzAAYABQAFAFwAXAD6ANcB4gHbAdsBBQAFAAsACwAmAAYAAAAAAI4BAAAAAA==",
          "dtype": "i2"
         },
         "yaxis": "y"
        },
        {
         "hovertemplate": "Observed=%{x}<br>Model=%{y}<extra></extra>",
         "legendgroup": "",
         "line": {
          "color": "Grey",
          "dash": "solid",
          "width": 2
         },
         "marker": {
          "symbol": "circle"
         },
         "mode": "lines",
         "name": "",
         "orientation": "v",
         "showlegend": false,
         "type": "scatter",
         "x": {
          "bdata": "AAAAAAAAAADZZJNNNllSQNlkk002WWJARhdddNGFa0DZZJNNNllyQA8++OCD73ZARhdddNGFe0A++OCDDw6AQNlkk002WYJAdNFFF12khEAPPvjgg++GQKqqqqqqOolARhdddNGFi0Dhgw8++NCNQD744IMPDpBAiy666KIzkUDZZJNNNlmSQCebbLLJfpNAdNFFF12klEDCBx988MmVQA8++OCD75ZAXXTRRRcVmECqqqqqqjqZQPjggw8+YJpARhdddNGFm0CTTTbZZKucQOGDDz740J1ALrrooov2nkA++OCDDw6gQGWTTTbZoKBAiy666KIzoUCyySabbMahQNlkk002WaJAAAAAAADsokAnm2yyyX6jQE022WSTEaRAdNFFF12kpECbbLLJJjelQMIHH3zwyaVA6KKLLrpcpkAPPvjgg++mQDbZZJNNgqdAXXTRRRcVqECEDz744KeoQKqqqqqqOqlA0UUXXXTNqUD44IMPPmCqQB988MEH86pARhdddNGFq0BssskmmxisQJNNNtlkq6xAuuiiiy4+rUDhgw8++NCtQAcffPDBY65ALrrooov2rkBVVVVVVYmvQD744IMPDrBA0UUXXXRXsEBlk0022aCwQPjggw8+6rBAiy666KIzsUAffPDBB32xQLLJJptsxrFARhdddNEPskDZZJNNNlmyQGyyySaborJAAAAAAADsskCTTTbZZDWzQCebbLLJfrNAuuiiiy7Is0BNNtlkkxG0QOGDDz74WrRAdNFFF12ktEAIH3zwwe20QJtssskmN7VALrrooouAtUDCBx988Mm1QFVVVVVVE7ZA6KKLLrpctkB88MEHH6a2QA8++OCD77ZAo4suuug4t0A22WSTTYK3QMkmm2yyy7dAXXTRRRcVuEDwwQcffF64QIQPPvjgp7hAF1100UXxuECqqqqqqjq5QD744IMPhLlA0UUXXXTNuUBlk0022Ra6QPjggw8+YLpAiy666KKpukAffPDBB/O6QLLJJptsPLtARhdddNGFu0DZZJNNNs+7QGyyySabGLxAAAAAAABivEA=",
          "dtype": "f8"
         },
         "xaxis": "x",
         "y": {
          "bdata": "YH7C+b/0RcCOKzulFeNAQL5qHKJ13VtA25/NOLCkZ0ArhUbQUq1wQGg6JoRNiHVAp+8FOEhjekDkpOXrQj5/QBGt4s+eDIJAsIfSKRx6hEBOYsKDmeeGQO08st0WVYlAjReiN5TCi0As8pGRETCOQGXmwHXHTpBAtNO4IoaFkUAEwbDPRLySQFSuqHwD85NAo5ugKcIplUDziJjWgGCWQEF2kIM/l5dAkWOIMP7NmEDgUIDdvASaQDA+eIp7O5tAgCtwNzpynEDPGGjk+KidQB8GYJG3355AtvkrHzsLoEBe8Kd1mqagQAbnI8z5QaFArt2fIlndoUBW1Bt5uHiiQP7Kl88XFKNApsETJnevo0BOuI981kqkQPSuC9M15qRAnKWHKZWBpUBEnAOA9BymQOySf9ZTuKZAkon7LLNTp0A6gHeDEu+nQOJ289lxiqhAim1vMNElqUAyZOuGMMGpQNpaZ92PXKpAglHjM+/3qkAqSF+KTpOrQNI+2+CtLqxAejVXNw3KrEAgLNONbGWtQMgiT+TLAK5AcBnLOiucrkAYEEeRijevQL4Gw+fp0q9As34fnyQ3sEAHel1K1ISwQFt1m/WD0rBAr3DZoDMgsUADbBdM422xQFdnVfeSu7FAqmKTokIJskD+XdFN8layQFJZD/mhpLJAplRNpFHyskD6T4tPAUCzQE1LyfqwjbNAokYHpmDbs0D1QUVRECm0QEo9g/y/drRAnTjBp2/EtEDxM/9SHxK1QEUvPf7OX7VAmSp7qX6ttUDtJblULvu1QEEh9//dSLZAlBw1q42WtkDpF3NWPeS2QDwTsQHtMbdAjw7vrJx/t0DkCS1YTM23QDcFawP8GrhAjACprqtouEDf++ZZW7a4QDP3JAULBLlAh/JisLpRuUDb7aBbap+5QC/p3gYa7blAg+Qcssk6ukDW31pdeYi6QCvbmAgp1rpAftbWs9gju0DT0RRfiHG7QCbNUgo4v7tAeciQtecMvEDOw85gl1q8QCG/DAxHqLxAdrpKt/b1vEDJtYhipkO9QB2xxg1Wkb1AcawEuQXfvUA=",
          "dtype": "f8"
         },
         "yaxis": "y"
        }
       ],
       "layout": {
        "annotations": [
         {
          "align": "right",
          "font": {
           "color": "pink",
           "size": 12
          },
          "showarrow": false,
          "text": "y = x",
          "x": 10802.4,
          "y": 10802.4
         },
         {
          "align": "right",
          "font": {
           "color": "black",
           "size": 12
          },
          "showarrow": false,
          "text": "r^2 = 0.76",
          "x": 7629.3,
          "y": 8029.373472124772
         }
        ],
        "height": 600,
        "legend": {
         "tracegroupgap": 0
        },
        "margin": {
         "b": 100,
         "l": 100,
         "r": 100,
         "t": 100
        },
        "shapes": [
         {
          "line": {
           "color": "Red",
           "dash": "dash",
           "width": 2
          },
          "type": "line",
          "x0": 0,
          "x1": 10288,
          "y0": 0,
          "y1": 10288
         }
        ],
        "template": {
         "data": {
          "bar": [
           {
            "error_x": {
             "color": "rgb(36,36,36)"
            },
            "error_y": {
             "color": "rgb(36,36,36)"
            },
            "marker": {
             "line": {
              "color": "white",
              "width": 0.5
             },
             "pattern": {
              "fillmode": "overlay",
              "size": 10,
              "solidity": 0.2
             }
            },
            "type": "bar"
           }
          ],
          "barpolar": [
           {
            "marker": {
             "line": {
              "color": "white",
              "width": 0.5
             },
             "pattern": {
              "fillmode": "overlay",
              "size": 10,
              "solidity": 0.2
             }
            },
            "type": "barpolar"
           }
          ],
          "carpet": [
           {
            "aaxis": {
             "endlinecolor": "rgb(36,36,36)",
             "gridcolor": "white",
             "linecolor": "white",
             "minorgridcolor": "white",
             "startlinecolor": "rgb(36,36,36)"
            },
            "baxis": {
             "endlinecolor": "rgb(36,36,36)",
             "gridcolor": "white",
             "linecolor": "white",
             "minorgridcolor": "white",
             "startlinecolor": "rgb(36,36,36)"
            },
            "type": "carpet"
           }
          ],
          "choropleth": [
           {
            "colorbar": {
             "outlinewidth": 1,
             "tickcolor": "rgb(36,36,36)",
             "ticks": "outside"
            },
            "type": "choropleth"
           }
          ],
          "contour": [
           {
            "colorbar": {
             "outlinewidth": 1,
             "tickcolor": "rgb(36,36,36)",
             "ticks": "outside"
            },
            "colorscale": [
             [
              0.0,
              "#440154"
             ],
             [
              0.1111111111111111,
              "#482878"
             ],
             [
              0.2222222222222222,
              "#3e4989"
             ],
             [
              0.3333333333333333,
              "#31688e"
             ],
             [
              0.4444444444444444,
              "#26828e"
             ],
             [
              0.5555555555555556,
              "#1f9e89"
             ],
             [
              0.6666666666666666,
              "#35b779"
             ],
             [
              0.7777777777777778,
              "#6ece58"
             ],
             [
              0.8888888888888888,
              "#b5de2b"
             ],
             [
              1.0,
              "#fde725"
             ]
            ],
            "type": "contour"
           }
          ],
          "contourcarpet": [
           {
            "colorbar": {
             "outlinewidth": 1,
             "tickcolor": "rgb(36,36,36)",
             "ticks": "outside"
            },
            "type": "contourcarpet"
           }
          ],
          "heatmap": [
           {
            "colorbar": {
             "outlinewidth": 1,
             "tickcolor": "rgb(36,36,36)",
             "ticks": "outside"
            },
            "colorscale": [
             [
              0.0,
              "#440154"
             ],
             [
              0.1111111111111111,
              "#482878"
             ],
             [
              0.2222222222222222,
              "#3e4989"
             ],
             [
              0.3333333333333333,
              "#31688e"
             ],
             [
              0.4444444444444444,
              "#26828e"
             ],
             [
              0.5555555555555556,
              "#1f9e89"
             ],
             [
              0.6666666666666666,
              "#35b779"
             ],
             [
              0.7777777777777778,
              "#6ece58"
             ],
             [
              0.8888888888888888,
              "#b5de2b"
             ],
             [
              1.0,
              "#fde725"
             ]
            ],
            "type": "heatmap"
           }
          ],
          "histogram": [
           {
            "marker": {
             "line": {
              "color": "white",
              "width": 0.6
             }
            },
            "type": "histogram"
           }
          ],
          "histogram2d": [
           {
            "colorbar": {
             "outlinewidth": 1,
             "tickcolor": "rgb(36,36,36)",
             "ticks": "outside"
            },
            "colorscale": [
             [
              0.0,
              "#440154"
             ],
             [
              0.1111111111111111,
              "#482878"
             ],
             [
              0.2222222222222222,
              "#3e4989"
             ],
             [
              0.3333333333333333,
              "#31688e"
             ],
             [
              0.4444444444444444,
              "#26828e"
             ],
             [
              0.5555555555555556,
              "#1f9e89"
             ],
             [
              0.6666666666666666,
              "#35b779"
             ],
             [
              0.7777777777777778,
              "#6ece58"
             ],
             [
              0.8888888888888888,
              "#b5de2b"
             ],
             [
              1.0,
              "#fde725"
             ]
            ],
            "type": "histogram2d"
           }
          ],
          "histogram2dcontour": [
           {
            "colorbar": {
             "outlinewidth": 1,
             "tickcolor": "rgb(36,36,36)",
             "ticks": "outside"
            },
            "colorscale": [
             [
              0.0,
              "#440154"
             ],
             [
              0.1111111111111111,
              "#482878"
             ],
             [
              0.2222222222222222,
              "#3e4989"
             ],
             [
              0.3333333333333333,
              "#31688e"
             ],
             [
              0.4444444444444444,
              "#26828e"
             ],
             [
              0.5555555555555556,
              "#1f9e89"
             ],
             [
              0.6666666666666666,
              "#35b779"
             ],
             [
              0.7777777777777778,
              "#6ece58"
             ],
             [
              0.8888888888888888,
              "#b5de2b"
             ],
             [
              1.0,
              "#fde725"
             ]
            ],
            "type": "histogram2dcontour"
           }
          ],
          "mesh3d": [
           {
            "colorbar": {
             "outlinewidth": 1,
             "tickcolor": "rgb(36,36,36)",
             "ticks": "outside"
            },
            "type": "mesh3d"
           }
          ],
          "parcoords": [
           {
            "line": {
             "colorbar": {
              "outlinewidth": 1,
              "tickcolor": "rgb(36,36,36)",
              "ticks": "outside"
             }
            },
            "type": "parcoords"
           }
          ],
          "pie": [
           {
            "automargin": true,
            "type": "pie"
           }
          ],
          "scatter": [
           {
            "fillpattern": {
             "fillmode": "overlay",
             "size": 10,
             "solidity": 0.2
            },
            "type": "scatter"
           }
          ],
          "scatter3d": [
           {
            "line": {
             "colorbar": {
              "outlinewidth": 1,
              "tickcolor": "rgb(36,36,36)",
              "ticks": "outside"
             }
            },
            "marker": {
             "colorbar": {
              "outlinewidth": 1,
              "tickcolor": "rgb(36,36,36)",
              "ticks": "outside"
             }
            },
            "type": "scatter3d"
           }
          ],
          "scattercarpet": [
           {
            "marker": {
             "colorbar": {
              "outlinewidth": 1,
              "tickcolor": "rgb(36,36,36)",
              "ticks": "outside"
             }
            },
            "type": "scattercarpet"
           }
          ],
          "scattergeo": [
           {
            "marker": {
             "colorbar": {
              "outlinewidth": 1,
              "tickcolor": "rgb(36,36,36)",
              "ticks": "outside"
             }
            },
            "type": "scattergeo"
           }
          ],
          "scattergl": [
           {
            "marker": {
             "colorbar": {
              "outlinewidth": 1,
              "tickcolor": "rgb(36,36,36)",
              "ticks": "outside"
             }
            },
            "type": "scattergl"
           }
          ],
          "scattermap": [
           {
            "marker": {
             "colorbar": {
              "outlinewidth": 1,
              "tickcolor": "rgb(36,36,36)",
              "ticks": "outside"
             }
            },
            "type": "scattermap"
           }
          ],
          "scattermapbox": [
           {
            "marker": {
             "colorbar": {
              "outlinewidth": 1,
              "tickcolor": "rgb(36,36,36)",
              "ticks": "outside"
             }
            },
            "type": "scattermapbox"
           }
          ],
          "scatterpolar": [
           {
            "marker": {
             "colorbar": {
              "outlinewidth": 1,
              "tickcolor": "rgb(36,36,36)",
              "ticks": "outside"
             }
            },
            "type": "scatterpolar"
           }
          ],
          "scatterpolargl": [
           {
            "marker": {
             "colorbar": {
              "outlinewidth": 1,
              "tickcolor": "rgb(36,36,36)",
              "ticks": "outside"
             }
            },
            "type": "scatterpolargl"
           }
          ],
          "scatterternary": [
           {
            "marker": {
             "colorbar": {
              "outlinewidth": 1,
              "tickcolor": "rgb(36,36,36)",
              "ticks": "outside"
             }
            },
            "type": "scatterternary"
           }
          ],
          "surface": [
           {
            "colorbar": {
             "outlinewidth": 1,
             "tickcolor": "rgb(36,36,36)",
             "ticks": "outside"
            },
            "colorscale": [
             [
              0.0,
              "#440154"
             ],
             [
              0.1111111111111111,
              "#482878"
             ],
             [
              0.2222222222222222,
              "#3e4989"
             ],
             [
              0.3333333333333333,
              "#31688e"
             ],
             [
              0.4444444444444444,
              "#26828e"
             ],
             [
              0.5555555555555556,
              "#1f9e89"
             ],
             [
              0.6666666666666666,
              "#35b779"
             ],
             [
              0.7777777777777778,
              "#6ece58"
             ],
             [
              0.8888888888888888,
              "#b5de2b"
             ],
             [
              1.0,
              "#fde725"
             ]
            ],
            "type": "surface"
           }
          ],
          "table": [
           {
            "cells": {
             "fill": {
              "color": "rgb(237,237,237)"
             },
             "line": {
              "color": "white"
             }
            },
            "header": {
             "fill": {
              "color": "rgb(217,217,217)"
             },
             "line": {
              "color": "white"
             }
            },
            "type": "table"
           }
          ]
         },
         "layout": {
          "annotationdefaults": {
           "arrowhead": 0,
           "arrowwidth": 1
          },
          "autotypenumbers": "strict",
          "coloraxis": {
           "colorbar": {
            "outlinewidth": 1,
            "tickcolor": "rgb(36,36,36)",
            "ticks": "outside"
           }
          },
          "colorscale": {
           "diverging": [
            [
             0.0,
             "rgb(103,0,31)"
            ],
            [
             0.1,
             "rgb(178,24,43)"
            ],
            [
             0.2,
             "rgb(214,96,77)"
            ],
            [
             0.3,
             "rgb(244,165,130)"
            ],
            [
             0.4,
             "rgb(253,219,199)"
            ],
            [
             0.5,
             "rgb(247,247,247)"
            ],
            [
             0.6,
             "rgb(209,229,240)"
            ],
            [
             0.7,
             "rgb(146,197,222)"
            ],
            [
             0.8,
             "rgb(67,147,195)"
            ],
            [
             0.9,
             "rgb(33,102,172)"
            ],
            [
             1.0,
             "rgb(5,48,97)"
            ]
           ],
           "sequential": [
            [
             0.0,
             "#440154"
            ],
            [
             0.1111111111111111,
             "#482878"
            ],
            [
             0.2222222222222222,
             "#3e4989"
            ],
            [
             0.3333333333333333,
             "#31688e"
            ],
            [
             0.4444444444444444,
             "#26828e"
            ],
            [
             0.5555555555555556,
             "#1f9e89"
            ],
            [
             0.6666666666666666,
             "#35b779"
            ],
            [
             0.7777777777777778,
             "#6ece58"
            ],
            [
             0.8888888888888888,
             "#b5de2b"
            ],
            [
             1.0,
             "#fde725"
            ]
           ],
           "sequentialminus": [
            [
             0.0,
             "#440154"
            ],
            [
             0.1111111111111111,
             "#482878"
            ],
            [
             0.2222222222222222,
             "#3e4989"
            ],
            [
             0.3333333333333333,
             "#31688e"
            ],
            [
             0.4444444444444444,
             "#26828e"
            ],
            [
             0.5555555555555556,
             "#1f9e89"
            ],
            [
             0.6666666666666666,
             "#35b779"
            ],
            [
             0.7777777777777778,
             "#6ece58"
            ],
            [
             0.8888888888888888,
             "#b5de2b"
            ],
            [
             1.0,
             "#fde725"
            ]
           ]
          },
          "colorway": [
           "#91268F",
           "#8CC63E",
           "#00A7A0",
           "#F05A28",
           "#4C4C4C",
           "#630460",
           "#9f3913",
           "#588527",
           "#00716c",
           "#3e4040"
          ],
          "font": {
           "color": "rgb(36,36,36)",
           "family": "Poppins",
           "size": 11
          },
          "geo": {
           "bgcolor": "white",
           "lakecolor": "white",
           "landcolor": "white",
           "showlakes": true,
           "showland": true,
           "subunitcolor": "white"
          },
          "hoverlabel": {
           "align": "left"
          },
          "hovermode": "closest",
          "mapbox": {
           "style": "light"
          },
          "paper_bgcolor": "white",
          "plot_bgcolor": "white",
          "polar": {
           "angularaxis": {
            "gridcolor": "rgb(232,232,232)",
            "linecolor": "rgb(36,36,36)",
            "showgrid": false,
            "showline": true,
            "ticks": "outside"
           },
           "bgcolor": "white",
           "radialaxis": {
            "gridcolor": "rgb(232,232,232)",
            "linecolor": "rgb(36,36,36)",
            "showgrid": false,
            "showline": true,
            "ticks": "outside"
           }
          },
          "scene": {
           "xaxis": {
            "backgroundcolor": "white",
            "gridcolor": "rgb(232,232,232)",
            "gridwidth": 2,
            "linecolor": "rgb(36,36,36)",
            "showbackground": true,
            "showgrid": false,
            "showline": true,
            "ticks": "outside",
            "zeroline": false,
            "zerolinecolor": "rgb(36,36,36)"
           },
           "yaxis": {
            "backgroundcolor": "white",
            "gridcolor": "rgb(232,232,232)",
            "gridwidth": 2,
            "linecolor": "rgb(36,36,36)",
            "showbackground": true,
            "showgrid": false,
            "showline": true,
            "ticks": "outside",
            "zeroline": false,
            "zerolinecolor": "rgb(36,36,36)"
           },
           "zaxis": {
            "backgroundcolor": "white",
            "gridcolor": "rgb(232,232,232)",
            "gridwidth": 2,
            "linecolor": "rgb(36,36,36)",
            "showbackground": true,
            "showgrid": false,
            "showline": true,
            "ticks": "outside",
            "zeroline": false,
            "zerolinecolor": "rgb(36,36,36)"
           }
          },
          "shapedefaults": {
           "fillcolor": "black",
           "line": {
            "width": 0
           },
           "opacity": 0.3
          },
          "ternary": {
           "aaxis": {
            "gridcolor": "rgb(232,232,232)",
            "linecolor": "rgb(36,36,36)",
            "showgrid": false,
            "showline": true,
            "ticks": "outside"
           },
           "baxis": {
            "gridcolor": "rgb(232,232,232)",
            "linecolor": "rgb(36,36,36)",
            "showgrid": false,
            "showline": true,
            "ticks": "outside"
           },
           "bgcolor": "white",
           "caxis": {
            "gridcolor": "rgb(232,232,232)",
            "linecolor": "rgb(36,36,36)",
            "showgrid": false,
            "showline": true,
            "ticks": "outside"
           }
          },
          "title": {
           "x": 0.05
          },
          "xaxis": {
           "automargin": true,
           "gridcolor": "rgb(232,232,232)",
           "linecolor": "rgb(36,36,36)",
           "showgrid": false,
           "showline": true,
           "ticks": "outside",
           "title": {
            "standoff": 15
           },
           "zeroline": false,
           "zerolinecolor": "rgb(36,36,36)"
          },
          "yaxis": {
           "automargin": true,
           "gridcolor": "rgb(232,232,232)",
           "linecolor": "rgb(36,36,36)",
           "showgrid": false,
           "showline": true,
           "ticks": "outside",
           "title": {
            "standoff": 15
           },
           "zeroline": false,
           "zerolinecolor": "rgb(36,36,36)"
          }
         }
        },
        "title": {
         "text": "Heavy Trucks: Pierce"
        },
        "width": 800,
        "xaxis": {
         "anchor": "y",
         "domain": [
          0.0,
          1.0
         ],
         "title": {
          "text": "Observed"
         }
        },
        "yaxis": {
         "anchor": "x",
         "domain": [
          0.0,
          1.0
         ],
         "title": {
          "text": "Model"
         }
        }
       }
      },
      "text/html": [
       "<div>            <script src=\"https://cdnjs.cloudflare.com/ajax/libs/mathjax/2.7.5/MathJax.js?config=TeX-AMS-MML_SVG\"></script><script type=\"text/javascript\">if (window.MathJax && window.MathJax.Hub && window.MathJax.Hub.Config) {window.MathJax.Hub.Config({SVG: {font: \"STIX-Web\"}});}</script>                <script type=\"text/javascript\">window.PlotlyConfig = {MathJaxConfig: 'local'};</script>\n",
       "        <script charset=\"utf-8\" src=\"https://cdn.plot.ly/plotly-3.0.1.min.js\"></script>                <div id=\"da97e452-e53d-4867-858e-c2c319e45062\" class=\"plotly-graph-div\" style=\"height:600px; width:800px;\"></div>            <script type=\"text/javascript\">                window.PLOTLYENV=window.PLOTLYENV || {};                                if (document.getElementById(\"da97e452-e53d-4867-858e-c2c319e45062\")) {                    Plotly.newPlot(                        \"da97e452-e53d-4867-858e-c2c319e45062\",                        [{\"customdata\":[[\"I-5 S\\u002fO Mounts NB\",\"Pierce\"],[\"I-5 S\\u002fO Mounts SB\",\"Pierce\"],[\"I-5 S\\u002fO Division NB\",\"Pierce\"],[\"I-5 S\\u002fO Division SB\",\"Pierce\"],[\"I-5 @ N\\u002fO Division NB\",\"Pierce\"],[\"I-5 @ N\\u002fO Division SB\",\"Pierce\"],[\"I-5 S\\u002fO SR-512 NB\",\"Pierce\"],[\"I-5 S\\u002fO SR-512 SB\",\"Pierce\"],[\"I-5 N\\u002fO SR-512 NB\",\"Pierce\"],[\"I-5 N\\u002fO SR-512 SB\",\"Pierce\"],[\"I-5 N\\u002fO 56th NB\",\"Pierce\"],[\"I-5 N\\u002fO 56th SB\",\"Pierce\"],[\"I-5 E\\u002fO SR-16 NB\",\"Pierce\"],[\"I-5 E\\u002fO SR-16 SB\",\"Pierce\"],[\"I-5 E\\u002fO Port of Tacoma NB\",\"Pierce\"],[\"I-5 E\\u002fO Port of Tacoma SB (HOV from 56)\",\"Pierce\"],[\"SR-512 W\\u002fO Meridian WB\",\"Pierce\"],[\"SR-512 W\\u002fO Meridian EB\",\"Pierce\"],[\"SR-167 W\\u002fO SR-410 NB\\u002fSB\",\"Pierce\"],[\"SR-167 E\\u002fO SR-161 NB\\u002fSB\",\"Pierce\"],[\"SR-410 E\\u002fO S Prairie WB\\u002fEB\",\"Pierce\"],[\"SR-410 E\\u002fO Chinook WB\\u002fEB\",\"Pierce\"],[\"SR-410 W\\u002fO SR-123 WB\\u002fEB\",\"Pierce\"],[\"SR-410 E\\u002fO SR-123 WB\\u002fEB\",\"Pierce\"],[\"SR-512 @ I-5 WB\\u002fEB\",\"Pierce\"],[\"SR-512 W\\u002fO SR-7 WB\\u002fEB\",\"Pierce\"],[\"SR-512 S\\u002fO SR-167 WB\\u002fEB\",\"Pierce\"],[\"SR-509 E\\u002fO I-705 NB\\u002fSB\",\"Pierce\"],[\"SR-509 W\\u002fO Alexander NB\\u002fSB\",\"Pierce\"],[\"SR-509 S\\u002fO 11th NB\\u002fSB\",\"Pierce\"],[\"SR-509 N\\u002fO Hyada NB\\u002fSB\",\"Pierce\"],[\"SR-509 E\\u002fO Soundview NB\\u002fSB\",\"Pierce\"],[\"SR-99 @ I-5 NB\\u002fSB\",\"Pierce\"],[\"SR-99 E\\u002fO 54th NB\\u002fSB\",\"Pierce\"],[\"SR-99 S\\u002fO Porter NB\\u002fSB\",\"Pierce\"],[\"SR-16 @ TNB NB\\u002fSB\",\"Pierce\"],[\"SR-16 @ Purdy Dr NB\\u002fSB\",\"Pierce\"],[\"SR-302 N\\u002fO 144th WB\\u002fEB\",\"Pierce\"],[\"SR-302 S\\u002fO 144th WB\\u002fEB\",\"Pierce\"],[\"SR-302 W\\u002fO Key Peninsula Hwy WB\\u002fEB\",\"Pierce\"],[\"SR-302 W\\u002fO Wright-Bliss WB\\u002fEB (E\\u002fO?)\",\"Pierce\"],[\"SR-161 E\\u002fO SR-7 NB\\u002fSB\",\"Pierce\"],[\"SR-161 N\\u002fO Center NB\\u002fSB\",\"Pierce\"],[\"SR-161 N\\u002fO Eatonville Cutoff NB\\u002fSB\",\"Pierce\"],[\"SR-161 N\\u002fO 304th NB\\u002fSB\",\"Pierce\"],[\"SR-161 N\\u002fO 264th NB\\u002fSB\",\"Pierce\"],[\"SR-161 S\\u002fO 224th NB\\u002fSB\",\"Pierce\"],[\"SR-161 N\\u002fO 224th NB\\u002fSB\",\"Pierce\"],[\"SR-161 N\\u002fO 204th NB\\u002fSB\",\"Pierce\"],[\"SR-161 S\\u002fO SR-167 SB off-ramp NB\\u002fSB\",\"Pierce\"],[\"SR-161 S\\u002fO Valley NB\\u002fSB\",\"Pierce\"],[\"SR-161 N\\u002fO Valley NB\\u002fSB\",\"Pierce\"],[\"SR-161 N\\u002fO 8th NB\\u002fSB\",\"Pierce\"],[\"SR-7 @ Thurston County NB\\u002fSB\",\"Pierce\"],[\"SR-7 W\\u002fO Alder Cutoff NB\\u002fSB\",\"Pierce\"],[\"SR-7 N\\u002fO Eatonville Hwy NB\\u002fSB\",\"Pierce\"],[\"SR-7 N\\u002fO Silver Lake NB\\u002fSB\",\"Pierce\"],[\"SR-7 S\\u002fO SR-702 NB\\u002fSB\",\"Pierce\"],[\"SR-7 N\\u002fO 304th NB\\u002fSB\",\"Pierce\"],[\"SR-7 N\\u002fO 260th NB\\u002fSB\",\"Pierce\"],[\"SR-7 S\\u002fO 224th NB\\u002fSB\",\"Pierce\"],[\"SR-7 N\\u002fO 224th NB\\u002fSB\",\"Pierce\"],[\"SR-7 N\\u002fO 38th NB\\u002fSB\",\"Pierce\"],[\"SR-162 @ SR-410 WB\\u002fEB\",\"Pierce\"],[\"SR-162 S\\u002fO Pioneer WB\\u002fEB\",\"Pierce\"],[\"SR-162 E\\u002fO Orville WB\\u002fEB\",\"Pierce\"],[\"SR-162 E\\u002fO S Prairie WB\\u002fEB\",\"Pierce\"],[\"SR-162 N\\u002fO SR-165 WB\\u002fEB\",\"Pierce\"],[\"SR-163 @ SR-16 NB\\u002fSB\",\"Pierce\"],[\"SR-163 N\\u002fO 37th NB\\u002fSB\",\"Pierce\"],[\"SR-163 N\\u002fO Park NB\\u002fSB\",\"Pierce\"],[\"SR-507 S\\u002fO SR-7 NB\\u002fSB\",\"Pierce\"],[\"SR-507 S\\u002fO E Gate NB\\u002fSB\",\"Pierce\"],[\"SR-507 S\\u002fO 288th NB\\u002fSB\",\"Pierce\"],[\"SR-507 N\\u002fO 346th NB\\u002fSB\",\"Pierce\"],[\"SR-702 E\\u002fO SR-507 WB\\u002fEB\",\"Pierce\"],[\"SR-702 E\\u002fO Harts Lake WB\\u002fEB\",\"Pierce\"],[\"SR-702 E\\u002fO 40th WB\\u002fEB\",\"Pierce\"],[\"SR-702 W\\u002fO 8th WB\\u002fEB\",\"Pierce\"],[\"SR-702 E\\u002fO 8th WB\\u002fEB\",\"Pierce\"],[\"SR-165 W\\u002fO SR-162 NB\\u002fSB\",\"Pierce\"],[\"SR-165 N\\u002fO Davis NB\\u002fSB\",\"Pierce\"],[\"SR-165 N\\u002fO Wilkeson-Carbonado NB\\u002fSB\",\"Pierce\"],[\"SR-704 E\\u002fO Spanaway Loop WB\\u002fEB\",\"Pierce\"],[\"SR-706 E\\u002fO SR-7 WB\\u002fEB\",\"Pierce\"],[\"SR-706 E\\u002fO Kernahan WB\\u002fEB\",\"Pierce\"]],\"hovertemplate\":\"Observed=%{x}\\u003cbr\\u003eModel=%{y}\\u003cbr\\u003elocation=%{customdata[0]}\\u003cbr\\u003eCounty=%{customdata[1]}\\u003cextra\\u003e\\u003c\\u002fextra\\u003e\",\"legendgroup\":\"\",\"marker\":{\"color\":\"#91268F\",\"symbol\":\"circle\"},\"mode\":\"markers\",\"name\":\"\",\"orientation\":\"v\",\"showlegend\":false,\"x\":{\"dtype\":\"i2\",\"bdata\":\"xRWmFSIX9BdQE9kSnBW1FKUT6xNPF34XkAoFF\\u002foO3xJdCV0JYhyeDWYCFQARAA4ASg2YD5QSwgNACGcACwAOAHAF1wqsBOIGkgVPAGgAOQA0ABkAyQBwAKIBUgFEAUQBFAJSA8sGtACvAI4AbgBDAFoAYgCQAXkBsAF2AagApAEKBNEAiACHACgAJABaANABYAEIAl8B\\u002fADcAAoBpgD+AKYAMgASAIgCJgANAA==\"},\"xaxis\":\"x\",\"y\":{\"dtype\":\"i2\",\"bdata\":\"xhXEFcwWyRa1FrIWMRYyFqwVQRekF9IXWxU+IDAoqycFBeYENhEnB1wAXgBeAF4A1gVhBjYLJgOGBNcHAAAAAJsF4QJZA4QS9Q4bABUA\\u002fADtAAAAJwAnAEQARABYAGEAgwBUAm8EVQDyAQAAEgASABIANQA8AD4AQAAoAAgAiQBzAAYABQAFAFwAXAD6ANcB4gHbAdsBBQAFAAsACwAmAAYAAAAAAI4BAAAAAA==\"},\"yaxis\":\"y\",\"type\":\"scatter\",\"line\":{\"color\":\"Grey\",\"width\":2}},{\"hovertemplate\":\"Observed=%{x}\\u003cbr\\u003eModel=%{y}\\u003cextra\\u003e\\u003c\\u002fextra\\u003e\",\"legendgroup\":\"\",\"line\":{\"color\":\"Grey\",\"dash\":\"solid\",\"width\":2},\"marker\":{\"symbol\":\"circle\"},\"mode\":\"lines\",\"name\":\"\",\"orientation\":\"v\",\"showlegend\":false,\"x\":{\"dtype\":\"f8\",\"bdata\":\"AAAAAAAAAADZZJNNNllSQNlkk002WWJARhdddNGFa0DZZJNNNllyQA8++OCD73ZARhdddNGFe0A++OCDDw6AQNlkk002WYJAdNFFF12khEAPPvjgg++GQKqqqqqqOolARhdddNGFi0Dhgw8++NCNQD744IMPDpBAiy666KIzkUDZZJNNNlmSQCebbLLJfpNAdNFFF12klEDCBx988MmVQA8++OCD75ZAXXTRRRcVmECqqqqqqjqZQPjggw8+YJpARhdddNGFm0CTTTbZZKucQOGDDz740J1ALrrooov2nkA++OCDDw6gQGWTTTbZoKBAiy666KIzoUCyySabbMahQNlkk002WaJAAAAAAADsokAnm2yyyX6jQE022WSTEaRAdNFFF12kpECbbLLJJjelQMIHH3zwyaVA6KKLLrpcpkAPPvjgg++mQDbZZJNNgqdAXXTRRRcVqECEDz744KeoQKqqqqqqOqlA0UUXXXTNqUD44IMPPmCqQB988MEH86pARhdddNGFq0BssskmmxisQJNNNtlkq6xAuuiiiy4+rUDhgw8++NCtQAcffPDBY65ALrrooov2rkBVVVVVVYmvQD744IMPDrBA0UUXXXRXsEBlk0022aCwQPjggw8+6rBAiy666KIzsUAffPDBB32xQLLJJptsxrFARhdddNEPskDZZJNNNlmyQGyyySaborJAAAAAAADsskCTTTbZZDWzQCebbLLJfrNAuuiiiy7Is0BNNtlkkxG0QOGDDz74WrRAdNFFF12ktEAIH3zwwe20QJtssskmN7VALrrooouAtUDCBx988Mm1QFVVVVVVE7ZA6KKLLrpctkB88MEHH6a2QA8++OCD77ZAo4suuug4t0A22WSTTYK3QMkmm2yyy7dAXXTRRRcVuEDwwQcffF64QIQPPvjgp7hAF1100UXxuECqqqqqqjq5QD744IMPhLlA0UUXXXTNuUBlk0022Ra6QPjggw8+YLpAiy666KKpukAffPDBB\\u002fO6QLLJJptsPLtARhdddNGFu0DZZJNNNs+7QGyyySabGLxAAAAAAABivEA=\"},\"xaxis\":\"x\",\"y\":{\"dtype\":\"f8\",\"bdata\":\"YH7C+b\\u002f0RcCOKzulFeNAQL5qHKJ13VtA25\\u002fNOLCkZ0ArhUbQUq1wQGg6JoRNiHVAp+8FOEhjekDkpOXrQj5\\u002fQBGt4s+eDIJAsIfSKRx6hEBOYsKDmeeGQO08st0WVYlAjReiN5TCi0As8pGRETCOQGXmwHXHTpBAtNO4IoaFkUAEwbDPRLySQFSuqHwD85NAo5ugKcIplUDziJjWgGCWQEF2kIM\\u002fl5dAkWOIMP7NmEDgUIDdvASaQDA+eIp7O5tAgCtwNzpynEDPGGjk+KidQB8GYJG3355AtvkrHzsLoEBe8Kd1mqagQAbnI8z5QaFArt2fIlndoUBW1Bt5uHiiQP7Kl88XFKNApsETJnevo0BOuI981kqkQPSuC9M15qRAnKWHKZWBpUBEnAOA9BymQOySf9ZTuKZAkon7LLNTp0A6gHeDEu+nQOJ289lxiqhAim1vMNElqUAyZOuGMMGpQNpaZ92PXKpAglHjM+\\u002f3qkAqSF+KTpOrQNI+2+CtLqxAejVXNw3KrEAgLNONbGWtQMgiT+TLAK5AcBnLOiucrkAYEEeRijevQL4Gw+fp0q9As34fnyQ3sEAHel1K1ISwQFt1m\\u002fWD0rBAr3DZoDMgsUADbBdM422xQFdnVfeSu7FAqmKTokIJskD+XdFN8layQFJZD\\u002fmhpLJAplRNpFHyskD6T4tPAUCzQE1LyfqwjbNAokYHpmDbs0D1QUVRECm0QEo9g\\u002fy\\u002fdrRAnTjBp2\\u002fEtEDxM\\u002f9SHxK1QEUvPf7OX7VAmSp7qX6ttUDtJblULvu1QEEh9\\u002f\\u002fdSLZAlBw1q42WtkDpF3NWPeS2QDwTsQHtMbdAjw7vrJx\\u002ft0DkCS1YTM23QDcFawP8GrhAjACprqtouEDf++ZZW7a4QDP3JAULBLlAh\\u002fJisLpRuUDb7aBbap+5QC\\u002fp3gYa7blAg+Qcssk6ukDW31pdeYi6QCvbmAgp1rpAftbWs9gju0DT0RRfiHG7QCbNUgo4v7tAeciQtecMvEDOw85gl1q8QCG\\u002fDAxHqLxAdrpKt\\u002fb1vEDJtYhipkO9QB2xxg1Wkb1AcawEuQXfvUA=\"},\"yaxis\":\"y\",\"type\":\"scatter\"}],                        {\"template\":{\"data\":{\"barpolar\":[{\"marker\":{\"line\":{\"color\":\"white\",\"width\":0.5},\"pattern\":{\"fillmode\":\"overlay\",\"size\":10,\"solidity\":0.2}},\"type\":\"barpolar\"}],\"bar\":[{\"error_x\":{\"color\":\"rgb(36,36,36)\"},\"error_y\":{\"color\":\"rgb(36,36,36)\"},\"marker\":{\"line\":{\"color\":\"white\",\"width\":0.5},\"pattern\":{\"fillmode\":\"overlay\",\"size\":10,\"solidity\":0.2}},\"type\":\"bar\"}],\"carpet\":[{\"aaxis\":{\"endlinecolor\":\"rgb(36,36,36)\",\"gridcolor\":\"white\",\"linecolor\":\"white\",\"minorgridcolor\":\"white\",\"startlinecolor\":\"rgb(36,36,36)\"},\"baxis\":{\"endlinecolor\":\"rgb(36,36,36)\",\"gridcolor\":\"white\",\"linecolor\":\"white\",\"minorgridcolor\":\"white\",\"startlinecolor\":\"rgb(36,36,36)\"},\"type\":\"carpet\"}],\"choropleth\":[{\"colorbar\":{\"outlinewidth\":1,\"tickcolor\":\"rgb(36,36,36)\",\"ticks\":\"outside\"},\"type\":\"choropleth\"}],\"contourcarpet\":[{\"colorbar\":{\"outlinewidth\":1,\"tickcolor\":\"rgb(36,36,36)\",\"ticks\":\"outside\"},\"type\":\"contourcarpet\"}],\"contour\":[{\"colorbar\":{\"outlinewidth\":1,\"tickcolor\":\"rgb(36,36,36)\",\"ticks\":\"outside\"},\"colorscale\":[[0.0,\"#440154\"],[0.1111111111111111,\"#482878\"],[0.2222222222222222,\"#3e4989\"],[0.3333333333333333,\"#31688e\"],[0.4444444444444444,\"#26828e\"],[0.5555555555555556,\"#1f9e89\"],[0.6666666666666666,\"#35b779\"],[0.7777777777777778,\"#6ece58\"],[0.8888888888888888,\"#b5de2b\"],[1.0,\"#fde725\"]],\"type\":\"contour\"}],\"heatmap\":[{\"colorbar\":{\"outlinewidth\":1,\"tickcolor\":\"rgb(36,36,36)\",\"ticks\":\"outside\"},\"colorscale\":[[0.0,\"#440154\"],[0.1111111111111111,\"#482878\"],[0.2222222222222222,\"#3e4989\"],[0.3333333333333333,\"#31688e\"],[0.4444444444444444,\"#26828e\"],[0.5555555555555556,\"#1f9e89\"],[0.6666666666666666,\"#35b779\"],[0.7777777777777778,\"#6ece58\"],[0.8888888888888888,\"#b5de2b\"],[1.0,\"#fde725\"]],\"type\":\"heatmap\"}],\"histogram2dcontour\":[{\"colorbar\":{\"outlinewidth\":1,\"tickcolor\":\"rgb(36,36,36)\",\"ticks\":\"outside\"},\"colorscale\":[[0.0,\"#440154\"],[0.1111111111111111,\"#482878\"],[0.2222222222222222,\"#3e4989\"],[0.3333333333333333,\"#31688e\"],[0.4444444444444444,\"#26828e\"],[0.5555555555555556,\"#1f9e89\"],[0.6666666666666666,\"#35b779\"],[0.7777777777777778,\"#6ece58\"],[0.8888888888888888,\"#b5de2b\"],[1.0,\"#fde725\"]],\"type\":\"histogram2dcontour\"}],\"histogram2d\":[{\"colorbar\":{\"outlinewidth\":1,\"tickcolor\":\"rgb(36,36,36)\",\"ticks\":\"outside\"},\"colorscale\":[[0.0,\"#440154\"],[0.1111111111111111,\"#482878\"],[0.2222222222222222,\"#3e4989\"],[0.3333333333333333,\"#31688e\"],[0.4444444444444444,\"#26828e\"],[0.5555555555555556,\"#1f9e89\"],[0.6666666666666666,\"#35b779\"],[0.7777777777777778,\"#6ece58\"],[0.8888888888888888,\"#b5de2b\"],[1.0,\"#fde725\"]],\"type\":\"histogram2d\"}],\"histogram\":[{\"marker\":{\"line\":{\"color\":\"white\",\"width\":0.6}},\"type\":\"histogram\"}],\"mesh3d\":[{\"colorbar\":{\"outlinewidth\":1,\"tickcolor\":\"rgb(36,36,36)\",\"ticks\":\"outside\"},\"type\":\"mesh3d\"}],\"parcoords\":[{\"line\":{\"colorbar\":{\"outlinewidth\":1,\"tickcolor\":\"rgb(36,36,36)\",\"ticks\":\"outside\"}},\"type\":\"parcoords\"}],\"pie\":[{\"automargin\":true,\"type\":\"pie\"}],\"scatter3d\":[{\"line\":{\"colorbar\":{\"outlinewidth\":1,\"tickcolor\":\"rgb(36,36,36)\",\"ticks\":\"outside\"}},\"marker\":{\"colorbar\":{\"outlinewidth\":1,\"tickcolor\":\"rgb(36,36,36)\",\"ticks\":\"outside\"}},\"type\":\"scatter3d\"}],\"scattercarpet\":[{\"marker\":{\"colorbar\":{\"outlinewidth\":1,\"tickcolor\":\"rgb(36,36,36)\",\"ticks\":\"outside\"}},\"type\":\"scattercarpet\"}],\"scattergeo\":[{\"marker\":{\"colorbar\":{\"outlinewidth\":1,\"tickcolor\":\"rgb(36,36,36)\",\"ticks\":\"outside\"}},\"type\":\"scattergeo\"}],\"scattergl\":[{\"marker\":{\"colorbar\":{\"outlinewidth\":1,\"tickcolor\":\"rgb(36,36,36)\",\"ticks\":\"outside\"}},\"type\":\"scattergl\"}],\"scattermapbox\":[{\"marker\":{\"colorbar\":{\"outlinewidth\":1,\"tickcolor\":\"rgb(36,36,36)\",\"ticks\":\"outside\"}},\"type\":\"scattermapbox\"}],\"scattermap\":[{\"marker\":{\"colorbar\":{\"outlinewidth\":1,\"tickcolor\":\"rgb(36,36,36)\",\"ticks\":\"outside\"}},\"type\":\"scattermap\"}],\"scatterpolargl\":[{\"marker\":{\"colorbar\":{\"outlinewidth\":1,\"tickcolor\":\"rgb(36,36,36)\",\"ticks\":\"outside\"}},\"type\":\"scatterpolargl\"}],\"scatterpolar\":[{\"marker\":{\"colorbar\":{\"outlinewidth\":1,\"tickcolor\":\"rgb(36,36,36)\",\"ticks\":\"outside\"}},\"type\":\"scatterpolar\"}],\"scatter\":[{\"fillpattern\":{\"fillmode\":\"overlay\",\"size\":10,\"solidity\":0.2},\"type\":\"scatter\"}],\"scatterternary\":[{\"marker\":{\"colorbar\":{\"outlinewidth\":1,\"tickcolor\":\"rgb(36,36,36)\",\"ticks\":\"outside\"}},\"type\":\"scatterternary\"}],\"surface\":[{\"colorbar\":{\"outlinewidth\":1,\"tickcolor\":\"rgb(36,36,36)\",\"ticks\":\"outside\"},\"colorscale\":[[0.0,\"#440154\"],[0.1111111111111111,\"#482878\"],[0.2222222222222222,\"#3e4989\"],[0.3333333333333333,\"#31688e\"],[0.4444444444444444,\"#26828e\"],[0.5555555555555556,\"#1f9e89\"],[0.6666666666666666,\"#35b779\"],[0.7777777777777778,\"#6ece58\"],[0.8888888888888888,\"#b5de2b\"],[1.0,\"#fde725\"]],\"type\":\"surface\"}],\"table\":[{\"cells\":{\"fill\":{\"color\":\"rgb(237,237,237)\"},\"line\":{\"color\":\"white\"}},\"header\":{\"fill\":{\"color\":\"rgb(217,217,217)\"},\"line\":{\"color\":\"white\"}},\"type\":\"table\"}]},\"layout\":{\"annotationdefaults\":{\"arrowhead\":0,\"arrowwidth\":1},\"autotypenumbers\":\"strict\",\"coloraxis\":{\"colorbar\":{\"outlinewidth\":1,\"tickcolor\":\"rgb(36,36,36)\",\"ticks\":\"outside\"}},\"colorscale\":{\"diverging\":[[0.0,\"rgb(103,0,31)\"],[0.1,\"rgb(178,24,43)\"],[0.2,\"rgb(214,96,77)\"],[0.3,\"rgb(244,165,130)\"],[0.4,\"rgb(253,219,199)\"],[0.5,\"rgb(247,247,247)\"],[0.6,\"rgb(209,229,240)\"],[0.7,\"rgb(146,197,222)\"],[0.8,\"rgb(67,147,195)\"],[0.9,\"rgb(33,102,172)\"],[1.0,\"rgb(5,48,97)\"]],\"sequential\":[[0.0,\"#440154\"],[0.1111111111111111,\"#482878\"],[0.2222222222222222,\"#3e4989\"],[0.3333333333333333,\"#31688e\"],[0.4444444444444444,\"#26828e\"],[0.5555555555555556,\"#1f9e89\"],[0.6666666666666666,\"#35b779\"],[0.7777777777777778,\"#6ece58\"],[0.8888888888888888,\"#b5de2b\"],[1.0,\"#fde725\"]],\"sequentialminus\":[[0.0,\"#440154\"],[0.1111111111111111,\"#482878\"],[0.2222222222222222,\"#3e4989\"],[0.3333333333333333,\"#31688e\"],[0.4444444444444444,\"#26828e\"],[0.5555555555555556,\"#1f9e89\"],[0.6666666666666666,\"#35b779\"],[0.7777777777777778,\"#6ece58\"],[0.8888888888888888,\"#b5de2b\"],[1.0,\"#fde725\"]]},\"colorway\":[\"#91268F\",\"#8CC63E\",\"#00A7A0\",\"#F05A28\",\"#4C4C4C\",\"#630460\",\"#9f3913\",\"#588527\",\"#00716c\",\"#3e4040\"],\"font\":{\"color\":\"rgb(36,36,36)\",\"family\":\"Poppins\",\"size\":11},\"geo\":{\"bgcolor\":\"white\",\"lakecolor\":\"white\",\"landcolor\":\"white\",\"showlakes\":true,\"showland\":true,\"subunitcolor\":\"white\"},\"hoverlabel\":{\"align\":\"left\"},\"hovermode\":\"closest\",\"mapbox\":{\"style\":\"light\"},\"paper_bgcolor\":\"white\",\"plot_bgcolor\":\"white\",\"polar\":{\"angularaxis\":{\"gridcolor\":\"rgb(232,232,232)\",\"linecolor\":\"rgb(36,36,36)\",\"showgrid\":false,\"showline\":true,\"ticks\":\"outside\"},\"bgcolor\":\"white\",\"radialaxis\":{\"gridcolor\":\"rgb(232,232,232)\",\"linecolor\":\"rgb(36,36,36)\",\"showgrid\":false,\"showline\":true,\"ticks\":\"outside\"}},\"scene\":{\"xaxis\":{\"backgroundcolor\":\"white\",\"gridcolor\":\"rgb(232,232,232)\",\"gridwidth\":2,\"linecolor\":\"rgb(36,36,36)\",\"showbackground\":true,\"showgrid\":false,\"showline\":true,\"ticks\":\"outside\",\"zeroline\":false,\"zerolinecolor\":\"rgb(36,36,36)\"},\"yaxis\":{\"backgroundcolor\":\"white\",\"gridcolor\":\"rgb(232,232,232)\",\"gridwidth\":2,\"linecolor\":\"rgb(36,36,36)\",\"showbackground\":true,\"showgrid\":false,\"showline\":true,\"ticks\":\"outside\",\"zeroline\":false,\"zerolinecolor\":\"rgb(36,36,36)\"},\"zaxis\":{\"backgroundcolor\":\"white\",\"gridcolor\":\"rgb(232,232,232)\",\"gridwidth\":2,\"linecolor\":\"rgb(36,36,36)\",\"showbackground\":true,\"showgrid\":false,\"showline\":true,\"ticks\":\"outside\",\"zeroline\":false,\"zerolinecolor\":\"rgb(36,36,36)\"}},\"shapedefaults\":{\"fillcolor\":\"black\",\"line\":{\"width\":0},\"opacity\":0.3},\"ternary\":{\"aaxis\":{\"gridcolor\":\"rgb(232,232,232)\",\"linecolor\":\"rgb(36,36,36)\",\"showgrid\":false,\"showline\":true,\"ticks\":\"outside\"},\"baxis\":{\"gridcolor\":\"rgb(232,232,232)\",\"linecolor\":\"rgb(36,36,36)\",\"showgrid\":false,\"showline\":true,\"ticks\":\"outside\"},\"bgcolor\":\"white\",\"caxis\":{\"gridcolor\":\"rgb(232,232,232)\",\"linecolor\":\"rgb(36,36,36)\",\"showgrid\":false,\"showline\":true,\"ticks\":\"outside\"}},\"title\":{\"x\":0.05},\"xaxis\":{\"automargin\":true,\"gridcolor\":\"rgb(232,232,232)\",\"linecolor\":\"rgb(36,36,36)\",\"showgrid\":false,\"showline\":true,\"ticks\":\"outside\",\"title\":{\"standoff\":15},\"zeroline\":false,\"zerolinecolor\":\"rgb(36,36,36)\"},\"yaxis\":{\"automargin\":true,\"gridcolor\":\"rgb(232,232,232)\",\"linecolor\":\"rgb(36,36,36)\",\"showgrid\":false,\"showline\":true,\"ticks\":\"outside\",\"title\":{\"standoff\":15},\"zeroline\":false,\"zerolinecolor\":\"rgb(36,36,36)\"}}},\"xaxis\":{\"anchor\":\"y\",\"domain\":[0.0,1.0],\"title\":{\"text\":\"Observed\"}},\"yaxis\":{\"anchor\":\"x\",\"domain\":[0.0,1.0],\"title\":{\"text\":\"Model\"}},\"legend\":{\"tracegroupgap\":0},\"title\":{\"text\":\"Heavy Trucks: Pierce\"},\"margin\":{\"l\":100,\"r\":100,\"t\":100,\"b\":100},\"height\":600,\"width\":800,\"shapes\":[{\"line\":{\"color\":\"Red\",\"dash\":\"dash\",\"width\":2},\"type\":\"line\",\"x0\":0,\"x1\":10288,\"y0\":0,\"y1\":10288}],\"annotations\":[{\"align\":\"right\",\"font\":{\"color\":\"pink\",\"size\":12},\"showarrow\":false,\"text\":\"y = x\",\"x\":10802.4,\"y\":10802.4},{\"align\":\"right\",\"font\":{\"color\":\"black\",\"size\":12},\"showarrow\":false,\"text\":\"r^2 = 0.76\",\"x\":7629.3,\"y\":8029.373472124772}]},                        {\"responsive\": true}                    ).then(function(){\n",
       "                            \n",
       "var gd = document.getElementById('da97e452-e53d-4867-858e-c2c319e45062');\n",
       "var x = new MutationObserver(function (mutations, observer) {{\n",
       "        var display = window.getComputedStyle(gd).display;\n",
       "        if (!display || display === 'none') {{\n",
       "            console.log([gd, 'removed!']);\n",
       "            Plotly.purge(gd);\n",
       "            observer.disconnect();\n",
       "        }}\n",
       "}});\n",
       "\n",
       "// Listen for the removal of the full notebook cells\n",
       "var notebookContainer = gd.closest('#notebook-container');\n",
       "if (notebookContainer) {{\n",
       "    x.observe(notebookContainer, {childList: true});\n",
       "}}\n",
       "\n",
       "// Listen for the clearing of the current output cell\n",
       "var outputEl = gd.closest('.output');\n",
       "if (outputEl) {{\n",
       "    x.observe(outputEl, {childList: true});\n",
       "}}\n",
       "\n",
       "                        })                };            </script>        </div>"
      ]
     },
     "metadata": {},
     "output_type": "display_data"
    }
   ],
   "source": [
    "fig = create_truck_chart(df_daily_heavy, 'Heavy', 'Pierce')\n",
    "fig.show()"
   ]
  },
  {
   "cell_type": "raw",
   "id": "60af6289",
   "metadata": {
    "vscode": {
     "languageId": "raw"
    }
   },
   "source": [
    "#### Snohomish"
   ]
  },
  {
   "cell_type": "code",
   "execution_count": 28,
   "id": "e7a2925c",
   "metadata": {
    "execution": {
     "iopub.execute_input": "2025-05-01T14:38:17.398341Z",
     "iopub.status.busy": "2025-05-01T14:38:17.397344Z",
     "iopub.status.idle": "2025-05-01T14:38:17.517003Z",
     "shell.execute_reply": "2025-05-01T14:38:17.516039Z"
    }
   },
   "outputs": [
    {
     "data": {
      "application/vnd.plotly.v1+json": {
       "config": {
        "plotlyServerURL": "https://plot.ly"
       },
       "data": [
        {
         "customdata": [
          [
           "I-5 @ 44th NB",
           "Snohomish"
          ],
          [
           "I-5 @ 44th SB",
           "Snohomish"
          ],
          [
           "I-5 N/O 164th NB",
           "Snohomish"
          ],
          [
           "I-5 N/O 164th SB",
           "Snohomish"
          ],
          [
           "I-5 N/O SR-526 NB",
           "Snohomish"
          ],
          [
           "I-5 N/O SR-526 SB",
           "Snohomish"
          ],
          [
           "I-5 N/O 41st NB",
           "Snohomish"
          ],
          [
           "I-5 N/O 41st SB",
           "Snohomish"
          ],
          [
           "I-5 @ SR-528 NB",
           "Snohomish"
          ],
          [
           "I-5 @ SR-528 SB",
           "Snohomish"
          ],
          [
           "I-5 N/O SR-531 NB",
           "Snohomish"
          ],
          [
           "I-5 N/O SR-531 SB",
           "Snohomish"
          ],
          [
           "I-405 N/O SR-527 NB",
           "Snohomish"
          ],
          [
           "I-405 N/O SR-527 SB",
           "Snohomish"
          ],
          [
           "SR-525 N/O I-5 NB",
           "Snohomish"
          ],
          [
           "SR-525 N/O I-5 SB",
           "Snohomish"
          ],
          [
           "I-5 @ SR-532 NB/SB",
           "Snohomish"
          ],
          [
           "I-5 @ Skagit border NB/SB",
           "Snohomish"
          ],
          [
           "SR-525 N/O SR-526 NB/SB",
           "Snohomish"
          ],
          [
           "SR-525 N/O 5th NB/SB",
           "Snohomish"
          ],
          [
           "SR-99 E/O Evergreen NB/SB",
           "Snohomish"
          ],
          [
           "SR-526 W/O Paine Field Blvd WB/EB",
           "Snohomish"
          ],
          [
           "SR-526 E/O Paine Field Blvd WB/EB",
           "Snohomish"
          ],
          [
           "SR-9 @ SR-522 NB/SB",
           "Snohomish"
          ],
          [
           "SR-9 N/O SR-2 NB/SB",
           "Snohomish"
          ],
          [
           "SR-9 N/O SR-204 NB/SB",
           "Snohomish"
          ],
          [
           "SR-9 N/O SR-92 NB/SB",
           "Snohomish"
          ],
          [
           "SR-9 N/O 132nd NB/SB",
           "Snohomish"
          ],
          [
           "SR-9 N/O SR-531 NB/SB",
           "Snohomish"
          ],
          [
           "SR-9 S/O 67th NB/SB",
           "Snohomish"
          ],
          [
           "SR-9 N/O Kackman NB/SB",
           "Snohomish"
          ],
          [
           "SR-9 N/O Stanwood-Bryant NB/SB",
           "Snohomish"
          ],
          [
           "SR-532 @ Island County WB/EB",
           "Snohomish"
          ],
          [
           "SR-532 W/O 28th WB/EB",
           "Snohomish"
          ],
          [
           "SR-104 @ Ferry Loading Edm WB/EB",
           "Snohomish"
          ],
          [
           "SR-104 N/O Pine WB/EB",
           "Snohomish"
          ],
          [
           "SR-104 E/O 5th WB/EB",
           "Snohomish"
          ],
          [
           "SR-524 W/O 3rd WB/EB",
           "Snohomish"
          ],
          [
           "SR-524 S/O Main WB/EB",
           "Snohomish"
          ],
          [
           "SR-524 N/O Main WB/EB",
           "Snohomish"
          ],
          [
           "SR-524 E/O 68th WB/EB",
           "Snohomish"
          ],
          [
           "SR-524 E/O 39th WB/EB",
           "Snohomish"
          ],
          [
           "SR-524 N/O Paradise Lake WB/EB",
           "Snohomish"
          ],
          [
           "SR-2 E/O I-5 WB/EB",
           "Snohomish"
          ],
          [
           "SR-2 S/O SR-204 WB/EB",
           "Snohomish"
          ],
          [
           "SR-2 E/O Main WB/EB",
           "Snohomish"
          ],
          [
           "SR-2 E/O Rice WB/EB",
           "Snohomish"
          ],
          [
           "SR-2 E/O 10th (Gold Bar) WB/EB",
           "Snohomish"
          ],
          [
           "SR-2 W/O Index-Galena WB/EB",
           "Snohomish"
          ],
          [
           "SR-2 E/O Index-Galena WB/EB",
           "Snohomish"
          ],
          [
           "SR-527 N/O I-405 NB/SB",
           "Snohomish"
          ],
          [
           "SR-527 N/O 196th NB/SB",
           "Snohomish"
          ],
          [
           "SR-527 N/O Dumas NB/SB",
           "Snohomish"
          ],
          [
           "SR-527 N/O 100th NB/SB",
           "Snohomish"
          ],
          [
           "SR-529 @ I-5 (Evt) NB/SB",
           "Snohomish"
          ],
          [
           "SR-529 S/O Everett NB/SB",
           "Snohomish"
          ],
          [
           "SR-529 W/O Maple NB/SB",
           "Snohomish"
          ],
          [
           "SR-529 N/O Everett NB/SB",
           "Snohomish"
          ],
          [
           "SR-529 N/O Broadway NB/SB",
           "Snohomish"
          ],
          [
           "SR-96 @ I-5 WB/EB",
           "Snohomish"
          ],
          [
           "SR-96 N/O 132nd WB/EB",
           "Snohomish"
          ],
          [
           "SR-96 E/O Seattle Hill WB/EB",
           "Snohomish"
          ],
          [
           "SR-528 @ I-5 WB/EB",
           "Snohomish"
          ],
          [
           "SR-528 E/O SR-529 WB/EB",
           "Snohomish"
          ],
          [
           "SR-531 N/O Rose WB/EB",
           "Snohomish"
          ],
          [
           "SR-531 E/O Lk Goodwin WB/EB",
           "Snohomish"
          ],
          [
           "SR-531 E/O 27th WB/EB",
           "Snohomish"
          ],
          [
           "SR-531 E/O I-5 WB/EB",
           "Snohomish"
          ],
          [
           "SR-531 E/O 43rd WB/EB",
           "Snohomish"
          ],
          [
           "SR-531 W/O 67th WB/EB",
           "Snohomish"
          ],
          [
           "SR-531 E/O 67th WB/EB",
           "Snohomish"
          ],
          [
           "SR-530 @ I-5 WB/EB",
           "Snohomish"
          ],
          [
           "SR-530 E/O Smokey Pt WB/EB",
           "Snohomish"
          ],
          [
           "SR-530 N/O 211th WB/EB",
           "Snohomish"
          ],
          [
           "SR-530 E/O SR-9 WB/EB",
           "Snohomish"
          ],
          [
           "SR-530 W/O Arlington Hts WB/EB",
           "Snohomish"
          ],
          [
           "SR-530 E/O Arlington Hts WB/EB",
           "Snohomish"
          ],
          [
           "SR-530 W/O Jim Creek WB/EB",
           "Snohomish"
          ],
          [
           "SR-530 W/O Ramstad WB/EB",
           "Snohomish"
          ],
          [
           "SR-530 @ Skagit County WB/EB",
           "Snohomish"
          ],
          [
           "SR-203 N/O 203rd NB/SB",
           "Snohomish"
          ],
          [
           "SR-204 @ SR-2 NB/SB",
           "Snohomish"
          ],
          [
           "SR-204 N/O 20th NB/SB",
           "Snohomish"
          ],
          [
           "SR-204 N/O SR-2 NB/SB",
           "Snohomish"
          ],
          [
           "SR-92 E/O Lake WB/EB",
           "Snohomish"
          ],
          [
           "SR-92 E/O Callow WB/EB",
           "Snohomish"
          ],
          [
           "SR-92 E/O Quarry WB/EB",
           "Snohomish"
          ],
          [
           "SR-92 W/O Mountain Loop WB/EB",
           "Snohomish"
          ]
         ],
         "hovertemplate": "Observed=%{x}<br>Model=%{y}<br>location=%{customdata[0]}<br>County=%{customdata[1]}<extra></extra>",
         "legendgroup": "",
         "line": {
          "color": "Grey",
          "width": 2
         },
         "marker": {
          "color": "#91268F",
          "symbol": "circle"
         },
         "mode": "markers",
         "name": "",
         "orientation": "v",
         "showlegend": false,
         "type": "scatter",
         "x": {
          "bdata": "cwuHC7QMygyGDDENrgpfDOMLNgwACQwJSwWRBZMBEgHUDxEQrQAwAHsAYwBcALsCHQGNAj0BdAGpAOUApwBSADUBSAE7ADcASAAIAAYABgBMALAA+wF7A2oD+gGkAbwB8wDAAAkBFwEsAJwAWAAxAEEAVAA5A9wAKgA+AAQBSgESAGMArQG5ArgCVAG2AMECYQLQAZABkwF/AXwBKwEvAJgBOgA3AJAB7gHAATwAzgI=",
          "dtype": "i2"
         },
         "xaxis": "x",
         "y": {
          "bdata": "kxNJFPEYSxhYFwsXCRevFqUTjhM3DyMPBAmjBx4D9ALLGi8aZgBzAAAAAgA5AGwB8wA0Ac8BYgAeACAAMwC9AHMAeAAAACMAIwADAAAAAwAIABYAtQBFA2oCaQfYB8MHwwdaB0YAOgACAAgAeAA8AAwAcQAXAE4AFgAEAPEC4wABAAcA0wA6Bf4EQABEAHMAmwCXAIQAhgCFAIUAhQABADACJQA6AB0B1ADUAAAAPAA=",
          "dtype": "i2"
         },
         "yaxis": "y"
        },
        {
         "hovertemplate": "Observed=%{x}<br>Model=%{y}<extra></extra>",
         "legendgroup": "",
         "line": {
          "color": "Grey",
          "dash": "solid",
          "width": 2
         },
         "marker": {
          "symbol": "circle"
         },
         "mode": "lines",
         "name": "",
         "orientation": "v",
         "showlegend": false,
         "type": "scatter",
         "x": {
          "bdata": "AAAAAAAAAABGF1100cVEQEYXXXTRxVRA6aKLLrooX0BGF1100cVkQBhddNFF92lA6aKLLroob0BddNFFFy1yQEYXXXTRxXRAL7roooted0AYXXTRRfd5QAAAAAAAkHxA6aKLLroof0DpoosuuuCAQF100UUXLYJA0kUXXXR5g0BGF1100cWEQLrooosuEoZAL7roooteh0Cjiy666KqIQBhddNFF94lAjC666KJDi0AAAAAAAJCMQHXRRRdd3I1A6aKLLrooj0AvuuiiizqQQOmiiy664JBAo4suuuiGkUBddNFFFy2SQBdddNFF05JA0kUXXXR5k0CMLrrooh+UQEYXXXTRxZRAAAAAAABslUC66KKLLhKWQHXRRRdduJZAL7roootel0DpoosuugSYQKOLLrroqphAXXTRRRdRmUAYXXTRRfeZQNJFF110nZpAjC666KJDm0BGF1100embQAAAAAAAkJxAuuiiiy42nUB10UUXXdydQC+66KKLgp5A6aKLLroon0Cjiy666M6fQC+66KKLOqBAjC666KKNoEDpoosuuuCgQEYXXXTRM6FAo4suuuiGoUAAAAAAANqhQF100UUXLaJAuuiiiy6AokAXXXTRRdOiQHXRRRddJqNA0kUXXXR5o0Avuuiii8yjQIwuuuiiH6RA6aKLLrpypEBGF1100cWkQKOLLrroGKVAAAAAAABspUBddNFFF7+lQLrooosuEqZAF1100UVlpkB10UUXXbimQNJFF110C6dAL7roootep0CMLrroorGnQOmiiy66BKhARhdddNFXqECjiy666KqoQAAAAAAA/qhAXXTRRRdRqUC66KKLLqSpQBhddNFF96lAddFFF11KqkDSRRdddJ2qQC+66KKL8KpAjC666KJDq0DpoosuuparQEYXXXTR6atAo4suuug8rEAAAAAAAJCsQF100UUX46xAuuiiiy42rUAYXXTRRYmtQHXRRRdd3K1A0kUXXXQvrkAvuuiii4KuQIwuuuii1a5A6aKLLroor0BGF1100XuvQKOLLrrozq9AAAAAAAARsEA=",
          "dtype": "f8"
         },
         "xaxis": "x",
         "y": {
          "bdata": "gJ+tEiTlZ8DPDVLdpyZdwDy5kSoPBkXAKKmAZTFBQEDEhcn6OMRaQHxbaaHss2ZACvq2Yt4CcEBWRrl0xqt0QKKSu4auVHlA7t69mJb9fUCeFWBVP1OBQMM7YV6zp4NA6mFiZyf8hUAQiGNwm1CIQDauZHkPpYpAXNRlgoP5jECC+maL902PQFQQNMo10ZBAZ6O0zm/7kUB6NjXTqSWTQI7JtdfjT5RAoVw23B16lUCz77bgV6SWQMeCN+WRzpdA2hW46cv4mEDtqDjuBSOaQAA8ufI/TZtAE88593l3nEAmYrr7s6GdQDj1OgDuy55ATIi7BCj2n0CwDZ4EMZCgQDlX3gZOJaFAwqAeCWu6oUBM6l4LiE+iQNYznw2l5KJAX33fD8J5o0Dpxh8S3w6kQHIQYBT8o6RA/FmgFhk5pUCGo+AYNs6lQA/tIBtTY6ZAmTZhHXD4pkAigKEfjY2nQKvJ4SGqIqhANRMiJMe3qEC/XGIm5EypQEimoigB4qlA0u/iKh53qkBbOSMtOwyrQOWCYy9YoatAb8yjMXU2rED4FeQzksusQIFfJDavYK1AC6lkOMz1rUCU8qQ66YquQB485TwGIK9ApoUlPyO1r0CY57IgICWwQF4M06Gub7BAIjHzIj26sEDnVROkywSxQKx6MyVaT7FAcJ9TpuiZsUA1xHMnd+SxQProk6gFL7JAvg20KZR5skCDMtSqIsSyQEhX9CuxDrNADHwUrT9Zs0DSoDQuzqOzQJfFVK9c7rNAW+p0MOs4tEAgD5WxeYO0QOUztTIIzrRAqVjVs5YYtUBuffU0JWO1QDOiFbazrbVA+MY1N0L4tUC861W40EK2QIIQdjlfjbZARjWWuu3XtkALWrY7fCK3QNB+1rwKbbdAlaP2PZm3t0BZyBa/JwK4QB7tNkC2TLhA4xFXwUSXuECnNndC0+G4QGxbl8NhLLlAMYC3RPB2uUD2pNfFfsG5QLvJ90YNDLpAgO4XyJtWukBEEzhJKqG6QAk4WMq467pAzlx4S0c2u0CSgZjM1YC7QFemuE1ky7tAHMvYzvIVvEA=",
          "dtype": "f8"
         },
         "yaxis": "y"
        }
       ],
       "layout": {
        "annotations": [
         {
          "align": "right",
          "font": {
           "color": "pink",
           "size": 12
          },
          "showarrow": false,
          "text": "y = x",
          "x": 7201.950000000001,
          "y": 7201.950000000001
         },
         {
          "align": "right",
          "font": {
           "color": "black",
           "size": 12
          },
          "showarrow": false,
          "text": "r^2 = 0.93",
          "x": 4318.650000000001,
          "y": 7549.445892169063
         }
        ],
        "height": 600,
        "legend": {
         "tracegroupgap": 0
        },
        "margin": {
         "b": 100,
         "l": 100,
         "r": 100,
         "t": 100
        },
        "shapes": [
         {
          "line": {
           "color": "Red",
           "dash": "dash",
           "width": 2
          },
          "type": "line",
          "x0": 0,
          "x1": 6859,
          "y0": 0,
          "y1": 6859
         }
        ],
        "template": {
         "data": {
          "bar": [
           {
            "error_x": {
             "color": "rgb(36,36,36)"
            },
            "error_y": {
             "color": "rgb(36,36,36)"
            },
            "marker": {
             "line": {
              "color": "white",
              "width": 0.5
             },
             "pattern": {
              "fillmode": "overlay",
              "size": 10,
              "solidity": 0.2
             }
            },
            "type": "bar"
           }
          ],
          "barpolar": [
           {
            "marker": {
             "line": {
              "color": "white",
              "width": 0.5
             },
             "pattern": {
              "fillmode": "overlay",
              "size": 10,
              "solidity": 0.2
             }
            },
            "type": "barpolar"
           }
          ],
          "carpet": [
           {
            "aaxis": {
             "endlinecolor": "rgb(36,36,36)",
             "gridcolor": "white",
             "linecolor": "white",
             "minorgridcolor": "white",
             "startlinecolor": "rgb(36,36,36)"
            },
            "baxis": {
             "endlinecolor": "rgb(36,36,36)",
             "gridcolor": "white",
             "linecolor": "white",
             "minorgridcolor": "white",
             "startlinecolor": "rgb(36,36,36)"
            },
            "type": "carpet"
           }
          ],
          "choropleth": [
           {
            "colorbar": {
             "outlinewidth": 1,
             "tickcolor": "rgb(36,36,36)",
             "ticks": "outside"
            },
            "type": "choropleth"
           }
          ],
          "contour": [
           {
            "colorbar": {
             "outlinewidth": 1,
             "tickcolor": "rgb(36,36,36)",
             "ticks": "outside"
            },
            "colorscale": [
             [
              0.0,
              "#440154"
             ],
             [
              0.1111111111111111,
              "#482878"
             ],
             [
              0.2222222222222222,
              "#3e4989"
             ],
             [
              0.3333333333333333,
              "#31688e"
             ],
             [
              0.4444444444444444,
              "#26828e"
             ],
             [
              0.5555555555555556,
              "#1f9e89"
             ],
             [
              0.6666666666666666,
              "#35b779"
             ],
             [
              0.7777777777777778,
              "#6ece58"
             ],
             [
              0.8888888888888888,
              "#b5de2b"
             ],
             [
              1.0,
              "#fde725"
             ]
            ],
            "type": "contour"
           }
          ],
          "contourcarpet": [
           {
            "colorbar": {
             "outlinewidth": 1,
             "tickcolor": "rgb(36,36,36)",
             "ticks": "outside"
            },
            "type": "contourcarpet"
           }
          ],
          "heatmap": [
           {
            "colorbar": {
             "outlinewidth": 1,
             "tickcolor": "rgb(36,36,36)",
             "ticks": "outside"
            },
            "colorscale": [
             [
              0.0,
              "#440154"
             ],
             [
              0.1111111111111111,
              "#482878"
             ],
             [
              0.2222222222222222,
              "#3e4989"
             ],
             [
              0.3333333333333333,
              "#31688e"
             ],
             [
              0.4444444444444444,
              "#26828e"
             ],
             [
              0.5555555555555556,
              "#1f9e89"
             ],
             [
              0.6666666666666666,
              "#35b779"
             ],
             [
              0.7777777777777778,
              "#6ece58"
             ],
             [
              0.8888888888888888,
              "#b5de2b"
             ],
             [
              1.0,
              "#fde725"
             ]
            ],
            "type": "heatmap"
           }
          ],
          "histogram": [
           {
            "marker": {
             "line": {
              "color": "white",
              "width": 0.6
             }
            },
            "type": "histogram"
           }
          ],
          "histogram2d": [
           {
            "colorbar": {
             "outlinewidth": 1,
             "tickcolor": "rgb(36,36,36)",
             "ticks": "outside"
            },
            "colorscale": [
             [
              0.0,
              "#440154"
             ],
             [
              0.1111111111111111,
              "#482878"
             ],
             [
              0.2222222222222222,
              "#3e4989"
             ],
             [
              0.3333333333333333,
              "#31688e"
             ],
             [
              0.4444444444444444,
              "#26828e"
             ],
             [
              0.5555555555555556,
              "#1f9e89"
             ],
             [
              0.6666666666666666,
              "#35b779"
             ],
             [
              0.7777777777777778,
              "#6ece58"
             ],
             [
              0.8888888888888888,
              "#b5de2b"
             ],
             [
              1.0,
              "#fde725"
             ]
            ],
            "type": "histogram2d"
           }
          ],
          "histogram2dcontour": [
           {
            "colorbar": {
             "outlinewidth": 1,
             "tickcolor": "rgb(36,36,36)",
             "ticks": "outside"
            },
            "colorscale": [
             [
              0.0,
              "#440154"
             ],
             [
              0.1111111111111111,
              "#482878"
             ],
             [
              0.2222222222222222,
              "#3e4989"
             ],
             [
              0.3333333333333333,
              "#31688e"
             ],
             [
              0.4444444444444444,
              "#26828e"
             ],
             [
              0.5555555555555556,
              "#1f9e89"
             ],
             [
              0.6666666666666666,
              "#35b779"
             ],
             [
              0.7777777777777778,
              "#6ece58"
             ],
             [
              0.8888888888888888,
              "#b5de2b"
             ],
             [
              1.0,
              "#fde725"
             ]
            ],
            "type": "histogram2dcontour"
           }
          ],
          "mesh3d": [
           {
            "colorbar": {
             "outlinewidth": 1,
             "tickcolor": "rgb(36,36,36)",
             "ticks": "outside"
            },
            "type": "mesh3d"
           }
          ],
          "parcoords": [
           {
            "line": {
             "colorbar": {
              "outlinewidth": 1,
              "tickcolor": "rgb(36,36,36)",
              "ticks": "outside"
             }
            },
            "type": "parcoords"
           }
          ],
          "pie": [
           {
            "automargin": true,
            "type": "pie"
           }
          ],
          "scatter": [
           {
            "fillpattern": {
             "fillmode": "overlay",
             "size": 10,
             "solidity": 0.2
            },
            "type": "scatter"
           }
          ],
          "scatter3d": [
           {
            "line": {
             "colorbar": {
              "outlinewidth": 1,
              "tickcolor": "rgb(36,36,36)",
              "ticks": "outside"
             }
            },
            "marker": {
             "colorbar": {
              "outlinewidth": 1,
              "tickcolor": "rgb(36,36,36)",
              "ticks": "outside"
             }
            },
            "type": "scatter3d"
           }
          ],
          "scattercarpet": [
           {
            "marker": {
             "colorbar": {
              "outlinewidth": 1,
              "tickcolor": "rgb(36,36,36)",
              "ticks": "outside"
             }
            },
            "type": "scattercarpet"
           }
          ],
          "scattergeo": [
           {
            "marker": {
             "colorbar": {
              "outlinewidth": 1,
              "tickcolor": "rgb(36,36,36)",
              "ticks": "outside"
             }
            },
            "type": "scattergeo"
           }
          ],
          "scattergl": [
           {
            "marker": {
             "colorbar": {
              "outlinewidth": 1,
              "tickcolor": "rgb(36,36,36)",
              "ticks": "outside"
             }
            },
            "type": "scattergl"
           }
          ],
          "scattermap": [
           {
            "marker": {
             "colorbar": {
              "outlinewidth": 1,
              "tickcolor": "rgb(36,36,36)",
              "ticks": "outside"
             }
            },
            "type": "scattermap"
           }
          ],
          "scattermapbox": [
           {
            "marker": {
             "colorbar": {
              "outlinewidth": 1,
              "tickcolor": "rgb(36,36,36)",
              "ticks": "outside"
             }
            },
            "type": "scattermapbox"
           }
          ],
          "scatterpolar": [
           {
            "marker": {
             "colorbar": {
              "outlinewidth": 1,
              "tickcolor": "rgb(36,36,36)",
              "ticks": "outside"
             }
            },
            "type": "scatterpolar"
           }
          ],
          "scatterpolargl": [
           {
            "marker": {
             "colorbar": {
              "outlinewidth": 1,
              "tickcolor": "rgb(36,36,36)",
              "ticks": "outside"
             }
            },
            "type": "scatterpolargl"
           }
          ],
          "scatterternary": [
           {
            "marker": {
             "colorbar": {
              "outlinewidth": 1,
              "tickcolor": "rgb(36,36,36)",
              "ticks": "outside"
             }
            },
            "type": "scatterternary"
           }
          ],
          "surface": [
           {
            "colorbar": {
             "outlinewidth": 1,
             "tickcolor": "rgb(36,36,36)",
             "ticks": "outside"
            },
            "colorscale": [
             [
              0.0,
              "#440154"
             ],
             [
              0.1111111111111111,
              "#482878"
             ],
             [
              0.2222222222222222,
              "#3e4989"
             ],
             [
              0.3333333333333333,
              "#31688e"
             ],
             [
              0.4444444444444444,
              "#26828e"
             ],
             [
              0.5555555555555556,
              "#1f9e89"
             ],
             [
              0.6666666666666666,
              "#35b779"
             ],
             [
              0.7777777777777778,
              "#6ece58"
             ],
             [
              0.8888888888888888,
              "#b5de2b"
             ],
             [
              1.0,
              "#fde725"
             ]
            ],
            "type": "surface"
           }
          ],
          "table": [
           {
            "cells": {
             "fill": {
              "color": "rgb(237,237,237)"
             },
             "line": {
              "color": "white"
             }
            },
            "header": {
             "fill": {
              "color": "rgb(217,217,217)"
             },
             "line": {
              "color": "white"
             }
            },
            "type": "table"
           }
          ]
         },
         "layout": {
          "annotationdefaults": {
           "arrowhead": 0,
           "arrowwidth": 1
          },
          "autotypenumbers": "strict",
          "coloraxis": {
           "colorbar": {
            "outlinewidth": 1,
            "tickcolor": "rgb(36,36,36)",
            "ticks": "outside"
           }
          },
          "colorscale": {
           "diverging": [
            [
             0.0,
             "rgb(103,0,31)"
            ],
            [
             0.1,
             "rgb(178,24,43)"
            ],
            [
             0.2,
             "rgb(214,96,77)"
            ],
            [
             0.3,
             "rgb(244,165,130)"
            ],
            [
             0.4,
             "rgb(253,219,199)"
            ],
            [
             0.5,
             "rgb(247,247,247)"
            ],
            [
             0.6,
             "rgb(209,229,240)"
            ],
            [
             0.7,
             "rgb(146,197,222)"
            ],
            [
             0.8,
             "rgb(67,147,195)"
            ],
            [
             0.9,
             "rgb(33,102,172)"
            ],
            [
             1.0,
             "rgb(5,48,97)"
            ]
           ],
           "sequential": [
            [
             0.0,
             "#440154"
            ],
            [
             0.1111111111111111,
             "#482878"
            ],
            [
             0.2222222222222222,
             "#3e4989"
            ],
            [
             0.3333333333333333,
             "#31688e"
            ],
            [
             0.4444444444444444,
             "#26828e"
            ],
            [
             0.5555555555555556,
             "#1f9e89"
            ],
            [
             0.6666666666666666,
             "#35b779"
            ],
            [
             0.7777777777777778,
             "#6ece58"
            ],
            [
             0.8888888888888888,
             "#b5de2b"
            ],
            [
             1.0,
             "#fde725"
            ]
           ],
           "sequentialminus": [
            [
             0.0,
             "#440154"
            ],
            [
             0.1111111111111111,
             "#482878"
            ],
            [
             0.2222222222222222,
             "#3e4989"
            ],
            [
             0.3333333333333333,
             "#31688e"
            ],
            [
             0.4444444444444444,
             "#26828e"
            ],
            [
             0.5555555555555556,
             "#1f9e89"
            ],
            [
             0.6666666666666666,
             "#35b779"
            ],
            [
             0.7777777777777778,
             "#6ece58"
            ],
            [
             0.8888888888888888,
             "#b5de2b"
            ],
            [
             1.0,
             "#fde725"
            ]
           ]
          },
          "colorway": [
           "#91268F",
           "#8CC63E",
           "#00A7A0",
           "#F05A28",
           "#4C4C4C",
           "#630460",
           "#9f3913",
           "#588527",
           "#00716c",
           "#3e4040"
          ],
          "font": {
           "color": "rgb(36,36,36)",
           "family": "Poppins",
           "size": 11
          },
          "geo": {
           "bgcolor": "white",
           "lakecolor": "white",
           "landcolor": "white",
           "showlakes": true,
           "showland": true,
           "subunitcolor": "white"
          },
          "hoverlabel": {
           "align": "left"
          },
          "hovermode": "closest",
          "mapbox": {
           "style": "light"
          },
          "paper_bgcolor": "white",
          "plot_bgcolor": "white",
          "polar": {
           "angularaxis": {
            "gridcolor": "rgb(232,232,232)",
            "linecolor": "rgb(36,36,36)",
            "showgrid": false,
            "showline": true,
            "ticks": "outside"
           },
           "bgcolor": "white",
           "radialaxis": {
            "gridcolor": "rgb(232,232,232)",
            "linecolor": "rgb(36,36,36)",
            "showgrid": false,
            "showline": true,
            "ticks": "outside"
           }
          },
          "scene": {
           "xaxis": {
            "backgroundcolor": "white",
            "gridcolor": "rgb(232,232,232)",
            "gridwidth": 2,
            "linecolor": "rgb(36,36,36)",
            "showbackground": true,
            "showgrid": false,
            "showline": true,
            "ticks": "outside",
            "zeroline": false,
            "zerolinecolor": "rgb(36,36,36)"
           },
           "yaxis": {
            "backgroundcolor": "white",
            "gridcolor": "rgb(232,232,232)",
            "gridwidth": 2,
            "linecolor": "rgb(36,36,36)",
            "showbackground": true,
            "showgrid": false,
            "showline": true,
            "ticks": "outside",
            "zeroline": false,
            "zerolinecolor": "rgb(36,36,36)"
           },
           "zaxis": {
            "backgroundcolor": "white",
            "gridcolor": "rgb(232,232,232)",
            "gridwidth": 2,
            "linecolor": "rgb(36,36,36)",
            "showbackground": true,
            "showgrid": false,
            "showline": true,
            "ticks": "outside",
            "zeroline": false,
            "zerolinecolor": "rgb(36,36,36)"
           }
          },
          "shapedefaults": {
           "fillcolor": "black",
           "line": {
            "width": 0
           },
           "opacity": 0.3
          },
          "ternary": {
           "aaxis": {
            "gridcolor": "rgb(232,232,232)",
            "linecolor": "rgb(36,36,36)",
            "showgrid": false,
            "showline": true,
            "ticks": "outside"
           },
           "baxis": {
            "gridcolor": "rgb(232,232,232)",
            "linecolor": "rgb(36,36,36)",
            "showgrid": false,
            "showline": true,
            "ticks": "outside"
           },
           "bgcolor": "white",
           "caxis": {
            "gridcolor": "rgb(232,232,232)",
            "linecolor": "rgb(36,36,36)",
            "showgrid": false,
            "showline": true,
            "ticks": "outside"
           }
          },
          "title": {
           "x": 0.05
          },
          "xaxis": {
           "automargin": true,
           "gridcolor": "rgb(232,232,232)",
           "linecolor": "rgb(36,36,36)",
           "showgrid": false,
           "showline": true,
           "ticks": "outside",
           "title": {
            "standoff": 15
           },
           "zeroline": false,
           "zerolinecolor": "rgb(36,36,36)"
          },
          "yaxis": {
           "automargin": true,
           "gridcolor": "rgb(232,232,232)",
           "linecolor": "rgb(36,36,36)",
           "showgrid": false,
           "showline": true,
           "ticks": "outside",
           "title": {
            "standoff": 15
           },
           "zeroline": false,
           "zerolinecolor": "rgb(36,36,36)"
          }
         }
        },
        "title": {
         "text": "Heavy Trucks: Snohomish"
        },
        "width": 800,
        "xaxis": {
         "anchor": "y",
         "domain": [
          0.0,
          1.0
         ],
         "title": {
          "text": "Observed"
         }
        },
        "yaxis": {
         "anchor": "x",
         "domain": [
          0.0,
          1.0
         ],
         "title": {
          "text": "Model"
         }
        }
       }
      },
      "text/html": [
       "<div>            <script src=\"https://cdnjs.cloudflare.com/ajax/libs/mathjax/2.7.5/MathJax.js?config=TeX-AMS-MML_SVG\"></script><script type=\"text/javascript\">if (window.MathJax && window.MathJax.Hub && window.MathJax.Hub.Config) {window.MathJax.Hub.Config({SVG: {font: \"STIX-Web\"}});}</script>                <script type=\"text/javascript\">window.PlotlyConfig = {MathJaxConfig: 'local'};</script>\n",
       "        <script charset=\"utf-8\" src=\"https://cdn.plot.ly/plotly-3.0.1.min.js\"></script>                <div id=\"6f00902c-05f7-490d-8919-88685af6d95e\" class=\"plotly-graph-div\" style=\"height:600px; width:800px;\"></div>            <script type=\"text/javascript\">                window.PLOTLYENV=window.PLOTLYENV || {};                                if (document.getElementById(\"6f00902c-05f7-490d-8919-88685af6d95e\")) {                    Plotly.newPlot(                        \"6f00902c-05f7-490d-8919-88685af6d95e\",                        [{\"customdata\":[[\"I-5 @ 44th NB\",\"Snohomish\"],[\"I-5 @ 44th SB\",\"Snohomish\"],[\"I-5 N\\u002fO 164th NB\",\"Snohomish\"],[\"I-5 N\\u002fO 164th SB\",\"Snohomish\"],[\"I-5 N\\u002fO SR-526 NB\",\"Snohomish\"],[\"I-5 N\\u002fO SR-526 SB\",\"Snohomish\"],[\"I-5 N\\u002fO 41st NB\",\"Snohomish\"],[\"I-5 N\\u002fO 41st SB\",\"Snohomish\"],[\"I-5 @ SR-528 NB\",\"Snohomish\"],[\"I-5 @ SR-528 SB\",\"Snohomish\"],[\"I-5 N\\u002fO SR-531 NB\",\"Snohomish\"],[\"I-5 N\\u002fO SR-531 SB\",\"Snohomish\"],[\"I-405 N\\u002fO SR-527 NB\",\"Snohomish\"],[\"I-405 N\\u002fO SR-527 SB\",\"Snohomish\"],[\"SR-525 N\\u002fO I-5 NB\",\"Snohomish\"],[\"SR-525 N\\u002fO I-5 SB\",\"Snohomish\"],[\"I-5 @ SR-532 NB\\u002fSB\",\"Snohomish\"],[\"I-5 @ Skagit border NB\\u002fSB\",\"Snohomish\"],[\"SR-525 N\\u002fO SR-526 NB\\u002fSB\",\"Snohomish\"],[\"SR-525 N\\u002fO 5th NB\\u002fSB\",\"Snohomish\"],[\"SR-99 E\\u002fO Evergreen NB\\u002fSB\",\"Snohomish\"],[\"SR-526 W\\u002fO Paine Field Blvd WB\\u002fEB\",\"Snohomish\"],[\"SR-526 E\\u002fO Paine Field Blvd WB\\u002fEB\",\"Snohomish\"],[\"SR-9 @ SR-522 NB\\u002fSB\",\"Snohomish\"],[\"SR-9 N\\u002fO SR-2 NB\\u002fSB\",\"Snohomish\"],[\"SR-9 N\\u002fO SR-204 NB\\u002fSB\",\"Snohomish\"],[\"SR-9 N\\u002fO SR-92 NB\\u002fSB\",\"Snohomish\"],[\"SR-9 N\\u002fO 132nd NB\\u002fSB\",\"Snohomish\"],[\"SR-9 N\\u002fO SR-531 NB\\u002fSB\",\"Snohomish\"],[\"SR-9 S\\u002fO 67th NB\\u002fSB\",\"Snohomish\"],[\"SR-9 N\\u002fO Kackman NB\\u002fSB\",\"Snohomish\"],[\"SR-9 N\\u002fO Stanwood-Bryant NB\\u002fSB\",\"Snohomish\"],[\"SR-532 @ Island County WB\\u002fEB\",\"Snohomish\"],[\"SR-532 W\\u002fO 28th WB\\u002fEB\",\"Snohomish\"],[\"SR-104 @ Ferry Loading Edm WB\\u002fEB\",\"Snohomish\"],[\"SR-104 N\\u002fO Pine WB\\u002fEB\",\"Snohomish\"],[\"SR-104 E\\u002fO 5th WB\\u002fEB\",\"Snohomish\"],[\"SR-524 W\\u002fO 3rd WB\\u002fEB\",\"Snohomish\"],[\"SR-524 S\\u002fO Main WB\\u002fEB\",\"Snohomish\"],[\"SR-524 N\\u002fO Main WB\\u002fEB\",\"Snohomish\"],[\"SR-524 E\\u002fO 68th WB\\u002fEB\",\"Snohomish\"],[\"SR-524 E\\u002fO 39th WB\\u002fEB\",\"Snohomish\"],[\"SR-524 N\\u002fO Paradise Lake WB\\u002fEB\",\"Snohomish\"],[\"SR-2 E\\u002fO I-5 WB\\u002fEB\",\"Snohomish\"],[\"SR-2 S\\u002fO SR-204 WB\\u002fEB\",\"Snohomish\"],[\"SR-2 E\\u002fO Main WB\\u002fEB\",\"Snohomish\"],[\"SR-2 E\\u002fO Rice WB\\u002fEB\",\"Snohomish\"],[\"SR-2 E\\u002fO 10th (Gold Bar) WB\\u002fEB\",\"Snohomish\"],[\"SR-2 W\\u002fO Index-Galena WB\\u002fEB\",\"Snohomish\"],[\"SR-2 E\\u002fO Index-Galena WB\\u002fEB\",\"Snohomish\"],[\"SR-527 N\\u002fO I-405 NB\\u002fSB\",\"Snohomish\"],[\"SR-527 N\\u002fO 196th NB\\u002fSB\",\"Snohomish\"],[\"SR-527 N\\u002fO Dumas NB\\u002fSB\",\"Snohomish\"],[\"SR-527 N\\u002fO 100th NB\\u002fSB\",\"Snohomish\"],[\"SR-529 @ I-5 (Evt) NB\\u002fSB\",\"Snohomish\"],[\"SR-529 S\\u002fO Everett NB\\u002fSB\",\"Snohomish\"],[\"SR-529 W\\u002fO Maple NB\\u002fSB\",\"Snohomish\"],[\"SR-529 N\\u002fO Everett NB\\u002fSB\",\"Snohomish\"],[\"SR-529 N\\u002fO Broadway NB\\u002fSB\",\"Snohomish\"],[\"SR-96 @ I-5 WB\\u002fEB\",\"Snohomish\"],[\"SR-96 N\\u002fO 132nd WB\\u002fEB\",\"Snohomish\"],[\"SR-96 E\\u002fO Seattle Hill WB\\u002fEB\",\"Snohomish\"],[\"SR-528 @ I-5 WB\\u002fEB\",\"Snohomish\"],[\"SR-528 E\\u002fO SR-529 WB\\u002fEB\",\"Snohomish\"],[\"SR-531 N\\u002fO Rose WB\\u002fEB\",\"Snohomish\"],[\"SR-531 E\\u002fO Lk Goodwin WB\\u002fEB\",\"Snohomish\"],[\"SR-531 E\\u002fO 27th WB\\u002fEB\",\"Snohomish\"],[\"SR-531 E\\u002fO I-5 WB\\u002fEB\",\"Snohomish\"],[\"SR-531 E\\u002fO 43rd WB\\u002fEB\",\"Snohomish\"],[\"SR-531 W\\u002fO 67th WB\\u002fEB\",\"Snohomish\"],[\"SR-531 E\\u002fO 67th WB\\u002fEB\",\"Snohomish\"],[\"SR-530 @ I-5 WB\\u002fEB\",\"Snohomish\"],[\"SR-530 E\\u002fO Smokey Pt WB\\u002fEB\",\"Snohomish\"],[\"SR-530 N\\u002fO 211th WB\\u002fEB\",\"Snohomish\"],[\"SR-530 E\\u002fO SR-9 WB\\u002fEB\",\"Snohomish\"],[\"SR-530 W\\u002fO Arlington Hts WB\\u002fEB\",\"Snohomish\"],[\"SR-530 E\\u002fO Arlington Hts WB\\u002fEB\",\"Snohomish\"],[\"SR-530 W\\u002fO Jim Creek WB\\u002fEB\",\"Snohomish\"],[\"SR-530 W\\u002fO Ramstad WB\\u002fEB\",\"Snohomish\"],[\"SR-530 @ Skagit County WB\\u002fEB\",\"Snohomish\"],[\"SR-203 N\\u002fO 203rd NB\\u002fSB\",\"Snohomish\"],[\"SR-204 @ SR-2 NB\\u002fSB\",\"Snohomish\"],[\"SR-204 N\\u002fO 20th NB\\u002fSB\",\"Snohomish\"],[\"SR-204 N\\u002fO SR-2 NB\\u002fSB\",\"Snohomish\"],[\"SR-92 E\\u002fO Lake WB\\u002fEB\",\"Snohomish\"],[\"SR-92 E\\u002fO Callow WB\\u002fEB\",\"Snohomish\"],[\"SR-92 E\\u002fO Quarry WB\\u002fEB\",\"Snohomish\"],[\"SR-92 W\\u002fO Mountain Loop WB\\u002fEB\",\"Snohomish\"]],\"hovertemplate\":\"Observed=%{x}\\u003cbr\\u003eModel=%{y}\\u003cbr\\u003elocation=%{customdata[0]}\\u003cbr\\u003eCounty=%{customdata[1]}\\u003cextra\\u003e\\u003c\\u002fextra\\u003e\",\"legendgroup\":\"\",\"marker\":{\"color\":\"#91268F\",\"symbol\":\"circle\"},\"mode\":\"markers\",\"name\":\"\",\"orientation\":\"v\",\"showlegend\":false,\"x\":{\"dtype\":\"i2\",\"bdata\":\"cwuHC7QMygyGDDENrgpfDOMLNgwACQwJSwWRBZMBEgHUDxEQrQAwAHsAYwBcALsCHQGNAj0BdAGpAOUApwBSADUBSAE7ADcASAAIAAYABgBMALAA+wF7A2oD+gGkAbwB8wDAAAkBFwEsAJwAWAAxAEEAVAA5A9wAKgA+AAQBSgESAGMArQG5ArgCVAG2AMECYQLQAZABkwF\\u002fAXwBKwEvAJgBOgA3AJAB7gHAATwAzgI=\"},\"xaxis\":\"x\",\"y\":{\"dtype\":\"i2\",\"bdata\":\"kxNJFPEYSxhYFwsXCRevFqUTjhM3DyMPBAmjBx4D9ALLGi8aZgBzAAAAAgA5AGwB8wA0Ac8BYgAeACAAMwC9AHMAeAAAACMAIwADAAAAAwAIABYAtQBFA2oCaQfYB8MHwwdaB0YAOgACAAgAeAA8AAwAcQAXAE4AFgAEAPEC4wABAAcA0wA6Bf4EQABEAHMAmwCXAIQAhgCFAIUAhQABADACJQA6AB0B1ADUAAAAPAA=\"},\"yaxis\":\"y\",\"type\":\"scatter\",\"line\":{\"color\":\"Grey\",\"width\":2}},{\"hovertemplate\":\"Observed=%{x}\\u003cbr\\u003eModel=%{y}\\u003cextra\\u003e\\u003c\\u002fextra\\u003e\",\"legendgroup\":\"\",\"line\":{\"color\":\"Grey\",\"dash\":\"solid\",\"width\":2},\"marker\":{\"symbol\":\"circle\"},\"mode\":\"lines\",\"name\":\"\",\"orientation\":\"v\",\"showlegend\":false,\"x\":{\"dtype\":\"f8\",\"bdata\":\"AAAAAAAAAABGF1100cVEQEYXXXTRxVRA6aKLLrooX0BGF1100cVkQBhddNFF92lA6aKLLroob0BddNFFFy1yQEYXXXTRxXRAL7roooted0AYXXTRRfd5QAAAAAAAkHxA6aKLLroof0DpoosuuuCAQF100UUXLYJA0kUXXXR5g0BGF1100cWEQLrooosuEoZAL7roooteh0Cjiy666KqIQBhddNFF94lAjC666KJDi0AAAAAAAJCMQHXRRRdd3I1A6aKLLrooj0AvuuiiizqQQOmiiy664JBAo4suuuiGkUBddNFFFy2SQBdddNFF05JA0kUXXXR5k0CMLrrooh+UQEYXXXTRxZRAAAAAAABslUC66KKLLhKWQHXRRRdduJZAL7roootel0DpoosuugSYQKOLLrroqphAXXTRRRdRmUAYXXTRRfeZQNJFF110nZpAjC666KJDm0BGF1100embQAAAAAAAkJxAuuiiiy42nUB10UUXXdydQC+66KKLgp5A6aKLLroon0Cjiy666M6fQC+66KKLOqBAjC666KKNoEDpoosuuuCgQEYXXXTRM6FAo4suuuiGoUAAAAAAANqhQF100UUXLaJAuuiiiy6AokAXXXTRRdOiQHXRRRddJqNA0kUXXXR5o0Avuuiii8yjQIwuuuiiH6RA6aKLLrpypEBGF1100cWkQKOLLrroGKVAAAAAAABspUBddNFFF7+lQLrooosuEqZAF1100UVlpkB10UUXXbimQNJFF110C6dAL7roootep0CMLrroorGnQOmiiy66BKhARhdddNFXqECjiy666KqoQAAAAAAA\\u002fqhAXXTRRRdRqUC66KKLLqSpQBhddNFF96lAddFFF11KqkDSRRdddJ2qQC+66KKL8KpAjC666KJDq0DpoosuuparQEYXXXTR6atAo4suuug8rEAAAAAAAJCsQF100UUX46xAuuiiiy42rUAYXXTRRYmtQHXRRRdd3K1A0kUXXXQvrkAvuuiii4KuQIwuuuii1a5A6aKLLroor0BGF1100XuvQKOLLrrozq9AAAAAAAARsEA=\"},\"xaxis\":\"x\",\"y\":{\"dtype\":\"f8\",\"bdata\":\"gJ+tEiTlZ8DPDVLdpyZdwDy5kSoPBkXAKKmAZTFBQEDEhcn6OMRaQHxbaaHss2ZACvq2Yt4CcEBWRrl0xqt0QKKSu4auVHlA7t69mJb9fUCeFWBVP1OBQMM7YV6zp4NA6mFiZyf8hUAQiGNwm1CIQDauZHkPpYpAXNRlgoP5jECC+maL902PQFQQNMo10ZBAZ6O0zm\\u002f7kUB6NjXTqSWTQI7JtdfjT5RAoVw23B16lUCz77bgV6SWQMeCN+WRzpdA2hW46cv4mEDtqDjuBSOaQAA8ufI\\u002fTZtAE88593l3nEAmYrr7s6GdQDj1OgDuy55ATIi7BCj2n0CwDZ4EMZCgQDlX3gZOJaFAwqAeCWu6oUBM6l4LiE+iQNYznw2l5KJAX33fD8J5o0Dpxh8S3w6kQHIQYBT8o6RA\\u002fFmgFhk5pUCGo+AYNs6lQA\\u002ftIBtTY6ZAmTZhHXD4pkAigKEfjY2nQKvJ4SGqIqhANRMiJMe3qEC\\u002fXGIm5EypQEimoigB4qlA0u\\u002fiKh53qkBbOSMtOwyrQOWCYy9YoatAb8yjMXU2rED4FeQzksusQIFfJDavYK1AC6lkOMz1rUCU8qQ66YquQB485TwGIK9ApoUlPyO1r0CY57IgICWwQF4M06Gub7BAIjHzIj26sEDnVROkywSxQKx6MyVaT7FAcJ9TpuiZsUA1xHMnd+SxQProk6gFL7JAvg20KZR5skCDMtSqIsSyQEhX9CuxDrNADHwUrT9Zs0DSoDQuzqOzQJfFVK9c7rNAW+p0MOs4tEAgD5WxeYO0QOUztTIIzrRAqVjVs5YYtUBuffU0JWO1QDOiFbazrbVA+MY1N0L4tUC861W40EK2QIIQdjlfjbZARjWWuu3XtkALWrY7fCK3QNB+1rwKbbdAlaP2PZm3t0BZyBa\\u002fJwK4QB7tNkC2TLhA4xFXwUSXuECnNndC0+G4QGxbl8NhLLlAMYC3RPB2uUD2pNfFfsG5QLvJ90YNDLpAgO4XyJtWukBEEzhJKqG6QAk4WMq467pAzlx4S0c2u0CSgZjM1YC7QFemuE1ky7tAHMvYzvIVvEA=\"},\"yaxis\":\"y\",\"type\":\"scatter\"}],                        {\"template\":{\"data\":{\"barpolar\":[{\"marker\":{\"line\":{\"color\":\"white\",\"width\":0.5},\"pattern\":{\"fillmode\":\"overlay\",\"size\":10,\"solidity\":0.2}},\"type\":\"barpolar\"}],\"bar\":[{\"error_x\":{\"color\":\"rgb(36,36,36)\"},\"error_y\":{\"color\":\"rgb(36,36,36)\"},\"marker\":{\"line\":{\"color\":\"white\",\"width\":0.5},\"pattern\":{\"fillmode\":\"overlay\",\"size\":10,\"solidity\":0.2}},\"type\":\"bar\"}],\"carpet\":[{\"aaxis\":{\"endlinecolor\":\"rgb(36,36,36)\",\"gridcolor\":\"white\",\"linecolor\":\"white\",\"minorgridcolor\":\"white\",\"startlinecolor\":\"rgb(36,36,36)\"},\"baxis\":{\"endlinecolor\":\"rgb(36,36,36)\",\"gridcolor\":\"white\",\"linecolor\":\"white\",\"minorgridcolor\":\"white\",\"startlinecolor\":\"rgb(36,36,36)\"},\"type\":\"carpet\"}],\"choropleth\":[{\"colorbar\":{\"outlinewidth\":1,\"tickcolor\":\"rgb(36,36,36)\",\"ticks\":\"outside\"},\"type\":\"choropleth\"}],\"contourcarpet\":[{\"colorbar\":{\"outlinewidth\":1,\"tickcolor\":\"rgb(36,36,36)\",\"ticks\":\"outside\"},\"type\":\"contourcarpet\"}],\"contour\":[{\"colorbar\":{\"outlinewidth\":1,\"tickcolor\":\"rgb(36,36,36)\",\"ticks\":\"outside\"},\"colorscale\":[[0.0,\"#440154\"],[0.1111111111111111,\"#482878\"],[0.2222222222222222,\"#3e4989\"],[0.3333333333333333,\"#31688e\"],[0.4444444444444444,\"#26828e\"],[0.5555555555555556,\"#1f9e89\"],[0.6666666666666666,\"#35b779\"],[0.7777777777777778,\"#6ece58\"],[0.8888888888888888,\"#b5de2b\"],[1.0,\"#fde725\"]],\"type\":\"contour\"}],\"heatmap\":[{\"colorbar\":{\"outlinewidth\":1,\"tickcolor\":\"rgb(36,36,36)\",\"ticks\":\"outside\"},\"colorscale\":[[0.0,\"#440154\"],[0.1111111111111111,\"#482878\"],[0.2222222222222222,\"#3e4989\"],[0.3333333333333333,\"#31688e\"],[0.4444444444444444,\"#26828e\"],[0.5555555555555556,\"#1f9e89\"],[0.6666666666666666,\"#35b779\"],[0.7777777777777778,\"#6ece58\"],[0.8888888888888888,\"#b5de2b\"],[1.0,\"#fde725\"]],\"type\":\"heatmap\"}],\"histogram2dcontour\":[{\"colorbar\":{\"outlinewidth\":1,\"tickcolor\":\"rgb(36,36,36)\",\"ticks\":\"outside\"},\"colorscale\":[[0.0,\"#440154\"],[0.1111111111111111,\"#482878\"],[0.2222222222222222,\"#3e4989\"],[0.3333333333333333,\"#31688e\"],[0.4444444444444444,\"#26828e\"],[0.5555555555555556,\"#1f9e89\"],[0.6666666666666666,\"#35b779\"],[0.7777777777777778,\"#6ece58\"],[0.8888888888888888,\"#b5de2b\"],[1.0,\"#fde725\"]],\"type\":\"histogram2dcontour\"}],\"histogram2d\":[{\"colorbar\":{\"outlinewidth\":1,\"tickcolor\":\"rgb(36,36,36)\",\"ticks\":\"outside\"},\"colorscale\":[[0.0,\"#440154\"],[0.1111111111111111,\"#482878\"],[0.2222222222222222,\"#3e4989\"],[0.3333333333333333,\"#31688e\"],[0.4444444444444444,\"#26828e\"],[0.5555555555555556,\"#1f9e89\"],[0.6666666666666666,\"#35b779\"],[0.7777777777777778,\"#6ece58\"],[0.8888888888888888,\"#b5de2b\"],[1.0,\"#fde725\"]],\"type\":\"histogram2d\"}],\"histogram\":[{\"marker\":{\"line\":{\"color\":\"white\",\"width\":0.6}},\"type\":\"histogram\"}],\"mesh3d\":[{\"colorbar\":{\"outlinewidth\":1,\"tickcolor\":\"rgb(36,36,36)\",\"ticks\":\"outside\"},\"type\":\"mesh3d\"}],\"parcoords\":[{\"line\":{\"colorbar\":{\"outlinewidth\":1,\"tickcolor\":\"rgb(36,36,36)\",\"ticks\":\"outside\"}},\"type\":\"parcoords\"}],\"pie\":[{\"automargin\":true,\"type\":\"pie\"}],\"scatter3d\":[{\"line\":{\"colorbar\":{\"outlinewidth\":1,\"tickcolor\":\"rgb(36,36,36)\",\"ticks\":\"outside\"}},\"marker\":{\"colorbar\":{\"outlinewidth\":1,\"tickcolor\":\"rgb(36,36,36)\",\"ticks\":\"outside\"}},\"type\":\"scatter3d\"}],\"scattercarpet\":[{\"marker\":{\"colorbar\":{\"outlinewidth\":1,\"tickcolor\":\"rgb(36,36,36)\",\"ticks\":\"outside\"}},\"type\":\"scattercarpet\"}],\"scattergeo\":[{\"marker\":{\"colorbar\":{\"outlinewidth\":1,\"tickcolor\":\"rgb(36,36,36)\",\"ticks\":\"outside\"}},\"type\":\"scattergeo\"}],\"scattergl\":[{\"marker\":{\"colorbar\":{\"outlinewidth\":1,\"tickcolor\":\"rgb(36,36,36)\",\"ticks\":\"outside\"}},\"type\":\"scattergl\"}],\"scattermapbox\":[{\"marker\":{\"colorbar\":{\"outlinewidth\":1,\"tickcolor\":\"rgb(36,36,36)\",\"ticks\":\"outside\"}},\"type\":\"scattermapbox\"}],\"scattermap\":[{\"marker\":{\"colorbar\":{\"outlinewidth\":1,\"tickcolor\":\"rgb(36,36,36)\",\"ticks\":\"outside\"}},\"type\":\"scattermap\"}],\"scatterpolargl\":[{\"marker\":{\"colorbar\":{\"outlinewidth\":1,\"tickcolor\":\"rgb(36,36,36)\",\"ticks\":\"outside\"}},\"type\":\"scatterpolargl\"}],\"scatterpolar\":[{\"marker\":{\"colorbar\":{\"outlinewidth\":1,\"tickcolor\":\"rgb(36,36,36)\",\"ticks\":\"outside\"}},\"type\":\"scatterpolar\"}],\"scatter\":[{\"fillpattern\":{\"fillmode\":\"overlay\",\"size\":10,\"solidity\":0.2},\"type\":\"scatter\"}],\"scatterternary\":[{\"marker\":{\"colorbar\":{\"outlinewidth\":1,\"tickcolor\":\"rgb(36,36,36)\",\"ticks\":\"outside\"}},\"type\":\"scatterternary\"}],\"surface\":[{\"colorbar\":{\"outlinewidth\":1,\"tickcolor\":\"rgb(36,36,36)\",\"ticks\":\"outside\"},\"colorscale\":[[0.0,\"#440154\"],[0.1111111111111111,\"#482878\"],[0.2222222222222222,\"#3e4989\"],[0.3333333333333333,\"#31688e\"],[0.4444444444444444,\"#26828e\"],[0.5555555555555556,\"#1f9e89\"],[0.6666666666666666,\"#35b779\"],[0.7777777777777778,\"#6ece58\"],[0.8888888888888888,\"#b5de2b\"],[1.0,\"#fde725\"]],\"type\":\"surface\"}],\"table\":[{\"cells\":{\"fill\":{\"color\":\"rgb(237,237,237)\"},\"line\":{\"color\":\"white\"}},\"header\":{\"fill\":{\"color\":\"rgb(217,217,217)\"},\"line\":{\"color\":\"white\"}},\"type\":\"table\"}]},\"layout\":{\"annotationdefaults\":{\"arrowhead\":0,\"arrowwidth\":1},\"autotypenumbers\":\"strict\",\"coloraxis\":{\"colorbar\":{\"outlinewidth\":1,\"tickcolor\":\"rgb(36,36,36)\",\"ticks\":\"outside\"}},\"colorscale\":{\"diverging\":[[0.0,\"rgb(103,0,31)\"],[0.1,\"rgb(178,24,43)\"],[0.2,\"rgb(214,96,77)\"],[0.3,\"rgb(244,165,130)\"],[0.4,\"rgb(253,219,199)\"],[0.5,\"rgb(247,247,247)\"],[0.6,\"rgb(209,229,240)\"],[0.7,\"rgb(146,197,222)\"],[0.8,\"rgb(67,147,195)\"],[0.9,\"rgb(33,102,172)\"],[1.0,\"rgb(5,48,97)\"]],\"sequential\":[[0.0,\"#440154\"],[0.1111111111111111,\"#482878\"],[0.2222222222222222,\"#3e4989\"],[0.3333333333333333,\"#31688e\"],[0.4444444444444444,\"#26828e\"],[0.5555555555555556,\"#1f9e89\"],[0.6666666666666666,\"#35b779\"],[0.7777777777777778,\"#6ece58\"],[0.8888888888888888,\"#b5de2b\"],[1.0,\"#fde725\"]],\"sequentialminus\":[[0.0,\"#440154\"],[0.1111111111111111,\"#482878\"],[0.2222222222222222,\"#3e4989\"],[0.3333333333333333,\"#31688e\"],[0.4444444444444444,\"#26828e\"],[0.5555555555555556,\"#1f9e89\"],[0.6666666666666666,\"#35b779\"],[0.7777777777777778,\"#6ece58\"],[0.8888888888888888,\"#b5de2b\"],[1.0,\"#fde725\"]]},\"colorway\":[\"#91268F\",\"#8CC63E\",\"#00A7A0\",\"#F05A28\",\"#4C4C4C\",\"#630460\",\"#9f3913\",\"#588527\",\"#00716c\",\"#3e4040\"],\"font\":{\"color\":\"rgb(36,36,36)\",\"family\":\"Poppins\",\"size\":11},\"geo\":{\"bgcolor\":\"white\",\"lakecolor\":\"white\",\"landcolor\":\"white\",\"showlakes\":true,\"showland\":true,\"subunitcolor\":\"white\"},\"hoverlabel\":{\"align\":\"left\"},\"hovermode\":\"closest\",\"mapbox\":{\"style\":\"light\"},\"paper_bgcolor\":\"white\",\"plot_bgcolor\":\"white\",\"polar\":{\"angularaxis\":{\"gridcolor\":\"rgb(232,232,232)\",\"linecolor\":\"rgb(36,36,36)\",\"showgrid\":false,\"showline\":true,\"ticks\":\"outside\"},\"bgcolor\":\"white\",\"radialaxis\":{\"gridcolor\":\"rgb(232,232,232)\",\"linecolor\":\"rgb(36,36,36)\",\"showgrid\":false,\"showline\":true,\"ticks\":\"outside\"}},\"scene\":{\"xaxis\":{\"backgroundcolor\":\"white\",\"gridcolor\":\"rgb(232,232,232)\",\"gridwidth\":2,\"linecolor\":\"rgb(36,36,36)\",\"showbackground\":true,\"showgrid\":false,\"showline\":true,\"ticks\":\"outside\",\"zeroline\":false,\"zerolinecolor\":\"rgb(36,36,36)\"},\"yaxis\":{\"backgroundcolor\":\"white\",\"gridcolor\":\"rgb(232,232,232)\",\"gridwidth\":2,\"linecolor\":\"rgb(36,36,36)\",\"showbackground\":true,\"showgrid\":false,\"showline\":true,\"ticks\":\"outside\",\"zeroline\":false,\"zerolinecolor\":\"rgb(36,36,36)\"},\"zaxis\":{\"backgroundcolor\":\"white\",\"gridcolor\":\"rgb(232,232,232)\",\"gridwidth\":2,\"linecolor\":\"rgb(36,36,36)\",\"showbackground\":true,\"showgrid\":false,\"showline\":true,\"ticks\":\"outside\",\"zeroline\":false,\"zerolinecolor\":\"rgb(36,36,36)\"}},\"shapedefaults\":{\"fillcolor\":\"black\",\"line\":{\"width\":0},\"opacity\":0.3},\"ternary\":{\"aaxis\":{\"gridcolor\":\"rgb(232,232,232)\",\"linecolor\":\"rgb(36,36,36)\",\"showgrid\":false,\"showline\":true,\"ticks\":\"outside\"},\"baxis\":{\"gridcolor\":\"rgb(232,232,232)\",\"linecolor\":\"rgb(36,36,36)\",\"showgrid\":false,\"showline\":true,\"ticks\":\"outside\"},\"bgcolor\":\"white\",\"caxis\":{\"gridcolor\":\"rgb(232,232,232)\",\"linecolor\":\"rgb(36,36,36)\",\"showgrid\":false,\"showline\":true,\"ticks\":\"outside\"}},\"title\":{\"x\":0.05},\"xaxis\":{\"automargin\":true,\"gridcolor\":\"rgb(232,232,232)\",\"linecolor\":\"rgb(36,36,36)\",\"showgrid\":false,\"showline\":true,\"ticks\":\"outside\",\"title\":{\"standoff\":15},\"zeroline\":false,\"zerolinecolor\":\"rgb(36,36,36)\"},\"yaxis\":{\"automargin\":true,\"gridcolor\":\"rgb(232,232,232)\",\"linecolor\":\"rgb(36,36,36)\",\"showgrid\":false,\"showline\":true,\"ticks\":\"outside\",\"title\":{\"standoff\":15},\"zeroline\":false,\"zerolinecolor\":\"rgb(36,36,36)\"}}},\"xaxis\":{\"anchor\":\"y\",\"domain\":[0.0,1.0],\"title\":{\"text\":\"Observed\"}},\"yaxis\":{\"anchor\":\"x\",\"domain\":[0.0,1.0],\"title\":{\"text\":\"Model\"}},\"legend\":{\"tracegroupgap\":0},\"title\":{\"text\":\"Heavy Trucks: Snohomish\"},\"margin\":{\"l\":100,\"r\":100,\"t\":100,\"b\":100},\"height\":600,\"width\":800,\"shapes\":[{\"line\":{\"color\":\"Red\",\"dash\":\"dash\",\"width\":2},\"type\":\"line\",\"x0\":0,\"x1\":6859,\"y0\":0,\"y1\":6859}],\"annotations\":[{\"align\":\"right\",\"font\":{\"color\":\"pink\",\"size\":12},\"showarrow\":false,\"text\":\"y = x\",\"x\":7201.950000000001,\"y\":7201.950000000001},{\"align\":\"right\",\"font\":{\"color\":\"black\",\"size\":12},\"showarrow\":false,\"text\":\"r^2 = 0.93\",\"x\":4318.650000000001,\"y\":7549.445892169063}]},                        {\"responsive\": true}                    ).then(function(){\n",
       "                            \n",
       "var gd = document.getElementById('6f00902c-05f7-490d-8919-88685af6d95e');\n",
       "var x = new MutationObserver(function (mutations, observer) {{\n",
       "        var display = window.getComputedStyle(gd).display;\n",
       "        if (!display || display === 'none') {{\n",
       "            console.log([gd, 'removed!']);\n",
       "            Plotly.purge(gd);\n",
       "            observer.disconnect();\n",
       "        }}\n",
       "}});\n",
       "\n",
       "// Listen for the removal of the full notebook cells\n",
       "var notebookContainer = gd.closest('#notebook-container');\n",
       "if (notebookContainer) {{\n",
       "    x.observe(notebookContainer, {childList: true});\n",
       "}}\n",
       "\n",
       "// Listen for the clearing of the current output cell\n",
       "var outputEl = gd.closest('.output');\n",
       "if (outputEl) {{\n",
       "    x.observe(outputEl, {childList: true});\n",
       "}}\n",
       "\n",
       "                        })                };            </script>        </div>"
      ]
     },
     "metadata": {},
     "output_type": "display_data"
    }
   ],
   "source": [
    "fig = create_truck_chart(df_daily_heavy, 'Heavy', 'Snohomish')\n",
    "fig.show()"
   ]
  },
  {
   "cell_type": "raw",
   "id": "f8527f4f",
   "metadata": {
    "vscode": {
     "languageId": "raw"
    }
   },
   "source": [
    ":::"
   ]
  },
  {
   "cell_type": "markdown",
   "id": "0182397d",
   "metadata": {},
   "source": [
    "### Medium Truck Counts"
   ]
  },
  {
   "cell_type": "raw",
   "id": "076ed585",
   "metadata": {},
   "source": [
    ":::{.panel-tabset}\n",
    "\n",
    "#### Region"
   ]
  },
  {
   "cell_type": "code",
   "execution_count": 29,
   "id": "642f14ef",
   "metadata": {
    "execution": {
     "iopub.execute_input": "2025-05-01T14:38:17.524983Z",
     "iopub.status.busy": "2025-05-01T14:38:17.523986Z",
     "iopub.status.idle": "2025-05-01T14:38:17.648704Z",
     "shell.execute_reply": "2025-05-01T14:38:17.647651Z"
    }
   },
   "outputs": [
    {
     "data": {
      "application/vnd.plotly.v1+json": {
       "config": {
        "plotlyServerURL": "https://plot.ly"
       },
       "data": [
        {
         "customdata": [
          [
           "I-5 S/O Mounts NB",
           "Pierce"
          ],
          [
           "I-5 S/O Mounts SB",
           "Pierce"
          ],
          [
           "I-5 S/O Division NB",
           "Pierce"
          ],
          [
           "I-5 S/O Division SB",
           "Pierce"
          ],
          [
           "I-5 @ N/O Division NB",
           "Pierce"
          ],
          [
           "I-5 @ N/O Division SB",
           "Pierce"
          ],
          [
           "I-5 S/O SR-512 NB",
           "Pierce"
          ],
          [
           "I-5 S/O SR-512 SB",
           "Pierce"
          ],
          [
           "I-5 N/O SR-512 NB",
           "Pierce"
          ],
          [
           "I-5 N/O SR-512 SB",
           "Pierce"
          ],
          [
           "I-5 N/O 56th NB",
           "Pierce"
          ],
          [
           "I-5 N/O 56th SB",
           "Pierce"
          ],
          [
           "I-5 E/O SR-16 NB",
           "Pierce"
          ],
          [
           "I-5 E/O SR-16 SB",
           "Pierce"
          ],
          [
           "I-5 E/O Port of Tacoma NB",
           "Pierce"
          ],
          [
           "I-5 E/O Port of Tacoma SB (HOV from 56)",
           "Pierce"
          ],
          [
           "I-5 S/O 205th NB",
           "King"
          ],
          [
           "I-5 S/O 205th SB",
           "King"
          ],
          [
           "I-5 @ 44th NB",
           "Snohomish"
          ],
          [
           "I-5 @ 44th SB",
           "Snohomish"
          ],
          [
           "I-5 N/O 164th NB",
           "Snohomish"
          ],
          [
           "I-5 N/O 164th SB",
           "Snohomish"
          ],
          [
           "I-5 N/O SR-526 NB",
           "Snohomish"
          ],
          [
           "I-5 N/O SR-526 SB",
           "Snohomish"
          ],
          [
           "I-5 N/O 41st NB",
           "Snohomish"
          ],
          [
           "I-5 N/O 41st SB",
           "Snohomish"
          ],
          [
           "I-5 @ SR-528 NB",
           "Snohomish"
          ],
          [
           "I-5 @ SR-528 SB",
           "Snohomish"
          ],
          [
           "I-5 N/O SR-531 NB",
           "Snohomish"
          ],
          [
           "I-5 N/O SR-531 SB",
           "Snohomish"
          ],
          [
           "I-5 Rev N/O I-5 GP NB/SB",
           "King"
          ],
          [
           "I-90 E/O I-5 WB",
           "King"
          ],
          [
           "I-90 E/O I-5 EB",
           "King"
          ],
          [
           "I-90 E/O W Lk Sam WB",
           "King"
          ],
          [
           "I-90 E/O W Lk Sam EB",
           "King"
          ],
          [
           "I-90 E/O SR-900 WB",
           "King"
          ],
          [
           "I-405 @ I-5 Southcenter NB",
           "King"
          ],
          [
           "I-405 @ I-5 Southcenter SB",
           "King"
          ],
          [
           "I-405 @ Lake Wash Blvd NB",
           "King"
          ],
          [
           "I-405 @ I-90 NB",
           "King"
          ],
          [
           "I-405 @ I-90 SB",
           "King"
          ],
          [
           "I-405 N/O SR-527 NB",
           "Snohomish"
          ],
          [
           "I-405 N/O SR-527 SB",
           "Snohomish"
          ],
          [
           "SR-525 N/O I-5 NB",
           "Snohomish"
          ],
          [
           "SR-525 N/O I-5 SB",
           "Snohomish"
          ],
          [
           "SR-520 @ x-lake bridge WB",
           "King"
          ],
          [
           "SR-520 @ x-lake bridge EB",
           "King"
          ],
          [
           "SR-167 S/O 43rd NB",
           "King"
          ],
          [
           "SR-167 S/O 43rd SB",
           "King"
          ],
          [
           "SR-167 N/O SR-18 NB",
           "King"
          ],
          [
           "SR-167 N/O SR-18 SB",
           "King"
          ],
          [
           "SR-167 S/O 15th SW NB",
           "King"
          ],
          [
           "SR-167 S/O 15th SW SB",
           "King"
          ],
          [
           "SR-512 W/O Meridian WB",
           "Pierce"
          ],
          [
           "SR-512 W/O Meridian EB",
           "Pierce"
          ],
          [
           "SR-509 @ Holden NB",
           "King"
          ],
          [
           "SR-509 @ Holden SB",
           "King"
          ],
          [
           "SR-99 N/O 14th NB",
           "King"
          ],
          [
           "SR-99 N/O 14th SB",
           "King"
          ],
          [
           "SR-99 N/O WSF NB",
           "King"
          ],
          [
           "SR-99 N/O WSF SB",
           "King"
          ],
          [
           "SR-99 tunnel NB",
           "King"
          ],
          [
           "SR-99 tunnel SB",
           "King"
          ],
          [
           "SR-599 S/O Pacific NB",
           "King"
          ],
          [
           "SR-599 S/O Pacific SB",
           "King"
          ],
          [
           "SR-599 @ Pacific NB",
           "King"
          ],
          [
           "SR-599 @ Pacific SB",
           "King"
          ],
          [
           "SR-18 @ I-5 WB",
           "King"
          ],
          [
           "SR-18 @ I-5 EB",
           "King"
          ],
          [
           "SR-18 W/O Auburn-Black Diamond WB",
           "King"
          ],
          [
           "SR-18 W/O Auburn-Black Diamond EB",
           "King"
          ],
          [
           "SR-18 E/O SR-516 WB",
           "King"
          ],
          [
           "SR-18 E/O SR-516 EB",
           "King"
          ],
          [
           "SR-18 E/O 256th WB",
           "King"
          ],
          [
           "SR-18 E/O 256th EB",
           "King"
          ],
          [
           "SR-522 N/O 195th WB",
           "King"
          ],
          [
           "SR-522 N/O 195th EB",
           "King"
          ],
          [
           "I-5 N/O I-5 Rev CBD NB/SB",
           "King"
          ],
          [
           "I-5 @ SR-532 NB/SB",
           "Snohomish"
          ],
          [
           "I-5 @ Skagit border NB/SB",
           "Snohomish"
          ],
          [
           "I-90 W/O SR-18 WB/EB",
           "King"
          ],
          [
           "I-90 E/O SR-18 WB/EB",
           "King"
          ],
          [
           "I-90 E/O 436th WB/EB",
           "King"
          ],
          [
           "I-90 @ Kittitas County WB/EB",
           "King"
          ],
          [
           "I-405 N/O SR-522 NB/SB",
           "King"
          ],
          [
           "SR-525 N/O SR-526 NB/SB",
           "Snohomish"
          ],
          [
           "SR-525 N/O 5th NB/SB",
           "Snohomish"
          ],
          [
           "SR-167 N/O Grady NB/SB",
           "King"
          ],
          [
           "SR-167 W/O SR-410 NB/SB",
           "Pierce"
          ],
          [
           "SR-167 E/O SR-161 NB/SB",
           "Pierce"
          ],
          [
           "SR-410 E/O S Prairie WB/EB",
           "Pierce"
          ],
          [
           "SR-410 E/O 244th WB/EB",
           "King"
          ],
          [
           "SR-410 E/O Farman WB/EB",
           "King"
          ],
          [
           "SR-410 @ Greenwater River WB/EB",
           "King"
          ],
          [
           "SR-410 E/O Chinook WB/EB",
           "Pierce"
          ],
          [
           "SR-410 W/O SR-123 WB/EB",
           "Pierce"
          ],
          [
           "SR-410 E/O SR-123 WB/EB",
           "Pierce"
          ],
          [
           "SR-512 @ I-5 WB/EB",
           "Pierce"
          ],
          [
           "SR-512 W/O SR-7 WB/EB",
           "Pierce"
          ],
          [
           "SR-512 S/O SR-167 WB/EB",
           "Pierce"
          ],
          [
           "SR-509 E/O I-705 NB/SB",
           "Pierce"
          ],
          [
           "SR-509 W/O Alexander NB/SB",
           "Pierce"
          ],
          [
           "SR-509 S/O 11th NB/SB",
           "Pierce"
          ],
          [
           "SR-509 N/O Hyada NB/SB",
           "Pierce"
          ],
          [
           "SR-509 E/O Soundview NB/SB",
           "Pierce"
          ],
          [
           "SR-509 E/O 47th NB/SB",
           "King"
          ],
          [
           "SR-509 E/O 21st NB/SB",
           "King"
          ],
          [
           "SR-509 W/O SR-516 NB/SB",
           "King"
          ],
          [
           "SR-509 W/O Des Moines Mem NB/SB",
           "King"
          ],
          [
           "SR-509 E/O 1st Ave NB/SB",
           "King"
          ],
          [
           "SR-509 E/O Des Moines Mem NB/SB",
           "King"
          ],
          [
           "SR-509 @ SR-509 ramp overpass NB/SB",
           "King"
          ],
          [
           "SR-509 N/O Des Moines Mem NB/SB",
           "King"
          ],
          [
           "SR-509 N/O SR-518 NB/SB",
           "King"
          ],
          [
           "SR-99 @ I-5 NB/SB",
           "Pierce"
          ],
          [
           "SR-99 E/O 54th NB/SB",
           "Pierce"
          ],
          [
           "SR-99 S/O Porter NB/SB",
           "Pierce"
          ],
          [
           "SR-99 S/O SR-18 NB/SB",
           "King"
          ],
          [
           "SR-99 N/O SR-18 NB/SB",
           "King"
          ],
          [
           "SR-99 N/O 320th NB/SB",
           "King"
          ],
          [
           "SR-99 N/O 188th NB/SB",
           "King"
          ],
          [
           "SR-99 @ WSF NB/SB",
           "King"
          ],
          [
           "SR-99 @ Aurora Bridge NB/SB",
           "King"
          ],
          [
           "SR-99 N/O 38th NB/SB",
           "King"
          ],
          [
           "SR-99 S/O Roosevelt NB/SB",
           "King"
          ],
          [
           "SR-99 E/O Evergreen NB/SB",
           "Snohomish"
          ],
          [
           "SR-599 N/O I-5 NB/SB",
           "King"
          ],
          [
           "SR-518 @ SR-509 WB/EB",
           "King"
          ],
          [
           "SR-518 E/O SR-509 WB/EB",
           "King"
          ],
          [
           "SR-18 E/O SR-99 WB/EB",
           "King"
          ],
          [
           "SR-18 N/O 304th WB/EB",
           "King"
          ],
          [
           "SR-18 S/O I-90 WB/EB",
           "King"
          ],
          [
           "SR-16 @ TNB NB/SB",
           "Pierce"
          ],
          [
           "SR-16 @ Purdy Dr NB/SB",
           "Pierce"
          ],
          [
           "SR-16  N/O SR-302 NB/SB",
           "Kitsap"
          ],
          [
           "SR-16 N/O SR-160 NB/SB",
           "Kitsap"
          ],
          [
           "SR-16 N/O Tremont NB/SB",
           "Kitsap"
          ],
          [
           "SR-16 S/O SR-3 NB",
           "Kitsap"
          ],
          [
           "SR-202 @ SR-522 NB/SB",
           "King"
          ],
          [
           "SR-202 N/O 145th NB/SB",
           "King"
          ],
          [
           "SR-202 @ Sammamish River Br NB/SB",
           "King"
          ],
          [
           "SR-202 S/O 144th NB/SB",
           "King"
          ],
          [
           "SR-202 N/O Redmond Way NB/SB",
           "King"
          ],
          [
           "SR-202 E/O 164th NB/SB",
           "King"
          ],
          [
           "SR-202 E/O SR-520 NB/SB",
           "King"
          ],
          [
           "SR-202 E/O E Lk Samm NB/SB",
           "King"
          ],
          [
           "SR-202 E/O Sahalee NB/SB",
           "King"
          ],
          [
           "SR-202 E/O 236th NB/SB",
           "King"
          ],
          [
           "SR-202 S/O Ames Lake NB/SB",
           "King"
          ],
          [
           "SR-202 S/O Duthie Hill NB/SB",
           "King"
          ],
          [
           "SR-202 E/O SR-203 NB/SB",
           "King"
          ],
          [
           "SR-202 N/O I-90 NB/SB",
           "King"
          ],
          [
           "SR-526 W/O Paine Field Blvd WB/EB",
           "Snohomish"
          ],
          [
           "SR-526 E/O Paine Field Blvd WB/EB",
           "Snohomish"
          ],
          [
           "SR-9 @ SR-522 NB/SB",
           "Snohomish"
          ],
          [
           "SR-9 N/O SR-2 NB/SB",
           "Snohomish"
          ],
          [
           "SR-9 N/O SR-204 NB/SB",
           "Snohomish"
          ],
          [
           "SR-9 N/O SR-92 NB/SB",
           "Snohomish"
          ],
          [
           "SR-9 N/O 132nd NB/SB",
           "Snohomish"
          ],
          [
           "SR-9 N/O SR-531 NB/SB",
           "Snohomish"
          ],
          [
           "SR-9 S/O 67th NB/SB",
           "Snohomish"
          ],
          [
           "SR-9 N/O Kackman NB/SB",
           "Snohomish"
          ],
          [
           "SR-9 N/O Stanwood-Bryant NB/SB",
           "Snohomish"
          ],
          [
           "SR-532 @ Island County WB/EB",
           "Snohomish"
          ],
          [
           "SR-532 W/O 28th WB/EB",
           "Snohomish"
          ],
          [
           "SR-522 N/O 145th NB/SB",
           "King"
          ],
          [
           "SR-104 @ Hood Canal Bridge WB/EB",
           "Kitsap"
          ],
          [
           "SR-104 E/O Hood Canal Bridge WB/EB",
           "Kitsap"
          ],
          [
           "SR-104 N/O Pt Gamble Rd WB/EB",
           "Kitsap"
          ],
          [
           "SR-104 E/O SR-307 WB/EB",
           "Kitsap"
          ],
          [
           "SR-104 E/O Hansville WB/EB",
           "Kitsap"
          ],
          [
           "SR-104 @ Ferry Loading Edm WB/EB",
           "Snohomish"
          ],
          [
           "SR-104 N/O Pine WB/EB",
           "Snohomish"
          ],
          [
           "SR-104 E/O 5th WB/EB",
           "Snohomish"
          ],
          [
           "SR-104 W/O 19th WB/EB",
           "King"
          ],
          [
           "SR-160 @ SR-16 WB/EB",
           "Kitsap"
          ],
          [
           "SR-160 E/O Long Lake Rd WB/EB",
           "Kitsap"
          ],
          [
           "SR-160 W/O Banner WB/EB",
           "Kitsap"
          ],
          [
           "SR-160 E/O Peterson WB/EB",
           "Kitsap"
          ],
          [
           "SR-160 S/O Southworth Dr WB/EB",
           "Kitsap"
          ],
          [
           "SR-166 E/O SR-16 WB/EB",
           "Kitsap"
          ],
          [
           "SR-3 E/O Sunset Way NB/SB",
           "Kitsap"
          ],
          [
           "SR-3 N/O SR-305 NB/SB",
           "Kitsap"
          ],
          [
           "SR-3 S/O Newberry Hill Rd NB/SB",
           "Kitsap"
          ],
          [
           "SR-3 @ SR-304 NB/SB",
           "Kitsap"
          ],
          [
           "SR-3 NE of SR-16 NB/SB",
           "Kitsap"
          ],
          [
           "SR-3 W/O Lake Flora Rd NB/SB",
           "Kitsap"
          ],
          [
           "SR-302 N/O 144th WB/EB",
           "Pierce"
          ],
          [
           "SR-302 S/O 144th WB/EB",
           "Pierce"
          ],
          [
           "SR-302 W/O Key Peninsula Hwy WB/EB",
           "Pierce"
          ],
          [
           "SR-302 W/O Wright-Bliss WB/EB (E/O?)",
           "Pierce"
          ],
          [
           "SR-303 E/O SR-3 NB/SB",
           "Kitsap"
          ],
          [
           "SR-303 N/O 11th St NB/SB",
           "Kitsap"
          ],
          [
           "SR-303 N/O SR-304 NB/SB",
           "Kitsap"
          ],
          [
           "SR-304 E/O SR-3 WB/EB",
           "Kitsap"
          ],
          [
           "SR-304 W/O Naval WB/EB",
           "Kitsap"
          ],
          [
           "SR-305 W/O SR-307 WB/EB",
           "Kitsap"
          ],
          [
           "SR-305 W/O Suquamish Way WB/EB",
           "Kitsap"
          ],
          [
           "SR-305 N/O Day Rd WB/EB",
           "Kitsap"
          ],
          [
           "SR-305 N/O High School Rd WB/EB",
           "Kitsap"
          ],
          [
           "SR-305 S/O Winslow Way WB/EB",
           "Kitsap"
          ],
          [
           "SR-305 @ Ferry Ramp WB/EB",
           "Kitsap"
          ],
          [
           "SR-307 W/O SR-104 NB/SB",
           "Kitsap"
          ],
          [
           "SR-307 N/O Gunderson NB/SB",
           "Kitsap"
          ],
          [
           "SR-307 S/O Gunderson NB/SB",
           "Kitsap"
          ],
          [
           "SR-307 N/O SR-305 NB/SB",
           "Kitsap"
          ],
          [
           "SR-308 @ SR-3 WB/EB",
           "Kitsap"
          ],
          [
           "SR-308 E/O SR-3 WB/EB",
           "Kitsap"
          ],
          [
           "SR-308 E/O Silverdale Way WB/EB",
           "Kitsap"
          ],
          [
           "SR-308 W/O Brownsville Hwy WB/EB",
           "Kitsap"
          ],
          [
           "SR-310 @ SR-3 WB/EB",
           "Kitsap"
          ],
          [
           "SR-310 W/O Callow WB/EB",
           "Kitsap"
          ],
          [
           "SR-516 E/O SR-509 WB/EB",
           "King"
          ],
          [
           "SR-516 W/O I-5 WB/EB",
           "King"
          ],
          [
           "SR-516 E/O Meeker WB/EB",
           "King"
          ],
          [
           "SR-516 W/O SR-167 WB/EB",
           "King"
          ],
          [
           "SR-516 E/O SR-167 WB/EB",
           "King"
          ],
          [
           "SR-516 E/O SR-18 WB/EB",
           "King"
          ],
          [
           "SR-161 E/O SR-7 NB/SB",
           "Pierce"
          ],
          [
           "SR-161 N/O Center NB/SB",
           "Pierce"
          ],
          [
           "SR-161 N/O Eatonville Cutoff NB/SB",
           "Pierce"
          ],
          [
           "SR-161 N/O 304th NB/SB",
           "Pierce"
          ],
          [
           "SR-161 N/O 264th NB/SB",
           "Pierce"
          ],
          [
           "SR-161 S/O 224th NB/SB",
           "Pierce"
          ],
          [
           "SR-161 N/O 224th NB/SB",
           "Pierce"
          ],
          [
           "SR-161 N/O 204th NB/SB",
           "Pierce"
          ],
          [
           "SR-161 S/O SR-167 SB off-ramp NB/SB",
           "Pierce"
          ],
          [
           "SR-161 S/O Valley NB/SB",
           "Pierce"
          ],
          [
           "SR-161 N/O Valley NB/SB",
           "Pierce"
          ],
          [
           "SR-161 N/O 8th NB/SB",
           "Pierce"
          ],
          [
           "SR-900 S/O NB I-5 on-ramp @ Boe Acc WB/EB",
           "King"
          ],
          [
           "SR-900 E/O 68th WB/EB",
           "King"
          ],
          [
           "SR-900 @ I-405 WB/EB",
           "King"
          ],
          [
           "SR-900 E/O 148th WB/EB",
           "King"
          ],
          [
           "SR-900 N/O Talus WB/EB",
           "King"
          ],
          [
           "SR-900 N/O Newport WB/EB",
           "King"
          ],
          [
           "SR-524 W/O 3rd WB/EB",
           "Snohomish"
          ],
          [
           "SR-524 S/O Main WB/EB",
           "Snohomish"
          ],
          [
           "SR-524 N/O Main WB/EB",
           "Snohomish"
          ],
          [
           "SR-524 E/O 68th WB/EB",
           "Snohomish"
          ],
          [
           "SR-524 E/O 39th WB/EB",
           "Snohomish"
          ],
          [
           "SR-524 N/O Paradise Lake WB/EB",
           "Snohomish"
          ],
          [
           "SR-7 @ Thurston County NB/SB",
           "Pierce"
          ],
          [
           "SR-7 W/O Alder Cutoff NB/SB",
           "Pierce"
          ],
          [
           "SR-7 N/O Eatonville Hwy NB/SB",
           "Pierce"
          ],
          [
           "SR-7 N/O Silver Lake NB/SB",
           "Pierce"
          ],
          [
           "SR-7 S/O SR-702 NB/SB",
           "Pierce"
          ],
          [
           "SR-7 N/O 304th NB/SB",
           "Pierce"
          ],
          [
           "SR-7 N/O 260th NB/SB",
           "Pierce"
          ],
          [
           "SR-7 S/O 224th NB/SB",
           "Pierce"
          ],
          [
           "SR-7 N/O 224th NB/SB",
           "Pierce"
          ],
          [
           "SR-7 N/O 38th NB/SB",
           "Pierce"
          ],
          [
           "SR-2 E/O I-5 WB/EB",
           "Snohomish"
          ],
          [
           "SR-2 S/O SR-204 WB/EB",
           "Snohomish"
          ],
          [
           "SR-2 E/O Main WB/EB",
           "Snohomish"
          ],
          [
           "SR-2 E/O Rice WB/EB",
           "Snohomish"
          ],
          [
           "SR-2 E/O 10th (Gold Bar) WB/EB",
           "Snohomish"
          ],
          [
           "SR-2 W/O Index-Galena WB/EB",
           "Snohomish"
          ],
          [
           "SR-2 E/O Index-Galena WB/EB",
           "Snohomish"
          ],
          [
           "SR-2 E/O Skykomish WB/EB",
           "King"
          ],
          [
           "SR-527 N/O I-405 NB/SB",
           "Snohomish"
          ],
          [
           "SR-527 N/O 196th NB/SB",
           "Snohomish"
          ],
          [
           "SR-527 N/O Dumas NB/SB",
           "Snohomish"
          ],
          [
           "SR-527 N/O 100th NB/SB",
           "Snohomish"
          ],
          [
           "SR-513 S/O 44th NB/SB",
           "King"
          ],
          [
           "SR-169 N/O SR-164 NB/SB",
           "King"
          ],
          [
           "SR-169 S/O Lawson NB/SB",
           "King"
          ],
          [
           "SR-169 S/O 276th NB/SB",
           "King"
          ],
          [
           "SR-169 N/O 280th NB/SB",
           "King"
          ],
          [
           "SR-169 N/O 231st NB/SB",
           "King"
          ],
          [
           "SR-169 N/O 232nd NB/SB",
           "King"
          ],
          [
           "SR-169 W/O 140th NB/SB",
           "King"
          ],
          [
           "SR-515 N/O SR-516 NB/SB",
           "King"
          ],
          [
           "SR-515 N/O 108th NB/SB",
           "King"
          ],
          [
           "SR-515 N/O Puget NB/SB",
           "King"
          ],
          [
           "SR-181 N/O SR-516 NB/SB",
           "King"
          ],
          [
           "SR-181 S/O James NB/SB",
           "King"
          ],
          [
           "SR-181 N/O James NB/SB",
           "King"
          ],
          [
           "SR-181 N/O 228th NB/SB",
           "King"
          ],
          [
           "SR-181 N/O 180th NB/SB",
           "King"
          ],
          [
           "SR-181 S/O Longacres NB/SB",
           "King"
          ],
          [
           "SR-523 E/O Lenora WB/EB",
           "King"
          ],
          [
           "SR-529 @ I-5 (Evt) NB/SB",
           "Snohomish"
          ],
          [
           "SR-529 S/O Everett NB/SB",
           "Snohomish"
          ],
          [
           "SR-529 W/O Maple NB/SB",
           "Snohomish"
          ],
          [
           "SR-529 N/O Everett NB/SB",
           "Snohomish"
          ],
          [
           "SR-529 N/O Broadway NB/SB",
           "Snohomish"
          ],
          [
           "SR-96 @ I-5 WB/EB",
           "Snohomish"
          ],
          [
           "SR-96 N/O 132nd WB/EB",
           "Snohomish"
          ],
          [
           "SR-96 E/O Seattle Hill WB/EB",
           "Snohomish"
          ],
          [
           "SR-164 @ SR-18 WB/EB",
           "King"
          ],
          [
           "SR-164 S/O 400th WB/EB",
           "King"
          ],
          [
           "SR-528 @ I-5 WB/EB",
           "Snohomish"
          ],
          [
           "SR-528 E/O SR-529 WB/EB",
           "Snohomish"
          ],
          [
           "SR-531 N/O Rose WB/EB",
           "Snohomish"
          ],
          [
           "SR-531 E/O Lk Goodwin WB/EB",
           "Snohomish"
          ],
          [
           "SR-531 E/O 27th WB/EB",
           "Snohomish"
          ],
          [
           "SR-531 E/O I-5 WB/EB",
           "Snohomish"
          ],
          [
           "SR-531 E/O 43rd WB/EB",
           "Snohomish"
          ],
          [
           "SR-531 W/O 67th WB/EB",
           "Snohomish"
          ],
          [
           "SR-531 E/O 67th WB/EB",
           "Snohomish"
          ],
          [
           "SR-162 @ SR-410 WB/EB",
           "Pierce"
          ],
          [
           "SR-162 S/O Pioneer WB/EB",
           "Pierce"
          ],
          [
           "SR-162 E/O Orville WB/EB",
           "Pierce"
          ],
          [
           "SR-162 E/O S Prairie WB/EB",
           "Pierce"
          ],
          [
           "SR-162 N/O SR-165 WB/EB",
           "Pierce"
          ],
          [
           "SR-163 @ SR-16 NB/SB",
           "Pierce"
          ],
          [
           "SR-163 N/O 37th NB/SB",
           "Pierce"
          ],
          [
           "SR-163 N/O Park NB/SB",
           "Pierce"
          ],
          [
           "SR-530 @ I-5 WB/EB",
           "Snohomish"
          ],
          [
           "SR-530 E/O Smokey Pt WB/EB",
           "Snohomish"
          ],
          [
           "SR-530 N/O 211th WB/EB",
           "Snohomish"
          ],
          [
           "SR-530 E/O SR-9 WB/EB",
           "Snohomish"
          ],
          [
           "SR-530 W/O Arlington Hts WB/EB",
           "Snohomish"
          ],
          [
           "SR-530 E/O Arlington Hts WB/EB",
           "Snohomish"
          ],
          [
           "SR-530 W/O Jim Creek WB/EB",
           "Snohomish"
          ],
          [
           "SR-530 W/O Ramstad WB/EB",
           "Snohomish"
          ],
          [
           "SR-530 @ Skagit County WB/EB",
           "Snohomish"
          ],
          [
           "SR-203 N/O 203rd NB/SB",
           "Snohomish"
          ],
          [
           "SR-203 N/O Cherry Valley NB/SB",
           "King"
          ],
          [
           "SR-203 N/O 124th NB/SB",
           "King"
          ],
          [
           "SR-203 W/O Stillwater Hill NB/SB",
           "King"
          ],
          [
           "SR-203 N/O Carnation Farm NB/SB",
           "King"
          ],
          [
           "SR-203 N/O Tolt Hill NB/SB",
           "King"
          ],
          [
           "SR-203 N/O SR-202 NB/SB",
           "King"
          ],
          [
           "SR-507 S/O SR-7 NB/SB",
           "Pierce"
          ],
          [
           "SR-507 S/O E Gate NB/SB",
           "Pierce"
          ],
          [
           "SR-507 S/O 288th NB/SB",
           "Pierce"
          ],
          [
           "SR-507 N/O 346th NB/SB",
           "Pierce"
          ],
          [
           "SR-204 @ SR-2 NB/SB",
           "Snohomish"
          ],
          [
           "SR-204 N/O 20th NB/SB",
           "Snohomish"
          ],
          [
           "SR-204 N/O SR-2 NB/SB",
           "Snohomish"
          ],
          [
           "SR-519 W/O 4th NB/SB",
           "King"
          ],
          [
           "SR-92 E/O Lake WB/EB",
           "Snohomish"
          ],
          [
           "SR-92 E/O Callow WB/EB",
           "Snohomish"
          ],
          [
           "SR-92 E/O Quarry WB/EB",
           "Snohomish"
          ],
          [
           "SR-92 W/O Mountain Loop WB/EB",
           "Snohomish"
          ],
          [
           "SR-702 E/O SR-507 WB/EB",
           "Pierce"
          ],
          [
           "SR-702 E/O Harts Lake WB/EB",
           "Pierce"
          ],
          [
           "SR-702 E/O 40th WB/EB",
           "Pierce"
          ],
          [
           "SR-702 W/O 8th WB/EB",
           "Pierce"
          ],
          [
           "SR-702 E/O 8th WB/EB",
           "Pierce"
          ],
          [
           "SR-165 W/O SR-162 NB/SB",
           "Pierce"
          ],
          [
           "SR-165 N/O Davis NB/SB",
           "Pierce"
          ],
          [
           "SR-165 N/O Wilkeson-Carbonado NB/SB",
           "Pierce"
          ],
          [
           "SR-704 E/O Spanaway Loop WB/EB",
           "Pierce"
          ],
          [
           "SR-706 E/O SR-7 WB/EB",
           "Pierce"
          ],
          [
           "SR-706 E/O Kernahan WB/EB",
           "Pierce"
          ]
         ],
         "hovertemplate": "Observed=%{x}<br>Model=%{y}<br>location=%{customdata[0]}<br>County=%{customdata[1]}<extra></extra>",
         "legendgroup": "",
         "line": {
          "color": "Grey",
          "width": 2
         },
         "marker": {
          "color": "#91268F",
          "symbol": "circle"
         },
         "mode": "markers",
         "name": "",
         "orientation": "v",
         "showlegend": false,
         "type": "scatter",
         "x": {
          "bdata": "XglQCcQJHQobCeMIMArDCZIS1RIJFjYW5AYDDzYK3gz6BnUHGgosCjULSAuBChAL9QhgCo8IywjABskGhQL1BX0FeAVkBTEFFgSmBjoKjA62CwMGVAbgBFMDBgQIBOQIgAllCW8J2AroCfgH+AcOBxYHUgN2Av8EiwQrBMgDWwPQAvcESgMWAs0DTQUPBXIDZQMeBAcEFAaMBpAJjAmxCekGVAo6BisFBQ3GAmwB9gTDFb0K7gTKAyoCSQBKADAAHQATC/4M0A8MBAYJqwA7AD4AgACYAagC8ABmAKUB0AIoBdAF/ARABn4EHQRYAsACLQlrBnAJ6AUgBNsB+AoTAzMEMQWCCUAFPQxaCCAJzQfLCPkHcgP5ANkAlgL6AS8DqQZlBGoDyQFNAmsBrwFLAYwBkwM9Bx8FawXDBz0D5AGSArsBhwAgBOMCkgS+AsUA1wAAAiABJgHcAGgB2wHbAQ0CmAHpAFYAGAHqBL0GGgjoBp4MYAOqAWcD4wCdAMwD8AOyASoDYQJOBJQCWALUAQkB3QDKAtwBZAKoApwAxwAHAeYAgQMeAQQBOARrA5AG2APPAxgAyAE5AVICVgL4AWADwAToAzoH0AIgA5wDiAHyAsYAqgIiAkQAoACnAO4BSgGFBPEAagDBAOQAawGyAoEDRgVaA3oBfgliBloD3wIEAloB8gDWAMwFRQPAAloD2AKOAVICMAMiAosGIgT2AzkDmAF9AwYH8QSqBXIGVAY8CGECTQEPAWwB7gBiBIAFiAHcACoDlALYAmgCSwCwAbUCzgRgBskDMAKAApwDagJiASMCpAEUAaEAsgJyAxADpAEIAs0BmgEUAacAfAJOAuUC5gHqARsC9gHwBM4BFQJjAgMBcwHAAxQERQXiA0ABRAEMAowBhQF+AUIBhgHTAHgA0AKWAEsA",
          "dtype": "i2"
         },
         "xaxis": "x",
         "y": {
          "bdata": "AAAAAPAC+QLrAvICaQQgBO4HaQkBDcINSgfNFqYYlxixGWQYMBYHFvwTpBJiEXwR+BB2EKAHpgeTAm4CTAzQEZYSMQpNChsHLAUqDGEXDxTfEx4S3hEHDDwLpw13DS8PMxAtEuQSuw9XD9oItQiUBugGOgWlA64IpQkHBaIF8wYwBvoFyAR9Bl8DjAUdBUwD/wJ9Ay0DtAYdBqEqegAAAEcG/wQ6AAAAiyRaASUAXgdDG4QMnASrATUAKQAAAAAAAACtDCANExRBBrgFbwAbABsAOQBHAfkAmgBIAF8AbgNiB+QKCAUtBCIFEgUrA2wCEAaUDSEM7wabAogAQA1TB78HcweBCHgD+xl1DwwQAA3NDcYH1AJkAfkALgNnAaIBWAgPBfQB2AFtAbwAEQGiAsMA+gaEBPoEBgSyB4gCAgKwAC0APwAAAFcCLggAABkAEQDSAJgA/wCoABQBywE2ArYAiQC+AEgAnAE4ANEA4gkLChAQAAA5AUEBiwArAFkDvgMrAVYGDgNvBgQENgSfADQANAAIATUBQAJZAnIAdADDAIIAeAGfAKEADQiGDBwQtAaSAwQAHQDBAFgBVQEFAhwCxwP8BMcHVgJ/BMEGCgLGBU8CcASOAwMBQgAZAXYCswGzAgAAEAAXAB8AOgDnABYBOwGOAbkAWQy0BvICOAFvAG8AUQAAAFgMqQO9ARcEPAZvAJoBQwFFAnEDoAPHBmIBTAKyBOwH/AbOCFgLWgurC5ACtQGUAWUBfgBhAgwGpQE9AMwDigJoBGwCIACKAFwCwAWpA+kAYgEmAvwC+QCFAPEAfQNSAcYATgFmApwBggGPAU4BHgHsAAAAxwHUAdUB2gDlADsB0wAMAZsAMAAzALQAJgE9BcYGAgMsAsIAmwAKAAoAaQBpAEkApABMACMA+AIAAAAA",
          "dtype": "i2"
         },
         "yaxis": "y"
        },
        {
         "hovertemplate": "Observed=%{x}<br>Model=%{y}<extra></extra>",
         "legendgroup": "",
         "line": {
          "color": "Grey",
          "dash": "solid",
          "width": 2
         },
         "marker": {
          "symbol": "circle"
         },
         "mode": "lines",
         "name": "",
         "orientation": "v",
         "showlegend": false,
         "type": "scatter",
         "x": {
          "bdata": "AAAAAAAAAABi3s6QmLdMQGLezpCYt1xAyiabbLKJZUBi3s6QmLdsQP1KgVq/8nFAyiabbLKJdUCWArV+pSB5QGLezpCYt3xAF1100UUngED9SoFav/KBQOM4juM4voNAyiabbLKJhUCwFKj1K1WHQJYCtX6lIIlAfPDBBx/sikBi3s6QmLeMQEjM2xkSg45AF1100UUnkEAK1PqVAg2RQP1KgVq/8pFA8MEHH3zYkkDjOI7jOL6TQNavFKj1o5RAyiabbLKJlUC9nSExb2+WQLAUqPUrVZdAo4suuug6mECWArV+pSCZQIl5O0NiBppAfPDBBx/smkBvZ0jM29GbQGLezpCYt5xAVVVVVVWdnUBIzNsZEoOeQDtDYt7OaJ9AF1100UUnoECRmLczJJqgQArU+pUCDaFAhA8++OB/oUD9SoFav/KhQHeGxLydZaJA8MEHH3zYokBq/UqBWkujQOM4juM4vqNAXXTRRRcxpEDWrxSo9aOkQFDrVwrUFqVAyiabbLKJpUBDYt7OkPylQL2dITFvb6ZANtlkk03ipkCwFKj1K1WnQClQ61cKyKdAo4suuug6qEAcx3Ecx62oQJYCtX6lIKlADz744IOTqUCJeTtDYgaqQAK1fqVAeapAfPDBBx/sqkD1KwVq/V6rQG9nSMzb0atA6KKLLrpErEBi3s6QmLesQNwZEvN2Kq1AVVVVVVWdrUDPkJi3MxCuQEjM2xkSg65AwgcffPD1rkA7Q2LezmivQLV+pUCt269AF1100UUnsEDU+pUCtWCwQJGYtzMkmrBATTbZZJPTsEAK1PqVAg2xQMdxHMdxRrFAhA8++OB/sUBArV8pULmxQP1KgVq/8rFAuuiiiy4sskB3hsS8nWWyQDQk5u0Mn7JA8MEHH3zYskCtXylQ6xGzQGr9SoFaS7NAJ5tsssmEs0DjOI7jOL6zQKDWrxSo97NAXXTRRRcxtEAaEvN2hmq0QNavFKj1o7RAk0022WTdtEBQ61cK1Ba1QA2JeTtDULVAyiabbLKJtUCGxLydIcO1QENi3s6Q/LVAAAAAAAA2tkA=",
          "dtype": "f8"
         },
         "xaxis": "x",
         "y": {
          "bdata": "gBvgbYRwSsAMlpd88EoyQMbYO3W6XVZABeaoZVwUZECm37OQ2/lsQKNs312t73JAdelk82xid0BFZuqILNV7QIvxNw/2I4BA86/62VVdgkBbbr2ktZaEQMMsgG8V0IZALetCOnUJiUCVqQUF1UKLQP1nyM80fI1AZiaLmpS1j0Bn8qYyeveQQJtRCBgqFJJAz7Bp/dkwk0ADEMviiU2UQDdvLMg5apVAa86NremGlkCfLe+SmaOXQNSMUHhJwJhACeyxXfncmUA9SxNDqfmaQHGqdChZFpxApQnWDQkznUDZaDfzuE+eQA7ImNhobJ9AoRP9XoxEoEA7w61R5NKgQNVyXkQ8YaFAbyIPN5TvoUAJ0r8p7H2iQKOBcBxEDKNAPTEhD5yao0DY4NEB9CikQHGQgvRLt6RADEAz56NFpUCl7+PZ+9OlQECflMxTYqZA2U5Fv6vwpkB0/vWxA3+nQA2upqRbDahAqF1Xl7ObqEBCDQiKCyqpQNy8uHxjuKlAd2xpb7tGqkAQHBpiE9WqQKvLylRrY6tARHt7R8Pxq0DfKiw6G4CsQHna3CxzDq1AE4qNH8ucrUCtOT4SIyuuQEfp7gR7ua5A4Zif99JHr0B8SFDqKtavQAp8gG5BMrBA2NPYZ215sECkKzFhmcCwQHKDiVrFB7FAP9vhU/FOsUAMMzpNHZaxQNmKkkZJ3bFApuLqP3UkskBzOkM5oWuyQECSmzLNsrJADerzK/n5skDaQUwlJUGzQKeZpB5RiLNAdPH8F33Ps0BBSVURqRa0QA+hrQrVXbRA2/gFBAGltECoUF79LOy0QHaotvZYM7VAQwAP8IR6tUAPWGfpsMG1QNyvv+LcCLZAqgcY3AhQtkB3X3DVNJe2QES3yM5g3rZAEA8hyIwlt0DeZnnBuGy3QKu+0brks7dAeBYqtBD7t0BEboKtPEK4QBLG2qZoibhA3x0zoJTQuECsdYuZwBe5QHnN45LsXrlARiU8jBimuUATfZSFRO25QOHU7H5wNLpArixFeJx7ukB6hJ1xyMK6QEfc9Wr0CbtAFTROZCBRu0A=",
          "dtype": "f8"
         },
         "yaxis": "y"
        }
       ],
       "layout": {
        "annotations": [
         {
          "align": "right",
          "font": {
           "color": "pink",
           "size": 12
          },
          "showarrow": false,
          "text": "y = x",
          "x": 11458.65,
          "y": 11458.65
         },
         {
          "align": "right",
          "font": {
           "color": "black",
           "size": 12
          },
          "showarrow": false,
          "text": "r^2 = 0.52",
          "x": 5970.3,
          "y": 7342.7828570672045
         }
        ],
        "height": 600,
        "legend": {
         "tracegroupgap": 0
        },
        "margin": {
         "b": 100,
         "l": 100,
         "r": 100,
         "t": 100
        },
        "shapes": [
         {
          "line": {
           "color": "Red",
           "dash": "dash",
           "width": 2
          },
          "type": "line",
          "x0": 0,
          "x1": 10913,
          "y0": 0,
          "y1": 10913
         }
        ],
        "template": {
         "data": {
          "bar": [
           {
            "error_x": {
             "color": "rgb(36,36,36)"
            },
            "error_y": {
             "color": "rgb(36,36,36)"
            },
            "marker": {
             "line": {
              "color": "white",
              "width": 0.5
             },
             "pattern": {
              "fillmode": "overlay",
              "size": 10,
              "solidity": 0.2
             }
            },
            "type": "bar"
           }
          ],
          "barpolar": [
           {
            "marker": {
             "line": {
              "color": "white",
              "width": 0.5
             },
             "pattern": {
              "fillmode": "overlay",
              "size": 10,
              "solidity": 0.2
             }
            },
            "type": "barpolar"
           }
          ],
          "carpet": [
           {
            "aaxis": {
             "endlinecolor": "rgb(36,36,36)",
             "gridcolor": "white",
             "linecolor": "white",
             "minorgridcolor": "white",
             "startlinecolor": "rgb(36,36,36)"
            },
            "baxis": {
             "endlinecolor": "rgb(36,36,36)",
             "gridcolor": "white",
             "linecolor": "white",
             "minorgridcolor": "white",
             "startlinecolor": "rgb(36,36,36)"
            },
            "type": "carpet"
           }
          ],
          "choropleth": [
           {
            "colorbar": {
             "outlinewidth": 1,
             "tickcolor": "rgb(36,36,36)",
             "ticks": "outside"
            },
            "type": "choropleth"
           }
          ],
          "contour": [
           {
            "colorbar": {
             "outlinewidth": 1,
             "tickcolor": "rgb(36,36,36)",
             "ticks": "outside"
            },
            "colorscale": [
             [
              0.0,
              "#440154"
             ],
             [
              0.1111111111111111,
              "#482878"
             ],
             [
              0.2222222222222222,
              "#3e4989"
             ],
             [
              0.3333333333333333,
              "#31688e"
             ],
             [
              0.4444444444444444,
              "#26828e"
             ],
             [
              0.5555555555555556,
              "#1f9e89"
             ],
             [
              0.6666666666666666,
              "#35b779"
             ],
             [
              0.7777777777777778,
              "#6ece58"
             ],
             [
              0.8888888888888888,
              "#b5de2b"
             ],
             [
              1.0,
              "#fde725"
             ]
            ],
            "type": "contour"
           }
          ],
          "contourcarpet": [
           {
            "colorbar": {
             "outlinewidth": 1,
             "tickcolor": "rgb(36,36,36)",
             "ticks": "outside"
            },
            "type": "contourcarpet"
           }
          ],
          "heatmap": [
           {
            "colorbar": {
             "outlinewidth": 1,
             "tickcolor": "rgb(36,36,36)",
             "ticks": "outside"
            },
            "colorscale": [
             [
              0.0,
              "#440154"
             ],
             [
              0.1111111111111111,
              "#482878"
             ],
             [
              0.2222222222222222,
              "#3e4989"
             ],
             [
              0.3333333333333333,
              "#31688e"
             ],
             [
              0.4444444444444444,
              "#26828e"
             ],
             [
              0.5555555555555556,
              "#1f9e89"
             ],
             [
              0.6666666666666666,
              "#35b779"
             ],
             [
              0.7777777777777778,
              "#6ece58"
             ],
             [
              0.8888888888888888,
              "#b5de2b"
             ],
             [
              1.0,
              "#fde725"
             ]
            ],
            "type": "heatmap"
           }
          ],
          "histogram": [
           {
            "marker": {
             "line": {
              "color": "white",
              "width": 0.6
             }
            },
            "type": "histogram"
           }
          ],
          "histogram2d": [
           {
            "colorbar": {
             "outlinewidth": 1,
             "tickcolor": "rgb(36,36,36)",
             "ticks": "outside"
            },
            "colorscale": [
             [
              0.0,
              "#440154"
             ],
             [
              0.1111111111111111,
              "#482878"
             ],
             [
              0.2222222222222222,
              "#3e4989"
             ],
             [
              0.3333333333333333,
              "#31688e"
             ],
             [
              0.4444444444444444,
              "#26828e"
             ],
             [
              0.5555555555555556,
              "#1f9e89"
             ],
             [
              0.6666666666666666,
              "#35b779"
             ],
             [
              0.7777777777777778,
              "#6ece58"
             ],
             [
              0.8888888888888888,
              "#b5de2b"
             ],
             [
              1.0,
              "#fde725"
             ]
            ],
            "type": "histogram2d"
           }
          ],
          "histogram2dcontour": [
           {
            "colorbar": {
             "outlinewidth": 1,
             "tickcolor": "rgb(36,36,36)",
             "ticks": "outside"
            },
            "colorscale": [
             [
              0.0,
              "#440154"
             ],
             [
              0.1111111111111111,
              "#482878"
             ],
             [
              0.2222222222222222,
              "#3e4989"
             ],
             [
              0.3333333333333333,
              "#31688e"
             ],
             [
              0.4444444444444444,
              "#26828e"
             ],
             [
              0.5555555555555556,
              "#1f9e89"
             ],
             [
              0.6666666666666666,
              "#35b779"
             ],
             [
              0.7777777777777778,
              "#6ece58"
             ],
             [
              0.8888888888888888,
              "#b5de2b"
             ],
             [
              1.0,
              "#fde725"
             ]
            ],
            "type": "histogram2dcontour"
           }
          ],
          "mesh3d": [
           {
            "colorbar": {
             "outlinewidth": 1,
             "tickcolor": "rgb(36,36,36)",
             "ticks": "outside"
            },
            "type": "mesh3d"
           }
          ],
          "parcoords": [
           {
            "line": {
             "colorbar": {
              "outlinewidth": 1,
              "tickcolor": "rgb(36,36,36)",
              "ticks": "outside"
             }
            },
            "type": "parcoords"
           }
          ],
          "pie": [
           {
            "automargin": true,
            "type": "pie"
           }
          ],
          "scatter": [
           {
            "fillpattern": {
             "fillmode": "overlay",
             "size": 10,
             "solidity": 0.2
            },
            "type": "scatter"
           }
          ],
          "scatter3d": [
           {
            "line": {
             "colorbar": {
              "outlinewidth": 1,
              "tickcolor": "rgb(36,36,36)",
              "ticks": "outside"
             }
            },
            "marker": {
             "colorbar": {
              "outlinewidth": 1,
              "tickcolor": "rgb(36,36,36)",
              "ticks": "outside"
             }
            },
            "type": "scatter3d"
           }
          ],
          "scattercarpet": [
           {
            "marker": {
             "colorbar": {
              "outlinewidth": 1,
              "tickcolor": "rgb(36,36,36)",
              "ticks": "outside"
             }
            },
            "type": "scattercarpet"
           }
          ],
          "scattergeo": [
           {
            "marker": {
             "colorbar": {
              "outlinewidth": 1,
              "tickcolor": "rgb(36,36,36)",
              "ticks": "outside"
             }
            },
            "type": "scattergeo"
           }
          ],
          "scattergl": [
           {
            "marker": {
             "colorbar": {
              "outlinewidth": 1,
              "tickcolor": "rgb(36,36,36)",
              "ticks": "outside"
             }
            },
            "type": "scattergl"
           }
          ],
          "scattermap": [
           {
            "marker": {
             "colorbar": {
              "outlinewidth": 1,
              "tickcolor": "rgb(36,36,36)",
              "ticks": "outside"
             }
            },
            "type": "scattermap"
           }
          ],
          "scattermapbox": [
           {
            "marker": {
             "colorbar": {
              "outlinewidth": 1,
              "tickcolor": "rgb(36,36,36)",
              "ticks": "outside"
             }
            },
            "type": "scattermapbox"
           }
          ],
          "scatterpolar": [
           {
            "marker": {
             "colorbar": {
              "outlinewidth": 1,
              "tickcolor": "rgb(36,36,36)",
              "ticks": "outside"
             }
            },
            "type": "scatterpolar"
           }
          ],
          "scatterpolargl": [
           {
            "marker": {
             "colorbar": {
              "outlinewidth": 1,
              "tickcolor": "rgb(36,36,36)",
              "ticks": "outside"
             }
            },
            "type": "scatterpolargl"
           }
          ],
          "scatterternary": [
           {
            "marker": {
             "colorbar": {
              "outlinewidth": 1,
              "tickcolor": "rgb(36,36,36)",
              "ticks": "outside"
             }
            },
            "type": "scatterternary"
           }
          ],
          "surface": [
           {
            "colorbar": {
             "outlinewidth": 1,
             "tickcolor": "rgb(36,36,36)",
             "ticks": "outside"
            },
            "colorscale": [
             [
              0.0,
              "#440154"
             ],
             [
              0.1111111111111111,
              "#482878"
             ],
             [
              0.2222222222222222,
              "#3e4989"
             ],
             [
              0.3333333333333333,
              "#31688e"
             ],
             [
              0.4444444444444444,
              "#26828e"
             ],
             [
              0.5555555555555556,
              "#1f9e89"
             ],
             [
              0.6666666666666666,
              "#35b779"
             ],
             [
              0.7777777777777778,
              "#6ece58"
             ],
             [
              0.8888888888888888,
              "#b5de2b"
             ],
             [
              1.0,
              "#fde725"
             ]
            ],
            "type": "surface"
           }
          ],
          "table": [
           {
            "cells": {
             "fill": {
              "color": "rgb(237,237,237)"
             },
             "line": {
              "color": "white"
             }
            },
            "header": {
             "fill": {
              "color": "rgb(217,217,217)"
             },
             "line": {
              "color": "white"
             }
            },
            "type": "table"
           }
          ]
         },
         "layout": {
          "annotationdefaults": {
           "arrowhead": 0,
           "arrowwidth": 1
          },
          "autotypenumbers": "strict",
          "coloraxis": {
           "colorbar": {
            "outlinewidth": 1,
            "tickcolor": "rgb(36,36,36)",
            "ticks": "outside"
           }
          },
          "colorscale": {
           "diverging": [
            [
             0.0,
             "rgb(103,0,31)"
            ],
            [
             0.1,
             "rgb(178,24,43)"
            ],
            [
             0.2,
             "rgb(214,96,77)"
            ],
            [
             0.3,
             "rgb(244,165,130)"
            ],
            [
             0.4,
             "rgb(253,219,199)"
            ],
            [
             0.5,
             "rgb(247,247,247)"
            ],
            [
             0.6,
             "rgb(209,229,240)"
            ],
            [
             0.7,
             "rgb(146,197,222)"
            ],
            [
             0.8,
             "rgb(67,147,195)"
            ],
            [
             0.9,
             "rgb(33,102,172)"
            ],
            [
             1.0,
             "rgb(5,48,97)"
            ]
           ],
           "sequential": [
            [
             0.0,
             "#440154"
            ],
            [
             0.1111111111111111,
             "#482878"
            ],
            [
             0.2222222222222222,
             "#3e4989"
            ],
            [
             0.3333333333333333,
             "#31688e"
            ],
            [
             0.4444444444444444,
             "#26828e"
            ],
            [
             0.5555555555555556,
             "#1f9e89"
            ],
            [
             0.6666666666666666,
             "#35b779"
            ],
            [
             0.7777777777777778,
             "#6ece58"
            ],
            [
             0.8888888888888888,
             "#b5de2b"
            ],
            [
             1.0,
             "#fde725"
            ]
           ],
           "sequentialminus": [
            [
             0.0,
             "#440154"
            ],
            [
             0.1111111111111111,
             "#482878"
            ],
            [
             0.2222222222222222,
             "#3e4989"
            ],
            [
             0.3333333333333333,
             "#31688e"
            ],
            [
             0.4444444444444444,
             "#26828e"
            ],
            [
             0.5555555555555556,
             "#1f9e89"
            ],
            [
             0.6666666666666666,
             "#35b779"
            ],
            [
             0.7777777777777778,
             "#6ece58"
            ],
            [
             0.8888888888888888,
             "#b5de2b"
            ],
            [
             1.0,
             "#fde725"
            ]
           ]
          },
          "colorway": [
           "#91268F",
           "#8CC63E",
           "#00A7A0",
           "#F05A28",
           "#4C4C4C",
           "#630460",
           "#9f3913",
           "#588527",
           "#00716c",
           "#3e4040"
          ],
          "font": {
           "color": "rgb(36,36,36)",
           "family": "Poppins",
           "size": 11
          },
          "geo": {
           "bgcolor": "white",
           "lakecolor": "white",
           "landcolor": "white",
           "showlakes": true,
           "showland": true,
           "subunitcolor": "white"
          },
          "hoverlabel": {
           "align": "left"
          },
          "hovermode": "closest",
          "mapbox": {
           "style": "light"
          },
          "paper_bgcolor": "white",
          "plot_bgcolor": "white",
          "polar": {
           "angularaxis": {
            "gridcolor": "rgb(232,232,232)",
            "linecolor": "rgb(36,36,36)",
            "showgrid": false,
            "showline": true,
            "ticks": "outside"
           },
           "bgcolor": "white",
           "radialaxis": {
            "gridcolor": "rgb(232,232,232)",
            "linecolor": "rgb(36,36,36)",
            "showgrid": false,
            "showline": true,
            "ticks": "outside"
           }
          },
          "scene": {
           "xaxis": {
            "backgroundcolor": "white",
            "gridcolor": "rgb(232,232,232)",
            "gridwidth": 2,
            "linecolor": "rgb(36,36,36)",
            "showbackground": true,
            "showgrid": false,
            "showline": true,
            "ticks": "outside",
            "zeroline": false,
            "zerolinecolor": "rgb(36,36,36)"
           },
           "yaxis": {
            "backgroundcolor": "white",
            "gridcolor": "rgb(232,232,232)",
            "gridwidth": 2,
            "linecolor": "rgb(36,36,36)",
            "showbackground": true,
            "showgrid": false,
            "showline": true,
            "ticks": "outside",
            "zeroline": false,
            "zerolinecolor": "rgb(36,36,36)"
           },
           "zaxis": {
            "backgroundcolor": "white",
            "gridcolor": "rgb(232,232,232)",
            "gridwidth": 2,
            "linecolor": "rgb(36,36,36)",
            "showbackground": true,
            "showgrid": false,
            "showline": true,
            "ticks": "outside",
            "zeroline": false,
            "zerolinecolor": "rgb(36,36,36)"
           }
          },
          "shapedefaults": {
           "fillcolor": "black",
           "line": {
            "width": 0
           },
           "opacity": 0.3
          },
          "ternary": {
           "aaxis": {
            "gridcolor": "rgb(232,232,232)",
            "linecolor": "rgb(36,36,36)",
            "showgrid": false,
            "showline": true,
            "ticks": "outside"
           },
           "baxis": {
            "gridcolor": "rgb(232,232,232)",
            "linecolor": "rgb(36,36,36)",
            "showgrid": false,
            "showline": true,
            "ticks": "outside"
           },
           "bgcolor": "white",
           "caxis": {
            "gridcolor": "rgb(232,232,232)",
            "linecolor": "rgb(36,36,36)",
            "showgrid": false,
            "showline": true,
            "ticks": "outside"
           }
          },
          "title": {
           "x": 0.05
          },
          "xaxis": {
           "automargin": true,
           "gridcolor": "rgb(232,232,232)",
           "linecolor": "rgb(36,36,36)",
           "showgrid": false,
           "showline": true,
           "ticks": "outside",
           "title": {
            "standoff": 15
           },
           "zeroline": false,
           "zerolinecolor": "rgb(36,36,36)"
          },
          "yaxis": {
           "automargin": true,
           "gridcolor": "rgb(232,232,232)",
           "linecolor": "rgb(36,36,36)",
           "showgrid": false,
           "showline": true,
           "ticks": "outside",
           "title": {
            "standoff": 15
           },
           "zeroline": false,
           "zerolinecolor": "rgb(36,36,36)"
          }
         }
        },
        "title": {
         "text": "Medium Trucks: Region"
        },
        "width": 800,
        "xaxis": {
         "anchor": "y",
         "domain": [
          0.0,
          1.0
         ],
         "title": {
          "text": "Observed"
         }
        },
        "yaxis": {
         "anchor": "x",
         "domain": [
          0.0,
          1.0
         ],
         "title": {
          "text": "Model"
         }
        }
       }
      },
      "text/html": [
       "<div>            <script src=\"https://cdnjs.cloudflare.com/ajax/libs/mathjax/2.7.5/MathJax.js?config=TeX-AMS-MML_SVG\"></script><script type=\"text/javascript\">if (window.MathJax && window.MathJax.Hub && window.MathJax.Hub.Config) {window.MathJax.Hub.Config({SVG: {font: \"STIX-Web\"}});}</script>                <script type=\"text/javascript\">window.PlotlyConfig = {MathJaxConfig: 'local'};</script>\n",
       "        <script charset=\"utf-8\" src=\"https://cdn.plot.ly/plotly-3.0.1.min.js\"></script>                <div id=\"644095c3-527a-4aec-999b-d1e1e123a587\" class=\"plotly-graph-div\" style=\"height:600px; width:800px;\"></div>            <script type=\"text/javascript\">                window.PLOTLYENV=window.PLOTLYENV || {};                                if (document.getElementById(\"644095c3-527a-4aec-999b-d1e1e123a587\")) {                    Plotly.newPlot(                        \"644095c3-527a-4aec-999b-d1e1e123a587\",                        [{\"customdata\":[[\"I-5 S\\u002fO Mounts NB\",\"Pierce\"],[\"I-5 S\\u002fO Mounts SB\",\"Pierce\"],[\"I-5 S\\u002fO Division NB\",\"Pierce\"],[\"I-5 S\\u002fO Division SB\",\"Pierce\"],[\"I-5 @ N\\u002fO Division NB\",\"Pierce\"],[\"I-5 @ N\\u002fO Division SB\",\"Pierce\"],[\"I-5 S\\u002fO SR-512 NB\",\"Pierce\"],[\"I-5 S\\u002fO SR-512 SB\",\"Pierce\"],[\"I-5 N\\u002fO SR-512 NB\",\"Pierce\"],[\"I-5 N\\u002fO SR-512 SB\",\"Pierce\"],[\"I-5 N\\u002fO 56th NB\",\"Pierce\"],[\"I-5 N\\u002fO 56th SB\",\"Pierce\"],[\"I-5 E\\u002fO SR-16 NB\",\"Pierce\"],[\"I-5 E\\u002fO SR-16 SB\",\"Pierce\"],[\"I-5 E\\u002fO Port of Tacoma NB\",\"Pierce\"],[\"I-5 E\\u002fO Port of Tacoma SB (HOV from 56)\",\"Pierce\"],[\"I-5 S\\u002fO 205th NB\",\"King\"],[\"I-5 S\\u002fO 205th SB\",\"King\"],[\"I-5 @ 44th NB\",\"Snohomish\"],[\"I-5 @ 44th SB\",\"Snohomish\"],[\"I-5 N\\u002fO 164th NB\",\"Snohomish\"],[\"I-5 N\\u002fO 164th SB\",\"Snohomish\"],[\"I-5 N\\u002fO SR-526 NB\",\"Snohomish\"],[\"I-5 N\\u002fO SR-526 SB\",\"Snohomish\"],[\"I-5 N\\u002fO 41st NB\",\"Snohomish\"],[\"I-5 N\\u002fO 41st SB\",\"Snohomish\"],[\"I-5 @ SR-528 NB\",\"Snohomish\"],[\"I-5 @ SR-528 SB\",\"Snohomish\"],[\"I-5 N\\u002fO SR-531 NB\",\"Snohomish\"],[\"I-5 N\\u002fO SR-531 SB\",\"Snohomish\"],[\"I-5 Rev N\\u002fO I-5 GP NB\\u002fSB\",\"King\"],[\"I-90 E\\u002fO I-5 WB\",\"King\"],[\"I-90 E\\u002fO I-5 EB\",\"King\"],[\"I-90 E\\u002fO W Lk Sam WB\",\"King\"],[\"I-90 E\\u002fO W Lk Sam EB\",\"King\"],[\"I-90 E\\u002fO SR-900 WB\",\"King\"],[\"I-405 @ I-5 Southcenter NB\",\"King\"],[\"I-405 @ I-5 Southcenter SB\",\"King\"],[\"I-405 @ Lake Wash Blvd NB\",\"King\"],[\"I-405 @ I-90 NB\",\"King\"],[\"I-405 @ I-90 SB\",\"King\"],[\"I-405 N\\u002fO SR-527 NB\",\"Snohomish\"],[\"I-405 N\\u002fO SR-527 SB\",\"Snohomish\"],[\"SR-525 N\\u002fO I-5 NB\",\"Snohomish\"],[\"SR-525 N\\u002fO I-5 SB\",\"Snohomish\"],[\"SR-520 @ x-lake bridge WB\",\"King\"],[\"SR-520 @ x-lake bridge EB\",\"King\"],[\"SR-167 S\\u002fO 43rd NB\",\"King\"],[\"SR-167 S\\u002fO 43rd SB\",\"King\"],[\"SR-167 N\\u002fO SR-18 NB\",\"King\"],[\"SR-167 N\\u002fO SR-18 SB\",\"King\"],[\"SR-167 S\\u002fO 15th SW NB\",\"King\"],[\"SR-167 S\\u002fO 15th SW SB\",\"King\"],[\"SR-512 W\\u002fO Meridian WB\",\"Pierce\"],[\"SR-512 W\\u002fO Meridian EB\",\"Pierce\"],[\"SR-509 @ Holden NB\",\"King\"],[\"SR-509 @ Holden SB\",\"King\"],[\"SR-99 N\\u002fO 14th NB\",\"King\"],[\"SR-99 N\\u002fO 14th SB\",\"King\"],[\"SR-99 N\\u002fO WSF NB\",\"King\"],[\"SR-99 N\\u002fO WSF SB\",\"King\"],[\"SR-99 tunnel NB\",\"King\"],[\"SR-99 tunnel SB\",\"King\"],[\"SR-599 S\\u002fO Pacific NB\",\"King\"],[\"SR-599 S\\u002fO Pacific SB\",\"King\"],[\"SR-599 @ Pacific NB\",\"King\"],[\"SR-599 @ Pacific SB\",\"King\"],[\"SR-18 @ I-5 WB\",\"King\"],[\"SR-18 @ I-5 EB\",\"King\"],[\"SR-18 W\\u002fO Auburn-Black Diamond WB\",\"King\"],[\"SR-18 W\\u002fO Auburn-Black Diamond EB\",\"King\"],[\"SR-18 E\\u002fO SR-516 WB\",\"King\"],[\"SR-18 E\\u002fO SR-516 EB\",\"King\"],[\"SR-18 E\\u002fO 256th WB\",\"King\"],[\"SR-18 E\\u002fO 256th EB\",\"King\"],[\"SR-522 N\\u002fO 195th WB\",\"King\"],[\"SR-522 N\\u002fO 195th EB\",\"King\"],[\"I-5 N\\u002fO I-5 Rev CBD NB\\u002fSB\",\"King\"],[\"I-5 @ SR-532 NB\\u002fSB\",\"Snohomish\"],[\"I-5 @ Skagit border NB\\u002fSB\",\"Snohomish\"],[\"I-90 W\\u002fO SR-18 WB\\u002fEB\",\"King\"],[\"I-90 E\\u002fO SR-18 WB\\u002fEB\",\"King\"],[\"I-90 E\\u002fO 436th WB\\u002fEB\",\"King\"],[\"I-90 @ Kittitas County WB\\u002fEB\",\"King\"],[\"I-405 N\\u002fO SR-522 NB\\u002fSB\",\"King\"],[\"SR-525 N\\u002fO SR-526 NB\\u002fSB\",\"Snohomish\"],[\"SR-525 N\\u002fO 5th NB\\u002fSB\",\"Snohomish\"],[\"SR-167 N\\u002fO Grady NB\\u002fSB\",\"King\"],[\"SR-167 W\\u002fO SR-410 NB\\u002fSB\",\"Pierce\"],[\"SR-167 E\\u002fO SR-161 NB\\u002fSB\",\"Pierce\"],[\"SR-410 E\\u002fO S Prairie WB\\u002fEB\",\"Pierce\"],[\"SR-410 E\\u002fO 244th WB\\u002fEB\",\"King\"],[\"SR-410 E\\u002fO Farman WB\\u002fEB\",\"King\"],[\"SR-410 @ Greenwater River WB\\u002fEB\",\"King\"],[\"SR-410 E\\u002fO Chinook WB\\u002fEB\",\"Pierce\"],[\"SR-410 W\\u002fO SR-123 WB\\u002fEB\",\"Pierce\"],[\"SR-410 E\\u002fO SR-123 WB\\u002fEB\",\"Pierce\"],[\"SR-512 @ I-5 WB\\u002fEB\",\"Pierce\"],[\"SR-512 W\\u002fO SR-7 WB\\u002fEB\",\"Pierce\"],[\"SR-512 S\\u002fO SR-167 WB\\u002fEB\",\"Pierce\"],[\"SR-509 E\\u002fO I-705 NB\\u002fSB\",\"Pierce\"],[\"SR-509 W\\u002fO Alexander NB\\u002fSB\",\"Pierce\"],[\"SR-509 S\\u002fO 11th NB\\u002fSB\",\"Pierce\"],[\"SR-509 N\\u002fO Hyada NB\\u002fSB\",\"Pierce\"],[\"SR-509 E\\u002fO Soundview NB\\u002fSB\",\"Pierce\"],[\"SR-509 E\\u002fO 47th NB\\u002fSB\",\"King\"],[\"SR-509 E\\u002fO 21st NB\\u002fSB\",\"King\"],[\"SR-509 W\\u002fO SR-516 NB\\u002fSB\",\"King\"],[\"SR-509 W\\u002fO Des Moines Mem NB\\u002fSB\",\"King\"],[\"SR-509 E\\u002fO 1st Ave NB\\u002fSB\",\"King\"],[\"SR-509 E\\u002fO Des Moines Mem NB\\u002fSB\",\"King\"],[\"SR-509 @ SR-509 ramp overpass NB\\u002fSB\",\"King\"],[\"SR-509 N\\u002fO Des Moines Mem NB\\u002fSB\",\"King\"],[\"SR-509 N\\u002fO SR-518 NB\\u002fSB\",\"King\"],[\"SR-99 @ I-5 NB\\u002fSB\",\"Pierce\"],[\"SR-99 E\\u002fO 54th NB\\u002fSB\",\"Pierce\"],[\"SR-99 S\\u002fO Porter NB\\u002fSB\",\"Pierce\"],[\"SR-99 S\\u002fO SR-18 NB\\u002fSB\",\"King\"],[\"SR-99 N\\u002fO SR-18 NB\\u002fSB\",\"King\"],[\"SR-99 N\\u002fO 320th NB\\u002fSB\",\"King\"],[\"SR-99 N\\u002fO 188th NB\\u002fSB\",\"King\"],[\"SR-99 @ WSF NB\\u002fSB\",\"King\"],[\"SR-99 @ Aurora Bridge NB\\u002fSB\",\"King\"],[\"SR-99 N\\u002fO 38th NB\\u002fSB\",\"King\"],[\"SR-99 S\\u002fO Roosevelt NB\\u002fSB\",\"King\"],[\"SR-99 E\\u002fO Evergreen NB\\u002fSB\",\"Snohomish\"],[\"SR-599 N\\u002fO I-5 NB\\u002fSB\",\"King\"],[\"SR-518 @ SR-509 WB\\u002fEB\",\"King\"],[\"SR-518 E\\u002fO SR-509 WB\\u002fEB\",\"King\"],[\"SR-18 E\\u002fO SR-99 WB\\u002fEB\",\"King\"],[\"SR-18 N\\u002fO 304th WB\\u002fEB\",\"King\"],[\"SR-18 S\\u002fO I-90 WB\\u002fEB\",\"King\"],[\"SR-16 @ TNB NB\\u002fSB\",\"Pierce\"],[\"SR-16 @ Purdy Dr NB\\u002fSB\",\"Pierce\"],[\"SR-16  N\\u002fO SR-302 NB\\u002fSB\",\"Kitsap\"],[\"SR-16 N\\u002fO SR-160 NB\\u002fSB\",\"Kitsap\"],[\"SR-16 N\\u002fO Tremont NB\\u002fSB\",\"Kitsap\"],[\"SR-16 S\\u002fO SR-3 NB\",\"Kitsap\"],[\"SR-202 @ SR-522 NB\\u002fSB\",\"King\"],[\"SR-202 N\\u002fO 145th NB\\u002fSB\",\"King\"],[\"SR-202 @ Sammamish River Br NB\\u002fSB\",\"King\"],[\"SR-202 S\\u002fO 144th NB\\u002fSB\",\"King\"],[\"SR-202 N\\u002fO Redmond Way NB\\u002fSB\",\"King\"],[\"SR-202 E\\u002fO 164th NB\\u002fSB\",\"King\"],[\"SR-202 E\\u002fO SR-520 NB\\u002fSB\",\"King\"],[\"SR-202 E\\u002fO E Lk Samm NB\\u002fSB\",\"King\"],[\"SR-202 E\\u002fO Sahalee NB\\u002fSB\",\"King\"],[\"SR-202 E\\u002fO 236th NB\\u002fSB\",\"King\"],[\"SR-202 S\\u002fO Ames Lake NB\\u002fSB\",\"King\"],[\"SR-202 S\\u002fO Duthie Hill NB\\u002fSB\",\"King\"],[\"SR-202 E\\u002fO SR-203 NB\\u002fSB\",\"King\"],[\"SR-202 N\\u002fO I-90 NB\\u002fSB\",\"King\"],[\"SR-526 W\\u002fO Paine Field Blvd WB\\u002fEB\",\"Snohomish\"],[\"SR-526 E\\u002fO Paine Field Blvd WB\\u002fEB\",\"Snohomish\"],[\"SR-9 @ SR-522 NB\\u002fSB\",\"Snohomish\"],[\"SR-9 N\\u002fO SR-2 NB\\u002fSB\",\"Snohomish\"],[\"SR-9 N\\u002fO SR-204 NB\\u002fSB\",\"Snohomish\"],[\"SR-9 N\\u002fO SR-92 NB\\u002fSB\",\"Snohomish\"],[\"SR-9 N\\u002fO 132nd NB\\u002fSB\",\"Snohomish\"],[\"SR-9 N\\u002fO SR-531 NB\\u002fSB\",\"Snohomish\"],[\"SR-9 S\\u002fO 67th NB\\u002fSB\",\"Snohomish\"],[\"SR-9 N\\u002fO Kackman NB\\u002fSB\",\"Snohomish\"],[\"SR-9 N\\u002fO Stanwood-Bryant NB\\u002fSB\",\"Snohomish\"],[\"SR-532 @ Island County WB\\u002fEB\",\"Snohomish\"],[\"SR-532 W\\u002fO 28th WB\\u002fEB\",\"Snohomish\"],[\"SR-522 N\\u002fO 145th NB\\u002fSB\",\"King\"],[\"SR-104 @ Hood Canal Bridge WB\\u002fEB\",\"Kitsap\"],[\"SR-104 E\\u002fO Hood Canal Bridge WB\\u002fEB\",\"Kitsap\"],[\"SR-104 N\\u002fO Pt Gamble Rd WB\\u002fEB\",\"Kitsap\"],[\"SR-104 E\\u002fO SR-307 WB\\u002fEB\",\"Kitsap\"],[\"SR-104 E\\u002fO Hansville WB\\u002fEB\",\"Kitsap\"],[\"SR-104 @ Ferry Loading Edm WB\\u002fEB\",\"Snohomish\"],[\"SR-104 N\\u002fO Pine WB\\u002fEB\",\"Snohomish\"],[\"SR-104 E\\u002fO 5th WB\\u002fEB\",\"Snohomish\"],[\"SR-104 W\\u002fO 19th WB\\u002fEB\",\"King\"],[\"SR-160 @ SR-16 WB\\u002fEB\",\"Kitsap\"],[\"SR-160 E\\u002fO Long Lake Rd WB\\u002fEB\",\"Kitsap\"],[\"SR-160 W\\u002fO Banner WB\\u002fEB\",\"Kitsap\"],[\"SR-160 E\\u002fO Peterson WB\\u002fEB\",\"Kitsap\"],[\"SR-160 S\\u002fO Southworth Dr WB\\u002fEB\",\"Kitsap\"],[\"SR-166 E\\u002fO SR-16 WB\\u002fEB\",\"Kitsap\"],[\"SR-3 E\\u002fO Sunset Way NB\\u002fSB\",\"Kitsap\"],[\"SR-3 N\\u002fO SR-305 NB\\u002fSB\",\"Kitsap\"],[\"SR-3 S\\u002fO Newberry Hill Rd NB\\u002fSB\",\"Kitsap\"],[\"SR-3 @ SR-304 NB\\u002fSB\",\"Kitsap\"],[\"SR-3 NE of SR-16 NB\\u002fSB\",\"Kitsap\"],[\"SR-3 W\\u002fO Lake Flora Rd NB\\u002fSB\",\"Kitsap\"],[\"SR-302 N\\u002fO 144th WB\\u002fEB\",\"Pierce\"],[\"SR-302 S\\u002fO 144th WB\\u002fEB\",\"Pierce\"],[\"SR-302 W\\u002fO Key Peninsula Hwy WB\\u002fEB\",\"Pierce\"],[\"SR-302 W\\u002fO Wright-Bliss WB\\u002fEB (E\\u002fO?)\",\"Pierce\"],[\"SR-303 E\\u002fO SR-3 NB\\u002fSB\",\"Kitsap\"],[\"SR-303 N\\u002fO 11th St NB\\u002fSB\",\"Kitsap\"],[\"SR-303 N\\u002fO SR-304 NB\\u002fSB\",\"Kitsap\"],[\"SR-304 E\\u002fO SR-3 WB\\u002fEB\",\"Kitsap\"],[\"SR-304 W\\u002fO Naval WB\\u002fEB\",\"Kitsap\"],[\"SR-305 W\\u002fO SR-307 WB\\u002fEB\",\"Kitsap\"],[\"SR-305 W\\u002fO Suquamish Way WB\\u002fEB\",\"Kitsap\"],[\"SR-305 N\\u002fO Day Rd WB\\u002fEB\",\"Kitsap\"],[\"SR-305 N\\u002fO High School Rd WB\\u002fEB\",\"Kitsap\"],[\"SR-305 S\\u002fO Winslow Way WB\\u002fEB\",\"Kitsap\"],[\"SR-305 @ Ferry Ramp WB\\u002fEB\",\"Kitsap\"],[\"SR-307 W\\u002fO SR-104 NB\\u002fSB\",\"Kitsap\"],[\"SR-307 N\\u002fO Gunderson NB\\u002fSB\",\"Kitsap\"],[\"SR-307 S\\u002fO Gunderson NB\\u002fSB\",\"Kitsap\"],[\"SR-307 N\\u002fO SR-305 NB\\u002fSB\",\"Kitsap\"],[\"SR-308 @ SR-3 WB\\u002fEB\",\"Kitsap\"],[\"SR-308 E\\u002fO SR-3 WB\\u002fEB\",\"Kitsap\"],[\"SR-308 E\\u002fO Silverdale Way WB\\u002fEB\",\"Kitsap\"],[\"SR-308 W\\u002fO Brownsville Hwy WB\\u002fEB\",\"Kitsap\"],[\"SR-310 @ SR-3 WB\\u002fEB\",\"Kitsap\"],[\"SR-310 W\\u002fO Callow WB\\u002fEB\",\"Kitsap\"],[\"SR-516 E\\u002fO SR-509 WB\\u002fEB\",\"King\"],[\"SR-516 W\\u002fO I-5 WB\\u002fEB\",\"King\"],[\"SR-516 E\\u002fO Meeker WB\\u002fEB\",\"King\"],[\"SR-516 W\\u002fO SR-167 WB\\u002fEB\",\"King\"],[\"SR-516 E\\u002fO SR-167 WB\\u002fEB\",\"King\"],[\"SR-516 E\\u002fO SR-18 WB\\u002fEB\",\"King\"],[\"SR-161 E\\u002fO SR-7 NB\\u002fSB\",\"Pierce\"],[\"SR-161 N\\u002fO Center NB\\u002fSB\",\"Pierce\"],[\"SR-161 N\\u002fO Eatonville Cutoff NB\\u002fSB\",\"Pierce\"],[\"SR-161 N\\u002fO 304th NB\\u002fSB\",\"Pierce\"],[\"SR-161 N\\u002fO 264th NB\\u002fSB\",\"Pierce\"],[\"SR-161 S\\u002fO 224th NB\\u002fSB\",\"Pierce\"],[\"SR-161 N\\u002fO 224th NB\\u002fSB\",\"Pierce\"],[\"SR-161 N\\u002fO 204th NB\\u002fSB\",\"Pierce\"],[\"SR-161 S\\u002fO SR-167 SB off-ramp NB\\u002fSB\",\"Pierce\"],[\"SR-161 S\\u002fO Valley NB\\u002fSB\",\"Pierce\"],[\"SR-161 N\\u002fO Valley NB\\u002fSB\",\"Pierce\"],[\"SR-161 N\\u002fO 8th NB\\u002fSB\",\"Pierce\"],[\"SR-900 S\\u002fO NB I-5 on-ramp @ Boe Acc WB\\u002fEB\",\"King\"],[\"SR-900 E\\u002fO 68th WB\\u002fEB\",\"King\"],[\"SR-900 @ I-405 WB\\u002fEB\",\"King\"],[\"SR-900 E\\u002fO 148th WB\\u002fEB\",\"King\"],[\"SR-900 N\\u002fO Talus WB\\u002fEB\",\"King\"],[\"SR-900 N\\u002fO Newport WB\\u002fEB\",\"King\"],[\"SR-524 W\\u002fO 3rd WB\\u002fEB\",\"Snohomish\"],[\"SR-524 S\\u002fO Main WB\\u002fEB\",\"Snohomish\"],[\"SR-524 N\\u002fO Main WB\\u002fEB\",\"Snohomish\"],[\"SR-524 E\\u002fO 68th WB\\u002fEB\",\"Snohomish\"],[\"SR-524 E\\u002fO 39th WB\\u002fEB\",\"Snohomish\"],[\"SR-524 N\\u002fO Paradise Lake WB\\u002fEB\",\"Snohomish\"],[\"SR-7 @ Thurston County NB\\u002fSB\",\"Pierce\"],[\"SR-7 W\\u002fO Alder Cutoff NB\\u002fSB\",\"Pierce\"],[\"SR-7 N\\u002fO Eatonville Hwy NB\\u002fSB\",\"Pierce\"],[\"SR-7 N\\u002fO Silver Lake NB\\u002fSB\",\"Pierce\"],[\"SR-7 S\\u002fO SR-702 NB\\u002fSB\",\"Pierce\"],[\"SR-7 N\\u002fO 304th NB\\u002fSB\",\"Pierce\"],[\"SR-7 N\\u002fO 260th NB\\u002fSB\",\"Pierce\"],[\"SR-7 S\\u002fO 224th NB\\u002fSB\",\"Pierce\"],[\"SR-7 N\\u002fO 224th NB\\u002fSB\",\"Pierce\"],[\"SR-7 N\\u002fO 38th NB\\u002fSB\",\"Pierce\"],[\"SR-2 E\\u002fO I-5 WB\\u002fEB\",\"Snohomish\"],[\"SR-2 S\\u002fO SR-204 WB\\u002fEB\",\"Snohomish\"],[\"SR-2 E\\u002fO Main WB\\u002fEB\",\"Snohomish\"],[\"SR-2 E\\u002fO Rice WB\\u002fEB\",\"Snohomish\"],[\"SR-2 E\\u002fO 10th (Gold Bar) WB\\u002fEB\",\"Snohomish\"],[\"SR-2 W\\u002fO Index-Galena WB\\u002fEB\",\"Snohomish\"],[\"SR-2 E\\u002fO Index-Galena WB\\u002fEB\",\"Snohomish\"],[\"SR-2 E\\u002fO Skykomish WB\\u002fEB\",\"King\"],[\"SR-527 N\\u002fO I-405 NB\\u002fSB\",\"Snohomish\"],[\"SR-527 N\\u002fO 196th NB\\u002fSB\",\"Snohomish\"],[\"SR-527 N\\u002fO Dumas NB\\u002fSB\",\"Snohomish\"],[\"SR-527 N\\u002fO 100th NB\\u002fSB\",\"Snohomish\"],[\"SR-513 S\\u002fO 44th NB\\u002fSB\",\"King\"],[\"SR-169 N\\u002fO SR-164 NB\\u002fSB\",\"King\"],[\"SR-169 S\\u002fO Lawson NB\\u002fSB\",\"King\"],[\"SR-169 S\\u002fO 276th NB\\u002fSB\",\"King\"],[\"SR-169 N\\u002fO 280th NB\\u002fSB\",\"King\"],[\"SR-169 N\\u002fO 231st NB\\u002fSB\",\"King\"],[\"SR-169 N\\u002fO 232nd NB\\u002fSB\",\"King\"],[\"SR-169 W\\u002fO 140th NB\\u002fSB\",\"King\"],[\"SR-515 N\\u002fO SR-516 NB\\u002fSB\",\"King\"],[\"SR-515 N\\u002fO 108th NB\\u002fSB\",\"King\"],[\"SR-515 N\\u002fO Puget NB\\u002fSB\",\"King\"],[\"SR-181 N\\u002fO SR-516 NB\\u002fSB\",\"King\"],[\"SR-181 S\\u002fO James NB\\u002fSB\",\"King\"],[\"SR-181 N\\u002fO James NB\\u002fSB\",\"King\"],[\"SR-181 N\\u002fO 228th NB\\u002fSB\",\"King\"],[\"SR-181 N\\u002fO 180th NB\\u002fSB\",\"King\"],[\"SR-181 S\\u002fO Longacres NB\\u002fSB\",\"King\"],[\"SR-523 E\\u002fO Lenora WB\\u002fEB\",\"King\"],[\"SR-529 @ I-5 (Evt) NB\\u002fSB\",\"Snohomish\"],[\"SR-529 S\\u002fO Everett NB\\u002fSB\",\"Snohomish\"],[\"SR-529 W\\u002fO Maple NB\\u002fSB\",\"Snohomish\"],[\"SR-529 N\\u002fO Everett NB\\u002fSB\",\"Snohomish\"],[\"SR-529 N\\u002fO Broadway NB\\u002fSB\",\"Snohomish\"],[\"SR-96 @ I-5 WB\\u002fEB\",\"Snohomish\"],[\"SR-96 N\\u002fO 132nd WB\\u002fEB\",\"Snohomish\"],[\"SR-96 E\\u002fO Seattle Hill WB\\u002fEB\",\"Snohomish\"],[\"SR-164 @ SR-18 WB\\u002fEB\",\"King\"],[\"SR-164 S\\u002fO 400th WB\\u002fEB\",\"King\"],[\"SR-528 @ I-5 WB\\u002fEB\",\"Snohomish\"],[\"SR-528 E\\u002fO SR-529 WB\\u002fEB\",\"Snohomish\"],[\"SR-531 N\\u002fO Rose WB\\u002fEB\",\"Snohomish\"],[\"SR-531 E\\u002fO Lk Goodwin WB\\u002fEB\",\"Snohomish\"],[\"SR-531 E\\u002fO 27th WB\\u002fEB\",\"Snohomish\"],[\"SR-531 E\\u002fO I-5 WB\\u002fEB\",\"Snohomish\"],[\"SR-531 E\\u002fO 43rd WB\\u002fEB\",\"Snohomish\"],[\"SR-531 W\\u002fO 67th WB\\u002fEB\",\"Snohomish\"],[\"SR-531 E\\u002fO 67th WB\\u002fEB\",\"Snohomish\"],[\"SR-162 @ SR-410 WB\\u002fEB\",\"Pierce\"],[\"SR-162 S\\u002fO Pioneer WB\\u002fEB\",\"Pierce\"],[\"SR-162 E\\u002fO Orville WB\\u002fEB\",\"Pierce\"],[\"SR-162 E\\u002fO S Prairie WB\\u002fEB\",\"Pierce\"],[\"SR-162 N\\u002fO SR-165 WB\\u002fEB\",\"Pierce\"],[\"SR-163 @ SR-16 NB\\u002fSB\",\"Pierce\"],[\"SR-163 N\\u002fO 37th NB\\u002fSB\",\"Pierce\"],[\"SR-163 N\\u002fO Park NB\\u002fSB\",\"Pierce\"],[\"SR-530 @ I-5 WB\\u002fEB\",\"Snohomish\"],[\"SR-530 E\\u002fO Smokey Pt WB\\u002fEB\",\"Snohomish\"],[\"SR-530 N\\u002fO 211th WB\\u002fEB\",\"Snohomish\"],[\"SR-530 E\\u002fO SR-9 WB\\u002fEB\",\"Snohomish\"],[\"SR-530 W\\u002fO Arlington Hts WB\\u002fEB\",\"Snohomish\"],[\"SR-530 E\\u002fO Arlington Hts WB\\u002fEB\",\"Snohomish\"],[\"SR-530 W\\u002fO Jim Creek WB\\u002fEB\",\"Snohomish\"],[\"SR-530 W\\u002fO Ramstad WB\\u002fEB\",\"Snohomish\"],[\"SR-530 @ Skagit County WB\\u002fEB\",\"Snohomish\"],[\"SR-203 N\\u002fO 203rd NB\\u002fSB\",\"Snohomish\"],[\"SR-203 N\\u002fO Cherry Valley NB\\u002fSB\",\"King\"],[\"SR-203 N\\u002fO 124th NB\\u002fSB\",\"King\"],[\"SR-203 W\\u002fO Stillwater Hill NB\\u002fSB\",\"King\"],[\"SR-203 N\\u002fO Carnation Farm NB\\u002fSB\",\"King\"],[\"SR-203 N\\u002fO Tolt Hill NB\\u002fSB\",\"King\"],[\"SR-203 N\\u002fO SR-202 NB\\u002fSB\",\"King\"],[\"SR-507 S\\u002fO SR-7 NB\\u002fSB\",\"Pierce\"],[\"SR-507 S\\u002fO E Gate NB\\u002fSB\",\"Pierce\"],[\"SR-507 S\\u002fO 288th NB\\u002fSB\",\"Pierce\"],[\"SR-507 N\\u002fO 346th NB\\u002fSB\",\"Pierce\"],[\"SR-204 @ SR-2 NB\\u002fSB\",\"Snohomish\"],[\"SR-204 N\\u002fO 20th NB\\u002fSB\",\"Snohomish\"],[\"SR-204 N\\u002fO SR-2 NB\\u002fSB\",\"Snohomish\"],[\"SR-519 W\\u002fO 4th NB\\u002fSB\",\"King\"],[\"SR-92 E\\u002fO Lake WB\\u002fEB\",\"Snohomish\"],[\"SR-92 E\\u002fO Callow WB\\u002fEB\",\"Snohomish\"],[\"SR-92 E\\u002fO Quarry WB\\u002fEB\",\"Snohomish\"],[\"SR-92 W\\u002fO Mountain Loop WB\\u002fEB\",\"Snohomish\"],[\"SR-702 E\\u002fO SR-507 WB\\u002fEB\",\"Pierce\"],[\"SR-702 E\\u002fO Harts Lake WB\\u002fEB\",\"Pierce\"],[\"SR-702 E\\u002fO 40th WB\\u002fEB\",\"Pierce\"],[\"SR-702 W\\u002fO 8th WB\\u002fEB\",\"Pierce\"],[\"SR-702 E\\u002fO 8th WB\\u002fEB\",\"Pierce\"],[\"SR-165 W\\u002fO SR-162 NB\\u002fSB\",\"Pierce\"],[\"SR-165 N\\u002fO Davis NB\\u002fSB\",\"Pierce\"],[\"SR-165 N\\u002fO Wilkeson-Carbonado NB\\u002fSB\",\"Pierce\"],[\"SR-704 E\\u002fO Spanaway Loop WB\\u002fEB\",\"Pierce\"],[\"SR-706 E\\u002fO SR-7 WB\\u002fEB\",\"Pierce\"],[\"SR-706 E\\u002fO Kernahan WB\\u002fEB\",\"Pierce\"]],\"hovertemplate\":\"Observed=%{x}\\u003cbr\\u003eModel=%{y}\\u003cbr\\u003elocation=%{customdata[0]}\\u003cbr\\u003eCounty=%{customdata[1]}\\u003cextra\\u003e\\u003c\\u002fextra\\u003e\",\"legendgroup\":\"\",\"marker\":{\"color\":\"#91268F\",\"symbol\":\"circle\"},\"mode\":\"markers\",\"name\":\"\",\"orientation\":\"v\",\"showlegend\":false,\"x\":{\"dtype\":\"i2\",\"bdata\":\"XglQCcQJHQobCeMIMArDCZIS1RIJFjYW5AYDDzYK3gz6BnUHGgosCjULSAuBChAL9QhgCo8IywjABskGhQL1BX0FeAVkBTEFFgSmBjoKjA62CwMGVAbgBFMDBgQIBOQIgAllCW8J2AroCfgH+AcOBxYHUgN2Av8EiwQrBMgDWwPQAvcESgMWAs0DTQUPBXIDZQMeBAcEFAaMBpAJjAmxCekGVAo6BisFBQ3GAmwB9gTDFb0K7gTKAyoCSQBKADAAHQATC\\u002f4M0A8MBAYJqwA7AD4AgACYAagC8ABmAKUB0AIoBdAF\\u002fARABn4EHQRYAsACLQlrBnAJ6AUgBNsB+AoTAzMEMQWCCUAFPQxaCCAJzQfLCPkHcgP5ANkAlgL6AS8DqQZlBGoDyQFNAmsBrwFLAYwBkwM9Bx8FawXDBz0D5AGSArsBhwAgBOMCkgS+AsUA1wAAAiABJgHcAGgB2wHbAQ0CmAHpAFYAGAHqBL0GGgjoBp4MYAOqAWcD4wCdAMwD8AOyASoDYQJOBJQCWALUAQkB3QDKAtwBZAKoApwAxwAHAeYAgQMeAQQBOARrA5AG2APPAxgAyAE5AVICVgL4AWADwAToAzoH0AIgA5wDiAHyAsYAqgIiAkQAoACnAO4BSgGFBPEAagDBAOQAawGyAoEDRgVaA3oBfgliBloD3wIEAloB8gDWAMwFRQPAAloD2AKOAVICMAMiAosGIgT2AzkDmAF9AwYH8QSqBXIGVAY8CGECTQEPAWwB7gBiBIAFiAHcACoDlALYAmgCSwCwAbUCzgRgBskDMAKAApwDagJiASMCpAEUAaEAsgJyAxADpAEIAs0BmgEUAacAfAJOAuUC5gHqARsC9gHwBM4BFQJjAgMBcwHAAxQERQXiA0ABRAEMAowBhQF+AUIBhgHTAHgA0AKWAEsA\"},\"xaxis\":\"x\",\"y\":{\"dtype\":\"i2\",\"bdata\":\"AAAAAPAC+QLrAvICaQQgBO4HaQkBDcINSgfNFqYYlxixGWQYMBYHFvwTpBJiEXwR+BB2EKAHpgeTAm4CTAzQEZYSMQpNChsHLAUqDGEXDxTfEx4S3hEHDDwLpw13DS8PMxAtEuQSuw9XD9oItQiUBugGOgWlA64IpQkHBaIF8wYwBvoFyAR9Bl8DjAUdBUwD\\u002fwJ9Ay0DtAYdBqEqegAAAEcG\\u002fwQ6AAAAiyRaASUAXgdDG4QMnASrATUAKQAAAAAAAACtDCANExRBBrgFbwAbABsAOQBHAfkAmgBIAF8AbgNiB+QKCAUtBCIFEgUrA2wCEAaUDSEM7wabAogAQA1TB78HcweBCHgD+xl1DwwQAA3NDcYH1AJkAfkALgNnAaIBWAgPBfQB2AFtAbwAEQGiAsMA+gaEBPoEBgSyB4gCAgKwAC0APwAAAFcCLggAABkAEQDSAJgA\\u002fwCoABQBywE2ArYAiQC+AEgAnAE4ANEA4gkLChAQAAA5AUEBiwArAFkDvgMrAVYGDgNvBgQENgSfADQANAAIATUBQAJZAnIAdADDAIIAeAGfAKEADQiGDBwQtAaSAwQAHQDBAFgBVQEFAhwCxwP8BMcHVgJ\\u002fBMEGCgLGBU8CcASOAwMBQgAZAXYCswGzAgAAEAAXAB8AOgDnABYBOwGOAbkAWQy0BvICOAFvAG8AUQAAAFgMqQO9ARcEPAZvAJoBQwFFAnEDoAPHBmIBTAKyBOwH\\u002fAbOCFgLWgurC5ACtQGUAWUBfgBhAgwGpQE9AMwDigJoBGwCIACKAFwCwAWpA+kAYgEmAvwC+QCFAPEAfQNSAcYATgFmApwBggGPAU4BHgHsAAAAxwHUAdUB2gDlADsB0wAMAZsAMAAzALQAJgE9BcYGAgMsAsIAmwAKAAoAaQBpAEkApABMACMA+AIAAAAA\"},\"yaxis\":\"y\",\"type\":\"scatter\",\"line\":{\"color\":\"Grey\",\"width\":2}},{\"hovertemplate\":\"Observed=%{x}\\u003cbr\\u003eModel=%{y}\\u003cextra\\u003e\\u003c\\u002fextra\\u003e\",\"legendgroup\":\"\",\"line\":{\"color\":\"Grey\",\"dash\":\"solid\",\"width\":2},\"marker\":{\"symbol\":\"circle\"},\"mode\":\"lines\",\"name\":\"\",\"orientation\":\"v\",\"showlegend\":false,\"x\":{\"dtype\":\"f8\",\"bdata\":\"AAAAAAAAAABi3s6QmLdMQGLezpCYt1xAyiabbLKJZUBi3s6QmLdsQP1KgVq\\u002f8nFAyiabbLKJdUCWArV+pSB5QGLezpCYt3xAF1100UUngED9SoFav\\u002fKBQOM4juM4voNAyiabbLKJhUCwFKj1K1WHQJYCtX6lIIlAfPDBBx\\u002fsikBi3s6QmLeMQEjM2xkSg45AF1100UUnkEAK1PqVAg2RQP1KgVq\\u002f8pFA8MEHH3zYkkDjOI7jOL6TQNavFKj1o5RAyiabbLKJlUC9nSExb2+WQLAUqPUrVZdAo4suuug6mECWArV+pSCZQIl5O0NiBppAfPDBBx\\u002fsmkBvZ0jM29GbQGLezpCYt5xAVVVVVVWdnUBIzNsZEoOeQDtDYt7OaJ9AF1100UUnoECRmLczJJqgQArU+pUCDaFAhA8++OB\\u002foUD9SoFav\\u002fKhQHeGxLydZaJA8MEHH3zYokBq\\u002fUqBWkujQOM4juM4vqNAXXTRRRcxpEDWrxSo9aOkQFDrVwrUFqVAyiabbLKJpUBDYt7OkPylQL2dITFvb6ZANtlkk03ipkCwFKj1K1WnQClQ61cKyKdAo4suuug6qEAcx3Ecx62oQJYCtX6lIKlADz744IOTqUCJeTtDYgaqQAK1fqVAeapAfPDBBx\\u002fsqkD1KwVq\\u002fV6rQG9nSMzb0atA6KKLLrpErEBi3s6QmLesQNwZEvN2Kq1AVVVVVVWdrUDPkJi3MxCuQEjM2xkSg65AwgcffPD1rkA7Q2LezmivQLV+pUCt269AF1100UUnsEDU+pUCtWCwQJGYtzMkmrBATTbZZJPTsEAK1PqVAg2xQMdxHMdxRrFAhA8++OB\\u002fsUBArV8pULmxQP1KgVq\\u002f8rFAuuiiiy4sskB3hsS8nWWyQDQk5u0Mn7JA8MEHH3zYskCtXylQ6xGzQGr9SoFaS7NAJ5tsssmEs0DjOI7jOL6zQKDWrxSo97NAXXTRRRcxtEAaEvN2hmq0QNavFKj1o7RAk0022WTdtEBQ61cK1Ba1QA2JeTtDULVAyiabbLKJtUCGxLydIcO1QENi3s6Q\\u002fLVAAAAAAAA2tkA=\"},\"xaxis\":\"x\",\"y\":{\"dtype\":\"f8\",\"bdata\":\"gBvgbYRwSsAMlpd88EoyQMbYO3W6XVZABeaoZVwUZECm37OQ2\\u002flsQKNs312t73JAdelk82xid0BFZuqILNV7QIvxNw\\u002f2I4BA86\\u002f62VVdgkBbbr2ktZaEQMMsgG8V0IZALetCOnUJiUCVqQUF1UKLQP1nyM80fI1AZiaLmpS1j0Bn8qYyeveQQJtRCBgqFJJAz7Bp\\u002fdkwk0ADEMviiU2UQDdvLMg5apVAa86NremGlkCfLe+SmaOXQNSMUHhJwJhACeyxXfncmUA9SxNDqfmaQHGqdChZFpxApQnWDQkznUDZaDfzuE+eQA7ImNhobJ9AoRP9XoxEoEA7w61R5NKgQNVyXkQ8YaFAbyIPN5TvoUAJ0r8p7H2iQKOBcBxEDKNAPTEhD5yao0DY4NEB9CikQHGQgvRLt6RADEAz56NFpUCl7+PZ+9OlQECflMxTYqZA2U5Fv6vwpkB0\\u002fvWxA3+nQA2upqRbDahAqF1Xl7ObqEBCDQiKCyqpQNy8uHxjuKlAd2xpb7tGqkAQHBpiE9WqQKvLylRrY6tARHt7R8Pxq0DfKiw6G4CsQHna3CxzDq1AE4qNH8ucrUCtOT4SIyuuQEfp7gR7ua5A4Zif99JHr0B8SFDqKtavQAp8gG5BMrBA2NPYZ215sECkKzFhmcCwQHKDiVrFB7FAP9vhU\\u002fFOsUAMMzpNHZaxQNmKkkZJ3bFApuLqP3UkskBzOkM5oWuyQECSmzLNsrJADerzK\\u002fn5skDaQUwlJUGzQKeZpB5RiLNAdPH8F33Ps0BBSVURqRa0QA+hrQrVXbRA2\\u002fgFBAGltECoUF79LOy0QHaotvZYM7VAQwAP8IR6tUAPWGfpsMG1QNyvv+LcCLZAqgcY3AhQtkB3X3DVNJe2QES3yM5g3rZAEA8hyIwlt0DeZnnBuGy3QKu+0brks7dAeBYqtBD7t0BEboKtPEK4QBLG2qZoibhA3x0zoJTQuECsdYuZwBe5QHnN45LsXrlARiU8jBimuUATfZSFRO25QOHU7H5wNLpArixFeJx7ukB6hJ1xyMK6QEfc9Wr0CbtAFTROZCBRu0A=\"},\"yaxis\":\"y\",\"type\":\"scatter\"}],                        {\"template\":{\"data\":{\"barpolar\":[{\"marker\":{\"line\":{\"color\":\"white\",\"width\":0.5},\"pattern\":{\"fillmode\":\"overlay\",\"size\":10,\"solidity\":0.2}},\"type\":\"barpolar\"}],\"bar\":[{\"error_x\":{\"color\":\"rgb(36,36,36)\"},\"error_y\":{\"color\":\"rgb(36,36,36)\"},\"marker\":{\"line\":{\"color\":\"white\",\"width\":0.5},\"pattern\":{\"fillmode\":\"overlay\",\"size\":10,\"solidity\":0.2}},\"type\":\"bar\"}],\"carpet\":[{\"aaxis\":{\"endlinecolor\":\"rgb(36,36,36)\",\"gridcolor\":\"white\",\"linecolor\":\"white\",\"minorgridcolor\":\"white\",\"startlinecolor\":\"rgb(36,36,36)\"},\"baxis\":{\"endlinecolor\":\"rgb(36,36,36)\",\"gridcolor\":\"white\",\"linecolor\":\"white\",\"minorgridcolor\":\"white\",\"startlinecolor\":\"rgb(36,36,36)\"},\"type\":\"carpet\"}],\"choropleth\":[{\"colorbar\":{\"outlinewidth\":1,\"tickcolor\":\"rgb(36,36,36)\",\"ticks\":\"outside\"},\"type\":\"choropleth\"}],\"contourcarpet\":[{\"colorbar\":{\"outlinewidth\":1,\"tickcolor\":\"rgb(36,36,36)\",\"ticks\":\"outside\"},\"type\":\"contourcarpet\"}],\"contour\":[{\"colorbar\":{\"outlinewidth\":1,\"tickcolor\":\"rgb(36,36,36)\",\"ticks\":\"outside\"},\"colorscale\":[[0.0,\"#440154\"],[0.1111111111111111,\"#482878\"],[0.2222222222222222,\"#3e4989\"],[0.3333333333333333,\"#31688e\"],[0.4444444444444444,\"#26828e\"],[0.5555555555555556,\"#1f9e89\"],[0.6666666666666666,\"#35b779\"],[0.7777777777777778,\"#6ece58\"],[0.8888888888888888,\"#b5de2b\"],[1.0,\"#fde725\"]],\"type\":\"contour\"}],\"heatmap\":[{\"colorbar\":{\"outlinewidth\":1,\"tickcolor\":\"rgb(36,36,36)\",\"ticks\":\"outside\"},\"colorscale\":[[0.0,\"#440154\"],[0.1111111111111111,\"#482878\"],[0.2222222222222222,\"#3e4989\"],[0.3333333333333333,\"#31688e\"],[0.4444444444444444,\"#26828e\"],[0.5555555555555556,\"#1f9e89\"],[0.6666666666666666,\"#35b779\"],[0.7777777777777778,\"#6ece58\"],[0.8888888888888888,\"#b5de2b\"],[1.0,\"#fde725\"]],\"type\":\"heatmap\"}],\"histogram2dcontour\":[{\"colorbar\":{\"outlinewidth\":1,\"tickcolor\":\"rgb(36,36,36)\",\"ticks\":\"outside\"},\"colorscale\":[[0.0,\"#440154\"],[0.1111111111111111,\"#482878\"],[0.2222222222222222,\"#3e4989\"],[0.3333333333333333,\"#31688e\"],[0.4444444444444444,\"#26828e\"],[0.5555555555555556,\"#1f9e89\"],[0.6666666666666666,\"#35b779\"],[0.7777777777777778,\"#6ece58\"],[0.8888888888888888,\"#b5de2b\"],[1.0,\"#fde725\"]],\"type\":\"histogram2dcontour\"}],\"histogram2d\":[{\"colorbar\":{\"outlinewidth\":1,\"tickcolor\":\"rgb(36,36,36)\",\"ticks\":\"outside\"},\"colorscale\":[[0.0,\"#440154\"],[0.1111111111111111,\"#482878\"],[0.2222222222222222,\"#3e4989\"],[0.3333333333333333,\"#31688e\"],[0.4444444444444444,\"#26828e\"],[0.5555555555555556,\"#1f9e89\"],[0.6666666666666666,\"#35b779\"],[0.7777777777777778,\"#6ece58\"],[0.8888888888888888,\"#b5de2b\"],[1.0,\"#fde725\"]],\"type\":\"histogram2d\"}],\"histogram\":[{\"marker\":{\"line\":{\"color\":\"white\",\"width\":0.6}},\"type\":\"histogram\"}],\"mesh3d\":[{\"colorbar\":{\"outlinewidth\":1,\"tickcolor\":\"rgb(36,36,36)\",\"ticks\":\"outside\"},\"type\":\"mesh3d\"}],\"parcoords\":[{\"line\":{\"colorbar\":{\"outlinewidth\":1,\"tickcolor\":\"rgb(36,36,36)\",\"ticks\":\"outside\"}},\"type\":\"parcoords\"}],\"pie\":[{\"automargin\":true,\"type\":\"pie\"}],\"scatter3d\":[{\"line\":{\"colorbar\":{\"outlinewidth\":1,\"tickcolor\":\"rgb(36,36,36)\",\"ticks\":\"outside\"}},\"marker\":{\"colorbar\":{\"outlinewidth\":1,\"tickcolor\":\"rgb(36,36,36)\",\"ticks\":\"outside\"}},\"type\":\"scatter3d\"}],\"scattercarpet\":[{\"marker\":{\"colorbar\":{\"outlinewidth\":1,\"tickcolor\":\"rgb(36,36,36)\",\"ticks\":\"outside\"}},\"type\":\"scattercarpet\"}],\"scattergeo\":[{\"marker\":{\"colorbar\":{\"outlinewidth\":1,\"tickcolor\":\"rgb(36,36,36)\",\"ticks\":\"outside\"}},\"type\":\"scattergeo\"}],\"scattergl\":[{\"marker\":{\"colorbar\":{\"outlinewidth\":1,\"tickcolor\":\"rgb(36,36,36)\",\"ticks\":\"outside\"}},\"type\":\"scattergl\"}],\"scattermapbox\":[{\"marker\":{\"colorbar\":{\"outlinewidth\":1,\"tickcolor\":\"rgb(36,36,36)\",\"ticks\":\"outside\"}},\"type\":\"scattermapbox\"}],\"scattermap\":[{\"marker\":{\"colorbar\":{\"outlinewidth\":1,\"tickcolor\":\"rgb(36,36,36)\",\"ticks\":\"outside\"}},\"type\":\"scattermap\"}],\"scatterpolargl\":[{\"marker\":{\"colorbar\":{\"outlinewidth\":1,\"tickcolor\":\"rgb(36,36,36)\",\"ticks\":\"outside\"}},\"type\":\"scatterpolargl\"}],\"scatterpolar\":[{\"marker\":{\"colorbar\":{\"outlinewidth\":1,\"tickcolor\":\"rgb(36,36,36)\",\"ticks\":\"outside\"}},\"type\":\"scatterpolar\"}],\"scatter\":[{\"fillpattern\":{\"fillmode\":\"overlay\",\"size\":10,\"solidity\":0.2},\"type\":\"scatter\"}],\"scatterternary\":[{\"marker\":{\"colorbar\":{\"outlinewidth\":1,\"tickcolor\":\"rgb(36,36,36)\",\"ticks\":\"outside\"}},\"type\":\"scatterternary\"}],\"surface\":[{\"colorbar\":{\"outlinewidth\":1,\"tickcolor\":\"rgb(36,36,36)\",\"ticks\":\"outside\"},\"colorscale\":[[0.0,\"#440154\"],[0.1111111111111111,\"#482878\"],[0.2222222222222222,\"#3e4989\"],[0.3333333333333333,\"#31688e\"],[0.4444444444444444,\"#26828e\"],[0.5555555555555556,\"#1f9e89\"],[0.6666666666666666,\"#35b779\"],[0.7777777777777778,\"#6ece58\"],[0.8888888888888888,\"#b5de2b\"],[1.0,\"#fde725\"]],\"type\":\"surface\"}],\"table\":[{\"cells\":{\"fill\":{\"color\":\"rgb(237,237,237)\"},\"line\":{\"color\":\"white\"}},\"header\":{\"fill\":{\"color\":\"rgb(217,217,217)\"},\"line\":{\"color\":\"white\"}},\"type\":\"table\"}]},\"layout\":{\"annotationdefaults\":{\"arrowhead\":0,\"arrowwidth\":1},\"autotypenumbers\":\"strict\",\"coloraxis\":{\"colorbar\":{\"outlinewidth\":1,\"tickcolor\":\"rgb(36,36,36)\",\"ticks\":\"outside\"}},\"colorscale\":{\"diverging\":[[0.0,\"rgb(103,0,31)\"],[0.1,\"rgb(178,24,43)\"],[0.2,\"rgb(214,96,77)\"],[0.3,\"rgb(244,165,130)\"],[0.4,\"rgb(253,219,199)\"],[0.5,\"rgb(247,247,247)\"],[0.6,\"rgb(209,229,240)\"],[0.7,\"rgb(146,197,222)\"],[0.8,\"rgb(67,147,195)\"],[0.9,\"rgb(33,102,172)\"],[1.0,\"rgb(5,48,97)\"]],\"sequential\":[[0.0,\"#440154\"],[0.1111111111111111,\"#482878\"],[0.2222222222222222,\"#3e4989\"],[0.3333333333333333,\"#31688e\"],[0.4444444444444444,\"#26828e\"],[0.5555555555555556,\"#1f9e89\"],[0.6666666666666666,\"#35b779\"],[0.7777777777777778,\"#6ece58\"],[0.8888888888888888,\"#b5de2b\"],[1.0,\"#fde725\"]],\"sequentialminus\":[[0.0,\"#440154\"],[0.1111111111111111,\"#482878\"],[0.2222222222222222,\"#3e4989\"],[0.3333333333333333,\"#31688e\"],[0.4444444444444444,\"#26828e\"],[0.5555555555555556,\"#1f9e89\"],[0.6666666666666666,\"#35b779\"],[0.7777777777777778,\"#6ece58\"],[0.8888888888888888,\"#b5de2b\"],[1.0,\"#fde725\"]]},\"colorway\":[\"#91268F\",\"#8CC63E\",\"#00A7A0\",\"#F05A28\",\"#4C4C4C\",\"#630460\",\"#9f3913\",\"#588527\",\"#00716c\",\"#3e4040\"],\"font\":{\"color\":\"rgb(36,36,36)\",\"family\":\"Poppins\",\"size\":11},\"geo\":{\"bgcolor\":\"white\",\"lakecolor\":\"white\",\"landcolor\":\"white\",\"showlakes\":true,\"showland\":true,\"subunitcolor\":\"white\"},\"hoverlabel\":{\"align\":\"left\"},\"hovermode\":\"closest\",\"mapbox\":{\"style\":\"light\"},\"paper_bgcolor\":\"white\",\"plot_bgcolor\":\"white\",\"polar\":{\"angularaxis\":{\"gridcolor\":\"rgb(232,232,232)\",\"linecolor\":\"rgb(36,36,36)\",\"showgrid\":false,\"showline\":true,\"ticks\":\"outside\"},\"bgcolor\":\"white\",\"radialaxis\":{\"gridcolor\":\"rgb(232,232,232)\",\"linecolor\":\"rgb(36,36,36)\",\"showgrid\":false,\"showline\":true,\"ticks\":\"outside\"}},\"scene\":{\"xaxis\":{\"backgroundcolor\":\"white\",\"gridcolor\":\"rgb(232,232,232)\",\"gridwidth\":2,\"linecolor\":\"rgb(36,36,36)\",\"showbackground\":true,\"showgrid\":false,\"showline\":true,\"ticks\":\"outside\",\"zeroline\":false,\"zerolinecolor\":\"rgb(36,36,36)\"},\"yaxis\":{\"backgroundcolor\":\"white\",\"gridcolor\":\"rgb(232,232,232)\",\"gridwidth\":2,\"linecolor\":\"rgb(36,36,36)\",\"showbackground\":true,\"showgrid\":false,\"showline\":true,\"ticks\":\"outside\",\"zeroline\":false,\"zerolinecolor\":\"rgb(36,36,36)\"},\"zaxis\":{\"backgroundcolor\":\"white\",\"gridcolor\":\"rgb(232,232,232)\",\"gridwidth\":2,\"linecolor\":\"rgb(36,36,36)\",\"showbackground\":true,\"showgrid\":false,\"showline\":true,\"ticks\":\"outside\",\"zeroline\":false,\"zerolinecolor\":\"rgb(36,36,36)\"}},\"shapedefaults\":{\"fillcolor\":\"black\",\"line\":{\"width\":0},\"opacity\":0.3},\"ternary\":{\"aaxis\":{\"gridcolor\":\"rgb(232,232,232)\",\"linecolor\":\"rgb(36,36,36)\",\"showgrid\":false,\"showline\":true,\"ticks\":\"outside\"},\"baxis\":{\"gridcolor\":\"rgb(232,232,232)\",\"linecolor\":\"rgb(36,36,36)\",\"showgrid\":false,\"showline\":true,\"ticks\":\"outside\"},\"bgcolor\":\"white\",\"caxis\":{\"gridcolor\":\"rgb(232,232,232)\",\"linecolor\":\"rgb(36,36,36)\",\"showgrid\":false,\"showline\":true,\"ticks\":\"outside\"}},\"title\":{\"x\":0.05},\"xaxis\":{\"automargin\":true,\"gridcolor\":\"rgb(232,232,232)\",\"linecolor\":\"rgb(36,36,36)\",\"showgrid\":false,\"showline\":true,\"ticks\":\"outside\",\"title\":{\"standoff\":15},\"zeroline\":false,\"zerolinecolor\":\"rgb(36,36,36)\"},\"yaxis\":{\"automargin\":true,\"gridcolor\":\"rgb(232,232,232)\",\"linecolor\":\"rgb(36,36,36)\",\"showgrid\":false,\"showline\":true,\"ticks\":\"outside\",\"title\":{\"standoff\":15},\"zeroline\":false,\"zerolinecolor\":\"rgb(36,36,36)\"}}},\"xaxis\":{\"anchor\":\"y\",\"domain\":[0.0,1.0],\"title\":{\"text\":\"Observed\"}},\"yaxis\":{\"anchor\":\"x\",\"domain\":[0.0,1.0],\"title\":{\"text\":\"Model\"}},\"legend\":{\"tracegroupgap\":0},\"title\":{\"text\":\"Medium Trucks: Region\"},\"margin\":{\"l\":100,\"r\":100,\"t\":100,\"b\":100},\"height\":600,\"width\":800,\"shapes\":[{\"line\":{\"color\":\"Red\",\"dash\":\"dash\",\"width\":2},\"type\":\"line\",\"x0\":0,\"x1\":10913,\"y0\":0,\"y1\":10913}],\"annotations\":[{\"align\":\"right\",\"font\":{\"color\":\"pink\",\"size\":12},\"showarrow\":false,\"text\":\"y = x\",\"x\":11458.65,\"y\":11458.65},{\"align\":\"right\",\"font\":{\"color\":\"black\",\"size\":12},\"showarrow\":false,\"text\":\"r^2 = 0.52\",\"x\":5970.3,\"y\":7342.7828570672045}]},                        {\"responsive\": true}                    ).then(function(){\n",
       "                            \n",
       "var gd = document.getElementById('644095c3-527a-4aec-999b-d1e1e123a587');\n",
       "var x = new MutationObserver(function (mutations, observer) {{\n",
       "        var display = window.getComputedStyle(gd).display;\n",
       "        if (!display || display === 'none') {{\n",
       "            console.log([gd, 'removed!']);\n",
       "            Plotly.purge(gd);\n",
       "            observer.disconnect();\n",
       "        }}\n",
       "}});\n",
       "\n",
       "// Listen for the removal of the full notebook cells\n",
       "var notebookContainer = gd.closest('#notebook-container');\n",
       "if (notebookContainer) {{\n",
       "    x.observe(notebookContainer, {childList: true});\n",
       "}}\n",
       "\n",
       "// Listen for the clearing of the current output cell\n",
       "var outputEl = gd.closest('.output');\n",
       "if (outputEl) {{\n",
       "    x.observe(outputEl, {childList: true});\n",
       "}}\n",
       "\n",
       "                        })                };            </script>        </div>"
      ]
     },
     "metadata": {},
     "output_type": "display_data"
    }
   ],
   "source": [
    "fig = create_truck_chart(df_daily_med, 'Medium')\n",
    "fig.show()"
   ]
  },
  {
   "cell_type": "raw",
   "id": "d673c0fb",
   "metadata": {},
   "source": [
    "#### King"
   ]
  },
  {
   "cell_type": "code",
   "execution_count": 30,
   "id": "e5361979",
   "metadata": {
    "execution": {
     "iopub.execute_input": "2025-05-01T14:38:17.656443Z",
     "iopub.status.busy": "2025-05-01T14:38:17.655444Z",
     "iopub.status.idle": "2025-05-01T14:38:17.779690Z",
     "shell.execute_reply": "2025-05-01T14:38:17.778628Z"
    }
   },
   "outputs": [
    {
     "data": {
      "application/vnd.plotly.v1+json": {
       "config": {
        "plotlyServerURL": "https://plot.ly"
       },
       "data": [
        {
         "customdata": [
          [
           "I-5 S/O 205th NB",
           "King"
          ],
          [
           "I-5 S/O 205th SB",
           "King"
          ],
          [
           "I-5 Rev N/O I-5 GP NB/SB",
           "King"
          ],
          [
           "I-90 E/O I-5 WB",
           "King"
          ],
          [
           "I-90 E/O I-5 EB",
           "King"
          ],
          [
           "I-90 E/O W Lk Sam WB",
           "King"
          ],
          [
           "I-90 E/O W Lk Sam EB",
           "King"
          ],
          [
           "I-90 E/O SR-900 WB",
           "King"
          ],
          [
           "I-405 @ I-5 Southcenter NB",
           "King"
          ],
          [
           "I-405 @ I-5 Southcenter SB",
           "King"
          ],
          [
           "I-405 @ Lake Wash Blvd NB",
           "King"
          ],
          [
           "I-405 @ I-90 NB",
           "King"
          ],
          [
           "I-405 @ I-90 SB",
           "King"
          ],
          [
           "SR-520 @ x-lake bridge WB",
           "King"
          ],
          [
           "SR-520 @ x-lake bridge EB",
           "King"
          ],
          [
           "SR-167 S/O 43rd NB",
           "King"
          ],
          [
           "SR-167 S/O 43rd SB",
           "King"
          ],
          [
           "SR-167 N/O SR-18 NB",
           "King"
          ],
          [
           "SR-167 N/O SR-18 SB",
           "King"
          ],
          [
           "SR-167 S/O 15th SW NB",
           "King"
          ],
          [
           "SR-167 S/O 15th SW SB",
           "King"
          ],
          [
           "SR-509 @ Holden NB",
           "King"
          ],
          [
           "SR-509 @ Holden SB",
           "King"
          ],
          [
           "SR-99 N/O 14th NB",
           "King"
          ],
          [
           "SR-99 N/O 14th SB",
           "King"
          ],
          [
           "SR-99 N/O WSF NB",
           "King"
          ],
          [
           "SR-99 N/O WSF SB",
           "King"
          ],
          [
           "SR-99 tunnel NB",
           "King"
          ],
          [
           "SR-99 tunnel SB",
           "King"
          ],
          [
           "SR-599 S/O Pacific NB",
           "King"
          ],
          [
           "SR-599 S/O Pacific SB",
           "King"
          ],
          [
           "SR-599 @ Pacific NB",
           "King"
          ],
          [
           "SR-599 @ Pacific SB",
           "King"
          ],
          [
           "SR-18 @ I-5 WB",
           "King"
          ],
          [
           "SR-18 @ I-5 EB",
           "King"
          ],
          [
           "SR-18 W/O Auburn-Black Diamond WB",
           "King"
          ],
          [
           "SR-18 W/O Auburn-Black Diamond EB",
           "King"
          ],
          [
           "SR-18 E/O SR-516 WB",
           "King"
          ],
          [
           "SR-18 E/O SR-516 EB",
           "King"
          ],
          [
           "SR-18 E/O 256th WB",
           "King"
          ],
          [
           "SR-18 E/O 256th EB",
           "King"
          ],
          [
           "SR-522 N/O 195th WB",
           "King"
          ],
          [
           "SR-522 N/O 195th EB",
           "King"
          ],
          [
           "I-5 N/O I-5 Rev CBD NB/SB",
           "King"
          ],
          [
           "I-90 W/O SR-18 WB/EB",
           "King"
          ],
          [
           "I-90 E/O SR-18 WB/EB",
           "King"
          ],
          [
           "I-90 E/O 436th WB/EB",
           "King"
          ],
          [
           "I-90 @ Kittitas County WB/EB",
           "King"
          ],
          [
           "I-405 N/O SR-522 NB/SB",
           "King"
          ],
          [
           "SR-167 N/O Grady NB/SB",
           "King"
          ],
          [
           "SR-410 E/O 244th WB/EB",
           "King"
          ],
          [
           "SR-410 E/O Farman WB/EB",
           "King"
          ],
          [
           "SR-410 @ Greenwater River WB/EB",
           "King"
          ],
          [
           "SR-509 E/O 47th NB/SB",
           "King"
          ],
          [
           "SR-509 E/O 21st NB/SB",
           "King"
          ],
          [
           "SR-509 W/O SR-516 NB/SB",
           "King"
          ],
          [
           "SR-509 W/O Des Moines Mem NB/SB",
           "King"
          ],
          [
           "SR-509 E/O 1st Ave NB/SB",
           "King"
          ],
          [
           "SR-509 E/O Des Moines Mem NB/SB",
           "King"
          ],
          [
           "SR-509 @ SR-509 ramp overpass NB/SB",
           "King"
          ],
          [
           "SR-509 N/O Des Moines Mem NB/SB",
           "King"
          ],
          [
           "SR-509 N/O SR-518 NB/SB",
           "King"
          ],
          [
           "SR-99 S/O SR-18 NB/SB",
           "King"
          ],
          [
           "SR-99 N/O SR-18 NB/SB",
           "King"
          ],
          [
           "SR-99 N/O 320th NB/SB",
           "King"
          ],
          [
           "SR-99 N/O 188th NB/SB",
           "King"
          ],
          [
           "SR-99 @ WSF NB/SB",
           "King"
          ],
          [
           "SR-99 @ Aurora Bridge NB/SB",
           "King"
          ],
          [
           "SR-99 N/O 38th NB/SB",
           "King"
          ],
          [
           "SR-99 S/O Roosevelt NB/SB",
           "King"
          ],
          [
           "SR-599 N/O I-5 NB/SB",
           "King"
          ],
          [
           "SR-518 @ SR-509 WB/EB",
           "King"
          ],
          [
           "SR-518 E/O SR-509 WB/EB",
           "King"
          ],
          [
           "SR-18 E/O SR-99 WB/EB",
           "King"
          ],
          [
           "SR-18 N/O 304th WB/EB",
           "King"
          ],
          [
           "SR-18 S/O I-90 WB/EB",
           "King"
          ],
          [
           "SR-202 @ SR-522 NB/SB",
           "King"
          ],
          [
           "SR-202 N/O 145th NB/SB",
           "King"
          ],
          [
           "SR-202 @ Sammamish River Br NB/SB",
           "King"
          ],
          [
           "SR-202 S/O 144th NB/SB",
           "King"
          ],
          [
           "SR-202 N/O Redmond Way NB/SB",
           "King"
          ],
          [
           "SR-202 E/O 164th NB/SB",
           "King"
          ],
          [
           "SR-202 E/O SR-520 NB/SB",
           "King"
          ],
          [
           "SR-202 E/O E Lk Samm NB/SB",
           "King"
          ],
          [
           "SR-202 E/O Sahalee NB/SB",
           "King"
          ],
          [
           "SR-202 E/O 236th NB/SB",
           "King"
          ],
          [
           "SR-202 S/O Ames Lake NB/SB",
           "King"
          ],
          [
           "SR-202 S/O Duthie Hill NB/SB",
           "King"
          ],
          [
           "SR-202 E/O SR-203 NB/SB",
           "King"
          ],
          [
           "SR-202 N/O I-90 NB/SB",
           "King"
          ],
          [
           "SR-522 N/O 145th NB/SB",
           "King"
          ],
          [
           "SR-104 W/O 19th WB/EB",
           "King"
          ],
          [
           "SR-516 E/O SR-509 WB/EB",
           "King"
          ],
          [
           "SR-516 W/O I-5 WB/EB",
           "King"
          ],
          [
           "SR-516 E/O Meeker WB/EB",
           "King"
          ],
          [
           "SR-516 W/O SR-167 WB/EB",
           "King"
          ],
          [
           "SR-516 E/O SR-167 WB/EB",
           "King"
          ],
          [
           "SR-516 E/O SR-18 WB/EB",
           "King"
          ],
          [
           "SR-900 S/O NB I-5 on-ramp @ Boe Acc WB/EB",
           "King"
          ],
          [
           "SR-900 E/O 68th WB/EB",
           "King"
          ],
          [
           "SR-900 @ I-405 WB/EB",
           "King"
          ],
          [
           "SR-900 E/O 148th WB/EB",
           "King"
          ],
          [
           "SR-900 N/O Talus WB/EB",
           "King"
          ],
          [
           "SR-900 N/O Newport WB/EB",
           "King"
          ],
          [
           "SR-2 E/O Skykomish WB/EB",
           "King"
          ],
          [
           "SR-513 S/O 44th NB/SB",
           "King"
          ],
          [
           "SR-169 N/O SR-164 NB/SB",
           "King"
          ],
          [
           "SR-169 S/O Lawson NB/SB",
           "King"
          ],
          [
           "SR-169 S/O 276th NB/SB",
           "King"
          ],
          [
           "SR-169 N/O 280th NB/SB",
           "King"
          ],
          [
           "SR-169 N/O 231st NB/SB",
           "King"
          ],
          [
           "SR-169 N/O 232nd NB/SB",
           "King"
          ],
          [
           "SR-169 W/O 140th NB/SB",
           "King"
          ],
          [
           "SR-515 N/O SR-516 NB/SB",
           "King"
          ],
          [
           "SR-515 N/O 108th NB/SB",
           "King"
          ],
          [
           "SR-515 N/O Puget NB/SB",
           "King"
          ],
          [
           "SR-181 N/O SR-516 NB/SB",
           "King"
          ],
          [
           "SR-181 S/O James NB/SB",
           "King"
          ],
          [
           "SR-181 N/O James NB/SB",
           "King"
          ],
          [
           "SR-181 N/O 228th NB/SB",
           "King"
          ],
          [
           "SR-181 N/O 180th NB/SB",
           "King"
          ],
          [
           "SR-181 S/O Longacres NB/SB",
           "King"
          ],
          [
           "SR-523 E/O Lenora WB/EB",
           "King"
          ],
          [
           "SR-164 @ SR-18 WB/EB",
           "King"
          ],
          [
           "SR-164 S/O 400th WB/EB",
           "King"
          ],
          [
           "SR-203 N/O Cherry Valley NB/SB",
           "King"
          ],
          [
           "SR-203 N/O 124th NB/SB",
           "King"
          ],
          [
           "SR-203 W/O Stillwater Hill NB/SB",
           "King"
          ],
          [
           "SR-203 N/O Carnation Farm NB/SB",
           "King"
          ],
          [
           "SR-203 N/O Tolt Hill NB/SB",
           "King"
          ],
          [
           "SR-203 N/O SR-202 NB/SB",
           "King"
          ],
          [
           "SR-519 W/O 4th NB/SB",
           "King"
          ]
         ],
         "hovertemplate": "Observed=%{x}<br>Model=%{y}<br>location=%{customdata[0]}<br>County=%{customdata[1]}<extra></extra>",
         "legendgroup": "",
         "line": {
          "color": "Grey",
          "width": 2
         },
         "marker": {
          "color": "#91268F",
          "symbol": "circle"
         },
         "mode": "markers",
         "name": "",
         "orientation": "v",
         "showlegend": false,
         "type": "scatter",
         "x": {
          "bdata": "+gZ1B4UC9QV9BXgFZAUxBRYEpgY6CowOtgsGBAgE5AiACWUJbwnYCugJDgcWB1IDdgL/BIsEKwTIA1sD0AL3BEoDFgLNA00FDwVyA2UDHgQHBBQGjAaQCekGVAo6BisFBQ32BMoDKgJJAIAAmAGoAvAAZgClAdACKAXQBR0EWALAAi0JawZwCegFIAT4ChMDMwQxBYIJQAVyA/kA2QCWAvoBLwOpBmUEagPJAU0CawGvAUsBkgTbAQQBOARrA5AG2APPA5wDiAHyAsYAqgIiAtYA2AKOAVICMAMiAosGIgT2AzkDmAF9AwYH8QSqBXIGVAY8CGECKgOUAk4C5QLmAeoBGwL2ARQE",
          "dtype": "i2"
         },
         "xaxis": "x",
         "y": {
          "bdata": "sRlkGEwM0BGWEjEKTQobBywFKgxhFw8U3xOnDXcNLw8zEC0S5BK7D1cPlAboBjoFpQOuCKUJBwWiBfMGMAb6BcgEfQZfA4wFHQVMA/8CfQMtA7QGHQahKkcG/wQ6AAAAiyReB6sBNQApADkARwH5AJoASABfAG4DYgfkChIFKwNsAhAGlA0hDO8GmwJADVMHvwdzB4EIeAPUAmQB+QAuA2cBogFYCA8F9AHYAW0BvAARAaICLgjLAaEADQiGDBwQtAaSA8EGCgLGBU8CcASOAwAAPAZvAJoBQwFFAnEDoAPHBmIBTAKyBOwH/AbOCFgLWgurC5ACzAOKAtQB1QHaAOUAOwHTAMYG",
          "dtype": "i2"
         },
         "yaxis": "y"
        },
        {
         "hovertemplate": "Observed=%{x}<br>Model=%{y}<extra></extra>",
         "legendgroup": "",
         "line": {
          "color": "Grey",
          "dash": "solid",
          "width": 2
         },
         "marker": {
          "symbol": "circle"
         },
         "mode": "lines",
         "name": "",
         "orientation": "v",
         "showlegend": false,
         "type": "scatter",
         "x": {
          "bdata": "AAAAAAAAAAB6O0Ni3s5CQHo7Q2LezlJAN9lkk002XEB6O0Ni3s5iQFgK1PqVgmdAN9lkk002bEAL1PqVAnVwQHo7Q2LeznJA6aKLLroodUBYCtT6lYJ3QMhxHMdx3HlAN9lkk002fECmQK1fKZB+QAvU+pUCdYBAwgcffPChgUB6O0Ni3s6CQDJvZ0jM+4NA6aKLLroohUCh1q8UqFWGQFgK1PqVgodAED744IOviEDIcRzHcdyJQH+lQK1fCYtAN9lkk002jEDvDIl5O2ONQKZArV8pkI5AXnTRRRe9j0AL1PqVAnWQQOftDIl5C5FAwgcffPChkUCeITFvZziSQHo7Q2LezpJAVlVVVVVlk0Ayb2dIzPuTQA2JeTtDkpRA6aKLLroolUDFvJ0hMb+VQKHWrxSoVZZAffDBBx/slkBYCtT6lYKXQDQk5u0MGZhAED744IOvmEDsVwrU+kWZQMhxHMdx3JlApIsuuuhymkB/pUCtXwmbQFu/UqDWn5tAN9lkk002nEAT83aGxMycQO8MiXk7Y51AyiabbLL5nUCmQK1fKZCeQIJav1KgJp9AXnTRRRe9n0Adx3EcxymgQAvU+pUCdaBA+eCDDz7AoEDn7QyJeQuhQNT6lQK1VqFAwgcffPChoUCwFKj1K+2hQJ4hMW9nOKJAjC666KKDokB6O0Ni3s6iQGhIzNsZGqNAVlVVVVVlo0BEYt7OkLCjQDJvZ0jM+6NAIHzwwQdHpEANiXk7Q5KkQPuVArV+3aRA6aKLLroopUDXrxSo9XOlQMW8nSExv6VAs8kmm2wKpkCh1q8UqFWmQI/jOI7joKZAffDBBx/spkBr/UqBWjenQFgK1PqVgqdARhdddNHNp0A0JObtDBmoQCIxb2dIZKhAED744IOvqED+SoFav/qoQOxXCtT6RalA2mSTTTaRqUDIcRzHcdypQLZ+pUCtJ6pApIsuuuhyqkCRmLczJL6qQH+lQK1fCatAbbLJJptUq0Bbv1Kg1p+rQEnM2xkS66tAN9lkk002rEAl5u0MiYGsQBPzdobEzKxAAAAAAAAYrUA=",
          "dtype": "f8"
         },
         "xaxis": "x",
         "y": {
          "bdata": "hMnV9NHvdsDDeqNAuJtywAVY4hg9j2zAg7p9sAnnY8AEOjKQrH1WwAD8o/0WtTTACHjAIkJGSEAIdynih3NdQARZeVn3YWdARPvuYBUFcEAESiEVL1l0QMaYU8lIrXhAhueFfWIBfUAjG9wYvqqAQIRC9fLK1IJA5GkOzdf+hEBEkSen5CiHQKa4QIHxUolABuBZW/58i0BmB3M1C6eNQMYujA8Y0Y9AE6vSdJL9kEDEPt/hmBKSQHTS606fJ5NAJGb4u6U8lEDV+QQprFGVQISNEZayZpZANSEeA7l7l0DltCpwv5CYQJZIN93FpZlARdxDSsy6mkD1b1C30s+bQKUDXSTZ5JxAV5dpkd/5nUAHK3b+5Q6fQFpfwTX2EaBANKlHbHmcoEAM882i/CahQOQ8VNl/saFAvIbaDwM8okCU0GBGhsaiQGwa53wJUaNARGRts4zbo0AcrvPpD2akQPT3eSCT8KRAzEEAVxZ7pUCki4aNmQWmQHzVDMQckKZAVB+T+p8ap0AsaRkxI6WnQAazn2emL6hA3Pwlnim6qEC0RqzUrESpQI6QMgswz6lAZtq4QbNZqkA+JD94NuSqQBZuxa65bqtA7rdL5Tz5q0DGAdIbwIOsQJxLWFJDDq1AdpXeiMaYrUBO32S/SSOuQCYp6/XMra5A/nJxLFA4r0DWvPdi08KvQFgDv0yrJrBARCgC6OxrsEAwTUWDLrGwQBxyiB5w9rBACJfLubE7sUDzuw5V84CxQN/gUfA0xrFAzAWVi3YLskC4KtgmuFCyQKRPG8L5lbJAkHReXTvbskB8maH4fCCzQGi+5JO+ZbNAVOMnLwCrs0BBCGvKQfCzQCwtrmWDNbRAGFLxAMV6tEAEdzScBsC0QPCbdzdIBbVA3MC60olKtUDJ5f1ty4+1QLUKQQkN1bVAoS+EpE4atkCNVMc/kF+2QHl5CtvRpLZAZZ5NdhPqtkBQw5ARVS+3QD3o06yWdLdAKQ0XSNi5t0AVMlrjGf+3QAFXnX5bRLhA7XvgGZ2JuEDZoCO13s64QMXFZlAgFLlAseqp62FZuUA=",
          "dtype": "f8"
         },
         "yaxis": "y"
        }
       ],
       "layout": {
        "annotations": [
         {
          "align": "right",
          "font": {
           "color": "pink",
           "size": 12
          },
          "showarrow": false,
          "text": "y = x",
          "x": 11458.65,
          "y": 11458.65
         },
         {
          "align": "right",
          "font": {
           "color": "black",
           "size": 12
          },
          "showarrow": false,
          "text": "r^2 = 0.56",
          "x": 3910.2000000000003,
          "y": 6813.851627302921
         }
        ],
        "height": 600,
        "legend": {
         "tracegroupgap": 0
        },
        "margin": {
         "b": 100,
         "l": 100,
         "r": 100,
         "t": 100
        },
        "shapes": [
         {
          "line": {
           "color": "Red",
           "dash": "dash",
           "width": 2
          },
          "type": "line",
          "x0": 0,
          "x1": 10913,
          "y0": 0,
          "y1": 10913
         }
        ],
        "template": {
         "data": {
          "bar": [
           {
            "error_x": {
             "color": "rgb(36,36,36)"
            },
            "error_y": {
             "color": "rgb(36,36,36)"
            },
            "marker": {
             "line": {
              "color": "white",
              "width": 0.5
             },
             "pattern": {
              "fillmode": "overlay",
              "size": 10,
              "solidity": 0.2
             }
            },
            "type": "bar"
           }
          ],
          "barpolar": [
           {
            "marker": {
             "line": {
              "color": "white",
              "width": 0.5
             },
             "pattern": {
              "fillmode": "overlay",
              "size": 10,
              "solidity": 0.2
             }
            },
            "type": "barpolar"
           }
          ],
          "carpet": [
           {
            "aaxis": {
             "endlinecolor": "rgb(36,36,36)",
             "gridcolor": "white",
             "linecolor": "white",
             "minorgridcolor": "white",
             "startlinecolor": "rgb(36,36,36)"
            },
            "baxis": {
             "endlinecolor": "rgb(36,36,36)",
             "gridcolor": "white",
             "linecolor": "white",
             "minorgridcolor": "white",
             "startlinecolor": "rgb(36,36,36)"
            },
            "type": "carpet"
           }
          ],
          "choropleth": [
           {
            "colorbar": {
             "outlinewidth": 1,
             "tickcolor": "rgb(36,36,36)",
             "ticks": "outside"
            },
            "type": "choropleth"
           }
          ],
          "contour": [
           {
            "colorbar": {
             "outlinewidth": 1,
             "tickcolor": "rgb(36,36,36)",
             "ticks": "outside"
            },
            "colorscale": [
             [
              0.0,
              "#440154"
             ],
             [
              0.1111111111111111,
              "#482878"
             ],
             [
              0.2222222222222222,
              "#3e4989"
             ],
             [
              0.3333333333333333,
              "#31688e"
             ],
             [
              0.4444444444444444,
              "#26828e"
             ],
             [
              0.5555555555555556,
              "#1f9e89"
             ],
             [
              0.6666666666666666,
              "#35b779"
             ],
             [
              0.7777777777777778,
              "#6ece58"
             ],
             [
              0.8888888888888888,
              "#b5de2b"
             ],
             [
              1.0,
              "#fde725"
             ]
            ],
            "type": "contour"
           }
          ],
          "contourcarpet": [
           {
            "colorbar": {
             "outlinewidth": 1,
             "tickcolor": "rgb(36,36,36)",
             "ticks": "outside"
            },
            "type": "contourcarpet"
           }
          ],
          "heatmap": [
           {
            "colorbar": {
             "outlinewidth": 1,
             "tickcolor": "rgb(36,36,36)",
             "ticks": "outside"
            },
            "colorscale": [
             [
              0.0,
              "#440154"
             ],
             [
              0.1111111111111111,
              "#482878"
             ],
             [
              0.2222222222222222,
              "#3e4989"
             ],
             [
              0.3333333333333333,
              "#31688e"
             ],
             [
              0.4444444444444444,
              "#26828e"
             ],
             [
              0.5555555555555556,
              "#1f9e89"
             ],
             [
              0.6666666666666666,
              "#35b779"
             ],
             [
              0.7777777777777778,
              "#6ece58"
             ],
             [
              0.8888888888888888,
              "#b5de2b"
             ],
             [
              1.0,
              "#fde725"
             ]
            ],
            "type": "heatmap"
           }
          ],
          "histogram": [
           {
            "marker": {
             "line": {
              "color": "white",
              "width": 0.6
             }
            },
            "type": "histogram"
           }
          ],
          "histogram2d": [
           {
            "colorbar": {
             "outlinewidth": 1,
             "tickcolor": "rgb(36,36,36)",
             "ticks": "outside"
            },
            "colorscale": [
             [
              0.0,
              "#440154"
             ],
             [
              0.1111111111111111,
              "#482878"
             ],
             [
              0.2222222222222222,
              "#3e4989"
             ],
             [
              0.3333333333333333,
              "#31688e"
             ],
             [
              0.4444444444444444,
              "#26828e"
             ],
             [
              0.5555555555555556,
              "#1f9e89"
             ],
             [
              0.6666666666666666,
              "#35b779"
             ],
             [
              0.7777777777777778,
              "#6ece58"
             ],
             [
              0.8888888888888888,
              "#b5de2b"
             ],
             [
              1.0,
              "#fde725"
             ]
            ],
            "type": "histogram2d"
           }
          ],
          "histogram2dcontour": [
           {
            "colorbar": {
             "outlinewidth": 1,
             "tickcolor": "rgb(36,36,36)",
             "ticks": "outside"
            },
            "colorscale": [
             [
              0.0,
              "#440154"
             ],
             [
              0.1111111111111111,
              "#482878"
             ],
             [
              0.2222222222222222,
              "#3e4989"
             ],
             [
              0.3333333333333333,
              "#31688e"
             ],
             [
              0.4444444444444444,
              "#26828e"
             ],
             [
              0.5555555555555556,
              "#1f9e89"
             ],
             [
              0.6666666666666666,
              "#35b779"
             ],
             [
              0.7777777777777778,
              "#6ece58"
             ],
             [
              0.8888888888888888,
              "#b5de2b"
             ],
             [
              1.0,
              "#fde725"
             ]
            ],
            "type": "histogram2dcontour"
           }
          ],
          "mesh3d": [
           {
            "colorbar": {
             "outlinewidth": 1,
             "tickcolor": "rgb(36,36,36)",
             "ticks": "outside"
            },
            "type": "mesh3d"
           }
          ],
          "parcoords": [
           {
            "line": {
             "colorbar": {
              "outlinewidth": 1,
              "tickcolor": "rgb(36,36,36)",
              "ticks": "outside"
             }
            },
            "type": "parcoords"
           }
          ],
          "pie": [
           {
            "automargin": true,
            "type": "pie"
           }
          ],
          "scatter": [
           {
            "fillpattern": {
             "fillmode": "overlay",
             "size": 10,
             "solidity": 0.2
            },
            "type": "scatter"
           }
          ],
          "scatter3d": [
           {
            "line": {
             "colorbar": {
              "outlinewidth": 1,
              "tickcolor": "rgb(36,36,36)",
              "ticks": "outside"
             }
            },
            "marker": {
             "colorbar": {
              "outlinewidth": 1,
              "tickcolor": "rgb(36,36,36)",
              "ticks": "outside"
             }
            },
            "type": "scatter3d"
           }
          ],
          "scattercarpet": [
           {
            "marker": {
             "colorbar": {
              "outlinewidth": 1,
              "tickcolor": "rgb(36,36,36)",
              "ticks": "outside"
             }
            },
            "type": "scattercarpet"
           }
          ],
          "scattergeo": [
           {
            "marker": {
             "colorbar": {
              "outlinewidth": 1,
              "tickcolor": "rgb(36,36,36)",
              "ticks": "outside"
             }
            },
            "type": "scattergeo"
           }
          ],
          "scattergl": [
           {
            "marker": {
             "colorbar": {
              "outlinewidth": 1,
              "tickcolor": "rgb(36,36,36)",
              "ticks": "outside"
             }
            },
            "type": "scattergl"
           }
          ],
          "scattermap": [
           {
            "marker": {
             "colorbar": {
              "outlinewidth": 1,
              "tickcolor": "rgb(36,36,36)",
              "ticks": "outside"
             }
            },
            "type": "scattermap"
           }
          ],
          "scattermapbox": [
           {
            "marker": {
             "colorbar": {
              "outlinewidth": 1,
              "tickcolor": "rgb(36,36,36)",
              "ticks": "outside"
             }
            },
            "type": "scattermapbox"
           }
          ],
          "scatterpolar": [
           {
            "marker": {
             "colorbar": {
              "outlinewidth": 1,
              "tickcolor": "rgb(36,36,36)",
              "ticks": "outside"
             }
            },
            "type": "scatterpolar"
           }
          ],
          "scatterpolargl": [
           {
            "marker": {
             "colorbar": {
              "outlinewidth": 1,
              "tickcolor": "rgb(36,36,36)",
              "ticks": "outside"
             }
            },
            "type": "scatterpolargl"
           }
          ],
          "scatterternary": [
           {
            "marker": {
             "colorbar": {
              "outlinewidth": 1,
              "tickcolor": "rgb(36,36,36)",
              "ticks": "outside"
             }
            },
            "type": "scatterternary"
           }
          ],
          "surface": [
           {
            "colorbar": {
             "outlinewidth": 1,
             "tickcolor": "rgb(36,36,36)",
             "ticks": "outside"
            },
            "colorscale": [
             [
              0.0,
              "#440154"
             ],
             [
              0.1111111111111111,
              "#482878"
             ],
             [
              0.2222222222222222,
              "#3e4989"
             ],
             [
              0.3333333333333333,
              "#31688e"
             ],
             [
              0.4444444444444444,
              "#26828e"
             ],
             [
              0.5555555555555556,
              "#1f9e89"
             ],
             [
              0.6666666666666666,
              "#35b779"
             ],
             [
              0.7777777777777778,
              "#6ece58"
             ],
             [
              0.8888888888888888,
              "#b5de2b"
             ],
             [
              1.0,
              "#fde725"
             ]
            ],
            "type": "surface"
           }
          ],
          "table": [
           {
            "cells": {
             "fill": {
              "color": "rgb(237,237,237)"
             },
             "line": {
              "color": "white"
             }
            },
            "header": {
             "fill": {
              "color": "rgb(217,217,217)"
             },
             "line": {
              "color": "white"
             }
            },
            "type": "table"
           }
          ]
         },
         "layout": {
          "annotationdefaults": {
           "arrowhead": 0,
           "arrowwidth": 1
          },
          "autotypenumbers": "strict",
          "coloraxis": {
           "colorbar": {
            "outlinewidth": 1,
            "tickcolor": "rgb(36,36,36)",
            "ticks": "outside"
           }
          },
          "colorscale": {
           "diverging": [
            [
             0.0,
             "rgb(103,0,31)"
            ],
            [
             0.1,
             "rgb(178,24,43)"
            ],
            [
             0.2,
             "rgb(214,96,77)"
            ],
            [
             0.3,
             "rgb(244,165,130)"
            ],
            [
             0.4,
             "rgb(253,219,199)"
            ],
            [
             0.5,
             "rgb(247,247,247)"
            ],
            [
             0.6,
             "rgb(209,229,240)"
            ],
            [
             0.7,
             "rgb(146,197,222)"
            ],
            [
             0.8,
             "rgb(67,147,195)"
            ],
            [
             0.9,
             "rgb(33,102,172)"
            ],
            [
             1.0,
             "rgb(5,48,97)"
            ]
           ],
           "sequential": [
            [
             0.0,
             "#440154"
            ],
            [
             0.1111111111111111,
             "#482878"
            ],
            [
             0.2222222222222222,
             "#3e4989"
            ],
            [
             0.3333333333333333,
             "#31688e"
            ],
            [
             0.4444444444444444,
             "#26828e"
            ],
            [
             0.5555555555555556,
             "#1f9e89"
            ],
            [
             0.6666666666666666,
             "#35b779"
            ],
            [
             0.7777777777777778,
             "#6ece58"
            ],
            [
             0.8888888888888888,
             "#b5de2b"
            ],
            [
             1.0,
             "#fde725"
            ]
           ],
           "sequentialminus": [
            [
             0.0,
             "#440154"
            ],
            [
             0.1111111111111111,
             "#482878"
            ],
            [
             0.2222222222222222,
             "#3e4989"
            ],
            [
             0.3333333333333333,
             "#31688e"
            ],
            [
             0.4444444444444444,
             "#26828e"
            ],
            [
             0.5555555555555556,
             "#1f9e89"
            ],
            [
             0.6666666666666666,
             "#35b779"
            ],
            [
             0.7777777777777778,
             "#6ece58"
            ],
            [
             0.8888888888888888,
             "#b5de2b"
            ],
            [
             1.0,
             "#fde725"
            ]
           ]
          },
          "colorway": [
           "#91268F",
           "#8CC63E",
           "#00A7A0",
           "#F05A28",
           "#4C4C4C",
           "#630460",
           "#9f3913",
           "#588527",
           "#00716c",
           "#3e4040"
          ],
          "font": {
           "color": "rgb(36,36,36)",
           "family": "Poppins",
           "size": 11
          },
          "geo": {
           "bgcolor": "white",
           "lakecolor": "white",
           "landcolor": "white",
           "showlakes": true,
           "showland": true,
           "subunitcolor": "white"
          },
          "hoverlabel": {
           "align": "left"
          },
          "hovermode": "closest",
          "mapbox": {
           "style": "light"
          },
          "paper_bgcolor": "white",
          "plot_bgcolor": "white",
          "polar": {
           "angularaxis": {
            "gridcolor": "rgb(232,232,232)",
            "linecolor": "rgb(36,36,36)",
            "showgrid": false,
            "showline": true,
            "ticks": "outside"
           },
           "bgcolor": "white",
           "radialaxis": {
            "gridcolor": "rgb(232,232,232)",
            "linecolor": "rgb(36,36,36)",
            "showgrid": false,
            "showline": true,
            "ticks": "outside"
           }
          },
          "scene": {
           "xaxis": {
            "backgroundcolor": "white",
            "gridcolor": "rgb(232,232,232)",
            "gridwidth": 2,
            "linecolor": "rgb(36,36,36)",
            "showbackground": true,
            "showgrid": false,
            "showline": true,
            "ticks": "outside",
            "zeroline": false,
            "zerolinecolor": "rgb(36,36,36)"
           },
           "yaxis": {
            "backgroundcolor": "white",
            "gridcolor": "rgb(232,232,232)",
            "gridwidth": 2,
            "linecolor": "rgb(36,36,36)",
            "showbackground": true,
            "showgrid": false,
            "showline": true,
            "ticks": "outside",
            "zeroline": false,
            "zerolinecolor": "rgb(36,36,36)"
           },
           "zaxis": {
            "backgroundcolor": "white",
            "gridcolor": "rgb(232,232,232)",
            "gridwidth": 2,
            "linecolor": "rgb(36,36,36)",
            "showbackground": true,
            "showgrid": false,
            "showline": true,
            "ticks": "outside",
            "zeroline": false,
            "zerolinecolor": "rgb(36,36,36)"
           }
          },
          "shapedefaults": {
           "fillcolor": "black",
           "line": {
            "width": 0
           },
           "opacity": 0.3
          },
          "ternary": {
           "aaxis": {
            "gridcolor": "rgb(232,232,232)",
            "linecolor": "rgb(36,36,36)",
            "showgrid": false,
            "showline": true,
            "ticks": "outside"
           },
           "baxis": {
            "gridcolor": "rgb(232,232,232)",
            "linecolor": "rgb(36,36,36)",
            "showgrid": false,
            "showline": true,
            "ticks": "outside"
           },
           "bgcolor": "white",
           "caxis": {
            "gridcolor": "rgb(232,232,232)",
            "linecolor": "rgb(36,36,36)",
            "showgrid": false,
            "showline": true,
            "ticks": "outside"
           }
          },
          "title": {
           "x": 0.05
          },
          "xaxis": {
           "automargin": true,
           "gridcolor": "rgb(232,232,232)",
           "linecolor": "rgb(36,36,36)",
           "showgrid": false,
           "showline": true,
           "ticks": "outside",
           "title": {
            "standoff": 15
           },
           "zeroline": false,
           "zerolinecolor": "rgb(36,36,36)"
          },
          "yaxis": {
           "automargin": true,
           "gridcolor": "rgb(232,232,232)",
           "linecolor": "rgb(36,36,36)",
           "showgrid": false,
           "showline": true,
           "ticks": "outside",
           "title": {
            "standoff": 15
           },
           "zeroline": false,
           "zerolinecolor": "rgb(36,36,36)"
          }
         }
        },
        "title": {
         "text": "Medium Trucks: King"
        },
        "width": 800,
        "xaxis": {
         "anchor": "y",
         "domain": [
          0.0,
          1.0
         ],
         "title": {
          "text": "Observed"
         }
        },
        "yaxis": {
         "anchor": "x",
         "domain": [
          0.0,
          1.0
         ],
         "title": {
          "text": "Model"
         }
        }
       }
      },
      "text/html": [
       "<div>            <script src=\"https://cdnjs.cloudflare.com/ajax/libs/mathjax/2.7.5/MathJax.js?config=TeX-AMS-MML_SVG\"></script><script type=\"text/javascript\">if (window.MathJax && window.MathJax.Hub && window.MathJax.Hub.Config) {window.MathJax.Hub.Config({SVG: {font: \"STIX-Web\"}});}</script>                <script type=\"text/javascript\">window.PlotlyConfig = {MathJaxConfig: 'local'};</script>\n",
       "        <script charset=\"utf-8\" src=\"https://cdn.plot.ly/plotly-3.0.1.min.js\"></script>                <div id=\"6790711d-221c-45d2-9d59-6b944635dbf0\" class=\"plotly-graph-div\" style=\"height:600px; width:800px;\"></div>            <script type=\"text/javascript\">                window.PLOTLYENV=window.PLOTLYENV || {};                                if (document.getElementById(\"6790711d-221c-45d2-9d59-6b944635dbf0\")) {                    Plotly.newPlot(                        \"6790711d-221c-45d2-9d59-6b944635dbf0\",                        [{\"customdata\":[[\"I-5 S\\u002fO 205th NB\",\"King\"],[\"I-5 S\\u002fO 205th SB\",\"King\"],[\"I-5 Rev N\\u002fO I-5 GP NB\\u002fSB\",\"King\"],[\"I-90 E\\u002fO I-5 WB\",\"King\"],[\"I-90 E\\u002fO I-5 EB\",\"King\"],[\"I-90 E\\u002fO W Lk Sam WB\",\"King\"],[\"I-90 E\\u002fO W Lk Sam EB\",\"King\"],[\"I-90 E\\u002fO SR-900 WB\",\"King\"],[\"I-405 @ I-5 Southcenter NB\",\"King\"],[\"I-405 @ I-5 Southcenter SB\",\"King\"],[\"I-405 @ Lake Wash Blvd NB\",\"King\"],[\"I-405 @ I-90 NB\",\"King\"],[\"I-405 @ I-90 SB\",\"King\"],[\"SR-520 @ x-lake bridge WB\",\"King\"],[\"SR-520 @ x-lake bridge EB\",\"King\"],[\"SR-167 S\\u002fO 43rd NB\",\"King\"],[\"SR-167 S\\u002fO 43rd SB\",\"King\"],[\"SR-167 N\\u002fO SR-18 NB\",\"King\"],[\"SR-167 N\\u002fO SR-18 SB\",\"King\"],[\"SR-167 S\\u002fO 15th SW NB\",\"King\"],[\"SR-167 S\\u002fO 15th SW SB\",\"King\"],[\"SR-509 @ Holden NB\",\"King\"],[\"SR-509 @ Holden SB\",\"King\"],[\"SR-99 N\\u002fO 14th NB\",\"King\"],[\"SR-99 N\\u002fO 14th SB\",\"King\"],[\"SR-99 N\\u002fO WSF NB\",\"King\"],[\"SR-99 N\\u002fO WSF SB\",\"King\"],[\"SR-99 tunnel NB\",\"King\"],[\"SR-99 tunnel SB\",\"King\"],[\"SR-599 S\\u002fO Pacific NB\",\"King\"],[\"SR-599 S\\u002fO Pacific SB\",\"King\"],[\"SR-599 @ Pacific NB\",\"King\"],[\"SR-599 @ Pacific SB\",\"King\"],[\"SR-18 @ I-5 WB\",\"King\"],[\"SR-18 @ I-5 EB\",\"King\"],[\"SR-18 W\\u002fO Auburn-Black Diamond WB\",\"King\"],[\"SR-18 W\\u002fO Auburn-Black Diamond EB\",\"King\"],[\"SR-18 E\\u002fO SR-516 WB\",\"King\"],[\"SR-18 E\\u002fO SR-516 EB\",\"King\"],[\"SR-18 E\\u002fO 256th WB\",\"King\"],[\"SR-18 E\\u002fO 256th EB\",\"King\"],[\"SR-522 N\\u002fO 195th WB\",\"King\"],[\"SR-522 N\\u002fO 195th EB\",\"King\"],[\"I-5 N\\u002fO I-5 Rev CBD NB\\u002fSB\",\"King\"],[\"I-90 W\\u002fO SR-18 WB\\u002fEB\",\"King\"],[\"I-90 E\\u002fO SR-18 WB\\u002fEB\",\"King\"],[\"I-90 E\\u002fO 436th WB\\u002fEB\",\"King\"],[\"I-90 @ Kittitas County WB\\u002fEB\",\"King\"],[\"I-405 N\\u002fO SR-522 NB\\u002fSB\",\"King\"],[\"SR-167 N\\u002fO Grady NB\\u002fSB\",\"King\"],[\"SR-410 E\\u002fO 244th WB\\u002fEB\",\"King\"],[\"SR-410 E\\u002fO Farman WB\\u002fEB\",\"King\"],[\"SR-410 @ Greenwater River WB\\u002fEB\",\"King\"],[\"SR-509 E\\u002fO 47th NB\\u002fSB\",\"King\"],[\"SR-509 E\\u002fO 21st NB\\u002fSB\",\"King\"],[\"SR-509 W\\u002fO SR-516 NB\\u002fSB\",\"King\"],[\"SR-509 W\\u002fO Des Moines Mem NB\\u002fSB\",\"King\"],[\"SR-509 E\\u002fO 1st Ave NB\\u002fSB\",\"King\"],[\"SR-509 E\\u002fO Des Moines Mem NB\\u002fSB\",\"King\"],[\"SR-509 @ SR-509 ramp overpass NB\\u002fSB\",\"King\"],[\"SR-509 N\\u002fO Des Moines Mem NB\\u002fSB\",\"King\"],[\"SR-509 N\\u002fO SR-518 NB\\u002fSB\",\"King\"],[\"SR-99 S\\u002fO SR-18 NB\\u002fSB\",\"King\"],[\"SR-99 N\\u002fO SR-18 NB\\u002fSB\",\"King\"],[\"SR-99 N\\u002fO 320th NB\\u002fSB\",\"King\"],[\"SR-99 N\\u002fO 188th NB\\u002fSB\",\"King\"],[\"SR-99 @ WSF NB\\u002fSB\",\"King\"],[\"SR-99 @ Aurora Bridge NB\\u002fSB\",\"King\"],[\"SR-99 N\\u002fO 38th NB\\u002fSB\",\"King\"],[\"SR-99 S\\u002fO Roosevelt NB\\u002fSB\",\"King\"],[\"SR-599 N\\u002fO I-5 NB\\u002fSB\",\"King\"],[\"SR-518 @ SR-509 WB\\u002fEB\",\"King\"],[\"SR-518 E\\u002fO SR-509 WB\\u002fEB\",\"King\"],[\"SR-18 E\\u002fO SR-99 WB\\u002fEB\",\"King\"],[\"SR-18 N\\u002fO 304th WB\\u002fEB\",\"King\"],[\"SR-18 S\\u002fO I-90 WB\\u002fEB\",\"King\"],[\"SR-202 @ SR-522 NB\\u002fSB\",\"King\"],[\"SR-202 N\\u002fO 145th NB\\u002fSB\",\"King\"],[\"SR-202 @ Sammamish River Br NB\\u002fSB\",\"King\"],[\"SR-202 S\\u002fO 144th NB\\u002fSB\",\"King\"],[\"SR-202 N\\u002fO Redmond Way NB\\u002fSB\",\"King\"],[\"SR-202 E\\u002fO 164th NB\\u002fSB\",\"King\"],[\"SR-202 E\\u002fO SR-520 NB\\u002fSB\",\"King\"],[\"SR-202 E\\u002fO E Lk Samm NB\\u002fSB\",\"King\"],[\"SR-202 E\\u002fO Sahalee NB\\u002fSB\",\"King\"],[\"SR-202 E\\u002fO 236th NB\\u002fSB\",\"King\"],[\"SR-202 S\\u002fO Ames Lake NB\\u002fSB\",\"King\"],[\"SR-202 S\\u002fO Duthie Hill NB\\u002fSB\",\"King\"],[\"SR-202 E\\u002fO SR-203 NB\\u002fSB\",\"King\"],[\"SR-202 N\\u002fO I-90 NB\\u002fSB\",\"King\"],[\"SR-522 N\\u002fO 145th NB\\u002fSB\",\"King\"],[\"SR-104 W\\u002fO 19th WB\\u002fEB\",\"King\"],[\"SR-516 E\\u002fO SR-509 WB\\u002fEB\",\"King\"],[\"SR-516 W\\u002fO I-5 WB\\u002fEB\",\"King\"],[\"SR-516 E\\u002fO Meeker WB\\u002fEB\",\"King\"],[\"SR-516 W\\u002fO SR-167 WB\\u002fEB\",\"King\"],[\"SR-516 E\\u002fO SR-167 WB\\u002fEB\",\"King\"],[\"SR-516 E\\u002fO SR-18 WB\\u002fEB\",\"King\"],[\"SR-900 S\\u002fO NB I-5 on-ramp @ Boe Acc WB\\u002fEB\",\"King\"],[\"SR-900 E\\u002fO 68th WB\\u002fEB\",\"King\"],[\"SR-900 @ I-405 WB\\u002fEB\",\"King\"],[\"SR-900 E\\u002fO 148th WB\\u002fEB\",\"King\"],[\"SR-900 N\\u002fO Talus WB\\u002fEB\",\"King\"],[\"SR-900 N\\u002fO Newport WB\\u002fEB\",\"King\"],[\"SR-2 E\\u002fO Skykomish WB\\u002fEB\",\"King\"],[\"SR-513 S\\u002fO 44th NB\\u002fSB\",\"King\"],[\"SR-169 N\\u002fO SR-164 NB\\u002fSB\",\"King\"],[\"SR-169 S\\u002fO Lawson NB\\u002fSB\",\"King\"],[\"SR-169 S\\u002fO 276th NB\\u002fSB\",\"King\"],[\"SR-169 N\\u002fO 280th NB\\u002fSB\",\"King\"],[\"SR-169 N\\u002fO 231st NB\\u002fSB\",\"King\"],[\"SR-169 N\\u002fO 232nd NB\\u002fSB\",\"King\"],[\"SR-169 W\\u002fO 140th NB\\u002fSB\",\"King\"],[\"SR-515 N\\u002fO SR-516 NB\\u002fSB\",\"King\"],[\"SR-515 N\\u002fO 108th NB\\u002fSB\",\"King\"],[\"SR-515 N\\u002fO Puget NB\\u002fSB\",\"King\"],[\"SR-181 N\\u002fO SR-516 NB\\u002fSB\",\"King\"],[\"SR-181 S\\u002fO James NB\\u002fSB\",\"King\"],[\"SR-181 N\\u002fO James NB\\u002fSB\",\"King\"],[\"SR-181 N\\u002fO 228th NB\\u002fSB\",\"King\"],[\"SR-181 N\\u002fO 180th NB\\u002fSB\",\"King\"],[\"SR-181 S\\u002fO Longacres NB\\u002fSB\",\"King\"],[\"SR-523 E\\u002fO Lenora WB\\u002fEB\",\"King\"],[\"SR-164 @ SR-18 WB\\u002fEB\",\"King\"],[\"SR-164 S\\u002fO 400th WB\\u002fEB\",\"King\"],[\"SR-203 N\\u002fO Cherry Valley NB\\u002fSB\",\"King\"],[\"SR-203 N\\u002fO 124th NB\\u002fSB\",\"King\"],[\"SR-203 W\\u002fO Stillwater Hill NB\\u002fSB\",\"King\"],[\"SR-203 N\\u002fO Carnation Farm NB\\u002fSB\",\"King\"],[\"SR-203 N\\u002fO Tolt Hill NB\\u002fSB\",\"King\"],[\"SR-203 N\\u002fO SR-202 NB\\u002fSB\",\"King\"],[\"SR-519 W\\u002fO 4th NB\\u002fSB\",\"King\"]],\"hovertemplate\":\"Observed=%{x}\\u003cbr\\u003eModel=%{y}\\u003cbr\\u003elocation=%{customdata[0]}\\u003cbr\\u003eCounty=%{customdata[1]}\\u003cextra\\u003e\\u003c\\u002fextra\\u003e\",\"legendgroup\":\"\",\"marker\":{\"color\":\"#91268F\",\"symbol\":\"circle\"},\"mode\":\"markers\",\"name\":\"\",\"orientation\":\"v\",\"showlegend\":false,\"x\":{\"dtype\":\"i2\",\"bdata\":\"+gZ1B4UC9QV9BXgFZAUxBRYEpgY6CowOtgsGBAgE5AiACWUJbwnYCugJDgcWB1IDdgL\\u002fBIsEKwTIA1sD0AL3BEoDFgLNA00FDwVyA2UDHgQHBBQGjAaQCekGVAo6BisFBQ32BMoDKgJJAIAAmAGoAvAAZgClAdACKAXQBR0EWALAAi0JawZwCegFIAT4ChMDMwQxBYIJQAVyA\\u002fkA2QCWAvoBLwOpBmUEagPJAU0CawGvAUsBkgTbAQQBOARrA5AG2APPA5wDiAHyAsYAqgIiAtYA2AKOAVICMAMiAosGIgT2AzkDmAF9AwYH8QSqBXIGVAY8CGECKgOUAk4C5QLmAeoBGwL2ARQE\"},\"xaxis\":\"x\",\"y\":{\"dtype\":\"i2\",\"bdata\":\"sRlkGEwM0BGWEjEKTQobBywFKgxhFw8U3xOnDXcNLw8zEC0S5BK7D1cPlAboBjoFpQOuCKUJBwWiBfMGMAb6BcgEfQZfA4wFHQVMA\\u002f8CfQMtA7QGHQahKkcG\\u002fwQ6AAAAiyReB6sBNQApADkARwH5AJoASABfAG4DYgfkChIFKwNsAhAGlA0hDO8GmwJADVMHvwdzB4EIeAPUAmQB+QAuA2cBogFYCA8F9AHYAW0BvAARAaICLgjLAaEADQiGDBwQtAaSA8EGCgLGBU8CcASOAwAAPAZvAJoBQwFFAnEDoAPHBmIBTAKyBOwH\\u002fAbOCFgLWgurC5ACzAOKAtQB1QHaAOUAOwHTAMYG\"},\"yaxis\":\"y\",\"type\":\"scatter\",\"line\":{\"color\":\"Grey\",\"width\":2}},{\"hovertemplate\":\"Observed=%{x}\\u003cbr\\u003eModel=%{y}\\u003cextra\\u003e\\u003c\\u002fextra\\u003e\",\"legendgroup\":\"\",\"line\":{\"color\":\"Grey\",\"dash\":\"solid\",\"width\":2},\"marker\":{\"symbol\":\"circle\"},\"mode\":\"lines\",\"name\":\"\",\"orientation\":\"v\",\"showlegend\":false,\"x\":{\"dtype\":\"f8\",\"bdata\":\"AAAAAAAAAAB6O0Ni3s5CQHo7Q2LezlJAN9lkk002XEB6O0Ni3s5iQFgK1PqVgmdAN9lkk002bEAL1PqVAnVwQHo7Q2LeznJA6aKLLroodUBYCtT6lYJ3QMhxHMdx3HlAN9lkk002fECmQK1fKZB+QAvU+pUCdYBAwgcffPChgUB6O0Ni3s6CQDJvZ0jM+4NA6aKLLroohUCh1q8UqFWGQFgK1PqVgodAED744IOviEDIcRzHcdyJQH+lQK1fCYtAN9lkk002jEDvDIl5O2ONQKZArV8pkI5AXnTRRRe9j0AL1PqVAnWQQOftDIl5C5FAwgcffPChkUCeITFvZziSQHo7Q2LezpJAVlVVVVVlk0Ayb2dIzPuTQA2JeTtDkpRA6aKLLroolUDFvJ0hMb+VQKHWrxSoVZZAffDBBx\\u002fslkBYCtT6lYKXQDQk5u0MGZhAED744IOvmEDsVwrU+kWZQMhxHMdx3JlApIsuuuhymkB\\u002fpUCtXwmbQFu\\u002fUqDWn5tAN9lkk002nEAT83aGxMycQO8MiXk7Y51AyiabbLL5nUCmQK1fKZCeQIJav1KgJp9AXnTRRRe9n0Adx3EcxymgQAvU+pUCdaBA+eCDDz7AoEDn7QyJeQuhQNT6lQK1VqFAwgcffPChoUCwFKj1K+2hQJ4hMW9nOKJAjC666KKDokB6O0Ni3s6iQGhIzNsZGqNAVlVVVVVlo0BEYt7OkLCjQDJvZ0jM+6NAIHzwwQdHpEANiXk7Q5KkQPuVArV+3aRA6aKLLroopUDXrxSo9XOlQMW8nSExv6VAs8kmm2wKpkCh1q8UqFWmQI\\u002fjOI7joKZAffDBBx\\u002fspkBr\\u002fUqBWjenQFgK1PqVgqdARhdddNHNp0A0JObtDBmoQCIxb2dIZKhAED744IOvqED+SoFav\\u002fqoQOxXCtT6RalA2mSTTTaRqUDIcRzHcdypQLZ+pUCtJ6pApIsuuuhyqkCRmLczJL6qQH+lQK1fCatAbbLJJptUq0Bbv1Kg1p+rQEnM2xkS66tAN9lkk002rEAl5u0MiYGsQBPzdobEzKxAAAAAAAAYrUA=\"},\"xaxis\":\"x\",\"y\":{\"dtype\":\"f8\",\"bdata\":\"hMnV9NHvdsDDeqNAuJtywAVY4hg9j2zAg7p9sAnnY8AEOjKQrH1WwAD8o\\u002f0WtTTACHjAIkJGSEAIdynih3NdQARZeVn3YWdARPvuYBUFcEAESiEVL1l0QMaYU8lIrXhAhueFfWIBfUAjG9wYvqqAQIRC9fLK1IJA5GkOzdf+hEBEkSen5CiHQKa4QIHxUolABuBZW\\u002f58i0BmB3M1C6eNQMYujA8Y0Y9AE6vSdJL9kEDEPt\\u002fhmBKSQHTS606fJ5NAJGb4u6U8lEDV+QQprFGVQISNEZayZpZANSEeA7l7l0DltCpwv5CYQJZIN93FpZlARdxDSsy6mkD1b1C30s+bQKUDXSTZ5JxAV5dpkd\\u002f5nUAHK3b+5Q6fQFpfwTX2EaBANKlHbHmcoEAM882i\\u002fCahQOQ8VNl\\u002fsaFAvIbaDwM8okCU0GBGhsaiQGwa53wJUaNARGRts4zbo0AcrvPpD2akQPT3eSCT8KRAzEEAVxZ7pUCki4aNmQWmQHzVDMQckKZAVB+T+p8ap0AsaRkxI6WnQAazn2emL6hA3Pwlnim6qEC0RqzUrESpQI6QMgswz6lAZtq4QbNZqkA+JD94NuSqQBZuxa65bqtA7rdL5Tz5q0DGAdIbwIOsQJxLWFJDDq1AdpXeiMaYrUBO32S\\u002fSSOuQCYp6\\u002fXMra5A\\u002fnJxLFA4r0DWvPdi08KvQFgDv0yrJrBARCgC6OxrsEAwTUWDLrGwQBxyiB5w9rBACJfLubE7sUDzuw5V84CxQN\\u002fgUfA0xrFAzAWVi3YLskC4KtgmuFCyQKRPG8L5lbJAkHReXTvbskB8maH4fCCzQGi+5JO+ZbNAVOMnLwCrs0BBCGvKQfCzQCwtrmWDNbRAGFLxAMV6tEAEdzScBsC0QPCbdzdIBbVA3MC60olKtUDJ5f1ty4+1QLUKQQkN1bVAoS+EpE4atkCNVMc\\u002fkF+2QHl5CtvRpLZAZZ5NdhPqtkBQw5ARVS+3QD3o06yWdLdAKQ0XSNi5t0AVMlrjGf+3QAFXnX5bRLhA7XvgGZ2JuEDZoCO13s64QMXFZlAgFLlAseqp62FZuUA=\"},\"yaxis\":\"y\",\"type\":\"scatter\"}],                        {\"template\":{\"data\":{\"barpolar\":[{\"marker\":{\"line\":{\"color\":\"white\",\"width\":0.5},\"pattern\":{\"fillmode\":\"overlay\",\"size\":10,\"solidity\":0.2}},\"type\":\"barpolar\"}],\"bar\":[{\"error_x\":{\"color\":\"rgb(36,36,36)\"},\"error_y\":{\"color\":\"rgb(36,36,36)\"},\"marker\":{\"line\":{\"color\":\"white\",\"width\":0.5},\"pattern\":{\"fillmode\":\"overlay\",\"size\":10,\"solidity\":0.2}},\"type\":\"bar\"}],\"carpet\":[{\"aaxis\":{\"endlinecolor\":\"rgb(36,36,36)\",\"gridcolor\":\"white\",\"linecolor\":\"white\",\"minorgridcolor\":\"white\",\"startlinecolor\":\"rgb(36,36,36)\"},\"baxis\":{\"endlinecolor\":\"rgb(36,36,36)\",\"gridcolor\":\"white\",\"linecolor\":\"white\",\"minorgridcolor\":\"white\",\"startlinecolor\":\"rgb(36,36,36)\"},\"type\":\"carpet\"}],\"choropleth\":[{\"colorbar\":{\"outlinewidth\":1,\"tickcolor\":\"rgb(36,36,36)\",\"ticks\":\"outside\"},\"type\":\"choropleth\"}],\"contourcarpet\":[{\"colorbar\":{\"outlinewidth\":1,\"tickcolor\":\"rgb(36,36,36)\",\"ticks\":\"outside\"},\"type\":\"contourcarpet\"}],\"contour\":[{\"colorbar\":{\"outlinewidth\":1,\"tickcolor\":\"rgb(36,36,36)\",\"ticks\":\"outside\"},\"colorscale\":[[0.0,\"#440154\"],[0.1111111111111111,\"#482878\"],[0.2222222222222222,\"#3e4989\"],[0.3333333333333333,\"#31688e\"],[0.4444444444444444,\"#26828e\"],[0.5555555555555556,\"#1f9e89\"],[0.6666666666666666,\"#35b779\"],[0.7777777777777778,\"#6ece58\"],[0.8888888888888888,\"#b5de2b\"],[1.0,\"#fde725\"]],\"type\":\"contour\"}],\"heatmap\":[{\"colorbar\":{\"outlinewidth\":1,\"tickcolor\":\"rgb(36,36,36)\",\"ticks\":\"outside\"},\"colorscale\":[[0.0,\"#440154\"],[0.1111111111111111,\"#482878\"],[0.2222222222222222,\"#3e4989\"],[0.3333333333333333,\"#31688e\"],[0.4444444444444444,\"#26828e\"],[0.5555555555555556,\"#1f9e89\"],[0.6666666666666666,\"#35b779\"],[0.7777777777777778,\"#6ece58\"],[0.8888888888888888,\"#b5de2b\"],[1.0,\"#fde725\"]],\"type\":\"heatmap\"}],\"histogram2dcontour\":[{\"colorbar\":{\"outlinewidth\":1,\"tickcolor\":\"rgb(36,36,36)\",\"ticks\":\"outside\"},\"colorscale\":[[0.0,\"#440154\"],[0.1111111111111111,\"#482878\"],[0.2222222222222222,\"#3e4989\"],[0.3333333333333333,\"#31688e\"],[0.4444444444444444,\"#26828e\"],[0.5555555555555556,\"#1f9e89\"],[0.6666666666666666,\"#35b779\"],[0.7777777777777778,\"#6ece58\"],[0.8888888888888888,\"#b5de2b\"],[1.0,\"#fde725\"]],\"type\":\"histogram2dcontour\"}],\"histogram2d\":[{\"colorbar\":{\"outlinewidth\":1,\"tickcolor\":\"rgb(36,36,36)\",\"ticks\":\"outside\"},\"colorscale\":[[0.0,\"#440154\"],[0.1111111111111111,\"#482878\"],[0.2222222222222222,\"#3e4989\"],[0.3333333333333333,\"#31688e\"],[0.4444444444444444,\"#26828e\"],[0.5555555555555556,\"#1f9e89\"],[0.6666666666666666,\"#35b779\"],[0.7777777777777778,\"#6ece58\"],[0.8888888888888888,\"#b5de2b\"],[1.0,\"#fde725\"]],\"type\":\"histogram2d\"}],\"histogram\":[{\"marker\":{\"line\":{\"color\":\"white\",\"width\":0.6}},\"type\":\"histogram\"}],\"mesh3d\":[{\"colorbar\":{\"outlinewidth\":1,\"tickcolor\":\"rgb(36,36,36)\",\"ticks\":\"outside\"},\"type\":\"mesh3d\"}],\"parcoords\":[{\"line\":{\"colorbar\":{\"outlinewidth\":1,\"tickcolor\":\"rgb(36,36,36)\",\"ticks\":\"outside\"}},\"type\":\"parcoords\"}],\"pie\":[{\"automargin\":true,\"type\":\"pie\"}],\"scatter3d\":[{\"line\":{\"colorbar\":{\"outlinewidth\":1,\"tickcolor\":\"rgb(36,36,36)\",\"ticks\":\"outside\"}},\"marker\":{\"colorbar\":{\"outlinewidth\":1,\"tickcolor\":\"rgb(36,36,36)\",\"ticks\":\"outside\"}},\"type\":\"scatter3d\"}],\"scattercarpet\":[{\"marker\":{\"colorbar\":{\"outlinewidth\":1,\"tickcolor\":\"rgb(36,36,36)\",\"ticks\":\"outside\"}},\"type\":\"scattercarpet\"}],\"scattergeo\":[{\"marker\":{\"colorbar\":{\"outlinewidth\":1,\"tickcolor\":\"rgb(36,36,36)\",\"ticks\":\"outside\"}},\"type\":\"scattergeo\"}],\"scattergl\":[{\"marker\":{\"colorbar\":{\"outlinewidth\":1,\"tickcolor\":\"rgb(36,36,36)\",\"ticks\":\"outside\"}},\"type\":\"scattergl\"}],\"scattermapbox\":[{\"marker\":{\"colorbar\":{\"outlinewidth\":1,\"tickcolor\":\"rgb(36,36,36)\",\"ticks\":\"outside\"}},\"type\":\"scattermapbox\"}],\"scattermap\":[{\"marker\":{\"colorbar\":{\"outlinewidth\":1,\"tickcolor\":\"rgb(36,36,36)\",\"ticks\":\"outside\"}},\"type\":\"scattermap\"}],\"scatterpolargl\":[{\"marker\":{\"colorbar\":{\"outlinewidth\":1,\"tickcolor\":\"rgb(36,36,36)\",\"ticks\":\"outside\"}},\"type\":\"scatterpolargl\"}],\"scatterpolar\":[{\"marker\":{\"colorbar\":{\"outlinewidth\":1,\"tickcolor\":\"rgb(36,36,36)\",\"ticks\":\"outside\"}},\"type\":\"scatterpolar\"}],\"scatter\":[{\"fillpattern\":{\"fillmode\":\"overlay\",\"size\":10,\"solidity\":0.2},\"type\":\"scatter\"}],\"scatterternary\":[{\"marker\":{\"colorbar\":{\"outlinewidth\":1,\"tickcolor\":\"rgb(36,36,36)\",\"ticks\":\"outside\"}},\"type\":\"scatterternary\"}],\"surface\":[{\"colorbar\":{\"outlinewidth\":1,\"tickcolor\":\"rgb(36,36,36)\",\"ticks\":\"outside\"},\"colorscale\":[[0.0,\"#440154\"],[0.1111111111111111,\"#482878\"],[0.2222222222222222,\"#3e4989\"],[0.3333333333333333,\"#31688e\"],[0.4444444444444444,\"#26828e\"],[0.5555555555555556,\"#1f9e89\"],[0.6666666666666666,\"#35b779\"],[0.7777777777777778,\"#6ece58\"],[0.8888888888888888,\"#b5de2b\"],[1.0,\"#fde725\"]],\"type\":\"surface\"}],\"table\":[{\"cells\":{\"fill\":{\"color\":\"rgb(237,237,237)\"},\"line\":{\"color\":\"white\"}},\"header\":{\"fill\":{\"color\":\"rgb(217,217,217)\"},\"line\":{\"color\":\"white\"}},\"type\":\"table\"}]},\"layout\":{\"annotationdefaults\":{\"arrowhead\":0,\"arrowwidth\":1},\"autotypenumbers\":\"strict\",\"coloraxis\":{\"colorbar\":{\"outlinewidth\":1,\"tickcolor\":\"rgb(36,36,36)\",\"ticks\":\"outside\"}},\"colorscale\":{\"diverging\":[[0.0,\"rgb(103,0,31)\"],[0.1,\"rgb(178,24,43)\"],[0.2,\"rgb(214,96,77)\"],[0.3,\"rgb(244,165,130)\"],[0.4,\"rgb(253,219,199)\"],[0.5,\"rgb(247,247,247)\"],[0.6,\"rgb(209,229,240)\"],[0.7,\"rgb(146,197,222)\"],[0.8,\"rgb(67,147,195)\"],[0.9,\"rgb(33,102,172)\"],[1.0,\"rgb(5,48,97)\"]],\"sequential\":[[0.0,\"#440154\"],[0.1111111111111111,\"#482878\"],[0.2222222222222222,\"#3e4989\"],[0.3333333333333333,\"#31688e\"],[0.4444444444444444,\"#26828e\"],[0.5555555555555556,\"#1f9e89\"],[0.6666666666666666,\"#35b779\"],[0.7777777777777778,\"#6ece58\"],[0.8888888888888888,\"#b5de2b\"],[1.0,\"#fde725\"]],\"sequentialminus\":[[0.0,\"#440154\"],[0.1111111111111111,\"#482878\"],[0.2222222222222222,\"#3e4989\"],[0.3333333333333333,\"#31688e\"],[0.4444444444444444,\"#26828e\"],[0.5555555555555556,\"#1f9e89\"],[0.6666666666666666,\"#35b779\"],[0.7777777777777778,\"#6ece58\"],[0.8888888888888888,\"#b5de2b\"],[1.0,\"#fde725\"]]},\"colorway\":[\"#91268F\",\"#8CC63E\",\"#00A7A0\",\"#F05A28\",\"#4C4C4C\",\"#630460\",\"#9f3913\",\"#588527\",\"#00716c\",\"#3e4040\"],\"font\":{\"color\":\"rgb(36,36,36)\",\"family\":\"Poppins\",\"size\":11},\"geo\":{\"bgcolor\":\"white\",\"lakecolor\":\"white\",\"landcolor\":\"white\",\"showlakes\":true,\"showland\":true,\"subunitcolor\":\"white\"},\"hoverlabel\":{\"align\":\"left\"},\"hovermode\":\"closest\",\"mapbox\":{\"style\":\"light\"},\"paper_bgcolor\":\"white\",\"plot_bgcolor\":\"white\",\"polar\":{\"angularaxis\":{\"gridcolor\":\"rgb(232,232,232)\",\"linecolor\":\"rgb(36,36,36)\",\"showgrid\":false,\"showline\":true,\"ticks\":\"outside\"},\"bgcolor\":\"white\",\"radialaxis\":{\"gridcolor\":\"rgb(232,232,232)\",\"linecolor\":\"rgb(36,36,36)\",\"showgrid\":false,\"showline\":true,\"ticks\":\"outside\"}},\"scene\":{\"xaxis\":{\"backgroundcolor\":\"white\",\"gridcolor\":\"rgb(232,232,232)\",\"gridwidth\":2,\"linecolor\":\"rgb(36,36,36)\",\"showbackground\":true,\"showgrid\":false,\"showline\":true,\"ticks\":\"outside\",\"zeroline\":false,\"zerolinecolor\":\"rgb(36,36,36)\"},\"yaxis\":{\"backgroundcolor\":\"white\",\"gridcolor\":\"rgb(232,232,232)\",\"gridwidth\":2,\"linecolor\":\"rgb(36,36,36)\",\"showbackground\":true,\"showgrid\":false,\"showline\":true,\"ticks\":\"outside\",\"zeroline\":false,\"zerolinecolor\":\"rgb(36,36,36)\"},\"zaxis\":{\"backgroundcolor\":\"white\",\"gridcolor\":\"rgb(232,232,232)\",\"gridwidth\":2,\"linecolor\":\"rgb(36,36,36)\",\"showbackground\":true,\"showgrid\":false,\"showline\":true,\"ticks\":\"outside\",\"zeroline\":false,\"zerolinecolor\":\"rgb(36,36,36)\"}},\"shapedefaults\":{\"fillcolor\":\"black\",\"line\":{\"width\":0},\"opacity\":0.3},\"ternary\":{\"aaxis\":{\"gridcolor\":\"rgb(232,232,232)\",\"linecolor\":\"rgb(36,36,36)\",\"showgrid\":false,\"showline\":true,\"ticks\":\"outside\"},\"baxis\":{\"gridcolor\":\"rgb(232,232,232)\",\"linecolor\":\"rgb(36,36,36)\",\"showgrid\":false,\"showline\":true,\"ticks\":\"outside\"},\"bgcolor\":\"white\",\"caxis\":{\"gridcolor\":\"rgb(232,232,232)\",\"linecolor\":\"rgb(36,36,36)\",\"showgrid\":false,\"showline\":true,\"ticks\":\"outside\"}},\"title\":{\"x\":0.05},\"xaxis\":{\"automargin\":true,\"gridcolor\":\"rgb(232,232,232)\",\"linecolor\":\"rgb(36,36,36)\",\"showgrid\":false,\"showline\":true,\"ticks\":\"outside\",\"title\":{\"standoff\":15},\"zeroline\":false,\"zerolinecolor\":\"rgb(36,36,36)\"},\"yaxis\":{\"automargin\":true,\"gridcolor\":\"rgb(232,232,232)\",\"linecolor\":\"rgb(36,36,36)\",\"showgrid\":false,\"showline\":true,\"ticks\":\"outside\",\"title\":{\"standoff\":15},\"zeroline\":false,\"zerolinecolor\":\"rgb(36,36,36)\"}}},\"xaxis\":{\"anchor\":\"y\",\"domain\":[0.0,1.0],\"title\":{\"text\":\"Observed\"}},\"yaxis\":{\"anchor\":\"x\",\"domain\":[0.0,1.0],\"title\":{\"text\":\"Model\"}},\"legend\":{\"tracegroupgap\":0},\"title\":{\"text\":\"Medium Trucks: King\"},\"margin\":{\"l\":100,\"r\":100,\"t\":100,\"b\":100},\"height\":600,\"width\":800,\"shapes\":[{\"line\":{\"color\":\"Red\",\"dash\":\"dash\",\"width\":2},\"type\":\"line\",\"x0\":0,\"x1\":10913,\"y0\":0,\"y1\":10913}],\"annotations\":[{\"align\":\"right\",\"font\":{\"color\":\"pink\",\"size\":12},\"showarrow\":false,\"text\":\"y = x\",\"x\":11458.65,\"y\":11458.65},{\"align\":\"right\",\"font\":{\"color\":\"black\",\"size\":12},\"showarrow\":false,\"text\":\"r^2 = 0.56\",\"x\":3910.2000000000003,\"y\":6813.851627302921}]},                        {\"responsive\": true}                    ).then(function(){\n",
       "                            \n",
       "var gd = document.getElementById('6790711d-221c-45d2-9d59-6b944635dbf0');\n",
       "var x = new MutationObserver(function (mutations, observer) {{\n",
       "        var display = window.getComputedStyle(gd).display;\n",
       "        if (!display || display === 'none') {{\n",
       "            console.log([gd, 'removed!']);\n",
       "            Plotly.purge(gd);\n",
       "            observer.disconnect();\n",
       "        }}\n",
       "}});\n",
       "\n",
       "// Listen for the removal of the full notebook cells\n",
       "var notebookContainer = gd.closest('#notebook-container');\n",
       "if (notebookContainer) {{\n",
       "    x.observe(notebookContainer, {childList: true});\n",
       "}}\n",
       "\n",
       "// Listen for the clearing of the current output cell\n",
       "var outputEl = gd.closest('.output');\n",
       "if (outputEl) {{\n",
       "    x.observe(outputEl, {childList: true});\n",
       "}}\n",
       "\n",
       "                        })                };            </script>        </div>"
      ]
     },
     "metadata": {},
     "output_type": "display_data"
    }
   ],
   "source": [
    "fig = create_truck_chart(df_daily_med, 'Medium', 'King')\n",
    "fig.show()"
   ]
  },
  {
   "cell_type": "raw",
   "id": "5e3e1423",
   "metadata": {},
   "source": [
    "#### Kitsap"
   ]
  },
  {
   "cell_type": "code",
   "execution_count": 31,
   "id": "adf23089",
   "metadata": {
    "execution": {
     "iopub.execute_input": "2025-05-01T14:38:17.783612Z",
     "iopub.status.busy": "2025-05-01T14:38:17.783612Z",
     "iopub.status.idle": "2025-05-01T14:38:17.905939Z",
     "shell.execute_reply": "2025-05-01T14:38:17.904944Z"
    }
   },
   "outputs": [
    {
     "data": {
      "application/vnd.plotly.v1+json": {
       "config": {
        "plotlyServerURL": "https://plot.ly"
       },
       "data": [
        {
         "customdata": [
          [
           "SR-16  N/O SR-302 NB/SB",
           "Kitsap"
          ],
          [
           "SR-16 N/O SR-160 NB/SB",
           "Kitsap"
          ],
          [
           "SR-16 N/O Tremont NB/SB",
           "Kitsap"
          ],
          [
           "SR-16 S/O SR-3 NB",
           "Kitsap"
          ],
          [
           "SR-104 @ Hood Canal Bridge WB/EB",
           "Kitsap"
          ],
          [
           "SR-104 E/O Hood Canal Bridge WB/EB",
           "Kitsap"
          ],
          [
           "SR-104 N/O Pt Gamble Rd WB/EB",
           "Kitsap"
          ],
          [
           "SR-104 E/O SR-307 WB/EB",
           "Kitsap"
          ],
          [
           "SR-104 E/O Hansville WB/EB",
           "Kitsap"
          ],
          [
           "SR-160 @ SR-16 WB/EB",
           "Kitsap"
          ],
          [
           "SR-160 E/O Long Lake Rd WB/EB",
           "Kitsap"
          ],
          [
           "SR-160 W/O Banner WB/EB",
           "Kitsap"
          ],
          [
           "SR-160 E/O Peterson WB/EB",
           "Kitsap"
          ],
          [
           "SR-160 S/O Southworth Dr WB/EB",
           "Kitsap"
          ],
          [
           "SR-166 E/O SR-16 WB/EB",
           "Kitsap"
          ],
          [
           "SR-3 E/O Sunset Way NB/SB",
           "Kitsap"
          ],
          [
           "SR-3 N/O SR-305 NB/SB",
           "Kitsap"
          ],
          [
           "SR-3 S/O Newberry Hill Rd NB/SB",
           "Kitsap"
          ],
          [
           "SR-3 @ SR-304 NB/SB",
           "Kitsap"
          ],
          [
           "SR-3 NE of SR-16 NB/SB",
           "Kitsap"
          ],
          [
           "SR-3 W/O Lake Flora Rd NB/SB",
           "Kitsap"
          ],
          [
           "SR-303 E/O SR-3 NB/SB",
           "Kitsap"
          ],
          [
           "SR-303 N/O 11th St NB/SB",
           "Kitsap"
          ],
          [
           "SR-303 N/O SR-304 NB/SB",
           "Kitsap"
          ],
          [
           "SR-304 E/O SR-3 WB/EB",
           "Kitsap"
          ],
          [
           "SR-304 W/O Naval WB/EB",
           "Kitsap"
          ],
          [
           "SR-305 W/O SR-307 WB/EB",
           "Kitsap"
          ],
          [
           "SR-305 W/O Suquamish Way WB/EB",
           "Kitsap"
          ],
          [
           "SR-305 N/O Day Rd WB/EB",
           "Kitsap"
          ],
          [
           "SR-305 N/O High School Rd WB/EB",
           "Kitsap"
          ],
          [
           "SR-305 S/O Winslow Way WB/EB",
           "Kitsap"
          ],
          [
           "SR-305 @ Ferry Ramp WB/EB",
           "Kitsap"
          ],
          [
           "SR-307 W/O SR-104 NB/SB",
           "Kitsap"
          ],
          [
           "SR-307 N/O Gunderson NB/SB",
           "Kitsap"
          ],
          [
           "SR-307 S/O Gunderson NB/SB",
           "Kitsap"
          ],
          [
           "SR-307 N/O SR-305 NB/SB",
           "Kitsap"
          ],
          [
           "SR-308 @ SR-3 WB/EB",
           "Kitsap"
          ],
          [
           "SR-308 E/O SR-3 WB/EB",
           "Kitsap"
          ],
          [
           "SR-308 E/O Silverdale Way WB/EB",
           "Kitsap"
          ],
          [
           "SR-308 W/O Brownsville Hwy WB/EB",
           "Kitsap"
          ],
          [
           "SR-310 @ SR-3 WB/EB",
           "Kitsap"
          ],
          [
           "SR-310 W/O Callow WB/EB",
           "Kitsap"
          ]
         ],
         "hovertemplate": "Observed=%{x}<br>Model=%{y}<br>location=%{customdata[0]}<br>County=%{customdata[1]}<extra></extra>",
         "legendgroup": "",
         "line": {
          "color": "Grey",
          "width": 2
         },
         "marker": {
          "color": "#91268F",
          "symbol": "circle"
         },
         "mode": "markers",
         "name": "",
         "orientation": "v",
         "showlegend": false,
         "type": "scatter",
         "x": {
          "bdata": "IAnNB8sI+Qe+AsUA1wAAAiAB2wENApgB6QBWABgB6gS9BhoI6AaeDGADzAPwA7IBKgNhAk4ElAJYAtQBCQHdAMoC3AFkAqgCnADHAAcB5gCBAx4B",
          "dtype": "i2"
         },
         "xaxis": "x",
         "y": {
          "bdata": "DBAADc0NxgcAABkAEQDSAJgANgK2AIkAvgBIAJwBOADRAOIJCwoQEAAAWQO+AysBVgYOA28GBAQ2BJ8ANAA0AAgBNQFAAlkCcgB0AMMAggB4AZ8A",
          "dtype": "i2"
         },
         "yaxis": "y"
        },
        {
         "hovertemplate": "Observed=%{x}<br>Model=%{y}<extra></extra>",
         "legendgroup": "",
         "line": {
          "color": "Grey",
          "dash": "solid",
          "width": 2
         },
         "marker": {
          "symbol": "circle"
         },
         "mode": "lines",
         "name": "",
         "orientation": "v",
         "showlegend": false,
         "type": "scatter",
         "x": {
          "bdata": "AAAAAAAAAAClQK1fKVBAQKVArV8pUFBA+OCDDz54WEClQK1fKVBgQM6QmLczZGRA+OCDDz54aEAhMW9nSIxsQKVArV8pUHBAuuiiiy5ackDOkJi3M2R0QOM4juM4bnZA+OCDDz54eEAMiXk7Q4J6QCExb2dIjHxANdlkk02WfkClQK1fKVCAQK8UqPUrVYFAuuiiiy5agkDEvJ0hMV+DQM6QmLczZIRA2WSTTTZphUDjOI7jOG6GQO0MiXk7c4dA+OCDDz54iEACtX6lQH2JQAyJeTtDgopAFl100UWHi0AhMW9nSIyMQCsFav1KkY1ANdlkk02WjkBArV8pUJuPQKVArV8pUJBAqqqqqqrSkECvFKj1K1WRQLR+pUCt15FAuuiiiy5akkC/UqDWr9ySQMS8nSExX5NAySabbLLhk0DOkJi3M2SUQNP6lQK15pRA2WSTTTZplUDezpCYt+uVQOM4juM4bpZA6KKLLrrwlkDtDIl5O3OXQPJ2hsS89ZdA+OCDDz54mED9SoFav/qYQAK1fqVAfZlABx988MH/mUAMiXk7Q4KaQBHzdobEBJtAFl100UWHm0Acx3EcxwmcQCExb2dIjJxAJptssskOnUArBWr9SpGdQDBvZ0jME55ANdlkk02WnkA7Q2LezhifQECtXylQm59AoosuuugOoEClQK1fKVCgQKj1KwVqkaBAqqqqqqrSoECtXylQ6xOhQK8UqPUrVaFAsskmm2yWoUC0fqVArdehQLczJObtGKJAuuiiiy5aokC8nSExb5uiQL9SoNav3KJAwQcffPAdo0DEvJ0hMV+jQMdxHMdxoKNAySabbLLho0DM2xkS8yKkQM6QmLczZKRA0UUXXXSlpEDT+pUCteakQNavFKj1J6VA2WSTTTZppUDbGRLzdqqlQN7OkJi366VA4IMPPvgspkDjOI7jOG6mQOXtDIl5r6ZA6KKLLrrwpkDrVwrU+jGnQO0MiXk7c6dA8MEHH3y0p0DydobEvPWnQPUrBWr9NqhA+OCDDz54qED6lQK1frmoQP1KgVq/+qhAAAAAAAA8qUA=",
          "dtype": "f8"
         },
         "xaxis": "x",
         "y": {
          "bdata": "KD9HE0+Rc8DEPfC8QrpwwMJ4Ms1sxmvA+nWEIFQYZsAzc9ZzO2pgwNjgUI5FeFXAkLbpaSg4RMBApHJG0gEUQKhfhvucOElAZDUf13/4V0B4nT2YWKphQECg60RxWGdACKOZ8YkGbUDm0iNPUVpxQErUeqVdMXRArtXR+2kId0AS1yhSdt95QHTYf6iCtnxA2tnW/o6Nf0Ce7ZaqTTKBQFBuwtXTnYJAAu/tAFoJhEC0bxks4HSFQGbwRFdm4IZAGHFwguxLiEDK8ZutcreJQHpyx9j4IotALPPyA3+OjEDecx4vBfqNQJD0SVqLZY9Aobq6wohokED6elDYSx6RQFM75u0O1JFArPt7A9KJkkAEvBEZlT+TQF18py5Y9ZNAtzw9RBurlEAQ/dJZ3mCVQGi9aG+hFpZAwX3+hGTMlkAaPpSaJ4KXQHL+KbDqN5hAzL6/xa3tmEAlf1XbcKOZQH4/6/AzWZpA1v+ABvcOm0AwwBYcusSbQIiArDF9epxA4kBCR0AwnUA6AdhcA+adQJTBbXLGm55A7IEDiIlRn0AiocxOpgOgQE+Bl9mHXqBAe2FiZGm5oECoQS3vShShQNQh+Hksb6FAAQLDBA7KoUAt4o2P7ySiQFnCWBrRf6JAhqIjpbLaokCzgu4vlDWjQN9iubp1kKNAC0OERVfro0A4I0/QOEakQGUDGlsaoaRAkePk5fv7pEC+w69w3ValQOmjevu+saVAFoRFhqAMpkBCZBARgmemQG9E25tjwqZAnCSmJkUdp0DIBHGxJninQPXkOzwI06dAIMUGx+ktqEBNpdFRy4ioQHqFnNys46hApmVnZ44+qUDTRTLyb5mpQP8l/XxR9KlALAbIBzNPqkBX5pKSFKqqQITGXR32BKtAsaYoqNdfq0DdhvMyubqrQApnvr2aFaxANkeJSHxwrEBjJ1TTXcusQI4HH14/Jq1Au+fp6CCBrUDpx7RzAtytQBWof/7jNq5AQYhKicWRrkBtaBUUp+yuQJlI4J6IR69AxyirKWqir0DzCHa0S/2vQJB0oJ8WLLBApuQFZYdZsEA=",
          "dtype": "f8"
         },
         "yaxis": "y"
        }
       ],
       "layout": {
        "annotations": [
         {
          "align": "right",
          "font": {
           "color": "pink",
           "size": 12
          },
          "showarrow": false,
          "text": "y = x",
          "x": 4317.6,
          "y": 4317.6
         },
         {
          "align": "right",
          "font": {
           "color": "black",
           "size": 12
          },
          "showarrow": false,
          "text": "r^2 = 0.78",
          "x": 3391.5,
          "y": 4394.805329500903
         }
        ],
        "height": 600,
        "legend": {
         "tracegroupgap": 0
        },
        "margin": {
         "b": 100,
         "l": 100,
         "r": 100,
         "t": 100
        },
        "shapes": [
         {
          "line": {
           "color": "Red",
           "dash": "dash",
           "width": 2
          },
          "type": "line",
          "x0": 0,
          "x1": 4112,
          "y0": 0,
          "y1": 4112
         }
        ],
        "template": {
         "data": {
          "bar": [
           {
            "error_x": {
             "color": "rgb(36,36,36)"
            },
            "error_y": {
             "color": "rgb(36,36,36)"
            },
            "marker": {
             "line": {
              "color": "white",
              "width": 0.5
             },
             "pattern": {
              "fillmode": "overlay",
              "size": 10,
              "solidity": 0.2
             }
            },
            "type": "bar"
           }
          ],
          "barpolar": [
           {
            "marker": {
             "line": {
              "color": "white",
              "width": 0.5
             },
             "pattern": {
              "fillmode": "overlay",
              "size": 10,
              "solidity": 0.2
             }
            },
            "type": "barpolar"
           }
          ],
          "carpet": [
           {
            "aaxis": {
             "endlinecolor": "rgb(36,36,36)",
             "gridcolor": "white",
             "linecolor": "white",
             "minorgridcolor": "white",
             "startlinecolor": "rgb(36,36,36)"
            },
            "baxis": {
             "endlinecolor": "rgb(36,36,36)",
             "gridcolor": "white",
             "linecolor": "white",
             "minorgridcolor": "white",
             "startlinecolor": "rgb(36,36,36)"
            },
            "type": "carpet"
           }
          ],
          "choropleth": [
           {
            "colorbar": {
             "outlinewidth": 1,
             "tickcolor": "rgb(36,36,36)",
             "ticks": "outside"
            },
            "type": "choropleth"
           }
          ],
          "contour": [
           {
            "colorbar": {
             "outlinewidth": 1,
             "tickcolor": "rgb(36,36,36)",
             "ticks": "outside"
            },
            "colorscale": [
             [
              0.0,
              "#440154"
             ],
             [
              0.1111111111111111,
              "#482878"
             ],
             [
              0.2222222222222222,
              "#3e4989"
             ],
             [
              0.3333333333333333,
              "#31688e"
             ],
             [
              0.4444444444444444,
              "#26828e"
             ],
             [
              0.5555555555555556,
              "#1f9e89"
             ],
             [
              0.6666666666666666,
              "#35b779"
             ],
             [
              0.7777777777777778,
              "#6ece58"
             ],
             [
              0.8888888888888888,
              "#b5de2b"
             ],
             [
              1.0,
              "#fde725"
             ]
            ],
            "type": "contour"
           }
          ],
          "contourcarpet": [
           {
            "colorbar": {
             "outlinewidth": 1,
             "tickcolor": "rgb(36,36,36)",
             "ticks": "outside"
            },
            "type": "contourcarpet"
           }
          ],
          "heatmap": [
           {
            "colorbar": {
             "outlinewidth": 1,
             "tickcolor": "rgb(36,36,36)",
             "ticks": "outside"
            },
            "colorscale": [
             [
              0.0,
              "#440154"
             ],
             [
              0.1111111111111111,
              "#482878"
             ],
             [
              0.2222222222222222,
              "#3e4989"
             ],
             [
              0.3333333333333333,
              "#31688e"
             ],
             [
              0.4444444444444444,
              "#26828e"
             ],
             [
              0.5555555555555556,
              "#1f9e89"
             ],
             [
              0.6666666666666666,
              "#35b779"
             ],
             [
              0.7777777777777778,
              "#6ece58"
             ],
             [
              0.8888888888888888,
              "#b5de2b"
             ],
             [
              1.0,
              "#fde725"
             ]
            ],
            "type": "heatmap"
           }
          ],
          "histogram": [
           {
            "marker": {
             "line": {
              "color": "white",
              "width": 0.6
             }
            },
            "type": "histogram"
           }
          ],
          "histogram2d": [
           {
            "colorbar": {
             "outlinewidth": 1,
             "tickcolor": "rgb(36,36,36)",
             "ticks": "outside"
            },
            "colorscale": [
             [
              0.0,
              "#440154"
             ],
             [
              0.1111111111111111,
              "#482878"
             ],
             [
              0.2222222222222222,
              "#3e4989"
             ],
             [
              0.3333333333333333,
              "#31688e"
             ],
             [
              0.4444444444444444,
              "#26828e"
             ],
             [
              0.5555555555555556,
              "#1f9e89"
             ],
             [
              0.6666666666666666,
              "#35b779"
             ],
             [
              0.7777777777777778,
              "#6ece58"
             ],
             [
              0.8888888888888888,
              "#b5de2b"
             ],
             [
              1.0,
              "#fde725"
             ]
            ],
            "type": "histogram2d"
           }
          ],
          "histogram2dcontour": [
           {
            "colorbar": {
             "outlinewidth": 1,
             "tickcolor": "rgb(36,36,36)",
             "ticks": "outside"
            },
            "colorscale": [
             [
              0.0,
              "#440154"
             ],
             [
              0.1111111111111111,
              "#482878"
             ],
             [
              0.2222222222222222,
              "#3e4989"
             ],
             [
              0.3333333333333333,
              "#31688e"
             ],
             [
              0.4444444444444444,
              "#26828e"
             ],
             [
              0.5555555555555556,
              "#1f9e89"
             ],
             [
              0.6666666666666666,
              "#35b779"
             ],
             [
              0.7777777777777778,
              "#6ece58"
             ],
             [
              0.8888888888888888,
              "#b5de2b"
             ],
             [
              1.0,
              "#fde725"
             ]
            ],
            "type": "histogram2dcontour"
           }
          ],
          "mesh3d": [
           {
            "colorbar": {
             "outlinewidth": 1,
             "tickcolor": "rgb(36,36,36)",
             "ticks": "outside"
            },
            "type": "mesh3d"
           }
          ],
          "parcoords": [
           {
            "line": {
             "colorbar": {
              "outlinewidth": 1,
              "tickcolor": "rgb(36,36,36)",
              "ticks": "outside"
             }
            },
            "type": "parcoords"
           }
          ],
          "pie": [
           {
            "automargin": true,
            "type": "pie"
           }
          ],
          "scatter": [
           {
            "fillpattern": {
             "fillmode": "overlay",
             "size": 10,
             "solidity": 0.2
            },
            "type": "scatter"
           }
          ],
          "scatter3d": [
           {
            "line": {
             "colorbar": {
              "outlinewidth": 1,
              "tickcolor": "rgb(36,36,36)",
              "ticks": "outside"
             }
            },
            "marker": {
             "colorbar": {
              "outlinewidth": 1,
              "tickcolor": "rgb(36,36,36)",
              "ticks": "outside"
             }
            },
            "type": "scatter3d"
           }
          ],
          "scattercarpet": [
           {
            "marker": {
             "colorbar": {
              "outlinewidth": 1,
              "tickcolor": "rgb(36,36,36)",
              "ticks": "outside"
             }
            },
            "type": "scattercarpet"
           }
          ],
          "scattergeo": [
           {
            "marker": {
             "colorbar": {
              "outlinewidth": 1,
              "tickcolor": "rgb(36,36,36)",
              "ticks": "outside"
             }
            },
            "type": "scattergeo"
           }
          ],
          "scattergl": [
           {
            "marker": {
             "colorbar": {
              "outlinewidth": 1,
              "tickcolor": "rgb(36,36,36)",
              "ticks": "outside"
             }
            },
            "type": "scattergl"
           }
          ],
          "scattermap": [
           {
            "marker": {
             "colorbar": {
              "outlinewidth": 1,
              "tickcolor": "rgb(36,36,36)",
              "ticks": "outside"
             }
            },
            "type": "scattermap"
           }
          ],
          "scattermapbox": [
           {
            "marker": {
             "colorbar": {
              "outlinewidth": 1,
              "tickcolor": "rgb(36,36,36)",
              "ticks": "outside"
             }
            },
            "type": "scattermapbox"
           }
          ],
          "scatterpolar": [
           {
            "marker": {
             "colorbar": {
              "outlinewidth": 1,
              "tickcolor": "rgb(36,36,36)",
              "ticks": "outside"
             }
            },
            "type": "scatterpolar"
           }
          ],
          "scatterpolargl": [
           {
            "marker": {
             "colorbar": {
              "outlinewidth": 1,
              "tickcolor": "rgb(36,36,36)",
              "ticks": "outside"
             }
            },
            "type": "scatterpolargl"
           }
          ],
          "scatterternary": [
           {
            "marker": {
             "colorbar": {
              "outlinewidth": 1,
              "tickcolor": "rgb(36,36,36)",
              "ticks": "outside"
             }
            },
            "type": "scatterternary"
           }
          ],
          "surface": [
           {
            "colorbar": {
             "outlinewidth": 1,
             "tickcolor": "rgb(36,36,36)",
             "ticks": "outside"
            },
            "colorscale": [
             [
              0.0,
              "#440154"
             ],
             [
              0.1111111111111111,
              "#482878"
             ],
             [
              0.2222222222222222,
              "#3e4989"
             ],
             [
              0.3333333333333333,
              "#31688e"
             ],
             [
              0.4444444444444444,
              "#26828e"
             ],
             [
              0.5555555555555556,
              "#1f9e89"
             ],
             [
              0.6666666666666666,
              "#35b779"
             ],
             [
              0.7777777777777778,
              "#6ece58"
             ],
             [
              0.8888888888888888,
              "#b5de2b"
             ],
             [
              1.0,
              "#fde725"
             ]
            ],
            "type": "surface"
           }
          ],
          "table": [
           {
            "cells": {
             "fill": {
              "color": "rgb(237,237,237)"
             },
             "line": {
              "color": "white"
             }
            },
            "header": {
             "fill": {
              "color": "rgb(217,217,217)"
             },
             "line": {
              "color": "white"
             }
            },
            "type": "table"
           }
          ]
         },
         "layout": {
          "annotationdefaults": {
           "arrowhead": 0,
           "arrowwidth": 1
          },
          "autotypenumbers": "strict",
          "coloraxis": {
           "colorbar": {
            "outlinewidth": 1,
            "tickcolor": "rgb(36,36,36)",
            "ticks": "outside"
           }
          },
          "colorscale": {
           "diverging": [
            [
             0.0,
             "rgb(103,0,31)"
            ],
            [
             0.1,
             "rgb(178,24,43)"
            ],
            [
             0.2,
             "rgb(214,96,77)"
            ],
            [
             0.3,
             "rgb(244,165,130)"
            ],
            [
             0.4,
             "rgb(253,219,199)"
            ],
            [
             0.5,
             "rgb(247,247,247)"
            ],
            [
             0.6,
             "rgb(209,229,240)"
            ],
            [
             0.7,
             "rgb(146,197,222)"
            ],
            [
             0.8,
             "rgb(67,147,195)"
            ],
            [
             0.9,
             "rgb(33,102,172)"
            ],
            [
             1.0,
             "rgb(5,48,97)"
            ]
           ],
           "sequential": [
            [
             0.0,
             "#440154"
            ],
            [
             0.1111111111111111,
             "#482878"
            ],
            [
             0.2222222222222222,
             "#3e4989"
            ],
            [
             0.3333333333333333,
             "#31688e"
            ],
            [
             0.4444444444444444,
             "#26828e"
            ],
            [
             0.5555555555555556,
             "#1f9e89"
            ],
            [
             0.6666666666666666,
             "#35b779"
            ],
            [
             0.7777777777777778,
             "#6ece58"
            ],
            [
             0.8888888888888888,
             "#b5de2b"
            ],
            [
             1.0,
             "#fde725"
            ]
           ],
           "sequentialminus": [
            [
             0.0,
             "#440154"
            ],
            [
             0.1111111111111111,
             "#482878"
            ],
            [
             0.2222222222222222,
             "#3e4989"
            ],
            [
             0.3333333333333333,
             "#31688e"
            ],
            [
             0.4444444444444444,
             "#26828e"
            ],
            [
             0.5555555555555556,
             "#1f9e89"
            ],
            [
             0.6666666666666666,
             "#35b779"
            ],
            [
             0.7777777777777778,
             "#6ece58"
            ],
            [
             0.8888888888888888,
             "#b5de2b"
            ],
            [
             1.0,
             "#fde725"
            ]
           ]
          },
          "colorway": [
           "#91268F",
           "#8CC63E",
           "#00A7A0",
           "#F05A28",
           "#4C4C4C",
           "#630460",
           "#9f3913",
           "#588527",
           "#00716c",
           "#3e4040"
          ],
          "font": {
           "color": "rgb(36,36,36)",
           "family": "Poppins",
           "size": 11
          },
          "geo": {
           "bgcolor": "white",
           "lakecolor": "white",
           "landcolor": "white",
           "showlakes": true,
           "showland": true,
           "subunitcolor": "white"
          },
          "hoverlabel": {
           "align": "left"
          },
          "hovermode": "closest",
          "mapbox": {
           "style": "light"
          },
          "paper_bgcolor": "white",
          "plot_bgcolor": "white",
          "polar": {
           "angularaxis": {
            "gridcolor": "rgb(232,232,232)",
            "linecolor": "rgb(36,36,36)",
            "showgrid": false,
            "showline": true,
            "ticks": "outside"
           },
           "bgcolor": "white",
           "radialaxis": {
            "gridcolor": "rgb(232,232,232)",
            "linecolor": "rgb(36,36,36)",
            "showgrid": false,
            "showline": true,
            "ticks": "outside"
           }
          },
          "scene": {
           "xaxis": {
            "backgroundcolor": "white",
            "gridcolor": "rgb(232,232,232)",
            "gridwidth": 2,
            "linecolor": "rgb(36,36,36)",
            "showbackground": true,
            "showgrid": false,
            "showline": true,
            "ticks": "outside",
            "zeroline": false,
            "zerolinecolor": "rgb(36,36,36)"
           },
           "yaxis": {
            "backgroundcolor": "white",
            "gridcolor": "rgb(232,232,232)",
            "gridwidth": 2,
            "linecolor": "rgb(36,36,36)",
            "showbackground": true,
            "showgrid": false,
            "showline": true,
            "ticks": "outside",
            "zeroline": false,
            "zerolinecolor": "rgb(36,36,36)"
           },
           "zaxis": {
            "backgroundcolor": "white",
            "gridcolor": "rgb(232,232,232)",
            "gridwidth": 2,
            "linecolor": "rgb(36,36,36)",
            "showbackground": true,
            "showgrid": false,
            "showline": true,
            "ticks": "outside",
            "zeroline": false,
            "zerolinecolor": "rgb(36,36,36)"
           }
          },
          "shapedefaults": {
           "fillcolor": "black",
           "line": {
            "width": 0
           },
           "opacity": 0.3
          },
          "ternary": {
           "aaxis": {
            "gridcolor": "rgb(232,232,232)",
            "linecolor": "rgb(36,36,36)",
            "showgrid": false,
            "showline": true,
            "ticks": "outside"
           },
           "baxis": {
            "gridcolor": "rgb(232,232,232)",
            "linecolor": "rgb(36,36,36)",
            "showgrid": false,
            "showline": true,
            "ticks": "outside"
           },
           "bgcolor": "white",
           "caxis": {
            "gridcolor": "rgb(232,232,232)",
            "linecolor": "rgb(36,36,36)",
            "showgrid": false,
            "showline": true,
            "ticks": "outside"
           }
          },
          "title": {
           "x": 0.05
          },
          "xaxis": {
           "automargin": true,
           "gridcolor": "rgb(232,232,232)",
           "linecolor": "rgb(36,36,36)",
           "showgrid": false,
           "showline": true,
           "ticks": "outside",
           "title": {
            "standoff": 15
           },
           "zeroline": false,
           "zerolinecolor": "rgb(36,36,36)"
          },
          "yaxis": {
           "automargin": true,
           "gridcolor": "rgb(232,232,232)",
           "linecolor": "rgb(36,36,36)",
           "showgrid": false,
           "showline": true,
           "ticks": "outside",
           "title": {
            "standoff": 15
           },
           "zeroline": false,
           "zerolinecolor": "rgb(36,36,36)"
          }
         }
        },
        "title": {
         "text": "Medium Trucks: Kitsap"
        },
        "width": 800,
        "xaxis": {
         "anchor": "y",
         "domain": [
          0.0,
          1.0
         ],
         "title": {
          "text": "Observed"
         }
        },
        "yaxis": {
         "anchor": "x",
         "domain": [
          0.0,
          1.0
         ],
         "title": {
          "text": "Model"
         }
        }
       }
      },
      "text/html": [
       "<div>            <script src=\"https://cdnjs.cloudflare.com/ajax/libs/mathjax/2.7.5/MathJax.js?config=TeX-AMS-MML_SVG\"></script><script type=\"text/javascript\">if (window.MathJax && window.MathJax.Hub && window.MathJax.Hub.Config) {window.MathJax.Hub.Config({SVG: {font: \"STIX-Web\"}});}</script>                <script type=\"text/javascript\">window.PlotlyConfig = {MathJaxConfig: 'local'};</script>\n",
       "        <script charset=\"utf-8\" src=\"https://cdn.plot.ly/plotly-3.0.1.min.js\"></script>                <div id=\"c1021984-e24f-4ca7-9c02-5cde4fbaacfe\" class=\"plotly-graph-div\" style=\"height:600px; width:800px;\"></div>            <script type=\"text/javascript\">                window.PLOTLYENV=window.PLOTLYENV || {};                                if (document.getElementById(\"c1021984-e24f-4ca7-9c02-5cde4fbaacfe\")) {                    Plotly.newPlot(                        \"c1021984-e24f-4ca7-9c02-5cde4fbaacfe\",                        [{\"customdata\":[[\"SR-16  N\\u002fO SR-302 NB\\u002fSB\",\"Kitsap\"],[\"SR-16 N\\u002fO SR-160 NB\\u002fSB\",\"Kitsap\"],[\"SR-16 N\\u002fO Tremont NB\\u002fSB\",\"Kitsap\"],[\"SR-16 S\\u002fO SR-3 NB\",\"Kitsap\"],[\"SR-104 @ Hood Canal Bridge WB\\u002fEB\",\"Kitsap\"],[\"SR-104 E\\u002fO Hood Canal Bridge WB\\u002fEB\",\"Kitsap\"],[\"SR-104 N\\u002fO Pt Gamble Rd WB\\u002fEB\",\"Kitsap\"],[\"SR-104 E\\u002fO SR-307 WB\\u002fEB\",\"Kitsap\"],[\"SR-104 E\\u002fO Hansville WB\\u002fEB\",\"Kitsap\"],[\"SR-160 @ SR-16 WB\\u002fEB\",\"Kitsap\"],[\"SR-160 E\\u002fO Long Lake Rd WB\\u002fEB\",\"Kitsap\"],[\"SR-160 W\\u002fO Banner WB\\u002fEB\",\"Kitsap\"],[\"SR-160 E\\u002fO Peterson WB\\u002fEB\",\"Kitsap\"],[\"SR-160 S\\u002fO Southworth Dr WB\\u002fEB\",\"Kitsap\"],[\"SR-166 E\\u002fO SR-16 WB\\u002fEB\",\"Kitsap\"],[\"SR-3 E\\u002fO Sunset Way NB\\u002fSB\",\"Kitsap\"],[\"SR-3 N\\u002fO SR-305 NB\\u002fSB\",\"Kitsap\"],[\"SR-3 S\\u002fO Newberry Hill Rd NB\\u002fSB\",\"Kitsap\"],[\"SR-3 @ SR-304 NB\\u002fSB\",\"Kitsap\"],[\"SR-3 NE of SR-16 NB\\u002fSB\",\"Kitsap\"],[\"SR-3 W\\u002fO Lake Flora Rd NB\\u002fSB\",\"Kitsap\"],[\"SR-303 E\\u002fO SR-3 NB\\u002fSB\",\"Kitsap\"],[\"SR-303 N\\u002fO 11th St NB\\u002fSB\",\"Kitsap\"],[\"SR-303 N\\u002fO SR-304 NB\\u002fSB\",\"Kitsap\"],[\"SR-304 E\\u002fO SR-3 WB\\u002fEB\",\"Kitsap\"],[\"SR-304 W\\u002fO Naval WB\\u002fEB\",\"Kitsap\"],[\"SR-305 W\\u002fO SR-307 WB\\u002fEB\",\"Kitsap\"],[\"SR-305 W\\u002fO Suquamish Way WB\\u002fEB\",\"Kitsap\"],[\"SR-305 N\\u002fO Day Rd WB\\u002fEB\",\"Kitsap\"],[\"SR-305 N\\u002fO High School Rd WB\\u002fEB\",\"Kitsap\"],[\"SR-305 S\\u002fO Winslow Way WB\\u002fEB\",\"Kitsap\"],[\"SR-305 @ Ferry Ramp WB\\u002fEB\",\"Kitsap\"],[\"SR-307 W\\u002fO SR-104 NB\\u002fSB\",\"Kitsap\"],[\"SR-307 N\\u002fO Gunderson NB\\u002fSB\",\"Kitsap\"],[\"SR-307 S\\u002fO Gunderson NB\\u002fSB\",\"Kitsap\"],[\"SR-307 N\\u002fO SR-305 NB\\u002fSB\",\"Kitsap\"],[\"SR-308 @ SR-3 WB\\u002fEB\",\"Kitsap\"],[\"SR-308 E\\u002fO SR-3 WB\\u002fEB\",\"Kitsap\"],[\"SR-308 E\\u002fO Silverdale Way WB\\u002fEB\",\"Kitsap\"],[\"SR-308 W\\u002fO Brownsville Hwy WB\\u002fEB\",\"Kitsap\"],[\"SR-310 @ SR-3 WB\\u002fEB\",\"Kitsap\"],[\"SR-310 W\\u002fO Callow WB\\u002fEB\",\"Kitsap\"]],\"hovertemplate\":\"Observed=%{x}\\u003cbr\\u003eModel=%{y}\\u003cbr\\u003elocation=%{customdata[0]}\\u003cbr\\u003eCounty=%{customdata[1]}\\u003cextra\\u003e\\u003c\\u002fextra\\u003e\",\"legendgroup\":\"\",\"marker\":{\"color\":\"#91268F\",\"symbol\":\"circle\"},\"mode\":\"markers\",\"name\":\"\",\"orientation\":\"v\",\"showlegend\":false,\"x\":{\"dtype\":\"i2\",\"bdata\":\"IAnNB8sI+Qe+AsUA1wAAAiAB2wENApgB6QBWABgB6gS9BhoI6AaeDGADzAPwA7IBKgNhAk4ElAJYAtQBCQHdAMoC3AFkAqgCnADHAAcB5gCBAx4B\"},\"xaxis\":\"x\",\"y\":{\"dtype\":\"i2\",\"bdata\":\"DBAADc0NxgcAABkAEQDSAJgANgK2AIkAvgBIAJwBOADRAOIJCwoQEAAAWQO+AysBVgYOA28GBAQ2BJ8ANAA0AAgBNQFAAlkCcgB0AMMAggB4AZ8A\"},\"yaxis\":\"y\",\"type\":\"scatter\",\"line\":{\"color\":\"Grey\",\"width\":2}},{\"hovertemplate\":\"Observed=%{x}\\u003cbr\\u003eModel=%{y}\\u003cextra\\u003e\\u003c\\u002fextra\\u003e\",\"legendgroup\":\"\",\"line\":{\"color\":\"Grey\",\"dash\":\"solid\",\"width\":2},\"marker\":{\"symbol\":\"circle\"},\"mode\":\"lines\",\"name\":\"\",\"orientation\":\"v\",\"showlegend\":false,\"x\":{\"dtype\":\"f8\",\"bdata\":\"AAAAAAAAAAClQK1fKVBAQKVArV8pUFBA+OCDDz54WEClQK1fKVBgQM6QmLczZGRA+OCDDz54aEAhMW9nSIxsQKVArV8pUHBAuuiiiy5ackDOkJi3M2R0QOM4juM4bnZA+OCDDz54eEAMiXk7Q4J6QCExb2dIjHxANdlkk02WfkClQK1fKVCAQK8UqPUrVYFAuuiiiy5agkDEvJ0hMV+DQM6QmLczZIRA2WSTTTZphUDjOI7jOG6GQO0MiXk7c4dA+OCDDz54iEACtX6lQH2JQAyJeTtDgopAFl100UWHi0AhMW9nSIyMQCsFav1KkY1ANdlkk02WjkBArV8pUJuPQKVArV8pUJBAqqqqqqrSkECvFKj1K1WRQLR+pUCt15FAuuiiiy5akkC\\u002fUqDWr9ySQMS8nSExX5NAySabbLLhk0DOkJi3M2SUQNP6lQK15pRA2WSTTTZplUDezpCYt+uVQOM4juM4bpZA6KKLLrrwlkDtDIl5O3OXQPJ2hsS89ZdA+OCDDz54mED9SoFav\\u002fqYQAK1fqVAfZlABx988MH\\u002fmUAMiXk7Q4KaQBHzdobEBJtAFl100UWHm0Acx3EcxwmcQCExb2dIjJxAJptssskOnUArBWr9SpGdQDBvZ0jME55ANdlkk02WnkA7Q2LezhifQECtXylQm59AoosuuugOoEClQK1fKVCgQKj1KwVqkaBAqqqqqqrSoECtXylQ6xOhQK8UqPUrVaFAsskmm2yWoUC0fqVArdehQLczJObtGKJAuuiiiy5aokC8nSExb5uiQL9SoNav3KJAwQcffPAdo0DEvJ0hMV+jQMdxHMdxoKNAySabbLLho0DM2xkS8yKkQM6QmLczZKRA0UUXXXSlpEDT+pUCteakQNavFKj1J6VA2WSTTTZppUDbGRLzdqqlQN7OkJi366VA4IMPPvgspkDjOI7jOG6mQOXtDIl5r6ZA6KKLLrrwpkDrVwrU+jGnQO0MiXk7c6dA8MEHH3y0p0DydobEvPWnQPUrBWr9NqhA+OCDDz54qED6lQK1frmoQP1KgVq\\u002f+qhAAAAAAAA8qUA=\"},\"xaxis\":\"x\",\"y\":{\"dtype\":\"f8\",\"bdata\":\"KD9HE0+Rc8DEPfC8QrpwwMJ4Ms1sxmvA+nWEIFQYZsAzc9ZzO2pgwNjgUI5FeFXAkLbpaSg4RMBApHJG0gEUQKhfhvucOElAZDUf13\\u002f4V0B4nT2YWKphQECg60RxWGdACKOZ8YkGbUDm0iNPUVpxQErUeqVdMXRArtXR+2kId0AS1yhSdt95QHTYf6iCtnxA2tnW\\u002fo6Nf0Ce7ZaqTTKBQFBuwtXTnYJAAu\\u002ftAFoJhEC0bxks4HSFQGbwRFdm4IZAGHFwguxLiEDK8ZutcreJQHpyx9j4IotALPPyA3+OjEDecx4vBfqNQJD0SVqLZY9Aobq6wohokED6elDYSx6RQFM75u0O1JFArPt7A9KJkkAEvBEZlT+TQF18py5Y9ZNAtzw9RBurlEAQ\\u002fdJZ3mCVQGi9aG+hFpZAwX3+hGTMlkAaPpSaJ4KXQHL+KbDqN5hAzL6\\u002fxa3tmEAlf1XbcKOZQH4\\u002f6\\u002fAzWZpA1v+ABvcOm0AwwBYcusSbQIiArDF9epxA4kBCR0AwnUA6AdhcA+adQJTBbXLGm55A7IEDiIlRn0AiocxOpgOgQE+Bl9mHXqBAe2FiZGm5oECoQS3vShShQNQh+Hksb6FAAQLDBA7KoUAt4o2P7ySiQFnCWBrRf6JAhqIjpbLaokCzgu4vlDWjQN9iubp1kKNAC0OERVfro0A4I0\\u002fQOEakQGUDGlsaoaRAkePk5fv7pEC+w69w3ValQOmjevu+saVAFoRFhqAMpkBCZBARgmemQG9E25tjwqZAnCSmJkUdp0DIBHGxJninQPXkOzwI06dAIMUGx+ktqEBNpdFRy4ioQHqFnNys46hApmVnZ44+qUDTRTLyb5mpQP8l\\u002fXxR9KlALAbIBzNPqkBX5pKSFKqqQITGXR32BKtAsaYoqNdfq0DdhvMyubqrQApnvr2aFaxANkeJSHxwrEBjJ1TTXcusQI4HH14\\u002fJq1Au+fp6CCBrUDpx7RzAtytQBWof\\u002f7jNq5AQYhKicWRrkBtaBUUp+yuQJlI4J6IR69AxyirKWqir0DzCHa0S\\u002f2vQJB0oJ8WLLBApuQFZYdZsEA=\"},\"yaxis\":\"y\",\"type\":\"scatter\"}],                        {\"template\":{\"data\":{\"barpolar\":[{\"marker\":{\"line\":{\"color\":\"white\",\"width\":0.5},\"pattern\":{\"fillmode\":\"overlay\",\"size\":10,\"solidity\":0.2}},\"type\":\"barpolar\"}],\"bar\":[{\"error_x\":{\"color\":\"rgb(36,36,36)\"},\"error_y\":{\"color\":\"rgb(36,36,36)\"},\"marker\":{\"line\":{\"color\":\"white\",\"width\":0.5},\"pattern\":{\"fillmode\":\"overlay\",\"size\":10,\"solidity\":0.2}},\"type\":\"bar\"}],\"carpet\":[{\"aaxis\":{\"endlinecolor\":\"rgb(36,36,36)\",\"gridcolor\":\"white\",\"linecolor\":\"white\",\"minorgridcolor\":\"white\",\"startlinecolor\":\"rgb(36,36,36)\"},\"baxis\":{\"endlinecolor\":\"rgb(36,36,36)\",\"gridcolor\":\"white\",\"linecolor\":\"white\",\"minorgridcolor\":\"white\",\"startlinecolor\":\"rgb(36,36,36)\"},\"type\":\"carpet\"}],\"choropleth\":[{\"colorbar\":{\"outlinewidth\":1,\"tickcolor\":\"rgb(36,36,36)\",\"ticks\":\"outside\"},\"type\":\"choropleth\"}],\"contourcarpet\":[{\"colorbar\":{\"outlinewidth\":1,\"tickcolor\":\"rgb(36,36,36)\",\"ticks\":\"outside\"},\"type\":\"contourcarpet\"}],\"contour\":[{\"colorbar\":{\"outlinewidth\":1,\"tickcolor\":\"rgb(36,36,36)\",\"ticks\":\"outside\"},\"colorscale\":[[0.0,\"#440154\"],[0.1111111111111111,\"#482878\"],[0.2222222222222222,\"#3e4989\"],[0.3333333333333333,\"#31688e\"],[0.4444444444444444,\"#26828e\"],[0.5555555555555556,\"#1f9e89\"],[0.6666666666666666,\"#35b779\"],[0.7777777777777778,\"#6ece58\"],[0.8888888888888888,\"#b5de2b\"],[1.0,\"#fde725\"]],\"type\":\"contour\"}],\"heatmap\":[{\"colorbar\":{\"outlinewidth\":1,\"tickcolor\":\"rgb(36,36,36)\",\"ticks\":\"outside\"},\"colorscale\":[[0.0,\"#440154\"],[0.1111111111111111,\"#482878\"],[0.2222222222222222,\"#3e4989\"],[0.3333333333333333,\"#31688e\"],[0.4444444444444444,\"#26828e\"],[0.5555555555555556,\"#1f9e89\"],[0.6666666666666666,\"#35b779\"],[0.7777777777777778,\"#6ece58\"],[0.8888888888888888,\"#b5de2b\"],[1.0,\"#fde725\"]],\"type\":\"heatmap\"}],\"histogram2dcontour\":[{\"colorbar\":{\"outlinewidth\":1,\"tickcolor\":\"rgb(36,36,36)\",\"ticks\":\"outside\"},\"colorscale\":[[0.0,\"#440154\"],[0.1111111111111111,\"#482878\"],[0.2222222222222222,\"#3e4989\"],[0.3333333333333333,\"#31688e\"],[0.4444444444444444,\"#26828e\"],[0.5555555555555556,\"#1f9e89\"],[0.6666666666666666,\"#35b779\"],[0.7777777777777778,\"#6ece58\"],[0.8888888888888888,\"#b5de2b\"],[1.0,\"#fde725\"]],\"type\":\"histogram2dcontour\"}],\"histogram2d\":[{\"colorbar\":{\"outlinewidth\":1,\"tickcolor\":\"rgb(36,36,36)\",\"ticks\":\"outside\"},\"colorscale\":[[0.0,\"#440154\"],[0.1111111111111111,\"#482878\"],[0.2222222222222222,\"#3e4989\"],[0.3333333333333333,\"#31688e\"],[0.4444444444444444,\"#26828e\"],[0.5555555555555556,\"#1f9e89\"],[0.6666666666666666,\"#35b779\"],[0.7777777777777778,\"#6ece58\"],[0.8888888888888888,\"#b5de2b\"],[1.0,\"#fde725\"]],\"type\":\"histogram2d\"}],\"histogram\":[{\"marker\":{\"line\":{\"color\":\"white\",\"width\":0.6}},\"type\":\"histogram\"}],\"mesh3d\":[{\"colorbar\":{\"outlinewidth\":1,\"tickcolor\":\"rgb(36,36,36)\",\"ticks\":\"outside\"},\"type\":\"mesh3d\"}],\"parcoords\":[{\"line\":{\"colorbar\":{\"outlinewidth\":1,\"tickcolor\":\"rgb(36,36,36)\",\"ticks\":\"outside\"}},\"type\":\"parcoords\"}],\"pie\":[{\"automargin\":true,\"type\":\"pie\"}],\"scatter3d\":[{\"line\":{\"colorbar\":{\"outlinewidth\":1,\"tickcolor\":\"rgb(36,36,36)\",\"ticks\":\"outside\"}},\"marker\":{\"colorbar\":{\"outlinewidth\":1,\"tickcolor\":\"rgb(36,36,36)\",\"ticks\":\"outside\"}},\"type\":\"scatter3d\"}],\"scattercarpet\":[{\"marker\":{\"colorbar\":{\"outlinewidth\":1,\"tickcolor\":\"rgb(36,36,36)\",\"ticks\":\"outside\"}},\"type\":\"scattercarpet\"}],\"scattergeo\":[{\"marker\":{\"colorbar\":{\"outlinewidth\":1,\"tickcolor\":\"rgb(36,36,36)\",\"ticks\":\"outside\"}},\"type\":\"scattergeo\"}],\"scattergl\":[{\"marker\":{\"colorbar\":{\"outlinewidth\":1,\"tickcolor\":\"rgb(36,36,36)\",\"ticks\":\"outside\"}},\"type\":\"scattergl\"}],\"scattermapbox\":[{\"marker\":{\"colorbar\":{\"outlinewidth\":1,\"tickcolor\":\"rgb(36,36,36)\",\"ticks\":\"outside\"}},\"type\":\"scattermapbox\"}],\"scattermap\":[{\"marker\":{\"colorbar\":{\"outlinewidth\":1,\"tickcolor\":\"rgb(36,36,36)\",\"ticks\":\"outside\"}},\"type\":\"scattermap\"}],\"scatterpolargl\":[{\"marker\":{\"colorbar\":{\"outlinewidth\":1,\"tickcolor\":\"rgb(36,36,36)\",\"ticks\":\"outside\"}},\"type\":\"scatterpolargl\"}],\"scatterpolar\":[{\"marker\":{\"colorbar\":{\"outlinewidth\":1,\"tickcolor\":\"rgb(36,36,36)\",\"ticks\":\"outside\"}},\"type\":\"scatterpolar\"}],\"scatter\":[{\"fillpattern\":{\"fillmode\":\"overlay\",\"size\":10,\"solidity\":0.2},\"type\":\"scatter\"}],\"scatterternary\":[{\"marker\":{\"colorbar\":{\"outlinewidth\":1,\"tickcolor\":\"rgb(36,36,36)\",\"ticks\":\"outside\"}},\"type\":\"scatterternary\"}],\"surface\":[{\"colorbar\":{\"outlinewidth\":1,\"tickcolor\":\"rgb(36,36,36)\",\"ticks\":\"outside\"},\"colorscale\":[[0.0,\"#440154\"],[0.1111111111111111,\"#482878\"],[0.2222222222222222,\"#3e4989\"],[0.3333333333333333,\"#31688e\"],[0.4444444444444444,\"#26828e\"],[0.5555555555555556,\"#1f9e89\"],[0.6666666666666666,\"#35b779\"],[0.7777777777777778,\"#6ece58\"],[0.8888888888888888,\"#b5de2b\"],[1.0,\"#fde725\"]],\"type\":\"surface\"}],\"table\":[{\"cells\":{\"fill\":{\"color\":\"rgb(237,237,237)\"},\"line\":{\"color\":\"white\"}},\"header\":{\"fill\":{\"color\":\"rgb(217,217,217)\"},\"line\":{\"color\":\"white\"}},\"type\":\"table\"}]},\"layout\":{\"annotationdefaults\":{\"arrowhead\":0,\"arrowwidth\":1},\"autotypenumbers\":\"strict\",\"coloraxis\":{\"colorbar\":{\"outlinewidth\":1,\"tickcolor\":\"rgb(36,36,36)\",\"ticks\":\"outside\"}},\"colorscale\":{\"diverging\":[[0.0,\"rgb(103,0,31)\"],[0.1,\"rgb(178,24,43)\"],[0.2,\"rgb(214,96,77)\"],[0.3,\"rgb(244,165,130)\"],[0.4,\"rgb(253,219,199)\"],[0.5,\"rgb(247,247,247)\"],[0.6,\"rgb(209,229,240)\"],[0.7,\"rgb(146,197,222)\"],[0.8,\"rgb(67,147,195)\"],[0.9,\"rgb(33,102,172)\"],[1.0,\"rgb(5,48,97)\"]],\"sequential\":[[0.0,\"#440154\"],[0.1111111111111111,\"#482878\"],[0.2222222222222222,\"#3e4989\"],[0.3333333333333333,\"#31688e\"],[0.4444444444444444,\"#26828e\"],[0.5555555555555556,\"#1f9e89\"],[0.6666666666666666,\"#35b779\"],[0.7777777777777778,\"#6ece58\"],[0.8888888888888888,\"#b5de2b\"],[1.0,\"#fde725\"]],\"sequentialminus\":[[0.0,\"#440154\"],[0.1111111111111111,\"#482878\"],[0.2222222222222222,\"#3e4989\"],[0.3333333333333333,\"#31688e\"],[0.4444444444444444,\"#26828e\"],[0.5555555555555556,\"#1f9e89\"],[0.6666666666666666,\"#35b779\"],[0.7777777777777778,\"#6ece58\"],[0.8888888888888888,\"#b5de2b\"],[1.0,\"#fde725\"]]},\"colorway\":[\"#91268F\",\"#8CC63E\",\"#00A7A0\",\"#F05A28\",\"#4C4C4C\",\"#630460\",\"#9f3913\",\"#588527\",\"#00716c\",\"#3e4040\"],\"font\":{\"color\":\"rgb(36,36,36)\",\"family\":\"Poppins\",\"size\":11},\"geo\":{\"bgcolor\":\"white\",\"lakecolor\":\"white\",\"landcolor\":\"white\",\"showlakes\":true,\"showland\":true,\"subunitcolor\":\"white\"},\"hoverlabel\":{\"align\":\"left\"},\"hovermode\":\"closest\",\"mapbox\":{\"style\":\"light\"},\"paper_bgcolor\":\"white\",\"plot_bgcolor\":\"white\",\"polar\":{\"angularaxis\":{\"gridcolor\":\"rgb(232,232,232)\",\"linecolor\":\"rgb(36,36,36)\",\"showgrid\":false,\"showline\":true,\"ticks\":\"outside\"},\"bgcolor\":\"white\",\"radialaxis\":{\"gridcolor\":\"rgb(232,232,232)\",\"linecolor\":\"rgb(36,36,36)\",\"showgrid\":false,\"showline\":true,\"ticks\":\"outside\"}},\"scene\":{\"xaxis\":{\"backgroundcolor\":\"white\",\"gridcolor\":\"rgb(232,232,232)\",\"gridwidth\":2,\"linecolor\":\"rgb(36,36,36)\",\"showbackground\":true,\"showgrid\":false,\"showline\":true,\"ticks\":\"outside\",\"zeroline\":false,\"zerolinecolor\":\"rgb(36,36,36)\"},\"yaxis\":{\"backgroundcolor\":\"white\",\"gridcolor\":\"rgb(232,232,232)\",\"gridwidth\":2,\"linecolor\":\"rgb(36,36,36)\",\"showbackground\":true,\"showgrid\":false,\"showline\":true,\"ticks\":\"outside\",\"zeroline\":false,\"zerolinecolor\":\"rgb(36,36,36)\"},\"zaxis\":{\"backgroundcolor\":\"white\",\"gridcolor\":\"rgb(232,232,232)\",\"gridwidth\":2,\"linecolor\":\"rgb(36,36,36)\",\"showbackground\":true,\"showgrid\":false,\"showline\":true,\"ticks\":\"outside\",\"zeroline\":false,\"zerolinecolor\":\"rgb(36,36,36)\"}},\"shapedefaults\":{\"fillcolor\":\"black\",\"line\":{\"width\":0},\"opacity\":0.3},\"ternary\":{\"aaxis\":{\"gridcolor\":\"rgb(232,232,232)\",\"linecolor\":\"rgb(36,36,36)\",\"showgrid\":false,\"showline\":true,\"ticks\":\"outside\"},\"baxis\":{\"gridcolor\":\"rgb(232,232,232)\",\"linecolor\":\"rgb(36,36,36)\",\"showgrid\":false,\"showline\":true,\"ticks\":\"outside\"},\"bgcolor\":\"white\",\"caxis\":{\"gridcolor\":\"rgb(232,232,232)\",\"linecolor\":\"rgb(36,36,36)\",\"showgrid\":false,\"showline\":true,\"ticks\":\"outside\"}},\"title\":{\"x\":0.05},\"xaxis\":{\"automargin\":true,\"gridcolor\":\"rgb(232,232,232)\",\"linecolor\":\"rgb(36,36,36)\",\"showgrid\":false,\"showline\":true,\"ticks\":\"outside\",\"title\":{\"standoff\":15},\"zeroline\":false,\"zerolinecolor\":\"rgb(36,36,36)\"},\"yaxis\":{\"automargin\":true,\"gridcolor\":\"rgb(232,232,232)\",\"linecolor\":\"rgb(36,36,36)\",\"showgrid\":false,\"showline\":true,\"ticks\":\"outside\",\"title\":{\"standoff\":15},\"zeroline\":false,\"zerolinecolor\":\"rgb(36,36,36)\"}}},\"xaxis\":{\"anchor\":\"y\",\"domain\":[0.0,1.0],\"title\":{\"text\":\"Observed\"}},\"yaxis\":{\"anchor\":\"x\",\"domain\":[0.0,1.0],\"title\":{\"text\":\"Model\"}},\"legend\":{\"tracegroupgap\":0},\"title\":{\"text\":\"Medium Trucks: Kitsap\"},\"margin\":{\"l\":100,\"r\":100,\"t\":100,\"b\":100},\"height\":600,\"width\":800,\"shapes\":[{\"line\":{\"color\":\"Red\",\"dash\":\"dash\",\"width\":2},\"type\":\"line\",\"x0\":0,\"x1\":4112,\"y0\":0,\"y1\":4112}],\"annotations\":[{\"align\":\"right\",\"font\":{\"color\":\"pink\",\"size\":12},\"showarrow\":false,\"text\":\"y = x\",\"x\":4317.6,\"y\":4317.6},{\"align\":\"right\",\"font\":{\"color\":\"black\",\"size\":12},\"showarrow\":false,\"text\":\"r^2 = 0.78\",\"x\":3391.5,\"y\":4394.805329500903}]},                        {\"responsive\": true}                    ).then(function(){\n",
       "                            \n",
       "var gd = document.getElementById('c1021984-e24f-4ca7-9c02-5cde4fbaacfe');\n",
       "var x = new MutationObserver(function (mutations, observer) {{\n",
       "        var display = window.getComputedStyle(gd).display;\n",
       "        if (!display || display === 'none') {{\n",
       "            console.log([gd, 'removed!']);\n",
       "            Plotly.purge(gd);\n",
       "            observer.disconnect();\n",
       "        }}\n",
       "}});\n",
       "\n",
       "// Listen for the removal of the full notebook cells\n",
       "var notebookContainer = gd.closest('#notebook-container');\n",
       "if (notebookContainer) {{\n",
       "    x.observe(notebookContainer, {childList: true});\n",
       "}}\n",
       "\n",
       "// Listen for the clearing of the current output cell\n",
       "var outputEl = gd.closest('.output');\n",
       "if (outputEl) {{\n",
       "    x.observe(outputEl, {childList: true});\n",
       "}}\n",
       "\n",
       "                        })                };            </script>        </div>"
      ]
     },
     "metadata": {},
     "output_type": "display_data"
    }
   ],
   "source": [
    "fig = create_truck_chart(df_daily_med, 'Medium', 'Kitsap')\n",
    "fig.show()"
   ]
  },
  {
   "cell_type": "raw",
   "id": "7c56e60a",
   "metadata": {},
   "source": [
    "#### Pierce"
   ]
  },
  {
   "cell_type": "code",
   "execution_count": 32,
   "id": "70397228",
   "metadata": {
    "execution": {
     "iopub.execute_input": "2025-05-01T14:38:17.912920Z",
     "iopub.status.busy": "2025-05-01T14:38:17.911923Z",
     "iopub.status.idle": "2025-05-01T14:38:18.033238Z",
     "shell.execute_reply": "2025-05-01T14:38:18.032242Z"
    }
   },
   "outputs": [
    {
     "data": {
      "application/vnd.plotly.v1+json": {
       "config": {
        "plotlyServerURL": "https://plot.ly"
       },
       "data": [
        {
         "customdata": [
          [
           "I-5 S/O Mounts NB",
           "Pierce"
          ],
          [
           "I-5 S/O Mounts SB",
           "Pierce"
          ],
          [
           "I-5 S/O Division NB",
           "Pierce"
          ],
          [
           "I-5 S/O Division SB",
           "Pierce"
          ],
          [
           "I-5 @ N/O Division NB",
           "Pierce"
          ],
          [
           "I-5 @ N/O Division SB",
           "Pierce"
          ],
          [
           "I-5 S/O SR-512 NB",
           "Pierce"
          ],
          [
           "I-5 S/O SR-512 SB",
           "Pierce"
          ],
          [
           "I-5 N/O SR-512 NB",
           "Pierce"
          ],
          [
           "I-5 N/O SR-512 SB",
           "Pierce"
          ],
          [
           "I-5 N/O 56th NB",
           "Pierce"
          ],
          [
           "I-5 N/O 56th SB",
           "Pierce"
          ],
          [
           "I-5 E/O SR-16 NB",
           "Pierce"
          ],
          [
           "I-5 E/O SR-16 SB",
           "Pierce"
          ],
          [
           "I-5 E/O Port of Tacoma NB",
           "Pierce"
          ],
          [
           "I-5 E/O Port of Tacoma SB (HOV from 56)",
           "Pierce"
          ],
          [
           "SR-512 W/O Meridian WB",
           "Pierce"
          ],
          [
           "SR-512 W/O Meridian EB",
           "Pierce"
          ],
          [
           "SR-167 W/O SR-410 NB/SB",
           "Pierce"
          ],
          [
           "SR-167 E/O SR-161 NB/SB",
           "Pierce"
          ],
          [
           "SR-410 E/O S Prairie WB/EB",
           "Pierce"
          ],
          [
           "SR-410 E/O Chinook WB/EB",
           "Pierce"
          ],
          [
           "SR-410 W/O SR-123 WB/EB",
           "Pierce"
          ],
          [
           "SR-410 E/O SR-123 WB/EB",
           "Pierce"
          ],
          [
           "SR-512 @ I-5 WB/EB",
           "Pierce"
          ],
          [
           "SR-512 W/O SR-7 WB/EB",
           "Pierce"
          ],
          [
           "SR-512 S/O SR-167 WB/EB",
           "Pierce"
          ],
          [
           "SR-509 E/O I-705 NB/SB",
           "Pierce"
          ],
          [
           "SR-509 W/O Alexander NB/SB",
           "Pierce"
          ],
          [
           "SR-509 S/O 11th NB/SB",
           "Pierce"
          ],
          [
           "SR-509 N/O Hyada NB/SB",
           "Pierce"
          ],
          [
           "SR-509 E/O Soundview NB/SB",
           "Pierce"
          ],
          [
           "SR-99 @ I-5 NB/SB",
           "Pierce"
          ],
          [
           "SR-99 E/O 54th NB/SB",
           "Pierce"
          ],
          [
           "SR-99 S/O Porter NB/SB",
           "Pierce"
          ],
          [
           "SR-16 @ TNB NB/SB",
           "Pierce"
          ],
          [
           "SR-16 @ Purdy Dr NB/SB",
           "Pierce"
          ],
          [
           "SR-302 N/O 144th WB/EB",
           "Pierce"
          ],
          [
           "SR-302 S/O 144th WB/EB",
           "Pierce"
          ],
          [
           "SR-302 W/O Key Peninsula Hwy WB/EB",
           "Pierce"
          ],
          [
           "SR-302 W/O Wright-Bliss WB/EB (E/O?)",
           "Pierce"
          ],
          [
           "SR-161 E/O SR-7 NB/SB",
           "Pierce"
          ],
          [
           "SR-161 N/O Center NB/SB",
           "Pierce"
          ],
          [
           "SR-161 N/O Eatonville Cutoff NB/SB",
           "Pierce"
          ],
          [
           "SR-161 N/O 304th NB/SB",
           "Pierce"
          ],
          [
           "SR-161 N/O 264th NB/SB",
           "Pierce"
          ],
          [
           "SR-161 S/O 224th NB/SB",
           "Pierce"
          ],
          [
           "SR-161 N/O 224th NB/SB",
           "Pierce"
          ],
          [
           "SR-161 N/O 204th NB/SB",
           "Pierce"
          ],
          [
           "SR-161 S/O SR-167 SB off-ramp NB/SB",
           "Pierce"
          ],
          [
           "SR-161 S/O Valley NB/SB",
           "Pierce"
          ],
          [
           "SR-161 N/O Valley NB/SB",
           "Pierce"
          ],
          [
           "SR-161 N/O 8th NB/SB",
           "Pierce"
          ],
          [
           "SR-7 @ Thurston County NB/SB",
           "Pierce"
          ],
          [
           "SR-7 W/O Alder Cutoff NB/SB",
           "Pierce"
          ],
          [
           "SR-7 N/O Eatonville Hwy NB/SB",
           "Pierce"
          ],
          [
           "SR-7 N/O Silver Lake NB/SB",
           "Pierce"
          ],
          [
           "SR-7 S/O SR-702 NB/SB",
           "Pierce"
          ],
          [
           "SR-7 N/O 304th NB/SB",
           "Pierce"
          ],
          [
           "SR-7 N/O 260th NB/SB",
           "Pierce"
          ],
          [
           "SR-7 S/O 224th NB/SB",
           "Pierce"
          ],
          [
           "SR-7 N/O 224th NB/SB",
           "Pierce"
          ],
          [
           "SR-7 N/O 38th NB/SB",
           "Pierce"
          ],
          [
           "SR-162 @ SR-410 WB/EB",
           "Pierce"
          ],
          [
           "SR-162 S/O Pioneer WB/EB",
           "Pierce"
          ],
          [
           "SR-162 E/O Orville WB/EB",
           "Pierce"
          ],
          [
           "SR-162 E/O S Prairie WB/EB",
           "Pierce"
          ],
          [
           "SR-162 N/O SR-165 WB/EB",
           "Pierce"
          ],
          [
           "SR-163 @ SR-16 NB/SB",
           "Pierce"
          ],
          [
           "SR-163 N/O 37th NB/SB",
           "Pierce"
          ],
          [
           "SR-163 N/O Park NB/SB",
           "Pierce"
          ],
          [
           "SR-507 S/O SR-7 NB/SB",
           "Pierce"
          ],
          [
           "SR-507 S/O E Gate NB/SB",
           "Pierce"
          ],
          [
           "SR-507 S/O 288th NB/SB",
           "Pierce"
          ],
          [
           "SR-507 N/O 346th NB/SB",
           "Pierce"
          ],
          [
           "SR-702 E/O SR-507 WB/EB",
           "Pierce"
          ],
          [
           "SR-702 E/O Harts Lake WB/EB",
           "Pierce"
          ],
          [
           "SR-702 E/O 40th WB/EB",
           "Pierce"
          ],
          [
           "SR-702 W/O 8th WB/EB",
           "Pierce"
          ],
          [
           "SR-702 E/O 8th WB/EB",
           "Pierce"
          ],
          [
           "SR-165 W/O SR-162 NB/SB",
           "Pierce"
          ],
          [
           "SR-165 N/O Davis NB/SB",
           "Pierce"
          ],
          [
           "SR-165 N/O Wilkeson-Carbonado NB/SB",
           "Pierce"
          ],
          [
           "SR-704 E/O Spanaway Loop WB/EB",
           "Pierce"
          ],
          [
           "SR-706 E/O SR-7 WB/EB",
           "Pierce"
          ],
          [
           "SR-706 E/O Kernahan WB/EB",
           "Pierce"
          ]
         ],
         "hovertemplate": "Observed=%{x}<br>Model=%{y}<br>location=%{customdata[0]}<br>County=%{customdata[1]}<extra></extra>",
         "legendgroup": "",
         "line": {
          "color": "Grey",
          "width": 2
         },
         "marker": {
          "color": "#91268F",
          "symbol": "circle"
         },
         "mode": "markers",
         "name": "",
         "orientation": "v",
         "showlegend": false,
         "type": "scatter",
         "x": {
          "bdata": "XglQCcQJHQobCeMIMArDCZIS1RIJFjYW5AYDDzYK3gz4B/gHwxW9Cu4ESgAwAB0AEwv+DNAPDAQGCasAOwA+APwEQAZ+BD0MWgiqAWcD4wCdABgAyAE5AVICVgL4AWADwAToAzoH0AIgA/EAagDBAOQAawGyAoEDRgVaA3oBgAKcA2oCYgEjAqQBFAGhAPAEzgEVAmMCDAKMAYUBfgFCAYYB0wB4ANAClgBLAA==",
          "dtype": "i2"
         },
         "xaxis": "x",
         "y": {
          "bdata": "AAAAAPAC+QLrAvICaQQgBO4HaQkBDcINSgfNFqYYlxjaCLUIQxuEDJwEAAAAAAAArQwgDRMUQQa4BW8AGwAbAAgFLQQiBfsZdQ85AUEBiwArAAQAHQDBAFgBVQEFAhwCxwP8BMcHVgJ/BAAAEAAXAB8AOgDnABYBOwGOAbkAJgL8AvkAhQDxAH0DUgHGAAwBmwAwADMACgAKAGkAaQBJAKQATAAjAPgCAAAAAA==",
          "dtype": "i2"
         },
         "yaxis": "y"
        },
        {
         "hovertemplate": "Observed=%{x}<br>Model=%{y}<extra></extra>",
         "legendgroup": "",
         "line": {
          "color": "Grey",
          "dash": "solid",
          "width": 2
         },
         "marker": {
          "symbol": "circle"
         },
         "mode": "lines",
         "name": "",
         "orientation": "v",
         "showlegend": false,
         "type": "scatter",
         "x": {
          "bdata": "AAAAAAAAAABi3s6QmLdMQGLezpCYt1xAyiabbLKJZUBi3s6QmLdsQP1KgVq/8nFAyiabbLKJdUCWArV+pSB5QGLezpCYt3xAF1100UUngED9SoFav/KBQOM4juM4voNAyiabbLKJhUCwFKj1K1WHQJYCtX6lIIlAfPDBBx/sikBi3s6QmLeMQEjM2xkSg45AF1100UUnkEAK1PqVAg2RQP1KgVq/8pFA8MEHH3zYkkDjOI7jOL6TQNavFKj1o5RAyiabbLKJlUC9nSExb2+WQLAUqPUrVZdAo4suuug6mECWArV+pSCZQIl5O0NiBppAfPDBBx/smkBvZ0jM29GbQGLezpCYt5xAVVVVVVWdnUBIzNsZEoOeQDtDYt7OaJ9AF1100UUnoECRmLczJJqgQArU+pUCDaFAhA8++OB/oUD9SoFav/KhQHeGxLydZaJA8MEHH3zYokBq/UqBWkujQOM4juM4vqNAXXTRRRcxpEDWrxSo9aOkQFDrVwrUFqVAyiabbLKJpUBDYt7OkPylQL2dITFvb6ZANtlkk03ipkCwFKj1K1WnQClQ61cKyKdAo4suuug6qEAcx3Ecx62oQJYCtX6lIKlADz744IOTqUCJeTtDYgaqQAK1fqVAeapAfPDBBx/sqkD1KwVq/V6rQG9nSMzb0atA6KKLLrpErEBi3s6QmLesQNwZEvN2Kq1AVVVVVVWdrUDPkJi3MxCuQEjM2xkSg65AwgcffPD1rkA7Q2LezmivQLV+pUCt269AF1100UUnsEDU+pUCtWCwQJGYtzMkmrBATTbZZJPTsEAK1PqVAg2xQMdxHMdxRrFAhA8++OB/sUBArV8pULmxQP1KgVq/8rFAuuiiiy4sskB3hsS8nWWyQDQk5u0Mn7JA8MEHH3zYskCtXylQ6xGzQGr9SoFaS7NAJ5tsssmEs0DjOI7jOL6zQKDWrxSo97NAXXTRRRcxtEAaEvN2hmq0QNavFKj1o7RAk0022WTdtEBQ61cK1Ba1QA2JeTtDULVAyiabbLKJtUCGxLydIcO1QENi3s6Q/LVAAAAAAAA2tkA=",
          "dtype": "f8"
         },
         "xaxis": "x",
         "y": {
          "bdata": "AH0AKYqIW8ABMfZnynRMwCCAtt4HiA3A/GAfbMnDSED+FBWrCbBZQL48DVAXf2NA/u6PyikmakCfUIkinmZwQL+pyl8nunNA3gIMnbANd0D+W03aOWF6QB61jhfDtH1AHwdoKiaEgECvswjJ6i2CQD9gqWev14NAzwxKBnSBhUBfueqkOCuHQO5li0P91IhAfhIs4sF+ikAOv8yAhiiMQJ5rbR9L0o1ALhgOvg98j0BfYlcu6pKQQKe4p33MZ5FA7w74zK48kkA3ZUgckRGTQH+7mGtz5pNAxxHpulW7lEAPaDkKOJCVQFe+iVkaZZZAnxTaqPw5l0Dnair43g6YQC/BekfB45hAdxfLlqO4mUC+bRvmhY2aQAbEazVoYptAThq8hEo3nECXcAzULAydQN7GXCMP4Z1AJh2tcvG1nkBuc/3B04qfQNvkpgjbL6BA/w9PMEyaoEAjO/dXvQShQEdmn38ub6FAa5FHp5/ZoUCPvO/OEESiQLPnl/aBrqJA1xJAHvMYo0D7PehFZIOjQB9pkG3V7aNAQ5Q4lUZYpEBnv+C8t8KkQIvqiOQoLaVArxUxDJqXpUDTQNkzCwKmQPdrgVt8bKZAG5cpg+3WpkA/wtGqXkGnQGLtedLPq6dAhxgi+kAWqECqQ8ohsoCoQM9uckkj66hA8pkacZRVqUAXxcKYBcCpQDvwasB2KqpAXxsT6OeUqkCDRrsPWf+qQKZxYzfKaatAy5wLXzvUq0Dux7OGrD6sQBPzW64dqaxANh4E1o4TrUBbSaz9/32tQH90VCVx6K1Aop/8TOJSrkDGyqR0U72uQOr1TJzEJ69ADiH1wzWSr0AyTJ3rpvyvQKu7ogmMM7BAPdF2ncRosEDP5kox/Z2wQGL8HsU107BA8xHzWG4IsUCFJ8fspj2xQBc9m4DfcrFAqVJvFBiosUA7aEOoUN2xQM19FzyJErJAX5Prz8FHskDxqL9j+nyyQIO+k/cysrJAFdRni2vnskCn6TsfpByzQDn/D7PcUbNAyxTkRhWHs0BdKrjaTbyzQO8/jG6G8bNAgVVgAr8mtEA=",
          "dtype": "f8"
         },
         "yaxis": "y"
        }
       ],
       "layout": {
        "annotations": [
         {
          "align": "right",
          "font": {
           "color": "pink",
           "size": 12
          },
          "showarrow": false,
          "text": "y = x",
          "x": 7327.950000000001,
          "y": 7327.950000000001
         },
         {
          "align": "right",
          "font": {
           "color": "black",
           "size": 12
          },
          "showarrow": false,
          "text": "r^2 = 0.60",
          "x": 5970.3,
          "y": 5416.6834365100085
         }
        ],
        "height": 600,
        "legend": {
         "tracegroupgap": 0
        },
        "margin": {
         "b": 100,
         "l": 100,
         "r": 100,
         "t": 100
        },
        "shapes": [
         {
          "line": {
           "color": "Red",
           "dash": "dash",
           "width": 2
          },
          "type": "line",
          "x0": 0,
          "x1": 6979,
          "y0": 0,
          "y1": 6979
         }
        ],
        "template": {
         "data": {
          "bar": [
           {
            "error_x": {
             "color": "rgb(36,36,36)"
            },
            "error_y": {
             "color": "rgb(36,36,36)"
            },
            "marker": {
             "line": {
              "color": "white",
              "width": 0.5
             },
             "pattern": {
              "fillmode": "overlay",
              "size": 10,
              "solidity": 0.2
             }
            },
            "type": "bar"
           }
          ],
          "barpolar": [
           {
            "marker": {
             "line": {
              "color": "white",
              "width": 0.5
             },
             "pattern": {
              "fillmode": "overlay",
              "size": 10,
              "solidity": 0.2
             }
            },
            "type": "barpolar"
           }
          ],
          "carpet": [
           {
            "aaxis": {
             "endlinecolor": "rgb(36,36,36)",
             "gridcolor": "white",
             "linecolor": "white",
             "minorgridcolor": "white",
             "startlinecolor": "rgb(36,36,36)"
            },
            "baxis": {
             "endlinecolor": "rgb(36,36,36)",
             "gridcolor": "white",
             "linecolor": "white",
             "minorgridcolor": "white",
             "startlinecolor": "rgb(36,36,36)"
            },
            "type": "carpet"
           }
          ],
          "choropleth": [
           {
            "colorbar": {
             "outlinewidth": 1,
             "tickcolor": "rgb(36,36,36)",
             "ticks": "outside"
            },
            "type": "choropleth"
           }
          ],
          "contour": [
           {
            "colorbar": {
             "outlinewidth": 1,
             "tickcolor": "rgb(36,36,36)",
             "ticks": "outside"
            },
            "colorscale": [
             [
              0.0,
              "#440154"
             ],
             [
              0.1111111111111111,
              "#482878"
             ],
             [
              0.2222222222222222,
              "#3e4989"
             ],
             [
              0.3333333333333333,
              "#31688e"
             ],
             [
              0.4444444444444444,
              "#26828e"
             ],
             [
              0.5555555555555556,
              "#1f9e89"
             ],
             [
              0.6666666666666666,
              "#35b779"
             ],
             [
              0.7777777777777778,
              "#6ece58"
             ],
             [
              0.8888888888888888,
              "#b5de2b"
             ],
             [
              1.0,
              "#fde725"
             ]
            ],
            "type": "contour"
           }
          ],
          "contourcarpet": [
           {
            "colorbar": {
             "outlinewidth": 1,
             "tickcolor": "rgb(36,36,36)",
             "ticks": "outside"
            },
            "type": "contourcarpet"
           }
          ],
          "heatmap": [
           {
            "colorbar": {
             "outlinewidth": 1,
             "tickcolor": "rgb(36,36,36)",
             "ticks": "outside"
            },
            "colorscale": [
             [
              0.0,
              "#440154"
             ],
             [
              0.1111111111111111,
              "#482878"
             ],
             [
              0.2222222222222222,
              "#3e4989"
             ],
             [
              0.3333333333333333,
              "#31688e"
             ],
             [
              0.4444444444444444,
              "#26828e"
             ],
             [
              0.5555555555555556,
              "#1f9e89"
             ],
             [
              0.6666666666666666,
              "#35b779"
             ],
             [
              0.7777777777777778,
              "#6ece58"
             ],
             [
              0.8888888888888888,
              "#b5de2b"
             ],
             [
              1.0,
              "#fde725"
             ]
            ],
            "type": "heatmap"
           }
          ],
          "histogram": [
           {
            "marker": {
             "line": {
              "color": "white",
              "width": 0.6
             }
            },
            "type": "histogram"
           }
          ],
          "histogram2d": [
           {
            "colorbar": {
             "outlinewidth": 1,
             "tickcolor": "rgb(36,36,36)",
             "ticks": "outside"
            },
            "colorscale": [
             [
              0.0,
              "#440154"
             ],
             [
              0.1111111111111111,
              "#482878"
             ],
             [
              0.2222222222222222,
              "#3e4989"
             ],
             [
              0.3333333333333333,
              "#31688e"
             ],
             [
              0.4444444444444444,
              "#26828e"
             ],
             [
              0.5555555555555556,
              "#1f9e89"
             ],
             [
              0.6666666666666666,
              "#35b779"
             ],
             [
              0.7777777777777778,
              "#6ece58"
             ],
             [
              0.8888888888888888,
              "#b5de2b"
             ],
             [
              1.0,
              "#fde725"
             ]
            ],
            "type": "histogram2d"
           }
          ],
          "histogram2dcontour": [
           {
            "colorbar": {
             "outlinewidth": 1,
             "tickcolor": "rgb(36,36,36)",
             "ticks": "outside"
            },
            "colorscale": [
             [
              0.0,
              "#440154"
             ],
             [
              0.1111111111111111,
              "#482878"
             ],
             [
              0.2222222222222222,
              "#3e4989"
             ],
             [
              0.3333333333333333,
              "#31688e"
             ],
             [
              0.4444444444444444,
              "#26828e"
             ],
             [
              0.5555555555555556,
              "#1f9e89"
             ],
             [
              0.6666666666666666,
              "#35b779"
             ],
             [
              0.7777777777777778,
              "#6ece58"
             ],
             [
              0.8888888888888888,
              "#b5de2b"
             ],
             [
              1.0,
              "#fde725"
             ]
            ],
            "type": "histogram2dcontour"
           }
          ],
          "mesh3d": [
           {
            "colorbar": {
             "outlinewidth": 1,
             "tickcolor": "rgb(36,36,36)",
             "ticks": "outside"
            },
            "type": "mesh3d"
           }
          ],
          "parcoords": [
           {
            "line": {
             "colorbar": {
              "outlinewidth": 1,
              "tickcolor": "rgb(36,36,36)",
              "ticks": "outside"
             }
            },
            "type": "parcoords"
           }
          ],
          "pie": [
           {
            "automargin": true,
            "type": "pie"
           }
          ],
          "scatter": [
           {
            "fillpattern": {
             "fillmode": "overlay",
             "size": 10,
             "solidity": 0.2
            },
            "type": "scatter"
           }
          ],
          "scatter3d": [
           {
            "line": {
             "colorbar": {
              "outlinewidth": 1,
              "tickcolor": "rgb(36,36,36)",
              "ticks": "outside"
             }
            },
            "marker": {
             "colorbar": {
              "outlinewidth": 1,
              "tickcolor": "rgb(36,36,36)",
              "ticks": "outside"
             }
            },
            "type": "scatter3d"
           }
          ],
          "scattercarpet": [
           {
            "marker": {
             "colorbar": {
              "outlinewidth": 1,
              "tickcolor": "rgb(36,36,36)",
              "ticks": "outside"
             }
            },
            "type": "scattercarpet"
           }
          ],
          "scattergeo": [
           {
            "marker": {
             "colorbar": {
              "outlinewidth": 1,
              "tickcolor": "rgb(36,36,36)",
              "ticks": "outside"
             }
            },
            "type": "scattergeo"
           }
          ],
          "scattergl": [
           {
            "marker": {
             "colorbar": {
              "outlinewidth": 1,
              "tickcolor": "rgb(36,36,36)",
              "ticks": "outside"
             }
            },
            "type": "scattergl"
           }
          ],
          "scattermap": [
           {
            "marker": {
             "colorbar": {
              "outlinewidth": 1,
              "tickcolor": "rgb(36,36,36)",
              "ticks": "outside"
             }
            },
            "type": "scattermap"
           }
          ],
          "scattermapbox": [
           {
            "marker": {
             "colorbar": {
              "outlinewidth": 1,
              "tickcolor": "rgb(36,36,36)",
              "ticks": "outside"
             }
            },
            "type": "scattermapbox"
           }
          ],
          "scatterpolar": [
           {
            "marker": {
             "colorbar": {
              "outlinewidth": 1,
              "tickcolor": "rgb(36,36,36)",
              "ticks": "outside"
             }
            },
            "type": "scatterpolar"
           }
          ],
          "scatterpolargl": [
           {
            "marker": {
             "colorbar": {
              "outlinewidth": 1,
              "tickcolor": "rgb(36,36,36)",
              "ticks": "outside"
             }
            },
            "type": "scatterpolargl"
           }
          ],
          "scatterternary": [
           {
            "marker": {
             "colorbar": {
              "outlinewidth": 1,
              "tickcolor": "rgb(36,36,36)",
              "ticks": "outside"
             }
            },
            "type": "scatterternary"
           }
          ],
          "surface": [
           {
            "colorbar": {
             "outlinewidth": 1,
             "tickcolor": "rgb(36,36,36)",
             "ticks": "outside"
            },
            "colorscale": [
             [
              0.0,
              "#440154"
             ],
             [
              0.1111111111111111,
              "#482878"
             ],
             [
              0.2222222222222222,
              "#3e4989"
             ],
             [
              0.3333333333333333,
              "#31688e"
             ],
             [
              0.4444444444444444,
              "#26828e"
             ],
             [
              0.5555555555555556,
              "#1f9e89"
             ],
             [
              0.6666666666666666,
              "#35b779"
             ],
             [
              0.7777777777777778,
              "#6ece58"
             ],
             [
              0.8888888888888888,
              "#b5de2b"
             ],
             [
              1.0,
              "#fde725"
             ]
            ],
            "type": "surface"
           }
          ],
          "table": [
           {
            "cells": {
             "fill": {
              "color": "rgb(237,237,237)"
             },
             "line": {
              "color": "white"
             }
            },
            "header": {
             "fill": {
              "color": "rgb(217,217,217)"
             },
             "line": {
              "color": "white"
             }
            },
            "type": "table"
           }
          ]
         },
         "layout": {
          "annotationdefaults": {
           "arrowhead": 0,
           "arrowwidth": 1
          },
          "autotypenumbers": "strict",
          "coloraxis": {
           "colorbar": {
            "outlinewidth": 1,
            "tickcolor": "rgb(36,36,36)",
            "ticks": "outside"
           }
          },
          "colorscale": {
           "diverging": [
            [
             0.0,
             "rgb(103,0,31)"
            ],
            [
             0.1,
             "rgb(178,24,43)"
            ],
            [
             0.2,
             "rgb(214,96,77)"
            ],
            [
             0.3,
             "rgb(244,165,130)"
            ],
            [
             0.4,
             "rgb(253,219,199)"
            ],
            [
             0.5,
             "rgb(247,247,247)"
            ],
            [
             0.6,
             "rgb(209,229,240)"
            ],
            [
             0.7,
             "rgb(146,197,222)"
            ],
            [
             0.8,
             "rgb(67,147,195)"
            ],
            [
             0.9,
             "rgb(33,102,172)"
            ],
            [
             1.0,
             "rgb(5,48,97)"
            ]
           ],
           "sequential": [
            [
             0.0,
             "#440154"
            ],
            [
             0.1111111111111111,
             "#482878"
            ],
            [
             0.2222222222222222,
             "#3e4989"
            ],
            [
             0.3333333333333333,
             "#31688e"
            ],
            [
             0.4444444444444444,
             "#26828e"
            ],
            [
             0.5555555555555556,
             "#1f9e89"
            ],
            [
             0.6666666666666666,
             "#35b779"
            ],
            [
             0.7777777777777778,
             "#6ece58"
            ],
            [
             0.8888888888888888,
             "#b5de2b"
            ],
            [
             1.0,
             "#fde725"
            ]
           ],
           "sequentialminus": [
            [
             0.0,
             "#440154"
            ],
            [
             0.1111111111111111,
             "#482878"
            ],
            [
             0.2222222222222222,
             "#3e4989"
            ],
            [
             0.3333333333333333,
             "#31688e"
            ],
            [
             0.4444444444444444,
             "#26828e"
            ],
            [
             0.5555555555555556,
             "#1f9e89"
            ],
            [
             0.6666666666666666,
             "#35b779"
            ],
            [
             0.7777777777777778,
             "#6ece58"
            ],
            [
             0.8888888888888888,
             "#b5de2b"
            ],
            [
             1.0,
             "#fde725"
            ]
           ]
          },
          "colorway": [
           "#91268F",
           "#8CC63E",
           "#00A7A0",
           "#F05A28",
           "#4C4C4C",
           "#630460",
           "#9f3913",
           "#588527",
           "#00716c",
           "#3e4040"
          ],
          "font": {
           "color": "rgb(36,36,36)",
           "family": "Poppins",
           "size": 11
          },
          "geo": {
           "bgcolor": "white",
           "lakecolor": "white",
           "landcolor": "white",
           "showlakes": true,
           "showland": true,
           "subunitcolor": "white"
          },
          "hoverlabel": {
           "align": "left"
          },
          "hovermode": "closest",
          "mapbox": {
           "style": "light"
          },
          "paper_bgcolor": "white",
          "plot_bgcolor": "white",
          "polar": {
           "angularaxis": {
            "gridcolor": "rgb(232,232,232)",
            "linecolor": "rgb(36,36,36)",
            "showgrid": false,
            "showline": true,
            "ticks": "outside"
           },
           "bgcolor": "white",
           "radialaxis": {
            "gridcolor": "rgb(232,232,232)",
            "linecolor": "rgb(36,36,36)",
            "showgrid": false,
            "showline": true,
            "ticks": "outside"
           }
          },
          "scene": {
           "xaxis": {
            "backgroundcolor": "white",
            "gridcolor": "rgb(232,232,232)",
            "gridwidth": 2,
            "linecolor": "rgb(36,36,36)",
            "showbackground": true,
            "showgrid": false,
            "showline": true,
            "ticks": "outside",
            "zeroline": false,
            "zerolinecolor": "rgb(36,36,36)"
           },
           "yaxis": {
            "backgroundcolor": "white",
            "gridcolor": "rgb(232,232,232)",
            "gridwidth": 2,
            "linecolor": "rgb(36,36,36)",
            "showbackground": true,
            "showgrid": false,
            "showline": true,
            "ticks": "outside",
            "zeroline": false,
            "zerolinecolor": "rgb(36,36,36)"
           },
           "zaxis": {
            "backgroundcolor": "white",
            "gridcolor": "rgb(232,232,232)",
            "gridwidth": 2,
            "linecolor": "rgb(36,36,36)",
            "showbackground": true,
            "showgrid": false,
            "showline": true,
            "ticks": "outside",
            "zeroline": false,
            "zerolinecolor": "rgb(36,36,36)"
           }
          },
          "shapedefaults": {
           "fillcolor": "black",
           "line": {
            "width": 0
           },
           "opacity": 0.3
          },
          "ternary": {
           "aaxis": {
            "gridcolor": "rgb(232,232,232)",
            "linecolor": "rgb(36,36,36)",
            "showgrid": false,
            "showline": true,
            "ticks": "outside"
           },
           "baxis": {
            "gridcolor": "rgb(232,232,232)",
            "linecolor": "rgb(36,36,36)",
            "showgrid": false,
            "showline": true,
            "ticks": "outside"
           },
           "bgcolor": "white",
           "caxis": {
            "gridcolor": "rgb(232,232,232)",
            "linecolor": "rgb(36,36,36)",
            "showgrid": false,
            "showline": true,
            "ticks": "outside"
           }
          },
          "title": {
           "x": 0.05
          },
          "xaxis": {
           "automargin": true,
           "gridcolor": "rgb(232,232,232)",
           "linecolor": "rgb(36,36,36)",
           "showgrid": false,
           "showline": true,
           "ticks": "outside",
           "title": {
            "standoff": 15
           },
           "zeroline": false,
           "zerolinecolor": "rgb(36,36,36)"
          },
          "yaxis": {
           "automargin": true,
           "gridcolor": "rgb(232,232,232)",
           "linecolor": "rgb(36,36,36)",
           "showgrid": false,
           "showline": true,
           "ticks": "outside",
           "title": {
            "standoff": 15
           },
           "zeroline": false,
           "zerolinecolor": "rgb(36,36,36)"
          }
         }
        },
        "title": {
         "text": "Medium Trucks: Pierce"
        },
        "width": 800,
        "xaxis": {
         "anchor": "y",
         "domain": [
          0.0,
          1.0
         ],
         "title": {
          "text": "Observed"
         }
        },
        "yaxis": {
         "anchor": "x",
         "domain": [
          0.0,
          1.0
         ],
         "title": {
          "text": "Model"
         }
        }
       }
      },
      "text/html": [
       "<div>            <script src=\"https://cdnjs.cloudflare.com/ajax/libs/mathjax/2.7.5/MathJax.js?config=TeX-AMS-MML_SVG\"></script><script type=\"text/javascript\">if (window.MathJax && window.MathJax.Hub && window.MathJax.Hub.Config) {window.MathJax.Hub.Config({SVG: {font: \"STIX-Web\"}});}</script>                <script type=\"text/javascript\">window.PlotlyConfig = {MathJaxConfig: 'local'};</script>\n",
       "        <script charset=\"utf-8\" src=\"https://cdn.plot.ly/plotly-3.0.1.min.js\"></script>                <div id=\"c03bb5b7-ee28-4d1f-9a10-e78efb902d6a\" class=\"plotly-graph-div\" style=\"height:600px; width:800px;\"></div>            <script type=\"text/javascript\">                window.PLOTLYENV=window.PLOTLYENV || {};                                if (document.getElementById(\"c03bb5b7-ee28-4d1f-9a10-e78efb902d6a\")) {                    Plotly.newPlot(                        \"c03bb5b7-ee28-4d1f-9a10-e78efb902d6a\",                        [{\"customdata\":[[\"I-5 S\\u002fO Mounts NB\",\"Pierce\"],[\"I-5 S\\u002fO Mounts SB\",\"Pierce\"],[\"I-5 S\\u002fO Division NB\",\"Pierce\"],[\"I-5 S\\u002fO Division SB\",\"Pierce\"],[\"I-5 @ N\\u002fO Division NB\",\"Pierce\"],[\"I-5 @ N\\u002fO Division SB\",\"Pierce\"],[\"I-5 S\\u002fO SR-512 NB\",\"Pierce\"],[\"I-5 S\\u002fO SR-512 SB\",\"Pierce\"],[\"I-5 N\\u002fO SR-512 NB\",\"Pierce\"],[\"I-5 N\\u002fO SR-512 SB\",\"Pierce\"],[\"I-5 N\\u002fO 56th NB\",\"Pierce\"],[\"I-5 N\\u002fO 56th SB\",\"Pierce\"],[\"I-5 E\\u002fO SR-16 NB\",\"Pierce\"],[\"I-5 E\\u002fO SR-16 SB\",\"Pierce\"],[\"I-5 E\\u002fO Port of Tacoma NB\",\"Pierce\"],[\"I-5 E\\u002fO Port of Tacoma SB (HOV from 56)\",\"Pierce\"],[\"SR-512 W\\u002fO Meridian WB\",\"Pierce\"],[\"SR-512 W\\u002fO Meridian EB\",\"Pierce\"],[\"SR-167 W\\u002fO SR-410 NB\\u002fSB\",\"Pierce\"],[\"SR-167 E\\u002fO SR-161 NB\\u002fSB\",\"Pierce\"],[\"SR-410 E\\u002fO S Prairie WB\\u002fEB\",\"Pierce\"],[\"SR-410 E\\u002fO Chinook WB\\u002fEB\",\"Pierce\"],[\"SR-410 W\\u002fO SR-123 WB\\u002fEB\",\"Pierce\"],[\"SR-410 E\\u002fO SR-123 WB\\u002fEB\",\"Pierce\"],[\"SR-512 @ I-5 WB\\u002fEB\",\"Pierce\"],[\"SR-512 W\\u002fO SR-7 WB\\u002fEB\",\"Pierce\"],[\"SR-512 S\\u002fO SR-167 WB\\u002fEB\",\"Pierce\"],[\"SR-509 E\\u002fO I-705 NB\\u002fSB\",\"Pierce\"],[\"SR-509 W\\u002fO Alexander NB\\u002fSB\",\"Pierce\"],[\"SR-509 S\\u002fO 11th NB\\u002fSB\",\"Pierce\"],[\"SR-509 N\\u002fO Hyada NB\\u002fSB\",\"Pierce\"],[\"SR-509 E\\u002fO Soundview NB\\u002fSB\",\"Pierce\"],[\"SR-99 @ I-5 NB\\u002fSB\",\"Pierce\"],[\"SR-99 E\\u002fO 54th NB\\u002fSB\",\"Pierce\"],[\"SR-99 S\\u002fO Porter NB\\u002fSB\",\"Pierce\"],[\"SR-16 @ TNB NB\\u002fSB\",\"Pierce\"],[\"SR-16 @ Purdy Dr NB\\u002fSB\",\"Pierce\"],[\"SR-302 N\\u002fO 144th WB\\u002fEB\",\"Pierce\"],[\"SR-302 S\\u002fO 144th WB\\u002fEB\",\"Pierce\"],[\"SR-302 W\\u002fO Key Peninsula Hwy WB\\u002fEB\",\"Pierce\"],[\"SR-302 W\\u002fO Wright-Bliss WB\\u002fEB (E\\u002fO?)\",\"Pierce\"],[\"SR-161 E\\u002fO SR-7 NB\\u002fSB\",\"Pierce\"],[\"SR-161 N\\u002fO Center NB\\u002fSB\",\"Pierce\"],[\"SR-161 N\\u002fO Eatonville Cutoff NB\\u002fSB\",\"Pierce\"],[\"SR-161 N\\u002fO 304th NB\\u002fSB\",\"Pierce\"],[\"SR-161 N\\u002fO 264th NB\\u002fSB\",\"Pierce\"],[\"SR-161 S\\u002fO 224th NB\\u002fSB\",\"Pierce\"],[\"SR-161 N\\u002fO 224th NB\\u002fSB\",\"Pierce\"],[\"SR-161 N\\u002fO 204th NB\\u002fSB\",\"Pierce\"],[\"SR-161 S\\u002fO SR-167 SB off-ramp NB\\u002fSB\",\"Pierce\"],[\"SR-161 S\\u002fO Valley NB\\u002fSB\",\"Pierce\"],[\"SR-161 N\\u002fO Valley NB\\u002fSB\",\"Pierce\"],[\"SR-161 N\\u002fO 8th NB\\u002fSB\",\"Pierce\"],[\"SR-7 @ Thurston County NB\\u002fSB\",\"Pierce\"],[\"SR-7 W\\u002fO Alder Cutoff NB\\u002fSB\",\"Pierce\"],[\"SR-7 N\\u002fO Eatonville Hwy NB\\u002fSB\",\"Pierce\"],[\"SR-7 N\\u002fO Silver Lake NB\\u002fSB\",\"Pierce\"],[\"SR-7 S\\u002fO SR-702 NB\\u002fSB\",\"Pierce\"],[\"SR-7 N\\u002fO 304th NB\\u002fSB\",\"Pierce\"],[\"SR-7 N\\u002fO 260th NB\\u002fSB\",\"Pierce\"],[\"SR-7 S\\u002fO 224th NB\\u002fSB\",\"Pierce\"],[\"SR-7 N\\u002fO 224th NB\\u002fSB\",\"Pierce\"],[\"SR-7 N\\u002fO 38th NB\\u002fSB\",\"Pierce\"],[\"SR-162 @ SR-410 WB\\u002fEB\",\"Pierce\"],[\"SR-162 S\\u002fO Pioneer WB\\u002fEB\",\"Pierce\"],[\"SR-162 E\\u002fO Orville WB\\u002fEB\",\"Pierce\"],[\"SR-162 E\\u002fO S Prairie WB\\u002fEB\",\"Pierce\"],[\"SR-162 N\\u002fO SR-165 WB\\u002fEB\",\"Pierce\"],[\"SR-163 @ SR-16 NB\\u002fSB\",\"Pierce\"],[\"SR-163 N\\u002fO 37th NB\\u002fSB\",\"Pierce\"],[\"SR-163 N\\u002fO Park NB\\u002fSB\",\"Pierce\"],[\"SR-507 S\\u002fO SR-7 NB\\u002fSB\",\"Pierce\"],[\"SR-507 S\\u002fO E Gate NB\\u002fSB\",\"Pierce\"],[\"SR-507 S\\u002fO 288th NB\\u002fSB\",\"Pierce\"],[\"SR-507 N\\u002fO 346th NB\\u002fSB\",\"Pierce\"],[\"SR-702 E\\u002fO SR-507 WB\\u002fEB\",\"Pierce\"],[\"SR-702 E\\u002fO Harts Lake WB\\u002fEB\",\"Pierce\"],[\"SR-702 E\\u002fO 40th WB\\u002fEB\",\"Pierce\"],[\"SR-702 W\\u002fO 8th WB\\u002fEB\",\"Pierce\"],[\"SR-702 E\\u002fO 8th WB\\u002fEB\",\"Pierce\"],[\"SR-165 W\\u002fO SR-162 NB\\u002fSB\",\"Pierce\"],[\"SR-165 N\\u002fO Davis NB\\u002fSB\",\"Pierce\"],[\"SR-165 N\\u002fO Wilkeson-Carbonado NB\\u002fSB\",\"Pierce\"],[\"SR-704 E\\u002fO Spanaway Loop WB\\u002fEB\",\"Pierce\"],[\"SR-706 E\\u002fO SR-7 WB\\u002fEB\",\"Pierce\"],[\"SR-706 E\\u002fO Kernahan WB\\u002fEB\",\"Pierce\"]],\"hovertemplate\":\"Observed=%{x}\\u003cbr\\u003eModel=%{y}\\u003cbr\\u003elocation=%{customdata[0]}\\u003cbr\\u003eCounty=%{customdata[1]}\\u003cextra\\u003e\\u003c\\u002fextra\\u003e\",\"legendgroup\":\"\",\"marker\":{\"color\":\"#91268F\",\"symbol\":\"circle\"},\"mode\":\"markers\",\"name\":\"\",\"orientation\":\"v\",\"showlegend\":false,\"x\":{\"dtype\":\"i2\",\"bdata\":\"XglQCcQJHQobCeMIMArDCZIS1RIJFjYW5AYDDzYK3gz4B\\u002fgHwxW9Cu4ESgAwAB0AEwv+DNAPDAQGCasAOwA+APwEQAZ+BD0MWgiqAWcD4wCdABgAyAE5AVICVgL4AWADwAToAzoH0AIgA\\u002fEAagDBAOQAawGyAoEDRgVaA3oBgAKcA2oCYgEjAqQBFAGhAPAEzgEVAmMCDAKMAYUBfgFCAYYB0wB4ANAClgBLAA==\"},\"xaxis\":\"x\",\"y\":{\"dtype\":\"i2\",\"bdata\":\"AAAAAPAC+QLrAvICaQQgBO4HaQkBDcINSgfNFqYYlxjaCLUIQxuEDJwEAAAAAAAArQwgDRMUQQa4BW8AGwAbAAgFLQQiBfsZdQ85AUEBiwArAAQAHQDBAFgBVQEFAhwCxwP8BMcHVgJ\\u002fBAAAEAAXAB8AOgDnABYBOwGOAbkAJgL8AvkAhQDxAH0DUgHGAAwBmwAwADMACgAKAGkAaQBJAKQATAAjAPgCAAAAAA==\"},\"yaxis\":\"y\",\"type\":\"scatter\",\"line\":{\"color\":\"Grey\",\"width\":2}},{\"hovertemplate\":\"Observed=%{x}\\u003cbr\\u003eModel=%{y}\\u003cextra\\u003e\\u003c\\u002fextra\\u003e\",\"legendgroup\":\"\",\"line\":{\"color\":\"Grey\",\"dash\":\"solid\",\"width\":2},\"marker\":{\"symbol\":\"circle\"},\"mode\":\"lines\",\"name\":\"\",\"orientation\":\"v\",\"showlegend\":false,\"x\":{\"dtype\":\"f8\",\"bdata\":\"AAAAAAAAAABi3s6QmLdMQGLezpCYt1xAyiabbLKJZUBi3s6QmLdsQP1KgVq\\u002f8nFAyiabbLKJdUCWArV+pSB5QGLezpCYt3xAF1100UUngED9SoFav\\u002fKBQOM4juM4voNAyiabbLKJhUCwFKj1K1WHQJYCtX6lIIlAfPDBBx\\u002fsikBi3s6QmLeMQEjM2xkSg45AF1100UUnkEAK1PqVAg2RQP1KgVq\\u002f8pFA8MEHH3zYkkDjOI7jOL6TQNavFKj1o5RAyiabbLKJlUC9nSExb2+WQLAUqPUrVZdAo4suuug6mECWArV+pSCZQIl5O0NiBppAfPDBBx\\u002fsmkBvZ0jM29GbQGLezpCYt5xAVVVVVVWdnUBIzNsZEoOeQDtDYt7OaJ9AF1100UUnoECRmLczJJqgQArU+pUCDaFAhA8++OB\\u002foUD9SoFav\\u002fKhQHeGxLydZaJA8MEHH3zYokBq\\u002fUqBWkujQOM4juM4vqNAXXTRRRcxpEDWrxSo9aOkQFDrVwrUFqVAyiabbLKJpUBDYt7OkPylQL2dITFvb6ZANtlkk03ipkCwFKj1K1WnQClQ61cKyKdAo4suuug6qEAcx3Ecx62oQJYCtX6lIKlADz744IOTqUCJeTtDYgaqQAK1fqVAeapAfPDBBx\\u002fsqkD1KwVq\\u002fV6rQG9nSMzb0atA6KKLLrpErEBi3s6QmLesQNwZEvN2Kq1AVVVVVVWdrUDPkJi3MxCuQEjM2xkSg65AwgcffPD1rkA7Q2LezmivQLV+pUCt269AF1100UUnsEDU+pUCtWCwQJGYtzMkmrBATTbZZJPTsEAK1PqVAg2xQMdxHMdxRrFAhA8++OB\\u002fsUBArV8pULmxQP1KgVq\\u002f8rFAuuiiiy4sskB3hsS8nWWyQDQk5u0Mn7JA8MEHH3zYskCtXylQ6xGzQGr9SoFaS7NAJ5tsssmEs0DjOI7jOL6zQKDWrxSo97NAXXTRRRcxtEAaEvN2hmq0QNavFKj1o7RAk0022WTdtEBQ61cK1Ba1QA2JeTtDULVAyiabbLKJtUCGxLydIcO1QENi3s6Q\\u002fLVAAAAAAAA2tkA=\"},\"xaxis\":\"x\",\"y\":{\"dtype\":\"f8\",\"bdata\":\"AH0AKYqIW8ABMfZnynRMwCCAtt4HiA3A\\u002fGAfbMnDSED+FBWrCbBZQL48DVAXf2NA\\u002fu6PyikmakCfUIkinmZwQL+pyl8nunNA3gIMnbANd0D+W03aOWF6QB61jhfDtH1AHwdoKiaEgECvswjJ6i2CQD9gqWev14NAzwxKBnSBhUBfueqkOCuHQO5li0P91IhAfhIs4sF+ikAOv8yAhiiMQJ5rbR9L0o1ALhgOvg98j0BfYlcu6pKQQKe4p33MZ5FA7w74zK48kkA3ZUgckRGTQH+7mGtz5pNAxxHpulW7lEAPaDkKOJCVQFe+iVkaZZZAnxTaqPw5l0Dnair43g6YQC\\u002fBekfB45hAdxfLlqO4mUC+bRvmhY2aQAbEazVoYptAThq8hEo3nECXcAzULAydQN7GXCMP4Z1AJh2tcvG1nkBuc\\u002f3B04qfQNvkpgjbL6BA\\u002fw9PMEyaoEAjO\\u002fdXvQShQEdmn38ub6FAa5FHp5\\u002fZoUCPvO\\u002fOEESiQLPnl\\u002faBrqJA1xJAHvMYo0D7PehFZIOjQB9pkG3V7aNAQ5Q4lUZYpEBnv+C8t8KkQIvqiOQoLaVArxUxDJqXpUDTQNkzCwKmQPdrgVt8bKZAG5cpg+3WpkA\\u002fwtGqXkGnQGLtedLPq6dAhxgi+kAWqECqQ8ohsoCoQM9uckkj66hA8pkacZRVqUAXxcKYBcCpQDvwasB2KqpAXxsT6OeUqkCDRrsPWf+qQKZxYzfKaatAy5wLXzvUq0Dux7OGrD6sQBPzW64dqaxANh4E1o4TrUBbSaz9\\u002f32tQH90VCVx6K1Aop\\u002f8TOJSrkDGyqR0U72uQOr1TJzEJ69ADiH1wzWSr0AyTJ3rpvyvQKu7ogmMM7BAPdF2ncRosEDP5kox\\u002fZ2wQGL8HsU107BA8xHzWG4IsUCFJ8fspj2xQBc9m4DfcrFAqVJvFBiosUA7aEOoUN2xQM19FzyJErJAX5Prz8FHskDxqL9j+nyyQIO+k\\u002fcysrJAFdRni2vnskCn6TsfpByzQDn\\u002fD7PcUbNAyxTkRhWHs0BdKrjaTbyzQO8\\u002fjG6G8bNAgVVgAr8mtEA=\"},\"yaxis\":\"y\",\"type\":\"scatter\"}],                        {\"template\":{\"data\":{\"barpolar\":[{\"marker\":{\"line\":{\"color\":\"white\",\"width\":0.5},\"pattern\":{\"fillmode\":\"overlay\",\"size\":10,\"solidity\":0.2}},\"type\":\"barpolar\"}],\"bar\":[{\"error_x\":{\"color\":\"rgb(36,36,36)\"},\"error_y\":{\"color\":\"rgb(36,36,36)\"},\"marker\":{\"line\":{\"color\":\"white\",\"width\":0.5},\"pattern\":{\"fillmode\":\"overlay\",\"size\":10,\"solidity\":0.2}},\"type\":\"bar\"}],\"carpet\":[{\"aaxis\":{\"endlinecolor\":\"rgb(36,36,36)\",\"gridcolor\":\"white\",\"linecolor\":\"white\",\"minorgridcolor\":\"white\",\"startlinecolor\":\"rgb(36,36,36)\"},\"baxis\":{\"endlinecolor\":\"rgb(36,36,36)\",\"gridcolor\":\"white\",\"linecolor\":\"white\",\"minorgridcolor\":\"white\",\"startlinecolor\":\"rgb(36,36,36)\"},\"type\":\"carpet\"}],\"choropleth\":[{\"colorbar\":{\"outlinewidth\":1,\"tickcolor\":\"rgb(36,36,36)\",\"ticks\":\"outside\"},\"type\":\"choropleth\"}],\"contourcarpet\":[{\"colorbar\":{\"outlinewidth\":1,\"tickcolor\":\"rgb(36,36,36)\",\"ticks\":\"outside\"},\"type\":\"contourcarpet\"}],\"contour\":[{\"colorbar\":{\"outlinewidth\":1,\"tickcolor\":\"rgb(36,36,36)\",\"ticks\":\"outside\"},\"colorscale\":[[0.0,\"#440154\"],[0.1111111111111111,\"#482878\"],[0.2222222222222222,\"#3e4989\"],[0.3333333333333333,\"#31688e\"],[0.4444444444444444,\"#26828e\"],[0.5555555555555556,\"#1f9e89\"],[0.6666666666666666,\"#35b779\"],[0.7777777777777778,\"#6ece58\"],[0.8888888888888888,\"#b5de2b\"],[1.0,\"#fde725\"]],\"type\":\"contour\"}],\"heatmap\":[{\"colorbar\":{\"outlinewidth\":1,\"tickcolor\":\"rgb(36,36,36)\",\"ticks\":\"outside\"},\"colorscale\":[[0.0,\"#440154\"],[0.1111111111111111,\"#482878\"],[0.2222222222222222,\"#3e4989\"],[0.3333333333333333,\"#31688e\"],[0.4444444444444444,\"#26828e\"],[0.5555555555555556,\"#1f9e89\"],[0.6666666666666666,\"#35b779\"],[0.7777777777777778,\"#6ece58\"],[0.8888888888888888,\"#b5de2b\"],[1.0,\"#fde725\"]],\"type\":\"heatmap\"}],\"histogram2dcontour\":[{\"colorbar\":{\"outlinewidth\":1,\"tickcolor\":\"rgb(36,36,36)\",\"ticks\":\"outside\"},\"colorscale\":[[0.0,\"#440154\"],[0.1111111111111111,\"#482878\"],[0.2222222222222222,\"#3e4989\"],[0.3333333333333333,\"#31688e\"],[0.4444444444444444,\"#26828e\"],[0.5555555555555556,\"#1f9e89\"],[0.6666666666666666,\"#35b779\"],[0.7777777777777778,\"#6ece58\"],[0.8888888888888888,\"#b5de2b\"],[1.0,\"#fde725\"]],\"type\":\"histogram2dcontour\"}],\"histogram2d\":[{\"colorbar\":{\"outlinewidth\":1,\"tickcolor\":\"rgb(36,36,36)\",\"ticks\":\"outside\"},\"colorscale\":[[0.0,\"#440154\"],[0.1111111111111111,\"#482878\"],[0.2222222222222222,\"#3e4989\"],[0.3333333333333333,\"#31688e\"],[0.4444444444444444,\"#26828e\"],[0.5555555555555556,\"#1f9e89\"],[0.6666666666666666,\"#35b779\"],[0.7777777777777778,\"#6ece58\"],[0.8888888888888888,\"#b5de2b\"],[1.0,\"#fde725\"]],\"type\":\"histogram2d\"}],\"histogram\":[{\"marker\":{\"line\":{\"color\":\"white\",\"width\":0.6}},\"type\":\"histogram\"}],\"mesh3d\":[{\"colorbar\":{\"outlinewidth\":1,\"tickcolor\":\"rgb(36,36,36)\",\"ticks\":\"outside\"},\"type\":\"mesh3d\"}],\"parcoords\":[{\"line\":{\"colorbar\":{\"outlinewidth\":1,\"tickcolor\":\"rgb(36,36,36)\",\"ticks\":\"outside\"}},\"type\":\"parcoords\"}],\"pie\":[{\"automargin\":true,\"type\":\"pie\"}],\"scatter3d\":[{\"line\":{\"colorbar\":{\"outlinewidth\":1,\"tickcolor\":\"rgb(36,36,36)\",\"ticks\":\"outside\"}},\"marker\":{\"colorbar\":{\"outlinewidth\":1,\"tickcolor\":\"rgb(36,36,36)\",\"ticks\":\"outside\"}},\"type\":\"scatter3d\"}],\"scattercarpet\":[{\"marker\":{\"colorbar\":{\"outlinewidth\":1,\"tickcolor\":\"rgb(36,36,36)\",\"ticks\":\"outside\"}},\"type\":\"scattercarpet\"}],\"scattergeo\":[{\"marker\":{\"colorbar\":{\"outlinewidth\":1,\"tickcolor\":\"rgb(36,36,36)\",\"ticks\":\"outside\"}},\"type\":\"scattergeo\"}],\"scattergl\":[{\"marker\":{\"colorbar\":{\"outlinewidth\":1,\"tickcolor\":\"rgb(36,36,36)\",\"ticks\":\"outside\"}},\"type\":\"scattergl\"}],\"scattermapbox\":[{\"marker\":{\"colorbar\":{\"outlinewidth\":1,\"tickcolor\":\"rgb(36,36,36)\",\"ticks\":\"outside\"}},\"type\":\"scattermapbox\"}],\"scattermap\":[{\"marker\":{\"colorbar\":{\"outlinewidth\":1,\"tickcolor\":\"rgb(36,36,36)\",\"ticks\":\"outside\"}},\"type\":\"scattermap\"}],\"scatterpolargl\":[{\"marker\":{\"colorbar\":{\"outlinewidth\":1,\"tickcolor\":\"rgb(36,36,36)\",\"ticks\":\"outside\"}},\"type\":\"scatterpolargl\"}],\"scatterpolar\":[{\"marker\":{\"colorbar\":{\"outlinewidth\":1,\"tickcolor\":\"rgb(36,36,36)\",\"ticks\":\"outside\"}},\"type\":\"scatterpolar\"}],\"scatter\":[{\"fillpattern\":{\"fillmode\":\"overlay\",\"size\":10,\"solidity\":0.2},\"type\":\"scatter\"}],\"scatterternary\":[{\"marker\":{\"colorbar\":{\"outlinewidth\":1,\"tickcolor\":\"rgb(36,36,36)\",\"ticks\":\"outside\"}},\"type\":\"scatterternary\"}],\"surface\":[{\"colorbar\":{\"outlinewidth\":1,\"tickcolor\":\"rgb(36,36,36)\",\"ticks\":\"outside\"},\"colorscale\":[[0.0,\"#440154\"],[0.1111111111111111,\"#482878\"],[0.2222222222222222,\"#3e4989\"],[0.3333333333333333,\"#31688e\"],[0.4444444444444444,\"#26828e\"],[0.5555555555555556,\"#1f9e89\"],[0.6666666666666666,\"#35b779\"],[0.7777777777777778,\"#6ece58\"],[0.8888888888888888,\"#b5de2b\"],[1.0,\"#fde725\"]],\"type\":\"surface\"}],\"table\":[{\"cells\":{\"fill\":{\"color\":\"rgb(237,237,237)\"},\"line\":{\"color\":\"white\"}},\"header\":{\"fill\":{\"color\":\"rgb(217,217,217)\"},\"line\":{\"color\":\"white\"}},\"type\":\"table\"}]},\"layout\":{\"annotationdefaults\":{\"arrowhead\":0,\"arrowwidth\":1},\"autotypenumbers\":\"strict\",\"coloraxis\":{\"colorbar\":{\"outlinewidth\":1,\"tickcolor\":\"rgb(36,36,36)\",\"ticks\":\"outside\"}},\"colorscale\":{\"diverging\":[[0.0,\"rgb(103,0,31)\"],[0.1,\"rgb(178,24,43)\"],[0.2,\"rgb(214,96,77)\"],[0.3,\"rgb(244,165,130)\"],[0.4,\"rgb(253,219,199)\"],[0.5,\"rgb(247,247,247)\"],[0.6,\"rgb(209,229,240)\"],[0.7,\"rgb(146,197,222)\"],[0.8,\"rgb(67,147,195)\"],[0.9,\"rgb(33,102,172)\"],[1.0,\"rgb(5,48,97)\"]],\"sequential\":[[0.0,\"#440154\"],[0.1111111111111111,\"#482878\"],[0.2222222222222222,\"#3e4989\"],[0.3333333333333333,\"#31688e\"],[0.4444444444444444,\"#26828e\"],[0.5555555555555556,\"#1f9e89\"],[0.6666666666666666,\"#35b779\"],[0.7777777777777778,\"#6ece58\"],[0.8888888888888888,\"#b5de2b\"],[1.0,\"#fde725\"]],\"sequentialminus\":[[0.0,\"#440154\"],[0.1111111111111111,\"#482878\"],[0.2222222222222222,\"#3e4989\"],[0.3333333333333333,\"#31688e\"],[0.4444444444444444,\"#26828e\"],[0.5555555555555556,\"#1f9e89\"],[0.6666666666666666,\"#35b779\"],[0.7777777777777778,\"#6ece58\"],[0.8888888888888888,\"#b5de2b\"],[1.0,\"#fde725\"]]},\"colorway\":[\"#91268F\",\"#8CC63E\",\"#00A7A0\",\"#F05A28\",\"#4C4C4C\",\"#630460\",\"#9f3913\",\"#588527\",\"#00716c\",\"#3e4040\"],\"font\":{\"color\":\"rgb(36,36,36)\",\"family\":\"Poppins\",\"size\":11},\"geo\":{\"bgcolor\":\"white\",\"lakecolor\":\"white\",\"landcolor\":\"white\",\"showlakes\":true,\"showland\":true,\"subunitcolor\":\"white\"},\"hoverlabel\":{\"align\":\"left\"},\"hovermode\":\"closest\",\"mapbox\":{\"style\":\"light\"},\"paper_bgcolor\":\"white\",\"plot_bgcolor\":\"white\",\"polar\":{\"angularaxis\":{\"gridcolor\":\"rgb(232,232,232)\",\"linecolor\":\"rgb(36,36,36)\",\"showgrid\":false,\"showline\":true,\"ticks\":\"outside\"},\"bgcolor\":\"white\",\"radialaxis\":{\"gridcolor\":\"rgb(232,232,232)\",\"linecolor\":\"rgb(36,36,36)\",\"showgrid\":false,\"showline\":true,\"ticks\":\"outside\"}},\"scene\":{\"xaxis\":{\"backgroundcolor\":\"white\",\"gridcolor\":\"rgb(232,232,232)\",\"gridwidth\":2,\"linecolor\":\"rgb(36,36,36)\",\"showbackground\":true,\"showgrid\":false,\"showline\":true,\"ticks\":\"outside\",\"zeroline\":false,\"zerolinecolor\":\"rgb(36,36,36)\"},\"yaxis\":{\"backgroundcolor\":\"white\",\"gridcolor\":\"rgb(232,232,232)\",\"gridwidth\":2,\"linecolor\":\"rgb(36,36,36)\",\"showbackground\":true,\"showgrid\":false,\"showline\":true,\"ticks\":\"outside\",\"zeroline\":false,\"zerolinecolor\":\"rgb(36,36,36)\"},\"zaxis\":{\"backgroundcolor\":\"white\",\"gridcolor\":\"rgb(232,232,232)\",\"gridwidth\":2,\"linecolor\":\"rgb(36,36,36)\",\"showbackground\":true,\"showgrid\":false,\"showline\":true,\"ticks\":\"outside\",\"zeroline\":false,\"zerolinecolor\":\"rgb(36,36,36)\"}},\"shapedefaults\":{\"fillcolor\":\"black\",\"line\":{\"width\":0},\"opacity\":0.3},\"ternary\":{\"aaxis\":{\"gridcolor\":\"rgb(232,232,232)\",\"linecolor\":\"rgb(36,36,36)\",\"showgrid\":false,\"showline\":true,\"ticks\":\"outside\"},\"baxis\":{\"gridcolor\":\"rgb(232,232,232)\",\"linecolor\":\"rgb(36,36,36)\",\"showgrid\":false,\"showline\":true,\"ticks\":\"outside\"},\"bgcolor\":\"white\",\"caxis\":{\"gridcolor\":\"rgb(232,232,232)\",\"linecolor\":\"rgb(36,36,36)\",\"showgrid\":false,\"showline\":true,\"ticks\":\"outside\"}},\"title\":{\"x\":0.05},\"xaxis\":{\"automargin\":true,\"gridcolor\":\"rgb(232,232,232)\",\"linecolor\":\"rgb(36,36,36)\",\"showgrid\":false,\"showline\":true,\"ticks\":\"outside\",\"title\":{\"standoff\":15},\"zeroline\":false,\"zerolinecolor\":\"rgb(36,36,36)\"},\"yaxis\":{\"automargin\":true,\"gridcolor\":\"rgb(232,232,232)\",\"linecolor\":\"rgb(36,36,36)\",\"showgrid\":false,\"showline\":true,\"ticks\":\"outside\",\"title\":{\"standoff\":15},\"zeroline\":false,\"zerolinecolor\":\"rgb(36,36,36)\"}}},\"xaxis\":{\"anchor\":\"y\",\"domain\":[0.0,1.0],\"title\":{\"text\":\"Observed\"}},\"yaxis\":{\"anchor\":\"x\",\"domain\":[0.0,1.0],\"title\":{\"text\":\"Model\"}},\"legend\":{\"tracegroupgap\":0},\"title\":{\"text\":\"Medium Trucks: Pierce\"},\"margin\":{\"l\":100,\"r\":100,\"t\":100,\"b\":100},\"height\":600,\"width\":800,\"shapes\":[{\"line\":{\"color\":\"Red\",\"dash\":\"dash\",\"width\":2},\"type\":\"line\",\"x0\":0,\"x1\":6979,\"y0\":0,\"y1\":6979}],\"annotations\":[{\"align\":\"right\",\"font\":{\"color\":\"pink\",\"size\":12},\"showarrow\":false,\"text\":\"y = x\",\"x\":7327.950000000001,\"y\":7327.950000000001},{\"align\":\"right\",\"font\":{\"color\":\"black\",\"size\":12},\"showarrow\":false,\"text\":\"r^2 = 0.60\",\"x\":5970.3,\"y\":5416.6834365100085}]},                        {\"responsive\": true}                    ).then(function(){\n",
       "                            \n",
       "var gd = document.getElementById('c03bb5b7-ee28-4d1f-9a10-e78efb902d6a');\n",
       "var x = new MutationObserver(function (mutations, observer) {{\n",
       "        var display = window.getComputedStyle(gd).display;\n",
       "        if (!display || display === 'none') {{\n",
       "            console.log([gd, 'removed!']);\n",
       "            Plotly.purge(gd);\n",
       "            observer.disconnect();\n",
       "        }}\n",
       "}});\n",
       "\n",
       "// Listen for the removal of the full notebook cells\n",
       "var notebookContainer = gd.closest('#notebook-container');\n",
       "if (notebookContainer) {{\n",
       "    x.observe(notebookContainer, {childList: true});\n",
       "}}\n",
       "\n",
       "// Listen for the clearing of the current output cell\n",
       "var outputEl = gd.closest('.output');\n",
       "if (outputEl) {{\n",
       "    x.observe(outputEl, {childList: true});\n",
       "}}\n",
       "\n",
       "                        })                };            </script>        </div>"
      ]
     },
     "metadata": {},
     "output_type": "display_data"
    }
   ],
   "source": [
    "fig = create_truck_chart(df_daily_med, 'Medium', 'Pierce')\n",
    "fig.show()"
   ]
  },
  {
   "cell_type": "raw",
   "id": "e54ab844",
   "metadata": {},
   "source": [
    "#### Snohomish"
   ]
  },
  {
   "cell_type": "code",
   "execution_count": 33,
   "id": "b4a630bf",
   "metadata": {
    "execution": {
     "iopub.execute_input": "2025-05-01T14:38:18.041216Z",
     "iopub.status.busy": "2025-05-01T14:38:18.040220Z",
     "iopub.status.idle": "2025-05-01T14:38:18.198135Z",
     "shell.execute_reply": "2025-05-01T14:38:18.197140Z"
    }
   },
   "outputs": [
    {
     "data": {
      "application/vnd.plotly.v1+json": {
       "config": {
        "plotlyServerURL": "https://plot.ly"
       },
       "data": [
        {
         "customdata": [
          [
           "I-5 @ 44th NB",
           "Snohomish"
          ],
          [
           "I-5 @ 44th SB",
           "Snohomish"
          ],
          [
           "I-5 N/O 164th NB",
           "Snohomish"
          ],
          [
           "I-5 N/O 164th SB",
           "Snohomish"
          ],
          [
           "I-5 N/O SR-526 NB",
           "Snohomish"
          ],
          [
           "I-5 N/O SR-526 SB",
           "Snohomish"
          ],
          [
           "I-5 N/O 41st NB",
           "Snohomish"
          ],
          [
           "I-5 N/O 41st SB",
           "Snohomish"
          ],
          [
           "I-5 @ SR-528 NB",
           "Snohomish"
          ],
          [
           "I-5 @ SR-528 SB",
           "Snohomish"
          ],
          [
           "I-5 N/O SR-531 NB",
           "Snohomish"
          ],
          [
           "I-5 N/O SR-531 SB",
           "Snohomish"
          ],
          [
           "I-405 N/O SR-527 NB",
           "Snohomish"
          ],
          [
           "I-405 N/O SR-527 SB",
           "Snohomish"
          ],
          [
           "SR-525 N/O I-5 NB",
           "Snohomish"
          ],
          [
           "SR-525 N/O I-5 SB",
           "Snohomish"
          ],
          [
           "I-5 @ SR-532 NB/SB",
           "Snohomish"
          ],
          [
           "I-5 @ Skagit border NB/SB",
           "Snohomish"
          ],
          [
           "SR-525 N/O SR-526 NB/SB",
           "Snohomish"
          ],
          [
           "SR-525 N/O 5th NB/SB",
           "Snohomish"
          ],
          [
           "SR-99 E/O Evergreen NB/SB",
           "Snohomish"
          ],
          [
           "SR-526 W/O Paine Field Blvd WB/EB",
           "Snohomish"
          ],
          [
           "SR-526 E/O Paine Field Blvd WB/EB",
           "Snohomish"
          ],
          [
           "SR-9 @ SR-522 NB/SB",
           "Snohomish"
          ],
          [
           "SR-9 N/O SR-2 NB/SB",
           "Snohomish"
          ],
          [
           "SR-9 N/O SR-204 NB/SB",
           "Snohomish"
          ],
          [
           "SR-9 N/O SR-92 NB/SB",
           "Snohomish"
          ],
          [
           "SR-9 N/O 132nd NB/SB",
           "Snohomish"
          ],
          [
           "SR-9 N/O SR-531 NB/SB",
           "Snohomish"
          ],
          [
           "SR-9 S/O 67th NB/SB",
           "Snohomish"
          ],
          [
           "SR-9 N/O Kackman NB/SB",
           "Snohomish"
          ],
          [
           "SR-9 N/O Stanwood-Bryant NB/SB",
           "Snohomish"
          ],
          [
           "SR-532 @ Island County WB/EB",
           "Snohomish"
          ],
          [
           "SR-532 W/O 28th WB/EB",
           "Snohomish"
          ],
          [
           "SR-104 @ Ferry Loading Edm WB/EB",
           "Snohomish"
          ],
          [
           "SR-104 N/O Pine WB/EB",
           "Snohomish"
          ],
          [
           "SR-104 E/O 5th WB/EB",
           "Snohomish"
          ],
          [
           "SR-524 W/O 3rd WB/EB",
           "Snohomish"
          ],
          [
           "SR-524 S/O Main WB/EB",
           "Snohomish"
          ],
          [
           "SR-524 N/O Main WB/EB",
           "Snohomish"
          ],
          [
           "SR-524 E/O 68th WB/EB",
           "Snohomish"
          ],
          [
           "SR-524 E/O 39th WB/EB",
           "Snohomish"
          ],
          [
           "SR-524 N/O Paradise Lake WB/EB",
           "Snohomish"
          ],
          [
           "SR-2 E/O I-5 WB/EB",
           "Snohomish"
          ],
          [
           "SR-2 S/O SR-204 WB/EB",
           "Snohomish"
          ],
          [
           "SR-2 E/O Main WB/EB",
           "Snohomish"
          ],
          [
           "SR-2 E/O Rice WB/EB",
           "Snohomish"
          ],
          [
           "SR-2 E/O 10th (Gold Bar) WB/EB",
           "Snohomish"
          ],
          [
           "SR-2 W/O Index-Galena WB/EB",
           "Snohomish"
          ],
          [
           "SR-2 E/O Index-Galena WB/EB",
           "Snohomish"
          ],
          [
           "SR-527 N/O I-405 NB/SB",
           "Snohomish"
          ],
          [
           "SR-527 N/O 196th NB/SB",
           "Snohomish"
          ],
          [
           "SR-527 N/O Dumas NB/SB",
           "Snohomish"
          ],
          [
           "SR-527 N/O 100th NB/SB",
           "Snohomish"
          ],
          [
           "SR-529 @ I-5 (Evt) NB/SB",
           "Snohomish"
          ],
          [
           "SR-529 S/O Everett NB/SB",
           "Snohomish"
          ],
          [
           "SR-529 W/O Maple NB/SB",
           "Snohomish"
          ],
          [
           "SR-529 N/O Everett NB/SB",
           "Snohomish"
          ],
          [
           "SR-529 N/O Broadway NB/SB",
           "Snohomish"
          ],
          [
           "SR-96 @ I-5 WB/EB",
           "Snohomish"
          ],
          [
           "SR-96 N/O 132nd WB/EB",
           "Snohomish"
          ],
          [
           "SR-96 E/O Seattle Hill WB/EB",
           "Snohomish"
          ],
          [
           "SR-528 @ I-5 WB/EB",
           "Snohomish"
          ],
          [
           "SR-528 E/O SR-529 WB/EB",
           "Snohomish"
          ],
          [
           "SR-531 N/O Rose WB/EB",
           "Snohomish"
          ],
          [
           "SR-531 E/O Lk Goodwin WB/EB",
           "Snohomish"
          ],
          [
           "SR-531 E/O 27th WB/EB",
           "Snohomish"
          ],
          [
           "SR-531 E/O I-5 WB/EB",
           "Snohomish"
          ],
          [
           "SR-531 E/O 43rd WB/EB",
           "Snohomish"
          ],
          [
           "SR-531 W/O 67th WB/EB",
           "Snohomish"
          ],
          [
           "SR-531 E/O 67th WB/EB",
           "Snohomish"
          ],
          [
           "SR-530 @ I-5 WB/EB",
           "Snohomish"
          ],
          [
           "SR-530 E/O Smokey Pt WB/EB",
           "Snohomish"
          ],
          [
           "SR-530 N/O 211th WB/EB",
           "Snohomish"
          ],
          [
           "SR-530 E/O SR-9 WB/EB",
           "Snohomish"
          ],
          [
           "SR-530 W/O Arlington Hts WB/EB",
           "Snohomish"
          ],
          [
           "SR-530 E/O Arlington Hts WB/EB",
           "Snohomish"
          ],
          [
           "SR-530 W/O Jim Creek WB/EB",
           "Snohomish"
          ],
          [
           "SR-530 W/O Ramstad WB/EB",
           "Snohomish"
          ],
          [
           "SR-530 @ Skagit County WB/EB",
           "Snohomish"
          ],
          [
           "SR-203 N/O 203rd NB/SB",
           "Snohomish"
          ],
          [
           "SR-204 @ SR-2 NB/SB",
           "Snohomish"
          ],
          [
           "SR-204 N/O 20th NB/SB",
           "Snohomish"
          ],
          [
           "SR-204 N/O SR-2 NB/SB",
           "Snohomish"
          ],
          [
           "SR-92 E/O Lake WB/EB",
           "Snohomish"
          ],
          [
           "SR-92 E/O Callow WB/EB",
           "Snohomish"
          ],
          [
           "SR-92 E/O Quarry WB/EB",
           "Snohomish"
          ],
          [
           "SR-92 W/O Mountain Loop WB/EB",
           "Snohomish"
          ]
         ],
         "hovertemplate": "Observed=%{x}<br>Model=%{y}<br>location=%{customdata[0]}<br>County=%{customdata[1]}<extra></extra>",
         "legendgroup": "",
         "line": {
          "color": "Grey",
          "width": 2
         },
         "marker": {
          "color": "#91268F",
          "symbol": "circle"
         },
         "mode": "markers",
         "name": "",
         "orientation": "v",
         "showlegend": false,
         "type": "scatter",
         "x": {
          "bdata": "GgosCjULSAuBChAL9QhgCo8IywjABskGAwZUBuAEUwOMCbEJxgJsAdsBjAGTAz0HHwVrBcMHPQPkAZICuwGHACAE4wImAdwAaAFEAKAApwDuAUoBhQR+CWIGWgPfAgQCWgHyAMwFRQPAAloDTQEPAWwB7gBiBIAFiAHcANgCaAJLALABtQLOBGAGyQMwArICcgMQA6QBCALNAZoBFAGnAHwCAwFzAcADRQXiA0ABRAE=",
          "dtype": "i2"
         },
         "xaxis": "x",
         "y": {
          "bdata": "MBYHFvwTpBJiEXwR+BB2EKAHpgeTAm4CHhLeEQcMPAt6AAAAWgElAIgAwwD6BoQE+gQGBLIHiAICArAALQA/AAAAVwL/AKgAFAEDAUIAGQF2ArMBswJZDLQG8gI4AW8AbwBRAFgMqQO9ARcEtQGUAWUBfgBhAgwGpQE9AGgEbAIgAIoAXALABakD6QBiAU4BZgKcAYIBjwFOAR4B7AAAAMcBtAAmAT0FAgMsAsIAmwA=",
          "dtype": "i2"
         },
         "yaxis": "y"
        },
        {
         "hovertemplate": "Observed=%{x}<br>Model=%{y}<extra></extra>",
         "legendgroup": "",
         "line": {
          "color": "Grey",
          "dash": "solid",
          "width": 2
         },
         "marker": {
          "symbol": "circle"
         },
         "mode": "lines",
         "name": "",
         "orientation": "v",
         "showlegend": false,
         "type": "scatter",
         "x": {
          "bdata": "AAAAAAAAAADXrxSo9Ss9QNevFKj1K01A4YMPPvjgVUDXrxSo9StdQObtDIl5O2JA4YMPPvjgZUDcGRLzdoZpQNevFKj1K21A6aKLLrpocEDm7QyJeTtyQOQ4juM4DnRA4YMPPvjgdUDfzpCYt7N3QNwZEvN2hnlA2mSTTTZZe0DXrxSo9St9QNT6lQK1/n5A6aKLLrpogEBoSMzbGVKBQObtDIl5O4JAZZNNNtkkg0DkOI7jOA6EQGPezpCY94RA4YMPPvjghUBgKVDrV8qGQN/OkJi3s4dAXXTRRRediEDcGRLzdoaJQFu/UqDWb4pA2mSTTTZZi0BYCtT6lUKMQNevFKj1K41AVlVVVVUVjkDU+pUCtf6OQFOg1q8U6I9A6aKLLrpokECo9SsFat2QQGhIzNsZUpFAJ5tsssnGkUDm7QyJeTuSQKZArV8psJJAZZNNNtkkk0Ak5u0MiZmTQOQ4juM4DpRAo4suuuiClEBj3s6QmPeUQCIxb2dIbJVA4YMPPvjglUCh1q8UqFWWQGApUOtXypZAH3zwwQc/l0DfzpCYt7OXQJ4hMW9nKJhAXXTRRRedmEAdx3EcxxGZQNwZEvN2hplAm2yyySb7mUBbv1Kg1m+aQBoS83aG5JpA2mSTTTZZm0CZtzMk5s2bQFgK1PqVQpxAGF100UW3nEDXrxSo9SudQJYCtX6loJ1AVlVVVVUVnkAVqPUrBYqeQNT6lQK1/p5AlE022WRzn0BToNavFOifQIl5O0NiLqBA6aKLLrpooEBJzNsZEqOgQKj1KwVq3aBACB988MEXoUBoSMzbGVKhQMdxHMdxjKFAJ5tsssnGoUCHxLydIQGiQObtDIl5O6JARhdddNF1okCmQK1fKbCiQAVq/UqB6qJAZZNNNtkko0DFvJ0hMV+jQCTm7QyJmaNAhA8++ODTo0DkOI7jOA6kQENi3s6QSKRAo4suuuiCpEADtX6lQL2kQGPezpCY96RAwgcffPAxpUAiMW9nSGylQIJav1KgpqVA4YMPPvjgpUBBrV8pUBumQKHWrxSoVaZAAAAAAACQpkA=",
          "dtype": "f8"
         },
         "xaxis": "x",
         "y": {
          "bdata": "sAm1AmkidcAmCw9OpXFywDgZ0jLDgW/AJRyGyTsgasARHzpgtL5kwPxD3O1Zul7A1ElEG0v3U8BYn1iReGhCwMCnup4o7RhAQEkHucKjSEDInhsv8BRXQHjM2YD/62BAjMkl6oZNZkCgxnFTDq9rQNrhXt5KiHBAZOAEkw45c0Du3qpH0ul1QHbdUPyVmnhAANz2sFlLe0CM2pxlHfx9QIpsIY1wVoBAz2t0Z9KugUAUa8dBNAeDQFpqGhyWX4RAnmlt9ve3hUDiaMDQWRCHQChoE6u7aIhAbGdmhR3BiUCyZrlffxmLQPZlDDrhcYxAPGVfFEPKjUCAZLLupCKPQOOxgmSDPZBAhTGsUbTpkEAnsdU+5ZWRQMow/ysWQpJAbLAoGUfukkAOMFIGeJqTQLKve/OoRpRAVC+l4NnylED2rs7NCp+VQJku+Lo7S5ZAO64hqGz3lkDdLUuVnaOXQICtdILOT5hAIi2eb//7mEDGrMdcMKiZQGgs8UlhVJpACqwaN5IAm0CsK0Qkw6ybQE6rbRH0WJxA8CqX/iQFnUCUqsDrVbGdQDYq6tiGXZ5A2KkTxrcJn0B8KT2z6LWfQI9UM9AMMaBAYBTIRiWHoEAx1Fy9Pd2gQAKU8TNWM6FA1FOGqm6JoUClExshh9+hQHbTr5efNaJASJNEDriLokAZU9mE0OGiQOoSbvvoN6NAu9ICcgGOo0CMkpfoGeSjQF1SLF8yOqRALxLB1UqQpEAA0lVMY+akQNGR6sJ7PKVAolF/OZSSpUB0ERSwrOilQETRqCbFPqZAFpE9nd2UpkDoUNIT9uqmQLgQZ4oOQadAitD7ACeXp0BbkJB3P+2nQCxQJe5XQ6hA/Q+6ZHCZqEDPz07biO+oQJ+P41GhRalAcU94yLmbqUBDDw0/0vGpQBPPobXqR6pA5Y42LAOeqkC2TsuiG/SqQIcOYBk0SqtAWM70j0ygq0AqjokGZfarQPxNHn19TKxAzA2z85WirECezUdqrvisQG+N3ODGTq1AQE1xV9+krUASDQbO9/qtQOLMmkQQUa5AtIwvuyinrkA=",
          "dtype": "f8"
         },
         "yaxis": "y"
        }
       ],
       "layout": {
        "annotations": [
         {
          "align": "right",
          "font": {
           "color": "pink",
           "size": 12
          },
          "showarrow": false,
          "text": "y = x",
          "x": 5964.0,
          "y": 5964.0
         },
         {
          "align": "right",
          "font": {
           "color": "black",
           "size": 12
          },
          "showarrow": false,
          "text": "r^2 = 0.61",
          "x": 3032.4,
          "y": 4119.75853076956
         }
        ],
        "height": 600,
        "legend": {
         "tracegroupgap": 0
        },
        "margin": {
         "b": 100,
         "l": 100,
         "r": 100,
         "t": 100
        },
        "shapes": [
         {
          "line": {
           "color": "Red",
           "dash": "dash",
           "width": 2
          },
          "type": "line",
          "x0": 0,
          "x1": 5680,
          "y0": 0,
          "y1": 5680
         }
        ],
        "template": {
         "data": {
          "bar": [
           {
            "error_x": {
             "color": "rgb(36,36,36)"
            },
            "error_y": {
             "color": "rgb(36,36,36)"
            },
            "marker": {
             "line": {
              "color": "white",
              "width": 0.5
             },
             "pattern": {
              "fillmode": "overlay",
              "size": 10,
              "solidity": 0.2
             }
            },
            "type": "bar"
           }
          ],
          "barpolar": [
           {
            "marker": {
             "line": {
              "color": "white",
              "width": 0.5
             },
             "pattern": {
              "fillmode": "overlay",
              "size": 10,
              "solidity": 0.2
             }
            },
            "type": "barpolar"
           }
          ],
          "carpet": [
           {
            "aaxis": {
             "endlinecolor": "rgb(36,36,36)",
             "gridcolor": "white",
             "linecolor": "white",
             "minorgridcolor": "white",
             "startlinecolor": "rgb(36,36,36)"
            },
            "baxis": {
             "endlinecolor": "rgb(36,36,36)",
             "gridcolor": "white",
             "linecolor": "white",
             "minorgridcolor": "white",
             "startlinecolor": "rgb(36,36,36)"
            },
            "type": "carpet"
           }
          ],
          "choropleth": [
           {
            "colorbar": {
             "outlinewidth": 1,
             "tickcolor": "rgb(36,36,36)",
             "ticks": "outside"
            },
            "type": "choropleth"
           }
          ],
          "contour": [
           {
            "colorbar": {
             "outlinewidth": 1,
             "tickcolor": "rgb(36,36,36)",
             "ticks": "outside"
            },
            "colorscale": [
             [
              0.0,
              "#440154"
             ],
             [
              0.1111111111111111,
              "#482878"
             ],
             [
              0.2222222222222222,
              "#3e4989"
             ],
             [
              0.3333333333333333,
              "#31688e"
             ],
             [
              0.4444444444444444,
              "#26828e"
             ],
             [
              0.5555555555555556,
              "#1f9e89"
             ],
             [
              0.6666666666666666,
              "#35b779"
             ],
             [
              0.7777777777777778,
              "#6ece58"
             ],
             [
              0.8888888888888888,
              "#b5de2b"
             ],
             [
              1.0,
              "#fde725"
             ]
            ],
            "type": "contour"
           }
          ],
          "contourcarpet": [
           {
            "colorbar": {
             "outlinewidth": 1,
             "tickcolor": "rgb(36,36,36)",
             "ticks": "outside"
            },
            "type": "contourcarpet"
           }
          ],
          "heatmap": [
           {
            "colorbar": {
             "outlinewidth": 1,
             "tickcolor": "rgb(36,36,36)",
             "ticks": "outside"
            },
            "colorscale": [
             [
              0.0,
              "#440154"
             ],
             [
              0.1111111111111111,
              "#482878"
             ],
             [
              0.2222222222222222,
              "#3e4989"
             ],
             [
              0.3333333333333333,
              "#31688e"
             ],
             [
              0.4444444444444444,
              "#26828e"
             ],
             [
              0.5555555555555556,
              "#1f9e89"
             ],
             [
              0.6666666666666666,
              "#35b779"
             ],
             [
              0.7777777777777778,
              "#6ece58"
             ],
             [
              0.8888888888888888,
              "#b5de2b"
             ],
             [
              1.0,
              "#fde725"
             ]
            ],
            "type": "heatmap"
           }
          ],
          "histogram": [
           {
            "marker": {
             "line": {
              "color": "white",
              "width": 0.6
             }
            },
            "type": "histogram"
           }
          ],
          "histogram2d": [
           {
            "colorbar": {
             "outlinewidth": 1,
             "tickcolor": "rgb(36,36,36)",
             "ticks": "outside"
            },
            "colorscale": [
             [
              0.0,
              "#440154"
             ],
             [
              0.1111111111111111,
              "#482878"
             ],
             [
              0.2222222222222222,
              "#3e4989"
             ],
             [
              0.3333333333333333,
              "#31688e"
             ],
             [
              0.4444444444444444,
              "#26828e"
             ],
             [
              0.5555555555555556,
              "#1f9e89"
             ],
             [
              0.6666666666666666,
              "#35b779"
             ],
             [
              0.7777777777777778,
              "#6ece58"
             ],
             [
              0.8888888888888888,
              "#b5de2b"
             ],
             [
              1.0,
              "#fde725"
             ]
            ],
            "type": "histogram2d"
           }
          ],
          "histogram2dcontour": [
           {
            "colorbar": {
             "outlinewidth": 1,
             "tickcolor": "rgb(36,36,36)",
             "ticks": "outside"
            },
            "colorscale": [
             [
              0.0,
              "#440154"
             ],
             [
              0.1111111111111111,
              "#482878"
             ],
             [
              0.2222222222222222,
              "#3e4989"
             ],
             [
              0.3333333333333333,
              "#31688e"
             ],
             [
              0.4444444444444444,
              "#26828e"
             ],
             [
              0.5555555555555556,
              "#1f9e89"
             ],
             [
              0.6666666666666666,
              "#35b779"
             ],
             [
              0.7777777777777778,
              "#6ece58"
             ],
             [
              0.8888888888888888,
              "#b5de2b"
             ],
             [
              1.0,
              "#fde725"
             ]
            ],
            "type": "histogram2dcontour"
           }
          ],
          "mesh3d": [
           {
            "colorbar": {
             "outlinewidth": 1,
             "tickcolor": "rgb(36,36,36)",
             "ticks": "outside"
            },
            "type": "mesh3d"
           }
          ],
          "parcoords": [
           {
            "line": {
             "colorbar": {
              "outlinewidth": 1,
              "tickcolor": "rgb(36,36,36)",
              "ticks": "outside"
             }
            },
            "type": "parcoords"
           }
          ],
          "pie": [
           {
            "automargin": true,
            "type": "pie"
           }
          ],
          "scatter": [
           {
            "fillpattern": {
             "fillmode": "overlay",
             "size": 10,
             "solidity": 0.2
            },
            "type": "scatter"
           }
          ],
          "scatter3d": [
           {
            "line": {
             "colorbar": {
              "outlinewidth": 1,
              "tickcolor": "rgb(36,36,36)",
              "ticks": "outside"
             }
            },
            "marker": {
             "colorbar": {
              "outlinewidth": 1,
              "tickcolor": "rgb(36,36,36)",
              "ticks": "outside"
             }
            },
            "type": "scatter3d"
           }
          ],
          "scattercarpet": [
           {
            "marker": {
             "colorbar": {
              "outlinewidth": 1,
              "tickcolor": "rgb(36,36,36)",
              "ticks": "outside"
             }
            },
            "type": "scattercarpet"
           }
          ],
          "scattergeo": [
           {
            "marker": {
             "colorbar": {
              "outlinewidth": 1,
              "tickcolor": "rgb(36,36,36)",
              "ticks": "outside"
             }
            },
            "type": "scattergeo"
           }
          ],
          "scattergl": [
           {
            "marker": {
             "colorbar": {
              "outlinewidth": 1,
              "tickcolor": "rgb(36,36,36)",
              "ticks": "outside"
             }
            },
            "type": "scattergl"
           }
          ],
          "scattermap": [
           {
            "marker": {
             "colorbar": {
              "outlinewidth": 1,
              "tickcolor": "rgb(36,36,36)",
              "ticks": "outside"
             }
            },
            "type": "scattermap"
           }
          ],
          "scattermapbox": [
           {
            "marker": {
             "colorbar": {
              "outlinewidth": 1,
              "tickcolor": "rgb(36,36,36)",
              "ticks": "outside"
             }
            },
            "type": "scattermapbox"
           }
          ],
          "scatterpolar": [
           {
            "marker": {
             "colorbar": {
              "outlinewidth": 1,
              "tickcolor": "rgb(36,36,36)",
              "ticks": "outside"
             }
            },
            "type": "scatterpolar"
           }
          ],
          "scatterpolargl": [
           {
            "marker": {
             "colorbar": {
              "outlinewidth": 1,
              "tickcolor": "rgb(36,36,36)",
              "ticks": "outside"
             }
            },
            "type": "scatterpolargl"
           }
          ],
          "scatterternary": [
           {
            "marker": {
             "colorbar": {
              "outlinewidth": 1,
              "tickcolor": "rgb(36,36,36)",
              "ticks": "outside"
             }
            },
            "type": "scatterternary"
           }
          ],
          "surface": [
           {
            "colorbar": {
             "outlinewidth": 1,
             "tickcolor": "rgb(36,36,36)",
             "ticks": "outside"
            },
            "colorscale": [
             [
              0.0,
              "#440154"
             ],
             [
              0.1111111111111111,
              "#482878"
             ],
             [
              0.2222222222222222,
              "#3e4989"
             ],
             [
              0.3333333333333333,
              "#31688e"
             ],
             [
              0.4444444444444444,
              "#26828e"
             ],
             [
              0.5555555555555556,
              "#1f9e89"
             ],
             [
              0.6666666666666666,
              "#35b779"
             ],
             [
              0.7777777777777778,
              "#6ece58"
             ],
             [
              0.8888888888888888,
              "#b5de2b"
             ],
             [
              1.0,
              "#fde725"
             ]
            ],
            "type": "surface"
           }
          ],
          "table": [
           {
            "cells": {
             "fill": {
              "color": "rgb(237,237,237)"
             },
             "line": {
              "color": "white"
             }
            },
            "header": {
             "fill": {
              "color": "rgb(217,217,217)"
             },
             "line": {
              "color": "white"
             }
            },
            "type": "table"
           }
          ]
         },
         "layout": {
          "annotationdefaults": {
           "arrowhead": 0,
           "arrowwidth": 1
          },
          "autotypenumbers": "strict",
          "coloraxis": {
           "colorbar": {
            "outlinewidth": 1,
            "tickcolor": "rgb(36,36,36)",
            "ticks": "outside"
           }
          },
          "colorscale": {
           "diverging": [
            [
             0.0,
             "rgb(103,0,31)"
            ],
            [
             0.1,
             "rgb(178,24,43)"
            ],
            [
             0.2,
             "rgb(214,96,77)"
            ],
            [
             0.3,
             "rgb(244,165,130)"
            ],
            [
             0.4,
             "rgb(253,219,199)"
            ],
            [
             0.5,
             "rgb(247,247,247)"
            ],
            [
             0.6,
             "rgb(209,229,240)"
            ],
            [
             0.7,
             "rgb(146,197,222)"
            ],
            [
             0.8,
             "rgb(67,147,195)"
            ],
            [
             0.9,
             "rgb(33,102,172)"
            ],
            [
             1.0,
             "rgb(5,48,97)"
            ]
           ],
           "sequential": [
            [
             0.0,
             "#440154"
            ],
            [
             0.1111111111111111,
             "#482878"
            ],
            [
             0.2222222222222222,
             "#3e4989"
            ],
            [
             0.3333333333333333,
             "#31688e"
            ],
            [
             0.4444444444444444,
             "#26828e"
            ],
            [
             0.5555555555555556,
             "#1f9e89"
            ],
            [
             0.6666666666666666,
             "#35b779"
            ],
            [
             0.7777777777777778,
             "#6ece58"
            ],
            [
             0.8888888888888888,
             "#b5de2b"
            ],
            [
             1.0,
             "#fde725"
            ]
           ],
           "sequentialminus": [
            [
             0.0,
             "#440154"
            ],
            [
             0.1111111111111111,
             "#482878"
            ],
            [
             0.2222222222222222,
             "#3e4989"
            ],
            [
             0.3333333333333333,
             "#31688e"
            ],
            [
             0.4444444444444444,
             "#26828e"
            ],
            [
             0.5555555555555556,
             "#1f9e89"
            ],
            [
             0.6666666666666666,
             "#35b779"
            ],
            [
             0.7777777777777778,
             "#6ece58"
            ],
            [
             0.8888888888888888,
             "#b5de2b"
            ],
            [
             1.0,
             "#fde725"
            ]
           ]
          },
          "colorway": [
           "#91268F",
           "#8CC63E",
           "#00A7A0",
           "#F05A28",
           "#4C4C4C",
           "#630460",
           "#9f3913",
           "#588527",
           "#00716c",
           "#3e4040"
          ],
          "font": {
           "color": "rgb(36,36,36)",
           "family": "Poppins",
           "size": 11
          },
          "geo": {
           "bgcolor": "white",
           "lakecolor": "white",
           "landcolor": "white",
           "showlakes": true,
           "showland": true,
           "subunitcolor": "white"
          },
          "hoverlabel": {
           "align": "left"
          },
          "hovermode": "closest",
          "mapbox": {
           "style": "light"
          },
          "paper_bgcolor": "white",
          "plot_bgcolor": "white",
          "polar": {
           "angularaxis": {
            "gridcolor": "rgb(232,232,232)",
            "linecolor": "rgb(36,36,36)",
            "showgrid": false,
            "showline": true,
            "ticks": "outside"
           },
           "bgcolor": "white",
           "radialaxis": {
            "gridcolor": "rgb(232,232,232)",
            "linecolor": "rgb(36,36,36)",
            "showgrid": false,
            "showline": true,
            "ticks": "outside"
           }
          },
          "scene": {
           "xaxis": {
            "backgroundcolor": "white",
            "gridcolor": "rgb(232,232,232)",
            "gridwidth": 2,
            "linecolor": "rgb(36,36,36)",
            "showbackground": true,
            "showgrid": false,
            "showline": true,
            "ticks": "outside",
            "zeroline": false,
            "zerolinecolor": "rgb(36,36,36)"
           },
           "yaxis": {
            "backgroundcolor": "white",
            "gridcolor": "rgb(232,232,232)",
            "gridwidth": 2,
            "linecolor": "rgb(36,36,36)",
            "showbackground": true,
            "showgrid": false,
            "showline": true,
            "ticks": "outside",
            "zeroline": false,
            "zerolinecolor": "rgb(36,36,36)"
           },
           "zaxis": {
            "backgroundcolor": "white",
            "gridcolor": "rgb(232,232,232)",
            "gridwidth": 2,
            "linecolor": "rgb(36,36,36)",
            "showbackground": true,
            "showgrid": false,
            "showline": true,
            "ticks": "outside",
            "zeroline": false,
            "zerolinecolor": "rgb(36,36,36)"
           }
          },
          "shapedefaults": {
           "fillcolor": "black",
           "line": {
            "width": 0
           },
           "opacity": 0.3
          },
          "ternary": {
           "aaxis": {
            "gridcolor": "rgb(232,232,232)",
            "linecolor": "rgb(36,36,36)",
            "showgrid": false,
            "showline": true,
            "ticks": "outside"
           },
           "baxis": {
            "gridcolor": "rgb(232,232,232)",
            "linecolor": "rgb(36,36,36)",
            "showgrid": false,
            "showline": true,
            "ticks": "outside"
           },
           "bgcolor": "white",
           "caxis": {
            "gridcolor": "rgb(232,232,232)",
            "linecolor": "rgb(36,36,36)",
            "showgrid": false,
            "showline": true,
            "ticks": "outside"
           }
          },
          "title": {
           "x": 0.05
          },
          "xaxis": {
           "automargin": true,
           "gridcolor": "rgb(232,232,232)",
           "linecolor": "rgb(36,36,36)",
           "showgrid": false,
           "showline": true,
           "ticks": "outside",
           "title": {
            "standoff": 15
           },
           "zeroline": false,
           "zerolinecolor": "rgb(36,36,36)"
          },
          "yaxis": {
           "automargin": true,
           "gridcolor": "rgb(232,232,232)",
           "linecolor": "rgb(36,36,36)",
           "showgrid": false,
           "showline": true,
           "ticks": "outside",
           "title": {
            "standoff": 15
           },
           "zeroline": false,
           "zerolinecolor": "rgb(36,36,36)"
          }
         }
        },
        "title": {
         "text": "Medium Trucks: Snohomish"
        },
        "width": 800,
        "xaxis": {
         "anchor": "y",
         "domain": [
          0.0,
          1.0
         ],
         "title": {
          "text": "Observed"
         }
        },
        "yaxis": {
         "anchor": "x",
         "domain": [
          0.0,
          1.0
         ],
         "title": {
          "text": "Model"
         }
        }
       }
      },
      "text/html": [
       "<div>            <script src=\"https://cdnjs.cloudflare.com/ajax/libs/mathjax/2.7.5/MathJax.js?config=TeX-AMS-MML_SVG\"></script><script type=\"text/javascript\">if (window.MathJax && window.MathJax.Hub && window.MathJax.Hub.Config) {window.MathJax.Hub.Config({SVG: {font: \"STIX-Web\"}});}</script>                <script type=\"text/javascript\">window.PlotlyConfig = {MathJaxConfig: 'local'};</script>\n",
       "        <script charset=\"utf-8\" src=\"https://cdn.plot.ly/plotly-3.0.1.min.js\"></script>                <div id=\"2e073406-41cb-4d70-840b-047d611c0c00\" class=\"plotly-graph-div\" style=\"height:600px; width:800px;\"></div>            <script type=\"text/javascript\">                window.PLOTLYENV=window.PLOTLYENV || {};                                if (document.getElementById(\"2e073406-41cb-4d70-840b-047d611c0c00\")) {                    Plotly.newPlot(                        \"2e073406-41cb-4d70-840b-047d611c0c00\",                        [{\"customdata\":[[\"I-5 @ 44th NB\",\"Snohomish\"],[\"I-5 @ 44th SB\",\"Snohomish\"],[\"I-5 N\\u002fO 164th NB\",\"Snohomish\"],[\"I-5 N\\u002fO 164th SB\",\"Snohomish\"],[\"I-5 N\\u002fO SR-526 NB\",\"Snohomish\"],[\"I-5 N\\u002fO SR-526 SB\",\"Snohomish\"],[\"I-5 N\\u002fO 41st NB\",\"Snohomish\"],[\"I-5 N\\u002fO 41st SB\",\"Snohomish\"],[\"I-5 @ SR-528 NB\",\"Snohomish\"],[\"I-5 @ SR-528 SB\",\"Snohomish\"],[\"I-5 N\\u002fO SR-531 NB\",\"Snohomish\"],[\"I-5 N\\u002fO SR-531 SB\",\"Snohomish\"],[\"I-405 N\\u002fO SR-527 NB\",\"Snohomish\"],[\"I-405 N\\u002fO SR-527 SB\",\"Snohomish\"],[\"SR-525 N\\u002fO I-5 NB\",\"Snohomish\"],[\"SR-525 N\\u002fO I-5 SB\",\"Snohomish\"],[\"I-5 @ SR-532 NB\\u002fSB\",\"Snohomish\"],[\"I-5 @ Skagit border NB\\u002fSB\",\"Snohomish\"],[\"SR-525 N\\u002fO SR-526 NB\\u002fSB\",\"Snohomish\"],[\"SR-525 N\\u002fO 5th NB\\u002fSB\",\"Snohomish\"],[\"SR-99 E\\u002fO Evergreen NB\\u002fSB\",\"Snohomish\"],[\"SR-526 W\\u002fO Paine Field Blvd WB\\u002fEB\",\"Snohomish\"],[\"SR-526 E\\u002fO Paine Field Blvd WB\\u002fEB\",\"Snohomish\"],[\"SR-9 @ SR-522 NB\\u002fSB\",\"Snohomish\"],[\"SR-9 N\\u002fO SR-2 NB\\u002fSB\",\"Snohomish\"],[\"SR-9 N\\u002fO SR-204 NB\\u002fSB\",\"Snohomish\"],[\"SR-9 N\\u002fO SR-92 NB\\u002fSB\",\"Snohomish\"],[\"SR-9 N\\u002fO 132nd NB\\u002fSB\",\"Snohomish\"],[\"SR-9 N\\u002fO SR-531 NB\\u002fSB\",\"Snohomish\"],[\"SR-9 S\\u002fO 67th NB\\u002fSB\",\"Snohomish\"],[\"SR-9 N\\u002fO Kackman NB\\u002fSB\",\"Snohomish\"],[\"SR-9 N\\u002fO Stanwood-Bryant NB\\u002fSB\",\"Snohomish\"],[\"SR-532 @ Island County WB\\u002fEB\",\"Snohomish\"],[\"SR-532 W\\u002fO 28th WB\\u002fEB\",\"Snohomish\"],[\"SR-104 @ Ferry Loading Edm WB\\u002fEB\",\"Snohomish\"],[\"SR-104 N\\u002fO Pine WB\\u002fEB\",\"Snohomish\"],[\"SR-104 E\\u002fO 5th WB\\u002fEB\",\"Snohomish\"],[\"SR-524 W\\u002fO 3rd WB\\u002fEB\",\"Snohomish\"],[\"SR-524 S\\u002fO Main WB\\u002fEB\",\"Snohomish\"],[\"SR-524 N\\u002fO Main WB\\u002fEB\",\"Snohomish\"],[\"SR-524 E\\u002fO 68th WB\\u002fEB\",\"Snohomish\"],[\"SR-524 E\\u002fO 39th WB\\u002fEB\",\"Snohomish\"],[\"SR-524 N\\u002fO Paradise Lake WB\\u002fEB\",\"Snohomish\"],[\"SR-2 E\\u002fO I-5 WB\\u002fEB\",\"Snohomish\"],[\"SR-2 S\\u002fO SR-204 WB\\u002fEB\",\"Snohomish\"],[\"SR-2 E\\u002fO Main WB\\u002fEB\",\"Snohomish\"],[\"SR-2 E\\u002fO Rice WB\\u002fEB\",\"Snohomish\"],[\"SR-2 E\\u002fO 10th (Gold Bar) WB\\u002fEB\",\"Snohomish\"],[\"SR-2 W\\u002fO Index-Galena WB\\u002fEB\",\"Snohomish\"],[\"SR-2 E\\u002fO Index-Galena WB\\u002fEB\",\"Snohomish\"],[\"SR-527 N\\u002fO I-405 NB\\u002fSB\",\"Snohomish\"],[\"SR-527 N\\u002fO 196th NB\\u002fSB\",\"Snohomish\"],[\"SR-527 N\\u002fO Dumas NB\\u002fSB\",\"Snohomish\"],[\"SR-527 N\\u002fO 100th NB\\u002fSB\",\"Snohomish\"],[\"SR-529 @ I-5 (Evt) NB\\u002fSB\",\"Snohomish\"],[\"SR-529 S\\u002fO Everett NB\\u002fSB\",\"Snohomish\"],[\"SR-529 W\\u002fO Maple NB\\u002fSB\",\"Snohomish\"],[\"SR-529 N\\u002fO Everett NB\\u002fSB\",\"Snohomish\"],[\"SR-529 N\\u002fO Broadway NB\\u002fSB\",\"Snohomish\"],[\"SR-96 @ I-5 WB\\u002fEB\",\"Snohomish\"],[\"SR-96 N\\u002fO 132nd WB\\u002fEB\",\"Snohomish\"],[\"SR-96 E\\u002fO Seattle Hill WB\\u002fEB\",\"Snohomish\"],[\"SR-528 @ I-5 WB\\u002fEB\",\"Snohomish\"],[\"SR-528 E\\u002fO SR-529 WB\\u002fEB\",\"Snohomish\"],[\"SR-531 N\\u002fO Rose WB\\u002fEB\",\"Snohomish\"],[\"SR-531 E\\u002fO Lk Goodwin WB\\u002fEB\",\"Snohomish\"],[\"SR-531 E\\u002fO 27th WB\\u002fEB\",\"Snohomish\"],[\"SR-531 E\\u002fO I-5 WB\\u002fEB\",\"Snohomish\"],[\"SR-531 E\\u002fO 43rd WB\\u002fEB\",\"Snohomish\"],[\"SR-531 W\\u002fO 67th WB\\u002fEB\",\"Snohomish\"],[\"SR-531 E\\u002fO 67th WB\\u002fEB\",\"Snohomish\"],[\"SR-530 @ I-5 WB\\u002fEB\",\"Snohomish\"],[\"SR-530 E\\u002fO Smokey Pt WB\\u002fEB\",\"Snohomish\"],[\"SR-530 N\\u002fO 211th WB\\u002fEB\",\"Snohomish\"],[\"SR-530 E\\u002fO SR-9 WB\\u002fEB\",\"Snohomish\"],[\"SR-530 W\\u002fO Arlington Hts WB\\u002fEB\",\"Snohomish\"],[\"SR-530 E\\u002fO Arlington Hts WB\\u002fEB\",\"Snohomish\"],[\"SR-530 W\\u002fO Jim Creek WB\\u002fEB\",\"Snohomish\"],[\"SR-530 W\\u002fO Ramstad WB\\u002fEB\",\"Snohomish\"],[\"SR-530 @ Skagit County WB\\u002fEB\",\"Snohomish\"],[\"SR-203 N\\u002fO 203rd NB\\u002fSB\",\"Snohomish\"],[\"SR-204 @ SR-2 NB\\u002fSB\",\"Snohomish\"],[\"SR-204 N\\u002fO 20th NB\\u002fSB\",\"Snohomish\"],[\"SR-204 N\\u002fO SR-2 NB\\u002fSB\",\"Snohomish\"],[\"SR-92 E\\u002fO Lake WB\\u002fEB\",\"Snohomish\"],[\"SR-92 E\\u002fO Callow WB\\u002fEB\",\"Snohomish\"],[\"SR-92 E\\u002fO Quarry WB\\u002fEB\",\"Snohomish\"],[\"SR-92 W\\u002fO Mountain Loop WB\\u002fEB\",\"Snohomish\"]],\"hovertemplate\":\"Observed=%{x}\\u003cbr\\u003eModel=%{y}\\u003cbr\\u003elocation=%{customdata[0]}\\u003cbr\\u003eCounty=%{customdata[1]}\\u003cextra\\u003e\\u003c\\u002fextra\\u003e\",\"legendgroup\":\"\",\"marker\":{\"color\":\"#91268F\",\"symbol\":\"circle\"},\"mode\":\"markers\",\"name\":\"\",\"orientation\":\"v\",\"showlegend\":false,\"x\":{\"dtype\":\"i2\",\"bdata\":\"GgosCjULSAuBChAL9QhgCo8IywjABskGAwZUBuAEUwOMCbEJxgJsAdsBjAGTAz0HHwVrBcMHPQPkAZICuwGHACAE4wImAdwAaAFEAKAApwDuAUoBhQR+CWIGWgPfAgQCWgHyAMwFRQPAAloDTQEPAWwB7gBiBIAFiAHcANgCaAJLALABtQLOBGAGyQMwArICcgMQA6QBCALNAZoBFAGnAHwCAwFzAcADRQXiA0ABRAE=\"},\"xaxis\":\"x\",\"y\":{\"dtype\":\"i2\",\"bdata\":\"MBYHFvwTpBJiEXwR+BB2EKAHpgeTAm4CHhLeEQcMPAt6AAAAWgElAIgAwwD6BoQE+gQGBLIHiAICArAALQA\\u002fAAAAVwL\\u002fAKgAFAEDAUIAGQF2ArMBswJZDLQG8gI4AW8AbwBRAFgMqQO9ARcEtQGUAWUBfgBhAgwGpQE9AGgEbAIgAIoAXALABakD6QBiAU4BZgKcAYIBjwFOAR4B7AAAAMcBtAAmAT0FAgMsAsIAmwA=\"},\"yaxis\":\"y\",\"type\":\"scatter\",\"line\":{\"color\":\"Grey\",\"width\":2}},{\"hovertemplate\":\"Observed=%{x}\\u003cbr\\u003eModel=%{y}\\u003cextra\\u003e\\u003c\\u002fextra\\u003e\",\"legendgroup\":\"\",\"line\":{\"color\":\"Grey\",\"dash\":\"solid\",\"width\":2},\"marker\":{\"symbol\":\"circle\"},\"mode\":\"lines\",\"name\":\"\",\"orientation\":\"v\",\"showlegend\":false,\"x\":{\"dtype\":\"f8\",\"bdata\":\"AAAAAAAAAADXrxSo9Ss9QNevFKj1K01A4YMPPvjgVUDXrxSo9StdQObtDIl5O2JA4YMPPvjgZUDcGRLzdoZpQNevFKj1K21A6aKLLrpocEDm7QyJeTtyQOQ4juM4DnRA4YMPPvjgdUDfzpCYt7N3QNwZEvN2hnlA2mSTTTZZe0DXrxSo9St9QNT6lQK1\\u002fn5A6aKLLrpogEBoSMzbGVKBQObtDIl5O4JAZZNNNtkkg0DkOI7jOA6EQGPezpCY94RA4YMPPvjghUBgKVDrV8qGQN\\u002fOkJi3s4dAXXTRRRediEDcGRLzdoaJQFu\\u002fUqDWb4pA2mSTTTZZi0BYCtT6lUKMQNevFKj1K41AVlVVVVUVjkDU+pUCtf6OQFOg1q8U6I9A6aKLLrpokECo9SsFat2QQGhIzNsZUpFAJ5tsssnGkUDm7QyJeTuSQKZArV8psJJAZZNNNtkkk0Ak5u0MiZmTQOQ4juM4DpRAo4suuuiClEBj3s6QmPeUQCIxb2dIbJVA4YMPPvjglUCh1q8UqFWWQGApUOtXypZAH3zwwQc\\u002fl0DfzpCYt7OXQJ4hMW9nKJhAXXTRRRedmEAdx3EcxxGZQNwZEvN2hplAm2yyySb7mUBbv1Kg1m+aQBoS83aG5JpA2mSTTTZZm0CZtzMk5s2bQFgK1PqVQpxAGF100UW3nEDXrxSo9SudQJYCtX6loJ1AVlVVVVUVnkAVqPUrBYqeQNT6lQK1\\u002fp5AlE022WRzn0BToNavFOifQIl5O0NiLqBA6aKLLrpooEBJzNsZEqOgQKj1KwVq3aBACB988MEXoUBoSMzbGVKhQMdxHMdxjKFAJ5tsssnGoUCHxLydIQGiQObtDIl5O6JARhdddNF1okCmQK1fKbCiQAVq\\u002fUqB6qJAZZNNNtkko0DFvJ0hMV+jQCTm7QyJmaNAhA8++ODTo0DkOI7jOA6kQENi3s6QSKRAo4suuuiCpEADtX6lQL2kQGPezpCY96RAwgcffPAxpUAiMW9nSGylQIJav1KgpqVA4YMPPvjgpUBBrV8pUBumQKHWrxSoVaZAAAAAAACQpkA=\"},\"xaxis\":\"x\",\"y\":{\"dtype\":\"f8\",\"bdata\":\"sAm1AmkidcAmCw9OpXFywDgZ0jLDgW\\u002fAJRyGyTsgasARHzpgtL5kwPxD3O1Zul7A1ElEG0v3U8BYn1iReGhCwMCnup4o7RhAQEkHucKjSEDInhsv8BRXQHjM2YD\\u002f62BAjMkl6oZNZkCgxnFTDq9rQNrhXt5KiHBAZOAEkw45c0Du3qpH0ul1QHbdUPyVmnhAANz2sFlLe0CM2pxlHfx9QIpsIY1wVoBAz2t0Z9KugUAUa8dBNAeDQFpqGhyWX4RAnmlt9ve3hUDiaMDQWRCHQChoE6u7aIhAbGdmhR3BiUCyZrlffxmLQPZlDDrhcYxAPGVfFEPKjUCAZLLupCKPQOOxgmSDPZBAhTGsUbTpkEAnsdU+5ZWRQMow\\u002fysWQpJAbLAoGUfukkAOMFIGeJqTQLKve\\u002fOoRpRAVC+l4NnylED2rs7NCp+VQJku+Lo7S5ZAO64hqGz3lkDdLUuVnaOXQICtdILOT5hAIi2eb\\u002f\\u002f7mEDGrMdcMKiZQGgs8UlhVJpACqwaN5IAm0CsK0Qkw6ybQE6rbRH0WJxA8CqX\\u002fiQFnUCUqsDrVbGdQDYq6tiGXZ5A2KkTxrcJn0B8KT2z6LWfQI9UM9AMMaBAYBTIRiWHoEAx1Fy9Pd2gQAKU8TNWM6FA1FOGqm6JoUClExshh9+hQHbTr5efNaJASJNEDriLokAZU9mE0OGiQOoSbvvoN6NAu9ICcgGOo0CMkpfoGeSjQF1SLF8yOqRALxLB1UqQpEAA0lVMY+akQNGR6sJ7PKVAolF\\u002fOZSSpUB0ERSwrOilQETRqCbFPqZAFpE9nd2UpkDoUNIT9uqmQLgQZ4oOQadAitD7ACeXp0BbkJB3P+2nQCxQJe5XQ6hA\\u002fQ+6ZHCZqEDPz07biO+oQJ+P41GhRalAcU94yLmbqUBDDw0\\u002f0vGpQBPPobXqR6pA5Y42LAOeqkC2TsuiG\\u002fSqQIcOYBk0SqtAWM70j0ygq0AqjokGZfarQPxNHn19TKxAzA2z85WirECezUdqrvisQG+N3ODGTq1AQE1xV9+krUASDQbO9\\u002fqtQOLMmkQQUa5AtIwvuyinrkA=\"},\"yaxis\":\"y\",\"type\":\"scatter\"}],                        {\"template\":{\"data\":{\"barpolar\":[{\"marker\":{\"line\":{\"color\":\"white\",\"width\":0.5},\"pattern\":{\"fillmode\":\"overlay\",\"size\":10,\"solidity\":0.2}},\"type\":\"barpolar\"}],\"bar\":[{\"error_x\":{\"color\":\"rgb(36,36,36)\"},\"error_y\":{\"color\":\"rgb(36,36,36)\"},\"marker\":{\"line\":{\"color\":\"white\",\"width\":0.5},\"pattern\":{\"fillmode\":\"overlay\",\"size\":10,\"solidity\":0.2}},\"type\":\"bar\"}],\"carpet\":[{\"aaxis\":{\"endlinecolor\":\"rgb(36,36,36)\",\"gridcolor\":\"white\",\"linecolor\":\"white\",\"minorgridcolor\":\"white\",\"startlinecolor\":\"rgb(36,36,36)\"},\"baxis\":{\"endlinecolor\":\"rgb(36,36,36)\",\"gridcolor\":\"white\",\"linecolor\":\"white\",\"minorgridcolor\":\"white\",\"startlinecolor\":\"rgb(36,36,36)\"},\"type\":\"carpet\"}],\"choropleth\":[{\"colorbar\":{\"outlinewidth\":1,\"tickcolor\":\"rgb(36,36,36)\",\"ticks\":\"outside\"},\"type\":\"choropleth\"}],\"contourcarpet\":[{\"colorbar\":{\"outlinewidth\":1,\"tickcolor\":\"rgb(36,36,36)\",\"ticks\":\"outside\"},\"type\":\"contourcarpet\"}],\"contour\":[{\"colorbar\":{\"outlinewidth\":1,\"tickcolor\":\"rgb(36,36,36)\",\"ticks\":\"outside\"},\"colorscale\":[[0.0,\"#440154\"],[0.1111111111111111,\"#482878\"],[0.2222222222222222,\"#3e4989\"],[0.3333333333333333,\"#31688e\"],[0.4444444444444444,\"#26828e\"],[0.5555555555555556,\"#1f9e89\"],[0.6666666666666666,\"#35b779\"],[0.7777777777777778,\"#6ece58\"],[0.8888888888888888,\"#b5de2b\"],[1.0,\"#fde725\"]],\"type\":\"contour\"}],\"heatmap\":[{\"colorbar\":{\"outlinewidth\":1,\"tickcolor\":\"rgb(36,36,36)\",\"ticks\":\"outside\"},\"colorscale\":[[0.0,\"#440154\"],[0.1111111111111111,\"#482878\"],[0.2222222222222222,\"#3e4989\"],[0.3333333333333333,\"#31688e\"],[0.4444444444444444,\"#26828e\"],[0.5555555555555556,\"#1f9e89\"],[0.6666666666666666,\"#35b779\"],[0.7777777777777778,\"#6ece58\"],[0.8888888888888888,\"#b5de2b\"],[1.0,\"#fde725\"]],\"type\":\"heatmap\"}],\"histogram2dcontour\":[{\"colorbar\":{\"outlinewidth\":1,\"tickcolor\":\"rgb(36,36,36)\",\"ticks\":\"outside\"},\"colorscale\":[[0.0,\"#440154\"],[0.1111111111111111,\"#482878\"],[0.2222222222222222,\"#3e4989\"],[0.3333333333333333,\"#31688e\"],[0.4444444444444444,\"#26828e\"],[0.5555555555555556,\"#1f9e89\"],[0.6666666666666666,\"#35b779\"],[0.7777777777777778,\"#6ece58\"],[0.8888888888888888,\"#b5de2b\"],[1.0,\"#fde725\"]],\"type\":\"histogram2dcontour\"}],\"histogram2d\":[{\"colorbar\":{\"outlinewidth\":1,\"tickcolor\":\"rgb(36,36,36)\",\"ticks\":\"outside\"},\"colorscale\":[[0.0,\"#440154\"],[0.1111111111111111,\"#482878\"],[0.2222222222222222,\"#3e4989\"],[0.3333333333333333,\"#31688e\"],[0.4444444444444444,\"#26828e\"],[0.5555555555555556,\"#1f9e89\"],[0.6666666666666666,\"#35b779\"],[0.7777777777777778,\"#6ece58\"],[0.8888888888888888,\"#b5de2b\"],[1.0,\"#fde725\"]],\"type\":\"histogram2d\"}],\"histogram\":[{\"marker\":{\"line\":{\"color\":\"white\",\"width\":0.6}},\"type\":\"histogram\"}],\"mesh3d\":[{\"colorbar\":{\"outlinewidth\":1,\"tickcolor\":\"rgb(36,36,36)\",\"ticks\":\"outside\"},\"type\":\"mesh3d\"}],\"parcoords\":[{\"line\":{\"colorbar\":{\"outlinewidth\":1,\"tickcolor\":\"rgb(36,36,36)\",\"ticks\":\"outside\"}},\"type\":\"parcoords\"}],\"pie\":[{\"automargin\":true,\"type\":\"pie\"}],\"scatter3d\":[{\"line\":{\"colorbar\":{\"outlinewidth\":1,\"tickcolor\":\"rgb(36,36,36)\",\"ticks\":\"outside\"}},\"marker\":{\"colorbar\":{\"outlinewidth\":1,\"tickcolor\":\"rgb(36,36,36)\",\"ticks\":\"outside\"}},\"type\":\"scatter3d\"}],\"scattercarpet\":[{\"marker\":{\"colorbar\":{\"outlinewidth\":1,\"tickcolor\":\"rgb(36,36,36)\",\"ticks\":\"outside\"}},\"type\":\"scattercarpet\"}],\"scattergeo\":[{\"marker\":{\"colorbar\":{\"outlinewidth\":1,\"tickcolor\":\"rgb(36,36,36)\",\"ticks\":\"outside\"}},\"type\":\"scattergeo\"}],\"scattergl\":[{\"marker\":{\"colorbar\":{\"outlinewidth\":1,\"tickcolor\":\"rgb(36,36,36)\",\"ticks\":\"outside\"}},\"type\":\"scattergl\"}],\"scattermapbox\":[{\"marker\":{\"colorbar\":{\"outlinewidth\":1,\"tickcolor\":\"rgb(36,36,36)\",\"ticks\":\"outside\"}},\"type\":\"scattermapbox\"}],\"scattermap\":[{\"marker\":{\"colorbar\":{\"outlinewidth\":1,\"tickcolor\":\"rgb(36,36,36)\",\"ticks\":\"outside\"}},\"type\":\"scattermap\"}],\"scatterpolargl\":[{\"marker\":{\"colorbar\":{\"outlinewidth\":1,\"tickcolor\":\"rgb(36,36,36)\",\"ticks\":\"outside\"}},\"type\":\"scatterpolargl\"}],\"scatterpolar\":[{\"marker\":{\"colorbar\":{\"outlinewidth\":1,\"tickcolor\":\"rgb(36,36,36)\",\"ticks\":\"outside\"}},\"type\":\"scatterpolar\"}],\"scatter\":[{\"fillpattern\":{\"fillmode\":\"overlay\",\"size\":10,\"solidity\":0.2},\"type\":\"scatter\"}],\"scatterternary\":[{\"marker\":{\"colorbar\":{\"outlinewidth\":1,\"tickcolor\":\"rgb(36,36,36)\",\"ticks\":\"outside\"}},\"type\":\"scatterternary\"}],\"surface\":[{\"colorbar\":{\"outlinewidth\":1,\"tickcolor\":\"rgb(36,36,36)\",\"ticks\":\"outside\"},\"colorscale\":[[0.0,\"#440154\"],[0.1111111111111111,\"#482878\"],[0.2222222222222222,\"#3e4989\"],[0.3333333333333333,\"#31688e\"],[0.4444444444444444,\"#26828e\"],[0.5555555555555556,\"#1f9e89\"],[0.6666666666666666,\"#35b779\"],[0.7777777777777778,\"#6ece58\"],[0.8888888888888888,\"#b5de2b\"],[1.0,\"#fde725\"]],\"type\":\"surface\"}],\"table\":[{\"cells\":{\"fill\":{\"color\":\"rgb(237,237,237)\"},\"line\":{\"color\":\"white\"}},\"header\":{\"fill\":{\"color\":\"rgb(217,217,217)\"},\"line\":{\"color\":\"white\"}},\"type\":\"table\"}]},\"layout\":{\"annotationdefaults\":{\"arrowhead\":0,\"arrowwidth\":1},\"autotypenumbers\":\"strict\",\"coloraxis\":{\"colorbar\":{\"outlinewidth\":1,\"tickcolor\":\"rgb(36,36,36)\",\"ticks\":\"outside\"}},\"colorscale\":{\"diverging\":[[0.0,\"rgb(103,0,31)\"],[0.1,\"rgb(178,24,43)\"],[0.2,\"rgb(214,96,77)\"],[0.3,\"rgb(244,165,130)\"],[0.4,\"rgb(253,219,199)\"],[0.5,\"rgb(247,247,247)\"],[0.6,\"rgb(209,229,240)\"],[0.7,\"rgb(146,197,222)\"],[0.8,\"rgb(67,147,195)\"],[0.9,\"rgb(33,102,172)\"],[1.0,\"rgb(5,48,97)\"]],\"sequential\":[[0.0,\"#440154\"],[0.1111111111111111,\"#482878\"],[0.2222222222222222,\"#3e4989\"],[0.3333333333333333,\"#31688e\"],[0.4444444444444444,\"#26828e\"],[0.5555555555555556,\"#1f9e89\"],[0.6666666666666666,\"#35b779\"],[0.7777777777777778,\"#6ece58\"],[0.8888888888888888,\"#b5de2b\"],[1.0,\"#fde725\"]],\"sequentialminus\":[[0.0,\"#440154\"],[0.1111111111111111,\"#482878\"],[0.2222222222222222,\"#3e4989\"],[0.3333333333333333,\"#31688e\"],[0.4444444444444444,\"#26828e\"],[0.5555555555555556,\"#1f9e89\"],[0.6666666666666666,\"#35b779\"],[0.7777777777777778,\"#6ece58\"],[0.8888888888888888,\"#b5de2b\"],[1.0,\"#fde725\"]]},\"colorway\":[\"#91268F\",\"#8CC63E\",\"#00A7A0\",\"#F05A28\",\"#4C4C4C\",\"#630460\",\"#9f3913\",\"#588527\",\"#00716c\",\"#3e4040\"],\"font\":{\"color\":\"rgb(36,36,36)\",\"family\":\"Poppins\",\"size\":11},\"geo\":{\"bgcolor\":\"white\",\"lakecolor\":\"white\",\"landcolor\":\"white\",\"showlakes\":true,\"showland\":true,\"subunitcolor\":\"white\"},\"hoverlabel\":{\"align\":\"left\"},\"hovermode\":\"closest\",\"mapbox\":{\"style\":\"light\"},\"paper_bgcolor\":\"white\",\"plot_bgcolor\":\"white\",\"polar\":{\"angularaxis\":{\"gridcolor\":\"rgb(232,232,232)\",\"linecolor\":\"rgb(36,36,36)\",\"showgrid\":false,\"showline\":true,\"ticks\":\"outside\"},\"bgcolor\":\"white\",\"radialaxis\":{\"gridcolor\":\"rgb(232,232,232)\",\"linecolor\":\"rgb(36,36,36)\",\"showgrid\":false,\"showline\":true,\"ticks\":\"outside\"}},\"scene\":{\"xaxis\":{\"backgroundcolor\":\"white\",\"gridcolor\":\"rgb(232,232,232)\",\"gridwidth\":2,\"linecolor\":\"rgb(36,36,36)\",\"showbackground\":true,\"showgrid\":false,\"showline\":true,\"ticks\":\"outside\",\"zeroline\":false,\"zerolinecolor\":\"rgb(36,36,36)\"},\"yaxis\":{\"backgroundcolor\":\"white\",\"gridcolor\":\"rgb(232,232,232)\",\"gridwidth\":2,\"linecolor\":\"rgb(36,36,36)\",\"showbackground\":true,\"showgrid\":false,\"showline\":true,\"ticks\":\"outside\",\"zeroline\":false,\"zerolinecolor\":\"rgb(36,36,36)\"},\"zaxis\":{\"backgroundcolor\":\"white\",\"gridcolor\":\"rgb(232,232,232)\",\"gridwidth\":2,\"linecolor\":\"rgb(36,36,36)\",\"showbackground\":true,\"showgrid\":false,\"showline\":true,\"ticks\":\"outside\",\"zeroline\":false,\"zerolinecolor\":\"rgb(36,36,36)\"}},\"shapedefaults\":{\"fillcolor\":\"black\",\"line\":{\"width\":0},\"opacity\":0.3},\"ternary\":{\"aaxis\":{\"gridcolor\":\"rgb(232,232,232)\",\"linecolor\":\"rgb(36,36,36)\",\"showgrid\":false,\"showline\":true,\"ticks\":\"outside\"},\"baxis\":{\"gridcolor\":\"rgb(232,232,232)\",\"linecolor\":\"rgb(36,36,36)\",\"showgrid\":false,\"showline\":true,\"ticks\":\"outside\"},\"bgcolor\":\"white\",\"caxis\":{\"gridcolor\":\"rgb(232,232,232)\",\"linecolor\":\"rgb(36,36,36)\",\"showgrid\":false,\"showline\":true,\"ticks\":\"outside\"}},\"title\":{\"x\":0.05},\"xaxis\":{\"automargin\":true,\"gridcolor\":\"rgb(232,232,232)\",\"linecolor\":\"rgb(36,36,36)\",\"showgrid\":false,\"showline\":true,\"ticks\":\"outside\",\"title\":{\"standoff\":15},\"zeroline\":false,\"zerolinecolor\":\"rgb(36,36,36)\"},\"yaxis\":{\"automargin\":true,\"gridcolor\":\"rgb(232,232,232)\",\"linecolor\":\"rgb(36,36,36)\",\"showgrid\":false,\"showline\":true,\"ticks\":\"outside\",\"title\":{\"standoff\":15},\"zeroline\":false,\"zerolinecolor\":\"rgb(36,36,36)\"}}},\"xaxis\":{\"anchor\":\"y\",\"domain\":[0.0,1.0],\"title\":{\"text\":\"Observed\"}},\"yaxis\":{\"anchor\":\"x\",\"domain\":[0.0,1.0],\"title\":{\"text\":\"Model\"}},\"legend\":{\"tracegroupgap\":0},\"title\":{\"text\":\"Medium Trucks: Snohomish\"},\"margin\":{\"l\":100,\"r\":100,\"t\":100,\"b\":100},\"height\":600,\"width\":800,\"shapes\":[{\"line\":{\"color\":\"Red\",\"dash\":\"dash\",\"width\":2},\"type\":\"line\",\"x0\":0,\"x1\":5680,\"y0\":0,\"y1\":5680}],\"annotations\":[{\"align\":\"right\",\"font\":{\"color\":\"pink\",\"size\":12},\"showarrow\":false,\"text\":\"y = x\",\"x\":5964.0,\"y\":5964.0},{\"align\":\"right\",\"font\":{\"color\":\"black\",\"size\":12},\"showarrow\":false,\"text\":\"r^2 = 0.61\",\"x\":3032.4,\"y\":4119.75853076956}]},                        {\"responsive\": true}                    ).then(function(){\n",
       "                            \n",
       "var gd = document.getElementById('2e073406-41cb-4d70-840b-047d611c0c00');\n",
       "var x = new MutationObserver(function (mutations, observer) {{\n",
       "        var display = window.getComputedStyle(gd).display;\n",
       "        if (!display || display === 'none') {{\n",
       "            console.log([gd, 'removed!']);\n",
       "            Plotly.purge(gd);\n",
       "            observer.disconnect();\n",
       "        }}\n",
       "}});\n",
       "\n",
       "// Listen for the removal of the full notebook cells\n",
       "var notebookContainer = gd.closest('#notebook-container');\n",
       "if (notebookContainer) {{\n",
       "    x.observe(notebookContainer, {childList: true});\n",
       "}}\n",
       "\n",
       "// Listen for the clearing of the current output cell\n",
       "var outputEl = gd.closest('.output');\n",
       "if (outputEl) {{\n",
       "    x.observe(outputEl, {childList: true});\n",
       "}}\n",
       "\n",
       "                        })                };            </script>        </div>"
      ]
     },
     "metadata": {},
     "output_type": "display_data"
    }
   ],
   "source": [
    "fig = create_truck_chart(df_daily_med, 'Medium', 'Snohomish')\n",
    "fig.show()"
   ]
  },
  {
   "cell_type": "raw",
   "id": "2e93c7ef",
   "metadata": {},
   "source": [
    ":::"
   ]
  }
 ],
 "metadata": {
  "kernelspec": {
   "display_name": "summary",
   "language": "python",
   "name": "python3"
  },
  "language_info": {
   "codemirror_mode": {
    "name": "ipython",
    "version": 3
   },
   "file_extension": ".py",
   "mimetype": "text/x-python",
   "name": "python",
   "nbconvert_exporter": "python",
   "pygments_lexer": "ipython3",
   "version": "3.11.0"
  }
 },
 "nbformat": 4,
 "nbformat_minor": 5
}
