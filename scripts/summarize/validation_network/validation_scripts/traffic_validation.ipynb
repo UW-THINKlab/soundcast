{
 "cells": [
  {
   "cell_type": "raw",
   "id": "35d0934ac2ce2456",
   "metadata": {},
   "source": [
    "---\n",
    "title: \"Traffic Summary\"\n",
    "date: today\n",
    "---"
   ]
  },
  {
   "cell_type": "code",
   "execution_count": 1,
   "id": "3c1a81e12086b602",
   "metadata": {
    "ExecuteTime": {
     "end_time": "2024-06-24T21:13:24.907193Z",
     "start_time": "2024-06-24T21:13:21.750667Z"
    },
    "execution": {
     "iopub.execute_input": "2024-06-24T21:55:40.573343Z",
     "iopub.status.busy": "2024-06-24T21:55:40.573343Z",
     "iopub.status.idle": "2024-06-24T21:55:44.494756Z",
     "shell.execute_reply": "2024-06-24T21:55:44.494756Z"
    }
   },
   "outputs": [],
   "source": [
    "import os\n",
    "import pandas as pd\n",
    "import numpy as np\n",
    "import h5py\n",
    "from sqlalchemy import create_engine\n",
    "from scipy import stats\n",
    "import plotly.express as px\n",
    "import toml\n",
    "import psrc_theme\n",
    "\n",
    "%matplotlib inline\n",
    "from IPython.display import display, HTML\n",
    "\n",
    "# to show plotly figures in quarto HTML file\n",
    "import plotly.io as pio\n",
    "pio.renderers.default = \"plotly_mimetype+notebook_connected\"\n",
    "pio.templates.default = \"simple_white+psrc_color\" # set plotly template\n",
    "\n",
    "input_config = toml.load(os.path.join(os.getcwd(), '..\\\\..\\\\..\\\\..\\\\configuration', 'input_configuration.toml'))\n",
    "valid_config = toml.load(os.path.join(os.getcwd(), '..\\\\..\\\\..\\\\..\\\\configuration', 'validation_configuration.toml'))\n",
    "emme_config = toml.load(os.path.join(os.getcwd(), '..\\\\..\\\\..\\\\..\\\\configuration','emme_configuration.toml'))\n",
    "network_config = toml.load(os.path.join(os.getcwd(), '..\\\\..\\\\..\\\\..\\\\configuration','network_configuration.toml'))\n",
    "\n",
    "# create connection\n",
    "conn = create_engine('sqlite:///../../../../inputs/db/'+input_config['db_name'])\n",
    "\n",
    "# summary data location\n",
    "csv_path = os.path.join(valid_config['model_dir'], 'outputs/validation')\n",
    "\n",
    "# table format\n",
    "pd.options.display.float_format = '{:0,.0f}'.format\n",
    "format_percent = \"{:,.1%}\".format"
   ]
  },
  {
   "cell_type": "markdown",
   "id": "fa9bc0cb",
   "metadata": {},
   "source": [
    "## VMT"
   ]
  },
  {
   "cell_type": "raw",
   "id": "b1e21be6",
   "metadata": {},
   "source": [
    ":::{.panel-tabset}\n",
    "### VMT\n",
    "VMT for model links, including some externals that cross outside region"
   ]
  },
  {
   "cell_type": "code",
   "execution_count": 2,
   "id": "75471d8c",
   "metadata": {},
   "outputs": [
    {
     "data": {
      "text/html": [
       "<div>\n",
       "<style scoped>\n",
       "    .dataframe tbody tr th:only-of-type {\n",
       "        vertical-align: middle;\n",
       "    }\n",
       "\n",
       "    .dataframe tbody tr th {\n",
       "        vertical-align: top;\n",
       "    }\n",
       "\n",
       "    .dataframe thead th {\n",
       "        text-align: right;\n",
       "    }\n",
       "</style>\n",
       "<table border=\"1\" class=\"dataframe\">\n",
       "  <thead>\n",
       "    <tr style=\"text-align: right;\">\n",
       "      <th></th>\n",
       "      <th>VMT</th>\n",
       "      <th>VHT</th>\n",
       "      <th>delay</th>\n",
       "    </tr>\n",
       "    <tr>\n",
       "      <th>county_name</th>\n",
       "      <th></th>\n",
       "      <th></th>\n",
       "      <th></th>\n",
       "    </tr>\n",
       "  </thead>\n",
       "  <tbody>\n",
       "    <tr>\n",
       "      <th>King</th>\n",
       "      <td>43,695,745</td>\n",
       "      <td>1,381,658</td>\n",
       "      <td>162,863</td>\n",
       "    </tr>\n",
       "    <tr>\n",
       "      <th>Kitsap</th>\n",
       "      <td>4,287,861</td>\n",
       "      <td>125,737</td>\n",
       "      <td>2,428</td>\n",
       "    </tr>\n",
       "    <tr>\n",
       "      <th>Outside Region</th>\n",
       "      <td>334,038</td>\n",
       "      <td>6,439</td>\n",
       "      <td>4</td>\n",
       "    </tr>\n",
       "    <tr>\n",
       "      <th>Pierce</th>\n",
       "      <td>18,575,335</td>\n",
       "      <td>563,365</td>\n",
       "      <td>43,884</td>\n",
       "    </tr>\n",
       "    <tr>\n",
       "      <th>Snohomish</th>\n",
       "      <td>16,579,059</td>\n",
       "      <td>492,717</td>\n",
       "      <td>37,435</td>\n",
       "    </tr>\n",
       "    <tr>\n",
       "      <th>Total</th>\n",
       "      <td>83,472,039</td>\n",
       "      <td>2,569,915</td>\n",
       "      <td>246,614</td>\n",
       "    </tr>\n",
       "  </tbody>\n",
       "</table>\n",
       "</div>"
      ],
      "text/plain": [
       "                      VMT       VHT   delay\n",
       "county_name                                \n",
       "King           43,695,745 1,381,658 162,863\n",
       "Kitsap          4,287,861   125,737   2,428\n",
       "Outside Region    334,038     6,439       4\n",
       "Pierce         18,575,335   563,365  43,884\n",
       "Snohomish      16,579,059   492,717  37,435\n",
       "Total          83,472,039 2,569,915 246,614"
      ]
     },
     "execution_count": 2,
     "metadata": {},
     "output_type": "execute_result"
    }
   ],
   "source": [
    "df = pd.read_csv(os.path.join(valid_config['model_dir'], r'outputs/network/county_network.csv'))\n",
    "df.index = df.county_name\n",
    "df.loc['Total',:] = df.sum().values\n",
    "df = df[['VMT','VHT','delay']]\n",
    "df"
   ]
  },
  {
   "cell_type": "raw",
   "id": "3354f05c",
   "metadata": {},
   "source": [
    "Model VMT versus county-level HPMS data"
   ]
  },
  {
   "cell_type": "code",
   "execution_count": 3,
   "id": "f0081206",
   "metadata": {},
   "outputs": [
    {
     "data": {
      "text/html": [
       "<div>\n",
       "<style scoped>\n",
       "    .dataframe tbody tr th:only-of-type {\n",
       "        vertical-align: middle;\n",
       "    }\n",
       "\n",
       "    .dataframe tbody tr th {\n",
       "        vertical-align: top;\n",
       "    }\n",
       "\n",
       "    .dataframe thead th {\n",
       "        text-align: right;\n",
       "    }\n",
       "</style>\n",
       "<table border=\"1\" class=\"dataframe\">\n",
       "  <thead>\n",
       "    <tr style=\"text-align: right;\">\n",
       "      <th></th>\n",
       "      <th>model</th>\n",
       "      <th>observed</th>\n",
       "      <th>% diff</th>\n",
       "    </tr>\n",
       "    <tr>\n",
       "      <th>county</th>\n",
       "      <th></th>\n",
       "      <th></th>\n",
       "      <th></th>\n",
       "    </tr>\n",
       "  </thead>\n",
       "  <tbody>\n",
       "    <tr>\n",
       "      <th>King</th>\n",
       "      <td>43,695,745</td>\n",
       "      <td>43,820,112</td>\n",
       "      <td>-0.3%</td>\n",
       "    </tr>\n",
       "    <tr>\n",
       "      <th>Kitsap</th>\n",
       "      <td>4,287,861</td>\n",
       "      <td>4,840,030</td>\n",
       "      <td>-11.4%</td>\n",
       "    </tr>\n",
       "    <tr>\n",
       "      <th>Pierce</th>\n",
       "      <td>18,575,335</td>\n",
       "      <td>17,994,803</td>\n",
       "      <td>3.2%</td>\n",
       "    </tr>\n",
       "    <tr>\n",
       "      <th>Snohomish</th>\n",
       "      <td>16,579,059</td>\n",
       "      <td>15,825,794</td>\n",
       "      <td>4.8%</td>\n",
       "    </tr>\n",
       "    <tr>\n",
       "      <th>Total</th>\n",
       "      <td>83,138,000</td>\n",
       "      <td>82,480,739</td>\n",
       "      <td>0.8%</td>\n",
       "    </tr>\n",
       "  </tbody>\n",
       "</table>\n",
       "</div>"
      ],
      "text/plain": [
       "               model   observed  % diff\n",
       "county                                 \n",
       "King      43,695,745 43,820,112   -0.3%\n",
       "Kitsap     4,287,861  4,840,030  -11.4%\n",
       "Pierce    18,575,335 17,994,803    3.2%\n",
       "Snohomish 16,579,059 15,825,794    4.8%\n",
       "Total     83,138,000 82,480,739    0.8%"
      ]
     },
     "execution_count": 3,
     "metadata": {},
     "output_type": "execute_result"
    }
   ],
   "source": [
    "df = pd.read_csv(os.path.join(valid_config['model_dir'], r'outputs/network/county_network.csv'))\n",
    "\n",
    "df_obs = pd.read_sql(\"SELECT * FROM observed_vmt WHERE year=\"+str(input_config['base_year']), con=conn)\n",
    "df_obs.rename(columns={'vmt': 'observed'}, inplace=True)\n",
    "\n",
    "df = df[['county_name','VMT']].merge(df_obs, left_on='county_name', right_on='county')\n",
    "df.rename(columns={'VMT': 'model'}, inplace=True)\n",
    "df.index = df['county']\n",
    "df[['observed','model']] = df[['observed','model']].astype('float')\n",
    "\n",
    "df.loc['Total',:] = df.sum().values\n",
    "\n",
    "df['% diff'] = (df['model']-df['observed'])/df['observed']\n",
    "df[['% diff']] = df[['% diff']].applymap(format_percent)\n",
    "df[['model','observed','% diff']]"
   ]
  },
  {
   "cell_type": "raw",
   "id": "12e1740a",
   "metadata": {},
   "source": [
    ":::"
   ]
  },
  {
   "cell_type": "markdown",
   "id": "916da9b1c4cbd6da",
   "metadata": {},
   "source": [
    "## Daily Traffic Counts"
   ]
  },
  {
   "cell_type": "raw",
   "id": "9ab84874b18330bc",
   "metadata": {},
   "source": [
    ":::{.panel-tabset}\n",
    "### traffic by facility type"
   ]
  },
  {
   "cell_type": "code",
   "execution_count": 4,
   "id": "3d0602498872d993",
   "metadata": {
    "ExecuteTime": {
     "end_time": "2024-06-24T21:13:27.250795Z",
     "start_time": "2024-06-24T21:13:26.984996Z"
    },
    "execution": {
     "iopub.execute_input": "2024-06-24T21:55:44.494756Z",
     "iopub.status.busy": "2024-06-24T21:55:44.494756Z",
     "iopub.status.idle": "2024-06-24T21:55:44.713484Z",
     "shell.execute_reply": "2024-06-24T21:55:44.713484Z"
    }
   },
   "outputs": [
    {
     "data": {
      "text/html": [
       "<div>\n",
       "<style scoped>\n",
       "    .dataframe tbody tr th:only-of-type {\n",
       "        vertical-align: middle;\n",
       "    }\n",
       "\n",
       "    .dataframe tbody tr th {\n",
       "        vertical-align: top;\n",
       "    }\n",
       "\n",
       "    .dataframe thead th {\n",
       "        text-align: right;\n",
       "    }\n",
       "</style>\n",
       "<table border=\"1\" class=\"dataframe\">\n",
       "  <thead>\n",
       "    <tr style=\"text-align: right;\">\n",
       "      <th></th>\n",
       "      <th>observed</th>\n",
       "      <th>modeled</th>\n",
       "      <th>diff</th>\n",
       "      <th>percent_diff</th>\n",
       "    </tr>\n",
       "    <tr>\n",
       "      <th>@facilitytype</th>\n",
       "      <th></th>\n",
       "      <th></th>\n",
       "      <th></th>\n",
       "      <th></th>\n",
       "    </tr>\n",
       "  </thead>\n",
       "  <tbody>\n",
       "    <tr>\n",
       "      <th>Arterial</th>\n",
       "      <td>13,095,011</td>\n",
       "      <td>13,632,477</td>\n",
       "      <td>537,466</td>\n",
       "      <td>4.1%</td>\n",
       "    </tr>\n",
       "    <tr>\n",
       "      <th>Collector</th>\n",
       "      <td>72,096</td>\n",
       "      <td>83,041</td>\n",
       "      <td>10,945</td>\n",
       "      <td>15.2%</td>\n",
       "    </tr>\n",
       "    <tr>\n",
       "      <th>Freeway</th>\n",
       "      <td>46,403,290</td>\n",
       "      <td>45,007,552</td>\n",
       "      <td>-1,395,738</td>\n",
       "      <td>-3.0%</td>\n",
       "    </tr>\n",
       "    <tr>\n",
       "      <th>HOV</th>\n",
       "      <td>246,054</td>\n",
       "      <td>275,711</td>\n",
       "      <td>29,657</td>\n",
       "      <td>12.1%</td>\n",
       "    </tr>\n",
       "    <tr>\n",
       "      <th>Ramp</th>\n",
       "      <td>334,132</td>\n",
       "      <td>250,575</td>\n",
       "      <td>-83,557</td>\n",
       "      <td>-25.0%</td>\n",
       "    </tr>\n",
       "    <tr>\n",
       "      <th>Total</th>\n",
       "      <td>60,150,583</td>\n",
       "      <td>59,249,356</td>\n",
       "      <td>-901,227</td>\n",
       "      <td>-1.5%</td>\n",
       "    </tr>\n",
       "  </tbody>\n",
       "</table>\n",
       "</div>"
      ],
      "text/plain": [
       "                observed    modeled       diff percent_diff\n",
       "@facilitytype                                              \n",
       "Arterial      13,095,011 13,632,477    537,466         4.1%\n",
       "Collector         72,096     83,041     10,945        15.2%\n",
       "Freeway       46,403,290 45,007,552 -1,395,738        -3.0%\n",
       "HOV              246,054    275,711     29,657        12.1%\n",
       "Ramp             334,132    250,575    -83,557       -25.0%\n",
       "Total         60,150,583 59,249,356   -901,227        -1.5%"
      ]
     },
     "execution_count": 4,
     "metadata": {},
     "output_type": "execute_result"
    }
   ],
   "source": [
    "df = pd.read_csv(os.path.join(csv_path, 'daily_volume.csv'))\n",
    "df[['modeled', 'observed']] = df[['modeled', 'observed']].astype('float')\n",
    "_df = df.groupby('@facilitytype').sum()[['observed', 'modeled']]\n",
    "_df.loc['Total', :] = _df.sum().values\n",
    "_df['diff'] = _df['modeled'] - _df['observed']\n",
    "_df['percent_diff'] = _df['diff'] / _df['observed']\n",
    "_df[['percent_diff']] = _df[['percent_diff']].applymap(format_percent)\n",
    "_df"
   ]
  },
  {
   "cell_type": "raw",
   "id": "318ed515b29396d1",
   "metadata": {},
   "source": [
    "### traffic by county"
   ]
  },
  {
   "cell_type": "code",
   "execution_count": 5,
   "id": "a9e08108f2b1ff34",
   "metadata": {
    "ExecuteTime": {
     "end_time": "2024-06-24T21:14:07.016217Z",
     "start_time": "2024-06-24T21:14:06.922235Z"
    },
    "execution": {
     "iopub.execute_input": "2024-06-24T21:55:44.713484Z",
     "iopub.status.busy": "2024-06-24T21:55:44.713484Z",
     "iopub.status.idle": "2024-06-24T21:55:44.776571Z",
     "shell.execute_reply": "2024-06-24T21:55:44.776571Z"
    }
   },
   "outputs": [
    {
     "data": {
      "text/html": [
       "<div>\n",
       "<style scoped>\n",
       "    .dataframe tbody tr th:only-of-type {\n",
       "        vertical-align: middle;\n",
       "    }\n",
       "\n",
       "    .dataframe tbody tr th {\n",
       "        vertical-align: top;\n",
       "    }\n",
       "\n",
       "    .dataframe thead th {\n",
       "        text-align: right;\n",
       "    }\n",
       "</style>\n",
       "<table border=\"1\" class=\"dataframe\">\n",
       "  <thead>\n",
       "    <tr style=\"text-align: right;\">\n",
       "      <th></th>\n",
       "      <th>observed</th>\n",
       "      <th>modeled</th>\n",
       "      <th>diff</th>\n",
       "      <th>percent_diff</th>\n",
       "    </tr>\n",
       "    <tr>\n",
       "      <th>county</th>\n",
       "      <th></th>\n",
       "      <th></th>\n",
       "      <th></th>\n",
       "      <th></th>\n",
       "    </tr>\n",
       "  </thead>\n",
       "  <tbody>\n",
       "    <tr>\n",
       "      <th>King</th>\n",
       "      <td>32,134,196</td>\n",
       "      <td>32,474,179</td>\n",
       "      <td>339,983</td>\n",
       "      <td>1.1%</td>\n",
       "    </tr>\n",
       "    <tr>\n",
       "      <th>Kitsap</th>\n",
       "      <td>3,636,120</td>\n",
       "      <td>2,797,967</td>\n",
       "      <td>-838,153</td>\n",
       "      <td>-23.1%</td>\n",
       "    </tr>\n",
       "    <tr>\n",
       "      <th>Pierce</th>\n",
       "      <td>12,521,561</td>\n",
       "      <td>12,588,216</td>\n",
       "      <td>66,655</td>\n",
       "      <td>0.5%</td>\n",
       "    </tr>\n",
       "    <tr>\n",
       "      <th>Snohomish</th>\n",
       "      <td>11,858,706</td>\n",
       "      <td>11,388,994</td>\n",
       "      <td>-469,712</td>\n",
       "      <td>-4.0%</td>\n",
       "    </tr>\n",
       "    <tr>\n",
       "      <th>Total</th>\n",
       "      <td>60,150,583</td>\n",
       "      <td>59,249,356</td>\n",
       "      <td>-901,227</td>\n",
       "      <td>-1.5%</td>\n",
       "    </tr>\n",
       "  </tbody>\n",
       "</table>\n",
       "</div>"
      ],
      "text/plain": [
       "            observed    modeled     diff percent_diff\n",
       "county                                               \n",
       "King      32,134,196 32,474,179  339,983         1.1%\n",
       "Kitsap     3,636,120  2,797,967 -838,153       -23.1%\n",
       "Pierce    12,521,561 12,588,216   66,655         0.5%\n",
       "Snohomish 11,858,706 11,388,994 -469,712        -4.0%\n",
       "Total     60,150,583 59,249,356 -901,227        -1.5%"
      ]
     },
     "execution_count": 5,
     "metadata": {},
     "output_type": "execute_result"
    }
   ],
   "source": [
    "df = pd.read_csv(os.path.join(csv_path,'daily_volume_county_facility.csv'))\n",
    "df[['modeled','observed']] = df[['modeled','observed']].astype('float')\n",
    "\n",
    "_df = df.groupby('county').sum()[['observed','modeled']]\n",
    "_df.loc['Total',:] = _df.sum().values\n",
    "_df['diff'] = _df['modeled']-_df['observed']\n",
    "_df['percent_diff'] = _df['diff']/_df['observed']\n",
    "_df[['percent_diff']] = _df[['percent_diff']].applymap(format_percent)\n",
    "_df"
   ]
  },
  {
   "cell_type": "raw",
   "id": "4cbb7796cba1fac",
   "metadata": {},
   "source": [
    ":::"
   ]
  },
  {
   "cell_type": "markdown",
   "id": "1ed4a57b3001060f",
   "metadata": {},
   "source": [
    "## Daily Traffic Scatterplot"
   ]
  },
  {
   "cell_type": "raw",
   "id": "4769a675e263f0c4",
   "metadata": {},
   "source": [
    ":::{.panel-tabset}\n",
    "\n",
    "### all roads"
   ]
  },
  {
   "cell_type": "code",
   "execution_count": 6,
   "id": "2030adc6c52f8ab9",
   "metadata": {
    "ExecuteTime": {
     "end_time": "2024-06-24T21:40:18.699723Z",
     "start_time": "2024-06-24T21:40:18.277822Z"
    },
    "execution": {
     "iopub.execute_input": "2024-06-24T21:55:44.776571Z",
     "iopub.status.busy": "2024-06-24T21:55:44.776571Z",
     "iopub.status.idle": "2024-06-24T21:55:45.353957Z",
     "shell.execute_reply": "2024-06-24T21:55:45.353957Z"
    }
   },
   "outputs": [
    {
     "data": {
      "text/plain": [
       "[<matplotlib.lines.Line2D at 0x15783cf9fc8>]"
      ]
     },
     "execution_count": 6,
     "metadata": {},
     "output_type": "execute_result"
    },
    {
     "data": {
      "image/png": "[encoded data removed]",
      "text/plain": [
       "<Figure size 432x288 with 1 Axes>"
      ]
     },
     "metadata": {
      "needs_background": "light"
     },
     "output_type": "display_data"
    }
   ],
   "source": [
    "df = pd.read_csv(os.path.join(csv_path,'daily_volume.csv'))\n",
    "ax = df.plot(kind='scatter', x='observed', y='modeled')\n",
    "lim = df[['observed','modeled']].max().max()*1.05\n",
    "ax.set_ylim(0,lim)\n",
    "ax.set_xlim(0,lim)\n",
    "x = np.linspace(*ax.get_xlim())\n",
    "ax.plot(x, x)"
   ]
  },
  {
   "cell_type": "code",
   "execution_count": 7,
   "id": "4121d8204203b7a1",
   "metadata": {
    "ExecuteTime": {
     "end_time": "2024-06-24T21:40:35.668359Z",
     "start_time": "2024-06-24T21:40:35.652845Z"
    },
    "execution": {
     "iopub.execute_input": "2024-06-24T21:55:45.370254Z",
     "iopub.status.busy": "2024-06-24T21:55:45.369735Z",
     "iopub.status.idle": "2024-06-24T21:55:45.400891Z",
     "shell.execute_reply": "2024-06-24T21:55:45.400891Z"
    }
   },
   "outputs": [
    {
     "name": "stdout",
     "output_type": "stream",
     "text": [
      "r^2: 0.9606714136686821\n"
     ]
    }
   ],
   "source": [
    "slope, intercept, r_value, p_value, std_err = stats.linregress(df['observed'],df['modeled'])\n",
    "print('r^2: ' + str(r_value))"
   ]
  },
  {
   "cell_type": "raw",
   "id": "1cf84d74ba6e5dcb",
   "metadata": {},
   "source": [
    "### by county"
   ]
  },
  {
   "cell_type": "code",
   "execution_count": 8,
   "id": "ed6c7a6a78b76539",
   "metadata": {
    "ExecuteTime": {
     "end_time": "2024-06-24T21:41:13.949480Z",
     "start_time": "2024-06-24T21:41:13.122059Z"
    },
    "execution": {
     "iopub.execute_input": "2024-06-24T21:55:45.400891Z",
     "iopub.status.busy": "2024-06-24T21:55:45.400891Z",
     "iopub.status.idle": "2024-06-24T21:55:46.932020Z",
     "shell.execute_reply": "2024-06-24T21:55:46.932020Z"
    }
   },
   "outputs": [
    {
     "name": "stdout",
     "output_type": "stream",
     "text": [
      "King r^2: 0.9616597283205375\n",
      "Kitsap r^2: 0.9644267317473775\n",
      "Pierce r^2: 0.9641945249416675\n",
      "Snohomish r^2: 0.9491838682530531\n"
     ]
    },
    {
     "data": {
      "image/png": "[encoded data removed]",
      "text/plain": [
       "<Figure size 432x288 with 1 Axes>"
      ]
     },
     "metadata": {
      "needs_background": "light"
     },
     "output_type": "display_data"
    },
    {
     "data": {
      "image/png": "[encoded data removed]",
      "text/plain": [
       "<Figure size 432x288 with 1 Axes>"
      ]
     },
     "metadata": {
      "needs_background": "light"
     },
     "output_type": "display_data"
    },
    {
     "data": {
      "image/png": "[encoded data removed]",
      "text/plain": [
       "<Figure size 432x288 with 1 Axes>"
      ]
     },
     "metadata": {
      "needs_background": "light"
     },
     "output_type": "display_data"
    },
    {
     "data": {
      "image/png": "[encoded data removed]",
      "text/plain": [
       "<Figure size 432x288 with 1 Axes>"
      ]
     },
     "metadata": {
      "needs_background": "light"
     },
     "output_type": "display_data"
    }
   ],
   "source": [
    "for county in np.unique(df['county']):\n",
    "    _df = df[df['county'] == county]\n",
    "    ax = _df.plot(kind='scatter', x='observed', y='modeled', label=county)\n",
    "    lim = _df[['observed','modeled']].max().max()*1.05\n",
    "    ax.set_ylim(0,lim)\n",
    "    ax.set_xlim(0,lim)\n",
    "    slope, intercept, r_value, p_value, std_err = stats.linregress(_df['observed'],_df['modeled'])\n",
    "    x = np.linspace(*ax.get_xlim())\n",
    "    ax.plot(x, x)\n",
    "    print(str(county) + ' r^2: ' + str(r_value))"
   ]
  },
  {
   "cell_type": "raw",
   "id": "33fd1eaf4a4116cd",
   "metadata": {},
   "source": [
    "### by facility type"
   ]
  },
  {
   "cell_type": "code",
   "execution_count": 9,
   "id": "d56f85ef",
   "metadata": {},
   "outputs": [
    {
     "data": {
      "text/plain": [
       "array(['Freeway', 'Ramp', 'HOV', 'Arterial', 'Collector'], dtype=object)"
      ]
     },
     "execution_count": 9,
     "metadata": {},
     "output_type": "execute_result"
    }
   ],
   "source": [
    "df['@facilitytype'].unique()"
   ]
  },
  {
   "cell_type": "code",
   "execution_count": 10,
   "id": "4439d4607f364b6d",
   "metadata": {
    "ExecuteTime": {
     "end_time": "2024-06-24T21:41:37.621816Z",
     "start_time": "2024-06-24T21:41:37.152840Z"
    },
    "execution": {
     "iopub.execute_input": "2024-06-24T21:55:46.947599Z",
     "iopub.status.busy": "2024-06-24T21:55:46.947599Z",
     "iopub.status.idle": "2024-06-24T21:55:47.776595Z",
     "shell.execute_reply": "2024-06-24T21:55:47.776595Z"
    }
   },
   "outputs": [
    {
     "name": "stdout",
     "output_type": "stream",
     "text": [
      "r^2 Freeway: 0.950882275269658\n"
     ]
    },
    {
     "data": {
      "image/png": "[encoded data removed]",
      "text/plain": [
       "<Figure size 432x288 with 1 Axes>"
      ]
     },
     "metadata": {
      "needs_background": "light"
     },
     "output_type": "display_data"
    }
   ],
   "source": [
    "# for factype in ['Freeway','Arterial']:\n",
    "for factype in ['Freeway']:\n",
    "    _df = df[df['@facilitytype'] == factype]\n",
    "    ax = _df.plot(kind='scatter', x='observed', y='modeled', label=factype)\n",
    "    lim = _df[['observed','modeled']].max().max()*1.05\n",
    "    ax.set_ylim(0,lim)\n",
    "    ax.set_xlim(0,lim)\n",
    "    x = np.linspace(*ax.get_xlim())\n",
    "    ax.plot(x, x)\n",
    "    slope, intercept, r_value, p_value, std_err = stats.linregress(_df['observed'],_df['modeled'])\n",
    "    print('r^2 ' + str(factype) + ': ' + str(r_value))"
   ]
  },
  {
   "cell_type": "raw",
   "id": "95fc70f3fe7ad579",
   "metadata": {},
   "source": [
    ":::"
   ]
  },
  {
   "cell_type": "code",
   "execution_count": 11,
   "id": "25272c3f",
   "metadata": {},
   "outputs": [],
   "source": [
    "## hourly volumnes"
   ]
  },
  {
   "cell_type": "code",
   "execution_count": 12,
   "id": "2c7cb227ac728135",
   "metadata": {
    "ExecuteTime": {
     "end_time": "2024-06-24T21:42:50.230565Z",
     "start_time": "2024-06-24T21:42:49.902592Z"
    },
    "execution": {
     "iopub.execute_input": "2024-06-24T21:55:47.791669Z",
     "iopub.status.busy": "2024-06-24T21:55:47.791669Z",
     "iopub.status.idle": "2024-06-24T21:55:48.385801Z",
     "shell.execute_reply": "2024-06-24T21:55:48.385801Z"
    }
   },
   "outputs": [],
   "source": [
    "# df = pd.read_csv(os.path.join(csv_path,'hourly_volume.csv'))\n",
    "# ax = df.plot(kind='scatter', x='observed', y='modeled')\n",
    "# lim = df[['observed','modeled']].max().max()*1.05\n",
    "# ax.set_ylim(0,lim)\n",
    "# ax.set_xlim(0,lim)\n",
    "# x = np.linspace(*ax.get_xlim())\n",
    "# ax.plot(x, x)\n",
    "# slope, intercept, r_value, p_value, std_err = stats.linregress(df['observed'],df['modeled'])\n",
    "# print('r^2: ' + str(r_value))"
   ]
  },
  {
   "cell_type": "markdown",
   "id": "570811475e66e98d",
   "metadata": {},
   "source": [
    "## Screenlines"
   ]
  },
  {
   "cell_type": "code",
   "execution_count": 13,
   "id": "6ee15d11aa23ee15",
   "metadata": {
    "ExecuteTime": {
     "end_time": "2024-06-24T21:43:33.293169Z",
     "start_time": "2024-06-24T21:43:33.194667Z"
    },
    "execution": {
     "iopub.execute_input": "2024-06-24T21:55:48.402354Z",
     "iopub.status.busy": "2024-06-24T21:55:48.402044Z",
     "iopub.status.idle": "2024-06-24T21:55:48.510823Z",
     "shell.execute_reply": "2024-06-24T21:55:48.510203Z"
    }
   },
   "outputs": [
    {
     "data": {
      "text/html": [
       "<div>\n",
       "<style scoped>\n",
       "    .dataframe tbody tr th:only-of-type {\n",
       "        vertical-align: middle;\n",
       "    }\n",
       "\n",
       "    .dataframe tbody tr th {\n",
       "        vertical-align: top;\n",
       "    }\n",
       "\n",
       "    .dataframe thead th {\n",
       "        text-align: right;\n",
       "    }\n",
       "</style>\n",
       "<table border=\"1\" class=\"dataframe\">\n",
       "  <thead>\n",
       "    <tr style=\"text-align: right;\">\n",
       "      <th></th>\n",
       "      <th>name</th>\n",
       "      <th>observed</th>\n",
       "      <th>modeled</th>\n",
       "      <th>county</th>\n",
       "      <th>diff</th>\n",
       "      <th>percent_diff</th>\n",
       "    </tr>\n",
       "  </thead>\n",
       "  <tbody>\n",
       "    <tr>\n",
       "      <th>0</th>\n",
       "      <td>AUBURN - SOUTH KING</td>\n",
       "      <td>592,476</td>\n",
       "      <td>512,610</td>\n",
       "      <td>King</td>\n",
       "      <td>-79,866</td>\n",
       "      <td>-13.5%</td>\n",
       "    </tr>\n",
       "    <tr>\n",
       "      <th>1</th>\n",
       "      <td>KENT</td>\n",
       "      <td>559,335</td>\n",
       "      <td>473,749</td>\n",
       "      <td>King</td>\n",
       "      <td>-85,586</td>\n",
       "      <td>-15.3%</td>\n",
       "    </tr>\n",
       "    <tr>\n",
       "      <th>2</th>\n",
       "      <td>SHIP CANAL</td>\n",
       "      <td>480,070</td>\n",
       "      <td>493,592</td>\n",
       "      <td>King</td>\n",
       "      <td>13,522</td>\n",
       "      <td>2.8%</td>\n",
       "    </tr>\n",
       "    <tr>\n",
       "      <th>3</th>\n",
       "      <td>SEATTLE - SOUTH OF CBD</td>\n",
       "      <td>473,322</td>\n",
       "      <td>468,610</td>\n",
       "      <td>King</td>\n",
       "      <td>-4,712</td>\n",
       "      <td>-1.0%</td>\n",
       "    </tr>\n",
       "    <tr>\n",
       "      <th>4</th>\n",
       "      <td>MILL CREEK</td>\n",
       "      <td>391,447</td>\n",
       "      <td>372,717</td>\n",
       "      <td>King</td>\n",
       "      <td>-18,730</td>\n",
       "      <td>-4.8%</td>\n",
       "    </tr>\n",
       "    <tr>\n",
       "      <th>5</th>\n",
       "      <td>SOUTH BELLEVUE</td>\n",
       "      <td>389,700</td>\n",
       "      <td>363,607</td>\n",
       "      <td>King</td>\n",
       "      <td>-26,093</td>\n",
       "      <td>-6.7%</td>\n",
       "    </tr>\n",
       "    <tr>\n",
       "      <th>6</th>\n",
       "      <td>KIRKLAND-REDMOND</td>\n",
       "      <td>381,663</td>\n",
       "      <td>373,012</td>\n",
       "      <td>King</td>\n",
       "      <td>-8,651</td>\n",
       "      <td>-2.3%</td>\n",
       "    </tr>\n",
       "    <tr>\n",
       "      <th>7</th>\n",
       "      <td>SEATTLE - NORTH</td>\n",
       "      <td>356,051</td>\n",
       "      <td>344,757</td>\n",
       "      <td>King</td>\n",
       "      <td>-11,294</td>\n",
       "      <td>-3.2%</td>\n",
       "    </tr>\n",
       "    <tr>\n",
       "      <th>8</th>\n",
       "      <td>TACOMA - EAST OF CBD</td>\n",
       "      <td>324,463</td>\n",
       "      <td>336,081</td>\n",
       "      <td>Pierce</td>\n",
       "      <td>11,618</td>\n",
       "      <td>3.6%</td>\n",
       "    </tr>\n",
       "    <tr>\n",
       "      <th>9</th>\n",
       "      <td>PARKLAND</td>\n",
       "      <td>299,722</td>\n",
       "      <td>263,472</td>\n",
       "      <td>Pierce</td>\n",
       "      <td>-36,250</td>\n",
       "      <td>-12.1%</td>\n",
       "    </tr>\n",
       "    <tr>\n",
       "      <th>10</th>\n",
       "      <td>BOTHELL</td>\n",
       "      <td>291,573</td>\n",
       "      <td>341,733</td>\n",
       "      <td>King</td>\n",
       "      <td>50,160</td>\n",
       "      <td>17.2%</td>\n",
       "    </tr>\n",
       "    <tr>\n",
       "      <th>11</th>\n",
       "      <td>LYNNWOOD-BOTHELL</td>\n",
       "      <td>260,099</td>\n",
       "      <td>308,303</td>\n",
       "      <td>King</td>\n",
       "      <td>48,204</td>\n",
       "      <td>18.5%</td>\n",
       "    </tr>\n",
       "    <tr>\n",
       "      <th>12</th>\n",
       "      <td>TUKWILA</td>\n",
       "      <td>257,776</td>\n",
       "      <td>227,988</td>\n",
       "      <td>King</td>\n",
       "      <td>-29,788</td>\n",
       "      <td>-11.6%</td>\n",
       "    </tr>\n",
       "    <tr>\n",
       "      <th>13</th>\n",
       "      <td>TRANSLAKE</td>\n",
       "      <td>222,188</td>\n",
       "      <td>251,767</td>\n",
       "      <td>King</td>\n",
       "      <td>29,579</td>\n",
       "      <td>13.3%</td>\n",
       "    </tr>\n",
       "    <tr>\n",
       "      <th>14</th>\n",
       "      <td>PUYALLUP</td>\n",
       "      <td>128,700</td>\n",
       "      <td>122,190</td>\n",
       "      <td>Pierce</td>\n",
       "      <td>-6,510</td>\n",
       "      <td>-5.1%</td>\n",
       "    </tr>\n",
       "    <tr>\n",
       "      <th>15</th>\n",
       "      <td>WOODINVILLE</td>\n",
       "      <td>116,355</td>\n",
       "      <td>162,241</td>\n",
       "      <td>King</td>\n",
       "      <td>45,886</td>\n",
       "      <td>39.4%</td>\n",
       "    </tr>\n",
       "    <tr>\n",
       "      <th>16</th>\n",
       "      <td>NORTH KITSAP</td>\n",
       "      <td>104,890</td>\n",
       "      <td>72,356</td>\n",
       "      <td>Kitsap</td>\n",
       "      <td>-32,534</td>\n",
       "      <td>-31.0%</td>\n",
       "    </tr>\n",
       "    <tr>\n",
       "      <th>17</th>\n",
       "      <td>TACOMA NARROWS</td>\n",
       "      <td>97,300</td>\n",
       "      <td>105,981</td>\n",
       "      <td>Pierce</td>\n",
       "      <td>8,681</td>\n",
       "      <td>8.9%</td>\n",
       "    </tr>\n",
       "    <tr>\n",
       "      <th>18</th>\n",
       "      <td>PRESTON-ISSAQUAH</td>\n",
       "      <td>86,462</td>\n",
       "      <td>87,974</td>\n",
       "      <td>King</td>\n",
       "      <td>1,512</td>\n",
       "      <td>1.7%</td>\n",
       "    </tr>\n",
       "    <tr>\n",
       "      <th>19</th>\n",
       "      <td>GIG HARBOR</td>\n",
       "      <td>84,875</td>\n",
       "      <td>82,793</td>\n",
       "      <td>Pierce</td>\n",
       "      <td>-2,082</td>\n",
       "      <td>-2.5%</td>\n",
       "    </tr>\n",
       "    <tr>\n",
       "      <th>20</th>\n",
       "      <td>SEATAC</td>\n",
       "      <td>72,402</td>\n",
       "      <td>86,527</td>\n",
       "      <td>King</td>\n",
       "      <td>14,125</td>\n",
       "      <td>19.5%</td>\n",
       "    </tr>\n",
       "    <tr>\n",
       "      <th>21</th>\n",
       "      <td>MAPLE VALLEY</td>\n",
       "      <td>70,813</td>\n",
       "      <td>58,800</td>\n",
       "      <td>King</td>\n",
       "      <td>-12,013</td>\n",
       "      <td>-17.0%</td>\n",
       "    </tr>\n",
       "    <tr>\n",
       "      <th>22</th>\n",
       "      <td>RENTON</td>\n",
       "      <td>68,127</td>\n",
       "      <td>65,597</td>\n",
       "      <td>King</td>\n",
       "      <td>-2,530</td>\n",
       "      <td>-3.7%</td>\n",
       "    </tr>\n",
       "    <tr>\n",
       "      <th>23</th>\n",
       "      <td>AGATE PASS BRIDGE</td>\n",
       "      <td>21,000</td>\n",
       "      <td>20,886</td>\n",
       "      <td>Kitsap</td>\n",
       "      <td>-114</td>\n",
       "      <td>-0.5%</td>\n",
       "    </tr>\n",
       "    <tr>\n",
       "      <th>24</th>\n",
       "      <td>CROSS SOUND</td>\n",
       "      <td>14,565</td>\n",
       "      <td>16,409</td>\n",
       "      <td>Kitsap</td>\n",
       "      <td>1,844</td>\n",
       "      <td>12.7%</td>\n",
       "    </tr>\n",
       "    <tr>\n",
       "      <th>25</th>\n",
       "      <td>TOTAL</td>\n",
       "      <td>6,145,374</td>\n",
       "      <td>6,013,749</td>\n",
       "      <td>NaN</td>\n",
       "      <td>-131,625</td>\n",
       "      <td>-2.1%</td>\n",
       "    </tr>\n",
       "  </tbody>\n",
       "</table>\n",
       "</div>"
      ],
      "text/plain": [
       "                      name  observed   modeled  county     diff percent_diff\n",
       "0      AUBURN - SOUTH KING   592,476   512,610    King  -79,866       -13.5%\n",
       "1                     KENT   559,335   473,749    King  -85,586       -15.3%\n",
       "2               SHIP CANAL   480,070   493,592    King   13,522         2.8%\n",
       "3   SEATTLE - SOUTH OF CBD   473,322   468,610    King   -4,712        -1.0%\n",
       "4               MILL CREEK   391,447   372,717    King  -18,730        -4.8%\n",
       "5           SOUTH BELLEVUE   389,700   363,607    King  -26,093        -6.7%\n",
       "6         KIRKLAND-REDMOND   381,663   373,012    King   -8,651        -2.3%\n",
       "7          SEATTLE - NORTH   356,051   344,757    King  -11,294        -3.2%\n",
       "8     TACOMA - EAST OF CBD   324,463   336,081  Pierce   11,618         3.6%\n",
       "9                 PARKLAND   299,722   263,472  Pierce  -36,250       -12.1%\n",
       "10                 BOTHELL   291,573   341,733    King   50,160        17.2%\n",
       "11        LYNNWOOD-BOTHELL   260,099   308,303    King   48,204        18.5%\n",
       "12                 TUKWILA   257,776   227,988    King  -29,788       -11.6%\n",
       "13               TRANSLAKE   222,188   251,767    King   29,579        13.3%\n",
       "14                PUYALLUP   128,700   122,190  Pierce   -6,510        -5.1%\n",
       "15             WOODINVILLE   116,355   162,241    King   45,886        39.4%\n",
       "16            NORTH KITSAP   104,890    72,356  Kitsap  -32,534       -31.0%\n",
       "17          TACOMA NARROWS    97,300   105,981  Pierce    8,681         8.9%\n",
       "18        PRESTON-ISSAQUAH    86,462    87,974    King    1,512         1.7%\n",
       "19              GIG HARBOR    84,875    82,793  Pierce   -2,082        -2.5%\n",
       "20                  SEATAC    72,402    86,527    King   14,125        19.5%\n",
       "21            MAPLE VALLEY    70,813    58,800    King  -12,013       -17.0%\n",
       "22                  RENTON    68,127    65,597    King   -2,530        -3.7%\n",
       "23       AGATE PASS BRIDGE    21,000    20,886  Kitsap     -114        -0.5%\n",
       "24             CROSS SOUND    14,565    16,409  Kitsap    1,844        12.7%\n",
       "25                   TOTAL 6,145,374 6,013,749     NaN -131,625        -2.1%"
      ]
     },
     "execution_count": 13,
     "metadata": {},
     "output_type": "execute_result"
    }
   ],
   "source": [
    "df = pd.read_csv(os.path.join(csv_path,'screenlines.csv'))\n",
    "df = df.append(df.sum(numeric_only=True), ignore_index=True)\n",
    "df.at[df.index[-1], 'name'] = 'TOTAL'\n",
    "#df.at['C', 'name'] = 10\n",
    "df['percent_diff'] = df['diff']/df['observed']\n",
    "df[['percent_diff']] = df[['percent_diff']].applymap(format_percent)\n",
    "df"
   ]
  },
  {
   "cell_type": "code",
   "execution_count": 14,
   "id": "85e33c82ecdece63",
   "metadata": {
    "ExecuteTime": {
     "end_time": "2024-06-24T21:43:47.402427Z",
     "start_time": "2024-06-24T21:43:47.214746Z"
    },
    "execution": {
     "iopub.execute_input": "2024-06-24T21:55:48.526454Z",
     "iopub.status.busy": "2024-06-24T21:55:48.510823Z",
     "iopub.status.idle": "2024-06-24T21:55:48.917265Z",
     "shell.execute_reply": "2024-06-24T21:55:48.917265Z"
    }
   },
   "outputs": [
    {
     "name": "stdout",
     "output_type": "stream",
     "text": [
      "r^2 : 0.9833863971444938\n"
     ]
    },
    {
     "data": {
      "image/png": "[encoded data removed]",
      "text/plain": [
       "<Figure size 432x288 with 1 Axes>"
      ]
     },
     "metadata": {
      "needs_background": "light"
     },
     "output_type": "display_data"
    }
   ],
   "source": [
    "df = df.head(-1)\n",
    "ax = df.plot(kind='scatter', x='observed', y='modeled')\n",
    "lim = df[['observed','modeled']].max().max()*1.05\n",
    "ax.set_ylim(0,lim)\n",
    "ax.set_xlim(0,lim)\n",
    "x = np.linspace(*ax.get_xlim())\n",
    "ax.plot(x, x)\n",
    "slope, intercept, r_value, p_value, std_err = stats.linregress(df['observed'],df['modeled'])\n",
    "print('r^2 : ' + str(r_value))"
   ]
  },
  {
   "cell_type": "markdown",
   "id": "6e3acde1",
   "metadata": {},
   "source": [
    "# External Stations"
   ]
  },
  {
   "cell_type": "raw",
   "id": "bf56b611",
   "metadata": {},
   "source": [
    ":::{.panel-tabset}\n",
    "### Observed vs Model Counts"
   ]
  },
  {
   "cell_type": "code",
   "execution_count": 15,
   "id": "3995fd29",
   "metadata": {},
   "outputs": [
    {
     "data": {
      "text/html": [
       "<div>\n",
       "<style scoped>\n",
       "    .dataframe tbody tr th:only-of-type {\n",
       "        vertical-align: middle;\n",
       "    }\n",
       "\n",
       "    .dataframe tbody tr th {\n",
       "        vertical-align: top;\n",
       "    }\n",
       "\n",
       "    .dataframe thead th {\n",
       "        text-align: right;\n",
       "    }\n",
       "</style>\n",
       "<table border=\"1\" class=\"dataframe\">\n",
       "  <thead>\n",
       "    <tr style=\"text-align: right;\">\n",
       "      <th></th>\n",
       "      <th>external_station</th>\n",
       "      <th>location</th>\n",
       "      <th>county</th>\n",
       "      <th>observed</th>\n",
       "      <th>modeled</th>\n",
       "      <th>diff</th>\n",
       "      <th>percent_diff</th>\n",
       "    </tr>\n",
       "  </thead>\n",
       "  <tbody>\n",
       "    <tr>\n",
       "      <th>0</th>\n",
       "      <td>3733</td>\n",
       "      <td>I-5 to Olympia</td>\n",
       "      <td>Pierce</td>\n",
       "      <td>129,250</td>\n",
       "      <td>131,971</td>\n",
       "      <td>2,721</td>\n",
       "      <td>2.1%</td>\n",
       "    </tr>\n",
       "    <tr>\n",
       "      <th>1</th>\n",
       "      <td>3744</td>\n",
       "      <td>I-5 to Mount Vernon</td>\n",
       "      <td>Snohomish</td>\n",
       "      <td>65,880</td>\n",
       "      <td>64,426</td>\n",
       "      <td>-1,454</td>\n",
       "      <td>-2.2%</td>\n",
       "    </tr>\n",
       "    <tr>\n",
       "      <th>2</th>\n",
       "      <td>3739</td>\n",
       "      <td>I-90 @ Snoqualmie Pass</td>\n",
       "      <td>King</td>\n",
       "      <td>30,500</td>\n",
       "      <td>33,448</td>\n",
       "      <td>2,948</td>\n",
       "      <td>9.7%</td>\n",
       "    </tr>\n",
       "    <tr>\n",
       "      <th>3</th>\n",
       "      <td>3734</td>\n",
       "      <td>SR-507 to Yelm</td>\n",
       "      <td>Pierce</td>\n",
       "      <td>22,700</td>\n",
       "      <td>22,736</td>\n",
       "      <td>36</td>\n",
       "      <td>0.2%</td>\n",
       "    </tr>\n",
       "    <tr>\n",
       "      <th>4</th>\n",
       "      <td>3746</td>\n",
       "      <td>SR-532 to Camano Island</td>\n",
       "      <td>Snohomish</td>\n",
       "      <td>21,250</td>\n",
       "      <td>20,759</td>\n",
       "      <td>-491</td>\n",
       "      <td>-2.3%</td>\n",
       "    </tr>\n",
       "    <tr>\n",
       "      <th>5</th>\n",
       "      <td>3749</td>\n",
       "      <td>SR-3 to Belfair</td>\n",
       "      <td>Kitsap</td>\n",
       "      <td>20,329</td>\n",
       "      <td>18,139</td>\n",
       "      <td>-2,190</td>\n",
       "      <td>-10.8%</td>\n",
       "    </tr>\n",
       "    <tr>\n",
       "      <th>6</th>\n",
       "      <td>3748</td>\n",
       "      <td>Hood Canal Bridge</td>\n",
       "      <td>Kitsap</td>\n",
       "      <td>18,200</td>\n",
       "      <td>17,834</td>\n",
       "      <td>-366</td>\n",
       "      <td>-2.0%</td>\n",
       "    </tr>\n",
       "    <tr>\n",
       "      <th>7</th>\n",
       "      <td>3745</td>\n",
       "      <td>SR-530 N/O Stanwood</td>\n",
       "      <td>Snohomish</td>\n",
       "      <td>9,100</td>\n",
       "      <td>9,175</td>\n",
       "      <td>75</td>\n",
       "      <td>0.8%</td>\n",
       "    </tr>\n",
       "    <tr>\n",
       "      <th>8</th>\n",
       "      <td>3747</td>\n",
       "      <td>Mukilteo-Clinton Ferry</td>\n",
       "      <td>Snohomish</td>\n",
       "      <td>6,050</td>\n",
       "      <td>5,950</td>\n",
       "      <td>-100</td>\n",
       "      <td>-1.7%</td>\n",
       "    </tr>\n",
       "    <tr>\n",
       "      <th>9</th>\n",
       "      <td>3750</td>\n",
       "      <td>SR-302 to Shelton</td>\n",
       "      <td>Pierce</td>\n",
       "      <td>4,550</td>\n",
       "      <td>4,552</td>\n",
       "      <td>2</td>\n",
       "      <td>0.0%</td>\n",
       "    </tr>\n",
       "    <tr>\n",
       "      <th>10</th>\n",
       "      <td>3740</td>\n",
       "      <td>SR-2 @ Stevens Pass</td>\n",
       "      <td>King</td>\n",
       "      <td>3,050</td>\n",
       "      <td>4,571</td>\n",
       "      <td>1,521</td>\n",
       "      <td>49.9%</td>\n",
       "    </tr>\n",
       "    <tr>\n",
       "      <th>11</th>\n",
       "      <td>3735</td>\n",
       "      <td>SR-7 to Morton</td>\n",
       "      <td>Pierce</td>\n",
       "      <td>2,900</td>\n",
       "      <td>2,742</td>\n",
       "      <td>-158</td>\n",
       "      <td>-5.5%</td>\n",
       "    </tr>\n",
       "    <tr>\n",
       "      <th>12</th>\n",
       "      <td>3742</td>\n",
       "      <td>SR-530 N/O Darrington</td>\n",
       "      <td>Snohomish</td>\n",
       "      <td>2,100</td>\n",
       "      <td>2,099</td>\n",
       "      <td>-1</td>\n",
       "      <td>-0.1%</td>\n",
       "    </tr>\n",
       "    <tr>\n",
       "      <th>13</th>\n",
       "      <td>3736</td>\n",
       "      <td>SR-706 to Longmire</td>\n",
       "      <td>Pierce</td>\n",
       "      <td>1,800</td>\n",
       "      <td>1,800</td>\n",
       "      <td>-0</td>\n",
       "      <td>-0.0%</td>\n",
       "    </tr>\n",
       "    <tr>\n",
       "      <th>14</th>\n",
       "      <td>3743</td>\n",
       "      <td>SR-9 N/O Arlington</td>\n",
       "      <td>Snohomish</td>\n",
       "      <td>1,450</td>\n",
       "      <td>1,536</td>\n",
       "      <td>86</td>\n",
       "      <td>5.9%</td>\n",
       "    </tr>\n",
       "    <tr>\n",
       "      <th>15</th>\n",
       "      <td>3738</td>\n",
       "      <td>SR 410 E/O Cayuse Pass</td>\n",
       "      <td>Pierce</td>\n",
       "      <td>1,200</td>\n",
       "      <td>996</td>\n",
       "      <td>-204</td>\n",
       "      <td>-17.0%</td>\n",
       "    </tr>\n",
       "    <tr>\n",
       "      <th>16</th>\n",
       "      <td>3737</td>\n",
       "      <td>SR-123 S/O Cayuse Pass</td>\n",
       "      <td>Pierce</td>\n",
       "      <td>920</td>\n",
       "      <td>1,057</td>\n",
       "      <td>137</td>\n",
       "      <td>14.9%</td>\n",
       "    </tr>\n",
       "    <tr>\n",
       "      <th>17</th>\n",
       "      <td>3741</td>\n",
       "      <td>SR-92 to Monte Carlo</td>\n",
       "      <td>Snohomish</td>\n",
       "      <td>90</td>\n",
       "      <td>91</td>\n",
       "      <td>1</td>\n",
       "      <td>1.2%</td>\n",
       "    </tr>\n",
       "  </tbody>\n",
       "</table>\n",
       "</div>"
      ],
      "text/plain": [
       "    external_station                 location     county  observed  modeled  \\\n",
       "0               3733           I-5 to Olympia     Pierce   129,250  131,971   \n",
       "1               3744      I-5 to Mount Vernon  Snohomish    65,880   64,426   \n",
       "2               3739   I-90 @ Snoqualmie Pass       King    30,500   33,448   \n",
       "3               3734           SR-507 to Yelm     Pierce    22,700   22,736   \n",
       "4               3746  SR-532 to Camano Island  Snohomish    21,250   20,759   \n",
       "5               3749          SR-3 to Belfair     Kitsap    20,329   18,139   \n",
       "6               3748        Hood Canal Bridge     Kitsap    18,200   17,834   \n",
       "7               3745      SR-530 N/O Stanwood  Snohomish     9,100    9,175   \n",
       "8               3747   Mukilteo-Clinton Ferry  Snohomish     6,050    5,950   \n",
       "9               3750        SR-302 to Shelton     Pierce     4,550    4,552   \n",
       "10              3740      SR-2 @ Stevens Pass       King     3,050    4,571   \n",
       "11              3735           SR-7 to Morton     Pierce     2,900    2,742   \n",
       "12              3742    SR-530 N/O Darrington  Snohomish     2,100    2,099   \n",
       "13              3736       SR-706 to Longmire     Pierce     1,800    1,800   \n",
       "14              3743       SR-9 N/O Arlington  Snohomish     1,450    1,536   \n",
       "15              3738   SR 410 E/O Cayuse Pass     Pierce     1,200      996   \n",
       "16              3737   SR-123 S/O Cayuse Pass     Pierce       920    1,057   \n",
       "17              3741     SR-92 to Monte Carlo  Snohomish        90       91   \n",
       "\n",
       "     diff percent_diff  \n",
       "0   2,721         2.1%  \n",
       "1  -1,454        -2.2%  \n",
       "2   2,948         9.7%  \n",
       "3      36         0.2%  \n",
       "4    -491        -2.3%  \n",
       "5  -2,190       -10.8%  \n",
       "6    -366        -2.0%  \n",
       "7      75         0.8%  \n",
       "8    -100        -1.7%  \n",
       "9       2         0.0%  \n",
       "10  1,521        49.9%  \n",
       "11   -158        -5.5%  \n",
       "12     -1        -0.1%  \n",
       "13     -0        -0.0%  \n",
       "14     86         5.9%  \n",
       "15   -204       -17.0%  \n",
       "16    137        14.9%  \n",
       "17      1         1.2%  "
      ]
     },
     "execution_count": 15,
     "metadata": {},
     "output_type": "execute_result"
    }
   ],
   "source": [
    "df = pd.read_csv(os.path.join(csv_path,'external_volumes.csv'))\n",
    "df['percent_diff'] = df['diff']/df['observed']\n",
    "df[['percent_diff']] = df[['percent_diff']].applymap(format_percent)\n",
    "df"
   ]
  },
  {
   "cell_type": "code",
   "execution_count": 16,
   "id": "9006a5e5",
   "metadata": {},
   "outputs": [
    {
     "name": "stdout",
     "output_type": "stream",
     "text": [
      "r^2 : 0.9993691046524654\n"
     ]
    },
    {
     "data": {
      "image/png": "[encoded data removed]",
      "text/plain": [
       "<Figure size 432x288 with 1 Axes>"
      ]
     },
     "metadata": {
      "needs_background": "light"
     },
     "output_type": "display_data"
    }
   ],
   "source": [
    "df = df.head(-1)\n",
    "ax = df.plot(kind='scatter', x='observed', y='modeled')\n",
    "lim = df[['observed','modeled']].max().max()*1.05\n",
    "ax.set_ylim(0,lim)\n",
    "ax.set_xlim(0,lim)\n",
    "x = np.linspace(*ax.get_xlim())\n",
    "ax.plot(x, x)\n",
    "slope, intercept, r_value, p_value, std_err = stats.linregress(df['observed'],df['modeled'])\n",
    "print('r^2 : ' + str(r_value))"
   ]
  },
  {
   "cell_type": "raw",
   "id": "7cd73d93",
   "metadata": {},
   "source": [
    "### Model VMT/Trips by Mode"
   ]
  },
  {
   "cell_type": "code",
   "execution_count": 17,
   "id": "4632dadd",
   "metadata": {},
   "outputs": [],
   "source": [
    "## External trips/VMT\n",
    "df_23 = h5py.File(r'..\\..\\..\\..\\inputs\\model\\roster\\7to8.h5')\n",
    "df_23_skims_sov = df_23['Skims']['sov_inc2d'][:]/100\n",
    "df_23_skims_hov2 = df_23['Skims']['hov2_inc2d'][:]/100\n",
    "df_23_skims_hov3 = df_23['Skims']['hov3_inc2d'][:]/100\n",
    "\n",
    "df_results_new = pd.DataFrame()\n",
    "\n",
    "tod_list = ['5to6', '6to7', '7to8', '8to9', '9to10', '10to14', '14to15', '15to16', '16to17', '17to18', '18to20', '20to5']\n",
    "for tod in tod_list:\n",
    "#     print(tod)\n",
    "    df_temp = pd.DataFrame()\n",
    "    for mode in ['sov','hov2','hov3']:\n",
    "#         print(mode)\n",
    "        od_new = h5py.File(r'..\\..\\..\\..\\outputs\\supplemental\\external_work_'+tod+'.h5', 'r')[mode][:]\n",
    "        df_temp.loc[tod,mode+'_vmt'] = (df_23_skims_sov*od_new).sum()\n",
    "        df_temp.loc[tod,mode+'_trips'] = od_new.sum()\n",
    "        df_temp.loc[tod,mode+'_avg_dist'] = df_temp.loc[tod,mode+'_vmt']/df_temp.loc[tod,mode+'_trips']\n",
    "    df_results_new = pd.concat([df_results_new, df_temp ])"
   ]
  },
  {
   "cell_type": "code",
   "execution_count": 18,
   "id": "b8c74662",
   "metadata": {},
   "outputs": [
    {
     "data": {
      "text/html": [
       "<div>\n",
       "<style scoped>\n",
       "    .dataframe tbody tr th:only-of-type {\n",
       "        vertical-align: middle;\n",
       "    }\n",
       "\n",
       "    .dataframe tbody tr th {\n",
       "        vertical-align: top;\n",
       "    }\n",
       "\n",
       "    .dataframe thead th {\n",
       "        text-align: right;\n",
       "    }\n",
       "</style>\n",
       "<table border=\"1\" class=\"dataframe\">\n",
       "  <thead>\n",
       "    <tr style=\"text-align: right;\">\n",
       "      <th></th>\n",
       "      <th>VMT</th>\n",
       "      <th>Trips</th>\n",
       "      <th>Avg Distance</th>\n",
       "    </tr>\n",
       "  </thead>\n",
       "  <tbody>\n",
       "    <tr>\n",
       "      <th>SOV</th>\n",
       "      <td>7,523,858</td>\n",
       "      <td>237,683</td>\n",
       "      <td>32</td>\n",
       "    </tr>\n",
       "    <tr>\n",
       "      <th>HOV2</th>\n",
       "      <td>571,604</td>\n",
       "      <td>18,264</td>\n",
       "      <td>31</td>\n",
       "    </tr>\n",
       "    <tr>\n",
       "      <th>HOV3</th>\n",
       "      <td>210,777</td>\n",
       "      <td>6,382</td>\n",
       "      <td>33</td>\n",
       "    </tr>\n",
       "    <tr>\n",
       "      <th>Total</th>\n",
       "      <td>8,306,239</td>\n",
       "      <td>262,329</td>\n",
       "      <td>32</td>\n",
       "    </tr>\n",
       "  </tbody>\n",
       "</table>\n",
       "</div>"
      ],
      "text/plain": [
       "            VMT   Trips  Avg Distance\n",
       "SOV   7,523,858 237,683            32\n",
       "HOV2    571,604  18,264            31\n",
       "HOV3    210,777   6,382            33\n",
       "Total 8,306,239 262,329            32"
      ]
     },
     "execution_count": 18,
     "metadata": {},
     "output_type": "execute_result"
    }
   ],
   "source": [
    "df_vmt = pd.DataFrame(df_results_new[['sov_vmt','hov2_vmt','hov3_vmt']].sum(),\n",
    "            columns=['VMT'])\n",
    "df_vmt.index = [i.split('_')[0].upper() for i in df_vmt.index]\n",
    "\n",
    "df_trips = pd.DataFrame(df_results_new[['sov_trips','hov2_trips','hov3_trips']].sum(),\n",
    "            columns=['Trips'])\n",
    "df_trips.index = [i.split('_')[0].upper() for i in df_trips.index]\n",
    "\n",
    "df = df_vmt.merge(df_trips, left_index=True, right_index=True)\n",
    "\n",
    "df.loc['Total',:] = df.sum(axis=0)\n",
    "df['Avg Distance'] = df['VMT']/df['Trips']\n",
    "df"
   ]
  },
  {
   "cell_type": "raw",
   "id": "ab13d57a",
   "metadata": {
    "vscode": {
     "languageId": "raw"
    }
   },
   "source": [
    ":::"
   ]
  },
  {
   "cell_type": "markdown",
   "id": "f49c3f61",
   "metadata": {},
   "source": [
    "# Trucks"
   ]
  },
  {
   "cell_type": "code",
   "execution_count": 19,
   "id": "aa5ec0de",
   "metadata": {},
   "outputs": [],
   "source": [
    "daily_counts = pd.read_sql(\"SELECT * FROM daily_counts WHERE year=\"+str(input_config['base_year']), con=conn)\n",
    "\n",
    "daily_counts['htrk_vehicles'] = daily_counts['htrk_vehicles'].astype('float').fillna(-1)\n",
    "\n",
    "facility_type_lookup = {\n",
    "    1: \"Freeway\",  # Interstate\n",
    "    2: \"Freeway\",  # Ohter Freeway\n",
    "    3: \"Freeway\",  # Expressway\n",
    "    4: \"Ramp\",\n",
    "    5: \"Arterial\",  # Principal arterial\n",
    "    6: \"Arterial\",  # Minor Arterial\n",
    "    7: \"Collector\",  # Major Collector\n",
    "    8: \"Collector\",  # Minor Collector\n",
    "    9: \"Collector\",  # Local\n",
    "    10: \"Busway\",\n",
    "    11: \"Non-Motor\",\n",
    "    12: \"Light Rail\",\n",
    "    13: \"Commuter Rail\",\n",
    "    15: \"Ferry\",\n",
    "    16: \"Passenger Only Ferry\",\n",
    "    17: \"Connector\",  # centroid connector\n",
    "    18: \"Connector\",  # facility connector\n",
    "    19: \"HOV\",  # HOV Only Freeway\n",
    "    20: \"HOV\",  # HOV Flag\n",
    "}"
   ]
  },
  {
   "cell_type": "code",
   "execution_count": 20,
   "id": "c61e0773",
   "metadata": {},
   "outputs": [],
   "source": [
    "# FIXME: move to validation.py\n",
    "df_network = pd.read_csv(r\"..\\..\\..\\..\\outputs\\network\\network_results.csv\")\n",
    "model_vol_df = df_network.copy()\n",
    "model_vol_df[\"@facilitytype\"] = model_vol_df[\"@facilitytype\"].map(\n",
    "    facility_type_lookup\n",
    ")\n",
    "\n",
    "# Get daily and model volumes\n",
    "df_daily = (\n",
    "    model_vol_df.groupby([\"@countid\"])\n",
    "    .agg({\"@tveh\": \"sum\", \"@facilitytype\": \"first\", '@mveh': 'sum', '@hveh': 'sum'})\n",
    "    .reset_index()\n",
    ")\n",
    "\n",
    "# Merge observed with model\n",
    "df_daily = df_daily.merge(daily_counts, left_on=\"@countid\", right_on=\"flag\")"
   ]
  },
  {
   "cell_type": "code",
   "execution_count": 21,
   "id": "13d5e93b",
   "metadata": {},
   "outputs": [],
   "source": [
    "county_lookup = {\n",
    "    33: 'King',\n",
    "    35: 'Kitsap',\n",
    "    53: 'Pierce',\n",
    "    61: 'Snohomish'\n",
    "}\n",
    "\n",
    "df_daily['County'] = df_daily['countyid'].map(county_lookup)"
   ]
  },
  {
   "cell_type": "code",
   "execution_count": 22,
   "id": "7087ce17",
   "metadata": {},
   "outputs": [],
   "source": [
    "df_daily_med = df_daily.copy()\n",
    "df_daily_med.rename(columns={'@mveh': 'Model', 'mtrk_vehicles': 'Observed'}, inplace=True)\n",
    "df_daily_med = df_daily_med[~df_daily_med['Observed'].isnull()]\n",
    "for col in ['Model','Observed']:\n",
    "    df_daily_med[col] = df_daily_med[col].astype('int')\n",
    "df_daily_med = df_daily_med[df_daily_med['Observed'] > 0]\n",
    "\n",
    "df_daily_heavy = df_daily.copy()\n",
    "df_daily_heavy.rename(columns={'@hveh': 'Model', 'htrk_vehicles': 'Observed'}, inplace=True)\n",
    "df_daily_heavy = df_daily_heavy[~df_daily_heavy['Observed'].isnull()]\n",
    "for col in ['Model','Observed']:\n",
    "    df_daily_heavy[col] = df_daily_heavy[col].astype('int')\n",
    "df_daily_heavy = df_daily_heavy[df_daily_heavy['Observed'] > 0]"
   ]
  },
  {
   "cell_type": "code",
   "execution_count": 23,
   "id": "77254978",
   "metadata": {},
   "outputs": [],
   "source": [
    "def create_truck_chart(df_daily, truck_type, county=None):\n",
    "\n",
    "    if county:\n",
    "        df_daily = df_daily[df_daily['County'] == county]\n",
    "        title = truck_type + ' Trucks: '+county\n",
    "    else:\n",
    "        title = truck_type + ' Trucks: Region'\n",
    "\n",
    "    slope, intercept, r_value, p_value, std_err = stats.linregress(df_daily['Observed'], df_daily['Model'])\n",
    "\n",
    "    fig = px.scatter(df_daily, y='Model', x='Observed', title=title, hover_data=['location','County'])\n",
    "    fig.update_layout(height=600, width=800, margin=dict(l=100, r=100, t=100, b=100))\n",
    "\n",
    "    # Get max value, either observed or modeled\n",
    "    max_val = df_daily[['Observed','Model']].max().max()\n",
    "\n",
    "    # Add 45-degree line\n",
    "    fig.add_shape(\n",
    "        type=\"line\",\n",
    "        x0=0, y0=0,\n",
    "        x1=max_val, y1=max_val,\n",
    "        line=dict(color=\"Red\", width=2, dash=\"dash\")\n",
    "    )\n",
    "\n",
    "    # Add best fit line\n",
    "    x_fit = np.linspace(0, max(df_daily['Observed']), 100)\n",
    "    y_fit = slope * x_fit + intercept\n",
    "    fig.add_trace(px.line(x=x_fit, y=y_fit, labels={'x':'Observed', 'y':'Model'}).data[0])\n",
    "    fig.update_traces(line=dict(color=\"Grey\", width=2))\n",
    "\n",
    "    # Add label for 45-degree line\n",
    "\n",
    "    fig.add_annotation(\n",
    "        x=max_val*1.05,\n",
    "        y=max_val*1.05,\n",
    "        text='y = x',\n",
    "        showarrow=False,\n",
    "        font=dict(size=12, color=\"pink\"),\n",
    "        align=\"right\"\n",
    "    )\n",
    "\n",
    "    # Add R-squared value as annotation\n",
    "    fig.add_annotation(\n",
    "        x=max(x_fit)*1.05,\n",
    "        y=max(y_fit)*1.05,\n",
    "        text=f'r^2 = {r_value**2:.2f}',\n",
    "        showarrow=False,\n",
    "        font=dict(size=12, color=\"black\"),\n",
    "        align=\"right\"\n",
    "    )\n",
    "\n",
    "    return fig\n"
   ]
  },
  {
   "cell_type": "markdown",
   "id": "1b416bfb",
   "metadata": {},
   "source": [
    "### Heavy Truck Counts"
   ]
  },
  {
   "cell_type": "raw",
   "id": "60e42113",
   "metadata": {
    "vscode": {
     "languageId": "raw"
    }
   },
   "source": [
    ":::{.panel-tabset}\n",
    "\n",
    "#### Region"
   ]
  },
  {
   "cell_type": "code",
   "execution_count": 24,
   "id": "27e84bb1",
   "metadata": {},
   "outputs": [
    {
     "data": {
      "text/html": [
       "        <script type=\"text/javascript\">\n",
       "        window.PlotlyConfig = {MathJaxConfig: 'local'};\n",
       "        if (window.MathJax && window.MathJax.Hub && window.MathJax.Hub.Config) {window.MathJax.Hub.Config({SVG: {font: \"STIX-Web\"}});}\n",
       "        if (typeof require !== 'undefined') {\n",
       "        require.undef(\"plotly\");\n",
       "        requirejs.config({\n",
       "            paths: {\n",
       "                'plotly': ['https://cdn.plot.ly/plotly-2.27.0.min']\n",
       "            }\n",
       "        });\n",
       "        require(['plotly'], function(Plotly) {\n",
       "            window._Plotly = Plotly;\n",
       "        });\n",
       "        }\n",
       "        </script>\n",
       "        "
      ]
     },
     "metadata": {},
     "output_type": "display_data"
    },
    {
     "data": {
      "application/vnd.plotly.v1+json": {
       "config": {
        "plotlyServerURL": "https://plot.ly"
       },
       "data": [
        {
         "customdata": [
          [
           "I-5 S/O Mounts NB",
           "Pierce"
          ],
          [
           "I-5 S/O Mounts SB",
           "Pierce"
          ],
          [
           "I-5 S/O Division NB",
           "Pierce"
          ],
          [
           "I-5 S/O Division SB",
           "Pierce"
          ],
          [
           "I-5 @ N/O Division NB",
           "Pierce"
          ],
          [
           "I-5 @ N/O Division SB",
           "Pierce"
          ],
          [
           "I-5 S/O SR-512 NB",
           "Pierce"
          ],
          [
           "I-5 S/O SR-512 SB",
           "Pierce"
          ],
          [
           "I-5 N/O SR-512 NB",
           "Pierce"
          ],
          [
           "I-5 N/O SR-512 SB",
           "Pierce"
          ],
          [
           "I-5 N/O 56th NB",
           "Pierce"
          ],
          [
           "I-5 N/O 56th SB",
           "Pierce"
          ],
          [
           "I-5 E/O SR-16 NB",
           "Pierce"
          ],
          [
           "I-5 E/O SR-16 SB",
           "Pierce"
          ],
          [
           "I-5 E/O Port of Tacoma NB",
           "Pierce"
          ],
          [
           "I-5 E/O Port of Tacoma SB (HOV from 56)",
           "Pierce"
          ],
          [
           "I-5 S/O 205th NB",
           "King"
          ],
          [
           "I-5 S/O 205th SB",
           "King"
          ],
          [
           "I-5 @ 44th NB",
           "Snohomish"
          ],
          [
           "I-5 @ 44th SB",
           "Snohomish"
          ],
          [
           "I-5 N/O 164th NB",
           "Snohomish"
          ],
          [
           "I-5 N/O 164th SB",
           "Snohomish"
          ],
          [
           "I-5 N/O SR-526 NB",
           "Snohomish"
          ],
          [
           "I-5 N/O SR-526 SB",
           "Snohomish"
          ],
          [
           "I-5 N/O 41st NB",
           "Snohomish"
          ],
          [
           "I-5 N/O 41st SB",
           "Snohomish"
          ],
          [
           "I-5 @ SR-528 NB",
           "Snohomish"
          ],
          [
           "I-5 @ SR-528 SB",
           "Snohomish"
          ],
          [
           "I-5 N/O SR-531 NB",
           "Snohomish"
          ],
          [
           "I-5 N/O SR-531 SB",
           "Snohomish"
          ],
          [
           "I-5 Rev N/O I-5 GP NB/SB",
           "King"
          ],
          [
           "I-90 E/O I-5 WB",
           "King"
          ],
          [
           "I-90 E/O I-5 EB",
           "King"
          ],
          [
           "I-90 E/O W Lk Sam WB",
           "King"
          ],
          [
           "I-90 E/O W Lk Sam EB",
           "King"
          ],
          [
           "I-90 E/O SR-900 WB",
           "King"
          ],
          [
           "I-405 @ I-5 Southcenter NB",
           "King"
          ],
          [
           "I-405 @ I-5 Southcenter SB",
           "King"
          ],
          [
           "I-405 @ Lake Wash Blvd NB",
           "King"
          ],
          [
           "I-405 @ I-90 NB",
           "King"
          ],
          [
           "I-405 @ I-90 SB",
           "King"
          ],
          [
           "I-405 N/O SR-527 NB",
           "Snohomish"
          ],
          [
           "I-405 N/O SR-527 SB",
           "Snohomish"
          ],
          [
           "SR-525 N/O I-5 NB",
           "Snohomish"
          ],
          [
           "SR-525 N/O I-5 SB",
           "Snohomish"
          ],
          [
           "SR-520 @ x-lake bridge WB",
           "King"
          ],
          [
           "SR-520 @ x-lake bridge EB",
           "King"
          ],
          [
           "SR-167 S/O 43rd NB",
           "King"
          ],
          [
           "SR-167 S/O 43rd SB",
           "King"
          ],
          [
           "SR-167 N/O SR-18 NB",
           "King"
          ],
          [
           "SR-167 N/O SR-18 SB",
           "King"
          ],
          [
           "SR-167 S/O 15th SW NB",
           "King"
          ],
          [
           "SR-167 S/O 15th SW SB",
           "King"
          ],
          [
           "SR-512 W/O Meridian WB",
           "Pierce"
          ],
          [
           "SR-512 W/O Meridian EB",
           "Pierce"
          ],
          [
           "SR-509 @ Holden NB",
           "King"
          ],
          [
           "SR-509 @ Holden SB",
           "King"
          ],
          [
           "SR-99 N/O 14th NB",
           "King"
          ],
          [
           "SR-99 N/O 14th SB",
           "King"
          ],
          [
           "SR-99 N/O WSF NB",
           "King"
          ],
          [
           "SR-99 N/O WSF SB",
           "King"
          ],
          [
           "SR-99 tunnel NB",
           "King"
          ],
          [
           "SR-99 tunnel SB",
           "King"
          ],
          [
           "SR-599 S/O Pacific NB",
           "King"
          ],
          [
           "SR-599 S/O Pacific SB",
           "King"
          ],
          [
           "SR-599 @ Pacific NB",
           "King"
          ],
          [
           "SR-599 @ Pacific SB",
           "King"
          ],
          [
           "SR-18 @ I-5 WB",
           "King"
          ],
          [
           "SR-18 @ I-5 EB",
           "King"
          ],
          [
           "SR-18 W/O Auburn-Black Diamond WB",
           "King"
          ],
          [
           "SR-18 W/O Auburn-Black Diamond EB",
           "King"
          ],
          [
           "SR-18 E/O SR-516 WB",
           "King"
          ],
          [
           "SR-18 E/O SR-516 EB",
           "King"
          ],
          [
           "SR-18 E/O 256th WB",
           "King"
          ],
          [
           "SR-18 E/O 256th EB",
           "King"
          ],
          [
           "SR-522 N/O 195th WB",
           "King"
          ],
          [
           "SR-522 N/O 195th EB",
           "King"
          ],
          [
           "I-5 N/O I-5 Rev CBD NB/SB",
           "King"
          ],
          [
           "I-5 @ SR-532 NB/SB",
           "Snohomish"
          ],
          [
           "I-5 @ Skagit border NB/SB",
           "Snohomish"
          ],
          [
           "I-90 W/O SR-18 WB/EB",
           "King"
          ],
          [
           "I-90 E/O SR-18 WB/EB",
           "King"
          ],
          [
           "I-90 E/O 436th WB/EB",
           "King"
          ],
          [
           "I-90 @ Kittitas County WB/EB",
           "King"
          ],
          [
           "I-405 N/O SR-522 NB/SB",
           "King"
          ],
          [
           "SR-525 N/O SR-526 NB/SB",
           "Snohomish"
          ],
          [
           "SR-525 N/O 5th NB/SB",
           "Snohomish"
          ],
          [
           "SR-167 N/O Grady NB/SB",
           "King"
          ],
          [
           "SR-167 W/O SR-410 NB/SB",
           "Pierce"
          ],
          [
           "SR-167 E/O SR-161 NB/SB",
           "Pierce"
          ],
          [
           "SR-410 E/O S Prairie WB/EB",
           "Pierce"
          ],
          [
           "SR-410 E/O 244th WB/EB",
           "King"
          ],
          [
           "SR-410 E/O Farman WB/EB",
           "King"
          ],
          [
           "SR-410 @ Greenwater River WB/EB",
           "King"
          ],
          [
           "SR-410 E/O Chinook WB/EB",
           "Pierce"
          ],
          [
           "SR-410 W/O SR-123 WB/EB",
           "Pierce"
          ],
          [
           "SR-410 E/O SR-123 WB/EB",
           "Pierce"
          ],
          [
           "SR-512 @ I-5 WB/EB",
           "Pierce"
          ],
          [
           "SR-512 W/O SR-7 WB/EB",
           "Pierce"
          ],
          [
           "SR-512 S/O SR-167 WB/EB",
           "Pierce"
          ],
          [
           "SR-509 E/O I-705 NB/SB",
           "Pierce"
          ],
          [
           "SR-509 W/O Alexander NB/SB",
           "Pierce"
          ],
          [
           "SR-509 S/O 11th NB/SB",
           "Pierce"
          ],
          [
           "SR-509 N/O Hyada NB/SB",
           "Pierce"
          ],
          [
           "SR-509 E/O Soundview NB/SB",
           "Pierce"
          ],
          [
           "SR-509 E/O 47th NB/SB",
           "King"
          ],
          [
           "SR-509 E/O 21st NB/SB",
           "King"
          ],
          [
           "SR-509 W/O SR-516 NB/SB",
           "King"
          ],
          [
           "SR-509 W/O Des Moines Mem NB/SB",
           "King"
          ],
          [
           "SR-509 E/O 1st Ave NB/SB",
           "King"
          ],
          [
           "SR-509 E/O Des Moines Mem NB/SB",
           "King"
          ],
          [
           "SR-509 @ SR-509 ramp overpass NB/SB",
           "King"
          ],
          [
           "SR-509 N/O Des Moines Mem NB/SB",
           "King"
          ],
          [
           "SR-509 N/O SR-518 NB/SB",
           "King"
          ],
          [
           "SR-99 @ I-5 NB/SB",
           "Pierce"
          ],
          [
           "SR-99 E/O 54th NB/SB",
           "Pierce"
          ],
          [
           "SR-99 S/O Porter NB/SB",
           "Pierce"
          ],
          [
           "SR-99 S/O SR-18 NB/SB",
           "King"
          ],
          [
           "SR-99 N/O SR-18 NB/SB",
           "King"
          ],
          [
           "SR-99 N/O 320th NB/SB",
           "King"
          ],
          [
           "SR-99 N/O 188th NB/SB",
           "King"
          ],
          [
           "SR-99 @ WSF NB/SB",
           "King"
          ],
          [
           "SR-99 @ Aurora Bridge NB/SB",
           "King"
          ],
          [
           "SR-99 N/O 38th NB/SB",
           "King"
          ],
          [
           "SR-99 S/O Roosevelt NB/SB",
           "King"
          ],
          [
           "SR-99 E/O Evergreen NB/SB",
           "Snohomish"
          ],
          [
           "SR-599 N/O I-5 NB/SB",
           "King"
          ],
          [
           "SR-518 @ SR-509 WB/EB",
           "King"
          ],
          [
           "SR-518 E/O SR-509 WB/EB",
           "King"
          ],
          [
           "SR-18 E/O SR-99 WB/EB",
           "King"
          ],
          [
           "SR-18 N/O 304th WB/EB",
           "King"
          ],
          [
           "SR-18 S/O I-90 WB/EB",
           "King"
          ],
          [
           "SR-16 @ TNB NB/SB",
           "Pierce"
          ],
          [
           "SR-16 @ Purdy Dr NB/SB",
           "Pierce"
          ],
          [
           "SR-16  N/O SR-302 NB/SB",
           "Kitsap"
          ],
          [
           "SR-16 N/O SR-160 NB/SB",
           "Kitsap"
          ],
          [
           "SR-16 N/O Tremont NB/SB",
           "Kitsap"
          ],
          [
           "SR-16 S/O SR-3 NB",
           "Kitsap"
          ],
          [
           "SR-202 @ SR-522 NB/SB",
           "King"
          ],
          [
           "SR-202 N/O 145th NB/SB",
           "King"
          ],
          [
           "SR-202 @ Sammamish River Br NB/SB",
           "King"
          ],
          [
           "SR-202 S/O 144th NB/SB",
           "King"
          ],
          [
           "SR-202 N/O Redmond Way NB/SB",
           "King"
          ],
          [
           "SR-202 E/O 164th NB/SB",
           "King"
          ],
          [
           "SR-202 E/O SR-520 NB/SB",
           "King"
          ],
          [
           "SR-202 E/O E Lk Samm NB/SB",
           "King"
          ],
          [
           "SR-202 E/O Sahalee NB/SB",
           "King"
          ],
          [
           "SR-202 E/O 236th NB/SB",
           "King"
          ],
          [
           "SR-202 S/O Ames Lake NB/SB",
           "King"
          ],
          [
           "SR-202 S/O Duthie Hill NB/SB",
           "King"
          ],
          [
           "SR-202 E/O SR-203 NB/SB",
           "King"
          ],
          [
           "SR-202 N/O I-90 NB/SB",
           "King"
          ],
          [
           "SR-526 W/O Paine Field Blvd WB/EB",
           "Snohomish"
          ],
          [
           "SR-526 E/O Paine Field Blvd WB/EB",
           "Snohomish"
          ],
          [
           "SR-9 @ SR-522 NB/SB",
           "Snohomish"
          ],
          [
           "SR-9 N/O SR-2 NB/SB",
           "Snohomish"
          ],
          [
           "SR-9 N/O SR-204 NB/SB",
           "Snohomish"
          ],
          [
           "SR-9 N/O SR-92 NB/SB",
           "Snohomish"
          ],
          [
           "SR-9 N/O 132nd NB/SB",
           "Snohomish"
          ],
          [
           "SR-9 N/O SR-531 NB/SB",
           "Snohomish"
          ],
          [
           "SR-9 S/O 67th NB/SB",
           "Snohomish"
          ],
          [
           "SR-9 N/O Kackman NB/SB",
           "Snohomish"
          ],
          [
           "SR-9 N/O Stanwood-Bryant NB/SB",
           "Snohomish"
          ],
          [
           "SR-532 @ Island County WB/EB",
           "Snohomish"
          ],
          [
           "SR-532 W/O 28th WB/EB",
           "Snohomish"
          ],
          [
           "SR-522 N/O 145th NB/SB",
           "King"
          ],
          [
           "SR-104 @ Hood Canal Bridge WB/EB",
           "Kitsap"
          ],
          [
           "SR-104 E/O Hood Canal Bridge WB/EB",
           "Kitsap"
          ],
          [
           "SR-104 N/O Pt Gamble Rd WB/EB",
           "Kitsap"
          ],
          [
           "SR-104 E/O SR-307 WB/EB",
           "Kitsap"
          ],
          [
           "SR-104 E/O Hansville WB/EB",
           "Kitsap"
          ],
          [
           "SR-104 @ Ferry Loading Edm WB/EB",
           "Snohomish"
          ],
          [
           "SR-104 N/O Pine WB/EB",
           "Snohomish"
          ],
          [
           "SR-104 E/O 5th WB/EB",
           "Snohomish"
          ],
          [
           "SR-104 W/O 19th WB/EB",
           "King"
          ],
          [
           "SR-160 @ SR-16 WB/EB",
           "Kitsap"
          ],
          [
           "SR-160 E/O Long Lake Rd WB/EB",
           "Kitsap"
          ],
          [
           "SR-160 W/O Banner WB/EB",
           "Kitsap"
          ],
          [
           "SR-160 E/O Peterson WB/EB",
           "Kitsap"
          ],
          [
           "SR-160 S/O Southworth Dr WB/EB",
           "Kitsap"
          ],
          [
           "SR-166 E/O SR-16 WB/EB",
           "Kitsap"
          ],
          [
           "SR-3 E/O Sunset Way NB/SB",
           "Kitsap"
          ],
          [
           "SR-3 N/O SR-305 NB/SB",
           "Kitsap"
          ],
          [
           "SR-3 S/O Newberry Hill Rd NB/SB",
           "Kitsap"
          ],
          [
           "SR-3 @ SR-304 NB/SB",
           "Kitsap"
          ],
          [
           "SR-3 NE of SR-16 NB/SB",
           "Kitsap"
          ],
          [
           "SR-3 W/O Lake Flora Rd NB/SB",
           "Kitsap"
          ],
          [
           "SR-302 N/O 144th WB/EB",
           "Pierce"
          ],
          [
           "SR-302 S/O 144th WB/EB",
           "Pierce"
          ],
          [
           "SR-302 W/O Key Peninsula Hwy WB/EB",
           "Pierce"
          ],
          [
           "SR-302 W/O Wright-Bliss WB/EB (E/O?)",
           "Pierce"
          ],
          [
           "SR-303 E/O SR-3 NB/SB",
           "Kitsap"
          ],
          [
           "SR-303 N/O 11th St NB/SB",
           "Kitsap"
          ],
          [
           "SR-303 N/O SR-304 NB/SB",
           "Kitsap"
          ],
          [
           "SR-304 E/O SR-3 WB/EB",
           "Kitsap"
          ],
          [
           "SR-304 W/O Naval WB/EB",
           "Kitsap"
          ],
          [
           "SR-305 W/O SR-307 WB/EB",
           "Kitsap"
          ],
          [
           "SR-305 W/O Suquamish Way WB/EB",
           "Kitsap"
          ],
          [
           "SR-305 N/O Day Rd WB/EB",
           "Kitsap"
          ],
          [
           "SR-305 N/O High School Rd WB/EB",
           "Kitsap"
          ],
          [
           "SR-305 S/O Winslow Way WB/EB",
           "Kitsap"
          ],
          [
           "SR-305 @ Ferry Ramp WB/EB",
           "Kitsap"
          ],
          [
           "SR-307 W/O SR-104 NB/SB",
           "Kitsap"
          ],
          [
           "SR-307 N/O Gunderson NB/SB",
           "Kitsap"
          ],
          [
           "SR-307 S/O Gunderson NB/SB",
           "Kitsap"
          ],
          [
           "SR-307 N/O SR-305 NB/SB",
           "Kitsap"
          ],
          [
           "SR-308 @ SR-3 WB/EB",
           "Kitsap"
          ],
          [
           "SR-308 E/O SR-3 WB/EB",
           "Kitsap"
          ],
          [
           "SR-308 E/O Silverdale Way WB/EB",
           "Kitsap"
          ],
          [
           "SR-308 W/O Brownsville Hwy WB/EB",
           "Kitsap"
          ],
          [
           "SR-310 @ SR-3 WB/EB",
           "Kitsap"
          ],
          [
           "SR-310 W/O Callow WB/EB",
           "Kitsap"
          ],
          [
           "SR-516 E/O SR-509 WB/EB",
           "King"
          ],
          [
           "SR-516 W/O I-5 WB/EB",
           "King"
          ],
          [
           "SR-516 E/O Meeker WB/EB",
           "King"
          ],
          [
           "SR-516 W/O SR-167 WB/EB",
           "King"
          ],
          [
           "SR-516 E/O SR-167 WB/EB",
           "King"
          ],
          [
           "SR-516 E/O SR-18 WB/EB",
           "King"
          ],
          [
           "SR-161 E/O SR-7 NB/SB",
           "Pierce"
          ],
          [
           "SR-161 N/O Center NB/SB",
           "Pierce"
          ],
          [
           "SR-161 N/O Eatonville Cutoff NB/SB",
           "Pierce"
          ],
          [
           "SR-161 N/O 304th NB/SB",
           "Pierce"
          ],
          [
           "SR-161 N/O 264th NB/SB",
           "Pierce"
          ],
          [
           "SR-161 S/O 224th NB/SB",
           "Pierce"
          ],
          [
           "SR-161 N/O 224th NB/SB",
           "Pierce"
          ],
          [
           "SR-161 N/O 204th NB/SB",
           "Pierce"
          ],
          [
           "SR-161 S/O SR-167 SB off-ramp NB/SB",
           "Pierce"
          ],
          [
           "SR-161 S/O Valley NB/SB",
           "Pierce"
          ],
          [
           "SR-161 N/O Valley NB/SB",
           "Pierce"
          ],
          [
           "SR-161 N/O 8th NB/SB",
           "Pierce"
          ],
          [
           "SR-900 S/O NB I-5 on-ramp @ Boe Acc WB/EB",
           "King"
          ],
          [
           "SR-900 E/O 68th WB/EB",
           "King"
          ],
          [
           "SR-900 @ I-405 WB/EB",
           "King"
          ],
          [
           "SR-900 E/O 148th WB/EB",
           "King"
          ],
          [
           "SR-900 N/O Talus WB/EB",
           "King"
          ],
          [
           "SR-900 N/O Newport WB/EB",
           "King"
          ],
          [
           "SR-524 W/O 3rd WB/EB",
           "Snohomish"
          ],
          [
           "SR-524 S/O Main WB/EB",
           "Snohomish"
          ],
          [
           "SR-524 N/O Main WB/EB",
           "Snohomish"
          ],
          [
           "SR-524 E/O 68th WB/EB",
           "Snohomish"
          ],
          [
           "SR-524 E/O 39th WB/EB",
           "Snohomish"
          ],
          [
           "SR-524 N/O Paradise Lake WB/EB",
           "Snohomish"
          ],
          [
           "SR-7 @ Thurston County NB/SB",
           "Pierce"
          ],
          [
           "SR-7 W/O Alder Cutoff NB/SB",
           "Pierce"
          ],
          [
           "SR-7 N/O Eatonville Hwy NB/SB",
           "Pierce"
          ],
          [
           "SR-7 N/O Silver Lake NB/SB",
           "Pierce"
          ],
          [
           "SR-7 S/O SR-702 NB/SB",
           "Pierce"
          ],
          [
           "SR-7 N/O 304th NB/SB",
           "Pierce"
          ],
          [
           "SR-7 N/O 260th NB/SB",
           "Pierce"
          ],
          [
           "SR-7 S/O 224th NB/SB",
           "Pierce"
          ],
          [
           "SR-7 N/O 224th NB/SB",
           "Pierce"
          ],
          [
           "SR-7 N/O 38th NB/SB",
           "Pierce"
          ],
          [
           "SR-2 E/O I-5 WB/EB",
           "Snohomish"
          ],
          [
           "SR-2 S/O SR-204 WB/EB",
           "Snohomish"
          ],
          [
           "SR-2 E/O Main WB/EB",
           "Snohomish"
          ],
          [
           "SR-2 E/O Rice WB/EB",
           "Snohomish"
          ],
          [
           "SR-2 E/O 10th (Gold Bar) WB/EB",
           "Snohomish"
          ],
          [
           "SR-2 W/O Index-Galena WB/EB",
           "Snohomish"
          ],
          [
           "SR-2 E/O Index-Galena WB/EB",
           "Snohomish"
          ],
          [
           "SR-2 E/O Skykomish WB/EB",
           "King"
          ],
          [
           "SR-527 N/O I-405 NB/SB",
           "Snohomish"
          ],
          [
           "SR-527 N/O 196th NB/SB",
           "Snohomish"
          ],
          [
           "SR-527 N/O Dumas NB/SB",
           "Snohomish"
          ],
          [
           "SR-527 N/O 100th NB/SB",
           "Snohomish"
          ],
          [
           "SR-513 S/O 44th NB/SB",
           "King"
          ],
          [
           "SR-169 N/O SR-164 NB/SB",
           "King"
          ],
          [
           "SR-169 S/O Lawson NB/SB",
           "King"
          ],
          [
           "SR-169 S/O 276th NB/SB",
           "King"
          ],
          [
           "SR-169 N/O 280th NB/SB",
           "King"
          ],
          [
           "SR-169 N/O 231st NB/SB",
           "King"
          ],
          [
           "SR-169 N/O 232nd NB/SB",
           "King"
          ],
          [
           "SR-169 W/O 140th NB/SB",
           "King"
          ],
          [
           "SR-515 N/O SR-516 NB/SB",
           "King"
          ],
          [
           "SR-515 N/O 108th NB/SB",
           "King"
          ],
          [
           "SR-515 N/O Puget NB/SB",
           "King"
          ],
          [
           "SR-181 N/O SR-516 NB/SB",
           "King"
          ],
          [
           "SR-181 S/O James NB/SB",
           "King"
          ],
          [
           "SR-181 N/O James NB/SB",
           "King"
          ],
          [
           "SR-181 N/O 228th NB/SB",
           "King"
          ],
          [
           "SR-181 N/O 180th NB/SB",
           "King"
          ],
          [
           "SR-181 S/O Longacres NB/SB",
           "King"
          ],
          [
           "SR-523 E/O Lenora WB/EB",
           "King"
          ],
          [
           "SR-529 @ I-5 (Evt) NB/SB",
           "Snohomish"
          ],
          [
           "SR-529 S/O Everett NB/SB",
           "Snohomish"
          ],
          [
           "SR-529 W/O Maple NB/SB",
           "Snohomish"
          ],
          [
           "SR-529 N/O Everett NB/SB",
           "Snohomish"
          ],
          [
           "SR-529 N/O Broadway NB/SB",
           "Snohomish"
          ],
          [
           "SR-96 @ I-5 WB/EB",
           "Snohomish"
          ],
          [
           "SR-96 N/O 132nd WB/EB",
           "Snohomish"
          ],
          [
           "SR-96 E/O Seattle Hill WB/EB",
           "Snohomish"
          ],
          [
           "SR-164 @ SR-18 WB/EB",
           "King"
          ],
          [
           "SR-164 S/O 400th WB/EB",
           "King"
          ],
          [
           "SR-528 @ I-5 WB/EB",
           "Snohomish"
          ],
          [
           "SR-528 E/O SR-529 WB/EB",
           "Snohomish"
          ],
          [
           "SR-531 N/O Rose WB/EB",
           "Snohomish"
          ],
          [
           "SR-531 E/O Lk Goodwin WB/EB",
           "Snohomish"
          ],
          [
           "SR-531 E/O 27th WB/EB",
           "Snohomish"
          ],
          [
           "SR-531 E/O I-5 WB/EB",
           "Snohomish"
          ],
          [
           "SR-531 E/O 43rd WB/EB",
           "Snohomish"
          ],
          [
           "SR-531 W/O 67th WB/EB",
           "Snohomish"
          ],
          [
           "SR-531 E/O 67th WB/EB",
           "Snohomish"
          ],
          [
           "SR-162 @ SR-410 WB/EB",
           "Pierce"
          ],
          [
           "SR-162 S/O Pioneer WB/EB",
           "Pierce"
          ],
          [
           "SR-162 E/O Orville WB/EB",
           "Pierce"
          ],
          [
           "SR-162 E/O S Prairie WB/EB",
           "Pierce"
          ],
          [
           "SR-162 N/O SR-165 WB/EB",
           "Pierce"
          ],
          [
           "SR-163 @ SR-16 NB/SB",
           "Pierce"
          ],
          [
           "SR-163 N/O 37th NB/SB",
           "Pierce"
          ],
          [
           "SR-163 N/O Park NB/SB",
           "Pierce"
          ],
          [
           "SR-530 @ I-5 WB/EB",
           "Snohomish"
          ],
          [
           "SR-530 E/O Smokey Pt WB/EB",
           "Snohomish"
          ],
          [
           "SR-530 N/O 211th WB/EB",
           "Snohomish"
          ],
          [
           "SR-530 E/O SR-9 WB/EB",
           "Snohomish"
          ],
          [
           "SR-530 W/O Arlington Hts WB/EB",
           "Snohomish"
          ],
          [
           "SR-530 E/O Arlington Hts WB/EB",
           "Snohomish"
          ],
          [
           "SR-530 W/O Jim Creek WB/EB",
           "Snohomish"
          ],
          [
           "SR-530 W/O Ramstad WB/EB",
           "Snohomish"
          ],
          [
           "SR-530 @ Skagit County WB/EB",
           "Snohomish"
          ],
          [
           "SR-203 N/O 203rd NB/SB",
           "Snohomish"
          ],
          [
           "SR-203 N/O Cherry Valley NB/SB",
           "King"
          ],
          [
           "SR-203 N/O 124th NB/SB",
           "King"
          ],
          [
           "SR-203 W/O Stillwater Hill NB/SB",
           "King"
          ],
          [
           "SR-203 N/O Carnation Farm NB/SB",
           "King"
          ],
          [
           "SR-203 N/O Tolt Hill NB/SB",
           "King"
          ],
          [
           "SR-203 N/O SR-202 NB/SB",
           "King"
          ],
          [
           "SR-507 S/O SR-7 NB/SB",
           "Pierce"
          ],
          [
           "SR-507 S/O E Gate NB/SB",
           "Pierce"
          ],
          [
           "SR-507 S/O 288th NB/SB",
           "Pierce"
          ],
          [
           "SR-507 N/O 346th NB/SB",
           "Pierce"
          ],
          [
           "SR-204 @ SR-2 NB/SB",
           "Snohomish"
          ],
          [
           "SR-204 N/O 20th NB/SB",
           "Snohomish"
          ],
          [
           "SR-204 N/O SR-2 NB/SB",
           "Snohomish"
          ],
          [
           "SR-519 W/O 4th NB/SB",
           "King"
          ],
          [
           "SR-92 E/O Lake WB/EB",
           "Snohomish"
          ],
          [
           "SR-92 E/O Callow WB/EB",
           "Snohomish"
          ],
          [
           "SR-92 E/O Quarry WB/EB",
           "Snohomish"
          ],
          [
           "SR-92 W/O Mountain Loop WB/EB",
           "Snohomish"
          ],
          [
           "SR-702 E/O SR-507 WB/EB",
           "Pierce"
          ],
          [
           "SR-702 E/O Harts Lake WB/EB",
           "Pierce"
          ],
          [
           "SR-702 E/O 40th WB/EB",
           "Pierce"
          ],
          [
           "SR-702 W/O 8th WB/EB",
           "Pierce"
          ],
          [
           "SR-702 E/O 8th WB/EB",
           "Pierce"
          ],
          [
           "SR-165 W/O SR-162 NB/SB",
           "Pierce"
          ],
          [
           "SR-165 N/O Davis NB/SB",
           "Pierce"
          ],
          [
           "SR-165 N/O Wilkeson-Carbonado NB/SB",
           "Pierce"
          ],
          [
           "SR-704 E/O Spanaway Loop WB/EB",
           "Pierce"
          ],
          [
           "SR-706 E/O SR-7 WB/EB",
           "Pierce"
          ],
          [
           "SR-706 E/O Kernahan WB/EB",
           "Pierce"
          ]
         ],
         "hovertemplate": "Observed=%{x}<br>Model=%{y}<br>location=%{customdata[0]}<br>County=%{customdata[1]}<extra></extra>",
         "legendgroup": "",
         "line": {
          "color": "Grey",
          "width": 2
         },
         "marker": {
          "color": "#91268F",
          "symbol": "circle"
         },
         "mode": "markers",
         "name": "",
         "orientation": "v",
         "showlegend": false,
         "type": "scatter",
         "x": [
          5573,
          5542,
          5922,
          6132,
          4944,
          4825,
          5532,
          5301,
          5029,
          5099,
          5967,
          6014,
          2704,
          5893,
          3834,
          4831,
          2322,
          2482,
          2931,
          2951,
          3252,
          3274,
          3206,
          3377,
          2734,
          3167,
          3043,
          3126,
          2304,
          2316,
          764,
          901,
          830,
          1933,
          1905,
          2505,
          855,
          1392,
          2142,
          321,
          258,
          1355,
          1425,
          403,
          274,
          137,
          138,
          2142,
          2289,
          2264,
          2273,
          3621,
          3308,
          2397,
          2397,
          938,
          942,
          1170,
          868,
          173,
          157,
          144,
          131,
          1302,
          1091,
          1389,
          920,
          945,
          1721,
          2401,
          2292,
          2108,
          2077,
          2714,
          2654,
          764,
          823,
          2893,
          4052,
          4113,
          3334,
          10502,
          6332,
          6539,
          2933,
          173,
          48,
          308,
          7266,
          3486,
          614,
          508,
          797,
          31,
          21,
          17,
          14,
          3402,
          3992,
          4756,
          962,
          2112,
          103,
          11,
          14,
          19,
          68,
          60,
          10,
          32,
          86,
          120,
          210,
          372,
          1392,
          2775,
          1196,
          1242,
          280,
          288,
          174,
          222,
          146,
          108,
          141,
          123,
          2754,
          246,
          336,
          1417,
          5817,
          3461,
          1762,
          1426,
          1558,
          1210,
          1364,
          1155,
          265,
          83,
          76,
          321,
          54,
          146,
          477,
          307,
          420,
          378,
          300,
          318,
          284,
          110,
          99,
          92,
          699,
          285,
          653,
          317,
          372,
          169,
          229,
          167,
          82,
          309,
          328,
          167,
          612,
          75,
          70,
          144,
          84,
          59,
          55,
          72,
          76,
          114,
          34,
          30,
          19,
          12,
          140,
          1020,
          1012,
          1159,
          988,
          1360,
          288,
          79,
          104,
          57,
          52,
          180,
          216,
          98,
          210,
          126,
          266,
          420,
          420,
          234,
          11,
          9,
          196,
          168,
          126,
          120,
          39,
          36,
          66,
          22,
          138,
          26,
          80,
          540,
          375,
          960,
          288,
          351,
          25,
          201,
          112,
          418,
          338,
          324,
          324,
          532,
          850,
          1739,
          180,
          175,
          396,
          84,
          208,
          76,
          242,
          84,
          8,
          6,
          6,
          76,
          176,
          507,
          142,
          110,
          67,
          90,
          98,
          400,
          377,
          432,
          374,
          168,
          891,
          874,
          506,
          420,
          444,
          243,
          192,
          126,
          265,
          279,
          44,
          156,
          56,
          224,
          440,
          304,
          231,
          850,
          1035,
          1248,
          100,
          96,
          141,
          957,
          897,
          899,
          1050,
          999,
          918,
          84,
          88,
          49,
          65,
          84,
          825,
          220,
          42,
          62,
          297,
          198,
          260,
          330,
          18,
          99,
          429,
          697,
          696,
          340,
          182,
          420,
          1034,
          209,
          136,
          135,
          40,
          36,
          90,
          705,
          609,
          464,
          400,
          403,
          383,
          380,
          299,
          47,
          408,
          340,
          364,
          315,
          284,
          330,
          332,
          464,
          352,
          520,
          351,
          58,
          55,
          400,
          638,
          494,
          448,
          60,
          718,
          252,
          220,
          266,
          166,
          254,
          166,
          50,
          18,
          648,
          38,
          13
         ],
         "xaxis": "x",
         "y": [
          6084,
          6084,
          6329,
          6333,
          6324,
          6327,
          6161,
          6034,
          5763,
          6266,
          6389,
          6400,
          5839,
          8560,
          10468,
          10313,
          5259,
          5514,
          5111,
          5308,
          6411,
          6317,
          6049,
          5973,
          5969,
          5880,
          5134,
          5095,
          4053,
          4032,
          4739,
          1178,
          1295,
          1319,
          1365,
          1395,
          188,
          1780,
          4579,
          4412,
          4086,
          2267,
          1893,
          827,
          713,
          58,
          56,
          3138,
          3556,
          4768,
          4907,
          4095,
          4078,
          1447,
          1375,
          188,
          307,
          1421,
          896,
          157,
          185,
          69,
          78,
          1542,
          1050,
          1503,
          1010,
          923,
          575,
          1699,
          1649,
          1749,
          1709,
          1783,
          1735,
          1823,
          1749,
          7225,
          7193,
          7046,
          3085,
          6112,
          6221,
          5371,
          4203,
          107,
          117,
          628,
          4508,
          1875,
          80,
          30,
          96,
          96,
          96,
          96,
          96,
          1522,
          1887,
          3091,
          815,
          1139,
          1868,
          0,
          0,
          0,
          24,
          47,
          15,
          14,
          14,
          120,
          256,
          449,
          1338,
          924,
          844,
          2504,
          78,
          129,
          224,
          198,
          215,
          26,
          36,
          0,
          2903,
          446,
          478,
          2647,
          3267,
          3924,
          4744,
          3831,
          3840,
          3207,
          3170,
          1587,
          21,
          19,
          5,
          22,
          43,
          41,
          1295,
          12,
          1,
          44,
          43,
          33,
          280,
          302,
          2,
          64,
          409,
          336,
          500,
          582,
          150,
          47,
          47,
          145,
          188,
          112,
          119,
          113,
          965,
          2,
          2,
          155,
          116,
          0,
          33,
          33,
          41,
          203,
          21,
          21,
          23,
          23,
          2,
          963,
          1176,
          2458,
          2908,
          3182,
          9,
          26,
          21,
          251,
          237,
          21,
          168,
          48,
          273,
          145,
          481,
          148,
          128,
          99,
          0,
          0,
          155,
          155,
          156,
          259,
          56,
          112,
          40,
          0,
          26,
          0,
          31,
          416,
          2631,
          2960,
          1713,
          67,
          0,
          42,
          42,
          91,
          91,
          112,
          138,
          175,
          789,
          1235,
          84,
          714,
          1220,
          90,
          227,
          75,
          152,
          146,
          2,
          1,
          4,
          9,
          23,
          180,
          0,
          14,
          14,
          14,
          14,
          62,
          66,
          67,
          58,
          15,
          823,
          597,
          1901,
          2011,
          1990,
          1990,
          1883,
          64,
          65,
          57,
          1,
          9,
          0,
          0,
          52,
          68,
          68,
          96,
          186,
          183,
          5,
          20,
          75,
          966,
          967,
          1073,
          2247,
          1529,
          1548,
          34,
          120,
          62,
          11,
          112,
          26,
          79,
          24,
          3,
          288,
          123,
          752,
          222,
          0,
          7,
          168,
          1310,
          1239,
          90,
          103,
          164,
          91,
          6,
          5,
          5,
          108,
          108,
          126,
          154,
          243,
          232,
          84,
          135,
          134,
          134,
          134,
          1,
          520,
          519,
          472,
          482,
          482,
          482,
          482,
          478,
          478,
          470,
          470,
          17,
          37,
          254,
          974,
          217,
          217,
          0,
          62,
          5,
          5,
          16,
          16,
          16,
          5,
          0,
          0,
          440,
          0,
          0
         ],
         "yaxis": "y"
        },
        {
         "hovertemplate": "Observed=%{x}<br>Model=%{y}<extra></extra>",
         "legendgroup": "",
         "line": {
          "color": "Grey",
          "dash": "solid",
          "width": 2
         },
         "marker": {
          "symbol": "circle"
         },
         "mode": "lines",
         "name": "",
         "orientation": "v",
         "showlegend": false,
         "type": "scatter",
         "x": [
          0.0,
          106.08080808080808,
          212.16161616161617,
          318.24242424242425,
          424.32323232323233,
          530.4040404040404,
          636.4848484848485,
          742.5656565656566,
          848.6464646464647,
          954.7272727272727,
          1060.8080808080808,
          1166.888888888889,
          1272.969696969697,
          1379.050505050505,
          1485.1313131313132,
          1591.2121212121212,
          1697.2929292929293,
          1803.3737373737374,
          1909.4545454545455,
          2015.5353535353536,
          2121.6161616161617,
          2227.69696969697,
          2333.777777777778,
          2439.8585858585857,
          2545.939393939394,
          2652.0202020202023,
          2758.10101010101,
          2864.181818181818,
          2970.2626262626263,
          3076.3434343434346,
          3182.4242424242425,
          3288.5050505050503,
          3394.5858585858587,
          3500.666666666667,
          3606.747474747475,
          3712.8282828282827,
          3818.909090909091,
          3924.9898989898993,
          4031.070707070707,
          4137.151515151515,
          4243.232323232323,
          4349.313131313132,
          4455.39393939394,
          4561.474747474747,
          4667.555555555556,
          4773.636363636364,
          4879.717171717171,
          4985.79797979798,
          5091.878787878788,
          5197.959595959596,
          5304.040404040405,
          5410.121212121212,
          5516.20202020202,
          5622.282828282829,
          5728.363636363636,
          5834.444444444444,
          5940.525252525253,
          6046.606060606061,
          6152.686868686869,
          6258.767676767677,
          6364.848484848485,
          6470.929292929293,
          6577.010101010101,
          6683.090909090909,
          6789.171717171717,
          6895.252525252526,
          7001.333333333334,
          7107.414141414141,
          7213.49494949495,
          7319.575757575758,
          7425.656565656565,
          7531.737373737374,
          7637.818181818182,
          7743.89898989899,
          7849.979797979799,
          7956.060606060606,
          8062.141414141414,
          8168.222222222223,
          8274.30303030303,
          8380.38383838384,
          8486.464646464647,
          8592.545454545454,
          8698.626262626263,
          8804.70707070707,
          8910.78787878788,
          9016.868686868687,
          9122.949494949495,
          9229.030303030304,
          9335.111111111111,
          9441.191919191919,
          9547.272727272728,
          9653.353535353535,
          9759.434343434343,
          9865.515151515152,
          9971.59595959596,
          10077.676767676769,
          10183.757575757576,
          10289.838383838383,
          10395.919191919193,
          10502.0
         ],
         "xaxis": "x",
         "y": [
          142.45084358688973,
          260.14309706837815,
          377.8353505498666,
          495.527604031355,
          613.2198575128434,
          730.9121109943319,
          848.6043644758203,
          966.2966179573087,
          1083.988871438797,
          1201.6811249202856,
          1319.373378401774,
          1437.0656318832623,
          1554.7578853647508,
          1672.4501388462393,
          1790.1423923277277,
          1907.834645809216,
          2025.5268992907045,
          2143.219152772193,
          2260.9114062536814,
          2378.60365973517,
          2496.2959132166584,
          2613.988166698147,
          2731.680420179635,
          2849.3726736611234,
          2967.064927142612,
          3084.757180624101,
          3202.449434105589,
          3320.141687587077,
          3437.8339410685658,
          3555.5261945500542,
          3673.2184480315423,
          3790.9107015130307,
          3908.602954994519,
          4026.295208476008,
          4143.987461957497,
          4261.679715438984,
          4379.371968920474,
          4497.064222401961,
          4614.756475883451,
          4732.448729364938,
          4850.1409828464275,
          4967.833236327915,
          5085.5254898094045,
          5203.217743290892,
          5320.90999677238,
          5438.602250253869,
          5556.294503735357,
          5673.986757216846,
          5791.6790106983335,
          5909.371264179823,
          6027.063517661312,
          6144.7557711428,
          6262.448024624287,
          6380.140278105777,
          6497.832531587264,
          6615.524785068752,
          6733.217038550241,
          6850.909292031731,
          6968.601545513218,
          7086.293798994706,
          7203.986052476195,
          7321.678305957685,
          7439.370559439172,
          7557.06281292066,
          7674.755066402149,
          7792.447319883637,
          7910.139573365126,
          8027.831826846614,
          8145.524080328103,
          8263.21633380959,
          8380.90858729108,
          8498.600840772568,
          8616.293094254057,
          8733.985347735545,
          8851.677601217034,
          8969.369854698522,
          9087.062108180011,
          9204.754361661498,
          9322.446615142986,
          9440.138868624477,
          9557.831122105965,
          9675.523375587452,
          9793.215629068942,
          9910.90788255043,
          10028.600136031919,
          10146.292389513406,
          10263.984642994894,
          10381.676896476383,
          10499.36914995787,
          10617.061403439358,
          10734.75365692085,
          10852.445910402337,
          10970.138163883825,
          11087.830417365314,
          11205.522670846802,
          11323.214924328291,
          11440.907177809779,
          11558.599431291266,
          11676.291684772756,
          11793.983938254243
         ],
         "yaxis": "y"
        }
       ],
       "layout": {
        "annotations": [
         {
          "align": "right",
          "font": {
           "color": "pink",
           "size": 12
          },
          "showarrow": false,
          "text": "y = x",
          "x": 11027.1,
          "y": 11027.1
         },
         {
          "align": "right",
          "font": {
           "color": "black",
           "size": 12
          },
          "showarrow": false,
          "text": "r^2 = 0.71",
          "x": 11027.1,
          "y": 12383.683135166955
         }
        ],
        "height": 600,
        "legend": {
         "tracegroupgap": 0
        },
        "margin": {
         "b": 100,
         "l": 100,
         "r": 100,
         "t": 100
        },
        "shapes": [
         {
          "line": {
           "color": "Red",
           "dash": "dash",
           "width": 2
          },
          "type": "line",
          "x0": 0,
          "x1": 10502,
          "y0": 0,
          "y1": 10502
         }
        ],
        "template": {
         "data": {
          "bar": [
           {
            "error_x": {
             "color": "rgb(36,36,36)"
            },
            "error_y": {
             "color": "rgb(36,36,36)"
            },
            "marker": {
             "line": {
              "color": "white",
              "width": 0.5
             },
             "pattern": {
              "fillmode": "overlay",
              "size": 10,
              "solidity": 0.2
             }
            },
            "type": "bar"
           }
          ],
          "barpolar": [
           {
            "marker": {
             "line": {
              "color": "white",
              "width": 0.5
             },
             "pattern": {
              "fillmode": "overlay",
              "size": 10,
              "solidity": 0.2
             }
            },
            "type": "barpolar"
           }
          ],
          "carpet": [
           {
            "aaxis": {
             "endlinecolor": "rgb(36,36,36)",
             "gridcolor": "white",
             "linecolor": "white",
             "minorgridcolor": "white",
             "startlinecolor": "rgb(36,36,36)"
            },
            "baxis": {
             "endlinecolor": "rgb(36,36,36)",
             "gridcolor": "white",
             "linecolor": "white",
             "minorgridcolor": "white",
             "startlinecolor": "rgb(36,36,36)"
            },
            "type": "carpet"
           }
          ],
          "choropleth": [
           {
            "colorbar": {
             "outlinewidth": 1,
             "tickcolor": "rgb(36,36,36)",
             "ticks": "outside"
            },
            "type": "choropleth"
           }
          ],
          "contour": [
           {
            "colorbar": {
             "outlinewidth": 1,
             "tickcolor": "rgb(36,36,36)",
             "ticks": "outside"
            },
            "colorscale": [
             [
              0.0,
              "#440154"
             ],
             [
              0.1111111111111111,
              "#482878"
             ],
             [
              0.2222222222222222,
              "#3e4989"
             ],
             [
              0.3333333333333333,
              "#31688e"
             ],
             [
              0.4444444444444444,
              "#26828e"
             ],
             [
              0.5555555555555556,
              "#1f9e89"
             ],
             [
              0.6666666666666666,
              "#35b779"
             ],
             [
              0.7777777777777778,
              "#6ece58"
             ],
             [
              0.8888888888888888,
              "#b5de2b"
             ],
             [
              1.0,
              "#fde725"
             ]
            ],
            "type": "contour"
           }
          ],
          "contourcarpet": [
           {
            "colorbar": {
             "outlinewidth": 1,
             "tickcolor": "rgb(36,36,36)",
             "ticks": "outside"
            },
            "type": "contourcarpet"
           }
          ],
          "heatmap": [
           {
            "colorbar": {
             "outlinewidth": 1,
             "tickcolor": "rgb(36,36,36)",
             "ticks": "outside"
            },
            "colorscale": [
             [
              0.0,
              "#440154"
             ],
             [
              0.1111111111111111,
              "#482878"
             ],
             [
              0.2222222222222222,
              "#3e4989"
             ],
             [
              0.3333333333333333,
              "#31688e"
             ],
             [
              0.4444444444444444,
              "#26828e"
             ],
             [
              0.5555555555555556,
              "#1f9e89"
             ],
             [
              0.6666666666666666,
              "#35b779"
             ],
             [
              0.7777777777777778,
              "#6ece58"
             ],
             [
              0.8888888888888888,
              "#b5de2b"
             ],
             [
              1.0,
              "#fde725"
             ]
            ],
            "type": "heatmap"
           }
          ],
          "heatmapgl": [
           {
            "colorbar": {
             "outlinewidth": 1,
             "tickcolor": "rgb(36,36,36)",
             "ticks": "outside"
            },
            "colorscale": [
             [
              0.0,
              "#440154"
             ],
             [
              0.1111111111111111,
              "#482878"
             ],
             [
              0.2222222222222222,
              "#3e4989"
             ],
             [
              0.3333333333333333,
              "#31688e"
             ],
             [
              0.4444444444444444,
              "#26828e"
             ],
             [
              0.5555555555555556,
              "#1f9e89"
             ],
             [
              0.6666666666666666,
              "#35b779"
             ],
             [
              0.7777777777777778,
              "#6ece58"
             ],
             [
              0.8888888888888888,
              "#b5de2b"
             ],
             [
              1.0,
              "#fde725"
             ]
            ],
            "type": "heatmapgl"
           }
          ],
          "histogram": [
           {
            "marker": {
             "line": {
              "color": "white",
              "width": 0.6
             }
            },
            "type": "histogram"
           }
          ],
          "histogram2d": [
           {
            "colorbar": {
             "outlinewidth": 1,
             "tickcolor": "rgb(36,36,36)",
             "ticks": "outside"
            },
            "colorscale": [
             [
              0.0,
              "#440154"
             ],
             [
              0.1111111111111111,
              "#482878"
             ],
             [
              0.2222222222222222,
              "#3e4989"
             ],
             [
              0.3333333333333333,
              "#31688e"
             ],
             [
              0.4444444444444444,
              "#26828e"
             ],
             [
              0.5555555555555556,
              "#1f9e89"
             ],
             [
              0.6666666666666666,
              "#35b779"
             ],
             [
              0.7777777777777778,
              "#6ece58"
             ],
             [
              0.8888888888888888,
              "#b5de2b"
             ],
             [
              1.0,
              "#fde725"
             ]
            ],
            "type": "histogram2d"
           }
          ],
          "histogram2dcontour": [
           {
            "colorbar": {
             "outlinewidth": 1,
             "tickcolor": "rgb(36,36,36)",
             "ticks": "outside"
            },
            "colorscale": [
             [
              0.0,
              "#440154"
             ],
             [
              0.1111111111111111,
              "#482878"
             ],
             [
              0.2222222222222222,
              "#3e4989"
             ],
             [
              0.3333333333333333,
              "#31688e"
             ],
             [
              0.4444444444444444,
              "#26828e"
             ],
             [
              0.5555555555555556,
              "#1f9e89"
             ],
             [
              0.6666666666666666,
              "#35b779"
             ],
             [
              0.7777777777777778,
              "#6ece58"
             ],
             [
              0.8888888888888888,
              "#b5de2b"
             ],
             [
              1.0,
              "#fde725"
             ]
            ],
            "type": "histogram2dcontour"
           }
          ],
          "mesh3d": [
           {
            "colorbar": {
             "outlinewidth": 1,
             "tickcolor": "rgb(36,36,36)",
             "ticks": "outside"
            },
            "type": "mesh3d"
           }
          ],
          "parcoords": [
           {
            "line": {
             "colorbar": {
              "outlinewidth": 1,
              "tickcolor": "rgb(36,36,36)",
              "ticks": "outside"
             }
            },
            "type": "parcoords"
           }
          ],
          "pie": [
           {
            "automargin": true,
            "type": "pie"
           }
          ],
          "scatter": [
           {
            "fillpattern": {
             "fillmode": "overlay",
             "size": 10,
             "solidity": 0.2
            },
            "type": "scatter"
           }
          ],
          "scatter3d": [
           {
            "line": {
             "colorbar": {
              "outlinewidth": 1,
              "tickcolor": "rgb(36,36,36)",
              "ticks": "outside"
             }
            },
            "marker": {
             "colorbar": {
              "outlinewidth": 1,
              "tickcolor": "rgb(36,36,36)",
              "ticks": "outside"
             }
            },
            "type": "scatter3d"
           }
          ],
          "scattercarpet": [
           {
            "marker": {
             "colorbar": {
              "outlinewidth": 1,
              "tickcolor": "rgb(36,36,36)",
              "ticks": "outside"
             }
            },
            "type": "scattercarpet"
           }
          ],
          "scattergeo": [
           {
            "marker": {
             "colorbar": {
              "outlinewidth": 1,
              "tickcolor": "rgb(36,36,36)",
              "ticks": "outside"
             }
            },
            "type": "scattergeo"
           }
          ],
          "scattergl": [
           {
            "marker": {
             "colorbar": {
              "outlinewidth": 1,
              "tickcolor": "rgb(36,36,36)",
              "ticks": "outside"
             }
            },
            "type": "scattergl"
           }
          ],
          "scattermapbox": [
           {
            "marker": {
             "colorbar": {
              "outlinewidth": 1,
              "tickcolor": "rgb(36,36,36)",
              "ticks": "outside"
             }
            },
            "type": "scattermapbox"
           }
          ],
          "scatterpolar": [
           {
            "marker": {
             "colorbar": {
              "outlinewidth": 1,
              "tickcolor": "rgb(36,36,36)",
              "ticks": "outside"
             }
            },
            "type": "scatterpolar"
           }
          ],
          "scatterpolargl": [
           {
            "marker": {
             "colorbar": {
              "outlinewidth": 1,
              "tickcolor": "rgb(36,36,36)",
              "ticks": "outside"
             }
            },
            "type": "scatterpolargl"
           }
          ],
          "scatterternary": [
           {
            "marker": {
             "colorbar": {
              "outlinewidth": 1,
              "tickcolor": "rgb(36,36,36)",
              "ticks": "outside"
             }
            },
            "type": "scatterternary"
           }
          ],
          "surface": [
           {
            "colorbar": {
             "outlinewidth": 1,
             "tickcolor": "rgb(36,36,36)",
             "ticks": "outside"
            },
            "colorscale": [
             [
              0.0,
              "#440154"
             ],
             [
              0.1111111111111111,
              "#482878"
             ],
             [
              0.2222222222222222,
              "#3e4989"
             ],
             [
              0.3333333333333333,
              "#31688e"
             ],
             [
              0.4444444444444444,
              "#26828e"
             ],
             [
              0.5555555555555556,
              "#1f9e89"
             ],
             [
              0.6666666666666666,
              "#35b779"
             ],
             [
              0.7777777777777778,
              "#6ece58"
             ],
             [
              0.8888888888888888,
              "#b5de2b"
             ],
             [
              1.0,
              "#fde725"
             ]
            ],
            "type": "surface"
           }
          ],
          "table": [
           {
            "cells": {
             "fill": {
              "color": "rgb(237,237,237)"
             },
             "line": {
              "color": "white"
             }
            },
            "header": {
             "fill": {
              "color": "rgb(217,217,217)"
             },
             "line": {
              "color": "white"
             }
            },
            "type": "table"
           }
          ]
         },
         "layout": {
          "annotationdefaults": {
           "arrowhead": 0,
           "arrowwidth": 1
          },
          "autotypenumbers": "strict",
          "coloraxis": {
           "colorbar": {
            "outlinewidth": 1,
            "tickcolor": "rgb(36,36,36)",
            "ticks": "outside"
           }
          },
          "colorscale": {
           "diverging": [
            [
             0.0,
             "rgb(103,0,31)"
            ],
            [
             0.1,
             "rgb(178,24,43)"
            ],
            [
             0.2,
             "rgb(214,96,77)"
            ],
            [
             0.3,
             "rgb(244,165,130)"
            ],
            [
             0.4,
             "rgb(253,219,199)"
            ],
            [
             0.5,
             "rgb(247,247,247)"
            ],
            [
             0.6,
             "rgb(209,229,240)"
            ],
            [
             0.7,
             "rgb(146,197,222)"
            ],
            [
             0.8,
             "rgb(67,147,195)"
            ],
            [
             0.9,
             "rgb(33,102,172)"
            ],
            [
             1.0,
             "rgb(5,48,97)"
            ]
           ],
           "sequential": [
            [
             0.0,
             "#440154"
            ],
            [
             0.1111111111111111,
             "#482878"
            ],
            [
             0.2222222222222222,
             "#3e4989"
            ],
            [
             0.3333333333333333,
             "#31688e"
            ],
            [
             0.4444444444444444,
             "#26828e"
            ],
            [
             0.5555555555555556,
             "#1f9e89"
            ],
            [
             0.6666666666666666,
             "#35b779"
            ],
            [
             0.7777777777777778,
             "#6ece58"
            ],
            [
             0.8888888888888888,
             "#b5de2b"
            ],
            [
             1.0,
             "#fde725"
            ]
           ],
           "sequentialminus": [
            [
             0.0,
             "#440154"
            ],
            [
             0.1111111111111111,
             "#482878"
            ],
            [
             0.2222222222222222,
             "#3e4989"
            ],
            [
             0.3333333333333333,
             "#31688e"
            ],
            [
             0.4444444444444444,
             "#26828e"
            ],
            [
             0.5555555555555556,
             "#1f9e89"
            ],
            [
             0.6666666666666666,
             "#35b779"
            ],
            [
             0.7777777777777778,
             "#6ece58"
            ],
            [
             0.8888888888888888,
             "#b5de2b"
            ],
            [
             1.0,
             "#fde725"
            ]
           ]
          },
          "colorway": [
           "#91268F",
           "#8CC63E",
           "#00A7A0",
           "#F05A28",
           "#4C4C4C",
           "#630460",
           "#9f3913",
           "#588527",
           "#00716c",
           "#3e4040"
          ],
          "font": {
           "color": "rgb(36,36,36)",
           "family": "Poppins",
           "size": 11
          },
          "geo": {
           "bgcolor": "white",
           "lakecolor": "white",
           "landcolor": "white",
           "showlakes": true,
           "showland": true,
           "subunitcolor": "white"
          },
          "hoverlabel": {
           "align": "left"
          },
          "hovermode": "closest",
          "mapbox": {
           "style": "light"
          },
          "paper_bgcolor": "white",
          "plot_bgcolor": "white",
          "polar": {
           "angularaxis": {
            "gridcolor": "rgb(232,232,232)",
            "linecolor": "rgb(36,36,36)",
            "showgrid": false,
            "showline": true,
            "ticks": "outside"
           },
           "bgcolor": "white",
           "radialaxis": {
            "gridcolor": "rgb(232,232,232)",
            "linecolor": "rgb(36,36,36)",
            "showgrid": false,
            "showline": true,
            "ticks": "outside"
           }
          },
          "scene": {
           "xaxis": {
            "backgroundcolor": "white",
            "gridcolor": "rgb(232,232,232)",
            "gridwidth": 2,
            "linecolor": "rgb(36,36,36)",
            "showbackground": true,
            "showgrid": false,
            "showline": true,
            "ticks": "outside",
            "zeroline": false,
            "zerolinecolor": "rgb(36,36,36)"
           },
           "yaxis": {
            "backgroundcolor": "white",
            "gridcolor": "rgb(232,232,232)",
            "gridwidth": 2,
            "linecolor": "rgb(36,36,36)",
            "showbackground": true,
            "showgrid": false,
            "showline": true,
            "ticks": "outside",
            "zeroline": false,
            "zerolinecolor": "rgb(36,36,36)"
           },
           "zaxis": {
            "backgroundcolor": "white",
            "gridcolor": "rgb(232,232,232)",
            "gridwidth": 2,
            "linecolor": "rgb(36,36,36)",
            "showbackground": true,
            "showgrid": false,
            "showline": true,
            "ticks": "outside",
            "zeroline": false,
            "zerolinecolor": "rgb(36,36,36)"
           }
          },
          "shapedefaults": {
           "fillcolor": "black",
           "line": {
            "width": 0
           },
           "opacity": 0.3
          },
          "ternary": {
           "aaxis": {
            "gridcolor": "rgb(232,232,232)",
            "linecolor": "rgb(36,36,36)",
            "showgrid": false,
            "showline": true,
            "ticks": "outside"
           },
           "baxis": {
            "gridcolor": "rgb(232,232,232)",
            "linecolor": "rgb(36,36,36)",
            "showgrid": false,
            "showline": true,
            "ticks": "outside"
           },
           "bgcolor": "white",
           "caxis": {
            "gridcolor": "rgb(232,232,232)",
            "linecolor": "rgb(36,36,36)",
            "showgrid": false,
            "showline": true,
            "ticks": "outside"
           }
          },
          "title": {
           "x": 0.05
          },
          "xaxis": {
           "automargin": true,
           "gridcolor": "rgb(232,232,232)",
           "linecolor": "rgb(36,36,36)",
           "showgrid": false,
           "showline": true,
           "ticks": "outside",
           "title": {
            "standoff": 15
           },
           "zeroline": false,
           "zerolinecolor": "rgb(36,36,36)"
          },
          "yaxis": {
           "automargin": true,
           "gridcolor": "rgb(232,232,232)",
           "linecolor": "rgb(36,36,36)",
           "showgrid": false,
           "showline": true,
           "ticks": "outside",
           "title": {
            "standoff": 15
           },
           "zeroline": false,
           "zerolinecolor": "rgb(36,36,36)"
          }
         }
        },
        "title": {
         "text": "Heavy Trucks: Region"
        },
        "width": 800,
        "xaxis": {
         "anchor": "y",
         "domain": [
          0.0,
          1.0
         ],
         "title": {
          "text": "Observed"
         }
        },
        "yaxis": {
         "anchor": "x",
         "domain": [
          0.0,
          1.0
         ],
         "title": {
          "text": "Model"
         }
        }
       }
      },
      "text/html": [
       "<div>                            <div id=\"1f90516f-8f5f-4c5d-91ff-61713f15025a\" class=\"plotly-graph-div\" style=\"height:600px; width:800px;\"></div>            <script type=\"text/javascript\">                require([\"plotly\"], function(Plotly) {                    window.PLOTLYENV=window.PLOTLYENV || {};                                    if (document.getElementById(\"1f90516f-8f5f-4c5d-91ff-61713f15025a\")) {                    Plotly.newPlot(                        \"1f90516f-8f5f-4c5d-91ff-61713f15025a\",                        [{\"customdata\":[[\"I-5 S\\u002fO Mounts NB\",\"Pierce\"],[\"I-5 S\\u002fO Mounts SB\",\"Pierce\"],[\"I-5 S\\u002fO Division NB\",\"Pierce\"],[\"I-5 S\\u002fO Division SB\",\"Pierce\"],[\"I-5 @ N\\u002fO Division NB\",\"Pierce\"],[\"I-5 @ N\\u002fO Division SB\",\"Pierce\"],[\"I-5 S\\u002fO SR-512 NB\",\"Pierce\"],[\"I-5 S\\u002fO SR-512 SB\",\"Pierce\"],[\"I-5 N\\u002fO SR-512 NB\",\"Pierce\"],[\"I-5 N\\u002fO SR-512 SB\",\"Pierce\"],[\"I-5 N\\u002fO 56th NB\",\"Pierce\"],[\"I-5 N\\u002fO 56th SB\",\"Pierce\"],[\"I-5 E\\u002fO SR-16 NB\",\"Pierce\"],[\"I-5 E\\u002fO SR-16 SB\",\"Pierce\"],[\"I-5 E\\u002fO Port of Tacoma NB\",\"Pierce\"],[\"I-5 E\\u002fO Port of Tacoma SB (HOV from 56)\",\"Pierce\"],[\"I-5 S\\u002fO 205th NB\",\"King\"],[\"I-5 S\\u002fO 205th SB\",\"King\"],[\"I-5 @ 44th NB\",\"Snohomish\"],[\"I-5 @ 44th SB\",\"Snohomish\"],[\"I-5 N\\u002fO 164th NB\",\"Snohomish\"],[\"I-5 N\\u002fO 164th SB\",\"Snohomish\"],[\"I-5 N\\u002fO SR-526 NB\",\"Snohomish\"],[\"I-5 N\\u002fO SR-526 SB\",\"Snohomish\"],[\"I-5 N\\u002fO 41st NB\",\"Snohomish\"],[\"I-5 N\\u002fO 41st SB\",\"Snohomish\"],[\"I-5 @ SR-528 NB\",\"Snohomish\"],[\"I-5 @ SR-528 SB\",\"Snohomish\"],[\"I-5 N\\u002fO SR-531 NB\",\"Snohomish\"],[\"I-5 N\\u002fO SR-531 SB\",\"Snohomish\"],[\"I-5 Rev N\\u002fO I-5 GP NB\\u002fSB\",\"King\"],[\"I-90 E\\u002fO I-5 WB\",\"King\"],[\"I-90 E\\u002fO I-5 EB\",\"King\"],[\"I-90 E\\u002fO W Lk Sam WB\",\"King\"],[\"I-90 E\\u002fO W Lk Sam EB\",\"King\"],[\"I-90 E\\u002fO SR-900 WB\",\"King\"],[\"I-405 @ I-5 Southcenter NB\",\"King\"],[\"I-405 @ I-5 Southcenter SB\",\"King\"],[\"I-405 @ Lake Wash Blvd NB\",\"King\"],[\"I-405 @ I-90 NB\",\"King\"],[\"I-405 @ I-90 SB\",\"King\"],[\"I-405 N\\u002fO SR-527 NB\",\"Snohomish\"],[\"I-405 N\\u002fO SR-527 SB\",\"Snohomish\"],[\"SR-525 N\\u002fO I-5 NB\",\"Snohomish\"],[\"SR-525 N\\u002fO I-5 SB\",\"Snohomish\"],[\"SR-520 @ x-lake bridge WB\",\"King\"],[\"SR-520 @ x-lake bridge EB\",\"King\"],[\"SR-167 S\\u002fO 43rd NB\",\"King\"],[\"SR-167 S\\u002fO 43rd SB\",\"King\"],[\"SR-167 N\\u002fO SR-18 NB\",\"King\"],[\"SR-167 N\\u002fO SR-18 SB\",\"King\"],[\"SR-167 S\\u002fO 15th SW NB\",\"King\"],[\"SR-167 S\\u002fO 15th SW SB\",\"King\"],[\"SR-512 W\\u002fO Meridian WB\",\"Pierce\"],[\"SR-512 W\\u002fO Meridian EB\",\"Pierce\"],[\"SR-509 @ Holden NB\",\"King\"],[\"SR-509 @ Holden SB\",\"King\"],[\"SR-99 N\\u002fO 14th NB\",\"King\"],[\"SR-99 N\\u002fO 14th SB\",\"King\"],[\"SR-99 N\\u002fO WSF NB\",\"King\"],[\"SR-99 N\\u002fO WSF SB\",\"King\"],[\"SR-99 tunnel NB\",\"King\"],[\"SR-99 tunnel SB\",\"King\"],[\"SR-599 S\\u002fO Pacific NB\",\"King\"],[\"SR-599 S\\u002fO Pacific SB\",\"King\"],[\"SR-599 @ Pacific NB\",\"King\"],[\"SR-599 @ Pacific SB\",\"King\"],[\"SR-18 @ I-5 WB\",\"King\"],[\"SR-18 @ I-5 EB\",\"King\"],[\"SR-18 W\\u002fO Auburn-Black Diamond WB\",\"King\"],[\"SR-18 W\\u002fO Auburn-Black Diamond EB\",\"King\"],[\"SR-18 E\\u002fO SR-516 WB\",\"King\"],[\"SR-18 E\\u002fO SR-516 EB\",\"King\"],[\"SR-18 E\\u002fO 256th WB\",\"King\"],[\"SR-18 E\\u002fO 256th EB\",\"King\"],[\"SR-522 N\\u002fO 195th WB\",\"King\"],[\"SR-522 N\\u002fO 195th EB\",\"King\"],[\"I-5 N\\u002fO I-5 Rev CBD NB\\u002fSB\",\"King\"],[\"I-5 @ SR-532 NB\\u002fSB\",\"Snohomish\"],[\"I-5 @ Skagit border NB\\u002fSB\",\"Snohomish\"],[\"I-90 W\\u002fO SR-18 WB\\u002fEB\",\"King\"],[\"I-90 E\\u002fO SR-18 WB\\u002fEB\",\"King\"],[\"I-90 E\\u002fO 436th WB\\u002fEB\",\"King\"],[\"I-90 @ Kittitas County WB\\u002fEB\",\"King\"],[\"I-405 N\\u002fO SR-522 NB\\u002fSB\",\"King\"],[\"SR-525 N\\u002fO SR-526 NB\\u002fSB\",\"Snohomish\"],[\"SR-525 N\\u002fO 5th NB\\u002fSB\",\"Snohomish\"],[\"SR-167 N\\u002fO Grady NB\\u002fSB\",\"King\"],[\"SR-167 W\\u002fO SR-410 NB\\u002fSB\",\"Pierce\"],[\"SR-167 E\\u002fO SR-161 NB\\u002fSB\",\"Pierce\"],[\"SR-410 E\\u002fO S Prairie WB\\u002fEB\",\"Pierce\"],[\"SR-410 E\\u002fO 244th WB\\u002fEB\",\"King\"],[\"SR-410 E\\u002fO Farman WB\\u002fEB\",\"King\"],[\"SR-410 @ Greenwater River WB\\u002fEB\",\"King\"],[\"SR-410 E\\u002fO Chinook WB\\u002fEB\",\"Pierce\"],[\"SR-410 W\\u002fO SR-123 WB\\u002fEB\",\"Pierce\"],[\"SR-410 E\\u002fO SR-123 WB\\u002fEB\",\"Pierce\"],[\"SR-512 @ I-5 WB\\u002fEB\",\"Pierce\"],[\"SR-512 W\\u002fO SR-7 WB\\u002fEB\",\"Pierce\"],[\"SR-512 S\\u002fO SR-167 WB\\u002fEB\",\"Pierce\"],[\"SR-509 E\\u002fO I-705 NB\\u002fSB\",\"Pierce\"],[\"SR-509 W\\u002fO Alexander NB\\u002fSB\",\"Pierce\"],[\"SR-509 S\\u002fO 11th NB\\u002fSB\",\"Pierce\"],[\"SR-509 N\\u002fO Hyada NB\\u002fSB\",\"Pierce\"],[\"SR-509 E\\u002fO Soundview NB\\u002fSB\",\"Pierce\"],[\"SR-509 E\\u002fO 47th NB\\u002fSB\",\"King\"],[\"SR-509 E\\u002fO 21st NB\\u002fSB\",\"King\"],[\"SR-509 W\\u002fO SR-516 NB\\u002fSB\",\"King\"],[\"SR-509 W\\u002fO Des Moines Mem NB\\u002fSB\",\"King\"],[\"SR-509 E\\u002fO 1st Ave NB\\u002fSB\",\"King\"],[\"SR-509 E\\u002fO Des Moines Mem NB\\u002fSB\",\"King\"],[\"SR-509 @ SR-509 ramp overpass NB\\u002fSB\",\"King\"],[\"SR-509 N\\u002fO Des Moines Mem NB\\u002fSB\",\"King\"],[\"SR-509 N\\u002fO SR-518 NB\\u002fSB\",\"King\"],[\"SR-99 @ I-5 NB\\u002fSB\",\"Pierce\"],[\"SR-99 E\\u002fO 54th NB\\u002fSB\",\"Pierce\"],[\"SR-99 S\\u002fO Porter NB\\u002fSB\",\"Pierce\"],[\"SR-99 S\\u002fO SR-18 NB\\u002fSB\",\"King\"],[\"SR-99 N\\u002fO SR-18 NB\\u002fSB\",\"King\"],[\"SR-99 N\\u002fO 320th NB\\u002fSB\",\"King\"],[\"SR-99 N\\u002fO 188th NB\\u002fSB\",\"King\"],[\"SR-99 @ WSF NB\\u002fSB\",\"King\"],[\"SR-99 @ Aurora Bridge NB\\u002fSB\",\"King\"],[\"SR-99 N\\u002fO 38th NB\\u002fSB\",\"King\"],[\"SR-99 S\\u002fO Roosevelt NB\\u002fSB\",\"King\"],[\"SR-99 E\\u002fO Evergreen NB\\u002fSB\",\"Snohomish\"],[\"SR-599 N\\u002fO I-5 NB\\u002fSB\",\"King\"],[\"SR-518 @ SR-509 WB\\u002fEB\",\"King\"],[\"SR-518 E\\u002fO SR-509 WB\\u002fEB\",\"King\"],[\"SR-18 E\\u002fO SR-99 WB\\u002fEB\",\"King\"],[\"SR-18 N\\u002fO 304th WB\\u002fEB\",\"King\"],[\"SR-18 S\\u002fO I-90 WB\\u002fEB\",\"King\"],[\"SR-16 @ TNB NB\\u002fSB\",\"Pierce\"],[\"SR-16 @ Purdy Dr NB\\u002fSB\",\"Pierce\"],[\"SR-16  N\\u002fO SR-302 NB\\u002fSB\",\"Kitsap\"],[\"SR-16 N\\u002fO SR-160 NB\\u002fSB\",\"Kitsap\"],[\"SR-16 N\\u002fO Tremont NB\\u002fSB\",\"Kitsap\"],[\"SR-16 S\\u002fO SR-3 NB\",\"Kitsap\"],[\"SR-202 @ SR-522 NB\\u002fSB\",\"King\"],[\"SR-202 N\\u002fO 145th NB\\u002fSB\",\"King\"],[\"SR-202 @ Sammamish River Br NB\\u002fSB\",\"King\"],[\"SR-202 S\\u002fO 144th NB\\u002fSB\",\"King\"],[\"SR-202 N\\u002fO Redmond Way NB\\u002fSB\",\"King\"],[\"SR-202 E\\u002fO 164th NB\\u002fSB\",\"King\"],[\"SR-202 E\\u002fO SR-520 NB\\u002fSB\",\"King\"],[\"SR-202 E\\u002fO E Lk Samm NB\\u002fSB\",\"King\"],[\"SR-202 E\\u002fO Sahalee NB\\u002fSB\",\"King\"],[\"SR-202 E\\u002fO 236th NB\\u002fSB\",\"King\"],[\"SR-202 S\\u002fO Ames Lake NB\\u002fSB\",\"King\"],[\"SR-202 S\\u002fO Duthie Hill NB\\u002fSB\",\"King\"],[\"SR-202 E\\u002fO SR-203 NB\\u002fSB\",\"King\"],[\"SR-202 N\\u002fO I-90 NB\\u002fSB\",\"King\"],[\"SR-526 W\\u002fO Paine Field Blvd WB\\u002fEB\",\"Snohomish\"],[\"SR-526 E\\u002fO Paine Field Blvd WB\\u002fEB\",\"Snohomish\"],[\"SR-9 @ SR-522 NB\\u002fSB\",\"Snohomish\"],[\"SR-9 N\\u002fO SR-2 NB\\u002fSB\",\"Snohomish\"],[\"SR-9 N\\u002fO SR-204 NB\\u002fSB\",\"Snohomish\"],[\"SR-9 N\\u002fO SR-92 NB\\u002fSB\",\"Snohomish\"],[\"SR-9 N\\u002fO 132nd NB\\u002fSB\",\"Snohomish\"],[\"SR-9 N\\u002fO SR-531 NB\\u002fSB\",\"Snohomish\"],[\"SR-9 S\\u002fO 67th NB\\u002fSB\",\"Snohomish\"],[\"SR-9 N\\u002fO Kackman NB\\u002fSB\",\"Snohomish\"],[\"SR-9 N\\u002fO Stanwood-Bryant NB\\u002fSB\",\"Snohomish\"],[\"SR-532 @ Island County WB\\u002fEB\",\"Snohomish\"],[\"SR-532 W\\u002fO 28th WB\\u002fEB\",\"Snohomish\"],[\"SR-522 N\\u002fO 145th NB\\u002fSB\",\"King\"],[\"SR-104 @ Hood Canal Bridge WB\\u002fEB\",\"Kitsap\"],[\"SR-104 E\\u002fO Hood Canal Bridge WB\\u002fEB\",\"Kitsap\"],[\"SR-104 N\\u002fO Pt Gamble Rd WB\\u002fEB\",\"Kitsap\"],[\"SR-104 E\\u002fO SR-307 WB\\u002fEB\",\"Kitsap\"],[\"SR-104 E\\u002fO Hansville WB\\u002fEB\",\"Kitsap\"],[\"SR-104 @ Ferry Loading Edm WB\\u002fEB\",\"Snohomish\"],[\"SR-104 N\\u002fO Pine WB\\u002fEB\",\"Snohomish\"],[\"SR-104 E\\u002fO 5th WB\\u002fEB\",\"Snohomish\"],[\"SR-104 W\\u002fO 19th WB\\u002fEB\",\"King\"],[\"SR-160 @ SR-16 WB\\u002fEB\",\"Kitsap\"],[\"SR-160 E\\u002fO Long Lake Rd WB\\u002fEB\",\"Kitsap\"],[\"SR-160 W\\u002fO Banner WB\\u002fEB\",\"Kitsap\"],[\"SR-160 E\\u002fO Peterson WB\\u002fEB\",\"Kitsap\"],[\"SR-160 S\\u002fO Southworth Dr WB\\u002fEB\",\"Kitsap\"],[\"SR-166 E\\u002fO SR-16 WB\\u002fEB\",\"Kitsap\"],[\"SR-3 E\\u002fO Sunset Way NB\\u002fSB\",\"Kitsap\"],[\"SR-3 N\\u002fO SR-305 NB\\u002fSB\",\"Kitsap\"],[\"SR-3 S\\u002fO Newberry Hill Rd NB\\u002fSB\",\"Kitsap\"],[\"SR-3 @ SR-304 NB\\u002fSB\",\"Kitsap\"],[\"SR-3 NE of SR-16 NB\\u002fSB\",\"Kitsap\"],[\"SR-3 W\\u002fO Lake Flora Rd NB\\u002fSB\",\"Kitsap\"],[\"SR-302 N\\u002fO 144th WB\\u002fEB\",\"Pierce\"],[\"SR-302 S\\u002fO 144th WB\\u002fEB\",\"Pierce\"],[\"SR-302 W\\u002fO Key Peninsula Hwy WB\\u002fEB\",\"Pierce\"],[\"SR-302 W\\u002fO Wright-Bliss WB\\u002fEB (E\\u002fO?)\",\"Pierce\"],[\"SR-303 E\\u002fO SR-3 NB\\u002fSB\",\"Kitsap\"],[\"SR-303 N\\u002fO 11th St NB\\u002fSB\",\"Kitsap\"],[\"SR-303 N\\u002fO SR-304 NB\\u002fSB\",\"Kitsap\"],[\"SR-304 E\\u002fO SR-3 WB\\u002fEB\",\"Kitsap\"],[\"SR-304 W\\u002fO Naval WB\\u002fEB\",\"Kitsap\"],[\"SR-305 W\\u002fO SR-307 WB\\u002fEB\",\"Kitsap\"],[\"SR-305 W\\u002fO Suquamish Way WB\\u002fEB\",\"Kitsap\"],[\"SR-305 N\\u002fO Day Rd WB\\u002fEB\",\"Kitsap\"],[\"SR-305 N\\u002fO High School Rd WB\\u002fEB\",\"Kitsap\"],[\"SR-305 S\\u002fO Winslow Way WB\\u002fEB\",\"Kitsap\"],[\"SR-305 @ Ferry Ramp WB\\u002fEB\",\"Kitsap\"],[\"SR-307 W\\u002fO SR-104 NB\\u002fSB\",\"Kitsap\"],[\"SR-307 N\\u002fO Gunderson NB\\u002fSB\",\"Kitsap\"],[\"SR-307 S\\u002fO Gunderson NB\\u002fSB\",\"Kitsap\"],[\"SR-307 N\\u002fO SR-305 NB\\u002fSB\",\"Kitsap\"],[\"SR-308 @ SR-3 WB\\u002fEB\",\"Kitsap\"],[\"SR-308 E\\u002fO SR-3 WB\\u002fEB\",\"Kitsap\"],[\"SR-308 E\\u002fO Silverdale Way WB\\u002fEB\",\"Kitsap\"],[\"SR-308 W\\u002fO Brownsville Hwy WB\\u002fEB\",\"Kitsap\"],[\"SR-310 @ SR-3 WB\\u002fEB\",\"Kitsap\"],[\"SR-310 W\\u002fO Callow WB\\u002fEB\",\"Kitsap\"],[\"SR-516 E\\u002fO SR-509 WB\\u002fEB\",\"King\"],[\"SR-516 W\\u002fO I-5 WB\\u002fEB\",\"King\"],[\"SR-516 E\\u002fO Meeker WB\\u002fEB\",\"King\"],[\"SR-516 W\\u002fO SR-167 WB\\u002fEB\",\"King\"],[\"SR-516 E\\u002fO SR-167 WB\\u002fEB\",\"King\"],[\"SR-516 E\\u002fO SR-18 WB\\u002fEB\",\"King\"],[\"SR-161 E\\u002fO SR-7 NB\\u002fSB\",\"Pierce\"],[\"SR-161 N\\u002fO Center NB\\u002fSB\",\"Pierce\"],[\"SR-161 N\\u002fO Eatonville Cutoff NB\\u002fSB\",\"Pierce\"],[\"SR-161 N\\u002fO 304th NB\\u002fSB\",\"Pierce\"],[\"SR-161 N\\u002fO 264th NB\\u002fSB\",\"Pierce\"],[\"SR-161 S\\u002fO 224th NB\\u002fSB\",\"Pierce\"],[\"SR-161 N\\u002fO 224th NB\\u002fSB\",\"Pierce\"],[\"SR-161 N\\u002fO 204th NB\\u002fSB\",\"Pierce\"],[\"SR-161 S\\u002fO SR-167 SB off-ramp NB\\u002fSB\",\"Pierce\"],[\"SR-161 S\\u002fO Valley NB\\u002fSB\",\"Pierce\"],[\"SR-161 N\\u002fO Valley NB\\u002fSB\",\"Pierce\"],[\"SR-161 N\\u002fO 8th NB\\u002fSB\",\"Pierce\"],[\"SR-900 S\\u002fO NB I-5 on-ramp @ Boe Acc WB\\u002fEB\",\"King\"],[\"SR-900 E\\u002fO 68th WB\\u002fEB\",\"King\"],[\"SR-900 @ I-405 WB\\u002fEB\",\"King\"],[\"SR-900 E\\u002fO 148th WB\\u002fEB\",\"King\"],[\"SR-900 N\\u002fO Talus WB\\u002fEB\",\"King\"],[\"SR-900 N\\u002fO Newport WB\\u002fEB\",\"King\"],[\"SR-524 W\\u002fO 3rd WB\\u002fEB\",\"Snohomish\"],[\"SR-524 S\\u002fO Main WB\\u002fEB\",\"Snohomish\"],[\"SR-524 N\\u002fO Main WB\\u002fEB\",\"Snohomish\"],[\"SR-524 E\\u002fO 68th WB\\u002fEB\",\"Snohomish\"],[\"SR-524 E\\u002fO 39th WB\\u002fEB\",\"Snohomish\"],[\"SR-524 N\\u002fO Paradise Lake WB\\u002fEB\",\"Snohomish\"],[\"SR-7 @ Thurston County NB\\u002fSB\",\"Pierce\"],[\"SR-7 W\\u002fO Alder Cutoff NB\\u002fSB\",\"Pierce\"],[\"SR-7 N\\u002fO Eatonville Hwy NB\\u002fSB\",\"Pierce\"],[\"SR-7 N\\u002fO Silver Lake NB\\u002fSB\",\"Pierce\"],[\"SR-7 S\\u002fO SR-702 NB\\u002fSB\",\"Pierce\"],[\"SR-7 N\\u002fO 304th NB\\u002fSB\",\"Pierce\"],[\"SR-7 N\\u002fO 260th NB\\u002fSB\",\"Pierce\"],[\"SR-7 S\\u002fO 224th NB\\u002fSB\",\"Pierce\"],[\"SR-7 N\\u002fO 224th NB\\u002fSB\",\"Pierce\"],[\"SR-7 N\\u002fO 38th NB\\u002fSB\",\"Pierce\"],[\"SR-2 E\\u002fO I-5 WB\\u002fEB\",\"Snohomish\"],[\"SR-2 S\\u002fO SR-204 WB\\u002fEB\",\"Snohomish\"],[\"SR-2 E\\u002fO Main WB\\u002fEB\",\"Snohomish\"],[\"SR-2 E\\u002fO Rice WB\\u002fEB\",\"Snohomish\"],[\"SR-2 E\\u002fO 10th (Gold Bar) WB\\u002fEB\",\"Snohomish\"],[\"SR-2 W\\u002fO Index-Galena WB\\u002fEB\",\"Snohomish\"],[\"SR-2 E\\u002fO Index-Galena WB\\u002fEB\",\"Snohomish\"],[\"SR-2 E\\u002fO Skykomish WB\\u002fEB\",\"King\"],[\"SR-527 N\\u002fO I-405 NB\\u002fSB\",\"Snohomish\"],[\"SR-527 N\\u002fO 196th NB\\u002fSB\",\"Snohomish\"],[\"SR-527 N\\u002fO Dumas NB\\u002fSB\",\"Snohomish\"],[\"SR-527 N\\u002fO 100th NB\\u002fSB\",\"Snohomish\"],[\"SR-513 S\\u002fO 44th NB\\u002fSB\",\"King\"],[\"SR-169 N\\u002fO SR-164 NB\\u002fSB\",\"King\"],[\"SR-169 S\\u002fO Lawson NB\\u002fSB\",\"King\"],[\"SR-169 S\\u002fO 276th NB\\u002fSB\",\"King\"],[\"SR-169 N\\u002fO 280th NB\\u002fSB\",\"King\"],[\"SR-169 N\\u002fO 231st NB\\u002fSB\",\"King\"],[\"SR-169 N\\u002fO 232nd NB\\u002fSB\",\"King\"],[\"SR-169 W\\u002fO 140th NB\\u002fSB\",\"King\"],[\"SR-515 N\\u002fO SR-516 NB\\u002fSB\",\"King\"],[\"SR-515 N\\u002fO 108th NB\\u002fSB\",\"King\"],[\"SR-515 N\\u002fO Puget NB\\u002fSB\",\"King\"],[\"SR-181 N\\u002fO SR-516 NB\\u002fSB\",\"King\"],[\"SR-181 S\\u002fO James NB\\u002fSB\",\"King\"],[\"SR-181 N\\u002fO James NB\\u002fSB\",\"King\"],[\"SR-181 N\\u002fO 228th NB\\u002fSB\",\"King\"],[\"SR-181 N\\u002fO 180th NB\\u002fSB\",\"King\"],[\"SR-181 S\\u002fO Longacres NB\\u002fSB\",\"King\"],[\"SR-523 E\\u002fO Lenora WB\\u002fEB\",\"King\"],[\"SR-529 @ I-5 (Evt) NB\\u002fSB\",\"Snohomish\"],[\"SR-529 S\\u002fO Everett NB\\u002fSB\",\"Snohomish\"],[\"SR-529 W\\u002fO Maple NB\\u002fSB\",\"Snohomish\"],[\"SR-529 N\\u002fO Everett NB\\u002fSB\",\"Snohomish\"],[\"SR-529 N\\u002fO Broadway NB\\u002fSB\",\"Snohomish\"],[\"SR-96 @ I-5 WB\\u002fEB\",\"Snohomish\"],[\"SR-96 N\\u002fO 132nd WB\\u002fEB\",\"Snohomish\"],[\"SR-96 E\\u002fO Seattle Hill WB\\u002fEB\",\"Snohomish\"],[\"SR-164 @ SR-18 WB\\u002fEB\",\"King\"],[\"SR-164 S\\u002fO 400th WB\\u002fEB\",\"King\"],[\"SR-528 @ I-5 WB\\u002fEB\",\"Snohomish\"],[\"SR-528 E\\u002fO SR-529 WB\\u002fEB\",\"Snohomish\"],[\"SR-531 N\\u002fO Rose WB\\u002fEB\",\"Snohomish\"],[\"SR-531 E\\u002fO Lk Goodwin WB\\u002fEB\",\"Snohomish\"],[\"SR-531 E\\u002fO 27th WB\\u002fEB\",\"Snohomish\"],[\"SR-531 E\\u002fO I-5 WB\\u002fEB\",\"Snohomish\"],[\"SR-531 E\\u002fO 43rd WB\\u002fEB\",\"Snohomish\"],[\"SR-531 W\\u002fO 67th WB\\u002fEB\",\"Snohomish\"],[\"SR-531 E\\u002fO 67th WB\\u002fEB\",\"Snohomish\"],[\"SR-162 @ SR-410 WB\\u002fEB\",\"Pierce\"],[\"SR-162 S\\u002fO Pioneer WB\\u002fEB\",\"Pierce\"],[\"SR-162 E\\u002fO Orville WB\\u002fEB\",\"Pierce\"],[\"SR-162 E\\u002fO S Prairie WB\\u002fEB\",\"Pierce\"],[\"SR-162 N\\u002fO SR-165 WB\\u002fEB\",\"Pierce\"],[\"SR-163 @ SR-16 NB\\u002fSB\",\"Pierce\"],[\"SR-163 N\\u002fO 37th NB\\u002fSB\",\"Pierce\"],[\"SR-163 N\\u002fO Park NB\\u002fSB\",\"Pierce\"],[\"SR-530 @ I-5 WB\\u002fEB\",\"Snohomish\"],[\"SR-530 E\\u002fO Smokey Pt WB\\u002fEB\",\"Snohomish\"],[\"SR-530 N\\u002fO 211th WB\\u002fEB\",\"Snohomish\"],[\"SR-530 E\\u002fO SR-9 WB\\u002fEB\",\"Snohomish\"],[\"SR-530 W\\u002fO Arlington Hts WB\\u002fEB\",\"Snohomish\"],[\"SR-530 E\\u002fO Arlington Hts WB\\u002fEB\",\"Snohomish\"],[\"SR-530 W\\u002fO Jim Creek WB\\u002fEB\",\"Snohomish\"],[\"SR-530 W\\u002fO Ramstad WB\\u002fEB\",\"Snohomish\"],[\"SR-530 @ Skagit County WB\\u002fEB\",\"Snohomish\"],[\"SR-203 N\\u002fO 203rd NB\\u002fSB\",\"Snohomish\"],[\"SR-203 N\\u002fO Cherry Valley NB\\u002fSB\",\"King\"],[\"SR-203 N\\u002fO 124th NB\\u002fSB\",\"King\"],[\"SR-203 W\\u002fO Stillwater Hill NB\\u002fSB\",\"King\"],[\"SR-203 N\\u002fO Carnation Farm NB\\u002fSB\",\"King\"],[\"SR-203 N\\u002fO Tolt Hill NB\\u002fSB\",\"King\"],[\"SR-203 N\\u002fO SR-202 NB\\u002fSB\",\"King\"],[\"SR-507 S\\u002fO SR-7 NB\\u002fSB\",\"Pierce\"],[\"SR-507 S\\u002fO E Gate NB\\u002fSB\",\"Pierce\"],[\"SR-507 S\\u002fO 288th NB\\u002fSB\",\"Pierce\"],[\"SR-507 N\\u002fO 346th NB\\u002fSB\",\"Pierce\"],[\"SR-204 @ SR-2 NB\\u002fSB\",\"Snohomish\"],[\"SR-204 N\\u002fO 20th NB\\u002fSB\",\"Snohomish\"],[\"SR-204 N\\u002fO SR-2 NB\\u002fSB\",\"Snohomish\"],[\"SR-519 W\\u002fO 4th NB\\u002fSB\",\"King\"],[\"SR-92 E\\u002fO Lake WB\\u002fEB\",\"Snohomish\"],[\"SR-92 E\\u002fO Callow WB\\u002fEB\",\"Snohomish\"],[\"SR-92 E\\u002fO Quarry WB\\u002fEB\",\"Snohomish\"],[\"SR-92 W\\u002fO Mountain Loop WB\\u002fEB\",\"Snohomish\"],[\"SR-702 E\\u002fO SR-507 WB\\u002fEB\",\"Pierce\"],[\"SR-702 E\\u002fO Harts Lake WB\\u002fEB\",\"Pierce\"],[\"SR-702 E\\u002fO 40th WB\\u002fEB\",\"Pierce\"],[\"SR-702 W\\u002fO 8th WB\\u002fEB\",\"Pierce\"],[\"SR-702 E\\u002fO 8th WB\\u002fEB\",\"Pierce\"],[\"SR-165 W\\u002fO SR-162 NB\\u002fSB\",\"Pierce\"],[\"SR-165 N\\u002fO Davis NB\\u002fSB\",\"Pierce\"],[\"SR-165 N\\u002fO Wilkeson-Carbonado NB\\u002fSB\",\"Pierce\"],[\"SR-704 E\\u002fO Spanaway Loop WB\\u002fEB\",\"Pierce\"],[\"SR-706 E\\u002fO SR-7 WB\\u002fEB\",\"Pierce\"],[\"SR-706 E\\u002fO Kernahan WB\\u002fEB\",\"Pierce\"]],\"hovertemplate\":\"Observed=%{x}\\u003cbr\\u003eModel=%{y}\\u003cbr\\u003elocation=%{customdata[0]}\\u003cbr\\u003eCounty=%{customdata[1]}\\u003cextra\\u003e\\u003c\\u002fextra\\u003e\",\"legendgroup\":\"\",\"marker\":{\"color\":\"#91268F\",\"symbol\":\"circle\"},\"mode\":\"markers\",\"name\":\"\",\"orientation\":\"v\",\"showlegend\":false,\"x\":[5573,5542,5922,6132,4944,4825,5532,5301,5029,5099,5967,6014,2704,5893,3834,4831,2322,2482,2931,2951,3252,3274,3206,3377,2734,3167,3043,3126,2304,2316,764,901,830,1933,1905,2505,855,1392,2142,321,258,1355,1425,403,274,137,138,2142,2289,2264,2273,3621,3308,2397,2397,938,942,1170,868,173,157,144,131,1302,1091,1389,920,945,1721,2401,2292,2108,2077,2714,2654,764,823,2893,4052,4113,3334,10502,6332,6539,2933,173,48,308,7266,3486,614,508,797,31,21,17,14,3402,3992,4756,962,2112,103,11,14,19,68,60,10,32,86,120,210,372,1392,2775,1196,1242,280,288,174,222,146,108,141,123,2754,246,336,1417,5817,3461,1762,1426,1558,1210,1364,1155,265,83,76,321,54,146,477,307,420,378,300,318,284,110,99,92,699,285,653,317,372,169,229,167,82,309,328,167,612,75,70,144,84,59,55,72,76,114,34,30,19,12,140,1020,1012,1159,988,1360,288,79,104,57,52,180,216,98,210,126,266,420,420,234,11,9,196,168,126,120,39,36,66,22,138,26,80,540,375,960,288,351,25,201,112,418,338,324,324,532,850,1739,180,175,396,84,208,76,242,84,8,6,6,76,176,507,142,110,67,90,98,400,377,432,374,168,891,874,506,420,444,243,192,126,265,279,44,156,56,224,440,304,231,850,1035,1248,100,96,141,957,897,899,1050,999,918,84,88,49,65,84,825,220,42,62,297,198,260,330,18,99,429,697,696,340,182,420,1034,209,136,135,40,36,90,705,609,464,400,403,383,380,299,47,408,340,364,315,284,330,332,464,352,520,351,58,55,400,638,494,448,60,718,252,220,266,166,254,166,50,18,648,38,13],\"xaxis\":\"x\",\"y\":[6084,6084,6329,6333,6324,6327,6161,6034,5763,6266,6389,6400,5839,8560,10468,10313,5259,5514,5111,5308,6411,6317,6049,5973,5969,5880,5134,5095,4053,4032,4739,1178,1295,1319,1365,1395,188,1780,4579,4412,4086,2267,1893,827,713,58,56,3138,3556,4768,4907,4095,4078,1447,1375,188,307,1421,896,157,185,69,78,1542,1050,1503,1010,923,575,1699,1649,1749,1709,1783,1735,1823,1749,7225,7193,7046,3085,6112,6221,5371,4203,107,117,628,4508,1875,80,30,96,96,96,96,96,1522,1887,3091,815,1139,1868,0,0,0,24,47,15,14,14,120,256,449,1338,924,844,2504,78,129,224,198,215,26,36,0,2903,446,478,2647,3267,3924,4744,3831,3840,3207,3170,1587,21,19,5,22,43,41,1295,12,1,44,43,33,280,302,2,64,409,336,500,582,150,47,47,145,188,112,119,113,965,2,2,155,116,0,33,33,41,203,21,21,23,23,2,963,1176,2458,2908,3182,9,26,21,251,237,21,168,48,273,145,481,148,128,99,0,0,155,155,156,259,56,112,40,0,26,0,31,416,2631,2960,1713,67,0,42,42,91,91,112,138,175,789,1235,84,714,1220,90,227,75,152,146,2,1,4,9,23,180,0,14,14,14,14,62,66,67,58,15,823,597,1901,2011,1990,1990,1883,64,65,57,1,9,0,0,52,68,68,96,186,183,5,20,75,966,967,1073,2247,1529,1548,34,120,62,11,112,26,79,24,3,288,123,752,222,0,7,168,1310,1239,90,103,164,91,6,5,5,108,108,126,154,243,232,84,135,134,134,134,1,520,519,472,482,482,482,482,478,478,470,470,17,37,254,974,217,217,0,62,5,5,16,16,16,5,0,0,440,0,0],\"yaxis\":\"y\",\"type\":\"scatter\",\"line\":{\"color\":\"Grey\",\"width\":2}},{\"hovertemplate\":\"Observed=%{x}\\u003cbr\\u003eModel=%{y}\\u003cextra\\u003e\\u003c\\u002fextra\\u003e\",\"legendgroup\":\"\",\"line\":{\"color\":\"Grey\",\"dash\":\"solid\",\"width\":2},\"marker\":{\"symbol\":\"circle\"},\"mode\":\"lines\",\"name\":\"\",\"orientation\":\"v\",\"showlegend\":false,\"x\":[0.0,106.08080808080808,212.16161616161617,318.24242424242425,424.32323232323233,530.4040404040404,636.4848484848485,742.5656565656566,848.6464646464647,954.7272727272727,1060.8080808080808,1166.888888888889,1272.969696969697,1379.050505050505,1485.1313131313132,1591.2121212121212,1697.2929292929293,1803.3737373737374,1909.4545454545455,2015.5353535353536,2121.6161616161617,2227.69696969697,2333.777777777778,2439.8585858585857,2545.939393939394,2652.0202020202023,2758.10101010101,2864.181818181818,2970.2626262626263,3076.3434343434346,3182.4242424242425,3288.5050505050503,3394.5858585858587,3500.666666666667,3606.747474747475,3712.8282828282827,3818.909090909091,3924.9898989898993,4031.070707070707,4137.151515151515,4243.232323232323,4349.313131313132,4455.39393939394,4561.474747474747,4667.555555555556,4773.636363636364,4879.717171717171,4985.79797979798,5091.878787878788,5197.959595959596,5304.040404040405,5410.121212121212,5516.20202020202,5622.282828282829,5728.363636363636,5834.444444444444,5940.525252525253,6046.606060606061,6152.686868686869,6258.767676767677,6364.848484848485,6470.929292929293,6577.010101010101,6683.090909090909,6789.171717171717,6895.252525252526,7001.333333333334,7107.414141414141,7213.49494949495,7319.575757575758,7425.656565656565,7531.737373737374,7637.818181818182,7743.89898989899,7849.979797979799,7956.060606060606,8062.141414141414,8168.222222222223,8274.30303030303,8380.38383838384,8486.464646464647,8592.545454545454,8698.626262626263,8804.70707070707,8910.78787878788,9016.868686868687,9122.949494949495,9229.030303030304,9335.111111111111,9441.191919191919,9547.272727272728,9653.353535353535,9759.434343434343,9865.515151515152,9971.59595959596,10077.676767676769,10183.757575757576,10289.838383838383,10395.919191919193,10502.0],\"xaxis\":\"x\",\"y\":[142.45084358688973,260.14309706837815,377.8353505498666,495.527604031355,613.2198575128434,730.9121109943319,848.6043644758203,966.2966179573087,1083.988871438797,1201.6811249202856,1319.373378401774,1437.0656318832623,1554.7578853647508,1672.4501388462393,1790.1423923277277,1907.834645809216,2025.5268992907045,2143.219152772193,2260.9114062536814,2378.60365973517,2496.2959132166584,2613.988166698147,2731.680420179635,2849.3726736611234,2967.064927142612,3084.757180624101,3202.449434105589,3320.141687587077,3437.8339410685658,3555.5261945500542,3673.2184480315423,3790.9107015130307,3908.602954994519,4026.295208476008,4143.987461957497,4261.679715438984,4379.371968920474,4497.064222401961,4614.756475883451,4732.448729364938,4850.1409828464275,4967.833236327915,5085.5254898094045,5203.217743290892,5320.90999677238,5438.602250253869,5556.294503735357,5673.986757216846,5791.6790106983335,5909.371264179823,6027.063517661312,6144.7557711428,6262.448024624287,6380.140278105777,6497.832531587264,6615.524785068752,6733.217038550241,6850.909292031731,6968.601545513218,7086.293798994706,7203.986052476195,7321.678305957685,7439.370559439172,7557.06281292066,7674.755066402149,7792.447319883637,7910.139573365126,8027.831826846614,8145.524080328103,8263.21633380959,8380.90858729108,8498.600840772568,8616.293094254057,8733.985347735545,8851.677601217034,8969.369854698522,9087.062108180011,9204.754361661498,9322.446615142986,9440.138868624477,9557.831122105965,9675.523375587452,9793.215629068942,9910.90788255043,10028.600136031919,10146.292389513406,10263.984642994894,10381.676896476383,10499.36914995787,10617.061403439358,10734.75365692085,10852.445910402337,10970.138163883825,11087.830417365314,11205.522670846802,11323.214924328291,11440.907177809779,11558.599431291266,11676.291684772756,11793.983938254243],\"yaxis\":\"y\",\"type\":\"scatter\"}],                        {\"template\":{\"data\":{\"barpolar\":[{\"marker\":{\"line\":{\"color\":\"white\",\"width\":0.5},\"pattern\":{\"fillmode\":\"overlay\",\"size\":10,\"solidity\":0.2}},\"type\":\"barpolar\"}],\"bar\":[{\"error_x\":{\"color\":\"rgb(36,36,36)\"},\"error_y\":{\"color\":\"rgb(36,36,36)\"},\"marker\":{\"line\":{\"color\":\"white\",\"width\":0.5},\"pattern\":{\"fillmode\":\"overlay\",\"size\":10,\"solidity\":0.2}},\"type\":\"bar\"}],\"carpet\":[{\"aaxis\":{\"endlinecolor\":\"rgb(36,36,36)\",\"gridcolor\":\"white\",\"linecolor\":\"white\",\"minorgridcolor\":\"white\",\"startlinecolor\":\"rgb(36,36,36)\"},\"baxis\":{\"endlinecolor\":\"rgb(36,36,36)\",\"gridcolor\":\"white\",\"linecolor\":\"white\",\"minorgridcolor\":\"white\",\"startlinecolor\":\"rgb(36,36,36)\"},\"type\":\"carpet\"}],\"choropleth\":[{\"colorbar\":{\"outlinewidth\":1,\"tickcolor\":\"rgb(36,36,36)\",\"ticks\":\"outside\"},\"type\":\"choropleth\"}],\"contourcarpet\":[{\"colorbar\":{\"outlinewidth\":1,\"tickcolor\":\"rgb(36,36,36)\",\"ticks\":\"outside\"},\"type\":\"contourcarpet\"}],\"contour\":[{\"colorbar\":{\"outlinewidth\":1,\"tickcolor\":\"rgb(36,36,36)\",\"ticks\":\"outside\"},\"colorscale\":[[0.0,\"#440154\"],[0.1111111111111111,\"#482878\"],[0.2222222222222222,\"#3e4989\"],[0.3333333333333333,\"#31688e\"],[0.4444444444444444,\"#26828e\"],[0.5555555555555556,\"#1f9e89\"],[0.6666666666666666,\"#35b779\"],[0.7777777777777778,\"#6ece58\"],[0.8888888888888888,\"#b5de2b\"],[1.0,\"#fde725\"]],\"type\":\"contour\"}],\"heatmapgl\":[{\"colorbar\":{\"outlinewidth\":1,\"tickcolor\":\"rgb(36,36,36)\",\"ticks\":\"outside\"},\"colorscale\":[[0.0,\"#440154\"],[0.1111111111111111,\"#482878\"],[0.2222222222222222,\"#3e4989\"],[0.3333333333333333,\"#31688e\"],[0.4444444444444444,\"#26828e\"],[0.5555555555555556,\"#1f9e89\"],[0.6666666666666666,\"#35b779\"],[0.7777777777777778,\"#6ece58\"],[0.8888888888888888,\"#b5de2b\"],[1.0,\"#fde725\"]],\"type\":\"heatmapgl\"}],\"heatmap\":[{\"colorbar\":{\"outlinewidth\":1,\"tickcolor\":\"rgb(36,36,36)\",\"ticks\":\"outside\"},\"colorscale\":[[0.0,\"#440154\"],[0.1111111111111111,\"#482878\"],[0.2222222222222222,\"#3e4989\"],[0.3333333333333333,\"#31688e\"],[0.4444444444444444,\"#26828e\"],[0.5555555555555556,\"#1f9e89\"],[0.6666666666666666,\"#35b779\"],[0.7777777777777778,\"#6ece58\"],[0.8888888888888888,\"#b5de2b\"],[1.0,\"#fde725\"]],\"type\":\"heatmap\"}],\"histogram2dcontour\":[{\"colorbar\":{\"outlinewidth\":1,\"tickcolor\":\"rgb(36,36,36)\",\"ticks\":\"outside\"},\"colorscale\":[[0.0,\"#440154\"],[0.1111111111111111,\"#482878\"],[0.2222222222222222,\"#3e4989\"],[0.3333333333333333,\"#31688e\"],[0.4444444444444444,\"#26828e\"],[0.5555555555555556,\"#1f9e89\"],[0.6666666666666666,\"#35b779\"],[0.7777777777777778,\"#6ece58\"],[0.8888888888888888,\"#b5de2b\"],[1.0,\"#fde725\"]],\"type\":\"histogram2dcontour\"}],\"histogram2d\":[{\"colorbar\":{\"outlinewidth\":1,\"tickcolor\":\"rgb(36,36,36)\",\"ticks\":\"outside\"},\"colorscale\":[[0.0,\"#440154\"],[0.1111111111111111,\"#482878\"],[0.2222222222222222,\"#3e4989\"],[0.3333333333333333,\"#31688e\"],[0.4444444444444444,\"#26828e\"],[0.5555555555555556,\"#1f9e89\"],[0.6666666666666666,\"#35b779\"],[0.7777777777777778,\"#6ece58\"],[0.8888888888888888,\"#b5de2b\"],[1.0,\"#fde725\"]],\"type\":\"histogram2d\"}],\"histogram\":[{\"marker\":{\"line\":{\"color\":\"white\",\"width\":0.6}},\"type\":\"histogram\"}],\"mesh3d\":[{\"colorbar\":{\"outlinewidth\":1,\"tickcolor\":\"rgb(36,36,36)\",\"ticks\":\"outside\"},\"type\":\"mesh3d\"}],\"parcoords\":[{\"line\":{\"colorbar\":{\"outlinewidth\":1,\"tickcolor\":\"rgb(36,36,36)\",\"ticks\":\"outside\"}},\"type\":\"parcoords\"}],\"pie\":[{\"automargin\":true,\"type\":\"pie\"}],\"scatter3d\":[{\"line\":{\"colorbar\":{\"outlinewidth\":1,\"tickcolor\":\"rgb(36,36,36)\",\"ticks\":\"outside\"}},\"marker\":{\"colorbar\":{\"outlinewidth\":1,\"tickcolor\":\"rgb(36,36,36)\",\"ticks\":\"outside\"}},\"type\":\"scatter3d\"}],\"scattercarpet\":[{\"marker\":{\"colorbar\":{\"outlinewidth\":1,\"tickcolor\":\"rgb(36,36,36)\",\"ticks\":\"outside\"}},\"type\":\"scattercarpet\"}],\"scattergeo\":[{\"marker\":{\"colorbar\":{\"outlinewidth\":1,\"tickcolor\":\"rgb(36,36,36)\",\"ticks\":\"outside\"}},\"type\":\"scattergeo\"}],\"scattergl\":[{\"marker\":{\"colorbar\":{\"outlinewidth\":1,\"tickcolor\":\"rgb(36,36,36)\",\"ticks\":\"outside\"}},\"type\":\"scattergl\"}],\"scattermapbox\":[{\"marker\":{\"colorbar\":{\"outlinewidth\":1,\"tickcolor\":\"rgb(36,36,36)\",\"ticks\":\"outside\"}},\"type\":\"scattermapbox\"}],\"scatterpolargl\":[{\"marker\":{\"colorbar\":{\"outlinewidth\":1,\"tickcolor\":\"rgb(36,36,36)\",\"ticks\":\"outside\"}},\"type\":\"scatterpolargl\"}],\"scatterpolar\":[{\"marker\":{\"colorbar\":{\"outlinewidth\":1,\"tickcolor\":\"rgb(36,36,36)\",\"ticks\":\"outside\"}},\"type\":\"scatterpolar\"}],\"scatter\":[{\"fillpattern\":{\"fillmode\":\"overlay\",\"size\":10,\"solidity\":0.2},\"type\":\"scatter\"}],\"scatterternary\":[{\"marker\":{\"colorbar\":{\"outlinewidth\":1,\"tickcolor\":\"rgb(36,36,36)\",\"ticks\":\"outside\"}},\"type\":\"scatterternary\"}],\"surface\":[{\"colorbar\":{\"outlinewidth\":1,\"tickcolor\":\"rgb(36,36,36)\",\"ticks\":\"outside\"},\"colorscale\":[[0.0,\"#440154\"],[0.1111111111111111,\"#482878\"],[0.2222222222222222,\"#3e4989\"],[0.3333333333333333,\"#31688e\"],[0.4444444444444444,\"#26828e\"],[0.5555555555555556,\"#1f9e89\"],[0.6666666666666666,\"#35b779\"],[0.7777777777777778,\"#6ece58\"],[0.8888888888888888,\"#b5de2b\"],[1.0,\"#fde725\"]],\"type\":\"surface\"}],\"table\":[{\"cells\":{\"fill\":{\"color\":\"rgb(237,237,237)\"},\"line\":{\"color\":\"white\"}},\"header\":{\"fill\":{\"color\":\"rgb(217,217,217)\"},\"line\":{\"color\":\"white\"}},\"type\":\"table\"}]},\"layout\":{\"annotationdefaults\":{\"arrowhead\":0,\"arrowwidth\":1},\"autotypenumbers\":\"strict\",\"coloraxis\":{\"colorbar\":{\"outlinewidth\":1,\"tickcolor\":\"rgb(36,36,36)\",\"ticks\":\"outside\"}},\"colorscale\":{\"diverging\":[[0.0,\"rgb(103,0,31)\"],[0.1,\"rgb(178,24,43)\"],[0.2,\"rgb(214,96,77)\"],[0.3,\"rgb(244,165,130)\"],[0.4,\"rgb(253,219,199)\"],[0.5,\"rgb(247,247,247)\"],[0.6,\"rgb(209,229,240)\"],[0.7,\"rgb(146,197,222)\"],[0.8,\"rgb(67,147,195)\"],[0.9,\"rgb(33,102,172)\"],[1.0,\"rgb(5,48,97)\"]],\"sequential\":[[0.0,\"#440154\"],[0.1111111111111111,\"#482878\"],[0.2222222222222222,\"#3e4989\"],[0.3333333333333333,\"#31688e\"],[0.4444444444444444,\"#26828e\"],[0.5555555555555556,\"#1f9e89\"],[0.6666666666666666,\"#35b779\"],[0.7777777777777778,\"#6ece58\"],[0.8888888888888888,\"#b5de2b\"],[1.0,\"#fde725\"]],\"sequentialminus\":[[0.0,\"#440154\"],[0.1111111111111111,\"#482878\"],[0.2222222222222222,\"#3e4989\"],[0.3333333333333333,\"#31688e\"],[0.4444444444444444,\"#26828e\"],[0.5555555555555556,\"#1f9e89\"],[0.6666666666666666,\"#35b779\"],[0.7777777777777778,\"#6ece58\"],[0.8888888888888888,\"#b5de2b\"],[1.0,\"#fde725\"]]},\"colorway\":[\"#91268F\",\"#8CC63E\",\"#00A7A0\",\"#F05A28\",\"#4C4C4C\",\"#630460\",\"#9f3913\",\"#588527\",\"#00716c\",\"#3e4040\"],\"font\":{\"color\":\"rgb(36,36,36)\",\"family\":\"Poppins\",\"size\":11},\"geo\":{\"bgcolor\":\"white\",\"lakecolor\":\"white\",\"landcolor\":\"white\",\"showlakes\":true,\"showland\":true,\"subunitcolor\":\"white\"},\"hoverlabel\":{\"align\":\"left\"},\"hovermode\":\"closest\",\"mapbox\":{\"style\":\"light\"},\"paper_bgcolor\":\"white\",\"plot_bgcolor\":\"white\",\"polar\":{\"angularaxis\":{\"gridcolor\":\"rgb(232,232,232)\",\"linecolor\":\"rgb(36,36,36)\",\"showgrid\":false,\"showline\":true,\"ticks\":\"outside\"},\"bgcolor\":\"white\",\"radialaxis\":{\"gridcolor\":\"rgb(232,232,232)\",\"linecolor\":\"rgb(36,36,36)\",\"showgrid\":false,\"showline\":true,\"ticks\":\"outside\"}},\"scene\":{\"xaxis\":{\"backgroundcolor\":\"white\",\"gridcolor\":\"rgb(232,232,232)\",\"gridwidth\":2,\"linecolor\":\"rgb(36,36,36)\",\"showbackground\":true,\"showgrid\":false,\"showline\":true,\"ticks\":\"outside\",\"zeroline\":false,\"zerolinecolor\":\"rgb(36,36,36)\"},\"yaxis\":{\"backgroundcolor\":\"white\",\"gridcolor\":\"rgb(232,232,232)\",\"gridwidth\":2,\"linecolor\":\"rgb(36,36,36)\",\"showbackground\":true,\"showgrid\":false,\"showline\":true,\"ticks\":\"outside\",\"zeroline\":false,\"zerolinecolor\":\"rgb(36,36,36)\"},\"zaxis\":{\"backgroundcolor\":\"white\",\"gridcolor\":\"rgb(232,232,232)\",\"gridwidth\":2,\"linecolor\":\"rgb(36,36,36)\",\"showbackground\":true,\"showgrid\":false,\"showline\":true,\"ticks\":\"outside\",\"zeroline\":false,\"zerolinecolor\":\"rgb(36,36,36)\"}},\"shapedefaults\":{\"fillcolor\":\"black\",\"line\":{\"width\":0},\"opacity\":0.3},\"ternary\":{\"aaxis\":{\"gridcolor\":\"rgb(232,232,232)\",\"linecolor\":\"rgb(36,36,36)\",\"showgrid\":false,\"showline\":true,\"ticks\":\"outside\"},\"baxis\":{\"gridcolor\":\"rgb(232,232,232)\",\"linecolor\":\"rgb(36,36,36)\",\"showgrid\":false,\"showline\":true,\"ticks\":\"outside\"},\"bgcolor\":\"white\",\"caxis\":{\"gridcolor\":\"rgb(232,232,232)\",\"linecolor\":\"rgb(36,36,36)\",\"showgrid\":false,\"showline\":true,\"ticks\":\"outside\"}},\"title\":{\"x\":0.05},\"xaxis\":{\"automargin\":true,\"gridcolor\":\"rgb(232,232,232)\",\"linecolor\":\"rgb(36,36,36)\",\"showgrid\":false,\"showline\":true,\"ticks\":\"outside\",\"title\":{\"standoff\":15},\"zeroline\":false,\"zerolinecolor\":\"rgb(36,36,36)\"},\"yaxis\":{\"automargin\":true,\"gridcolor\":\"rgb(232,232,232)\",\"linecolor\":\"rgb(36,36,36)\",\"showgrid\":false,\"showline\":true,\"ticks\":\"outside\",\"title\":{\"standoff\":15},\"zeroline\":false,\"zerolinecolor\":\"rgb(36,36,36)\"}}},\"xaxis\":{\"anchor\":\"y\",\"domain\":[0.0,1.0],\"title\":{\"text\":\"Observed\"}},\"yaxis\":{\"anchor\":\"x\",\"domain\":[0.0,1.0],\"title\":{\"text\":\"Model\"}},\"legend\":{\"tracegroupgap\":0},\"title\":{\"text\":\"Heavy Trucks: Region\"},\"margin\":{\"l\":100,\"r\":100,\"t\":100,\"b\":100},\"height\":600,\"width\":800,\"shapes\":[{\"line\":{\"color\":\"Red\",\"dash\":\"dash\",\"width\":2},\"type\":\"line\",\"x0\":0,\"x1\":10502,\"y0\":0,\"y1\":10502}],\"annotations\":[{\"align\":\"right\",\"font\":{\"color\":\"pink\",\"size\":12},\"showarrow\":false,\"text\":\"y = x\",\"x\":11027.1,\"y\":11027.1},{\"align\":\"right\",\"font\":{\"color\":\"black\",\"size\":12},\"showarrow\":false,\"text\":\"r^2 = 0.71\",\"x\":11027.1,\"y\":12383.683135166955}]},                        {\"responsive\": true}                    ).then(function(){\n",
       "                            \n",
       "var gd = document.getElementById('1f90516f-8f5f-4c5d-91ff-61713f15025a');\n",
       "var x = new MutationObserver(function (mutations, observer) {{\n",
       "        var display = window.getComputedStyle(gd).display;\n",
       "        if (!display || display === 'none') {{\n",
       "            console.log([gd, 'removed!']);\n",
       "            Plotly.purge(gd);\n",
       "            observer.disconnect();\n",
       "        }}\n",
       "}});\n",
       "\n",
       "// Listen for the removal of the full notebook cells\n",
       "var notebookContainer = gd.closest('#notebook-container');\n",
       "if (notebookContainer) {{\n",
       "    x.observe(notebookContainer, {childList: true});\n",
       "}}\n",
       "\n",
       "// Listen for the clearing of the current output cell\n",
       "var outputEl = gd.closest('.output');\n",
       "if (outputEl) {{\n",
       "    x.observe(outputEl, {childList: true});\n",
       "}}\n",
       "\n",
       "                        })                };                });            </script>        </div>"
      ]
     },
     "metadata": {},
     "output_type": "display_data"
    }
   ],
   "source": [
    "fig = create_truck_chart(df_daily_heavy, 'Heavy')\n",
    "fig.show()"
   ]
  },
  {
   "cell_type": "raw",
   "id": "3bd56227",
   "metadata": {
    "vscode": {
     "languageId": "raw"
    }
   },
   "source": [
    "#### King"
   ]
  },
  {
   "cell_type": "code",
   "execution_count": 25,
   "id": "c4ff02a8",
   "metadata": {},
   "outputs": [
    {
     "data": {
      "application/vnd.plotly.v1+json": {
       "config": {
        "plotlyServerURL": "https://plot.ly"
       },
       "data": [
        {
         "customdata": [
          [
           "I-5 S/O 205th NB",
           "King"
          ],
          [
           "I-5 S/O 205th SB",
           "King"
          ],
          [
           "I-5 Rev N/O I-5 GP NB/SB",
           "King"
          ],
          [
           "I-90 E/O I-5 WB",
           "King"
          ],
          [
           "I-90 E/O I-5 EB",
           "King"
          ],
          [
           "I-90 E/O W Lk Sam WB",
           "King"
          ],
          [
           "I-90 E/O W Lk Sam EB",
           "King"
          ],
          [
           "I-90 E/O SR-900 WB",
           "King"
          ],
          [
           "I-405 @ I-5 Southcenter NB",
           "King"
          ],
          [
           "I-405 @ I-5 Southcenter SB",
           "King"
          ],
          [
           "I-405 @ Lake Wash Blvd NB",
           "King"
          ],
          [
           "I-405 @ I-90 NB",
           "King"
          ],
          [
           "I-405 @ I-90 SB",
           "King"
          ],
          [
           "SR-520 @ x-lake bridge WB",
           "King"
          ],
          [
           "SR-520 @ x-lake bridge EB",
           "King"
          ],
          [
           "SR-167 S/O 43rd NB",
           "King"
          ],
          [
           "SR-167 S/O 43rd SB",
           "King"
          ],
          [
           "SR-167 N/O SR-18 NB",
           "King"
          ],
          [
           "SR-167 N/O SR-18 SB",
           "King"
          ],
          [
           "SR-167 S/O 15th SW NB",
           "King"
          ],
          [
           "SR-167 S/O 15th SW SB",
           "King"
          ],
          [
           "SR-509 @ Holden NB",
           "King"
          ],
          [
           "SR-509 @ Holden SB",
           "King"
          ],
          [
           "SR-99 N/O 14th NB",
           "King"
          ],
          [
           "SR-99 N/O 14th SB",
           "King"
          ],
          [
           "SR-99 N/O WSF NB",
           "King"
          ],
          [
           "SR-99 N/O WSF SB",
           "King"
          ],
          [
           "SR-99 tunnel NB",
           "King"
          ],
          [
           "SR-99 tunnel SB",
           "King"
          ],
          [
           "SR-599 S/O Pacific NB",
           "King"
          ],
          [
           "SR-599 S/O Pacific SB",
           "King"
          ],
          [
           "SR-599 @ Pacific NB",
           "King"
          ],
          [
           "SR-599 @ Pacific SB",
           "King"
          ],
          [
           "SR-18 @ I-5 WB",
           "King"
          ],
          [
           "SR-18 @ I-5 EB",
           "King"
          ],
          [
           "SR-18 W/O Auburn-Black Diamond WB",
           "King"
          ],
          [
           "SR-18 W/O Auburn-Black Diamond EB",
           "King"
          ],
          [
           "SR-18 E/O SR-516 WB",
           "King"
          ],
          [
           "SR-18 E/O SR-516 EB",
           "King"
          ],
          [
           "SR-18 E/O 256th WB",
           "King"
          ],
          [
           "SR-18 E/O 256th EB",
           "King"
          ],
          [
           "SR-522 N/O 195th WB",
           "King"
          ],
          [
           "SR-522 N/O 195th EB",
           "King"
          ],
          [
           "I-5 N/O I-5 Rev CBD NB/SB",
           "King"
          ],
          [
           "I-90 W/O SR-18 WB/EB",
           "King"
          ],
          [
           "I-90 E/O SR-18 WB/EB",
           "King"
          ],
          [
           "I-90 E/O 436th WB/EB",
           "King"
          ],
          [
           "I-90 @ Kittitas County WB/EB",
           "King"
          ],
          [
           "I-405 N/O SR-522 NB/SB",
           "King"
          ],
          [
           "SR-167 N/O Grady NB/SB",
           "King"
          ],
          [
           "SR-410 E/O 244th WB/EB",
           "King"
          ],
          [
           "SR-410 E/O Farman WB/EB",
           "King"
          ],
          [
           "SR-410 @ Greenwater River WB/EB",
           "King"
          ],
          [
           "SR-509 E/O 47th NB/SB",
           "King"
          ],
          [
           "SR-509 E/O 21st NB/SB",
           "King"
          ],
          [
           "SR-509 W/O SR-516 NB/SB",
           "King"
          ],
          [
           "SR-509 W/O Des Moines Mem NB/SB",
           "King"
          ],
          [
           "SR-509 E/O 1st Ave NB/SB",
           "King"
          ],
          [
           "SR-509 E/O Des Moines Mem NB/SB",
           "King"
          ],
          [
           "SR-509 @ SR-509 ramp overpass NB/SB",
           "King"
          ],
          [
           "SR-509 N/O Des Moines Mem NB/SB",
           "King"
          ],
          [
           "SR-509 N/O SR-518 NB/SB",
           "King"
          ],
          [
           "SR-99 S/O SR-18 NB/SB",
           "King"
          ],
          [
           "SR-99 N/O SR-18 NB/SB",
           "King"
          ],
          [
           "SR-99 N/O 320th NB/SB",
           "King"
          ],
          [
           "SR-99 N/O 188th NB/SB",
           "King"
          ],
          [
           "SR-99 @ WSF NB/SB",
           "King"
          ],
          [
           "SR-99 @ Aurora Bridge NB/SB",
           "King"
          ],
          [
           "SR-99 N/O 38th NB/SB",
           "King"
          ],
          [
           "SR-99 S/O Roosevelt NB/SB",
           "King"
          ],
          [
           "SR-599 N/O I-5 NB/SB",
           "King"
          ],
          [
           "SR-518 @ SR-509 WB/EB",
           "King"
          ],
          [
           "SR-518 E/O SR-509 WB/EB",
           "King"
          ],
          [
           "SR-18 E/O SR-99 WB/EB",
           "King"
          ],
          [
           "SR-18 N/O 304th WB/EB",
           "King"
          ],
          [
           "SR-18 S/O I-90 WB/EB",
           "King"
          ],
          [
           "SR-202 @ SR-522 NB/SB",
           "King"
          ],
          [
           "SR-202 N/O 145th NB/SB",
           "King"
          ],
          [
           "SR-202 @ Sammamish River Br NB/SB",
           "King"
          ],
          [
           "SR-202 S/O 144th NB/SB",
           "King"
          ],
          [
           "SR-202 N/O Redmond Way NB/SB",
           "King"
          ],
          [
           "SR-202 E/O 164th NB/SB",
           "King"
          ],
          [
           "SR-202 E/O SR-520 NB/SB",
           "King"
          ],
          [
           "SR-202 E/O E Lk Samm NB/SB",
           "King"
          ],
          [
           "SR-202 E/O Sahalee NB/SB",
           "King"
          ],
          [
           "SR-202 E/O 236th NB/SB",
           "King"
          ],
          [
           "SR-202 S/O Ames Lake NB/SB",
           "King"
          ],
          [
           "SR-202 S/O Duthie Hill NB/SB",
           "King"
          ],
          [
           "SR-202 E/O SR-203 NB/SB",
           "King"
          ],
          [
           "SR-202 N/O I-90 NB/SB",
           "King"
          ],
          [
           "SR-522 N/O 145th NB/SB",
           "King"
          ],
          [
           "SR-104 W/O 19th WB/EB",
           "King"
          ],
          [
           "SR-516 E/O SR-509 WB/EB",
           "King"
          ],
          [
           "SR-516 W/O I-5 WB/EB",
           "King"
          ],
          [
           "SR-516 E/O Meeker WB/EB",
           "King"
          ],
          [
           "SR-516 W/O SR-167 WB/EB",
           "King"
          ],
          [
           "SR-516 E/O SR-167 WB/EB",
           "King"
          ],
          [
           "SR-516 E/O SR-18 WB/EB",
           "King"
          ],
          [
           "SR-900 S/O NB I-5 on-ramp @ Boe Acc WB/EB",
           "King"
          ],
          [
           "SR-900 E/O 68th WB/EB",
           "King"
          ],
          [
           "SR-900 @ I-405 WB/EB",
           "King"
          ],
          [
           "SR-900 E/O 148th WB/EB",
           "King"
          ],
          [
           "SR-900 N/O Talus WB/EB",
           "King"
          ],
          [
           "SR-900 N/O Newport WB/EB",
           "King"
          ],
          [
           "SR-2 E/O Skykomish WB/EB",
           "King"
          ],
          [
           "SR-513 S/O 44th NB/SB",
           "King"
          ],
          [
           "SR-169 N/O SR-164 NB/SB",
           "King"
          ],
          [
           "SR-169 S/O Lawson NB/SB",
           "King"
          ],
          [
           "SR-169 S/O 276th NB/SB",
           "King"
          ],
          [
           "SR-169 N/O 280th NB/SB",
           "King"
          ],
          [
           "SR-169 N/O 231st NB/SB",
           "King"
          ],
          [
           "SR-169 N/O 232nd NB/SB",
           "King"
          ],
          [
           "SR-169 W/O 140th NB/SB",
           "King"
          ],
          [
           "SR-515 N/O SR-516 NB/SB",
           "King"
          ],
          [
           "SR-515 N/O 108th NB/SB",
           "King"
          ],
          [
           "SR-515 N/O Puget NB/SB",
           "King"
          ],
          [
           "SR-181 N/O SR-516 NB/SB",
           "King"
          ],
          [
           "SR-181 S/O James NB/SB",
           "King"
          ],
          [
           "SR-181 N/O James NB/SB",
           "King"
          ],
          [
           "SR-181 N/O 228th NB/SB",
           "King"
          ],
          [
           "SR-181 N/O 180th NB/SB",
           "King"
          ],
          [
           "SR-181 S/O Longacres NB/SB",
           "King"
          ],
          [
           "SR-523 E/O Lenora WB/EB",
           "King"
          ],
          [
           "SR-164 @ SR-18 WB/EB",
           "King"
          ],
          [
           "SR-164 S/O 400th WB/EB",
           "King"
          ],
          [
           "SR-203 N/O Cherry Valley NB/SB",
           "King"
          ],
          [
           "SR-203 N/O 124th NB/SB",
           "King"
          ],
          [
           "SR-203 W/O Stillwater Hill NB/SB",
           "King"
          ],
          [
           "SR-203 N/O Carnation Farm NB/SB",
           "King"
          ],
          [
           "SR-203 N/O Tolt Hill NB/SB",
           "King"
          ],
          [
           "SR-203 N/O SR-202 NB/SB",
           "King"
          ],
          [
           "SR-519 W/O 4th NB/SB",
           "King"
          ]
         ],
         "hovertemplate": "Observed=%{x}<br>Model=%{y}<br>location=%{customdata[0]}<br>County=%{customdata[1]}<extra></extra>",
         "legendgroup": "",
         "line": {
          "color": "Grey",
          "width": 2
         },
         "marker": {
          "color": "#91268F",
          "symbol": "circle"
         },
         "mode": "markers",
         "name": "",
         "orientation": "v",
         "showlegend": false,
         "type": "scatter",
         "x": [
          2322,
          2482,
          764,
          901,
          830,
          1933,
          1905,
          2505,
          855,
          1392,
          2142,
          321,
          258,
          137,
          138,
          2142,
          2289,
          2264,
          2273,
          3621,
          3308,
          938,
          942,
          1170,
          868,
          173,
          157,
          144,
          131,
          1302,
          1091,
          1389,
          920,
          945,
          1721,
          2401,
          2292,
          2108,
          2077,
          2714,
          2654,
          764,
          823,
          2893,
          3334,
          10502,
          6332,
          6539,
          2933,
          308,
          508,
          797,
          31,
          19,
          68,
          60,
          10,
          32,
          86,
          120,
          210,
          372,
          1242,
          280,
          288,
          174,
          222,
          146,
          108,
          141,
          2754,
          246,
          336,
          1417,
          5817,
          3461,
          265,
          83,
          76,
          321,
          54,
          146,
          477,
          307,
          420,
          378,
          300,
          318,
          284,
          110,
          167,
          76,
          80,
          540,
          375,
          960,
          288,
          351,
          396,
          84,
          208,
          76,
          242,
          84,
          126,
          56,
          224,
          440,
          304,
          231,
          850,
          1035,
          1248,
          100,
          96,
          141,
          957,
          897,
          899,
          1050,
          999,
          918,
          84,
          297,
          198,
          340,
          364,
          315,
          284,
          330,
          332,
          638
         ],
         "xaxis": "x",
         "y": [
          5259,
          5514,
          4739,
          1178,
          1295,
          1319,
          1365,
          1395,
          188,
          1780,
          4579,
          4412,
          4086,
          58,
          56,
          3138,
          3556,
          4768,
          4907,
          4095,
          4078,
          188,
          307,
          1421,
          896,
          157,
          185,
          69,
          78,
          1542,
          1050,
          1503,
          1010,
          923,
          575,
          1699,
          1649,
          1749,
          1709,
          1783,
          1735,
          1823,
          1749,
          7225,
          3085,
          6112,
          6221,
          5371,
          4203,
          628,
          30,
          96,
          96,
          0,
          24,
          47,
          15,
          14,
          14,
          120,
          256,
          449,
          2504,
          78,
          129,
          224,
          198,
          215,
          26,
          36,
          2903,
          446,
          478,
          2647,
          3267,
          3924,
          21,
          19,
          5,
          22,
          43,
          41,
          1295,
          12,
          1,
          44,
          43,
          33,
          280,
          302,
          113,
          41,
          31,
          416,
          2631,
          2960,
          1713,
          67,
          1220,
          90,
          227,
          75,
          152,
          146,
          64,
          0,
          0,
          52,
          68,
          68,
          96,
          186,
          183,
          5,
          20,
          75,
          966,
          967,
          1073,
          2247,
          1529,
          1548,
          34,
          288,
          123,
          519,
          472,
          482,
          482,
          482,
          482,
          974
         ],
         "yaxis": "y"
        },
        {
         "hovertemplate": "Observed=%{x}<br>Model=%{y}<extra></extra>",
         "legendgroup": "",
         "line": {
          "color": "Grey",
          "dash": "solid",
          "width": 2
         },
         "marker": {
          "symbol": "circle"
         },
         "mode": "lines",
         "name": "",
         "orientation": "v",
         "showlegend": false,
         "type": "scatter",
         "x": [
          0.0,
          106.08080808080808,
          212.16161616161617,
          318.24242424242425,
          424.32323232323233,
          530.4040404040404,
          636.4848484848485,
          742.5656565656566,
          848.6464646464647,
          954.7272727272727,
          1060.8080808080808,
          1166.888888888889,
          1272.969696969697,
          1379.050505050505,
          1485.1313131313132,
          1591.2121212121212,
          1697.2929292929293,
          1803.3737373737374,
          1909.4545454545455,
          2015.5353535353536,
          2121.6161616161617,
          2227.69696969697,
          2333.777777777778,
          2439.8585858585857,
          2545.939393939394,
          2652.0202020202023,
          2758.10101010101,
          2864.181818181818,
          2970.2626262626263,
          3076.3434343434346,
          3182.4242424242425,
          3288.5050505050503,
          3394.5858585858587,
          3500.666666666667,
          3606.747474747475,
          3712.8282828282827,
          3818.909090909091,
          3924.9898989898993,
          4031.070707070707,
          4137.151515151515,
          4243.232323232323,
          4349.313131313132,
          4455.39393939394,
          4561.474747474747,
          4667.555555555556,
          4773.636363636364,
          4879.717171717171,
          4985.79797979798,
          5091.878787878788,
          5197.959595959596,
          5304.040404040405,
          5410.121212121212,
          5516.20202020202,
          5622.282828282829,
          5728.363636363636,
          5834.444444444444,
          5940.525252525253,
          6046.606060606061,
          6152.686868686869,
          6258.767676767677,
          6364.848484848485,
          6470.929292929293,
          6577.010101010101,
          6683.090909090909,
          6789.171717171717,
          6895.252525252526,
          7001.333333333334,
          7107.414141414141,
          7213.49494949495,
          7319.575757575758,
          7425.656565656565,
          7531.737373737374,
          7637.818181818182,
          7743.89898989899,
          7849.979797979799,
          7956.060606060606,
          8062.141414141414,
          8168.222222222223,
          8274.30303030303,
          8380.38383838384,
          8486.464646464647,
          8592.545454545454,
          8698.626262626263,
          8804.70707070707,
          8910.78787878788,
          9016.868686868687,
          9122.949494949495,
          9229.030303030304,
          9335.111111111111,
          9441.191919191919,
          9547.272727272728,
          9653.353535353535,
          9759.434343434343,
          9865.515151515152,
          9971.59595959596,
          10077.676767676769,
          10183.757575757576,
          10289.838383838383,
          10395.919191919193,
          10502.0
         ],
         "xaxis": "x",
         "y": [
          357.965328833812,
          447.92909407658476,
          537.8928593193575,
          627.8566245621303,
          717.820389804903,
          807.7841550476758,
          897.7479202904485,
          987.7116855332213,
          1077.675450775994,
          1167.6392160187668,
          1257.6029812615395,
          1347.5667465043123,
          1437.530511747085,
          1527.4942769898578,
          1617.4580422326305,
          1707.4218074754033,
          1797.385572718176,
          1887.3493379609488,
          1977.3131032037215,
          2067.2768684464945,
          2157.2406336892673,
          2247.20439893204,
          2337.168164174813,
          2427.1319294175855,
          2517.0956946603583,
          2607.059459903131,
          2697.023225145904,
          2786.9869903886765,
          2876.9507556314493,
          2966.914520874222,
          3056.878286116995,
          3146.8420513597675,
          3236.8058166025403,
          3326.769581845313,
          3416.733347088086,
          3506.6971123308585,
          3596.6608775736313,
          3686.624642816404,
          3776.588408059177,
          3866.5521733019496,
          3956.5159385447223,
          4046.479703787495,
          4136.443469030268,
          4226.407234273041,
          4316.370999515813,
          4406.334764758586,
          4496.298530001359,
          4586.262295244132,
          4676.226060486904,
          4766.189825729677,
          4856.153590972451,
          4946.117356215223,
          5036.081121457995,
          5126.044886700768,
          5216.008651943541,
          5305.972417186314,
          5395.936182429086,
          5485.899947671859,
          5575.863712914633,
          5665.827478157405,
          5755.791243400177,
          5845.75500864295,
          5935.718773885723,
          6025.682539128496,
          6115.646304371268,
          6205.610069614041,
          6295.573834856815,
          6385.537600099587,
          6475.501365342359,
          6565.465130585132,
          6655.428895827905,
          6745.392661070678,
          6835.35642631345,
          6925.320191556223,
          7015.283956798997,
          7105.247722041769,
          7195.211487284541,
          7285.175252527314,
          7375.139017770087,
          7465.1027830128605,
          7555.066548255632,
          7645.030313498405,
          7734.994078741179,
          7824.957843983951,
          7914.921609226724,
          8004.885374469496,
          8094.849139712269,
          8184.8129049550425,
          8274.776670197814,
          8364.740435440586,
          8454.70420068336,
          8544.667965926132,
          8634.631731168905,
          8724.595496411679,
          8814.55926165445,
          8904.523026897225,
          8994.486792139996,
          9084.450557382768,
          9174.414322625542,
          9264.378087868316
         ],
         "yaxis": "y"
        }
       ],
       "layout": {
        "annotations": [
         {
          "align": "right",
          "font": {
           "color": "pink",
           "size": 12
          },
          "showarrow": false,
          "text": "y = x",
          "x": 11027.1,
          "y": 11027.1
         },
         {
          "align": "right",
          "font": {
           "color": "black",
           "size": 12
          },
          "showarrow": false,
          "text": "r^2 = 0.57",
          "x": 11027.1,
          "y": 9727.596992261731
         }
        ],
        "height": 600,
        "legend": {
         "tracegroupgap": 0
        },
        "margin": {
         "b": 100,
         "l": 100,
         "r": 100,
         "t": 100
        },
        "shapes": [
         {
          "line": {
           "color": "Red",
           "dash": "dash",
           "width": 2
          },
          "type": "line",
          "x0": 0,
          "x1": 10502,
          "y0": 0,
          "y1": 10502
         }
        ],
        "template": {
         "data": {
          "bar": [
           {
            "error_x": {
             "color": "rgb(36,36,36)"
            },
            "error_y": {
             "color": "rgb(36,36,36)"
            },
            "marker": {
             "line": {
              "color": "white",
              "width": 0.5
             },
             "pattern": {
              "fillmode": "overlay",
              "size": 10,
              "solidity": 0.2
             }
            },
            "type": "bar"
           }
          ],
          "barpolar": [
           {
            "marker": {
             "line": {
              "color": "white",
              "width": 0.5
             },
             "pattern": {
              "fillmode": "overlay",
              "size": 10,
              "solidity": 0.2
             }
            },
            "type": "barpolar"
           }
          ],
          "carpet": [
           {
            "aaxis": {
             "endlinecolor": "rgb(36,36,36)",
             "gridcolor": "white",
             "linecolor": "white",
             "minorgridcolor": "white",
             "startlinecolor": "rgb(36,36,36)"
            },
            "baxis": {
             "endlinecolor": "rgb(36,36,36)",
             "gridcolor": "white",
             "linecolor": "white",
             "minorgridcolor": "white",
             "startlinecolor": "rgb(36,36,36)"
            },
            "type": "carpet"
           }
          ],
          "choropleth": [
           {
            "colorbar": {
             "outlinewidth": 1,
             "tickcolor": "rgb(36,36,36)",
             "ticks": "outside"
            },
            "type": "choropleth"
           }
          ],
          "contour": [
           {
            "colorbar": {
             "outlinewidth": 1,
             "tickcolor": "rgb(36,36,36)",
             "ticks": "outside"
            },
            "colorscale": [
             [
              0.0,
              "#440154"
             ],
             [
              0.1111111111111111,
              "#482878"
             ],
             [
              0.2222222222222222,
              "#3e4989"
             ],
             [
              0.3333333333333333,
              "#31688e"
             ],
             [
              0.4444444444444444,
              "#26828e"
             ],
             [
              0.5555555555555556,
              "#1f9e89"
             ],
             [
              0.6666666666666666,
              "#35b779"
             ],
             [
              0.7777777777777778,
              "#6ece58"
             ],
             [
              0.8888888888888888,
              "#b5de2b"
             ],
             [
              1.0,
              "#fde725"
             ]
            ],
            "type": "contour"
           }
          ],
          "contourcarpet": [
           {
            "colorbar": {
             "outlinewidth": 1,
             "tickcolor": "rgb(36,36,36)",
             "ticks": "outside"
            },
            "type": "contourcarpet"
           }
          ],
          "heatmap": [
           {
            "colorbar": {
             "outlinewidth": 1,
             "tickcolor": "rgb(36,36,36)",
             "ticks": "outside"
            },
            "colorscale": [
             [
              0.0,
              "#440154"
             ],
             [
              0.1111111111111111,
              "#482878"
             ],
             [
              0.2222222222222222,
              "#3e4989"
             ],
             [
              0.3333333333333333,
              "#31688e"
             ],
             [
              0.4444444444444444,
              "#26828e"
             ],
             [
              0.5555555555555556,
              "#1f9e89"
             ],
             [
              0.6666666666666666,
              "#35b779"
             ],
             [
              0.7777777777777778,
              "#6ece58"
             ],
             [
              0.8888888888888888,
              "#b5de2b"
             ],
             [
              1.0,
              "#fde725"
             ]
            ],
            "type": "heatmap"
           }
          ],
          "heatmapgl": [
           {
            "colorbar": {
             "outlinewidth": 1,
             "tickcolor": "rgb(36,36,36)",
             "ticks": "outside"
            },
            "colorscale": [
             [
              0.0,
              "#440154"
             ],
             [
              0.1111111111111111,
              "#482878"
             ],
             [
              0.2222222222222222,
              "#3e4989"
             ],
             [
              0.3333333333333333,
              "#31688e"
             ],
             [
              0.4444444444444444,
              "#26828e"
             ],
             [
              0.5555555555555556,
              "#1f9e89"
             ],
             [
              0.6666666666666666,
              "#35b779"
             ],
             [
              0.7777777777777778,
              "#6ece58"
             ],
             [
              0.8888888888888888,
              "#b5de2b"
             ],
             [
              1.0,
              "#fde725"
             ]
            ],
            "type": "heatmapgl"
           }
          ],
          "histogram": [
           {
            "marker": {
             "line": {
              "color": "white",
              "width": 0.6
             }
            },
            "type": "histogram"
           }
          ],
          "histogram2d": [
           {
            "colorbar": {
             "outlinewidth": 1,
             "tickcolor": "rgb(36,36,36)",
             "ticks": "outside"
            },
            "colorscale": [
             [
              0.0,
              "#440154"
             ],
             [
              0.1111111111111111,
              "#482878"
             ],
             [
              0.2222222222222222,
              "#3e4989"
             ],
             [
              0.3333333333333333,
              "#31688e"
             ],
             [
              0.4444444444444444,
              "#26828e"
             ],
             [
              0.5555555555555556,
              "#1f9e89"
             ],
             [
              0.6666666666666666,
              "#35b779"
             ],
             [
              0.7777777777777778,
              "#6ece58"
             ],
             [
              0.8888888888888888,
              "#b5de2b"
             ],
             [
              1.0,
              "#fde725"
             ]
            ],
            "type": "histogram2d"
           }
          ],
          "histogram2dcontour": [
           {
            "colorbar": {
             "outlinewidth": 1,
             "tickcolor": "rgb(36,36,36)",
             "ticks": "outside"
            },
            "colorscale": [
             [
              0.0,
              "#440154"
             ],
             [
              0.1111111111111111,
              "#482878"
             ],
             [
              0.2222222222222222,
              "#3e4989"
             ],
             [
              0.3333333333333333,
              "#31688e"
             ],
             [
              0.4444444444444444,
              "#26828e"
             ],
             [
              0.5555555555555556,
              "#1f9e89"
             ],
             [
              0.6666666666666666,
              "#35b779"
             ],
             [
              0.7777777777777778,
              "#6ece58"
             ],
             [
              0.8888888888888888,
              "#b5de2b"
             ],
             [
              1.0,
              "#fde725"
             ]
            ],
            "type": "histogram2dcontour"
           }
          ],
          "mesh3d": [
           {
            "colorbar": {
             "outlinewidth": 1,
             "tickcolor": "rgb(36,36,36)",
             "ticks": "outside"
            },
            "type": "mesh3d"
           }
          ],
          "parcoords": [
           {
            "line": {
             "colorbar": {
              "outlinewidth": 1,
              "tickcolor": "rgb(36,36,36)",
              "ticks": "outside"
             }
            },
            "type": "parcoords"
           }
          ],
          "pie": [
           {
            "automargin": true,
            "type": "pie"
           }
          ],
          "scatter": [
           {
            "fillpattern": {
             "fillmode": "overlay",
             "size": 10,
             "solidity": 0.2
            },
            "type": "scatter"
           }
          ],
          "scatter3d": [
           {
            "line": {
             "colorbar": {
              "outlinewidth": 1,
              "tickcolor": "rgb(36,36,36)",
              "ticks": "outside"
             }
            },
            "marker": {
             "colorbar": {
              "outlinewidth": 1,
              "tickcolor": "rgb(36,36,36)",
              "ticks": "outside"
             }
            },
            "type": "scatter3d"
           }
          ],
          "scattercarpet": [
           {
            "marker": {
             "colorbar": {
              "outlinewidth": 1,
              "tickcolor": "rgb(36,36,36)",
              "ticks": "outside"
             }
            },
            "type": "scattercarpet"
           }
          ],
          "scattergeo": [
           {
            "marker": {
             "colorbar": {
              "outlinewidth": 1,
              "tickcolor": "rgb(36,36,36)",
              "ticks": "outside"
             }
            },
            "type": "scattergeo"
           }
          ],
          "scattergl": [
           {
            "marker": {
             "colorbar": {
              "outlinewidth": 1,
              "tickcolor": "rgb(36,36,36)",
              "ticks": "outside"
             }
            },
            "type": "scattergl"
           }
          ],
          "scattermapbox": [
           {
            "marker": {
             "colorbar": {
              "outlinewidth": 1,
              "tickcolor": "rgb(36,36,36)",
              "ticks": "outside"
             }
            },
            "type": "scattermapbox"
           }
          ],
          "scatterpolar": [
           {
            "marker": {
             "colorbar": {
              "outlinewidth": 1,
              "tickcolor": "rgb(36,36,36)",
              "ticks": "outside"
             }
            },
            "type": "scatterpolar"
           }
          ],
          "scatterpolargl": [
           {
            "marker": {
             "colorbar": {
              "outlinewidth": 1,
              "tickcolor": "rgb(36,36,36)",
              "ticks": "outside"
             }
            },
            "type": "scatterpolargl"
           }
          ],
          "scatterternary": [
           {
            "marker": {
             "colorbar": {
              "outlinewidth": 1,
              "tickcolor": "rgb(36,36,36)",
              "ticks": "outside"
             }
            },
            "type": "scatterternary"
           }
          ],
          "surface": [
           {
            "colorbar": {
             "outlinewidth": 1,
             "tickcolor": "rgb(36,36,36)",
             "ticks": "outside"
            },
            "colorscale": [
             [
              0.0,
              "#440154"
             ],
             [
              0.1111111111111111,
              "#482878"
             ],
             [
              0.2222222222222222,
              "#3e4989"
             ],
             [
              0.3333333333333333,
              "#31688e"
             ],
             [
              0.4444444444444444,
              "#26828e"
             ],
             [
              0.5555555555555556,
              "#1f9e89"
             ],
             [
              0.6666666666666666,
              "#35b779"
             ],
             [
              0.7777777777777778,
              "#6ece58"
             ],
             [
              0.8888888888888888,
              "#b5de2b"
             ],
             [
              1.0,
              "#fde725"
             ]
            ],
            "type": "surface"
           }
          ],
          "table": [
           {
            "cells": {
             "fill": {
              "color": "rgb(237,237,237)"
             },
             "line": {
              "color": "white"
             }
            },
            "header": {
             "fill": {
              "color": "rgb(217,217,217)"
             },
             "line": {
              "color": "white"
             }
            },
            "type": "table"
           }
          ]
         },
         "layout": {
          "annotationdefaults": {
           "arrowhead": 0,
           "arrowwidth": 1
          },
          "autotypenumbers": "strict",
          "coloraxis": {
           "colorbar": {
            "outlinewidth": 1,
            "tickcolor": "rgb(36,36,36)",
            "ticks": "outside"
           }
          },
          "colorscale": {
           "diverging": [
            [
             0.0,
             "rgb(103,0,31)"
            ],
            [
             0.1,
             "rgb(178,24,43)"
            ],
            [
             0.2,
             "rgb(214,96,77)"
            ],
            [
             0.3,
             "rgb(244,165,130)"
            ],
            [
             0.4,
             "rgb(253,219,199)"
            ],
            [
             0.5,
             "rgb(247,247,247)"
            ],
            [
             0.6,
             "rgb(209,229,240)"
            ],
            [
             0.7,
             "rgb(146,197,222)"
            ],
            [
             0.8,
             "rgb(67,147,195)"
            ],
            [
             0.9,
             "rgb(33,102,172)"
            ],
            [
             1.0,
             "rgb(5,48,97)"
            ]
           ],
           "sequential": [
            [
             0.0,
             "#440154"
            ],
            [
             0.1111111111111111,
             "#482878"
            ],
            [
             0.2222222222222222,
             "#3e4989"
            ],
            [
             0.3333333333333333,
             "#31688e"
            ],
            [
             0.4444444444444444,
             "#26828e"
            ],
            [
             0.5555555555555556,
             "#1f9e89"
            ],
            [
             0.6666666666666666,
             "#35b779"
            ],
            [
             0.7777777777777778,
             "#6ece58"
            ],
            [
             0.8888888888888888,
             "#b5de2b"
            ],
            [
             1.0,
             "#fde725"
            ]
           ],
           "sequentialminus": [
            [
             0.0,
             "#440154"
            ],
            [
             0.1111111111111111,
             "#482878"
            ],
            [
             0.2222222222222222,
             "#3e4989"
            ],
            [
             0.3333333333333333,
             "#31688e"
            ],
            [
             0.4444444444444444,
             "#26828e"
            ],
            [
             0.5555555555555556,
             "#1f9e89"
            ],
            [
             0.6666666666666666,
             "#35b779"
            ],
            [
             0.7777777777777778,
             "#6ece58"
            ],
            [
             0.8888888888888888,
             "#b5de2b"
            ],
            [
             1.0,
             "#fde725"
            ]
           ]
          },
          "colorway": [
           "#91268F",
           "#8CC63E",
           "#00A7A0",
           "#F05A28",
           "#4C4C4C",
           "#630460",
           "#9f3913",
           "#588527",
           "#00716c",
           "#3e4040"
          ],
          "font": {
           "color": "rgb(36,36,36)",
           "family": "Poppins",
           "size": 11
          },
          "geo": {
           "bgcolor": "white",
           "lakecolor": "white",
           "landcolor": "white",
           "showlakes": true,
           "showland": true,
           "subunitcolor": "white"
          },
          "hoverlabel": {
           "align": "left"
          },
          "hovermode": "closest",
          "mapbox": {
           "style": "light"
          },
          "paper_bgcolor": "white",
          "plot_bgcolor": "white",
          "polar": {
           "angularaxis": {
            "gridcolor": "rgb(232,232,232)",
            "linecolor": "rgb(36,36,36)",
            "showgrid": false,
            "showline": true,
            "ticks": "outside"
           },
           "bgcolor": "white",
           "radialaxis": {
            "gridcolor": "rgb(232,232,232)",
            "linecolor": "rgb(36,36,36)",
            "showgrid": false,
            "showline": true,
            "ticks": "outside"
           }
          },
          "scene": {
           "xaxis": {
            "backgroundcolor": "white",
            "gridcolor": "rgb(232,232,232)",
            "gridwidth": 2,
            "linecolor": "rgb(36,36,36)",
            "showbackground": true,
            "showgrid": false,
            "showline": true,
            "ticks": "outside",
            "zeroline": false,
            "zerolinecolor": "rgb(36,36,36)"
           },
           "yaxis": {
            "backgroundcolor": "white",
            "gridcolor": "rgb(232,232,232)",
            "gridwidth": 2,
            "linecolor": "rgb(36,36,36)",
            "showbackground": true,
            "showgrid": false,
            "showline": true,
            "ticks": "outside",
            "zeroline": false,
            "zerolinecolor": "rgb(36,36,36)"
           },
           "zaxis": {
            "backgroundcolor": "white",
            "gridcolor": "rgb(232,232,232)",
            "gridwidth": 2,
            "linecolor": "rgb(36,36,36)",
            "showbackground": true,
            "showgrid": false,
            "showline": true,
            "ticks": "outside",
            "zeroline": false,
            "zerolinecolor": "rgb(36,36,36)"
           }
          },
          "shapedefaults": {
           "fillcolor": "black",
           "line": {
            "width": 0
           },
           "opacity": 0.3
          },
          "ternary": {
           "aaxis": {
            "gridcolor": "rgb(232,232,232)",
            "linecolor": "rgb(36,36,36)",
            "showgrid": false,
            "showline": true,
            "ticks": "outside"
           },
           "baxis": {
            "gridcolor": "rgb(232,232,232)",
            "linecolor": "rgb(36,36,36)",
            "showgrid": false,
            "showline": true,
            "ticks": "outside"
           },
           "bgcolor": "white",
           "caxis": {
            "gridcolor": "rgb(232,232,232)",
            "linecolor": "rgb(36,36,36)",
            "showgrid": false,
            "showline": true,
            "ticks": "outside"
           }
          },
          "title": {
           "x": 0.05
          },
          "xaxis": {
           "automargin": true,
           "gridcolor": "rgb(232,232,232)",
           "linecolor": "rgb(36,36,36)",
           "showgrid": false,
           "showline": true,
           "ticks": "outside",
           "title": {
            "standoff": 15
           },
           "zeroline": false,
           "zerolinecolor": "rgb(36,36,36)"
          },
          "yaxis": {
           "automargin": true,
           "gridcolor": "rgb(232,232,232)",
           "linecolor": "rgb(36,36,36)",
           "showgrid": false,
           "showline": true,
           "ticks": "outside",
           "title": {
            "standoff": 15
           },
           "zeroline": false,
           "zerolinecolor": "rgb(36,36,36)"
          }
         }
        },
        "title": {
         "text": "Heavy Trucks: King"
        },
        "width": 800,
        "xaxis": {
         "anchor": "y",
         "domain": [
          0.0,
          1.0
         ],
         "title": {
          "text": "Observed"
         }
        },
        "yaxis": {
         "anchor": "x",
         "domain": [
          0.0,
          1.0
         ],
         "title": {
          "text": "Model"
         }
        }
       }
      },
      "text/html": [
       "<div>                            <div id=\"18d0c69a-75a0-44e8-8dde-df59b4c0223c\" class=\"plotly-graph-div\" style=\"height:600px; width:800px;\"></div>            <script type=\"text/javascript\">                require([\"plotly\"], function(Plotly) {                    window.PLOTLYENV=window.PLOTLYENV || {};                                    if (document.getElementById(\"18d0c69a-75a0-44e8-8dde-df59b4c0223c\")) {                    Plotly.newPlot(                        \"18d0c69a-75a0-44e8-8dde-df59b4c0223c\",                        [{\"customdata\":[[\"I-5 S\\u002fO 205th NB\",\"King\"],[\"I-5 S\\u002fO 205th SB\",\"King\"],[\"I-5 Rev N\\u002fO I-5 GP NB\\u002fSB\",\"King\"],[\"I-90 E\\u002fO I-5 WB\",\"King\"],[\"I-90 E\\u002fO I-5 EB\",\"King\"],[\"I-90 E\\u002fO W Lk Sam WB\",\"King\"],[\"I-90 E\\u002fO W Lk Sam EB\",\"King\"],[\"I-90 E\\u002fO SR-900 WB\",\"King\"],[\"I-405 @ I-5 Southcenter NB\",\"King\"],[\"I-405 @ I-5 Southcenter SB\",\"King\"],[\"I-405 @ Lake Wash Blvd NB\",\"King\"],[\"I-405 @ I-90 NB\",\"King\"],[\"I-405 @ I-90 SB\",\"King\"],[\"SR-520 @ x-lake bridge WB\",\"King\"],[\"SR-520 @ x-lake bridge EB\",\"King\"],[\"SR-167 S\\u002fO 43rd NB\",\"King\"],[\"SR-167 S\\u002fO 43rd SB\",\"King\"],[\"SR-167 N\\u002fO SR-18 NB\",\"King\"],[\"SR-167 N\\u002fO SR-18 SB\",\"King\"],[\"SR-167 S\\u002fO 15th SW NB\",\"King\"],[\"SR-167 S\\u002fO 15th SW SB\",\"King\"],[\"SR-509 @ Holden NB\",\"King\"],[\"SR-509 @ Holden SB\",\"King\"],[\"SR-99 N\\u002fO 14th NB\",\"King\"],[\"SR-99 N\\u002fO 14th SB\",\"King\"],[\"SR-99 N\\u002fO WSF NB\",\"King\"],[\"SR-99 N\\u002fO WSF SB\",\"King\"],[\"SR-99 tunnel NB\",\"King\"],[\"SR-99 tunnel SB\",\"King\"],[\"SR-599 S\\u002fO Pacific NB\",\"King\"],[\"SR-599 S\\u002fO Pacific SB\",\"King\"],[\"SR-599 @ Pacific NB\",\"King\"],[\"SR-599 @ Pacific SB\",\"King\"],[\"SR-18 @ I-5 WB\",\"King\"],[\"SR-18 @ I-5 EB\",\"King\"],[\"SR-18 W\\u002fO Auburn-Black Diamond WB\",\"King\"],[\"SR-18 W\\u002fO Auburn-Black Diamond EB\",\"King\"],[\"SR-18 E\\u002fO SR-516 WB\",\"King\"],[\"SR-18 E\\u002fO SR-516 EB\",\"King\"],[\"SR-18 E\\u002fO 256th WB\",\"King\"],[\"SR-18 E\\u002fO 256th EB\",\"King\"],[\"SR-522 N\\u002fO 195th WB\",\"King\"],[\"SR-522 N\\u002fO 195th EB\",\"King\"],[\"I-5 N\\u002fO I-5 Rev CBD NB\\u002fSB\",\"King\"],[\"I-90 W\\u002fO SR-18 WB\\u002fEB\",\"King\"],[\"I-90 E\\u002fO SR-18 WB\\u002fEB\",\"King\"],[\"I-90 E\\u002fO 436th WB\\u002fEB\",\"King\"],[\"I-90 @ Kittitas County WB\\u002fEB\",\"King\"],[\"I-405 N\\u002fO SR-522 NB\\u002fSB\",\"King\"],[\"SR-167 N\\u002fO Grady NB\\u002fSB\",\"King\"],[\"SR-410 E\\u002fO 244th WB\\u002fEB\",\"King\"],[\"SR-410 E\\u002fO Farman WB\\u002fEB\",\"King\"],[\"SR-410 @ Greenwater River WB\\u002fEB\",\"King\"],[\"SR-509 E\\u002fO 47th NB\\u002fSB\",\"King\"],[\"SR-509 E\\u002fO 21st NB\\u002fSB\",\"King\"],[\"SR-509 W\\u002fO SR-516 NB\\u002fSB\",\"King\"],[\"SR-509 W\\u002fO Des Moines Mem NB\\u002fSB\",\"King\"],[\"SR-509 E\\u002fO 1st Ave NB\\u002fSB\",\"King\"],[\"SR-509 E\\u002fO Des Moines Mem NB\\u002fSB\",\"King\"],[\"SR-509 @ SR-509 ramp overpass NB\\u002fSB\",\"King\"],[\"SR-509 N\\u002fO Des Moines Mem NB\\u002fSB\",\"King\"],[\"SR-509 N\\u002fO SR-518 NB\\u002fSB\",\"King\"],[\"SR-99 S\\u002fO SR-18 NB\\u002fSB\",\"King\"],[\"SR-99 N\\u002fO SR-18 NB\\u002fSB\",\"King\"],[\"SR-99 N\\u002fO 320th NB\\u002fSB\",\"King\"],[\"SR-99 N\\u002fO 188th NB\\u002fSB\",\"King\"],[\"SR-99 @ WSF NB\\u002fSB\",\"King\"],[\"SR-99 @ Aurora Bridge NB\\u002fSB\",\"King\"],[\"SR-99 N\\u002fO 38th NB\\u002fSB\",\"King\"],[\"SR-99 S\\u002fO Roosevelt NB\\u002fSB\",\"King\"],[\"SR-599 N\\u002fO I-5 NB\\u002fSB\",\"King\"],[\"SR-518 @ SR-509 WB\\u002fEB\",\"King\"],[\"SR-518 E\\u002fO SR-509 WB\\u002fEB\",\"King\"],[\"SR-18 E\\u002fO SR-99 WB\\u002fEB\",\"King\"],[\"SR-18 N\\u002fO 304th WB\\u002fEB\",\"King\"],[\"SR-18 S\\u002fO I-90 WB\\u002fEB\",\"King\"],[\"SR-202 @ SR-522 NB\\u002fSB\",\"King\"],[\"SR-202 N\\u002fO 145th NB\\u002fSB\",\"King\"],[\"SR-202 @ Sammamish River Br NB\\u002fSB\",\"King\"],[\"SR-202 S\\u002fO 144th NB\\u002fSB\",\"King\"],[\"SR-202 N\\u002fO Redmond Way NB\\u002fSB\",\"King\"],[\"SR-202 E\\u002fO 164th NB\\u002fSB\",\"King\"],[\"SR-202 E\\u002fO SR-520 NB\\u002fSB\",\"King\"],[\"SR-202 E\\u002fO E Lk Samm NB\\u002fSB\",\"King\"],[\"SR-202 E\\u002fO Sahalee NB\\u002fSB\",\"King\"],[\"SR-202 E\\u002fO 236th NB\\u002fSB\",\"King\"],[\"SR-202 S\\u002fO Ames Lake NB\\u002fSB\",\"King\"],[\"SR-202 S\\u002fO Duthie Hill NB\\u002fSB\",\"King\"],[\"SR-202 E\\u002fO SR-203 NB\\u002fSB\",\"King\"],[\"SR-202 N\\u002fO I-90 NB\\u002fSB\",\"King\"],[\"SR-522 N\\u002fO 145th NB\\u002fSB\",\"King\"],[\"SR-104 W\\u002fO 19th WB\\u002fEB\",\"King\"],[\"SR-516 E\\u002fO SR-509 WB\\u002fEB\",\"King\"],[\"SR-516 W\\u002fO I-5 WB\\u002fEB\",\"King\"],[\"SR-516 E\\u002fO Meeker WB\\u002fEB\",\"King\"],[\"SR-516 W\\u002fO SR-167 WB\\u002fEB\",\"King\"],[\"SR-516 E\\u002fO SR-167 WB\\u002fEB\",\"King\"],[\"SR-516 E\\u002fO SR-18 WB\\u002fEB\",\"King\"],[\"SR-900 S\\u002fO NB I-5 on-ramp @ Boe Acc WB\\u002fEB\",\"King\"],[\"SR-900 E\\u002fO 68th WB\\u002fEB\",\"King\"],[\"SR-900 @ I-405 WB\\u002fEB\",\"King\"],[\"SR-900 E\\u002fO 148th WB\\u002fEB\",\"King\"],[\"SR-900 N\\u002fO Talus WB\\u002fEB\",\"King\"],[\"SR-900 N\\u002fO Newport WB\\u002fEB\",\"King\"],[\"SR-2 E\\u002fO Skykomish WB\\u002fEB\",\"King\"],[\"SR-513 S\\u002fO 44th NB\\u002fSB\",\"King\"],[\"SR-169 N\\u002fO SR-164 NB\\u002fSB\",\"King\"],[\"SR-169 S\\u002fO Lawson NB\\u002fSB\",\"King\"],[\"SR-169 S\\u002fO 276th NB\\u002fSB\",\"King\"],[\"SR-169 N\\u002fO 280th NB\\u002fSB\",\"King\"],[\"SR-169 N\\u002fO 231st NB\\u002fSB\",\"King\"],[\"SR-169 N\\u002fO 232nd NB\\u002fSB\",\"King\"],[\"SR-169 W\\u002fO 140th NB\\u002fSB\",\"King\"],[\"SR-515 N\\u002fO SR-516 NB\\u002fSB\",\"King\"],[\"SR-515 N\\u002fO 108th NB\\u002fSB\",\"King\"],[\"SR-515 N\\u002fO Puget NB\\u002fSB\",\"King\"],[\"SR-181 N\\u002fO SR-516 NB\\u002fSB\",\"King\"],[\"SR-181 S\\u002fO James NB\\u002fSB\",\"King\"],[\"SR-181 N\\u002fO James NB\\u002fSB\",\"King\"],[\"SR-181 N\\u002fO 228th NB\\u002fSB\",\"King\"],[\"SR-181 N\\u002fO 180th NB\\u002fSB\",\"King\"],[\"SR-181 S\\u002fO Longacres NB\\u002fSB\",\"King\"],[\"SR-523 E\\u002fO Lenora WB\\u002fEB\",\"King\"],[\"SR-164 @ SR-18 WB\\u002fEB\",\"King\"],[\"SR-164 S\\u002fO 400th WB\\u002fEB\",\"King\"],[\"SR-203 N\\u002fO Cherry Valley NB\\u002fSB\",\"King\"],[\"SR-203 N\\u002fO 124th NB\\u002fSB\",\"King\"],[\"SR-203 W\\u002fO Stillwater Hill NB\\u002fSB\",\"King\"],[\"SR-203 N\\u002fO Carnation Farm NB\\u002fSB\",\"King\"],[\"SR-203 N\\u002fO Tolt Hill NB\\u002fSB\",\"King\"],[\"SR-203 N\\u002fO SR-202 NB\\u002fSB\",\"King\"],[\"SR-519 W\\u002fO 4th NB\\u002fSB\",\"King\"]],\"hovertemplate\":\"Observed=%{x}\\u003cbr\\u003eModel=%{y}\\u003cbr\\u003elocation=%{customdata[0]}\\u003cbr\\u003eCounty=%{customdata[1]}\\u003cextra\\u003e\\u003c\\u002fextra\\u003e\",\"legendgroup\":\"\",\"marker\":{\"color\":\"#91268F\",\"symbol\":\"circle\"},\"mode\":\"markers\",\"name\":\"\",\"orientation\":\"v\",\"showlegend\":false,\"x\":[2322,2482,764,901,830,1933,1905,2505,855,1392,2142,321,258,137,138,2142,2289,2264,2273,3621,3308,938,942,1170,868,173,157,144,131,1302,1091,1389,920,945,1721,2401,2292,2108,2077,2714,2654,764,823,2893,3334,10502,6332,6539,2933,308,508,797,31,19,68,60,10,32,86,120,210,372,1242,280,288,174,222,146,108,141,2754,246,336,1417,5817,3461,265,83,76,321,54,146,477,307,420,378,300,318,284,110,167,76,80,540,375,960,288,351,396,84,208,76,242,84,126,56,224,440,304,231,850,1035,1248,100,96,141,957,897,899,1050,999,918,84,297,198,340,364,315,284,330,332,638],\"xaxis\":\"x\",\"y\":[5259,5514,4739,1178,1295,1319,1365,1395,188,1780,4579,4412,4086,58,56,3138,3556,4768,4907,4095,4078,188,307,1421,896,157,185,69,78,1542,1050,1503,1010,923,575,1699,1649,1749,1709,1783,1735,1823,1749,7225,3085,6112,6221,5371,4203,628,30,96,96,0,24,47,15,14,14,120,256,449,2504,78,129,224,198,215,26,36,2903,446,478,2647,3267,3924,21,19,5,22,43,41,1295,12,1,44,43,33,280,302,113,41,31,416,2631,2960,1713,67,1220,90,227,75,152,146,64,0,0,52,68,68,96,186,183,5,20,75,966,967,1073,2247,1529,1548,34,288,123,519,472,482,482,482,482,974],\"yaxis\":\"y\",\"type\":\"scatter\",\"line\":{\"color\":\"Grey\",\"width\":2}},{\"hovertemplate\":\"Observed=%{x}\\u003cbr\\u003eModel=%{y}\\u003cextra\\u003e\\u003c\\u002fextra\\u003e\",\"legendgroup\":\"\",\"line\":{\"color\":\"Grey\",\"dash\":\"solid\",\"width\":2},\"marker\":{\"symbol\":\"circle\"},\"mode\":\"lines\",\"name\":\"\",\"orientation\":\"v\",\"showlegend\":false,\"x\":[0.0,106.08080808080808,212.16161616161617,318.24242424242425,424.32323232323233,530.4040404040404,636.4848484848485,742.5656565656566,848.6464646464647,954.7272727272727,1060.8080808080808,1166.888888888889,1272.969696969697,1379.050505050505,1485.1313131313132,1591.2121212121212,1697.2929292929293,1803.3737373737374,1909.4545454545455,2015.5353535353536,2121.6161616161617,2227.69696969697,2333.777777777778,2439.8585858585857,2545.939393939394,2652.0202020202023,2758.10101010101,2864.181818181818,2970.2626262626263,3076.3434343434346,3182.4242424242425,3288.5050505050503,3394.5858585858587,3500.666666666667,3606.747474747475,3712.8282828282827,3818.909090909091,3924.9898989898993,4031.070707070707,4137.151515151515,4243.232323232323,4349.313131313132,4455.39393939394,4561.474747474747,4667.555555555556,4773.636363636364,4879.717171717171,4985.79797979798,5091.878787878788,5197.959595959596,5304.040404040405,5410.121212121212,5516.20202020202,5622.282828282829,5728.363636363636,5834.444444444444,5940.525252525253,6046.606060606061,6152.686868686869,6258.767676767677,6364.848484848485,6470.929292929293,6577.010101010101,6683.090909090909,6789.171717171717,6895.252525252526,7001.333333333334,7107.414141414141,7213.49494949495,7319.575757575758,7425.656565656565,7531.737373737374,7637.818181818182,7743.89898989899,7849.979797979799,7956.060606060606,8062.141414141414,8168.222222222223,8274.30303030303,8380.38383838384,8486.464646464647,8592.545454545454,8698.626262626263,8804.70707070707,8910.78787878788,9016.868686868687,9122.949494949495,9229.030303030304,9335.111111111111,9441.191919191919,9547.272727272728,9653.353535353535,9759.434343434343,9865.515151515152,9971.59595959596,10077.676767676769,10183.757575757576,10289.838383838383,10395.919191919193,10502.0],\"xaxis\":\"x\",\"y\":[357.965328833812,447.92909407658476,537.8928593193575,627.8566245621303,717.820389804903,807.7841550476758,897.7479202904485,987.7116855332213,1077.675450775994,1167.6392160187668,1257.6029812615395,1347.5667465043123,1437.530511747085,1527.4942769898578,1617.4580422326305,1707.4218074754033,1797.385572718176,1887.3493379609488,1977.3131032037215,2067.2768684464945,2157.2406336892673,2247.20439893204,2337.168164174813,2427.1319294175855,2517.0956946603583,2607.059459903131,2697.023225145904,2786.9869903886765,2876.9507556314493,2966.914520874222,3056.878286116995,3146.8420513597675,3236.8058166025403,3326.769581845313,3416.733347088086,3506.6971123308585,3596.6608775736313,3686.624642816404,3776.588408059177,3866.5521733019496,3956.5159385447223,4046.479703787495,4136.443469030268,4226.407234273041,4316.370999515813,4406.334764758586,4496.298530001359,4586.262295244132,4676.226060486904,4766.189825729677,4856.153590972451,4946.117356215223,5036.081121457995,5126.044886700768,5216.008651943541,5305.972417186314,5395.936182429086,5485.899947671859,5575.863712914633,5665.827478157405,5755.791243400177,5845.75500864295,5935.718773885723,6025.682539128496,6115.646304371268,6205.610069614041,6295.573834856815,6385.537600099587,6475.501365342359,6565.465130585132,6655.428895827905,6745.392661070678,6835.35642631345,6925.320191556223,7015.283956798997,7105.247722041769,7195.211487284541,7285.175252527314,7375.139017770087,7465.1027830128605,7555.066548255632,7645.030313498405,7734.994078741179,7824.957843983951,7914.921609226724,8004.885374469496,8094.849139712269,8184.8129049550425,8274.776670197814,8364.740435440586,8454.70420068336,8544.667965926132,8634.631731168905,8724.595496411679,8814.55926165445,8904.523026897225,8994.486792139996,9084.450557382768,9174.414322625542,9264.378087868316],\"yaxis\":\"y\",\"type\":\"scatter\"}],                        {\"template\":{\"data\":{\"barpolar\":[{\"marker\":{\"line\":{\"color\":\"white\",\"width\":0.5},\"pattern\":{\"fillmode\":\"overlay\",\"size\":10,\"solidity\":0.2}},\"type\":\"barpolar\"}],\"bar\":[{\"error_x\":{\"color\":\"rgb(36,36,36)\"},\"error_y\":{\"color\":\"rgb(36,36,36)\"},\"marker\":{\"line\":{\"color\":\"white\",\"width\":0.5},\"pattern\":{\"fillmode\":\"overlay\",\"size\":10,\"solidity\":0.2}},\"type\":\"bar\"}],\"carpet\":[{\"aaxis\":{\"endlinecolor\":\"rgb(36,36,36)\",\"gridcolor\":\"white\",\"linecolor\":\"white\",\"minorgridcolor\":\"white\",\"startlinecolor\":\"rgb(36,36,36)\"},\"baxis\":{\"endlinecolor\":\"rgb(36,36,36)\",\"gridcolor\":\"white\",\"linecolor\":\"white\",\"minorgridcolor\":\"white\",\"startlinecolor\":\"rgb(36,36,36)\"},\"type\":\"carpet\"}],\"choropleth\":[{\"colorbar\":{\"outlinewidth\":1,\"tickcolor\":\"rgb(36,36,36)\",\"ticks\":\"outside\"},\"type\":\"choropleth\"}],\"contourcarpet\":[{\"colorbar\":{\"outlinewidth\":1,\"tickcolor\":\"rgb(36,36,36)\",\"ticks\":\"outside\"},\"type\":\"contourcarpet\"}],\"contour\":[{\"colorbar\":{\"outlinewidth\":1,\"tickcolor\":\"rgb(36,36,36)\",\"ticks\":\"outside\"},\"colorscale\":[[0.0,\"#440154\"],[0.1111111111111111,\"#482878\"],[0.2222222222222222,\"#3e4989\"],[0.3333333333333333,\"#31688e\"],[0.4444444444444444,\"#26828e\"],[0.5555555555555556,\"#1f9e89\"],[0.6666666666666666,\"#35b779\"],[0.7777777777777778,\"#6ece58\"],[0.8888888888888888,\"#b5de2b\"],[1.0,\"#fde725\"]],\"type\":\"contour\"}],\"heatmapgl\":[{\"colorbar\":{\"outlinewidth\":1,\"tickcolor\":\"rgb(36,36,36)\",\"ticks\":\"outside\"},\"colorscale\":[[0.0,\"#440154\"],[0.1111111111111111,\"#482878\"],[0.2222222222222222,\"#3e4989\"],[0.3333333333333333,\"#31688e\"],[0.4444444444444444,\"#26828e\"],[0.5555555555555556,\"#1f9e89\"],[0.6666666666666666,\"#35b779\"],[0.7777777777777778,\"#6ece58\"],[0.8888888888888888,\"#b5de2b\"],[1.0,\"#fde725\"]],\"type\":\"heatmapgl\"}],\"heatmap\":[{\"colorbar\":{\"outlinewidth\":1,\"tickcolor\":\"rgb(36,36,36)\",\"ticks\":\"outside\"},\"colorscale\":[[0.0,\"#440154\"],[0.1111111111111111,\"#482878\"],[0.2222222222222222,\"#3e4989\"],[0.3333333333333333,\"#31688e\"],[0.4444444444444444,\"#26828e\"],[0.5555555555555556,\"#1f9e89\"],[0.6666666666666666,\"#35b779\"],[0.7777777777777778,\"#6ece58\"],[0.8888888888888888,\"#b5de2b\"],[1.0,\"#fde725\"]],\"type\":\"heatmap\"}],\"histogram2dcontour\":[{\"colorbar\":{\"outlinewidth\":1,\"tickcolor\":\"rgb(36,36,36)\",\"ticks\":\"outside\"},\"colorscale\":[[0.0,\"#440154\"],[0.1111111111111111,\"#482878\"],[0.2222222222222222,\"#3e4989\"],[0.3333333333333333,\"#31688e\"],[0.4444444444444444,\"#26828e\"],[0.5555555555555556,\"#1f9e89\"],[0.6666666666666666,\"#35b779\"],[0.7777777777777778,\"#6ece58\"],[0.8888888888888888,\"#b5de2b\"],[1.0,\"#fde725\"]],\"type\":\"histogram2dcontour\"}],\"histogram2d\":[{\"colorbar\":{\"outlinewidth\":1,\"tickcolor\":\"rgb(36,36,36)\",\"ticks\":\"outside\"},\"colorscale\":[[0.0,\"#440154\"],[0.1111111111111111,\"#482878\"],[0.2222222222222222,\"#3e4989\"],[0.3333333333333333,\"#31688e\"],[0.4444444444444444,\"#26828e\"],[0.5555555555555556,\"#1f9e89\"],[0.6666666666666666,\"#35b779\"],[0.7777777777777778,\"#6ece58\"],[0.8888888888888888,\"#b5de2b\"],[1.0,\"#fde725\"]],\"type\":\"histogram2d\"}],\"histogram\":[{\"marker\":{\"line\":{\"color\":\"white\",\"width\":0.6}},\"type\":\"histogram\"}],\"mesh3d\":[{\"colorbar\":{\"outlinewidth\":1,\"tickcolor\":\"rgb(36,36,36)\",\"ticks\":\"outside\"},\"type\":\"mesh3d\"}],\"parcoords\":[{\"line\":{\"colorbar\":{\"outlinewidth\":1,\"tickcolor\":\"rgb(36,36,36)\",\"ticks\":\"outside\"}},\"type\":\"parcoords\"}],\"pie\":[{\"automargin\":true,\"type\":\"pie\"}],\"scatter3d\":[{\"line\":{\"colorbar\":{\"outlinewidth\":1,\"tickcolor\":\"rgb(36,36,36)\",\"ticks\":\"outside\"}},\"marker\":{\"colorbar\":{\"outlinewidth\":1,\"tickcolor\":\"rgb(36,36,36)\",\"ticks\":\"outside\"}},\"type\":\"scatter3d\"}],\"scattercarpet\":[{\"marker\":{\"colorbar\":{\"outlinewidth\":1,\"tickcolor\":\"rgb(36,36,36)\",\"ticks\":\"outside\"}},\"type\":\"scattercarpet\"}],\"scattergeo\":[{\"marker\":{\"colorbar\":{\"outlinewidth\":1,\"tickcolor\":\"rgb(36,36,36)\",\"ticks\":\"outside\"}},\"type\":\"scattergeo\"}],\"scattergl\":[{\"marker\":{\"colorbar\":{\"outlinewidth\":1,\"tickcolor\":\"rgb(36,36,36)\",\"ticks\":\"outside\"}},\"type\":\"scattergl\"}],\"scattermapbox\":[{\"marker\":{\"colorbar\":{\"outlinewidth\":1,\"tickcolor\":\"rgb(36,36,36)\",\"ticks\":\"outside\"}},\"type\":\"scattermapbox\"}],\"scatterpolargl\":[{\"marker\":{\"colorbar\":{\"outlinewidth\":1,\"tickcolor\":\"rgb(36,36,36)\",\"ticks\":\"outside\"}},\"type\":\"scatterpolargl\"}],\"scatterpolar\":[{\"marker\":{\"colorbar\":{\"outlinewidth\":1,\"tickcolor\":\"rgb(36,36,36)\",\"ticks\":\"outside\"}},\"type\":\"scatterpolar\"}],\"scatter\":[{\"fillpattern\":{\"fillmode\":\"overlay\",\"size\":10,\"solidity\":0.2},\"type\":\"scatter\"}],\"scatterternary\":[{\"marker\":{\"colorbar\":{\"outlinewidth\":1,\"tickcolor\":\"rgb(36,36,36)\",\"ticks\":\"outside\"}},\"type\":\"scatterternary\"}],\"surface\":[{\"colorbar\":{\"outlinewidth\":1,\"tickcolor\":\"rgb(36,36,36)\",\"ticks\":\"outside\"},\"colorscale\":[[0.0,\"#440154\"],[0.1111111111111111,\"#482878\"],[0.2222222222222222,\"#3e4989\"],[0.3333333333333333,\"#31688e\"],[0.4444444444444444,\"#26828e\"],[0.5555555555555556,\"#1f9e89\"],[0.6666666666666666,\"#35b779\"],[0.7777777777777778,\"#6ece58\"],[0.8888888888888888,\"#b5de2b\"],[1.0,\"#fde725\"]],\"type\":\"surface\"}],\"table\":[{\"cells\":{\"fill\":{\"color\":\"rgb(237,237,237)\"},\"line\":{\"color\":\"white\"}},\"header\":{\"fill\":{\"color\":\"rgb(217,217,217)\"},\"line\":{\"color\":\"white\"}},\"type\":\"table\"}]},\"layout\":{\"annotationdefaults\":{\"arrowhead\":0,\"arrowwidth\":1},\"autotypenumbers\":\"strict\",\"coloraxis\":{\"colorbar\":{\"outlinewidth\":1,\"tickcolor\":\"rgb(36,36,36)\",\"ticks\":\"outside\"}},\"colorscale\":{\"diverging\":[[0.0,\"rgb(103,0,31)\"],[0.1,\"rgb(178,24,43)\"],[0.2,\"rgb(214,96,77)\"],[0.3,\"rgb(244,165,130)\"],[0.4,\"rgb(253,219,199)\"],[0.5,\"rgb(247,247,247)\"],[0.6,\"rgb(209,229,240)\"],[0.7,\"rgb(146,197,222)\"],[0.8,\"rgb(67,147,195)\"],[0.9,\"rgb(33,102,172)\"],[1.0,\"rgb(5,48,97)\"]],\"sequential\":[[0.0,\"#440154\"],[0.1111111111111111,\"#482878\"],[0.2222222222222222,\"#3e4989\"],[0.3333333333333333,\"#31688e\"],[0.4444444444444444,\"#26828e\"],[0.5555555555555556,\"#1f9e89\"],[0.6666666666666666,\"#35b779\"],[0.7777777777777778,\"#6ece58\"],[0.8888888888888888,\"#b5de2b\"],[1.0,\"#fde725\"]],\"sequentialminus\":[[0.0,\"#440154\"],[0.1111111111111111,\"#482878\"],[0.2222222222222222,\"#3e4989\"],[0.3333333333333333,\"#31688e\"],[0.4444444444444444,\"#26828e\"],[0.5555555555555556,\"#1f9e89\"],[0.6666666666666666,\"#35b779\"],[0.7777777777777778,\"#6ece58\"],[0.8888888888888888,\"#b5de2b\"],[1.0,\"#fde725\"]]},\"colorway\":[\"#91268F\",\"#8CC63E\",\"#00A7A0\",\"#F05A28\",\"#4C4C4C\",\"#630460\",\"#9f3913\",\"#588527\",\"#00716c\",\"#3e4040\"],\"font\":{\"color\":\"rgb(36,36,36)\",\"family\":\"Poppins\",\"size\":11},\"geo\":{\"bgcolor\":\"white\",\"lakecolor\":\"white\",\"landcolor\":\"white\",\"showlakes\":true,\"showland\":true,\"subunitcolor\":\"white\"},\"hoverlabel\":{\"align\":\"left\"},\"hovermode\":\"closest\",\"mapbox\":{\"style\":\"light\"},\"paper_bgcolor\":\"white\",\"plot_bgcolor\":\"white\",\"polar\":{\"angularaxis\":{\"gridcolor\":\"rgb(232,232,232)\",\"linecolor\":\"rgb(36,36,36)\",\"showgrid\":false,\"showline\":true,\"ticks\":\"outside\"},\"bgcolor\":\"white\",\"radialaxis\":{\"gridcolor\":\"rgb(232,232,232)\",\"linecolor\":\"rgb(36,36,36)\",\"showgrid\":false,\"showline\":true,\"ticks\":\"outside\"}},\"scene\":{\"xaxis\":{\"backgroundcolor\":\"white\",\"gridcolor\":\"rgb(232,232,232)\",\"gridwidth\":2,\"linecolor\":\"rgb(36,36,36)\",\"showbackground\":true,\"showgrid\":false,\"showline\":true,\"ticks\":\"outside\",\"zeroline\":false,\"zerolinecolor\":\"rgb(36,36,36)\"},\"yaxis\":{\"backgroundcolor\":\"white\",\"gridcolor\":\"rgb(232,232,232)\",\"gridwidth\":2,\"linecolor\":\"rgb(36,36,36)\",\"showbackground\":true,\"showgrid\":false,\"showline\":true,\"ticks\":\"outside\",\"zeroline\":false,\"zerolinecolor\":\"rgb(36,36,36)\"},\"zaxis\":{\"backgroundcolor\":\"white\",\"gridcolor\":\"rgb(232,232,232)\",\"gridwidth\":2,\"linecolor\":\"rgb(36,36,36)\",\"showbackground\":true,\"showgrid\":false,\"showline\":true,\"ticks\":\"outside\",\"zeroline\":false,\"zerolinecolor\":\"rgb(36,36,36)\"}},\"shapedefaults\":{\"fillcolor\":\"black\",\"line\":{\"width\":0},\"opacity\":0.3},\"ternary\":{\"aaxis\":{\"gridcolor\":\"rgb(232,232,232)\",\"linecolor\":\"rgb(36,36,36)\",\"showgrid\":false,\"showline\":true,\"ticks\":\"outside\"},\"baxis\":{\"gridcolor\":\"rgb(232,232,232)\",\"linecolor\":\"rgb(36,36,36)\",\"showgrid\":false,\"showline\":true,\"ticks\":\"outside\"},\"bgcolor\":\"white\",\"caxis\":{\"gridcolor\":\"rgb(232,232,232)\",\"linecolor\":\"rgb(36,36,36)\",\"showgrid\":false,\"showline\":true,\"ticks\":\"outside\"}},\"title\":{\"x\":0.05},\"xaxis\":{\"automargin\":true,\"gridcolor\":\"rgb(232,232,232)\",\"linecolor\":\"rgb(36,36,36)\",\"showgrid\":false,\"showline\":true,\"ticks\":\"outside\",\"title\":{\"standoff\":15},\"zeroline\":false,\"zerolinecolor\":\"rgb(36,36,36)\"},\"yaxis\":{\"automargin\":true,\"gridcolor\":\"rgb(232,232,232)\",\"linecolor\":\"rgb(36,36,36)\",\"showgrid\":false,\"showline\":true,\"ticks\":\"outside\",\"title\":{\"standoff\":15},\"zeroline\":false,\"zerolinecolor\":\"rgb(36,36,36)\"}}},\"xaxis\":{\"anchor\":\"y\",\"domain\":[0.0,1.0],\"title\":{\"text\":\"Observed\"}},\"yaxis\":{\"anchor\":\"x\",\"domain\":[0.0,1.0],\"title\":{\"text\":\"Model\"}},\"legend\":{\"tracegroupgap\":0},\"title\":{\"text\":\"Heavy Trucks: King\"},\"margin\":{\"l\":100,\"r\":100,\"t\":100,\"b\":100},\"height\":600,\"width\":800,\"shapes\":[{\"line\":{\"color\":\"Red\",\"dash\":\"dash\",\"width\":2},\"type\":\"line\",\"x0\":0,\"x1\":10502,\"y0\":0,\"y1\":10502}],\"annotations\":[{\"align\":\"right\",\"font\":{\"color\":\"pink\",\"size\":12},\"showarrow\":false,\"text\":\"y = x\",\"x\":11027.1,\"y\":11027.1},{\"align\":\"right\",\"font\":{\"color\":\"black\",\"size\":12},\"showarrow\":false,\"text\":\"r^2 = 0.57\",\"x\":11027.1,\"y\":9727.596992261731}]},                        {\"responsive\": true}                    ).then(function(){\n",
       "                            \n",
       "var gd = document.getElementById('18d0c69a-75a0-44e8-8dde-df59b4c0223c');\n",
       "var x = new MutationObserver(function (mutations, observer) {{\n",
       "        var display = window.getComputedStyle(gd).display;\n",
       "        if (!display || display === 'none') {{\n",
       "            console.log([gd, 'removed!']);\n",
       "            Plotly.purge(gd);\n",
       "            observer.disconnect();\n",
       "        }}\n",
       "}});\n",
       "\n",
       "// Listen for the removal of the full notebook cells\n",
       "var notebookContainer = gd.closest('#notebook-container');\n",
       "if (notebookContainer) {{\n",
       "    x.observe(notebookContainer, {childList: true});\n",
       "}}\n",
       "\n",
       "// Listen for the clearing of the current output cell\n",
       "var outputEl = gd.closest('.output');\n",
       "if (outputEl) {{\n",
       "    x.observe(outputEl, {childList: true});\n",
       "}}\n",
       "\n",
       "                        })                };                });            </script>        </div>"
      ]
     },
     "metadata": {},
     "output_type": "display_data"
    }
   ],
   "source": [
    "fig = create_truck_chart(df_daily_heavy, 'Heavy', 'King')\n",
    "fig.show()"
   ]
  },
  {
   "cell_type": "raw",
   "id": "d8920eeb",
   "metadata": {
    "vscode": {
     "languageId": "raw"
    }
   },
   "source": [
    "#### Kitsap"
   ]
  },
  {
   "cell_type": "code",
   "execution_count": 26,
   "id": "0c8e0f42",
   "metadata": {},
   "outputs": [
    {
     "data": {
      "application/vnd.plotly.v1+json": {
       "config": {
        "plotlyServerURL": "https://plot.ly"
       },
       "data": [
        {
         "customdata": [
          [
           "SR-16  N/O SR-302 NB/SB",
           "Kitsap"
          ],
          [
           "SR-16 N/O SR-160 NB/SB",
           "Kitsap"
          ],
          [
           "SR-16 N/O Tremont NB/SB",
           "Kitsap"
          ],
          [
           "SR-16 S/O SR-3 NB",
           "Kitsap"
          ],
          [
           "SR-104 @ Hood Canal Bridge WB/EB",
           "Kitsap"
          ],
          [
           "SR-104 E/O Hood Canal Bridge WB/EB",
           "Kitsap"
          ],
          [
           "SR-104 N/O Pt Gamble Rd WB/EB",
           "Kitsap"
          ],
          [
           "SR-104 E/O SR-307 WB/EB",
           "Kitsap"
          ],
          [
           "SR-104 E/O Hansville WB/EB",
           "Kitsap"
          ],
          [
           "SR-160 @ SR-16 WB/EB",
           "Kitsap"
          ],
          [
           "SR-160 E/O Long Lake Rd WB/EB",
           "Kitsap"
          ],
          [
           "SR-160 W/O Banner WB/EB",
           "Kitsap"
          ],
          [
           "SR-160 E/O Peterson WB/EB",
           "Kitsap"
          ],
          [
           "SR-160 S/O Southworth Dr WB/EB",
           "Kitsap"
          ],
          [
           "SR-166 E/O SR-16 WB/EB",
           "Kitsap"
          ],
          [
           "SR-3 E/O Sunset Way NB/SB",
           "Kitsap"
          ],
          [
           "SR-3 N/O SR-305 NB/SB",
           "Kitsap"
          ],
          [
           "SR-3 S/O Newberry Hill Rd NB/SB",
           "Kitsap"
          ],
          [
           "SR-3 @ SR-304 NB/SB",
           "Kitsap"
          ],
          [
           "SR-3 NE of SR-16 NB/SB",
           "Kitsap"
          ],
          [
           "SR-3 W/O Lake Flora Rd NB/SB",
           "Kitsap"
          ],
          [
           "SR-303 E/O SR-3 NB/SB",
           "Kitsap"
          ],
          [
           "SR-303 N/O 11th St NB/SB",
           "Kitsap"
          ],
          [
           "SR-303 N/O SR-304 NB/SB",
           "Kitsap"
          ],
          [
           "SR-304 E/O SR-3 WB/EB",
           "Kitsap"
          ],
          [
           "SR-304 W/O Naval WB/EB",
           "Kitsap"
          ],
          [
           "SR-305 W/O SR-307 WB/EB",
           "Kitsap"
          ],
          [
           "SR-305 W/O Suquamish Way WB/EB",
           "Kitsap"
          ],
          [
           "SR-305 N/O Day Rd WB/EB",
           "Kitsap"
          ],
          [
           "SR-305 N/O High School Rd WB/EB",
           "Kitsap"
          ],
          [
           "SR-305 S/O Winslow Way WB/EB",
           "Kitsap"
          ],
          [
           "SR-305 @ Ferry Ramp WB/EB",
           "Kitsap"
          ],
          [
           "SR-307 W/O SR-104 NB/SB",
           "Kitsap"
          ],
          [
           "SR-307 N/O Gunderson NB/SB",
           "Kitsap"
          ],
          [
           "SR-307 S/O Gunderson NB/SB",
           "Kitsap"
          ],
          [
           "SR-307 N/O SR-305 NB/SB",
           "Kitsap"
          ],
          [
           "SR-308 @ SR-3 WB/EB",
           "Kitsap"
          ],
          [
           "SR-308 E/O SR-3 WB/EB",
           "Kitsap"
          ],
          [
           "SR-308 E/O Silverdale Way WB/EB",
           "Kitsap"
          ],
          [
           "SR-308 W/O Brownsville Hwy WB/EB",
           "Kitsap"
          ],
          [
           "SR-310 @ SR-3 WB/EB",
           "Kitsap"
          ],
          [
           "SR-310 W/O Callow WB/EB",
           "Kitsap"
          ]
         ],
         "hovertemplate": "Observed=%{x}<br>Model=%{y}<br>location=%{customdata[0]}<br>County=%{customdata[1]}<extra></extra>",
         "legendgroup": "",
         "line": {
          "color": "Grey",
          "width": 2
         },
         "marker": {
          "color": "#91268F",
          "symbol": "circle"
         },
         "mode": "markers",
         "name": "",
         "orientation": "v",
         "showlegend": false,
         "type": "scatter",
         "x": [
          1558,
          1210,
          1364,
          1155,
          612,
          75,
          70,
          144,
          84,
          114,
          34,
          30,
          19,
          12,
          140,
          1020,
          1012,
          1159,
          988,
          1360,
          288,
          180,
          216,
          98,
          210,
          126,
          266,
          420,
          420,
          234,
          11,
          9,
          196,
          168,
          126,
          120,
          39,
          36,
          66,
          22,
          138,
          26
         ],
         "xaxis": "x",
         "y": [
          3840,
          3207,
          3170,
          1587,
          965,
          2,
          2,
          155,
          116,
          203,
          21,
          21,
          23,
          23,
          2,
          963,
          1176,
          2458,
          2908,
          3182,
          9,
          21,
          168,
          48,
          273,
          145,
          481,
          148,
          128,
          99,
          0,
          0,
          155,
          155,
          156,
          259,
          56,
          112,
          40,
          0,
          26,
          0
         ],
         "yaxis": "y"
        },
        {
         "hovertemplate": "Observed=%{x}<br>Model=%{y}<extra></extra>",
         "legendgroup": "",
         "line": {
          "color": "Grey",
          "dash": "solid",
          "width": 2
         },
         "marker": {
          "symbol": "circle"
         },
         "mode": "lines",
         "name": "",
         "orientation": "v",
         "showlegend": false,
         "type": "scatter",
         "x": [
          0.0,
          15.737373737373737,
          31.474747474747474,
          47.21212121212121,
          62.94949494949495,
          78.68686868686868,
          94.42424242424242,
          110.16161616161617,
          125.8989898989899,
          141.63636363636363,
          157.37373737373736,
          173.11111111111111,
          188.84848484848484,
          204.58585858585857,
          220.32323232323233,
          236.06060606060606,
          251.7979797979798,
          267.5353535353535,
          283.27272727272725,
          299.010101010101,
          314.7474747474747,
          330.4848484848485,
          346.22222222222223,
          361.95959595959596,
          377.6969696969697,
          393.4343434343434,
          409.17171717171715,
          424.9090909090909,
          440.64646464646466,
          456.3838383838384,
          472.1212121212121,
          487.85858585858585,
          503.5959595959596,
          519.3333333333334,
          535.070707070707,
          550.8080808080808,
          566.5454545454545,
          582.2828282828283,
          598.020202020202,
          613.7575757575758,
          629.4949494949494,
          645.2323232323232,
          660.969696969697,
          676.7070707070707,
          692.4444444444445,
          708.1818181818181,
          723.9191919191919,
          739.6565656565656,
          755.3939393939394,
          771.1313131313132,
          786.8686868686868,
          802.6060606060606,
          818.3434343434343,
          834.0808080808081,
          849.8181818181818,
          865.5555555555555,
          881.2929292929293,
          897.030303030303,
          912.7676767676768,
          928.5050505050505,
          944.2424242424242,
          959.9797979797979,
          975.7171717171717,
          991.4545454545454,
          1007.1919191919192,
          1022.929292929293,
          1038.6666666666667,
          1054.4040404040404,
          1070.141414141414,
          1085.8787878787878,
          1101.6161616161617,
          1117.3535353535353,
          1133.090909090909,
          1148.828282828283,
          1164.5656565656566,
          1180.3030303030303,
          1196.040404040404,
          1211.7777777777778,
          1227.5151515151515,
          1243.2525252525252,
          1258.9898989898988,
          1274.7272727272727,
          1290.4646464646464,
          1306.20202020202,
          1321.939393939394,
          1337.6767676767677,
          1353.4141414141413,
          1369.151515151515,
          1384.888888888889,
          1400.6262626262626,
          1416.3636363636363,
          1432.1010101010102,
          1447.8383838383838,
          1463.5757575757575,
          1479.3131313131312,
          1495.050505050505,
          1510.7878787878788,
          1526.5252525252524,
          1542.2626262626263,
          1558.0
         ],
         "xaxis": "x",
         "y": [
          -191.27900347668492,
          -156.38223037066462,
          -121.48545726464431,
          -86.58868415862402,
          -51.6919110526037,
          -16.795137946583424,
          18.10163515943688,
          52.998408265457215,
          87.89518137147752,
          122.79195447749777,
          157.68872758351807,
          192.58550068953843,
          227.48227379555868,
          262.379046901579,
          297.27582000759935,
          332.17259311361966,
          367.06936621963996,
          401.96613932566015,
          436.86291243168046,
          471.75968553770076,
          506.65645864372107,
          541.5532317497415,
          576.4500048557618,
          611.3467779617821,
          646.2435510678023,
          681.1403241738226,
          716.0370972798429,
          750.9338703858632,
          785.8306434918836,
          820.7274165979039,
          855.6241897039242,
          890.5209628099444,
          925.4177359159648,
          960.3145090219853,
          995.2112821280052,
          1030.1080552340256,
          1065.0048283400458,
          1099.9016014460663,
          1134.7983745520864,
          1169.6951476581069,
          1204.591920764127,
          1239.4886938701475,
          1274.385466976168,
          1309.282240082188,
          1344.1790131882085,
          1379.0757862942287,
          1413.972559400249,
          1448.869332506269,
          1483.7661056122895,
          1518.66287871831,
          1553.55965182433,
          1588.4564249303505,
          1623.3531980363707,
          1658.2499711423911,
          1693.1467442484113,
          1728.0435173544317,
          1762.9402904604522,
          1797.8370635664724,
          1832.7338366724928,
          1867.6306097785127,
          1902.5273828845334,
          1937.4241559905536,
          1972.3209290965738,
          2007.217702202594,
          2042.1144753086146,
          2077.011248414635,
          2111.9080215206554,
          2146.8047946266756,
          2181.7015677326954,
          2216.5983408387156,
          2251.495113944736,
          2286.3918870507564,
          2321.2886601567766,
          2356.1854332627972,
          2391.0822063688174,
          2425.9789794748376,
          2460.875752580858,
          2495.7725256868785,
          2530.6692987928986,
          2565.566071898919,
          2600.462845004939,
          2635.3596181109597,
          2670.25639121698,
          2705.153164323,
          2740.0499374290207,
          2774.946710535041,
          2809.843483641061,
          2844.7402567470813,
          2879.637029853102,
          2914.533802959122,
          2949.4305760651423,
          2984.327349171163,
          3019.224122277183,
          3054.1208953832033,
          3089.017668489223,
          3123.9144415952437,
          3158.811214701264,
          3193.707987807284,
          3228.6047609133047,
          3263.501534019325
         ],
         "yaxis": "y"
        }
       ],
       "layout": {
        "annotations": [
         {
          "align": "right",
          "font": {
           "color": "pink",
           "size": 12
          },
          "showarrow": false,
          "text": "y = x",
          "x": 4032.0,
          "y": 4032.0
         },
         {
          "align": "right",
          "font": {
           "color": "black",
           "size": 12
          },
          "showarrow": false,
          "text": "r^2 = 0.88",
          "x": 1635.9,
          "y": 3426.676610720291
         }
        ],
        "height": 600,
        "legend": {
         "tracegroupgap": 0
        },
        "margin": {
         "b": 100,
         "l": 100,
         "r": 100,
         "t": 100
        },
        "shapes": [
         {
          "line": {
           "color": "Red",
           "dash": "dash",
           "width": 2
          },
          "type": "line",
          "x0": 0,
          "x1": 3840,
          "y0": 0,
          "y1": 3840
         }
        ],
        "template": {
         "data": {
          "bar": [
           {
            "error_x": {
             "color": "rgb(36,36,36)"
            },
            "error_y": {
             "color": "rgb(36,36,36)"
            },
            "marker": {
             "line": {
              "color": "white",
              "width": 0.5
             },
             "pattern": {
              "fillmode": "overlay",
              "size": 10,
              "solidity": 0.2
             }
            },
            "type": "bar"
           }
          ],
          "barpolar": [
           {
            "marker": {
             "line": {
              "color": "white",
              "width": 0.5
             },
             "pattern": {
              "fillmode": "overlay",
              "size": 10,
              "solidity": 0.2
             }
            },
            "type": "barpolar"
           }
          ],
          "carpet": [
           {
            "aaxis": {
             "endlinecolor": "rgb(36,36,36)",
             "gridcolor": "white",
             "linecolor": "white",
             "minorgridcolor": "white",
             "startlinecolor": "rgb(36,36,36)"
            },
            "baxis": {
             "endlinecolor": "rgb(36,36,36)",
             "gridcolor": "white",
             "linecolor": "white",
             "minorgridcolor": "white",
             "startlinecolor": "rgb(36,36,36)"
            },
            "type": "carpet"
           }
          ],
          "choropleth": [
           {
            "colorbar": {
             "outlinewidth": 1,
             "tickcolor": "rgb(36,36,36)",
             "ticks": "outside"
            },
            "type": "choropleth"
           }
          ],
          "contour": [
           {
            "colorbar": {
             "outlinewidth": 1,
             "tickcolor": "rgb(36,36,36)",
             "ticks": "outside"
            },
            "colorscale": [
             [
              0.0,
              "#440154"
             ],
             [
              0.1111111111111111,
              "#482878"
             ],
             [
              0.2222222222222222,
              "#3e4989"
             ],
             [
              0.3333333333333333,
              "#31688e"
             ],
             [
              0.4444444444444444,
              "#26828e"
             ],
             [
              0.5555555555555556,
              "#1f9e89"
             ],
             [
              0.6666666666666666,
              "#35b779"
             ],
             [
              0.7777777777777778,
              "#6ece58"
             ],
             [
              0.8888888888888888,
              "#b5de2b"
             ],
             [
              1.0,
              "#fde725"
             ]
            ],
            "type": "contour"
           }
          ],
          "contourcarpet": [
           {
            "colorbar": {
             "outlinewidth": 1,
             "tickcolor": "rgb(36,36,36)",
             "ticks": "outside"
            },
            "type": "contourcarpet"
           }
          ],
          "heatmap": [
           {
            "colorbar": {
             "outlinewidth": 1,
             "tickcolor": "rgb(36,36,36)",
             "ticks": "outside"
            },
            "colorscale": [
             [
              0.0,
              "#440154"
             ],
             [
              0.1111111111111111,
              "#482878"
             ],
             [
              0.2222222222222222,
              "#3e4989"
             ],
             [
              0.3333333333333333,
              "#31688e"
             ],
             [
              0.4444444444444444,
              "#26828e"
             ],
             [
              0.5555555555555556,
              "#1f9e89"
             ],
             [
              0.6666666666666666,
              "#35b779"
             ],
             [
              0.7777777777777778,
              "#6ece58"
             ],
             [
              0.8888888888888888,
              "#b5de2b"
             ],
             [
              1.0,
              "#fde725"
             ]
            ],
            "type": "heatmap"
           }
          ],
          "heatmapgl": [
           {
            "colorbar": {
             "outlinewidth": 1,
             "tickcolor": "rgb(36,36,36)",
             "ticks": "outside"
            },
            "colorscale": [
             [
              0.0,
              "#440154"
             ],
             [
              0.1111111111111111,
              "#482878"
             ],
             [
              0.2222222222222222,
              "#3e4989"
             ],
             [
              0.3333333333333333,
              "#31688e"
             ],
             [
              0.4444444444444444,
              "#26828e"
             ],
             [
              0.5555555555555556,
              "#1f9e89"
             ],
             [
              0.6666666666666666,
              "#35b779"
             ],
             [
              0.7777777777777778,
              "#6ece58"
             ],
             [
              0.8888888888888888,
              "#b5de2b"
             ],
             [
              1.0,
              "#fde725"
             ]
            ],
            "type": "heatmapgl"
           }
          ],
          "histogram": [
           {
            "marker": {
             "line": {
              "color": "white",
              "width": 0.6
             }
            },
            "type": "histogram"
           }
          ],
          "histogram2d": [
           {
            "colorbar": {
             "outlinewidth": 1,
             "tickcolor": "rgb(36,36,36)",
             "ticks": "outside"
            },
            "colorscale": [
             [
              0.0,
              "#440154"
             ],
             [
              0.1111111111111111,
              "#482878"
             ],
             [
              0.2222222222222222,
              "#3e4989"
             ],
             [
              0.3333333333333333,
              "#31688e"
             ],
             [
              0.4444444444444444,
              "#26828e"
             ],
             [
              0.5555555555555556,
              "#1f9e89"
             ],
             [
              0.6666666666666666,
              "#35b779"
             ],
             [
              0.7777777777777778,
              "#6ece58"
             ],
             [
              0.8888888888888888,
              "#b5de2b"
             ],
             [
              1.0,
              "#fde725"
             ]
            ],
            "type": "histogram2d"
           }
          ],
          "histogram2dcontour": [
           {
            "colorbar": {
             "outlinewidth": 1,
             "tickcolor": "rgb(36,36,36)",
             "ticks": "outside"
            },
            "colorscale": [
             [
              0.0,
              "#440154"
             ],
             [
              0.1111111111111111,
              "#482878"
             ],
             [
              0.2222222222222222,
              "#3e4989"
             ],
             [
              0.3333333333333333,
              "#31688e"
             ],
             [
              0.4444444444444444,
              "#26828e"
             ],
             [
              0.5555555555555556,
              "#1f9e89"
             ],
             [
              0.6666666666666666,
              "#35b779"
             ],
             [
              0.7777777777777778,
              "#6ece58"
             ],
             [
              0.8888888888888888,
              "#b5de2b"
             ],
             [
              1.0,
              "#fde725"
             ]
            ],
            "type": "histogram2dcontour"
           }
          ],
          "mesh3d": [
           {
            "colorbar": {
             "outlinewidth": 1,
             "tickcolor": "rgb(36,36,36)",
             "ticks": "outside"
            },
            "type": "mesh3d"
           }
          ],
          "parcoords": [
           {
            "line": {
             "colorbar": {
              "outlinewidth": 1,
              "tickcolor": "rgb(36,36,36)",
              "ticks": "outside"
             }
            },
            "type": "parcoords"
           }
          ],
          "pie": [
           {
            "automargin": true,
            "type": "pie"
           }
          ],
          "scatter": [
           {
            "fillpattern": {
             "fillmode": "overlay",
             "size": 10,
             "solidity": 0.2
            },
            "type": "scatter"
           }
          ],
          "scatter3d": [
           {
            "line": {
             "colorbar": {
              "outlinewidth": 1,
              "tickcolor": "rgb(36,36,36)",
              "ticks": "outside"
             }
            },
            "marker": {
             "colorbar": {
              "outlinewidth": 1,
              "tickcolor": "rgb(36,36,36)",
              "ticks": "outside"
             }
            },
            "type": "scatter3d"
           }
          ],
          "scattercarpet": [
           {
            "marker": {
             "colorbar": {
              "outlinewidth": 1,
              "tickcolor": "rgb(36,36,36)",
              "ticks": "outside"
             }
            },
            "type": "scattercarpet"
           }
          ],
          "scattergeo": [
           {
            "marker": {
             "colorbar": {
              "outlinewidth": 1,
              "tickcolor": "rgb(36,36,36)",
              "ticks": "outside"
             }
            },
            "type": "scattergeo"
           }
          ],
          "scattergl": [
           {
            "marker": {
             "colorbar": {
              "outlinewidth": 1,
              "tickcolor": "rgb(36,36,36)",
              "ticks": "outside"
             }
            },
            "type": "scattergl"
           }
          ],
          "scattermapbox": [
           {
            "marker": {
             "colorbar": {
              "outlinewidth": 1,
              "tickcolor": "rgb(36,36,36)",
              "ticks": "outside"
             }
            },
            "type": "scattermapbox"
           }
          ],
          "scatterpolar": [
           {
            "marker": {
             "colorbar": {
              "outlinewidth": 1,
              "tickcolor": "rgb(36,36,36)",
              "ticks": "outside"
             }
            },
            "type": "scatterpolar"
           }
          ],
          "scatterpolargl": [
           {
            "marker": {
             "colorbar": {
              "outlinewidth": 1,
              "tickcolor": "rgb(36,36,36)",
              "ticks": "outside"
             }
            },
            "type": "scatterpolargl"
           }
          ],
          "scatterternary": [
           {
            "marker": {
             "colorbar": {
              "outlinewidth": 1,
              "tickcolor": "rgb(36,36,36)",
              "ticks": "outside"
             }
            },
            "type": "scatterternary"
           }
          ],
          "surface": [
           {
            "colorbar": {
             "outlinewidth": 1,
             "tickcolor": "rgb(36,36,36)",
             "ticks": "outside"
            },
            "colorscale": [
             [
              0.0,
              "#440154"
             ],
             [
              0.1111111111111111,
              "#482878"
             ],
             [
              0.2222222222222222,
              "#3e4989"
             ],
             [
              0.3333333333333333,
              "#31688e"
             ],
             [
              0.4444444444444444,
              "#26828e"
             ],
             [
              0.5555555555555556,
              "#1f9e89"
             ],
             [
              0.6666666666666666,
              "#35b779"
             ],
             [
              0.7777777777777778,
              "#6ece58"
             ],
             [
              0.8888888888888888,
              "#b5de2b"
             ],
             [
              1.0,
              "#fde725"
             ]
            ],
            "type": "surface"
           }
          ],
          "table": [
           {
            "cells": {
             "fill": {
              "color": "rgb(237,237,237)"
             },
             "line": {
              "color": "white"
             }
            },
            "header": {
             "fill": {
              "color": "rgb(217,217,217)"
             },
             "line": {
              "color": "white"
             }
            },
            "type": "table"
           }
          ]
         },
         "layout": {
          "annotationdefaults": {
           "arrowhead": 0,
           "arrowwidth": 1
          },
          "autotypenumbers": "strict",
          "coloraxis": {
           "colorbar": {
            "outlinewidth": 1,
            "tickcolor": "rgb(36,36,36)",
            "ticks": "outside"
           }
          },
          "colorscale": {
           "diverging": [
            [
             0.0,
             "rgb(103,0,31)"
            ],
            [
             0.1,
             "rgb(178,24,43)"
            ],
            [
             0.2,
             "rgb(214,96,77)"
            ],
            [
             0.3,
             "rgb(244,165,130)"
            ],
            [
             0.4,
             "rgb(253,219,199)"
            ],
            [
             0.5,
             "rgb(247,247,247)"
            ],
            [
             0.6,
             "rgb(209,229,240)"
            ],
            [
             0.7,
             "rgb(146,197,222)"
            ],
            [
             0.8,
             "rgb(67,147,195)"
            ],
            [
             0.9,
             "rgb(33,102,172)"
            ],
            [
             1.0,
             "rgb(5,48,97)"
            ]
           ],
           "sequential": [
            [
             0.0,
             "#440154"
            ],
            [
             0.1111111111111111,
             "#482878"
            ],
            [
             0.2222222222222222,
             "#3e4989"
            ],
            [
             0.3333333333333333,
             "#31688e"
            ],
            [
             0.4444444444444444,
             "#26828e"
            ],
            [
             0.5555555555555556,
             "#1f9e89"
            ],
            [
             0.6666666666666666,
             "#35b779"
            ],
            [
             0.7777777777777778,
             "#6ece58"
            ],
            [
             0.8888888888888888,
             "#b5de2b"
            ],
            [
             1.0,
             "#fde725"
            ]
           ],
           "sequentialminus": [
            [
             0.0,
             "#440154"
            ],
            [
             0.1111111111111111,
             "#482878"
            ],
            [
             0.2222222222222222,
             "#3e4989"
            ],
            [
             0.3333333333333333,
             "#31688e"
            ],
            [
             0.4444444444444444,
             "#26828e"
            ],
            [
             0.5555555555555556,
             "#1f9e89"
            ],
            [
             0.6666666666666666,
             "#35b779"
            ],
            [
             0.7777777777777778,
             "#6ece58"
            ],
            [
             0.8888888888888888,
             "#b5de2b"
            ],
            [
             1.0,
             "#fde725"
            ]
           ]
          },
          "colorway": [
           "#91268F",
           "#8CC63E",
           "#00A7A0",
           "#F05A28",
           "#4C4C4C",
           "#630460",
           "#9f3913",
           "#588527",
           "#00716c",
           "#3e4040"
          ],
          "font": {
           "color": "rgb(36,36,36)",
           "family": "Poppins",
           "size": 11
          },
          "geo": {
           "bgcolor": "white",
           "lakecolor": "white",
           "landcolor": "white",
           "showlakes": true,
           "showland": true,
           "subunitcolor": "white"
          },
          "hoverlabel": {
           "align": "left"
          },
          "hovermode": "closest",
          "mapbox": {
           "style": "light"
          },
          "paper_bgcolor": "white",
          "plot_bgcolor": "white",
          "polar": {
           "angularaxis": {
            "gridcolor": "rgb(232,232,232)",
            "linecolor": "rgb(36,36,36)",
            "showgrid": false,
            "showline": true,
            "ticks": "outside"
           },
           "bgcolor": "white",
           "radialaxis": {
            "gridcolor": "rgb(232,232,232)",
            "linecolor": "rgb(36,36,36)",
            "showgrid": false,
            "showline": true,
            "ticks": "outside"
           }
          },
          "scene": {
           "xaxis": {
            "backgroundcolor": "white",
            "gridcolor": "rgb(232,232,232)",
            "gridwidth": 2,
            "linecolor": "rgb(36,36,36)",
            "showbackground": true,
            "showgrid": false,
            "showline": true,
            "ticks": "outside",
            "zeroline": false,
            "zerolinecolor": "rgb(36,36,36)"
           },
           "yaxis": {
            "backgroundcolor": "white",
            "gridcolor": "rgb(232,232,232)",
            "gridwidth": 2,
            "linecolor": "rgb(36,36,36)",
            "showbackground": true,
            "showgrid": false,
            "showline": true,
            "ticks": "outside",
            "zeroline": false,
            "zerolinecolor": "rgb(36,36,36)"
           },
           "zaxis": {
            "backgroundcolor": "white",
            "gridcolor": "rgb(232,232,232)",
            "gridwidth": 2,
            "linecolor": "rgb(36,36,36)",
            "showbackground": true,
            "showgrid": false,
            "showline": true,
            "ticks": "outside",
            "zeroline": false,
            "zerolinecolor": "rgb(36,36,36)"
           }
          },
          "shapedefaults": {
           "fillcolor": "black",
           "line": {
            "width": 0
           },
           "opacity": 0.3
          },
          "ternary": {
           "aaxis": {
            "gridcolor": "rgb(232,232,232)",
            "linecolor": "rgb(36,36,36)",
            "showgrid": false,
            "showline": true,
            "ticks": "outside"
           },
           "baxis": {
            "gridcolor": "rgb(232,232,232)",
            "linecolor": "rgb(36,36,36)",
            "showgrid": false,
            "showline": true,
            "ticks": "outside"
           },
           "bgcolor": "white",
           "caxis": {
            "gridcolor": "rgb(232,232,232)",
            "linecolor": "rgb(36,36,36)",
            "showgrid": false,
            "showline": true,
            "ticks": "outside"
           }
          },
          "title": {
           "x": 0.05
          },
          "xaxis": {
           "automargin": true,
           "gridcolor": "rgb(232,232,232)",
           "linecolor": "rgb(36,36,36)",
           "showgrid": false,
           "showline": true,
           "ticks": "outside",
           "title": {
            "standoff": 15
           },
           "zeroline": false,
           "zerolinecolor": "rgb(36,36,36)"
          },
          "yaxis": {
           "automargin": true,
           "gridcolor": "rgb(232,232,232)",
           "linecolor": "rgb(36,36,36)",
           "showgrid": false,
           "showline": true,
           "ticks": "outside",
           "title": {
            "standoff": 15
           },
           "zeroline": false,
           "zerolinecolor": "rgb(36,36,36)"
          }
         }
        },
        "title": {
         "text": "Heavy Trucks: Kitsap"
        },
        "width": 800,
        "xaxis": {
         "anchor": "y",
         "domain": [
          0.0,
          1.0
         ],
         "title": {
          "text": "Observed"
         }
        },
        "yaxis": {
         "anchor": "x",
         "domain": [
          0.0,
          1.0
         ],
         "title": {
          "text": "Model"
         }
        }
       }
      },
      "text/html": [
       "<div>                            <div id=\"31d15bab-a944-40bc-854d-2ac88cef410f\" class=\"plotly-graph-div\" style=\"height:600px; width:800px;\"></div>            <script type=\"text/javascript\">                require([\"plotly\"], function(Plotly) {                    window.PLOTLYENV=window.PLOTLYENV || {};                                    if (document.getElementById(\"31d15bab-a944-40bc-854d-2ac88cef410f\")) {                    Plotly.newPlot(                        \"31d15bab-a944-40bc-854d-2ac88cef410f\",                        [{\"customdata\":[[\"SR-16  N\\u002fO SR-302 NB\\u002fSB\",\"Kitsap\"],[\"SR-16 N\\u002fO SR-160 NB\\u002fSB\",\"Kitsap\"],[\"SR-16 N\\u002fO Tremont NB\\u002fSB\",\"Kitsap\"],[\"SR-16 S\\u002fO SR-3 NB\",\"Kitsap\"],[\"SR-104 @ Hood Canal Bridge WB\\u002fEB\",\"Kitsap\"],[\"SR-104 E\\u002fO Hood Canal Bridge WB\\u002fEB\",\"Kitsap\"],[\"SR-104 N\\u002fO Pt Gamble Rd WB\\u002fEB\",\"Kitsap\"],[\"SR-104 E\\u002fO SR-307 WB\\u002fEB\",\"Kitsap\"],[\"SR-104 E\\u002fO Hansville WB\\u002fEB\",\"Kitsap\"],[\"SR-160 @ SR-16 WB\\u002fEB\",\"Kitsap\"],[\"SR-160 E\\u002fO Long Lake Rd WB\\u002fEB\",\"Kitsap\"],[\"SR-160 W\\u002fO Banner WB\\u002fEB\",\"Kitsap\"],[\"SR-160 E\\u002fO Peterson WB\\u002fEB\",\"Kitsap\"],[\"SR-160 S\\u002fO Southworth Dr WB\\u002fEB\",\"Kitsap\"],[\"SR-166 E\\u002fO SR-16 WB\\u002fEB\",\"Kitsap\"],[\"SR-3 E\\u002fO Sunset Way NB\\u002fSB\",\"Kitsap\"],[\"SR-3 N\\u002fO SR-305 NB\\u002fSB\",\"Kitsap\"],[\"SR-3 S\\u002fO Newberry Hill Rd NB\\u002fSB\",\"Kitsap\"],[\"SR-3 @ SR-304 NB\\u002fSB\",\"Kitsap\"],[\"SR-3 NE of SR-16 NB\\u002fSB\",\"Kitsap\"],[\"SR-3 W\\u002fO Lake Flora Rd NB\\u002fSB\",\"Kitsap\"],[\"SR-303 E\\u002fO SR-3 NB\\u002fSB\",\"Kitsap\"],[\"SR-303 N\\u002fO 11th St NB\\u002fSB\",\"Kitsap\"],[\"SR-303 N\\u002fO SR-304 NB\\u002fSB\",\"Kitsap\"],[\"SR-304 E\\u002fO SR-3 WB\\u002fEB\",\"Kitsap\"],[\"SR-304 W\\u002fO Naval WB\\u002fEB\",\"Kitsap\"],[\"SR-305 W\\u002fO SR-307 WB\\u002fEB\",\"Kitsap\"],[\"SR-305 W\\u002fO Suquamish Way WB\\u002fEB\",\"Kitsap\"],[\"SR-305 N\\u002fO Day Rd WB\\u002fEB\",\"Kitsap\"],[\"SR-305 N\\u002fO High School Rd WB\\u002fEB\",\"Kitsap\"],[\"SR-305 S\\u002fO Winslow Way WB\\u002fEB\",\"Kitsap\"],[\"SR-305 @ Ferry Ramp WB\\u002fEB\",\"Kitsap\"],[\"SR-307 W\\u002fO SR-104 NB\\u002fSB\",\"Kitsap\"],[\"SR-307 N\\u002fO Gunderson NB\\u002fSB\",\"Kitsap\"],[\"SR-307 S\\u002fO Gunderson NB\\u002fSB\",\"Kitsap\"],[\"SR-307 N\\u002fO SR-305 NB\\u002fSB\",\"Kitsap\"],[\"SR-308 @ SR-3 WB\\u002fEB\",\"Kitsap\"],[\"SR-308 E\\u002fO SR-3 WB\\u002fEB\",\"Kitsap\"],[\"SR-308 E\\u002fO Silverdale Way WB\\u002fEB\",\"Kitsap\"],[\"SR-308 W\\u002fO Brownsville Hwy WB\\u002fEB\",\"Kitsap\"],[\"SR-310 @ SR-3 WB\\u002fEB\",\"Kitsap\"],[\"SR-310 W\\u002fO Callow WB\\u002fEB\",\"Kitsap\"]],\"hovertemplate\":\"Observed=%{x}\\u003cbr\\u003eModel=%{y}\\u003cbr\\u003elocation=%{customdata[0]}\\u003cbr\\u003eCounty=%{customdata[1]}\\u003cextra\\u003e\\u003c\\u002fextra\\u003e\",\"legendgroup\":\"\",\"marker\":{\"color\":\"#91268F\",\"symbol\":\"circle\"},\"mode\":\"markers\",\"name\":\"\",\"orientation\":\"v\",\"showlegend\":false,\"x\":[1558,1210,1364,1155,612,75,70,144,84,114,34,30,19,12,140,1020,1012,1159,988,1360,288,180,216,98,210,126,266,420,420,234,11,9,196,168,126,120,39,36,66,22,138,26],\"xaxis\":\"x\",\"y\":[3840,3207,3170,1587,965,2,2,155,116,203,21,21,23,23,2,963,1176,2458,2908,3182,9,21,168,48,273,145,481,148,128,99,0,0,155,155,156,259,56,112,40,0,26,0],\"yaxis\":\"y\",\"type\":\"scatter\",\"line\":{\"color\":\"Grey\",\"width\":2}},{\"hovertemplate\":\"Observed=%{x}\\u003cbr\\u003eModel=%{y}\\u003cextra\\u003e\\u003c\\u002fextra\\u003e\",\"legendgroup\":\"\",\"line\":{\"color\":\"Grey\",\"dash\":\"solid\",\"width\":2},\"marker\":{\"symbol\":\"circle\"},\"mode\":\"lines\",\"name\":\"\",\"orientation\":\"v\",\"showlegend\":false,\"x\":[0.0,15.737373737373737,31.474747474747474,47.21212121212121,62.94949494949495,78.68686868686868,94.42424242424242,110.16161616161617,125.8989898989899,141.63636363636363,157.37373737373736,173.11111111111111,188.84848484848484,204.58585858585857,220.32323232323233,236.06060606060606,251.7979797979798,267.5353535353535,283.27272727272725,299.010101010101,314.7474747474747,330.4848484848485,346.22222222222223,361.95959595959596,377.6969696969697,393.4343434343434,409.17171717171715,424.9090909090909,440.64646464646466,456.3838383838384,472.1212121212121,487.85858585858585,503.5959595959596,519.3333333333334,535.070707070707,550.8080808080808,566.5454545454545,582.2828282828283,598.020202020202,613.7575757575758,629.4949494949494,645.2323232323232,660.969696969697,676.7070707070707,692.4444444444445,708.1818181818181,723.9191919191919,739.6565656565656,755.3939393939394,771.1313131313132,786.8686868686868,802.6060606060606,818.3434343434343,834.0808080808081,849.8181818181818,865.5555555555555,881.2929292929293,897.030303030303,912.7676767676768,928.5050505050505,944.2424242424242,959.9797979797979,975.7171717171717,991.4545454545454,1007.1919191919192,1022.929292929293,1038.6666666666667,1054.4040404040404,1070.141414141414,1085.8787878787878,1101.6161616161617,1117.3535353535353,1133.090909090909,1148.828282828283,1164.5656565656566,1180.3030303030303,1196.040404040404,1211.7777777777778,1227.5151515151515,1243.2525252525252,1258.9898989898988,1274.7272727272727,1290.4646464646464,1306.20202020202,1321.939393939394,1337.6767676767677,1353.4141414141413,1369.151515151515,1384.888888888889,1400.6262626262626,1416.3636363636363,1432.1010101010102,1447.8383838383838,1463.5757575757575,1479.3131313131312,1495.050505050505,1510.7878787878788,1526.5252525252524,1542.2626262626263,1558.0],\"xaxis\":\"x\",\"y\":[-191.27900347668492,-156.38223037066462,-121.48545726464431,-86.58868415862402,-51.6919110526037,-16.795137946583424,18.10163515943688,52.998408265457215,87.89518137147752,122.79195447749777,157.68872758351807,192.58550068953843,227.48227379555868,262.379046901579,297.27582000759935,332.17259311361966,367.06936621963996,401.96613932566015,436.86291243168046,471.75968553770076,506.65645864372107,541.5532317497415,576.4500048557618,611.3467779617821,646.2435510678023,681.1403241738226,716.0370972798429,750.9338703858632,785.8306434918836,820.7274165979039,855.6241897039242,890.5209628099444,925.4177359159648,960.3145090219853,995.2112821280052,1030.1080552340256,1065.0048283400458,1099.9016014460663,1134.7983745520864,1169.6951476581069,1204.591920764127,1239.4886938701475,1274.385466976168,1309.282240082188,1344.1790131882085,1379.0757862942287,1413.972559400249,1448.869332506269,1483.7661056122895,1518.66287871831,1553.55965182433,1588.4564249303505,1623.3531980363707,1658.2499711423911,1693.1467442484113,1728.0435173544317,1762.9402904604522,1797.8370635664724,1832.7338366724928,1867.6306097785127,1902.5273828845334,1937.4241559905536,1972.3209290965738,2007.217702202594,2042.1144753086146,2077.011248414635,2111.9080215206554,2146.8047946266756,2181.7015677326954,2216.5983408387156,2251.495113944736,2286.3918870507564,2321.2886601567766,2356.1854332627972,2391.0822063688174,2425.9789794748376,2460.875752580858,2495.7725256868785,2530.6692987928986,2565.566071898919,2600.462845004939,2635.3596181109597,2670.25639121698,2705.153164323,2740.0499374290207,2774.946710535041,2809.843483641061,2844.7402567470813,2879.637029853102,2914.533802959122,2949.4305760651423,2984.327349171163,3019.224122277183,3054.1208953832033,3089.017668489223,3123.9144415952437,3158.811214701264,3193.707987807284,3228.6047609133047,3263.501534019325],\"yaxis\":\"y\",\"type\":\"scatter\"}],                        {\"template\":{\"data\":{\"barpolar\":[{\"marker\":{\"line\":{\"color\":\"white\",\"width\":0.5},\"pattern\":{\"fillmode\":\"overlay\",\"size\":10,\"solidity\":0.2}},\"type\":\"barpolar\"}],\"bar\":[{\"error_x\":{\"color\":\"rgb(36,36,36)\"},\"error_y\":{\"color\":\"rgb(36,36,36)\"},\"marker\":{\"line\":{\"color\":\"white\",\"width\":0.5},\"pattern\":{\"fillmode\":\"overlay\",\"size\":10,\"solidity\":0.2}},\"type\":\"bar\"}],\"carpet\":[{\"aaxis\":{\"endlinecolor\":\"rgb(36,36,36)\",\"gridcolor\":\"white\",\"linecolor\":\"white\",\"minorgridcolor\":\"white\",\"startlinecolor\":\"rgb(36,36,36)\"},\"baxis\":{\"endlinecolor\":\"rgb(36,36,36)\",\"gridcolor\":\"white\",\"linecolor\":\"white\",\"minorgridcolor\":\"white\",\"startlinecolor\":\"rgb(36,36,36)\"},\"type\":\"carpet\"}],\"choropleth\":[{\"colorbar\":{\"outlinewidth\":1,\"tickcolor\":\"rgb(36,36,36)\",\"ticks\":\"outside\"},\"type\":\"choropleth\"}],\"contourcarpet\":[{\"colorbar\":{\"outlinewidth\":1,\"tickcolor\":\"rgb(36,36,36)\",\"ticks\":\"outside\"},\"type\":\"contourcarpet\"}],\"contour\":[{\"colorbar\":{\"outlinewidth\":1,\"tickcolor\":\"rgb(36,36,36)\",\"ticks\":\"outside\"},\"colorscale\":[[0.0,\"#440154\"],[0.1111111111111111,\"#482878\"],[0.2222222222222222,\"#3e4989\"],[0.3333333333333333,\"#31688e\"],[0.4444444444444444,\"#26828e\"],[0.5555555555555556,\"#1f9e89\"],[0.6666666666666666,\"#35b779\"],[0.7777777777777778,\"#6ece58\"],[0.8888888888888888,\"#b5de2b\"],[1.0,\"#fde725\"]],\"type\":\"contour\"}],\"heatmapgl\":[{\"colorbar\":{\"outlinewidth\":1,\"tickcolor\":\"rgb(36,36,36)\",\"ticks\":\"outside\"},\"colorscale\":[[0.0,\"#440154\"],[0.1111111111111111,\"#482878\"],[0.2222222222222222,\"#3e4989\"],[0.3333333333333333,\"#31688e\"],[0.4444444444444444,\"#26828e\"],[0.5555555555555556,\"#1f9e89\"],[0.6666666666666666,\"#35b779\"],[0.7777777777777778,\"#6ece58\"],[0.8888888888888888,\"#b5de2b\"],[1.0,\"#fde725\"]],\"type\":\"heatmapgl\"}],\"heatmap\":[{\"colorbar\":{\"outlinewidth\":1,\"tickcolor\":\"rgb(36,36,36)\",\"ticks\":\"outside\"},\"colorscale\":[[0.0,\"#440154\"],[0.1111111111111111,\"#482878\"],[0.2222222222222222,\"#3e4989\"],[0.3333333333333333,\"#31688e\"],[0.4444444444444444,\"#26828e\"],[0.5555555555555556,\"#1f9e89\"],[0.6666666666666666,\"#35b779\"],[0.7777777777777778,\"#6ece58\"],[0.8888888888888888,\"#b5de2b\"],[1.0,\"#fde725\"]],\"type\":\"heatmap\"}],\"histogram2dcontour\":[{\"colorbar\":{\"outlinewidth\":1,\"tickcolor\":\"rgb(36,36,36)\",\"ticks\":\"outside\"},\"colorscale\":[[0.0,\"#440154\"],[0.1111111111111111,\"#482878\"],[0.2222222222222222,\"#3e4989\"],[0.3333333333333333,\"#31688e\"],[0.4444444444444444,\"#26828e\"],[0.5555555555555556,\"#1f9e89\"],[0.6666666666666666,\"#35b779\"],[0.7777777777777778,\"#6ece58\"],[0.8888888888888888,\"#b5de2b\"],[1.0,\"#fde725\"]],\"type\":\"histogram2dcontour\"}],\"histogram2d\":[{\"colorbar\":{\"outlinewidth\":1,\"tickcolor\":\"rgb(36,36,36)\",\"ticks\":\"outside\"},\"colorscale\":[[0.0,\"#440154\"],[0.1111111111111111,\"#482878\"],[0.2222222222222222,\"#3e4989\"],[0.3333333333333333,\"#31688e\"],[0.4444444444444444,\"#26828e\"],[0.5555555555555556,\"#1f9e89\"],[0.6666666666666666,\"#35b779\"],[0.7777777777777778,\"#6ece58\"],[0.8888888888888888,\"#b5de2b\"],[1.0,\"#fde725\"]],\"type\":\"histogram2d\"}],\"histogram\":[{\"marker\":{\"line\":{\"color\":\"white\",\"width\":0.6}},\"type\":\"histogram\"}],\"mesh3d\":[{\"colorbar\":{\"outlinewidth\":1,\"tickcolor\":\"rgb(36,36,36)\",\"ticks\":\"outside\"},\"type\":\"mesh3d\"}],\"parcoords\":[{\"line\":{\"colorbar\":{\"outlinewidth\":1,\"tickcolor\":\"rgb(36,36,36)\",\"ticks\":\"outside\"}},\"type\":\"parcoords\"}],\"pie\":[{\"automargin\":true,\"type\":\"pie\"}],\"scatter3d\":[{\"line\":{\"colorbar\":{\"outlinewidth\":1,\"tickcolor\":\"rgb(36,36,36)\",\"ticks\":\"outside\"}},\"marker\":{\"colorbar\":{\"outlinewidth\":1,\"tickcolor\":\"rgb(36,36,36)\",\"ticks\":\"outside\"}},\"type\":\"scatter3d\"}],\"scattercarpet\":[{\"marker\":{\"colorbar\":{\"outlinewidth\":1,\"tickcolor\":\"rgb(36,36,36)\",\"ticks\":\"outside\"}},\"type\":\"scattercarpet\"}],\"scattergeo\":[{\"marker\":{\"colorbar\":{\"outlinewidth\":1,\"tickcolor\":\"rgb(36,36,36)\",\"ticks\":\"outside\"}},\"type\":\"scattergeo\"}],\"scattergl\":[{\"marker\":{\"colorbar\":{\"outlinewidth\":1,\"tickcolor\":\"rgb(36,36,36)\",\"ticks\":\"outside\"}},\"type\":\"scattergl\"}],\"scattermapbox\":[{\"marker\":{\"colorbar\":{\"outlinewidth\":1,\"tickcolor\":\"rgb(36,36,36)\",\"ticks\":\"outside\"}},\"type\":\"scattermapbox\"}],\"scatterpolargl\":[{\"marker\":{\"colorbar\":{\"outlinewidth\":1,\"tickcolor\":\"rgb(36,36,36)\",\"ticks\":\"outside\"}},\"type\":\"scatterpolargl\"}],\"scatterpolar\":[{\"marker\":{\"colorbar\":{\"outlinewidth\":1,\"tickcolor\":\"rgb(36,36,36)\",\"ticks\":\"outside\"}},\"type\":\"scatterpolar\"}],\"scatter\":[{\"fillpattern\":{\"fillmode\":\"overlay\",\"size\":10,\"solidity\":0.2},\"type\":\"scatter\"}],\"scatterternary\":[{\"marker\":{\"colorbar\":{\"outlinewidth\":1,\"tickcolor\":\"rgb(36,36,36)\",\"ticks\":\"outside\"}},\"type\":\"scatterternary\"}],\"surface\":[{\"colorbar\":{\"outlinewidth\":1,\"tickcolor\":\"rgb(36,36,36)\",\"ticks\":\"outside\"},\"colorscale\":[[0.0,\"#440154\"],[0.1111111111111111,\"#482878\"],[0.2222222222222222,\"#3e4989\"],[0.3333333333333333,\"#31688e\"],[0.4444444444444444,\"#26828e\"],[0.5555555555555556,\"#1f9e89\"],[0.6666666666666666,\"#35b779\"],[0.7777777777777778,\"#6ece58\"],[0.8888888888888888,\"#b5de2b\"],[1.0,\"#fde725\"]],\"type\":\"surface\"}],\"table\":[{\"cells\":{\"fill\":{\"color\":\"rgb(237,237,237)\"},\"line\":{\"color\":\"white\"}},\"header\":{\"fill\":{\"color\":\"rgb(217,217,217)\"},\"line\":{\"color\":\"white\"}},\"type\":\"table\"}]},\"layout\":{\"annotationdefaults\":{\"arrowhead\":0,\"arrowwidth\":1},\"autotypenumbers\":\"strict\",\"coloraxis\":{\"colorbar\":{\"outlinewidth\":1,\"tickcolor\":\"rgb(36,36,36)\",\"ticks\":\"outside\"}},\"colorscale\":{\"diverging\":[[0.0,\"rgb(103,0,31)\"],[0.1,\"rgb(178,24,43)\"],[0.2,\"rgb(214,96,77)\"],[0.3,\"rgb(244,165,130)\"],[0.4,\"rgb(253,219,199)\"],[0.5,\"rgb(247,247,247)\"],[0.6,\"rgb(209,229,240)\"],[0.7,\"rgb(146,197,222)\"],[0.8,\"rgb(67,147,195)\"],[0.9,\"rgb(33,102,172)\"],[1.0,\"rgb(5,48,97)\"]],\"sequential\":[[0.0,\"#440154\"],[0.1111111111111111,\"#482878\"],[0.2222222222222222,\"#3e4989\"],[0.3333333333333333,\"#31688e\"],[0.4444444444444444,\"#26828e\"],[0.5555555555555556,\"#1f9e89\"],[0.6666666666666666,\"#35b779\"],[0.7777777777777778,\"#6ece58\"],[0.8888888888888888,\"#b5de2b\"],[1.0,\"#fde725\"]],\"sequentialminus\":[[0.0,\"#440154\"],[0.1111111111111111,\"#482878\"],[0.2222222222222222,\"#3e4989\"],[0.3333333333333333,\"#31688e\"],[0.4444444444444444,\"#26828e\"],[0.5555555555555556,\"#1f9e89\"],[0.6666666666666666,\"#35b779\"],[0.7777777777777778,\"#6ece58\"],[0.8888888888888888,\"#b5de2b\"],[1.0,\"#fde725\"]]},\"colorway\":[\"#91268F\",\"#8CC63E\",\"#00A7A0\",\"#F05A28\",\"#4C4C4C\",\"#630460\",\"#9f3913\",\"#588527\",\"#00716c\",\"#3e4040\"],\"font\":{\"color\":\"rgb(36,36,36)\",\"family\":\"Poppins\",\"size\":11},\"geo\":{\"bgcolor\":\"white\",\"lakecolor\":\"white\",\"landcolor\":\"white\",\"showlakes\":true,\"showland\":true,\"subunitcolor\":\"white\"},\"hoverlabel\":{\"align\":\"left\"},\"hovermode\":\"closest\",\"mapbox\":{\"style\":\"light\"},\"paper_bgcolor\":\"white\",\"plot_bgcolor\":\"white\",\"polar\":{\"angularaxis\":{\"gridcolor\":\"rgb(232,232,232)\",\"linecolor\":\"rgb(36,36,36)\",\"showgrid\":false,\"showline\":true,\"ticks\":\"outside\"},\"bgcolor\":\"white\",\"radialaxis\":{\"gridcolor\":\"rgb(232,232,232)\",\"linecolor\":\"rgb(36,36,36)\",\"showgrid\":false,\"showline\":true,\"ticks\":\"outside\"}},\"scene\":{\"xaxis\":{\"backgroundcolor\":\"white\",\"gridcolor\":\"rgb(232,232,232)\",\"gridwidth\":2,\"linecolor\":\"rgb(36,36,36)\",\"showbackground\":true,\"showgrid\":false,\"showline\":true,\"ticks\":\"outside\",\"zeroline\":false,\"zerolinecolor\":\"rgb(36,36,36)\"},\"yaxis\":{\"backgroundcolor\":\"white\",\"gridcolor\":\"rgb(232,232,232)\",\"gridwidth\":2,\"linecolor\":\"rgb(36,36,36)\",\"showbackground\":true,\"showgrid\":false,\"showline\":true,\"ticks\":\"outside\",\"zeroline\":false,\"zerolinecolor\":\"rgb(36,36,36)\"},\"zaxis\":{\"backgroundcolor\":\"white\",\"gridcolor\":\"rgb(232,232,232)\",\"gridwidth\":2,\"linecolor\":\"rgb(36,36,36)\",\"showbackground\":true,\"showgrid\":false,\"showline\":true,\"ticks\":\"outside\",\"zeroline\":false,\"zerolinecolor\":\"rgb(36,36,36)\"}},\"shapedefaults\":{\"fillcolor\":\"black\",\"line\":{\"width\":0},\"opacity\":0.3},\"ternary\":{\"aaxis\":{\"gridcolor\":\"rgb(232,232,232)\",\"linecolor\":\"rgb(36,36,36)\",\"showgrid\":false,\"showline\":true,\"ticks\":\"outside\"},\"baxis\":{\"gridcolor\":\"rgb(232,232,232)\",\"linecolor\":\"rgb(36,36,36)\",\"showgrid\":false,\"showline\":true,\"ticks\":\"outside\"},\"bgcolor\":\"white\",\"caxis\":{\"gridcolor\":\"rgb(232,232,232)\",\"linecolor\":\"rgb(36,36,36)\",\"showgrid\":false,\"showline\":true,\"ticks\":\"outside\"}},\"title\":{\"x\":0.05},\"xaxis\":{\"automargin\":true,\"gridcolor\":\"rgb(232,232,232)\",\"linecolor\":\"rgb(36,36,36)\",\"showgrid\":false,\"showline\":true,\"ticks\":\"outside\",\"title\":{\"standoff\":15},\"zeroline\":false,\"zerolinecolor\":\"rgb(36,36,36)\"},\"yaxis\":{\"automargin\":true,\"gridcolor\":\"rgb(232,232,232)\",\"linecolor\":\"rgb(36,36,36)\",\"showgrid\":false,\"showline\":true,\"ticks\":\"outside\",\"title\":{\"standoff\":15},\"zeroline\":false,\"zerolinecolor\":\"rgb(36,36,36)\"}}},\"xaxis\":{\"anchor\":\"y\",\"domain\":[0.0,1.0],\"title\":{\"text\":\"Observed\"}},\"yaxis\":{\"anchor\":\"x\",\"domain\":[0.0,1.0],\"title\":{\"text\":\"Model\"}},\"legend\":{\"tracegroupgap\":0},\"title\":{\"text\":\"Heavy Trucks: Kitsap\"},\"margin\":{\"l\":100,\"r\":100,\"t\":100,\"b\":100},\"height\":600,\"width\":800,\"shapes\":[{\"line\":{\"color\":\"Red\",\"dash\":\"dash\",\"width\":2},\"type\":\"line\",\"x0\":0,\"x1\":3840,\"y0\":0,\"y1\":3840}],\"annotations\":[{\"align\":\"right\",\"font\":{\"color\":\"pink\",\"size\":12},\"showarrow\":false,\"text\":\"y = x\",\"x\":4032.0,\"y\":4032.0},{\"align\":\"right\",\"font\":{\"color\":\"black\",\"size\":12},\"showarrow\":false,\"text\":\"r^2 = 0.88\",\"x\":1635.9,\"y\":3426.676610720291}]},                        {\"responsive\": true}                    ).then(function(){\n",
       "                            \n",
       "var gd = document.getElementById('31d15bab-a944-40bc-854d-2ac88cef410f');\n",
       "var x = new MutationObserver(function (mutations, observer) {{\n",
       "        var display = window.getComputedStyle(gd).display;\n",
       "        if (!display || display === 'none') {{\n",
       "            console.log([gd, 'removed!']);\n",
       "            Plotly.purge(gd);\n",
       "            observer.disconnect();\n",
       "        }}\n",
       "}});\n",
       "\n",
       "// Listen for the removal of the full notebook cells\n",
       "var notebookContainer = gd.closest('#notebook-container');\n",
       "if (notebookContainer) {{\n",
       "    x.observe(notebookContainer, {childList: true});\n",
       "}}\n",
       "\n",
       "// Listen for the clearing of the current output cell\n",
       "var outputEl = gd.closest('.output');\n",
       "if (outputEl) {{\n",
       "    x.observe(outputEl, {childList: true});\n",
       "}}\n",
       "\n",
       "                        })                };                });            </script>        </div>"
      ]
     },
     "metadata": {},
     "output_type": "display_data"
    }
   ],
   "source": [
    "fig = create_truck_chart(df_daily_heavy, 'Heavy', 'Kitsap')\n",
    "fig.show()"
   ]
  },
  {
   "cell_type": "raw",
   "id": "f6c91eb1",
   "metadata": {
    "vscode": {
     "languageId": "raw"
    }
   },
   "source": [
    "#### Pierce"
   ]
  },
  {
   "cell_type": "code",
   "execution_count": 27,
   "id": "4661c354",
   "metadata": {},
   "outputs": [
    {
     "data": {
      "application/vnd.plotly.v1+json": {
       "config": {
        "plotlyServerURL": "https://plot.ly"
       },
       "data": [
        {
         "customdata": [
          [
           "I-5 S/O Mounts NB",
           "Pierce"
          ],
          [
           "I-5 S/O Mounts SB",
           "Pierce"
          ],
          [
           "I-5 S/O Division NB",
           "Pierce"
          ],
          [
           "I-5 S/O Division SB",
           "Pierce"
          ],
          [
           "I-5 @ N/O Division NB",
           "Pierce"
          ],
          [
           "I-5 @ N/O Division SB",
           "Pierce"
          ],
          [
           "I-5 S/O SR-512 NB",
           "Pierce"
          ],
          [
           "I-5 S/O SR-512 SB",
           "Pierce"
          ],
          [
           "I-5 N/O SR-512 NB",
           "Pierce"
          ],
          [
           "I-5 N/O SR-512 SB",
           "Pierce"
          ],
          [
           "I-5 N/O 56th NB",
           "Pierce"
          ],
          [
           "I-5 N/O 56th SB",
           "Pierce"
          ],
          [
           "I-5 E/O SR-16 NB",
           "Pierce"
          ],
          [
           "I-5 E/O SR-16 SB",
           "Pierce"
          ],
          [
           "I-5 E/O Port of Tacoma NB",
           "Pierce"
          ],
          [
           "I-5 E/O Port of Tacoma SB (HOV from 56)",
           "Pierce"
          ],
          [
           "SR-512 W/O Meridian WB",
           "Pierce"
          ],
          [
           "SR-512 W/O Meridian EB",
           "Pierce"
          ],
          [
           "SR-167 W/O SR-410 NB/SB",
           "Pierce"
          ],
          [
           "SR-167 E/O SR-161 NB/SB",
           "Pierce"
          ],
          [
           "SR-410 E/O S Prairie WB/EB",
           "Pierce"
          ],
          [
           "SR-410 E/O Chinook WB/EB",
           "Pierce"
          ],
          [
           "SR-410 W/O SR-123 WB/EB",
           "Pierce"
          ],
          [
           "SR-410 E/O SR-123 WB/EB",
           "Pierce"
          ],
          [
           "SR-512 @ I-5 WB/EB",
           "Pierce"
          ],
          [
           "SR-512 W/O SR-7 WB/EB",
           "Pierce"
          ],
          [
           "SR-512 S/O SR-167 WB/EB",
           "Pierce"
          ],
          [
           "SR-509 E/O I-705 NB/SB",
           "Pierce"
          ],
          [
           "SR-509 W/O Alexander NB/SB",
           "Pierce"
          ],
          [
           "SR-509 S/O 11th NB/SB",
           "Pierce"
          ],
          [
           "SR-509 N/O Hyada NB/SB",
           "Pierce"
          ],
          [
           "SR-509 E/O Soundview NB/SB",
           "Pierce"
          ],
          [
           "SR-99 @ I-5 NB/SB",
           "Pierce"
          ],
          [
           "SR-99 E/O 54th NB/SB",
           "Pierce"
          ],
          [
           "SR-99 S/O Porter NB/SB",
           "Pierce"
          ],
          [
           "SR-16 @ TNB NB/SB",
           "Pierce"
          ],
          [
           "SR-16 @ Purdy Dr NB/SB",
           "Pierce"
          ],
          [
           "SR-302 N/O 144th WB/EB",
           "Pierce"
          ],
          [
           "SR-302 S/O 144th WB/EB",
           "Pierce"
          ],
          [
           "SR-302 W/O Key Peninsula Hwy WB/EB",
           "Pierce"
          ],
          [
           "SR-302 W/O Wright-Bliss WB/EB (E/O?)",
           "Pierce"
          ],
          [
           "SR-161 E/O SR-7 NB/SB",
           "Pierce"
          ],
          [
           "SR-161 N/O Center NB/SB",
           "Pierce"
          ],
          [
           "SR-161 N/O Eatonville Cutoff NB/SB",
           "Pierce"
          ],
          [
           "SR-161 N/O 304th NB/SB",
           "Pierce"
          ],
          [
           "SR-161 N/O 264th NB/SB",
           "Pierce"
          ],
          [
           "SR-161 S/O 224th NB/SB",
           "Pierce"
          ],
          [
           "SR-161 N/O 224th NB/SB",
           "Pierce"
          ],
          [
           "SR-161 N/O 204th NB/SB",
           "Pierce"
          ],
          [
           "SR-161 S/O SR-167 SB off-ramp NB/SB",
           "Pierce"
          ],
          [
           "SR-161 S/O Valley NB/SB",
           "Pierce"
          ],
          [
           "SR-161 N/O Valley NB/SB",
           "Pierce"
          ],
          [
           "SR-161 N/O 8th NB/SB",
           "Pierce"
          ],
          [
           "SR-7 @ Thurston County NB/SB",
           "Pierce"
          ],
          [
           "SR-7 W/O Alder Cutoff NB/SB",
           "Pierce"
          ],
          [
           "SR-7 N/O Eatonville Hwy NB/SB",
           "Pierce"
          ],
          [
           "SR-7 N/O Silver Lake NB/SB",
           "Pierce"
          ],
          [
           "SR-7 S/O SR-702 NB/SB",
           "Pierce"
          ],
          [
           "SR-7 N/O 304th NB/SB",
           "Pierce"
          ],
          [
           "SR-7 N/O 260th NB/SB",
           "Pierce"
          ],
          [
           "SR-7 S/O 224th NB/SB",
           "Pierce"
          ],
          [
           "SR-7 N/O 224th NB/SB",
           "Pierce"
          ],
          [
           "SR-7 N/O 38th NB/SB",
           "Pierce"
          ],
          [
           "SR-162 @ SR-410 WB/EB",
           "Pierce"
          ],
          [
           "SR-162 S/O Pioneer WB/EB",
           "Pierce"
          ],
          [
           "SR-162 E/O Orville WB/EB",
           "Pierce"
          ],
          [
           "SR-162 E/O S Prairie WB/EB",
           "Pierce"
          ],
          [
           "SR-162 N/O SR-165 WB/EB",
           "Pierce"
          ],
          [
           "SR-163 @ SR-16 NB/SB",
           "Pierce"
          ],
          [
           "SR-163 N/O 37th NB/SB",
           "Pierce"
          ],
          [
           "SR-163 N/O Park NB/SB",
           "Pierce"
          ],
          [
           "SR-507 S/O SR-7 NB/SB",
           "Pierce"
          ],
          [
           "SR-507 S/O E Gate NB/SB",
           "Pierce"
          ],
          [
           "SR-507 S/O 288th NB/SB",
           "Pierce"
          ],
          [
           "SR-507 N/O 346th NB/SB",
           "Pierce"
          ],
          [
           "SR-702 E/O SR-507 WB/EB",
           "Pierce"
          ],
          [
           "SR-702 E/O Harts Lake WB/EB",
           "Pierce"
          ],
          [
           "SR-702 E/O 40th WB/EB",
           "Pierce"
          ],
          [
           "SR-702 W/O 8th WB/EB",
           "Pierce"
          ],
          [
           "SR-702 E/O 8th WB/EB",
           "Pierce"
          ],
          [
           "SR-165 W/O SR-162 NB/SB",
           "Pierce"
          ],
          [
           "SR-165 N/O Davis NB/SB",
           "Pierce"
          ],
          [
           "SR-165 N/O Wilkeson-Carbonado NB/SB",
           "Pierce"
          ],
          [
           "SR-704 E/O Spanaway Loop WB/EB",
           "Pierce"
          ],
          [
           "SR-706 E/O SR-7 WB/EB",
           "Pierce"
          ],
          [
           "SR-706 E/O Kernahan WB/EB",
           "Pierce"
          ]
         ],
         "hovertemplate": "Observed=%{x}<br>Model=%{y}<br>location=%{customdata[0]}<br>County=%{customdata[1]}<extra></extra>",
         "legendgroup": "",
         "line": {
          "color": "Grey",
          "width": 2
         },
         "marker": {
          "color": "#91268F",
          "symbol": "circle"
         },
         "mode": "markers",
         "name": "",
         "orientation": "v",
         "showlegend": false,
         "type": "scatter",
         "x": [
          5573,
          5542,
          5922,
          6132,
          4944,
          4825,
          5532,
          5301,
          5029,
          5099,
          5967,
          6014,
          2704,
          5893,
          3834,
          4831,
          2397,
          2397,
          7266,
          3486,
          614,
          21,
          17,
          14,
          3402,
          3992,
          4756,
          962,
          2112,
          103,
          11,
          14,
          1392,
          2775,
          1196,
          1762,
          1426,
          79,
          104,
          57,
          52,
          25,
          201,
          112,
          418,
          338,
          324,
          324,
          532,
          850,
          1739,
          180,
          175,
          142,
          110,
          67,
          90,
          98,
          400,
          377,
          432,
          374,
          168,
          420,
          1034,
          209,
          136,
          135,
          40,
          36,
          90,
          464,
          352,
          520,
          351,
          252,
          220,
          266,
          166,
          254,
          166,
          50,
          18,
          648,
          38,
          13
         ],
         "xaxis": "x",
         "y": [
          6084,
          6084,
          6329,
          6333,
          6324,
          6327,
          6161,
          6034,
          5763,
          6266,
          6389,
          6400,
          5839,
          8560,
          10468,
          10313,
          1447,
          1375,
          4508,
          1875,
          80,
          96,
          96,
          96,
          1522,
          1887,
          3091,
          815,
          1139,
          1868,
          0,
          0,
          1338,
          924,
          844,
          4744,
          3831,
          26,
          21,
          251,
          237,
          0,
          42,
          42,
          91,
          91,
          112,
          138,
          175,
          789,
          1235,
          84,
          714,
          0,
          14,
          14,
          14,
          14,
          62,
          66,
          67,
          58,
          15,
          164,
          91,
          6,
          5,
          5,
          108,
          108,
          126,
          478,
          478,
          470,
          470,
          5,
          5,
          16,
          16,
          16,
          5,
          0,
          0,
          440,
          0,
          0
         ],
         "yaxis": "y"
        },
        {
         "hovertemplate": "Observed=%{x}<br>Model=%{y}<extra></extra>",
         "legendgroup": "",
         "line": {
          "color": "Grey",
          "dash": "solid",
          "width": 2
         },
         "marker": {
          "symbol": "circle"
         },
         "mode": "lines",
         "name": "",
         "orientation": "v",
         "showlegend": false,
         "type": "scatter",
         "x": [
          0.0,
          73.39393939393939,
          146.78787878787878,
          220.1818181818182,
          293.57575757575756,
          366.96969696969694,
          440.3636363636364,
          513.7575757575758,
          587.1515151515151,
          660.5454545454545,
          733.9393939393939,
          807.3333333333333,
          880.7272727272727,
          954.1212121212121,
          1027.5151515151515,
          1100.9090909090908,
          1174.3030303030303,
          1247.6969696969697,
          1321.090909090909,
          1394.4848484848485,
          1467.8787878787878,
          1541.2727272727273,
          1614.6666666666665,
          1688.060606060606,
          1761.4545454545455,
          1834.8484848484848,
          1908.2424242424242,
          1981.6363636363635,
          2055.030303030303,
          2128.4242424242425,
          2201.8181818181815,
          2275.212121212121,
          2348.6060606060605,
          2422.0,
          2495.3939393939395,
          2568.7878787878785,
          2642.181818181818,
          2715.5757575757575,
          2788.969696969697,
          2862.363636363636,
          2935.7575757575755,
          3009.151515151515,
          3082.5454545454545,
          3155.939393939394,
          3229.333333333333,
          3302.7272727272725,
          3376.121212121212,
          3449.5151515151515,
          3522.909090909091,
          3596.30303030303,
          3669.6969696969695,
          3743.090909090909,
          3816.4848484848485,
          3889.8787878787875,
          3963.272727272727,
          4036.6666666666665,
          4110.060606060606,
          4183.454545454545,
          4256.848484848485,
          4330.242424242424,
          4403.636363636363,
          4477.030303030303,
          4550.424242424242,
          4623.818181818182,
          4697.212121212121,
          4770.60606060606,
          4844.0,
          4917.393939393939,
          4990.787878787879,
          5064.181818181818,
          5137.575757575757,
          5210.969696969697,
          5284.363636363636,
          5357.757575757576,
          5431.151515151515,
          5504.545454545454,
          5577.939393939394,
          5651.333333333333,
          5724.727272727272,
          5798.121212121212,
          5871.515151515151,
          5944.909090909091,
          6018.30303030303,
          6091.696969696969,
          6165.090909090909,
          6238.484848484848,
          6311.878787878788,
          6385.272727272727,
          6458.666666666666,
          6532.060606060606,
          6605.454545454545,
          6678.848484848485,
          6752.242424242424,
          6825.636363636363,
          6899.030303030303,
          6972.424242424242,
          7045.818181818182,
          7119.212121212121,
          7192.60606060606,
          7266.0
         ],
         "xaxis": "x",
         "y": [
          -58.718787385031874,
          23.67137686574668,
          106.06154111652523,
          188.4517053673038,
          270.84186961808234,
          353.23203386886087,
          435.62219811963945,
          518.0123623704179,
          600.4025266211966,
          682.7926908719751,
          765.1828551227536,
          847.5730193735321,
          929.9631836243108,
          1012.3533478750892,
          1094.7435121258677,
          1177.1336763766462,
          1259.523840627425,
          1341.9140048782035,
          1424.304169128982,
          1506.6943333797606,
          1589.084497630539,
          1671.4746618813176,
          1753.8648261320961,
          1836.2549903828747,
          1918.6451546336534,
          2001.0353188844317,
          2083.42548313521,
          2165.815647385989,
          2248.205811636767,
          2330.595975887546,
          2412.986140138324,
          2495.376304389103,
          2577.766468639882,
          2660.15663289066,
          2742.546797141439,
          2824.936961392217,
          2907.327125642996,
          2989.7172898937743,
          3072.1074541445532,
          3154.4976183953313,
          3236.8877826461103,
          3319.2779468968884,
          3401.6681111476673,
          3484.0582753984463,
          3566.4484396492244,
          3648.8386039000025,
          3731.2287681507814,
          3813.6189324015604,
          3896.0090966523385,
          3978.3992609031166,
          4060.7894251538955,
          4143.1795894046745,
          4225.569753655453,
          4307.959917906232,
          4390.35008215701,
          4472.740246407789,
          4555.130410658567,
          4637.520574909346,
          4719.910739160125,
          4802.300903410903,
          4884.691067661681,
          4967.08123191246,
          5049.471396163238,
          5131.861560414017,
          5214.251724664796,
          5296.641888915574,
          5379.032053166353,
          5461.422217417131,
          5543.81238166791,
          5626.202545918688,
          5708.592710169466,
          5790.982874420245,
          5873.373038671024,
          5955.763202921803,
          6038.153367172581,
          6120.543531423359,
          6202.933695674138,
          6285.323859924916,
          6367.714024175694,
          6450.104188426474,
          6532.494352677252,
          6614.884516928031,
          6697.274681178809,
          6779.664845429587,
          6862.055009680366,
          6944.445173931144,
          7026.835338181924,
          7109.225502432702,
          7191.61566668348,
          7274.005830934259,
          7356.3959951850375,
          7438.786159435816,
          7521.1763236865945,
          7603.566487937373,
          7685.9566521881525,
          7768.346816438931,
          7850.7369806897095,
          7933.127144940488,
          8015.517309191266,
          8097.907473442045
         ],
         "yaxis": "y"
        }
       ],
       "layout": {
        "annotations": [
         {
          "align": "right",
          "font": {
           "color": "pink",
           "size": 12
          },
          "showarrow": false,
          "text": "y = x",
          "x": 10991.4,
          "y": 10991.4
         },
         {
          "align": "right",
          "font": {
           "color": "black",
           "size": 12
          },
          "showarrow": false,
          "text": "r^2 = 0.77",
          "x": 7629.3,
          "y": 8502.802847114148
         }
        ],
        "height": 600,
        "legend": {
         "tracegroupgap": 0
        },
        "margin": {
         "b": 100,
         "l": 100,
         "r": 100,
         "t": 100
        },
        "shapes": [
         {
          "line": {
           "color": "Red",
           "dash": "dash",
           "width": 2
          },
          "type": "line",
          "x0": 0,
          "x1": 10468,
          "y0": 0,
          "y1": 10468
         }
        ],
        "template": {
         "data": {
          "bar": [
           {
            "error_x": {
             "color": "rgb(36,36,36)"
            },
            "error_y": {
             "color": "rgb(36,36,36)"
            },
            "marker": {
             "line": {
              "color": "white",
              "width": 0.5
             },
             "pattern": {
              "fillmode": "overlay",
              "size": 10,
              "solidity": 0.2
             }
            },
            "type": "bar"
           }
          ],
          "barpolar": [
           {
            "marker": {
             "line": {
              "color": "white",
              "width": 0.5
             },
             "pattern": {
              "fillmode": "overlay",
              "size": 10,
              "solidity": 0.2
             }
            },
            "type": "barpolar"
           }
          ],
          "carpet": [
           {
            "aaxis": {
             "endlinecolor": "rgb(36,36,36)",
             "gridcolor": "white",
             "linecolor": "white",
             "minorgridcolor": "white",
             "startlinecolor": "rgb(36,36,36)"
            },
            "baxis": {
             "endlinecolor": "rgb(36,36,36)",
             "gridcolor": "white",
             "linecolor": "white",
             "minorgridcolor": "white",
             "startlinecolor": "rgb(36,36,36)"
            },
            "type": "carpet"
           }
          ],
          "choropleth": [
           {
            "colorbar": {
             "outlinewidth": 1,
             "tickcolor": "rgb(36,36,36)",
             "ticks": "outside"
            },
            "type": "choropleth"
           }
          ],
          "contour": [
           {
            "colorbar": {
             "outlinewidth": 1,
             "tickcolor": "rgb(36,36,36)",
             "ticks": "outside"
            },
            "colorscale": [
             [
              0.0,
              "#440154"
             ],
             [
              0.1111111111111111,
              "#482878"
             ],
             [
              0.2222222222222222,
              "#3e4989"
             ],
             [
              0.3333333333333333,
              "#31688e"
             ],
             [
              0.4444444444444444,
              "#26828e"
             ],
             [
              0.5555555555555556,
              "#1f9e89"
             ],
             [
              0.6666666666666666,
              "#35b779"
             ],
             [
              0.7777777777777778,
              "#6ece58"
             ],
             [
              0.8888888888888888,
              "#b5de2b"
             ],
             [
              1.0,
              "#fde725"
             ]
            ],
            "type": "contour"
           }
          ],
          "contourcarpet": [
           {
            "colorbar": {
             "outlinewidth": 1,
             "tickcolor": "rgb(36,36,36)",
             "ticks": "outside"
            },
            "type": "contourcarpet"
           }
          ],
          "heatmap": [
           {
            "colorbar": {
             "outlinewidth": 1,
             "tickcolor": "rgb(36,36,36)",
             "ticks": "outside"
            },
            "colorscale": [
             [
              0.0,
              "#440154"
             ],
             [
              0.1111111111111111,
              "#482878"
             ],
             [
              0.2222222222222222,
              "#3e4989"
             ],
             [
              0.3333333333333333,
              "#31688e"
             ],
             [
              0.4444444444444444,
              "#26828e"
             ],
             [
              0.5555555555555556,
              "#1f9e89"
             ],
             [
              0.6666666666666666,
              "#35b779"
             ],
             [
              0.7777777777777778,
              "#6ece58"
             ],
             [
              0.8888888888888888,
              "#b5de2b"
             ],
             [
              1.0,
              "#fde725"
             ]
            ],
            "type": "heatmap"
           }
          ],
          "heatmapgl": [
           {
            "colorbar": {
             "outlinewidth": 1,
             "tickcolor": "rgb(36,36,36)",
             "ticks": "outside"
            },
            "colorscale": [
             [
              0.0,
              "#440154"
             ],
             [
              0.1111111111111111,
              "#482878"
             ],
             [
              0.2222222222222222,
              "#3e4989"
             ],
             [
              0.3333333333333333,
              "#31688e"
             ],
             [
              0.4444444444444444,
              "#26828e"
             ],
             [
              0.5555555555555556,
              "#1f9e89"
             ],
             [
              0.6666666666666666,
              "#35b779"
             ],
             [
              0.7777777777777778,
              "#6ece58"
             ],
             [
              0.8888888888888888,
              "#b5de2b"
             ],
             [
              1.0,
              "#fde725"
             ]
            ],
            "type": "heatmapgl"
           }
          ],
          "histogram": [
           {
            "marker": {
             "line": {
              "color": "white",
              "width": 0.6
             }
            },
            "type": "histogram"
           }
          ],
          "histogram2d": [
           {
            "colorbar": {
             "outlinewidth": 1,
             "tickcolor": "rgb(36,36,36)",
             "ticks": "outside"
            },
            "colorscale": [
             [
              0.0,
              "#440154"
             ],
             [
              0.1111111111111111,
              "#482878"
             ],
             [
              0.2222222222222222,
              "#3e4989"
             ],
             [
              0.3333333333333333,
              "#31688e"
             ],
             [
              0.4444444444444444,
              "#26828e"
             ],
             [
              0.5555555555555556,
              "#1f9e89"
             ],
             [
              0.6666666666666666,
              "#35b779"
             ],
             [
              0.7777777777777778,
              "#6ece58"
             ],
             [
              0.8888888888888888,
              "#b5de2b"
             ],
             [
              1.0,
              "#fde725"
             ]
            ],
            "type": "histogram2d"
           }
          ],
          "histogram2dcontour": [
           {
            "colorbar": {
             "outlinewidth": 1,
             "tickcolor": "rgb(36,36,36)",
             "ticks": "outside"
            },
            "colorscale": [
             [
              0.0,
              "#440154"
             ],
             [
              0.1111111111111111,
              "#482878"
             ],
             [
              0.2222222222222222,
              "#3e4989"
             ],
             [
              0.3333333333333333,
              "#31688e"
             ],
             [
              0.4444444444444444,
              "#26828e"
             ],
             [
              0.5555555555555556,
              "#1f9e89"
             ],
             [
              0.6666666666666666,
              "#35b779"
             ],
             [
              0.7777777777777778,
              "#6ece58"
             ],
             [
              0.8888888888888888,
              "#b5de2b"
             ],
             [
              1.0,
              "#fde725"
             ]
            ],
            "type": "histogram2dcontour"
           }
          ],
          "mesh3d": [
           {
            "colorbar": {
             "outlinewidth": 1,
             "tickcolor": "rgb(36,36,36)",
             "ticks": "outside"
            },
            "type": "mesh3d"
           }
          ],
          "parcoords": [
           {
            "line": {
             "colorbar": {
              "outlinewidth": 1,
              "tickcolor": "rgb(36,36,36)",
              "ticks": "outside"
             }
            },
            "type": "parcoords"
           }
          ],
          "pie": [
           {
            "automargin": true,
            "type": "pie"
           }
          ],
          "scatter": [
           {
            "fillpattern": {
             "fillmode": "overlay",
             "size": 10,
             "solidity": 0.2
            },
            "type": "scatter"
           }
          ],
          "scatter3d": [
           {
            "line": {
             "colorbar": {
              "outlinewidth": 1,
              "tickcolor": "rgb(36,36,36)",
              "ticks": "outside"
             }
            },
            "marker": {
             "colorbar": {
              "outlinewidth": 1,
              "tickcolor": "rgb(36,36,36)",
              "ticks": "outside"
             }
            },
            "type": "scatter3d"
           }
          ],
          "scattercarpet": [
           {
            "marker": {
             "colorbar": {
              "outlinewidth": 1,
              "tickcolor": "rgb(36,36,36)",
              "ticks": "outside"
             }
            },
            "type": "scattercarpet"
           }
          ],
          "scattergeo": [
           {
            "marker": {
             "colorbar": {
              "outlinewidth": 1,
              "tickcolor": "rgb(36,36,36)",
              "ticks": "outside"
             }
            },
            "type": "scattergeo"
           }
          ],
          "scattergl": [
           {
            "marker": {
             "colorbar": {
              "outlinewidth": 1,
              "tickcolor": "rgb(36,36,36)",
              "ticks": "outside"
             }
            },
            "type": "scattergl"
           }
          ],
          "scattermapbox": [
           {
            "marker": {
             "colorbar": {
              "outlinewidth": 1,
              "tickcolor": "rgb(36,36,36)",
              "ticks": "outside"
             }
            },
            "type": "scattermapbox"
           }
          ],
          "scatterpolar": [
           {
            "marker": {
             "colorbar": {
              "outlinewidth": 1,
              "tickcolor": "rgb(36,36,36)",
              "ticks": "outside"
             }
            },
            "type": "scatterpolar"
           }
          ],
          "scatterpolargl": [
           {
            "marker": {
             "colorbar": {
              "outlinewidth": 1,
              "tickcolor": "rgb(36,36,36)",
              "ticks": "outside"
             }
            },
            "type": "scatterpolargl"
           }
          ],
          "scatterternary": [
           {
            "marker": {
             "colorbar": {
              "outlinewidth": 1,
              "tickcolor": "rgb(36,36,36)",
              "ticks": "outside"
             }
            },
            "type": "scatterternary"
           }
          ],
          "surface": [
           {
            "colorbar": {
             "outlinewidth": 1,
             "tickcolor": "rgb(36,36,36)",
             "ticks": "outside"
            },
            "colorscale": [
             [
              0.0,
              "#440154"
             ],
             [
              0.1111111111111111,
              "#482878"
             ],
             [
              0.2222222222222222,
              "#3e4989"
             ],
             [
              0.3333333333333333,
              "#31688e"
             ],
             [
              0.4444444444444444,
              "#26828e"
             ],
             [
              0.5555555555555556,
              "#1f9e89"
             ],
             [
              0.6666666666666666,
              "#35b779"
             ],
             [
              0.7777777777777778,
              "#6ece58"
             ],
             [
              0.8888888888888888,
              "#b5de2b"
             ],
             [
              1.0,
              "#fde725"
             ]
            ],
            "type": "surface"
           }
          ],
          "table": [
           {
            "cells": {
             "fill": {
              "color": "rgb(237,237,237)"
             },
             "line": {
              "color": "white"
             }
            },
            "header": {
             "fill": {
              "color": "rgb(217,217,217)"
             },
             "line": {
              "color": "white"
             }
            },
            "type": "table"
           }
          ]
         },
         "layout": {
          "annotationdefaults": {
           "arrowhead": 0,
           "arrowwidth": 1
          },
          "autotypenumbers": "strict",
          "coloraxis": {
           "colorbar": {
            "outlinewidth": 1,
            "tickcolor": "rgb(36,36,36)",
            "ticks": "outside"
           }
          },
          "colorscale": {
           "diverging": [
            [
             0.0,
             "rgb(103,0,31)"
            ],
            [
             0.1,
             "rgb(178,24,43)"
            ],
            [
             0.2,
             "rgb(214,96,77)"
            ],
            [
             0.3,
             "rgb(244,165,130)"
            ],
            [
             0.4,
             "rgb(253,219,199)"
            ],
            [
             0.5,
             "rgb(247,247,247)"
            ],
            [
             0.6,
             "rgb(209,229,240)"
            ],
            [
             0.7,
             "rgb(146,197,222)"
            ],
            [
             0.8,
             "rgb(67,147,195)"
            ],
            [
             0.9,
             "rgb(33,102,172)"
            ],
            [
             1.0,
             "rgb(5,48,97)"
            ]
           ],
           "sequential": [
            [
             0.0,
             "#440154"
            ],
            [
             0.1111111111111111,
             "#482878"
            ],
            [
             0.2222222222222222,
             "#3e4989"
            ],
            [
             0.3333333333333333,
             "#31688e"
            ],
            [
             0.4444444444444444,
             "#26828e"
            ],
            [
             0.5555555555555556,
             "#1f9e89"
            ],
            [
             0.6666666666666666,
             "#35b779"
            ],
            [
             0.7777777777777778,
             "#6ece58"
            ],
            [
             0.8888888888888888,
             "#b5de2b"
            ],
            [
             1.0,
             "#fde725"
            ]
           ],
           "sequentialminus": [
            [
             0.0,
             "#440154"
            ],
            [
             0.1111111111111111,
             "#482878"
            ],
            [
             0.2222222222222222,
             "#3e4989"
            ],
            [
             0.3333333333333333,
             "#31688e"
            ],
            [
             0.4444444444444444,
             "#26828e"
            ],
            [
             0.5555555555555556,
             "#1f9e89"
            ],
            [
             0.6666666666666666,
             "#35b779"
            ],
            [
             0.7777777777777778,
             "#6ece58"
            ],
            [
             0.8888888888888888,
             "#b5de2b"
            ],
            [
             1.0,
             "#fde725"
            ]
           ]
          },
          "colorway": [
           "#91268F",
           "#8CC63E",
           "#00A7A0",
           "#F05A28",
           "#4C4C4C",
           "#630460",
           "#9f3913",
           "#588527",
           "#00716c",
           "#3e4040"
          ],
          "font": {
           "color": "rgb(36,36,36)",
           "family": "Poppins",
           "size": 11
          },
          "geo": {
           "bgcolor": "white",
           "lakecolor": "white",
           "landcolor": "white",
           "showlakes": true,
           "showland": true,
           "subunitcolor": "white"
          },
          "hoverlabel": {
           "align": "left"
          },
          "hovermode": "closest",
          "mapbox": {
           "style": "light"
          },
          "paper_bgcolor": "white",
          "plot_bgcolor": "white",
          "polar": {
           "angularaxis": {
            "gridcolor": "rgb(232,232,232)",
            "linecolor": "rgb(36,36,36)",
            "showgrid": false,
            "showline": true,
            "ticks": "outside"
           },
           "bgcolor": "white",
           "radialaxis": {
            "gridcolor": "rgb(232,232,232)",
            "linecolor": "rgb(36,36,36)",
            "showgrid": false,
            "showline": true,
            "ticks": "outside"
           }
          },
          "scene": {
           "xaxis": {
            "backgroundcolor": "white",
            "gridcolor": "rgb(232,232,232)",
            "gridwidth": 2,
            "linecolor": "rgb(36,36,36)",
            "showbackground": true,
            "showgrid": false,
            "showline": true,
            "ticks": "outside",
            "zeroline": false,
            "zerolinecolor": "rgb(36,36,36)"
           },
           "yaxis": {
            "backgroundcolor": "white",
            "gridcolor": "rgb(232,232,232)",
            "gridwidth": 2,
            "linecolor": "rgb(36,36,36)",
            "showbackground": true,
            "showgrid": false,
            "showline": true,
            "ticks": "outside",
            "zeroline": false,
            "zerolinecolor": "rgb(36,36,36)"
           },
           "zaxis": {
            "backgroundcolor": "white",
            "gridcolor": "rgb(232,232,232)",
            "gridwidth": 2,
            "linecolor": "rgb(36,36,36)",
            "showbackground": true,
            "showgrid": false,
            "showline": true,
            "ticks": "outside",
            "zeroline": false,
            "zerolinecolor": "rgb(36,36,36)"
           }
          },
          "shapedefaults": {
           "fillcolor": "black",
           "line": {
            "width": 0
           },
           "opacity": 0.3
          },
          "ternary": {
           "aaxis": {
            "gridcolor": "rgb(232,232,232)",
            "linecolor": "rgb(36,36,36)",
            "showgrid": false,
            "showline": true,
            "ticks": "outside"
           },
           "baxis": {
            "gridcolor": "rgb(232,232,232)",
            "linecolor": "rgb(36,36,36)",
            "showgrid": false,
            "showline": true,
            "ticks": "outside"
           },
           "bgcolor": "white",
           "caxis": {
            "gridcolor": "rgb(232,232,232)",
            "linecolor": "rgb(36,36,36)",
            "showgrid": false,
            "showline": true,
            "ticks": "outside"
           }
          },
          "title": {
           "x": 0.05
          },
          "xaxis": {
           "automargin": true,
           "gridcolor": "rgb(232,232,232)",
           "linecolor": "rgb(36,36,36)",
           "showgrid": false,
           "showline": true,
           "ticks": "outside",
           "title": {
            "standoff": 15
           },
           "zeroline": false,
           "zerolinecolor": "rgb(36,36,36)"
          },
          "yaxis": {
           "automargin": true,
           "gridcolor": "rgb(232,232,232)",
           "linecolor": "rgb(36,36,36)",
           "showgrid": false,
           "showline": true,
           "ticks": "outside",
           "title": {
            "standoff": 15
           },
           "zeroline": false,
           "zerolinecolor": "rgb(36,36,36)"
          }
         }
        },
        "title": {
         "text": "Heavy Trucks: Pierce"
        },
        "width": 800,
        "xaxis": {
         "anchor": "y",
         "domain": [
          0.0,
          1.0
         ],
         "title": {
          "text": "Observed"
         }
        },
        "yaxis": {
         "anchor": "x",
         "domain": [
          0.0,
          1.0
         ],
         "title": {
          "text": "Model"
         }
        }
       }
      },
      "text/html": [
       "<div>                            <div id=\"d84965b8-c6db-4f4d-a8b9-098eb3721fb5\" class=\"plotly-graph-div\" style=\"height:600px; width:800px;\"></div>            <script type=\"text/javascript\">                require([\"plotly\"], function(Plotly) {                    window.PLOTLYENV=window.PLOTLYENV || {};                                    if (document.getElementById(\"d84965b8-c6db-4f4d-a8b9-098eb3721fb5\")) {                    Plotly.newPlot(                        \"d84965b8-c6db-4f4d-a8b9-098eb3721fb5\",                        [{\"customdata\":[[\"I-5 S\\u002fO Mounts NB\",\"Pierce\"],[\"I-5 S\\u002fO Mounts SB\",\"Pierce\"],[\"I-5 S\\u002fO Division NB\",\"Pierce\"],[\"I-5 S\\u002fO Division SB\",\"Pierce\"],[\"I-5 @ N\\u002fO Division NB\",\"Pierce\"],[\"I-5 @ N\\u002fO Division SB\",\"Pierce\"],[\"I-5 S\\u002fO SR-512 NB\",\"Pierce\"],[\"I-5 S\\u002fO SR-512 SB\",\"Pierce\"],[\"I-5 N\\u002fO SR-512 NB\",\"Pierce\"],[\"I-5 N\\u002fO SR-512 SB\",\"Pierce\"],[\"I-5 N\\u002fO 56th NB\",\"Pierce\"],[\"I-5 N\\u002fO 56th SB\",\"Pierce\"],[\"I-5 E\\u002fO SR-16 NB\",\"Pierce\"],[\"I-5 E\\u002fO SR-16 SB\",\"Pierce\"],[\"I-5 E\\u002fO Port of Tacoma NB\",\"Pierce\"],[\"I-5 E\\u002fO Port of Tacoma SB (HOV from 56)\",\"Pierce\"],[\"SR-512 W\\u002fO Meridian WB\",\"Pierce\"],[\"SR-512 W\\u002fO Meridian EB\",\"Pierce\"],[\"SR-167 W\\u002fO SR-410 NB\\u002fSB\",\"Pierce\"],[\"SR-167 E\\u002fO SR-161 NB\\u002fSB\",\"Pierce\"],[\"SR-410 E\\u002fO S Prairie WB\\u002fEB\",\"Pierce\"],[\"SR-410 E\\u002fO Chinook WB\\u002fEB\",\"Pierce\"],[\"SR-410 W\\u002fO SR-123 WB\\u002fEB\",\"Pierce\"],[\"SR-410 E\\u002fO SR-123 WB\\u002fEB\",\"Pierce\"],[\"SR-512 @ I-5 WB\\u002fEB\",\"Pierce\"],[\"SR-512 W\\u002fO SR-7 WB\\u002fEB\",\"Pierce\"],[\"SR-512 S\\u002fO SR-167 WB\\u002fEB\",\"Pierce\"],[\"SR-509 E\\u002fO I-705 NB\\u002fSB\",\"Pierce\"],[\"SR-509 W\\u002fO Alexander NB\\u002fSB\",\"Pierce\"],[\"SR-509 S\\u002fO 11th NB\\u002fSB\",\"Pierce\"],[\"SR-509 N\\u002fO Hyada NB\\u002fSB\",\"Pierce\"],[\"SR-509 E\\u002fO Soundview NB\\u002fSB\",\"Pierce\"],[\"SR-99 @ I-5 NB\\u002fSB\",\"Pierce\"],[\"SR-99 E\\u002fO 54th NB\\u002fSB\",\"Pierce\"],[\"SR-99 S\\u002fO Porter NB\\u002fSB\",\"Pierce\"],[\"SR-16 @ TNB NB\\u002fSB\",\"Pierce\"],[\"SR-16 @ Purdy Dr NB\\u002fSB\",\"Pierce\"],[\"SR-302 N\\u002fO 144th WB\\u002fEB\",\"Pierce\"],[\"SR-302 S\\u002fO 144th WB\\u002fEB\",\"Pierce\"],[\"SR-302 W\\u002fO Key Peninsula Hwy WB\\u002fEB\",\"Pierce\"],[\"SR-302 W\\u002fO Wright-Bliss WB\\u002fEB (E\\u002fO?)\",\"Pierce\"],[\"SR-161 E\\u002fO SR-7 NB\\u002fSB\",\"Pierce\"],[\"SR-161 N\\u002fO Center NB\\u002fSB\",\"Pierce\"],[\"SR-161 N\\u002fO Eatonville Cutoff NB\\u002fSB\",\"Pierce\"],[\"SR-161 N\\u002fO 304th NB\\u002fSB\",\"Pierce\"],[\"SR-161 N\\u002fO 264th NB\\u002fSB\",\"Pierce\"],[\"SR-161 S\\u002fO 224th NB\\u002fSB\",\"Pierce\"],[\"SR-161 N\\u002fO 224th NB\\u002fSB\",\"Pierce\"],[\"SR-161 N\\u002fO 204th NB\\u002fSB\",\"Pierce\"],[\"SR-161 S\\u002fO SR-167 SB off-ramp NB\\u002fSB\",\"Pierce\"],[\"SR-161 S\\u002fO Valley NB\\u002fSB\",\"Pierce\"],[\"SR-161 N\\u002fO Valley NB\\u002fSB\",\"Pierce\"],[\"SR-161 N\\u002fO 8th NB\\u002fSB\",\"Pierce\"],[\"SR-7 @ Thurston County NB\\u002fSB\",\"Pierce\"],[\"SR-7 W\\u002fO Alder Cutoff NB\\u002fSB\",\"Pierce\"],[\"SR-7 N\\u002fO Eatonville Hwy NB\\u002fSB\",\"Pierce\"],[\"SR-7 N\\u002fO Silver Lake NB\\u002fSB\",\"Pierce\"],[\"SR-7 S\\u002fO SR-702 NB\\u002fSB\",\"Pierce\"],[\"SR-7 N\\u002fO 304th NB\\u002fSB\",\"Pierce\"],[\"SR-7 N\\u002fO 260th NB\\u002fSB\",\"Pierce\"],[\"SR-7 S\\u002fO 224th NB\\u002fSB\",\"Pierce\"],[\"SR-7 N\\u002fO 224th NB\\u002fSB\",\"Pierce\"],[\"SR-7 N\\u002fO 38th NB\\u002fSB\",\"Pierce\"],[\"SR-162 @ SR-410 WB\\u002fEB\",\"Pierce\"],[\"SR-162 S\\u002fO Pioneer WB\\u002fEB\",\"Pierce\"],[\"SR-162 E\\u002fO Orville WB\\u002fEB\",\"Pierce\"],[\"SR-162 E\\u002fO S Prairie WB\\u002fEB\",\"Pierce\"],[\"SR-162 N\\u002fO SR-165 WB\\u002fEB\",\"Pierce\"],[\"SR-163 @ SR-16 NB\\u002fSB\",\"Pierce\"],[\"SR-163 N\\u002fO 37th NB\\u002fSB\",\"Pierce\"],[\"SR-163 N\\u002fO Park NB\\u002fSB\",\"Pierce\"],[\"SR-507 S\\u002fO SR-7 NB\\u002fSB\",\"Pierce\"],[\"SR-507 S\\u002fO E Gate NB\\u002fSB\",\"Pierce\"],[\"SR-507 S\\u002fO 288th NB\\u002fSB\",\"Pierce\"],[\"SR-507 N\\u002fO 346th NB\\u002fSB\",\"Pierce\"],[\"SR-702 E\\u002fO SR-507 WB\\u002fEB\",\"Pierce\"],[\"SR-702 E\\u002fO Harts Lake WB\\u002fEB\",\"Pierce\"],[\"SR-702 E\\u002fO 40th WB\\u002fEB\",\"Pierce\"],[\"SR-702 W\\u002fO 8th WB\\u002fEB\",\"Pierce\"],[\"SR-702 E\\u002fO 8th WB\\u002fEB\",\"Pierce\"],[\"SR-165 W\\u002fO SR-162 NB\\u002fSB\",\"Pierce\"],[\"SR-165 N\\u002fO Davis NB\\u002fSB\",\"Pierce\"],[\"SR-165 N\\u002fO Wilkeson-Carbonado NB\\u002fSB\",\"Pierce\"],[\"SR-704 E\\u002fO Spanaway Loop WB\\u002fEB\",\"Pierce\"],[\"SR-706 E\\u002fO SR-7 WB\\u002fEB\",\"Pierce\"],[\"SR-706 E\\u002fO Kernahan WB\\u002fEB\",\"Pierce\"]],\"hovertemplate\":\"Observed=%{x}\\u003cbr\\u003eModel=%{y}\\u003cbr\\u003elocation=%{customdata[0]}\\u003cbr\\u003eCounty=%{customdata[1]}\\u003cextra\\u003e\\u003c\\u002fextra\\u003e\",\"legendgroup\":\"\",\"marker\":{\"color\":\"#91268F\",\"symbol\":\"circle\"},\"mode\":\"markers\",\"name\":\"\",\"orientation\":\"v\",\"showlegend\":false,\"x\":[5573,5542,5922,6132,4944,4825,5532,5301,5029,5099,5967,6014,2704,5893,3834,4831,2397,2397,7266,3486,614,21,17,14,3402,3992,4756,962,2112,103,11,14,1392,2775,1196,1762,1426,79,104,57,52,25,201,112,418,338,324,324,532,850,1739,180,175,142,110,67,90,98,400,377,432,374,168,420,1034,209,136,135,40,36,90,464,352,520,351,252,220,266,166,254,166,50,18,648,38,13],\"xaxis\":\"x\",\"y\":[6084,6084,6329,6333,6324,6327,6161,6034,5763,6266,6389,6400,5839,8560,10468,10313,1447,1375,4508,1875,80,96,96,96,1522,1887,3091,815,1139,1868,0,0,1338,924,844,4744,3831,26,21,251,237,0,42,42,91,91,112,138,175,789,1235,84,714,0,14,14,14,14,62,66,67,58,15,164,91,6,5,5,108,108,126,478,478,470,470,5,5,16,16,16,5,0,0,440,0,0],\"yaxis\":\"y\",\"type\":\"scatter\",\"line\":{\"color\":\"Grey\",\"width\":2}},{\"hovertemplate\":\"Observed=%{x}\\u003cbr\\u003eModel=%{y}\\u003cextra\\u003e\\u003c\\u002fextra\\u003e\",\"legendgroup\":\"\",\"line\":{\"color\":\"Grey\",\"dash\":\"solid\",\"width\":2},\"marker\":{\"symbol\":\"circle\"},\"mode\":\"lines\",\"name\":\"\",\"orientation\":\"v\",\"showlegend\":false,\"x\":[0.0,73.39393939393939,146.78787878787878,220.1818181818182,293.57575757575756,366.96969696969694,440.3636363636364,513.7575757575758,587.1515151515151,660.5454545454545,733.9393939393939,807.3333333333333,880.7272727272727,954.1212121212121,1027.5151515151515,1100.9090909090908,1174.3030303030303,1247.6969696969697,1321.090909090909,1394.4848484848485,1467.8787878787878,1541.2727272727273,1614.6666666666665,1688.060606060606,1761.4545454545455,1834.8484848484848,1908.2424242424242,1981.6363636363635,2055.030303030303,2128.4242424242425,2201.8181818181815,2275.212121212121,2348.6060606060605,2422.0,2495.3939393939395,2568.7878787878785,2642.181818181818,2715.5757575757575,2788.969696969697,2862.363636363636,2935.7575757575755,3009.151515151515,3082.5454545454545,3155.939393939394,3229.333333333333,3302.7272727272725,3376.121212121212,3449.5151515151515,3522.909090909091,3596.30303030303,3669.6969696969695,3743.090909090909,3816.4848484848485,3889.8787878787875,3963.272727272727,4036.6666666666665,4110.060606060606,4183.454545454545,4256.848484848485,4330.242424242424,4403.636363636363,4477.030303030303,4550.424242424242,4623.818181818182,4697.212121212121,4770.60606060606,4844.0,4917.393939393939,4990.787878787879,5064.181818181818,5137.575757575757,5210.969696969697,5284.363636363636,5357.757575757576,5431.151515151515,5504.545454545454,5577.939393939394,5651.333333333333,5724.727272727272,5798.121212121212,5871.515151515151,5944.909090909091,6018.30303030303,6091.696969696969,6165.090909090909,6238.484848484848,6311.878787878788,6385.272727272727,6458.666666666666,6532.060606060606,6605.454545454545,6678.848484848485,6752.242424242424,6825.636363636363,6899.030303030303,6972.424242424242,7045.818181818182,7119.212121212121,7192.60606060606,7266.0],\"xaxis\":\"x\",\"y\":[-58.718787385031874,23.67137686574668,106.06154111652523,188.4517053673038,270.84186961808234,353.23203386886087,435.62219811963945,518.0123623704179,600.4025266211966,682.7926908719751,765.1828551227536,847.5730193735321,929.9631836243108,1012.3533478750892,1094.7435121258677,1177.1336763766462,1259.523840627425,1341.9140048782035,1424.304169128982,1506.6943333797606,1589.084497630539,1671.4746618813176,1753.8648261320961,1836.2549903828747,1918.6451546336534,2001.0353188844317,2083.42548313521,2165.815647385989,2248.205811636767,2330.595975887546,2412.986140138324,2495.376304389103,2577.766468639882,2660.15663289066,2742.546797141439,2824.936961392217,2907.327125642996,2989.7172898937743,3072.1074541445532,3154.4976183953313,3236.8877826461103,3319.2779468968884,3401.6681111476673,3484.0582753984463,3566.4484396492244,3648.8386039000025,3731.2287681507814,3813.6189324015604,3896.0090966523385,3978.3992609031166,4060.7894251538955,4143.1795894046745,4225.569753655453,4307.959917906232,4390.35008215701,4472.740246407789,4555.130410658567,4637.520574909346,4719.910739160125,4802.300903410903,4884.691067661681,4967.08123191246,5049.471396163238,5131.861560414017,5214.251724664796,5296.641888915574,5379.032053166353,5461.422217417131,5543.81238166791,5626.202545918688,5708.592710169466,5790.982874420245,5873.373038671024,5955.763202921803,6038.153367172581,6120.543531423359,6202.933695674138,6285.323859924916,6367.714024175694,6450.104188426474,6532.494352677252,6614.884516928031,6697.274681178809,6779.664845429587,6862.055009680366,6944.445173931144,7026.835338181924,7109.225502432702,7191.61566668348,7274.005830934259,7356.3959951850375,7438.786159435816,7521.1763236865945,7603.566487937373,7685.9566521881525,7768.346816438931,7850.7369806897095,7933.127144940488,8015.517309191266,8097.907473442045],\"yaxis\":\"y\",\"type\":\"scatter\"}],                        {\"template\":{\"data\":{\"barpolar\":[{\"marker\":{\"line\":{\"color\":\"white\",\"width\":0.5},\"pattern\":{\"fillmode\":\"overlay\",\"size\":10,\"solidity\":0.2}},\"type\":\"barpolar\"}],\"bar\":[{\"error_x\":{\"color\":\"rgb(36,36,36)\"},\"error_y\":{\"color\":\"rgb(36,36,36)\"},\"marker\":{\"line\":{\"color\":\"white\",\"width\":0.5},\"pattern\":{\"fillmode\":\"overlay\",\"size\":10,\"solidity\":0.2}},\"type\":\"bar\"}],\"carpet\":[{\"aaxis\":{\"endlinecolor\":\"rgb(36,36,36)\",\"gridcolor\":\"white\",\"linecolor\":\"white\",\"minorgridcolor\":\"white\",\"startlinecolor\":\"rgb(36,36,36)\"},\"baxis\":{\"endlinecolor\":\"rgb(36,36,36)\",\"gridcolor\":\"white\",\"linecolor\":\"white\",\"minorgridcolor\":\"white\",\"startlinecolor\":\"rgb(36,36,36)\"},\"type\":\"carpet\"}],\"choropleth\":[{\"colorbar\":{\"outlinewidth\":1,\"tickcolor\":\"rgb(36,36,36)\",\"ticks\":\"outside\"},\"type\":\"choropleth\"}],\"contourcarpet\":[{\"colorbar\":{\"outlinewidth\":1,\"tickcolor\":\"rgb(36,36,36)\",\"ticks\":\"outside\"},\"type\":\"contourcarpet\"}],\"contour\":[{\"colorbar\":{\"outlinewidth\":1,\"tickcolor\":\"rgb(36,36,36)\",\"ticks\":\"outside\"},\"colorscale\":[[0.0,\"#440154\"],[0.1111111111111111,\"#482878\"],[0.2222222222222222,\"#3e4989\"],[0.3333333333333333,\"#31688e\"],[0.4444444444444444,\"#26828e\"],[0.5555555555555556,\"#1f9e89\"],[0.6666666666666666,\"#35b779\"],[0.7777777777777778,\"#6ece58\"],[0.8888888888888888,\"#b5de2b\"],[1.0,\"#fde725\"]],\"type\":\"contour\"}],\"heatmapgl\":[{\"colorbar\":{\"outlinewidth\":1,\"tickcolor\":\"rgb(36,36,36)\",\"ticks\":\"outside\"},\"colorscale\":[[0.0,\"#440154\"],[0.1111111111111111,\"#482878\"],[0.2222222222222222,\"#3e4989\"],[0.3333333333333333,\"#31688e\"],[0.4444444444444444,\"#26828e\"],[0.5555555555555556,\"#1f9e89\"],[0.6666666666666666,\"#35b779\"],[0.7777777777777778,\"#6ece58\"],[0.8888888888888888,\"#b5de2b\"],[1.0,\"#fde725\"]],\"type\":\"heatmapgl\"}],\"heatmap\":[{\"colorbar\":{\"outlinewidth\":1,\"tickcolor\":\"rgb(36,36,36)\",\"ticks\":\"outside\"},\"colorscale\":[[0.0,\"#440154\"],[0.1111111111111111,\"#482878\"],[0.2222222222222222,\"#3e4989\"],[0.3333333333333333,\"#31688e\"],[0.4444444444444444,\"#26828e\"],[0.5555555555555556,\"#1f9e89\"],[0.6666666666666666,\"#35b779\"],[0.7777777777777778,\"#6ece58\"],[0.8888888888888888,\"#b5de2b\"],[1.0,\"#fde725\"]],\"type\":\"heatmap\"}],\"histogram2dcontour\":[{\"colorbar\":{\"outlinewidth\":1,\"tickcolor\":\"rgb(36,36,36)\",\"ticks\":\"outside\"},\"colorscale\":[[0.0,\"#440154\"],[0.1111111111111111,\"#482878\"],[0.2222222222222222,\"#3e4989\"],[0.3333333333333333,\"#31688e\"],[0.4444444444444444,\"#26828e\"],[0.5555555555555556,\"#1f9e89\"],[0.6666666666666666,\"#35b779\"],[0.7777777777777778,\"#6ece58\"],[0.8888888888888888,\"#b5de2b\"],[1.0,\"#fde725\"]],\"type\":\"histogram2dcontour\"}],\"histogram2d\":[{\"colorbar\":{\"outlinewidth\":1,\"tickcolor\":\"rgb(36,36,36)\",\"ticks\":\"outside\"},\"colorscale\":[[0.0,\"#440154\"],[0.1111111111111111,\"#482878\"],[0.2222222222222222,\"#3e4989\"],[0.3333333333333333,\"#31688e\"],[0.4444444444444444,\"#26828e\"],[0.5555555555555556,\"#1f9e89\"],[0.6666666666666666,\"#35b779\"],[0.7777777777777778,\"#6ece58\"],[0.8888888888888888,\"#b5de2b\"],[1.0,\"#fde725\"]],\"type\":\"histogram2d\"}],\"histogram\":[{\"marker\":{\"line\":{\"color\":\"white\",\"width\":0.6}},\"type\":\"histogram\"}],\"mesh3d\":[{\"colorbar\":{\"outlinewidth\":1,\"tickcolor\":\"rgb(36,36,36)\",\"ticks\":\"outside\"},\"type\":\"mesh3d\"}],\"parcoords\":[{\"line\":{\"colorbar\":{\"outlinewidth\":1,\"tickcolor\":\"rgb(36,36,36)\",\"ticks\":\"outside\"}},\"type\":\"parcoords\"}],\"pie\":[{\"automargin\":true,\"type\":\"pie\"}],\"scatter3d\":[{\"line\":{\"colorbar\":{\"outlinewidth\":1,\"tickcolor\":\"rgb(36,36,36)\",\"ticks\":\"outside\"}},\"marker\":{\"colorbar\":{\"outlinewidth\":1,\"tickcolor\":\"rgb(36,36,36)\",\"ticks\":\"outside\"}},\"type\":\"scatter3d\"}],\"scattercarpet\":[{\"marker\":{\"colorbar\":{\"outlinewidth\":1,\"tickcolor\":\"rgb(36,36,36)\",\"ticks\":\"outside\"}},\"type\":\"scattercarpet\"}],\"scattergeo\":[{\"marker\":{\"colorbar\":{\"outlinewidth\":1,\"tickcolor\":\"rgb(36,36,36)\",\"ticks\":\"outside\"}},\"type\":\"scattergeo\"}],\"scattergl\":[{\"marker\":{\"colorbar\":{\"outlinewidth\":1,\"tickcolor\":\"rgb(36,36,36)\",\"ticks\":\"outside\"}},\"type\":\"scattergl\"}],\"scattermapbox\":[{\"marker\":{\"colorbar\":{\"outlinewidth\":1,\"tickcolor\":\"rgb(36,36,36)\",\"ticks\":\"outside\"}},\"type\":\"scattermapbox\"}],\"scatterpolargl\":[{\"marker\":{\"colorbar\":{\"outlinewidth\":1,\"tickcolor\":\"rgb(36,36,36)\",\"ticks\":\"outside\"}},\"type\":\"scatterpolargl\"}],\"scatterpolar\":[{\"marker\":{\"colorbar\":{\"outlinewidth\":1,\"tickcolor\":\"rgb(36,36,36)\",\"ticks\":\"outside\"}},\"type\":\"scatterpolar\"}],\"scatter\":[{\"fillpattern\":{\"fillmode\":\"overlay\",\"size\":10,\"solidity\":0.2},\"type\":\"scatter\"}],\"scatterternary\":[{\"marker\":{\"colorbar\":{\"outlinewidth\":1,\"tickcolor\":\"rgb(36,36,36)\",\"ticks\":\"outside\"}},\"type\":\"scatterternary\"}],\"surface\":[{\"colorbar\":{\"outlinewidth\":1,\"tickcolor\":\"rgb(36,36,36)\",\"ticks\":\"outside\"},\"colorscale\":[[0.0,\"#440154\"],[0.1111111111111111,\"#482878\"],[0.2222222222222222,\"#3e4989\"],[0.3333333333333333,\"#31688e\"],[0.4444444444444444,\"#26828e\"],[0.5555555555555556,\"#1f9e89\"],[0.6666666666666666,\"#35b779\"],[0.7777777777777778,\"#6ece58\"],[0.8888888888888888,\"#b5de2b\"],[1.0,\"#fde725\"]],\"type\":\"surface\"}],\"table\":[{\"cells\":{\"fill\":{\"color\":\"rgb(237,237,237)\"},\"line\":{\"color\":\"white\"}},\"header\":{\"fill\":{\"color\":\"rgb(217,217,217)\"},\"line\":{\"color\":\"white\"}},\"type\":\"table\"}]},\"layout\":{\"annotationdefaults\":{\"arrowhead\":0,\"arrowwidth\":1},\"autotypenumbers\":\"strict\",\"coloraxis\":{\"colorbar\":{\"outlinewidth\":1,\"tickcolor\":\"rgb(36,36,36)\",\"ticks\":\"outside\"}},\"colorscale\":{\"diverging\":[[0.0,\"rgb(103,0,31)\"],[0.1,\"rgb(178,24,43)\"],[0.2,\"rgb(214,96,77)\"],[0.3,\"rgb(244,165,130)\"],[0.4,\"rgb(253,219,199)\"],[0.5,\"rgb(247,247,247)\"],[0.6,\"rgb(209,229,240)\"],[0.7,\"rgb(146,197,222)\"],[0.8,\"rgb(67,147,195)\"],[0.9,\"rgb(33,102,172)\"],[1.0,\"rgb(5,48,97)\"]],\"sequential\":[[0.0,\"#440154\"],[0.1111111111111111,\"#482878\"],[0.2222222222222222,\"#3e4989\"],[0.3333333333333333,\"#31688e\"],[0.4444444444444444,\"#26828e\"],[0.5555555555555556,\"#1f9e89\"],[0.6666666666666666,\"#35b779\"],[0.7777777777777778,\"#6ece58\"],[0.8888888888888888,\"#b5de2b\"],[1.0,\"#fde725\"]],\"sequentialminus\":[[0.0,\"#440154\"],[0.1111111111111111,\"#482878\"],[0.2222222222222222,\"#3e4989\"],[0.3333333333333333,\"#31688e\"],[0.4444444444444444,\"#26828e\"],[0.5555555555555556,\"#1f9e89\"],[0.6666666666666666,\"#35b779\"],[0.7777777777777778,\"#6ece58\"],[0.8888888888888888,\"#b5de2b\"],[1.0,\"#fde725\"]]},\"colorway\":[\"#91268F\",\"#8CC63E\",\"#00A7A0\",\"#F05A28\",\"#4C4C4C\",\"#630460\",\"#9f3913\",\"#588527\",\"#00716c\",\"#3e4040\"],\"font\":{\"color\":\"rgb(36,36,36)\",\"family\":\"Poppins\",\"size\":11},\"geo\":{\"bgcolor\":\"white\",\"lakecolor\":\"white\",\"landcolor\":\"white\",\"showlakes\":true,\"showland\":true,\"subunitcolor\":\"white\"},\"hoverlabel\":{\"align\":\"left\"},\"hovermode\":\"closest\",\"mapbox\":{\"style\":\"light\"},\"paper_bgcolor\":\"white\",\"plot_bgcolor\":\"white\",\"polar\":{\"angularaxis\":{\"gridcolor\":\"rgb(232,232,232)\",\"linecolor\":\"rgb(36,36,36)\",\"showgrid\":false,\"showline\":true,\"ticks\":\"outside\"},\"bgcolor\":\"white\",\"radialaxis\":{\"gridcolor\":\"rgb(232,232,232)\",\"linecolor\":\"rgb(36,36,36)\",\"showgrid\":false,\"showline\":true,\"ticks\":\"outside\"}},\"scene\":{\"xaxis\":{\"backgroundcolor\":\"white\",\"gridcolor\":\"rgb(232,232,232)\",\"gridwidth\":2,\"linecolor\":\"rgb(36,36,36)\",\"showbackground\":true,\"showgrid\":false,\"showline\":true,\"ticks\":\"outside\",\"zeroline\":false,\"zerolinecolor\":\"rgb(36,36,36)\"},\"yaxis\":{\"backgroundcolor\":\"white\",\"gridcolor\":\"rgb(232,232,232)\",\"gridwidth\":2,\"linecolor\":\"rgb(36,36,36)\",\"showbackground\":true,\"showgrid\":false,\"showline\":true,\"ticks\":\"outside\",\"zeroline\":false,\"zerolinecolor\":\"rgb(36,36,36)\"},\"zaxis\":{\"backgroundcolor\":\"white\",\"gridcolor\":\"rgb(232,232,232)\",\"gridwidth\":2,\"linecolor\":\"rgb(36,36,36)\",\"showbackground\":true,\"showgrid\":false,\"showline\":true,\"ticks\":\"outside\",\"zeroline\":false,\"zerolinecolor\":\"rgb(36,36,36)\"}},\"shapedefaults\":{\"fillcolor\":\"black\",\"line\":{\"width\":0},\"opacity\":0.3},\"ternary\":{\"aaxis\":{\"gridcolor\":\"rgb(232,232,232)\",\"linecolor\":\"rgb(36,36,36)\",\"showgrid\":false,\"showline\":true,\"ticks\":\"outside\"},\"baxis\":{\"gridcolor\":\"rgb(232,232,232)\",\"linecolor\":\"rgb(36,36,36)\",\"showgrid\":false,\"showline\":true,\"ticks\":\"outside\"},\"bgcolor\":\"white\",\"caxis\":{\"gridcolor\":\"rgb(232,232,232)\",\"linecolor\":\"rgb(36,36,36)\",\"showgrid\":false,\"showline\":true,\"ticks\":\"outside\"}},\"title\":{\"x\":0.05},\"xaxis\":{\"automargin\":true,\"gridcolor\":\"rgb(232,232,232)\",\"linecolor\":\"rgb(36,36,36)\",\"showgrid\":false,\"showline\":true,\"ticks\":\"outside\",\"title\":{\"standoff\":15},\"zeroline\":false,\"zerolinecolor\":\"rgb(36,36,36)\"},\"yaxis\":{\"automargin\":true,\"gridcolor\":\"rgb(232,232,232)\",\"linecolor\":\"rgb(36,36,36)\",\"showgrid\":false,\"showline\":true,\"ticks\":\"outside\",\"title\":{\"standoff\":15},\"zeroline\":false,\"zerolinecolor\":\"rgb(36,36,36)\"}}},\"xaxis\":{\"anchor\":\"y\",\"domain\":[0.0,1.0],\"title\":{\"text\":\"Observed\"}},\"yaxis\":{\"anchor\":\"x\",\"domain\":[0.0,1.0],\"title\":{\"text\":\"Model\"}},\"legend\":{\"tracegroupgap\":0},\"title\":{\"text\":\"Heavy Trucks: Pierce\"},\"margin\":{\"l\":100,\"r\":100,\"t\":100,\"b\":100},\"height\":600,\"width\":800,\"shapes\":[{\"line\":{\"color\":\"Red\",\"dash\":\"dash\",\"width\":2},\"type\":\"line\",\"x0\":0,\"x1\":10468,\"y0\":0,\"y1\":10468}],\"annotations\":[{\"align\":\"right\",\"font\":{\"color\":\"pink\",\"size\":12},\"showarrow\":false,\"text\":\"y = x\",\"x\":10991.4,\"y\":10991.4},{\"align\":\"right\",\"font\":{\"color\":\"black\",\"size\":12},\"showarrow\":false,\"text\":\"r^2 = 0.77\",\"x\":7629.3,\"y\":8502.802847114148}]},                        {\"responsive\": true}                    ).then(function(){\n",
       "                            \n",
       "var gd = document.getElementById('d84965b8-c6db-4f4d-a8b9-098eb3721fb5');\n",
       "var x = new MutationObserver(function (mutations, observer) {{\n",
       "        var display = window.getComputedStyle(gd).display;\n",
       "        if (!display || display === 'none') {{\n",
       "            console.log([gd, 'removed!']);\n",
       "            Plotly.purge(gd);\n",
       "            observer.disconnect();\n",
       "        }}\n",
       "}});\n",
       "\n",
       "// Listen for the removal of the full notebook cells\n",
       "var notebookContainer = gd.closest('#notebook-container');\n",
       "if (notebookContainer) {{\n",
       "    x.observe(notebookContainer, {childList: true});\n",
       "}}\n",
       "\n",
       "// Listen for the clearing of the current output cell\n",
       "var outputEl = gd.closest('.output');\n",
       "if (outputEl) {{\n",
       "    x.observe(outputEl, {childList: true});\n",
       "}}\n",
       "\n",
       "                        })                };                });            </script>        </div>"
      ]
     },
     "metadata": {},
     "output_type": "display_data"
    }
   ],
   "source": [
    "fig = create_truck_chart(df_daily_heavy, 'Heavy', 'Pierce')\n",
    "fig.show()"
   ]
  },
  {
   "cell_type": "raw",
   "id": "60af6289",
   "metadata": {
    "vscode": {
     "languageId": "raw"
    }
   },
   "source": [
    "#### Snohomish"
   ]
  },
  {
   "cell_type": "code",
   "execution_count": 28,
   "id": "e7a2925c",
   "metadata": {},
   "outputs": [
    {
     "data": {
      "application/vnd.plotly.v1+json": {
       "config": {
        "plotlyServerURL": "https://plot.ly"
       },
       "data": [
        {
         "customdata": [
          [
           "I-5 @ 44th NB",
           "Snohomish"
          ],
          [
           "I-5 @ 44th SB",
           "Snohomish"
          ],
          [
           "I-5 N/O 164th NB",
           "Snohomish"
          ],
          [
           "I-5 N/O 164th SB",
           "Snohomish"
          ],
          [
           "I-5 N/O SR-526 NB",
           "Snohomish"
          ],
          [
           "I-5 N/O SR-526 SB",
           "Snohomish"
          ],
          [
           "I-5 N/O 41st NB",
           "Snohomish"
          ],
          [
           "I-5 N/O 41st SB",
           "Snohomish"
          ],
          [
           "I-5 @ SR-528 NB",
           "Snohomish"
          ],
          [
           "I-5 @ SR-528 SB",
           "Snohomish"
          ],
          [
           "I-5 N/O SR-531 NB",
           "Snohomish"
          ],
          [
           "I-5 N/O SR-531 SB",
           "Snohomish"
          ],
          [
           "I-405 N/O SR-527 NB",
           "Snohomish"
          ],
          [
           "I-405 N/O SR-527 SB",
           "Snohomish"
          ],
          [
           "SR-525 N/O I-5 NB",
           "Snohomish"
          ],
          [
           "SR-525 N/O I-5 SB",
           "Snohomish"
          ],
          [
           "I-5 @ SR-532 NB/SB",
           "Snohomish"
          ],
          [
           "I-5 @ Skagit border NB/SB",
           "Snohomish"
          ],
          [
           "SR-525 N/O SR-526 NB/SB",
           "Snohomish"
          ],
          [
           "SR-525 N/O 5th NB/SB",
           "Snohomish"
          ],
          [
           "SR-99 E/O Evergreen NB/SB",
           "Snohomish"
          ],
          [
           "SR-526 W/O Paine Field Blvd WB/EB",
           "Snohomish"
          ],
          [
           "SR-526 E/O Paine Field Blvd WB/EB",
           "Snohomish"
          ],
          [
           "SR-9 @ SR-522 NB/SB",
           "Snohomish"
          ],
          [
           "SR-9 N/O SR-2 NB/SB",
           "Snohomish"
          ],
          [
           "SR-9 N/O SR-204 NB/SB",
           "Snohomish"
          ],
          [
           "SR-9 N/O SR-92 NB/SB",
           "Snohomish"
          ],
          [
           "SR-9 N/O 132nd NB/SB",
           "Snohomish"
          ],
          [
           "SR-9 N/O SR-531 NB/SB",
           "Snohomish"
          ],
          [
           "SR-9 S/O 67th NB/SB",
           "Snohomish"
          ],
          [
           "SR-9 N/O Kackman NB/SB",
           "Snohomish"
          ],
          [
           "SR-9 N/O Stanwood-Bryant NB/SB",
           "Snohomish"
          ],
          [
           "SR-532 @ Island County WB/EB",
           "Snohomish"
          ],
          [
           "SR-532 W/O 28th WB/EB",
           "Snohomish"
          ],
          [
           "SR-104 @ Ferry Loading Edm WB/EB",
           "Snohomish"
          ],
          [
           "SR-104 N/O Pine WB/EB",
           "Snohomish"
          ],
          [
           "SR-104 E/O 5th WB/EB",
           "Snohomish"
          ],
          [
           "SR-524 W/O 3rd WB/EB",
           "Snohomish"
          ],
          [
           "SR-524 S/O Main WB/EB",
           "Snohomish"
          ],
          [
           "SR-524 N/O Main WB/EB",
           "Snohomish"
          ],
          [
           "SR-524 E/O 68th WB/EB",
           "Snohomish"
          ],
          [
           "SR-524 E/O 39th WB/EB",
           "Snohomish"
          ],
          [
           "SR-524 N/O Paradise Lake WB/EB",
           "Snohomish"
          ],
          [
           "SR-2 E/O I-5 WB/EB",
           "Snohomish"
          ],
          [
           "SR-2 S/O SR-204 WB/EB",
           "Snohomish"
          ],
          [
           "SR-2 E/O Main WB/EB",
           "Snohomish"
          ],
          [
           "SR-2 E/O Rice WB/EB",
           "Snohomish"
          ],
          [
           "SR-2 E/O 10th (Gold Bar) WB/EB",
           "Snohomish"
          ],
          [
           "SR-2 W/O Index-Galena WB/EB",
           "Snohomish"
          ],
          [
           "SR-2 E/O Index-Galena WB/EB",
           "Snohomish"
          ],
          [
           "SR-527 N/O I-405 NB/SB",
           "Snohomish"
          ],
          [
           "SR-527 N/O 196th NB/SB",
           "Snohomish"
          ],
          [
           "SR-527 N/O Dumas NB/SB",
           "Snohomish"
          ],
          [
           "SR-527 N/O 100th NB/SB",
           "Snohomish"
          ],
          [
           "SR-529 @ I-5 (Evt) NB/SB",
           "Snohomish"
          ],
          [
           "SR-529 S/O Everett NB/SB",
           "Snohomish"
          ],
          [
           "SR-529 W/O Maple NB/SB",
           "Snohomish"
          ],
          [
           "SR-529 N/O Everett NB/SB",
           "Snohomish"
          ],
          [
           "SR-529 N/O Broadway NB/SB",
           "Snohomish"
          ],
          [
           "SR-96 @ I-5 WB/EB",
           "Snohomish"
          ],
          [
           "SR-96 N/O 132nd WB/EB",
           "Snohomish"
          ],
          [
           "SR-96 E/O Seattle Hill WB/EB",
           "Snohomish"
          ],
          [
           "SR-528 @ I-5 WB/EB",
           "Snohomish"
          ],
          [
           "SR-528 E/O SR-529 WB/EB",
           "Snohomish"
          ],
          [
           "SR-531 N/O Rose WB/EB",
           "Snohomish"
          ],
          [
           "SR-531 E/O Lk Goodwin WB/EB",
           "Snohomish"
          ],
          [
           "SR-531 E/O 27th WB/EB",
           "Snohomish"
          ],
          [
           "SR-531 E/O I-5 WB/EB",
           "Snohomish"
          ],
          [
           "SR-531 E/O 43rd WB/EB",
           "Snohomish"
          ],
          [
           "SR-531 W/O 67th WB/EB",
           "Snohomish"
          ],
          [
           "SR-531 E/O 67th WB/EB",
           "Snohomish"
          ],
          [
           "SR-530 @ I-5 WB/EB",
           "Snohomish"
          ],
          [
           "SR-530 E/O Smokey Pt WB/EB",
           "Snohomish"
          ],
          [
           "SR-530 N/O 211th WB/EB",
           "Snohomish"
          ],
          [
           "SR-530 E/O SR-9 WB/EB",
           "Snohomish"
          ],
          [
           "SR-530 W/O Arlington Hts WB/EB",
           "Snohomish"
          ],
          [
           "SR-530 E/O Arlington Hts WB/EB",
           "Snohomish"
          ],
          [
           "SR-530 W/O Jim Creek WB/EB",
           "Snohomish"
          ],
          [
           "SR-530 W/O Ramstad WB/EB",
           "Snohomish"
          ],
          [
           "SR-530 @ Skagit County WB/EB",
           "Snohomish"
          ],
          [
           "SR-203 N/O 203rd NB/SB",
           "Snohomish"
          ],
          [
           "SR-204 @ SR-2 NB/SB",
           "Snohomish"
          ],
          [
           "SR-204 N/O 20th NB/SB",
           "Snohomish"
          ],
          [
           "SR-204 N/O SR-2 NB/SB",
           "Snohomish"
          ],
          [
           "SR-92 E/O Lake WB/EB",
           "Snohomish"
          ],
          [
           "SR-92 E/O Callow WB/EB",
           "Snohomish"
          ],
          [
           "SR-92 E/O Quarry WB/EB",
           "Snohomish"
          ],
          [
           "SR-92 W/O Mountain Loop WB/EB",
           "Snohomish"
          ]
         ],
         "hovertemplate": "Observed=%{x}<br>Model=%{y}<br>location=%{customdata[0]}<br>County=%{customdata[1]}<extra></extra>",
         "legendgroup": "",
         "line": {
          "color": "Grey",
          "width": 2
         },
         "marker": {
          "color": "#91268F",
          "symbol": "circle"
         },
         "mode": "markers",
         "name": "",
         "orientation": "v",
         "showlegend": false,
         "type": "scatter",
         "x": [
          2931,
          2951,
          3252,
          3274,
          3206,
          3377,
          2734,
          3167,
          3043,
          3126,
          2304,
          2316,
          1355,
          1425,
          403,
          274,
          4052,
          4113,
          173,
          48,
          123,
          99,
          92,
          699,
          285,
          653,
          317,
          372,
          169,
          229,
          167,
          82,
          309,
          328,
          59,
          55,
          72,
          8,
          6,
          6,
          76,
          176,
          507,
          891,
          874,
          506,
          420,
          444,
          243,
          192,
          265,
          279,
          44,
          156,
          88,
          49,
          65,
          84,
          825,
          220,
          42,
          62,
          260,
          330,
          18,
          99,
          429,
          697,
          696,
          340,
          182,
          705,
          609,
          464,
          400,
          403,
          383,
          380,
          299,
          47,
          408,
          58,
          55,
          400,
          494,
          448,
          60,
          718
         ],
         "xaxis": "x",
         "y": [
          5111,
          5308,
          6411,
          6317,
          6049,
          5973,
          5969,
          5880,
          5134,
          5095,
          4053,
          4032,
          2267,
          1893,
          827,
          713,
          7193,
          7046,
          107,
          117,
          0,
          2,
          64,
          409,
          336,
          500,
          582,
          150,
          47,
          47,
          145,
          188,
          112,
          119,
          0,
          33,
          33,
          2,
          1,
          4,
          9,
          23,
          180,
          823,
          597,
          1901,
          2011,
          1990,
          1990,
          1883,
          65,
          57,
          1,
          9,
          120,
          62,
          11,
          112,
          26,
          79,
          24,
          3,
          752,
          222,
          0,
          7,
          168,
          1310,
          1239,
          90,
          103,
          154,
          243,
          232,
          84,
          135,
          134,
          134,
          134,
          1,
          520,
          17,
          37,
          254,
          217,
          217,
          0,
          62
         ],
         "yaxis": "y"
        },
        {
         "hovertemplate": "Observed=%{x}<br>Model=%{y}<extra></extra>",
         "legendgroup": "",
         "line": {
          "color": "Grey",
          "dash": "solid",
          "width": 2
         },
         "marker": {
          "symbol": "circle"
         },
         "mode": "lines",
         "name": "",
         "orientation": "v",
         "showlegend": false,
         "type": "scatter",
         "x": [
          0.0,
          41.54545454545455,
          83.0909090909091,
          124.63636363636364,
          166.1818181818182,
          207.72727272727275,
          249.27272727272728,
          290.8181818181818,
          332.3636363636364,
          373.90909090909093,
          415.4545454545455,
          457.0,
          498.54545454545456,
          540.0909090909091,
          581.6363636363636,
          623.1818181818182,
          664.7272727272727,
          706.2727272727273,
          747.8181818181819,
          789.3636363636364,
          830.909090909091,
          872.4545454545455,
          914.0,
          955.5454545454546,
          997.0909090909091,
          1038.6363636363637,
          1080.1818181818182,
          1121.7272727272727,
          1163.2727272727273,
          1204.8181818181818,
          1246.3636363636365,
          1287.909090909091,
          1329.4545454545455,
          1371.0,
          1412.5454545454545,
          1454.0909090909092,
          1495.6363636363637,
          1537.1818181818182,
          1578.7272727272727,
          1620.2727272727273,
          1661.818181818182,
          1703.3636363636365,
          1744.909090909091,
          1786.4545454545455,
          1828.0,
          1869.5454545454545,
          1911.0909090909092,
          1952.6363636363637,
          1994.1818181818182,
          2035.7272727272727,
          2077.2727272727275,
          2118.818181818182,
          2160.3636363636365,
          2201.909090909091,
          2243.4545454545455,
          2285.0,
          2326.5454545454545,
          2368.090909090909,
          2409.6363636363635,
          2451.1818181818185,
          2492.727272727273,
          2534.2727272727275,
          2575.818181818182,
          2617.3636363636365,
          2658.909090909091,
          2700.4545454545455,
          2742.0,
          2783.5454545454545,
          2825.090909090909,
          2866.6363636363635,
          2908.1818181818185,
          2949.727272727273,
          2991.2727272727275,
          3032.818181818182,
          3074.3636363636365,
          3115.909090909091,
          3157.4545454545455,
          3199.0,
          3240.5454545454545,
          3282.090909090909,
          3323.636363636364,
          3365.1818181818185,
          3406.727272727273,
          3448.2727272727275,
          3489.818181818182,
          3531.3636363636365,
          3572.909090909091,
          3614.4545454545455,
          3656.0,
          3697.5454545454545,
          3739.090909090909,
          3780.636363636364,
          3822.1818181818185,
          3863.727272727273,
          3905.2727272727275,
          3946.818181818182,
          3988.3636363636365,
          4029.909090909091,
          4071.4545454545455,
          4113.0
         ],
         "xaxis": "x",
         "y": [
          -197.47845586864514,
          -121.15282761660548,
          -44.827199364565814,
          31.498428887473835,
          107.82405713951351,
          184.1496853915532,
          260.4753136435928,
          336.8009418956325,
          413.12657014767217,
          489.45219839971185,
          565.7778266517515,
          642.1034549037911,
          718.4290831558308,
          794.7547114078704,
          871.0803396599101,
          947.4059679119498,
          1023.7315961639895,
          1100.057224416029,
          1176.3828526680688,
          1252.7084809201083,
          1329.0341091721482,
          1405.3597374241876,
          1481.6853656762273,
          1558.0109939282672,
          1634.3366221803067,
          1710.6622504323466,
          1786.987878684386,
          1863.3135069364257,
          1939.6391351884654,
          2015.9647634405046,
          2092.2903916925447,
          2168.6160199445844,
          2244.941648196624,
          2321.267276448664,
          2397.592904700703,
          2473.918532952743,
          2550.244161204783,
          2626.5697894568225,
          2702.8954177088617,
          2779.2210459609014,
          2855.5466742129415,
          2931.872302464981,
          3008.1979307170204,
          3084.52355896906,
          3160.8491872211,
          3237.1748154731395,
          3313.5004437251796,
          3389.826071977219,
          3466.1517002292585,
          3542.477328481298,
          3618.8029567333383,
          3695.1285849853775,
          3771.454213237417,
          3847.779841489457,
          3924.1054697414966,
          4000.4310979935362,
          4076.756726245576,
          4153.082354497616,
          4229.407982749654,
          4305.733611001695,
          4382.059239253735,
          4458.384867505774,
          4534.710495757814,
          4611.036124009854,
          4687.361752261893,
          4763.687380513933,
          4840.013008765973,
          4916.3386370180115,
          4992.664265270051,
          5068.989893522091,
          5145.315521774131,
          5221.641150026171,
          5297.966778278211,
          5374.29240653025,
          5450.61803478229,
          5526.94366303433,
          5603.269291286369,
          5679.594919538408,
          5755.920547790448,
          5832.246176042488,
          5908.571804294528,
          5984.897432546568,
          6061.223060798608,
          6137.548689050647,
          6213.874317302686,
          6290.199945554726,
          6366.525573806765,
          6442.851202058805,
          6519.176830310845,
          6595.502458562884,
          6671.828086814924,
          6748.153715066965,
          6824.479343319004,
          6900.804971571043,
          6977.130599823083,
          7053.456228075122,
          7129.781856327162,
          7206.107484579202,
          7282.4331128312415,
          7358.758741083281
         ],
         "yaxis": "y"
        }
       ],
       "layout": {
        "annotations": [
         {
          "align": "right",
          "font": {
           "color": "pink",
           "size": 12
          },
          "showarrow": false,
          "text": "y = x",
          "x": 7552.650000000001,
          "y": 7552.650000000001
         },
         {
          "align": "right",
          "font": {
           "color": "black",
           "size": 12
          },
          "showarrow": false,
          "text": "r^2 = 0.94",
          "x": 4318.650000000001,
          "y": 7726.696678137446
         }
        ],
        "height": 600,
        "legend": {
         "tracegroupgap": 0
        },
        "margin": {
         "b": 100,
         "l": 100,
         "r": 100,
         "t": 100
        },
        "shapes": [
         {
          "line": {
           "color": "Red",
           "dash": "dash",
           "width": 2
          },
          "type": "line",
          "x0": 0,
          "x1": 7193,
          "y0": 0,
          "y1": 7193
         }
        ],
        "template": {
         "data": {
          "bar": [
           {
            "error_x": {
             "color": "rgb(36,36,36)"
            },
            "error_y": {
             "color": "rgb(36,36,36)"
            },
            "marker": {
             "line": {
              "color": "white",
              "width": 0.5
             },
             "pattern": {
              "fillmode": "overlay",
              "size": 10,
              "solidity": 0.2
             }
            },
            "type": "bar"
           }
          ],
          "barpolar": [
           {
            "marker": {
             "line": {
              "color": "white",
              "width": 0.5
             },
             "pattern": {
              "fillmode": "overlay",
              "size": 10,
              "solidity": 0.2
             }
            },
            "type": "barpolar"
           }
          ],
          "carpet": [
           {
            "aaxis": {
             "endlinecolor": "rgb(36,36,36)",
             "gridcolor": "white",
             "linecolor": "white",
             "minorgridcolor": "white",
             "startlinecolor": "rgb(36,36,36)"
            },
            "baxis": {
             "endlinecolor": "rgb(36,36,36)",
             "gridcolor": "white",
             "linecolor": "white",
             "minorgridcolor": "white",
             "startlinecolor": "rgb(36,36,36)"
            },
            "type": "carpet"
           }
          ],
          "choropleth": [
           {
            "colorbar": {
             "outlinewidth": 1,
             "tickcolor": "rgb(36,36,36)",
             "ticks": "outside"
            },
            "type": "choropleth"
           }
          ],
          "contour": [
           {
            "colorbar": {
             "outlinewidth": 1,
             "tickcolor": "rgb(36,36,36)",
             "ticks": "outside"
            },
            "colorscale": [
             [
              0.0,
              "#440154"
             ],
             [
              0.1111111111111111,
              "#482878"
             ],
             [
              0.2222222222222222,
              "#3e4989"
             ],
             [
              0.3333333333333333,
              "#31688e"
             ],
             [
              0.4444444444444444,
              "#26828e"
             ],
             [
              0.5555555555555556,
              "#1f9e89"
             ],
             [
              0.6666666666666666,
              "#35b779"
             ],
             [
              0.7777777777777778,
              "#6ece58"
             ],
             [
              0.8888888888888888,
              "#b5de2b"
             ],
             [
              1.0,
              "#fde725"
             ]
            ],
            "type": "contour"
           }
          ],
          "contourcarpet": [
           {
            "colorbar": {
             "outlinewidth": 1,
             "tickcolor": "rgb(36,36,36)",
             "ticks": "outside"
            },
            "type": "contourcarpet"
           }
          ],
          "heatmap": [
           {
            "colorbar": {
             "outlinewidth": 1,
             "tickcolor": "rgb(36,36,36)",
             "ticks": "outside"
            },
            "colorscale": [
             [
              0.0,
              "#440154"
             ],
             [
              0.1111111111111111,
              "#482878"
             ],
             [
              0.2222222222222222,
              "#3e4989"
             ],
             [
              0.3333333333333333,
              "#31688e"
             ],
             [
              0.4444444444444444,
              "#26828e"
             ],
             [
              0.5555555555555556,
              "#1f9e89"
             ],
             [
              0.6666666666666666,
              "#35b779"
             ],
             [
              0.7777777777777778,
              "#6ece58"
             ],
             [
              0.8888888888888888,
              "#b5de2b"
             ],
             [
              1.0,
              "#fde725"
             ]
            ],
            "type": "heatmap"
           }
          ],
          "heatmapgl": [
           {
            "colorbar": {
             "outlinewidth": 1,
             "tickcolor": "rgb(36,36,36)",
             "ticks": "outside"
            },
            "colorscale": [
             [
              0.0,
              "#440154"
             ],
             [
              0.1111111111111111,
              "#482878"
             ],
             [
              0.2222222222222222,
              "#3e4989"
             ],
             [
              0.3333333333333333,
              "#31688e"
             ],
             [
              0.4444444444444444,
              "#26828e"
             ],
             [
              0.5555555555555556,
              "#1f9e89"
             ],
             [
              0.6666666666666666,
              "#35b779"
             ],
             [
              0.7777777777777778,
              "#6ece58"
             ],
             [
              0.8888888888888888,
              "#b5de2b"
             ],
             [
              1.0,
              "#fde725"
             ]
            ],
            "type": "heatmapgl"
           }
          ],
          "histogram": [
           {
            "marker": {
             "line": {
              "color": "white",
              "width": 0.6
             }
            },
            "type": "histogram"
           }
          ],
          "histogram2d": [
           {
            "colorbar": {
             "outlinewidth": 1,
             "tickcolor": "rgb(36,36,36)",
             "ticks": "outside"
            },
            "colorscale": [
             [
              0.0,
              "#440154"
             ],
             [
              0.1111111111111111,
              "#482878"
             ],
             [
              0.2222222222222222,
              "#3e4989"
             ],
             [
              0.3333333333333333,
              "#31688e"
             ],
             [
              0.4444444444444444,
              "#26828e"
             ],
             [
              0.5555555555555556,
              "#1f9e89"
             ],
             [
              0.6666666666666666,
              "#35b779"
             ],
             [
              0.7777777777777778,
              "#6ece58"
             ],
             [
              0.8888888888888888,
              "#b5de2b"
             ],
             [
              1.0,
              "#fde725"
             ]
            ],
            "type": "histogram2d"
           }
          ],
          "histogram2dcontour": [
           {
            "colorbar": {
             "outlinewidth": 1,
             "tickcolor": "rgb(36,36,36)",
             "ticks": "outside"
            },
            "colorscale": [
             [
              0.0,
              "#440154"
             ],
             [
              0.1111111111111111,
              "#482878"
             ],
             [
              0.2222222222222222,
              "#3e4989"
             ],
             [
              0.3333333333333333,
              "#31688e"
             ],
             [
              0.4444444444444444,
              "#26828e"
             ],
             [
              0.5555555555555556,
              "#1f9e89"
             ],
             [
              0.6666666666666666,
              "#35b779"
             ],
             [
              0.7777777777777778,
              "#6ece58"
             ],
             [
              0.8888888888888888,
              "#b5de2b"
             ],
             [
              1.0,
              "#fde725"
             ]
            ],
            "type": "histogram2dcontour"
           }
          ],
          "mesh3d": [
           {
            "colorbar": {
             "outlinewidth": 1,
             "tickcolor": "rgb(36,36,36)",
             "ticks": "outside"
            },
            "type": "mesh3d"
           }
          ],
          "parcoords": [
           {
            "line": {
             "colorbar": {
              "outlinewidth": 1,
              "tickcolor": "rgb(36,36,36)",
              "ticks": "outside"
             }
            },
            "type": "parcoords"
           }
          ],
          "pie": [
           {
            "automargin": true,
            "type": "pie"
           }
          ],
          "scatter": [
           {
            "fillpattern": {
             "fillmode": "overlay",
             "size": 10,
             "solidity": 0.2
            },
            "type": "scatter"
           }
          ],
          "scatter3d": [
           {
            "line": {
             "colorbar": {
              "outlinewidth": 1,
              "tickcolor": "rgb(36,36,36)",
              "ticks": "outside"
             }
            },
            "marker": {
             "colorbar": {
              "outlinewidth": 1,
              "tickcolor": "rgb(36,36,36)",
              "ticks": "outside"
             }
            },
            "type": "scatter3d"
           }
          ],
          "scattercarpet": [
           {
            "marker": {
             "colorbar": {
              "outlinewidth": 1,
              "tickcolor": "rgb(36,36,36)",
              "ticks": "outside"
             }
            },
            "type": "scattercarpet"
           }
          ],
          "scattergeo": [
           {
            "marker": {
             "colorbar": {
              "outlinewidth": 1,
              "tickcolor": "rgb(36,36,36)",
              "ticks": "outside"
             }
            },
            "type": "scattergeo"
           }
          ],
          "scattergl": [
           {
            "marker": {
             "colorbar": {
              "outlinewidth": 1,
              "tickcolor": "rgb(36,36,36)",
              "ticks": "outside"
             }
            },
            "type": "scattergl"
           }
          ],
          "scattermapbox": [
           {
            "marker": {
             "colorbar": {
              "outlinewidth": 1,
              "tickcolor": "rgb(36,36,36)",
              "ticks": "outside"
             }
            },
            "type": "scattermapbox"
           }
          ],
          "scatterpolar": [
           {
            "marker": {
             "colorbar": {
              "outlinewidth": 1,
              "tickcolor": "rgb(36,36,36)",
              "ticks": "outside"
             }
            },
            "type": "scatterpolar"
           }
          ],
          "scatterpolargl": [
           {
            "marker": {
             "colorbar": {
              "outlinewidth": 1,
              "tickcolor": "rgb(36,36,36)",
              "ticks": "outside"
             }
            },
            "type": "scatterpolargl"
           }
          ],
          "scatterternary": [
           {
            "marker": {
             "colorbar": {
              "outlinewidth": 1,
              "tickcolor": "rgb(36,36,36)",
              "ticks": "outside"
             }
            },
            "type": "scatterternary"
           }
          ],
          "surface": [
           {
            "colorbar": {
             "outlinewidth": 1,
             "tickcolor": "rgb(36,36,36)",
             "ticks": "outside"
            },
            "colorscale": [
             [
              0.0,
              "#440154"
             ],
             [
              0.1111111111111111,
              "#482878"
             ],
             [
              0.2222222222222222,
              "#3e4989"
             ],
             [
              0.3333333333333333,
              "#31688e"
             ],
             [
              0.4444444444444444,
              "#26828e"
             ],
             [
              0.5555555555555556,
              "#1f9e89"
             ],
             [
              0.6666666666666666,
              "#35b779"
             ],
             [
              0.7777777777777778,
              "#6ece58"
             ],
             [
              0.8888888888888888,
              "#b5de2b"
             ],
             [
              1.0,
              "#fde725"
             ]
            ],
            "type": "surface"
           }
          ],
          "table": [
           {
            "cells": {
             "fill": {
              "color": "rgb(237,237,237)"
             },
             "line": {
              "color": "white"
             }
            },
            "header": {
             "fill": {
              "color": "rgb(217,217,217)"
             },
             "line": {
              "color": "white"
             }
            },
            "type": "table"
           }
          ]
         },
         "layout": {
          "annotationdefaults": {
           "arrowhead": 0,
           "arrowwidth": 1
          },
          "autotypenumbers": "strict",
          "coloraxis": {
           "colorbar": {
            "outlinewidth": 1,
            "tickcolor": "rgb(36,36,36)",
            "ticks": "outside"
           }
          },
          "colorscale": {
           "diverging": [
            [
             0.0,
             "rgb(103,0,31)"
            ],
            [
             0.1,
             "rgb(178,24,43)"
            ],
            [
             0.2,
             "rgb(214,96,77)"
            ],
            [
             0.3,
             "rgb(244,165,130)"
            ],
            [
             0.4,
             "rgb(253,219,199)"
            ],
            [
             0.5,
             "rgb(247,247,247)"
            ],
            [
             0.6,
             "rgb(209,229,240)"
            ],
            [
             0.7,
             "rgb(146,197,222)"
            ],
            [
             0.8,
             "rgb(67,147,195)"
            ],
            [
             0.9,
             "rgb(33,102,172)"
            ],
            [
             1.0,
             "rgb(5,48,97)"
            ]
           ],
           "sequential": [
            [
             0.0,
             "#440154"
            ],
            [
             0.1111111111111111,
             "#482878"
            ],
            [
             0.2222222222222222,
             "#3e4989"
            ],
            [
             0.3333333333333333,
             "#31688e"
            ],
            [
             0.4444444444444444,
             "#26828e"
            ],
            [
             0.5555555555555556,
             "#1f9e89"
            ],
            [
             0.6666666666666666,
             "#35b779"
            ],
            [
             0.7777777777777778,
             "#6ece58"
            ],
            [
             0.8888888888888888,
             "#b5de2b"
            ],
            [
             1.0,
             "#fde725"
            ]
           ],
           "sequentialminus": [
            [
             0.0,
             "#440154"
            ],
            [
             0.1111111111111111,
             "#482878"
            ],
            [
             0.2222222222222222,
             "#3e4989"
            ],
            [
             0.3333333333333333,
             "#31688e"
            ],
            [
             0.4444444444444444,
             "#26828e"
            ],
            [
             0.5555555555555556,
             "#1f9e89"
            ],
            [
             0.6666666666666666,
             "#35b779"
            ],
            [
             0.7777777777777778,
             "#6ece58"
            ],
            [
             0.8888888888888888,
             "#b5de2b"
            ],
            [
             1.0,
             "#fde725"
            ]
           ]
          },
          "colorway": [
           "#91268F",
           "#8CC63E",
           "#00A7A0",
           "#F05A28",
           "#4C4C4C",
           "#630460",
           "#9f3913",
           "#588527",
           "#00716c",
           "#3e4040"
          ],
          "font": {
           "color": "rgb(36,36,36)",
           "family": "Poppins",
           "size": 11
          },
          "geo": {
           "bgcolor": "white",
           "lakecolor": "white",
           "landcolor": "white",
           "showlakes": true,
           "showland": true,
           "subunitcolor": "white"
          },
          "hoverlabel": {
           "align": "left"
          },
          "hovermode": "closest",
          "mapbox": {
           "style": "light"
          },
          "paper_bgcolor": "white",
          "plot_bgcolor": "white",
          "polar": {
           "angularaxis": {
            "gridcolor": "rgb(232,232,232)",
            "linecolor": "rgb(36,36,36)",
            "showgrid": false,
            "showline": true,
            "ticks": "outside"
           },
           "bgcolor": "white",
           "radialaxis": {
            "gridcolor": "rgb(232,232,232)",
            "linecolor": "rgb(36,36,36)",
            "showgrid": false,
            "showline": true,
            "ticks": "outside"
           }
          },
          "scene": {
           "xaxis": {
            "backgroundcolor": "white",
            "gridcolor": "rgb(232,232,232)",
            "gridwidth": 2,
            "linecolor": "rgb(36,36,36)",
            "showbackground": true,
            "showgrid": false,
            "showline": true,
            "ticks": "outside",
            "zeroline": false,
            "zerolinecolor": "rgb(36,36,36)"
           },
           "yaxis": {
            "backgroundcolor": "white",
            "gridcolor": "rgb(232,232,232)",
            "gridwidth": 2,
            "linecolor": "rgb(36,36,36)",
            "showbackground": true,
            "showgrid": false,
            "showline": true,
            "ticks": "outside",
            "zeroline": false,
            "zerolinecolor": "rgb(36,36,36)"
           },
           "zaxis": {
            "backgroundcolor": "white",
            "gridcolor": "rgb(232,232,232)",
            "gridwidth": 2,
            "linecolor": "rgb(36,36,36)",
            "showbackground": true,
            "showgrid": false,
            "showline": true,
            "ticks": "outside",
            "zeroline": false,
            "zerolinecolor": "rgb(36,36,36)"
           }
          },
          "shapedefaults": {
           "fillcolor": "black",
           "line": {
            "width": 0
           },
           "opacity": 0.3
          },
          "ternary": {
           "aaxis": {
            "gridcolor": "rgb(232,232,232)",
            "linecolor": "rgb(36,36,36)",
            "showgrid": false,
            "showline": true,
            "ticks": "outside"
           },
           "baxis": {
            "gridcolor": "rgb(232,232,232)",
            "linecolor": "rgb(36,36,36)",
            "showgrid": false,
            "showline": true,
            "ticks": "outside"
           },
           "bgcolor": "white",
           "caxis": {
            "gridcolor": "rgb(232,232,232)",
            "linecolor": "rgb(36,36,36)",
            "showgrid": false,
            "showline": true,
            "ticks": "outside"
           }
          },
          "title": {
           "x": 0.05
          },
          "xaxis": {
           "automargin": true,
           "gridcolor": "rgb(232,232,232)",
           "linecolor": "rgb(36,36,36)",
           "showgrid": false,
           "showline": true,
           "ticks": "outside",
           "title": {
            "standoff": 15
           },
           "zeroline": false,
           "zerolinecolor": "rgb(36,36,36)"
          },
          "yaxis": {
           "automargin": true,
           "gridcolor": "rgb(232,232,232)",
           "linecolor": "rgb(36,36,36)",
           "showgrid": false,
           "showline": true,
           "ticks": "outside",
           "title": {
            "standoff": 15
           },
           "zeroline": false,
           "zerolinecolor": "rgb(36,36,36)"
          }
         }
        },
        "title": {
         "text": "Heavy Trucks: Snohomish"
        },
        "width": 800,
        "xaxis": {
         "anchor": "y",
         "domain": [
          0.0,
          1.0
         ],
         "title": {
          "text": "Observed"
         }
        },
        "yaxis": {
         "anchor": "x",
         "domain": [
          0.0,
          1.0
         ],
         "title": {
          "text": "Model"
         }
        }
       }
      },
      "text/html": [
       "<div>                            <div id=\"657032e5-5633-4478-980c-74e1250947ed\" class=\"plotly-graph-div\" style=\"height:600px; width:800px;\"></div>            <script type=\"text/javascript\">                require([\"plotly\"], function(Plotly) {                    window.PLOTLYENV=window.PLOTLYENV || {};                                    if (document.getElementById(\"657032e5-5633-4478-980c-74e1250947ed\")) {                    Plotly.newPlot(                        \"657032e5-5633-4478-980c-74e1250947ed\",                        [{\"customdata\":[[\"I-5 @ 44th NB\",\"Snohomish\"],[\"I-5 @ 44th SB\",\"Snohomish\"],[\"I-5 N\\u002fO 164th NB\",\"Snohomish\"],[\"I-5 N\\u002fO 164th SB\",\"Snohomish\"],[\"I-5 N\\u002fO SR-526 NB\",\"Snohomish\"],[\"I-5 N\\u002fO SR-526 SB\",\"Snohomish\"],[\"I-5 N\\u002fO 41st NB\",\"Snohomish\"],[\"I-5 N\\u002fO 41st SB\",\"Snohomish\"],[\"I-5 @ SR-528 NB\",\"Snohomish\"],[\"I-5 @ SR-528 SB\",\"Snohomish\"],[\"I-5 N\\u002fO SR-531 NB\",\"Snohomish\"],[\"I-5 N\\u002fO SR-531 SB\",\"Snohomish\"],[\"I-405 N\\u002fO SR-527 NB\",\"Snohomish\"],[\"I-405 N\\u002fO SR-527 SB\",\"Snohomish\"],[\"SR-525 N\\u002fO I-5 NB\",\"Snohomish\"],[\"SR-525 N\\u002fO I-5 SB\",\"Snohomish\"],[\"I-5 @ SR-532 NB\\u002fSB\",\"Snohomish\"],[\"I-5 @ Skagit border NB\\u002fSB\",\"Snohomish\"],[\"SR-525 N\\u002fO SR-526 NB\\u002fSB\",\"Snohomish\"],[\"SR-525 N\\u002fO 5th NB\\u002fSB\",\"Snohomish\"],[\"SR-99 E\\u002fO Evergreen NB\\u002fSB\",\"Snohomish\"],[\"SR-526 W\\u002fO Paine Field Blvd WB\\u002fEB\",\"Snohomish\"],[\"SR-526 E\\u002fO Paine Field Blvd WB\\u002fEB\",\"Snohomish\"],[\"SR-9 @ SR-522 NB\\u002fSB\",\"Snohomish\"],[\"SR-9 N\\u002fO SR-2 NB\\u002fSB\",\"Snohomish\"],[\"SR-9 N\\u002fO SR-204 NB\\u002fSB\",\"Snohomish\"],[\"SR-9 N\\u002fO SR-92 NB\\u002fSB\",\"Snohomish\"],[\"SR-9 N\\u002fO 132nd NB\\u002fSB\",\"Snohomish\"],[\"SR-9 N\\u002fO SR-531 NB\\u002fSB\",\"Snohomish\"],[\"SR-9 S\\u002fO 67th NB\\u002fSB\",\"Snohomish\"],[\"SR-9 N\\u002fO Kackman NB\\u002fSB\",\"Snohomish\"],[\"SR-9 N\\u002fO Stanwood-Bryant NB\\u002fSB\",\"Snohomish\"],[\"SR-532 @ Island County WB\\u002fEB\",\"Snohomish\"],[\"SR-532 W\\u002fO 28th WB\\u002fEB\",\"Snohomish\"],[\"SR-104 @ Ferry Loading Edm WB\\u002fEB\",\"Snohomish\"],[\"SR-104 N\\u002fO Pine WB\\u002fEB\",\"Snohomish\"],[\"SR-104 E\\u002fO 5th WB\\u002fEB\",\"Snohomish\"],[\"SR-524 W\\u002fO 3rd WB\\u002fEB\",\"Snohomish\"],[\"SR-524 S\\u002fO Main WB\\u002fEB\",\"Snohomish\"],[\"SR-524 N\\u002fO Main WB\\u002fEB\",\"Snohomish\"],[\"SR-524 E\\u002fO 68th WB\\u002fEB\",\"Snohomish\"],[\"SR-524 E\\u002fO 39th WB\\u002fEB\",\"Snohomish\"],[\"SR-524 N\\u002fO Paradise Lake WB\\u002fEB\",\"Snohomish\"],[\"SR-2 E\\u002fO I-5 WB\\u002fEB\",\"Snohomish\"],[\"SR-2 S\\u002fO SR-204 WB\\u002fEB\",\"Snohomish\"],[\"SR-2 E\\u002fO Main WB\\u002fEB\",\"Snohomish\"],[\"SR-2 E\\u002fO Rice WB\\u002fEB\",\"Snohomish\"],[\"SR-2 E\\u002fO 10th (Gold Bar) WB\\u002fEB\",\"Snohomish\"],[\"SR-2 W\\u002fO Index-Galena WB\\u002fEB\",\"Snohomish\"],[\"SR-2 E\\u002fO Index-Galena WB\\u002fEB\",\"Snohomish\"],[\"SR-527 N\\u002fO I-405 NB\\u002fSB\",\"Snohomish\"],[\"SR-527 N\\u002fO 196th NB\\u002fSB\",\"Snohomish\"],[\"SR-527 N\\u002fO Dumas NB\\u002fSB\",\"Snohomish\"],[\"SR-527 N\\u002fO 100th NB\\u002fSB\",\"Snohomish\"],[\"SR-529 @ I-5 (Evt) NB\\u002fSB\",\"Snohomish\"],[\"SR-529 S\\u002fO Everett NB\\u002fSB\",\"Snohomish\"],[\"SR-529 W\\u002fO Maple NB\\u002fSB\",\"Snohomish\"],[\"SR-529 N\\u002fO Everett NB\\u002fSB\",\"Snohomish\"],[\"SR-529 N\\u002fO Broadway NB\\u002fSB\",\"Snohomish\"],[\"SR-96 @ I-5 WB\\u002fEB\",\"Snohomish\"],[\"SR-96 N\\u002fO 132nd WB\\u002fEB\",\"Snohomish\"],[\"SR-96 E\\u002fO Seattle Hill WB\\u002fEB\",\"Snohomish\"],[\"SR-528 @ I-5 WB\\u002fEB\",\"Snohomish\"],[\"SR-528 E\\u002fO SR-529 WB\\u002fEB\",\"Snohomish\"],[\"SR-531 N\\u002fO Rose WB\\u002fEB\",\"Snohomish\"],[\"SR-531 E\\u002fO Lk Goodwin WB\\u002fEB\",\"Snohomish\"],[\"SR-531 E\\u002fO 27th WB\\u002fEB\",\"Snohomish\"],[\"SR-531 E\\u002fO I-5 WB\\u002fEB\",\"Snohomish\"],[\"SR-531 E\\u002fO 43rd WB\\u002fEB\",\"Snohomish\"],[\"SR-531 W\\u002fO 67th WB\\u002fEB\",\"Snohomish\"],[\"SR-531 E\\u002fO 67th WB\\u002fEB\",\"Snohomish\"],[\"SR-530 @ I-5 WB\\u002fEB\",\"Snohomish\"],[\"SR-530 E\\u002fO Smokey Pt WB\\u002fEB\",\"Snohomish\"],[\"SR-530 N\\u002fO 211th WB\\u002fEB\",\"Snohomish\"],[\"SR-530 E\\u002fO SR-9 WB\\u002fEB\",\"Snohomish\"],[\"SR-530 W\\u002fO Arlington Hts WB\\u002fEB\",\"Snohomish\"],[\"SR-530 E\\u002fO Arlington Hts WB\\u002fEB\",\"Snohomish\"],[\"SR-530 W\\u002fO Jim Creek WB\\u002fEB\",\"Snohomish\"],[\"SR-530 W\\u002fO Ramstad WB\\u002fEB\",\"Snohomish\"],[\"SR-530 @ Skagit County WB\\u002fEB\",\"Snohomish\"],[\"SR-203 N\\u002fO 203rd NB\\u002fSB\",\"Snohomish\"],[\"SR-204 @ SR-2 NB\\u002fSB\",\"Snohomish\"],[\"SR-204 N\\u002fO 20th NB\\u002fSB\",\"Snohomish\"],[\"SR-204 N\\u002fO SR-2 NB\\u002fSB\",\"Snohomish\"],[\"SR-92 E\\u002fO Lake WB\\u002fEB\",\"Snohomish\"],[\"SR-92 E\\u002fO Callow WB\\u002fEB\",\"Snohomish\"],[\"SR-92 E\\u002fO Quarry WB\\u002fEB\",\"Snohomish\"],[\"SR-92 W\\u002fO Mountain Loop WB\\u002fEB\",\"Snohomish\"]],\"hovertemplate\":\"Observed=%{x}\\u003cbr\\u003eModel=%{y}\\u003cbr\\u003elocation=%{customdata[0]}\\u003cbr\\u003eCounty=%{customdata[1]}\\u003cextra\\u003e\\u003c\\u002fextra\\u003e\",\"legendgroup\":\"\",\"marker\":{\"color\":\"#91268F\",\"symbol\":\"circle\"},\"mode\":\"markers\",\"name\":\"\",\"orientation\":\"v\",\"showlegend\":false,\"x\":[2931,2951,3252,3274,3206,3377,2734,3167,3043,3126,2304,2316,1355,1425,403,274,4052,4113,173,48,123,99,92,699,285,653,317,372,169,229,167,82,309,328,59,55,72,8,6,6,76,176,507,891,874,506,420,444,243,192,265,279,44,156,88,49,65,84,825,220,42,62,260,330,18,99,429,697,696,340,182,705,609,464,400,403,383,380,299,47,408,58,55,400,494,448,60,718],\"xaxis\":\"x\",\"y\":[5111,5308,6411,6317,6049,5973,5969,5880,5134,5095,4053,4032,2267,1893,827,713,7193,7046,107,117,0,2,64,409,336,500,582,150,47,47,145,188,112,119,0,33,33,2,1,4,9,23,180,823,597,1901,2011,1990,1990,1883,65,57,1,9,120,62,11,112,26,79,24,3,752,222,0,7,168,1310,1239,90,103,154,243,232,84,135,134,134,134,1,520,17,37,254,217,217,0,62],\"yaxis\":\"y\",\"type\":\"scatter\",\"line\":{\"color\":\"Grey\",\"width\":2}},{\"hovertemplate\":\"Observed=%{x}\\u003cbr\\u003eModel=%{y}\\u003cextra\\u003e\\u003c\\u002fextra\\u003e\",\"legendgroup\":\"\",\"line\":{\"color\":\"Grey\",\"dash\":\"solid\",\"width\":2},\"marker\":{\"symbol\":\"circle\"},\"mode\":\"lines\",\"name\":\"\",\"orientation\":\"v\",\"showlegend\":false,\"x\":[0.0,41.54545454545455,83.0909090909091,124.63636363636364,166.1818181818182,207.72727272727275,249.27272727272728,290.8181818181818,332.3636363636364,373.90909090909093,415.4545454545455,457.0,498.54545454545456,540.0909090909091,581.6363636363636,623.1818181818182,664.7272727272727,706.2727272727273,747.8181818181819,789.3636363636364,830.909090909091,872.4545454545455,914.0,955.5454545454546,997.0909090909091,1038.6363636363637,1080.1818181818182,1121.7272727272727,1163.2727272727273,1204.8181818181818,1246.3636363636365,1287.909090909091,1329.4545454545455,1371.0,1412.5454545454545,1454.0909090909092,1495.6363636363637,1537.1818181818182,1578.7272727272727,1620.2727272727273,1661.818181818182,1703.3636363636365,1744.909090909091,1786.4545454545455,1828.0,1869.5454545454545,1911.0909090909092,1952.6363636363637,1994.1818181818182,2035.7272727272727,2077.2727272727275,2118.818181818182,2160.3636363636365,2201.909090909091,2243.4545454545455,2285.0,2326.5454545454545,2368.090909090909,2409.6363636363635,2451.1818181818185,2492.727272727273,2534.2727272727275,2575.818181818182,2617.3636363636365,2658.909090909091,2700.4545454545455,2742.0,2783.5454545454545,2825.090909090909,2866.6363636363635,2908.1818181818185,2949.727272727273,2991.2727272727275,3032.818181818182,3074.3636363636365,3115.909090909091,3157.4545454545455,3199.0,3240.5454545454545,3282.090909090909,3323.636363636364,3365.1818181818185,3406.727272727273,3448.2727272727275,3489.818181818182,3531.3636363636365,3572.909090909091,3614.4545454545455,3656.0,3697.5454545454545,3739.090909090909,3780.636363636364,3822.1818181818185,3863.727272727273,3905.2727272727275,3946.818181818182,3988.3636363636365,4029.909090909091,4071.4545454545455,4113.0],\"xaxis\":\"x\",\"y\":[-197.47845586864514,-121.15282761660548,-44.827199364565814,31.498428887473835,107.82405713951351,184.1496853915532,260.4753136435928,336.8009418956325,413.12657014767217,489.45219839971185,565.7778266517515,642.1034549037911,718.4290831558308,794.7547114078704,871.0803396599101,947.4059679119498,1023.7315961639895,1100.057224416029,1176.3828526680688,1252.7084809201083,1329.0341091721482,1405.3597374241876,1481.6853656762273,1558.0109939282672,1634.3366221803067,1710.6622504323466,1786.987878684386,1863.3135069364257,1939.6391351884654,2015.9647634405046,2092.2903916925447,2168.6160199445844,2244.941648196624,2321.267276448664,2397.592904700703,2473.918532952743,2550.244161204783,2626.5697894568225,2702.8954177088617,2779.2210459609014,2855.5466742129415,2931.872302464981,3008.1979307170204,3084.52355896906,3160.8491872211,3237.1748154731395,3313.5004437251796,3389.826071977219,3466.1517002292585,3542.477328481298,3618.8029567333383,3695.1285849853775,3771.454213237417,3847.779841489457,3924.1054697414966,4000.4310979935362,4076.756726245576,4153.082354497616,4229.407982749654,4305.733611001695,4382.059239253735,4458.384867505774,4534.710495757814,4611.036124009854,4687.361752261893,4763.687380513933,4840.013008765973,4916.3386370180115,4992.664265270051,5068.989893522091,5145.315521774131,5221.641150026171,5297.966778278211,5374.29240653025,5450.61803478229,5526.94366303433,5603.269291286369,5679.594919538408,5755.920547790448,5832.246176042488,5908.571804294528,5984.897432546568,6061.223060798608,6137.548689050647,6213.874317302686,6290.199945554726,6366.525573806765,6442.851202058805,6519.176830310845,6595.502458562884,6671.828086814924,6748.153715066965,6824.479343319004,6900.804971571043,6977.130599823083,7053.456228075122,7129.781856327162,7206.107484579202,7282.4331128312415,7358.758741083281],\"yaxis\":\"y\",\"type\":\"scatter\"}],                        {\"template\":{\"data\":{\"barpolar\":[{\"marker\":{\"line\":{\"color\":\"white\",\"width\":0.5},\"pattern\":{\"fillmode\":\"overlay\",\"size\":10,\"solidity\":0.2}},\"type\":\"barpolar\"}],\"bar\":[{\"error_x\":{\"color\":\"rgb(36,36,36)\"},\"error_y\":{\"color\":\"rgb(36,36,36)\"},\"marker\":{\"line\":{\"color\":\"white\",\"width\":0.5},\"pattern\":{\"fillmode\":\"overlay\",\"size\":10,\"solidity\":0.2}},\"type\":\"bar\"}],\"carpet\":[{\"aaxis\":{\"endlinecolor\":\"rgb(36,36,36)\",\"gridcolor\":\"white\",\"linecolor\":\"white\",\"minorgridcolor\":\"white\",\"startlinecolor\":\"rgb(36,36,36)\"},\"baxis\":{\"endlinecolor\":\"rgb(36,36,36)\",\"gridcolor\":\"white\",\"linecolor\":\"white\",\"minorgridcolor\":\"white\",\"startlinecolor\":\"rgb(36,36,36)\"},\"type\":\"carpet\"}],\"choropleth\":[{\"colorbar\":{\"outlinewidth\":1,\"tickcolor\":\"rgb(36,36,36)\",\"ticks\":\"outside\"},\"type\":\"choropleth\"}],\"contourcarpet\":[{\"colorbar\":{\"outlinewidth\":1,\"tickcolor\":\"rgb(36,36,36)\",\"ticks\":\"outside\"},\"type\":\"contourcarpet\"}],\"contour\":[{\"colorbar\":{\"outlinewidth\":1,\"tickcolor\":\"rgb(36,36,36)\",\"ticks\":\"outside\"},\"colorscale\":[[0.0,\"#440154\"],[0.1111111111111111,\"#482878\"],[0.2222222222222222,\"#3e4989\"],[0.3333333333333333,\"#31688e\"],[0.4444444444444444,\"#26828e\"],[0.5555555555555556,\"#1f9e89\"],[0.6666666666666666,\"#35b779\"],[0.7777777777777778,\"#6ece58\"],[0.8888888888888888,\"#b5de2b\"],[1.0,\"#fde725\"]],\"type\":\"contour\"}],\"heatmapgl\":[{\"colorbar\":{\"outlinewidth\":1,\"tickcolor\":\"rgb(36,36,36)\",\"ticks\":\"outside\"},\"colorscale\":[[0.0,\"#440154\"],[0.1111111111111111,\"#482878\"],[0.2222222222222222,\"#3e4989\"],[0.3333333333333333,\"#31688e\"],[0.4444444444444444,\"#26828e\"],[0.5555555555555556,\"#1f9e89\"],[0.6666666666666666,\"#35b779\"],[0.7777777777777778,\"#6ece58\"],[0.8888888888888888,\"#b5de2b\"],[1.0,\"#fde725\"]],\"type\":\"heatmapgl\"}],\"heatmap\":[{\"colorbar\":{\"outlinewidth\":1,\"tickcolor\":\"rgb(36,36,36)\",\"ticks\":\"outside\"},\"colorscale\":[[0.0,\"#440154\"],[0.1111111111111111,\"#482878\"],[0.2222222222222222,\"#3e4989\"],[0.3333333333333333,\"#31688e\"],[0.4444444444444444,\"#26828e\"],[0.5555555555555556,\"#1f9e89\"],[0.6666666666666666,\"#35b779\"],[0.7777777777777778,\"#6ece58\"],[0.8888888888888888,\"#b5de2b\"],[1.0,\"#fde725\"]],\"type\":\"heatmap\"}],\"histogram2dcontour\":[{\"colorbar\":{\"outlinewidth\":1,\"tickcolor\":\"rgb(36,36,36)\",\"ticks\":\"outside\"},\"colorscale\":[[0.0,\"#440154\"],[0.1111111111111111,\"#482878\"],[0.2222222222222222,\"#3e4989\"],[0.3333333333333333,\"#31688e\"],[0.4444444444444444,\"#26828e\"],[0.5555555555555556,\"#1f9e89\"],[0.6666666666666666,\"#35b779\"],[0.7777777777777778,\"#6ece58\"],[0.8888888888888888,\"#b5de2b\"],[1.0,\"#fde725\"]],\"type\":\"histogram2dcontour\"}],\"histogram2d\":[{\"colorbar\":{\"outlinewidth\":1,\"tickcolor\":\"rgb(36,36,36)\",\"ticks\":\"outside\"},\"colorscale\":[[0.0,\"#440154\"],[0.1111111111111111,\"#482878\"],[0.2222222222222222,\"#3e4989\"],[0.3333333333333333,\"#31688e\"],[0.4444444444444444,\"#26828e\"],[0.5555555555555556,\"#1f9e89\"],[0.6666666666666666,\"#35b779\"],[0.7777777777777778,\"#6ece58\"],[0.8888888888888888,\"#b5de2b\"],[1.0,\"#fde725\"]],\"type\":\"histogram2d\"}],\"histogram\":[{\"marker\":{\"line\":{\"color\":\"white\",\"width\":0.6}},\"type\":\"histogram\"}],\"mesh3d\":[{\"colorbar\":{\"outlinewidth\":1,\"tickcolor\":\"rgb(36,36,36)\",\"ticks\":\"outside\"},\"type\":\"mesh3d\"}],\"parcoords\":[{\"line\":{\"colorbar\":{\"outlinewidth\":1,\"tickcolor\":\"rgb(36,36,36)\",\"ticks\":\"outside\"}},\"type\":\"parcoords\"}],\"pie\":[{\"automargin\":true,\"type\":\"pie\"}],\"scatter3d\":[{\"line\":{\"colorbar\":{\"outlinewidth\":1,\"tickcolor\":\"rgb(36,36,36)\",\"ticks\":\"outside\"}},\"marker\":{\"colorbar\":{\"outlinewidth\":1,\"tickcolor\":\"rgb(36,36,36)\",\"ticks\":\"outside\"}},\"type\":\"scatter3d\"}],\"scattercarpet\":[{\"marker\":{\"colorbar\":{\"outlinewidth\":1,\"tickcolor\":\"rgb(36,36,36)\",\"ticks\":\"outside\"}},\"type\":\"scattercarpet\"}],\"scattergeo\":[{\"marker\":{\"colorbar\":{\"outlinewidth\":1,\"tickcolor\":\"rgb(36,36,36)\",\"ticks\":\"outside\"}},\"type\":\"scattergeo\"}],\"scattergl\":[{\"marker\":{\"colorbar\":{\"outlinewidth\":1,\"tickcolor\":\"rgb(36,36,36)\",\"ticks\":\"outside\"}},\"type\":\"scattergl\"}],\"scattermapbox\":[{\"marker\":{\"colorbar\":{\"outlinewidth\":1,\"tickcolor\":\"rgb(36,36,36)\",\"ticks\":\"outside\"}},\"type\":\"scattermapbox\"}],\"scatterpolargl\":[{\"marker\":{\"colorbar\":{\"outlinewidth\":1,\"tickcolor\":\"rgb(36,36,36)\",\"ticks\":\"outside\"}},\"type\":\"scatterpolargl\"}],\"scatterpolar\":[{\"marker\":{\"colorbar\":{\"outlinewidth\":1,\"tickcolor\":\"rgb(36,36,36)\",\"ticks\":\"outside\"}},\"type\":\"scatterpolar\"}],\"scatter\":[{\"fillpattern\":{\"fillmode\":\"overlay\",\"size\":10,\"solidity\":0.2},\"type\":\"scatter\"}],\"scatterternary\":[{\"marker\":{\"colorbar\":{\"outlinewidth\":1,\"tickcolor\":\"rgb(36,36,36)\",\"ticks\":\"outside\"}},\"type\":\"scatterternary\"}],\"surface\":[{\"colorbar\":{\"outlinewidth\":1,\"tickcolor\":\"rgb(36,36,36)\",\"ticks\":\"outside\"},\"colorscale\":[[0.0,\"#440154\"],[0.1111111111111111,\"#482878\"],[0.2222222222222222,\"#3e4989\"],[0.3333333333333333,\"#31688e\"],[0.4444444444444444,\"#26828e\"],[0.5555555555555556,\"#1f9e89\"],[0.6666666666666666,\"#35b779\"],[0.7777777777777778,\"#6ece58\"],[0.8888888888888888,\"#b5de2b\"],[1.0,\"#fde725\"]],\"type\":\"surface\"}],\"table\":[{\"cells\":{\"fill\":{\"color\":\"rgb(237,237,237)\"},\"line\":{\"color\":\"white\"}},\"header\":{\"fill\":{\"color\":\"rgb(217,217,217)\"},\"line\":{\"color\":\"white\"}},\"type\":\"table\"}]},\"layout\":{\"annotationdefaults\":{\"arrowhead\":0,\"arrowwidth\":1},\"autotypenumbers\":\"strict\",\"coloraxis\":{\"colorbar\":{\"outlinewidth\":1,\"tickcolor\":\"rgb(36,36,36)\",\"ticks\":\"outside\"}},\"colorscale\":{\"diverging\":[[0.0,\"rgb(103,0,31)\"],[0.1,\"rgb(178,24,43)\"],[0.2,\"rgb(214,96,77)\"],[0.3,\"rgb(244,165,130)\"],[0.4,\"rgb(253,219,199)\"],[0.5,\"rgb(247,247,247)\"],[0.6,\"rgb(209,229,240)\"],[0.7,\"rgb(146,197,222)\"],[0.8,\"rgb(67,147,195)\"],[0.9,\"rgb(33,102,172)\"],[1.0,\"rgb(5,48,97)\"]],\"sequential\":[[0.0,\"#440154\"],[0.1111111111111111,\"#482878\"],[0.2222222222222222,\"#3e4989\"],[0.3333333333333333,\"#31688e\"],[0.4444444444444444,\"#26828e\"],[0.5555555555555556,\"#1f9e89\"],[0.6666666666666666,\"#35b779\"],[0.7777777777777778,\"#6ece58\"],[0.8888888888888888,\"#b5de2b\"],[1.0,\"#fde725\"]],\"sequentialminus\":[[0.0,\"#440154\"],[0.1111111111111111,\"#482878\"],[0.2222222222222222,\"#3e4989\"],[0.3333333333333333,\"#31688e\"],[0.4444444444444444,\"#26828e\"],[0.5555555555555556,\"#1f9e89\"],[0.6666666666666666,\"#35b779\"],[0.7777777777777778,\"#6ece58\"],[0.8888888888888888,\"#b5de2b\"],[1.0,\"#fde725\"]]},\"colorway\":[\"#91268F\",\"#8CC63E\",\"#00A7A0\",\"#F05A28\",\"#4C4C4C\",\"#630460\",\"#9f3913\",\"#588527\",\"#00716c\",\"#3e4040\"],\"font\":{\"color\":\"rgb(36,36,36)\",\"family\":\"Poppins\",\"size\":11},\"geo\":{\"bgcolor\":\"white\",\"lakecolor\":\"white\",\"landcolor\":\"white\",\"showlakes\":true,\"showland\":true,\"subunitcolor\":\"white\"},\"hoverlabel\":{\"align\":\"left\"},\"hovermode\":\"closest\",\"mapbox\":{\"style\":\"light\"},\"paper_bgcolor\":\"white\",\"plot_bgcolor\":\"white\",\"polar\":{\"angularaxis\":{\"gridcolor\":\"rgb(232,232,232)\",\"linecolor\":\"rgb(36,36,36)\",\"showgrid\":false,\"showline\":true,\"ticks\":\"outside\"},\"bgcolor\":\"white\",\"radialaxis\":{\"gridcolor\":\"rgb(232,232,232)\",\"linecolor\":\"rgb(36,36,36)\",\"showgrid\":false,\"showline\":true,\"ticks\":\"outside\"}},\"scene\":{\"xaxis\":{\"backgroundcolor\":\"white\",\"gridcolor\":\"rgb(232,232,232)\",\"gridwidth\":2,\"linecolor\":\"rgb(36,36,36)\",\"showbackground\":true,\"showgrid\":false,\"showline\":true,\"ticks\":\"outside\",\"zeroline\":false,\"zerolinecolor\":\"rgb(36,36,36)\"},\"yaxis\":{\"backgroundcolor\":\"white\",\"gridcolor\":\"rgb(232,232,232)\",\"gridwidth\":2,\"linecolor\":\"rgb(36,36,36)\",\"showbackground\":true,\"showgrid\":false,\"showline\":true,\"ticks\":\"outside\",\"zeroline\":false,\"zerolinecolor\":\"rgb(36,36,36)\"},\"zaxis\":{\"backgroundcolor\":\"white\",\"gridcolor\":\"rgb(232,232,232)\",\"gridwidth\":2,\"linecolor\":\"rgb(36,36,36)\",\"showbackground\":true,\"showgrid\":false,\"showline\":true,\"ticks\":\"outside\",\"zeroline\":false,\"zerolinecolor\":\"rgb(36,36,36)\"}},\"shapedefaults\":{\"fillcolor\":\"black\",\"line\":{\"width\":0},\"opacity\":0.3},\"ternary\":{\"aaxis\":{\"gridcolor\":\"rgb(232,232,232)\",\"linecolor\":\"rgb(36,36,36)\",\"showgrid\":false,\"showline\":true,\"ticks\":\"outside\"},\"baxis\":{\"gridcolor\":\"rgb(232,232,232)\",\"linecolor\":\"rgb(36,36,36)\",\"showgrid\":false,\"showline\":true,\"ticks\":\"outside\"},\"bgcolor\":\"white\",\"caxis\":{\"gridcolor\":\"rgb(232,232,232)\",\"linecolor\":\"rgb(36,36,36)\",\"showgrid\":false,\"showline\":true,\"ticks\":\"outside\"}},\"title\":{\"x\":0.05},\"xaxis\":{\"automargin\":true,\"gridcolor\":\"rgb(232,232,232)\",\"linecolor\":\"rgb(36,36,36)\",\"showgrid\":false,\"showline\":true,\"ticks\":\"outside\",\"title\":{\"standoff\":15},\"zeroline\":false,\"zerolinecolor\":\"rgb(36,36,36)\"},\"yaxis\":{\"automargin\":true,\"gridcolor\":\"rgb(232,232,232)\",\"linecolor\":\"rgb(36,36,36)\",\"showgrid\":false,\"showline\":true,\"ticks\":\"outside\",\"title\":{\"standoff\":15},\"zeroline\":false,\"zerolinecolor\":\"rgb(36,36,36)\"}}},\"xaxis\":{\"anchor\":\"y\",\"domain\":[0.0,1.0],\"title\":{\"text\":\"Observed\"}},\"yaxis\":{\"anchor\":\"x\",\"domain\":[0.0,1.0],\"title\":{\"text\":\"Model\"}},\"legend\":{\"tracegroupgap\":0},\"title\":{\"text\":\"Heavy Trucks: Snohomish\"},\"margin\":{\"l\":100,\"r\":100,\"t\":100,\"b\":100},\"height\":600,\"width\":800,\"shapes\":[{\"line\":{\"color\":\"Red\",\"dash\":\"dash\",\"width\":2},\"type\":\"line\",\"x0\":0,\"x1\":7193,\"y0\":0,\"y1\":7193}],\"annotations\":[{\"align\":\"right\",\"font\":{\"color\":\"pink\",\"size\":12},\"showarrow\":false,\"text\":\"y = x\",\"x\":7552.650000000001,\"y\":7552.650000000001},{\"align\":\"right\",\"font\":{\"color\":\"black\",\"size\":12},\"showarrow\":false,\"text\":\"r^2 = 0.94\",\"x\":4318.650000000001,\"y\":7726.696678137446}]},                        {\"responsive\": true}                    ).then(function(){\n",
       "                            \n",
       "var gd = document.getElementById('657032e5-5633-4478-980c-74e1250947ed');\n",
       "var x = new MutationObserver(function (mutations, observer) {{\n",
       "        var display = window.getComputedStyle(gd).display;\n",
       "        if (!display || display === 'none') {{\n",
       "            console.log([gd, 'removed!']);\n",
       "            Plotly.purge(gd);\n",
       "            observer.disconnect();\n",
       "        }}\n",
       "}});\n",
       "\n",
       "// Listen for the removal of the full notebook cells\n",
       "var notebookContainer = gd.closest('#notebook-container');\n",
       "if (notebookContainer) {{\n",
       "    x.observe(notebookContainer, {childList: true});\n",
       "}}\n",
       "\n",
       "// Listen for the clearing of the current output cell\n",
       "var outputEl = gd.closest('.output');\n",
       "if (outputEl) {{\n",
       "    x.observe(outputEl, {childList: true});\n",
       "}}\n",
       "\n",
       "                        })                };                });            </script>        </div>"
      ]
     },
     "metadata": {},
     "output_type": "display_data"
    }
   ],
   "source": [
    "fig = create_truck_chart(df_daily_heavy, 'Heavy', 'Snohomish')\n",
    "fig.show()"
   ]
  },
  {
   "cell_type": "raw",
   "id": "f8527f4f",
   "metadata": {
    "vscode": {
     "languageId": "raw"
    }
   },
   "source": [
    ":::"
   ]
  },
  {
   "cell_type": "markdown",
   "id": "0182397d",
   "metadata": {},
   "source": [
    "### Medium Truck Counts"
   ]
  },
  {
   "cell_type": "raw",
   "id": "076ed585",
   "metadata": {},
   "source": [
    ":::{.panel-tabset}\n",
    "\n",
    "#### Region"
   ]
  },
  {
   "cell_type": "code",
   "execution_count": 29,
   "id": "642f14ef",
   "metadata": {},
   "outputs": [
    {
     "data": {
      "application/vnd.plotly.v1+json": {
       "config": {
        "plotlyServerURL": "https://plot.ly"
       },
       "data": [
        {
         "customdata": [
          [
           "I-5 S/O Mounts NB",
           "Pierce"
          ],
          [
           "I-5 S/O Mounts SB",
           "Pierce"
          ],
          [
           "I-5 S/O Division NB",
           "Pierce"
          ],
          [
           "I-5 S/O Division SB",
           "Pierce"
          ],
          [
           "I-5 @ N/O Division NB",
           "Pierce"
          ],
          [
           "I-5 @ N/O Division SB",
           "Pierce"
          ],
          [
           "I-5 S/O SR-512 NB",
           "Pierce"
          ],
          [
           "I-5 S/O SR-512 SB",
           "Pierce"
          ],
          [
           "I-5 N/O SR-512 NB",
           "Pierce"
          ],
          [
           "I-5 N/O SR-512 SB",
           "Pierce"
          ],
          [
           "I-5 N/O 56th NB",
           "Pierce"
          ],
          [
           "I-5 N/O 56th SB",
           "Pierce"
          ],
          [
           "I-5 E/O SR-16 NB",
           "Pierce"
          ],
          [
           "I-5 E/O SR-16 SB",
           "Pierce"
          ],
          [
           "I-5 E/O Port of Tacoma NB",
           "Pierce"
          ],
          [
           "I-5 E/O Port of Tacoma SB (HOV from 56)",
           "Pierce"
          ],
          [
           "I-5 S/O 205th NB",
           "King"
          ],
          [
           "I-5 S/O 205th SB",
           "King"
          ],
          [
           "I-5 @ 44th NB",
           "Snohomish"
          ],
          [
           "I-5 @ 44th SB",
           "Snohomish"
          ],
          [
           "I-5 N/O 164th NB",
           "Snohomish"
          ],
          [
           "I-5 N/O 164th SB",
           "Snohomish"
          ],
          [
           "I-5 N/O SR-526 NB",
           "Snohomish"
          ],
          [
           "I-5 N/O SR-526 SB",
           "Snohomish"
          ],
          [
           "I-5 N/O 41st NB",
           "Snohomish"
          ],
          [
           "I-5 N/O 41st SB",
           "Snohomish"
          ],
          [
           "I-5 @ SR-528 NB",
           "Snohomish"
          ],
          [
           "I-5 @ SR-528 SB",
           "Snohomish"
          ],
          [
           "I-5 N/O SR-531 NB",
           "Snohomish"
          ],
          [
           "I-5 N/O SR-531 SB",
           "Snohomish"
          ],
          [
           "I-5 Rev N/O I-5 GP NB/SB",
           "King"
          ],
          [
           "I-90 E/O I-5 WB",
           "King"
          ],
          [
           "I-90 E/O I-5 EB",
           "King"
          ],
          [
           "I-90 E/O W Lk Sam WB",
           "King"
          ],
          [
           "I-90 E/O W Lk Sam EB",
           "King"
          ],
          [
           "I-90 E/O SR-900 WB",
           "King"
          ],
          [
           "I-405 @ I-5 Southcenter NB",
           "King"
          ],
          [
           "I-405 @ I-5 Southcenter SB",
           "King"
          ],
          [
           "I-405 @ Lake Wash Blvd NB",
           "King"
          ],
          [
           "I-405 @ I-90 NB",
           "King"
          ],
          [
           "I-405 @ I-90 SB",
           "King"
          ],
          [
           "I-405 N/O SR-527 NB",
           "Snohomish"
          ],
          [
           "I-405 N/O SR-527 SB",
           "Snohomish"
          ],
          [
           "SR-525 N/O I-5 NB",
           "Snohomish"
          ],
          [
           "SR-525 N/O I-5 SB",
           "Snohomish"
          ],
          [
           "SR-520 @ x-lake bridge WB",
           "King"
          ],
          [
           "SR-520 @ x-lake bridge EB",
           "King"
          ],
          [
           "SR-167 S/O 43rd NB",
           "King"
          ],
          [
           "SR-167 S/O 43rd SB",
           "King"
          ],
          [
           "SR-167 N/O SR-18 NB",
           "King"
          ],
          [
           "SR-167 N/O SR-18 SB",
           "King"
          ],
          [
           "SR-167 S/O 15th SW NB",
           "King"
          ],
          [
           "SR-167 S/O 15th SW SB",
           "King"
          ],
          [
           "SR-512 W/O Meridian WB",
           "Pierce"
          ],
          [
           "SR-512 W/O Meridian EB",
           "Pierce"
          ],
          [
           "SR-509 @ Holden NB",
           "King"
          ],
          [
           "SR-509 @ Holden SB",
           "King"
          ],
          [
           "SR-99 N/O 14th NB",
           "King"
          ],
          [
           "SR-99 N/O 14th SB",
           "King"
          ],
          [
           "SR-99 N/O WSF NB",
           "King"
          ],
          [
           "SR-99 N/O WSF SB",
           "King"
          ],
          [
           "SR-99 tunnel NB",
           "King"
          ],
          [
           "SR-99 tunnel SB",
           "King"
          ],
          [
           "SR-599 S/O Pacific NB",
           "King"
          ],
          [
           "SR-599 S/O Pacific SB",
           "King"
          ],
          [
           "SR-599 @ Pacific NB",
           "King"
          ],
          [
           "SR-599 @ Pacific SB",
           "King"
          ],
          [
           "SR-18 @ I-5 WB",
           "King"
          ],
          [
           "SR-18 @ I-5 EB",
           "King"
          ],
          [
           "SR-18 W/O Auburn-Black Diamond WB",
           "King"
          ],
          [
           "SR-18 W/O Auburn-Black Diamond EB",
           "King"
          ],
          [
           "SR-18 E/O SR-516 WB",
           "King"
          ],
          [
           "SR-18 E/O SR-516 EB",
           "King"
          ],
          [
           "SR-18 E/O 256th WB",
           "King"
          ],
          [
           "SR-18 E/O 256th EB",
           "King"
          ],
          [
           "SR-522 N/O 195th WB",
           "King"
          ],
          [
           "SR-522 N/O 195th EB",
           "King"
          ],
          [
           "I-5 N/O I-5 Rev CBD NB/SB",
           "King"
          ],
          [
           "I-5 @ SR-532 NB/SB",
           "Snohomish"
          ],
          [
           "I-5 @ Skagit border NB/SB",
           "Snohomish"
          ],
          [
           "I-90 W/O SR-18 WB/EB",
           "King"
          ],
          [
           "I-90 E/O SR-18 WB/EB",
           "King"
          ],
          [
           "I-90 E/O 436th WB/EB",
           "King"
          ],
          [
           "I-90 @ Kittitas County WB/EB",
           "King"
          ],
          [
           "I-405 N/O SR-522 NB/SB",
           "King"
          ],
          [
           "SR-525 N/O SR-526 NB/SB",
           "Snohomish"
          ],
          [
           "SR-525 N/O 5th NB/SB",
           "Snohomish"
          ],
          [
           "SR-167 N/O Grady NB/SB",
           "King"
          ],
          [
           "SR-167 W/O SR-410 NB/SB",
           "Pierce"
          ],
          [
           "SR-167 E/O SR-161 NB/SB",
           "Pierce"
          ],
          [
           "SR-410 E/O S Prairie WB/EB",
           "Pierce"
          ],
          [
           "SR-410 E/O 244th WB/EB",
           "King"
          ],
          [
           "SR-410 E/O Farman WB/EB",
           "King"
          ],
          [
           "SR-410 @ Greenwater River WB/EB",
           "King"
          ],
          [
           "SR-410 E/O Chinook WB/EB",
           "Pierce"
          ],
          [
           "SR-410 W/O SR-123 WB/EB",
           "Pierce"
          ],
          [
           "SR-410 E/O SR-123 WB/EB",
           "Pierce"
          ],
          [
           "SR-512 @ I-5 WB/EB",
           "Pierce"
          ],
          [
           "SR-512 W/O SR-7 WB/EB",
           "Pierce"
          ],
          [
           "SR-512 S/O SR-167 WB/EB",
           "Pierce"
          ],
          [
           "SR-509 E/O I-705 NB/SB",
           "Pierce"
          ],
          [
           "SR-509 W/O Alexander NB/SB",
           "Pierce"
          ],
          [
           "SR-509 S/O 11th NB/SB",
           "Pierce"
          ],
          [
           "SR-509 N/O Hyada NB/SB",
           "Pierce"
          ],
          [
           "SR-509 E/O Soundview NB/SB",
           "Pierce"
          ],
          [
           "SR-509 E/O 47th NB/SB",
           "King"
          ],
          [
           "SR-509 E/O 21st NB/SB",
           "King"
          ],
          [
           "SR-509 W/O SR-516 NB/SB",
           "King"
          ],
          [
           "SR-509 W/O Des Moines Mem NB/SB",
           "King"
          ],
          [
           "SR-509 E/O 1st Ave NB/SB",
           "King"
          ],
          [
           "SR-509 E/O Des Moines Mem NB/SB",
           "King"
          ],
          [
           "SR-509 @ SR-509 ramp overpass NB/SB",
           "King"
          ],
          [
           "SR-509 N/O Des Moines Mem NB/SB",
           "King"
          ],
          [
           "SR-509 N/O SR-518 NB/SB",
           "King"
          ],
          [
           "SR-99 @ I-5 NB/SB",
           "Pierce"
          ],
          [
           "SR-99 E/O 54th NB/SB",
           "Pierce"
          ],
          [
           "SR-99 S/O Porter NB/SB",
           "Pierce"
          ],
          [
           "SR-99 S/O SR-18 NB/SB",
           "King"
          ],
          [
           "SR-99 N/O SR-18 NB/SB",
           "King"
          ],
          [
           "SR-99 N/O 320th NB/SB",
           "King"
          ],
          [
           "SR-99 N/O 188th NB/SB",
           "King"
          ],
          [
           "SR-99 @ WSF NB/SB",
           "King"
          ],
          [
           "SR-99 @ Aurora Bridge NB/SB",
           "King"
          ],
          [
           "SR-99 N/O 38th NB/SB",
           "King"
          ],
          [
           "SR-99 S/O Roosevelt NB/SB",
           "King"
          ],
          [
           "SR-99 E/O Evergreen NB/SB",
           "Snohomish"
          ],
          [
           "SR-599 N/O I-5 NB/SB",
           "King"
          ],
          [
           "SR-518 @ SR-509 WB/EB",
           "King"
          ],
          [
           "SR-518 E/O SR-509 WB/EB",
           "King"
          ],
          [
           "SR-18 E/O SR-99 WB/EB",
           "King"
          ],
          [
           "SR-18 N/O 304th WB/EB",
           "King"
          ],
          [
           "SR-18 S/O I-90 WB/EB",
           "King"
          ],
          [
           "SR-16 @ TNB NB/SB",
           "Pierce"
          ],
          [
           "SR-16 @ Purdy Dr NB/SB",
           "Pierce"
          ],
          [
           "SR-16  N/O SR-302 NB/SB",
           "Kitsap"
          ],
          [
           "SR-16 N/O SR-160 NB/SB",
           "Kitsap"
          ],
          [
           "SR-16 N/O Tremont NB/SB",
           "Kitsap"
          ],
          [
           "SR-16 S/O SR-3 NB",
           "Kitsap"
          ],
          [
           "SR-202 @ SR-522 NB/SB",
           "King"
          ],
          [
           "SR-202 N/O 145th NB/SB",
           "King"
          ],
          [
           "SR-202 @ Sammamish River Br NB/SB",
           "King"
          ],
          [
           "SR-202 S/O 144th NB/SB",
           "King"
          ],
          [
           "SR-202 N/O Redmond Way NB/SB",
           "King"
          ],
          [
           "SR-202 E/O 164th NB/SB",
           "King"
          ],
          [
           "SR-202 E/O SR-520 NB/SB",
           "King"
          ],
          [
           "SR-202 E/O E Lk Samm NB/SB",
           "King"
          ],
          [
           "SR-202 E/O Sahalee NB/SB",
           "King"
          ],
          [
           "SR-202 E/O 236th NB/SB",
           "King"
          ],
          [
           "SR-202 S/O Ames Lake NB/SB",
           "King"
          ],
          [
           "SR-202 S/O Duthie Hill NB/SB",
           "King"
          ],
          [
           "SR-202 E/O SR-203 NB/SB",
           "King"
          ],
          [
           "SR-202 N/O I-90 NB/SB",
           "King"
          ],
          [
           "SR-526 W/O Paine Field Blvd WB/EB",
           "Snohomish"
          ],
          [
           "SR-526 E/O Paine Field Blvd WB/EB",
           "Snohomish"
          ],
          [
           "SR-9 @ SR-522 NB/SB",
           "Snohomish"
          ],
          [
           "SR-9 N/O SR-2 NB/SB",
           "Snohomish"
          ],
          [
           "SR-9 N/O SR-204 NB/SB",
           "Snohomish"
          ],
          [
           "SR-9 N/O SR-92 NB/SB",
           "Snohomish"
          ],
          [
           "SR-9 N/O 132nd NB/SB",
           "Snohomish"
          ],
          [
           "SR-9 N/O SR-531 NB/SB",
           "Snohomish"
          ],
          [
           "SR-9 S/O 67th NB/SB",
           "Snohomish"
          ],
          [
           "SR-9 N/O Kackman NB/SB",
           "Snohomish"
          ],
          [
           "SR-9 N/O Stanwood-Bryant NB/SB",
           "Snohomish"
          ],
          [
           "SR-532 @ Island County WB/EB",
           "Snohomish"
          ],
          [
           "SR-532 W/O 28th WB/EB",
           "Snohomish"
          ],
          [
           "SR-522 N/O 145th NB/SB",
           "King"
          ],
          [
           "SR-104 @ Hood Canal Bridge WB/EB",
           "Kitsap"
          ],
          [
           "SR-104 E/O Hood Canal Bridge WB/EB",
           "Kitsap"
          ],
          [
           "SR-104 N/O Pt Gamble Rd WB/EB",
           "Kitsap"
          ],
          [
           "SR-104 E/O SR-307 WB/EB",
           "Kitsap"
          ],
          [
           "SR-104 E/O Hansville WB/EB",
           "Kitsap"
          ],
          [
           "SR-104 @ Ferry Loading Edm WB/EB",
           "Snohomish"
          ],
          [
           "SR-104 N/O Pine WB/EB",
           "Snohomish"
          ],
          [
           "SR-104 E/O 5th WB/EB",
           "Snohomish"
          ],
          [
           "SR-104 W/O 19th WB/EB",
           "King"
          ],
          [
           "SR-160 @ SR-16 WB/EB",
           "Kitsap"
          ],
          [
           "SR-160 E/O Long Lake Rd WB/EB",
           "Kitsap"
          ],
          [
           "SR-160 W/O Banner WB/EB",
           "Kitsap"
          ],
          [
           "SR-160 E/O Peterson WB/EB",
           "Kitsap"
          ],
          [
           "SR-160 S/O Southworth Dr WB/EB",
           "Kitsap"
          ],
          [
           "SR-166 E/O SR-16 WB/EB",
           "Kitsap"
          ],
          [
           "SR-3 E/O Sunset Way NB/SB",
           "Kitsap"
          ],
          [
           "SR-3 N/O SR-305 NB/SB",
           "Kitsap"
          ],
          [
           "SR-3 S/O Newberry Hill Rd NB/SB",
           "Kitsap"
          ],
          [
           "SR-3 @ SR-304 NB/SB",
           "Kitsap"
          ],
          [
           "SR-3 NE of SR-16 NB/SB",
           "Kitsap"
          ],
          [
           "SR-3 W/O Lake Flora Rd NB/SB",
           "Kitsap"
          ],
          [
           "SR-302 N/O 144th WB/EB",
           "Pierce"
          ],
          [
           "SR-302 S/O 144th WB/EB",
           "Pierce"
          ],
          [
           "SR-302 W/O Key Peninsula Hwy WB/EB",
           "Pierce"
          ],
          [
           "SR-302 W/O Wright-Bliss WB/EB (E/O?)",
           "Pierce"
          ],
          [
           "SR-303 E/O SR-3 NB/SB",
           "Kitsap"
          ],
          [
           "SR-303 N/O 11th St NB/SB",
           "Kitsap"
          ],
          [
           "SR-303 N/O SR-304 NB/SB",
           "Kitsap"
          ],
          [
           "SR-304 E/O SR-3 WB/EB",
           "Kitsap"
          ],
          [
           "SR-304 W/O Naval WB/EB",
           "Kitsap"
          ],
          [
           "SR-305 W/O SR-307 WB/EB",
           "Kitsap"
          ],
          [
           "SR-305 W/O Suquamish Way WB/EB",
           "Kitsap"
          ],
          [
           "SR-305 N/O Day Rd WB/EB",
           "Kitsap"
          ],
          [
           "SR-305 N/O High School Rd WB/EB",
           "Kitsap"
          ],
          [
           "SR-305 S/O Winslow Way WB/EB",
           "Kitsap"
          ],
          [
           "SR-305 @ Ferry Ramp WB/EB",
           "Kitsap"
          ],
          [
           "SR-307 W/O SR-104 NB/SB",
           "Kitsap"
          ],
          [
           "SR-307 N/O Gunderson NB/SB",
           "Kitsap"
          ],
          [
           "SR-307 S/O Gunderson NB/SB",
           "Kitsap"
          ],
          [
           "SR-307 N/O SR-305 NB/SB",
           "Kitsap"
          ],
          [
           "SR-308 @ SR-3 WB/EB",
           "Kitsap"
          ],
          [
           "SR-308 E/O SR-3 WB/EB",
           "Kitsap"
          ],
          [
           "SR-308 E/O Silverdale Way WB/EB",
           "Kitsap"
          ],
          [
           "SR-308 W/O Brownsville Hwy WB/EB",
           "Kitsap"
          ],
          [
           "SR-310 @ SR-3 WB/EB",
           "Kitsap"
          ],
          [
           "SR-310 W/O Callow WB/EB",
           "Kitsap"
          ],
          [
           "SR-516 E/O SR-509 WB/EB",
           "King"
          ],
          [
           "SR-516 W/O I-5 WB/EB",
           "King"
          ],
          [
           "SR-516 E/O Meeker WB/EB",
           "King"
          ],
          [
           "SR-516 W/O SR-167 WB/EB",
           "King"
          ],
          [
           "SR-516 E/O SR-167 WB/EB",
           "King"
          ],
          [
           "SR-516 E/O SR-18 WB/EB",
           "King"
          ],
          [
           "SR-161 E/O SR-7 NB/SB",
           "Pierce"
          ],
          [
           "SR-161 N/O Center NB/SB",
           "Pierce"
          ],
          [
           "SR-161 N/O Eatonville Cutoff NB/SB",
           "Pierce"
          ],
          [
           "SR-161 N/O 304th NB/SB",
           "Pierce"
          ],
          [
           "SR-161 N/O 264th NB/SB",
           "Pierce"
          ],
          [
           "SR-161 S/O 224th NB/SB",
           "Pierce"
          ],
          [
           "SR-161 N/O 224th NB/SB",
           "Pierce"
          ],
          [
           "SR-161 N/O 204th NB/SB",
           "Pierce"
          ],
          [
           "SR-161 S/O SR-167 SB off-ramp NB/SB",
           "Pierce"
          ],
          [
           "SR-161 S/O Valley NB/SB",
           "Pierce"
          ],
          [
           "SR-161 N/O Valley NB/SB",
           "Pierce"
          ],
          [
           "SR-161 N/O 8th NB/SB",
           "Pierce"
          ],
          [
           "SR-900 S/O NB I-5 on-ramp @ Boe Acc WB/EB",
           "King"
          ],
          [
           "SR-900 E/O 68th WB/EB",
           "King"
          ],
          [
           "SR-900 @ I-405 WB/EB",
           "King"
          ],
          [
           "SR-900 E/O 148th WB/EB",
           "King"
          ],
          [
           "SR-900 N/O Talus WB/EB",
           "King"
          ],
          [
           "SR-900 N/O Newport WB/EB",
           "King"
          ],
          [
           "SR-524 W/O 3rd WB/EB",
           "Snohomish"
          ],
          [
           "SR-524 S/O Main WB/EB",
           "Snohomish"
          ],
          [
           "SR-524 N/O Main WB/EB",
           "Snohomish"
          ],
          [
           "SR-524 E/O 68th WB/EB",
           "Snohomish"
          ],
          [
           "SR-524 E/O 39th WB/EB",
           "Snohomish"
          ],
          [
           "SR-524 N/O Paradise Lake WB/EB",
           "Snohomish"
          ],
          [
           "SR-7 @ Thurston County NB/SB",
           "Pierce"
          ],
          [
           "SR-7 W/O Alder Cutoff NB/SB",
           "Pierce"
          ],
          [
           "SR-7 N/O Eatonville Hwy NB/SB",
           "Pierce"
          ],
          [
           "SR-7 N/O Silver Lake NB/SB",
           "Pierce"
          ],
          [
           "SR-7 S/O SR-702 NB/SB",
           "Pierce"
          ],
          [
           "SR-7 N/O 304th NB/SB",
           "Pierce"
          ],
          [
           "SR-7 N/O 260th NB/SB",
           "Pierce"
          ],
          [
           "SR-7 S/O 224th NB/SB",
           "Pierce"
          ],
          [
           "SR-7 N/O 224th NB/SB",
           "Pierce"
          ],
          [
           "SR-7 N/O 38th NB/SB",
           "Pierce"
          ],
          [
           "SR-2 E/O I-5 WB/EB",
           "Snohomish"
          ],
          [
           "SR-2 S/O SR-204 WB/EB",
           "Snohomish"
          ],
          [
           "SR-2 E/O Main WB/EB",
           "Snohomish"
          ],
          [
           "SR-2 E/O Rice WB/EB",
           "Snohomish"
          ],
          [
           "SR-2 E/O 10th (Gold Bar) WB/EB",
           "Snohomish"
          ],
          [
           "SR-2 W/O Index-Galena WB/EB",
           "Snohomish"
          ],
          [
           "SR-2 E/O Index-Galena WB/EB",
           "Snohomish"
          ],
          [
           "SR-2 E/O Skykomish WB/EB",
           "King"
          ],
          [
           "SR-527 N/O I-405 NB/SB",
           "Snohomish"
          ],
          [
           "SR-527 N/O 196th NB/SB",
           "Snohomish"
          ],
          [
           "SR-527 N/O Dumas NB/SB",
           "Snohomish"
          ],
          [
           "SR-527 N/O 100th NB/SB",
           "Snohomish"
          ],
          [
           "SR-513 S/O 44th NB/SB",
           "King"
          ],
          [
           "SR-169 N/O SR-164 NB/SB",
           "King"
          ],
          [
           "SR-169 S/O Lawson NB/SB",
           "King"
          ],
          [
           "SR-169 S/O 276th NB/SB",
           "King"
          ],
          [
           "SR-169 N/O 280th NB/SB",
           "King"
          ],
          [
           "SR-169 N/O 231st NB/SB",
           "King"
          ],
          [
           "SR-169 N/O 232nd NB/SB",
           "King"
          ],
          [
           "SR-169 W/O 140th NB/SB",
           "King"
          ],
          [
           "SR-515 N/O SR-516 NB/SB",
           "King"
          ],
          [
           "SR-515 N/O 108th NB/SB",
           "King"
          ],
          [
           "SR-515 N/O Puget NB/SB",
           "King"
          ],
          [
           "SR-181 N/O SR-516 NB/SB",
           "King"
          ],
          [
           "SR-181 S/O James NB/SB",
           "King"
          ],
          [
           "SR-181 N/O James NB/SB",
           "King"
          ],
          [
           "SR-181 N/O 228th NB/SB",
           "King"
          ],
          [
           "SR-181 N/O 180th NB/SB",
           "King"
          ],
          [
           "SR-181 S/O Longacres NB/SB",
           "King"
          ],
          [
           "SR-523 E/O Lenora WB/EB",
           "King"
          ],
          [
           "SR-529 @ I-5 (Evt) NB/SB",
           "Snohomish"
          ],
          [
           "SR-529 S/O Everett NB/SB",
           "Snohomish"
          ],
          [
           "SR-529 W/O Maple NB/SB",
           "Snohomish"
          ],
          [
           "SR-529 N/O Everett NB/SB",
           "Snohomish"
          ],
          [
           "SR-529 N/O Broadway NB/SB",
           "Snohomish"
          ],
          [
           "SR-96 @ I-5 WB/EB",
           "Snohomish"
          ],
          [
           "SR-96 N/O 132nd WB/EB",
           "Snohomish"
          ],
          [
           "SR-96 E/O Seattle Hill WB/EB",
           "Snohomish"
          ],
          [
           "SR-164 @ SR-18 WB/EB",
           "King"
          ],
          [
           "SR-164 S/O 400th WB/EB",
           "King"
          ],
          [
           "SR-528 @ I-5 WB/EB",
           "Snohomish"
          ],
          [
           "SR-528 E/O SR-529 WB/EB",
           "Snohomish"
          ],
          [
           "SR-531 N/O Rose WB/EB",
           "Snohomish"
          ],
          [
           "SR-531 E/O Lk Goodwin WB/EB",
           "Snohomish"
          ],
          [
           "SR-531 E/O 27th WB/EB",
           "Snohomish"
          ],
          [
           "SR-531 E/O I-5 WB/EB",
           "Snohomish"
          ],
          [
           "SR-531 E/O 43rd WB/EB",
           "Snohomish"
          ],
          [
           "SR-531 W/O 67th WB/EB",
           "Snohomish"
          ],
          [
           "SR-531 E/O 67th WB/EB",
           "Snohomish"
          ],
          [
           "SR-162 @ SR-410 WB/EB",
           "Pierce"
          ],
          [
           "SR-162 S/O Pioneer WB/EB",
           "Pierce"
          ],
          [
           "SR-162 E/O Orville WB/EB",
           "Pierce"
          ],
          [
           "SR-162 E/O S Prairie WB/EB",
           "Pierce"
          ],
          [
           "SR-162 N/O SR-165 WB/EB",
           "Pierce"
          ],
          [
           "SR-163 @ SR-16 NB/SB",
           "Pierce"
          ],
          [
           "SR-163 N/O 37th NB/SB",
           "Pierce"
          ],
          [
           "SR-163 N/O Park NB/SB",
           "Pierce"
          ],
          [
           "SR-530 @ I-5 WB/EB",
           "Snohomish"
          ],
          [
           "SR-530 E/O Smokey Pt WB/EB",
           "Snohomish"
          ],
          [
           "SR-530 N/O 211th WB/EB",
           "Snohomish"
          ],
          [
           "SR-530 E/O SR-9 WB/EB",
           "Snohomish"
          ],
          [
           "SR-530 W/O Arlington Hts WB/EB",
           "Snohomish"
          ],
          [
           "SR-530 E/O Arlington Hts WB/EB",
           "Snohomish"
          ],
          [
           "SR-530 W/O Jim Creek WB/EB",
           "Snohomish"
          ],
          [
           "SR-530 W/O Ramstad WB/EB",
           "Snohomish"
          ],
          [
           "SR-530 @ Skagit County WB/EB",
           "Snohomish"
          ],
          [
           "SR-203 N/O 203rd NB/SB",
           "Snohomish"
          ],
          [
           "SR-203 N/O Cherry Valley NB/SB",
           "King"
          ],
          [
           "SR-203 N/O 124th NB/SB",
           "King"
          ],
          [
           "SR-203 W/O Stillwater Hill NB/SB",
           "King"
          ],
          [
           "SR-203 N/O Carnation Farm NB/SB",
           "King"
          ],
          [
           "SR-203 N/O Tolt Hill NB/SB",
           "King"
          ],
          [
           "SR-203 N/O SR-202 NB/SB",
           "King"
          ],
          [
           "SR-507 S/O SR-7 NB/SB",
           "Pierce"
          ],
          [
           "SR-507 S/O E Gate NB/SB",
           "Pierce"
          ],
          [
           "SR-507 S/O 288th NB/SB",
           "Pierce"
          ],
          [
           "SR-507 N/O 346th NB/SB",
           "Pierce"
          ],
          [
           "SR-204 @ SR-2 NB/SB",
           "Snohomish"
          ],
          [
           "SR-204 N/O 20th NB/SB",
           "Snohomish"
          ],
          [
           "SR-204 N/O SR-2 NB/SB",
           "Snohomish"
          ],
          [
           "SR-519 W/O 4th NB/SB",
           "King"
          ],
          [
           "SR-92 E/O Lake WB/EB",
           "Snohomish"
          ],
          [
           "SR-92 E/O Callow WB/EB",
           "Snohomish"
          ],
          [
           "SR-92 E/O Quarry WB/EB",
           "Snohomish"
          ],
          [
           "SR-92 W/O Mountain Loop WB/EB",
           "Snohomish"
          ],
          [
           "SR-702 E/O SR-507 WB/EB",
           "Pierce"
          ],
          [
           "SR-702 E/O Harts Lake WB/EB",
           "Pierce"
          ],
          [
           "SR-702 E/O 40th WB/EB",
           "Pierce"
          ],
          [
           "SR-702 W/O 8th WB/EB",
           "Pierce"
          ],
          [
           "SR-702 E/O 8th WB/EB",
           "Pierce"
          ],
          [
           "SR-165 W/O SR-162 NB/SB",
           "Pierce"
          ],
          [
           "SR-165 N/O Davis NB/SB",
           "Pierce"
          ],
          [
           "SR-165 N/O Wilkeson-Carbonado NB/SB",
           "Pierce"
          ],
          [
           "SR-704 E/O Spanaway Loop WB/EB",
           "Pierce"
          ],
          [
           "SR-706 E/O SR-7 WB/EB",
           "Pierce"
          ],
          [
           "SR-706 E/O Kernahan WB/EB",
           "Pierce"
          ]
         ],
         "hovertemplate": "Observed=%{x}<br>Model=%{y}<br>location=%{customdata[0]}<br>County=%{customdata[1]}<extra></extra>",
         "legendgroup": "",
         "line": {
          "color": "Grey",
          "width": 2
         },
         "marker": {
          "color": "#91268F",
          "symbol": "circle"
         },
         "mode": "markers",
         "name": "",
         "orientation": "v",
         "showlegend": false,
         "type": "scatter",
         "x": [
          2398,
          2384,
          2500,
          2589,
          2331,
          2275,
          2608,
          2499,
          4754,
          4821,
          5641,
          5686,
          1764,
          3843,
          2614,
          3294,
          1786,
          1909,
          2586,
          2604,
          2869,
          2888,
          2689,
          2832,
          2293,
          2656,
          2191,
          2251,
          1728,
          1737,
          645,
          1525,
          1405,
          1400,
          1380,
          1329,
          1046,
          1702,
          2618,
          3724,
          2998,
          1539,
          1620,
          1248,
          851,
          1030,
          1032,
          2276,
          2432,
          2405,
          2415,
          2776,
          2536,
          2040,
          2040,
          1806,
          1814,
          850,
          630,
          1279,
          1163,
          1067,
          968,
          859,
          720,
          1271,
          842,
          534,
          973,
          1357,
          1295,
          882,
          869,
          1054,
          1031,
          1556,
          1676,
          2448,
          2444,
          2481,
          1769,
          2644,
          1594,
          1323,
          3333,
          710,
          364,
          1270,
          5571,
          2749,
          1262,
          970,
          554,
          73,
          74,
          48,
          29,
          2835,
          3326,
          4048,
          1036,
          2310,
          171,
          59,
          62,
          128,
          408,
          680,
          240,
          102,
          421,
          720,
          1320,
          1488,
          1276,
          1600,
          1150,
          1053,
          600,
          704,
          2349,
          1643,
          2416,
          1512,
          1056,
          475,
          2808,
          787,
          1075,
          1329,
          2434,
          1344,
          3133,
          2138,
          2336,
          1997,
          2251,
          2041,
          882,
          249,
          217,
          662,
          506,
          815,
          1705,
          1125,
          874,
          457,
          589,
          363,
          431,
          331,
          396,
          915,
          1853,
          1311,
          1387,
          1987,
          829,
          484,
          658,
          443,
          135,
          1056,
          739,
          1170,
          702,
          197,
          215,
          512,
          288,
          294,
          220,
          360,
          475,
          475,
          525,
          408,
          233,
          86,
          280,
          1258,
          1725,
          2074,
          1768,
          3230,
          864,
          426,
          871,
          227,
          157,
          972,
          1008,
          434,
          810,
          609,
          1102,
          660,
          600,
          468,
          265,
          221,
          714,
          476,
          612,
          680,
          156,
          199,
          263,
          230,
          897,
          286,
          260,
          1080,
          875,
          1680,
          984,
          975,
          24,
          456,
          313,
          594,
          598,
          504,
          864,
          1216,
          1000,
          1850,
          720,
          800,
          924,
          392,
          754,
          198,
          682,
          546,
          68,
          160,
          167,
          494,
          330,
          1157,
          241,
          106,
          193,
          228,
          363,
          690,
          897,
          1350,
          858,
          378,
          2430,
          1634,
          858,
          735,
          516,
          346,
          242,
          214,
          1484,
          837,
          704,
          858,
          728,
          398,
          594,
          816,
          546,
          1675,
          1058,
          1014,
          825,
          408,
          893,
          1798,
          1265,
          1450,
          1650,
          1620,
          2108,
          609,
          333,
          271,
          364,
          238,
          1122,
          1408,
          392,
          220,
          810,
          660,
          728,
          616,
          75,
          432,
          693,
          1230,
          1632,
          969,
          560,
          640,
          924,
          618,
          354,
          547,
          420,
          276,
          161,
          690,
          882,
          784,
          420,
          520,
          461,
          410,
          276,
          167,
          636,
          590,
          741,
          486,
          490,
          539,
          502,
          1264,
          462,
          533,
          611,
          259,
          371,
          960,
          1044,
          1349,
          994,
          320,
          324,
          524,
          396,
          389,
          382,
          322,
          390,
          211,
          120,
          720,
          150,
          75
         ],
         "xaxis": "x",
         "y": [
          0,
          0,
          723,
          741,
          716,
          734,
          1073,
          1007,
          1942,
          2403,
          3312,
          3524,
          1894,
          5869,
          6250,
          6304,
          6456,
          6274,
          5699,
          5699,
          5145,
          4807,
          4430,
          4462,
          4330,
          4150,
          1868,
          1920,
          660,
          622,
          3132,
          4548,
          4760,
          2608,
          2655,
          1829,
          1398,
          3129,
          6028,
          5116,
          5067,
          4652,
          4567,
          3068,
          2844,
          3546,
          3461,
          3661,
          4120,
          4609,
          4784,
          3966,
          3964,
          2269,
          2276,
          1612,
          1736,
          1512,
          971,
          2246,
          2422,
          1327,
          1530,
          1856,
          1616,
          1628,
          1266,
          1084,
          777,
          1411,
          1292,
          856,
          801,
          889,
          826,
          1784,
          1648,
          10932,
          120,
          0,
          1592,
          1280,
          62,
          0,
          9001,
          334,
          35,
          2043,
          6919,
          3205,
          1129,
          377,
          52,
          41,
          0,
          0,
          0,
          3306,
          3351,
          5150,
          1715,
          1542,
          93,
          29,
          29,
          72,
          334,
          251,
          148,
          80,
          104,
          855,
          1801,
          2749,
          1371,
          1265,
          1354,
          1329,
          828,
          711,
          1734,
          3511,
          3096,
          1861,
          648,
          139,
          3403,
          1791,
          1937,
          1910,
          2186,
          875,
          6739,
          4027,
          4173,
          3382,
          3590,
          2018,
          779,
          410,
          264,
          823,
          370,
          396,
          2158,
          1392,
          524,
          491,
          379,
          192,
          273,
          667,
          187,
          1782,
          1299,
          1460,
          1914,
          2317,
          747,
          556,
          213,
          61,
          64,
          0,
          597,
          2107,
          0,
          24,
          18,
          227,
          163,
          214,
          163,
          273,
          472,
          567,
          189,
          144,
          190,
          73,
          416,
          54,
          198,
          2582,
          2620,
          4172,
          0,
          317,
          329,
          140,
          39,
          883,
          959,
          322,
          1642,
          809,
          1712,
          1043,
          1104,
          400,
          72,
          72,
          283,
          331,
          598,
          620,
          109,
          111,
          189,
          129,
          444,
          176,
          163,
          2109,
          3651,
          4349,
          1628,
          1012,
          4,
          30,
          193,
          362,
          359,
          537,
          597,
          1048,
          1461,
          2146,
          663,
          1450,
          1706,
          575,
          1695,
          637,
          1142,
          935,
          214,
          77,
          255,
          621,
          444,
          751,
          0,
          17,
          23,
          30,
          28,
          242,
          287,
          321,
          412,
          194,
          3174,
          1656,
          754,
          311,
          111,
          111,
          80,
          0,
          3061,
          932,
          386,
          1046,
          1596,
          100,
          397,
          314,
          574,
          863,
          912,
          1617,
          331,
          605,
          1263,
          2011,
          1796,
          2225,
          3100,
          3521,
          3654,
          661,
          464,
          390,
          335,
          126,
          620,
          1675,
          434,
          52,
          1102,
          672,
          1184,
          612,
          64,
          188,
          626,
          1435,
          898,
          223,
          349,
          566,
          736,
          244,
          126,
          238,
          939,
          382,
          100,
          350,
          637,
          432,
          285,
          397,
          332,
          285,
          234,
          0,
          445,
          462,
          455,
          208,
          219,
          306,
          196,
          256,
          158,
          47,
          49,
          123,
          233,
          1326,
          2215,
          803,
          580,
          199,
          157,
          10,
          10,
          110,
          110,
          55,
          154,
          77,
          35,
          780,
          0,
          0
         ],
         "yaxis": "y"
        },
        {
         "hovertemplate": "Observed=%{x}<br>Model=%{y}<extra></extra>",
         "legendgroup": "",
         "line": {
          "color": "Grey",
          "dash": "solid",
          "width": 2
         },
         "marker": {
          "symbol": "circle"
         },
         "mode": "lines",
         "name": "",
         "orientation": "v",
         "showlegend": false,
         "type": "scatter",
         "x": [
          0.0,
          57.43434343434343,
          114.86868686868686,
          172.3030303030303,
          229.73737373737373,
          287.17171717171715,
          344.6060606060606,
          402.04040404040404,
          459.47474747474746,
          516.9090909090909,
          574.3434343434343,
          631.7777777777777,
          689.2121212121212,
          746.6464646464647,
          804.0808080808081,
          861.5151515151515,
          918.9494949494949,
          976.3838383838383,
          1033.8181818181818,
          1091.2525252525252,
          1148.6868686868686,
          1206.121212121212,
          1263.5555555555554,
          1320.9898989898988,
          1378.4242424242425,
          1435.858585858586,
          1493.2929292929293,
          1550.7272727272727,
          1608.1616161616162,
          1665.5959595959596,
          1723.030303030303,
          1780.4646464646464,
          1837.8989898989898,
          1895.3333333333333,
          1952.7676767676767,
          2010.20202020202,
          2067.6363636363635,
          2125.070707070707,
          2182.5050505050503,
          2239.939393939394,
          2297.373737373737,
          2354.808080808081,
          2412.242424242424,
          2469.6767676767677,
          2527.111111111111,
          2584.5454545454545,
          2641.9797979797977,
          2699.4141414141413,
          2756.848484848485,
          2814.282828282828,
          2871.717171717172,
          2929.151515151515,
          2986.5858585858587,
          3044.020202020202,
          3101.4545454545455,
          3158.8888888888887,
          3216.3232323232323,
          3273.7575757575755,
          3331.191919191919,
          3388.6262626262624,
          3446.060606060606,
          3503.494949494949,
          3560.929292929293,
          3618.363636363636,
          3675.7979797979797,
          3733.2323232323233,
          3790.6666666666665,
          3848.10101010101,
          3905.5353535353534,
          3962.969696969697,
          4020.40404040404,
          4077.838383838384,
          4135.272727272727,
          4192.707070707071,
          4250.141414141414,
          4307.575757575757,
          4365.010101010101,
          4422.444444444444,
          4479.878787878788,
          4537.313131313131,
          4594.747474747474,
          4652.181818181818,
          4709.616161616162,
          4767.050505050505,
          4824.484848484848,
          4881.919191919192,
          4939.353535353535,
          4996.787878787879,
          5054.222222222222,
          5111.656565656565,
          5169.090909090909,
          5226.525252525253,
          5283.959595959595,
          5341.393939393939,
          5398.828282828283,
          5456.262626262626,
          5513.69696969697,
          5571.131313131313,
          5628.565656565656,
          5686.0
         ],
         "xaxis": "x",
         "y": [
          -35.18303547125993,
          36.04483163092017,
          107.27269873310027,
          178.50056583528038,
          249.72843293746047,
          320.95630003964055,
          392.1841671418207,
          463.4120342440008,
          534.6399013461809,
          605.867768448361,
          677.095635550541,
          748.3235026527211,
          819.5513697549013,
          890.7792368570814,
          962.0071039592615,
          1033.2349710614417,
          1104.4628381636217,
          1175.6907052658019,
          1246.9185723679818,
          1318.146439470162,
          1389.374306572342,
          1460.6021736745222,
          1531.8300407767022,
          1603.0579078788824,
          1674.2857749810626,
          1745.5136420832428,
          1816.7415091854227,
          1887.969376287603,
          1959.197243389783,
          2030.4251104919629,
          2101.6529775941435,
          2172.880844696323,
          2244.1087117985035,
          2315.336578900683,
          2386.5644460028634,
          2457.792313105044,
          2529.0201802072233,
          2600.248047309404,
          2671.475914411584,
          2742.7037815137646,
          2813.931648615944,
          2885.1595157181246,
          2956.387382820304,
          3027.6152499224845,
          3098.843117024664,
          3170.0709841268445,
          3241.298851229025,
          3312.5267183312053,
          3383.754585433385,
          3454.9824525355652,
          3526.2103196377457,
          3597.438186739925,
          3668.6660538421056,
          3739.893920944285,
          3811.1217880464656,
          3882.349655148646,
          3953.5775222508255,
          4024.805389353006,
          4096.033256455185,
          4167.261123557366,
          4238.488990659546,
          4309.716857761726,
          4380.944724863906,
          4452.172591966086,
          4523.400459068266,
          4594.628326170447,
          4665.856193272626,
          4737.0840603748065,
          4808.311927476987,
          4879.539794579167,
          4950.767661681347,
          5021.995528783527,
          5093.223395885707,
          5164.451262987887,
          5235.679130090068,
          5306.906997192247,
          5378.134864294428,
          5449.362731396608,
          5520.5905984987885,
          5591.818465600967,
          5663.0463327031475,
          5734.274199805328,
          5805.502066907508,
          5876.729934009689,
          5947.957801111868,
          6019.185668214049,
          6090.413535316229,
          6161.641402418409,
          6232.869269520588,
          6304.097136622769,
          6375.325003724949,
          6446.5528708271295,
          6517.780737929309,
          6589.008605031489,
          6660.23647213367,
          6731.464339235849,
          6802.69220633803,
          6873.920073440209,
          6945.14794054239,
          7016.37580764457
         ],
         "yaxis": "y"
        }
       ],
       "layout": {
        "annotations": [
         {
          "align": "right",
          "font": {
           "color": "pink",
           "size": 12
          },
          "showarrow": false,
          "text": "y = x",
          "x": 11478.6,
          "y": 11478.6
         },
         {
          "align": "right",
          "font": {
           "color": "black",
           "size": 12
          },
          "showarrow": false,
          "text": "r^2 = 0.52",
          "x": 5970.3,
          "y": 7367.194598026799
         }
        ],
        "height": 600,
        "legend": {
         "tracegroupgap": 0
        },
        "margin": {
         "b": 100,
         "l": 100,
         "r": 100,
         "t": 100
        },
        "shapes": [
         {
          "line": {
           "color": "Red",
           "dash": "dash",
           "width": 2
          },
          "type": "line",
          "x0": 0,
          "x1": 10932,
          "y0": 0,
          "y1": 10932
         }
        ],
        "template": {
         "data": {
          "bar": [
           {
            "error_x": {
             "color": "rgb(36,36,36)"
            },
            "error_y": {
             "color": "rgb(36,36,36)"
            },
            "marker": {
             "line": {
              "color": "white",
              "width": 0.5
             },
             "pattern": {
              "fillmode": "overlay",
              "size": 10,
              "solidity": 0.2
             }
            },
            "type": "bar"
           }
          ],
          "barpolar": [
           {
            "marker": {
             "line": {
              "color": "white",
              "width": 0.5
             },
             "pattern": {
              "fillmode": "overlay",
              "size": 10,
              "solidity": 0.2
             }
            },
            "type": "barpolar"
           }
          ],
          "carpet": [
           {
            "aaxis": {
             "endlinecolor": "rgb(36,36,36)",
             "gridcolor": "white",
             "linecolor": "white",
             "minorgridcolor": "white",
             "startlinecolor": "rgb(36,36,36)"
            },
            "baxis": {
             "endlinecolor": "rgb(36,36,36)",
             "gridcolor": "white",
             "linecolor": "white",
             "minorgridcolor": "white",
             "startlinecolor": "rgb(36,36,36)"
            },
            "type": "carpet"
           }
          ],
          "choropleth": [
           {
            "colorbar": {
             "outlinewidth": 1,
             "tickcolor": "rgb(36,36,36)",
             "ticks": "outside"
            },
            "type": "choropleth"
           }
          ],
          "contour": [
           {
            "colorbar": {
             "outlinewidth": 1,
             "tickcolor": "rgb(36,36,36)",
             "ticks": "outside"
            },
            "colorscale": [
             [
              0.0,
              "#440154"
             ],
             [
              0.1111111111111111,
              "#482878"
             ],
             [
              0.2222222222222222,
              "#3e4989"
             ],
             [
              0.3333333333333333,
              "#31688e"
             ],
             [
              0.4444444444444444,
              "#26828e"
             ],
             [
              0.5555555555555556,
              "#1f9e89"
             ],
             [
              0.6666666666666666,
              "#35b779"
             ],
             [
              0.7777777777777778,
              "#6ece58"
             ],
             [
              0.8888888888888888,
              "#b5de2b"
             ],
             [
              1.0,
              "#fde725"
             ]
            ],
            "type": "contour"
           }
          ],
          "contourcarpet": [
           {
            "colorbar": {
             "outlinewidth": 1,
             "tickcolor": "rgb(36,36,36)",
             "ticks": "outside"
            },
            "type": "contourcarpet"
           }
          ],
          "heatmap": [
           {
            "colorbar": {
             "outlinewidth": 1,
             "tickcolor": "rgb(36,36,36)",
             "ticks": "outside"
            },
            "colorscale": [
             [
              0.0,
              "#440154"
             ],
             [
              0.1111111111111111,
              "#482878"
             ],
             [
              0.2222222222222222,
              "#3e4989"
             ],
             [
              0.3333333333333333,
              "#31688e"
             ],
             [
              0.4444444444444444,
              "#26828e"
             ],
             [
              0.5555555555555556,
              "#1f9e89"
             ],
             [
              0.6666666666666666,
              "#35b779"
             ],
             [
              0.7777777777777778,
              "#6ece58"
             ],
             [
              0.8888888888888888,
              "#b5de2b"
             ],
             [
              1.0,
              "#fde725"
             ]
            ],
            "type": "heatmap"
           }
          ],
          "heatmapgl": [
           {
            "colorbar": {
             "outlinewidth": 1,
             "tickcolor": "rgb(36,36,36)",
             "ticks": "outside"
            },
            "colorscale": [
             [
              0.0,
              "#440154"
             ],
             [
              0.1111111111111111,
              "#482878"
             ],
             [
              0.2222222222222222,
              "#3e4989"
             ],
             [
              0.3333333333333333,
              "#31688e"
             ],
             [
              0.4444444444444444,
              "#26828e"
             ],
             [
              0.5555555555555556,
              "#1f9e89"
             ],
             [
              0.6666666666666666,
              "#35b779"
             ],
             [
              0.7777777777777778,
              "#6ece58"
             ],
             [
              0.8888888888888888,
              "#b5de2b"
             ],
             [
              1.0,
              "#fde725"
             ]
            ],
            "type": "heatmapgl"
           }
          ],
          "histogram": [
           {
            "marker": {
             "line": {
              "color": "white",
              "width": 0.6
             }
            },
            "type": "histogram"
           }
          ],
          "histogram2d": [
           {
            "colorbar": {
             "outlinewidth": 1,
             "tickcolor": "rgb(36,36,36)",
             "ticks": "outside"
            },
            "colorscale": [
             [
              0.0,
              "#440154"
             ],
             [
              0.1111111111111111,
              "#482878"
             ],
             [
              0.2222222222222222,
              "#3e4989"
             ],
             [
              0.3333333333333333,
              "#31688e"
             ],
             [
              0.4444444444444444,
              "#26828e"
             ],
             [
              0.5555555555555556,
              "#1f9e89"
             ],
             [
              0.6666666666666666,
              "#35b779"
             ],
             [
              0.7777777777777778,
              "#6ece58"
             ],
             [
              0.8888888888888888,
              "#b5de2b"
             ],
             [
              1.0,
              "#fde725"
             ]
            ],
            "type": "histogram2d"
           }
          ],
          "histogram2dcontour": [
           {
            "colorbar": {
             "outlinewidth": 1,
             "tickcolor": "rgb(36,36,36)",
             "ticks": "outside"
            },
            "colorscale": [
             [
              0.0,
              "#440154"
             ],
             [
              0.1111111111111111,
              "#482878"
             ],
             [
              0.2222222222222222,
              "#3e4989"
             ],
             [
              0.3333333333333333,
              "#31688e"
             ],
             [
              0.4444444444444444,
              "#26828e"
             ],
             [
              0.5555555555555556,
              "#1f9e89"
             ],
             [
              0.6666666666666666,
              "#35b779"
             ],
             [
              0.7777777777777778,
              "#6ece58"
             ],
             [
              0.8888888888888888,
              "#b5de2b"
             ],
             [
              1.0,
              "#fde725"
             ]
            ],
            "type": "histogram2dcontour"
           }
          ],
          "mesh3d": [
           {
            "colorbar": {
             "outlinewidth": 1,
             "tickcolor": "rgb(36,36,36)",
             "ticks": "outside"
            },
            "type": "mesh3d"
           }
          ],
          "parcoords": [
           {
            "line": {
             "colorbar": {
              "outlinewidth": 1,
              "tickcolor": "rgb(36,36,36)",
              "ticks": "outside"
             }
            },
            "type": "parcoords"
           }
          ],
          "pie": [
           {
            "automargin": true,
            "type": "pie"
           }
          ],
          "scatter": [
           {
            "fillpattern": {
             "fillmode": "overlay",
             "size": 10,
             "solidity": 0.2
            },
            "type": "scatter"
           }
          ],
          "scatter3d": [
           {
            "line": {
             "colorbar": {
              "outlinewidth": 1,
              "tickcolor": "rgb(36,36,36)",
              "ticks": "outside"
             }
            },
            "marker": {
             "colorbar": {
              "outlinewidth": 1,
              "tickcolor": "rgb(36,36,36)",
              "ticks": "outside"
             }
            },
            "type": "scatter3d"
           }
          ],
          "scattercarpet": [
           {
            "marker": {
             "colorbar": {
              "outlinewidth": 1,
              "tickcolor": "rgb(36,36,36)",
              "ticks": "outside"
             }
            },
            "type": "scattercarpet"
           }
          ],
          "scattergeo": [
           {
            "marker": {
             "colorbar": {
              "outlinewidth": 1,
              "tickcolor": "rgb(36,36,36)",
              "ticks": "outside"
             }
            },
            "type": "scattergeo"
           }
          ],
          "scattergl": [
           {
            "marker": {
             "colorbar": {
              "outlinewidth": 1,
              "tickcolor": "rgb(36,36,36)",
              "ticks": "outside"
             }
            },
            "type": "scattergl"
           }
          ],
          "scattermapbox": [
           {
            "marker": {
             "colorbar": {
              "outlinewidth": 1,
              "tickcolor": "rgb(36,36,36)",
              "ticks": "outside"
             }
            },
            "type": "scattermapbox"
           }
          ],
          "scatterpolar": [
           {
            "marker": {
             "colorbar": {
              "outlinewidth": 1,
              "tickcolor": "rgb(36,36,36)",
              "ticks": "outside"
             }
            },
            "type": "scatterpolar"
           }
          ],
          "scatterpolargl": [
           {
            "marker": {
             "colorbar": {
              "outlinewidth": 1,
              "tickcolor": "rgb(36,36,36)",
              "ticks": "outside"
             }
            },
            "type": "scatterpolargl"
           }
          ],
          "scatterternary": [
           {
            "marker": {
             "colorbar": {
              "outlinewidth": 1,
              "tickcolor": "rgb(36,36,36)",
              "ticks": "outside"
             }
            },
            "type": "scatterternary"
           }
          ],
          "surface": [
           {
            "colorbar": {
             "outlinewidth": 1,
             "tickcolor": "rgb(36,36,36)",
             "ticks": "outside"
            },
            "colorscale": [
             [
              0.0,
              "#440154"
             ],
             [
              0.1111111111111111,
              "#482878"
             ],
             [
              0.2222222222222222,
              "#3e4989"
             ],
             [
              0.3333333333333333,
              "#31688e"
             ],
             [
              0.4444444444444444,
              "#26828e"
             ],
             [
              0.5555555555555556,
              "#1f9e89"
             ],
             [
              0.6666666666666666,
              "#35b779"
             ],
             [
              0.7777777777777778,
              "#6ece58"
             ],
             [
              0.8888888888888888,
              "#b5de2b"
             ],
             [
              1.0,
              "#fde725"
             ]
            ],
            "type": "surface"
           }
          ],
          "table": [
           {
            "cells": {
             "fill": {
              "color": "rgb(237,237,237)"
             },
             "line": {
              "color": "white"
             }
            },
            "header": {
             "fill": {
              "color": "rgb(217,217,217)"
             },
             "line": {
              "color": "white"
             }
            },
            "type": "table"
           }
          ]
         },
         "layout": {
          "annotationdefaults": {
           "arrowhead": 0,
           "arrowwidth": 1
          },
          "autotypenumbers": "strict",
          "coloraxis": {
           "colorbar": {
            "outlinewidth": 1,
            "tickcolor": "rgb(36,36,36)",
            "ticks": "outside"
           }
          },
          "colorscale": {
           "diverging": [
            [
             0.0,
             "rgb(103,0,31)"
            ],
            [
             0.1,
             "rgb(178,24,43)"
            ],
            [
             0.2,
             "rgb(214,96,77)"
            ],
            [
             0.3,
             "rgb(244,165,130)"
            ],
            [
             0.4,
             "rgb(253,219,199)"
            ],
            [
             0.5,
             "rgb(247,247,247)"
            ],
            [
             0.6,
             "rgb(209,229,240)"
            ],
            [
             0.7,
             "rgb(146,197,222)"
            ],
            [
             0.8,
             "rgb(67,147,195)"
            ],
            [
             0.9,
             "rgb(33,102,172)"
            ],
            [
             1.0,
             "rgb(5,48,97)"
            ]
           ],
           "sequential": [
            [
             0.0,
             "#440154"
            ],
            [
             0.1111111111111111,
             "#482878"
            ],
            [
             0.2222222222222222,
             "#3e4989"
            ],
            [
             0.3333333333333333,
             "#31688e"
            ],
            [
             0.4444444444444444,
             "#26828e"
            ],
            [
             0.5555555555555556,
             "#1f9e89"
            ],
            [
             0.6666666666666666,
             "#35b779"
            ],
            [
             0.7777777777777778,
             "#6ece58"
            ],
            [
             0.8888888888888888,
             "#b5de2b"
            ],
            [
             1.0,
             "#fde725"
            ]
           ],
           "sequentialminus": [
            [
             0.0,
             "#440154"
            ],
            [
             0.1111111111111111,
             "#482878"
            ],
            [
             0.2222222222222222,
             "#3e4989"
            ],
            [
             0.3333333333333333,
             "#31688e"
            ],
            [
             0.4444444444444444,
             "#26828e"
            ],
            [
             0.5555555555555556,
             "#1f9e89"
            ],
            [
             0.6666666666666666,
             "#35b779"
            ],
            [
             0.7777777777777778,
             "#6ece58"
            ],
            [
             0.8888888888888888,
             "#b5de2b"
            ],
            [
             1.0,
             "#fde725"
            ]
           ]
          },
          "colorway": [
           "#91268F",
           "#8CC63E",
           "#00A7A0",
           "#F05A28",
           "#4C4C4C",
           "#630460",
           "#9f3913",
           "#588527",
           "#00716c",
           "#3e4040"
          ],
          "font": {
           "color": "rgb(36,36,36)",
           "family": "Poppins",
           "size": 11
          },
          "geo": {
           "bgcolor": "white",
           "lakecolor": "white",
           "landcolor": "white",
           "showlakes": true,
           "showland": true,
           "subunitcolor": "white"
          },
          "hoverlabel": {
           "align": "left"
          },
          "hovermode": "closest",
          "mapbox": {
           "style": "light"
          },
          "paper_bgcolor": "white",
          "plot_bgcolor": "white",
          "polar": {
           "angularaxis": {
            "gridcolor": "rgb(232,232,232)",
            "linecolor": "rgb(36,36,36)",
            "showgrid": false,
            "showline": true,
            "ticks": "outside"
           },
           "bgcolor": "white",
           "radialaxis": {
            "gridcolor": "rgb(232,232,232)",
            "linecolor": "rgb(36,36,36)",
            "showgrid": false,
            "showline": true,
            "ticks": "outside"
           }
          },
          "scene": {
           "xaxis": {
            "backgroundcolor": "white",
            "gridcolor": "rgb(232,232,232)",
            "gridwidth": 2,
            "linecolor": "rgb(36,36,36)",
            "showbackground": true,
            "showgrid": false,
            "showline": true,
            "ticks": "outside",
            "zeroline": false,
            "zerolinecolor": "rgb(36,36,36)"
           },
           "yaxis": {
            "backgroundcolor": "white",
            "gridcolor": "rgb(232,232,232)",
            "gridwidth": 2,
            "linecolor": "rgb(36,36,36)",
            "showbackground": true,
            "showgrid": false,
            "showline": true,
            "ticks": "outside",
            "zeroline": false,
            "zerolinecolor": "rgb(36,36,36)"
           },
           "zaxis": {
            "backgroundcolor": "white",
            "gridcolor": "rgb(232,232,232)",
            "gridwidth": 2,
            "linecolor": "rgb(36,36,36)",
            "showbackground": true,
            "showgrid": false,
            "showline": true,
            "ticks": "outside",
            "zeroline": false,
            "zerolinecolor": "rgb(36,36,36)"
           }
          },
          "shapedefaults": {
           "fillcolor": "black",
           "line": {
            "width": 0
           },
           "opacity": 0.3
          },
          "ternary": {
           "aaxis": {
            "gridcolor": "rgb(232,232,232)",
            "linecolor": "rgb(36,36,36)",
            "showgrid": false,
            "showline": true,
            "ticks": "outside"
           },
           "baxis": {
            "gridcolor": "rgb(232,232,232)",
            "linecolor": "rgb(36,36,36)",
            "showgrid": false,
            "showline": true,
            "ticks": "outside"
           },
           "bgcolor": "white",
           "caxis": {
            "gridcolor": "rgb(232,232,232)",
            "linecolor": "rgb(36,36,36)",
            "showgrid": false,
            "showline": true,
            "ticks": "outside"
           }
          },
          "title": {
           "x": 0.05
          },
          "xaxis": {
           "automargin": true,
           "gridcolor": "rgb(232,232,232)",
           "linecolor": "rgb(36,36,36)",
           "showgrid": false,
           "showline": true,
           "ticks": "outside",
           "title": {
            "standoff": 15
           },
           "zeroline": false,
           "zerolinecolor": "rgb(36,36,36)"
          },
          "yaxis": {
           "automargin": true,
           "gridcolor": "rgb(232,232,232)",
           "linecolor": "rgb(36,36,36)",
           "showgrid": false,
           "showline": true,
           "ticks": "outside",
           "title": {
            "standoff": 15
           },
           "zeroline": false,
           "zerolinecolor": "rgb(36,36,36)"
          }
         }
        },
        "title": {
         "text": "Medium Trucks: Region"
        },
        "width": 800,
        "xaxis": {
         "anchor": "y",
         "domain": [
          0.0,
          1.0
         ],
         "title": {
          "text": "Observed"
         }
        },
        "yaxis": {
         "anchor": "x",
         "domain": [
          0.0,
          1.0
         ],
         "title": {
          "text": "Model"
         }
        }
       }
      },
      "text/html": [
       "<div>                            <div id=\"a942a0b8-9edb-4324-a16f-20aa23c4048c\" class=\"plotly-graph-div\" style=\"height:600px; width:800px;\"></div>            <script type=\"text/javascript\">                require([\"plotly\"], function(Plotly) {                    window.PLOTLYENV=window.PLOTLYENV || {};                                    if (document.getElementById(\"a942a0b8-9edb-4324-a16f-20aa23c4048c\")) {                    Plotly.newPlot(                        \"a942a0b8-9edb-4324-a16f-20aa23c4048c\",                        [{\"customdata\":[[\"I-5 S\\u002fO Mounts NB\",\"Pierce\"],[\"I-5 S\\u002fO Mounts SB\",\"Pierce\"],[\"I-5 S\\u002fO Division NB\",\"Pierce\"],[\"I-5 S\\u002fO Division SB\",\"Pierce\"],[\"I-5 @ N\\u002fO Division NB\",\"Pierce\"],[\"I-5 @ N\\u002fO Division SB\",\"Pierce\"],[\"I-5 S\\u002fO SR-512 NB\",\"Pierce\"],[\"I-5 S\\u002fO SR-512 SB\",\"Pierce\"],[\"I-5 N\\u002fO SR-512 NB\",\"Pierce\"],[\"I-5 N\\u002fO SR-512 SB\",\"Pierce\"],[\"I-5 N\\u002fO 56th NB\",\"Pierce\"],[\"I-5 N\\u002fO 56th SB\",\"Pierce\"],[\"I-5 E\\u002fO SR-16 NB\",\"Pierce\"],[\"I-5 E\\u002fO SR-16 SB\",\"Pierce\"],[\"I-5 E\\u002fO Port of Tacoma NB\",\"Pierce\"],[\"I-5 E\\u002fO Port of Tacoma SB (HOV from 56)\",\"Pierce\"],[\"I-5 S\\u002fO 205th NB\",\"King\"],[\"I-5 S\\u002fO 205th SB\",\"King\"],[\"I-5 @ 44th NB\",\"Snohomish\"],[\"I-5 @ 44th SB\",\"Snohomish\"],[\"I-5 N\\u002fO 164th NB\",\"Snohomish\"],[\"I-5 N\\u002fO 164th SB\",\"Snohomish\"],[\"I-5 N\\u002fO SR-526 NB\",\"Snohomish\"],[\"I-5 N\\u002fO SR-526 SB\",\"Snohomish\"],[\"I-5 N\\u002fO 41st NB\",\"Snohomish\"],[\"I-5 N\\u002fO 41st SB\",\"Snohomish\"],[\"I-5 @ SR-528 NB\",\"Snohomish\"],[\"I-5 @ SR-528 SB\",\"Snohomish\"],[\"I-5 N\\u002fO SR-531 NB\",\"Snohomish\"],[\"I-5 N\\u002fO SR-531 SB\",\"Snohomish\"],[\"I-5 Rev N\\u002fO I-5 GP NB\\u002fSB\",\"King\"],[\"I-90 E\\u002fO I-5 WB\",\"King\"],[\"I-90 E\\u002fO I-5 EB\",\"King\"],[\"I-90 E\\u002fO W Lk Sam WB\",\"King\"],[\"I-90 E\\u002fO W Lk Sam EB\",\"King\"],[\"I-90 E\\u002fO SR-900 WB\",\"King\"],[\"I-405 @ I-5 Southcenter NB\",\"King\"],[\"I-405 @ I-5 Southcenter SB\",\"King\"],[\"I-405 @ Lake Wash Blvd NB\",\"King\"],[\"I-405 @ I-90 NB\",\"King\"],[\"I-405 @ I-90 SB\",\"King\"],[\"I-405 N\\u002fO SR-527 NB\",\"Snohomish\"],[\"I-405 N\\u002fO SR-527 SB\",\"Snohomish\"],[\"SR-525 N\\u002fO I-5 NB\",\"Snohomish\"],[\"SR-525 N\\u002fO I-5 SB\",\"Snohomish\"],[\"SR-520 @ x-lake bridge WB\",\"King\"],[\"SR-520 @ x-lake bridge EB\",\"King\"],[\"SR-167 S\\u002fO 43rd NB\",\"King\"],[\"SR-167 S\\u002fO 43rd SB\",\"King\"],[\"SR-167 N\\u002fO SR-18 NB\",\"King\"],[\"SR-167 N\\u002fO SR-18 SB\",\"King\"],[\"SR-167 S\\u002fO 15th SW NB\",\"King\"],[\"SR-167 S\\u002fO 15th SW SB\",\"King\"],[\"SR-512 W\\u002fO Meridian WB\",\"Pierce\"],[\"SR-512 W\\u002fO Meridian EB\",\"Pierce\"],[\"SR-509 @ Holden NB\",\"King\"],[\"SR-509 @ Holden SB\",\"King\"],[\"SR-99 N\\u002fO 14th NB\",\"King\"],[\"SR-99 N\\u002fO 14th SB\",\"King\"],[\"SR-99 N\\u002fO WSF NB\",\"King\"],[\"SR-99 N\\u002fO WSF SB\",\"King\"],[\"SR-99 tunnel NB\",\"King\"],[\"SR-99 tunnel SB\",\"King\"],[\"SR-599 S\\u002fO Pacific NB\",\"King\"],[\"SR-599 S\\u002fO Pacific SB\",\"King\"],[\"SR-599 @ Pacific NB\",\"King\"],[\"SR-599 @ Pacific SB\",\"King\"],[\"SR-18 @ I-5 WB\",\"King\"],[\"SR-18 @ I-5 EB\",\"King\"],[\"SR-18 W\\u002fO Auburn-Black Diamond WB\",\"King\"],[\"SR-18 W\\u002fO Auburn-Black Diamond EB\",\"King\"],[\"SR-18 E\\u002fO SR-516 WB\",\"King\"],[\"SR-18 E\\u002fO SR-516 EB\",\"King\"],[\"SR-18 E\\u002fO 256th WB\",\"King\"],[\"SR-18 E\\u002fO 256th EB\",\"King\"],[\"SR-522 N\\u002fO 195th WB\",\"King\"],[\"SR-522 N\\u002fO 195th EB\",\"King\"],[\"I-5 N\\u002fO I-5 Rev CBD NB\\u002fSB\",\"King\"],[\"I-5 @ SR-532 NB\\u002fSB\",\"Snohomish\"],[\"I-5 @ Skagit border NB\\u002fSB\",\"Snohomish\"],[\"I-90 W\\u002fO SR-18 WB\\u002fEB\",\"King\"],[\"I-90 E\\u002fO SR-18 WB\\u002fEB\",\"King\"],[\"I-90 E\\u002fO 436th WB\\u002fEB\",\"King\"],[\"I-90 @ Kittitas County WB\\u002fEB\",\"King\"],[\"I-405 N\\u002fO SR-522 NB\\u002fSB\",\"King\"],[\"SR-525 N\\u002fO SR-526 NB\\u002fSB\",\"Snohomish\"],[\"SR-525 N\\u002fO 5th NB\\u002fSB\",\"Snohomish\"],[\"SR-167 N\\u002fO Grady NB\\u002fSB\",\"King\"],[\"SR-167 W\\u002fO SR-410 NB\\u002fSB\",\"Pierce\"],[\"SR-167 E\\u002fO SR-161 NB\\u002fSB\",\"Pierce\"],[\"SR-410 E\\u002fO S Prairie WB\\u002fEB\",\"Pierce\"],[\"SR-410 E\\u002fO 244th WB\\u002fEB\",\"King\"],[\"SR-410 E\\u002fO Farman WB\\u002fEB\",\"King\"],[\"SR-410 @ Greenwater River WB\\u002fEB\",\"King\"],[\"SR-410 E\\u002fO Chinook WB\\u002fEB\",\"Pierce\"],[\"SR-410 W\\u002fO SR-123 WB\\u002fEB\",\"Pierce\"],[\"SR-410 E\\u002fO SR-123 WB\\u002fEB\",\"Pierce\"],[\"SR-512 @ I-5 WB\\u002fEB\",\"Pierce\"],[\"SR-512 W\\u002fO SR-7 WB\\u002fEB\",\"Pierce\"],[\"SR-512 S\\u002fO SR-167 WB\\u002fEB\",\"Pierce\"],[\"SR-509 E\\u002fO I-705 NB\\u002fSB\",\"Pierce\"],[\"SR-509 W\\u002fO Alexander NB\\u002fSB\",\"Pierce\"],[\"SR-509 S\\u002fO 11th NB\\u002fSB\",\"Pierce\"],[\"SR-509 N\\u002fO Hyada NB\\u002fSB\",\"Pierce\"],[\"SR-509 E\\u002fO Soundview NB\\u002fSB\",\"Pierce\"],[\"SR-509 E\\u002fO 47th NB\\u002fSB\",\"King\"],[\"SR-509 E\\u002fO 21st NB\\u002fSB\",\"King\"],[\"SR-509 W\\u002fO SR-516 NB\\u002fSB\",\"King\"],[\"SR-509 W\\u002fO Des Moines Mem NB\\u002fSB\",\"King\"],[\"SR-509 E\\u002fO 1st Ave NB\\u002fSB\",\"King\"],[\"SR-509 E\\u002fO Des Moines Mem NB\\u002fSB\",\"King\"],[\"SR-509 @ SR-509 ramp overpass NB\\u002fSB\",\"King\"],[\"SR-509 N\\u002fO Des Moines Mem NB\\u002fSB\",\"King\"],[\"SR-509 N\\u002fO SR-518 NB\\u002fSB\",\"King\"],[\"SR-99 @ I-5 NB\\u002fSB\",\"Pierce\"],[\"SR-99 E\\u002fO 54th NB\\u002fSB\",\"Pierce\"],[\"SR-99 S\\u002fO Porter NB\\u002fSB\",\"Pierce\"],[\"SR-99 S\\u002fO SR-18 NB\\u002fSB\",\"King\"],[\"SR-99 N\\u002fO SR-18 NB\\u002fSB\",\"King\"],[\"SR-99 N\\u002fO 320th NB\\u002fSB\",\"King\"],[\"SR-99 N\\u002fO 188th NB\\u002fSB\",\"King\"],[\"SR-99 @ WSF NB\\u002fSB\",\"King\"],[\"SR-99 @ Aurora Bridge NB\\u002fSB\",\"King\"],[\"SR-99 N\\u002fO 38th NB\\u002fSB\",\"King\"],[\"SR-99 S\\u002fO Roosevelt NB\\u002fSB\",\"King\"],[\"SR-99 E\\u002fO Evergreen NB\\u002fSB\",\"Snohomish\"],[\"SR-599 N\\u002fO I-5 NB\\u002fSB\",\"King\"],[\"SR-518 @ SR-509 WB\\u002fEB\",\"King\"],[\"SR-518 E\\u002fO SR-509 WB\\u002fEB\",\"King\"],[\"SR-18 E\\u002fO SR-99 WB\\u002fEB\",\"King\"],[\"SR-18 N\\u002fO 304th WB\\u002fEB\",\"King\"],[\"SR-18 S\\u002fO I-90 WB\\u002fEB\",\"King\"],[\"SR-16 @ TNB NB\\u002fSB\",\"Pierce\"],[\"SR-16 @ Purdy Dr NB\\u002fSB\",\"Pierce\"],[\"SR-16  N\\u002fO SR-302 NB\\u002fSB\",\"Kitsap\"],[\"SR-16 N\\u002fO SR-160 NB\\u002fSB\",\"Kitsap\"],[\"SR-16 N\\u002fO Tremont NB\\u002fSB\",\"Kitsap\"],[\"SR-16 S\\u002fO SR-3 NB\",\"Kitsap\"],[\"SR-202 @ SR-522 NB\\u002fSB\",\"King\"],[\"SR-202 N\\u002fO 145th NB\\u002fSB\",\"King\"],[\"SR-202 @ Sammamish River Br NB\\u002fSB\",\"King\"],[\"SR-202 S\\u002fO 144th NB\\u002fSB\",\"King\"],[\"SR-202 N\\u002fO Redmond Way NB\\u002fSB\",\"King\"],[\"SR-202 E\\u002fO 164th NB\\u002fSB\",\"King\"],[\"SR-202 E\\u002fO SR-520 NB\\u002fSB\",\"King\"],[\"SR-202 E\\u002fO E Lk Samm NB\\u002fSB\",\"King\"],[\"SR-202 E\\u002fO Sahalee NB\\u002fSB\",\"King\"],[\"SR-202 E\\u002fO 236th NB\\u002fSB\",\"King\"],[\"SR-202 S\\u002fO Ames Lake NB\\u002fSB\",\"King\"],[\"SR-202 S\\u002fO Duthie Hill NB\\u002fSB\",\"King\"],[\"SR-202 E\\u002fO SR-203 NB\\u002fSB\",\"King\"],[\"SR-202 N\\u002fO I-90 NB\\u002fSB\",\"King\"],[\"SR-526 W\\u002fO Paine Field Blvd WB\\u002fEB\",\"Snohomish\"],[\"SR-526 E\\u002fO Paine Field Blvd WB\\u002fEB\",\"Snohomish\"],[\"SR-9 @ SR-522 NB\\u002fSB\",\"Snohomish\"],[\"SR-9 N\\u002fO SR-2 NB\\u002fSB\",\"Snohomish\"],[\"SR-9 N\\u002fO SR-204 NB\\u002fSB\",\"Snohomish\"],[\"SR-9 N\\u002fO SR-92 NB\\u002fSB\",\"Snohomish\"],[\"SR-9 N\\u002fO 132nd NB\\u002fSB\",\"Snohomish\"],[\"SR-9 N\\u002fO SR-531 NB\\u002fSB\",\"Snohomish\"],[\"SR-9 S\\u002fO 67th NB\\u002fSB\",\"Snohomish\"],[\"SR-9 N\\u002fO Kackman NB\\u002fSB\",\"Snohomish\"],[\"SR-9 N\\u002fO Stanwood-Bryant NB\\u002fSB\",\"Snohomish\"],[\"SR-532 @ Island County WB\\u002fEB\",\"Snohomish\"],[\"SR-532 W\\u002fO 28th WB\\u002fEB\",\"Snohomish\"],[\"SR-522 N\\u002fO 145th NB\\u002fSB\",\"King\"],[\"SR-104 @ Hood Canal Bridge WB\\u002fEB\",\"Kitsap\"],[\"SR-104 E\\u002fO Hood Canal Bridge WB\\u002fEB\",\"Kitsap\"],[\"SR-104 N\\u002fO Pt Gamble Rd WB\\u002fEB\",\"Kitsap\"],[\"SR-104 E\\u002fO SR-307 WB\\u002fEB\",\"Kitsap\"],[\"SR-104 E\\u002fO Hansville WB\\u002fEB\",\"Kitsap\"],[\"SR-104 @ Ferry Loading Edm WB\\u002fEB\",\"Snohomish\"],[\"SR-104 N\\u002fO Pine WB\\u002fEB\",\"Snohomish\"],[\"SR-104 E\\u002fO 5th WB\\u002fEB\",\"Snohomish\"],[\"SR-104 W\\u002fO 19th WB\\u002fEB\",\"King\"],[\"SR-160 @ SR-16 WB\\u002fEB\",\"Kitsap\"],[\"SR-160 E\\u002fO Long Lake Rd WB\\u002fEB\",\"Kitsap\"],[\"SR-160 W\\u002fO Banner WB\\u002fEB\",\"Kitsap\"],[\"SR-160 E\\u002fO Peterson WB\\u002fEB\",\"Kitsap\"],[\"SR-160 S\\u002fO Southworth Dr WB\\u002fEB\",\"Kitsap\"],[\"SR-166 E\\u002fO SR-16 WB\\u002fEB\",\"Kitsap\"],[\"SR-3 E\\u002fO Sunset Way NB\\u002fSB\",\"Kitsap\"],[\"SR-3 N\\u002fO SR-305 NB\\u002fSB\",\"Kitsap\"],[\"SR-3 S\\u002fO Newberry Hill Rd NB\\u002fSB\",\"Kitsap\"],[\"SR-3 @ SR-304 NB\\u002fSB\",\"Kitsap\"],[\"SR-3 NE of SR-16 NB\\u002fSB\",\"Kitsap\"],[\"SR-3 W\\u002fO Lake Flora Rd NB\\u002fSB\",\"Kitsap\"],[\"SR-302 N\\u002fO 144th WB\\u002fEB\",\"Pierce\"],[\"SR-302 S\\u002fO 144th WB\\u002fEB\",\"Pierce\"],[\"SR-302 W\\u002fO Key Peninsula Hwy WB\\u002fEB\",\"Pierce\"],[\"SR-302 W\\u002fO Wright-Bliss WB\\u002fEB (E\\u002fO?)\",\"Pierce\"],[\"SR-303 E\\u002fO SR-3 NB\\u002fSB\",\"Kitsap\"],[\"SR-303 N\\u002fO 11th St NB\\u002fSB\",\"Kitsap\"],[\"SR-303 N\\u002fO SR-304 NB\\u002fSB\",\"Kitsap\"],[\"SR-304 E\\u002fO SR-3 WB\\u002fEB\",\"Kitsap\"],[\"SR-304 W\\u002fO Naval WB\\u002fEB\",\"Kitsap\"],[\"SR-305 W\\u002fO SR-307 WB\\u002fEB\",\"Kitsap\"],[\"SR-305 W\\u002fO Suquamish Way WB\\u002fEB\",\"Kitsap\"],[\"SR-305 N\\u002fO Day Rd WB\\u002fEB\",\"Kitsap\"],[\"SR-305 N\\u002fO High School Rd WB\\u002fEB\",\"Kitsap\"],[\"SR-305 S\\u002fO Winslow Way WB\\u002fEB\",\"Kitsap\"],[\"SR-305 @ Ferry Ramp WB\\u002fEB\",\"Kitsap\"],[\"SR-307 W\\u002fO SR-104 NB\\u002fSB\",\"Kitsap\"],[\"SR-307 N\\u002fO Gunderson NB\\u002fSB\",\"Kitsap\"],[\"SR-307 S\\u002fO Gunderson NB\\u002fSB\",\"Kitsap\"],[\"SR-307 N\\u002fO SR-305 NB\\u002fSB\",\"Kitsap\"],[\"SR-308 @ SR-3 WB\\u002fEB\",\"Kitsap\"],[\"SR-308 E\\u002fO SR-3 WB\\u002fEB\",\"Kitsap\"],[\"SR-308 E\\u002fO Silverdale Way WB\\u002fEB\",\"Kitsap\"],[\"SR-308 W\\u002fO Brownsville Hwy WB\\u002fEB\",\"Kitsap\"],[\"SR-310 @ SR-3 WB\\u002fEB\",\"Kitsap\"],[\"SR-310 W\\u002fO Callow WB\\u002fEB\",\"Kitsap\"],[\"SR-516 E\\u002fO SR-509 WB\\u002fEB\",\"King\"],[\"SR-516 W\\u002fO I-5 WB\\u002fEB\",\"King\"],[\"SR-516 E\\u002fO Meeker WB\\u002fEB\",\"King\"],[\"SR-516 W\\u002fO SR-167 WB\\u002fEB\",\"King\"],[\"SR-516 E\\u002fO SR-167 WB\\u002fEB\",\"King\"],[\"SR-516 E\\u002fO SR-18 WB\\u002fEB\",\"King\"],[\"SR-161 E\\u002fO SR-7 NB\\u002fSB\",\"Pierce\"],[\"SR-161 N\\u002fO Center NB\\u002fSB\",\"Pierce\"],[\"SR-161 N\\u002fO Eatonville Cutoff NB\\u002fSB\",\"Pierce\"],[\"SR-161 N\\u002fO 304th NB\\u002fSB\",\"Pierce\"],[\"SR-161 N\\u002fO 264th NB\\u002fSB\",\"Pierce\"],[\"SR-161 S\\u002fO 224th NB\\u002fSB\",\"Pierce\"],[\"SR-161 N\\u002fO 224th NB\\u002fSB\",\"Pierce\"],[\"SR-161 N\\u002fO 204th NB\\u002fSB\",\"Pierce\"],[\"SR-161 S\\u002fO SR-167 SB off-ramp NB\\u002fSB\",\"Pierce\"],[\"SR-161 S\\u002fO Valley NB\\u002fSB\",\"Pierce\"],[\"SR-161 N\\u002fO Valley NB\\u002fSB\",\"Pierce\"],[\"SR-161 N\\u002fO 8th NB\\u002fSB\",\"Pierce\"],[\"SR-900 S\\u002fO NB I-5 on-ramp @ Boe Acc WB\\u002fEB\",\"King\"],[\"SR-900 E\\u002fO 68th WB\\u002fEB\",\"King\"],[\"SR-900 @ I-405 WB\\u002fEB\",\"King\"],[\"SR-900 E\\u002fO 148th WB\\u002fEB\",\"King\"],[\"SR-900 N\\u002fO Talus WB\\u002fEB\",\"King\"],[\"SR-900 N\\u002fO Newport WB\\u002fEB\",\"King\"],[\"SR-524 W\\u002fO 3rd WB\\u002fEB\",\"Snohomish\"],[\"SR-524 S\\u002fO Main WB\\u002fEB\",\"Snohomish\"],[\"SR-524 N\\u002fO Main WB\\u002fEB\",\"Snohomish\"],[\"SR-524 E\\u002fO 68th WB\\u002fEB\",\"Snohomish\"],[\"SR-524 E\\u002fO 39th WB\\u002fEB\",\"Snohomish\"],[\"SR-524 N\\u002fO Paradise Lake WB\\u002fEB\",\"Snohomish\"],[\"SR-7 @ Thurston County NB\\u002fSB\",\"Pierce\"],[\"SR-7 W\\u002fO Alder Cutoff NB\\u002fSB\",\"Pierce\"],[\"SR-7 N\\u002fO Eatonville Hwy NB\\u002fSB\",\"Pierce\"],[\"SR-7 N\\u002fO Silver Lake NB\\u002fSB\",\"Pierce\"],[\"SR-7 S\\u002fO SR-702 NB\\u002fSB\",\"Pierce\"],[\"SR-7 N\\u002fO 304th NB\\u002fSB\",\"Pierce\"],[\"SR-7 N\\u002fO 260th NB\\u002fSB\",\"Pierce\"],[\"SR-7 S\\u002fO 224th NB\\u002fSB\",\"Pierce\"],[\"SR-7 N\\u002fO 224th NB\\u002fSB\",\"Pierce\"],[\"SR-7 N\\u002fO 38th NB\\u002fSB\",\"Pierce\"],[\"SR-2 E\\u002fO I-5 WB\\u002fEB\",\"Snohomish\"],[\"SR-2 S\\u002fO SR-204 WB\\u002fEB\",\"Snohomish\"],[\"SR-2 E\\u002fO Main WB\\u002fEB\",\"Snohomish\"],[\"SR-2 E\\u002fO Rice WB\\u002fEB\",\"Snohomish\"],[\"SR-2 E\\u002fO 10th (Gold Bar) WB\\u002fEB\",\"Snohomish\"],[\"SR-2 W\\u002fO Index-Galena WB\\u002fEB\",\"Snohomish\"],[\"SR-2 E\\u002fO Index-Galena WB\\u002fEB\",\"Snohomish\"],[\"SR-2 E\\u002fO Skykomish WB\\u002fEB\",\"King\"],[\"SR-527 N\\u002fO I-405 NB\\u002fSB\",\"Snohomish\"],[\"SR-527 N\\u002fO 196th NB\\u002fSB\",\"Snohomish\"],[\"SR-527 N\\u002fO Dumas NB\\u002fSB\",\"Snohomish\"],[\"SR-527 N\\u002fO 100th NB\\u002fSB\",\"Snohomish\"],[\"SR-513 S\\u002fO 44th NB\\u002fSB\",\"King\"],[\"SR-169 N\\u002fO SR-164 NB\\u002fSB\",\"King\"],[\"SR-169 S\\u002fO Lawson NB\\u002fSB\",\"King\"],[\"SR-169 S\\u002fO 276th NB\\u002fSB\",\"King\"],[\"SR-169 N\\u002fO 280th NB\\u002fSB\",\"King\"],[\"SR-169 N\\u002fO 231st NB\\u002fSB\",\"King\"],[\"SR-169 N\\u002fO 232nd NB\\u002fSB\",\"King\"],[\"SR-169 W\\u002fO 140th NB\\u002fSB\",\"King\"],[\"SR-515 N\\u002fO SR-516 NB\\u002fSB\",\"King\"],[\"SR-515 N\\u002fO 108th NB\\u002fSB\",\"King\"],[\"SR-515 N\\u002fO Puget NB\\u002fSB\",\"King\"],[\"SR-181 N\\u002fO SR-516 NB\\u002fSB\",\"King\"],[\"SR-181 S\\u002fO James NB\\u002fSB\",\"King\"],[\"SR-181 N\\u002fO James NB\\u002fSB\",\"King\"],[\"SR-181 N\\u002fO 228th NB\\u002fSB\",\"King\"],[\"SR-181 N\\u002fO 180th NB\\u002fSB\",\"King\"],[\"SR-181 S\\u002fO Longacres NB\\u002fSB\",\"King\"],[\"SR-523 E\\u002fO Lenora WB\\u002fEB\",\"King\"],[\"SR-529 @ I-5 (Evt) NB\\u002fSB\",\"Snohomish\"],[\"SR-529 S\\u002fO Everett NB\\u002fSB\",\"Snohomish\"],[\"SR-529 W\\u002fO Maple NB\\u002fSB\",\"Snohomish\"],[\"SR-529 N\\u002fO Everett NB\\u002fSB\",\"Snohomish\"],[\"SR-529 N\\u002fO Broadway NB\\u002fSB\",\"Snohomish\"],[\"SR-96 @ I-5 WB\\u002fEB\",\"Snohomish\"],[\"SR-96 N\\u002fO 132nd WB\\u002fEB\",\"Snohomish\"],[\"SR-96 E\\u002fO Seattle Hill WB\\u002fEB\",\"Snohomish\"],[\"SR-164 @ SR-18 WB\\u002fEB\",\"King\"],[\"SR-164 S\\u002fO 400th WB\\u002fEB\",\"King\"],[\"SR-528 @ I-5 WB\\u002fEB\",\"Snohomish\"],[\"SR-528 E\\u002fO SR-529 WB\\u002fEB\",\"Snohomish\"],[\"SR-531 N\\u002fO Rose WB\\u002fEB\",\"Snohomish\"],[\"SR-531 E\\u002fO Lk Goodwin WB\\u002fEB\",\"Snohomish\"],[\"SR-531 E\\u002fO 27th WB\\u002fEB\",\"Snohomish\"],[\"SR-531 E\\u002fO I-5 WB\\u002fEB\",\"Snohomish\"],[\"SR-531 E\\u002fO 43rd WB\\u002fEB\",\"Snohomish\"],[\"SR-531 W\\u002fO 67th WB\\u002fEB\",\"Snohomish\"],[\"SR-531 E\\u002fO 67th WB\\u002fEB\",\"Snohomish\"],[\"SR-162 @ SR-410 WB\\u002fEB\",\"Pierce\"],[\"SR-162 S\\u002fO Pioneer WB\\u002fEB\",\"Pierce\"],[\"SR-162 E\\u002fO Orville WB\\u002fEB\",\"Pierce\"],[\"SR-162 E\\u002fO S Prairie WB\\u002fEB\",\"Pierce\"],[\"SR-162 N\\u002fO SR-165 WB\\u002fEB\",\"Pierce\"],[\"SR-163 @ SR-16 NB\\u002fSB\",\"Pierce\"],[\"SR-163 N\\u002fO 37th NB\\u002fSB\",\"Pierce\"],[\"SR-163 N\\u002fO Park NB\\u002fSB\",\"Pierce\"],[\"SR-530 @ I-5 WB\\u002fEB\",\"Snohomish\"],[\"SR-530 E\\u002fO Smokey Pt WB\\u002fEB\",\"Snohomish\"],[\"SR-530 N\\u002fO 211th WB\\u002fEB\",\"Snohomish\"],[\"SR-530 E\\u002fO SR-9 WB\\u002fEB\",\"Snohomish\"],[\"SR-530 W\\u002fO Arlington Hts WB\\u002fEB\",\"Snohomish\"],[\"SR-530 E\\u002fO Arlington Hts WB\\u002fEB\",\"Snohomish\"],[\"SR-530 W\\u002fO Jim Creek WB\\u002fEB\",\"Snohomish\"],[\"SR-530 W\\u002fO Ramstad WB\\u002fEB\",\"Snohomish\"],[\"SR-530 @ Skagit County WB\\u002fEB\",\"Snohomish\"],[\"SR-203 N\\u002fO 203rd NB\\u002fSB\",\"Snohomish\"],[\"SR-203 N\\u002fO Cherry Valley NB\\u002fSB\",\"King\"],[\"SR-203 N\\u002fO 124th NB\\u002fSB\",\"King\"],[\"SR-203 W\\u002fO Stillwater Hill NB\\u002fSB\",\"King\"],[\"SR-203 N\\u002fO Carnation Farm NB\\u002fSB\",\"King\"],[\"SR-203 N\\u002fO Tolt Hill NB\\u002fSB\",\"King\"],[\"SR-203 N\\u002fO SR-202 NB\\u002fSB\",\"King\"],[\"SR-507 S\\u002fO SR-7 NB\\u002fSB\",\"Pierce\"],[\"SR-507 S\\u002fO E Gate NB\\u002fSB\",\"Pierce\"],[\"SR-507 S\\u002fO 288th NB\\u002fSB\",\"Pierce\"],[\"SR-507 N\\u002fO 346th NB\\u002fSB\",\"Pierce\"],[\"SR-204 @ SR-2 NB\\u002fSB\",\"Snohomish\"],[\"SR-204 N\\u002fO 20th NB\\u002fSB\",\"Snohomish\"],[\"SR-204 N\\u002fO SR-2 NB\\u002fSB\",\"Snohomish\"],[\"SR-519 W\\u002fO 4th NB\\u002fSB\",\"King\"],[\"SR-92 E\\u002fO Lake WB\\u002fEB\",\"Snohomish\"],[\"SR-92 E\\u002fO Callow WB\\u002fEB\",\"Snohomish\"],[\"SR-92 E\\u002fO Quarry WB\\u002fEB\",\"Snohomish\"],[\"SR-92 W\\u002fO Mountain Loop WB\\u002fEB\",\"Snohomish\"],[\"SR-702 E\\u002fO SR-507 WB\\u002fEB\",\"Pierce\"],[\"SR-702 E\\u002fO Harts Lake WB\\u002fEB\",\"Pierce\"],[\"SR-702 E\\u002fO 40th WB\\u002fEB\",\"Pierce\"],[\"SR-702 W\\u002fO 8th WB\\u002fEB\",\"Pierce\"],[\"SR-702 E\\u002fO 8th WB\\u002fEB\",\"Pierce\"],[\"SR-165 W\\u002fO SR-162 NB\\u002fSB\",\"Pierce\"],[\"SR-165 N\\u002fO Davis NB\\u002fSB\",\"Pierce\"],[\"SR-165 N\\u002fO Wilkeson-Carbonado NB\\u002fSB\",\"Pierce\"],[\"SR-704 E\\u002fO Spanaway Loop WB\\u002fEB\",\"Pierce\"],[\"SR-706 E\\u002fO SR-7 WB\\u002fEB\",\"Pierce\"],[\"SR-706 E\\u002fO Kernahan WB\\u002fEB\",\"Pierce\"]],\"hovertemplate\":\"Observed=%{x}\\u003cbr\\u003eModel=%{y}\\u003cbr\\u003elocation=%{customdata[0]}\\u003cbr\\u003eCounty=%{customdata[1]}\\u003cextra\\u003e\\u003c\\u002fextra\\u003e\",\"legendgroup\":\"\",\"marker\":{\"color\":\"#91268F\",\"symbol\":\"circle\"},\"mode\":\"markers\",\"name\":\"\",\"orientation\":\"v\",\"showlegend\":false,\"x\":[2398,2384,2500,2589,2331,2275,2608,2499,4754,4821,5641,5686,1764,3843,2614,3294,1786,1909,2586,2604,2869,2888,2689,2832,2293,2656,2191,2251,1728,1737,645,1525,1405,1400,1380,1329,1046,1702,2618,3724,2998,1539,1620,1248,851,1030,1032,2276,2432,2405,2415,2776,2536,2040,2040,1806,1814,850,630,1279,1163,1067,968,859,720,1271,842,534,973,1357,1295,882,869,1054,1031,1556,1676,2448,2444,2481,1769,2644,1594,1323,3333,710,364,1270,5571,2749,1262,970,554,73,74,48,29,2835,3326,4048,1036,2310,171,59,62,128,408,680,240,102,421,720,1320,1488,1276,1600,1150,1053,600,704,2349,1643,2416,1512,1056,475,2808,787,1075,1329,2434,1344,3133,2138,2336,1997,2251,2041,882,249,217,662,506,815,1705,1125,874,457,589,363,431,331,396,915,1853,1311,1387,1987,829,484,658,443,135,1056,739,1170,702,197,215,512,288,294,220,360,475,475,525,408,233,86,280,1258,1725,2074,1768,3230,864,426,871,227,157,972,1008,434,810,609,1102,660,600,468,265,221,714,476,612,680,156,199,263,230,897,286,260,1080,875,1680,984,975,24,456,313,594,598,504,864,1216,1000,1850,720,800,924,392,754,198,682,546,68,160,167,494,330,1157,241,106,193,228,363,690,897,1350,858,378,2430,1634,858,735,516,346,242,214,1484,837,704,858,728,398,594,816,546,1675,1058,1014,825,408,893,1798,1265,1450,1650,1620,2108,609,333,271,364,238,1122,1408,392,220,810,660,728,616,75,432,693,1230,1632,969,560,640,924,618,354,547,420,276,161,690,882,784,420,520,461,410,276,167,636,590,741,486,490,539,502,1264,462,533,611,259,371,960,1044,1349,994,320,324,524,396,389,382,322,390,211,120,720,150,75],\"xaxis\":\"x\",\"y\":[0,0,723,741,716,734,1073,1007,1942,2403,3312,3524,1894,5869,6250,6304,6456,6274,5699,5699,5145,4807,4430,4462,4330,4150,1868,1920,660,622,3132,4548,4760,2608,2655,1829,1398,3129,6028,5116,5067,4652,4567,3068,2844,3546,3461,3661,4120,4609,4784,3966,3964,2269,2276,1612,1736,1512,971,2246,2422,1327,1530,1856,1616,1628,1266,1084,777,1411,1292,856,801,889,826,1784,1648,10932,120,0,1592,1280,62,0,9001,334,35,2043,6919,3205,1129,377,52,41,0,0,0,3306,3351,5150,1715,1542,93,29,29,72,334,251,148,80,104,855,1801,2749,1371,1265,1354,1329,828,711,1734,3511,3096,1861,648,139,3403,1791,1937,1910,2186,875,6739,4027,4173,3382,3590,2018,779,410,264,823,370,396,2158,1392,524,491,379,192,273,667,187,1782,1299,1460,1914,2317,747,556,213,61,64,0,597,2107,0,24,18,227,163,214,163,273,472,567,189,144,190,73,416,54,198,2582,2620,4172,0,317,329,140,39,883,959,322,1642,809,1712,1043,1104,400,72,72,283,331,598,620,109,111,189,129,444,176,163,2109,3651,4349,1628,1012,4,30,193,362,359,537,597,1048,1461,2146,663,1450,1706,575,1695,637,1142,935,214,77,255,621,444,751,0,17,23,30,28,242,287,321,412,194,3174,1656,754,311,111,111,80,0,3061,932,386,1046,1596,100,397,314,574,863,912,1617,331,605,1263,2011,1796,2225,3100,3521,3654,661,464,390,335,126,620,1675,434,52,1102,672,1184,612,64,188,626,1435,898,223,349,566,736,244,126,238,939,382,100,350,637,432,285,397,332,285,234,0,445,462,455,208,219,306,196,256,158,47,49,123,233,1326,2215,803,580,199,157,10,10,110,110,55,154,77,35,780,0,0],\"yaxis\":\"y\",\"type\":\"scatter\",\"line\":{\"color\":\"Grey\",\"width\":2}},{\"hovertemplate\":\"Observed=%{x}\\u003cbr\\u003eModel=%{y}\\u003cextra\\u003e\\u003c\\u002fextra\\u003e\",\"legendgroup\":\"\",\"line\":{\"color\":\"Grey\",\"dash\":\"solid\",\"width\":2},\"marker\":{\"symbol\":\"circle\"},\"mode\":\"lines\",\"name\":\"\",\"orientation\":\"v\",\"showlegend\":false,\"x\":[0.0,57.43434343434343,114.86868686868686,172.3030303030303,229.73737373737373,287.17171717171715,344.6060606060606,402.04040404040404,459.47474747474746,516.9090909090909,574.3434343434343,631.7777777777777,689.2121212121212,746.6464646464647,804.0808080808081,861.5151515151515,918.9494949494949,976.3838383838383,1033.8181818181818,1091.2525252525252,1148.6868686868686,1206.121212121212,1263.5555555555554,1320.9898989898988,1378.4242424242425,1435.858585858586,1493.2929292929293,1550.7272727272727,1608.1616161616162,1665.5959595959596,1723.030303030303,1780.4646464646464,1837.8989898989898,1895.3333333333333,1952.7676767676767,2010.20202020202,2067.6363636363635,2125.070707070707,2182.5050505050503,2239.939393939394,2297.373737373737,2354.808080808081,2412.242424242424,2469.6767676767677,2527.111111111111,2584.5454545454545,2641.9797979797977,2699.4141414141413,2756.848484848485,2814.282828282828,2871.717171717172,2929.151515151515,2986.5858585858587,3044.020202020202,3101.4545454545455,3158.8888888888887,3216.3232323232323,3273.7575757575755,3331.191919191919,3388.6262626262624,3446.060606060606,3503.494949494949,3560.929292929293,3618.363636363636,3675.7979797979797,3733.2323232323233,3790.6666666666665,3848.10101010101,3905.5353535353534,3962.969696969697,4020.40404040404,4077.838383838384,4135.272727272727,4192.707070707071,4250.141414141414,4307.575757575757,4365.010101010101,4422.444444444444,4479.878787878788,4537.313131313131,4594.747474747474,4652.181818181818,4709.616161616162,4767.050505050505,4824.484848484848,4881.919191919192,4939.353535353535,4996.787878787879,5054.222222222222,5111.656565656565,5169.090909090909,5226.525252525253,5283.959595959595,5341.393939393939,5398.828282828283,5456.262626262626,5513.69696969697,5571.131313131313,5628.565656565656,5686.0],\"xaxis\":\"x\",\"y\":[-35.18303547125993,36.04483163092017,107.27269873310027,178.50056583528038,249.72843293746047,320.95630003964055,392.1841671418207,463.4120342440008,534.6399013461809,605.867768448361,677.095635550541,748.3235026527211,819.5513697549013,890.7792368570814,962.0071039592615,1033.2349710614417,1104.4628381636217,1175.6907052658019,1246.9185723679818,1318.146439470162,1389.374306572342,1460.6021736745222,1531.8300407767022,1603.0579078788824,1674.2857749810626,1745.5136420832428,1816.7415091854227,1887.969376287603,1959.197243389783,2030.4251104919629,2101.6529775941435,2172.880844696323,2244.1087117985035,2315.336578900683,2386.5644460028634,2457.792313105044,2529.0201802072233,2600.248047309404,2671.475914411584,2742.7037815137646,2813.931648615944,2885.1595157181246,2956.387382820304,3027.6152499224845,3098.843117024664,3170.0709841268445,3241.298851229025,3312.5267183312053,3383.754585433385,3454.9824525355652,3526.2103196377457,3597.438186739925,3668.6660538421056,3739.893920944285,3811.1217880464656,3882.349655148646,3953.5775222508255,4024.805389353006,4096.033256455185,4167.261123557366,4238.488990659546,4309.716857761726,4380.944724863906,4452.172591966086,4523.400459068266,4594.628326170447,4665.856193272626,4737.0840603748065,4808.311927476987,4879.539794579167,4950.767661681347,5021.995528783527,5093.223395885707,5164.451262987887,5235.679130090068,5306.906997192247,5378.134864294428,5449.362731396608,5520.5905984987885,5591.818465600967,5663.0463327031475,5734.274199805328,5805.502066907508,5876.729934009689,5947.957801111868,6019.185668214049,6090.413535316229,6161.641402418409,6232.869269520588,6304.097136622769,6375.325003724949,6446.5528708271295,6517.780737929309,6589.008605031489,6660.23647213367,6731.464339235849,6802.69220633803,6873.920073440209,6945.14794054239,7016.37580764457],\"yaxis\":\"y\",\"type\":\"scatter\"}],                        {\"template\":{\"data\":{\"barpolar\":[{\"marker\":{\"line\":{\"color\":\"white\",\"width\":0.5},\"pattern\":{\"fillmode\":\"overlay\",\"size\":10,\"solidity\":0.2}},\"type\":\"barpolar\"}],\"bar\":[{\"error_x\":{\"color\":\"rgb(36,36,36)\"},\"error_y\":{\"color\":\"rgb(36,36,36)\"},\"marker\":{\"line\":{\"color\":\"white\",\"width\":0.5},\"pattern\":{\"fillmode\":\"overlay\",\"size\":10,\"solidity\":0.2}},\"type\":\"bar\"}],\"carpet\":[{\"aaxis\":{\"endlinecolor\":\"rgb(36,36,36)\",\"gridcolor\":\"white\",\"linecolor\":\"white\",\"minorgridcolor\":\"white\",\"startlinecolor\":\"rgb(36,36,36)\"},\"baxis\":{\"endlinecolor\":\"rgb(36,36,36)\",\"gridcolor\":\"white\",\"linecolor\":\"white\",\"minorgridcolor\":\"white\",\"startlinecolor\":\"rgb(36,36,36)\"},\"type\":\"carpet\"}],\"choropleth\":[{\"colorbar\":{\"outlinewidth\":1,\"tickcolor\":\"rgb(36,36,36)\",\"ticks\":\"outside\"},\"type\":\"choropleth\"}],\"contourcarpet\":[{\"colorbar\":{\"outlinewidth\":1,\"tickcolor\":\"rgb(36,36,36)\",\"ticks\":\"outside\"},\"type\":\"contourcarpet\"}],\"contour\":[{\"colorbar\":{\"outlinewidth\":1,\"tickcolor\":\"rgb(36,36,36)\",\"ticks\":\"outside\"},\"colorscale\":[[0.0,\"#440154\"],[0.1111111111111111,\"#482878\"],[0.2222222222222222,\"#3e4989\"],[0.3333333333333333,\"#31688e\"],[0.4444444444444444,\"#26828e\"],[0.5555555555555556,\"#1f9e89\"],[0.6666666666666666,\"#35b779\"],[0.7777777777777778,\"#6ece58\"],[0.8888888888888888,\"#b5de2b\"],[1.0,\"#fde725\"]],\"type\":\"contour\"}],\"heatmapgl\":[{\"colorbar\":{\"outlinewidth\":1,\"tickcolor\":\"rgb(36,36,36)\",\"ticks\":\"outside\"},\"colorscale\":[[0.0,\"#440154\"],[0.1111111111111111,\"#482878\"],[0.2222222222222222,\"#3e4989\"],[0.3333333333333333,\"#31688e\"],[0.4444444444444444,\"#26828e\"],[0.5555555555555556,\"#1f9e89\"],[0.6666666666666666,\"#35b779\"],[0.7777777777777778,\"#6ece58\"],[0.8888888888888888,\"#b5de2b\"],[1.0,\"#fde725\"]],\"type\":\"heatmapgl\"}],\"heatmap\":[{\"colorbar\":{\"outlinewidth\":1,\"tickcolor\":\"rgb(36,36,36)\",\"ticks\":\"outside\"},\"colorscale\":[[0.0,\"#440154\"],[0.1111111111111111,\"#482878\"],[0.2222222222222222,\"#3e4989\"],[0.3333333333333333,\"#31688e\"],[0.4444444444444444,\"#26828e\"],[0.5555555555555556,\"#1f9e89\"],[0.6666666666666666,\"#35b779\"],[0.7777777777777778,\"#6ece58\"],[0.8888888888888888,\"#b5de2b\"],[1.0,\"#fde725\"]],\"type\":\"heatmap\"}],\"histogram2dcontour\":[{\"colorbar\":{\"outlinewidth\":1,\"tickcolor\":\"rgb(36,36,36)\",\"ticks\":\"outside\"},\"colorscale\":[[0.0,\"#440154\"],[0.1111111111111111,\"#482878\"],[0.2222222222222222,\"#3e4989\"],[0.3333333333333333,\"#31688e\"],[0.4444444444444444,\"#26828e\"],[0.5555555555555556,\"#1f9e89\"],[0.6666666666666666,\"#35b779\"],[0.7777777777777778,\"#6ece58\"],[0.8888888888888888,\"#b5de2b\"],[1.0,\"#fde725\"]],\"type\":\"histogram2dcontour\"}],\"histogram2d\":[{\"colorbar\":{\"outlinewidth\":1,\"tickcolor\":\"rgb(36,36,36)\",\"ticks\":\"outside\"},\"colorscale\":[[0.0,\"#440154\"],[0.1111111111111111,\"#482878\"],[0.2222222222222222,\"#3e4989\"],[0.3333333333333333,\"#31688e\"],[0.4444444444444444,\"#26828e\"],[0.5555555555555556,\"#1f9e89\"],[0.6666666666666666,\"#35b779\"],[0.7777777777777778,\"#6ece58\"],[0.8888888888888888,\"#b5de2b\"],[1.0,\"#fde725\"]],\"type\":\"histogram2d\"}],\"histogram\":[{\"marker\":{\"line\":{\"color\":\"white\",\"width\":0.6}},\"type\":\"histogram\"}],\"mesh3d\":[{\"colorbar\":{\"outlinewidth\":1,\"tickcolor\":\"rgb(36,36,36)\",\"ticks\":\"outside\"},\"type\":\"mesh3d\"}],\"parcoords\":[{\"line\":{\"colorbar\":{\"outlinewidth\":1,\"tickcolor\":\"rgb(36,36,36)\",\"ticks\":\"outside\"}},\"type\":\"parcoords\"}],\"pie\":[{\"automargin\":true,\"type\":\"pie\"}],\"scatter3d\":[{\"line\":{\"colorbar\":{\"outlinewidth\":1,\"tickcolor\":\"rgb(36,36,36)\",\"ticks\":\"outside\"}},\"marker\":{\"colorbar\":{\"outlinewidth\":1,\"tickcolor\":\"rgb(36,36,36)\",\"ticks\":\"outside\"}},\"type\":\"scatter3d\"}],\"scattercarpet\":[{\"marker\":{\"colorbar\":{\"outlinewidth\":1,\"tickcolor\":\"rgb(36,36,36)\",\"ticks\":\"outside\"}},\"type\":\"scattercarpet\"}],\"scattergeo\":[{\"marker\":{\"colorbar\":{\"outlinewidth\":1,\"tickcolor\":\"rgb(36,36,36)\",\"ticks\":\"outside\"}},\"type\":\"scattergeo\"}],\"scattergl\":[{\"marker\":{\"colorbar\":{\"outlinewidth\":1,\"tickcolor\":\"rgb(36,36,36)\",\"ticks\":\"outside\"}},\"type\":\"scattergl\"}],\"scattermapbox\":[{\"marker\":{\"colorbar\":{\"outlinewidth\":1,\"tickcolor\":\"rgb(36,36,36)\",\"ticks\":\"outside\"}},\"type\":\"scattermapbox\"}],\"scatterpolargl\":[{\"marker\":{\"colorbar\":{\"outlinewidth\":1,\"tickcolor\":\"rgb(36,36,36)\",\"ticks\":\"outside\"}},\"type\":\"scatterpolargl\"}],\"scatterpolar\":[{\"marker\":{\"colorbar\":{\"outlinewidth\":1,\"tickcolor\":\"rgb(36,36,36)\",\"ticks\":\"outside\"}},\"type\":\"scatterpolar\"}],\"scatter\":[{\"fillpattern\":{\"fillmode\":\"overlay\",\"size\":10,\"solidity\":0.2},\"type\":\"scatter\"}],\"scatterternary\":[{\"marker\":{\"colorbar\":{\"outlinewidth\":1,\"tickcolor\":\"rgb(36,36,36)\",\"ticks\":\"outside\"}},\"type\":\"scatterternary\"}],\"surface\":[{\"colorbar\":{\"outlinewidth\":1,\"tickcolor\":\"rgb(36,36,36)\",\"ticks\":\"outside\"},\"colorscale\":[[0.0,\"#440154\"],[0.1111111111111111,\"#482878\"],[0.2222222222222222,\"#3e4989\"],[0.3333333333333333,\"#31688e\"],[0.4444444444444444,\"#26828e\"],[0.5555555555555556,\"#1f9e89\"],[0.6666666666666666,\"#35b779\"],[0.7777777777777778,\"#6ece58\"],[0.8888888888888888,\"#b5de2b\"],[1.0,\"#fde725\"]],\"type\":\"surface\"}],\"table\":[{\"cells\":{\"fill\":{\"color\":\"rgb(237,237,237)\"},\"line\":{\"color\":\"white\"}},\"header\":{\"fill\":{\"color\":\"rgb(217,217,217)\"},\"line\":{\"color\":\"white\"}},\"type\":\"table\"}]},\"layout\":{\"annotationdefaults\":{\"arrowhead\":0,\"arrowwidth\":1},\"autotypenumbers\":\"strict\",\"coloraxis\":{\"colorbar\":{\"outlinewidth\":1,\"tickcolor\":\"rgb(36,36,36)\",\"ticks\":\"outside\"}},\"colorscale\":{\"diverging\":[[0.0,\"rgb(103,0,31)\"],[0.1,\"rgb(178,24,43)\"],[0.2,\"rgb(214,96,77)\"],[0.3,\"rgb(244,165,130)\"],[0.4,\"rgb(253,219,199)\"],[0.5,\"rgb(247,247,247)\"],[0.6,\"rgb(209,229,240)\"],[0.7,\"rgb(146,197,222)\"],[0.8,\"rgb(67,147,195)\"],[0.9,\"rgb(33,102,172)\"],[1.0,\"rgb(5,48,97)\"]],\"sequential\":[[0.0,\"#440154\"],[0.1111111111111111,\"#482878\"],[0.2222222222222222,\"#3e4989\"],[0.3333333333333333,\"#31688e\"],[0.4444444444444444,\"#26828e\"],[0.5555555555555556,\"#1f9e89\"],[0.6666666666666666,\"#35b779\"],[0.7777777777777778,\"#6ece58\"],[0.8888888888888888,\"#b5de2b\"],[1.0,\"#fde725\"]],\"sequentialminus\":[[0.0,\"#440154\"],[0.1111111111111111,\"#482878\"],[0.2222222222222222,\"#3e4989\"],[0.3333333333333333,\"#31688e\"],[0.4444444444444444,\"#26828e\"],[0.5555555555555556,\"#1f9e89\"],[0.6666666666666666,\"#35b779\"],[0.7777777777777778,\"#6ece58\"],[0.8888888888888888,\"#b5de2b\"],[1.0,\"#fde725\"]]},\"colorway\":[\"#91268F\",\"#8CC63E\",\"#00A7A0\",\"#F05A28\",\"#4C4C4C\",\"#630460\",\"#9f3913\",\"#588527\",\"#00716c\",\"#3e4040\"],\"font\":{\"color\":\"rgb(36,36,36)\",\"family\":\"Poppins\",\"size\":11},\"geo\":{\"bgcolor\":\"white\",\"lakecolor\":\"white\",\"landcolor\":\"white\",\"showlakes\":true,\"showland\":true,\"subunitcolor\":\"white\"},\"hoverlabel\":{\"align\":\"left\"},\"hovermode\":\"closest\",\"mapbox\":{\"style\":\"light\"},\"paper_bgcolor\":\"white\",\"plot_bgcolor\":\"white\",\"polar\":{\"angularaxis\":{\"gridcolor\":\"rgb(232,232,232)\",\"linecolor\":\"rgb(36,36,36)\",\"showgrid\":false,\"showline\":true,\"ticks\":\"outside\"},\"bgcolor\":\"white\",\"radialaxis\":{\"gridcolor\":\"rgb(232,232,232)\",\"linecolor\":\"rgb(36,36,36)\",\"showgrid\":false,\"showline\":true,\"ticks\":\"outside\"}},\"scene\":{\"xaxis\":{\"backgroundcolor\":\"white\",\"gridcolor\":\"rgb(232,232,232)\",\"gridwidth\":2,\"linecolor\":\"rgb(36,36,36)\",\"showbackground\":true,\"showgrid\":false,\"showline\":true,\"ticks\":\"outside\",\"zeroline\":false,\"zerolinecolor\":\"rgb(36,36,36)\"},\"yaxis\":{\"backgroundcolor\":\"white\",\"gridcolor\":\"rgb(232,232,232)\",\"gridwidth\":2,\"linecolor\":\"rgb(36,36,36)\",\"showbackground\":true,\"showgrid\":false,\"showline\":true,\"ticks\":\"outside\",\"zeroline\":false,\"zerolinecolor\":\"rgb(36,36,36)\"},\"zaxis\":{\"backgroundcolor\":\"white\",\"gridcolor\":\"rgb(232,232,232)\",\"gridwidth\":2,\"linecolor\":\"rgb(36,36,36)\",\"showbackground\":true,\"showgrid\":false,\"showline\":true,\"ticks\":\"outside\",\"zeroline\":false,\"zerolinecolor\":\"rgb(36,36,36)\"}},\"shapedefaults\":{\"fillcolor\":\"black\",\"line\":{\"width\":0},\"opacity\":0.3},\"ternary\":{\"aaxis\":{\"gridcolor\":\"rgb(232,232,232)\",\"linecolor\":\"rgb(36,36,36)\",\"showgrid\":false,\"showline\":true,\"ticks\":\"outside\"},\"baxis\":{\"gridcolor\":\"rgb(232,232,232)\",\"linecolor\":\"rgb(36,36,36)\",\"showgrid\":false,\"showline\":true,\"ticks\":\"outside\"},\"bgcolor\":\"white\",\"caxis\":{\"gridcolor\":\"rgb(232,232,232)\",\"linecolor\":\"rgb(36,36,36)\",\"showgrid\":false,\"showline\":true,\"ticks\":\"outside\"}},\"title\":{\"x\":0.05},\"xaxis\":{\"automargin\":true,\"gridcolor\":\"rgb(232,232,232)\",\"linecolor\":\"rgb(36,36,36)\",\"showgrid\":false,\"showline\":true,\"ticks\":\"outside\",\"title\":{\"standoff\":15},\"zeroline\":false,\"zerolinecolor\":\"rgb(36,36,36)\"},\"yaxis\":{\"automargin\":true,\"gridcolor\":\"rgb(232,232,232)\",\"linecolor\":\"rgb(36,36,36)\",\"showgrid\":false,\"showline\":true,\"ticks\":\"outside\",\"title\":{\"standoff\":15},\"zeroline\":false,\"zerolinecolor\":\"rgb(36,36,36)\"}}},\"xaxis\":{\"anchor\":\"y\",\"domain\":[0.0,1.0],\"title\":{\"text\":\"Observed\"}},\"yaxis\":{\"anchor\":\"x\",\"domain\":[0.0,1.0],\"title\":{\"text\":\"Model\"}},\"legend\":{\"tracegroupgap\":0},\"title\":{\"text\":\"Medium Trucks: Region\"},\"margin\":{\"l\":100,\"r\":100,\"t\":100,\"b\":100},\"height\":600,\"width\":800,\"shapes\":[{\"line\":{\"color\":\"Red\",\"dash\":\"dash\",\"width\":2},\"type\":\"line\",\"x0\":0,\"x1\":10932,\"y0\":0,\"y1\":10932}],\"annotations\":[{\"align\":\"right\",\"font\":{\"color\":\"pink\",\"size\":12},\"showarrow\":false,\"text\":\"y = x\",\"x\":11478.6,\"y\":11478.6},{\"align\":\"right\",\"font\":{\"color\":\"black\",\"size\":12},\"showarrow\":false,\"text\":\"r^2 = 0.52\",\"x\":5970.3,\"y\":7367.194598026799}]},                        {\"responsive\": true}                    ).then(function(){\n",
       "                            \n",
       "var gd = document.getElementById('a942a0b8-9edb-4324-a16f-20aa23c4048c');\n",
       "var x = new MutationObserver(function (mutations, observer) {{\n",
       "        var display = window.getComputedStyle(gd).display;\n",
       "        if (!display || display === 'none') {{\n",
       "            console.log([gd, 'removed!']);\n",
       "            Plotly.purge(gd);\n",
       "            observer.disconnect();\n",
       "        }}\n",
       "}});\n",
       "\n",
       "// Listen for the removal of the full notebook cells\n",
       "var notebookContainer = gd.closest('#notebook-container');\n",
       "if (notebookContainer) {{\n",
       "    x.observe(notebookContainer, {childList: true});\n",
       "}}\n",
       "\n",
       "// Listen for the clearing of the current output cell\n",
       "var outputEl = gd.closest('.output');\n",
       "if (outputEl) {{\n",
       "    x.observe(outputEl, {childList: true});\n",
       "}}\n",
       "\n",
       "                        })                };                });            </script>        </div>"
      ]
     },
     "metadata": {},
     "output_type": "display_data"
    }
   ],
   "source": [
    "fig = create_truck_chart(df_daily_med, 'Medium')\n",
    "fig.show()"
   ]
  },
  {
   "cell_type": "raw",
   "id": "d673c0fb",
   "metadata": {},
   "source": [
    "#### King"
   ]
  },
  {
   "cell_type": "code",
   "execution_count": 30,
   "id": "e5361979",
   "metadata": {},
   "outputs": [
    {
     "data": {
      "application/vnd.plotly.v1+json": {
       "config": {
        "plotlyServerURL": "https://plot.ly"
       },
       "data": [
        {
         "customdata": [
          [
           "I-5 S/O 205th NB",
           "King"
          ],
          [
           "I-5 S/O 205th SB",
           "King"
          ],
          [
           "I-5 Rev N/O I-5 GP NB/SB",
           "King"
          ],
          [
           "I-90 E/O I-5 WB",
           "King"
          ],
          [
           "I-90 E/O I-5 EB",
           "King"
          ],
          [
           "I-90 E/O W Lk Sam WB",
           "King"
          ],
          [
           "I-90 E/O W Lk Sam EB",
           "King"
          ],
          [
           "I-90 E/O SR-900 WB",
           "King"
          ],
          [
           "I-405 @ I-5 Southcenter NB",
           "King"
          ],
          [
           "I-405 @ I-5 Southcenter SB",
           "King"
          ],
          [
           "I-405 @ Lake Wash Blvd NB",
           "King"
          ],
          [
           "I-405 @ I-90 NB",
           "King"
          ],
          [
           "I-405 @ I-90 SB",
           "King"
          ],
          [
           "SR-520 @ x-lake bridge WB",
           "King"
          ],
          [
           "SR-520 @ x-lake bridge EB",
           "King"
          ],
          [
           "SR-167 S/O 43rd NB",
           "King"
          ],
          [
           "SR-167 S/O 43rd SB",
           "King"
          ],
          [
           "SR-167 N/O SR-18 NB",
           "King"
          ],
          [
           "SR-167 N/O SR-18 SB",
           "King"
          ],
          [
           "SR-167 S/O 15th SW NB",
           "King"
          ],
          [
           "SR-167 S/O 15th SW SB",
           "King"
          ],
          [
           "SR-509 @ Holden NB",
           "King"
          ],
          [
           "SR-509 @ Holden SB",
           "King"
          ],
          [
           "SR-99 N/O 14th NB",
           "King"
          ],
          [
           "SR-99 N/O 14th SB",
           "King"
          ],
          [
           "SR-99 N/O WSF NB",
           "King"
          ],
          [
           "SR-99 N/O WSF SB",
           "King"
          ],
          [
           "SR-99 tunnel NB",
           "King"
          ],
          [
           "SR-99 tunnel SB",
           "King"
          ],
          [
           "SR-599 S/O Pacific NB",
           "King"
          ],
          [
           "SR-599 S/O Pacific SB",
           "King"
          ],
          [
           "SR-599 @ Pacific NB",
           "King"
          ],
          [
           "SR-599 @ Pacific SB",
           "King"
          ],
          [
           "SR-18 @ I-5 WB",
           "King"
          ],
          [
           "SR-18 @ I-5 EB",
           "King"
          ],
          [
           "SR-18 W/O Auburn-Black Diamond WB",
           "King"
          ],
          [
           "SR-18 W/O Auburn-Black Diamond EB",
           "King"
          ],
          [
           "SR-18 E/O SR-516 WB",
           "King"
          ],
          [
           "SR-18 E/O SR-516 EB",
           "King"
          ],
          [
           "SR-18 E/O 256th WB",
           "King"
          ],
          [
           "SR-18 E/O 256th EB",
           "King"
          ],
          [
           "SR-522 N/O 195th WB",
           "King"
          ],
          [
           "SR-522 N/O 195th EB",
           "King"
          ],
          [
           "I-5 N/O I-5 Rev CBD NB/SB",
           "King"
          ],
          [
           "I-90 W/O SR-18 WB/EB",
           "King"
          ],
          [
           "I-90 E/O SR-18 WB/EB",
           "King"
          ],
          [
           "I-90 E/O 436th WB/EB",
           "King"
          ],
          [
           "I-90 @ Kittitas County WB/EB",
           "King"
          ],
          [
           "I-405 N/O SR-522 NB/SB",
           "King"
          ],
          [
           "SR-167 N/O Grady NB/SB",
           "King"
          ],
          [
           "SR-410 E/O 244th WB/EB",
           "King"
          ],
          [
           "SR-410 E/O Farman WB/EB",
           "King"
          ],
          [
           "SR-410 @ Greenwater River WB/EB",
           "King"
          ],
          [
           "SR-509 E/O 47th NB/SB",
           "King"
          ],
          [
           "SR-509 E/O 21st NB/SB",
           "King"
          ],
          [
           "SR-509 W/O SR-516 NB/SB",
           "King"
          ],
          [
           "SR-509 W/O Des Moines Mem NB/SB",
           "King"
          ],
          [
           "SR-509 E/O 1st Ave NB/SB",
           "King"
          ],
          [
           "SR-509 E/O Des Moines Mem NB/SB",
           "King"
          ],
          [
           "SR-509 @ SR-509 ramp overpass NB/SB",
           "King"
          ],
          [
           "SR-509 N/O Des Moines Mem NB/SB",
           "King"
          ],
          [
           "SR-509 N/O SR-518 NB/SB",
           "King"
          ],
          [
           "SR-99 S/O SR-18 NB/SB",
           "King"
          ],
          [
           "SR-99 N/O SR-18 NB/SB",
           "King"
          ],
          [
           "SR-99 N/O 320th NB/SB",
           "King"
          ],
          [
           "SR-99 N/O 188th NB/SB",
           "King"
          ],
          [
           "SR-99 @ WSF NB/SB",
           "King"
          ],
          [
           "SR-99 @ Aurora Bridge NB/SB",
           "King"
          ],
          [
           "SR-99 N/O 38th NB/SB",
           "King"
          ],
          [
           "SR-99 S/O Roosevelt NB/SB",
           "King"
          ],
          [
           "SR-599 N/O I-5 NB/SB",
           "King"
          ],
          [
           "SR-518 @ SR-509 WB/EB",
           "King"
          ],
          [
           "SR-518 E/O SR-509 WB/EB",
           "King"
          ],
          [
           "SR-18 E/O SR-99 WB/EB",
           "King"
          ],
          [
           "SR-18 N/O 304th WB/EB",
           "King"
          ],
          [
           "SR-18 S/O I-90 WB/EB",
           "King"
          ],
          [
           "SR-202 @ SR-522 NB/SB",
           "King"
          ],
          [
           "SR-202 N/O 145th NB/SB",
           "King"
          ],
          [
           "SR-202 @ Sammamish River Br NB/SB",
           "King"
          ],
          [
           "SR-202 S/O 144th NB/SB",
           "King"
          ],
          [
           "SR-202 N/O Redmond Way NB/SB",
           "King"
          ],
          [
           "SR-202 E/O 164th NB/SB",
           "King"
          ],
          [
           "SR-202 E/O SR-520 NB/SB",
           "King"
          ],
          [
           "SR-202 E/O E Lk Samm NB/SB",
           "King"
          ],
          [
           "SR-202 E/O Sahalee NB/SB",
           "King"
          ],
          [
           "SR-202 E/O 236th NB/SB",
           "King"
          ],
          [
           "SR-202 S/O Ames Lake NB/SB",
           "King"
          ],
          [
           "SR-202 S/O Duthie Hill NB/SB",
           "King"
          ],
          [
           "SR-202 E/O SR-203 NB/SB",
           "King"
          ],
          [
           "SR-202 N/O I-90 NB/SB",
           "King"
          ],
          [
           "SR-522 N/O 145th NB/SB",
           "King"
          ],
          [
           "SR-104 W/O 19th WB/EB",
           "King"
          ],
          [
           "SR-516 E/O SR-509 WB/EB",
           "King"
          ],
          [
           "SR-516 W/O I-5 WB/EB",
           "King"
          ],
          [
           "SR-516 E/O Meeker WB/EB",
           "King"
          ],
          [
           "SR-516 W/O SR-167 WB/EB",
           "King"
          ],
          [
           "SR-516 E/O SR-167 WB/EB",
           "King"
          ],
          [
           "SR-516 E/O SR-18 WB/EB",
           "King"
          ],
          [
           "SR-900 S/O NB I-5 on-ramp @ Boe Acc WB/EB",
           "King"
          ],
          [
           "SR-900 E/O 68th WB/EB",
           "King"
          ],
          [
           "SR-900 @ I-405 WB/EB",
           "King"
          ],
          [
           "SR-900 E/O 148th WB/EB",
           "King"
          ],
          [
           "SR-900 N/O Talus WB/EB",
           "King"
          ],
          [
           "SR-900 N/O Newport WB/EB",
           "King"
          ],
          [
           "SR-2 E/O Skykomish WB/EB",
           "King"
          ],
          [
           "SR-513 S/O 44th NB/SB",
           "King"
          ],
          [
           "SR-169 N/O SR-164 NB/SB",
           "King"
          ],
          [
           "SR-169 S/O Lawson NB/SB",
           "King"
          ],
          [
           "SR-169 S/O 276th NB/SB",
           "King"
          ],
          [
           "SR-169 N/O 280th NB/SB",
           "King"
          ],
          [
           "SR-169 N/O 231st NB/SB",
           "King"
          ],
          [
           "SR-169 N/O 232nd NB/SB",
           "King"
          ],
          [
           "SR-169 W/O 140th NB/SB",
           "King"
          ],
          [
           "SR-515 N/O SR-516 NB/SB",
           "King"
          ],
          [
           "SR-515 N/O 108th NB/SB",
           "King"
          ],
          [
           "SR-515 N/O Puget NB/SB",
           "King"
          ],
          [
           "SR-181 N/O SR-516 NB/SB",
           "King"
          ],
          [
           "SR-181 S/O James NB/SB",
           "King"
          ],
          [
           "SR-181 N/O James NB/SB",
           "King"
          ],
          [
           "SR-181 N/O 228th NB/SB",
           "King"
          ],
          [
           "SR-181 N/O 180th NB/SB",
           "King"
          ],
          [
           "SR-181 S/O Longacres NB/SB",
           "King"
          ],
          [
           "SR-523 E/O Lenora WB/EB",
           "King"
          ],
          [
           "SR-164 @ SR-18 WB/EB",
           "King"
          ],
          [
           "SR-164 S/O 400th WB/EB",
           "King"
          ],
          [
           "SR-203 N/O Cherry Valley NB/SB",
           "King"
          ],
          [
           "SR-203 N/O 124th NB/SB",
           "King"
          ],
          [
           "SR-203 W/O Stillwater Hill NB/SB",
           "King"
          ],
          [
           "SR-203 N/O Carnation Farm NB/SB",
           "King"
          ],
          [
           "SR-203 N/O Tolt Hill NB/SB",
           "King"
          ],
          [
           "SR-203 N/O SR-202 NB/SB",
           "King"
          ],
          [
           "SR-519 W/O 4th NB/SB",
           "King"
          ]
         ],
         "hovertemplate": "Observed=%{x}<br>Model=%{y}<br>location=%{customdata[0]}<br>County=%{customdata[1]}<extra></extra>",
         "legendgroup": "",
         "line": {
          "color": "Grey",
          "width": 2
         },
         "marker": {
          "color": "#91268F",
          "symbol": "circle"
         },
         "mode": "markers",
         "name": "",
         "orientation": "v",
         "showlegend": false,
         "type": "scatter",
         "x": [
          1786,
          1909,
          645,
          1525,
          1405,
          1400,
          1380,
          1329,
          1046,
          1702,
          2618,
          3724,
          2998,
          1030,
          1032,
          2276,
          2432,
          2405,
          2415,
          2776,
          2536,
          1806,
          1814,
          850,
          630,
          1279,
          1163,
          1067,
          968,
          859,
          720,
          1271,
          842,
          534,
          973,
          1357,
          1295,
          882,
          869,
          1054,
          1031,
          1556,
          1676,
          2448,
          1769,
          2644,
          1594,
          1323,
          3333,
          1270,
          970,
          554,
          73,
          128,
          408,
          680,
          240,
          102,
          421,
          720,
          1320,
          1488,
          1053,
          600,
          704,
          2349,
          1643,
          2416,
          1512,
          1056,
          2808,
          787,
          1075,
          1329,
          2434,
          1344,
          882,
          249,
          217,
          662,
          506,
          815,
          1705,
          1125,
          874,
          457,
          589,
          363,
          431,
          331,
          1170,
          475,
          260,
          1080,
          875,
          1680,
          984,
          975,
          924,
          392,
          754,
          198,
          682,
          546,
          214,
          728,
          398,
          594,
          816,
          546,
          1675,
          1058,
          1014,
          825,
          408,
          893,
          1798,
          1265,
          1450,
          1650,
          1620,
          2108,
          609,
          810,
          660,
          590,
          741,
          486,
          490,
          539,
          502,
          1044
         ],
         "xaxis": "x",
         "y": [
          6456,
          6274,
          3132,
          4548,
          4760,
          2608,
          2655,
          1829,
          1398,
          3129,
          6028,
          5116,
          5067,
          3546,
          3461,
          3661,
          4120,
          4609,
          4784,
          3966,
          3964,
          1612,
          1736,
          1512,
          971,
          2246,
          2422,
          1327,
          1530,
          1856,
          1616,
          1628,
          1266,
          1084,
          777,
          1411,
          1292,
          856,
          801,
          889,
          826,
          1784,
          1648,
          10932,
          1592,
          1280,
          62,
          0,
          9001,
          2043,
          377,
          52,
          41,
          72,
          334,
          251,
          148,
          80,
          104,
          855,
          1801,
          2749,
          1329,
          828,
          711,
          1734,
          3511,
          3096,
          1861,
          648,
          3403,
          1791,
          1937,
          1910,
          2186,
          875,
          779,
          410,
          264,
          823,
          370,
          396,
          2158,
          1392,
          524,
          491,
          379,
          192,
          273,
          667,
          2107,
          472,
          163,
          2109,
          3651,
          4349,
          1628,
          1012,
          1706,
          575,
          1695,
          637,
          1142,
          935,
          0,
          1596,
          100,
          397,
          314,
          574,
          863,
          912,
          1617,
          331,
          605,
          1263,
          2011,
          1796,
          2225,
          3100,
          3521,
          3654,
          661,
          1102,
          672,
          462,
          455,
          208,
          219,
          306,
          196,
          2215
         ],
         "yaxis": "y"
        },
        {
         "hovertemplate": "Observed=%{x}<br>Model=%{y}<extra></extra>",
         "legendgroup": "",
         "line": {
          "color": "Grey",
          "dash": "solid",
          "width": 2
         },
         "marker": {
          "symbol": "circle"
         },
         "mode": "lines",
         "name": "",
         "orientation": "v",
         "showlegend": false,
         "type": "scatter",
         "x": [
          0.0,
          37.61616161616162,
          75.23232323232324,
          112.84848484848486,
          150.46464646464648,
          188.08080808080808,
          225.69696969696972,
          263.31313131313135,
          300.92929292929296,
          338.54545454545456,
          376.16161616161617,
          413.7777777777778,
          451.39393939393943,
          489.01010101010104,
          526.6262626262627,
          564.2424242424242,
          601.8585858585859,
          639.4747474747476,
          677.0909090909091,
          714.7070707070708,
          752.3232323232323,
          789.939393939394,
          827.5555555555557,
          865.1717171717172,
          902.7878787878789,
          940.4040404040405,
          978.0202020202021,
          1015.6363636363637,
          1053.2525252525254,
          1090.868686868687,
          1128.4848484848485,
          1166.1010101010102,
          1203.7171717171718,
          1241.3333333333335,
          1278.9494949494951,
          1316.5656565656566,
          1354.1818181818182,
          1391.79797979798,
          1429.4141414141416,
          1467.0303030303032,
          1504.6464646464647,
          1542.2626262626263,
          1579.878787878788,
          1617.4949494949497,
          1655.1111111111113,
          1692.727272727273,
          1730.3434343434344,
          1767.959595959596,
          1805.5757575757577,
          1843.1919191919194,
          1880.808080808081,
          1918.4242424242425,
          1956.0404040404042,
          1993.6565656565658,
          2031.2727272727275,
          2068.888888888889,
          2106.505050505051,
          2144.1212121212125,
          2181.737373737374,
          2219.3535353535353,
          2256.969696969697,
          2294.5858585858587,
          2332.2020202020203,
          2369.818181818182,
          2407.4343434343436,
          2445.0505050505053,
          2482.666666666667,
          2520.2828282828286,
          2557.8989898989903,
          2595.515151515152,
          2633.131313131313,
          2670.747474747475,
          2708.3636363636365,
          2745.979797979798,
          2783.59595959596,
          2821.2121212121215,
          2858.828282828283,
          2896.444444444445,
          2934.0606060606065,
          2971.676767676768,
          3009.2929292929293,
          3046.909090909091,
          3084.5252525252527,
          3122.1414141414143,
          3159.757575757576,
          3197.3737373737376,
          3234.9898989898993,
          3272.606060606061,
          3310.2222222222226,
          3347.8383838383843,
          3385.454545454546,
          3423.070707070707,
          3460.686868686869,
          3498.3030303030305,
          3535.919191919192,
          3573.535353535354,
          3611.1515151515155,
          3648.767676767677,
          3686.383838383839,
          3724.0
         ],
         "xaxis": "x",
         "y": [
          -342.0050222702637,
          -272.8550336386245,
          -203.7050450069853,
          -134.55505637534608,
          -65.40506774370692,
          3.744920887932267,
          72.89490951957151,
          142.0448981512107,
          211.19488678284984,
          280.344875414489,
          349.4948640461282,
          418.6448526777675,
          487.7948413094067,
          556.9448299410458,
          626.0948185726851,
          695.2448072043242,
          764.3947958359634,
          833.5447844676028,
          902.6947730992417,
          971.8447617308811,
          1040.99475036252,
          1110.1447389941593,
          1179.2947276257987,
          1248.4447162574377,
          1317.594704889077,
          1386.7446935207163,
          1455.8946821523552,
          1525.0446707839947,
          1594.1946594156339,
          1663.344648047273,
          1732.494636678912,
          1801.6446253105512,
          1870.7946139421904,
          1939.94460257383,
          2009.0945912054692,
          2078.244579837108,
          2147.394568468747,
          2216.5445571003866,
          2285.694545732026,
          2354.844534363665,
          2423.9945229953037,
          2493.1445116269433,
          2562.294500258582,
          2631.4444888902217,
          2700.5944775218613,
          2769.7444661535,
          2838.894454785139,
          2908.0444434167784,
          2977.194432048418,
          3046.344420680057,
          3115.4944093116965,
          3184.644397943335,
          3253.794386574974,
          3322.9443752066136,
          3392.0943638382532,
          3461.244352469892,
          3530.3943411015316,
          3599.5443297331703,
          3668.69431836481,
          3737.8443069964487,
          3806.9942956280875,
          3876.144284259727,
          3945.294272891366,
          4014.4442615230055,
          4083.594250154644,
          4152.744238786284,
          4221.8942274179235,
          4291.044216049562,
          4360.194204681202,
          4429.344193312841,
          4498.494181944479,
          4567.644170576119,
          4636.794159207758,
          4705.944147839397,
          4775.094136471036,
          4844.244125102676,
          4913.394113734315,
          4982.544102365954,
          5051.694090997594,
          5120.8440796292325,
          5189.994068260871,
          5259.144056892511,
          5328.29404552415,
          5397.444034155789,
          5466.594022787428,
          5535.744011419068,
          5604.894000050707,
          5674.043988682346,
          5743.193977313986,
          5812.343965945624,
          5881.493954577264,
          5950.643943208903,
          6019.7939318405415,
          6088.943920472181,
          6158.09390910382,
          6227.2438977354595,
          6296.393886367099,
          6365.543874998738,
          6434.693863630378,
          6503.843852262015
         ],
         "yaxis": "y"
        }
       ],
       "layout": {
        "annotations": [
         {
          "align": "right",
          "font": {
           "color": "pink",
           "size": 12
          },
          "showarrow": false,
          "text": "y = x",
          "x": 11478.6,
          "y": 11478.6
         },
         {
          "align": "right",
          "font": {
           "color": "black",
           "size": 12
          },
          "showarrow": false,
          "text": "r^2 = 0.56",
          "x": 3910.2000000000003,
          "y": 6829.036044875116
         }
        ],
        "height": 600,
        "legend": {
         "tracegroupgap": 0
        },
        "margin": {
         "b": 100,
         "l": 100,
         "r": 100,
         "t": 100
        },
        "shapes": [
         {
          "line": {
           "color": "Red",
           "dash": "dash",
           "width": 2
          },
          "type": "line",
          "x0": 0,
          "x1": 10932,
          "y0": 0,
          "y1": 10932
         }
        ],
        "template": {
         "data": {
          "bar": [
           {
            "error_x": {
             "color": "rgb(36,36,36)"
            },
            "error_y": {
             "color": "rgb(36,36,36)"
            },
            "marker": {
             "line": {
              "color": "white",
              "width": 0.5
             },
             "pattern": {
              "fillmode": "overlay",
              "size": 10,
              "solidity": 0.2
             }
            },
            "type": "bar"
           }
          ],
          "barpolar": [
           {
            "marker": {
             "line": {
              "color": "white",
              "width": 0.5
             },
             "pattern": {
              "fillmode": "overlay",
              "size": 10,
              "solidity": 0.2
             }
            },
            "type": "barpolar"
           }
          ],
          "carpet": [
           {
            "aaxis": {
             "endlinecolor": "rgb(36,36,36)",
             "gridcolor": "white",
             "linecolor": "white",
             "minorgridcolor": "white",
             "startlinecolor": "rgb(36,36,36)"
            },
            "baxis": {
             "endlinecolor": "rgb(36,36,36)",
             "gridcolor": "white",
             "linecolor": "white",
             "minorgridcolor": "white",
             "startlinecolor": "rgb(36,36,36)"
            },
            "type": "carpet"
           }
          ],
          "choropleth": [
           {
            "colorbar": {
             "outlinewidth": 1,
             "tickcolor": "rgb(36,36,36)",
             "ticks": "outside"
            },
            "type": "choropleth"
           }
          ],
          "contour": [
           {
            "colorbar": {
             "outlinewidth": 1,
             "tickcolor": "rgb(36,36,36)",
             "ticks": "outside"
            },
            "colorscale": [
             [
              0.0,
              "#440154"
             ],
             [
              0.1111111111111111,
              "#482878"
             ],
             [
              0.2222222222222222,
              "#3e4989"
             ],
             [
              0.3333333333333333,
              "#31688e"
             ],
             [
              0.4444444444444444,
              "#26828e"
             ],
             [
              0.5555555555555556,
              "#1f9e89"
             ],
             [
              0.6666666666666666,
              "#35b779"
             ],
             [
              0.7777777777777778,
              "#6ece58"
             ],
             [
              0.8888888888888888,
              "#b5de2b"
             ],
             [
              1.0,
              "#fde725"
             ]
            ],
            "type": "contour"
           }
          ],
          "contourcarpet": [
           {
            "colorbar": {
             "outlinewidth": 1,
             "tickcolor": "rgb(36,36,36)",
             "ticks": "outside"
            },
            "type": "contourcarpet"
           }
          ],
          "heatmap": [
           {
            "colorbar": {
             "outlinewidth": 1,
             "tickcolor": "rgb(36,36,36)",
             "ticks": "outside"
            },
            "colorscale": [
             [
              0.0,
              "#440154"
             ],
             [
              0.1111111111111111,
              "#482878"
             ],
             [
              0.2222222222222222,
              "#3e4989"
             ],
             [
              0.3333333333333333,
              "#31688e"
             ],
             [
              0.4444444444444444,
              "#26828e"
             ],
             [
              0.5555555555555556,
              "#1f9e89"
             ],
             [
              0.6666666666666666,
              "#35b779"
             ],
             [
              0.7777777777777778,
              "#6ece58"
             ],
             [
              0.8888888888888888,
              "#b5de2b"
             ],
             [
              1.0,
              "#fde725"
             ]
            ],
            "type": "heatmap"
           }
          ],
          "heatmapgl": [
           {
            "colorbar": {
             "outlinewidth": 1,
             "tickcolor": "rgb(36,36,36)",
             "ticks": "outside"
            },
            "colorscale": [
             [
              0.0,
              "#440154"
             ],
             [
              0.1111111111111111,
              "#482878"
             ],
             [
              0.2222222222222222,
              "#3e4989"
             ],
             [
              0.3333333333333333,
              "#31688e"
             ],
             [
              0.4444444444444444,
              "#26828e"
             ],
             [
              0.5555555555555556,
              "#1f9e89"
             ],
             [
              0.6666666666666666,
              "#35b779"
             ],
             [
              0.7777777777777778,
              "#6ece58"
             ],
             [
              0.8888888888888888,
              "#b5de2b"
             ],
             [
              1.0,
              "#fde725"
             ]
            ],
            "type": "heatmapgl"
           }
          ],
          "histogram": [
           {
            "marker": {
             "line": {
              "color": "white",
              "width": 0.6
             }
            },
            "type": "histogram"
           }
          ],
          "histogram2d": [
           {
            "colorbar": {
             "outlinewidth": 1,
             "tickcolor": "rgb(36,36,36)",
             "ticks": "outside"
            },
            "colorscale": [
             [
              0.0,
              "#440154"
             ],
             [
              0.1111111111111111,
              "#482878"
             ],
             [
              0.2222222222222222,
              "#3e4989"
             ],
             [
              0.3333333333333333,
              "#31688e"
             ],
             [
              0.4444444444444444,
              "#26828e"
             ],
             [
              0.5555555555555556,
              "#1f9e89"
             ],
             [
              0.6666666666666666,
              "#35b779"
             ],
             [
              0.7777777777777778,
              "#6ece58"
             ],
             [
              0.8888888888888888,
              "#b5de2b"
             ],
             [
              1.0,
              "#fde725"
             ]
            ],
            "type": "histogram2d"
           }
          ],
          "histogram2dcontour": [
           {
            "colorbar": {
             "outlinewidth": 1,
             "tickcolor": "rgb(36,36,36)",
             "ticks": "outside"
            },
            "colorscale": [
             [
              0.0,
              "#440154"
             ],
             [
              0.1111111111111111,
              "#482878"
             ],
             [
              0.2222222222222222,
              "#3e4989"
             ],
             [
              0.3333333333333333,
              "#31688e"
             ],
             [
              0.4444444444444444,
              "#26828e"
             ],
             [
              0.5555555555555556,
              "#1f9e89"
             ],
             [
              0.6666666666666666,
              "#35b779"
             ],
             [
              0.7777777777777778,
              "#6ece58"
             ],
             [
              0.8888888888888888,
              "#b5de2b"
             ],
             [
              1.0,
              "#fde725"
             ]
            ],
            "type": "histogram2dcontour"
           }
          ],
          "mesh3d": [
           {
            "colorbar": {
             "outlinewidth": 1,
             "tickcolor": "rgb(36,36,36)",
             "ticks": "outside"
            },
            "type": "mesh3d"
           }
          ],
          "parcoords": [
           {
            "line": {
             "colorbar": {
              "outlinewidth": 1,
              "tickcolor": "rgb(36,36,36)",
              "ticks": "outside"
             }
            },
            "type": "parcoords"
           }
          ],
          "pie": [
           {
            "automargin": true,
            "type": "pie"
           }
          ],
          "scatter": [
           {
            "fillpattern": {
             "fillmode": "overlay",
             "size": 10,
             "solidity": 0.2
            },
            "type": "scatter"
           }
          ],
          "scatter3d": [
           {
            "line": {
             "colorbar": {
              "outlinewidth": 1,
              "tickcolor": "rgb(36,36,36)",
              "ticks": "outside"
             }
            },
            "marker": {
             "colorbar": {
              "outlinewidth": 1,
              "tickcolor": "rgb(36,36,36)",
              "ticks": "outside"
             }
            },
            "type": "scatter3d"
           }
          ],
          "scattercarpet": [
           {
            "marker": {
             "colorbar": {
              "outlinewidth": 1,
              "tickcolor": "rgb(36,36,36)",
              "ticks": "outside"
             }
            },
            "type": "scattercarpet"
           }
          ],
          "scattergeo": [
           {
            "marker": {
             "colorbar": {
              "outlinewidth": 1,
              "tickcolor": "rgb(36,36,36)",
              "ticks": "outside"
             }
            },
            "type": "scattergeo"
           }
          ],
          "scattergl": [
           {
            "marker": {
             "colorbar": {
              "outlinewidth": 1,
              "tickcolor": "rgb(36,36,36)",
              "ticks": "outside"
             }
            },
            "type": "scattergl"
           }
          ],
          "scattermapbox": [
           {
            "marker": {
             "colorbar": {
              "outlinewidth": 1,
              "tickcolor": "rgb(36,36,36)",
              "ticks": "outside"
             }
            },
            "type": "scattermapbox"
           }
          ],
          "scatterpolar": [
           {
            "marker": {
             "colorbar": {
              "outlinewidth": 1,
              "tickcolor": "rgb(36,36,36)",
              "ticks": "outside"
             }
            },
            "type": "scatterpolar"
           }
          ],
          "scatterpolargl": [
           {
            "marker": {
             "colorbar": {
              "outlinewidth": 1,
              "tickcolor": "rgb(36,36,36)",
              "ticks": "outside"
             }
            },
            "type": "scatterpolargl"
           }
          ],
          "scatterternary": [
           {
            "marker": {
             "colorbar": {
              "outlinewidth": 1,
              "tickcolor": "rgb(36,36,36)",
              "ticks": "outside"
             }
            },
            "type": "scatterternary"
           }
          ],
          "surface": [
           {
            "colorbar": {
             "outlinewidth": 1,
             "tickcolor": "rgb(36,36,36)",
             "ticks": "outside"
            },
            "colorscale": [
             [
              0.0,
              "#440154"
             ],
             [
              0.1111111111111111,
              "#482878"
             ],
             [
              0.2222222222222222,
              "#3e4989"
             ],
             [
              0.3333333333333333,
              "#31688e"
             ],
             [
              0.4444444444444444,
              "#26828e"
             ],
             [
              0.5555555555555556,
              "#1f9e89"
             ],
             [
              0.6666666666666666,
              "#35b779"
             ],
             [
              0.7777777777777778,
              "#6ece58"
             ],
             [
              0.8888888888888888,
              "#b5de2b"
             ],
             [
              1.0,
              "#fde725"
             ]
            ],
            "type": "surface"
           }
          ],
          "table": [
           {
            "cells": {
             "fill": {
              "color": "rgb(237,237,237)"
             },
             "line": {
              "color": "white"
             }
            },
            "header": {
             "fill": {
              "color": "rgb(217,217,217)"
             },
             "line": {
              "color": "white"
             }
            },
            "type": "table"
           }
          ]
         },
         "layout": {
          "annotationdefaults": {
           "arrowhead": 0,
           "arrowwidth": 1
          },
          "autotypenumbers": "strict",
          "coloraxis": {
           "colorbar": {
            "outlinewidth": 1,
            "tickcolor": "rgb(36,36,36)",
            "ticks": "outside"
           }
          },
          "colorscale": {
           "diverging": [
            [
             0.0,
             "rgb(103,0,31)"
            ],
            [
             0.1,
             "rgb(178,24,43)"
            ],
            [
             0.2,
             "rgb(214,96,77)"
            ],
            [
             0.3,
             "rgb(244,165,130)"
            ],
            [
             0.4,
             "rgb(253,219,199)"
            ],
            [
             0.5,
             "rgb(247,247,247)"
            ],
            [
             0.6,
             "rgb(209,229,240)"
            ],
            [
             0.7,
             "rgb(146,197,222)"
            ],
            [
             0.8,
             "rgb(67,147,195)"
            ],
            [
             0.9,
             "rgb(33,102,172)"
            ],
            [
             1.0,
             "rgb(5,48,97)"
            ]
           ],
           "sequential": [
            [
             0.0,
             "#440154"
            ],
            [
             0.1111111111111111,
             "#482878"
            ],
            [
             0.2222222222222222,
             "#3e4989"
            ],
            [
             0.3333333333333333,
             "#31688e"
            ],
            [
             0.4444444444444444,
             "#26828e"
            ],
            [
             0.5555555555555556,
             "#1f9e89"
            ],
            [
             0.6666666666666666,
             "#35b779"
            ],
            [
             0.7777777777777778,
             "#6ece58"
            ],
            [
             0.8888888888888888,
             "#b5de2b"
            ],
            [
             1.0,
             "#fde725"
            ]
           ],
           "sequentialminus": [
            [
             0.0,
             "#440154"
            ],
            [
             0.1111111111111111,
             "#482878"
            ],
            [
             0.2222222222222222,
             "#3e4989"
            ],
            [
             0.3333333333333333,
             "#31688e"
            ],
            [
             0.4444444444444444,
             "#26828e"
            ],
            [
             0.5555555555555556,
             "#1f9e89"
            ],
            [
             0.6666666666666666,
             "#35b779"
            ],
            [
             0.7777777777777778,
             "#6ece58"
            ],
            [
             0.8888888888888888,
             "#b5de2b"
            ],
            [
             1.0,
             "#fde725"
            ]
           ]
          },
          "colorway": [
           "#91268F",
           "#8CC63E",
           "#00A7A0",
           "#F05A28",
           "#4C4C4C",
           "#630460",
           "#9f3913",
           "#588527",
           "#00716c",
           "#3e4040"
          ],
          "font": {
           "color": "rgb(36,36,36)",
           "family": "Poppins",
           "size": 11
          },
          "geo": {
           "bgcolor": "white",
           "lakecolor": "white",
           "landcolor": "white",
           "showlakes": true,
           "showland": true,
           "subunitcolor": "white"
          },
          "hoverlabel": {
           "align": "left"
          },
          "hovermode": "closest",
          "mapbox": {
           "style": "light"
          },
          "paper_bgcolor": "white",
          "plot_bgcolor": "white",
          "polar": {
           "angularaxis": {
            "gridcolor": "rgb(232,232,232)",
            "linecolor": "rgb(36,36,36)",
            "showgrid": false,
            "showline": true,
            "ticks": "outside"
           },
           "bgcolor": "white",
           "radialaxis": {
            "gridcolor": "rgb(232,232,232)",
            "linecolor": "rgb(36,36,36)",
            "showgrid": false,
            "showline": true,
            "ticks": "outside"
           }
          },
          "scene": {
           "xaxis": {
            "backgroundcolor": "white",
            "gridcolor": "rgb(232,232,232)",
            "gridwidth": 2,
            "linecolor": "rgb(36,36,36)",
            "showbackground": true,
            "showgrid": false,
            "showline": true,
            "ticks": "outside",
            "zeroline": false,
            "zerolinecolor": "rgb(36,36,36)"
           },
           "yaxis": {
            "backgroundcolor": "white",
            "gridcolor": "rgb(232,232,232)",
            "gridwidth": 2,
            "linecolor": "rgb(36,36,36)",
            "showbackground": true,
            "showgrid": false,
            "showline": true,
            "ticks": "outside",
            "zeroline": false,
            "zerolinecolor": "rgb(36,36,36)"
           },
           "zaxis": {
            "backgroundcolor": "white",
            "gridcolor": "rgb(232,232,232)",
            "gridwidth": 2,
            "linecolor": "rgb(36,36,36)",
            "showbackground": true,
            "showgrid": false,
            "showline": true,
            "ticks": "outside",
            "zeroline": false,
            "zerolinecolor": "rgb(36,36,36)"
           }
          },
          "shapedefaults": {
           "fillcolor": "black",
           "line": {
            "width": 0
           },
           "opacity": 0.3
          },
          "ternary": {
           "aaxis": {
            "gridcolor": "rgb(232,232,232)",
            "linecolor": "rgb(36,36,36)",
            "showgrid": false,
            "showline": true,
            "ticks": "outside"
           },
           "baxis": {
            "gridcolor": "rgb(232,232,232)",
            "linecolor": "rgb(36,36,36)",
            "showgrid": false,
            "showline": true,
            "ticks": "outside"
           },
           "bgcolor": "white",
           "caxis": {
            "gridcolor": "rgb(232,232,232)",
            "linecolor": "rgb(36,36,36)",
            "showgrid": false,
            "showline": true,
            "ticks": "outside"
           }
          },
          "title": {
           "x": 0.05
          },
          "xaxis": {
           "automargin": true,
           "gridcolor": "rgb(232,232,232)",
           "linecolor": "rgb(36,36,36)",
           "showgrid": false,
           "showline": true,
           "ticks": "outside",
           "title": {
            "standoff": 15
           },
           "zeroline": false,
           "zerolinecolor": "rgb(36,36,36)"
          },
          "yaxis": {
           "automargin": true,
           "gridcolor": "rgb(232,232,232)",
           "linecolor": "rgb(36,36,36)",
           "showgrid": false,
           "showline": true,
           "ticks": "outside",
           "title": {
            "standoff": 15
           },
           "zeroline": false,
           "zerolinecolor": "rgb(36,36,36)"
          }
         }
        },
        "title": {
         "text": "Medium Trucks: King"
        },
        "width": 800,
        "xaxis": {
         "anchor": "y",
         "domain": [
          0.0,
          1.0
         ],
         "title": {
          "text": "Observed"
         }
        },
        "yaxis": {
         "anchor": "x",
         "domain": [
          0.0,
          1.0
         ],
         "title": {
          "text": "Model"
         }
        }
       }
      },
      "text/html": [
       "<div>                            <div id=\"62150990-ef8f-47ad-bce9-034cb4df7299\" class=\"plotly-graph-div\" style=\"height:600px; width:800px;\"></div>            <script type=\"text/javascript\">                require([\"plotly\"], function(Plotly) {                    window.PLOTLYENV=window.PLOTLYENV || {};                                    if (document.getElementById(\"62150990-ef8f-47ad-bce9-034cb4df7299\")) {                    Plotly.newPlot(                        \"62150990-ef8f-47ad-bce9-034cb4df7299\",                        [{\"customdata\":[[\"I-5 S\\u002fO 205th NB\",\"King\"],[\"I-5 S\\u002fO 205th SB\",\"King\"],[\"I-5 Rev N\\u002fO I-5 GP NB\\u002fSB\",\"King\"],[\"I-90 E\\u002fO I-5 WB\",\"King\"],[\"I-90 E\\u002fO I-5 EB\",\"King\"],[\"I-90 E\\u002fO W Lk Sam WB\",\"King\"],[\"I-90 E\\u002fO W Lk Sam EB\",\"King\"],[\"I-90 E\\u002fO SR-900 WB\",\"King\"],[\"I-405 @ I-5 Southcenter NB\",\"King\"],[\"I-405 @ I-5 Southcenter SB\",\"King\"],[\"I-405 @ Lake Wash Blvd NB\",\"King\"],[\"I-405 @ I-90 NB\",\"King\"],[\"I-405 @ I-90 SB\",\"King\"],[\"SR-520 @ x-lake bridge WB\",\"King\"],[\"SR-520 @ x-lake bridge EB\",\"King\"],[\"SR-167 S\\u002fO 43rd NB\",\"King\"],[\"SR-167 S\\u002fO 43rd SB\",\"King\"],[\"SR-167 N\\u002fO SR-18 NB\",\"King\"],[\"SR-167 N\\u002fO SR-18 SB\",\"King\"],[\"SR-167 S\\u002fO 15th SW NB\",\"King\"],[\"SR-167 S\\u002fO 15th SW SB\",\"King\"],[\"SR-509 @ Holden NB\",\"King\"],[\"SR-509 @ Holden SB\",\"King\"],[\"SR-99 N\\u002fO 14th NB\",\"King\"],[\"SR-99 N\\u002fO 14th SB\",\"King\"],[\"SR-99 N\\u002fO WSF NB\",\"King\"],[\"SR-99 N\\u002fO WSF SB\",\"King\"],[\"SR-99 tunnel NB\",\"King\"],[\"SR-99 tunnel SB\",\"King\"],[\"SR-599 S\\u002fO Pacific NB\",\"King\"],[\"SR-599 S\\u002fO Pacific SB\",\"King\"],[\"SR-599 @ Pacific NB\",\"King\"],[\"SR-599 @ Pacific SB\",\"King\"],[\"SR-18 @ I-5 WB\",\"King\"],[\"SR-18 @ I-5 EB\",\"King\"],[\"SR-18 W\\u002fO Auburn-Black Diamond WB\",\"King\"],[\"SR-18 W\\u002fO Auburn-Black Diamond EB\",\"King\"],[\"SR-18 E\\u002fO SR-516 WB\",\"King\"],[\"SR-18 E\\u002fO SR-516 EB\",\"King\"],[\"SR-18 E\\u002fO 256th WB\",\"King\"],[\"SR-18 E\\u002fO 256th EB\",\"King\"],[\"SR-522 N\\u002fO 195th WB\",\"King\"],[\"SR-522 N\\u002fO 195th EB\",\"King\"],[\"I-5 N\\u002fO I-5 Rev CBD NB\\u002fSB\",\"King\"],[\"I-90 W\\u002fO SR-18 WB\\u002fEB\",\"King\"],[\"I-90 E\\u002fO SR-18 WB\\u002fEB\",\"King\"],[\"I-90 E\\u002fO 436th WB\\u002fEB\",\"King\"],[\"I-90 @ Kittitas County WB\\u002fEB\",\"King\"],[\"I-405 N\\u002fO SR-522 NB\\u002fSB\",\"King\"],[\"SR-167 N\\u002fO Grady NB\\u002fSB\",\"King\"],[\"SR-410 E\\u002fO 244th WB\\u002fEB\",\"King\"],[\"SR-410 E\\u002fO Farman WB\\u002fEB\",\"King\"],[\"SR-410 @ Greenwater River WB\\u002fEB\",\"King\"],[\"SR-509 E\\u002fO 47th NB\\u002fSB\",\"King\"],[\"SR-509 E\\u002fO 21st NB\\u002fSB\",\"King\"],[\"SR-509 W\\u002fO SR-516 NB\\u002fSB\",\"King\"],[\"SR-509 W\\u002fO Des Moines Mem NB\\u002fSB\",\"King\"],[\"SR-509 E\\u002fO 1st Ave NB\\u002fSB\",\"King\"],[\"SR-509 E\\u002fO Des Moines Mem NB\\u002fSB\",\"King\"],[\"SR-509 @ SR-509 ramp overpass NB\\u002fSB\",\"King\"],[\"SR-509 N\\u002fO Des Moines Mem NB\\u002fSB\",\"King\"],[\"SR-509 N\\u002fO SR-518 NB\\u002fSB\",\"King\"],[\"SR-99 S\\u002fO SR-18 NB\\u002fSB\",\"King\"],[\"SR-99 N\\u002fO SR-18 NB\\u002fSB\",\"King\"],[\"SR-99 N\\u002fO 320th NB\\u002fSB\",\"King\"],[\"SR-99 N\\u002fO 188th NB\\u002fSB\",\"King\"],[\"SR-99 @ WSF NB\\u002fSB\",\"King\"],[\"SR-99 @ Aurora Bridge NB\\u002fSB\",\"King\"],[\"SR-99 N\\u002fO 38th NB\\u002fSB\",\"King\"],[\"SR-99 S\\u002fO Roosevelt NB\\u002fSB\",\"King\"],[\"SR-599 N\\u002fO I-5 NB\\u002fSB\",\"King\"],[\"SR-518 @ SR-509 WB\\u002fEB\",\"King\"],[\"SR-518 E\\u002fO SR-509 WB\\u002fEB\",\"King\"],[\"SR-18 E\\u002fO SR-99 WB\\u002fEB\",\"King\"],[\"SR-18 N\\u002fO 304th WB\\u002fEB\",\"King\"],[\"SR-18 S\\u002fO I-90 WB\\u002fEB\",\"King\"],[\"SR-202 @ SR-522 NB\\u002fSB\",\"King\"],[\"SR-202 N\\u002fO 145th NB\\u002fSB\",\"King\"],[\"SR-202 @ Sammamish River Br NB\\u002fSB\",\"King\"],[\"SR-202 S\\u002fO 144th NB\\u002fSB\",\"King\"],[\"SR-202 N\\u002fO Redmond Way NB\\u002fSB\",\"King\"],[\"SR-202 E\\u002fO 164th NB\\u002fSB\",\"King\"],[\"SR-202 E\\u002fO SR-520 NB\\u002fSB\",\"King\"],[\"SR-202 E\\u002fO E Lk Samm NB\\u002fSB\",\"King\"],[\"SR-202 E\\u002fO Sahalee NB\\u002fSB\",\"King\"],[\"SR-202 E\\u002fO 236th NB\\u002fSB\",\"King\"],[\"SR-202 S\\u002fO Ames Lake NB\\u002fSB\",\"King\"],[\"SR-202 S\\u002fO Duthie Hill NB\\u002fSB\",\"King\"],[\"SR-202 E\\u002fO SR-203 NB\\u002fSB\",\"King\"],[\"SR-202 N\\u002fO I-90 NB\\u002fSB\",\"King\"],[\"SR-522 N\\u002fO 145th NB\\u002fSB\",\"King\"],[\"SR-104 W\\u002fO 19th WB\\u002fEB\",\"King\"],[\"SR-516 E\\u002fO SR-509 WB\\u002fEB\",\"King\"],[\"SR-516 W\\u002fO I-5 WB\\u002fEB\",\"King\"],[\"SR-516 E\\u002fO Meeker WB\\u002fEB\",\"King\"],[\"SR-516 W\\u002fO SR-167 WB\\u002fEB\",\"King\"],[\"SR-516 E\\u002fO SR-167 WB\\u002fEB\",\"King\"],[\"SR-516 E\\u002fO SR-18 WB\\u002fEB\",\"King\"],[\"SR-900 S\\u002fO NB I-5 on-ramp @ Boe Acc WB\\u002fEB\",\"King\"],[\"SR-900 E\\u002fO 68th WB\\u002fEB\",\"King\"],[\"SR-900 @ I-405 WB\\u002fEB\",\"King\"],[\"SR-900 E\\u002fO 148th WB\\u002fEB\",\"King\"],[\"SR-900 N\\u002fO Talus WB\\u002fEB\",\"King\"],[\"SR-900 N\\u002fO Newport WB\\u002fEB\",\"King\"],[\"SR-2 E\\u002fO Skykomish WB\\u002fEB\",\"King\"],[\"SR-513 S\\u002fO 44th NB\\u002fSB\",\"King\"],[\"SR-169 N\\u002fO SR-164 NB\\u002fSB\",\"King\"],[\"SR-169 S\\u002fO Lawson NB\\u002fSB\",\"King\"],[\"SR-169 S\\u002fO 276th NB\\u002fSB\",\"King\"],[\"SR-169 N\\u002fO 280th NB\\u002fSB\",\"King\"],[\"SR-169 N\\u002fO 231st NB\\u002fSB\",\"King\"],[\"SR-169 N\\u002fO 232nd NB\\u002fSB\",\"King\"],[\"SR-169 W\\u002fO 140th NB\\u002fSB\",\"King\"],[\"SR-515 N\\u002fO SR-516 NB\\u002fSB\",\"King\"],[\"SR-515 N\\u002fO 108th NB\\u002fSB\",\"King\"],[\"SR-515 N\\u002fO Puget NB\\u002fSB\",\"King\"],[\"SR-181 N\\u002fO SR-516 NB\\u002fSB\",\"King\"],[\"SR-181 S\\u002fO James NB\\u002fSB\",\"King\"],[\"SR-181 N\\u002fO James NB\\u002fSB\",\"King\"],[\"SR-181 N\\u002fO 228th NB\\u002fSB\",\"King\"],[\"SR-181 N\\u002fO 180th NB\\u002fSB\",\"King\"],[\"SR-181 S\\u002fO Longacres NB\\u002fSB\",\"King\"],[\"SR-523 E\\u002fO Lenora WB\\u002fEB\",\"King\"],[\"SR-164 @ SR-18 WB\\u002fEB\",\"King\"],[\"SR-164 S\\u002fO 400th WB\\u002fEB\",\"King\"],[\"SR-203 N\\u002fO Cherry Valley NB\\u002fSB\",\"King\"],[\"SR-203 N\\u002fO 124th NB\\u002fSB\",\"King\"],[\"SR-203 W\\u002fO Stillwater Hill NB\\u002fSB\",\"King\"],[\"SR-203 N\\u002fO Carnation Farm NB\\u002fSB\",\"King\"],[\"SR-203 N\\u002fO Tolt Hill NB\\u002fSB\",\"King\"],[\"SR-203 N\\u002fO SR-202 NB\\u002fSB\",\"King\"],[\"SR-519 W\\u002fO 4th NB\\u002fSB\",\"King\"]],\"hovertemplate\":\"Observed=%{x}\\u003cbr\\u003eModel=%{y}\\u003cbr\\u003elocation=%{customdata[0]}\\u003cbr\\u003eCounty=%{customdata[1]}\\u003cextra\\u003e\\u003c\\u002fextra\\u003e\",\"legendgroup\":\"\",\"marker\":{\"color\":\"#91268F\",\"symbol\":\"circle\"},\"mode\":\"markers\",\"name\":\"\",\"orientation\":\"v\",\"showlegend\":false,\"x\":[1786,1909,645,1525,1405,1400,1380,1329,1046,1702,2618,3724,2998,1030,1032,2276,2432,2405,2415,2776,2536,1806,1814,850,630,1279,1163,1067,968,859,720,1271,842,534,973,1357,1295,882,869,1054,1031,1556,1676,2448,1769,2644,1594,1323,3333,1270,970,554,73,128,408,680,240,102,421,720,1320,1488,1053,600,704,2349,1643,2416,1512,1056,2808,787,1075,1329,2434,1344,882,249,217,662,506,815,1705,1125,874,457,589,363,431,331,1170,475,260,1080,875,1680,984,975,924,392,754,198,682,546,214,728,398,594,816,546,1675,1058,1014,825,408,893,1798,1265,1450,1650,1620,2108,609,810,660,590,741,486,490,539,502,1044],\"xaxis\":\"x\",\"y\":[6456,6274,3132,4548,4760,2608,2655,1829,1398,3129,6028,5116,5067,3546,3461,3661,4120,4609,4784,3966,3964,1612,1736,1512,971,2246,2422,1327,1530,1856,1616,1628,1266,1084,777,1411,1292,856,801,889,826,1784,1648,10932,1592,1280,62,0,9001,2043,377,52,41,72,334,251,148,80,104,855,1801,2749,1329,828,711,1734,3511,3096,1861,648,3403,1791,1937,1910,2186,875,779,410,264,823,370,396,2158,1392,524,491,379,192,273,667,2107,472,163,2109,3651,4349,1628,1012,1706,575,1695,637,1142,935,0,1596,100,397,314,574,863,912,1617,331,605,1263,2011,1796,2225,3100,3521,3654,661,1102,672,462,455,208,219,306,196,2215],\"yaxis\":\"y\",\"type\":\"scatter\",\"line\":{\"color\":\"Grey\",\"width\":2}},{\"hovertemplate\":\"Observed=%{x}\\u003cbr\\u003eModel=%{y}\\u003cextra\\u003e\\u003c\\u002fextra\\u003e\",\"legendgroup\":\"\",\"line\":{\"color\":\"Grey\",\"dash\":\"solid\",\"width\":2},\"marker\":{\"symbol\":\"circle\"},\"mode\":\"lines\",\"name\":\"\",\"orientation\":\"v\",\"showlegend\":false,\"x\":[0.0,37.61616161616162,75.23232323232324,112.84848484848486,150.46464646464648,188.08080808080808,225.69696969696972,263.31313131313135,300.92929292929296,338.54545454545456,376.16161616161617,413.7777777777778,451.39393939393943,489.01010101010104,526.6262626262627,564.2424242424242,601.8585858585859,639.4747474747476,677.0909090909091,714.7070707070708,752.3232323232323,789.939393939394,827.5555555555557,865.1717171717172,902.7878787878789,940.4040404040405,978.0202020202021,1015.6363636363637,1053.2525252525254,1090.868686868687,1128.4848484848485,1166.1010101010102,1203.7171717171718,1241.3333333333335,1278.9494949494951,1316.5656565656566,1354.1818181818182,1391.79797979798,1429.4141414141416,1467.0303030303032,1504.6464646464647,1542.2626262626263,1579.878787878788,1617.4949494949497,1655.1111111111113,1692.727272727273,1730.3434343434344,1767.959595959596,1805.5757575757577,1843.1919191919194,1880.808080808081,1918.4242424242425,1956.0404040404042,1993.6565656565658,2031.2727272727275,2068.888888888889,2106.505050505051,2144.1212121212125,2181.737373737374,2219.3535353535353,2256.969696969697,2294.5858585858587,2332.2020202020203,2369.818181818182,2407.4343434343436,2445.0505050505053,2482.666666666667,2520.2828282828286,2557.8989898989903,2595.515151515152,2633.131313131313,2670.747474747475,2708.3636363636365,2745.979797979798,2783.59595959596,2821.2121212121215,2858.828282828283,2896.444444444445,2934.0606060606065,2971.676767676768,3009.2929292929293,3046.909090909091,3084.5252525252527,3122.1414141414143,3159.757575757576,3197.3737373737376,3234.9898989898993,3272.606060606061,3310.2222222222226,3347.8383838383843,3385.454545454546,3423.070707070707,3460.686868686869,3498.3030303030305,3535.919191919192,3573.535353535354,3611.1515151515155,3648.767676767677,3686.383838383839,3724.0],\"xaxis\":\"x\",\"y\":[-342.0050222702637,-272.8550336386245,-203.7050450069853,-134.55505637534608,-65.40506774370692,3.744920887932267,72.89490951957151,142.0448981512107,211.19488678284984,280.344875414489,349.4948640461282,418.6448526777675,487.7948413094067,556.9448299410458,626.0948185726851,695.2448072043242,764.3947958359634,833.5447844676028,902.6947730992417,971.8447617308811,1040.99475036252,1110.1447389941593,1179.2947276257987,1248.4447162574377,1317.594704889077,1386.7446935207163,1455.8946821523552,1525.0446707839947,1594.1946594156339,1663.344648047273,1732.494636678912,1801.6446253105512,1870.7946139421904,1939.94460257383,2009.0945912054692,2078.244579837108,2147.394568468747,2216.5445571003866,2285.694545732026,2354.844534363665,2423.9945229953037,2493.1445116269433,2562.294500258582,2631.4444888902217,2700.5944775218613,2769.7444661535,2838.894454785139,2908.0444434167784,2977.194432048418,3046.344420680057,3115.4944093116965,3184.644397943335,3253.794386574974,3322.9443752066136,3392.0943638382532,3461.244352469892,3530.3943411015316,3599.5443297331703,3668.69431836481,3737.8443069964487,3806.9942956280875,3876.144284259727,3945.294272891366,4014.4442615230055,4083.594250154644,4152.744238786284,4221.8942274179235,4291.044216049562,4360.194204681202,4429.344193312841,4498.494181944479,4567.644170576119,4636.794159207758,4705.944147839397,4775.094136471036,4844.244125102676,4913.394113734315,4982.544102365954,5051.694090997594,5120.8440796292325,5189.994068260871,5259.144056892511,5328.29404552415,5397.444034155789,5466.594022787428,5535.744011419068,5604.894000050707,5674.043988682346,5743.193977313986,5812.343965945624,5881.493954577264,5950.643943208903,6019.7939318405415,6088.943920472181,6158.09390910382,6227.2438977354595,6296.393886367099,6365.543874998738,6434.693863630378,6503.843852262015],\"yaxis\":\"y\",\"type\":\"scatter\"}],                        {\"template\":{\"data\":{\"barpolar\":[{\"marker\":{\"line\":{\"color\":\"white\",\"width\":0.5},\"pattern\":{\"fillmode\":\"overlay\",\"size\":10,\"solidity\":0.2}},\"type\":\"barpolar\"}],\"bar\":[{\"error_x\":{\"color\":\"rgb(36,36,36)\"},\"error_y\":{\"color\":\"rgb(36,36,36)\"},\"marker\":{\"line\":{\"color\":\"white\",\"width\":0.5},\"pattern\":{\"fillmode\":\"overlay\",\"size\":10,\"solidity\":0.2}},\"type\":\"bar\"}],\"carpet\":[{\"aaxis\":{\"endlinecolor\":\"rgb(36,36,36)\",\"gridcolor\":\"white\",\"linecolor\":\"white\",\"minorgridcolor\":\"white\",\"startlinecolor\":\"rgb(36,36,36)\"},\"baxis\":{\"endlinecolor\":\"rgb(36,36,36)\",\"gridcolor\":\"white\",\"linecolor\":\"white\",\"minorgridcolor\":\"white\",\"startlinecolor\":\"rgb(36,36,36)\"},\"type\":\"carpet\"}],\"choropleth\":[{\"colorbar\":{\"outlinewidth\":1,\"tickcolor\":\"rgb(36,36,36)\",\"ticks\":\"outside\"},\"type\":\"choropleth\"}],\"contourcarpet\":[{\"colorbar\":{\"outlinewidth\":1,\"tickcolor\":\"rgb(36,36,36)\",\"ticks\":\"outside\"},\"type\":\"contourcarpet\"}],\"contour\":[{\"colorbar\":{\"outlinewidth\":1,\"tickcolor\":\"rgb(36,36,36)\",\"ticks\":\"outside\"},\"colorscale\":[[0.0,\"#440154\"],[0.1111111111111111,\"#482878\"],[0.2222222222222222,\"#3e4989\"],[0.3333333333333333,\"#31688e\"],[0.4444444444444444,\"#26828e\"],[0.5555555555555556,\"#1f9e89\"],[0.6666666666666666,\"#35b779\"],[0.7777777777777778,\"#6ece58\"],[0.8888888888888888,\"#b5de2b\"],[1.0,\"#fde725\"]],\"type\":\"contour\"}],\"heatmapgl\":[{\"colorbar\":{\"outlinewidth\":1,\"tickcolor\":\"rgb(36,36,36)\",\"ticks\":\"outside\"},\"colorscale\":[[0.0,\"#440154\"],[0.1111111111111111,\"#482878\"],[0.2222222222222222,\"#3e4989\"],[0.3333333333333333,\"#31688e\"],[0.4444444444444444,\"#26828e\"],[0.5555555555555556,\"#1f9e89\"],[0.6666666666666666,\"#35b779\"],[0.7777777777777778,\"#6ece58\"],[0.8888888888888888,\"#b5de2b\"],[1.0,\"#fde725\"]],\"type\":\"heatmapgl\"}],\"heatmap\":[{\"colorbar\":{\"outlinewidth\":1,\"tickcolor\":\"rgb(36,36,36)\",\"ticks\":\"outside\"},\"colorscale\":[[0.0,\"#440154\"],[0.1111111111111111,\"#482878\"],[0.2222222222222222,\"#3e4989\"],[0.3333333333333333,\"#31688e\"],[0.4444444444444444,\"#26828e\"],[0.5555555555555556,\"#1f9e89\"],[0.6666666666666666,\"#35b779\"],[0.7777777777777778,\"#6ece58\"],[0.8888888888888888,\"#b5de2b\"],[1.0,\"#fde725\"]],\"type\":\"heatmap\"}],\"histogram2dcontour\":[{\"colorbar\":{\"outlinewidth\":1,\"tickcolor\":\"rgb(36,36,36)\",\"ticks\":\"outside\"},\"colorscale\":[[0.0,\"#440154\"],[0.1111111111111111,\"#482878\"],[0.2222222222222222,\"#3e4989\"],[0.3333333333333333,\"#31688e\"],[0.4444444444444444,\"#26828e\"],[0.5555555555555556,\"#1f9e89\"],[0.6666666666666666,\"#35b779\"],[0.7777777777777778,\"#6ece58\"],[0.8888888888888888,\"#b5de2b\"],[1.0,\"#fde725\"]],\"type\":\"histogram2dcontour\"}],\"histogram2d\":[{\"colorbar\":{\"outlinewidth\":1,\"tickcolor\":\"rgb(36,36,36)\",\"ticks\":\"outside\"},\"colorscale\":[[0.0,\"#440154\"],[0.1111111111111111,\"#482878\"],[0.2222222222222222,\"#3e4989\"],[0.3333333333333333,\"#31688e\"],[0.4444444444444444,\"#26828e\"],[0.5555555555555556,\"#1f9e89\"],[0.6666666666666666,\"#35b779\"],[0.7777777777777778,\"#6ece58\"],[0.8888888888888888,\"#b5de2b\"],[1.0,\"#fde725\"]],\"type\":\"histogram2d\"}],\"histogram\":[{\"marker\":{\"line\":{\"color\":\"white\",\"width\":0.6}},\"type\":\"histogram\"}],\"mesh3d\":[{\"colorbar\":{\"outlinewidth\":1,\"tickcolor\":\"rgb(36,36,36)\",\"ticks\":\"outside\"},\"type\":\"mesh3d\"}],\"parcoords\":[{\"line\":{\"colorbar\":{\"outlinewidth\":1,\"tickcolor\":\"rgb(36,36,36)\",\"ticks\":\"outside\"}},\"type\":\"parcoords\"}],\"pie\":[{\"automargin\":true,\"type\":\"pie\"}],\"scatter3d\":[{\"line\":{\"colorbar\":{\"outlinewidth\":1,\"tickcolor\":\"rgb(36,36,36)\",\"ticks\":\"outside\"}},\"marker\":{\"colorbar\":{\"outlinewidth\":1,\"tickcolor\":\"rgb(36,36,36)\",\"ticks\":\"outside\"}},\"type\":\"scatter3d\"}],\"scattercarpet\":[{\"marker\":{\"colorbar\":{\"outlinewidth\":1,\"tickcolor\":\"rgb(36,36,36)\",\"ticks\":\"outside\"}},\"type\":\"scattercarpet\"}],\"scattergeo\":[{\"marker\":{\"colorbar\":{\"outlinewidth\":1,\"tickcolor\":\"rgb(36,36,36)\",\"ticks\":\"outside\"}},\"type\":\"scattergeo\"}],\"scattergl\":[{\"marker\":{\"colorbar\":{\"outlinewidth\":1,\"tickcolor\":\"rgb(36,36,36)\",\"ticks\":\"outside\"}},\"type\":\"scattergl\"}],\"scattermapbox\":[{\"marker\":{\"colorbar\":{\"outlinewidth\":1,\"tickcolor\":\"rgb(36,36,36)\",\"ticks\":\"outside\"}},\"type\":\"scattermapbox\"}],\"scatterpolargl\":[{\"marker\":{\"colorbar\":{\"outlinewidth\":1,\"tickcolor\":\"rgb(36,36,36)\",\"ticks\":\"outside\"}},\"type\":\"scatterpolargl\"}],\"scatterpolar\":[{\"marker\":{\"colorbar\":{\"outlinewidth\":1,\"tickcolor\":\"rgb(36,36,36)\",\"ticks\":\"outside\"}},\"type\":\"scatterpolar\"}],\"scatter\":[{\"fillpattern\":{\"fillmode\":\"overlay\",\"size\":10,\"solidity\":0.2},\"type\":\"scatter\"}],\"scatterternary\":[{\"marker\":{\"colorbar\":{\"outlinewidth\":1,\"tickcolor\":\"rgb(36,36,36)\",\"ticks\":\"outside\"}},\"type\":\"scatterternary\"}],\"surface\":[{\"colorbar\":{\"outlinewidth\":1,\"tickcolor\":\"rgb(36,36,36)\",\"ticks\":\"outside\"},\"colorscale\":[[0.0,\"#440154\"],[0.1111111111111111,\"#482878\"],[0.2222222222222222,\"#3e4989\"],[0.3333333333333333,\"#31688e\"],[0.4444444444444444,\"#26828e\"],[0.5555555555555556,\"#1f9e89\"],[0.6666666666666666,\"#35b779\"],[0.7777777777777778,\"#6ece58\"],[0.8888888888888888,\"#b5de2b\"],[1.0,\"#fde725\"]],\"type\":\"surface\"}],\"table\":[{\"cells\":{\"fill\":{\"color\":\"rgb(237,237,237)\"},\"line\":{\"color\":\"white\"}},\"header\":{\"fill\":{\"color\":\"rgb(217,217,217)\"},\"line\":{\"color\":\"white\"}},\"type\":\"table\"}]},\"layout\":{\"annotationdefaults\":{\"arrowhead\":0,\"arrowwidth\":1},\"autotypenumbers\":\"strict\",\"coloraxis\":{\"colorbar\":{\"outlinewidth\":1,\"tickcolor\":\"rgb(36,36,36)\",\"ticks\":\"outside\"}},\"colorscale\":{\"diverging\":[[0.0,\"rgb(103,0,31)\"],[0.1,\"rgb(178,24,43)\"],[0.2,\"rgb(214,96,77)\"],[0.3,\"rgb(244,165,130)\"],[0.4,\"rgb(253,219,199)\"],[0.5,\"rgb(247,247,247)\"],[0.6,\"rgb(209,229,240)\"],[0.7,\"rgb(146,197,222)\"],[0.8,\"rgb(67,147,195)\"],[0.9,\"rgb(33,102,172)\"],[1.0,\"rgb(5,48,97)\"]],\"sequential\":[[0.0,\"#440154\"],[0.1111111111111111,\"#482878\"],[0.2222222222222222,\"#3e4989\"],[0.3333333333333333,\"#31688e\"],[0.4444444444444444,\"#26828e\"],[0.5555555555555556,\"#1f9e89\"],[0.6666666666666666,\"#35b779\"],[0.7777777777777778,\"#6ece58\"],[0.8888888888888888,\"#b5de2b\"],[1.0,\"#fde725\"]],\"sequentialminus\":[[0.0,\"#440154\"],[0.1111111111111111,\"#482878\"],[0.2222222222222222,\"#3e4989\"],[0.3333333333333333,\"#31688e\"],[0.4444444444444444,\"#26828e\"],[0.5555555555555556,\"#1f9e89\"],[0.6666666666666666,\"#35b779\"],[0.7777777777777778,\"#6ece58\"],[0.8888888888888888,\"#b5de2b\"],[1.0,\"#fde725\"]]},\"colorway\":[\"#91268F\",\"#8CC63E\",\"#00A7A0\",\"#F05A28\",\"#4C4C4C\",\"#630460\",\"#9f3913\",\"#588527\",\"#00716c\",\"#3e4040\"],\"font\":{\"color\":\"rgb(36,36,36)\",\"family\":\"Poppins\",\"size\":11},\"geo\":{\"bgcolor\":\"white\",\"lakecolor\":\"white\",\"landcolor\":\"white\",\"showlakes\":true,\"showland\":true,\"subunitcolor\":\"white\"},\"hoverlabel\":{\"align\":\"left\"},\"hovermode\":\"closest\",\"mapbox\":{\"style\":\"light\"},\"paper_bgcolor\":\"white\",\"plot_bgcolor\":\"white\",\"polar\":{\"angularaxis\":{\"gridcolor\":\"rgb(232,232,232)\",\"linecolor\":\"rgb(36,36,36)\",\"showgrid\":false,\"showline\":true,\"ticks\":\"outside\"},\"bgcolor\":\"white\",\"radialaxis\":{\"gridcolor\":\"rgb(232,232,232)\",\"linecolor\":\"rgb(36,36,36)\",\"showgrid\":false,\"showline\":true,\"ticks\":\"outside\"}},\"scene\":{\"xaxis\":{\"backgroundcolor\":\"white\",\"gridcolor\":\"rgb(232,232,232)\",\"gridwidth\":2,\"linecolor\":\"rgb(36,36,36)\",\"showbackground\":true,\"showgrid\":false,\"showline\":true,\"ticks\":\"outside\",\"zeroline\":false,\"zerolinecolor\":\"rgb(36,36,36)\"},\"yaxis\":{\"backgroundcolor\":\"white\",\"gridcolor\":\"rgb(232,232,232)\",\"gridwidth\":2,\"linecolor\":\"rgb(36,36,36)\",\"showbackground\":true,\"showgrid\":false,\"showline\":true,\"ticks\":\"outside\",\"zeroline\":false,\"zerolinecolor\":\"rgb(36,36,36)\"},\"zaxis\":{\"backgroundcolor\":\"white\",\"gridcolor\":\"rgb(232,232,232)\",\"gridwidth\":2,\"linecolor\":\"rgb(36,36,36)\",\"showbackground\":true,\"showgrid\":false,\"showline\":true,\"ticks\":\"outside\",\"zeroline\":false,\"zerolinecolor\":\"rgb(36,36,36)\"}},\"shapedefaults\":{\"fillcolor\":\"black\",\"line\":{\"width\":0},\"opacity\":0.3},\"ternary\":{\"aaxis\":{\"gridcolor\":\"rgb(232,232,232)\",\"linecolor\":\"rgb(36,36,36)\",\"showgrid\":false,\"showline\":true,\"ticks\":\"outside\"},\"baxis\":{\"gridcolor\":\"rgb(232,232,232)\",\"linecolor\":\"rgb(36,36,36)\",\"showgrid\":false,\"showline\":true,\"ticks\":\"outside\"},\"bgcolor\":\"white\",\"caxis\":{\"gridcolor\":\"rgb(232,232,232)\",\"linecolor\":\"rgb(36,36,36)\",\"showgrid\":false,\"showline\":true,\"ticks\":\"outside\"}},\"title\":{\"x\":0.05},\"xaxis\":{\"automargin\":true,\"gridcolor\":\"rgb(232,232,232)\",\"linecolor\":\"rgb(36,36,36)\",\"showgrid\":false,\"showline\":true,\"ticks\":\"outside\",\"title\":{\"standoff\":15},\"zeroline\":false,\"zerolinecolor\":\"rgb(36,36,36)\"},\"yaxis\":{\"automargin\":true,\"gridcolor\":\"rgb(232,232,232)\",\"linecolor\":\"rgb(36,36,36)\",\"showgrid\":false,\"showline\":true,\"ticks\":\"outside\",\"title\":{\"standoff\":15},\"zeroline\":false,\"zerolinecolor\":\"rgb(36,36,36)\"}}},\"xaxis\":{\"anchor\":\"y\",\"domain\":[0.0,1.0],\"title\":{\"text\":\"Observed\"}},\"yaxis\":{\"anchor\":\"x\",\"domain\":[0.0,1.0],\"title\":{\"text\":\"Model\"}},\"legend\":{\"tracegroupgap\":0},\"title\":{\"text\":\"Medium Trucks: King\"},\"margin\":{\"l\":100,\"r\":100,\"t\":100,\"b\":100},\"height\":600,\"width\":800,\"shapes\":[{\"line\":{\"color\":\"Red\",\"dash\":\"dash\",\"width\":2},\"type\":\"line\",\"x0\":0,\"x1\":10932,\"y0\":0,\"y1\":10932}],\"annotations\":[{\"align\":\"right\",\"font\":{\"color\":\"pink\",\"size\":12},\"showarrow\":false,\"text\":\"y = x\",\"x\":11478.6,\"y\":11478.6},{\"align\":\"right\",\"font\":{\"color\":\"black\",\"size\":12},\"showarrow\":false,\"text\":\"r^2 = 0.56\",\"x\":3910.2000000000003,\"y\":6829.036044875116}]},                        {\"responsive\": true}                    ).then(function(){\n",
       "                            \n",
       "var gd = document.getElementById('62150990-ef8f-47ad-bce9-034cb4df7299');\n",
       "var x = new MutationObserver(function (mutations, observer) {{\n",
       "        var display = window.getComputedStyle(gd).display;\n",
       "        if (!display || display === 'none') {{\n",
       "            console.log([gd, 'removed!']);\n",
       "            Plotly.purge(gd);\n",
       "            observer.disconnect();\n",
       "        }}\n",
       "}});\n",
       "\n",
       "// Listen for the removal of the full notebook cells\n",
       "var notebookContainer = gd.closest('#notebook-container');\n",
       "if (notebookContainer) {{\n",
       "    x.observe(notebookContainer, {childList: true});\n",
       "}}\n",
       "\n",
       "// Listen for the clearing of the current output cell\n",
       "var outputEl = gd.closest('.output');\n",
       "if (outputEl) {{\n",
       "    x.observe(outputEl, {childList: true});\n",
       "}}\n",
       "\n",
       "                        })                };                });            </script>        </div>"
      ]
     },
     "metadata": {},
     "output_type": "display_data"
    }
   ],
   "source": [
    "fig = create_truck_chart(df_daily_med, 'Medium', 'King')\n",
    "fig.show()"
   ]
  },
  {
   "cell_type": "raw",
   "id": "5e3e1423",
   "metadata": {},
   "source": [
    "#### Kitsap"
   ]
  },
  {
   "cell_type": "code",
   "execution_count": 31,
   "id": "adf23089",
   "metadata": {},
   "outputs": [
    {
     "data": {
      "application/vnd.plotly.v1+json": {
       "config": {
        "plotlyServerURL": "https://plot.ly"
       },
       "data": [
        {
         "customdata": [
          [
           "SR-16  N/O SR-302 NB/SB",
           "Kitsap"
          ],
          [
           "SR-16 N/O SR-160 NB/SB",
           "Kitsap"
          ],
          [
           "SR-16 N/O Tremont NB/SB",
           "Kitsap"
          ],
          [
           "SR-16 S/O SR-3 NB",
           "Kitsap"
          ],
          [
           "SR-104 @ Hood Canal Bridge WB/EB",
           "Kitsap"
          ],
          [
           "SR-104 E/O Hood Canal Bridge WB/EB",
           "Kitsap"
          ],
          [
           "SR-104 N/O Pt Gamble Rd WB/EB",
           "Kitsap"
          ],
          [
           "SR-104 E/O SR-307 WB/EB",
           "Kitsap"
          ],
          [
           "SR-104 E/O Hansville WB/EB",
           "Kitsap"
          ],
          [
           "SR-160 @ SR-16 WB/EB",
           "Kitsap"
          ],
          [
           "SR-160 E/O Long Lake Rd WB/EB",
           "Kitsap"
          ],
          [
           "SR-160 W/O Banner WB/EB",
           "Kitsap"
          ],
          [
           "SR-160 E/O Peterson WB/EB",
           "Kitsap"
          ],
          [
           "SR-160 S/O Southworth Dr WB/EB",
           "Kitsap"
          ],
          [
           "SR-166 E/O SR-16 WB/EB",
           "Kitsap"
          ],
          [
           "SR-3 E/O Sunset Way NB/SB",
           "Kitsap"
          ],
          [
           "SR-3 N/O SR-305 NB/SB",
           "Kitsap"
          ],
          [
           "SR-3 S/O Newberry Hill Rd NB/SB",
           "Kitsap"
          ],
          [
           "SR-3 @ SR-304 NB/SB",
           "Kitsap"
          ],
          [
           "SR-3 NE of SR-16 NB/SB",
           "Kitsap"
          ],
          [
           "SR-3 W/O Lake Flora Rd NB/SB",
           "Kitsap"
          ],
          [
           "SR-303 E/O SR-3 NB/SB",
           "Kitsap"
          ],
          [
           "SR-303 N/O 11th St NB/SB",
           "Kitsap"
          ],
          [
           "SR-303 N/O SR-304 NB/SB",
           "Kitsap"
          ],
          [
           "SR-304 E/O SR-3 WB/EB",
           "Kitsap"
          ],
          [
           "SR-304 W/O Naval WB/EB",
           "Kitsap"
          ],
          [
           "SR-305 W/O SR-307 WB/EB",
           "Kitsap"
          ],
          [
           "SR-305 W/O Suquamish Way WB/EB",
           "Kitsap"
          ],
          [
           "SR-305 N/O Day Rd WB/EB",
           "Kitsap"
          ],
          [
           "SR-305 N/O High School Rd WB/EB",
           "Kitsap"
          ],
          [
           "SR-305 S/O Winslow Way WB/EB",
           "Kitsap"
          ],
          [
           "SR-305 @ Ferry Ramp WB/EB",
           "Kitsap"
          ],
          [
           "SR-307 W/O SR-104 NB/SB",
           "Kitsap"
          ],
          [
           "SR-307 N/O Gunderson NB/SB",
           "Kitsap"
          ],
          [
           "SR-307 S/O Gunderson NB/SB",
           "Kitsap"
          ],
          [
           "SR-307 N/O SR-305 NB/SB",
           "Kitsap"
          ],
          [
           "SR-308 @ SR-3 WB/EB",
           "Kitsap"
          ],
          [
           "SR-308 E/O SR-3 WB/EB",
           "Kitsap"
          ],
          [
           "SR-308 E/O Silverdale Way WB/EB",
           "Kitsap"
          ],
          [
           "SR-308 W/O Brownsville Hwy WB/EB",
           "Kitsap"
          ],
          [
           "SR-310 @ SR-3 WB/EB",
           "Kitsap"
          ],
          [
           "SR-310 W/O Callow WB/EB",
           "Kitsap"
          ]
         ],
         "hovertemplate": "Observed=%{x}<br>Model=%{y}<br>location=%{customdata[0]}<br>County=%{customdata[1]}<extra></extra>",
         "legendgroup": "",
         "line": {
          "color": "Grey",
          "width": 2
         },
         "marker": {
          "color": "#91268F",
          "symbol": "circle"
         },
         "mode": "markers",
         "name": "",
         "orientation": "v",
         "showlegend": false,
         "type": "scatter",
         "x": [
          2336,
          1997,
          2251,
          2041,
          702,
          197,
          215,
          512,
          288,
          475,
          525,
          408,
          233,
          86,
          280,
          1258,
          1725,
          2074,
          1768,
          3230,
          864,
          972,
          1008,
          434,
          810,
          609,
          1102,
          660,
          600,
          468,
          265,
          221,
          714,
          476,
          612,
          680,
          156,
          199,
          263,
          230,
          897,
          286
         ],
         "xaxis": "x",
         "y": [
          4173,
          3382,
          3590,
          2018,
          0,
          24,
          18,
          227,
          163,
          567,
          189,
          144,
          190,
          73,
          416,
          54,
          198,
          2582,
          2620,
          4172,
          0,
          883,
          959,
          322,
          1642,
          809,
          1712,
          1043,
          1104,
          400,
          72,
          72,
          283,
          331,
          598,
          620,
          109,
          111,
          189,
          129,
          444,
          176
         ],
         "yaxis": "y"
        },
        {
         "hovertemplate": "Observed=%{x}<br>Model=%{y}<extra></extra>",
         "legendgroup": "",
         "line": {
          "color": "Grey",
          "dash": "solid",
          "width": 2
         },
         "marker": {
          "symbol": "circle"
         },
         "mode": "lines",
         "name": "",
         "orientation": "v",
         "showlegend": false,
         "type": "scatter",
         "x": [
          0.0,
          32.62626262626262,
          65.25252525252525,
          97.87878787878788,
          130.5050505050505,
          163.1313131313131,
          195.75757575757575,
          228.38383838383837,
          261.010101010101,
          293.6363636363636,
          326.2626262626262,
          358.88888888888886,
          391.5151515151515,
          424.1414141414141,
          456.76767676767673,
          489.3939393939393,
          522.020202020202,
          554.6464646464646,
          587.2727272727273,
          619.8989898989898,
          652.5252525252524,
          685.1515151515151,
          717.7777777777777,
          750.4040404040403,
          783.030303030303,
          815.6565656565656,
          848.2828282828282,
          880.9090909090908,
          913.5353535353535,
          946.161616161616,
          978.7878787878786,
          1011.4141414141413,
          1044.040404040404,
          1076.6666666666665,
          1109.292929292929,
          1141.9191919191917,
          1174.5454545454545,
          1207.171717171717,
          1239.7979797979797,
          1272.4242424242423,
          1305.0505050505049,
          1337.6767676767674,
          1370.3030303030303,
          1402.9292929292928,
          1435.5555555555554,
          1468.181818181818,
          1500.8080808080806,
          1533.4343434343432,
          1566.060606060606,
          1598.6868686868686,
          1631.3131313131312,
          1663.9393939393938,
          1696.5656565656564,
          1729.191919191919,
          1761.8181818181815,
          1794.4444444444443,
          1827.070707070707,
          1859.6969696969695,
          1892.323232323232,
          1924.9494949494947,
          1957.5757575757573,
          1990.20202020202,
          2022.8282828282827,
          2055.454545454545,
          2088.080808080808,
          2120.7070707070707,
          2153.333333333333,
          2185.959595959596,
          2218.585858585858,
          2251.212121212121,
          2283.8383838383834,
          2316.464646464646,
          2349.090909090909,
          2381.7171717171714,
          2414.343434343434,
          2446.9696969696965,
          2479.5959595959594,
          2512.222222222222,
          2544.8484848484845,
          2577.4747474747473,
          2610.1010101010097,
          2642.7272727272725,
          2675.353535353535,
          2707.9797979797977,
          2740.6060606060605,
          2773.232323232323,
          2805.8585858585857,
          2838.484848484848,
          2871.111111111111,
          2903.737373737373,
          2936.363636363636,
          2968.989898989899,
          3001.616161616161,
          3034.242424242424,
          3066.8686868686864,
          3099.494949494949,
          3132.121212121212,
          3164.7474747474744,
          3197.373737373737,
          3230.0
         ],
         "xaxis": "x",
         "y": [
          -302.242333169518,
          -256.26428039599557,
          -210.28622762247312,
          -164.30817484895064,
          -118.33012207542819,
          -72.35206930190577,
          -26.374016528383265,
          19.604036245139184,
          65.58208901866163,
          111.56014179218408,
          157.53819456570648,
          203.51624733922898,
          249.4943001127515,
          295.4723528862738,
          341.4504056597964,
          387.4284584333187,
          433.4065112068413,
          479.3845639803636,
          525.3626167538862,
          571.3406695274086,
          617.318722300931,
          663.2967750744535,
          709.274827847976,
          755.2528806214983,
          801.230933395021,
          847.2089861685434,
          893.1870389420657,
          939.1650917155881,
          985.1431444891108,
          1031.1211972626334,
          1077.0992500361554,
          1123.0773028096783,
          1169.0553555832007,
          1215.0334083567227,
          1261.0114611302452,
          1306.9895139037676,
          1352.9675666772905,
          1398.945619450813,
          1444.9236722243354,
          1490.9017249978579,
          1536.8797777713798,
          1582.8578305449023,
          1628.8358833184252,
          1674.8139360919477,
          1720.79198886547,
          1766.770041638992,
          1812.7480944125145,
          1858.726147186037,
          1904.70419995956,
          1950.6822527330824,
          1996.6603055066048,
          2042.6383582801272,
          2088.6164110536492,
          2134.5944638271717,
          2180.572516600694,
          2226.550569374217,
          2272.5286221477395,
          2318.506674921262,
          2364.4847276947844,
          2410.4627804683064,
          2456.440833241829,
          2502.4188860153517,
          2548.396938788874,
          2594.374991562396,
          2640.353044335919,
          2686.3310971094415,
          2732.3091498829635,
          2778.2872026564864,
          2824.2652554300084,
          2870.2433082035313,
          2916.2213609770533,
          2962.1994137505762,
          3008.1774665240987,
          3054.1555192976207,
          3100.1335720711436,
          3146.1116248446656,
          3192.0896776181885,
          3238.067730391711,
          3284.0457831652334,
          3330.023835938756,
          3376.001888712278,
          3421.9799414858007,
          3467.9579942593227,
          3513.9360470328456,
          3559.914099806368,
          3605.8921525798905,
          3651.870205353413,
          3697.848258126935,
          3743.826310900458,
          3789.80436367398,
          3835.7824164475023,
          3881.7604692210252,
          3927.738521994547,
          3973.71657476807,
          4019.694627541592,
          4065.672680315115,
          4111.650733088638,
          4157.62878586216,
          4203.606838635683,
          4249.584891409206
         ],
         "yaxis": "y"
        }
       ],
       "layout": {
        "annotations": [
         {
          "align": "right",
          "font": {
           "color": "pink",
           "size": 12
          },
          "showarrow": false,
          "text": "y = x",
          "x": 4381.650000000001,
          "y": 4381.650000000001
         },
         {
          "align": "right",
          "font": {
           "color": "black",
           "size": 12
          },
          "showarrow": false,
          "text": "r^2 = 0.78",
          "x": 3391.5,
          "y": 4462.064135979666
         }
        ],
        "height": 600,
        "legend": {
         "tracegroupgap": 0
        },
        "margin": {
         "b": 100,
         "l": 100,
         "r": 100,
         "t": 100
        },
        "shapes": [
         {
          "line": {
           "color": "Red",
           "dash": "dash",
           "width": 2
          },
          "type": "line",
          "x0": 0,
          "x1": 4173,
          "y0": 0,
          "y1": 4173
         }
        ],
        "template": {
         "data": {
          "bar": [
           {
            "error_x": {
             "color": "rgb(36,36,36)"
            },
            "error_y": {
             "color": "rgb(36,36,36)"
            },
            "marker": {
             "line": {
              "color": "white",
              "width": 0.5
             },
             "pattern": {
              "fillmode": "overlay",
              "size": 10,
              "solidity": 0.2
             }
            },
            "type": "bar"
           }
          ],
          "barpolar": [
           {
            "marker": {
             "line": {
              "color": "white",
              "width": 0.5
             },
             "pattern": {
              "fillmode": "overlay",
              "size": 10,
              "solidity": 0.2
             }
            },
            "type": "barpolar"
           }
          ],
          "carpet": [
           {
            "aaxis": {
             "endlinecolor": "rgb(36,36,36)",
             "gridcolor": "white",
             "linecolor": "white",
             "minorgridcolor": "white",
             "startlinecolor": "rgb(36,36,36)"
            },
            "baxis": {
             "endlinecolor": "rgb(36,36,36)",
             "gridcolor": "white",
             "linecolor": "white",
             "minorgridcolor": "white",
             "startlinecolor": "rgb(36,36,36)"
            },
            "type": "carpet"
           }
          ],
          "choropleth": [
           {
            "colorbar": {
             "outlinewidth": 1,
             "tickcolor": "rgb(36,36,36)",
             "ticks": "outside"
            },
            "type": "choropleth"
           }
          ],
          "contour": [
           {
            "colorbar": {
             "outlinewidth": 1,
             "tickcolor": "rgb(36,36,36)",
             "ticks": "outside"
            },
            "colorscale": [
             [
              0.0,
              "#440154"
             ],
             [
              0.1111111111111111,
              "#482878"
             ],
             [
              0.2222222222222222,
              "#3e4989"
             ],
             [
              0.3333333333333333,
              "#31688e"
             ],
             [
              0.4444444444444444,
              "#26828e"
             ],
             [
              0.5555555555555556,
              "#1f9e89"
             ],
             [
              0.6666666666666666,
              "#35b779"
             ],
             [
              0.7777777777777778,
              "#6ece58"
             ],
             [
              0.8888888888888888,
              "#b5de2b"
             ],
             [
              1.0,
              "#fde725"
             ]
            ],
            "type": "contour"
           }
          ],
          "contourcarpet": [
           {
            "colorbar": {
             "outlinewidth": 1,
             "tickcolor": "rgb(36,36,36)",
             "ticks": "outside"
            },
            "type": "contourcarpet"
           }
          ],
          "heatmap": [
           {
            "colorbar": {
             "outlinewidth": 1,
             "tickcolor": "rgb(36,36,36)",
             "ticks": "outside"
            },
            "colorscale": [
             [
              0.0,
              "#440154"
             ],
             [
              0.1111111111111111,
              "#482878"
             ],
             [
              0.2222222222222222,
              "#3e4989"
             ],
             [
              0.3333333333333333,
              "#31688e"
             ],
             [
              0.4444444444444444,
              "#26828e"
             ],
             [
              0.5555555555555556,
              "#1f9e89"
             ],
             [
              0.6666666666666666,
              "#35b779"
             ],
             [
              0.7777777777777778,
              "#6ece58"
             ],
             [
              0.8888888888888888,
              "#b5de2b"
             ],
             [
              1.0,
              "#fde725"
             ]
            ],
            "type": "heatmap"
           }
          ],
          "heatmapgl": [
           {
            "colorbar": {
             "outlinewidth": 1,
             "tickcolor": "rgb(36,36,36)",
             "ticks": "outside"
            },
            "colorscale": [
             [
              0.0,
              "#440154"
             ],
             [
              0.1111111111111111,
              "#482878"
             ],
             [
              0.2222222222222222,
              "#3e4989"
             ],
             [
              0.3333333333333333,
              "#31688e"
             ],
             [
              0.4444444444444444,
              "#26828e"
             ],
             [
              0.5555555555555556,
              "#1f9e89"
             ],
             [
              0.6666666666666666,
              "#35b779"
             ],
             [
              0.7777777777777778,
              "#6ece58"
             ],
             [
              0.8888888888888888,
              "#b5de2b"
             ],
             [
              1.0,
              "#fde725"
             ]
            ],
            "type": "heatmapgl"
           }
          ],
          "histogram": [
           {
            "marker": {
             "line": {
              "color": "white",
              "width": 0.6
             }
            },
            "type": "histogram"
           }
          ],
          "histogram2d": [
           {
            "colorbar": {
             "outlinewidth": 1,
             "tickcolor": "rgb(36,36,36)",
             "ticks": "outside"
            },
            "colorscale": [
             [
              0.0,
              "#440154"
             ],
             [
              0.1111111111111111,
              "#482878"
             ],
             [
              0.2222222222222222,
              "#3e4989"
             ],
             [
              0.3333333333333333,
              "#31688e"
             ],
             [
              0.4444444444444444,
              "#26828e"
             ],
             [
              0.5555555555555556,
              "#1f9e89"
             ],
             [
              0.6666666666666666,
              "#35b779"
             ],
             [
              0.7777777777777778,
              "#6ece58"
             ],
             [
              0.8888888888888888,
              "#b5de2b"
             ],
             [
              1.0,
              "#fde725"
             ]
            ],
            "type": "histogram2d"
           }
          ],
          "histogram2dcontour": [
           {
            "colorbar": {
             "outlinewidth": 1,
             "tickcolor": "rgb(36,36,36)",
             "ticks": "outside"
            },
            "colorscale": [
             [
              0.0,
              "#440154"
             ],
             [
              0.1111111111111111,
              "#482878"
             ],
             [
              0.2222222222222222,
              "#3e4989"
             ],
             [
              0.3333333333333333,
              "#31688e"
             ],
             [
              0.4444444444444444,
              "#26828e"
             ],
             [
              0.5555555555555556,
              "#1f9e89"
             ],
             [
              0.6666666666666666,
              "#35b779"
             ],
             [
              0.7777777777777778,
              "#6ece58"
             ],
             [
              0.8888888888888888,
              "#b5de2b"
             ],
             [
              1.0,
              "#fde725"
             ]
            ],
            "type": "histogram2dcontour"
           }
          ],
          "mesh3d": [
           {
            "colorbar": {
             "outlinewidth": 1,
             "tickcolor": "rgb(36,36,36)",
             "ticks": "outside"
            },
            "type": "mesh3d"
           }
          ],
          "parcoords": [
           {
            "line": {
             "colorbar": {
              "outlinewidth": 1,
              "tickcolor": "rgb(36,36,36)",
              "ticks": "outside"
             }
            },
            "type": "parcoords"
           }
          ],
          "pie": [
           {
            "automargin": true,
            "type": "pie"
           }
          ],
          "scatter": [
           {
            "fillpattern": {
             "fillmode": "overlay",
             "size": 10,
             "solidity": 0.2
            },
            "type": "scatter"
           }
          ],
          "scatter3d": [
           {
            "line": {
             "colorbar": {
              "outlinewidth": 1,
              "tickcolor": "rgb(36,36,36)",
              "ticks": "outside"
             }
            },
            "marker": {
             "colorbar": {
              "outlinewidth": 1,
              "tickcolor": "rgb(36,36,36)",
              "ticks": "outside"
             }
            },
            "type": "scatter3d"
           }
          ],
          "scattercarpet": [
           {
            "marker": {
             "colorbar": {
              "outlinewidth": 1,
              "tickcolor": "rgb(36,36,36)",
              "ticks": "outside"
             }
            },
            "type": "scattercarpet"
           }
          ],
          "scattergeo": [
           {
            "marker": {
             "colorbar": {
              "outlinewidth": 1,
              "tickcolor": "rgb(36,36,36)",
              "ticks": "outside"
             }
            },
            "type": "scattergeo"
           }
          ],
          "scattergl": [
           {
            "marker": {
             "colorbar": {
              "outlinewidth": 1,
              "tickcolor": "rgb(36,36,36)",
              "ticks": "outside"
             }
            },
            "type": "scattergl"
           }
          ],
          "scattermapbox": [
           {
            "marker": {
             "colorbar": {
              "outlinewidth": 1,
              "tickcolor": "rgb(36,36,36)",
              "ticks": "outside"
             }
            },
            "type": "scattermapbox"
           }
          ],
          "scatterpolar": [
           {
            "marker": {
             "colorbar": {
              "outlinewidth": 1,
              "tickcolor": "rgb(36,36,36)",
              "ticks": "outside"
             }
            },
            "type": "scatterpolar"
           }
          ],
          "scatterpolargl": [
           {
            "marker": {
             "colorbar": {
              "outlinewidth": 1,
              "tickcolor": "rgb(36,36,36)",
              "ticks": "outside"
             }
            },
            "type": "scatterpolargl"
           }
          ],
          "scatterternary": [
           {
            "marker": {
             "colorbar": {
              "outlinewidth": 1,
              "tickcolor": "rgb(36,36,36)",
              "ticks": "outside"
             }
            },
            "type": "scatterternary"
           }
          ],
          "surface": [
           {
            "colorbar": {
             "outlinewidth": 1,
             "tickcolor": "rgb(36,36,36)",
             "ticks": "outside"
            },
            "colorscale": [
             [
              0.0,
              "#440154"
             ],
             [
              0.1111111111111111,
              "#482878"
             ],
             [
              0.2222222222222222,
              "#3e4989"
             ],
             [
              0.3333333333333333,
              "#31688e"
             ],
             [
              0.4444444444444444,
              "#26828e"
             ],
             [
              0.5555555555555556,
              "#1f9e89"
             ],
             [
              0.6666666666666666,
              "#35b779"
             ],
             [
              0.7777777777777778,
              "#6ece58"
             ],
             [
              0.8888888888888888,
              "#b5de2b"
             ],
             [
              1.0,
              "#fde725"
             ]
            ],
            "type": "surface"
           }
          ],
          "table": [
           {
            "cells": {
             "fill": {
              "color": "rgb(237,237,237)"
             },
             "line": {
              "color": "white"
             }
            },
            "header": {
             "fill": {
              "color": "rgb(217,217,217)"
             },
             "line": {
              "color": "white"
             }
            },
            "type": "table"
           }
          ]
         },
         "layout": {
          "annotationdefaults": {
           "arrowhead": 0,
           "arrowwidth": 1
          },
          "autotypenumbers": "strict",
          "coloraxis": {
           "colorbar": {
            "outlinewidth": 1,
            "tickcolor": "rgb(36,36,36)",
            "ticks": "outside"
           }
          },
          "colorscale": {
           "diverging": [
            [
             0.0,
             "rgb(103,0,31)"
            ],
            [
             0.1,
             "rgb(178,24,43)"
            ],
            [
             0.2,
             "rgb(214,96,77)"
            ],
            [
             0.3,
             "rgb(244,165,130)"
            ],
            [
             0.4,
             "rgb(253,219,199)"
            ],
            [
             0.5,
             "rgb(247,247,247)"
            ],
            [
             0.6,
             "rgb(209,229,240)"
            ],
            [
             0.7,
             "rgb(146,197,222)"
            ],
            [
             0.8,
             "rgb(67,147,195)"
            ],
            [
             0.9,
             "rgb(33,102,172)"
            ],
            [
             1.0,
             "rgb(5,48,97)"
            ]
           ],
           "sequential": [
            [
             0.0,
             "#440154"
            ],
            [
             0.1111111111111111,
             "#482878"
            ],
            [
             0.2222222222222222,
             "#3e4989"
            ],
            [
             0.3333333333333333,
             "#31688e"
            ],
            [
             0.4444444444444444,
             "#26828e"
            ],
            [
             0.5555555555555556,
             "#1f9e89"
            ],
            [
             0.6666666666666666,
             "#35b779"
            ],
            [
             0.7777777777777778,
             "#6ece58"
            ],
            [
             0.8888888888888888,
             "#b5de2b"
            ],
            [
             1.0,
             "#fde725"
            ]
           ],
           "sequentialminus": [
            [
             0.0,
             "#440154"
            ],
            [
             0.1111111111111111,
             "#482878"
            ],
            [
             0.2222222222222222,
             "#3e4989"
            ],
            [
             0.3333333333333333,
             "#31688e"
            ],
            [
             0.4444444444444444,
             "#26828e"
            ],
            [
             0.5555555555555556,
             "#1f9e89"
            ],
            [
             0.6666666666666666,
             "#35b779"
            ],
            [
             0.7777777777777778,
             "#6ece58"
            ],
            [
             0.8888888888888888,
             "#b5de2b"
            ],
            [
             1.0,
             "#fde725"
            ]
           ]
          },
          "colorway": [
           "#91268F",
           "#8CC63E",
           "#00A7A0",
           "#F05A28",
           "#4C4C4C",
           "#630460",
           "#9f3913",
           "#588527",
           "#00716c",
           "#3e4040"
          ],
          "font": {
           "color": "rgb(36,36,36)",
           "family": "Poppins",
           "size": 11
          },
          "geo": {
           "bgcolor": "white",
           "lakecolor": "white",
           "landcolor": "white",
           "showlakes": true,
           "showland": true,
           "subunitcolor": "white"
          },
          "hoverlabel": {
           "align": "left"
          },
          "hovermode": "closest",
          "mapbox": {
           "style": "light"
          },
          "paper_bgcolor": "white",
          "plot_bgcolor": "white",
          "polar": {
           "angularaxis": {
            "gridcolor": "rgb(232,232,232)",
            "linecolor": "rgb(36,36,36)",
            "showgrid": false,
            "showline": true,
            "ticks": "outside"
           },
           "bgcolor": "white",
           "radialaxis": {
            "gridcolor": "rgb(232,232,232)",
            "linecolor": "rgb(36,36,36)",
            "showgrid": false,
            "showline": true,
            "ticks": "outside"
           }
          },
          "scene": {
           "xaxis": {
            "backgroundcolor": "white",
            "gridcolor": "rgb(232,232,232)",
            "gridwidth": 2,
            "linecolor": "rgb(36,36,36)",
            "showbackground": true,
            "showgrid": false,
            "showline": true,
            "ticks": "outside",
            "zeroline": false,
            "zerolinecolor": "rgb(36,36,36)"
           },
           "yaxis": {
            "backgroundcolor": "white",
            "gridcolor": "rgb(232,232,232)",
            "gridwidth": 2,
            "linecolor": "rgb(36,36,36)",
            "showbackground": true,
            "showgrid": false,
            "showline": true,
            "ticks": "outside",
            "zeroline": false,
            "zerolinecolor": "rgb(36,36,36)"
           },
           "zaxis": {
            "backgroundcolor": "white",
            "gridcolor": "rgb(232,232,232)",
            "gridwidth": 2,
            "linecolor": "rgb(36,36,36)",
            "showbackground": true,
            "showgrid": false,
            "showline": true,
            "ticks": "outside",
            "zeroline": false,
            "zerolinecolor": "rgb(36,36,36)"
           }
          },
          "shapedefaults": {
           "fillcolor": "black",
           "line": {
            "width": 0
           },
           "opacity": 0.3
          },
          "ternary": {
           "aaxis": {
            "gridcolor": "rgb(232,232,232)",
            "linecolor": "rgb(36,36,36)",
            "showgrid": false,
            "showline": true,
            "ticks": "outside"
           },
           "baxis": {
            "gridcolor": "rgb(232,232,232)",
            "linecolor": "rgb(36,36,36)",
            "showgrid": false,
            "showline": true,
            "ticks": "outside"
           },
           "bgcolor": "white",
           "caxis": {
            "gridcolor": "rgb(232,232,232)",
            "linecolor": "rgb(36,36,36)",
            "showgrid": false,
            "showline": true,
            "ticks": "outside"
           }
          },
          "title": {
           "x": 0.05
          },
          "xaxis": {
           "automargin": true,
           "gridcolor": "rgb(232,232,232)",
           "linecolor": "rgb(36,36,36)",
           "showgrid": false,
           "showline": true,
           "ticks": "outside",
           "title": {
            "standoff": 15
           },
           "zeroline": false,
           "zerolinecolor": "rgb(36,36,36)"
          },
          "yaxis": {
           "automargin": true,
           "gridcolor": "rgb(232,232,232)",
           "linecolor": "rgb(36,36,36)",
           "showgrid": false,
           "showline": true,
           "ticks": "outside",
           "title": {
            "standoff": 15
           },
           "zeroline": false,
           "zerolinecolor": "rgb(36,36,36)"
          }
         }
        },
        "title": {
         "text": "Medium Trucks: Kitsap"
        },
        "width": 800,
        "xaxis": {
         "anchor": "y",
         "domain": [
          0.0,
          1.0
         ],
         "title": {
          "text": "Observed"
         }
        },
        "yaxis": {
         "anchor": "x",
         "domain": [
          0.0,
          1.0
         ],
         "title": {
          "text": "Model"
         }
        }
       }
      },
      "text/html": [
       "<div>                            <div id=\"f6bcfacf-d8cf-4823-ba40-fa374ab9c295\" class=\"plotly-graph-div\" style=\"height:600px; width:800px;\"></div>            <script type=\"text/javascript\">                require([\"plotly\"], function(Plotly) {                    window.PLOTLYENV=window.PLOTLYENV || {};                                    if (document.getElementById(\"f6bcfacf-d8cf-4823-ba40-fa374ab9c295\")) {                    Plotly.newPlot(                        \"f6bcfacf-d8cf-4823-ba40-fa374ab9c295\",                        [{\"customdata\":[[\"SR-16  N\\u002fO SR-302 NB\\u002fSB\",\"Kitsap\"],[\"SR-16 N\\u002fO SR-160 NB\\u002fSB\",\"Kitsap\"],[\"SR-16 N\\u002fO Tremont NB\\u002fSB\",\"Kitsap\"],[\"SR-16 S\\u002fO SR-3 NB\",\"Kitsap\"],[\"SR-104 @ Hood Canal Bridge WB\\u002fEB\",\"Kitsap\"],[\"SR-104 E\\u002fO Hood Canal Bridge WB\\u002fEB\",\"Kitsap\"],[\"SR-104 N\\u002fO Pt Gamble Rd WB\\u002fEB\",\"Kitsap\"],[\"SR-104 E\\u002fO SR-307 WB\\u002fEB\",\"Kitsap\"],[\"SR-104 E\\u002fO Hansville WB\\u002fEB\",\"Kitsap\"],[\"SR-160 @ SR-16 WB\\u002fEB\",\"Kitsap\"],[\"SR-160 E\\u002fO Long Lake Rd WB\\u002fEB\",\"Kitsap\"],[\"SR-160 W\\u002fO Banner WB\\u002fEB\",\"Kitsap\"],[\"SR-160 E\\u002fO Peterson WB\\u002fEB\",\"Kitsap\"],[\"SR-160 S\\u002fO Southworth Dr WB\\u002fEB\",\"Kitsap\"],[\"SR-166 E\\u002fO SR-16 WB\\u002fEB\",\"Kitsap\"],[\"SR-3 E\\u002fO Sunset Way NB\\u002fSB\",\"Kitsap\"],[\"SR-3 N\\u002fO SR-305 NB\\u002fSB\",\"Kitsap\"],[\"SR-3 S\\u002fO Newberry Hill Rd NB\\u002fSB\",\"Kitsap\"],[\"SR-3 @ SR-304 NB\\u002fSB\",\"Kitsap\"],[\"SR-3 NE of SR-16 NB\\u002fSB\",\"Kitsap\"],[\"SR-3 W\\u002fO Lake Flora Rd NB\\u002fSB\",\"Kitsap\"],[\"SR-303 E\\u002fO SR-3 NB\\u002fSB\",\"Kitsap\"],[\"SR-303 N\\u002fO 11th St NB\\u002fSB\",\"Kitsap\"],[\"SR-303 N\\u002fO SR-304 NB\\u002fSB\",\"Kitsap\"],[\"SR-304 E\\u002fO SR-3 WB\\u002fEB\",\"Kitsap\"],[\"SR-304 W\\u002fO Naval WB\\u002fEB\",\"Kitsap\"],[\"SR-305 W\\u002fO SR-307 WB\\u002fEB\",\"Kitsap\"],[\"SR-305 W\\u002fO Suquamish Way WB\\u002fEB\",\"Kitsap\"],[\"SR-305 N\\u002fO Day Rd WB\\u002fEB\",\"Kitsap\"],[\"SR-305 N\\u002fO High School Rd WB\\u002fEB\",\"Kitsap\"],[\"SR-305 S\\u002fO Winslow Way WB\\u002fEB\",\"Kitsap\"],[\"SR-305 @ Ferry Ramp WB\\u002fEB\",\"Kitsap\"],[\"SR-307 W\\u002fO SR-104 NB\\u002fSB\",\"Kitsap\"],[\"SR-307 N\\u002fO Gunderson NB\\u002fSB\",\"Kitsap\"],[\"SR-307 S\\u002fO Gunderson NB\\u002fSB\",\"Kitsap\"],[\"SR-307 N\\u002fO SR-305 NB\\u002fSB\",\"Kitsap\"],[\"SR-308 @ SR-3 WB\\u002fEB\",\"Kitsap\"],[\"SR-308 E\\u002fO SR-3 WB\\u002fEB\",\"Kitsap\"],[\"SR-308 E\\u002fO Silverdale Way WB\\u002fEB\",\"Kitsap\"],[\"SR-308 W\\u002fO Brownsville Hwy WB\\u002fEB\",\"Kitsap\"],[\"SR-310 @ SR-3 WB\\u002fEB\",\"Kitsap\"],[\"SR-310 W\\u002fO Callow WB\\u002fEB\",\"Kitsap\"]],\"hovertemplate\":\"Observed=%{x}\\u003cbr\\u003eModel=%{y}\\u003cbr\\u003elocation=%{customdata[0]}\\u003cbr\\u003eCounty=%{customdata[1]}\\u003cextra\\u003e\\u003c\\u002fextra\\u003e\",\"legendgroup\":\"\",\"marker\":{\"color\":\"#91268F\",\"symbol\":\"circle\"},\"mode\":\"markers\",\"name\":\"\",\"orientation\":\"v\",\"showlegend\":false,\"x\":[2336,1997,2251,2041,702,197,215,512,288,475,525,408,233,86,280,1258,1725,2074,1768,3230,864,972,1008,434,810,609,1102,660,600,468,265,221,714,476,612,680,156,199,263,230,897,286],\"xaxis\":\"x\",\"y\":[4173,3382,3590,2018,0,24,18,227,163,567,189,144,190,73,416,54,198,2582,2620,4172,0,883,959,322,1642,809,1712,1043,1104,400,72,72,283,331,598,620,109,111,189,129,444,176],\"yaxis\":\"y\",\"type\":\"scatter\",\"line\":{\"color\":\"Grey\",\"width\":2}},{\"hovertemplate\":\"Observed=%{x}\\u003cbr\\u003eModel=%{y}\\u003cextra\\u003e\\u003c\\u002fextra\\u003e\",\"legendgroup\":\"\",\"line\":{\"color\":\"Grey\",\"dash\":\"solid\",\"width\":2},\"marker\":{\"symbol\":\"circle\"},\"mode\":\"lines\",\"name\":\"\",\"orientation\":\"v\",\"showlegend\":false,\"x\":[0.0,32.62626262626262,65.25252525252525,97.87878787878788,130.5050505050505,163.1313131313131,195.75757575757575,228.38383838383837,261.010101010101,293.6363636363636,326.2626262626262,358.88888888888886,391.5151515151515,424.1414141414141,456.76767676767673,489.3939393939393,522.020202020202,554.6464646464646,587.2727272727273,619.8989898989898,652.5252525252524,685.1515151515151,717.7777777777777,750.4040404040403,783.030303030303,815.6565656565656,848.2828282828282,880.9090909090908,913.5353535353535,946.161616161616,978.7878787878786,1011.4141414141413,1044.040404040404,1076.6666666666665,1109.292929292929,1141.9191919191917,1174.5454545454545,1207.171717171717,1239.7979797979797,1272.4242424242423,1305.0505050505049,1337.6767676767674,1370.3030303030303,1402.9292929292928,1435.5555555555554,1468.181818181818,1500.8080808080806,1533.4343434343432,1566.060606060606,1598.6868686868686,1631.3131313131312,1663.9393939393938,1696.5656565656564,1729.191919191919,1761.8181818181815,1794.4444444444443,1827.070707070707,1859.6969696969695,1892.323232323232,1924.9494949494947,1957.5757575757573,1990.20202020202,2022.8282828282827,2055.454545454545,2088.080808080808,2120.7070707070707,2153.333333333333,2185.959595959596,2218.585858585858,2251.212121212121,2283.8383838383834,2316.464646464646,2349.090909090909,2381.7171717171714,2414.343434343434,2446.9696969696965,2479.5959595959594,2512.222222222222,2544.8484848484845,2577.4747474747473,2610.1010101010097,2642.7272727272725,2675.353535353535,2707.9797979797977,2740.6060606060605,2773.232323232323,2805.8585858585857,2838.484848484848,2871.111111111111,2903.737373737373,2936.363636363636,2968.989898989899,3001.616161616161,3034.242424242424,3066.8686868686864,3099.494949494949,3132.121212121212,3164.7474747474744,3197.373737373737,3230.0],\"xaxis\":\"x\",\"y\":[-302.242333169518,-256.26428039599557,-210.28622762247312,-164.30817484895064,-118.33012207542819,-72.35206930190577,-26.374016528383265,19.604036245139184,65.58208901866163,111.56014179218408,157.53819456570648,203.51624733922898,249.4943001127515,295.4723528862738,341.4504056597964,387.4284584333187,433.4065112068413,479.3845639803636,525.3626167538862,571.3406695274086,617.318722300931,663.2967750744535,709.274827847976,755.2528806214983,801.230933395021,847.2089861685434,893.1870389420657,939.1650917155881,985.1431444891108,1031.1211972626334,1077.0992500361554,1123.0773028096783,1169.0553555832007,1215.0334083567227,1261.0114611302452,1306.9895139037676,1352.9675666772905,1398.945619450813,1444.9236722243354,1490.9017249978579,1536.8797777713798,1582.8578305449023,1628.8358833184252,1674.8139360919477,1720.79198886547,1766.770041638992,1812.7480944125145,1858.726147186037,1904.70419995956,1950.6822527330824,1996.6603055066048,2042.6383582801272,2088.6164110536492,2134.5944638271717,2180.572516600694,2226.550569374217,2272.5286221477395,2318.506674921262,2364.4847276947844,2410.4627804683064,2456.440833241829,2502.4188860153517,2548.396938788874,2594.374991562396,2640.353044335919,2686.3310971094415,2732.3091498829635,2778.2872026564864,2824.2652554300084,2870.2433082035313,2916.2213609770533,2962.1994137505762,3008.1774665240987,3054.1555192976207,3100.1335720711436,3146.1116248446656,3192.0896776181885,3238.067730391711,3284.0457831652334,3330.023835938756,3376.001888712278,3421.9799414858007,3467.9579942593227,3513.9360470328456,3559.914099806368,3605.8921525798905,3651.870205353413,3697.848258126935,3743.826310900458,3789.80436367398,3835.7824164475023,3881.7604692210252,3927.738521994547,3973.71657476807,4019.694627541592,4065.672680315115,4111.650733088638,4157.62878586216,4203.606838635683,4249.584891409206],\"yaxis\":\"y\",\"type\":\"scatter\"}],                        {\"template\":{\"data\":{\"barpolar\":[{\"marker\":{\"line\":{\"color\":\"white\",\"width\":0.5},\"pattern\":{\"fillmode\":\"overlay\",\"size\":10,\"solidity\":0.2}},\"type\":\"barpolar\"}],\"bar\":[{\"error_x\":{\"color\":\"rgb(36,36,36)\"},\"error_y\":{\"color\":\"rgb(36,36,36)\"},\"marker\":{\"line\":{\"color\":\"white\",\"width\":0.5},\"pattern\":{\"fillmode\":\"overlay\",\"size\":10,\"solidity\":0.2}},\"type\":\"bar\"}],\"carpet\":[{\"aaxis\":{\"endlinecolor\":\"rgb(36,36,36)\",\"gridcolor\":\"white\",\"linecolor\":\"white\",\"minorgridcolor\":\"white\",\"startlinecolor\":\"rgb(36,36,36)\"},\"baxis\":{\"endlinecolor\":\"rgb(36,36,36)\",\"gridcolor\":\"white\",\"linecolor\":\"white\",\"minorgridcolor\":\"white\",\"startlinecolor\":\"rgb(36,36,36)\"},\"type\":\"carpet\"}],\"choropleth\":[{\"colorbar\":{\"outlinewidth\":1,\"tickcolor\":\"rgb(36,36,36)\",\"ticks\":\"outside\"},\"type\":\"choropleth\"}],\"contourcarpet\":[{\"colorbar\":{\"outlinewidth\":1,\"tickcolor\":\"rgb(36,36,36)\",\"ticks\":\"outside\"},\"type\":\"contourcarpet\"}],\"contour\":[{\"colorbar\":{\"outlinewidth\":1,\"tickcolor\":\"rgb(36,36,36)\",\"ticks\":\"outside\"},\"colorscale\":[[0.0,\"#440154\"],[0.1111111111111111,\"#482878\"],[0.2222222222222222,\"#3e4989\"],[0.3333333333333333,\"#31688e\"],[0.4444444444444444,\"#26828e\"],[0.5555555555555556,\"#1f9e89\"],[0.6666666666666666,\"#35b779\"],[0.7777777777777778,\"#6ece58\"],[0.8888888888888888,\"#b5de2b\"],[1.0,\"#fde725\"]],\"type\":\"contour\"}],\"heatmapgl\":[{\"colorbar\":{\"outlinewidth\":1,\"tickcolor\":\"rgb(36,36,36)\",\"ticks\":\"outside\"},\"colorscale\":[[0.0,\"#440154\"],[0.1111111111111111,\"#482878\"],[0.2222222222222222,\"#3e4989\"],[0.3333333333333333,\"#31688e\"],[0.4444444444444444,\"#26828e\"],[0.5555555555555556,\"#1f9e89\"],[0.6666666666666666,\"#35b779\"],[0.7777777777777778,\"#6ece58\"],[0.8888888888888888,\"#b5de2b\"],[1.0,\"#fde725\"]],\"type\":\"heatmapgl\"}],\"heatmap\":[{\"colorbar\":{\"outlinewidth\":1,\"tickcolor\":\"rgb(36,36,36)\",\"ticks\":\"outside\"},\"colorscale\":[[0.0,\"#440154\"],[0.1111111111111111,\"#482878\"],[0.2222222222222222,\"#3e4989\"],[0.3333333333333333,\"#31688e\"],[0.4444444444444444,\"#26828e\"],[0.5555555555555556,\"#1f9e89\"],[0.6666666666666666,\"#35b779\"],[0.7777777777777778,\"#6ece58\"],[0.8888888888888888,\"#b5de2b\"],[1.0,\"#fde725\"]],\"type\":\"heatmap\"}],\"histogram2dcontour\":[{\"colorbar\":{\"outlinewidth\":1,\"tickcolor\":\"rgb(36,36,36)\",\"ticks\":\"outside\"},\"colorscale\":[[0.0,\"#440154\"],[0.1111111111111111,\"#482878\"],[0.2222222222222222,\"#3e4989\"],[0.3333333333333333,\"#31688e\"],[0.4444444444444444,\"#26828e\"],[0.5555555555555556,\"#1f9e89\"],[0.6666666666666666,\"#35b779\"],[0.7777777777777778,\"#6ece58\"],[0.8888888888888888,\"#b5de2b\"],[1.0,\"#fde725\"]],\"type\":\"histogram2dcontour\"}],\"histogram2d\":[{\"colorbar\":{\"outlinewidth\":1,\"tickcolor\":\"rgb(36,36,36)\",\"ticks\":\"outside\"},\"colorscale\":[[0.0,\"#440154\"],[0.1111111111111111,\"#482878\"],[0.2222222222222222,\"#3e4989\"],[0.3333333333333333,\"#31688e\"],[0.4444444444444444,\"#26828e\"],[0.5555555555555556,\"#1f9e89\"],[0.6666666666666666,\"#35b779\"],[0.7777777777777778,\"#6ece58\"],[0.8888888888888888,\"#b5de2b\"],[1.0,\"#fde725\"]],\"type\":\"histogram2d\"}],\"histogram\":[{\"marker\":{\"line\":{\"color\":\"white\",\"width\":0.6}},\"type\":\"histogram\"}],\"mesh3d\":[{\"colorbar\":{\"outlinewidth\":1,\"tickcolor\":\"rgb(36,36,36)\",\"ticks\":\"outside\"},\"type\":\"mesh3d\"}],\"parcoords\":[{\"line\":{\"colorbar\":{\"outlinewidth\":1,\"tickcolor\":\"rgb(36,36,36)\",\"ticks\":\"outside\"}},\"type\":\"parcoords\"}],\"pie\":[{\"automargin\":true,\"type\":\"pie\"}],\"scatter3d\":[{\"line\":{\"colorbar\":{\"outlinewidth\":1,\"tickcolor\":\"rgb(36,36,36)\",\"ticks\":\"outside\"}},\"marker\":{\"colorbar\":{\"outlinewidth\":1,\"tickcolor\":\"rgb(36,36,36)\",\"ticks\":\"outside\"}},\"type\":\"scatter3d\"}],\"scattercarpet\":[{\"marker\":{\"colorbar\":{\"outlinewidth\":1,\"tickcolor\":\"rgb(36,36,36)\",\"ticks\":\"outside\"}},\"type\":\"scattercarpet\"}],\"scattergeo\":[{\"marker\":{\"colorbar\":{\"outlinewidth\":1,\"tickcolor\":\"rgb(36,36,36)\",\"ticks\":\"outside\"}},\"type\":\"scattergeo\"}],\"scattergl\":[{\"marker\":{\"colorbar\":{\"outlinewidth\":1,\"tickcolor\":\"rgb(36,36,36)\",\"ticks\":\"outside\"}},\"type\":\"scattergl\"}],\"scattermapbox\":[{\"marker\":{\"colorbar\":{\"outlinewidth\":1,\"tickcolor\":\"rgb(36,36,36)\",\"ticks\":\"outside\"}},\"type\":\"scattermapbox\"}],\"scatterpolargl\":[{\"marker\":{\"colorbar\":{\"outlinewidth\":1,\"tickcolor\":\"rgb(36,36,36)\",\"ticks\":\"outside\"}},\"type\":\"scatterpolargl\"}],\"scatterpolar\":[{\"marker\":{\"colorbar\":{\"outlinewidth\":1,\"tickcolor\":\"rgb(36,36,36)\",\"ticks\":\"outside\"}},\"type\":\"scatterpolar\"}],\"scatter\":[{\"fillpattern\":{\"fillmode\":\"overlay\",\"size\":10,\"solidity\":0.2},\"type\":\"scatter\"}],\"scatterternary\":[{\"marker\":{\"colorbar\":{\"outlinewidth\":1,\"tickcolor\":\"rgb(36,36,36)\",\"ticks\":\"outside\"}},\"type\":\"scatterternary\"}],\"surface\":[{\"colorbar\":{\"outlinewidth\":1,\"tickcolor\":\"rgb(36,36,36)\",\"ticks\":\"outside\"},\"colorscale\":[[0.0,\"#440154\"],[0.1111111111111111,\"#482878\"],[0.2222222222222222,\"#3e4989\"],[0.3333333333333333,\"#31688e\"],[0.4444444444444444,\"#26828e\"],[0.5555555555555556,\"#1f9e89\"],[0.6666666666666666,\"#35b779\"],[0.7777777777777778,\"#6ece58\"],[0.8888888888888888,\"#b5de2b\"],[1.0,\"#fde725\"]],\"type\":\"surface\"}],\"table\":[{\"cells\":{\"fill\":{\"color\":\"rgb(237,237,237)\"},\"line\":{\"color\":\"white\"}},\"header\":{\"fill\":{\"color\":\"rgb(217,217,217)\"},\"line\":{\"color\":\"white\"}},\"type\":\"table\"}]},\"layout\":{\"annotationdefaults\":{\"arrowhead\":0,\"arrowwidth\":1},\"autotypenumbers\":\"strict\",\"coloraxis\":{\"colorbar\":{\"outlinewidth\":1,\"tickcolor\":\"rgb(36,36,36)\",\"ticks\":\"outside\"}},\"colorscale\":{\"diverging\":[[0.0,\"rgb(103,0,31)\"],[0.1,\"rgb(178,24,43)\"],[0.2,\"rgb(214,96,77)\"],[0.3,\"rgb(244,165,130)\"],[0.4,\"rgb(253,219,199)\"],[0.5,\"rgb(247,247,247)\"],[0.6,\"rgb(209,229,240)\"],[0.7,\"rgb(146,197,222)\"],[0.8,\"rgb(67,147,195)\"],[0.9,\"rgb(33,102,172)\"],[1.0,\"rgb(5,48,97)\"]],\"sequential\":[[0.0,\"#440154\"],[0.1111111111111111,\"#482878\"],[0.2222222222222222,\"#3e4989\"],[0.3333333333333333,\"#31688e\"],[0.4444444444444444,\"#26828e\"],[0.5555555555555556,\"#1f9e89\"],[0.6666666666666666,\"#35b779\"],[0.7777777777777778,\"#6ece58\"],[0.8888888888888888,\"#b5de2b\"],[1.0,\"#fde725\"]],\"sequentialminus\":[[0.0,\"#440154\"],[0.1111111111111111,\"#482878\"],[0.2222222222222222,\"#3e4989\"],[0.3333333333333333,\"#31688e\"],[0.4444444444444444,\"#26828e\"],[0.5555555555555556,\"#1f9e89\"],[0.6666666666666666,\"#35b779\"],[0.7777777777777778,\"#6ece58\"],[0.8888888888888888,\"#b5de2b\"],[1.0,\"#fde725\"]]},\"colorway\":[\"#91268F\",\"#8CC63E\",\"#00A7A0\",\"#F05A28\",\"#4C4C4C\",\"#630460\",\"#9f3913\",\"#588527\",\"#00716c\",\"#3e4040\"],\"font\":{\"color\":\"rgb(36,36,36)\",\"family\":\"Poppins\",\"size\":11},\"geo\":{\"bgcolor\":\"white\",\"lakecolor\":\"white\",\"landcolor\":\"white\",\"showlakes\":true,\"showland\":true,\"subunitcolor\":\"white\"},\"hoverlabel\":{\"align\":\"left\"},\"hovermode\":\"closest\",\"mapbox\":{\"style\":\"light\"},\"paper_bgcolor\":\"white\",\"plot_bgcolor\":\"white\",\"polar\":{\"angularaxis\":{\"gridcolor\":\"rgb(232,232,232)\",\"linecolor\":\"rgb(36,36,36)\",\"showgrid\":false,\"showline\":true,\"ticks\":\"outside\"},\"bgcolor\":\"white\",\"radialaxis\":{\"gridcolor\":\"rgb(232,232,232)\",\"linecolor\":\"rgb(36,36,36)\",\"showgrid\":false,\"showline\":true,\"ticks\":\"outside\"}},\"scene\":{\"xaxis\":{\"backgroundcolor\":\"white\",\"gridcolor\":\"rgb(232,232,232)\",\"gridwidth\":2,\"linecolor\":\"rgb(36,36,36)\",\"showbackground\":true,\"showgrid\":false,\"showline\":true,\"ticks\":\"outside\",\"zeroline\":false,\"zerolinecolor\":\"rgb(36,36,36)\"},\"yaxis\":{\"backgroundcolor\":\"white\",\"gridcolor\":\"rgb(232,232,232)\",\"gridwidth\":2,\"linecolor\":\"rgb(36,36,36)\",\"showbackground\":true,\"showgrid\":false,\"showline\":true,\"ticks\":\"outside\",\"zeroline\":false,\"zerolinecolor\":\"rgb(36,36,36)\"},\"zaxis\":{\"backgroundcolor\":\"white\",\"gridcolor\":\"rgb(232,232,232)\",\"gridwidth\":2,\"linecolor\":\"rgb(36,36,36)\",\"showbackground\":true,\"showgrid\":false,\"showline\":true,\"ticks\":\"outside\",\"zeroline\":false,\"zerolinecolor\":\"rgb(36,36,36)\"}},\"shapedefaults\":{\"fillcolor\":\"black\",\"line\":{\"width\":0},\"opacity\":0.3},\"ternary\":{\"aaxis\":{\"gridcolor\":\"rgb(232,232,232)\",\"linecolor\":\"rgb(36,36,36)\",\"showgrid\":false,\"showline\":true,\"ticks\":\"outside\"},\"baxis\":{\"gridcolor\":\"rgb(232,232,232)\",\"linecolor\":\"rgb(36,36,36)\",\"showgrid\":false,\"showline\":true,\"ticks\":\"outside\"},\"bgcolor\":\"white\",\"caxis\":{\"gridcolor\":\"rgb(232,232,232)\",\"linecolor\":\"rgb(36,36,36)\",\"showgrid\":false,\"showline\":true,\"ticks\":\"outside\"}},\"title\":{\"x\":0.05},\"xaxis\":{\"automargin\":true,\"gridcolor\":\"rgb(232,232,232)\",\"linecolor\":\"rgb(36,36,36)\",\"showgrid\":false,\"showline\":true,\"ticks\":\"outside\",\"title\":{\"standoff\":15},\"zeroline\":false,\"zerolinecolor\":\"rgb(36,36,36)\"},\"yaxis\":{\"automargin\":true,\"gridcolor\":\"rgb(232,232,232)\",\"linecolor\":\"rgb(36,36,36)\",\"showgrid\":false,\"showline\":true,\"ticks\":\"outside\",\"title\":{\"standoff\":15},\"zeroline\":false,\"zerolinecolor\":\"rgb(36,36,36)\"}}},\"xaxis\":{\"anchor\":\"y\",\"domain\":[0.0,1.0],\"title\":{\"text\":\"Observed\"}},\"yaxis\":{\"anchor\":\"x\",\"domain\":[0.0,1.0],\"title\":{\"text\":\"Model\"}},\"legend\":{\"tracegroupgap\":0},\"title\":{\"text\":\"Medium Trucks: Kitsap\"},\"margin\":{\"l\":100,\"r\":100,\"t\":100,\"b\":100},\"height\":600,\"width\":800,\"shapes\":[{\"line\":{\"color\":\"Red\",\"dash\":\"dash\",\"width\":2},\"type\":\"line\",\"x0\":0,\"x1\":4173,\"y0\":0,\"y1\":4173}],\"annotations\":[{\"align\":\"right\",\"font\":{\"color\":\"pink\",\"size\":12},\"showarrow\":false,\"text\":\"y = x\",\"x\":4381.650000000001,\"y\":4381.650000000001},{\"align\":\"right\",\"font\":{\"color\":\"black\",\"size\":12},\"showarrow\":false,\"text\":\"r^2 = 0.78\",\"x\":3391.5,\"y\":4462.064135979666}]},                        {\"responsive\": true}                    ).then(function(){\n",
       "                            \n",
       "var gd = document.getElementById('f6bcfacf-d8cf-4823-ba40-fa374ab9c295');\n",
       "var x = new MutationObserver(function (mutations, observer) {{\n",
       "        var display = window.getComputedStyle(gd).display;\n",
       "        if (!display || display === 'none') {{\n",
       "            console.log([gd, 'removed!']);\n",
       "            Plotly.purge(gd);\n",
       "            observer.disconnect();\n",
       "        }}\n",
       "}});\n",
       "\n",
       "// Listen for the removal of the full notebook cells\n",
       "var notebookContainer = gd.closest('#notebook-container');\n",
       "if (notebookContainer) {{\n",
       "    x.observe(notebookContainer, {childList: true});\n",
       "}}\n",
       "\n",
       "// Listen for the clearing of the current output cell\n",
       "var outputEl = gd.closest('.output');\n",
       "if (outputEl) {{\n",
       "    x.observe(outputEl, {childList: true});\n",
       "}}\n",
       "\n",
       "                        })                };                });            </script>        </div>"
      ]
     },
     "metadata": {},
     "output_type": "display_data"
    }
   ],
   "source": [
    "fig = create_truck_chart(df_daily_med, 'Medium', 'Kitsap')\n",
    "fig.show()"
   ]
  },
  {
   "cell_type": "raw",
   "id": "7c56e60a",
   "metadata": {},
   "source": [
    "#### Pierce"
   ]
  },
  {
   "cell_type": "code",
   "execution_count": 32,
   "id": "70397228",
   "metadata": {},
   "outputs": [
    {
     "data": {
      "application/vnd.plotly.v1+json": {
       "config": {
        "plotlyServerURL": "https://plot.ly"
       },
       "data": [
        {
         "customdata": [
          [
           "I-5 S/O Mounts NB",
           "Pierce"
          ],
          [
           "I-5 S/O Mounts SB",
           "Pierce"
          ],
          [
           "I-5 S/O Division NB",
           "Pierce"
          ],
          [
           "I-5 S/O Division SB",
           "Pierce"
          ],
          [
           "I-5 @ N/O Division NB",
           "Pierce"
          ],
          [
           "I-5 @ N/O Division SB",
           "Pierce"
          ],
          [
           "I-5 S/O SR-512 NB",
           "Pierce"
          ],
          [
           "I-5 S/O SR-512 SB",
           "Pierce"
          ],
          [
           "I-5 N/O SR-512 NB",
           "Pierce"
          ],
          [
           "I-5 N/O SR-512 SB",
           "Pierce"
          ],
          [
           "I-5 N/O 56th NB",
           "Pierce"
          ],
          [
           "I-5 N/O 56th SB",
           "Pierce"
          ],
          [
           "I-5 E/O SR-16 NB",
           "Pierce"
          ],
          [
           "I-5 E/O SR-16 SB",
           "Pierce"
          ],
          [
           "I-5 E/O Port of Tacoma NB",
           "Pierce"
          ],
          [
           "I-5 E/O Port of Tacoma SB (HOV from 56)",
           "Pierce"
          ],
          [
           "SR-512 W/O Meridian WB",
           "Pierce"
          ],
          [
           "SR-512 W/O Meridian EB",
           "Pierce"
          ],
          [
           "SR-167 W/O SR-410 NB/SB",
           "Pierce"
          ],
          [
           "SR-167 E/O SR-161 NB/SB",
           "Pierce"
          ],
          [
           "SR-410 E/O S Prairie WB/EB",
           "Pierce"
          ],
          [
           "SR-410 E/O Chinook WB/EB",
           "Pierce"
          ],
          [
           "SR-410 W/O SR-123 WB/EB",
           "Pierce"
          ],
          [
           "SR-410 E/O SR-123 WB/EB",
           "Pierce"
          ],
          [
           "SR-512 @ I-5 WB/EB",
           "Pierce"
          ],
          [
           "SR-512 W/O SR-7 WB/EB",
           "Pierce"
          ],
          [
           "SR-512 S/O SR-167 WB/EB",
           "Pierce"
          ],
          [
           "SR-509 E/O I-705 NB/SB",
           "Pierce"
          ],
          [
           "SR-509 W/O Alexander NB/SB",
           "Pierce"
          ],
          [
           "SR-509 S/O 11th NB/SB",
           "Pierce"
          ],
          [
           "SR-509 N/O Hyada NB/SB",
           "Pierce"
          ],
          [
           "SR-509 E/O Soundview NB/SB",
           "Pierce"
          ],
          [
           "SR-99 @ I-5 NB/SB",
           "Pierce"
          ],
          [
           "SR-99 E/O 54th NB/SB",
           "Pierce"
          ],
          [
           "SR-99 S/O Porter NB/SB",
           "Pierce"
          ],
          [
           "SR-16 @ TNB NB/SB",
           "Pierce"
          ],
          [
           "SR-16 @ Purdy Dr NB/SB",
           "Pierce"
          ],
          [
           "SR-302 N/O 144th WB/EB",
           "Pierce"
          ],
          [
           "SR-302 S/O 144th WB/EB",
           "Pierce"
          ],
          [
           "SR-302 W/O Key Peninsula Hwy WB/EB",
           "Pierce"
          ],
          [
           "SR-302 W/O Wright-Bliss WB/EB (E/O?)",
           "Pierce"
          ],
          [
           "SR-161 E/O SR-7 NB/SB",
           "Pierce"
          ],
          [
           "SR-161 N/O Center NB/SB",
           "Pierce"
          ],
          [
           "SR-161 N/O Eatonville Cutoff NB/SB",
           "Pierce"
          ],
          [
           "SR-161 N/O 304th NB/SB",
           "Pierce"
          ],
          [
           "SR-161 N/O 264th NB/SB",
           "Pierce"
          ],
          [
           "SR-161 S/O 224th NB/SB",
           "Pierce"
          ],
          [
           "SR-161 N/O 224th NB/SB",
           "Pierce"
          ],
          [
           "SR-161 N/O 204th NB/SB",
           "Pierce"
          ],
          [
           "SR-161 S/O SR-167 SB off-ramp NB/SB",
           "Pierce"
          ],
          [
           "SR-161 S/O Valley NB/SB",
           "Pierce"
          ],
          [
           "SR-161 N/O Valley NB/SB",
           "Pierce"
          ],
          [
           "SR-161 N/O 8th NB/SB",
           "Pierce"
          ],
          [
           "SR-7 @ Thurston County NB/SB",
           "Pierce"
          ],
          [
           "SR-7 W/O Alder Cutoff NB/SB",
           "Pierce"
          ],
          [
           "SR-7 N/O Eatonville Hwy NB/SB",
           "Pierce"
          ],
          [
           "SR-7 N/O Silver Lake NB/SB",
           "Pierce"
          ],
          [
           "SR-7 S/O SR-702 NB/SB",
           "Pierce"
          ],
          [
           "SR-7 N/O 304th NB/SB",
           "Pierce"
          ],
          [
           "SR-7 N/O 260th NB/SB",
           "Pierce"
          ],
          [
           "SR-7 S/O 224th NB/SB",
           "Pierce"
          ],
          [
           "SR-7 N/O 224th NB/SB",
           "Pierce"
          ],
          [
           "SR-7 N/O 38th NB/SB",
           "Pierce"
          ],
          [
           "SR-162 @ SR-410 WB/EB",
           "Pierce"
          ],
          [
           "SR-162 S/O Pioneer WB/EB",
           "Pierce"
          ],
          [
           "SR-162 E/O Orville WB/EB",
           "Pierce"
          ],
          [
           "SR-162 E/O S Prairie WB/EB",
           "Pierce"
          ],
          [
           "SR-162 N/O SR-165 WB/EB",
           "Pierce"
          ],
          [
           "SR-163 @ SR-16 NB/SB",
           "Pierce"
          ],
          [
           "SR-163 N/O 37th NB/SB",
           "Pierce"
          ],
          [
           "SR-163 N/O Park NB/SB",
           "Pierce"
          ],
          [
           "SR-507 S/O SR-7 NB/SB",
           "Pierce"
          ],
          [
           "SR-507 S/O E Gate NB/SB",
           "Pierce"
          ],
          [
           "SR-507 S/O 288th NB/SB",
           "Pierce"
          ],
          [
           "SR-507 N/O 346th NB/SB",
           "Pierce"
          ],
          [
           "SR-702 E/O SR-507 WB/EB",
           "Pierce"
          ],
          [
           "SR-702 E/O Harts Lake WB/EB",
           "Pierce"
          ],
          [
           "SR-702 E/O 40th WB/EB",
           "Pierce"
          ],
          [
           "SR-702 W/O 8th WB/EB",
           "Pierce"
          ],
          [
           "SR-702 E/O 8th WB/EB",
           "Pierce"
          ],
          [
           "SR-165 W/O SR-162 NB/SB",
           "Pierce"
          ],
          [
           "SR-165 N/O Davis NB/SB",
           "Pierce"
          ],
          [
           "SR-165 N/O Wilkeson-Carbonado NB/SB",
           "Pierce"
          ],
          [
           "SR-704 E/O Spanaway Loop WB/EB",
           "Pierce"
          ],
          [
           "SR-706 E/O SR-7 WB/EB",
           "Pierce"
          ],
          [
           "SR-706 E/O Kernahan WB/EB",
           "Pierce"
          ]
         ],
         "hovertemplate": "Observed=%{x}<br>Model=%{y}<br>location=%{customdata[0]}<br>County=%{customdata[1]}<extra></extra>",
         "legendgroup": "",
         "line": {
          "color": "Grey",
          "width": 2
         },
         "marker": {
          "color": "#91268F",
          "symbol": "circle"
         },
         "mode": "markers",
         "name": "",
         "orientation": "v",
         "showlegend": false,
         "type": "scatter",
         "x": [
          2398,
          2384,
          2500,
          2589,
          2331,
          2275,
          2608,
          2499,
          4754,
          4821,
          5641,
          5686,
          1764,
          3843,
          2614,
          3294,
          2040,
          2040,
          5571,
          2749,
          1262,
          74,
          48,
          29,
          2835,
          3326,
          4048,
          1036,
          2310,
          171,
          59,
          62,
          1276,
          1600,
          1150,
          3133,
          2138,
          426,
          871,
          227,
          157,
          24,
          456,
          313,
          594,
          598,
          504,
          864,
          1216,
          1000,
          1850,
          720,
          800,
          241,
          106,
          193,
          228,
          363,
          690,
          897,
          1350,
          858,
          378,
          640,
          924,
          618,
          354,
          547,
          420,
          276,
          161,
          1264,
          462,
          533,
          611,
          524,
          396,
          389,
          382,
          322,
          390,
          211,
          120,
          720,
          150,
          75
         ],
         "xaxis": "x",
         "y": [
          0,
          0,
          723,
          741,
          716,
          734,
          1073,
          1007,
          1942,
          2403,
          3312,
          3524,
          1894,
          5869,
          6250,
          6304,
          2269,
          2276,
          6919,
          3205,
          1129,
          0,
          0,
          0,
          3306,
          3351,
          5150,
          1715,
          1542,
          93,
          29,
          29,
          1371,
          1265,
          1354,
          6739,
          4027,
          317,
          329,
          140,
          39,
          4,
          30,
          193,
          362,
          359,
          537,
          597,
          1048,
          1461,
          2146,
          663,
          1450,
          0,
          17,
          23,
          30,
          28,
          242,
          287,
          321,
          412,
          194,
          566,
          736,
          244,
          126,
          238,
          939,
          382,
          100,
          256,
          158,
          47,
          49,
          10,
          10,
          110,
          110,
          55,
          154,
          77,
          35,
          780,
          0,
          0
         ],
         "yaxis": "y"
        },
        {
         "hovertemplate": "Observed=%{x}<br>Model=%{y}<extra></extra>",
         "legendgroup": "",
         "line": {
          "color": "Grey",
          "dash": "solid",
          "width": 2
         },
         "marker": {
          "symbol": "circle"
         },
         "mode": "lines",
         "name": "",
         "orientation": "v",
         "showlegend": false,
         "type": "scatter",
         "x": [
          0.0,
          57.43434343434343,
          114.86868686868686,
          172.3030303030303,
          229.73737373737373,
          287.17171717171715,
          344.6060606060606,
          402.04040404040404,
          459.47474747474746,
          516.9090909090909,
          574.3434343434343,
          631.7777777777777,
          689.2121212121212,
          746.6464646464647,
          804.0808080808081,
          861.5151515151515,
          918.9494949494949,
          976.3838383838383,
          1033.8181818181818,
          1091.2525252525252,
          1148.6868686868686,
          1206.121212121212,
          1263.5555555555554,
          1320.9898989898988,
          1378.4242424242425,
          1435.858585858586,
          1493.2929292929293,
          1550.7272727272727,
          1608.1616161616162,
          1665.5959595959596,
          1723.030303030303,
          1780.4646464646464,
          1837.8989898989898,
          1895.3333333333333,
          1952.7676767676767,
          2010.20202020202,
          2067.6363636363635,
          2125.070707070707,
          2182.5050505050503,
          2239.939393939394,
          2297.373737373737,
          2354.808080808081,
          2412.242424242424,
          2469.6767676767677,
          2527.111111111111,
          2584.5454545454545,
          2641.9797979797977,
          2699.4141414141413,
          2756.848484848485,
          2814.282828282828,
          2871.717171717172,
          2929.151515151515,
          2986.5858585858587,
          3044.020202020202,
          3101.4545454545455,
          3158.8888888888887,
          3216.3232323232323,
          3273.7575757575755,
          3331.191919191919,
          3388.6262626262624,
          3446.060606060606,
          3503.494949494949,
          3560.929292929293,
          3618.363636363636,
          3675.7979797979797,
          3733.2323232323233,
          3790.6666666666665,
          3848.10101010101,
          3905.5353535353534,
          3962.969696969697,
          4020.40404040404,
          4077.838383838384,
          4135.272727272727,
          4192.707070707071,
          4250.141414141414,
          4307.575757575757,
          4365.010101010101,
          4422.444444444444,
          4479.878787878788,
          4537.313131313131,
          4594.747474747474,
          4652.181818181818,
          4709.616161616162,
          4767.050505050505,
          4824.484848484848,
          4881.919191919192,
          4939.353535353535,
          4996.787878787879,
          5054.222222222222,
          5111.656565656565,
          5169.090909090909,
          5226.525252525253,
          5283.959595959595,
          5341.393939393939,
          5398.828282828283,
          5456.262626262626,
          5513.69696969697,
          5571.131313131313,
          5628.565656565656,
          5686.0
         ],
         "xaxis": "x",
         "y": [
          -90.90417159770686,
          -37.891114792157346,
          15.121942013392172,
          68.13499881894168,
          121.1480556244912,
          174.1611124300407,
          227.17416923559023,
          280.18722604113975,
          333.2002828466893,
          386.21333965223874,
          439.22639645778827,
          492.23945326333774,
          545.2525100688873,
          598.2655668744369,
          651.2786236799864,
          704.2916804855358,
          757.3047372910854,
          810.3177940966349,
          863.3308509021844,
          916.3439077077338,
          969.3569645132834,
          1022.3700213188329,
          1075.3830781243823,
          1128.3961349299318,
          1181.4091917354815,
          1234.4222485410312,
          1287.4353053465807,
          1340.4483621521301,
          1393.4614189576796,
          1446.474475763229,
          1499.4875325687785,
          1552.500589374328,
          1605.5136461798777,
          1658.5267029854272,
          1711.5397597909766,
          1764.552816596526,
          1817.5658734020756,
          1870.5789302076253,
          1923.5919870131745,
          1976.6050438187244,
          2029.6181006242737,
          2082.6311574298234,
          2135.6442142353726,
          2188.6572710409223,
          2241.6703278464715,
          2294.6833846520212,
          2347.6964414575705,
          2400.70949826312,
          2453.72255506867,
          2506.735611874219,
          2559.7486686797693,
          2612.7617254853185,
          2665.774782290868,
          2718.7878390964174,
          2771.800895901967,
          2824.8139527075164,
          2877.827009513066,
          2930.8400663186153,
          2983.853123124165,
          3036.8661799297142,
          3089.879236735264,
          3142.892293540813,
          3195.905350346363,
          3248.9184071519126,
          3301.9314639574623,
          3354.944520763012,
          3407.957577568561,
          3460.970634374111,
          3513.98369117966,
          3566.99674798521,
          3620.009804790759,
          3673.0228615963088,
          3726.035918401858,
          3779.0489752074077,
          3832.0620320129574,
          3885.075088818506,
          3938.088145624056,
          3991.1012024296056,
          4044.1142592351557,
          4097.127316040704,
          4150.140372846254,
          4203.153429651804,
          4256.166486457354,
          4309.179543262902,
          4362.1926000684525,
          4415.205656874003,
          4468.218713679551,
          4521.231770485101,
          4574.2448272906495,
          4627.2578840962,
          4680.27094090175,
          4733.2839977073,
          4786.297054512848,
          4839.310111318398,
          4892.323168123947,
          4945.336224929497,
          4998.349281735047,
          5051.362338540595,
          5104.3753953461455,
          5157.388452151696
         ],
         "yaxis": "y"
        }
       ],
       "layout": {
        "annotations": [
         {
          "align": "right",
          "font": {
           "color": "pink",
           "size": 12
          },
          "showarrow": false,
          "text": "y = x",
          "x": 7264.950000000001,
          "y": 7264.950000000001
         },
         {
          "align": "right",
          "font": {
           "color": "black",
           "size": 12
          },
          "showarrow": false,
          "text": "r^2 = 0.59",
          "x": 5970.3,
          "y": 5415.257874759281
         }
        ],
        "height": 600,
        "legend": {
         "tracegroupgap": 0
        },
        "margin": {
         "b": 100,
         "l": 100,
         "r": 100,
         "t": 100
        },
        "shapes": [
         {
          "line": {
           "color": "Red",
           "dash": "dash",
           "width": 2
          },
          "type": "line",
          "x0": 0,
          "x1": 6919,
          "y0": 0,
          "y1": 6919
         }
        ],
        "template": {
         "data": {
          "bar": [
           {
            "error_x": {
             "color": "rgb(36,36,36)"
            },
            "error_y": {
             "color": "rgb(36,36,36)"
            },
            "marker": {
             "line": {
              "color": "white",
              "width": 0.5
             },
             "pattern": {
              "fillmode": "overlay",
              "size": 10,
              "solidity": 0.2
             }
            },
            "type": "bar"
           }
          ],
          "barpolar": [
           {
            "marker": {
             "line": {
              "color": "white",
              "width": 0.5
             },
             "pattern": {
              "fillmode": "overlay",
              "size": 10,
              "solidity": 0.2
             }
            },
            "type": "barpolar"
           }
          ],
          "carpet": [
           {
            "aaxis": {
             "endlinecolor": "rgb(36,36,36)",
             "gridcolor": "white",
             "linecolor": "white",
             "minorgridcolor": "white",
             "startlinecolor": "rgb(36,36,36)"
            },
            "baxis": {
             "endlinecolor": "rgb(36,36,36)",
             "gridcolor": "white",
             "linecolor": "white",
             "minorgridcolor": "white",
             "startlinecolor": "rgb(36,36,36)"
            },
            "type": "carpet"
           }
          ],
          "choropleth": [
           {
            "colorbar": {
             "outlinewidth": 1,
             "tickcolor": "rgb(36,36,36)",
             "ticks": "outside"
            },
            "type": "choropleth"
           }
          ],
          "contour": [
           {
            "colorbar": {
             "outlinewidth": 1,
             "tickcolor": "rgb(36,36,36)",
             "ticks": "outside"
            },
            "colorscale": [
             [
              0.0,
              "#440154"
             ],
             [
              0.1111111111111111,
              "#482878"
             ],
             [
              0.2222222222222222,
              "#3e4989"
             ],
             [
              0.3333333333333333,
              "#31688e"
             ],
             [
              0.4444444444444444,
              "#26828e"
             ],
             [
              0.5555555555555556,
              "#1f9e89"
             ],
             [
              0.6666666666666666,
              "#35b779"
             ],
             [
              0.7777777777777778,
              "#6ece58"
             ],
             [
              0.8888888888888888,
              "#b5de2b"
             ],
             [
              1.0,
              "#fde725"
             ]
            ],
            "type": "contour"
           }
          ],
          "contourcarpet": [
           {
            "colorbar": {
             "outlinewidth": 1,
             "tickcolor": "rgb(36,36,36)",
             "ticks": "outside"
            },
            "type": "contourcarpet"
           }
          ],
          "heatmap": [
           {
            "colorbar": {
             "outlinewidth": 1,
             "tickcolor": "rgb(36,36,36)",
             "ticks": "outside"
            },
            "colorscale": [
             [
              0.0,
              "#440154"
             ],
             [
              0.1111111111111111,
              "#482878"
             ],
             [
              0.2222222222222222,
              "#3e4989"
             ],
             [
              0.3333333333333333,
              "#31688e"
             ],
             [
              0.4444444444444444,
              "#26828e"
             ],
             [
              0.5555555555555556,
              "#1f9e89"
             ],
             [
              0.6666666666666666,
              "#35b779"
             ],
             [
              0.7777777777777778,
              "#6ece58"
             ],
             [
              0.8888888888888888,
              "#b5de2b"
             ],
             [
              1.0,
              "#fde725"
             ]
            ],
            "type": "heatmap"
           }
          ],
          "heatmapgl": [
           {
            "colorbar": {
             "outlinewidth": 1,
             "tickcolor": "rgb(36,36,36)",
             "ticks": "outside"
            },
            "colorscale": [
             [
              0.0,
              "#440154"
             ],
             [
              0.1111111111111111,
              "#482878"
             ],
             [
              0.2222222222222222,
              "#3e4989"
             ],
             [
              0.3333333333333333,
              "#31688e"
             ],
             [
              0.4444444444444444,
              "#26828e"
             ],
             [
              0.5555555555555556,
              "#1f9e89"
             ],
             [
              0.6666666666666666,
              "#35b779"
             ],
             [
              0.7777777777777778,
              "#6ece58"
             ],
             [
              0.8888888888888888,
              "#b5de2b"
             ],
             [
              1.0,
              "#fde725"
             ]
            ],
            "type": "heatmapgl"
           }
          ],
          "histogram": [
           {
            "marker": {
             "line": {
              "color": "white",
              "width": 0.6
             }
            },
            "type": "histogram"
           }
          ],
          "histogram2d": [
           {
            "colorbar": {
             "outlinewidth": 1,
             "tickcolor": "rgb(36,36,36)",
             "ticks": "outside"
            },
            "colorscale": [
             [
              0.0,
              "#440154"
             ],
             [
              0.1111111111111111,
              "#482878"
             ],
             [
              0.2222222222222222,
              "#3e4989"
             ],
             [
              0.3333333333333333,
              "#31688e"
             ],
             [
              0.4444444444444444,
              "#26828e"
             ],
             [
              0.5555555555555556,
              "#1f9e89"
             ],
             [
              0.6666666666666666,
              "#35b779"
             ],
             [
              0.7777777777777778,
              "#6ece58"
             ],
             [
              0.8888888888888888,
              "#b5de2b"
             ],
             [
              1.0,
              "#fde725"
             ]
            ],
            "type": "histogram2d"
           }
          ],
          "histogram2dcontour": [
           {
            "colorbar": {
             "outlinewidth": 1,
             "tickcolor": "rgb(36,36,36)",
             "ticks": "outside"
            },
            "colorscale": [
             [
              0.0,
              "#440154"
             ],
             [
              0.1111111111111111,
              "#482878"
             ],
             [
              0.2222222222222222,
              "#3e4989"
             ],
             [
              0.3333333333333333,
              "#31688e"
             ],
             [
              0.4444444444444444,
              "#26828e"
             ],
             [
              0.5555555555555556,
              "#1f9e89"
             ],
             [
              0.6666666666666666,
              "#35b779"
             ],
             [
              0.7777777777777778,
              "#6ece58"
             ],
             [
              0.8888888888888888,
              "#b5de2b"
             ],
             [
              1.0,
              "#fde725"
             ]
            ],
            "type": "histogram2dcontour"
           }
          ],
          "mesh3d": [
           {
            "colorbar": {
             "outlinewidth": 1,
             "tickcolor": "rgb(36,36,36)",
             "ticks": "outside"
            },
            "type": "mesh3d"
           }
          ],
          "parcoords": [
           {
            "line": {
             "colorbar": {
              "outlinewidth": 1,
              "tickcolor": "rgb(36,36,36)",
              "ticks": "outside"
             }
            },
            "type": "parcoords"
           }
          ],
          "pie": [
           {
            "automargin": true,
            "type": "pie"
           }
          ],
          "scatter": [
           {
            "fillpattern": {
             "fillmode": "overlay",
             "size": 10,
             "solidity": 0.2
            },
            "type": "scatter"
           }
          ],
          "scatter3d": [
           {
            "line": {
             "colorbar": {
              "outlinewidth": 1,
              "tickcolor": "rgb(36,36,36)",
              "ticks": "outside"
             }
            },
            "marker": {
             "colorbar": {
              "outlinewidth": 1,
              "tickcolor": "rgb(36,36,36)",
              "ticks": "outside"
             }
            },
            "type": "scatter3d"
           }
          ],
          "scattercarpet": [
           {
            "marker": {
             "colorbar": {
              "outlinewidth": 1,
              "tickcolor": "rgb(36,36,36)",
              "ticks": "outside"
             }
            },
            "type": "scattercarpet"
           }
          ],
          "scattergeo": [
           {
            "marker": {
             "colorbar": {
              "outlinewidth": 1,
              "tickcolor": "rgb(36,36,36)",
              "ticks": "outside"
             }
            },
            "type": "scattergeo"
           }
          ],
          "scattergl": [
           {
            "marker": {
             "colorbar": {
              "outlinewidth": 1,
              "tickcolor": "rgb(36,36,36)",
              "ticks": "outside"
             }
            },
            "type": "scattergl"
           }
          ],
          "scattermapbox": [
           {
            "marker": {
             "colorbar": {
              "outlinewidth": 1,
              "tickcolor": "rgb(36,36,36)",
              "ticks": "outside"
             }
            },
            "type": "scattermapbox"
           }
          ],
          "scatterpolar": [
           {
            "marker": {
             "colorbar": {
              "outlinewidth": 1,
              "tickcolor": "rgb(36,36,36)",
              "ticks": "outside"
             }
            },
            "type": "scatterpolar"
           }
          ],
          "scatterpolargl": [
           {
            "marker": {
             "colorbar": {
              "outlinewidth": 1,
              "tickcolor": "rgb(36,36,36)",
              "ticks": "outside"
             }
            },
            "type": "scatterpolargl"
           }
          ],
          "scatterternary": [
           {
            "marker": {
             "colorbar": {
              "outlinewidth": 1,
              "tickcolor": "rgb(36,36,36)",
              "ticks": "outside"
             }
            },
            "type": "scatterternary"
           }
          ],
          "surface": [
           {
            "colorbar": {
             "outlinewidth": 1,
             "tickcolor": "rgb(36,36,36)",
             "ticks": "outside"
            },
            "colorscale": [
             [
              0.0,
              "#440154"
             ],
             [
              0.1111111111111111,
              "#482878"
             ],
             [
              0.2222222222222222,
              "#3e4989"
             ],
             [
              0.3333333333333333,
              "#31688e"
             ],
             [
              0.4444444444444444,
              "#26828e"
             ],
             [
              0.5555555555555556,
              "#1f9e89"
             ],
             [
              0.6666666666666666,
              "#35b779"
             ],
             [
              0.7777777777777778,
              "#6ece58"
             ],
             [
              0.8888888888888888,
              "#b5de2b"
             ],
             [
              1.0,
              "#fde725"
             ]
            ],
            "type": "surface"
           }
          ],
          "table": [
           {
            "cells": {
             "fill": {
              "color": "rgb(237,237,237)"
             },
             "line": {
              "color": "white"
             }
            },
            "header": {
             "fill": {
              "color": "rgb(217,217,217)"
             },
             "line": {
              "color": "white"
             }
            },
            "type": "table"
           }
          ]
         },
         "layout": {
          "annotationdefaults": {
           "arrowhead": 0,
           "arrowwidth": 1
          },
          "autotypenumbers": "strict",
          "coloraxis": {
           "colorbar": {
            "outlinewidth": 1,
            "tickcolor": "rgb(36,36,36)",
            "ticks": "outside"
           }
          },
          "colorscale": {
           "diverging": [
            [
             0.0,
             "rgb(103,0,31)"
            ],
            [
             0.1,
             "rgb(178,24,43)"
            ],
            [
             0.2,
             "rgb(214,96,77)"
            ],
            [
             0.3,
             "rgb(244,165,130)"
            ],
            [
             0.4,
             "rgb(253,219,199)"
            ],
            [
             0.5,
             "rgb(247,247,247)"
            ],
            [
             0.6,
             "rgb(209,229,240)"
            ],
            [
             0.7,
             "rgb(146,197,222)"
            ],
            [
             0.8,
             "rgb(67,147,195)"
            ],
            [
             0.9,
             "rgb(33,102,172)"
            ],
            [
             1.0,
             "rgb(5,48,97)"
            ]
           ],
           "sequential": [
            [
             0.0,
             "#440154"
            ],
            [
             0.1111111111111111,
             "#482878"
            ],
            [
             0.2222222222222222,
             "#3e4989"
            ],
            [
             0.3333333333333333,
             "#31688e"
            ],
            [
             0.4444444444444444,
             "#26828e"
            ],
            [
             0.5555555555555556,
             "#1f9e89"
            ],
            [
             0.6666666666666666,
             "#35b779"
            ],
            [
             0.7777777777777778,
             "#6ece58"
            ],
            [
             0.8888888888888888,
             "#b5de2b"
            ],
            [
             1.0,
             "#fde725"
            ]
           ],
           "sequentialminus": [
            [
             0.0,
             "#440154"
            ],
            [
             0.1111111111111111,
             "#482878"
            ],
            [
             0.2222222222222222,
             "#3e4989"
            ],
            [
             0.3333333333333333,
             "#31688e"
            ],
            [
             0.4444444444444444,
             "#26828e"
            ],
            [
             0.5555555555555556,
             "#1f9e89"
            ],
            [
             0.6666666666666666,
             "#35b779"
            ],
            [
             0.7777777777777778,
             "#6ece58"
            ],
            [
             0.8888888888888888,
             "#b5de2b"
            ],
            [
             1.0,
             "#fde725"
            ]
           ]
          },
          "colorway": [
           "#91268F",
           "#8CC63E",
           "#00A7A0",
           "#F05A28",
           "#4C4C4C",
           "#630460",
           "#9f3913",
           "#588527",
           "#00716c",
           "#3e4040"
          ],
          "font": {
           "color": "rgb(36,36,36)",
           "family": "Poppins",
           "size": 11
          },
          "geo": {
           "bgcolor": "white",
           "lakecolor": "white",
           "landcolor": "white",
           "showlakes": true,
           "showland": true,
           "subunitcolor": "white"
          },
          "hoverlabel": {
           "align": "left"
          },
          "hovermode": "closest",
          "mapbox": {
           "style": "light"
          },
          "paper_bgcolor": "white",
          "plot_bgcolor": "white",
          "polar": {
           "angularaxis": {
            "gridcolor": "rgb(232,232,232)",
            "linecolor": "rgb(36,36,36)",
            "showgrid": false,
            "showline": true,
            "ticks": "outside"
           },
           "bgcolor": "white",
           "radialaxis": {
            "gridcolor": "rgb(232,232,232)",
            "linecolor": "rgb(36,36,36)",
            "showgrid": false,
            "showline": true,
            "ticks": "outside"
           }
          },
          "scene": {
           "xaxis": {
            "backgroundcolor": "white",
            "gridcolor": "rgb(232,232,232)",
            "gridwidth": 2,
            "linecolor": "rgb(36,36,36)",
            "showbackground": true,
            "showgrid": false,
            "showline": true,
            "ticks": "outside",
            "zeroline": false,
            "zerolinecolor": "rgb(36,36,36)"
           },
           "yaxis": {
            "backgroundcolor": "white",
            "gridcolor": "rgb(232,232,232)",
            "gridwidth": 2,
            "linecolor": "rgb(36,36,36)",
            "showbackground": true,
            "showgrid": false,
            "showline": true,
            "ticks": "outside",
            "zeroline": false,
            "zerolinecolor": "rgb(36,36,36)"
           },
           "zaxis": {
            "backgroundcolor": "white",
            "gridcolor": "rgb(232,232,232)",
            "gridwidth": 2,
            "linecolor": "rgb(36,36,36)",
            "showbackground": true,
            "showgrid": false,
            "showline": true,
            "ticks": "outside",
            "zeroline": false,
            "zerolinecolor": "rgb(36,36,36)"
           }
          },
          "shapedefaults": {
           "fillcolor": "black",
           "line": {
            "width": 0
           },
           "opacity": 0.3
          },
          "ternary": {
           "aaxis": {
            "gridcolor": "rgb(232,232,232)",
            "linecolor": "rgb(36,36,36)",
            "showgrid": false,
            "showline": true,
            "ticks": "outside"
           },
           "baxis": {
            "gridcolor": "rgb(232,232,232)",
            "linecolor": "rgb(36,36,36)",
            "showgrid": false,
            "showline": true,
            "ticks": "outside"
           },
           "bgcolor": "white",
           "caxis": {
            "gridcolor": "rgb(232,232,232)",
            "linecolor": "rgb(36,36,36)",
            "showgrid": false,
            "showline": true,
            "ticks": "outside"
           }
          },
          "title": {
           "x": 0.05
          },
          "xaxis": {
           "automargin": true,
           "gridcolor": "rgb(232,232,232)",
           "linecolor": "rgb(36,36,36)",
           "showgrid": false,
           "showline": true,
           "ticks": "outside",
           "title": {
            "standoff": 15
           },
           "zeroline": false,
           "zerolinecolor": "rgb(36,36,36)"
          },
          "yaxis": {
           "automargin": true,
           "gridcolor": "rgb(232,232,232)",
           "linecolor": "rgb(36,36,36)",
           "showgrid": false,
           "showline": true,
           "ticks": "outside",
           "title": {
            "standoff": 15
           },
           "zeroline": false,
           "zerolinecolor": "rgb(36,36,36)"
          }
         }
        },
        "title": {
         "text": "Medium Trucks: Pierce"
        },
        "width": 800,
        "xaxis": {
         "anchor": "y",
         "domain": [
          0.0,
          1.0
         ],
         "title": {
          "text": "Observed"
         }
        },
        "yaxis": {
         "anchor": "x",
         "domain": [
          0.0,
          1.0
         ],
         "title": {
          "text": "Model"
         }
        }
       }
      },
      "text/html": [
       "<div>                            <div id=\"7768dbc2-db31-4f00-a14f-93aa78ebf2ee\" class=\"plotly-graph-div\" style=\"height:600px; width:800px;\"></div>            <script type=\"text/javascript\">                require([\"plotly\"], function(Plotly) {                    window.PLOTLYENV=window.PLOTLYENV || {};                                    if (document.getElementById(\"7768dbc2-db31-4f00-a14f-93aa78ebf2ee\")) {                    Plotly.newPlot(                        \"7768dbc2-db31-4f00-a14f-93aa78ebf2ee\",                        [{\"customdata\":[[\"I-5 S\\u002fO Mounts NB\",\"Pierce\"],[\"I-5 S\\u002fO Mounts SB\",\"Pierce\"],[\"I-5 S\\u002fO Division NB\",\"Pierce\"],[\"I-5 S\\u002fO Division SB\",\"Pierce\"],[\"I-5 @ N\\u002fO Division NB\",\"Pierce\"],[\"I-5 @ N\\u002fO Division SB\",\"Pierce\"],[\"I-5 S\\u002fO SR-512 NB\",\"Pierce\"],[\"I-5 S\\u002fO SR-512 SB\",\"Pierce\"],[\"I-5 N\\u002fO SR-512 NB\",\"Pierce\"],[\"I-5 N\\u002fO SR-512 SB\",\"Pierce\"],[\"I-5 N\\u002fO 56th NB\",\"Pierce\"],[\"I-5 N\\u002fO 56th SB\",\"Pierce\"],[\"I-5 E\\u002fO SR-16 NB\",\"Pierce\"],[\"I-5 E\\u002fO SR-16 SB\",\"Pierce\"],[\"I-5 E\\u002fO Port of Tacoma NB\",\"Pierce\"],[\"I-5 E\\u002fO Port of Tacoma SB (HOV from 56)\",\"Pierce\"],[\"SR-512 W\\u002fO Meridian WB\",\"Pierce\"],[\"SR-512 W\\u002fO Meridian EB\",\"Pierce\"],[\"SR-167 W\\u002fO SR-410 NB\\u002fSB\",\"Pierce\"],[\"SR-167 E\\u002fO SR-161 NB\\u002fSB\",\"Pierce\"],[\"SR-410 E\\u002fO S Prairie WB\\u002fEB\",\"Pierce\"],[\"SR-410 E\\u002fO Chinook WB\\u002fEB\",\"Pierce\"],[\"SR-410 W\\u002fO SR-123 WB\\u002fEB\",\"Pierce\"],[\"SR-410 E\\u002fO SR-123 WB\\u002fEB\",\"Pierce\"],[\"SR-512 @ I-5 WB\\u002fEB\",\"Pierce\"],[\"SR-512 W\\u002fO SR-7 WB\\u002fEB\",\"Pierce\"],[\"SR-512 S\\u002fO SR-167 WB\\u002fEB\",\"Pierce\"],[\"SR-509 E\\u002fO I-705 NB\\u002fSB\",\"Pierce\"],[\"SR-509 W\\u002fO Alexander NB\\u002fSB\",\"Pierce\"],[\"SR-509 S\\u002fO 11th NB\\u002fSB\",\"Pierce\"],[\"SR-509 N\\u002fO Hyada NB\\u002fSB\",\"Pierce\"],[\"SR-509 E\\u002fO Soundview NB\\u002fSB\",\"Pierce\"],[\"SR-99 @ I-5 NB\\u002fSB\",\"Pierce\"],[\"SR-99 E\\u002fO 54th NB\\u002fSB\",\"Pierce\"],[\"SR-99 S\\u002fO Porter NB\\u002fSB\",\"Pierce\"],[\"SR-16 @ TNB NB\\u002fSB\",\"Pierce\"],[\"SR-16 @ Purdy Dr NB\\u002fSB\",\"Pierce\"],[\"SR-302 N\\u002fO 144th WB\\u002fEB\",\"Pierce\"],[\"SR-302 S\\u002fO 144th WB\\u002fEB\",\"Pierce\"],[\"SR-302 W\\u002fO Key Peninsula Hwy WB\\u002fEB\",\"Pierce\"],[\"SR-302 W\\u002fO Wright-Bliss WB\\u002fEB (E\\u002fO?)\",\"Pierce\"],[\"SR-161 E\\u002fO SR-7 NB\\u002fSB\",\"Pierce\"],[\"SR-161 N\\u002fO Center NB\\u002fSB\",\"Pierce\"],[\"SR-161 N\\u002fO Eatonville Cutoff NB\\u002fSB\",\"Pierce\"],[\"SR-161 N\\u002fO 304th NB\\u002fSB\",\"Pierce\"],[\"SR-161 N\\u002fO 264th NB\\u002fSB\",\"Pierce\"],[\"SR-161 S\\u002fO 224th NB\\u002fSB\",\"Pierce\"],[\"SR-161 N\\u002fO 224th NB\\u002fSB\",\"Pierce\"],[\"SR-161 N\\u002fO 204th NB\\u002fSB\",\"Pierce\"],[\"SR-161 S\\u002fO SR-167 SB off-ramp NB\\u002fSB\",\"Pierce\"],[\"SR-161 S\\u002fO Valley NB\\u002fSB\",\"Pierce\"],[\"SR-161 N\\u002fO Valley NB\\u002fSB\",\"Pierce\"],[\"SR-161 N\\u002fO 8th NB\\u002fSB\",\"Pierce\"],[\"SR-7 @ Thurston County NB\\u002fSB\",\"Pierce\"],[\"SR-7 W\\u002fO Alder Cutoff NB\\u002fSB\",\"Pierce\"],[\"SR-7 N\\u002fO Eatonville Hwy NB\\u002fSB\",\"Pierce\"],[\"SR-7 N\\u002fO Silver Lake NB\\u002fSB\",\"Pierce\"],[\"SR-7 S\\u002fO SR-702 NB\\u002fSB\",\"Pierce\"],[\"SR-7 N\\u002fO 304th NB\\u002fSB\",\"Pierce\"],[\"SR-7 N\\u002fO 260th NB\\u002fSB\",\"Pierce\"],[\"SR-7 S\\u002fO 224th NB\\u002fSB\",\"Pierce\"],[\"SR-7 N\\u002fO 224th NB\\u002fSB\",\"Pierce\"],[\"SR-7 N\\u002fO 38th NB\\u002fSB\",\"Pierce\"],[\"SR-162 @ SR-410 WB\\u002fEB\",\"Pierce\"],[\"SR-162 S\\u002fO Pioneer WB\\u002fEB\",\"Pierce\"],[\"SR-162 E\\u002fO Orville WB\\u002fEB\",\"Pierce\"],[\"SR-162 E\\u002fO S Prairie WB\\u002fEB\",\"Pierce\"],[\"SR-162 N\\u002fO SR-165 WB\\u002fEB\",\"Pierce\"],[\"SR-163 @ SR-16 NB\\u002fSB\",\"Pierce\"],[\"SR-163 N\\u002fO 37th NB\\u002fSB\",\"Pierce\"],[\"SR-163 N\\u002fO Park NB\\u002fSB\",\"Pierce\"],[\"SR-507 S\\u002fO SR-7 NB\\u002fSB\",\"Pierce\"],[\"SR-507 S\\u002fO E Gate NB\\u002fSB\",\"Pierce\"],[\"SR-507 S\\u002fO 288th NB\\u002fSB\",\"Pierce\"],[\"SR-507 N\\u002fO 346th NB\\u002fSB\",\"Pierce\"],[\"SR-702 E\\u002fO SR-507 WB\\u002fEB\",\"Pierce\"],[\"SR-702 E\\u002fO Harts Lake WB\\u002fEB\",\"Pierce\"],[\"SR-702 E\\u002fO 40th WB\\u002fEB\",\"Pierce\"],[\"SR-702 W\\u002fO 8th WB\\u002fEB\",\"Pierce\"],[\"SR-702 E\\u002fO 8th WB\\u002fEB\",\"Pierce\"],[\"SR-165 W\\u002fO SR-162 NB\\u002fSB\",\"Pierce\"],[\"SR-165 N\\u002fO Davis NB\\u002fSB\",\"Pierce\"],[\"SR-165 N\\u002fO Wilkeson-Carbonado NB\\u002fSB\",\"Pierce\"],[\"SR-704 E\\u002fO Spanaway Loop WB\\u002fEB\",\"Pierce\"],[\"SR-706 E\\u002fO SR-7 WB\\u002fEB\",\"Pierce\"],[\"SR-706 E\\u002fO Kernahan WB\\u002fEB\",\"Pierce\"]],\"hovertemplate\":\"Observed=%{x}\\u003cbr\\u003eModel=%{y}\\u003cbr\\u003elocation=%{customdata[0]}\\u003cbr\\u003eCounty=%{customdata[1]}\\u003cextra\\u003e\\u003c\\u002fextra\\u003e\",\"legendgroup\":\"\",\"marker\":{\"color\":\"#91268F\",\"symbol\":\"circle\"},\"mode\":\"markers\",\"name\":\"\",\"orientation\":\"v\",\"showlegend\":false,\"x\":[2398,2384,2500,2589,2331,2275,2608,2499,4754,4821,5641,5686,1764,3843,2614,3294,2040,2040,5571,2749,1262,74,48,29,2835,3326,4048,1036,2310,171,59,62,1276,1600,1150,3133,2138,426,871,227,157,24,456,313,594,598,504,864,1216,1000,1850,720,800,241,106,193,228,363,690,897,1350,858,378,640,924,618,354,547,420,276,161,1264,462,533,611,524,396,389,382,322,390,211,120,720,150,75],\"xaxis\":\"x\",\"y\":[0,0,723,741,716,734,1073,1007,1942,2403,3312,3524,1894,5869,6250,6304,2269,2276,6919,3205,1129,0,0,0,3306,3351,5150,1715,1542,93,29,29,1371,1265,1354,6739,4027,317,329,140,39,4,30,193,362,359,537,597,1048,1461,2146,663,1450,0,17,23,30,28,242,287,321,412,194,566,736,244,126,238,939,382,100,256,158,47,49,10,10,110,110,55,154,77,35,780,0,0],\"yaxis\":\"y\",\"type\":\"scatter\",\"line\":{\"color\":\"Grey\",\"width\":2}},{\"hovertemplate\":\"Observed=%{x}\\u003cbr\\u003eModel=%{y}\\u003cextra\\u003e\\u003c\\u002fextra\\u003e\",\"legendgroup\":\"\",\"line\":{\"color\":\"Grey\",\"dash\":\"solid\",\"width\":2},\"marker\":{\"symbol\":\"circle\"},\"mode\":\"lines\",\"name\":\"\",\"orientation\":\"v\",\"showlegend\":false,\"x\":[0.0,57.43434343434343,114.86868686868686,172.3030303030303,229.73737373737373,287.17171717171715,344.6060606060606,402.04040404040404,459.47474747474746,516.9090909090909,574.3434343434343,631.7777777777777,689.2121212121212,746.6464646464647,804.0808080808081,861.5151515151515,918.9494949494949,976.3838383838383,1033.8181818181818,1091.2525252525252,1148.6868686868686,1206.121212121212,1263.5555555555554,1320.9898989898988,1378.4242424242425,1435.858585858586,1493.2929292929293,1550.7272727272727,1608.1616161616162,1665.5959595959596,1723.030303030303,1780.4646464646464,1837.8989898989898,1895.3333333333333,1952.7676767676767,2010.20202020202,2067.6363636363635,2125.070707070707,2182.5050505050503,2239.939393939394,2297.373737373737,2354.808080808081,2412.242424242424,2469.6767676767677,2527.111111111111,2584.5454545454545,2641.9797979797977,2699.4141414141413,2756.848484848485,2814.282828282828,2871.717171717172,2929.151515151515,2986.5858585858587,3044.020202020202,3101.4545454545455,3158.8888888888887,3216.3232323232323,3273.7575757575755,3331.191919191919,3388.6262626262624,3446.060606060606,3503.494949494949,3560.929292929293,3618.363636363636,3675.7979797979797,3733.2323232323233,3790.6666666666665,3848.10101010101,3905.5353535353534,3962.969696969697,4020.40404040404,4077.838383838384,4135.272727272727,4192.707070707071,4250.141414141414,4307.575757575757,4365.010101010101,4422.444444444444,4479.878787878788,4537.313131313131,4594.747474747474,4652.181818181818,4709.616161616162,4767.050505050505,4824.484848484848,4881.919191919192,4939.353535353535,4996.787878787879,5054.222222222222,5111.656565656565,5169.090909090909,5226.525252525253,5283.959595959595,5341.393939393939,5398.828282828283,5456.262626262626,5513.69696969697,5571.131313131313,5628.565656565656,5686.0],\"xaxis\":\"x\",\"y\":[-90.90417159770686,-37.891114792157346,15.121942013392172,68.13499881894168,121.1480556244912,174.1611124300407,227.17416923559023,280.18722604113975,333.2002828466893,386.21333965223874,439.22639645778827,492.23945326333774,545.2525100688873,598.2655668744369,651.2786236799864,704.2916804855358,757.3047372910854,810.3177940966349,863.3308509021844,916.3439077077338,969.3569645132834,1022.3700213188329,1075.3830781243823,1128.3961349299318,1181.4091917354815,1234.4222485410312,1287.4353053465807,1340.4483621521301,1393.4614189576796,1446.474475763229,1499.4875325687785,1552.500589374328,1605.5136461798777,1658.5267029854272,1711.5397597909766,1764.552816596526,1817.5658734020756,1870.5789302076253,1923.5919870131745,1976.6050438187244,2029.6181006242737,2082.6311574298234,2135.6442142353726,2188.6572710409223,2241.6703278464715,2294.6833846520212,2347.6964414575705,2400.70949826312,2453.72255506867,2506.735611874219,2559.7486686797693,2612.7617254853185,2665.774782290868,2718.7878390964174,2771.800895901967,2824.8139527075164,2877.827009513066,2930.8400663186153,2983.853123124165,3036.8661799297142,3089.879236735264,3142.892293540813,3195.905350346363,3248.9184071519126,3301.9314639574623,3354.944520763012,3407.957577568561,3460.970634374111,3513.98369117966,3566.99674798521,3620.009804790759,3673.0228615963088,3726.035918401858,3779.0489752074077,3832.0620320129574,3885.075088818506,3938.088145624056,3991.1012024296056,4044.1142592351557,4097.127316040704,4150.140372846254,4203.153429651804,4256.166486457354,4309.179543262902,4362.1926000684525,4415.205656874003,4468.218713679551,4521.231770485101,4574.2448272906495,4627.2578840962,4680.27094090175,4733.2839977073,4786.297054512848,4839.310111318398,4892.323168123947,4945.336224929497,4998.349281735047,5051.362338540595,5104.3753953461455,5157.388452151696],\"yaxis\":\"y\",\"type\":\"scatter\"}],                        {\"template\":{\"data\":{\"barpolar\":[{\"marker\":{\"line\":{\"color\":\"white\",\"width\":0.5},\"pattern\":{\"fillmode\":\"overlay\",\"size\":10,\"solidity\":0.2}},\"type\":\"barpolar\"}],\"bar\":[{\"error_x\":{\"color\":\"rgb(36,36,36)\"},\"error_y\":{\"color\":\"rgb(36,36,36)\"},\"marker\":{\"line\":{\"color\":\"white\",\"width\":0.5},\"pattern\":{\"fillmode\":\"overlay\",\"size\":10,\"solidity\":0.2}},\"type\":\"bar\"}],\"carpet\":[{\"aaxis\":{\"endlinecolor\":\"rgb(36,36,36)\",\"gridcolor\":\"white\",\"linecolor\":\"white\",\"minorgridcolor\":\"white\",\"startlinecolor\":\"rgb(36,36,36)\"},\"baxis\":{\"endlinecolor\":\"rgb(36,36,36)\",\"gridcolor\":\"white\",\"linecolor\":\"white\",\"minorgridcolor\":\"white\",\"startlinecolor\":\"rgb(36,36,36)\"},\"type\":\"carpet\"}],\"choropleth\":[{\"colorbar\":{\"outlinewidth\":1,\"tickcolor\":\"rgb(36,36,36)\",\"ticks\":\"outside\"},\"type\":\"choropleth\"}],\"contourcarpet\":[{\"colorbar\":{\"outlinewidth\":1,\"tickcolor\":\"rgb(36,36,36)\",\"ticks\":\"outside\"},\"type\":\"contourcarpet\"}],\"contour\":[{\"colorbar\":{\"outlinewidth\":1,\"tickcolor\":\"rgb(36,36,36)\",\"ticks\":\"outside\"},\"colorscale\":[[0.0,\"#440154\"],[0.1111111111111111,\"#482878\"],[0.2222222222222222,\"#3e4989\"],[0.3333333333333333,\"#31688e\"],[0.4444444444444444,\"#26828e\"],[0.5555555555555556,\"#1f9e89\"],[0.6666666666666666,\"#35b779\"],[0.7777777777777778,\"#6ece58\"],[0.8888888888888888,\"#b5de2b\"],[1.0,\"#fde725\"]],\"type\":\"contour\"}],\"heatmapgl\":[{\"colorbar\":{\"outlinewidth\":1,\"tickcolor\":\"rgb(36,36,36)\",\"ticks\":\"outside\"},\"colorscale\":[[0.0,\"#440154\"],[0.1111111111111111,\"#482878\"],[0.2222222222222222,\"#3e4989\"],[0.3333333333333333,\"#31688e\"],[0.4444444444444444,\"#26828e\"],[0.5555555555555556,\"#1f9e89\"],[0.6666666666666666,\"#35b779\"],[0.7777777777777778,\"#6ece58\"],[0.8888888888888888,\"#b5de2b\"],[1.0,\"#fde725\"]],\"type\":\"heatmapgl\"}],\"heatmap\":[{\"colorbar\":{\"outlinewidth\":1,\"tickcolor\":\"rgb(36,36,36)\",\"ticks\":\"outside\"},\"colorscale\":[[0.0,\"#440154\"],[0.1111111111111111,\"#482878\"],[0.2222222222222222,\"#3e4989\"],[0.3333333333333333,\"#31688e\"],[0.4444444444444444,\"#26828e\"],[0.5555555555555556,\"#1f9e89\"],[0.6666666666666666,\"#35b779\"],[0.7777777777777778,\"#6ece58\"],[0.8888888888888888,\"#b5de2b\"],[1.0,\"#fde725\"]],\"type\":\"heatmap\"}],\"histogram2dcontour\":[{\"colorbar\":{\"outlinewidth\":1,\"tickcolor\":\"rgb(36,36,36)\",\"ticks\":\"outside\"},\"colorscale\":[[0.0,\"#440154\"],[0.1111111111111111,\"#482878\"],[0.2222222222222222,\"#3e4989\"],[0.3333333333333333,\"#31688e\"],[0.4444444444444444,\"#26828e\"],[0.5555555555555556,\"#1f9e89\"],[0.6666666666666666,\"#35b779\"],[0.7777777777777778,\"#6ece58\"],[0.8888888888888888,\"#b5de2b\"],[1.0,\"#fde725\"]],\"type\":\"histogram2dcontour\"}],\"histogram2d\":[{\"colorbar\":{\"outlinewidth\":1,\"tickcolor\":\"rgb(36,36,36)\",\"ticks\":\"outside\"},\"colorscale\":[[0.0,\"#440154\"],[0.1111111111111111,\"#482878\"],[0.2222222222222222,\"#3e4989\"],[0.3333333333333333,\"#31688e\"],[0.4444444444444444,\"#26828e\"],[0.5555555555555556,\"#1f9e89\"],[0.6666666666666666,\"#35b779\"],[0.7777777777777778,\"#6ece58\"],[0.8888888888888888,\"#b5de2b\"],[1.0,\"#fde725\"]],\"type\":\"histogram2d\"}],\"histogram\":[{\"marker\":{\"line\":{\"color\":\"white\",\"width\":0.6}},\"type\":\"histogram\"}],\"mesh3d\":[{\"colorbar\":{\"outlinewidth\":1,\"tickcolor\":\"rgb(36,36,36)\",\"ticks\":\"outside\"},\"type\":\"mesh3d\"}],\"parcoords\":[{\"line\":{\"colorbar\":{\"outlinewidth\":1,\"tickcolor\":\"rgb(36,36,36)\",\"ticks\":\"outside\"}},\"type\":\"parcoords\"}],\"pie\":[{\"automargin\":true,\"type\":\"pie\"}],\"scatter3d\":[{\"line\":{\"colorbar\":{\"outlinewidth\":1,\"tickcolor\":\"rgb(36,36,36)\",\"ticks\":\"outside\"}},\"marker\":{\"colorbar\":{\"outlinewidth\":1,\"tickcolor\":\"rgb(36,36,36)\",\"ticks\":\"outside\"}},\"type\":\"scatter3d\"}],\"scattercarpet\":[{\"marker\":{\"colorbar\":{\"outlinewidth\":1,\"tickcolor\":\"rgb(36,36,36)\",\"ticks\":\"outside\"}},\"type\":\"scattercarpet\"}],\"scattergeo\":[{\"marker\":{\"colorbar\":{\"outlinewidth\":1,\"tickcolor\":\"rgb(36,36,36)\",\"ticks\":\"outside\"}},\"type\":\"scattergeo\"}],\"scattergl\":[{\"marker\":{\"colorbar\":{\"outlinewidth\":1,\"tickcolor\":\"rgb(36,36,36)\",\"ticks\":\"outside\"}},\"type\":\"scattergl\"}],\"scattermapbox\":[{\"marker\":{\"colorbar\":{\"outlinewidth\":1,\"tickcolor\":\"rgb(36,36,36)\",\"ticks\":\"outside\"}},\"type\":\"scattermapbox\"}],\"scatterpolargl\":[{\"marker\":{\"colorbar\":{\"outlinewidth\":1,\"tickcolor\":\"rgb(36,36,36)\",\"ticks\":\"outside\"}},\"type\":\"scatterpolargl\"}],\"scatterpolar\":[{\"marker\":{\"colorbar\":{\"outlinewidth\":1,\"tickcolor\":\"rgb(36,36,36)\",\"ticks\":\"outside\"}},\"type\":\"scatterpolar\"}],\"scatter\":[{\"fillpattern\":{\"fillmode\":\"overlay\",\"size\":10,\"solidity\":0.2},\"type\":\"scatter\"}],\"scatterternary\":[{\"marker\":{\"colorbar\":{\"outlinewidth\":1,\"tickcolor\":\"rgb(36,36,36)\",\"ticks\":\"outside\"}},\"type\":\"scatterternary\"}],\"surface\":[{\"colorbar\":{\"outlinewidth\":1,\"tickcolor\":\"rgb(36,36,36)\",\"ticks\":\"outside\"},\"colorscale\":[[0.0,\"#440154\"],[0.1111111111111111,\"#482878\"],[0.2222222222222222,\"#3e4989\"],[0.3333333333333333,\"#31688e\"],[0.4444444444444444,\"#26828e\"],[0.5555555555555556,\"#1f9e89\"],[0.6666666666666666,\"#35b779\"],[0.7777777777777778,\"#6ece58\"],[0.8888888888888888,\"#b5de2b\"],[1.0,\"#fde725\"]],\"type\":\"surface\"}],\"table\":[{\"cells\":{\"fill\":{\"color\":\"rgb(237,237,237)\"},\"line\":{\"color\":\"white\"}},\"header\":{\"fill\":{\"color\":\"rgb(217,217,217)\"},\"line\":{\"color\":\"white\"}},\"type\":\"table\"}]},\"layout\":{\"annotationdefaults\":{\"arrowhead\":0,\"arrowwidth\":1},\"autotypenumbers\":\"strict\",\"coloraxis\":{\"colorbar\":{\"outlinewidth\":1,\"tickcolor\":\"rgb(36,36,36)\",\"ticks\":\"outside\"}},\"colorscale\":{\"diverging\":[[0.0,\"rgb(103,0,31)\"],[0.1,\"rgb(178,24,43)\"],[0.2,\"rgb(214,96,77)\"],[0.3,\"rgb(244,165,130)\"],[0.4,\"rgb(253,219,199)\"],[0.5,\"rgb(247,247,247)\"],[0.6,\"rgb(209,229,240)\"],[0.7,\"rgb(146,197,222)\"],[0.8,\"rgb(67,147,195)\"],[0.9,\"rgb(33,102,172)\"],[1.0,\"rgb(5,48,97)\"]],\"sequential\":[[0.0,\"#440154\"],[0.1111111111111111,\"#482878\"],[0.2222222222222222,\"#3e4989\"],[0.3333333333333333,\"#31688e\"],[0.4444444444444444,\"#26828e\"],[0.5555555555555556,\"#1f9e89\"],[0.6666666666666666,\"#35b779\"],[0.7777777777777778,\"#6ece58\"],[0.8888888888888888,\"#b5de2b\"],[1.0,\"#fde725\"]],\"sequentialminus\":[[0.0,\"#440154\"],[0.1111111111111111,\"#482878\"],[0.2222222222222222,\"#3e4989\"],[0.3333333333333333,\"#31688e\"],[0.4444444444444444,\"#26828e\"],[0.5555555555555556,\"#1f9e89\"],[0.6666666666666666,\"#35b779\"],[0.7777777777777778,\"#6ece58\"],[0.8888888888888888,\"#b5de2b\"],[1.0,\"#fde725\"]]},\"colorway\":[\"#91268F\",\"#8CC63E\",\"#00A7A0\",\"#F05A28\",\"#4C4C4C\",\"#630460\",\"#9f3913\",\"#588527\",\"#00716c\",\"#3e4040\"],\"font\":{\"color\":\"rgb(36,36,36)\",\"family\":\"Poppins\",\"size\":11},\"geo\":{\"bgcolor\":\"white\",\"lakecolor\":\"white\",\"landcolor\":\"white\",\"showlakes\":true,\"showland\":true,\"subunitcolor\":\"white\"},\"hoverlabel\":{\"align\":\"left\"},\"hovermode\":\"closest\",\"mapbox\":{\"style\":\"light\"},\"paper_bgcolor\":\"white\",\"plot_bgcolor\":\"white\",\"polar\":{\"angularaxis\":{\"gridcolor\":\"rgb(232,232,232)\",\"linecolor\":\"rgb(36,36,36)\",\"showgrid\":false,\"showline\":true,\"ticks\":\"outside\"},\"bgcolor\":\"white\",\"radialaxis\":{\"gridcolor\":\"rgb(232,232,232)\",\"linecolor\":\"rgb(36,36,36)\",\"showgrid\":false,\"showline\":true,\"ticks\":\"outside\"}},\"scene\":{\"xaxis\":{\"backgroundcolor\":\"white\",\"gridcolor\":\"rgb(232,232,232)\",\"gridwidth\":2,\"linecolor\":\"rgb(36,36,36)\",\"showbackground\":true,\"showgrid\":false,\"showline\":true,\"ticks\":\"outside\",\"zeroline\":false,\"zerolinecolor\":\"rgb(36,36,36)\"},\"yaxis\":{\"backgroundcolor\":\"white\",\"gridcolor\":\"rgb(232,232,232)\",\"gridwidth\":2,\"linecolor\":\"rgb(36,36,36)\",\"showbackground\":true,\"showgrid\":false,\"showline\":true,\"ticks\":\"outside\",\"zeroline\":false,\"zerolinecolor\":\"rgb(36,36,36)\"},\"zaxis\":{\"backgroundcolor\":\"white\",\"gridcolor\":\"rgb(232,232,232)\",\"gridwidth\":2,\"linecolor\":\"rgb(36,36,36)\",\"showbackground\":true,\"showgrid\":false,\"showline\":true,\"ticks\":\"outside\",\"zeroline\":false,\"zerolinecolor\":\"rgb(36,36,36)\"}},\"shapedefaults\":{\"fillcolor\":\"black\",\"line\":{\"width\":0},\"opacity\":0.3},\"ternary\":{\"aaxis\":{\"gridcolor\":\"rgb(232,232,232)\",\"linecolor\":\"rgb(36,36,36)\",\"showgrid\":false,\"showline\":true,\"ticks\":\"outside\"},\"baxis\":{\"gridcolor\":\"rgb(232,232,232)\",\"linecolor\":\"rgb(36,36,36)\",\"showgrid\":false,\"showline\":true,\"ticks\":\"outside\"},\"bgcolor\":\"white\",\"caxis\":{\"gridcolor\":\"rgb(232,232,232)\",\"linecolor\":\"rgb(36,36,36)\",\"showgrid\":false,\"showline\":true,\"ticks\":\"outside\"}},\"title\":{\"x\":0.05},\"xaxis\":{\"automargin\":true,\"gridcolor\":\"rgb(232,232,232)\",\"linecolor\":\"rgb(36,36,36)\",\"showgrid\":false,\"showline\":true,\"ticks\":\"outside\",\"title\":{\"standoff\":15},\"zeroline\":false,\"zerolinecolor\":\"rgb(36,36,36)\"},\"yaxis\":{\"automargin\":true,\"gridcolor\":\"rgb(232,232,232)\",\"linecolor\":\"rgb(36,36,36)\",\"showgrid\":false,\"showline\":true,\"ticks\":\"outside\",\"title\":{\"standoff\":15},\"zeroline\":false,\"zerolinecolor\":\"rgb(36,36,36)\"}}},\"xaxis\":{\"anchor\":\"y\",\"domain\":[0.0,1.0],\"title\":{\"text\":\"Observed\"}},\"yaxis\":{\"anchor\":\"x\",\"domain\":[0.0,1.0],\"title\":{\"text\":\"Model\"}},\"legend\":{\"tracegroupgap\":0},\"title\":{\"text\":\"Medium Trucks: Pierce\"},\"margin\":{\"l\":100,\"r\":100,\"t\":100,\"b\":100},\"height\":600,\"width\":800,\"shapes\":[{\"line\":{\"color\":\"Red\",\"dash\":\"dash\",\"width\":2},\"type\":\"line\",\"x0\":0,\"x1\":6919,\"y0\":0,\"y1\":6919}],\"annotations\":[{\"align\":\"right\",\"font\":{\"color\":\"pink\",\"size\":12},\"showarrow\":false,\"text\":\"y = x\",\"x\":7264.950000000001,\"y\":7264.950000000001},{\"align\":\"right\",\"font\":{\"color\":\"black\",\"size\":12},\"showarrow\":false,\"text\":\"r^2 = 0.59\",\"x\":5970.3,\"y\":5415.257874759281}]},                        {\"responsive\": true}                    ).then(function(){\n",
       "                            \n",
       "var gd = document.getElementById('7768dbc2-db31-4f00-a14f-93aa78ebf2ee');\n",
       "var x = new MutationObserver(function (mutations, observer) {{\n",
       "        var display = window.getComputedStyle(gd).display;\n",
       "        if (!display || display === 'none') {{\n",
       "            console.log([gd, 'removed!']);\n",
       "            Plotly.purge(gd);\n",
       "            observer.disconnect();\n",
       "        }}\n",
       "}});\n",
       "\n",
       "// Listen for the removal of the full notebook cells\n",
       "var notebookContainer = gd.closest('#notebook-container');\n",
       "if (notebookContainer) {{\n",
       "    x.observe(notebookContainer, {childList: true});\n",
       "}}\n",
       "\n",
       "// Listen for the clearing of the current output cell\n",
       "var outputEl = gd.closest('.output');\n",
       "if (outputEl) {{\n",
       "    x.observe(outputEl, {childList: true});\n",
       "}}\n",
       "\n",
       "                        })                };                });            </script>        </div>"
      ]
     },
     "metadata": {},
     "output_type": "display_data"
    }
   ],
   "source": [
    "fig = create_truck_chart(df_daily_med, 'Medium', 'Pierce')\n",
    "fig.show()"
   ]
  },
  {
   "cell_type": "raw",
   "id": "e54ab844",
   "metadata": {},
   "source": [
    "#### Snohomish"
   ]
  },
  {
   "cell_type": "code",
   "execution_count": 33,
   "id": "b4a630bf",
   "metadata": {},
   "outputs": [
    {
     "data": {
      "application/vnd.plotly.v1+json": {
       "config": {
        "plotlyServerURL": "https://plot.ly"
       },
       "data": [
        {
         "customdata": [
          [
           "I-5 @ 44th NB",
           "Snohomish"
          ],
          [
           "I-5 @ 44th SB",
           "Snohomish"
          ],
          [
           "I-5 N/O 164th NB",
           "Snohomish"
          ],
          [
           "I-5 N/O 164th SB",
           "Snohomish"
          ],
          [
           "I-5 N/O SR-526 NB",
           "Snohomish"
          ],
          [
           "I-5 N/O SR-526 SB",
           "Snohomish"
          ],
          [
           "I-5 N/O 41st NB",
           "Snohomish"
          ],
          [
           "I-5 N/O 41st SB",
           "Snohomish"
          ],
          [
           "I-5 @ SR-528 NB",
           "Snohomish"
          ],
          [
           "I-5 @ SR-528 SB",
           "Snohomish"
          ],
          [
           "I-5 N/O SR-531 NB",
           "Snohomish"
          ],
          [
           "I-5 N/O SR-531 SB",
           "Snohomish"
          ],
          [
           "I-405 N/O SR-527 NB",
           "Snohomish"
          ],
          [
           "I-405 N/O SR-527 SB",
           "Snohomish"
          ],
          [
           "SR-525 N/O I-5 NB",
           "Snohomish"
          ],
          [
           "SR-525 N/O I-5 SB",
           "Snohomish"
          ],
          [
           "I-5 @ SR-532 NB/SB",
           "Snohomish"
          ],
          [
           "I-5 @ Skagit border NB/SB",
           "Snohomish"
          ],
          [
           "SR-525 N/O SR-526 NB/SB",
           "Snohomish"
          ],
          [
           "SR-525 N/O 5th NB/SB",
           "Snohomish"
          ],
          [
           "SR-99 E/O Evergreen NB/SB",
           "Snohomish"
          ],
          [
           "SR-526 W/O Paine Field Blvd WB/EB",
           "Snohomish"
          ],
          [
           "SR-526 E/O Paine Field Blvd WB/EB",
           "Snohomish"
          ],
          [
           "SR-9 @ SR-522 NB/SB",
           "Snohomish"
          ],
          [
           "SR-9 N/O SR-2 NB/SB",
           "Snohomish"
          ],
          [
           "SR-9 N/O SR-204 NB/SB",
           "Snohomish"
          ],
          [
           "SR-9 N/O SR-92 NB/SB",
           "Snohomish"
          ],
          [
           "SR-9 N/O 132nd NB/SB",
           "Snohomish"
          ],
          [
           "SR-9 N/O SR-531 NB/SB",
           "Snohomish"
          ],
          [
           "SR-9 S/O 67th NB/SB",
           "Snohomish"
          ],
          [
           "SR-9 N/O Kackman NB/SB",
           "Snohomish"
          ],
          [
           "SR-9 N/O Stanwood-Bryant NB/SB",
           "Snohomish"
          ],
          [
           "SR-532 @ Island County WB/EB",
           "Snohomish"
          ],
          [
           "SR-532 W/O 28th WB/EB",
           "Snohomish"
          ],
          [
           "SR-104 @ Ferry Loading Edm WB/EB",
           "Snohomish"
          ],
          [
           "SR-104 N/O Pine WB/EB",
           "Snohomish"
          ],
          [
           "SR-104 E/O 5th WB/EB",
           "Snohomish"
          ],
          [
           "SR-524 W/O 3rd WB/EB",
           "Snohomish"
          ],
          [
           "SR-524 S/O Main WB/EB",
           "Snohomish"
          ],
          [
           "SR-524 N/O Main WB/EB",
           "Snohomish"
          ],
          [
           "SR-524 E/O 68th WB/EB",
           "Snohomish"
          ],
          [
           "SR-524 E/O 39th WB/EB",
           "Snohomish"
          ],
          [
           "SR-524 N/O Paradise Lake WB/EB",
           "Snohomish"
          ],
          [
           "SR-2 E/O I-5 WB/EB",
           "Snohomish"
          ],
          [
           "SR-2 S/O SR-204 WB/EB",
           "Snohomish"
          ],
          [
           "SR-2 E/O Main WB/EB",
           "Snohomish"
          ],
          [
           "SR-2 E/O Rice WB/EB",
           "Snohomish"
          ],
          [
           "SR-2 E/O 10th (Gold Bar) WB/EB",
           "Snohomish"
          ],
          [
           "SR-2 W/O Index-Galena WB/EB",
           "Snohomish"
          ],
          [
           "SR-2 E/O Index-Galena WB/EB",
           "Snohomish"
          ],
          [
           "SR-527 N/O I-405 NB/SB",
           "Snohomish"
          ],
          [
           "SR-527 N/O 196th NB/SB",
           "Snohomish"
          ],
          [
           "SR-527 N/O Dumas NB/SB",
           "Snohomish"
          ],
          [
           "SR-527 N/O 100th NB/SB",
           "Snohomish"
          ],
          [
           "SR-529 @ I-5 (Evt) NB/SB",
           "Snohomish"
          ],
          [
           "SR-529 S/O Everett NB/SB",
           "Snohomish"
          ],
          [
           "SR-529 W/O Maple NB/SB",
           "Snohomish"
          ],
          [
           "SR-529 N/O Everett NB/SB",
           "Snohomish"
          ],
          [
           "SR-529 N/O Broadway NB/SB",
           "Snohomish"
          ],
          [
           "SR-96 @ I-5 WB/EB",
           "Snohomish"
          ],
          [
           "SR-96 N/O 132nd WB/EB",
           "Snohomish"
          ],
          [
           "SR-96 E/O Seattle Hill WB/EB",
           "Snohomish"
          ],
          [
           "SR-528 @ I-5 WB/EB",
           "Snohomish"
          ],
          [
           "SR-528 E/O SR-529 WB/EB",
           "Snohomish"
          ],
          [
           "SR-531 N/O Rose WB/EB",
           "Snohomish"
          ],
          [
           "SR-531 E/O Lk Goodwin WB/EB",
           "Snohomish"
          ],
          [
           "SR-531 E/O 27th WB/EB",
           "Snohomish"
          ],
          [
           "SR-531 E/O I-5 WB/EB",
           "Snohomish"
          ],
          [
           "SR-531 E/O 43rd WB/EB",
           "Snohomish"
          ],
          [
           "SR-531 W/O 67th WB/EB",
           "Snohomish"
          ],
          [
           "SR-531 E/O 67th WB/EB",
           "Snohomish"
          ],
          [
           "SR-530 @ I-5 WB/EB",
           "Snohomish"
          ],
          [
           "SR-530 E/O Smokey Pt WB/EB",
           "Snohomish"
          ],
          [
           "SR-530 N/O 211th WB/EB",
           "Snohomish"
          ],
          [
           "SR-530 E/O SR-9 WB/EB",
           "Snohomish"
          ],
          [
           "SR-530 W/O Arlington Hts WB/EB",
           "Snohomish"
          ],
          [
           "SR-530 E/O Arlington Hts WB/EB",
           "Snohomish"
          ],
          [
           "SR-530 W/O Jim Creek WB/EB",
           "Snohomish"
          ],
          [
           "SR-530 W/O Ramstad WB/EB",
           "Snohomish"
          ],
          [
           "SR-530 @ Skagit County WB/EB",
           "Snohomish"
          ],
          [
           "SR-203 N/O 203rd NB/SB",
           "Snohomish"
          ],
          [
           "SR-204 @ SR-2 NB/SB",
           "Snohomish"
          ],
          [
           "SR-204 N/O 20th NB/SB",
           "Snohomish"
          ],
          [
           "SR-204 N/O SR-2 NB/SB",
           "Snohomish"
          ],
          [
           "SR-92 E/O Lake WB/EB",
           "Snohomish"
          ],
          [
           "SR-92 E/O Callow WB/EB",
           "Snohomish"
          ],
          [
           "SR-92 E/O Quarry WB/EB",
           "Snohomish"
          ],
          [
           "SR-92 W/O Mountain Loop WB/EB",
           "Snohomish"
          ]
         ],
         "hovertemplate": "Observed=%{x}<br>Model=%{y}<br>location=%{customdata[0]}<br>County=%{customdata[1]}<extra></extra>",
         "legendgroup": "",
         "line": {
          "color": "Grey",
          "width": 2
         },
         "marker": {
          "color": "#91268F",
          "symbol": "circle"
         },
         "mode": "markers",
         "name": "",
         "orientation": "v",
         "showlegend": false,
         "type": "scatter",
         "x": [
          2586,
          2604,
          2869,
          2888,
          2689,
          2832,
          2293,
          2656,
          2191,
          2251,
          1728,
          1737,
          1539,
          1620,
          1248,
          851,
          2444,
          2481,
          710,
          364,
          475,
          396,
          915,
          1853,
          1311,
          1387,
          1987,
          829,
          484,
          658,
          443,
          135,
          1056,
          739,
          294,
          220,
          360,
          68,
          160,
          167,
          494,
          330,
          1157,
          2430,
          1634,
          858,
          735,
          516,
          346,
          242,
          1484,
          837,
          704,
          858,
          333,
          271,
          364,
          238,
          1122,
          1408,
          392,
          220,
          728,
          616,
          75,
          432,
          693,
          1230,
          1632,
          969,
          560,
          690,
          882,
          784,
          420,
          520,
          461,
          410,
          276,
          167,
          636,
          259,
          371,
          960,
          1349,
          994,
          320,
          324
         ],
         "xaxis": "x",
         "y": [
          5699,
          5699,
          5145,
          4807,
          4430,
          4462,
          4330,
          4150,
          1868,
          1920,
          660,
          622,
          4652,
          4567,
          3068,
          2844,
          120,
          0,
          334,
          35,
          139,
          187,
          1782,
          1299,
          1460,
          1914,
          2317,
          747,
          556,
          213,
          61,
          64,
          0,
          597,
          214,
          163,
          273,
          214,
          77,
          255,
          621,
          444,
          751,
          3174,
          1656,
          754,
          311,
          111,
          111,
          80,
          3061,
          932,
          386,
          1046,
          464,
          390,
          335,
          126,
          620,
          1675,
          434,
          52,
          1184,
          612,
          64,
          188,
          626,
          1435,
          898,
          223,
          349,
          350,
          637,
          432,
          285,
          397,
          332,
          285,
          234,
          0,
          445,
          123,
          233,
          1326,
          803,
          580,
          199,
          157
         ],
         "yaxis": "y"
        },
        {
         "hovertemplate": "Observed=%{x}<br>Model=%{y}<extra></extra>",
         "legendgroup": "",
         "line": {
          "color": "Grey",
          "dash": "solid",
          "width": 2
         },
         "marker": {
          "symbol": "circle"
         },
         "mode": "lines",
         "name": "",
         "orientation": "v",
         "showlegend": false,
         "type": "scatter",
         "x": [
          0.0,
          29.171717171717173,
          58.343434343434346,
          87.51515151515152,
          116.68686868686869,
          145.85858585858585,
          175.03030303030303,
          204.2020202020202,
          233.37373737373738,
          262.54545454545456,
          291.7171717171717,
          320.8888888888889,
          350.06060606060606,
          379.23232323232327,
          408.4040404040404,
          437.5757575757576,
          466.74747474747477,
          495.9191919191919,
          525.0909090909091,
          554.2626262626263,
          583.4343434343434,
          612.6060606060606,
          641.7777777777778,
          670.949494949495,
          700.1212121212121,
          729.2929292929293,
          758.4646464646465,
          787.6363636363636,
          816.8080808080808,
          845.979797979798,
          875.1515151515152,
          904.3232323232323,
          933.4949494949495,
          962.6666666666667,
          991.8383838383838,
          1021.010101010101,
          1050.1818181818182,
          1079.3535353535353,
          1108.5252525252527,
          1137.6969696969697,
          1166.8686868686868,
          1196.0404040404042,
          1225.2121212121212,
          1254.3838383838383,
          1283.5555555555557,
          1312.7272727272727,
          1341.89898989899,
          1371.0707070707072,
          1400.2424242424242,
          1429.4141414141416,
          1458.5858585858587,
          1487.7575757575758,
          1516.929292929293,
          1546.1010101010102,
          1575.2727272727273,
          1604.4444444444446,
          1633.6161616161617,
          1662.7878787878788,
          1691.959595959596,
          1721.1313131313132,
          1750.3030303030305,
          1779.4747474747476,
          1808.6464646464647,
          1837.818181818182,
          1866.989898989899,
          1896.1616161616162,
          1925.3333333333335,
          1954.5050505050506,
          1983.6767676767677,
          2012.848484848485,
          2042.020202020202,
          2071.191919191919,
          2100.3636363636365,
          2129.535353535354,
          2158.7070707070707,
          2187.878787878788,
          2217.0505050505053,
          2246.222222222222,
          2275.3939393939395,
          2304.565656565657,
          2333.7373737373737,
          2362.909090909091,
          2392.0808080808083,
          2421.252525252525,
          2450.4242424242425,
          2479.59595959596,
          2508.7676767676767,
          2537.939393939394,
          2567.1111111111113,
          2596.282828282828,
          2625.4545454545455,
          2654.626262626263,
          2683.79797979798,
          2712.969696969697,
          2742.1414141414143,
          2771.3131313131316,
          2800.4848484848485,
          2829.656565656566,
          2858.828282828283,
          2888.0
         ],
         "xaxis": "x",
         "y": [
          -337.9891223522559,
          -294.4812716310709,
          -250.97342090988587,
          -207.4655701887009,
          -163.9577194675159,
          -120.44986874633088,
          -76.9420180251459,
          -33.43416730396086,
          10.073683417224117,
          53.581534138409154,
          97.08938485959413,
          140.59723558077917,
          184.1050863019641,
          227.61293702314924,
          271.12078774433417,
          314.6286384655192,
          358.1364891867041,
          401.64433990788916,
          445.1521906290742,
          488.66004135025923,
          532.1678920714442,
          575.6757427926292,
          619.1835935138142,
          662.6914442349993,
          706.1992949561841,
          749.7071456773692,
          793.2149963985544,
          836.7228471197391,
          880.2306978409242,
          923.7385485621094,
          967.2463992832943,
          1010.7542500044792,
          1054.2621007256641,
          1097.7699514468493,
          1141.2778021680342,
          1184.7856528892191,
          1228.2935036104043,
          1271.8013543315892,
          1315.3092050527744,
          1358.8170557739593,
          1402.3249064951442,
          1445.8327572163294,
          1489.3406079375143,
          1532.8484586586992,
          1576.3563093798844,
          1619.8641601010693,
          1663.3720108222544,
          1706.8798615434393,
          1750.387712264624,
          1793.8955629858096,
          1837.4034137069943,
          1880.911264428179,
          1924.4191151493646,
          1967.9269658705493,
          2011.434816591734,
          2054.9426673129196,
          2098.4505180341043,
          2141.958368755289,
          2185.4662194764746,
          2228.9740701976593,
          2272.4819209188445,
          2315.989771640029,
          2359.4976223612143,
          2403.0054730823995,
          2446.513323803584,
          2490.0211745247693,
          2533.5290252459545,
          2577.036875967139,
          2620.5447266883243,
          2664.0525774095095,
          2707.560428130694,
          2751.0682788518793,
          2794.5761295730645,
          2838.0839802942496,
          2881.5918310154343,
          2925.0996817366195,
          2968.6075324578046,
          3012.1153831789893,
          3055.6232339001745,
          3099.1310846213596,
          3142.6389353425443,
          3186.1467860637295,
          3229.6546367849146,
          3273.1624875060993,
          3316.6703382272844,
          3360.1781889484696,
          3403.6860396696543,
          3447.1938903908394,
          3490.7017411120246,
          3534.2095918332093,
          3577.7174425543944,
          3621.2252932755796,
          3664.7331439967647,
          3708.2409947179494,
          3751.7488454391346,
          3795.25669616032,
          3838.764546881504,
          3882.2723976026896,
          3925.780248323875,
          3969.288099045059
         ],
         "yaxis": "y"
        }
       ],
       "layout": {
        "annotations": [
         {
          "align": "right",
          "font": {
           "color": "pink",
           "size": 12
          },
          "showarrow": false,
          "text": "y = x",
          "x": 5983.95,
          "y": 5983.95
         },
         {
          "align": "right",
          "font": {
           "color": "black",
           "size": 12
          },
          "showarrow": false,
          "text": "r^2 = 0.62",
          "x": 3032.4,
          "y": 4167.7525039973125
         }
        ],
        "height": 600,
        "legend": {
         "tracegroupgap": 0
        },
        "margin": {
         "b": 100,
         "l": 100,
         "r": 100,
         "t": 100
        },
        "shapes": [
         {
          "line": {
           "color": "Red",
           "dash": "dash",
           "width": 2
          },
          "type": "line",
          "x0": 0,
          "x1": 5699,
          "y0": 0,
          "y1": 5699
         }
        ],
        "template": {
         "data": {
          "bar": [
           {
            "error_x": {
             "color": "rgb(36,36,36)"
            },
            "error_y": {
             "color": "rgb(36,36,36)"
            },
            "marker": {
             "line": {
              "color": "white",
              "width": 0.5
             },
             "pattern": {
              "fillmode": "overlay",
              "size": 10,
              "solidity": 0.2
             }
            },
            "type": "bar"
           }
          ],
          "barpolar": [
           {
            "marker": {
             "line": {
              "color": "white",
              "width": 0.5
             },
             "pattern": {
              "fillmode": "overlay",
              "size": 10,
              "solidity": 0.2
             }
            },
            "type": "barpolar"
           }
          ],
          "carpet": [
           {
            "aaxis": {
             "endlinecolor": "rgb(36,36,36)",
             "gridcolor": "white",
             "linecolor": "white",
             "minorgridcolor": "white",
             "startlinecolor": "rgb(36,36,36)"
            },
            "baxis": {
             "endlinecolor": "rgb(36,36,36)",
             "gridcolor": "white",
             "linecolor": "white",
             "minorgridcolor": "white",
             "startlinecolor": "rgb(36,36,36)"
            },
            "type": "carpet"
           }
          ],
          "choropleth": [
           {
            "colorbar": {
             "outlinewidth": 1,
             "tickcolor": "rgb(36,36,36)",
             "ticks": "outside"
            },
            "type": "choropleth"
           }
          ],
          "contour": [
           {
            "colorbar": {
             "outlinewidth": 1,
             "tickcolor": "rgb(36,36,36)",
             "ticks": "outside"
            },
            "colorscale": [
             [
              0.0,
              "#440154"
             ],
             [
              0.1111111111111111,
              "#482878"
             ],
             [
              0.2222222222222222,
              "#3e4989"
             ],
             [
              0.3333333333333333,
              "#31688e"
             ],
             [
              0.4444444444444444,
              "#26828e"
             ],
             [
              0.5555555555555556,
              "#1f9e89"
             ],
             [
              0.6666666666666666,
              "#35b779"
             ],
             [
              0.7777777777777778,
              "#6ece58"
             ],
             [
              0.8888888888888888,
              "#b5de2b"
             ],
             [
              1.0,
              "#fde725"
             ]
            ],
            "type": "contour"
           }
          ],
          "contourcarpet": [
           {
            "colorbar": {
             "outlinewidth": 1,
             "tickcolor": "rgb(36,36,36)",
             "ticks": "outside"
            },
            "type": "contourcarpet"
           }
          ],
          "heatmap": [
           {
            "colorbar": {
             "outlinewidth": 1,
             "tickcolor": "rgb(36,36,36)",
             "ticks": "outside"
            },
            "colorscale": [
             [
              0.0,
              "#440154"
             ],
             [
              0.1111111111111111,
              "#482878"
             ],
             [
              0.2222222222222222,
              "#3e4989"
             ],
             [
              0.3333333333333333,
              "#31688e"
             ],
             [
              0.4444444444444444,
              "#26828e"
             ],
             [
              0.5555555555555556,
              "#1f9e89"
             ],
             [
              0.6666666666666666,
              "#35b779"
             ],
             [
              0.7777777777777778,
              "#6ece58"
             ],
             [
              0.8888888888888888,
              "#b5de2b"
             ],
             [
              1.0,
              "#fde725"
             ]
            ],
            "type": "heatmap"
           }
          ],
          "heatmapgl": [
           {
            "colorbar": {
             "outlinewidth": 1,
             "tickcolor": "rgb(36,36,36)",
             "ticks": "outside"
            },
            "colorscale": [
             [
              0.0,
              "#440154"
             ],
             [
              0.1111111111111111,
              "#482878"
             ],
             [
              0.2222222222222222,
              "#3e4989"
             ],
             [
              0.3333333333333333,
              "#31688e"
             ],
             [
              0.4444444444444444,
              "#26828e"
             ],
             [
              0.5555555555555556,
              "#1f9e89"
             ],
             [
              0.6666666666666666,
              "#35b779"
             ],
             [
              0.7777777777777778,
              "#6ece58"
             ],
             [
              0.8888888888888888,
              "#b5de2b"
             ],
             [
              1.0,
              "#fde725"
             ]
            ],
            "type": "heatmapgl"
           }
          ],
          "histogram": [
           {
            "marker": {
             "line": {
              "color": "white",
              "width": 0.6
             }
            },
            "type": "histogram"
           }
          ],
          "histogram2d": [
           {
            "colorbar": {
             "outlinewidth": 1,
             "tickcolor": "rgb(36,36,36)",
             "ticks": "outside"
            },
            "colorscale": [
             [
              0.0,
              "#440154"
             ],
             [
              0.1111111111111111,
              "#482878"
             ],
             [
              0.2222222222222222,
              "#3e4989"
             ],
             [
              0.3333333333333333,
              "#31688e"
             ],
             [
              0.4444444444444444,
              "#26828e"
             ],
             [
              0.5555555555555556,
              "#1f9e89"
             ],
             [
              0.6666666666666666,
              "#35b779"
             ],
             [
              0.7777777777777778,
              "#6ece58"
             ],
             [
              0.8888888888888888,
              "#b5de2b"
             ],
             [
              1.0,
              "#fde725"
             ]
            ],
            "type": "histogram2d"
           }
          ],
          "histogram2dcontour": [
           {
            "colorbar": {
             "outlinewidth": 1,
             "tickcolor": "rgb(36,36,36)",
             "ticks": "outside"
            },
            "colorscale": [
             [
              0.0,
              "#440154"
             ],
             [
              0.1111111111111111,
              "#482878"
             ],
             [
              0.2222222222222222,
              "#3e4989"
             ],
             [
              0.3333333333333333,
              "#31688e"
             ],
             [
              0.4444444444444444,
              "#26828e"
             ],
             [
              0.5555555555555556,
              "#1f9e89"
             ],
             [
              0.6666666666666666,
              "#35b779"
             ],
             [
              0.7777777777777778,
              "#6ece58"
             ],
             [
              0.8888888888888888,
              "#b5de2b"
             ],
             [
              1.0,
              "#fde725"
             ]
            ],
            "type": "histogram2dcontour"
           }
          ],
          "mesh3d": [
           {
            "colorbar": {
             "outlinewidth": 1,
             "tickcolor": "rgb(36,36,36)",
             "ticks": "outside"
            },
            "type": "mesh3d"
           }
          ],
          "parcoords": [
           {
            "line": {
             "colorbar": {
              "outlinewidth": 1,
              "tickcolor": "rgb(36,36,36)",
              "ticks": "outside"
             }
            },
            "type": "parcoords"
           }
          ],
          "pie": [
           {
            "automargin": true,
            "type": "pie"
           }
          ],
          "scatter": [
           {
            "fillpattern": {
             "fillmode": "overlay",
             "size": 10,
             "solidity": 0.2
            },
            "type": "scatter"
           }
          ],
          "scatter3d": [
           {
            "line": {
             "colorbar": {
              "outlinewidth": 1,
              "tickcolor": "rgb(36,36,36)",
              "ticks": "outside"
             }
            },
            "marker": {
             "colorbar": {
              "outlinewidth": 1,
              "tickcolor": "rgb(36,36,36)",
              "ticks": "outside"
             }
            },
            "type": "scatter3d"
           }
          ],
          "scattercarpet": [
           {
            "marker": {
             "colorbar": {
              "outlinewidth": 1,
              "tickcolor": "rgb(36,36,36)",
              "ticks": "outside"
             }
            },
            "type": "scattercarpet"
           }
          ],
          "scattergeo": [
           {
            "marker": {
             "colorbar": {
              "outlinewidth": 1,
              "tickcolor": "rgb(36,36,36)",
              "ticks": "outside"
             }
            },
            "type": "scattergeo"
           }
          ],
          "scattergl": [
           {
            "marker": {
             "colorbar": {
              "outlinewidth": 1,
              "tickcolor": "rgb(36,36,36)",
              "ticks": "outside"
             }
            },
            "type": "scattergl"
           }
          ],
          "scattermapbox": [
           {
            "marker": {
             "colorbar": {
              "outlinewidth": 1,
              "tickcolor": "rgb(36,36,36)",
              "ticks": "outside"
             }
            },
            "type": "scattermapbox"
           }
          ],
          "scatterpolar": [
           {
            "marker": {
             "colorbar": {
              "outlinewidth": 1,
              "tickcolor": "rgb(36,36,36)",
              "ticks": "outside"
             }
            },
            "type": "scatterpolar"
           }
          ],
          "scatterpolargl": [
           {
            "marker": {
             "colorbar": {
              "outlinewidth": 1,
              "tickcolor": "rgb(36,36,36)",
              "ticks": "outside"
             }
            },
            "type": "scatterpolargl"
           }
          ],
          "scatterternary": [
           {
            "marker": {
             "colorbar": {
              "outlinewidth": 1,
              "tickcolor": "rgb(36,36,36)",
              "ticks": "outside"
             }
            },
            "type": "scatterternary"
           }
          ],
          "surface": [
           {
            "colorbar": {
             "outlinewidth": 1,
             "tickcolor": "rgb(36,36,36)",
             "ticks": "outside"
            },
            "colorscale": [
             [
              0.0,
              "#440154"
             ],
             [
              0.1111111111111111,
              "#482878"
             ],
             [
              0.2222222222222222,
              "#3e4989"
             ],
             [
              0.3333333333333333,
              "#31688e"
             ],
             [
              0.4444444444444444,
              "#26828e"
             ],
             [
              0.5555555555555556,
              "#1f9e89"
             ],
             [
              0.6666666666666666,
              "#35b779"
             ],
             [
              0.7777777777777778,
              "#6ece58"
             ],
             [
              0.8888888888888888,
              "#b5de2b"
             ],
             [
              1.0,
              "#fde725"
             ]
            ],
            "type": "surface"
           }
          ],
          "table": [
           {
            "cells": {
             "fill": {
              "color": "rgb(237,237,237)"
             },
             "line": {
              "color": "white"
             }
            },
            "header": {
             "fill": {
              "color": "rgb(217,217,217)"
             },
             "line": {
              "color": "white"
             }
            },
            "type": "table"
           }
          ]
         },
         "layout": {
          "annotationdefaults": {
           "arrowhead": 0,
           "arrowwidth": 1
          },
          "autotypenumbers": "strict",
          "coloraxis": {
           "colorbar": {
            "outlinewidth": 1,
            "tickcolor": "rgb(36,36,36)",
            "ticks": "outside"
           }
          },
          "colorscale": {
           "diverging": [
            [
             0.0,
             "rgb(103,0,31)"
            ],
            [
             0.1,
             "rgb(178,24,43)"
            ],
            [
             0.2,
             "rgb(214,96,77)"
            ],
            [
             0.3,
             "rgb(244,165,130)"
            ],
            [
             0.4,
             "rgb(253,219,199)"
            ],
            [
             0.5,
             "rgb(247,247,247)"
            ],
            [
             0.6,
             "rgb(209,229,240)"
            ],
            [
             0.7,
             "rgb(146,197,222)"
            ],
            [
             0.8,
             "rgb(67,147,195)"
            ],
            [
             0.9,
             "rgb(33,102,172)"
            ],
            [
             1.0,
             "rgb(5,48,97)"
            ]
           ],
           "sequential": [
            [
             0.0,
             "#440154"
            ],
            [
             0.1111111111111111,
             "#482878"
            ],
            [
             0.2222222222222222,
             "#3e4989"
            ],
            [
             0.3333333333333333,
             "#31688e"
            ],
            [
             0.4444444444444444,
             "#26828e"
            ],
            [
             0.5555555555555556,
             "#1f9e89"
            ],
            [
             0.6666666666666666,
             "#35b779"
            ],
            [
             0.7777777777777778,
             "#6ece58"
            ],
            [
             0.8888888888888888,
             "#b5de2b"
            ],
            [
             1.0,
             "#fde725"
            ]
           ],
           "sequentialminus": [
            [
             0.0,
             "#440154"
            ],
            [
             0.1111111111111111,
             "#482878"
            ],
            [
             0.2222222222222222,
             "#3e4989"
            ],
            [
             0.3333333333333333,
             "#31688e"
            ],
            [
             0.4444444444444444,
             "#26828e"
            ],
            [
             0.5555555555555556,
             "#1f9e89"
            ],
            [
             0.6666666666666666,
             "#35b779"
            ],
            [
             0.7777777777777778,
             "#6ece58"
            ],
            [
             0.8888888888888888,
             "#b5de2b"
            ],
            [
             1.0,
             "#fde725"
            ]
           ]
          },
          "colorway": [
           "#91268F",
           "#8CC63E",
           "#00A7A0",
           "#F05A28",
           "#4C4C4C",
           "#630460",
           "#9f3913",
           "#588527",
           "#00716c",
           "#3e4040"
          ],
          "font": {
           "color": "rgb(36,36,36)",
           "family": "Poppins",
           "size": 11
          },
          "geo": {
           "bgcolor": "white",
           "lakecolor": "white",
           "landcolor": "white",
           "showlakes": true,
           "showland": true,
           "subunitcolor": "white"
          },
          "hoverlabel": {
           "align": "left"
          },
          "hovermode": "closest",
          "mapbox": {
           "style": "light"
          },
          "paper_bgcolor": "white",
          "plot_bgcolor": "white",
          "polar": {
           "angularaxis": {
            "gridcolor": "rgb(232,232,232)",
            "linecolor": "rgb(36,36,36)",
            "showgrid": false,
            "showline": true,
            "ticks": "outside"
           },
           "bgcolor": "white",
           "radialaxis": {
            "gridcolor": "rgb(232,232,232)",
            "linecolor": "rgb(36,36,36)",
            "showgrid": false,
            "showline": true,
            "ticks": "outside"
           }
          },
          "scene": {
           "xaxis": {
            "backgroundcolor": "white",
            "gridcolor": "rgb(232,232,232)",
            "gridwidth": 2,
            "linecolor": "rgb(36,36,36)",
            "showbackground": true,
            "showgrid": false,
            "showline": true,
            "ticks": "outside",
            "zeroline": false,
            "zerolinecolor": "rgb(36,36,36)"
           },
           "yaxis": {
            "backgroundcolor": "white",
            "gridcolor": "rgb(232,232,232)",
            "gridwidth": 2,
            "linecolor": "rgb(36,36,36)",
            "showbackground": true,
            "showgrid": false,
            "showline": true,
            "ticks": "outside",
            "zeroline": false,
            "zerolinecolor": "rgb(36,36,36)"
           },
           "zaxis": {
            "backgroundcolor": "white",
            "gridcolor": "rgb(232,232,232)",
            "gridwidth": 2,
            "linecolor": "rgb(36,36,36)",
            "showbackground": true,
            "showgrid": false,
            "showline": true,
            "ticks": "outside",
            "zeroline": false,
            "zerolinecolor": "rgb(36,36,36)"
           }
          },
          "shapedefaults": {
           "fillcolor": "black",
           "line": {
            "width": 0
           },
           "opacity": 0.3
          },
          "ternary": {
           "aaxis": {
            "gridcolor": "rgb(232,232,232)",
            "linecolor": "rgb(36,36,36)",
            "showgrid": false,
            "showline": true,
            "ticks": "outside"
           },
           "baxis": {
            "gridcolor": "rgb(232,232,232)",
            "linecolor": "rgb(36,36,36)",
            "showgrid": false,
            "showline": true,
            "ticks": "outside"
           },
           "bgcolor": "white",
           "caxis": {
            "gridcolor": "rgb(232,232,232)",
            "linecolor": "rgb(36,36,36)",
            "showgrid": false,
            "showline": true,
            "ticks": "outside"
           }
          },
          "title": {
           "x": 0.05
          },
          "xaxis": {
           "automargin": true,
           "gridcolor": "rgb(232,232,232)",
           "linecolor": "rgb(36,36,36)",
           "showgrid": false,
           "showline": true,
           "ticks": "outside",
           "title": {
            "standoff": 15
           },
           "zeroline": false,
           "zerolinecolor": "rgb(36,36,36)"
          },
          "yaxis": {
           "automargin": true,
           "gridcolor": "rgb(232,232,232)",
           "linecolor": "rgb(36,36,36)",
           "showgrid": false,
           "showline": true,
           "ticks": "outside",
           "title": {
            "standoff": 15
           },
           "zeroline": false,
           "zerolinecolor": "rgb(36,36,36)"
          }
         }
        },
        "title": {
         "text": "Medium Trucks: Snohomish"
        },
        "width": 800,
        "xaxis": {
         "anchor": "y",
         "domain": [
          0.0,
          1.0
         ],
         "title": {
          "text": "Observed"
         }
        },
        "yaxis": {
         "anchor": "x",
         "domain": [
          0.0,
          1.0
         ],
         "title": {
          "text": "Model"
         }
        }
       }
      },
      "text/html": [
       "<div>                            <div id=\"233b5abb-56c9-4acc-af6c-4f734a042c7f\" class=\"plotly-graph-div\" style=\"height:600px; width:800px;\"></div>            <script type=\"text/javascript\">                require([\"plotly\"], function(Plotly) {                    window.PLOTLYENV=window.PLOTLYENV || {};                                    if (document.getElementById(\"233b5abb-56c9-4acc-af6c-4f734a042c7f\")) {                    Plotly.newPlot(                        \"233b5abb-56c9-4acc-af6c-4f734a042c7f\",                        [{\"customdata\":[[\"I-5 @ 44th NB\",\"Snohomish\"],[\"I-5 @ 44th SB\",\"Snohomish\"],[\"I-5 N\\u002fO 164th NB\",\"Snohomish\"],[\"I-5 N\\u002fO 164th SB\",\"Snohomish\"],[\"I-5 N\\u002fO SR-526 NB\",\"Snohomish\"],[\"I-5 N\\u002fO SR-526 SB\",\"Snohomish\"],[\"I-5 N\\u002fO 41st NB\",\"Snohomish\"],[\"I-5 N\\u002fO 41st SB\",\"Snohomish\"],[\"I-5 @ SR-528 NB\",\"Snohomish\"],[\"I-5 @ SR-528 SB\",\"Snohomish\"],[\"I-5 N\\u002fO SR-531 NB\",\"Snohomish\"],[\"I-5 N\\u002fO SR-531 SB\",\"Snohomish\"],[\"I-405 N\\u002fO SR-527 NB\",\"Snohomish\"],[\"I-405 N\\u002fO SR-527 SB\",\"Snohomish\"],[\"SR-525 N\\u002fO I-5 NB\",\"Snohomish\"],[\"SR-525 N\\u002fO I-5 SB\",\"Snohomish\"],[\"I-5 @ SR-532 NB\\u002fSB\",\"Snohomish\"],[\"I-5 @ Skagit border NB\\u002fSB\",\"Snohomish\"],[\"SR-525 N\\u002fO SR-526 NB\\u002fSB\",\"Snohomish\"],[\"SR-525 N\\u002fO 5th NB\\u002fSB\",\"Snohomish\"],[\"SR-99 E\\u002fO Evergreen NB\\u002fSB\",\"Snohomish\"],[\"SR-526 W\\u002fO Paine Field Blvd WB\\u002fEB\",\"Snohomish\"],[\"SR-526 E\\u002fO Paine Field Blvd WB\\u002fEB\",\"Snohomish\"],[\"SR-9 @ SR-522 NB\\u002fSB\",\"Snohomish\"],[\"SR-9 N\\u002fO SR-2 NB\\u002fSB\",\"Snohomish\"],[\"SR-9 N\\u002fO SR-204 NB\\u002fSB\",\"Snohomish\"],[\"SR-9 N\\u002fO SR-92 NB\\u002fSB\",\"Snohomish\"],[\"SR-9 N\\u002fO 132nd NB\\u002fSB\",\"Snohomish\"],[\"SR-9 N\\u002fO SR-531 NB\\u002fSB\",\"Snohomish\"],[\"SR-9 S\\u002fO 67th NB\\u002fSB\",\"Snohomish\"],[\"SR-9 N\\u002fO Kackman NB\\u002fSB\",\"Snohomish\"],[\"SR-9 N\\u002fO Stanwood-Bryant NB\\u002fSB\",\"Snohomish\"],[\"SR-532 @ Island County WB\\u002fEB\",\"Snohomish\"],[\"SR-532 W\\u002fO 28th WB\\u002fEB\",\"Snohomish\"],[\"SR-104 @ Ferry Loading Edm WB\\u002fEB\",\"Snohomish\"],[\"SR-104 N\\u002fO Pine WB\\u002fEB\",\"Snohomish\"],[\"SR-104 E\\u002fO 5th WB\\u002fEB\",\"Snohomish\"],[\"SR-524 W\\u002fO 3rd WB\\u002fEB\",\"Snohomish\"],[\"SR-524 S\\u002fO Main WB\\u002fEB\",\"Snohomish\"],[\"SR-524 N\\u002fO Main WB\\u002fEB\",\"Snohomish\"],[\"SR-524 E\\u002fO 68th WB\\u002fEB\",\"Snohomish\"],[\"SR-524 E\\u002fO 39th WB\\u002fEB\",\"Snohomish\"],[\"SR-524 N\\u002fO Paradise Lake WB\\u002fEB\",\"Snohomish\"],[\"SR-2 E\\u002fO I-5 WB\\u002fEB\",\"Snohomish\"],[\"SR-2 S\\u002fO SR-204 WB\\u002fEB\",\"Snohomish\"],[\"SR-2 E\\u002fO Main WB\\u002fEB\",\"Snohomish\"],[\"SR-2 E\\u002fO Rice WB\\u002fEB\",\"Snohomish\"],[\"SR-2 E\\u002fO 10th (Gold Bar) WB\\u002fEB\",\"Snohomish\"],[\"SR-2 W\\u002fO Index-Galena WB\\u002fEB\",\"Snohomish\"],[\"SR-2 E\\u002fO Index-Galena WB\\u002fEB\",\"Snohomish\"],[\"SR-527 N\\u002fO I-405 NB\\u002fSB\",\"Snohomish\"],[\"SR-527 N\\u002fO 196th NB\\u002fSB\",\"Snohomish\"],[\"SR-527 N\\u002fO Dumas NB\\u002fSB\",\"Snohomish\"],[\"SR-527 N\\u002fO 100th NB\\u002fSB\",\"Snohomish\"],[\"SR-529 @ I-5 (Evt) NB\\u002fSB\",\"Snohomish\"],[\"SR-529 S\\u002fO Everett NB\\u002fSB\",\"Snohomish\"],[\"SR-529 W\\u002fO Maple NB\\u002fSB\",\"Snohomish\"],[\"SR-529 N\\u002fO Everett NB\\u002fSB\",\"Snohomish\"],[\"SR-529 N\\u002fO Broadway NB\\u002fSB\",\"Snohomish\"],[\"SR-96 @ I-5 WB\\u002fEB\",\"Snohomish\"],[\"SR-96 N\\u002fO 132nd WB\\u002fEB\",\"Snohomish\"],[\"SR-96 E\\u002fO Seattle Hill WB\\u002fEB\",\"Snohomish\"],[\"SR-528 @ I-5 WB\\u002fEB\",\"Snohomish\"],[\"SR-528 E\\u002fO SR-529 WB\\u002fEB\",\"Snohomish\"],[\"SR-531 N\\u002fO Rose WB\\u002fEB\",\"Snohomish\"],[\"SR-531 E\\u002fO Lk Goodwin WB\\u002fEB\",\"Snohomish\"],[\"SR-531 E\\u002fO 27th WB\\u002fEB\",\"Snohomish\"],[\"SR-531 E\\u002fO I-5 WB\\u002fEB\",\"Snohomish\"],[\"SR-531 E\\u002fO 43rd WB\\u002fEB\",\"Snohomish\"],[\"SR-531 W\\u002fO 67th WB\\u002fEB\",\"Snohomish\"],[\"SR-531 E\\u002fO 67th WB\\u002fEB\",\"Snohomish\"],[\"SR-530 @ I-5 WB\\u002fEB\",\"Snohomish\"],[\"SR-530 E\\u002fO Smokey Pt WB\\u002fEB\",\"Snohomish\"],[\"SR-530 N\\u002fO 211th WB\\u002fEB\",\"Snohomish\"],[\"SR-530 E\\u002fO SR-9 WB\\u002fEB\",\"Snohomish\"],[\"SR-530 W\\u002fO Arlington Hts WB\\u002fEB\",\"Snohomish\"],[\"SR-530 E\\u002fO Arlington Hts WB\\u002fEB\",\"Snohomish\"],[\"SR-530 W\\u002fO Jim Creek WB\\u002fEB\",\"Snohomish\"],[\"SR-530 W\\u002fO Ramstad WB\\u002fEB\",\"Snohomish\"],[\"SR-530 @ Skagit County WB\\u002fEB\",\"Snohomish\"],[\"SR-203 N\\u002fO 203rd NB\\u002fSB\",\"Snohomish\"],[\"SR-204 @ SR-2 NB\\u002fSB\",\"Snohomish\"],[\"SR-204 N\\u002fO 20th NB\\u002fSB\",\"Snohomish\"],[\"SR-204 N\\u002fO SR-2 NB\\u002fSB\",\"Snohomish\"],[\"SR-92 E\\u002fO Lake WB\\u002fEB\",\"Snohomish\"],[\"SR-92 E\\u002fO Callow WB\\u002fEB\",\"Snohomish\"],[\"SR-92 E\\u002fO Quarry WB\\u002fEB\",\"Snohomish\"],[\"SR-92 W\\u002fO Mountain Loop WB\\u002fEB\",\"Snohomish\"]],\"hovertemplate\":\"Observed=%{x}\\u003cbr\\u003eModel=%{y}\\u003cbr\\u003elocation=%{customdata[0]}\\u003cbr\\u003eCounty=%{customdata[1]}\\u003cextra\\u003e\\u003c\\u002fextra\\u003e\",\"legendgroup\":\"\",\"marker\":{\"color\":\"#91268F\",\"symbol\":\"circle\"},\"mode\":\"markers\",\"name\":\"\",\"orientation\":\"v\",\"showlegend\":false,\"x\":[2586,2604,2869,2888,2689,2832,2293,2656,2191,2251,1728,1737,1539,1620,1248,851,2444,2481,710,364,475,396,915,1853,1311,1387,1987,829,484,658,443,135,1056,739,294,220,360,68,160,167,494,330,1157,2430,1634,858,735,516,346,242,1484,837,704,858,333,271,364,238,1122,1408,392,220,728,616,75,432,693,1230,1632,969,560,690,882,784,420,520,461,410,276,167,636,259,371,960,1349,994,320,324],\"xaxis\":\"x\",\"y\":[5699,5699,5145,4807,4430,4462,4330,4150,1868,1920,660,622,4652,4567,3068,2844,120,0,334,35,139,187,1782,1299,1460,1914,2317,747,556,213,61,64,0,597,214,163,273,214,77,255,621,444,751,3174,1656,754,311,111,111,80,3061,932,386,1046,464,390,335,126,620,1675,434,52,1184,612,64,188,626,1435,898,223,349,350,637,432,285,397,332,285,234,0,445,123,233,1326,803,580,199,157],\"yaxis\":\"y\",\"type\":\"scatter\",\"line\":{\"color\":\"Grey\",\"width\":2}},{\"hovertemplate\":\"Observed=%{x}\\u003cbr\\u003eModel=%{y}\\u003cextra\\u003e\\u003c\\u002fextra\\u003e\",\"legendgroup\":\"\",\"line\":{\"color\":\"Grey\",\"dash\":\"solid\",\"width\":2},\"marker\":{\"symbol\":\"circle\"},\"mode\":\"lines\",\"name\":\"\",\"orientation\":\"v\",\"showlegend\":false,\"x\":[0.0,29.171717171717173,58.343434343434346,87.51515151515152,116.68686868686869,145.85858585858585,175.03030303030303,204.2020202020202,233.37373737373738,262.54545454545456,291.7171717171717,320.8888888888889,350.06060606060606,379.23232323232327,408.4040404040404,437.5757575757576,466.74747474747477,495.9191919191919,525.0909090909091,554.2626262626263,583.4343434343434,612.6060606060606,641.7777777777778,670.949494949495,700.1212121212121,729.2929292929293,758.4646464646465,787.6363636363636,816.8080808080808,845.979797979798,875.1515151515152,904.3232323232323,933.4949494949495,962.6666666666667,991.8383838383838,1021.010101010101,1050.1818181818182,1079.3535353535353,1108.5252525252527,1137.6969696969697,1166.8686868686868,1196.0404040404042,1225.2121212121212,1254.3838383838383,1283.5555555555557,1312.7272727272727,1341.89898989899,1371.0707070707072,1400.2424242424242,1429.4141414141416,1458.5858585858587,1487.7575757575758,1516.929292929293,1546.1010101010102,1575.2727272727273,1604.4444444444446,1633.6161616161617,1662.7878787878788,1691.959595959596,1721.1313131313132,1750.3030303030305,1779.4747474747476,1808.6464646464647,1837.818181818182,1866.989898989899,1896.1616161616162,1925.3333333333335,1954.5050505050506,1983.6767676767677,2012.848484848485,2042.020202020202,2071.191919191919,2100.3636363636365,2129.535353535354,2158.7070707070707,2187.878787878788,2217.0505050505053,2246.222222222222,2275.3939393939395,2304.565656565657,2333.7373737373737,2362.909090909091,2392.0808080808083,2421.252525252525,2450.4242424242425,2479.59595959596,2508.7676767676767,2537.939393939394,2567.1111111111113,2596.282828282828,2625.4545454545455,2654.626262626263,2683.79797979798,2712.969696969697,2742.1414141414143,2771.3131313131316,2800.4848484848485,2829.656565656566,2858.828282828283,2888.0],\"xaxis\":\"x\",\"y\":[-337.9891223522559,-294.4812716310709,-250.97342090988587,-207.4655701887009,-163.9577194675159,-120.44986874633088,-76.9420180251459,-33.43416730396086,10.073683417224117,53.581534138409154,97.08938485959413,140.59723558077917,184.1050863019641,227.61293702314924,271.12078774433417,314.6286384655192,358.1364891867041,401.64433990788916,445.1521906290742,488.66004135025923,532.1678920714442,575.6757427926292,619.1835935138142,662.6914442349993,706.1992949561841,749.7071456773692,793.2149963985544,836.7228471197391,880.2306978409242,923.7385485621094,967.2463992832943,1010.7542500044792,1054.2621007256641,1097.7699514468493,1141.2778021680342,1184.7856528892191,1228.2935036104043,1271.8013543315892,1315.3092050527744,1358.8170557739593,1402.3249064951442,1445.8327572163294,1489.3406079375143,1532.8484586586992,1576.3563093798844,1619.8641601010693,1663.3720108222544,1706.8798615434393,1750.387712264624,1793.8955629858096,1837.4034137069943,1880.911264428179,1924.4191151493646,1967.9269658705493,2011.434816591734,2054.9426673129196,2098.4505180341043,2141.958368755289,2185.4662194764746,2228.9740701976593,2272.4819209188445,2315.989771640029,2359.4976223612143,2403.0054730823995,2446.513323803584,2490.0211745247693,2533.5290252459545,2577.036875967139,2620.5447266883243,2664.0525774095095,2707.560428130694,2751.0682788518793,2794.5761295730645,2838.0839802942496,2881.5918310154343,2925.0996817366195,2968.6075324578046,3012.1153831789893,3055.6232339001745,3099.1310846213596,3142.6389353425443,3186.1467860637295,3229.6546367849146,3273.1624875060993,3316.6703382272844,3360.1781889484696,3403.6860396696543,3447.1938903908394,3490.7017411120246,3534.2095918332093,3577.7174425543944,3621.2252932755796,3664.7331439967647,3708.2409947179494,3751.7488454391346,3795.25669616032,3838.764546881504,3882.2723976026896,3925.780248323875,3969.288099045059],\"yaxis\":\"y\",\"type\":\"scatter\"}],                        {\"template\":{\"data\":{\"barpolar\":[{\"marker\":{\"line\":{\"color\":\"white\",\"width\":0.5},\"pattern\":{\"fillmode\":\"overlay\",\"size\":10,\"solidity\":0.2}},\"type\":\"barpolar\"}],\"bar\":[{\"error_x\":{\"color\":\"rgb(36,36,36)\"},\"error_y\":{\"color\":\"rgb(36,36,36)\"},\"marker\":{\"line\":{\"color\":\"white\",\"width\":0.5},\"pattern\":{\"fillmode\":\"overlay\",\"size\":10,\"solidity\":0.2}},\"type\":\"bar\"}],\"carpet\":[{\"aaxis\":{\"endlinecolor\":\"rgb(36,36,36)\",\"gridcolor\":\"white\",\"linecolor\":\"white\",\"minorgridcolor\":\"white\",\"startlinecolor\":\"rgb(36,36,36)\"},\"baxis\":{\"endlinecolor\":\"rgb(36,36,36)\",\"gridcolor\":\"white\",\"linecolor\":\"white\",\"minorgridcolor\":\"white\",\"startlinecolor\":\"rgb(36,36,36)\"},\"type\":\"carpet\"}],\"choropleth\":[{\"colorbar\":{\"outlinewidth\":1,\"tickcolor\":\"rgb(36,36,36)\",\"ticks\":\"outside\"},\"type\":\"choropleth\"}],\"contourcarpet\":[{\"colorbar\":{\"outlinewidth\":1,\"tickcolor\":\"rgb(36,36,36)\",\"ticks\":\"outside\"},\"type\":\"contourcarpet\"}],\"contour\":[{\"colorbar\":{\"outlinewidth\":1,\"tickcolor\":\"rgb(36,36,36)\",\"ticks\":\"outside\"},\"colorscale\":[[0.0,\"#440154\"],[0.1111111111111111,\"#482878\"],[0.2222222222222222,\"#3e4989\"],[0.3333333333333333,\"#31688e\"],[0.4444444444444444,\"#26828e\"],[0.5555555555555556,\"#1f9e89\"],[0.6666666666666666,\"#35b779\"],[0.7777777777777778,\"#6ece58\"],[0.8888888888888888,\"#b5de2b\"],[1.0,\"#fde725\"]],\"type\":\"contour\"}],\"heatmapgl\":[{\"colorbar\":{\"outlinewidth\":1,\"tickcolor\":\"rgb(36,36,36)\",\"ticks\":\"outside\"},\"colorscale\":[[0.0,\"#440154\"],[0.1111111111111111,\"#482878\"],[0.2222222222222222,\"#3e4989\"],[0.3333333333333333,\"#31688e\"],[0.4444444444444444,\"#26828e\"],[0.5555555555555556,\"#1f9e89\"],[0.6666666666666666,\"#35b779\"],[0.7777777777777778,\"#6ece58\"],[0.8888888888888888,\"#b5de2b\"],[1.0,\"#fde725\"]],\"type\":\"heatmapgl\"}],\"heatmap\":[{\"colorbar\":{\"outlinewidth\":1,\"tickcolor\":\"rgb(36,36,36)\",\"ticks\":\"outside\"},\"colorscale\":[[0.0,\"#440154\"],[0.1111111111111111,\"#482878\"],[0.2222222222222222,\"#3e4989\"],[0.3333333333333333,\"#31688e\"],[0.4444444444444444,\"#26828e\"],[0.5555555555555556,\"#1f9e89\"],[0.6666666666666666,\"#35b779\"],[0.7777777777777778,\"#6ece58\"],[0.8888888888888888,\"#b5de2b\"],[1.0,\"#fde725\"]],\"type\":\"heatmap\"}],\"histogram2dcontour\":[{\"colorbar\":{\"outlinewidth\":1,\"tickcolor\":\"rgb(36,36,36)\",\"ticks\":\"outside\"},\"colorscale\":[[0.0,\"#440154\"],[0.1111111111111111,\"#482878\"],[0.2222222222222222,\"#3e4989\"],[0.3333333333333333,\"#31688e\"],[0.4444444444444444,\"#26828e\"],[0.5555555555555556,\"#1f9e89\"],[0.6666666666666666,\"#35b779\"],[0.7777777777777778,\"#6ece58\"],[0.8888888888888888,\"#b5de2b\"],[1.0,\"#fde725\"]],\"type\":\"histogram2dcontour\"}],\"histogram2d\":[{\"colorbar\":{\"outlinewidth\":1,\"tickcolor\":\"rgb(36,36,36)\",\"ticks\":\"outside\"},\"colorscale\":[[0.0,\"#440154\"],[0.1111111111111111,\"#482878\"],[0.2222222222222222,\"#3e4989\"],[0.3333333333333333,\"#31688e\"],[0.4444444444444444,\"#26828e\"],[0.5555555555555556,\"#1f9e89\"],[0.6666666666666666,\"#35b779\"],[0.7777777777777778,\"#6ece58\"],[0.8888888888888888,\"#b5de2b\"],[1.0,\"#fde725\"]],\"type\":\"histogram2d\"}],\"histogram\":[{\"marker\":{\"line\":{\"color\":\"white\",\"width\":0.6}},\"type\":\"histogram\"}],\"mesh3d\":[{\"colorbar\":{\"outlinewidth\":1,\"tickcolor\":\"rgb(36,36,36)\",\"ticks\":\"outside\"},\"type\":\"mesh3d\"}],\"parcoords\":[{\"line\":{\"colorbar\":{\"outlinewidth\":1,\"tickcolor\":\"rgb(36,36,36)\",\"ticks\":\"outside\"}},\"type\":\"parcoords\"}],\"pie\":[{\"automargin\":true,\"type\":\"pie\"}],\"scatter3d\":[{\"line\":{\"colorbar\":{\"outlinewidth\":1,\"tickcolor\":\"rgb(36,36,36)\",\"ticks\":\"outside\"}},\"marker\":{\"colorbar\":{\"outlinewidth\":1,\"tickcolor\":\"rgb(36,36,36)\",\"ticks\":\"outside\"}},\"type\":\"scatter3d\"}],\"scattercarpet\":[{\"marker\":{\"colorbar\":{\"outlinewidth\":1,\"tickcolor\":\"rgb(36,36,36)\",\"ticks\":\"outside\"}},\"type\":\"scattercarpet\"}],\"scattergeo\":[{\"marker\":{\"colorbar\":{\"outlinewidth\":1,\"tickcolor\":\"rgb(36,36,36)\",\"ticks\":\"outside\"}},\"type\":\"scattergeo\"}],\"scattergl\":[{\"marker\":{\"colorbar\":{\"outlinewidth\":1,\"tickcolor\":\"rgb(36,36,36)\",\"ticks\":\"outside\"}},\"type\":\"scattergl\"}],\"scattermapbox\":[{\"marker\":{\"colorbar\":{\"outlinewidth\":1,\"tickcolor\":\"rgb(36,36,36)\",\"ticks\":\"outside\"}},\"type\":\"scattermapbox\"}],\"scatterpolargl\":[{\"marker\":{\"colorbar\":{\"outlinewidth\":1,\"tickcolor\":\"rgb(36,36,36)\",\"ticks\":\"outside\"}},\"type\":\"scatterpolargl\"}],\"scatterpolar\":[{\"marker\":{\"colorbar\":{\"outlinewidth\":1,\"tickcolor\":\"rgb(36,36,36)\",\"ticks\":\"outside\"}},\"type\":\"scatterpolar\"}],\"scatter\":[{\"fillpattern\":{\"fillmode\":\"overlay\",\"size\":10,\"solidity\":0.2},\"type\":\"scatter\"}],\"scatterternary\":[{\"marker\":{\"colorbar\":{\"outlinewidth\":1,\"tickcolor\":\"rgb(36,36,36)\",\"ticks\":\"outside\"}},\"type\":\"scatterternary\"}],\"surface\":[{\"colorbar\":{\"outlinewidth\":1,\"tickcolor\":\"rgb(36,36,36)\",\"ticks\":\"outside\"},\"colorscale\":[[0.0,\"#440154\"],[0.1111111111111111,\"#482878\"],[0.2222222222222222,\"#3e4989\"],[0.3333333333333333,\"#31688e\"],[0.4444444444444444,\"#26828e\"],[0.5555555555555556,\"#1f9e89\"],[0.6666666666666666,\"#35b779\"],[0.7777777777777778,\"#6ece58\"],[0.8888888888888888,\"#b5de2b\"],[1.0,\"#fde725\"]],\"type\":\"surface\"}],\"table\":[{\"cells\":{\"fill\":{\"color\":\"rgb(237,237,237)\"},\"line\":{\"color\":\"white\"}},\"header\":{\"fill\":{\"color\":\"rgb(217,217,217)\"},\"line\":{\"color\":\"white\"}},\"type\":\"table\"}]},\"layout\":{\"annotationdefaults\":{\"arrowhead\":0,\"arrowwidth\":1},\"autotypenumbers\":\"strict\",\"coloraxis\":{\"colorbar\":{\"outlinewidth\":1,\"tickcolor\":\"rgb(36,36,36)\",\"ticks\":\"outside\"}},\"colorscale\":{\"diverging\":[[0.0,\"rgb(103,0,31)\"],[0.1,\"rgb(178,24,43)\"],[0.2,\"rgb(214,96,77)\"],[0.3,\"rgb(244,165,130)\"],[0.4,\"rgb(253,219,199)\"],[0.5,\"rgb(247,247,247)\"],[0.6,\"rgb(209,229,240)\"],[0.7,\"rgb(146,197,222)\"],[0.8,\"rgb(67,147,195)\"],[0.9,\"rgb(33,102,172)\"],[1.0,\"rgb(5,48,97)\"]],\"sequential\":[[0.0,\"#440154\"],[0.1111111111111111,\"#482878\"],[0.2222222222222222,\"#3e4989\"],[0.3333333333333333,\"#31688e\"],[0.4444444444444444,\"#26828e\"],[0.5555555555555556,\"#1f9e89\"],[0.6666666666666666,\"#35b779\"],[0.7777777777777778,\"#6ece58\"],[0.8888888888888888,\"#b5de2b\"],[1.0,\"#fde725\"]],\"sequentialminus\":[[0.0,\"#440154\"],[0.1111111111111111,\"#482878\"],[0.2222222222222222,\"#3e4989\"],[0.3333333333333333,\"#31688e\"],[0.4444444444444444,\"#26828e\"],[0.5555555555555556,\"#1f9e89\"],[0.6666666666666666,\"#35b779\"],[0.7777777777777778,\"#6ece58\"],[0.8888888888888888,\"#b5de2b\"],[1.0,\"#fde725\"]]},\"colorway\":[\"#91268F\",\"#8CC63E\",\"#00A7A0\",\"#F05A28\",\"#4C4C4C\",\"#630460\",\"#9f3913\",\"#588527\",\"#00716c\",\"#3e4040\"],\"font\":{\"color\":\"rgb(36,36,36)\",\"family\":\"Poppins\",\"size\":11},\"geo\":{\"bgcolor\":\"white\",\"lakecolor\":\"white\",\"landcolor\":\"white\",\"showlakes\":true,\"showland\":true,\"subunitcolor\":\"white\"},\"hoverlabel\":{\"align\":\"left\"},\"hovermode\":\"closest\",\"mapbox\":{\"style\":\"light\"},\"paper_bgcolor\":\"white\",\"plot_bgcolor\":\"white\",\"polar\":{\"angularaxis\":{\"gridcolor\":\"rgb(232,232,232)\",\"linecolor\":\"rgb(36,36,36)\",\"showgrid\":false,\"showline\":true,\"ticks\":\"outside\"},\"bgcolor\":\"white\",\"radialaxis\":{\"gridcolor\":\"rgb(232,232,232)\",\"linecolor\":\"rgb(36,36,36)\",\"showgrid\":false,\"showline\":true,\"ticks\":\"outside\"}},\"scene\":{\"xaxis\":{\"backgroundcolor\":\"white\",\"gridcolor\":\"rgb(232,232,232)\",\"gridwidth\":2,\"linecolor\":\"rgb(36,36,36)\",\"showbackground\":true,\"showgrid\":false,\"showline\":true,\"ticks\":\"outside\",\"zeroline\":false,\"zerolinecolor\":\"rgb(36,36,36)\"},\"yaxis\":{\"backgroundcolor\":\"white\",\"gridcolor\":\"rgb(232,232,232)\",\"gridwidth\":2,\"linecolor\":\"rgb(36,36,36)\",\"showbackground\":true,\"showgrid\":false,\"showline\":true,\"ticks\":\"outside\",\"zeroline\":false,\"zerolinecolor\":\"rgb(36,36,36)\"},\"zaxis\":{\"backgroundcolor\":\"white\",\"gridcolor\":\"rgb(232,232,232)\",\"gridwidth\":2,\"linecolor\":\"rgb(36,36,36)\",\"showbackground\":true,\"showgrid\":false,\"showline\":true,\"ticks\":\"outside\",\"zeroline\":false,\"zerolinecolor\":\"rgb(36,36,36)\"}},\"shapedefaults\":{\"fillcolor\":\"black\",\"line\":{\"width\":0},\"opacity\":0.3},\"ternary\":{\"aaxis\":{\"gridcolor\":\"rgb(232,232,232)\",\"linecolor\":\"rgb(36,36,36)\",\"showgrid\":false,\"showline\":true,\"ticks\":\"outside\"},\"baxis\":{\"gridcolor\":\"rgb(232,232,232)\",\"linecolor\":\"rgb(36,36,36)\",\"showgrid\":false,\"showline\":true,\"ticks\":\"outside\"},\"bgcolor\":\"white\",\"caxis\":{\"gridcolor\":\"rgb(232,232,232)\",\"linecolor\":\"rgb(36,36,36)\",\"showgrid\":false,\"showline\":true,\"ticks\":\"outside\"}},\"title\":{\"x\":0.05},\"xaxis\":{\"automargin\":true,\"gridcolor\":\"rgb(232,232,232)\",\"linecolor\":\"rgb(36,36,36)\",\"showgrid\":false,\"showline\":true,\"ticks\":\"outside\",\"title\":{\"standoff\":15},\"zeroline\":false,\"zerolinecolor\":\"rgb(36,36,36)\"},\"yaxis\":{\"automargin\":true,\"gridcolor\":\"rgb(232,232,232)\",\"linecolor\":\"rgb(36,36,36)\",\"showgrid\":false,\"showline\":true,\"ticks\":\"outside\",\"title\":{\"standoff\":15},\"zeroline\":false,\"zerolinecolor\":\"rgb(36,36,36)\"}}},\"xaxis\":{\"anchor\":\"y\",\"domain\":[0.0,1.0],\"title\":{\"text\":\"Observed\"}},\"yaxis\":{\"anchor\":\"x\",\"domain\":[0.0,1.0],\"title\":{\"text\":\"Model\"}},\"legend\":{\"tracegroupgap\":0},\"title\":{\"text\":\"Medium Trucks: Snohomish\"},\"margin\":{\"l\":100,\"r\":100,\"t\":100,\"b\":100},\"height\":600,\"width\":800,\"shapes\":[{\"line\":{\"color\":\"Red\",\"dash\":\"dash\",\"width\":2},\"type\":\"line\",\"x0\":0,\"x1\":5699,\"y0\":0,\"y1\":5699}],\"annotations\":[{\"align\":\"right\",\"font\":{\"color\":\"pink\",\"size\":12},\"showarrow\":false,\"text\":\"y = x\",\"x\":5983.95,\"y\":5983.95},{\"align\":\"right\",\"font\":{\"color\":\"black\",\"size\":12},\"showarrow\":false,\"text\":\"r^2 = 0.62\",\"x\":3032.4,\"y\":4167.7525039973125}]},                        {\"responsive\": true}                    ).then(function(){\n",
       "                            \n",
       "var gd = document.getElementById('233b5abb-56c9-4acc-af6c-4f734a042c7f');\n",
       "var x = new MutationObserver(function (mutations, observer) {{\n",
       "        var display = window.getComputedStyle(gd).display;\n",
       "        if (!display || display === 'none') {{\n",
       "            console.log([gd, 'removed!']);\n",
       "            Plotly.purge(gd);\n",
       "            observer.disconnect();\n",
       "        }}\n",
       "}});\n",
       "\n",
       "// Listen for the removal of the full notebook cells\n",
       "var notebookContainer = gd.closest('#notebook-container');\n",
       "if (notebookContainer) {{\n",
       "    x.observe(notebookContainer, {childList: true});\n",
       "}}\n",
       "\n",
       "// Listen for the clearing of the current output cell\n",
       "var outputEl = gd.closest('.output');\n",
       "if (outputEl) {{\n",
       "    x.observe(outputEl, {childList: true});\n",
       "}}\n",
       "\n",
       "                        })                };                });            </script>        </div>"
      ]
     },
     "metadata": {},
     "output_type": "display_data"
    }
   ],
   "source": [
    "fig = create_truck_chart(df_daily_med, 'Medium', 'Snohomish')\n",
    "fig.show()"
   ]
  },
  {
   "cell_type": "raw",
   "id": "2e93c7ef",
   "metadata": {},
   "source": [
    ":::"
   ]
  }
 ],
 "metadata": {
  "kernelspec": {
   "display_name": "summary",
   "language": "python",
   "name": "python3"
  },
  "language_info": {
   "codemirror_mode": {
    "name": "ipython",
    "version": 3
   },
   "file_extension": ".py",
   "mimetype": "text/x-python",
   "name": "python",
   "nbconvert_exporter": "python",
   "pygments_lexer": "ipython3",
   "version": "3.7.10"
  }
 },
 "nbformat": 4,
 "nbformat_minor": 5
}
