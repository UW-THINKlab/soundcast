{
 "cells": [
  {
   "cell_type": "raw",
   "id": "35d0934ac2ce2456",
   "metadata": {},
   "source": [
    "---\n",
    "title: \"Traffic Summary\"\n",
    "date: today\n",
    "---"
   ]
  },
  {
   "cell_type": "code",
   "execution_count": 1,
   "id": "3c1a81e12086b602",
   "metadata": {
    "ExecuteTime": {
     "end_time": "2024-06-24T21:13:24.907193Z",
     "start_time": "2024-06-24T21:13:21.750667Z"
    },
    "execution": {
     "iopub.execute_input": "2024-06-24T21:55:40.573343Z",
     "iopub.status.busy": "2024-06-24T21:55:40.573343Z",
     "iopub.status.idle": "2024-06-24T21:55:44.494756Z",
     "shell.execute_reply": "2024-06-24T21:55:44.494756Z"
    }
   },
   "outputs": [],
   "source": [
    "import os\n",
    "import pandas as pd\n",
    "import numpy as np\n",
    "from sqlalchemy import create_engine\n",
    "from scipy import stats\n",
    "import plotly.express as px\n",
    "import toml\n",
    "import psrc_theme\n",
    "\n",
    "%matplotlib inline\n",
    "from IPython.display import display, HTML\n",
    "\n",
    "# to show plotly figures in quarto HTML file\n",
    "import plotly.io as pio\n",
    "pio.renderers.default = \"plotly_mimetype+notebook_connected\"\n",
    "pio.templates.default = \"simple_white+psrc_color\" # set plotly template\n",
    "\n",
    "input_config = toml.load(os.path.join(os.getcwd(), '..\\\\..\\\\..\\\\..\\\\configuration', 'input_configuration.toml'))\n",
    "valid_config = toml.load(os.path.join(os.getcwd(), '..\\\\..\\\\..\\\\..\\\\configuration', 'validation_configuration.toml'))\n",
    "emme_config = toml.load(os.path.join(os.getcwd(), '..\\\\..\\\\..\\\\..\\\\configuration','emme_configuration.toml'))\n",
    "network_config = toml.load(os.path.join(os.getcwd(), '..\\\\..\\\\..\\\\..\\\\configuration','network_configuration.toml'))\n",
    "\n",
    "# create connection\n",
    "conn = create_engine('sqlite:///inputs/db/'+input_config['db_name'])\n",
    "\n",
    "# summary data location\n",
    "csv_path = os.path.join(valid_config['model_dir'], 'outputs/validation')\n",
    "\n",
    "# table format\n",
    "pd.options.display.float_format = '{:0,.2f}'.format\n",
    "format_percent = \"{:,.2%}\".format"
   ]
  },
  {
   "cell_type": "markdown",
   "id": "916da9b1c4cbd6da",
   "metadata": {},
   "source": [
    "## daily traffic counts"
   ]
  },
  {
   "cell_type": "raw",
   "id": "9ab84874b18330bc",
   "metadata": {},
   "source": [
    ":::{.panel-tabset}\n",
    "### traffic by facility type"
   ]
  },
  {
   "cell_type": "code",
   "execution_count": 2,
   "id": "3d0602498872d993",
   "metadata": {
    "ExecuteTime": {
     "end_time": "2024-06-24T21:13:27.250795Z",
     "start_time": "2024-06-24T21:13:26.984996Z"
    },
    "execution": {
     "iopub.execute_input": "2024-06-24T21:55:44.494756Z",
     "iopub.status.busy": "2024-06-24T21:55:44.494756Z",
     "iopub.status.idle": "2024-06-24T21:55:44.713484Z",
     "shell.execute_reply": "2024-06-24T21:55:44.713484Z"
    }
   },
   "outputs": [
    {
     "data": {
      "text/html": [
       "<div>\n",
       "<style scoped>\n",
       "    .dataframe tbody tr th:only-of-type {\n",
       "        vertical-align: middle;\n",
       "    }\n",
       "\n",
       "    .dataframe tbody tr th {\n",
       "        vertical-align: top;\n",
       "    }\n",
       "\n",
       "    .dataframe thead th {\n",
       "        text-align: right;\n",
       "    }\n",
       "</style>\n",
       "<table border=\"1\" class=\"dataframe\">\n",
       "  <thead>\n",
       "    <tr style=\"text-align: right;\">\n",
       "      <th></th>\n",
       "      <th>observed</th>\n",
       "      <th>modeled</th>\n",
       "      <th>diff</th>\n",
       "      <th>percent_diff</th>\n",
       "    </tr>\n",
       "    <tr>\n",
       "      <th>@facilitytype</th>\n",
       "      <th></th>\n",
       "      <th></th>\n",
       "      <th></th>\n",
       "      <th></th>\n",
       "    </tr>\n",
       "  </thead>\n",
       "  <tbody>\n",
       "    <tr>\n",
       "      <th>Freeway</th>\n",
       "      <td>3,992,676.00</td>\n",
       "      <td>4,366,244.00</td>\n",
       "      <td>373,568.00</td>\n",
       "      <td>9.36%</td>\n",
       "    </tr>\n",
       "    <tr>\n",
       "      <th>Ramp</th>\n",
       "      <td>174,119.00</td>\n",
       "      <td>63,633.00</td>\n",
       "      <td>-110,486.00</td>\n",
       "      <td>-63.45%</td>\n",
       "    </tr>\n",
       "    <tr>\n",
       "      <th>Total</th>\n",
       "      <td>4,166,795.00</td>\n",
       "      <td>4,429,877.00</td>\n",
       "      <td>263,082.00</td>\n",
       "      <td>6.31%</td>\n",
       "    </tr>\n",
       "  </tbody>\n",
       "</table>\n",
       "</div>"
      ],
      "text/plain": [
       "                  observed      modeled        diff percent_diff\n",
       "@facilitytype                                                   \n",
       "Freeway       3,992,676.00 4,366,244.00  373,568.00        9.36%\n",
       "Ramp            174,119.00    63,633.00 -110,486.00      -63.45%\n",
       "Total         4,166,795.00 4,429,877.00  263,082.00        6.31%"
      ]
     },
     "execution_count": 2,
     "metadata": {},
     "output_type": "execute_result"
    }
   ],
   "source": [
    "df = pd.read_csv(os.path.join(csv_path, 'daily_volume.csv'))\n",
    "df[['modeled', 'observed']] = df[['modeled', 'observed']].astype('float')\n",
    "_df = df.groupby('@facilitytype').sum()[['observed', 'modeled']]\n",
    "_df.loc['Total', :] = _df.sum().values\n",
    "_df['diff'] = _df['modeled'] - _df['observed']\n",
    "_df['percent_diff'] = _df['diff'] / _df['observed']\n",
    "_df[['percent_diff']] = _df[['percent_diff']].applymap(format_percent)\n",
    "_df"
   ]
  },
  {
   "cell_type": "raw",
   "id": "318ed515b29396d1",
   "metadata": {},
   "source": [
    "### traffic by county"
   ]
  },
  {
   "cell_type": "code",
   "execution_count": 3,
   "id": "a9e08108f2b1ff34",
   "metadata": {
    "ExecuteTime": {
     "end_time": "2024-06-24T21:14:07.016217Z",
     "start_time": "2024-06-24T21:14:06.922235Z"
    },
    "execution": {
     "iopub.execute_input": "2024-06-24T21:55:44.713484Z",
     "iopub.status.busy": "2024-06-24T21:55:44.713484Z",
     "iopub.status.idle": "2024-06-24T21:55:44.776571Z",
     "shell.execute_reply": "2024-06-24T21:55:44.776571Z"
    }
   },
   "outputs": [
    {
     "data": {
      "text/html": [
       "<div>\n",
       "<style scoped>\n",
       "    .dataframe tbody tr th:only-of-type {\n",
       "        vertical-align: middle;\n",
       "    }\n",
       "\n",
       "    .dataframe tbody tr th {\n",
       "        vertical-align: top;\n",
       "    }\n",
       "\n",
       "    .dataframe thead th {\n",
       "        text-align: right;\n",
       "    }\n",
       "</style>\n",
       "<table border=\"1\" class=\"dataframe\">\n",
       "  <thead>\n",
       "    <tr style=\"text-align: right;\">\n",
       "      <th></th>\n",
       "      <th>observed</th>\n",
       "      <th>modeled</th>\n",
       "      <th>diff</th>\n",
       "      <th>percent_diff</th>\n",
       "    </tr>\n",
       "    <tr>\n",
       "      <th>county</th>\n",
       "      <th></th>\n",
       "      <th></th>\n",
       "      <th></th>\n",
       "      <th></th>\n",
       "    </tr>\n",
       "  </thead>\n",
       "  <tbody>\n",
       "    <tr>\n",
       "      <th>King</th>\n",
       "      <td>1,414,477.00</td>\n",
       "      <td>1,349,825.00</td>\n",
       "      <td>-64,652.00</td>\n",
       "      <td>-4.57%</td>\n",
       "    </tr>\n",
       "    <tr>\n",
       "      <th>Pierce</th>\n",
       "      <td>2,752,318.00</td>\n",
       "      <td>3,080,052.00</td>\n",
       "      <td>327,734.00</td>\n",
       "      <td>11.91%</td>\n",
       "    </tr>\n",
       "    <tr>\n",
       "      <th>Total</th>\n",
       "      <td>4,166,795.00</td>\n",
       "      <td>4,429,877.00</td>\n",
       "      <td>263,082.00</td>\n",
       "      <td>6.31%</td>\n",
       "    </tr>\n",
       "  </tbody>\n",
       "</table>\n",
       "</div>"
      ],
      "text/plain": [
       "           observed      modeled       diff percent_diff\n",
       "county                                                  \n",
       "King   1,414,477.00 1,349,825.00 -64,652.00       -4.57%\n",
       "Pierce 2,752,318.00 3,080,052.00 327,734.00       11.91%\n",
       "Total  4,166,795.00 4,429,877.00 263,082.00        6.31%"
      ]
     },
     "execution_count": 3,
     "metadata": {},
     "output_type": "execute_result"
    }
   ],
   "source": [
    "df = pd.read_csv(os.path.join(csv_path,'daily_volume_county_facility.csv'))\n",
    "df[['modeled','observed']] = df[['modeled','observed']].astype('float')\n",
    "\n",
    "_df = df.groupby('county').sum()[['observed','modeled']]\n",
    "_df.loc['Total',:] = _df.sum().values\n",
    "_df['diff'] = _df['modeled']-_df['observed']\n",
    "_df['percent_diff'] = _df['diff']/_df['observed']\n",
    "_df[['percent_diff']] = _df[['percent_diff']].applymap(format_percent)\n",
    "_df"
   ]
  },
  {
   "cell_type": "raw",
   "id": "4cbb7796cba1fac",
   "metadata": {},
   "source": [
    ":::"
   ]
  },
  {
   "cell_type": "markdown",
   "id": "1ed4a57b3001060f",
   "metadata": {},
   "source": [
    "## daily traffic scatterplot"
   ]
  },
  {
   "cell_type": "raw",
   "id": "4769a675e263f0c4",
   "metadata": {},
   "source": [
    ":::{.panel-tabset}\n",
    "\n",
    "### all roads"
   ]
  },
  {
   "cell_type": "code",
   "execution_count": 4,
   "id": "2030adc6c52f8ab9",
   "metadata": {
    "ExecuteTime": {
     "end_time": "2024-06-24T21:40:18.699723Z",
     "start_time": "2024-06-24T21:40:18.277822Z"
    },
    "execution": {
     "iopub.execute_input": "2024-06-24T21:55:44.776571Z",
     "iopub.status.busy": "2024-06-24T21:55:44.776571Z",
     "iopub.status.idle": "2024-06-24T21:55:45.353957Z",
     "shell.execute_reply": "2024-06-24T21:55:45.353957Z"
    }
   },
   "outputs": [
    {
     "data": {
      "text/plain": [
       "[<matplotlib.lines.Line2D at 0x270d9418308>]"
      ]
     },
     "execution_count": 4,
     "metadata": {},
     "output_type": "execute_result"
    },
    {
     "data": {
      "image/png": "[encoded data removed]",
      "text/plain": [
       "<Figure size 432x288 with 1 Axes>"
      ]
     },
     "metadata": {
      "needs_background": "light"
     },
     "output_type": "display_data"
    }
   ],
   "source": [
    "df = pd.read_csv(os.path.join(csv_path,'daily_volume.csv'))\n",
    "ax = df.plot(kind='scatter', x='observed', y='modeled')\n",
    "lim = df[['observed','modeled']].max().max()*1.05\n",
    "ax.set_ylim(0,lim)\n",
    "ax.set_xlim(0,lim)\n",
    "x = np.linspace(*ax.get_xlim())\n",
    "ax.plot(x, x)"
   ]
  },
  {
   "cell_type": "code",
   "execution_count": 5,
   "id": "4121d8204203b7a1",
   "metadata": {
    "ExecuteTime": {
     "end_time": "2024-06-24T21:40:35.668359Z",
     "start_time": "2024-06-24T21:40:35.652845Z"
    },
    "execution": {
     "iopub.execute_input": "2024-06-24T21:55:45.370254Z",
     "iopub.status.busy": "2024-06-24T21:55:45.369735Z",
     "iopub.status.idle": "2024-06-24T21:55:45.400891Z",
     "shell.execute_reply": "2024-06-24T21:55:45.400891Z"
    }
   },
   "outputs": [
    {
     "name": "stdout",
     "output_type": "stream",
     "text": [
      "r^2: 0.34389873330673504\n"
     ]
    }
   ],
   "source": [
    "slope, intercept, r_value, p_value, std_err = stats.linregress(df['observed'],df['modeled'])\n",
    "print('r^2: ' + str(r_value))"
   ]
  },
  {
   "cell_type": "raw",
   "id": "1cf84d74ba6e5dcb",
   "metadata": {},
   "source": [
    "### by county"
   ]
  },
  {
   "cell_type": "code",
   "execution_count": 6,
   "id": "ed6c7a6a78b76539",
   "metadata": {
    "ExecuteTime": {
     "end_time": "2024-06-24T21:41:13.949480Z",
     "start_time": "2024-06-24T21:41:13.122059Z"
    },
    "execution": {
     "iopub.execute_input": "2024-06-24T21:55:45.400891Z",
     "iopub.status.busy": "2024-06-24T21:55:45.400891Z",
     "iopub.status.idle": "2024-06-24T21:55:46.932020Z",
     "shell.execute_reply": "2024-06-24T21:55:46.932020Z"
    }
   },
   "outputs": [
    {
     "name": "stdout",
     "output_type": "stream",
     "text": [
      "King r^2: 0.07753028948052525\n",
      "Pierce r^2: 0.18788916521782933\n"
     ]
    },
    {
     "data": {
      "image/png": "[encoded data removed]",
      "text/plain": [
       "<Figure size 432x288 with 1 Axes>"
      ]
     },
     "metadata": {
      "needs_background": "light"
     },
     "output_type": "display_data"
    },
    {
     "data": {
      "image/png": "[encoded data removed]",
      "text/plain": [
       "<Figure size 432x288 with 1 Axes>"
      ]
     },
     "metadata": {
      "needs_background": "light"
     },
     "output_type": "display_data"
    }
   ],
   "source": [
    "for county in np.unique(df['county']):\n",
    "    _df = df[df['county'] == county]\n",
    "    ax = _df.plot(kind='scatter', x='observed', y='modeled', label=county)\n",
    "    lim = _df[['observed','modeled']].max().max()*1.05\n",
    "    ax.set_ylim(0,lim)\n",
    "    ax.set_xlim(0,lim)\n",
    "    slope, intercept, r_value, p_value, std_err = stats.linregress(_df['observed'],_df['modeled'])\n",
    "    x = np.linspace(*ax.get_xlim())\n",
    "    ax.plot(x, x)\n",
    "    print(str(county) + ' r^2: ' + str(r_value))"
   ]
  },
  {
   "cell_type": "raw",
   "id": "33fd1eaf4a4116cd",
   "metadata": {},
   "source": [
    "### by facility type"
   ]
  },
  {
   "cell_type": "code",
   "execution_count": 7,
   "id": "d56f85ef",
   "metadata": {},
   "outputs": [
    {
     "data": {
      "text/plain": [
       "array(['Freeway', 'Ramp'], dtype=object)"
      ]
     },
     "execution_count": 7,
     "metadata": {},
     "output_type": "execute_result"
    }
   ],
   "source": [
    "df['@facilitytype'].unique()"
   ]
  },
  {
   "cell_type": "code",
   "execution_count": 8,
   "id": "4439d4607f364b6d",
   "metadata": {
    "ExecuteTime": {
     "end_time": "2024-06-24T21:41:37.621816Z",
     "start_time": "2024-06-24T21:41:37.152840Z"
    },
    "execution": {
     "iopub.execute_input": "2024-06-24T21:55:46.947599Z",
     "iopub.status.busy": "2024-06-24T21:55:46.947599Z",
     "iopub.status.idle": "2024-06-24T21:55:47.776595Z",
     "shell.execute_reply": "2024-06-24T21:55:47.776595Z"
    }
   },
   "outputs": [
    {
     "name": "stdout",
     "output_type": "stream",
     "text": [
      "r^2 Freeway: 0.47593478729652205\n"
     ]
    },
    {
     "data": {
      "image/png": "[encoded data removed]",
      "text/plain": [
       "<Figure size 432x288 with 1 Axes>"
      ]
     },
     "metadata": {
      "needs_background": "light"
     },
     "output_type": "display_data"
    }
   ],
   "source": [
    "# for factype in ['Freeway','Arterial']:\n",
    "for factype in ['Freeway']:\n",
    "    _df = df[df['@facilitytype'] == factype]\n",
    "    ax = _df.plot(kind='scatter', x='observed', y='modeled', label=factype)\n",
    "    lim = _df[['observed','modeled']].max().max()*1.05\n",
    "    ax.set_ylim(0,lim)\n",
    "    ax.set_xlim(0,lim)\n",
    "    x = np.linspace(*ax.get_xlim())\n",
    "    ax.plot(x, x)\n",
    "    slope, intercept, r_value, p_value, std_err = stats.linregress(_df['observed'],_df['modeled'])\n",
    "    print('r^2 ' + str(factype) + ': ' + str(r_value))"
   ]
  },
  {
   "cell_type": "raw",
   "id": "95fc70f3fe7ad579",
   "metadata": {},
   "source": [
    ":::"
   ]
  },
  {
   "cell_type": "markdown",
   "id": "1efde434c8c553d0",
   "metadata": {},
   "source": [
    "## hourly volumnes"
   ]
  },
  {
   "cell_type": "code",
   "execution_count": 9,
   "id": "2c7cb227ac728135",
   "metadata": {
    "ExecuteTime": {
     "end_time": "2024-06-24T21:42:50.230565Z",
     "start_time": "2024-06-24T21:42:49.902592Z"
    },
    "execution": {
     "iopub.execute_input": "2024-06-24T21:55:47.791669Z",
     "iopub.status.busy": "2024-06-24T21:55:47.791669Z",
     "iopub.status.idle": "2024-06-24T21:55:48.385801Z",
     "shell.execute_reply": "2024-06-24T21:55:48.385801Z"
    }
   },
   "outputs": [
    {
     "name": "stdout",
     "output_type": "stream",
     "text": [
      "r^2: 0.6933683354306491\n"
     ]
    },
    {
     "data": {
      "image/png": "[encoded data removed]",
      "text/plain": [
       "<Figure size 432x288 with 1 Axes>"
      ]
     },
     "metadata": {
      "needs_background": "light"
     },
     "output_type": "display_data"
    }
   ],
   "source": [
    "df = pd.read_csv(os.path.join(csv_path,'hourly_volume.csv'))\n",
    "ax = df.plot(kind='scatter', x='observed', y='modeled')\n",
    "lim = df[['observed','modeled']].max().max()*1.05\n",
    "ax.set_ylim(0,lim)\n",
    "ax.set_xlim(0,lim)\n",
    "x = np.linspace(*ax.get_xlim())\n",
    "ax.plot(x, x)\n",
    "slope, intercept, r_value, p_value, std_err = stats.linregress(df['observed'],df['modeled'])\n",
    "print('r^2: ' + str(r_value))"
   ]
  },
  {
   "cell_type": "markdown",
   "id": "570811475e66e98d",
   "metadata": {},
   "source": [
    "## screenlines"
   ]
  },
  {
   "cell_type": "code",
   "execution_count": 10,
   "id": "6ee15d11aa23ee15",
   "metadata": {
    "ExecuteTime": {
     "end_time": "2024-06-24T21:43:33.293169Z",
     "start_time": "2024-06-24T21:43:33.194667Z"
    },
    "execution": {
     "iopub.execute_input": "2024-06-24T21:55:48.402354Z",
     "iopub.status.busy": "2024-06-24T21:55:48.402044Z",
     "iopub.status.idle": "2024-06-24T21:55:48.510823Z",
     "shell.execute_reply": "2024-06-24T21:55:48.510203Z"
    }
   },
   "outputs": [
    {
     "data": {
      "text/html": [
       "<div>\n",
       "<style scoped>\n",
       "    .dataframe tbody tr th:only-of-type {\n",
       "        vertical-align: middle;\n",
       "    }\n",
       "\n",
       "    .dataframe tbody tr th {\n",
       "        vertical-align: top;\n",
       "    }\n",
       "\n",
       "    .dataframe thead th {\n",
       "        text-align: right;\n",
       "    }\n",
       "</style>\n",
       "<table border=\"1\" class=\"dataframe\">\n",
       "  <thead>\n",
       "    <tr style=\"text-align: right;\">\n",
       "      <th></th>\n",
       "      <th>name</th>\n",
       "      <th>observed</th>\n",
       "      <th>modeled</th>\n",
       "      <th>county</th>\n",
       "      <th>diff</th>\n",
       "      <th>percent_diff</th>\n",
       "    </tr>\n",
       "  </thead>\n",
       "  <tbody>\n",
       "    <tr>\n",
       "      <th>0</th>\n",
       "      <td>AUBURN - SOUTH KING</td>\n",
       "      <td>582,116.00</td>\n",
       "      <td>537,332.78</td>\n",
       "      <td>King</td>\n",
       "      <td>-44,783.22</td>\n",
       "      <td>-7.69%</td>\n",
       "    </tr>\n",
       "    <tr>\n",
       "      <th>1</th>\n",
       "      <td>KENT</td>\n",
       "      <td>552,442.00</td>\n",
       "      <td>502,557.20</td>\n",
       "      <td>King</td>\n",
       "      <td>-49,884.80</td>\n",
       "      <td>-9.03%</td>\n",
       "    </tr>\n",
       "    <tr>\n",
       "      <th>2</th>\n",
       "      <td>SEATTLE - SOUTH OF CBD</td>\n",
       "      <td>473,322.00</td>\n",
       "      <td>504,748.49</td>\n",
       "      <td>King</td>\n",
       "      <td>31,426.49</td>\n",
       "      <td>6.64%</td>\n",
       "    </tr>\n",
       "    <tr>\n",
       "      <th>3</th>\n",
       "      <td>SHIP CANAL</td>\n",
       "      <td>434,069.00</td>\n",
       "      <td>544,942.78</td>\n",
       "      <td>King</td>\n",
       "      <td>110,873.78</td>\n",
       "      <td>25.54%</td>\n",
       "    </tr>\n",
       "    <tr>\n",
       "      <th>4</th>\n",
       "      <td>SOUTH BELLEVUE</td>\n",
       "      <td>389,700.00</td>\n",
       "      <td>377,419.03</td>\n",
       "      <td>King</td>\n",
       "      <td>-12,280.97</td>\n",
       "      <td>-3.15%</td>\n",
       "    </tr>\n",
       "    <tr>\n",
       "      <th>5</th>\n",
       "      <td>MILL CREEK</td>\n",
       "      <td>387,047.00</td>\n",
       "      <td>381,958.38</td>\n",
       "      <td>King</td>\n",
       "      <td>-5,088.62</td>\n",
       "      <td>-1.31%</td>\n",
       "    </tr>\n",
       "    <tr>\n",
       "      <th>6</th>\n",
       "      <td>KIRKLAND-REDMOND</td>\n",
       "      <td>381,663.00</td>\n",
       "      <td>408,741.93</td>\n",
       "      <td>King</td>\n",
       "      <td>27,078.93</td>\n",
       "      <td>7.09%</td>\n",
       "    </tr>\n",
       "    <tr>\n",
       "      <th>7</th>\n",
       "      <td>SEATTLE - NORTH</td>\n",
       "      <td>341,251.00</td>\n",
       "      <td>385,242.57</td>\n",
       "      <td>King</td>\n",
       "      <td>43,991.57</td>\n",
       "      <td>12.89%</td>\n",
       "    </tr>\n",
       "    <tr>\n",
       "      <th>8</th>\n",
       "      <td>TACOMA - EAST OF CBD</td>\n",
       "      <td>300,463.00</td>\n",
       "      <td>348,765.88</td>\n",
       "      <td>Pierce</td>\n",
       "      <td>48,302.88</td>\n",
       "      <td>16.08%</td>\n",
       "    </tr>\n",
       "    <tr>\n",
       "      <th>9</th>\n",
       "      <td>PARKLAND</td>\n",
       "      <td>297,722.00</td>\n",
       "      <td>278,844.18</td>\n",
       "      <td>Pierce</td>\n",
       "      <td>-18,877.82</td>\n",
       "      <td>-6.34%</td>\n",
       "    </tr>\n",
       "    <tr>\n",
       "      <th>10</th>\n",
       "      <td>BOTHELL</td>\n",
       "      <td>290,973.00</td>\n",
       "      <td>324,006.37</td>\n",
       "      <td>King</td>\n",
       "      <td>33,033.37</td>\n",
       "      <td>11.35%</td>\n",
       "    </tr>\n",
       "    <tr>\n",
       "      <th>11</th>\n",
       "      <td>LYNNWOOD-BOTHELL</td>\n",
       "      <td>259,099.00</td>\n",
       "      <td>300,207.58</td>\n",
       "      <td>King</td>\n",
       "      <td>41,108.58</td>\n",
       "      <td>15.87%</td>\n",
       "    </tr>\n",
       "    <tr>\n",
       "      <th>12</th>\n",
       "      <td>TUKWILA</td>\n",
       "      <td>257,776.00</td>\n",
       "      <td>235,955.61</td>\n",
       "      <td>King</td>\n",
       "      <td>-21,820.39</td>\n",
       "      <td>-8.46%</td>\n",
       "    </tr>\n",
       "    <tr>\n",
       "      <th>13</th>\n",
       "      <td>TRANSLAKE</td>\n",
       "      <td>220,934.00</td>\n",
       "      <td>261,545.03</td>\n",
       "      <td>King</td>\n",
       "      <td>40,611.03</td>\n",
       "      <td>18.38%</td>\n",
       "    </tr>\n",
       "    <tr>\n",
       "      <th>14</th>\n",
       "      <td>PUYALLUP</td>\n",
       "      <td>124,400.00</td>\n",
       "      <td>123,604.66</td>\n",
       "      <td>Pierce</td>\n",
       "      <td>-795.34</td>\n",
       "      <td>-0.64%</td>\n",
       "    </tr>\n",
       "    <tr>\n",
       "      <th>15</th>\n",
       "      <td>WOODINVILLE</td>\n",
       "      <td>116,355.00</td>\n",
       "      <td>146,633.60</td>\n",
       "      <td>King</td>\n",
       "      <td>30,278.60</td>\n",
       "      <td>26.02%</td>\n",
       "    </tr>\n",
       "    <tr>\n",
       "      <th>16</th>\n",
       "      <td>NORTH KITSAP</td>\n",
       "      <td>103,890.00</td>\n",
       "      <td>81,387.31</td>\n",
       "      <td>Kitsap</td>\n",
       "      <td>-22,502.69</td>\n",
       "      <td>-21.66%</td>\n",
       "    </tr>\n",
       "    <tr>\n",
       "      <th>17</th>\n",
       "      <td>TACOMA NARROWS</td>\n",
       "      <td>87,000.00</td>\n",
       "      <td>107,248.54</td>\n",
       "      <td>Pierce</td>\n",
       "      <td>20,248.54</td>\n",
       "      <td>23.27%</td>\n",
       "    </tr>\n",
       "    <tr>\n",
       "      <th>18</th>\n",
       "      <td>PRESTON-ISSAQUAH</td>\n",
       "      <td>86,462.00</td>\n",
       "      <td>89,524.75</td>\n",
       "      <td>King</td>\n",
       "      <td>3,062.75</td>\n",
       "      <td>3.54%</td>\n",
       "    </tr>\n",
       "    <tr>\n",
       "      <th>19</th>\n",
       "      <td>GIG HARBOR</td>\n",
       "      <td>76,975.00</td>\n",
       "      <td>89,772.04</td>\n",
       "      <td>Pierce</td>\n",
       "      <td>12,797.04</td>\n",
       "      <td>16.62%</td>\n",
       "    </tr>\n",
       "    <tr>\n",
       "      <th>20</th>\n",
       "      <td>SEATAC</td>\n",
       "      <td>71,402.00</td>\n",
       "      <td>90,181.74</td>\n",
       "      <td>King</td>\n",
       "      <td>18,779.74</td>\n",
       "      <td>26.30%</td>\n",
       "    </tr>\n",
       "    <tr>\n",
       "      <th>21</th>\n",
       "      <td>MAPLE VALLEY</td>\n",
       "      <td>70,813.00</td>\n",
       "      <td>65,101.78</td>\n",
       "      <td>King</td>\n",
       "      <td>-5,711.22</td>\n",
       "      <td>-8.07%</td>\n",
       "    </tr>\n",
       "    <tr>\n",
       "      <th>22</th>\n",
       "      <td>RENTON</td>\n",
       "      <td>67,127.00</td>\n",
       "      <td>71,681.62</td>\n",
       "      <td>King</td>\n",
       "      <td>4,554.62</td>\n",
       "      <td>6.79%</td>\n",
       "    </tr>\n",
       "    <tr>\n",
       "      <th>23</th>\n",
       "      <td>AGATE PASS BRIDGE</td>\n",
       "      <td>22,000.00</td>\n",
       "      <td>21,586.66</td>\n",
       "      <td>Kitsap</td>\n",
       "      <td>-413.34</td>\n",
       "      <td>-1.88%</td>\n",
       "    </tr>\n",
       "    <tr>\n",
       "      <th>24</th>\n",
       "      <td>CROSS SOUND</td>\n",
       "      <td>14,565.00</td>\n",
       "      <td>14,142.82</td>\n",
       "      <td>Kitsap</td>\n",
       "      <td>-422.18</td>\n",
       "      <td>-2.90%</td>\n",
       "    </tr>\n",
       "    <tr>\n",
       "      <th>25</th>\n",
       "      <td>TOTAL</td>\n",
       "      <td>6,009,566.00</td>\n",
       "      <td>6,293,133.31</td>\n",
       "      <td>NaN</td>\n",
       "      <td>283,567.31</td>\n",
       "      <td>4.72%</td>\n",
       "    </tr>\n",
       "  </tbody>\n",
       "</table>\n",
       "</div>"
      ],
      "text/plain": [
       "                      name     observed      modeled  county       diff  \\\n",
       "0      AUBURN - SOUTH KING   582,116.00   537,332.78    King -44,783.22   \n",
       "1                     KENT   552,442.00   502,557.20    King -49,884.80   \n",
       "2   SEATTLE - SOUTH OF CBD   473,322.00   504,748.49    King  31,426.49   \n",
       "3               SHIP CANAL   434,069.00   544,942.78    King 110,873.78   \n",
       "4           SOUTH BELLEVUE   389,700.00   377,419.03    King -12,280.97   \n",
       "5               MILL CREEK   387,047.00   381,958.38    King  -5,088.62   \n",
       "6         KIRKLAND-REDMOND   381,663.00   408,741.93    King  27,078.93   \n",
       "7          SEATTLE - NORTH   341,251.00   385,242.57    King  43,991.57   \n",
       "8     TACOMA - EAST OF CBD   300,463.00   348,765.88  Pierce  48,302.88   \n",
       "9                 PARKLAND   297,722.00   278,844.18  Pierce -18,877.82   \n",
       "10                 BOTHELL   290,973.00   324,006.37    King  33,033.37   \n",
       "11        LYNNWOOD-BOTHELL   259,099.00   300,207.58    King  41,108.58   \n",
       "12                 TUKWILA   257,776.00   235,955.61    King -21,820.39   \n",
       "13               TRANSLAKE   220,934.00   261,545.03    King  40,611.03   \n",
       "14                PUYALLUP   124,400.00   123,604.66  Pierce    -795.34   \n",
       "15             WOODINVILLE   116,355.00   146,633.60    King  30,278.60   \n",
       "16            NORTH KITSAP   103,890.00    81,387.31  Kitsap -22,502.69   \n",
       "17          TACOMA NARROWS    87,000.00   107,248.54  Pierce  20,248.54   \n",
       "18        PRESTON-ISSAQUAH    86,462.00    89,524.75    King   3,062.75   \n",
       "19              GIG HARBOR    76,975.00    89,772.04  Pierce  12,797.04   \n",
       "20                  SEATAC    71,402.00    90,181.74    King  18,779.74   \n",
       "21            MAPLE VALLEY    70,813.00    65,101.78    King  -5,711.22   \n",
       "22                  RENTON    67,127.00    71,681.62    King   4,554.62   \n",
       "23       AGATE PASS BRIDGE    22,000.00    21,586.66  Kitsap    -413.34   \n",
       "24             CROSS SOUND    14,565.00    14,142.82  Kitsap    -422.18   \n",
       "25                   TOTAL 6,009,566.00 6,293,133.31     NaN 283,567.31   \n",
       "\n",
       "   percent_diff  \n",
       "0        -7.69%  \n",
       "1        -9.03%  \n",
       "2         6.64%  \n",
       "3        25.54%  \n",
       "4        -3.15%  \n",
       "5        -1.31%  \n",
       "6         7.09%  \n",
       "7        12.89%  \n",
       "8        16.08%  \n",
       "9        -6.34%  \n",
       "10       11.35%  \n",
       "11       15.87%  \n",
       "12       -8.46%  \n",
       "13       18.38%  \n",
       "14       -0.64%  \n",
       "15       26.02%  \n",
       "16      -21.66%  \n",
       "17       23.27%  \n",
       "18        3.54%  \n",
       "19       16.62%  \n",
       "20       26.30%  \n",
       "21       -8.07%  \n",
       "22        6.79%  \n",
       "23       -1.88%  \n",
       "24       -2.90%  \n",
       "25        4.72%  "
      ]
     },
     "execution_count": 10,
     "metadata": {},
     "output_type": "execute_result"
    }
   ],
   "source": [
    "df = pd.read_csv(os.path.join(csv_path,'screenlines.csv'))\n",
    "df = df.append(df.sum(numeric_only=True), ignore_index=True)\n",
    "df.at[df.index[-1], 'name'] = 'TOTAL'\n",
    "#df.at['C', 'name'] = 10\n",
    "df['percent_diff'] = df['diff']/df['observed']\n",
    "df[['percent_diff']] = df[['percent_diff']].applymap(format_percent)\n",
    "df"
   ]
  },
  {
   "cell_type": "code",
   "execution_count": 11,
   "id": "85e33c82ecdece63",
   "metadata": {
    "ExecuteTime": {
     "end_time": "2024-06-24T21:43:47.402427Z",
     "start_time": "2024-06-24T21:43:47.214746Z"
    },
    "execution": {
     "iopub.execute_input": "2024-06-24T21:55:48.526454Z",
     "iopub.status.busy": "2024-06-24T21:55:48.510823Z",
     "iopub.status.idle": "2024-06-24T21:55:48.917265Z",
     "shell.execute_reply": "2024-06-24T21:55:48.917265Z"
    }
   },
   "outputs": [
    {
     "name": "stdout",
     "output_type": "stream",
     "text": [
      "r^2 : 0.9807959494349868\n"
     ]
    },
    {
     "data": {
      "image/png": "[encoded data removed]",
      "text/plain": [
       "<Figure size 432x288 with 1 Axes>"
      ]
     },
     "metadata": {
      "needs_background": "light"
     },
     "output_type": "display_data"
    }
   ],
   "source": [
    "df = df.head(-1)\n",
    "ax = df.plot(kind='scatter', x='observed', y='modeled')\n",
    "lim = df[['observed','modeled']].max().max()*1.05\n",
    "ax.set_ylim(0,lim)\n",
    "ax.set_xlim(0,lim)\n",
    "x = np.linspace(*ax.get_xlim())\n",
    "ax.plot(x, x)\n",
    "slope, intercept, r_value, p_value, std_err = stats.linregress(df['observed'],df['modeled'])\n",
    "print('r^2 : ' + str(r_value))"
   ]
  },
  {
   "cell_type": "code",
   "execution_count": null,
   "id": "6e3acde1",
   "metadata": {},
   "outputs": [],
   "source": []
  },
  {
   "cell_type": "code",
   "execution_count": null,
   "id": "3995fd29",
   "metadata": {},
   "outputs": [],
   "source": []
  }
 ],
 "metadata": {
  "kernelspec": {
   "display_name": "Python 3",
   "language": "python",
   "name": "python3"
  },
  "language_info": {
   "codemirror_mode": {
    "name": "ipython",
    "version": 3
   },
   "file_extension": ".py",
   "mimetype": "text/x-python",
   "name": "python",
   "nbconvert_exporter": "python",
   "pygments_lexer": "ipython3",
   "version": "3.7.10"
  }
 },
 "nbformat": 4,
 "nbformat_minor": 5
}
