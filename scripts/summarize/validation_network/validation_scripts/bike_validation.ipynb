{
 "cells": [
  {
   "cell_type": "raw",
   "metadata": {
    "vscode": {
     "languageId": "raw"
    }
   },
   "source": [
    "---\n",
    "title: \"Bike Summary\"\n",
    "date: today\n",
    "---"
   ]
  },
  {
   "cell_type": "code",
   "execution_count": 1,
   "metadata": {
    "execution": {
     "iopub.execute_input": "2025-05-01T14:38:20.429119Z",
     "iopub.status.busy": "2025-05-01T14:38:20.428541Z",
     "iopub.status.idle": "2025-05-01T14:38:22.063549Z",
     "shell.execute_reply": "2025-05-01T14:38:22.062917Z"
    }
   },
   "outputs": [],
   "source": [
    "import os\n",
    "from pathlib import Path\n",
    "import pandas as pd\n",
    "# import numpy as np\n",
    "from sqlalchemy import create_engine,text\n",
    "# from scipy import stats\n",
    "import plotly.express as px\n",
    "import toml\n",
    "import psrc_theme\n",
    "\n",
    "# %matplotlib inline\n",
    "# from IPython.display import display, HTML\n",
    "\n",
    "# to show plotly figures in quarto HTML file\n",
    "import plotly.io as pio\n",
    "pio.renderers.default = \"plotly_mimetype+notebook_connected\"\n",
    "pio.templates.default = \"simple_white+psrc_color\" # set plotly template\n",
    "\n",
    "input_config = toml.load(os.path.join(os.getcwd(), '..\\\\..\\\\..\\\\..\\\\configuration', 'input_configuration.toml'))\n",
    "valid_config = toml.load(os.path.join(os.getcwd(), '..\\\\..\\\\..\\\\..\\\\configuration', 'validation_configuration.toml'))\n",
    "# emme_config = toml.load(os.path.join(os.getcwd(), '..\\\\..\\\\..\\\\..\\\\configuration','emme_configuration.toml'))\n",
    "# network_config = toml.load(os.path.join(os.getcwd(), '..\\\\..\\\\..\\\\..\\\\configuration','network_configuration.toml'))\n",
    "\n",
    "# table format\n",
    "pd.options.display.float_format = '{:0,.0f}'.format\n",
    "format_percent = \"{:,.1%}\".format"
   ]
  },
  {
   "cell_type": "code",
   "execution_count": 2,
   "metadata": {
    "execution": {
     "iopub.execute_input": "2025-05-01T14:38:22.066548Z",
     "iopub.status.busy": "2025-05-01T14:38:22.066548Z",
     "iopub.status.idle": "2025-05-01T14:38:28.190187Z",
     "shell.execute_reply": "2025-05-01T14:38:28.189197Z"
    }
   },
   "outputs": [],
   "source": [
    "# summary data location\n",
    "df_result = pd.read_csv(Path(valid_config['model_dir']) / 'outputs/network/network_results.csv')\n",
    "\n",
    "# observed counts location\n",
    "conn = create_engine('sqlite:///../../../../inputs/db/'+input_config['db_name'])\n",
    "df_observed_bike = pd.read_sql(text(\"SELECT * FROM observed_bike_volumes\"), con=conn.connect())"
   ]
  },
  {
   "cell_type": "code",
   "execution_count": 3,
   "metadata": {
    "execution": {
     "iopub.execute_input": "2025-05-01T14:38:28.195174Z",
     "iopub.status.busy": "2025-05-01T14:38:28.195174Z",
     "iopub.status.idle": "2025-05-01T14:38:28.208003Z",
     "shell.execute_reply": "2025-05-01T14:38:28.207013Z"
    }
   },
   "outputs": [
    {
     "data": {
      "text/plain": [
       "Index(['Unnamed: 0', 'CountID', 'Counter ID', 'Jurisdiction', 'County',\n",
       "       'Agency', 'Follow Up Notes', 'Directions', 'OBJECT ID', 'PSRCEdgeID',\n",
       "       'PSRCJunctID', 'CrossStreets', 'Latitude', 'Longitude', 'Year',\n",
       "       'CountDate', 'P_1', 'P_2', 'P_3', 'P_4', 'P_D', 'B_1', 'B_2', 'B_3',\n",
       "       'B_4', 'B_D', 'P_IJ_1', 'P_IJ_2', 'P_IJ_3', 'P_IJ_4', 'P_IJ_D',\n",
       "       'B_IJ_1', 'B_IJ_2', 'B_IJ_3', 'B_IJ_4', 'B_IJ_D', 'P_JI_1', 'P_JI_2',\n",
       "       'P_JI_3', 'P_JI_4', 'P_JI_D', 'B_JI_1', 'B_JI_2', 'B_JI_3', 'B_JI_4',\n",
       "       'B_JI_D'],\n",
       "      dtype='object')"
      ]
     },
     "execution_count": 3,
     "metadata": {},
     "output_type": "execute_result"
    }
   ],
   "source": [
    "df_observed_bike.columns"
   ]
  },
  {
   "cell_type": "code",
   "execution_count": 4,
   "metadata": {
    "execution": {
     "iopub.execute_input": "2025-05-01T14:38:28.212990Z",
     "iopub.status.busy": "2025-05-01T14:38:28.211993Z",
     "iopub.status.idle": "2025-05-01T14:38:28.217407Z",
     "shell.execute_reply": "2025-05-01T14:38:28.217407Z"
    }
   },
   "outputs": [],
   "source": [
    "tod_map = {'B_IJ_1': '6to7',\n",
    "           'B_JI_1': '6to7',\n",
    "           'B_IJ_2': '7to8',\n",
    "           'B_JI_2': '7to8',\n",
    "           'B_IJ_3': '16to17',\n",
    "           'B_JI_3': '16to17',\n",
    "           'B_IJ_4': '17to18',\n",
    "           'B_JI_4': '17to18'}"
   ]
  },
  {
   "cell_type": "markdown",
   "metadata": {},
   "source": [
    "## top bike links"
   ]
  },
  {
   "cell_type": "code",
   "execution_count": 5,
   "metadata": {
    "execution": {
     "iopub.execute_input": "2025-05-01T14:38:28.222387Z",
     "iopub.status.busy": "2025-05-01T14:38:28.222387Z",
     "iopub.status.idle": "2025-05-01T14:38:28.369651Z",
     "shell.execute_reply": "2025-05-01T14:38:28.368656Z"
    }
   },
   "outputs": [
    {
     "data": {
      "text/html": [
       "<div>\n",
       "<style scoped>\n",
       "    .dataframe tbody tr th:only-of-type {\n",
       "        vertical-align: middle;\n",
       "    }\n",
       "\n",
       "    .dataframe tbody tr th {\n",
       "        vertical-align: top;\n",
       "    }\n",
       "\n",
       "    .dataframe thead th {\n",
       "        text-align: right;\n",
       "    }\n",
       "</style>\n",
       "<table border=\"1\" class=\"dataframe\">\n",
       "  <thead>\n",
       "    <tr style=\"text-align: right;\">\n",
       "      <th></th>\n",
       "      <th>tod</th>\n",
       "      <th>@countid</th>\n",
       "      <th>@bvol</th>\n",
       "    </tr>\n",
       "  </thead>\n",
       "  <tbody>\n",
       "    <tr>\n",
       "      <th>10884</th>\n",
       "      <td>17to18</td>\n",
       "      <td>0</td>\n",
       "      <td>427,010</td>\n",
       "    </tr>\n",
       "    <tr>\n",
       "      <th>8163</th>\n",
       "      <td>16to17</td>\n",
       "      <td>0</td>\n",
       "      <td>426,806</td>\n",
       "    </tr>\n",
       "    <tr>\n",
       "      <th>24491</th>\n",
       "      <td>7to8</td>\n",
       "      <td>0</td>\n",
       "      <td>364,472</td>\n",
       "    </tr>\n",
       "    <tr>\n",
       "      <th>21770</th>\n",
       "      <td>6to7</td>\n",
       "      <td>0</td>\n",
       "      <td>270,736</td>\n",
       "    </tr>\n",
       "    <tr>\n",
       "      <th>25926</th>\n",
       "      <td>7to8</td>\n",
       "      <td>2,046</td>\n",
       "      <td>425</td>\n",
       "    </tr>\n",
       "    <tr>\n",
       "      <th>26964</th>\n",
       "      <td>7to8</td>\n",
       "      <td>6,001</td>\n",
       "      <td>425</td>\n",
       "    </tr>\n",
       "    <tr>\n",
       "      <th>12319</th>\n",
       "      <td>17to18</td>\n",
       "      <td>2,046</td>\n",
       "      <td>419</td>\n",
       "    </tr>\n",
       "    <tr>\n",
       "      <th>13357</th>\n",
       "      <td>17to18</td>\n",
       "      <td>6,001</td>\n",
       "      <td>419</td>\n",
       "    </tr>\n",
       "    <tr>\n",
       "      <th>9598</th>\n",
       "      <td>16to17</td>\n",
       "      <td>2,046</td>\n",
       "      <td>397</td>\n",
       "    </tr>\n",
       "  </tbody>\n",
       "</table>\n",
       "</div>"
      ],
      "text/plain": [
       "          tod  @countid   @bvol\n",
       "10884  17to18         0 427,010\n",
       "8163   16to17         0 426,806\n",
       "24491    7to8         0 364,472\n",
       "21770    6to7         0 270,736\n",
       "25926    7to8     2,046     425\n",
       "26964    7to8     6,001     425\n",
       "12319  17to18     2,046     419\n",
       "13357  17to18     6,001     419\n",
       "9598   16to17     2,046     397"
      ]
     },
     "execution_count": 5,
     "metadata": {},
     "output_type": "execute_result"
    }
   ],
   "source": [
    "# Group both directions\n",
    "# _df = df[df['@countid'].isin(df_obs['CountID'])]\n",
    "df = df_result.groupby(['tod','@countid'])['@bvol'].sum()\n",
    "df = df.reset_index()\n",
    "result = df[df['tod'].isin(tod_map.values())].sort_values('@bvol',ascending=False)\n",
    "\n",
    "result.iloc[:9]\n"
   ]
  }
 ],
 "metadata": {
  "kernelspec": {
   "display_name": "build_notebook",
   "language": "python",
   "name": "python3"
  },
  "language_info": {
   "codemirror_mode": {
    "name": "ipython",
    "version": 3
   },
   "file_extension": ".py",
   "mimetype": "text/x-python",
   "name": "python",
   "nbconvert_exporter": "python",
   "pygments_lexer": "ipython3",
   "version": "3.11.0"
  }
 },
 "nbformat": 4,
 "nbformat_minor": 2
}
