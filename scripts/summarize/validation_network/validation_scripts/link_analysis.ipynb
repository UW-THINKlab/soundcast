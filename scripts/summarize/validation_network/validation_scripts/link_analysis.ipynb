{
 "cells": [
  {
   "cell_type": "raw",
   "id": "48597e7e80043434",
   "metadata": {},
   "source": [
    "---\n",
    "title: \"Link Light Rail Analysis\"\n",
    "date: today\n",
    "---"
   ]
  },
  {
   "cell_type": "code",
   "execution_count": 1,
   "id": "3c1a81e12086b602",
   "metadata": {
    "ExecuteTime": {
     "end_time": "2024-06-24T20:05:20.341638Z",
     "start_time": "2024-06-24T20:05:20.232835Z"
    },
    "execution": {
     "iopub.execute_input": "2024-12-14T02:38:34.166778Z",
     "iopub.status.busy": "2024-12-14T02:38:34.164783Z",
     "iopub.status.idle": "2024-12-14T02:38:39.675438Z",
     "shell.execute_reply": "2024-12-14T02:38:39.673933Z"
    }
   },
   "outputs": [],
   "source": [
    "import os\n",
    "import pandas as pd\n",
    "import numpy as np\n",
    "from sqlalchemy import create_engine,text\n",
    "from scipy import stats\n",
    "import plotly.express as px\n",
    "import toml\n",
    "import psrc_theme\n",
    "\n",
    "%matplotlib inline\n",
    "from IPython.display import display, HTML\n",
    "\n",
    "# to show plotly figures in quarto HTML file\n",
    "import plotly.io as pio\n",
    "pio.renderers.default = \"plotly_mimetype+notebook_connected\"\n",
    "pio.templates.default = \"simple_white+psrc_color\" # set plotly template\n",
    "\n",
    "input_config = toml.load(os.path.join(os.getcwd(), '..\\\\..\\\\..\\\\..\\\\configuration', 'input_configuration.toml'))\n",
    "valid_config = toml.load(os.path.join(os.getcwd(), '..\\\\..\\\\..\\\\..\\\\configuration', 'validation_configuration.toml'))\n",
    "\n",
    "# create connection\n",
    "conn = create_engine('sqlite:///../../../../inputs/db/'+input_config['db_name'])\n",
    "\n",
    "# summary data location\n",
    "csv_path = os.path.join(valid_config['model_dir'], 'outputs/validation')\n",
    "\n",
    "# table format\n",
    "pd.options.display.float_format = '{:0,.2f}'.format\n",
    "format_percent = \"{:,.2%}\".format"
   ]
  },
  {
   "cell_type": "markdown",
   "id": "168172f4",
   "metadata": {},
   "source": [
    "# Link Expansion Analysis\n",
    "Testing 2023 base year with Lynnwood extension and 2-Line connection to Seattle\n",
    "\n",
    "### Line Level Totals\n"
   ]
  },
  {
   "cell_type": "code",
   "execution_count": 2,
   "id": "88f3e746",
   "metadata": {},
   "outputs": [],
   "source": [
    "df_obs = pd.read_sql(\n",
    "    \"SELECT * FROM light_rail_station_boardings WHERE year IN (2023, 2025)\",\n",
    "    con=conn,\n",
    ")\n",
    "df_obs.rename(columns={\"boardings\": \"observed_boardings\"}, inplace=True)\n",
    "\n",
    "df_obs\n",
    "df_obs_pivot = pd.pivot_table(df_obs, values='observed_boardings', columns='year', index='station_name', aggfunc=np.sum)\n",
    "df_obs_pivot = df_obs_pivot.fillna(0)\n",
    "df_obs_pivot = df_obs_pivot.reset_index()\n",
    "_df = df_obs.loc[df_obs['year']==2025,['station_name','emme_node']]\n",
    "df_obs_pivot = df_obs_pivot.merge(_df, on=['station_name'])\n",
    "\n",
    "df = pd.read_csv(os.path.join(valid_config['model_dir'], 'outputs/transit/boardings_by_stop.csv'))\n",
    "df = df[df[\"i_node\"].isin(df_obs[\"emme_node\"])]\n",
    "df = df.merge(df_obs_pivot, left_on=\"i_node\", right_on=\"emme_node\")\n",
    "df.rename(columns={\"total_boardings\": \"Model Boardings\"}, inplace=True)\n",
    "df.index = df[\"station_name\"]\n",
    "df_total = df.copy()[[\"Model Boardings\",2023,2025, ]]\n",
    "df_total.loc[\"Total\", [\"Model Boardings\", 2023,2025]] = (\n",
    "    df[[\"Model Boardings\", 2023,2025]].sum().values\n",
    ")\n",
    "df_total\n",
    "df_total.rename(columns={2023: 'Observed Spring 2023 (Pre-Lynnwood)', 2025: 'Observed Fall 2024 (Post-Lynnwood)' }, \n",
    "               inplace=True)\n",
    "line_1_stations = [\"Lynnwood Station\",\"Mountlake Terrace Station\",\"185th St Station\",\"145th St Station\",\n",
    "                \"Northgate Station\",'Roosevelt Station','University District Station','Husky Stadium',\n",
    "              'Capitol Hill','Westlake','Symphony',\n",
    "              \"Pioneer Square\",\"Int'l District\",\n",
    "                 'Stadium','SODO','Beacon Hill','Mount Baker','Columbia City','Othello','Rainier Beach',\n",
    "                \"Tukwila Int'l Blvd\",'SeaTac/Airport','Angle Lake']\n",
    "station_list = [i for i in line_1_stations if i in df_total.index]\n",
    "df_1_line = df_total.loc[station_list]\n",
    "\n",
    "\n",
    "line_2_stations = ['South Bellevue Station','East Main Station','Bellevue Station','Wilburton Station',\n",
    "             'Spring District/120th Station','Bel-Red/130th Station','Overlake Village Station',\n",
    "             'Redmond Technology Station']\n",
    "station_list = [i for i in line_2_stations if i in df_total.index]\n",
    "if len(station_list) > 0:\n",
    "    df_2_line = df_total.loc[line_2_stations]\n",
    "else:\n",
    "    df_2_line = None"
   ]
  },
  {
   "cell_type": "code",
   "execution_count": 3,
   "id": "b4a46b97",
   "metadata": {},
   "outputs": [
    {
     "data": {
      "text/html": [
       "<div>\n",
       "<style scoped>\n",
       "    .dataframe tbody tr th:only-of-type {\n",
       "        vertical-align: middle;\n",
       "    }\n",
       "\n",
       "    .dataframe tbody tr th {\n",
       "        vertical-align: top;\n",
       "    }\n",
       "\n",
       "    .dataframe thead th {\n",
       "        text-align: right;\n",
       "    }\n",
       "</style>\n",
       "<table border=\"1\" class=\"dataframe\">\n",
       "  <thead>\n",
       "    <tr style=\"text-align: right;\">\n",
       "      <th></th>\n",
       "      <th>Model Boardings</th>\n",
       "      <th>Observed Spring 2023 (Pre-Lynnwood)</th>\n",
       "      <th>Observed Fall 2024 (Post-Lynnwood)</th>\n",
       "    </tr>\n",
       "    <tr>\n",
       "      <th>Line</th>\n",
       "      <th></th>\n",
       "      <th></th>\n",
       "      <th></th>\n",
       "    </tr>\n",
       "  </thead>\n",
       "  <tbody>\n",
       "    <tr>\n",
       "      <th>1-Line</th>\n",
       "      <td>87,497.74</td>\n",
       "      <td>79,522.00</td>\n",
       "      <td>84,250.00</td>\n",
       "    </tr>\n",
       "  </tbody>\n",
       "</table>\n",
       "</div>"
      ],
      "text/plain": [
       "        Model Boardings  Observed Spring 2023 (Pre-Lynnwood)  \\\n",
       "Line                                                           \n",
       "1-Line        87,497.74                            79,522.00   \n",
       "\n",
       "        Observed Fall 2024 (Post-Lynnwood)  \n",
       "Line                                        \n",
       "1-Line                           84,250.00  "
      ]
     },
     "execution_count": 3,
     "metadata": {},
     "output_type": "execute_result"
    }
   ],
   "source": [
    "df_total.loc[df_total.index.isin(line_1_stations),'Line'] = '1-Line'\n",
    "df_total.loc[df_total.index.isin(line_2_stations),'Line'] = '2-Line'\n",
    "df_total.groupby('Line').sum()"
   ]
  },
  {
   "cell_type": "markdown",
   "id": "89e07a7c",
   "metadata": {},
   "source": [
    "### 1-Line Lynnwood to Angle Lake"
   ]
  },
  {
   "cell_type": "code",
   "execution_count": 4,
   "id": "9144d5a0",
   "metadata": {},
   "outputs": [
    {
     "data": {
      "text/html": [
       "<div>\n",
       "<style scoped>\n",
       "    .dataframe tbody tr th:only-of-type {\n",
       "        vertical-align: middle;\n",
       "    }\n",
       "\n",
       "    .dataframe tbody tr th {\n",
       "        vertical-align: top;\n",
       "    }\n",
       "\n",
       "    .dataframe thead th {\n",
       "        text-align: right;\n",
       "    }\n",
       "</style>\n",
       "<table border=\"1\" class=\"dataframe\">\n",
       "  <thead>\n",
       "    <tr style=\"text-align: right;\">\n",
       "      <th></th>\n",
       "      <th>Model Boardings</th>\n",
       "      <th>Observed Spring 2023 (Pre-Lynnwood)</th>\n",
       "      <th>Observed Fall 2024 (Post-Lynnwood)</th>\n",
       "    </tr>\n",
       "    <tr>\n",
       "      <th>station_name</th>\n",
       "      <th></th>\n",
       "      <th></th>\n",
       "      <th></th>\n",
       "    </tr>\n",
       "  </thead>\n",
       "  <tbody>\n",
       "    <tr>\n",
       "      <th>Northgate Station</th>\n",
       "      <td>9,521.58</td>\n",
       "      <td>10,384.00</td>\n",
       "      <td>4,150.00</td>\n",
       "    </tr>\n",
       "    <tr>\n",
       "      <th>Roosevelt Station</th>\n",
       "      <td>8,257.27</td>\n",
       "      <td>4,349.00</td>\n",
       "      <td>3,693.00</td>\n",
       "    </tr>\n",
       "    <tr>\n",
       "      <th>University District Station</th>\n",
       "      <td>8,853.74</td>\n",
       "      <td>7,563.00</td>\n",
       "      <td>6,004.00</td>\n",
       "    </tr>\n",
       "    <tr>\n",
       "      <th>Husky Stadium</th>\n",
       "      <td>3,888.15</td>\n",
       "      <td>6,134.00</td>\n",
       "      <td>5,122.00</td>\n",
       "    </tr>\n",
       "    <tr>\n",
       "      <th>Capitol Hill</th>\n",
       "      <td>8,171.31</td>\n",
       "      <td>7,667.00</td>\n",
       "      <td>8,207.00</td>\n",
       "    </tr>\n",
       "    <tr>\n",
       "      <th>Westlake</th>\n",
       "      <td>11,038.67</td>\n",
       "      <td>8,845.00</td>\n",
       "      <td>10,737.00</td>\n",
       "    </tr>\n",
       "    <tr>\n",
       "      <th>Symphony</th>\n",
       "      <td>6,238.91</td>\n",
       "      <td>4,324.00</td>\n",
       "      <td>4,783.00</td>\n",
       "    </tr>\n",
       "    <tr>\n",
       "      <th>Pioneer Square</th>\n",
       "      <td>5,235.24</td>\n",
       "      <td>2,400.00</td>\n",
       "      <td>3,008.00</td>\n",
       "    </tr>\n",
       "    <tr>\n",
       "      <th>Int'l District</th>\n",
       "      <td>1,744.65</td>\n",
       "      <td>4,399.00</td>\n",
       "      <td>5,372.00</td>\n",
       "    </tr>\n",
       "    <tr>\n",
       "      <th>Stadium</th>\n",
       "      <td>528.88</td>\n",
       "      <td>1,731.00</td>\n",
       "      <td>1,813.00</td>\n",
       "    </tr>\n",
       "    <tr>\n",
       "      <th>SODO</th>\n",
       "      <td>3,400.19</td>\n",
       "      <td>1,669.00</td>\n",
       "      <td>1,899.00</td>\n",
       "    </tr>\n",
       "    <tr>\n",
       "      <th>Beacon Hill</th>\n",
       "      <td>1,473.92</td>\n",
       "      <td>2,147.00</td>\n",
       "      <td>2,672.00</td>\n",
       "    </tr>\n",
       "    <tr>\n",
       "      <th>Mount Baker</th>\n",
       "      <td>1,590.42</td>\n",
       "      <td>1,861.00</td>\n",
       "      <td>2,458.00</td>\n",
       "    </tr>\n",
       "    <tr>\n",
       "      <th>Columbia City</th>\n",
       "      <td>1,763.49</td>\n",
       "      <td>1,630.00</td>\n",
       "      <td>2,145.00</td>\n",
       "    </tr>\n",
       "    <tr>\n",
       "      <th>Othello</th>\n",
       "      <td>2,319.31</td>\n",
       "      <td>2,030.00</td>\n",
       "      <td>2,466.00</td>\n",
       "    </tr>\n",
       "    <tr>\n",
       "      <th>Rainier Beach</th>\n",
       "      <td>1,840.23</td>\n",
       "      <td>1,495.00</td>\n",
       "      <td>1,663.00</td>\n",
       "    </tr>\n",
       "    <tr>\n",
       "      <th>Tukwila Int'l Blvd</th>\n",
       "      <td>2,948.54</td>\n",
       "      <td>2,298.00</td>\n",
       "      <td>3,475.00</td>\n",
       "    </tr>\n",
       "    <tr>\n",
       "      <th>SeaTac/Airport</th>\n",
       "      <td>6,429.98</td>\n",
       "      <td>4,731.00</td>\n",
       "      <td>9,490.00</td>\n",
       "    </tr>\n",
       "    <tr>\n",
       "      <th>Angle Lake</th>\n",
       "      <td>2,253.26</td>\n",
       "      <td>3,865.00</td>\n",
       "      <td>5,093.00</td>\n",
       "    </tr>\n",
       "  </tbody>\n",
       "</table>\n",
       "</div>"
      ],
      "text/plain": [
       "                             Model Boardings  \\\n",
       "station_name                                   \n",
       "Northgate Station                   9,521.58   \n",
       "Roosevelt Station                   8,257.27   \n",
       "University District Station         8,853.74   \n",
       "Husky Stadium                       3,888.15   \n",
       "Capitol Hill                        8,171.31   \n",
       "Westlake                           11,038.67   \n",
       "Symphony                            6,238.91   \n",
       "Pioneer Square                      5,235.24   \n",
       "Int'l District                      1,744.65   \n",
       "Stadium                               528.88   \n",
       "SODO                                3,400.19   \n",
       "Beacon Hill                         1,473.92   \n",
       "Mount Baker                         1,590.42   \n",
       "Columbia City                       1,763.49   \n",
       "Othello                             2,319.31   \n",
       "Rainier Beach                       1,840.23   \n",
       "Tukwila Int'l Blvd                  2,948.54   \n",
       "SeaTac/Airport                      6,429.98   \n",
       "Angle Lake                          2,253.26   \n",
       "\n",
       "                             Observed Spring 2023 (Pre-Lynnwood)  \\\n",
       "station_name                                                       \n",
       "Northgate Station                                      10,384.00   \n",
       "Roosevelt Station                                       4,349.00   \n",
       "University District Station                             7,563.00   \n",
       "Husky Stadium                                           6,134.00   \n",
       "Capitol Hill                                            7,667.00   \n",
       "Westlake                                                8,845.00   \n",
       "Symphony                                                4,324.00   \n",
       "Pioneer Square                                          2,400.00   \n",
       "Int'l District                                          4,399.00   \n",
       "Stadium                                                 1,731.00   \n",
       "SODO                                                    1,669.00   \n",
       "Beacon Hill                                             2,147.00   \n",
       "Mount Baker                                             1,861.00   \n",
       "Columbia City                                           1,630.00   \n",
       "Othello                                                 2,030.00   \n",
       "Rainier Beach                                           1,495.00   \n",
       "Tukwila Int'l Blvd                                      2,298.00   \n",
       "SeaTac/Airport                                          4,731.00   \n",
       "Angle Lake                                              3,865.00   \n",
       "\n",
       "                             Observed Fall 2024 (Post-Lynnwood)  \n",
       "station_name                                                     \n",
       "Northgate Station                                      4,150.00  \n",
       "Roosevelt Station                                      3,693.00  \n",
       "University District Station                            6,004.00  \n",
       "Husky Stadium                                          5,122.00  \n",
       "Capitol Hill                                           8,207.00  \n",
       "Westlake                                              10,737.00  \n",
       "Symphony                                               4,783.00  \n",
       "Pioneer Square                                         3,008.00  \n",
       "Int'l District                                         5,372.00  \n",
       "Stadium                                                1,813.00  \n",
       "SODO                                                   1,899.00  \n",
       "Beacon Hill                                            2,672.00  \n",
       "Mount Baker                                            2,458.00  \n",
       "Columbia City                                          2,145.00  \n",
       "Othello                                                2,466.00  \n",
       "Rainier Beach                                          1,663.00  \n",
       "Tukwila Int'l Blvd                                     3,475.00  \n",
       "SeaTac/Airport                                         9,490.00  \n",
       "Angle Lake                                             5,093.00  "
      ]
     },
     "execution_count": 4,
     "metadata": {},
     "output_type": "execute_result"
    }
   ],
   "source": [
    "df_1_line"
   ]
  },
  {
   "cell_type": "code",
   "execution_count": 5,
   "id": "eacc29d6",
   "metadata": {},
   "outputs": [
    {
     "data": {
      "text/html": [
       "        <script type=\"text/javascript\">\n",
       "        window.PlotlyConfig = {MathJaxConfig: 'local'};\n",
       "        if (window.MathJax && window.MathJax.Hub && window.MathJax.Hub.Config) {window.MathJax.Hub.Config({SVG: {font: \"STIX-Web\"}});}\n",
       "        if (typeof require !== 'undefined') {\n",
       "        require.undef(\"plotly\");\n",
       "        requirejs.config({\n",
       "            paths: {\n",
       "                'plotly': ['https://cdn.plot.ly/plotly-2.27.0.min']\n",
       "            }\n",
       "        });\n",
       "        require(['plotly'], function(Plotly) {\n",
       "            window._Plotly = Plotly;\n",
       "        });\n",
       "        }\n",
       "        </script>\n",
       "        "
      ]
     },
     "metadata": {},
     "output_type": "display_data"
    },
    {
     "data": {
      "application/vnd.plotly.v1+json": {
       "config": {
        "plotlyServerURL": "https://plot.ly"
       },
       "data": [
        {
         "hovertemplate": "variable=Model Boardings<br>station_name=%{x}<br>value=%{y}<extra></extra>",
         "legendgroup": "Model Boardings",
         "line": {
          "color": "#91268F",
          "dash": "solid"
         },
         "marker": {
          "symbol": "circle"
         },
         "mode": "lines",
         "name": "Model Boardings",
         "orientation": "v",
         "showlegend": true,
         "type": "scatter",
         "x": [
          "Northgate Station",
          "Roosevelt Station",
          "University District Station",
          "Husky Stadium",
          "Capitol Hill",
          "Westlake",
          "Symphony",
          "Pioneer Square",
          "Int'l District",
          "Stadium",
          "SODO",
          "Beacon Hill",
          "Mount Baker",
          "Columbia City",
          "Othello",
          "Rainier Beach",
          "Tukwila Int'l Blvd",
          "SeaTac/Airport",
          "Angle Lake"
         ],
         "xaxis": "x",
         "y": [
          9521.57650756836,
          8257.269385576248,
          8853.743374347687,
          3888.1485075950623,
          8171.305262565613,
          11038.665658950806,
          6238.9112911224365,
          5235.238501548767,
          1744.6455788612366,
          528.8808837234974,
          3400.194431304932,
          1473.9200941324234,
          1590.4242177009585,
          1763.4934648275375,
          2319.3061294555664,
          1840.2343592643736,
          2948.542317867279,
          6429.977019071579,
          2253.259162902832
         ],
         "yaxis": "y"
        },
        {
         "hovertemplate": "variable=Observed Spring 2023 (Pre-Lynnwood)<br>station_name=%{x}<br>value=%{y}<extra></extra>",
         "legendgroup": "Observed Spring 2023 (Pre-Lynnwood)",
         "line": {
          "color": "#8CC63E",
          "dash": "solid"
         },
         "marker": {
          "symbol": "circle"
         },
         "mode": "lines",
         "name": "Observed Spring 2023 (Pre-Lynnwood)",
         "orientation": "v",
         "showlegend": true,
         "type": "scatter",
         "x": [
          "Northgate Station",
          "Roosevelt Station",
          "University District Station",
          "Husky Stadium",
          "Capitol Hill",
          "Westlake",
          "Symphony",
          "Pioneer Square",
          "Int'l District",
          "Stadium",
          "SODO",
          "Beacon Hill",
          "Mount Baker",
          "Columbia City",
          "Othello",
          "Rainier Beach",
          "Tukwila Int'l Blvd",
          "SeaTac/Airport",
          "Angle Lake"
         ],
         "xaxis": "x",
         "y": [
          10384.0,
          4349.0,
          7563.0,
          6134.0,
          7667.0,
          8845.0,
          4324.0,
          2400.0,
          4399.0,
          1731.0,
          1669.0,
          2147.0,
          1861.0,
          1630.0,
          2030.0,
          1495.0,
          2298.0,
          4731.0,
          3865.0
         ],
         "yaxis": "y"
        },
        {
         "hovertemplate": "variable=Observed Fall 2024 (Post-Lynnwood)<br>station_name=%{x}<br>value=%{y}<extra></extra>",
         "legendgroup": "Observed Fall 2024 (Post-Lynnwood)",
         "line": {
          "color": "#00A7A0",
          "dash": "solid"
         },
         "marker": {
          "symbol": "circle"
         },
         "mode": "lines",
         "name": "Observed Fall 2024 (Post-Lynnwood)",
         "orientation": "v",
         "showlegend": true,
         "type": "scatter",
         "x": [
          "Northgate Station",
          "Roosevelt Station",
          "University District Station",
          "Husky Stadium",
          "Capitol Hill",
          "Westlake",
          "Symphony",
          "Pioneer Square",
          "Int'l District",
          "Stadium",
          "SODO",
          "Beacon Hill",
          "Mount Baker",
          "Columbia City",
          "Othello",
          "Rainier Beach",
          "Tukwila Int'l Blvd",
          "SeaTac/Airport",
          "Angle Lake"
         ],
         "xaxis": "x",
         "y": [
          4150.0,
          3693.0,
          6004.0,
          5122.0,
          8207.0,
          10737.0,
          4783.0,
          3008.0,
          5372.0,
          1813.0,
          1899.0,
          2672.0,
          2458.0,
          2145.0,
          2466.0,
          1663.0,
          3475.0,
          9490.0,
          5093.0
         ],
         "yaxis": "y"
        }
       ],
       "layout": {
        "font": {
         "size": 11
        },
        "height": 500,
        "legend": {
         "title": {
          "text": "variable"
         },
         "tracegroupgap": 0
        },
        "margin": {
         "t": 60
        },
        "template": {
         "data": {
          "bar": [
           {
            "error_x": {
             "color": "rgb(36,36,36)"
            },
            "error_y": {
             "color": "rgb(36,36,36)"
            },
            "marker": {
             "line": {
              "color": "white",
              "width": 0.5
             },
             "pattern": {
              "fillmode": "overlay",
              "size": 10,
              "solidity": 0.2
             }
            },
            "type": "bar"
           }
          ],
          "barpolar": [
           {
            "marker": {
             "line": {
              "color": "white",
              "width": 0.5
             },
             "pattern": {
              "fillmode": "overlay",
              "size": 10,
              "solidity": 0.2
             }
            },
            "type": "barpolar"
           }
          ],
          "carpet": [
           {
            "aaxis": {
             "endlinecolor": "rgb(36,36,36)",
             "gridcolor": "white",
             "linecolor": "white",
             "minorgridcolor": "white",
             "startlinecolor": "rgb(36,36,36)"
            },
            "baxis": {
             "endlinecolor": "rgb(36,36,36)",
             "gridcolor": "white",
             "linecolor": "white",
             "minorgridcolor": "white",
             "startlinecolor": "rgb(36,36,36)"
            },
            "type": "carpet"
           }
          ],
          "choropleth": [
           {
            "colorbar": {
             "outlinewidth": 1,
             "tickcolor": "rgb(36,36,36)",
             "ticks": "outside"
            },
            "type": "choropleth"
           }
          ],
          "contour": [
           {
            "colorbar": {
             "outlinewidth": 1,
             "tickcolor": "rgb(36,36,36)",
             "ticks": "outside"
            },
            "colorscale": [
             [
              0.0,
              "#440154"
             ],
             [
              0.1111111111111111,
              "#482878"
             ],
             [
              0.2222222222222222,
              "#3e4989"
             ],
             [
              0.3333333333333333,
              "#31688e"
             ],
             [
              0.4444444444444444,
              "#26828e"
             ],
             [
              0.5555555555555556,
              "#1f9e89"
             ],
             [
              0.6666666666666666,
              "#35b779"
             ],
             [
              0.7777777777777778,
              "#6ece58"
             ],
             [
              0.8888888888888888,
              "#b5de2b"
             ],
             [
              1.0,
              "#fde725"
             ]
            ],
            "type": "contour"
           }
          ],
          "contourcarpet": [
           {
            "colorbar": {
             "outlinewidth": 1,
             "tickcolor": "rgb(36,36,36)",
             "ticks": "outside"
            },
            "type": "contourcarpet"
           }
          ],
          "heatmap": [
           {
            "colorbar": {
             "outlinewidth": 1,
             "tickcolor": "rgb(36,36,36)",
             "ticks": "outside"
            },
            "colorscale": [
             [
              0.0,
              "#440154"
             ],
             [
              0.1111111111111111,
              "#482878"
             ],
             [
              0.2222222222222222,
              "#3e4989"
             ],
             [
              0.3333333333333333,
              "#31688e"
             ],
             [
              0.4444444444444444,
              "#26828e"
             ],
             [
              0.5555555555555556,
              "#1f9e89"
             ],
             [
              0.6666666666666666,
              "#35b779"
             ],
             [
              0.7777777777777778,
              "#6ece58"
             ],
             [
              0.8888888888888888,
              "#b5de2b"
             ],
             [
              1.0,
              "#fde725"
             ]
            ],
            "type": "heatmap"
           }
          ],
          "heatmapgl": [
           {
            "colorbar": {
             "outlinewidth": 1,
             "tickcolor": "rgb(36,36,36)",
             "ticks": "outside"
            },
            "colorscale": [
             [
              0.0,
              "#440154"
             ],
             [
              0.1111111111111111,
              "#482878"
             ],
             [
              0.2222222222222222,
              "#3e4989"
             ],
             [
              0.3333333333333333,
              "#31688e"
             ],
             [
              0.4444444444444444,
              "#26828e"
             ],
             [
              0.5555555555555556,
              "#1f9e89"
             ],
             [
              0.6666666666666666,
              "#35b779"
             ],
             [
              0.7777777777777778,
              "#6ece58"
             ],
             [
              0.8888888888888888,
              "#b5de2b"
             ],
             [
              1.0,
              "#fde725"
             ]
            ],
            "type": "heatmapgl"
           }
          ],
          "histogram": [
           {
            "marker": {
             "line": {
              "color": "white",
              "width": 0.6
             }
            },
            "type": "histogram"
           }
          ],
          "histogram2d": [
           {
            "colorbar": {
             "outlinewidth": 1,
             "tickcolor": "rgb(36,36,36)",
             "ticks": "outside"
            },
            "colorscale": [
             [
              0.0,
              "#440154"
             ],
             [
              0.1111111111111111,
              "#482878"
             ],
             [
              0.2222222222222222,
              "#3e4989"
             ],
             [
              0.3333333333333333,
              "#31688e"
             ],
             [
              0.4444444444444444,
              "#26828e"
             ],
             [
              0.5555555555555556,
              "#1f9e89"
             ],
             [
              0.6666666666666666,
              "#35b779"
             ],
             [
              0.7777777777777778,
              "#6ece58"
             ],
             [
              0.8888888888888888,
              "#b5de2b"
             ],
             [
              1.0,
              "#fde725"
             ]
            ],
            "type": "histogram2d"
           }
          ],
          "histogram2dcontour": [
           {
            "colorbar": {
             "outlinewidth": 1,
             "tickcolor": "rgb(36,36,36)",
             "ticks": "outside"
            },
            "colorscale": [
             [
              0.0,
              "#440154"
             ],
             [
              0.1111111111111111,
              "#482878"
             ],
             [
              0.2222222222222222,
              "#3e4989"
             ],
             [
              0.3333333333333333,
              "#31688e"
             ],
             [
              0.4444444444444444,
              "#26828e"
             ],
             [
              0.5555555555555556,
              "#1f9e89"
             ],
             [
              0.6666666666666666,
              "#35b779"
             ],
             [
              0.7777777777777778,
              "#6ece58"
             ],
             [
              0.8888888888888888,
              "#b5de2b"
             ],
             [
              1.0,
              "#fde725"
             ]
            ],
            "type": "histogram2dcontour"
           }
          ],
          "mesh3d": [
           {
            "colorbar": {
             "outlinewidth": 1,
             "tickcolor": "rgb(36,36,36)",
             "ticks": "outside"
            },
            "type": "mesh3d"
           }
          ],
          "parcoords": [
           {
            "line": {
             "colorbar": {
              "outlinewidth": 1,
              "tickcolor": "rgb(36,36,36)",
              "ticks": "outside"
             }
            },
            "type": "parcoords"
           }
          ],
          "pie": [
           {
            "automargin": true,
            "type": "pie"
           }
          ],
          "scatter": [
           {
            "fillpattern": {
             "fillmode": "overlay",
             "size": 10,
             "solidity": 0.2
            },
            "type": "scatter"
           }
          ],
          "scatter3d": [
           {
            "line": {
             "colorbar": {
              "outlinewidth": 1,
              "tickcolor": "rgb(36,36,36)",
              "ticks": "outside"
             }
            },
            "marker": {
             "colorbar": {
              "outlinewidth": 1,
              "tickcolor": "rgb(36,36,36)",
              "ticks": "outside"
             }
            },
            "type": "scatter3d"
           }
          ],
          "scattercarpet": [
           {
            "marker": {
             "colorbar": {
              "outlinewidth": 1,
              "tickcolor": "rgb(36,36,36)",
              "ticks": "outside"
             }
            },
            "type": "scattercarpet"
           }
          ],
          "scattergeo": [
           {
            "marker": {
             "colorbar": {
              "outlinewidth": 1,
              "tickcolor": "rgb(36,36,36)",
              "ticks": "outside"
             }
            },
            "type": "scattergeo"
           }
          ],
          "scattergl": [
           {
            "marker": {
             "colorbar": {
              "outlinewidth": 1,
              "tickcolor": "rgb(36,36,36)",
              "ticks": "outside"
             }
            },
            "type": "scattergl"
           }
          ],
          "scattermapbox": [
           {
            "marker": {
             "colorbar": {
              "outlinewidth": 1,
              "tickcolor": "rgb(36,36,36)",
              "ticks": "outside"
             }
            },
            "type": "scattermapbox"
           }
          ],
          "scatterpolar": [
           {
            "marker": {
             "colorbar": {
              "outlinewidth": 1,
              "tickcolor": "rgb(36,36,36)",
              "ticks": "outside"
             }
            },
            "type": "scatterpolar"
           }
          ],
          "scatterpolargl": [
           {
            "marker": {
             "colorbar": {
              "outlinewidth": 1,
              "tickcolor": "rgb(36,36,36)",
              "ticks": "outside"
             }
            },
            "type": "scatterpolargl"
           }
          ],
          "scatterternary": [
           {
            "marker": {
             "colorbar": {
              "outlinewidth": 1,
              "tickcolor": "rgb(36,36,36)",
              "ticks": "outside"
             }
            },
            "type": "scatterternary"
           }
          ],
          "surface": [
           {
            "colorbar": {
             "outlinewidth": 1,
             "tickcolor": "rgb(36,36,36)",
             "ticks": "outside"
            },
            "colorscale": [
             [
              0.0,
              "#440154"
             ],
             [
              0.1111111111111111,
              "#482878"
             ],
             [
              0.2222222222222222,
              "#3e4989"
             ],
             [
              0.3333333333333333,
              "#31688e"
             ],
             [
              0.4444444444444444,
              "#26828e"
             ],
             [
              0.5555555555555556,
              "#1f9e89"
             ],
             [
              0.6666666666666666,
              "#35b779"
             ],
             [
              0.7777777777777778,
              "#6ece58"
             ],
             [
              0.8888888888888888,
              "#b5de2b"
             ],
             [
              1.0,
              "#fde725"
             ]
            ],
            "type": "surface"
           }
          ],
          "table": [
           {
            "cells": {
             "fill": {
              "color": "rgb(237,237,237)"
             },
             "line": {
              "color": "white"
             }
            },
            "header": {
             "fill": {
              "color": "rgb(217,217,217)"
             },
             "line": {
              "color": "white"
             }
            },
            "type": "table"
           }
          ]
         },
         "layout": {
          "annotationdefaults": {
           "arrowhead": 0,
           "arrowwidth": 1
          },
          "autotypenumbers": "strict",
          "coloraxis": {
           "colorbar": {
            "outlinewidth": 1,
            "tickcolor": "rgb(36,36,36)",
            "ticks": "outside"
           }
          },
          "colorscale": {
           "diverging": [
            [
             0.0,
             "rgb(103,0,31)"
            ],
            [
             0.1,
             "rgb(178,24,43)"
            ],
            [
             0.2,
             "rgb(214,96,77)"
            ],
            [
             0.3,
             "rgb(244,165,130)"
            ],
            [
             0.4,
             "rgb(253,219,199)"
            ],
            [
             0.5,
             "rgb(247,247,247)"
            ],
            [
             0.6,
             "rgb(209,229,240)"
            ],
            [
             0.7,
             "rgb(146,197,222)"
            ],
            [
             0.8,
             "rgb(67,147,195)"
            ],
            [
             0.9,
             "rgb(33,102,172)"
            ],
            [
             1.0,
             "rgb(5,48,97)"
            ]
           ],
           "sequential": [
            [
             0.0,
             "#440154"
            ],
            [
             0.1111111111111111,
             "#482878"
            ],
            [
             0.2222222222222222,
             "#3e4989"
            ],
            [
             0.3333333333333333,
             "#31688e"
            ],
            [
             0.4444444444444444,
             "#26828e"
            ],
            [
             0.5555555555555556,
             "#1f9e89"
            ],
            [
             0.6666666666666666,
             "#35b779"
            ],
            [
             0.7777777777777778,
             "#6ece58"
            ],
            [
             0.8888888888888888,
             "#b5de2b"
            ],
            [
             1.0,
             "#fde725"
            ]
           ],
           "sequentialminus": [
            [
             0.0,
             "#440154"
            ],
            [
             0.1111111111111111,
             "#482878"
            ],
            [
             0.2222222222222222,
             "#3e4989"
            ],
            [
             0.3333333333333333,
             "#31688e"
            ],
            [
             0.4444444444444444,
             "#26828e"
            ],
            [
             0.5555555555555556,
             "#1f9e89"
            ],
            [
             0.6666666666666666,
             "#35b779"
            ],
            [
             0.7777777777777778,
             "#6ece58"
            ],
            [
             0.8888888888888888,
             "#b5de2b"
            ],
            [
             1.0,
             "#fde725"
            ]
           ]
          },
          "colorway": [
           "#91268F",
           "#8CC63E",
           "#00A7A0",
           "#F05A28",
           "#4C4C4C",
           "#630460",
           "#9f3913",
           "#588527",
           "#00716c",
           "#3e4040"
          ],
          "font": {
           "color": "rgb(36,36,36)",
           "family": "Poppins",
           "size": 11
          },
          "geo": {
           "bgcolor": "white",
           "lakecolor": "white",
           "landcolor": "white",
           "showlakes": true,
           "showland": true,
           "subunitcolor": "white"
          },
          "hoverlabel": {
           "align": "left"
          },
          "hovermode": "closest",
          "mapbox": {
           "style": "light"
          },
          "paper_bgcolor": "white",
          "plot_bgcolor": "white",
          "polar": {
           "angularaxis": {
            "gridcolor": "rgb(232,232,232)",
            "linecolor": "rgb(36,36,36)",
            "showgrid": false,
            "showline": true,
            "ticks": "outside"
           },
           "bgcolor": "white",
           "radialaxis": {
            "gridcolor": "rgb(232,232,232)",
            "linecolor": "rgb(36,36,36)",
            "showgrid": false,
            "showline": true,
            "ticks": "outside"
           }
          },
          "scene": {
           "xaxis": {
            "backgroundcolor": "white",
            "gridcolor": "rgb(232,232,232)",
            "gridwidth": 2,
            "linecolor": "rgb(36,36,36)",
            "showbackground": true,
            "showgrid": false,
            "showline": true,
            "ticks": "outside",
            "zeroline": false,
            "zerolinecolor": "rgb(36,36,36)"
           },
           "yaxis": {
            "backgroundcolor": "white",
            "gridcolor": "rgb(232,232,232)",
            "gridwidth": 2,
            "linecolor": "rgb(36,36,36)",
            "showbackground": true,
            "showgrid": false,
            "showline": true,
            "ticks": "outside",
            "zeroline": false,
            "zerolinecolor": "rgb(36,36,36)"
           },
           "zaxis": {
            "backgroundcolor": "white",
            "gridcolor": "rgb(232,232,232)",
            "gridwidth": 2,
            "linecolor": "rgb(36,36,36)",
            "showbackground": true,
            "showgrid": false,
            "showline": true,
            "ticks": "outside",
            "zeroline": false,
            "zerolinecolor": "rgb(36,36,36)"
           }
          },
          "shapedefaults": {
           "fillcolor": "black",
           "line": {
            "width": 0
           },
           "opacity": 0.3
          },
          "ternary": {
           "aaxis": {
            "gridcolor": "rgb(232,232,232)",
            "linecolor": "rgb(36,36,36)",
            "showgrid": false,
            "showline": true,
            "ticks": "outside"
           },
           "baxis": {
            "gridcolor": "rgb(232,232,232)",
            "linecolor": "rgb(36,36,36)",
            "showgrid": false,
            "showline": true,
            "ticks": "outside"
           },
           "bgcolor": "white",
           "caxis": {
            "gridcolor": "rgb(232,232,232)",
            "linecolor": "rgb(36,36,36)",
            "showgrid": false,
            "showline": true,
            "ticks": "outside"
           }
          },
          "title": {
           "x": 0.05
          },
          "xaxis": {
           "automargin": true,
           "gridcolor": "rgb(232,232,232)",
           "linecolor": "rgb(36,36,36)",
           "showgrid": false,
           "showline": true,
           "ticks": "outside",
           "title": {
            "standoff": 15
           },
           "zeroline": false,
           "zerolinecolor": "rgb(36,36,36)"
          },
          "yaxis": {
           "automargin": true,
           "gridcolor": "rgb(232,232,232)",
           "linecolor": "rgb(36,36,36)",
           "showgrid": false,
           "showline": true,
           "ticks": "outside",
           "title": {
            "standoff": 15
           },
           "zeroline": false,
           "zerolinecolor": "rgb(36,36,36)"
          }
         }
        },
        "width": 900,
        "xaxis": {
         "anchor": "y",
         "domain": [
          0.0,
          1.0
         ],
         "title": {
          "text": "station_name"
         }
        },
        "yaxis": {
         "anchor": "x",
         "domain": [
          0.0,
          1.0
         ],
         "tickformat": ".00f",
         "title": {
          "text": "value"
         }
        }
       }
      },
      "text/html": [
       "<div>                            <div id=\"f79e057c-8446-4b82-938d-bd1a7ae95351\" class=\"plotly-graph-div\" style=\"height:500px; width:900px;\"></div>            <script type=\"text/javascript\">                require([\"plotly\"], function(Plotly) {                    window.PLOTLYENV=window.PLOTLYENV || {};                                    if (document.getElementById(\"f79e057c-8446-4b82-938d-bd1a7ae95351\")) {                    Plotly.newPlot(                        \"f79e057c-8446-4b82-938d-bd1a7ae95351\",                        [{\"hovertemplate\":\"variable=Model Boardings\\u003cbr\\u003estation_name=%{x}\\u003cbr\\u003evalue=%{y}\\u003cextra\\u003e\\u003c\\u002fextra\\u003e\",\"legendgroup\":\"Model Boardings\",\"line\":{\"color\":\"#91268F\",\"dash\":\"solid\"},\"marker\":{\"symbol\":\"circle\"},\"mode\":\"lines\",\"name\":\"Model Boardings\",\"orientation\":\"v\",\"showlegend\":true,\"x\":[\"Northgate Station\",\"Roosevelt Station\",\"University District Station\",\"Husky Stadium\",\"Capitol Hill\",\"Westlake\",\"Symphony\",\"Pioneer Square\",\"Int'l District\",\"Stadium\",\"SODO\",\"Beacon Hill\",\"Mount Baker\",\"Columbia City\",\"Othello\",\"Rainier Beach\",\"Tukwila Int'l Blvd\",\"SeaTac\\u002fAirport\",\"Angle Lake\"],\"xaxis\":\"x\",\"y\":[9521.57650756836,8257.269385576248,8853.743374347687,3888.1485075950623,8171.305262565613,11038.665658950806,6238.9112911224365,5235.238501548767,1744.6455788612366,528.8808837234974,3400.194431304932,1473.9200941324234,1590.4242177009585,1763.4934648275375,2319.3061294555664,1840.2343592643736,2948.542317867279,6429.977019071579,2253.259162902832],\"yaxis\":\"y\",\"type\":\"scatter\"},{\"hovertemplate\":\"variable=Observed Spring 2023 (Pre-Lynnwood)\\u003cbr\\u003estation_name=%{x}\\u003cbr\\u003evalue=%{y}\\u003cextra\\u003e\\u003c\\u002fextra\\u003e\",\"legendgroup\":\"Observed Spring 2023 (Pre-Lynnwood)\",\"line\":{\"color\":\"#8CC63E\",\"dash\":\"solid\"},\"marker\":{\"symbol\":\"circle\"},\"mode\":\"lines\",\"name\":\"Observed Spring 2023 (Pre-Lynnwood)\",\"orientation\":\"v\",\"showlegend\":true,\"x\":[\"Northgate Station\",\"Roosevelt Station\",\"University District Station\",\"Husky Stadium\",\"Capitol Hill\",\"Westlake\",\"Symphony\",\"Pioneer Square\",\"Int'l District\",\"Stadium\",\"SODO\",\"Beacon Hill\",\"Mount Baker\",\"Columbia City\",\"Othello\",\"Rainier Beach\",\"Tukwila Int'l Blvd\",\"SeaTac\\u002fAirport\",\"Angle Lake\"],\"xaxis\":\"x\",\"y\":[10384.0,4349.0,7563.0,6134.0,7667.0,8845.0,4324.0,2400.0,4399.0,1731.0,1669.0,2147.0,1861.0,1630.0,2030.0,1495.0,2298.0,4731.0,3865.0],\"yaxis\":\"y\",\"type\":\"scatter\"},{\"hovertemplate\":\"variable=Observed Fall 2024 (Post-Lynnwood)\\u003cbr\\u003estation_name=%{x}\\u003cbr\\u003evalue=%{y}\\u003cextra\\u003e\\u003c\\u002fextra\\u003e\",\"legendgroup\":\"Observed Fall 2024 (Post-Lynnwood)\",\"line\":{\"color\":\"#00A7A0\",\"dash\":\"solid\"},\"marker\":{\"symbol\":\"circle\"},\"mode\":\"lines\",\"name\":\"Observed Fall 2024 (Post-Lynnwood)\",\"orientation\":\"v\",\"showlegend\":true,\"x\":[\"Northgate Station\",\"Roosevelt Station\",\"University District Station\",\"Husky Stadium\",\"Capitol Hill\",\"Westlake\",\"Symphony\",\"Pioneer Square\",\"Int'l District\",\"Stadium\",\"SODO\",\"Beacon Hill\",\"Mount Baker\",\"Columbia City\",\"Othello\",\"Rainier Beach\",\"Tukwila Int'l Blvd\",\"SeaTac\\u002fAirport\",\"Angle Lake\"],\"xaxis\":\"x\",\"y\":[4150.0,3693.0,6004.0,5122.0,8207.0,10737.0,4783.0,3008.0,5372.0,1813.0,1899.0,2672.0,2458.0,2145.0,2466.0,1663.0,3475.0,9490.0,5093.0],\"yaxis\":\"y\",\"type\":\"scatter\"}],                        {\"template\":{\"data\":{\"barpolar\":[{\"marker\":{\"line\":{\"color\":\"white\",\"width\":0.5},\"pattern\":{\"fillmode\":\"overlay\",\"size\":10,\"solidity\":0.2}},\"type\":\"barpolar\"}],\"bar\":[{\"error_x\":{\"color\":\"rgb(36,36,36)\"},\"error_y\":{\"color\":\"rgb(36,36,36)\"},\"marker\":{\"line\":{\"color\":\"white\",\"width\":0.5},\"pattern\":{\"fillmode\":\"overlay\",\"size\":10,\"solidity\":0.2}},\"type\":\"bar\"}],\"carpet\":[{\"aaxis\":{\"endlinecolor\":\"rgb(36,36,36)\",\"gridcolor\":\"white\",\"linecolor\":\"white\",\"minorgridcolor\":\"white\",\"startlinecolor\":\"rgb(36,36,36)\"},\"baxis\":{\"endlinecolor\":\"rgb(36,36,36)\",\"gridcolor\":\"white\",\"linecolor\":\"white\",\"minorgridcolor\":\"white\",\"startlinecolor\":\"rgb(36,36,36)\"},\"type\":\"carpet\"}],\"choropleth\":[{\"colorbar\":{\"outlinewidth\":1,\"tickcolor\":\"rgb(36,36,36)\",\"ticks\":\"outside\"},\"type\":\"choropleth\"}],\"contourcarpet\":[{\"colorbar\":{\"outlinewidth\":1,\"tickcolor\":\"rgb(36,36,36)\",\"ticks\":\"outside\"},\"type\":\"contourcarpet\"}],\"contour\":[{\"colorbar\":{\"outlinewidth\":1,\"tickcolor\":\"rgb(36,36,36)\",\"ticks\":\"outside\"},\"colorscale\":[[0.0,\"#440154\"],[0.1111111111111111,\"#482878\"],[0.2222222222222222,\"#3e4989\"],[0.3333333333333333,\"#31688e\"],[0.4444444444444444,\"#26828e\"],[0.5555555555555556,\"#1f9e89\"],[0.6666666666666666,\"#35b779\"],[0.7777777777777778,\"#6ece58\"],[0.8888888888888888,\"#b5de2b\"],[1.0,\"#fde725\"]],\"type\":\"contour\"}],\"heatmapgl\":[{\"colorbar\":{\"outlinewidth\":1,\"tickcolor\":\"rgb(36,36,36)\",\"ticks\":\"outside\"},\"colorscale\":[[0.0,\"#440154\"],[0.1111111111111111,\"#482878\"],[0.2222222222222222,\"#3e4989\"],[0.3333333333333333,\"#31688e\"],[0.4444444444444444,\"#26828e\"],[0.5555555555555556,\"#1f9e89\"],[0.6666666666666666,\"#35b779\"],[0.7777777777777778,\"#6ece58\"],[0.8888888888888888,\"#b5de2b\"],[1.0,\"#fde725\"]],\"type\":\"heatmapgl\"}],\"heatmap\":[{\"colorbar\":{\"outlinewidth\":1,\"tickcolor\":\"rgb(36,36,36)\",\"ticks\":\"outside\"},\"colorscale\":[[0.0,\"#440154\"],[0.1111111111111111,\"#482878\"],[0.2222222222222222,\"#3e4989\"],[0.3333333333333333,\"#31688e\"],[0.4444444444444444,\"#26828e\"],[0.5555555555555556,\"#1f9e89\"],[0.6666666666666666,\"#35b779\"],[0.7777777777777778,\"#6ece58\"],[0.8888888888888888,\"#b5de2b\"],[1.0,\"#fde725\"]],\"type\":\"heatmap\"}],\"histogram2dcontour\":[{\"colorbar\":{\"outlinewidth\":1,\"tickcolor\":\"rgb(36,36,36)\",\"ticks\":\"outside\"},\"colorscale\":[[0.0,\"#440154\"],[0.1111111111111111,\"#482878\"],[0.2222222222222222,\"#3e4989\"],[0.3333333333333333,\"#31688e\"],[0.4444444444444444,\"#26828e\"],[0.5555555555555556,\"#1f9e89\"],[0.6666666666666666,\"#35b779\"],[0.7777777777777778,\"#6ece58\"],[0.8888888888888888,\"#b5de2b\"],[1.0,\"#fde725\"]],\"type\":\"histogram2dcontour\"}],\"histogram2d\":[{\"colorbar\":{\"outlinewidth\":1,\"tickcolor\":\"rgb(36,36,36)\",\"ticks\":\"outside\"},\"colorscale\":[[0.0,\"#440154\"],[0.1111111111111111,\"#482878\"],[0.2222222222222222,\"#3e4989\"],[0.3333333333333333,\"#31688e\"],[0.4444444444444444,\"#26828e\"],[0.5555555555555556,\"#1f9e89\"],[0.6666666666666666,\"#35b779\"],[0.7777777777777778,\"#6ece58\"],[0.8888888888888888,\"#b5de2b\"],[1.0,\"#fde725\"]],\"type\":\"histogram2d\"}],\"histogram\":[{\"marker\":{\"line\":{\"color\":\"white\",\"width\":0.6}},\"type\":\"histogram\"}],\"mesh3d\":[{\"colorbar\":{\"outlinewidth\":1,\"tickcolor\":\"rgb(36,36,36)\",\"ticks\":\"outside\"},\"type\":\"mesh3d\"}],\"parcoords\":[{\"line\":{\"colorbar\":{\"outlinewidth\":1,\"tickcolor\":\"rgb(36,36,36)\",\"ticks\":\"outside\"}},\"type\":\"parcoords\"}],\"pie\":[{\"automargin\":true,\"type\":\"pie\"}],\"scatter3d\":[{\"line\":{\"colorbar\":{\"outlinewidth\":1,\"tickcolor\":\"rgb(36,36,36)\",\"ticks\":\"outside\"}},\"marker\":{\"colorbar\":{\"outlinewidth\":1,\"tickcolor\":\"rgb(36,36,36)\",\"ticks\":\"outside\"}},\"type\":\"scatter3d\"}],\"scattercarpet\":[{\"marker\":{\"colorbar\":{\"outlinewidth\":1,\"tickcolor\":\"rgb(36,36,36)\",\"ticks\":\"outside\"}},\"type\":\"scattercarpet\"}],\"scattergeo\":[{\"marker\":{\"colorbar\":{\"outlinewidth\":1,\"tickcolor\":\"rgb(36,36,36)\",\"ticks\":\"outside\"}},\"type\":\"scattergeo\"}],\"scattergl\":[{\"marker\":{\"colorbar\":{\"outlinewidth\":1,\"tickcolor\":\"rgb(36,36,36)\",\"ticks\":\"outside\"}},\"type\":\"scattergl\"}],\"scattermapbox\":[{\"marker\":{\"colorbar\":{\"outlinewidth\":1,\"tickcolor\":\"rgb(36,36,36)\",\"ticks\":\"outside\"}},\"type\":\"scattermapbox\"}],\"scatterpolargl\":[{\"marker\":{\"colorbar\":{\"outlinewidth\":1,\"tickcolor\":\"rgb(36,36,36)\",\"ticks\":\"outside\"}},\"type\":\"scatterpolargl\"}],\"scatterpolar\":[{\"marker\":{\"colorbar\":{\"outlinewidth\":1,\"tickcolor\":\"rgb(36,36,36)\",\"ticks\":\"outside\"}},\"type\":\"scatterpolar\"}],\"scatter\":[{\"fillpattern\":{\"fillmode\":\"overlay\",\"size\":10,\"solidity\":0.2},\"type\":\"scatter\"}],\"scatterternary\":[{\"marker\":{\"colorbar\":{\"outlinewidth\":1,\"tickcolor\":\"rgb(36,36,36)\",\"ticks\":\"outside\"}},\"type\":\"scatterternary\"}],\"surface\":[{\"colorbar\":{\"outlinewidth\":1,\"tickcolor\":\"rgb(36,36,36)\",\"ticks\":\"outside\"},\"colorscale\":[[0.0,\"#440154\"],[0.1111111111111111,\"#482878\"],[0.2222222222222222,\"#3e4989\"],[0.3333333333333333,\"#31688e\"],[0.4444444444444444,\"#26828e\"],[0.5555555555555556,\"#1f9e89\"],[0.6666666666666666,\"#35b779\"],[0.7777777777777778,\"#6ece58\"],[0.8888888888888888,\"#b5de2b\"],[1.0,\"#fde725\"]],\"type\":\"surface\"}],\"table\":[{\"cells\":{\"fill\":{\"color\":\"rgb(237,237,237)\"},\"line\":{\"color\":\"white\"}},\"header\":{\"fill\":{\"color\":\"rgb(217,217,217)\"},\"line\":{\"color\":\"white\"}},\"type\":\"table\"}]},\"layout\":{\"annotationdefaults\":{\"arrowhead\":0,\"arrowwidth\":1},\"autotypenumbers\":\"strict\",\"coloraxis\":{\"colorbar\":{\"outlinewidth\":1,\"tickcolor\":\"rgb(36,36,36)\",\"ticks\":\"outside\"}},\"colorscale\":{\"diverging\":[[0.0,\"rgb(103,0,31)\"],[0.1,\"rgb(178,24,43)\"],[0.2,\"rgb(214,96,77)\"],[0.3,\"rgb(244,165,130)\"],[0.4,\"rgb(253,219,199)\"],[0.5,\"rgb(247,247,247)\"],[0.6,\"rgb(209,229,240)\"],[0.7,\"rgb(146,197,222)\"],[0.8,\"rgb(67,147,195)\"],[0.9,\"rgb(33,102,172)\"],[1.0,\"rgb(5,48,97)\"]],\"sequential\":[[0.0,\"#440154\"],[0.1111111111111111,\"#482878\"],[0.2222222222222222,\"#3e4989\"],[0.3333333333333333,\"#31688e\"],[0.4444444444444444,\"#26828e\"],[0.5555555555555556,\"#1f9e89\"],[0.6666666666666666,\"#35b779\"],[0.7777777777777778,\"#6ece58\"],[0.8888888888888888,\"#b5de2b\"],[1.0,\"#fde725\"]],\"sequentialminus\":[[0.0,\"#440154\"],[0.1111111111111111,\"#482878\"],[0.2222222222222222,\"#3e4989\"],[0.3333333333333333,\"#31688e\"],[0.4444444444444444,\"#26828e\"],[0.5555555555555556,\"#1f9e89\"],[0.6666666666666666,\"#35b779\"],[0.7777777777777778,\"#6ece58\"],[0.8888888888888888,\"#b5de2b\"],[1.0,\"#fde725\"]]},\"colorway\":[\"#91268F\",\"#8CC63E\",\"#00A7A0\",\"#F05A28\",\"#4C4C4C\",\"#630460\",\"#9f3913\",\"#588527\",\"#00716c\",\"#3e4040\"],\"font\":{\"color\":\"rgb(36,36,36)\",\"family\":\"Poppins\",\"size\":11},\"geo\":{\"bgcolor\":\"white\",\"lakecolor\":\"white\",\"landcolor\":\"white\",\"showlakes\":true,\"showland\":true,\"subunitcolor\":\"white\"},\"hoverlabel\":{\"align\":\"left\"},\"hovermode\":\"closest\",\"mapbox\":{\"style\":\"light\"},\"paper_bgcolor\":\"white\",\"plot_bgcolor\":\"white\",\"polar\":{\"angularaxis\":{\"gridcolor\":\"rgb(232,232,232)\",\"linecolor\":\"rgb(36,36,36)\",\"showgrid\":false,\"showline\":true,\"ticks\":\"outside\"},\"bgcolor\":\"white\",\"radialaxis\":{\"gridcolor\":\"rgb(232,232,232)\",\"linecolor\":\"rgb(36,36,36)\",\"showgrid\":false,\"showline\":true,\"ticks\":\"outside\"}},\"scene\":{\"xaxis\":{\"backgroundcolor\":\"white\",\"gridcolor\":\"rgb(232,232,232)\",\"gridwidth\":2,\"linecolor\":\"rgb(36,36,36)\",\"showbackground\":true,\"showgrid\":false,\"showline\":true,\"ticks\":\"outside\",\"zeroline\":false,\"zerolinecolor\":\"rgb(36,36,36)\"},\"yaxis\":{\"backgroundcolor\":\"white\",\"gridcolor\":\"rgb(232,232,232)\",\"gridwidth\":2,\"linecolor\":\"rgb(36,36,36)\",\"showbackground\":true,\"showgrid\":false,\"showline\":true,\"ticks\":\"outside\",\"zeroline\":false,\"zerolinecolor\":\"rgb(36,36,36)\"},\"zaxis\":{\"backgroundcolor\":\"white\",\"gridcolor\":\"rgb(232,232,232)\",\"gridwidth\":2,\"linecolor\":\"rgb(36,36,36)\",\"showbackground\":true,\"showgrid\":false,\"showline\":true,\"ticks\":\"outside\",\"zeroline\":false,\"zerolinecolor\":\"rgb(36,36,36)\"}},\"shapedefaults\":{\"fillcolor\":\"black\",\"line\":{\"width\":0},\"opacity\":0.3},\"ternary\":{\"aaxis\":{\"gridcolor\":\"rgb(232,232,232)\",\"linecolor\":\"rgb(36,36,36)\",\"showgrid\":false,\"showline\":true,\"ticks\":\"outside\"},\"baxis\":{\"gridcolor\":\"rgb(232,232,232)\",\"linecolor\":\"rgb(36,36,36)\",\"showgrid\":false,\"showline\":true,\"ticks\":\"outside\"},\"bgcolor\":\"white\",\"caxis\":{\"gridcolor\":\"rgb(232,232,232)\",\"linecolor\":\"rgb(36,36,36)\",\"showgrid\":false,\"showline\":true,\"ticks\":\"outside\"}},\"title\":{\"x\":0.05},\"xaxis\":{\"automargin\":true,\"gridcolor\":\"rgb(232,232,232)\",\"linecolor\":\"rgb(36,36,36)\",\"showgrid\":false,\"showline\":true,\"ticks\":\"outside\",\"title\":{\"standoff\":15},\"zeroline\":false,\"zerolinecolor\":\"rgb(36,36,36)\"},\"yaxis\":{\"automargin\":true,\"gridcolor\":\"rgb(232,232,232)\",\"linecolor\":\"rgb(36,36,36)\",\"showgrid\":false,\"showline\":true,\"ticks\":\"outside\",\"title\":{\"standoff\":15},\"zeroline\":false,\"zerolinecolor\":\"rgb(36,36,36)\"}}},\"xaxis\":{\"anchor\":\"y\",\"domain\":[0.0,1.0],\"title\":{\"text\":\"station_name\"}},\"yaxis\":{\"anchor\":\"x\",\"domain\":[0.0,1.0],\"title\":{\"text\":\"value\"},\"tickformat\":\".00f\"},\"legend\":{\"title\":{\"text\":\"variable\"},\"tracegroupgap\":0},\"margin\":{\"t\":60},\"font\":{\"size\":11},\"height\":500,\"width\":900},                        {\"responsive\": true}                    ).then(function(){\n",
       "                            \n",
       "var gd = document.getElementById('f79e057c-8446-4b82-938d-bd1a7ae95351');\n",
       "var x = new MutationObserver(function (mutations, observer) {{\n",
       "        var display = window.getComputedStyle(gd).display;\n",
       "        if (!display || display === 'none') {{\n",
       "            console.log([gd, 'removed!']);\n",
       "            Plotly.purge(gd);\n",
       "            observer.disconnect();\n",
       "        }}\n",
       "}});\n",
       "\n",
       "// Listen for the removal of the full notebook cells\n",
       "var notebookContainer = gd.closest('#notebook-container');\n",
       "if (notebookContainer) {{\n",
       "    x.observe(notebookContainer, {childList: true});\n",
       "}}\n",
       "\n",
       "// Listen for the clearing of the current output cell\n",
       "var outputEl = gd.closest('.output');\n",
       "if (outputEl) {{\n",
       "    x.observe(outputEl, {childList: true});\n",
       "}}\n",
       "\n",
       "                        })                };                });            </script>        </div>"
      ]
     },
     "metadata": {},
     "output_type": "display_data"
    }
   ],
   "source": [
    "fig = px.line(df_1_line)\n",
    "fig.update_layout(height=500, width=900, font=dict(size=11),\n",
    "                  yaxis_tickformat = '.00f')\n",
    "fig.show()"
   ]
  },
  {
   "cell_type": "markdown",
   "id": "fd87da64",
   "metadata": {},
   "source": [
    "### 2-Line"
   ]
  },
  {
   "cell_type": "code",
   "execution_count": 6,
   "id": "b05607c6",
   "metadata": {},
   "outputs": [],
   "source": [
    "df_2_line"
   ]
  },
  {
   "cell_type": "code",
   "execution_count": 7,
   "id": "b4f59135",
   "metadata": {},
   "outputs": [],
   "source": [
    "if df_2_line is not None:\n",
    "    fig = px.line(df_2_line)\n",
    "    fig.update_layout(height=500, width=900, font=dict(size=11),\n",
    "                    yaxis_tickformat = '.00f')\n",
    "    fig.show()"
   ]
  }
 ],
 "metadata": {
  "kernelspec": {
   "display_name": "summary",
   "language": "python",
   "name": "python3"
  },
  "language_info": {
   "codemirror_mode": {
    "name": "ipython",
    "version": 3
   },
   "file_extension": ".py",
   "mimetype": "text/x-python",
   "name": "python",
   "nbconvert_exporter": "python",
   "pygments_lexer": "ipython3",
   "version": "3.7.10"
  }
 },
 "nbformat": 4,
 "nbformat_minor": 5
}
