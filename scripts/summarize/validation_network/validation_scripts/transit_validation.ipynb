{
 "cells": [
  {
   "cell_type": "raw",
   "id": "48597e7e80043434",
   "metadata": {},
   "source": [
    "---\n",
    "title: \"Transit Summary\"\n",
    "date: today\n",
    "---"
   ]
  },
  {
   "cell_type": "code",
   "execution_count": 1,
   "id": "3c1a81e12086b602",
   "metadata": {
    "ExecuteTime": {
     "end_time": "2024-06-24T20:05:20.341638Z",
     "start_time": "2024-06-24T20:05:20.232835Z"
    },
    "execution": {
     "iopub.execute_input": "2024-12-14T02:38:34.166778Z",
     "iopub.status.busy": "2024-12-14T02:38:34.164783Z",
     "iopub.status.idle": "2024-12-14T02:38:39.675438Z",
     "shell.execute_reply": "2024-12-14T02:38:39.673933Z"
    }
   },
   "outputs": [
    {
     "name": "stderr",
     "output_type": "stream",
     "text": [
      "C:\\Users\\Modeller\\AppData\\Local\\anaconda3\\envs\\summary\\lib\\site-packages\\geopandas\\_compat.py:115: UserWarning: The Shapely GEOS version (3.8.0-CAPI-1.13.1 ) is incompatible with the GEOS version PyGEOS was compiled with (3.10.4-CAPI-1.16.2). Conversions between both will be slow.\n",
      "  shapely_geos_version, geos_capi_version_string\n"
     ]
    }
   ],
   "source": [
    "import os\n",
    "import pandas as pd\n",
    "import numpy as np\n",
    "from sqlalchemy import create_engine,text\n",
    "from scipy import stats\n",
    "import plotly.express as px\n",
    "import toml\n",
    "import psrc_theme\n",
    "import geopandas as gpd\n",
    "import plotly.express as px\n",
    "import plotly.graph_objects as go\n",
    "\n",
    "%matplotlib inline\n",
    "from IPython.display import display, HTML\n",
    "\n",
    "# to show plotly figures in quarto HTML file\n",
    "import plotly.io as pio\n",
    "pio.renderers.default = \"plotly_mimetype+notebook_connected\"\n",
    "pio.templates.default = \"simple_white+psrc_color\" # set plotly template\n",
    "\n",
    "input_config = toml.load(os.path.join(os.getcwd(), '..\\\\..\\\\..\\\\..\\\\configuration', 'input_configuration.toml'))\n",
    "valid_config = toml.load(os.path.join(os.getcwd(), '..\\\\..\\\\..\\\\..\\\\configuration', 'validation_configuration.toml'))\n",
    "summary_config = toml.load(os.path.join(os.getcwd(), '..\\\\..\\\\..\\\\..\\\\configuration', 'summary_configuration.toml'))\n",
    "\n",
    "# create connection\n",
    "conn = create_engine('sqlite:///../../../../inputs/db/'+input_config['db_name'])\n",
    "# summary data location\n",
    "csv_path = os.path.join(valid_config['model_dir'], 'outputs/validation')\n",
    "\n",
    "# table format\n",
    "pd.options.display.float_format = '{:0,.2f}'.format\n",
    "format_percent = \"{:,.2%}\".format"
   ]
  },
  {
   "cell_type": "markdown",
   "id": "b00095bdf12d94c3",
   "metadata": {},
   "source": [
    "## transit boarding"
   ]
  },
  {
   "cell_type": "markdown",
   "id": "5580f8d3",
   "metadata": {},
   "source": [
    "### boarding by mode"
   ]
  },
  {
   "cell_type": "raw",
   "id": "62368037",
   "metadata": {
    "vscode": {
     "languageId": "raw"
    }
   },
   "source": [
    ":::{.panel-tabset}\n",
    "#### 2023"
   ]
  },
  {
   "cell_type": "code",
   "execution_count": 2,
   "id": "2abbfecf",
   "metadata": {},
   "outputs": [],
   "source": [
    "# Process 2024 observed data\n",
    "df_obs = pd.read_sql(text(\"SELECT * FROM observed_transit_boardings\"), con=conn.connect())\n",
    "\n",
    "df_obs[\"route_id\"] = df_obs[\"route_id\"].astype(\"int\")\n",
    "\n",
    "df_obs = df_obs[df_obs['year'].isin([2023,2024])]\n",
    "\n",
    "df_obs = pd.pivot_table(df_obs, index='route_id', values='observed_daily', columns='year', aggfunc='sum')\n",
    "df_obs = df_obs.reset_index()\n",
    "\n"
   ]
  },
  {
   "cell_type": "code",
   "execution_count": 3,
   "id": "ab22ff71",
   "metadata": {},
   "outputs": [],
   "source": [
    "\n",
    "# Load model results and calculate modeled daily boarding by line\n",
    "df_transit_line = pd.read_csv(os.path.join(valid_config['model_dir'], 'outputs/transit/transit_line_results.csv'))\n",
    "df_model = df_transit_line.copy()\n",
    "df_model_daily = (\n",
    "    df_model.groupby([\"route_code\", \"mode\",'agency_code'])\n",
    "    .agg({\"description\": \"first\", \"boardings\": \"sum\"})\n",
    "    .reset_index()\n",
    ")\n",
    "\n",
    "# Merge modeled with observed boarding data\n",
    "df_model_daily[\"route_code\"] = df_model_daily[\"route_code\"].astype(\"int\")\n",
    "df = df_model_daily.merge(\n",
    "    df_obs, left_on=\"route_code\", right_on=\"route_id\", how=\"left\"\n",
    ")\n",
    "# df.rename(\n",
    "#     columns={\n",
    "#         \"boardings\": \"model_boardings\",\n",
    "#         \"observed_daily\": \"observed_boardings\",\n",
    "#     },\n",
    "#     inplace=True,\n",
    "# )\n",
    "# df[\"diff\"] = df[\"model_boardings\"] - df[\"observed_boardings\"]\n",
    "# df[\"perc_diff\"] = df[\"diff\"] / df[\"observed_boardings\"]\n",
    "# df[[\"model_boardings\", \"observed_boardings\"]] = df[\n",
    "#     [\"model_boardings\", \"observed_boardings\"]\n",
    "# ].fillna(-1)\n",
    "\n",
    "df.rename(\n",
    "    columns={\n",
    "        \"boardings\": \"Model\",\n",
    "        2023: \"2023 Spring Observed\",\n",
    "        2024: \"2024 Spring Observed\",\n",
    "    },\n",
    "    inplace=True,\n",
    ")\n",
    "\n",
    "\n",
    "df['agency'] = df['agency_code'].astype('int').astype('str').map(summary_config['agency_lookup'])\n",
    "df_line_boardings_23_24 = df.copy()"
   ]
  },
  {
   "cell_type": "code",
   "execution_count": 4,
   "id": "0fa5b4c7",
   "metadata": {
    "execution": {
     "iopub.execute_input": "2024-12-14T02:38:39.688403Z",
     "iopub.status.busy": "2024-12-14T02:38:39.686408Z",
     "iopub.status.idle": "2024-12-14T02:38:39.797541Z",
     "shell.execute_reply": "2024-12-14T02:38:39.796037Z"
    }
   },
   "outputs": [
    {
     "data": {
      "text/html": [
       "<div>\n",
       "<style scoped>\n",
       "    .dataframe tbody tr th:only-of-type {\n",
       "        vertical-align: middle;\n",
       "    }\n",
       "\n",
       "    .dataframe tbody tr th {\n",
       "        vertical-align: top;\n",
       "    }\n",
       "\n",
       "    .dataframe thead th {\n",
       "        text-align: right;\n",
       "    }\n",
       "</style>\n",
       "<table border=\"1\" class=\"dataframe\">\n",
       "  <thead>\n",
       "    <tr style=\"text-align: right;\">\n",
       "      <th></th>\n",
       "      <th>index</th>\n",
       "      <th>mode</th>\n",
       "      <th>observed_boardings</th>\n",
       "      <th>model_boardings</th>\n",
       "      <th>diff</th>\n",
       "      <th>perc_diff</th>\n",
       "    </tr>\n",
       "  </thead>\n",
       "  <tbody>\n",
       "    <tr>\n",
       "      <th>0</th>\n",
       "      <td>0</td>\n",
       "      <td>b</td>\n",
       "      <td>332,481.24</td>\n",
       "      <td>370,606.03</td>\n",
       "      <td>38,124.79</td>\n",
       "      <td>11.47%</td>\n",
       "    </tr>\n",
       "    <tr>\n",
       "      <th>1</th>\n",
       "      <td>4</td>\n",
       "      <td>r</td>\n",
       "      <td>80,839.00</td>\n",
       "      <td>94,023.85</td>\n",
       "      <td>13,184.85</td>\n",
       "      <td>16.31%</td>\n",
       "    </tr>\n",
       "    <tr>\n",
       "      <th>2</th>\n",
       "      <td>2</td>\n",
       "      <td>f</td>\n",
       "      <td>9,907.00</td>\n",
       "      <td>8,779.18</td>\n",
       "      <td>-1,127.82</td>\n",
       "      <td>-11.38%</td>\n",
       "    </tr>\n",
       "    <tr>\n",
       "      <th>3</th>\n",
       "      <td>1</td>\n",
       "      <td>c</td>\n",
       "      <td>6,354.00</td>\n",
       "      <td>6,394.80</td>\n",
       "      <td>40.80</td>\n",
       "      <td>0.64%</td>\n",
       "    </tr>\n",
       "    <tr>\n",
       "      <th>4</th>\n",
       "      <td>3</td>\n",
       "      <td>p</td>\n",
       "      <td>2,950.00</td>\n",
       "      <td>4,152.21</td>\n",
       "      <td>1,202.21</td>\n",
       "      <td>40.75%</td>\n",
       "    </tr>\n",
       "    <tr>\n",
       "      <th>5</th>\n",
       "      <td>Total</td>\n",
       "      <td>Total</td>\n",
       "      <td>432,531.24</td>\n",
       "      <td>483,956.07</td>\n",
       "      <td>51,424.83</td>\n",
       "      <td>11.89%</td>\n",
       "    </tr>\n",
       "  </tbody>\n",
       "</table>\n",
       "</div>"
      ],
      "text/plain": [
       "   index   mode  observed_boardings  model_boardings      diff perc_diff\n",
       "0      0      b          332,481.24       370,606.03 38,124.79    11.47%\n",
       "1      4      r           80,839.00        94,023.85 13,184.85    16.31%\n",
       "2      2      f            9,907.00         8,779.18 -1,127.82   -11.38%\n",
       "3      1      c            6,354.00         6,394.80     40.80     0.64%\n",
       "4      3      p            2,950.00         4,152.21  1,202.21    40.75%\n",
       "5  Total  Total          432,531.24       483,956.07 51,424.83    11.89%"
      ]
     },
     "execution_count": 4,
     "metadata": {},
     "output_type": "execute_result"
    }
   ],
   "source": [
    "df = pd.read_csv(os.path.join(csv_path, 'daily_boardings_by_mode.csv')).sort_values('observed_boardings', ascending=False)\n",
    "table_df = df.copy()\n",
    "\n",
    "table_df.loc['Total','observed_boardings'] = table_df['observed_boardings'].sum(axis=0)\n",
    "table_df.loc['Total','model_boardings'] = table_df['model_boardings'].sum(axis=0)\n",
    "table_df.loc['Total','mode'] = 'Total'\n",
    "table_df['diff'] = table_df['model_boardings']-table_df['observed_boardings']\n",
    "table_df['perc_diff'] = table_df['diff']/table_df['observed_boardings']\n",
    "table_df[['observed_boardings','model_boardings','diff']] = table_df[['observed_boardings','model_boardings','diff']].astype('float')\n",
    "table_df[['perc_diff']] = table_df[['perc_diff']].applymap(format_percent)\n",
    "table_df = table_df.reset_index()\n",
    "table_df"
   ]
  },
  {
   "cell_type": "raw",
   "id": "0a51c67a",
   "metadata": {
    "vscode": {
     "languageId": "raw"
    }
   },
   "source": [
    "#### 2023/2024 Link Red Line and Sounder"
   ]
  },
  {
   "cell_type": "code",
   "execution_count": 5,
   "id": "108fbc11",
   "metadata": {
    "execution": {
     "iopub.execute_input": "2024-12-14T02:38:39.809509Z",
     "iopub.status.busy": "2024-12-14T02:38:39.808512Z",
     "iopub.status.idle": "2024-12-14T02:38:39.939511Z",
     "shell.execute_reply": "2024-12-14T02:38:39.936874Z"
    }
   },
   "outputs": [
    {
     "data": {
      "text/html": [
       "<div>\n",
       "<style scoped>\n",
       "    .dataframe tbody tr th:only-of-type {\n",
       "        vertical-align: middle;\n",
       "    }\n",
       "\n",
       "    .dataframe tbody tr th {\n",
       "        vertical-align: top;\n",
       "    }\n",
       "\n",
       "    .dataframe thead th {\n",
       "        text-align: right;\n",
       "    }\n",
       "</style>\n",
       "<table border=\"1\" class=\"dataframe\">\n",
       "  <thead>\n",
       "    <tr style=\"text-align: right;\">\n",
       "      <th></th>\n",
       "      <th>submode</th>\n",
       "      <th>2023 boarding</th>\n",
       "      <th>2024 boarding</th>\n",
       "      <th>model_boardings</th>\n",
       "      <th>2023 % diff</th>\n",
       "      <th>2024 % diff</th>\n",
       "    </tr>\n",
       "  </thead>\n",
       "  <tbody>\n",
       "    <tr>\n",
       "      <th>0</th>\n",
       "      <td>Link Red Line</td>\n",
       "      <td>78,765.00</td>\n",
       "      <td>91,203.00</td>\n",
       "      <td>90,164.78</td>\n",
       "      <td>14.47%</td>\n",
       "      <td>-1.14%</td>\n",
       "    </tr>\n",
       "    <tr>\n",
       "      <th>1</th>\n",
       "      <td>Sounder</td>\n",
       "      <td>6,765.00</td>\n",
       "      <td>7,711.00</td>\n",
       "      <td>6,394.80</td>\n",
       "      <td>-5.47%</td>\n",
       "      <td>-17.07%</td>\n",
       "    </tr>\n",
       "  </tbody>\n",
       "</table>\n",
       "</div>"
      ],
      "text/plain": [
       "         submode  2023 boarding  2024 boarding  model_boardings 2023 % diff  \\\n",
       "0  Link Red Line      78,765.00      91,203.00        90,164.78      14.47%   \n",
       "1        Sounder       6,765.00       7,711.00         6,394.80      -5.47%   \n",
       "\n",
       "  2024 % diff  \n",
       "0      -1.14%  \n",
       "1     -17.07%  "
      ]
     },
     "execution_count": 5,
     "metadata": {},
     "output_type": "execute_result"
    }
   ],
   "source": [
    "df_boarding_line = pd.read_csv(os.path.join(csv_path,'daily_boardings_by_line.csv'), index_col='description')\n",
    "df_boarding_line[['observed_boardings','model_boardings']] = df_boarding_line[['observed_boardings','model_boardings']].astype('float')\n",
    "\n",
    "df_mode = df_boarding_line[df_boarding_line['route_code'].isin([6996,6999,6998])].reset_index()\n",
    "\n",
    "df_mode['submode'] = df_mode['mode'].map({\"r\": \"Link Red Line\", \"c\": \"Sounder\"})\n",
    "df_mode = df_mode[['submode','model_boardings']].copy()\n",
    "df_mode = df_mode.groupby('submode')['model_boardings'].sum().reset_index()\n",
    "\n",
    "df_obs = pd.read_sql(text(\"SELECT * FROM observed_transit_agency_boardings\"), con=conn.connect())\n",
    "df_obs_mode = df_obs.copy()\n",
    "df_obs_mode['boardings'] = df_obs_mode['boardings'].astype(float)\n",
    "df_obs_mode = df_obs_mode[df_obs_mode['submode'].isin([\"Link\",\"Sounder\"])].copy()\n",
    "df_obs_mode['submode'] = df_obs_mode['submode'].map({\"Link\": \"Link Red Line\", \"Sounder\": \"Sounder\"})\n",
    "\n",
    "df_obs_mode = df_obs_mode.groupby(['submode','year'])['boardings'].sum().unstack().reset_index()\n",
    "df_obs_mode = df_obs_mode.rename(columns={2023:'2023 boarding', 2024:'2024 boarding'})\n",
    "df_mode = df_obs_mode.merge(df_mode, on='submode')\n",
    "\n",
    "df_mode['2023 % diff'] = (df_mode['model_boardings']-df_mode['2023 boarding'])/df_mode['2023 boarding']\n",
    "df_mode['2024 % diff'] = (df_mode['model_boardings']-df_mode['2024 boarding'])/df_mode['2024 boarding']\n",
    "df_mode[['2023 % diff']] = df_mode[['2023 % diff']].applymap(format_percent)\n",
    "df_mode[['2024 % diff']] = df_mode[['2024 % diff']].applymap(format_percent)\n",
    "\n",
    "df_mode"
   ]
  },
  {
   "cell_type": "raw",
   "id": "119f4510",
   "metadata": {
    "vscode": {
     "languageId": "raw"
    }
   },
   "source": [
    ":::"
   ]
  },
  {
   "cell_type": "markdown",
   "id": "b0eb0b3986c9d024",
   "metadata": {},
   "source": [
    "### boarding by agency"
   ]
  },
  {
   "cell_type": "raw",
   "id": "9afc046d",
   "metadata": {
    "vscode": {
     "languageId": "raw"
    }
   },
   "source": [
    ":::{.panel-tabset}\n",
    "\n",
    "#### 2023"
   ]
  },
  {
   "cell_type": "code",
   "execution_count": 6,
   "id": "daca8798e4e1c396",
   "metadata": {
    "ExecuteTime": {
     "end_time": "2024-06-24T20:04:29.076584Z",
     "start_time": "2024-06-24T20:04:29.029595Z"
    },
    "execution": {
     "iopub.execute_input": "2024-12-14T02:38:39.952038Z",
     "iopub.status.busy": "2024-12-14T02:38:39.950043Z",
     "iopub.status.idle": "2024-12-14T02:38:40.002253Z",
     "shell.execute_reply": "2024-12-14T02:38:39.999910Z"
    }
   },
   "outputs": [],
   "source": [
    "df = pd.read_csv(os.path.join(csv_path, 'daily_boardings_by_agency.csv')).sort_values('observed_boardings', ascending=False)\n",
    "plot_df = df.melt(id_vars=['agency'], value_vars=['observed_boardings', 'model_boardings'],\n",
    "                  var_name='source', value_name='count')"
   ]
  },
  {
   "cell_type": "code",
   "execution_count": 7,
   "id": "4f0d5527b7528301",
   "metadata": {
    "ExecuteTime": {
     "end_time": "2024-06-24T20:05:24.997972Z",
     "start_time": "2024-06-24T20:05:24.956972Z"
    },
    "execution": {
     "iopub.execute_input": "2024-12-14T02:38:40.013704Z",
     "iopub.status.busy": "2024-12-14T02:38:40.011713Z",
     "iopub.status.idle": "2024-12-14T02:38:40.079147Z",
     "shell.execute_reply": "2024-12-14T02:38:40.077153Z"
    }
   },
   "outputs": [
    {
     "data": {
      "text/html": [
       "<div>\n",
       "<style scoped>\n",
       "    .dataframe tbody tr th:only-of-type {\n",
       "        vertical-align: middle;\n",
       "    }\n",
       "\n",
       "    .dataframe tbody tr th {\n",
       "        vertical-align: top;\n",
       "    }\n",
       "\n",
       "    .dataframe thead th {\n",
       "        text-align: right;\n",
       "    }\n",
       "</style>\n",
       "<table border=\"1\" class=\"dataframe\">\n",
       "  <thead>\n",
       "    <tr style=\"text-align: right;\">\n",
       "      <th></th>\n",
       "      <th>index</th>\n",
       "      <th>agency</th>\n",
       "      <th>observed_boardings</th>\n",
       "      <th>model_boardings</th>\n",
       "      <th>diff</th>\n",
       "      <th>perc_diff</th>\n",
       "    </tr>\n",
       "  </thead>\n",
       "  <tbody>\n",
       "    <tr>\n",
       "      <th>0</th>\n",
       "      <td>2</td>\n",
       "      <td>King County Metro</td>\n",
       "      <td>254,568.00</td>\n",
       "      <td>277,845.44</td>\n",
       "      <td>23,277.44</td>\n",
       "      <td>9.14%</td>\n",
       "    </tr>\n",
       "    <tr>\n",
       "      <th>1</th>\n",
       "      <td>5</td>\n",
       "      <td>Sound Transit</td>\n",
       "      <td>115,114.00</td>\n",
       "      <td>141,469.32</td>\n",
       "      <td>26,355.32</td>\n",
       "      <td>22.89%</td>\n",
       "    </tr>\n",
       "    <tr>\n",
       "      <th>2</th>\n",
       "      <td>0</td>\n",
       "      <td>Community Transit</td>\n",
       "      <td>21,752.24</td>\n",
       "      <td>27,087.20</td>\n",
       "      <td>5,334.96</td>\n",
       "      <td>24.53%</td>\n",
       "    </tr>\n",
       "    <tr>\n",
       "      <th>3</th>\n",
       "      <td>4</td>\n",
       "      <td>Pierce Transit</td>\n",
       "      <td>21,185.00</td>\n",
       "      <td>16,248.27</td>\n",
       "      <td>-4,936.73</td>\n",
       "      <td>-23.30%</td>\n",
       "    </tr>\n",
       "    <tr>\n",
       "      <th>4</th>\n",
       "      <td>6</td>\n",
       "      <td>Washington Ferries</td>\n",
       "      <td>7,883.00</td>\n",
       "      <td>6,229.20</td>\n",
       "      <td>-1,653.80</td>\n",
       "      <td>-20.98%</td>\n",
       "    </tr>\n",
       "    <tr>\n",
       "      <th>5</th>\n",
       "      <td>3</td>\n",
       "      <td>Kitsap Transit</td>\n",
       "      <td>7,829.00</td>\n",
       "      <td>10,549.44</td>\n",
       "      <td>2,720.44</td>\n",
       "      <td>34.75%</td>\n",
       "    </tr>\n",
       "    <tr>\n",
       "      <th>6</th>\n",
       "      <td>1</td>\n",
       "      <td>Everett Transit</td>\n",
       "      <td>4,201.00</td>\n",
       "      <td>4,509.81</td>\n",
       "      <td>308.81</td>\n",
       "      <td>7.35%</td>\n",
       "    </tr>\n",
       "    <tr>\n",
       "      <th>7</th>\n",
       "      <td>Total</td>\n",
       "      <td>Total</td>\n",
       "      <td>432,532.24</td>\n",
       "      <td>483,938.70</td>\n",
       "      <td>51,406.46</td>\n",
       "      <td>11.89%</td>\n",
       "    </tr>\n",
       "  </tbody>\n",
       "</table>\n",
       "</div>"
      ],
      "text/plain": [
       "   index              agency  observed_boardings  model_boardings      diff  \\\n",
       "0      2   King County Metro          254,568.00       277,845.44 23,277.44   \n",
       "1      5       Sound Transit          115,114.00       141,469.32 26,355.32   \n",
       "2      0   Community Transit           21,752.24        27,087.20  5,334.96   \n",
       "3      4      Pierce Transit           21,185.00        16,248.27 -4,936.73   \n",
       "4      6  Washington Ferries            7,883.00         6,229.20 -1,653.80   \n",
       "5      3      Kitsap Transit            7,829.00        10,549.44  2,720.44   \n",
       "6      1     Everett Transit            4,201.00         4,509.81    308.81   \n",
       "7  Total               Total          432,532.24       483,938.70 51,406.46   \n",
       "\n",
       "  perc_diff  \n",
       "0     9.14%  \n",
       "1    22.89%  \n",
       "2    24.53%  \n",
       "3   -23.30%  \n",
       "4   -20.98%  \n",
       "5    34.75%  \n",
       "6     7.35%  \n",
       "7    11.89%  "
      ]
     },
     "execution_count": 7,
     "metadata": {},
     "output_type": "execute_result"
    }
   ],
   "source": [
    "table_df = df.copy()\n",
    "\n",
    "table_df.loc['Total','observed_boardings'] = table_df.sum(axis=0).observed_boardings\n",
    "table_df.loc['Total','model_boardings'] = table_df.sum(axis=0).model_boardings\n",
    "table_df.loc['Total','agency'] = 'Total'\n",
    "table_df['diff'] = table_df['model_boardings']-table_df['observed_boardings']\n",
    "table_df['perc_diff'] = table_df['diff']/table_df['observed_boardings']\n",
    "table_df[['observed_boardings','model_boardings','diff']] = table_df[['observed_boardings','model_boardings','diff']].astype('float')\n",
    "table_df[['perc_diff']] = table_df[['perc_diff']].applymap(format_percent)\n",
    "table_df = table_df.reset_index()\n",
    "table_df"
   ]
  },
  {
   "cell_type": "raw",
   "id": "c43063a0",
   "metadata": {
    "vscode": {
     "languageId": "raw"
    }
   },
   "source": [
    "#### 2023/2024"
   ]
  },
  {
   "cell_type": "code",
   "execution_count": 8,
   "id": "6df663cd30d914ea",
   "metadata": {
    "ExecuteTime": {
     "end_time": "2024-06-24T17:50:27.521549Z",
     "start_time": "2024-06-24T17:50:27.349538Z"
    },
    "execution": {
     "iopub.execute_input": "2024-12-14T02:38:40.091115Z",
     "iopub.status.busy": "2024-12-14T02:38:40.090118Z",
     "iopub.status.idle": "2024-12-14T02:38:40.156559Z",
     "shell.execute_reply": "2024-12-14T02:38:40.154564Z"
    }
   },
   "outputs": [
    {
     "data": {
      "text/html": [
       "<div>\n",
       "<style scoped>\n",
       "    .dataframe tbody tr th:only-of-type {\n",
       "        vertical-align: middle;\n",
       "    }\n",
       "\n",
       "    .dataframe tbody tr th {\n",
       "        vertical-align: top;\n",
       "    }\n",
       "\n",
       "    .dataframe thead th {\n",
       "        text-align: right;\n",
       "    }\n",
       "</style>\n",
       "<table border=\"1\" class=\"dataframe\">\n",
       "  <thead>\n",
       "    <tr style=\"text-align: right;\">\n",
       "      <th></th>\n",
       "      <th>agency</th>\n",
       "      <th>2023 boarding</th>\n",
       "      <th>2024 boarding</th>\n",
       "      <th>model_boardings</th>\n",
       "      <th>2023 % diff</th>\n",
       "      <th>2024 % diff</th>\n",
       "    </tr>\n",
       "  </thead>\n",
       "  <tbody>\n",
       "    <tr>\n",
       "      <th>0</th>\n",
       "      <td>Community Transit</td>\n",
       "      <td>23,000.00</td>\n",
       "      <td>0.00</td>\n",
       "      <td>27,087.20</td>\n",
       "      <td>17.77%</td>\n",
       "      <td>-</td>\n",
       "    </tr>\n",
       "    <tr>\n",
       "      <th>1</th>\n",
       "      <td>Everett Transit</td>\n",
       "      <td>0.00</td>\n",
       "      <td>0.00</td>\n",
       "      <td>4,509.81</td>\n",
       "      <td>-</td>\n",
       "      <td>-</td>\n",
       "    </tr>\n",
       "    <tr>\n",
       "      <th>2</th>\n",
       "      <td>King County Metro</td>\n",
       "      <td>244,306.00</td>\n",
       "      <td>272,556.00</td>\n",
       "      <td>277,845.44</td>\n",
       "      <td>13.73%</td>\n",
       "      <td>1.94%</td>\n",
       "    </tr>\n",
       "    <tr>\n",
       "      <th>3</th>\n",
       "      <td>Kitsap Transit</td>\n",
       "      <td>8,000.00</td>\n",
       "      <td>9,300.00</td>\n",
       "      <td>10,549.44</td>\n",
       "      <td>31.87%</td>\n",
       "      <td>13.43%</td>\n",
       "    </tr>\n",
       "    <tr>\n",
       "      <th>4</th>\n",
       "      <td>Pierce Transit</td>\n",
       "      <td>19,974.00</td>\n",
       "      <td>0.00</td>\n",
       "      <td>16,248.27</td>\n",
       "      <td>-18.65%</td>\n",
       "      <td>-</td>\n",
       "    </tr>\n",
       "    <tr>\n",
       "      <th>5</th>\n",
       "      <td>Sound Transit</td>\n",
       "      <td>115,516.00</td>\n",
       "      <td>133,703.00</td>\n",
       "      <td>141,469.32</td>\n",
       "      <td>22.47%</td>\n",
       "      <td>5.81%</td>\n",
       "    </tr>\n",
       "    <tr>\n",
       "      <th>6</th>\n",
       "      <td>Washington Ferries</td>\n",
       "      <td>0.00</td>\n",
       "      <td>0.00</td>\n",
       "      <td>6,229.20</td>\n",
       "      <td>-</td>\n",
       "      <td>-</td>\n",
       "    </tr>\n",
       "  </tbody>\n",
       "</table>\n",
       "</div>"
      ],
      "text/plain": [
       "               agency  2023 boarding  2024 boarding  model_boardings  \\\n",
       "0   Community Transit      23,000.00           0.00        27,087.20   \n",
       "1     Everett Transit           0.00           0.00         4,509.81   \n",
       "2   King County Metro     244,306.00     272,556.00       277,845.44   \n",
       "3      Kitsap Transit       8,000.00       9,300.00        10,549.44   \n",
       "4      Pierce Transit      19,974.00           0.00        16,248.27   \n",
       "5       Sound Transit     115,516.00     133,703.00       141,469.32   \n",
       "6  Washington Ferries           0.00           0.00         6,229.20   \n",
       "\n",
       "  2023 % diff 2024 % diff  \n",
       "0      17.77%           -  \n",
       "1           -           -  \n",
       "2      13.73%       1.94%  \n",
       "3      31.87%      13.43%  \n",
       "4     -18.65%           -  \n",
       "5      22.47%       5.81%  \n",
       "6           -           -  "
      ]
     },
     "execution_count": 8,
     "metadata": {},
     "output_type": "execute_result"
    }
   ],
   "source": [
    "df = pd.read_csv(os.path.join(csv_path, 'daily_boardings_by_agency.csv'), usecols=['agency', 'model_boardings']).sort_values('model_boardings', ascending=False)\n",
    "df_obs = pd.read_sql(text(\"SELECT * FROM observed_transit_agency_boardings\"), con=conn.connect())\n",
    "\n",
    "df_obs_agency = df_obs.copy()\n",
    "df_obs_agency['boardings'] = df_obs_agency['boardings'].astype(float)\n",
    "df_obs_agency = df_obs_agency.groupby(['agency','year'])['boardings'].sum().unstack().reset_index()\n",
    "df_obs_agency = df_obs_agency.rename(columns={2023:'2023 boarding', 2024:'2024 boarding'})\n",
    "df_agency = df_obs_agency.merge(df, on='agency')\n",
    "\n",
    "df_agency['2023 % diff'] = (df_agency['model_boardings']-df_agency['2023 boarding'])/df_agency['2023 boarding']\n",
    "df_agency['2024 % diff'] = (df_agency['model_boardings']-df_agency['2024 boarding'])/df_agency['2024 boarding']\n",
    "df_agency[['2023 % diff']] = df_agency[['2023 % diff']].applymap(format_percent)\n",
    "df_agency[['2024 % diff']] = df_agency[['2024 % diff']].applymap(format_percent)\n",
    "df_agency = df_agency.replace('inf%', '-')\n",
    "\n",
    "df_agency"
   ]
  },
  {
   "cell_type": "raw",
   "id": "b155fe89",
   "metadata": {},
   "source": [
    "#### Bus Ridership by Agency"
   ]
  },
  {
   "cell_type": "code",
   "execution_count": 9,
   "id": "843fd939",
   "metadata": {},
   "outputs": [
    {
     "data": {
      "text/html": [
       "<div>\n",
       "<style scoped>\n",
       "    .dataframe tbody tr th:only-of-type {\n",
       "        vertical-align: middle;\n",
       "    }\n",
       "\n",
       "    .dataframe tbody tr th {\n",
       "        vertical-align: top;\n",
       "    }\n",
       "\n",
       "    .dataframe thead th {\n",
       "        text-align: right;\n",
       "    }\n",
       "</style>\n",
       "<table border=\"1\" class=\"dataframe\">\n",
       "  <thead>\n",
       "    <tr style=\"text-align: right;\">\n",
       "      <th></th>\n",
       "      <th>Model</th>\n",
       "      <th>2023 Spring Observed</th>\n",
       "      <th>2024 Spring Observed</th>\n",
       "    </tr>\n",
       "    <tr>\n",
       "      <th>agency</th>\n",
       "      <th></th>\n",
       "      <th></th>\n",
       "      <th></th>\n",
       "    </tr>\n",
       "  </thead>\n",
       "  <tbody>\n",
       "    <tr>\n",
       "      <th>Community Transit</th>\n",
       "      <td>27,087.20</td>\n",
       "      <td>21,752.24</td>\n",
       "      <td>0.00</td>\n",
       "    </tr>\n",
       "    <tr>\n",
       "      <th>Everett Transit</th>\n",
       "      <td>4,509.81</td>\n",
       "      <td>4,201.00</td>\n",
       "      <td>5,862.00</td>\n",
       "    </tr>\n",
       "    <tr>\n",
       "      <th>King County Metro</th>\n",
       "      <td>274,973.26</td>\n",
       "      <td>252,852.00</td>\n",
       "      <td>262,018.00</td>\n",
       "    </tr>\n",
       "    <tr>\n",
       "      <th>Kitsap Transit</th>\n",
       "      <td>4,940.03</td>\n",
       "      <td>4,048.00</td>\n",
       "      <td>0.00</td>\n",
       "    </tr>\n",
       "    <tr>\n",
       "      <th>Pierce Transit</th>\n",
       "      <td>16,248.27</td>\n",
       "      <td>21,185.00</td>\n",
       "      <td>21,911.00</td>\n",
       "    </tr>\n",
       "    <tr>\n",
       "      <th>Sound Transit</th>\n",
       "      <td>42,847.46</td>\n",
       "      <td>28,444.00</td>\n",
       "      <td>31,292.00</td>\n",
       "    </tr>\n",
       "  </tbody>\n",
       "</table>\n",
       "</div>"
      ],
      "text/plain": [
       "                       Model  2023 Spring Observed  2024 Spring Observed\n",
       "agency                                                                  \n",
       "Community Transit  27,087.20             21,752.24                  0.00\n",
       "Everett Transit     4,509.81              4,201.00              5,862.00\n",
       "King County Metro 274,973.26            252,852.00            262,018.00\n",
       "Kitsap Transit      4,940.03              4,048.00                  0.00\n",
       "Pierce Transit     16,248.27             21,185.00             21,911.00\n",
       "Sound Transit      42,847.46             28,444.00             31,292.00"
      ]
     },
     "execution_count": 9,
     "metadata": {},
     "output_type": "execute_result"
    }
   ],
   "source": [
    "# df = pd.read_csv(os.path.join(csv_path, 'daily_boardings_by_line.csv')).sort_values('observed_boardings', ascending=False)\n",
    "df = df_line_boardings_23_24.copy()\n",
    "df\n",
    "df = df[df['mode'].isin(['b'])]\n",
    "df = df.groupby(['agency'])[['Model','2023 Spring Observed','2024 Spring Observed']].sum()\n",
    "df\n"
   ]
  },
  {
   "cell_type": "raw",
   "id": "e64f5283",
   "metadata": {
    "vscode": {
     "languageId": "raw"
    }
   },
   "source": [
    ":::"
   ]
  },
  {
   "cell_type": "markdown",
   "id": "10436e8bdd112348",
   "metadata": {},
   "source": [
    "### boarding by key route"
   ]
  },
  {
   "cell_type": "raw",
   "id": "7d0d62e3693265f8",
   "metadata": {},
   "source": [
    ":::{.panel-tabset}\n",
    "#### ferry"
   ]
  },
  {
   "cell_type": "code",
   "execution_count": 10,
   "id": "75118f994b2c8118",
   "metadata": {
    "ExecuteTime": {
     "end_time": "2024-06-24T20:05:33.107476Z",
     "start_time": "2024-06-24T20:05:33.044901Z"
    },
    "execution": {
     "iopub.execute_input": "2024-12-14T02:38:40.169525Z",
     "iopub.status.busy": "2024-12-14T02:38:40.168527Z",
     "iopub.status.idle": "2024-12-14T02:38:40.235796Z",
     "shell.execute_reply": "2024-12-14T02:38:40.234293Z"
    }
   },
   "outputs": [
    {
     "data": {
      "text/html": [
       "<div>\n",
       "<style scoped>\n",
       "    .dataframe tbody tr th:only-of-type {\n",
       "        vertical-align: middle;\n",
       "    }\n",
       "\n",
       "    .dataframe tbody tr th {\n",
       "        vertical-align: top;\n",
       "    }\n",
       "\n",
       "    .dataframe thead th {\n",
       "        text-align: right;\n",
       "    }\n",
       "</style>\n",
       "<table border=\"1\" class=\"dataframe\">\n",
       "  <thead>\n",
       "    <tr style=\"text-align: right;\">\n",
       "      <th></th>\n",
       "      <th>index</th>\n",
       "      <th>description</th>\n",
       "      <th>Model</th>\n",
       "      <th>2023 Spring Observed</th>\n",
       "      <th>2024 Spring Observed</th>\n",
       "    </tr>\n",
       "  </thead>\n",
       "  <tbody>\n",
       "    <tr>\n",
       "      <th>6</th>\n",
       "      <td>278</td>\n",
       "      <td>WSF Seattle-Bain Isl</td>\n",
       "      <td>4,048.02</td>\n",
       "      <td>4,981.00</td>\n",
       "      <td>5,404.00</td>\n",
       "    </tr>\n",
       "    <tr>\n",
       "      <th>2</th>\n",
       "      <td>270</td>\n",
       "      <td>Seattle-Bremerton FF</td>\n",
       "      <td>3,021.51</td>\n",
       "      <td>1,913.00</td>\n",
       "      <td>2,068.00</td>\n",
       "    </tr>\n",
       "    <tr>\n",
       "      <th>3</th>\n",
       "      <td>271</td>\n",
       "      <td>Brem-Pt Orchard FF</td>\n",
       "      <td>1,580.42</td>\n",
       "      <td>768.00</td>\n",
       "      <td>857.00</td>\n",
       "    </tr>\n",
       "    <tr>\n",
       "      <th>9</th>\n",
       "      <td>281</td>\n",
       "      <td>WSF Fauntleroy-Vashn</td>\n",
       "      <td>1,089.42</td>\n",
       "      <td>659.00</td>\n",
       "      <td>661.00</td>\n",
       "    </tr>\n",
       "    <tr>\n",
       "      <th>4</th>\n",
       "      <td>273</td>\n",
       "      <td>Seattle-Southwrth FF</td>\n",
       "      <td>684.40</td>\n",
       "      <td>631.00</td>\n",
       "      <td>749.00</td>\n",
       "    </tr>\n",
       "    <tr>\n",
       "      <th>0</th>\n",
       "      <td>147</td>\n",
       "      <td>973 W Sea Water Taxi</td>\n",
       "      <td>636.14</td>\n",
       "      <td>837.00</td>\n",
       "      <td>873.00</td>\n",
       "    </tr>\n",
       "    <tr>\n",
       "      <th>1</th>\n",
       "      <td>148</td>\n",
       "      <td>975 Vashn Water Taxi</td>\n",
       "      <td>456.64</td>\n",
       "      <td>356.00</td>\n",
       "      <td>390.00</td>\n",
       "    </tr>\n",
       "    <tr>\n",
       "      <th>8</th>\n",
       "      <td>280</td>\n",
       "      <td>WSF Fauntleroy-Swrth</td>\n",
       "      <td>392.24</td>\n",
       "      <td>134.00</td>\n",
       "      <td>184.00</td>\n",
       "    </tr>\n",
       "    <tr>\n",
       "      <th>5</th>\n",
       "      <td>277</td>\n",
       "      <td>WSF Edmonds-Kingston</td>\n",
       "      <td>213.54</td>\n",
       "      <td>1,020.00</td>\n",
       "      <td>1,068.00</td>\n",
       "    </tr>\n",
       "    <tr>\n",
       "      <th>11</th>\n",
       "      <td>283</td>\n",
       "      <td>WSF Pt Def-Tahlequah</td>\n",
       "      <td>199.95</td>\n",
       "      <td>267.00</td>\n",
       "      <td>325.00</td>\n",
       "    </tr>\n",
       "    <tr>\n",
       "      <th>7</th>\n",
       "      <td>279</td>\n",
       "      <td>WSF Seattle-Brem</td>\n",
       "      <td>155.14</td>\n",
       "      <td>739.00</td>\n",
       "      <td>877.00</td>\n",
       "    </tr>\n",
       "    <tr>\n",
       "      <th>10</th>\n",
       "      <td>282</td>\n",
       "      <td>WSF Vashon-Southwrth</td>\n",
       "      <td>130.90</td>\n",
       "      <td>83.00</td>\n",
       "      <td>95.00</td>\n",
       "    </tr>\n",
       "  </tbody>\n",
       "</table>\n",
       "</div>"
      ],
      "text/plain": [
       "    index           description    Model  2023 Spring Observed  \\\n",
       "6     278  WSF Seattle-Bain Isl 4,048.02              4,981.00   \n",
       "2     270  Seattle-Bremerton FF 3,021.51              1,913.00   \n",
       "3     271    Brem-Pt Orchard FF 1,580.42                768.00   \n",
       "9     281  WSF Fauntleroy-Vashn 1,089.42                659.00   \n",
       "4     273  Seattle-Southwrth FF   684.40                631.00   \n",
       "0     147  973 W Sea Water Taxi   636.14                837.00   \n",
       "1     148  975 Vashn Water Taxi   456.64                356.00   \n",
       "8     280  WSF Fauntleroy-Swrth   392.24                134.00   \n",
       "5     277  WSF Edmonds-Kingston   213.54              1,020.00   \n",
       "11    283  WSF Pt Def-Tahlequah   199.95                267.00   \n",
       "7     279      WSF Seattle-Brem   155.14                739.00   \n",
       "10    282  WSF Vashon-Southwrth   130.90                 83.00   \n",
       "\n",
       "    2024 Spring Observed  \n",
       "6               5,404.00  \n",
       "2               2,068.00  \n",
       "3                 857.00  \n",
       "9                 661.00  \n",
       "4                 749.00  \n",
       "0                 873.00  \n",
       "1                 390.00  \n",
       "8                 184.00  \n",
       "5               1,068.00  \n",
       "11                325.00  \n",
       "7                 877.00  \n",
       "10                 95.00  "
      ]
     },
     "execution_count": 10,
     "metadata": {},
     "output_type": "execute_result"
    }
   ],
   "source": [
    "\n",
    "df = df_line_boardings_23_24[df_line_boardings_23_24['mode'].isin(['f','p'])][['route_code','description','agency','Model','2023 Spring Observed','2024 Spring Observed']]\n",
    "df = df[df['route_code'].isin([4200,4201,4203,4204,5001,5002,5003,5004,5005,5006,5007,1973,1975])].reset_index()\n",
    "df.drop(['route_code','agency'], axis=1, inplace=True)\n",
    "df_table = df.copy()\n",
    "# df_table[['perc_diff']] = df_table[['perc_diff']].applymap(format_percent)\n",
    "df_table.sort_values('Model', ascending=False)"
   ]
  },
  {
   "cell_type": "code",
   "execution_count": 11,
   "id": "67bf06d211cca3c6",
   "metadata": {
    "ExecuteTime": {
     "end_time": "2024-06-24T19:41:04.985397Z",
     "start_time": "2024-06-24T19:41:04.798158Z"
    },
    "execution": {
     "iopub.execute_input": "2024-12-14T02:38:40.247764Z",
     "iopub.status.busy": "2024-12-14T02:38:40.246767Z",
     "iopub.status.idle": "2024-12-14T02:38:40.267712Z",
     "shell.execute_reply": "2024-12-14T02:38:40.265717Z"
    }
   },
   "outputs": [],
   "source": [
    "# if len(df) > 0:\n",
    "#     ax = df.plot(kind='scatter', x='observed_boardings', y='model_boardings')\n",
    "#     lim = df[['observed_boardings','model_boardings']].max().max()*1.05\n",
    "#     ax.set_ylim(0,lim)\n",
    "#     ax.set_xlim(0,lim)\n",
    "#     x = np.linspace(*ax.get_xlim())\n",
    "#     ax.plot(x, x)\n",
    "#     slope, intercept, r_value, p_value, std_err = stats.linregress(df['observed_boardings'],df['model_boardings'])\n",
    "#     print('r^2 ' + str('') + ': ' + str(r_value))"
   ]
  },
  {
   "cell_type": "raw",
   "id": "14db883222970442",
   "metadata": {},
   "source": [
    "#### rail"
   ]
  },
  {
   "cell_type": "code",
   "execution_count": 12,
   "id": "c9adf289ac66da8",
   "metadata": {
    "ExecuteTime": {
     "end_time": "2024-06-24T20:05:45.826421Z",
     "start_time": "2024-06-24T20:05:45.779797Z"
    },
    "execution": {
     "iopub.execute_input": "2024-12-14T02:38:40.358988Z",
     "iopub.status.busy": "2024-12-14T02:38:40.356994Z",
     "iopub.status.idle": "2024-12-14T02:38:40.393246Z",
     "shell.execute_reply": "2024-12-14T02:38:40.391251Z"
    }
   },
   "outputs": [
    {
     "data": {
      "text/html": [
       "<div>\n",
       "<style scoped>\n",
       "    .dataframe tbody tr th:only-of-type {\n",
       "        vertical-align: middle;\n",
       "    }\n",
       "\n",
       "    .dataframe tbody tr th {\n",
       "        vertical-align: top;\n",
       "    }\n",
       "\n",
       "    .dataframe thead th {\n",
       "        text-align: right;\n",
       "    }\n",
       "</style>\n",
       "<table border=\"1\" class=\"dataframe\">\n",
       "  <thead>\n",
       "    <tr style=\"text-align: right;\">\n",
       "      <th></th>\n",
       "      <th>route_code</th>\n",
       "      <th>description</th>\n",
       "      <th>agency</th>\n",
       "      <th>Model</th>\n",
       "      <th>2023 Spring Observed</th>\n",
       "      <th>2024 Spring Observed</th>\n",
       "    </tr>\n",
       "  </thead>\n",
       "  <tbody>\n",
       "    <tr>\n",
       "      <th>0</th>\n",
       "      <td>6996</td>\n",
       "      <td>Link Red Line</td>\n",
       "      <td>Sound Transit</td>\n",
       "      <td>90,164.78</td>\n",
       "      <td>78,772.00</td>\n",
       "      <td>91,213.00</td>\n",
       "    </tr>\n",
       "    <tr>\n",
       "      <th>1</th>\n",
       "      <td>6998</td>\n",
       "      <td>Sounder South</td>\n",
       "      <td>Sound Transit</td>\n",
       "      <td>6,390.59</td>\n",
       "      <td>6,038.00</td>\n",
       "      <td>7,168.00</td>\n",
       "    </tr>\n",
       "    <tr>\n",
       "      <th>2</th>\n",
       "      <td>6999</td>\n",
       "      <td>Sounder North</td>\n",
       "      <td>Sound Transit</td>\n",
       "      <td>4.21</td>\n",
       "      <td>316.00</td>\n",
       "      <td>367.00</td>\n",
       "    </tr>\n",
       "  </tbody>\n",
       "</table>\n",
       "</div>"
      ],
      "text/plain": [
       "   route_code    description         agency     Model  2023 Spring Observed  \\\n",
       "0        6996  Link Red Line  Sound Transit 90,164.78             78,772.00   \n",
       "1        6998  Sounder South  Sound Transit  6,390.59              6,038.00   \n",
       "2        6999  Sounder North  Sound Transit      4.21                316.00   \n",
       "\n",
       "   2024 Spring Observed  \n",
       "0             91,213.00  \n",
       "1              7,168.00  \n",
       "2                367.00  "
      ]
     },
     "execution_count": 12,
     "metadata": {},
     "output_type": "execute_result"
    }
   ],
   "source": [
    "df = df_line_boardings_23_24[df_line_boardings_23_24['route_code'].isin([6996,6999,6998])].reset_index()\n",
    "df['description'] = df['route_code'].map({6998: 'Sounder South', 6999: 'Sounder North',6996: 'Link Red Line'})\n",
    "# df.drop(['route_code','agency'], axis=1, inplace=True)\n",
    "df_table = df[['route_code','description','agency','Model','2023 Spring Observed','2024 Spring Observed']].copy()\n",
    "# df_table[['perc_diff']] = df_table[['perc_diff']].applymap(format_percent)\n",
    "df_table"
   ]
  },
  {
   "cell_type": "code",
   "execution_count": 13,
   "id": "cb27f79888f8363d",
   "metadata": {
    "ExecuteTime": {
     "end_time": "2024-06-24T19:41:16.172926Z",
     "start_time": "2024-06-24T19:41:15.922628Z"
    },
    "execution": {
     "iopub.execute_input": "2024-12-14T02:38:40.404216Z",
     "iopub.status.busy": "2024-12-14T02:38:40.403219Z",
     "iopub.status.idle": "2024-12-14T02:38:40.833802Z",
     "shell.execute_reply": "2024-12-14T02:38:40.831807Z"
    }
   },
   "outputs": [],
   "source": [
    "# if len(df) > 0:\n",
    "#     ax = df.plot(kind='scatter', x='observed_boardings', y='model_boardings')\n",
    "#     lim = df[['observed_boardings','model_boardings']].max().max()*1.05\n",
    "#     ax.set_ylim(0,lim)\n",
    "#     ax.set_xlim(0,lim)\n",
    "#     x = np.linspace(*ax.get_xlim())\n",
    "#     ax.plot(x, x)\n",
    "#     slope, intercept, r_value, p_value, std_err = stats.linregress(df['observed_boardings'],df['model_boardings'])\n",
    "#     print('r^2 ' + str('') + ': ' + str(r_value))"
   ]
  },
  {
   "cell_type": "raw",
   "id": "a24f21772d15369c",
   "metadata": {},
   "source": [
    "#### RapidRide, busiest buses, streetcar"
   ]
  },
  {
   "cell_type": "code",
   "execution_count": 14,
   "id": "a048f8a2b6d7d277",
   "metadata": {
    "ExecuteTime": {
     "end_time": "2024-06-24T20:05:51.529079Z",
     "start_time": "2024-06-24T20:05:51.482757Z"
    },
    "execution": {
     "iopub.execute_input": "2024-12-14T02:38:40.845770Z",
     "iopub.status.busy": "2024-12-14T02:38:40.844772Z",
     "iopub.status.idle": "2024-12-14T02:38:40.911021Z",
     "shell.execute_reply": "2024-12-14T02:38:40.909026Z"
    }
   },
   "outputs": [
    {
     "data": {
      "text/html": [
       "<div>\n",
       "<style scoped>\n",
       "    .dataframe tbody tr th:only-of-type {\n",
       "        vertical-align: middle;\n",
       "    }\n",
       "\n",
       "    .dataframe tbody tr th {\n",
       "        vertical-align: top;\n",
       "    }\n",
       "\n",
       "    .dataframe thead th {\n",
       "        text-align: right;\n",
       "    }\n",
       "</style>\n",
       "<table border=\"1\" class=\"dataframe\">\n",
       "  <thead>\n",
       "    <tr style=\"text-align: right;\">\n",
       "      <th></th>\n",
       "      <th>route_code</th>\n",
       "      <th>description</th>\n",
       "      <th>agency</th>\n",
       "      <th>Model</th>\n",
       "      <th>2023 Spring Observed</th>\n",
       "      <th>2024 Spring Observed</th>\n",
       "    </tr>\n",
       "  </thead>\n",
       "  <tbody>\n",
       "    <tr>\n",
       "      <th>6</th>\n",
       "      <td>1675</td>\n",
       "      <td>E Line RapidRide</td>\n",
       "      <td>King County Metro</td>\n",
       "      <td>14,874.98</td>\n",
       "      <td>11,057.00</td>\n",
       "      <td>13,011.00</td>\n",
       "    </tr>\n",
       "    <tr>\n",
       "      <th>0</th>\n",
       "      <td>1007</td>\n",
       "      <td>KC Metro 7</td>\n",
       "      <td>King County Metro</td>\n",
       "      <td>11,718.13</td>\n",
       "      <td>10,059.00</td>\n",
       "      <td>10,819.00</td>\n",
       "    </tr>\n",
       "    <tr>\n",
       "      <th>4</th>\n",
       "      <td>1673</td>\n",
       "      <td>C Line RapidRide</td>\n",
       "      <td>King County Metro</td>\n",
       "      <td>10,799.33</td>\n",
       "      <td>7,224.00</td>\n",
       "      <td>7,541.00</td>\n",
       "    </tr>\n",
       "    <tr>\n",
       "      <th>1</th>\n",
       "      <td>1040</td>\n",
       "      <td>KC Metro 40</td>\n",
       "      <td>King County Metro</td>\n",
       "      <td>8,503.43</td>\n",
       "      <td>7,218.00</td>\n",
       "      <td>8,255.00</td>\n",
       "    </tr>\n",
       "    <tr>\n",
       "      <th>10</th>\n",
       "      <td>6550</td>\n",
       "      <td>Sound Transit 550</td>\n",
       "      <td>Sound Transit</td>\n",
       "      <td>7,285.30</td>\n",
       "      <td>3,677.00</td>\n",
       "      <td>4,074.00</td>\n",
       "    </tr>\n",
       "    <tr>\n",
       "      <th>5</th>\n",
       "      <td>1674</td>\n",
       "      <td>D Line RapidRide</td>\n",
       "      <td>King County Metro</td>\n",
       "      <td>7,200.42</td>\n",
       "      <td>8,805.00</td>\n",
       "      <td>9,634.00</td>\n",
       "    </tr>\n",
       "    <tr>\n",
       "      <th>2</th>\n",
       "      <td>1671</td>\n",
       "      <td>A Line RapidRide</td>\n",
       "      <td>King County Metro</td>\n",
       "      <td>6,597.87</td>\n",
       "      <td>8,178.00</td>\n",
       "      <td>9,415.00</td>\n",
       "    </tr>\n",
       "    <tr>\n",
       "      <th>7</th>\n",
       "      <td>1676</td>\n",
       "      <td>F Line RapidRide</td>\n",
       "      <td>King County Metro</td>\n",
       "      <td>5,235.11</td>\n",
       "      <td>4,548.00</td>\n",
       "      <td>4,968.00</td>\n",
       "    </tr>\n",
       "    <tr>\n",
       "      <th>3</th>\n",
       "      <td>1672</td>\n",
       "      <td>B Line RapidRide</td>\n",
       "      <td>King County Metro</td>\n",
       "      <td>3,146.47</td>\n",
       "      <td>4,214.00</td>\n",
       "      <td>4,694.00</td>\n",
       "    </tr>\n",
       "    <tr>\n",
       "      <th>8</th>\n",
       "      <td>1997</td>\n",
       "      <td>SLU Streetcar</td>\n",
       "      <td>King County Metro</td>\n",
       "      <td>1,796.79</td>\n",
       "      <td>523.00</td>\n",
       "      <td>360.00</td>\n",
       "    </tr>\n",
       "    <tr>\n",
       "      <th>9</th>\n",
       "      <td>1998</td>\n",
       "      <td>First Hill Streetcar</td>\n",
       "      <td>King County Metro</td>\n",
       "      <td>991.88</td>\n",
       "      <td>3,915.00</td>\n",
       "      <td>4,115.00</td>\n",
       "    </tr>\n",
       "  </tbody>\n",
       "</table>\n",
       "</div>"
      ],
      "text/plain": [
       "    route_code           description             agency     Model  \\\n",
       "6         1675      E Line RapidRide  King County Metro 14,874.98   \n",
       "0         1007            KC Metro 7  King County Metro 11,718.13   \n",
       "4         1673      C Line RapidRide  King County Metro 10,799.33   \n",
       "1         1040           KC Metro 40  King County Metro  8,503.43   \n",
       "10        6550     Sound Transit 550      Sound Transit  7,285.30   \n",
       "5         1674      D Line RapidRide  King County Metro  7,200.42   \n",
       "2         1671      A Line RapidRide  King County Metro  6,597.87   \n",
       "7         1676      F Line RapidRide  King County Metro  5,235.11   \n",
       "3         1672      B Line RapidRide  King County Metro  3,146.47   \n",
       "8         1997         SLU Streetcar  King County Metro  1,796.79   \n",
       "9         1998  First Hill Streetcar  King County Metro    991.88   \n",
       "\n",
       "    2023 Spring Observed  2024 Spring Observed  \n",
       "6              11,057.00             13,011.00  \n",
       "0              10,059.00             10,819.00  \n",
       "4               7,224.00              7,541.00  \n",
       "1               7,218.00              8,255.00  \n",
       "10              3,677.00              4,074.00  \n",
       "5               8,805.00              9,634.00  \n",
       "2               8,178.00              9,415.00  \n",
       "7               4,548.00              4,968.00  \n",
       "3               4,214.00              4,694.00  \n",
       "8                 523.00                360.00  \n",
       "9               3,915.00              4,115.00  "
      ]
     },
     "execution_count": 14,
     "metadata": {},
     "output_type": "execute_result"
    }
   ],
   "source": [
    "# df = df_boarding_key[df_boarding_key['route_code'].isin([1671,1672,1673,1674,1675,1676,6550,1007,1040,1997,1998])].reset_index()\n",
    "# df['description'] = df['route_code'].map({1671: 'A Line RapidRide', 1672: 'B Line RapidRide',\n",
    "#                                             1673: 'C Line RapidRide', 1674: 'D Line RapidRide',\n",
    "#                                             1675: 'E Line RapidRide', 1676: 'F Line RapidRide',\n",
    "#                                             6550: 'Sound Transit 550', 1040: 'KC Metro 40', 1007: 'KC Metro 7',\n",
    "#                                             1997: 'SLU Streetcar', 1998: 'First Hill Streetcar'})\n",
    "# df.drop(['route_code','agency'], axis=1, inplace=True)\n",
    "\n",
    "df = df_line_boardings_23_24[df_line_boardings_23_24['route_code'].isin([1671,1672,1673,1674,1675,1676,6550,1007,1040,1997,1998])].reset_index()\n",
    "df['description'] = df['route_code'].map({1671: 'A Line RapidRide', 1672: 'B Line RapidRide',\n",
    "                                            1673: 'C Line RapidRide', 1674: 'D Line RapidRide',\n",
    "                                            1675: 'E Line RapidRide', 1676: 'F Line RapidRide',\n",
    "                                            6550: 'Sound Transit 550', 1040: 'KC Metro 40', 1007: 'KC Metro 7',\n",
    "                                            1997: 'SLU Streetcar', 1998: 'First Hill Streetcar'})\n",
    "# df.drop(['route_code','agency'], axis=1, inplace=True)\n",
    "df_table = df[['route_code','description','agency','Model','2023 Spring Observed','2024 Spring Observed']].copy()\n",
    "\n",
    "df_table = df[['route_code','description','agency','Model','2023 Spring Observed','2024 Spring Observed']].copy()\n",
    "df_table.sort_values('Model', ascending=False)"
   ]
  },
  {
   "cell_type": "code",
   "execution_count": 15,
   "id": "813aa67bd5e6c1f6",
   "metadata": {
    "ExecuteTime": {
     "end_time": "2024-06-24T19:41:23.547293Z",
     "start_time": "2024-06-24T19:41:23.312803Z"
    },
    "execution": {
     "iopub.execute_input": "2024-12-14T02:38:40.921991Z",
     "iopub.status.busy": "2024-12-14T02:38:40.920994Z",
     "iopub.status.idle": "2024-12-14T02:38:41.159750Z",
     "shell.execute_reply": "2024-12-14T02:38:41.157755Z"
    }
   },
   "outputs": [],
   "source": [
    "# if len(df) > 0:\n",
    "#     ax = df.plot(kind='scatter', x='observed_boardings', y='model_boardings')\n",
    "#     lim = df[['observed_boardings', 'model_boardings']].max().max() * 1.05\n",
    "#     ax.set_ylim(0, lim)\n",
    "#     ax.set_xlim(0, lim)\n",
    "#     x = np.linspace(*ax.get_xlim())\n",
    "#     ax.plot(x, x)\n",
    "#     slope, intercept, r_value, p_value, std_err = stats.linregress(df['observed_boardings'], df['model_boardings'])\n",
    "#     print('r^2 ' + str('') + ': ' + str(r_value))"
   ]
  },
  {
   "cell_type": "raw",
   "id": "c55611b2314fffc3",
   "metadata": {},
   "source": [
    ":::"
   ]
  },
  {
   "cell_type": "markdown",
   "id": "e050a08b",
   "metadata": {},
   "source": [
    "### Top routes by agency"
   ]
  },
  {
   "cell_type": "code",
   "execution_count": 16,
   "id": "58d89e2b",
   "metadata": {},
   "outputs": [],
   "source": [
    "# df = pd.read_csv(os.path.join(csv_path, 'daily_boardings_by_line.csv'))\n",
    "df = df_line_boardings_23_24.copy()\n",
    "# df_top = pd.DataFrame()\n",
    "# for agency in df['agency'].unique():\n",
    "#     _df = df[df['agency'] == agency].sort_values('model_boardings', ascending=False).head(8)\n",
    "#     df_top = pd.concat([df_top, _df])\n",
    "# df = df_top[['agency','description','mode','model_boardings','observed_boardings','diff','perc_diff']]\n",
    "cols=['agency','description','mode','Model','2023 Spring Observed','2024 Spring Observed']"
   ]
  },
  {
   "cell_type": "raw",
   "id": "7972e453",
   "metadata": {},
   "source": [
    ":::{.panel-tabset}\n",
    "#### King County Metro"
   ]
  },
  {
   "cell_type": "code",
   "execution_count": 17,
   "id": "35a6745d",
   "metadata": {},
   "outputs": [
    {
     "data": {
      "text/html": [
       "<div>\n",
       "<style scoped>\n",
       "    .dataframe tbody tr th:only-of-type {\n",
       "        vertical-align: middle;\n",
       "    }\n",
       "\n",
       "    .dataframe tbody tr th {\n",
       "        vertical-align: top;\n",
       "    }\n",
       "\n",
       "    .dataframe thead th {\n",
       "        text-align: right;\n",
       "    }\n",
       "</style>\n",
       "<table border=\"1\" class=\"dataframe\">\n",
       "  <thead>\n",
       "    <tr style=\"text-align: right;\">\n",
       "      <th></th>\n",
       "      <th>agency</th>\n",
       "      <th>description</th>\n",
       "      <th>mode</th>\n",
       "      <th>Model</th>\n",
       "      <th>2023 Spring Observed</th>\n",
       "      <th>2024 Spring Observed</th>\n",
       "    </tr>\n",
       "  </thead>\n",
       "  <tbody>\n",
       "    <tr>\n",
       "      <th>130</th>\n",
       "      <td>King County Metro</td>\n",
       "      <td>E-Line</td>\n",
       "      <td>b</td>\n",
       "      <td>14,874.98</td>\n",
       "      <td>11,057.00</td>\n",
       "      <td>13,011.00</td>\n",
       "    </tr>\n",
       "    <tr>\n",
       "      <th>5</th>\n",
       "      <td>King County Metro</td>\n",
       "      <td>7 Rain Bch-ColC-CBD</td>\n",
       "      <td>b</td>\n",
       "      <td>11,718.13</td>\n",
       "      <td>10,059.00</td>\n",
       "      <td>10,819.00</td>\n",
       "    </tr>\n",
       "    <tr>\n",
       "      <th>128</th>\n",
       "      <td>King County Metro</td>\n",
       "      <td>C Line</td>\n",
       "      <td>b</td>\n",
       "      <td>10,799.33</td>\n",
       "      <td>7,224.00</td>\n",
       "      <td>7,541.00</td>\n",
       "    </tr>\n",
       "    <tr>\n",
       "      <th>28</th>\n",
       "      <td>King County Metro</td>\n",
       "      <td>40 Ngt-Bal-Fre-CBD</td>\n",
       "      <td>b</td>\n",
       "      <td>8,503.43</td>\n",
       "      <td>7,218.00</td>\n",
       "      <td>8,255.00</td>\n",
       "    </tr>\n",
       "    <tr>\n",
       "      <th>132</th>\n",
       "      <td>King County Metro</td>\n",
       "      <td>H-Line</td>\n",
       "      <td>b</td>\n",
       "      <td>7,251.05</td>\n",
       "      <td>6,907.00</td>\n",
       "      <td>0.00</td>\n",
       "    </tr>\n",
       "    <tr>\n",
       "      <th>129</th>\n",
       "      <td>King County Metro</td>\n",
       "      <td>D Line</td>\n",
       "      <td>b</td>\n",
       "      <td>7,200.42</td>\n",
       "      <td>8,805.00</td>\n",
       "      <td>9,634.00</td>\n",
       "    </tr>\n",
       "    <tr>\n",
       "      <th>43</th>\n",
       "      <td>King County Metro</td>\n",
       "      <td>70 Udst-Elake-CBD</td>\n",
       "      <td>b</td>\n",
       "      <td>6,769.74</td>\n",
       "      <td>4,298.00</td>\n",
       "      <td>4,658.00</td>\n",
       "    </tr>\n",
       "    <tr>\n",
       "      <th>126</th>\n",
       "      <td>King County Metro</td>\n",
       "      <td>A Line</td>\n",
       "      <td>b</td>\n",
       "      <td>6,597.87</td>\n",
       "      <td>8,178.00</td>\n",
       "      <td>9,415.00</td>\n",
       "    </tr>\n",
       "    <tr>\n",
       "      <th>39</th>\n",
       "      <td>King County Metro</td>\n",
       "      <td>62 SndPt-GLk-Fre-CBD</td>\n",
       "      <td>b</td>\n",
       "      <td>6,568.95</td>\n",
       "      <td>6,138.00</td>\n",
       "      <td>6,743.00</td>\n",
       "    </tr>\n",
       "    <tr>\n",
       "      <th>67</th>\n",
       "      <td>King County Metro</td>\n",
       "      <td>160 Aub-Kent-Rent</td>\n",
       "      <td>b</td>\n",
       "      <td>6,169.33</td>\n",
       "      <td>5,008.00</td>\n",
       "      <td>5,492.00</td>\n",
       "    </tr>\n",
       "  </tbody>\n",
       "</table>\n",
       "</div>"
      ],
      "text/plain": [
       "                agency           description mode     Model  \\\n",
       "130  King County Metro                E-Line    b 14,874.98   \n",
       "5    King County Metro   7 Rain Bch-ColC-CBD    b 11,718.13   \n",
       "128  King County Metro                C Line    b 10,799.33   \n",
       "28   King County Metro    40 Ngt-Bal-Fre-CBD    b  8,503.43   \n",
       "132  King County Metro                H-Line    b  7,251.05   \n",
       "129  King County Metro                D Line    b  7,200.42   \n",
       "43   King County Metro     70 Udst-Elake-CBD    b  6,769.74   \n",
       "126  King County Metro                A Line    b  6,597.87   \n",
       "39   King County Metro  62 SndPt-GLk-Fre-CBD    b  6,568.95   \n",
       "67   King County Metro     160 Aub-Kent-Rent    b  6,169.33   \n",
       "\n",
       "     2023 Spring Observed  2024 Spring Observed  \n",
       "130             11,057.00             13,011.00  \n",
       "5               10,059.00             10,819.00  \n",
       "128              7,224.00              7,541.00  \n",
       "28               7,218.00              8,255.00  \n",
       "132              6,907.00                  0.00  \n",
       "129              8,805.00              9,634.00  \n",
       "43               4,298.00              4,658.00  \n",
       "126              8,178.00              9,415.00  \n",
       "39               6,138.00              6,743.00  \n",
       "67               5,008.00              5,492.00  "
      ]
     },
     "execution_count": 17,
     "metadata": {},
     "output_type": "execute_result"
    }
   ],
   "source": [
    "agency = 'King County Metro'\n",
    "df[df['agency'] == agency].sort_values('Model', ascending=False).head(10)[cols]"
   ]
  },
  {
   "cell_type": "raw",
   "id": "cbdadc57",
   "metadata": {},
   "source": [
    "#### Sound Transit"
   ]
  },
  {
   "cell_type": "code",
   "execution_count": 18,
   "id": "fbbb65ca",
   "metadata": {},
   "outputs": [
    {
     "data": {
      "text/html": [
       "<div>\n",
       "<style scoped>\n",
       "    .dataframe tbody tr th:only-of-type {\n",
       "        vertical-align: middle;\n",
       "    }\n",
       "\n",
       "    .dataframe tbody tr th {\n",
       "        vertical-align: top;\n",
       "    }\n",
       "\n",
       "    .dataframe thead th {\n",
       "        text-align: right;\n",
       "    }\n",
       "</style>\n",
       "<table border=\"1\" class=\"dataframe\">\n",
       "  <thead>\n",
       "    <tr style=\"text-align: right;\">\n",
       "      <th></th>\n",
       "      <th>agency</th>\n",
       "      <th>description</th>\n",
       "      <th>mode</th>\n",
       "      <th>Model</th>\n",
       "      <th>2023 Spring Observed</th>\n",
       "      <th>2024 Spring Observed</th>\n",
       "    </tr>\n",
       "  </thead>\n",
       "  <tbody>\n",
       "    <tr>\n",
       "      <th>308</th>\n",
       "      <td>Sound Transit</td>\n",
       "      <td>Light Rail Ang Lk-NG</td>\n",
       "      <td>r</td>\n",
       "      <td>90,164.78</td>\n",
       "      <td>78,772.00</td>\n",
       "      <td>91,213.00</td>\n",
       "    </tr>\n",
       "    <tr>\n",
       "      <th>292</th>\n",
       "      <td>Sound Transit</td>\n",
       "      <td>550 Bellevue-Seattle</td>\n",
       "      <td>b</td>\n",
       "      <td>7,285.30</td>\n",
       "      <td>3,677.00</td>\n",
       "      <td>4,074.00</td>\n",
       "    </tr>\n",
       "    <tr>\n",
       "      <th>309</th>\n",
       "      <td>Sound Transit</td>\n",
       "      <td>Commutr Rail Tac-Sea</td>\n",
       "      <td>c</td>\n",
       "      <td>6,390.59</td>\n",
       "      <td>6,038.00</td>\n",
       "      <td>7,168.00</td>\n",
       "    </tr>\n",
       "    <tr>\n",
       "      <th>287</th>\n",
       "      <td>Sound Transit</td>\n",
       "      <td>522 Woodinvl-Roosvlt</td>\n",
       "      <td>b</td>\n",
       "      <td>5,477.04</td>\n",
       "      <td>1,756.00</td>\n",
       "      <td>2,286.00</td>\n",
       "    </tr>\n",
       "    <tr>\n",
       "      <th>285</th>\n",
       "      <td>Sound Transit</td>\n",
       "      <td>512 Everett-Northgte</td>\n",
       "      <td>b</td>\n",
       "      <td>5,124.31</td>\n",
       "      <td>2,306.00</td>\n",
       "      <td>2,937.00</td>\n",
       "    </tr>\n",
       "    <tr>\n",
       "      <th>291</th>\n",
       "      <td>Sound Transit</td>\n",
       "      <td>545 Redmond-Seattle</td>\n",
       "      <td>b</td>\n",
       "      <td>5,097.28</td>\n",
       "      <td>4,075.00</td>\n",
       "      <td>4,816.00</td>\n",
       "    </tr>\n",
       "    <tr>\n",
       "      <th>293</th>\n",
       "      <td>Sound Transit</td>\n",
       "      <td>554 Issaquah-Seattle</td>\n",
       "      <td>b</td>\n",
       "      <td>4,192.77</td>\n",
       "      <td>2,415.00</td>\n",
       "      <td>2,783.00</td>\n",
       "    </tr>\n",
       "    <tr>\n",
       "      <th>299</th>\n",
       "      <td>Sound Transit</td>\n",
       "      <td>578 Seattle-Puyallup</td>\n",
       "      <td>b</td>\n",
       "      <td>2,808.14</td>\n",
       "      <td>1,523.00</td>\n",
       "      <td>1,614.00</td>\n",
       "    </tr>\n",
       "    <tr>\n",
       "      <th>297</th>\n",
       "      <td>Sound Transit</td>\n",
       "      <td>574 Lakewood-SeaTac</td>\n",
       "      <td>b</td>\n",
       "      <td>2,157.50</td>\n",
       "      <td>1,870.00</td>\n",
       "      <td>1,764.00</td>\n",
       "    </tr>\n",
       "    <tr>\n",
       "      <th>295</th>\n",
       "      <td>Sound Transit</td>\n",
       "      <td>560 W Sea-Bellevue</td>\n",
       "      <td>b</td>\n",
       "      <td>2,132.81</td>\n",
       "      <td>1,371.00</td>\n",
       "      <td>1,286.00</td>\n",
       "    </tr>\n",
       "  </tbody>\n",
       "</table>\n",
       "</div>"
      ],
      "text/plain": [
       "            agency           description mode     Model  2023 Spring Observed  \\\n",
       "308  Sound Transit  Light Rail Ang Lk-NG    r 90,164.78             78,772.00   \n",
       "292  Sound Transit  550 Bellevue-Seattle    b  7,285.30              3,677.00   \n",
       "309  Sound Transit  Commutr Rail Tac-Sea    c  6,390.59              6,038.00   \n",
       "287  Sound Transit  522 Woodinvl-Roosvlt    b  5,477.04              1,756.00   \n",
       "285  Sound Transit  512 Everett-Northgte    b  5,124.31              2,306.00   \n",
       "291  Sound Transit   545 Redmond-Seattle    b  5,097.28              4,075.00   \n",
       "293  Sound Transit  554 Issaquah-Seattle    b  4,192.77              2,415.00   \n",
       "299  Sound Transit  578 Seattle-Puyallup    b  2,808.14              1,523.00   \n",
       "297  Sound Transit   574 Lakewood-SeaTac    b  2,157.50              1,870.00   \n",
       "295  Sound Transit    560 W Sea-Bellevue    b  2,132.81              1,371.00   \n",
       "\n",
       "     2024 Spring Observed  \n",
       "308             91,213.00  \n",
       "292              4,074.00  \n",
       "309              7,168.00  \n",
       "287              2,286.00  \n",
       "285              2,937.00  \n",
       "291              4,816.00  \n",
       "293              2,783.00  \n",
       "299              1,614.00  \n",
       "297              1,764.00  \n",
       "295              1,286.00  "
      ]
     },
     "execution_count": 18,
     "metadata": {},
     "output_type": "execute_result"
    }
   ],
   "source": [
    "agency = 'Sound Transit'\n",
    "df[df['agency'] == agency].sort_values('Model', ascending=False).head(10)[cols]"
   ]
  },
  {
   "cell_type": "raw",
   "id": "5bb6872d",
   "metadata": {},
   "source": [
    "#### Community Transit"
   ]
  },
  {
   "cell_type": "code",
   "execution_count": 19,
   "id": "f7994dd7",
   "metadata": {},
   "outputs": [
    {
     "data": {
      "text/html": [
       "<div>\n",
       "<style scoped>\n",
       "    .dataframe tbody tr th:only-of-type {\n",
       "        vertical-align: middle;\n",
       "    }\n",
       "\n",
       "    .dataframe tbody tr th {\n",
       "        vertical-align: top;\n",
       "    }\n",
       "\n",
       "    .dataframe thead th {\n",
       "        text-align: right;\n",
       "    }\n",
       "</style>\n",
       "<table border=\"1\" class=\"dataframe\">\n",
       "  <thead>\n",
       "    <tr style=\"text-align: right;\">\n",
       "      <th></th>\n",
       "      <th>agency</th>\n",
       "      <th>description</th>\n",
       "      <th>mode</th>\n",
       "      <th>Model</th>\n",
       "      <th>2023 Spring Observed</th>\n",
       "      <th>2024 Spring Observed</th>\n",
       "    </tr>\n",
       "  </thead>\n",
       "  <tbody>\n",
       "    <tr>\n",
       "      <th>230</th>\n",
       "      <td>Community Transit</td>\n",
       "      <td>Swift Blue</td>\n",
       "      <td>b</td>\n",
       "      <td>6,111.13</td>\n",
       "      <td>5,403.45</td>\n",
       "      <td>0.00</td>\n",
       "    </tr>\n",
       "    <tr>\n",
       "      <th>231</th>\n",
       "      <td>Community Transit</td>\n",
       "      <td>Swift Green</td>\n",
       "      <td>b</td>\n",
       "      <td>2,443.35</td>\n",
       "      <td>2,017.48</td>\n",
       "      <td>0.00</td>\n",
       "    </tr>\n",
       "    <tr>\n",
       "      <th>200</th>\n",
       "      <td>Community Transit</td>\n",
       "      <td>116 Edm-Silver Firs</td>\n",
       "      <td>b</td>\n",
       "      <td>2,154.18</td>\n",
       "      <td>1,072.31</td>\n",
       "      <td>0.00</td>\n",
       "    </tr>\n",
       "    <tr>\n",
       "      <th>199</th>\n",
       "      <td>Community Transit</td>\n",
       "      <td>115 McClm P&amp;R-AurVil</td>\n",
       "      <td>b</td>\n",
       "      <td>1,639.15</td>\n",
       "      <td>965.18</td>\n",
       "      <td>0.00</td>\n",
       "    </tr>\n",
       "    <tr>\n",
       "      <th>206</th>\n",
       "      <td>Community Transit</td>\n",
       "      <td>202 Smokey Pt-Lynnwd</td>\n",
       "      <td>b</td>\n",
       "      <td>1,473.54</td>\n",
       "      <td>1,138.86</td>\n",
       "      <td>0.00</td>\n",
       "    </tr>\n",
       "    <tr>\n",
       "      <th>205</th>\n",
       "      <td>Community Transit</td>\n",
       "      <td>201 Smokey Pt-Lynnwd</td>\n",
       "      <td>b</td>\n",
       "      <td>1,455.16</td>\n",
       "      <td>1,081.12</td>\n",
       "      <td>0.00</td>\n",
       "    </tr>\n",
       "    <tr>\n",
       "      <th>191</th>\n",
       "      <td>Community Transit</td>\n",
       "      <td>101 Mar P&amp;R-Aur Vill</td>\n",
       "      <td>b</td>\n",
       "      <td>1,356.19</td>\n",
       "      <td>810.47</td>\n",
       "      <td>0.00</td>\n",
       "    </tr>\n",
       "    <tr>\n",
       "      <th>203</th>\n",
       "      <td>Community Transit</td>\n",
       "      <td>130 Edmonds-Lynnwood</td>\n",
       "      <td>b</td>\n",
       "      <td>909.67</td>\n",
       "      <td>473.41</td>\n",
       "      <td>0.00</td>\n",
       "    </tr>\n",
       "    <tr>\n",
       "      <th>198</th>\n",
       "      <td>Community Transit</td>\n",
       "      <td>113 Mukilteo-Lynn TC</td>\n",
       "      <td>b</td>\n",
       "      <td>773.69</td>\n",
       "      <td>763.82</td>\n",
       "      <td>0.00</td>\n",
       "    </tr>\n",
       "    <tr>\n",
       "      <th>195</th>\n",
       "      <td>Community Transit</td>\n",
       "      <td>109 Ash Wy P&amp;R-LkStv</td>\n",
       "      <td>b</td>\n",
       "      <td>716.51</td>\n",
       "      <td>339.27</td>\n",
       "      <td>0.00</td>\n",
       "    </tr>\n",
       "  </tbody>\n",
       "</table>\n",
       "</div>"
      ],
      "text/plain": [
       "                agency           description mode    Model  \\\n",
       "230  Community Transit            Swift Blue    b 6,111.13   \n",
       "231  Community Transit           Swift Green    b 2,443.35   \n",
       "200  Community Transit   116 Edm-Silver Firs    b 2,154.18   \n",
       "199  Community Transit  115 McClm P&R-AurVil    b 1,639.15   \n",
       "206  Community Transit  202 Smokey Pt-Lynnwd    b 1,473.54   \n",
       "205  Community Transit  201 Smokey Pt-Lynnwd    b 1,455.16   \n",
       "191  Community Transit  101 Mar P&R-Aur Vill    b 1,356.19   \n",
       "203  Community Transit  130 Edmonds-Lynnwood    b   909.67   \n",
       "198  Community Transit  113 Mukilteo-Lynn TC    b   773.69   \n",
       "195  Community Transit  109 Ash Wy P&R-LkStv    b   716.51   \n",
       "\n",
       "     2023 Spring Observed  2024 Spring Observed  \n",
       "230              5,403.45                  0.00  \n",
       "231              2,017.48                  0.00  \n",
       "200              1,072.31                  0.00  \n",
       "199                965.18                  0.00  \n",
       "206              1,138.86                  0.00  \n",
       "205              1,081.12                  0.00  \n",
       "191                810.47                  0.00  \n",
       "203                473.41                  0.00  \n",
       "198                763.82                  0.00  \n",
       "195                339.27                  0.00  "
      ]
     },
     "execution_count": 19,
     "metadata": {},
     "output_type": "execute_result"
    }
   ],
   "source": [
    "agency = 'Community Transit'\n",
    "df[df['agency'] == agency].sort_values('Model', ascending=False).head(10)[cols]"
   ]
  },
  {
   "cell_type": "raw",
   "id": "4e738512",
   "metadata": {},
   "source": [
    "#### Pierce Transit"
   ]
  },
  {
   "cell_type": "code",
   "execution_count": 20,
   "id": "5385aa93",
   "metadata": {},
   "outputs": [
    {
     "data": {
      "text/html": [
       "<div>\n",
       "<style scoped>\n",
       "    .dataframe tbody tr th:only-of-type {\n",
       "        vertical-align: middle;\n",
       "    }\n",
       "\n",
       "    .dataframe tbody tr th {\n",
       "        vertical-align: top;\n",
       "    }\n",
       "\n",
       "    .dataframe thead th {\n",
       "        text-align: right;\n",
       "    }\n",
       "</style>\n",
       "<table border=\"1\" class=\"dataframe\">\n",
       "  <thead>\n",
       "    <tr style=\"text-align: right;\">\n",
       "      <th></th>\n",
       "      <th>agency</th>\n",
       "      <th>description</th>\n",
       "      <th>mode</th>\n",
       "      <th>Model</th>\n",
       "      <th>2023 Spring Observed</th>\n",
       "      <th>2024 Spring Observed</th>\n",
       "    </tr>\n",
       "  </thead>\n",
       "  <tbody>\n",
       "    <tr>\n",
       "      <th>160</th>\n",
       "      <td>Pierce Transit</td>\n",
       "      <td>1 6th Ave-Pac Ave</td>\n",
       "      <td>b</td>\n",
       "      <td>1,924.06</td>\n",
       "      <td>3,035.00</td>\n",
       "      <td>3,633.00</td>\n",
       "    </tr>\n",
       "    <tr>\n",
       "      <th>161</th>\n",
       "      <td>Pierce Transit</td>\n",
       "      <td>2 S 19th-Bridgeport</td>\n",
       "      <td>b</td>\n",
       "      <td>1,353.31</td>\n",
       "      <td>1,729.00</td>\n",
       "      <td>1,774.00</td>\n",
       "    </tr>\n",
       "    <tr>\n",
       "      <th>185</th>\n",
       "      <td>Pierce Transit</td>\n",
       "      <td>402 Meridian</td>\n",
       "      <td>b</td>\n",
       "      <td>1,087.67</td>\n",
       "      <td>626.00</td>\n",
       "      <td>761.00</td>\n",
       "    </tr>\n",
       "    <tr>\n",
       "      <th>162</th>\n",
       "      <td>Pierce Transit</td>\n",
       "      <td>3 Lakewood-Tacoma</td>\n",
       "      <td>b</td>\n",
       "      <td>1,054.77</td>\n",
       "      <td>1,250.00</td>\n",
       "      <td>1,525.00</td>\n",
       "    </tr>\n",
       "    <tr>\n",
       "      <th>184</th>\n",
       "      <td>Pierce Transit</td>\n",
       "      <td>400 Puyllp-Tacoma</td>\n",
       "      <td>b</td>\n",
       "      <td>1,044.43</td>\n",
       "      <td>336.00</td>\n",
       "      <td>362.00</td>\n",
       "    </tr>\n",
       "    <tr>\n",
       "      <th>189</th>\n",
       "      <td>Pierce Transit</td>\n",
       "      <td>500 Federal Way</td>\n",
       "      <td>b</td>\n",
       "      <td>916.43</td>\n",
       "      <td>845.00</td>\n",
       "      <td>827.00</td>\n",
       "    </tr>\n",
       "    <tr>\n",
       "      <th>190</th>\n",
       "      <td>Pierce Transit</td>\n",
       "      <td>501 Miltn-Fed Way</td>\n",
       "      <td>b</td>\n",
       "      <td>864.37</td>\n",
       "      <td>431.00</td>\n",
       "      <td>488.00</td>\n",
       "    </tr>\n",
       "    <tr>\n",
       "      <th>163</th>\n",
       "      <td>Pierce Transit</td>\n",
       "      <td>4 Lakewd-South Hill</td>\n",
       "      <td>b</td>\n",
       "      <td>791.87</td>\n",
       "      <td>968.00</td>\n",
       "      <td>1,023.00</td>\n",
       "    </tr>\n",
       "    <tr>\n",
       "      <th>169</th>\n",
       "      <td>Pierce Transit</td>\n",
       "      <td>41 S 56th St-Salish</td>\n",
       "      <td>b</td>\n",
       "      <td>742.72</td>\n",
       "      <td>1,088.00</td>\n",
       "      <td>1,061.00</td>\n",
       "    </tr>\n",
       "    <tr>\n",
       "      <th>172</th>\n",
       "      <td>Pierce Transit</td>\n",
       "      <td>48 Sheridan-M St</td>\n",
       "      <td>b</td>\n",
       "      <td>673.10</td>\n",
       "      <td>1,065.00</td>\n",
       "      <td>1,134.00</td>\n",
       "    </tr>\n",
       "  </tbody>\n",
       "</table>\n",
       "</div>"
      ],
      "text/plain": [
       "             agency          description mode    Model  2023 Spring Observed  \\\n",
       "160  Pierce Transit    1 6th Ave-Pac Ave    b 1,924.06              3,035.00   \n",
       "161  Pierce Transit  2 S 19th-Bridgeport    b 1,353.31              1,729.00   \n",
       "185  Pierce Transit         402 Meridian    b 1,087.67                626.00   \n",
       "162  Pierce Transit    3 Lakewood-Tacoma    b 1,054.77              1,250.00   \n",
       "184  Pierce Transit    400 Puyllp-Tacoma    b 1,044.43                336.00   \n",
       "189  Pierce Transit      500 Federal Way    b   916.43                845.00   \n",
       "190  Pierce Transit    501 Miltn-Fed Way    b   864.37                431.00   \n",
       "163  Pierce Transit  4 Lakewd-South Hill    b   791.87                968.00   \n",
       "169  Pierce Transit  41 S 56th St-Salish    b   742.72              1,088.00   \n",
       "172  Pierce Transit     48 Sheridan-M St    b   673.10              1,065.00   \n",
       "\n",
       "     2024 Spring Observed  \n",
       "160              3,633.00  \n",
       "161              1,774.00  \n",
       "185                761.00  \n",
       "162              1,525.00  \n",
       "184                362.00  \n",
       "189                827.00  \n",
       "190                488.00  \n",
       "163              1,023.00  \n",
       "169              1,061.00  \n",
       "172              1,134.00  "
      ]
     },
     "execution_count": 20,
     "metadata": {},
     "output_type": "execute_result"
    }
   ],
   "source": [
    "agency = 'Pierce Transit'\n",
    "df[df['agency'] == agency].sort_values('Model', ascending=False).head(10)[cols]"
   ]
  },
  {
   "cell_type": "raw",
   "id": "61e52696",
   "metadata": {},
   "source": [
    "#### Kitsap Transit"
   ]
  },
  {
   "cell_type": "code",
   "execution_count": 21,
   "id": "9c35bb78",
   "metadata": {},
   "outputs": [
    {
     "data": {
      "text/html": [
       "<div>\n",
       "<style scoped>\n",
       "    .dataframe tbody tr th:only-of-type {\n",
       "        vertical-align: middle;\n",
       "    }\n",
       "\n",
       "    .dataframe tbody tr th {\n",
       "        vertical-align: top;\n",
       "    }\n",
       "\n",
       "    .dataframe thead th {\n",
       "        text-align: right;\n",
       "    }\n",
       "</style>\n",
       "<table border=\"1\" class=\"dataframe\">\n",
       "  <thead>\n",
       "    <tr style=\"text-align: right;\">\n",
       "      <th></th>\n",
       "      <th>agency</th>\n",
       "      <th>description</th>\n",
       "      <th>mode</th>\n",
       "      <th>Model</th>\n",
       "      <th>2023 Spring Observed</th>\n",
       "      <th>2024 Spring Observed</th>\n",
       "    </tr>\n",
       "  </thead>\n",
       "  <tbody>\n",
       "    <tr>\n",
       "      <th>270</th>\n",
       "      <td>Kitsap Transit</td>\n",
       "      <td>Seattle-Bremerton FF</td>\n",
       "      <td>f</td>\n",
       "      <td>3,021.51</td>\n",
       "      <td>1,913.00</td>\n",
       "      <td>2,068.00</td>\n",
       "    </tr>\n",
       "    <tr>\n",
       "      <th>271</th>\n",
       "      <td>Kitsap Transit</td>\n",
       "      <td>Brem-Pt Orchard FF</td>\n",
       "      <td>p</td>\n",
       "      <td>1,580.42</td>\n",
       "      <td>768.00</td>\n",
       "      <td>857.00</td>\n",
       "    </tr>\n",
       "    <tr>\n",
       "      <th>244</th>\n",
       "      <td>Kitsap Transit</td>\n",
       "      <td>217 Brem-Silverdle E</td>\n",
       "      <td>b</td>\n",
       "      <td>770.37</td>\n",
       "      <td>417.00</td>\n",
       "      <td>0.00</td>\n",
       "    </tr>\n",
       "    <tr>\n",
       "      <th>273</th>\n",
       "      <td>Kitsap Transit</td>\n",
       "      <td>Seattle-Southwrth FF</td>\n",
       "      <td>f</td>\n",
       "      <td>684.40</td>\n",
       "      <td>631.00</td>\n",
       "      <td>749.00</td>\n",
       "    </tr>\n",
       "    <tr>\n",
       "      <th>242</th>\n",
       "      <td>Kitsap Transit</td>\n",
       "      <td>212 Brem-Silverdle W</td>\n",
       "      <td>b</td>\n",
       "      <td>644.76</td>\n",
       "      <td>679.00</td>\n",
       "      <td>0.00</td>\n",
       "    </tr>\n",
       "    <tr>\n",
       "      <th>259</th>\n",
       "      <td>Kitsap Transit</td>\n",
       "      <td>86 Southwrth Shuttle</td>\n",
       "      <td>b</td>\n",
       "      <td>534.16</td>\n",
       "      <td>91.00</td>\n",
       "      <td>0.00</td>\n",
       "    </tr>\n",
       "    <tr>\n",
       "      <th>260</th>\n",
       "      <td>Kitsap Transit</td>\n",
       "      <td>390 Poulsbo-Bainbrdg</td>\n",
       "      <td>b</td>\n",
       "      <td>381.17</td>\n",
       "      <td>170.00</td>\n",
       "      <td>0.00</td>\n",
       "    </tr>\n",
       "    <tr>\n",
       "      <th>272</th>\n",
       "      <td>Kitsap Transit</td>\n",
       "      <td>Brem-Annapolis FF</td>\n",
       "      <td>p</td>\n",
       "      <td>323.08</td>\n",
       "      <td>469.00</td>\n",
       "      <td>568.00</td>\n",
       "    </tr>\n",
       "    <tr>\n",
       "      <th>240</th>\n",
       "      <td>Kitsap Transit</td>\n",
       "      <td>8 Bethel</td>\n",
       "      <td>b</td>\n",
       "      <td>256.65</td>\n",
       "      <td>152.00</td>\n",
       "      <td>0.00</td>\n",
       "    </tr>\n",
       "    <tr>\n",
       "      <th>243</th>\n",
       "      <td>Kitsap Transit</td>\n",
       "      <td>215 McWilliams</td>\n",
       "      <td>b</td>\n",
       "      <td>256.19</td>\n",
       "      <td>115.00</td>\n",
       "      <td>0.00</td>\n",
       "    </tr>\n",
       "  </tbody>\n",
       "</table>\n",
       "</div>"
      ],
      "text/plain": [
       "             agency           description mode    Model  2023 Spring Observed  \\\n",
       "270  Kitsap Transit  Seattle-Bremerton FF    f 3,021.51              1,913.00   \n",
       "271  Kitsap Transit    Brem-Pt Orchard FF    p 1,580.42                768.00   \n",
       "244  Kitsap Transit  217 Brem-Silverdle E    b   770.37                417.00   \n",
       "273  Kitsap Transit  Seattle-Southwrth FF    f   684.40                631.00   \n",
       "242  Kitsap Transit  212 Brem-Silverdle W    b   644.76                679.00   \n",
       "259  Kitsap Transit  86 Southwrth Shuttle    b   534.16                 91.00   \n",
       "260  Kitsap Transit  390 Poulsbo-Bainbrdg    b   381.17                170.00   \n",
       "272  Kitsap Transit     Brem-Annapolis FF    p   323.08                469.00   \n",
       "240  Kitsap Transit              8 Bethel    b   256.65                152.00   \n",
       "243  Kitsap Transit        215 McWilliams    b   256.19                115.00   \n",
       "\n",
       "     2024 Spring Observed  \n",
       "270              2,068.00  \n",
       "271                857.00  \n",
       "244                  0.00  \n",
       "273                749.00  \n",
       "242                  0.00  \n",
       "259                  0.00  \n",
       "260                  0.00  \n",
       "272                568.00  \n",
       "240                  0.00  \n",
       "243                  0.00  "
      ]
     },
     "execution_count": 21,
     "metadata": {},
     "output_type": "execute_result"
    }
   ],
   "source": [
    "agency = 'Kitsap Transit'\n",
    "df[df['agency'] == agency].sort_values('Model', ascending=False).head(10)[cols]"
   ]
  },
  {
   "cell_type": "raw",
   "id": "674756a8",
   "metadata": {},
   "source": [
    "#### Everett Transit"
   ]
  },
  {
   "cell_type": "code",
   "execution_count": 22,
   "id": "26ea3064",
   "metadata": {},
   "outputs": [
    {
     "data": {
      "text/html": [
       "<div>\n",
       "<style scoped>\n",
       "    .dataframe tbody tr th:only-of-type {\n",
       "        vertical-align: middle;\n",
       "    }\n",
       "\n",
       "    .dataframe tbody tr th {\n",
       "        vertical-align: top;\n",
       "    }\n",
       "\n",
       "    .dataframe thead th {\n",
       "        text-align: right;\n",
       "    }\n",
       "</style>\n",
       "<table border=\"1\" class=\"dataframe\">\n",
       "  <thead>\n",
       "    <tr style=\"text-align: right;\">\n",
       "      <th></th>\n",
       "      <th>agency</th>\n",
       "      <th>description</th>\n",
       "      <th>mode</th>\n",
       "      <th>Model</th>\n",
       "      <th>2023 Spring Observed</th>\n",
       "      <th>2024 Spring Observed</th>\n",
       "    </tr>\n",
       "  </thead>\n",
       "  <tbody>\n",
       "    <tr>\n",
       "      <th>315</th>\n",
       "      <td>Everett Transit</td>\n",
       "      <td>7 Coll Stn-Mall Stn</td>\n",
       "      <td>b</td>\n",
       "      <td>2,481.99</td>\n",
       "      <td>2,239.00</td>\n",
       "      <td>2,958.00</td>\n",
       "    </tr>\n",
       "    <tr>\n",
       "      <th>319</th>\n",
       "      <td>Everett Transit</td>\n",
       "      <td>29 Coll Stn-Mall Stn</td>\n",
       "      <td>b</td>\n",
       "      <td>1,220.41</td>\n",
       "      <td>881.00</td>\n",
       "      <td>1,185.00</td>\n",
       "    </tr>\n",
       "    <tr>\n",
       "      <th>312</th>\n",
       "      <td>Everett Transit</td>\n",
       "      <td>3 Seaway TC-Evt Stn</td>\n",
       "      <td>b</td>\n",
       "      <td>320.68</td>\n",
       "      <td>285.00</td>\n",
       "      <td>381.00</td>\n",
       "    </tr>\n",
       "    <tr>\n",
       "      <th>316</th>\n",
       "      <td>Everett Transit</td>\n",
       "      <td>8 Airport Rd-Evt Stn</td>\n",
       "      <td>b</td>\n",
       "      <td>126.60</td>\n",
       "      <td>156.00</td>\n",
       "      <td>201.00</td>\n",
       "    </tr>\n",
       "    <tr>\n",
       "      <th>311</th>\n",
       "      <td>Everett Transit</td>\n",
       "      <td>2 Marnr P&amp;R-Mall Stn</td>\n",
       "      <td>b</td>\n",
       "      <td>87.08</td>\n",
       "      <td>148.00</td>\n",
       "      <td>255.00</td>\n",
       "    </tr>\n",
       "    <tr>\n",
       "      <th>314</th>\n",
       "      <td>Everett Transit</td>\n",
       "      <td>6 Waterfront-Evt Stn</td>\n",
       "      <td>b</td>\n",
       "      <td>74.89</td>\n",
       "      <td>62.00</td>\n",
       "      <td>91.00</td>\n",
       "    </tr>\n",
       "    <tr>\n",
       "      <th>317</th>\n",
       "      <td>Everett Transit</td>\n",
       "      <td>12 Mall Stn-Seawy TC</td>\n",
       "      <td>b</td>\n",
       "      <td>69.55</td>\n",
       "      <td>256.00</td>\n",
       "      <td>457.00</td>\n",
       "    </tr>\n",
       "    <tr>\n",
       "      <th>318</th>\n",
       "      <td>Everett Transit</td>\n",
       "      <td>18 Mukilteo-Evt Stn</td>\n",
       "      <td>b</td>\n",
       "      <td>64.36</td>\n",
       "      <td>60.00</td>\n",
       "      <td>136.00</td>\n",
       "    </tr>\n",
       "    <tr>\n",
       "      <th>313</th>\n",
       "      <td>Everett Transit</td>\n",
       "      <td>4 Evt Stn-Collge Stn</td>\n",
       "      <td>b</td>\n",
       "      <td>64.25</td>\n",
       "      <td>114.00</td>\n",
       "      <td>198.00</td>\n",
       "    </tr>\n",
       "  </tbody>\n",
       "</table>\n",
       "</div>"
      ],
      "text/plain": [
       "              agency           description mode    Model  \\\n",
       "315  Everett Transit   7 Coll Stn-Mall Stn    b 2,481.99   \n",
       "319  Everett Transit  29 Coll Stn-Mall Stn    b 1,220.41   \n",
       "312  Everett Transit   3 Seaway TC-Evt Stn    b   320.68   \n",
       "316  Everett Transit  8 Airport Rd-Evt Stn    b   126.60   \n",
       "311  Everett Transit  2 Marnr P&R-Mall Stn    b    87.08   \n",
       "314  Everett Transit  6 Waterfront-Evt Stn    b    74.89   \n",
       "317  Everett Transit  12 Mall Stn-Seawy TC    b    69.55   \n",
       "318  Everett Transit   18 Mukilteo-Evt Stn    b    64.36   \n",
       "313  Everett Transit  4 Evt Stn-Collge Stn    b    64.25   \n",
       "\n",
       "     2023 Spring Observed  2024 Spring Observed  \n",
       "315              2,239.00              2,958.00  \n",
       "319                881.00              1,185.00  \n",
       "312                285.00                381.00  \n",
       "316                156.00                201.00  \n",
       "311                148.00                255.00  \n",
       "314                 62.00                 91.00  \n",
       "317                256.00                457.00  \n",
       "318                 60.00                136.00  \n",
       "313                114.00                198.00  "
      ]
     },
     "execution_count": 22,
     "metadata": {},
     "output_type": "execute_result"
    }
   ],
   "source": [
    "agency = 'Everett Transit'\n",
    "df[df['agency'] == agency].sort_values('Model', ascending=False).head(10)[cols]"
   ]
  },
  {
   "cell_type": "raw",
   "id": "65fb23f5",
   "metadata": {},
   "source": [
    ":::"
   ]
  },
  {
   "cell_type": "markdown",
   "id": "7d3ea810",
   "metadata": {
    "vscode": {
     "languageId": "raw"
    }
   },
   "source": [
    "### boarding by time of day"
   ]
  },
  {
   "cell_type": "code",
   "execution_count": 23,
   "id": "efcc5c51",
   "metadata": {},
   "outputs": [
    {
     "data": {
      "text/html": [
       "        <script type=\"text/javascript\">\n",
       "        window.PlotlyConfig = {MathJaxConfig: 'local'};\n",
       "        if (window.MathJax && window.MathJax.Hub && window.MathJax.Hub.Config) {window.MathJax.Hub.Config({SVG: {font: \"STIX-Web\"}});}\n",
       "        if (typeof require !== 'undefined') {\n",
       "        require.undef(\"plotly\");\n",
       "        requirejs.config({\n",
       "            paths: {\n",
       "                'plotly': ['https://cdn.plot.ly/plotly-2.27.0.min']\n",
       "            }\n",
       "        });\n",
       "        require(['plotly'], function(Plotly) {\n",
       "            window._Plotly = Plotly;\n",
       "        });\n",
       "        }\n",
       "        </script>\n",
       "        "
      ]
     },
     "metadata": {},
     "output_type": "display_data"
    },
    {
     "data": {
      "application/vnd.plotly.v1+json": {
       "config": {
        "plotlyServerURL": "https://plot.ly"
       },
       "data": [
        {
         "mode": "lines",
         "name": "101 Mar P&R-Aur Vill",
         "type": "scatter",
         "visible": true,
         "x": [
          "10to14",
          "14to15",
          "15to16",
          "16to17",
          "17to18",
          "18to20",
          "20to5",
          "5to6",
          "6to7",
          "7to8",
          "8to9",
          "9to10",
          "10to11",
          "11to12",
          "12to13",
          "13to14",
          "18to19",
          "19to20",
          "20to21",
          "21to22",
          "22to23",
          "23to0",
          "0to1",
          "1to2",
          "2to3",
          "3to4",
          "4to5"
         ],
         "y": [
          400.9065246582031,
          81.84231948852539,
          93.8329849243164,
          100.58981323242188,
          93.85240173339844,
          215.99152374267578,
          62.632259368896484,
          13.113530158996582,
          34.14624500274658,
          62.90309143066406,
          111.25529098510742,
          85.12248229980469,
          100.22663116455078,
          100.22663116455078,
          100.22663116455078,
          100.22663116455078,
          107.99576187133789,
          107.99576187133789,
          6.959139929877387,
          6.959139929877387,
          6.959139929877387,
          6.959139929877387,
          6.959139929877387,
          6.959139929877387,
          6.959139929877387,
          6.959139929877387,
          6.959139929877387
         ]
        },
        {
         "mode": "lines",
         "name": "105 Mariner P&R-Both",
         "type": "scatter",
         "visible": false,
         "x": [
          "10to14",
          "14to15",
          "15to16",
          "16to17",
          "17to18",
          "18to20",
          "20to5",
          "5to6",
          "6to7",
          "7to8",
          "8to9",
          "9to10",
          "10to11",
          "11to12",
          "12to13",
          "13to14",
          "18to19",
          "19to20",
          "20to21",
          "21to22",
          "22to23",
          "23to0",
          "0to1",
          "1to2",
          "2to3",
          "3to4",
          "4to5"
         ],
         "y": [
          154.55112838745117,
          36.084917068481445,
          49.87970352172852,
          36.93094825744629,
          38.596012115478516,
          35.914459228515625,
          25.760277271270752,
          12.383849143981934,
          24.91982078552246,
          34.5671272277832,
          17.050249099731445,
          23.199653148651123,
          38.63778209686279,
          38.63778209686279,
          38.63778209686279,
          38.63778209686279,
          17.957229614257812,
          17.957229614257812,
          2.862253030141195,
          2.862253030141195,
          2.862253030141195,
          2.862253030141195,
          2.862253030141195,
          2.862253030141195,
          2.862253030141195,
          2.862253030141195,
          2.862253030141195
         ]
        },
        {
         "mode": "lines",
         "name": "106 Mariner P&R-Both",
         "type": "scatter",
         "visible": false,
         "x": [
          "16to17",
          "17to18",
          "18to20",
          "5to6",
          "6to7",
          "7to8",
          "18to19",
          "19to20"
         ],
         "y": [
          36.00284957885742,
          42.870656967163086,
          10.17893123626709,
          9.88999319076538,
          33.27436637878418,
          20.93498039245605,
          5.089465618133545,
          5.089465618133545
         ]
        },
        {
         "mode": "lines",
         "name": "109 Ash Wy P&R-LkStv",
         "type": "scatter",
         "visible": false,
         "x": [
          "10to14",
          "14to15",
          "15to16",
          "16to17",
          "17to18",
          "18to20",
          "20to5",
          "5to6",
          "6to7",
          "7to8",
          "8to9",
          "9to10",
          "10to11",
          "11to12",
          "12to13",
          "13to14",
          "18to19",
          "19to20",
          "20to21",
          "21to22",
          "22to23",
          "23to0",
          "0to1",
          "1to2",
          "2to3",
          "3to4",
          "4to5"
         ],
         "y": [
          171.77162170410156,
          40.71148490905762,
          69.9940242767334,
          41.916255950927734,
          67.22843551635742,
          100.75682067871094,
          53.245025634765625,
          23.518588066101074,
          31.416287422180176,
          34.71936511993408,
          37.7275276184082,
          43.500182151794434,
          42.94290542602539,
          42.94290542602539,
          42.94290542602539,
          42.94290542602539,
          50.37841033935547,
          50.37841033935547,
          5.916113959418403,
          5.916113959418403,
          5.916113959418403,
          5.916113959418403,
          5.916113959418403,
          5.916113959418403,
          5.916113959418403,
          5.916113959418403,
          5.916113959418403
         ]
        },
        {
         "mode": "lines",
         "name": "112 MLT TC-Ash P&R",
         "type": "scatter",
         "visible": false,
         "x": [
          "10to14",
          "14to15",
          "15to16",
          "16to17",
          "17to18",
          "18to20",
          "20to5",
          "5to6",
          "6to7",
          "7to8",
          "8to9",
          "9to10",
          "10to11",
          "11to12",
          "12to13",
          "13to14",
          "18to19",
          "19to20",
          "20to21",
          "21to22",
          "22to23",
          "23to0",
          "0to1",
          "1to2",
          "2to3",
          "3to4",
          "4to5"
         ],
         "y": [
          61.346290588378906,
          17.53741455078125,
          17.0484619140625,
          13.180638313293457,
          17.72919750213623,
          39.559661865234375,
          4.715250611305237,
          13.784842014312744,
          10.720597743988037,
          16.500886917114258,
          19.3465518951416,
          19.790783882141113,
          15.336572647094727,
          15.336572647094727,
          15.336572647094727,
          15.336572647094727,
          19.779830932617188,
          19.779830932617188,
          0.5239167345894707,
          0.5239167345894707,
          0.5239167345894707,
          0.5239167345894707,
          0.5239167345894707,
          0.5239167345894707,
          0.5239167345894707,
          0.5239167345894707,
          0.5239167345894707
         ]
        },
        {
         "mode": "lines",
         "name": "113 Mukilteo-Lynn TC",
         "type": "scatter",
         "visible": false,
         "x": [
          "10to14",
          "14to15",
          "15to16",
          "16to17",
          "17to18",
          "18to20",
          "20to5",
          "5to6",
          "6to7",
          "7to8",
          "8to9",
          "9to10",
          "10to11",
          "11to12",
          "12to13",
          "13to14",
          "18to19",
          "19to20",
          "20to21",
          "21to22",
          "22to23",
          "23to0",
          "0to1",
          "1to2",
          "2to3",
          "3to4",
          "4to5"
         ],
         "y": [
          185.82452392578125,
          73.63661766052246,
          52.59980297088623,
          67.62470054626465,
          71.26116180419922,
          113.02753829956055,
          29.753439903259277,
          14.994471549987793,
          21.907090663909912,
          51.88254165649414,
          47.28240203857422,
          43.89325141906738,
          46.45613098144531,
          46.45613098144531,
          46.45613098144531,
          46.45613098144531,
          56.51376914978027,
          56.51376914978027,
          3.3059377670288086,
          3.3059377670288086,
          3.3059377670288086,
          3.3059377670288086,
          3.3059377670288086,
          3.3059377670288086,
          3.3059377670288086,
          3.3059377670288086,
          3.3059377670288086
         ]
        },
        {
         "mode": "lines",
         "name": "115 McClm P&R-AurVil",
         "type": "scatter",
         "visible": false,
         "x": [
          "10to14",
          "14to15",
          "15to16",
          "16to17",
          "17to18",
          "18to20",
          "20to5",
          "5to6",
          "6to7",
          "7to8",
          "8to9",
          "9to10",
          "10to11",
          "11to12",
          "12to13",
          "13to14",
          "18to19",
          "19to20",
          "20to21",
          "21to22",
          "22to23",
          "23to0",
          "0to1",
          "1to2",
          "2to3",
          "3to4",
          "4to5"
         ],
         "y": [
          487.2982635498047,
          107.06480026245117,
          194.59461975097656,
          68.42989540100098,
          117.73274230957031,
          197.62203979492188,
          45.92714881896973,
          20.211034774780273,
          72.05054664611816,
          96.28793525695801,
          114.55595397949219,
          117.37371826171875,
          121.82456588745117,
          121.82456588745117,
          121.82456588745117,
          121.82456588745117,
          98.81101989746094,
          98.81101989746094,
          5.103016535441081,
          5.103016535441081,
          5.103016535441081,
          5.103016535441081,
          5.103016535441081,
          5.103016535441081,
          5.103016535441081,
          5.103016535441081,
          5.103016535441081
         ]
        },
        {
         "mode": "lines",
         "name": "116 Edm-Silver Firs",
         "type": "scatter",
         "visible": false,
         "x": [
          "10to14",
          "14to15",
          "15to16",
          "16to17",
          "17to18",
          "18to20",
          "20to5",
          "5to6",
          "6to7",
          "7to8",
          "8to9",
          "9to10",
          "10to11",
          "11to12",
          "12to13",
          "13to14",
          "18to19",
          "19to20",
          "20to21",
          "21to22",
          "22to23",
          "23to0",
          "0to1",
          "1to2",
          "2to3",
          "3to4",
          "4to5"
         ],
         "y": [
          672.72705078125,
          184.60092163085938,
          122.30799102783203,
          209.59928131103516,
          87.93965148925783,
          204.73204040527344,
          80.86144065856934,
          60.74825859069824,
          128.68994903564453,
          80.59414672851562,
          222.73062133789062,
          98.64788436889648,
          168.1817626953125,
          168.1817626953125,
          168.1817626953125,
          168.1817626953125,
          102.36602020263672,
          102.36602020263672,
          8.984604517618815,
          8.984604517618815,
          8.984604517618815,
          8.984604517618815,
          8.984604517618815,
          8.984604517618815,
          8.984604517618815,
          8.984604517618815,
          8.984604517618815
         ]
        },
        {
         "mode": "lines",
         "name": "119 Ash P&R-MLT TC",
         "type": "scatter",
         "visible": false,
         "x": [
          "10to14",
          "14to15",
          "15to16",
          "16to17",
          "17to18",
          "18to20",
          "20to5",
          "5to6",
          "6to7",
          "7to8",
          "8to9",
          "9to10",
          "10to11",
          "11to12",
          "12to13",
          "13to14",
          "18to19",
          "19to20",
          "20to21",
          "21to22",
          "22to23",
          "23to0",
          "0to1",
          "1to2",
          "2to3",
          "3to4",
          "4to5"
         ],
         "y": [
          49.90281105041504,
          14.839287281036377,
          11.454493045806885,
          14.160880088806152,
          7.716092824935913,
          28.08559799194336,
          2.264133036136627,
          3.3493871688842773,
          14.307316780090332,
          20.0289888381958,
          18.13100814819336,
          15.909092903137207,
          12.47570276260376,
          12.47570276260376,
          12.47570276260376,
          12.47570276260376,
          14.04279899597168,
          14.04279899597168,
          0.25157033734851414,
          0.25157033734851414,
          0.25157033734851414,
          0.25157033734851414,
          0.25157033734851414,
          0.25157033734851414,
          0.25157033734851414,
          0.25157033734851414,
          0.25157033734851414
         ]
        },
        {
         "mode": "lines",
         "name": "120 Canyon Pk-Lyn TC",
         "type": "scatter",
         "visible": false,
         "x": [
          "10to14",
          "14to15",
          "15to16",
          "16to17",
          "17to18",
          "18to20",
          "20to5",
          "5to6",
          "6to7",
          "7to8",
          "8to9",
          "9to10",
          "10to11",
          "11to12",
          "12to13",
          "13to14",
          "18to19",
          "19to20",
          "20to21",
          "21to22",
          "22to23",
          "23to0",
          "0to1",
          "1to2",
          "2to3",
          "3to4",
          "4to5"
         ],
         "y": [
          158.12307739257812,
          40.762990951538086,
          57.14285850524902,
          42.16356563568115,
          44.49627876281738,
          75.18375015258789,
          18.82323980331421,
          25.278297424316406,
          34.473602294921875,
          44.964677810668945,
          48.03704833984375,
          40.273231506347656,
          39.53076934814453,
          39.53076934814453,
          39.53076934814453,
          39.53076934814453,
          37.591875076293945,
          37.591875076293945,
          2.0914710892571344,
          2.0914710892571344,
          2.0914710892571344,
          2.0914710892571344,
          2.0914710892571344,
          2.0914710892571344,
          2.0914710892571344,
          2.0914710892571344,
          2.0914710892571344
         ]
        }
       ],
       "layout": {
        "font": {
         "size": 11
        },
        "height": 500,
        "template": {
         "data": {
          "bar": [
           {
            "error_x": {
             "color": "rgb(36,36,36)"
            },
            "error_y": {
             "color": "rgb(36,36,36)"
            },
            "marker": {
             "line": {
              "color": "white",
              "width": 0.5
             },
             "pattern": {
              "fillmode": "overlay",
              "size": 10,
              "solidity": 0.2
             }
            },
            "type": "bar"
           }
          ],
          "barpolar": [
           {
            "marker": {
             "line": {
              "color": "white",
              "width": 0.5
             },
             "pattern": {
              "fillmode": "overlay",
              "size": 10,
              "solidity": 0.2
             }
            },
            "type": "barpolar"
           }
          ],
          "carpet": [
           {
            "aaxis": {
             "endlinecolor": "rgb(36,36,36)",
             "gridcolor": "white",
             "linecolor": "white",
             "minorgridcolor": "white",
             "startlinecolor": "rgb(36,36,36)"
            },
            "baxis": {
             "endlinecolor": "rgb(36,36,36)",
             "gridcolor": "white",
             "linecolor": "white",
             "minorgridcolor": "white",
             "startlinecolor": "rgb(36,36,36)"
            },
            "type": "carpet"
           }
          ],
          "choropleth": [
           {
            "colorbar": {
             "outlinewidth": 1,
             "tickcolor": "rgb(36,36,36)",
             "ticks": "outside"
            },
            "type": "choropleth"
           }
          ],
          "contour": [
           {
            "colorbar": {
             "outlinewidth": 1,
             "tickcolor": "rgb(36,36,36)",
             "ticks": "outside"
            },
            "colorscale": [
             [
              0.0,
              "#440154"
             ],
             [
              0.1111111111111111,
              "#482878"
             ],
             [
              0.2222222222222222,
              "#3e4989"
             ],
             [
              0.3333333333333333,
              "#31688e"
             ],
             [
              0.4444444444444444,
              "#26828e"
             ],
             [
              0.5555555555555556,
              "#1f9e89"
             ],
             [
              0.6666666666666666,
              "#35b779"
             ],
             [
              0.7777777777777778,
              "#6ece58"
             ],
             [
              0.8888888888888888,
              "#b5de2b"
             ],
             [
              1.0,
              "#fde725"
             ]
            ],
            "type": "contour"
           }
          ],
          "contourcarpet": [
           {
            "colorbar": {
             "outlinewidth": 1,
             "tickcolor": "rgb(36,36,36)",
             "ticks": "outside"
            },
            "type": "contourcarpet"
           }
          ],
          "heatmap": [
           {
            "colorbar": {
             "outlinewidth": 1,
             "tickcolor": "rgb(36,36,36)",
             "ticks": "outside"
            },
            "colorscale": [
             [
              0.0,
              "#440154"
             ],
             [
              0.1111111111111111,
              "#482878"
             ],
             [
              0.2222222222222222,
              "#3e4989"
             ],
             [
              0.3333333333333333,
              "#31688e"
             ],
             [
              0.4444444444444444,
              "#26828e"
             ],
             [
              0.5555555555555556,
              "#1f9e89"
             ],
             [
              0.6666666666666666,
              "#35b779"
             ],
             [
              0.7777777777777778,
              "#6ece58"
             ],
             [
              0.8888888888888888,
              "#b5de2b"
             ],
             [
              1.0,
              "#fde725"
             ]
            ],
            "type": "heatmap"
           }
          ],
          "heatmapgl": [
           {
            "colorbar": {
             "outlinewidth": 1,
             "tickcolor": "rgb(36,36,36)",
             "ticks": "outside"
            },
            "colorscale": [
             [
              0.0,
              "#440154"
             ],
             [
              0.1111111111111111,
              "#482878"
             ],
             [
              0.2222222222222222,
              "#3e4989"
             ],
             [
              0.3333333333333333,
              "#31688e"
             ],
             [
              0.4444444444444444,
              "#26828e"
             ],
             [
              0.5555555555555556,
              "#1f9e89"
             ],
             [
              0.6666666666666666,
              "#35b779"
             ],
             [
              0.7777777777777778,
              "#6ece58"
             ],
             [
              0.8888888888888888,
              "#b5de2b"
             ],
             [
              1.0,
              "#fde725"
             ]
            ],
            "type": "heatmapgl"
           }
          ],
          "histogram": [
           {
            "marker": {
             "line": {
              "color": "white",
              "width": 0.6
             }
            },
            "type": "histogram"
           }
          ],
          "histogram2d": [
           {
            "colorbar": {
             "outlinewidth": 1,
             "tickcolor": "rgb(36,36,36)",
             "ticks": "outside"
            },
            "colorscale": [
             [
              0.0,
              "#440154"
             ],
             [
              0.1111111111111111,
              "#482878"
             ],
             [
              0.2222222222222222,
              "#3e4989"
             ],
             [
              0.3333333333333333,
              "#31688e"
             ],
             [
              0.4444444444444444,
              "#26828e"
             ],
             [
              0.5555555555555556,
              "#1f9e89"
             ],
             [
              0.6666666666666666,
              "#35b779"
             ],
             [
              0.7777777777777778,
              "#6ece58"
             ],
             [
              0.8888888888888888,
              "#b5de2b"
             ],
             [
              1.0,
              "#fde725"
             ]
            ],
            "type": "histogram2d"
           }
          ],
          "histogram2dcontour": [
           {
            "colorbar": {
             "outlinewidth": 1,
             "tickcolor": "rgb(36,36,36)",
             "ticks": "outside"
            },
            "colorscale": [
             [
              0.0,
              "#440154"
             ],
             [
              0.1111111111111111,
              "#482878"
             ],
             [
              0.2222222222222222,
              "#3e4989"
             ],
             [
              0.3333333333333333,
              "#31688e"
             ],
             [
              0.4444444444444444,
              "#26828e"
             ],
             [
              0.5555555555555556,
              "#1f9e89"
             ],
             [
              0.6666666666666666,
              "#35b779"
             ],
             [
              0.7777777777777778,
              "#6ece58"
             ],
             [
              0.8888888888888888,
              "#b5de2b"
             ],
             [
              1.0,
              "#fde725"
             ]
            ],
            "type": "histogram2dcontour"
           }
          ],
          "mesh3d": [
           {
            "colorbar": {
             "outlinewidth": 1,
             "tickcolor": "rgb(36,36,36)",
             "ticks": "outside"
            },
            "type": "mesh3d"
           }
          ],
          "parcoords": [
           {
            "line": {
             "colorbar": {
              "outlinewidth": 1,
              "tickcolor": "rgb(36,36,36)",
              "ticks": "outside"
             }
            },
            "type": "parcoords"
           }
          ],
          "pie": [
           {
            "automargin": true,
            "type": "pie"
           }
          ],
          "scatter": [
           {
            "fillpattern": {
             "fillmode": "overlay",
             "size": 10,
             "solidity": 0.2
            },
            "type": "scatter"
           }
          ],
          "scatter3d": [
           {
            "line": {
             "colorbar": {
              "outlinewidth": 1,
              "tickcolor": "rgb(36,36,36)",
              "ticks": "outside"
             }
            },
            "marker": {
             "colorbar": {
              "outlinewidth": 1,
              "tickcolor": "rgb(36,36,36)",
              "ticks": "outside"
             }
            },
            "type": "scatter3d"
           }
          ],
          "scattercarpet": [
           {
            "marker": {
             "colorbar": {
              "outlinewidth": 1,
              "tickcolor": "rgb(36,36,36)",
              "ticks": "outside"
             }
            },
            "type": "scattercarpet"
           }
          ],
          "scattergeo": [
           {
            "marker": {
             "colorbar": {
              "outlinewidth": 1,
              "tickcolor": "rgb(36,36,36)",
              "ticks": "outside"
             }
            },
            "type": "scattergeo"
           }
          ],
          "scattergl": [
           {
            "marker": {
             "colorbar": {
              "outlinewidth": 1,
              "tickcolor": "rgb(36,36,36)",
              "ticks": "outside"
             }
            },
            "type": "scattergl"
           }
          ],
          "scattermapbox": [
           {
            "marker": {
             "colorbar": {
              "outlinewidth": 1,
              "tickcolor": "rgb(36,36,36)",
              "ticks": "outside"
             }
            },
            "type": "scattermapbox"
           }
          ],
          "scatterpolar": [
           {
            "marker": {
             "colorbar": {
              "outlinewidth": 1,
              "tickcolor": "rgb(36,36,36)",
              "ticks": "outside"
             }
            },
            "type": "scatterpolar"
           }
          ],
          "scatterpolargl": [
           {
            "marker": {
             "colorbar": {
              "outlinewidth": 1,
              "tickcolor": "rgb(36,36,36)",
              "ticks": "outside"
             }
            },
            "type": "scatterpolargl"
           }
          ],
          "scatterternary": [
           {
            "marker": {
             "colorbar": {
              "outlinewidth": 1,
              "tickcolor": "rgb(36,36,36)",
              "ticks": "outside"
             }
            },
            "type": "scatterternary"
           }
          ],
          "surface": [
           {
            "colorbar": {
             "outlinewidth": 1,
             "tickcolor": "rgb(36,36,36)",
             "ticks": "outside"
            },
            "colorscale": [
             [
              0.0,
              "#440154"
             ],
             [
              0.1111111111111111,
              "#482878"
             ],
             [
              0.2222222222222222,
              "#3e4989"
             ],
             [
              0.3333333333333333,
              "#31688e"
             ],
             [
              0.4444444444444444,
              "#26828e"
             ],
             [
              0.5555555555555556,
              "#1f9e89"
             ],
             [
              0.6666666666666666,
              "#35b779"
             ],
             [
              0.7777777777777778,
              "#6ece58"
             ],
             [
              0.8888888888888888,
              "#b5de2b"
             ],
             [
              1.0,
              "#fde725"
             ]
            ],
            "type": "surface"
           }
          ],
          "table": [
           {
            "cells": {
             "fill": {
              "color": "rgb(237,237,237)"
             },
             "line": {
              "color": "white"
             }
            },
            "header": {
             "fill": {
              "color": "rgb(217,217,217)"
             },
             "line": {
              "color": "white"
             }
            },
            "type": "table"
           }
          ]
         },
         "layout": {
          "annotationdefaults": {
           "arrowhead": 0,
           "arrowwidth": 1
          },
          "autotypenumbers": "strict",
          "coloraxis": {
           "colorbar": {
            "outlinewidth": 1,
            "tickcolor": "rgb(36,36,36)",
            "ticks": "outside"
           }
          },
          "colorscale": {
           "diverging": [
            [
             0.0,
             "rgb(103,0,31)"
            ],
            [
             0.1,
             "rgb(178,24,43)"
            ],
            [
             0.2,
             "rgb(214,96,77)"
            ],
            [
             0.3,
             "rgb(244,165,130)"
            ],
            [
             0.4,
             "rgb(253,219,199)"
            ],
            [
             0.5,
             "rgb(247,247,247)"
            ],
            [
             0.6,
             "rgb(209,229,240)"
            ],
            [
             0.7,
             "rgb(146,197,222)"
            ],
            [
             0.8,
             "rgb(67,147,195)"
            ],
            [
             0.9,
             "rgb(33,102,172)"
            ],
            [
             1.0,
             "rgb(5,48,97)"
            ]
           ],
           "sequential": [
            [
             0.0,
             "#440154"
            ],
            [
             0.1111111111111111,
             "#482878"
            ],
            [
             0.2222222222222222,
             "#3e4989"
            ],
            [
             0.3333333333333333,
             "#31688e"
            ],
            [
             0.4444444444444444,
             "#26828e"
            ],
            [
             0.5555555555555556,
             "#1f9e89"
            ],
            [
             0.6666666666666666,
             "#35b779"
            ],
            [
             0.7777777777777778,
             "#6ece58"
            ],
            [
             0.8888888888888888,
             "#b5de2b"
            ],
            [
             1.0,
             "#fde725"
            ]
           ],
           "sequentialminus": [
            [
             0.0,
             "#440154"
            ],
            [
             0.1111111111111111,
             "#482878"
            ],
            [
             0.2222222222222222,
             "#3e4989"
            ],
            [
             0.3333333333333333,
             "#31688e"
            ],
            [
             0.4444444444444444,
             "#26828e"
            ],
            [
             0.5555555555555556,
             "#1f9e89"
            ],
            [
             0.6666666666666666,
             "#35b779"
            ],
            [
             0.7777777777777778,
             "#6ece58"
            ],
            [
             0.8888888888888888,
             "#b5de2b"
            ],
            [
             1.0,
             "#fde725"
            ]
           ]
          },
          "colorway": [
           "#91268F",
           "#8CC63E",
           "#00A7A0",
           "#F05A28",
           "#4C4C4C",
           "#630460",
           "#9f3913",
           "#588527",
           "#00716c",
           "#3e4040"
          ],
          "font": {
           "color": "rgb(36,36,36)",
           "family": "Poppins",
           "size": 11
          },
          "geo": {
           "bgcolor": "white",
           "lakecolor": "white",
           "landcolor": "white",
           "showlakes": true,
           "showland": true,
           "subunitcolor": "white"
          },
          "hoverlabel": {
           "align": "left"
          },
          "hovermode": "closest",
          "mapbox": {
           "style": "light"
          },
          "paper_bgcolor": "white",
          "plot_bgcolor": "white",
          "polar": {
           "angularaxis": {
            "gridcolor": "rgb(232,232,232)",
            "linecolor": "rgb(36,36,36)",
            "showgrid": false,
            "showline": true,
            "ticks": "outside"
           },
           "bgcolor": "white",
           "radialaxis": {
            "gridcolor": "rgb(232,232,232)",
            "linecolor": "rgb(36,36,36)",
            "showgrid": false,
            "showline": true,
            "ticks": "outside"
           }
          },
          "scene": {
           "xaxis": {
            "backgroundcolor": "white",
            "gridcolor": "rgb(232,232,232)",
            "gridwidth": 2,
            "linecolor": "rgb(36,36,36)",
            "showbackground": true,
            "showgrid": false,
            "showline": true,
            "ticks": "outside",
            "zeroline": false,
            "zerolinecolor": "rgb(36,36,36)"
           },
           "yaxis": {
            "backgroundcolor": "white",
            "gridcolor": "rgb(232,232,232)",
            "gridwidth": 2,
            "linecolor": "rgb(36,36,36)",
            "showbackground": true,
            "showgrid": false,
            "showline": true,
            "ticks": "outside",
            "zeroline": false,
            "zerolinecolor": "rgb(36,36,36)"
           },
           "zaxis": {
            "backgroundcolor": "white",
            "gridcolor": "rgb(232,232,232)",
            "gridwidth": 2,
            "linecolor": "rgb(36,36,36)",
            "showbackground": true,
            "showgrid": false,
            "showline": true,
            "ticks": "outside",
            "zeroline": false,
            "zerolinecolor": "rgb(36,36,36)"
           }
          },
          "shapedefaults": {
           "fillcolor": "black",
           "line": {
            "width": 0
           },
           "opacity": 0.3
          },
          "ternary": {
           "aaxis": {
            "gridcolor": "rgb(232,232,232)",
            "linecolor": "rgb(36,36,36)",
            "showgrid": false,
            "showline": true,
            "ticks": "outside"
           },
           "baxis": {
            "gridcolor": "rgb(232,232,232)",
            "linecolor": "rgb(36,36,36)",
            "showgrid": false,
            "showline": true,
            "ticks": "outside"
           },
           "bgcolor": "white",
           "caxis": {
            "gridcolor": "rgb(232,232,232)",
            "linecolor": "rgb(36,36,36)",
            "showgrid": false,
            "showline": true,
            "ticks": "outside"
           }
          },
          "title": {
           "x": 0.05
          },
          "xaxis": {
           "automargin": true,
           "gridcolor": "rgb(232,232,232)",
           "linecolor": "rgb(36,36,36)",
           "showgrid": false,
           "showline": true,
           "ticks": "outside",
           "title": {
            "standoff": 15
           },
           "zeroline": false,
           "zerolinecolor": "rgb(36,36,36)"
          },
          "yaxis": {
           "automargin": true,
           "gridcolor": "rgb(232,232,232)",
           "linecolor": "rgb(36,36,36)",
           "showgrid": false,
           "showline": true,
           "ticks": "outside",
           "title": {
            "standoff": 15
           },
           "zeroline": false,
           "zerolinecolor": "rgb(36,36,36)"
          }
         }
        },
        "title": {
         "text": "Description: 101 Mar P&R-Aur Vill"
        },
        "updatemenus": [
         {
          "buttons": [
           {
            "args": [
             {
              "visible": [
               true,
               false,
               false,
               false,
               false,
               false,
               false,
               false,
               false,
               false
              ]
             },
             {
              "title": "Description: 101 Mar P&R-Aur Vill"
             }
            ],
            "label": "101 Mar P&R-Aur Vill",
            "method": "update"
           },
           {
            "args": [
             {
              "visible": [
               false,
               true,
               false,
               false,
               false,
               false,
               false,
               false,
               false,
               false
              ]
             },
             {
              "title": "Description: 105 Mariner P&R-Both"
             }
            ],
            "label": "105 Mariner P&R-Both",
            "method": "update"
           },
           {
            "args": [
             {
              "visible": [
               false,
               false,
               true,
               false,
               false,
               false,
               false,
               false,
               false,
               false
              ]
             },
             {
              "title": "Description: 106 Mariner P&R-Both"
             }
            ],
            "label": "106 Mariner P&R-Both",
            "method": "update"
           },
           {
            "args": [
             {
              "visible": [
               false,
               false,
               false,
               true,
               false,
               false,
               false,
               false,
               false,
               false
              ]
             },
             {
              "title": "Description: 109 Ash Wy P&R-LkStv"
             }
            ],
            "label": "109 Ash Wy P&R-LkStv",
            "method": "update"
           },
           {
            "args": [
             {
              "visible": [
               false,
               false,
               false,
               false,
               true,
               false,
               false,
               false,
               false,
               false
              ]
             },
             {
              "title": "Description: 112 MLT TC-Ash P&R"
             }
            ],
            "label": "112 MLT TC-Ash P&R",
            "method": "update"
           },
           {
            "args": [
             {
              "visible": [
               false,
               false,
               false,
               false,
               false,
               true,
               false,
               false,
               false,
               false
              ]
             },
             {
              "title": "Description: 113 Mukilteo-Lynn TC"
             }
            ],
            "label": "113 Mukilteo-Lynn TC",
            "method": "update"
           },
           {
            "args": [
             {
              "visible": [
               false,
               false,
               false,
               false,
               false,
               false,
               true,
               false,
               false,
               false
              ]
             },
             {
              "title": "Description: 115 McClm P&R-AurVil"
             }
            ],
            "label": "115 McClm P&R-AurVil",
            "method": "update"
           },
           {
            "args": [
             {
              "visible": [
               false,
               false,
               false,
               false,
               false,
               false,
               false,
               true,
               false,
               false
              ]
             },
             {
              "title": "Description: 116 Edm-Silver Firs"
             }
            ],
            "label": "116 Edm-Silver Firs",
            "method": "update"
           },
           {
            "args": [
             {
              "visible": [
               false,
               false,
               false,
               false,
               false,
               false,
               false,
               false,
               true,
               false
              ]
             },
             {
              "title": "Description: 119 Ash P&R-MLT TC"
             }
            ],
            "label": "119 Ash P&R-MLT TC",
            "method": "update"
           },
           {
            "args": [
             {
              "visible": [
               false,
               false,
               false,
               false,
               false,
               false,
               false,
               false,
               false,
               true
              ]
             },
             {
              "title": "Description: 120 Canyon Pk-Lyn TC"
             }
            ],
            "label": "120 Canyon Pk-Lyn TC",
            "method": "update"
           }
          ],
          "direction": "down",
          "showactive": true
         }
        ],
        "width": 900,
        "yaxis": {
         "tickformat": ".00f"
        }
       }
      },
      "text/html": [
       "<div>                            <div id=\"945fafb5-eea0-4198-bbb1-8a1bce9bb6ef\" class=\"plotly-graph-div\" style=\"height:500px; width:900px;\"></div>            <script type=\"text/javascript\">                require([\"plotly\"], function(Plotly) {                    window.PLOTLYENV=window.PLOTLYENV || {};                                    if (document.getElementById(\"945fafb5-eea0-4198-bbb1-8a1bce9bb6ef\")) {                    Plotly.newPlot(                        \"945fafb5-eea0-4198-bbb1-8a1bce9bb6ef\",                        [{\"mode\":\"lines\",\"name\":\"101 Mar P&R-Aur Vill\",\"visible\":true,\"x\":[\"10to14\",\"14to15\",\"15to16\",\"16to17\",\"17to18\",\"18to20\",\"20to5\",\"5to6\",\"6to7\",\"7to8\",\"8to9\",\"9to10\",\"10to11\",\"11to12\",\"12to13\",\"13to14\",\"18to19\",\"19to20\",\"20to21\",\"21to22\",\"22to23\",\"23to0\",\"0to1\",\"1to2\",\"2to3\",\"3to4\",\"4to5\"],\"y\":[400.9065246582031,81.84231948852539,93.8329849243164,100.58981323242188,93.85240173339844,215.99152374267578,62.632259368896484,13.113530158996582,34.14624500274658,62.90309143066406,111.25529098510742,85.12248229980469,100.22663116455078,100.22663116455078,100.22663116455078,100.22663116455078,107.99576187133789,107.99576187133789,6.959139929877387,6.959139929877387,6.959139929877387,6.959139929877387,6.959139929877387,6.959139929877387,6.959139929877387,6.959139929877387,6.959139929877387],\"type\":\"scatter\"},{\"mode\":\"lines\",\"name\":\"105 Mariner P&R-Both\",\"visible\":false,\"x\":[\"10to14\",\"14to15\",\"15to16\",\"16to17\",\"17to18\",\"18to20\",\"20to5\",\"5to6\",\"6to7\",\"7to8\",\"8to9\",\"9to10\",\"10to11\",\"11to12\",\"12to13\",\"13to14\",\"18to19\",\"19to20\",\"20to21\",\"21to22\",\"22to23\",\"23to0\",\"0to1\",\"1to2\",\"2to3\",\"3to4\",\"4to5\"],\"y\":[154.55112838745117,36.084917068481445,49.87970352172852,36.93094825744629,38.596012115478516,35.914459228515625,25.760277271270752,12.383849143981934,24.91982078552246,34.5671272277832,17.050249099731445,23.199653148651123,38.63778209686279,38.63778209686279,38.63778209686279,38.63778209686279,17.957229614257812,17.957229614257812,2.862253030141195,2.862253030141195,2.862253030141195,2.862253030141195,2.862253030141195,2.862253030141195,2.862253030141195,2.862253030141195,2.862253030141195],\"type\":\"scatter\"},{\"mode\":\"lines\",\"name\":\"106 Mariner P&R-Both\",\"visible\":false,\"x\":[\"16to17\",\"17to18\",\"18to20\",\"5to6\",\"6to7\",\"7to8\",\"18to19\",\"19to20\"],\"y\":[36.00284957885742,42.870656967163086,10.17893123626709,9.88999319076538,33.27436637878418,20.93498039245605,5.089465618133545,5.089465618133545],\"type\":\"scatter\"},{\"mode\":\"lines\",\"name\":\"109 Ash Wy P&R-LkStv\",\"visible\":false,\"x\":[\"10to14\",\"14to15\",\"15to16\",\"16to17\",\"17to18\",\"18to20\",\"20to5\",\"5to6\",\"6to7\",\"7to8\",\"8to9\",\"9to10\",\"10to11\",\"11to12\",\"12to13\",\"13to14\",\"18to19\",\"19to20\",\"20to21\",\"21to22\",\"22to23\",\"23to0\",\"0to1\",\"1to2\",\"2to3\",\"3to4\",\"4to5\"],\"y\":[171.77162170410156,40.71148490905762,69.9940242767334,41.916255950927734,67.22843551635742,100.75682067871094,53.245025634765625,23.518588066101074,31.416287422180176,34.71936511993408,37.7275276184082,43.500182151794434,42.94290542602539,42.94290542602539,42.94290542602539,42.94290542602539,50.37841033935547,50.37841033935547,5.916113959418403,5.916113959418403,5.916113959418403,5.916113959418403,5.916113959418403,5.916113959418403,5.916113959418403,5.916113959418403,5.916113959418403],\"type\":\"scatter\"},{\"mode\":\"lines\",\"name\":\"112 MLT TC-Ash P&R\",\"visible\":false,\"x\":[\"10to14\",\"14to15\",\"15to16\",\"16to17\",\"17to18\",\"18to20\",\"20to5\",\"5to6\",\"6to7\",\"7to8\",\"8to9\",\"9to10\",\"10to11\",\"11to12\",\"12to13\",\"13to14\",\"18to19\",\"19to20\",\"20to21\",\"21to22\",\"22to23\",\"23to0\",\"0to1\",\"1to2\",\"2to3\",\"3to4\",\"4to5\"],\"y\":[61.346290588378906,17.53741455078125,17.0484619140625,13.180638313293457,17.72919750213623,39.559661865234375,4.715250611305237,13.784842014312744,10.720597743988037,16.500886917114258,19.3465518951416,19.790783882141113,15.336572647094727,15.336572647094727,15.336572647094727,15.336572647094727,19.779830932617188,19.779830932617188,0.5239167345894707,0.5239167345894707,0.5239167345894707,0.5239167345894707,0.5239167345894707,0.5239167345894707,0.5239167345894707,0.5239167345894707,0.5239167345894707],\"type\":\"scatter\"},{\"mode\":\"lines\",\"name\":\"113 Mukilteo-Lynn TC\",\"visible\":false,\"x\":[\"10to14\",\"14to15\",\"15to16\",\"16to17\",\"17to18\",\"18to20\",\"20to5\",\"5to6\",\"6to7\",\"7to8\",\"8to9\",\"9to10\",\"10to11\",\"11to12\",\"12to13\",\"13to14\",\"18to19\",\"19to20\",\"20to21\",\"21to22\",\"22to23\",\"23to0\",\"0to1\",\"1to2\",\"2to3\",\"3to4\",\"4to5\"],\"y\":[185.82452392578125,73.63661766052246,52.59980297088623,67.62470054626465,71.26116180419922,113.02753829956055,29.753439903259277,14.994471549987793,21.907090663909912,51.88254165649414,47.28240203857422,43.89325141906738,46.45613098144531,46.45613098144531,46.45613098144531,46.45613098144531,56.51376914978027,56.51376914978027,3.3059377670288086,3.3059377670288086,3.3059377670288086,3.3059377670288086,3.3059377670288086,3.3059377670288086,3.3059377670288086,3.3059377670288086,3.3059377670288086],\"type\":\"scatter\"},{\"mode\":\"lines\",\"name\":\"115 McClm P&R-AurVil\",\"visible\":false,\"x\":[\"10to14\",\"14to15\",\"15to16\",\"16to17\",\"17to18\",\"18to20\",\"20to5\",\"5to6\",\"6to7\",\"7to8\",\"8to9\",\"9to10\",\"10to11\",\"11to12\",\"12to13\",\"13to14\",\"18to19\",\"19to20\",\"20to21\",\"21to22\",\"22to23\",\"23to0\",\"0to1\",\"1to2\",\"2to3\",\"3to4\",\"4to5\"],\"y\":[487.2982635498047,107.06480026245117,194.59461975097656,68.42989540100098,117.73274230957031,197.62203979492188,45.92714881896973,20.211034774780273,72.05054664611816,96.28793525695801,114.55595397949219,117.37371826171875,121.82456588745117,121.82456588745117,121.82456588745117,121.82456588745117,98.81101989746094,98.81101989746094,5.103016535441081,5.103016535441081,5.103016535441081,5.103016535441081,5.103016535441081,5.103016535441081,5.103016535441081,5.103016535441081,5.103016535441081],\"type\":\"scatter\"},{\"mode\":\"lines\",\"name\":\"116 Edm-Silver Firs\",\"visible\":false,\"x\":[\"10to14\",\"14to15\",\"15to16\",\"16to17\",\"17to18\",\"18to20\",\"20to5\",\"5to6\",\"6to7\",\"7to8\",\"8to9\",\"9to10\",\"10to11\",\"11to12\",\"12to13\",\"13to14\",\"18to19\",\"19to20\",\"20to21\",\"21to22\",\"22to23\",\"23to0\",\"0to1\",\"1to2\",\"2to3\",\"3to4\",\"4to5\"],\"y\":[672.72705078125,184.60092163085938,122.30799102783203,209.59928131103516,87.93965148925783,204.73204040527344,80.86144065856934,60.74825859069824,128.68994903564453,80.59414672851562,222.73062133789062,98.64788436889648,168.1817626953125,168.1817626953125,168.1817626953125,168.1817626953125,102.36602020263672,102.36602020263672,8.984604517618815,8.984604517618815,8.984604517618815,8.984604517618815,8.984604517618815,8.984604517618815,8.984604517618815,8.984604517618815,8.984604517618815],\"type\":\"scatter\"},{\"mode\":\"lines\",\"name\":\"119 Ash P&R-MLT TC\",\"visible\":false,\"x\":[\"10to14\",\"14to15\",\"15to16\",\"16to17\",\"17to18\",\"18to20\",\"20to5\",\"5to6\",\"6to7\",\"7to8\",\"8to9\",\"9to10\",\"10to11\",\"11to12\",\"12to13\",\"13to14\",\"18to19\",\"19to20\",\"20to21\",\"21to22\",\"22to23\",\"23to0\",\"0to1\",\"1to2\",\"2to3\",\"3to4\",\"4to5\"],\"y\":[49.90281105041504,14.839287281036377,11.454493045806885,14.160880088806152,7.716092824935913,28.08559799194336,2.264133036136627,3.3493871688842773,14.307316780090332,20.0289888381958,18.13100814819336,15.909092903137207,12.47570276260376,12.47570276260376,12.47570276260376,12.47570276260376,14.04279899597168,14.04279899597168,0.25157033734851414,0.25157033734851414,0.25157033734851414,0.25157033734851414,0.25157033734851414,0.25157033734851414,0.25157033734851414,0.25157033734851414,0.25157033734851414],\"type\":\"scatter\"},{\"mode\":\"lines\",\"name\":\"120 Canyon Pk-Lyn TC\",\"visible\":false,\"x\":[\"10to14\",\"14to15\",\"15to16\",\"16to17\",\"17to18\",\"18to20\",\"20to5\",\"5to6\",\"6to7\",\"7to8\",\"8to9\",\"9to10\",\"10to11\",\"11to12\",\"12to13\",\"13to14\",\"18to19\",\"19to20\",\"20to21\",\"21to22\",\"22to23\",\"23to0\",\"0to1\",\"1to2\",\"2to3\",\"3to4\",\"4to5\"],\"y\":[158.12307739257812,40.762990951538086,57.14285850524902,42.16356563568115,44.49627876281738,75.18375015258789,18.82323980331421,25.278297424316406,34.473602294921875,44.964677810668945,48.03704833984375,40.273231506347656,39.53076934814453,39.53076934814453,39.53076934814453,39.53076934814453,37.591875076293945,37.591875076293945,2.0914710892571344,2.0914710892571344,2.0914710892571344,2.0914710892571344,2.0914710892571344,2.0914710892571344,2.0914710892571344,2.0914710892571344,2.0914710892571344],\"type\":\"scatter\"}],                        {\"template\":{\"data\":{\"barpolar\":[{\"marker\":{\"line\":{\"color\":\"white\",\"width\":0.5},\"pattern\":{\"fillmode\":\"overlay\",\"size\":10,\"solidity\":0.2}},\"type\":\"barpolar\"}],\"bar\":[{\"error_x\":{\"color\":\"rgb(36,36,36)\"},\"error_y\":{\"color\":\"rgb(36,36,36)\"},\"marker\":{\"line\":{\"color\":\"white\",\"width\":0.5},\"pattern\":{\"fillmode\":\"overlay\",\"size\":10,\"solidity\":0.2}},\"type\":\"bar\"}],\"carpet\":[{\"aaxis\":{\"endlinecolor\":\"rgb(36,36,36)\",\"gridcolor\":\"white\",\"linecolor\":\"white\",\"minorgridcolor\":\"white\",\"startlinecolor\":\"rgb(36,36,36)\"},\"baxis\":{\"endlinecolor\":\"rgb(36,36,36)\",\"gridcolor\":\"white\",\"linecolor\":\"white\",\"minorgridcolor\":\"white\",\"startlinecolor\":\"rgb(36,36,36)\"},\"type\":\"carpet\"}],\"choropleth\":[{\"colorbar\":{\"outlinewidth\":1,\"tickcolor\":\"rgb(36,36,36)\",\"ticks\":\"outside\"},\"type\":\"choropleth\"}],\"contourcarpet\":[{\"colorbar\":{\"outlinewidth\":1,\"tickcolor\":\"rgb(36,36,36)\",\"ticks\":\"outside\"},\"type\":\"contourcarpet\"}],\"contour\":[{\"colorbar\":{\"outlinewidth\":1,\"tickcolor\":\"rgb(36,36,36)\",\"ticks\":\"outside\"},\"colorscale\":[[0.0,\"#440154\"],[0.1111111111111111,\"#482878\"],[0.2222222222222222,\"#3e4989\"],[0.3333333333333333,\"#31688e\"],[0.4444444444444444,\"#26828e\"],[0.5555555555555556,\"#1f9e89\"],[0.6666666666666666,\"#35b779\"],[0.7777777777777778,\"#6ece58\"],[0.8888888888888888,\"#b5de2b\"],[1.0,\"#fde725\"]],\"type\":\"contour\"}],\"heatmapgl\":[{\"colorbar\":{\"outlinewidth\":1,\"tickcolor\":\"rgb(36,36,36)\",\"ticks\":\"outside\"},\"colorscale\":[[0.0,\"#440154\"],[0.1111111111111111,\"#482878\"],[0.2222222222222222,\"#3e4989\"],[0.3333333333333333,\"#31688e\"],[0.4444444444444444,\"#26828e\"],[0.5555555555555556,\"#1f9e89\"],[0.6666666666666666,\"#35b779\"],[0.7777777777777778,\"#6ece58\"],[0.8888888888888888,\"#b5de2b\"],[1.0,\"#fde725\"]],\"type\":\"heatmapgl\"}],\"heatmap\":[{\"colorbar\":{\"outlinewidth\":1,\"tickcolor\":\"rgb(36,36,36)\",\"ticks\":\"outside\"},\"colorscale\":[[0.0,\"#440154\"],[0.1111111111111111,\"#482878\"],[0.2222222222222222,\"#3e4989\"],[0.3333333333333333,\"#31688e\"],[0.4444444444444444,\"#26828e\"],[0.5555555555555556,\"#1f9e89\"],[0.6666666666666666,\"#35b779\"],[0.7777777777777778,\"#6ece58\"],[0.8888888888888888,\"#b5de2b\"],[1.0,\"#fde725\"]],\"type\":\"heatmap\"}],\"histogram2dcontour\":[{\"colorbar\":{\"outlinewidth\":1,\"tickcolor\":\"rgb(36,36,36)\",\"ticks\":\"outside\"},\"colorscale\":[[0.0,\"#440154\"],[0.1111111111111111,\"#482878\"],[0.2222222222222222,\"#3e4989\"],[0.3333333333333333,\"#31688e\"],[0.4444444444444444,\"#26828e\"],[0.5555555555555556,\"#1f9e89\"],[0.6666666666666666,\"#35b779\"],[0.7777777777777778,\"#6ece58\"],[0.8888888888888888,\"#b5de2b\"],[1.0,\"#fde725\"]],\"type\":\"histogram2dcontour\"}],\"histogram2d\":[{\"colorbar\":{\"outlinewidth\":1,\"tickcolor\":\"rgb(36,36,36)\",\"ticks\":\"outside\"},\"colorscale\":[[0.0,\"#440154\"],[0.1111111111111111,\"#482878\"],[0.2222222222222222,\"#3e4989\"],[0.3333333333333333,\"#31688e\"],[0.4444444444444444,\"#26828e\"],[0.5555555555555556,\"#1f9e89\"],[0.6666666666666666,\"#35b779\"],[0.7777777777777778,\"#6ece58\"],[0.8888888888888888,\"#b5de2b\"],[1.0,\"#fde725\"]],\"type\":\"histogram2d\"}],\"histogram\":[{\"marker\":{\"line\":{\"color\":\"white\",\"width\":0.6}},\"type\":\"histogram\"}],\"mesh3d\":[{\"colorbar\":{\"outlinewidth\":1,\"tickcolor\":\"rgb(36,36,36)\",\"ticks\":\"outside\"},\"type\":\"mesh3d\"}],\"parcoords\":[{\"line\":{\"colorbar\":{\"outlinewidth\":1,\"tickcolor\":\"rgb(36,36,36)\",\"ticks\":\"outside\"}},\"type\":\"parcoords\"}],\"pie\":[{\"automargin\":true,\"type\":\"pie\"}],\"scatter3d\":[{\"line\":{\"colorbar\":{\"outlinewidth\":1,\"tickcolor\":\"rgb(36,36,36)\",\"ticks\":\"outside\"}},\"marker\":{\"colorbar\":{\"outlinewidth\":1,\"tickcolor\":\"rgb(36,36,36)\",\"ticks\":\"outside\"}},\"type\":\"scatter3d\"}],\"scattercarpet\":[{\"marker\":{\"colorbar\":{\"outlinewidth\":1,\"tickcolor\":\"rgb(36,36,36)\",\"ticks\":\"outside\"}},\"type\":\"scattercarpet\"}],\"scattergeo\":[{\"marker\":{\"colorbar\":{\"outlinewidth\":1,\"tickcolor\":\"rgb(36,36,36)\",\"ticks\":\"outside\"}},\"type\":\"scattergeo\"}],\"scattergl\":[{\"marker\":{\"colorbar\":{\"outlinewidth\":1,\"tickcolor\":\"rgb(36,36,36)\",\"ticks\":\"outside\"}},\"type\":\"scattergl\"}],\"scattermapbox\":[{\"marker\":{\"colorbar\":{\"outlinewidth\":1,\"tickcolor\":\"rgb(36,36,36)\",\"ticks\":\"outside\"}},\"type\":\"scattermapbox\"}],\"scatterpolargl\":[{\"marker\":{\"colorbar\":{\"outlinewidth\":1,\"tickcolor\":\"rgb(36,36,36)\",\"ticks\":\"outside\"}},\"type\":\"scatterpolargl\"}],\"scatterpolar\":[{\"marker\":{\"colorbar\":{\"outlinewidth\":1,\"tickcolor\":\"rgb(36,36,36)\",\"ticks\":\"outside\"}},\"type\":\"scatterpolar\"}],\"scatter\":[{\"fillpattern\":{\"fillmode\":\"overlay\",\"size\":10,\"solidity\":0.2},\"type\":\"scatter\"}],\"scatterternary\":[{\"marker\":{\"colorbar\":{\"outlinewidth\":1,\"tickcolor\":\"rgb(36,36,36)\",\"ticks\":\"outside\"}},\"type\":\"scatterternary\"}],\"surface\":[{\"colorbar\":{\"outlinewidth\":1,\"tickcolor\":\"rgb(36,36,36)\",\"ticks\":\"outside\"},\"colorscale\":[[0.0,\"#440154\"],[0.1111111111111111,\"#482878\"],[0.2222222222222222,\"#3e4989\"],[0.3333333333333333,\"#31688e\"],[0.4444444444444444,\"#26828e\"],[0.5555555555555556,\"#1f9e89\"],[0.6666666666666666,\"#35b779\"],[0.7777777777777778,\"#6ece58\"],[0.8888888888888888,\"#b5de2b\"],[1.0,\"#fde725\"]],\"type\":\"surface\"}],\"table\":[{\"cells\":{\"fill\":{\"color\":\"rgb(237,237,237)\"},\"line\":{\"color\":\"white\"}},\"header\":{\"fill\":{\"color\":\"rgb(217,217,217)\"},\"line\":{\"color\":\"white\"}},\"type\":\"table\"}]},\"layout\":{\"annotationdefaults\":{\"arrowhead\":0,\"arrowwidth\":1},\"autotypenumbers\":\"strict\",\"coloraxis\":{\"colorbar\":{\"outlinewidth\":1,\"tickcolor\":\"rgb(36,36,36)\",\"ticks\":\"outside\"}},\"colorscale\":{\"diverging\":[[0.0,\"rgb(103,0,31)\"],[0.1,\"rgb(178,24,43)\"],[0.2,\"rgb(214,96,77)\"],[0.3,\"rgb(244,165,130)\"],[0.4,\"rgb(253,219,199)\"],[0.5,\"rgb(247,247,247)\"],[0.6,\"rgb(209,229,240)\"],[0.7,\"rgb(146,197,222)\"],[0.8,\"rgb(67,147,195)\"],[0.9,\"rgb(33,102,172)\"],[1.0,\"rgb(5,48,97)\"]],\"sequential\":[[0.0,\"#440154\"],[0.1111111111111111,\"#482878\"],[0.2222222222222222,\"#3e4989\"],[0.3333333333333333,\"#31688e\"],[0.4444444444444444,\"#26828e\"],[0.5555555555555556,\"#1f9e89\"],[0.6666666666666666,\"#35b779\"],[0.7777777777777778,\"#6ece58\"],[0.8888888888888888,\"#b5de2b\"],[1.0,\"#fde725\"]],\"sequentialminus\":[[0.0,\"#440154\"],[0.1111111111111111,\"#482878\"],[0.2222222222222222,\"#3e4989\"],[0.3333333333333333,\"#31688e\"],[0.4444444444444444,\"#26828e\"],[0.5555555555555556,\"#1f9e89\"],[0.6666666666666666,\"#35b779\"],[0.7777777777777778,\"#6ece58\"],[0.8888888888888888,\"#b5de2b\"],[1.0,\"#fde725\"]]},\"colorway\":[\"#91268F\",\"#8CC63E\",\"#00A7A0\",\"#F05A28\",\"#4C4C4C\",\"#630460\",\"#9f3913\",\"#588527\",\"#00716c\",\"#3e4040\"],\"font\":{\"color\":\"rgb(36,36,36)\",\"family\":\"Poppins\",\"size\":11},\"geo\":{\"bgcolor\":\"white\",\"lakecolor\":\"white\",\"landcolor\":\"white\",\"showlakes\":true,\"showland\":true,\"subunitcolor\":\"white\"},\"hoverlabel\":{\"align\":\"left\"},\"hovermode\":\"closest\",\"mapbox\":{\"style\":\"light\"},\"paper_bgcolor\":\"white\",\"plot_bgcolor\":\"white\",\"polar\":{\"angularaxis\":{\"gridcolor\":\"rgb(232,232,232)\",\"linecolor\":\"rgb(36,36,36)\",\"showgrid\":false,\"showline\":true,\"ticks\":\"outside\"},\"bgcolor\":\"white\",\"radialaxis\":{\"gridcolor\":\"rgb(232,232,232)\",\"linecolor\":\"rgb(36,36,36)\",\"showgrid\":false,\"showline\":true,\"ticks\":\"outside\"}},\"scene\":{\"xaxis\":{\"backgroundcolor\":\"white\",\"gridcolor\":\"rgb(232,232,232)\",\"gridwidth\":2,\"linecolor\":\"rgb(36,36,36)\",\"showbackground\":true,\"showgrid\":false,\"showline\":true,\"ticks\":\"outside\",\"zeroline\":false,\"zerolinecolor\":\"rgb(36,36,36)\"},\"yaxis\":{\"backgroundcolor\":\"white\",\"gridcolor\":\"rgb(232,232,232)\",\"gridwidth\":2,\"linecolor\":\"rgb(36,36,36)\",\"showbackground\":true,\"showgrid\":false,\"showline\":true,\"ticks\":\"outside\",\"zeroline\":false,\"zerolinecolor\":\"rgb(36,36,36)\"},\"zaxis\":{\"backgroundcolor\":\"white\",\"gridcolor\":\"rgb(232,232,232)\",\"gridwidth\":2,\"linecolor\":\"rgb(36,36,36)\",\"showbackground\":true,\"showgrid\":false,\"showline\":true,\"ticks\":\"outside\",\"zeroline\":false,\"zerolinecolor\":\"rgb(36,36,36)\"}},\"shapedefaults\":{\"fillcolor\":\"black\",\"line\":{\"width\":0},\"opacity\":0.3},\"ternary\":{\"aaxis\":{\"gridcolor\":\"rgb(232,232,232)\",\"linecolor\":\"rgb(36,36,36)\",\"showgrid\":false,\"showline\":true,\"ticks\":\"outside\"},\"baxis\":{\"gridcolor\":\"rgb(232,232,232)\",\"linecolor\":\"rgb(36,36,36)\",\"showgrid\":false,\"showline\":true,\"ticks\":\"outside\"},\"bgcolor\":\"white\",\"caxis\":{\"gridcolor\":\"rgb(232,232,232)\",\"linecolor\":\"rgb(36,36,36)\",\"showgrid\":false,\"showline\":true,\"ticks\":\"outside\"}},\"title\":{\"x\":0.05},\"xaxis\":{\"automargin\":true,\"gridcolor\":\"rgb(232,232,232)\",\"linecolor\":\"rgb(36,36,36)\",\"showgrid\":false,\"showline\":true,\"ticks\":\"outside\",\"title\":{\"standoff\":15},\"zeroline\":false,\"zerolinecolor\":\"rgb(36,36,36)\"},\"yaxis\":{\"automargin\":true,\"gridcolor\":\"rgb(232,232,232)\",\"linecolor\":\"rgb(36,36,36)\",\"showgrid\":false,\"showline\":true,\"ticks\":\"outside\",\"title\":{\"standoff\":15},\"zeroline\":false,\"zerolinecolor\":\"rgb(36,36,36)\"}}},\"font\":{\"size\":11},\"yaxis\":{\"tickformat\":\".00f\"},\"updatemenus\":[{\"buttons\":[{\"args\":[{\"visible\":[true,false,false,false,false,false,false,false,false,false]},{\"title\":\"Description: 101 Mar P&R-Aur Vill\"}],\"label\":\"101 Mar P&R-Aur Vill\",\"method\":\"update\"},{\"args\":[{\"visible\":[false,true,false,false,false,false,false,false,false,false]},{\"title\":\"Description: 105 Mariner P&R-Both\"}],\"label\":\"105 Mariner P&R-Both\",\"method\":\"update\"},{\"args\":[{\"visible\":[false,false,true,false,false,false,false,false,false,false]},{\"title\":\"Description: 106 Mariner P&R-Both\"}],\"label\":\"106 Mariner P&R-Both\",\"method\":\"update\"},{\"args\":[{\"visible\":[false,false,false,true,false,false,false,false,false,false]},{\"title\":\"Description: 109 Ash Wy P&R-LkStv\"}],\"label\":\"109 Ash Wy P&R-LkStv\",\"method\":\"update\"},{\"args\":[{\"visible\":[false,false,false,false,true,false,false,false,false,false]},{\"title\":\"Description: 112 MLT TC-Ash P&R\"}],\"label\":\"112 MLT TC-Ash P&R\",\"method\":\"update\"},{\"args\":[{\"visible\":[false,false,false,false,false,true,false,false,false,false]},{\"title\":\"Description: 113 Mukilteo-Lynn TC\"}],\"label\":\"113 Mukilteo-Lynn TC\",\"method\":\"update\"},{\"args\":[{\"visible\":[false,false,false,false,false,false,true,false,false,false]},{\"title\":\"Description: 115 McClm P&R-AurVil\"}],\"label\":\"115 McClm P&R-AurVil\",\"method\":\"update\"},{\"args\":[{\"visible\":[false,false,false,false,false,false,false,true,false,false]},{\"title\":\"Description: 116 Edm-Silver Firs\"}],\"label\":\"116 Edm-Silver Firs\",\"method\":\"update\"},{\"args\":[{\"visible\":[false,false,false,false,false,false,false,false,true,false]},{\"title\":\"Description: 119 Ash P&R-MLT TC\"}],\"label\":\"119 Ash P&R-MLT TC\",\"method\":\"update\"},{\"args\":[{\"visible\":[false,false,false,false,false,false,false,false,false,true]},{\"title\":\"Description: 120 Canyon Pk-Lyn TC\"}],\"label\":\"120 Canyon Pk-Lyn TC\",\"method\":\"update\"}],\"direction\":\"down\",\"showactive\":true}],\"title\":{\"text\":\"Description: 101 Mar P&R-Aur Vill\"},\"height\":500,\"width\":900},                        {\"responsive\": true}                    ).then(function(){\n",
       "                            \n",
       "var gd = document.getElementById('945fafb5-eea0-4198-bbb1-8a1bce9bb6ef');\n",
       "var x = new MutationObserver(function (mutations, observer) {{\n",
       "        var display = window.getComputedStyle(gd).display;\n",
       "        if (!display || display === 'none') {{\n",
       "            console.log([gd, 'removed!']);\n",
       "            Plotly.purge(gd);\n",
       "            observer.disconnect();\n",
       "        }}\n",
       "}});\n",
       "\n",
       "// Listen for the removal of the full notebook cells\n",
       "var notebookContainer = gd.closest('#notebook-container');\n",
       "if (notebookContainer) {{\n",
       "    x.observe(notebookContainer, {childList: true});\n",
       "}}\n",
       "\n",
       "// Listen for the clearing of the current output cell\n",
       "var outputEl = gd.closest('.output');\n",
       "if (outputEl) {{\n",
       "    x.observe(outputEl, {childList: true});\n",
       "}}\n",
       "\n",
       "                        })                };                });            </script>        </div>"
      ]
     },
     "metadata": {},
     "output_type": "display_data"
    }
   ],
   "source": [
    "\n",
    "def create_tod_chart(df):\n",
    "    # Create a figure\n",
    "    fig = go.Figure()\n",
    "\n",
    "    # Add traces for each description\n",
    "    for description in descriptions:\n",
    "\n",
    "        _df = df[df['description'] == description].copy()\n",
    "        _df = pd.pivot_table(_df, index='tod', columns='description', values='boardings')\n",
    "        \n",
    "        tod_list = ['5to6', '6to7', '7to8', '8to9', '9to10', '14to15', '15to16', '16to17', '17to18']\n",
    "\n",
    "        # Smooth out time periods\n",
    "        if '10to14' in _df.index:\n",
    "            _df.loc['10to11'] = _df.loc['10to14'] / 4.0\n",
    "            _df.loc['11to12'] = _df.loc['10to14'] / 4.0\n",
    "            _df.loc['12to13'] = _df.loc['10to14'] / 4.0\n",
    "            _df.loc['13to14'] = _df.loc['10to14'] / 4.0\n",
    "            tod_list += ['10to11', '11to12', '12to13', '13to14']\n",
    "        if '18to20' in _df.index:\n",
    "            _df.loc['18to19'] = _df.loc['18to20'] / 2.0\n",
    "            _df.loc['19to20'] = _df.loc['18to20'] / 2.0\n",
    "            tod_list += ['18to19', '19to20']\n",
    "        if '20to5' in  _df.index:\n",
    "            tod_list += ['20to21', '21to22', '22to23', '23to0','0to1', '1to2', '2to3', '3to4', '4to5']\n",
    "            _df.loc['20to21'] = _df.loc['20to5'] / 9.0\n",
    "            _df.loc['21to22'] = _df.loc['20to5'] / 9.0\n",
    "            _df.loc['22to23'] = _df.loc['20to5'] / 9.0\n",
    "            _df.loc['23to0'] = _df.loc['20to5'] / 9.0\n",
    "            _df.loc['0to1'] = _df.loc['20to5'] / 9.0\n",
    "            _df.loc['1to2'] = _df.loc['20to5'] / 9.0\n",
    "            _df.loc['2to3'] = _df.loc['20to5'] / 9.0\n",
    "            _df.loc['3to4'] = _df.loc['20to5'] / 9.0\n",
    "            _df.loc['4to5'] = _df.loc['20to5'] / 9.0\n",
    "\n",
    "        _df = _df.reset_index()\n",
    "        _df.index = _df.tod\n",
    "        _df.drop('tod', axis=1, inplace=True)\n",
    "        _df = _df.loc[_df.index, description]\n",
    "\n",
    "        fig.add_trace(go.Scatter(x=_df.index, y=_df, mode='lines', name=description, visible=False))\n",
    "\n",
    "    # Make the first trace visible\n",
    "    fig.data[0].visible = True\n",
    "\n",
    "    # Create dropdown menu\n",
    "    dropdown_buttons = [\n",
    "        {'label': description, 'method': 'update', 'args': [{'visible': [description == desc for desc in descriptions]}, {'title': f'Description: {description}'}]}\n",
    "        for description in descriptions\n",
    "    ]\n",
    "\n",
    "    # Update layout with dropdown\n",
    "    fig.update_layout(\n",
    "        updatemenus=[{\n",
    "            'buttons': dropdown_buttons,\n",
    "            'direction': 'down',\n",
    "            'showactive': True,\n",
    "        }],\n",
    "        title='Description: ' + descriptions[0],\n",
    "        height=500,\n",
    "        width=900,\n",
    "        font=dict(size=11),\n",
    "        yaxis_tickformat='.00f'\n",
    "    )\n",
    "\n",
    "    return fig\n",
    "\n",
    "\n",
    "\n",
    "\n",
    "# Create a list of unique descriptions to display\n",
    "descriptions = df_transit_line['description'].unique()[0:10]\n",
    "# print(descriptions)\n",
    "df_test = df_transit_line[df_transit_line['description'].isin(descriptions)].copy()\n",
    "df = df_test.groupby(['tod', 'description']).agg({'boardings': 'sum'}).reset_index()\n",
    "\n",
    "\n",
    "fig = create_tod_chart(df)\n",
    "fig.show()\n"
   ]
  },
  {
   "cell_type": "code",
   "execution_count": 24,
   "id": "467c75a1",
   "metadata": {},
   "outputs": [],
   "source": [
    "# df_transit_line"
   ]
  },
  {
   "cell_type": "markdown",
   "id": "6e6c5ead64d64e8c",
   "metadata": {},
   "source": [
    "### boarding on lines by agency"
   ]
  },
  {
   "cell_type": "code",
   "execution_count": 25,
   "id": "95db4119eb938544",
   "metadata": {
    "ExecuteTime": {
     "end_time": "2024-06-24T19:52:55.951969Z",
     "start_time": "2024-06-24T19:52:54.937995Z"
    },
    "execution": {
     "iopub.execute_input": "2024-12-14T02:38:41.171718Z",
     "iopub.status.busy": "2024-12-14T02:38:41.170721Z",
     "iopub.status.idle": "2024-12-14T02:38:42.833012Z",
     "shell.execute_reply": "2024-12-14T02:38:42.831017Z"
    }
   },
   "outputs": [
    {
     "name": "stdout",
     "output_type": "stream",
     "text": [
      "r^2 Community Transit: 0.9765033052450108\n",
      "r^2 Everett Transit: 0.9905079782023114\n",
      "r^2 King County Metro: 0.9440074990267069\n",
      "r^2 Kitsap Transit: 0.9522527641343553\n",
      "r^2 Pierce Transit: 0.8004078222529761\n",
      "r^2 Sound Transit: 0.998055816246414\n",
      "r^2 Washington Ferries: 0.9603411484931739\n"
     ]
    },
    {
     "data": {
      "image/png": "[encoded data removed]",
      "text/plain": [
       "<Figure size 432x288 with 1 Axes>"
      ]
     },
     "metadata": {
      "needs_background": "light"
     },
     "output_type": "display_data"
    },
    {
     "data": {
      "image/png": "[encoded data removed]",
      "text/plain": [
       "<Figure size 432x288 with 1 Axes>"
      ]
     },
     "metadata": {
      "needs_background": "light"
     },
     "output_type": "display_data"
    },
    {
     "data": {
      "image/png": "[encoded data removed]",
      "text/plain": [
       "<Figure size 432x288 with 1 Axes>"
      ]
     },
     "metadata": {
      "needs_background": "light"
     },
     "output_type": "display_data"
    },
    {
     "data": {
      "image/png": "[encoded data removed]",
      "text/plain": [
       "<Figure size 432x288 with 1 Axes>"
      ]
     },
     "metadata": {
      "needs_background": "light"
     },
     "output_type": "display_data"
    },
    {
     "data": {
      "image/png": "[encoded data removed]",
      "text/plain": [
       "<Figure size 432x288 with 1 Axes>"
      ]
     },
     "metadata": {
      "needs_background": "light"
     },
     "output_type": "display_data"
    },
    {
     "data": {
      "image/png": "[encoded data removed]",
      "text/plain": [
       "<Figure size 432x288 with 1 Axes>"
      ]
     },
     "metadata": {
      "needs_background": "light"
     },
     "output_type": "display_data"
    },
    {
     "data": {
      "image/png": "[encoded data removed]",
      "text/plain": [
       "<Figure size 432x288 with 1 Axes>"
      ]
     },
     "metadata": {
      "needs_background": "light"
     },
     "output_type": "display_data"
    }
   ],
   "source": [
    "#| layout-ncol: 2\n",
    "df = pd.read_csv(os.path.join(csv_path,'daily_boardings_by_line.csv'), index_col='agency')\n",
    "df = df[-df['agency_id'].isnull()]\n",
    "\n",
    "for agency in np.unique(df.index):\n",
    "    _df = df.loc[agency,:]\n",
    "    if (type(_df) == pd.core.frame.DataFrame) & (len(df) > 0):\n",
    "        ax = _df.plot(kind='scatter', x='observed_boardings', y='model_boardings', label=agency)\n",
    "        lim = _df[['observed_boardings','model_boardings']].max().max()*1.05\n",
    "        ax.set_ylim(0,lim)\n",
    "        ax.set_xlim(0,lim)\n",
    "        x = np.linspace(*ax.get_xlim())\n",
    "        ax.plot(x, x)\n",
    "        slope, intercept, r_value, p_value, std_err = stats.linregress(_df['observed_boardings'],_df['model_boardings'])\n",
    "        print('r^2 ' + str(agency) + ': ' + str(r_value))"
   ]
  },
  {
   "cell_type": "markdown",
   "id": "4539ddda98821ff2",
   "metadata": {},
   "source": [
    "### boarding by light rail station"
   ]
  },
  {
   "cell_type": "raw",
   "id": "1a2860ab52ea5101",
   "metadata": {
    "vscode": {
     "languageId": "raw"
    }
   },
   "source": [
    ":::{.panel-tabset}\n",
    "#### 1 Line"
   ]
  },
  {
   "cell_type": "code",
   "execution_count": 26,
   "id": "2c245b8117693726",
   "metadata": {
    "ExecuteTime": {
     "end_time": "2024-06-24T20:06:01.435477Z",
     "start_time": "2024-06-24T20:06:01.389414Z"
    },
    "execution": {
     "iopub.execute_input": "2024-12-14T02:38:42.844979Z",
     "iopub.status.busy": "2024-12-14T02:38:42.843982Z",
     "iopub.status.idle": "2024-12-14T02:38:42.910989Z",
     "shell.execute_reply": "2024-12-14T02:38:42.908994Z"
    }
   },
   "outputs": [],
   "source": [
    "df = pd.read_csv(os.path.join(csv_path,'light_rail_boardings.csv'), index_col='station_name')\n",
    "df['diff'] = df['model_boardings']-df['observed_boardings']\n",
    "df['percent_diff'] = df['diff']/df['observed_boardings']\n",
    "\n",
    "df_table = df.copy()\n",
    "df_table[['percent_diff']] = df_table[['percent_diff']].applymap(format_percent)\n",
    "df_table\n",
    "\n",
    "line_1_station_list = ['Northgate Station','Roosevelt Station','University District Station', \n",
    "                'Husky Stadium', 'Capitol Hill', 'Westlake', 'Symphony', 'Pioneer Square',\n",
    "                \"Int'l District\",  'Stadium', 'SODO', 'Beacon Hill',\n",
    "               'Mount Baker', 'Columbia City', 'Othello', 'Rainier Beach',\n",
    "                \"Tukwila Int'l Blvd\", 'SeaTac/Airport', 'Angle Lake']\n",
    "t_line_station_list = ['Tacoma Dome Station', 'S 25th St Station', 'Union Station',\n",
    "       'Convention Center Station', 'Commerce Station']"
   ]
  },
  {
   "cell_type": "code",
   "execution_count": 27,
   "id": "d1ef9fda",
   "metadata": {},
   "outputs": [
    {
     "data": {
      "text/html": [
       "<div>\n",
       "<style scoped>\n",
       "    .dataframe tbody tr th:only-of-type {\n",
       "        vertical-align: middle;\n",
       "    }\n",
       "\n",
       "    .dataframe tbody tr th {\n",
       "        vertical-align: top;\n",
       "    }\n",
       "\n",
       "    .dataframe thead th {\n",
       "        text-align: right;\n",
       "    }\n",
       "</style>\n",
       "<table border=\"1\" class=\"dataframe\">\n",
       "  <thead>\n",
       "    <tr style=\"text-align: right;\">\n",
       "      <th></th>\n",
       "      <th>observed_boardings</th>\n",
       "      <th>model_boardings</th>\n",
       "      <th>diff</th>\n",
       "      <th>percent_diff</th>\n",
       "    </tr>\n",
       "    <tr>\n",
       "      <th>station_name</th>\n",
       "      <th></th>\n",
       "      <th></th>\n",
       "      <th></th>\n",
       "      <th></th>\n",
       "    </tr>\n",
       "  </thead>\n",
       "  <tbody>\n",
       "    <tr>\n",
       "      <th>Northgate Station</th>\n",
       "      <td>10,384.00</td>\n",
       "      <td>9,477.45</td>\n",
       "      <td>-906.55</td>\n",
       "      <td>-8.73%</td>\n",
       "    </tr>\n",
       "    <tr>\n",
       "      <th>Roosevelt Station</th>\n",
       "      <td>4,349.00</td>\n",
       "      <td>9,368.02</td>\n",
       "      <td>5,019.02</td>\n",
       "      <td>115.41%</td>\n",
       "    </tr>\n",
       "    <tr>\n",
       "      <th>University District Station</th>\n",
       "      <td>7,563.00</td>\n",
       "      <td>7,759.89</td>\n",
       "      <td>196.89</td>\n",
       "      <td>2.60%</td>\n",
       "    </tr>\n",
       "    <tr>\n",
       "      <th>Husky Stadium</th>\n",
       "      <td>6,134.00</td>\n",
       "      <td>4,156.14</td>\n",
       "      <td>-1,977.86</td>\n",
       "      <td>-32.24%</td>\n",
       "    </tr>\n",
       "    <tr>\n",
       "      <th>Capitol Hill</th>\n",
       "      <td>7,667.00</td>\n",
       "      <td>8,775.67</td>\n",
       "      <td>1,108.67</td>\n",
       "      <td>14.46%</td>\n",
       "    </tr>\n",
       "    <tr>\n",
       "      <th>Westlake</th>\n",
       "      <td>8,845.00</td>\n",
       "      <td>11,956.60</td>\n",
       "      <td>3,111.60</td>\n",
       "      <td>35.18%</td>\n",
       "    </tr>\n",
       "    <tr>\n",
       "      <th>Symphony</th>\n",
       "      <td>4,324.00</td>\n",
       "      <td>6,830.71</td>\n",
       "      <td>2,506.71</td>\n",
       "      <td>57.97%</td>\n",
       "    </tr>\n",
       "    <tr>\n",
       "      <th>Pioneer Square</th>\n",
       "      <td>2,400.00</td>\n",
       "      <td>5,491.90</td>\n",
       "      <td>3,091.90</td>\n",
       "      <td>128.83%</td>\n",
       "    </tr>\n",
       "    <tr>\n",
       "      <th>Int'l District</th>\n",
       "      <td>4,399.00</td>\n",
       "      <td>1,920.58</td>\n",
       "      <td>-2,478.42</td>\n",
       "      <td>-56.34%</td>\n",
       "    </tr>\n",
       "    <tr>\n",
       "      <th>Stadium</th>\n",
       "      <td>1,731.00</td>\n",
       "      <td>389.05</td>\n",
       "      <td>-1,341.95</td>\n",
       "      <td>-77.52%</td>\n",
       "    </tr>\n",
       "    <tr>\n",
       "      <th>SODO</th>\n",
       "      <td>1,669.00</td>\n",
       "      <td>2,482.79</td>\n",
       "      <td>813.79</td>\n",
       "      <td>48.76%</td>\n",
       "    </tr>\n",
       "    <tr>\n",
       "      <th>Beacon Hill</th>\n",
       "      <td>2,147.00</td>\n",
       "      <td>1,377.49</td>\n",
       "      <td>-769.51</td>\n",
       "      <td>-35.84%</td>\n",
       "    </tr>\n",
       "    <tr>\n",
       "      <th>Mount Baker</th>\n",
       "      <td>1,861.00</td>\n",
       "      <td>1,830.21</td>\n",
       "      <td>-30.79</td>\n",
       "      <td>-1.65%</td>\n",
       "    </tr>\n",
       "    <tr>\n",
       "      <th>Columbia City</th>\n",
       "      <td>1,630.00</td>\n",
       "      <td>1,781.20</td>\n",
       "      <td>151.20</td>\n",
       "      <td>9.28%</td>\n",
       "    </tr>\n",
       "    <tr>\n",
       "      <th>Othello</th>\n",
       "      <td>2,030.00</td>\n",
       "      <td>2,226.43</td>\n",
       "      <td>196.43</td>\n",
       "      <td>9.68%</td>\n",
       "    </tr>\n",
       "    <tr>\n",
       "      <th>Rainier Beach</th>\n",
       "      <td>1,495.00</td>\n",
       "      <td>1,868.28</td>\n",
       "      <td>373.28</td>\n",
       "      <td>24.97%</td>\n",
       "    </tr>\n",
       "    <tr>\n",
       "      <th>Tukwila Int'l Blvd</th>\n",
       "      <td>2,298.00</td>\n",
       "      <td>3,050.17</td>\n",
       "      <td>752.17</td>\n",
       "      <td>32.73%</td>\n",
       "    </tr>\n",
       "    <tr>\n",
       "      <th>SeaTac/Airport</th>\n",
       "      <td>4,731.00</td>\n",
       "      <td>6,264.56</td>\n",
       "      <td>1,533.56</td>\n",
       "      <td>32.42%</td>\n",
       "    </tr>\n",
       "    <tr>\n",
       "      <th>Angle Lake</th>\n",
       "      <td>3,865.00</td>\n",
       "      <td>3,157.63</td>\n",
       "      <td>-707.37</td>\n",
       "      <td>-18.30%</td>\n",
       "    </tr>\n",
       "  </tbody>\n",
       "</table>\n",
       "</div>"
      ],
      "text/plain": [
       "                             observed_boardings  model_boardings      diff  \\\n",
       "station_name                                                                 \n",
       "Northgate Station                     10,384.00         9,477.45   -906.55   \n",
       "Roosevelt Station                      4,349.00         9,368.02  5,019.02   \n",
       "University District Station            7,563.00         7,759.89    196.89   \n",
       "Husky Stadium                          6,134.00         4,156.14 -1,977.86   \n",
       "Capitol Hill                           7,667.00         8,775.67  1,108.67   \n",
       "Westlake                               8,845.00        11,956.60  3,111.60   \n",
       "Symphony                               4,324.00         6,830.71  2,506.71   \n",
       "Pioneer Square                         2,400.00         5,491.90  3,091.90   \n",
       "Int'l District                         4,399.00         1,920.58 -2,478.42   \n",
       "Stadium                                1,731.00           389.05 -1,341.95   \n",
       "SODO                                   1,669.00         2,482.79    813.79   \n",
       "Beacon Hill                            2,147.00         1,377.49   -769.51   \n",
       "Mount Baker                            1,861.00         1,830.21    -30.79   \n",
       "Columbia City                          1,630.00         1,781.20    151.20   \n",
       "Othello                                2,030.00         2,226.43    196.43   \n",
       "Rainier Beach                          1,495.00         1,868.28    373.28   \n",
       "Tukwila Int'l Blvd                     2,298.00         3,050.17    752.17   \n",
       "SeaTac/Airport                         4,731.00         6,264.56  1,533.56   \n",
       "Angle Lake                             3,865.00         3,157.63   -707.37   \n",
       "\n",
       "                            percent_diff  \n",
       "station_name                              \n",
       "Northgate Station                 -8.73%  \n",
       "Roosevelt Station                115.41%  \n",
       "University District Station        2.60%  \n",
       "Husky Stadium                    -32.24%  \n",
       "Capitol Hill                      14.46%  \n",
       "Westlake                          35.18%  \n",
       "Symphony                          57.97%  \n",
       "Pioneer Square                   128.83%  \n",
       "Int'l District                   -56.34%  \n",
       "Stadium                          -77.52%  \n",
       "SODO                              48.76%  \n",
       "Beacon Hill                      -35.84%  \n",
       "Mount Baker                       -1.65%  \n",
       "Columbia City                      9.28%  \n",
       "Othello                            9.68%  \n",
       "Rainier Beach                     24.97%  \n",
       "Tukwila Int'l Blvd                32.73%  \n",
       "SeaTac/Airport                    32.42%  \n",
       "Angle Lake                       -18.30%  "
      ]
     },
     "execution_count": 27,
     "metadata": {},
     "output_type": "execute_result"
    }
   ],
   "source": [
    "line_1_df = df_table.loc[line_1_station_list]\n",
    "line_1_df"
   ]
  },
  {
   "cell_type": "code",
   "execution_count": 28,
   "id": "76eb1c04",
   "metadata": {},
   "outputs": [
    {
     "data": {
      "application/vnd.plotly.v1+json": {
       "config": {
        "plotlyServerURL": "https://plot.ly"
       },
       "data": [
        {
         "hovertemplate": "variable=observed_boardings<br>station_name=%{x}<br>value=%{y}<extra></extra>",
         "legendgroup": "observed_boardings",
         "line": {
          "color": "#91268F",
          "dash": "solid"
         },
         "marker": {
          "symbol": "circle"
         },
         "mode": "lines",
         "name": "observed_boardings",
         "orientation": "v",
         "showlegend": true,
         "type": "scatter",
         "x": [
          "Northgate Station",
          "Roosevelt Station",
          "University District Station",
          "Husky Stadium",
          "Capitol Hill",
          "Westlake",
          "Symphony",
          "Pioneer Square",
          "Int'l District",
          "Stadium",
          "SODO",
          "Beacon Hill",
          "Mount Baker",
          "Columbia City",
          "Othello",
          "Rainier Beach",
          "Tukwila Int'l Blvd",
          "SeaTac/Airport",
          "Angle Lake"
         ],
         "xaxis": "x",
         "y": [
          10384.0,
          4349.0,
          7563.0,
          6134.0,
          7667.0,
          8845.0,
          4324.0,
          2400.0,
          4399.0,
          1731.0,
          1669.0,
          2147.0,
          1861.0,
          1630.0,
          2030.0,
          1495.0,
          2298.0,
          4731.0,
          3865.0
         ],
         "yaxis": "y"
        },
        {
         "hovertemplate": "variable=model_boardings<br>station_name=%{x}<br>value=%{y}<extra></extra>",
         "legendgroup": "model_boardings",
         "line": {
          "color": "#8CC63E",
          "dash": "solid"
         },
         "marker": {
          "symbol": "circle"
         },
         "mode": "lines",
         "name": "model_boardings",
         "orientation": "v",
         "showlegend": true,
         "type": "scatter",
         "x": [
          "Northgate Station",
          "Roosevelt Station",
          "University District Station",
          "Husky Stadium",
          "Capitol Hill",
          "Westlake",
          "Symphony",
          "Pioneer Square",
          "Int'l District",
          "Stadium",
          "SODO",
          "Beacon Hill",
          "Mount Baker",
          "Columbia City",
          "Othello",
          "Rainier Beach",
          "Tukwila Int'l Blvd",
          "SeaTac/Airport",
          "Angle Lake"
         ],
         "xaxis": "x",
         "y": [
          9477.452178955078,
          9368.023712158203,
          7759.889380455017,
          4156.142003059387,
          8775.666571617126,
          11956.598023414612,
          6830.70823097229,
          5491.896686553955,
          1920.578043460846,
          389.0486677289009,
          2482.794414520264,
          1377.4922198057177,
          1830.210683107376,
          1781.2001185417175,
          2226.431789159775,
          1868.2837171554563,
          3050.169387817383,
          6264.556834995747,
          3157.634658813477
         ],
         "yaxis": "y"
        }
       ],
       "layout": {
        "font": {
         "size": 11
        },
        "height": 500,
        "legend": {
         "title": {
          "text": "variable"
         },
         "tracegroupgap": 0
        },
        "margin": {
         "t": 60
        },
        "template": {
         "data": {
          "bar": [
           {
            "error_x": {
             "color": "rgb(36,36,36)"
            },
            "error_y": {
             "color": "rgb(36,36,36)"
            },
            "marker": {
             "line": {
              "color": "white",
              "width": 0.5
             },
             "pattern": {
              "fillmode": "overlay",
              "size": 10,
              "solidity": 0.2
             }
            },
            "type": "bar"
           }
          ],
          "barpolar": [
           {
            "marker": {
             "line": {
              "color": "white",
              "width": 0.5
             },
             "pattern": {
              "fillmode": "overlay",
              "size": 10,
              "solidity": 0.2
             }
            },
            "type": "barpolar"
           }
          ],
          "carpet": [
           {
            "aaxis": {
             "endlinecolor": "rgb(36,36,36)",
             "gridcolor": "white",
             "linecolor": "white",
             "minorgridcolor": "white",
             "startlinecolor": "rgb(36,36,36)"
            },
            "baxis": {
             "endlinecolor": "rgb(36,36,36)",
             "gridcolor": "white",
             "linecolor": "white",
             "minorgridcolor": "white",
             "startlinecolor": "rgb(36,36,36)"
            },
            "type": "carpet"
           }
          ],
          "choropleth": [
           {
            "colorbar": {
             "outlinewidth": 1,
             "tickcolor": "rgb(36,36,36)",
             "ticks": "outside"
            },
            "type": "choropleth"
           }
          ],
          "contour": [
           {
            "colorbar": {
             "outlinewidth": 1,
             "tickcolor": "rgb(36,36,36)",
             "ticks": "outside"
            },
            "colorscale": [
             [
              0.0,
              "#440154"
             ],
             [
              0.1111111111111111,
              "#482878"
             ],
             [
              0.2222222222222222,
              "#3e4989"
             ],
             [
              0.3333333333333333,
              "#31688e"
             ],
             [
              0.4444444444444444,
              "#26828e"
             ],
             [
              0.5555555555555556,
              "#1f9e89"
             ],
             [
              0.6666666666666666,
              "#35b779"
             ],
             [
              0.7777777777777778,
              "#6ece58"
             ],
             [
              0.8888888888888888,
              "#b5de2b"
             ],
             [
              1.0,
              "#fde725"
             ]
            ],
            "type": "contour"
           }
          ],
          "contourcarpet": [
           {
            "colorbar": {
             "outlinewidth": 1,
             "tickcolor": "rgb(36,36,36)",
             "ticks": "outside"
            },
            "type": "contourcarpet"
           }
          ],
          "heatmap": [
           {
            "colorbar": {
             "outlinewidth": 1,
             "tickcolor": "rgb(36,36,36)",
             "ticks": "outside"
            },
            "colorscale": [
             [
              0.0,
              "#440154"
             ],
             [
              0.1111111111111111,
              "#482878"
             ],
             [
              0.2222222222222222,
              "#3e4989"
             ],
             [
              0.3333333333333333,
              "#31688e"
             ],
             [
              0.4444444444444444,
              "#26828e"
             ],
             [
              0.5555555555555556,
              "#1f9e89"
             ],
             [
              0.6666666666666666,
              "#35b779"
             ],
             [
              0.7777777777777778,
              "#6ece58"
             ],
             [
              0.8888888888888888,
              "#b5de2b"
             ],
             [
              1.0,
              "#fde725"
             ]
            ],
            "type": "heatmap"
           }
          ],
          "heatmapgl": [
           {
            "colorbar": {
             "outlinewidth": 1,
             "tickcolor": "rgb(36,36,36)",
             "ticks": "outside"
            },
            "colorscale": [
             [
              0.0,
              "#440154"
             ],
             [
              0.1111111111111111,
              "#482878"
             ],
             [
              0.2222222222222222,
              "#3e4989"
             ],
             [
              0.3333333333333333,
              "#31688e"
             ],
             [
              0.4444444444444444,
              "#26828e"
             ],
             [
              0.5555555555555556,
              "#1f9e89"
             ],
             [
              0.6666666666666666,
              "#35b779"
             ],
             [
              0.7777777777777778,
              "#6ece58"
             ],
             [
              0.8888888888888888,
              "#b5de2b"
             ],
             [
              1.0,
              "#fde725"
             ]
            ],
            "type": "heatmapgl"
           }
          ],
          "histogram": [
           {
            "marker": {
             "line": {
              "color": "white",
              "width": 0.6
             }
            },
            "type": "histogram"
           }
          ],
          "histogram2d": [
           {
            "colorbar": {
             "outlinewidth": 1,
             "tickcolor": "rgb(36,36,36)",
             "ticks": "outside"
            },
            "colorscale": [
             [
              0.0,
              "#440154"
             ],
             [
              0.1111111111111111,
              "#482878"
             ],
             [
              0.2222222222222222,
              "#3e4989"
             ],
             [
              0.3333333333333333,
              "#31688e"
             ],
             [
              0.4444444444444444,
              "#26828e"
             ],
             [
              0.5555555555555556,
              "#1f9e89"
             ],
             [
              0.6666666666666666,
              "#35b779"
             ],
             [
              0.7777777777777778,
              "#6ece58"
             ],
             [
              0.8888888888888888,
              "#b5de2b"
             ],
             [
              1.0,
              "#fde725"
             ]
            ],
            "type": "histogram2d"
           }
          ],
          "histogram2dcontour": [
           {
            "colorbar": {
             "outlinewidth": 1,
             "tickcolor": "rgb(36,36,36)",
             "ticks": "outside"
            },
            "colorscale": [
             [
              0.0,
              "#440154"
             ],
             [
              0.1111111111111111,
              "#482878"
             ],
             [
              0.2222222222222222,
              "#3e4989"
             ],
             [
              0.3333333333333333,
              "#31688e"
             ],
             [
              0.4444444444444444,
              "#26828e"
             ],
             [
              0.5555555555555556,
              "#1f9e89"
             ],
             [
              0.6666666666666666,
              "#35b779"
             ],
             [
              0.7777777777777778,
              "#6ece58"
             ],
             [
              0.8888888888888888,
              "#b5de2b"
             ],
             [
              1.0,
              "#fde725"
             ]
            ],
            "type": "histogram2dcontour"
           }
          ],
          "mesh3d": [
           {
            "colorbar": {
             "outlinewidth": 1,
             "tickcolor": "rgb(36,36,36)",
             "ticks": "outside"
            },
            "type": "mesh3d"
           }
          ],
          "parcoords": [
           {
            "line": {
             "colorbar": {
              "outlinewidth": 1,
              "tickcolor": "rgb(36,36,36)",
              "ticks": "outside"
             }
            },
            "type": "parcoords"
           }
          ],
          "pie": [
           {
            "automargin": true,
            "type": "pie"
           }
          ],
          "scatter": [
           {
            "fillpattern": {
             "fillmode": "overlay",
             "size": 10,
             "solidity": 0.2
            },
            "type": "scatter"
           }
          ],
          "scatter3d": [
           {
            "line": {
             "colorbar": {
              "outlinewidth": 1,
              "tickcolor": "rgb(36,36,36)",
              "ticks": "outside"
             }
            },
            "marker": {
             "colorbar": {
              "outlinewidth": 1,
              "tickcolor": "rgb(36,36,36)",
              "ticks": "outside"
             }
            },
            "type": "scatter3d"
           }
          ],
          "scattercarpet": [
           {
            "marker": {
             "colorbar": {
              "outlinewidth": 1,
              "tickcolor": "rgb(36,36,36)",
              "ticks": "outside"
             }
            },
            "type": "scattercarpet"
           }
          ],
          "scattergeo": [
           {
            "marker": {
             "colorbar": {
              "outlinewidth": 1,
              "tickcolor": "rgb(36,36,36)",
              "ticks": "outside"
             }
            },
            "type": "scattergeo"
           }
          ],
          "scattergl": [
           {
            "marker": {
             "colorbar": {
              "outlinewidth": 1,
              "tickcolor": "rgb(36,36,36)",
              "ticks": "outside"
             }
            },
            "type": "scattergl"
           }
          ],
          "scattermapbox": [
           {
            "marker": {
             "colorbar": {
              "outlinewidth": 1,
              "tickcolor": "rgb(36,36,36)",
              "ticks": "outside"
             }
            },
            "type": "scattermapbox"
           }
          ],
          "scatterpolar": [
           {
            "marker": {
             "colorbar": {
              "outlinewidth": 1,
              "tickcolor": "rgb(36,36,36)",
              "ticks": "outside"
             }
            },
            "type": "scatterpolar"
           }
          ],
          "scatterpolargl": [
           {
            "marker": {
             "colorbar": {
              "outlinewidth": 1,
              "tickcolor": "rgb(36,36,36)",
              "ticks": "outside"
             }
            },
            "type": "scatterpolargl"
           }
          ],
          "scatterternary": [
           {
            "marker": {
             "colorbar": {
              "outlinewidth": 1,
              "tickcolor": "rgb(36,36,36)",
              "ticks": "outside"
             }
            },
            "type": "scatterternary"
           }
          ],
          "surface": [
           {
            "colorbar": {
             "outlinewidth": 1,
             "tickcolor": "rgb(36,36,36)",
             "ticks": "outside"
            },
            "colorscale": [
             [
              0.0,
              "#440154"
             ],
             [
              0.1111111111111111,
              "#482878"
             ],
             [
              0.2222222222222222,
              "#3e4989"
             ],
             [
              0.3333333333333333,
              "#31688e"
             ],
             [
              0.4444444444444444,
              "#26828e"
             ],
             [
              0.5555555555555556,
              "#1f9e89"
             ],
             [
              0.6666666666666666,
              "#35b779"
             ],
             [
              0.7777777777777778,
              "#6ece58"
             ],
             [
              0.8888888888888888,
              "#b5de2b"
             ],
             [
              1.0,
              "#fde725"
             ]
            ],
            "type": "surface"
           }
          ],
          "table": [
           {
            "cells": {
             "fill": {
              "color": "rgb(237,237,237)"
             },
             "line": {
              "color": "white"
             }
            },
            "header": {
             "fill": {
              "color": "rgb(217,217,217)"
             },
             "line": {
              "color": "white"
             }
            },
            "type": "table"
           }
          ]
         },
         "layout": {
          "annotationdefaults": {
           "arrowhead": 0,
           "arrowwidth": 1
          },
          "autotypenumbers": "strict",
          "coloraxis": {
           "colorbar": {
            "outlinewidth": 1,
            "tickcolor": "rgb(36,36,36)",
            "ticks": "outside"
           }
          },
          "colorscale": {
           "diverging": [
            [
             0.0,
             "rgb(103,0,31)"
            ],
            [
             0.1,
             "rgb(178,24,43)"
            ],
            [
             0.2,
             "rgb(214,96,77)"
            ],
            [
             0.3,
             "rgb(244,165,130)"
            ],
            [
             0.4,
             "rgb(253,219,199)"
            ],
            [
             0.5,
             "rgb(247,247,247)"
            ],
            [
             0.6,
             "rgb(209,229,240)"
            ],
            [
             0.7,
             "rgb(146,197,222)"
            ],
            [
             0.8,
             "rgb(67,147,195)"
            ],
            [
             0.9,
             "rgb(33,102,172)"
            ],
            [
             1.0,
             "rgb(5,48,97)"
            ]
           ],
           "sequential": [
            [
             0.0,
             "#440154"
            ],
            [
             0.1111111111111111,
             "#482878"
            ],
            [
             0.2222222222222222,
             "#3e4989"
            ],
            [
             0.3333333333333333,
             "#31688e"
            ],
            [
             0.4444444444444444,
             "#26828e"
            ],
            [
             0.5555555555555556,
             "#1f9e89"
            ],
            [
             0.6666666666666666,
             "#35b779"
            ],
            [
             0.7777777777777778,
             "#6ece58"
            ],
            [
             0.8888888888888888,
             "#b5de2b"
            ],
            [
             1.0,
             "#fde725"
            ]
           ],
           "sequentialminus": [
            [
             0.0,
             "#440154"
            ],
            [
             0.1111111111111111,
             "#482878"
            ],
            [
             0.2222222222222222,
             "#3e4989"
            ],
            [
             0.3333333333333333,
             "#31688e"
            ],
            [
             0.4444444444444444,
             "#26828e"
            ],
            [
             0.5555555555555556,
             "#1f9e89"
            ],
            [
             0.6666666666666666,
             "#35b779"
            ],
            [
             0.7777777777777778,
             "#6ece58"
            ],
            [
             0.8888888888888888,
             "#b5de2b"
            ],
            [
             1.0,
             "#fde725"
            ]
           ]
          },
          "colorway": [
           "#91268F",
           "#8CC63E",
           "#00A7A0",
           "#F05A28",
           "#4C4C4C",
           "#630460",
           "#9f3913",
           "#588527",
           "#00716c",
           "#3e4040"
          ],
          "font": {
           "color": "rgb(36,36,36)",
           "family": "Poppins",
           "size": 11
          },
          "geo": {
           "bgcolor": "white",
           "lakecolor": "white",
           "landcolor": "white",
           "showlakes": true,
           "showland": true,
           "subunitcolor": "white"
          },
          "hoverlabel": {
           "align": "left"
          },
          "hovermode": "closest",
          "mapbox": {
           "style": "light"
          },
          "paper_bgcolor": "white",
          "plot_bgcolor": "white",
          "polar": {
           "angularaxis": {
            "gridcolor": "rgb(232,232,232)",
            "linecolor": "rgb(36,36,36)",
            "showgrid": false,
            "showline": true,
            "ticks": "outside"
           },
           "bgcolor": "white",
           "radialaxis": {
            "gridcolor": "rgb(232,232,232)",
            "linecolor": "rgb(36,36,36)",
            "showgrid": false,
            "showline": true,
            "ticks": "outside"
           }
          },
          "scene": {
           "xaxis": {
            "backgroundcolor": "white",
            "gridcolor": "rgb(232,232,232)",
            "gridwidth": 2,
            "linecolor": "rgb(36,36,36)",
            "showbackground": true,
            "showgrid": false,
            "showline": true,
            "ticks": "outside",
            "zeroline": false,
            "zerolinecolor": "rgb(36,36,36)"
           },
           "yaxis": {
            "backgroundcolor": "white",
            "gridcolor": "rgb(232,232,232)",
            "gridwidth": 2,
            "linecolor": "rgb(36,36,36)",
            "showbackground": true,
            "showgrid": false,
            "showline": true,
            "ticks": "outside",
            "zeroline": false,
            "zerolinecolor": "rgb(36,36,36)"
           },
           "zaxis": {
            "backgroundcolor": "white",
            "gridcolor": "rgb(232,232,232)",
            "gridwidth": 2,
            "linecolor": "rgb(36,36,36)",
            "showbackground": true,
            "showgrid": false,
            "showline": true,
            "ticks": "outside",
            "zeroline": false,
            "zerolinecolor": "rgb(36,36,36)"
           }
          },
          "shapedefaults": {
           "fillcolor": "black",
           "line": {
            "width": 0
           },
           "opacity": 0.3
          },
          "ternary": {
           "aaxis": {
            "gridcolor": "rgb(232,232,232)",
            "linecolor": "rgb(36,36,36)",
            "showgrid": false,
            "showline": true,
            "ticks": "outside"
           },
           "baxis": {
            "gridcolor": "rgb(232,232,232)",
            "linecolor": "rgb(36,36,36)",
            "showgrid": false,
            "showline": true,
            "ticks": "outside"
           },
           "bgcolor": "white",
           "caxis": {
            "gridcolor": "rgb(232,232,232)",
            "linecolor": "rgb(36,36,36)",
            "showgrid": false,
            "showline": true,
            "ticks": "outside"
           }
          },
          "title": {
           "x": 0.05
          },
          "xaxis": {
           "automargin": true,
           "gridcolor": "rgb(232,232,232)",
           "linecolor": "rgb(36,36,36)",
           "showgrid": false,
           "showline": true,
           "ticks": "outside",
           "title": {
            "standoff": 15
           },
           "zeroline": false,
           "zerolinecolor": "rgb(36,36,36)"
          },
          "yaxis": {
           "automargin": true,
           "gridcolor": "rgb(232,232,232)",
           "linecolor": "rgb(36,36,36)",
           "showgrid": false,
           "showline": true,
           "ticks": "outside",
           "title": {
            "standoff": 15
           },
           "zeroline": false,
           "zerolinecolor": "rgb(36,36,36)"
          }
         }
        },
        "width": 900,
        "xaxis": {
         "anchor": "y",
         "domain": [
          0.0,
          1.0
         ],
         "title": {
          "text": "station_name"
         }
        },
        "yaxis": {
         "anchor": "x",
         "domain": [
          0.0,
          1.0
         ],
         "tickformat": ".00f",
         "title": {
          "text": "value"
         }
        }
       }
      },
      "text/html": [
       "<div>                            <div id=\"e4f27b06-a694-43db-9a21-a1ce52044c83\" class=\"plotly-graph-div\" style=\"height:500px; width:900px;\"></div>            <script type=\"text/javascript\">                require([\"plotly\"], function(Plotly) {                    window.PLOTLYENV=window.PLOTLYENV || {};                                    if (document.getElementById(\"e4f27b06-a694-43db-9a21-a1ce52044c83\")) {                    Plotly.newPlot(                        \"e4f27b06-a694-43db-9a21-a1ce52044c83\",                        [{\"hovertemplate\":\"variable=observed_boardings\\u003cbr\\u003estation_name=%{x}\\u003cbr\\u003evalue=%{y}\\u003cextra\\u003e\\u003c\\u002fextra\\u003e\",\"legendgroup\":\"observed_boardings\",\"line\":{\"color\":\"#91268F\",\"dash\":\"solid\"},\"marker\":{\"symbol\":\"circle\"},\"mode\":\"lines\",\"name\":\"observed_boardings\",\"orientation\":\"v\",\"showlegend\":true,\"x\":[\"Northgate Station\",\"Roosevelt Station\",\"University District Station\",\"Husky Stadium\",\"Capitol Hill\",\"Westlake\",\"Symphony\",\"Pioneer Square\",\"Int'l District\",\"Stadium\",\"SODO\",\"Beacon Hill\",\"Mount Baker\",\"Columbia City\",\"Othello\",\"Rainier Beach\",\"Tukwila Int'l Blvd\",\"SeaTac\\u002fAirport\",\"Angle Lake\"],\"xaxis\":\"x\",\"y\":[10384.0,4349.0,7563.0,6134.0,7667.0,8845.0,4324.0,2400.0,4399.0,1731.0,1669.0,2147.0,1861.0,1630.0,2030.0,1495.0,2298.0,4731.0,3865.0],\"yaxis\":\"y\",\"type\":\"scatter\"},{\"hovertemplate\":\"variable=model_boardings\\u003cbr\\u003estation_name=%{x}\\u003cbr\\u003evalue=%{y}\\u003cextra\\u003e\\u003c\\u002fextra\\u003e\",\"legendgroup\":\"model_boardings\",\"line\":{\"color\":\"#8CC63E\",\"dash\":\"solid\"},\"marker\":{\"symbol\":\"circle\"},\"mode\":\"lines\",\"name\":\"model_boardings\",\"orientation\":\"v\",\"showlegend\":true,\"x\":[\"Northgate Station\",\"Roosevelt Station\",\"University District Station\",\"Husky Stadium\",\"Capitol Hill\",\"Westlake\",\"Symphony\",\"Pioneer Square\",\"Int'l District\",\"Stadium\",\"SODO\",\"Beacon Hill\",\"Mount Baker\",\"Columbia City\",\"Othello\",\"Rainier Beach\",\"Tukwila Int'l Blvd\",\"SeaTac\\u002fAirport\",\"Angle Lake\"],\"xaxis\":\"x\",\"y\":[9477.452178955078,9368.023712158203,7759.889380455017,4156.142003059387,8775.666571617126,11956.598023414612,6830.70823097229,5491.896686553955,1920.578043460846,389.0486677289009,2482.794414520264,1377.4922198057177,1830.210683107376,1781.2001185417175,2226.431789159775,1868.2837171554563,3050.169387817383,6264.556834995747,3157.634658813477],\"yaxis\":\"y\",\"type\":\"scatter\"}],                        {\"template\":{\"data\":{\"barpolar\":[{\"marker\":{\"line\":{\"color\":\"white\",\"width\":0.5},\"pattern\":{\"fillmode\":\"overlay\",\"size\":10,\"solidity\":0.2}},\"type\":\"barpolar\"}],\"bar\":[{\"error_x\":{\"color\":\"rgb(36,36,36)\"},\"error_y\":{\"color\":\"rgb(36,36,36)\"},\"marker\":{\"line\":{\"color\":\"white\",\"width\":0.5},\"pattern\":{\"fillmode\":\"overlay\",\"size\":10,\"solidity\":0.2}},\"type\":\"bar\"}],\"carpet\":[{\"aaxis\":{\"endlinecolor\":\"rgb(36,36,36)\",\"gridcolor\":\"white\",\"linecolor\":\"white\",\"minorgridcolor\":\"white\",\"startlinecolor\":\"rgb(36,36,36)\"},\"baxis\":{\"endlinecolor\":\"rgb(36,36,36)\",\"gridcolor\":\"white\",\"linecolor\":\"white\",\"minorgridcolor\":\"white\",\"startlinecolor\":\"rgb(36,36,36)\"},\"type\":\"carpet\"}],\"choropleth\":[{\"colorbar\":{\"outlinewidth\":1,\"tickcolor\":\"rgb(36,36,36)\",\"ticks\":\"outside\"},\"type\":\"choropleth\"}],\"contourcarpet\":[{\"colorbar\":{\"outlinewidth\":1,\"tickcolor\":\"rgb(36,36,36)\",\"ticks\":\"outside\"},\"type\":\"contourcarpet\"}],\"contour\":[{\"colorbar\":{\"outlinewidth\":1,\"tickcolor\":\"rgb(36,36,36)\",\"ticks\":\"outside\"},\"colorscale\":[[0.0,\"#440154\"],[0.1111111111111111,\"#482878\"],[0.2222222222222222,\"#3e4989\"],[0.3333333333333333,\"#31688e\"],[0.4444444444444444,\"#26828e\"],[0.5555555555555556,\"#1f9e89\"],[0.6666666666666666,\"#35b779\"],[0.7777777777777778,\"#6ece58\"],[0.8888888888888888,\"#b5de2b\"],[1.0,\"#fde725\"]],\"type\":\"contour\"}],\"heatmapgl\":[{\"colorbar\":{\"outlinewidth\":1,\"tickcolor\":\"rgb(36,36,36)\",\"ticks\":\"outside\"},\"colorscale\":[[0.0,\"#440154\"],[0.1111111111111111,\"#482878\"],[0.2222222222222222,\"#3e4989\"],[0.3333333333333333,\"#31688e\"],[0.4444444444444444,\"#26828e\"],[0.5555555555555556,\"#1f9e89\"],[0.6666666666666666,\"#35b779\"],[0.7777777777777778,\"#6ece58\"],[0.8888888888888888,\"#b5de2b\"],[1.0,\"#fde725\"]],\"type\":\"heatmapgl\"}],\"heatmap\":[{\"colorbar\":{\"outlinewidth\":1,\"tickcolor\":\"rgb(36,36,36)\",\"ticks\":\"outside\"},\"colorscale\":[[0.0,\"#440154\"],[0.1111111111111111,\"#482878\"],[0.2222222222222222,\"#3e4989\"],[0.3333333333333333,\"#31688e\"],[0.4444444444444444,\"#26828e\"],[0.5555555555555556,\"#1f9e89\"],[0.6666666666666666,\"#35b779\"],[0.7777777777777778,\"#6ece58\"],[0.8888888888888888,\"#b5de2b\"],[1.0,\"#fde725\"]],\"type\":\"heatmap\"}],\"histogram2dcontour\":[{\"colorbar\":{\"outlinewidth\":1,\"tickcolor\":\"rgb(36,36,36)\",\"ticks\":\"outside\"},\"colorscale\":[[0.0,\"#440154\"],[0.1111111111111111,\"#482878\"],[0.2222222222222222,\"#3e4989\"],[0.3333333333333333,\"#31688e\"],[0.4444444444444444,\"#26828e\"],[0.5555555555555556,\"#1f9e89\"],[0.6666666666666666,\"#35b779\"],[0.7777777777777778,\"#6ece58\"],[0.8888888888888888,\"#b5de2b\"],[1.0,\"#fde725\"]],\"type\":\"histogram2dcontour\"}],\"histogram2d\":[{\"colorbar\":{\"outlinewidth\":1,\"tickcolor\":\"rgb(36,36,36)\",\"ticks\":\"outside\"},\"colorscale\":[[0.0,\"#440154\"],[0.1111111111111111,\"#482878\"],[0.2222222222222222,\"#3e4989\"],[0.3333333333333333,\"#31688e\"],[0.4444444444444444,\"#26828e\"],[0.5555555555555556,\"#1f9e89\"],[0.6666666666666666,\"#35b779\"],[0.7777777777777778,\"#6ece58\"],[0.8888888888888888,\"#b5de2b\"],[1.0,\"#fde725\"]],\"type\":\"histogram2d\"}],\"histogram\":[{\"marker\":{\"line\":{\"color\":\"white\",\"width\":0.6}},\"type\":\"histogram\"}],\"mesh3d\":[{\"colorbar\":{\"outlinewidth\":1,\"tickcolor\":\"rgb(36,36,36)\",\"ticks\":\"outside\"},\"type\":\"mesh3d\"}],\"parcoords\":[{\"line\":{\"colorbar\":{\"outlinewidth\":1,\"tickcolor\":\"rgb(36,36,36)\",\"ticks\":\"outside\"}},\"type\":\"parcoords\"}],\"pie\":[{\"automargin\":true,\"type\":\"pie\"}],\"scatter3d\":[{\"line\":{\"colorbar\":{\"outlinewidth\":1,\"tickcolor\":\"rgb(36,36,36)\",\"ticks\":\"outside\"}},\"marker\":{\"colorbar\":{\"outlinewidth\":1,\"tickcolor\":\"rgb(36,36,36)\",\"ticks\":\"outside\"}},\"type\":\"scatter3d\"}],\"scattercarpet\":[{\"marker\":{\"colorbar\":{\"outlinewidth\":1,\"tickcolor\":\"rgb(36,36,36)\",\"ticks\":\"outside\"}},\"type\":\"scattercarpet\"}],\"scattergeo\":[{\"marker\":{\"colorbar\":{\"outlinewidth\":1,\"tickcolor\":\"rgb(36,36,36)\",\"ticks\":\"outside\"}},\"type\":\"scattergeo\"}],\"scattergl\":[{\"marker\":{\"colorbar\":{\"outlinewidth\":1,\"tickcolor\":\"rgb(36,36,36)\",\"ticks\":\"outside\"}},\"type\":\"scattergl\"}],\"scattermapbox\":[{\"marker\":{\"colorbar\":{\"outlinewidth\":1,\"tickcolor\":\"rgb(36,36,36)\",\"ticks\":\"outside\"}},\"type\":\"scattermapbox\"}],\"scatterpolargl\":[{\"marker\":{\"colorbar\":{\"outlinewidth\":1,\"tickcolor\":\"rgb(36,36,36)\",\"ticks\":\"outside\"}},\"type\":\"scatterpolargl\"}],\"scatterpolar\":[{\"marker\":{\"colorbar\":{\"outlinewidth\":1,\"tickcolor\":\"rgb(36,36,36)\",\"ticks\":\"outside\"}},\"type\":\"scatterpolar\"}],\"scatter\":[{\"fillpattern\":{\"fillmode\":\"overlay\",\"size\":10,\"solidity\":0.2},\"type\":\"scatter\"}],\"scatterternary\":[{\"marker\":{\"colorbar\":{\"outlinewidth\":1,\"tickcolor\":\"rgb(36,36,36)\",\"ticks\":\"outside\"}},\"type\":\"scatterternary\"}],\"surface\":[{\"colorbar\":{\"outlinewidth\":1,\"tickcolor\":\"rgb(36,36,36)\",\"ticks\":\"outside\"},\"colorscale\":[[0.0,\"#440154\"],[0.1111111111111111,\"#482878\"],[0.2222222222222222,\"#3e4989\"],[0.3333333333333333,\"#31688e\"],[0.4444444444444444,\"#26828e\"],[0.5555555555555556,\"#1f9e89\"],[0.6666666666666666,\"#35b779\"],[0.7777777777777778,\"#6ece58\"],[0.8888888888888888,\"#b5de2b\"],[1.0,\"#fde725\"]],\"type\":\"surface\"}],\"table\":[{\"cells\":{\"fill\":{\"color\":\"rgb(237,237,237)\"},\"line\":{\"color\":\"white\"}},\"header\":{\"fill\":{\"color\":\"rgb(217,217,217)\"},\"line\":{\"color\":\"white\"}},\"type\":\"table\"}]},\"layout\":{\"annotationdefaults\":{\"arrowhead\":0,\"arrowwidth\":1},\"autotypenumbers\":\"strict\",\"coloraxis\":{\"colorbar\":{\"outlinewidth\":1,\"tickcolor\":\"rgb(36,36,36)\",\"ticks\":\"outside\"}},\"colorscale\":{\"diverging\":[[0.0,\"rgb(103,0,31)\"],[0.1,\"rgb(178,24,43)\"],[0.2,\"rgb(214,96,77)\"],[0.3,\"rgb(244,165,130)\"],[0.4,\"rgb(253,219,199)\"],[0.5,\"rgb(247,247,247)\"],[0.6,\"rgb(209,229,240)\"],[0.7,\"rgb(146,197,222)\"],[0.8,\"rgb(67,147,195)\"],[0.9,\"rgb(33,102,172)\"],[1.0,\"rgb(5,48,97)\"]],\"sequential\":[[0.0,\"#440154\"],[0.1111111111111111,\"#482878\"],[0.2222222222222222,\"#3e4989\"],[0.3333333333333333,\"#31688e\"],[0.4444444444444444,\"#26828e\"],[0.5555555555555556,\"#1f9e89\"],[0.6666666666666666,\"#35b779\"],[0.7777777777777778,\"#6ece58\"],[0.8888888888888888,\"#b5de2b\"],[1.0,\"#fde725\"]],\"sequentialminus\":[[0.0,\"#440154\"],[0.1111111111111111,\"#482878\"],[0.2222222222222222,\"#3e4989\"],[0.3333333333333333,\"#31688e\"],[0.4444444444444444,\"#26828e\"],[0.5555555555555556,\"#1f9e89\"],[0.6666666666666666,\"#35b779\"],[0.7777777777777778,\"#6ece58\"],[0.8888888888888888,\"#b5de2b\"],[1.0,\"#fde725\"]]},\"colorway\":[\"#91268F\",\"#8CC63E\",\"#00A7A0\",\"#F05A28\",\"#4C4C4C\",\"#630460\",\"#9f3913\",\"#588527\",\"#00716c\",\"#3e4040\"],\"font\":{\"color\":\"rgb(36,36,36)\",\"family\":\"Poppins\",\"size\":11},\"geo\":{\"bgcolor\":\"white\",\"lakecolor\":\"white\",\"landcolor\":\"white\",\"showlakes\":true,\"showland\":true,\"subunitcolor\":\"white\"},\"hoverlabel\":{\"align\":\"left\"},\"hovermode\":\"closest\",\"mapbox\":{\"style\":\"light\"},\"paper_bgcolor\":\"white\",\"plot_bgcolor\":\"white\",\"polar\":{\"angularaxis\":{\"gridcolor\":\"rgb(232,232,232)\",\"linecolor\":\"rgb(36,36,36)\",\"showgrid\":false,\"showline\":true,\"ticks\":\"outside\"},\"bgcolor\":\"white\",\"radialaxis\":{\"gridcolor\":\"rgb(232,232,232)\",\"linecolor\":\"rgb(36,36,36)\",\"showgrid\":false,\"showline\":true,\"ticks\":\"outside\"}},\"scene\":{\"xaxis\":{\"backgroundcolor\":\"white\",\"gridcolor\":\"rgb(232,232,232)\",\"gridwidth\":2,\"linecolor\":\"rgb(36,36,36)\",\"showbackground\":true,\"showgrid\":false,\"showline\":true,\"ticks\":\"outside\",\"zeroline\":false,\"zerolinecolor\":\"rgb(36,36,36)\"},\"yaxis\":{\"backgroundcolor\":\"white\",\"gridcolor\":\"rgb(232,232,232)\",\"gridwidth\":2,\"linecolor\":\"rgb(36,36,36)\",\"showbackground\":true,\"showgrid\":false,\"showline\":true,\"ticks\":\"outside\",\"zeroline\":false,\"zerolinecolor\":\"rgb(36,36,36)\"},\"zaxis\":{\"backgroundcolor\":\"white\",\"gridcolor\":\"rgb(232,232,232)\",\"gridwidth\":2,\"linecolor\":\"rgb(36,36,36)\",\"showbackground\":true,\"showgrid\":false,\"showline\":true,\"ticks\":\"outside\",\"zeroline\":false,\"zerolinecolor\":\"rgb(36,36,36)\"}},\"shapedefaults\":{\"fillcolor\":\"black\",\"line\":{\"width\":0},\"opacity\":0.3},\"ternary\":{\"aaxis\":{\"gridcolor\":\"rgb(232,232,232)\",\"linecolor\":\"rgb(36,36,36)\",\"showgrid\":false,\"showline\":true,\"ticks\":\"outside\"},\"baxis\":{\"gridcolor\":\"rgb(232,232,232)\",\"linecolor\":\"rgb(36,36,36)\",\"showgrid\":false,\"showline\":true,\"ticks\":\"outside\"},\"bgcolor\":\"white\",\"caxis\":{\"gridcolor\":\"rgb(232,232,232)\",\"linecolor\":\"rgb(36,36,36)\",\"showgrid\":false,\"showline\":true,\"ticks\":\"outside\"}},\"title\":{\"x\":0.05},\"xaxis\":{\"automargin\":true,\"gridcolor\":\"rgb(232,232,232)\",\"linecolor\":\"rgb(36,36,36)\",\"showgrid\":false,\"showline\":true,\"ticks\":\"outside\",\"title\":{\"standoff\":15},\"zeroline\":false,\"zerolinecolor\":\"rgb(36,36,36)\"},\"yaxis\":{\"automargin\":true,\"gridcolor\":\"rgb(232,232,232)\",\"linecolor\":\"rgb(36,36,36)\",\"showgrid\":false,\"showline\":true,\"ticks\":\"outside\",\"title\":{\"standoff\":15},\"zeroline\":false,\"zerolinecolor\":\"rgb(36,36,36)\"}}},\"xaxis\":{\"anchor\":\"y\",\"domain\":[0.0,1.0],\"title\":{\"text\":\"station_name\"}},\"yaxis\":{\"anchor\":\"x\",\"domain\":[0.0,1.0],\"title\":{\"text\":\"value\"},\"tickformat\":\".00f\"},\"legend\":{\"title\":{\"text\":\"variable\"},\"tracegroupgap\":0},\"margin\":{\"t\":60},\"font\":{\"size\":11},\"height\":500,\"width\":900},                        {\"responsive\": true}                    ).then(function(){\n",
       "                            \n",
       "var gd = document.getElementById('e4f27b06-a694-43db-9a21-a1ce52044c83');\n",
       "var x = new MutationObserver(function (mutations, observer) {{\n",
       "        var display = window.getComputedStyle(gd).display;\n",
       "        if (!display || display === 'none') {{\n",
       "            console.log([gd, 'removed!']);\n",
       "            Plotly.purge(gd);\n",
       "            observer.disconnect();\n",
       "        }}\n",
       "}});\n",
       "\n",
       "// Listen for the removal of the full notebook cells\n",
       "var notebookContainer = gd.closest('#notebook-container');\n",
       "if (notebookContainer) {{\n",
       "    x.observe(notebookContainer, {childList: true});\n",
       "}}\n",
       "\n",
       "// Listen for the clearing of the current output cell\n",
       "var outputEl = gd.closest('.output');\n",
       "if (outputEl) {{\n",
       "    x.observe(outputEl, {childList: true});\n",
       "}}\n",
       "\n",
       "                        })                };                });            </script>        </div>"
      ]
     },
     "metadata": {},
     "output_type": "display_data"
    }
   ],
   "source": [
    "fig = px.line(line_1_df[['observed_boardings','model_boardings']])\n",
    "fig.update_layout(height=500, width=900, font=dict(size=11),\n",
    "                  yaxis_tickformat = '.00f')\n",
    "fig.show()"
   ]
  },
  {
   "cell_type": "raw",
   "id": "9674332e",
   "metadata": {},
   "source": [
    "#### T-Line"
   ]
  },
  {
   "cell_type": "code",
   "execution_count": 29,
   "id": "9d9d2fcd",
   "metadata": {},
   "outputs": [
    {
     "data": {
      "text/html": [
       "<div>\n",
       "<style scoped>\n",
       "    .dataframe tbody tr th:only-of-type {\n",
       "        vertical-align: middle;\n",
       "    }\n",
       "\n",
       "    .dataframe tbody tr th {\n",
       "        vertical-align: top;\n",
       "    }\n",
       "\n",
       "    .dataframe thead th {\n",
       "        text-align: right;\n",
       "    }\n",
       "</style>\n",
       "<table border=\"1\" class=\"dataframe\">\n",
       "  <thead>\n",
       "    <tr style=\"text-align: right;\">\n",
       "      <th></th>\n",
       "      <th>observed_boardings</th>\n",
       "      <th>model_boardings</th>\n",
       "      <th>diff</th>\n",
       "      <th>percent_diff</th>\n",
       "    </tr>\n",
       "    <tr>\n",
       "      <th>station_name</th>\n",
       "      <th></th>\n",
       "      <th></th>\n",
       "      <th></th>\n",
       "      <th></th>\n",
       "    </tr>\n",
       "  </thead>\n",
       "  <tbody>\n",
       "    <tr>\n",
       "      <th>Tacoma Dome Station</th>\n",
       "      <td>494.00</td>\n",
       "      <td>274.33</td>\n",
       "      <td>-219.67</td>\n",
       "      <td>-44.47%</td>\n",
       "    </tr>\n",
       "    <tr>\n",
       "      <th>S 25th St Station</th>\n",
       "      <td>120.00</td>\n",
       "      <td>494.95</td>\n",
       "      <td>374.95</td>\n",
       "      <td>312.46%</td>\n",
       "    </tr>\n",
       "    <tr>\n",
       "      <th>Union Station</th>\n",
       "      <td>420.00</td>\n",
       "      <td>218.03</td>\n",
       "      <td>-201.97</td>\n",
       "      <td>-48.09%</td>\n",
       "    </tr>\n",
       "    <tr>\n",
       "      <th>Convention Center Station</th>\n",
       "      <td>91.00</td>\n",
       "      <td>594.47</td>\n",
       "      <td>503.47</td>\n",
       "      <td>553.26%</td>\n",
       "    </tr>\n",
       "    <tr>\n",
       "      <th>Commerce Station</th>\n",
       "      <td>294.00</td>\n",
       "      <td>480.50</td>\n",
       "      <td>186.50</td>\n",
       "      <td>63.44%</td>\n",
       "    </tr>\n",
       "  </tbody>\n",
       "</table>\n",
       "</div>"
      ],
      "text/plain": [
       "                           observed_boardings  model_boardings    diff  \\\n",
       "station_name                                                             \n",
       "Tacoma Dome Station                    494.00           274.33 -219.67   \n",
       "S 25th St Station                      120.00           494.95  374.95   \n",
       "Union Station                          420.00           218.03 -201.97   \n",
       "Convention Center Station               91.00           594.47  503.47   \n",
       "Commerce Station                       294.00           480.50  186.50   \n",
       "\n",
       "                          percent_diff  \n",
       "station_name                            \n",
       "Tacoma Dome Station            -44.47%  \n",
       "S 25th St Station              312.46%  \n",
       "Union Station                  -48.09%  \n",
       "Convention Center Station      553.26%  \n",
       "Commerce Station                63.44%  "
      ]
     },
     "execution_count": 29,
     "metadata": {},
     "output_type": "execute_result"
    }
   ],
   "source": [
    "t_line_df = df_table.loc[t_line_station_list]\n",
    "t_line_df"
   ]
  },
  {
   "cell_type": "raw",
   "id": "3dafcff1da10b5e5",
   "metadata": {},
   "source": [
    "#### Sound Transit Station Groupings"
   ]
  },
  {
   "cell_type": "code",
   "execution_count": 30,
   "id": "7456ebeb8efd83d0",
   "metadata": {
    "ExecuteTime": {
     "end_time": "2024-06-24T20:06:06.901270Z",
     "start_time": "2024-06-24T20:06:06.830246Z"
    },
    "execution": {
     "iopub.execute_input": "2024-12-14T02:38:42.922957Z",
     "iopub.status.busy": "2024-12-14T02:38:42.920963Z",
     "iopub.status.idle": "2024-12-14T02:38:42.990343Z",
     "shell.execute_reply": "2024-12-14T02:38:42.988264Z"
    }
   },
   "outputs": [
    {
     "data": {
      "text/html": [
       "<div>\n",
       "<style scoped>\n",
       "    .dataframe tbody tr th:only-of-type {\n",
       "        vertical-align: middle;\n",
       "    }\n",
       "\n",
       "    .dataframe tbody tr th {\n",
       "        vertical-align: top;\n",
       "    }\n",
       "\n",
       "    .dataframe thead th {\n",
       "        text-align: right;\n",
       "    }\n",
       "</style>\n",
       "<table border=\"1\" class=\"dataframe\">\n",
       "  <thead>\n",
       "    <tr style=\"text-align: right;\">\n",
       "      <th></th>\n",
       "      <th>observed_boardings</th>\n",
       "      <th>model_boardings</th>\n",
       "      <th>diff</th>\n",
       "      <th>percent_diff</th>\n",
       "    </tr>\n",
       "    <tr>\n",
       "      <th>station_group</th>\n",
       "      <th></th>\n",
       "      <th></th>\n",
       "      <th></th>\n",
       "      <th></th>\n",
       "    </tr>\n",
       "  </thead>\n",
       "  <tbody>\n",
       "    <tr>\n",
       "      <th>Northgate/Roosevelt</th>\n",
       "      <td>14,733.00</td>\n",
       "      <td>18,845.48</td>\n",
       "      <td>4,112.48</td>\n",
       "      <td>27.91%</td>\n",
       "    </tr>\n",
       "    <tr>\n",
       "      <th>U District/Husky Stadium</th>\n",
       "      <td>13,697.00</td>\n",
       "      <td>11,916.03</td>\n",
       "      <td>-1,780.97</td>\n",
       "      <td>-13.00%</td>\n",
       "    </tr>\n",
       "    <tr>\n",
       "      <th>Capitol Hill</th>\n",
       "      <td>7,667.00</td>\n",
       "      <td>8,775.67</td>\n",
       "      <td>1,108.67</td>\n",
       "      <td>14.46%</td>\n",
       "    </tr>\n",
       "    <tr>\n",
       "      <th>Westlake/Symphony</th>\n",
       "      <td>13,169.00</td>\n",
       "      <td>18,787.31</td>\n",
       "      <td>5,618.31</td>\n",
       "      <td>42.66%</td>\n",
       "    </tr>\n",
       "    <tr>\n",
       "      <th>Pioneer Square/Int'l District</th>\n",
       "      <td>6,799.00</td>\n",
       "      <td>7,412.47</td>\n",
       "      <td>613.47</td>\n",
       "      <td>9.02%</td>\n",
       "    </tr>\n",
       "    <tr>\n",
       "      <th>Stadium/SODO</th>\n",
       "      <td>3,400.00</td>\n",
       "      <td>2,871.84</td>\n",
       "      <td>-528.16</td>\n",
       "      <td>-15.53%</td>\n",
       "    </tr>\n",
       "    <tr>\n",
       "      <th>Beacon Hill/Mount Baker</th>\n",
       "      <td>4,008.00</td>\n",
       "      <td>3,207.70</td>\n",
       "      <td>-800.30</td>\n",
       "      <td>-19.97%</td>\n",
       "    </tr>\n",
       "    <tr>\n",
       "      <th>Columbia City</th>\n",
       "      <td>1,630.00</td>\n",
       "      <td>1,781.20</td>\n",
       "      <td>151.20</td>\n",
       "      <td>9.28%</td>\n",
       "    </tr>\n",
       "    <tr>\n",
       "      <th>Othello/Rainier Beach</th>\n",
       "      <td>3,525.00</td>\n",
       "      <td>4,094.72</td>\n",
       "      <td>569.72</td>\n",
       "      <td>16.16%</td>\n",
       "    </tr>\n",
       "    <tr>\n",
       "      <th>Tukwila Int'l Blvd</th>\n",
       "      <td>2,298.00</td>\n",
       "      <td>3,050.17</td>\n",
       "      <td>752.17</td>\n",
       "      <td>32.73%</td>\n",
       "    </tr>\n",
       "    <tr>\n",
       "      <th>SeaTac/Airport</th>\n",
       "      <td>4,731.00</td>\n",
       "      <td>6,264.56</td>\n",
       "      <td>1,533.56</td>\n",
       "      <td>32.42%</td>\n",
       "    </tr>\n",
       "    <tr>\n",
       "      <th>Angle Lake</th>\n",
       "      <td>3,865.00</td>\n",
       "      <td>3,157.63</td>\n",
       "      <td>-707.37</td>\n",
       "      <td>-18.30%</td>\n",
       "    </tr>\n",
       "  </tbody>\n",
       "</table>\n",
       "</div>"
      ],
      "text/plain": [
       "                               observed_boardings  model_boardings      diff  \\\n",
       "station_group                                                                  \n",
       "Northgate/Roosevelt                     14,733.00        18,845.48  4,112.48   \n",
       "U District/Husky Stadium                13,697.00        11,916.03 -1,780.97   \n",
       "Capitol Hill                             7,667.00         8,775.67  1,108.67   \n",
       "Westlake/Symphony                       13,169.00        18,787.31  5,618.31   \n",
       "Pioneer Square/Int'l District            6,799.00         7,412.47    613.47   \n",
       "Stadium/SODO                             3,400.00         2,871.84   -528.16   \n",
       "Beacon Hill/Mount Baker                  4,008.00         3,207.70   -800.30   \n",
       "Columbia City                            1,630.00         1,781.20    151.20   \n",
       "Othello/Rainier Beach                    3,525.00         4,094.72    569.72   \n",
       "Tukwila Int'l Blvd                       2,298.00         3,050.17    752.17   \n",
       "SeaTac/Airport                           4,731.00         6,264.56  1,533.56   \n",
       "Angle Lake                               3,865.00         3,157.63   -707.37   \n",
       "\n",
       "                              percent_diff  \n",
       "station_group                               \n",
       "Northgate/Roosevelt                 27.91%  \n",
       "U District/Husky Stadium           -13.00%  \n",
       "Capitol Hill                        14.46%  \n",
       "Westlake/Symphony                   42.66%  \n",
       "Pioneer Square/Int'l District        9.02%  \n",
       "Stadium/SODO                       -15.53%  \n",
       "Beacon Hill/Mount Baker            -19.97%  \n",
       "Columbia City                        9.28%  \n",
       "Othello/Rainier Beach               16.16%  \n",
       "Tukwila Int'l Blvd                  32.73%  \n",
       "SeaTac/Airport                      32.42%  \n",
       "Angle Lake                         -18.30%  "
      ]
     },
     "execution_count": 30,
     "metadata": {},
     "output_type": "execute_result"
    }
   ],
   "source": [
    "df_combined = df.copy()\n",
    "\n",
    "df_combined['station_group'] = df.index\n",
    "df_combined.loc[['Westlake'],'station_group'] = 'Westlake/Symphony'\n",
    "df_combined.loc[['Symphony'],'station_group'] = 'Westlake/Symphony'\n",
    "\n",
    "df_combined.loc[['Pioneer Square'],'station_group'] = \"Pioneer Square/Int'l District\"\n",
    "df_combined.loc[[\"Int'l District\"],'station_group'] = \"Pioneer Square/Int'l District\"\n",
    "\n",
    "df_combined.loc[['Stadium'],'station_group'] = 'Stadium/SODO'\n",
    "df_combined.loc[['SODO'],'station_group'] = 'Stadium/SODO'\n",
    "\n",
    "df_combined.loc[['Beacon Hill'],'station_group'] = 'Beacon Hill/Mount Baker'\n",
    "df_combined.loc[['Mount Baker'],'station_group'] = 'Beacon Hill/Mount Baker'\n",
    "\n",
    "df_combined.loc[['Othello'],'station_group'] = 'Othello/Rainier Beach'\n",
    "df_combined.loc[['Rainier Beach'],'station_group'] = 'Othello/Rainier Beach'\n",
    "\n",
    "df_combined.loc[['University District Station'],'station_group'] = 'U District/Husky Stadium'\n",
    "df_combined.loc[['Husky Stadium'],'station_group'] = 'U District/Husky Stadium'\n",
    "\n",
    "df_combined.loc[['Northgate Station'],'station_group'] = 'Northgate/Roosevelt'\n",
    "df_combined.loc[['Roosevelt Station'],'station_group'] = 'Northgate/Roosevelt'\n",
    "\n",
    "df_combined = df_combined.groupby('station_group').sum()[['observed_boardings','model_boardings']]\n",
    "df_combined['diff'] = df_combined['model_boardings']-df_combined['observed_boardings']\n",
    "df_combined['percent_diff'] = df_combined['diff']/df_combined['observed_boardings']\n",
    "df_combined[['percent_diff']] = df_combined[['percent_diff']].applymap(format_percent)\n",
    "\n",
    "df_combined = df_combined.loc[['Northgate/Roosevelt','U District/Husky Stadium','Capitol Hill','Westlake/Symphony',\"Pioneer Square/Int'l District\",\n",
    "                             'Stadium/SODO','Beacon Hill/Mount Baker','Columbia City','Othello/Rainier Beach',\n",
    "                             \"Tukwila Int'l Blvd\",'SeaTac/Airport','Angle Lake']]\n",
    "df_combined"
   ]
  },
  {
   "cell_type": "code",
   "execution_count": 31,
   "id": "d06a1922",
   "metadata": {},
   "outputs": [
    {
     "data": {
      "application/vnd.plotly.v1+json": {
       "config": {
        "plotlyServerURL": "https://plot.ly"
       },
       "data": [
        {
         "hovertemplate": "variable=observed_boardings<br>station_group=%{x}<br>value=%{y}<extra></extra>",
         "legendgroup": "observed_boardings",
         "line": {
          "color": "#91268F",
          "dash": "solid"
         },
         "marker": {
          "symbol": "circle"
         },
         "mode": "lines",
         "name": "observed_boardings",
         "orientation": "v",
         "showlegend": true,
         "type": "scatter",
         "x": [
          "Northgate/Roosevelt",
          "U District/Husky Stadium",
          "Capitol Hill",
          "Westlake/Symphony",
          "Pioneer Square/Int'l District",
          "Stadium/SODO",
          "Beacon Hill/Mount Baker",
          "Columbia City",
          "Othello/Rainier Beach",
          "Tukwila Int'l Blvd",
          "SeaTac/Airport",
          "Angle Lake"
         ],
         "xaxis": "x",
         "y": [
          14733.0,
          13697.0,
          7667.0,
          13169.0,
          6799.0,
          3400.0,
          4008.0,
          1630.0,
          3525.0,
          2298.0,
          4731.0,
          3865.0
         ],
         "yaxis": "y"
        },
        {
         "hovertemplate": "variable=model_boardings<br>station_group=%{x}<br>value=%{y}<extra></extra>",
         "legendgroup": "model_boardings",
         "line": {
          "color": "#8CC63E",
          "dash": "solid"
         },
         "marker": {
          "symbol": "circle"
         },
         "mode": "lines",
         "name": "model_boardings",
         "orientation": "v",
         "showlegend": true,
         "type": "scatter",
         "x": [
          "Northgate/Roosevelt",
          "U District/Husky Stadium",
          "Capitol Hill",
          "Westlake/Symphony",
          "Pioneer Square/Int'l District",
          "Stadium/SODO",
          "Beacon Hill/Mount Baker",
          "Columbia City",
          "Othello/Rainier Beach",
          "Tukwila Int'l Blvd",
          "SeaTac/Airport",
          "Angle Lake"
         ],
         "xaxis": "x",
         "y": [
          18845.47589111328,
          11916.031383514404,
          8775.666571617126,
          18787.306254386902,
          7412.474730014801,
          2871.843082249165,
          3207.7029029130936,
          1781.2001185417175,
          4094.7155063152313,
          3050.169387817383,
          6264.556834995747,
          3157.634658813477
         ],
         "yaxis": "y"
        }
       ],
       "layout": {
        "font": {
         "size": 11
        },
        "height": 500,
        "legend": {
         "title": {
          "text": "variable"
         },
         "tracegroupgap": 0
        },
        "margin": {
         "t": 60
        },
        "template": {
         "data": {
          "bar": [
           {
            "error_x": {
             "color": "rgb(36,36,36)"
            },
            "error_y": {
             "color": "rgb(36,36,36)"
            },
            "marker": {
             "line": {
              "color": "white",
              "width": 0.5
             },
             "pattern": {
              "fillmode": "overlay",
              "size": 10,
              "solidity": 0.2
             }
            },
            "type": "bar"
           }
          ],
          "barpolar": [
           {
            "marker": {
             "line": {
              "color": "white",
              "width": 0.5
             },
             "pattern": {
              "fillmode": "overlay",
              "size": 10,
              "solidity": 0.2
             }
            },
            "type": "barpolar"
           }
          ],
          "carpet": [
           {
            "aaxis": {
             "endlinecolor": "rgb(36,36,36)",
             "gridcolor": "white",
             "linecolor": "white",
             "minorgridcolor": "white",
             "startlinecolor": "rgb(36,36,36)"
            },
            "baxis": {
             "endlinecolor": "rgb(36,36,36)",
             "gridcolor": "white",
             "linecolor": "white",
             "minorgridcolor": "white",
             "startlinecolor": "rgb(36,36,36)"
            },
            "type": "carpet"
           }
          ],
          "choropleth": [
           {
            "colorbar": {
             "outlinewidth": 1,
             "tickcolor": "rgb(36,36,36)",
             "ticks": "outside"
            },
            "type": "choropleth"
           }
          ],
          "contour": [
           {
            "colorbar": {
             "outlinewidth": 1,
             "tickcolor": "rgb(36,36,36)",
             "ticks": "outside"
            },
            "colorscale": [
             [
              0.0,
              "#440154"
             ],
             [
              0.1111111111111111,
              "#482878"
             ],
             [
              0.2222222222222222,
              "#3e4989"
             ],
             [
              0.3333333333333333,
              "#31688e"
             ],
             [
              0.4444444444444444,
              "#26828e"
             ],
             [
              0.5555555555555556,
              "#1f9e89"
             ],
             [
              0.6666666666666666,
              "#35b779"
             ],
             [
              0.7777777777777778,
              "#6ece58"
             ],
             [
              0.8888888888888888,
              "#b5de2b"
             ],
             [
              1.0,
              "#fde725"
             ]
            ],
            "type": "contour"
           }
          ],
          "contourcarpet": [
           {
            "colorbar": {
             "outlinewidth": 1,
             "tickcolor": "rgb(36,36,36)",
             "ticks": "outside"
            },
            "type": "contourcarpet"
           }
          ],
          "heatmap": [
           {
            "colorbar": {
             "outlinewidth": 1,
             "tickcolor": "rgb(36,36,36)",
             "ticks": "outside"
            },
            "colorscale": [
             [
              0.0,
              "#440154"
             ],
             [
              0.1111111111111111,
              "#482878"
             ],
             [
              0.2222222222222222,
              "#3e4989"
             ],
             [
              0.3333333333333333,
              "#31688e"
             ],
             [
              0.4444444444444444,
              "#26828e"
             ],
             [
              0.5555555555555556,
              "#1f9e89"
             ],
             [
              0.6666666666666666,
              "#35b779"
             ],
             [
              0.7777777777777778,
              "#6ece58"
             ],
             [
              0.8888888888888888,
              "#b5de2b"
             ],
             [
              1.0,
              "#fde725"
             ]
            ],
            "type": "heatmap"
           }
          ],
          "heatmapgl": [
           {
            "colorbar": {
             "outlinewidth": 1,
             "tickcolor": "rgb(36,36,36)",
             "ticks": "outside"
            },
            "colorscale": [
             [
              0.0,
              "#440154"
             ],
             [
              0.1111111111111111,
              "#482878"
             ],
             [
              0.2222222222222222,
              "#3e4989"
             ],
             [
              0.3333333333333333,
              "#31688e"
             ],
             [
              0.4444444444444444,
              "#26828e"
             ],
             [
              0.5555555555555556,
              "#1f9e89"
             ],
             [
              0.6666666666666666,
              "#35b779"
             ],
             [
              0.7777777777777778,
              "#6ece58"
             ],
             [
              0.8888888888888888,
              "#b5de2b"
             ],
             [
              1.0,
              "#fde725"
             ]
            ],
            "type": "heatmapgl"
           }
          ],
          "histogram": [
           {
            "marker": {
             "line": {
              "color": "white",
              "width": 0.6
             }
            },
            "type": "histogram"
           }
          ],
          "histogram2d": [
           {
            "colorbar": {
             "outlinewidth": 1,
             "tickcolor": "rgb(36,36,36)",
             "ticks": "outside"
            },
            "colorscale": [
             [
              0.0,
              "#440154"
             ],
             [
              0.1111111111111111,
              "#482878"
             ],
             [
              0.2222222222222222,
              "#3e4989"
             ],
             [
              0.3333333333333333,
              "#31688e"
             ],
             [
              0.4444444444444444,
              "#26828e"
             ],
             [
              0.5555555555555556,
              "#1f9e89"
             ],
             [
              0.6666666666666666,
              "#35b779"
             ],
             [
              0.7777777777777778,
              "#6ece58"
             ],
             [
              0.8888888888888888,
              "#b5de2b"
             ],
             [
              1.0,
              "#fde725"
             ]
            ],
            "type": "histogram2d"
           }
          ],
          "histogram2dcontour": [
           {
            "colorbar": {
             "outlinewidth": 1,
             "tickcolor": "rgb(36,36,36)",
             "ticks": "outside"
            },
            "colorscale": [
             [
              0.0,
              "#440154"
             ],
             [
              0.1111111111111111,
              "#482878"
             ],
             [
              0.2222222222222222,
              "#3e4989"
             ],
             [
              0.3333333333333333,
              "#31688e"
             ],
             [
              0.4444444444444444,
              "#26828e"
             ],
             [
              0.5555555555555556,
              "#1f9e89"
             ],
             [
              0.6666666666666666,
              "#35b779"
             ],
             [
              0.7777777777777778,
              "#6ece58"
             ],
             [
              0.8888888888888888,
              "#b5de2b"
             ],
             [
              1.0,
              "#fde725"
             ]
            ],
            "type": "histogram2dcontour"
           }
          ],
          "mesh3d": [
           {
            "colorbar": {
             "outlinewidth": 1,
             "tickcolor": "rgb(36,36,36)",
             "ticks": "outside"
            },
            "type": "mesh3d"
           }
          ],
          "parcoords": [
           {
            "line": {
             "colorbar": {
              "outlinewidth": 1,
              "tickcolor": "rgb(36,36,36)",
              "ticks": "outside"
             }
            },
            "type": "parcoords"
           }
          ],
          "pie": [
           {
            "automargin": true,
            "type": "pie"
           }
          ],
          "scatter": [
           {
            "fillpattern": {
             "fillmode": "overlay",
             "size": 10,
             "solidity": 0.2
            },
            "type": "scatter"
           }
          ],
          "scatter3d": [
           {
            "line": {
             "colorbar": {
              "outlinewidth": 1,
              "tickcolor": "rgb(36,36,36)",
              "ticks": "outside"
             }
            },
            "marker": {
             "colorbar": {
              "outlinewidth": 1,
              "tickcolor": "rgb(36,36,36)",
              "ticks": "outside"
             }
            },
            "type": "scatter3d"
           }
          ],
          "scattercarpet": [
           {
            "marker": {
             "colorbar": {
              "outlinewidth": 1,
              "tickcolor": "rgb(36,36,36)",
              "ticks": "outside"
             }
            },
            "type": "scattercarpet"
           }
          ],
          "scattergeo": [
           {
            "marker": {
             "colorbar": {
              "outlinewidth": 1,
              "tickcolor": "rgb(36,36,36)",
              "ticks": "outside"
             }
            },
            "type": "scattergeo"
           }
          ],
          "scattergl": [
           {
            "marker": {
             "colorbar": {
              "outlinewidth": 1,
              "tickcolor": "rgb(36,36,36)",
              "ticks": "outside"
             }
            },
            "type": "scattergl"
           }
          ],
          "scattermapbox": [
           {
            "marker": {
             "colorbar": {
              "outlinewidth": 1,
              "tickcolor": "rgb(36,36,36)",
              "ticks": "outside"
             }
            },
            "type": "scattermapbox"
           }
          ],
          "scatterpolar": [
           {
            "marker": {
             "colorbar": {
              "outlinewidth": 1,
              "tickcolor": "rgb(36,36,36)",
              "ticks": "outside"
             }
            },
            "type": "scatterpolar"
           }
          ],
          "scatterpolargl": [
           {
            "marker": {
             "colorbar": {
              "outlinewidth": 1,
              "tickcolor": "rgb(36,36,36)",
              "ticks": "outside"
             }
            },
            "type": "scatterpolargl"
           }
          ],
          "scatterternary": [
           {
            "marker": {
             "colorbar": {
              "outlinewidth": 1,
              "tickcolor": "rgb(36,36,36)",
              "ticks": "outside"
             }
            },
            "type": "scatterternary"
           }
          ],
          "surface": [
           {
            "colorbar": {
             "outlinewidth": 1,
             "tickcolor": "rgb(36,36,36)",
             "ticks": "outside"
            },
            "colorscale": [
             [
              0.0,
              "#440154"
             ],
             [
              0.1111111111111111,
              "#482878"
             ],
             [
              0.2222222222222222,
              "#3e4989"
             ],
             [
              0.3333333333333333,
              "#31688e"
             ],
             [
              0.4444444444444444,
              "#26828e"
             ],
             [
              0.5555555555555556,
              "#1f9e89"
             ],
             [
              0.6666666666666666,
              "#35b779"
             ],
             [
              0.7777777777777778,
              "#6ece58"
             ],
             [
              0.8888888888888888,
              "#b5de2b"
             ],
             [
              1.0,
              "#fde725"
             ]
            ],
            "type": "surface"
           }
          ],
          "table": [
           {
            "cells": {
             "fill": {
              "color": "rgb(237,237,237)"
             },
             "line": {
              "color": "white"
             }
            },
            "header": {
             "fill": {
              "color": "rgb(217,217,217)"
             },
             "line": {
              "color": "white"
             }
            },
            "type": "table"
           }
          ]
         },
         "layout": {
          "annotationdefaults": {
           "arrowhead": 0,
           "arrowwidth": 1
          },
          "autotypenumbers": "strict",
          "coloraxis": {
           "colorbar": {
            "outlinewidth": 1,
            "tickcolor": "rgb(36,36,36)",
            "ticks": "outside"
           }
          },
          "colorscale": {
           "diverging": [
            [
             0.0,
             "rgb(103,0,31)"
            ],
            [
             0.1,
             "rgb(178,24,43)"
            ],
            [
             0.2,
             "rgb(214,96,77)"
            ],
            [
             0.3,
             "rgb(244,165,130)"
            ],
            [
             0.4,
             "rgb(253,219,199)"
            ],
            [
             0.5,
             "rgb(247,247,247)"
            ],
            [
             0.6,
             "rgb(209,229,240)"
            ],
            [
             0.7,
             "rgb(146,197,222)"
            ],
            [
             0.8,
             "rgb(67,147,195)"
            ],
            [
             0.9,
             "rgb(33,102,172)"
            ],
            [
             1.0,
             "rgb(5,48,97)"
            ]
           ],
           "sequential": [
            [
             0.0,
             "#440154"
            ],
            [
             0.1111111111111111,
             "#482878"
            ],
            [
             0.2222222222222222,
             "#3e4989"
            ],
            [
             0.3333333333333333,
             "#31688e"
            ],
            [
             0.4444444444444444,
             "#26828e"
            ],
            [
             0.5555555555555556,
             "#1f9e89"
            ],
            [
             0.6666666666666666,
             "#35b779"
            ],
            [
             0.7777777777777778,
             "#6ece58"
            ],
            [
             0.8888888888888888,
             "#b5de2b"
            ],
            [
             1.0,
             "#fde725"
            ]
           ],
           "sequentialminus": [
            [
             0.0,
             "#440154"
            ],
            [
             0.1111111111111111,
             "#482878"
            ],
            [
             0.2222222222222222,
             "#3e4989"
            ],
            [
             0.3333333333333333,
             "#31688e"
            ],
            [
             0.4444444444444444,
             "#26828e"
            ],
            [
             0.5555555555555556,
             "#1f9e89"
            ],
            [
             0.6666666666666666,
             "#35b779"
            ],
            [
             0.7777777777777778,
             "#6ece58"
            ],
            [
             0.8888888888888888,
             "#b5de2b"
            ],
            [
             1.0,
             "#fde725"
            ]
           ]
          },
          "colorway": [
           "#91268F",
           "#8CC63E",
           "#00A7A0",
           "#F05A28",
           "#4C4C4C",
           "#630460",
           "#9f3913",
           "#588527",
           "#00716c",
           "#3e4040"
          ],
          "font": {
           "color": "rgb(36,36,36)",
           "family": "Poppins",
           "size": 11
          },
          "geo": {
           "bgcolor": "white",
           "lakecolor": "white",
           "landcolor": "white",
           "showlakes": true,
           "showland": true,
           "subunitcolor": "white"
          },
          "hoverlabel": {
           "align": "left"
          },
          "hovermode": "closest",
          "mapbox": {
           "style": "light"
          },
          "paper_bgcolor": "white",
          "plot_bgcolor": "white",
          "polar": {
           "angularaxis": {
            "gridcolor": "rgb(232,232,232)",
            "linecolor": "rgb(36,36,36)",
            "showgrid": false,
            "showline": true,
            "ticks": "outside"
           },
           "bgcolor": "white",
           "radialaxis": {
            "gridcolor": "rgb(232,232,232)",
            "linecolor": "rgb(36,36,36)",
            "showgrid": false,
            "showline": true,
            "ticks": "outside"
           }
          },
          "scene": {
           "xaxis": {
            "backgroundcolor": "white",
            "gridcolor": "rgb(232,232,232)",
            "gridwidth": 2,
            "linecolor": "rgb(36,36,36)",
            "showbackground": true,
            "showgrid": false,
            "showline": true,
            "ticks": "outside",
            "zeroline": false,
            "zerolinecolor": "rgb(36,36,36)"
           },
           "yaxis": {
            "backgroundcolor": "white",
            "gridcolor": "rgb(232,232,232)",
            "gridwidth": 2,
            "linecolor": "rgb(36,36,36)",
            "showbackground": true,
            "showgrid": false,
            "showline": true,
            "ticks": "outside",
            "zeroline": false,
            "zerolinecolor": "rgb(36,36,36)"
           },
           "zaxis": {
            "backgroundcolor": "white",
            "gridcolor": "rgb(232,232,232)",
            "gridwidth": 2,
            "linecolor": "rgb(36,36,36)",
            "showbackground": true,
            "showgrid": false,
            "showline": true,
            "ticks": "outside",
            "zeroline": false,
            "zerolinecolor": "rgb(36,36,36)"
           }
          },
          "shapedefaults": {
           "fillcolor": "black",
           "line": {
            "width": 0
           },
           "opacity": 0.3
          },
          "ternary": {
           "aaxis": {
            "gridcolor": "rgb(232,232,232)",
            "linecolor": "rgb(36,36,36)",
            "showgrid": false,
            "showline": true,
            "ticks": "outside"
           },
           "baxis": {
            "gridcolor": "rgb(232,232,232)",
            "linecolor": "rgb(36,36,36)",
            "showgrid": false,
            "showline": true,
            "ticks": "outside"
           },
           "bgcolor": "white",
           "caxis": {
            "gridcolor": "rgb(232,232,232)",
            "linecolor": "rgb(36,36,36)",
            "showgrid": false,
            "showline": true,
            "ticks": "outside"
           }
          },
          "title": {
           "x": 0.05
          },
          "xaxis": {
           "automargin": true,
           "gridcolor": "rgb(232,232,232)",
           "linecolor": "rgb(36,36,36)",
           "showgrid": false,
           "showline": true,
           "ticks": "outside",
           "title": {
            "standoff": 15
           },
           "zeroline": false,
           "zerolinecolor": "rgb(36,36,36)"
          },
          "yaxis": {
           "automargin": true,
           "gridcolor": "rgb(232,232,232)",
           "linecolor": "rgb(36,36,36)",
           "showgrid": false,
           "showline": true,
           "ticks": "outside",
           "title": {
            "standoff": 15
           },
           "zeroline": false,
           "zerolinecolor": "rgb(36,36,36)"
          }
         }
        },
        "width": 900,
        "xaxis": {
         "anchor": "y",
         "domain": [
          0.0,
          1.0
         ],
         "title": {
          "text": "station_group"
         }
        },
        "yaxis": {
         "anchor": "x",
         "domain": [
          0.0,
          1.0
         ],
         "tickformat": ".00f",
         "title": {
          "text": "value"
         }
        }
       }
      },
      "text/html": [
       "<div>                            <div id=\"c4cdac7b-2de5-4bd8-9ba1-a56c8a1c2e5d\" class=\"plotly-graph-div\" style=\"height:500px; width:900px;\"></div>            <script type=\"text/javascript\">                require([\"plotly\"], function(Plotly) {                    window.PLOTLYENV=window.PLOTLYENV || {};                                    if (document.getElementById(\"c4cdac7b-2de5-4bd8-9ba1-a56c8a1c2e5d\")) {                    Plotly.newPlot(                        \"c4cdac7b-2de5-4bd8-9ba1-a56c8a1c2e5d\",                        [{\"hovertemplate\":\"variable=observed_boardings\\u003cbr\\u003estation_group=%{x}\\u003cbr\\u003evalue=%{y}\\u003cextra\\u003e\\u003c\\u002fextra\\u003e\",\"legendgroup\":\"observed_boardings\",\"line\":{\"color\":\"#91268F\",\"dash\":\"solid\"},\"marker\":{\"symbol\":\"circle\"},\"mode\":\"lines\",\"name\":\"observed_boardings\",\"orientation\":\"v\",\"showlegend\":true,\"x\":[\"Northgate\\u002fRoosevelt\",\"U District\\u002fHusky Stadium\",\"Capitol Hill\",\"Westlake\\u002fSymphony\",\"Pioneer Square\\u002fInt'l District\",\"Stadium\\u002fSODO\",\"Beacon Hill\\u002fMount Baker\",\"Columbia City\",\"Othello\\u002fRainier Beach\",\"Tukwila Int'l Blvd\",\"SeaTac\\u002fAirport\",\"Angle Lake\"],\"xaxis\":\"x\",\"y\":[14733.0,13697.0,7667.0,13169.0,6799.0,3400.0,4008.0,1630.0,3525.0,2298.0,4731.0,3865.0],\"yaxis\":\"y\",\"type\":\"scatter\"},{\"hovertemplate\":\"variable=model_boardings\\u003cbr\\u003estation_group=%{x}\\u003cbr\\u003evalue=%{y}\\u003cextra\\u003e\\u003c\\u002fextra\\u003e\",\"legendgroup\":\"model_boardings\",\"line\":{\"color\":\"#8CC63E\",\"dash\":\"solid\"},\"marker\":{\"symbol\":\"circle\"},\"mode\":\"lines\",\"name\":\"model_boardings\",\"orientation\":\"v\",\"showlegend\":true,\"x\":[\"Northgate\\u002fRoosevelt\",\"U District\\u002fHusky Stadium\",\"Capitol Hill\",\"Westlake\\u002fSymphony\",\"Pioneer Square\\u002fInt'l District\",\"Stadium\\u002fSODO\",\"Beacon Hill\\u002fMount Baker\",\"Columbia City\",\"Othello\\u002fRainier Beach\",\"Tukwila Int'l Blvd\",\"SeaTac\\u002fAirport\",\"Angle Lake\"],\"xaxis\":\"x\",\"y\":[18845.47589111328,11916.031383514404,8775.666571617126,18787.306254386902,7412.474730014801,2871.843082249165,3207.7029029130936,1781.2001185417175,4094.7155063152313,3050.169387817383,6264.556834995747,3157.634658813477],\"yaxis\":\"y\",\"type\":\"scatter\"}],                        {\"template\":{\"data\":{\"barpolar\":[{\"marker\":{\"line\":{\"color\":\"white\",\"width\":0.5},\"pattern\":{\"fillmode\":\"overlay\",\"size\":10,\"solidity\":0.2}},\"type\":\"barpolar\"}],\"bar\":[{\"error_x\":{\"color\":\"rgb(36,36,36)\"},\"error_y\":{\"color\":\"rgb(36,36,36)\"},\"marker\":{\"line\":{\"color\":\"white\",\"width\":0.5},\"pattern\":{\"fillmode\":\"overlay\",\"size\":10,\"solidity\":0.2}},\"type\":\"bar\"}],\"carpet\":[{\"aaxis\":{\"endlinecolor\":\"rgb(36,36,36)\",\"gridcolor\":\"white\",\"linecolor\":\"white\",\"minorgridcolor\":\"white\",\"startlinecolor\":\"rgb(36,36,36)\"},\"baxis\":{\"endlinecolor\":\"rgb(36,36,36)\",\"gridcolor\":\"white\",\"linecolor\":\"white\",\"minorgridcolor\":\"white\",\"startlinecolor\":\"rgb(36,36,36)\"},\"type\":\"carpet\"}],\"choropleth\":[{\"colorbar\":{\"outlinewidth\":1,\"tickcolor\":\"rgb(36,36,36)\",\"ticks\":\"outside\"},\"type\":\"choropleth\"}],\"contourcarpet\":[{\"colorbar\":{\"outlinewidth\":1,\"tickcolor\":\"rgb(36,36,36)\",\"ticks\":\"outside\"},\"type\":\"contourcarpet\"}],\"contour\":[{\"colorbar\":{\"outlinewidth\":1,\"tickcolor\":\"rgb(36,36,36)\",\"ticks\":\"outside\"},\"colorscale\":[[0.0,\"#440154\"],[0.1111111111111111,\"#482878\"],[0.2222222222222222,\"#3e4989\"],[0.3333333333333333,\"#31688e\"],[0.4444444444444444,\"#26828e\"],[0.5555555555555556,\"#1f9e89\"],[0.6666666666666666,\"#35b779\"],[0.7777777777777778,\"#6ece58\"],[0.8888888888888888,\"#b5de2b\"],[1.0,\"#fde725\"]],\"type\":\"contour\"}],\"heatmapgl\":[{\"colorbar\":{\"outlinewidth\":1,\"tickcolor\":\"rgb(36,36,36)\",\"ticks\":\"outside\"},\"colorscale\":[[0.0,\"#440154\"],[0.1111111111111111,\"#482878\"],[0.2222222222222222,\"#3e4989\"],[0.3333333333333333,\"#31688e\"],[0.4444444444444444,\"#26828e\"],[0.5555555555555556,\"#1f9e89\"],[0.6666666666666666,\"#35b779\"],[0.7777777777777778,\"#6ece58\"],[0.8888888888888888,\"#b5de2b\"],[1.0,\"#fde725\"]],\"type\":\"heatmapgl\"}],\"heatmap\":[{\"colorbar\":{\"outlinewidth\":1,\"tickcolor\":\"rgb(36,36,36)\",\"ticks\":\"outside\"},\"colorscale\":[[0.0,\"#440154\"],[0.1111111111111111,\"#482878\"],[0.2222222222222222,\"#3e4989\"],[0.3333333333333333,\"#31688e\"],[0.4444444444444444,\"#26828e\"],[0.5555555555555556,\"#1f9e89\"],[0.6666666666666666,\"#35b779\"],[0.7777777777777778,\"#6ece58\"],[0.8888888888888888,\"#b5de2b\"],[1.0,\"#fde725\"]],\"type\":\"heatmap\"}],\"histogram2dcontour\":[{\"colorbar\":{\"outlinewidth\":1,\"tickcolor\":\"rgb(36,36,36)\",\"ticks\":\"outside\"},\"colorscale\":[[0.0,\"#440154\"],[0.1111111111111111,\"#482878\"],[0.2222222222222222,\"#3e4989\"],[0.3333333333333333,\"#31688e\"],[0.4444444444444444,\"#26828e\"],[0.5555555555555556,\"#1f9e89\"],[0.6666666666666666,\"#35b779\"],[0.7777777777777778,\"#6ece58\"],[0.8888888888888888,\"#b5de2b\"],[1.0,\"#fde725\"]],\"type\":\"histogram2dcontour\"}],\"histogram2d\":[{\"colorbar\":{\"outlinewidth\":1,\"tickcolor\":\"rgb(36,36,36)\",\"ticks\":\"outside\"},\"colorscale\":[[0.0,\"#440154\"],[0.1111111111111111,\"#482878\"],[0.2222222222222222,\"#3e4989\"],[0.3333333333333333,\"#31688e\"],[0.4444444444444444,\"#26828e\"],[0.5555555555555556,\"#1f9e89\"],[0.6666666666666666,\"#35b779\"],[0.7777777777777778,\"#6ece58\"],[0.8888888888888888,\"#b5de2b\"],[1.0,\"#fde725\"]],\"type\":\"histogram2d\"}],\"histogram\":[{\"marker\":{\"line\":{\"color\":\"white\",\"width\":0.6}},\"type\":\"histogram\"}],\"mesh3d\":[{\"colorbar\":{\"outlinewidth\":1,\"tickcolor\":\"rgb(36,36,36)\",\"ticks\":\"outside\"},\"type\":\"mesh3d\"}],\"parcoords\":[{\"line\":{\"colorbar\":{\"outlinewidth\":1,\"tickcolor\":\"rgb(36,36,36)\",\"ticks\":\"outside\"}},\"type\":\"parcoords\"}],\"pie\":[{\"automargin\":true,\"type\":\"pie\"}],\"scatter3d\":[{\"line\":{\"colorbar\":{\"outlinewidth\":1,\"tickcolor\":\"rgb(36,36,36)\",\"ticks\":\"outside\"}},\"marker\":{\"colorbar\":{\"outlinewidth\":1,\"tickcolor\":\"rgb(36,36,36)\",\"ticks\":\"outside\"}},\"type\":\"scatter3d\"}],\"scattercarpet\":[{\"marker\":{\"colorbar\":{\"outlinewidth\":1,\"tickcolor\":\"rgb(36,36,36)\",\"ticks\":\"outside\"}},\"type\":\"scattercarpet\"}],\"scattergeo\":[{\"marker\":{\"colorbar\":{\"outlinewidth\":1,\"tickcolor\":\"rgb(36,36,36)\",\"ticks\":\"outside\"}},\"type\":\"scattergeo\"}],\"scattergl\":[{\"marker\":{\"colorbar\":{\"outlinewidth\":1,\"tickcolor\":\"rgb(36,36,36)\",\"ticks\":\"outside\"}},\"type\":\"scattergl\"}],\"scattermapbox\":[{\"marker\":{\"colorbar\":{\"outlinewidth\":1,\"tickcolor\":\"rgb(36,36,36)\",\"ticks\":\"outside\"}},\"type\":\"scattermapbox\"}],\"scatterpolargl\":[{\"marker\":{\"colorbar\":{\"outlinewidth\":1,\"tickcolor\":\"rgb(36,36,36)\",\"ticks\":\"outside\"}},\"type\":\"scatterpolargl\"}],\"scatterpolar\":[{\"marker\":{\"colorbar\":{\"outlinewidth\":1,\"tickcolor\":\"rgb(36,36,36)\",\"ticks\":\"outside\"}},\"type\":\"scatterpolar\"}],\"scatter\":[{\"fillpattern\":{\"fillmode\":\"overlay\",\"size\":10,\"solidity\":0.2},\"type\":\"scatter\"}],\"scatterternary\":[{\"marker\":{\"colorbar\":{\"outlinewidth\":1,\"tickcolor\":\"rgb(36,36,36)\",\"ticks\":\"outside\"}},\"type\":\"scatterternary\"}],\"surface\":[{\"colorbar\":{\"outlinewidth\":1,\"tickcolor\":\"rgb(36,36,36)\",\"ticks\":\"outside\"},\"colorscale\":[[0.0,\"#440154\"],[0.1111111111111111,\"#482878\"],[0.2222222222222222,\"#3e4989\"],[0.3333333333333333,\"#31688e\"],[0.4444444444444444,\"#26828e\"],[0.5555555555555556,\"#1f9e89\"],[0.6666666666666666,\"#35b779\"],[0.7777777777777778,\"#6ece58\"],[0.8888888888888888,\"#b5de2b\"],[1.0,\"#fde725\"]],\"type\":\"surface\"}],\"table\":[{\"cells\":{\"fill\":{\"color\":\"rgb(237,237,237)\"},\"line\":{\"color\":\"white\"}},\"header\":{\"fill\":{\"color\":\"rgb(217,217,217)\"},\"line\":{\"color\":\"white\"}},\"type\":\"table\"}]},\"layout\":{\"annotationdefaults\":{\"arrowhead\":0,\"arrowwidth\":1},\"autotypenumbers\":\"strict\",\"coloraxis\":{\"colorbar\":{\"outlinewidth\":1,\"tickcolor\":\"rgb(36,36,36)\",\"ticks\":\"outside\"}},\"colorscale\":{\"diverging\":[[0.0,\"rgb(103,0,31)\"],[0.1,\"rgb(178,24,43)\"],[0.2,\"rgb(214,96,77)\"],[0.3,\"rgb(244,165,130)\"],[0.4,\"rgb(253,219,199)\"],[0.5,\"rgb(247,247,247)\"],[0.6,\"rgb(209,229,240)\"],[0.7,\"rgb(146,197,222)\"],[0.8,\"rgb(67,147,195)\"],[0.9,\"rgb(33,102,172)\"],[1.0,\"rgb(5,48,97)\"]],\"sequential\":[[0.0,\"#440154\"],[0.1111111111111111,\"#482878\"],[0.2222222222222222,\"#3e4989\"],[0.3333333333333333,\"#31688e\"],[0.4444444444444444,\"#26828e\"],[0.5555555555555556,\"#1f9e89\"],[0.6666666666666666,\"#35b779\"],[0.7777777777777778,\"#6ece58\"],[0.8888888888888888,\"#b5de2b\"],[1.0,\"#fde725\"]],\"sequentialminus\":[[0.0,\"#440154\"],[0.1111111111111111,\"#482878\"],[0.2222222222222222,\"#3e4989\"],[0.3333333333333333,\"#31688e\"],[0.4444444444444444,\"#26828e\"],[0.5555555555555556,\"#1f9e89\"],[0.6666666666666666,\"#35b779\"],[0.7777777777777778,\"#6ece58\"],[0.8888888888888888,\"#b5de2b\"],[1.0,\"#fde725\"]]},\"colorway\":[\"#91268F\",\"#8CC63E\",\"#00A7A0\",\"#F05A28\",\"#4C4C4C\",\"#630460\",\"#9f3913\",\"#588527\",\"#00716c\",\"#3e4040\"],\"font\":{\"color\":\"rgb(36,36,36)\",\"family\":\"Poppins\",\"size\":11},\"geo\":{\"bgcolor\":\"white\",\"lakecolor\":\"white\",\"landcolor\":\"white\",\"showlakes\":true,\"showland\":true,\"subunitcolor\":\"white\"},\"hoverlabel\":{\"align\":\"left\"},\"hovermode\":\"closest\",\"mapbox\":{\"style\":\"light\"},\"paper_bgcolor\":\"white\",\"plot_bgcolor\":\"white\",\"polar\":{\"angularaxis\":{\"gridcolor\":\"rgb(232,232,232)\",\"linecolor\":\"rgb(36,36,36)\",\"showgrid\":false,\"showline\":true,\"ticks\":\"outside\"},\"bgcolor\":\"white\",\"radialaxis\":{\"gridcolor\":\"rgb(232,232,232)\",\"linecolor\":\"rgb(36,36,36)\",\"showgrid\":false,\"showline\":true,\"ticks\":\"outside\"}},\"scene\":{\"xaxis\":{\"backgroundcolor\":\"white\",\"gridcolor\":\"rgb(232,232,232)\",\"gridwidth\":2,\"linecolor\":\"rgb(36,36,36)\",\"showbackground\":true,\"showgrid\":false,\"showline\":true,\"ticks\":\"outside\",\"zeroline\":false,\"zerolinecolor\":\"rgb(36,36,36)\"},\"yaxis\":{\"backgroundcolor\":\"white\",\"gridcolor\":\"rgb(232,232,232)\",\"gridwidth\":2,\"linecolor\":\"rgb(36,36,36)\",\"showbackground\":true,\"showgrid\":false,\"showline\":true,\"ticks\":\"outside\",\"zeroline\":false,\"zerolinecolor\":\"rgb(36,36,36)\"},\"zaxis\":{\"backgroundcolor\":\"white\",\"gridcolor\":\"rgb(232,232,232)\",\"gridwidth\":2,\"linecolor\":\"rgb(36,36,36)\",\"showbackground\":true,\"showgrid\":false,\"showline\":true,\"ticks\":\"outside\",\"zeroline\":false,\"zerolinecolor\":\"rgb(36,36,36)\"}},\"shapedefaults\":{\"fillcolor\":\"black\",\"line\":{\"width\":0},\"opacity\":0.3},\"ternary\":{\"aaxis\":{\"gridcolor\":\"rgb(232,232,232)\",\"linecolor\":\"rgb(36,36,36)\",\"showgrid\":false,\"showline\":true,\"ticks\":\"outside\"},\"baxis\":{\"gridcolor\":\"rgb(232,232,232)\",\"linecolor\":\"rgb(36,36,36)\",\"showgrid\":false,\"showline\":true,\"ticks\":\"outside\"},\"bgcolor\":\"white\",\"caxis\":{\"gridcolor\":\"rgb(232,232,232)\",\"linecolor\":\"rgb(36,36,36)\",\"showgrid\":false,\"showline\":true,\"ticks\":\"outside\"}},\"title\":{\"x\":0.05},\"xaxis\":{\"automargin\":true,\"gridcolor\":\"rgb(232,232,232)\",\"linecolor\":\"rgb(36,36,36)\",\"showgrid\":false,\"showline\":true,\"ticks\":\"outside\",\"title\":{\"standoff\":15},\"zeroline\":false,\"zerolinecolor\":\"rgb(36,36,36)\"},\"yaxis\":{\"automargin\":true,\"gridcolor\":\"rgb(232,232,232)\",\"linecolor\":\"rgb(36,36,36)\",\"showgrid\":false,\"showline\":true,\"ticks\":\"outside\",\"title\":{\"standoff\":15},\"zeroline\":false,\"zerolinecolor\":\"rgb(36,36,36)\"}}},\"xaxis\":{\"anchor\":\"y\",\"domain\":[0.0,1.0],\"title\":{\"text\":\"station_group\"}},\"yaxis\":{\"anchor\":\"x\",\"domain\":[0.0,1.0],\"title\":{\"text\":\"value\"},\"tickformat\":\".00f\"},\"legend\":{\"title\":{\"text\":\"variable\"},\"tracegroupgap\":0},\"margin\":{\"t\":60},\"font\":{\"size\":11},\"height\":500,\"width\":900},                        {\"responsive\": true}                    ).then(function(){\n",
       "                            \n",
       "var gd = document.getElementById('c4cdac7b-2de5-4bd8-9ba1-a56c8a1c2e5d');\n",
       "var x = new MutationObserver(function (mutations, observer) {{\n",
       "        var display = window.getComputedStyle(gd).display;\n",
       "        if (!display || display === 'none') {{\n",
       "            console.log([gd, 'removed!']);\n",
       "            Plotly.purge(gd);\n",
       "            observer.disconnect();\n",
       "        }}\n",
       "}});\n",
       "\n",
       "// Listen for the removal of the full notebook cells\n",
       "var notebookContainer = gd.closest('#notebook-container');\n",
       "if (notebookContainer) {{\n",
       "    x.observe(notebookContainer, {childList: true});\n",
       "}}\n",
       "\n",
       "// Listen for the clearing of the current output cell\n",
       "var outputEl = gd.closest('.output');\n",
       "if (outputEl) {{\n",
       "    x.observe(outputEl, {childList: true});\n",
       "}}\n",
       "\n",
       "                        })                };                });            </script>        </div>"
      ]
     },
     "metadata": {},
     "output_type": "display_data"
    }
   ],
   "source": [
    "\n",
    "fig = px.line(df_combined[['observed_boardings','model_boardings']])\n",
    "fig.update_layout(height=500, width=900, font=dict(size=11),\n",
    "                  yaxis_tickformat = '.00f')\n",
    "fig.show()"
   ]
  },
  {
   "cell_type": "raw",
   "id": "b23f6eef",
   "metadata": {
    "vscode": {
     "languageId": "raw"
    }
   },
   "source": [
    "#### 2023/2024 Station Boardings"
   ]
  },
  {
   "cell_type": "code",
   "execution_count": 32,
   "id": "5d7293bb",
   "metadata": {},
   "outputs": [],
   "source": [
    "df_obs = pd.read_sql(\n",
    "    \"SELECT * FROM light_rail_station_boardings WHERE year IN (2023, 2024)\",\n",
    "    con=conn,\n",
    ")\n",
    "df_obs.rename(columns={\"boardings\": \"observed_boardings\"}, inplace=True)\n",
    "\n",
    "# df_obs.groupby(['year','station_name']).sum()\n",
    "df_obs = pd.pivot_table(df_obs, values='observed_boardings', columns='year', index='station_name', aggfunc=np.sum)\n",
    "df_obs = df_obs.fillna(0)\n",
    "df_obs\n",
    "\n",
    "df = pd.read_csv(os.path.join(csv_path,'light_rail_boardings.csv'), index_col='station_name', usecols=['station_name','model_boardings'])\n",
    "df = df.merge(df_obs,  left_index=True, right_index=True, how='outer')\n",
    "df = df[df.index != 'Total']\n",
    "df = df[~df['model_boardings'].isnull()]\n",
    "df = df.loc[line_1_station_list]"
   ]
  },
  {
   "cell_type": "code",
   "execution_count": 33,
   "id": "5b8aa02f",
   "metadata": {},
   "outputs": [
    {
     "data": {
      "application/vnd.plotly.v1+json": {
       "config": {
        "plotlyServerURL": "https://plot.ly"
       },
       "data": [
        {
         "hovertemplate": "variable=2023<br>station_name=%{x}<br>value=%{y}<extra></extra>",
         "legendgroup": "2023",
         "line": {
          "color": "#91268F",
          "dash": "solid"
         },
         "marker": {
          "symbol": "circle"
         },
         "mode": "lines",
         "name": "2023",
         "orientation": "v",
         "showlegend": true,
         "type": "scatter",
         "x": [
          "Northgate Station",
          "Roosevelt Station",
          "University District Station",
          "Husky Stadium",
          "Capitol Hill",
          "Westlake",
          "Symphony",
          "Pioneer Square",
          "Int'l District",
          "Stadium",
          "SODO",
          "Beacon Hill",
          "Mount Baker",
          "Columbia City",
          "Othello",
          "Rainier Beach",
          "Tukwila Int'l Blvd",
          "SeaTac/Airport",
          "Angle Lake"
         ],
         "xaxis": "x",
         "y": [
          10384.0,
          4349.0,
          7563.0,
          6134.0,
          7667.0,
          8845.0,
          4324.0,
          2400.0,
          4399.0,
          1731.0,
          1669.0,
          2147.0,
          1861.0,
          1630.0,
          2030.0,
          1495.0,
          2298.0,
          4731.0,
          3865.0
         ],
         "yaxis": "y"
        },
        {
         "hovertemplate": "variable=2024<br>station_name=%{x}<br>value=%{y}<extra></extra>",
         "legendgroup": "2024",
         "line": {
          "color": "#8CC63E",
          "dash": "solid"
         },
         "marker": {
          "symbol": "circle"
         },
         "mode": "lines",
         "name": "2024",
         "orientation": "v",
         "showlegend": true,
         "type": "scatter",
         "x": [
          "Northgate Station",
          "Roosevelt Station",
          "University District Station",
          "Husky Stadium",
          "Capitol Hill",
          "Westlake",
          "Symphony",
          "Pioneer Square",
          "Int'l District",
          "Stadium",
          "SODO",
          "Beacon Hill",
          "Mount Baker",
          "Columbia City",
          "Othello",
          "Rainier Beach",
          "Tukwila Int'l Blvd",
          "SeaTac/Airport",
          "Angle Lake"
         ],
         "xaxis": "x",
         "y": [
          10171.0,
          4380.0,
          7694.0,
          5879.0,
          7977.0,
          9351.0,
          4599.0,
          2672.0,
          4808.0,
          1717.0,
          1656.0,
          2274.0,
          2078.0,
          1942.0,
          2261.0,
          1608.0,
          2567.0,
          5670.0,
          4963.0
         ],
         "yaxis": "y"
        },
        {
         "hovertemplate": "variable=model_boardings<br>station_name=%{x}<br>value=%{y}<extra></extra>",
         "legendgroup": "model_boardings",
         "line": {
          "color": "#00A7A0",
          "dash": "solid"
         },
         "marker": {
          "symbol": "circle"
         },
         "mode": "lines",
         "name": "model_boardings",
         "orientation": "v",
         "showlegend": true,
         "type": "scatter",
         "x": [
          "Northgate Station",
          "Roosevelt Station",
          "University District Station",
          "Husky Stadium",
          "Capitol Hill",
          "Westlake",
          "Symphony",
          "Pioneer Square",
          "Int'l District",
          "Stadium",
          "SODO",
          "Beacon Hill",
          "Mount Baker",
          "Columbia City",
          "Othello",
          "Rainier Beach",
          "Tukwila Int'l Blvd",
          "SeaTac/Airport",
          "Angle Lake"
         ],
         "xaxis": "x",
         "y": [
          9477.452178955078,
          9368.023712158203,
          7759.889380455017,
          4156.142003059387,
          8775.666571617126,
          11956.598023414612,
          6830.70823097229,
          5491.896686553955,
          1920.578043460846,
          389.0486677289009,
          2482.794414520264,
          1377.4922198057177,
          1830.210683107376,
          1781.2001185417175,
          2226.431789159775,
          1868.2837171554563,
          3050.169387817383,
          6264.556834995747,
          3157.634658813477
         ],
         "yaxis": "y"
        }
       ],
       "layout": {
        "font": {
         "size": 11
        },
        "height": 500,
        "legend": {
         "title": {
          "text": "variable"
         },
         "tracegroupgap": 0
        },
        "margin": {
         "t": 60
        },
        "template": {
         "data": {
          "bar": [
           {
            "error_x": {
             "color": "rgb(36,36,36)"
            },
            "error_y": {
             "color": "rgb(36,36,36)"
            },
            "marker": {
             "line": {
              "color": "white",
              "width": 0.5
             },
             "pattern": {
              "fillmode": "overlay",
              "size": 10,
              "solidity": 0.2
             }
            },
            "type": "bar"
           }
          ],
          "barpolar": [
           {
            "marker": {
             "line": {
              "color": "white",
              "width": 0.5
             },
             "pattern": {
              "fillmode": "overlay",
              "size": 10,
              "solidity": 0.2
             }
            },
            "type": "barpolar"
           }
          ],
          "carpet": [
           {
            "aaxis": {
             "endlinecolor": "rgb(36,36,36)",
             "gridcolor": "white",
             "linecolor": "white",
             "minorgridcolor": "white",
             "startlinecolor": "rgb(36,36,36)"
            },
            "baxis": {
             "endlinecolor": "rgb(36,36,36)",
             "gridcolor": "white",
             "linecolor": "white",
             "minorgridcolor": "white",
             "startlinecolor": "rgb(36,36,36)"
            },
            "type": "carpet"
           }
          ],
          "choropleth": [
           {
            "colorbar": {
             "outlinewidth": 1,
             "tickcolor": "rgb(36,36,36)",
             "ticks": "outside"
            },
            "type": "choropleth"
           }
          ],
          "contour": [
           {
            "colorbar": {
             "outlinewidth": 1,
             "tickcolor": "rgb(36,36,36)",
             "ticks": "outside"
            },
            "colorscale": [
             [
              0.0,
              "#440154"
             ],
             [
              0.1111111111111111,
              "#482878"
             ],
             [
              0.2222222222222222,
              "#3e4989"
             ],
             [
              0.3333333333333333,
              "#31688e"
             ],
             [
              0.4444444444444444,
              "#26828e"
             ],
             [
              0.5555555555555556,
              "#1f9e89"
             ],
             [
              0.6666666666666666,
              "#35b779"
             ],
             [
              0.7777777777777778,
              "#6ece58"
             ],
             [
              0.8888888888888888,
              "#b5de2b"
             ],
             [
              1.0,
              "#fde725"
             ]
            ],
            "type": "contour"
           }
          ],
          "contourcarpet": [
           {
            "colorbar": {
             "outlinewidth": 1,
             "tickcolor": "rgb(36,36,36)",
             "ticks": "outside"
            },
            "type": "contourcarpet"
           }
          ],
          "heatmap": [
           {
            "colorbar": {
             "outlinewidth": 1,
             "tickcolor": "rgb(36,36,36)",
             "ticks": "outside"
            },
            "colorscale": [
             [
              0.0,
              "#440154"
             ],
             [
              0.1111111111111111,
              "#482878"
             ],
             [
              0.2222222222222222,
              "#3e4989"
             ],
             [
              0.3333333333333333,
              "#31688e"
             ],
             [
              0.4444444444444444,
              "#26828e"
             ],
             [
              0.5555555555555556,
              "#1f9e89"
             ],
             [
              0.6666666666666666,
              "#35b779"
             ],
             [
              0.7777777777777778,
              "#6ece58"
             ],
             [
              0.8888888888888888,
              "#b5de2b"
             ],
             [
              1.0,
              "#fde725"
             ]
            ],
            "type": "heatmap"
           }
          ],
          "heatmapgl": [
           {
            "colorbar": {
             "outlinewidth": 1,
             "tickcolor": "rgb(36,36,36)",
             "ticks": "outside"
            },
            "colorscale": [
             [
              0.0,
              "#440154"
             ],
             [
              0.1111111111111111,
              "#482878"
             ],
             [
              0.2222222222222222,
              "#3e4989"
             ],
             [
              0.3333333333333333,
              "#31688e"
             ],
             [
              0.4444444444444444,
              "#26828e"
             ],
             [
              0.5555555555555556,
              "#1f9e89"
             ],
             [
              0.6666666666666666,
              "#35b779"
             ],
             [
              0.7777777777777778,
              "#6ece58"
             ],
             [
              0.8888888888888888,
              "#b5de2b"
             ],
             [
              1.0,
              "#fde725"
             ]
            ],
            "type": "heatmapgl"
           }
          ],
          "histogram": [
           {
            "marker": {
             "line": {
              "color": "white",
              "width": 0.6
             }
            },
            "type": "histogram"
           }
          ],
          "histogram2d": [
           {
            "colorbar": {
             "outlinewidth": 1,
             "tickcolor": "rgb(36,36,36)",
             "ticks": "outside"
            },
            "colorscale": [
             [
              0.0,
              "#440154"
             ],
             [
              0.1111111111111111,
              "#482878"
             ],
             [
              0.2222222222222222,
              "#3e4989"
             ],
             [
              0.3333333333333333,
              "#31688e"
             ],
             [
              0.4444444444444444,
              "#26828e"
             ],
             [
              0.5555555555555556,
              "#1f9e89"
             ],
             [
              0.6666666666666666,
              "#35b779"
             ],
             [
              0.7777777777777778,
              "#6ece58"
             ],
             [
              0.8888888888888888,
              "#b5de2b"
             ],
             [
              1.0,
              "#fde725"
             ]
            ],
            "type": "histogram2d"
           }
          ],
          "histogram2dcontour": [
           {
            "colorbar": {
             "outlinewidth": 1,
             "tickcolor": "rgb(36,36,36)",
             "ticks": "outside"
            },
            "colorscale": [
             [
              0.0,
              "#440154"
             ],
             [
              0.1111111111111111,
              "#482878"
             ],
             [
              0.2222222222222222,
              "#3e4989"
             ],
             [
              0.3333333333333333,
              "#31688e"
             ],
             [
              0.4444444444444444,
              "#26828e"
             ],
             [
              0.5555555555555556,
              "#1f9e89"
             ],
             [
              0.6666666666666666,
              "#35b779"
             ],
             [
              0.7777777777777778,
              "#6ece58"
             ],
             [
              0.8888888888888888,
              "#b5de2b"
             ],
             [
              1.0,
              "#fde725"
             ]
            ],
            "type": "histogram2dcontour"
           }
          ],
          "mesh3d": [
           {
            "colorbar": {
             "outlinewidth": 1,
             "tickcolor": "rgb(36,36,36)",
             "ticks": "outside"
            },
            "type": "mesh3d"
           }
          ],
          "parcoords": [
           {
            "line": {
             "colorbar": {
              "outlinewidth": 1,
              "tickcolor": "rgb(36,36,36)",
              "ticks": "outside"
             }
            },
            "type": "parcoords"
           }
          ],
          "pie": [
           {
            "automargin": true,
            "type": "pie"
           }
          ],
          "scatter": [
           {
            "fillpattern": {
             "fillmode": "overlay",
             "size": 10,
             "solidity": 0.2
            },
            "type": "scatter"
           }
          ],
          "scatter3d": [
           {
            "line": {
             "colorbar": {
              "outlinewidth": 1,
              "tickcolor": "rgb(36,36,36)",
              "ticks": "outside"
             }
            },
            "marker": {
             "colorbar": {
              "outlinewidth": 1,
              "tickcolor": "rgb(36,36,36)",
              "ticks": "outside"
             }
            },
            "type": "scatter3d"
           }
          ],
          "scattercarpet": [
           {
            "marker": {
             "colorbar": {
              "outlinewidth": 1,
              "tickcolor": "rgb(36,36,36)",
              "ticks": "outside"
             }
            },
            "type": "scattercarpet"
           }
          ],
          "scattergeo": [
           {
            "marker": {
             "colorbar": {
              "outlinewidth": 1,
              "tickcolor": "rgb(36,36,36)",
              "ticks": "outside"
             }
            },
            "type": "scattergeo"
           }
          ],
          "scattergl": [
           {
            "marker": {
             "colorbar": {
              "outlinewidth": 1,
              "tickcolor": "rgb(36,36,36)",
              "ticks": "outside"
             }
            },
            "type": "scattergl"
           }
          ],
          "scattermapbox": [
           {
            "marker": {
             "colorbar": {
              "outlinewidth": 1,
              "tickcolor": "rgb(36,36,36)",
              "ticks": "outside"
             }
            },
            "type": "scattermapbox"
           }
          ],
          "scatterpolar": [
           {
            "marker": {
             "colorbar": {
              "outlinewidth": 1,
              "tickcolor": "rgb(36,36,36)",
              "ticks": "outside"
             }
            },
            "type": "scatterpolar"
           }
          ],
          "scatterpolargl": [
           {
            "marker": {
             "colorbar": {
              "outlinewidth": 1,
              "tickcolor": "rgb(36,36,36)",
              "ticks": "outside"
             }
            },
            "type": "scatterpolargl"
           }
          ],
          "scatterternary": [
           {
            "marker": {
             "colorbar": {
              "outlinewidth": 1,
              "tickcolor": "rgb(36,36,36)",
              "ticks": "outside"
             }
            },
            "type": "scatterternary"
           }
          ],
          "surface": [
           {
            "colorbar": {
             "outlinewidth": 1,
             "tickcolor": "rgb(36,36,36)",
             "ticks": "outside"
            },
            "colorscale": [
             [
              0.0,
              "#440154"
             ],
             [
              0.1111111111111111,
              "#482878"
             ],
             [
              0.2222222222222222,
              "#3e4989"
             ],
             [
              0.3333333333333333,
              "#31688e"
             ],
             [
              0.4444444444444444,
              "#26828e"
             ],
             [
              0.5555555555555556,
              "#1f9e89"
             ],
             [
              0.6666666666666666,
              "#35b779"
             ],
             [
              0.7777777777777778,
              "#6ece58"
             ],
             [
              0.8888888888888888,
              "#b5de2b"
             ],
             [
              1.0,
              "#fde725"
             ]
            ],
            "type": "surface"
           }
          ],
          "table": [
           {
            "cells": {
             "fill": {
              "color": "rgb(237,237,237)"
             },
             "line": {
              "color": "white"
             }
            },
            "header": {
             "fill": {
              "color": "rgb(217,217,217)"
             },
             "line": {
              "color": "white"
             }
            },
            "type": "table"
           }
          ]
         },
         "layout": {
          "annotationdefaults": {
           "arrowhead": 0,
           "arrowwidth": 1
          },
          "autotypenumbers": "strict",
          "coloraxis": {
           "colorbar": {
            "outlinewidth": 1,
            "tickcolor": "rgb(36,36,36)",
            "ticks": "outside"
           }
          },
          "colorscale": {
           "diverging": [
            [
             0.0,
             "rgb(103,0,31)"
            ],
            [
             0.1,
             "rgb(178,24,43)"
            ],
            [
             0.2,
             "rgb(214,96,77)"
            ],
            [
             0.3,
             "rgb(244,165,130)"
            ],
            [
             0.4,
             "rgb(253,219,199)"
            ],
            [
             0.5,
             "rgb(247,247,247)"
            ],
            [
             0.6,
             "rgb(209,229,240)"
            ],
            [
             0.7,
             "rgb(146,197,222)"
            ],
            [
             0.8,
             "rgb(67,147,195)"
            ],
            [
             0.9,
             "rgb(33,102,172)"
            ],
            [
             1.0,
             "rgb(5,48,97)"
            ]
           ],
           "sequential": [
            [
             0.0,
             "#440154"
            ],
            [
             0.1111111111111111,
             "#482878"
            ],
            [
             0.2222222222222222,
             "#3e4989"
            ],
            [
             0.3333333333333333,
             "#31688e"
            ],
            [
             0.4444444444444444,
             "#26828e"
            ],
            [
             0.5555555555555556,
             "#1f9e89"
            ],
            [
             0.6666666666666666,
             "#35b779"
            ],
            [
             0.7777777777777778,
             "#6ece58"
            ],
            [
             0.8888888888888888,
             "#b5de2b"
            ],
            [
             1.0,
             "#fde725"
            ]
           ],
           "sequentialminus": [
            [
             0.0,
             "#440154"
            ],
            [
             0.1111111111111111,
             "#482878"
            ],
            [
             0.2222222222222222,
             "#3e4989"
            ],
            [
             0.3333333333333333,
             "#31688e"
            ],
            [
             0.4444444444444444,
             "#26828e"
            ],
            [
             0.5555555555555556,
             "#1f9e89"
            ],
            [
             0.6666666666666666,
             "#35b779"
            ],
            [
             0.7777777777777778,
             "#6ece58"
            ],
            [
             0.8888888888888888,
             "#b5de2b"
            ],
            [
             1.0,
             "#fde725"
            ]
           ]
          },
          "colorway": [
           "#91268F",
           "#8CC63E",
           "#00A7A0",
           "#F05A28",
           "#4C4C4C",
           "#630460",
           "#9f3913",
           "#588527",
           "#00716c",
           "#3e4040"
          ],
          "font": {
           "color": "rgb(36,36,36)",
           "family": "Poppins",
           "size": 11
          },
          "geo": {
           "bgcolor": "white",
           "lakecolor": "white",
           "landcolor": "white",
           "showlakes": true,
           "showland": true,
           "subunitcolor": "white"
          },
          "hoverlabel": {
           "align": "left"
          },
          "hovermode": "closest",
          "mapbox": {
           "style": "light"
          },
          "paper_bgcolor": "white",
          "plot_bgcolor": "white",
          "polar": {
           "angularaxis": {
            "gridcolor": "rgb(232,232,232)",
            "linecolor": "rgb(36,36,36)",
            "showgrid": false,
            "showline": true,
            "ticks": "outside"
           },
           "bgcolor": "white",
           "radialaxis": {
            "gridcolor": "rgb(232,232,232)",
            "linecolor": "rgb(36,36,36)",
            "showgrid": false,
            "showline": true,
            "ticks": "outside"
           }
          },
          "scene": {
           "xaxis": {
            "backgroundcolor": "white",
            "gridcolor": "rgb(232,232,232)",
            "gridwidth": 2,
            "linecolor": "rgb(36,36,36)",
            "showbackground": true,
            "showgrid": false,
            "showline": true,
            "ticks": "outside",
            "zeroline": false,
            "zerolinecolor": "rgb(36,36,36)"
           },
           "yaxis": {
            "backgroundcolor": "white",
            "gridcolor": "rgb(232,232,232)",
            "gridwidth": 2,
            "linecolor": "rgb(36,36,36)",
            "showbackground": true,
            "showgrid": false,
            "showline": true,
            "ticks": "outside",
            "zeroline": false,
            "zerolinecolor": "rgb(36,36,36)"
           },
           "zaxis": {
            "backgroundcolor": "white",
            "gridcolor": "rgb(232,232,232)",
            "gridwidth": 2,
            "linecolor": "rgb(36,36,36)",
            "showbackground": true,
            "showgrid": false,
            "showline": true,
            "ticks": "outside",
            "zeroline": false,
            "zerolinecolor": "rgb(36,36,36)"
           }
          },
          "shapedefaults": {
           "fillcolor": "black",
           "line": {
            "width": 0
           },
           "opacity": 0.3
          },
          "ternary": {
           "aaxis": {
            "gridcolor": "rgb(232,232,232)",
            "linecolor": "rgb(36,36,36)",
            "showgrid": false,
            "showline": true,
            "ticks": "outside"
           },
           "baxis": {
            "gridcolor": "rgb(232,232,232)",
            "linecolor": "rgb(36,36,36)",
            "showgrid": false,
            "showline": true,
            "ticks": "outside"
           },
           "bgcolor": "white",
           "caxis": {
            "gridcolor": "rgb(232,232,232)",
            "linecolor": "rgb(36,36,36)",
            "showgrid": false,
            "showline": true,
            "ticks": "outside"
           }
          },
          "title": {
           "x": 0.05
          },
          "xaxis": {
           "automargin": true,
           "gridcolor": "rgb(232,232,232)",
           "linecolor": "rgb(36,36,36)",
           "showgrid": false,
           "showline": true,
           "ticks": "outside",
           "title": {
            "standoff": 15
           },
           "zeroline": false,
           "zerolinecolor": "rgb(36,36,36)"
          },
          "yaxis": {
           "automargin": true,
           "gridcolor": "rgb(232,232,232)",
           "linecolor": "rgb(36,36,36)",
           "showgrid": false,
           "showline": true,
           "ticks": "outside",
           "title": {
            "standoff": 15
           },
           "zeroline": false,
           "zerolinecolor": "rgb(36,36,36)"
          }
         }
        },
        "width": 900,
        "xaxis": {
         "anchor": "y",
         "domain": [
          0.0,
          1.0
         ],
         "title": {
          "text": "station_name"
         }
        },
        "yaxis": {
         "anchor": "x",
         "domain": [
          0.0,
          1.0
         ],
         "tickformat": ".00f",
         "title": {
          "text": "value"
         }
        }
       }
      },
      "text/html": [
       "<div>                            <div id=\"394f6c48-ec60-4bfa-8cf4-7f85d008c0e1\" class=\"plotly-graph-div\" style=\"height:500px; width:900px;\"></div>            <script type=\"text/javascript\">                require([\"plotly\"], function(Plotly) {                    window.PLOTLYENV=window.PLOTLYENV || {};                                    if (document.getElementById(\"394f6c48-ec60-4bfa-8cf4-7f85d008c0e1\")) {                    Plotly.newPlot(                        \"394f6c48-ec60-4bfa-8cf4-7f85d008c0e1\",                        [{\"hovertemplate\":\"variable=2023\\u003cbr\\u003estation_name=%{x}\\u003cbr\\u003evalue=%{y}\\u003cextra\\u003e\\u003c\\u002fextra\\u003e\",\"legendgroup\":\"2023\",\"line\":{\"color\":\"#91268F\",\"dash\":\"solid\"},\"marker\":{\"symbol\":\"circle\"},\"mode\":\"lines\",\"name\":\"2023\",\"orientation\":\"v\",\"showlegend\":true,\"x\":[\"Northgate Station\",\"Roosevelt Station\",\"University District Station\",\"Husky Stadium\",\"Capitol Hill\",\"Westlake\",\"Symphony\",\"Pioneer Square\",\"Int'l District\",\"Stadium\",\"SODO\",\"Beacon Hill\",\"Mount Baker\",\"Columbia City\",\"Othello\",\"Rainier Beach\",\"Tukwila Int'l Blvd\",\"SeaTac\\u002fAirport\",\"Angle Lake\"],\"xaxis\":\"x\",\"y\":[10384.0,4349.0,7563.0,6134.0,7667.0,8845.0,4324.0,2400.0,4399.0,1731.0,1669.0,2147.0,1861.0,1630.0,2030.0,1495.0,2298.0,4731.0,3865.0],\"yaxis\":\"y\",\"type\":\"scatter\"},{\"hovertemplate\":\"variable=2024\\u003cbr\\u003estation_name=%{x}\\u003cbr\\u003evalue=%{y}\\u003cextra\\u003e\\u003c\\u002fextra\\u003e\",\"legendgroup\":\"2024\",\"line\":{\"color\":\"#8CC63E\",\"dash\":\"solid\"},\"marker\":{\"symbol\":\"circle\"},\"mode\":\"lines\",\"name\":\"2024\",\"orientation\":\"v\",\"showlegend\":true,\"x\":[\"Northgate Station\",\"Roosevelt Station\",\"University District Station\",\"Husky Stadium\",\"Capitol Hill\",\"Westlake\",\"Symphony\",\"Pioneer Square\",\"Int'l District\",\"Stadium\",\"SODO\",\"Beacon Hill\",\"Mount Baker\",\"Columbia City\",\"Othello\",\"Rainier Beach\",\"Tukwila Int'l Blvd\",\"SeaTac\\u002fAirport\",\"Angle Lake\"],\"xaxis\":\"x\",\"y\":[10171.0,4380.0,7694.0,5879.0,7977.0,9351.0,4599.0,2672.0,4808.0,1717.0,1656.0,2274.0,2078.0,1942.0,2261.0,1608.0,2567.0,5670.0,4963.0],\"yaxis\":\"y\",\"type\":\"scatter\"},{\"hovertemplate\":\"variable=model_boardings\\u003cbr\\u003estation_name=%{x}\\u003cbr\\u003evalue=%{y}\\u003cextra\\u003e\\u003c\\u002fextra\\u003e\",\"legendgroup\":\"model_boardings\",\"line\":{\"color\":\"#00A7A0\",\"dash\":\"solid\"},\"marker\":{\"symbol\":\"circle\"},\"mode\":\"lines\",\"name\":\"model_boardings\",\"orientation\":\"v\",\"showlegend\":true,\"x\":[\"Northgate Station\",\"Roosevelt Station\",\"University District Station\",\"Husky Stadium\",\"Capitol Hill\",\"Westlake\",\"Symphony\",\"Pioneer Square\",\"Int'l District\",\"Stadium\",\"SODO\",\"Beacon Hill\",\"Mount Baker\",\"Columbia City\",\"Othello\",\"Rainier Beach\",\"Tukwila Int'l Blvd\",\"SeaTac\\u002fAirport\",\"Angle Lake\"],\"xaxis\":\"x\",\"y\":[9477.452178955078,9368.023712158203,7759.889380455017,4156.142003059387,8775.666571617126,11956.598023414612,6830.70823097229,5491.896686553955,1920.578043460846,389.0486677289009,2482.794414520264,1377.4922198057177,1830.210683107376,1781.2001185417175,2226.431789159775,1868.2837171554563,3050.169387817383,6264.556834995747,3157.634658813477],\"yaxis\":\"y\",\"type\":\"scatter\"}],                        {\"template\":{\"data\":{\"barpolar\":[{\"marker\":{\"line\":{\"color\":\"white\",\"width\":0.5},\"pattern\":{\"fillmode\":\"overlay\",\"size\":10,\"solidity\":0.2}},\"type\":\"barpolar\"}],\"bar\":[{\"error_x\":{\"color\":\"rgb(36,36,36)\"},\"error_y\":{\"color\":\"rgb(36,36,36)\"},\"marker\":{\"line\":{\"color\":\"white\",\"width\":0.5},\"pattern\":{\"fillmode\":\"overlay\",\"size\":10,\"solidity\":0.2}},\"type\":\"bar\"}],\"carpet\":[{\"aaxis\":{\"endlinecolor\":\"rgb(36,36,36)\",\"gridcolor\":\"white\",\"linecolor\":\"white\",\"minorgridcolor\":\"white\",\"startlinecolor\":\"rgb(36,36,36)\"},\"baxis\":{\"endlinecolor\":\"rgb(36,36,36)\",\"gridcolor\":\"white\",\"linecolor\":\"white\",\"minorgridcolor\":\"white\",\"startlinecolor\":\"rgb(36,36,36)\"},\"type\":\"carpet\"}],\"choropleth\":[{\"colorbar\":{\"outlinewidth\":1,\"tickcolor\":\"rgb(36,36,36)\",\"ticks\":\"outside\"},\"type\":\"choropleth\"}],\"contourcarpet\":[{\"colorbar\":{\"outlinewidth\":1,\"tickcolor\":\"rgb(36,36,36)\",\"ticks\":\"outside\"},\"type\":\"contourcarpet\"}],\"contour\":[{\"colorbar\":{\"outlinewidth\":1,\"tickcolor\":\"rgb(36,36,36)\",\"ticks\":\"outside\"},\"colorscale\":[[0.0,\"#440154\"],[0.1111111111111111,\"#482878\"],[0.2222222222222222,\"#3e4989\"],[0.3333333333333333,\"#31688e\"],[0.4444444444444444,\"#26828e\"],[0.5555555555555556,\"#1f9e89\"],[0.6666666666666666,\"#35b779\"],[0.7777777777777778,\"#6ece58\"],[0.8888888888888888,\"#b5de2b\"],[1.0,\"#fde725\"]],\"type\":\"contour\"}],\"heatmapgl\":[{\"colorbar\":{\"outlinewidth\":1,\"tickcolor\":\"rgb(36,36,36)\",\"ticks\":\"outside\"},\"colorscale\":[[0.0,\"#440154\"],[0.1111111111111111,\"#482878\"],[0.2222222222222222,\"#3e4989\"],[0.3333333333333333,\"#31688e\"],[0.4444444444444444,\"#26828e\"],[0.5555555555555556,\"#1f9e89\"],[0.6666666666666666,\"#35b779\"],[0.7777777777777778,\"#6ece58\"],[0.8888888888888888,\"#b5de2b\"],[1.0,\"#fde725\"]],\"type\":\"heatmapgl\"}],\"heatmap\":[{\"colorbar\":{\"outlinewidth\":1,\"tickcolor\":\"rgb(36,36,36)\",\"ticks\":\"outside\"},\"colorscale\":[[0.0,\"#440154\"],[0.1111111111111111,\"#482878\"],[0.2222222222222222,\"#3e4989\"],[0.3333333333333333,\"#31688e\"],[0.4444444444444444,\"#26828e\"],[0.5555555555555556,\"#1f9e89\"],[0.6666666666666666,\"#35b779\"],[0.7777777777777778,\"#6ece58\"],[0.8888888888888888,\"#b5de2b\"],[1.0,\"#fde725\"]],\"type\":\"heatmap\"}],\"histogram2dcontour\":[{\"colorbar\":{\"outlinewidth\":1,\"tickcolor\":\"rgb(36,36,36)\",\"ticks\":\"outside\"},\"colorscale\":[[0.0,\"#440154\"],[0.1111111111111111,\"#482878\"],[0.2222222222222222,\"#3e4989\"],[0.3333333333333333,\"#31688e\"],[0.4444444444444444,\"#26828e\"],[0.5555555555555556,\"#1f9e89\"],[0.6666666666666666,\"#35b779\"],[0.7777777777777778,\"#6ece58\"],[0.8888888888888888,\"#b5de2b\"],[1.0,\"#fde725\"]],\"type\":\"histogram2dcontour\"}],\"histogram2d\":[{\"colorbar\":{\"outlinewidth\":1,\"tickcolor\":\"rgb(36,36,36)\",\"ticks\":\"outside\"},\"colorscale\":[[0.0,\"#440154\"],[0.1111111111111111,\"#482878\"],[0.2222222222222222,\"#3e4989\"],[0.3333333333333333,\"#31688e\"],[0.4444444444444444,\"#26828e\"],[0.5555555555555556,\"#1f9e89\"],[0.6666666666666666,\"#35b779\"],[0.7777777777777778,\"#6ece58\"],[0.8888888888888888,\"#b5de2b\"],[1.0,\"#fde725\"]],\"type\":\"histogram2d\"}],\"histogram\":[{\"marker\":{\"line\":{\"color\":\"white\",\"width\":0.6}},\"type\":\"histogram\"}],\"mesh3d\":[{\"colorbar\":{\"outlinewidth\":1,\"tickcolor\":\"rgb(36,36,36)\",\"ticks\":\"outside\"},\"type\":\"mesh3d\"}],\"parcoords\":[{\"line\":{\"colorbar\":{\"outlinewidth\":1,\"tickcolor\":\"rgb(36,36,36)\",\"ticks\":\"outside\"}},\"type\":\"parcoords\"}],\"pie\":[{\"automargin\":true,\"type\":\"pie\"}],\"scatter3d\":[{\"line\":{\"colorbar\":{\"outlinewidth\":1,\"tickcolor\":\"rgb(36,36,36)\",\"ticks\":\"outside\"}},\"marker\":{\"colorbar\":{\"outlinewidth\":1,\"tickcolor\":\"rgb(36,36,36)\",\"ticks\":\"outside\"}},\"type\":\"scatter3d\"}],\"scattercarpet\":[{\"marker\":{\"colorbar\":{\"outlinewidth\":1,\"tickcolor\":\"rgb(36,36,36)\",\"ticks\":\"outside\"}},\"type\":\"scattercarpet\"}],\"scattergeo\":[{\"marker\":{\"colorbar\":{\"outlinewidth\":1,\"tickcolor\":\"rgb(36,36,36)\",\"ticks\":\"outside\"}},\"type\":\"scattergeo\"}],\"scattergl\":[{\"marker\":{\"colorbar\":{\"outlinewidth\":1,\"tickcolor\":\"rgb(36,36,36)\",\"ticks\":\"outside\"}},\"type\":\"scattergl\"}],\"scattermapbox\":[{\"marker\":{\"colorbar\":{\"outlinewidth\":1,\"tickcolor\":\"rgb(36,36,36)\",\"ticks\":\"outside\"}},\"type\":\"scattermapbox\"}],\"scatterpolargl\":[{\"marker\":{\"colorbar\":{\"outlinewidth\":1,\"tickcolor\":\"rgb(36,36,36)\",\"ticks\":\"outside\"}},\"type\":\"scatterpolargl\"}],\"scatterpolar\":[{\"marker\":{\"colorbar\":{\"outlinewidth\":1,\"tickcolor\":\"rgb(36,36,36)\",\"ticks\":\"outside\"}},\"type\":\"scatterpolar\"}],\"scatter\":[{\"fillpattern\":{\"fillmode\":\"overlay\",\"size\":10,\"solidity\":0.2},\"type\":\"scatter\"}],\"scatterternary\":[{\"marker\":{\"colorbar\":{\"outlinewidth\":1,\"tickcolor\":\"rgb(36,36,36)\",\"ticks\":\"outside\"}},\"type\":\"scatterternary\"}],\"surface\":[{\"colorbar\":{\"outlinewidth\":1,\"tickcolor\":\"rgb(36,36,36)\",\"ticks\":\"outside\"},\"colorscale\":[[0.0,\"#440154\"],[0.1111111111111111,\"#482878\"],[0.2222222222222222,\"#3e4989\"],[0.3333333333333333,\"#31688e\"],[0.4444444444444444,\"#26828e\"],[0.5555555555555556,\"#1f9e89\"],[0.6666666666666666,\"#35b779\"],[0.7777777777777778,\"#6ece58\"],[0.8888888888888888,\"#b5de2b\"],[1.0,\"#fde725\"]],\"type\":\"surface\"}],\"table\":[{\"cells\":{\"fill\":{\"color\":\"rgb(237,237,237)\"},\"line\":{\"color\":\"white\"}},\"header\":{\"fill\":{\"color\":\"rgb(217,217,217)\"},\"line\":{\"color\":\"white\"}},\"type\":\"table\"}]},\"layout\":{\"annotationdefaults\":{\"arrowhead\":0,\"arrowwidth\":1},\"autotypenumbers\":\"strict\",\"coloraxis\":{\"colorbar\":{\"outlinewidth\":1,\"tickcolor\":\"rgb(36,36,36)\",\"ticks\":\"outside\"}},\"colorscale\":{\"diverging\":[[0.0,\"rgb(103,0,31)\"],[0.1,\"rgb(178,24,43)\"],[0.2,\"rgb(214,96,77)\"],[0.3,\"rgb(244,165,130)\"],[0.4,\"rgb(253,219,199)\"],[0.5,\"rgb(247,247,247)\"],[0.6,\"rgb(209,229,240)\"],[0.7,\"rgb(146,197,222)\"],[0.8,\"rgb(67,147,195)\"],[0.9,\"rgb(33,102,172)\"],[1.0,\"rgb(5,48,97)\"]],\"sequential\":[[0.0,\"#440154\"],[0.1111111111111111,\"#482878\"],[0.2222222222222222,\"#3e4989\"],[0.3333333333333333,\"#31688e\"],[0.4444444444444444,\"#26828e\"],[0.5555555555555556,\"#1f9e89\"],[0.6666666666666666,\"#35b779\"],[0.7777777777777778,\"#6ece58\"],[0.8888888888888888,\"#b5de2b\"],[1.0,\"#fde725\"]],\"sequentialminus\":[[0.0,\"#440154\"],[0.1111111111111111,\"#482878\"],[0.2222222222222222,\"#3e4989\"],[0.3333333333333333,\"#31688e\"],[0.4444444444444444,\"#26828e\"],[0.5555555555555556,\"#1f9e89\"],[0.6666666666666666,\"#35b779\"],[0.7777777777777778,\"#6ece58\"],[0.8888888888888888,\"#b5de2b\"],[1.0,\"#fde725\"]]},\"colorway\":[\"#91268F\",\"#8CC63E\",\"#00A7A0\",\"#F05A28\",\"#4C4C4C\",\"#630460\",\"#9f3913\",\"#588527\",\"#00716c\",\"#3e4040\"],\"font\":{\"color\":\"rgb(36,36,36)\",\"family\":\"Poppins\",\"size\":11},\"geo\":{\"bgcolor\":\"white\",\"lakecolor\":\"white\",\"landcolor\":\"white\",\"showlakes\":true,\"showland\":true,\"subunitcolor\":\"white\"},\"hoverlabel\":{\"align\":\"left\"},\"hovermode\":\"closest\",\"mapbox\":{\"style\":\"light\"},\"paper_bgcolor\":\"white\",\"plot_bgcolor\":\"white\",\"polar\":{\"angularaxis\":{\"gridcolor\":\"rgb(232,232,232)\",\"linecolor\":\"rgb(36,36,36)\",\"showgrid\":false,\"showline\":true,\"ticks\":\"outside\"},\"bgcolor\":\"white\",\"radialaxis\":{\"gridcolor\":\"rgb(232,232,232)\",\"linecolor\":\"rgb(36,36,36)\",\"showgrid\":false,\"showline\":true,\"ticks\":\"outside\"}},\"scene\":{\"xaxis\":{\"backgroundcolor\":\"white\",\"gridcolor\":\"rgb(232,232,232)\",\"gridwidth\":2,\"linecolor\":\"rgb(36,36,36)\",\"showbackground\":true,\"showgrid\":false,\"showline\":true,\"ticks\":\"outside\",\"zeroline\":false,\"zerolinecolor\":\"rgb(36,36,36)\"},\"yaxis\":{\"backgroundcolor\":\"white\",\"gridcolor\":\"rgb(232,232,232)\",\"gridwidth\":2,\"linecolor\":\"rgb(36,36,36)\",\"showbackground\":true,\"showgrid\":false,\"showline\":true,\"ticks\":\"outside\",\"zeroline\":false,\"zerolinecolor\":\"rgb(36,36,36)\"},\"zaxis\":{\"backgroundcolor\":\"white\",\"gridcolor\":\"rgb(232,232,232)\",\"gridwidth\":2,\"linecolor\":\"rgb(36,36,36)\",\"showbackground\":true,\"showgrid\":false,\"showline\":true,\"ticks\":\"outside\",\"zeroline\":false,\"zerolinecolor\":\"rgb(36,36,36)\"}},\"shapedefaults\":{\"fillcolor\":\"black\",\"line\":{\"width\":0},\"opacity\":0.3},\"ternary\":{\"aaxis\":{\"gridcolor\":\"rgb(232,232,232)\",\"linecolor\":\"rgb(36,36,36)\",\"showgrid\":false,\"showline\":true,\"ticks\":\"outside\"},\"baxis\":{\"gridcolor\":\"rgb(232,232,232)\",\"linecolor\":\"rgb(36,36,36)\",\"showgrid\":false,\"showline\":true,\"ticks\":\"outside\"},\"bgcolor\":\"white\",\"caxis\":{\"gridcolor\":\"rgb(232,232,232)\",\"linecolor\":\"rgb(36,36,36)\",\"showgrid\":false,\"showline\":true,\"ticks\":\"outside\"}},\"title\":{\"x\":0.05},\"xaxis\":{\"automargin\":true,\"gridcolor\":\"rgb(232,232,232)\",\"linecolor\":\"rgb(36,36,36)\",\"showgrid\":false,\"showline\":true,\"ticks\":\"outside\",\"title\":{\"standoff\":15},\"zeroline\":false,\"zerolinecolor\":\"rgb(36,36,36)\"},\"yaxis\":{\"automargin\":true,\"gridcolor\":\"rgb(232,232,232)\",\"linecolor\":\"rgb(36,36,36)\",\"showgrid\":false,\"showline\":true,\"ticks\":\"outside\",\"title\":{\"standoff\":15},\"zeroline\":false,\"zerolinecolor\":\"rgb(36,36,36)\"}}},\"xaxis\":{\"anchor\":\"y\",\"domain\":[0.0,1.0],\"title\":{\"text\":\"station_name\"}},\"yaxis\":{\"anchor\":\"x\",\"domain\":[0.0,1.0],\"title\":{\"text\":\"value\"},\"tickformat\":\".00f\"},\"legend\":{\"title\":{\"text\":\"variable\"},\"tracegroupgap\":0},\"margin\":{\"t\":60},\"font\":{\"size\":11},\"height\":500,\"width\":900},                        {\"responsive\": true}                    ).then(function(){\n",
       "                            \n",
       "var gd = document.getElementById('394f6c48-ec60-4bfa-8cf4-7f85d008c0e1');\n",
       "var x = new MutationObserver(function (mutations, observer) {{\n",
       "        var display = window.getComputedStyle(gd).display;\n",
       "        if (!display || display === 'none') {{\n",
       "            console.log([gd, 'removed!']);\n",
       "            Plotly.purge(gd);\n",
       "            observer.disconnect();\n",
       "        }}\n",
       "}});\n",
       "\n",
       "// Listen for the removal of the full notebook cells\n",
       "var notebookContainer = gd.closest('#notebook-container');\n",
       "if (notebookContainer) {{\n",
       "    x.observe(notebookContainer, {childList: true});\n",
       "}}\n",
       "\n",
       "// Listen for the clearing of the current output cell\n",
       "var outputEl = gd.closest('.output');\n",
       "if (outputEl) {{\n",
       "    x.observe(outputEl, {childList: true});\n",
       "}}\n",
       "\n",
       "                        })                };                });            </script>        </div>"
      ]
     },
     "metadata": {},
     "output_type": "display_data"
    }
   ],
   "source": [
    "fig = px.line(df[[2023,2024,'model_boardings']])\n",
    "fig.update_layout(height=500, width=900, font=dict(size=11),\n",
    "                  yaxis_tickformat = '.00f')\n",
    "fig.show()"
   ]
  },
  {
   "cell_type": "raw",
   "id": "f429de2d705b1e22",
   "metadata": {},
   "source": [
    ":::"
   ]
  },
  {
   "cell_type": "markdown",
   "id": "86996e48d6760252",
   "metadata": {},
   "source": [
    "## light rail stop transfers"
   ]
  },
  {
   "cell_type": "code",
   "execution_count": 34,
   "id": "4bd536d185354993",
   "metadata": {
    "ExecuteTime": {
     "end_time": "2024-06-24T20:06:14.325917Z",
     "start_time": "2024-06-24T20:06:14.279144Z"
    },
    "execution": {
     "iopub.execute_input": "2024-12-14T02:38:43.002696Z",
     "iopub.status.busy": "2024-12-14T02:38:43.000701Z",
     "iopub.status.idle": "2024-12-14T02:38:43.053560Z",
     "shell.execute_reply": "2024-12-14T02:38:43.051565Z"
    }
   },
   "outputs": [
    {
     "data": {
      "text/html": [
       "<div>\n",
       "<style scoped>\n",
       "    .dataframe tbody tr th:only-of-type {\n",
       "        vertical-align: middle;\n",
       "    }\n",
       "\n",
       "    .dataframe tbody tr th {\n",
       "        vertical-align: top;\n",
       "    }\n",
       "\n",
       "    .dataframe thead th {\n",
       "        text-align: right;\n",
       "    }\n",
       "</style>\n",
       "<table border=\"1\" class=\"dataframe\">\n",
       "  <thead>\n",
       "    <tr style=\"text-align: right;\">\n",
       "      <th></th>\n",
       "      <th>modeled_transfer_rate</th>\n",
       "      <th>observed_transfer_rate</th>\n",
       "      <th>diff</th>\n",
       "      <th>percent_diff</th>\n",
       "    </tr>\n",
       "    <tr>\n",
       "      <th>station_name</th>\n",
       "      <th></th>\n",
       "      <th></th>\n",
       "      <th></th>\n",
       "      <th></th>\n",
       "    </tr>\n",
       "  </thead>\n",
       "  <tbody>\n",
       "    <tr>\n",
       "      <th>Northgate Station</th>\n",
       "      <td>0.54</td>\n",
       "      <td>-99.00</td>\n",
       "      <td>99.54</td>\n",
       "      <td>-100.54%</td>\n",
       "    </tr>\n",
       "    <tr>\n",
       "      <th>Roosevelt Station</th>\n",
       "      <td>0.38</td>\n",
       "      <td>-99.00</td>\n",
       "      <td>99.38</td>\n",
       "      <td>-100.39%</td>\n",
       "    </tr>\n",
       "    <tr>\n",
       "      <th>University District Station</th>\n",
       "      <td>0.21</td>\n",
       "      <td>-99.00</td>\n",
       "      <td>99.21</td>\n",
       "      <td>-100.22%</td>\n",
       "    </tr>\n",
       "    <tr>\n",
       "      <th>Husky Stadium</th>\n",
       "      <td>0.80</td>\n",
       "      <td>-99.00</td>\n",
       "      <td>99.80</td>\n",
       "      <td>-100.81%</td>\n",
       "    </tr>\n",
       "    <tr>\n",
       "      <th>Capitol Hill</th>\n",
       "      <td>0.05</td>\n",
       "      <td>-99.00</td>\n",
       "      <td>99.05</td>\n",
       "      <td>-100.05%</td>\n",
       "    </tr>\n",
       "    <tr>\n",
       "      <th>Westlake</th>\n",
       "      <td>0.11</td>\n",
       "      <td>0.36</td>\n",
       "      <td>-0.25</td>\n",
       "      <td>-69.53%</td>\n",
       "    </tr>\n",
       "    <tr>\n",
       "      <th>Symphony</th>\n",
       "      <td>0.28</td>\n",
       "      <td>0.20</td>\n",
       "      <td>0.08</td>\n",
       "      <td>40.63%</td>\n",
       "    </tr>\n",
       "    <tr>\n",
       "      <th>Pioneer Square</th>\n",
       "      <td>0.35</td>\n",
       "      <td>0.16</td>\n",
       "      <td>0.19</td>\n",
       "      <td>122.42%</td>\n",
       "    </tr>\n",
       "    <tr>\n",
       "      <th>Int'l District</th>\n",
       "      <td>0.51</td>\n",
       "      <td>0.45</td>\n",
       "      <td>0.06</td>\n",
       "      <td>13.50%</td>\n",
       "    </tr>\n",
       "    <tr>\n",
       "      <th>Stadium</th>\n",
       "      <td>0.38</td>\n",
       "      <td>0.12</td>\n",
       "      <td>0.26</td>\n",
       "      <td>220.36%</td>\n",
       "    </tr>\n",
       "    <tr>\n",
       "      <th>SODO</th>\n",
       "      <td>0.64</td>\n",
       "      <td>0.31</td>\n",
       "      <td>0.32</td>\n",
       "      <td>103.55%</td>\n",
       "    </tr>\n",
       "    <tr>\n",
       "      <th>Beacon Hill</th>\n",
       "      <td>0.35</td>\n",
       "      <td>0.35</td>\n",
       "      <td>-0.00</td>\n",
       "      <td>-0.10%</td>\n",
       "    </tr>\n",
       "    <tr>\n",
       "      <th>Mount Baker</th>\n",
       "      <td>0.41</td>\n",
       "      <td>0.32</td>\n",
       "      <td>0.09</td>\n",
       "      <td>27.33%</td>\n",
       "    </tr>\n",
       "    <tr>\n",
       "      <th>Columbia City</th>\n",
       "      <td>0.01</td>\n",
       "      <td>0.12</td>\n",
       "      <td>-0.11</td>\n",
       "      <td>-91.66%</td>\n",
       "    </tr>\n",
       "    <tr>\n",
       "      <th>Othello</th>\n",
       "      <td>0.05</td>\n",
       "      <td>0.12</td>\n",
       "      <td>-0.08</td>\n",
       "      <td>-61.94%</td>\n",
       "    </tr>\n",
       "    <tr>\n",
       "      <th>Rainier Beach</th>\n",
       "      <td>0.26</td>\n",
       "      <td>0.36</td>\n",
       "      <td>-0.10</td>\n",
       "      <td>-26.99%</td>\n",
       "    </tr>\n",
       "    <tr>\n",
       "      <th>Tukwila Int'l Blvd</th>\n",
       "      <td>0.45</td>\n",
       "      <td>0.26</td>\n",
       "      <td>0.19</td>\n",
       "      <td>70.95%</td>\n",
       "    </tr>\n",
       "    <tr>\n",
       "      <th>SeaTac/Airport</th>\n",
       "      <td>0.13</td>\n",
       "      <td>0.26</td>\n",
       "      <td>-0.14</td>\n",
       "      <td>-51.34%</td>\n",
       "    </tr>\n",
       "    <tr>\n",
       "      <th>Angle Lake</th>\n",
       "      <td>0.25</td>\n",
       "      <td>-99.00</td>\n",
       "      <td>99.25</td>\n",
       "      <td>-100.25%</td>\n",
       "    </tr>\n",
       "  </tbody>\n",
       "</table>\n",
       "</div>"
      ],
      "text/plain": [
       "                             modeled_transfer_rate  observed_transfer_rate  \\\n",
       "station_name                                                                 \n",
       "Northgate Station                             0.54                  -99.00   \n",
       "Roosevelt Station                             0.38                  -99.00   \n",
       "University District Station                   0.21                  -99.00   \n",
       "Husky Stadium                                 0.80                  -99.00   \n",
       "Capitol Hill                                  0.05                  -99.00   \n",
       "Westlake                                      0.11                    0.36   \n",
       "Symphony                                      0.28                    0.20   \n",
       "Pioneer Square                                0.35                    0.16   \n",
       "Int'l District                                0.51                    0.45   \n",
       "Stadium                                       0.38                    0.12   \n",
       "SODO                                          0.64                    0.31   \n",
       "Beacon Hill                                   0.35                    0.35   \n",
       "Mount Baker                                   0.41                    0.32   \n",
       "Columbia City                                 0.01                    0.12   \n",
       "Othello                                       0.05                    0.12   \n",
       "Rainier Beach                                 0.26                    0.36   \n",
       "Tukwila Int'l Blvd                            0.45                    0.26   \n",
       "SeaTac/Airport                                0.13                    0.26   \n",
       "Angle Lake                                    0.25                  -99.00   \n",
       "\n",
       "                             diff percent_diff  \n",
       "station_name                                    \n",
       "Northgate Station           99.54     -100.54%  \n",
       "Roosevelt Station           99.38     -100.39%  \n",
       "University District Station 99.21     -100.22%  \n",
       "Husky Stadium               99.80     -100.81%  \n",
       "Capitol Hill                99.05     -100.05%  \n",
       "Westlake                    -0.25      -69.53%  \n",
       "Symphony                     0.08       40.63%  \n",
       "Pioneer Square               0.19      122.42%  \n",
       "Int'l District               0.06       13.50%  \n",
       "Stadium                      0.26      220.36%  \n",
       "SODO                         0.32      103.55%  \n",
       "Beacon Hill                 -0.00       -0.10%  \n",
       "Mount Baker                  0.09       27.33%  \n",
       "Columbia City               -0.11      -91.66%  \n",
       "Othello                     -0.08      -61.94%  \n",
       "Rainier Beach               -0.10      -26.99%  \n",
       "Tukwila Int'l Blvd           0.19       70.95%  \n",
       "SeaTac/Airport              -0.14      -51.34%  \n",
       "Angle Lake                  99.25     -100.25%  "
      ]
     },
     "execution_count": 34,
     "metadata": {},
     "output_type": "execute_result"
    }
   ],
   "source": [
    "df = pd.read_csv(os.path.join(csv_path,'light_rail_transfers.csv'), index_col='station_name')\n",
    "df[['percent_diff']] = df[['percent_diff']].applymap(format_percent)\n",
    "df.loc[line_1_station_list]"
   ]
  },
  {
   "cell_type": "markdown",
   "id": "fb8646bd",
   "metadata": {},
   "source": [
    "## Park and Ride"
   ]
  },
  {
   "cell_type": "code",
   "execution_count": 35,
   "id": "226280a8",
   "metadata": {},
   "outputs": [],
   "source": [
    "df_trip = pd.read_csv(os.path.join(valid_config['model_dir'], 'outputs/daysim/_trip.tsv'), sep='\\t')\n",
    "pnr_boardings = df_trip[(df_trip['otaz'].isin(range(3750,4001))) & (df_trip['mode']==6)]\n",
    "pnr_boardings = pnr_boardings.groupby('otaz').count()[['trexpfac']].reset_index()"
   ]
  },
  {
   "cell_type": "code",
   "execution_count": 36,
   "id": "8fc48cdd",
   "metadata": {},
   "outputs": [],
   "source": [
    "stations = [\n",
    "    {\"id\": 3751, \"name\": \"Tukwila Station (CR)\"},\n",
    "    {\"id\": 3752, \"name\": \"Tacoma Dome Station\"},\n",
    "    {\"id\": 3753, \"name\": \"South Tacoma (CR)\"},\n",
    "    {\"id\": 3754, \"name\": \"Everett Station (CR)\"},\n",
    "    {\"id\": 3755, \"name\": \"Sumner Station (CR)\"},\n",
    "    {\"id\": 3756, \"name\": \"Mukilteo Station\"},\n",
    "    {\"id\": 3757, \"name\": \"Kent Station (CR)\"},\n",
    "    {\"id\": 3758, \"name\": \"Auburn Station (CR)\"},\n",
    "    {\"id\": 3759, \"name\": \"Lakewood (CR)\"},\n",
    "    {\"id\": 3760, \"name\": \"Gateway P&R\"},\n",
    "    {\"id\": 3761, \"name\": \"Puyallup Station (SB)\"},\n",
    "    {\"id\": 3762, \"name\": \"Twin Lakes P&R\"},\n",
    "    {\"id\": 3763, \"name\": \"Crossroads Neighborhood Church\"},\n",
    "    {\"id\": 3764, \"name\": \"Overlake Transit Center\"},\n",
    "    {\"id\": 3765, \"name\": \"Redondo Heights P&R\"},\n",
    "    {\"id\": 3766, \"name\": \"North Gig Harbor/Kimball Drive\"},\n",
    "    {\"id\": 3767, \"name\": \"Duvall P&R\"},\n",
    "    {\"id\": 3768, \"name\": \"Roy 'Y' P&R\"},\n",
    "    {\"id\": 3769, \"name\": \"South Hill (Elim Evangelical)\"},\n",
    "    {\"id\": 3770, \"name\": \"Parkland Transit Center\"},\n",
    "    {\"id\": 3771, \"name\": \"SR-512/I-5 (Lakewood)\"},\n",
    "    {\"id\": 3772, \"name\": \"Center Street P&R\"},\n",
    "    {\"id\": 3773, \"name\": \"Tacoma Mall Transit Center\"},\n",
    "    {\"id\": 3774, \"name\": \"South Tacoma West\"},\n",
    "    {\"id\": 3775, \"name\": \"South Tacoma East - 2\"},\n",
    "    {\"id\": 3776, \"name\": \"Narrows P&R\"},\n",
    "    {\"id\": 3777, \"name\": \"North Purdy/Purdy Crescent\"},\n",
    "    {\"id\": 3778, \"name\": \"Point Defiance Ferry\"},\n",
    "    {\"id\": 3779, \"name\": \"South Federal P&R\"},\n",
    "    {\"id\": 3780, \"name\": \"Sultan P&R\"},\n",
    "    {\"id\": 3781, \"name\": \"Federal Way P&R (320th)\"},\n",
    "    {\"id\": 3782, \"name\": \"Auburn P&R\"},\n",
    "    {\"id\": 3783, \"name\": \"Star Lake P&R\"},\n",
    "    {\"id\": 3784, \"name\": \"Holy Spirit Lutheran Church\"},\n",
    "    {\"id\": 3785, \"name\": \"Kent/Des Moines P&R\"},\n",
    "    {\"id\": 3786, \"name\": \"Kent/James St. P&R\"},\n",
    "    {\"id\": 3787, \"name\": \"Burien Transit Center\"},\n",
    "    {\"id\": 3788, \"name\": \"Tukwila\"},\n",
    "    {\"id\": 3789, \"name\": \"Maple Valley P&R\"},\n",
    "    {\"id\": 3790, \"name\": \"South Renton P&R\"},\n",
    "    {\"id\": 3791, \"name\": \"Renton Highlands P&R (St. Matts)\"},\n",
    "    {\"id\": 3792, \"name\": \"Issaquah Transit Center\"},\n",
    "    {\"id\": 3793, \"name\": \"Mercer Island P&R\"},\n",
    "    {\"id\": 3794, \"name\": \"Mercer Island Presbyterian\"},\n",
    "    {\"id\": 3795, \"name\": \"Newport Hills P&R\"},\n",
    "    {\"id\": 3796, \"name\": \"Newport Hills Community Church\"},\n",
    "    {\"id\": 3797, \"name\": \"Newport Covenant Church\"},\n",
    "    {\"id\": 3798, \"name\": \"South Bellevue P&R\"},\n",
    "    {\"id\": 3799, \"name\": \"Wilburton\"},\n",
    "    {\"id\": 3800, \"name\": \"Eastgate P&R\"},\n",
    "    {\"id\": 3801, \"name\": \"North Bend P&R\"},\n",
    "    {\"id\": 3802, \"name\": \"Evergreen Point P&R\"},\n",
    "    {\"id\": 3803, \"name\": \"Grace Lutheran Church\"},\n",
    "    {\"id\": 3804, \"name\": \"South Kirkland P&R\"},\n",
    "    {\"id\": 3805, \"name\": \"Overlake P&R\"},\n",
    "    {\"id\": 3806, \"name\": \"Houghton P&R\"},\n",
    "    {\"id\": 3807, \"name\": \"Bethel Lutheran\"},\n",
    "    {\"id\": 3808, \"name\": \"Redmond P&R\"},\n",
    "    {\"id\": 3809, \"name\": \"Saint Thomas Episcopal\"},\n",
    "    {\"id\": 3810, \"name\": \"Valley Center\"},\n",
    "    {\"id\": 3811, \"name\": \"Bear Creek P&R\"},\n",
    "    {\"id\": 3812, \"name\": \"Kingsgate P&R\"},\n",
    "    {\"id\": 3813, \"name\": \"Brickyard P&R\"},\n",
    "    {\"id\": 3814, \"name\": \"Northshore P&R\"},\n",
    "    {\"id\": 3815, \"name\": \"Kenmore P&R\"},\n",
    "    {\"id\": 3816, \"name\": \"Bethany Bible Church\"},\n",
    "    {\"id\": 3817, \"name\": \"Bothell P&R\"},\n",
    "    {\"id\": 3818, \"name\": \"Woodinville P&R\"},\n",
    "    {\"id\": 3819, \"name\": \"Olson & Meyers\"},\n",
    "    {\"id\": 3820, \"name\": \"Spokane Street P&R\"},\n",
    "    {\"id\": 3821, \"name\": \"Greenlake P&R\"},\n",
    "    {\"id\": 3822, \"name\": \"Northgate TC\"},\n",
    "    {\"id\": 3823, \"name\": \"North Jackson Park\"},\n",
    "    {\"id\": 3824, \"name\": \"Shoreline\"},\n",
    "    {\"id\": 3825, \"name\": \"112th St. & I-5\"},\n",
    "    {\"id\": 3826, \"name\": \"Ober Park\"},\n",
    "    {\"id\": 3827, \"name\": \"Vashon Heights\"},\n",
    "    {\"id\": 3828, \"name\": \"Mountlake Terrace P&R\"},\n",
    "    {\"id\": 3829, \"name\": \"Bethesda Lutheran\"},\n",
    "    {\"id\": 3830, \"name\": \"Edmonds Station\"},\n",
    "    {\"id\": 3831, \"name\": \"Edmonds P&R\"},\n",
    "    {\"id\": 3832, \"name\": \"Lynnwood P&R\"},\n",
    "    {\"id\": 3833, \"name\": \"Swamp Creek P&R\"},\n",
    "    {\"id\": 3834, \"name\": \"Mariner P&R\"},\n",
    "    {\"id\": 3835, \"name\": \"Snohomish\"},\n",
    "    {\"id\": 3836, \"name\": \"Marysville - Ash Ave\"},\n",
    "    {\"id\": 3837, \"name\": \"116th & I-5 - Marysville\"},\n",
    "    {\"id\": 3838, \"name\": \"SR-531 - Marysville\"},\n",
    "    {\"id\": 3839, \"name\": \"Arlington P&R\"},\n",
    "    {\"id\": 3840, \"name\": \"Stanwood\"},\n",
    "    {\"id\": 3841, \"name\": \"Monroe\"},\n",
    "    {\"id\": 3842, \"name\": \"Federal Way\"},\n",
    "    {\"id\": 3843, \"name\": \"Port Orchard Armory\"},\n",
    "    {\"id\": 3844, \"name\": \"Southworth Ferry P&R\"},\n",
    "    {\"id\": 3845, \"name\": \"McWilliams P&R\"},\n",
    "    {\"id\": 3846, \"name\": \"Bethany Lutheran Church\"},\n",
    "    {\"id\": 3847, \"name\": \"Gateway Fellowship\"},\n",
    "    {\"id\": 3848, \"name\": \"Agate Pass P&R/Clearwater\"},\n",
    "    {\"id\": 3849, \"name\": \"Kingston Ferry P&R\"},\n",
    "    {\"id\": 3850, \"name\": \"Suquamish United Church of Christ\"},\n",
    "    {\"id\": 3851, \"name\": \"Bainbridge Island Ferry\"},\n",
    "    {\"id\": 3852, \"name\": \"Puyallup Station (NB)\"},\n",
    "    {\"id\": 3853, \"name\": \"72nd Street Transit Center\"},\n",
    "    {\"id\": 3855, \"name\": \"DuPont\"},\n",
    "    {\"id\": 3856, \"name\": \"Aurora Village TC\"},\n",
    "    {\"id\": 3857, \"name\": \"Aurora Nazarene\"},\n",
    "    {\"id\": 3858, \"name\": \"Saint Margaret's Episcopal\"},\n",
    "    {\"id\": 3861, \"name\": \"Lake Meridian P&R\"},\n",
    "    {\"id\": 3862, \"name\": \"Smokey Pt. Church\"},\n",
    "    {\"id\": 3863, \"name\": \"Eastmont P&R\"},\n",
    "    {\"id\": 3864, \"name\": \"McCollum Park P&R\"},\n",
    "    {\"id\": 3865, \"name\": \"Canyon Park P&R\"},\n",
    "    {\"id\": 3866, \"name\": \"Korean Presby. P&R\"},\n",
    "    {\"id\": 3867, \"name\": \"Georges Kountry Korner\"},\n",
    "    {\"id\": 3868, \"name\": \"Poulsbo Church of the Nazarene\"},\n",
    "    {\"id\": 3870, \"name\": \"Harper Evangelical Free Church\"},\n",
    "    {\"id\": 3871, \"name\": \"Mullenix Road\"},\n",
    "    {\"id\": 3873, \"name\": \"TCC P&R\"},\n",
    "    {\"id\": 3874, \"name\": \"Ash Way P&R\"},\n",
    "    {\"id\": 3875, \"name\": \"Bonney Lake P&R\"},\n",
    "    {\"id\": 3876, \"name\": \"Tukwila Int. Station\"},\n",
    "    {\"id\": 3877, \"name\": \"South Hill P&R\"},\n",
    "    {\"id\": 3878, \"name\": \"South Tacoma East - 1\"},\n",
    "    {\"id\": 3879, \"name\": \"Issaquah Highlands\"},\n",
    "    {\"id\": 3880, \"name\": \"Lake Stevens TC\"},\n",
    "    {\"id\": 3881, \"name\": \"Liberty Bay Presbyterian\"},\n",
    "    {\"id\": 3882, \"name\": \"NK Baptist\"},\n",
    "    {\"id\": 3883, \"name\": \"Preston P&R\"},\n",
    "    {\"id\": 3884, \"name\": \"Bayside Community Church\"},\n",
    "    {\"id\": 3885, \"name\": \"Ollala Valley Fire Station\"},\n",
    "    {\"id\": 3886, \"name\": \"Bremerton Ferry\"},\n",
    "    {\"id\": 3888, \"name\": \"Puyallup Fair's Red Lot\"},\n",
    "    {\"id\": 3889, \"name\": \"Marysville - Cedar & Grove\"},\n",
    "    {\"id\": 3890, \"name\": \"Stanwood II\"},\n",
    "    {\"id\": 3891, \"name\": \"Marysville I P&R\"},\n",
    "    {\"id\": 3892, \"name\": \"Martha Lake Covenant Church\"},\n",
    "    {\"id\": 3893, \"name\": \"South Sammammish P&R\"},\n",
    "    {\"id\": 3894, \"name\": \"Renton City Municipal Garage\"},\n",
    "    {\"id\": 3895, \"name\": \"Tibbetts Lot\"},\n",
    "    {\"id\": 3896, \"name\": \"Renton Transit Center\"},\n",
    "    {\"id\": 3897, \"name\": \"Calvary Christian Assembly\"},\n",
    "    {\"id\": 3898, \"name\": \"Maple Valley Town Square\"},\n",
    "    {\"id\": 3899, \"name\": \"All Saints Lutheran Church\"},\n",
    "    {\"id\": 3900, \"name\": \"City View Church\"},\n",
    "    {\"id\": 3901, \"name\": \"Northwest University 6710 Bldg.\"},\n",
    "    {\"id\": 3902, \"name\": \"Sammamish Lutheran P&R\"},\n",
    "    {\"id\": 3903, \"name\": \"Redmond Ridge P&R\"},\n",
    "    {\"id\": 3904, \"name\": \"Kennydale United Methodist Church\"},\n",
    "    {\"id\": 3905, \"name\": \"Nativity Lutheran Church\"},\n",
    "    {\"id\": 3906, \"name\": \"South Jackson P&R\"},\n",
    "    {\"id\": 3907, \"name\": \"South SeaTac (LR)\"},\n",
    "    {\"id\": 3908, \"name\": \"Everett Station\"},\n",
    "    {\"id\": 3909, \"name\": \"Bremerton (SR-303/Riddell Road)\"},\n",
    "    {\"id\": 3910, \"name\": \"Silverdale\"},\n",
    "    {\"id\": 3911, \"name\": \"Tukwila Station (CR)\"},\n",
    "    {\"id\": 3913, \"name\": \"Sumner Station Garage\"},\n",
    "    {\"id\": 3914, \"name\": \"Tacoma Dome\"},\n",
    "    {\"id\": 3915, \"name\": \"Bothell (SR-527/185th Street)\"},\n",
    "    {\"id\": 3916, \"name\": \"SR-3/SR-303\"},\n",
    "    {\"id\": 3917, \"name\": \"SR-16/SR-160\"},\n",
    "    {\"id\": 3918, \"name\": \"I-5 & 175th\"}\n",
    "]"
   ]
  },
  {
   "cell_type": "code",
   "execution_count": 37,
   "id": "adf42b0c",
   "metadata": {},
   "outputs": [],
   "source": [
    "pnr_capacity = pd.read_csv(os.path.join(valid_config['model_dir'], 'inputs/scenario/networks/p_r_nodes.csv'))\n",
    "df = pnr_capacity.merge(pnr_boardings, left_on='ZoneID', right_on='otaz')\n",
    "df.rename(columns={'ZoneID': 'taz', 'trexpfac': 'Model Boardings'}, inplace=True)\n",
    "df['Boardings/Capacity'] = df['Model Boardings']/df['Capacity']\n",
    "# df.head()"
   ]
  },
  {
   "cell_type": "raw",
   "id": "0a7a4e81",
   "metadata": {
    "vscode": {
     "languageId": "raw"
    }
   },
   "source": [
    ":::{.panel-tabset}\n",
    "\n",
    "### boardings vs capacity"
   ]
  },
  {
   "cell_type": "code",
   "execution_count": 38,
   "id": "a4fb4af0",
   "metadata": {},
   "outputs": [],
   "source": [
    "df_station_names = pd.DataFrame(stations)\n",
    "df = df.merge(df_station_names, how='left', left_on='taz', right_on='id')"
   ]
  },
  {
   "cell_type": "code",
   "execution_count": 39,
   "id": "7f7b1396",
   "metadata": {},
   "outputs": [
    {
     "data": {
      "application/vnd.plotly.v1+json": {
       "config": {
        "plotlyServerURL": "https://plot.ly"
       },
       "data": [
        {
         "customdata": [
          [
           "Tukwila Station (CR)",
           0.2564102564102564
          ],
          [
           "Tacoma Dome Station",
           0.09680245291283399
          ],
          [
           "Everett Station (CR)",
           0.06091846298031865
          ],
          [
           "Sumner Station (CR)",
           0.8245033112582781
          ],
          [
           "Mukilteo Station",
           0.06349206349206349
          ],
          [
           "Kent Station (CR)",
           0.4367469879518072
          ],
          [
           "Lakewood (CR)",
           0.01
          ],
          [
           "Gateway P&R",
           0.5480769230769231
          ],
          [
           "Puyallup Station (SB)",
           0.2509578544061303
          ],
          [
           "Twin Lakes P&R",
           0.0033333333333333335
          ],
          [
           "Crossroads Neighborhood Church",
           0.06542056074766354
          ],
          [
           "Overlake Transit Center",
           0.3188854489164087
          ],
          [
           "Redondo Heights P&R",
           0.0028694404591104736
          ],
          [
           "North Gig Harbor/Kimball Drive",
           0.0196078431372549
          ],
          [
           "Duvall P&R",
           0.02040816326530612
          ],
          [
           "Roy 'Y' P&R",
           0.05
          ],
          [
           "South Hill (Elim Evangelical)",
           0.8
          ],
          [
           "Parkland Transit Center",
           0.16129032258064516
          ],
          [
           "SR-512/I-5 (Lakewood)",
           0.04056795131845842
          ],
          [
           "Center Street P&R",
           0.18666666666666668
          ],
          [
           "Tacoma Mall Transit Center",
           0.07333333333333333
          ],
          [
           "South Tacoma West",
           0.05128205128205128
          ],
          [
           "North Purdy/Purdy Crescent",
           0.005
          ],
          [
           "Point Defiance Ferry",
           0.05063291139240506
          ],
          [
           "South Federal P&R",
           0.017475728155339806
          ],
          [
           "Federal Way P&R (320th)",
           0.09692132269099202
          ],
          [
           "Auburn P&R",
           0.008379888268156424
          ],
          [
           "Holy Spirit Lutheran Church",
           0.45
          ],
          [
           "Kent/Des Moines P&R",
           0.0297029702970297
          ],
          [
           "Kent/James St. P&R",
           0.13183730715287517
          ],
          [
           "Burien Transit Center",
           0.08401639344262295
          ],
          [
           "Tukwila",
           0.11235955056179775
          ],
          [
           "Maple Valley P&R",
           0.00819672131147541
          ],
          [
           "South Renton P&R",
           0.1038961038961039
          ],
          [
           "Renton Highlands P&R (St. Matts)",
           0.015625
          ],
          [
           "Issaquah Transit Center",
           0.08
          ],
          [
           "Mercer Island P&R",
           0.4250559284116331
          ],
          [
           "Mercer Island Presbyterian",
           0.6666666666666666
          ],
          [
           "Newport Hills P&R",
           0.01090909090909091
          ],
          [
           "Newport Hills Community Church",
           0.02702702702702703
          ],
          [
           "Newport Covenant Church",
           0.02666666666666667
          ],
          [
           "South Bellevue P&R",
           0.019333333333333334
          ],
          [
           "Wilburton",
           0.04838709677419355
          ],
          [
           "Eastgate P&R",
           0.029120198265179677
          ],
          [
           "North Bend P&R",
           0.0625
          ],
          [
           "Grace Lutheran Church",
           0.56
          ],
          [
           "South Kirkland P&R",
           0.017834394904458598
          ],
          [
           "Overlake P&R",
           0.24630541871921183
          ],
          [
           "Houghton P&R",
           0.00851063829787234
          ],
          [
           "Bethel Lutheran",
           0.05
          ],
          [
           "Redmond P&R",
           0.26666666666666666
          ],
          [
           "Saint Thomas Episcopal",
           0.3125
          ],
          [
           "Valley Center",
           0.05454545454545454
          ],
          [
           "Bear Creek P&R",
           0.03592814371257485
          ],
          [
           "Kingsgate P&R",
           0.09561752988047809
          ],
          [
           "Brickyard P&R",
           0.01652892561983471
          ],
          [
           "Northshore P&R",
           0.06382978723404255
          ],
          [
           "Kenmore P&R",
           0.06965174129353234
          ],
          [
           "Bethany Bible Church",
           0.8533333333333334
          ],
          [
           "Bothell P&R",
           0.2863636363636364
          ],
          [
           "Woodinville P&R",
           0.02832244008714597
          ],
          [
           "Olson & Meyers",
           0.19
          ],
          [
           "Greenlake P&R",
           0.36739659367396593
          ],
          [
           "North Jackson Park",
           0.198
          ],
          [
           "Shoreline",
           0.07124681933842239
          ],
          [
           "112th St. & I-5",
           0.02506265664160401
          ],
          [
           "Ober Park",
           0.16666666666666666
          ],
          [
           "Vashon Heights",
           0.5260869565217391
          ],
          [
           "Mountlake Terrace P&R",
           0.036613272311212815
          ],
          [
           "Bethesda Lutheran",
           0.25
          ],
          [
           "Edmonds Station",
           0.007722007722007722
          ],
          [
           "Edmonds P&R",
           0.06274509803921569
          ],
          [
           "Lynnwood P&R",
           0.007383966244725738
          ],
          [
           "Swamp Creek P&R",
           0.03170731707317073
          ],
          [
           "Mariner P&R",
           0.035982008995502246
          ],
          [
           "Snohomish",
           0.0673076923076923
          ],
          [
           "Marysville - Ash Ave",
           0.009900990099009901
          ],
          [
           "Arlington P&R",
           0.32
          ],
          [
           "Monroe",
           0.049019607843137254
          ],
          [
           "Federal Way",
           0.047058823529411764
          ],
          [
           "Southworth Ferry P&R",
           0.3710691823899371
          ],
          [
           "McWilliams P&R",
           0.006622516556291391
          ],
          [
           "Bethany Lutheran Church",
           0.4375
          ],
          [
           "Gateway Fellowship",
           0.050724637681159424
          ],
          [
           "Kingston Ferry P&R",
           0.027777777777777776
          ],
          [
           "Suquamish United Church of Christ",
           0.06153846153846154
          ],
          [
           "Puyallup Station (NB)",
           0.03639846743295019
          ],
          [
           "72nd Street Transit Center",
           0.08823529411764706
          ],
          [
           "DuPont",
           0.007936507936507936
          ],
          [
           "Aurora Village TC",
           0.3613861386138614
          ],
          [
           "Aurora Nazarene",
           0.15517241379310345
          ],
          [
           "Saint Margaret's Episcopal",
           0.265625
          ],
          [
           "Lake Meridian P&R",
           0.05813953488372093
          ],
          [
           "Smokey Pt. Church",
           0.08
          ],
          [
           "Eastmont P&R",
           0.005141388174807198
          ],
          [
           "McCollum Park P&R",
           0.039119804400977995
          ],
          [
           "Canyon Park P&R",
           0.030201342281879196
          ],
          [
           "Korean Presby. P&R",
           0.52
          ],
          [
           "Poulsbo Church of the Nazarene",
           0.0037593984962406013
          ],
          [
           "Harper Evangelical Free Church",
           0.021645021645021644
          ],
          [
           "Mullenix Road",
           0.05434782608695652
          ],
          [
           "TCC P&R",
           0.14736842105263157
          ],
          [
           "Ash Way P&R",
           0.06280667320902845
          ],
          [
           "Bonney Lake P&R",
           0.016853932584269662
          ],
          [
           "Tukwila Int. Station",
           0.6133333333333333
          ],
          [
           "South Hill P&R",
           0.01977401129943503
          ],
          [
           "Issaquah Highlands",
           0.029
          ],
          [
           "Lake Stevens TC",
           0.043478260869565216
          ],
          [
           "Liberty Bay Presbyterian",
           0.011111111111111112
          ],
          [
           "NK Baptist",
           0.05263157894736842
          ],
          [
           "Preston P&R",
           0.5849056603773585
          ],
          [
           "Bayside Community Church",
           0.014285714285714285
          ],
          [
           "Bremerton Ferry",
           0.24381625441696114
          ],
          [
           "Marysville - Cedar & Grove",
           0.028169014084507043
          ],
          [
           "Marysville I P&R",
           0.013513513513513514
          ],
          [
           "Martha Lake Covenant Church",
           0.08
          ],
          [
           "South Sammammish P&R",
           0.0037735849056603774
          ],
          [
           "Renton City Municipal Garage",
           0.14
          ],
          [
           "Tibbetts Lot",
           0.03529411764705882
          ],
          [
           "Renton Transit Center",
           0.1
          ],
          [
           "Calvary Christian Assembly",
           0.448
          ],
          [
           "Maple Valley Town Square",
           0.044444444444444446
          ],
          [
           "All Saints Lutheran Church",
           0.08
          ],
          [
           "City View Church",
           0.75
          ],
          [
           "Northwest University 6710 Bldg.",
           0.09836065573770492
          ],
          [
           "Sammamish Lutheran P&R",
           0.07407407407407407
          ],
          [
           "Redmond Ridge P&R",
           0.057692307692307696
          ],
          [
           "Kennydale United Methodist Church",
           0.14
          ],
          [
           "Nativity Lutheran Church",
           0.04081632653061224
          ],
          [
           "South SeaTac (LR)",
           0.9612068965517241
          ],
          [
           "Everett Station",
           0.4875
          ],
          [
           null,
           0.18518518518518517
          ]
         ],
         "hovertemplate": "color=Boardings/Capacity <= 1<br>Capacity=%{x}<br>Model Boardings=%{y}<br>name=%{customdata[0]}<br>Boardings/Capacity=%{customdata[1]:.2f}<extra></extra>",
         "legendgroup": "Boardings/Capacity <= 1",
         "marker": {
          "color": "#91268F",
          "symbol": "circle"
         },
         "mode": "markers",
         "name": "Boardings/Capacity <= 1",
         "orientation": "v",
         "showlegend": true,
         "type": "scatter",
         "x": [
          390,
          2283,
          1067,
          302,
          63,
          996,
          600,
          104,
          522,
          600,
          107,
          323,
          697,
          306,
          49,
          100,
          20,
          62,
          493,
          75,
          150,
          78,
          200,
          79,
          515,
          877,
          358,
          40,
          404,
          713,
          488,
          267,
          122,
          385,
          128,
          200,
          447,
          30,
          275,
          37,
          75,
          1500,
          186,
          1614,
          80,
          50,
          785,
          203,
          470,
          40,
          150,
          48,
          55,
          334,
          502,
          242,
          376,
          603,
          75,
          220,
          459,
          100,
          411,
          500,
          393,
          399,
          48,
          230,
          874,
          20,
          259,
          255,
          1896,
          410,
          667,
          104,
          202,
          25,
          102,
          1190,
          318,
          151,
          80,
          138,
          72,
          65,
          522,
          68,
          126,
          202,
          116,
          64,
          172,
          50,
          389,
          409,
          298,
          25,
          266,
          462,
          92,
          95,
          1019,
          356,
          600,
          354,
          1000,
          207,
          90,
          57,
          53,
          210,
          566,
          213,
          74,
          75,
          265,
          150,
          170,
          150,
          125,
          90,
          75,
          96,
          61,
          54,
          52,
          50,
          49,
          1160,
          160,
          54
         ],
         "xaxis": "x",
         "y": [
          100,
          221,
          65,
          249,
          4,
          435,
          6,
          57,
          131,
          2,
          7,
          103,
          2,
          6,
          1,
          5,
          16,
          10,
          20,
          14,
          11,
          4,
          1,
          4,
          9,
          85,
          3,
          18,
          12,
          94,
          41,
          30,
          1,
          40,
          2,
          16,
          190,
          20,
          3,
          1,
          2,
          29,
          9,
          47,
          5,
          28,
          14,
          50,
          4,
          2,
          40,
          15,
          3,
          12,
          48,
          4,
          24,
          42,
          64,
          63,
          13,
          19,
          151,
          99,
          28,
          10,
          8,
          121,
          32,
          5,
          2,
          16,
          14,
          13,
          24,
          7,
          2,
          8,
          5,
          56,
          118,
          1,
          35,
          7,
          2,
          4,
          19,
          6,
          1,
          73,
          18,
          17,
          10,
          4,
          2,
          16,
          9,
          13,
          1,
          10,
          5,
          14,
          64,
          6,
          368,
          7,
          29,
          9,
          1,
          3,
          31,
          3,
          138,
          6,
          1,
          6,
          1,
          21,
          6,
          15,
          56,
          4,
          6,
          72,
          6,
          4,
          3,
          7,
          2,
          1115,
          78,
          10
         ],
         "yaxis": "y"
        },
        {
         "customdata": [
          [
           "Auburn Station (CR)",
           1.0078616352201257
          ],
          [
           "Evergreen Point P&R",
           1.6862745098039216
          ],
          [
           "Spokane Street P&R",
           1.4727272727272727
          ],
          [
           "Northgate TC",
           1.8462603878116344
          ],
          [
           "Port Orchard Armory",
           1.5714285714285714
          ],
          [
           "Bainbridge Island Ferry",
           1.0427807486631016
          ],
          [
           "Puyallup Fair's Red Lot",
           1.447488584474886
          ]
         ],
         "hovertemplate": "color=Boardings/Capacity > 1<br>Capacity=%{x}<br>Model Boardings=%{y}<br>name=%{customdata[0]}<br>Boardings/Capacity=%{customdata[1]:.2f}<extra></extra>",
         "legendgroup": "Boardings/Capacity > 1",
         "marker": {
          "color": "#8CC63E",
          "symbol": "circle"
         },
         "mode": "markers",
         "name": "Boardings/Capacity > 1",
         "orientation": "v",
         "showlegend": true,
         "type": "scatter",
         "x": [
          636,
          51,
          55,
          1444,
          105,
          187,
          219
         ],
         "xaxis": "x",
         "y": [
          641,
          86,
          81,
          2666,
          165,
          195,
          317
         ],
         "yaxis": "y"
        }
       ],
       "layout": {
        "height": 600,
        "legend": {
         "title": {
          "text": "color"
         },
         "tracegroupgap": 0
        },
        "template": {
         "data": {
          "bar": [
           {
            "error_x": {
             "color": "rgb(36,36,36)"
            },
            "error_y": {
             "color": "rgb(36,36,36)"
            },
            "marker": {
             "line": {
              "color": "white",
              "width": 0.5
             },
             "pattern": {
              "fillmode": "overlay",
              "size": 10,
              "solidity": 0.2
             }
            },
            "type": "bar"
           }
          ],
          "barpolar": [
           {
            "marker": {
             "line": {
              "color": "white",
              "width": 0.5
             },
             "pattern": {
              "fillmode": "overlay",
              "size": 10,
              "solidity": 0.2
             }
            },
            "type": "barpolar"
           }
          ],
          "carpet": [
           {
            "aaxis": {
             "endlinecolor": "rgb(36,36,36)",
             "gridcolor": "white",
             "linecolor": "white",
             "minorgridcolor": "white",
             "startlinecolor": "rgb(36,36,36)"
            },
            "baxis": {
             "endlinecolor": "rgb(36,36,36)",
             "gridcolor": "white",
             "linecolor": "white",
             "minorgridcolor": "white",
             "startlinecolor": "rgb(36,36,36)"
            },
            "type": "carpet"
           }
          ],
          "choropleth": [
           {
            "colorbar": {
             "outlinewidth": 1,
             "tickcolor": "rgb(36,36,36)",
             "ticks": "outside"
            },
            "type": "choropleth"
           }
          ],
          "contour": [
           {
            "colorbar": {
             "outlinewidth": 1,
             "tickcolor": "rgb(36,36,36)",
             "ticks": "outside"
            },
            "colorscale": [
             [
              0.0,
              "#440154"
             ],
             [
              0.1111111111111111,
              "#482878"
             ],
             [
              0.2222222222222222,
              "#3e4989"
             ],
             [
              0.3333333333333333,
              "#31688e"
             ],
             [
              0.4444444444444444,
              "#26828e"
             ],
             [
              0.5555555555555556,
              "#1f9e89"
             ],
             [
              0.6666666666666666,
              "#35b779"
             ],
             [
              0.7777777777777778,
              "#6ece58"
             ],
             [
              0.8888888888888888,
              "#b5de2b"
             ],
             [
              1.0,
              "#fde725"
             ]
            ],
            "type": "contour"
           }
          ],
          "contourcarpet": [
           {
            "colorbar": {
             "outlinewidth": 1,
             "tickcolor": "rgb(36,36,36)",
             "ticks": "outside"
            },
            "type": "contourcarpet"
           }
          ],
          "heatmap": [
           {
            "colorbar": {
             "outlinewidth": 1,
             "tickcolor": "rgb(36,36,36)",
             "ticks": "outside"
            },
            "colorscale": [
             [
              0.0,
              "#440154"
             ],
             [
              0.1111111111111111,
              "#482878"
             ],
             [
              0.2222222222222222,
              "#3e4989"
             ],
             [
              0.3333333333333333,
              "#31688e"
             ],
             [
              0.4444444444444444,
              "#26828e"
             ],
             [
              0.5555555555555556,
              "#1f9e89"
             ],
             [
              0.6666666666666666,
              "#35b779"
             ],
             [
              0.7777777777777778,
              "#6ece58"
             ],
             [
              0.8888888888888888,
              "#b5de2b"
             ],
             [
              1.0,
              "#fde725"
             ]
            ],
            "type": "heatmap"
           }
          ],
          "heatmapgl": [
           {
            "colorbar": {
             "outlinewidth": 1,
             "tickcolor": "rgb(36,36,36)",
             "ticks": "outside"
            },
            "colorscale": [
             [
              0.0,
              "#440154"
             ],
             [
              0.1111111111111111,
              "#482878"
             ],
             [
              0.2222222222222222,
              "#3e4989"
             ],
             [
              0.3333333333333333,
              "#31688e"
             ],
             [
              0.4444444444444444,
              "#26828e"
             ],
             [
              0.5555555555555556,
              "#1f9e89"
             ],
             [
              0.6666666666666666,
              "#35b779"
             ],
             [
              0.7777777777777778,
              "#6ece58"
             ],
             [
              0.8888888888888888,
              "#b5de2b"
             ],
             [
              1.0,
              "#fde725"
             ]
            ],
            "type": "heatmapgl"
           }
          ],
          "histogram": [
           {
            "marker": {
             "line": {
              "color": "white",
              "width": 0.6
             }
            },
            "type": "histogram"
           }
          ],
          "histogram2d": [
           {
            "colorbar": {
             "outlinewidth": 1,
             "tickcolor": "rgb(36,36,36)",
             "ticks": "outside"
            },
            "colorscale": [
             [
              0.0,
              "#440154"
             ],
             [
              0.1111111111111111,
              "#482878"
             ],
             [
              0.2222222222222222,
              "#3e4989"
             ],
             [
              0.3333333333333333,
              "#31688e"
             ],
             [
              0.4444444444444444,
              "#26828e"
             ],
             [
              0.5555555555555556,
              "#1f9e89"
             ],
             [
              0.6666666666666666,
              "#35b779"
             ],
             [
              0.7777777777777778,
              "#6ece58"
             ],
             [
              0.8888888888888888,
              "#b5de2b"
             ],
             [
              1.0,
              "#fde725"
             ]
            ],
            "type": "histogram2d"
           }
          ],
          "histogram2dcontour": [
           {
            "colorbar": {
             "outlinewidth": 1,
             "tickcolor": "rgb(36,36,36)",
             "ticks": "outside"
            },
            "colorscale": [
             [
              0.0,
              "#440154"
             ],
             [
              0.1111111111111111,
              "#482878"
             ],
             [
              0.2222222222222222,
              "#3e4989"
             ],
             [
              0.3333333333333333,
              "#31688e"
             ],
             [
              0.4444444444444444,
              "#26828e"
             ],
             [
              0.5555555555555556,
              "#1f9e89"
             ],
             [
              0.6666666666666666,
              "#35b779"
             ],
             [
              0.7777777777777778,
              "#6ece58"
             ],
             [
              0.8888888888888888,
              "#b5de2b"
             ],
             [
              1.0,
              "#fde725"
             ]
            ],
            "type": "histogram2dcontour"
           }
          ],
          "mesh3d": [
           {
            "colorbar": {
             "outlinewidth": 1,
             "tickcolor": "rgb(36,36,36)",
             "ticks": "outside"
            },
            "type": "mesh3d"
           }
          ],
          "parcoords": [
           {
            "line": {
             "colorbar": {
              "outlinewidth": 1,
              "tickcolor": "rgb(36,36,36)",
              "ticks": "outside"
             }
            },
            "type": "parcoords"
           }
          ],
          "pie": [
           {
            "automargin": true,
            "type": "pie"
           }
          ],
          "scatter": [
           {
            "fillpattern": {
             "fillmode": "overlay",
             "size": 10,
             "solidity": 0.2
            },
            "type": "scatter"
           }
          ],
          "scatter3d": [
           {
            "line": {
             "colorbar": {
              "outlinewidth": 1,
              "tickcolor": "rgb(36,36,36)",
              "ticks": "outside"
             }
            },
            "marker": {
             "colorbar": {
              "outlinewidth": 1,
              "tickcolor": "rgb(36,36,36)",
              "ticks": "outside"
             }
            },
            "type": "scatter3d"
           }
          ],
          "scattercarpet": [
           {
            "marker": {
             "colorbar": {
              "outlinewidth": 1,
              "tickcolor": "rgb(36,36,36)",
              "ticks": "outside"
             }
            },
            "type": "scattercarpet"
           }
          ],
          "scattergeo": [
           {
            "marker": {
             "colorbar": {
              "outlinewidth": 1,
              "tickcolor": "rgb(36,36,36)",
              "ticks": "outside"
             }
            },
            "type": "scattergeo"
           }
          ],
          "scattergl": [
           {
            "marker": {
             "colorbar": {
              "outlinewidth": 1,
              "tickcolor": "rgb(36,36,36)",
              "ticks": "outside"
             }
            },
            "type": "scattergl"
           }
          ],
          "scattermapbox": [
           {
            "marker": {
             "colorbar": {
              "outlinewidth": 1,
              "tickcolor": "rgb(36,36,36)",
              "ticks": "outside"
             }
            },
            "type": "scattermapbox"
           }
          ],
          "scatterpolar": [
           {
            "marker": {
             "colorbar": {
              "outlinewidth": 1,
              "tickcolor": "rgb(36,36,36)",
              "ticks": "outside"
             }
            },
            "type": "scatterpolar"
           }
          ],
          "scatterpolargl": [
           {
            "marker": {
             "colorbar": {
              "outlinewidth": 1,
              "tickcolor": "rgb(36,36,36)",
              "ticks": "outside"
             }
            },
            "type": "scatterpolargl"
           }
          ],
          "scatterternary": [
           {
            "marker": {
             "colorbar": {
              "outlinewidth": 1,
              "tickcolor": "rgb(36,36,36)",
              "ticks": "outside"
             }
            },
            "type": "scatterternary"
           }
          ],
          "surface": [
           {
            "colorbar": {
             "outlinewidth": 1,
             "tickcolor": "rgb(36,36,36)",
             "ticks": "outside"
            },
            "colorscale": [
             [
              0.0,
              "#440154"
             ],
             [
              0.1111111111111111,
              "#482878"
             ],
             [
              0.2222222222222222,
              "#3e4989"
             ],
             [
              0.3333333333333333,
              "#31688e"
             ],
             [
              0.4444444444444444,
              "#26828e"
             ],
             [
              0.5555555555555556,
              "#1f9e89"
             ],
             [
              0.6666666666666666,
              "#35b779"
             ],
             [
              0.7777777777777778,
              "#6ece58"
             ],
             [
              0.8888888888888888,
              "#b5de2b"
             ],
             [
              1.0,
              "#fde725"
             ]
            ],
            "type": "surface"
           }
          ],
          "table": [
           {
            "cells": {
             "fill": {
              "color": "rgb(237,237,237)"
             },
             "line": {
              "color": "white"
             }
            },
            "header": {
             "fill": {
              "color": "rgb(217,217,217)"
             },
             "line": {
              "color": "white"
             }
            },
            "type": "table"
           }
          ]
         },
         "layout": {
          "annotationdefaults": {
           "arrowhead": 0,
           "arrowwidth": 1
          },
          "autotypenumbers": "strict",
          "coloraxis": {
           "colorbar": {
            "outlinewidth": 1,
            "tickcolor": "rgb(36,36,36)",
            "ticks": "outside"
           }
          },
          "colorscale": {
           "diverging": [
            [
             0.0,
             "rgb(103,0,31)"
            ],
            [
             0.1,
             "rgb(178,24,43)"
            ],
            [
             0.2,
             "rgb(214,96,77)"
            ],
            [
             0.3,
             "rgb(244,165,130)"
            ],
            [
             0.4,
             "rgb(253,219,199)"
            ],
            [
             0.5,
             "rgb(247,247,247)"
            ],
            [
             0.6,
             "rgb(209,229,240)"
            ],
            [
             0.7,
             "rgb(146,197,222)"
            ],
            [
             0.8,
             "rgb(67,147,195)"
            ],
            [
             0.9,
             "rgb(33,102,172)"
            ],
            [
             1.0,
             "rgb(5,48,97)"
            ]
           ],
           "sequential": [
            [
             0.0,
             "#440154"
            ],
            [
             0.1111111111111111,
             "#482878"
            ],
            [
             0.2222222222222222,
             "#3e4989"
            ],
            [
             0.3333333333333333,
             "#31688e"
            ],
            [
             0.4444444444444444,
             "#26828e"
            ],
            [
             0.5555555555555556,
             "#1f9e89"
            ],
            [
             0.6666666666666666,
             "#35b779"
            ],
            [
             0.7777777777777778,
             "#6ece58"
            ],
            [
             0.8888888888888888,
             "#b5de2b"
            ],
            [
             1.0,
             "#fde725"
            ]
           ],
           "sequentialminus": [
            [
             0.0,
             "#440154"
            ],
            [
             0.1111111111111111,
             "#482878"
            ],
            [
             0.2222222222222222,
             "#3e4989"
            ],
            [
             0.3333333333333333,
             "#31688e"
            ],
            [
             0.4444444444444444,
             "#26828e"
            ],
            [
             0.5555555555555556,
             "#1f9e89"
            ],
            [
             0.6666666666666666,
             "#35b779"
            ],
            [
             0.7777777777777778,
             "#6ece58"
            ],
            [
             0.8888888888888888,
             "#b5de2b"
            ],
            [
             1.0,
             "#fde725"
            ]
           ]
          },
          "colorway": [
           "#91268F",
           "#8CC63E",
           "#00A7A0",
           "#F05A28",
           "#4C4C4C",
           "#630460",
           "#9f3913",
           "#588527",
           "#00716c",
           "#3e4040"
          ],
          "font": {
           "color": "rgb(36,36,36)",
           "family": "Poppins",
           "size": 11
          },
          "geo": {
           "bgcolor": "white",
           "lakecolor": "white",
           "landcolor": "white",
           "showlakes": true,
           "showland": true,
           "subunitcolor": "white"
          },
          "hoverlabel": {
           "align": "left"
          },
          "hovermode": "closest",
          "mapbox": {
           "style": "light"
          },
          "paper_bgcolor": "white",
          "plot_bgcolor": "white",
          "polar": {
           "angularaxis": {
            "gridcolor": "rgb(232,232,232)",
            "linecolor": "rgb(36,36,36)",
            "showgrid": false,
            "showline": true,
            "ticks": "outside"
           },
           "bgcolor": "white",
           "radialaxis": {
            "gridcolor": "rgb(232,232,232)",
            "linecolor": "rgb(36,36,36)",
            "showgrid": false,
            "showline": true,
            "ticks": "outside"
           }
          },
          "scene": {
           "xaxis": {
            "backgroundcolor": "white",
            "gridcolor": "rgb(232,232,232)",
            "gridwidth": 2,
            "linecolor": "rgb(36,36,36)",
            "showbackground": true,
            "showgrid": false,
            "showline": true,
            "ticks": "outside",
            "zeroline": false,
            "zerolinecolor": "rgb(36,36,36)"
           },
           "yaxis": {
            "backgroundcolor": "white",
            "gridcolor": "rgb(232,232,232)",
            "gridwidth": 2,
            "linecolor": "rgb(36,36,36)",
            "showbackground": true,
            "showgrid": false,
            "showline": true,
            "ticks": "outside",
            "zeroline": false,
            "zerolinecolor": "rgb(36,36,36)"
           },
           "zaxis": {
            "backgroundcolor": "white",
            "gridcolor": "rgb(232,232,232)",
            "gridwidth": 2,
            "linecolor": "rgb(36,36,36)",
            "showbackground": true,
            "showgrid": false,
            "showline": true,
            "ticks": "outside",
            "zeroline": false,
            "zerolinecolor": "rgb(36,36,36)"
           }
          },
          "shapedefaults": {
           "fillcolor": "black",
           "line": {
            "width": 0
           },
           "opacity": 0.3
          },
          "ternary": {
           "aaxis": {
            "gridcolor": "rgb(232,232,232)",
            "linecolor": "rgb(36,36,36)",
            "showgrid": false,
            "showline": true,
            "ticks": "outside"
           },
           "baxis": {
            "gridcolor": "rgb(232,232,232)",
            "linecolor": "rgb(36,36,36)",
            "showgrid": false,
            "showline": true,
            "ticks": "outside"
           },
           "bgcolor": "white",
           "caxis": {
            "gridcolor": "rgb(232,232,232)",
            "linecolor": "rgb(36,36,36)",
            "showgrid": false,
            "showline": true,
            "ticks": "outside"
           }
          },
          "title": {
           "x": 0.05
          },
          "xaxis": {
           "automargin": true,
           "gridcolor": "rgb(232,232,232)",
           "linecolor": "rgb(36,36,36)",
           "showgrid": false,
           "showline": true,
           "ticks": "outside",
           "title": {
            "standoff": 15
           },
           "zeroline": false,
           "zerolinecolor": "rgb(36,36,36)"
          },
          "yaxis": {
           "automargin": true,
           "gridcolor": "rgb(232,232,232)",
           "linecolor": "rgb(36,36,36)",
           "showgrid": false,
           "showline": true,
           "ticks": "outside",
           "title": {
            "standoff": 15
           },
           "zeroline": false,
           "zerolinecolor": "rgb(36,36,36)"
          }
         }
        },
        "title": {
         "text": "Model Boardings vs Capacity"
        },
        "width": 800,
        "xaxis": {
         "anchor": "y",
         "domain": [
          0.0,
          1.0
         ],
         "title": {
          "text": "Capacity"
         }
        },
        "yaxis": {
         "anchor": "x",
         "domain": [
          0.0,
          1.0
         ],
         "title": {
          "text": "Model Boardings"
         }
        }
       }
      },
      "text/html": [
       "<div>                            <div id=\"302a720e-3651-4ae8-86f5-04e08584a192\" class=\"plotly-graph-div\" style=\"height:600px; width:800px;\"></div>            <script type=\"text/javascript\">                require([\"plotly\"], function(Plotly) {                    window.PLOTLYENV=window.PLOTLYENV || {};                                    if (document.getElementById(\"302a720e-3651-4ae8-86f5-04e08584a192\")) {                    Plotly.newPlot(                        \"302a720e-3651-4ae8-86f5-04e08584a192\",                        [{\"customdata\":[[\"Tukwila Station (CR)\",0.2564102564102564],[\"Tacoma Dome Station\",0.09680245291283399],[\"Everett Station (CR)\",0.06091846298031865],[\"Sumner Station (CR)\",0.8245033112582781],[\"Mukilteo Station\",0.06349206349206349],[\"Kent Station (CR)\",0.4367469879518072],[\"Lakewood (CR)\",0.01],[\"Gateway P&R\",0.5480769230769231],[\"Puyallup Station (SB)\",0.2509578544061303],[\"Twin Lakes P&R\",0.0033333333333333335],[\"Crossroads Neighborhood Church\",0.06542056074766354],[\"Overlake Transit Center\",0.3188854489164087],[\"Redondo Heights P&R\",0.0028694404591104736],[\"North Gig Harbor\\u002fKimball Drive\",0.0196078431372549],[\"Duvall P&R\",0.02040816326530612],[\"Roy 'Y' P&R\",0.05],[\"South Hill (Elim Evangelical)\",0.8],[\"Parkland Transit Center\",0.16129032258064516],[\"SR-512\\u002fI-5 (Lakewood)\",0.04056795131845842],[\"Center Street P&R\",0.18666666666666668],[\"Tacoma Mall Transit Center\",0.07333333333333333],[\"South Tacoma West\",0.05128205128205128],[\"North Purdy\\u002fPurdy Crescent\",0.005],[\"Point Defiance Ferry\",0.05063291139240506],[\"South Federal P&R\",0.017475728155339806],[\"Federal Way P&R (320th)\",0.09692132269099202],[\"Auburn P&R\",0.008379888268156424],[\"Holy Spirit Lutheran Church\",0.45],[\"Kent\\u002fDes Moines P&R\",0.0297029702970297],[\"Kent\\u002fJames St. P&R\",0.13183730715287517],[\"Burien Transit Center\",0.08401639344262295],[\"Tukwila\",0.11235955056179775],[\"Maple Valley P&R\",0.00819672131147541],[\"South Renton P&R\",0.1038961038961039],[\"Renton Highlands P&R (St. Matts)\",0.015625],[\"Issaquah Transit Center\",0.08],[\"Mercer Island P&R\",0.4250559284116331],[\"Mercer Island Presbyterian\",0.6666666666666666],[\"Newport Hills P&R\",0.01090909090909091],[\"Newport Hills Community Church\",0.02702702702702703],[\"Newport Covenant Church\",0.02666666666666667],[\"South Bellevue P&R\",0.019333333333333334],[\"Wilburton\",0.04838709677419355],[\"Eastgate P&R\",0.029120198265179677],[\"North Bend P&R\",0.0625],[\"Grace Lutheran Church\",0.56],[\"South Kirkland P&R\",0.017834394904458598],[\"Overlake P&R\",0.24630541871921183],[\"Houghton P&R\",0.00851063829787234],[\"Bethel Lutheran\",0.05],[\"Redmond P&R\",0.26666666666666666],[\"Saint Thomas Episcopal\",0.3125],[\"Valley Center\",0.05454545454545454],[\"Bear Creek P&R\",0.03592814371257485],[\"Kingsgate P&R\",0.09561752988047809],[\"Brickyard P&R\",0.01652892561983471],[\"Northshore P&R\",0.06382978723404255],[\"Kenmore P&R\",0.06965174129353234],[\"Bethany Bible Church\",0.8533333333333334],[\"Bothell P&R\",0.2863636363636364],[\"Woodinville P&R\",0.02832244008714597],[\"Olson & Meyers\",0.19],[\"Greenlake P&R\",0.36739659367396593],[\"North Jackson Park\",0.198],[\"Shoreline\",0.07124681933842239],[\"112th St. & I-5\",0.02506265664160401],[\"Ober Park\",0.16666666666666666],[\"Vashon Heights\",0.5260869565217391],[\"Mountlake Terrace P&R\",0.036613272311212815],[\"Bethesda Lutheran\",0.25],[\"Edmonds Station\",0.007722007722007722],[\"Edmonds P&R\",0.06274509803921569],[\"Lynnwood P&R\",0.007383966244725738],[\"Swamp Creek P&R\",0.03170731707317073],[\"Mariner P&R\",0.035982008995502246],[\"Snohomish\",0.0673076923076923],[\"Marysville - Ash Ave\",0.009900990099009901],[\"Arlington P&R\",0.32],[\"Monroe\",0.049019607843137254],[\"Federal Way\",0.047058823529411764],[\"Southworth Ferry P&R\",0.3710691823899371],[\"McWilliams P&R\",0.006622516556291391],[\"Bethany Lutheran Church\",0.4375],[\"Gateway Fellowship\",0.050724637681159424],[\"Kingston Ferry P&R\",0.027777777777777776],[\"Suquamish United Church of Christ\",0.06153846153846154],[\"Puyallup Station (NB)\",0.03639846743295019],[\"72nd Street Transit Center\",0.08823529411764706],[\"DuPont\",0.007936507936507936],[\"Aurora Village TC\",0.3613861386138614],[\"Aurora Nazarene\",0.15517241379310345],[\"Saint Margaret's Episcopal\",0.265625],[\"Lake Meridian P&R\",0.05813953488372093],[\"Smokey Pt. Church\",0.08],[\"Eastmont P&R\",0.005141388174807198],[\"McCollum Park P&R\",0.039119804400977995],[\"Canyon Park P&R\",0.030201342281879196],[\"Korean Presby. P&R\",0.52],[\"Poulsbo Church of the Nazarene\",0.0037593984962406013],[\"Harper Evangelical Free Church\",0.021645021645021644],[\"Mullenix Road\",0.05434782608695652],[\"TCC P&R\",0.14736842105263157],[\"Ash Way P&R\",0.06280667320902845],[\"Bonney Lake P&R\",0.016853932584269662],[\"Tukwila Int. Station\",0.6133333333333333],[\"South Hill P&R\",0.01977401129943503],[\"Issaquah Highlands\",0.029],[\"Lake Stevens TC\",0.043478260869565216],[\"Liberty Bay Presbyterian\",0.011111111111111112],[\"NK Baptist\",0.05263157894736842],[\"Preston P&R\",0.5849056603773585],[\"Bayside Community Church\",0.014285714285714285],[\"Bremerton Ferry\",0.24381625441696114],[\"Marysville - Cedar & Grove\",0.028169014084507043],[\"Marysville I P&R\",0.013513513513513514],[\"Martha Lake Covenant Church\",0.08],[\"South Sammammish P&R\",0.0037735849056603774],[\"Renton City Municipal Garage\",0.14],[\"Tibbetts Lot\",0.03529411764705882],[\"Renton Transit Center\",0.1],[\"Calvary Christian Assembly\",0.448],[\"Maple Valley Town Square\",0.044444444444444446],[\"All Saints Lutheran Church\",0.08],[\"City View Church\",0.75],[\"Northwest University 6710 Bldg.\",0.09836065573770492],[\"Sammamish Lutheran P&R\",0.07407407407407407],[\"Redmond Ridge P&R\",0.057692307692307696],[\"Kennydale United Methodist Church\",0.14],[\"Nativity Lutheran Church\",0.04081632653061224],[\"South SeaTac (LR)\",0.9612068965517241],[\"Everett Station\",0.4875],[null,0.18518518518518517]],\"hovertemplate\":\"color=Boardings\\u002fCapacity \\u003c= 1\\u003cbr\\u003eCapacity=%{x}\\u003cbr\\u003eModel Boardings=%{y}\\u003cbr\\u003ename=%{customdata[0]}\\u003cbr\\u003eBoardings\\u002fCapacity=%{customdata[1]:.2f}\\u003cextra\\u003e\\u003c\\u002fextra\\u003e\",\"legendgroup\":\"Boardings\\u002fCapacity \\u003c= 1\",\"marker\":{\"color\":\"#91268F\",\"symbol\":\"circle\"},\"mode\":\"markers\",\"name\":\"Boardings\\u002fCapacity \\u003c= 1\",\"orientation\":\"v\",\"showlegend\":true,\"x\":[390,2283,1067,302,63,996,600,104,522,600,107,323,697,306,49,100,20,62,493,75,150,78,200,79,515,877,358,40,404,713,488,267,122,385,128,200,447,30,275,37,75,1500,186,1614,80,50,785,203,470,40,150,48,55,334,502,242,376,603,75,220,459,100,411,500,393,399,48,230,874,20,259,255,1896,410,667,104,202,25,102,1190,318,151,80,138,72,65,522,68,126,202,116,64,172,50,389,409,298,25,266,462,92,95,1019,356,600,354,1000,207,90,57,53,210,566,213,74,75,265,150,170,150,125,90,75,96,61,54,52,50,49,1160,160,54],\"xaxis\":\"x\",\"y\":[100,221,65,249,4,435,6,57,131,2,7,103,2,6,1,5,16,10,20,14,11,4,1,4,9,85,3,18,12,94,41,30,1,40,2,16,190,20,3,1,2,29,9,47,5,28,14,50,4,2,40,15,3,12,48,4,24,42,64,63,13,19,151,99,28,10,8,121,32,5,2,16,14,13,24,7,2,8,5,56,118,1,35,7,2,4,19,6,1,73,18,17,10,4,2,16,9,13,1,10,5,14,64,6,368,7,29,9,1,3,31,3,138,6,1,6,1,21,6,15,56,4,6,72,6,4,3,7,2,1115,78,10],\"yaxis\":\"y\",\"type\":\"scatter\"},{\"customdata\":[[\"Auburn Station (CR)\",1.0078616352201257],[\"Evergreen Point P&R\",1.6862745098039216],[\"Spokane Street P&R\",1.4727272727272727],[\"Northgate TC\",1.8462603878116344],[\"Port Orchard Armory\",1.5714285714285714],[\"Bainbridge Island Ferry\",1.0427807486631016],[\"Puyallup Fair's Red Lot\",1.447488584474886]],\"hovertemplate\":\"color=Boardings\\u002fCapacity \\u003e 1\\u003cbr\\u003eCapacity=%{x}\\u003cbr\\u003eModel Boardings=%{y}\\u003cbr\\u003ename=%{customdata[0]}\\u003cbr\\u003eBoardings\\u002fCapacity=%{customdata[1]:.2f}\\u003cextra\\u003e\\u003c\\u002fextra\\u003e\",\"legendgroup\":\"Boardings\\u002fCapacity \\u003e 1\",\"marker\":{\"color\":\"#8CC63E\",\"symbol\":\"circle\"},\"mode\":\"markers\",\"name\":\"Boardings\\u002fCapacity \\u003e 1\",\"orientation\":\"v\",\"showlegend\":true,\"x\":[636,51,55,1444,105,187,219],\"xaxis\":\"x\",\"y\":[641,86,81,2666,165,195,317],\"yaxis\":\"y\",\"type\":\"scatter\"}],                        {\"template\":{\"data\":{\"barpolar\":[{\"marker\":{\"line\":{\"color\":\"white\",\"width\":0.5},\"pattern\":{\"fillmode\":\"overlay\",\"size\":10,\"solidity\":0.2}},\"type\":\"barpolar\"}],\"bar\":[{\"error_x\":{\"color\":\"rgb(36,36,36)\"},\"error_y\":{\"color\":\"rgb(36,36,36)\"},\"marker\":{\"line\":{\"color\":\"white\",\"width\":0.5},\"pattern\":{\"fillmode\":\"overlay\",\"size\":10,\"solidity\":0.2}},\"type\":\"bar\"}],\"carpet\":[{\"aaxis\":{\"endlinecolor\":\"rgb(36,36,36)\",\"gridcolor\":\"white\",\"linecolor\":\"white\",\"minorgridcolor\":\"white\",\"startlinecolor\":\"rgb(36,36,36)\"},\"baxis\":{\"endlinecolor\":\"rgb(36,36,36)\",\"gridcolor\":\"white\",\"linecolor\":\"white\",\"minorgridcolor\":\"white\",\"startlinecolor\":\"rgb(36,36,36)\"},\"type\":\"carpet\"}],\"choropleth\":[{\"colorbar\":{\"outlinewidth\":1,\"tickcolor\":\"rgb(36,36,36)\",\"ticks\":\"outside\"},\"type\":\"choropleth\"}],\"contourcarpet\":[{\"colorbar\":{\"outlinewidth\":1,\"tickcolor\":\"rgb(36,36,36)\",\"ticks\":\"outside\"},\"type\":\"contourcarpet\"}],\"contour\":[{\"colorbar\":{\"outlinewidth\":1,\"tickcolor\":\"rgb(36,36,36)\",\"ticks\":\"outside\"},\"colorscale\":[[0.0,\"#440154\"],[0.1111111111111111,\"#482878\"],[0.2222222222222222,\"#3e4989\"],[0.3333333333333333,\"#31688e\"],[0.4444444444444444,\"#26828e\"],[0.5555555555555556,\"#1f9e89\"],[0.6666666666666666,\"#35b779\"],[0.7777777777777778,\"#6ece58\"],[0.8888888888888888,\"#b5de2b\"],[1.0,\"#fde725\"]],\"type\":\"contour\"}],\"heatmapgl\":[{\"colorbar\":{\"outlinewidth\":1,\"tickcolor\":\"rgb(36,36,36)\",\"ticks\":\"outside\"},\"colorscale\":[[0.0,\"#440154\"],[0.1111111111111111,\"#482878\"],[0.2222222222222222,\"#3e4989\"],[0.3333333333333333,\"#31688e\"],[0.4444444444444444,\"#26828e\"],[0.5555555555555556,\"#1f9e89\"],[0.6666666666666666,\"#35b779\"],[0.7777777777777778,\"#6ece58\"],[0.8888888888888888,\"#b5de2b\"],[1.0,\"#fde725\"]],\"type\":\"heatmapgl\"}],\"heatmap\":[{\"colorbar\":{\"outlinewidth\":1,\"tickcolor\":\"rgb(36,36,36)\",\"ticks\":\"outside\"},\"colorscale\":[[0.0,\"#440154\"],[0.1111111111111111,\"#482878\"],[0.2222222222222222,\"#3e4989\"],[0.3333333333333333,\"#31688e\"],[0.4444444444444444,\"#26828e\"],[0.5555555555555556,\"#1f9e89\"],[0.6666666666666666,\"#35b779\"],[0.7777777777777778,\"#6ece58\"],[0.8888888888888888,\"#b5de2b\"],[1.0,\"#fde725\"]],\"type\":\"heatmap\"}],\"histogram2dcontour\":[{\"colorbar\":{\"outlinewidth\":1,\"tickcolor\":\"rgb(36,36,36)\",\"ticks\":\"outside\"},\"colorscale\":[[0.0,\"#440154\"],[0.1111111111111111,\"#482878\"],[0.2222222222222222,\"#3e4989\"],[0.3333333333333333,\"#31688e\"],[0.4444444444444444,\"#26828e\"],[0.5555555555555556,\"#1f9e89\"],[0.6666666666666666,\"#35b779\"],[0.7777777777777778,\"#6ece58\"],[0.8888888888888888,\"#b5de2b\"],[1.0,\"#fde725\"]],\"type\":\"histogram2dcontour\"}],\"histogram2d\":[{\"colorbar\":{\"outlinewidth\":1,\"tickcolor\":\"rgb(36,36,36)\",\"ticks\":\"outside\"},\"colorscale\":[[0.0,\"#440154\"],[0.1111111111111111,\"#482878\"],[0.2222222222222222,\"#3e4989\"],[0.3333333333333333,\"#31688e\"],[0.4444444444444444,\"#26828e\"],[0.5555555555555556,\"#1f9e89\"],[0.6666666666666666,\"#35b779\"],[0.7777777777777778,\"#6ece58\"],[0.8888888888888888,\"#b5de2b\"],[1.0,\"#fde725\"]],\"type\":\"histogram2d\"}],\"histogram\":[{\"marker\":{\"line\":{\"color\":\"white\",\"width\":0.6}},\"type\":\"histogram\"}],\"mesh3d\":[{\"colorbar\":{\"outlinewidth\":1,\"tickcolor\":\"rgb(36,36,36)\",\"ticks\":\"outside\"},\"type\":\"mesh3d\"}],\"parcoords\":[{\"line\":{\"colorbar\":{\"outlinewidth\":1,\"tickcolor\":\"rgb(36,36,36)\",\"ticks\":\"outside\"}},\"type\":\"parcoords\"}],\"pie\":[{\"automargin\":true,\"type\":\"pie\"}],\"scatter3d\":[{\"line\":{\"colorbar\":{\"outlinewidth\":1,\"tickcolor\":\"rgb(36,36,36)\",\"ticks\":\"outside\"}},\"marker\":{\"colorbar\":{\"outlinewidth\":1,\"tickcolor\":\"rgb(36,36,36)\",\"ticks\":\"outside\"}},\"type\":\"scatter3d\"}],\"scattercarpet\":[{\"marker\":{\"colorbar\":{\"outlinewidth\":1,\"tickcolor\":\"rgb(36,36,36)\",\"ticks\":\"outside\"}},\"type\":\"scattercarpet\"}],\"scattergeo\":[{\"marker\":{\"colorbar\":{\"outlinewidth\":1,\"tickcolor\":\"rgb(36,36,36)\",\"ticks\":\"outside\"}},\"type\":\"scattergeo\"}],\"scattergl\":[{\"marker\":{\"colorbar\":{\"outlinewidth\":1,\"tickcolor\":\"rgb(36,36,36)\",\"ticks\":\"outside\"}},\"type\":\"scattergl\"}],\"scattermapbox\":[{\"marker\":{\"colorbar\":{\"outlinewidth\":1,\"tickcolor\":\"rgb(36,36,36)\",\"ticks\":\"outside\"}},\"type\":\"scattermapbox\"}],\"scatterpolargl\":[{\"marker\":{\"colorbar\":{\"outlinewidth\":1,\"tickcolor\":\"rgb(36,36,36)\",\"ticks\":\"outside\"}},\"type\":\"scatterpolargl\"}],\"scatterpolar\":[{\"marker\":{\"colorbar\":{\"outlinewidth\":1,\"tickcolor\":\"rgb(36,36,36)\",\"ticks\":\"outside\"}},\"type\":\"scatterpolar\"}],\"scatter\":[{\"fillpattern\":{\"fillmode\":\"overlay\",\"size\":10,\"solidity\":0.2},\"type\":\"scatter\"}],\"scatterternary\":[{\"marker\":{\"colorbar\":{\"outlinewidth\":1,\"tickcolor\":\"rgb(36,36,36)\",\"ticks\":\"outside\"}},\"type\":\"scatterternary\"}],\"surface\":[{\"colorbar\":{\"outlinewidth\":1,\"tickcolor\":\"rgb(36,36,36)\",\"ticks\":\"outside\"},\"colorscale\":[[0.0,\"#440154\"],[0.1111111111111111,\"#482878\"],[0.2222222222222222,\"#3e4989\"],[0.3333333333333333,\"#31688e\"],[0.4444444444444444,\"#26828e\"],[0.5555555555555556,\"#1f9e89\"],[0.6666666666666666,\"#35b779\"],[0.7777777777777778,\"#6ece58\"],[0.8888888888888888,\"#b5de2b\"],[1.0,\"#fde725\"]],\"type\":\"surface\"}],\"table\":[{\"cells\":{\"fill\":{\"color\":\"rgb(237,237,237)\"},\"line\":{\"color\":\"white\"}},\"header\":{\"fill\":{\"color\":\"rgb(217,217,217)\"},\"line\":{\"color\":\"white\"}},\"type\":\"table\"}]},\"layout\":{\"annotationdefaults\":{\"arrowhead\":0,\"arrowwidth\":1},\"autotypenumbers\":\"strict\",\"coloraxis\":{\"colorbar\":{\"outlinewidth\":1,\"tickcolor\":\"rgb(36,36,36)\",\"ticks\":\"outside\"}},\"colorscale\":{\"diverging\":[[0.0,\"rgb(103,0,31)\"],[0.1,\"rgb(178,24,43)\"],[0.2,\"rgb(214,96,77)\"],[0.3,\"rgb(244,165,130)\"],[0.4,\"rgb(253,219,199)\"],[0.5,\"rgb(247,247,247)\"],[0.6,\"rgb(209,229,240)\"],[0.7,\"rgb(146,197,222)\"],[0.8,\"rgb(67,147,195)\"],[0.9,\"rgb(33,102,172)\"],[1.0,\"rgb(5,48,97)\"]],\"sequential\":[[0.0,\"#440154\"],[0.1111111111111111,\"#482878\"],[0.2222222222222222,\"#3e4989\"],[0.3333333333333333,\"#31688e\"],[0.4444444444444444,\"#26828e\"],[0.5555555555555556,\"#1f9e89\"],[0.6666666666666666,\"#35b779\"],[0.7777777777777778,\"#6ece58\"],[0.8888888888888888,\"#b5de2b\"],[1.0,\"#fde725\"]],\"sequentialminus\":[[0.0,\"#440154\"],[0.1111111111111111,\"#482878\"],[0.2222222222222222,\"#3e4989\"],[0.3333333333333333,\"#31688e\"],[0.4444444444444444,\"#26828e\"],[0.5555555555555556,\"#1f9e89\"],[0.6666666666666666,\"#35b779\"],[0.7777777777777778,\"#6ece58\"],[0.8888888888888888,\"#b5de2b\"],[1.0,\"#fde725\"]]},\"colorway\":[\"#91268F\",\"#8CC63E\",\"#00A7A0\",\"#F05A28\",\"#4C4C4C\",\"#630460\",\"#9f3913\",\"#588527\",\"#00716c\",\"#3e4040\"],\"font\":{\"color\":\"rgb(36,36,36)\",\"family\":\"Poppins\",\"size\":11},\"geo\":{\"bgcolor\":\"white\",\"lakecolor\":\"white\",\"landcolor\":\"white\",\"showlakes\":true,\"showland\":true,\"subunitcolor\":\"white\"},\"hoverlabel\":{\"align\":\"left\"},\"hovermode\":\"closest\",\"mapbox\":{\"style\":\"light\"},\"paper_bgcolor\":\"white\",\"plot_bgcolor\":\"white\",\"polar\":{\"angularaxis\":{\"gridcolor\":\"rgb(232,232,232)\",\"linecolor\":\"rgb(36,36,36)\",\"showgrid\":false,\"showline\":true,\"ticks\":\"outside\"},\"bgcolor\":\"white\",\"radialaxis\":{\"gridcolor\":\"rgb(232,232,232)\",\"linecolor\":\"rgb(36,36,36)\",\"showgrid\":false,\"showline\":true,\"ticks\":\"outside\"}},\"scene\":{\"xaxis\":{\"backgroundcolor\":\"white\",\"gridcolor\":\"rgb(232,232,232)\",\"gridwidth\":2,\"linecolor\":\"rgb(36,36,36)\",\"showbackground\":true,\"showgrid\":false,\"showline\":true,\"ticks\":\"outside\",\"zeroline\":false,\"zerolinecolor\":\"rgb(36,36,36)\"},\"yaxis\":{\"backgroundcolor\":\"white\",\"gridcolor\":\"rgb(232,232,232)\",\"gridwidth\":2,\"linecolor\":\"rgb(36,36,36)\",\"showbackground\":true,\"showgrid\":false,\"showline\":true,\"ticks\":\"outside\",\"zeroline\":false,\"zerolinecolor\":\"rgb(36,36,36)\"},\"zaxis\":{\"backgroundcolor\":\"white\",\"gridcolor\":\"rgb(232,232,232)\",\"gridwidth\":2,\"linecolor\":\"rgb(36,36,36)\",\"showbackground\":true,\"showgrid\":false,\"showline\":true,\"ticks\":\"outside\",\"zeroline\":false,\"zerolinecolor\":\"rgb(36,36,36)\"}},\"shapedefaults\":{\"fillcolor\":\"black\",\"line\":{\"width\":0},\"opacity\":0.3},\"ternary\":{\"aaxis\":{\"gridcolor\":\"rgb(232,232,232)\",\"linecolor\":\"rgb(36,36,36)\",\"showgrid\":false,\"showline\":true,\"ticks\":\"outside\"},\"baxis\":{\"gridcolor\":\"rgb(232,232,232)\",\"linecolor\":\"rgb(36,36,36)\",\"showgrid\":false,\"showline\":true,\"ticks\":\"outside\"},\"bgcolor\":\"white\",\"caxis\":{\"gridcolor\":\"rgb(232,232,232)\",\"linecolor\":\"rgb(36,36,36)\",\"showgrid\":false,\"showline\":true,\"ticks\":\"outside\"}},\"title\":{\"x\":0.05},\"xaxis\":{\"automargin\":true,\"gridcolor\":\"rgb(232,232,232)\",\"linecolor\":\"rgb(36,36,36)\",\"showgrid\":false,\"showline\":true,\"ticks\":\"outside\",\"title\":{\"standoff\":15},\"zeroline\":false,\"zerolinecolor\":\"rgb(36,36,36)\"},\"yaxis\":{\"automargin\":true,\"gridcolor\":\"rgb(232,232,232)\",\"linecolor\":\"rgb(36,36,36)\",\"showgrid\":false,\"showline\":true,\"ticks\":\"outside\",\"title\":{\"standoff\":15},\"zeroline\":false,\"zerolinecolor\":\"rgb(36,36,36)\"}}},\"xaxis\":{\"anchor\":\"y\",\"domain\":[0.0,1.0],\"title\":{\"text\":\"Capacity\"}},\"yaxis\":{\"anchor\":\"x\",\"domain\":[0.0,1.0],\"title\":{\"text\":\"Model Boardings\"}},\"legend\":{\"title\":{\"text\":\"color\"},\"tracegroupgap\":0},\"title\":{\"text\":\"Model Boardings vs Capacity\"},\"height\":600,\"width\":800},                        {\"responsive\": true}                    ).then(function(){\n",
       "                            \n",
       "var gd = document.getElementById('302a720e-3651-4ae8-86f5-04e08584a192');\n",
       "var x = new MutationObserver(function (mutations, observer) {{\n",
       "        var display = window.getComputedStyle(gd).display;\n",
       "        if (!display || display === 'none') {{\n",
       "            console.log([gd, 'removed!']);\n",
       "            Plotly.purge(gd);\n",
       "            observer.disconnect();\n",
       "        }}\n",
       "}});\n",
       "\n",
       "// Listen for the removal of the full notebook cells\n",
       "var notebookContainer = gd.closest('#notebook-container');\n",
       "if (notebookContainer) {{\n",
       "    x.observe(notebookContainer, {childList: true});\n",
       "}}\n",
       "\n",
       "// Listen for the clearing of the current output cell\n",
       "var outputEl = gd.closest('.output');\n",
       "if (outputEl) {{\n",
       "    x.observe(outputEl, {childList: true});\n",
       "}}\n",
       "\n",
       "                        })                };                });            </script>        </div>"
      ]
     },
     "metadata": {},
     "output_type": "display_data"
    }
   ],
   "source": [
    "df['color'] = np.where(df['Boardings/Capacity'] > 1, 'Boardings/Capacity > 1', 'Boardings/Capacity <= 1')\n",
    "\n",
    "fig = px.scatter(df, y='Model Boardings', x='Capacity', title='Model Boardings vs Capacity',\n",
    "                 hover_data={'name': True, 'Model Boardings': True, 'Capacity': True, 'Boardings/Capacity': ':.2f'},\n",
    "                 color='color')\n",
    "fig.update_layout(height=600, width=800)\n",
    "fig.show()"
   ]
  },
  {
   "cell_type": "code",
   "execution_count": 40,
   "id": "2f976d83",
   "metadata": {},
   "outputs": [
    {
     "data": {
      "application/vnd.plotly.v1+json": {
       "config": {
        "plotlyServerURL": "https://plot.ly"
       },
       "data": [
        {
         "customdata": [
          [
           "Tukwila Station (CR)",
           3751,
           100,
           390
          ],
          [
           "Tacoma Dome Station",
           3752,
           221,
           2283
          ],
          [
           "Everett Station (CR)",
           3754,
           65,
           1067
          ],
          [
           "Sumner Station (CR)",
           3755,
           249,
           302
          ],
          [
           "Mukilteo Station",
           3756,
           4,
           63
          ],
          [
           "Kent Station (CR)",
           3757,
           435,
           996
          ],
          [
           "Auburn Station (CR)",
           3758,
           641,
           636
          ],
          [
           "Lakewood (CR)",
           3759,
           6,
           600
          ],
          [
           "Gateway P&R",
           3760,
           57,
           104
          ],
          [
           "Puyallup Station (SB)",
           3761,
           131,
           522
          ],
          [
           "Twin Lakes P&R",
           3762,
           2,
           600
          ],
          [
           "Crossroads Neighborhood Church",
           3763,
           7,
           107
          ],
          [
           "Overlake Transit Center",
           3764,
           103,
           323
          ],
          [
           "Redondo Heights P&R",
           3765,
           2,
           697
          ],
          [
           "North Gig Harbor/Kimball Drive",
           3766,
           6,
           306
          ],
          [
           "Duvall P&R",
           3767,
           1,
           49
          ],
          [
           "Roy 'Y' P&R",
           3768,
           5,
           100
          ],
          [
           "South Hill (Elim Evangelical)",
           3769,
           16,
           20
          ],
          [
           "Parkland Transit Center",
           3770,
           10,
           62
          ],
          [
           "SR-512/I-5 (Lakewood)",
           3771,
           20,
           493
          ],
          [
           "Center Street P&R",
           3772,
           14,
           75
          ],
          [
           "Tacoma Mall Transit Center",
           3773,
           11,
           150
          ],
          [
           "South Tacoma West",
           3774,
           4,
           78
          ],
          [
           "North Purdy/Purdy Crescent",
           3777,
           1,
           200
          ],
          [
           "Point Defiance Ferry",
           3778,
           4,
           79
          ],
          [
           "South Federal P&R",
           3779,
           9,
           515
          ],
          [
           "Federal Way P&R (320th)",
           3781,
           85,
           877
          ],
          [
           "Auburn P&R",
           3782,
           3,
           358
          ],
          [
           "Holy Spirit Lutheran Church",
           3784,
           18,
           40
          ],
          [
           "Kent/Des Moines P&R",
           3785,
           12,
           404
          ],
          [
           "Kent/James St. P&R",
           3786,
           94,
           713
          ],
          [
           "Burien Transit Center",
           3787,
           41,
           488
          ],
          [
           "Tukwila",
           3788,
           30,
           267
          ],
          [
           "Maple Valley P&R",
           3789,
           1,
           122
          ],
          [
           "South Renton P&R",
           3790,
           40,
           385
          ],
          [
           "Renton Highlands P&R (St. Matts)",
           3791,
           2,
           128
          ],
          [
           "Issaquah Transit Center",
           3792,
           16,
           200
          ],
          [
           "Mercer Island P&R",
           3793,
           190,
           447
          ],
          [
           "Mercer Island Presbyterian",
           3794,
           20,
           30
          ],
          [
           "Newport Hills P&R",
           3795,
           3,
           275
          ],
          [
           "Newport Hills Community Church",
           3796,
           1,
           37
          ],
          [
           "Newport Covenant Church",
           3797,
           2,
           75
          ],
          [
           "South Bellevue P&R",
           3798,
           29,
           1500
          ],
          [
           "Wilburton",
           3799,
           9,
           186
          ],
          [
           "Eastgate P&R",
           3800,
           47,
           1614
          ],
          [
           "North Bend P&R",
           3801,
           5,
           80
          ],
          [
           "Evergreen Point P&R",
           3802,
           86,
           51
          ],
          [
           "Grace Lutheran Church",
           3803,
           28,
           50
          ],
          [
           "South Kirkland P&R",
           3804,
           14,
           785
          ],
          [
           "Overlake P&R",
           3805,
           50,
           203
          ],
          [
           "Houghton P&R",
           3806,
           4,
           470
          ],
          [
           "Bethel Lutheran",
           3807,
           2,
           40
          ],
          [
           "Redmond P&R",
           3808,
           40,
           150
          ],
          [
           "Saint Thomas Episcopal",
           3809,
           15,
           48
          ],
          [
           "Valley Center",
           3810,
           3,
           55
          ],
          [
           "Bear Creek P&R",
           3811,
           12,
           334
          ],
          [
           "Kingsgate P&R",
           3812,
           48,
           502
          ],
          [
           "Brickyard P&R",
           3813,
           4,
           242
          ],
          [
           "Northshore P&R",
           3814,
           24,
           376
          ],
          [
           "Kenmore P&R",
           3815,
           42,
           603
          ],
          [
           "Bethany Bible Church",
           3816,
           64,
           75
          ],
          [
           "Bothell P&R",
           3817,
           63,
           220
          ],
          [
           "Woodinville P&R",
           3818,
           13,
           459
          ],
          [
           "Olson & Meyers",
           3819,
           19,
           100
          ],
          [
           "Spokane Street P&R",
           3820,
           81,
           55
          ],
          [
           "Greenlake P&R",
           3821,
           151,
           411
          ],
          [
           "Northgate TC",
           3822,
           2666,
           1444
          ],
          [
           "North Jackson Park",
           3823,
           99,
           500
          ],
          [
           "Shoreline",
           3824,
           28,
           393
          ],
          [
           "112th St. & I-5",
           3825,
           10,
           399
          ],
          [
           "Ober Park",
           3826,
           8,
           48
          ],
          [
           "Vashon Heights",
           3827,
           121,
           230
          ],
          [
           "Mountlake Terrace P&R",
           3828,
           32,
           874
          ],
          [
           "Bethesda Lutheran",
           3829,
           5,
           20
          ],
          [
           "Edmonds Station",
           3830,
           2,
           259
          ],
          [
           "Edmonds P&R",
           3831,
           16,
           255
          ],
          [
           "Lynnwood P&R",
           3832,
           14,
           1896
          ],
          [
           "Swamp Creek P&R",
           3833,
           13,
           410
          ],
          [
           "Mariner P&R",
           3834,
           24,
           667
          ],
          [
           "Snohomish",
           3835,
           7,
           104
          ],
          [
           "Marysville - Ash Ave",
           3836,
           2,
           202
          ],
          [
           "Arlington P&R",
           3839,
           8,
           25
          ],
          [
           "Monroe",
           3841,
           5,
           102
          ],
          [
           "Federal Way",
           3842,
           56,
           1190
          ],
          [
           "Port Orchard Armory",
           3843,
           165,
           105
          ],
          [
           "Southworth Ferry P&R",
           3844,
           118,
           318
          ],
          [
           "McWilliams P&R",
           3845,
           1,
           151
          ],
          [
           "Bethany Lutheran Church",
           3846,
           35,
           80
          ],
          [
           "Gateway Fellowship",
           3847,
           7,
           138
          ],
          [
           "Kingston Ferry P&R",
           3849,
           2,
           72
          ],
          [
           "Suquamish United Church of Christ",
           3850,
           4,
           65
          ],
          [
           "Bainbridge Island Ferry",
           3851,
           195,
           187
          ],
          [
           "Puyallup Station (NB)",
           3852,
           19,
           522
          ],
          [
           "72nd Street Transit Center",
           3853,
           6,
           68
          ],
          [
           "DuPont",
           3855,
           1,
           126
          ],
          [
           "Aurora Village TC",
           3856,
           73,
           202
          ],
          [
           "Aurora Nazarene",
           3857,
           18,
           116
          ],
          [
           "Saint Margaret's Episcopal",
           3858,
           17,
           64
          ],
          [
           "Lake Meridian P&R",
           3861,
           10,
           172
          ],
          [
           "Smokey Pt. Church",
           3862,
           4,
           50
          ],
          [
           "Eastmont P&R",
           3863,
           2,
           389
          ],
          [
           "McCollum Park P&R",
           3864,
           16,
           409
          ],
          [
           "Canyon Park P&R",
           3865,
           9,
           298
          ],
          [
           "Korean Presby. P&R",
           3866,
           13,
           25
          ],
          [
           "Poulsbo Church of the Nazarene",
           3868,
           1,
           266
          ],
          [
           "Harper Evangelical Free Church",
           3870,
           10,
           462
          ],
          [
           "Mullenix Road",
           3871,
           5,
           92
          ],
          [
           "TCC P&R",
           3873,
           14,
           95
          ],
          [
           "Ash Way P&R",
           3874,
           64,
           1019
          ],
          [
           "Bonney Lake P&R",
           3875,
           6,
           356
          ],
          [
           "Tukwila Int. Station",
           3876,
           368,
           600
          ],
          [
           "South Hill P&R",
           3877,
           7,
           354
          ],
          [
           "Issaquah Highlands",
           3879,
           29,
           1000
          ],
          [
           "Lake Stevens TC",
           3880,
           9,
           207
          ],
          [
           "Liberty Bay Presbyterian",
           3881,
           1,
           90
          ],
          [
           "NK Baptist",
           3882,
           3,
           57
          ],
          [
           "Preston P&R",
           3883,
           31,
           53
          ],
          [
           "Bayside Community Church",
           3884,
           3,
           210
          ],
          [
           "Bremerton Ferry",
           3886,
           138,
           566
          ],
          [
           "Puyallup Fair's Red Lot",
           3888,
           317,
           219
          ],
          [
           "Marysville - Cedar & Grove",
           3889,
           6,
           213
          ],
          [
           "Marysville I P&R",
           3891,
           1,
           74
          ],
          [
           "Martha Lake Covenant Church",
           3892,
           6,
           75
          ],
          [
           "South Sammammish P&R",
           3893,
           1,
           265
          ],
          [
           "Renton City Municipal Garage",
           3894,
           21,
           150
          ],
          [
           "Tibbetts Lot",
           3895,
           6,
           170
          ],
          [
           "Renton Transit Center",
           3896,
           15,
           150
          ],
          [
           "Calvary Christian Assembly",
           3897,
           56,
           125
          ],
          [
           "Maple Valley Town Square",
           3898,
           4,
           90
          ],
          [
           "All Saints Lutheran Church",
           3899,
           6,
           75
          ],
          [
           "City View Church",
           3900,
           72,
           96
          ],
          [
           "Northwest University 6710 Bldg.",
           3901,
           6,
           61
          ],
          [
           "Sammamish Lutheran P&R",
           3902,
           4,
           54
          ],
          [
           "Redmond Ridge P&R",
           3903,
           3,
           52
          ],
          [
           "Kennydale United Methodist Church",
           3904,
           7,
           50
          ],
          [
           "Nativity Lutheran Church",
           3905,
           2,
           49
          ],
          [
           "South SeaTac (LR)",
           3907,
           1115,
           1160
          ],
          [
           "Everett Station",
           3908,
           78,
           160
          ],
          [
           null,
           3951,
           10,
           54
          ]
         ],
         "hovertemplate": "Boardings/Capacity=%{marker.color}<br>lat=%{lat}<br>lon=%{lon}<br>name=%{customdata[0]}<br>taz=%{customdata[1]}<br>Model Boardings=%{customdata[2]}<br>Capacity=%{customdata[3]}<extra></extra>",
         "lat": [
          47.459791189113055,
          47.240587026940496,
          47.97553008822413,
          47.201048326678425,
          47.949202090593815,
          47.383970408531425,
          47.30597098022815,
          47.153298431654285,
          47.56718379854233,
          47.193060762628754,
          47.29373336434266,
          47.631646481329874,
          47.64429306998266,
          47.35504335733807,
          47.3163618931415,
          47.74282207119212,
          47.08271784155433,
          47.140757778268615,
          47.14791172694066,
          47.161484802874284,
          47.23400250827875,
          47.21362968300981,
          47.20552052830966,
          47.38923379023241,
          47.30559584671795,
          47.289041380796476,
          47.31163591874175,
          47.32142070370895,
          47.7104244936842,
          47.39168729512872,
          47.38491251743171,
          47.469518524026284,
          47.48197741301064,
          47.39722692921272,
          47.47271938615727,
          47.50715467593467,
          47.5421344859425,
          47.58878969142359,
          47.57701316304821,
          47.55704702946253,
          47.55136704272614,
          47.564129961427035,
          47.58629181288903,
          47.60395259926627,
          47.580583829158485,
          47.49597432021159,
          47.63677734251024,
          47.616380743797244,
          47.64418998070187,
          47.63297717439434,
          47.66816331814846,
          47.75569187858501,
          47.6765003576322,
          47.62160396082053,
          47.42287235072545,
          47.674169895277565,
          47.71630675038611,
          47.74096553654258,
          47.76143815613439,
          47.75869948424539,
          47.75911072833425,
          47.759457740337254,
          47.75702879699488,
          47.520273185221846,
          47.571714184646375,
          47.67673605768736,
          47.70239443761157,
          47.735650070604855,
          47.76687666732243,
          47.897149496501655,
          47.45193656025647,
          47.50832497753617,
          47.786023838048486,
          47.786405217140484,
          47.81083814590226,
          47.805505328682436,
          47.81595811606588,
          47.851158747803034,
          47.879273837323716,
          47.931600004686565,
          48.052799958531104,
          48.196226663014926,
          47.86853209498515,
          47.31771355238481,
          47.53346196599079,
          47.51175930997434,
          47.620810382951404,
          47.635076024273125,
          47.733914565835,
          47.798924738192895,
          47.733267845932694,
          47.62400593156234,
          47.19226982725735,
          47.192971542906285,
          47.08990334694735,
          47.77471134386238,
          47.75619875057065,
          47.56885032852624,
          47.36115476012324,
          48.15732422532287,
          47.91577651606941,
          47.880528888492265,
          47.79421797219861,
          47.78299309998247,
          47.759682723438075,
          47.50395364516145,
          47.4683127358232,
          47.24317915202268,
          47.852265826626585,
          47.17424906089401,
          47.46462822513558,
          47.161515219367466,
          47.54548131124219,
          47.99833018258796,
          47.73132891345255,
          47.74896727800608,
          47.52729295506841,
          47.799607552327174,
          47.56371171355699,
          47.185461659521216,
          48.06186352787003,
          48.05093832410037,
          47.85078851793791,
          47.582163360805794,
          47.48065386274714,
          47.54050303955318,
          47.48170670581923,
          47.67825835598132,
          47.36261650204512,
          47.35719493962773,
          47.48028761734057,
          47.66655727817533,
          47.601973031740954,
          47.68558355990292,
          47.51822107506604,
          47.4435715904644,
          47.42300305792277,
          47.60111801912681,
          47.302354813300944
         ],
         "legendgroup": "",
         "lon": [
          -122.24142204292801,
          -122.42559764232288,
          -122.19768602099377,
          -122.24474142310243,
          -122.29903798331632,
          -122.23410004243462,
          -122.23148352515318,
          -122.49859252745824,
          -122.65169744997347,
          -122.29627387444259,
          -122.3599437944882,
          -122.6376553285978,
          -122.13352825516421,
          -122.30994876622252,
          -122.58550724037367,
          -121.98519670565817,
          -122.43467115344275,
          -122.30342870923496,
          -122.43537507130094,
          -122.4832269556689,
          -122.49605950380925,
          -122.46823390072736,
          -122.46332756461389,
          -122.62545806801099,
          -122.51464330348125,
          -122.32271243809302,
          -122.30155617219685,
          -122.22738331793343,
          -122.20748786443893,
          -122.28801450038526,
          -122.24251278515935,
          -122.33865108623566,
          -122.26898729590523,
          -122.04489635419205,
          -122.2140249890397,
          -122.18367513597434,
          -122.06181211149554,
          -122.23166518784704,
          -122.22739995414824,
          -122.1886194896657,
          -122.17957103217213,
          -122.17018509756201,
          -122.1904053737166,
          -122.1855070751748,
          -122.15247915819556,
          -121.78890814933835,
          -122.23793067783187,
          -122.21058496428182,
          -122.19692070930883,
          -122.1356025761157,
          -122.18466300042218,
          -122.31907049448232,
          -122.12357646358394,
          -122.22848578037559,
          -122.4617588893532,
          -122.10086680270592,
          -122.18764374421475,
          -122.18801850253551,
          -122.25089711182129,
          -122.24193472527783,
          -122.25940207427163,
          -122.20174474164908,
          -122.15150344952004,
          -122.33619477501689,
          -122.36486292041623,
          -122.3207479132486,
          -122.3263535981885,
          -122.3238311992929,
          -122.34679899076795,
          -122.21539257019184,
          -122.45962271847641,
          -122.46527095271402,
          -122.31456649794684,
          -122.30895559283637,
          -122.38443648143998,
          -122.33045854744478,
          -122.29397697243073,
          -122.2762912947167,
          -122.23819674557204,
          -122.10076917207742,
          -122.18350218748834,
          -122.129183066928,
          -121.9960708438206,
          -122.30476126399772,
          -122.61872855042411,
          -122.4985314823769,
          -122.62808145181158,
          -122.53684064463692,
          -122.63927304886704,
          -122.497145659761,
          -122.55779654978755,
          -122.51049641551649,
          -122.29638289622436,
          -122.41141133327692,
          -122.6408244608136,
          -122.34274243377105,
          -122.33571558742703,
          -122.16885945632364,
          -122.16596694150272,
          -122.18235612206618,
          -122.2039867300772,
          -122.22076355008004,
          -122.21165372444678,
          -122.34737059623502,
          -122.65215146199641,
          -122.51509635593781,
          -122.6219458140525,
          -122.52527889141626,
          -122.25855174480624,
          -122.18490269497767,
          -122.28690849789872,
          -122.30486983988138,
          -122.01943008905627,
          -122.1037985047417,
          -122.63760529985272,
          -122.6376022779008,
          -121.93697928446608,
          -122.508528546698,
          -122.6250481725124,
          -122.29928303340452,
          -122.17950440147415,
          -122.18326561243495,
          -122.2711389215377,
          -122.03642859327114,
          -122.20850143259241,
          -122.06172743208168,
          -122.20744093150329,
          -122.31799001747187,
          -122.0201427495308,
          -122.29322515985572,
          -122.22017447638363,
          -122.19590687558149,
          -122.03476548005801,
          -122.03407154200131,
          -122.20129952764448,
          -122.15522089858798,
          -122.29884833358034,
          -122.63061955933047,
          -122.25777874175822
         ],
         "marker": {
          "color": [
           0.2564102564102564,
           0.09680245291283399,
           0.06091846298031865,
           0.8245033112582781,
           0.06349206349206349,
           0.4367469879518072,
           1.0078616352201257,
           0.01,
           0.5480769230769231,
           0.2509578544061303,
           0.0033333333333333335,
           0.06542056074766354,
           0.3188854489164087,
           0.0028694404591104736,
           0.0196078431372549,
           0.02040816326530612,
           0.05,
           0.8,
           0.16129032258064516,
           0.04056795131845842,
           0.18666666666666668,
           0.07333333333333333,
           0.05128205128205128,
           0.005,
           0.05063291139240506,
           0.017475728155339806,
           0.09692132269099202,
           0.008379888268156424,
           0.45,
           0.0297029702970297,
           0.13183730715287517,
           0.08401639344262295,
           0.11235955056179775,
           0.00819672131147541,
           0.1038961038961039,
           0.015625,
           0.08,
           0.4250559284116331,
           0.6666666666666666,
           0.01090909090909091,
           0.02702702702702703,
           0.02666666666666667,
           0.019333333333333334,
           0.04838709677419355,
           0.029120198265179677,
           0.0625,
           1.6862745098039216,
           0.56,
           0.017834394904458598,
           0.24630541871921183,
           0.00851063829787234,
           0.05,
           0.26666666666666666,
           0.3125,
           0.05454545454545454,
           0.03592814371257485,
           0.09561752988047809,
           0.01652892561983471,
           0.06382978723404255,
           0.06965174129353234,
           0.8533333333333334,
           0.2863636363636364,
           0.02832244008714597,
           0.19,
           1.4727272727272727,
           0.36739659367396593,
           1.8462603878116344,
           0.198,
           0.07124681933842239,
           0.02506265664160401,
           0.16666666666666666,
           0.5260869565217391,
           0.036613272311212815,
           0.25,
           0.007722007722007722,
           0.06274509803921569,
           0.007383966244725738,
           0.03170731707317073,
           0.035982008995502246,
           0.0673076923076923,
           0.009900990099009901,
           0.32,
           0.049019607843137254,
           0.047058823529411764,
           1.5714285714285714,
           0.3710691823899371,
           0.006622516556291391,
           0.4375,
           0.050724637681159424,
           0.027777777777777776,
           0.06153846153846154,
           1.0427807486631016,
           0.03639846743295019,
           0.08823529411764706,
           0.007936507936507936,
           0.3613861386138614,
           0.15517241379310345,
           0.265625,
           0.05813953488372093,
           0.08,
           0.005141388174807198,
           0.039119804400977995,
           0.030201342281879196,
           0.52,
           0.0037593984962406013,
           0.021645021645021644,
           0.05434782608695652,
           0.14736842105263157,
           0.06280667320902845,
           0.016853932584269662,
           0.6133333333333333,
           0.01977401129943503,
           0.029,
           0.043478260869565216,
           0.011111111111111112,
           0.05263157894736842,
           0.5849056603773585,
           0.014285714285714285,
           0.24381625441696114,
           1.447488584474886,
           0.028169014084507043,
           0.013513513513513514,
           0.08,
           0.0037735849056603774,
           0.14,
           0.03529411764705882,
           0.1,
           0.448,
           0.044444444444444446,
           0.08,
           0.75,
           0.09836065573770492,
           0.07407407407407407,
           0.057692307692307696,
           0.14,
           0.04081632653061224,
           0.9612068965517241,
           0.4875,
           0.18518518518518517
          ],
          "coloraxis": "coloraxis",
          "size": [
           0.2564102564102564,
           0.09680245291283399,
           0.06091846298031865,
           0.8245033112582781,
           0.06349206349206349,
           0.4367469879518072,
           1.0078616352201257,
           0.01,
           0.5480769230769231,
           0.2509578544061303,
           0.0033333333333333335,
           0.06542056074766354,
           0.3188854489164087,
           0.0028694404591104736,
           0.0196078431372549,
           0.02040816326530612,
           0.05,
           0.8,
           0.16129032258064516,
           0.04056795131845842,
           0.18666666666666668,
           0.07333333333333333,
           0.05128205128205128,
           0.005,
           0.05063291139240506,
           0.017475728155339806,
           0.09692132269099202,
           0.008379888268156424,
           0.45,
           0.0297029702970297,
           0.13183730715287517,
           0.08401639344262295,
           0.11235955056179775,
           0.00819672131147541,
           0.1038961038961039,
           0.015625,
           0.08,
           0.4250559284116331,
           0.6666666666666666,
           0.01090909090909091,
           0.02702702702702703,
           0.02666666666666667,
           0.019333333333333334,
           0.04838709677419355,
           0.029120198265179677,
           0.0625,
           1.6862745098039216,
           0.56,
           0.017834394904458598,
           0.24630541871921183,
           0.00851063829787234,
           0.05,
           0.26666666666666666,
           0.3125,
           0.05454545454545454,
           0.03592814371257485,
           0.09561752988047809,
           0.01652892561983471,
           0.06382978723404255,
           0.06965174129353234,
           0.8533333333333334,
           0.2863636363636364,
           0.02832244008714597,
           0.19,
           1.4727272727272727,
           0.36739659367396593,
           1.8462603878116344,
           0.198,
           0.07124681933842239,
           0.02506265664160401,
           0.16666666666666666,
           0.5260869565217391,
           0.036613272311212815,
           0.25,
           0.007722007722007722,
           0.06274509803921569,
           0.007383966244725738,
           0.03170731707317073,
           0.035982008995502246,
           0.0673076923076923,
           0.009900990099009901,
           0.32,
           0.049019607843137254,
           0.047058823529411764,
           1.5714285714285714,
           0.3710691823899371,
           0.006622516556291391,
           0.4375,
           0.050724637681159424,
           0.027777777777777776,
           0.06153846153846154,
           1.0427807486631016,
           0.03639846743295019,
           0.08823529411764706,
           0.007936507936507936,
           0.3613861386138614,
           0.15517241379310345,
           0.265625,
           0.05813953488372093,
           0.08,
           0.005141388174807198,
           0.039119804400977995,
           0.030201342281879196,
           0.52,
           0.0037593984962406013,
           0.021645021645021644,
           0.05434782608695652,
           0.14736842105263157,
           0.06280667320902845,
           0.016853932584269662,
           0.6133333333333333,
           0.01977401129943503,
           0.029,
           0.043478260869565216,
           0.011111111111111112,
           0.05263157894736842,
           0.5849056603773585,
           0.014285714285714285,
           0.24381625441696114,
           1.447488584474886,
           0.028169014084507043,
           0.013513513513513514,
           0.08,
           0.0037735849056603774,
           0.14,
           0.03529411764705882,
           0.1,
           0.448,
           0.044444444444444446,
           0.08,
           0.75,
           0.09836065573770492,
           0.07407407407407407,
           0.057692307692307696,
           0.14,
           0.04081632653061224,
           0.9612068965517241,
           0.4875,
           0.18518518518518517
          ],
          "sizemode": "area",
          "sizeref": 0.004615650969529086
         },
         "mode": "markers",
         "name": "",
         "showlegend": false,
         "subplot": "mapbox",
         "type": "scattermapbox"
        }
       ],
       "layout": {
        "coloraxis": {
         "colorbar": {
          "title": {
           "text": "Boardings/Capacity"
          }
         },
         "colorscale": [
          [
           0.0,
           "#440154"
          ],
          [
           0.1111111111111111,
           "#482878"
          ],
          [
           0.2222222222222222,
           "#3e4989"
          ],
          [
           0.3333333333333333,
           "#31688e"
          ],
          [
           0.4444444444444444,
           "#26828e"
          ],
          [
           0.5555555555555556,
           "#1f9e89"
          ],
          [
           0.6666666666666666,
           "#35b779"
          ],
          [
           0.7777777777777778,
           "#6ece58"
          ],
          [
           0.8888888888888888,
           "#b5de2b"
          ],
          [
           1.0,
           "#fde725"
          ]
         ]
        },
        "legend": {
         "itemsizing": "constant",
         "tracegroupgap": 0
        },
        "mapbox": {
         "center": {
          "lat": 47.57388685653449,
          "lon": -122.29651150551264
         },
         "domain": {
          "x": [
           0.0,
           1.0
          ],
          "y": [
           0.0,
           1.0
          ]
         },
         "style": "carto-positron",
         "zoom": 8
        },
        "margin": {
         "b": 0,
         "l": 0,
         "r": 0,
         "t": 0
        },
        "template": {
         "data": {
          "bar": [
           {
            "error_x": {
             "color": "rgb(36,36,36)"
            },
            "error_y": {
             "color": "rgb(36,36,36)"
            },
            "marker": {
             "line": {
              "color": "white",
              "width": 0.5
             },
             "pattern": {
              "fillmode": "overlay",
              "size": 10,
              "solidity": 0.2
             }
            },
            "type": "bar"
           }
          ],
          "barpolar": [
           {
            "marker": {
             "line": {
              "color": "white",
              "width": 0.5
             },
             "pattern": {
              "fillmode": "overlay",
              "size": 10,
              "solidity": 0.2
             }
            },
            "type": "barpolar"
           }
          ],
          "carpet": [
           {
            "aaxis": {
             "endlinecolor": "rgb(36,36,36)",
             "gridcolor": "white",
             "linecolor": "white",
             "minorgridcolor": "white",
             "startlinecolor": "rgb(36,36,36)"
            },
            "baxis": {
             "endlinecolor": "rgb(36,36,36)",
             "gridcolor": "white",
             "linecolor": "white",
             "minorgridcolor": "white",
             "startlinecolor": "rgb(36,36,36)"
            },
            "type": "carpet"
           }
          ],
          "choropleth": [
           {
            "colorbar": {
             "outlinewidth": 1,
             "tickcolor": "rgb(36,36,36)",
             "ticks": "outside"
            },
            "type": "choropleth"
           }
          ],
          "contour": [
           {
            "colorbar": {
             "outlinewidth": 1,
             "tickcolor": "rgb(36,36,36)",
             "ticks": "outside"
            },
            "colorscale": [
             [
              0.0,
              "#440154"
             ],
             [
              0.1111111111111111,
              "#482878"
             ],
             [
              0.2222222222222222,
              "#3e4989"
             ],
             [
              0.3333333333333333,
              "#31688e"
             ],
             [
              0.4444444444444444,
              "#26828e"
             ],
             [
              0.5555555555555556,
              "#1f9e89"
             ],
             [
              0.6666666666666666,
              "#35b779"
             ],
             [
              0.7777777777777778,
              "#6ece58"
             ],
             [
              0.8888888888888888,
              "#b5de2b"
             ],
             [
              1.0,
              "#fde725"
             ]
            ],
            "type": "contour"
           }
          ],
          "contourcarpet": [
           {
            "colorbar": {
             "outlinewidth": 1,
             "tickcolor": "rgb(36,36,36)",
             "ticks": "outside"
            },
            "type": "contourcarpet"
           }
          ],
          "heatmap": [
           {
            "colorbar": {
             "outlinewidth": 1,
             "tickcolor": "rgb(36,36,36)",
             "ticks": "outside"
            },
            "colorscale": [
             [
              0.0,
              "#440154"
             ],
             [
              0.1111111111111111,
              "#482878"
             ],
             [
              0.2222222222222222,
              "#3e4989"
             ],
             [
              0.3333333333333333,
              "#31688e"
             ],
             [
              0.4444444444444444,
              "#26828e"
             ],
             [
              0.5555555555555556,
              "#1f9e89"
             ],
             [
              0.6666666666666666,
              "#35b779"
             ],
             [
              0.7777777777777778,
              "#6ece58"
             ],
             [
              0.8888888888888888,
              "#b5de2b"
             ],
             [
              1.0,
              "#fde725"
             ]
            ],
            "type": "heatmap"
           }
          ],
          "heatmapgl": [
           {
            "colorbar": {
             "outlinewidth": 1,
             "tickcolor": "rgb(36,36,36)",
             "ticks": "outside"
            },
            "colorscale": [
             [
              0.0,
              "#440154"
             ],
             [
              0.1111111111111111,
              "#482878"
             ],
             [
              0.2222222222222222,
              "#3e4989"
             ],
             [
              0.3333333333333333,
              "#31688e"
             ],
             [
              0.4444444444444444,
              "#26828e"
             ],
             [
              0.5555555555555556,
              "#1f9e89"
             ],
             [
              0.6666666666666666,
              "#35b779"
             ],
             [
              0.7777777777777778,
              "#6ece58"
             ],
             [
              0.8888888888888888,
              "#b5de2b"
             ],
             [
              1.0,
              "#fde725"
             ]
            ],
            "type": "heatmapgl"
           }
          ],
          "histogram": [
           {
            "marker": {
             "line": {
              "color": "white",
              "width": 0.6
             }
            },
            "type": "histogram"
           }
          ],
          "histogram2d": [
           {
            "colorbar": {
             "outlinewidth": 1,
             "tickcolor": "rgb(36,36,36)",
             "ticks": "outside"
            },
            "colorscale": [
             [
              0.0,
              "#440154"
             ],
             [
              0.1111111111111111,
              "#482878"
             ],
             [
              0.2222222222222222,
              "#3e4989"
             ],
             [
              0.3333333333333333,
              "#31688e"
             ],
             [
              0.4444444444444444,
              "#26828e"
             ],
             [
              0.5555555555555556,
              "#1f9e89"
             ],
             [
              0.6666666666666666,
              "#35b779"
             ],
             [
              0.7777777777777778,
              "#6ece58"
             ],
             [
              0.8888888888888888,
              "#b5de2b"
             ],
             [
              1.0,
              "#fde725"
             ]
            ],
            "type": "histogram2d"
           }
          ],
          "histogram2dcontour": [
           {
            "colorbar": {
             "outlinewidth": 1,
             "tickcolor": "rgb(36,36,36)",
             "ticks": "outside"
            },
            "colorscale": [
             [
              0.0,
              "#440154"
             ],
             [
              0.1111111111111111,
              "#482878"
             ],
             [
              0.2222222222222222,
              "#3e4989"
             ],
             [
              0.3333333333333333,
              "#31688e"
             ],
             [
              0.4444444444444444,
              "#26828e"
             ],
             [
              0.5555555555555556,
              "#1f9e89"
             ],
             [
              0.6666666666666666,
              "#35b779"
             ],
             [
              0.7777777777777778,
              "#6ece58"
             ],
             [
              0.8888888888888888,
              "#b5de2b"
             ],
             [
              1.0,
              "#fde725"
             ]
            ],
            "type": "histogram2dcontour"
           }
          ],
          "mesh3d": [
           {
            "colorbar": {
             "outlinewidth": 1,
             "tickcolor": "rgb(36,36,36)",
             "ticks": "outside"
            },
            "type": "mesh3d"
           }
          ],
          "parcoords": [
           {
            "line": {
             "colorbar": {
              "outlinewidth": 1,
              "tickcolor": "rgb(36,36,36)",
              "ticks": "outside"
             }
            },
            "type": "parcoords"
           }
          ],
          "pie": [
           {
            "automargin": true,
            "type": "pie"
           }
          ],
          "scatter": [
           {
            "fillpattern": {
             "fillmode": "overlay",
             "size": 10,
             "solidity": 0.2
            },
            "type": "scatter"
           }
          ],
          "scatter3d": [
           {
            "line": {
             "colorbar": {
              "outlinewidth": 1,
              "tickcolor": "rgb(36,36,36)",
              "ticks": "outside"
             }
            },
            "marker": {
             "colorbar": {
              "outlinewidth": 1,
              "tickcolor": "rgb(36,36,36)",
              "ticks": "outside"
             }
            },
            "type": "scatter3d"
           }
          ],
          "scattercarpet": [
           {
            "marker": {
             "colorbar": {
              "outlinewidth": 1,
              "tickcolor": "rgb(36,36,36)",
              "ticks": "outside"
             }
            },
            "type": "scattercarpet"
           }
          ],
          "scattergeo": [
           {
            "marker": {
             "colorbar": {
              "outlinewidth": 1,
              "tickcolor": "rgb(36,36,36)",
              "ticks": "outside"
             }
            },
            "type": "scattergeo"
           }
          ],
          "scattergl": [
           {
            "marker": {
             "colorbar": {
              "outlinewidth": 1,
              "tickcolor": "rgb(36,36,36)",
              "ticks": "outside"
             }
            },
            "type": "scattergl"
           }
          ],
          "scattermapbox": [
           {
            "marker": {
             "colorbar": {
              "outlinewidth": 1,
              "tickcolor": "rgb(36,36,36)",
              "ticks": "outside"
             }
            },
            "type": "scattermapbox"
           }
          ],
          "scatterpolar": [
           {
            "marker": {
             "colorbar": {
              "outlinewidth": 1,
              "tickcolor": "rgb(36,36,36)",
              "ticks": "outside"
             }
            },
            "type": "scatterpolar"
           }
          ],
          "scatterpolargl": [
           {
            "marker": {
             "colorbar": {
              "outlinewidth": 1,
              "tickcolor": "rgb(36,36,36)",
              "ticks": "outside"
             }
            },
            "type": "scatterpolargl"
           }
          ],
          "scatterternary": [
           {
            "marker": {
             "colorbar": {
              "outlinewidth": 1,
              "tickcolor": "rgb(36,36,36)",
              "ticks": "outside"
             }
            },
            "type": "scatterternary"
           }
          ],
          "surface": [
           {
            "colorbar": {
             "outlinewidth": 1,
             "tickcolor": "rgb(36,36,36)",
             "ticks": "outside"
            },
            "colorscale": [
             [
              0.0,
              "#440154"
             ],
             [
              0.1111111111111111,
              "#482878"
             ],
             [
              0.2222222222222222,
              "#3e4989"
             ],
             [
              0.3333333333333333,
              "#31688e"
             ],
             [
              0.4444444444444444,
              "#26828e"
             ],
             [
              0.5555555555555556,
              "#1f9e89"
             ],
             [
              0.6666666666666666,
              "#35b779"
             ],
             [
              0.7777777777777778,
              "#6ece58"
             ],
             [
              0.8888888888888888,
              "#b5de2b"
             ],
             [
              1.0,
              "#fde725"
             ]
            ],
            "type": "surface"
           }
          ],
          "table": [
           {
            "cells": {
             "fill": {
              "color": "rgb(237,237,237)"
             },
             "line": {
              "color": "white"
             }
            },
            "header": {
             "fill": {
              "color": "rgb(217,217,217)"
             },
             "line": {
              "color": "white"
             }
            },
            "type": "table"
           }
          ]
         },
         "layout": {
          "annotationdefaults": {
           "arrowhead": 0,
           "arrowwidth": 1
          },
          "autotypenumbers": "strict",
          "coloraxis": {
           "colorbar": {
            "outlinewidth": 1,
            "tickcolor": "rgb(36,36,36)",
            "ticks": "outside"
           }
          },
          "colorscale": {
           "diverging": [
            [
             0.0,
             "rgb(103,0,31)"
            ],
            [
             0.1,
             "rgb(178,24,43)"
            ],
            [
             0.2,
             "rgb(214,96,77)"
            ],
            [
             0.3,
             "rgb(244,165,130)"
            ],
            [
             0.4,
             "rgb(253,219,199)"
            ],
            [
             0.5,
             "rgb(247,247,247)"
            ],
            [
             0.6,
             "rgb(209,229,240)"
            ],
            [
             0.7,
             "rgb(146,197,222)"
            ],
            [
             0.8,
             "rgb(67,147,195)"
            ],
            [
             0.9,
             "rgb(33,102,172)"
            ],
            [
             1.0,
             "rgb(5,48,97)"
            ]
           ],
           "sequential": [
            [
             0.0,
             "#440154"
            ],
            [
             0.1111111111111111,
             "#482878"
            ],
            [
             0.2222222222222222,
             "#3e4989"
            ],
            [
             0.3333333333333333,
             "#31688e"
            ],
            [
             0.4444444444444444,
             "#26828e"
            ],
            [
             0.5555555555555556,
             "#1f9e89"
            ],
            [
             0.6666666666666666,
             "#35b779"
            ],
            [
             0.7777777777777778,
             "#6ece58"
            ],
            [
             0.8888888888888888,
             "#b5de2b"
            ],
            [
             1.0,
             "#fde725"
            ]
           ],
           "sequentialminus": [
            [
             0.0,
             "#440154"
            ],
            [
             0.1111111111111111,
             "#482878"
            ],
            [
             0.2222222222222222,
             "#3e4989"
            ],
            [
             0.3333333333333333,
             "#31688e"
            ],
            [
             0.4444444444444444,
             "#26828e"
            ],
            [
             0.5555555555555556,
             "#1f9e89"
            ],
            [
             0.6666666666666666,
             "#35b779"
            ],
            [
             0.7777777777777778,
             "#6ece58"
            ],
            [
             0.8888888888888888,
             "#b5de2b"
            ],
            [
             1.0,
             "#fde725"
            ]
           ]
          },
          "colorway": [
           "#91268F",
           "#8CC63E",
           "#00A7A0",
           "#F05A28",
           "#4C4C4C",
           "#630460",
           "#9f3913",
           "#588527",
           "#00716c",
           "#3e4040"
          ],
          "font": {
           "color": "rgb(36,36,36)",
           "family": "Poppins",
           "size": 11
          },
          "geo": {
           "bgcolor": "white",
           "lakecolor": "white",
           "landcolor": "white",
           "showlakes": true,
           "showland": true,
           "subunitcolor": "white"
          },
          "hoverlabel": {
           "align": "left"
          },
          "hovermode": "closest",
          "mapbox": {
           "style": "light"
          },
          "paper_bgcolor": "white",
          "plot_bgcolor": "white",
          "polar": {
           "angularaxis": {
            "gridcolor": "rgb(232,232,232)",
            "linecolor": "rgb(36,36,36)",
            "showgrid": false,
            "showline": true,
            "ticks": "outside"
           },
           "bgcolor": "white",
           "radialaxis": {
            "gridcolor": "rgb(232,232,232)",
            "linecolor": "rgb(36,36,36)",
            "showgrid": false,
            "showline": true,
            "ticks": "outside"
           }
          },
          "scene": {
           "xaxis": {
            "backgroundcolor": "white",
            "gridcolor": "rgb(232,232,232)",
            "gridwidth": 2,
            "linecolor": "rgb(36,36,36)",
            "showbackground": true,
            "showgrid": false,
            "showline": true,
            "ticks": "outside",
            "zeroline": false,
            "zerolinecolor": "rgb(36,36,36)"
           },
           "yaxis": {
            "backgroundcolor": "white",
            "gridcolor": "rgb(232,232,232)",
            "gridwidth": 2,
            "linecolor": "rgb(36,36,36)",
            "showbackground": true,
            "showgrid": false,
            "showline": true,
            "ticks": "outside",
            "zeroline": false,
            "zerolinecolor": "rgb(36,36,36)"
           },
           "zaxis": {
            "backgroundcolor": "white",
            "gridcolor": "rgb(232,232,232)",
            "gridwidth": 2,
            "linecolor": "rgb(36,36,36)",
            "showbackground": true,
            "showgrid": false,
            "showline": true,
            "ticks": "outside",
            "zeroline": false,
            "zerolinecolor": "rgb(36,36,36)"
           }
          },
          "shapedefaults": {
           "fillcolor": "black",
           "line": {
            "width": 0
           },
           "opacity": 0.3
          },
          "ternary": {
           "aaxis": {
            "gridcolor": "rgb(232,232,232)",
            "linecolor": "rgb(36,36,36)",
            "showgrid": false,
            "showline": true,
            "ticks": "outside"
           },
           "baxis": {
            "gridcolor": "rgb(232,232,232)",
            "linecolor": "rgb(36,36,36)",
            "showgrid": false,
            "showline": true,
            "ticks": "outside"
           },
           "bgcolor": "white",
           "caxis": {
            "gridcolor": "rgb(232,232,232)",
            "linecolor": "rgb(36,36,36)",
            "showgrid": false,
            "showline": true,
            "ticks": "outside"
           }
          },
          "title": {
           "x": 0.05
          },
          "xaxis": {
           "automargin": true,
           "gridcolor": "rgb(232,232,232)",
           "linecolor": "rgb(36,36,36)",
           "showgrid": false,
           "showline": true,
           "ticks": "outside",
           "title": {
            "standoff": 15
           },
           "zeroline": false,
           "zerolinecolor": "rgb(36,36,36)"
          },
          "yaxis": {
           "automargin": true,
           "gridcolor": "rgb(232,232,232)",
           "linecolor": "rgb(36,36,36)",
           "showgrid": false,
           "showline": true,
           "ticks": "outside",
           "title": {
            "standoff": 15
           },
           "zeroline": false,
           "zerolinecolor": "rgb(36,36,36)"
          }
         }
        },
        "title": {
         "text": "Park and Ride Usage vs Capacity"
        }
       }
      },
      "text/html": [
       "<div>                            <div id=\"1b45028d-b1dd-4b85-b9f0-5478adbda27b\" class=\"plotly-graph-div\" style=\"height:525px; width:100%;\"></div>            <script type=\"text/javascript\">                require([\"plotly\"], function(Plotly) {                    window.PLOTLYENV=window.PLOTLYENV || {};                                    if (document.getElementById(\"1b45028d-b1dd-4b85-b9f0-5478adbda27b\")) {                    Plotly.newPlot(                        \"1b45028d-b1dd-4b85-b9f0-5478adbda27b\",                        [{\"customdata\":[[\"Tukwila Station (CR)\",3751,100,390],[\"Tacoma Dome Station\",3752,221,2283],[\"Everett Station (CR)\",3754,65,1067],[\"Sumner Station (CR)\",3755,249,302],[\"Mukilteo Station\",3756,4,63],[\"Kent Station (CR)\",3757,435,996],[\"Auburn Station (CR)\",3758,641,636],[\"Lakewood (CR)\",3759,6,600],[\"Gateway P&R\",3760,57,104],[\"Puyallup Station (SB)\",3761,131,522],[\"Twin Lakes P&R\",3762,2,600],[\"Crossroads Neighborhood Church\",3763,7,107],[\"Overlake Transit Center\",3764,103,323],[\"Redondo Heights P&R\",3765,2,697],[\"North Gig Harbor\\u002fKimball Drive\",3766,6,306],[\"Duvall P&R\",3767,1,49],[\"Roy 'Y' P&R\",3768,5,100],[\"South Hill (Elim Evangelical)\",3769,16,20],[\"Parkland Transit Center\",3770,10,62],[\"SR-512\\u002fI-5 (Lakewood)\",3771,20,493],[\"Center Street P&R\",3772,14,75],[\"Tacoma Mall Transit Center\",3773,11,150],[\"South Tacoma West\",3774,4,78],[\"North Purdy\\u002fPurdy Crescent\",3777,1,200],[\"Point Defiance Ferry\",3778,4,79],[\"South Federal P&R\",3779,9,515],[\"Federal Way P&R (320th)\",3781,85,877],[\"Auburn P&R\",3782,3,358],[\"Holy Spirit Lutheran Church\",3784,18,40],[\"Kent\\u002fDes Moines P&R\",3785,12,404],[\"Kent\\u002fJames St. P&R\",3786,94,713],[\"Burien Transit Center\",3787,41,488],[\"Tukwila\",3788,30,267],[\"Maple Valley P&R\",3789,1,122],[\"South Renton P&R\",3790,40,385],[\"Renton Highlands P&R (St. Matts)\",3791,2,128],[\"Issaquah Transit Center\",3792,16,200],[\"Mercer Island P&R\",3793,190,447],[\"Mercer Island Presbyterian\",3794,20,30],[\"Newport Hills P&R\",3795,3,275],[\"Newport Hills Community Church\",3796,1,37],[\"Newport Covenant Church\",3797,2,75],[\"South Bellevue P&R\",3798,29,1500],[\"Wilburton\",3799,9,186],[\"Eastgate P&R\",3800,47,1614],[\"North Bend P&R\",3801,5,80],[\"Evergreen Point P&R\",3802,86,51],[\"Grace Lutheran Church\",3803,28,50],[\"South Kirkland P&R\",3804,14,785],[\"Overlake P&R\",3805,50,203],[\"Houghton P&R\",3806,4,470],[\"Bethel Lutheran\",3807,2,40],[\"Redmond P&R\",3808,40,150],[\"Saint Thomas Episcopal\",3809,15,48],[\"Valley Center\",3810,3,55],[\"Bear Creek P&R\",3811,12,334],[\"Kingsgate P&R\",3812,48,502],[\"Brickyard P&R\",3813,4,242],[\"Northshore P&R\",3814,24,376],[\"Kenmore P&R\",3815,42,603],[\"Bethany Bible Church\",3816,64,75],[\"Bothell P&R\",3817,63,220],[\"Woodinville P&R\",3818,13,459],[\"Olson & Meyers\",3819,19,100],[\"Spokane Street P&R\",3820,81,55],[\"Greenlake P&R\",3821,151,411],[\"Northgate TC\",3822,2666,1444],[\"North Jackson Park\",3823,99,500],[\"Shoreline\",3824,28,393],[\"112th St. & I-5\",3825,10,399],[\"Ober Park\",3826,8,48],[\"Vashon Heights\",3827,121,230],[\"Mountlake Terrace P&R\",3828,32,874],[\"Bethesda Lutheran\",3829,5,20],[\"Edmonds Station\",3830,2,259],[\"Edmonds P&R\",3831,16,255],[\"Lynnwood P&R\",3832,14,1896],[\"Swamp Creek P&R\",3833,13,410],[\"Mariner P&R\",3834,24,667],[\"Snohomish\",3835,7,104],[\"Marysville - Ash Ave\",3836,2,202],[\"Arlington P&R\",3839,8,25],[\"Monroe\",3841,5,102],[\"Federal Way\",3842,56,1190],[\"Port Orchard Armory\",3843,165,105],[\"Southworth Ferry P&R\",3844,118,318],[\"McWilliams P&R\",3845,1,151],[\"Bethany Lutheran Church\",3846,35,80],[\"Gateway Fellowship\",3847,7,138],[\"Kingston Ferry P&R\",3849,2,72],[\"Suquamish United Church of Christ\",3850,4,65],[\"Bainbridge Island Ferry\",3851,195,187],[\"Puyallup Station (NB)\",3852,19,522],[\"72nd Street Transit Center\",3853,6,68],[\"DuPont\",3855,1,126],[\"Aurora Village TC\",3856,73,202],[\"Aurora Nazarene\",3857,18,116],[\"Saint Margaret's Episcopal\",3858,17,64],[\"Lake Meridian P&R\",3861,10,172],[\"Smokey Pt. Church\",3862,4,50],[\"Eastmont P&R\",3863,2,389],[\"McCollum Park P&R\",3864,16,409],[\"Canyon Park P&R\",3865,9,298],[\"Korean Presby. P&R\",3866,13,25],[\"Poulsbo Church of the Nazarene\",3868,1,266],[\"Harper Evangelical Free Church\",3870,10,462],[\"Mullenix Road\",3871,5,92],[\"TCC P&R\",3873,14,95],[\"Ash Way P&R\",3874,64,1019],[\"Bonney Lake P&R\",3875,6,356],[\"Tukwila Int. Station\",3876,368,600],[\"South Hill P&R\",3877,7,354],[\"Issaquah Highlands\",3879,29,1000],[\"Lake Stevens TC\",3880,9,207],[\"Liberty Bay Presbyterian\",3881,1,90],[\"NK Baptist\",3882,3,57],[\"Preston P&R\",3883,31,53],[\"Bayside Community Church\",3884,3,210],[\"Bremerton Ferry\",3886,138,566],[\"Puyallup Fair's Red Lot\",3888,317,219],[\"Marysville - Cedar & Grove\",3889,6,213],[\"Marysville I P&R\",3891,1,74],[\"Martha Lake Covenant Church\",3892,6,75],[\"South Sammammish P&R\",3893,1,265],[\"Renton City Municipal Garage\",3894,21,150],[\"Tibbetts Lot\",3895,6,170],[\"Renton Transit Center\",3896,15,150],[\"Calvary Christian Assembly\",3897,56,125],[\"Maple Valley Town Square\",3898,4,90],[\"All Saints Lutheran Church\",3899,6,75],[\"City View Church\",3900,72,96],[\"Northwest University 6710 Bldg.\",3901,6,61],[\"Sammamish Lutheran P&R\",3902,4,54],[\"Redmond Ridge P&R\",3903,3,52],[\"Kennydale United Methodist Church\",3904,7,50],[\"Nativity Lutheran Church\",3905,2,49],[\"South SeaTac (LR)\",3907,1115,1160],[\"Everett Station\",3908,78,160],[null,3951,10,54]],\"hovertemplate\":\"Boardings\\u002fCapacity=%{marker.color}\\u003cbr\\u003elat=%{lat}\\u003cbr\\u003elon=%{lon}\\u003cbr\\u003ename=%{customdata[0]}\\u003cbr\\u003etaz=%{customdata[1]}\\u003cbr\\u003eModel Boardings=%{customdata[2]}\\u003cbr\\u003eCapacity=%{customdata[3]}\\u003cextra\\u003e\\u003c\\u002fextra\\u003e\",\"lat\":[47.459791189113055,47.240587026940496,47.97553008822413,47.201048326678425,47.949202090593815,47.383970408531425,47.30597098022815,47.153298431654285,47.56718379854233,47.193060762628754,47.29373336434266,47.631646481329874,47.64429306998266,47.35504335733807,47.3163618931415,47.74282207119212,47.08271784155433,47.140757778268615,47.14791172694066,47.161484802874284,47.23400250827875,47.21362968300981,47.20552052830966,47.38923379023241,47.30559584671795,47.289041380796476,47.31163591874175,47.32142070370895,47.7104244936842,47.39168729512872,47.38491251743171,47.469518524026284,47.48197741301064,47.39722692921272,47.47271938615727,47.50715467593467,47.5421344859425,47.58878969142359,47.57701316304821,47.55704702946253,47.55136704272614,47.564129961427035,47.58629181288903,47.60395259926627,47.580583829158485,47.49597432021159,47.63677734251024,47.616380743797244,47.64418998070187,47.63297717439434,47.66816331814846,47.75569187858501,47.6765003576322,47.62160396082053,47.42287235072545,47.674169895277565,47.71630675038611,47.74096553654258,47.76143815613439,47.75869948424539,47.75911072833425,47.759457740337254,47.75702879699488,47.520273185221846,47.571714184646375,47.67673605768736,47.70239443761157,47.735650070604855,47.76687666732243,47.897149496501655,47.45193656025647,47.50832497753617,47.786023838048486,47.786405217140484,47.81083814590226,47.805505328682436,47.81595811606588,47.851158747803034,47.879273837323716,47.931600004686565,48.052799958531104,48.196226663014926,47.86853209498515,47.31771355238481,47.53346196599079,47.51175930997434,47.620810382951404,47.635076024273125,47.733914565835,47.798924738192895,47.733267845932694,47.62400593156234,47.19226982725735,47.192971542906285,47.08990334694735,47.77471134386238,47.75619875057065,47.56885032852624,47.36115476012324,48.15732422532287,47.91577651606941,47.880528888492265,47.79421797219861,47.78299309998247,47.759682723438075,47.50395364516145,47.4683127358232,47.24317915202268,47.852265826626585,47.17424906089401,47.46462822513558,47.161515219367466,47.54548131124219,47.99833018258796,47.73132891345255,47.74896727800608,47.52729295506841,47.799607552327174,47.56371171355699,47.185461659521216,48.06186352787003,48.05093832410037,47.85078851793791,47.582163360805794,47.48065386274714,47.54050303955318,47.48170670581923,47.67825835598132,47.36261650204512,47.35719493962773,47.48028761734057,47.66655727817533,47.601973031740954,47.68558355990292,47.51822107506604,47.4435715904644,47.42300305792277,47.60111801912681,47.302354813300944],\"legendgroup\":\"\",\"lon\":[-122.24142204292801,-122.42559764232288,-122.19768602099377,-122.24474142310243,-122.29903798331632,-122.23410004243462,-122.23148352515318,-122.49859252745824,-122.65169744997347,-122.29627387444259,-122.3599437944882,-122.6376553285978,-122.13352825516421,-122.30994876622252,-122.58550724037367,-121.98519670565817,-122.43467115344275,-122.30342870923496,-122.43537507130094,-122.4832269556689,-122.49605950380925,-122.46823390072736,-122.46332756461389,-122.62545806801099,-122.51464330348125,-122.32271243809302,-122.30155617219685,-122.22738331793343,-122.20748786443893,-122.28801450038526,-122.24251278515935,-122.33865108623566,-122.26898729590523,-122.04489635419205,-122.2140249890397,-122.18367513597434,-122.06181211149554,-122.23166518784704,-122.22739995414824,-122.1886194896657,-122.17957103217213,-122.17018509756201,-122.1904053737166,-122.1855070751748,-122.15247915819556,-121.78890814933835,-122.23793067783187,-122.21058496428182,-122.19692070930883,-122.1356025761157,-122.18466300042218,-122.31907049448232,-122.12357646358394,-122.22848578037559,-122.4617588893532,-122.10086680270592,-122.18764374421475,-122.18801850253551,-122.25089711182129,-122.24193472527783,-122.25940207427163,-122.20174474164908,-122.15150344952004,-122.33619477501689,-122.36486292041623,-122.3207479132486,-122.3263535981885,-122.3238311992929,-122.34679899076795,-122.21539257019184,-122.45962271847641,-122.46527095271402,-122.31456649794684,-122.30895559283637,-122.38443648143998,-122.33045854744478,-122.29397697243073,-122.2762912947167,-122.23819674557204,-122.10076917207742,-122.18350218748834,-122.129183066928,-121.9960708438206,-122.30476126399772,-122.61872855042411,-122.4985314823769,-122.62808145181158,-122.53684064463692,-122.63927304886704,-122.497145659761,-122.55779654978755,-122.51049641551649,-122.29638289622436,-122.41141133327692,-122.6408244608136,-122.34274243377105,-122.33571558742703,-122.16885945632364,-122.16596694150272,-122.18235612206618,-122.2039867300772,-122.22076355008004,-122.21165372444678,-122.34737059623502,-122.65215146199641,-122.51509635593781,-122.6219458140525,-122.52527889141626,-122.25855174480624,-122.18490269497767,-122.28690849789872,-122.30486983988138,-122.01943008905627,-122.1037985047417,-122.63760529985272,-122.6376022779008,-121.93697928446608,-122.508528546698,-122.6250481725124,-122.29928303340452,-122.17950440147415,-122.18326561243495,-122.2711389215377,-122.03642859327114,-122.20850143259241,-122.06172743208168,-122.20744093150329,-122.31799001747187,-122.0201427495308,-122.29322515985572,-122.22017447638363,-122.19590687558149,-122.03476548005801,-122.03407154200131,-122.20129952764448,-122.15522089858798,-122.29884833358034,-122.63061955933047,-122.25777874175822],\"marker\":{\"color\":[0.2564102564102564,0.09680245291283399,0.06091846298031865,0.8245033112582781,0.06349206349206349,0.4367469879518072,1.0078616352201257,0.01,0.5480769230769231,0.2509578544061303,0.0033333333333333335,0.06542056074766354,0.3188854489164087,0.0028694404591104736,0.0196078431372549,0.02040816326530612,0.05,0.8,0.16129032258064516,0.04056795131845842,0.18666666666666668,0.07333333333333333,0.05128205128205128,0.005,0.05063291139240506,0.017475728155339806,0.09692132269099202,0.008379888268156424,0.45,0.0297029702970297,0.13183730715287517,0.08401639344262295,0.11235955056179775,0.00819672131147541,0.1038961038961039,0.015625,0.08,0.4250559284116331,0.6666666666666666,0.01090909090909091,0.02702702702702703,0.02666666666666667,0.019333333333333334,0.04838709677419355,0.029120198265179677,0.0625,1.6862745098039216,0.56,0.017834394904458598,0.24630541871921183,0.00851063829787234,0.05,0.26666666666666666,0.3125,0.05454545454545454,0.03592814371257485,0.09561752988047809,0.01652892561983471,0.06382978723404255,0.06965174129353234,0.8533333333333334,0.2863636363636364,0.02832244008714597,0.19,1.4727272727272727,0.36739659367396593,1.8462603878116344,0.198,0.07124681933842239,0.02506265664160401,0.16666666666666666,0.5260869565217391,0.036613272311212815,0.25,0.007722007722007722,0.06274509803921569,0.007383966244725738,0.03170731707317073,0.035982008995502246,0.0673076923076923,0.009900990099009901,0.32,0.049019607843137254,0.047058823529411764,1.5714285714285714,0.3710691823899371,0.006622516556291391,0.4375,0.050724637681159424,0.027777777777777776,0.06153846153846154,1.0427807486631016,0.03639846743295019,0.08823529411764706,0.007936507936507936,0.3613861386138614,0.15517241379310345,0.265625,0.05813953488372093,0.08,0.005141388174807198,0.039119804400977995,0.030201342281879196,0.52,0.0037593984962406013,0.021645021645021644,0.05434782608695652,0.14736842105263157,0.06280667320902845,0.016853932584269662,0.6133333333333333,0.01977401129943503,0.029,0.043478260869565216,0.011111111111111112,0.05263157894736842,0.5849056603773585,0.014285714285714285,0.24381625441696114,1.447488584474886,0.028169014084507043,0.013513513513513514,0.08,0.0037735849056603774,0.14,0.03529411764705882,0.1,0.448,0.044444444444444446,0.08,0.75,0.09836065573770492,0.07407407407407407,0.057692307692307696,0.14,0.04081632653061224,0.9612068965517241,0.4875,0.18518518518518517],\"coloraxis\":\"coloraxis\",\"size\":[0.2564102564102564,0.09680245291283399,0.06091846298031865,0.8245033112582781,0.06349206349206349,0.4367469879518072,1.0078616352201257,0.01,0.5480769230769231,0.2509578544061303,0.0033333333333333335,0.06542056074766354,0.3188854489164087,0.0028694404591104736,0.0196078431372549,0.02040816326530612,0.05,0.8,0.16129032258064516,0.04056795131845842,0.18666666666666668,0.07333333333333333,0.05128205128205128,0.005,0.05063291139240506,0.017475728155339806,0.09692132269099202,0.008379888268156424,0.45,0.0297029702970297,0.13183730715287517,0.08401639344262295,0.11235955056179775,0.00819672131147541,0.1038961038961039,0.015625,0.08,0.4250559284116331,0.6666666666666666,0.01090909090909091,0.02702702702702703,0.02666666666666667,0.019333333333333334,0.04838709677419355,0.029120198265179677,0.0625,1.6862745098039216,0.56,0.017834394904458598,0.24630541871921183,0.00851063829787234,0.05,0.26666666666666666,0.3125,0.05454545454545454,0.03592814371257485,0.09561752988047809,0.01652892561983471,0.06382978723404255,0.06965174129353234,0.8533333333333334,0.2863636363636364,0.02832244008714597,0.19,1.4727272727272727,0.36739659367396593,1.8462603878116344,0.198,0.07124681933842239,0.02506265664160401,0.16666666666666666,0.5260869565217391,0.036613272311212815,0.25,0.007722007722007722,0.06274509803921569,0.007383966244725738,0.03170731707317073,0.035982008995502246,0.0673076923076923,0.009900990099009901,0.32,0.049019607843137254,0.047058823529411764,1.5714285714285714,0.3710691823899371,0.006622516556291391,0.4375,0.050724637681159424,0.027777777777777776,0.06153846153846154,1.0427807486631016,0.03639846743295019,0.08823529411764706,0.007936507936507936,0.3613861386138614,0.15517241379310345,0.265625,0.05813953488372093,0.08,0.005141388174807198,0.039119804400977995,0.030201342281879196,0.52,0.0037593984962406013,0.021645021645021644,0.05434782608695652,0.14736842105263157,0.06280667320902845,0.016853932584269662,0.6133333333333333,0.01977401129943503,0.029,0.043478260869565216,0.011111111111111112,0.05263157894736842,0.5849056603773585,0.014285714285714285,0.24381625441696114,1.447488584474886,0.028169014084507043,0.013513513513513514,0.08,0.0037735849056603774,0.14,0.03529411764705882,0.1,0.448,0.044444444444444446,0.08,0.75,0.09836065573770492,0.07407407407407407,0.057692307692307696,0.14,0.04081632653061224,0.9612068965517241,0.4875,0.18518518518518517],\"sizemode\":\"area\",\"sizeref\":0.004615650969529086},\"mode\":\"markers\",\"name\":\"\",\"showlegend\":false,\"subplot\":\"mapbox\",\"type\":\"scattermapbox\"}],                        {\"template\":{\"data\":{\"barpolar\":[{\"marker\":{\"line\":{\"color\":\"white\",\"width\":0.5},\"pattern\":{\"fillmode\":\"overlay\",\"size\":10,\"solidity\":0.2}},\"type\":\"barpolar\"}],\"bar\":[{\"error_x\":{\"color\":\"rgb(36,36,36)\"},\"error_y\":{\"color\":\"rgb(36,36,36)\"},\"marker\":{\"line\":{\"color\":\"white\",\"width\":0.5},\"pattern\":{\"fillmode\":\"overlay\",\"size\":10,\"solidity\":0.2}},\"type\":\"bar\"}],\"carpet\":[{\"aaxis\":{\"endlinecolor\":\"rgb(36,36,36)\",\"gridcolor\":\"white\",\"linecolor\":\"white\",\"minorgridcolor\":\"white\",\"startlinecolor\":\"rgb(36,36,36)\"},\"baxis\":{\"endlinecolor\":\"rgb(36,36,36)\",\"gridcolor\":\"white\",\"linecolor\":\"white\",\"minorgridcolor\":\"white\",\"startlinecolor\":\"rgb(36,36,36)\"},\"type\":\"carpet\"}],\"choropleth\":[{\"colorbar\":{\"outlinewidth\":1,\"tickcolor\":\"rgb(36,36,36)\",\"ticks\":\"outside\"},\"type\":\"choropleth\"}],\"contourcarpet\":[{\"colorbar\":{\"outlinewidth\":1,\"tickcolor\":\"rgb(36,36,36)\",\"ticks\":\"outside\"},\"type\":\"contourcarpet\"}],\"contour\":[{\"colorbar\":{\"outlinewidth\":1,\"tickcolor\":\"rgb(36,36,36)\",\"ticks\":\"outside\"},\"colorscale\":[[0.0,\"#440154\"],[0.1111111111111111,\"#482878\"],[0.2222222222222222,\"#3e4989\"],[0.3333333333333333,\"#31688e\"],[0.4444444444444444,\"#26828e\"],[0.5555555555555556,\"#1f9e89\"],[0.6666666666666666,\"#35b779\"],[0.7777777777777778,\"#6ece58\"],[0.8888888888888888,\"#b5de2b\"],[1.0,\"#fde725\"]],\"type\":\"contour\"}],\"heatmapgl\":[{\"colorbar\":{\"outlinewidth\":1,\"tickcolor\":\"rgb(36,36,36)\",\"ticks\":\"outside\"},\"colorscale\":[[0.0,\"#440154\"],[0.1111111111111111,\"#482878\"],[0.2222222222222222,\"#3e4989\"],[0.3333333333333333,\"#31688e\"],[0.4444444444444444,\"#26828e\"],[0.5555555555555556,\"#1f9e89\"],[0.6666666666666666,\"#35b779\"],[0.7777777777777778,\"#6ece58\"],[0.8888888888888888,\"#b5de2b\"],[1.0,\"#fde725\"]],\"type\":\"heatmapgl\"}],\"heatmap\":[{\"colorbar\":{\"outlinewidth\":1,\"tickcolor\":\"rgb(36,36,36)\",\"ticks\":\"outside\"},\"colorscale\":[[0.0,\"#440154\"],[0.1111111111111111,\"#482878\"],[0.2222222222222222,\"#3e4989\"],[0.3333333333333333,\"#31688e\"],[0.4444444444444444,\"#26828e\"],[0.5555555555555556,\"#1f9e89\"],[0.6666666666666666,\"#35b779\"],[0.7777777777777778,\"#6ece58\"],[0.8888888888888888,\"#b5de2b\"],[1.0,\"#fde725\"]],\"type\":\"heatmap\"}],\"histogram2dcontour\":[{\"colorbar\":{\"outlinewidth\":1,\"tickcolor\":\"rgb(36,36,36)\",\"ticks\":\"outside\"},\"colorscale\":[[0.0,\"#440154\"],[0.1111111111111111,\"#482878\"],[0.2222222222222222,\"#3e4989\"],[0.3333333333333333,\"#31688e\"],[0.4444444444444444,\"#26828e\"],[0.5555555555555556,\"#1f9e89\"],[0.6666666666666666,\"#35b779\"],[0.7777777777777778,\"#6ece58\"],[0.8888888888888888,\"#b5de2b\"],[1.0,\"#fde725\"]],\"type\":\"histogram2dcontour\"}],\"histogram2d\":[{\"colorbar\":{\"outlinewidth\":1,\"tickcolor\":\"rgb(36,36,36)\",\"ticks\":\"outside\"},\"colorscale\":[[0.0,\"#440154\"],[0.1111111111111111,\"#482878\"],[0.2222222222222222,\"#3e4989\"],[0.3333333333333333,\"#31688e\"],[0.4444444444444444,\"#26828e\"],[0.5555555555555556,\"#1f9e89\"],[0.6666666666666666,\"#35b779\"],[0.7777777777777778,\"#6ece58\"],[0.8888888888888888,\"#b5de2b\"],[1.0,\"#fde725\"]],\"type\":\"histogram2d\"}],\"histogram\":[{\"marker\":{\"line\":{\"color\":\"white\",\"width\":0.6}},\"type\":\"histogram\"}],\"mesh3d\":[{\"colorbar\":{\"outlinewidth\":1,\"tickcolor\":\"rgb(36,36,36)\",\"ticks\":\"outside\"},\"type\":\"mesh3d\"}],\"parcoords\":[{\"line\":{\"colorbar\":{\"outlinewidth\":1,\"tickcolor\":\"rgb(36,36,36)\",\"ticks\":\"outside\"}},\"type\":\"parcoords\"}],\"pie\":[{\"automargin\":true,\"type\":\"pie\"}],\"scatter3d\":[{\"line\":{\"colorbar\":{\"outlinewidth\":1,\"tickcolor\":\"rgb(36,36,36)\",\"ticks\":\"outside\"}},\"marker\":{\"colorbar\":{\"outlinewidth\":1,\"tickcolor\":\"rgb(36,36,36)\",\"ticks\":\"outside\"}},\"type\":\"scatter3d\"}],\"scattercarpet\":[{\"marker\":{\"colorbar\":{\"outlinewidth\":1,\"tickcolor\":\"rgb(36,36,36)\",\"ticks\":\"outside\"}},\"type\":\"scattercarpet\"}],\"scattergeo\":[{\"marker\":{\"colorbar\":{\"outlinewidth\":1,\"tickcolor\":\"rgb(36,36,36)\",\"ticks\":\"outside\"}},\"type\":\"scattergeo\"}],\"scattergl\":[{\"marker\":{\"colorbar\":{\"outlinewidth\":1,\"tickcolor\":\"rgb(36,36,36)\",\"ticks\":\"outside\"}},\"type\":\"scattergl\"}],\"scattermapbox\":[{\"marker\":{\"colorbar\":{\"outlinewidth\":1,\"tickcolor\":\"rgb(36,36,36)\",\"ticks\":\"outside\"}},\"type\":\"scattermapbox\"}],\"scatterpolargl\":[{\"marker\":{\"colorbar\":{\"outlinewidth\":1,\"tickcolor\":\"rgb(36,36,36)\",\"ticks\":\"outside\"}},\"type\":\"scatterpolargl\"}],\"scatterpolar\":[{\"marker\":{\"colorbar\":{\"outlinewidth\":1,\"tickcolor\":\"rgb(36,36,36)\",\"ticks\":\"outside\"}},\"type\":\"scatterpolar\"}],\"scatter\":[{\"fillpattern\":{\"fillmode\":\"overlay\",\"size\":10,\"solidity\":0.2},\"type\":\"scatter\"}],\"scatterternary\":[{\"marker\":{\"colorbar\":{\"outlinewidth\":1,\"tickcolor\":\"rgb(36,36,36)\",\"ticks\":\"outside\"}},\"type\":\"scatterternary\"}],\"surface\":[{\"colorbar\":{\"outlinewidth\":1,\"tickcolor\":\"rgb(36,36,36)\",\"ticks\":\"outside\"},\"colorscale\":[[0.0,\"#440154\"],[0.1111111111111111,\"#482878\"],[0.2222222222222222,\"#3e4989\"],[0.3333333333333333,\"#31688e\"],[0.4444444444444444,\"#26828e\"],[0.5555555555555556,\"#1f9e89\"],[0.6666666666666666,\"#35b779\"],[0.7777777777777778,\"#6ece58\"],[0.8888888888888888,\"#b5de2b\"],[1.0,\"#fde725\"]],\"type\":\"surface\"}],\"table\":[{\"cells\":{\"fill\":{\"color\":\"rgb(237,237,237)\"},\"line\":{\"color\":\"white\"}},\"header\":{\"fill\":{\"color\":\"rgb(217,217,217)\"},\"line\":{\"color\":\"white\"}},\"type\":\"table\"}]},\"layout\":{\"annotationdefaults\":{\"arrowhead\":0,\"arrowwidth\":1},\"autotypenumbers\":\"strict\",\"coloraxis\":{\"colorbar\":{\"outlinewidth\":1,\"tickcolor\":\"rgb(36,36,36)\",\"ticks\":\"outside\"}},\"colorscale\":{\"diverging\":[[0.0,\"rgb(103,0,31)\"],[0.1,\"rgb(178,24,43)\"],[0.2,\"rgb(214,96,77)\"],[0.3,\"rgb(244,165,130)\"],[0.4,\"rgb(253,219,199)\"],[0.5,\"rgb(247,247,247)\"],[0.6,\"rgb(209,229,240)\"],[0.7,\"rgb(146,197,222)\"],[0.8,\"rgb(67,147,195)\"],[0.9,\"rgb(33,102,172)\"],[1.0,\"rgb(5,48,97)\"]],\"sequential\":[[0.0,\"#440154\"],[0.1111111111111111,\"#482878\"],[0.2222222222222222,\"#3e4989\"],[0.3333333333333333,\"#31688e\"],[0.4444444444444444,\"#26828e\"],[0.5555555555555556,\"#1f9e89\"],[0.6666666666666666,\"#35b779\"],[0.7777777777777778,\"#6ece58\"],[0.8888888888888888,\"#b5de2b\"],[1.0,\"#fde725\"]],\"sequentialminus\":[[0.0,\"#440154\"],[0.1111111111111111,\"#482878\"],[0.2222222222222222,\"#3e4989\"],[0.3333333333333333,\"#31688e\"],[0.4444444444444444,\"#26828e\"],[0.5555555555555556,\"#1f9e89\"],[0.6666666666666666,\"#35b779\"],[0.7777777777777778,\"#6ece58\"],[0.8888888888888888,\"#b5de2b\"],[1.0,\"#fde725\"]]},\"colorway\":[\"#91268F\",\"#8CC63E\",\"#00A7A0\",\"#F05A28\",\"#4C4C4C\",\"#630460\",\"#9f3913\",\"#588527\",\"#00716c\",\"#3e4040\"],\"font\":{\"color\":\"rgb(36,36,36)\",\"family\":\"Poppins\",\"size\":11},\"geo\":{\"bgcolor\":\"white\",\"lakecolor\":\"white\",\"landcolor\":\"white\",\"showlakes\":true,\"showland\":true,\"subunitcolor\":\"white\"},\"hoverlabel\":{\"align\":\"left\"},\"hovermode\":\"closest\",\"mapbox\":{\"style\":\"light\"},\"paper_bgcolor\":\"white\",\"plot_bgcolor\":\"white\",\"polar\":{\"angularaxis\":{\"gridcolor\":\"rgb(232,232,232)\",\"linecolor\":\"rgb(36,36,36)\",\"showgrid\":false,\"showline\":true,\"ticks\":\"outside\"},\"bgcolor\":\"white\",\"radialaxis\":{\"gridcolor\":\"rgb(232,232,232)\",\"linecolor\":\"rgb(36,36,36)\",\"showgrid\":false,\"showline\":true,\"ticks\":\"outside\"}},\"scene\":{\"xaxis\":{\"backgroundcolor\":\"white\",\"gridcolor\":\"rgb(232,232,232)\",\"gridwidth\":2,\"linecolor\":\"rgb(36,36,36)\",\"showbackground\":true,\"showgrid\":false,\"showline\":true,\"ticks\":\"outside\",\"zeroline\":false,\"zerolinecolor\":\"rgb(36,36,36)\"},\"yaxis\":{\"backgroundcolor\":\"white\",\"gridcolor\":\"rgb(232,232,232)\",\"gridwidth\":2,\"linecolor\":\"rgb(36,36,36)\",\"showbackground\":true,\"showgrid\":false,\"showline\":true,\"ticks\":\"outside\",\"zeroline\":false,\"zerolinecolor\":\"rgb(36,36,36)\"},\"zaxis\":{\"backgroundcolor\":\"white\",\"gridcolor\":\"rgb(232,232,232)\",\"gridwidth\":2,\"linecolor\":\"rgb(36,36,36)\",\"showbackground\":true,\"showgrid\":false,\"showline\":true,\"ticks\":\"outside\",\"zeroline\":false,\"zerolinecolor\":\"rgb(36,36,36)\"}},\"shapedefaults\":{\"fillcolor\":\"black\",\"line\":{\"width\":0},\"opacity\":0.3},\"ternary\":{\"aaxis\":{\"gridcolor\":\"rgb(232,232,232)\",\"linecolor\":\"rgb(36,36,36)\",\"showgrid\":false,\"showline\":true,\"ticks\":\"outside\"},\"baxis\":{\"gridcolor\":\"rgb(232,232,232)\",\"linecolor\":\"rgb(36,36,36)\",\"showgrid\":false,\"showline\":true,\"ticks\":\"outside\"},\"bgcolor\":\"white\",\"caxis\":{\"gridcolor\":\"rgb(232,232,232)\",\"linecolor\":\"rgb(36,36,36)\",\"showgrid\":false,\"showline\":true,\"ticks\":\"outside\"}},\"title\":{\"x\":0.05},\"xaxis\":{\"automargin\":true,\"gridcolor\":\"rgb(232,232,232)\",\"linecolor\":\"rgb(36,36,36)\",\"showgrid\":false,\"showline\":true,\"ticks\":\"outside\",\"title\":{\"standoff\":15},\"zeroline\":false,\"zerolinecolor\":\"rgb(36,36,36)\"},\"yaxis\":{\"automargin\":true,\"gridcolor\":\"rgb(232,232,232)\",\"linecolor\":\"rgb(36,36,36)\",\"showgrid\":false,\"showline\":true,\"ticks\":\"outside\",\"title\":{\"standoff\":15},\"zeroline\":false,\"zerolinecolor\":\"rgb(36,36,36)\"}}},\"mapbox\":{\"domain\":{\"x\":[0.0,1.0],\"y\":[0.0,1.0]},\"center\":{\"lat\":47.57388685653449,\"lon\":-122.29651150551264},\"zoom\":8,\"style\":\"carto-positron\"},\"coloraxis\":{\"colorbar\":{\"title\":{\"text\":\"Boardings\\u002fCapacity\"}},\"colorscale\":[[0.0,\"#440154\"],[0.1111111111111111,\"#482878\"],[0.2222222222222222,\"#3e4989\"],[0.3333333333333333,\"#31688e\"],[0.4444444444444444,\"#26828e\"],[0.5555555555555556,\"#1f9e89\"],[0.6666666666666666,\"#35b779\"],[0.7777777777777778,\"#6ece58\"],[0.8888888888888888,\"#b5de2b\"],[1.0,\"#fde725\"]]},\"legend\":{\"tracegroupgap\":0,\"itemsizing\":\"constant\"},\"title\":{\"text\":\"Park and Ride Usage vs Capacity\"},\"margin\":{\"r\":0,\"t\":0,\"l\":0,\"b\":0}},                        {\"responsive\": true}                    ).then(function(){\n",
       "                            \n",
       "var gd = document.getElementById('1b45028d-b1dd-4b85-b9f0-5478adbda27b');\n",
       "var x = new MutationObserver(function (mutations, observer) {{\n",
       "        var display = window.getComputedStyle(gd).display;\n",
       "        if (!display || display === 'none') {{\n",
       "            console.log([gd, 'removed!']);\n",
       "            Plotly.purge(gd);\n",
       "            observer.disconnect();\n",
       "        }}\n",
       "}});\n",
       "\n",
       "// Listen for the removal of the full notebook cells\n",
       "var notebookContainer = gd.closest('#notebook-container');\n",
       "if (notebookContainer) {{\n",
       "    x.observe(notebookContainer, {childList: true});\n",
       "}}\n",
       "\n",
       "// Listen for the clearing of the current output cell\n",
       "var outputEl = gd.closest('.output');\n",
       "if (outputEl) {{\n",
       "    x.observe(outputEl, {childList: true});\n",
       "}}\n",
       "\n",
       "                        })                };                });            </script>        </div>"
      ]
     },
     "metadata": {},
     "output_type": "display_data"
    }
   ],
   "source": [
    "gdf = gpd.GeoDataFrame(df, geometry=gpd.points_from_xy(df.XCoord, df.YCoord), crs='EPSG:2285')\n",
    "gdf.to_crs('EPSG:4326', inplace=True)\n",
    "\n",
    "fig = px.scatter_mapbox(gdf, lat=gdf.geometry.y, lon=gdf.geometry.x, color='Boardings/Capacity', \n",
    "                        size='Boardings/Capacity', hover_data=['name','taz','Model Boardings', 'Capacity'], \n",
    "                        title='Park and Ride Usage vs Capacity', zoom=8)\n",
    "fig.update_layout(mapbox_style=\"carto-positron\")\n",
    "fig.update_layout(margin={\"r\":0,\"t\":0,\"l\":0,\"b\":0})\n",
    "\n",
    "fig.show()"
   ]
  },
  {
   "cell_type": "raw",
   "id": "0bee7bb6",
   "metadata": {
    "vscode": {
     "languageId": "raw"
    }
   },
   "source": [
    "### boardings vs observed occupancy"
   ]
  },
  {
   "cell_type": "code",
   "execution_count": 41,
   "id": "21f0daa0",
   "metadata": {},
   "outputs": [],
   "source": [
    "# get observed data\n",
    "p_r_observe_data = pd.read_csv(\"R:/e2projects_two/2023_base_year/park_and_ride/Park_and_Ride_observed_data_2023.csv\")\n",
    "# filter to latest data record for each park and ride (only 2021 and later years)\n",
    "idx = p_r_observe_data.groupby(['lot_name'])['data_year'].transform(max) == p_r_observe_data['data_year']\n",
    "df_p_r_observe_data = p_r_observe_data[idx].copy()\n",
    "df_p_r_observe_data = df_p_r_observe_data.loc[df_p_r_observe_data['data_year']>=2021].copy()\n",
    "\n",
    "# add station names to node file\n",
    "df_p_r_nodes = pnr_capacity.merge(pd.DataFrame(stations), left_on=\"ZoneID\", right_on=\"id\")\n",
    "\n",
    "# transform to geodataframe\n",
    "gdf_p_r_nodes = gpd.GeoDataFrame(\n",
    "    df_p_r_nodes, geometry=gpd.points_from_xy(df_p_r_nodes.XCoord, df_p_r_nodes.YCoord), crs=\"EPSG:2285\"\n",
    ")\n",
    "\n",
    "gdf_p_r_observe_data = gpd.GeoDataFrame(\n",
    "    df_p_r_observe_data, geometry=gpd.points_from_xy(df_p_r_observe_data.x_coord, df_p_r_observe_data.y_coord), crs=\"EPSG:2285\"\n",
    ")\n",
    "\n",
    "# merge with park and ride name\n",
    "gdf_p_r_data_name = gdf_p_r_nodes.merge(gdf_p_r_observe_data[['data_year', 'lot_name', 'lot_address', 'city','capacity', 'occupancy']],\n",
    "                                        left_on=\"name\",right_on=\"lot_name\")\n",
    "\n",
    "# merge by nearest location\n",
    "gdf_p_r_data_near = gpd.sjoin_nearest(gdf_p_r_nodes.loc[~(gdf_p_r_nodes[\"name\"].isin(gdf_p_r_data_name.name))],\n",
    "                                      gdf_p_r_observe_data[['data_year', 'lot_name', 'lot_address', 'city','capacity', 'occupancy', 'geometry']],\n",
    "                                      max_distance=500)\n",
    "\n",
    "df_col = ['NodeID', 'ZoneID', 'data_year', 'name', \n",
    "          'lot_name', 'lot_address', 'city', 'Capacity', 'capacity', 'occupancy', \n",
    "          'XCoord', 'YCoord', 'geometry']\n",
    "gdf_p_r_data = pd.concat([gdf_p_r_data_name[df_col],gdf_p_r_data_near[df_col]]).copy()\n",
    "\n",
    "# merge boardings\n",
    "gdf_p_r_data = gdf_p_r_data.merge(pnr_boardings, left_on=\"ZoneID\", right_on=\"otaz\")\n",
    "\n",
    "gdf_p_r_data = gdf_p_r_data[['NodeID', 'ZoneID', 'data_year', 'name', 'lot_name', 'lot_address',\n",
    "       'city', 'Capacity', 'capacity', 'occupancy', 'trexpfac', 'XCoord', 'YCoord',\n",
    "       'geometry']].copy().rename(columns={'trexpfac':'boardings'})\n",
    "\n",
    "gdf_p_r_data['boardings - occupancy'] = gdf_p_r_data['boardings'] - gdf_p_r_data['occupancy']\n",
    "gdf_p_r_data['percent diff'] = gdf_p_r_data['boardings - occupancy'] / gdf_p_r_data['occupancy']\n",
    "\n",
    "gdf_p_r_data.to_crs('EPSG:4326', inplace=True)\n"
   ]
  },
  {
   "cell_type": "code",
   "execution_count": 42,
   "id": "db68fda1",
   "metadata": {},
   "outputs": [
    {
     "data": {
      "application/vnd.plotly.v1+json": {
       "config": {
        "plotlyServerURL": "https://plot.ly"
       },
       "data": [
        {
         "customdata": [
          [
           "Tacoma Dome Station",
           3752,
           221,
           2283,
           -811
          ],
          [
           "Mukilteo Station",
           3756,
           4,
           63,
           -22
          ],
          [
           "Crossroads Neighborhood Church",
           3763,
           7,
           107,
           -8
          ],
          [
           "Redondo Heights P&R",
           3765,
           2,
           697,
           -92
          ],
          [
           "Duvall P&R",
           3767,
           1,
           49,
           -14
          ],
          [
           "Parkland Transit Center",
           3770,
           10,
           62,
           7
          ],
          [
           "South Tacoma West",
           3774,
           4,
           78,
           1
          ],
          [
           "North Purdy/Purdy Crescent",
           3777,
           1,
           200,
           -28
          ],
          [
           "Auburn P&R",
           3782,
           3,
           358,
           -50
          ],
          [
           "Holy Spirit Lutheran Church",
           3784,
           18,
           40,
           9
          ],
          [
           "Burien Transit Center",
           3787,
           41,
           488,
           4
          ],
          [
           "Maple Valley P&R",
           3789,
           1,
           122,
           -13
          ],
          [
           "South Renton P&R",
           3790,
           40,
           385,
           -142
          ],
          [
           "Issaquah Transit Center",
           3792,
           16,
           200,
           -166
          ],
          [
           "Mercer Island P&R",
           3793,
           190,
           447,
           -80
          ],
          [
           "Newport Hills P&R",
           3795,
           3,
           275,
           -44
          ],
          [
           "Newport Covenant Church",
           3797,
           2,
           75,
           -17
          ],
          [
           "South Bellevue P&R",
           3798,
           29,
           1500,
           -85
          ],
          [
           "Eastgate P&R",
           3800,
           47,
           1614,
           -676
          ],
          [
           "North Bend P&R",
           3801,
           5,
           80,
           -3
          ],
          [
           "South Kirkland P&R",
           3804,
           14,
           785,
           -298
          ],
          [
           "Overlake P&R",
           3805,
           50,
           203,
           -27
          ],
          [
           "Houghton P&R",
           3806,
           4,
           470,
           -12
          ],
          [
           "Redmond P&R",
           3808,
           40,
           150,
           -290
          ],
          [
           "Valley Center",
           3810,
           3,
           55,
           -1
          ],
          [
           "Bear Creek P&R",
           3811,
           12,
           334,
           -100
          ],
          [
           "Kingsgate P&R",
           3812,
           48,
           502,
           -96
          ],
          [
           "Kenmore P&R",
           3815,
           42,
           603,
           -104
          ],
          [
           "Bothell P&R",
           3817,
           63,
           220,
           -8
          ],
          [
           "Woodinville P&R",
           3818,
           13,
           459,
           -26
          ],
          [
           "Ober Park",
           3826,
           8,
           48,
           1
          ],
          [
           "Edmonds Station",
           3830,
           2,
           259,
           -49
          ],
          [
           "Edmonds P&R",
           3831,
           16,
           255,
           -8
          ],
          [
           "Mariner P&R",
           3834,
           24,
           667,
           -63
          ],
          [
           "Arlington P&R",
           3839,
           8,
           25,
           3
          ],
          [
           "Port Orchard Armory",
           3843,
           165,
           105,
           72
          ],
          [
           "McWilliams P&R",
           3845,
           1,
           151,
           -31
          ],
          [
           "Bethany Lutheran Church",
           3846,
           35,
           80,
           22
          ],
          [
           "Gateway Fellowship",
           3847,
           7,
           138,
           -31
          ],
          [
           "Suquamish United Church of Christ",
           3850,
           4,
           65,
           1
          ],
          [
           "Eastmont P&R",
           3863,
           2,
           389,
           -14
          ],
          [
           "Canyon Park P&R",
           3865,
           9,
           298,
           -102
          ],
          [
           "Harper Evangelical Free Church",
           3870,
           10,
           462,
           -42
          ],
          [
           "South Hill P&R",
           3877,
           7,
           354,
           -37
          ],
          [
           "Preston P&R",
           3883,
           31,
           53,
           16
          ],
          [
           "Bayside Community Church",
           3884,
           3,
           210,
           -21
          ],
          [
           "Renton City Municipal Garage",
           3894,
           21,
           150,
           17
          ],
          [
           "Tibbetts Lot",
           3895,
           6,
           170,
           -3
          ],
          [
           "Maple Valley Town Square",
           3898,
           4,
           90,
           -55
          ],
          [
           "All Saints Lutheran Church",
           3899,
           6,
           75,
           -14
          ],
          [
           "City View Church",
           3900,
           72,
           96,
           72
          ],
          [
           "Redmond Ridge P&R",
           3903,
           3,
           52,
           -3
          ],
          [
           "Nativity Lutheran Church",
           3905,
           2,
           49,
           1
          ],
          [
           "Everett Station",
           3908,
           78,
           160,
           -210
          ],
          [
           "Tukwila Station (CR)",
           3751,
           100,
           390,
           -33
          ],
          [
           "Everett Station (CR)",
           3754,
           65,
           1067,
           -223
          ],
          [
           "Sumner Station (CR)",
           3755,
           249,
           302,
           -46
          ],
          [
           "Kent Station (CR)",
           3757,
           435,
           996,
           31
          ],
          [
           "Auburn Station (CR)",
           3758,
           641,
           636,
           346
          ],
          [
           "Lakewood (CR)",
           3759,
           6,
           600,
           -160
          ],
          [
           "Gateway P&R",
           3760,
           57,
           104,
           25
          ],
          [
           "Puyallup Station (SB)",
           3761,
           131,
           522,
           -401
          ],
          [
           "Puyallup Station (NB)",
           3852,
           19,
           522,
           -513
          ],
          [
           "Twin Lakes P&R",
           3762,
           2,
           600,
           -3
          ],
          [
           "Overlake Transit Center",
           3764,
           103,
           323,
           90
          ],
          [
           "North Gig Harbor/Kimball Drive",
           3766,
           6,
           306,
           -31
          ],
          [
           "Roy 'Y' P&R",
           3768,
           5,
           100,
           -3
          ],
          [
           "SR-512/I-5 (Lakewood)",
           3771,
           20,
           493,
           -224
          ],
          [
           "Center Street P&R",
           3772,
           14,
           75,
           9
          ],
          [
           "South Federal P&R",
           3779,
           9,
           515,
           -14
          ],
          [
           "Federal Way P&R (320th)",
           3781,
           85,
           877,
           63
          ],
          [
           "Kent/Des Moines P&R",
           3785,
           12,
           404,
           -44
          ],
          [
           "Kent/James St. P&R",
           3786,
           94,
           713,
           40
          ],
          [
           "Tukwila",
           3788,
           30,
           267,
           -176
          ],
          [
           "Renton Highlands P&R (St. Matts)",
           3791,
           2,
           128,
           -18
          ],
          [
           "Mercer Island Presbyterian",
           3794,
           20,
           30,
           10
          ],
          [
           "Wilburton",
           3799,
           9,
           186,
           -52
          ],
          [
           "Evergreen Point P&R",
           3802,
           86,
           51,
           36
          ],
          [
           "Bethel Lutheran",
           3807,
           2,
           40,
           1
          ],
          [
           "Brickyard P&R",
           3813,
           4,
           242,
           -100
          ],
          [
           "Bethany Bible Church",
           3816,
           64,
           75,
           52
          ],
          [
           "Olson & Meyers",
           3819,
           19,
           100,
           -14
          ],
          [
           "Spokane Street P&R",
           3820,
           81,
           55,
           71
          ],
          [
           "Greenlake P&R",
           3821,
           151,
           411,
           -84
          ],
          [
           "Northgate TC",
           3822,
           2666,
           1444,
           2242
          ],
          [
           "Shoreline",
           3824,
           28,
           393,
           -169
          ],
          [
           "112th St. & I-5",
           3825,
           10,
           399,
           -276
          ],
          [
           "Mountlake Terrace P&R",
           3828,
           32,
           874,
           -249
          ],
          [
           "Bethesda Lutheran",
           3829,
           5,
           20,
           1
          ],
          [
           "Lynnwood P&R",
           3832,
           14,
           1896,
           -67
          ],
          [
           "Swamp Creek P&R",
           3833,
           13,
           410,
           -41
          ],
          [
           "Snohomish",
           3835,
           7,
           104,
           -4
          ],
          [
           "Marysville - Ash Ave",
           3836,
           2,
           202,
           -41
          ],
          [
           "Monroe",
           3841,
           5,
           102,
           -5
          ],
          [
           "Federal Way",
           3842,
           56,
           1190,
           -565
          ],
          [
           "72nd Street Transit Center",
           3853,
           6,
           68,
           5
          ],
          [
           "DuPont",
           3855,
           1,
           126,
           -33
          ],
          [
           "Aurora Village TC",
           3856,
           73,
           202,
           3
          ],
          [
           "Aurora Nazarene",
           3857,
           18,
           116,
           -19
          ],
          [
           "Lake Meridian P&R",
           3861,
           10,
           172,
           6
          ],
          [
           "Smokey Pt. Church",
           3862,
           4,
           50,
           -9
          ],
          [
           "McCollum Park P&R",
           3864,
           16,
           409,
           -47
          ],
          [
           "Korean Presby. P&R",
           3866,
           13,
           25,
           8
          ],
          [
           "Poulsbo Church of the Nazarene",
           3868,
           1,
           266,
           -42
          ],
          [
           "Mullenix Road",
           3871,
           5,
           92,
           -65
          ],
          [
           "TCC P&R",
           3873,
           14,
           95,
           -49
          ],
          [
           "Ash Way P&R",
           3874,
           64,
           1019,
           -598
          ],
          [
           "Bonney Lake P&R",
           3875,
           6,
           356,
           -73
          ],
          [
           "Tukwila Int. Station",
           3876,
           368,
           600,
           -202
          ],
          [
           "Issaquah Highlands",
           3879,
           29,
           1000,
           -137
          ],
          [
           "Lake Stevens TC",
           3880,
           9,
           207,
           -57
          ],
          [
           "Puyallup Fair's Red Lot",
           3888,
           317,
           219,
           302
          ],
          [
           "Marysville - Cedar & Grove",
           3889,
           6,
           213,
           -63
          ],
          [
           "Marysville I P&R",
           3891,
           1,
           74,
           -8
          ],
          [
           "Martha Lake Covenant Church",
           3892,
           6,
           75,
           -9
          ],
          [
           "South Sammammish P&R",
           3893,
           1,
           265,
           -16
          ],
          [
           "Renton Transit Center",
           3896,
           15,
           150,
           11
          ],
          [
           "Sammamish Lutheran P&R",
           3902,
           4,
           54,
           -4
          ],
          [
           "Kennydale United Methodist Church",
           3904,
           7,
           50,
           -4
          ],
          [
           "South SeaTac (LR)",
           3907,
           1115,
           1160,
           121
          ]
         ],
         "hovertemplate": "lat=%{lat}<br>lon=%{lon}<br>name=%{customdata[0]}<br>ZoneID=%{customdata[1]}<br>boardings=%{customdata[2]}<br>Capacity=%{customdata[3]}<br>boardings - occupancy=%{customdata[4]}<br>percent diff=%{marker.color}<extra></extra>",
         "lat": [
          47.240587026940496,
          47.949202090593815,
          47.631646481329874,
          47.35504335733807,
          47.74282207119212,
          47.14791172694066,
          47.20552052830966,
          47.38923379023241,
          47.32142070370895,
          47.7104244936842,
          47.469518524026284,
          47.39722692921272,
          47.47271938615727,
          47.5421344859425,
          47.58878969142359,
          47.55704702946253,
          47.564129961427035,
          47.58629181288903,
          47.580583829158485,
          47.49597432021159,
          47.64418998070187,
          47.63297717439434,
          47.66816331814846,
          47.6765003576322,
          47.42287235072545,
          47.674169895277565,
          47.71630675038611,
          47.75869948424539,
          47.759457740337254,
          47.75702879699488,
          47.45193656025647,
          47.81083814590226,
          47.805505328682436,
          47.879273837323716,
          48.196226663014926,
          47.53346196599079,
          47.620810382951404,
          47.635076024273125,
          47.733914565835,
          47.733267845932694,
          47.91577651606941,
          47.79421797219861,
          47.50395364516145,
          47.161515219367466,
          47.52729295506841,
          47.799607552327174,
          47.48065386274714,
          47.54050303955318,
          47.36261650204512,
          47.35719493962773,
          47.48028761734057,
          47.68558355990292,
          47.4435715904644,
          47.60111801912681,
          47.459791189113055,
          47.97553008822413,
          47.201048326678425,
          47.383970408531425,
          47.30597098022815,
          47.153298431654285,
          47.56718379854233,
          47.193060762628754,
          47.19226982725735,
          47.29373336434266,
          47.64429306998266,
          47.3163618931415,
          47.08271784155433,
          47.161484802874284,
          47.23400250827875,
          47.289041380796476,
          47.31163591874175,
          47.39168729512872,
          47.38491251743171,
          47.48197741301064,
          47.50715467593467,
          47.57701316304821,
          47.60395259926627,
          47.63677734251024,
          47.75569187858501,
          47.74096553654258,
          47.75911072833425,
          47.520273185221846,
          47.571714184646375,
          47.67673605768736,
          47.70239443761157,
          47.76687666732243,
          47.897149496501655,
          47.786023838048486,
          47.786405217140484,
          47.81595811606588,
          47.851158747803034,
          47.931600004686565,
          48.052799958531104,
          47.86853209498515,
          47.31771355238481,
          47.192971542906285,
          47.08990334694735,
          47.77471134386238,
          47.75619875057065,
          47.36115476012324,
          48.15732422532287,
          47.880528888492265,
          47.78299309998247,
          47.759682723438075,
          47.4683127358232,
          47.24317915202268,
          47.852265826626585,
          47.17424906089401,
          47.46462822513558,
          47.54548131124219,
          47.99833018258796,
          47.185461659521216,
          48.06186352787003,
          48.05093832410037,
          47.85078851793791,
          47.582163360805794,
          47.48170670581923,
          47.601973031740954,
          47.51822107506604,
          47.42300305792277
         ],
         "legendgroup": "",
         "lon": [
          -122.42559764232288,
          -122.29903798331632,
          -122.6376553285978,
          -122.30994876622252,
          -121.98519670565817,
          -122.43537507130094,
          -122.46332756461389,
          -122.62545806801099,
          -122.22738331793343,
          -122.20748786443893,
          -122.33865108623566,
          -122.04489635419205,
          -122.2140249890397,
          -122.06181211149554,
          -122.23166518784704,
          -122.1886194896657,
          -122.17018509756201,
          -122.1904053737166,
          -122.15247915819556,
          -121.78890814933835,
          -122.19692070930883,
          -122.1356025761157,
          -122.18466300042218,
          -122.12357646358394,
          -122.4617588893532,
          -122.10086680270592,
          -122.18764374421475,
          -122.24193472527783,
          -122.20174474164908,
          -122.15150344952004,
          -122.45962271847641,
          -122.38443648143998,
          -122.33045854744478,
          -122.23819674557204,
          -122.129183066928,
          -122.61872855042411,
          -122.62808145181158,
          -122.53684064463692,
          -122.63927304886704,
          -122.55779654978755,
          -122.2039867300772,
          -122.21165372444678,
          -122.51509635593781,
          -122.30486983988138,
          -121.93697928446608,
          -122.508528546698,
          -122.20850143259241,
          -122.06172743208168,
          -122.0201427495308,
          -122.29322515985572,
          -122.22017447638363,
          -122.03407154200131,
          -122.15522089858798,
          -122.63061955933047,
          -122.24142204292801,
          -122.19768602099377,
          -122.24474142310243,
          -122.23410004243462,
          -122.23148352515318,
          -122.49859252745824,
          -122.65169744997347,
          -122.29627387444259,
          -122.29638289622436,
          -122.3599437944882,
          -122.13352825516421,
          -122.58550724037367,
          -122.43467115344275,
          -122.4832269556689,
          -122.49605950380925,
          -122.32271243809302,
          -122.30155617219685,
          -122.28801450038526,
          -122.24251278515935,
          -122.26898729590523,
          -122.18367513597434,
          -122.22739995414824,
          -122.1855070751748,
          -122.23793067783187,
          -122.31907049448232,
          -122.18801850253551,
          -122.25940207427163,
          -122.33619477501689,
          -122.36486292041623,
          -122.3207479132486,
          -122.3263535981885,
          -122.34679899076795,
          -122.21539257019184,
          -122.31456649794684,
          -122.30895559283637,
          -122.29397697243073,
          -122.2762912947167,
          -122.10076917207742,
          -122.18350218748834,
          -121.9960708438206,
          -122.30476126399772,
          -122.41141133327692,
          -122.6408244608136,
          -122.34274243377105,
          -122.33571558742703,
          -122.16596694150272,
          -122.18235612206618,
          -122.22076355008004,
          -122.34737059623502,
          -122.65215146199641,
          -122.6219458140525,
          -122.52527889141626,
          -122.25855174480624,
          -122.18490269497767,
          -122.28690849789872,
          -122.01943008905627,
          -122.1037985047417,
          -122.29928303340452,
          -122.17950440147415,
          -122.18326561243495,
          -122.2711389215377,
          -122.03642859327114,
          -122.20744093150329,
          -122.03476548005801,
          -122.20129952764448,
          -122.29884833358034
         ],
         "marker": {
          "color": [
           -0.7858527131782945,
           -0.8461538461538461,
           -0.5333333333333333,
           -0.9787234042553191,
           -0.9333333333333333,
           2.3333333333333335,
           0.3333333333333333,
           -0.9655172413793104,
           -0.9433962264150944,
           1.0,
           0.10810810810810811,
           -0.9285714285714286,
           -0.7802197802197802,
           -0.9120879120879121,
           -0.2962962962962963,
           -0.9361702127659575,
           -0.8947368421052632,
           -0.7456140350877193,
           -0.9349930843706777,
           -0.375,
           -0.9551282051282052,
           -0.35064935064935066,
           -0.75,
           -0.8787878787878788,
           -0.25,
           -0.8928571428571429,
           -0.6666666666666666,
           -0.7123287671232876,
           -0.11267605633802817,
           -0.6666666666666666,
           0.14285714285714285,
           -0.9607843137254902,
           -0.3333333333333333,
           -0.7241379310344828,
           0.6,
           0.7741935483870968,
           -0.96875,
           1.6923076923076923,
           -0.8157894736842105,
           0.3333333333333333,
           -0.875,
           -0.918918918918919,
           -0.8076923076923077,
           -0.8409090909090909,
           1.0666666666666667,
           -0.875,
           4.25,
           -0.3333333333333333,
           -0.9322033898305084,
           -0.7,
           null,
           -0.5,
           1.0,
           -0.7291666666666666,
           -0.24812030075187969,
           -0.7743055555555556,
           -0.15593220338983052,
           0.07673267326732673,
           1.1728813559322033,
           -0.963855421686747,
           0.78125,
           -0.7537593984962406,
           -0.9642857142857143,
           -0.6,
           6.923076923076923,
           -0.8378378378378378,
           -0.375,
           -0.9180327868852459,
           1.8,
           -0.6086956521739131,
           2.8636363636363638,
           -0.7857142857142857,
           0.7407407407407407,
           -0.8543689320388349,
           -0.9,
           1.0,
           -0.8524590163934426,
           0.72,
           1.0,
           -0.9615384615384616,
           4.333333333333333,
           -0.42424242424242425,
           7.1,
           -0.3574468085106383,
           5.287735849056604,
           -0.8578680203045685,
           -0.965034965034965,
           -0.8861209964412812,
           0.25,
           -0.8271604938271605,
           -0.7592592592592593,
           -0.36363636363636365,
           -0.9534883720930233,
           -0.5,
           -0.9098228663446055,
           5.0,
           -0.9705882352941176,
           0.04285714285714286,
           -0.5135135135135135,
           1.5,
           -0.6923076923076923,
           -0.746031746031746,
           1.6,
           -0.9767441860465116,
           -0.9285714285714286,
           -0.7777777777777778,
           -0.9033232628398792,
           -0.9240506329113924,
           -0.3543859649122807,
           -0.8253012048192772,
           -0.8636363636363636,
           20.133333333333333,
           -0.9130434782608695,
           -0.8888888888888888,
           -0.6,
           -0.9411764705882353,
           2.75,
           -0.5,
           -0.36363636363636365,
           0.12173038229376258
          ],
          "coloraxis": "coloraxis"
         },
         "mode": "markers",
         "name": "",
         "showlegend": false,
         "subplot": "mapbox",
         "type": "scattermapbox"
        }
       ],
       "layout": {
        "coloraxis": {
         "colorbar": {
          "title": {
           "text": "percent diff"
          }
         },
         "colorscale": [
          [
           0.0,
           "#440154"
          ],
          [
           0.1111111111111111,
           "#482878"
          ],
          [
           0.2222222222222222,
           "#3e4989"
          ],
          [
           0.3333333333333333,
           "#31688e"
          ],
          [
           0.4444444444444444,
           "#26828e"
          ],
          [
           0.5555555555555556,
           "#1f9e89"
          ],
          [
           0.6666666666666666,
           "#35b779"
          ],
          [
           0.7777777777777778,
           "#6ece58"
          ],
          [
           0.8888888888888888,
           "#b5de2b"
          ],
          [
           1.0,
           "#fde725"
          ]
         ]
        },
        "legend": {
         "tracegroupgap": 0
        },
        "mapbox": {
         "center": {
          "lat": 47.57600671781624,
          "lon": -122.28269323260919
         },
         "domain": {
          "x": [
           0.0,
           1.0
          ],
          "y": [
           0.0,
           1.0
          ]
         },
         "style": "carto-positron",
         "zoom": 8
        },
        "margin": {
         "b": 0,
         "l": 0,
         "r": 0,
         "t": 0
        },
        "template": {
         "data": {
          "bar": [
           {
            "error_x": {
             "color": "rgb(36,36,36)"
            },
            "error_y": {
             "color": "rgb(36,36,36)"
            },
            "marker": {
             "line": {
              "color": "white",
              "width": 0.5
             },
             "pattern": {
              "fillmode": "overlay",
              "size": 10,
              "solidity": 0.2
             }
            },
            "type": "bar"
           }
          ],
          "barpolar": [
           {
            "marker": {
             "line": {
              "color": "white",
              "width": 0.5
             },
             "pattern": {
              "fillmode": "overlay",
              "size": 10,
              "solidity": 0.2
             }
            },
            "type": "barpolar"
           }
          ],
          "carpet": [
           {
            "aaxis": {
             "endlinecolor": "rgb(36,36,36)",
             "gridcolor": "white",
             "linecolor": "white",
             "minorgridcolor": "white",
             "startlinecolor": "rgb(36,36,36)"
            },
            "baxis": {
             "endlinecolor": "rgb(36,36,36)",
             "gridcolor": "white",
             "linecolor": "white",
             "minorgridcolor": "white",
             "startlinecolor": "rgb(36,36,36)"
            },
            "type": "carpet"
           }
          ],
          "choropleth": [
           {
            "colorbar": {
             "outlinewidth": 1,
             "tickcolor": "rgb(36,36,36)",
             "ticks": "outside"
            },
            "type": "choropleth"
           }
          ],
          "contour": [
           {
            "colorbar": {
             "outlinewidth": 1,
             "tickcolor": "rgb(36,36,36)",
             "ticks": "outside"
            },
            "colorscale": [
             [
              0.0,
              "#440154"
             ],
             [
              0.1111111111111111,
              "#482878"
             ],
             [
              0.2222222222222222,
              "#3e4989"
             ],
             [
              0.3333333333333333,
              "#31688e"
             ],
             [
              0.4444444444444444,
              "#26828e"
             ],
             [
              0.5555555555555556,
              "#1f9e89"
             ],
             [
              0.6666666666666666,
              "#35b779"
             ],
             [
              0.7777777777777778,
              "#6ece58"
             ],
             [
              0.8888888888888888,
              "#b5de2b"
             ],
             [
              1.0,
              "#fde725"
             ]
            ],
            "type": "contour"
           }
          ],
          "contourcarpet": [
           {
            "colorbar": {
             "outlinewidth": 1,
             "tickcolor": "rgb(36,36,36)",
             "ticks": "outside"
            },
            "type": "contourcarpet"
           }
          ],
          "heatmap": [
           {
            "colorbar": {
             "outlinewidth": 1,
             "tickcolor": "rgb(36,36,36)",
             "ticks": "outside"
            },
            "colorscale": [
             [
              0.0,
              "#440154"
             ],
             [
              0.1111111111111111,
              "#482878"
             ],
             [
              0.2222222222222222,
              "#3e4989"
             ],
             [
              0.3333333333333333,
              "#31688e"
             ],
             [
              0.4444444444444444,
              "#26828e"
             ],
             [
              0.5555555555555556,
              "#1f9e89"
             ],
             [
              0.6666666666666666,
              "#35b779"
             ],
             [
              0.7777777777777778,
              "#6ece58"
             ],
             [
              0.8888888888888888,
              "#b5de2b"
             ],
             [
              1.0,
              "#fde725"
             ]
            ],
            "type": "heatmap"
           }
          ],
          "heatmapgl": [
           {
            "colorbar": {
             "outlinewidth": 1,
             "tickcolor": "rgb(36,36,36)",
             "ticks": "outside"
            },
            "colorscale": [
             [
              0.0,
              "#440154"
             ],
             [
              0.1111111111111111,
              "#482878"
             ],
             [
              0.2222222222222222,
              "#3e4989"
             ],
             [
              0.3333333333333333,
              "#31688e"
             ],
             [
              0.4444444444444444,
              "#26828e"
             ],
             [
              0.5555555555555556,
              "#1f9e89"
             ],
             [
              0.6666666666666666,
              "#35b779"
             ],
             [
              0.7777777777777778,
              "#6ece58"
             ],
             [
              0.8888888888888888,
              "#b5de2b"
             ],
             [
              1.0,
              "#fde725"
             ]
            ],
            "type": "heatmapgl"
           }
          ],
          "histogram": [
           {
            "marker": {
             "line": {
              "color": "white",
              "width": 0.6
             }
            },
            "type": "histogram"
           }
          ],
          "histogram2d": [
           {
            "colorbar": {
             "outlinewidth": 1,
             "tickcolor": "rgb(36,36,36)",
             "ticks": "outside"
            },
            "colorscale": [
             [
              0.0,
              "#440154"
             ],
             [
              0.1111111111111111,
              "#482878"
             ],
             [
              0.2222222222222222,
              "#3e4989"
             ],
             [
              0.3333333333333333,
              "#31688e"
             ],
             [
              0.4444444444444444,
              "#26828e"
             ],
             [
              0.5555555555555556,
              "#1f9e89"
             ],
             [
              0.6666666666666666,
              "#35b779"
             ],
             [
              0.7777777777777778,
              "#6ece58"
             ],
             [
              0.8888888888888888,
              "#b5de2b"
             ],
             [
              1.0,
              "#fde725"
             ]
            ],
            "type": "histogram2d"
           }
          ],
          "histogram2dcontour": [
           {
            "colorbar": {
             "outlinewidth": 1,
             "tickcolor": "rgb(36,36,36)",
             "ticks": "outside"
            },
            "colorscale": [
             [
              0.0,
              "#440154"
             ],
             [
              0.1111111111111111,
              "#482878"
             ],
             [
              0.2222222222222222,
              "#3e4989"
             ],
             [
              0.3333333333333333,
              "#31688e"
             ],
             [
              0.4444444444444444,
              "#26828e"
             ],
             [
              0.5555555555555556,
              "#1f9e89"
             ],
             [
              0.6666666666666666,
              "#35b779"
             ],
             [
              0.7777777777777778,
              "#6ece58"
             ],
             [
              0.8888888888888888,
              "#b5de2b"
             ],
             [
              1.0,
              "#fde725"
             ]
            ],
            "type": "histogram2dcontour"
           }
          ],
          "mesh3d": [
           {
            "colorbar": {
             "outlinewidth": 1,
             "tickcolor": "rgb(36,36,36)",
             "ticks": "outside"
            },
            "type": "mesh3d"
           }
          ],
          "parcoords": [
           {
            "line": {
             "colorbar": {
              "outlinewidth": 1,
              "tickcolor": "rgb(36,36,36)",
              "ticks": "outside"
             }
            },
            "type": "parcoords"
           }
          ],
          "pie": [
           {
            "automargin": true,
            "type": "pie"
           }
          ],
          "scatter": [
           {
            "fillpattern": {
             "fillmode": "overlay",
             "size": 10,
             "solidity": 0.2
            },
            "type": "scatter"
           }
          ],
          "scatter3d": [
           {
            "line": {
             "colorbar": {
              "outlinewidth": 1,
              "tickcolor": "rgb(36,36,36)",
              "ticks": "outside"
             }
            },
            "marker": {
             "colorbar": {
              "outlinewidth": 1,
              "tickcolor": "rgb(36,36,36)",
              "ticks": "outside"
             }
            },
            "type": "scatter3d"
           }
          ],
          "scattercarpet": [
           {
            "marker": {
             "colorbar": {
              "outlinewidth": 1,
              "tickcolor": "rgb(36,36,36)",
              "ticks": "outside"
             }
            },
            "type": "scattercarpet"
           }
          ],
          "scattergeo": [
           {
            "marker": {
             "colorbar": {
              "outlinewidth": 1,
              "tickcolor": "rgb(36,36,36)",
              "ticks": "outside"
             }
            },
            "type": "scattergeo"
           }
          ],
          "scattergl": [
           {
            "marker": {
             "colorbar": {
              "outlinewidth": 1,
              "tickcolor": "rgb(36,36,36)",
              "ticks": "outside"
             }
            },
            "type": "scattergl"
           }
          ],
          "scattermapbox": [
           {
            "marker": {
             "colorbar": {
              "outlinewidth": 1,
              "tickcolor": "rgb(36,36,36)",
              "ticks": "outside"
             }
            },
            "type": "scattermapbox"
           }
          ],
          "scatterpolar": [
           {
            "marker": {
             "colorbar": {
              "outlinewidth": 1,
              "tickcolor": "rgb(36,36,36)",
              "ticks": "outside"
             }
            },
            "type": "scatterpolar"
           }
          ],
          "scatterpolargl": [
           {
            "marker": {
             "colorbar": {
              "outlinewidth": 1,
              "tickcolor": "rgb(36,36,36)",
              "ticks": "outside"
             }
            },
            "type": "scatterpolargl"
           }
          ],
          "scatterternary": [
           {
            "marker": {
             "colorbar": {
              "outlinewidth": 1,
              "tickcolor": "rgb(36,36,36)",
              "ticks": "outside"
             }
            },
            "type": "scatterternary"
           }
          ],
          "surface": [
           {
            "colorbar": {
             "outlinewidth": 1,
             "tickcolor": "rgb(36,36,36)",
             "ticks": "outside"
            },
            "colorscale": [
             [
              0.0,
              "#440154"
             ],
             [
              0.1111111111111111,
              "#482878"
             ],
             [
              0.2222222222222222,
              "#3e4989"
             ],
             [
              0.3333333333333333,
              "#31688e"
             ],
             [
              0.4444444444444444,
              "#26828e"
             ],
             [
              0.5555555555555556,
              "#1f9e89"
             ],
             [
              0.6666666666666666,
              "#35b779"
             ],
             [
              0.7777777777777778,
              "#6ece58"
             ],
             [
              0.8888888888888888,
              "#b5de2b"
             ],
             [
              1.0,
              "#fde725"
             ]
            ],
            "type": "surface"
           }
          ],
          "table": [
           {
            "cells": {
             "fill": {
              "color": "rgb(237,237,237)"
             },
             "line": {
              "color": "white"
             }
            },
            "header": {
             "fill": {
              "color": "rgb(217,217,217)"
             },
             "line": {
              "color": "white"
             }
            },
            "type": "table"
           }
          ]
         },
         "layout": {
          "annotationdefaults": {
           "arrowhead": 0,
           "arrowwidth": 1
          },
          "autotypenumbers": "strict",
          "coloraxis": {
           "colorbar": {
            "outlinewidth": 1,
            "tickcolor": "rgb(36,36,36)",
            "ticks": "outside"
           }
          },
          "colorscale": {
           "diverging": [
            [
             0.0,
             "rgb(103,0,31)"
            ],
            [
             0.1,
             "rgb(178,24,43)"
            ],
            [
             0.2,
             "rgb(214,96,77)"
            ],
            [
             0.3,
             "rgb(244,165,130)"
            ],
            [
             0.4,
             "rgb(253,219,199)"
            ],
            [
             0.5,
             "rgb(247,247,247)"
            ],
            [
             0.6,
             "rgb(209,229,240)"
            ],
            [
             0.7,
             "rgb(146,197,222)"
            ],
            [
             0.8,
             "rgb(67,147,195)"
            ],
            [
             0.9,
             "rgb(33,102,172)"
            ],
            [
             1.0,
             "rgb(5,48,97)"
            ]
           ],
           "sequential": [
            [
             0.0,
             "#440154"
            ],
            [
             0.1111111111111111,
             "#482878"
            ],
            [
             0.2222222222222222,
             "#3e4989"
            ],
            [
             0.3333333333333333,
             "#31688e"
            ],
            [
             0.4444444444444444,
             "#26828e"
            ],
            [
             0.5555555555555556,
             "#1f9e89"
            ],
            [
             0.6666666666666666,
             "#35b779"
            ],
            [
             0.7777777777777778,
             "#6ece58"
            ],
            [
             0.8888888888888888,
             "#b5de2b"
            ],
            [
             1.0,
             "#fde725"
            ]
           ],
           "sequentialminus": [
            [
             0.0,
             "#440154"
            ],
            [
             0.1111111111111111,
             "#482878"
            ],
            [
             0.2222222222222222,
             "#3e4989"
            ],
            [
             0.3333333333333333,
             "#31688e"
            ],
            [
             0.4444444444444444,
             "#26828e"
            ],
            [
             0.5555555555555556,
             "#1f9e89"
            ],
            [
             0.6666666666666666,
             "#35b779"
            ],
            [
             0.7777777777777778,
             "#6ece58"
            ],
            [
             0.8888888888888888,
             "#b5de2b"
            ],
            [
             1.0,
             "#fde725"
            ]
           ]
          },
          "colorway": [
           "#91268F",
           "#8CC63E",
           "#00A7A0",
           "#F05A28",
           "#4C4C4C",
           "#630460",
           "#9f3913",
           "#588527",
           "#00716c",
           "#3e4040"
          ],
          "font": {
           "color": "rgb(36,36,36)",
           "family": "Poppins",
           "size": 11
          },
          "geo": {
           "bgcolor": "white",
           "lakecolor": "white",
           "landcolor": "white",
           "showlakes": true,
           "showland": true,
           "subunitcolor": "white"
          },
          "hoverlabel": {
           "align": "left"
          },
          "hovermode": "closest",
          "mapbox": {
           "style": "light"
          },
          "paper_bgcolor": "white",
          "plot_bgcolor": "white",
          "polar": {
           "angularaxis": {
            "gridcolor": "rgb(232,232,232)",
            "linecolor": "rgb(36,36,36)",
            "showgrid": false,
            "showline": true,
            "ticks": "outside"
           },
           "bgcolor": "white",
           "radialaxis": {
            "gridcolor": "rgb(232,232,232)",
            "linecolor": "rgb(36,36,36)",
            "showgrid": false,
            "showline": true,
            "ticks": "outside"
           }
          },
          "scene": {
           "xaxis": {
            "backgroundcolor": "white",
            "gridcolor": "rgb(232,232,232)",
            "gridwidth": 2,
            "linecolor": "rgb(36,36,36)",
            "showbackground": true,
            "showgrid": false,
            "showline": true,
            "ticks": "outside",
            "zeroline": false,
            "zerolinecolor": "rgb(36,36,36)"
           },
           "yaxis": {
            "backgroundcolor": "white",
            "gridcolor": "rgb(232,232,232)",
            "gridwidth": 2,
            "linecolor": "rgb(36,36,36)",
            "showbackground": true,
            "showgrid": false,
            "showline": true,
            "ticks": "outside",
            "zeroline": false,
            "zerolinecolor": "rgb(36,36,36)"
           },
           "zaxis": {
            "backgroundcolor": "white",
            "gridcolor": "rgb(232,232,232)",
            "gridwidth": 2,
            "linecolor": "rgb(36,36,36)",
            "showbackground": true,
            "showgrid": false,
            "showline": true,
            "ticks": "outside",
            "zeroline": false,
            "zerolinecolor": "rgb(36,36,36)"
           }
          },
          "shapedefaults": {
           "fillcolor": "black",
           "line": {
            "width": 0
           },
           "opacity": 0.3
          },
          "ternary": {
           "aaxis": {
            "gridcolor": "rgb(232,232,232)",
            "linecolor": "rgb(36,36,36)",
            "showgrid": false,
            "showline": true,
            "ticks": "outside"
           },
           "baxis": {
            "gridcolor": "rgb(232,232,232)",
            "linecolor": "rgb(36,36,36)",
            "showgrid": false,
            "showline": true,
            "ticks": "outside"
           },
           "bgcolor": "white",
           "caxis": {
            "gridcolor": "rgb(232,232,232)",
            "linecolor": "rgb(36,36,36)",
            "showgrid": false,
            "showline": true,
            "ticks": "outside"
           }
          },
          "title": {
           "x": 0.05
          },
          "xaxis": {
           "automargin": true,
           "gridcolor": "rgb(232,232,232)",
           "linecolor": "rgb(36,36,36)",
           "showgrid": false,
           "showline": true,
           "ticks": "outside",
           "title": {
            "standoff": 15
           },
           "zeroline": false,
           "zerolinecolor": "rgb(36,36,36)"
          },
          "yaxis": {
           "automargin": true,
           "gridcolor": "rgb(232,232,232)",
           "linecolor": "rgb(36,36,36)",
           "showgrid": false,
           "showline": true,
           "ticks": "outside",
           "title": {
            "standoff": 15
           },
           "zeroline": false,
           "zerolinecolor": "rgb(36,36,36)"
          }
         }
        },
        "title": {
         "text": "Park and Ride Usage vs Observed Data"
        }
       }
      },
      "text/html": [
       "<div>                            <div id=\"911a1d8c-6f98-4a0c-a3ea-744b7c31d8a4\" class=\"plotly-graph-div\" style=\"height:525px; width:100%;\"></div>            <script type=\"text/javascript\">                require([\"plotly\"], function(Plotly) {                    window.PLOTLYENV=window.PLOTLYENV || {};                                    if (document.getElementById(\"911a1d8c-6f98-4a0c-a3ea-744b7c31d8a4\")) {                    Plotly.newPlot(                        \"911a1d8c-6f98-4a0c-a3ea-744b7c31d8a4\",                        [{\"customdata\":[[\"Tacoma Dome Station\",3752,221,2283,-811],[\"Mukilteo Station\",3756,4,63,-22],[\"Crossroads Neighborhood Church\",3763,7,107,-8],[\"Redondo Heights P&R\",3765,2,697,-92],[\"Duvall P&R\",3767,1,49,-14],[\"Parkland Transit Center\",3770,10,62,7],[\"South Tacoma West\",3774,4,78,1],[\"North Purdy\\u002fPurdy Crescent\",3777,1,200,-28],[\"Auburn P&R\",3782,3,358,-50],[\"Holy Spirit Lutheran Church\",3784,18,40,9],[\"Burien Transit Center\",3787,41,488,4],[\"Maple Valley P&R\",3789,1,122,-13],[\"South Renton P&R\",3790,40,385,-142],[\"Issaquah Transit Center\",3792,16,200,-166],[\"Mercer Island P&R\",3793,190,447,-80],[\"Newport Hills P&R\",3795,3,275,-44],[\"Newport Covenant Church\",3797,2,75,-17],[\"South Bellevue P&R\",3798,29,1500,-85],[\"Eastgate P&R\",3800,47,1614,-676],[\"North Bend P&R\",3801,5,80,-3],[\"South Kirkland P&R\",3804,14,785,-298],[\"Overlake P&R\",3805,50,203,-27],[\"Houghton P&R\",3806,4,470,-12],[\"Redmond P&R\",3808,40,150,-290],[\"Valley Center\",3810,3,55,-1],[\"Bear Creek P&R\",3811,12,334,-100],[\"Kingsgate P&R\",3812,48,502,-96],[\"Kenmore P&R\",3815,42,603,-104],[\"Bothell P&R\",3817,63,220,-8],[\"Woodinville P&R\",3818,13,459,-26],[\"Ober Park\",3826,8,48,1],[\"Edmonds Station\",3830,2,259,-49],[\"Edmonds P&R\",3831,16,255,-8],[\"Mariner P&R\",3834,24,667,-63],[\"Arlington P&R\",3839,8,25,3],[\"Port Orchard Armory\",3843,165,105,72],[\"McWilliams P&R\",3845,1,151,-31],[\"Bethany Lutheran Church\",3846,35,80,22],[\"Gateway Fellowship\",3847,7,138,-31],[\"Suquamish United Church of Christ\",3850,4,65,1],[\"Eastmont P&R\",3863,2,389,-14],[\"Canyon Park P&R\",3865,9,298,-102],[\"Harper Evangelical Free Church\",3870,10,462,-42],[\"South Hill P&R\",3877,7,354,-37],[\"Preston P&R\",3883,31,53,16],[\"Bayside Community Church\",3884,3,210,-21],[\"Renton City Municipal Garage\",3894,21,150,17],[\"Tibbetts Lot\",3895,6,170,-3],[\"Maple Valley Town Square\",3898,4,90,-55],[\"All Saints Lutheran Church\",3899,6,75,-14],[\"City View Church\",3900,72,96,72],[\"Redmond Ridge P&R\",3903,3,52,-3],[\"Nativity Lutheran Church\",3905,2,49,1],[\"Everett Station\",3908,78,160,-210],[\"Tukwila Station (CR)\",3751,100,390,-33],[\"Everett Station (CR)\",3754,65,1067,-223],[\"Sumner Station (CR)\",3755,249,302,-46],[\"Kent Station (CR)\",3757,435,996,31],[\"Auburn Station (CR)\",3758,641,636,346],[\"Lakewood (CR)\",3759,6,600,-160],[\"Gateway P&R\",3760,57,104,25],[\"Puyallup Station (SB)\",3761,131,522,-401],[\"Puyallup Station (NB)\",3852,19,522,-513],[\"Twin Lakes P&R\",3762,2,600,-3],[\"Overlake Transit Center\",3764,103,323,90],[\"North Gig Harbor\\u002fKimball Drive\",3766,6,306,-31],[\"Roy 'Y' P&R\",3768,5,100,-3],[\"SR-512\\u002fI-5 (Lakewood)\",3771,20,493,-224],[\"Center Street P&R\",3772,14,75,9],[\"South Federal P&R\",3779,9,515,-14],[\"Federal Way P&R (320th)\",3781,85,877,63],[\"Kent\\u002fDes Moines P&R\",3785,12,404,-44],[\"Kent\\u002fJames St. P&R\",3786,94,713,40],[\"Tukwila\",3788,30,267,-176],[\"Renton Highlands P&R (St. Matts)\",3791,2,128,-18],[\"Mercer Island Presbyterian\",3794,20,30,10],[\"Wilburton\",3799,9,186,-52],[\"Evergreen Point P&R\",3802,86,51,36],[\"Bethel Lutheran\",3807,2,40,1],[\"Brickyard P&R\",3813,4,242,-100],[\"Bethany Bible Church\",3816,64,75,52],[\"Olson & Meyers\",3819,19,100,-14],[\"Spokane Street P&R\",3820,81,55,71],[\"Greenlake P&R\",3821,151,411,-84],[\"Northgate TC\",3822,2666,1444,2242],[\"Shoreline\",3824,28,393,-169],[\"112th St. & I-5\",3825,10,399,-276],[\"Mountlake Terrace P&R\",3828,32,874,-249],[\"Bethesda Lutheran\",3829,5,20,1],[\"Lynnwood P&R\",3832,14,1896,-67],[\"Swamp Creek P&R\",3833,13,410,-41],[\"Snohomish\",3835,7,104,-4],[\"Marysville - Ash Ave\",3836,2,202,-41],[\"Monroe\",3841,5,102,-5],[\"Federal Way\",3842,56,1190,-565],[\"72nd Street Transit Center\",3853,6,68,5],[\"DuPont\",3855,1,126,-33],[\"Aurora Village TC\",3856,73,202,3],[\"Aurora Nazarene\",3857,18,116,-19],[\"Lake Meridian P&R\",3861,10,172,6],[\"Smokey Pt. Church\",3862,4,50,-9],[\"McCollum Park P&R\",3864,16,409,-47],[\"Korean Presby. P&R\",3866,13,25,8],[\"Poulsbo Church of the Nazarene\",3868,1,266,-42],[\"Mullenix Road\",3871,5,92,-65],[\"TCC P&R\",3873,14,95,-49],[\"Ash Way P&R\",3874,64,1019,-598],[\"Bonney Lake P&R\",3875,6,356,-73],[\"Tukwila Int. Station\",3876,368,600,-202],[\"Issaquah Highlands\",3879,29,1000,-137],[\"Lake Stevens TC\",3880,9,207,-57],[\"Puyallup Fair's Red Lot\",3888,317,219,302],[\"Marysville - Cedar & Grove\",3889,6,213,-63],[\"Marysville I P&R\",3891,1,74,-8],[\"Martha Lake Covenant Church\",3892,6,75,-9],[\"South Sammammish P&R\",3893,1,265,-16],[\"Renton Transit Center\",3896,15,150,11],[\"Sammamish Lutheran P&R\",3902,4,54,-4],[\"Kennydale United Methodist Church\",3904,7,50,-4],[\"South SeaTac (LR)\",3907,1115,1160,121]],\"hovertemplate\":\"lat=%{lat}\\u003cbr\\u003elon=%{lon}\\u003cbr\\u003ename=%{customdata[0]}\\u003cbr\\u003eZoneID=%{customdata[1]}\\u003cbr\\u003eboardings=%{customdata[2]}\\u003cbr\\u003eCapacity=%{customdata[3]}\\u003cbr\\u003eboardings - occupancy=%{customdata[4]}\\u003cbr\\u003epercent diff=%{marker.color}\\u003cextra\\u003e\\u003c\\u002fextra\\u003e\",\"lat\":[47.240587026940496,47.949202090593815,47.631646481329874,47.35504335733807,47.74282207119212,47.14791172694066,47.20552052830966,47.38923379023241,47.32142070370895,47.7104244936842,47.469518524026284,47.39722692921272,47.47271938615727,47.5421344859425,47.58878969142359,47.55704702946253,47.564129961427035,47.58629181288903,47.580583829158485,47.49597432021159,47.64418998070187,47.63297717439434,47.66816331814846,47.6765003576322,47.42287235072545,47.674169895277565,47.71630675038611,47.75869948424539,47.759457740337254,47.75702879699488,47.45193656025647,47.81083814590226,47.805505328682436,47.879273837323716,48.196226663014926,47.53346196599079,47.620810382951404,47.635076024273125,47.733914565835,47.733267845932694,47.91577651606941,47.79421797219861,47.50395364516145,47.161515219367466,47.52729295506841,47.799607552327174,47.48065386274714,47.54050303955318,47.36261650204512,47.35719493962773,47.48028761734057,47.68558355990292,47.4435715904644,47.60111801912681,47.459791189113055,47.97553008822413,47.201048326678425,47.383970408531425,47.30597098022815,47.153298431654285,47.56718379854233,47.193060762628754,47.19226982725735,47.29373336434266,47.64429306998266,47.3163618931415,47.08271784155433,47.161484802874284,47.23400250827875,47.289041380796476,47.31163591874175,47.39168729512872,47.38491251743171,47.48197741301064,47.50715467593467,47.57701316304821,47.60395259926627,47.63677734251024,47.75569187858501,47.74096553654258,47.75911072833425,47.520273185221846,47.571714184646375,47.67673605768736,47.70239443761157,47.76687666732243,47.897149496501655,47.786023838048486,47.786405217140484,47.81595811606588,47.851158747803034,47.931600004686565,48.052799958531104,47.86853209498515,47.31771355238481,47.192971542906285,47.08990334694735,47.77471134386238,47.75619875057065,47.36115476012324,48.15732422532287,47.880528888492265,47.78299309998247,47.759682723438075,47.4683127358232,47.24317915202268,47.852265826626585,47.17424906089401,47.46462822513558,47.54548131124219,47.99833018258796,47.185461659521216,48.06186352787003,48.05093832410037,47.85078851793791,47.582163360805794,47.48170670581923,47.601973031740954,47.51822107506604,47.42300305792277],\"legendgroup\":\"\",\"lon\":[-122.42559764232288,-122.29903798331632,-122.6376553285978,-122.30994876622252,-121.98519670565817,-122.43537507130094,-122.46332756461389,-122.62545806801099,-122.22738331793343,-122.20748786443893,-122.33865108623566,-122.04489635419205,-122.2140249890397,-122.06181211149554,-122.23166518784704,-122.1886194896657,-122.17018509756201,-122.1904053737166,-122.15247915819556,-121.78890814933835,-122.19692070930883,-122.1356025761157,-122.18466300042218,-122.12357646358394,-122.4617588893532,-122.10086680270592,-122.18764374421475,-122.24193472527783,-122.20174474164908,-122.15150344952004,-122.45962271847641,-122.38443648143998,-122.33045854744478,-122.23819674557204,-122.129183066928,-122.61872855042411,-122.62808145181158,-122.53684064463692,-122.63927304886704,-122.55779654978755,-122.2039867300772,-122.21165372444678,-122.51509635593781,-122.30486983988138,-121.93697928446608,-122.508528546698,-122.20850143259241,-122.06172743208168,-122.0201427495308,-122.29322515985572,-122.22017447638363,-122.03407154200131,-122.15522089858798,-122.63061955933047,-122.24142204292801,-122.19768602099377,-122.24474142310243,-122.23410004243462,-122.23148352515318,-122.49859252745824,-122.65169744997347,-122.29627387444259,-122.29638289622436,-122.3599437944882,-122.13352825516421,-122.58550724037367,-122.43467115344275,-122.4832269556689,-122.49605950380925,-122.32271243809302,-122.30155617219685,-122.28801450038526,-122.24251278515935,-122.26898729590523,-122.18367513597434,-122.22739995414824,-122.1855070751748,-122.23793067783187,-122.31907049448232,-122.18801850253551,-122.25940207427163,-122.33619477501689,-122.36486292041623,-122.3207479132486,-122.3263535981885,-122.34679899076795,-122.21539257019184,-122.31456649794684,-122.30895559283637,-122.29397697243073,-122.2762912947167,-122.10076917207742,-122.18350218748834,-121.9960708438206,-122.30476126399772,-122.41141133327692,-122.6408244608136,-122.34274243377105,-122.33571558742703,-122.16596694150272,-122.18235612206618,-122.22076355008004,-122.34737059623502,-122.65215146199641,-122.6219458140525,-122.52527889141626,-122.25855174480624,-122.18490269497767,-122.28690849789872,-122.01943008905627,-122.1037985047417,-122.29928303340452,-122.17950440147415,-122.18326561243495,-122.2711389215377,-122.03642859327114,-122.20744093150329,-122.03476548005801,-122.20129952764448,-122.29884833358034],\"marker\":{\"color\":[-0.7858527131782945,-0.8461538461538461,-0.5333333333333333,-0.9787234042553191,-0.9333333333333333,2.3333333333333335,0.3333333333333333,-0.9655172413793104,-0.9433962264150944,1.0,0.10810810810810811,-0.9285714285714286,-0.7802197802197802,-0.9120879120879121,-0.2962962962962963,-0.9361702127659575,-0.8947368421052632,-0.7456140350877193,-0.9349930843706777,-0.375,-0.9551282051282052,-0.35064935064935066,-0.75,-0.8787878787878788,-0.25,-0.8928571428571429,-0.6666666666666666,-0.7123287671232876,-0.11267605633802817,-0.6666666666666666,0.14285714285714285,-0.9607843137254902,-0.3333333333333333,-0.7241379310344828,0.6,0.7741935483870968,-0.96875,1.6923076923076923,-0.8157894736842105,0.3333333333333333,-0.875,-0.918918918918919,-0.8076923076923077,-0.8409090909090909,1.0666666666666667,-0.875,4.25,-0.3333333333333333,-0.9322033898305084,-0.7,null,-0.5,1.0,-0.7291666666666666,-0.24812030075187969,-0.7743055555555556,-0.15593220338983052,0.07673267326732673,1.1728813559322033,-0.963855421686747,0.78125,-0.7537593984962406,-0.9642857142857143,-0.6,6.923076923076923,-0.8378378378378378,-0.375,-0.9180327868852459,1.8,-0.6086956521739131,2.8636363636363638,-0.7857142857142857,0.7407407407407407,-0.8543689320388349,-0.9,1.0,-0.8524590163934426,0.72,1.0,-0.9615384615384616,4.333333333333333,-0.42424242424242425,7.1,-0.3574468085106383,5.287735849056604,-0.8578680203045685,-0.965034965034965,-0.8861209964412812,0.25,-0.8271604938271605,-0.7592592592592593,-0.36363636363636365,-0.9534883720930233,-0.5,-0.9098228663446055,5.0,-0.9705882352941176,0.04285714285714286,-0.5135135135135135,1.5,-0.6923076923076923,-0.746031746031746,1.6,-0.9767441860465116,-0.9285714285714286,-0.7777777777777778,-0.9033232628398792,-0.9240506329113924,-0.3543859649122807,-0.8253012048192772,-0.8636363636363636,20.133333333333333,-0.9130434782608695,-0.8888888888888888,-0.6,-0.9411764705882353,2.75,-0.5,-0.36363636363636365,0.12173038229376258],\"coloraxis\":\"coloraxis\"},\"mode\":\"markers\",\"name\":\"\",\"showlegend\":false,\"subplot\":\"mapbox\",\"type\":\"scattermapbox\"}],                        {\"template\":{\"data\":{\"barpolar\":[{\"marker\":{\"line\":{\"color\":\"white\",\"width\":0.5},\"pattern\":{\"fillmode\":\"overlay\",\"size\":10,\"solidity\":0.2}},\"type\":\"barpolar\"}],\"bar\":[{\"error_x\":{\"color\":\"rgb(36,36,36)\"},\"error_y\":{\"color\":\"rgb(36,36,36)\"},\"marker\":{\"line\":{\"color\":\"white\",\"width\":0.5},\"pattern\":{\"fillmode\":\"overlay\",\"size\":10,\"solidity\":0.2}},\"type\":\"bar\"}],\"carpet\":[{\"aaxis\":{\"endlinecolor\":\"rgb(36,36,36)\",\"gridcolor\":\"white\",\"linecolor\":\"white\",\"minorgridcolor\":\"white\",\"startlinecolor\":\"rgb(36,36,36)\"},\"baxis\":{\"endlinecolor\":\"rgb(36,36,36)\",\"gridcolor\":\"white\",\"linecolor\":\"white\",\"minorgridcolor\":\"white\",\"startlinecolor\":\"rgb(36,36,36)\"},\"type\":\"carpet\"}],\"choropleth\":[{\"colorbar\":{\"outlinewidth\":1,\"tickcolor\":\"rgb(36,36,36)\",\"ticks\":\"outside\"},\"type\":\"choropleth\"}],\"contourcarpet\":[{\"colorbar\":{\"outlinewidth\":1,\"tickcolor\":\"rgb(36,36,36)\",\"ticks\":\"outside\"},\"type\":\"contourcarpet\"}],\"contour\":[{\"colorbar\":{\"outlinewidth\":1,\"tickcolor\":\"rgb(36,36,36)\",\"ticks\":\"outside\"},\"colorscale\":[[0.0,\"#440154\"],[0.1111111111111111,\"#482878\"],[0.2222222222222222,\"#3e4989\"],[0.3333333333333333,\"#31688e\"],[0.4444444444444444,\"#26828e\"],[0.5555555555555556,\"#1f9e89\"],[0.6666666666666666,\"#35b779\"],[0.7777777777777778,\"#6ece58\"],[0.8888888888888888,\"#b5de2b\"],[1.0,\"#fde725\"]],\"type\":\"contour\"}],\"heatmapgl\":[{\"colorbar\":{\"outlinewidth\":1,\"tickcolor\":\"rgb(36,36,36)\",\"ticks\":\"outside\"},\"colorscale\":[[0.0,\"#440154\"],[0.1111111111111111,\"#482878\"],[0.2222222222222222,\"#3e4989\"],[0.3333333333333333,\"#31688e\"],[0.4444444444444444,\"#26828e\"],[0.5555555555555556,\"#1f9e89\"],[0.6666666666666666,\"#35b779\"],[0.7777777777777778,\"#6ece58\"],[0.8888888888888888,\"#b5de2b\"],[1.0,\"#fde725\"]],\"type\":\"heatmapgl\"}],\"heatmap\":[{\"colorbar\":{\"outlinewidth\":1,\"tickcolor\":\"rgb(36,36,36)\",\"ticks\":\"outside\"},\"colorscale\":[[0.0,\"#440154\"],[0.1111111111111111,\"#482878\"],[0.2222222222222222,\"#3e4989\"],[0.3333333333333333,\"#31688e\"],[0.4444444444444444,\"#26828e\"],[0.5555555555555556,\"#1f9e89\"],[0.6666666666666666,\"#35b779\"],[0.7777777777777778,\"#6ece58\"],[0.8888888888888888,\"#b5de2b\"],[1.0,\"#fde725\"]],\"type\":\"heatmap\"}],\"histogram2dcontour\":[{\"colorbar\":{\"outlinewidth\":1,\"tickcolor\":\"rgb(36,36,36)\",\"ticks\":\"outside\"},\"colorscale\":[[0.0,\"#440154\"],[0.1111111111111111,\"#482878\"],[0.2222222222222222,\"#3e4989\"],[0.3333333333333333,\"#31688e\"],[0.4444444444444444,\"#26828e\"],[0.5555555555555556,\"#1f9e89\"],[0.6666666666666666,\"#35b779\"],[0.7777777777777778,\"#6ece58\"],[0.8888888888888888,\"#b5de2b\"],[1.0,\"#fde725\"]],\"type\":\"histogram2dcontour\"}],\"histogram2d\":[{\"colorbar\":{\"outlinewidth\":1,\"tickcolor\":\"rgb(36,36,36)\",\"ticks\":\"outside\"},\"colorscale\":[[0.0,\"#440154\"],[0.1111111111111111,\"#482878\"],[0.2222222222222222,\"#3e4989\"],[0.3333333333333333,\"#31688e\"],[0.4444444444444444,\"#26828e\"],[0.5555555555555556,\"#1f9e89\"],[0.6666666666666666,\"#35b779\"],[0.7777777777777778,\"#6ece58\"],[0.8888888888888888,\"#b5de2b\"],[1.0,\"#fde725\"]],\"type\":\"histogram2d\"}],\"histogram\":[{\"marker\":{\"line\":{\"color\":\"white\",\"width\":0.6}},\"type\":\"histogram\"}],\"mesh3d\":[{\"colorbar\":{\"outlinewidth\":1,\"tickcolor\":\"rgb(36,36,36)\",\"ticks\":\"outside\"},\"type\":\"mesh3d\"}],\"parcoords\":[{\"line\":{\"colorbar\":{\"outlinewidth\":1,\"tickcolor\":\"rgb(36,36,36)\",\"ticks\":\"outside\"}},\"type\":\"parcoords\"}],\"pie\":[{\"automargin\":true,\"type\":\"pie\"}],\"scatter3d\":[{\"line\":{\"colorbar\":{\"outlinewidth\":1,\"tickcolor\":\"rgb(36,36,36)\",\"ticks\":\"outside\"}},\"marker\":{\"colorbar\":{\"outlinewidth\":1,\"tickcolor\":\"rgb(36,36,36)\",\"ticks\":\"outside\"}},\"type\":\"scatter3d\"}],\"scattercarpet\":[{\"marker\":{\"colorbar\":{\"outlinewidth\":1,\"tickcolor\":\"rgb(36,36,36)\",\"ticks\":\"outside\"}},\"type\":\"scattercarpet\"}],\"scattergeo\":[{\"marker\":{\"colorbar\":{\"outlinewidth\":1,\"tickcolor\":\"rgb(36,36,36)\",\"ticks\":\"outside\"}},\"type\":\"scattergeo\"}],\"scattergl\":[{\"marker\":{\"colorbar\":{\"outlinewidth\":1,\"tickcolor\":\"rgb(36,36,36)\",\"ticks\":\"outside\"}},\"type\":\"scattergl\"}],\"scattermapbox\":[{\"marker\":{\"colorbar\":{\"outlinewidth\":1,\"tickcolor\":\"rgb(36,36,36)\",\"ticks\":\"outside\"}},\"type\":\"scattermapbox\"}],\"scatterpolargl\":[{\"marker\":{\"colorbar\":{\"outlinewidth\":1,\"tickcolor\":\"rgb(36,36,36)\",\"ticks\":\"outside\"}},\"type\":\"scatterpolargl\"}],\"scatterpolar\":[{\"marker\":{\"colorbar\":{\"outlinewidth\":1,\"tickcolor\":\"rgb(36,36,36)\",\"ticks\":\"outside\"}},\"type\":\"scatterpolar\"}],\"scatter\":[{\"fillpattern\":{\"fillmode\":\"overlay\",\"size\":10,\"solidity\":0.2},\"type\":\"scatter\"}],\"scatterternary\":[{\"marker\":{\"colorbar\":{\"outlinewidth\":1,\"tickcolor\":\"rgb(36,36,36)\",\"ticks\":\"outside\"}},\"type\":\"scatterternary\"}],\"surface\":[{\"colorbar\":{\"outlinewidth\":1,\"tickcolor\":\"rgb(36,36,36)\",\"ticks\":\"outside\"},\"colorscale\":[[0.0,\"#440154\"],[0.1111111111111111,\"#482878\"],[0.2222222222222222,\"#3e4989\"],[0.3333333333333333,\"#31688e\"],[0.4444444444444444,\"#26828e\"],[0.5555555555555556,\"#1f9e89\"],[0.6666666666666666,\"#35b779\"],[0.7777777777777778,\"#6ece58\"],[0.8888888888888888,\"#b5de2b\"],[1.0,\"#fde725\"]],\"type\":\"surface\"}],\"table\":[{\"cells\":{\"fill\":{\"color\":\"rgb(237,237,237)\"},\"line\":{\"color\":\"white\"}},\"header\":{\"fill\":{\"color\":\"rgb(217,217,217)\"},\"line\":{\"color\":\"white\"}},\"type\":\"table\"}]},\"layout\":{\"annotationdefaults\":{\"arrowhead\":0,\"arrowwidth\":1},\"autotypenumbers\":\"strict\",\"coloraxis\":{\"colorbar\":{\"outlinewidth\":1,\"tickcolor\":\"rgb(36,36,36)\",\"ticks\":\"outside\"}},\"colorscale\":{\"diverging\":[[0.0,\"rgb(103,0,31)\"],[0.1,\"rgb(178,24,43)\"],[0.2,\"rgb(214,96,77)\"],[0.3,\"rgb(244,165,130)\"],[0.4,\"rgb(253,219,199)\"],[0.5,\"rgb(247,247,247)\"],[0.6,\"rgb(209,229,240)\"],[0.7,\"rgb(146,197,222)\"],[0.8,\"rgb(67,147,195)\"],[0.9,\"rgb(33,102,172)\"],[1.0,\"rgb(5,48,97)\"]],\"sequential\":[[0.0,\"#440154\"],[0.1111111111111111,\"#482878\"],[0.2222222222222222,\"#3e4989\"],[0.3333333333333333,\"#31688e\"],[0.4444444444444444,\"#26828e\"],[0.5555555555555556,\"#1f9e89\"],[0.6666666666666666,\"#35b779\"],[0.7777777777777778,\"#6ece58\"],[0.8888888888888888,\"#b5de2b\"],[1.0,\"#fde725\"]],\"sequentialminus\":[[0.0,\"#440154\"],[0.1111111111111111,\"#482878\"],[0.2222222222222222,\"#3e4989\"],[0.3333333333333333,\"#31688e\"],[0.4444444444444444,\"#26828e\"],[0.5555555555555556,\"#1f9e89\"],[0.6666666666666666,\"#35b779\"],[0.7777777777777778,\"#6ece58\"],[0.8888888888888888,\"#b5de2b\"],[1.0,\"#fde725\"]]},\"colorway\":[\"#91268F\",\"#8CC63E\",\"#00A7A0\",\"#F05A28\",\"#4C4C4C\",\"#630460\",\"#9f3913\",\"#588527\",\"#00716c\",\"#3e4040\"],\"font\":{\"color\":\"rgb(36,36,36)\",\"family\":\"Poppins\",\"size\":11},\"geo\":{\"bgcolor\":\"white\",\"lakecolor\":\"white\",\"landcolor\":\"white\",\"showlakes\":true,\"showland\":true,\"subunitcolor\":\"white\"},\"hoverlabel\":{\"align\":\"left\"},\"hovermode\":\"closest\",\"mapbox\":{\"style\":\"light\"},\"paper_bgcolor\":\"white\",\"plot_bgcolor\":\"white\",\"polar\":{\"angularaxis\":{\"gridcolor\":\"rgb(232,232,232)\",\"linecolor\":\"rgb(36,36,36)\",\"showgrid\":false,\"showline\":true,\"ticks\":\"outside\"},\"bgcolor\":\"white\",\"radialaxis\":{\"gridcolor\":\"rgb(232,232,232)\",\"linecolor\":\"rgb(36,36,36)\",\"showgrid\":false,\"showline\":true,\"ticks\":\"outside\"}},\"scene\":{\"xaxis\":{\"backgroundcolor\":\"white\",\"gridcolor\":\"rgb(232,232,232)\",\"gridwidth\":2,\"linecolor\":\"rgb(36,36,36)\",\"showbackground\":true,\"showgrid\":false,\"showline\":true,\"ticks\":\"outside\",\"zeroline\":false,\"zerolinecolor\":\"rgb(36,36,36)\"},\"yaxis\":{\"backgroundcolor\":\"white\",\"gridcolor\":\"rgb(232,232,232)\",\"gridwidth\":2,\"linecolor\":\"rgb(36,36,36)\",\"showbackground\":true,\"showgrid\":false,\"showline\":true,\"ticks\":\"outside\",\"zeroline\":false,\"zerolinecolor\":\"rgb(36,36,36)\"},\"zaxis\":{\"backgroundcolor\":\"white\",\"gridcolor\":\"rgb(232,232,232)\",\"gridwidth\":2,\"linecolor\":\"rgb(36,36,36)\",\"showbackground\":true,\"showgrid\":false,\"showline\":true,\"ticks\":\"outside\",\"zeroline\":false,\"zerolinecolor\":\"rgb(36,36,36)\"}},\"shapedefaults\":{\"fillcolor\":\"black\",\"line\":{\"width\":0},\"opacity\":0.3},\"ternary\":{\"aaxis\":{\"gridcolor\":\"rgb(232,232,232)\",\"linecolor\":\"rgb(36,36,36)\",\"showgrid\":false,\"showline\":true,\"ticks\":\"outside\"},\"baxis\":{\"gridcolor\":\"rgb(232,232,232)\",\"linecolor\":\"rgb(36,36,36)\",\"showgrid\":false,\"showline\":true,\"ticks\":\"outside\"},\"bgcolor\":\"white\",\"caxis\":{\"gridcolor\":\"rgb(232,232,232)\",\"linecolor\":\"rgb(36,36,36)\",\"showgrid\":false,\"showline\":true,\"ticks\":\"outside\"}},\"title\":{\"x\":0.05},\"xaxis\":{\"automargin\":true,\"gridcolor\":\"rgb(232,232,232)\",\"linecolor\":\"rgb(36,36,36)\",\"showgrid\":false,\"showline\":true,\"ticks\":\"outside\",\"title\":{\"standoff\":15},\"zeroline\":false,\"zerolinecolor\":\"rgb(36,36,36)\"},\"yaxis\":{\"automargin\":true,\"gridcolor\":\"rgb(232,232,232)\",\"linecolor\":\"rgb(36,36,36)\",\"showgrid\":false,\"showline\":true,\"ticks\":\"outside\",\"title\":{\"standoff\":15},\"zeroline\":false,\"zerolinecolor\":\"rgb(36,36,36)\"}}},\"mapbox\":{\"domain\":{\"x\":[0.0,1.0],\"y\":[0.0,1.0]},\"center\":{\"lat\":47.57600671781624,\"lon\":-122.28269323260919},\"zoom\":8,\"style\":\"carto-positron\"},\"coloraxis\":{\"colorbar\":{\"title\":{\"text\":\"percent diff\"}},\"colorscale\":[[0.0,\"#440154\"],[0.1111111111111111,\"#482878\"],[0.2222222222222222,\"#3e4989\"],[0.3333333333333333,\"#31688e\"],[0.4444444444444444,\"#26828e\"],[0.5555555555555556,\"#1f9e89\"],[0.6666666666666666,\"#35b779\"],[0.7777777777777778,\"#6ece58\"],[0.8888888888888888,\"#b5de2b\"],[1.0,\"#fde725\"]]},\"legend\":{\"tracegroupgap\":0},\"title\":{\"text\":\"Park and Ride Usage vs Observed Data\"},\"margin\":{\"r\":0,\"t\":0,\"l\":0,\"b\":0}},                        {\"responsive\": true}                    ).then(function(){\n",
       "                            \n",
       "var gd = document.getElementById('911a1d8c-6f98-4a0c-a3ea-744b7c31d8a4');\n",
       "var x = new MutationObserver(function (mutations, observer) {{\n",
       "        var display = window.getComputedStyle(gd).display;\n",
       "        if (!display || display === 'none') {{\n",
       "            console.log([gd, 'removed!']);\n",
       "            Plotly.purge(gd);\n",
       "            observer.disconnect();\n",
       "        }}\n",
       "}});\n",
       "\n",
       "// Listen for the removal of the full notebook cells\n",
       "var notebookContainer = gd.closest('#notebook-container');\n",
       "if (notebookContainer) {{\n",
       "    x.observe(notebookContainer, {childList: true});\n",
       "}}\n",
       "\n",
       "// Listen for the clearing of the current output cell\n",
       "var outputEl = gd.closest('.output');\n",
       "if (outputEl) {{\n",
       "    x.observe(outputEl, {childList: true});\n",
       "}}\n",
       "\n",
       "                        })                };                });            </script>        </div>"
      ]
     },
     "metadata": {},
     "output_type": "display_data"
    }
   ],
   "source": [
    "fig = px.scatter_mapbox(gdf_p_r_data, lat=gdf_p_r_data.geometry.y, lon=gdf_p_r_data.geometry.x, color='percent diff', \n",
    "                        hover_data=['name','ZoneID','boardings', 'Capacity', 'boardings - occupancy'], \n",
    "                        title='Park and Ride Usage vs Observed Data', zoom=8)\n",
    "fig.update_layout(mapbox_style=\"carto-positron\")\n",
    "fig.update_layout(margin={\"r\":0,\"t\":0,\"l\":0,\"b\":0})\n",
    "\n",
    "fig.show()"
   ]
  },
  {
   "cell_type": "code",
   "execution_count": 43,
   "id": "0a1c2aa4",
   "metadata": {},
   "outputs": [
    {
     "data": {
      "text/html": [
       "<div>\n",
       "<style scoped>\n",
       "    .dataframe tbody tr th:only-of-type {\n",
       "        vertical-align: middle;\n",
       "    }\n",
       "\n",
       "    .dataframe tbody tr th {\n",
       "        vertical-align: top;\n",
       "    }\n",
       "\n",
       "    .dataframe thead th {\n",
       "        text-align: right;\n",
       "    }\n",
       "</style>\n",
       "<table border=\"1\" class=\"dataframe\">\n",
       "  <thead>\n",
       "    <tr style=\"text-align: right;\">\n",
       "      <th></th>\n",
       "      <th>ZoneID</th>\n",
       "      <th>data_year</th>\n",
       "      <th>name</th>\n",
       "      <th>city</th>\n",
       "      <th>capacity</th>\n",
       "      <th>occupancy</th>\n",
       "      <th>boardings</th>\n",
       "      <th>boardings - occupancy</th>\n",
       "      <th>percent diff</th>\n",
       "    </tr>\n",
       "  </thead>\n",
       "  <tbody>\n",
       "    <tr>\n",
       "      <th>34</th>\n",
       "      <td>3839</td>\n",
       "      <td>2023</td>\n",
       "      <td>Arlington P&amp;R</td>\n",
       "      <td>Arlington</td>\n",
       "      <td>25</td>\n",
       "      <td>5</td>\n",
       "      <td>8</td>\n",
       "      <td>3</td>\n",
       "      <td>0.60</td>\n",
       "    </tr>\n",
       "    <tr>\n",
       "      <th>100</th>\n",
       "      <td>3862</td>\n",
       "      <td>2023</td>\n",
       "      <td>Smokey Pt. Church</td>\n",
       "      <td>Arlington</td>\n",
       "      <td>50</td>\n",
       "      <td>13</td>\n",
       "      <td>4</td>\n",
       "      <td>-9</td>\n",
       "      <td>-0.69</td>\n",
       "    </tr>\n",
       "    <tr>\n",
       "      <th>49</th>\n",
       "      <td>3899</td>\n",
       "      <td>2023</td>\n",
       "      <td>All Saints Lutheran Church</td>\n",
       "      <td>Auburn</td>\n",
       "      <td>75</td>\n",
       "      <td>20</td>\n",
       "      <td>6</td>\n",
       "      <td>-14</td>\n",
       "      <td>-0.70</td>\n",
       "    </tr>\n",
       "    <tr>\n",
       "      <th>8</th>\n",
       "      <td>3782</td>\n",
       "      <td>2023</td>\n",
       "      <td>Auburn P&amp;R</td>\n",
       "      <td>Auburn</td>\n",
       "      <td>244</td>\n",
       "      <td>53</td>\n",
       "      <td>3</td>\n",
       "      <td>-50</td>\n",
       "      <td>-0.94</td>\n",
       "    </tr>\n",
       "    <tr>\n",
       "      <th>58</th>\n",
       "      <td>3758</td>\n",
       "      <td>2023</td>\n",
       "      <td>Auburn Station (CR)</td>\n",
       "      <td>Auburn</td>\n",
       "      <td>520</td>\n",
       "      <td>295</td>\n",
       "      <td>641</td>\n",
       "      <td>346</td>\n",
       "      <td>1.17</td>\n",
       "    </tr>\n",
       "    <tr>\n",
       "      <th>...</th>\n",
       "      <td>...</td>\n",
       "      <td>...</td>\n",
       "      <td>...</td>\n",
       "      <td>...</td>\n",
       "      <td>...</td>\n",
       "      <td>...</td>\n",
       "      <td>...</td>\n",
       "      <td>...</td>\n",
       "      <td>...</td>\n",
       "    </tr>\n",
       "    <tr>\n",
       "      <th>108</th>\n",
       "      <td>3876</td>\n",
       "      <td>2023</td>\n",
       "      <td>Tukwila Int. Station</td>\n",
       "      <td>Tukwila</td>\n",
       "      <td>600</td>\n",
       "      <td>570</td>\n",
       "      <td>368</td>\n",
       "      <td>-202</td>\n",
       "      <td>-0.35</td>\n",
       "    </tr>\n",
       "    <tr>\n",
       "      <th>54</th>\n",
       "      <td>3751</td>\n",
       "      <td>2023</td>\n",
       "      <td>Tukwila Station (CR)</td>\n",
       "      <td>Tukwila</td>\n",
       "      <td>390</td>\n",
       "      <td>133</td>\n",
       "      <td>100</td>\n",
       "      <td>-33</td>\n",
       "      <td>-0.25</td>\n",
       "    </tr>\n",
       "    <tr>\n",
       "      <th>30</th>\n",
       "      <td>3826</td>\n",
       "      <td>2023</td>\n",
       "      <td>Ober Park</td>\n",
       "      <td>Vashon Island</td>\n",
       "      <td>48</td>\n",
       "      <td>7</td>\n",
       "      <td>8</td>\n",
       "      <td>1</td>\n",
       "      <td>0.14</td>\n",
       "    </tr>\n",
       "    <tr>\n",
       "      <th>24</th>\n",
       "      <td>3810</td>\n",
       "      <td>2023</td>\n",
       "      <td>Valley Center</td>\n",
       "      <td>Vashon Island</td>\n",
       "      <td>55</td>\n",
       "      <td>4</td>\n",
       "      <td>3</td>\n",
       "      <td>-1</td>\n",
       "      <td>-0.25</td>\n",
       "    </tr>\n",
       "    <tr>\n",
       "      <th>29</th>\n",
       "      <td>3818</td>\n",
       "      <td>2023</td>\n",
       "      <td>Woodinville P&amp;R</td>\n",
       "      <td>Woodinville</td>\n",
       "      <td>438</td>\n",
       "      <td>39</td>\n",
       "      <td>13</td>\n",
       "      <td>-26</td>\n",
       "      <td>-0.67</td>\n",
       "    </tr>\n",
       "  </tbody>\n",
       "</table>\n",
       "<p>120 rows � 9 columns</p>\n",
       "</div>"
      ],
      "text/plain": [
       "     ZoneID  data_year                        name           city  capacity  \\\n",
       "34     3839       2023               Arlington P&R      Arlington        25   \n",
       "100    3862       2023           Smokey Pt. Church      Arlington        50   \n",
       "49     3899       2023  All Saints Lutheran Church         Auburn        75   \n",
       "8      3782       2023                  Auburn P&R         Auburn       244   \n",
       "58     3758       2023         Auburn Station (CR)         Auburn       520   \n",
       "..      ...        ...                         ...            ...       ...   \n",
       "108    3876       2023        Tukwila Int. Station        Tukwila       600   \n",
       "54     3751       2023        Tukwila Station (CR)        Tukwila       390   \n",
       "30     3826       2023                   Ober Park  Vashon Island        48   \n",
       "24     3810       2023               Valley Center  Vashon Island        55   \n",
       "29     3818       2023             Woodinville P&R    Woodinville       438   \n",
       "\n",
       "     occupancy  boardings  boardings - occupancy  percent diff  \n",
       "34           5          8                      3          0.60  \n",
       "100         13          4                     -9         -0.69  \n",
       "49          20          6                    -14         -0.70  \n",
       "8           53          3                    -50         -0.94  \n",
       "58         295        641                    346          1.17  \n",
       "..         ...        ...                    ...           ...  \n",
       "108        570        368                   -202         -0.35  \n",
       "54         133        100                    -33         -0.25  \n",
       "30           7          8                      1          0.14  \n",
       "24           4          3                     -1         -0.25  \n",
       "29          39         13                    -26         -0.67  \n",
       "\n",
       "[120 rows x 9 columns]"
      ]
     },
     "execution_count": 43,
     "metadata": {},
     "output_type": "execute_result"
    }
   ],
   "source": [
    "gdf_p_r_data[['ZoneID', 'data_year', 'name','city', 'capacity', 'occupancy', 'boardings', 'boardings - occupancy', 'percent diff']].sort_values(['city','name'])"
   ]
  },
  {
   "cell_type": "markdown",
   "id": "b3e80e5e",
   "metadata": {},
   "source": [
    "# Transit Submodes by Purpose\n",
    "Model Outputs Only (insufficient samples available from survey)"
   ]
  },
  {
   "cell_type": "code",
   "execution_count": 44,
   "id": "5f0eb704",
   "metadata": {},
   "outputs": [],
   "source": [
    "import h5py\n",
    "myh5 = h5py.File(r'..\\..\\..\\..\\inputs\\scenario\\landuse\\hh_and_persons.h5', 'r')\n",
    "person = pd.read_csv(r'..\\..\\..\\..\\outputs\\daysim\\_person.tsv', sep='\\t')"
   ]
  },
  {
   "cell_type": "code",
   "execution_count": 45,
   "id": "8205afa6",
   "metadata": {},
   "outputs": [],
   "source": [
    "# Create a DataFrame from the h5 file\n",
    "df_person = pd.DataFrame()\n",
    "for col in ['hhno','pno','prace']:\n",
    "    df_person[col] = myh5['Person'][col][:]\n",
    "\n",
    "df_trip = df_trip.merge(df_person[['hhno','pno','prace']], on=['hhno','pno'], how='left')"
   ]
  },
  {
   "cell_type": "code",
   "execution_count": 46,
   "id": "f337be26",
   "metadata": {},
   "outputs": [
    {
     "data": {
      "text/html": [
       "<div>\n",
       "<style scoped>\n",
       "    .dataframe tbody tr th:only-of-type {\n",
       "        vertical-align: middle;\n",
       "    }\n",
       "\n",
       "    .dataframe tbody tr th {\n",
       "        vertical-align: top;\n",
       "    }\n",
       "\n",
       "    .dataframe thead th {\n",
       "        text-align: right;\n",
       "    }\n",
       "</style>\n",
       "<table border=\"1\" class=\"dataframe\">\n",
       "  <thead>\n",
       "    <tr style=\"text-align: right;\">\n",
       "      <th>Purpose Type</th>\n",
       "      <th>Work %</th>\n",
       "      <th>School %</th>\n",
       "      <th>Other %</th>\n",
       "    </tr>\n",
       "    <tr>\n",
       "      <th>Path Type</th>\n",
       "      <th></th>\n",
       "      <th></th>\n",
       "      <th></th>\n",
       "    </tr>\n",
       "  </thead>\n",
       "  <tbody>\n",
       "    <tr>\n",
       "      <th>Bus</th>\n",
       "      <td>15.3%</td>\n",
       "      <td>10.6%</td>\n",
       "      <td>74.1%</td>\n",
       "    </tr>\n",
       "    <tr>\n",
       "      <th>Commuter Rail</th>\n",
       "      <td>50.2%</td>\n",
       "      <td>1.6%</td>\n",
       "      <td>48.2%</td>\n",
       "    </tr>\n",
       "    <tr>\n",
       "      <th>Drive</th>\n",
       "      <td>19.7%</td>\n",
       "      <td>5.5%</td>\n",
       "      <td>74.8%</td>\n",
       "    </tr>\n",
       "    <tr>\n",
       "      <th>Ferry 1</th>\n",
       "      <td>44.2%</td>\n",
       "      <td>11.4%</td>\n",
       "      <td>44.4%</td>\n",
       "    </tr>\n",
       "    <tr>\n",
       "      <th>Ferry 2</th>\n",
       "      <td>61.3%</td>\n",
       "      <td>1.5%</td>\n",
       "      <td>37.2%</td>\n",
       "    </tr>\n",
       "    <tr>\n",
       "      <th>Light Rail</th>\n",
       "      <td>33.5%</td>\n",
       "      <td>9.6%</td>\n",
       "      <td>56.9%</td>\n",
       "    </tr>\n",
       "  </tbody>\n",
       "</table>\n",
       "</div>"
      ],
      "text/plain": [
       "Purpose Type  Work % School % Other %\n",
       "Path Type                            \n",
       "Bus            15.3%    10.6%   74.1%\n",
       "Commuter Rail  50.2%     1.6%   48.2%\n",
       "Drive          19.7%     5.5%   74.8%\n",
       "Ferry 1        44.2%    11.4%   44.4%\n",
       "Ferry 2        61.3%     1.5%   37.2%\n",
       "Light Rail     33.5%     9.6%   56.9%"
      ]
     },
     "execution_count": 46,
     "metadata": {},
     "output_type": "execute_result"
    }
   ],
   "source": [
    "# Create group of work, school, and all other purposes\n",
    "df_trip['Purpose Type'] = 'Other'\n",
    "df_trip.loc[df_trip['dpurp']==0, 'Purpose Type'] = 'Home'\n",
    "df_trip.loc[df_trip['dpurp']==1, 'Purpose Type'] = 'Work'\n",
    "df_trip.loc[df_trip['dpurp']==2, 'Purpose Type'] = 'School'\n",
    "\n",
    "# Rename path types\n",
    "df_trip.loc[df_trip['pathtype']==1, 'Path Type'] = 'Drive'\n",
    "df_trip.loc[df_trip['pathtype']==3, 'Path Type'] = 'Bus'\n",
    "df_trip.loc[df_trip['pathtype']==4, 'Path Type'] = 'Light Rail'\n",
    "df_trip.loc[df_trip['pathtype']==5, 'Path Type'] = 'Ferry 1'\n",
    "df_trip.loc[df_trip['pathtype']==6, 'Path Type'] = 'Commuter Rail'\n",
    "df_trip.loc[df_trip['pathtype']==7, 'Path Type'] = 'Ferry 2'\n",
    "\n",
    "df = pd.pivot_table(df_trip[(df_trip['dpurp']!=0) & (df_trip['pathtype']!=0)], values='trexpfac', index='Path Type', columns='Purpose Type', aggfunc=np.sum)\n",
    "\n",
    "df['Total'] = df.sum(axis=1)\n",
    "for row in df.index:\n",
    "    for col in ['Work','School','Other']:\n",
    "        df.loc[row, col + ' %'] = df.loc[row, col] / df.loc[row, 'Total']\n",
    "\n",
    "df[['Work %','School %','Other %']] = df[['Work %','School %','Other %']].applymap(\"{:,.1%}\".format)\n",
    "df[['Work %','School %','Other %']]"
   ]
  },
  {
   "cell_type": "markdown",
   "id": "87130c67",
   "metadata": {},
   "source": [
    "#### Transit Submodes by Person Race"
   ]
  },
  {
   "cell_type": "code",
   "execution_count": 47,
   "id": "21bac916",
   "metadata": {},
   "outputs": [],
   "source": [
    "\n",
    "race_dict = {\n",
    "    '1': 'White alone',\n",
    "    '2': 'Black or African American alone',\n",
    "    '3': 'American Indian alone',\n",
    "    '4': 'Alaska Native alone',\n",
    "    '5': 'American Indian and Alaska Native tribes specified',\n",
    "    '6': 'Asian alone',\n",
    "    '7': 'Native Hawaiian and Other Pacific Islander alone',\n",
    "    '8': 'Some Other Race alone',\n",
    "    '9': 'Two or More Races'\n",
    "}\n",
    "\n",
    "\n",
    "df_trip['Race'] = df_trip['prace'].astype('int').astype('str').map(race_dict)"
   ]
  },
  {
   "cell_type": "code",
   "execution_count": 48,
   "id": "c50c3d86",
   "metadata": {},
   "outputs": [],
   "source": [
    "# Submode Ridership by race\n",
    "df = pd.pivot_table(df_trip[(df_trip['pathtype']!=0)], values='trexpfac', index='Path Type', columns='Race', aggfunc=np.sum)\n",
    "race_cols = ['White alone','Black or African American alone','American Indian alone',\n",
    "             'Alaska Native alone','American Indian and Alaska Native tribes specified','Asian alone',\n",
    "             'Native Hawaiian and Other Pacific Islander alone','Some Other Race alone','Two or More Races']\n",
    "# Calculate shares of total by Race for each Path Type\n",
    "df['Total'] = df.sum(axis=1)\n",
    "for row in df.index:\n",
    "    for col in race_cols:\n",
    "        df.loc[row, col] = df.loc[row, col] / df.loc[row, 'Total']\n",
    "df[race_cols] = df[race_cols].applymap(\"{:,.1%}\".format)"
   ]
  },
  {
   "cell_type": "code",
   "execution_count": 49,
   "id": "dbdfd700",
   "metadata": {},
   "outputs": [
    {
     "data": {
      "text/html": [
       "<div>\n",
       "<style scoped>\n",
       "    .dataframe tbody tr th:only-of-type {\n",
       "        vertical-align: middle;\n",
       "    }\n",
       "\n",
       "    .dataframe tbody tr th {\n",
       "        vertical-align: top;\n",
       "    }\n",
       "\n",
       "    .dataframe thead th {\n",
       "        text-align: right;\n",
       "    }\n",
       "</style>\n",
       "<table border=\"1\" class=\"dataframe\">\n",
       "  <thead>\n",
       "    <tr style=\"text-align: right;\">\n",
       "      <th>Race</th>\n",
       "      <th>White alone</th>\n",
       "      <th>Black or African American alone</th>\n",
       "      <th>American Indian alone</th>\n",
       "      <th>Alaska Native alone</th>\n",
       "      <th>American Indian and Alaska Native tribes specified</th>\n",
       "      <th>Asian alone</th>\n",
       "      <th>Native Hawaiian and Other Pacific Islander alone</th>\n",
       "      <th>Some Other Race alone</th>\n",
       "      <th>Two or More Races</th>\n",
       "    </tr>\n",
       "    <tr>\n",
       "      <th>Path Type</th>\n",
       "      <th></th>\n",
       "      <th></th>\n",
       "      <th></th>\n",
       "      <th></th>\n",
       "      <th></th>\n",
       "      <th></th>\n",
       "      <th></th>\n",
       "      <th></th>\n",
       "      <th></th>\n",
       "    </tr>\n",
       "  </thead>\n",
       "  <tbody>\n",
       "    <tr>\n",
       "      <th>Bus</th>\n",
       "      <td>59.5%</td>\n",
       "      <td>7.6%</td>\n",
       "      <td>0.5%</td>\n",
       "      <td>0.1%</td>\n",
       "      <td>0.1%</td>\n",
       "      <td>18.7%</td>\n",
       "      <td>0.7%</td>\n",
       "      <td>3.9%</td>\n",
       "      <td>8.9%</td>\n",
       "    </tr>\n",
       "    <tr>\n",
       "      <th>Commuter Rail</th>\n",
       "      <td>63.7%</td>\n",
       "      <td>7.4%</td>\n",
       "      <td>0.8%</td>\n",
       "      <td>0.1%</td>\n",
       "      <td>0.1%</td>\n",
       "      <td>11.1%</td>\n",
       "      <td>1.8%</td>\n",
       "      <td>5.5%</td>\n",
       "      <td>9.5%</td>\n",
       "    </tr>\n",
       "    <tr>\n",
       "      <th>Drive</th>\n",
       "      <td>64.7%</td>\n",
       "      <td>5.5%</td>\n",
       "      <td>0.6%</td>\n",
       "      <td>0.1%</td>\n",
       "      <td>0.1%</td>\n",
       "      <td>14.8%</td>\n",
       "      <td>1.0%</td>\n",
       "      <td>4.3%</td>\n",
       "      <td>8.9%</td>\n",
       "    </tr>\n",
       "    <tr>\n",
       "      <th>Ferry 1</th>\n",
       "      <td>79.6%</td>\n",
       "      <td>2.0%</td>\n",
       "      <td>0.8%</td>\n",
       "      <td>nan%</td>\n",
       "      <td>0.2%</td>\n",
       "      <td>5.6%</td>\n",
       "      <td>1.5%</td>\n",
       "      <td>2.1%</td>\n",
       "      <td>8.2%</td>\n",
       "    </tr>\n",
       "    <tr>\n",
       "      <th>Ferry 2</th>\n",
       "      <td>82.2%</td>\n",
       "      <td>2.4%</td>\n",
       "      <td>0.6%</td>\n",
       "      <td>0.1%</td>\n",
       "      <td>0.0%</td>\n",
       "      <td>3.9%</td>\n",
       "      <td>1.3%</td>\n",
       "      <td>2.5%</td>\n",
       "      <td>7.0%</td>\n",
       "    </tr>\n",
       "    <tr>\n",
       "      <th>Light Rail</th>\n",
       "      <td>58.0%</td>\n",
       "      <td>8.5%</td>\n",
       "      <td>0.6%</td>\n",
       "      <td>0.1%</td>\n",
       "      <td>0.1%</td>\n",
       "      <td>20.0%</td>\n",
       "      <td>0.5%</td>\n",
       "      <td>3.8%</td>\n",
       "      <td>8.4%</td>\n",
       "    </tr>\n",
       "  </tbody>\n",
       "</table>\n",
       "</div>"
      ],
      "text/plain": [
       "Race          White alone Black or African American alone  \\\n",
       "Path Type                                                   \n",
       "Bus                 59.5%                            7.6%   \n",
       "Commuter Rail       63.7%                            7.4%   \n",
       "Drive               64.7%                            5.5%   \n",
       "Ferry 1             79.6%                            2.0%   \n",
       "Ferry 2             82.2%                            2.4%   \n",
       "Light Rail          58.0%                            8.5%   \n",
       "\n",
       "Race          American Indian alone Alaska Native alone  \\\n",
       "Path Type                                                 \n",
       "Bus                            0.5%                0.1%   \n",
       "Commuter Rail                  0.8%                0.1%   \n",
       "Drive                          0.6%                0.1%   \n",
       "Ferry 1                        0.8%                nan%   \n",
       "Ferry 2                        0.6%                0.1%   \n",
       "Light Rail                     0.6%                0.1%   \n",
       "\n",
       "Race          American Indian and Alaska Native tribes specified Asian alone  \\\n",
       "Path Type                                                                      \n",
       "Bus                                                         0.1%       18.7%   \n",
       "Commuter Rail                                               0.1%       11.1%   \n",
       "Drive                                                       0.1%       14.8%   \n",
       "Ferry 1                                                     0.2%        5.6%   \n",
       "Ferry 2                                                     0.0%        3.9%   \n",
       "Light Rail                                                  0.1%       20.0%   \n",
       "\n",
       "Race          Native Hawaiian and Other Pacific Islander alone  \\\n",
       "Path Type                                                        \n",
       "Bus                                                       0.7%   \n",
       "Commuter Rail                                             1.8%   \n",
       "Drive                                                     1.0%   \n",
       "Ferry 1                                                   1.5%   \n",
       "Ferry 2                                                   1.3%   \n",
       "Light Rail                                                0.5%   \n",
       "\n",
       "Race          Some Other Race alone Two or More Races  \n",
       "Path Type                                              \n",
       "Bus                            3.9%              8.9%  \n",
       "Commuter Rail                  5.5%              9.5%  \n",
       "Drive                          4.3%              8.9%  \n",
       "Ferry 1                        2.1%              8.2%  \n",
       "Ferry 2                        2.5%              7.0%  \n",
       "Light Rail                     3.8%              8.4%  "
      ]
     },
     "execution_count": 49,
     "metadata": {},
     "output_type": "execute_result"
    }
   ],
   "source": [
    "df[race_cols]"
   ]
  }
 ],
 "metadata": {
  "kernelspec": {
   "display_name": "build_notebook",
   "language": "python",
   "name": "python3"
  },
  "language_info": {
   "codemirror_mode": {
    "name": "ipython",
    "version": 3
   },
   "file_extension": ".py",
   "mimetype": "text/x-python",
   "name": "python",
   "nbconvert_exporter": "python",
   "pygments_lexer": "ipython3",
   "version": "3.7.10"
  }
 },
 "nbformat": 4,
 "nbformat_minor": 5
}
