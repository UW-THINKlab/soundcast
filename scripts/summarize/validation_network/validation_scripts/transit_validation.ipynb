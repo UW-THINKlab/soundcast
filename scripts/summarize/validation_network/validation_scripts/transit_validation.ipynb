{
 "cells": [
  {
   "cell_type": "raw",
   "id": "48597e7e80043434",
   "metadata": {},
   "source": [
    "---\n",
    "title: \"Transit Summary\"\n",
    "date: today\n",
    "---"
   ]
  },
  {
   "cell_type": "code",
   "execution_count": 1,
   "id": "3c1a81e12086b602",
   "metadata": {
    "ExecuteTime": {
     "end_time": "2024-06-24T20:05:20.341638Z",
     "start_time": "2024-06-24T20:05:20.232835Z"
    },
    "execution": {
     "iopub.execute_input": "2024-12-14T02:38:34.166778Z",
     "iopub.status.busy": "2024-12-14T02:38:34.164783Z",
     "iopub.status.idle": "2024-12-14T02:38:39.675438Z",
     "shell.execute_reply": "2024-12-14T02:38:39.673933Z"
    }
   },
   "outputs": [],
   "source": [
    "import os\n",
    "import pandas as pd\n",
    "import numpy as np\n",
    "from sqlalchemy import create_engine,text\n",
    "from scipy import stats\n",
    "import plotly.express as px\n",
    "import toml\n",
    "import psrc_theme\n",
    "import geopandas as gpd\n",
    "import plotly.express as px\n",
    "import plotly.graph_objects as go\n",
    "\n",
    "%matplotlib inline\n",
    "from IPython.display import display, HTML\n",
    "\n",
    "# to show plotly figures in quarto HTML file\n",
    "import plotly.io as pio\n",
    "pio.renderers.default = \"plotly_mimetype+notebook_connected\"\n",
    "pio.templates.default = \"simple_white+psrc_color\" # set plotly template\n",
    "\n",
    "input_config = toml.load(os.path.join(os.getcwd(), '..\\\\..\\\\..\\\\..\\\\configuration', 'input_configuration.toml'))\n",
    "valid_config = toml.load(os.path.join(os.getcwd(), '..\\\\..\\\\..\\\\..\\\\configuration', 'validation_configuration.toml'))\n",
    "summary_config = toml.load(os.path.join(os.getcwd(), '..\\\\..\\\\..\\\\..\\\\configuration', 'summary_configuration.toml'))\n",
    "\n",
    "# create connection\n",
    "conn = create_engine('sqlite:///../../../../inputs/db/'+input_config['db_name'])\n",
    "# summary data location\n",
    "csv_path = os.path.join(valid_config['model_dir'], 'outputs/validation')\n",
    "\n",
    "# table format\n",
    "pd.options.display.float_format = '{:0,.2f}'.format\n",
    "format_percent = \"{:,.2%}\".format"
   ]
  },
  {
   "cell_type": "markdown",
   "id": "b00095bdf12d94c3",
   "metadata": {},
   "source": [
    "## transit boarding"
   ]
  },
  {
   "cell_type": "markdown",
   "id": "5580f8d3",
   "metadata": {},
   "source": [
    "### boarding by mode"
   ]
  },
  {
   "cell_type": "raw",
   "id": "62368037",
   "metadata": {
    "vscode": {
     "languageId": "raw"
    }
   },
   "source": [
    ":::{.panel-tabset}\n",
    "#### 2023"
   ]
  },
  {
   "cell_type": "code",
   "execution_count": 2,
   "id": "2abbfecf",
   "metadata": {},
   "outputs": [],
   "source": [
    "# Process 2024 observed data\n",
    "df_obs = pd.read_sql(text(\"SELECT * FROM observed_transit_boardings\"), con=conn.connect())\n",
    "\n",
    "df_obs[\"route_id\"] = df_obs[\"route_id\"].astype(\"int\")\n",
    "\n",
    "df_obs = df_obs[df_obs['year'].isin([2023,2024])]\n",
    "\n",
    "df_obs = pd.pivot_table(df_obs, index='route_id', values='observed_daily', columns='year', aggfunc='sum')\n",
    "df_obs = df_obs.reset_index()\n",
    "\n"
   ]
  },
  {
   "cell_type": "code",
   "execution_count": 3,
   "id": "ab22ff71",
   "metadata": {},
   "outputs": [],
   "source": [
    "\n",
    "# Load model results and calculate modeled daily boarding by line\n",
    "df_transit_line = pd.read_csv(os.path.join(valid_config['model_dir'], 'outputs/transit/transit_line_results.csv'))\n",
    "df_model = df_transit_line.copy()\n",
    "df_model_daily = (\n",
    "    df_model.groupby([\"route_code\", \"mode\",'agency_code'])\n",
    "    .agg({\"description\": \"first\", \"boardings\": \"sum\"})\n",
    "    .reset_index()\n",
    ")\n",
    "\n",
    "# Merge modeled with observed boarding data\n",
    "df_model_daily[\"route_code\"] = df_model_daily[\"route_code\"].astype(\"int\")\n",
    "df = df_model_daily.merge(\n",
    "    df_obs, left_on=\"route_code\", right_on=\"route_id\", how=\"left\"\n",
    ")\n",
    "# df.rename(\n",
    "#     columns={\n",
    "#         \"boardings\": \"model_boardings\",\n",
    "#         \"observed_daily\": \"observed_boardings\",\n",
    "#     },\n",
    "#     inplace=True,\n",
    "# )\n",
    "# df[\"diff\"] = df[\"model_boardings\"] - df[\"observed_boardings\"]\n",
    "# df[\"perc_diff\"] = df[\"diff\"] / df[\"observed_boardings\"]\n",
    "# df[[\"model_boardings\", \"observed_boardings\"]] = df[\n",
    "#     [\"model_boardings\", \"observed_boardings\"]\n",
    "# ].fillna(-1)\n",
    "\n",
    "df.rename(\n",
    "    columns={\n",
    "        \"boardings\": \"Model\",\n",
    "        2023: \"2023 Spring Observed\",\n",
    "        2024: \"2024 Spring Observed\",\n",
    "    },\n",
    "    inplace=True,\n",
    ")\n",
    "\n",
    "\n",
    "df['agency'] = df['agency_code'].astype('int').astype('str').map(summary_config['agency_lookup'])\n",
    "df_line_boardings_23_24 = df.copy()"
   ]
  },
  {
   "cell_type": "code",
   "execution_count": 4,
   "id": "0fa5b4c7",
   "metadata": {
    "execution": {
     "iopub.execute_input": "2024-12-14T02:38:39.688403Z",
     "iopub.status.busy": "2024-12-14T02:38:39.686408Z",
     "iopub.status.idle": "2024-12-14T02:38:39.797541Z",
     "shell.execute_reply": "2024-12-14T02:38:39.796037Z"
    }
   },
   "outputs": [
    {
     "data": {
      "application/vnd.microsoft.datawrangler.viewer.v0+json": {
       "columns": [
        {
         "name": "index",
         "rawType": "int64",
         "type": "integer"
        },
        {
         "name": "index",
         "rawType": "object",
         "type": "string"
        },
        {
         "name": "mode",
         "rawType": "object",
         "type": "string"
        },
        {
         "name": "observed_boardings",
         "rawType": "float64",
         "type": "float"
        },
        {
         "name": "model_boardings",
         "rawType": "float64",
         "type": "float"
        },
        {
         "name": "diff",
         "rawType": "float64",
         "type": "float"
        },
        {
         "name": "perc_diff",
         "rawType": "object",
         "type": "string"
        }
       ],
       "conversionMethod": "pd.DataFrame",
       "ref": "b631644f-d7f9-4665-a486-8b308923f576",
       "rows": [
        [
         "0",
         "0",
         "b",
         "332481.237588054",
         "374898.2669776343",
         "42417.029389580304",
         "12.76%"
        ],
        [
         "1",
         "4",
         "r",
         "80839.0",
         "97697.23332929613",
         "16858.233329296127",
         "20.85%"
        ],
        [
         "2",
         "2",
         "f",
         "9907.0",
         "8939.935479134321",
         "-967.0645208656788",
         "-9.76%"
        ],
        [
         "3",
         "1",
         "c",
         "6354.0",
         "6790.04108440876",
         "436.04108440876007",
         "6.86%"
        ],
        [
         "4",
         "3",
         "p",
         "3379.0",
         "4344.808057099581",
         "965.8080570995808",
         "28.58%"
        ],
        [
         "5",
         "Total",
         "Total",
         "432960.237588054",
         "492670.28492757306",
         "59710.04733951908",
         "13.79%"
        ]
       ],
       "shape": {
        "columns": 6,
        "rows": 6
       }
      },
      "text/html": [
       "<div>\n",
       "<style scoped>\n",
       "    .dataframe tbody tr th:only-of-type {\n",
       "        vertical-align: middle;\n",
       "    }\n",
       "\n",
       "    .dataframe tbody tr th {\n",
       "        vertical-align: top;\n",
       "    }\n",
       "\n",
       "    .dataframe thead th {\n",
       "        text-align: right;\n",
       "    }\n",
       "</style>\n",
       "<table border=\"1\" class=\"dataframe\">\n",
       "  <thead>\n",
       "    <tr style=\"text-align: right;\">\n",
       "      <th></th>\n",
       "      <th>index</th>\n",
       "      <th>mode</th>\n",
       "      <th>observed_boardings</th>\n",
       "      <th>model_boardings</th>\n",
       "      <th>diff</th>\n",
       "      <th>perc_diff</th>\n",
       "    </tr>\n",
       "  </thead>\n",
       "  <tbody>\n",
       "    <tr>\n",
       "      <th>0</th>\n",
       "      <td>0</td>\n",
       "      <td>b</td>\n",
       "      <td>332,481.24</td>\n",
       "      <td>374,898.27</td>\n",
       "      <td>42,417.03</td>\n",
       "      <td>12.76%</td>\n",
       "    </tr>\n",
       "    <tr>\n",
       "      <th>1</th>\n",
       "      <td>4</td>\n",
       "      <td>r</td>\n",
       "      <td>80,839.00</td>\n",
       "      <td>97,697.23</td>\n",
       "      <td>16,858.23</td>\n",
       "      <td>20.85%</td>\n",
       "    </tr>\n",
       "    <tr>\n",
       "      <th>2</th>\n",
       "      <td>2</td>\n",
       "      <td>f</td>\n",
       "      <td>9,907.00</td>\n",
       "      <td>8,939.94</td>\n",
       "      <td>-967.06</td>\n",
       "      <td>-9.76%</td>\n",
       "    </tr>\n",
       "    <tr>\n",
       "      <th>3</th>\n",
       "      <td>1</td>\n",
       "      <td>c</td>\n",
       "      <td>6,354.00</td>\n",
       "      <td>6,790.04</td>\n",
       "      <td>436.04</td>\n",
       "      <td>6.86%</td>\n",
       "    </tr>\n",
       "    <tr>\n",
       "      <th>4</th>\n",
       "      <td>3</td>\n",
       "      <td>p</td>\n",
       "      <td>3,379.00</td>\n",
       "      <td>4,344.81</td>\n",
       "      <td>965.81</td>\n",
       "      <td>28.58%</td>\n",
       "    </tr>\n",
       "    <tr>\n",
       "      <th>5</th>\n",
       "      <td>Total</td>\n",
       "      <td>Total</td>\n",
       "      <td>432,960.24</td>\n",
       "      <td>492,670.28</td>\n",
       "      <td>59,710.05</td>\n",
       "      <td>13.79%</td>\n",
       "    </tr>\n",
       "  </tbody>\n",
       "</table>\n",
       "</div>"
      ],
      "text/plain": [
       "   index   mode  observed_boardings  model_boardings      diff perc_diff\n",
       "0      0      b          332,481.24       374,898.27 42,417.03    12.76%\n",
       "1      4      r           80,839.00        97,697.23 16,858.23    20.85%\n",
       "2      2      f            9,907.00         8,939.94   -967.06    -9.76%\n",
       "3      1      c            6,354.00         6,790.04    436.04     6.86%\n",
       "4      3      p            3,379.00         4,344.81    965.81    28.58%\n",
       "5  Total  Total          432,960.24       492,670.28 59,710.05    13.79%"
      ]
     },
     "execution_count": 4,
     "metadata": {},
     "output_type": "execute_result"
    }
   ],
   "source": [
    "df = pd.read_csv(os.path.join(csv_path, 'daily_boardings_by_mode.csv')).sort_values('observed_boardings', ascending=False)\n",
    "table_df = df.copy()\n",
    "\n",
    "table_df.loc['Total','observed_boardings'] = table_df['observed_boardings'].sum(axis=0)\n",
    "table_df.loc['Total','model_boardings'] = table_df['model_boardings'].sum(axis=0)\n",
    "table_df.loc['Total','mode'] = 'Total'\n",
    "table_df['diff'] = table_df['model_boardings']-table_df['observed_boardings']\n",
    "table_df['perc_diff'] = table_df['diff']/table_df['observed_boardings']\n",
    "table_df[['observed_boardings','model_boardings','diff']] = table_df[['observed_boardings','model_boardings','diff']].astype('float')\n",
    "table_df[['perc_diff']] = table_df[['perc_diff']].applymap(format_percent)\n",
    "table_df = table_df.reset_index()\n",
    "table_df"
   ]
  },
  {
   "cell_type": "raw",
   "id": "0a51c67a",
   "metadata": {
    "vscode": {
     "languageId": "raw"
    }
   },
   "source": [
    "#### 2023/2024 Link Red Line and Sounder"
   ]
  },
  {
   "cell_type": "code",
   "execution_count": 5,
   "id": "108fbc11",
   "metadata": {
    "execution": {
     "iopub.execute_input": "2024-12-14T02:38:39.809509Z",
     "iopub.status.busy": "2024-12-14T02:38:39.808512Z",
     "iopub.status.idle": "2024-12-14T02:38:39.939511Z",
     "shell.execute_reply": "2024-12-14T02:38:39.936874Z"
    }
   },
   "outputs": [
    {
     "data": {
      "application/vnd.microsoft.datawrangler.viewer.v0+json": {
       "columns": [
        {
         "name": "index",
         "rawType": "int64",
         "type": "integer"
        },
        {
         "name": "submode",
         "rawType": "object",
         "type": "string"
        },
        {
         "name": "2023 boarding",
         "rawType": "float64",
         "type": "float"
        },
        {
         "name": "2024 boarding",
         "rawType": "float64",
         "type": "float"
        },
        {
         "name": "model_boardings",
         "rawType": "float64",
         "type": "float"
        },
        {
         "name": "2023 % diff",
         "rawType": "object",
         "type": "string"
        },
        {
         "name": "2024 % diff",
         "rawType": "object",
         "type": "string"
        }
       ],
       "conversionMethod": "pd.DataFrame",
       "ref": "baa2d6c8-ed89-4743-ab2c-f2e6e3b7e4ad",
       "rows": [
        [
         "0",
         "Link Red Line",
         "78765.0",
         "91203.0",
         "93782.7427368164",
         "19.07%",
         "2.83%"
        ],
        [
         "1",
         "Sounder",
         "6765.0",
         "7711.0",
         "6790.04108440876",
         "0.37%",
         "-11.94%"
        ]
       ],
       "shape": {
        "columns": 6,
        "rows": 2
       }
      },
      "text/html": [
       "<div>\n",
       "<style scoped>\n",
       "    .dataframe tbody tr th:only-of-type {\n",
       "        vertical-align: middle;\n",
       "    }\n",
       "\n",
       "    .dataframe tbody tr th {\n",
       "        vertical-align: top;\n",
       "    }\n",
       "\n",
       "    .dataframe thead th {\n",
       "        text-align: right;\n",
       "    }\n",
       "</style>\n",
       "<table border=\"1\" class=\"dataframe\">\n",
       "  <thead>\n",
       "    <tr style=\"text-align: right;\">\n",
       "      <th></th>\n",
       "      <th>submode</th>\n",
       "      <th>2023 boarding</th>\n",
       "      <th>2024 boarding</th>\n",
       "      <th>model_boardings</th>\n",
       "      <th>2023 % diff</th>\n",
       "      <th>2024 % diff</th>\n",
       "    </tr>\n",
       "  </thead>\n",
       "  <tbody>\n",
       "    <tr>\n",
       "      <th>0</th>\n",
       "      <td>Link Red Line</td>\n",
       "      <td>78,765.00</td>\n",
       "      <td>91,203.00</td>\n",
       "      <td>93,782.74</td>\n",
       "      <td>19.07%</td>\n",
       "      <td>2.83%</td>\n",
       "    </tr>\n",
       "    <tr>\n",
       "      <th>1</th>\n",
       "      <td>Sounder</td>\n",
       "      <td>6,765.00</td>\n",
       "      <td>7,711.00</td>\n",
       "      <td>6,790.04</td>\n",
       "      <td>0.37%</td>\n",
       "      <td>-11.94%</td>\n",
       "    </tr>\n",
       "  </tbody>\n",
       "</table>\n",
       "</div>"
      ],
      "text/plain": [
       "         submode  2023 boarding  2024 boarding  model_boardings 2023 % diff  \\\n",
       "0  Link Red Line      78,765.00      91,203.00        93,782.74      19.07%   \n",
       "1        Sounder       6,765.00       7,711.00         6,790.04       0.37%   \n",
       "\n",
       "  2024 % diff  \n",
       "0       2.83%  \n",
       "1     -11.94%  "
      ]
     },
     "execution_count": 5,
     "metadata": {},
     "output_type": "execute_result"
    }
   ],
   "source": [
    "df_boarding_line = pd.read_csv(os.path.join(csv_path,'daily_boardings_by_line.csv'), index_col='description')\n",
    "df_boarding_line[['observed_boardings','model_boardings']] = df_boarding_line[['observed_boardings','model_boardings']].astype('float')\n",
    "\n",
    "df_mode = df_boarding_line[df_boarding_line['route_code'].isin([6996,6999,6998])].reset_index()\n",
    "\n",
    "df_mode['submode'] = df_mode['mode'].map({\"r\": \"Link Red Line\", \"c\": \"Sounder\"})\n",
    "df_mode = df_mode[['submode','model_boardings']].copy()\n",
    "df_mode = df_mode.groupby('submode')['model_boardings'].sum().reset_index()\n",
    "\n",
    "df_obs = pd.read_sql(text(\"SELECT * FROM observed_transit_agency_boardings\"), con=conn.connect())\n",
    "df_obs_mode = df_obs.copy()\n",
    "df_obs_mode['boardings'] = df_obs_mode['boardings'].astype(float)\n",
    "df_obs_mode = df_obs_mode[df_obs_mode['submode'].isin([\"Link\",\"Sounder\"])].copy()\n",
    "df_obs_mode['submode'] = df_obs_mode['submode'].map({\"Link\": \"Link Red Line\", \"Sounder\": \"Sounder\"})\n",
    "\n",
    "df_obs_mode = df_obs_mode.groupby(['submode','year'])['boardings'].sum().unstack().reset_index()\n",
    "df_obs_mode = df_obs_mode.rename(columns={2023:'2023 boarding', 2024:'2024 boarding'})\n",
    "df_mode = df_obs_mode.merge(df_mode, on='submode')\n",
    "\n",
    "df_mode['2023 % diff'] = (df_mode['model_boardings']-df_mode['2023 boarding'])/df_mode['2023 boarding']\n",
    "df_mode['2024 % diff'] = (df_mode['model_boardings']-df_mode['2024 boarding'])/df_mode['2024 boarding']\n",
    "df_mode[['2023 % diff']] = df_mode[['2023 % diff']].applymap(format_percent)\n",
    "df_mode[['2024 % diff']] = df_mode[['2024 % diff']].applymap(format_percent)\n",
    "\n",
    "df_mode"
   ]
  },
  {
   "cell_type": "raw",
   "id": "119f4510",
   "metadata": {
    "vscode": {
     "languageId": "raw"
    }
   },
   "source": [
    ":::"
   ]
  },
  {
   "cell_type": "markdown",
   "id": "b0eb0b3986c9d024",
   "metadata": {},
   "source": [
    "### boarding by agency"
   ]
  },
  {
   "cell_type": "raw",
   "id": "9afc046d",
   "metadata": {
    "vscode": {
     "languageId": "raw"
    }
   },
   "source": [
    ":::{.panel-tabset}\n",
    "\n",
    "#### 2023"
   ]
  },
  {
   "cell_type": "code",
   "execution_count": 6,
   "id": "daca8798e4e1c396",
   "metadata": {
    "ExecuteTime": {
     "end_time": "2024-06-24T20:04:29.076584Z",
     "start_time": "2024-06-24T20:04:29.029595Z"
    },
    "execution": {
     "iopub.execute_input": "2024-12-14T02:38:39.952038Z",
     "iopub.status.busy": "2024-12-14T02:38:39.950043Z",
     "iopub.status.idle": "2024-12-14T02:38:40.002253Z",
     "shell.execute_reply": "2024-12-14T02:38:39.999910Z"
    }
   },
   "outputs": [],
   "source": [
    "df = pd.read_csv(os.path.join(csv_path, 'daily_boardings_by_agency.csv')).sort_values('observed_boardings', ascending=False)\n",
    "plot_df = df.melt(id_vars=['agency'], value_vars=['observed_boardings', 'model_boardings'],\n",
    "                  var_name='source', value_name='count')"
   ]
  },
  {
   "cell_type": "code",
   "execution_count": 7,
   "id": "4f0d5527b7528301",
   "metadata": {
    "ExecuteTime": {
     "end_time": "2024-06-24T20:05:24.997972Z",
     "start_time": "2024-06-24T20:05:24.956972Z"
    },
    "execution": {
     "iopub.execute_input": "2024-12-14T02:38:40.013704Z",
     "iopub.status.busy": "2024-12-14T02:38:40.011713Z",
     "iopub.status.idle": "2024-12-14T02:38:40.079147Z",
     "shell.execute_reply": "2024-12-14T02:38:40.077153Z"
    }
   },
   "outputs": [
    {
     "name": "stderr",
     "output_type": "stream",
     "text": [
      "C:\\Users\\Modeller\\AppData\\Local\\Temp\\ipykernel_14612\\1611307006.py:4: FutureWarning:\n",
      "\n",
      "The default value of numeric_only in DataFrame.sum is deprecated. In a future version, it will default to False. In addition, specifying 'numeric_only=None' is deprecated. Select only valid columns or specify the value of numeric_only to silence this warning.\n",
      "\n"
     ]
    },
    {
     "data": {
      "application/vnd.microsoft.datawrangler.viewer.v0+json": {
       "columns": [
        {
         "name": "index",
         "rawType": "int64",
         "type": "integer"
        },
        {
         "name": "index",
         "rawType": "object",
         "type": "string"
        },
        {
         "name": "agency",
         "rawType": "object",
         "type": "string"
        },
        {
         "name": "observed_boardings",
         "rawType": "float64",
         "type": "float"
        },
        {
         "name": "model_boardings",
         "rawType": "float64",
         "type": "float"
        },
        {
         "name": "diff",
         "rawType": "float64",
         "type": "float"
        },
        {
         "name": "perc_diff",
         "rawType": "object",
         "type": "string"
        }
       ],
       "conversionMethod": "pd.DataFrame",
       "ref": "72fda210-dd18-4908-8096-e14193b3bef9",
       "rows": [
        [
         "0",
         "2",
         "King County Metro",
         "254568.00000003",
         "282055.7237878293",
         "27487.723787799274",
         "10.80%"
        ],
        [
         "1",
         "5",
         "Sound Transit",
         "115114.0",
         "145481.94026955962",
         "30367.94026955962",
         "26.38%"
        ],
        [
         "2",
         "0",
         "Community Transit",
         "21752.237588024",
         "27192.98941063881",
         "5440.7518226148095",
         "25.01%"
        ],
        [
         "3",
         "4",
         "Pierce Transit",
         "21185.0",
         "16164.587627217174",
         "-5020.412372782826",
         "-23.70%"
        ],
        [
         "4",
         "3",
         "Kitsap Transit",
         "8258.0",
         "10874.636290960014",
         "2616.636290960014",
         "31.69%"
        ],
        [
         "5",
         "6",
         "Washington Ferries",
         "7883.0",
         "6333.635804921389",
         "-1549.3641950786114",
         "-19.65%"
        ],
        [
         "6",
         "1",
         "Everett Transit",
         "4201.0",
         "4547.748306576163",
         "346.7483065761626",
         "8.25%"
        ],
        [
         "7",
         "Total",
         "Total",
         "432961.23758805403",
         "492651.26149770245",
         "59690.023909648415",
         "13.79%"
        ]
       ],
       "shape": {
        "columns": 6,
        "rows": 8
       }
      },
      "text/html": [
       "<div>\n",
       "<style scoped>\n",
       "    .dataframe tbody tr th:only-of-type {\n",
       "        vertical-align: middle;\n",
       "    }\n",
       "\n",
       "    .dataframe tbody tr th {\n",
       "        vertical-align: top;\n",
       "    }\n",
       "\n",
       "    .dataframe thead th {\n",
       "        text-align: right;\n",
       "    }\n",
       "</style>\n",
       "<table border=\"1\" class=\"dataframe\">\n",
       "  <thead>\n",
       "    <tr style=\"text-align: right;\">\n",
       "      <th></th>\n",
       "      <th>index</th>\n",
       "      <th>agency</th>\n",
       "      <th>observed_boardings</th>\n",
       "      <th>model_boardings</th>\n",
       "      <th>diff</th>\n",
       "      <th>perc_diff</th>\n",
       "    </tr>\n",
       "  </thead>\n",
       "  <tbody>\n",
       "    <tr>\n",
       "      <th>0</th>\n",
       "      <td>2</td>\n",
       "      <td>King County Metro</td>\n",
       "      <td>254,568.00</td>\n",
       "      <td>282,055.72</td>\n",
       "      <td>27,487.72</td>\n",
       "      <td>10.80%</td>\n",
       "    </tr>\n",
       "    <tr>\n",
       "      <th>1</th>\n",
       "      <td>5</td>\n",
       "      <td>Sound Transit</td>\n",
       "      <td>115,114.00</td>\n",
       "      <td>145,481.94</td>\n",
       "      <td>30,367.94</td>\n",
       "      <td>26.38%</td>\n",
       "    </tr>\n",
       "    <tr>\n",
       "      <th>2</th>\n",
       "      <td>0</td>\n",
       "      <td>Community Transit</td>\n",
       "      <td>21,752.24</td>\n",
       "      <td>27,192.99</td>\n",
       "      <td>5,440.75</td>\n",
       "      <td>25.01%</td>\n",
       "    </tr>\n",
       "    <tr>\n",
       "      <th>3</th>\n",
       "      <td>4</td>\n",
       "      <td>Pierce Transit</td>\n",
       "      <td>21,185.00</td>\n",
       "      <td>16,164.59</td>\n",
       "      <td>-5,020.41</td>\n",
       "      <td>-23.70%</td>\n",
       "    </tr>\n",
       "    <tr>\n",
       "      <th>4</th>\n",
       "      <td>3</td>\n",
       "      <td>Kitsap Transit</td>\n",
       "      <td>8,258.00</td>\n",
       "      <td>10,874.64</td>\n",
       "      <td>2,616.64</td>\n",
       "      <td>31.69%</td>\n",
       "    </tr>\n",
       "    <tr>\n",
       "      <th>5</th>\n",
       "      <td>6</td>\n",
       "      <td>Washington Ferries</td>\n",
       "      <td>7,883.00</td>\n",
       "      <td>6,333.64</td>\n",
       "      <td>-1,549.36</td>\n",
       "      <td>-19.65%</td>\n",
       "    </tr>\n",
       "    <tr>\n",
       "      <th>6</th>\n",
       "      <td>1</td>\n",
       "      <td>Everett Transit</td>\n",
       "      <td>4,201.00</td>\n",
       "      <td>4,547.75</td>\n",
       "      <td>346.75</td>\n",
       "      <td>8.25%</td>\n",
       "    </tr>\n",
       "    <tr>\n",
       "      <th>7</th>\n",
       "      <td>Total</td>\n",
       "      <td>Total</td>\n",
       "      <td>432,961.24</td>\n",
       "      <td>492,651.26</td>\n",
       "      <td>59,690.02</td>\n",
       "      <td>13.79%</td>\n",
       "    </tr>\n",
       "  </tbody>\n",
       "</table>\n",
       "</div>"
      ],
      "text/plain": [
       "   index              agency  observed_boardings  model_boardings      diff  \\\n",
       "0      2   King County Metro          254,568.00       282,055.72 27,487.72   \n",
       "1      5       Sound Transit          115,114.00       145,481.94 30,367.94   \n",
       "2      0   Community Transit           21,752.24        27,192.99  5,440.75   \n",
       "3      4      Pierce Transit           21,185.00        16,164.59 -5,020.41   \n",
       "4      3      Kitsap Transit            8,258.00        10,874.64  2,616.64   \n",
       "5      6  Washington Ferries            7,883.00         6,333.64 -1,549.36   \n",
       "6      1     Everett Transit            4,201.00         4,547.75    346.75   \n",
       "7  Total               Total          432,961.24       492,651.26 59,690.02   \n",
       "\n",
       "  perc_diff  \n",
       "0    10.80%  \n",
       "1    26.38%  \n",
       "2    25.01%  \n",
       "3   -23.70%  \n",
       "4    31.69%  \n",
       "5   -19.65%  \n",
       "6     8.25%  \n",
       "7    13.79%  "
      ]
     },
     "execution_count": 7,
     "metadata": {},
     "output_type": "execute_result"
    }
   ],
   "source": [
    "table_df = df.copy()\n",
    "\n",
    "table_df.loc['Total','observed_boardings'] = table_df.sum(axis=0).observed_boardings\n",
    "table_df.loc['Total','model_boardings'] = table_df.sum(axis=0).model_boardings\n",
    "table_df.loc['Total','agency'] = 'Total'\n",
    "table_df['diff'] = table_df['model_boardings']-table_df['observed_boardings']\n",
    "table_df['perc_diff'] = table_df['diff']/table_df['observed_boardings']\n",
    "table_df[['observed_boardings','model_boardings','diff']] = table_df[['observed_boardings','model_boardings','diff']].astype('float')\n",
    "table_df[['perc_diff']] = table_df[['perc_diff']].applymap(format_percent)\n",
    "table_df = table_df.reset_index()\n",
    "table_df"
   ]
  },
  {
   "cell_type": "raw",
   "id": "c43063a0",
   "metadata": {
    "vscode": {
     "languageId": "raw"
    }
   },
   "source": [
    "#### 2023/2024"
   ]
  },
  {
   "cell_type": "code",
   "execution_count": 8,
   "id": "6df663cd30d914ea",
   "metadata": {
    "ExecuteTime": {
     "end_time": "2024-06-24T17:50:27.521549Z",
     "start_time": "2024-06-24T17:50:27.349538Z"
    },
    "execution": {
     "iopub.execute_input": "2024-12-14T02:38:40.091115Z",
     "iopub.status.busy": "2024-12-14T02:38:40.090118Z",
     "iopub.status.idle": "2024-12-14T02:38:40.156559Z",
     "shell.execute_reply": "2024-12-14T02:38:40.154564Z"
    }
   },
   "outputs": [
    {
     "data": {
      "application/vnd.microsoft.datawrangler.viewer.v0+json": {
       "columns": [
        {
         "name": "index",
         "rawType": "int64",
         "type": "integer"
        },
        {
         "name": "agency",
         "rawType": "object",
         "type": "string"
        },
        {
         "name": "2023 boarding",
         "rawType": "float64",
         "type": "float"
        },
        {
         "name": "2024 boarding",
         "rawType": "float64",
         "type": "float"
        },
        {
         "name": "model_boardings",
         "rawType": "float64",
         "type": "float"
        },
        {
         "name": "2023 % diff",
         "rawType": "object",
         "type": "string"
        },
        {
         "name": "2024 % diff",
         "rawType": "object",
         "type": "string"
        }
       ],
       "conversionMethod": "pd.DataFrame",
       "ref": "140e7e0a-fa1f-41bc-a58a-9e3c7c6cc5a2",
       "rows": [
        [
         "0",
         "Community Transit",
         "23000.0",
         "0.0",
         "27192.98941063881",
         "18.23%",
         "-"
        ],
        [
         "1",
         "Everett Transit",
         "0.0",
         "0.0",
         "4547.748306576163",
         "-",
         "-"
        ],
        [
         "2",
         "King County Metro",
         "244306.0",
         "272556.0",
         "282055.7237878293",
         "15.45%",
         "3.49%"
        ],
        [
         "3",
         "Kitsap Transit",
         "8000.0",
         "9300.0",
         "10874.636290960014",
         "35.93%",
         "16.93%"
        ],
        [
         "4",
         "Pierce Transit",
         "19974.0",
         "0.0",
         "16164.587627217174",
         "-19.07%",
         "-"
        ],
        [
         "5",
         "Sound Transit",
         "115516.0",
         "133703.0",
         "145481.94026955962",
         "25.94%",
         "8.81%"
        ],
        [
         "6",
         "Washington Ferries",
         "0.0",
         "0.0",
         "6333.635804921389",
         "-",
         "-"
        ]
       ],
       "shape": {
        "columns": 6,
        "rows": 7
       }
      },
      "text/html": [
       "<div>\n",
       "<style scoped>\n",
       "    .dataframe tbody tr th:only-of-type {\n",
       "        vertical-align: middle;\n",
       "    }\n",
       "\n",
       "    .dataframe tbody tr th {\n",
       "        vertical-align: top;\n",
       "    }\n",
       "\n",
       "    .dataframe thead th {\n",
       "        text-align: right;\n",
       "    }\n",
       "</style>\n",
       "<table border=\"1\" class=\"dataframe\">\n",
       "  <thead>\n",
       "    <tr style=\"text-align: right;\">\n",
       "      <th></th>\n",
       "      <th>agency</th>\n",
       "      <th>2023 boarding</th>\n",
       "      <th>2024 boarding</th>\n",
       "      <th>model_boardings</th>\n",
       "      <th>2023 % diff</th>\n",
       "      <th>2024 % diff</th>\n",
       "    </tr>\n",
       "  </thead>\n",
       "  <tbody>\n",
       "    <tr>\n",
       "      <th>0</th>\n",
       "      <td>Community Transit</td>\n",
       "      <td>23,000.00</td>\n",
       "      <td>0.00</td>\n",
       "      <td>27,192.99</td>\n",
       "      <td>18.23%</td>\n",
       "      <td>-</td>\n",
       "    </tr>\n",
       "    <tr>\n",
       "      <th>1</th>\n",
       "      <td>Everett Transit</td>\n",
       "      <td>0.00</td>\n",
       "      <td>0.00</td>\n",
       "      <td>4,547.75</td>\n",
       "      <td>-</td>\n",
       "      <td>-</td>\n",
       "    </tr>\n",
       "    <tr>\n",
       "      <th>2</th>\n",
       "      <td>King County Metro</td>\n",
       "      <td>244,306.00</td>\n",
       "      <td>272,556.00</td>\n",
       "      <td>282,055.72</td>\n",
       "      <td>15.45%</td>\n",
       "      <td>3.49%</td>\n",
       "    </tr>\n",
       "    <tr>\n",
       "      <th>3</th>\n",
       "      <td>Kitsap Transit</td>\n",
       "      <td>8,000.00</td>\n",
       "      <td>9,300.00</td>\n",
       "      <td>10,874.64</td>\n",
       "      <td>35.93%</td>\n",
       "      <td>16.93%</td>\n",
       "    </tr>\n",
       "    <tr>\n",
       "      <th>4</th>\n",
       "      <td>Pierce Transit</td>\n",
       "      <td>19,974.00</td>\n",
       "      <td>0.00</td>\n",
       "      <td>16,164.59</td>\n",
       "      <td>-19.07%</td>\n",
       "      <td>-</td>\n",
       "    </tr>\n",
       "    <tr>\n",
       "      <th>5</th>\n",
       "      <td>Sound Transit</td>\n",
       "      <td>115,516.00</td>\n",
       "      <td>133,703.00</td>\n",
       "      <td>145,481.94</td>\n",
       "      <td>25.94%</td>\n",
       "      <td>8.81%</td>\n",
       "    </tr>\n",
       "    <tr>\n",
       "      <th>6</th>\n",
       "      <td>Washington Ferries</td>\n",
       "      <td>0.00</td>\n",
       "      <td>0.00</td>\n",
       "      <td>6,333.64</td>\n",
       "      <td>-</td>\n",
       "      <td>-</td>\n",
       "    </tr>\n",
       "  </tbody>\n",
       "</table>\n",
       "</div>"
      ],
      "text/plain": [
       "               agency  2023 boarding  2024 boarding  model_boardings  \\\n",
       "0   Community Transit      23,000.00           0.00        27,192.99   \n",
       "1     Everett Transit           0.00           0.00         4,547.75   \n",
       "2   King County Metro     244,306.00     272,556.00       282,055.72   \n",
       "3      Kitsap Transit       8,000.00       9,300.00        10,874.64   \n",
       "4      Pierce Transit      19,974.00           0.00        16,164.59   \n",
       "5       Sound Transit     115,516.00     133,703.00       145,481.94   \n",
       "6  Washington Ferries           0.00           0.00         6,333.64   \n",
       "\n",
       "  2023 % diff 2024 % diff  \n",
       "0      18.23%           -  \n",
       "1           -           -  \n",
       "2      15.45%       3.49%  \n",
       "3      35.93%      16.93%  \n",
       "4     -19.07%           -  \n",
       "5      25.94%       8.81%  \n",
       "6           -           -  "
      ]
     },
     "execution_count": 8,
     "metadata": {},
     "output_type": "execute_result"
    }
   ],
   "source": [
    "df = pd.read_csv(os.path.join(csv_path, 'daily_boardings_by_agency.csv'), usecols=['agency', 'model_boardings']).sort_values('model_boardings', ascending=False)\n",
    "df_obs = pd.read_sql(text(\"SELECT * FROM observed_transit_agency_boardings\"), con=conn.connect())\n",
    "\n",
    "df_obs_agency = df_obs.copy()\n",
    "df_obs_agency['boardings'] = df_obs_agency['boardings'].astype(float)\n",
    "df_obs_agency = df_obs_agency.groupby(['agency','year'])['boardings'].sum().unstack().reset_index()\n",
    "df_obs_agency = df_obs_agency.rename(columns={2023:'2023 boarding', 2024:'2024 boarding'})\n",
    "df_agency = df_obs_agency.merge(df, on='agency')\n",
    "\n",
    "df_agency['2023 % diff'] = (df_agency['model_boardings']-df_agency['2023 boarding'])/df_agency['2023 boarding']\n",
    "df_agency['2024 % diff'] = (df_agency['model_boardings']-df_agency['2024 boarding'])/df_agency['2024 boarding']\n",
    "df_agency[['2023 % diff']] = df_agency[['2023 % diff']].applymap(format_percent)\n",
    "df_agency[['2024 % diff']] = df_agency[['2024 % diff']].applymap(format_percent)\n",
    "df_agency = df_agency.replace('inf%', '-')\n",
    "\n",
    "df_agency"
   ]
  },
  {
   "cell_type": "raw",
   "id": "b155fe89",
   "metadata": {},
   "source": [
    "#### Bus Ridership by Agency"
   ]
  },
  {
   "cell_type": "code",
   "execution_count": 10,
   "id": "843fd939",
   "metadata": {},
   "outputs": [
    {
     "data": {
      "application/vnd.microsoft.datawrangler.viewer.v0+json": {
       "columns": [
        {
         "name": "agency",
         "rawType": "object",
         "type": "string"
        },
        {
         "name": "Model",
         "rawType": "float64",
         "type": "float"
        },
        {
         "name": "2023 Spring Observed",
         "rawType": "float64",
         "type": "float"
        },
        {
         "name": "2024 Spring Observed",
         "rawType": "float64",
         "type": "float"
        }
       ],
       "conversionMethod": "pd.DataFrame",
       "ref": "20d284c8-cb82-476c-97c2-66c0d65a3c56",
       "rows": [
        [
         "Community Transit",
         "27192.98941063881",
         "21752.237588024",
         "0.0"
        ],
        [
         "Everett Transit",
         "4547.748306576163",
         "4201.0",
         "5862.0"
        ],
        [
         "King County Metro",
         "279030.3416491002",
         "252852.00000003",
         "262018.0"
        ],
        [
         "Kitsap Transit",
         "5072.144457302988",
         "4048.0",
         "0.0"
        ],
        [
         "Pierce Transit",
         "16164.587627217174",
         "21185.0",
         "21911.0"
        ],
        [
         "Sound Transit",
         "42890.45552679896",
         "28444.0",
         "31292.0"
        ]
       ],
       "shape": {
        "columns": 3,
        "rows": 6
       }
      },
      "text/html": [
       "<div>\n",
       "<style scoped>\n",
       "    .dataframe tbody tr th:only-of-type {\n",
       "        vertical-align: middle;\n",
       "    }\n",
       "\n",
       "    .dataframe tbody tr th {\n",
       "        vertical-align: top;\n",
       "    }\n",
       "\n",
       "    .dataframe thead th {\n",
       "        text-align: right;\n",
       "    }\n",
       "</style>\n",
       "<table border=\"1\" class=\"dataframe\">\n",
       "  <thead>\n",
       "    <tr style=\"text-align: right;\">\n",
       "      <th></th>\n",
       "      <th>Model</th>\n",
       "      <th>2023 Spring Observed</th>\n",
       "      <th>2024 Spring Observed</th>\n",
       "    </tr>\n",
       "    <tr>\n",
       "      <th>agency</th>\n",
       "      <th></th>\n",
       "      <th></th>\n",
       "      <th></th>\n",
       "    </tr>\n",
       "  </thead>\n",
       "  <tbody>\n",
       "    <tr>\n",
       "      <th>Community Transit</th>\n",
       "      <td>27,192.99</td>\n",
       "      <td>21,752.24</td>\n",
       "      <td>0.00</td>\n",
       "    </tr>\n",
       "    <tr>\n",
       "      <th>Everett Transit</th>\n",
       "      <td>4,547.75</td>\n",
       "      <td>4,201.00</td>\n",
       "      <td>5,862.00</td>\n",
       "    </tr>\n",
       "    <tr>\n",
       "      <th>King County Metro</th>\n",
       "      <td>279,030.34</td>\n",
       "      <td>252,852.00</td>\n",
       "      <td>262,018.00</td>\n",
       "    </tr>\n",
       "    <tr>\n",
       "      <th>Kitsap Transit</th>\n",
       "      <td>5,072.14</td>\n",
       "      <td>4,048.00</td>\n",
       "      <td>0.00</td>\n",
       "    </tr>\n",
       "    <tr>\n",
       "      <th>Pierce Transit</th>\n",
       "      <td>16,164.59</td>\n",
       "      <td>21,185.00</td>\n",
       "      <td>21,911.00</td>\n",
       "    </tr>\n",
       "    <tr>\n",
       "      <th>Sound Transit</th>\n",
       "      <td>42,890.46</td>\n",
       "      <td>28,444.00</td>\n",
       "      <td>31,292.00</td>\n",
       "    </tr>\n",
       "  </tbody>\n",
       "</table>\n",
       "</div>"
      ],
      "text/plain": [
       "                       Model  2023 Spring Observed  2024 Spring Observed\n",
       "agency                                                                  \n",
       "Community Transit  27,192.99             21,752.24                  0.00\n",
       "Everett Transit     4,547.75              4,201.00              5,862.00\n",
       "King County Metro 279,030.34            252,852.00            262,018.00\n",
       "Kitsap Transit      5,072.14              4,048.00                  0.00\n",
       "Pierce Transit     16,164.59             21,185.00             21,911.00\n",
       "Sound Transit      42,890.46             28,444.00             31,292.00"
      ]
     },
     "execution_count": 10,
     "metadata": {},
     "output_type": "execute_result"
    }
   ],
   "source": [
    "# df = pd.read_csv(os.path.join(csv_path, 'daily_boardings_by_line.csv')).sort_values('observed_boardings', ascending=False)\n",
    "df = df_line_boardings_23_24.copy()\n",
    "df\n",
    "df = df[df['mode'].isin(['b'])]\n",
    "df = df.groupby(['agency'])[['Model','2023 Spring Observed','2024 Spring Observed']].sum()\n",
    "df\n"
   ]
  },
  {
   "cell_type": "raw",
   "id": "e64f5283",
   "metadata": {
    "vscode": {
     "languageId": "raw"
    }
   },
   "source": [
    ":::"
   ]
  },
  {
   "cell_type": "markdown",
   "id": "10436e8bdd112348",
   "metadata": {},
   "source": [
    "### boarding by key route"
   ]
  },
  {
   "cell_type": "raw",
   "id": "7d0d62e3693265f8",
   "metadata": {},
   "source": [
    ":::{.panel-tabset}\n",
    "#### ferry"
   ]
  },
  {
   "cell_type": "code",
   "execution_count": 11,
   "id": "75118f994b2c8118",
   "metadata": {
    "ExecuteTime": {
     "end_time": "2024-06-24T20:05:33.107476Z",
     "start_time": "2024-06-24T20:05:33.044901Z"
    },
    "execution": {
     "iopub.execute_input": "2024-12-14T02:38:40.169525Z",
     "iopub.status.busy": "2024-12-14T02:38:40.168527Z",
     "iopub.status.idle": "2024-12-14T02:38:40.235796Z",
     "shell.execute_reply": "2024-12-14T02:38:40.234293Z"
    }
   },
   "outputs": [
    {
     "data": {
      "application/vnd.microsoft.datawrangler.viewer.v0+json": {
       "columns": [
        {
         "name": "index",
         "rawType": "int64",
         "type": "integer"
        },
        {
         "name": "index",
         "rawType": "int64",
         "type": "integer"
        },
        {
         "name": "description",
         "rawType": "object",
         "type": "string"
        },
        {
         "name": "Model",
         "rawType": "float64",
         "type": "float"
        },
        {
         "name": "2023 Spring Observed",
         "rawType": "float64",
         "type": "float"
        },
        {
         "name": "2024 Spring Observed",
         "rawType": "float64",
         "type": "float"
        }
       ],
       "conversionMethod": "pd.DataFrame",
       "ref": "4cf0b6a3-2ee6-4200-84ad-4c96f3cd454e",
       "rows": [
        [
         "7",
         "279",
         "WSF Seattle-Bain Isl",
         "4127.799541473389",
         "4981.0",
         "5404.0"
        ],
        [
         "2",
         "270",
         "Seattle-Bremerton FF",
         "3165.0512714385986",
         "1913.0",
         "2068.0"
        ],
        [
         "3",
         "271",
         "Brem-Pt Orchard FF",
         "1536.0051956176758",
         "768.0",
         "857.0"
        ],
        [
         "10",
         "282",
         "WSF Fauntleroy-Vashn",
         "1159.2138328552246",
         "659.0",
         "661.0"
        ],
        [
         "0",
         "147",
         "973 W Sea Water Taxi",
         "689.502438545227",
         "837.0",
         "873.0"
        ],
        [
         "5",
         "274",
         "Seattle-Southwrth FF",
         "666.4632253050804",
         "631.0",
         "749.0"
        ],
        [
         "1",
         "148",
         "975 Vashn Water Taxi",
         "459.11345911026",
         "356.0",
         "390.0"
        ],
        [
         "9",
         "281",
         "WSF Fauntleroy-Swrth",
         "411.09082794189453",
         "134.0",
         "184.0"
        ],
        [
         "12",
         "284",
         "WSF Pt Def-Tahlequah",
         "200.0709506571293",
         "267.0",
         "325.0"
        ],
        [
         "8",
         "280",
         "WSF Seattle-Brem",
         "160.7754806280136",
         "739.0",
         "877.0"
        ],
        [
         "6",
         "278",
         "WSF Edmonds-Kingston",
         "160.6615505218506",
         "1020.0",
         "1068.0"
        ],
        [
         "11",
         "283",
         "WSF Vashon-Southwrth",
         "114.02362084388733",
         "83.0",
         "95.0"
        ],
        [
         "4",
         "273",
         "Seattle-Kingston FF",
         "95.33844950795174",
         "429.0",
         "484.0"
        ]
       ],
       "shape": {
        "columns": 5,
        "rows": 13
       }
      },
      "text/html": [
       "<div>\n",
       "<style scoped>\n",
       "    .dataframe tbody tr th:only-of-type {\n",
       "        vertical-align: middle;\n",
       "    }\n",
       "\n",
       "    .dataframe tbody tr th {\n",
       "        vertical-align: top;\n",
       "    }\n",
       "\n",
       "    .dataframe thead th {\n",
       "        text-align: right;\n",
       "    }\n",
       "</style>\n",
       "<table border=\"1\" class=\"dataframe\">\n",
       "  <thead>\n",
       "    <tr style=\"text-align: right;\">\n",
       "      <th></th>\n",
       "      <th>index</th>\n",
       "      <th>description</th>\n",
       "      <th>Model</th>\n",
       "      <th>2023 Spring Observed</th>\n",
       "      <th>2024 Spring Observed</th>\n",
       "    </tr>\n",
       "  </thead>\n",
       "  <tbody>\n",
       "    <tr>\n",
       "      <th>7</th>\n",
       "      <td>279</td>\n",
       "      <td>WSF Seattle-Bain Isl</td>\n",
       "      <td>4,127.80</td>\n",
       "      <td>4,981.00</td>\n",
       "      <td>5,404.00</td>\n",
       "    </tr>\n",
       "    <tr>\n",
       "      <th>2</th>\n",
       "      <td>270</td>\n",
       "      <td>Seattle-Bremerton FF</td>\n",
       "      <td>3,165.05</td>\n",
       "      <td>1,913.00</td>\n",
       "      <td>2,068.00</td>\n",
       "    </tr>\n",
       "    <tr>\n",
       "      <th>3</th>\n",
       "      <td>271</td>\n",
       "      <td>Brem-Pt Orchard FF</td>\n",
       "      <td>1,536.01</td>\n",
       "      <td>768.00</td>\n",
       "      <td>857.00</td>\n",
       "    </tr>\n",
       "    <tr>\n",
       "      <th>10</th>\n",
       "      <td>282</td>\n",
       "      <td>WSF Fauntleroy-Vashn</td>\n",
       "      <td>1,159.21</td>\n",
       "      <td>659.00</td>\n",
       "      <td>661.00</td>\n",
       "    </tr>\n",
       "    <tr>\n",
       "      <th>0</th>\n",
       "      <td>147</td>\n",
       "      <td>973 W Sea Water Taxi</td>\n",
       "      <td>689.50</td>\n",
       "      <td>837.00</td>\n",
       "      <td>873.00</td>\n",
       "    </tr>\n",
       "    <tr>\n",
       "      <th>5</th>\n",
       "      <td>274</td>\n",
       "      <td>Seattle-Southwrth FF</td>\n",
       "      <td>666.46</td>\n",
       "      <td>631.00</td>\n",
       "      <td>749.00</td>\n",
       "    </tr>\n",
       "    <tr>\n",
       "      <th>1</th>\n",
       "      <td>148</td>\n",
       "      <td>975 Vashn Water Taxi</td>\n",
       "      <td>459.11</td>\n",
       "      <td>356.00</td>\n",
       "      <td>390.00</td>\n",
       "    </tr>\n",
       "    <tr>\n",
       "      <th>9</th>\n",
       "      <td>281</td>\n",
       "      <td>WSF Fauntleroy-Swrth</td>\n",
       "      <td>411.09</td>\n",
       "      <td>134.00</td>\n",
       "      <td>184.00</td>\n",
       "    </tr>\n",
       "    <tr>\n",
       "      <th>12</th>\n",
       "      <td>284</td>\n",
       "      <td>WSF Pt Def-Tahlequah</td>\n",
       "      <td>200.07</td>\n",
       "      <td>267.00</td>\n",
       "      <td>325.00</td>\n",
       "    </tr>\n",
       "    <tr>\n",
       "      <th>8</th>\n",
       "      <td>280</td>\n",
       "      <td>WSF Seattle-Brem</td>\n",
       "      <td>160.78</td>\n",
       "      <td>739.00</td>\n",
       "      <td>877.00</td>\n",
       "    </tr>\n",
       "    <tr>\n",
       "      <th>6</th>\n",
       "      <td>278</td>\n",
       "      <td>WSF Edmonds-Kingston</td>\n",
       "      <td>160.66</td>\n",
       "      <td>1,020.00</td>\n",
       "      <td>1,068.00</td>\n",
       "    </tr>\n",
       "    <tr>\n",
       "      <th>11</th>\n",
       "      <td>283</td>\n",
       "      <td>WSF Vashon-Southwrth</td>\n",
       "      <td>114.02</td>\n",
       "      <td>83.00</td>\n",
       "      <td>95.00</td>\n",
       "    </tr>\n",
       "    <tr>\n",
       "      <th>4</th>\n",
       "      <td>273</td>\n",
       "      <td>Seattle-Kingston FF</td>\n",
       "      <td>95.34</td>\n",
       "      <td>429.00</td>\n",
       "      <td>484.00</td>\n",
       "    </tr>\n",
       "  </tbody>\n",
       "</table>\n",
       "</div>"
      ],
      "text/plain": [
       "    index           description    Model  2023 Spring Observed  \\\n",
       "7     279  WSF Seattle-Bain Isl 4,127.80              4,981.00   \n",
       "2     270  Seattle-Bremerton FF 3,165.05              1,913.00   \n",
       "3     271    Brem-Pt Orchard FF 1,536.01                768.00   \n",
       "10    282  WSF Fauntleroy-Vashn 1,159.21                659.00   \n",
       "0     147  973 W Sea Water Taxi   689.50                837.00   \n",
       "5     274  Seattle-Southwrth FF   666.46                631.00   \n",
       "1     148  975 Vashn Water Taxi   459.11                356.00   \n",
       "9     281  WSF Fauntleroy-Swrth   411.09                134.00   \n",
       "12    284  WSF Pt Def-Tahlequah   200.07                267.00   \n",
       "8     280      WSF Seattle-Brem   160.78                739.00   \n",
       "6     278  WSF Edmonds-Kingston   160.66              1,020.00   \n",
       "11    283  WSF Vashon-Southwrth   114.02                 83.00   \n",
       "4     273   Seattle-Kingston FF    95.34                429.00   \n",
       "\n",
       "    2024 Spring Observed  \n",
       "7               5,404.00  \n",
       "2               2,068.00  \n",
       "3                 857.00  \n",
       "10                661.00  \n",
       "0                 873.00  \n",
       "5                 749.00  \n",
       "1                 390.00  \n",
       "9                 184.00  \n",
       "12                325.00  \n",
       "8                 877.00  \n",
       "6               1,068.00  \n",
       "11                 95.00  \n",
       "4                 484.00  "
      ]
     },
     "execution_count": 11,
     "metadata": {},
     "output_type": "execute_result"
    }
   ],
   "source": [
    "\n",
    "df = df_line_boardings_23_24[df_line_boardings_23_24['mode'].isin(['f','p'])][['route_code','description','agency','Model','2023 Spring Observed','2024 Spring Observed']]\n",
    "df = df[df['route_code'].isin([4200,4201,4203,4204,5001,5002,5003,5004,5005,5006,5007,1973,1975])].reset_index()\n",
    "df.drop(['route_code','agency'], axis=1, inplace=True)\n",
    "df_table = df.copy()\n",
    "# df_table[['perc_diff']] = df_table[['perc_diff']].applymap(format_percent)\n",
    "df_table.sort_values('Model', ascending=False)"
   ]
  },
  {
   "cell_type": "code",
   "execution_count": null,
   "id": "67bf06d211cca3c6",
   "metadata": {
    "ExecuteTime": {
     "end_time": "2024-06-24T19:41:04.985397Z",
     "start_time": "2024-06-24T19:41:04.798158Z"
    },
    "execution": {
     "iopub.execute_input": "2024-12-14T02:38:40.247764Z",
     "iopub.status.busy": "2024-12-14T02:38:40.246767Z",
     "iopub.status.idle": "2024-12-14T02:38:40.267712Z",
     "shell.execute_reply": "2024-12-14T02:38:40.265717Z"
    }
   },
   "outputs": [],
   "source": [
    "# if len(df) > 0:\n",
    "#     ax = df.plot(kind='scatter', x='observed_boardings', y='model_boardings')\n",
    "#     lim = df[['observed_boardings','model_boardings']].max().max()*1.05\n",
    "#     ax.set_ylim(0,lim)\n",
    "#     ax.set_xlim(0,lim)\n",
    "#     x = np.linspace(*ax.get_xlim())\n",
    "#     ax.plot(x, x)\n",
    "#     slope, intercept, r_value, p_value, std_err = stats.linregress(df['observed_boardings'],df['model_boardings'])\n",
    "#     print('r^2 ' + str('') + ': ' + str(r_value))"
   ]
  },
  {
   "cell_type": "raw",
   "id": "14db883222970442",
   "metadata": {},
   "source": [
    "#### rail"
   ]
  },
  {
   "cell_type": "code",
   "execution_count": 12,
   "id": "c9adf289ac66da8",
   "metadata": {
    "ExecuteTime": {
     "end_time": "2024-06-24T20:05:45.826421Z",
     "start_time": "2024-06-24T20:05:45.779797Z"
    },
    "execution": {
     "iopub.execute_input": "2024-12-14T02:38:40.358988Z",
     "iopub.status.busy": "2024-12-14T02:38:40.356994Z",
     "iopub.status.idle": "2024-12-14T02:38:40.393246Z",
     "shell.execute_reply": "2024-12-14T02:38:40.391251Z"
    }
   },
   "outputs": [
    {
     "data": {
      "application/vnd.microsoft.datawrangler.viewer.v0+json": {
       "columns": [
        {
         "name": "index",
         "rawType": "int64",
         "type": "integer"
        },
        {
         "name": "route_code",
         "rawType": "int32",
         "type": "integer"
        },
        {
         "name": "description",
         "rawType": "object",
         "type": "string"
        },
        {
         "name": "agency",
         "rawType": "object",
         "type": "string"
        },
        {
         "name": "Model",
         "rawType": "float64",
         "type": "float"
        },
        {
         "name": "2023 Spring Observed",
         "rawType": "float64",
         "type": "float"
        },
        {
         "name": "2024 Spring Observed",
         "rawType": "float64",
         "type": "float"
        }
       ],
       "conversionMethod": "pd.DataFrame",
       "ref": "9954e63f-df16-46b7-a4c5-d5593dba0c2b",
       "rows": [
        [
         "0",
         "6996",
         "Link Red Line",
         "Sound Transit",
         "93782.7427368164",
         "78772.0",
         "91213.0"
        ],
        [
         "1",
         "6998",
         "Sounder South",
         "Sound Transit",
         "6785.922789573669",
         "6038.0",
         "7168.0"
        ],
        [
         "2",
         "6999",
         "Sounder North",
         "Sound Transit",
         "4.118294835090637",
         "316.0",
         "367.0"
        ]
       ],
       "shape": {
        "columns": 6,
        "rows": 3
       }
      },
      "text/html": [
       "<div>\n",
       "<style scoped>\n",
       "    .dataframe tbody tr th:only-of-type {\n",
       "        vertical-align: middle;\n",
       "    }\n",
       "\n",
       "    .dataframe tbody tr th {\n",
       "        vertical-align: top;\n",
       "    }\n",
       "\n",
       "    .dataframe thead th {\n",
       "        text-align: right;\n",
       "    }\n",
       "</style>\n",
       "<table border=\"1\" class=\"dataframe\">\n",
       "  <thead>\n",
       "    <tr style=\"text-align: right;\">\n",
       "      <th></th>\n",
       "      <th>route_code</th>\n",
       "      <th>description</th>\n",
       "      <th>agency</th>\n",
       "      <th>Model</th>\n",
       "      <th>2023 Spring Observed</th>\n",
       "      <th>2024 Spring Observed</th>\n",
       "    </tr>\n",
       "  </thead>\n",
       "  <tbody>\n",
       "    <tr>\n",
       "      <th>0</th>\n",
       "      <td>6996</td>\n",
       "      <td>Link Red Line</td>\n",
       "      <td>Sound Transit</td>\n",
       "      <td>93,782.74</td>\n",
       "      <td>78,772.00</td>\n",
       "      <td>91,213.00</td>\n",
       "    </tr>\n",
       "    <tr>\n",
       "      <th>1</th>\n",
       "      <td>6998</td>\n",
       "      <td>Sounder South</td>\n",
       "      <td>Sound Transit</td>\n",
       "      <td>6,785.92</td>\n",
       "      <td>6,038.00</td>\n",
       "      <td>7,168.00</td>\n",
       "    </tr>\n",
       "    <tr>\n",
       "      <th>2</th>\n",
       "      <td>6999</td>\n",
       "      <td>Sounder North</td>\n",
       "      <td>Sound Transit</td>\n",
       "      <td>4.12</td>\n",
       "      <td>316.00</td>\n",
       "      <td>367.00</td>\n",
       "    </tr>\n",
       "  </tbody>\n",
       "</table>\n",
       "</div>"
      ],
      "text/plain": [
       "   route_code    description         agency     Model  2023 Spring Observed  \\\n",
       "0        6996  Link Red Line  Sound Transit 93,782.74             78,772.00   \n",
       "1        6998  Sounder South  Sound Transit  6,785.92              6,038.00   \n",
       "2        6999  Sounder North  Sound Transit      4.12                316.00   \n",
       "\n",
       "   2024 Spring Observed  \n",
       "0             91,213.00  \n",
       "1              7,168.00  \n",
       "2                367.00  "
      ]
     },
     "execution_count": 12,
     "metadata": {},
     "output_type": "execute_result"
    }
   ],
   "source": [
    "df = df_line_boardings_23_24[df_line_boardings_23_24['route_code'].isin([6996,6999,6998])].reset_index()\n",
    "df['description'] = df['route_code'].map({6998: 'Sounder South', 6999: 'Sounder North',6996: 'Link Red Line'})\n",
    "# df.drop(['route_code','agency'], axis=1, inplace=True)\n",
    "df_table = df[['route_code','description','agency','Model','2023 Spring Observed','2024 Spring Observed']].copy()\n",
    "# df_table[['perc_diff']] = df_table[['perc_diff']].applymap(format_percent)\n",
    "df_table"
   ]
  },
  {
   "cell_type": "code",
   "execution_count": null,
   "id": "cb27f79888f8363d",
   "metadata": {
    "ExecuteTime": {
     "end_time": "2024-06-24T19:41:16.172926Z",
     "start_time": "2024-06-24T19:41:15.922628Z"
    },
    "execution": {
     "iopub.execute_input": "2024-12-14T02:38:40.404216Z",
     "iopub.status.busy": "2024-12-14T02:38:40.403219Z",
     "iopub.status.idle": "2024-12-14T02:38:40.833802Z",
     "shell.execute_reply": "2024-12-14T02:38:40.831807Z"
    }
   },
   "outputs": [],
   "source": [
    "# if len(df) > 0:\n",
    "#     ax = df.plot(kind='scatter', x='observed_boardings', y='model_boardings')\n",
    "#     lim = df[['observed_boardings','model_boardings']].max().max()*1.05\n",
    "#     ax.set_ylim(0,lim)\n",
    "#     ax.set_xlim(0,lim)\n",
    "#     x = np.linspace(*ax.get_xlim())\n",
    "#     ax.plot(x, x)\n",
    "#     slope, intercept, r_value, p_value, std_err = stats.linregress(df['observed_boardings'],df['model_boardings'])\n",
    "#     print('r^2 ' + str('') + ': ' + str(r_value))"
   ]
  },
  {
   "cell_type": "raw",
   "id": "a24f21772d15369c",
   "metadata": {},
   "source": [
    "#### RapidRide, busiest buses, streetcar"
   ]
  },
  {
   "cell_type": "code",
   "execution_count": 13,
   "id": "a048f8a2b6d7d277",
   "metadata": {
    "ExecuteTime": {
     "end_time": "2024-06-24T20:05:51.529079Z",
     "start_time": "2024-06-24T20:05:51.482757Z"
    },
    "execution": {
     "iopub.execute_input": "2024-12-14T02:38:40.845770Z",
     "iopub.status.busy": "2024-12-14T02:38:40.844772Z",
     "iopub.status.idle": "2024-12-14T02:38:40.911021Z",
     "shell.execute_reply": "2024-12-14T02:38:40.909026Z"
    }
   },
   "outputs": [
    {
     "data": {
      "application/vnd.microsoft.datawrangler.viewer.v0+json": {
       "columns": [
        {
         "name": "index",
         "rawType": "int64",
         "type": "integer"
        },
        {
         "name": "route_code",
         "rawType": "int32",
         "type": "integer"
        },
        {
         "name": "description",
         "rawType": "object",
         "type": "string"
        },
        {
         "name": "agency",
         "rawType": "object",
         "type": "string"
        },
        {
         "name": "Model",
         "rawType": "float64",
         "type": "float"
        },
        {
         "name": "2023 Spring Observed",
         "rawType": "float64",
         "type": "float"
        },
        {
         "name": "2024 Spring Observed",
         "rawType": "float64",
         "type": "float"
        }
       ],
       "conversionMethod": "pd.DataFrame",
       "ref": "98fee60e-c9a0-424d-8714-0a65e2765cfa",
       "rows": [
        [
         "6",
         "1675",
         "E Line RapidRide",
         "King County Metro",
         "15021.958883285522",
         "11057.0",
         "13011.0"
        ],
        [
         "0",
         "1007",
         "KC Metro 7",
         "King County Metro",
         "11852.18706035614",
         "10059.0",
         "10819.0"
        ],
        [
         "4",
         "1673",
         "C Line RapidRide",
         "King County Metro",
         "11132.45640206337",
         "7224.0",
         "7541.0"
        ],
        [
         "1",
         "1040",
         "KC Metro 40",
         "King County Metro",
         "8498.183734893799",
         "7218.0",
         "8255.0"
        ],
        [
         "5",
         "1674",
         "D Line RapidRide",
         "King County Metro",
         "7523.243593215942",
         "8805.0",
         "9634.0"
        ],
        [
         "10",
         "6550",
         "Sound Transit 550",
         "Sound Transit",
         "7188.051773071289",
         "3677.0",
         "4074.0"
        ],
        [
         "2",
         "1671",
         "A Line RapidRide",
         "King County Metro",
         "6817.052768707275",
         "8178.0",
         "9415.0"
        ],
        [
         "7",
         "1676",
         "F Line RapidRide",
         "King County Metro",
         "5393.3576736450195",
         "4548.0",
         "4968.0"
        ],
        [
         "3",
         "1672",
         "B Line RapidRide",
         "King County Metro",
         "3199.98494720459",
         "4214.0",
         "4694.0"
        ],
        [
         "8",
         "1997",
         "SLU Streetcar",
         "King County Metro",
         "1895.7896709442139",
         "523.0",
         "360.0"
        ],
        [
         "9",
         "1998",
         "First Hill Streetcar",
         "King County Metro",
         "987.8806986808777",
         "3915.0",
         "4115.0"
        ]
       ],
       "shape": {
        "columns": 6,
        "rows": 11
       }
      },
      "text/html": [
       "<div>\n",
       "<style scoped>\n",
       "    .dataframe tbody tr th:only-of-type {\n",
       "        vertical-align: middle;\n",
       "    }\n",
       "\n",
       "    .dataframe tbody tr th {\n",
       "        vertical-align: top;\n",
       "    }\n",
       "\n",
       "    .dataframe thead th {\n",
       "        text-align: right;\n",
       "    }\n",
       "</style>\n",
       "<table border=\"1\" class=\"dataframe\">\n",
       "  <thead>\n",
       "    <tr style=\"text-align: right;\">\n",
       "      <th></th>\n",
       "      <th>route_code</th>\n",
       "      <th>description</th>\n",
       "      <th>agency</th>\n",
       "      <th>Model</th>\n",
       "      <th>2023 Spring Observed</th>\n",
       "      <th>2024 Spring Observed</th>\n",
       "    </tr>\n",
       "  </thead>\n",
       "  <tbody>\n",
       "    <tr>\n",
       "      <th>6</th>\n",
       "      <td>1675</td>\n",
       "      <td>E Line RapidRide</td>\n",
       "      <td>King County Metro</td>\n",
       "      <td>15,021.96</td>\n",
       "      <td>11,057.00</td>\n",
       "      <td>13,011.00</td>\n",
       "    </tr>\n",
       "    <tr>\n",
       "      <th>0</th>\n",
       "      <td>1007</td>\n",
       "      <td>KC Metro 7</td>\n",
       "      <td>King County Metro</td>\n",
       "      <td>11,852.19</td>\n",
       "      <td>10,059.00</td>\n",
       "      <td>10,819.00</td>\n",
       "    </tr>\n",
       "    <tr>\n",
       "      <th>4</th>\n",
       "      <td>1673</td>\n",
       "      <td>C Line RapidRide</td>\n",
       "      <td>King County Metro</td>\n",
       "      <td>11,132.46</td>\n",
       "      <td>7,224.00</td>\n",
       "      <td>7,541.00</td>\n",
       "    </tr>\n",
       "    <tr>\n",
       "      <th>1</th>\n",
       "      <td>1040</td>\n",
       "      <td>KC Metro 40</td>\n",
       "      <td>King County Metro</td>\n",
       "      <td>8,498.18</td>\n",
       "      <td>7,218.00</td>\n",
       "      <td>8,255.00</td>\n",
       "    </tr>\n",
       "    <tr>\n",
       "      <th>5</th>\n",
       "      <td>1674</td>\n",
       "      <td>D Line RapidRide</td>\n",
       "      <td>King County Metro</td>\n",
       "      <td>7,523.24</td>\n",
       "      <td>8,805.00</td>\n",
       "      <td>9,634.00</td>\n",
       "    </tr>\n",
       "    <tr>\n",
       "      <th>10</th>\n",
       "      <td>6550</td>\n",
       "      <td>Sound Transit 550</td>\n",
       "      <td>Sound Transit</td>\n",
       "      <td>7,188.05</td>\n",
       "      <td>3,677.00</td>\n",
       "      <td>4,074.00</td>\n",
       "    </tr>\n",
       "    <tr>\n",
       "      <th>2</th>\n",
       "      <td>1671</td>\n",
       "      <td>A Line RapidRide</td>\n",
       "      <td>King County Metro</td>\n",
       "      <td>6,817.05</td>\n",
       "      <td>8,178.00</td>\n",
       "      <td>9,415.00</td>\n",
       "    </tr>\n",
       "    <tr>\n",
       "      <th>7</th>\n",
       "      <td>1676</td>\n",
       "      <td>F Line RapidRide</td>\n",
       "      <td>King County Metro</td>\n",
       "      <td>5,393.36</td>\n",
       "      <td>4,548.00</td>\n",
       "      <td>4,968.00</td>\n",
       "    </tr>\n",
       "    <tr>\n",
       "      <th>3</th>\n",
       "      <td>1672</td>\n",
       "      <td>B Line RapidRide</td>\n",
       "      <td>King County Metro</td>\n",
       "      <td>3,199.98</td>\n",
       "      <td>4,214.00</td>\n",
       "      <td>4,694.00</td>\n",
       "    </tr>\n",
       "    <tr>\n",
       "      <th>8</th>\n",
       "      <td>1997</td>\n",
       "      <td>SLU Streetcar</td>\n",
       "      <td>King County Metro</td>\n",
       "      <td>1,895.79</td>\n",
       "      <td>523.00</td>\n",
       "      <td>360.00</td>\n",
       "    </tr>\n",
       "    <tr>\n",
       "      <th>9</th>\n",
       "      <td>1998</td>\n",
       "      <td>First Hill Streetcar</td>\n",
       "      <td>King County Metro</td>\n",
       "      <td>987.88</td>\n",
       "      <td>3,915.00</td>\n",
       "      <td>4,115.00</td>\n",
       "    </tr>\n",
       "  </tbody>\n",
       "</table>\n",
       "</div>"
      ],
      "text/plain": [
       "    route_code           description             agency     Model  \\\n",
       "6         1675      E Line RapidRide  King County Metro 15,021.96   \n",
       "0         1007            KC Metro 7  King County Metro 11,852.19   \n",
       "4         1673      C Line RapidRide  King County Metro 11,132.46   \n",
       "1         1040           KC Metro 40  King County Metro  8,498.18   \n",
       "5         1674      D Line RapidRide  King County Metro  7,523.24   \n",
       "10        6550     Sound Transit 550      Sound Transit  7,188.05   \n",
       "2         1671      A Line RapidRide  King County Metro  6,817.05   \n",
       "7         1676      F Line RapidRide  King County Metro  5,393.36   \n",
       "3         1672      B Line RapidRide  King County Metro  3,199.98   \n",
       "8         1997         SLU Streetcar  King County Metro  1,895.79   \n",
       "9         1998  First Hill Streetcar  King County Metro    987.88   \n",
       "\n",
       "    2023 Spring Observed  2024 Spring Observed  \n",
       "6              11,057.00             13,011.00  \n",
       "0              10,059.00             10,819.00  \n",
       "4               7,224.00              7,541.00  \n",
       "1               7,218.00              8,255.00  \n",
       "5               8,805.00              9,634.00  \n",
       "10              3,677.00              4,074.00  \n",
       "2               8,178.00              9,415.00  \n",
       "7               4,548.00              4,968.00  \n",
       "3               4,214.00              4,694.00  \n",
       "8                 523.00                360.00  \n",
       "9               3,915.00              4,115.00  "
      ]
     },
     "execution_count": 13,
     "metadata": {},
     "output_type": "execute_result"
    }
   ],
   "source": [
    "# df = df_boarding_key[df_boarding_key['route_code'].isin([1671,1672,1673,1674,1675,1676,6550,1007,1040,1997,1998])].reset_index()\n",
    "# df['description'] = df['route_code'].map({1671: 'A Line RapidRide', 1672: 'B Line RapidRide',\n",
    "#                                             1673: 'C Line RapidRide', 1674: 'D Line RapidRide',\n",
    "#                                             1675: 'E Line RapidRide', 1676: 'F Line RapidRide',\n",
    "#                                             6550: 'Sound Transit 550', 1040: 'KC Metro 40', 1007: 'KC Metro 7',\n",
    "#                                             1997: 'SLU Streetcar', 1998: 'First Hill Streetcar'})\n",
    "# df.drop(['route_code','agency'], axis=1, inplace=True)\n",
    "\n",
    "df = df_line_boardings_23_24[df_line_boardings_23_24['route_code'].isin([1671,1672,1673,1674,1675,1676,6550,1007,1040,1997,1998])].reset_index()\n",
    "df['description'] = df['route_code'].map({1671: 'A Line RapidRide', 1672: 'B Line RapidRide',\n",
    "                                            1673: 'C Line RapidRide', 1674: 'D Line RapidRide',\n",
    "                                            1675: 'E Line RapidRide', 1676: 'F Line RapidRide',\n",
    "                                            6550: 'Sound Transit 550', 1040: 'KC Metro 40', 1007: 'KC Metro 7',\n",
    "                                            1997: 'SLU Streetcar', 1998: 'First Hill Streetcar'})\n",
    "# df.drop(['route_code','agency'], axis=1, inplace=True)\n",
    "df_table = df[['route_code','description','agency','Model','2023 Spring Observed','2024 Spring Observed']].copy()\n",
    "\n",
    "df_table = df[['route_code','description','agency','Model','2023 Spring Observed','2024 Spring Observed']].copy()\n",
    "df_table.sort_values('Model', ascending=False)"
   ]
  },
  {
   "cell_type": "code",
   "execution_count": null,
   "id": "813aa67bd5e6c1f6",
   "metadata": {
    "ExecuteTime": {
     "end_time": "2024-06-24T19:41:23.547293Z",
     "start_time": "2024-06-24T19:41:23.312803Z"
    },
    "execution": {
     "iopub.execute_input": "2024-12-14T02:38:40.921991Z",
     "iopub.status.busy": "2024-12-14T02:38:40.920994Z",
     "iopub.status.idle": "2024-12-14T02:38:41.159750Z",
     "shell.execute_reply": "2024-12-14T02:38:41.157755Z"
    }
   },
   "outputs": [],
   "source": [
    "# if len(df) > 0:\n",
    "#     ax = df.plot(kind='scatter', x='observed_boardings', y='model_boardings')\n",
    "#     lim = df[['observed_boardings', 'model_boardings']].max().max() * 1.05\n",
    "#     ax.set_ylim(0, lim)\n",
    "#     ax.set_xlim(0, lim)\n",
    "#     x = np.linspace(*ax.get_xlim())\n",
    "#     ax.plot(x, x)\n",
    "#     slope, intercept, r_value, p_value, std_err = stats.linregress(df['observed_boardings'], df['model_boardings'])\n",
    "#     print('r^2 ' + str('') + ': ' + str(r_value))"
   ]
  },
  {
   "cell_type": "raw",
   "id": "c55611b2314fffc3",
   "metadata": {},
   "source": [
    ":::"
   ]
  },
  {
   "cell_type": "markdown",
   "id": "e050a08b",
   "metadata": {},
   "source": [
    "### Top routes by agency"
   ]
  },
  {
   "cell_type": "code",
   "execution_count": 14,
   "id": "58d89e2b",
   "metadata": {},
   "outputs": [],
   "source": [
    "# df = pd.read_csv(os.path.join(csv_path, 'daily_boardings_by_line.csv'))\n",
    "df = df_line_boardings_23_24.copy()\n",
    "# df_top = pd.DataFrame()\n",
    "# for agency in df['agency'].unique():\n",
    "#     _df = df[df['agency'] == agency].sort_values('model_boardings', ascending=False).head(8)\n",
    "#     df_top = pd.concat([df_top, _df])\n",
    "# df = df_top[['agency','description','mode','model_boardings','observed_boardings','diff','perc_diff']]\n",
    "cols=['agency','description','mode','Model','2023 Spring Observed','2024 Spring Observed']"
   ]
  },
  {
   "cell_type": "raw",
   "id": "7972e453",
   "metadata": {},
   "source": [
    ":::{.panel-tabset}\n",
    "#### King County Metro"
   ]
  },
  {
   "cell_type": "code",
   "execution_count": 15,
   "id": "35a6745d",
   "metadata": {},
   "outputs": [
    {
     "data": {
      "application/vnd.microsoft.datawrangler.viewer.v0+json": {
       "columns": [
        {
         "name": "index",
         "rawType": "int64",
         "type": "integer"
        },
        {
         "name": "agency",
         "rawType": "object",
         "type": "string"
        },
        {
         "name": "description",
         "rawType": "object",
         "type": "string"
        },
        {
         "name": "mode",
         "rawType": "object",
         "type": "string"
        },
        {
         "name": "Model",
         "rawType": "float64",
         "type": "float"
        },
        {
         "name": "2023 Spring Observed",
         "rawType": "float64",
         "type": "float"
        },
        {
         "name": "2024 Spring Observed",
         "rawType": "float64",
         "type": "float"
        }
       ],
       "conversionMethod": "pd.DataFrame",
       "ref": "f357ff6c-230d-4c8b-8315-a6e2c4ba48bb",
       "rows": [
        [
         "130",
         "King County Metro",
         "E-Line",
         "b",
         "15021.958883285522",
         "11057.0",
         "13011.0"
        ],
        [
         "5",
         "King County Metro",
         "7 Rain Bch-ColC-CBD",
         "b",
         "11852.18706035614",
         "10059.0",
         "10819.0"
        ],
        [
         "128",
         "King County Metro",
         "C Line",
         "b",
         "11132.45640206337",
         "7224.0",
         "7541.0"
        ],
        [
         "28",
         "King County Metro",
         "40 Ngt-Bal-Fre-CBD",
         "b",
         "8498.183734893799",
         "7218.0",
         "8255.0"
        ],
        [
         "129",
         "King County Metro",
         "D Line",
         "b",
         "7523.243593215942",
         "8805.0",
         "9634.0"
        ],
        [
         "132",
         "King County Metro",
         "H-Line",
         "b",
         "7211.852993011475",
         "6907.0",
         "0.0"
        ],
        [
         "43",
         "King County Metro",
         "70 Udst-Elake-CBD",
         "b",
         "6829.866404056549",
         "4298.0",
         "4658.0"
        ],
        [
         "126",
         "King County Metro",
         "A Line",
         "b",
         "6817.052768707275",
         "8178.0",
         "9415.0"
        ],
        [
         "39",
         "King County Metro",
         "62 SndPt-GLk-Fre-CBD",
         "b",
         "6713.479681015015",
         "6138.0",
         "6743.0"
        ],
        [
         "67",
         "King County Metro",
         "160 Aub-Kent-Rent",
         "b",
         "6109.849925994873",
         "5008.0",
         "5492.0"
        ]
       ],
       "shape": {
        "columns": 6,
        "rows": 10
       }
      },
      "text/html": [
       "<div>\n",
       "<style scoped>\n",
       "    .dataframe tbody tr th:only-of-type {\n",
       "        vertical-align: middle;\n",
       "    }\n",
       "\n",
       "    .dataframe tbody tr th {\n",
       "        vertical-align: top;\n",
       "    }\n",
       "\n",
       "    .dataframe thead th {\n",
       "        text-align: right;\n",
       "    }\n",
       "</style>\n",
       "<table border=\"1\" class=\"dataframe\">\n",
       "  <thead>\n",
       "    <tr style=\"text-align: right;\">\n",
       "      <th></th>\n",
       "      <th>agency</th>\n",
       "      <th>description</th>\n",
       "      <th>mode</th>\n",
       "      <th>Model</th>\n",
       "      <th>2023 Spring Observed</th>\n",
       "      <th>2024 Spring Observed</th>\n",
       "    </tr>\n",
       "  </thead>\n",
       "  <tbody>\n",
       "    <tr>\n",
       "      <th>130</th>\n",
       "      <td>King County Metro</td>\n",
       "      <td>E-Line</td>\n",
       "      <td>b</td>\n",
       "      <td>15,021.96</td>\n",
       "      <td>11,057.00</td>\n",
       "      <td>13,011.00</td>\n",
       "    </tr>\n",
       "    <tr>\n",
       "      <th>5</th>\n",
       "      <td>King County Metro</td>\n",
       "      <td>7 Rain Bch-ColC-CBD</td>\n",
       "      <td>b</td>\n",
       "      <td>11,852.19</td>\n",
       "      <td>10,059.00</td>\n",
       "      <td>10,819.00</td>\n",
       "    </tr>\n",
       "    <tr>\n",
       "      <th>128</th>\n",
       "      <td>King County Metro</td>\n",
       "      <td>C Line</td>\n",
       "      <td>b</td>\n",
       "      <td>11,132.46</td>\n",
       "      <td>7,224.00</td>\n",
       "      <td>7,541.00</td>\n",
       "    </tr>\n",
       "    <tr>\n",
       "      <th>28</th>\n",
       "      <td>King County Metro</td>\n",
       "      <td>40 Ngt-Bal-Fre-CBD</td>\n",
       "      <td>b</td>\n",
       "      <td>8,498.18</td>\n",
       "      <td>7,218.00</td>\n",
       "      <td>8,255.00</td>\n",
       "    </tr>\n",
       "    <tr>\n",
       "      <th>129</th>\n",
       "      <td>King County Metro</td>\n",
       "      <td>D Line</td>\n",
       "      <td>b</td>\n",
       "      <td>7,523.24</td>\n",
       "      <td>8,805.00</td>\n",
       "      <td>9,634.00</td>\n",
       "    </tr>\n",
       "    <tr>\n",
       "      <th>132</th>\n",
       "      <td>King County Metro</td>\n",
       "      <td>H-Line</td>\n",
       "      <td>b</td>\n",
       "      <td>7,211.85</td>\n",
       "      <td>6,907.00</td>\n",
       "      <td>0.00</td>\n",
       "    </tr>\n",
       "    <tr>\n",
       "      <th>43</th>\n",
       "      <td>King County Metro</td>\n",
       "      <td>70 Udst-Elake-CBD</td>\n",
       "      <td>b</td>\n",
       "      <td>6,829.87</td>\n",
       "      <td>4,298.00</td>\n",
       "      <td>4,658.00</td>\n",
       "    </tr>\n",
       "    <tr>\n",
       "      <th>126</th>\n",
       "      <td>King County Metro</td>\n",
       "      <td>A Line</td>\n",
       "      <td>b</td>\n",
       "      <td>6,817.05</td>\n",
       "      <td>8,178.00</td>\n",
       "      <td>9,415.00</td>\n",
       "    </tr>\n",
       "    <tr>\n",
       "      <th>39</th>\n",
       "      <td>King County Metro</td>\n",
       "      <td>62 SndPt-GLk-Fre-CBD</td>\n",
       "      <td>b</td>\n",
       "      <td>6,713.48</td>\n",
       "      <td>6,138.00</td>\n",
       "      <td>6,743.00</td>\n",
       "    </tr>\n",
       "    <tr>\n",
       "      <th>67</th>\n",
       "      <td>King County Metro</td>\n",
       "      <td>160 Aub-Kent-Rent</td>\n",
       "      <td>b</td>\n",
       "      <td>6,109.85</td>\n",
       "      <td>5,008.00</td>\n",
       "      <td>5,492.00</td>\n",
       "    </tr>\n",
       "  </tbody>\n",
       "</table>\n",
       "</div>"
      ],
      "text/plain": [
       "                agency           description mode     Model  \\\n",
       "130  King County Metro                E-Line    b 15,021.96   \n",
       "5    King County Metro   7 Rain Bch-ColC-CBD    b 11,852.19   \n",
       "128  King County Metro                C Line    b 11,132.46   \n",
       "28   King County Metro    40 Ngt-Bal-Fre-CBD    b  8,498.18   \n",
       "129  King County Metro                D Line    b  7,523.24   \n",
       "132  King County Metro                H-Line    b  7,211.85   \n",
       "43   King County Metro     70 Udst-Elake-CBD    b  6,829.87   \n",
       "126  King County Metro                A Line    b  6,817.05   \n",
       "39   King County Metro  62 SndPt-GLk-Fre-CBD    b  6,713.48   \n",
       "67   King County Metro     160 Aub-Kent-Rent    b  6,109.85   \n",
       "\n",
       "     2023 Spring Observed  2024 Spring Observed  \n",
       "130             11,057.00             13,011.00  \n",
       "5               10,059.00             10,819.00  \n",
       "128              7,224.00              7,541.00  \n",
       "28               7,218.00              8,255.00  \n",
       "129              8,805.00              9,634.00  \n",
       "132              6,907.00                  0.00  \n",
       "43               4,298.00              4,658.00  \n",
       "126              8,178.00              9,415.00  \n",
       "39               6,138.00              6,743.00  \n",
       "67               5,008.00              5,492.00  "
      ]
     },
     "execution_count": 15,
     "metadata": {},
     "output_type": "execute_result"
    }
   ],
   "source": [
    "agency = 'King County Metro'\n",
    "df[df['agency'] == agency].sort_values('Model', ascending=False).head(10)[cols]"
   ]
  },
  {
   "cell_type": "raw",
   "id": "cbdadc57",
   "metadata": {},
   "source": [
    "#### Sound Transit"
   ]
  },
  {
   "cell_type": "code",
   "execution_count": 16,
   "id": "fbbb65ca",
   "metadata": {},
   "outputs": [
    {
     "data": {
      "application/vnd.microsoft.datawrangler.viewer.v0+json": {
       "columns": [
        {
         "name": "index",
         "rawType": "int64",
         "type": "integer"
        },
        {
         "name": "agency",
         "rawType": "object",
         "type": "string"
        },
        {
         "name": "description",
         "rawType": "object",
         "type": "string"
        },
        {
         "name": "mode",
         "rawType": "object",
         "type": "string"
        },
        {
         "name": "Model",
         "rawType": "float64",
         "type": "float"
        },
        {
         "name": "2023 Spring Observed",
         "rawType": "float64",
         "type": "float"
        },
        {
         "name": "2024 Spring Observed",
         "rawType": "float64",
         "type": "float"
        }
       ],
       "conversionMethod": "pd.DataFrame",
       "ref": "21d6e1c9-87a1-46b9-9bcb-73ab51ab75ad",
       "rows": [
        [
         "309",
         "Sound Transit",
         "Light Rail Ang Lk-NG",
         "r",
         "93782.7427368164",
         "78772.0",
         "91213.0"
        ],
        [
         "293",
         "Sound Transit",
         "550 Bellevue-Seattle",
         "b",
         "7188.051773071289",
         "3677.0",
         "4074.0"
        ],
        [
         "310",
         "Sound Transit",
         "Commutr Rail Tac-Sea",
         "c",
         "6785.922789573669",
         "6038.0",
         "7168.0"
        ],
        [
         "286",
         "Sound Transit",
         "512 Everett-Northgte",
         "b",
         "5332.533165931702",
         "2306.0",
         "2937.0"
        ],
        [
         "292",
         "Sound Transit",
         "545 Redmond-Seattle",
         "b",
         "5180.212368011475",
         "4075.0",
         "4816.0"
        ],
        [
         "288",
         "Sound Transit",
         "522 Woodinvl-Roosvlt",
         "b",
         "5141.150346755981",
         "1756.0",
         "2286.0"
        ],
        [
         "294",
         "Sound Transit",
         "554 Issaquah-Seattle",
         "b",
         "4276.108116149902",
         "2415.0",
         "2783.0"
        ],
        [
         "300",
         "Sound Transit",
         "578 Seattle-Puyallup",
         "b",
         "2855.3946800231934",
         "1523.0",
         "1614.0"
        ],
        [
         "298",
         "Sound Transit",
         "574 Lakewood-SeaTac",
         "b",
         "2132.2129411697388",
         "1870.0",
         "1764.0"
        ],
        [
         "296",
         "Sound Transit",
         "560 W Sea-Bellevue",
         "b",
         "2038.786584854126",
         "1371.0",
         "1286.0"
        ]
       ],
       "shape": {
        "columns": 6,
        "rows": 10
       }
      },
      "text/html": [
       "<div>\n",
       "<style scoped>\n",
       "    .dataframe tbody tr th:only-of-type {\n",
       "        vertical-align: middle;\n",
       "    }\n",
       "\n",
       "    .dataframe tbody tr th {\n",
       "        vertical-align: top;\n",
       "    }\n",
       "\n",
       "    .dataframe thead th {\n",
       "        text-align: right;\n",
       "    }\n",
       "</style>\n",
       "<table border=\"1\" class=\"dataframe\">\n",
       "  <thead>\n",
       "    <tr style=\"text-align: right;\">\n",
       "      <th></th>\n",
       "      <th>agency</th>\n",
       "      <th>description</th>\n",
       "      <th>mode</th>\n",
       "      <th>Model</th>\n",
       "      <th>2023 Spring Observed</th>\n",
       "      <th>2024 Spring Observed</th>\n",
       "    </tr>\n",
       "  </thead>\n",
       "  <tbody>\n",
       "    <tr>\n",
       "      <th>309</th>\n",
       "      <td>Sound Transit</td>\n",
       "      <td>Light Rail Ang Lk-NG</td>\n",
       "      <td>r</td>\n",
       "      <td>93,782.74</td>\n",
       "      <td>78,772.00</td>\n",
       "      <td>91,213.00</td>\n",
       "    </tr>\n",
       "    <tr>\n",
       "      <th>293</th>\n",
       "      <td>Sound Transit</td>\n",
       "      <td>550 Bellevue-Seattle</td>\n",
       "      <td>b</td>\n",
       "      <td>7,188.05</td>\n",
       "      <td>3,677.00</td>\n",
       "      <td>4,074.00</td>\n",
       "    </tr>\n",
       "    <tr>\n",
       "      <th>310</th>\n",
       "      <td>Sound Transit</td>\n",
       "      <td>Commutr Rail Tac-Sea</td>\n",
       "      <td>c</td>\n",
       "      <td>6,785.92</td>\n",
       "      <td>6,038.00</td>\n",
       "      <td>7,168.00</td>\n",
       "    </tr>\n",
       "    <tr>\n",
       "      <th>286</th>\n",
       "      <td>Sound Transit</td>\n",
       "      <td>512 Everett-Northgte</td>\n",
       "      <td>b</td>\n",
       "      <td>5,332.53</td>\n",
       "      <td>2,306.00</td>\n",
       "      <td>2,937.00</td>\n",
       "    </tr>\n",
       "    <tr>\n",
       "      <th>292</th>\n",
       "      <td>Sound Transit</td>\n",
       "      <td>545 Redmond-Seattle</td>\n",
       "      <td>b</td>\n",
       "      <td>5,180.21</td>\n",
       "      <td>4,075.00</td>\n",
       "      <td>4,816.00</td>\n",
       "    </tr>\n",
       "    <tr>\n",
       "      <th>288</th>\n",
       "      <td>Sound Transit</td>\n",
       "      <td>522 Woodinvl-Roosvlt</td>\n",
       "      <td>b</td>\n",
       "      <td>5,141.15</td>\n",
       "      <td>1,756.00</td>\n",
       "      <td>2,286.00</td>\n",
       "    </tr>\n",
       "    <tr>\n",
       "      <th>294</th>\n",
       "      <td>Sound Transit</td>\n",
       "      <td>554 Issaquah-Seattle</td>\n",
       "      <td>b</td>\n",
       "      <td>4,276.11</td>\n",
       "      <td>2,415.00</td>\n",
       "      <td>2,783.00</td>\n",
       "    </tr>\n",
       "    <tr>\n",
       "      <th>300</th>\n",
       "      <td>Sound Transit</td>\n",
       "      <td>578 Seattle-Puyallup</td>\n",
       "      <td>b</td>\n",
       "      <td>2,855.39</td>\n",
       "      <td>1,523.00</td>\n",
       "      <td>1,614.00</td>\n",
       "    </tr>\n",
       "    <tr>\n",
       "      <th>298</th>\n",
       "      <td>Sound Transit</td>\n",
       "      <td>574 Lakewood-SeaTac</td>\n",
       "      <td>b</td>\n",
       "      <td>2,132.21</td>\n",
       "      <td>1,870.00</td>\n",
       "      <td>1,764.00</td>\n",
       "    </tr>\n",
       "    <tr>\n",
       "      <th>296</th>\n",
       "      <td>Sound Transit</td>\n",
       "      <td>560 W Sea-Bellevue</td>\n",
       "      <td>b</td>\n",
       "      <td>2,038.79</td>\n",
       "      <td>1,371.00</td>\n",
       "      <td>1,286.00</td>\n",
       "    </tr>\n",
       "  </tbody>\n",
       "</table>\n",
       "</div>"
      ],
      "text/plain": [
       "            agency           description mode     Model  2023 Spring Observed  \\\n",
       "309  Sound Transit  Light Rail Ang Lk-NG    r 93,782.74             78,772.00   \n",
       "293  Sound Transit  550 Bellevue-Seattle    b  7,188.05              3,677.00   \n",
       "310  Sound Transit  Commutr Rail Tac-Sea    c  6,785.92              6,038.00   \n",
       "286  Sound Transit  512 Everett-Northgte    b  5,332.53              2,306.00   \n",
       "292  Sound Transit   545 Redmond-Seattle    b  5,180.21              4,075.00   \n",
       "288  Sound Transit  522 Woodinvl-Roosvlt    b  5,141.15              1,756.00   \n",
       "294  Sound Transit  554 Issaquah-Seattle    b  4,276.11              2,415.00   \n",
       "300  Sound Transit  578 Seattle-Puyallup    b  2,855.39              1,523.00   \n",
       "298  Sound Transit   574 Lakewood-SeaTac    b  2,132.21              1,870.00   \n",
       "296  Sound Transit    560 W Sea-Bellevue    b  2,038.79              1,371.00   \n",
       "\n",
       "     2024 Spring Observed  \n",
       "309             91,213.00  \n",
       "293              4,074.00  \n",
       "310              7,168.00  \n",
       "286              2,937.00  \n",
       "292              4,816.00  \n",
       "288              2,286.00  \n",
       "294              2,783.00  \n",
       "300              1,614.00  \n",
       "298              1,764.00  \n",
       "296              1,286.00  "
      ]
     },
     "execution_count": 16,
     "metadata": {},
     "output_type": "execute_result"
    }
   ],
   "source": [
    "agency = 'Sound Transit'\n",
    "df[df['agency'] == agency].sort_values('Model', ascending=False).head(10)[cols]"
   ]
  },
  {
   "cell_type": "raw",
   "id": "5bb6872d",
   "metadata": {},
   "source": [
    "#### Community Transit"
   ]
  },
  {
   "cell_type": "code",
   "execution_count": 17,
   "id": "f7994dd7",
   "metadata": {},
   "outputs": [
    {
     "data": {
      "application/vnd.microsoft.datawrangler.viewer.v0+json": {
       "columns": [
        {
         "name": "index",
         "rawType": "int64",
         "type": "integer"
        },
        {
         "name": "agency",
         "rawType": "object",
         "type": "string"
        },
        {
         "name": "description",
         "rawType": "object",
         "type": "string"
        },
        {
         "name": "mode",
         "rawType": "object",
         "type": "string"
        },
        {
         "name": "Model",
         "rawType": "float64",
         "type": "float"
        },
        {
         "name": "2023 Spring Observed",
         "rawType": "float64",
         "type": "float"
        },
        {
         "name": "2024 Spring Observed",
         "rawType": "float64",
         "type": "float"
        }
       ],
       "conversionMethod": "pd.DataFrame",
       "ref": "52ce687f-0987-48cb-83ea-18e9d9b06542",
       "rows": [
        [
         "230",
         "Community Transit",
         "Swift Blue",
         "b",
         "6046.297565460205",
         "5403.454545",
         "0.0"
        ],
        [
         "231",
         "Community Transit",
         "Swift Green",
         "b",
         "2423.1258478164673",
         "2017.476727",
         "0.0"
        ],
        [
         "200",
         "Community Transit",
         "116 Edm-Silver Firs",
         "b",
         "2155.425678253174",
         "1072.311688",
         "0.0"
        ],
        [
         "199",
         "Community Transit",
         "115 McClm P&R-AurVil",
         "b",
         "1672.7210702896118",
         "965.1818182",
         "0.0"
        ],
        [
         "206",
         "Community Transit",
         "202 Smokey Pt-Lynnwd",
         "b",
         "1482.1789360046387",
         "1138.863636",
         "0.0"
        ],
        [
         "205",
         "Community Transit",
         "201 Smokey Pt-Lynnwd",
         "b",
         "1478.7752208709717",
         "1081.116732",
         "0.0"
        ],
        [
         "191",
         "Community Transit",
         "101 Mar P&R-Aur Vill",
         "b",
         "1305.4426403045654",
         "810.469697",
         "0.0"
        ],
        [
         "203",
         "Community Transit",
         "130 Edmonds-Lynnwood",
         "b",
         "885.2696599960327",
         "473.4090909",
         "0.0"
        ],
        [
         "198",
         "Community Transit",
         "113 Mukilteo-Lynn TC",
         "b",
         "791.8306558132172",
         "763.8181818",
         "0.0"
        ],
        [
         "216",
         "Community Transit",
         "280 Gran Falls-Evrt",
         "b",
         "717.0287389755249",
         "400.1958636",
         "0.0"
        ]
       ],
       "shape": {
        "columns": 6,
        "rows": 10
       }
      },
      "text/html": [
       "<div>\n",
       "<style scoped>\n",
       "    .dataframe tbody tr th:only-of-type {\n",
       "        vertical-align: middle;\n",
       "    }\n",
       "\n",
       "    .dataframe tbody tr th {\n",
       "        vertical-align: top;\n",
       "    }\n",
       "\n",
       "    .dataframe thead th {\n",
       "        text-align: right;\n",
       "    }\n",
       "</style>\n",
       "<table border=\"1\" class=\"dataframe\">\n",
       "  <thead>\n",
       "    <tr style=\"text-align: right;\">\n",
       "      <th></th>\n",
       "      <th>agency</th>\n",
       "      <th>description</th>\n",
       "      <th>mode</th>\n",
       "      <th>Model</th>\n",
       "      <th>2023 Spring Observed</th>\n",
       "      <th>2024 Spring Observed</th>\n",
       "    </tr>\n",
       "  </thead>\n",
       "  <tbody>\n",
       "    <tr>\n",
       "      <th>230</th>\n",
       "      <td>Community Transit</td>\n",
       "      <td>Swift Blue</td>\n",
       "      <td>b</td>\n",
       "      <td>6,046.30</td>\n",
       "      <td>5,403.45</td>\n",
       "      <td>0.00</td>\n",
       "    </tr>\n",
       "    <tr>\n",
       "      <th>231</th>\n",
       "      <td>Community Transit</td>\n",
       "      <td>Swift Green</td>\n",
       "      <td>b</td>\n",
       "      <td>2,423.13</td>\n",
       "      <td>2,017.48</td>\n",
       "      <td>0.00</td>\n",
       "    </tr>\n",
       "    <tr>\n",
       "      <th>200</th>\n",
       "      <td>Community Transit</td>\n",
       "      <td>116 Edm-Silver Firs</td>\n",
       "      <td>b</td>\n",
       "      <td>2,155.43</td>\n",
       "      <td>1,072.31</td>\n",
       "      <td>0.00</td>\n",
       "    </tr>\n",
       "    <tr>\n",
       "      <th>199</th>\n",
       "      <td>Community Transit</td>\n",
       "      <td>115 McClm P&amp;R-AurVil</td>\n",
       "      <td>b</td>\n",
       "      <td>1,672.72</td>\n",
       "      <td>965.18</td>\n",
       "      <td>0.00</td>\n",
       "    </tr>\n",
       "    <tr>\n",
       "      <th>206</th>\n",
       "      <td>Community Transit</td>\n",
       "      <td>202 Smokey Pt-Lynnwd</td>\n",
       "      <td>b</td>\n",
       "      <td>1,482.18</td>\n",
       "      <td>1,138.86</td>\n",
       "      <td>0.00</td>\n",
       "    </tr>\n",
       "    <tr>\n",
       "      <th>205</th>\n",
       "      <td>Community Transit</td>\n",
       "      <td>201 Smokey Pt-Lynnwd</td>\n",
       "      <td>b</td>\n",
       "      <td>1,478.78</td>\n",
       "      <td>1,081.12</td>\n",
       "      <td>0.00</td>\n",
       "    </tr>\n",
       "    <tr>\n",
       "      <th>191</th>\n",
       "      <td>Community Transit</td>\n",
       "      <td>101 Mar P&amp;R-Aur Vill</td>\n",
       "      <td>b</td>\n",
       "      <td>1,305.44</td>\n",
       "      <td>810.47</td>\n",
       "      <td>0.00</td>\n",
       "    </tr>\n",
       "    <tr>\n",
       "      <th>203</th>\n",
       "      <td>Community Transit</td>\n",
       "      <td>130 Edmonds-Lynnwood</td>\n",
       "      <td>b</td>\n",
       "      <td>885.27</td>\n",
       "      <td>473.41</td>\n",
       "      <td>0.00</td>\n",
       "    </tr>\n",
       "    <tr>\n",
       "      <th>198</th>\n",
       "      <td>Community Transit</td>\n",
       "      <td>113 Mukilteo-Lynn TC</td>\n",
       "      <td>b</td>\n",
       "      <td>791.83</td>\n",
       "      <td>763.82</td>\n",
       "      <td>0.00</td>\n",
       "    </tr>\n",
       "    <tr>\n",
       "      <th>216</th>\n",
       "      <td>Community Transit</td>\n",
       "      <td>280 Gran Falls-Evrt</td>\n",
       "      <td>b</td>\n",
       "      <td>717.03</td>\n",
       "      <td>400.20</td>\n",
       "      <td>0.00</td>\n",
       "    </tr>\n",
       "  </tbody>\n",
       "</table>\n",
       "</div>"
      ],
      "text/plain": [
       "                agency           description mode    Model  \\\n",
       "230  Community Transit            Swift Blue    b 6,046.30   \n",
       "231  Community Transit           Swift Green    b 2,423.13   \n",
       "200  Community Transit   116 Edm-Silver Firs    b 2,155.43   \n",
       "199  Community Transit  115 McClm P&R-AurVil    b 1,672.72   \n",
       "206  Community Transit  202 Smokey Pt-Lynnwd    b 1,482.18   \n",
       "205  Community Transit  201 Smokey Pt-Lynnwd    b 1,478.78   \n",
       "191  Community Transit  101 Mar P&R-Aur Vill    b 1,305.44   \n",
       "203  Community Transit  130 Edmonds-Lynnwood    b   885.27   \n",
       "198  Community Transit  113 Mukilteo-Lynn TC    b   791.83   \n",
       "216  Community Transit   280 Gran Falls-Evrt    b   717.03   \n",
       "\n",
       "     2023 Spring Observed  2024 Spring Observed  \n",
       "230              5,403.45                  0.00  \n",
       "231              2,017.48                  0.00  \n",
       "200              1,072.31                  0.00  \n",
       "199                965.18                  0.00  \n",
       "206              1,138.86                  0.00  \n",
       "205              1,081.12                  0.00  \n",
       "191                810.47                  0.00  \n",
       "203                473.41                  0.00  \n",
       "198                763.82                  0.00  \n",
       "216                400.20                  0.00  "
      ]
     },
     "execution_count": 17,
     "metadata": {},
     "output_type": "execute_result"
    }
   ],
   "source": [
    "agency = 'Community Transit'\n",
    "df[df['agency'] == agency].sort_values('Model', ascending=False).head(10)[cols]"
   ]
  },
  {
   "cell_type": "raw",
   "id": "4e738512",
   "metadata": {},
   "source": [
    "#### Pierce Transit"
   ]
  },
  {
   "cell_type": "code",
   "execution_count": 18,
   "id": "5385aa93",
   "metadata": {},
   "outputs": [
    {
     "data": {
      "application/vnd.microsoft.datawrangler.viewer.v0+json": {
       "columns": [
        {
         "name": "index",
         "rawType": "int64",
         "type": "integer"
        },
        {
         "name": "agency",
         "rawType": "object",
         "type": "string"
        },
        {
         "name": "description",
         "rawType": "object",
         "type": "string"
        },
        {
         "name": "mode",
         "rawType": "object",
         "type": "string"
        },
        {
         "name": "Model",
         "rawType": "float64",
         "type": "float"
        },
        {
         "name": "2023 Spring Observed",
         "rawType": "float64",
         "type": "float"
        },
        {
         "name": "2024 Spring Observed",
         "rawType": "float64",
         "type": "float"
        }
       ],
       "conversionMethod": "pd.DataFrame",
       "ref": "fc241fba-758c-4892-96d9-a3ef0fd7ac3e",
       "rows": [
        [
         "160",
         "Pierce Transit",
         "1 6th Ave-Pac Ave",
         "b",
         "1913.4964027404785",
         "3035.0",
         "3633.0"
        ],
        [
         "161",
         "Pierce Transit",
         "2 S 19th-Bridgeport",
         "b",
         "1358.2464199066162",
         "1729.0",
         "1774.0"
        ],
        [
         "185",
         "Pierce Transit",
         "402 Meridian",
         "b",
         "1122.3622245788574",
         "626.0",
         "761.0"
        ],
        [
         "184",
         "Pierce Transit",
         "400 Puyllp-Tacoma",
         "b",
         "1038.3051071166992",
         "336.0",
         "362.0"
        ],
        [
         "162",
         "Pierce Transit",
         "3 Lakewood-Tacoma",
         "b",
         "995.3233642578125",
         "1250.0",
         "1525.0"
        ],
        [
         "189",
         "Pierce Transit",
         "500 Federal Way",
         "b",
         "877.5492248535156",
         "845.0",
         "827.0"
        ],
        [
         "163",
         "Pierce Transit",
         "4 Lakewd-South Hill",
         "b",
         "849.7224197387695",
         "968.0",
         "1023.0"
        ],
        [
         "190",
         "Pierce Transit",
         "501 Miltn-Fed Way",
         "b",
         "847.3220958709717",
         "431.0",
         "488.0"
        ],
        [
         "169",
         "Pierce Transit",
         "41 S 56th St-Salish",
         "b",
         "713.3721470832825",
         "1088.0",
         "1061.0"
        ],
        [
         "172",
         "Pierce Transit",
         "48 Sheridan-M St",
         "b",
         "662.8287463188171",
         "1065.0",
         "1134.0"
        ]
       ],
       "shape": {
        "columns": 6,
        "rows": 10
       }
      },
      "text/html": [
       "<div>\n",
       "<style scoped>\n",
       "    .dataframe tbody tr th:only-of-type {\n",
       "        vertical-align: middle;\n",
       "    }\n",
       "\n",
       "    .dataframe tbody tr th {\n",
       "        vertical-align: top;\n",
       "    }\n",
       "\n",
       "    .dataframe thead th {\n",
       "        text-align: right;\n",
       "    }\n",
       "</style>\n",
       "<table border=\"1\" class=\"dataframe\">\n",
       "  <thead>\n",
       "    <tr style=\"text-align: right;\">\n",
       "      <th></th>\n",
       "      <th>agency</th>\n",
       "      <th>description</th>\n",
       "      <th>mode</th>\n",
       "      <th>Model</th>\n",
       "      <th>2023 Spring Observed</th>\n",
       "      <th>2024 Spring Observed</th>\n",
       "    </tr>\n",
       "  </thead>\n",
       "  <tbody>\n",
       "    <tr>\n",
       "      <th>160</th>\n",
       "      <td>Pierce Transit</td>\n",
       "      <td>1 6th Ave-Pac Ave</td>\n",
       "      <td>b</td>\n",
       "      <td>1,913.50</td>\n",
       "      <td>3,035.00</td>\n",
       "      <td>3,633.00</td>\n",
       "    </tr>\n",
       "    <tr>\n",
       "      <th>161</th>\n",
       "      <td>Pierce Transit</td>\n",
       "      <td>2 S 19th-Bridgeport</td>\n",
       "      <td>b</td>\n",
       "      <td>1,358.25</td>\n",
       "      <td>1,729.00</td>\n",
       "      <td>1,774.00</td>\n",
       "    </tr>\n",
       "    <tr>\n",
       "      <th>185</th>\n",
       "      <td>Pierce Transit</td>\n",
       "      <td>402 Meridian</td>\n",
       "      <td>b</td>\n",
       "      <td>1,122.36</td>\n",
       "      <td>626.00</td>\n",
       "      <td>761.00</td>\n",
       "    </tr>\n",
       "    <tr>\n",
       "      <th>184</th>\n",
       "      <td>Pierce Transit</td>\n",
       "      <td>400 Puyllp-Tacoma</td>\n",
       "      <td>b</td>\n",
       "      <td>1,038.31</td>\n",
       "      <td>336.00</td>\n",
       "      <td>362.00</td>\n",
       "    </tr>\n",
       "    <tr>\n",
       "      <th>162</th>\n",
       "      <td>Pierce Transit</td>\n",
       "      <td>3 Lakewood-Tacoma</td>\n",
       "      <td>b</td>\n",
       "      <td>995.32</td>\n",
       "      <td>1,250.00</td>\n",
       "      <td>1,525.00</td>\n",
       "    </tr>\n",
       "    <tr>\n",
       "      <th>189</th>\n",
       "      <td>Pierce Transit</td>\n",
       "      <td>500 Federal Way</td>\n",
       "      <td>b</td>\n",
       "      <td>877.55</td>\n",
       "      <td>845.00</td>\n",
       "      <td>827.00</td>\n",
       "    </tr>\n",
       "    <tr>\n",
       "      <th>163</th>\n",
       "      <td>Pierce Transit</td>\n",
       "      <td>4 Lakewd-South Hill</td>\n",
       "      <td>b</td>\n",
       "      <td>849.72</td>\n",
       "      <td>968.00</td>\n",
       "      <td>1,023.00</td>\n",
       "    </tr>\n",
       "    <tr>\n",
       "      <th>190</th>\n",
       "      <td>Pierce Transit</td>\n",
       "      <td>501 Miltn-Fed Way</td>\n",
       "      <td>b</td>\n",
       "      <td>847.32</td>\n",
       "      <td>431.00</td>\n",
       "      <td>488.00</td>\n",
       "    </tr>\n",
       "    <tr>\n",
       "      <th>169</th>\n",
       "      <td>Pierce Transit</td>\n",
       "      <td>41 S 56th St-Salish</td>\n",
       "      <td>b</td>\n",
       "      <td>713.37</td>\n",
       "      <td>1,088.00</td>\n",
       "      <td>1,061.00</td>\n",
       "    </tr>\n",
       "    <tr>\n",
       "      <th>172</th>\n",
       "      <td>Pierce Transit</td>\n",
       "      <td>48 Sheridan-M St</td>\n",
       "      <td>b</td>\n",
       "      <td>662.83</td>\n",
       "      <td>1,065.00</td>\n",
       "      <td>1,134.00</td>\n",
       "    </tr>\n",
       "  </tbody>\n",
       "</table>\n",
       "</div>"
      ],
      "text/plain": [
       "             agency          description mode    Model  2023 Spring Observed  \\\n",
       "160  Pierce Transit    1 6th Ave-Pac Ave    b 1,913.50              3,035.00   \n",
       "161  Pierce Transit  2 S 19th-Bridgeport    b 1,358.25              1,729.00   \n",
       "185  Pierce Transit         402 Meridian    b 1,122.36                626.00   \n",
       "184  Pierce Transit    400 Puyllp-Tacoma    b 1,038.31                336.00   \n",
       "162  Pierce Transit    3 Lakewood-Tacoma    b   995.32              1,250.00   \n",
       "189  Pierce Transit      500 Federal Way    b   877.55                845.00   \n",
       "163  Pierce Transit  4 Lakewd-South Hill    b   849.72                968.00   \n",
       "190  Pierce Transit    501 Miltn-Fed Way    b   847.32                431.00   \n",
       "169  Pierce Transit  41 S 56th St-Salish    b   713.37              1,088.00   \n",
       "172  Pierce Transit     48 Sheridan-M St    b   662.83              1,065.00   \n",
       "\n",
       "     2024 Spring Observed  \n",
       "160              3,633.00  \n",
       "161              1,774.00  \n",
       "185                761.00  \n",
       "184                362.00  \n",
       "162              1,525.00  \n",
       "189                827.00  \n",
       "163              1,023.00  \n",
       "190                488.00  \n",
       "169              1,061.00  \n",
       "172              1,134.00  "
      ]
     },
     "execution_count": 18,
     "metadata": {},
     "output_type": "execute_result"
    }
   ],
   "source": [
    "agency = 'Pierce Transit'\n",
    "df[df['agency'] == agency].sort_values('Model', ascending=False).head(10)[cols]"
   ]
  },
  {
   "cell_type": "raw",
   "id": "61e52696",
   "metadata": {},
   "source": [
    "#### Kitsap Transit"
   ]
  },
  {
   "cell_type": "code",
   "execution_count": 19,
   "id": "9c35bb78",
   "metadata": {},
   "outputs": [
    {
     "data": {
      "application/vnd.microsoft.datawrangler.viewer.v0+json": {
       "columns": [
        {
         "name": "index",
         "rawType": "int64",
         "type": "integer"
        },
        {
         "name": "agency",
         "rawType": "object",
         "type": "string"
        },
        {
         "name": "description",
         "rawType": "object",
         "type": "string"
        },
        {
         "name": "mode",
         "rawType": "object",
         "type": "string"
        },
        {
         "name": "Model",
         "rawType": "float64",
         "type": "float"
        },
        {
         "name": "2023 Spring Observed",
         "rawType": "float64",
         "type": "float"
        },
        {
         "name": "2024 Spring Observed",
         "rawType": "float64",
         "type": "float"
        }
       ],
       "conversionMethod": "pd.DataFrame",
       "ref": "de6af547-7370-4c9c-8f9a-42d67a88d950",
       "rows": [
        [
         "270",
         "Kitsap Transit",
         "Seattle-Bremerton FF",
         "f",
         "3165.0512714385986",
         "1913.0",
         "2068.0"
        ],
        [
         "271",
         "Kitsap Transit",
         "Brem-Pt Orchard FF",
         "p",
         "1536.0051956176758",
         "768.0",
         "857.0"
        ],
        [
         "244",
         "Kitsap Transit",
         "217 Brem-Silverdle E",
         "b",
         "807.4538655281067",
         "417.0",
         "0.0"
        ],
        [
         "274",
         "Kitsap Transit",
         "Seattle-Southwrth FF",
         "f",
         "666.4632253050804",
         "631.0",
         "749.0"
        ],
        [
         "242",
         "Kitsap Transit",
         "212 Brem-Silverdle W",
         "b",
         "640.997540473938",
         "679.0",
         "0.0"
        ],
        [
         "259",
         "Kitsap Transit",
         "86 Southwrth Shuttle",
         "b",
         "566.8728647232056",
         "91.0",
         "0.0"
        ],
        [
         "260",
         "Kitsap Transit",
         "390 Poulsbo-Bainbrdg",
         "b",
         "383.6896095275879",
         "170.0",
         "0.0"
        ],
        [
         "272",
         "Kitsap Transit",
         "Brem-Annapolis FF",
         "p",
         "339.6336917877197",
         "469.0",
         "568.0"
        ],
        [
         "243",
         "Kitsap Transit",
         "215 McWilliams",
         "b",
         "266.44013142585754",
         "115.0",
         "0.0"
        ],
        [
         "240",
         "Kitsap Transit",
         "8 Bethel",
         "b",
         "251.1721425652504",
         "152.0",
         "0.0"
        ]
       ],
       "shape": {
        "columns": 6,
        "rows": 10
       }
      },
      "text/html": [
       "<div>\n",
       "<style scoped>\n",
       "    .dataframe tbody tr th:only-of-type {\n",
       "        vertical-align: middle;\n",
       "    }\n",
       "\n",
       "    .dataframe tbody tr th {\n",
       "        vertical-align: top;\n",
       "    }\n",
       "\n",
       "    .dataframe thead th {\n",
       "        text-align: right;\n",
       "    }\n",
       "</style>\n",
       "<table border=\"1\" class=\"dataframe\">\n",
       "  <thead>\n",
       "    <tr style=\"text-align: right;\">\n",
       "      <th></th>\n",
       "      <th>agency</th>\n",
       "      <th>description</th>\n",
       "      <th>mode</th>\n",
       "      <th>Model</th>\n",
       "      <th>2023 Spring Observed</th>\n",
       "      <th>2024 Spring Observed</th>\n",
       "    </tr>\n",
       "  </thead>\n",
       "  <tbody>\n",
       "    <tr>\n",
       "      <th>270</th>\n",
       "      <td>Kitsap Transit</td>\n",
       "      <td>Seattle-Bremerton FF</td>\n",
       "      <td>f</td>\n",
       "      <td>3,165.05</td>\n",
       "      <td>1,913.00</td>\n",
       "      <td>2,068.00</td>\n",
       "    </tr>\n",
       "    <tr>\n",
       "      <th>271</th>\n",
       "      <td>Kitsap Transit</td>\n",
       "      <td>Brem-Pt Orchard FF</td>\n",
       "      <td>p</td>\n",
       "      <td>1,536.01</td>\n",
       "      <td>768.00</td>\n",
       "      <td>857.00</td>\n",
       "    </tr>\n",
       "    <tr>\n",
       "      <th>244</th>\n",
       "      <td>Kitsap Transit</td>\n",
       "      <td>217 Brem-Silverdle E</td>\n",
       "      <td>b</td>\n",
       "      <td>807.45</td>\n",
       "      <td>417.00</td>\n",
       "      <td>0.00</td>\n",
       "    </tr>\n",
       "    <tr>\n",
       "      <th>274</th>\n",
       "      <td>Kitsap Transit</td>\n",
       "      <td>Seattle-Southwrth FF</td>\n",
       "      <td>f</td>\n",
       "      <td>666.46</td>\n",
       "      <td>631.00</td>\n",
       "      <td>749.00</td>\n",
       "    </tr>\n",
       "    <tr>\n",
       "      <th>242</th>\n",
       "      <td>Kitsap Transit</td>\n",
       "      <td>212 Brem-Silverdle W</td>\n",
       "      <td>b</td>\n",
       "      <td>641.00</td>\n",
       "      <td>679.00</td>\n",
       "      <td>0.00</td>\n",
       "    </tr>\n",
       "    <tr>\n",
       "      <th>259</th>\n",
       "      <td>Kitsap Transit</td>\n",
       "      <td>86 Southwrth Shuttle</td>\n",
       "      <td>b</td>\n",
       "      <td>566.87</td>\n",
       "      <td>91.00</td>\n",
       "      <td>0.00</td>\n",
       "    </tr>\n",
       "    <tr>\n",
       "      <th>260</th>\n",
       "      <td>Kitsap Transit</td>\n",
       "      <td>390 Poulsbo-Bainbrdg</td>\n",
       "      <td>b</td>\n",
       "      <td>383.69</td>\n",
       "      <td>170.00</td>\n",
       "      <td>0.00</td>\n",
       "    </tr>\n",
       "    <tr>\n",
       "      <th>272</th>\n",
       "      <td>Kitsap Transit</td>\n",
       "      <td>Brem-Annapolis FF</td>\n",
       "      <td>p</td>\n",
       "      <td>339.63</td>\n",
       "      <td>469.00</td>\n",
       "      <td>568.00</td>\n",
       "    </tr>\n",
       "    <tr>\n",
       "      <th>243</th>\n",
       "      <td>Kitsap Transit</td>\n",
       "      <td>215 McWilliams</td>\n",
       "      <td>b</td>\n",
       "      <td>266.44</td>\n",
       "      <td>115.00</td>\n",
       "      <td>0.00</td>\n",
       "    </tr>\n",
       "    <tr>\n",
       "      <th>240</th>\n",
       "      <td>Kitsap Transit</td>\n",
       "      <td>8 Bethel</td>\n",
       "      <td>b</td>\n",
       "      <td>251.17</td>\n",
       "      <td>152.00</td>\n",
       "      <td>0.00</td>\n",
       "    </tr>\n",
       "  </tbody>\n",
       "</table>\n",
       "</div>"
      ],
      "text/plain": [
       "             agency           description mode    Model  2023 Spring Observed  \\\n",
       "270  Kitsap Transit  Seattle-Bremerton FF    f 3,165.05              1,913.00   \n",
       "271  Kitsap Transit    Brem-Pt Orchard FF    p 1,536.01                768.00   \n",
       "244  Kitsap Transit  217 Brem-Silverdle E    b   807.45                417.00   \n",
       "274  Kitsap Transit  Seattle-Southwrth FF    f   666.46                631.00   \n",
       "242  Kitsap Transit  212 Brem-Silverdle W    b   641.00                679.00   \n",
       "259  Kitsap Transit  86 Southwrth Shuttle    b   566.87                 91.00   \n",
       "260  Kitsap Transit  390 Poulsbo-Bainbrdg    b   383.69                170.00   \n",
       "272  Kitsap Transit     Brem-Annapolis FF    p   339.63                469.00   \n",
       "243  Kitsap Transit        215 McWilliams    b   266.44                115.00   \n",
       "240  Kitsap Transit              8 Bethel    b   251.17                152.00   \n",
       "\n",
       "     2024 Spring Observed  \n",
       "270              2,068.00  \n",
       "271                857.00  \n",
       "244                  0.00  \n",
       "274                749.00  \n",
       "242                  0.00  \n",
       "259                  0.00  \n",
       "260                  0.00  \n",
       "272                568.00  \n",
       "243                  0.00  \n",
       "240                  0.00  "
      ]
     },
     "execution_count": 19,
     "metadata": {},
     "output_type": "execute_result"
    }
   ],
   "source": [
    "agency = 'Kitsap Transit'\n",
    "df[df['agency'] == agency].sort_values('Model', ascending=False).head(10)[cols]"
   ]
  },
  {
   "cell_type": "raw",
   "id": "674756a8",
   "metadata": {},
   "source": [
    "#### Everett Transit"
   ]
  },
  {
   "cell_type": "code",
   "execution_count": 20,
   "id": "26ea3064",
   "metadata": {},
   "outputs": [
    {
     "data": {
      "application/vnd.microsoft.datawrangler.viewer.v0+json": {
       "columns": [
        {
         "name": "index",
         "rawType": "int64",
         "type": "integer"
        },
        {
         "name": "agency",
         "rawType": "object",
         "type": "string"
        },
        {
         "name": "description",
         "rawType": "object",
         "type": "string"
        },
        {
         "name": "mode",
         "rawType": "object",
         "type": "string"
        },
        {
         "name": "Model",
         "rawType": "float64",
         "type": "float"
        },
        {
         "name": "2023 Spring Observed",
         "rawType": "float64",
         "type": "float"
        },
        {
         "name": "2024 Spring Observed",
         "rawType": "float64",
         "type": "float"
        }
       ],
       "conversionMethod": "pd.DataFrame",
       "ref": "5b7137fc-5c06-4ff8-99c4-ba03259a0e28",
       "rows": [
        [
         "316",
         "Everett Transit",
         "7 Coll Stn-Mall Stn",
         "b",
         "2504.43816280365",
         "2239.0",
         "2958.0"
        ],
        [
         "320",
         "Everett Transit",
         "29 Coll Stn-Mall Stn",
         "b",
         "1233.0626473426819",
         "881.0",
         "1185.0"
        ],
        [
         "313",
         "Everett Transit",
         "3 Seaway TC-Evt Stn",
         "b",
         "324.57395243644714",
         "285.0",
         "381.0"
        ],
        [
         "317",
         "Everett Transit",
         "8 Airport Rd-Evt Stn",
         "b",
         "115.69322741031647",
         "156.0",
         "201.0"
        ],
        [
         "315",
         "Everett Transit",
         "6 Waterfront-Evt Stn",
         "b",
         "85.99718192592263",
         "62.0",
         "91.0"
        ],
        [
         "312",
         "Everett Transit",
         "2 Marnr P&R-Mall Stn",
         "b",
         "82.74226254224777",
         "148.0",
         "255.0"
        ],
        [
         "314",
         "Everett Transit",
         "4 Evt Stn-Collge Stn",
         "b",
         "70.76781821250916",
         "114.0",
         "198.0"
        ],
        [
         "318",
         "Everett Transit",
         "12 Mall Stn-Seawy TC",
         "b",
         "67.1941622197628",
         "256.0",
         "457.0"
        ],
        [
         "319",
         "Everett Transit",
         "18 Mukilteo-Evt Stn",
         "b",
         "63.27889168262482",
         "60.0",
         "136.0"
        ]
       ],
       "shape": {
        "columns": 6,
        "rows": 9
       }
      },
      "text/html": [
       "<div>\n",
       "<style scoped>\n",
       "    .dataframe tbody tr th:only-of-type {\n",
       "        vertical-align: middle;\n",
       "    }\n",
       "\n",
       "    .dataframe tbody tr th {\n",
       "        vertical-align: top;\n",
       "    }\n",
       "\n",
       "    .dataframe thead th {\n",
       "        text-align: right;\n",
       "    }\n",
       "</style>\n",
       "<table border=\"1\" class=\"dataframe\">\n",
       "  <thead>\n",
       "    <tr style=\"text-align: right;\">\n",
       "      <th></th>\n",
       "      <th>agency</th>\n",
       "      <th>description</th>\n",
       "      <th>mode</th>\n",
       "      <th>Model</th>\n",
       "      <th>2023 Spring Observed</th>\n",
       "      <th>2024 Spring Observed</th>\n",
       "    </tr>\n",
       "  </thead>\n",
       "  <tbody>\n",
       "    <tr>\n",
       "      <th>316</th>\n",
       "      <td>Everett Transit</td>\n",
       "      <td>7 Coll Stn-Mall Stn</td>\n",
       "      <td>b</td>\n",
       "      <td>2,504.44</td>\n",
       "      <td>2,239.00</td>\n",
       "      <td>2,958.00</td>\n",
       "    </tr>\n",
       "    <tr>\n",
       "      <th>320</th>\n",
       "      <td>Everett Transit</td>\n",
       "      <td>29 Coll Stn-Mall Stn</td>\n",
       "      <td>b</td>\n",
       "      <td>1,233.06</td>\n",
       "      <td>881.00</td>\n",
       "      <td>1,185.00</td>\n",
       "    </tr>\n",
       "    <tr>\n",
       "      <th>313</th>\n",
       "      <td>Everett Transit</td>\n",
       "      <td>3 Seaway TC-Evt Stn</td>\n",
       "      <td>b</td>\n",
       "      <td>324.57</td>\n",
       "      <td>285.00</td>\n",
       "      <td>381.00</td>\n",
       "    </tr>\n",
       "    <tr>\n",
       "      <th>317</th>\n",
       "      <td>Everett Transit</td>\n",
       "      <td>8 Airport Rd-Evt Stn</td>\n",
       "      <td>b</td>\n",
       "      <td>115.69</td>\n",
       "      <td>156.00</td>\n",
       "      <td>201.00</td>\n",
       "    </tr>\n",
       "    <tr>\n",
       "      <th>315</th>\n",
       "      <td>Everett Transit</td>\n",
       "      <td>6 Waterfront-Evt Stn</td>\n",
       "      <td>b</td>\n",
       "      <td>86.00</td>\n",
       "      <td>62.00</td>\n",
       "      <td>91.00</td>\n",
       "    </tr>\n",
       "    <tr>\n",
       "      <th>312</th>\n",
       "      <td>Everett Transit</td>\n",
       "      <td>2 Marnr P&amp;R-Mall Stn</td>\n",
       "      <td>b</td>\n",
       "      <td>82.74</td>\n",
       "      <td>148.00</td>\n",
       "      <td>255.00</td>\n",
       "    </tr>\n",
       "    <tr>\n",
       "      <th>314</th>\n",
       "      <td>Everett Transit</td>\n",
       "      <td>4 Evt Stn-Collge Stn</td>\n",
       "      <td>b</td>\n",
       "      <td>70.77</td>\n",
       "      <td>114.00</td>\n",
       "      <td>198.00</td>\n",
       "    </tr>\n",
       "    <tr>\n",
       "      <th>318</th>\n",
       "      <td>Everett Transit</td>\n",
       "      <td>12 Mall Stn-Seawy TC</td>\n",
       "      <td>b</td>\n",
       "      <td>67.19</td>\n",
       "      <td>256.00</td>\n",
       "      <td>457.00</td>\n",
       "    </tr>\n",
       "    <tr>\n",
       "      <th>319</th>\n",
       "      <td>Everett Transit</td>\n",
       "      <td>18 Mukilteo-Evt Stn</td>\n",
       "      <td>b</td>\n",
       "      <td>63.28</td>\n",
       "      <td>60.00</td>\n",
       "      <td>136.00</td>\n",
       "    </tr>\n",
       "  </tbody>\n",
       "</table>\n",
       "</div>"
      ],
      "text/plain": [
       "              agency           description mode    Model  \\\n",
       "316  Everett Transit   7 Coll Stn-Mall Stn    b 2,504.44   \n",
       "320  Everett Transit  29 Coll Stn-Mall Stn    b 1,233.06   \n",
       "313  Everett Transit   3 Seaway TC-Evt Stn    b   324.57   \n",
       "317  Everett Transit  8 Airport Rd-Evt Stn    b   115.69   \n",
       "315  Everett Transit  6 Waterfront-Evt Stn    b    86.00   \n",
       "312  Everett Transit  2 Marnr P&R-Mall Stn    b    82.74   \n",
       "314  Everett Transit  4 Evt Stn-Collge Stn    b    70.77   \n",
       "318  Everett Transit  12 Mall Stn-Seawy TC    b    67.19   \n",
       "319  Everett Transit   18 Mukilteo-Evt Stn    b    63.28   \n",
       "\n",
       "     2023 Spring Observed  2024 Spring Observed  \n",
       "316              2,239.00              2,958.00  \n",
       "320                881.00              1,185.00  \n",
       "313                285.00                381.00  \n",
       "317                156.00                201.00  \n",
       "315                 62.00                 91.00  \n",
       "312                148.00                255.00  \n",
       "314                114.00                198.00  \n",
       "318                256.00                457.00  \n",
       "319                 60.00                136.00  "
      ]
     },
     "execution_count": 20,
     "metadata": {},
     "output_type": "execute_result"
    }
   ],
   "source": [
    "agency = 'Everett Transit'\n",
    "df[df['agency'] == agency].sort_values('Model', ascending=False).head(10)[cols]"
   ]
  },
  {
   "cell_type": "raw",
   "id": "65fb23f5",
   "metadata": {},
   "source": [
    ":::"
   ]
  },
  {
   "cell_type": "markdown",
   "id": "7d3ea810",
   "metadata": {
    "vscode": {
     "languageId": "raw"
    }
   },
   "source": [
    "### boarding by time of day"
   ]
  },
  {
   "cell_type": "code",
   "execution_count": 21,
   "id": "efcc5c51",
   "metadata": {},
   "outputs": [
    {
     "data": {
      "text/html": [
       "        <script type=\"text/javascript\">\n",
       "        window.PlotlyConfig = {MathJaxConfig: 'local'};\n",
       "        if (window.MathJax && window.MathJax.Hub && window.MathJax.Hub.Config) {window.MathJax.Hub.Config({SVG: {font: \"STIX-Web\"}});}\n",
       "        if (typeof require !== 'undefined') {\n",
       "        require.undef(\"plotly\");\n",
       "        requirejs.config({\n",
       "            paths: {\n",
       "                'plotly': ['https://cdn.plot.ly/plotly-2.35.2.min']\n",
       "            }\n",
       "        });\n",
       "        require(['plotly'], function(Plotly) {\n",
       "            window._Plotly = Plotly;\n",
       "        });\n",
       "        }\n",
       "        </script>\n",
       "        "
      ]
     },
     "metadata": {},
     "output_type": "display_data"
    },
    {
     "data": {
      "application/vnd.plotly.v1+json": {
       "config": {
        "plotlyServerURL": "https://plot.ly"
       },
       "data": [
        {
         "mode": "lines",
         "name": "101 Mar P&R-Aur Vill",
         "type": "scatter",
         "visible": true,
         "x": [
          "10to14",
          "14to15",
          "15to16",
          "16to17",
          "17to18",
          "18to20",
          "20to5",
          "5to6",
          "6to7",
          "7to8",
          "8to9",
          "9to10",
          "10to11",
          "11to12",
          "12to13",
          "13to14",
          "18to19",
          "19to20",
          "20to21",
          "21to22",
          "22to23",
          "23to0",
          "0to1",
          "1to2",
          "2to3",
          "3to4",
          "4to5"
         ],
         "y": [
          380.6371612548828,
          82.77841567993164,
          81.73174285888672,
          96.89604187011719,
          88.69813537597656,
          211.5813980102539,
          61.57290077209473,
          11.580734252929688,
          37.33290481567383,
          77.38714599609375,
          89.54471969604492,
          85.70133972167969,
          95.1592903137207,
          95.1592903137207,
          95.1592903137207,
          95.1592903137207,
          105.79069900512695,
          105.79069900512695,
          6.841433419121636,
          6.841433419121636,
          6.841433419121636,
          6.841433419121636,
          6.841433419121636,
          6.841433419121636,
          6.841433419121636,
          6.841433419121636,
          6.841433419121636
         ]
        },
        {
         "mode": "lines",
         "name": "105 Mariner P&R-Both",
         "type": "scatter",
         "visible": false,
         "x": [
          "10to14",
          "14to15",
          "15to16",
          "16to17",
          "17to18",
          "18to20",
          "20to5",
          "5to6",
          "6to7",
          "7to8",
          "8to9",
          "9to10",
          "10to11",
          "11to12",
          "12to13",
          "13to14",
          "18to19",
          "19to20",
          "20to21",
          "21to22",
          "22to23",
          "23to0",
          "0to1",
          "1to2",
          "2to3",
          "3to4",
          "4to5"
         ],
         "y": [
          141.42364120483398,
          35.00080680847168,
          49.82899856567383,
          36.62303066253662,
          31.820701599121094,
          36.16195201873779,
          19.67258930206299,
          14.674348354339598,
          20.892648696899414,
          34.542021751403816,
          24.97626495361328,
          15.998100757598877,
          35.355910301208496,
          35.355910301208496,
          35.355910301208496,
          35.355910301208496,
          18.080976009368896,
          18.080976009368896,
          2.1858432557847767,
          2.1858432557847767,
          2.1858432557847767,
          2.1858432557847767,
          2.1858432557847767,
          2.1858432557847767,
          2.1858432557847767,
          2.1858432557847767,
          2.1858432557847767
         ]
        },
        {
         "mode": "lines",
         "name": "106 Mariner P&R-Both",
         "type": "scatter",
         "visible": false,
         "x": [
          "16to17",
          "17to18",
          "18to20",
          "5to6",
          "6to7",
          "7to8",
          "18to19",
          "19to20"
         ],
         "y": [
          39.23398399353027,
          42.509605407714844,
          12.488652229309082,
          19.205220222473145,
          30.85206699371338,
          23.00113296508789,
          6.244326114654541,
          6.244326114654541
         ]
        },
        {
         "mode": "lines",
         "name": "109 Ash Wy P&R-LkStv",
         "type": "scatter",
         "visible": false,
         "x": [
          "10to14",
          "14to15",
          "15to16",
          "16to17",
          "17to18",
          "18to20",
          "20to5",
          "5to6",
          "6to7",
          "7to8",
          "8to9",
          "9to10",
          "10to11",
          "11to12",
          "12to13",
          "13to14",
          "18to19",
          "19to20",
          "20to21",
          "21to22",
          "22to23",
          "23to0",
          "0to1",
          "1to2",
          "2to3",
          "3to4",
          "4to5"
         ],
         "y": [
          164.5956802368164,
          35.72040557861328,
          59.07584190368652,
          26.1993350982666,
          68.22089004516602,
          98.10892868041992,
          60.17918014526367,
          23.07618808746338,
          30.628029823303223,
          36.33172798156738,
          29.653194427490234,
          43.80564498901367,
          41.1489200592041,
          41.1489200592041,
          41.1489200592041,
          41.1489200592041,
          49.05446434020996,
          49.05446434020996,
          6.686575571695964,
          6.686575571695964,
          6.686575571695964,
          6.686575571695964,
          6.686575571695964,
          6.686575571695964,
          6.686575571695964,
          6.686575571695964,
          6.686575571695964
         ]
        },
        {
         "mode": "lines",
         "name": "112 MLT TC-Ash P&R",
         "type": "scatter",
         "visible": false,
         "x": [
          "10to14",
          "14to15",
          "15to16",
          "16to17",
          "17to18",
          "18to20",
          "20to5",
          "5to6",
          "6to7",
          "7to8",
          "8to9",
          "9to10",
          "10to11",
          "11to12",
          "12to13",
          "13to14",
          "18to19",
          "19to20",
          "20to21",
          "21to22",
          "22to23",
          "23to0",
          "0to1",
          "1to2",
          "2to3",
          "3to4",
          "4to5"
         ],
         "y": [
          77.08052825927734,
          17.125760555267334,
          16.929771423339844,
          14.882289409637451,
          20.196181297302246,
          38.91709899902344,
          5.092759966850281,
          7.985580921173096,
          14.29961109161377,
          15.05858564376831,
          14.826786518096924,
          21.09982395172119,
          19.270132064819336,
          19.270132064819336,
          19.270132064819336,
          19.270132064819336,
          19.45854949951172,
          19.45854949951172,
          0.56586221853892,
          0.56586221853892,
          0.56586221853892,
          0.56586221853892,
          0.56586221853892,
          0.56586221853892,
          0.56586221853892,
          0.56586221853892,
          0.56586221853892
         ]
        },
        {
         "mode": "lines",
         "name": "113 Mukilteo-Lynn TC",
         "type": "scatter",
         "visible": false,
         "x": [
          "10to14",
          "14to15",
          "15to16",
          "16to17",
          "17to18",
          "18to20",
          "20to5",
          "5to6",
          "6to7",
          "7to8",
          "8to9",
          "9to10",
          "10to11",
          "11to12",
          "12to13",
          "13to14",
          "18to19",
          "19to20",
          "20to21",
          "21to22",
          "22to23",
          "23to0",
          "0to1",
          "1to2",
          "2to3",
          "3to4",
          "4to5"
         ],
         "y": [
          204.35299682617188,
          89.13846969604492,
          47.63248825073242,
          72.48334121704102,
          71.49723434448242,
          100.2899055480957,
          34.91678237915039,
          15.930665731430052,
          16.350214958190918,
          40.84717655181885,
          49.05070686340332,
          49.34067344665527,
          51.08824920654297,
          51.08824920654297,
          51.08824920654297,
          51.08824920654297,
          50.14495277404785,
          50.14495277404785,
          3.8796424865722656,
          3.8796424865722656,
          3.8796424865722656,
          3.8796424865722656,
          3.8796424865722656,
          3.8796424865722656,
          3.8796424865722656,
          3.8796424865722656,
          3.8796424865722656
         ]
        },
        {
         "mode": "lines",
         "name": "115 McClm P&R-AurVil",
         "type": "scatter",
         "visible": false,
         "x": [
          "10to14",
          "14to15",
          "15to16",
          "16to17",
          "17to18",
          "18to20",
          "20to5",
          "5to6",
          "6to7",
          "7to8",
          "8to9",
          "9to10",
          "10to11",
          "11to12",
          "12to13",
          "13to14",
          "18to19",
          "19to20",
          "20to21",
          "21to22",
          "22to23",
          "23to0",
          "0to1",
          "1to2",
          "2to3",
          "3to4",
          "4to5"
         ],
         "y": [
          491.35595703124994,
          104.68344116210938,
          203.00979614257812,
          71.77378463745117,
          119.31935119628906,
          196.47119903564453,
          39.86380958557129,
          19.616732597351074,
          72.56814956665039,
          106.82707214355469,
          110.45092010498047,
          136.78085708618164,
          122.83898925781249,
          122.83898925781249,
          122.83898925781249,
          122.83898925781249,
          98.23559951782227,
          98.23559951782227,
          4.429312176174587,
          4.429312176174587,
          4.429312176174587,
          4.429312176174587,
          4.429312176174587,
          4.429312176174587,
          4.429312176174587,
          4.429312176174587,
          4.429312176174587
         ]
        },
        {
         "mode": "lines",
         "name": "116 Edm-Silver Firs",
         "type": "scatter",
         "visible": false,
         "x": [
          "10to14",
          "14to15",
          "15to16",
          "16to17",
          "17to18",
          "18to20",
          "20to5",
          "5to6",
          "6to7",
          "7to8",
          "8to9",
          "9to10",
          "10to11",
          "11to12",
          "12to13",
          "13to14",
          "18to19",
          "19to20",
          "20to21",
          "21to22",
          "22to23",
          "23to0",
          "0to1",
          "1to2",
          "2to3",
          "3to4",
          "4to5"
         ],
         "y": [
          672.1163330078125,
          187.11190032958984,
          134.87932586669922,
          197.11103057861328,
          83.45478820800781,
          214.52094268798828,
          72.70216178894043,
          59.955984115600586,
          120.41880416870117,
          83.28633499145508,
          219.64435577392578,
          110.22371673583984,
          168.02908325195312,
          168.02908325195312,
          168.02908325195312,
          168.02908325195312,
          107.26047134399414,
          107.26047134399414,
          8.078017976548937,
          8.078017976548937,
          8.078017976548937,
          8.078017976548937,
          8.078017976548937,
          8.078017976548937,
          8.078017976548937,
          8.078017976548937,
          8.078017976548937
         ]
        },
        {
         "mode": "lines",
         "name": "119 Ash P&R-MLT TC",
         "type": "scatter",
         "visible": false,
         "x": [
          "10to14",
          "14to15",
          "15to16",
          "16to17",
          "17to18",
          "18to20",
          "20to5",
          "5to6",
          "6to7",
          "7to8",
          "8to9",
          "9to10",
          "10to11",
          "11to12",
          "12to13",
          "13to14",
          "18to19",
          "19to20",
          "20to21",
          "21to22",
          "22to23",
          "23to0",
          "0to1",
          "1to2",
          "2to3",
          "3to4",
          "4to5"
         ],
         "y": [
          56.10455322265625,
          12.127092838287354,
          11.82816219329834,
          17.90920877456665,
          8.015921354293823,
          20.948744773864746,
          4.179933547973633,
          2.361647605895996,
          7.605316162109375,
          15.739745140075684,
          18.44482421875,
          18.94728708267212,
          14.026138305664062,
          14.026138305664062,
          14.026138305664062,
          14.026138305664062,
          10.474372386932373,
          10.474372386932373,
          0.4644370608859592,
          0.4644370608859592,
          0.4644370608859592,
          0.4644370608859592,
          0.4644370608859592,
          0.4644370608859592,
          0.4644370608859592,
          0.4644370608859592,
          0.4644370608859592
         ]
        },
        {
         "mode": "lines",
         "name": "120 Canyon Pk-Lyn TC",
         "type": "scatter",
         "visible": false,
         "x": [
          "10to14",
          "14to15",
          "15to16",
          "16to17",
          "17to18",
          "18to20",
          "20to5",
          "5to6",
          "6to7",
          "7to8",
          "8to9",
          "9to10",
          "10to11",
          "11to12",
          "12to13",
          "13to14",
          "18to19",
          "19to20",
          "20to21",
          "21to22",
          "22to23",
          "23to0",
          "0to1",
          "1to2",
          "2to3",
          "3to4",
          "4to5"
         ],
         "y": [
          176.29283142089844,
          46.89645957946777,
          48.21253967285156,
          43.30505561828613,
          34.59341526031494,
          90.78177261352539,
          16.124112367630005,
          26.541898727416992,
          37.0246696472168,
          50.64880180358887,
          46.65221977233886,
          29.366267204284668,
          44.07320785522461,
          44.07320785522461,
          44.07320785522461,
          44.07320785522461,
          45.390886306762695,
          45.390886306762695,
          1.7915680408477783,
          1.7915680408477783,
          1.7915680408477783,
          1.7915680408477783,
          1.7915680408477783,
          1.7915680408477783,
          1.7915680408477783,
          1.7915680408477783,
          1.7915680408477783
         ]
        }
       ],
       "layout": {
        "font": {
         "size": 11
        },
        "height": 500,
        "template": {
         "data": {
          "bar": [
           {
            "error_x": {
             "color": "rgb(36,36,36)"
            },
            "error_y": {
             "color": "rgb(36,36,36)"
            },
            "marker": {
             "line": {
              "color": "white",
              "width": 0.5
             },
             "pattern": {
              "fillmode": "overlay",
              "size": 10,
              "solidity": 0.2
             }
            },
            "type": "bar"
           }
          ],
          "barpolar": [
           {
            "marker": {
             "line": {
              "color": "white",
              "width": 0.5
             },
             "pattern": {
              "fillmode": "overlay",
              "size": 10,
              "solidity": 0.2
             }
            },
            "type": "barpolar"
           }
          ],
          "carpet": [
           {
            "aaxis": {
             "endlinecolor": "rgb(36,36,36)",
             "gridcolor": "white",
             "linecolor": "white",
             "minorgridcolor": "white",
             "startlinecolor": "rgb(36,36,36)"
            },
            "baxis": {
             "endlinecolor": "rgb(36,36,36)",
             "gridcolor": "white",
             "linecolor": "white",
             "minorgridcolor": "white",
             "startlinecolor": "rgb(36,36,36)"
            },
            "type": "carpet"
           }
          ],
          "choropleth": [
           {
            "colorbar": {
             "outlinewidth": 1,
             "tickcolor": "rgb(36,36,36)",
             "ticks": "outside"
            },
            "type": "choropleth"
           }
          ],
          "contour": [
           {
            "colorbar": {
             "outlinewidth": 1,
             "tickcolor": "rgb(36,36,36)",
             "ticks": "outside"
            },
            "colorscale": [
             [
              0,
              "#440154"
             ],
             [
              0.1111111111111111,
              "#482878"
             ],
             [
              0.2222222222222222,
              "#3e4989"
             ],
             [
              0.3333333333333333,
              "#31688e"
             ],
             [
              0.4444444444444444,
              "#26828e"
             ],
             [
              0.5555555555555556,
              "#1f9e89"
             ],
             [
              0.6666666666666666,
              "#35b779"
             ],
             [
              0.7777777777777778,
              "#6ece58"
             ],
             [
              0.8888888888888888,
              "#b5de2b"
             ],
             [
              1,
              "#fde725"
             ]
            ],
            "type": "contour"
           }
          ],
          "contourcarpet": [
           {
            "colorbar": {
             "outlinewidth": 1,
             "tickcolor": "rgb(36,36,36)",
             "ticks": "outside"
            },
            "type": "contourcarpet"
           }
          ],
          "heatmap": [
           {
            "colorbar": {
             "outlinewidth": 1,
             "tickcolor": "rgb(36,36,36)",
             "ticks": "outside"
            },
            "colorscale": [
             [
              0,
              "#440154"
             ],
             [
              0.1111111111111111,
              "#482878"
             ],
             [
              0.2222222222222222,
              "#3e4989"
             ],
             [
              0.3333333333333333,
              "#31688e"
             ],
             [
              0.4444444444444444,
              "#26828e"
             ],
             [
              0.5555555555555556,
              "#1f9e89"
             ],
             [
              0.6666666666666666,
              "#35b779"
             ],
             [
              0.7777777777777778,
              "#6ece58"
             ],
             [
              0.8888888888888888,
              "#b5de2b"
             ],
             [
              1,
              "#fde725"
             ]
            ],
            "type": "heatmap"
           }
          ],
          "heatmapgl": [
           {
            "colorbar": {
             "outlinewidth": 1,
             "tickcolor": "rgb(36,36,36)",
             "ticks": "outside"
            },
            "colorscale": [
             [
              0,
              "#440154"
             ],
             [
              0.1111111111111111,
              "#482878"
             ],
             [
              0.2222222222222222,
              "#3e4989"
             ],
             [
              0.3333333333333333,
              "#31688e"
             ],
             [
              0.4444444444444444,
              "#26828e"
             ],
             [
              0.5555555555555556,
              "#1f9e89"
             ],
             [
              0.6666666666666666,
              "#35b779"
             ],
             [
              0.7777777777777778,
              "#6ece58"
             ],
             [
              0.8888888888888888,
              "#b5de2b"
             ],
             [
              1,
              "#fde725"
             ]
            ],
            "type": "heatmapgl"
           }
          ],
          "histogram": [
           {
            "marker": {
             "line": {
              "color": "white",
              "width": 0.6
             }
            },
            "type": "histogram"
           }
          ],
          "histogram2d": [
           {
            "colorbar": {
             "outlinewidth": 1,
             "tickcolor": "rgb(36,36,36)",
             "ticks": "outside"
            },
            "colorscale": [
             [
              0,
              "#440154"
             ],
             [
              0.1111111111111111,
              "#482878"
             ],
             [
              0.2222222222222222,
              "#3e4989"
             ],
             [
              0.3333333333333333,
              "#31688e"
             ],
             [
              0.4444444444444444,
              "#26828e"
             ],
             [
              0.5555555555555556,
              "#1f9e89"
             ],
             [
              0.6666666666666666,
              "#35b779"
             ],
             [
              0.7777777777777778,
              "#6ece58"
             ],
             [
              0.8888888888888888,
              "#b5de2b"
             ],
             [
              1,
              "#fde725"
             ]
            ],
            "type": "histogram2d"
           }
          ],
          "histogram2dcontour": [
           {
            "colorbar": {
             "outlinewidth": 1,
             "tickcolor": "rgb(36,36,36)",
             "ticks": "outside"
            },
            "colorscale": [
             [
              0,
              "#440154"
             ],
             [
              0.1111111111111111,
              "#482878"
             ],
             [
              0.2222222222222222,
              "#3e4989"
             ],
             [
              0.3333333333333333,
              "#31688e"
             ],
             [
              0.4444444444444444,
              "#26828e"
             ],
             [
              0.5555555555555556,
              "#1f9e89"
             ],
             [
              0.6666666666666666,
              "#35b779"
             ],
             [
              0.7777777777777778,
              "#6ece58"
             ],
             [
              0.8888888888888888,
              "#b5de2b"
             ],
             [
              1,
              "#fde725"
             ]
            ],
            "type": "histogram2dcontour"
           }
          ],
          "mesh3d": [
           {
            "colorbar": {
             "outlinewidth": 1,
             "tickcolor": "rgb(36,36,36)",
             "ticks": "outside"
            },
            "type": "mesh3d"
           }
          ],
          "parcoords": [
           {
            "line": {
             "colorbar": {
              "outlinewidth": 1,
              "tickcolor": "rgb(36,36,36)",
              "ticks": "outside"
             }
            },
            "type": "parcoords"
           }
          ],
          "pie": [
           {
            "automargin": true,
            "type": "pie"
           }
          ],
          "scatter": [
           {
            "fillpattern": {
             "fillmode": "overlay",
             "size": 10,
             "solidity": 0.2
            },
            "type": "scatter"
           }
          ],
          "scatter3d": [
           {
            "line": {
             "colorbar": {
              "outlinewidth": 1,
              "tickcolor": "rgb(36,36,36)",
              "ticks": "outside"
             }
            },
            "marker": {
             "colorbar": {
              "outlinewidth": 1,
              "tickcolor": "rgb(36,36,36)",
              "ticks": "outside"
             }
            },
            "type": "scatter3d"
           }
          ],
          "scattercarpet": [
           {
            "marker": {
             "colorbar": {
              "outlinewidth": 1,
              "tickcolor": "rgb(36,36,36)",
              "ticks": "outside"
             }
            },
            "type": "scattercarpet"
           }
          ],
          "scattergeo": [
           {
            "marker": {
             "colorbar": {
              "outlinewidth": 1,
              "tickcolor": "rgb(36,36,36)",
              "ticks": "outside"
             }
            },
            "type": "scattergeo"
           }
          ],
          "scattergl": [
           {
            "marker": {
             "colorbar": {
              "outlinewidth": 1,
              "tickcolor": "rgb(36,36,36)",
              "ticks": "outside"
             }
            },
            "type": "scattergl"
           }
          ],
          "scattermapbox": [
           {
            "marker": {
             "colorbar": {
              "outlinewidth": 1,
              "tickcolor": "rgb(36,36,36)",
              "ticks": "outside"
             }
            },
            "type": "scattermapbox"
           }
          ],
          "scatterpolar": [
           {
            "marker": {
             "colorbar": {
              "outlinewidth": 1,
              "tickcolor": "rgb(36,36,36)",
              "ticks": "outside"
             }
            },
            "type": "scatterpolar"
           }
          ],
          "scatterpolargl": [
           {
            "marker": {
             "colorbar": {
              "outlinewidth": 1,
              "tickcolor": "rgb(36,36,36)",
              "ticks": "outside"
             }
            },
            "type": "scatterpolargl"
           }
          ],
          "scatterternary": [
           {
            "marker": {
             "colorbar": {
              "outlinewidth": 1,
              "tickcolor": "rgb(36,36,36)",
              "ticks": "outside"
             }
            },
            "type": "scatterternary"
           }
          ],
          "surface": [
           {
            "colorbar": {
             "outlinewidth": 1,
             "tickcolor": "rgb(36,36,36)",
             "ticks": "outside"
            },
            "colorscale": [
             [
              0,
              "#440154"
             ],
             [
              0.1111111111111111,
              "#482878"
             ],
             [
              0.2222222222222222,
              "#3e4989"
             ],
             [
              0.3333333333333333,
              "#31688e"
             ],
             [
              0.4444444444444444,
              "#26828e"
             ],
             [
              0.5555555555555556,
              "#1f9e89"
             ],
             [
              0.6666666666666666,
              "#35b779"
             ],
             [
              0.7777777777777778,
              "#6ece58"
             ],
             [
              0.8888888888888888,
              "#b5de2b"
             ],
             [
              1,
              "#fde725"
             ]
            ],
            "type": "surface"
           }
          ],
          "table": [
           {
            "cells": {
             "fill": {
              "color": "rgb(237,237,237)"
             },
             "line": {
              "color": "white"
             }
            },
            "header": {
             "fill": {
              "color": "rgb(217,217,217)"
             },
             "line": {
              "color": "white"
             }
            },
            "type": "table"
           }
          ]
         },
         "layout": {
          "annotationdefaults": {
           "arrowhead": 0,
           "arrowwidth": 1
          },
          "autotypenumbers": "strict",
          "coloraxis": {
           "colorbar": {
            "outlinewidth": 1,
            "tickcolor": "rgb(36,36,36)",
            "ticks": "outside"
           }
          },
          "colorscale": {
           "diverging": [
            [
             0,
             "rgb(103,0,31)"
            ],
            [
             0.1,
             "rgb(178,24,43)"
            ],
            [
             0.2,
             "rgb(214,96,77)"
            ],
            [
             0.3,
             "rgb(244,165,130)"
            ],
            [
             0.4,
             "rgb(253,219,199)"
            ],
            [
             0.5,
             "rgb(247,247,247)"
            ],
            [
             0.6,
             "rgb(209,229,240)"
            ],
            [
             0.7,
             "rgb(146,197,222)"
            ],
            [
             0.8,
             "rgb(67,147,195)"
            ],
            [
             0.9,
             "rgb(33,102,172)"
            ],
            [
             1,
             "rgb(5,48,97)"
            ]
           ],
           "sequential": [
            [
             0,
             "#440154"
            ],
            [
             0.1111111111111111,
             "#482878"
            ],
            [
             0.2222222222222222,
             "#3e4989"
            ],
            [
             0.3333333333333333,
             "#31688e"
            ],
            [
             0.4444444444444444,
             "#26828e"
            ],
            [
             0.5555555555555556,
             "#1f9e89"
            ],
            [
             0.6666666666666666,
             "#35b779"
            ],
            [
             0.7777777777777778,
             "#6ece58"
            ],
            [
             0.8888888888888888,
             "#b5de2b"
            ],
            [
             1,
             "#fde725"
            ]
           ],
           "sequentialminus": [
            [
             0,
             "#440154"
            ],
            [
             0.1111111111111111,
             "#482878"
            ],
            [
             0.2222222222222222,
             "#3e4989"
            ],
            [
             0.3333333333333333,
             "#31688e"
            ],
            [
             0.4444444444444444,
             "#26828e"
            ],
            [
             0.5555555555555556,
             "#1f9e89"
            ],
            [
             0.6666666666666666,
             "#35b779"
            ],
            [
             0.7777777777777778,
             "#6ece58"
            ],
            [
             0.8888888888888888,
             "#b5de2b"
            ],
            [
             1,
             "#fde725"
            ]
           ]
          },
          "colorway": [
           "#91268F",
           "#8CC63E",
           "#00A7A0",
           "#F05A28",
           "#4C4C4C",
           "#630460",
           "#9f3913",
           "#588527",
           "#00716c",
           "#3e4040"
          ],
          "font": {
           "color": "rgb(36,36,36)",
           "family": "Poppins",
           "size": 11
          },
          "geo": {
           "bgcolor": "white",
           "lakecolor": "white",
           "landcolor": "white",
           "showlakes": true,
           "showland": true,
           "subunitcolor": "white"
          },
          "hoverlabel": {
           "align": "left"
          },
          "hovermode": "closest",
          "mapbox": {
           "style": "light"
          },
          "paper_bgcolor": "white",
          "plot_bgcolor": "white",
          "polar": {
           "angularaxis": {
            "gridcolor": "rgb(232,232,232)",
            "linecolor": "rgb(36,36,36)",
            "showgrid": false,
            "showline": true,
            "ticks": "outside"
           },
           "bgcolor": "white",
           "radialaxis": {
            "gridcolor": "rgb(232,232,232)",
            "linecolor": "rgb(36,36,36)",
            "showgrid": false,
            "showline": true,
            "ticks": "outside"
           }
          },
          "scene": {
           "xaxis": {
            "backgroundcolor": "white",
            "gridcolor": "rgb(232,232,232)",
            "gridwidth": 2,
            "linecolor": "rgb(36,36,36)",
            "showbackground": true,
            "showgrid": false,
            "showline": true,
            "ticks": "outside",
            "zeroline": false,
            "zerolinecolor": "rgb(36,36,36)"
           },
           "yaxis": {
            "backgroundcolor": "white",
            "gridcolor": "rgb(232,232,232)",
            "gridwidth": 2,
            "linecolor": "rgb(36,36,36)",
            "showbackground": true,
            "showgrid": false,
            "showline": true,
            "ticks": "outside",
            "zeroline": false,
            "zerolinecolor": "rgb(36,36,36)"
           },
           "zaxis": {
            "backgroundcolor": "white",
            "gridcolor": "rgb(232,232,232)",
            "gridwidth": 2,
            "linecolor": "rgb(36,36,36)",
            "showbackground": true,
            "showgrid": false,
            "showline": true,
            "ticks": "outside",
            "zeroline": false,
            "zerolinecolor": "rgb(36,36,36)"
           }
          },
          "shapedefaults": {
           "fillcolor": "black",
           "line": {
            "width": 0
           },
           "opacity": 0.3
          },
          "ternary": {
           "aaxis": {
            "gridcolor": "rgb(232,232,232)",
            "linecolor": "rgb(36,36,36)",
            "showgrid": false,
            "showline": true,
            "ticks": "outside"
           },
           "baxis": {
            "gridcolor": "rgb(232,232,232)",
            "linecolor": "rgb(36,36,36)",
            "showgrid": false,
            "showline": true,
            "ticks": "outside"
           },
           "bgcolor": "white",
           "caxis": {
            "gridcolor": "rgb(232,232,232)",
            "linecolor": "rgb(36,36,36)",
            "showgrid": false,
            "showline": true,
            "ticks": "outside"
           }
          },
          "title": {
           "x": 0.05
          },
          "xaxis": {
           "automargin": true,
           "gridcolor": "rgb(232,232,232)",
           "linecolor": "rgb(36,36,36)",
           "showgrid": false,
           "showline": true,
           "ticks": "outside",
           "title": {
            "standoff": 15
           },
           "zeroline": false,
           "zerolinecolor": "rgb(36,36,36)"
          },
          "yaxis": {
           "automargin": true,
           "gridcolor": "rgb(232,232,232)",
           "linecolor": "rgb(36,36,36)",
           "showgrid": false,
           "showline": true,
           "ticks": "outside",
           "title": {
            "standoff": 15
           },
           "zeroline": false,
           "zerolinecolor": "rgb(36,36,36)"
          }
         }
        },
        "title": {
         "text": "Description: 101 Mar P&R-Aur Vill"
        },
        "updatemenus": [
         {
          "buttons": [
           {
            "args": [
             {
              "visible": [
               true,
               false,
               false,
               false,
               false,
               false,
               false,
               false,
               false,
               false
              ]
             },
             {
              "title": "Description: 101 Mar P&R-Aur Vill"
             }
            ],
            "label": "101 Mar P&R-Aur Vill",
            "method": "update"
           },
           {
            "args": [
             {
              "visible": [
               false,
               true,
               false,
               false,
               false,
               false,
               false,
               false,
               false,
               false
              ]
             },
             {
              "title": "Description: 105 Mariner P&R-Both"
             }
            ],
            "label": "105 Mariner P&R-Both",
            "method": "update"
           },
           {
            "args": [
             {
              "visible": [
               false,
               false,
               true,
               false,
               false,
               false,
               false,
               false,
               false,
               false
              ]
             },
             {
              "title": "Description: 106 Mariner P&R-Both"
             }
            ],
            "label": "106 Mariner P&R-Both",
            "method": "update"
           },
           {
            "args": [
             {
              "visible": [
               false,
               false,
               false,
               true,
               false,
               false,
               false,
               false,
               false,
               false
              ]
             },
             {
              "title": "Description: 109 Ash Wy P&R-LkStv"
             }
            ],
            "label": "109 Ash Wy P&R-LkStv",
            "method": "update"
           },
           {
            "args": [
             {
              "visible": [
               false,
               false,
               false,
               false,
               true,
               false,
               false,
               false,
               false,
               false
              ]
             },
             {
              "title": "Description: 112 MLT TC-Ash P&R"
             }
            ],
            "label": "112 MLT TC-Ash P&R",
            "method": "update"
           },
           {
            "args": [
             {
              "visible": [
               false,
               false,
               false,
               false,
               false,
               true,
               false,
               false,
               false,
               false
              ]
             },
             {
              "title": "Description: 113 Mukilteo-Lynn TC"
             }
            ],
            "label": "113 Mukilteo-Lynn TC",
            "method": "update"
           },
           {
            "args": [
             {
              "visible": [
               false,
               false,
               false,
               false,
               false,
               false,
               true,
               false,
               false,
               false
              ]
             },
             {
              "title": "Description: 115 McClm P&R-AurVil"
             }
            ],
            "label": "115 McClm P&R-AurVil",
            "method": "update"
           },
           {
            "args": [
             {
              "visible": [
               false,
               false,
               false,
               false,
               false,
               false,
               false,
               true,
               false,
               false
              ]
             },
             {
              "title": "Description: 116 Edm-Silver Firs"
             }
            ],
            "label": "116 Edm-Silver Firs",
            "method": "update"
           },
           {
            "args": [
             {
              "visible": [
               false,
               false,
               false,
               false,
               false,
               false,
               false,
               false,
               true,
               false
              ]
             },
             {
              "title": "Description: 119 Ash P&R-MLT TC"
             }
            ],
            "label": "119 Ash P&R-MLT TC",
            "method": "update"
           },
           {
            "args": [
             {
              "visible": [
               false,
               false,
               false,
               false,
               false,
               false,
               false,
               false,
               false,
               true
              ]
             },
             {
              "title": "Description: 120 Canyon Pk-Lyn TC"
             }
            ],
            "label": "120 Canyon Pk-Lyn TC",
            "method": "update"
           }
          ],
          "direction": "down",
          "showactive": true
         }
        ],
        "width": 900,
        "yaxis": {
         "tickformat": ".00f"
        }
       }
      },
      "text/html": [
       "<div>                            <div id=\"5be76b1a-e1bc-4292-9bbc-c265bbdacc4c\" class=\"plotly-graph-div\" style=\"height:500px; width:900px;\"></div>            <script type=\"text/javascript\">                require([\"plotly\"], function(Plotly) {                    window.PLOTLYENV=window.PLOTLYENV || {};                                    if (document.getElementById(\"5be76b1a-e1bc-4292-9bbc-c265bbdacc4c\")) {                    Plotly.newPlot(                        \"5be76b1a-e1bc-4292-9bbc-c265bbdacc4c\",                        [{\"mode\":\"lines\",\"name\":\"101 Mar P&R-Aur Vill\",\"visible\":true,\"x\":[\"10to14\",\"14to15\",\"15to16\",\"16to17\",\"17to18\",\"18to20\",\"20to5\",\"5to6\",\"6to7\",\"7to8\",\"8to9\",\"9to10\",\"10to11\",\"11to12\",\"12to13\",\"13to14\",\"18to19\",\"19to20\",\"20to21\",\"21to22\",\"22to23\",\"23to0\",\"0to1\",\"1to2\",\"2to3\",\"3to4\",\"4to5\"],\"y\":[380.6371612548828,82.77841567993164,81.73174285888672,96.89604187011719,88.69813537597656,211.5813980102539,61.57290077209473,11.580734252929688,37.33290481567383,77.38714599609375,89.54471969604492,85.70133972167969,95.1592903137207,95.1592903137207,95.1592903137207,95.1592903137207,105.79069900512695,105.79069900512695,6.841433419121636,6.841433419121636,6.841433419121636,6.841433419121636,6.841433419121636,6.841433419121636,6.841433419121636,6.841433419121636,6.841433419121636],\"type\":\"scatter\"},{\"mode\":\"lines\",\"name\":\"105 Mariner P&R-Both\",\"visible\":false,\"x\":[\"10to14\",\"14to15\",\"15to16\",\"16to17\",\"17to18\",\"18to20\",\"20to5\",\"5to6\",\"6to7\",\"7to8\",\"8to9\",\"9to10\",\"10to11\",\"11to12\",\"12to13\",\"13to14\",\"18to19\",\"19to20\",\"20to21\",\"21to22\",\"22to23\",\"23to0\",\"0to1\",\"1to2\",\"2to3\",\"3to4\",\"4to5\"],\"y\":[141.42364120483398,35.00080680847168,49.82899856567383,36.62303066253662,31.820701599121094,36.16195201873779,19.67258930206299,14.674348354339598,20.892648696899414,34.542021751403816,24.97626495361328,15.998100757598877,35.355910301208496,35.355910301208496,35.355910301208496,35.355910301208496,18.080976009368896,18.080976009368896,2.1858432557847767,2.1858432557847767,2.1858432557847767,2.1858432557847767,2.1858432557847767,2.1858432557847767,2.1858432557847767,2.1858432557847767,2.1858432557847767],\"type\":\"scatter\"},{\"mode\":\"lines\",\"name\":\"106 Mariner P&R-Both\",\"visible\":false,\"x\":[\"16to17\",\"17to18\",\"18to20\",\"5to6\",\"6to7\",\"7to8\",\"18to19\",\"19to20\"],\"y\":[39.23398399353027,42.509605407714844,12.488652229309082,19.205220222473145,30.85206699371338,23.00113296508789,6.244326114654541,6.244326114654541],\"type\":\"scatter\"},{\"mode\":\"lines\",\"name\":\"109 Ash Wy P&R-LkStv\",\"visible\":false,\"x\":[\"10to14\",\"14to15\",\"15to16\",\"16to17\",\"17to18\",\"18to20\",\"20to5\",\"5to6\",\"6to7\",\"7to8\",\"8to9\",\"9to10\",\"10to11\",\"11to12\",\"12to13\",\"13to14\",\"18to19\",\"19to20\",\"20to21\",\"21to22\",\"22to23\",\"23to0\",\"0to1\",\"1to2\",\"2to3\",\"3to4\",\"4to5\"],\"y\":[164.5956802368164,35.72040557861328,59.07584190368652,26.1993350982666,68.22089004516602,98.10892868041992,60.17918014526367,23.07618808746338,30.628029823303223,36.33172798156738,29.653194427490234,43.80564498901367,41.1489200592041,41.1489200592041,41.1489200592041,41.1489200592041,49.05446434020996,49.05446434020996,6.686575571695964,6.686575571695964,6.686575571695964,6.686575571695964,6.686575571695964,6.686575571695964,6.686575571695964,6.686575571695964,6.686575571695964],\"type\":\"scatter\"},{\"mode\":\"lines\",\"name\":\"112 MLT TC-Ash P&R\",\"visible\":false,\"x\":[\"10to14\",\"14to15\",\"15to16\",\"16to17\",\"17to18\",\"18to20\",\"20to5\",\"5to6\",\"6to7\",\"7to8\",\"8to9\",\"9to10\",\"10to11\",\"11to12\",\"12to13\",\"13to14\",\"18to19\",\"19to20\",\"20to21\",\"21to22\",\"22to23\",\"23to0\",\"0to1\",\"1to2\",\"2to3\",\"3to4\",\"4to5\"],\"y\":[77.08052825927734,17.125760555267334,16.929771423339844,14.882289409637451,20.196181297302246,38.91709899902344,5.092759966850281,7.985580921173096,14.29961109161377,15.05858564376831,14.826786518096924,21.09982395172119,19.270132064819336,19.270132064819336,19.270132064819336,19.270132064819336,19.45854949951172,19.45854949951172,0.56586221853892,0.56586221853892,0.56586221853892,0.56586221853892,0.56586221853892,0.56586221853892,0.56586221853892,0.56586221853892,0.56586221853892],\"type\":\"scatter\"},{\"mode\":\"lines\",\"name\":\"113 Mukilteo-Lynn TC\",\"visible\":false,\"x\":[\"10to14\",\"14to15\",\"15to16\",\"16to17\",\"17to18\",\"18to20\",\"20to5\",\"5to6\",\"6to7\",\"7to8\",\"8to9\",\"9to10\",\"10to11\",\"11to12\",\"12to13\",\"13to14\",\"18to19\",\"19to20\",\"20to21\",\"21to22\",\"22to23\",\"23to0\",\"0to1\",\"1to2\",\"2to3\",\"3to4\",\"4to5\"],\"y\":[204.35299682617188,89.13846969604492,47.63248825073242,72.48334121704102,71.49723434448242,100.2899055480957,34.91678237915039,15.930665731430052,16.350214958190918,40.84717655181885,49.05070686340332,49.34067344665527,51.08824920654297,51.08824920654297,51.08824920654297,51.08824920654297,50.14495277404785,50.14495277404785,3.8796424865722656,3.8796424865722656,3.8796424865722656,3.8796424865722656,3.8796424865722656,3.8796424865722656,3.8796424865722656,3.8796424865722656,3.8796424865722656],\"type\":\"scatter\"},{\"mode\":\"lines\",\"name\":\"115 McClm P&R-AurVil\",\"visible\":false,\"x\":[\"10to14\",\"14to15\",\"15to16\",\"16to17\",\"17to18\",\"18to20\",\"20to5\",\"5to6\",\"6to7\",\"7to8\",\"8to9\",\"9to10\",\"10to11\",\"11to12\",\"12to13\",\"13to14\",\"18to19\",\"19to20\",\"20to21\",\"21to22\",\"22to23\",\"23to0\",\"0to1\",\"1to2\",\"2to3\",\"3to4\",\"4to5\"],\"y\":[491.35595703124994,104.68344116210938,203.00979614257812,71.77378463745117,119.31935119628906,196.47119903564453,39.86380958557129,19.616732597351074,72.56814956665039,106.82707214355469,110.45092010498047,136.78085708618164,122.83898925781249,122.83898925781249,122.83898925781249,122.83898925781249,98.23559951782227,98.23559951782227,4.429312176174587,4.429312176174587,4.429312176174587,4.429312176174587,4.429312176174587,4.429312176174587,4.429312176174587,4.429312176174587,4.429312176174587],\"type\":\"scatter\"},{\"mode\":\"lines\",\"name\":\"116 Edm-Silver Firs\",\"visible\":false,\"x\":[\"10to14\",\"14to15\",\"15to16\",\"16to17\",\"17to18\",\"18to20\",\"20to5\",\"5to6\",\"6to7\",\"7to8\",\"8to9\",\"9to10\",\"10to11\",\"11to12\",\"12to13\",\"13to14\",\"18to19\",\"19to20\",\"20to21\",\"21to22\",\"22to23\",\"23to0\",\"0to1\",\"1to2\",\"2to3\",\"3to4\",\"4to5\"],\"y\":[672.1163330078125,187.11190032958984,134.87932586669922,197.11103057861328,83.45478820800781,214.52094268798828,72.70216178894043,59.955984115600586,120.41880416870117,83.28633499145508,219.64435577392578,110.22371673583984,168.02908325195312,168.02908325195312,168.02908325195312,168.02908325195312,107.26047134399414,107.26047134399414,8.078017976548937,8.078017976548937,8.078017976548937,8.078017976548937,8.078017976548937,8.078017976548937,8.078017976548937,8.078017976548937,8.078017976548937],\"type\":\"scatter\"},{\"mode\":\"lines\",\"name\":\"119 Ash P&R-MLT TC\",\"visible\":false,\"x\":[\"10to14\",\"14to15\",\"15to16\",\"16to17\",\"17to18\",\"18to20\",\"20to5\",\"5to6\",\"6to7\",\"7to8\",\"8to9\",\"9to10\",\"10to11\",\"11to12\",\"12to13\",\"13to14\",\"18to19\",\"19to20\",\"20to21\",\"21to22\",\"22to23\",\"23to0\",\"0to1\",\"1to2\",\"2to3\",\"3to4\",\"4to5\"],\"y\":[56.10455322265625,12.127092838287354,11.82816219329834,17.90920877456665,8.015921354293823,20.948744773864746,4.179933547973633,2.361647605895996,7.605316162109375,15.739745140075684,18.44482421875,18.94728708267212,14.026138305664062,14.026138305664062,14.026138305664062,14.026138305664062,10.474372386932373,10.474372386932373,0.4644370608859592,0.4644370608859592,0.4644370608859592,0.4644370608859592,0.4644370608859592,0.4644370608859592,0.4644370608859592,0.4644370608859592,0.4644370608859592],\"type\":\"scatter\"},{\"mode\":\"lines\",\"name\":\"120 Canyon Pk-Lyn TC\",\"visible\":false,\"x\":[\"10to14\",\"14to15\",\"15to16\",\"16to17\",\"17to18\",\"18to20\",\"20to5\",\"5to6\",\"6to7\",\"7to8\",\"8to9\",\"9to10\",\"10to11\",\"11to12\",\"12to13\",\"13to14\",\"18to19\",\"19to20\",\"20to21\",\"21to22\",\"22to23\",\"23to0\",\"0to1\",\"1to2\",\"2to3\",\"3to4\",\"4to5\"],\"y\":[176.29283142089844,46.89645957946777,48.21253967285156,43.30505561828613,34.59341526031494,90.78177261352539,16.124112367630005,26.541898727416992,37.0246696472168,50.64880180358887,46.65221977233886,29.366267204284668,44.07320785522461,44.07320785522461,44.07320785522461,44.07320785522461,45.390886306762695,45.390886306762695,1.7915680408477783,1.7915680408477783,1.7915680408477783,1.7915680408477783,1.7915680408477783,1.7915680408477783,1.7915680408477783,1.7915680408477783,1.7915680408477783],\"type\":\"scatter\"}],                        {\"template\":{\"data\":{\"barpolar\":[{\"marker\":{\"line\":{\"color\":\"white\",\"width\":0.5},\"pattern\":{\"fillmode\":\"overlay\",\"size\":10,\"solidity\":0.2}},\"type\":\"barpolar\"}],\"bar\":[{\"error_x\":{\"color\":\"rgb(36,36,36)\"},\"error_y\":{\"color\":\"rgb(36,36,36)\"},\"marker\":{\"line\":{\"color\":\"white\",\"width\":0.5},\"pattern\":{\"fillmode\":\"overlay\",\"size\":10,\"solidity\":0.2}},\"type\":\"bar\"}],\"carpet\":[{\"aaxis\":{\"endlinecolor\":\"rgb(36,36,36)\",\"gridcolor\":\"white\",\"linecolor\":\"white\",\"minorgridcolor\":\"white\",\"startlinecolor\":\"rgb(36,36,36)\"},\"baxis\":{\"endlinecolor\":\"rgb(36,36,36)\",\"gridcolor\":\"white\",\"linecolor\":\"white\",\"minorgridcolor\":\"white\",\"startlinecolor\":\"rgb(36,36,36)\"},\"type\":\"carpet\"}],\"choropleth\":[{\"colorbar\":{\"outlinewidth\":1,\"tickcolor\":\"rgb(36,36,36)\",\"ticks\":\"outside\"},\"type\":\"choropleth\"}],\"contourcarpet\":[{\"colorbar\":{\"outlinewidth\":1,\"tickcolor\":\"rgb(36,36,36)\",\"ticks\":\"outside\"},\"type\":\"contourcarpet\"}],\"contour\":[{\"colorbar\":{\"outlinewidth\":1,\"tickcolor\":\"rgb(36,36,36)\",\"ticks\":\"outside\"},\"colorscale\":[[0.0,\"#440154\"],[0.1111111111111111,\"#482878\"],[0.2222222222222222,\"#3e4989\"],[0.3333333333333333,\"#31688e\"],[0.4444444444444444,\"#26828e\"],[0.5555555555555556,\"#1f9e89\"],[0.6666666666666666,\"#35b779\"],[0.7777777777777778,\"#6ece58\"],[0.8888888888888888,\"#b5de2b\"],[1.0,\"#fde725\"]],\"type\":\"contour\"}],\"heatmapgl\":[{\"colorbar\":{\"outlinewidth\":1,\"tickcolor\":\"rgb(36,36,36)\",\"ticks\":\"outside\"},\"colorscale\":[[0.0,\"#440154\"],[0.1111111111111111,\"#482878\"],[0.2222222222222222,\"#3e4989\"],[0.3333333333333333,\"#31688e\"],[0.4444444444444444,\"#26828e\"],[0.5555555555555556,\"#1f9e89\"],[0.6666666666666666,\"#35b779\"],[0.7777777777777778,\"#6ece58\"],[0.8888888888888888,\"#b5de2b\"],[1.0,\"#fde725\"]],\"type\":\"heatmapgl\"}],\"heatmap\":[{\"colorbar\":{\"outlinewidth\":1,\"tickcolor\":\"rgb(36,36,36)\",\"ticks\":\"outside\"},\"colorscale\":[[0.0,\"#440154\"],[0.1111111111111111,\"#482878\"],[0.2222222222222222,\"#3e4989\"],[0.3333333333333333,\"#31688e\"],[0.4444444444444444,\"#26828e\"],[0.5555555555555556,\"#1f9e89\"],[0.6666666666666666,\"#35b779\"],[0.7777777777777778,\"#6ece58\"],[0.8888888888888888,\"#b5de2b\"],[1.0,\"#fde725\"]],\"type\":\"heatmap\"}],\"histogram2dcontour\":[{\"colorbar\":{\"outlinewidth\":1,\"tickcolor\":\"rgb(36,36,36)\",\"ticks\":\"outside\"},\"colorscale\":[[0.0,\"#440154\"],[0.1111111111111111,\"#482878\"],[0.2222222222222222,\"#3e4989\"],[0.3333333333333333,\"#31688e\"],[0.4444444444444444,\"#26828e\"],[0.5555555555555556,\"#1f9e89\"],[0.6666666666666666,\"#35b779\"],[0.7777777777777778,\"#6ece58\"],[0.8888888888888888,\"#b5de2b\"],[1.0,\"#fde725\"]],\"type\":\"histogram2dcontour\"}],\"histogram2d\":[{\"colorbar\":{\"outlinewidth\":1,\"tickcolor\":\"rgb(36,36,36)\",\"ticks\":\"outside\"},\"colorscale\":[[0.0,\"#440154\"],[0.1111111111111111,\"#482878\"],[0.2222222222222222,\"#3e4989\"],[0.3333333333333333,\"#31688e\"],[0.4444444444444444,\"#26828e\"],[0.5555555555555556,\"#1f9e89\"],[0.6666666666666666,\"#35b779\"],[0.7777777777777778,\"#6ece58\"],[0.8888888888888888,\"#b5de2b\"],[1.0,\"#fde725\"]],\"type\":\"histogram2d\"}],\"histogram\":[{\"marker\":{\"line\":{\"color\":\"white\",\"width\":0.6}},\"type\":\"histogram\"}],\"mesh3d\":[{\"colorbar\":{\"outlinewidth\":1,\"tickcolor\":\"rgb(36,36,36)\",\"ticks\":\"outside\"},\"type\":\"mesh3d\"}],\"parcoords\":[{\"line\":{\"colorbar\":{\"outlinewidth\":1,\"tickcolor\":\"rgb(36,36,36)\",\"ticks\":\"outside\"}},\"type\":\"parcoords\"}],\"pie\":[{\"automargin\":true,\"type\":\"pie\"}],\"scatter3d\":[{\"line\":{\"colorbar\":{\"outlinewidth\":1,\"tickcolor\":\"rgb(36,36,36)\",\"ticks\":\"outside\"}},\"marker\":{\"colorbar\":{\"outlinewidth\":1,\"tickcolor\":\"rgb(36,36,36)\",\"ticks\":\"outside\"}},\"type\":\"scatter3d\"}],\"scattercarpet\":[{\"marker\":{\"colorbar\":{\"outlinewidth\":1,\"tickcolor\":\"rgb(36,36,36)\",\"ticks\":\"outside\"}},\"type\":\"scattercarpet\"}],\"scattergeo\":[{\"marker\":{\"colorbar\":{\"outlinewidth\":1,\"tickcolor\":\"rgb(36,36,36)\",\"ticks\":\"outside\"}},\"type\":\"scattergeo\"}],\"scattergl\":[{\"marker\":{\"colorbar\":{\"outlinewidth\":1,\"tickcolor\":\"rgb(36,36,36)\",\"ticks\":\"outside\"}},\"type\":\"scattergl\"}],\"scattermapbox\":[{\"marker\":{\"colorbar\":{\"outlinewidth\":1,\"tickcolor\":\"rgb(36,36,36)\",\"ticks\":\"outside\"}},\"type\":\"scattermapbox\"}],\"scatterpolargl\":[{\"marker\":{\"colorbar\":{\"outlinewidth\":1,\"tickcolor\":\"rgb(36,36,36)\",\"ticks\":\"outside\"}},\"type\":\"scatterpolargl\"}],\"scatterpolar\":[{\"marker\":{\"colorbar\":{\"outlinewidth\":1,\"tickcolor\":\"rgb(36,36,36)\",\"ticks\":\"outside\"}},\"type\":\"scatterpolar\"}],\"scatter\":[{\"fillpattern\":{\"fillmode\":\"overlay\",\"size\":10,\"solidity\":0.2},\"type\":\"scatter\"}],\"scatterternary\":[{\"marker\":{\"colorbar\":{\"outlinewidth\":1,\"tickcolor\":\"rgb(36,36,36)\",\"ticks\":\"outside\"}},\"type\":\"scatterternary\"}],\"surface\":[{\"colorbar\":{\"outlinewidth\":1,\"tickcolor\":\"rgb(36,36,36)\",\"ticks\":\"outside\"},\"colorscale\":[[0.0,\"#440154\"],[0.1111111111111111,\"#482878\"],[0.2222222222222222,\"#3e4989\"],[0.3333333333333333,\"#31688e\"],[0.4444444444444444,\"#26828e\"],[0.5555555555555556,\"#1f9e89\"],[0.6666666666666666,\"#35b779\"],[0.7777777777777778,\"#6ece58\"],[0.8888888888888888,\"#b5de2b\"],[1.0,\"#fde725\"]],\"type\":\"surface\"}],\"table\":[{\"cells\":{\"fill\":{\"color\":\"rgb(237,237,237)\"},\"line\":{\"color\":\"white\"}},\"header\":{\"fill\":{\"color\":\"rgb(217,217,217)\"},\"line\":{\"color\":\"white\"}},\"type\":\"table\"}]},\"layout\":{\"annotationdefaults\":{\"arrowhead\":0,\"arrowwidth\":1},\"autotypenumbers\":\"strict\",\"coloraxis\":{\"colorbar\":{\"outlinewidth\":1,\"tickcolor\":\"rgb(36,36,36)\",\"ticks\":\"outside\"}},\"colorscale\":{\"diverging\":[[0.0,\"rgb(103,0,31)\"],[0.1,\"rgb(178,24,43)\"],[0.2,\"rgb(214,96,77)\"],[0.3,\"rgb(244,165,130)\"],[0.4,\"rgb(253,219,199)\"],[0.5,\"rgb(247,247,247)\"],[0.6,\"rgb(209,229,240)\"],[0.7,\"rgb(146,197,222)\"],[0.8,\"rgb(67,147,195)\"],[0.9,\"rgb(33,102,172)\"],[1.0,\"rgb(5,48,97)\"]],\"sequential\":[[0.0,\"#440154\"],[0.1111111111111111,\"#482878\"],[0.2222222222222222,\"#3e4989\"],[0.3333333333333333,\"#31688e\"],[0.4444444444444444,\"#26828e\"],[0.5555555555555556,\"#1f9e89\"],[0.6666666666666666,\"#35b779\"],[0.7777777777777778,\"#6ece58\"],[0.8888888888888888,\"#b5de2b\"],[1.0,\"#fde725\"]],\"sequentialminus\":[[0.0,\"#440154\"],[0.1111111111111111,\"#482878\"],[0.2222222222222222,\"#3e4989\"],[0.3333333333333333,\"#31688e\"],[0.4444444444444444,\"#26828e\"],[0.5555555555555556,\"#1f9e89\"],[0.6666666666666666,\"#35b779\"],[0.7777777777777778,\"#6ece58\"],[0.8888888888888888,\"#b5de2b\"],[1.0,\"#fde725\"]]},\"colorway\":[\"#91268F\",\"#8CC63E\",\"#00A7A0\",\"#F05A28\",\"#4C4C4C\",\"#630460\",\"#9f3913\",\"#588527\",\"#00716c\",\"#3e4040\"],\"font\":{\"color\":\"rgb(36,36,36)\",\"family\":\"Poppins\",\"size\":11},\"geo\":{\"bgcolor\":\"white\",\"lakecolor\":\"white\",\"landcolor\":\"white\",\"showlakes\":true,\"showland\":true,\"subunitcolor\":\"white\"},\"hoverlabel\":{\"align\":\"left\"},\"hovermode\":\"closest\",\"mapbox\":{\"style\":\"light\"},\"paper_bgcolor\":\"white\",\"plot_bgcolor\":\"white\",\"polar\":{\"angularaxis\":{\"gridcolor\":\"rgb(232,232,232)\",\"linecolor\":\"rgb(36,36,36)\",\"showgrid\":false,\"showline\":true,\"ticks\":\"outside\"},\"bgcolor\":\"white\",\"radialaxis\":{\"gridcolor\":\"rgb(232,232,232)\",\"linecolor\":\"rgb(36,36,36)\",\"showgrid\":false,\"showline\":true,\"ticks\":\"outside\"}},\"scene\":{\"xaxis\":{\"backgroundcolor\":\"white\",\"gridcolor\":\"rgb(232,232,232)\",\"gridwidth\":2,\"linecolor\":\"rgb(36,36,36)\",\"showbackground\":true,\"showgrid\":false,\"showline\":true,\"ticks\":\"outside\",\"zeroline\":false,\"zerolinecolor\":\"rgb(36,36,36)\"},\"yaxis\":{\"backgroundcolor\":\"white\",\"gridcolor\":\"rgb(232,232,232)\",\"gridwidth\":2,\"linecolor\":\"rgb(36,36,36)\",\"showbackground\":true,\"showgrid\":false,\"showline\":true,\"ticks\":\"outside\",\"zeroline\":false,\"zerolinecolor\":\"rgb(36,36,36)\"},\"zaxis\":{\"backgroundcolor\":\"white\",\"gridcolor\":\"rgb(232,232,232)\",\"gridwidth\":2,\"linecolor\":\"rgb(36,36,36)\",\"showbackground\":true,\"showgrid\":false,\"showline\":true,\"ticks\":\"outside\",\"zeroline\":false,\"zerolinecolor\":\"rgb(36,36,36)\"}},\"shapedefaults\":{\"fillcolor\":\"black\",\"line\":{\"width\":0},\"opacity\":0.3},\"ternary\":{\"aaxis\":{\"gridcolor\":\"rgb(232,232,232)\",\"linecolor\":\"rgb(36,36,36)\",\"showgrid\":false,\"showline\":true,\"ticks\":\"outside\"},\"baxis\":{\"gridcolor\":\"rgb(232,232,232)\",\"linecolor\":\"rgb(36,36,36)\",\"showgrid\":false,\"showline\":true,\"ticks\":\"outside\"},\"bgcolor\":\"white\",\"caxis\":{\"gridcolor\":\"rgb(232,232,232)\",\"linecolor\":\"rgb(36,36,36)\",\"showgrid\":false,\"showline\":true,\"ticks\":\"outside\"}},\"title\":{\"x\":0.05},\"xaxis\":{\"automargin\":true,\"gridcolor\":\"rgb(232,232,232)\",\"linecolor\":\"rgb(36,36,36)\",\"showgrid\":false,\"showline\":true,\"ticks\":\"outside\",\"title\":{\"standoff\":15},\"zeroline\":false,\"zerolinecolor\":\"rgb(36,36,36)\"},\"yaxis\":{\"automargin\":true,\"gridcolor\":\"rgb(232,232,232)\",\"linecolor\":\"rgb(36,36,36)\",\"showgrid\":false,\"showline\":true,\"ticks\":\"outside\",\"title\":{\"standoff\":15},\"zeroline\":false,\"zerolinecolor\":\"rgb(36,36,36)\"}}},\"font\":{\"size\":11},\"yaxis\":{\"tickformat\":\".00f\"},\"updatemenus\":[{\"buttons\":[{\"args\":[{\"visible\":[true,false,false,false,false,false,false,false,false,false]},{\"title\":\"Description: 101 Mar P&R-Aur Vill\"}],\"label\":\"101 Mar P&R-Aur Vill\",\"method\":\"update\"},{\"args\":[{\"visible\":[false,true,false,false,false,false,false,false,false,false]},{\"title\":\"Description: 105 Mariner P&R-Both\"}],\"label\":\"105 Mariner P&R-Both\",\"method\":\"update\"},{\"args\":[{\"visible\":[false,false,true,false,false,false,false,false,false,false]},{\"title\":\"Description: 106 Mariner P&R-Both\"}],\"label\":\"106 Mariner P&R-Both\",\"method\":\"update\"},{\"args\":[{\"visible\":[false,false,false,true,false,false,false,false,false,false]},{\"title\":\"Description: 109 Ash Wy P&R-LkStv\"}],\"label\":\"109 Ash Wy P&R-LkStv\",\"method\":\"update\"},{\"args\":[{\"visible\":[false,false,false,false,true,false,false,false,false,false]},{\"title\":\"Description: 112 MLT TC-Ash P&R\"}],\"label\":\"112 MLT TC-Ash P&R\",\"method\":\"update\"},{\"args\":[{\"visible\":[false,false,false,false,false,true,false,false,false,false]},{\"title\":\"Description: 113 Mukilteo-Lynn TC\"}],\"label\":\"113 Mukilteo-Lynn TC\",\"method\":\"update\"},{\"args\":[{\"visible\":[false,false,false,false,false,false,true,false,false,false]},{\"title\":\"Description: 115 McClm P&R-AurVil\"}],\"label\":\"115 McClm P&R-AurVil\",\"method\":\"update\"},{\"args\":[{\"visible\":[false,false,false,false,false,false,false,true,false,false]},{\"title\":\"Description: 116 Edm-Silver Firs\"}],\"label\":\"116 Edm-Silver Firs\",\"method\":\"update\"},{\"args\":[{\"visible\":[false,false,false,false,false,false,false,false,true,false]},{\"title\":\"Description: 119 Ash P&R-MLT TC\"}],\"label\":\"119 Ash P&R-MLT TC\",\"method\":\"update\"},{\"args\":[{\"visible\":[false,false,false,false,false,false,false,false,false,true]},{\"title\":\"Description: 120 Canyon Pk-Lyn TC\"}],\"label\":\"120 Canyon Pk-Lyn TC\",\"method\":\"update\"}],\"direction\":\"down\",\"showactive\":true}],\"title\":{\"text\":\"Description: 101 Mar P&R-Aur Vill\"},\"height\":500,\"width\":900},                        {\"responsive\": true}                    ).then(function(){\n",
       "                            \n",
       "var gd = document.getElementById('5be76b1a-e1bc-4292-9bbc-c265bbdacc4c');\n",
       "var x = new MutationObserver(function (mutations, observer) {{\n",
       "        var display = window.getComputedStyle(gd).display;\n",
       "        if (!display || display === 'none') {{\n",
       "            console.log([gd, 'removed!']);\n",
       "            Plotly.purge(gd);\n",
       "            observer.disconnect();\n",
       "        }}\n",
       "}});\n",
       "\n",
       "// Listen for the removal of the full notebook cells\n",
       "var notebookContainer = gd.closest('#notebook-container');\n",
       "if (notebookContainer) {{\n",
       "    x.observe(notebookContainer, {childList: true});\n",
       "}}\n",
       "\n",
       "// Listen for the clearing of the current output cell\n",
       "var outputEl = gd.closest('.output');\n",
       "if (outputEl) {{\n",
       "    x.observe(outputEl, {childList: true});\n",
       "}}\n",
       "\n",
       "                        })                };                });            </script>        </div>"
      ]
     },
     "metadata": {},
     "output_type": "display_data"
    }
   ],
   "source": [
    "\n",
    "def create_tod_chart(df):\n",
    "    # Create a figure\n",
    "    fig = go.Figure()\n",
    "\n",
    "    # Add traces for each description\n",
    "    for description in descriptions:\n",
    "\n",
    "        _df = df[df['description'] == description].copy()\n",
    "        _df = pd.pivot_table(_df, index='tod', columns='description', values='boardings')\n",
    "        \n",
    "        tod_list = ['5to6', '6to7', '7to8', '8to9', '9to10', '14to15', '15to16', '16to17', '17to18']\n",
    "\n",
    "        # Smooth out time periods\n",
    "        if '10to14' in _df.index:\n",
    "            _df.loc['10to11'] = _df.loc['10to14'] / 4.0\n",
    "            _df.loc['11to12'] = _df.loc['10to14'] / 4.0\n",
    "            _df.loc['12to13'] = _df.loc['10to14'] / 4.0\n",
    "            _df.loc['13to14'] = _df.loc['10to14'] / 4.0\n",
    "            tod_list += ['10to11', '11to12', '12to13', '13to14']\n",
    "        if '18to20' in _df.index:\n",
    "            _df.loc['18to19'] = _df.loc['18to20'] / 2.0\n",
    "            _df.loc['19to20'] = _df.loc['18to20'] / 2.0\n",
    "            tod_list += ['18to19', '19to20']\n",
    "        if '20to5' in  _df.index:\n",
    "            tod_list += ['20to21', '21to22', '22to23', '23to0','0to1', '1to2', '2to3', '3to4', '4to5']\n",
    "            _df.loc['20to21'] = _df.loc['20to5'] / 9.0\n",
    "            _df.loc['21to22'] = _df.loc['20to5'] / 9.0\n",
    "            _df.loc['22to23'] = _df.loc['20to5'] / 9.0\n",
    "            _df.loc['23to0'] = _df.loc['20to5'] / 9.0\n",
    "            _df.loc['0to1'] = _df.loc['20to5'] / 9.0\n",
    "            _df.loc['1to2'] = _df.loc['20to5'] / 9.0\n",
    "            _df.loc['2to3'] = _df.loc['20to5'] / 9.0\n",
    "            _df.loc['3to4'] = _df.loc['20to5'] / 9.0\n",
    "            _df.loc['4to5'] = _df.loc['20to5'] / 9.0\n",
    "\n",
    "        _df = _df.reset_index()\n",
    "        _df.index = _df.tod\n",
    "        _df.drop('tod', axis=1, inplace=True)\n",
    "        _df = _df.loc[_df.index, description]\n",
    "\n",
    "        fig.add_trace(go.Scatter(x=_df.index, y=_df, mode='lines', name=description, visible=False))\n",
    "\n",
    "    # Make the first trace visible\n",
    "    fig.data[0].visible = True\n",
    "\n",
    "    # Create dropdown menu\n",
    "    dropdown_buttons = [\n",
    "        {'label': description, 'method': 'update', 'args': [{'visible': [description == desc for desc in descriptions]}, {'title': f'Description: {description}'}]}\n",
    "        for description in descriptions\n",
    "    ]\n",
    "\n",
    "    # Update layout with dropdown\n",
    "    fig.update_layout(\n",
    "        updatemenus=[{\n",
    "            'buttons': dropdown_buttons,\n",
    "            'direction': 'down',\n",
    "            'showactive': True,\n",
    "        }],\n",
    "        title='Description: ' + descriptions[0],\n",
    "        height=500,\n",
    "        width=900,\n",
    "        font=dict(size=11),\n",
    "        yaxis_tickformat='.00f'\n",
    "    )\n",
    "\n",
    "    return fig\n",
    "\n",
    "\n",
    "\n",
    "\n",
    "# Create a list of unique descriptions to display\n",
    "descriptions = df_transit_line['description'].unique()[0:10]\n",
    "# print(descriptions)\n",
    "df_test = df_transit_line[df_transit_line['description'].isin(descriptions)].copy()\n",
    "df = df_test.groupby(['tod', 'description']).agg({'boardings': 'sum'}).reset_index()\n",
    "\n",
    "\n",
    "fig = create_tod_chart(df)\n",
    "fig.show()\n"
   ]
  },
  {
   "cell_type": "code",
   "execution_count": null,
   "id": "467c75a1",
   "metadata": {},
   "outputs": [
    {
     "data": {
      "text/html": [
       "<div>\n",
       "<style scoped>\n",
       "    .dataframe tbody tr th:only-of-type {\n",
       "        vertical-align: middle;\n",
       "    }\n",
       "\n",
       "    .dataframe tbody tr th {\n",
       "        vertical-align: top;\n",
       "    }\n",
       "\n",
       "    .dataframe thead th {\n",
       "        text-align: right;\n",
       "    }\n",
       "</style>\n",
       "<table border=\"1\" class=\"dataframe\">\n",
       "  <thead>\n",
       "    <tr style=\"text-align: right;\">\n",
       "      <th></th>\n",
       "      <th>line_id</th>\n",
       "      <th>route_code</th>\n",
       "      <th>agency_code</th>\n",
       "      <th>mode</th>\n",
       "      <th>description</th>\n",
       "      <th>boardings</th>\n",
       "      <th>time</th>\n",
       "      <th>transit_type</th>\n",
       "      <th>tod</th>\n",
       "    </tr>\n",
       "  </thead>\n",
       "  <tbody>\n",
       "    <tr>\n",
       "      <th>0</th>\n",
       "      <td>123001</td>\n",
       "      <td>3,101.00</td>\n",
       "      <td>3.00</td>\n",
       "      <td>b</td>\n",
       "      <td>101 Mar P&amp;R-Aur Vill</td>\n",
       "      <td>6.64</td>\n",
       "      <td>24.25</td>\n",
       "      <td>1.00</td>\n",
       "      <td>5to6</td>\n",
       "    </tr>\n",
       "    <tr>\n",
       "      <th>1</th>\n",
       "      <td>123002</td>\n",
       "      <td>3,101.00</td>\n",
       "      <td>3.00</td>\n",
       "      <td>b</td>\n",
       "      <td>101 Mar P&amp;R-Aur Vill</td>\n",
       "      <td>2.06</td>\n",
       "      <td>25.29</td>\n",
       "      <td>1.00</td>\n",
       "      <td>5to6</td>\n",
       "    </tr>\n",
       "    <tr>\n",
       "      <th>2</th>\n",
       "      <td>123003</td>\n",
       "      <td>3,105.00</td>\n",
       "      <td>3.00</td>\n",
       "      <td>b</td>\n",
       "      <td>105 Mariner P&amp;R-Both</td>\n",
       "      <td>6.71</td>\n",
       "      <td>46.56</td>\n",
       "      <td>1.00</td>\n",
       "      <td>5to6</td>\n",
       "    </tr>\n",
       "    <tr>\n",
       "      <th>3</th>\n",
       "      <td>123005</td>\n",
       "      <td>3,105.00</td>\n",
       "      <td>3.00</td>\n",
       "      <td>b</td>\n",
       "      <td>105 Mariner P&amp;R-Both</td>\n",
       "      <td>5.25</td>\n",
       "      <td>46.54</td>\n",
       "      <td>1.00</td>\n",
       "      <td>5to6</td>\n",
       "    </tr>\n",
       "    <tr>\n",
       "      <th>4</th>\n",
       "      <td>123007</td>\n",
       "      <td>3,106.00</td>\n",
       "      <td>3.00</td>\n",
       "      <td>b</td>\n",
       "      <td>106 Mariner P&amp;R-Both</td>\n",
       "      <td>5.68</td>\n",
       "      <td>44.86</td>\n",
       "      <td>1.00</td>\n",
       "      <td>5to6</td>\n",
       "    </tr>\n",
       "    <tr>\n",
       "      <th>...</th>\n",
       "      <td>...</td>\n",
       "      <td>...</td>\n",
       "      <td>...</td>\n",
       "      <td>...</td>\n",
       "      <td>...</td>\n",
       "      <td>...</td>\n",
       "      <td>...</td>\n",
       "      <td>...</td>\n",
       "      <td>...</td>\n",
       "    </tr>\n",
       "    <tr>\n",
       "      <th>5746</th>\n",
       "      <td>123862</td>\n",
       "      <td>5,002.00</td>\n",
       "      <td>5.00</td>\n",
       "      <td>f</td>\n",
       "      <td>WSF Seattle-Bain Isl</td>\n",
       "      <td>169.29</td>\n",
       "      <td>35.00</td>\n",
       "      <td>7.00</td>\n",
       "      <td>20to5</td>\n",
       "    </tr>\n",
       "    <tr>\n",
       "      <th>5747</th>\n",
       "      <td>123863</td>\n",
       "      <td>5,003.00</td>\n",
       "      <td>5.00</td>\n",
       "      <td>f</td>\n",
       "      <td>WSF Seattle-Brem</td>\n",
       "      <td>0.00</td>\n",
       "      <td>60.00</td>\n",
       "      <td>7.00</td>\n",
       "      <td>20to5</td>\n",
       "    </tr>\n",
       "    <tr>\n",
       "      <th>5748</th>\n",
       "      <td>123864</td>\n",
       "      <td>5,001.00</td>\n",
       "      <td>5.00</td>\n",
       "      <td>f</td>\n",
       "      <td>WSF Edmonds-Kingston</td>\n",
       "      <td>7.00</td>\n",
       "      <td>30.00</td>\n",
       "      <td>7.00</td>\n",
       "      <td>20to5</td>\n",
       "    </tr>\n",
       "    <tr>\n",
       "      <th>5749</th>\n",
       "      <td>123865</td>\n",
       "      <td>5,004.00</td>\n",
       "      <td>5.00</td>\n",
       "      <td>p</td>\n",
       "      <td>WSF Fauntleroy-Swrth</td>\n",
       "      <td>30.49</td>\n",
       "      <td>30.00</td>\n",
       "      <td>7.00</td>\n",
       "      <td>20to5</td>\n",
       "    </tr>\n",
       "    <tr>\n",
       "      <th>5750</th>\n",
       "      <td>123866</td>\n",
       "      <td>5,005.00</td>\n",
       "      <td>5.00</td>\n",
       "      <td>p</td>\n",
       "      <td>WSF Fauntleroy-Vashn</td>\n",
       "      <td>63.80</td>\n",
       "      <td>20.00</td>\n",
       "      <td>7.00</td>\n",
       "      <td>20to5</td>\n",
       "    </tr>\n",
       "  </tbody>\n",
       "</table>\n",
       "<p>5751 rows � 9 columns</p>\n",
       "</div>"
      ],
      "text/plain": [
       "      line_id  route_code  agency_code mode           description  boardings  \\\n",
       "0      123001    3,101.00         3.00    b  101 Mar P&R-Aur Vill       6.64   \n",
       "1      123002    3,101.00         3.00    b  101 Mar P&R-Aur Vill       2.06   \n",
       "2      123003    3,105.00         3.00    b  105 Mariner P&R-Both       6.71   \n",
       "3      123005    3,105.00         3.00    b  105 Mariner P&R-Both       5.25   \n",
       "4      123007    3,106.00         3.00    b  106 Mariner P&R-Both       5.68   \n",
       "...       ...         ...          ...  ...                   ...        ...   \n",
       "5746   123862    5,002.00         5.00    f  WSF Seattle-Bain Isl     169.29   \n",
       "5747   123863    5,003.00         5.00    f      WSF Seattle-Brem       0.00   \n",
       "5748   123864    5,001.00         5.00    f  WSF Edmonds-Kingston       7.00   \n",
       "5749   123865    5,004.00         5.00    p  WSF Fauntleroy-Swrth      30.49   \n",
       "5750   123866    5,005.00         5.00    p  WSF Fauntleroy-Vashn      63.80   \n",
       "\n",
       "      time  transit_type    tod  \n",
       "0    24.25          1.00   5to6  \n",
       "1    25.29          1.00   5to6  \n",
       "2    46.56          1.00   5to6  \n",
       "3    46.54          1.00   5to6  \n",
       "4    44.86          1.00   5to6  \n",
       "...    ...           ...    ...  \n",
       "5746 35.00          7.00  20to5  \n",
       "5747 60.00          7.00  20to5  \n",
       "5748 30.00          7.00  20to5  \n",
       "5749 30.00          7.00  20to5  \n",
       "5750 20.00          7.00  20to5  \n",
       "\n",
       "[5751 rows x 9 columns]"
      ]
     },
     "execution_count": 24,
     "metadata": {},
     "output_type": "execute_result"
    }
   ],
   "source": [
    "# df_transit_line"
   ]
  },
  {
   "cell_type": "markdown",
   "id": "6e6c5ead64d64e8c",
   "metadata": {},
   "source": [
    "### boarding on lines by agency"
   ]
  },
  {
   "cell_type": "code",
   "execution_count": 22,
   "id": "95db4119eb938544",
   "metadata": {
    "ExecuteTime": {
     "end_time": "2024-06-24T19:52:55.951969Z",
     "start_time": "2024-06-24T19:52:54.937995Z"
    },
    "execution": {
     "iopub.execute_input": "2024-12-14T02:38:41.171718Z",
     "iopub.status.busy": "2024-12-14T02:38:41.170721Z",
     "iopub.status.idle": "2024-12-14T02:38:42.833012Z",
     "shell.execute_reply": "2024-12-14T02:38:42.831017Z"
    }
   },
   "outputs": [
    {
     "name": "stdout",
     "output_type": "stream",
     "text": [
      "r^2 Community Transit: 0.9758963507507217\n",
      "r^2 Everett Transit: 0.9901989991466609\n",
      "r^2 King County Metro: 0.944544271228292\n",
      "r^2 Kitsap Transit: 0.9397759555727957\n",
      "r^2 Pierce Transit: 0.8010515881545077\n",
      "r^2 Sound Transit: 0.9984017212757952\n",
      "r^2 Washington Ferries: 0.9553681943486114\n"
     ]
    },
    {
     "data": {
      "image/png": "[encoded data removed]",
      "text/plain": [
       "<Figure size 640x480 with 1 Axes>"
      ]
     },
     "metadata": {},
     "output_type": "display_data"
    },
    {
     "data": {
      "image/png": "[encoded data removed]",
      "text/plain": [
       "<Figure size 640x480 with 1 Axes>"
      ]
     },
     "metadata": {},
     "output_type": "display_data"
    },
    {
     "data": {
      "image/png": "[encoded data removed]",
      "text/plain": [
       "<Figure size 640x480 with 1 Axes>"
      ]
     },
     "metadata": {},
     "output_type": "display_data"
    },
    {
     "data": {
      "image/png": "[encoded data removed]",
      "text/plain": [
       "<Figure size 640x480 with 1 Axes>"
      ]
     },
     "metadata": {},
     "output_type": "display_data"
    },
    {
     "data": {
      "image/png": "[encoded data removed]",
      "text/plain": [
       "<Figure size 640x480 with 1 Axes>"
      ]
     },
     "metadata": {},
     "output_type": "display_data"
    },
    {
     "data": {
      "image/png": "[encoded data removed]",
      "text/plain": [
       "<Figure size 640x480 with 1 Axes>"
      ]
     },
     "metadata": {},
     "output_type": "display_data"
    },
    {
     "data": {
      "image/png": "[encoded data removed]",
      "text/plain": [
       "<Figure size 640x480 with 1 Axes>"
      ]
     },
     "metadata": {},
     "output_type": "display_data"
    }
   ],
   "source": [
    "#| layout-ncol: 2\n",
    "df = pd.read_csv(os.path.join(csv_path,'daily_boardings_by_line.csv'), index_col='agency')\n",
    "df = df[-df['agency_id'].isnull()]\n",
    "\n",
    "for agency in np.unique(df.index):\n",
    "    _df = df.loc[agency,:]\n",
    "    if (type(_df) == pd.core.frame.DataFrame) & (len(df) > 0):\n",
    "        ax = _df.plot(kind='scatter', x='observed_boardings', y='model_boardings', label=agency)\n",
    "        lim = _df[['observed_boardings','model_boardings']].max().max()*1.05\n",
    "        ax.set_ylim(0,lim)\n",
    "        ax.set_xlim(0,lim)\n",
    "        x = np.linspace(*ax.get_xlim())\n",
    "        ax.plot(x, x)\n",
    "        slope, intercept, r_value, p_value, std_err = stats.linregress(_df['observed_boardings'],_df['model_boardings'])\n",
    "        print('r^2 ' + str(agency) + ': ' + str(r_value))"
   ]
  },
  {
   "cell_type": "markdown",
   "id": "4539ddda98821ff2",
   "metadata": {},
   "source": [
    "### boarding by light rail station"
   ]
  },
  {
   "cell_type": "raw",
   "id": "1a2860ab52ea5101",
   "metadata": {
    "vscode": {
     "languageId": "raw"
    }
   },
   "source": [
    ":::{.panel-tabset}\n",
    "#### 1 Line"
   ]
  },
  {
   "cell_type": "code",
   "execution_count": 23,
   "id": "2c245b8117693726",
   "metadata": {
    "ExecuteTime": {
     "end_time": "2024-06-24T20:06:01.435477Z",
     "start_time": "2024-06-24T20:06:01.389414Z"
    },
    "execution": {
     "iopub.execute_input": "2024-12-14T02:38:42.844979Z",
     "iopub.status.busy": "2024-12-14T02:38:42.843982Z",
     "iopub.status.idle": "2024-12-14T02:38:42.910989Z",
     "shell.execute_reply": "2024-12-14T02:38:42.908994Z"
    }
   },
   "outputs": [],
   "source": [
    "df = pd.read_csv(os.path.join(csv_path,'light_rail_boardings.csv'), index_col='station_name')\n",
    "df['diff'] = df['model_boardings']-df['observed_boardings']\n",
    "df['percent_diff'] = df['diff']/df['observed_boardings']\n",
    "\n",
    "df_table = df.copy()\n",
    "df_table[['percent_diff']] = df_table[['percent_diff']].applymap(format_percent)\n",
    "df_table\n",
    "\n",
    "line_1_station_list = ['Northgate Station','Roosevelt Station','University District Station', \n",
    "                'Husky Stadium', 'Capitol Hill', 'Westlake', 'Symphony', 'Pioneer Square',\n",
    "                \"Int'l District\",  'Stadium', 'SODO', 'Beacon Hill',\n",
    "               'Mount Baker', 'Columbia City', 'Othello', 'Rainier Beach',\n",
    "                \"Tukwila Int'l Blvd\", 'SeaTac/Airport', 'Angle Lake']\n",
    "t_line_station_list = ['Tacoma Dome Station', 'S 25th St Station', 'Union Station',\n",
    "       'Convention Center Station', 'Commerce Station']"
   ]
  },
  {
   "cell_type": "code",
   "execution_count": 24,
   "id": "d1ef9fda",
   "metadata": {},
   "outputs": [
    {
     "data": {
      "application/vnd.microsoft.datawrangler.viewer.v0+json": {
       "columns": [
        {
         "name": "station_name",
         "rawType": "object",
         "type": "string"
        },
        {
         "name": "observed_boardings",
         "rawType": "float64",
         "type": "float"
        },
        {
         "name": "model_boardings",
         "rawType": "float64",
         "type": "float"
        },
        {
         "name": "diff",
         "rawType": "float64",
         "type": "float"
        },
        {
         "name": "percent_diff",
         "rawType": "object",
         "type": "string"
        }
       ],
       "conversionMethod": "pd.DataFrame",
       "ref": "9717f4af-e58f-4fc0-a82a-adc9d0e3e1b5",
       "rows": [
        [
         "Northgate Station",
         "10384.0",
         "7915.413940429687",
         "-2468.5860595703134",
         "-23.77%"
        ],
        [
         "Roosevelt Station",
         "4349.0",
         "10399.265974998474",
         "6050.265974998474",
         "139.12%"
        ],
        [
         "University District Station",
         "7563.0",
         "8207.286915302277",
         "644.2869153022766",
         "8.52%"
        ],
        [
         "Husky Stadium",
         "6134.0",
         "4346.89222407341",
         "-1787.10777592659",
         "-29.13%"
        ],
        [
         "Capitol Hill",
         "7667.0",
         "9098.025134086609",
         "1431.025134086609",
         "18.66%"
        ],
        [
         "Westlake",
         "8845.0",
         "12222.364954948423",
         "3377.3649549484235",
         "38.18%"
        ],
        [
         "Symphony",
         "4324.0",
         "7100.927542686462",
         "2776.9275426864624",
         "64.22%"
        ],
        [
         "Pioneer Square",
         "2400.0",
         "5939.395791053772",
         "3539.395791053772",
         "147.47%"
        ],
        [
         "Int'l District",
         "4399.0",
         "2095.164200782776",
         "-2303.835799217224",
         "-52.37%"
        ],
        [
         "Stadium",
         "1731.0",
         "364.79155834019184",
         "-1366.2084416598082",
         "-78.93%"
        ],
        [
         "SODO",
         "1669.0",
         "2764.5587940216064",
         "1095.5587940216064",
         "65.64%"
        ],
        [
         "Beacon Hill",
         "2147.0",
         "1586.2903391122818",
         "-560.7096608877182",
         "-26.12%"
        ],
        [
         "Mount Baker",
         "1861.0",
         "2021.534492969513",
         "160.53449296951294",
         "8.63%"
        ],
        [
         "Columbia City",
         "1630.0",
         "2085.997603654861",
         "455.997603654861",
         "27.98%"
        ],
        [
         "Othello",
         "2030.0",
         "2553.4916553497314",
         "523.4916553497314",
         "25.79%"
        ],
        [
         "Rainier Beach",
         "1495.0",
         "2054.444358825684",
         "559.444358825684",
         "37.42%"
        ],
        [
         "Tukwila Int'l Blvd",
         "2298.0",
         "3332.7417664527893",
         "1034.7417664527893",
         "45.03%"
        ],
        [
         "SeaTac/Airport",
         "4731.0",
         "6326.295556664467",
         "1595.2955566644669",
         "33.72%"
        ],
        [
         "Angle Lake",
         "3865.0",
         "3367.8624114990234",
         "-497.13758850097656",
         "-12.86%"
        ]
       ],
       "shape": {
        "columns": 4,
        "rows": 19
       }
      },
      "text/html": [
       "<div>\n",
       "<style scoped>\n",
       "    .dataframe tbody tr th:only-of-type {\n",
       "        vertical-align: middle;\n",
       "    }\n",
       "\n",
       "    .dataframe tbody tr th {\n",
       "        vertical-align: top;\n",
       "    }\n",
       "\n",
       "    .dataframe thead th {\n",
       "        text-align: right;\n",
       "    }\n",
       "</style>\n",
       "<table border=\"1\" class=\"dataframe\">\n",
       "  <thead>\n",
       "    <tr style=\"text-align: right;\">\n",
       "      <th></th>\n",
       "      <th>observed_boardings</th>\n",
       "      <th>model_boardings</th>\n",
       "      <th>diff</th>\n",
       "      <th>percent_diff</th>\n",
       "    </tr>\n",
       "    <tr>\n",
       "      <th>station_name</th>\n",
       "      <th></th>\n",
       "      <th></th>\n",
       "      <th></th>\n",
       "      <th></th>\n",
       "    </tr>\n",
       "  </thead>\n",
       "  <tbody>\n",
       "    <tr>\n",
       "      <th>Northgate Station</th>\n",
       "      <td>10,384.00</td>\n",
       "      <td>7,915.41</td>\n",
       "      <td>-2,468.59</td>\n",
       "      <td>-23.77%</td>\n",
       "    </tr>\n",
       "    <tr>\n",
       "      <th>Roosevelt Station</th>\n",
       "      <td>4,349.00</td>\n",
       "      <td>10,399.27</td>\n",
       "      <td>6,050.27</td>\n",
       "      <td>139.12%</td>\n",
       "    </tr>\n",
       "    <tr>\n",
       "      <th>University District Station</th>\n",
       "      <td>7,563.00</td>\n",
       "      <td>8,207.29</td>\n",
       "      <td>644.29</td>\n",
       "      <td>8.52%</td>\n",
       "    </tr>\n",
       "    <tr>\n",
       "      <th>Husky Stadium</th>\n",
       "      <td>6,134.00</td>\n",
       "      <td>4,346.89</td>\n",
       "      <td>-1,787.11</td>\n",
       "      <td>-29.13%</td>\n",
       "    </tr>\n",
       "    <tr>\n",
       "      <th>Capitol Hill</th>\n",
       "      <td>7,667.00</td>\n",
       "      <td>9,098.03</td>\n",
       "      <td>1,431.03</td>\n",
       "      <td>18.66%</td>\n",
       "    </tr>\n",
       "    <tr>\n",
       "      <th>Westlake</th>\n",
       "      <td>8,845.00</td>\n",
       "      <td>12,222.36</td>\n",
       "      <td>3,377.36</td>\n",
       "      <td>38.18%</td>\n",
       "    </tr>\n",
       "    <tr>\n",
       "      <th>Symphony</th>\n",
       "      <td>4,324.00</td>\n",
       "      <td>7,100.93</td>\n",
       "      <td>2,776.93</td>\n",
       "      <td>64.22%</td>\n",
       "    </tr>\n",
       "    <tr>\n",
       "      <th>Pioneer Square</th>\n",
       "      <td>2,400.00</td>\n",
       "      <td>5,939.40</td>\n",
       "      <td>3,539.40</td>\n",
       "      <td>147.47%</td>\n",
       "    </tr>\n",
       "    <tr>\n",
       "      <th>Int'l District</th>\n",
       "      <td>4,399.00</td>\n",
       "      <td>2,095.16</td>\n",
       "      <td>-2,303.84</td>\n",
       "      <td>-52.37%</td>\n",
       "    </tr>\n",
       "    <tr>\n",
       "      <th>Stadium</th>\n",
       "      <td>1,731.00</td>\n",
       "      <td>364.79</td>\n",
       "      <td>-1,366.21</td>\n",
       "      <td>-78.93%</td>\n",
       "    </tr>\n",
       "    <tr>\n",
       "      <th>SODO</th>\n",
       "      <td>1,669.00</td>\n",
       "      <td>2,764.56</td>\n",
       "      <td>1,095.56</td>\n",
       "      <td>65.64%</td>\n",
       "    </tr>\n",
       "    <tr>\n",
       "      <th>Beacon Hill</th>\n",
       "      <td>2,147.00</td>\n",
       "      <td>1,586.29</td>\n",
       "      <td>-560.71</td>\n",
       "      <td>-26.12%</td>\n",
       "    </tr>\n",
       "    <tr>\n",
       "      <th>Mount Baker</th>\n",
       "      <td>1,861.00</td>\n",
       "      <td>2,021.53</td>\n",
       "      <td>160.53</td>\n",
       "      <td>8.63%</td>\n",
       "    </tr>\n",
       "    <tr>\n",
       "      <th>Columbia City</th>\n",
       "      <td>1,630.00</td>\n",
       "      <td>2,086.00</td>\n",
       "      <td>456.00</td>\n",
       "      <td>27.98%</td>\n",
       "    </tr>\n",
       "    <tr>\n",
       "      <th>Othello</th>\n",
       "      <td>2,030.00</td>\n",
       "      <td>2,553.49</td>\n",
       "      <td>523.49</td>\n",
       "      <td>25.79%</td>\n",
       "    </tr>\n",
       "    <tr>\n",
       "      <th>Rainier Beach</th>\n",
       "      <td>1,495.00</td>\n",
       "      <td>2,054.44</td>\n",
       "      <td>559.44</td>\n",
       "      <td>37.42%</td>\n",
       "    </tr>\n",
       "    <tr>\n",
       "      <th>Tukwila Int'l Blvd</th>\n",
       "      <td>2,298.00</td>\n",
       "      <td>3,332.74</td>\n",
       "      <td>1,034.74</td>\n",
       "      <td>45.03%</td>\n",
       "    </tr>\n",
       "    <tr>\n",
       "      <th>SeaTac/Airport</th>\n",
       "      <td>4,731.00</td>\n",
       "      <td>6,326.30</td>\n",
       "      <td>1,595.30</td>\n",
       "      <td>33.72%</td>\n",
       "    </tr>\n",
       "    <tr>\n",
       "      <th>Angle Lake</th>\n",
       "      <td>3,865.00</td>\n",
       "      <td>3,367.86</td>\n",
       "      <td>-497.14</td>\n",
       "      <td>-12.86%</td>\n",
       "    </tr>\n",
       "  </tbody>\n",
       "</table>\n",
       "</div>"
      ],
      "text/plain": [
       "                             observed_boardings  model_boardings      diff  \\\n",
       "station_name                                                                 \n",
       "Northgate Station                     10,384.00         7,915.41 -2,468.59   \n",
       "Roosevelt Station                      4,349.00        10,399.27  6,050.27   \n",
       "University District Station            7,563.00         8,207.29    644.29   \n",
       "Husky Stadium                          6,134.00         4,346.89 -1,787.11   \n",
       "Capitol Hill                           7,667.00         9,098.03  1,431.03   \n",
       "Westlake                               8,845.00        12,222.36  3,377.36   \n",
       "Symphony                               4,324.00         7,100.93  2,776.93   \n",
       "Pioneer Square                         2,400.00         5,939.40  3,539.40   \n",
       "Int'l District                         4,399.00         2,095.16 -2,303.84   \n",
       "Stadium                                1,731.00           364.79 -1,366.21   \n",
       "SODO                                   1,669.00         2,764.56  1,095.56   \n",
       "Beacon Hill                            2,147.00         1,586.29   -560.71   \n",
       "Mount Baker                            1,861.00         2,021.53    160.53   \n",
       "Columbia City                          1,630.00         2,086.00    456.00   \n",
       "Othello                                2,030.00         2,553.49    523.49   \n",
       "Rainier Beach                          1,495.00         2,054.44    559.44   \n",
       "Tukwila Int'l Blvd                     2,298.00         3,332.74  1,034.74   \n",
       "SeaTac/Airport                         4,731.00         6,326.30  1,595.30   \n",
       "Angle Lake                             3,865.00         3,367.86   -497.14   \n",
       "\n",
       "                            percent_diff  \n",
       "station_name                              \n",
       "Northgate Station                -23.77%  \n",
       "Roosevelt Station                139.12%  \n",
       "University District Station        8.52%  \n",
       "Husky Stadium                    -29.13%  \n",
       "Capitol Hill                      18.66%  \n",
       "Westlake                          38.18%  \n",
       "Symphony                          64.22%  \n",
       "Pioneer Square                   147.47%  \n",
       "Int'l District                   -52.37%  \n",
       "Stadium                          -78.93%  \n",
       "SODO                              65.64%  \n",
       "Beacon Hill                      -26.12%  \n",
       "Mount Baker                        8.63%  \n",
       "Columbia City                     27.98%  \n",
       "Othello                           25.79%  \n",
       "Rainier Beach                     37.42%  \n",
       "Tukwila Int'l Blvd                45.03%  \n",
       "SeaTac/Airport                    33.72%  \n",
       "Angle Lake                       -12.86%  "
      ]
     },
     "execution_count": 24,
     "metadata": {},
     "output_type": "execute_result"
    }
   ],
   "source": [
    "line_1_df = df_table.loc[line_1_station_list]\n",
    "line_1_df"
   ]
  },
  {
   "cell_type": "code",
   "execution_count": 25,
   "id": "76eb1c04",
   "metadata": {},
   "outputs": [
    {
     "data": {
      "application/vnd.plotly.v1+json": {
       "config": {
        "plotlyServerURL": "https://plot.ly"
       },
       "data": [
        {
         "hovertemplate": "variable=observed_boardings<br>station_name=%{x}<br>value=%{y}<extra></extra>",
         "legendgroup": "observed_boardings",
         "line": {
          "color": "#91268F",
          "dash": "solid"
         },
         "marker": {
          "symbol": "circle"
         },
         "mode": "lines",
         "name": "observed_boardings",
         "orientation": "v",
         "showlegend": true,
         "type": "scatter",
         "x": [
          "Northgate Station",
          "Roosevelt Station",
          "University District Station",
          "Husky Stadium",
          "Capitol Hill",
          "Westlake",
          "Symphony",
          "Pioneer Square",
          "Int'l District",
          "Stadium",
          "SODO",
          "Beacon Hill",
          "Mount Baker",
          "Columbia City",
          "Othello",
          "Rainier Beach",
          "Tukwila Int'l Blvd",
          "SeaTac/Airport",
          "Angle Lake"
         ],
         "xaxis": "x",
         "y": [
          10384,
          4349,
          7563,
          6134,
          7667,
          8845,
          4324,
          2400,
          4399,
          1731,
          1669,
          2147,
          1861,
          1630,
          2030,
          1495,
          2298,
          4731,
          3865
         ],
         "yaxis": "y"
        },
        {
         "hovertemplate": "variable=model_boardings<br>station_name=%{x}<br>value=%{y}<extra></extra>",
         "legendgroup": "model_boardings",
         "line": {
          "color": "#8CC63E",
          "dash": "solid"
         },
         "marker": {
          "symbol": "circle"
         },
         "mode": "lines",
         "name": "model_boardings",
         "orientation": "v",
         "showlegend": true,
         "type": "scatter",
         "x": [
          "Northgate Station",
          "Roosevelt Station",
          "University District Station",
          "Husky Stadium",
          "Capitol Hill",
          "Westlake",
          "Symphony",
          "Pioneer Square",
          "Int'l District",
          "Stadium",
          "SODO",
          "Beacon Hill",
          "Mount Baker",
          "Columbia City",
          "Othello",
          "Rainier Beach",
          "Tukwila Int'l Blvd",
          "SeaTac/Airport",
          "Angle Lake"
         ],
         "xaxis": "x",
         "y": [
          7915.413940429687,
          10399.265974998474,
          8207.286915302277,
          4346.89222407341,
          9098.025134086609,
          12222.364954948423,
          7100.927542686462,
          5939.395791053772,
          2095.164200782776,
          364.79155834019184,
          2764.5587940216064,
          1586.2903391122818,
          2021.534492969513,
          2085.997603654861,
          2553.4916553497314,
          2054.444358825684,
          3332.7417664527893,
          6326.295556664467,
          3367.8624114990234
         ],
         "yaxis": "y"
        }
       ],
       "layout": {
        "font": {
         "size": 11
        },
        "height": 500,
        "legend": {
         "title": {
          "text": "variable"
         },
         "tracegroupgap": 0
        },
        "margin": {
         "t": 60
        },
        "template": {
         "data": {
          "bar": [
           {
            "error_x": {
             "color": "rgb(36,36,36)"
            },
            "error_y": {
             "color": "rgb(36,36,36)"
            },
            "marker": {
             "line": {
              "color": "white",
              "width": 0.5
             },
             "pattern": {
              "fillmode": "overlay",
              "size": 10,
              "solidity": 0.2
             }
            },
            "type": "bar"
           }
          ],
          "barpolar": [
           {
            "marker": {
             "line": {
              "color": "white",
              "width": 0.5
             },
             "pattern": {
              "fillmode": "overlay",
              "size": 10,
              "solidity": 0.2
             }
            },
            "type": "barpolar"
           }
          ],
          "carpet": [
           {
            "aaxis": {
             "endlinecolor": "rgb(36,36,36)",
             "gridcolor": "white",
             "linecolor": "white",
             "minorgridcolor": "white",
             "startlinecolor": "rgb(36,36,36)"
            },
            "baxis": {
             "endlinecolor": "rgb(36,36,36)",
             "gridcolor": "white",
             "linecolor": "white",
             "minorgridcolor": "white",
             "startlinecolor": "rgb(36,36,36)"
            },
            "type": "carpet"
           }
          ],
          "choropleth": [
           {
            "colorbar": {
             "outlinewidth": 1,
             "tickcolor": "rgb(36,36,36)",
             "ticks": "outside"
            },
            "type": "choropleth"
           }
          ],
          "contour": [
           {
            "colorbar": {
             "outlinewidth": 1,
             "tickcolor": "rgb(36,36,36)",
             "ticks": "outside"
            },
            "colorscale": [
             [
              0,
              "#440154"
             ],
             [
              0.1111111111111111,
              "#482878"
             ],
             [
              0.2222222222222222,
              "#3e4989"
             ],
             [
              0.3333333333333333,
              "#31688e"
             ],
             [
              0.4444444444444444,
              "#26828e"
             ],
             [
              0.5555555555555556,
              "#1f9e89"
             ],
             [
              0.6666666666666666,
              "#35b779"
             ],
             [
              0.7777777777777778,
              "#6ece58"
             ],
             [
              0.8888888888888888,
              "#b5de2b"
             ],
             [
              1,
              "#fde725"
             ]
            ],
            "type": "contour"
           }
          ],
          "contourcarpet": [
           {
            "colorbar": {
             "outlinewidth": 1,
             "tickcolor": "rgb(36,36,36)",
             "ticks": "outside"
            },
            "type": "contourcarpet"
           }
          ],
          "heatmap": [
           {
            "colorbar": {
             "outlinewidth": 1,
             "tickcolor": "rgb(36,36,36)",
             "ticks": "outside"
            },
            "colorscale": [
             [
              0,
              "#440154"
             ],
             [
              0.1111111111111111,
              "#482878"
             ],
             [
              0.2222222222222222,
              "#3e4989"
             ],
             [
              0.3333333333333333,
              "#31688e"
             ],
             [
              0.4444444444444444,
              "#26828e"
             ],
             [
              0.5555555555555556,
              "#1f9e89"
             ],
             [
              0.6666666666666666,
              "#35b779"
             ],
             [
              0.7777777777777778,
              "#6ece58"
             ],
             [
              0.8888888888888888,
              "#b5de2b"
             ],
             [
              1,
              "#fde725"
             ]
            ],
            "type": "heatmap"
           }
          ],
          "heatmapgl": [
           {
            "colorbar": {
             "outlinewidth": 1,
             "tickcolor": "rgb(36,36,36)",
             "ticks": "outside"
            },
            "colorscale": [
             [
              0,
              "#440154"
             ],
             [
              0.1111111111111111,
              "#482878"
             ],
             [
              0.2222222222222222,
              "#3e4989"
             ],
             [
              0.3333333333333333,
              "#31688e"
             ],
             [
              0.4444444444444444,
              "#26828e"
             ],
             [
              0.5555555555555556,
              "#1f9e89"
             ],
             [
              0.6666666666666666,
              "#35b779"
             ],
             [
              0.7777777777777778,
              "#6ece58"
             ],
             [
              0.8888888888888888,
              "#b5de2b"
             ],
             [
              1,
              "#fde725"
             ]
            ],
            "type": "heatmapgl"
           }
          ],
          "histogram": [
           {
            "marker": {
             "line": {
              "color": "white",
              "width": 0.6
             }
            },
            "type": "histogram"
           }
          ],
          "histogram2d": [
           {
            "colorbar": {
             "outlinewidth": 1,
             "tickcolor": "rgb(36,36,36)",
             "ticks": "outside"
            },
            "colorscale": [
             [
              0,
              "#440154"
             ],
             [
              0.1111111111111111,
              "#482878"
             ],
             [
              0.2222222222222222,
              "#3e4989"
             ],
             [
              0.3333333333333333,
              "#31688e"
             ],
             [
              0.4444444444444444,
              "#26828e"
             ],
             [
              0.5555555555555556,
              "#1f9e89"
             ],
             [
              0.6666666666666666,
              "#35b779"
             ],
             [
              0.7777777777777778,
              "#6ece58"
             ],
             [
              0.8888888888888888,
              "#b5de2b"
             ],
             [
              1,
              "#fde725"
             ]
            ],
            "type": "histogram2d"
           }
          ],
          "histogram2dcontour": [
           {
            "colorbar": {
             "outlinewidth": 1,
             "tickcolor": "rgb(36,36,36)",
             "ticks": "outside"
            },
            "colorscale": [
             [
              0,
              "#440154"
             ],
             [
              0.1111111111111111,
              "#482878"
             ],
             [
              0.2222222222222222,
              "#3e4989"
             ],
             [
              0.3333333333333333,
              "#31688e"
             ],
             [
              0.4444444444444444,
              "#26828e"
             ],
             [
              0.5555555555555556,
              "#1f9e89"
             ],
             [
              0.6666666666666666,
              "#35b779"
             ],
             [
              0.7777777777777778,
              "#6ece58"
             ],
             [
              0.8888888888888888,
              "#b5de2b"
             ],
             [
              1,
              "#fde725"
             ]
            ],
            "type": "histogram2dcontour"
           }
          ],
          "mesh3d": [
           {
            "colorbar": {
             "outlinewidth": 1,
             "tickcolor": "rgb(36,36,36)",
             "ticks": "outside"
            },
            "type": "mesh3d"
           }
          ],
          "parcoords": [
           {
            "line": {
             "colorbar": {
              "outlinewidth": 1,
              "tickcolor": "rgb(36,36,36)",
              "ticks": "outside"
             }
            },
            "type": "parcoords"
           }
          ],
          "pie": [
           {
            "automargin": true,
            "type": "pie"
           }
          ],
          "scatter": [
           {
            "fillpattern": {
             "fillmode": "overlay",
             "size": 10,
             "solidity": 0.2
            },
            "type": "scatter"
           }
          ],
          "scatter3d": [
           {
            "line": {
             "colorbar": {
              "outlinewidth": 1,
              "tickcolor": "rgb(36,36,36)",
              "ticks": "outside"
             }
            },
            "marker": {
             "colorbar": {
              "outlinewidth": 1,
              "tickcolor": "rgb(36,36,36)",
              "ticks": "outside"
             }
            },
            "type": "scatter3d"
           }
          ],
          "scattercarpet": [
           {
            "marker": {
             "colorbar": {
              "outlinewidth": 1,
              "tickcolor": "rgb(36,36,36)",
              "ticks": "outside"
             }
            },
            "type": "scattercarpet"
           }
          ],
          "scattergeo": [
           {
            "marker": {
             "colorbar": {
              "outlinewidth": 1,
              "tickcolor": "rgb(36,36,36)",
              "ticks": "outside"
             }
            },
            "type": "scattergeo"
           }
          ],
          "scattergl": [
           {
            "marker": {
             "colorbar": {
              "outlinewidth": 1,
              "tickcolor": "rgb(36,36,36)",
              "ticks": "outside"
             }
            },
            "type": "scattergl"
           }
          ],
          "scattermapbox": [
           {
            "marker": {
             "colorbar": {
              "outlinewidth": 1,
              "tickcolor": "rgb(36,36,36)",
              "ticks": "outside"
             }
            },
            "type": "scattermapbox"
           }
          ],
          "scatterpolar": [
           {
            "marker": {
             "colorbar": {
              "outlinewidth": 1,
              "tickcolor": "rgb(36,36,36)",
              "ticks": "outside"
             }
            },
            "type": "scatterpolar"
           }
          ],
          "scatterpolargl": [
           {
            "marker": {
             "colorbar": {
              "outlinewidth": 1,
              "tickcolor": "rgb(36,36,36)",
              "ticks": "outside"
             }
            },
            "type": "scatterpolargl"
           }
          ],
          "scatterternary": [
           {
            "marker": {
             "colorbar": {
              "outlinewidth": 1,
              "tickcolor": "rgb(36,36,36)",
              "ticks": "outside"
             }
            },
            "type": "scatterternary"
           }
          ],
          "surface": [
           {
            "colorbar": {
             "outlinewidth": 1,
             "tickcolor": "rgb(36,36,36)",
             "ticks": "outside"
            },
            "colorscale": [
             [
              0,
              "#440154"
             ],
             [
              0.1111111111111111,
              "#482878"
             ],
             [
              0.2222222222222222,
              "#3e4989"
             ],
             [
              0.3333333333333333,
              "#31688e"
             ],
             [
              0.4444444444444444,
              "#26828e"
             ],
             [
              0.5555555555555556,
              "#1f9e89"
             ],
             [
              0.6666666666666666,
              "#35b779"
             ],
             [
              0.7777777777777778,
              "#6ece58"
             ],
             [
              0.8888888888888888,
              "#b5de2b"
             ],
             [
              1,
              "#fde725"
             ]
            ],
            "type": "surface"
           }
          ],
          "table": [
           {
            "cells": {
             "fill": {
              "color": "rgb(237,237,237)"
             },
             "line": {
              "color": "white"
             }
            },
            "header": {
             "fill": {
              "color": "rgb(217,217,217)"
             },
             "line": {
              "color": "white"
             }
            },
            "type": "table"
           }
          ]
         },
         "layout": {
          "annotationdefaults": {
           "arrowhead": 0,
           "arrowwidth": 1
          },
          "autotypenumbers": "strict",
          "coloraxis": {
           "colorbar": {
            "outlinewidth": 1,
            "tickcolor": "rgb(36,36,36)",
            "ticks": "outside"
           }
          },
          "colorscale": {
           "diverging": [
            [
             0,
             "rgb(103,0,31)"
            ],
            [
             0.1,
             "rgb(178,24,43)"
            ],
            [
             0.2,
             "rgb(214,96,77)"
            ],
            [
             0.3,
             "rgb(244,165,130)"
            ],
            [
             0.4,
             "rgb(253,219,199)"
            ],
            [
             0.5,
             "rgb(247,247,247)"
            ],
            [
             0.6,
             "rgb(209,229,240)"
            ],
            [
             0.7,
             "rgb(146,197,222)"
            ],
            [
             0.8,
             "rgb(67,147,195)"
            ],
            [
             0.9,
             "rgb(33,102,172)"
            ],
            [
             1,
             "rgb(5,48,97)"
            ]
           ],
           "sequential": [
            [
             0,
             "#440154"
            ],
            [
             0.1111111111111111,
             "#482878"
            ],
            [
             0.2222222222222222,
             "#3e4989"
            ],
            [
             0.3333333333333333,
             "#31688e"
            ],
            [
             0.4444444444444444,
             "#26828e"
            ],
            [
             0.5555555555555556,
             "#1f9e89"
            ],
            [
             0.6666666666666666,
             "#35b779"
            ],
            [
             0.7777777777777778,
             "#6ece58"
            ],
            [
             0.8888888888888888,
             "#b5de2b"
            ],
            [
             1,
             "#fde725"
            ]
           ],
           "sequentialminus": [
            [
             0,
             "#440154"
            ],
            [
             0.1111111111111111,
             "#482878"
            ],
            [
             0.2222222222222222,
             "#3e4989"
            ],
            [
             0.3333333333333333,
             "#31688e"
            ],
            [
             0.4444444444444444,
             "#26828e"
            ],
            [
             0.5555555555555556,
             "#1f9e89"
            ],
            [
             0.6666666666666666,
             "#35b779"
            ],
            [
             0.7777777777777778,
             "#6ece58"
            ],
            [
             0.8888888888888888,
             "#b5de2b"
            ],
            [
             1,
             "#fde725"
            ]
           ]
          },
          "colorway": [
           "#91268F",
           "#8CC63E",
           "#00A7A0",
           "#F05A28",
           "#4C4C4C",
           "#630460",
           "#9f3913",
           "#588527",
           "#00716c",
           "#3e4040"
          ],
          "font": {
           "color": "rgb(36,36,36)",
           "family": "Poppins",
           "size": 11
          },
          "geo": {
           "bgcolor": "white",
           "lakecolor": "white",
           "landcolor": "white",
           "showlakes": true,
           "showland": true,
           "subunitcolor": "white"
          },
          "hoverlabel": {
           "align": "left"
          },
          "hovermode": "closest",
          "mapbox": {
           "style": "light"
          },
          "paper_bgcolor": "white",
          "plot_bgcolor": "white",
          "polar": {
           "angularaxis": {
            "gridcolor": "rgb(232,232,232)",
            "linecolor": "rgb(36,36,36)",
            "showgrid": false,
            "showline": true,
            "ticks": "outside"
           },
           "bgcolor": "white",
           "radialaxis": {
            "gridcolor": "rgb(232,232,232)",
            "linecolor": "rgb(36,36,36)",
            "showgrid": false,
            "showline": true,
            "ticks": "outside"
           }
          },
          "scene": {
           "xaxis": {
            "backgroundcolor": "white",
            "gridcolor": "rgb(232,232,232)",
            "gridwidth": 2,
            "linecolor": "rgb(36,36,36)",
            "showbackground": true,
            "showgrid": false,
            "showline": true,
            "ticks": "outside",
            "zeroline": false,
            "zerolinecolor": "rgb(36,36,36)"
           },
           "yaxis": {
            "backgroundcolor": "white",
            "gridcolor": "rgb(232,232,232)",
            "gridwidth": 2,
            "linecolor": "rgb(36,36,36)",
            "showbackground": true,
            "showgrid": false,
            "showline": true,
            "ticks": "outside",
            "zeroline": false,
            "zerolinecolor": "rgb(36,36,36)"
           },
           "zaxis": {
            "backgroundcolor": "white",
            "gridcolor": "rgb(232,232,232)",
            "gridwidth": 2,
            "linecolor": "rgb(36,36,36)",
            "showbackground": true,
            "showgrid": false,
            "showline": true,
            "ticks": "outside",
            "zeroline": false,
            "zerolinecolor": "rgb(36,36,36)"
           }
          },
          "shapedefaults": {
           "fillcolor": "black",
           "line": {
            "width": 0
           },
           "opacity": 0.3
          },
          "ternary": {
           "aaxis": {
            "gridcolor": "rgb(232,232,232)",
            "linecolor": "rgb(36,36,36)",
            "showgrid": false,
            "showline": true,
            "ticks": "outside"
           },
           "baxis": {
            "gridcolor": "rgb(232,232,232)",
            "linecolor": "rgb(36,36,36)",
            "showgrid": false,
            "showline": true,
            "ticks": "outside"
           },
           "bgcolor": "white",
           "caxis": {
            "gridcolor": "rgb(232,232,232)",
            "linecolor": "rgb(36,36,36)",
            "showgrid": false,
            "showline": true,
            "ticks": "outside"
           }
          },
          "title": {
           "x": 0.05
          },
          "xaxis": {
           "automargin": true,
           "gridcolor": "rgb(232,232,232)",
           "linecolor": "rgb(36,36,36)",
           "showgrid": false,
           "showline": true,
           "ticks": "outside",
           "title": {
            "standoff": 15
           },
           "zeroline": false,
           "zerolinecolor": "rgb(36,36,36)"
          },
          "yaxis": {
           "automargin": true,
           "gridcolor": "rgb(232,232,232)",
           "linecolor": "rgb(36,36,36)",
           "showgrid": false,
           "showline": true,
           "ticks": "outside",
           "title": {
            "standoff": 15
           },
           "zeroline": false,
           "zerolinecolor": "rgb(36,36,36)"
          }
         }
        },
        "width": 900,
        "xaxis": {
         "anchor": "y",
         "domain": [
          0,
          1
         ],
         "title": {
          "text": "station_name"
         }
        },
        "yaxis": {
         "anchor": "x",
         "domain": [
          0,
          1
         ],
         "tickformat": ".00f",
         "title": {
          "text": "value"
         }
        }
       }
      },
      "text/html": [
       "<div>                            <div id=\"56106436-6372-409c-a7b6-00027a78cc62\" class=\"plotly-graph-div\" style=\"height:500px; width:900px;\"></div>            <script type=\"text/javascript\">                require([\"plotly\"], function(Plotly) {                    window.PLOTLYENV=window.PLOTLYENV || {};                                    if (document.getElementById(\"56106436-6372-409c-a7b6-00027a78cc62\")) {                    Plotly.newPlot(                        \"56106436-6372-409c-a7b6-00027a78cc62\",                        [{\"hovertemplate\":\"variable=observed_boardings\\u003cbr\\u003estation_name=%{x}\\u003cbr\\u003evalue=%{y}\\u003cextra\\u003e\\u003c\\u002fextra\\u003e\",\"legendgroup\":\"observed_boardings\",\"line\":{\"color\":\"#91268F\",\"dash\":\"solid\"},\"marker\":{\"symbol\":\"circle\"},\"mode\":\"lines\",\"name\":\"observed_boardings\",\"orientation\":\"v\",\"showlegend\":true,\"x\":[\"Northgate Station\",\"Roosevelt Station\",\"University District Station\",\"Husky Stadium\",\"Capitol Hill\",\"Westlake\",\"Symphony\",\"Pioneer Square\",\"Int'l District\",\"Stadium\",\"SODO\",\"Beacon Hill\",\"Mount Baker\",\"Columbia City\",\"Othello\",\"Rainier Beach\",\"Tukwila Int'l Blvd\",\"SeaTac\\u002fAirport\",\"Angle Lake\"],\"xaxis\":\"x\",\"y\":[10384.0,4349.0,7563.0,6134.0,7667.0,8845.0,4324.0,2400.0,4399.0,1731.0,1669.0,2147.0,1861.0,1630.0,2030.0,1495.0,2298.0,4731.0,3865.0],\"yaxis\":\"y\",\"type\":\"scatter\"},{\"hovertemplate\":\"variable=model_boardings\\u003cbr\\u003estation_name=%{x}\\u003cbr\\u003evalue=%{y}\\u003cextra\\u003e\\u003c\\u002fextra\\u003e\",\"legendgroup\":\"model_boardings\",\"line\":{\"color\":\"#8CC63E\",\"dash\":\"solid\"},\"marker\":{\"symbol\":\"circle\"},\"mode\":\"lines\",\"name\":\"model_boardings\",\"orientation\":\"v\",\"showlegend\":true,\"x\":[\"Northgate Station\",\"Roosevelt Station\",\"University District Station\",\"Husky Stadium\",\"Capitol Hill\",\"Westlake\",\"Symphony\",\"Pioneer Square\",\"Int'l District\",\"Stadium\",\"SODO\",\"Beacon Hill\",\"Mount Baker\",\"Columbia City\",\"Othello\",\"Rainier Beach\",\"Tukwila Int'l Blvd\",\"SeaTac\\u002fAirport\",\"Angle Lake\"],\"xaxis\":\"x\",\"y\":[7915.413940429687,10399.265974998474,8207.286915302277,4346.89222407341,9098.025134086609,12222.364954948423,7100.927542686462,5939.395791053772,2095.164200782776,364.79155834019184,2764.5587940216064,1586.2903391122818,2021.534492969513,2085.997603654861,2553.4916553497314,2054.444358825684,3332.7417664527893,6326.295556664467,3367.8624114990234],\"yaxis\":\"y\",\"type\":\"scatter\"}],                        {\"template\":{\"data\":{\"barpolar\":[{\"marker\":{\"line\":{\"color\":\"white\",\"width\":0.5},\"pattern\":{\"fillmode\":\"overlay\",\"size\":10,\"solidity\":0.2}},\"type\":\"barpolar\"}],\"bar\":[{\"error_x\":{\"color\":\"rgb(36,36,36)\"},\"error_y\":{\"color\":\"rgb(36,36,36)\"},\"marker\":{\"line\":{\"color\":\"white\",\"width\":0.5},\"pattern\":{\"fillmode\":\"overlay\",\"size\":10,\"solidity\":0.2}},\"type\":\"bar\"}],\"carpet\":[{\"aaxis\":{\"endlinecolor\":\"rgb(36,36,36)\",\"gridcolor\":\"white\",\"linecolor\":\"white\",\"minorgridcolor\":\"white\",\"startlinecolor\":\"rgb(36,36,36)\"},\"baxis\":{\"endlinecolor\":\"rgb(36,36,36)\",\"gridcolor\":\"white\",\"linecolor\":\"white\",\"minorgridcolor\":\"white\",\"startlinecolor\":\"rgb(36,36,36)\"},\"type\":\"carpet\"}],\"choropleth\":[{\"colorbar\":{\"outlinewidth\":1,\"tickcolor\":\"rgb(36,36,36)\",\"ticks\":\"outside\"},\"type\":\"choropleth\"}],\"contourcarpet\":[{\"colorbar\":{\"outlinewidth\":1,\"tickcolor\":\"rgb(36,36,36)\",\"ticks\":\"outside\"},\"type\":\"contourcarpet\"}],\"contour\":[{\"colorbar\":{\"outlinewidth\":1,\"tickcolor\":\"rgb(36,36,36)\",\"ticks\":\"outside\"},\"colorscale\":[[0.0,\"#440154\"],[0.1111111111111111,\"#482878\"],[0.2222222222222222,\"#3e4989\"],[0.3333333333333333,\"#31688e\"],[0.4444444444444444,\"#26828e\"],[0.5555555555555556,\"#1f9e89\"],[0.6666666666666666,\"#35b779\"],[0.7777777777777778,\"#6ece58\"],[0.8888888888888888,\"#b5de2b\"],[1.0,\"#fde725\"]],\"type\":\"contour\"}],\"heatmapgl\":[{\"colorbar\":{\"outlinewidth\":1,\"tickcolor\":\"rgb(36,36,36)\",\"ticks\":\"outside\"},\"colorscale\":[[0.0,\"#440154\"],[0.1111111111111111,\"#482878\"],[0.2222222222222222,\"#3e4989\"],[0.3333333333333333,\"#31688e\"],[0.4444444444444444,\"#26828e\"],[0.5555555555555556,\"#1f9e89\"],[0.6666666666666666,\"#35b779\"],[0.7777777777777778,\"#6ece58\"],[0.8888888888888888,\"#b5de2b\"],[1.0,\"#fde725\"]],\"type\":\"heatmapgl\"}],\"heatmap\":[{\"colorbar\":{\"outlinewidth\":1,\"tickcolor\":\"rgb(36,36,36)\",\"ticks\":\"outside\"},\"colorscale\":[[0.0,\"#440154\"],[0.1111111111111111,\"#482878\"],[0.2222222222222222,\"#3e4989\"],[0.3333333333333333,\"#31688e\"],[0.4444444444444444,\"#26828e\"],[0.5555555555555556,\"#1f9e89\"],[0.6666666666666666,\"#35b779\"],[0.7777777777777778,\"#6ece58\"],[0.8888888888888888,\"#b5de2b\"],[1.0,\"#fde725\"]],\"type\":\"heatmap\"}],\"histogram2dcontour\":[{\"colorbar\":{\"outlinewidth\":1,\"tickcolor\":\"rgb(36,36,36)\",\"ticks\":\"outside\"},\"colorscale\":[[0.0,\"#440154\"],[0.1111111111111111,\"#482878\"],[0.2222222222222222,\"#3e4989\"],[0.3333333333333333,\"#31688e\"],[0.4444444444444444,\"#26828e\"],[0.5555555555555556,\"#1f9e89\"],[0.6666666666666666,\"#35b779\"],[0.7777777777777778,\"#6ece58\"],[0.8888888888888888,\"#b5de2b\"],[1.0,\"#fde725\"]],\"type\":\"histogram2dcontour\"}],\"histogram2d\":[{\"colorbar\":{\"outlinewidth\":1,\"tickcolor\":\"rgb(36,36,36)\",\"ticks\":\"outside\"},\"colorscale\":[[0.0,\"#440154\"],[0.1111111111111111,\"#482878\"],[0.2222222222222222,\"#3e4989\"],[0.3333333333333333,\"#31688e\"],[0.4444444444444444,\"#26828e\"],[0.5555555555555556,\"#1f9e89\"],[0.6666666666666666,\"#35b779\"],[0.7777777777777778,\"#6ece58\"],[0.8888888888888888,\"#b5de2b\"],[1.0,\"#fde725\"]],\"type\":\"histogram2d\"}],\"histogram\":[{\"marker\":{\"line\":{\"color\":\"white\",\"width\":0.6}},\"type\":\"histogram\"}],\"mesh3d\":[{\"colorbar\":{\"outlinewidth\":1,\"tickcolor\":\"rgb(36,36,36)\",\"ticks\":\"outside\"},\"type\":\"mesh3d\"}],\"parcoords\":[{\"line\":{\"colorbar\":{\"outlinewidth\":1,\"tickcolor\":\"rgb(36,36,36)\",\"ticks\":\"outside\"}},\"type\":\"parcoords\"}],\"pie\":[{\"automargin\":true,\"type\":\"pie\"}],\"scatter3d\":[{\"line\":{\"colorbar\":{\"outlinewidth\":1,\"tickcolor\":\"rgb(36,36,36)\",\"ticks\":\"outside\"}},\"marker\":{\"colorbar\":{\"outlinewidth\":1,\"tickcolor\":\"rgb(36,36,36)\",\"ticks\":\"outside\"}},\"type\":\"scatter3d\"}],\"scattercarpet\":[{\"marker\":{\"colorbar\":{\"outlinewidth\":1,\"tickcolor\":\"rgb(36,36,36)\",\"ticks\":\"outside\"}},\"type\":\"scattercarpet\"}],\"scattergeo\":[{\"marker\":{\"colorbar\":{\"outlinewidth\":1,\"tickcolor\":\"rgb(36,36,36)\",\"ticks\":\"outside\"}},\"type\":\"scattergeo\"}],\"scattergl\":[{\"marker\":{\"colorbar\":{\"outlinewidth\":1,\"tickcolor\":\"rgb(36,36,36)\",\"ticks\":\"outside\"}},\"type\":\"scattergl\"}],\"scattermapbox\":[{\"marker\":{\"colorbar\":{\"outlinewidth\":1,\"tickcolor\":\"rgb(36,36,36)\",\"ticks\":\"outside\"}},\"type\":\"scattermapbox\"}],\"scatterpolargl\":[{\"marker\":{\"colorbar\":{\"outlinewidth\":1,\"tickcolor\":\"rgb(36,36,36)\",\"ticks\":\"outside\"}},\"type\":\"scatterpolargl\"}],\"scatterpolar\":[{\"marker\":{\"colorbar\":{\"outlinewidth\":1,\"tickcolor\":\"rgb(36,36,36)\",\"ticks\":\"outside\"}},\"type\":\"scatterpolar\"}],\"scatter\":[{\"fillpattern\":{\"fillmode\":\"overlay\",\"size\":10,\"solidity\":0.2},\"type\":\"scatter\"}],\"scatterternary\":[{\"marker\":{\"colorbar\":{\"outlinewidth\":1,\"tickcolor\":\"rgb(36,36,36)\",\"ticks\":\"outside\"}},\"type\":\"scatterternary\"}],\"surface\":[{\"colorbar\":{\"outlinewidth\":1,\"tickcolor\":\"rgb(36,36,36)\",\"ticks\":\"outside\"},\"colorscale\":[[0.0,\"#440154\"],[0.1111111111111111,\"#482878\"],[0.2222222222222222,\"#3e4989\"],[0.3333333333333333,\"#31688e\"],[0.4444444444444444,\"#26828e\"],[0.5555555555555556,\"#1f9e89\"],[0.6666666666666666,\"#35b779\"],[0.7777777777777778,\"#6ece58\"],[0.8888888888888888,\"#b5de2b\"],[1.0,\"#fde725\"]],\"type\":\"surface\"}],\"table\":[{\"cells\":{\"fill\":{\"color\":\"rgb(237,237,237)\"},\"line\":{\"color\":\"white\"}},\"header\":{\"fill\":{\"color\":\"rgb(217,217,217)\"},\"line\":{\"color\":\"white\"}},\"type\":\"table\"}]},\"layout\":{\"annotationdefaults\":{\"arrowhead\":0,\"arrowwidth\":1},\"autotypenumbers\":\"strict\",\"coloraxis\":{\"colorbar\":{\"outlinewidth\":1,\"tickcolor\":\"rgb(36,36,36)\",\"ticks\":\"outside\"}},\"colorscale\":{\"diverging\":[[0.0,\"rgb(103,0,31)\"],[0.1,\"rgb(178,24,43)\"],[0.2,\"rgb(214,96,77)\"],[0.3,\"rgb(244,165,130)\"],[0.4,\"rgb(253,219,199)\"],[0.5,\"rgb(247,247,247)\"],[0.6,\"rgb(209,229,240)\"],[0.7,\"rgb(146,197,222)\"],[0.8,\"rgb(67,147,195)\"],[0.9,\"rgb(33,102,172)\"],[1.0,\"rgb(5,48,97)\"]],\"sequential\":[[0.0,\"#440154\"],[0.1111111111111111,\"#482878\"],[0.2222222222222222,\"#3e4989\"],[0.3333333333333333,\"#31688e\"],[0.4444444444444444,\"#26828e\"],[0.5555555555555556,\"#1f9e89\"],[0.6666666666666666,\"#35b779\"],[0.7777777777777778,\"#6ece58\"],[0.8888888888888888,\"#b5de2b\"],[1.0,\"#fde725\"]],\"sequentialminus\":[[0.0,\"#440154\"],[0.1111111111111111,\"#482878\"],[0.2222222222222222,\"#3e4989\"],[0.3333333333333333,\"#31688e\"],[0.4444444444444444,\"#26828e\"],[0.5555555555555556,\"#1f9e89\"],[0.6666666666666666,\"#35b779\"],[0.7777777777777778,\"#6ece58\"],[0.8888888888888888,\"#b5de2b\"],[1.0,\"#fde725\"]]},\"colorway\":[\"#91268F\",\"#8CC63E\",\"#00A7A0\",\"#F05A28\",\"#4C4C4C\",\"#630460\",\"#9f3913\",\"#588527\",\"#00716c\",\"#3e4040\"],\"font\":{\"color\":\"rgb(36,36,36)\",\"family\":\"Poppins\",\"size\":11},\"geo\":{\"bgcolor\":\"white\",\"lakecolor\":\"white\",\"landcolor\":\"white\",\"showlakes\":true,\"showland\":true,\"subunitcolor\":\"white\"},\"hoverlabel\":{\"align\":\"left\"},\"hovermode\":\"closest\",\"mapbox\":{\"style\":\"light\"},\"paper_bgcolor\":\"white\",\"plot_bgcolor\":\"white\",\"polar\":{\"angularaxis\":{\"gridcolor\":\"rgb(232,232,232)\",\"linecolor\":\"rgb(36,36,36)\",\"showgrid\":false,\"showline\":true,\"ticks\":\"outside\"},\"bgcolor\":\"white\",\"radialaxis\":{\"gridcolor\":\"rgb(232,232,232)\",\"linecolor\":\"rgb(36,36,36)\",\"showgrid\":false,\"showline\":true,\"ticks\":\"outside\"}},\"scene\":{\"xaxis\":{\"backgroundcolor\":\"white\",\"gridcolor\":\"rgb(232,232,232)\",\"gridwidth\":2,\"linecolor\":\"rgb(36,36,36)\",\"showbackground\":true,\"showgrid\":false,\"showline\":true,\"ticks\":\"outside\",\"zeroline\":false,\"zerolinecolor\":\"rgb(36,36,36)\"},\"yaxis\":{\"backgroundcolor\":\"white\",\"gridcolor\":\"rgb(232,232,232)\",\"gridwidth\":2,\"linecolor\":\"rgb(36,36,36)\",\"showbackground\":true,\"showgrid\":false,\"showline\":true,\"ticks\":\"outside\",\"zeroline\":false,\"zerolinecolor\":\"rgb(36,36,36)\"},\"zaxis\":{\"backgroundcolor\":\"white\",\"gridcolor\":\"rgb(232,232,232)\",\"gridwidth\":2,\"linecolor\":\"rgb(36,36,36)\",\"showbackground\":true,\"showgrid\":false,\"showline\":true,\"ticks\":\"outside\",\"zeroline\":false,\"zerolinecolor\":\"rgb(36,36,36)\"}},\"shapedefaults\":{\"fillcolor\":\"black\",\"line\":{\"width\":0},\"opacity\":0.3},\"ternary\":{\"aaxis\":{\"gridcolor\":\"rgb(232,232,232)\",\"linecolor\":\"rgb(36,36,36)\",\"showgrid\":false,\"showline\":true,\"ticks\":\"outside\"},\"baxis\":{\"gridcolor\":\"rgb(232,232,232)\",\"linecolor\":\"rgb(36,36,36)\",\"showgrid\":false,\"showline\":true,\"ticks\":\"outside\"},\"bgcolor\":\"white\",\"caxis\":{\"gridcolor\":\"rgb(232,232,232)\",\"linecolor\":\"rgb(36,36,36)\",\"showgrid\":false,\"showline\":true,\"ticks\":\"outside\"}},\"title\":{\"x\":0.05},\"xaxis\":{\"automargin\":true,\"gridcolor\":\"rgb(232,232,232)\",\"linecolor\":\"rgb(36,36,36)\",\"showgrid\":false,\"showline\":true,\"ticks\":\"outside\",\"title\":{\"standoff\":15},\"zeroline\":false,\"zerolinecolor\":\"rgb(36,36,36)\"},\"yaxis\":{\"automargin\":true,\"gridcolor\":\"rgb(232,232,232)\",\"linecolor\":\"rgb(36,36,36)\",\"showgrid\":false,\"showline\":true,\"ticks\":\"outside\",\"title\":{\"standoff\":15},\"zeroline\":false,\"zerolinecolor\":\"rgb(36,36,36)\"}}},\"xaxis\":{\"anchor\":\"y\",\"domain\":[0.0,1.0],\"title\":{\"text\":\"station_name\"}},\"yaxis\":{\"anchor\":\"x\",\"domain\":[0.0,1.0],\"title\":{\"text\":\"value\"},\"tickformat\":\".00f\"},\"legend\":{\"title\":{\"text\":\"variable\"},\"tracegroupgap\":0},\"margin\":{\"t\":60},\"font\":{\"size\":11},\"height\":500,\"width\":900},                        {\"responsive\": true}                    ).then(function(){\n",
       "                            \n",
       "var gd = document.getElementById('56106436-6372-409c-a7b6-00027a78cc62');\n",
       "var x = new MutationObserver(function (mutations, observer) {{\n",
       "        var display = window.getComputedStyle(gd).display;\n",
       "        if (!display || display === 'none') {{\n",
       "            console.log([gd, 'removed!']);\n",
       "            Plotly.purge(gd);\n",
       "            observer.disconnect();\n",
       "        }}\n",
       "}});\n",
       "\n",
       "// Listen for the removal of the full notebook cells\n",
       "var notebookContainer = gd.closest('#notebook-container');\n",
       "if (notebookContainer) {{\n",
       "    x.observe(notebookContainer, {childList: true});\n",
       "}}\n",
       "\n",
       "// Listen for the clearing of the current output cell\n",
       "var outputEl = gd.closest('.output');\n",
       "if (outputEl) {{\n",
       "    x.observe(outputEl, {childList: true});\n",
       "}}\n",
       "\n",
       "                        })                };                });            </script>        </div>"
      ]
     },
     "metadata": {},
     "output_type": "display_data"
    }
   ],
   "source": [
    "fig = px.line(line_1_df[['observed_boardings','model_boardings']])\n",
    "fig.update_layout(height=500, width=900, font=dict(size=11),\n",
    "                  yaxis_tickformat = '.00f')\n",
    "fig.show()"
   ]
  },
  {
   "cell_type": "raw",
   "id": "9674332e",
   "metadata": {},
   "source": [
    "#### T-Line"
   ]
  },
  {
   "cell_type": "code",
   "execution_count": 26,
   "id": "9d9d2fcd",
   "metadata": {},
   "outputs": [
    {
     "data": {
      "application/vnd.microsoft.datawrangler.viewer.v0+json": {
       "columns": [
        {
         "name": "station_name",
         "rawType": "object",
         "type": "string"
        },
        {
         "name": "observed_boardings",
         "rawType": "float64",
         "type": "float"
        },
        {
         "name": "model_boardings",
         "rawType": "float64",
         "type": "float"
        },
        {
         "name": "diff",
         "rawType": "float64",
         "type": "float"
        },
        {
         "name": "percent_diff",
         "rawType": "object",
         "type": "string"
        }
       ],
       "conversionMethod": "pd.DataFrame",
       "ref": "80b7c93c-2b32-41ff-8e11-de310bcf3a44",
       "rows": [
        [
         "Tacoma Dome Station",
         "494.0",
         "244.14754486083984",
         "-249.85245513916016",
         "-50.58%"
        ],
        [
         "S 25th St Station",
         "120.0",
         "464.71208268404007",
         "344.71208268404007",
         "287.26%"
        ],
        [
         "Union Station",
         "420.0",
         "257.5285880565644",
         "-162.4714119434356",
         "-38.68%"
        ],
        [
         "Convention Center Station",
         "91.0",
         "564.9839071929455",
         "473.9839071929455",
         "520.86%"
        ],
        [
         "Commerce Station",
         "294.0",
         "487.328857421875",
         "193.328857421875",
         "65.76%"
        ]
       ],
       "shape": {
        "columns": 4,
        "rows": 5
       }
      },
      "text/html": [
       "<div>\n",
       "<style scoped>\n",
       "    .dataframe tbody tr th:only-of-type {\n",
       "        vertical-align: middle;\n",
       "    }\n",
       "\n",
       "    .dataframe tbody tr th {\n",
       "        vertical-align: top;\n",
       "    }\n",
       "\n",
       "    .dataframe thead th {\n",
       "        text-align: right;\n",
       "    }\n",
       "</style>\n",
       "<table border=\"1\" class=\"dataframe\">\n",
       "  <thead>\n",
       "    <tr style=\"text-align: right;\">\n",
       "      <th></th>\n",
       "      <th>observed_boardings</th>\n",
       "      <th>model_boardings</th>\n",
       "      <th>diff</th>\n",
       "      <th>percent_diff</th>\n",
       "    </tr>\n",
       "    <tr>\n",
       "      <th>station_name</th>\n",
       "      <th></th>\n",
       "      <th></th>\n",
       "      <th></th>\n",
       "      <th></th>\n",
       "    </tr>\n",
       "  </thead>\n",
       "  <tbody>\n",
       "    <tr>\n",
       "      <th>Tacoma Dome Station</th>\n",
       "      <td>494.00</td>\n",
       "      <td>244.15</td>\n",
       "      <td>-249.85</td>\n",
       "      <td>-50.58%</td>\n",
       "    </tr>\n",
       "    <tr>\n",
       "      <th>S 25th St Station</th>\n",
       "      <td>120.00</td>\n",
       "      <td>464.71</td>\n",
       "      <td>344.71</td>\n",
       "      <td>287.26%</td>\n",
       "    </tr>\n",
       "    <tr>\n",
       "      <th>Union Station</th>\n",
       "      <td>420.00</td>\n",
       "      <td>257.53</td>\n",
       "      <td>-162.47</td>\n",
       "      <td>-38.68%</td>\n",
       "    </tr>\n",
       "    <tr>\n",
       "      <th>Convention Center Station</th>\n",
       "      <td>91.00</td>\n",
       "      <td>564.98</td>\n",
       "      <td>473.98</td>\n",
       "      <td>520.86%</td>\n",
       "    </tr>\n",
       "    <tr>\n",
       "      <th>Commerce Station</th>\n",
       "      <td>294.00</td>\n",
       "      <td>487.33</td>\n",
       "      <td>193.33</td>\n",
       "      <td>65.76%</td>\n",
       "    </tr>\n",
       "  </tbody>\n",
       "</table>\n",
       "</div>"
      ],
      "text/plain": [
       "                           observed_boardings  model_boardings    diff  \\\n",
       "station_name                                                             \n",
       "Tacoma Dome Station                    494.00           244.15 -249.85   \n",
       "S 25th St Station                      120.00           464.71  344.71   \n",
       "Union Station                          420.00           257.53 -162.47   \n",
       "Convention Center Station               91.00           564.98  473.98   \n",
       "Commerce Station                       294.00           487.33  193.33   \n",
       "\n",
       "                          percent_diff  \n",
       "station_name                            \n",
       "Tacoma Dome Station            -50.58%  \n",
       "S 25th St Station              287.26%  \n",
       "Union Station                  -38.68%  \n",
       "Convention Center Station      520.86%  \n",
       "Commerce Station                65.76%  "
      ]
     },
     "execution_count": 26,
     "metadata": {},
     "output_type": "execute_result"
    }
   ],
   "source": [
    "t_line_df = df_table.loc[t_line_station_list]\n",
    "t_line_df"
   ]
  },
  {
   "cell_type": "raw",
   "id": "3dafcff1da10b5e5",
   "metadata": {},
   "source": [
    "#### Sound Transit Station Groupings"
   ]
  },
  {
   "cell_type": "code",
   "execution_count": 27,
   "id": "7456ebeb8efd83d0",
   "metadata": {
    "ExecuteTime": {
     "end_time": "2024-06-24T20:06:06.901270Z",
     "start_time": "2024-06-24T20:06:06.830246Z"
    },
    "execution": {
     "iopub.execute_input": "2024-12-14T02:38:42.922957Z",
     "iopub.status.busy": "2024-12-14T02:38:42.920963Z",
     "iopub.status.idle": "2024-12-14T02:38:42.990343Z",
     "shell.execute_reply": "2024-12-14T02:38:42.988264Z"
    }
   },
   "outputs": [
    {
     "data": {
      "application/vnd.microsoft.datawrangler.viewer.v0+json": {
       "columns": [
        {
         "name": "station_group",
         "rawType": "object",
         "type": "string"
        },
        {
         "name": "observed_boardings",
         "rawType": "float64",
         "type": "float"
        },
        {
         "name": "model_boardings",
         "rawType": "float64",
         "type": "float"
        },
        {
         "name": "diff",
         "rawType": "float64",
         "type": "float"
        },
        {
         "name": "percent_diff",
         "rawType": "object",
         "type": "string"
        }
       ],
       "conversionMethod": "pd.DataFrame",
       "ref": "58d1733a-5e70-4000-a3e8-45475f662bdc",
       "rows": [
        [
         "Northgate/Roosevelt",
         "14733.0",
         "18314.67991542816",
         "3581.6799154281616",
         "24.31%"
        ],
        [
         "U District/Husky Stadium",
         "13697.0",
         "12554.179139375687",
         "-1142.8208606243134",
         "-8.34%"
        ],
        [
         "Capitol Hill",
         "7667.0",
         "9098.025134086609",
         "1431.025134086609",
         "18.66%"
        ],
        [
         "Westlake/Symphony",
         "13169.0",
         "19323.292497634888",
         "6154.292497634888",
         "46.73%"
        ],
        [
         "Pioneer Square/Int'l District",
         "6799.0",
         "8034.559991836548",
         "1235.5599918365479",
         "18.17%"
        ],
        [
         "Stadium/SODO",
         "3400.0",
         "3129.3503523617983",
         "-270.6496476382017",
         "-7.96%"
        ],
        [
         "Beacon Hill/Mount Baker",
         "4008.0",
         "3607.8248320817947",
         "-400.17516791820526",
         "-9.98%"
        ],
        [
         "Columbia City",
         "1630.0",
         "2085.997603654861",
         "455.997603654861",
         "27.98%"
        ],
        [
         "Othello/Rainier Beach",
         "3525.0",
         "4607.936014175415",
         "1082.936014175415",
         "30.72%"
        ],
        [
         "Tukwila Int'l Blvd",
         "2298.0",
         "3332.7417664527893",
         "1034.7417664527893",
         "45.03%"
        ],
        [
         "SeaTac/Airport",
         "4731.0",
         "6326.295556664467",
         "1595.2955566644669",
         "33.72%"
        ],
        [
         "Angle Lake",
         "3865.0",
         "3367.8624114990234",
         "-497.13758850097656",
         "-12.86%"
        ]
       ],
       "shape": {
        "columns": 4,
        "rows": 12
       }
      },
      "text/html": [
       "<div>\n",
       "<style scoped>\n",
       "    .dataframe tbody tr th:only-of-type {\n",
       "        vertical-align: middle;\n",
       "    }\n",
       "\n",
       "    .dataframe tbody tr th {\n",
       "        vertical-align: top;\n",
       "    }\n",
       "\n",
       "    .dataframe thead th {\n",
       "        text-align: right;\n",
       "    }\n",
       "</style>\n",
       "<table border=\"1\" class=\"dataframe\">\n",
       "  <thead>\n",
       "    <tr style=\"text-align: right;\">\n",
       "      <th></th>\n",
       "      <th>observed_boardings</th>\n",
       "      <th>model_boardings</th>\n",
       "      <th>diff</th>\n",
       "      <th>percent_diff</th>\n",
       "    </tr>\n",
       "    <tr>\n",
       "      <th>station_group</th>\n",
       "      <th></th>\n",
       "      <th></th>\n",
       "      <th></th>\n",
       "      <th></th>\n",
       "    </tr>\n",
       "  </thead>\n",
       "  <tbody>\n",
       "    <tr>\n",
       "      <th>Northgate/Roosevelt</th>\n",
       "      <td>14,733.00</td>\n",
       "      <td>18,314.68</td>\n",
       "      <td>3,581.68</td>\n",
       "      <td>24.31%</td>\n",
       "    </tr>\n",
       "    <tr>\n",
       "      <th>U District/Husky Stadium</th>\n",
       "      <td>13,697.00</td>\n",
       "      <td>12,554.18</td>\n",
       "      <td>-1,142.82</td>\n",
       "      <td>-8.34%</td>\n",
       "    </tr>\n",
       "    <tr>\n",
       "      <th>Capitol Hill</th>\n",
       "      <td>7,667.00</td>\n",
       "      <td>9,098.03</td>\n",
       "      <td>1,431.03</td>\n",
       "      <td>18.66%</td>\n",
       "    </tr>\n",
       "    <tr>\n",
       "      <th>Westlake/Symphony</th>\n",
       "      <td>13,169.00</td>\n",
       "      <td>19,323.29</td>\n",
       "      <td>6,154.29</td>\n",
       "      <td>46.73%</td>\n",
       "    </tr>\n",
       "    <tr>\n",
       "      <th>Pioneer Square/Int'l District</th>\n",
       "      <td>6,799.00</td>\n",
       "      <td>8,034.56</td>\n",
       "      <td>1,235.56</td>\n",
       "      <td>18.17%</td>\n",
       "    </tr>\n",
       "    <tr>\n",
       "      <th>Stadium/SODO</th>\n",
       "      <td>3,400.00</td>\n",
       "      <td>3,129.35</td>\n",
       "      <td>-270.65</td>\n",
       "      <td>-7.96%</td>\n",
       "    </tr>\n",
       "    <tr>\n",
       "      <th>Beacon Hill/Mount Baker</th>\n",
       "      <td>4,008.00</td>\n",
       "      <td>3,607.82</td>\n",
       "      <td>-400.18</td>\n",
       "      <td>-9.98%</td>\n",
       "    </tr>\n",
       "    <tr>\n",
       "      <th>Columbia City</th>\n",
       "      <td>1,630.00</td>\n",
       "      <td>2,086.00</td>\n",
       "      <td>456.00</td>\n",
       "      <td>27.98%</td>\n",
       "    </tr>\n",
       "    <tr>\n",
       "      <th>Othello/Rainier Beach</th>\n",
       "      <td>3,525.00</td>\n",
       "      <td>4,607.94</td>\n",
       "      <td>1,082.94</td>\n",
       "      <td>30.72%</td>\n",
       "    </tr>\n",
       "    <tr>\n",
       "      <th>Tukwila Int'l Blvd</th>\n",
       "      <td>2,298.00</td>\n",
       "      <td>3,332.74</td>\n",
       "      <td>1,034.74</td>\n",
       "      <td>45.03%</td>\n",
       "    </tr>\n",
       "    <tr>\n",
       "      <th>SeaTac/Airport</th>\n",
       "      <td>4,731.00</td>\n",
       "      <td>6,326.30</td>\n",
       "      <td>1,595.30</td>\n",
       "      <td>33.72%</td>\n",
       "    </tr>\n",
       "    <tr>\n",
       "      <th>Angle Lake</th>\n",
       "      <td>3,865.00</td>\n",
       "      <td>3,367.86</td>\n",
       "      <td>-497.14</td>\n",
       "      <td>-12.86%</td>\n",
       "    </tr>\n",
       "  </tbody>\n",
       "</table>\n",
       "</div>"
      ],
      "text/plain": [
       "                               observed_boardings  model_boardings      diff  \\\n",
       "station_group                                                                  \n",
       "Northgate/Roosevelt                     14,733.00        18,314.68  3,581.68   \n",
       "U District/Husky Stadium                13,697.00        12,554.18 -1,142.82   \n",
       "Capitol Hill                             7,667.00         9,098.03  1,431.03   \n",
       "Westlake/Symphony                       13,169.00        19,323.29  6,154.29   \n",
       "Pioneer Square/Int'l District            6,799.00         8,034.56  1,235.56   \n",
       "Stadium/SODO                             3,400.00         3,129.35   -270.65   \n",
       "Beacon Hill/Mount Baker                  4,008.00         3,607.82   -400.18   \n",
       "Columbia City                            1,630.00         2,086.00    456.00   \n",
       "Othello/Rainier Beach                    3,525.00         4,607.94  1,082.94   \n",
       "Tukwila Int'l Blvd                       2,298.00         3,332.74  1,034.74   \n",
       "SeaTac/Airport                           4,731.00         6,326.30  1,595.30   \n",
       "Angle Lake                               3,865.00         3,367.86   -497.14   \n",
       "\n",
       "                              percent_diff  \n",
       "station_group                               \n",
       "Northgate/Roosevelt                 24.31%  \n",
       "U District/Husky Stadium            -8.34%  \n",
       "Capitol Hill                        18.66%  \n",
       "Westlake/Symphony                   46.73%  \n",
       "Pioneer Square/Int'l District       18.17%  \n",
       "Stadium/SODO                        -7.96%  \n",
       "Beacon Hill/Mount Baker             -9.98%  \n",
       "Columbia City                       27.98%  \n",
       "Othello/Rainier Beach               30.72%  \n",
       "Tukwila Int'l Blvd                  45.03%  \n",
       "SeaTac/Airport                      33.72%  \n",
       "Angle Lake                         -12.86%  "
      ]
     },
     "execution_count": 27,
     "metadata": {},
     "output_type": "execute_result"
    }
   ],
   "source": [
    "df_combined = df.copy()\n",
    "\n",
    "df_combined['station_group'] = df.index\n",
    "df_combined.loc[['Westlake'],'station_group'] = 'Westlake/Symphony'\n",
    "df_combined.loc[['Symphony'],'station_group'] = 'Westlake/Symphony'\n",
    "\n",
    "df_combined.loc[['Pioneer Square'],'station_group'] = \"Pioneer Square/Int'l District\"\n",
    "df_combined.loc[[\"Int'l District\"],'station_group'] = \"Pioneer Square/Int'l District\"\n",
    "\n",
    "df_combined.loc[['Stadium'],'station_group'] = 'Stadium/SODO'\n",
    "df_combined.loc[['SODO'],'station_group'] = 'Stadium/SODO'\n",
    "\n",
    "df_combined.loc[['Beacon Hill'],'station_group'] = 'Beacon Hill/Mount Baker'\n",
    "df_combined.loc[['Mount Baker'],'station_group'] = 'Beacon Hill/Mount Baker'\n",
    "\n",
    "df_combined.loc[['Othello'],'station_group'] = 'Othello/Rainier Beach'\n",
    "df_combined.loc[['Rainier Beach'],'station_group'] = 'Othello/Rainier Beach'\n",
    "\n",
    "df_combined.loc[['University District Station'],'station_group'] = 'U District/Husky Stadium'\n",
    "df_combined.loc[['Husky Stadium'],'station_group'] = 'U District/Husky Stadium'\n",
    "\n",
    "df_combined.loc[['Northgate Station'],'station_group'] = 'Northgate/Roosevelt'\n",
    "df_combined.loc[['Roosevelt Station'],'station_group'] = 'Northgate/Roosevelt'\n",
    "\n",
    "df_combined = df_combined.groupby('station_group').sum()[['observed_boardings','model_boardings']]\n",
    "df_combined['diff'] = df_combined['model_boardings']-df_combined['observed_boardings']\n",
    "df_combined['percent_diff'] = df_combined['diff']/df_combined['observed_boardings']\n",
    "df_combined[['percent_diff']] = df_combined[['percent_diff']].applymap(format_percent)\n",
    "\n",
    "df_combined = df_combined.loc[['Northgate/Roosevelt','U District/Husky Stadium','Capitol Hill','Westlake/Symphony',\"Pioneer Square/Int'l District\",\n",
    "                             'Stadium/SODO','Beacon Hill/Mount Baker','Columbia City','Othello/Rainier Beach',\n",
    "                             \"Tukwila Int'l Blvd\",'SeaTac/Airport','Angle Lake']]\n",
    "df_combined"
   ]
  },
  {
   "cell_type": "code",
   "execution_count": 28,
   "id": "d06a1922",
   "metadata": {},
   "outputs": [
    {
     "data": {
      "application/vnd.plotly.v1+json": {
       "config": {
        "plotlyServerURL": "https://plot.ly"
       },
       "data": [
        {
         "hovertemplate": "variable=observed_boardings<br>station_group=%{x}<br>value=%{y}<extra></extra>",
         "legendgroup": "observed_boardings",
         "line": {
          "color": "#91268F",
          "dash": "solid"
         },
         "marker": {
          "symbol": "circle"
         },
         "mode": "lines",
         "name": "observed_boardings",
         "orientation": "v",
         "showlegend": true,
         "type": "scatter",
         "x": [
          "Northgate/Roosevelt",
          "U District/Husky Stadium",
          "Capitol Hill",
          "Westlake/Symphony",
          "Pioneer Square/Int'l District",
          "Stadium/SODO",
          "Beacon Hill/Mount Baker",
          "Columbia City",
          "Othello/Rainier Beach",
          "Tukwila Int'l Blvd",
          "SeaTac/Airport",
          "Angle Lake"
         ],
         "xaxis": "x",
         "y": [
          14733,
          13697,
          7667,
          13169,
          6799,
          3400,
          4008,
          1630,
          3525,
          2298,
          4731,
          3865
         ],
         "yaxis": "y"
        },
        {
         "hovertemplate": "variable=model_boardings<br>station_group=%{x}<br>value=%{y}<extra></extra>",
         "legendgroup": "model_boardings",
         "line": {
          "color": "#8CC63E",
          "dash": "solid"
         },
         "marker": {
          "symbol": "circle"
         },
         "mode": "lines",
         "name": "model_boardings",
         "orientation": "v",
         "showlegend": true,
         "type": "scatter",
         "x": [
          "Northgate/Roosevelt",
          "U District/Husky Stadium",
          "Capitol Hill",
          "Westlake/Symphony",
          "Pioneer Square/Int'l District",
          "Stadium/SODO",
          "Beacon Hill/Mount Baker",
          "Columbia City",
          "Othello/Rainier Beach",
          "Tukwila Int'l Blvd",
          "SeaTac/Airport",
          "Angle Lake"
         ],
         "xaxis": "x",
         "y": [
          18314.67991542816,
          12554.179139375687,
          9098.025134086609,
          19323.292497634888,
          8034.559991836548,
          3129.3503523617983,
          3607.8248320817947,
          2085.997603654861,
          4607.936014175415,
          3332.7417664527893,
          6326.295556664467,
          3367.8624114990234
         ],
         "yaxis": "y"
        }
       ],
       "layout": {
        "font": {
         "size": 11
        },
        "height": 500,
        "legend": {
         "title": {
          "text": "variable"
         },
         "tracegroupgap": 0
        },
        "margin": {
         "t": 60
        },
        "template": {
         "data": {
          "bar": [
           {
            "error_x": {
             "color": "rgb(36,36,36)"
            },
            "error_y": {
             "color": "rgb(36,36,36)"
            },
            "marker": {
             "line": {
              "color": "white",
              "width": 0.5
             },
             "pattern": {
              "fillmode": "overlay",
              "size": 10,
              "solidity": 0.2
             }
            },
            "type": "bar"
           }
          ],
          "barpolar": [
           {
            "marker": {
             "line": {
              "color": "white",
              "width": 0.5
             },
             "pattern": {
              "fillmode": "overlay",
              "size": 10,
              "solidity": 0.2
             }
            },
            "type": "barpolar"
           }
          ],
          "carpet": [
           {
            "aaxis": {
             "endlinecolor": "rgb(36,36,36)",
             "gridcolor": "white",
             "linecolor": "white",
             "minorgridcolor": "white",
             "startlinecolor": "rgb(36,36,36)"
            },
            "baxis": {
             "endlinecolor": "rgb(36,36,36)",
             "gridcolor": "white",
             "linecolor": "white",
             "minorgridcolor": "white",
             "startlinecolor": "rgb(36,36,36)"
            },
            "type": "carpet"
           }
          ],
          "choropleth": [
           {
            "colorbar": {
             "outlinewidth": 1,
             "tickcolor": "rgb(36,36,36)",
             "ticks": "outside"
            },
            "type": "choropleth"
           }
          ],
          "contour": [
           {
            "colorbar": {
             "outlinewidth": 1,
             "tickcolor": "rgb(36,36,36)",
             "ticks": "outside"
            },
            "colorscale": [
             [
              0,
              "#440154"
             ],
             [
              0.1111111111111111,
              "#482878"
             ],
             [
              0.2222222222222222,
              "#3e4989"
             ],
             [
              0.3333333333333333,
              "#31688e"
             ],
             [
              0.4444444444444444,
              "#26828e"
             ],
             [
              0.5555555555555556,
              "#1f9e89"
             ],
             [
              0.6666666666666666,
              "#35b779"
             ],
             [
              0.7777777777777778,
              "#6ece58"
             ],
             [
              0.8888888888888888,
              "#b5de2b"
             ],
             [
              1,
              "#fde725"
             ]
            ],
            "type": "contour"
           }
          ],
          "contourcarpet": [
           {
            "colorbar": {
             "outlinewidth": 1,
             "tickcolor": "rgb(36,36,36)",
             "ticks": "outside"
            },
            "type": "contourcarpet"
           }
          ],
          "heatmap": [
           {
            "colorbar": {
             "outlinewidth": 1,
             "tickcolor": "rgb(36,36,36)",
             "ticks": "outside"
            },
            "colorscale": [
             [
              0,
              "#440154"
             ],
             [
              0.1111111111111111,
              "#482878"
             ],
             [
              0.2222222222222222,
              "#3e4989"
             ],
             [
              0.3333333333333333,
              "#31688e"
             ],
             [
              0.4444444444444444,
              "#26828e"
             ],
             [
              0.5555555555555556,
              "#1f9e89"
             ],
             [
              0.6666666666666666,
              "#35b779"
             ],
             [
              0.7777777777777778,
              "#6ece58"
             ],
             [
              0.8888888888888888,
              "#b5de2b"
             ],
             [
              1,
              "#fde725"
             ]
            ],
            "type": "heatmap"
           }
          ],
          "heatmapgl": [
           {
            "colorbar": {
             "outlinewidth": 1,
             "tickcolor": "rgb(36,36,36)",
             "ticks": "outside"
            },
            "colorscale": [
             [
              0,
              "#440154"
             ],
             [
              0.1111111111111111,
              "#482878"
             ],
             [
              0.2222222222222222,
              "#3e4989"
             ],
             [
              0.3333333333333333,
              "#31688e"
             ],
             [
              0.4444444444444444,
              "#26828e"
             ],
             [
              0.5555555555555556,
              "#1f9e89"
             ],
             [
              0.6666666666666666,
              "#35b779"
             ],
             [
              0.7777777777777778,
              "#6ece58"
             ],
             [
              0.8888888888888888,
              "#b5de2b"
             ],
             [
              1,
              "#fde725"
             ]
            ],
            "type": "heatmapgl"
           }
          ],
          "histogram": [
           {
            "marker": {
             "line": {
              "color": "white",
              "width": 0.6
             }
            },
            "type": "histogram"
           }
          ],
          "histogram2d": [
           {
            "colorbar": {
             "outlinewidth": 1,
             "tickcolor": "rgb(36,36,36)",
             "ticks": "outside"
            },
            "colorscale": [
             [
              0,
              "#440154"
             ],
             [
              0.1111111111111111,
              "#482878"
             ],
             [
              0.2222222222222222,
              "#3e4989"
             ],
             [
              0.3333333333333333,
              "#31688e"
             ],
             [
              0.4444444444444444,
              "#26828e"
             ],
             [
              0.5555555555555556,
              "#1f9e89"
             ],
             [
              0.6666666666666666,
              "#35b779"
             ],
             [
              0.7777777777777778,
              "#6ece58"
             ],
             [
              0.8888888888888888,
              "#b5de2b"
             ],
             [
              1,
              "#fde725"
             ]
            ],
            "type": "histogram2d"
           }
          ],
          "histogram2dcontour": [
           {
            "colorbar": {
             "outlinewidth": 1,
             "tickcolor": "rgb(36,36,36)",
             "ticks": "outside"
            },
            "colorscale": [
             [
              0,
              "#440154"
             ],
             [
              0.1111111111111111,
              "#482878"
             ],
             [
              0.2222222222222222,
              "#3e4989"
             ],
             [
              0.3333333333333333,
              "#31688e"
             ],
             [
              0.4444444444444444,
              "#26828e"
             ],
             [
              0.5555555555555556,
              "#1f9e89"
             ],
             [
              0.6666666666666666,
              "#35b779"
             ],
             [
              0.7777777777777778,
              "#6ece58"
             ],
             [
              0.8888888888888888,
              "#b5de2b"
             ],
             [
              1,
              "#fde725"
             ]
            ],
            "type": "histogram2dcontour"
           }
          ],
          "mesh3d": [
           {
            "colorbar": {
             "outlinewidth": 1,
             "tickcolor": "rgb(36,36,36)",
             "ticks": "outside"
            },
            "type": "mesh3d"
           }
          ],
          "parcoords": [
           {
            "line": {
             "colorbar": {
              "outlinewidth": 1,
              "tickcolor": "rgb(36,36,36)",
              "ticks": "outside"
             }
            },
            "type": "parcoords"
           }
          ],
          "pie": [
           {
            "automargin": true,
            "type": "pie"
           }
          ],
          "scatter": [
           {
            "fillpattern": {
             "fillmode": "overlay",
             "size": 10,
             "solidity": 0.2
            },
            "type": "scatter"
           }
          ],
          "scatter3d": [
           {
            "line": {
             "colorbar": {
              "outlinewidth": 1,
              "tickcolor": "rgb(36,36,36)",
              "ticks": "outside"
             }
            },
            "marker": {
             "colorbar": {
              "outlinewidth": 1,
              "tickcolor": "rgb(36,36,36)",
              "ticks": "outside"
             }
            },
            "type": "scatter3d"
           }
          ],
          "scattercarpet": [
           {
            "marker": {
             "colorbar": {
              "outlinewidth": 1,
              "tickcolor": "rgb(36,36,36)",
              "ticks": "outside"
             }
            },
            "type": "scattercarpet"
           }
          ],
          "scattergeo": [
           {
            "marker": {
             "colorbar": {
              "outlinewidth": 1,
              "tickcolor": "rgb(36,36,36)",
              "ticks": "outside"
             }
            },
            "type": "scattergeo"
           }
          ],
          "scattergl": [
           {
            "marker": {
             "colorbar": {
              "outlinewidth": 1,
              "tickcolor": "rgb(36,36,36)",
              "ticks": "outside"
             }
            },
            "type": "scattergl"
           }
          ],
          "scattermapbox": [
           {
            "marker": {
             "colorbar": {
              "outlinewidth": 1,
              "tickcolor": "rgb(36,36,36)",
              "ticks": "outside"
             }
            },
            "type": "scattermapbox"
           }
          ],
          "scatterpolar": [
           {
            "marker": {
             "colorbar": {
              "outlinewidth": 1,
              "tickcolor": "rgb(36,36,36)",
              "ticks": "outside"
             }
            },
            "type": "scatterpolar"
           }
          ],
          "scatterpolargl": [
           {
            "marker": {
             "colorbar": {
              "outlinewidth": 1,
              "tickcolor": "rgb(36,36,36)",
              "ticks": "outside"
             }
            },
            "type": "scatterpolargl"
           }
          ],
          "scatterternary": [
           {
            "marker": {
             "colorbar": {
              "outlinewidth": 1,
              "tickcolor": "rgb(36,36,36)",
              "ticks": "outside"
             }
            },
            "type": "scatterternary"
           }
          ],
          "surface": [
           {
            "colorbar": {
             "outlinewidth": 1,
             "tickcolor": "rgb(36,36,36)",
             "ticks": "outside"
            },
            "colorscale": [
             [
              0,
              "#440154"
             ],
             [
              0.1111111111111111,
              "#482878"
             ],
             [
              0.2222222222222222,
              "#3e4989"
             ],
             [
              0.3333333333333333,
              "#31688e"
             ],
             [
              0.4444444444444444,
              "#26828e"
             ],
             [
              0.5555555555555556,
              "#1f9e89"
             ],
             [
              0.6666666666666666,
              "#35b779"
             ],
             [
              0.7777777777777778,
              "#6ece58"
             ],
             [
              0.8888888888888888,
              "#b5de2b"
             ],
             [
              1,
              "#fde725"
             ]
            ],
            "type": "surface"
           }
          ],
          "table": [
           {
            "cells": {
             "fill": {
              "color": "rgb(237,237,237)"
             },
             "line": {
              "color": "white"
             }
            },
            "header": {
             "fill": {
              "color": "rgb(217,217,217)"
             },
             "line": {
              "color": "white"
             }
            },
            "type": "table"
           }
          ]
         },
         "layout": {
          "annotationdefaults": {
           "arrowhead": 0,
           "arrowwidth": 1
          },
          "autotypenumbers": "strict",
          "coloraxis": {
           "colorbar": {
            "outlinewidth": 1,
            "tickcolor": "rgb(36,36,36)",
            "ticks": "outside"
           }
          },
          "colorscale": {
           "diverging": [
            [
             0,
             "rgb(103,0,31)"
            ],
            [
             0.1,
             "rgb(178,24,43)"
            ],
            [
             0.2,
             "rgb(214,96,77)"
            ],
            [
             0.3,
             "rgb(244,165,130)"
            ],
            [
             0.4,
             "rgb(253,219,199)"
            ],
            [
             0.5,
             "rgb(247,247,247)"
            ],
            [
             0.6,
             "rgb(209,229,240)"
            ],
            [
             0.7,
             "rgb(146,197,222)"
            ],
            [
             0.8,
             "rgb(67,147,195)"
            ],
            [
             0.9,
             "rgb(33,102,172)"
            ],
            [
             1,
             "rgb(5,48,97)"
            ]
           ],
           "sequential": [
            [
             0,
             "#440154"
            ],
            [
             0.1111111111111111,
             "#482878"
            ],
            [
             0.2222222222222222,
             "#3e4989"
            ],
            [
             0.3333333333333333,
             "#31688e"
            ],
            [
             0.4444444444444444,
             "#26828e"
            ],
            [
             0.5555555555555556,
             "#1f9e89"
            ],
            [
             0.6666666666666666,
             "#35b779"
            ],
            [
             0.7777777777777778,
             "#6ece58"
            ],
            [
             0.8888888888888888,
             "#b5de2b"
            ],
            [
             1,
             "#fde725"
            ]
           ],
           "sequentialminus": [
            [
             0,
             "#440154"
            ],
            [
             0.1111111111111111,
             "#482878"
            ],
            [
             0.2222222222222222,
             "#3e4989"
            ],
            [
             0.3333333333333333,
             "#31688e"
            ],
            [
             0.4444444444444444,
             "#26828e"
            ],
            [
             0.5555555555555556,
             "#1f9e89"
            ],
            [
             0.6666666666666666,
             "#35b779"
            ],
            [
             0.7777777777777778,
             "#6ece58"
            ],
            [
             0.8888888888888888,
             "#b5de2b"
            ],
            [
             1,
             "#fde725"
            ]
           ]
          },
          "colorway": [
           "#91268F",
           "#8CC63E",
           "#00A7A0",
           "#F05A28",
           "#4C4C4C",
           "#630460",
           "#9f3913",
           "#588527",
           "#00716c",
           "#3e4040"
          ],
          "font": {
           "color": "rgb(36,36,36)",
           "family": "Poppins",
           "size": 11
          },
          "geo": {
           "bgcolor": "white",
           "lakecolor": "white",
           "landcolor": "white",
           "showlakes": true,
           "showland": true,
           "subunitcolor": "white"
          },
          "hoverlabel": {
           "align": "left"
          },
          "hovermode": "closest",
          "mapbox": {
           "style": "light"
          },
          "paper_bgcolor": "white",
          "plot_bgcolor": "white",
          "polar": {
           "angularaxis": {
            "gridcolor": "rgb(232,232,232)",
            "linecolor": "rgb(36,36,36)",
            "showgrid": false,
            "showline": true,
            "ticks": "outside"
           },
           "bgcolor": "white",
           "radialaxis": {
            "gridcolor": "rgb(232,232,232)",
            "linecolor": "rgb(36,36,36)",
            "showgrid": false,
            "showline": true,
            "ticks": "outside"
           }
          },
          "scene": {
           "xaxis": {
            "backgroundcolor": "white",
            "gridcolor": "rgb(232,232,232)",
            "gridwidth": 2,
            "linecolor": "rgb(36,36,36)",
            "showbackground": true,
            "showgrid": false,
            "showline": true,
            "ticks": "outside",
            "zeroline": false,
            "zerolinecolor": "rgb(36,36,36)"
           },
           "yaxis": {
            "backgroundcolor": "white",
            "gridcolor": "rgb(232,232,232)",
            "gridwidth": 2,
            "linecolor": "rgb(36,36,36)",
            "showbackground": true,
            "showgrid": false,
            "showline": true,
            "ticks": "outside",
            "zeroline": false,
            "zerolinecolor": "rgb(36,36,36)"
           },
           "zaxis": {
            "backgroundcolor": "white",
            "gridcolor": "rgb(232,232,232)",
            "gridwidth": 2,
            "linecolor": "rgb(36,36,36)",
            "showbackground": true,
            "showgrid": false,
            "showline": true,
            "ticks": "outside",
            "zeroline": false,
            "zerolinecolor": "rgb(36,36,36)"
           }
          },
          "shapedefaults": {
           "fillcolor": "black",
           "line": {
            "width": 0
           },
           "opacity": 0.3
          },
          "ternary": {
           "aaxis": {
            "gridcolor": "rgb(232,232,232)",
            "linecolor": "rgb(36,36,36)",
            "showgrid": false,
            "showline": true,
            "ticks": "outside"
           },
           "baxis": {
            "gridcolor": "rgb(232,232,232)",
            "linecolor": "rgb(36,36,36)",
            "showgrid": false,
            "showline": true,
            "ticks": "outside"
           },
           "bgcolor": "white",
           "caxis": {
            "gridcolor": "rgb(232,232,232)",
            "linecolor": "rgb(36,36,36)",
            "showgrid": false,
            "showline": true,
            "ticks": "outside"
           }
          },
          "title": {
           "x": 0.05
          },
          "xaxis": {
           "automargin": true,
           "gridcolor": "rgb(232,232,232)",
           "linecolor": "rgb(36,36,36)",
           "showgrid": false,
           "showline": true,
           "ticks": "outside",
           "title": {
            "standoff": 15
           },
           "zeroline": false,
           "zerolinecolor": "rgb(36,36,36)"
          },
          "yaxis": {
           "automargin": true,
           "gridcolor": "rgb(232,232,232)",
           "linecolor": "rgb(36,36,36)",
           "showgrid": false,
           "showline": true,
           "ticks": "outside",
           "title": {
            "standoff": 15
           },
           "zeroline": false,
           "zerolinecolor": "rgb(36,36,36)"
          }
         }
        },
        "width": 900,
        "xaxis": {
         "anchor": "y",
         "domain": [
          0,
          1
         ],
         "title": {
          "text": "station_group"
         }
        },
        "yaxis": {
         "anchor": "x",
         "domain": [
          0,
          1
         ],
         "tickformat": ".00f",
         "title": {
          "text": "value"
         }
        }
       }
      },
      "text/html": [
       "<div>                            <div id=\"9b6a760e-5504-4ee6-a601-523bf7ed3840\" class=\"plotly-graph-div\" style=\"height:500px; width:900px;\"></div>            <script type=\"text/javascript\">                require([\"plotly\"], function(Plotly) {                    window.PLOTLYENV=window.PLOTLYENV || {};                                    if (document.getElementById(\"9b6a760e-5504-4ee6-a601-523bf7ed3840\")) {                    Plotly.newPlot(                        \"9b6a760e-5504-4ee6-a601-523bf7ed3840\",                        [{\"hovertemplate\":\"variable=observed_boardings\\u003cbr\\u003estation_group=%{x}\\u003cbr\\u003evalue=%{y}\\u003cextra\\u003e\\u003c\\u002fextra\\u003e\",\"legendgroup\":\"observed_boardings\",\"line\":{\"color\":\"#91268F\",\"dash\":\"solid\"},\"marker\":{\"symbol\":\"circle\"},\"mode\":\"lines\",\"name\":\"observed_boardings\",\"orientation\":\"v\",\"showlegend\":true,\"x\":[\"Northgate\\u002fRoosevelt\",\"U District\\u002fHusky Stadium\",\"Capitol Hill\",\"Westlake\\u002fSymphony\",\"Pioneer Square\\u002fInt'l District\",\"Stadium\\u002fSODO\",\"Beacon Hill\\u002fMount Baker\",\"Columbia City\",\"Othello\\u002fRainier Beach\",\"Tukwila Int'l Blvd\",\"SeaTac\\u002fAirport\",\"Angle Lake\"],\"xaxis\":\"x\",\"y\":[14733.0,13697.0,7667.0,13169.0,6799.0,3400.0,4008.0,1630.0,3525.0,2298.0,4731.0,3865.0],\"yaxis\":\"y\",\"type\":\"scatter\"},{\"hovertemplate\":\"variable=model_boardings\\u003cbr\\u003estation_group=%{x}\\u003cbr\\u003evalue=%{y}\\u003cextra\\u003e\\u003c\\u002fextra\\u003e\",\"legendgroup\":\"model_boardings\",\"line\":{\"color\":\"#8CC63E\",\"dash\":\"solid\"},\"marker\":{\"symbol\":\"circle\"},\"mode\":\"lines\",\"name\":\"model_boardings\",\"orientation\":\"v\",\"showlegend\":true,\"x\":[\"Northgate\\u002fRoosevelt\",\"U District\\u002fHusky Stadium\",\"Capitol Hill\",\"Westlake\\u002fSymphony\",\"Pioneer Square\\u002fInt'l District\",\"Stadium\\u002fSODO\",\"Beacon Hill\\u002fMount Baker\",\"Columbia City\",\"Othello\\u002fRainier Beach\",\"Tukwila Int'l Blvd\",\"SeaTac\\u002fAirport\",\"Angle Lake\"],\"xaxis\":\"x\",\"y\":[18314.67991542816,12554.179139375687,9098.025134086609,19323.292497634888,8034.559991836548,3129.3503523617983,3607.8248320817947,2085.997603654861,4607.936014175415,3332.7417664527893,6326.295556664467,3367.8624114990234],\"yaxis\":\"y\",\"type\":\"scatter\"}],                        {\"template\":{\"data\":{\"barpolar\":[{\"marker\":{\"line\":{\"color\":\"white\",\"width\":0.5},\"pattern\":{\"fillmode\":\"overlay\",\"size\":10,\"solidity\":0.2}},\"type\":\"barpolar\"}],\"bar\":[{\"error_x\":{\"color\":\"rgb(36,36,36)\"},\"error_y\":{\"color\":\"rgb(36,36,36)\"},\"marker\":{\"line\":{\"color\":\"white\",\"width\":0.5},\"pattern\":{\"fillmode\":\"overlay\",\"size\":10,\"solidity\":0.2}},\"type\":\"bar\"}],\"carpet\":[{\"aaxis\":{\"endlinecolor\":\"rgb(36,36,36)\",\"gridcolor\":\"white\",\"linecolor\":\"white\",\"minorgridcolor\":\"white\",\"startlinecolor\":\"rgb(36,36,36)\"},\"baxis\":{\"endlinecolor\":\"rgb(36,36,36)\",\"gridcolor\":\"white\",\"linecolor\":\"white\",\"minorgridcolor\":\"white\",\"startlinecolor\":\"rgb(36,36,36)\"},\"type\":\"carpet\"}],\"choropleth\":[{\"colorbar\":{\"outlinewidth\":1,\"tickcolor\":\"rgb(36,36,36)\",\"ticks\":\"outside\"},\"type\":\"choropleth\"}],\"contourcarpet\":[{\"colorbar\":{\"outlinewidth\":1,\"tickcolor\":\"rgb(36,36,36)\",\"ticks\":\"outside\"},\"type\":\"contourcarpet\"}],\"contour\":[{\"colorbar\":{\"outlinewidth\":1,\"tickcolor\":\"rgb(36,36,36)\",\"ticks\":\"outside\"},\"colorscale\":[[0.0,\"#440154\"],[0.1111111111111111,\"#482878\"],[0.2222222222222222,\"#3e4989\"],[0.3333333333333333,\"#31688e\"],[0.4444444444444444,\"#26828e\"],[0.5555555555555556,\"#1f9e89\"],[0.6666666666666666,\"#35b779\"],[0.7777777777777778,\"#6ece58\"],[0.8888888888888888,\"#b5de2b\"],[1.0,\"#fde725\"]],\"type\":\"contour\"}],\"heatmapgl\":[{\"colorbar\":{\"outlinewidth\":1,\"tickcolor\":\"rgb(36,36,36)\",\"ticks\":\"outside\"},\"colorscale\":[[0.0,\"#440154\"],[0.1111111111111111,\"#482878\"],[0.2222222222222222,\"#3e4989\"],[0.3333333333333333,\"#31688e\"],[0.4444444444444444,\"#26828e\"],[0.5555555555555556,\"#1f9e89\"],[0.6666666666666666,\"#35b779\"],[0.7777777777777778,\"#6ece58\"],[0.8888888888888888,\"#b5de2b\"],[1.0,\"#fde725\"]],\"type\":\"heatmapgl\"}],\"heatmap\":[{\"colorbar\":{\"outlinewidth\":1,\"tickcolor\":\"rgb(36,36,36)\",\"ticks\":\"outside\"},\"colorscale\":[[0.0,\"#440154\"],[0.1111111111111111,\"#482878\"],[0.2222222222222222,\"#3e4989\"],[0.3333333333333333,\"#31688e\"],[0.4444444444444444,\"#26828e\"],[0.5555555555555556,\"#1f9e89\"],[0.6666666666666666,\"#35b779\"],[0.7777777777777778,\"#6ece58\"],[0.8888888888888888,\"#b5de2b\"],[1.0,\"#fde725\"]],\"type\":\"heatmap\"}],\"histogram2dcontour\":[{\"colorbar\":{\"outlinewidth\":1,\"tickcolor\":\"rgb(36,36,36)\",\"ticks\":\"outside\"},\"colorscale\":[[0.0,\"#440154\"],[0.1111111111111111,\"#482878\"],[0.2222222222222222,\"#3e4989\"],[0.3333333333333333,\"#31688e\"],[0.4444444444444444,\"#26828e\"],[0.5555555555555556,\"#1f9e89\"],[0.6666666666666666,\"#35b779\"],[0.7777777777777778,\"#6ece58\"],[0.8888888888888888,\"#b5de2b\"],[1.0,\"#fde725\"]],\"type\":\"histogram2dcontour\"}],\"histogram2d\":[{\"colorbar\":{\"outlinewidth\":1,\"tickcolor\":\"rgb(36,36,36)\",\"ticks\":\"outside\"},\"colorscale\":[[0.0,\"#440154\"],[0.1111111111111111,\"#482878\"],[0.2222222222222222,\"#3e4989\"],[0.3333333333333333,\"#31688e\"],[0.4444444444444444,\"#26828e\"],[0.5555555555555556,\"#1f9e89\"],[0.6666666666666666,\"#35b779\"],[0.7777777777777778,\"#6ece58\"],[0.8888888888888888,\"#b5de2b\"],[1.0,\"#fde725\"]],\"type\":\"histogram2d\"}],\"histogram\":[{\"marker\":{\"line\":{\"color\":\"white\",\"width\":0.6}},\"type\":\"histogram\"}],\"mesh3d\":[{\"colorbar\":{\"outlinewidth\":1,\"tickcolor\":\"rgb(36,36,36)\",\"ticks\":\"outside\"},\"type\":\"mesh3d\"}],\"parcoords\":[{\"line\":{\"colorbar\":{\"outlinewidth\":1,\"tickcolor\":\"rgb(36,36,36)\",\"ticks\":\"outside\"}},\"type\":\"parcoords\"}],\"pie\":[{\"automargin\":true,\"type\":\"pie\"}],\"scatter3d\":[{\"line\":{\"colorbar\":{\"outlinewidth\":1,\"tickcolor\":\"rgb(36,36,36)\",\"ticks\":\"outside\"}},\"marker\":{\"colorbar\":{\"outlinewidth\":1,\"tickcolor\":\"rgb(36,36,36)\",\"ticks\":\"outside\"}},\"type\":\"scatter3d\"}],\"scattercarpet\":[{\"marker\":{\"colorbar\":{\"outlinewidth\":1,\"tickcolor\":\"rgb(36,36,36)\",\"ticks\":\"outside\"}},\"type\":\"scattercarpet\"}],\"scattergeo\":[{\"marker\":{\"colorbar\":{\"outlinewidth\":1,\"tickcolor\":\"rgb(36,36,36)\",\"ticks\":\"outside\"}},\"type\":\"scattergeo\"}],\"scattergl\":[{\"marker\":{\"colorbar\":{\"outlinewidth\":1,\"tickcolor\":\"rgb(36,36,36)\",\"ticks\":\"outside\"}},\"type\":\"scattergl\"}],\"scattermapbox\":[{\"marker\":{\"colorbar\":{\"outlinewidth\":1,\"tickcolor\":\"rgb(36,36,36)\",\"ticks\":\"outside\"}},\"type\":\"scattermapbox\"}],\"scatterpolargl\":[{\"marker\":{\"colorbar\":{\"outlinewidth\":1,\"tickcolor\":\"rgb(36,36,36)\",\"ticks\":\"outside\"}},\"type\":\"scatterpolargl\"}],\"scatterpolar\":[{\"marker\":{\"colorbar\":{\"outlinewidth\":1,\"tickcolor\":\"rgb(36,36,36)\",\"ticks\":\"outside\"}},\"type\":\"scatterpolar\"}],\"scatter\":[{\"fillpattern\":{\"fillmode\":\"overlay\",\"size\":10,\"solidity\":0.2},\"type\":\"scatter\"}],\"scatterternary\":[{\"marker\":{\"colorbar\":{\"outlinewidth\":1,\"tickcolor\":\"rgb(36,36,36)\",\"ticks\":\"outside\"}},\"type\":\"scatterternary\"}],\"surface\":[{\"colorbar\":{\"outlinewidth\":1,\"tickcolor\":\"rgb(36,36,36)\",\"ticks\":\"outside\"},\"colorscale\":[[0.0,\"#440154\"],[0.1111111111111111,\"#482878\"],[0.2222222222222222,\"#3e4989\"],[0.3333333333333333,\"#31688e\"],[0.4444444444444444,\"#26828e\"],[0.5555555555555556,\"#1f9e89\"],[0.6666666666666666,\"#35b779\"],[0.7777777777777778,\"#6ece58\"],[0.8888888888888888,\"#b5de2b\"],[1.0,\"#fde725\"]],\"type\":\"surface\"}],\"table\":[{\"cells\":{\"fill\":{\"color\":\"rgb(237,237,237)\"},\"line\":{\"color\":\"white\"}},\"header\":{\"fill\":{\"color\":\"rgb(217,217,217)\"},\"line\":{\"color\":\"white\"}},\"type\":\"table\"}]},\"layout\":{\"annotationdefaults\":{\"arrowhead\":0,\"arrowwidth\":1},\"autotypenumbers\":\"strict\",\"coloraxis\":{\"colorbar\":{\"outlinewidth\":1,\"tickcolor\":\"rgb(36,36,36)\",\"ticks\":\"outside\"}},\"colorscale\":{\"diverging\":[[0.0,\"rgb(103,0,31)\"],[0.1,\"rgb(178,24,43)\"],[0.2,\"rgb(214,96,77)\"],[0.3,\"rgb(244,165,130)\"],[0.4,\"rgb(253,219,199)\"],[0.5,\"rgb(247,247,247)\"],[0.6,\"rgb(209,229,240)\"],[0.7,\"rgb(146,197,222)\"],[0.8,\"rgb(67,147,195)\"],[0.9,\"rgb(33,102,172)\"],[1.0,\"rgb(5,48,97)\"]],\"sequential\":[[0.0,\"#440154\"],[0.1111111111111111,\"#482878\"],[0.2222222222222222,\"#3e4989\"],[0.3333333333333333,\"#31688e\"],[0.4444444444444444,\"#26828e\"],[0.5555555555555556,\"#1f9e89\"],[0.6666666666666666,\"#35b779\"],[0.7777777777777778,\"#6ece58\"],[0.8888888888888888,\"#b5de2b\"],[1.0,\"#fde725\"]],\"sequentialminus\":[[0.0,\"#440154\"],[0.1111111111111111,\"#482878\"],[0.2222222222222222,\"#3e4989\"],[0.3333333333333333,\"#31688e\"],[0.4444444444444444,\"#26828e\"],[0.5555555555555556,\"#1f9e89\"],[0.6666666666666666,\"#35b779\"],[0.7777777777777778,\"#6ece58\"],[0.8888888888888888,\"#b5de2b\"],[1.0,\"#fde725\"]]},\"colorway\":[\"#91268F\",\"#8CC63E\",\"#00A7A0\",\"#F05A28\",\"#4C4C4C\",\"#630460\",\"#9f3913\",\"#588527\",\"#00716c\",\"#3e4040\"],\"font\":{\"color\":\"rgb(36,36,36)\",\"family\":\"Poppins\",\"size\":11},\"geo\":{\"bgcolor\":\"white\",\"lakecolor\":\"white\",\"landcolor\":\"white\",\"showlakes\":true,\"showland\":true,\"subunitcolor\":\"white\"},\"hoverlabel\":{\"align\":\"left\"},\"hovermode\":\"closest\",\"mapbox\":{\"style\":\"light\"},\"paper_bgcolor\":\"white\",\"plot_bgcolor\":\"white\",\"polar\":{\"angularaxis\":{\"gridcolor\":\"rgb(232,232,232)\",\"linecolor\":\"rgb(36,36,36)\",\"showgrid\":false,\"showline\":true,\"ticks\":\"outside\"},\"bgcolor\":\"white\",\"radialaxis\":{\"gridcolor\":\"rgb(232,232,232)\",\"linecolor\":\"rgb(36,36,36)\",\"showgrid\":false,\"showline\":true,\"ticks\":\"outside\"}},\"scene\":{\"xaxis\":{\"backgroundcolor\":\"white\",\"gridcolor\":\"rgb(232,232,232)\",\"gridwidth\":2,\"linecolor\":\"rgb(36,36,36)\",\"showbackground\":true,\"showgrid\":false,\"showline\":true,\"ticks\":\"outside\",\"zeroline\":false,\"zerolinecolor\":\"rgb(36,36,36)\"},\"yaxis\":{\"backgroundcolor\":\"white\",\"gridcolor\":\"rgb(232,232,232)\",\"gridwidth\":2,\"linecolor\":\"rgb(36,36,36)\",\"showbackground\":true,\"showgrid\":false,\"showline\":true,\"ticks\":\"outside\",\"zeroline\":false,\"zerolinecolor\":\"rgb(36,36,36)\"},\"zaxis\":{\"backgroundcolor\":\"white\",\"gridcolor\":\"rgb(232,232,232)\",\"gridwidth\":2,\"linecolor\":\"rgb(36,36,36)\",\"showbackground\":true,\"showgrid\":false,\"showline\":true,\"ticks\":\"outside\",\"zeroline\":false,\"zerolinecolor\":\"rgb(36,36,36)\"}},\"shapedefaults\":{\"fillcolor\":\"black\",\"line\":{\"width\":0},\"opacity\":0.3},\"ternary\":{\"aaxis\":{\"gridcolor\":\"rgb(232,232,232)\",\"linecolor\":\"rgb(36,36,36)\",\"showgrid\":false,\"showline\":true,\"ticks\":\"outside\"},\"baxis\":{\"gridcolor\":\"rgb(232,232,232)\",\"linecolor\":\"rgb(36,36,36)\",\"showgrid\":false,\"showline\":true,\"ticks\":\"outside\"},\"bgcolor\":\"white\",\"caxis\":{\"gridcolor\":\"rgb(232,232,232)\",\"linecolor\":\"rgb(36,36,36)\",\"showgrid\":false,\"showline\":true,\"ticks\":\"outside\"}},\"title\":{\"x\":0.05},\"xaxis\":{\"automargin\":true,\"gridcolor\":\"rgb(232,232,232)\",\"linecolor\":\"rgb(36,36,36)\",\"showgrid\":false,\"showline\":true,\"ticks\":\"outside\",\"title\":{\"standoff\":15},\"zeroline\":false,\"zerolinecolor\":\"rgb(36,36,36)\"},\"yaxis\":{\"automargin\":true,\"gridcolor\":\"rgb(232,232,232)\",\"linecolor\":\"rgb(36,36,36)\",\"showgrid\":false,\"showline\":true,\"ticks\":\"outside\",\"title\":{\"standoff\":15},\"zeroline\":false,\"zerolinecolor\":\"rgb(36,36,36)\"}}},\"xaxis\":{\"anchor\":\"y\",\"domain\":[0.0,1.0],\"title\":{\"text\":\"station_group\"}},\"yaxis\":{\"anchor\":\"x\",\"domain\":[0.0,1.0],\"title\":{\"text\":\"value\"},\"tickformat\":\".00f\"},\"legend\":{\"title\":{\"text\":\"variable\"},\"tracegroupgap\":0},\"margin\":{\"t\":60},\"font\":{\"size\":11},\"height\":500,\"width\":900},                        {\"responsive\": true}                    ).then(function(){\n",
       "                            \n",
       "var gd = document.getElementById('9b6a760e-5504-4ee6-a601-523bf7ed3840');\n",
       "var x = new MutationObserver(function (mutations, observer) {{\n",
       "        var display = window.getComputedStyle(gd).display;\n",
       "        if (!display || display === 'none') {{\n",
       "            console.log([gd, 'removed!']);\n",
       "            Plotly.purge(gd);\n",
       "            observer.disconnect();\n",
       "        }}\n",
       "}});\n",
       "\n",
       "// Listen for the removal of the full notebook cells\n",
       "var notebookContainer = gd.closest('#notebook-container');\n",
       "if (notebookContainer) {{\n",
       "    x.observe(notebookContainer, {childList: true});\n",
       "}}\n",
       "\n",
       "// Listen for the clearing of the current output cell\n",
       "var outputEl = gd.closest('.output');\n",
       "if (outputEl) {{\n",
       "    x.observe(outputEl, {childList: true});\n",
       "}}\n",
       "\n",
       "                        })                };                });            </script>        </div>"
      ]
     },
     "metadata": {},
     "output_type": "display_data"
    }
   ],
   "source": [
    "\n",
    "fig = px.line(df_combined[['observed_boardings','model_boardings']])\n",
    "fig.update_layout(height=500, width=900, font=dict(size=11),\n",
    "                  yaxis_tickformat = '.00f')\n",
    "fig.show()"
   ]
  },
  {
   "cell_type": "raw",
   "id": "b23f6eef",
   "metadata": {
    "vscode": {
     "languageId": "raw"
    }
   },
   "source": [
    "#### 2023/2024 Station Boardings"
   ]
  },
  {
   "cell_type": "code",
   "execution_count": 29,
   "id": "5d7293bb",
   "metadata": {},
   "outputs": [
    {
     "ename": "AttributeError",
     "evalue": "'OptionEngine' object has no attribute 'execute'",
     "output_type": "error",
     "traceback": [
      "\u001b[1;31m---------------------------------------------------------------------------\u001b[0m",
      "\u001b[1;31mAttributeError\u001b[0m                            Traceback (most recent call last)",
      "Cell \u001b[1;32mIn[29], line 1\u001b[0m\n\u001b[1;32m----> 1\u001b[0m df_obs \u001b[38;5;241m=\u001b[39m \u001b[43mpd\u001b[49m\u001b[38;5;241;43m.\u001b[39;49m\u001b[43mread_sql\u001b[49m\u001b[43m(\u001b[49m\n\u001b[0;32m      2\u001b[0m \u001b[43m    \u001b[49m\u001b[38;5;124;43m\"\u001b[39;49m\u001b[38;5;124;43mSELECT * FROM light_rail_station_boardings WHERE year IN (2023, 2024)\u001b[39;49m\u001b[38;5;124;43m\"\u001b[39;49m\u001b[43m,\u001b[49m\n\u001b[0;32m      3\u001b[0m \u001b[43m    \u001b[49m\u001b[43mcon\u001b[49m\u001b[38;5;241;43m=\u001b[39;49m\u001b[43mconn\u001b[49m\u001b[43m,\u001b[49m\n\u001b[0;32m      4\u001b[0m \u001b[43m)\u001b[49m\n\u001b[0;32m      5\u001b[0m df_obs\u001b[38;5;241m.\u001b[39mrename(columns\u001b[38;5;241m=\u001b[39m{\u001b[38;5;124m\"\u001b[39m\u001b[38;5;124mboardings\u001b[39m\u001b[38;5;124m\"\u001b[39m: \u001b[38;5;124m\"\u001b[39m\u001b[38;5;124mobserved_boardings\u001b[39m\u001b[38;5;124m\"\u001b[39m}, inplace\u001b[38;5;241m=\u001b[39m\u001b[38;5;28;01mTrue\u001b[39;00m)\n\u001b[0;32m      7\u001b[0m \u001b[38;5;66;03m# df_obs.groupby(['year','station_name']).sum()\u001b[39;00m\n",
      "File \u001b[1;32mc:\\Users\\Modeller\\AppData\\Local\\anaconda3\\envs\\build_notebook\\lib\\site-packages\\pandas\\io\\sql.py:590\u001b[0m, in \u001b[0;36mread_sql\u001b[1;34m(sql, con, index_col, coerce_float, params, parse_dates, columns, chunksize)\u001b[0m\n\u001b[0;32m    581\u001b[0m     \u001b[38;5;28;01mreturn\u001b[39;00m pandas_sql\u001b[38;5;241m.\u001b[39mread_table(\n\u001b[0;32m    582\u001b[0m         sql,\n\u001b[0;32m    583\u001b[0m         index_col\u001b[38;5;241m=\u001b[39mindex_col,\n\u001b[1;32m   (...)\u001b[0m\n\u001b[0;32m    587\u001b[0m         chunksize\u001b[38;5;241m=\u001b[39mchunksize,\n\u001b[0;32m    588\u001b[0m     )\n\u001b[0;32m    589\u001b[0m \u001b[38;5;28;01melse\u001b[39;00m:\n\u001b[1;32m--> 590\u001b[0m     \u001b[38;5;28;01mreturn\u001b[39;00m \u001b[43mpandas_sql\u001b[49m\u001b[38;5;241;43m.\u001b[39;49m\u001b[43mread_query\u001b[49m\u001b[43m(\u001b[49m\n\u001b[0;32m    591\u001b[0m \u001b[43m        \u001b[49m\u001b[43msql\u001b[49m\u001b[43m,\u001b[49m\n\u001b[0;32m    592\u001b[0m \u001b[43m        \u001b[49m\u001b[43mindex_col\u001b[49m\u001b[38;5;241;43m=\u001b[39;49m\u001b[43mindex_col\u001b[49m\u001b[43m,\u001b[49m\n\u001b[0;32m    593\u001b[0m \u001b[43m        \u001b[49m\u001b[43mparams\u001b[49m\u001b[38;5;241;43m=\u001b[39;49m\u001b[43mparams\u001b[49m\u001b[43m,\u001b[49m\n\u001b[0;32m    594\u001b[0m \u001b[43m        \u001b[49m\u001b[43mcoerce_float\u001b[49m\u001b[38;5;241;43m=\u001b[39;49m\u001b[43mcoerce_float\u001b[49m\u001b[43m,\u001b[49m\n\u001b[0;32m    595\u001b[0m \u001b[43m        \u001b[49m\u001b[43mparse_dates\u001b[49m\u001b[38;5;241;43m=\u001b[39;49m\u001b[43mparse_dates\u001b[49m\u001b[43m,\u001b[49m\n\u001b[0;32m    596\u001b[0m \u001b[43m        \u001b[49m\u001b[43mchunksize\u001b[49m\u001b[38;5;241;43m=\u001b[39;49m\u001b[43mchunksize\u001b[49m\u001b[43m,\u001b[49m\n\u001b[0;32m    597\u001b[0m \u001b[43m    \u001b[49m\u001b[43m)\u001b[49m\n",
      "File \u001b[1;32mc:\\Users\\Modeller\\AppData\\Local\\anaconda3\\envs\\build_notebook\\lib\\site-packages\\pandas\\io\\sql.py:1560\u001b[0m, in \u001b[0;36mSQLDatabase.read_query\u001b[1;34m(self, sql, index_col, coerce_float, parse_dates, params, chunksize, dtype)\u001b[0m\n\u001b[0;32m   1512\u001b[0m \u001b[38;5;250m\u001b[39m\u001b[38;5;124;03m\"\"\"\u001b[39;00m\n\u001b[0;32m   1513\u001b[0m \u001b[38;5;124;03mRead SQL query into a DataFrame.\u001b[39;00m\n\u001b[0;32m   1514\u001b[0m \n\u001b[1;32m   (...)\u001b[0m\n\u001b[0;32m   1556\u001b[0m \n\u001b[0;32m   1557\u001b[0m \u001b[38;5;124;03m\"\"\"\u001b[39;00m\n\u001b[0;32m   1558\u001b[0m args \u001b[38;5;241m=\u001b[39m _convert_params(sql, params)\n\u001b[1;32m-> 1560\u001b[0m result \u001b[38;5;241m=\u001b[39m \u001b[38;5;28;43mself\u001b[39;49m\u001b[38;5;241;43m.\u001b[39;49m\u001b[43mexecute\u001b[49m\u001b[43m(\u001b[49m\u001b[38;5;241;43m*\u001b[39;49m\u001b[43margs\u001b[49m\u001b[43m)\u001b[49m\n\u001b[0;32m   1561\u001b[0m columns \u001b[38;5;241m=\u001b[39m result\u001b[38;5;241m.\u001b[39mkeys()\n\u001b[0;32m   1563\u001b[0m \u001b[38;5;28;01mif\u001b[39;00m chunksize \u001b[38;5;129;01mis\u001b[39;00m \u001b[38;5;129;01mnot\u001b[39;00m \u001b[38;5;28;01mNone\u001b[39;00m:\n",
      "File \u001b[1;32mc:\\Users\\Modeller\\AppData\\Local\\anaconda3\\envs\\build_notebook\\lib\\site-packages\\pandas\\io\\sql.py:1405\u001b[0m, in \u001b[0;36mSQLDatabase.execute\u001b[1;34m(self, *args, **kwargs)\u001b[0m\n\u001b[0;32m   1403\u001b[0m \u001b[38;5;28;01mdef\u001b[39;00m \u001b[38;5;21mexecute\u001b[39m(\u001b[38;5;28mself\u001b[39m, \u001b[38;5;241m*\u001b[39margs, \u001b[38;5;241m*\u001b[39m\u001b[38;5;241m*\u001b[39mkwargs):\n\u001b[0;32m   1404\u001b[0m \u001b[38;5;250m    \u001b[39m\u001b[38;5;124;03m\"\"\"Simple passthrough to SQLAlchemy connectable\"\"\"\u001b[39;00m\n\u001b[1;32m-> 1405\u001b[0m     \u001b[38;5;28;01mreturn\u001b[39;00m \u001b[38;5;28;43mself\u001b[39;49m\u001b[38;5;241;43m.\u001b[39;49m\u001b[43mconnectable\u001b[49m\u001b[38;5;241;43m.\u001b[39;49m\u001b[43mexecution_options\u001b[49m\u001b[43m(\u001b[49m\u001b[43m)\u001b[49m\u001b[38;5;241;43m.\u001b[39;49m\u001b[43mexecute\u001b[49m(\u001b[38;5;241m*\u001b[39margs, \u001b[38;5;241m*\u001b[39m\u001b[38;5;241m*\u001b[39mkwargs)\n",
      "\u001b[1;31mAttributeError\u001b[0m: 'OptionEngine' object has no attribute 'execute'"
     ]
    }
   ],
   "source": [
    "df_obs = pd.read_sql(\n",
    "    \"SELECT * FROM light_rail_station_boardings WHERE year IN (2023, 2024)\",\n",
    "    con=conn,\n",
    ")\n",
    "df_obs.rename(columns={\"boardings\": \"observed_boardings\"}, inplace=True)\n",
    "\n",
    "# df_obs.groupby(['year','station_name']).sum()\n",
    "df_obs = pd.pivot_table(df_obs, values='observed_boardings', columns='year', index='station_name', aggfunc=np.sum)\n",
    "df_obs = df_obs.fillna(0)\n",
    "df_obs\n",
    "\n",
    "df = pd.read_csv(os.path.join(csv_path,'light_rail_boardings.csv'), index_col='station_name', usecols=['station_name','model_boardings'])\n",
    "df = df.merge(df_obs,  left_index=True, right_index=True, how='outer')\n",
    "df = df[df.index != 'Total']\n",
    "df = df[~df['model_boardings'].isnull()]\n",
    "df = df.loc[line_1_station_list]"
   ]
  },
  {
   "cell_type": "code",
   "execution_count": null,
   "id": "5b8aa02f",
   "metadata": {},
   "outputs": [
    {
     "data": {
      "application/vnd.plotly.v1+json": {
       "config": {
        "plotlyServerURL": "https://plot.ly"
       },
       "data": [
        {
         "hovertemplate": "variable=2023<br>station_name=%{x}<br>value=%{y}<extra></extra>",
         "legendgroup": "2023",
         "line": {
          "color": "#91268F",
          "dash": "solid"
         },
         "marker": {
          "symbol": "circle"
         },
         "mode": "lines",
         "name": "2023",
         "orientation": "v",
         "showlegend": true,
         "type": "scatter",
         "x": [
          "Northgate Station",
          "Roosevelt Station",
          "University District Station",
          "Husky Stadium",
          "Capitol Hill",
          "Westlake",
          "Symphony",
          "Pioneer Square",
          "Int'l District",
          "Stadium",
          "SODO",
          "Beacon Hill",
          "Mount Baker",
          "Columbia City",
          "Othello",
          "Rainier Beach",
          "Tukwila Int'l Blvd",
          "SeaTac/Airport",
          "Angle Lake"
         ],
         "xaxis": "x",
         "y": [
          10384,
          4349,
          7563,
          6134,
          7667,
          8845,
          4324,
          2400,
          4399,
          1731,
          1669,
          2147,
          1861,
          1630,
          2030,
          1495,
          2298,
          4731,
          3865
         ],
         "yaxis": "y"
        },
        {
         "hovertemplate": "variable=2024<br>station_name=%{x}<br>value=%{y}<extra></extra>",
         "legendgroup": "2024",
         "line": {
          "color": "#8CC63E",
          "dash": "solid"
         },
         "marker": {
          "symbol": "circle"
         },
         "mode": "lines",
         "name": "2024",
         "orientation": "v",
         "showlegend": true,
         "type": "scatter",
         "x": [
          "Northgate Station",
          "Roosevelt Station",
          "University District Station",
          "Husky Stadium",
          "Capitol Hill",
          "Westlake",
          "Symphony",
          "Pioneer Square",
          "Int'l District",
          "Stadium",
          "SODO",
          "Beacon Hill",
          "Mount Baker",
          "Columbia City",
          "Othello",
          "Rainier Beach",
          "Tukwila Int'l Blvd",
          "SeaTac/Airport",
          "Angle Lake"
         ],
         "xaxis": "x",
         "y": [
          10171,
          4380,
          7694,
          5879,
          7977,
          9351,
          4599,
          2672,
          4808,
          1717,
          1656,
          2274,
          2078,
          1942,
          2261,
          1608,
          2567,
          5670,
          4963
         ],
         "yaxis": "y"
        },
        {
         "hovertemplate": "variable=model_boardings<br>station_name=%{x}<br>value=%{y}<extra></extra>",
         "legendgroup": "model_boardings",
         "line": {
          "color": "#00A7A0",
          "dash": "solid"
         },
         "marker": {
          "symbol": "circle"
         },
         "mode": "lines",
         "name": "model_boardings",
         "orientation": "v",
         "showlegend": true,
         "type": "scatter",
         "x": [
          "Northgate Station",
          "Roosevelt Station",
          "University District Station",
          "Husky Stadium",
          "Capitol Hill",
          "Westlake",
          "Symphony",
          "Pioneer Square",
          "Int'l District",
          "Stadium",
          "SODO",
          "Beacon Hill",
          "Mount Baker",
          "Columbia City",
          "Othello",
          "Rainier Beach",
          "Tukwila Int'l Blvd",
          "SeaTac/Airport",
          "Angle Lake"
         ],
         "xaxis": "x",
         "y": [
          6875.47673034668,
          8211.35608792305,
          6426.503324508667,
          3521.7037692070007,
          7405.991648674011,
          9513.880066871645,
          5781.7381067276,
          5285.319492340088,
          1842.6858491897583,
          354.3833352923393,
          2312.076726436615,
          1344.9621561169624,
          1691.1993079185486,
          1713.5256597995758,
          2062.065826177597,
          1647.9556176662445,
          2963.3052406311035,
          5982.433862507343,
          2980.4280700683594
         ],
         "yaxis": "y"
        }
       ],
       "layout": {
        "font": {
         "size": 11
        },
        "height": 500,
        "legend": {
         "title": {
          "text": "variable"
         },
         "tracegroupgap": 0
        },
        "margin": {
         "t": 60
        },
        "template": {
         "data": {
          "bar": [
           {
            "error_x": {
             "color": "rgb(36,36,36)"
            },
            "error_y": {
             "color": "rgb(36,36,36)"
            },
            "marker": {
             "line": {
              "color": "white",
              "width": 0.5
             },
             "pattern": {
              "fillmode": "overlay",
              "size": 10,
              "solidity": 0.2
             }
            },
            "type": "bar"
           }
          ],
          "barpolar": [
           {
            "marker": {
             "line": {
              "color": "white",
              "width": 0.5
             },
             "pattern": {
              "fillmode": "overlay",
              "size": 10,
              "solidity": 0.2
             }
            },
            "type": "barpolar"
           }
          ],
          "carpet": [
           {
            "aaxis": {
             "endlinecolor": "rgb(36,36,36)",
             "gridcolor": "white",
             "linecolor": "white",
             "minorgridcolor": "white",
             "startlinecolor": "rgb(36,36,36)"
            },
            "baxis": {
             "endlinecolor": "rgb(36,36,36)",
             "gridcolor": "white",
             "linecolor": "white",
             "minorgridcolor": "white",
             "startlinecolor": "rgb(36,36,36)"
            },
            "type": "carpet"
           }
          ],
          "choropleth": [
           {
            "colorbar": {
             "outlinewidth": 1,
             "tickcolor": "rgb(36,36,36)",
             "ticks": "outside"
            },
            "type": "choropleth"
           }
          ],
          "contour": [
           {
            "colorbar": {
             "outlinewidth": 1,
             "tickcolor": "rgb(36,36,36)",
             "ticks": "outside"
            },
            "colorscale": [
             [
              0,
              "#440154"
             ],
             [
              0.1111111111111111,
              "#482878"
             ],
             [
              0.2222222222222222,
              "#3e4989"
             ],
             [
              0.3333333333333333,
              "#31688e"
             ],
             [
              0.4444444444444444,
              "#26828e"
             ],
             [
              0.5555555555555556,
              "#1f9e89"
             ],
             [
              0.6666666666666666,
              "#35b779"
             ],
             [
              0.7777777777777778,
              "#6ece58"
             ],
             [
              0.8888888888888888,
              "#b5de2b"
             ],
             [
              1,
              "#fde725"
             ]
            ],
            "type": "contour"
           }
          ],
          "contourcarpet": [
           {
            "colorbar": {
             "outlinewidth": 1,
             "tickcolor": "rgb(36,36,36)",
             "ticks": "outside"
            },
            "type": "contourcarpet"
           }
          ],
          "heatmap": [
           {
            "colorbar": {
             "outlinewidth": 1,
             "tickcolor": "rgb(36,36,36)",
             "ticks": "outside"
            },
            "colorscale": [
             [
              0,
              "#440154"
             ],
             [
              0.1111111111111111,
              "#482878"
             ],
             [
              0.2222222222222222,
              "#3e4989"
             ],
             [
              0.3333333333333333,
              "#31688e"
             ],
             [
              0.4444444444444444,
              "#26828e"
             ],
             [
              0.5555555555555556,
              "#1f9e89"
             ],
             [
              0.6666666666666666,
              "#35b779"
             ],
             [
              0.7777777777777778,
              "#6ece58"
             ],
             [
              0.8888888888888888,
              "#b5de2b"
             ],
             [
              1,
              "#fde725"
             ]
            ],
            "type": "heatmap"
           }
          ],
          "heatmapgl": [
           {
            "colorbar": {
             "outlinewidth": 1,
             "tickcolor": "rgb(36,36,36)",
             "ticks": "outside"
            },
            "colorscale": [
             [
              0,
              "#440154"
             ],
             [
              0.1111111111111111,
              "#482878"
             ],
             [
              0.2222222222222222,
              "#3e4989"
             ],
             [
              0.3333333333333333,
              "#31688e"
             ],
             [
              0.4444444444444444,
              "#26828e"
             ],
             [
              0.5555555555555556,
              "#1f9e89"
             ],
             [
              0.6666666666666666,
              "#35b779"
             ],
             [
              0.7777777777777778,
              "#6ece58"
             ],
             [
              0.8888888888888888,
              "#b5de2b"
             ],
             [
              1,
              "#fde725"
             ]
            ],
            "type": "heatmapgl"
           }
          ],
          "histogram": [
           {
            "marker": {
             "line": {
              "color": "white",
              "width": 0.6
             }
            },
            "type": "histogram"
           }
          ],
          "histogram2d": [
           {
            "colorbar": {
             "outlinewidth": 1,
             "tickcolor": "rgb(36,36,36)",
             "ticks": "outside"
            },
            "colorscale": [
             [
              0,
              "#440154"
             ],
             [
              0.1111111111111111,
              "#482878"
             ],
             [
              0.2222222222222222,
              "#3e4989"
             ],
             [
              0.3333333333333333,
              "#31688e"
             ],
             [
              0.4444444444444444,
              "#26828e"
             ],
             [
              0.5555555555555556,
              "#1f9e89"
             ],
             [
              0.6666666666666666,
              "#35b779"
             ],
             [
              0.7777777777777778,
              "#6ece58"
             ],
             [
              0.8888888888888888,
              "#b5de2b"
             ],
             [
              1,
              "#fde725"
             ]
            ],
            "type": "histogram2d"
           }
          ],
          "histogram2dcontour": [
           {
            "colorbar": {
             "outlinewidth": 1,
             "tickcolor": "rgb(36,36,36)",
             "ticks": "outside"
            },
            "colorscale": [
             [
              0,
              "#440154"
             ],
             [
              0.1111111111111111,
              "#482878"
             ],
             [
              0.2222222222222222,
              "#3e4989"
             ],
             [
              0.3333333333333333,
              "#31688e"
             ],
             [
              0.4444444444444444,
              "#26828e"
             ],
             [
              0.5555555555555556,
              "#1f9e89"
             ],
             [
              0.6666666666666666,
              "#35b779"
             ],
             [
              0.7777777777777778,
              "#6ece58"
             ],
             [
              0.8888888888888888,
              "#b5de2b"
             ],
             [
              1,
              "#fde725"
             ]
            ],
            "type": "histogram2dcontour"
           }
          ],
          "mesh3d": [
           {
            "colorbar": {
             "outlinewidth": 1,
             "tickcolor": "rgb(36,36,36)",
             "ticks": "outside"
            },
            "type": "mesh3d"
           }
          ],
          "parcoords": [
           {
            "line": {
             "colorbar": {
              "outlinewidth": 1,
              "tickcolor": "rgb(36,36,36)",
              "ticks": "outside"
             }
            },
            "type": "parcoords"
           }
          ],
          "pie": [
           {
            "automargin": true,
            "type": "pie"
           }
          ],
          "scatter": [
           {
            "fillpattern": {
             "fillmode": "overlay",
             "size": 10,
             "solidity": 0.2
            },
            "type": "scatter"
           }
          ],
          "scatter3d": [
           {
            "line": {
             "colorbar": {
              "outlinewidth": 1,
              "tickcolor": "rgb(36,36,36)",
              "ticks": "outside"
             }
            },
            "marker": {
             "colorbar": {
              "outlinewidth": 1,
              "tickcolor": "rgb(36,36,36)",
              "ticks": "outside"
             }
            },
            "type": "scatter3d"
           }
          ],
          "scattercarpet": [
           {
            "marker": {
             "colorbar": {
              "outlinewidth": 1,
              "tickcolor": "rgb(36,36,36)",
              "ticks": "outside"
             }
            },
            "type": "scattercarpet"
           }
          ],
          "scattergeo": [
           {
            "marker": {
             "colorbar": {
              "outlinewidth": 1,
              "tickcolor": "rgb(36,36,36)",
              "ticks": "outside"
             }
            },
            "type": "scattergeo"
           }
          ],
          "scattergl": [
           {
            "marker": {
             "colorbar": {
              "outlinewidth": 1,
              "tickcolor": "rgb(36,36,36)",
              "ticks": "outside"
             }
            },
            "type": "scattergl"
           }
          ],
          "scattermapbox": [
           {
            "marker": {
             "colorbar": {
              "outlinewidth": 1,
              "tickcolor": "rgb(36,36,36)",
              "ticks": "outside"
             }
            },
            "type": "scattermapbox"
           }
          ],
          "scatterpolar": [
           {
            "marker": {
             "colorbar": {
              "outlinewidth": 1,
              "tickcolor": "rgb(36,36,36)",
              "ticks": "outside"
             }
            },
            "type": "scatterpolar"
           }
          ],
          "scatterpolargl": [
           {
            "marker": {
             "colorbar": {
              "outlinewidth": 1,
              "tickcolor": "rgb(36,36,36)",
              "ticks": "outside"
             }
            },
            "type": "scatterpolargl"
           }
          ],
          "scatterternary": [
           {
            "marker": {
             "colorbar": {
              "outlinewidth": 1,
              "tickcolor": "rgb(36,36,36)",
              "ticks": "outside"
             }
            },
            "type": "scatterternary"
           }
          ],
          "surface": [
           {
            "colorbar": {
             "outlinewidth": 1,
             "tickcolor": "rgb(36,36,36)",
             "ticks": "outside"
            },
            "colorscale": [
             [
              0,
              "#440154"
             ],
             [
              0.1111111111111111,
              "#482878"
             ],
             [
              0.2222222222222222,
              "#3e4989"
             ],
             [
              0.3333333333333333,
              "#31688e"
             ],
             [
              0.4444444444444444,
              "#26828e"
             ],
             [
              0.5555555555555556,
              "#1f9e89"
             ],
             [
              0.6666666666666666,
              "#35b779"
             ],
             [
              0.7777777777777778,
              "#6ece58"
             ],
             [
              0.8888888888888888,
              "#b5de2b"
             ],
             [
              1,
              "#fde725"
             ]
            ],
            "type": "surface"
           }
          ],
          "table": [
           {
            "cells": {
             "fill": {
              "color": "rgb(237,237,237)"
             },
             "line": {
              "color": "white"
             }
            },
            "header": {
             "fill": {
              "color": "rgb(217,217,217)"
             },
             "line": {
              "color": "white"
             }
            },
            "type": "table"
           }
          ]
         },
         "layout": {
          "annotationdefaults": {
           "arrowhead": 0,
           "arrowwidth": 1
          },
          "autotypenumbers": "strict",
          "coloraxis": {
           "colorbar": {
            "outlinewidth": 1,
            "tickcolor": "rgb(36,36,36)",
            "ticks": "outside"
           }
          },
          "colorscale": {
           "diverging": [
            [
             0,
             "rgb(103,0,31)"
            ],
            [
             0.1,
             "rgb(178,24,43)"
            ],
            [
             0.2,
             "rgb(214,96,77)"
            ],
            [
             0.3,
             "rgb(244,165,130)"
            ],
            [
             0.4,
             "rgb(253,219,199)"
            ],
            [
             0.5,
             "rgb(247,247,247)"
            ],
            [
             0.6,
             "rgb(209,229,240)"
            ],
            [
             0.7,
             "rgb(146,197,222)"
            ],
            [
             0.8,
             "rgb(67,147,195)"
            ],
            [
             0.9,
             "rgb(33,102,172)"
            ],
            [
             1,
             "rgb(5,48,97)"
            ]
           ],
           "sequential": [
            [
             0,
             "#440154"
            ],
            [
             0.1111111111111111,
             "#482878"
            ],
            [
             0.2222222222222222,
             "#3e4989"
            ],
            [
             0.3333333333333333,
             "#31688e"
            ],
            [
             0.4444444444444444,
             "#26828e"
            ],
            [
             0.5555555555555556,
             "#1f9e89"
            ],
            [
             0.6666666666666666,
             "#35b779"
            ],
            [
             0.7777777777777778,
             "#6ece58"
            ],
            [
             0.8888888888888888,
             "#b5de2b"
            ],
            [
             1,
             "#fde725"
            ]
           ],
           "sequentialminus": [
            [
             0,
             "#440154"
            ],
            [
             0.1111111111111111,
             "#482878"
            ],
            [
             0.2222222222222222,
             "#3e4989"
            ],
            [
             0.3333333333333333,
             "#31688e"
            ],
            [
             0.4444444444444444,
             "#26828e"
            ],
            [
             0.5555555555555556,
             "#1f9e89"
            ],
            [
             0.6666666666666666,
             "#35b779"
            ],
            [
             0.7777777777777778,
             "#6ece58"
            ],
            [
             0.8888888888888888,
             "#b5de2b"
            ],
            [
             1,
             "#fde725"
            ]
           ]
          },
          "colorway": [
           "#91268F",
           "#8CC63E",
           "#00A7A0",
           "#F05A28",
           "#4C4C4C",
           "#630460",
           "#9f3913",
           "#588527",
           "#00716c",
           "#3e4040"
          ],
          "font": {
           "color": "rgb(36,36,36)",
           "family": "Poppins",
           "size": 11
          },
          "geo": {
           "bgcolor": "white",
           "lakecolor": "white",
           "landcolor": "white",
           "showlakes": true,
           "showland": true,
           "subunitcolor": "white"
          },
          "hoverlabel": {
           "align": "left"
          },
          "hovermode": "closest",
          "mapbox": {
           "style": "light"
          },
          "paper_bgcolor": "white",
          "plot_bgcolor": "white",
          "polar": {
           "angularaxis": {
            "gridcolor": "rgb(232,232,232)",
            "linecolor": "rgb(36,36,36)",
            "showgrid": false,
            "showline": true,
            "ticks": "outside"
           },
           "bgcolor": "white",
           "radialaxis": {
            "gridcolor": "rgb(232,232,232)",
            "linecolor": "rgb(36,36,36)",
            "showgrid": false,
            "showline": true,
            "ticks": "outside"
           }
          },
          "scene": {
           "xaxis": {
            "backgroundcolor": "white",
            "gridcolor": "rgb(232,232,232)",
            "gridwidth": 2,
            "linecolor": "rgb(36,36,36)",
            "showbackground": true,
            "showgrid": false,
            "showline": true,
            "ticks": "outside",
            "zeroline": false,
            "zerolinecolor": "rgb(36,36,36)"
           },
           "yaxis": {
            "backgroundcolor": "white",
            "gridcolor": "rgb(232,232,232)",
            "gridwidth": 2,
            "linecolor": "rgb(36,36,36)",
            "showbackground": true,
            "showgrid": false,
            "showline": true,
            "ticks": "outside",
            "zeroline": false,
            "zerolinecolor": "rgb(36,36,36)"
           },
           "zaxis": {
            "backgroundcolor": "white",
            "gridcolor": "rgb(232,232,232)",
            "gridwidth": 2,
            "linecolor": "rgb(36,36,36)",
            "showbackground": true,
            "showgrid": false,
            "showline": true,
            "ticks": "outside",
            "zeroline": false,
            "zerolinecolor": "rgb(36,36,36)"
           }
          },
          "shapedefaults": {
           "fillcolor": "black",
           "line": {
            "width": 0
           },
           "opacity": 0.3
          },
          "ternary": {
           "aaxis": {
            "gridcolor": "rgb(232,232,232)",
            "linecolor": "rgb(36,36,36)",
            "showgrid": false,
            "showline": true,
            "ticks": "outside"
           },
           "baxis": {
            "gridcolor": "rgb(232,232,232)",
            "linecolor": "rgb(36,36,36)",
            "showgrid": false,
            "showline": true,
            "ticks": "outside"
           },
           "bgcolor": "white",
           "caxis": {
            "gridcolor": "rgb(232,232,232)",
            "linecolor": "rgb(36,36,36)",
            "showgrid": false,
            "showline": true,
            "ticks": "outside"
           }
          },
          "title": {
           "x": 0.05
          },
          "xaxis": {
           "automargin": true,
           "gridcolor": "rgb(232,232,232)",
           "linecolor": "rgb(36,36,36)",
           "showgrid": false,
           "showline": true,
           "ticks": "outside",
           "title": {
            "standoff": 15
           },
           "zeroline": false,
           "zerolinecolor": "rgb(36,36,36)"
          },
          "yaxis": {
           "automargin": true,
           "gridcolor": "rgb(232,232,232)",
           "linecolor": "rgb(36,36,36)",
           "showgrid": false,
           "showline": true,
           "ticks": "outside",
           "title": {
            "standoff": 15
           },
           "zeroline": false,
           "zerolinecolor": "rgb(36,36,36)"
          }
         }
        },
        "width": 900,
        "xaxis": {
         "anchor": "y",
         "domain": [
          0,
          1
         ],
         "title": {
          "text": "station_name"
         }
        },
        "yaxis": {
         "anchor": "x",
         "domain": [
          0,
          1
         ],
         "tickformat": ".00f",
         "title": {
          "text": "value"
         }
        }
       }
      },
      "text/html": [
       "<div>                            <div id=\"2c0d9b86-ee6a-417b-8b03-f0ed2d40ff22\" class=\"plotly-graph-div\" style=\"height:500px; width:900px;\"></div>            <script type=\"text/javascript\">                require([\"plotly\"], function(Plotly) {                    window.PLOTLYENV=window.PLOTLYENV || {};                                    if (document.getElementById(\"2c0d9b86-ee6a-417b-8b03-f0ed2d40ff22\")) {                    Plotly.newPlot(                        \"2c0d9b86-ee6a-417b-8b03-f0ed2d40ff22\",                        [{\"hovertemplate\":\"variable=2023\\u003cbr\\u003estation_name=%{x}\\u003cbr\\u003evalue=%{y}\\u003cextra\\u003e\\u003c\\u002fextra\\u003e\",\"legendgroup\":\"2023\",\"line\":{\"color\":\"#91268F\",\"dash\":\"solid\"},\"marker\":{\"symbol\":\"circle\"},\"mode\":\"lines\",\"name\":\"2023\",\"orientation\":\"v\",\"showlegend\":true,\"x\":[\"Northgate Station\",\"Roosevelt Station\",\"University District Station\",\"Husky Stadium\",\"Capitol Hill\",\"Westlake\",\"Symphony\",\"Pioneer Square\",\"Int'l District\",\"Stadium\",\"SODO\",\"Beacon Hill\",\"Mount Baker\",\"Columbia City\",\"Othello\",\"Rainier Beach\",\"Tukwila Int'l Blvd\",\"SeaTac\\u002fAirport\",\"Angle Lake\"],\"xaxis\":\"x\",\"y\":[10384.0,4349.0,7563.0,6134.0,7667.0,8845.0,4324.0,2400.0,4399.0,1731.0,1669.0,2147.0,1861.0,1630.0,2030.0,1495.0,2298.0,4731.0,3865.0],\"yaxis\":\"y\",\"type\":\"scatter\"},{\"hovertemplate\":\"variable=2024\\u003cbr\\u003estation_name=%{x}\\u003cbr\\u003evalue=%{y}\\u003cextra\\u003e\\u003c\\u002fextra\\u003e\",\"legendgroup\":\"2024\",\"line\":{\"color\":\"#8CC63E\",\"dash\":\"solid\"},\"marker\":{\"symbol\":\"circle\"},\"mode\":\"lines\",\"name\":\"2024\",\"orientation\":\"v\",\"showlegend\":true,\"x\":[\"Northgate Station\",\"Roosevelt Station\",\"University District Station\",\"Husky Stadium\",\"Capitol Hill\",\"Westlake\",\"Symphony\",\"Pioneer Square\",\"Int'l District\",\"Stadium\",\"SODO\",\"Beacon Hill\",\"Mount Baker\",\"Columbia City\",\"Othello\",\"Rainier Beach\",\"Tukwila Int'l Blvd\",\"SeaTac\\u002fAirport\",\"Angle Lake\"],\"xaxis\":\"x\",\"y\":[10171.0,4380.0,7694.0,5879.0,7977.0,9351.0,4599.0,2672.0,4808.0,1717.0,1656.0,2274.0,2078.0,1942.0,2261.0,1608.0,2567.0,5670.0,4963.0],\"yaxis\":\"y\",\"type\":\"scatter\"},{\"hovertemplate\":\"variable=model_boardings\\u003cbr\\u003estation_name=%{x}\\u003cbr\\u003evalue=%{y}\\u003cextra\\u003e\\u003c\\u002fextra\\u003e\",\"legendgroup\":\"model_boardings\",\"line\":{\"color\":\"#00A7A0\",\"dash\":\"solid\"},\"marker\":{\"symbol\":\"circle\"},\"mode\":\"lines\",\"name\":\"model_boardings\",\"orientation\":\"v\",\"showlegend\":true,\"x\":[\"Northgate Station\",\"Roosevelt Station\",\"University District Station\",\"Husky Stadium\",\"Capitol Hill\",\"Westlake\",\"Symphony\",\"Pioneer Square\",\"Int'l District\",\"Stadium\",\"SODO\",\"Beacon Hill\",\"Mount Baker\",\"Columbia City\",\"Othello\",\"Rainier Beach\",\"Tukwila Int'l Blvd\",\"SeaTac\\u002fAirport\",\"Angle Lake\"],\"xaxis\":\"x\",\"y\":[6875.47673034668,8211.35608792305,6426.503324508667,3521.7037692070007,7405.991648674011,9513.880066871645,5781.7381067276,5285.319492340088,1842.6858491897583,354.3833352923393,2312.076726436615,1344.9621561169624,1691.1993079185486,1713.5256597995758,2062.065826177597,1647.9556176662445,2963.3052406311035,5982.433862507343,2980.4280700683594],\"yaxis\":\"y\",\"type\":\"scatter\"}],                        {\"template\":{\"data\":{\"barpolar\":[{\"marker\":{\"line\":{\"color\":\"white\",\"width\":0.5},\"pattern\":{\"fillmode\":\"overlay\",\"size\":10,\"solidity\":0.2}},\"type\":\"barpolar\"}],\"bar\":[{\"error_x\":{\"color\":\"rgb(36,36,36)\"},\"error_y\":{\"color\":\"rgb(36,36,36)\"},\"marker\":{\"line\":{\"color\":\"white\",\"width\":0.5},\"pattern\":{\"fillmode\":\"overlay\",\"size\":10,\"solidity\":0.2}},\"type\":\"bar\"}],\"carpet\":[{\"aaxis\":{\"endlinecolor\":\"rgb(36,36,36)\",\"gridcolor\":\"white\",\"linecolor\":\"white\",\"minorgridcolor\":\"white\",\"startlinecolor\":\"rgb(36,36,36)\"},\"baxis\":{\"endlinecolor\":\"rgb(36,36,36)\",\"gridcolor\":\"white\",\"linecolor\":\"white\",\"minorgridcolor\":\"white\",\"startlinecolor\":\"rgb(36,36,36)\"},\"type\":\"carpet\"}],\"choropleth\":[{\"colorbar\":{\"outlinewidth\":1,\"tickcolor\":\"rgb(36,36,36)\",\"ticks\":\"outside\"},\"type\":\"choropleth\"}],\"contourcarpet\":[{\"colorbar\":{\"outlinewidth\":1,\"tickcolor\":\"rgb(36,36,36)\",\"ticks\":\"outside\"},\"type\":\"contourcarpet\"}],\"contour\":[{\"colorbar\":{\"outlinewidth\":1,\"tickcolor\":\"rgb(36,36,36)\",\"ticks\":\"outside\"},\"colorscale\":[[0.0,\"#440154\"],[0.1111111111111111,\"#482878\"],[0.2222222222222222,\"#3e4989\"],[0.3333333333333333,\"#31688e\"],[0.4444444444444444,\"#26828e\"],[0.5555555555555556,\"#1f9e89\"],[0.6666666666666666,\"#35b779\"],[0.7777777777777778,\"#6ece58\"],[0.8888888888888888,\"#b5de2b\"],[1.0,\"#fde725\"]],\"type\":\"contour\"}],\"heatmapgl\":[{\"colorbar\":{\"outlinewidth\":1,\"tickcolor\":\"rgb(36,36,36)\",\"ticks\":\"outside\"},\"colorscale\":[[0.0,\"#440154\"],[0.1111111111111111,\"#482878\"],[0.2222222222222222,\"#3e4989\"],[0.3333333333333333,\"#31688e\"],[0.4444444444444444,\"#26828e\"],[0.5555555555555556,\"#1f9e89\"],[0.6666666666666666,\"#35b779\"],[0.7777777777777778,\"#6ece58\"],[0.8888888888888888,\"#b5de2b\"],[1.0,\"#fde725\"]],\"type\":\"heatmapgl\"}],\"heatmap\":[{\"colorbar\":{\"outlinewidth\":1,\"tickcolor\":\"rgb(36,36,36)\",\"ticks\":\"outside\"},\"colorscale\":[[0.0,\"#440154\"],[0.1111111111111111,\"#482878\"],[0.2222222222222222,\"#3e4989\"],[0.3333333333333333,\"#31688e\"],[0.4444444444444444,\"#26828e\"],[0.5555555555555556,\"#1f9e89\"],[0.6666666666666666,\"#35b779\"],[0.7777777777777778,\"#6ece58\"],[0.8888888888888888,\"#b5de2b\"],[1.0,\"#fde725\"]],\"type\":\"heatmap\"}],\"histogram2dcontour\":[{\"colorbar\":{\"outlinewidth\":1,\"tickcolor\":\"rgb(36,36,36)\",\"ticks\":\"outside\"},\"colorscale\":[[0.0,\"#440154\"],[0.1111111111111111,\"#482878\"],[0.2222222222222222,\"#3e4989\"],[0.3333333333333333,\"#31688e\"],[0.4444444444444444,\"#26828e\"],[0.5555555555555556,\"#1f9e89\"],[0.6666666666666666,\"#35b779\"],[0.7777777777777778,\"#6ece58\"],[0.8888888888888888,\"#b5de2b\"],[1.0,\"#fde725\"]],\"type\":\"histogram2dcontour\"}],\"histogram2d\":[{\"colorbar\":{\"outlinewidth\":1,\"tickcolor\":\"rgb(36,36,36)\",\"ticks\":\"outside\"},\"colorscale\":[[0.0,\"#440154\"],[0.1111111111111111,\"#482878\"],[0.2222222222222222,\"#3e4989\"],[0.3333333333333333,\"#31688e\"],[0.4444444444444444,\"#26828e\"],[0.5555555555555556,\"#1f9e89\"],[0.6666666666666666,\"#35b779\"],[0.7777777777777778,\"#6ece58\"],[0.8888888888888888,\"#b5de2b\"],[1.0,\"#fde725\"]],\"type\":\"histogram2d\"}],\"histogram\":[{\"marker\":{\"line\":{\"color\":\"white\",\"width\":0.6}},\"type\":\"histogram\"}],\"mesh3d\":[{\"colorbar\":{\"outlinewidth\":1,\"tickcolor\":\"rgb(36,36,36)\",\"ticks\":\"outside\"},\"type\":\"mesh3d\"}],\"parcoords\":[{\"line\":{\"colorbar\":{\"outlinewidth\":1,\"tickcolor\":\"rgb(36,36,36)\",\"ticks\":\"outside\"}},\"type\":\"parcoords\"}],\"pie\":[{\"automargin\":true,\"type\":\"pie\"}],\"scatter3d\":[{\"line\":{\"colorbar\":{\"outlinewidth\":1,\"tickcolor\":\"rgb(36,36,36)\",\"ticks\":\"outside\"}},\"marker\":{\"colorbar\":{\"outlinewidth\":1,\"tickcolor\":\"rgb(36,36,36)\",\"ticks\":\"outside\"}},\"type\":\"scatter3d\"}],\"scattercarpet\":[{\"marker\":{\"colorbar\":{\"outlinewidth\":1,\"tickcolor\":\"rgb(36,36,36)\",\"ticks\":\"outside\"}},\"type\":\"scattercarpet\"}],\"scattergeo\":[{\"marker\":{\"colorbar\":{\"outlinewidth\":1,\"tickcolor\":\"rgb(36,36,36)\",\"ticks\":\"outside\"}},\"type\":\"scattergeo\"}],\"scattergl\":[{\"marker\":{\"colorbar\":{\"outlinewidth\":1,\"tickcolor\":\"rgb(36,36,36)\",\"ticks\":\"outside\"}},\"type\":\"scattergl\"}],\"scattermapbox\":[{\"marker\":{\"colorbar\":{\"outlinewidth\":1,\"tickcolor\":\"rgb(36,36,36)\",\"ticks\":\"outside\"}},\"type\":\"scattermapbox\"}],\"scatterpolargl\":[{\"marker\":{\"colorbar\":{\"outlinewidth\":1,\"tickcolor\":\"rgb(36,36,36)\",\"ticks\":\"outside\"}},\"type\":\"scatterpolargl\"}],\"scatterpolar\":[{\"marker\":{\"colorbar\":{\"outlinewidth\":1,\"tickcolor\":\"rgb(36,36,36)\",\"ticks\":\"outside\"}},\"type\":\"scatterpolar\"}],\"scatter\":[{\"fillpattern\":{\"fillmode\":\"overlay\",\"size\":10,\"solidity\":0.2},\"type\":\"scatter\"}],\"scatterternary\":[{\"marker\":{\"colorbar\":{\"outlinewidth\":1,\"tickcolor\":\"rgb(36,36,36)\",\"ticks\":\"outside\"}},\"type\":\"scatterternary\"}],\"surface\":[{\"colorbar\":{\"outlinewidth\":1,\"tickcolor\":\"rgb(36,36,36)\",\"ticks\":\"outside\"},\"colorscale\":[[0.0,\"#440154\"],[0.1111111111111111,\"#482878\"],[0.2222222222222222,\"#3e4989\"],[0.3333333333333333,\"#31688e\"],[0.4444444444444444,\"#26828e\"],[0.5555555555555556,\"#1f9e89\"],[0.6666666666666666,\"#35b779\"],[0.7777777777777778,\"#6ece58\"],[0.8888888888888888,\"#b5de2b\"],[1.0,\"#fde725\"]],\"type\":\"surface\"}],\"table\":[{\"cells\":{\"fill\":{\"color\":\"rgb(237,237,237)\"},\"line\":{\"color\":\"white\"}},\"header\":{\"fill\":{\"color\":\"rgb(217,217,217)\"},\"line\":{\"color\":\"white\"}},\"type\":\"table\"}]},\"layout\":{\"annotationdefaults\":{\"arrowhead\":0,\"arrowwidth\":1},\"autotypenumbers\":\"strict\",\"coloraxis\":{\"colorbar\":{\"outlinewidth\":1,\"tickcolor\":\"rgb(36,36,36)\",\"ticks\":\"outside\"}},\"colorscale\":{\"diverging\":[[0.0,\"rgb(103,0,31)\"],[0.1,\"rgb(178,24,43)\"],[0.2,\"rgb(214,96,77)\"],[0.3,\"rgb(244,165,130)\"],[0.4,\"rgb(253,219,199)\"],[0.5,\"rgb(247,247,247)\"],[0.6,\"rgb(209,229,240)\"],[0.7,\"rgb(146,197,222)\"],[0.8,\"rgb(67,147,195)\"],[0.9,\"rgb(33,102,172)\"],[1.0,\"rgb(5,48,97)\"]],\"sequential\":[[0.0,\"#440154\"],[0.1111111111111111,\"#482878\"],[0.2222222222222222,\"#3e4989\"],[0.3333333333333333,\"#31688e\"],[0.4444444444444444,\"#26828e\"],[0.5555555555555556,\"#1f9e89\"],[0.6666666666666666,\"#35b779\"],[0.7777777777777778,\"#6ece58\"],[0.8888888888888888,\"#b5de2b\"],[1.0,\"#fde725\"]],\"sequentialminus\":[[0.0,\"#440154\"],[0.1111111111111111,\"#482878\"],[0.2222222222222222,\"#3e4989\"],[0.3333333333333333,\"#31688e\"],[0.4444444444444444,\"#26828e\"],[0.5555555555555556,\"#1f9e89\"],[0.6666666666666666,\"#35b779\"],[0.7777777777777778,\"#6ece58\"],[0.8888888888888888,\"#b5de2b\"],[1.0,\"#fde725\"]]},\"colorway\":[\"#91268F\",\"#8CC63E\",\"#00A7A0\",\"#F05A28\",\"#4C4C4C\",\"#630460\",\"#9f3913\",\"#588527\",\"#00716c\",\"#3e4040\"],\"font\":{\"color\":\"rgb(36,36,36)\",\"family\":\"Poppins\",\"size\":11},\"geo\":{\"bgcolor\":\"white\",\"lakecolor\":\"white\",\"landcolor\":\"white\",\"showlakes\":true,\"showland\":true,\"subunitcolor\":\"white\"},\"hoverlabel\":{\"align\":\"left\"},\"hovermode\":\"closest\",\"mapbox\":{\"style\":\"light\"},\"paper_bgcolor\":\"white\",\"plot_bgcolor\":\"white\",\"polar\":{\"angularaxis\":{\"gridcolor\":\"rgb(232,232,232)\",\"linecolor\":\"rgb(36,36,36)\",\"showgrid\":false,\"showline\":true,\"ticks\":\"outside\"},\"bgcolor\":\"white\",\"radialaxis\":{\"gridcolor\":\"rgb(232,232,232)\",\"linecolor\":\"rgb(36,36,36)\",\"showgrid\":false,\"showline\":true,\"ticks\":\"outside\"}},\"scene\":{\"xaxis\":{\"backgroundcolor\":\"white\",\"gridcolor\":\"rgb(232,232,232)\",\"gridwidth\":2,\"linecolor\":\"rgb(36,36,36)\",\"showbackground\":true,\"showgrid\":false,\"showline\":true,\"ticks\":\"outside\",\"zeroline\":false,\"zerolinecolor\":\"rgb(36,36,36)\"},\"yaxis\":{\"backgroundcolor\":\"white\",\"gridcolor\":\"rgb(232,232,232)\",\"gridwidth\":2,\"linecolor\":\"rgb(36,36,36)\",\"showbackground\":true,\"showgrid\":false,\"showline\":true,\"ticks\":\"outside\",\"zeroline\":false,\"zerolinecolor\":\"rgb(36,36,36)\"},\"zaxis\":{\"backgroundcolor\":\"white\",\"gridcolor\":\"rgb(232,232,232)\",\"gridwidth\":2,\"linecolor\":\"rgb(36,36,36)\",\"showbackground\":true,\"showgrid\":false,\"showline\":true,\"ticks\":\"outside\",\"zeroline\":false,\"zerolinecolor\":\"rgb(36,36,36)\"}},\"shapedefaults\":{\"fillcolor\":\"black\",\"line\":{\"width\":0},\"opacity\":0.3},\"ternary\":{\"aaxis\":{\"gridcolor\":\"rgb(232,232,232)\",\"linecolor\":\"rgb(36,36,36)\",\"showgrid\":false,\"showline\":true,\"ticks\":\"outside\"},\"baxis\":{\"gridcolor\":\"rgb(232,232,232)\",\"linecolor\":\"rgb(36,36,36)\",\"showgrid\":false,\"showline\":true,\"ticks\":\"outside\"},\"bgcolor\":\"white\",\"caxis\":{\"gridcolor\":\"rgb(232,232,232)\",\"linecolor\":\"rgb(36,36,36)\",\"showgrid\":false,\"showline\":true,\"ticks\":\"outside\"}},\"title\":{\"x\":0.05},\"xaxis\":{\"automargin\":true,\"gridcolor\":\"rgb(232,232,232)\",\"linecolor\":\"rgb(36,36,36)\",\"showgrid\":false,\"showline\":true,\"ticks\":\"outside\",\"title\":{\"standoff\":15},\"zeroline\":false,\"zerolinecolor\":\"rgb(36,36,36)\"},\"yaxis\":{\"automargin\":true,\"gridcolor\":\"rgb(232,232,232)\",\"linecolor\":\"rgb(36,36,36)\",\"showgrid\":false,\"showline\":true,\"ticks\":\"outside\",\"title\":{\"standoff\":15},\"zeroline\":false,\"zerolinecolor\":\"rgb(36,36,36)\"}}},\"xaxis\":{\"anchor\":\"y\",\"domain\":[0.0,1.0],\"title\":{\"text\":\"station_name\"}},\"yaxis\":{\"anchor\":\"x\",\"domain\":[0.0,1.0],\"title\":{\"text\":\"value\"},\"tickformat\":\".00f\"},\"legend\":{\"title\":{\"text\":\"variable\"},\"tracegroupgap\":0},\"margin\":{\"t\":60},\"font\":{\"size\":11},\"height\":500,\"width\":900},                        {\"responsive\": true}                    ).then(function(){\n",
       "                            \n",
       "var gd = document.getElementById('2c0d9b86-ee6a-417b-8b03-f0ed2d40ff22');\n",
       "var x = new MutationObserver(function (mutations, observer) {{\n",
       "        var display = window.getComputedStyle(gd).display;\n",
       "        if (!display || display === 'none') {{\n",
       "            console.log([gd, 'removed!']);\n",
       "            Plotly.purge(gd);\n",
       "            observer.disconnect();\n",
       "        }}\n",
       "}});\n",
       "\n",
       "// Listen for the removal of the full notebook cells\n",
       "var notebookContainer = gd.closest('#notebook-container');\n",
       "if (notebookContainer) {{\n",
       "    x.observe(notebookContainer, {childList: true});\n",
       "}}\n",
       "\n",
       "// Listen for the clearing of the current output cell\n",
       "var outputEl = gd.closest('.output');\n",
       "if (outputEl) {{\n",
       "    x.observe(outputEl, {childList: true});\n",
       "}}\n",
       "\n",
       "                        })                };                });            </script>        </div>"
      ]
     },
     "metadata": {},
     "output_type": "display_data"
    }
   ],
   "source": [
    "fig = px.line(df[[2023,2024,'model_boardings']])\n",
    "fig.update_layout(height=500, width=900, font=dict(size=11),\n",
    "                  yaxis_tickformat = '.00f')\n",
    "fig.show()"
   ]
  },
  {
   "cell_type": "raw",
   "id": "f429de2d705b1e22",
   "metadata": {},
   "source": [
    ":::"
   ]
  },
  {
   "cell_type": "markdown",
   "id": "86996e48d6760252",
   "metadata": {},
   "source": [
    "## light rail stop transfers"
   ]
  },
  {
   "cell_type": "code",
   "execution_count": 30,
   "id": "4bd536d185354993",
   "metadata": {
    "ExecuteTime": {
     "end_time": "2024-06-24T20:06:14.325917Z",
     "start_time": "2024-06-24T20:06:14.279144Z"
    },
    "execution": {
     "iopub.execute_input": "2024-12-14T02:38:43.002696Z",
     "iopub.status.busy": "2024-12-14T02:38:43.000701Z",
     "iopub.status.idle": "2024-12-14T02:38:43.053560Z",
     "shell.execute_reply": "2024-12-14T02:38:43.051565Z"
    }
   },
   "outputs": [
    {
     "data": {
      "application/vnd.microsoft.datawrangler.viewer.v0+json": {
       "columns": [
        {
         "name": "station_name",
         "rawType": "object",
         "type": "string"
        },
        {
         "name": "modeled_transfer_rate",
         "rawType": "float64",
         "type": "float"
        },
        {
         "name": "observed_transfer_rate",
         "rawType": "float64",
         "type": "float"
        },
        {
         "name": "diff",
         "rawType": "float64",
         "type": "float"
        },
        {
         "name": "percent_diff",
         "rawType": "object",
         "type": "string"
        }
       ],
       "conversionMethod": "pd.DataFrame",
       "ref": "89527bd9-e815-4358-a35f-541e5d26e16a",
       "rows": [
        [
         "Northgate Station",
         "0.6729334995176278",
         "-99.0",
         "99.67293349951764",
         "-100.68%"
        ],
        [
         "Roosevelt Station",
         "0.3533758326369285",
         "-99.0",
         "99.35337583263691",
         "-100.36%"
        ],
        [
         "University District Station",
         "0.2093957709799921",
         "-99.0",
         "99.20939577098",
         "-100.21%"
        ],
        [
         "Husky Stadium",
         "0.7983843961953502",
         "-99.0",
         "99.79838439619536",
         "-100.81%"
        ],
        [
         "Capitol Hill",
         "0.0482645371257537",
         "-99.0",
         "99.04826453712576",
         "-100.05%"
        ],
        [
         "Westlake",
         "0.1166205344783016",
         "0.364",
         "-0.2473794655216983",
         "-67.96%"
        ],
        [
         "Symphony",
         "0.2805381242860683",
         "0.2",
         "0.0805381242860682",
         "40.27%"
        ],
        [
         "Pioneer Square",
         "0.347461688635725",
         "0.159",
         "0.188461688635725",
         "118.53%"
        ],
        [
         "Int'l District",
         "0.490862868090045",
         "0.45",
         "0.040862868090045",
         "9.08%"
        ],
        [
         "Stadium",
         "0.3699678860499017",
         "0.119",
         "0.2509678860499017",
         "210.90%"
        ],
        [
         "SODO",
         "0.633576250145005",
         "0.313",
         "0.3205762501450049",
         "102.42%"
        ],
        [
         "Beacon Hill",
         "0.3337189867641749",
         "0.353",
         "-0.019281013235825",
         "-5.46%"
        ],
        [
         "Mount Baker",
         "0.3885759264906132",
         "0.324",
         "0.0645759264906132",
         "19.93%"
        ],
        [
         "Columbia City",
         "0.0096269972556331",
         "0.125",
         "-0.1153730027443668",
         "-92.30%"
        ],
        [
         "Othello",
         "0.0495198749338712",
         "0.123",
         "-0.0734801250661287",
         "-59.74%"
        ],
        [
         "Rainier Beach",
         "0.2814406979028095",
         "0.362",
         "-0.0805593020971904",
         "-22.25%"
        ],
        [
         "Tukwila Int'l Blvd",
         "0.427132099271217",
         "0.264",
         "0.163132099271217",
         "61.79%"
        ],
        [
         "SeaTac/Airport",
         "0.142333086278259",
         "0.264",
         "-0.1216669137217409",
         "-46.09%"
        ],
        [
         "Angle Lake",
         "0.2589808358951182",
         "-99.0",
         "99.25898083589512",
         "-100.26%"
        ]
       ],
       "shape": {
        "columns": 4,
        "rows": 19
       }
      },
      "text/html": [
       "<div>\n",
       "<style scoped>\n",
       "    .dataframe tbody tr th:only-of-type {\n",
       "        vertical-align: middle;\n",
       "    }\n",
       "\n",
       "    .dataframe tbody tr th {\n",
       "        vertical-align: top;\n",
       "    }\n",
       "\n",
       "    .dataframe thead th {\n",
       "        text-align: right;\n",
       "    }\n",
       "</style>\n",
       "<table border=\"1\" class=\"dataframe\">\n",
       "  <thead>\n",
       "    <tr style=\"text-align: right;\">\n",
       "      <th></th>\n",
       "      <th>modeled_transfer_rate</th>\n",
       "      <th>observed_transfer_rate</th>\n",
       "      <th>diff</th>\n",
       "      <th>percent_diff</th>\n",
       "    </tr>\n",
       "    <tr>\n",
       "      <th>station_name</th>\n",
       "      <th></th>\n",
       "      <th></th>\n",
       "      <th></th>\n",
       "      <th></th>\n",
       "    </tr>\n",
       "  </thead>\n",
       "  <tbody>\n",
       "    <tr>\n",
       "      <th>Northgate Station</th>\n",
       "      <td>0.67</td>\n",
       "      <td>-99.00</td>\n",
       "      <td>99.67</td>\n",
       "      <td>-100.68%</td>\n",
       "    </tr>\n",
       "    <tr>\n",
       "      <th>Roosevelt Station</th>\n",
       "      <td>0.35</td>\n",
       "      <td>-99.00</td>\n",
       "      <td>99.35</td>\n",
       "      <td>-100.36%</td>\n",
       "    </tr>\n",
       "    <tr>\n",
       "      <th>University District Station</th>\n",
       "      <td>0.21</td>\n",
       "      <td>-99.00</td>\n",
       "      <td>99.21</td>\n",
       "      <td>-100.21%</td>\n",
       "    </tr>\n",
       "    <tr>\n",
       "      <th>Husky Stadium</th>\n",
       "      <td>0.80</td>\n",
       "      <td>-99.00</td>\n",
       "      <td>99.80</td>\n",
       "      <td>-100.81%</td>\n",
       "    </tr>\n",
       "    <tr>\n",
       "      <th>Capitol Hill</th>\n",
       "      <td>0.05</td>\n",
       "      <td>-99.00</td>\n",
       "      <td>99.05</td>\n",
       "      <td>-100.05%</td>\n",
       "    </tr>\n",
       "    <tr>\n",
       "      <th>Westlake</th>\n",
       "      <td>0.12</td>\n",
       "      <td>0.36</td>\n",
       "      <td>-0.25</td>\n",
       "      <td>-67.96%</td>\n",
       "    </tr>\n",
       "    <tr>\n",
       "      <th>Symphony</th>\n",
       "      <td>0.28</td>\n",
       "      <td>0.20</td>\n",
       "      <td>0.08</td>\n",
       "      <td>40.27%</td>\n",
       "    </tr>\n",
       "    <tr>\n",
       "      <th>Pioneer Square</th>\n",
       "      <td>0.35</td>\n",
       "      <td>0.16</td>\n",
       "      <td>0.19</td>\n",
       "      <td>118.53%</td>\n",
       "    </tr>\n",
       "    <tr>\n",
       "      <th>Int'l District</th>\n",
       "      <td>0.49</td>\n",
       "      <td>0.45</td>\n",
       "      <td>0.04</td>\n",
       "      <td>9.08%</td>\n",
       "    </tr>\n",
       "    <tr>\n",
       "      <th>Stadium</th>\n",
       "      <td>0.37</td>\n",
       "      <td>0.12</td>\n",
       "      <td>0.25</td>\n",
       "      <td>210.90%</td>\n",
       "    </tr>\n",
       "    <tr>\n",
       "      <th>SODO</th>\n",
       "      <td>0.63</td>\n",
       "      <td>0.31</td>\n",
       "      <td>0.32</td>\n",
       "      <td>102.42%</td>\n",
       "    </tr>\n",
       "    <tr>\n",
       "      <th>Beacon Hill</th>\n",
       "      <td>0.33</td>\n",
       "      <td>0.35</td>\n",
       "      <td>-0.02</td>\n",
       "      <td>-5.46%</td>\n",
       "    </tr>\n",
       "    <tr>\n",
       "      <th>Mount Baker</th>\n",
       "      <td>0.39</td>\n",
       "      <td>0.32</td>\n",
       "      <td>0.06</td>\n",
       "      <td>19.93%</td>\n",
       "    </tr>\n",
       "    <tr>\n",
       "      <th>Columbia City</th>\n",
       "      <td>0.01</td>\n",
       "      <td>0.12</td>\n",
       "      <td>-0.12</td>\n",
       "      <td>-92.30%</td>\n",
       "    </tr>\n",
       "    <tr>\n",
       "      <th>Othello</th>\n",
       "      <td>0.05</td>\n",
       "      <td>0.12</td>\n",
       "      <td>-0.07</td>\n",
       "      <td>-59.74%</td>\n",
       "    </tr>\n",
       "    <tr>\n",
       "      <th>Rainier Beach</th>\n",
       "      <td>0.28</td>\n",
       "      <td>0.36</td>\n",
       "      <td>-0.08</td>\n",
       "      <td>-22.25%</td>\n",
       "    </tr>\n",
       "    <tr>\n",
       "      <th>Tukwila Int'l Blvd</th>\n",
       "      <td>0.43</td>\n",
       "      <td>0.26</td>\n",
       "      <td>0.16</td>\n",
       "      <td>61.79%</td>\n",
       "    </tr>\n",
       "    <tr>\n",
       "      <th>SeaTac/Airport</th>\n",
       "      <td>0.14</td>\n",
       "      <td>0.26</td>\n",
       "      <td>-0.12</td>\n",
       "      <td>-46.09%</td>\n",
       "    </tr>\n",
       "    <tr>\n",
       "      <th>Angle Lake</th>\n",
       "      <td>0.26</td>\n",
       "      <td>-99.00</td>\n",
       "      <td>99.26</td>\n",
       "      <td>-100.26%</td>\n",
       "    </tr>\n",
       "  </tbody>\n",
       "</table>\n",
       "</div>"
      ],
      "text/plain": [
       "                             modeled_transfer_rate  observed_transfer_rate  \\\n",
       "station_name                                                                 \n",
       "Northgate Station                             0.67                  -99.00   \n",
       "Roosevelt Station                             0.35                  -99.00   \n",
       "University District Station                   0.21                  -99.00   \n",
       "Husky Stadium                                 0.80                  -99.00   \n",
       "Capitol Hill                                  0.05                  -99.00   \n",
       "Westlake                                      0.12                    0.36   \n",
       "Symphony                                      0.28                    0.20   \n",
       "Pioneer Square                                0.35                    0.16   \n",
       "Int'l District                                0.49                    0.45   \n",
       "Stadium                                       0.37                    0.12   \n",
       "SODO                                          0.63                    0.31   \n",
       "Beacon Hill                                   0.33                    0.35   \n",
       "Mount Baker                                   0.39                    0.32   \n",
       "Columbia City                                 0.01                    0.12   \n",
       "Othello                                       0.05                    0.12   \n",
       "Rainier Beach                                 0.28                    0.36   \n",
       "Tukwila Int'l Blvd                            0.43                    0.26   \n",
       "SeaTac/Airport                                0.14                    0.26   \n",
       "Angle Lake                                    0.26                  -99.00   \n",
       "\n",
       "                             diff percent_diff  \n",
       "station_name                                    \n",
       "Northgate Station           99.67     -100.68%  \n",
       "Roosevelt Station           99.35     -100.36%  \n",
       "University District Station 99.21     -100.21%  \n",
       "Husky Stadium               99.80     -100.81%  \n",
       "Capitol Hill                99.05     -100.05%  \n",
       "Westlake                    -0.25      -67.96%  \n",
       "Symphony                     0.08       40.27%  \n",
       "Pioneer Square               0.19      118.53%  \n",
       "Int'l District               0.04        9.08%  \n",
       "Stadium                      0.25      210.90%  \n",
       "SODO                         0.32      102.42%  \n",
       "Beacon Hill                 -0.02       -5.46%  \n",
       "Mount Baker                  0.06       19.93%  \n",
       "Columbia City               -0.12      -92.30%  \n",
       "Othello                     -0.07      -59.74%  \n",
       "Rainier Beach               -0.08      -22.25%  \n",
       "Tukwila Int'l Blvd           0.16       61.79%  \n",
       "SeaTac/Airport              -0.12      -46.09%  \n",
       "Angle Lake                  99.26     -100.26%  "
      ]
     },
     "execution_count": 30,
     "metadata": {},
     "output_type": "execute_result"
    }
   ],
   "source": [
    "df = pd.read_csv(os.path.join(csv_path,'light_rail_transfers.csv'), index_col='station_name')\n",
    "df[['percent_diff']] = df[['percent_diff']].applymap(format_percent)\n",
    "df.loc[line_1_station_list]"
   ]
  },
  {
   "cell_type": "markdown",
   "id": "fb8646bd",
   "metadata": {},
   "source": [
    "## Park and Ride"
   ]
  },
  {
   "cell_type": "code",
   "execution_count": 32,
   "id": "226280a8",
   "metadata": {},
   "outputs": [],
   "source": [
    "df_trip = pd.read_csv(os.path.join(valid_config['model_dir'], 'outputs/daysim/_trip.tsv'), sep='\\t')\n",
    "pnr_boardings = df_trip[(df_trip['otaz'].isin(range(3750,4001))) & (df_trip['mode']==6)]\n",
    "pnr_boardings = pnr_boardings.groupby('otaz').count()[['trexpfac']].reset_index()"
   ]
  },
  {
   "cell_type": "code",
   "execution_count": 33,
   "id": "8fc48cdd",
   "metadata": {},
   "outputs": [],
   "source": [
    "stations = [\n",
    "    {\"id\": 3751, \"name\": \"Tukwila Station (CR)\"},\n",
    "    {\"id\": 3752, \"name\": \"Tacoma Dome Station\"},\n",
    "    {\"id\": 3753, \"name\": \"South Tacoma (CR)\"},\n",
    "    {\"id\": 3754, \"name\": \"Everett Station (CR)\"},\n",
    "    {\"id\": 3755, \"name\": \"Sumner Station (CR)\"},\n",
    "    {\"id\": 3756, \"name\": \"Mukilteo Station\"},\n",
    "    {\"id\": 3757, \"name\": \"Kent Station (CR)\"},\n",
    "    {\"id\": 3758, \"name\": \"Auburn Station (CR)\"},\n",
    "    {\"id\": 3759, \"name\": \"Lakewood (CR)\"},\n",
    "    {\"id\": 3760, \"name\": \"Gateway P&R\"},\n",
    "    {\"id\": 3761, \"name\": \"Puyallup Station (SB)\"},\n",
    "    {\"id\": 3762, \"name\": \"Twin Lakes P&R\"},\n",
    "    {\"id\": 3763, \"name\": \"Crossroads Neighborhood Church\"},\n",
    "    {\"id\": 3764, \"name\": \"Overlake Transit Center\"},\n",
    "    {\"id\": 3765, \"name\": \"Redondo Heights P&R\"},\n",
    "    {\"id\": 3766, \"name\": \"North Gig Harbor/Kimball Drive\"},\n",
    "    {\"id\": 3767, \"name\": \"Duvall P&R\"},\n",
    "    {\"id\": 3768, \"name\": \"Roy 'Y' P&R\"},\n",
    "    {\"id\": 3769, \"name\": \"South Hill (Elim Evangelical)\"},\n",
    "    {\"id\": 3770, \"name\": \"Parkland Transit Center\"},\n",
    "    {\"id\": 3771, \"name\": \"SR-512/I-5 (Lakewood)\"},\n",
    "    {\"id\": 3772, \"name\": \"Center Street P&R\"},\n",
    "    {\"id\": 3773, \"name\": \"Tacoma Mall Transit Center\"},\n",
    "    {\"id\": 3774, \"name\": \"South Tacoma West\"},\n",
    "    {\"id\": 3775, \"name\": \"South Tacoma East - 2\"},\n",
    "    {\"id\": 3776, \"name\": \"Narrows P&R\"},\n",
    "    {\"id\": 3777, \"name\": \"North Purdy/Purdy Crescent\"},\n",
    "    {\"id\": 3778, \"name\": \"Point Defiance Ferry\"},\n",
    "    {\"id\": 3779, \"name\": \"South Federal P&R\"},\n",
    "    {\"id\": 3780, \"name\": \"Sultan P&R\"},\n",
    "    {\"id\": 3781, \"name\": \"Federal Way P&R (320th)\"},\n",
    "    {\"id\": 3782, \"name\": \"Auburn P&R\"},\n",
    "    {\"id\": 3783, \"name\": \"Star Lake P&R\"},\n",
    "    {\"id\": 3784, \"name\": \"Holy Spirit Lutheran Church\"},\n",
    "    {\"id\": 3785, \"name\": \"Kent/Des Moines P&R\"},\n",
    "    {\"id\": 3786, \"name\": \"Kent/James St. P&R\"},\n",
    "    {\"id\": 3787, \"name\": \"Burien Transit Center\"},\n",
    "    {\"id\": 3788, \"name\": \"Tukwila\"},\n",
    "    {\"id\": 3789, \"name\": \"Maple Valley P&R\"},\n",
    "    {\"id\": 3790, \"name\": \"South Renton P&R\"},\n",
    "    {\"id\": 3791, \"name\": \"Renton Highlands P&R (St. Matts)\"},\n",
    "    {\"id\": 3792, \"name\": \"Issaquah Transit Center\"},\n",
    "    {\"id\": 3793, \"name\": \"Mercer Island P&R\"},\n",
    "    {\"id\": 3794, \"name\": \"Mercer Island Presbyterian\"},\n",
    "    {\"id\": 3795, \"name\": \"Newport Hills P&R\"},\n",
    "    {\"id\": 3796, \"name\": \"Newport Hills Community Church\"},\n",
    "    {\"id\": 3797, \"name\": \"Newport Covenant Church\"},\n",
    "    {\"id\": 3798, \"name\": \"South Bellevue P&R\"},\n",
    "    {\"id\": 3799, \"name\": \"Wilburton\"},\n",
    "    {\"id\": 3800, \"name\": \"Eastgate P&R\"},\n",
    "    {\"id\": 3801, \"name\": \"North Bend P&R\"},\n",
    "    {\"id\": 3802, \"name\": \"Evergreen Point P&R\"},\n",
    "    {\"id\": 3803, \"name\": \"Grace Lutheran Church\"},\n",
    "    {\"id\": 3804, \"name\": \"South Kirkland P&R\"},\n",
    "    {\"id\": 3805, \"name\": \"Overlake P&R\"},\n",
    "    {\"id\": 3806, \"name\": \"Houghton P&R\"},\n",
    "    {\"id\": 3807, \"name\": \"Bethel Lutheran\"},\n",
    "    {\"id\": 3808, \"name\": \"Redmond P&R\"},\n",
    "    {\"id\": 3809, \"name\": \"Saint Thomas Episcopal\"},\n",
    "    {\"id\": 3810, \"name\": \"Valley Center\"},\n",
    "    {\"id\": 3811, \"name\": \"Bear Creek P&R\"},\n",
    "    {\"id\": 3812, \"name\": \"Kingsgate P&R\"},\n",
    "    {\"id\": 3813, \"name\": \"Brickyard P&R\"},\n",
    "    {\"id\": 3814, \"name\": \"Northshore P&R\"},\n",
    "    {\"id\": 3815, \"name\": \"Kenmore P&R\"},\n",
    "    {\"id\": 3816, \"name\": \"Bethany Bible Church\"},\n",
    "    {\"id\": 3817, \"name\": \"Bothell P&R\"},\n",
    "    {\"id\": 3818, \"name\": \"Woodinville P&R\"},\n",
    "    {\"id\": 3819, \"name\": \"Olson & Meyers\"},\n",
    "    {\"id\": 3820, \"name\": \"Spokane Street P&R\"},\n",
    "    {\"id\": 3821, \"name\": \"Greenlake P&R\"},\n",
    "    {\"id\": 3822, \"name\": \"Northgate TC\"},\n",
    "    {\"id\": 3823, \"name\": \"North Jackson Park\"},\n",
    "    {\"id\": 3824, \"name\": \"Shoreline\"},\n",
    "    {\"id\": 3825, \"name\": \"112th St. & I-5\"},\n",
    "    {\"id\": 3826, \"name\": \"Ober Park\"},\n",
    "    {\"id\": 3827, \"name\": \"Vashon Heights\"},\n",
    "    {\"id\": 3828, \"name\": \"Mountlake Terrace P&R\"},\n",
    "    {\"id\": 3829, \"name\": \"Bethesda Lutheran\"},\n",
    "    {\"id\": 3830, \"name\": \"Edmonds Station\"},\n",
    "    {\"id\": 3831, \"name\": \"Edmonds P&R\"},\n",
    "    {\"id\": 3832, \"name\": \"Lynnwood P&R\"},\n",
    "    {\"id\": 3833, \"name\": \"Swamp Creek P&R\"},\n",
    "    {\"id\": 3834, \"name\": \"Mariner P&R\"},\n",
    "    {\"id\": 3835, \"name\": \"Snohomish\"},\n",
    "    {\"id\": 3836, \"name\": \"Marysville - Ash Ave\"},\n",
    "    {\"id\": 3837, \"name\": \"116th & I-5 - Marysville\"},\n",
    "    {\"id\": 3838, \"name\": \"SR-531 - Marysville\"},\n",
    "    {\"id\": 3839, \"name\": \"Arlington P&R\"},\n",
    "    {\"id\": 3840, \"name\": \"Stanwood\"},\n",
    "    {\"id\": 3841, \"name\": \"Monroe\"},\n",
    "    {\"id\": 3842, \"name\": \"Federal Way\"},\n",
    "    {\"id\": 3843, \"name\": \"Port Orchard Armory\"},\n",
    "    {\"id\": 3844, \"name\": \"Southworth Ferry P&R\"},\n",
    "    {\"id\": 3845, \"name\": \"McWilliams P&R\"},\n",
    "    {\"id\": 3846, \"name\": \"Bethany Lutheran Church\"},\n",
    "    {\"id\": 3847, \"name\": \"Gateway Fellowship\"},\n",
    "    {\"id\": 3848, \"name\": \"Agate Pass P&R/Clearwater\"},\n",
    "    {\"id\": 3849, \"name\": \"Kingston Ferry P&R\"},\n",
    "    {\"id\": 3850, \"name\": \"Suquamish United Church of Christ\"},\n",
    "    {\"id\": 3851, \"name\": \"Bainbridge Island Ferry\"},\n",
    "    {\"id\": 3852, \"name\": \"Puyallup Station (NB)\"},\n",
    "    {\"id\": 3853, \"name\": \"72nd Street Transit Center\"},\n",
    "    {\"id\": 3855, \"name\": \"DuPont\"},\n",
    "    {\"id\": 3856, \"name\": \"Aurora Village TC\"},\n",
    "    {\"id\": 3857, \"name\": \"Aurora Nazarene\"},\n",
    "    {\"id\": 3858, \"name\": \"Saint Margaret's Episcopal\"},\n",
    "    {\"id\": 3861, \"name\": \"Lake Meridian P&R\"},\n",
    "    {\"id\": 3862, \"name\": \"Smokey Pt. Church\"},\n",
    "    {\"id\": 3863, \"name\": \"Eastmont P&R\"},\n",
    "    {\"id\": 3864, \"name\": \"McCollum Park P&R\"},\n",
    "    {\"id\": 3865, \"name\": \"Canyon Park P&R\"},\n",
    "    {\"id\": 3866, \"name\": \"Korean Presby. P&R\"},\n",
    "    {\"id\": 3867, \"name\": \"Georges Kountry Korner\"},\n",
    "    {\"id\": 3868, \"name\": \"Poulsbo Church of the Nazarene\"},\n",
    "    {\"id\": 3870, \"name\": \"Harper Evangelical Free Church\"},\n",
    "    {\"id\": 3871, \"name\": \"Mullenix Road\"},\n",
    "    {\"id\": 3873, \"name\": \"TCC P&R\"},\n",
    "    {\"id\": 3874, \"name\": \"Ash Way P&R\"},\n",
    "    {\"id\": 3875, \"name\": \"Bonney Lake P&R\"},\n",
    "    {\"id\": 3876, \"name\": \"Tukwila Int. Station\"},\n",
    "    {\"id\": 3877, \"name\": \"South Hill P&R\"},\n",
    "    {\"id\": 3878, \"name\": \"South Tacoma East - 1\"},\n",
    "    {\"id\": 3879, \"name\": \"Issaquah Highlands\"},\n",
    "    {\"id\": 3880, \"name\": \"Lake Stevens TC\"},\n",
    "    {\"id\": 3881, \"name\": \"Liberty Bay Presbyterian\"},\n",
    "    {\"id\": 3882, \"name\": \"NK Baptist\"},\n",
    "    {\"id\": 3883, \"name\": \"Preston P&R\"},\n",
    "    {\"id\": 3884, \"name\": \"Bayside Community Church\"},\n",
    "    {\"id\": 3885, \"name\": \"Ollala Valley Fire Station\"},\n",
    "    {\"id\": 3886, \"name\": \"Bremerton Ferry\"},\n",
    "    {\"id\": 3888, \"name\": \"Puyallup Fair's Red Lot\"},\n",
    "    {\"id\": 3889, \"name\": \"Marysville - Cedar & Grove\"},\n",
    "    {\"id\": 3890, \"name\": \"Stanwood II\"},\n",
    "    {\"id\": 3891, \"name\": \"Marysville I P&R\"},\n",
    "    {\"id\": 3892, \"name\": \"Martha Lake Covenant Church\"},\n",
    "    {\"id\": 3893, \"name\": \"South Sammammish P&R\"},\n",
    "    {\"id\": 3894, \"name\": \"Renton City Municipal Garage\"},\n",
    "    {\"id\": 3895, \"name\": \"Tibbetts Lot\"},\n",
    "    {\"id\": 3896, \"name\": \"Renton Transit Center\"},\n",
    "    {\"id\": 3897, \"name\": \"Calvary Christian Assembly\"},\n",
    "    {\"id\": 3898, \"name\": \"Maple Valley Town Square\"},\n",
    "    {\"id\": 3899, \"name\": \"All Saints Lutheran Church\"},\n",
    "    {\"id\": 3900, \"name\": \"City View Church\"},\n",
    "    {\"id\": 3901, \"name\": \"Northwest University 6710 Bldg.\"},\n",
    "    {\"id\": 3902, \"name\": \"Sammamish Lutheran P&R\"},\n",
    "    {\"id\": 3903, \"name\": \"Redmond Ridge P&R\"},\n",
    "    {\"id\": 3904, \"name\": \"Kennydale United Methodist Church\"},\n",
    "    {\"id\": 3905, \"name\": \"Nativity Lutheran Church\"},\n",
    "    {\"id\": 3906, \"name\": \"South Jackson P&R\"},\n",
    "    {\"id\": 3907, \"name\": \"South SeaTac (LR)\"},\n",
    "    {\"id\": 3908, \"name\": \"Everett Station\"},\n",
    "    {\"id\": 3909, \"name\": \"Bremerton (SR-303/Riddell Road)\"},\n",
    "    {\"id\": 3910, \"name\": \"Silverdale\"},\n",
    "    {\"id\": 3911, \"name\": \"Tukwila Station (CR)\"},\n",
    "    {\"id\": 3913, \"name\": \"Sumner Station Garage\"},\n",
    "    {\"id\": 3914, \"name\": \"Tacoma Dome\"},\n",
    "    {\"id\": 3915, \"name\": \"Bothell (SR-527/185th Street)\"},\n",
    "    {\"id\": 3916, \"name\": \"SR-3/SR-303\"},\n",
    "    {\"id\": 3917, \"name\": \"SR-16/SR-160\"},\n",
    "    {\"id\": 3918, \"name\": \"I-5 & 175th\"}\n",
    "]"
   ]
  },
  {
   "cell_type": "code",
   "execution_count": 34,
   "id": "adf42b0c",
   "metadata": {},
   "outputs": [],
   "source": [
    "pnr_capacity = pd.read_csv(os.path.join(valid_config['model_dir'], 'inputs/scenario/networks/p_r_nodes.csv'))\n",
    "df = pnr_capacity.merge(pnr_boardings, left_on='ZoneID', right_on='otaz')\n",
    "df.rename(columns={'ZoneID': 'taz', 'trexpfac': 'Model Boardings'}, inplace=True)\n",
    "df['Boardings/Capacity'] = df['Model Boardings']/df['Capacity']\n",
    "# df.head()"
   ]
  },
  {
   "cell_type": "raw",
   "id": "0a7a4e81",
   "metadata": {
    "vscode": {
     "languageId": "raw"
    }
   },
   "source": [
    ":::{.panel-tabset}\n",
    "\n",
    "### boardings vs capacity"
   ]
  },
  {
   "cell_type": "code",
   "execution_count": 35,
   "id": "a4fb4af0",
   "metadata": {},
   "outputs": [],
   "source": [
    "df_station_names = pd.DataFrame(stations)\n",
    "df = df.merge(df_station_names, how='left', left_on='taz', right_on='id')"
   ]
  },
  {
   "cell_type": "code",
   "execution_count": 36,
   "id": "7f7b1396",
   "metadata": {},
   "outputs": [
    {
     "data": {
      "application/vnd.plotly.v1+json": {
       "config": {
        "plotlyServerURL": "https://plot.ly"
       },
       "data": [
        {
         "customdata": [
          [
           "Tukwila Station (CR)",
           0.2717948717948718
          ],
          [
           "Tacoma Dome Station",
           0.1069747539580659
          ],
          [
           "Everett Station (CR)",
           0.057813911472448055
          ],
          [
           "Sumner Station (CR)",
           0.7742857142857142
          ],
          [
           "Mukilteo Station",
           0.047619047619047616
          ],
          [
           "Kent Station (CR)",
           0.41566265060240964
          ],
          [
           "Lakewood (CR)",
           0.004991680532445923
          ],
          [
           "Gateway P&R",
           0.4230769230769231
          ],
          [
           "Puyallup Station (SB)",
           0.12
          ],
          [
           "Twin Lakes P&R",
           0.006666666666666667
          ],
          [
           "Crossroads Neighborhood Church",
           0.04672897196261682
          ],
          [
           "Overlake Transit Center",
           0.5720720720720721
          ],
          [
           "Redondo Heights P&R",
           0.007173601147776184
          ],
          [
           "North Gig Harbor/Kimball Drive",
           0.026143790849673203
          ],
          [
           "Duvall P&R",
           0.04081632653061224
          ],
          [
           "Roy 'Y' P&R",
           0.01
          ],
          [
           "South Hill (Elim Evangelical)",
           0.6
          ],
          [
           "Parkland Transit Center",
           0.1774193548387097
          ],
          [
           "SR-512/I-5 (Lakewood)",
           0.028397565922920892
          ],
          [
           "Center Street P&R",
           0.16
          ],
          [
           "Tacoma Mall Transit Center",
           0.1
          ],
          [
           "South Tacoma West",
           0.15384615384615385
          ],
          [
           "South Tacoma East - 2",
           0.06818181818181818
          ],
          [
           "Narrows P&R",
           0.005128205128205128
          ],
          [
           "North Purdy/Purdy Crescent",
           0.01
          ],
          [
           "Point Defiance Ferry",
           0.05063291139240506
          ],
          [
           "South Federal P&R",
           0.019417475728155338
          ],
          [
           "Sultan P&R",
           0.03125
          ],
          [
           "Federal Way P&R (320th)",
           0.11402508551881414
          ],
          [
           "Auburn P&R",
           0.036885245901639344
          ],
          [
           "Holy Spirit Lutheran Church",
           0.5
          ],
          [
           "Kent/Des Moines P&R",
           0.027227722772277228
          ],
          [
           "Kent/James St. P&R",
           0.12342215988779803
          ],
          [
           "Burien Transit Center",
           0.045081967213114756
          ],
          [
           "Tukwila",
           0.10112359550561797
          ],
          [
           "South Renton P&R",
           0.07792207792207792
          ],
          [
           "Renton Highlands P&R (St. Matts)",
           0.015625
          ],
          [
           "Issaquah Transit Center",
           0.02442002442002442
          ],
          [
           "Mercer Island P&R",
           0.49440715883668906
          ],
          [
           "Mercer Island Presbyterian",
           0.7333333333333333
          ],
          [
           "Newport Hills P&R",
           0.01818181818181818
          ],
          [
           "Newport Hills Community Church",
           0.02702702702702703
          ],
          [
           "Newport Covenant Church",
           0.02666666666666667
          ],
          [
           "South Bellevue P&R",
           0.09441233140655106
          ],
          [
           "Wilburton",
           0.0913978494623656
          ],
          [
           "Eastgate P&R",
           0.027261462205700124
          ],
          [
           "North Bend P&R",
           0.0875
          ],
          [
           "Evergreen Point P&R",
           0.5263157894736842
          ],
          [
           "Grace Lutheran Church",
           0.74
          ],
          [
           "South Kirkland P&R",
           0.022809123649459785
          ],
          [
           "Overlake P&R",
           0.2660098522167488
          ],
          [
           "Houghton P&R",
           0.01702127659574468
          ],
          [
           "Bethel Lutheran",
           0.075
          ],
          [
           "Redmond P&R",
           0.14058355437665782
          ],
          [
           "Saint Thomas Episcopal",
           0.4375
          ],
          [
           "Valley Center",
           0.09090909090909091
          ],
          [
           "Bear Creek P&R",
           0.07420494699646643
          ],
          [
           "Kingsgate P&R",
           0.10159362549800798
          ],
          [
           "Brickyard P&R",
           0.009029345372460496
          ],
          [
           "Northshore P&R",
           0.034574468085106384
          ],
          [
           "Kenmore P&R",
           0.07628524046434494
          ],
          [
           "Bothell P&R",
           0.2772727272727273
          ],
          [
           "Woodinville P&R",
           0.0319634703196347
          ],
          [
           "Olson & Meyers",
           0.2
          ],
          [
           "Northgate TC",
           0.6023856858846919
          ],
          [
           "North Jackson Park",
           0.9852941176470589
          ],
          [
           "Shoreline",
           0.10432569974554708
          ],
          [
           "112th St. & I-5",
           0.017632241813602016
          ],
          [
           "Ober Park",
           0.125
          ],
          [
           "Vashon Heights",
           0.6304347826086957
          ],
          [
           "Mountlake Terrace P&R",
           0.038636363636363635
          ],
          [
           "Bethesda Lutheran",
           0.45
          ],
          [
           "Edmonds Station",
           0.003861003861003861
          ],
          [
           "Edmonds P&R",
           0.027450980392156862
          ],
          [
           "Lynnwood P&R",
           0.01072961373390558
          ],
          [
           "Swamp Creek P&R",
           0.036585365853658534
          ],
          [
           "Mariner P&R",
           0.043478260869565216
          ],
          [
           "Snohomish",
           0.0673076923076923
          ],
          [
           "116th & I-5 - Marysville",
           0.017543859649122806
          ],
          [
           "Arlington P&R",
           0.16
          ],
          [
           "Monroe",
           0.06862745098039216
          ],
          [
           "Federal Way",
           0.03529411764705882
          ],
          [
           "Southworth Ferry P&R",
           0.33962264150943394
          ],
          [
           "Bethany Lutheran Church",
           0.275
          ],
          [
           "Gateway Fellowship",
           0.036231884057971016
          ],
          [
           "Kingston Ferry P&R",
           0.027777777777777776
          ],
          [
           "Suquamish United Church of Christ",
           0.015384615384615385
          ],
          [
           "Puyallup Station (NB)",
           0.4423076923076923
          ],
          [
           "72nd Street Transit Center",
           0.029411764705882353
          ],
          [
           "DuPont",
           0.009174311926605505
          ],
          [
           "Aurora Village TC",
           0.3415841584158416
          ],
          [
           "Aurora Nazarene",
           0.5258620689655172
          ],
          [
           "Saint Margaret's Episcopal",
           0.203125
          ],
          [
           "Lake Meridian P&R",
           0.046511627906976744
          ],
          [
           "Smokey Pt. Church",
           0.16
          ],
          [
           "Eastmont P&R",
           0.002570694087403599
          ],
          [
           "McCollum Park P&R",
           0.03178484107579462
          ],
          [
           "Canyon Park P&R",
           0.046357615894039736
          ],
          [
           "Korean Presby. P&R",
           0.44
          ],
          [
           "Harper Evangelical Free Church",
           0.025974025974025976
          ],
          [
           "Mullenix Road",
           0.043478260869565216
          ],
          [
           "TCC P&R",
           0.18947368421052632
          ],
          [
           "Ash Way P&R",
           0.06555772994129158
          ],
          [
           "Bonney Lake P&R",
           0.008426966292134831
          ],
          [
           "Tukwila Int. Station",
           0.8413897280966768
          ],
          [
           "South Hill P&R",
           0.02824858757062147
          ],
          [
           "South Tacoma East - 1",
           0.09090909090909091
          ],
          [
           "Issaquah Highlands",
           0.03762376237623762
          ],
          [
           "Lake Stevens TC",
           0.03864734299516908
          ],
          [
           "Liberty Bay Presbyterian",
           0.011111111111111112
          ],
          [
           "NK Baptist",
           0.017543859649122806
          ],
          [
           "Preston P&R",
           0.8113207547169812
          ],
          [
           "Bayside Community Church",
           0.01904761904761905
          ],
          [
           "Bremerton Ferry",
           0.2950530035335689
          ],
          [
           "Marysville - Cedar & Grove",
           0.028169014084507043
          ],
          [
           "Marysville I P&R",
           0.05405405405405406
          ],
          [
           "Martha Lake Covenant Church",
           0.04
          ],
          [
           "South Sammammish P&R",
           0.007547169811320755
          ],
          [
           "Renton City Municipal Garage",
           0.1
          ],
          [
           "Tibbetts Lot",
           0.047058823529411764
          ],
          [
           "Renton Transit Center",
           0.10666666666666667
          ],
          [
           "Maple Valley Town Square",
           0.06666666666666667
          ],
          [
           "All Saints Lutheran Church",
           0.13333333333333333
          ],
          [
           "City View Church",
           0.8333333333333334
          ],
          [
           "Northwest University 6710 Bldg.",
           0.19672131147540983
          ],
          [
           "Sammamish Lutheran P&R",
           0.037037037037037035
          ],
          [
           "Redmond Ridge P&R",
           0.019230769230769232
          ],
          [
           "Kennydale United Methodist Church",
           0.02
          ],
          [
           "Nativity Lutheran Church",
           0.061224489795918366
          ],
          [
           "Everett Station",
           0.56875
          ],
          [
           null,
           0.8148148148148148
          ]
         ],
         "hovertemplate": "color=Boardings/Capacity <= 1<br>Capacity=%{x}<br>Model Boardings=%{y}<br>name=%{customdata[0]}<br>Boardings/Capacity=%{customdata[1]:.2f}<extra></extra>",
         "legendgroup": "Boardings/Capacity <= 1",
         "marker": {
          "color": "#91268F",
          "symbol": "circle"
         },
         "mode": "markers",
         "name": "Boardings/Capacity <= 1",
         "orientation": "v",
         "showlegend": true,
         "type": "scatter",
         "x": [
          390,
          2337,
          1107,
          350,
          63,
          996,
          601,
          104,
          50,
          600,
          107,
          222,
          697,
          306,
          49,
          100,
          20,
          62,
          493,
          75,
          150,
          78,
          44,
          195,
          200,
          79,
          515,
          64,
          877,
          244,
          40,
          404,
          713,
          488,
          267,
          385,
          128,
          819,
          447,
          30,
          275,
          37,
          75,
          519,
          186,
          1614,
          80,
          38,
          50,
          833,
          203,
          470,
          40,
          377,
          48,
          55,
          283,
          502,
          443,
          376,
          603,
          220,
          438,
          100,
          1509,
          68,
          393,
          397,
          48,
          230,
          880,
          20,
          259,
          255,
          1398,
          410,
          667,
          104,
          57,
          25,
          102,
          1190,
          318,
          80,
          138,
          72,
          65,
          364,
          68,
          109,
          202,
          116,
          64,
          172,
          50,
          389,
          409,
          302,
          25,
          462,
          92,
          95,
          1022,
          356,
          662,
          354,
          33,
          1010,
          207,
          90,
          57,
          53,
          210,
          566,
          213,
          74,
          75,
          265,
          150,
          170,
          150,
          90,
          75,
          96,
          61,
          54,
          52,
          50,
          49,
          160,
          54
         ],
         "xaxis": "x",
         "y": [
          106,
          250,
          64,
          271,
          3,
          414,
          3,
          44,
          6,
          4,
          5,
          127,
          5,
          8,
          2,
          1,
          12,
          11,
          14,
          12,
          15,
          12,
          3,
          1,
          2,
          4,
          10,
          2,
          100,
          9,
          20,
          11,
          88,
          22,
          27,
          30,
          2,
          20,
          221,
          22,
          5,
          1,
          2,
          49,
          17,
          44,
          7,
          20,
          37,
          19,
          54,
          8,
          3,
          53,
          21,
          5,
          21,
          51,
          4,
          13,
          46,
          61,
          14,
          20,
          909,
          67,
          41,
          7,
          6,
          145,
          34,
          9,
          1,
          7,
          15,
          15,
          29,
          7,
          1,
          4,
          7,
          42,
          108,
          22,
          5,
          2,
          1,
          161,
          2,
          1,
          69,
          61,
          13,
          8,
          8,
          1,
          13,
          14,
          11,
          12,
          4,
          18,
          67,
          3,
          557,
          10,
          3,
          38,
          8,
          1,
          1,
          43,
          4,
          167,
          6,
          4,
          3,
          2,
          15,
          8,
          16,
          6,
          10,
          80,
          12,
          2,
          1,
          1,
          3,
          91,
          44
         ],
         "yaxis": "y"
        },
        {
         "customdata": [
          [
           "Auburn Station (CR)",
           1.1074249605055293
          ],
          [
           "Bethany Bible Church",
           1.0266666666666666
          ],
          [
           "Spokane Street P&R",
           1.0363636363636364
          ],
          [
           "Greenlake P&R",
           2.0413625304136254
          ],
          [
           "Port Orchard Armory",
           1.1904761904761905
          ],
          [
           "Bainbridge Island Ferry",
           1.1336898395721926
          ],
          [
           "Puyallup Fair's Red Lot",
           1.4703196347031964
          ],
          [
           "Calvary Christian Assembly",
           1.824
          ],
          [
           "South SeaTac (LR)",
           1.0094827586206896
          ]
         ],
         "hovertemplate": "color=Boardings/Capacity > 1<br>Capacity=%{x}<br>Model Boardings=%{y}<br>name=%{customdata[0]}<br>Boardings/Capacity=%{customdata[1]:.2f}<extra></extra>",
         "legendgroup": "Boardings/Capacity > 1",
         "marker": {
          "color": "#8CC63E",
          "symbol": "circle"
         },
         "mode": "markers",
         "name": "Boardings/Capacity > 1",
         "orientation": "v",
         "showlegend": true,
         "type": "scatter",
         "x": [
          633,
          75,
          55,
          411,
          105,
          187,
          219,
          125,
          1160
         ],
         "xaxis": "x",
         "y": [
          701,
          77,
          57,
          839,
          125,
          212,
          322,
          228,
          1171
         ],
         "yaxis": "y"
        }
       ],
       "layout": {
        "height": 600,
        "legend": {
         "title": {
          "text": "color"
         },
         "tracegroupgap": 0
        },
        "template": {
         "data": {
          "bar": [
           {
            "error_x": {
             "color": "rgb(36,36,36)"
            },
            "error_y": {
             "color": "rgb(36,36,36)"
            },
            "marker": {
             "line": {
              "color": "white",
              "width": 0.5
             },
             "pattern": {
              "fillmode": "overlay",
              "size": 10,
              "solidity": 0.2
             }
            },
            "type": "bar"
           }
          ],
          "barpolar": [
           {
            "marker": {
             "line": {
              "color": "white",
              "width": 0.5
             },
             "pattern": {
              "fillmode": "overlay",
              "size": 10,
              "solidity": 0.2
             }
            },
            "type": "barpolar"
           }
          ],
          "carpet": [
           {
            "aaxis": {
             "endlinecolor": "rgb(36,36,36)",
             "gridcolor": "white",
             "linecolor": "white",
             "minorgridcolor": "white",
             "startlinecolor": "rgb(36,36,36)"
            },
            "baxis": {
             "endlinecolor": "rgb(36,36,36)",
             "gridcolor": "white",
             "linecolor": "white",
             "minorgridcolor": "white",
             "startlinecolor": "rgb(36,36,36)"
            },
            "type": "carpet"
           }
          ],
          "choropleth": [
           {
            "colorbar": {
             "outlinewidth": 1,
             "tickcolor": "rgb(36,36,36)",
             "ticks": "outside"
            },
            "type": "choropleth"
           }
          ],
          "contour": [
           {
            "colorbar": {
             "outlinewidth": 1,
             "tickcolor": "rgb(36,36,36)",
             "ticks": "outside"
            },
            "colorscale": [
             [
              0,
              "#440154"
             ],
             [
              0.1111111111111111,
              "#482878"
             ],
             [
              0.2222222222222222,
              "#3e4989"
             ],
             [
              0.3333333333333333,
              "#31688e"
             ],
             [
              0.4444444444444444,
              "#26828e"
             ],
             [
              0.5555555555555556,
              "#1f9e89"
             ],
             [
              0.6666666666666666,
              "#35b779"
             ],
             [
              0.7777777777777778,
              "#6ece58"
             ],
             [
              0.8888888888888888,
              "#b5de2b"
             ],
             [
              1,
              "#fde725"
             ]
            ],
            "type": "contour"
           }
          ],
          "contourcarpet": [
           {
            "colorbar": {
             "outlinewidth": 1,
             "tickcolor": "rgb(36,36,36)",
             "ticks": "outside"
            },
            "type": "contourcarpet"
           }
          ],
          "heatmap": [
           {
            "colorbar": {
             "outlinewidth": 1,
             "tickcolor": "rgb(36,36,36)",
             "ticks": "outside"
            },
            "colorscale": [
             [
              0,
              "#440154"
             ],
             [
              0.1111111111111111,
              "#482878"
             ],
             [
              0.2222222222222222,
              "#3e4989"
             ],
             [
              0.3333333333333333,
              "#31688e"
             ],
             [
              0.4444444444444444,
              "#26828e"
             ],
             [
              0.5555555555555556,
              "#1f9e89"
             ],
             [
              0.6666666666666666,
              "#35b779"
             ],
             [
              0.7777777777777778,
              "#6ece58"
             ],
             [
              0.8888888888888888,
              "#b5de2b"
             ],
             [
              1,
              "#fde725"
             ]
            ],
            "type": "heatmap"
           }
          ],
          "heatmapgl": [
           {
            "colorbar": {
             "outlinewidth": 1,
             "tickcolor": "rgb(36,36,36)",
             "ticks": "outside"
            },
            "colorscale": [
             [
              0,
              "#440154"
             ],
             [
              0.1111111111111111,
              "#482878"
             ],
             [
              0.2222222222222222,
              "#3e4989"
             ],
             [
              0.3333333333333333,
              "#31688e"
             ],
             [
              0.4444444444444444,
              "#26828e"
             ],
             [
              0.5555555555555556,
              "#1f9e89"
             ],
             [
              0.6666666666666666,
              "#35b779"
             ],
             [
              0.7777777777777778,
              "#6ece58"
             ],
             [
              0.8888888888888888,
              "#b5de2b"
             ],
             [
              1,
              "#fde725"
             ]
            ],
            "type": "heatmapgl"
           }
          ],
          "histogram": [
           {
            "marker": {
             "line": {
              "color": "white",
              "width": 0.6
             }
            },
            "type": "histogram"
           }
          ],
          "histogram2d": [
           {
            "colorbar": {
             "outlinewidth": 1,
             "tickcolor": "rgb(36,36,36)",
             "ticks": "outside"
            },
            "colorscale": [
             [
              0,
              "#440154"
             ],
             [
              0.1111111111111111,
              "#482878"
             ],
             [
              0.2222222222222222,
              "#3e4989"
             ],
             [
              0.3333333333333333,
              "#31688e"
             ],
             [
              0.4444444444444444,
              "#26828e"
             ],
             [
              0.5555555555555556,
              "#1f9e89"
             ],
             [
              0.6666666666666666,
              "#35b779"
             ],
             [
              0.7777777777777778,
              "#6ece58"
             ],
             [
              0.8888888888888888,
              "#b5de2b"
             ],
             [
              1,
              "#fde725"
             ]
            ],
            "type": "histogram2d"
           }
          ],
          "histogram2dcontour": [
           {
            "colorbar": {
             "outlinewidth": 1,
             "tickcolor": "rgb(36,36,36)",
             "ticks": "outside"
            },
            "colorscale": [
             [
              0,
              "#440154"
             ],
             [
              0.1111111111111111,
              "#482878"
             ],
             [
              0.2222222222222222,
              "#3e4989"
             ],
             [
              0.3333333333333333,
              "#31688e"
             ],
             [
              0.4444444444444444,
              "#26828e"
             ],
             [
              0.5555555555555556,
              "#1f9e89"
             ],
             [
              0.6666666666666666,
              "#35b779"
             ],
             [
              0.7777777777777778,
              "#6ece58"
             ],
             [
              0.8888888888888888,
              "#b5de2b"
             ],
             [
              1,
              "#fde725"
             ]
            ],
            "type": "histogram2dcontour"
           }
          ],
          "mesh3d": [
           {
            "colorbar": {
             "outlinewidth": 1,
             "tickcolor": "rgb(36,36,36)",
             "ticks": "outside"
            },
            "type": "mesh3d"
           }
          ],
          "parcoords": [
           {
            "line": {
             "colorbar": {
              "outlinewidth": 1,
              "tickcolor": "rgb(36,36,36)",
              "ticks": "outside"
             }
            },
            "type": "parcoords"
           }
          ],
          "pie": [
           {
            "automargin": true,
            "type": "pie"
           }
          ],
          "scatter": [
           {
            "fillpattern": {
             "fillmode": "overlay",
             "size": 10,
             "solidity": 0.2
            },
            "type": "scatter"
           }
          ],
          "scatter3d": [
           {
            "line": {
             "colorbar": {
              "outlinewidth": 1,
              "tickcolor": "rgb(36,36,36)",
              "ticks": "outside"
             }
            },
            "marker": {
             "colorbar": {
              "outlinewidth": 1,
              "tickcolor": "rgb(36,36,36)",
              "ticks": "outside"
             }
            },
            "type": "scatter3d"
           }
          ],
          "scattercarpet": [
           {
            "marker": {
             "colorbar": {
              "outlinewidth": 1,
              "tickcolor": "rgb(36,36,36)",
              "ticks": "outside"
             }
            },
            "type": "scattercarpet"
           }
          ],
          "scattergeo": [
           {
            "marker": {
             "colorbar": {
              "outlinewidth": 1,
              "tickcolor": "rgb(36,36,36)",
              "ticks": "outside"
             }
            },
            "type": "scattergeo"
           }
          ],
          "scattergl": [
           {
            "marker": {
             "colorbar": {
              "outlinewidth": 1,
              "tickcolor": "rgb(36,36,36)",
              "ticks": "outside"
             }
            },
            "type": "scattergl"
           }
          ],
          "scattermapbox": [
           {
            "marker": {
             "colorbar": {
              "outlinewidth": 1,
              "tickcolor": "rgb(36,36,36)",
              "ticks": "outside"
             }
            },
            "type": "scattermapbox"
           }
          ],
          "scatterpolar": [
           {
            "marker": {
             "colorbar": {
              "outlinewidth": 1,
              "tickcolor": "rgb(36,36,36)",
              "ticks": "outside"
             }
            },
            "type": "scatterpolar"
           }
          ],
          "scatterpolargl": [
           {
            "marker": {
             "colorbar": {
              "outlinewidth": 1,
              "tickcolor": "rgb(36,36,36)",
              "ticks": "outside"
             }
            },
            "type": "scatterpolargl"
           }
          ],
          "scatterternary": [
           {
            "marker": {
             "colorbar": {
              "outlinewidth": 1,
              "tickcolor": "rgb(36,36,36)",
              "ticks": "outside"
             }
            },
            "type": "scatterternary"
           }
          ],
          "surface": [
           {
            "colorbar": {
             "outlinewidth": 1,
             "tickcolor": "rgb(36,36,36)",
             "ticks": "outside"
            },
            "colorscale": [
             [
              0,
              "#440154"
             ],
             [
              0.1111111111111111,
              "#482878"
             ],
             [
              0.2222222222222222,
              "#3e4989"
             ],
             [
              0.3333333333333333,
              "#31688e"
             ],
             [
              0.4444444444444444,
              "#26828e"
             ],
             [
              0.5555555555555556,
              "#1f9e89"
             ],
             [
              0.6666666666666666,
              "#35b779"
             ],
             [
              0.7777777777777778,
              "#6ece58"
             ],
             [
              0.8888888888888888,
              "#b5de2b"
             ],
             [
              1,
              "#fde725"
             ]
            ],
            "type": "surface"
           }
          ],
          "table": [
           {
            "cells": {
             "fill": {
              "color": "rgb(237,237,237)"
             },
             "line": {
              "color": "white"
             }
            },
            "header": {
             "fill": {
              "color": "rgb(217,217,217)"
             },
             "line": {
              "color": "white"
             }
            },
            "type": "table"
           }
          ]
         },
         "layout": {
          "annotationdefaults": {
           "arrowhead": 0,
           "arrowwidth": 1
          },
          "autotypenumbers": "strict",
          "coloraxis": {
           "colorbar": {
            "outlinewidth": 1,
            "tickcolor": "rgb(36,36,36)",
            "ticks": "outside"
           }
          },
          "colorscale": {
           "diverging": [
            [
             0,
             "rgb(103,0,31)"
            ],
            [
             0.1,
             "rgb(178,24,43)"
            ],
            [
             0.2,
             "rgb(214,96,77)"
            ],
            [
             0.3,
             "rgb(244,165,130)"
            ],
            [
             0.4,
             "rgb(253,219,199)"
            ],
            [
             0.5,
             "rgb(247,247,247)"
            ],
            [
             0.6,
             "rgb(209,229,240)"
            ],
            [
             0.7,
             "rgb(146,197,222)"
            ],
            [
             0.8,
             "rgb(67,147,195)"
            ],
            [
             0.9,
             "rgb(33,102,172)"
            ],
            [
             1,
             "rgb(5,48,97)"
            ]
           ],
           "sequential": [
            [
             0,
             "#440154"
            ],
            [
             0.1111111111111111,
             "#482878"
            ],
            [
             0.2222222222222222,
             "#3e4989"
            ],
            [
             0.3333333333333333,
             "#31688e"
            ],
            [
             0.4444444444444444,
             "#26828e"
            ],
            [
             0.5555555555555556,
             "#1f9e89"
            ],
            [
             0.6666666666666666,
             "#35b779"
            ],
            [
             0.7777777777777778,
             "#6ece58"
            ],
            [
             0.8888888888888888,
             "#b5de2b"
            ],
            [
             1,
             "#fde725"
            ]
           ],
           "sequentialminus": [
            [
             0,
             "#440154"
            ],
            [
             0.1111111111111111,
             "#482878"
            ],
            [
             0.2222222222222222,
             "#3e4989"
            ],
            [
             0.3333333333333333,
             "#31688e"
            ],
            [
             0.4444444444444444,
             "#26828e"
            ],
            [
             0.5555555555555556,
             "#1f9e89"
            ],
            [
             0.6666666666666666,
             "#35b779"
            ],
            [
             0.7777777777777778,
             "#6ece58"
            ],
            [
             0.8888888888888888,
             "#b5de2b"
            ],
            [
             1,
             "#fde725"
            ]
           ]
          },
          "colorway": [
           "#91268F",
           "#8CC63E",
           "#00A7A0",
           "#F05A28",
           "#4C4C4C",
           "#630460",
           "#9f3913",
           "#588527",
           "#00716c",
           "#3e4040"
          ],
          "font": {
           "color": "rgb(36,36,36)",
           "family": "Poppins",
           "size": 11
          },
          "geo": {
           "bgcolor": "white",
           "lakecolor": "white",
           "landcolor": "white",
           "showlakes": true,
           "showland": true,
           "subunitcolor": "white"
          },
          "hoverlabel": {
           "align": "left"
          },
          "hovermode": "closest",
          "mapbox": {
           "style": "light"
          },
          "paper_bgcolor": "white",
          "plot_bgcolor": "white",
          "polar": {
           "angularaxis": {
            "gridcolor": "rgb(232,232,232)",
            "linecolor": "rgb(36,36,36)",
            "showgrid": false,
            "showline": true,
            "ticks": "outside"
           },
           "bgcolor": "white",
           "radialaxis": {
            "gridcolor": "rgb(232,232,232)",
            "linecolor": "rgb(36,36,36)",
            "showgrid": false,
            "showline": true,
            "ticks": "outside"
           }
          },
          "scene": {
           "xaxis": {
            "backgroundcolor": "white",
            "gridcolor": "rgb(232,232,232)",
            "gridwidth": 2,
            "linecolor": "rgb(36,36,36)",
            "showbackground": true,
            "showgrid": false,
            "showline": true,
            "ticks": "outside",
            "zeroline": false,
            "zerolinecolor": "rgb(36,36,36)"
           },
           "yaxis": {
            "backgroundcolor": "white",
            "gridcolor": "rgb(232,232,232)",
            "gridwidth": 2,
            "linecolor": "rgb(36,36,36)",
            "showbackground": true,
            "showgrid": false,
            "showline": true,
            "ticks": "outside",
            "zeroline": false,
            "zerolinecolor": "rgb(36,36,36)"
           },
           "zaxis": {
            "backgroundcolor": "white",
            "gridcolor": "rgb(232,232,232)",
            "gridwidth": 2,
            "linecolor": "rgb(36,36,36)",
            "showbackground": true,
            "showgrid": false,
            "showline": true,
            "ticks": "outside",
            "zeroline": false,
            "zerolinecolor": "rgb(36,36,36)"
           }
          },
          "shapedefaults": {
           "fillcolor": "black",
           "line": {
            "width": 0
           },
           "opacity": 0.3
          },
          "ternary": {
           "aaxis": {
            "gridcolor": "rgb(232,232,232)",
            "linecolor": "rgb(36,36,36)",
            "showgrid": false,
            "showline": true,
            "ticks": "outside"
           },
           "baxis": {
            "gridcolor": "rgb(232,232,232)",
            "linecolor": "rgb(36,36,36)",
            "showgrid": false,
            "showline": true,
            "ticks": "outside"
           },
           "bgcolor": "white",
           "caxis": {
            "gridcolor": "rgb(232,232,232)",
            "linecolor": "rgb(36,36,36)",
            "showgrid": false,
            "showline": true,
            "ticks": "outside"
           }
          },
          "title": {
           "x": 0.05
          },
          "xaxis": {
           "automargin": true,
           "gridcolor": "rgb(232,232,232)",
           "linecolor": "rgb(36,36,36)",
           "showgrid": false,
           "showline": true,
           "ticks": "outside",
           "title": {
            "standoff": 15
           },
           "zeroline": false,
           "zerolinecolor": "rgb(36,36,36)"
          },
          "yaxis": {
           "automargin": true,
           "gridcolor": "rgb(232,232,232)",
           "linecolor": "rgb(36,36,36)",
           "showgrid": false,
           "showline": true,
           "ticks": "outside",
           "title": {
            "standoff": 15
           },
           "zeroline": false,
           "zerolinecolor": "rgb(36,36,36)"
          }
         }
        },
        "title": {
         "text": "Model Boardings vs Capacity"
        },
        "width": 800,
        "xaxis": {
         "anchor": "y",
         "domain": [
          0,
          1
         ],
         "title": {
          "text": "Capacity"
         }
        },
        "yaxis": {
         "anchor": "x",
         "domain": [
          0,
          1
         ],
         "title": {
          "text": "Model Boardings"
         }
        }
       }
      },
      "text/html": [
       "<div>                            <div id=\"79f960ac-cf2d-4b46-b295-4c6ac86956d7\" class=\"plotly-graph-div\" style=\"height:600px; width:800px;\"></div>            <script type=\"text/javascript\">                require([\"plotly\"], function(Plotly) {                    window.PLOTLYENV=window.PLOTLYENV || {};                                    if (document.getElementById(\"79f960ac-cf2d-4b46-b295-4c6ac86956d7\")) {                    Plotly.newPlot(                        \"79f960ac-cf2d-4b46-b295-4c6ac86956d7\",                        [{\"customdata\":[[\"Tukwila Station (CR)\",0.2717948717948718],[\"Tacoma Dome Station\",0.1069747539580659],[\"Everett Station (CR)\",0.057813911472448055],[\"Sumner Station (CR)\",0.7742857142857142],[\"Mukilteo Station\",0.047619047619047616],[\"Kent Station (CR)\",0.41566265060240964],[\"Lakewood (CR)\",0.004991680532445923],[\"Gateway P&R\",0.4230769230769231],[\"Puyallup Station (SB)\",0.12],[\"Twin Lakes P&R\",0.006666666666666667],[\"Crossroads Neighborhood Church\",0.04672897196261682],[\"Overlake Transit Center\",0.5720720720720721],[\"Redondo Heights P&R\",0.007173601147776184],[\"North Gig Harbor\\u002fKimball Drive\",0.026143790849673203],[\"Duvall P&R\",0.04081632653061224],[\"Roy 'Y' P&R\",0.01],[\"South Hill (Elim Evangelical)\",0.6],[\"Parkland Transit Center\",0.1774193548387097],[\"SR-512\\u002fI-5 (Lakewood)\",0.028397565922920892],[\"Center Street P&R\",0.16],[\"Tacoma Mall Transit Center\",0.1],[\"South Tacoma West\",0.15384615384615385],[\"South Tacoma East - 2\",0.06818181818181818],[\"Narrows P&R\",0.005128205128205128],[\"North Purdy\\u002fPurdy Crescent\",0.01],[\"Point Defiance Ferry\",0.05063291139240506],[\"South Federal P&R\",0.019417475728155338],[\"Sultan P&R\",0.03125],[\"Federal Way P&R (320th)\",0.11402508551881414],[\"Auburn P&R\",0.036885245901639344],[\"Holy Spirit Lutheran Church\",0.5],[\"Kent\\u002fDes Moines P&R\",0.027227722772277228],[\"Kent\\u002fJames St. P&R\",0.12342215988779803],[\"Burien Transit Center\",0.045081967213114756],[\"Tukwila\",0.10112359550561797],[\"South Renton P&R\",0.07792207792207792],[\"Renton Highlands P&R (St. Matts)\",0.015625],[\"Issaquah Transit Center\",0.02442002442002442],[\"Mercer Island P&R\",0.49440715883668906],[\"Mercer Island Presbyterian\",0.7333333333333333],[\"Newport Hills P&R\",0.01818181818181818],[\"Newport Hills Community Church\",0.02702702702702703],[\"Newport Covenant Church\",0.02666666666666667],[\"South Bellevue P&R\",0.09441233140655106],[\"Wilburton\",0.0913978494623656],[\"Eastgate P&R\",0.027261462205700124],[\"North Bend P&R\",0.0875],[\"Evergreen Point P&R\",0.5263157894736842],[\"Grace Lutheran Church\",0.74],[\"South Kirkland P&R\",0.022809123649459785],[\"Overlake P&R\",0.2660098522167488],[\"Houghton P&R\",0.01702127659574468],[\"Bethel Lutheran\",0.075],[\"Redmond P&R\",0.14058355437665782],[\"Saint Thomas Episcopal\",0.4375],[\"Valley Center\",0.09090909090909091],[\"Bear Creek P&R\",0.07420494699646643],[\"Kingsgate P&R\",0.10159362549800798],[\"Brickyard P&R\",0.009029345372460496],[\"Northshore P&R\",0.034574468085106384],[\"Kenmore P&R\",0.07628524046434494],[\"Bothell P&R\",0.2772727272727273],[\"Woodinville P&R\",0.0319634703196347],[\"Olson & Meyers\",0.2],[\"Northgate TC\",0.6023856858846919],[\"North Jackson Park\",0.9852941176470589],[\"Shoreline\",0.10432569974554708],[\"112th St. & I-5\",0.017632241813602016],[\"Ober Park\",0.125],[\"Vashon Heights\",0.6304347826086957],[\"Mountlake Terrace P&R\",0.038636363636363635],[\"Bethesda Lutheran\",0.45],[\"Edmonds Station\",0.003861003861003861],[\"Edmonds P&R\",0.027450980392156862],[\"Lynnwood P&R\",0.01072961373390558],[\"Swamp Creek P&R\",0.036585365853658534],[\"Mariner P&R\",0.043478260869565216],[\"Snohomish\",0.0673076923076923],[\"116th & I-5 - Marysville\",0.017543859649122806],[\"Arlington P&R\",0.16],[\"Monroe\",0.06862745098039216],[\"Federal Way\",0.03529411764705882],[\"Southworth Ferry P&R\",0.33962264150943394],[\"Bethany Lutheran Church\",0.275],[\"Gateway Fellowship\",0.036231884057971016],[\"Kingston Ferry P&R\",0.027777777777777776],[\"Suquamish United Church of Christ\",0.015384615384615385],[\"Puyallup Station (NB)\",0.4423076923076923],[\"72nd Street Transit Center\",0.029411764705882353],[\"DuPont\",0.009174311926605505],[\"Aurora Village TC\",0.3415841584158416],[\"Aurora Nazarene\",0.5258620689655172],[\"Saint Margaret's Episcopal\",0.203125],[\"Lake Meridian P&R\",0.046511627906976744],[\"Smokey Pt. Church\",0.16],[\"Eastmont P&R\",0.002570694087403599],[\"McCollum Park P&R\",0.03178484107579462],[\"Canyon Park P&R\",0.046357615894039736],[\"Korean Presby. P&R\",0.44],[\"Harper Evangelical Free Church\",0.025974025974025976],[\"Mullenix Road\",0.043478260869565216],[\"TCC P&R\",0.18947368421052632],[\"Ash Way P&R\",0.06555772994129158],[\"Bonney Lake P&R\",0.008426966292134831],[\"Tukwila Int. Station\",0.8413897280966768],[\"South Hill P&R\",0.02824858757062147],[\"South Tacoma East - 1\",0.09090909090909091],[\"Issaquah Highlands\",0.03762376237623762],[\"Lake Stevens TC\",0.03864734299516908],[\"Liberty Bay Presbyterian\",0.011111111111111112],[\"NK Baptist\",0.017543859649122806],[\"Preston P&R\",0.8113207547169812],[\"Bayside Community Church\",0.01904761904761905],[\"Bremerton Ferry\",0.2950530035335689],[\"Marysville - Cedar & Grove\",0.028169014084507043],[\"Marysville I P&R\",0.05405405405405406],[\"Martha Lake Covenant Church\",0.04],[\"South Sammammish P&R\",0.007547169811320755],[\"Renton City Municipal Garage\",0.1],[\"Tibbetts Lot\",0.047058823529411764],[\"Renton Transit Center\",0.10666666666666667],[\"Maple Valley Town Square\",0.06666666666666667],[\"All Saints Lutheran Church\",0.13333333333333333],[\"City View Church\",0.8333333333333334],[\"Northwest University 6710 Bldg.\",0.19672131147540983],[\"Sammamish Lutheran P&R\",0.037037037037037035],[\"Redmond Ridge P&R\",0.019230769230769232],[\"Kennydale United Methodist Church\",0.02],[\"Nativity Lutheran Church\",0.061224489795918366],[\"Everett Station\",0.56875],[null,0.8148148148148148]],\"hovertemplate\":\"color=Boardings\\u002fCapacity \\u003c= 1\\u003cbr\\u003eCapacity=%{x}\\u003cbr\\u003eModel Boardings=%{y}\\u003cbr\\u003ename=%{customdata[0]}\\u003cbr\\u003eBoardings\\u002fCapacity=%{customdata[1]:.2f}\\u003cextra\\u003e\\u003c\\u002fextra\\u003e\",\"legendgroup\":\"Boardings\\u002fCapacity \\u003c= 1\",\"marker\":{\"color\":\"#91268F\",\"symbol\":\"circle\"},\"mode\":\"markers\",\"name\":\"Boardings\\u002fCapacity \\u003c= 1\",\"orientation\":\"v\",\"showlegend\":true,\"x\":[390,2337,1107,350,63,996,601,104,50,600,107,222,697,306,49,100,20,62,493,75,150,78,44,195,200,79,515,64,877,244,40,404,713,488,267,385,128,819,447,30,275,37,75,519,186,1614,80,38,50,833,203,470,40,377,48,55,283,502,443,376,603,220,438,100,1509,68,393,397,48,230,880,20,259,255,1398,410,667,104,57,25,102,1190,318,80,138,72,65,364,68,109,202,116,64,172,50,389,409,302,25,462,92,95,1022,356,662,354,33,1010,207,90,57,53,210,566,213,74,75,265,150,170,150,90,75,96,61,54,52,50,49,160,54],\"xaxis\":\"x\",\"y\":[106,250,64,271,3,414,3,44,6,4,5,127,5,8,2,1,12,11,14,12,15,12,3,1,2,4,10,2,100,9,20,11,88,22,27,30,2,20,221,22,5,1,2,49,17,44,7,20,37,19,54,8,3,53,21,5,21,51,4,13,46,61,14,20,909,67,41,7,6,145,34,9,1,7,15,15,29,7,1,4,7,42,108,22,5,2,1,161,2,1,69,61,13,8,8,1,13,14,11,12,4,18,67,3,557,10,3,38,8,1,1,43,4,167,6,4,3,2,15,8,16,6,10,80,12,2,1,1,3,91,44],\"yaxis\":\"y\",\"type\":\"scatter\"},{\"customdata\":[[\"Auburn Station (CR)\",1.1074249605055293],[\"Bethany Bible Church\",1.0266666666666666],[\"Spokane Street P&R\",1.0363636363636364],[\"Greenlake P&R\",2.0413625304136254],[\"Port Orchard Armory\",1.1904761904761905],[\"Bainbridge Island Ferry\",1.1336898395721926],[\"Puyallup Fair's Red Lot\",1.4703196347031964],[\"Calvary Christian Assembly\",1.824],[\"South SeaTac (LR)\",1.0094827586206896]],\"hovertemplate\":\"color=Boardings\\u002fCapacity \\u003e 1\\u003cbr\\u003eCapacity=%{x}\\u003cbr\\u003eModel Boardings=%{y}\\u003cbr\\u003ename=%{customdata[0]}\\u003cbr\\u003eBoardings\\u002fCapacity=%{customdata[1]:.2f}\\u003cextra\\u003e\\u003c\\u002fextra\\u003e\",\"legendgroup\":\"Boardings\\u002fCapacity \\u003e 1\",\"marker\":{\"color\":\"#8CC63E\",\"symbol\":\"circle\"},\"mode\":\"markers\",\"name\":\"Boardings\\u002fCapacity \\u003e 1\",\"orientation\":\"v\",\"showlegend\":true,\"x\":[633,75,55,411,105,187,219,125,1160],\"xaxis\":\"x\",\"y\":[701,77,57,839,125,212,322,228,1171],\"yaxis\":\"y\",\"type\":\"scatter\"}],                        {\"template\":{\"data\":{\"barpolar\":[{\"marker\":{\"line\":{\"color\":\"white\",\"width\":0.5},\"pattern\":{\"fillmode\":\"overlay\",\"size\":10,\"solidity\":0.2}},\"type\":\"barpolar\"}],\"bar\":[{\"error_x\":{\"color\":\"rgb(36,36,36)\"},\"error_y\":{\"color\":\"rgb(36,36,36)\"},\"marker\":{\"line\":{\"color\":\"white\",\"width\":0.5},\"pattern\":{\"fillmode\":\"overlay\",\"size\":10,\"solidity\":0.2}},\"type\":\"bar\"}],\"carpet\":[{\"aaxis\":{\"endlinecolor\":\"rgb(36,36,36)\",\"gridcolor\":\"white\",\"linecolor\":\"white\",\"minorgridcolor\":\"white\",\"startlinecolor\":\"rgb(36,36,36)\"},\"baxis\":{\"endlinecolor\":\"rgb(36,36,36)\",\"gridcolor\":\"white\",\"linecolor\":\"white\",\"minorgridcolor\":\"white\",\"startlinecolor\":\"rgb(36,36,36)\"},\"type\":\"carpet\"}],\"choropleth\":[{\"colorbar\":{\"outlinewidth\":1,\"tickcolor\":\"rgb(36,36,36)\",\"ticks\":\"outside\"},\"type\":\"choropleth\"}],\"contourcarpet\":[{\"colorbar\":{\"outlinewidth\":1,\"tickcolor\":\"rgb(36,36,36)\",\"ticks\":\"outside\"},\"type\":\"contourcarpet\"}],\"contour\":[{\"colorbar\":{\"outlinewidth\":1,\"tickcolor\":\"rgb(36,36,36)\",\"ticks\":\"outside\"},\"colorscale\":[[0.0,\"#440154\"],[0.1111111111111111,\"#482878\"],[0.2222222222222222,\"#3e4989\"],[0.3333333333333333,\"#31688e\"],[0.4444444444444444,\"#26828e\"],[0.5555555555555556,\"#1f9e89\"],[0.6666666666666666,\"#35b779\"],[0.7777777777777778,\"#6ece58\"],[0.8888888888888888,\"#b5de2b\"],[1.0,\"#fde725\"]],\"type\":\"contour\"}],\"heatmapgl\":[{\"colorbar\":{\"outlinewidth\":1,\"tickcolor\":\"rgb(36,36,36)\",\"ticks\":\"outside\"},\"colorscale\":[[0.0,\"#440154\"],[0.1111111111111111,\"#482878\"],[0.2222222222222222,\"#3e4989\"],[0.3333333333333333,\"#31688e\"],[0.4444444444444444,\"#26828e\"],[0.5555555555555556,\"#1f9e89\"],[0.6666666666666666,\"#35b779\"],[0.7777777777777778,\"#6ece58\"],[0.8888888888888888,\"#b5de2b\"],[1.0,\"#fde725\"]],\"type\":\"heatmapgl\"}],\"heatmap\":[{\"colorbar\":{\"outlinewidth\":1,\"tickcolor\":\"rgb(36,36,36)\",\"ticks\":\"outside\"},\"colorscale\":[[0.0,\"#440154\"],[0.1111111111111111,\"#482878\"],[0.2222222222222222,\"#3e4989\"],[0.3333333333333333,\"#31688e\"],[0.4444444444444444,\"#26828e\"],[0.5555555555555556,\"#1f9e89\"],[0.6666666666666666,\"#35b779\"],[0.7777777777777778,\"#6ece58\"],[0.8888888888888888,\"#b5de2b\"],[1.0,\"#fde725\"]],\"type\":\"heatmap\"}],\"histogram2dcontour\":[{\"colorbar\":{\"outlinewidth\":1,\"tickcolor\":\"rgb(36,36,36)\",\"ticks\":\"outside\"},\"colorscale\":[[0.0,\"#440154\"],[0.1111111111111111,\"#482878\"],[0.2222222222222222,\"#3e4989\"],[0.3333333333333333,\"#31688e\"],[0.4444444444444444,\"#26828e\"],[0.5555555555555556,\"#1f9e89\"],[0.6666666666666666,\"#35b779\"],[0.7777777777777778,\"#6ece58\"],[0.8888888888888888,\"#b5de2b\"],[1.0,\"#fde725\"]],\"type\":\"histogram2dcontour\"}],\"histogram2d\":[{\"colorbar\":{\"outlinewidth\":1,\"tickcolor\":\"rgb(36,36,36)\",\"ticks\":\"outside\"},\"colorscale\":[[0.0,\"#440154\"],[0.1111111111111111,\"#482878\"],[0.2222222222222222,\"#3e4989\"],[0.3333333333333333,\"#31688e\"],[0.4444444444444444,\"#26828e\"],[0.5555555555555556,\"#1f9e89\"],[0.6666666666666666,\"#35b779\"],[0.7777777777777778,\"#6ece58\"],[0.8888888888888888,\"#b5de2b\"],[1.0,\"#fde725\"]],\"type\":\"histogram2d\"}],\"histogram\":[{\"marker\":{\"line\":{\"color\":\"white\",\"width\":0.6}},\"type\":\"histogram\"}],\"mesh3d\":[{\"colorbar\":{\"outlinewidth\":1,\"tickcolor\":\"rgb(36,36,36)\",\"ticks\":\"outside\"},\"type\":\"mesh3d\"}],\"parcoords\":[{\"line\":{\"colorbar\":{\"outlinewidth\":1,\"tickcolor\":\"rgb(36,36,36)\",\"ticks\":\"outside\"}},\"type\":\"parcoords\"}],\"pie\":[{\"automargin\":true,\"type\":\"pie\"}],\"scatter3d\":[{\"line\":{\"colorbar\":{\"outlinewidth\":1,\"tickcolor\":\"rgb(36,36,36)\",\"ticks\":\"outside\"}},\"marker\":{\"colorbar\":{\"outlinewidth\":1,\"tickcolor\":\"rgb(36,36,36)\",\"ticks\":\"outside\"}},\"type\":\"scatter3d\"}],\"scattercarpet\":[{\"marker\":{\"colorbar\":{\"outlinewidth\":1,\"tickcolor\":\"rgb(36,36,36)\",\"ticks\":\"outside\"}},\"type\":\"scattercarpet\"}],\"scattergeo\":[{\"marker\":{\"colorbar\":{\"outlinewidth\":1,\"tickcolor\":\"rgb(36,36,36)\",\"ticks\":\"outside\"}},\"type\":\"scattergeo\"}],\"scattergl\":[{\"marker\":{\"colorbar\":{\"outlinewidth\":1,\"tickcolor\":\"rgb(36,36,36)\",\"ticks\":\"outside\"}},\"type\":\"scattergl\"}],\"scattermapbox\":[{\"marker\":{\"colorbar\":{\"outlinewidth\":1,\"tickcolor\":\"rgb(36,36,36)\",\"ticks\":\"outside\"}},\"type\":\"scattermapbox\"}],\"scatterpolargl\":[{\"marker\":{\"colorbar\":{\"outlinewidth\":1,\"tickcolor\":\"rgb(36,36,36)\",\"ticks\":\"outside\"}},\"type\":\"scatterpolargl\"}],\"scatterpolar\":[{\"marker\":{\"colorbar\":{\"outlinewidth\":1,\"tickcolor\":\"rgb(36,36,36)\",\"ticks\":\"outside\"}},\"type\":\"scatterpolar\"}],\"scatter\":[{\"fillpattern\":{\"fillmode\":\"overlay\",\"size\":10,\"solidity\":0.2},\"type\":\"scatter\"}],\"scatterternary\":[{\"marker\":{\"colorbar\":{\"outlinewidth\":1,\"tickcolor\":\"rgb(36,36,36)\",\"ticks\":\"outside\"}},\"type\":\"scatterternary\"}],\"surface\":[{\"colorbar\":{\"outlinewidth\":1,\"tickcolor\":\"rgb(36,36,36)\",\"ticks\":\"outside\"},\"colorscale\":[[0.0,\"#440154\"],[0.1111111111111111,\"#482878\"],[0.2222222222222222,\"#3e4989\"],[0.3333333333333333,\"#31688e\"],[0.4444444444444444,\"#26828e\"],[0.5555555555555556,\"#1f9e89\"],[0.6666666666666666,\"#35b779\"],[0.7777777777777778,\"#6ece58\"],[0.8888888888888888,\"#b5de2b\"],[1.0,\"#fde725\"]],\"type\":\"surface\"}],\"table\":[{\"cells\":{\"fill\":{\"color\":\"rgb(237,237,237)\"},\"line\":{\"color\":\"white\"}},\"header\":{\"fill\":{\"color\":\"rgb(217,217,217)\"},\"line\":{\"color\":\"white\"}},\"type\":\"table\"}]},\"layout\":{\"annotationdefaults\":{\"arrowhead\":0,\"arrowwidth\":1},\"autotypenumbers\":\"strict\",\"coloraxis\":{\"colorbar\":{\"outlinewidth\":1,\"tickcolor\":\"rgb(36,36,36)\",\"ticks\":\"outside\"}},\"colorscale\":{\"diverging\":[[0.0,\"rgb(103,0,31)\"],[0.1,\"rgb(178,24,43)\"],[0.2,\"rgb(214,96,77)\"],[0.3,\"rgb(244,165,130)\"],[0.4,\"rgb(253,219,199)\"],[0.5,\"rgb(247,247,247)\"],[0.6,\"rgb(209,229,240)\"],[0.7,\"rgb(146,197,222)\"],[0.8,\"rgb(67,147,195)\"],[0.9,\"rgb(33,102,172)\"],[1.0,\"rgb(5,48,97)\"]],\"sequential\":[[0.0,\"#440154\"],[0.1111111111111111,\"#482878\"],[0.2222222222222222,\"#3e4989\"],[0.3333333333333333,\"#31688e\"],[0.4444444444444444,\"#26828e\"],[0.5555555555555556,\"#1f9e89\"],[0.6666666666666666,\"#35b779\"],[0.7777777777777778,\"#6ece58\"],[0.8888888888888888,\"#b5de2b\"],[1.0,\"#fde725\"]],\"sequentialminus\":[[0.0,\"#440154\"],[0.1111111111111111,\"#482878\"],[0.2222222222222222,\"#3e4989\"],[0.3333333333333333,\"#31688e\"],[0.4444444444444444,\"#26828e\"],[0.5555555555555556,\"#1f9e89\"],[0.6666666666666666,\"#35b779\"],[0.7777777777777778,\"#6ece58\"],[0.8888888888888888,\"#b5de2b\"],[1.0,\"#fde725\"]]},\"colorway\":[\"#91268F\",\"#8CC63E\",\"#00A7A0\",\"#F05A28\",\"#4C4C4C\",\"#630460\",\"#9f3913\",\"#588527\",\"#00716c\",\"#3e4040\"],\"font\":{\"color\":\"rgb(36,36,36)\",\"family\":\"Poppins\",\"size\":11},\"geo\":{\"bgcolor\":\"white\",\"lakecolor\":\"white\",\"landcolor\":\"white\",\"showlakes\":true,\"showland\":true,\"subunitcolor\":\"white\"},\"hoverlabel\":{\"align\":\"left\"},\"hovermode\":\"closest\",\"mapbox\":{\"style\":\"light\"},\"paper_bgcolor\":\"white\",\"plot_bgcolor\":\"white\",\"polar\":{\"angularaxis\":{\"gridcolor\":\"rgb(232,232,232)\",\"linecolor\":\"rgb(36,36,36)\",\"showgrid\":false,\"showline\":true,\"ticks\":\"outside\"},\"bgcolor\":\"white\",\"radialaxis\":{\"gridcolor\":\"rgb(232,232,232)\",\"linecolor\":\"rgb(36,36,36)\",\"showgrid\":false,\"showline\":true,\"ticks\":\"outside\"}},\"scene\":{\"xaxis\":{\"backgroundcolor\":\"white\",\"gridcolor\":\"rgb(232,232,232)\",\"gridwidth\":2,\"linecolor\":\"rgb(36,36,36)\",\"showbackground\":true,\"showgrid\":false,\"showline\":true,\"ticks\":\"outside\",\"zeroline\":false,\"zerolinecolor\":\"rgb(36,36,36)\"},\"yaxis\":{\"backgroundcolor\":\"white\",\"gridcolor\":\"rgb(232,232,232)\",\"gridwidth\":2,\"linecolor\":\"rgb(36,36,36)\",\"showbackground\":true,\"showgrid\":false,\"showline\":true,\"ticks\":\"outside\",\"zeroline\":false,\"zerolinecolor\":\"rgb(36,36,36)\"},\"zaxis\":{\"backgroundcolor\":\"white\",\"gridcolor\":\"rgb(232,232,232)\",\"gridwidth\":2,\"linecolor\":\"rgb(36,36,36)\",\"showbackground\":true,\"showgrid\":false,\"showline\":true,\"ticks\":\"outside\",\"zeroline\":false,\"zerolinecolor\":\"rgb(36,36,36)\"}},\"shapedefaults\":{\"fillcolor\":\"black\",\"line\":{\"width\":0},\"opacity\":0.3},\"ternary\":{\"aaxis\":{\"gridcolor\":\"rgb(232,232,232)\",\"linecolor\":\"rgb(36,36,36)\",\"showgrid\":false,\"showline\":true,\"ticks\":\"outside\"},\"baxis\":{\"gridcolor\":\"rgb(232,232,232)\",\"linecolor\":\"rgb(36,36,36)\",\"showgrid\":false,\"showline\":true,\"ticks\":\"outside\"},\"bgcolor\":\"white\",\"caxis\":{\"gridcolor\":\"rgb(232,232,232)\",\"linecolor\":\"rgb(36,36,36)\",\"showgrid\":false,\"showline\":true,\"ticks\":\"outside\"}},\"title\":{\"x\":0.05},\"xaxis\":{\"automargin\":true,\"gridcolor\":\"rgb(232,232,232)\",\"linecolor\":\"rgb(36,36,36)\",\"showgrid\":false,\"showline\":true,\"ticks\":\"outside\",\"title\":{\"standoff\":15},\"zeroline\":false,\"zerolinecolor\":\"rgb(36,36,36)\"},\"yaxis\":{\"automargin\":true,\"gridcolor\":\"rgb(232,232,232)\",\"linecolor\":\"rgb(36,36,36)\",\"showgrid\":false,\"showline\":true,\"ticks\":\"outside\",\"title\":{\"standoff\":15},\"zeroline\":false,\"zerolinecolor\":\"rgb(36,36,36)\"}}},\"xaxis\":{\"anchor\":\"y\",\"domain\":[0.0,1.0],\"title\":{\"text\":\"Capacity\"}},\"yaxis\":{\"anchor\":\"x\",\"domain\":[0.0,1.0],\"title\":{\"text\":\"Model Boardings\"}},\"legend\":{\"title\":{\"text\":\"color\"},\"tracegroupgap\":0},\"title\":{\"text\":\"Model Boardings vs Capacity\"},\"height\":600,\"width\":800},                        {\"responsive\": true}                    ).then(function(){\n",
       "                            \n",
       "var gd = document.getElementById('79f960ac-cf2d-4b46-b295-4c6ac86956d7');\n",
       "var x = new MutationObserver(function (mutations, observer) {{\n",
       "        var display = window.getComputedStyle(gd).display;\n",
       "        if (!display || display === 'none') {{\n",
       "            console.log([gd, 'removed!']);\n",
       "            Plotly.purge(gd);\n",
       "            observer.disconnect();\n",
       "        }}\n",
       "}});\n",
       "\n",
       "// Listen for the removal of the full notebook cells\n",
       "var notebookContainer = gd.closest('#notebook-container');\n",
       "if (notebookContainer) {{\n",
       "    x.observe(notebookContainer, {childList: true});\n",
       "}}\n",
       "\n",
       "// Listen for the clearing of the current output cell\n",
       "var outputEl = gd.closest('.output');\n",
       "if (outputEl) {{\n",
       "    x.observe(outputEl, {childList: true});\n",
       "}}\n",
       "\n",
       "                        })                };                });            </script>        </div>"
      ]
     },
     "metadata": {},
     "output_type": "display_data"
    }
   ],
   "source": [
    "df['color'] = np.where(df['Boardings/Capacity'] > 1, 'Boardings/Capacity > 1', 'Boardings/Capacity <= 1')\n",
    "\n",
    "fig = px.scatter(df, y='Model Boardings', x='Capacity', title='Model Boardings vs Capacity',\n",
    "                 hover_data={'name': True, 'Model Boardings': True, 'Capacity': True, 'Boardings/Capacity': ':.2f'},\n",
    "                 color='color')\n",
    "fig.update_layout(height=600, width=800)\n",
    "fig.show()"
   ]
  },
  {
   "cell_type": "code",
   "execution_count": 37,
   "id": "2f976d83",
   "metadata": {},
   "outputs": [
    {
     "data": {
      "application/vnd.plotly.v1+json": {
       "config": {
        "plotlyServerURL": "https://plot.ly"
       },
       "data": [
        {
         "customdata": [
          [
           "Tukwila Station (CR)",
           3751,
           106,
           390
          ],
          [
           "Tacoma Dome Station",
           3752,
           250,
           2337
          ],
          [
           "Everett Station (CR)",
           3754,
           64,
           1107
          ],
          [
           "Sumner Station (CR)",
           3755,
           271,
           350
          ],
          [
           "Mukilteo Station",
           3756,
           3,
           63
          ],
          [
           "Kent Station (CR)",
           3757,
           414,
           996
          ],
          [
           "Auburn Station (CR)",
           3758,
           701,
           633
          ],
          [
           "Lakewood (CR)",
           3759,
           3,
           601
          ],
          [
           "Gateway P&R",
           3760,
           44,
           104
          ],
          [
           "Puyallup Station (SB)",
           3761,
           6,
           50
          ],
          [
           "Twin Lakes P&R",
           3762,
           4,
           600
          ],
          [
           "Crossroads Neighborhood Church",
           3763,
           5,
           107
          ],
          [
           "Overlake Transit Center",
           3764,
           127,
           222
          ],
          [
           "Redondo Heights P&R",
           3765,
           5,
           697
          ],
          [
           "North Gig Harbor/Kimball Drive",
           3766,
           8,
           306
          ],
          [
           "Duvall P&R",
           3767,
           2,
           49
          ],
          [
           "Roy 'Y' P&R",
           3768,
           1,
           100
          ],
          [
           "South Hill (Elim Evangelical)",
           3769,
           12,
           20
          ],
          [
           "Parkland Transit Center",
           3770,
           11,
           62
          ],
          [
           "SR-512/I-5 (Lakewood)",
           3771,
           14,
           493
          ],
          [
           "Center Street P&R",
           3772,
           12,
           75
          ],
          [
           "Tacoma Mall Transit Center",
           3773,
           15,
           150
          ],
          [
           "South Tacoma West",
           3774,
           12,
           78
          ],
          [
           "South Tacoma East - 2",
           3775,
           3,
           44
          ],
          [
           "Narrows P&R",
           3776,
           1,
           195
          ],
          [
           "North Purdy/Purdy Crescent",
           3777,
           2,
           200
          ],
          [
           "Point Defiance Ferry",
           3778,
           4,
           79
          ],
          [
           "South Federal P&R",
           3779,
           10,
           515
          ],
          [
           "Sultan P&R",
           3780,
           2,
           64
          ],
          [
           "Federal Way P&R (320th)",
           3781,
           100,
           877
          ],
          [
           "Auburn P&R",
           3782,
           9,
           244
          ],
          [
           "Holy Spirit Lutheran Church",
           3784,
           20,
           40
          ],
          [
           "Kent/Des Moines P&R",
           3785,
           11,
           404
          ],
          [
           "Kent/James St. P&R",
           3786,
           88,
           713
          ],
          [
           "Burien Transit Center",
           3787,
           22,
           488
          ],
          [
           "Tukwila",
           3788,
           27,
           267
          ],
          [
           "South Renton P&R",
           3790,
           30,
           385
          ],
          [
           "Renton Highlands P&R (St. Matts)",
           3791,
           2,
           128
          ],
          [
           "Issaquah Transit Center",
           3792,
           20,
           819
          ],
          [
           "Mercer Island P&R",
           3793,
           221,
           447
          ],
          [
           "Mercer Island Presbyterian",
           3794,
           22,
           30
          ],
          [
           "Newport Hills P&R",
           3795,
           5,
           275
          ],
          [
           "Newport Hills Community Church",
           3796,
           1,
           37
          ],
          [
           "Newport Covenant Church",
           3797,
           2,
           75
          ],
          [
           "South Bellevue P&R",
           3798,
           49,
           519
          ],
          [
           "Wilburton",
           3799,
           17,
           186
          ],
          [
           "Eastgate P&R",
           3800,
           44,
           1614
          ],
          [
           "North Bend P&R",
           3801,
           7,
           80
          ],
          [
           "Evergreen Point P&R",
           3802,
           20,
           38
          ],
          [
           "Grace Lutheran Church",
           3803,
           37,
           50
          ],
          [
           "South Kirkland P&R",
           3804,
           19,
           833
          ],
          [
           "Overlake P&R",
           3805,
           54,
           203
          ],
          [
           "Houghton P&R",
           3806,
           8,
           470
          ],
          [
           "Bethel Lutheran",
           3807,
           3,
           40
          ],
          [
           "Redmond P&R",
           3808,
           53,
           377
          ],
          [
           "Saint Thomas Episcopal",
           3809,
           21,
           48
          ],
          [
           "Valley Center",
           3810,
           5,
           55
          ],
          [
           "Bear Creek P&R",
           3811,
           21,
           283
          ],
          [
           "Kingsgate P&R",
           3812,
           51,
           502
          ],
          [
           "Brickyard P&R",
           3813,
           4,
           443
          ],
          [
           "Northshore P&R",
           3814,
           13,
           376
          ],
          [
           "Kenmore P&R",
           3815,
           46,
           603
          ],
          [
           "Bethany Bible Church",
           3816,
           77,
           75
          ],
          [
           "Bothell P&R",
           3817,
           61,
           220
          ],
          [
           "Woodinville P&R",
           3818,
           14,
           438
          ],
          [
           "Olson & Meyers",
           3819,
           20,
           100
          ],
          [
           "Spokane Street P&R",
           3820,
           57,
           55
          ],
          [
           "Greenlake P&R",
           3821,
           839,
           411
          ],
          [
           "Northgate TC",
           3822,
           909,
           1509
          ],
          [
           "North Jackson Park",
           3823,
           67,
           68
          ],
          [
           "Shoreline",
           3824,
           41,
           393
          ],
          [
           "112th St. & I-5",
           3825,
           7,
           397
          ],
          [
           "Ober Park",
           3826,
           6,
           48
          ],
          [
           "Vashon Heights",
           3827,
           145,
           230
          ],
          [
           "Mountlake Terrace P&R",
           3828,
           34,
           880
          ],
          [
           "Bethesda Lutheran",
           3829,
           9,
           20
          ],
          [
           "Edmonds Station",
           3830,
           1,
           259
          ],
          [
           "Edmonds P&R",
           3831,
           7,
           255
          ],
          [
           "Lynnwood P&R",
           3832,
           15,
           1398
          ],
          [
           "Swamp Creek P&R",
           3833,
           15,
           410
          ],
          [
           "Mariner P&R",
           3834,
           29,
           667
          ],
          [
           "Snohomish",
           3835,
           7,
           104
          ],
          [
           "116th & I-5 - Marysville",
           3837,
           1,
           57
          ],
          [
           "Arlington P&R",
           3839,
           4,
           25
          ],
          [
           "Monroe",
           3841,
           7,
           102
          ],
          [
           "Federal Way",
           3842,
           42,
           1190
          ],
          [
           "Port Orchard Armory",
           3843,
           125,
           105
          ],
          [
           "Southworth Ferry P&R",
           3844,
           108,
           318
          ],
          [
           "Bethany Lutheran Church",
           3846,
           22,
           80
          ],
          [
           "Gateway Fellowship",
           3847,
           5,
           138
          ],
          [
           "Kingston Ferry P&R",
           3849,
           2,
           72
          ],
          [
           "Suquamish United Church of Christ",
           3850,
           1,
           65
          ],
          [
           "Bainbridge Island Ferry",
           3851,
           212,
           187
          ],
          [
           "Puyallup Station (NB)",
           3852,
           161,
           364
          ],
          [
           "72nd Street Transit Center",
           3853,
           2,
           68
          ],
          [
           "DuPont",
           3855,
           1,
           109
          ],
          [
           "Aurora Village TC",
           3856,
           69,
           202
          ],
          [
           "Aurora Nazarene",
           3857,
           61,
           116
          ],
          [
           "Saint Margaret's Episcopal",
           3858,
           13,
           64
          ],
          [
           "Lake Meridian P&R",
           3861,
           8,
           172
          ],
          [
           "Smokey Pt. Church",
           3862,
           8,
           50
          ],
          [
           "Eastmont P&R",
           3863,
           1,
           389
          ],
          [
           "McCollum Park P&R",
           3864,
           13,
           409
          ],
          [
           "Canyon Park P&R",
           3865,
           14,
           302
          ],
          [
           "Korean Presby. P&R",
           3866,
           11,
           25
          ],
          [
           "Harper Evangelical Free Church",
           3870,
           12,
           462
          ],
          [
           "Mullenix Road",
           3871,
           4,
           92
          ],
          [
           "TCC P&R",
           3873,
           18,
           95
          ],
          [
           "Ash Way P&R",
           3874,
           67,
           1022
          ],
          [
           "Bonney Lake P&R",
           3875,
           3,
           356
          ],
          [
           "Tukwila Int. Station",
           3876,
           557,
           662
          ],
          [
           "South Hill P&R",
           3877,
           10,
           354
          ],
          [
           "South Tacoma East - 1",
           3878,
           3,
           33
          ],
          [
           "Issaquah Highlands",
           3879,
           38,
           1010
          ],
          [
           "Lake Stevens TC",
           3880,
           8,
           207
          ],
          [
           "Liberty Bay Presbyterian",
           3881,
           1,
           90
          ],
          [
           "NK Baptist",
           3882,
           1,
           57
          ],
          [
           "Preston P&R",
           3883,
           43,
           53
          ],
          [
           "Bayside Community Church",
           3884,
           4,
           210
          ],
          [
           "Bremerton Ferry",
           3886,
           167,
           566
          ],
          [
           "Puyallup Fair's Red Lot",
           3888,
           322,
           219
          ],
          [
           "Marysville - Cedar & Grove",
           3889,
           6,
           213
          ],
          [
           "Marysville I P&R",
           3891,
           4,
           74
          ],
          [
           "Martha Lake Covenant Church",
           3892,
           3,
           75
          ],
          [
           "South Sammammish P&R",
           3893,
           2,
           265
          ],
          [
           "Renton City Municipal Garage",
           3894,
           15,
           150
          ],
          [
           "Tibbetts Lot",
           3895,
           8,
           170
          ],
          [
           "Renton Transit Center",
           3896,
           16,
           150
          ],
          [
           "Calvary Christian Assembly",
           3897,
           228,
           125
          ],
          [
           "Maple Valley Town Square",
           3898,
           6,
           90
          ],
          [
           "All Saints Lutheran Church",
           3899,
           10,
           75
          ],
          [
           "City View Church",
           3900,
           80,
           96
          ],
          [
           "Northwest University 6710 Bldg.",
           3901,
           12,
           61
          ],
          [
           "Sammamish Lutheran P&R",
           3902,
           2,
           54
          ],
          [
           "Redmond Ridge P&R",
           3903,
           1,
           52
          ],
          [
           "Kennydale United Methodist Church",
           3904,
           1,
           50
          ],
          [
           "Nativity Lutheran Church",
           3905,
           3,
           49
          ],
          [
           "South SeaTac (LR)",
           3907,
           1171,
           1160
          ],
          [
           "Everett Station",
           3908,
           91,
           160
          ],
          [
           null,
           3951,
           44,
           54
          ]
         ],
         "hovertemplate": "Boardings/Capacity=%{marker.color}<br>lat=%{lat}<br>lon=%{lon}<br>name=%{customdata[0]}<br>taz=%{customdata[1]}<br>Model Boardings=%{customdata[2]}<br>Capacity=%{customdata[3]}<extra></extra>",
         "lat": [
          47.45978922388598,
          47.24058551505856,
          47.975529073958405,
          47.20104674348286,
          47.94920113850631,
          47.383968426714006,
          47.30596899365694,
          47.153297356412374,
          47.567182526516646,
          47.1930593000242,
          47.29373164287317,
          47.63164525679203,
          47.64429091052309,
          47.35504151814868,
          47.31636050413098,
          47.742819757175425,
          47.08271703410659,
          47.14075666660063,
          47.147910636682695,
          47.1614836893937,
          47.234001163743,
          47.213628361144565,
          47.20551922986328,
          47.20621980267127,
          47.25600055943912,
          47.38923241473354,
          47.3055944076441,
          47.28903958534349,
          47.86327743654254,
          47.311634074767746,
          47.321418707465085,
          47.710422482815964,
          47.39168541124455,
          47.38491055539441,
          47.46951669011371,
          47.4819754912041,
          47.47271735402824,
          47.50715257009107,
          47.54213211171109,
          47.58878770878929,
          47.57701117038493,
          47.557044948772166,
          47.55136494023402,
          47.56412784223352,
          47.58628974362988,
          47.60395052462608,
          47.58058167806885,
          47.49597161762852,
          47.63677537541405,
          47.61637872188973,
          47.64418793825653,
          47.63297501321839,
          47.668161259777534,
          47.75569011271219,
          47.676498197243916,
          47.62160197458431,
          47.42287071417999,
          47.67416769460649,
          47.716304710074866,
          47.74096350335556,
          47.76143626523908,
          47.75869756770715,
          47.75910884573482,
          47.75945577077424,
          47.75702674620799,
          47.52027134433463,
          47.57171240445629,
          47.67673424744246,
          47.70239264670543,
          47.73564828553934,
          47.76687501163499,
          47.89714816130343,
          47.45193489352676,
          47.508323280264555,
          47.78602219601041,
          47.78640356462111,
          47.81083676224893,
          47.80550380658298,
          47.81595656235212,
          47.85115731382444,
          47.87927245742543,
          47.931598639740535,
          48.100769121344904,
          48.1962267586574,
          47.86853030329036,
          47.3177117131759,
          47.53346058448239,
          47.5117576546828,
          47.635074586962034,
          47.73391346720341,
          47.79892354545972,
          47.73326656630968,
          47.624004425207,
          47.192268370054144,
          47.192970227055056,
          47.08990238368787,
          47.77470971349453,
          47.75619702376564,
          47.568848208070875,
          47.36115261991309,
          48.15732409938088,
          47.915775246026996,
          47.880527487324606,
          47.79421617170751,
          47.782991515856864,
          47.503952014160234,
          47.46831133114312,
          47.24317779488538,
          47.85226436088265,
          47.17424771167385,
          47.4646263275234,
          47.161513973097485,
          47.206906711152484,
          47.5454788435191,
          47.99832911207097,
          47.731327808038664,
          47.748966193682975,
          47.527290368668076,
          47.799606383865175,
          47.5637103811943,
          47.18546025093644,
          48.06186291040974,
          48.050937654654625,
          47.85078707163063,
          47.582160965227075,
          47.48065181683248,
          47.540500663812395,
          47.481704657267464,
          47.678256540965805,
          47.362614021751135,
          47.357193070668814,
          47.48028559998525,
          47.6665552390412,
          47.60197065091635,
          47.68558125502083,
          47.518219014425505,
          47.44356941764737,
          47.42300118449206,
          47.60111674308456,
          47.30235288435682
         ],
         "legendgroup": "",
         "lon": [
          -122.2414244855451,
          -122.42560127575338,
          -122.19768600674931,
          -122.24474525052933,
          -122.29903842240785,
          -122.23410290572726,
          -122.23148682359859,
          -122.49859625780292,
          -122.65169945877489,
          -122.29627773532202,
          -122.35994716264585,
          -122.63765712362758,
          -122.13352975529753,
          -122.30995179376971,
          -122.5855102757513,
          -121.98519762021276,
          -122.4346751374792,
          -122.3034327873547,
          -122.43537890888092,
          -122.48323069711938,
          -122.49606313527855,
          -122.46823757389518,
          -122.46333125501894,
          -122.45953523712713,
          -122.53269206747679,
          -122.6254607199261,
          -122.51464656823048,
          -122.32271583231764,
          -121.80233005000285,
          -122.30155944089654,
          -122.22738652958233,
          -122.20748911656241,
          -122.28801732435528,
          -122.24251564508461,
          -122.33865347780969,
          -122.2689896182637,
          -122.21402734947938,
          -122.18367729786219,
          -122.06181405283014,
          -122.23166700469328,
          -122.22740182134136,
          -122.18862142605792,
          -122.17957298981565,
          -122.17018699168925,
          -122.19040717772546,
          -122.18550879565194,
          -122.15248096655628,
          -121.78890988166995,
          -122.2379322839663,
          -122.2105866440363,
          -122.196922253886,
          -122.13560413046633,
          -122.18466442694303,
          -122.31907158771672,
          -122.12357780585234,
          -122.22848744815845,
          -122.46176154007155,
          -122.10086813884128,
          -122.18764495320512,
          -122.18801959930848,
          -122.25089817797974,
          -122.24193579375279,
          -122.25940315047508,
          -122.20174576489308,
          -122.15150443349742,
          -122.33619690714434,
          -122.36486482391673,
          -122.32074934998532,
          -122.32635492088791,
          -122.32383237418946,
          -122.34680005427789,
          -122.2153929885049,
          -122.4596252077271,
          -122.46527313794397,
          -122.3145674940085,
          -122.30895658531607,
          -122.38443744744197,
          -122.33045949149354,
          -122.29397785716966,
          -122.27629203793643,
          -122.23819731210229,
          -122.10076899814818,
          -122.1865006345836,
          -122.12918349945092,
          -121.99607079075767,
          -122.30476449893273,
          -122.61873065421872,
          -122.49853365234297,
          -122.5368423099349,
          -122.63927452061961,
          -122.49714671799559,
          -122.5577978549231,
          -122.51049809792099,
          -122.29638676047503,
          -122.41141509220098,
          -122.6408278816208,
          -122.34274347402066,
          -122.33571668026264,
          -122.16886132802051,
          -122.16596991953243,
          -122.18235672487519,
          -122.20398702400395,
          -122.22076405922407,
          -122.21165459966568,
          -122.34737161450154,
          -122.51509856039954,
          -122.62194815643332,
          -122.52528242848497,
          -122.25855246300434,
          -122.18490604650373,
          -122.28691091664143,
          -122.30487382727742,
          -122.45925925521301,
          -122.01943199294729,
          -122.10379792258418,
          -122.63760677640244,
          -122.63760369810029,
          -121.93698116342834,
          -122.50852962519735,
          -122.62505017783954,
          -122.29928692458974,
          -122.17950449728978,
          -122.1832656728556,
          -122.27113966009398,
          -122.03643032765581,
          -122.20850374635265,
          -122.06172938121478,
          -122.20744323893204,
          -122.31799144744286,
          -122.02014569186719,
          -122.29322817544987,
          -122.22017679668397,
          -122.19590831772229,
          -122.03476711725796,
          -122.03407277250997,
          -122.20130164689891,
          -122.15522340373712,
          -122.29885098357384,
          -122.63062144574651,
          -122.25778206202007
         ],
         "marker": {
          "color": [
           0.2717948717948718,
           0.1069747539580659,
           0.057813911472448055,
           0.7742857142857142,
           0.047619047619047616,
           0.41566265060240964,
           1.1074249605055293,
           0.004991680532445923,
           0.4230769230769231,
           0.12,
           0.006666666666666667,
           0.04672897196261682,
           0.5720720720720721,
           0.007173601147776184,
           0.026143790849673203,
           0.04081632653061224,
           0.01,
           0.6,
           0.1774193548387097,
           0.028397565922920892,
           0.16,
           0.1,
           0.15384615384615385,
           0.06818181818181818,
           0.005128205128205128,
           0.01,
           0.05063291139240506,
           0.019417475728155338,
           0.03125,
           0.11402508551881414,
           0.036885245901639344,
           0.5,
           0.027227722772277228,
           0.12342215988779803,
           0.045081967213114756,
           0.10112359550561797,
           0.07792207792207792,
           0.015625,
           0.02442002442002442,
           0.49440715883668906,
           0.7333333333333333,
           0.01818181818181818,
           0.02702702702702703,
           0.02666666666666667,
           0.09441233140655106,
           0.0913978494623656,
           0.027261462205700124,
           0.0875,
           0.5263157894736842,
           0.74,
           0.022809123649459785,
           0.2660098522167488,
           0.01702127659574468,
           0.075,
           0.14058355437665782,
           0.4375,
           0.09090909090909091,
           0.07420494699646643,
           0.10159362549800798,
           0.009029345372460496,
           0.034574468085106384,
           0.07628524046434494,
           1.0266666666666666,
           0.2772727272727273,
           0.0319634703196347,
           0.2,
           1.0363636363636364,
           2.0413625304136254,
           0.6023856858846919,
           0.9852941176470589,
           0.10432569974554708,
           0.017632241813602016,
           0.125,
           0.6304347826086957,
           0.038636363636363635,
           0.45,
           0.003861003861003861,
           0.027450980392156862,
           0.01072961373390558,
           0.036585365853658534,
           0.043478260869565216,
           0.0673076923076923,
           0.017543859649122806,
           0.16,
           0.06862745098039216,
           0.03529411764705882,
           1.1904761904761905,
           0.33962264150943394,
           0.275,
           0.036231884057971016,
           0.027777777777777776,
           0.015384615384615385,
           1.1336898395721926,
           0.4423076923076923,
           0.029411764705882353,
           0.009174311926605505,
           0.3415841584158416,
           0.5258620689655172,
           0.203125,
           0.046511627906976744,
           0.16,
           0.002570694087403599,
           0.03178484107579462,
           0.046357615894039736,
           0.44,
           0.025974025974025976,
           0.043478260869565216,
           0.18947368421052632,
           0.06555772994129158,
           0.008426966292134831,
           0.8413897280966768,
           0.02824858757062147,
           0.09090909090909091,
           0.03762376237623762,
           0.03864734299516908,
           0.011111111111111112,
           0.017543859649122806,
           0.8113207547169812,
           0.01904761904761905,
           0.2950530035335689,
           1.4703196347031964,
           0.028169014084507043,
           0.05405405405405406,
           0.04,
           0.007547169811320755,
           0.1,
           0.047058823529411764,
           0.10666666666666667,
           1.824,
           0.06666666666666667,
           0.13333333333333333,
           0.8333333333333334,
           0.19672131147540983,
           0.037037037037037035,
           0.019230769230769232,
           0.02,
           0.061224489795918366,
           1.0094827586206896,
           0.56875,
           0.8148148148148148
          ],
          "coloraxis": "coloraxis",
          "size": [
           0.2717948717948718,
           0.1069747539580659,
           0.057813911472448055,
           0.7742857142857142,
           0.047619047619047616,
           0.41566265060240964,
           1.1074249605055293,
           0.004991680532445923,
           0.4230769230769231,
           0.12,
           0.006666666666666667,
           0.04672897196261682,
           0.5720720720720721,
           0.007173601147776184,
           0.026143790849673203,
           0.04081632653061224,
           0.01,
           0.6,
           0.1774193548387097,
           0.028397565922920892,
           0.16,
           0.1,
           0.15384615384615385,
           0.06818181818181818,
           0.005128205128205128,
           0.01,
           0.05063291139240506,
           0.019417475728155338,
           0.03125,
           0.11402508551881414,
           0.036885245901639344,
           0.5,
           0.027227722772277228,
           0.12342215988779803,
           0.045081967213114756,
           0.10112359550561797,
           0.07792207792207792,
           0.015625,
           0.02442002442002442,
           0.49440715883668906,
           0.7333333333333333,
           0.01818181818181818,
           0.02702702702702703,
           0.02666666666666667,
           0.09441233140655106,
           0.0913978494623656,
           0.027261462205700124,
           0.0875,
           0.5263157894736842,
           0.74,
           0.022809123649459785,
           0.2660098522167488,
           0.01702127659574468,
           0.075,
           0.14058355437665782,
           0.4375,
           0.09090909090909091,
           0.07420494699646643,
           0.10159362549800798,
           0.009029345372460496,
           0.034574468085106384,
           0.07628524046434494,
           1.0266666666666666,
           0.2772727272727273,
           0.0319634703196347,
           0.2,
           1.0363636363636364,
           2.0413625304136254,
           0.6023856858846919,
           0.9852941176470589,
           0.10432569974554708,
           0.017632241813602016,
           0.125,
           0.6304347826086957,
           0.038636363636363635,
           0.45,
           0.003861003861003861,
           0.027450980392156862,
           0.01072961373390558,
           0.036585365853658534,
           0.043478260869565216,
           0.0673076923076923,
           0.017543859649122806,
           0.16,
           0.06862745098039216,
           0.03529411764705882,
           1.1904761904761905,
           0.33962264150943394,
           0.275,
           0.036231884057971016,
           0.027777777777777776,
           0.015384615384615385,
           1.1336898395721926,
           0.4423076923076923,
           0.029411764705882353,
           0.009174311926605505,
           0.3415841584158416,
           0.5258620689655172,
           0.203125,
           0.046511627906976744,
           0.16,
           0.002570694087403599,
           0.03178484107579462,
           0.046357615894039736,
           0.44,
           0.025974025974025976,
           0.043478260869565216,
           0.18947368421052632,
           0.06555772994129158,
           0.008426966292134831,
           0.8413897280966768,
           0.02824858757062147,
           0.09090909090909091,
           0.03762376237623762,
           0.03864734299516908,
           0.011111111111111112,
           0.017543859649122806,
           0.8113207547169812,
           0.01904761904761905,
           0.2950530035335689,
           1.4703196347031964,
           0.028169014084507043,
           0.05405405405405406,
           0.04,
           0.007547169811320755,
           0.1,
           0.047058823529411764,
           0.10666666666666667,
           1.824,
           0.06666666666666667,
           0.13333333333333333,
           0.8333333333333334,
           0.19672131147540983,
           0.037037037037037035,
           0.019230769230769232,
           0.02,
           0.061224489795918366,
           1.0094827586206896,
           0.56875,
           0.8148148148148148
          ],
          "sizemode": "area",
          "sizeref": 0.005103406326034063
         },
         "mode": "markers",
         "name": "",
         "showlegend": false,
         "subplot": "mapbox",
         "type": "scattermapbox"
        }
       ],
       "layout": {
        "coloraxis": {
         "colorbar": {
          "title": {
           "text": "Boardings/Capacity"
          }
         },
         "colorscale": [
          [
           0,
           "#440154"
          ],
          [
           0.1111111111111111,
           "#482878"
          ],
          [
           0.2222222222222222,
           "#3e4989"
          ],
          [
           0.3333333333333333,
           "#31688e"
          ],
          [
           0.4444444444444444,
           "#26828e"
          ],
          [
           0.5555555555555556,
           "#1f9e89"
          ],
          [
           0.6666666666666666,
           "#35b779"
          ],
          [
           0.7777777777777778,
           "#6ece58"
          ],
          [
           0.8888888888888888,
           "#b5de2b"
          ],
          [
           1,
           "#fde725"
          ]
         ]
        },
        "legend": {
         "itemsizing": "constant",
         "tracegroupgap": 0
        },
        "mapbox": {
         "center": {
          "lat": 47.56837642292686,
          "lon": -122.29390749330882
         },
         "domain": {
          "x": [
           0,
           1
          ],
          "y": [
           0,
           1
          ]
         },
         "style": "carto-positron",
         "zoom": 8
        },
        "margin": {
         "b": 0,
         "l": 0,
         "r": 0,
         "t": 0
        },
        "template": {
         "data": {
          "bar": [
           {
            "error_x": {
             "color": "rgb(36,36,36)"
            },
            "error_y": {
             "color": "rgb(36,36,36)"
            },
            "marker": {
             "line": {
              "color": "white",
              "width": 0.5
             },
             "pattern": {
              "fillmode": "overlay",
              "size": 10,
              "solidity": 0.2
             }
            },
            "type": "bar"
           }
          ],
          "barpolar": [
           {
            "marker": {
             "line": {
              "color": "white",
              "width": 0.5
             },
             "pattern": {
              "fillmode": "overlay",
              "size": 10,
              "solidity": 0.2
             }
            },
            "type": "barpolar"
           }
          ],
          "carpet": [
           {
            "aaxis": {
             "endlinecolor": "rgb(36,36,36)",
             "gridcolor": "white",
             "linecolor": "white",
             "minorgridcolor": "white",
             "startlinecolor": "rgb(36,36,36)"
            },
            "baxis": {
             "endlinecolor": "rgb(36,36,36)",
             "gridcolor": "white",
             "linecolor": "white",
             "minorgridcolor": "white",
             "startlinecolor": "rgb(36,36,36)"
            },
            "type": "carpet"
           }
          ],
          "choropleth": [
           {
            "colorbar": {
             "outlinewidth": 1,
             "tickcolor": "rgb(36,36,36)",
             "ticks": "outside"
            },
            "type": "choropleth"
           }
          ],
          "contour": [
           {
            "colorbar": {
             "outlinewidth": 1,
             "tickcolor": "rgb(36,36,36)",
             "ticks": "outside"
            },
            "colorscale": [
             [
              0,
              "#440154"
             ],
             [
              0.1111111111111111,
              "#482878"
             ],
             [
              0.2222222222222222,
              "#3e4989"
             ],
             [
              0.3333333333333333,
              "#31688e"
             ],
             [
              0.4444444444444444,
              "#26828e"
             ],
             [
              0.5555555555555556,
              "#1f9e89"
             ],
             [
              0.6666666666666666,
              "#35b779"
             ],
             [
              0.7777777777777778,
              "#6ece58"
             ],
             [
              0.8888888888888888,
              "#b5de2b"
             ],
             [
              1,
              "#fde725"
             ]
            ],
            "type": "contour"
           }
          ],
          "contourcarpet": [
           {
            "colorbar": {
             "outlinewidth": 1,
             "tickcolor": "rgb(36,36,36)",
             "ticks": "outside"
            },
            "type": "contourcarpet"
           }
          ],
          "heatmap": [
           {
            "colorbar": {
             "outlinewidth": 1,
             "tickcolor": "rgb(36,36,36)",
             "ticks": "outside"
            },
            "colorscale": [
             [
              0,
              "#440154"
             ],
             [
              0.1111111111111111,
              "#482878"
             ],
             [
              0.2222222222222222,
              "#3e4989"
             ],
             [
              0.3333333333333333,
              "#31688e"
             ],
             [
              0.4444444444444444,
              "#26828e"
             ],
             [
              0.5555555555555556,
              "#1f9e89"
             ],
             [
              0.6666666666666666,
              "#35b779"
             ],
             [
              0.7777777777777778,
              "#6ece58"
             ],
             [
              0.8888888888888888,
              "#b5de2b"
             ],
             [
              1,
              "#fde725"
             ]
            ],
            "type": "heatmap"
           }
          ],
          "heatmapgl": [
           {
            "colorbar": {
             "outlinewidth": 1,
             "tickcolor": "rgb(36,36,36)",
             "ticks": "outside"
            },
            "colorscale": [
             [
              0,
              "#440154"
             ],
             [
              0.1111111111111111,
              "#482878"
             ],
             [
              0.2222222222222222,
              "#3e4989"
             ],
             [
              0.3333333333333333,
              "#31688e"
             ],
             [
              0.4444444444444444,
              "#26828e"
             ],
             [
              0.5555555555555556,
              "#1f9e89"
             ],
             [
              0.6666666666666666,
              "#35b779"
             ],
             [
              0.7777777777777778,
              "#6ece58"
             ],
             [
              0.8888888888888888,
              "#b5de2b"
             ],
             [
              1,
              "#fde725"
             ]
            ],
            "type": "heatmapgl"
           }
          ],
          "histogram": [
           {
            "marker": {
             "line": {
              "color": "white",
              "width": 0.6
             }
            },
            "type": "histogram"
           }
          ],
          "histogram2d": [
           {
            "colorbar": {
             "outlinewidth": 1,
             "tickcolor": "rgb(36,36,36)",
             "ticks": "outside"
            },
            "colorscale": [
             [
              0,
              "#440154"
             ],
             [
              0.1111111111111111,
              "#482878"
             ],
             [
              0.2222222222222222,
              "#3e4989"
             ],
             [
              0.3333333333333333,
              "#31688e"
             ],
             [
              0.4444444444444444,
              "#26828e"
             ],
             [
              0.5555555555555556,
              "#1f9e89"
             ],
             [
              0.6666666666666666,
              "#35b779"
             ],
             [
              0.7777777777777778,
              "#6ece58"
             ],
             [
              0.8888888888888888,
              "#b5de2b"
             ],
             [
              1,
              "#fde725"
             ]
            ],
            "type": "histogram2d"
           }
          ],
          "histogram2dcontour": [
           {
            "colorbar": {
             "outlinewidth": 1,
             "tickcolor": "rgb(36,36,36)",
             "ticks": "outside"
            },
            "colorscale": [
             [
              0,
              "#440154"
             ],
             [
              0.1111111111111111,
              "#482878"
             ],
             [
              0.2222222222222222,
              "#3e4989"
             ],
             [
              0.3333333333333333,
              "#31688e"
             ],
             [
              0.4444444444444444,
              "#26828e"
             ],
             [
              0.5555555555555556,
              "#1f9e89"
             ],
             [
              0.6666666666666666,
              "#35b779"
             ],
             [
              0.7777777777777778,
              "#6ece58"
             ],
             [
              0.8888888888888888,
              "#b5de2b"
             ],
             [
              1,
              "#fde725"
             ]
            ],
            "type": "histogram2dcontour"
           }
          ],
          "mesh3d": [
           {
            "colorbar": {
             "outlinewidth": 1,
             "tickcolor": "rgb(36,36,36)",
             "ticks": "outside"
            },
            "type": "mesh3d"
           }
          ],
          "parcoords": [
           {
            "line": {
             "colorbar": {
              "outlinewidth": 1,
              "tickcolor": "rgb(36,36,36)",
              "ticks": "outside"
             }
            },
            "type": "parcoords"
           }
          ],
          "pie": [
           {
            "automargin": true,
            "type": "pie"
           }
          ],
          "scatter": [
           {
            "fillpattern": {
             "fillmode": "overlay",
             "size": 10,
             "solidity": 0.2
            },
            "type": "scatter"
           }
          ],
          "scatter3d": [
           {
            "line": {
             "colorbar": {
              "outlinewidth": 1,
              "tickcolor": "rgb(36,36,36)",
              "ticks": "outside"
             }
            },
            "marker": {
             "colorbar": {
              "outlinewidth": 1,
              "tickcolor": "rgb(36,36,36)",
              "ticks": "outside"
             }
            },
            "type": "scatter3d"
           }
          ],
          "scattercarpet": [
           {
            "marker": {
             "colorbar": {
              "outlinewidth": 1,
              "tickcolor": "rgb(36,36,36)",
              "ticks": "outside"
             }
            },
            "type": "scattercarpet"
           }
          ],
          "scattergeo": [
           {
            "marker": {
             "colorbar": {
              "outlinewidth": 1,
              "tickcolor": "rgb(36,36,36)",
              "ticks": "outside"
             }
            },
            "type": "scattergeo"
           }
          ],
          "scattergl": [
           {
            "marker": {
             "colorbar": {
              "outlinewidth": 1,
              "tickcolor": "rgb(36,36,36)",
              "ticks": "outside"
             }
            },
            "type": "scattergl"
           }
          ],
          "scattermapbox": [
           {
            "marker": {
             "colorbar": {
              "outlinewidth": 1,
              "tickcolor": "rgb(36,36,36)",
              "ticks": "outside"
             }
            },
            "type": "scattermapbox"
           }
          ],
          "scatterpolar": [
           {
            "marker": {
             "colorbar": {
              "outlinewidth": 1,
              "tickcolor": "rgb(36,36,36)",
              "ticks": "outside"
             }
            },
            "type": "scatterpolar"
           }
          ],
          "scatterpolargl": [
           {
            "marker": {
             "colorbar": {
              "outlinewidth": 1,
              "tickcolor": "rgb(36,36,36)",
              "ticks": "outside"
             }
            },
            "type": "scatterpolargl"
           }
          ],
          "scatterternary": [
           {
            "marker": {
             "colorbar": {
              "outlinewidth": 1,
              "tickcolor": "rgb(36,36,36)",
              "ticks": "outside"
             }
            },
            "type": "scatterternary"
           }
          ],
          "surface": [
           {
            "colorbar": {
             "outlinewidth": 1,
             "tickcolor": "rgb(36,36,36)",
             "ticks": "outside"
            },
            "colorscale": [
             [
              0,
              "#440154"
             ],
             [
              0.1111111111111111,
              "#482878"
             ],
             [
              0.2222222222222222,
              "#3e4989"
             ],
             [
              0.3333333333333333,
              "#31688e"
             ],
             [
              0.4444444444444444,
              "#26828e"
             ],
             [
              0.5555555555555556,
              "#1f9e89"
             ],
             [
              0.6666666666666666,
              "#35b779"
             ],
             [
              0.7777777777777778,
              "#6ece58"
             ],
             [
              0.8888888888888888,
              "#b5de2b"
             ],
             [
              1,
              "#fde725"
             ]
            ],
            "type": "surface"
           }
          ],
          "table": [
           {
            "cells": {
             "fill": {
              "color": "rgb(237,237,237)"
             },
             "line": {
              "color": "white"
             }
            },
            "header": {
             "fill": {
              "color": "rgb(217,217,217)"
             },
             "line": {
              "color": "white"
             }
            },
            "type": "table"
           }
          ]
         },
         "layout": {
          "annotationdefaults": {
           "arrowhead": 0,
           "arrowwidth": 1
          },
          "autotypenumbers": "strict",
          "coloraxis": {
           "colorbar": {
            "outlinewidth": 1,
            "tickcolor": "rgb(36,36,36)",
            "ticks": "outside"
           }
          },
          "colorscale": {
           "diverging": [
            [
             0,
             "rgb(103,0,31)"
            ],
            [
             0.1,
             "rgb(178,24,43)"
            ],
            [
             0.2,
             "rgb(214,96,77)"
            ],
            [
             0.3,
             "rgb(244,165,130)"
            ],
            [
             0.4,
             "rgb(253,219,199)"
            ],
            [
             0.5,
             "rgb(247,247,247)"
            ],
            [
             0.6,
             "rgb(209,229,240)"
            ],
            [
             0.7,
             "rgb(146,197,222)"
            ],
            [
             0.8,
             "rgb(67,147,195)"
            ],
            [
             0.9,
             "rgb(33,102,172)"
            ],
            [
             1,
             "rgb(5,48,97)"
            ]
           ],
           "sequential": [
            [
             0,
             "#440154"
            ],
            [
             0.1111111111111111,
             "#482878"
            ],
            [
             0.2222222222222222,
             "#3e4989"
            ],
            [
             0.3333333333333333,
             "#31688e"
            ],
            [
             0.4444444444444444,
             "#26828e"
            ],
            [
             0.5555555555555556,
             "#1f9e89"
            ],
            [
             0.6666666666666666,
             "#35b779"
            ],
            [
             0.7777777777777778,
             "#6ece58"
            ],
            [
             0.8888888888888888,
             "#b5de2b"
            ],
            [
             1,
             "#fde725"
            ]
           ],
           "sequentialminus": [
            [
             0,
             "#440154"
            ],
            [
             0.1111111111111111,
             "#482878"
            ],
            [
             0.2222222222222222,
             "#3e4989"
            ],
            [
             0.3333333333333333,
             "#31688e"
            ],
            [
             0.4444444444444444,
             "#26828e"
            ],
            [
             0.5555555555555556,
             "#1f9e89"
            ],
            [
             0.6666666666666666,
             "#35b779"
            ],
            [
             0.7777777777777778,
             "#6ece58"
            ],
            [
             0.8888888888888888,
             "#b5de2b"
            ],
            [
             1,
             "#fde725"
            ]
           ]
          },
          "colorway": [
           "#91268F",
           "#8CC63E",
           "#00A7A0",
           "#F05A28",
           "#4C4C4C",
           "#630460",
           "#9f3913",
           "#588527",
           "#00716c",
           "#3e4040"
          ],
          "font": {
           "color": "rgb(36,36,36)",
           "family": "Poppins",
           "size": 11
          },
          "geo": {
           "bgcolor": "white",
           "lakecolor": "white",
           "landcolor": "white",
           "showlakes": true,
           "showland": true,
           "subunitcolor": "white"
          },
          "hoverlabel": {
           "align": "left"
          },
          "hovermode": "closest",
          "mapbox": {
           "style": "light"
          },
          "paper_bgcolor": "white",
          "plot_bgcolor": "white",
          "polar": {
           "angularaxis": {
            "gridcolor": "rgb(232,232,232)",
            "linecolor": "rgb(36,36,36)",
            "showgrid": false,
            "showline": true,
            "ticks": "outside"
           },
           "bgcolor": "white",
           "radialaxis": {
            "gridcolor": "rgb(232,232,232)",
            "linecolor": "rgb(36,36,36)",
            "showgrid": false,
            "showline": true,
            "ticks": "outside"
           }
          },
          "scene": {
           "xaxis": {
            "backgroundcolor": "white",
            "gridcolor": "rgb(232,232,232)",
            "gridwidth": 2,
            "linecolor": "rgb(36,36,36)",
            "showbackground": true,
            "showgrid": false,
            "showline": true,
            "ticks": "outside",
            "zeroline": false,
            "zerolinecolor": "rgb(36,36,36)"
           },
           "yaxis": {
            "backgroundcolor": "white",
            "gridcolor": "rgb(232,232,232)",
            "gridwidth": 2,
            "linecolor": "rgb(36,36,36)",
            "showbackground": true,
            "showgrid": false,
            "showline": true,
            "ticks": "outside",
            "zeroline": false,
            "zerolinecolor": "rgb(36,36,36)"
           },
           "zaxis": {
            "backgroundcolor": "white",
            "gridcolor": "rgb(232,232,232)",
            "gridwidth": 2,
            "linecolor": "rgb(36,36,36)",
            "showbackground": true,
            "showgrid": false,
            "showline": true,
            "ticks": "outside",
            "zeroline": false,
            "zerolinecolor": "rgb(36,36,36)"
           }
          },
          "shapedefaults": {
           "fillcolor": "black",
           "line": {
            "width": 0
           },
           "opacity": 0.3
          },
          "ternary": {
           "aaxis": {
            "gridcolor": "rgb(232,232,232)",
            "linecolor": "rgb(36,36,36)",
            "showgrid": false,
            "showline": true,
            "ticks": "outside"
           },
           "baxis": {
            "gridcolor": "rgb(232,232,232)",
            "linecolor": "rgb(36,36,36)",
            "showgrid": false,
            "showline": true,
            "ticks": "outside"
           },
           "bgcolor": "white",
           "caxis": {
            "gridcolor": "rgb(232,232,232)",
            "linecolor": "rgb(36,36,36)",
            "showgrid": false,
            "showline": true,
            "ticks": "outside"
           }
          },
          "title": {
           "x": 0.05
          },
          "xaxis": {
           "automargin": true,
           "gridcolor": "rgb(232,232,232)",
           "linecolor": "rgb(36,36,36)",
           "showgrid": false,
           "showline": true,
           "ticks": "outside",
           "title": {
            "standoff": 15
           },
           "zeroline": false,
           "zerolinecolor": "rgb(36,36,36)"
          },
          "yaxis": {
           "automargin": true,
           "gridcolor": "rgb(232,232,232)",
           "linecolor": "rgb(36,36,36)",
           "showgrid": false,
           "showline": true,
           "ticks": "outside",
           "title": {
            "standoff": 15
           },
           "zeroline": false,
           "zerolinecolor": "rgb(36,36,36)"
          }
         }
        },
        "title": {
         "text": "Park and Ride Usage vs Capacity"
        }
       }
      },
      "text/html": [
       "<div>                            <div id=\"31f31bbb-0edf-479c-a46c-d25ffe2ff515\" class=\"plotly-graph-div\" style=\"height:525px; width:100%;\"></div>            <script type=\"text/javascript\">                require([\"plotly\"], function(Plotly) {                    window.PLOTLYENV=window.PLOTLYENV || {};                                    if (document.getElementById(\"31f31bbb-0edf-479c-a46c-d25ffe2ff515\")) {                    Plotly.newPlot(                        \"31f31bbb-0edf-479c-a46c-d25ffe2ff515\",                        [{\"customdata\":[[\"Tukwila Station (CR)\",3751,106,390],[\"Tacoma Dome Station\",3752,250,2337],[\"Everett Station (CR)\",3754,64,1107],[\"Sumner Station (CR)\",3755,271,350],[\"Mukilteo Station\",3756,3,63],[\"Kent Station (CR)\",3757,414,996],[\"Auburn Station (CR)\",3758,701,633],[\"Lakewood (CR)\",3759,3,601],[\"Gateway P&R\",3760,44,104],[\"Puyallup Station (SB)\",3761,6,50],[\"Twin Lakes P&R\",3762,4,600],[\"Crossroads Neighborhood Church\",3763,5,107],[\"Overlake Transit Center\",3764,127,222],[\"Redondo Heights P&R\",3765,5,697],[\"North Gig Harbor\\u002fKimball Drive\",3766,8,306],[\"Duvall P&R\",3767,2,49],[\"Roy 'Y' P&R\",3768,1,100],[\"South Hill (Elim Evangelical)\",3769,12,20],[\"Parkland Transit Center\",3770,11,62],[\"SR-512\\u002fI-5 (Lakewood)\",3771,14,493],[\"Center Street P&R\",3772,12,75],[\"Tacoma Mall Transit Center\",3773,15,150],[\"South Tacoma West\",3774,12,78],[\"South Tacoma East - 2\",3775,3,44],[\"Narrows P&R\",3776,1,195],[\"North Purdy\\u002fPurdy Crescent\",3777,2,200],[\"Point Defiance Ferry\",3778,4,79],[\"South Federal P&R\",3779,10,515],[\"Sultan P&R\",3780,2,64],[\"Federal Way P&R (320th)\",3781,100,877],[\"Auburn P&R\",3782,9,244],[\"Holy Spirit Lutheran Church\",3784,20,40],[\"Kent\\u002fDes Moines P&R\",3785,11,404],[\"Kent\\u002fJames St. P&R\",3786,88,713],[\"Burien Transit Center\",3787,22,488],[\"Tukwila\",3788,27,267],[\"South Renton P&R\",3790,30,385],[\"Renton Highlands P&R (St. Matts)\",3791,2,128],[\"Issaquah Transit Center\",3792,20,819],[\"Mercer Island P&R\",3793,221,447],[\"Mercer Island Presbyterian\",3794,22,30],[\"Newport Hills P&R\",3795,5,275],[\"Newport Hills Community Church\",3796,1,37],[\"Newport Covenant Church\",3797,2,75],[\"South Bellevue P&R\",3798,49,519],[\"Wilburton\",3799,17,186],[\"Eastgate P&R\",3800,44,1614],[\"North Bend P&R\",3801,7,80],[\"Evergreen Point P&R\",3802,20,38],[\"Grace Lutheran Church\",3803,37,50],[\"South Kirkland P&R\",3804,19,833],[\"Overlake P&R\",3805,54,203],[\"Houghton P&R\",3806,8,470],[\"Bethel Lutheran\",3807,3,40],[\"Redmond P&R\",3808,53,377],[\"Saint Thomas Episcopal\",3809,21,48],[\"Valley Center\",3810,5,55],[\"Bear Creek P&R\",3811,21,283],[\"Kingsgate P&R\",3812,51,502],[\"Brickyard P&R\",3813,4,443],[\"Northshore P&R\",3814,13,376],[\"Kenmore P&R\",3815,46,603],[\"Bethany Bible Church\",3816,77,75],[\"Bothell P&R\",3817,61,220],[\"Woodinville P&R\",3818,14,438],[\"Olson & Meyers\",3819,20,100],[\"Spokane Street P&R\",3820,57,55],[\"Greenlake P&R\",3821,839,411],[\"Northgate TC\",3822,909,1509],[\"North Jackson Park\",3823,67,68],[\"Shoreline\",3824,41,393],[\"112th St. & I-5\",3825,7,397],[\"Ober Park\",3826,6,48],[\"Vashon Heights\",3827,145,230],[\"Mountlake Terrace P&R\",3828,34,880],[\"Bethesda Lutheran\",3829,9,20],[\"Edmonds Station\",3830,1,259],[\"Edmonds P&R\",3831,7,255],[\"Lynnwood P&R\",3832,15,1398],[\"Swamp Creek P&R\",3833,15,410],[\"Mariner P&R\",3834,29,667],[\"Snohomish\",3835,7,104],[\"116th & I-5 - Marysville\",3837,1,57],[\"Arlington P&R\",3839,4,25],[\"Monroe\",3841,7,102],[\"Federal Way\",3842,42,1190],[\"Port Orchard Armory\",3843,125,105],[\"Southworth Ferry P&R\",3844,108,318],[\"Bethany Lutheran Church\",3846,22,80],[\"Gateway Fellowship\",3847,5,138],[\"Kingston Ferry P&R\",3849,2,72],[\"Suquamish United Church of Christ\",3850,1,65],[\"Bainbridge Island Ferry\",3851,212,187],[\"Puyallup Station (NB)\",3852,161,364],[\"72nd Street Transit Center\",3853,2,68],[\"DuPont\",3855,1,109],[\"Aurora Village TC\",3856,69,202],[\"Aurora Nazarene\",3857,61,116],[\"Saint Margaret's Episcopal\",3858,13,64],[\"Lake Meridian P&R\",3861,8,172],[\"Smokey Pt. Church\",3862,8,50],[\"Eastmont P&R\",3863,1,389],[\"McCollum Park P&R\",3864,13,409],[\"Canyon Park P&R\",3865,14,302],[\"Korean Presby. P&R\",3866,11,25],[\"Harper Evangelical Free Church\",3870,12,462],[\"Mullenix Road\",3871,4,92],[\"TCC P&R\",3873,18,95],[\"Ash Way P&R\",3874,67,1022],[\"Bonney Lake P&R\",3875,3,356],[\"Tukwila Int. Station\",3876,557,662],[\"South Hill P&R\",3877,10,354],[\"South Tacoma East - 1\",3878,3,33],[\"Issaquah Highlands\",3879,38,1010],[\"Lake Stevens TC\",3880,8,207],[\"Liberty Bay Presbyterian\",3881,1,90],[\"NK Baptist\",3882,1,57],[\"Preston P&R\",3883,43,53],[\"Bayside Community Church\",3884,4,210],[\"Bremerton Ferry\",3886,167,566],[\"Puyallup Fair's Red Lot\",3888,322,219],[\"Marysville - Cedar & Grove\",3889,6,213],[\"Marysville I P&R\",3891,4,74],[\"Martha Lake Covenant Church\",3892,3,75],[\"South Sammammish P&R\",3893,2,265],[\"Renton City Municipal Garage\",3894,15,150],[\"Tibbetts Lot\",3895,8,170],[\"Renton Transit Center\",3896,16,150],[\"Calvary Christian Assembly\",3897,228,125],[\"Maple Valley Town Square\",3898,6,90],[\"All Saints Lutheran Church\",3899,10,75],[\"City View Church\",3900,80,96],[\"Northwest University 6710 Bldg.\",3901,12,61],[\"Sammamish Lutheran P&R\",3902,2,54],[\"Redmond Ridge P&R\",3903,1,52],[\"Kennydale United Methodist Church\",3904,1,50],[\"Nativity Lutheran Church\",3905,3,49],[\"South SeaTac (LR)\",3907,1171,1160],[\"Everett Station\",3908,91,160],[null,3951,44,54]],\"hovertemplate\":\"Boardings\\u002fCapacity=%{marker.color}\\u003cbr\\u003elat=%{lat}\\u003cbr\\u003elon=%{lon}\\u003cbr\\u003ename=%{customdata[0]}\\u003cbr\\u003etaz=%{customdata[1]}\\u003cbr\\u003eModel Boardings=%{customdata[2]}\\u003cbr\\u003eCapacity=%{customdata[3]}\\u003cextra\\u003e\\u003c\\u002fextra\\u003e\",\"lat\":[47.45978922388598,47.24058551505856,47.975529073958405,47.20104674348286,47.94920113850631,47.383968426714006,47.30596899365694,47.153297356412374,47.567182526516646,47.1930593000242,47.29373164287317,47.63164525679203,47.64429091052309,47.35504151814868,47.31636050413098,47.742819757175425,47.08271703410659,47.14075666660063,47.147910636682695,47.1614836893937,47.234001163743,47.213628361144565,47.20551922986328,47.20621980267127,47.25600055943912,47.38923241473354,47.3055944076441,47.28903958534349,47.86327743654254,47.311634074767746,47.321418707465085,47.710422482815964,47.39168541124455,47.38491055539441,47.46951669011371,47.4819754912041,47.47271735402824,47.50715257009107,47.54213211171109,47.58878770878929,47.57701117038493,47.557044948772166,47.55136494023402,47.56412784223352,47.58628974362988,47.60395052462608,47.58058167806885,47.49597161762852,47.63677537541405,47.61637872188973,47.64418793825653,47.63297501321839,47.668161259777534,47.75569011271219,47.676498197243916,47.62160197458431,47.42287071417999,47.67416769460649,47.716304710074866,47.74096350335556,47.76143626523908,47.75869756770715,47.75910884573482,47.75945577077424,47.75702674620799,47.52027134433463,47.57171240445629,47.67673424744246,47.70239264670543,47.73564828553934,47.76687501163499,47.89714816130343,47.45193489352676,47.508323280264555,47.78602219601041,47.78640356462111,47.81083676224893,47.80550380658298,47.81595656235212,47.85115731382444,47.87927245742543,47.931598639740535,48.100769121344904,48.1962267586574,47.86853030329036,47.3177117131759,47.53346058448239,47.5117576546828,47.635074586962034,47.73391346720341,47.79892354545972,47.73326656630968,47.624004425207,47.192268370054144,47.192970227055056,47.08990238368787,47.77470971349453,47.75619702376564,47.568848208070875,47.36115261991309,48.15732409938088,47.915775246026996,47.880527487324606,47.79421617170751,47.782991515856864,47.503952014160234,47.46831133114312,47.24317779488538,47.85226436088265,47.17424771167385,47.4646263275234,47.161513973097485,47.206906711152484,47.5454788435191,47.99832911207097,47.731327808038664,47.748966193682975,47.527290368668076,47.799606383865175,47.5637103811943,47.18546025093644,48.06186291040974,48.050937654654625,47.85078707163063,47.582160965227075,47.48065181683248,47.540500663812395,47.481704657267464,47.678256540965805,47.362614021751135,47.357193070668814,47.48028559998525,47.6665552390412,47.60197065091635,47.68558125502083,47.518219014425505,47.44356941764737,47.42300118449206,47.60111674308456,47.30235288435682],\"legendgroup\":\"\",\"lon\":[-122.2414244855451,-122.42560127575338,-122.19768600674931,-122.24474525052933,-122.29903842240785,-122.23410290572726,-122.23148682359859,-122.49859625780292,-122.65169945877489,-122.29627773532202,-122.35994716264585,-122.63765712362758,-122.13352975529753,-122.30995179376971,-122.5855102757513,-121.98519762021276,-122.4346751374792,-122.3034327873547,-122.43537890888092,-122.48323069711938,-122.49606313527855,-122.46823757389518,-122.46333125501894,-122.45953523712713,-122.53269206747679,-122.6254607199261,-122.51464656823048,-122.32271583231764,-121.80233005000285,-122.30155944089654,-122.22738652958233,-122.20748911656241,-122.28801732435528,-122.24251564508461,-122.33865347780969,-122.2689896182637,-122.21402734947938,-122.18367729786219,-122.06181405283014,-122.23166700469328,-122.22740182134136,-122.18862142605792,-122.17957298981565,-122.17018699168925,-122.19040717772546,-122.18550879565194,-122.15248096655628,-121.78890988166995,-122.2379322839663,-122.2105866440363,-122.196922253886,-122.13560413046633,-122.18466442694303,-122.31907158771672,-122.12357780585234,-122.22848744815845,-122.46176154007155,-122.10086813884128,-122.18764495320512,-122.18801959930848,-122.25089817797974,-122.24193579375279,-122.25940315047508,-122.20174576489308,-122.15150443349742,-122.33619690714434,-122.36486482391673,-122.32074934998532,-122.32635492088791,-122.32383237418946,-122.34680005427789,-122.2153929885049,-122.4596252077271,-122.46527313794397,-122.3145674940085,-122.30895658531607,-122.38443744744197,-122.33045949149354,-122.29397785716966,-122.27629203793643,-122.23819731210229,-122.10076899814818,-122.1865006345836,-122.12918349945092,-121.99607079075767,-122.30476449893273,-122.61873065421872,-122.49853365234297,-122.5368423099349,-122.63927452061961,-122.49714671799559,-122.5577978549231,-122.51049809792099,-122.29638676047503,-122.41141509220098,-122.6408278816208,-122.34274347402066,-122.33571668026264,-122.16886132802051,-122.16596991953243,-122.18235672487519,-122.20398702400395,-122.22076405922407,-122.21165459966568,-122.34737161450154,-122.51509856039954,-122.62194815643332,-122.52528242848497,-122.25855246300434,-122.18490604650373,-122.28691091664143,-122.30487382727742,-122.45925925521301,-122.01943199294729,-122.10379792258418,-122.63760677640244,-122.63760369810029,-121.93698116342834,-122.50852962519735,-122.62505017783954,-122.29928692458974,-122.17950449728978,-122.1832656728556,-122.27113966009398,-122.03643032765581,-122.20850374635265,-122.06172938121478,-122.20744323893204,-122.31799144744286,-122.02014569186719,-122.29322817544987,-122.22017679668397,-122.19590831772229,-122.03476711725796,-122.03407277250997,-122.20130164689891,-122.15522340373712,-122.29885098357384,-122.63062144574651,-122.25778206202007],\"marker\":{\"color\":[0.2717948717948718,0.1069747539580659,0.057813911472448055,0.7742857142857142,0.047619047619047616,0.41566265060240964,1.1074249605055293,0.004991680532445923,0.4230769230769231,0.12,0.006666666666666667,0.04672897196261682,0.5720720720720721,0.007173601147776184,0.026143790849673203,0.04081632653061224,0.01,0.6,0.1774193548387097,0.028397565922920892,0.16,0.1,0.15384615384615385,0.06818181818181818,0.005128205128205128,0.01,0.05063291139240506,0.019417475728155338,0.03125,0.11402508551881414,0.036885245901639344,0.5,0.027227722772277228,0.12342215988779803,0.045081967213114756,0.10112359550561797,0.07792207792207792,0.015625,0.02442002442002442,0.49440715883668906,0.7333333333333333,0.01818181818181818,0.02702702702702703,0.02666666666666667,0.09441233140655106,0.0913978494623656,0.027261462205700124,0.0875,0.5263157894736842,0.74,0.022809123649459785,0.2660098522167488,0.01702127659574468,0.075,0.14058355437665782,0.4375,0.09090909090909091,0.07420494699646643,0.10159362549800798,0.009029345372460496,0.034574468085106384,0.07628524046434494,1.0266666666666666,0.2772727272727273,0.0319634703196347,0.2,1.0363636363636364,2.0413625304136254,0.6023856858846919,0.9852941176470589,0.10432569974554708,0.017632241813602016,0.125,0.6304347826086957,0.038636363636363635,0.45,0.003861003861003861,0.027450980392156862,0.01072961373390558,0.036585365853658534,0.043478260869565216,0.0673076923076923,0.017543859649122806,0.16,0.06862745098039216,0.03529411764705882,1.1904761904761905,0.33962264150943394,0.275,0.036231884057971016,0.027777777777777776,0.015384615384615385,1.1336898395721926,0.4423076923076923,0.029411764705882353,0.009174311926605505,0.3415841584158416,0.5258620689655172,0.203125,0.046511627906976744,0.16,0.002570694087403599,0.03178484107579462,0.046357615894039736,0.44,0.025974025974025976,0.043478260869565216,0.18947368421052632,0.06555772994129158,0.008426966292134831,0.8413897280966768,0.02824858757062147,0.09090909090909091,0.03762376237623762,0.03864734299516908,0.011111111111111112,0.017543859649122806,0.8113207547169812,0.01904761904761905,0.2950530035335689,1.4703196347031964,0.028169014084507043,0.05405405405405406,0.04,0.007547169811320755,0.1,0.047058823529411764,0.10666666666666667,1.824,0.06666666666666667,0.13333333333333333,0.8333333333333334,0.19672131147540983,0.037037037037037035,0.019230769230769232,0.02,0.061224489795918366,1.0094827586206896,0.56875,0.8148148148148148],\"coloraxis\":\"coloraxis\",\"size\":[0.2717948717948718,0.1069747539580659,0.057813911472448055,0.7742857142857142,0.047619047619047616,0.41566265060240964,1.1074249605055293,0.004991680532445923,0.4230769230769231,0.12,0.006666666666666667,0.04672897196261682,0.5720720720720721,0.007173601147776184,0.026143790849673203,0.04081632653061224,0.01,0.6,0.1774193548387097,0.028397565922920892,0.16,0.1,0.15384615384615385,0.06818181818181818,0.005128205128205128,0.01,0.05063291139240506,0.019417475728155338,0.03125,0.11402508551881414,0.036885245901639344,0.5,0.027227722772277228,0.12342215988779803,0.045081967213114756,0.10112359550561797,0.07792207792207792,0.015625,0.02442002442002442,0.49440715883668906,0.7333333333333333,0.01818181818181818,0.02702702702702703,0.02666666666666667,0.09441233140655106,0.0913978494623656,0.027261462205700124,0.0875,0.5263157894736842,0.74,0.022809123649459785,0.2660098522167488,0.01702127659574468,0.075,0.14058355437665782,0.4375,0.09090909090909091,0.07420494699646643,0.10159362549800798,0.009029345372460496,0.034574468085106384,0.07628524046434494,1.0266666666666666,0.2772727272727273,0.0319634703196347,0.2,1.0363636363636364,2.0413625304136254,0.6023856858846919,0.9852941176470589,0.10432569974554708,0.017632241813602016,0.125,0.6304347826086957,0.038636363636363635,0.45,0.003861003861003861,0.027450980392156862,0.01072961373390558,0.036585365853658534,0.043478260869565216,0.0673076923076923,0.017543859649122806,0.16,0.06862745098039216,0.03529411764705882,1.1904761904761905,0.33962264150943394,0.275,0.036231884057971016,0.027777777777777776,0.015384615384615385,1.1336898395721926,0.4423076923076923,0.029411764705882353,0.009174311926605505,0.3415841584158416,0.5258620689655172,0.203125,0.046511627906976744,0.16,0.002570694087403599,0.03178484107579462,0.046357615894039736,0.44,0.025974025974025976,0.043478260869565216,0.18947368421052632,0.06555772994129158,0.008426966292134831,0.8413897280966768,0.02824858757062147,0.09090909090909091,0.03762376237623762,0.03864734299516908,0.011111111111111112,0.017543859649122806,0.8113207547169812,0.01904761904761905,0.2950530035335689,1.4703196347031964,0.028169014084507043,0.05405405405405406,0.04,0.007547169811320755,0.1,0.047058823529411764,0.10666666666666667,1.824,0.06666666666666667,0.13333333333333333,0.8333333333333334,0.19672131147540983,0.037037037037037035,0.019230769230769232,0.02,0.061224489795918366,1.0094827586206896,0.56875,0.8148148148148148],\"sizemode\":\"area\",\"sizeref\":0.005103406326034063},\"mode\":\"markers\",\"name\":\"\",\"showlegend\":false,\"subplot\":\"mapbox\",\"type\":\"scattermapbox\"}],                        {\"template\":{\"data\":{\"barpolar\":[{\"marker\":{\"line\":{\"color\":\"white\",\"width\":0.5},\"pattern\":{\"fillmode\":\"overlay\",\"size\":10,\"solidity\":0.2}},\"type\":\"barpolar\"}],\"bar\":[{\"error_x\":{\"color\":\"rgb(36,36,36)\"},\"error_y\":{\"color\":\"rgb(36,36,36)\"},\"marker\":{\"line\":{\"color\":\"white\",\"width\":0.5},\"pattern\":{\"fillmode\":\"overlay\",\"size\":10,\"solidity\":0.2}},\"type\":\"bar\"}],\"carpet\":[{\"aaxis\":{\"endlinecolor\":\"rgb(36,36,36)\",\"gridcolor\":\"white\",\"linecolor\":\"white\",\"minorgridcolor\":\"white\",\"startlinecolor\":\"rgb(36,36,36)\"},\"baxis\":{\"endlinecolor\":\"rgb(36,36,36)\",\"gridcolor\":\"white\",\"linecolor\":\"white\",\"minorgridcolor\":\"white\",\"startlinecolor\":\"rgb(36,36,36)\"},\"type\":\"carpet\"}],\"choropleth\":[{\"colorbar\":{\"outlinewidth\":1,\"tickcolor\":\"rgb(36,36,36)\",\"ticks\":\"outside\"},\"type\":\"choropleth\"}],\"contourcarpet\":[{\"colorbar\":{\"outlinewidth\":1,\"tickcolor\":\"rgb(36,36,36)\",\"ticks\":\"outside\"},\"type\":\"contourcarpet\"}],\"contour\":[{\"colorbar\":{\"outlinewidth\":1,\"tickcolor\":\"rgb(36,36,36)\",\"ticks\":\"outside\"},\"colorscale\":[[0.0,\"#440154\"],[0.1111111111111111,\"#482878\"],[0.2222222222222222,\"#3e4989\"],[0.3333333333333333,\"#31688e\"],[0.4444444444444444,\"#26828e\"],[0.5555555555555556,\"#1f9e89\"],[0.6666666666666666,\"#35b779\"],[0.7777777777777778,\"#6ece58\"],[0.8888888888888888,\"#b5de2b\"],[1.0,\"#fde725\"]],\"type\":\"contour\"}],\"heatmapgl\":[{\"colorbar\":{\"outlinewidth\":1,\"tickcolor\":\"rgb(36,36,36)\",\"ticks\":\"outside\"},\"colorscale\":[[0.0,\"#440154\"],[0.1111111111111111,\"#482878\"],[0.2222222222222222,\"#3e4989\"],[0.3333333333333333,\"#31688e\"],[0.4444444444444444,\"#26828e\"],[0.5555555555555556,\"#1f9e89\"],[0.6666666666666666,\"#35b779\"],[0.7777777777777778,\"#6ece58\"],[0.8888888888888888,\"#b5de2b\"],[1.0,\"#fde725\"]],\"type\":\"heatmapgl\"}],\"heatmap\":[{\"colorbar\":{\"outlinewidth\":1,\"tickcolor\":\"rgb(36,36,36)\",\"ticks\":\"outside\"},\"colorscale\":[[0.0,\"#440154\"],[0.1111111111111111,\"#482878\"],[0.2222222222222222,\"#3e4989\"],[0.3333333333333333,\"#31688e\"],[0.4444444444444444,\"#26828e\"],[0.5555555555555556,\"#1f9e89\"],[0.6666666666666666,\"#35b779\"],[0.7777777777777778,\"#6ece58\"],[0.8888888888888888,\"#b5de2b\"],[1.0,\"#fde725\"]],\"type\":\"heatmap\"}],\"histogram2dcontour\":[{\"colorbar\":{\"outlinewidth\":1,\"tickcolor\":\"rgb(36,36,36)\",\"ticks\":\"outside\"},\"colorscale\":[[0.0,\"#440154\"],[0.1111111111111111,\"#482878\"],[0.2222222222222222,\"#3e4989\"],[0.3333333333333333,\"#31688e\"],[0.4444444444444444,\"#26828e\"],[0.5555555555555556,\"#1f9e89\"],[0.6666666666666666,\"#35b779\"],[0.7777777777777778,\"#6ece58\"],[0.8888888888888888,\"#b5de2b\"],[1.0,\"#fde725\"]],\"type\":\"histogram2dcontour\"}],\"histogram2d\":[{\"colorbar\":{\"outlinewidth\":1,\"tickcolor\":\"rgb(36,36,36)\",\"ticks\":\"outside\"},\"colorscale\":[[0.0,\"#440154\"],[0.1111111111111111,\"#482878\"],[0.2222222222222222,\"#3e4989\"],[0.3333333333333333,\"#31688e\"],[0.4444444444444444,\"#26828e\"],[0.5555555555555556,\"#1f9e89\"],[0.6666666666666666,\"#35b779\"],[0.7777777777777778,\"#6ece58\"],[0.8888888888888888,\"#b5de2b\"],[1.0,\"#fde725\"]],\"type\":\"histogram2d\"}],\"histogram\":[{\"marker\":{\"line\":{\"color\":\"white\",\"width\":0.6}},\"type\":\"histogram\"}],\"mesh3d\":[{\"colorbar\":{\"outlinewidth\":1,\"tickcolor\":\"rgb(36,36,36)\",\"ticks\":\"outside\"},\"type\":\"mesh3d\"}],\"parcoords\":[{\"line\":{\"colorbar\":{\"outlinewidth\":1,\"tickcolor\":\"rgb(36,36,36)\",\"ticks\":\"outside\"}},\"type\":\"parcoords\"}],\"pie\":[{\"automargin\":true,\"type\":\"pie\"}],\"scatter3d\":[{\"line\":{\"colorbar\":{\"outlinewidth\":1,\"tickcolor\":\"rgb(36,36,36)\",\"ticks\":\"outside\"}},\"marker\":{\"colorbar\":{\"outlinewidth\":1,\"tickcolor\":\"rgb(36,36,36)\",\"ticks\":\"outside\"}},\"type\":\"scatter3d\"}],\"scattercarpet\":[{\"marker\":{\"colorbar\":{\"outlinewidth\":1,\"tickcolor\":\"rgb(36,36,36)\",\"ticks\":\"outside\"}},\"type\":\"scattercarpet\"}],\"scattergeo\":[{\"marker\":{\"colorbar\":{\"outlinewidth\":1,\"tickcolor\":\"rgb(36,36,36)\",\"ticks\":\"outside\"}},\"type\":\"scattergeo\"}],\"scattergl\":[{\"marker\":{\"colorbar\":{\"outlinewidth\":1,\"tickcolor\":\"rgb(36,36,36)\",\"ticks\":\"outside\"}},\"type\":\"scattergl\"}],\"scattermapbox\":[{\"marker\":{\"colorbar\":{\"outlinewidth\":1,\"tickcolor\":\"rgb(36,36,36)\",\"ticks\":\"outside\"}},\"type\":\"scattermapbox\"}],\"scatterpolargl\":[{\"marker\":{\"colorbar\":{\"outlinewidth\":1,\"tickcolor\":\"rgb(36,36,36)\",\"ticks\":\"outside\"}},\"type\":\"scatterpolargl\"}],\"scatterpolar\":[{\"marker\":{\"colorbar\":{\"outlinewidth\":1,\"tickcolor\":\"rgb(36,36,36)\",\"ticks\":\"outside\"}},\"type\":\"scatterpolar\"}],\"scatter\":[{\"fillpattern\":{\"fillmode\":\"overlay\",\"size\":10,\"solidity\":0.2},\"type\":\"scatter\"}],\"scatterternary\":[{\"marker\":{\"colorbar\":{\"outlinewidth\":1,\"tickcolor\":\"rgb(36,36,36)\",\"ticks\":\"outside\"}},\"type\":\"scatterternary\"}],\"surface\":[{\"colorbar\":{\"outlinewidth\":1,\"tickcolor\":\"rgb(36,36,36)\",\"ticks\":\"outside\"},\"colorscale\":[[0.0,\"#440154\"],[0.1111111111111111,\"#482878\"],[0.2222222222222222,\"#3e4989\"],[0.3333333333333333,\"#31688e\"],[0.4444444444444444,\"#26828e\"],[0.5555555555555556,\"#1f9e89\"],[0.6666666666666666,\"#35b779\"],[0.7777777777777778,\"#6ece58\"],[0.8888888888888888,\"#b5de2b\"],[1.0,\"#fde725\"]],\"type\":\"surface\"}],\"table\":[{\"cells\":{\"fill\":{\"color\":\"rgb(237,237,237)\"},\"line\":{\"color\":\"white\"}},\"header\":{\"fill\":{\"color\":\"rgb(217,217,217)\"},\"line\":{\"color\":\"white\"}},\"type\":\"table\"}]},\"layout\":{\"annotationdefaults\":{\"arrowhead\":0,\"arrowwidth\":1},\"autotypenumbers\":\"strict\",\"coloraxis\":{\"colorbar\":{\"outlinewidth\":1,\"tickcolor\":\"rgb(36,36,36)\",\"ticks\":\"outside\"}},\"colorscale\":{\"diverging\":[[0.0,\"rgb(103,0,31)\"],[0.1,\"rgb(178,24,43)\"],[0.2,\"rgb(214,96,77)\"],[0.3,\"rgb(244,165,130)\"],[0.4,\"rgb(253,219,199)\"],[0.5,\"rgb(247,247,247)\"],[0.6,\"rgb(209,229,240)\"],[0.7,\"rgb(146,197,222)\"],[0.8,\"rgb(67,147,195)\"],[0.9,\"rgb(33,102,172)\"],[1.0,\"rgb(5,48,97)\"]],\"sequential\":[[0.0,\"#440154\"],[0.1111111111111111,\"#482878\"],[0.2222222222222222,\"#3e4989\"],[0.3333333333333333,\"#31688e\"],[0.4444444444444444,\"#26828e\"],[0.5555555555555556,\"#1f9e89\"],[0.6666666666666666,\"#35b779\"],[0.7777777777777778,\"#6ece58\"],[0.8888888888888888,\"#b5de2b\"],[1.0,\"#fde725\"]],\"sequentialminus\":[[0.0,\"#440154\"],[0.1111111111111111,\"#482878\"],[0.2222222222222222,\"#3e4989\"],[0.3333333333333333,\"#31688e\"],[0.4444444444444444,\"#26828e\"],[0.5555555555555556,\"#1f9e89\"],[0.6666666666666666,\"#35b779\"],[0.7777777777777778,\"#6ece58\"],[0.8888888888888888,\"#b5de2b\"],[1.0,\"#fde725\"]]},\"colorway\":[\"#91268F\",\"#8CC63E\",\"#00A7A0\",\"#F05A28\",\"#4C4C4C\",\"#630460\",\"#9f3913\",\"#588527\",\"#00716c\",\"#3e4040\"],\"font\":{\"color\":\"rgb(36,36,36)\",\"family\":\"Poppins\",\"size\":11},\"geo\":{\"bgcolor\":\"white\",\"lakecolor\":\"white\",\"landcolor\":\"white\",\"showlakes\":true,\"showland\":true,\"subunitcolor\":\"white\"},\"hoverlabel\":{\"align\":\"left\"},\"hovermode\":\"closest\",\"mapbox\":{\"style\":\"light\"},\"paper_bgcolor\":\"white\",\"plot_bgcolor\":\"white\",\"polar\":{\"angularaxis\":{\"gridcolor\":\"rgb(232,232,232)\",\"linecolor\":\"rgb(36,36,36)\",\"showgrid\":false,\"showline\":true,\"ticks\":\"outside\"},\"bgcolor\":\"white\",\"radialaxis\":{\"gridcolor\":\"rgb(232,232,232)\",\"linecolor\":\"rgb(36,36,36)\",\"showgrid\":false,\"showline\":true,\"ticks\":\"outside\"}},\"scene\":{\"xaxis\":{\"backgroundcolor\":\"white\",\"gridcolor\":\"rgb(232,232,232)\",\"gridwidth\":2,\"linecolor\":\"rgb(36,36,36)\",\"showbackground\":true,\"showgrid\":false,\"showline\":true,\"ticks\":\"outside\",\"zeroline\":false,\"zerolinecolor\":\"rgb(36,36,36)\"},\"yaxis\":{\"backgroundcolor\":\"white\",\"gridcolor\":\"rgb(232,232,232)\",\"gridwidth\":2,\"linecolor\":\"rgb(36,36,36)\",\"showbackground\":true,\"showgrid\":false,\"showline\":true,\"ticks\":\"outside\",\"zeroline\":false,\"zerolinecolor\":\"rgb(36,36,36)\"},\"zaxis\":{\"backgroundcolor\":\"white\",\"gridcolor\":\"rgb(232,232,232)\",\"gridwidth\":2,\"linecolor\":\"rgb(36,36,36)\",\"showbackground\":true,\"showgrid\":false,\"showline\":true,\"ticks\":\"outside\",\"zeroline\":false,\"zerolinecolor\":\"rgb(36,36,36)\"}},\"shapedefaults\":{\"fillcolor\":\"black\",\"line\":{\"width\":0},\"opacity\":0.3},\"ternary\":{\"aaxis\":{\"gridcolor\":\"rgb(232,232,232)\",\"linecolor\":\"rgb(36,36,36)\",\"showgrid\":false,\"showline\":true,\"ticks\":\"outside\"},\"baxis\":{\"gridcolor\":\"rgb(232,232,232)\",\"linecolor\":\"rgb(36,36,36)\",\"showgrid\":false,\"showline\":true,\"ticks\":\"outside\"},\"bgcolor\":\"white\",\"caxis\":{\"gridcolor\":\"rgb(232,232,232)\",\"linecolor\":\"rgb(36,36,36)\",\"showgrid\":false,\"showline\":true,\"ticks\":\"outside\"}},\"title\":{\"x\":0.05},\"xaxis\":{\"automargin\":true,\"gridcolor\":\"rgb(232,232,232)\",\"linecolor\":\"rgb(36,36,36)\",\"showgrid\":false,\"showline\":true,\"ticks\":\"outside\",\"title\":{\"standoff\":15},\"zeroline\":false,\"zerolinecolor\":\"rgb(36,36,36)\"},\"yaxis\":{\"automargin\":true,\"gridcolor\":\"rgb(232,232,232)\",\"linecolor\":\"rgb(36,36,36)\",\"showgrid\":false,\"showline\":true,\"ticks\":\"outside\",\"title\":{\"standoff\":15},\"zeroline\":false,\"zerolinecolor\":\"rgb(36,36,36)\"}}},\"mapbox\":{\"domain\":{\"x\":[0.0,1.0],\"y\":[0.0,1.0]},\"center\":{\"lat\":47.56837642292686,\"lon\":-122.29390749330882},\"zoom\":8,\"style\":\"carto-positron\"},\"coloraxis\":{\"colorbar\":{\"title\":{\"text\":\"Boardings\\u002fCapacity\"}},\"colorscale\":[[0.0,\"#440154\"],[0.1111111111111111,\"#482878\"],[0.2222222222222222,\"#3e4989\"],[0.3333333333333333,\"#31688e\"],[0.4444444444444444,\"#26828e\"],[0.5555555555555556,\"#1f9e89\"],[0.6666666666666666,\"#35b779\"],[0.7777777777777778,\"#6ece58\"],[0.8888888888888888,\"#b5de2b\"],[1.0,\"#fde725\"]]},\"legend\":{\"tracegroupgap\":0,\"itemsizing\":\"constant\"},\"title\":{\"text\":\"Park and Ride Usage vs Capacity\"},\"margin\":{\"r\":0,\"t\":0,\"l\":0,\"b\":0}},                        {\"responsive\": true}                    ).then(function(){\n",
       "                            \n",
       "var gd = document.getElementById('31f31bbb-0edf-479c-a46c-d25ffe2ff515');\n",
       "var x = new MutationObserver(function (mutations, observer) {{\n",
       "        var display = window.getComputedStyle(gd).display;\n",
       "        if (!display || display === 'none') {{\n",
       "            console.log([gd, 'removed!']);\n",
       "            Plotly.purge(gd);\n",
       "            observer.disconnect();\n",
       "        }}\n",
       "}});\n",
       "\n",
       "// Listen for the removal of the full notebook cells\n",
       "var notebookContainer = gd.closest('#notebook-container');\n",
       "if (notebookContainer) {{\n",
       "    x.observe(notebookContainer, {childList: true});\n",
       "}}\n",
       "\n",
       "// Listen for the clearing of the current output cell\n",
       "var outputEl = gd.closest('.output');\n",
       "if (outputEl) {{\n",
       "    x.observe(outputEl, {childList: true});\n",
       "}}\n",
       "\n",
       "                        })                };                });            </script>        </div>"
      ]
     },
     "metadata": {},
     "output_type": "display_data"
    }
   ],
   "source": [
    "gdf = gpd.GeoDataFrame(df, geometry=gpd.points_from_xy(df.XCoord, df.YCoord), crs='EPSG:2285')\n",
    "gdf.to_crs('EPSG:4326', inplace=True)\n",
    "\n",
    "fig = px.scatter_mapbox(gdf, lat=gdf.geometry.y, lon=gdf.geometry.x, color='Boardings/Capacity', \n",
    "                        size='Boardings/Capacity', hover_data=['name','taz','Model Boardings', 'Capacity'], \n",
    "                        title='Park and Ride Usage vs Capacity', zoom=8)\n",
    "fig.update_layout(mapbox_style=\"carto-positron\")\n",
    "fig.update_layout(margin={\"r\":0,\"t\":0,\"l\":0,\"b\":0})\n",
    "\n",
    "fig.show()"
   ]
  },
  {
   "cell_type": "raw",
   "id": "0bee7bb6",
   "metadata": {
    "vscode": {
     "languageId": "raw"
    }
   },
   "source": [
    "### boardings vs observed occupancy"
   ]
  },
  {
   "cell_type": "code",
   "execution_count": 54,
   "id": "21f0daa0",
   "metadata": {},
   "outputs": [],
   "source": [
    "# get observed data\n",
    "p_r_observe_data = pd.read_csv(\"R:/e2projects_two/2023_base_year/park_and_ride/Park_and_Ride_observed_data_2023.csv\")\n",
    "# filter to latest data record for each park and ride (only 2021 and later years)\n",
    "idx = p_r_observe_data.groupby(['lot_name'])['data_year'].transform(max) == p_r_observe_data['data_year']\n",
    "df_p_r_observe_data = p_r_observe_data[idx].copy()\n",
    "df_p_r_observe_data = df_p_r_observe_data.loc[df_p_r_observe_data['data_year']>=2021].copy()\n",
    "\n",
    "# add station names to node file\n",
    "df_p_r_nodes = pnr_capacity.merge(pd.DataFrame(stations), left_on=\"ZoneID\", right_on=\"id\")\n",
    "\n",
    "# transform to geodataframe\n",
    "gdf_p_r_nodes = gpd.GeoDataFrame(\n",
    "    df_p_r_nodes, geometry=gpd.points_from_xy(df_p_r_nodes.XCoord, df_p_r_nodes.YCoord), crs=\"EPSG:2285\"\n",
    ")\n",
    "\n",
    "gdf_p_r_observe_data = gpd.GeoDataFrame(\n",
    "    df_p_r_observe_data, geometry=gpd.points_from_xy(df_p_r_observe_data.x_coord, df_p_r_observe_data.y_coord), crs=\"EPSG:2285\"\n",
    ")\n",
    "\n",
    "# merge with park and ride name\n",
    "gdf_p_r_data_name = gdf_p_r_nodes.merge(gdf_p_r_observe_data[['data_year', 'lot_name', 'lot_address', 'city','capacity', 'occupancy']],\n",
    "                                        left_on=\"name\",right_on=\"lot_name\")\n",
    "\n",
    "# merge by nearest location\n",
    "gdf_p_r_data_near = gpd.sjoin_nearest(gdf_p_r_nodes.loc[~(gdf_p_r_nodes[\"name\"].isin(gdf_p_r_data_name.name))],\n",
    "                                      gdf_p_r_observe_data[['data_year', 'lot_name', 'lot_address', 'city','capacity', 'occupancy', 'geometry']],\n",
    "                                      max_distance=500)\n",
    "\n",
    "df_col = ['NodeID', 'ZoneID', 'data_year', 'name', \n",
    "          'lot_name', 'lot_address', 'city', 'Capacity', 'capacity', 'occupancy', \n",
    "          'XCoord', 'YCoord', 'geometry']\n",
    "gdf_p_r_data = pd.concat([gdf_p_r_data_name[df_col],gdf_p_r_data_near[df_col]]).copy()\n",
    "\n",
    "# merge boardings\n",
    "gdf_p_r_data = gdf_p_r_data.merge(pnr_boardings, left_on=\"ZoneID\", right_on=\"otaz\")\n",
    "\n",
    "gdf_p_r_data = gdf_p_r_data[['NodeID', 'ZoneID', 'data_year', 'name', 'lot_name', 'lot_address',\n",
    "       'city', 'Capacity', 'capacity', 'occupancy', 'trexpfac', 'XCoord', 'YCoord',\n",
    "       'geometry']].copy().rename(columns={'trexpfac':'boardings'})\n",
    "\n",
    "gdf_p_r_data['boardings - occupancy'] = gdf_p_r_data['boardings'] - gdf_p_r_data['occupancy']\n",
    "gdf_p_r_data['percent diff'] = gdf_p_r_data['boardings - occupancy'] / gdf_p_r_data['occupancy']\n",
    "\n",
    "gdf_p_r_data.to_crs('EPSG:4326', inplace=True)\n"
   ]
  },
  {
   "cell_type": "code",
   "execution_count": 56,
   "id": "db68fda1",
   "metadata": {},
   "outputs": [
    {
     "data": {
      "application/vnd.plotly.v1+json": {
       "config": {
        "plotlyServerURL": "https://plot.ly"
       },
       "data": [
        {
         "customdata": [
          [
           "Tacoma Dome Station",
           3752,
           250,
           2337,
           -782
          ],
          [
           "Mukilteo Station",
           3756,
           3,
           63,
           -23
          ],
          [
           "Crossroads Neighborhood Church",
           3763,
           5,
           107,
           -10
          ],
          [
           "Redondo Heights P&R",
           3765,
           5,
           697,
           -89
          ],
          [
           "Duvall P&R",
           3767,
           2,
           49,
           -13
          ],
          [
           "Parkland Transit Center",
           3770,
           11,
           62,
           8
          ],
          [
           "South Tacoma West",
           3774,
           12,
           78,
           9
          ],
          [
           "Narrows P&R",
           3776,
           1,
           195,
           -37
          ],
          [
           "North Purdy/Purdy Crescent",
           3777,
           2,
           200,
           -27
          ],
          [
           "Auburn P&R",
           3782,
           9,
           244,
           -44
          ],
          [
           "Holy Spirit Lutheran Church",
           3784,
           20,
           40,
           11
          ],
          [
           "Burien Transit Center",
           3787,
           22,
           488,
           -15
          ],
          [
           "South Renton P&R",
           3790,
           30,
           385,
           -152
          ],
          [
           "Issaquah Transit Center",
           3792,
           20,
           819,
           -162
          ],
          [
           "Mercer Island P&R",
           3793,
           221,
           447,
           -49
          ],
          [
           "Newport Hills P&R",
           3795,
           5,
           275,
           -42
          ],
          [
           "Newport Covenant Church",
           3797,
           2,
           75,
           -17
          ],
          [
           "South Bellevue P&R",
           3798,
           49,
           519,
           -65
          ],
          [
           "Eastgate P&R",
           3800,
           44,
           1614,
           -679
          ],
          [
           "North Bend P&R",
           3801,
           7,
           80,
           -1
          ],
          [
           "South Kirkland P&R",
           3804,
           19,
           833,
           -293
          ],
          [
           "Overlake P&R",
           3805,
           54,
           203,
           -23
          ],
          [
           "Houghton P&R",
           3806,
           8,
           470,
           -8
          ],
          [
           "Redmond P&R",
           3808,
           53,
           377,
           -277
          ],
          [
           "Valley Center",
           3810,
           5,
           55,
           1
          ],
          [
           "Bear Creek P&R",
           3811,
           21,
           283,
           -91
          ],
          [
           "Kingsgate P&R",
           3812,
           51,
           502,
           -93
          ],
          [
           "Kenmore P&R",
           3815,
           46,
           603,
           -100
          ],
          [
           "Bothell P&R",
           3817,
           61,
           220,
           -10
          ],
          [
           "Woodinville P&R",
           3818,
           14,
           438,
           -25
          ],
          [
           "Ober Park",
           3826,
           6,
           48,
           -1
          ],
          [
           "Edmonds Station",
           3830,
           1,
           259,
           -50
          ],
          [
           "Edmonds P&R",
           3831,
           7,
           255,
           -17
          ],
          [
           "Mariner P&R",
           3834,
           29,
           667,
           -58
          ],
          [
           "Arlington P&R",
           3839,
           4,
           25,
           -1
          ],
          [
           "Port Orchard Armory",
           3843,
           125,
           105,
           32
          ],
          [
           "Bethany Lutheran Church",
           3846,
           22,
           80,
           9
          ],
          [
           "Gateway Fellowship",
           3847,
           5,
           138,
           -33
          ],
          [
           "Suquamish United Church of Christ",
           3850,
           1,
           65,
           -2
          ],
          [
           "Eastmont P&R",
           3863,
           1,
           389,
           -15
          ],
          [
           "Canyon Park P&R",
           3865,
           14,
           302,
           -97
          ],
          [
           "Harper Evangelical Free Church",
           3870,
           12,
           462,
           -40
          ],
          [
           "South Hill P&R",
           3877,
           10,
           354,
           -34
          ],
          [
           "Preston P&R",
           3883,
           43,
           53,
           28
          ],
          [
           "Bayside Community Church",
           3884,
           4,
           210,
           -20
          ],
          [
           "Renton City Municipal Garage",
           3894,
           15,
           150,
           11
          ],
          [
           "Tibbetts Lot",
           3895,
           8,
           170,
           -1
          ],
          [
           "Maple Valley Town Square",
           3898,
           6,
           90,
           -53
          ],
          [
           "All Saints Lutheran Church",
           3899,
           10,
           75,
           -10
          ],
          [
           "City View Church",
           3900,
           80,
           96,
           80
          ],
          [
           "Redmond Ridge P&R",
           3903,
           1,
           52,
           -5
          ],
          [
           "Nativity Lutheran Church",
           3905,
           3,
           49,
           2
          ],
          [
           "Everett Station",
           3908,
           91,
           160,
           -197
          ],
          [
           "Tukwila Station (CR)",
           3751,
           106,
           390,
           -27
          ],
          [
           "Everett Station (CR)",
           3754,
           64,
           1107,
           -224
          ],
          [
           "Sumner Station (CR)",
           3755,
           271,
           350,
           -24
          ],
          [
           "Kent Station (CR)",
           3757,
           414,
           996,
           10
          ],
          [
           "Auburn Station (CR)",
           3758,
           701,
           633,
           406
          ],
          [
           "Lakewood (CR)",
           3759,
           3,
           601,
           -163
          ],
          [
           "Gateway P&R",
           3760,
           44,
           104,
           12
          ],
          [
           "Puyallup Station (SB)",
           3761,
           6,
           50,
           -526
          ],
          [
           "Twin Lakes P&R",
           3762,
           4,
           600,
           -1
          ],
          [
           "Overlake Transit Center",
           3764,
           127,
           222,
           114
          ],
          [
           "North Gig Harbor/Kimball Drive",
           3766,
           8,
           306,
           -29
          ],
          [
           "Roy 'Y' P&R",
           3768,
           1,
           100,
           -7
          ],
          [
           "SR-512/I-5 (Lakewood)",
           3771,
           14,
           493,
           -230
          ],
          [
           "Center Street P&R",
           3772,
           12,
           75,
           7
          ],
          [
           "South Tacoma East - 2",
           3775,
           3,
           44,
           -4
          ],
          [
           "South Federal P&R",
           3779,
           10,
           515,
           -13
          ],
          [
           "Sultan P&R",
           3780,
           2,
           64,
           1
          ],
          [
           "Federal Way P&R (320th)",
           3781,
           100,
           877,
           78
          ],
          [
           "Kent/Des Moines P&R",
           3785,
           11,
           404,
           -45
          ],
          [
           "Kent/James St. P&R",
           3786,
           88,
           713,
           34
          ],
          [
           "Tukwila",
           3788,
           27,
           267,
           -179
          ],
          [
           "Renton Highlands P&R (St. Matts)",
           3791,
           2,
           128,
           -18
          ],
          [
           "Mercer Island Presbyterian",
           3794,
           22,
           30,
           12
          ],
          [
           "Wilburton",
           3799,
           17,
           186,
           -44
          ],
          [
           "Evergreen Point P&R",
           3802,
           20,
           38,
           -30
          ],
          [
           "Bethel Lutheran",
           3807,
           3,
           40,
           2
          ],
          [
           "Brickyard P&R",
           3813,
           4,
           443,
           -100
          ],
          [
           "Bethany Bible Church",
           3816,
           77,
           75,
           65
          ],
          [
           "Olson & Meyers",
           3819,
           20,
           100,
           -13
          ],
          [
           "Spokane Street P&R",
           3820,
           57,
           55,
           47
          ],
          [
           "Greenlake P&R",
           3821,
           839,
           411,
           604
          ],
          [
           "Northgate TC",
           3822,
           909,
           1509,
           485
          ],
          [
           "Shoreline",
           3824,
           41,
           393,
           -156
          ],
          [
           "112th St. & I-5",
           3825,
           7,
           397,
           -279
          ],
          [
           "Mountlake Terrace P&R",
           3828,
           34,
           880,
           -247
          ],
          [
           "Bethesda Lutheran",
           3829,
           9,
           20,
           5
          ],
          [
           "Lynnwood P&R",
           3832,
           15,
           1398,
           -66
          ],
          [
           "Swamp Creek P&R",
           3833,
           15,
           410,
           -39
          ],
          [
           "Snohomish",
           3835,
           7,
           104,
           -4
          ],
          [
           "116th & I-5 - Marysville",
           3837,
           1,
           57,
           -16
          ],
          [
           "Monroe",
           3841,
           7,
           102,
           -3
          ],
          [
           "Federal Way",
           3842,
           42,
           1190,
           -579
          ],
          [
           "Puyallup Station (NB)",
           3852,
           161,
           364,
           -371
          ],
          [
           "72nd Street Transit Center",
           3853,
           2,
           68,
           1
          ],
          [
           "DuPont",
           3855,
           1,
           109,
           -33
          ],
          [
           "Aurora Village TC",
           3856,
           69,
           202,
           -1
          ],
          [
           "Aurora Nazarene",
           3857,
           61,
           116,
           24
          ],
          [
           "Lake Meridian P&R",
           3861,
           8,
           172,
           4
          ],
          [
           "Smokey Pt. Church",
           3862,
           8,
           50,
           -5
          ],
          [
           "McCollum Park P&R",
           3864,
           13,
           409,
           -50
          ],
          [
           "Korean Presby. P&R",
           3866,
           11,
           25,
           6
          ],
          [
           "Mullenix Road",
           3871,
           4,
           92,
           -66
          ],
          [
           "TCC P&R",
           3873,
           18,
           95,
           -45
          ],
          [
           "Ash Way P&R",
           3874,
           67,
           1022,
           -595
          ],
          [
           "Bonney Lake P&R",
           3875,
           3,
           356,
           -76
          ],
          [
           "Tukwila Int. Station",
           3876,
           557,
           662,
           -13
          ],
          [
           "South Tacoma East - 1",
           3878,
           3,
           33,
           -5
          ],
          [
           "Issaquah Highlands",
           3879,
           38,
           1010,
           -128
          ],
          [
           "Lake Stevens TC",
           3880,
           8,
           207,
           -58
          ],
          [
           "Puyallup Fair's Red Lot",
           3888,
           322,
           219,
           307
          ],
          [
           "Marysville - Cedar & Grove",
           3889,
           6,
           213,
           -63
          ],
          [
           "Marysville I P&R",
           3891,
           4,
           74,
           -5
          ],
          [
           "Martha Lake Covenant Church",
           3892,
           3,
           75,
           -12
          ],
          [
           "South Sammammish P&R",
           3893,
           2,
           265,
           -15
          ],
          [
           "Renton Transit Center",
           3896,
           16,
           150,
           12
          ],
          [
           "Sammamish Lutheran P&R",
           3902,
           2,
           54,
           -6
          ],
          [
           "Kennydale United Methodist Church",
           3904,
           1,
           50,
           -10
          ],
          [
           "South SeaTac (LR)",
           3907,
           1171,
           1160,
           177
          ]
         ],
         "hovertemplate": "lat=%{lat}<br>lon=%{lon}<br>name=%{customdata[0]}<br>ZoneID=%{customdata[1]}<br>boardings=%{customdata[2]}<br>Capacity=%{customdata[3]}<br>boardings - occupancy=%{customdata[4]}<br>percent diff=%{marker.color}<extra></extra>",
         "lat": [
          47.24058551505856,
          47.94920113850631,
          47.63164525679203,
          47.35504151814868,
          47.742819757175425,
          47.147910636682695,
          47.20551922986328,
          47.25600055943912,
          47.38923241473354,
          47.321418707465085,
          47.710422482815964,
          47.46951669011371,
          47.47271735402824,
          47.54213211171109,
          47.58878770878929,
          47.557044948772166,
          47.56412784223352,
          47.58628974362988,
          47.58058167806885,
          47.49597161762852,
          47.64418793825653,
          47.63297501321839,
          47.668161259777534,
          47.676498197243916,
          47.42287071417999,
          47.67416769460649,
          47.716304710074866,
          47.75869756770715,
          47.75945577077424,
          47.75702674620799,
          47.45193489352676,
          47.81083676224893,
          47.80550380658298,
          47.87927245742543,
          48.1962267586574,
          47.53346058448239,
          47.635074586962034,
          47.73391346720341,
          47.73326656630968,
          47.915775246026996,
          47.79421617170751,
          47.503952014160234,
          47.161513973097485,
          47.527290368668076,
          47.799606383865175,
          47.48065181683248,
          47.540500663812395,
          47.362614021751135,
          47.357193070668814,
          47.48028559998525,
          47.68558125502083,
          47.44356941764737,
          47.60111674308456,
          47.45978922388598,
          47.975529073958405,
          47.20104674348286,
          47.383968426714006,
          47.30596899365694,
          47.153297356412374,
          47.567182526516646,
          47.1930593000242,
          47.29373164287317,
          47.64429091052309,
          47.31636050413098,
          47.08271703410659,
          47.1614836893937,
          47.234001163743,
          47.20621980267127,
          47.28903958534349,
          47.86327743654254,
          47.311634074767746,
          47.39168541124455,
          47.38491055539441,
          47.4819754912041,
          47.50715257009107,
          47.57701117038493,
          47.60395052462608,
          47.63677537541405,
          47.75569011271219,
          47.74096350335556,
          47.75910884573482,
          47.52027134433463,
          47.57171240445629,
          47.67673424744246,
          47.70239264670543,
          47.76687501163499,
          47.89714816130343,
          47.78602219601041,
          47.78640356462111,
          47.81595656235212,
          47.85115731382444,
          47.931598639740535,
          48.100769121344904,
          47.86853030329036,
          47.3177117131759,
          47.192268370054144,
          47.192970227055056,
          47.08990238368787,
          47.77470971349453,
          47.75619702376564,
          47.36115261991309,
          48.15732409938088,
          47.880527487324606,
          47.782991515856864,
          47.46831133114312,
          47.24317779488538,
          47.85226436088265,
          47.17424771167385,
          47.4646263275234,
          47.206906711152484,
          47.5454788435191,
          47.99832911207097,
          47.18546025093644,
          48.06186291040974,
          48.050937654654625,
          47.85078707163063,
          47.582160965227075,
          47.481704657267464,
          47.60197065091635,
          47.518219014425505,
          47.42300118449206
         ],
         "legendgroup": "",
         "lon": [
          -122.42560127575338,
          -122.29903842240785,
          -122.63765712362758,
          -122.30995179376971,
          -121.98519762021276,
          -122.43537890888092,
          -122.46333125501894,
          -122.53269206747679,
          -122.6254607199261,
          -122.22738652958233,
          -122.20748911656241,
          -122.33865347780969,
          -122.21402734947938,
          -122.06181405283014,
          -122.23166700469328,
          -122.18862142605792,
          -122.17018699168925,
          -122.19040717772546,
          -122.15248096655628,
          -121.78890988166995,
          -122.196922253886,
          -122.13560413046633,
          -122.18466442694303,
          -122.12357780585234,
          -122.46176154007155,
          -122.10086813884128,
          -122.18764495320512,
          -122.24193579375279,
          -122.20174576489308,
          -122.15150443349742,
          -122.4596252077271,
          -122.38443744744197,
          -122.33045949149354,
          -122.23819731210229,
          -122.12918349945092,
          -122.61873065421872,
          -122.5368423099349,
          -122.63927452061961,
          -122.5577978549231,
          -122.20398702400395,
          -122.21165459966568,
          -122.51509856039954,
          -122.30487382727742,
          -121.93698116342834,
          -122.50852962519735,
          -122.20850374635265,
          -122.06172938121478,
          -122.02014569186719,
          -122.29322817544987,
          -122.22017679668397,
          -122.03407277250997,
          -122.15522340373712,
          -122.63062144574651,
          -122.2414244855451,
          -122.19768600674931,
          -122.24474525052933,
          -122.23410290572726,
          -122.23148682359859,
          -122.49859625780292,
          -122.65169945877489,
          -122.29627773532202,
          -122.35994716264585,
          -122.13352975529753,
          -122.5855102757513,
          -122.4346751374792,
          -122.48323069711938,
          -122.49606313527855,
          -122.45953523712713,
          -122.32271583231764,
          -121.80233005000285,
          -122.30155944089654,
          -122.28801732435528,
          -122.24251564508461,
          -122.2689896182637,
          -122.18367729786219,
          -122.22740182134136,
          -122.18550879565194,
          -122.2379322839663,
          -122.31907158771672,
          -122.18801959930848,
          -122.25940315047508,
          -122.33619690714434,
          -122.36486482391673,
          -122.32074934998532,
          -122.32635492088791,
          -122.34680005427789,
          -122.2153929885049,
          -122.3145674940085,
          -122.30895658531607,
          -122.29397785716966,
          -122.27629203793643,
          -122.10076899814818,
          -122.1865006345836,
          -121.99607079075767,
          -122.30476449893273,
          -122.29638676047503,
          -122.41141509220098,
          -122.6408278816208,
          -122.34274347402066,
          -122.33571668026264,
          -122.16596991953243,
          -122.18235672487519,
          -122.22076405922407,
          -122.34737161450154,
          -122.62194815643332,
          -122.52528242848497,
          -122.25855246300434,
          -122.18490604650373,
          -122.28691091664143,
          -122.45925925521301,
          -122.01943199294729,
          -122.10379792258418,
          -122.29928692458974,
          -122.17950449728978,
          -122.1832656728556,
          -122.27113966009398,
          -122.03643032765581,
          -122.20744323893204,
          -122.03476711725796,
          -122.20130164689891,
          -122.29885098357384
         ],
         "marker": {
          "color": [
           -0.7577519379844961,
           -0.8846153846153846,
           -0.6666666666666666,
           -0.9468085106382979,
           -0.8666666666666667,
           2.6666666666666665,
           3,
           -0.9736842105263158,
           -0.9310344827586207,
           -0.8301886792452831,
           1.2222222222222223,
           -0.40540540540540543,
           -0.8351648351648352,
           -0.8901098901098901,
           -0.1814814814814815,
           -0.8936170212765957,
           -0.8947368421052632,
           -0.5701754385964912,
           -0.9391424619640387,
           -0.125,
           -0.9391025641025641,
           -0.2987012987012987,
           -0.5,
           -0.8393939393939394,
           0.25,
           -0.8125,
           -0.6458333333333334,
           -0.684931506849315,
           -0.14084507042253522,
           -0.6410256410256411,
           -0.14285714285714285,
           -0.9803921568627451,
           -0.7083333333333334,
           -0.6666666666666666,
           -0.2,
           0.34408602150537637,
           0.6923076923076923,
           -0.868421052631579,
           -0.6666666666666666,
           -0.9375,
           -0.8738738738738738,
           -0.7692307692307693,
           -0.7727272727272727,
           1.8666666666666667,
           -0.8333333333333334,
           2.75,
           -0.1111111111111111,
           -0.8983050847457628,
           -0.5,
           null,
           -0.8333333333333334,
           2,
           -0.6840277777777778,
           -0.20300751879699247,
           -0.7777777777777778,
           -0.08135593220338982,
           0.024752475247524754,
           1.376271186440678,
           -0.9819277108433735,
           0.375,
           -0.9887218045112782,
           -0.2,
           8.76923076923077,
           -0.7837837837837838,
           -0.875,
           -0.9426229508196722,
           1.4,
           -0.5714285714285714,
           -0.5652173913043478,
           1,
           3.5454545454545454,
           -0.8035714285714286,
           0.6296296296296297,
           -0.8689320388349514,
           -0.9,
           1.2,
           -0.7213114754098361,
           -0.6,
           2,
           -0.9615384615384616,
           5.416666666666667,
           -0.3939393939393939,
           4.7,
           2.570212765957447,
           1.1438679245283019,
           -0.7918781725888325,
           -0.9755244755244755,
           -0.8790035587188612,
           1.25,
           -0.8148148148148148,
           -0.7222222222222222,
           -0.36363636363636365,
           -0.9411764705882353,
           -0.3,
           -0.9323671497584541,
           -0.6973684210526315,
           1,
           -0.9705882352941176,
           -0.014285714285714285,
           0.6486486486486487,
           1,
           -0.38461538461538464,
           -0.7936507936507936,
           1.2,
           -0.9428571428571428,
           -0.7142857142857143,
           -0.8987915407854985,
           -0.9620253164556962,
           -0.02280701754385965,
           -0.625,
           -0.7710843373493976,
           -0.8787878787878788,
           20.466666666666665,
           -0.9130434782608695,
           -0.5555555555555556,
           -0.8,
           -0.8823529411764706,
           3,
           -0.75,
           -0.9090909090909091,
           0.17806841046277666
          ],
          "coloraxis": "coloraxis"
         },
         "mode": "markers",
         "name": "",
         "showlegend": false,
         "subplot": "mapbox",
         "type": "scattermapbox"
        }
       ],
       "layout": {
        "coloraxis": {
         "colorbar": {
          "title": {
           "text": "percent diff"
          }
         },
         "colorscale": [
          [
           0,
           "#440154"
          ],
          [
           0.1111111111111111,
           "#482878"
          ],
          [
           0.2222222222222222,
           "#3e4989"
          ],
          [
           0.3333333333333333,
           "#31688e"
          ],
          [
           0.4444444444444444,
           "#26828e"
          ],
          [
           0.5555555555555556,
           "#1f9e89"
          ],
          [
           0.6666666666666666,
           "#35b779"
          ],
          [
           0.7777777777777778,
           "#6ece58"
          ],
          [
           0.8888888888888888,
           "#b5de2b"
          ],
          [
           1,
           "#fde725"
          ]
         ]
        },
        "legend": {
         "tracegroupgap": 0
        },
        "mapbox": {
         "center": {
          "lat": 47.569613747321654,
          "lon": -122.27979420732083
         },
         "domain": {
          "x": [
           0,
           1
          ],
          "y": [
           0,
           1
          ]
         },
         "style": "carto-positron",
         "zoom": 8
        },
        "margin": {
         "b": 0,
         "l": 0,
         "r": 0,
         "t": 0
        },
        "template": {
         "data": {
          "bar": [
           {
            "error_x": {
             "color": "rgb(36,36,36)"
            },
            "error_y": {
             "color": "rgb(36,36,36)"
            },
            "marker": {
             "line": {
              "color": "white",
              "width": 0.5
             },
             "pattern": {
              "fillmode": "overlay",
              "size": 10,
              "solidity": 0.2
             }
            },
            "type": "bar"
           }
          ],
          "barpolar": [
           {
            "marker": {
             "line": {
              "color": "white",
              "width": 0.5
             },
             "pattern": {
              "fillmode": "overlay",
              "size": 10,
              "solidity": 0.2
             }
            },
            "type": "barpolar"
           }
          ],
          "carpet": [
           {
            "aaxis": {
             "endlinecolor": "rgb(36,36,36)",
             "gridcolor": "white",
             "linecolor": "white",
             "minorgridcolor": "white",
             "startlinecolor": "rgb(36,36,36)"
            },
            "baxis": {
             "endlinecolor": "rgb(36,36,36)",
             "gridcolor": "white",
             "linecolor": "white",
             "minorgridcolor": "white",
             "startlinecolor": "rgb(36,36,36)"
            },
            "type": "carpet"
           }
          ],
          "choropleth": [
           {
            "colorbar": {
             "outlinewidth": 1,
             "tickcolor": "rgb(36,36,36)",
             "ticks": "outside"
            },
            "type": "choropleth"
           }
          ],
          "contour": [
           {
            "colorbar": {
             "outlinewidth": 1,
             "tickcolor": "rgb(36,36,36)",
             "ticks": "outside"
            },
            "colorscale": [
             [
              0,
              "#440154"
             ],
             [
              0.1111111111111111,
              "#482878"
             ],
             [
              0.2222222222222222,
              "#3e4989"
             ],
             [
              0.3333333333333333,
              "#31688e"
             ],
             [
              0.4444444444444444,
              "#26828e"
             ],
             [
              0.5555555555555556,
              "#1f9e89"
             ],
             [
              0.6666666666666666,
              "#35b779"
             ],
             [
              0.7777777777777778,
              "#6ece58"
             ],
             [
              0.8888888888888888,
              "#b5de2b"
             ],
             [
              1,
              "#fde725"
             ]
            ],
            "type": "contour"
           }
          ],
          "contourcarpet": [
           {
            "colorbar": {
             "outlinewidth": 1,
             "tickcolor": "rgb(36,36,36)",
             "ticks": "outside"
            },
            "type": "contourcarpet"
           }
          ],
          "heatmap": [
           {
            "colorbar": {
             "outlinewidth": 1,
             "tickcolor": "rgb(36,36,36)",
             "ticks": "outside"
            },
            "colorscale": [
             [
              0,
              "#440154"
             ],
             [
              0.1111111111111111,
              "#482878"
             ],
             [
              0.2222222222222222,
              "#3e4989"
             ],
             [
              0.3333333333333333,
              "#31688e"
             ],
             [
              0.4444444444444444,
              "#26828e"
             ],
             [
              0.5555555555555556,
              "#1f9e89"
             ],
             [
              0.6666666666666666,
              "#35b779"
             ],
             [
              0.7777777777777778,
              "#6ece58"
             ],
             [
              0.8888888888888888,
              "#b5de2b"
             ],
             [
              1,
              "#fde725"
             ]
            ],
            "type": "heatmap"
           }
          ],
          "heatmapgl": [
           {
            "colorbar": {
             "outlinewidth": 1,
             "tickcolor": "rgb(36,36,36)",
             "ticks": "outside"
            },
            "colorscale": [
             [
              0,
              "#440154"
             ],
             [
              0.1111111111111111,
              "#482878"
             ],
             [
              0.2222222222222222,
              "#3e4989"
             ],
             [
              0.3333333333333333,
              "#31688e"
             ],
             [
              0.4444444444444444,
              "#26828e"
             ],
             [
              0.5555555555555556,
              "#1f9e89"
             ],
             [
              0.6666666666666666,
              "#35b779"
             ],
             [
              0.7777777777777778,
              "#6ece58"
             ],
             [
              0.8888888888888888,
              "#b5de2b"
             ],
             [
              1,
              "#fde725"
             ]
            ],
            "type": "heatmapgl"
           }
          ],
          "histogram": [
           {
            "marker": {
             "line": {
              "color": "white",
              "width": 0.6
             }
            },
            "type": "histogram"
           }
          ],
          "histogram2d": [
           {
            "colorbar": {
             "outlinewidth": 1,
             "tickcolor": "rgb(36,36,36)",
             "ticks": "outside"
            },
            "colorscale": [
             [
              0,
              "#440154"
             ],
             [
              0.1111111111111111,
              "#482878"
             ],
             [
              0.2222222222222222,
              "#3e4989"
             ],
             [
              0.3333333333333333,
              "#31688e"
             ],
             [
              0.4444444444444444,
              "#26828e"
             ],
             [
              0.5555555555555556,
              "#1f9e89"
             ],
             [
              0.6666666666666666,
              "#35b779"
             ],
             [
              0.7777777777777778,
              "#6ece58"
             ],
             [
              0.8888888888888888,
              "#b5de2b"
             ],
             [
              1,
              "#fde725"
             ]
            ],
            "type": "histogram2d"
           }
          ],
          "histogram2dcontour": [
           {
            "colorbar": {
             "outlinewidth": 1,
             "tickcolor": "rgb(36,36,36)",
             "ticks": "outside"
            },
            "colorscale": [
             [
              0,
              "#440154"
             ],
             [
              0.1111111111111111,
              "#482878"
             ],
             [
              0.2222222222222222,
              "#3e4989"
             ],
             [
              0.3333333333333333,
              "#31688e"
             ],
             [
              0.4444444444444444,
              "#26828e"
             ],
             [
              0.5555555555555556,
              "#1f9e89"
             ],
             [
              0.6666666666666666,
              "#35b779"
             ],
             [
              0.7777777777777778,
              "#6ece58"
             ],
             [
              0.8888888888888888,
              "#b5de2b"
             ],
             [
              1,
              "#fde725"
             ]
            ],
            "type": "histogram2dcontour"
           }
          ],
          "mesh3d": [
           {
            "colorbar": {
             "outlinewidth": 1,
             "tickcolor": "rgb(36,36,36)",
             "ticks": "outside"
            },
            "type": "mesh3d"
           }
          ],
          "parcoords": [
           {
            "line": {
             "colorbar": {
              "outlinewidth": 1,
              "tickcolor": "rgb(36,36,36)",
              "ticks": "outside"
             }
            },
            "type": "parcoords"
           }
          ],
          "pie": [
           {
            "automargin": true,
            "type": "pie"
           }
          ],
          "scatter": [
           {
            "fillpattern": {
             "fillmode": "overlay",
             "size": 10,
             "solidity": 0.2
            },
            "type": "scatter"
           }
          ],
          "scatter3d": [
           {
            "line": {
             "colorbar": {
              "outlinewidth": 1,
              "tickcolor": "rgb(36,36,36)",
              "ticks": "outside"
             }
            },
            "marker": {
             "colorbar": {
              "outlinewidth": 1,
              "tickcolor": "rgb(36,36,36)",
              "ticks": "outside"
             }
            },
            "type": "scatter3d"
           }
          ],
          "scattercarpet": [
           {
            "marker": {
             "colorbar": {
              "outlinewidth": 1,
              "tickcolor": "rgb(36,36,36)",
              "ticks": "outside"
             }
            },
            "type": "scattercarpet"
           }
          ],
          "scattergeo": [
           {
            "marker": {
             "colorbar": {
              "outlinewidth": 1,
              "tickcolor": "rgb(36,36,36)",
              "ticks": "outside"
             }
            },
            "type": "scattergeo"
           }
          ],
          "scattergl": [
           {
            "marker": {
             "colorbar": {
              "outlinewidth": 1,
              "tickcolor": "rgb(36,36,36)",
              "ticks": "outside"
             }
            },
            "type": "scattergl"
           }
          ],
          "scattermapbox": [
           {
            "marker": {
             "colorbar": {
              "outlinewidth": 1,
              "tickcolor": "rgb(36,36,36)",
              "ticks": "outside"
             }
            },
            "type": "scattermapbox"
           }
          ],
          "scatterpolar": [
           {
            "marker": {
             "colorbar": {
              "outlinewidth": 1,
              "tickcolor": "rgb(36,36,36)",
              "ticks": "outside"
             }
            },
            "type": "scatterpolar"
           }
          ],
          "scatterpolargl": [
           {
            "marker": {
             "colorbar": {
              "outlinewidth": 1,
              "tickcolor": "rgb(36,36,36)",
              "ticks": "outside"
             }
            },
            "type": "scatterpolargl"
           }
          ],
          "scatterternary": [
           {
            "marker": {
             "colorbar": {
              "outlinewidth": 1,
              "tickcolor": "rgb(36,36,36)",
              "ticks": "outside"
             }
            },
            "type": "scatterternary"
           }
          ],
          "surface": [
           {
            "colorbar": {
             "outlinewidth": 1,
             "tickcolor": "rgb(36,36,36)",
             "ticks": "outside"
            },
            "colorscale": [
             [
              0,
              "#440154"
             ],
             [
              0.1111111111111111,
              "#482878"
             ],
             [
              0.2222222222222222,
              "#3e4989"
             ],
             [
              0.3333333333333333,
              "#31688e"
             ],
             [
              0.4444444444444444,
              "#26828e"
             ],
             [
              0.5555555555555556,
              "#1f9e89"
             ],
             [
              0.6666666666666666,
              "#35b779"
             ],
             [
              0.7777777777777778,
              "#6ece58"
             ],
             [
              0.8888888888888888,
              "#b5de2b"
             ],
             [
              1,
              "#fde725"
             ]
            ],
            "type": "surface"
           }
          ],
          "table": [
           {
            "cells": {
             "fill": {
              "color": "rgb(237,237,237)"
             },
             "line": {
              "color": "white"
             }
            },
            "header": {
             "fill": {
              "color": "rgb(217,217,217)"
             },
             "line": {
              "color": "white"
             }
            },
            "type": "table"
           }
          ]
         },
         "layout": {
          "annotationdefaults": {
           "arrowhead": 0,
           "arrowwidth": 1
          },
          "autotypenumbers": "strict",
          "coloraxis": {
           "colorbar": {
            "outlinewidth": 1,
            "tickcolor": "rgb(36,36,36)",
            "ticks": "outside"
           }
          },
          "colorscale": {
           "diverging": [
            [
             0,
             "rgb(103,0,31)"
            ],
            [
             0.1,
             "rgb(178,24,43)"
            ],
            [
             0.2,
             "rgb(214,96,77)"
            ],
            [
             0.3,
             "rgb(244,165,130)"
            ],
            [
             0.4,
             "rgb(253,219,199)"
            ],
            [
             0.5,
             "rgb(247,247,247)"
            ],
            [
             0.6,
             "rgb(209,229,240)"
            ],
            [
             0.7,
             "rgb(146,197,222)"
            ],
            [
             0.8,
             "rgb(67,147,195)"
            ],
            [
             0.9,
             "rgb(33,102,172)"
            ],
            [
             1,
             "rgb(5,48,97)"
            ]
           ],
           "sequential": [
            [
             0,
             "#440154"
            ],
            [
             0.1111111111111111,
             "#482878"
            ],
            [
             0.2222222222222222,
             "#3e4989"
            ],
            [
             0.3333333333333333,
             "#31688e"
            ],
            [
             0.4444444444444444,
             "#26828e"
            ],
            [
             0.5555555555555556,
             "#1f9e89"
            ],
            [
             0.6666666666666666,
             "#35b779"
            ],
            [
             0.7777777777777778,
             "#6ece58"
            ],
            [
             0.8888888888888888,
             "#b5de2b"
            ],
            [
             1,
             "#fde725"
            ]
           ],
           "sequentialminus": [
            [
             0,
             "#440154"
            ],
            [
             0.1111111111111111,
             "#482878"
            ],
            [
             0.2222222222222222,
             "#3e4989"
            ],
            [
             0.3333333333333333,
             "#31688e"
            ],
            [
             0.4444444444444444,
             "#26828e"
            ],
            [
             0.5555555555555556,
             "#1f9e89"
            ],
            [
             0.6666666666666666,
             "#35b779"
            ],
            [
             0.7777777777777778,
             "#6ece58"
            ],
            [
             0.8888888888888888,
             "#b5de2b"
            ],
            [
             1,
             "#fde725"
            ]
           ]
          },
          "colorway": [
           "#91268F",
           "#8CC63E",
           "#00A7A0",
           "#F05A28",
           "#4C4C4C",
           "#630460",
           "#9f3913",
           "#588527",
           "#00716c",
           "#3e4040"
          ],
          "font": {
           "color": "rgb(36,36,36)",
           "family": "Poppins",
           "size": 11
          },
          "geo": {
           "bgcolor": "white",
           "lakecolor": "white",
           "landcolor": "white",
           "showlakes": true,
           "showland": true,
           "subunitcolor": "white"
          },
          "hoverlabel": {
           "align": "left"
          },
          "hovermode": "closest",
          "mapbox": {
           "style": "light"
          },
          "paper_bgcolor": "white",
          "plot_bgcolor": "white",
          "polar": {
           "angularaxis": {
            "gridcolor": "rgb(232,232,232)",
            "linecolor": "rgb(36,36,36)",
            "showgrid": false,
            "showline": true,
            "ticks": "outside"
           },
           "bgcolor": "white",
           "radialaxis": {
            "gridcolor": "rgb(232,232,232)",
            "linecolor": "rgb(36,36,36)",
            "showgrid": false,
            "showline": true,
            "ticks": "outside"
           }
          },
          "scene": {
           "xaxis": {
            "backgroundcolor": "white",
            "gridcolor": "rgb(232,232,232)",
            "gridwidth": 2,
            "linecolor": "rgb(36,36,36)",
            "showbackground": true,
            "showgrid": false,
            "showline": true,
            "ticks": "outside",
            "zeroline": false,
            "zerolinecolor": "rgb(36,36,36)"
           },
           "yaxis": {
            "backgroundcolor": "white",
            "gridcolor": "rgb(232,232,232)",
            "gridwidth": 2,
            "linecolor": "rgb(36,36,36)",
            "showbackground": true,
            "showgrid": false,
            "showline": true,
            "ticks": "outside",
            "zeroline": false,
            "zerolinecolor": "rgb(36,36,36)"
           },
           "zaxis": {
            "backgroundcolor": "white",
            "gridcolor": "rgb(232,232,232)",
            "gridwidth": 2,
            "linecolor": "rgb(36,36,36)",
            "showbackground": true,
            "showgrid": false,
            "showline": true,
            "ticks": "outside",
            "zeroline": false,
            "zerolinecolor": "rgb(36,36,36)"
           }
          },
          "shapedefaults": {
           "fillcolor": "black",
           "line": {
            "width": 0
           },
           "opacity": 0.3
          },
          "ternary": {
           "aaxis": {
            "gridcolor": "rgb(232,232,232)",
            "linecolor": "rgb(36,36,36)",
            "showgrid": false,
            "showline": true,
            "ticks": "outside"
           },
           "baxis": {
            "gridcolor": "rgb(232,232,232)",
            "linecolor": "rgb(36,36,36)",
            "showgrid": false,
            "showline": true,
            "ticks": "outside"
           },
           "bgcolor": "white",
           "caxis": {
            "gridcolor": "rgb(232,232,232)",
            "linecolor": "rgb(36,36,36)",
            "showgrid": false,
            "showline": true,
            "ticks": "outside"
           }
          },
          "title": {
           "x": 0.05
          },
          "xaxis": {
           "automargin": true,
           "gridcolor": "rgb(232,232,232)",
           "linecolor": "rgb(36,36,36)",
           "showgrid": false,
           "showline": true,
           "ticks": "outside",
           "title": {
            "standoff": 15
           },
           "zeroline": false,
           "zerolinecolor": "rgb(36,36,36)"
          },
          "yaxis": {
           "automargin": true,
           "gridcolor": "rgb(232,232,232)",
           "linecolor": "rgb(36,36,36)",
           "showgrid": false,
           "showline": true,
           "ticks": "outside",
           "title": {
            "standoff": 15
           },
           "zeroline": false,
           "zerolinecolor": "rgb(36,36,36)"
          }
         }
        },
        "title": {
         "text": "Park and Ride Usage vs Observed Data"
        }
       }
      },
      "text/html": [
       "<div>                            <div id=\"71f93a90-3d84-4958-b8ba-18167d9cb674\" class=\"plotly-graph-div\" style=\"height:525px; width:100%;\"></div>            <script type=\"text/javascript\">                require([\"plotly\"], function(Plotly) {                    window.PLOTLYENV=window.PLOTLYENV || {};                                    if (document.getElementById(\"71f93a90-3d84-4958-b8ba-18167d9cb674\")) {                    Plotly.newPlot(                        \"71f93a90-3d84-4958-b8ba-18167d9cb674\",                        [{\"customdata\":[[\"Tacoma Dome Station\",3752,250,2337,-782],[\"Mukilteo Station\",3756,3,63,-23],[\"Crossroads Neighborhood Church\",3763,5,107,-10],[\"Redondo Heights P&R\",3765,5,697,-89],[\"Duvall P&R\",3767,2,49,-13],[\"Parkland Transit Center\",3770,11,62,8],[\"South Tacoma West\",3774,12,78,9],[\"Narrows P&R\",3776,1,195,-37],[\"North Purdy\\u002fPurdy Crescent\",3777,2,200,-27],[\"Auburn P&R\",3782,9,244,-44],[\"Holy Spirit Lutheran Church\",3784,20,40,11],[\"Burien Transit Center\",3787,22,488,-15],[\"South Renton P&R\",3790,30,385,-152],[\"Issaquah Transit Center\",3792,20,819,-162],[\"Mercer Island P&R\",3793,221,447,-49],[\"Newport Hills P&R\",3795,5,275,-42],[\"Newport Covenant Church\",3797,2,75,-17],[\"South Bellevue P&R\",3798,49,519,-65],[\"Eastgate P&R\",3800,44,1614,-679],[\"North Bend P&R\",3801,7,80,-1],[\"South Kirkland P&R\",3804,19,833,-293],[\"Overlake P&R\",3805,54,203,-23],[\"Houghton P&R\",3806,8,470,-8],[\"Redmond P&R\",3808,53,377,-277],[\"Valley Center\",3810,5,55,1],[\"Bear Creek P&R\",3811,21,283,-91],[\"Kingsgate P&R\",3812,51,502,-93],[\"Kenmore P&R\",3815,46,603,-100],[\"Bothell P&R\",3817,61,220,-10],[\"Woodinville P&R\",3818,14,438,-25],[\"Ober Park\",3826,6,48,-1],[\"Edmonds Station\",3830,1,259,-50],[\"Edmonds P&R\",3831,7,255,-17],[\"Mariner P&R\",3834,29,667,-58],[\"Arlington P&R\",3839,4,25,-1],[\"Port Orchard Armory\",3843,125,105,32],[\"Bethany Lutheran Church\",3846,22,80,9],[\"Gateway Fellowship\",3847,5,138,-33],[\"Suquamish United Church of Christ\",3850,1,65,-2],[\"Eastmont P&R\",3863,1,389,-15],[\"Canyon Park P&R\",3865,14,302,-97],[\"Harper Evangelical Free Church\",3870,12,462,-40],[\"South Hill P&R\",3877,10,354,-34],[\"Preston P&R\",3883,43,53,28],[\"Bayside Community Church\",3884,4,210,-20],[\"Renton City Municipal Garage\",3894,15,150,11],[\"Tibbetts Lot\",3895,8,170,-1],[\"Maple Valley Town Square\",3898,6,90,-53],[\"All Saints Lutheran Church\",3899,10,75,-10],[\"City View Church\",3900,80,96,80],[\"Redmond Ridge P&R\",3903,1,52,-5],[\"Nativity Lutheran Church\",3905,3,49,2],[\"Everett Station\",3908,91,160,-197],[\"Tukwila Station (CR)\",3751,106,390,-27],[\"Everett Station (CR)\",3754,64,1107,-224],[\"Sumner Station (CR)\",3755,271,350,-24],[\"Kent Station (CR)\",3757,414,996,10],[\"Auburn Station (CR)\",3758,701,633,406],[\"Lakewood (CR)\",3759,3,601,-163],[\"Gateway P&R\",3760,44,104,12],[\"Puyallup Station (SB)\",3761,6,50,-526],[\"Twin Lakes P&R\",3762,4,600,-1],[\"Overlake Transit Center\",3764,127,222,114],[\"North Gig Harbor\\u002fKimball Drive\",3766,8,306,-29],[\"Roy 'Y' P&R\",3768,1,100,-7],[\"SR-512\\u002fI-5 (Lakewood)\",3771,14,493,-230],[\"Center Street P&R\",3772,12,75,7],[\"South Tacoma East - 2\",3775,3,44,-4],[\"South Federal P&R\",3779,10,515,-13],[\"Sultan P&R\",3780,2,64,1],[\"Federal Way P&R (320th)\",3781,100,877,78],[\"Kent\\u002fDes Moines P&R\",3785,11,404,-45],[\"Kent\\u002fJames St. P&R\",3786,88,713,34],[\"Tukwila\",3788,27,267,-179],[\"Renton Highlands P&R (St. Matts)\",3791,2,128,-18],[\"Mercer Island Presbyterian\",3794,22,30,12],[\"Wilburton\",3799,17,186,-44],[\"Evergreen Point P&R\",3802,20,38,-30],[\"Bethel Lutheran\",3807,3,40,2],[\"Brickyard P&R\",3813,4,443,-100],[\"Bethany Bible Church\",3816,77,75,65],[\"Olson & Meyers\",3819,20,100,-13],[\"Spokane Street P&R\",3820,57,55,47],[\"Greenlake P&R\",3821,839,411,604],[\"Northgate TC\",3822,909,1509,485],[\"Shoreline\",3824,41,393,-156],[\"112th St. & I-5\",3825,7,397,-279],[\"Mountlake Terrace P&R\",3828,34,880,-247],[\"Bethesda Lutheran\",3829,9,20,5],[\"Lynnwood P&R\",3832,15,1398,-66],[\"Swamp Creek P&R\",3833,15,410,-39],[\"Snohomish\",3835,7,104,-4],[\"116th & I-5 - Marysville\",3837,1,57,-16],[\"Monroe\",3841,7,102,-3],[\"Federal Way\",3842,42,1190,-579],[\"Puyallup Station (NB)\",3852,161,364,-371],[\"72nd Street Transit Center\",3853,2,68,1],[\"DuPont\",3855,1,109,-33],[\"Aurora Village TC\",3856,69,202,-1],[\"Aurora Nazarene\",3857,61,116,24],[\"Lake Meridian P&R\",3861,8,172,4],[\"Smokey Pt. Church\",3862,8,50,-5],[\"McCollum Park P&R\",3864,13,409,-50],[\"Korean Presby. P&R\",3866,11,25,6],[\"Mullenix Road\",3871,4,92,-66],[\"TCC P&R\",3873,18,95,-45],[\"Ash Way P&R\",3874,67,1022,-595],[\"Bonney Lake P&R\",3875,3,356,-76],[\"Tukwila Int. Station\",3876,557,662,-13],[\"South Tacoma East - 1\",3878,3,33,-5],[\"Issaquah Highlands\",3879,38,1010,-128],[\"Lake Stevens TC\",3880,8,207,-58],[\"Puyallup Fair's Red Lot\",3888,322,219,307],[\"Marysville - Cedar & Grove\",3889,6,213,-63],[\"Marysville I P&R\",3891,4,74,-5],[\"Martha Lake Covenant Church\",3892,3,75,-12],[\"South Sammammish P&R\",3893,2,265,-15],[\"Renton Transit Center\",3896,16,150,12],[\"Sammamish Lutheran P&R\",3902,2,54,-6],[\"Kennydale United Methodist Church\",3904,1,50,-10],[\"South SeaTac (LR)\",3907,1171,1160,177]],\"hovertemplate\":\"lat=%{lat}\\u003cbr\\u003elon=%{lon}\\u003cbr\\u003ename=%{customdata[0]}\\u003cbr\\u003eZoneID=%{customdata[1]}\\u003cbr\\u003eboardings=%{customdata[2]}\\u003cbr\\u003eCapacity=%{customdata[3]}\\u003cbr\\u003eboardings - occupancy=%{customdata[4]}\\u003cbr\\u003epercent diff=%{marker.color}\\u003cextra\\u003e\\u003c\\u002fextra\\u003e\",\"lat\":[47.24058551505856,47.94920113850631,47.63164525679203,47.35504151814868,47.742819757175425,47.147910636682695,47.20551922986328,47.25600055943912,47.38923241473354,47.321418707465085,47.710422482815964,47.46951669011371,47.47271735402824,47.54213211171109,47.58878770878929,47.557044948772166,47.56412784223352,47.58628974362988,47.58058167806885,47.49597161762852,47.64418793825653,47.63297501321839,47.668161259777534,47.676498197243916,47.42287071417999,47.67416769460649,47.716304710074866,47.75869756770715,47.75945577077424,47.75702674620799,47.45193489352676,47.81083676224893,47.80550380658298,47.87927245742543,48.1962267586574,47.53346058448239,47.635074586962034,47.73391346720341,47.73326656630968,47.915775246026996,47.79421617170751,47.503952014160234,47.161513973097485,47.527290368668076,47.799606383865175,47.48065181683248,47.540500663812395,47.362614021751135,47.357193070668814,47.48028559998525,47.68558125502083,47.44356941764737,47.60111674308456,47.45978922388598,47.975529073958405,47.20104674348286,47.383968426714006,47.30596899365694,47.153297356412374,47.567182526516646,47.1930593000242,47.29373164287317,47.64429091052309,47.31636050413098,47.08271703410659,47.1614836893937,47.234001163743,47.20621980267127,47.28903958534349,47.86327743654254,47.311634074767746,47.39168541124455,47.38491055539441,47.4819754912041,47.50715257009107,47.57701117038493,47.60395052462608,47.63677537541405,47.75569011271219,47.74096350335556,47.75910884573482,47.52027134433463,47.57171240445629,47.67673424744246,47.70239264670543,47.76687501163499,47.89714816130343,47.78602219601041,47.78640356462111,47.81595656235212,47.85115731382444,47.931598639740535,48.100769121344904,47.86853030329036,47.3177117131759,47.192268370054144,47.192970227055056,47.08990238368787,47.77470971349453,47.75619702376564,47.36115261991309,48.15732409938088,47.880527487324606,47.782991515856864,47.46831133114312,47.24317779488538,47.85226436088265,47.17424771167385,47.4646263275234,47.206906711152484,47.5454788435191,47.99832911207097,47.18546025093644,48.06186291040974,48.050937654654625,47.85078707163063,47.582160965227075,47.481704657267464,47.60197065091635,47.518219014425505,47.42300118449206],\"legendgroup\":\"\",\"lon\":[-122.42560127575338,-122.29903842240785,-122.63765712362758,-122.30995179376971,-121.98519762021276,-122.43537890888092,-122.46333125501894,-122.53269206747679,-122.6254607199261,-122.22738652958233,-122.20748911656241,-122.33865347780969,-122.21402734947938,-122.06181405283014,-122.23166700469328,-122.18862142605792,-122.17018699168925,-122.19040717772546,-122.15248096655628,-121.78890988166995,-122.196922253886,-122.13560413046633,-122.18466442694303,-122.12357780585234,-122.46176154007155,-122.10086813884128,-122.18764495320512,-122.24193579375279,-122.20174576489308,-122.15150443349742,-122.4596252077271,-122.38443744744197,-122.33045949149354,-122.23819731210229,-122.12918349945092,-122.61873065421872,-122.5368423099349,-122.63927452061961,-122.5577978549231,-122.20398702400395,-122.21165459966568,-122.51509856039954,-122.30487382727742,-121.93698116342834,-122.50852962519735,-122.20850374635265,-122.06172938121478,-122.02014569186719,-122.29322817544987,-122.22017679668397,-122.03407277250997,-122.15522340373712,-122.63062144574651,-122.2414244855451,-122.19768600674931,-122.24474525052933,-122.23410290572726,-122.23148682359859,-122.49859625780292,-122.65169945877489,-122.29627773532202,-122.35994716264585,-122.13352975529753,-122.5855102757513,-122.4346751374792,-122.48323069711938,-122.49606313527855,-122.45953523712713,-122.32271583231764,-121.80233005000285,-122.30155944089654,-122.28801732435528,-122.24251564508461,-122.2689896182637,-122.18367729786219,-122.22740182134136,-122.18550879565194,-122.2379322839663,-122.31907158771672,-122.18801959930848,-122.25940315047508,-122.33619690714434,-122.36486482391673,-122.32074934998532,-122.32635492088791,-122.34680005427789,-122.2153929885049,-122.3145674940085,-122.30895658531607,-122.29397785716966,-122.27629203793643,-122.10076899814818,-122.1865006345836,-121.99607079075767,-122.30476449893273,-122.29638676047503,-122.41141509220098,-122.6408278816208,-122.34274347402066,-122.33571668026264,-122.16596991953243,-122.18235672487519,-122.22076405922407,-122.34737161450154,-122.62194815643332,-122.52528242848497,-122.25855246300434,-122.18490604650373,-122.28691091664143,-122.45925925521301,-122.01943199294729,-122.10379792258418,-122.29928692458974,-122.17950449728978,-122.1832656728556,-122.27113966009398,-122.03643032765581,-122.20744323893204,-122.03476711725796,-122.20130164689891,-122.29885098357384],\"marker\":{\"color\":[-0.7577519379844961,-0.8846153846153846,-0.6666666666666666,-0.9468085106382979,-0.8666666666666667,2.6666666666666665,3.0,-0.9736842105263158,-0.9310344827586207,-0.8301886792452831,1.2222222222222223,-0.40540540540540543,-0.8351648351648352,-0.8901098901098901,-0.1814814814814815,-0.8936170212765957,-0.8947368421052632,-0.5701754385964912,-0.9391424619640387,-0.125,-0.9391025641025641,-0.2987012987012987,-0.5,-0.8393939393939394,0.25,-0.8125,-0.6458333333333334,-0.684931506849315,-0.14084507042253522,-0.6410256410256411,-0.14285714285714285,-0.9803921568627451,-0.7083333333333334,-0.6666666666666666,-0.2,0.34408602150537637,0.6923076923076923,-0.868421052631579,-0.6666666666666666,-0.9375,-0.8738738738738738,-0.7692307692307693,-0.7727272727272727,1.8666666666666667,-0.8333333333333334,2.75,-0.1111111111111111,-0.8983050847457628,-0.5,null,-0.8333333333333334,2.0,-0.6840277777777778,-0.20300751879699247,-0.7777777777777778,-0.08135593220338982,0.024752475247524754,1.376271186440678,-0.9819277108433735,0.375,-0.9887218045112782,-0.2,8.76923076923077,-0.7837837837837838,-0.875,-0.9426229508196722,1.4,-0.5714285714285714,-0.5652173913043478,1.0,3.5454545454545454,-0.8035714285714286,0.6296296296296297,-0.8689320388349514,-0.9,1.2,-0.7213114754098361,-0.6,2.0,-0.9615384615384616,5.416666666666667,-0.3939393939393939,4.7,2.570212765957447,1.1438679245283019,-0.7918781725888325,-0.9755244755244755,-0.8790035587188612,1.25,-0.8148148148148148,-0.7222222222222222,-0.36363636363636365,-0.9411764705882353,-0.3,-0.9323671497584541,-0.6973684210526315,1.0,-0.9705882352941176,-0.014285714285714285,0.6486486486486487,1.0,-0.38461538461538464,-0.7936507936507936,1.2,-0.9428571428571428,-0.7142857142857143,-0.8987915407854985,-0.9620253164556962,-0.02280701754385965,-0.625,-0.7710843373493976,-0.8787878787878788,20.466666666666665,-0.9130434782608695,-0.5555555555555556,-0.8,-0.8823529411764706,3.0,-0.75,-0.9090909090909091,0.17806841046277666],\"coloraxis\":\"coloraxis\"},\"mode\":\"markers\",\"name\":\"\",\"showlegend\":false,\"subplot\":\"mapbox\",\"type\":\"scattermapbox\"}],                        {\"template\":{\"data\":{\"barpolar\":[{\"marker\":{\"line\":{\"color\":\"white\",\"width\":0.5},\"pattern\":{\"fillmode\":\"overlay\",\"size\":10,\"solidity\":0.2}},\"type\":\"barpolar\"}],\"bar\":[{\"error_x\":{\"color\":\"rgb(36,36,36)\"},\"error_y\":{\"color\":\"rgb(36,36,36)\"},\"marker\":{\"line\":{\"color\":\"white\",\"width\":0.5},\"pattern\":{\"fillmode\":\"overlay\",\"size\":10,\"solidity\":0.2}},\"type\":\"bar\"}],\"carpet\":[{\"aaxis\":{\"endlinecolor\":\"rgb(36,36,36)\",\"gridcolor\":\"white\",\"linecolor\":\"white\",\"minorgridcolor\":\"white\",\"startlinecolor\":\"rgb(36,36,36)\"},\"baxis\":{\"endlinecolor\":\"rgb(36,36,36)\",\"gridcolor\":\"white\",\"linecolor\":\"white\",\"minorgridcolor\":\"white\",\"startlinecolor\":\"rgb(36,36,36)\"},\"type\":\"carpet\"}],\"choropleth\":[{\"colorbar\":{\"outlinewidth\":1,\"tickcolor\":\"rgb(36,36,36)\",\"ticks\":\"outside\"},\"type\":\"choropleth\"}],\"contourcarpet\":[{\"colorbar\":{\"outlinewidth\":1,\"tickcolor\":\"rgb(36,36,36)\",\"ticks\":\"outside\"},\"type\":\"contourcarpet\"}],\"contour\":[{\"colorbar\":{\"outlinewidth\":1,\"tickcolor\":\"rgb(36,36,36)\",\"ticks\":\"outside\"},\"colorscale\":[[0.0,\"#440154\"],[0.1111111111111111,\"#482878\"],[0.2222222222222222,\"#3e4989\"],[0.3333333333333333,\"#31688e\"],[0.4444444444444444,\"#26828e\"],[0.5555555555555556,\"#1f9e89\"],[0.6666666666666666,\"#35b779\"],[0.7777777777777778,\"#6ece58\"],[0.8888888888888888,\"#b5de2b\"],[1.0,\"#fde725\"]],\"type\":\"contour\"}],\"heatmapgl\":[{\"colorbar\":{\"outlinewidth\":1,\"tickcolor\":\"rgb(36,36,36)\",\"ticks\":\"outside\"},\"colorscale\":[[0.0,\"#440154\"],[0.1111111111111111,\"#482878\"],[0.2222222222222222,\"#3e4989\"],[0.3333333333333333,\"#31688e\"],[0.4444444444444444,\"#26828e\"],[0.5555555555555556,\"#1f9e89\"],[0.6666666666666666,\"#35b779\"],[0.7777777777777778,\"#6ece58\"],[0.8888888888888888,\"#b5de2b\"],[1.0,\"#fde725\"]],\"type\":\"heatmapgl\"}],\"heatmap\":[{\"colorbar\":{\"outlinewidth\":1,\"tickcolor\":\"rgb(36,36,36)\",\"ticks\":\"outside\"},\"colorscale\":[[0.0,\"#440154\"],[0.1111111111111111,\"#482878\"],[0.2222222222222222,\"#3e4989\"],[0.3333333333333333,\"#31688e\"],[0.4444444444444444,\"#26828e\"],[0.5555555555555556,\"#1f9e89\"],[0.6666666666666666,\"#35b779\"],[0.7777777777777778,\"#6ece58\"],[0.8888888888888888,\"#b5de2b\"],[1.0,\"#fde725\"]],\"type\":\"heatmap\"}],\"histogram2dcontour\":[{\"colorbar\":{\"outlinewidth\":1,\"tickcolor\":\"rgb(36,36,36)\",\"ticks\":\"outside\"},\"colorscale\":[[0.0,\"#440154\"],[0.1111111111111111,\"#482878\"],[0.2222222222222222,\"#3e4989\"],[0.3333333333333333,\"#31688e\"],[0.4444444444444444,\"#26828e\"],[0.5555555555555556,\"#1f9e89\"],[0.6666666666666666,\"#35b779\"],[0.7777777777777778,\"#6ece58\"],[0.8888888888888888,\"#b5de2b\"],[1.0,\"#fde725\"]],\"type\":\"histogram2dcontour\"}],\"histogram2d\":[{\"colorbar\":{\"outlinewidth\":1,\"tickcolor\":\"rgb(36,36,36)\",\"ticks\":\"outside\"},\"colorscale\":[[0.0,\"#440154\"],[0.1111111111111111,\"#482878\"],[0.2222222222222222,\"#3e4989\"],[0.3333333333333333,\"#31688e\"],[0.4444444444444444,\"#26828e\"],[0.5555555555555556,\"#1f9e89\"],[0.6666666666666666,\"#35b779\"],[0.7777777777777778,\"#6ece58\"],[0.8888888888888888,\"#b5de2b\"],[1.0,\"#fde725\"]],\"type\":\"histogram2d\"}],\"histogram\":[{\"marker\":{\"line\":{\"color\":\"white\",\"width\":0.6}},\"type\":\"histogram\"}],\"mesh3d\":[{\"colorbar\":{\"outlinewidth\":1,\"tickcolor\":\"rgb(36,36,36)\",\"ticks\":\"outside\"},\"type\":\"mesh3d\"}],\"parcoords\":[{\"line\":{\"colorbar\":{\"outlinewidth\":1,\"tickcolor\":\"rgb(36,36,36)\",\"ticks\":\"outside\"}},\"type\":\"parcoords\"}],\"pie\":[{\"automargin\":true,\"type\":\"pie\"}],\"scatter3d\":[{\"line\":{\"colorbar\":{\"outlinewidth\":1,\"tickcolor\":\"rgb(36,36,36)\",\"ticks\":\"outside\"}},\"marker\":{\"colorbar\":{\"outlinewidth\":1,\"tickcolor\":\"rgb(36,36,36)\",\"ticks\":\"outside\"}},\"type\":\"scatter3d\"}],\"scattercarpet\":[{\"marker\":{\"colorbar\":{\"outlinewidth\":1,\"tickcolor\":\"rgb(36,36,36)\",\"ticks\":\"outside\"}},\"type\":\"scattercarpet\"}],\"scattergeo\":[{\"marker\":{\"colorbar\":{\"outlinewidth\":1,\"tickcolor\":\"rgb(36,36,36)\",\"ticks\":\"outside\"}},\"type\":\"scattergeo\"}],\"scattergl\":[{\"marker\":{\"colorbar\":{\"outlinewidth\":1,\"tickcolor\":\"rgb(36,36,36)\",\"ticks\":\"outside\"}},\"type\":\"scattergl\"}],\"scattermapbox\":[{\"marker\":{\"colorbar\":{\"outlinewidth\":1,\"tickcolor\":\"rgb(36,36,36)\",\"ticks\":\"outside\"}},\"type\":\"scattermapbox\"}],\"scatterpolargl\":[{\"marker\":{\"colorbar\":{\"outlinewidth\":1,\"tickcolor\":\"rgb(36,36,36)\",\"ticks\":\"outside\"}},\"type\":\"scatterpolargl\"}],\"scatterpolar\":[{\"marker\":{\"colorbar\":{\"outlinewidth\":1,\"tickcolor\":\"rgb(36,36,36)\",\"ticks\":\"outside\"}},\"type\":\"scatterpolar\"}],\"scatter\":[{\"fillpattern\":{\"fillmode\":\"overlay\",\"size\":10,\"solidity\":0.2},\"type\":\"scatter\"}],\"scatterternary\":[{\"marker\":{\"colorbar\":{\"outlinewidth\":1,\"tickcolor\":\"rgb(36,36,36)\",\"ticks\":\"outside\"}},\"type\":\"scatterternary\"}],\"surface\":[{\"colorbar\":{\"outlinewidth\":1,\"tickcolor\":\"rgb(36,36,36)\",\"ticks\":\"outside\"},\"colorscale\":[[0.0,\"#440154\"],[0.1111111111111111,\"#482878\"],[0.2222222222222222,\"#3e4989\"],[0.3333333333333333,\"#31688e\"],[0.4444444444444444,\"#26828e\"],[0.5555555555555556,\"#1f9e89\"],[0.6666666666666666,\"#35b779\"],[0.7777777777777778,\"#6ece58\"],[0.8888888888888888,\"#b5de2b\"],[1.0,\"#fde725\"]],\"type\":\"surface\"}],\"table\":[{\"cells\":{\"fill\":{\"color\":\"rgb(237,237,237)\"},\"line\":{\"color\":\"white\"}},\"header\":{\"fill\":{\"color\":\"rgb(217,217,217)\"},\"line\":{\"color\":\"white\"}},\"type\":\"table\"}]},\"layout\":{\"annotationdefaults\":{\"arrowhead\":0,\"arrowwidth\":1},\"autotypenumbers\":\"strict\",\"coloraxis\":{\"colorbar\":{\"outlinewidth\":1,\"tickcolor\":\"rgb(36,36,36)\",\"ticks\":\"outside\"}},\"colorscale\":{\"diverging\":[[0.0,\"rgb(103,0,31)\"],[0.1,\"rgb(178,24,43)\"],[0.2,\"rgb(214,96,77)\"],[0.3,\"rgb(244,165,130)\"],[0.4,\"rgb(253,219,199)\"],[0.5,\"rgb(247,247,247)\"],[0.6,\"rgb(209,229,240)\"],[0.7,\"rgb(146,197,222)\"],[0.8,\"rgb(67,147,195)\"],[0.9,\"rgb(33,102,172)\"],[1.0,\"rgb(5,48,97)\"]],\"sequential\":[[0.0,\"#440154\"],[0.1111111111111111,\"#482878\"],[0.2222222222222222,\"#3e4989\"],[0.3333333333333333,\"#31688e\"],[0.4444444444444444,\"#26828e\"],[0.5555555555555556,\"#1f9e89\"],[0.6666666666666666,\"#35b779\"],[0.7777777777777778,\"#6ece58\"],[0.8888888888888888,\"#b5de2b\"],[1.0,\"#fde725\"]],\"sequentialminus\":[[0.0,\"#440154\"],[0.1111111111111111,\"#482878\"],[0.2222222222222222,\"#3e4989\"],[0.3333333333333333,\"#31688e\"],[0.4444444444444444,\"#26828e\"],[0.5555555555555556,\"#1f9e89\"],[0.6666666666666666,\"#35b779\"],[0.7777777777777778,\"#6ece58\"],[0.8888888888888888,\"#b5de2b\"],[1.0,\"#fde725\"]]},\"colorway\":[\"#91268F\",\"#8CC63E\",\"#00A7A0\",\"#F05A28\",\"#4C4C4C\",\"#630460\",\"#9f3913\",\"#588527\",\"#00716c\",\"#3e4040\"],\"font\":{\"color\":\"rgb(36,36,36)\",\"family\":\"Poppins\",\"size\":11},\"geo\":{\"bgcolor\":\"white\",\"lakecolor\":\"white\",\"landcolor\":\"white\",\"showlakes\":true,\"showland\":true,\"subunitcolor\":\"white\"},\"hoverlabel\":{\"align\":\"left\"},\"hovermode\":\"closest\",\"mapbox\":{\"style\":\"light\"},\"paper_bgcolor\":\"white\",\"plot_bgcolor\":\"white\",\"polar\":{\"angularaxis\":{\"gridcolor\":\"rgb(232,232,232)\",\"linecolor\":\"rgb(36,36,36)\",\"showgrid\":false,\"showline\":true,\"ticks\":\"outside\"},\"bgcolor\":\"white\",\"radialaxis\":{\"gridcolor\":\"rgb(232,232,232)\",\"linecolor\":\"rgb(36,36,36)\",\"showgrid\":false,\"showline\":true,\"ticks\":\"outside\"}},\"scene\":{\"xaxis\":{\"backgroundcolor\":\"white\",\"gridcolor\":\"rgb(232,232,232)\",\"gridwidth\":2,\"linecolor\":\"rgb(36,36,36)\",\"showbackground\":true,\"showgrid\":false,\"showline\":true,\"ticks\":\"outside\",\"zeroline\":false,\"zerolinecolor\":\"rgb(36,36,36)\"},\"yaxis\":{\"backgroundcolor\":\"white\",\"gridcolor\":\"rgb(232,232,232)\",\"gridwidth\":2,\"linecolor\":\"rgb(36,36,36)\",\"showbackground\":true,\"showgrid\":false,\"showline\":true,\"ticks\":\"outside\",\"zeroline\":false,\"zerolinecolor\":\"rgb(36,36,36)\"},\"zaxis\":{\"backgroundcolor\":\"white\",\"gridcolor\":\"rgb(232,232,232)\",\"gridwidth\":2,\"linecolor\":\"rgb(36,36,36)\",\"showbackground\":true,\"showgrid\":false,\"showline\":true,\"ticks\":\"outside\",\"zeroline\":false,\"zerolinecolor\":\"rgb(36,36,36)\"}},\"shapedefaults\":{\"fillcolor\":\"black\",\"line\":{\"width\":0},\"opacity\":0.3},\"ternary\":{\"aaxis\":{\"gridcolor\":\"rgb(232,232,232)\",\"linecolor\":\"rgb(36,36,36)\",\"showgrid\":false,\"showline\":true,\"ticks\":\"outside\"},\"baxis\":{\"gridcolor\":\"rgb(232,232,232)\",\"linecolor\":\"rgb(36,36,36)\",\"showgrid\":false,\"showline\":true,\"ticks\":\"outside\"},\"bgcolor\":\"white\",\"caxis\":{\"gridcolor\":\"rgb(232,232,232)\",\"linecolor\":\"rgb(36,36,36)\",\"showgrid\":false,\"showline\":true,\"ticks\":\"outside\"}},\"title\":{\"x\":0.05},\"xaxis\":{\"automargin\":true,\"gridcolor\":\"rgb(232,232,232)\",\"linecolor\":\"rgb(36,36,36)\",\"showgrid\":false,\"showline\":true,\"ticks\":\"outside\",\"title\":{\"standoff\":15},\"zeroline\":false,\"zerolinecolor\":\"rgb(36,36,36)\"},\"yaxis\":{\"automargin\":true,\"gridcolor\":\"rgb(232,232,232)\",\"linecolor\":\"rgb(36,36,36)\",\"showgrid\":false,\"showline\":true,\"ticks\":\"outside\",\"title\":{\"standoff\":15},\"zeroline\":false,\"zerolinecolor\":\"rgb(36,36,36)\"}}},\"mapbox\":{\"domain\":{\"x\":[0.0,1.0],\"y\":[0.0,1.0]},\"center\":{\"lat\":47.569613747321654,\"lon\":-122.27979420732083},\"zoom\":8,\"style\":\"carto-positron\"},\"coloraxis\":{\"colorbar\":{\"title\":{\"text\":\"percent diff\"}},\"colorscale\":[[0.0,\"#440154\"],[0.1111111111111111,\"#482878\"],[0.2222222222222222,\"#3e4989\"],[0.3333333333333333,\"#31688e\"],[0.4444444444444444,\"#26828e\"],[0.5555555555555556,\"#1f9e89\"],[0.6666666666666666,\"#35b779\"],[0.7777777777777778,\"#6ece58\"],[0.8888888888888888,\"#b5de2b\"],[1.0,\"#fde725\"]]},\"legend\":{\"tracegroupgap\":0},\"title\":{\"text\":\"Park and Ride Usage vs Observed Data\"},\"margin\":{\"r\":0,\"t\":0,\"l\":0,\"b\":0}},                        {\"responsive\": true}                    ).then(function(){\n",
       "                            \n",
       "var gd = document.getElementById('71f93a90-3d84-4958-b8ba-18167d9cb674');\n",
       "var x = new MutationObserver(function (mutations, observer) {{\n",
       "        var display = window.getComputedStyle(gd).display;\n",
       "        if (!display || display === 'none') {{\n",
       "            console.log([gd, 'removed!']);\n",
       "            Plotly.purge(gd);\n",
       "            observer.disconnect();\n",
       "        }}\n",
       "}});\n",
       "\n",
       "// Listen for the removal of the full notebook cells\n",
       "var notebookContainer = gd.closest('#notebook-container');\n",
       "if (notebookContainer) {{\n",
       "    x.observe(notebookContainer, {childList: true});\n",
       "}}\n",
       "\n",
       "// Listen for the clearing of the current output cell\n",
       "var outputEl = gd.closest('.output');\n",
       "if (outputEl) {{\n",
       "    x.observe(outputEl, {childList: true});\n",
       "}}\n",
       "\n",
       "                        })                };                });            </script>        </div>"
      ]
     },
     "metadata": {},
     "output_type": "display_data"
    }
   ],
   "source": [
    "fig = px.scatter_mapbox(gdf_p_r_data, lat=gdf_p_r_data.geometry.y, lon=gdf_p_r_data.geometry.x, color='percent diff', \n",
    "                        hover_data=['name','ZoneID','boardings', 'Capacity', 'boardings - occupancy'], \n",
    "                        title='Park and Ride Usage vs Observed Data', zoom=8)\n",
    "fig.update_layout(mapbox_style=\"carto-positron\")\n",
    "fig.update_layout(margin={\"r\":0,\"t\":0,\"l\":0,\"b\":0})\n",
    "\n",
    "fig.show()"
   ]
  },
  {
   "cell_type": "code",
   "execution_count": 59,
   "id": "0a1c2aa4",
   "metadata": {},
   "outputs": [
    {
     "data": {
      "application/vnd.microsoft.datawrangler.viewer.v0+json": {
       "columns": [
        {
         "name": "index",
         "rawType": "int64",
         "type": "integer"
        },
        {
         "name": "ZoneID",
         "rawType": "int64",
         "type": "integer"
        },
        {
         "name": "data_year",
         "rawType": "int64",
         "type": "integer"
        },
        {
         "name": "name",
         "rawType": "object",
         "type": "string"
        },
        {
         "name": "city",
         "rawType": "object",
         "type": "string"
        },
        {
         "name": "capacity",
         "rawType": "int64",
         "type": "integer"
        },
        {
         "name": "occupancy",
         "rawType": "int64",
         "type": "integer"
        },
        {
         "name": "boardings",
         "rawType": "int64",
         "type": "integer"
        },
        {
         "name": "boardings - occupancy",
         "rawType": "int64",
         "type": "integer"
        },
        {
         "name": "percent diff",
         "rawType": "float64",
         "type": "float"
        }
       ],
       "conversionMethod": "pd.DataFrame",
       "ref": "634bca04-eef9-444b-b01c-5777058311ee",
       "rows": [
        [
         "34",
         "3839",
         "2023",
         "Arlington P&R",
         "Arlington",
         "25",
         "5",
         "4",
         "-1",
         "-0.2"
        ],
        [
         "101",
         "3862",
         "2023",
         "Smokey Pt. Church",
         "Arlington",
         "50",
         "13",
         "8",
         "-5",
         "-0.38461538461538464"
        ],
        [
         "48",
         "3899",
         "2023",
         "All Saints Lutheran Church",
         "Auburn",
         "75",
         "20",
         "10",
         "-10",
         "-0.5"
        ],
        [
         "9",
         "3782",
         "2023",
         "Auburn P&R",
         "Auburn",
         "244",
         "53",
         "9",
         "-44",
         "-0.8301886792452831"
        ],
        [
         "57",
         "3758",
         "2023",
         "Auburn Station (CR)",
         "Auburn",
         "520",
         "295",
         "701",
         "406",
         "1.376271186440678"
        ],
        [
         "36",
         "3846",
         "2023",
         "Bethany Lutheran Church",
         "Bainbridge Island",
         "80",
         "13",
         "22",
         "9",
         "0.6923076923076923"
        ],
        [
         "18",
         "3800",
         "2023",
         "Eastgate P&R",
         "Bellevue",
         "2917",
         "723",
         "44",
         "-679",
         "-0.9391424619640387"
        ],
        [
         "16",
         "3797",
         "2023",
         "Newport Covenant Church",
         "Bellevue",
         "75",
         "19",
         "2",
         "-17",
         "-0.8947368421052632"
        ],
        [
         "15",
         "3795",
         "2023",
         "Newport Hills P&R",
         "Bellevue",
         "275",
         "47",
         "5",
         "-42",
         "-0.8936170212765957"
        ],
        [
         "17",
         "3798",
         "2023",
         "South Bellevue P&R",
         "Bellevue",
         "1500",
         "114",
         "49",
         "-65",
         "-0.5701754385964912"
        ],
        [
         "76",
         "3799",
         "2023",
         "Wilburton",
         "Bellevue",
         "186",
         "61",
         "17",
         "-44",
         "-0.7213114754098361"
        ],
        [
         "107",
         "3875",
         "2023",
         "Bonney Lake P&R",
         "Bonney Lake",
         "359",
         "79",
         "3",
         "-76",
         "-0.9620253164556962"
        ],
        [
         "28",
         "3817",
         "2023",
         "Bothell P&R",
         "Bothell",
         "220",
         "71",
         "61",
         "-10",
         "-0.14084507042253522"
        ],
        [
         "79",
         "3813",
         "2023",
         "Brickyard P&R",
         "Bothell",
         "443",
         "104",
         "4",
         "-100",
         "-0.9615384615384616"
        ],
        [
         "40",
         "3865",
         "2023",
         "Canyon Park P&R",
         "Bothell",
         "286",
         "111",
         "14",
         "-97",
         "-0.8738738738738738"
        ],
        [
         "2",
         "3763",
         "2023",
         "Crossroads Neighborhood Church",
         "Bremerton",
         "107",
         "15",
         "5",
         "-10",
         "-0.6666666666666666"
        ],
        [
         "59",
         "3760",
         "2023",
         "Gateway P&R",
         "Bremerton",
         "104",
         "32",
         "44",
         "12",
         "0.375"
        ],
        [
         "11",
         "3787",
         "2023",
         "Burien Transit Center",
         "Burien",
         "488",
         "37",
         "22",
         "-15",
         "-0.40540540540540543"
        ],
        [
         "97",
         "3855",
         "2023",
         "DuPont",
         "Dupont",
         "109",
         "34",
         "1",
         "-33",
         "-0.9705882352941176"
        ],
        [
         "4",
         "3767",
         "2023",
         "Duvall P&R",
         "Duvall",
         "49",
         "15",
         "2",
         "-13",
         "-0.8666666666666667"
        ],
        [
         "32",
         "3831",
         "2023",
         "Edmonds P&R",
         "Edmonds",
         "256",
         "24",
         "7",
         "-17",
         "-0.7083333333333334"
        ],
        [
         "31",
         "3830",
         "2023",
         "Edmonds Station",
         "Edmonds",
         "156",
         "51",
         "1",
         "-50",
         "-0.9803921568627451"
        ],
        [
         "103",
         "3866",
         "2023",
         "Korean Presby. P&R",
         "Edmonds",
         "58",
         "5",
         "11",
         "6",
         "1.2"
        ],
        [
         "86",
         "3825",
         "2023",
         "112th St. & I-5",
         "Everett",
         "398",
         "286",
         "7",
         "-279",
         "-0.9755244755244755"
        ],
        [
         "39",
         "3863",
         "2023",
         "Eastmont P&R",
         "Everett",
         "387",
         "16",
         "1",
         "-15",
         "-0.9375"
        ],
        [
         "52",
         "3908",
         "2023",
         "Everett Station",
         "Everett",
         "993",
         "288",
         "91",
         "-197",
         "-0.6840277777777778"
        ],
        [
         "54",
         "3754",
         "2023",
         "Everett Station (CR)",
         "Everett",
         "993",
         "288",
         "64",
         "-224",
         "-0.7777777777777778"
        ],
        [
         "33",
         "3834",
         "2023",
         "Mariner P&R",
         "Everett",
         "653",
         "87",
         "29",
         "-58",
         "-0.6666666666666666"
        ],
        [
         "102",
         "3864",
         "2023",
         "McCollum Park P&R",
         "Everett",
         "401",
         "63",
         "13",
         "-50",
         "-0.7936507936507936"
        ],
        [
         "94",
         "3842",
         "2023",
         "Federal Way",
         "Federal Way",
         "1190",
         "621",
         "42",
         "-579",
         "-0.9323671497584541"
        ],
        [
         "70",
         "3781",
         "2023",
         "Federal Way P&R (320th)",
         "Federal Way",
         "877",
         "22",
         "100",
         "78",
         "3.5454545454545454"
        ],
        [
         "3",
         "3765",
         "2023",
         "Redondo Heights P&R",
         "Federal Way",
         "697",
         "94",
         "5",
         "-89",
         "-0.9468085106382979"
        ],
        [
         "68",
         "3779",
         "2023",
         "South Federal P&R",
         "Federal Way",
         "515",
         "23",
         "10",
         "-13",
         "-0.5652173913043478"
        ],
        [
         "61",
         "3762",
         "2023",
         "Twin Lakes P&R",
         "Federal Way",
         "600",
         "5",
         "4",
         "-1",
         "-0.2"
        ],
        [
         "63",
         "3766",
         "2023",
         "North Gig Harbor/Kimball Drive",
         "Gig Harbor",
         "306",
         "37",
         "8",
         "-29",
         "-0.7837837837837838"
        ],
        [
         "8",
         "3777",
         "2023",
         "North Purdy/Purdy Crescent",
         "Gig Harbor",
         "220",
         "29",
         "2",
         "-27",
         "-0.9310344827586207"
        ],
        [
         "110",
         "3879",
         "2023",
         "Issaquah Highlands",
         "Issaquah",
         "1010",
         "166",
         "38",
         "-128",
         "-0.7710843373493976"
        ],
        [
         "13",
         "3792",
         "2023",
         "Issaquah Transit Center",
         "Issaquah",
         "819",
         "182",
         "20",
         "-162",
         "-0.8901098901098901"
        ],
        [
         "43",
         "3883",
         "2023",
         "Preston P&R",
         "Issaquah",
         "53",
         "15",
         "43",
         "28",
         "1.8666666666666667"
        ],
        [
         "46",
         "3895",
         "2023",
         "Tibbetts Lot",
         "Issaquah",
         "170",
         "9",
         "8",
         "-1",
         "-0.1111111111111111"
        ],
        [
         "80",
         "3816",
         "2023",
         "Bethany Bible Church",
         "Kenmore",
         "75",
         "12",
         "77",
         "65",
         "5.416666666666667"
        ],
        [
         "27",
         "3815",
         "2023",
         "Kenmore P&R",
         "Kenmore",
         "603",
         "146",
         "46",
         "-100",
         "-0.684931506849315"
        ],
        [
         "56",
         "3757",
         "2023",
         "Kent Station (CR)",
         "Kent",
         "877",
         "404",
         "414",
         "10",
         "0.024752475247524754"
        ],
        [
         "71",
         "3785",
         "2023",
         "Kent/Des Moines P&R",
         "Kent",
         "404",
         "56",
         "11",
         "-45",
         "-0.8035714285714286"
        ],
        [
         "72",
         "3786",
         "2023",
         "Kent/James St. P&R",
         "Kent",
         "713",
         "54",
         "88",
         "34",
         "0.6296296296296297"
        ],
        [
         "100",
         "3861",
         "2023",
         "Lake Meridian P&R",
         "Kent",
         "172",
         "4",
         "8",
         "4",
         "1.0"
        ],
        [
         "44",
         "3884",
         "2023",
         "Bayside Community Church",
         "Kingston",
         "210",
         "24",
         "4",
         "-20",
         "-0.8333333333333334"
        ],
        [
         "10",
         "3784",
         "2023",
         "Holy Spirit Lutheran Church",
         "Kirkland",
         "40",
         "9",
         "20",
         "11",
         "1.2222222222222223"
        ],
        [
         "22",
         "3806",
         "2023",
         "Houghton P&R",
         "Kirkland",
         "470",
         "16",
         "8",
         "-8",
         "-0.5"
        ],
        [
         "26",
         "3812",
         "2023",
         "Kingsgate P&R",
         "Kirkland",
         "502",
         "144",
         "51",
         "-93",
         "-0.6458333333333334"
        ]
       ],
       "shape": {
        "columns": 9,
        "rows": 121
       }
      },
      "text/html": [
       "<div>\n",
       "<style scoped>\n",
       "    .dataframe tbody tr th:only-of-type {\n",
       "        vertical-align: middle;\n",
       "    }\n",
       "\n",
       "    .dataframe tbody tr th {\n",
       "        vertical-align: top;\n",
       "    }\n",
       "\n",
       "    .dataframe thead th {\n",
       "        text-align: right;\n",
       "    }\n",
       "</style>\n",
       "<table border=\"1\" class=\"dataframe\">\n",
       "  <thead>\n",
       "    <tr style=\"text-align: right;\">\n",
       "      <th></th>\n",
       "      <th>ZoneID</th>\n",
       "      <th>data_year</th>\n",
       "      <th>name</th>\n",
       "      <th>city</th>\n",
       "      <th>capacity</th>\n",
       "      <th>occupancy</th>\n",
       "      <th>boardings</th>\n",
       "      <th>boardings - occupancy</th>\n",
       "      <th>percent diff</th>\n",
       "    </tr>\n",
       "  </thead>\n",
       "  <tbody>\n",
       "    <tr>\n",
       "      <th>34</th>\n",
       "      <td>3839</td>\n",
       "      <td>2023</td>\n",
       "      <td>Arlington P&amp;R</td>\n",
       "      <td>Arlington</td>\n",
       "      <td>25</td>\n",
       "      <td>5</td>\n",
       "      <td>4</td>\n",
       "      <td>-1</td>\n",
       "      <td>-0.20</td>\n",
       "    </tr>\n",
       "    <tr>\n",
       "      <th>101</th>\n",
       "      <td>3862</td>\n",
       "      <td>2023</td>\n",
       "      <td>Smokey Pt. Church</td>\n",
       "      <td>Arlington</td>\n",
       "      <td>50</td>\n",
       "      <td>13</td>\n",
       "      <td>8</td>\n",
       "      <td>-5</td>\n",
       "      <td>-0.38</td>\n",
       "    </tr>\n",
       "    <tr>\n",
       "      <th>48</th>\n",
       "      <td>3899</td>\n",
       "      <td>2023</td>\n",
       "      <td>All Saints Lutheran Church</td>\n",
       "      <td>Auburn</td>\n",
       "      <td>75</td>\n",
       "      <td>20</td>\n",
       "      <td>10</td>\n",
       "      <td>-10</td>\n",
       "      <td>-0.50</td>\n",
       "    </tr>\n",
       "    <tr>\n",
       "      <th>9</th>\n",
       "      <td>3782</td>\n",
       "      <td>2023</td>\n",
       "      <td>Auburn P&amp;R</td>\n",
       "      <td>Auburn</td>\n",
       "      <td>244</td>\n",
       "      <td>53</td>\n",
       "      <td>9</td>\n",
       "      <td>-44</td>\n",
       "      <td>-0.83</td>\n",
       "    </tr>\n",
       "    <tr>\n",
       "      <th>57</th>\n",
       "      <td>3758</td>\n",
       "      <td>2023</td>\n",
       "      <td>Auburn Station (CR)</td>\n",
       "      <td>Auburn</td>\n",
       "      <td>520</td>\n",
       "      <td>295</td>\n",
       "      <td>701</td>\n",
       "      <td>406</td>\n",
       "      <td>1.38</td>\n",
       "    </tr>\n",
       "    <tr>\n",
       "      <th>...</th>\n",
       "      <td>...</td>\n",
       "      <td>...</td>\n",
       "      <td>...</td>\n",
       "      <td>...</td>\n",
       "      <td>...</td>\n",
       "      <td>...</td>\n",
       "      <td>...</td>\n",
       "      <td>...</td>\n",
       "      <td>...</td>\n",
       "    </tr>\n",
       "    <tr>\n",
       "      <th>108</th>\n",
       "      <td>3876</td>\n",
       "      <td>2023</td>\n",
       "      <td>Tukwila Int. Station</td>\n",
       "      <td>Tukwila</td>\n",
       "      <td>600</td>\n",
       "      <td>570</td>\n",
       "      <td>557</td>\n",
       "      <td>-13</td>\n",
       "      <td>-0.02</td>\n",
       "    </tr>\n",
       "    <tr>\n",
       "      <th>53</th>\n",
       "      <td>3751</td>\n",
       "      <td>2023</td>\n",
       "      <td>Tukwila Station (CR)</td>\n",
       "      <td>Tukwila</td>\n",
       "      <td>390</td>\n",
       "      <td>133</td>\n",
       "      <td>106</td>\n",
       "      <td>-27</td>\n",
       "      <td>-0.20</td>\n",
       "    </tr>\n",
       "    <tr>\n",
       "      <th>30</th>\n",
       "      <td>3826</td>\n",
       "      <td>2023</td>\n",
       "      <td>Ober Park</td>\n",
       "      <td>Vashon Island</td>\n",
       "      <td>48</td>\n",
       "      <td>7</td>\n",
       "      <td>6</td>\n",
       "      <td>-1</td>\n",
       "      <td>-0.14</td>\n",
       "    </tr>\n",
       "    <tr>\n",
       "      <th>24</th>\n",
       "      <td>3810</td>\n",
       "      <td>2023</td>\n",
       "      <td>Valley Center</td>\n",
       "      <td>Vashon Island</td>\n",
       "      <td>55</td>\n",
       "      <td>4</td>\n",
       "      <td>5</td>\n",
       "      <td>1</td>\n",
       "      <td>0.25</td>\n",
       "    </tr>\n",
       "    <tr>\n",
       "      <th>29</th>\n",
       "      <td>3818</td>\n",
       "      <td>2023</td>\n",
       "      <td>Woodinville P&amp;R</td>\n",
       "      <td>Woodinville</td>\n",
       "      <td>438</td>\n",
       "      <td>39</td>\n",
       "      <td>14</td>\n",
       "      <td>-25</td>\n",
       "      <td>-0.64</td>\n",
       "    </tr>\n",
       "  </tbody>\n",
       "</table>\n",
       "<p>121 rows × 9 columns</p>\n",
       "</div>"
      ],
      "text/plain": [
       "     ZoneID  data_year                        name           city  capacity  \\\n",
       "34     3839       2023               Arlington P&R      Arlington        25   \n",
       "101    3862       2023           Smokey Pt. Church      Arlington        50   \n",
       "48     3899       2023  All Saints Lutheran Church         Auburn        75   \n",
       "9      3782       2023                  Auburn P&R         Auburn       244   \n",
       "57     3758       2023         Auburn Station (CR)         Auburn       520   \n",
       "..      ...        ...                         ...            ...       ...   \n",
       "108    3876       2023        Tukwila Int. Station        Tukwila       600   \n",
       "53     3751       2023        Tukwila Station (CR)        Tukwila       390   \n",
       "30     3826       2023                   Ober Park  Vashon Island        48   \n",
       "24     3810       2023               Valley Center  Vashon Island        55   \n",
       "29     3818       2023             Woodinville P&R    Woodinville       438   \n",
       "\n",
       "     occupancy  boardings  boardings - occupancy  percent diff  \n",
       "34           5          4                     -1         -0.20  \n",
       "101         13          8                     -5         -0.38  \n",
       "48          20         10                    -10         -0.50  \n",
       "9           53          9                    -44         -0.83  \n",
       "57         295        701                    406          1.38  \n",
       "..         ...        ...                    ...           ...  \n",
       "108        570        557                    -13         -0.02  \n",
       "53         133        106                    -27         -0.20  \n",
       "30           7          6                     -1         -0.14  \n",
       "24           4          5                      1          0.25  \n",
       "29          39         14                    -25         -0.64  \n",
       "\n",
       "[121 rows x 9 columns]"
      ]
     },
     "execution_count": 59,
     "metadata": {},
     "output_type": "execute_result"
    }
   ],
   "source": [
    "gdf_p_r_data[['ZoneID', 'data_year', 'name','city', 'capacity', 'occupancy', 'boardings', 'boardings - occupancy', 'percent diff']].sort_values(['city','name'])"
   ]
  },
  {
   "cell_type": "markdown",
   "id": "b3e80e5e",
   "metadata": {},
   "source": [
    "# Transit Submodes by Purpose\n",
    "Model Outputs Only (insufficient samples available from survey)"
   ]
  },
  {
   "cell_type": "code",
   "execution_count": null,
   "id": "5f0eb704",
   "metadata": {},
   "outputs": [],
   "source": [
    "import h5py\n",
    "myh5 = h5py.File(r'..\\..\\..\\..\\inputs\\scenario\\landuse\\hh_and_persons.h5', 'r')\n",
    "person = pd.read_csv(r'..\\..\\..\\..\\outputs\\daysim\\_person.tsv', sep='\\t')"
   ]
  },
  {
   "cell_type": "code",
   "execution_count": null,
   "id": "8205afa6",
   "metadata": {},
   "outputs": [],
   "source": [
    "# Create a DataFrame from the h5 file\n",
    "df_person = pd.DataFrame()\n",
    "for col in ['hhno','pno','prace']:\n",
    "    df_person[col] = myh5['Person'][col][:]\n",
    "\n",
    "df_trip = df_trip.merge(df_person[['hhno','pno','prace']], on=['hhno','pno'], how='left')"
   ]
  },
  {
   "cell_type": "code",
   "execution_count": null,
   "id": "f337be26",
   "metadata": {},
   "outputs": [
    {
     "data": {
      "text/html": [
       "<div>\n",
       "<style scoped>\n",
       "    .dataframe tbody tr th:only-of-type {\n",
       "        vertical-align: middle;\n",
       "    }\n",
       "\n",
       "    .dataframe tbody tr th {\n",
       "        vertical-align: top;\n",
       "    }\n",
       "\n",
       "    .dataframe thead th {\n",
       "        text-align: right;\n",
       "    }\n",
       "</style>\n",
       "<table border=\"1\" class=\"dataframe\">\n",
       "  <thead>\n",
       "    <tr style=\"text-align: right;\">\n",
       "      <th>Purpose Type</th>\n",
       "      <th>Work %</th>\n",
       "      <th>School %</th>\n",
       "      <th>Other %</th>\n",
       "    </tr>\n",
       "    <tr>\n",
       "      <th>Path Type</th>\n",
       "      <th></th>\n",
       "      <th></th>\n",
       "      <th></th>\n",
       "    </tr>\n",
       "  </thead>\n",
       "  <tbody>\n",
       "    <tr>\n",
       "      <th>Bus</th>\n",
       "      <td>14.8%</td>\n",
       "      <td>10.8%</td>\n",
       "      <td>74.4%</td>\n",
       "    </tr>\n",
       "    <tr>\n",
       "      <th>Commuter Rail</th>\n",
       "      <td>50.6%</td>\n",
       "      <td>2.0%</td>\n",
       "      <td>47.4%</td>\n",
       "    </tr>\n",
       "    <tr>\n",
       "      <th>Drive</th>\n",
       "      <td>19.6%</td>\n",
       "      <td>5.5%</td>\n",
       "      <td>74.8%</td>\n",
       "    </tr>\n",
       "    <tr>\n",
       "      <th>Ferry 1</th>\n",
       "      <td>37.0%</td>\n",
       "      <td>20.6%</td>\n",
       "      <td>42.4%</td>\n",
       "    </tr>\n",
       "    <tr>\n",
       "      <th>Ferry 2</th>\n",
       "      <td>62.9%</td>\n",
       "      <td>2.0%</td>\n",
       "      <td>35.1%</td>\n",
       "    </tr>\n",
       "    <tr>\n",
       "      <th>Light Rail</th>\n",
       "      <td>32.6%</td>\n",
       "      <td>6.2%</td>\n",
       "      <td>61.2%</td>\n",
       "    </tr>\n",
       "  </tbody>\n",
       "</table>\n",
       "</div>"
      ],
      "text/plain": [
       "Purpose Type  Work % School % Other %\n",
       "Path Type                            \n",
       "Bus            14.8%    10.8%   74.4%\n",
       "Commuter Rail  50.6%     2.0%   47.4%\n",
       "Drive          19.6%     5.5%   74.8%\n",
       "Ferry 1        37.0%    20.6%   42.4%\n",
       "Ferry 2        62.9%     2.0%   35.1%\n",
       "Light Rail     32.6%     6.2%   61.2%"
      ]
     },
     "execution_count": 43,
     "metadata": {},
     "output_type": "execute_result"
    }
   ],
   "source": [
    "# Create group of work, school, and all other purposes\n",
    "df_trip['Purpose Type'] = 'Other'\n",
    "df_trip.loc[df_trip['dpurp']==0, 'Purpose Type'] = 'Home'\n",
    "df_trip.loc[df_trip['dpurp']==1, 'Purpose Type'] = 'Work'\n",
    "df_trip.loc[df_trip['dpurp']==2, 'Purpose Type'] = 'School'\n",
    "\n",
    "# Rename path types\n",
    "df_trip.loc[df_trip['pathtype']==1, 'Path Type'] = 'Drive'\n",
    "df_trip.loc[df_trip['pathtype']==3, 'Path Type'] = 'Bus'\n",
    "df_trip.loc[df_trip['pathtype']==4, 'Path Type'] = 'Light Rail'\n",
    "df_trip.loc[df_trip['pathtype']==5, 'Path Type'] = 'Ferry 1'\n",
    "df_trip.loc[df_trip['pathtype']==6, 'Path Type'] = 'Commuter Rail'\n",
    "df_trip.loc[df_trip['pathtype']==7, 'Path Type'] = 'Ferry 2'\n",
    "\n",
    "df = pd.pivot_table(df_trip[(df_trip['dpurp']!=0) & (df_trip['pathtype']!=0)], values='trexpfac', index='Path Type', columns='Purpose Type', aggfunc=np.sum)\n",
    "\n",
    "df['Total'] = df.sum(axis=1)\n",
    "for row in df.index:\n",
    "    for col in ['Work','School','Other']:\n",
    "        df.loc[row, col + ' %'] = df.loc[row, col] / df.loc[row, 'Total']\n",
    "\n",
    "df[['Work %','School %','Other %']] = df[['Work %','School %','Other %']].applymap(\"{:,.1%}\".format)\n",
    "df[['Work %','School %','Other %']]"
   ]
  },
  {
   "cell_type": "markdown",
   "id": "87130c67",
   "metadata": {},
   "source": [
    "#### Transit Submodes by Person Race"
   ]
  },
  {
   "cell_type": "code",
   "execution_count": null,
   "id": "21bac916",
   "metadata": {},
   "outputs": [],
   "source": [
    "\n",
    "race_dict = {\n",
    "    '1': 'White alone',\n",
    "    '2': 'Black or African American alone',\n",
    "    '3': 'American Indian alone',\n",
    "    '4': 'Alaska Native alone',\n",
    "    '5': 'American Indian and Alaska Native tribes specified',\n",
    "    '6': 'Asian alone',\n",
    "    '7': 'Native Hawaiian and Other Pacific Islander alone',\n",
    "    '8': 'Some Other Race alone',\n",
    "    '9': 'Two or More Races'\n",
    "}\n",
    "\n",
    "\n",
    "df_trip['Race'] = df_trip['prace'].astype('int').astype('str').map(race_dict)"
   ]
  },
  {
   "cell_type": "code",
   "execution_count": null,
   "id": "c50c3d86",
   "metadata": {},
   "outputs": [],
   "source": [
    "# Submode Ridership by race\n",
    "df = pd.pivot_table(df_trip[(df_trip['pathtype']!=0)], values='trexpfac', index='Path Type', columns='Race', aggfunc=np.sum)\n",
    "race_cols = ['White alone','Black or African American alone','American Indian alone',\n",
    "             'Alaska Native alone','American Indian and Alaska Native tribes specified','Asian alone',\n",
    "             'Native Hawaiian and Other Pacific Islander alone','Some Other Race alone','Two or More Races']\n",
    "# Calculate shares of total by Race for each Path Type\n",
    "df['Total'] = df.sum(axis=1)\n",
    "for row in df.index:\n",
    "    for col in race_cols:\n",
    "        df.loc[row, col] = df.loc[row, col] / df.loc[row, 'Total']\n",
    "df[race_cols] = df[race_cols].applymap(\"{:,.1%}\".format)"
   ]
  },
  {
   "cell_type": "code",
   "execution_count": null,
   "id": "dbdfd700",
   "metadata": {},
   "outputs": [
    {
     "data": {
      "text/html": [
       "<div>\n",
       "<style scoped>\n",
       "    .dataframe tbody tr th:only-of-type {\n",
       "        vertical-align: middle;\n",
       "    }\n",
       "\n",
       "    .dataframe tbody tr th {\n",
       "        vertical-align: top;\n",
       "    }\n",
       "\n",
       "    .dataframe thead th {\n",
       "        text-align: right;\n",
       "    }\n",
       "</style>\n",
       "<table border=\"1\" class=\"dataframe\">\n",
       "  <thead>\n",
       "    <tr style=\"text-align: right;\">\n",
       "      <th>Race</th>\n",
       "      <th>White alone</th>\n",
       "      <th>Black or African American alone</th>\n",
       "      <th>American Indian alone</th>\n",
       "      <th>Alaska Native alone</th>\n",
       "      <th>American Indian and Alaska Native tribes specified</th>\n",
       "      <th>Asian alone</th>\n",
       "      <th>Native Hawaiian and Other Pacific Islander alone</th>\n",
       "      <th>Some Other Race alone</th>\n",
       "      <th>Two or More Races</th>\n",
       "    </tr>\n",
       "    <tr>\n",
       "      <th>Path Type</th>\n",
       "      <th></th>\n",
       "      <th></th>\n",
       "      <th></th>\n",
       "      <th></th>\n",
       "      <th></th>\n",
       "      <th></th>\n",
       "      <th></th>\n",
       "      <th></th>\n",
       "      <th></th>\n",
       "    </tr>\n",
       "  </thead>\n",
       "  <tbody>\n",
       "    <tr>\n",
       "      <th>Bus</th>\n",
       "      <td>59.4%</td>\n",
       "      <td>7.5%</td>\n",
       "      <td>0.6%</td>\n",
       "      <td>0.1%</td>\n",
       "      <td>0.1%</td>\n",
       "      <td>18.9%</td>\n",
       "      <td>0.6%</td>\n",
       "      <td>3.9%</td>\n",
       "      <td>9.0%</td>\n",
       "    </tr>\n",
       "    <tr>\n",
       "      <th>Commuter Rail</th>\n",
       "      <td>63.9%</td>\n",
       "      <td>7.5%</td>\n",
       "      <td>0.9%</td>\n",
       "      <td>0.1%</td>\n",
       "      <td>0.0%</td>\n",
       "      <td>11.0%</td>\n",
       "      <td>1.7%</td>\n",
       "      <td>5.6%</td>\n",
       "      <td>9.3%</td>\n",
       "    </tr>\n",
       "    <tr>\n",
       "      <th>Drive</th>\n",
       "      <td>64.7%</td>\n",
       "      <td>5.5%</td>\n",
       "      <td>0.6%</td>\n",
       "      <td>0.1%</td>\n",
       "      <td>0.1%</td>\n",
       "      <td>14.8%</td>\n",
       "      <td>1.0%</td>\n",
       "      <td>4.3%</td>\n",
       "      <td>8.9%</td>\n",
       "    </tr>\n",
       "    <tr>\n",
       "      <th>Ferry 1</th>\n",
       "      <td>77.6%</td>\n",
       "      <td>2.9%</td>\n",
       "      <td>0.5%</td>\n",
       "      <td>nan%</td>\n",
       "      <td>0.2%</td>\n",
       "      <td>6.1%</td>\n",
       "      <td>1.5%</td>\n",
       "      <td>2.7%</td>\n",
       "      <td>8.5%</td>\n",
       "    </tr>\n",
       "    <tr>\n",
       "      <th>Ferry 2</th>\n",
       "      <td>81.2%</td>\n",
       "      <td>2.7%</td>\n",
       "      <td>0.9%</td>\n",
       "      <td>0.1%</td>\n",
       "      <td>0.1%</td>\n",
       "      <td>4.1%</td>\n",
       "      <td>0.9%</td>\n",
       "      <td>2.7%</td>\n",
       "      <td>7.3%</td>\n",
       "    </tr>\n",
       "    <tr>\n",
       "      <th>Light Rail</th>\n",
       "      <td>57.9%</td>\n",
       "      <td>8.8%</td>\n",
       "      <td>0.5%</td>\n",
       "      <td>0.1%</td>\n",
       "      <td>0.1%</td>\n",
       "      <td>20.6%</td>\n",
       "      <td>0.5%</td>\n",
       "      <td>3.8%</td>\n",
       "      <td>7.8%</td>\n",
       "    </tr>\n",
       "  </tbody>\n",
       "</table>\n",
       "</div>"
      ],
      "text/plain": [
       "Race          White alone Black or African American alone  \\\n",
       "Path Type                                                   \n",
       "Bus                 59.4%                            7.5%   \n",
       "Commuter Rail       63.9%                            7.5%   \n",
       "Drive               64.7%                            5.5%   \n",
       "Ferry 1             77.6%                            2.9%   \n",
       "Ferry 2             81.2%                            2.7%   \n",
       "Light Rail          57.9%                            8.8%   \n",
       "\n",
       "Race          American Indian alone Alaska Native alone  \\\n",
       "Path Type                                                 \n",
       "Bus                            0.6%                0.1%   \n",
       "Commuter Rail                  0.9%                0.1%   \n",
       "Drive                          0.6%                0.1%   \n",
       "Ferry 1                        0.5%                nan%   \n",
       "Ferry 2                        0.9%                0.1%   \n",
       "Light Rail                     0.5%                0.1%   \n",
       "\n",
       "Race          American Indian and Alaska Native tribes specified Asian alone  \\\n",
       "Path Type                                                                      \n",
       "Bus                                                         0.1%       18.9%   \n",
       "Commuter Rail                                               0.0%       11.0%   \n",
       "Drive                                                       0.1%       14.8%   \n",
       "Ferry 1                                                     0.2%        6.1%   \n",
       "Ferry 2                                                     0.1%        4.1%   \n",
       "Light Rail                                                  0.1%       20.6%   \n",
       "\n",
       "Race          Native Hawaiian and Other Pacific Islander alone  \\\n",
       "Path Type                                                        \n",
       "Bus                                                       0.6%   \n",
       "Commuter Rail                                             1.7%   \n",
       "Drive                                                     1.0%   \n",
       "Ferry 1                                                   1.5%   \n",
       "Ferry 2                                                   0.9%   \n",
       "Light Rail                                                0.5%   \n",
       "\n",
       "Race          Some Other Race alone Two or More Races  \n",
       "Path Type                                              \n",
       "Bus                            3.9%              9.0%  \n",
       "Commuter Rail                  5.6%              9.3%  \n",
       "Drive                          4.3%              8.9%  \n",
       "Ferry 1                        2.7%              8.5%  \n",
       "Ferry 2                        2.7%              7.3%  \n",
       "Light Rail                     3.8%              7.8%  "
      ]
     },
     "execution_count": 46,
     "metadata": {},
     "output_type": "execute_result"
    }
   ],
   "source": [
    "df[race_cols]"
   ]
  }
 ],
 "metadata": {
  "kernelspec": {
   "display_name": "build_notebook",
   "language": "python",
   "name": "python3"
  },
  "language_info": {
   "codemirror_mode": {
    "name": "ipython",
    "version": 3
   },
   "file_extension": ".py",
   "mimetype": "text/x-python",
   "name": "python",
   "nbconvert_exporter": "python",
   "pygments_lexer": "ipython3",
   "version": "3.10.15"
  }
 },
 "nbformat": 4,
 "nbformat_minor": 5
}
