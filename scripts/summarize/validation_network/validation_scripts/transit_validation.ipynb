{
 "cells": [
  {
   "cell_type": "raw",
   "id": "48597e7e80043434",
   "metadata": {},
   "source": [
    "---\n",
    "title: \"Transit Summary\"\n",
    "date: today\n",
    "---"
   ]
  },
  {
   "cell_type": "code",
   "execution_count": null,
   "id": "3c1a81e12086b602",
   "metadata": {
    "ExecuteTime": {
     "end_time": "2024-06-24T20:05:20.341638Z",
     "start_time": "2024-06-24T20:05:20.232835Z"
    },
    "execution": {
     "iopub.execute_input": "2024-06-24T21:54:00.036541Z",
     "iopub.status.busy": "2024-06-24T21:54:00.036541Z",
     "iopub.status.idle": "2024-06-24T21:54:04.760522Z",
     "shell.execute_reply": "2024-06-24T21:54:04.760522Z"
    }
   },
   "outputs": [],
   "source": [
    "import os\n",
    "import pandas as pd\n",
    "import numpy as np\n",
    "from sqlalchemy import create_engine\n",
    "from scipy import stats\n",
    "import plotly.express as px\n",
    "import toml\n",
    "import psrc_theme\n",
    "\n",
    "%matplotlib inline\n",
    "from IPython.display import display, HTML\n",
    "\n",
    "# to show plotly figures in quarto HTML file\n",
    "import plotly.io as pio\n",
    "pio.renderers.default = \"plotly_mimetype+notebook_connected\"\n",
    "pio.templates.default = \"simple_white+psrc_color\" # set plotly template\n",
    "\n",
    "input_config = toml.load(os.path.join(os.getcwd(), '..\\\\..\\\\..\\\\..\\\\configuration', 'input_configuration.toml'))\n",
    "valid_config = toml.load(os.path.join(os.getcwd(), '..\\\\..\\\\..\\\\..\\\\configuration', 'validation_configuration.toml'))\n",
    "\n",
    "# create connection\n",
    "conn = create_engine('sqlite:///inputs/db/'+input_config['db_name'])\n",
    "\n",
    "# summary data location\n",
    "csv_path = os.path.join(valid_config['model_dir'], 'outputs/validation')\n",
    "\n",
    "# table format\n",
    "pd.options.display.float_format = '{:0,.2f}'.format\n",
    "format_percent = \"{:,.2%}\".format"
   ]
  },
  {
   "cell_type": "markdown",
   "id": "b00095bdf12d94c3",
   "metadata": {},
   "source": [
    "## transit boarding"
   ]
  },
  {
   "cell_type": "markdown",
   "id": "5580f8d3",
   "metadata": {},
   "source": [
    "### boarding by mode"
   ]
  },
  {
   "cell_type": "code",
   "execution_count": 5,
   "id": "2a89f03b",
   "metadata": {},
   "outputs": [],
   "source": [
    "df = pd.read_csv(os.path.join(csv_path, 'daily_boardings_by_mode.csv')).sort_values('observed_boardings', ascending=False)\n",
    "plot_df = df.melt(id_vars=['mode'], value_vars=['observed_boardings', 'model_boardings'],\n",
    "                  var_name='source', value_name='count')"
   ]
  },
  {
   "cell_type": "code",
   "execution_count": 7,
   "id": "0fa5b4c7",
   "metadata": {},
   "outputs": [
    {
     "data": {
      "text/html": [
       "<div>\n",
       "<style scoped>\n",
       "    .dataframe tbody tr th:only-of-type {\n",
       "        vertical-align: middle;\n",
       "    }\n",
       "\n",
       "    .dataframe tbody tr th {\n",
       "        vertical-align: top;\n",
       "    }\n",
       "\n",
       "    .dataframe thead th {\n",
       "        text-align: right;\n",
       "    }\n",
       "</style>\n",
       "<table border=\"1\" class=\"dataframe\">\n",
       "  <thead>\n",
       "    <tr style=\"text-align: right;\">\n",
       "      <th></th>\n",
       "      <th>index</th>\n",
       "      <th>mode</th>\n",
       "      <th>observed_boardings</th>\n",
       "      <th>model_boardings</th>\n",
       "      <th>diff</th>\n",
       "      <th>perc_diff</th>\n",
       "    </tr>\n",
       "  </thead>\n",
       "  <tbody>\n",
       "    <tr>\n",
       "      <th>0</th>\n",
       "      <td>0</td>\n",
       "      <td>b</td>\n",
       "      <td>332,640.45</td>\n",
       "      <td>381,275.18</td>\n",
       "      <td>48,634.73</td>\n",
       "      <td>14.62%</td>\n",
       "    </tr>\n",
       "    <tr>\n",
       "      <th>1</th>\n",
       "      <td>4</td>\n",
       "      <td>r</td>\n",
       "      <td>81,991.16</td>\n",
       "      <td>61,321.53</td>\n",
       "      <td>-20,669.64</td>\n",
       "      <td>-25.21%</td>\n",
       "    </tr>\n",
       "    <tr>\n",
       "      <th>2</th>\n",
       "      <td>2</td>\n",
       "      <td>f</td>\n",
       "      <td>14,116.21</td>\n",
       "      <td>28,001.45</td>\n",
       "      <td>13,885.24</td>\n",
       "      <td>98.36%</td>\n",
       "    </tr>\n",
       "    <tr>\n",
       "      <th>3</th>\n",
       "      <td>1</td>\n",
       "      <td>c</td>\n",
       "      <td>6,354.00</td>\n",
       "      <td>9,803.42</td>\n",
       "      <td>3,449.42</td>\n",
       "      <td>54.29%</td>\n",
       "    </tr>\n",
       "    <tr>\n",
       "      <th>4</th>\n",
       "      <td>3</td>\n",
       "      <td>p</td>\n",
       "      <td>429.00</td>\n",
       "      <td>184.65</td>\n",
       "      <td>-244.35</td>\n",
       "      <td>-56.96%</td>\n",
       "    </tr>\n",
       "    <tr>\n",
       "      <th>5</th>\n",
       "      <td>Total</td>\n",
       "      <td>Total</td>\n",
       "      <td>435,530.83</td>\n",
       "      <td>480,586.23</td>\n",
       "      <td>45,055.40</td>\n",
       "      <td>10.34%</td>\n",
       "    </tr>\n",
       "  </tbody>\n",
       "</table>\n",
       "</div>"
      ],
      "text/plain": [
       "   index   mode  observed_boardings  model_boardings       diff perc_diff\n",
       "0      0      b          332,640.45       381,275.18  48,634.73    14.62%\n",
       "1      4      r           81,991.16        61,321.53 -20,669.64   -25.21%\n",
       "2      2      f           14,116.21        28,001.45  13,885.24    98.36%\n",
       "3      1      c            6,354.00         9,803.42   3,449.42    54.29%\n",
       "4      3      p              429.00           184.65    -244.35   -56.96%\n",
       "5  Total  Total          435,530.83       480,586.23  45,055.40    10.34%"
      ]
     },
     "execution_count": 7,
     "metadata": {},
     "output_type": "execute_result"
    }
   ],
   "source": [
    "table_df = df.copy()\n",
    "\n",
    "table_df.loc['Total','observed_boardings'] = table_df['observed_boardings'].sum(axis=0)\n",
    "table_df.loc['Total','model_boardings'] = table_df['model_boardings'].sum(axis=0)\n",
    "table_df.loc['Total','mode'] = 'Total'\n",
    "table_df['diff'] = table_df['model_boardings']-table_df['observed_boardings']\n",
    "table_df['perc_diff'] = table_df['diff']/table_df['observed_boardings']\n",
    "table_df[['observed_boardings','model_boardings','diff']] = table_df[['observed_boardings','model_boardings','diff']].astype('float')\n",
    "table_df[['perc_diff']] = table_df[['perc_diff']].applymap(format_percent)\n",
    "table_df = table_df.reset_index()\n",
    "table_df"
   ]
  },
  {
   "cell_type": "markdown",
   "id": "b0eb0b3986c9d024",
   "metadata": {},
   "source": [
    "### boarding by agency"
   ]
  },
  {
   "cell_type": "code",
   "execution_count": 2,
   "id": "daca8798e4e1c396",
   "metadata": {
    "ExecuteTime": {
     "end_time": "2024-06-24T20:04:29.076584Z",
     "start_time": "2024-06-24T20:04:29.029595Z"
    },
    "execution": {
     "iopub.execute_input": "2024-06-24T21:54:04.763531Z",
     "iopub.status.busy": "2024-06-24T21:54:04.763531Z",
     "iopub.status.idle": "2024-06-24T21:54:04.838812Z",
     "shell.execute_reply": "2024-06-24T21:54:04.838812Z"
    }
   },
   "outputs": [],
   "source": [
    "df = pd.read_csv(os.path.join(csv_path, 'daily_boardings_by_agency.csv')).sort_values('observed_boardings', ascending=False)\n",
    "plot_df = df.melt(id_vars=['agency'], value_vars=['observed_boardings', 'model_boardings'],\n",
    "                  var_name='source', value_name='count')"
   ]
  },
  {
   "cell_type": "code",
   "execution_count": 3,
   "id": "4f0d5527b7528301",
   "metadata": {
    "ExecuteTime": {
     "end_time": "2024-06-24T20:05:24.997972Z",
     "start_time": "2024-06-24T20:05:24.956972Z"
    },
    "execution": {
     "iopub.execute_input": "2024-06-24T21:54:04.854389Z",
     "iopub.status.busy": "2024-06-24T21:54:04.854389Z",
     "iopub.status.idle": "2024-06-24T21:54:04.947796Z",
     "shell.execute_reply": "2024-06-24T21:54:04.947796Z"
    }
   },
   "outputs": [
    {
     "data": {
      "text/html": [
       "<div>\n",
       "<style scoped>\n",
       "    .dataframe tbody tr th:only-of-type {\n",
       "        vertical-align: middle;\n",
       "    }\n",
       "\n",
       "    .dataframe tbody tr th {\n",
       "        vertical-align: top;\n",
       "    }\n",
       "\n",
       "    .dataframe thead th {\n",
       "        text-align: right;\n",
       "    }\n",
       "</style>\n",
       "<table border=\"1\" class=\"dataframe\">\n",
       "  <thead>\n",
       "    <tr style=\"text-align: right;\">\n",
       "      <th></th>\n",
       "      <th>index</th>\n",
       "      <th>agency</th>\n",
       "      <th>observed_boardings</th>\n",
       "      <th>model_boardings</th>\n",
       "      <th>diff</th>\n",
       "      <th>perc_diff</th>\n",
       "    </tr>\n",
       "  </thead>\n",
       "  <tbody>\n",
       "    <tr>\n",
       "      <th>0</th>\n",
       "      <td>2</td>\n",
       "      <td>King County Metro</td>\n",
       "      <td>253,313.62</td>\n",
       "      <td>338,485.37</td>\n",
       "      <td>85,171.75</td>\n",
       "      <td>33.62%</td>\n",
       "    </tr>\n",
       "    <tr>\n",
       "      <th>1</th>\n",
       "      <td>5</td>\n",
       "      <td>Sound Transit</td>\n",
       "      <td>113,374.00</td>\n",
       "      <td>130,892.82</td>\n",
       "      <td>17,518.82</td>\n",
       "      <td>15.45%</td>\n",
       "    </tr>\n",
       "    <tr>\n",
       "      <th>2</th>\n",
       "      <td>0</td>\n",
       "      <td>Community Transit</td>\n",
       "      <td>25,962.00</td>\n",
       "      <td>23,672.84</td>\n",
       "      <td>-2,289.16</td>\n",
       "      <td>-8.82%</td>\n",
       "    </tr>\n",
       "    <tr>\n",
       "      <th>3</th>\n",
       "      <td>4</td>\n",
       "      <td>Pierce Transit</td>\n",
       "      <td>21,185.00</td>\n",
       "      <td>17,490.85</td>\n",
       "      <td>-3,694.15</td>\n",
       "      <td>-17.44%</td>\n",
       "    </tr>\n",
       "    <tr>\n",
       "      <th>4</th>\n",
       "      <td>6</td>\n",
       "      <td>Washington Ferries</td>\n",
       "      <td>9,278.21</td>\n",
       "      <td>8,085.39</td>\n",
       "      <td>-1,192.82</td>\n",
       "      <td>-12.86%</td>\n",
       "    </tr>\n",
       "    <tr>\n",
       "      <th>5</th>\n",
       "      <td>3</td>\n",
       "      <td>Kitsap Transit</td>\n",
       "      <td>8,258.00</td>\n",
       "      <td>16,539.82</td>\n",
       "      <td>8,281.82</td>\n",
       "      <td>100.29%</td>\n",
       "    </tr>\n",
       "    <tr>\n",
       "      <th>6</th>\n",
       "      <td>1</td>\n",
       "      <td>Everett Transit</td>\n",
       "      <td>4,201.00</td>\n",
       "      <td>2,723.04</td>\n",
       "      <td>-1,477.96</td>\n",
       "      <td>-35.18%</td>\n",
       "    </tr>\n",
       "    <tr>\n",
       "      <th>7</th>\n",
       "      <td>Total</td>\n",
       "      <td>Total</td>\n",
       "      <td>435,571.83</td>\n",
       "      <td>537,890.13</td>\n",
       "      <td>102,318.30</td>\n",
       "      <td>23.49%</td>\n",
       "    </tr>\n",
       "  </tbody>\n",
       "</table>\n",
       "</div>"
      ],
      "text/plain": [
       "   index              agency  observed_boardings  model_boardings       diff  \\\n",
       "0      2   King County Metro          253,313.62       338,485.37  85,171.75   \n",
       "1      5       Sound Transit          113,374.00       130,892.82  17,518.82   \n",
       "2      0   Community Transit           25,962.00        23,672.84  -2,289.16   \n",
       "3      4      Pierce Transit           21,185.00        17,490.85  -3,694.15   \n",
       "4      6  Washington Ferries            9,278.21         8,085.39  -1,192.82   \n",
       "5      3      Kitsap Transit            8,258.00        16,539.82   8,281.82   \n",
       "6      1     Everett Transit            4,201.00         2,723.04  -1,477.96   \n",
       "7  Total               Total          435,571.83       537,890.13 102,318.30   \n",
       "\n",
       "  perc_diff  \n",
       "0    33.62%  \n",
       "1    15.45%  \n",
       "2    -8.82%  \n",
       "3   -17.44%  \n",
       "4   -12.86%  \n",
       "5   100.29%  \n",
       "6   -35.18%  \n",
       "7    23.49%  "
      ]
     },
     "execution_count": 3,
     "metadata": {},
     "output_type": "execute_result"
    }
   ],
   "source": [
    "table_df = df.copy()\n",
    "\n",
    "table_df.loc['Total','observed_boardings'] = table_df.sum(axis=0).observed_boardings\n",
    "table_df.loc['Total','model_boardings'] = table_df.sum(axis=0).model_boardings\n",
    "table_df.loc['Total','agency'] = 'Total'\n",
    "table_df['diff'] = table_df['model_boardings']-table_df['observed_boardings']\n",
    "table_df['perc_diff'] = table_df['diff']/table_df['observed_boardings']\n",
    "table_df[['observed_boardings','model_boardings','diff']] = table_df[['observed_boardings','model_boardings','diff']].astype('float')\n",
    "table_df[['perc_diff']] = table_df[['perc_diff']].applymap(format_percent)\n",
    "table_df = table_df.reset_index()\n",
    "table_df"
   ]
  },
  {
   "cell_type": "code",
   "execution_count": 4,
   "id": "6df663cd30d914ea",
   "metadata": {
    "ExecuteTime": {
     "end_time": "2024-06-24T17:50:27.521549Z",
     "start_time": "2024-06-24T17:50:27.349538Z"
    },
    "execution": {
     "iopub.execute_input": "2024-06-24T21:54:04.963484Z",
     "iopub.status.busy": "2024-06-24T21:54:04.963484Z",
     "iopub.status.idle": "2024-06-24T21:54:05.624234Z",
     "shell.execute_reply": "2024-06-24T21:54:05.624234Z"
    }
   },
   "outputs": [],
   "source": [
    "# fig = px.bar(plot_df.sort_values('source'), x=\"agency\", y=\"count\",\n",
    "#              color=\"source\", barmode=\"group\",\n",
    "#              title=\"transit boardings by agency\")\n",
    "# fig.update_layout(height=400, width=700, font=dict(size=11),\n",
    "#                   yaxis_tickformat = '.2f')\n",
    "# fig.show()"
   ]
  },
  {
   "cell_type": "markdown",
   "id": "10436e8bdd112348",
   "metadata": {},
   "source": [
    "### boarding by key route"
   ]
  },
  {
   "cell_type": "raw",
   "id": "7d0d62e3693265f8",
   "metadata": {},
   "source": [
    ":::{.panel-tabset}\n",
    "#### ferry"
   ]
  },
  {
   "cell_type": "code",
   "execution_count": 5,
   "id": "75118f994b2c8118",
   "metadata": {
    "ExecuteTime": {
     "end_time": "2024-06-24T20:05:33.107476Z",
     "start_time": "2024-06-24T20:05:33.044901Z"
    },
    "execution": {
     "iopub.execute_input": "2024-06-24T21:54:05.635341Z",
     "iopub.status.busy": "2024-06-24T21:54:05.635341Z",
     "iopub.status.idle": "2024-06-24T21:54:05.765503Z",
     "shell.execute_reply": "2024-06-24T21:54:05.765503Z"
    }
   },
   "outputs": [
    {
     "data": {
      "text/html": [
       "<div>\n",
       "<style scoped>\n",
       "    .dataframe tbody tr th:only-of-type {\n",
       "        vertical-align: middle;\n",
       "    }\n",
       "\n",
       "    .dataframe tbody tr th {\n",
       "        vertical-align: top;\n",
       "    }\n",
       "\n",
       "    .dataframe thead th {\n",
       "        text-align: right;\n",
       "    }\n",
       "</style>\n",
       "<table border=\"1\" class=\"dataframe\">\n",
       "  <thead>\n",
       "    <tr style=\"text-align: right;\">\n",
       "      <th></th>\n",
       "      <th>description</th>\n",
       "      <th>observed_boardings</th>\n",
       "      <th>model_boardings</th>\n",
       "      <th>diff</th>\n",
       "      <th>perc_diff</th>\n",
       "    </tr>\n",
       "  </thead>\n",
       "  <tbody>\n",
       "    <tr>\n",
       "      <th>0</th>\n",
       "      <td>973 W Sea Water Taxi</td>\n",
       "      <td>759.00</td>\n",
       "      <td>377.87</td>\n",
       "      <td>-381.13</td>\n",
       "      <td>-50.22%</td>\n",
       "    </tr>\n",
       "    <tr>\n",
       "      <th>1</th>\n",
       "      <td>975 Vashn Water Taxi</td>\n",
       "      <td>338.00</td>\n",
       "      <td>518.08</td>\n",
       "      <td>180.08</td>\n",
       "      <td>53.28%</td>\n",
       "    </tr>\n",
       "    <tr>\n",
       "      <th>2</th>\n",
       "      <td>Seattle-Bremerton FF</td>\n",
       "      <td>1,913.00</td>\n",
       "      <td>5,133.84</td>\n",
       "      <td>3,220.84</td>\n",
       "      <td>168.37%</td>\n",
       "    </tr>\n",
       "    <tr>\n",
       "      <th>3</th>\n",
       "      <td>Brem-Pt Orchard FF</td>\n",
       "      <td>768.00</td>\n",
       "      <td>1,376.79</td>\n",
       "      <td>608.79</td>\n",
       "      <td>79.27%</td>\n",
       "    </tr>\n",
       "    <tr>\n",
       "      <th>4</th>\n",
       "      <td>Seattle-Kingston FF</td>\n",
       "      <td>429.00</td>\n",
       "      <td>103.00</td>\n",
       "      <td>-326.00</td>\n",
       "      <td>-75.99%</td>\n",
       "    </tr>\n",
       "    <tr>\n",
       "      <th>5</th>\n",
       "      <td>Seattle-Southwrth FF</td>\n",
       "      <td>631.00</td>\n",
       "      <td>1,057.31</td>\n",
       "      <td>426.31</td>\n",
       "      <td>67.56%</td>\n",
       "    </tr>\n",
       "    <tr>\n",
       "      <th>6</th>\n",
       "      <td>WSF Edmonds-Kingston</td>\n",
       "      <td>1,500.13</td>\n",
       "      <td>231.44</td>\n",
       "      <td>-1,268.69</td>\n",
       "      <td>-84.57%</td>\n",
       "    </tr>\n",
       "    <tr>\n",
       "      <th>7</th>\n",
       "      <td>WSF Seattle-Bain Isl</td>\n",
       "      <td>5,513.69</td>\n",
       "      <td>5,845.79</td>\n",
       "      <td>332.10</td>\n",
       "      <td>6.02%</td>\n",
       "    </tr>\n",
       "    <tr>\n",
       "      <th>8</th>\n",
       "      <td>WSF Seattle-Brem</td>\n",
       "      <td>1,188.97</td>\n",
       "      <td>235.79</td>\n",
       "      <td>-953.18</td>\n",
       "      <td>-80.17%</td>\n",
       "    </tr>\n",
       "    <tr>\n",
       "      <th>9</th>\n",
       "      <td>WSF Fauntleroy-Swrth</td>\n",
       "      <td>142.56</td>\n",
       "      <td>605.91</td>\n",
       "      <td>463.35</td>\n",
       "      <td>325.02%</td>\n",
       "    </tr>\n",
       "    <tr>\n",
       "      <th>10</th>\n",
       "      <td>WSF Fauntleroy-Vashn</td>\n",
       "      <td>560.04</td>\n",
       "      <td>833.23</td>\n",
       "      <td>273.18</td>\n",
       "      <td>48.78%</td>\n",
       "    </tr>\n",
       "    <tr>\n",
       "      <th>11</th>\n",
       "      <td>WSF Vashon-Southwrth</td>\n",
       "      <td>107.76</td>\n",
       "      <td>131.34</td>\n",
       "      <td>23.58</td>\n",
       "      <td>21.88%</td>\n",
       "    </tr>\n",
       "    <tr>\n",
       "      <th>12</th>\n",
       "      <td>WSF Pt Def-Tahlequah</td>\n",
       "      <td>265.05</td>\n",
       "      <td>201.89</td>\n",
       "      <td>-63.17</td>\n",
       "      <td>-23.83%</td>\n",
       "    </tr>\n",
       "  </tbody>\n",
       "</table>\n",
       "</div>"
      ],
      "text/plain": [
       "             description  observed_boardings  model_boardings      diff  \\\n",
       "0   973 W Sea Water Taxi              759.00           377.87   -381.13   \n",
       "1   975 Vashn Water Taxi              338.00           518.08    180.08   \n",
       "2   Seattle-Bremerton FF            1,913.00         5,133.84  3,220.84   \n",
       "3     Brem-Pt Orchard FF              768.00         1,376.79    608.79   \n",
       "4    Seattle-Kingston FF              429.00           103.00   -326.00   \n",
       "5   Seattle-Southwrth FF              631.00         1,057.31    426.31   \n",
       "6   WSF Edmonds-Kingston            1,500.13           231.44 -1,268.69   \n",
       "7   WSF Seattle-Bain Isl            5,513.69         5,845.79    332.10   \n",
       "8       WSF Seattle-Brem            1,188.97           235.79   -953.18   \n",
       "9   WSF Fauntleroy-Swrth              142.56           605.91    463.35   \n",
       "10  WSF Fauntleroy-Vashn              560.04           833.23    273.18   \n",
       "11  WSF Vashon-Southwrth              107.76           131.34     23.58   \n",
       "12  WSF Pt Def-Tahlequah              265.05           201.89    -63.17   \n",
       "\n",
       "   perc_diff  \n",
       "0    -50.22%  \n",
       "1     53.28%  \n",
       "2    168.37%  \n",
       "3     79.27%  \n",
       "4    -75.99%  \n",
       "5     67.56%  \n",
       "6    -84.57%  \n",
       "7      6.02%  \n",
       "8    -80.17%  \n",
       "9    325.02%  \n",
       "10    48.78%  \n",
       "11    21.88%  \n",
       "12   -23.83%  "
      ]
     },
     "execution_count": 5,
     "metadata": {},
     "output_type": "execute_result"
    }
   ],
   "source": [
    "df_boarding_key = pd.read_csv(os.path.join(csv_path,'daily_boardings_key_routes.csv'), index_col='description')\n",
    "df_boarding_key[['observed_boardings','model_boardings']] = df_boarding_key[['observed_boardings','model_boardings']].astype('float')\n",
    "\n",
    "df = df_boarding_key[df_boarding_key['route_code'].isin([4200,4201,4203,4204,5001,5002,5003,5004,5005,5006,5007,1973,1975])].reset_index()\n",
    "df.drop(['route_code','agency'], axis=1, inplace=True)\n",
    "\n",
    "df_table = df.copy()\n",
    "df_table[['perc_diff']] = df_table[['perc_diff']].applymap(format_percent)\n",
    "df_table"
   ]
  },
  {
   "cell_type": "code",
   "execution_count": 6,
   "id": "67bf06d211cca3c6",
   "metadata": {
    "ExecuteTime": {
     "end_time": "2024-06-24T19:41:04.985397Z",
     "start_time": "2024-06-24T19:41:04.798158Z"
    },
    "execution": {
     "iopub.execute_input": "2024-06-24T21:54:05.775515Z",
     "iopub.status.busy": "2024-06-24T21:54:05.775515Z",
     "iopub.status.idle": "2024-06-24T21:54:06.260397Z",
     "shell.execute_reply": "2024-06-24T21:54:06.260397Z"
    }
   },
   "outputs": [
    {
     "name": "stdout",
     "output_type": "stream",
     "text": [
      "r^2 : 0.8343863531735567\n"
     ]
    },
    {
     "data": {
      "image/png": "[encoded data removed]",
      "text/plain": [
       "<Figure size 432x288 with 1 Axes>"
      ]
     },
     "metadata": {
      "needs_background": "light"
     },
     "output_type": "display_data"
    }
   ],
   "source": [
    "if len(df) > 0:\n",
    "    ax = df.plot(kind='scatter', x='observed_boardings', y='model_boardings')\n",
    "    lim = df[['observed_boardings','model_boardings']].max().max()*1.05\n",
    "    ax.set_ylim(0,lim)\n",
    "    ax.set_xlim(0,lim)\n",
    "    x = np.linspace(*ax.get_xlim())\n",
    "    ax.plot(x, x)\n",
    "    slope, intercept, r_value, p_value, std_err = stats.linregress(df['observed_boardings'],df['model_boardings'])\n",
    "    print('r^2 ' + str('') + ': ' + str(r_value))"
   ]
  },
  {
   "cell_type": "markdown",
   "id": "8bf9f5778ee290d6",
   "metadata": {},
   "source": [
    "##### bikes on ferry"
   ]
  },
  {
   "cell_type": "code",
   "execution_count": 7,
   "id": "693dd2ccc9b68311",
   "metadata": {
    "ExecuteTime": {
     "end_time": "2024-06-24T20:05:41.122932Z",
     "start_time": "2024-06-24T20:05:41.060989Z"
    },
    "execution": {
     "iopub.execute_input": "2024-06-24T21:54:06.276671Z",
     "iopub.status.busy": "2024-06-24T21:54:06.276671Z",
     "iopub.status.idle": "2024-06-24T21:54:06.354426Z",
     "shell.execute_reply": "2024-06-24T21:54:06.354426Z"
    }
   },
   "outputs": [
    {
     "data": {
      "text/html": [
       "<div>\n",
       "<style scoped>\n",
       "    .dataframe tbody tr th:only-of-type {\n",
       "        vertical-align: middle;\n",
       "    }\n",
       "\n",
       "    .dataframe tbody tr th {\n",
       "        vertical-align: top;\n",
       "    }\n",
       "\n",
       "    .dataframe thead th {\n",
       "        text-align: right;\n",
       "    }\n",
       "</style>\n",
       "<table border=\"1\" class=\"dataframe\">\n",
       "  <thead>\n",
       "    <tr style=\"text-align: right;\">\n",
       "      <th></th>\n",
       "      <th>route_code</th>\n",
       "      <th>description</th>\n",
       "      <th>@bvol</th>\n",
       "    </tr>\n",
       "  </thead>\n",
       "  <tbody>\n",
       "    <tr>\n",
       "      <th>4</th>\n",
       "      <td>4202</td>\n",
       "      <td>Brem-Annapolis FF</td>\n",
       "      <td>544.60</td>\n",
       "    </tr>\n",
       "    <tr>\n",
       "      <th>2</th>\n",
       "      <td>4200</td>\n",
       "      <td>Seattle-Bremerton FF</td>\n",
       "      <td>473.40</td>\n",
       "    </tr>\n",
       "    <tr>\n",
       "      <th>0</th>\n",
       "      <td>1973</td>\n",
       "      <td>973 W Sea Water Taxi</td>\n",
       "      <td>420.10</td>\n",
       "    </tr>\n",
       "    <tr>\n",
       "      <th>3</th>\n",
       "      <td>4201</td>\n",
       "      <td>Brem-Pt Orchard FF</td>\n",
       "      <td>402.30</td>\n",
       "    </tr>\n",
       "    <tr>\n",
       "      <th>5</th>\n",
       "      <td>4203</td>\n",
       "      <td>Seattle-Kingston FF</td>\n",
       "      <td>226.10</td>\n",
       "    </tr>\n",
       "    <tr>\n",
       "      <th>1</th>\n",
       "      <td>1975</td>\n",
       "      <td>975 Vashn Water Taxi</td>\n",
       "      <td>214.10</td>\n",
       "    </tr>\n",
       "    <tr>\n",
       "      <th>11</th>\n",
       "      <td>5005</td>\n",
       "      <td>WSF Fauntleroy-Vashn</td>\n",
       "      <td>205.70</td>\n",
       "    </tr>\n",
       "    <tr>\n",
       "      <th>12</th>\n",
       "      <td>5007</td>\n",
       "      <td>WSF Pt Def-Tahlequah</td>\n",
       "      <td>119.00</td>\n",
       "    </tr>\n",
       "    <tr>\n",
       "      <th>8</th>\n",
       "      <td>5002</td>\n",
       "      <td>WSF Seattle-Bain Isl</td>\n",
       "      <td>117.10</td>\n",
       "    </tr>\n",
       "    <tr>\n",
       "      <th>10</th>\n",
       "      <td>5004</td>\n",
       "      <td>WSF Fauntleroy-Swrth</td>\n",
       "      <td>49.40</td>\n",
       "    </tr>\n",
       "    <tr>\n",
       "      <th>7</th>\n",
       "      <td>5001</td>\n",
       "      <td>WSF Edmonds-Kingston</td>\n",
       "      <td>48.00</td>\n",
       "    </tr>\n",
       "    <tr>\n",
       "      <th>9</th>\n",
       "      <td>5003</td>\n",
       "      <td>WSF Seattle-Brem</td>\n",
       "      <td>29.00</td>\n",
       "    </tr>\n",
       "    <tr>\n",
       "      <th>6</th>\n",
       "      <td>4204</td>\n",
       "      <td>Seattle-Southwrth FF</td>\n",
       "      <td>14.00</td>\n",
       "    </tr>\n",
       "  </tbody>\n",
       "</table>\n",
       "</div>"
      ],
      "text/plain": [
       "    route_code           description  @bvol\n",
       "4         4202     Brem-Annapolis FF 544.60\n",
       "2         4200  Seattle-Bremerton FF 473.40\n",
       "0         1973  973 W Sea Water Taxi 420.10\n",
       "3         4201    Brem-Pt Orchard FF 402.30\n",
       "5         4203   Seattle-Kingston FF 226.10\n",
       "1         1975  975 Vashn Water Taxi 214.10\n",
       "11        5005  WSF Fauntleroy-Vashn 205.70\n",
       "12        5007  WSF Pt Def-Tahlequah 119.00\n",
       "8         5002  WSF Seattle-Bain Isl 117.10\n",
       "10        5004  WSF Fauntleroy-Swrth  49.40\n",
       "7         5001  WSF Edmonds-Kingston  48.00\n",
       "9         5003      WSF Seattle-Brem  29.00\n",
       "6         4204  Seattle-Southwrth FF  14.00"
      ]
     },
     "execution_count": 7,
     "metadata": {},
     "output_type": "execute_result"
    }
   ],
   "source": [
    "df = pd.read_csv(os.path.join(csv_path,'bike_ferry_boardings.csv')).sort_values('@bvol', ascending=False)\n",
    "df['route_code'] = df['route_code'].astype('int')\n",
    "df[['route_code','description', '@bvol']]"
   ]
  },
  {
   "cell_type": "raw",
   "id": "14db883222970442",
   "metadata": {},
   "source": [
    "#### rail"
   ]
  },
  {
   "cell_type": "code",
   "execution_count": 8,
   "id": "c9adf289ac66da8",
   "metadata": {
    "ExecuteTime": {
     "end_time": "2024-06-24T20:05:45.826421Z",
     "start_time": "2024-06-24T20:05:45.779797Z"
    },
    "execution": {
     "iopub.execute_input": "2024-06-24T21:54:06.370167Z",
     "iopub.status.busy": "2024-06-24T21:54:06.370167Z",
     "iopub.status.idle": "2024-06-24T21:54:06.416576Z",
     "shell.execute_reply": "2024-06-24T21:54:06.416576Z"
    }
   },
   "outputs": [
    {
     "data": {
      "text/html": [
       "<div>\n",
       "<style scoped>\n",
       "    .dataframe tbody tr th:only-of-type {\n",
       "        vertical-align: middle;\n",
       "    }\n",
       "\n",
       "    .dataframe tbody tr th {\n",
       "        vertical-align: top;\n",
       "    }\n",
       "\n",
       "    .dataframe thead th {\n",
       "        text-align: right;\n",
       "    }\n",
       "</style>\n",
       "<table border=\"1\" class=\"dataframe\">\n",
       "  <thead>\n",
       "    <tr style=\"text-align: right;\">\n",
       "      <th></th>\n",
       "      <th>description</th>\n",
       "      <th>observed_boardings</th>\n",
       "      <th>model_boardings</th>\n",
       "      <th>diff</th>\n",
       "      <th>perc_diff</th>\n",
       "    </tr>\n",
       "  </thead>\n",
       "  <tbody>\n",
       "    <tr>\n",
       "      <th>0</th>\n",
       "      <td>Link Red Line</td>\n",
       "      <td>79,522.00</td>\n",
       "      <td>64,788.28</td>\n",
       "      <td>-14,733.72</td>\n",
       "      <td>-18.53%</td>\n",
       "    </tr>\n",
       "    <tr>\n",
       "      <th>1</th>\n",
       "      <td>Sounder South</td>\n",
       "      <td>6,038.00</td>\n",
       "      <td>8,642.67</td>\n",
       "      <td>2,604.67</td>\n",
       "      <td>43.14%</td>\n",
       "    </tr>\n",
       "    <tr>\n",
       "      <th>2</th>\n",
       "      <td>Sounder North</td>\n",
       "      <td>316.00</td>\n",
       "      <td>7.52</td>\n",
       "      <td>-308.48</td>\n",
       "      <td>-97.62%</td>\n",
       "    </tr>\n",
       "  </tbody>\n",
       "</table>\n",
       "</div>"
      ],
      "text/plain": [
       "     description  observed_boardings  model_boardings       diff perc_diff\n",
       "0  Link Red Line           79,522.00        64,788.28 -14,733.72   -18.53%\n",
       "1  Sounder South            6,038.00         8,642.67   2,604.67    43.14%\n",
       "2  Sounder North              316.00             7.52    -308.48   -97.62%"
      ]
     },
     "execution_count": 8,
     "metadata": {},
     "output_type": "execute_result"
    }
   ],
   "source": [
    "df = df_boarding_key[df_boarding_key['route_code'].isin([6996,6999,6998])].reset_index()\n",
    "df['description'] = df['route_code'].map({6998: 'Sounder South', 6999: 'Sounder North',6996: 'Link Red Line'})\n",
    "df.drop(['route_code','agency'], axis=1, inplace=True)\n",
    "\n",
    "df_table = df.copy()\n",
    "df_table[['perc_diff']] = df_table[['perc_diff']].applymap(format_percent)\n",
    "\n",
    "df_table"
   ]
  },
  {
   "cell_type": "code",
   "execution_count": 9,
   "id": "cb27f79888f8363d",
   "metadata": {
    "ExecuteTime": {
     "end_time": "2024-06-24T19:41:16.172926Z",
     "start_time": "2024-06-24T19:41:15.922628Z"
    },
    "execution": {
     "iopub.execute_input": "2024-06-24T21:54:06.432206Z",
     "iopub.status.busy": "2024-06-24T21:54:06.416576Z",
     "iopub.status.idle": "2024-06-24T21:54:06.854446Z",
     "shell.execute_reply": "2024-06-24T21:54:06.854446Z"
    }
   },
   "outputs": [
    {
     "name": "stdout",
     "output_type": "stream",
     "text": [
      "r^2 : 0.9983044812080167\n"
     ]
    },
    {
     "data": {
      "image/png": "[encoded data removed]",
      "text/plain": [
       "<Figure size 432x288 with 1 Axes>"
      ]
     },
     "metadata": {
      "needs_background": "light"
     },
     "output_type": "display_data"
    }
   ],
   "source": [
    "if len(df) > 0:\n",
    "    ax = df.plot(kind='scatter', x='observed_boardings', y='model_boardings')\n",
    "    lim = df[['observed_boardings','model_boardings']].max().max()*1.05\n",
    "    ax.set_ylim(0,lim)\n",
    "    ax.set_xlim(0,lim)\n",
    "    x = np.linspace(*ax.get_xlim())\n",
    "    ax.plot(x, x)\n",
    "    slope, intercept, r_value, p_value, std_err = stats.linregress(df['observed_boardings'],df['model_boardings'])\n",
    "    print('r^2 ' + str('') + ': ' + str(r_value))"
   ]
  },
  {
   "cell_type": "raw",
   "id": "a24f21772d15369c",
   "metadata": {},
   "source": [
    "#### RapidRide, busiest buses, streetcar"
   ]
  },
  {
   "cell_type": "code",
   "execution_count": 10,
   "id": "a048f8a2b6d7d277",
   "metadata": {
    "ExecuteTime": {
     "end_time": "2024-06-24T20:05:51.529079Z",
     "start_time": "2024-06-24T20:05:51.482757Z"
    },
    "execution": {
     "iopub.execute_input": "2024-06-24T21:54:06.870720Z",
     "iopub.status.busy": "2024-06-24T21:54:06.870720Z",
     "iopub.status.idle": "2024-06-24T21:54:06.947996Z",
     "shell.execute_reply": "2024-06-24T21:54:06.946418Z"
    }
   },
   "outputs": [
    {
     "data": {
      "text/html": [
       "<div>\n",
       "<style scoped>\n",
       "    .dataframe tbody tr th:only-of-type {\n",
       "        vertical-align: middle;\n",
       "    }\n",
       "\n",
       "    .dataframe tbody tr th {\n",
       "        vertical-align: top;\n",
       "    }\n",
       "\n",
       "    .dataframe thead th {\n",
       "        text-align: right;\n",
       "    }\n",
       "</style>\n",
       "<table border=\"1\" class=\"dataframe\">\n",
       "  <thead>\n",
       "    <tr style=\"text-align: right;\">\n",
       "      <th></th>\n",
       "      <th>description</th>\n",
       "      <th>observed_boardings</th>\n",
       "      <th>model_boardings</th>\n",
       "      <th>diff</th>\n",
       "      <th>perc_diff</th>\n",
       "    </tr>\n",
       "  </thead>\n",
       "  <tbody>\n",
       "    <tr>\n",
       "      <th>6</th>\n",
       "      <td>E Line RapidRide</td>\n",
       "      <td>11,426.00</td>\n",
       "      <td>17,860.54</td>\n",
       "      <td>6,434.54</td>\n",
       "      <td>56.31%</td>\n",
       "    </tr>\n",
       "    <tr>\n",
       "      <th>4</th>\n",
       "      <td>C Line RapidRide</td>\n",
       "      <td>7,250.00</td>\n",
       "      <td>13,155.93</td>\n",
       "      <td>5,905.93</td>\n",
       "      <td>81.46%</td>\n",
       "    </tr>\n",
       "    <tr>\n",
       "      <th>0</th>\n",
       "      <td>KC Metro 7</td>\n",
       "      <td>9,954.00</td>\n",
       "      <td>12,603.80</td>\n",
       "      <td>2,649.80</td>\n",
       "      <td>26.62%</td>\n",
       "    </tr>\n",
       "    <tr>\n",
       "      <th>1</th>\n",
       "      <td>KC Metro 40</td>\n",
       "      <td>7,208.00</td>\n",
       "      <td>11,635.20</td>\n",
       "      <td>4,427.20</td>\n",
       "      <td>61.42%</td>\n",
       "    </tr>\n",
       "    <tr>\n",
       "      <th>5</th>\n",
       "      <td>D Line RapidRide</td>\n",
       "      <td>9,044.00</td>\n",
       "      <td>10,032.32</td>\n",
       "      <td>988.32</td>\n",
       "      <td>10.93%</td>\n",
       "    </tr>\n",
       "    <tr>\n",
       "      <th>10</th>\n",
       "      <td>Sound Transit 550</td>\n",
       "      <td>3,351.00</td>\n",
       "      <td>9,426.77</td>\n",
       "      <td>6,075.77</td>\n",
       "      <td>181.31%</td>\n",
       "    </tr>\n",
       "    <tr>\n",
       "      <th>2</th>\n",
       "      <td>A Line RapidRide</td>\n",
       "      <td>8,412.00</td>\n",
       "      <td>7,197.27</td>\n",
       "      <td>-1,214.73</td>\n",
       "      <td>-14.44%</td>\n",
       "    </tr>\n",
       "    <tr>\n",
       "      <th>7</th>\n",
       "      <td>F Line RapidRide</td>\n",
       "      <td>4,748.00</td>\n",
       "      <td>6,220.85</td>\n",
       "      <td>1,472.85</td>\n",
       "      <td>31.02%</td>\n",
       "    </tr>\n",
       "    <tr>\n",
       "      <th>3</th>\n",
       "      <td>B Line RapidRide</td>\n",
       "      <td>4,177.00</td>\n",
       "      <td>4,242.31</td>\n",
       "      <td>65.31</td>\n",
       "      <td>1.56%</td>\n",
       "    </tr>\n",
       "    <tr>\n",
       "      <th>9</th>\n",
       "      <td>First Hill Streetcar</td>\n",
       "      <td>3,900.45</td>\n",
       "      <td>1,701.56</td>\n",
       "      <td>-2,198.90</td>\n",
       "      <td>-56.38%</td>\n",
       "    </tr>\n",
       "    <tr>\n",
       "      <th>8</th>\n",
       "      <td>SLU Streetcar</td>\n",
       "      <td>1,050.16</td>\n",
       "      <td>827.05</td>\n",
       "      <td>-223.11</td>\n",
       "      <td>-21.25%</td>\n",
       "    </tr>\n",
       "  </tbody>\n",
       "</table>\n",
       "</div>"
      ],
      "text/plain": [
       "             description  observed_boardings  model_boardings      diff  \\\n",
       "6       E Line RapidRide           11,426.00        17,860.54  6,434.54   \n",
       "4       C Line RapidRide            7,250.00        13,155.93  5,905.93   \n",
       "0             KC Metro 7            9,954.00        12,603.80  2,649.80   \n",
       "1            KC Metro 40            7,208.00        11,635.20  4,427.20   \n",
       "5       D Line RapidRide            9,044.00        10,032.32    988.32   \n",
       "10     Sound Transit 550            3,351.00         9,426.77  6,075.77   \n",
       "2       A Line RapidRide            8,412.00         7,197.27 -1,214.73   \n",
       "7       F Line RapidRide            4,748.00         6,220.85  1,472.85   \n",
       "3       B Line RapidRide            4,177.00         4,242.31     65.31   \n",
       "9   First Hill Streetcar            3,900.45         1,701.56 -2,198.90   \n",
       "8          SLU Streetcar            1,050.16           827.05   -223.11   \n",
       "\n",
       "   perc_diff  \n",
       "6     56.31%  \n",
       "4     81.46%  \n",
       "0     26.62%  \n",
       "1     61.42%  \n",
       "5     10.93%  \n",
       "10   181.31%  \n",
       "2    -14.44%  \n",
       "7     31.02%  \n",
       "3      1.56%  \n",
       "9    -56.38%  \n",
       "8    -21.25%  "
      ]
     },
     "execution_count": 10,
     "metadata": {},
     "output_type": "execute_result"
    }
   ],
   "source": [
    "df = df_boarding_key[df_boarding_key['route_code'].isin([1671,1672,1673,1674,1675,1676,6550,1007,1040,1997,1998])].reset_index()\n",
    "df['description'] = df['route_code'].map({1671: 'A Line RapidRide', 1672: 'B Line RapidRide',\n",
    "                                            1673: 'C Line RapidRide', 1674: 'D Line RapidRide',\n",
    "                                            1675: 'E Line RapidRide', 1676: 'F Line RapidRide',\n",
    "                                            6550: 'Sound Transit 550', 1040: 'KC Metro 40', 1007: 'KC Metro 7',\n",
    "                                            1997: 'SLU Streetcar', 1998: 'First Hill Streetcar'})\n",
    "df.drop(['route_code','agency'], axis=1, inplace=True)\n",
    "\n",
    "df_table = df.copy()\n",
    "df_table[['perc_diff']] = df_table[['perc_diff']].applymap(format_percent)\n",
    "df_table.sort_values('model_boardings', ascending=False)"
   ]
  },
  {
   "cell_type": "code",
   "execution_count": 11,
   "id": "813aa67bd5e6c1f6",
   "metadata": {
    "ExecuteTime": {
     "end_time": "2024-06-24T19:41:23.547293Z",
     "start_time": "2024-06-24T19:41:23.312803Z"
    },
    "execution": {
     "iopub.execute_input": "2024-06-24T21:54:06.963083Z",
     "iopub.status.busy": "2024-06-24T21:54:06.962090Z",
     "iopub.status.idle": "2024-06-24T21:54:07.310483Z",
     "shell.execute_reply": "2024-06-24T21:54:07.308481Z"
    }
   },
   "outputs": [
    {
     "name": "stdout",
     "output_type": "stream",
     "text": [
      "r^2 : 0.8322690169735353"
     ]
    },
    {
     "name": "stdout",
     "output_type": "stream",
     "text": [
      "\n"
     ]
    },
    {
     "data": {
      "image/png": "[encoded data removed]",
      "text/plain": [
       "<Figure size 432x288 with 1 Axes>"
      ]
     },
     "metadata": {
      "needs_background": "light"
     },
     "output_type": "display_data"
    }
   ],
   "source": [
    "if len(df) > 0:\n",
    "    ax = df.plot(kind='scatter', x='observed_boardings', y='model_boardings')\n",
    "    lim = df[['observed_boardings', 'model_boardings']].max().max() * 1.05\n",
    "    ax.set_ylim(0, lim)\n",
    "    ax.set_xlim(0, lim)\n",
    "    x = np.linspace(*ax.get_xlim())\n",
    "    ax.plot(x, x)\n",
    "    slope, intercept, r_value, p_value, std_err = stats.linregress(df['observed_boardings'], df['model_boardings'])\n",
    "    print('r^2 ' + str('') + ': ' + str(r_value))"
   ]
  },
  {
   "cell_type": "raw",
   "id": "c55611b2314fffc3",
   "metadata": {},
   "source": [
    ":::"
   ]
  },
  {
   "cell_type": "markdown",
   "id": "6e6c5ead64d64e8c",
   "metadata": {},
   "source": [
    "### boarding on lines by agency"
   ]
  },
  {
   "cell_type": "code",
   "execution_count": 12,
   "id": "95db4119eb938544",
   "metadata": {
    "ExecuteTime": {
     "end_time": "2024-06-24T19:52:55.951969Z",
     "start_time": "2024-06-24T19:52:54.937995Z"
    },
    "execution": {
     "iopub.execute_input": "2024-06-24T21:54:07.326440Z",
     "iopub.status.busy": "2024-06-24T21:54:07.325444Z",
     "iopub.status.idle": "2024-06-24T21:54:09.291659Z",
     "shell.execute_reply": "2024-06-24T21:54:09.291659Z"
    }
   },
   "outputs": [
    {
     "name": "stdout",
     "output_type": "stream",
     "text": [
      "r^2 Community Transit: 0.9276436697742224\n",
      "r^2 Everett Transit: 0.9778822822621337"
     ]
    },
    {
     "name": "stdout",
     "output_type": "stream",
     "text": [
      "\n",
      "r^2 King County Metro: 0.9338700242247481\n",
      "r^2 Kitsap Transit: 0.9293450611191234\n",
      "r^2 Pierce Transit: 0.7421755656106623\n"
     ]
    },
    {
     "name": "stdout",
     "output_type": "stream",
     "text": [
      "r^2 Sound Transit: 0.9883194590253195\n",
      "r^2 Washington Ferries: 0.946708589710863\n"
     ]
    },
    {
     "data": {
      "image/png": "[encoded data removed]",
      "text/plain": [
       "<Figure size 432x288 with 1 Axes>"
      ]
     },
     "metadata": {
      "needs_background": "light"
     },
     "output_type": "display_data"
    },
    {
     "data": {
      "image/png": "[encoded data removed]",
      "text/plain": [
       "<Figure size 432x288 with 1 Axes>"
      ]
     },
     "metadata": {
      "needs_background": "light"
     },
     "output_type": "display_data"
    },
    {
     "data": {
      "image/png": "[encoded data removed]",
      "text/plain": [
       "<Figure size 432x288 with 1 Axes>"
      ]
     },
     "metadata": {
      "needs_background": "light"
     },
     "output_type": "display_data"
    },
    {
     "data": {
      "image/png": "[encoded data removed]",
      "text/plain": [
       "<Figure size 432x288 with 1 Axes>"
      ]
     },
     "metadata": {
      "needs_background": "light"
     },
     "output_type": "display_data"
    },
    {
     "data": {
      "image/png": "[encoded data removed]",
      "text/plain": [
       "<Figure size 432x288 with 1 Axes>"
      ]
     },
     "metadata": {
      "needs_background": "light"
     },
     "output_type": "display_data"
    },
    {
     "data": {
      "image/png": "[encoded data removed]",
      "text/plain": [
       "<Figure size 432x288 with 1 Axes>"
      ]
     },
     "metadata": {
      "needs_background": "light"
     },
     "output_type": "display_data"
    },
    {
     "data": {
      "image/png": "[encoded data removed]",
      "text/plain": [
       "<Figure size 432x288 with 1 Axes>"
      ]
     },
     "metadata": {
      "needs_background": "light"
     },
     "output_type": "display_data"
    }
   ],
   "source": [
    "df = pd.read_csv(os.path.join(csv_path,'daily_boardings_by_line.csv'), index_col='agency')\n",
    "df = df[-df['agency_id'].isnull()]\n",
    "\n",
    "for agency in np.unique(df.index):\n",
    "    _df = df.loc[agency,:]\n",
    "    if (type(_df) == pd.core.frame.DataFrame) & (len(df) > 0):\n",
    "        ax = _df.plot(kind='scatter', x='observed_boardings', y='model_boardings', label=agency)\n",
    "        lim = _df[['observed_boardings','model_boardings']].max().max()*1.05\n",
    "        ax.set_ylim(0,lim)\n",
    "        ax.set_xlim(0,lim)\n",
    "        x = np.linspace(*ax.get_xlim())\n",
    "        ax.plot(x, x)\n",
    "        slope, intercept, r_value, p_value, std_err = stats.linregress(_df['observed_boardings'],_df['model_boardings'])\n",
    "        print('r^2 ' + str(agency) + ': ' + str(r_value))"
   ]
  },
  {
   "cell_type": "markdown",
   "id": "4539ddda98821ff2",
   "metadata": {},
   "source": [
    "### boarding by light rail station"
   ]
  },
  {
   "cell_type": "raw",
   "id": "1a2860ab52ea5101",
   "metadata": {},
   "source": [
    ":::{.panel-tabset}\n",
    "#### Red Line"
   ]
  },
  {
   "cell_type": "code",
   "execution_count": 13,
   "id": "2c245b8117693726",
   "metadata": {
    "ExecuteTime": {
     "end_time": "2024-06-24T20:06:01.435477Z",
     "start_time": "2024-06-24T20:06:01.389414Z"
    },
    "execution": {
     "iopub.execute_input": "2024-06-24T21:54:09.307284Z",
     "iopub.status.busy": "2024-06-24T21:54:09.307284Z",
     "iopub.status.idle": "2024-06-24T21:54:09.432079Z",
     "shell.execute_reply": "2024-06-24T21:54:09.432079Z"
    }
   },
   "outputs": [
    {
     "data": {
      "text/html": [
       "<div>\n",
       "<style scoped>\n",
       "    .dataframe tbody tr th:only-of-type {\n",
       "        vertical-align: middle;\n",
       "    }\n",
       "\n",
       "    .dataframe tbody tr th {\n",
       "        vertical-align: top;\n",
       "    }\n",
       "\n",
       "    .dataframe thead th {\n",
       "        text-align: right;\n",
       "    }\n",
       "</style>\n",
       "<table border=\"1\" class=\"dataframe\">\n",
       "  <thead>\n",
       "    <tr style=\"text-align: right;\">\n",
       "      <th></th>\n",
       "      <th>observed_boardings</th>\n",
       "      <th>model_boardings</th>\n",
       "      <th>diff</th>\n",
       "      <th>percent_diff</th>\n",
       "    </tr>\n",
       "    <tr>\n",
       "      <th>station_name</th>\n",
       "      <th></th>\n",
       "      <th></th>\n",
       "      <th></th>\n",
       "      <th></th>\n",
       "    </tr>\n",
       "  </thead>\n",
       "  <tbody>\n",
       "    <tr>\n",
       "      <th>Husky Stadium</th>\n",
       "      <td>6,134.00</td>\n",
       "      <td>3,573.53</td>\n",
       "      <td>-2,560.47</td>\n",
       "      <td>-41.74%</td>\n",
       "    </tr>\n",
       "    <tr>\n",
       "      <th>Westlake</th>\n",
       "      <td>8,845.00</td>\n",
       "      <td>7,149.59</td>\n",
       "      <td>-1,695.41</td>\n",
       "      <td>-19.17%</td>\n",
       "    </tr>\n",
       "    <tr>\n",
       "      <th>University St</th>\n",
       "      <td>4,324.00</td>\n",
       "      <td>4,919.81</td>\n",
       "      <td>595.81</td>\n",
       "      <td>13.78%</td>\n",
       "    </tr>\n",
       "    <tr>\n",
       "      <th>Pioneer Square</th>\n",
       "      <td>2,400.00</td>\n",
       "      <td>4,660.17</td>\n",
       "      <td>2,260.17</td>\n",
       "      <td>94.17%</td>\n",
       "    </tr>\n",
       "    <tr>\n",
       "      <th>Int'l District</th>\n",
       "      <td>4,399.00</td>\n",
       "      <td>1,641.32</td>\n",
       "      <td>-2,757.68</td>\n",
       "      <td>-62.69%</td>\n",
       "    </tr>\n",
       "    <tr>\n",
       "      <th>Capitol Hill</th>\n",
       "      <td>7,667.00</td>\n",
       "      <td>5,345.01</td>\n",
       "      <td>-2,321.99</td>\n",
       "      <td>-30.29%</td>\n",
       "    </tr>\n",
       "    <tr>\n",
       "      <th>Stadium</th>\n",
       "      <td>1,731.00</td>\n",
       "      <td>248.23</td>\n",
       "      <td>-1,482.77</td>\n",
       "      <td>-85.66%</td>\n",
       "    </tr>\n",
       "    <tr>\n",
       "      <th>SODO</th>\n",
       "      <td>1,669.00</td>\n",
       "      <td>1,857.23</td>\n",
       "      <td>188.23</td>\n",
       "      <td>11.28%</td>\n",
       "    </tr>\n",
       "    <tr>\n",
       "      <th>Beacon Hill</th>\n",
       "      <td>2,147.00</td>\n",
       "      <td>897.96</td>\n",
       "      <td>-1,249.04</td>\n",
       "      <td>-58.18%</td>\n",
       "    </tr>\n",
       "    <tr>\n",
       "      <th>Mount Baker</th>\n",
       "      <td>1,861.00</td>\n",
       "      <td>1,210.98</td>\n",
       "      <td>-650.02</td>\n",
       "      <td>-34.93%</td>\n",
       "    </tr>\n",
       "    <tr>\n",
       "      <th>Columbia City</th>\n",
       "      <td>1,630.00</td>\n",
       "      <td>1,068.45</td>\n",
       "      <td>-561.55</td>\n",
       "      <td>-34.45%</td>\n",
       "    </tr>\n",
       "    <tr>\n",
       "      <th>Othello</th>\n",
       "      <td>2,030.00</td>\n",
       "      <td>1,197.27</td>\n",
       "      <td>-832.73</td>\n",
       "      <td>-41.02%</td>\n",
       "    </tr>\n",
       "    <tr>\n",
       "      <th>Rainier Beach</th>\n",
       "      <td>1,495.00</td>\n",
       "      <td>1,162.53</td>\n",
       "      <td>-332.47</td>\n",
       "      <td>-22.24%</td>\n",
       "    </tr>\n",
       "    <tr>\n",
       "      <th>Tukwila Int'l Blvd</th>\n",
       "      <td>2,298.00</td>\n",
       "      <td>1,773.43</td>\n",
       "      <td>-524.57</td>\n",
       "      <td>-22.83%</td>\n",
       "    </tr>\n",
       "    <tr>\n",
       "      <th>SeaTac/Airport</th>\n",
       "      <td>4,731.00</td>\n",
       "      <td>5,905.72</td>\n",
       "      <td>1,174.72</td>\n",
       "      <td>24.83%</td>\n",
       "    </tr>\n",
       "    <tr>\n",
       "      <th>Angle Lake</th>\n",
       "      <td>3,865.00</td>\n",
       "      <td>3,619.23</td>\n",
       "      <td>-245.77</td>\n",
       "      <td>-6.36%</td>\n",
       "    </tr>\n",
       "    <tr>\n",
       "      <th>University District Station</th>\n",
       "      <td>7,563.00</td>\n",
       "      <td>4,597.57</td>\n",
       "      <td>-2,965.43</td>\n",
       "      <td>-39.21%</td>\n",
       "    </tr>\n",
       "    <tr>\n",
       "      <th>Roosevelt Station</th>\n",
       "      <td>4,349.00</td>\n",
       "      <td>7,627.36</td>\n",
       "      <td>3,278.36</td>\n",
       "      <td>75.38%</td>\n",
       "    </tr>\n",
       "    <tr>\n",
       "      <th>Northgate Station</th>\n",
       "      <td>10,384.00</td>\n",
       "      <td>6,332.88</td>\n",
       "      <td>-4,051.12</td>\n",
       "      <td>-39.01%</td>\n",
       "    </tr>\n",
       "    <tr>\n",
       "      <th>Total</th>\n",
       "      <td>79,522.00</td>\n",
       "      <td>64,788.28</td>\n",
       "      <td>-14,733.72</td>\n",
       "      <td>-18.53%</td>\n",
       "    </tr>\n",
       "  </tbody>\n",
       "</table>\n",
       "</div>"
      ],
      "text/plain": [
       "                             observed_boardings  model_boardings       diff  \\\n",
       "station_name                                                                  \n",
       "Husky Stadium                          6,134.00         3,573.53  -2,560.47   \n",
       "Westlake                               8,845.00         7,149.59  -1,695.41   \n",
       "University St                          4,324.00         4,919.81     595.81   \n",
       "Pioneer Square                         2,400.00         4,660.17   2,260.17   \n",
       "Int'l District                         4,399.00         1,641.32  -2,757.68   \n",
       "Capitol Hill                           7,667.00         5,345.01  -2,321.99   \n",
       "Stadium                                1,731.00           248.23  -1,482.77   \n",
       "SODO                                   1,669.00         1,857.23     188.23   \n",
       "Beacon Hill                            2,147.00           897.96  -1,249.04   \n",
       "Mount Baker                            1,861.00         1,210.98    -650.02   \n",
       "Columbia City                          1,630.00         1,068.45    -561.55   \n",
       "Othello                                2,030.00         1,197.27    -832.73   \n",
       "Rainier Beach                          1,495.00         1,162.53    -332.47   \n",
       "Tukwila Int'l Blvd                     2,298.00         1,773.43    -524.57   \n",
       "SeaTac/Airport                         4,731.00         5,905.72   1,174.72   \n",
       "Angle Lake                             3,865.00         3,619.23    -245.77   \n",
       "University District Station            7,563.00         4,597.57  -2,965.43   \n",
       "Roosevelt Station                      4,349.00         7,627.36   3,278.36   \n",
       "Northgate Station                     10,384.00         6,332.88  -4,051.12   \n",
       "Total                                 79,522.00        64,788.28 -14,733.72   \n",
       "\n",
       "                            percent_diff  \n",
       "station_name                              \n",
       "Husky Stadium                    -41.74%  \n",
       "Westlake                         -19.17%  \n",
       "University St                     13.78%  \n",
       "Pioneer Square                    94.17%  \n",
       "Int'l District                   -62.69%  \n",
       "Capitol Hill                     -30.29%  \n",
       "Stadium                          -85.66%  \n",
       "SODO                              11.28%  \n",
       "Beacon Hill                      -58.18%  \n",
       "Mount Baker                      -34.93%  \n",
       "Columbia City                    -34.45%  \n",
       "Othello                          -41.02%  \n",
       "Rainier Beach                    -22.24%  \n",
       "Tukwila Int'l Blvd               -22.83%  \n",
       "SeaTac/Airport                    24.83%  \n",
       "Angle Lake                        -6.36%  \n",
       "University District Station      -39.21%  \n",
       "Roosevelt Station                 75.38%  \n",
       "Northgate Station                -39.01%  \n",
       "Total                            -18.53%  "
      ]
     },
     "execution_count": 13,
     "metadata": {},
     "output_type": "execute_result"
    }
   ],
   "source": [
    "df = pd.read_csv(os.path.join(csv_path,'light_rail_boardings.csv'), index_col='station_name')\n",
    "df['diff'] = df['model_boardings']-df['observed_boardings']\n",
    "df['percent_diff'] = df['diff']/df['observed_boardings']\n",
    "\n",
    "df_table = df.copy()\n",
    "df_table[['percent_diff']] = df_table[['percent_diff']].applymap(format_percent)\n",
    "df_table"
   ]
  },
  {
   "cell_type": "raw",
   "id": "3dafcff1da10b5e5",
   "metadata": {},
   "source": [
    "#### Sound Transit Station Groupings"
   ]
  },
  {
   "cell_type": "code",
   "execution_count": 14,
   "id": "7456ebeb8efd83d0",
   "metadata": {
    "ExecuteTime": {
     "end_time": "2024-06-24T20:06:06.901270Z",
     "start_time": "2024-06-24T20:06:06.830246Z"
    },
    "execution": {
     "iopub.execute_input": "2024-06-24T21:54:09.447700Z",
     "iopub.status.busy": "2024-06-24T21:54:09.447700Z",
     "iopub.status.idle": "2024-06-24T21:54:09.541805Z",
     "shell.execute_reply": "2024-06-24T21:54:09.541805Z"
    }
   },
   "outputs": [
    {
     "data": {
      "text/html": [
       "<div>\n",
       "<style scoped>\n",
       "    .dataframe tbody tr th:only-of-type {\n",
       "        vertical-align: middle;\n",
       "    }\n",
       "\n",
       "    .dataframe tbody tr th {\n",
       "        vertical-align: top;\n",
       "    }\n",
       "\n",
       "    .dataframe thead th {\n",
       "        text-align: right;\n",
       "    }\n",
       "</style>\n",
       "<table border=\"1\" class=\"dataframe\">\n",
       "  <thead>\n",
       "    <tr style=\"text-align: right;\">\n",
       "      <th></th>\n",
       "      <th>observed_boardings</th>\n",
       "      <th>model_boardings</th>\n",
       "      <th>diff</th>\n",
       "      <th>percent_diff</th>\n",
       "    </tr>\n",
       "    <tr>\n",
       "      <th>station_group</th>\n",
       "      <th></th>\n",
       "      <th></th>\n",
       "      <th></th>\n",
       "      <th></th>\n",
       "    </tr>\n",
       "  </thead>\n",
       "  <tbody>\n",
       "    <tr>\n",
       "      <th>Husky Stadium</th>\n",
       "      <td>6,134.00</td>\n",
       "      <td>3,573.53</td>\n",
       "      <td>-2,560.47</td>\n",
       "      <td>-41.74%</td>\n",
       "    </tr>\n",
       "    <tr>\n",
       "      <th>Capitol Hill</th>\n",
       "      <td>7,667.00</td>\n",
       "      <td>5,345.01</td>\n",
       "      <td>-2,321.99</td>\n",
       "      <td>-30.29%</td>\n",
       "    </tr>\n",
       "    <tr>\n",
       "      <th>Westlake/University St</th>\n",
       "      <td>13,169.00</td>\n",
       "      <td>12,069.41</td>\n",
       "      <td>-1,099.59</td>\n",
       "      <td>-8.35%</td>\n",
       "    </tr>\n",
       "    <tr>\n",
       "      <th>Pioneer Square/Int'l District</th>\n",
       "      <td>6,799.00</td>\n",
       "      <td>6,301.48</td>\n",
       "      <td>-497.52</td>\n",
       "      <td>-7.32%</td>\n",
       "    </tr>\n",
       "    <tr>\n",
       "      <th>Stadium/SODO</th>\n",
       "      <td>3,400.00</td>\n",
       "      <td>2,105.46</td>\n",
       "      <td>-1,294.54</td>\n",
       "      <td>-38.07%</td>\n",
       "    </tr>\n",
       "    <tr>\n",
       "      <th>Beacon Hill/Mount Baker</th>\n",
       "      <td>4,008.00</td>\n",
       "      <td>2,108.94</td>\n",
       "      <td>-1,899.06</td>\n",
       "      <td>-47.38%</td>\n",
       "    </tr>\n",
       "    <tr>\n",
       "      <th>Columbia City</th>\n",
       "      <td>1,630.00</td>\n",
       "      <td>1,068.45</td>\n",
       "      <td>-561.55</td>\n",
       "      <td>-34.45%</td>\n",
       "    </tr>\n",
       "    <tr>\n",
       "      <th>Othello/Rainier Beach</th>\n",
       "      <td>3,525.00</td>\n",
       "      <td>2,359.80</td>\n",
       "      <td>-1,165.20</td>\n",
       "      <td>-33.06%</td>\n",
       "    </tr>\n",
       "    <tr>\n",
       "      <th>Tukwila Int'l Blvd</th>\n",
       "      <td>2,298.00</td>\n",
       "      <td>1,773.43</td>\n",
       "      <td>-524.57</td>\n",
       "      <td>-22.83%</td>\n",
       "    </tr>\n",
       "    <tr>\n",
       "      <th>SeaTac/Airport</th>\n",
       "      <td>4,731.00</td>\n",
       "      <td>5,905.72</td>\n",
       "      <td>1,174.72</td>\n",
       "      <td>24.83%</td>\n",
       "    </tr>\n",
       "    <tr>\n",
       "      <th>Angle Lake</th>\n",
       "      <td>3,865.00</td>\n",
       "      <td>3,619.23</td>\n",
       "      <td>-245.77</td>\n",
       "      <td>-6.36%</td>\n",
       "    </tr>\n",
       "  </tbody>\n",
       "</table>\n",
       "</div>"
      ],
      "text/plain": [
       "                               observed_boardings  model_boardings      diff  \\\n",
       "station_group                                                                  \n",
       "Husky Stadium                            6,134.00         3,573.53 -2,560.47   \n",
       "Capitol Hill                             7,667.00         5,345.01 -2,321.99   \n",
       "Westlake/University St                  13,169.00        12,069.41 -1,099.59   \n",
       "Pioneer Square/Int'l District            6,799.00         6,301.48   -497.52   \n",
       "Stadium/SODO                             3,400.00         2,105.46 -1,294.54   \n",
       "Beacon Hill/Mount Baker                  4,008.00         2,108.94 -1,899.06   \n",
       "Columbia City                            1,630.00         1,068.45   -561.55   \n",
       "Othello/Rainier Beach                    3,525.00         2,359.80 -1,165.20   \n",
       "Tukwila Int'l Blvd                       2,298.00         1,773.43   -524.57   \n",
       "SeaTac/Airport                           4,731.00         5,905.72  1,174.72   \n",
       "Angle Lake                               3,865.00         3,619.23   -245.77   \n",
       "\n",
       "                              percent_diff  \n",
       "station_group                               \n",
       "Husky Stadium                      -41.74%  \n",
       "Capitol Hill                       -30.29%  \n",
       "Westlake/University St              -8.35%  \n",
       "Pioneer Square/Int'l District       -7.32%  \n",
       "Stadium/SODO                       -38.07%  \n",
       "Beacon Hill/Mount Baker            -47.38%  \n",
       "Columbia City                      -34.45%  \n",
       "Othello/Rainier Beach              -33.06%  \n",
       "Tukwila Int'l Blvd                 -22.83%  \n",
       "SeaTac/Airport                      24.83%  \n",
       "Angle Lake                          -6.36%  "
      ]
     },
     "execution_count": 14,
     "metadata": {},
     "output_type": "execute_result"
    }
   ],
   "source": [
    "df_combined = df.copy()\n",
    "\n",
    "df_combined['station_group'] = df.index\n",
    "df_combined.loc[['Westlake'],'station_group'] = 'Westlake/University St'\n",
    "df_combined.loc[['University St'],'station_group'] = 'Westlake/University St'\n",
    "\n",
    "df_combined.loc[['Pioneer Square'],'station_group'] = \"Pioneer Square/Int'l District\"\n",
    "df_combined.loc[[\"Int'l District\"],'station_group'] = \"Pioneer Square/Int'l District\"\n",
    "\n",
    "df_combined.loc[['Stadium'],'station_group'] = 'Stadium/SODO'\n",
    "df_combined.loc[['SODO'],'station_group'] = 'Stadium/SODO'\n",
    "\n",
    "df_combined.loc[['Beacon Hill'],'station_group'] = 'Beacon Hill/Mount Baker'\n",
    "df_combined.loc[['Mount Baker'],'station_group'] = 'Beacon Hill/Mount Baker'\n",
    "\n",
    "df_combined.loc[['Othello'],'station_group'] = 'Othello/Rainier Beach'\n",
    "df_combined.loc[['Rainier Beach'],'station_group'] = 'Othello/Rainier Beach'\n",
    "\n",
    "df_combined = df_combined.groupby('station_group').sum()[['observed_boardings','model_boardings']]\n",
    "df_combined['diff'] = df_combined['model_boardings']-df_combined['observed_boardings']\n",
    "df_combined['percent_diff'] = df_combined['diff']/df_combined['observed_boardings']\n",
    "df_combined[['percent_diff']] = df_combined[['percent_diff']].applymap(format_percent)\n",
    "\n",
    "df_combined.loc[['Husky Stadium','Capitol Hill','Westlake/University St',\"Pioneer Square/Int'l District\",\n",
    "                 'Stadium/SODO','Beacon Hill/Mount Baker','Columbia City','Othello/Rainier Beach',\n",
    "                 \"Tukwila Int'l Blvd\",'SeaTac/Airport','Angle Lake']]"
   ]
  },
  {
   "cell_type": "raw",
   "id": "f429de2d705b1e22",
   "metadata": {},
   "source": [
    ":::"
   ]
  },
  {
   "cell_type": "markdown",
   "id": "86996e48d6760252",
   "metadata": {},
   "source": [
    "### light rail stop transfers"
   ]
  },
  {
   "cell_type": "code",
   "execution_count": 15,
   "id": "4bd536d185354993",
   "metadata": {
    "ExecuteTime": {
     "end_time": "2024-06-24T20:06:14.325917Z",
     "start_time": "2024-06-24T20:06:14.279144Z"
    },
    "execution": {
     "iopub.execute_input": "2024-06-24T21:54:09.557431Z",
     "iopub.status.busy": "2024-06-24T21:54:09.557431Z",
     "iopub.status.idle": "2024-06-24T21:54:09.635689Z",
     "shell.execute_reply": "2024-06-24T21:54:09.635689Z"
    }
   },
   "outputs": [
    {
     "data": {
      "text/html": [
       "<div>\n",
       "<style scoped>\n",
       "    .dataframe tbody tr th:only-of-type {\n",
       "        vertical-align: middle;\n",
       "    }\n",
       "\n",
       "    .dataframe tbody tr th {\n",
       "        vertical-align: top;\n",
       "    }\n",
       "\n",
       "    .dataframe thead th {\n",
       "        text-align: right;\n",
       "    }\n",
       "</style>\n",
       "<table border=\"1\" class=\"dataframe\">\n",
       "  <thead>\n",
       "    <tr style=\"text-align: right;\">\n",
       "      <th></th>\n",
       "      <th>modeled_transfer_rate</th>\n",
       "      <th>observed_transfer_rate</th>\n",
       "      <th>diff</th>\n",
       "      <th>percent_diff</th>\n",
       "    </tr>\n",
       "    <tr>\n",
       "      <th>station_name</th>\n",
       "      <th></th>\n",
       "      <th></th>\n",
       "      <th></th>\n",
       "      <th></th>\n",
       "    </tr>\n",
       "  </thead>\n",
       "  <tbody>\n",
       "    <tr>\n",
       "      <th>Husky Stadium</th>\n",
       "      <td>0.88</td>\n",
       "      <td>-99.00</td>\n",
       "      <td>99.88</td>\n",
       "      <td>-100.89%</td>\n",
       "    </tr>\n",
       "    <tr>\n",
       "      <th>Westlake</th>\n",
       "      <td>0.17</td>\n",
       "      <td>0.36</td>\n",
       "      <td>-0.19</td>\n",
       "      <td>-53.30%</td>\n",
       "    </tr>\n",
       "    <tr>\n",
       "      <th>University St</th>\n",
       "      <td>0.28</td>\n",
       "      <td>0.20</td>\n",
       "      <td>0.08</td>\n",
       "      <td>40.01%</td>\n",
       "    </tr>\n",
       "    <tr>\n",
       "      <th>Pioneer Square</th>\n",
       "      <td>0.46</td>\n",
       "      <td>0.16</td>\n",
       "      <td>0.30</td>\n",
       "      <td>191.17%</td>\n",
       "    </tr>\n",
       "    <tr>\n",
       "      <th>Int'l District</th>\n",
       "      <td>0.60</td>\n",
       "      <td>0.45</td>\n",
       "      <td>0.15</td>\n",
       "      <td>32.89%</td>\n",
       "    </tr>\n",
       "    <tr>\n",
       "      <th>Capitol Hill</th>\n",
       "      <td>0.07</td>\n",
       "      <td>-99.00</td>\n",
       "      <td>99.07</td>\n",
       "      <td>-100.07%</td>\n",
       "    </tr>\n",
       "    <tr>\n",
       "      <th>Stadium</th>\n",
       "      <td>0.43</td>\n",
       "      <td>0.12</td>\n",
       "      <td>0.31</td>\n",
       "      <td>262.52%</td>\n",
       "    </tr>\n",
       "    <tr>\n",
       "      <th>SODO</th>\n",
       "      <td>0.63</td>\n",
       "      <td>0.31</td>\n",
       "      <td>0.32</td>\n",
       "      <td>102.17%</td>\n",
       "    </tr>\n",
       "    <tr>\n",
       "      <th>Beacon Hill</th>\n",
       "      <td>0.44</td>\n",
       "      <td>0.35</td>\n",
       "      <td>0.08</td>\n",
       "      <td>23.73%</td>\n",
       "    </tr>\n",
       "    <tr>\n",
       "      <th>Mount Baker</th>\n",
       "      <td>0.47</td>\n",
       "      <td>0.32</td>\n",
       "      <td>0.15</td>\n",
       "      <td>45.03%</td>\n",
       "    </tr>\n",
       "    <tr>\n",
       "      <th>Columbia City</th>\n",
       "      <td>0.02</td>\n",
       "      <td>0.12</td>\n",
       "      <td>-0.10</td>\n",
       "      <td>-82.57%</td>\n",
       "    </tr>\n",
       "    <tr>\n",
       "      <th>Othello</th>\n",
       "      <td>0.08</td>\n",
       "      <td>0.12</td>\n",
       "      <td>-0.05</td>\n",
       "      <td>-37.32%</td>\n",
       "    </tr>\n",
       "    <tr>\n",
       "      <th>Rainier Beach</th>\n",
       "      <td>0.37</td>\n",
       "      <td>0.36</td>\n",
       "      <td>0.01</td>\n",
       "      <td>2.45%</td>\n",
       "    </tr>\n",
       "    <tr>\n",
       "      <th>Tukwila Int'l Blvd</th>\n",
       "      <td>0.58</td>\n",
       "      <td>0.26</td>\n",
       "      <td>0.31</td>\n",
       "      <td>117.96%</td>\n",
       "    </tr>\n",
       "    <tr>\n",
       "      <th>SeaTac/Airport</th>\n",
       "      <td>0.11</td>\n",
       "      <td>0.26</td>\n",
       "      <td>-0.15</td>\n",
       "      <td>-58.58%</td>\n",
       "    </tr>\n",
       "    <tr>\n",
       "      <th>Angle Lake</th>\n",
       "      <td>0.17</td>\n",
       "      <td>-99.00</td>\n",
       "      <td>99.17</td>\n",
       "      <td>-100.17%</td>\n",
       "    </tr>\n",
       "    <tr>\n",
       "      <th>University District Station</th>\n",
       "      <td>0.24</td>\n",
       "      <td>-99.00</td>\n",
       "      <td>99.24</td>\n",
       "      <td>-100.24%</td>\n",
       "    </tr>\n",
       "    <tr>\n",
       "      <th>Roosevelt Station</th>\n",
       "      <td>0.42</td>\n",
       "      <td>-99.00</td>\n",
       "      <td>99.42</td>\n",
       "      <td>-100.43%</td>\n",
       "    </tr>\n",
       "    <tr>\n",
       "      <th>Northgate Station</th>\n",
       "      <td>0.79</td>\n",
       "      <td>-99.00</td>\n",
       "      <td>99.79</td>\n",
       "      <td>-100.80%</td>\n",
       "    </tr>\n",
       "  </tbody>\n",
       "</table>\n",
       "</div>"
      ],
      "text/plain": [
       "                             modeled_transfer_rate  observed_transfer_rate  \\\n",
       "station_name                                                                 \n",
       "Husky Stadium                                 0.88                  -99.00   \n",
       "Westlake                                      0.17                    0.36   \n",
       "University St                                 0.28                    0.20   \n",
       "Pioneer Square                                0.46                    0.16   \n",
       "Int'l District                                0.60                    0.45   \n",
       "Capitol Hill                                  0.07                  -99.00   \n",
       "Stadium                                       0.43                    0.12   \n",
       "SODO                                          0.63                    0.31   \n",
       "Beacon Hill                                   0.44                    0.35   \n",
       "Mount Baker                                   0.47                    0.32   \n",
       "Columbia City                                 0.02                    0.12   \n",
       "Othello                                       0.08                    0.12   \n",
       "Rainier Beach                                 0.37                    0.36   \n",
       "Tukwila Int'l Blvd                            0.58                    0.26   \n",
       "SeaTac/Airport                                0.11                    0.26   \n",
       "Angle Lake                                    0.17                  -99.00   \n",
       "University District Station                   0.24                  -99.00   \n",
       "Roosevelt Station                             0.42                  -99.00   \n",
       "Northgate Station                             0.79                  -99.00   \n",
       "\n",
       "                             diff percent_diff  \n",
       "station_name                                    \n",
       "Husky Stadium               99.88     -100.89%  \n",
       "Westlake                    -0.19      -53.30%  \n",
       "University St                0.08       40.01%  \n",
       "Pioneer Square               0.30      191.17%  \n",
       "Int'l District               0.15       32.89%  \n",
       "Capitol Hill                99.07     -100.07%  \n",
       "Stadium                      0.31      262.52%  \n",
       "SODO                         0.32      102.17%  \n",
       "Beacon Hill                  0.08       23.73%  \n",
       "Mount Baker                  0.15       45.03%  \n",
       "Columbia City               -0.10      -82.57%  \n",
       "Othello                     -0.05      -37.32%  \n",
       "Rainier Beach                0.01        2.45%  \n",
       "Tukwila Int'l Blvd           0.31      117.96%  \n",
       "SeaTac/Airport              -0.15      -58.58%  \n",
       "Angle Lake                  99.17     -100.17%  \n",
       "University District Station 99.24     -100.24%  \n",
       "Roosevelt Station           99.42     -100.43%  \n",
       "Northgate Station           99.79     -100.80%  "
      ]
     },
     "execution_count": 15,
     "metadata": {},
     "output_type": "execute_result"
    }
   ],
   "source": [
    "df = pd.read_csv(os.path.join(csv_path,'light_rail_transfers.csv'), index_col='station_name')\n",
    "df[['percent_diff']] = df[['percent_diff']].applymap(format_percent)\n",
    "df"
   ]
  }
 ],
 "metadata": {
  "kernelspec": {
   "display_name": "build_notebook",
   "language": "python",
   "name": "python3"
  },
  "language_info": {
   "codemirror_mode": {
    "name": "ipython",
    "version": 3
   },
   "file_extension": ".py",
   "mimetype": "text/x-python",
   "name": "python",
   "nbconvert_exporter": "python",
   "pygments_lexer": "ipython3",
   "version": "3.10.15"
  }
 },
 "nbformat": 4,
 "nbformat_minor": 5
}
