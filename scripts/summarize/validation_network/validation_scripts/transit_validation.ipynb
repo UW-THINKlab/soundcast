{
 "cells": [
  {
   "cell_type": "raw",
   "id": "48597e7e80043434",
   "metadata": {},
   "source": [
    "---\n",
    "title: \"Transit Summary\"\n",
    "date: today\n",
    "---"
   ]
  },
  {
   "cell_type": "code",
   "execution_count": 115,
   "id": "3c1a81e12086b602",
   "metadata": {
    "ExecuteTime": {
     "end_time": "2024-06-24T20:05:20.341638Z",
     "start_time": "2024-06-24T20:05:20.232835Z"
    },
    "execution": {
     "iopub.execute_input": "2024-12-14T02:38:34.166778Z",
     "iopub.status.busy": "2024-12-14T02:38:34.164783Z",
     "iopub.status.idle": "2024-12-14T02:38:39.675438Z",
     "shell.execute_reply": "2024-12-14T02:38:39.673933Z"
    }
   },
   "outputs": [],
   "source": [
    "import os\n",
    "import pandas as pd\n",
    "import numpy as np\n",
    "from sqlalchemy import create_engine,text\n",
    "from scipy import stats\n",
    "import plotly.express as px\n",
    "import toml\n",
    "import psrc_theme\n",
    "import geopandas as gpd\n",
    "import plotly.express as px\n",
    "\n",
    "%matplotlib inline\n",
    "from IPython.display import display, HTML\n",
    "\n",
    "# to show plotly figures in quarto HTML file\n",
    "import plotly.io as pio\n",
    "pio.renderers.default = \"plotly_mimetype+notebook_connected\"\n",
    "pio.templates.default = \"simple_white+psrc_color\" # set plotly template\n",
    "\n",
    "input_config = toml.load(os.path.join(os.getcwd(), '..\\\\..\\\\..\\\\..\\\\configuration', 'input_configuration.toml'))\n",
    "valid_config = toml.load(os.path.join(os.getcwd(), '..\\\\..\\\\..\\\\..\\\\configuration', 'validation_configuration.toml'))\n",
    "\n",
    "# create connection\n",
    "conn = create_engine('sqlite:///../../../../inputs/db/'+input_config['db_name'])\n",
    "\n",
    "# summary data location\n",
    "csv_path = os.path.join(valid_config['model_dir'], 'outputs/validation')\n",
    "\n",
    "# table format\n",
    "pd.options.display.float_format = '{:0,.2f}'.format\n",
    "format_percent = \"{:,.2%}\".format"
   ]
  },
  {
   "cell_type": "markdown",
   "id": "b00095bdf12d94c3",
   "metadata": {},
   "source": [
    "## transit boarding"
   ]
  },
  {
   "cell_type": "markdown",
   "id": "5580f8d3",
   "metadata": {},
   "source": [
    "### boarding by mode"
   ]
  },
  {
   "cell_type": "raw",
   "id": "62368037",
   "metadata": {
    "vscode": {
     "languageId": "raw"
    }
   },
   "source": [
    ":::{.panel-tabset}\n",
    "#### 2023"
   ]
  },
  {
   "cell_type": "code",
   "execution_count": 116,
   "id": "0fa5b4c7",
   "metadata": {
    "execution": {
     "iopub.execute_input": "2024-12-14T02:38:39.688403Z",
     "iopub.status.busy": "2024-12-14T02:38:39.686408Z",
     "iopub.status.idle": "2024-12-14T02:38:39.797541Z",
     "shell.execute_reply": "2024-12-14T02:38:39.796037Z"
    }
   },
   "outputs": [
    {
     "data": {
      "text/html": [
       "<div>\n",
       "<style scoped>\n",
       "    .dataframe tbody tr th:only-of-type {\n",
       "        vertical-align: middle;\n",
       "    }\n",
       "\n",
       "    .dataframe tbody tr th {\n",
       "        vertical-align: top;\n",
       "    }\n",
       "\n",
       "    .dataframe thead th {\n",
       "        text-align: right;\n",
       "    }\n",
       "</style>\n",
       "<table border=\"1\" class=\"dataframe\">\n",
       "  <thead>\n",
       "    <tr style=\"text-align: right;\">\n",
       "      <th></th>\n",
       "      <th>index</th>\n",
       "      <th>mode</th>\n",
       "      <th>observed_boardings</th>\n",
       "      <th>model_boardings</th>\n",
       "      <th>diff</th>\n",
       "      <th>perc_diff</th>\n",
       "    </tr>\n",
       "  </thead>\n",
       "  <tbody>\n",
       "    <tr>\n",
       "      <th>0</th>\n",
       "      <td>0</td>\n",
       "      <td>b</td>\n",
       "      <td>332,640.45</td>\n",
       "      <td>358,741.89</td>\n",
       "      <td>26,101.43</td>\n",
       "      <td>7.85%</td>\n",
       "    </tr>\n",
       "    <tr>\n",
       "      <th>1</th>\n",
       "      <td>4</td>\n",
       "      <td>r</td>\n",
       "      <td>81,991.16</td>\n",
       "      <td>89,964.62</td>\n",
       "      <td>7,973.45</td>\n",
       "      <td>9.72%</td>\n",
       "    </tr>\n",
       "    <tr>\n",
       "      <th>2</th>\n",
       "      <td>2</td>\n",
       "      <td>f</td>\n",
       "      <td>11,349.85</td>\n",
       "      <td>9,066.93</td>\n",
       "      <td>-2,282.92</td>\n",
       "      <td>-20.11%</td>\n",
       "    </tr>\n",
       "    <tr>\n",
       "      <th>3</th>\n",
       "      <td>1</td>\n",
       "      <td>c</td>\n",
       "      <td>6,354.00</td>\n",
       "      <td>7,020.67</td>\n",
       "      <td>666.67</td>\n",
       "      <td>10.49%</td>\n",
       "    </tr>\n",
       "    <tr>\n",
       "      <th>4</th>\n",
       "      <td>3</td>\n",
       "      <td>p</td>\n",
       "      <td>3,235.36</td>\n",
       "      <td>2,980.79</td>\n",
       "      <td>-254.58</td>\n",
       "      <td>-7.87%</td>\n",
       "    </tr>\n",
       "    <tr>\n",
       "      <th>5</th>\n",
       "      <td>Total</td>\n",
       "      <td>Total</td>\n",
       "      <td>435,570.83</td>\n",
       "      <td>467,774.89</td>\n",
       "      <td>32,204.06</td>\n",
       "      <td>7.39%</td>\n",
       "    </tr>\n",
       "  </tbody>\n",
       "</table>\n",
       "</div>"
      ],
      "text/plain": [
       "   index   mode  observed_boardings  model_boardings      diff perc_diff\n",
       "0      0      b          332,640.45       358,741.89 26,101.43     7.85%\n",
       "1      4      r           81,991.16        89,964.62  7,973.45     9.72%\n",
       "2      2      f           11,349.85         9,066.93 -2,282.92   -20.11%\n",
       "3      1      c            6,354.00         7,020.67    666.67    10.49%\n",
       "4      3      p            3,235.36         2,980.79   -254.58    -7.87%\n",
       "5  Total  Total          435,570.83       467,774.89 32,204.06     7.39%"
      ]
     },
     "execution_count": 116,
     "metadata": {},
     "output_type": "execute_result"
    }
   ],
   "source": [
    "df = pd.read_csv(os.path.join(csv_path, 'daily_boardings_by_mode.csv')).sort_values('observed_boardings', ascending=False)\n",
    "table_df = df.copy()\n",
    "\n",
    "table_df.loc['Total','observed_boardings'] = table_df['observed_boardings'].sum(axis=0)\n",
    "table_df.loc['Total','model_boardings'] = table_df['model_boardings'].sum(axis=0)\n",
    "table_df.loc['Total','mode'] = 'Total'\n",
    "table_df['diff'] = table_df['model_boardings']-table_df['observed_boardings']\n",
    "table_df['perc_diff'] = table_df['diff']/table_df['observed_boardings']\n",
    "table_df[['observed_boardings','model_boardings','diff']] = table_df[['observed_boardings','model_boardings','diff']].astype('float')\n",
    "table_df[['perc_diff']] = table_df[['perc_diff']].applymap(format_percent)\n",
    "table_df = table_df.reset_index()\n",
    "table_df"
   ]
  },
  {
   "cell_type": "raw",
   "id": "0a51c67a",
   "metadata": {
    "vscode": {
     "languageId": "raw"
    }
   },
   "source": [
    "#### 2023/2024 Link Red Line and Sounder"
   ]
  },
  {
   "cell_type": "code",
   "execution_count": 117,
   "id": "108fbc11",
   "metadata": {
    "execution": {
     "iopub.execute_input": "2024-12-14T02:38:39.809509Z",
     "iopub.status.busy": "2024-12-14T02:38:39.808512Z",
     "iopub.status.idle": "2024-12-14T02:38:39.939511Z",
     "shell.execute_reply": "2024-12-14T02:38:39.936874Z"
    }
   },
   "outputs": [
    {
     "data": {
      "text/html": [
       "<div>\n",
       "<style scoped>\n",
       "    .dataframe tbody tr th:only-of-type {\n",
       "        vertical-align: middle;\n",
       "    }\n",
       "\n",
       "    .dataframe tbody tr th {\n",
       "        vertical-align: top;\n",
       "    }\n",
       "\n",
       "    .dataframe thead th {\n",
       "        text-align: right;\n",
       "    }\n",
       "</style>\n",
       "<table border=\"1\" class=\"dataframe\">\n",
       "  <thead>\n",
       "    <tr style=\"text-align: right;\">\n",
       "      <th></th>\n",
       "      <th>submode</th>\n",
       "      <th>2023 boarding</th>\n",
       "      <th>2024 boarding</th>\n",
       "      <th>model_boardings</th>\n",
       "      <th>2023 % diff</th>\n",
       "      <th>2024 % diff</th>\n",
       "    </tr>\n",
       "  </thead>\n",
       "  <tbody>\n",
       "    <tr>\n",
       "      <th>0</th>\n",
       "      <td>Link Red Line</td>\n",
       "      <td>78,765.00</td>\n",
       "      <td>91,203.00</td>\n",
       "      <td>86,505.92</td>\n",
       "      <td>9.83%</td>\n",
       "      <td>-5.15%</td>\n",
       "    </tr>\n",
       "    <tr>\n",
       "      <th>1</th>\n",
       "      <td>Sounder</td>\n",
       "      <td>6,765.00</td>\n",
       "      <td>7,711.00</td>\n",
       "      <td>7,020.67</td>\n",
       "      <td>3.78%</td>\n",
       "      <td>-8.95%</td>\n",
       "    </tr>\n",
       "  </tbody>\n",
       "</table>\n",
       "</div>"
      ],
      "text/plain": [
       "         submode  2023 boarding  2024 boarding  model_boardings 2023 % diff  \\\n",
       "0  Link Red Line      78,765.00      91,203.00        86,505.92       9.83%   \n",
       "1        Sounder       6,765.00       7,711.00         7,020.67       3.78%   \n",
       "\n",
       "  2024 % diff  \n",
       "0      -5.15%  \n",
       "1      -8.95%  "
      ]
     },
     "execution_count": 117,
     "metadata": {},
     "output_type": "execute_result"
    }
   ],
   "source": [
    "df_boarding_line = pd.read_csv(os.path.join(csv_path,'daily_boardings_by_line.csv'), index_col='description')\n",
    "df_boarding_line[['observed_boardings','model_boardings']] = df_boarding_line[['observed_boardings','model_boardings']].astype('float')\n",
    "\n",
    "df_mode = df_boarding_line[df_boarding_line['route_code'].isin([6996,6999,6998])].reset_index()\n",
    "\n",
    "df_mode['submode'] = df_mode['mode'].map({\"r\": \"Link Red Line\", \"c\": \"Sounder\"})\n",
    "df_mode = df_mode[['submode','model_boardings']].copy()\n",
    "df_mode = df_mode.groupby('submode')['model_boardings'].sum().reset_index()\n",
    "\n",
    "df_obs = pd.read_sql(text(\"SELECT * FROM observed_transit_agency_boardings\"), con=conn.connect())\n",
    "df_obs_mode = df_obs.copy()\n",
    "df_obs_mode['boardings'] = df_obs_mode['boardings'].astype(float)\n",
    "df_obs_mode = df_obs_mode[df_obs_mode['submode'].isin([\"Link\",\"Sounder\"])].copy()\n",
    "df_obs_mode['submode'] = df_obs_mode['submode'].map({\"Link\": \"Link Red Line\", \"Sounder\": \"Sounder\"})\n",
    "\n",
    "df_obs_mode = df_obs_mode.groupby(['submode','year'])['boardings'].sum().unstack().reset_index()\n",
    "df_obs_mode = df_obs_mode.rename(columns={2023:'2023 boarding', 2024:'2024 boarding'})\n",
    "df_mode = df_obs_mode.merge(df_mode, on='submode')\n",
    "\n",
    "df_mode['2023 % diff'] = (df_mode['model_boardings']-df_mode['2023 boarding'])/df_mode['2023 boarding']\n",
    "df_mode['2024 % diff'] = (df_mode['model_boardings']-df_mode['2024 boarding'])/df_mode['2024 boarding']\n",
    "df_mode[['2023 % diff']] = df_mode[['2023 % diff']].applymap(format_percent)\n",
    "df_mode[['2024 % diff']] = df_mode[['2024 % diff']].applymap(format_percent)\n",
    "\n",
    "df_mode"
   ]
  },
  {
   "cell_type": "raw",
   "id": "119f4510",
   "metadata": {
    "vscode": {
     "languageId": "raw"
    }
   },
   "source": [
    ":::"
   ]
  },
  {
   "cell_type": "markdown",
   "id": "b0eb0b3986c9d024",
   "metadata": {},
   "source": [
    "### boarding by agency"
   ]
  },
  {
   "cell_type": "raw",
   "id": "9afc046d",
   "metadata": {
    "vscode": {
     "languageId": "raw"
    }
   },
   "source": [
    ":::{.panel-tabset}\n",
    "\n",
    "#### 2023"
   ]
  },
  {
   "cell_type": "code",
   "execution_count": 118,
   "id": "daca8798e4e1c396",
   "metadata": {
    "ExecuteTime": {
     "end_time": "2024-06-24T20:04:29.076584Z",
     "start_time": "2024-06-24T20:04:29.029595Z"
    },
    "execution": {
     "iopub.execute_input": "2024-12-14T02:38:39.952038Z",
     "iopub.status.busy": "2024-12-14T02:38:39.950043Z",
     "iopub.status.idle": "2024-12-14T02:38:40.002253Z",
     "shell.execute_reply": "2024-12-14T02:38:39.999910Z"
    }
   },
   "outputs": [],
   "source": [
    "df = pd.read_csv(os.path.join(csv_path, 'daily_boardings_by_agency.csv')).sort_values('observed_boardings', ascending=False)\n",
    "plot_df = df.melt(id_vars=['agency'], value_vars=['observed_boardings', 'model_boardings'],\n",
    "                  var_name='source', value_name='count')"
   ]
  },
  {
   "cell_type": "code",
   "execution_count": 119,
   "id": "4f0d5527b7528301",
   "metadata": {
    "ExecuteTime": {
     "end_time": "2024-06-24T20:05:24.997972Z",
     "start_time": "2024-06-24T20:05:24.956972Z"
    },
    "execution": {
     "iopub.execute_input": "2024-12-14T02:38:40.013704Z",
     "iopub.status.busy": "2024-12-14T02:38:40.011713Z",
     "iopub.status.idle": "2024-12-14T02:38:40.079147Z",
     "shell.execute_reply": "2024-12-14T02:38:40.077153Z"
    }
   },
   "outputs": [
    {
     "data": {
      "text/html": [
       "<div>\n",
       "<style scoped>\n",
       "    .dataframe tbody tr th:only-of-type {\n",
       "        vertical-align: middle;\n",
       "    }\n",
       "\n",
       "    .dataframe tbody tr th {\n",
       "        vertical-align: top;\n",
       "    }\n",
       "\n",
       "    .dataframe thead th {\n",
       "        text-align: right;\n",
       "    }\n",
       "</style>\n",
       "<table border=\"1\" class=\"dataframe\">\n",
       "  <thead>\n",
       "    <tr style=\"text-align: right;\">\n",
       "      <th></th>\n",
       "      <th>index</th>\n",
       "      <th>agency</th>\n",
       "      <th>observed_boardings</th>\n",
       "      <th>model_boardings</th>\n",
       "      <th>diff</th>\n",
       "      <th>perc_diff</th>\n",
       "    </tr>\n",
       "  </thead>\n",
       "  <tbody>\n",
       "    <tr>\n",
       "      <th>0</th>\n",
       "      <td>2</td>\n",
       "      <td>King County Metro</td>\n",
       "      <td>253,313.62</td>\n",
       "      <td>268,204.45</td>\n",
       "      <td>14,890.83</td>\n",
       "      <td>5.88%</td>\n",
       "    </tr>\n",
       "    <tr>\n",
       "      <th>1</th>\n",
       "      <td>5</td>\n",
       "      <td>Sound Transit</td>\n",
       "      <td>113,374.00</td>\n",
       "      <td>137,007.62</td>\n",
       "      <td>23,633.62</td>\n",
       "      <td>20.85%</td>\n",
       "    </tr>\n",
       "    <tr>\n",
       "      <th>2</th>\n",
       "      <td>0</td>\n",
       "      <td>Community Transit</td>\n",
       "      <td>25,962.00</td>\n",
       "      <td>27,258.31</td>\n",
       "      <td>1,296.31</td>\n",
       "      <td>4.99%</td>\n",
       "    </tr>\n",
       "    <tr>\n",
       "      <th>3</th>\n",
       "      <td>4</td>\n",
       "      <td>Pierce Transit</td>\n",
       "      <td>21,185.00</td>\n",
       "      <td>13,777.16</td>\n",
       "      <td>-7,407.84</td>\n",
       "      <td>-34.97%</td>\n",
       "    </tr>\n",
       "    <tr>\n",
       "      <th>4</th>\n",
       "      <td>6</td>\n",
       "      <td>Washington Ferries</td>\n",
       "      <td>9,278.21</td>\n",
       "      <td>5,628.86</td>\n",
       "      <td>-3,649.35</td>\n",
       "      <td>-39.33%</td>\n",
       "    </tr>\n",
       "    <tr>\n",
       "      <th>5</th>\n",
       "      <td>3</td>\n",
       "      <td>Kitsap Transit</td>\n",
       "      <td>8,258.00</td>\n",
       "      <td>11,172.21</td>\n",
       "      <td>2,914.21</td>\n",
       "      <td>35.29%</td>\n",
       "    </tr>\n",
       "    <tr>\n",
       "      <th>6</th>\n",
       "      <td>1</td>\n",
       "      <td>Everett Transit</td>\n",
       "      <td>4,201.00</td>\n",
       "      <td>4,705.74</td>\n",
       "      <td>504.74</td>\n",
       "      <td>12.01%</td>\n",
       "    </tr>\n",
       "    <tr>\n",
       "      <th>7</th>\n",
       "      <td>Total</td>\n",
       "      <td>Total</td>\n",
       "      <td>435,571.83</td>\n",
       "      <td>467,754.36</td>\n",
       "      <td>32,182.53</td>\n",
       "      <td>7.39%</td>\n",
       "    </tr>\n",
       "  </tbody>\n",
       "</table>\n",
       "</div>"
      ],
      "text/plain": [
       "   index              agency  observed_boardings  model_boardings      diff  \\\n",
       "0      2   King County Metro          253,313.62       268,204.45 14,890.83   \n",
       "1      5       Sound Transit          113,374.00       137,007.62 23,633.62   \n",
       "2      0   Community Transit           25,962.00        27,258.31  1,296.31   \n",
       "3      4      Pierce Transit           21,185.00        13,777.16 -7,407.84   \n",
       "4      6  Washington Ferries            9,278.21         5,628.86 -3,649.35   \n",
       "5      3      Kitsap Transit            8,258.00        11,172.21  2,914.21   \n",
       "6      1     Everett Transit            4,201.00         4,705.74    504.74   \n",
       "7  Total               Total          435,571.83       467,754.36 32,182.53   \n",
       "\n",
       "  perc_diff  \n",
       "0     5.88%  \n",
       "1    20.85%  \n",
       "2     4.99%  \n",
       "3   -34.97%  \n",
       "4   -39.33%  \n",
       "5    35.29%  \n",
       "6    12.01%  \n",
       "7     7.39%  "
      ]
     },
     "execution_count": 119,
     "metadata": {},
     "output_type": "execute_result"
    }
   ],
   "source": [
    "table_df = df.copy()\n",
    "\n",
    "table_df.loc['Total','observed_boardings'] = table_df.sum(axis=0).observed_boardings\n",
    "table_df.loc['Total','model_boardings'] = table_df.sum(axis=0).model_boardings\n",
    "table_df.loc['Total','agency'] = 'Total'\n",
    "table_df['diff'] = table_df['model_boardings']-table_df['observed_boardings']\n",
    "table_df['perc_diff'] = table_df['diff']/table_df['observed_boardings']\n",
    "table_df[['observed_boardings','model_boardings','diff']] = table_df[['observed_boardings','model_boardings','diff']].astype('float')\n",
    "table_df[['perc_diff']] = table_df[['perc_diff']].applymap(format_percent)\n",
    "table_df = table_df.reset_index()\n",
    "table_df"
   ]
  },
  {
   "cell_type": "raw",
   "id": "c43063a0",
   "metadata": {
    "vscode": {
     "languageId": "raw"
    }
   },
   "source": [
    "#### 2023/2024"
   ]
  },
  {
   "cell_type": "code",
   "execution_count": 120,
   "id": "6df663cd30d914ea",
   "metadata": {
    "ExecuteTime": {
     "end_time": "2024-06-24T17:50:27.521549Z",
     "start_time": "2024-06-24T17:50:27.349538Z"
    },
    "execution": {
     "iopub.execute_input": "2024-12-14T02:38:40.091115Z",
     "iopub.status.busy": "2024-12-14T02:38:40.090118Z",
     "iopub.status.idle": "2024-12-14T02:38:40.156559Z",
     "shell.execute_reply": "2024-12-14T02:38:40.154564Z"
    }
   },
   "outputs": [
    {
     "data": {
      "text/html": [
       "<div>\n",
       "<style scoped>\n",
       "    .dataframe tbody tr th:only-of-type {\n",
       "        vertical-align: middle;\n",
       "    }\n",
       "\n",
       "    .dataframe tbody tr th {\n",
       "        vertical-align: top;\n",
       "    }\n",
       "\n",
       "    .dataframe thead th {\n",
       "        text-align: right;\n",
       "    }\n",
       "</style>\n",
       "<table border=\"1\" class=\"dataframe\">\n",
       "  <thead>\n",
       "    <tr style=\"text-align: right;\">\n",
       "      <th></th>\n",
       "      <th>agency</th>\n",
       "      <th>2023 boarding</th>\n",
       "      <th>2024 boarding</th>\n",
       "      <th>model_boardings</th>\n",
       "      <th>2023 % diff</th>\n",
       "      <th>2024 % diff</th>\n",
       "    </tr>\n",
       "  </thead>\n",
       "  <tbody>\n",
       "    <tr>\n",
       "      <th>0</th>\n",
       "      <td>Community Transit</td>\n",
       "      <td>23,000.00</td>\n",
       "      <td>0.00</td>\n",
       "      <td>27,258.31</td>\n",
       "      <td>18.51%</td>\n",
       "      <td>-</td>\n",
       "    </tr>\n",
       "    <tr>\n",
       "      <th>1</th>\n",
       "      <td>Everett Transit</td>\n",
       "      <td>0.00</td>\n",
       "      <td>0.00</td>\n",
       "      <td>4,705.74</td>\n",
       "      <td>-</td>\n",
       "      <td>-</td>\n",
       "    </tr>\n",
       "    <tr>\n",
       "      <th>2</th>\n",
       "      <td>King County Metro</td>\n",
       "      <td>244,306.00</td>\n",
       "      <td>272,556.00</td>\n",
       "      <td>268,204.45</td>\n",
       "      <td>9.78%</td>\n",
       "      <td>-1.60%</td>\n",
       "    </tr>\n",
       "    <tr>\n",
       "      <th>3</th>\n",
       "      <td>Kitsap Transit</td>\n",
       "      <td>8,000.00</td>\n",
       "      <td>9,300.00</td>\n",
       "      <td>11,172.21</td>\n",
       "      <td>39.65%</td>\n",
       "      <td>20.13%</td>\n",
       "    </tr>\n",
       "    <tr>\n",
       "      <th>4</th>\n",
       "      <td>Pierce Transit</td>\n",
       "      <td>19,974.00</td>\n",
       "      <td>0.00</td>\n",
       "      <td>13,777.16</td>\n",
       "      <td>-31.02%</td>\n",
       "      <td>-</td>\n",
       "    </tr>\n",
       "    <tr>\n",
       "      <th>5</th>\n",
       "      <td>Sound Transit</td>\n",
       "      <td>115,516.00</td>\n",
       "      <td>133,703.00</td>\n",
       "      <td>137,007.62</td>\n",
       "      <td>18.60%</td>\n",
       "      <td>2.47%</td>\n",
       "    </tr>\n",
       "    <tr>\n",
       "      <th>6</th>\n",
       "      <td>Washington Ferries</td>\n",
       "      <td>0.00</td>\n",
       "      <td>0.00</td>\n",
       "      <td>5,628.86</td>\n",
       "      <td>-</td>\n",
       "      <td>-</td>\n",
       "    </tr>\n",
       "  </tbody>\n",
       "</table>\n",
       "</div>"
      ],
      "text/plain": [
       "               agency  2023 boarding  2024 boarding  model_boardings  \\\n",
       "0   Community Transit      23,000.00           0.00        27,258.31   \n",
       "1     Everett Transit           0.00           0.00         4,705.74   \n",
       "2   King County Metro     244,306.00     272,556.00       268,204.45   \n",
       "3      Kitsap Transit       8,000.00       9,300.00        11,172.21   \n",
       "4      Pierce Transit      19,974.00           0.00        13,777.16   \n",
       "5       Sound Transit     115,516.00     133,703.00       137,007.62   \n",
       "6  Washington Ferries           0.00           0.00         5,628.86   \n",
       "\n",
       "  2023 % diff 2024 % diff  \n",
       "0      18.51%           -  \n",
       "1           -           -  \n",
       "2       9.78%      -1.60%  \n",
       "3      39.65%      20.13%  \n",
       "4     -31.02%           -  \n",
       "5      18.60%       2.47%  \n",
       "6           -           -  "
      ]
     },
     "execution_count": 120,
     "metadata": {},
     "output_type": "execute_result"
    }
   ],
   "source": [
    "df = pd.read_csv(os.path.join(csv_path, 'daily_boardings_by_agency.csv'), usecols=['agency', 'model_boardings']).sort_values('model_boardings', ascending=False)\n",
    "df_obs = pd.read_sql(text(\"SELECT * FROM observed_transit_agency_boardings\"), con=conn.connect())\n",
    "\n",
    "df_obs_agency = df_obs.copy()\n",
    "df_obs_agency['boardings'] = df_obs_agency['boardings'].astype(float)\n",
    "df_obs_agency = df_obs_agency.groupby(['agency','year'])['boardings'].sum().unstack().reset_index()\n",
    "df_obs_agency = df_obs_agency.rename(columns={2023:'2023 boarding', 2024:'2024 boarding'})\n",
    "df_agency = df_obs_agency.merge(df, on='agency')\n",
    "\n",
    "df_agency['2023 % diff'] = (df_agency['model_boardings']-df_agency['2023 boarding'])/df_agency['2023 boarding']\n",
    "df_agency['2024 % diff'] = (df_agency['model_boardings']-df_agency['2024 boarding'])/df_agency['2024 boarding']\n",
    "df_agency[['2023 % diff']] = df_agency[['2023 % diff']].applymap(format_percent)\n",
    "df_agency[['2024 % diff']] = df_agency[['2024 % diff']].applymap(format_percent)\n",
    "df_agency = df_agency.replace('inf%', '-')\n",
    "\n",
    "df_agency"
   ]
  },
  {
   "cell_type": "raw",
   "id": "b155fe89",
   "metadata": {},
   "source": [
    "#### Bus Ridership by Agency"
   ]
  },
  {
   "cell_type": "code",
   "execution_count": 121,
   "id": "843fd939",
   "metadata": {},
   "outputs": [
    {
     "data": {
      "text/html": [
       "<div>\n",
       "<style scoped>\n",
       "    .dataframe tbody tr th:only-of-type {\n",
       "        vertical-align: middle;\n",
       "    }\n",
       "\n",
       "    .dataframe tbody tr th {\n",
       "        vertical-align: top;\n",
       "    }\n",
       "\n",
       "    .dataframe thead th {\n",
       "        text-align: right;\n",
       "    }\n",
       "</style>\n",
       "<table border=\"1\" class=\"dataframe\">\n",
       "  <thead>\n",
       "    <tr style=\"text-align: right;\">\n",
       "      <th></th>\n",
       "      <th>observed_boardings</th>\n",
       "      <th>model_boardings</th>\n",
       "      <th>difference</th>\n",
       "      <th>percent diff</th>\n",
       "    </tr>\n",
       "    <tr>\n",
       "      <th>agency</th>\n",
       "      <th></th>\n",
       "      <th></th>\n",
       "      <th></th>\n",
       "      <th></th>\n",
       "    </tr>\n",
       "  </thead>\n",
       "  <tbody>\n",
       "    <tr>\n",
       "      <th>Community Transit</th>\n",
       "      <td>25,962.00</td>\n",
       "      <td>27,258.31</td>\n",
       "      <td>1,296.31</td>\n",
       "      <td>4.99%</td>\n",
       "    </tr>\n",
       "    <tr>\n",
       "      <th>Everett Transit</th>\n",
       "      <td>4,201.00</td>\n",
       "      <td>4,705.74</td>\n",
       "      <td>504.74</td>\n",
       "      <td>12.01%</td>\n",
       "    </tr>\n",
       "    <tr>\n",
       "      <th>King County Metro</th>\n",
       "      <td>251,166.45</td>\n",
       "      <td>265,869.10</td>\n",
       "      <td>14,702.65</td>\n",
       "      <td>5.85%</td>\n",
       "    </tr>\n",
       "    <tr>\n",
       "      <th>Kitsap Transit</th>\n",
       "      <td>4,048.00</td>\n",
       "      <td>5,477.29</td>\n",
       "      <td>1,429.29</td>\n",
       "      <td>35.31%</td>\n",
       "    </tr>\n",
       "    <tr>\n",
       "      <th>Pierce Transit</th>\n",
       "      <td>21,185.00</td>\n",
       "      <td>13,777.16</td>\n",
       "      <td>-7,407.84</td>\n",
       "      <td>-34.97%</td>\n",
       "    </tr>\n",
       "    <tr>\n",
       "      <th>Sound Transit</th>\n",
       "      <td>26,079.00</td>\n",
       "      <td>41,633.75</td>\n",
       "      <td>15,554.75</td>\n",
       "      <td>59.64%</td>\n",
       "    </tr>\n",
       "  </tbody>\n",
       "</table>\n",
       "</div>"
      ],
      "text/plain": [
       "                   observed_boardings  model_boardings  difference  \\\n",
       "agency                                                               \n",
       "Community Transit           25,962.00        27,258.31    1,296.31   \n",
       "Everett Transit              4,201.00         4,705.74      504.74   \n",
       "King County Metro          251,166.45       265,869.10   14,702.65   \n",
       "Kitsap Transit               4,048.00         5,477.29    1,429.29   \n",
       "Pierce Transit              21,185.00        13,777.16   -7,407.84   \n",
       "Sound Transit               26,079.00        41,633.75   15,554.75   \n",
       "\n",
       "                  percent diff  \n",
       "agency                          \n",
       "Community Transit        4.99%  \n",
       "Everett Transit         12.01%  \n",
       "King County Metro        5.85%  \n",
       "Kitsap Transit          35.31%  \n",
       "Pierce Transit         -34.97%  \n",
       "Sound Transit           59.64%  "
      ]
     },
     "execution_count": 121,
     "metadata": {},
     "output_type": "execute_result"
    }
   ],
   "source": [
    "df = pd.read_csv(os.path.join(csv_path, 'daily_boardings_by_line.csv')).sort_values('observed_boardings', ascending=False)\n",
    "df\n",
    "df = df[df['mode'].isin(['b'])]\n",
    "df = df.groupby(['agency']).sum()[['observed_boardings','model_boardings']]\n",
    "df['difference'] = df['model_boardings']-df['observed_boardings']\n",
    "df['percent diff'] = (df['difference']/df['observed_boardings'])\n",
    "df[['percent diff']] = df[['percent diff']].applymap(format_percent)\n",
    "df\n",
    "\n",
    "# table_df.loc['Total','observed_boardings'] = table_df.sum(axis=0).observed_boardings\n",
    "# table_df.loc['Total','model_boardings'] = table_df.sum(axis=0).model_boardings\n",
    "# table_df.loc['Total','agency'] = 'Total'\n",
    "# table_df['diff'] = table_df['model_boardings']-table_df['observed_boardings']\n",
    "# table_df['perc_diff'] = table_df['diff']/table_df['observed_boardings']\n",
    "# table_df[['observed_boardings','model_boardings','diff']] = table_df[['observed_boardings','model_boardings','diff']].astype('float')\n",
    "# table_df[['perc_diff']] = table_df[['perc_diff']].applymap(format_percent)\n",
    "# table_df = table_df.reset_index()\n",
    "# table_df"
   ]
  },
  {
   "cell_type": "raw",
   "id": "e64f5283",
   "metadata": {
    "vscode": {
     "languageId": "raw"
    }
   },
   "source": [
    ":::"
   ]
  },
  {
   "cell_type": "markdown",
   "id": "10436e8bdd112348",
   "metadata": {},
   "source": [
    "### boarding by key route"
   ]
  },
  {
   "cell_type": "raw",
   "id": "7d0d62e3693265f8",
   "metadata": {},
   "source": [
    ":::{.panel-tabset}\n",
    "#### ferry"
   ]
  },
  {
   "cell_type": "code",
   "execution_count": 122,
   "id": "c734c2e2",
   "metadata": {},
   "outputs": [
    {
     "data": {
      "text/html": [
       "<div>\n",
       "<style scoped>\n",
       "    .dataframe tbody tr th:only-of-type {\n",
       "        vertical-align: middle;\n",
       "    }\n",
       "\n",
       "    .dataframe tbody tr th {\n",
       "        vertical-align: top;\n",
       "    }\n",
       "\n",
       "    .dataframe thead th {\n",
       "        text-align: right;\n",
       "    }\n",
       "</style>\n",
       "<table border=\"1\" class=\"dataframe\">\n",
       "  <thead>\n",
       "    <tr style=\"text-align: right;\">\n",
       "      <th></th>\n",
       "      <th>description</th>\n",
       "      <th>mode</th>\n",
       "      <th>observed_boardings</th>\n",
       "      <th>model_boardings</th>\n",
       "      <th>diff</th>\n",
       "      <th>perc_diff</th>\n",
       "    </tr>\n",
       "  </thead>\n",
       "  <tbody>\n",
       "    <tr>\n",
       "      <th>147</th>\n",
       "      <td>973 W Sea Water Taxi</td>\n",
       "      <td>p</td>\n",
       "      <td>759.00</td>\n",
       "      <td>363.54</td>\n",
       "      <td>-395.46</td>\n",
       "      <td>-0.52</td>\n",
       "    </tr>\n",
       "    <tr>\n",
       "      <th>148</th>\n",
       "      <td>975 Vashn Water Taxi</td>\n",
       "      <td>f</td>\n",
       "      <td>338.00</td>\n",
       "      <td>360.39</td>\n",
       "      <td>22.39</td>\n",
       "      <td>0.07</td>\n",
       "    </tr>\n",
       "    <tr>\n",
       "      <th>270</th>\n",
       "      <td>Seattle-Bremerton FF</td>\n",
       "      <td>f</td>\n",
       "      <td>1,913.00</td>\n",
       "      <td>3,695.83</td>\n",
       "      <td>1,782.83</td>\n",
       "      <td>0.93</td>\n",
       "    </tr>\n",
       "    <tr>\n",
       "      <th>271</th>\n",
       "      <td>Brem-Pt Orchard FF</td>\n",
       "      <td>p</td>\n",
       "      <td>768.00</td>\n",
       "      <td>1,045.48</td>\n",
       "      <td>277.48</td>\n",
       "      <td>0.36</td>\n",
       "    </tr>\n",
       "    <tr>\n",
       "      <th>272</th>\n",
       "      <td>Brem-Annapolis FF</td>\n",
       "      <td>p</td>\n",
       "      <td>469.00</td>\n",
       "      <td>233.58</td>\n",
       "      <td>-235.42</td>\n",
       "      <td>-0.50</td>\n",
       "    </tr>\n",
       "    <tr>\n",
       "      <th>273</th>\n",
       "      <td>Seattle-Kingston FF</td>\n",
       "      <td>p</td>\n",
       "      <td>429.00</td>\n",
       "      <td>88.33</td>\n",
       "      <td>-340.67</td>\n",
       "      <td>-0.79</td>\n",
       "    </tr>\n",
       "    <tr>\n",
       "      <th>274</th>\n",
       "      <td>Seattle-Southwrth FF</td>\n",
       "      <td>f</td>\n",
       "      <td>631.00</td>\n",
       "      <td>631.71</td>\n",
       "      <td>0.71</td>\n",
       "      <td>0.00</td>\n",
       "    </tr>\n",
       "    <tr>\n",
       "      <th>278</th>\n",
       "      <td>WSF Edmonds-Kingston</td>\n",
       "      <td>f</td>\n",
       "      <td>1,500.13</td>\n",
       "      <td>201.74</td>\n",
       "      <td>-1,298.39</td>\n",
       "      <td>-0.87</td>\n",
       "    </tr>\n",
       "    <tr>\n",
       "      <th>279</th>\n",
       "      <td>WSF Seattle-Bain Isl</td>\n",
       "      <td>f</td>\n",
       "      <td>5,513.69</td>\n",
       "      <td>3,829.53</td>\n",
       "      <td>-1,684.17</td>\n",
       "      <td>-0.31</td>\n",
       "    </tr>\n",
       "    <tr>\n",
       "      <th>280</th>\n",
       "      <td>WSF Seattle-Brem</td>\n",
       "      <td>f</td>\n",
       "      <td>1,188.97</td>\n",
       "      <td>179.78</td>\n",
       "      <td>-1,009.19</td>\n",
       "      <td>-0.85</td>\n",
       "    </tr>\n",
       "    <tr>\n",
       "      <th>281</th>\n",
       "      <td>WSF Fauntleroy-Swrth</td>\n",
       "      <td>p</td>\n",
       "      <td>142.56</td>\n",
       "      <td>506.08</td>\n",
       "      <td>363.52</td>\n",
       "      <td>2.55</td>\n",
       "    </tr>\n",
       "    <tr>\n",
       "      <th>282</th>\n",
       "      <td>WSF Fauntleroy-Vashn</td>\n",
       "      <td>p</td>\n",
       "      <td>560.04</td>\n",
       "      <td>646.69</td>\n",
       "      <td>86.64</td>\n",
       "      <td>0.15</td>\n",
       "    </tr>\n",
       "    <tr>\n",
       "      <th>283</th>\n",
       "      <td>WSF Vashon-Southwrth</td>\n",
       "      <td>p</td>\n",
       "      <td>107.76</td>\n",
       "      <td>97.08</td>\n",
       "      <td>-10.67</td>\n",
       "      <td>-0.10</td>\n",
       "    </tr>\n",
       "    <tr>\n",
       "      <th>284</th>\n",
       "      <td>WSF Pt Def-Tahlequah</td>\n",
       "      <td>f</td>\n",
       "      <td>265.05</td>\n",
       "      <td>167.96</td>\n",
       "      <td>-97.10</td>\n",
       "      <td>-0.37</td>\n",
       "    </tr>\n",
       "  </tbody>\n",
       "</table>\n",
       "</div>"
      ],
      "text/plain": [
       "              description mode  observed_boardings  model_boardings      diff  \\\n",
       "147  973 W Sea Water Taxi    p              759.00           363.54   -395.46   \n",
       "148  975 Vashn Water Taxi    f              338.00           360.39     22.39   \n",
       "270  Seattle-Bremerton FF    f            1,913.00         3,695.83  1,782.83   \n",
       "271    Brem-Pt Orchard FF    p              768.00         1,045.48    277.48   \n",
       "272     Brem-Annapolis FF    p              469.00           233.58   -235.42   \n",
       "273   Seattle-Kingston FF    p              429.00            88.33   -340.67   \n",
       "274  Seattle-Southwrth FF    f              631.00           631.71      0.71   \n",
       "278  WSF Edmonds-Kingston    f            1,500.13           201.74 -1,298.39   \n",
       "279  WSF Seattle-Bain Isl    f            5,513.69         3,829.53 -1,684.17   \n",
       "280      WSF Seattle-Brem    f            1,188.97           179.78 -1,009.19   \n",
       "281  WSF Fauntleroy-Swrth    p              142.56           506.08    363.52   \n",
       "282  WSF Fauntleroy-Vashn    p              560.04           646.69     86.64   \n",
       "283  WSF Vashon-Southwrth    p              107.76            97.08    -10.67   \n",
       "284  WSF Pt Def-Tahlequah    f              265.05           167.96    -97.10   \n",
       "\n",
       "     perc_diff  \n",
       "147      -0.52  \n",
       "148       0.07  \n",
       "270       0.93  \n",
       "271       0.36  \n",
       "272      -0.50  \n",
       "273      -0.79  \n",
       "274       0.00  \n",
       "278      -0.87  \n",
       "279      -0.31  \n",
       "280      -0.85  \n",
       "281       2.55  \n",
       "282       0.15  \n",
       "283      -0.10  \n",
       "284      -0.37  "
      ]
     },
     "execution_count": 122,
     "metadata": {},
     "output_type": "execute_result"
    }
   ],
   "source": [
    "# df_boarding_key = pd.read_csv(os.path.join(csv_path,'daily_boardings_key_routes.csv'), index_col='description')\n",
    "# # df_boarding_key[['observed_boardings','model_boardings']] = df_boarding_key[['observed_boardings','model_boardings']].astype('float')\n",
    "# # df = df_boarding_key[df_boarding_key['route_code'].isin([4200,4201,4203,4204,5001,5002,5003,5004,5005,5006,5007,1973,1975])].reset_index()\n",
    "# # df.drop(['route_code','agency'], axis=1, inplace=True)\n",
    "# # df\n",
    "# df_boarding_key\n",
    "df = pd.read_csv(os.path.join(csv_path, 'daily_boardings_by_line.csv'))\n",
    "df = df[df['mode'].isin(['f','p'])][['description','mode','observed_boardings','model_boardings','diff','perc_diff']]\n",
    "df"
   ]
  },
  {
   "cell_type": "code",
   "execution_count": null,
   "id": "da96ea0d",
   "metadata": {},
   "outputs": [],
   "source": []
  },
  {
   "cell_type": "code",
   "execution_count": 123,
   "id": "75118f994b2c8118",
   "metadata": {
    "ExecuteTime": {
     "end_time": "2024-06-24T20:05:33.107476Z",
     "start_time": "2024-06-24T20:05:33.044901Z"
    },
    "execution": {
     "iopub.execute_input": "2024-12-14T02:38:40.169525Z",
     "iopub.status.busy": "2024-12-14T02:38:40.168527Z",
     "iopub.status.idle": "2024-12-14T02:38:40.235796Z",
     "shell.execute_reply": "2024-12-14T02:38:40.234293Z"
    }
   },
   "outputs": [
    {
     "data": {
      "text/html": [
       "<div>\n",
       "<style scoped>\n",
       "    .dataframe tbody tr th:only-of-type {\n",
       "        vertical-align: middle;\n",
       "    }\n",
       "\n",
       "    .dataframe tbody tr th {\n",
       "        vertical-align: top;\n",
       "    }\n",
       "\n",
       "    .dataframe thead th {\n",
       "        text-align: right;\n",
       "    }\n",
       "</style>\n",
       "<table border=\"1\" class=\"dataframe\">\n",
       "  <thead>\n",
       "    <tr style=\"text-align: right;\">\n",
       "      <th></th>\n",
       "      <th>description</th>\n",
       "      <th>observed_boardings</th>\n",
       "      <th>model_boardings</th>\n",
       "      <th>diff</th>\n",
       "      <th>perc_diff</th>\n",
       "    </tr>\n",
       "  </thead>\n",
       "  <tbody>\n",
       "  </tbody>\n",
       "</table>\n",
       "</div>"
      ],
      "text/plain": [
       "Empty DataFrame\n",
       "Columns: [description, observed_boardings, model_boardings, diff, perc_diff]\n",
       "Index: []"
      ]
     },
     "execution_count": 123,
     "metadata": {},
     "output_type": "execute_result"
    }
   ],
   "source": [
    "df_boarding_key = pd.read_csv(os.path.join(csv_path,'daily_boardings_key_routes.csv'), index_col='description')\n",
    "df_boarding_key[['observed_boardings','model_boardings']] = df_boarding_key[['observed_boardings','model_boardings']].astype('float')\n",
    "\n",
    "df = df_boarding_key[df_boarding_key['route_code'].isin([4200,4201,4203,4204,5001,5002,5003,5004,5005,5006,5007,1973,1975])].reset_index()\n",
    "df.drop(['route_code','agency'], axis=1, inplace=True)\n",
    "\n",
    "df_table = df.copy()\n",
    "df_table[['perc_diff']] = df_table[['perc_diff']].applymap(format_percent)\n",
    "df_table"
   ]
  },
  {
   "cell_type": "code",
   "execution_count": 124,
   "id": "67bf06d211cca3c6",
   "metadata": {
    "ExecuteTime": {
     "end_time": "2024-06-24T19:41:04.985397Z",
     "start_time": "2024-06-24T19:41:04.798158Z"
    },
    "execution": {
     "iopub.execute_input": "2024-12-14T02:38:40.247764Z",
     "iopub.status.busy": "2024-12-14T02:38:40.246767Z",
     "iopub.status.idle": "2024-12-14T02:38:40.267712Z",
     "shell.execute_reply": "2024-12-14T02:38:40.265717Z"
    }
   },
   "outputs": [],
   "source": [
    "if len(df) > 0:\n",
    "    ax = df.plot(kind='scatter', x='observed_boardings', y='model_boardings')\n",
    "    lim = df[['observed_boardings','model_boardings']].max().max()*1.05\n",
    "    ax.set_ylim(0,lim)\n",
    "    ax.set_xlim(0,lim)\n",
    "    x = np.linspace(*ax.get_xlim())\n",
    "    ax.plot(x, x)\n",
    "    slope, intercept, r_value, p_value, std_err = stats.linregress(df['observed_boardings'],df['model_boardings'])\n",
    "    print('r^2 ' + str('') + ': ' + str(r_value))"
   ]
  },
  {
   "cell_type": "code",
   "execution_count": 125,
   "id": "693dd2ccc9b68311",
   "metadata": {
    "ExecuteTime": {
     "end_time": "2024-06-24T20:05:41.122932Z",
     "start_time": "2024-06-24T20:05:41.060989Z"
    },
    "execution": {
     "iopub.execute_input": "2024-12-14T02:38:40.279681Z",
     "iopub.status.busy": "2024-12-14T02:38:40.277686Z",
     "iopub.status.idle": "2024-12-14T02:38:40.346023Z",
     "shell.execute_reply": "2024-12-14T02:38:40.344519Z"
    }
   },
   "outputs": [],
   "source": [
    "# df = pd.read_csv(os.path.join(csv_path,'bike_ferry_boardings.csv')).sort_values('@bvol', ascending=False)\n",
    "# df['route_code'] = df['route_code'].astype('int')\n",
    "# df[['route_code','description', '@bvol']]"
   ]
  },
  {
   "cell_type": "raw",
   "id": "14db883222970442",
   "metadata": {},
   "source": [
    "#### rail"
   ]
  },
  {
   "cell_type": "code",
   "execution_count": 126,
   "id": "c9adf289ac66da8",
   "metadata": {
    "ExecuteTime": {
     "end_time": "2024-06-24T20:05:45.826421Z",
     "start_time": "2024-06-24T20:05:45.779797Z"
    },
    "execution": {
     "iopub.execute_input": "2024-12-14T02:38:40.358988Z",
     "iopub.status.busy": "2024-12-14T02:38:40.356994Z",
     "iopub.status.idle": "2024-12-14T02:38:40.393246Z",
     "shell.execute_reply": "2024-12-14T02:38:40.391251Z"
    }
   },
   "outputs": [
    {
     "data": {
      "text/html": [
       "<div>\n",
       "<style scoped>\n",
       "    .dataframe tbody tr th:only-of-type {\n",
       "        vertical-align: middle;\n",
       "    }\n",
       "\n",
       "    .dataframe tbody tr th {\n",
       "        vertical-align: top;\n",
       "    }\n",
       "\n",
       "    .dataframe thead th {\n",
       "        text-align: right;\n",
       "    }\n",
       "</style>\n",
       "<table border=\"1\" class=\"dataframe\">\n",
       "  <thead>\n",
       "    <tr style=\"text-align: right;\">\n",
       "      <th></th>\n",
       "      <th>description</th>\n",
       "      <th>observed_boardings</th>\n",
       "      <th>model_boardings</th>\n",
       "      <th>diff</th>\n",
       "      <th>perc_diff</th>\n",
       "    </tr>\n",
       "  </thead>\n",
       "  <tbody>\n",
       "    <tr>\n",
       "      <th>0</th>\n",
       "      <td>Sounder South</td>\n",
       "      <td>6,038.00</td>\n",
       "      <td>7,017.47</td>\n",
       "      <td>979.47</td>\n",
       "      <td>16.22%</td>\n",
       "    </tr>\n",
       "    <tr>\n",
       "      <th>1</th>\n",
       "      <td>Sounder North</td>\n",
       "      <td>316.00</td>\n",
       "      <td>3.20</td>\n",
       "      <td>-312.80</td>\n",
       "      <td>-98.99%</td>\n",
       "    </tr>\n",
       "  </tbody>\n",
       "</table>\n",
       "</div>"
      ],
      "text/plain": [
       "     description  observed_boardings  model_boardings    diff perc_diff\n",
       "0  Sounder South            6,038.00         7,017.47  979.47    16.22%\n",
       "1  Sounder North              316.00             3.20 -312.80   -98.99%"
      ]
     },
     "execution_count": 126,
     "metadata": {},
     "output_type": "execute_result"
    }
   ],
   "source": [
    "df = df_boarding_key[df_boarding_key['route_code'].isin([6996,6999,6998])].reset_index()\n",
    "df['description'] = df['route_code'].map({6998: 'Sounder South', 6999: 'Sounder North',6996: 'Link Red Line'})\n",
    "df.drop(['route_code','agency'], axis=1, inplace=True)\n",
    "\n",
    "df_table = df.copy()\n",
    "df_table[['perc_diff']] = df_table[['perc_diff']].applymap(format_percent)\n",
    "\n",
    "df_table"
   ]
  },
  {
   "cell_type": "code",
   "execution_count": 127,
   "id": "cb27f79888f8363d",
   "metadata": {
    "ExecuteTime": {
     "end_time": "2024-06-24T19:41:16.172926Z",
     "start_time": "2024-06-24T19:41:15.922628Z"
    },
    "execution": {
     "iopub.execute_input": "2024-12-14T02:38:40.404216Z",
     "iopub.status.busy": "2024-12-14T02:38:40.403219Z",
     "iopub.status.idle": "2024-12-14T02:38:40.833802Z",
     "shell.execute_reply": "2024-12-14T02:38:40.831807Z"
    }
   },
   "outputs": [
    {
     "name": "stdout",
     "output_type": "stream",
     "text": [
      "r^2 : 1.0\n"
     ]
    },
    {
     "data": {
      "image/png": "[encoded data removed]",
      "text/plain": [
       "<Figure size 432x288 with 1 Axes>"
      ]
     },
     "metadata": {
      "needs_background": "light"
     },
     "output_type": "display_data"
    }
   ],
   "source": [
    "if len(df) > 0:\n",
    "    ax = df.plot(kind='scatter', x='observed_boardings', y='model_boardings')\n",
    "    lim = df[['observed_boardings','model_boardings']].max().max()*1.05\n",
    "    ax.set_ylim(0,lim)\n",
    "    ax.set_xlim(0,lim)\n",
    "    x = np.linspace(*ax.get_xlim())\n",
    "    ax.plot(x, x)\n",
    "    slope, intercept, r_value, p_value, std_err = stats.linregress(df['observed_boardings'],df['model_boardings'])\n",
    "    print('r^2 ' + str('') + ': ' + str(r_value))"
   ]
  },
  {
   "cell_type": "raw",
   "id": "a24f21772d15369c",
   "metadata": {},
   "source": [
    "#### RapidRide, busiest buses, streetcar"
   ]
  },
  {
   "cell_type": "code",
   "execution_count": 128,
   "id": "a048f8a2b6d7d277",
   "metadata": {
    "ExecuteTime": {
     "end_time": "2024-06-24T20:05:51.529079Z",
     "start_time": "2024-06-24T20:05:51.482757Z"
    },
    "execution": {
     "iopub.execute_input": "2024-12-14T02:38:40.845770Z",
     "iopub.status.busy": "2024-12-14T02:38:40.844772Z",
     "iopub.status.idle": "2024-12-14T02:38:40.911021Z",
     "shell.execute_reply": "2024-12-14T02:38:40.909026Z"
    }
   },
   "outputs": [
    {
     "data": {
      "text/html": [
       "<div>\n",
       "<style scoped>\n",
       "    .dataframe tbody tr th:only-of-type {\n",
       "        vertical-align: middle;\n",
       "    }\n",
       "\n",
       "    .dataframe tbody tr th {\n",
       "        vertical-align: top;\n",
       "    }\n",
       "\n",
       "    .dataframe thead th {\n",
       "        text-align: right;\n",
       "    }\n",
       "</style>\n",
       "<table border=\"1\" class=\"dataframe\">\n",
       "  <thead>\n",
       "    <tr style=\"text-align: right;\">\n",
       "      <th></th>\n",
       "      <th>description</th>\n",
       "      <th>observed_boardings</th>\n",
       "      <th>model_boardings</th>\n",
       "      <th>diff</th>\n",
       "      <th>perc_diff</th>\n",
       "    </tr>\n",
       "  </thead>\n",
       "  <tbody>\n",
       "    <tr>\n",
       "      <th>4</th>\n",
       "      <td>E Line RapidRide</td>\n",
       "      <td>11,426.00</td>\n",
       "      <td>14,658.52</td>\n",
       "      <td>3,232.52</td>\n",
       "      <td>28.29%</td>\n",
       "    </tr>\n",
       "    <tr>\n",
       "      <th>2</th>\n",
       "      <td>C Line RapidRide</td>\n",
       "      <td>7,250.00</td>\n",
       "      <td>10,056.75</td>\n",
       "      <td>2,806.75</td>\n",
       "      <td>38.71%</td>\n",
       "    </tr>\n",
       "    <tr>\n",
       "      <th>3</th>\n",
       "      <td>D Line RapidRide</td>\n",
       "      <td>9,044.00</td>\n",
       "      <td>7,332.42</td>\n",
       "      <td>-1,711.58</td>\n",
       "      <td>-18.93%</td>\n",
       "    </tr>\n",
       "    <tr>\n",
       "      <th>0</th>\n",
       "      <td>A Line RapidRide</td>\n",
       "      <td>8,412.00</td>\n",
       "      <td>6,356.19</td>\n",
       "      <td>-2,055.81</td>\n",
       "      <td>-24.44%</td>\n",
       "    </tr>\n",
       "    <tr>\n",
       "      <th>1</th>\n",
       "      <td>B Line RapidRide</td>\n",
       "      <td>4,177.00</td>\n",
       "      <td>3,299.96</td>\n",
       "      <td>-877.04</td>\n",
       "      <td>-21.00%</td>\n",
       "    </tr>\n",
       "  </tbody>\n",
       "</table>\n",
       "</div>"
      ],
      "text/plain": [
       "        description  observed_boardings  model_boardings      diff perc_diff\n",
       "4  E Line RapidRide           11,426.00        14,658.52  3,232.52    28.29%\n",
       "2  C Line RapidRide            7,250.00        10,056.75  2,806.75    38.71%\n",
       "3  D Line RapidRide            9,044.00         7,332.42 -1,711.58   -18.93%\n",
       "0  A Line RapidRide            8,412.00         6,356.19 -2,055.81   -24.44%\n",
       "1  B Line RapidRide            4,177.00         3,299.96   -877.04   -21.00%"
      ]
     },
     "execution_count": 128,
     "metadata": {},
     "output_type": "execute_result"
    }
   ],
   "source": [
    "df = df_boarding_key[df_boarding_key['route_code'].isin([1671,1672,1673,1674,1675,1676,6550,1007,1040,1997,1998])].reset_index()\n",
    "df['description'] = df['route_code'].map({1671: 'A Line RapidRide', 1672: 'B Line RapidRide',\n",
    "                                            1673: 'C Line RapidRide', 1674: 'D Line RapidRide',\n",
    "                                            1675: 'E Line RapidRide', 1676: 'F Line RapidRide',\n",
    "                                            6550: 'Sound Transit 550', 1040: 'KC Metro 40', 1007: 'KC Metro 7',\n",
    "                                            1997: 'SLU Streetcar', 1998: 'First Hill Streetcar'})\n",
    "df.drop(['route_code','agency'], axis=1, inplace=True)\n",
    "\n",
    "df_table = df.copy()\n",
    "df_table[['perc_diff']] = df_table[['perc_diff']].applymap(format_percent)\n",
    "df_table.sort_values('model_boardings', ascending=False)"
   ]
  },
  {
   "cell_type": "code",
   "execution_count": 129,
   "id": "813aa67bd5e6c1f6",
   "metadata": {
    "ExecuteTime": {
     "end_time": "2024-06-24T19:41:23.547293Z",
     "start_time": "2024-06-24T19:41:23.312803Z"
    },
    "execution": {
     "iopub.execute_input": "2024-12-14T02:38:40.921991Z",
     "iopub.status.busy": "2024-12-14T02:38:40.920994Z",
     "iopub.status.idle": "2024-12-14T02:38:41.159750Z",
     "shell.execute_reply": "2024-12-14T02:38:41.157755Z"
    }
   },
   "outputs": [
    {
     "name": "stdout",
     "output_type": "stream",
     "text": [
      "r^2 : 0.8315758237277817\n"
     ]
    },
    {
     "data": {
      "image/png": "[encoded data removed]",
      "text/plain": [
       "<Figure size 432x288 with 1 Axes>"
      ]
     },
     "metadata": {
      "needs_background": "light"
     },
     "output_type": "display_data"
    }
   ],
   "source": [
    "if len(df) > 0:\n",
    "    ax = df.plot(kind='scatter', x='observed_boardings', y='model_boardings')\n",
    "    lim = df[['observed_boardings', 'model_boardings']].max().max() * 1.05\n",
    "    ax.set_ylim(0, lim)\n",
    "    ax.set_xlim(0, lim)\n",
    "    x = np.linspace(*ax.get_xlim())\n",
    "    ax.plot(x, x)\n",
    "    slope, intercept, r_value, p_value, std_err = stats.linregress(df['observed_boardings'], df['model_boardings'])\n",
    "    print('r^2 ' + str('') + ': ' + str(r_value))"
   ]
  },
  {
   "cell_type": "raw",
   "id": "c55611b2314fffc3",
   "metadata": {},
   "source": [
    ":::"
   ]
  },
  {
   "cell_type": "markdown",
   "id": "e050a08b",
   "metadata": {},
   "source": [
    "### Top routes by agency"
   ]
  },
  {
   "cell_type": "code",
   "execution_count": 130,
   "id": "58d89e2b",
   "metadata": {},
   "outputs": [],
   "source": [
    "df = pd.read_csv(os.path.join(csv_path, 'daily_boardings_by_line.csv'))\n",
    "# df_top = pd.DataFrame()\n",
    "# for agency in df['agency'].unique():\n",
    "#     _df = df[df['agency'] == agency].sort_values('model_boardings', ascending=False).head(8)\n",
    "#     df_top = pd.concat([df_top, _df])\n",
    "# df = df_top[['agency','description','mode','model_boardings','observed_boardings','diff','perc_diff']]\n",
    "cols=['agency','description','mode','model_boardings','observed_boardings','diff','perc_diff']"
   ]
  },
  {
   "cell_type": "raw",
   "id": "7972e453",
   "metadata": {},
   "source": [
    ":::{.panel-tabset}\n",
    "#### King County Metro"
   ]
  },
  {
   "cell_type": "code",
   "execution_count": 131,
   "id": "35a6745d",
   "metadata": {},
   "outputs": [
    {
     "data": {
      "text/html": [
       "<div>\n",
       "<style scoped>\n",
       "    .dataframe tbody tr th:only-of-type {\n",
       "        vertical-align: middle;\n",
       "    }\n",
       "\n",
       "    .dataframe tbody tr th {\n",
       "        vertical-align: top;\n",
       "    }\n",
       "\n",
       "    .dataframe thead th {\n",
       "        text-align: right;\n",
       "    }\n",
       "</style>\n",
       "<table border=\"1\" class=\"dataframe\">\n",
       "  <thead>\n",
       "    <tr style=\"text-align: right;\">\n",
       "      <th></th>\n",
       "      <th>agency</th>\n",
       "      <th>description</th>\n",
       "      <th>mode</th>\n",
       "      <th>model_boardings</th>\n",
       "      <th>observed_boardings</th>\n",
       "      <th>diff</th>\n",
       "      <th>perc_diff</th>\n",
       "    </tr>\n",
       "  </thead>\n",
       "  <tbody>\n",
       "    <tr>\n",
       "      <th>130</th>\n",
       "      <td>King County Metro</td>\n",
       "      <td>E-Line</td>\n",
       "      <td>b</td>\n",
       "      <td>14,658.52</td>\n",
       "      <td>11,426.00</td>\n",
       "      <td>3,232.52</td>\n",
       "      <td>0.28</td>\n",
       "    </tr>\n",
       "    <tr>\n",
       "      <th>5</th>\n",
       "      <td>King County Metro</td>\n",
       "      <td>7 Rain Bch-ColC-CBD</td>\n",
       "      <td>b</td>\n",
       "      <td>11,032.94</td>\n",
       "      <td>9,954.00</td>\n",
       "      <td>1,078.94</td>\n",
       "      <td>0.11</td>\n",
       "    </tr>\n",
       "    <tr>\n",
       "      <th>128</th>\n",
       "      <td>King County Metro</td>\n",
       "      <td>C Line</td>\n",
       "      <td>b</td>\n",
       "      <td>10,056.75</td>\n",
       "      <td>7,250.00</td>\n",
       "      <td>2,806.75</td>\n",
       "      <td>0.39</td>\n",
       "    </tr>\n",
       "    <tr>\n",
       "      <th>28</th>\n",
       "      <td>King County Metro</td>\n",
       "      <td>40 Ngt-Bal-Fre-CBD</td>\n",
       "      <td>b</td>\n",
       "      <td>8,169.24</td>\n",
       "      <td>7,208.00</td>\n",
       "      <td>961.24</td>\n",
       "      <td>0.13</td>\n",
       "    </tr>\n",
       "    <tr>\n",
       "      <th>129</th>\n",
       "      <td>King County Metro</td>\n",
       "      <td>D Line</td>\n",
       "      <td>b</td>\n",
       "      <td>7,332.42</td>\n",
       "      <td>9,044.00</td>\n",
       "      <td>-1,711.58</td>\n",
       "      <td>-0.19</td>\n",
       "    </tr>\n",
       "    <tr>\n",
       "      <th>132</th>\n",
       "      <td>King County Metro</td>\n",
       "      <td>H-Line</td>\n",
       "      <td>b</td>\n",
       "      <td>6,971.95</td>\n",
       "      <td>6,907.00</td>\n",
       "      <td>64.95</td>\n",
       "      <td>0.01</td>\n",
       "    </tr>\n",
       "    <tr>\n",
       "      <th>67</th>\n",
       "      <td>King County Metro</td>\n",
       "      <td>160 Aub-Kent-Rent</td>\n",
       "      <td>b</td>\n",
       "      <td>6,596.30</td>\n",
       "      <td>5,058.00</td>\n",
       "      <td>1,538.30</td>\n",
       "      <td>0.30</td>\n",
       "    </tr>\n",
       "    <tr>\n",
       "      <th>126</th>\n",
       "      <td>King County Metro</td>\n",
       "      <td>A Line</td>\n",
       "      <td>b</td>\n",
       "      <td>6,356.19</td>\n",
       "      <td>8,412.00</td>\n",
       "      <td>-2,055.81</td>\n",
       "      <td>-0.24</td>\n",
       "    </tr>\n",
       "    <tr>\n",
       "      <th>39</th>\n",
       "      <td>King County Metro</td>\n",
       "      <td>62 SndPt-GLk-Fre-CBD</td>\n",
       "      <td>b</td>\n",
       "      <td>6,144.35</td>\n",
       "      <td>5,899.00</td>\n",
       "      <td>245.35</td>\n",
       "      <td>0.04</td>\n",
       "    </tr>\n",
       "    <tr>\n",
       "      <th>43</th>\n",
       "      <td>King County Metro</td>\n",
       "      <td>70 Udst-Elake-CBD</td>\n",
       "      <td>b</td>\n",
       "      <td>5,863.69</td>\n",
       "      <td>4,189.00</td>\n",
       "      <td>1,674.69</td>\n",
       "      <td>0.40</td>\n",
       "    </tr>\n",
       "  </tbody>\n",
       "</table>\n",
       "</div>"
      ],
      "text/plain": [
       "                agency           description mode  model_boardings  \\\n",
       "130  King County Metro                E-Line    b        14,658.52   \n",
       "5    King County Metro   7 Rain Bch-ColC-CBD    b        11,032.94   \n",
       "128  King County Metro                C Line    b        10,056.75   \n",
       "28   King County Metro    40 Ngt-Bal-Fre-CBD    b         8,169.24   \n",
       "129  King County Metro                D Line    b         7,332.42   \n",
       "132  King County Metro                H-Line    b         6,971.95   \n",
       "67   King County Metro     160 Aub-Kent-Rent    b         6,596.30   \n",
       "126  King County Metro                A Line    b         6,356.19   \n",
       "39   King County Metro  62 SndPt-GLk-Fre-CBD    b         6,144.35   \n",
       "43   King County Metro     70 Udst-Elake-CBD    b         5,863.69   \n",
       "\n",
       "     observed_boardings      diff  perc_diff  \n",
       "130           11,426.00  3,232.52       0.28  \n",
       "5              9,954.00  1,078.94       0.11  \n",
       "128            7,250.00  2,806.75       0.39  \n",
       "28             7,208.00    961.24       0.13  \n",
       "129            9,044.00 -1,711.58      -0.19  \n",
       "132            6,907.00     64.95       0.01  \n",
       "67             5,058.00  1,538.30       0.30  \n",
       "126            8,412.00 -2,055.81      -0.24  \n",
       "39             5,899.00    245.35       0.04  \n",
       "43             4,189.00  1,674.69       0.40  "
      ]
     },
     "execution_count": 131,
     "metadata": {},
     "output_type": "execute_result"
    }
   ],
   "source": [
    "agency = 'King County Metro'\n",
    "df[df['agency'] == agency].sort_values('model_boardings', ascending=False).head(10)[cols]"
   ]
  },
  {
   "cell_type": "raw",
   "id": "cbdadc57",
   "metadata": {},
   "source": [
    "#### Sound Transit"
   ]
  },
  {
   "cell_type": "code",
   "execution_count": 132,
   "id": "fbbb65ca",
   "metadata": {},
   "outputs": [
    {
     "data": {
      "text/html": [
       "<div>\n",
       "<style scoped>\n",
       "    .dataframe tbody tr th:only-of-type {\n",
       "        vertical-align: middle;\n",
       "    }\n",
       "\n",
       "    .dataframe tbody tr th {\n",
       "        vertical-align: top;\n",
       "    }\n",
       "\n",
       "    .dataframe thead th {\n",
       "        text-align: right;\n",
       "    }\n",
       "</style>\n",
       "<table border=\"1\" class=\"dataframe\">\n",
       "  <thead>\n",
       "    <tr style=\"text-align: right;\">\n",
       "      <th></th>\n",
       "      <th>agency</th>\n",
       "      <th>description</th>\n",
       "      <th>mode</th>\n",
       "      <th>model_boardings</th>\n",
       "      <th>observed_boardings</th>\n",
       "      <th>diff</th>\n",
       "      <th>perc_diff</th>\n",
       "    </tr>\n",
       "  </thead>\n",
       "  <tbody>\n",
       "    <tr>\n",
       "      <th>309</th>\n",
       "      <td>Sound Transit</td>\n",
       "      <td>Light Rail Ang Lk-NG</td>\n",
       "      <td>r</td>\n",
       "      <td>86,505.92</td>\n",
       "      <td>79,522.00</td>\n",
       "      <td>6,983.92</td>\n",
       "      <td>0.09</td>\n",
       "    </tr>\n",
       "    <tr>\n",
       "      <th>293</th>\n",
       "      <td>Sound Transit</td>\n",
       "      <td>550 Bellevue-Seattle</td>\n",
       "      <td>b</td>\n",
       "      <td>7,079.87</td>\n",
       "      <td>3,351.00</td>\n",
       "      <td>3,728.87</td>\n",
       "      <td>1.11</td>\n",
       "    </tr>\n",
       "    <tr>\n",
       "      <th>310</th>\n",
       "      <td>Sound Transit</td>\n",
       "      <td>Commutr Rail Tac-Sea</td>\n",
       "      <td>c</td>\n",
       "      <td>7,017.47</td>\n",
       "      <td>6,038.00</td>\n",
       "      <td>979.47</td>\n",
       "      <td>0.16</td>\n",
       "    </tr>\n",
       "    <tr>\n",
       "      <th>286</th>\n",
       "      <td>Sound Transit</td>\n",
       "      <td>512 Everett-Northgte</td>\n",
       "      <td>b</td>\n",
       "      <td>5,043.23</td>\n",
       "      <td>2,251.00</td>\n",
       "      <td>2,792.23</td>\n",
       "      <td>1.24</td>\n",
       "    </tr>\n",
       "    <tr>\n",
       "      <th>292</th>\n",
       "      <td>Sound Transit</td>\n",
       "      <td>545 Redmond-Seattle</td>\n",
       "      <td>b</td>\n",
       "      <td>4,837.63</td>\n",
       "      <td>3,340.00</td>\n",
       "      <td>1,497.63</td>\n",
       "      <td>0.45</td>\n",
       "    </tr>\n",
       "    <tr>\n",
       "      <th>288</th>\n",
       "      <td>Sound Transit</td>\n",
       "      <td>522 Woodinvl-Roosvlt</td>\n",
       "      <td>b</td>\n",
       "      <td>4,802.12</td>\n",
       "      <td>1,736.00</td>\n",
       "      <td>3,066.12</td>\n",
       "      <td>1.77</td>\n",
       "    </tr>\n",
       "    <tr>\n",
       "      <th>294</th>\n",
       "      <td>Sound Transit</td>\n",
       "      <td>554 Issaquah-Seattle</td>\n",
       "      <td>b</td>\n",
       "      <td>4,127.82</td>\n",
       "      <td>2,153.00</td>\n",
       "      <td>1,974.82</td>\n",
       "      <td>0.92</td>\n",
       "    </tr>\n",
       "    <tr>\n",
       "      <th>300</th>\n",
       "      <td>Sound Transit</td>\n",
       "      <td>578 Seattle-Puyallup</td>\n",
       "      <td>b</td>\n",
       "      <td>2,824.57</td>\n",
       "      <td>1,460.00</td>\n",
       "      <td>1,364.57</td>\n",
       "      <td>0.93</td>\n",
       "    </tr>\n",
       "    <tr>\n",
       "      <th>298</th>\n",
       "      <td>Sound Transit</td>\n",
       "      <td>574 Lakewood-SeaTac</td>\n",
       "      <td>b</td>\n",
       "      <td>2,157.51</td>\n",
       "      <td>1,848.00</td>\n",
       "      <td>309.51</td>\n",
       "      <td>0.17</td>\n",
       "    </tr>\n",
       "    <tr>\n",
       "      <th>296</th>\n",
       "      <td>Sound Transit</td>\n",
       "      <td>560 W Sea-Bellevue</td>\n",
       "      <td>b</td>\n",
       "      <td>2,120.33</td>\n",
       "      <td>1,227.00</td>\n",
       "      <td>893.33</td>\n",
       "      <td>0.73</td>\n",
       "    </tr>\n",
       "  </tbody>\n",
       "</table>\n",
       "</div>"
      ],
      "text/plain": [
       "            agency           description mode  model_boardings  \\\n",
       "309  Sound Transit  Light Rail Ang Lk-NG    r        86,505.92   \n",
       "293  Sound Transit  550 Bellevue-Seattle    b         7,079.87   \n",
       "310  Sound Transit  Commutr Rail Tac-Sea    c         7,017.47   \n",
       "286  Sound Transit  512 Everett-Northgte    b         5,043.23   \n",
       "292  Sound Transit   545 Redmond-Seattle    b         4,837.63   \n",
       "288  Sound Transit  522 Woodinvl-Roosvlt    b         4,802.12   \n",
       "294  Sound Transit  554 Issaquah-Seattle    b         4,127.82   \n",
       "300  Sound Transit  578 Seattle-Puyallup    b         2,824.57   \n",
       "298  Sound Transit   574 Lakewood-SeaTac    b         2,157.51   \n",
       "296  Sound Transit    560 W Sea-Bellevue    b         2,120.33   \n",
       "\n",
       "     observed_boardings     diff  perc_diff  \n",
       "309           79,522.00 6,983.92       0.09  \n",
       "293            3,351.00 3,728.87       1.11  \n",
       "310            6,038.00   979.47       0.16  \n",
       "286            2,251.00 2,792.23       1.24  \n",
       "292            3,340.00 1,497.63       0.45  \n",
       "288            1,736.00 3,066.12       1.77  \n",
       "294            2,153.00 1,974.82       0.92  \n",
       "300            1,460.00 1,364.57       0.93  \n",
       "298            1,848.00   309.51       0.17  \n",
       "296            1,227.00   893.33       0.73  "
      ]
     },
     "execution_count": 132,
     "metadata": {},
     "output_type": "execute_result"
    }
   ],
   "source": [
    "agency = 'Sound Transit'\n",
    "df[df['agency'] == agency].sort_values('model_boardings', ascending=False).head(10)[cols]"
   ]
  },
  {
   "cell_type": "raw",
   "id": "5bb6872d",
   "metadata": {},
   "source": [
    "#### Community Transit"
   ]
  },
  {
   "cell_type": "code",
   "execution_count": 133,
   "id": "f7994dd7",
   "metadata": {},
   "outputs": [
    {
     "data": {
      "text/html": [
       "<div>\n",
       "<style scoped>\n",
       "    .dataframe tbody tr th:only-of-type {\n",
       "        vertical-align: middle;\n",
       "    }\n",
       "\n",
       "    .dataframe tbody tr th {\n",
       "        vertical-align: top;\n",
       "    }\n",
       "\n",
       "    .dataframe thead th {\n",
       "        text-align: right;\n",
       "    }\n",
       "</style>\n",
       "<table border=\"1\" class=\"dataframe\">\n",
       "  <thead>\n",
       "    <tr style=\"text-align: right;\">\n",
       "      <th></th>\n",
       "      <th>agency</th>\n",
       "      <th>description</th>\n",
       "      <th>mode</th>\n",
       "      <th>model_boardings</th>\n",
       "      <th>observed_boardings</th>\n",
       "      <th>diff</th>\n",
       "      <th>perc_diff</th>\n",
       "    </tr>\n",
       "  </thead>\n",
       "  <tbody>\n",
       "    <tr>\n",
       "      <th>230</th>\n",
       "      <td>Community Transit</td>\n",
       "      <td>Swift Blue</td>\n",
       "      <td>b</td>\n",
       "      <td>6,122.17</td>\n",
       "      <td>3,804.00</td>\n",
       "      <td>2,318.17</td>\n",
       "      <td>0.61</td>\n",
       "    </tr>\n",
       "    <tr>\n",
       "      <th>231</th>\n",
       "      <td>Community Transit</td>\n",
       "      <td>Swift Green</td>\n",
       "      <td>b</td>\n",
       "      <td>2,499.82</td>\n",
       "      <td>3,000.00</td>\n",
       "      <td>-500.18</td>\n",
       "      <td>-0.17</td>\n",
       "    </tr>\n",
       "    <tr>\n",
       "      <th>200</th>\n",
       "      <td>Community Transit</td>\n",
       "      <td>116 Edm-Silver Firs</td>\n",
       "      <td>b</td>\n",
       "      <td>2,127.29</td>\n",
       "      <td>955.00</td>\n",
       "      <td>1,172.29</td>\n",
       "      <td>1.23</td>\n",
       "    </tr>\n",
       "    <tr>\n",
       "      <th>199</th>\n",
       "      <td>Community Transit</td>\n",
       "      <td>115 McClm P&amp;R-AurVil</td>\n",
       "      <td>b</td>\n",
       "      <td>1,631.61</td>\n",
       "      <td>1,133.00</td>\n",
       "      <td>498.61</td>\n",
       "      <td>0.44</td>\n",
       "    </tr>\n",
       "    <tr>\n",
       "      <th>206</th>\n",
       "      <td>Community Transit</td>\n",
       "      <td>202 Smokey Pt-Lynnwd</td>\n",
       "      <td>b</td>\n",
       "      <td>1,476.64</td>\n",
       "      <td>1,002.00</td>\n",
       "      <td>474.64</td>\n",
       "      <td>0.47</td>\n",
       "    </tr>\n",
       "    <tr>\n",
       "      <th>205</th>\n",
       "      <td>Community Transit</td>\n",
       "      <td>201 Smokey Pt-Lynnwd</td>\n",
       "      <td>b</td>\n",
       "      <td>1,464.01</td>\n",
       "      <td>1,049.00</td>\n",
       "      <td>415.01</td>\n",
       "      <td>0.40</td>\n",
       "    </tr>\n",
       "    <tr>\n",
       "      <th>191</th>\n",
       "      <td>Community Transit</td>\n",
       "      <td>101 Mar P&amp;R-Aur Vill</td>\n",
       "      <td>b</td>\n",
       "      <td>1,394.74</td>\n",
       "      <td>945.00</td>\n",
       "      <td>449.74</td>\n",
       "      <td>0.48</td>\n",
       "    </tr>\n",
       "    <tr>\n",
       "      <th>203</th>\n",
       "      <td>Community Transit</td>\n",
       "      <td>130 Edmonds-Lynnwood</td>\n",
       "      <td>b</td>\n",
       "      <td>940.72</td>\n",
       "      <td>618.00</td>\n",
       "      <td>322.72</td>\n",
       "      <td>0.52</td>\n",
       "    </tr>\n",
       "    <tr>\n",
       "      <th>198</th>\n",
       "      <td>Community Transit</td>\n",
       "      <td>113 Mukilteo-Lynn TC</td>\n",
       "      <td>b</td>\n",
       "      <td>810.63</td>\n",
       "      <td>802.00</td>\n",
       "      <td>8.63</td>\n",
       "      <td>0.01</td>\n",
       "    </tr>\n",
       "    <tr>\n",
       "      <th>195</th>\n",
       "      <td>Community Transit</td>\n",
       "      <td>109 Ash Wy P&amp;R-LkStv</td>\n",
       "      <td>b</td>\n",
       "      <td>723.16</td>\n",
       "      <td>249.00</td>\n",
       "      <td>474.16</td>\n",
       "      <td>1.90</td>\n",
       "    </tr>\n",
       "  </tbody>\n",
       "</table>\n",
       "</div>"
      ],
      "text/plain": [
       "                agency           description mode  model_boardings  \\\n",
       "230  Community Transit            Swift Blue    b         6,122.17   \n",
       "231  Community Transit           Swift Green    b         2,499.82   \n",
       "200  Community Transit   116 Edm-Silver Firs    b         2,127.29   \n",
       "199  Community Transit  115 McClm P&R-AurVil    b         1,631.61   \n",
       "206  Community Transit  202 Smokey Pt-Lynnwd    b         1,476.64   \n",
       "205  Community Transit  201 Smokey Pt-Lynnwd    b         1,464.01   \n",
       "191  Community Transit  101 Mar P&R-Aur Vill    b         1,394.74   \n",
       "203  Community Transit  130 Edmonds-Lynnwood    b           940.72   \n",
       "198  Community Transit  113 Mukilteo-Lynn TC    b           810.63   \n",
       "195  Community Transit  109 Ash Wy P&R-LkStv    b           723.16   \n",
       "\n",
       "     observed_boardings     diff  perc_diff  \n",
       "230            3,804.00 2,318.17       0.61  \n",
       "231            3,000.00  -500.18      -0.17  \n",
       "200              955.00 1,172.29       1.23  \n",
       "199            1,133.00   498.61       0.44  \n",
       "206            1,002.00   474.64       0.47  \n",
       "205            1,049.00   415.01       0.40  \n",
       "191              945.00   449.74       0.48  \n",
       "203              618.00   322.72       0.52  \n",
       "198              802.00     8.63       0.01  \n",
       "195              249.00   474.16       1.90  "
      ]
     },
     "execution_count": 133,
     "metadata": {},
     "output_type": "execute_result"
    }
   ],
   "source": [
    "agency = 'Community Transit'\n",
    "df[df['agency'] == agency].sort_values('model_boardings', ascending=False).head(10)[cols]"
   ]
  },
  {
   "cell_type": "raw",
   "id": "4e738512",
   "metadata": {},
   "source": [
    "#### Pierce Transit"
   ]
  },
  {
   "cell_type": "code",
   "execution_count": 134,
   "id": "5385aa93",
   "metadata": {},
   "outputs": [
    {
     "data": {
      "text/html": [
       "<div>\n",
       "<style scoped>\n",
       "    .dataframe tbody tr th:only-of-type {\n",
       "        vertical-align: middle;\n",
       "    }\n",
       "\n",
       "    .dataframe tbody tr th {\n",
       "        vertical-align: top;\n",
       "    }\n",
       "\n",
       "    .dataframe thead th {\n",
       "        text-align: right;\n",
       "    }\n",
       "</style>\n",
       "<table border=\"1\" class=\"dataframe\">\n",
       "  <thead>\n",
       "    <tr style=\"text-align: right;\">\n",
       "      <th></th>\n",
       "      <th>agency</th>\n",
       "      <th>description</th>\n",
       "      <th>mode</th>\n",
       "      <th>model_boardings</th>\n",
       "      <th>observed_boardings</th>\n",
       "      <th>diff</th>\n",
       "      <th>perc_diff</th>\n",
       "    </tr>\n",
       "  </thead>\n",
       "  <tbody>\n",
       "    <tr>\n",
       "      <th>160</th>\n",
       "      <td>Pierce Transit</td>\n",
       "      <td>1 6th Ave-Pac Ave</td>\n",
       "      <td>b</td>\n",
       "      <td>1,635.30</td>\n",
       "      <td>3,035.00</td>\n",
       "      <td>-1,399.70</td>\n",
       "      <td>-0.46</td>\n",
       "    </tr>\n",
       "    <tr>\n",
       "      <th>185</th>\n",
       "      <td>Pierce Transit</td>\n",
       "      <td>402 Meridian</td>\n",
       "      <td>b</td>\n",
       "      <td>1,123.89</td>\n",
       "      <td>626.00</td>\n",
       "      <td>497.89</td>\n",
       "      <td>0.80</td>\n",
       "    </tr>\n",
       "    <tr>\n",
       "      <th>161</th>\n",
       "      <td>Pierce Transit</td>\n",
       "      <td>2 S 19th-Bridgeport</td>\n",
       "      <td>b</td>\n",
       "      <td>1,059.00</td>\n",
       "      <td>1,729.00</td>\n",
       "      <td>-670.00</td>\n",
       "      <td>-0.39</td>\n",
       "    </tr>\n",
       "    <tr>\n",
       "      <th>184</th>\n",
       "      <td>Pierce Transit</td>\n",
       "      <td>400 Puyllp-Tacoma</td>\n",
       "      <td>b</td>\n",
       "      <td>915.83</td>\n",
       "      <td>336.00</td>\n",
       "      <td>579.83</td>\n",
       "      <td>1.73</td>\n",
       "    </tr>\n",
       "    <tr>\n",
       "      <th>189</th>\n",
       "      <td>Pierce Transit</td>\n",
       "      <td>500 Federal Way</td>\n",
       "      <td>b</td>\n",
       "      <td>902.47</td>\n",
       "      <td>845.00</td>\n",
       "      <td>57.47</td>\n",
       "      <td>0.07</td>\n",
       "    </tr>\n",
       "    <tr>\n",
       "      <th>190</th>\n",
       "      <td>Pierce Transit</td>\n",
       "      <td>501 Miltn-Fed Way</td>\n",
       "      <td>b</td>\n",
       "      <td>818.50</td>\n",
       "      <td>431.00</td>\n",
       "      <td>387.50</td>\n",
       "      <td>0.90</td>\n",
       "    </tr>\n",
       "    <tr>\n",
       "      <th>162</th>\n",
       "      <td>Pierce Transit</td>\n",
       "      <td>3 Lakewood-Tacoma</td>\n",
       "      <td>b</td>\n",
       "      <td>802.48</td>\n",
       "      <td>1,250.00</td>\n",
       "      <td>-447.52</td>\n",
       "      <td>-0.36</td>\n",
       "    </tr>\n",
       "    <tr>\n",
       "      <th>169</th>\n",
       "      <td>Pierce Transit</td>\n",
       "      <td>41 S 56th St-Salish</td>\n",
       "      <td>b</td>\n",
       "      <td>648.83</td>\n",
       "      <td>1,088.00</td>\n",
       "      <td>-439.17</td>\n",
       "      <td>-0.40</td>\n",
       "    </tr>\n",
       "    <tr>\n",
       "      <th>163</th>\n",
       "      <td>Pierce Transit</td>\n",
       "      <td>4 Lakewd-South Hill</td>\n",
       "      <td>b</td>\n",
       "      <td>636.08</td>\n",
       "      <td>968.00</td>\n",
       "      <td>-331.92</td>\n",
       "      <td>-0.34</td>\n",
       "    </tr>\n",
       "    <tr>\n",
       "      <th>172</th>\n",
       "      <td>Pierce Transit</td>\n",
       "      <td>48 Sheridan-M St</td>\n",
       "      <td>b</td>\n",
       "      <td>495.20</td>\n",
       "      <td>1,065.00</td>\n",
       "      <td>-569.80</td>\n",
       "      <td>-0.54</td>\n",
       "    </tr>\n",
       "  </tbody>\n",
       "</table>\n",
       "</div>"
      ],
      "text/plain": [
       "             agency          description mode  model_boardings  \\\n",
       "160  Pierce Transit    1 6th Ave-Pac Ave    b         1,635.30   \n",
       "185  Pierce Transit         402 Meridian    b         1,123.89   \n",
       "161  Pierce Transit  2 S 19th-Bridgeport    b         1,059.00   \n",
       "184  Pierce Transit    400 Puyllp-Tacoma    b           915.83   \n",
       "189  Pierce Transit      500 Federal Way    b           902.47   \n",
       "190  Pierce Transit    501 Miltn-Fed Way    b           818.50   \n",
       "162  Pierce Transit    3 Lakewood-Tacoma    b           802.48   \n",
       "169  Pierce Transit  41 S 56th St-Salish    b           648.83   \n",
       "163  Pierce Transit  4 Lakewd-South Hill    b           636.08   \n",
       "172  Pierce Transit     48 Sheridan-M St    b           495.20   \n",
       "\n",
       "     observed_boardings      diff  perc_diff  \n",
       "160            3,035.00 -1,399.70      -0.46  \n",
       "185              626.00    497.89       0.80  \n",
       "161            1,729.00   -670.00      -0.39  \n",
       "184              336.00    579.83       1.73  \n",
       "189              845.00     57.47       0.07  \n",
       "190              431.00    387.50       0.90  \n",
       "162            1,250.00   -447.52      -0.36  \n",
       "169            1,088.00   -439.17      -0.40  \n",
       "163              968.00   -331.92      -0.34  \n",
       "172            1,065.00   -569.80      -0.54  "
      ]
     },
     "execution_count": 134,
     "metadata": {},
     "output_type": "execute_result"
    }
   ],
   "source": [
    "agency = 'Pierce Transit'\n",
    "df[df['agency'] == agency].sort_values('model_boardings', ascending=False).head(10)[cols]"
   ]
  },
  {
   "cell_type": "raw",
   "id": "61e52696",
   "metadata": {},
   "source": [
    "#### Kitsap Transit"
   ]
  },
  {
   "cell_type": "code",
   "execution_count": 135,
   "id": "9c35bb78",
   "metadata": {},
   "outputs": [
    {
     "data": {
      "text/html": [
       "<div>\n",
       "<style scoped>\n",
       "    .dataframe tbody tr th:only-of-type {\n",
       "        vertical-align: middle;\n",
       "    }\n",
       "\n",
       "    .dataframe tbody tr th {\n",
       "        vertical-align: top;\n",
       "    }\n",
       "\n",
       "    .dataframe thead th {\n",
       "        text-align: right;\n",
       "    }\n",
       "</style>\n",
       "<table border=\"1\" class=\"dataframe\">\n",
       "  <thead>\n",
       "    <tr style=\"text-align: right;\">\n",
       "      <th></th>\n",
       "      <th>agency</th>\n",
       "      <th>description</th>\n",
       "      <th>mode</th>\n",
       "      <th>model_boardings</th>\n",
       "      <th>observed_boardings</th>\n",
       "      <th>diff</th>\n",
       "      <th>perc_diff</th>\n",
       "    </tr>\n",
       "  </thead>\n",
       "  <tbody>\n",
       "    <tr>\n",
       "      <th>270</th>\n",
       "      <td>Kitsap Transit</td>\n",
       "      <td>Seattle-Bremerton FF</td>\n",
       "      <td>f</td>\n",
       "      <td>3,695.83</td>\n",
       "      <td>1,913.00</td>\n",
       "      <td>1,782.83</td>\n",
       "      <td>0.93</td>\n",
       "    </tr>\n",
       "    <tr>\n",
       "      <th>271</th>\n",
       "      <td>Kitsap Transit</td>\n",
       "      <td>Brem-Pt Orchard FF</td>\n",
       "      <td>p</td>\n",
       "      <td>1,045.48</td>\n",
       "      <td>768.00</td>\n",
       "      <td>277.48</td>\n",
       "      <td>0.36</td>\n",
       "    </tr>\n",
       "    <tr>\n",
       "      <th>244</th>\n",
       "      <td>Kitsap Transit</td>\n",
       "      <td>217 Brem-Silverdle E</td>\n",
       "      <td>b</td>\n",
       "      <td>877.42</td>\n",
       "      <td>417.00</td>\n",
       "      <td>460.42</td>\n",
       "      <td>1.10</td>\n",
       "    </tr>\n",
       "    <tr>\n",
       "      <th>242</th>\n",
       "      <td>Kitsap Transit</td>\n",
       "      <td>212 Brem-Silverdle W</td>\n",
       "      <td>b</td>\n",
       "      <td>693.61</td>\n",
       "      <td>679.00</td>\n",
       "      <td>14.61</td>\n",
       "      <td>0.02</td>\n",
       "    </tr>\n",
       "    <tr>\n",
       "      <th>274</th>\n",
       "      <td>Kitsap Transit</td>\n",
       "      <td>Seattle-Southwrth FF</td>\n",
       "      <td>f</td>\n",
       "      <td>631.71</td>\n",
       "      <td>631.00</td>\n",
       "      <td>0.71</td>\n",
       "      <td>0.00</td>\n",
       "    </tr>\n",
       "    <tr>\n",
       "      <th>259</th>\n",
       "      <td>Kitsap Transit</td>\n",
       "      <td>86 Southwrth Shuttle</td>\n",
       "      <td>b</td>\n",
       "      <td>593.04</td>\n",
       "      <td>91.00</td>\n",
       "      <td>502.04</td>\n",
       "      <td>5.52</td>\n",
       "    </tr>\n",
       "    <tr>\n",
       "      <th>260</th>\n",
       "      <td>Kitsap Transit</td>\n",
       "      <td>390 Poulsbo-Bainbrdg</td>\n",
       "      <td>b</td>\n",
       "      <td>467.48</td>\n",
       "      <td>170.00</td>\n",
       "      <td>297.48</td>\n",
       "      <td>1.75</td>\n",
       "    </tr>\n",
       "    <tr>\n",
       "      <th>243</th>\n",
       "      <td>Kitsap Transit</td>\n",
       "      <td>215 McWilliams</td>\n",
       "      <td>b</td>\n",
       "      <td>295.58</td>\n",
       "      <td>115.00</td>\n",
       "      <td>180.58</td>\n",
       "      <td>1.57</td>\n",
       "    </tr>\n",
       "    <tr>\n",
       "      <th>240</th>\n",
       "      <td>Kitsap Transit</td>\n",
       "      <td>8 Bethel</td>\n",
       "      <td>b</td>\n",
       "      <td>235.23</td>\n",
       "      <td>152.00</td>\n",
       "      <td>83.23</td>\n",
       "      <td>0.55</td>\n",
       "    </tr>\n",
       "    <tr>\n",
       "      <th>272</th>\n",
       "      <td>Kitsap Transit</td>\n",
       "      <td>Brem-Annapolis FF</td>\n",
       "      <td>p</td>\n",
       "      <td>233.58</td>\n",
       "      <td>469.00</td>\n",
       "      <td>-235.42</td>\n",
       "      <td>-0.50</td>\n",
       "    </tr>\n",
       "  </tbody>\n",
       "</table>\n",
       "</div>"
      ],
      "text/plain": [
       "             agency           description mode  model_boardings  \\\n",
       "270  Kitsap Transit  Seattle-Bremerton FF    f         3,695.83   \n",
       "271  Kitsap Transit    Brem-Pt Orchard FF    p         1,045.48   \n",
       "244  Kitsap Transit  217 Brem-Silverdle E    b           877.42   \n",
       "242  Kitsap Transit  212 Brem-Silverdle W    b           693.61   \n",
       "274  Kitsap Transit  Seattle-Southwrth FF    f           631.71   \n",
       "259  Kitsap Transit  86 Southwrth Shuttle    b           593.04   \n",
       "260  Kitsap Transit  390 Poulsbo-Bainbrdg    b           467.48   \n",
       "243  Kitsap Transit        215 McWilliams    b           295.58   \n",
       "240  Kitsap Transit              8 Bethel    b           235.23   \n",
       "272  Kitsap Transit     Brem-Annapolis FF    p           233.58   \n",
       "\n",
       "     observed_boardings     diff  perc_diff  \n",
       "270            1,913.00 1,782.83       0.93  \n",
       "271              768.00   277.48       0.36  \n",
       "244              417.00   460.42       1.10  \n",
       "242              679.00    14.61       0.02  \n",
       "274              631.00     0.71       0.00  \n",
       "259               91.00   502.04       5.52  \n",
       "260              170.00   297.48       1.75  \n",
       "243              115.00   180.58       1.57  \n",
       "240              152.00    83.23       0.55  \n",
       "272              469.00  -235.42      -0.50  "
      ]
     },
     "execution_count": 135,
     "metadata": {},
     "output_type": "execute_result"
    }
   ],
   "source": [
    "agency = 'Kitsap Transit'\n",
    "df[df['agency'] == agency].sort_values('model_boardings', ascending=False).head(10)[cols]"
   ]
  },
  {
   "cell_type": "raw",
   "id": "674756a8",
   "metadata": {},
   "source": [
    "#### Everett Transit"
   ]
  },
  {
   "cell_type": "code",
   "execution_count": 136,
   "id": "26ea3064",
   "metadata": {},
   "outputs": [
    {
     "data": {
      "text/html": [
       "<div>\n",
       "<style scoped>\n",
       "    .dataframe tbody tr th:only-of-type {\n",
       "        vertical-align: middle;\n",
       "    }\n",
       "\n",
       "    .dataframe tbody tr th {\n",
       "        vertical-align: top;\n",
       "    }\n",
       "\n",
       "    .dataframe thead th {\n",
       "        text-align: right;\n",
       "    }\n",
       "</style>\n",
       "<table border=\"1\" class=\"dataframe\">\n",
       "  <thead>\n",
       "    <tr style=\"text-align: right;\">\n",
       "      <th></th>\n",
       "      <th>agency</th>\n",
       "      <th>description</th>\n",
       "      <th>mode</th>\n",
       "      <th>model_boardings</th>\n",
       "      <th>observed_boardings</th>\n",
       "      <th>diff</th>\n",
       "      <th>perc_diff</th>\n",
       "    </tr>\n",
       "  </thead>\n",
       "  <tbody>\n",
       "    <tr>\n",
       "      <th>316</th>\n",
       "      <td>Everett Transit</td>\n",
       "      <td>7 Coll Stn-Mall Stn</td>\n",
       "      <td>b</td>\n",
       "      <td>2,589.08</td>\n",
       "      <td>2,239.00</td>\n",
       "      <td>350.08</td>\n",
       "      <td>0.16</td>\n",
       "    </tr>\n",
       "    <tr>\n",
       "      <th>320</th>\n",
       "      <td>Everett Transit</td>\n",
       "      <td>29 Coll Stn-Mall Stn</td>\n",
       "      <td>b</td>\n",
       "      <td>1,302.41</td>\n",
       "      <td>881.00</td>\n",
       "      <td>421.41</td>\n",
       "      <td>0.48</td>\n",
       "    </tr>\n",
       "    <tr>\n",
       "      <th>313</th>\n",
       "      <td>Everett Transit</td>\n",
       "      <td>3 Seaway TC-Evt Stn</td>\n",
       "      <td>b</td>\n",
       "      <td>332.52</td>\n",
       "      <td>285.00</td>\n",
       "      <td>47.52</td>\n",
       "      <td>0.17</td>\n",
       "    </tr>\n",
       "    <tr>\n",
       "      <th>317</th>\n",
       "      <td>Everett Transit</td>\n",
       "      <td>8 Airport Rd-Evt Stn</td>\n",
       "      <td>b</td>\n",
       "      <td>106.30</td>\n",
       "      <td>156.00</td>\n",
       "      <td>-49.70</td>\n",
       "      <td>-0.32</td>\n",
       "    </tr>\n",
       "    <tr>\n",
       "      <th>312</th>\n",
       "      <td>Everett Transit</td>\n",
       "      <td>2 Marnr P&amp;R-Mall Stn</td>\n",
       "      <td>b</td>\n",
       "      <td>92.63</td>\n",
       "      <td>148.00</td>\n",
       "      <td>-55.37</td>\n",
       "      <td>-0.37</td>\n",
       "    </tr>\n",
       "    <tr>\n",
       "      <th>315</th>\n",
       "      <td>Everett Transit</td>\n",
       "      <td>6 Waterfront-Evt Stn</td>\n",
       "      <td>b</td>\n",
       "      <td>81.24</td>\n",
       "      <td>62.00</td>\n",
       "      <td>19.24</td>\n",
       "      <td>0.31</td>\n",
       "    </tr>\n",
       "    <tr>\n",
       "      <th>319</th>\n",
       "      <td>Everett Transit</td>\n",
       "      <td>18 Mukilteo-Evt Stn</td>\n",
       "      <td>b</td>\n",
       "      <td>71.29</td>\n",
       "      <td>60.00</td>\n",
       "      <td>11.29</td>\n",
       "      <td>0.19</td>\n",
       "    </tr>\n",
       "    <tr>\n",
       "      <th>314</th>\n",
       "      <td>Everett Transit</td>\n",
       "      <td>4 Evt Stn-Collge Stn</td>\n",
       "      <td>b</td>\n",
       "      <td>70.59</td>\n",
       "      <td>114.00</td>\n",
       "      <td>-43.41</td>\n",
       "      <td>-0.38</td>\n",
       "    </tr>\n",
       "    <tr>\n",
       "      <th>318</th>\n",
       "      <td>Everett Transit</td>\n",
       "      <td>12 Mall Stn-Seawy TC</td>\n",
       "      <td>b</td>\n",
       "      <td>59.68</td>\n",
       "      <td>256.00</td>\n",
       "      <td>-196.32</td>\n",
       "      <td>-0.77</td>\n",
       "    </tr>\n",
       "  </tbody>\n",
       "</table>\n",
       "</div>"
      ],
      "text/plain": [
       "              agency           description mode  model_boardings  \\\n",
       "316  Everett Transit   7 Coll Stn-Mall Stn    b         2,589.08   \n",
       "320  Everett Transit  29 Coll Stn-Mall Stn    b         1,302.41   \n",
       "313  Everett Transit   3 Seaway TC-Evt Stn    b           332.52   \n",
       "317  Everett Transit  8 Airport Rd-Evt Stn    b           106.30   \n",
       "312  Everett Transit  2 Marnr P&R-Mall Stn    b            92.63   \n",
       "315  Everett Transit  6 Waterfront-Evt Stn    b            81.24   \n",
       "319  Everett Transit   18 Mukilteo-Evt Stn    b            71.29   \n",
       "314  Everett Transit  4 Evt Stn-Collge Stn    b            70.59   \n",
       "318  Everett Transit  12 Mall Stn-Seawy TC    b            59.68   \n",
       "\n",
       "     observed_boardings    diff  perc_diff  \n",
       "316            2,239.00  350.08       0.16  \n",
       "320              881.00  421.41       0.48  \n",
       "313              285.00   47.52       0.17  \n",
       "317              156.00  -49.70      -0.32  \n",
       "312              148.00  -55.37      -0.37  \n",
       "315               62.00   19.24       0.31  \n",
       "319               60.00   11.29       0.19  \n",
       "314              114.00  -43.41      -0.38  \n",
       "318              256.00 -196.32      -0.77  "
      ]
     },
     "execution_count": 136,
     "metadata": {},
     "output_type": "execute_result"
    }
   ],
   "source": [
    "agency = 'Everett Transit'\n",
    "df[df['agency'] == agency].sort_values('model_boardings', ascending=False).head(10)[cols]"
   ]
  },
  {
   "cell_type": "raw",
   "id": "65fb23f5",
   "metadata": {},
   "source": [
    ":::"
   ]
  },
  {
   "cell_type": "markdown",
   "id": "6e6c5ead64d64e8c",
   "metadata": {},
   "source": [
    "### boarding on lines by agency"
   ]
  },
  {
   "cell_type": "code",
   "execution_count": 137,
   "id": "95db4119eb938544",
   "metadata": {
    "ExecuteTime": {
     "end_time": "2024-06-24T19:52:55.951969Z",
     "start_time": "2024-06-24T19:52:54.937995Z"
    },
    "execution": {
     "iopub.execute_input": "2024-12-14T02:38:41.171718Z",
     "iopub.status.busy": "2024-12-14T02:38:41.170721Z",
     "iopub.status.idle": "2024-12-14T02:38:42.833012Z",
     "shell.execute_reply": "2024-12-14T02:38:42.831017Z"
    }
   },
   "outputs": [
    {
     "name": "stdout",
     "output_type": "stream",
     "text": [
      "r^2 Community Transit: 0.8975568939192564\n",
      "r^2 Everett Transit: 0.9887738362193084\n",
      "r^2 King County Metro: 0.9475522001898918\n",
      "r^2 Kitsap Transit: 0.9322008677155046\n",
      "r^2 Pierce Transit: 0.744193749409588\n",
      "r^2 Sound Transit: 0.9979736288470142\n",
      "r^2 Washington Ferries: 0.9417311849086026\n"
     ]
    },
    {
     "data": {
      "image/png": "[encoded data removed]",
      "text/plain": [
       "<Figure size 432x288 with 1 Axes>"
      ]
     },
     "metadata": {
      "needs_background": "light"
     },
     "output_type": "display_data"
    },
    {
     "data": {
      "image/png": "[encoded data removed]",
      "text/plain": [
       "<Figure size 432x288 with 1 Axes>"
      ]
     },
     "metadata": {
      "needs_background": "light"
     },
     "output_type": "display_data"
    },
    {
     "data": {
      "image/png": "[encoded data removed]",
      "text/plain": [
       "<Figure size 432x288 with 1 Axes>"
      ]
     },
     "metadata": {
      "needs_background": "light"
     },
     "output_type": "display_data"
    },
    {
     "data": {
      "image/png": "[encoded data removed]",
      "text/plain": [
       "<Figure size 432x288 with 1 Axes>"
      ]
     },
     "metadata": {
      "needs_background": "light"
     },
     "output_type": "display_data"
    },
    {
     "data": {
      "image/png": "[encoded data removed]",
      "text/plain": [
       "<Figure size 432x288 with 1 Axes>"
      ]
     },
     "metadata": {
      "needs_background": "light"
     },
     "output_type": "display_data"
    },
    {
     "data": {
      "image/png": "[encoded data removed]",
      "text/plain": [
       "<Figure size 432x288 with 1 Axes>"
      ]
     },
     "metadata": {
      "needs_background": "light"
     },
     "output_type": "display_data"
    },
    {
     "data": {
      "image/png": "[encoded data removed]",
      "text/plain": [
       "<Figure size 432x288 with 1 Axes>"
      ]
     },
     "metadata": {
      "needs_background": "light"
     },
     "output_type": "display_data"
    }
   ],
   "source": [
    "df = pd.read_csv(os.path.join(csv_path,'daily_boardings_by_line.csv'), index_col='agency')\n",
    "df = df[-df['agency_id'].isnull()]\n",
    "\n",
    "for agency in np.unique(df.index):\n",
    "    _df = df.loc[agency,:]\n",
    "    if (type(_df) == pd.core.frame.DataFrame) & (len(df) > 0):\n",
    "        ax = _df.plot(kind='scatter', x='observed_boardings', y='model_boardings', label=agency)\n",
    "        lim = _df[['observed_boardings','model_boardings']].max().max()*1.05\n",
    "        ax.set_ylim(0,lim)\n",
    "        ax.set_xlim(0,lim)\n",
    "        x = np.linspace(*ax.get_xlim())\n",
    "        ax.plot(x, x)\n",
    "        slope, intercept, r_value, p_value, std_err = stats.linregress(_df['observed_boardings'],_df['model_boardings'])\n",
    "        print('r^2 ' + str(agency) + ': ' + str(r_value))"
   ]
  },
  {
   "cell_type": "markdown",
   "id": "4539ddda98821ff2",
   "metadata": {},
   "source": [
    "### boarding by light rail station"
   ]
  },
  {
   "cell_type": "raw",
   "id": "1a2860ab52ea5101",
   "metadata": {
    "vscode": {
     "languageId": "raw"
    }
   },
   "source": [
    ":::{.panel-tabset}\n",
    "#### 1 Line"
   ]
  },
  {
   "cell_type": "code",
   "execution_count": 138,
   "id": "2c245b8117693726",
   "metadata": {
    "ExecuteTime": {
     "end_time": "2024-06-24T20:06:01.435477Z",
     "start_time": "2024-06-24T20:06:01.389414Z"
    },
    "execution": {
     "iopub.execute_input": "2024-12-14T02:38:42.844979Z",
     "iopub.status.busy": "2024-12-14T02:38:42.843982Z",
     "iopub.status.idle": "2024-12-14T02:38:42.910989Z",
     "shell.execute_reply": "2024-12-14T02:38:42.908994Z"
    }
   },
   "outputs": [],
   "source": [
    "df = pd.read_csv(os.path.join(csv_path,'light_rail_boardings.csv'), index_col='station_name')\n",
    "df['diff'] = df['model_boardings']-df['observed_boardings']\n",
    "df['percent_diff'] = df['diff']/df['observed_boardings']\n",
    "\n",
    "df_table = df.copy()\n",
    "df_table[['percent_diff']] = df_table[['percent_diff']].applymap(format_percent)\n",
    "df_table\n",
    "\n",
    "line_1_station_list = ['Northgate Station','Roosevelt Station','University District Station', \n",
    "                'Husky Stadium', 'Capitol Hill', 'Westlake', 'Symphony', 'Pioneer Square',\n",
    "                \"Int'l District\",  'Stadium', 'SODO', 'Beacon Hill',\n",
    "               'Mount Baker', 'Columbia City', 'Othello', 'Rainier Beach',\n",
    "                \"Tukwila Int'l Blvd\", 'SeaTac/Airport', 'Angle Lake']\n",
    "t_line_station_list = ['Tacoma Dome Station', 'S 25th St Station', 'Union Station',\n",
    "       'Convention Center Station', 'Commerce Station']"
   ]
  },
  {
   "cell_type": "code",
   "execution_count": 139,
   "id": "d1ef9fda",
   "metadata": {},
   "outputs": [
    {
     "data": {
      "text/html": [
       "<div>\n",
       "<style scoped>\n",
       "    .dataframe tbody tr th:only-of-type {\n",
       "        vertical-align: middle;\n",
       "    }\n",
       "\n",
       "    .dataframe tbody tr th {\n",
       "        vertical-align: top;\n",
       "    }\n",
       "\n",
       "    .dataframe thead th {\n",
       "        text-align: right;\n",
       "    }\n",
       "</style>\n",
       "<table border=\"1\" class=\"dataframe\">\n",
       "  <thead>\n",
       "    <tr style=\"text-align: right;\">\n",
       "      <th></th>\n",
       "      <th>observed_boardings</th>\n",
       "      <th>model_boardings</th>\n",
       "      <th>diff</th>\n",
       "      <th>percent_diff</th>\n",
       "    </tr>\n",
       "    <tr>\n",
       "      <th>station_name</th>\n",
       "      <th></th>\n",
       "      <th></th>\n",
       "      <th></th>\n",
       "      <th></th>\n",
       "    </tr>\n",
       "  </thead>\n",
       "  <tbody>\n",
       "    <tr>\n",
       "      <th>Northgate Station</th>\n",
       "      <td>10,384.00</td>\n",
       "      <td>10,622.17</td>\n",
       "      <td>238.17</td>\n",
       "      <td>2.29%</td>\n",
       "    </tr>\n",
       "    <tr>\n",
       "      <th>Roosevelt Station</th>\n",
       "      <td>4,349.00</td>\n",
       "      <td>8,073.91</td>\n",
       "      <td>3,724.91</td>\n",
       "      <td>85.65%</td>\n",
       "    </tr>\n",
       "    <tr>\n",
       "      <th>University District Station</th>\n",
       "      <td>7,563.00</td>\n",
       "      <td>6,954.08</td>\n",
       "      <td>-608.92</td>\n",
       "      <td>-8.05%</td>\n",
       "    </tr>\n",
       "    <tr>\n",
       "      <th>Husky Stadium</th>\n",
       "      <td>6,134.00</td>\n",
       "      <td>3,551.72</td>\n",
       "      <td>-2,582.28</td>\n",
       "      <td>-42.10%</td>\n",
       "    </tr>\n",
       "    <tr>\n",
       "      <th>Capitol Hill</th>\n",
       "      <td>7,667.00</td>\n",
       "      <td>7,578.60</td>\n",
       "      <td>-88.40</td>\n",
       "      <td>-1.15%</td>\n",
       "    </tr>\n",
       "    <tr>\n",
       "      <th>Westlake</th>\n",
       "      <td>8,845.00</td>\n",
       "      <td>11,554.24</td>\n",
       "      <td>2,709.24</td>\n",
       "      <td>30.63%</td>\n",
       "    </tr>\n",
       "    <tr>\n",
       "      <th>Symphony</th>\n",
       "      <td>4,324.00</td>\n",
       "      <td>6,724.09</td>\n",
       "      <td>2,400.09</td>\n",
       "      <td>55.51%</td>\n",
       "    </tr>\n",
       "    <tr>\n",
       "      <th>Pioneer Square</th>\n",
       "      <td>2,400.00</td>\n",
       "      <td>5,595.17</td>\n",
       "      <td>3,195.17</td>\n",
       "      <td>133.13%</td>\n",
       "    </tr>\n",
       "    <tr>\n",
       "      <th>Int'l District</th>\n",
       "      <td>4,399.00</td>\n",
       "      <td>1,993.23</td>\n",
       "      <td>-2,405.77</td>\n",
       "      <td>-54.69%</td>\n",
       "    </tr>\n",
       "    <tr>\n",
       "      <th>Stadium</th>\n",
       "      <td>1,731.00</td>\n",
       "      <td>331.98</td>\n",
       "      <td>-1,399.02</td>\n",
       "      <td>-80.82%</td>\n",
       "    </tr>\n",
       "    <tr>\n",
       "      <th>SODO</th>\n",
       "      <td>1,669.00</td>\n",
       "      <td>2,396.45</td>\n",
       "      <td>727.45</td>\n",
       "      <td>43.59%</td>\n",
       "    </tr>\n",
       "    <tr>\n",
       "      <th>Beacon Hill</th>\n",
       "      <td>2,147.00</td>\n",
       "      <td>1,411.40</td>\n",
       "      <td>-735.60</td>\n",
       "      <td>-34.26%</td>\n",
       "    </tr>\n",
       "    <tr>\n",
       "      <th>Mount Baker</th>\n",
       "      <td>1,861.00</td>\n",
       "      <td>1,748.81</td>\n",
       "      <td>-112.19</td>\n",
       "      <td>-6.03%</td>\n",
       "    </tr>\n",
       "    <tr>\n",
       "      <th>Columbia City</th>\n",
       "      <td>1,630.00</td>\n",
       "      <td>1,736.51</td>\n",
       "      <td>106.51</td>\n",
       "      <td>6.53%</td>\n",
       "    </tr>\n",
       "    <tr>\n",
       "      <th>Othello</th>\n",
       "      <td>2,030.00</td>\n",
       "      <td>2,135.63</td>\n",
       "      <td>105.63</td>\n",
       "      <td>5.20%</td>\n",
       "    </tr>\n",
       "    <tr>\n",
       "      <th>Rainier Beach</th>\n",
       "      <td>1,495.00</td>\n",
       "      <td>1,571.46</td>\n",
       "      <td>76.46</td>\n",
       "      <td>5.11%</td>\n",
       "    </tr>\n",
       "    <tr>\n",
       "      <th>Tukwila Int'l Blvd</th>\n",
       "      <td>2,298.00</td>\n",
       "      <td>2,945.19</td>\n",
       "      <td>647.19</td>\n",
       "      <td>28.16%</td>\n",
       "    </tr>\n",
       "    <tr>\n",
       "      <th>SeaTac/Airport</th>\n",
       "      <td>4,731.00</td>\n",
       "      <td>6,012.07</td>\n",
       "      <td>1,281.07</td>\n",
       "      <td>27.08%</td>\n",
       "    </tr>\n",
       "    <tr>\n",
       "      <th>Angle Lake</th>\n",
       "      <td>3,865.00</td>\n",
       "      <td>3,569.19</td>\n",
       "      <td>-295.81</td>\n",
       "      <td>-7.65%</td>\n",
       "    </tr>\n",
       "  </tbody>\n",
       "</table>\n",
       "</div>"
      ],
      "text/plain": [
       "                             observed_boardings  model_boardings      diff  \\\n",
       "station_name                                                                 \n",
       "Northgate Station                     10,384.00        10,622.17    238.17   \n",
       "Roosevelt Station                      4,349.00         8,073.91  3,724.91   \n",
       "University District Station            7,563.00         6,954.08   -608.92   \n",
       "Husky Stadium                          6,134.00         3,551.72 -2,582.28   \n",
       "Capitol Hill                           7,667.00         7,578.60    -88.40   \n",
       "Westlake                               8,845.00        11,554.24  2,709.24   \n",
       "Symphony                               4,324.00         6,724.09  2,400.09   \n",
       "Pioneer Square                         2,400.00         5,595.17  3,195.17   \n",
       "Int'l District                         4,399.00         1,993.23 -2,405.77   \n",
       "Stadium                                1,731.00           331.98 -1,399.02   \n",
       "SODO                                   1,669.00         2,396.45    727.45   \n",
       "Beacon Hill                            2,147.00         1,411.40   -735.60   \n",
       "Mount Baker                            1,861.00         1,748.81   -112.19   \n",
       "Columbia City                          1,630.00         1,736.51    106.51   \n",
       "Othello                                2,030.00         2,135.63    105.63   \n",
       "Rainier Beach                          1,495.00         1,571.46     76.46   \n",
       "Tukwila Int'l Blvd                     2,298.00         2,945.19    647.19   \n",
       "SeaTac/Airport                         4,731.00         6,012.07  1,281.07   \n",
       "Angle Lake                             3,865.00         3,569.19   -295.81   \n",
       "\n",
       "                            percent_diff  \n",
       "station_name                              \n",
       "Northgate Station                  2.29%  \n",
       "Roosevelt Station                 85.65%  \n",
       "University District Station       -8.05%  \n",
       "Husky Stadium                    -42.10%  \n",
       "Capitol Hill                      -1.15%  \n",
       "Westlake                          30.63%  \n",
       "Symphony                          55.51%  \n",
       "Pioneer Square                   133.13%  \n",
       "Int'l District                   -54.69%  \n",
       "Stadium                          -80.82%  \n",
       "SODO                              43.59%  \n",
       "Beacon Hill                      -34.26%  \n",
       "Mount Baker                       -6.03%  \n",
       "Columbia City                      6.53%  \n",
       "Othello                            5.20%  \n",
       "Rainier Beach                      5.11%  \n",
       "Tukwila Int'l Blvd                28.16%  \n",
       "SeaTac/Airport                    27.08%  \n",
       "Angle Lake                        -7.65%  "
      ]
     },
     "execution_count": 139,
     "metadata": {},
     "output_type": "execute_result"
    }
   ],
   "source": [
    "line_1_df = df_table.loc[line_1_station_list]\n",
    "line_1_df"
   ]
  },
  {
   "cell_type": "code",
   "execution_count": 140,
   "id": "76eb1c04",
   "metadata": {},
   "outputs": [
    {
     "data": {
      "text/html": [
       "        <script type=\"text/javascript\">\n",
       "        window.PlotlyConfig = {MathJaxConfig: 'local'};\n",
       "        if (window.MathJax && window.MathJax.Hub && window.MathJax.Hub.Config) {window.MathJax.Hub.Config({SVG: {font: \"STIX-Web\"}});}\n",
       "        if (typeof require !== 'undefined') {\n",
       "        require.undef(\"plotly\");\n",
       "        requirejs.config({\n",
       "            paths: {\n",
       "                'plotly': ['https://cdn.plot.ly/plotly-2.27.0.min']\n",
       "            }\n",
       "        });\n",
       "        require(['plotly'], function(Plotly) {\n",
       "            window._Plotly = Plotly;\n",
       "        });\n",
       "        }\n",
       "        </script>\n",
       "        "
      ]
     },
     "metadata": {},
     "output_type": "display_data"
    },
    {
     "data": {
      "application/vnd.plotly.v1+json": {
       "config": {
        "plotlyServerURL": "https://plot.ly"
       },
       "data": [
        {
         "hovertemplate": "variable=observed_boardings<br>station_name=%{x}<br>value=%{y}<extra></extra>",
         "legendgroup": "observed_boardings",
         "line": {
          "color": "#91268F",
          "dash": "solid"
         },
         "marker": {
          "symbol": "circle"
         },
         "mode": "lines",
         "name": "observed_boardings",
         "orientation": "v",
         "showlegend": true,
         "type": "scatter",
         "x": [
          "Northgate Station",
          "Roosevelt Station",
          "University District Station",
          "Husky Stadium",
          "Capitol Hill",
          "Westlake",
          "Symphony",
          "Pioneer Square",
          "Int'l District",
          "Stadium",
          "SODO",
          "Beacon Hill",
          "Mount Baker",
          "Columbia City",
          "Othello",
          "Rainier Beach",
          "Tukwila Int'l Blvd",
          "SeaTac/Airport",
          "Angle Lake"
         ],
         "xaxis": "x",
         "y": [
          10384,
          4349,
          7563,
          6134,
          7667,
          8845,
          4324,
          2400,
          4399,
          1731,
          1669,
          2147,
          1861,
          1630,
          2030,
          1495,
          2298,
          4731,
          3865
         ],
         "yaxis": "y"
        },
        {
         "hovertemplate": "variable=model_boardings<br>station_name=%{x}<br>value=%{y}<extra></extra>",
         "legendgroup": "model_boardings",
         "line": {
          "color": "#8CC63E",
          "dash": "solid"
         },
         "marker": {
          "symbol": "circle"
         },
         "mode": "lines",
         "name": "model_boardings",
         "orientation": "v",
         "showlegend": true,
         "type": "scatter",
         "x": [
          "Northgate Station",
          "Roosevelt Station",
          "University District Station",
          "Husky Stadium",
          "Capitol Hill",
          "Westlake",
          "Symphony",
          "Pioneer Square",
          "Int'l District",
          "Stadium",
          "SODO",
          "Beacon Hill",
          "Mount Baker",
          "Columbia City",
          "Othello",
          "Rainier Beach",
          "Tukwila Int'l Blvd",
          "SeaTac/Airport",
          "Angle Lake"
         ],
         "xaxis": "x",
         "y": [
          10622.170806884766,
          8073.913746595383,
          6954.083134651184,
          3551.7187893390656,
          7578.6024169921875,
          11554.244252204897,
          6724.0937967300415,
          5595.166255474091,
          1993.2251391410828,
          331.9823930859566,
          2396.450671672821,
          1411.400143742561,
          1748.806332230568,
          1736.5146238803864,
          2135.6343886852264,
          1571.4594976902008,
          2945.193388938904,
          6012.065598011017,
          3569.193801879883
         ],
         "yaxis": "y"
        }
       ],
       "layout": {
        "font": {
         "size": 11
        },
        "height": 500,
        "legend": {
         "title": {
          "text": "variable"
         },
         "tracegroupgap": 0
        },
        "margin": {
         "t": 60
        },
        "template": {
         "data": {
          "bar": [
           {
            "error_x": {
             "color": "rgb(36,36,36)"
            },
            "error_y": {
             "color": "rgb(36,36,36)"
            },
            "marker": {
             "line": {
              "color": "white",
              "width": 0.5
             },
             "pattern": {
              "fillmode": "overlay",
              "size": 10,
              "solidity": 0.2
             }
            },
            "type": "bar"
           }
          ],
          "barpolar": [
           {
            "marker": {
             "line": {
              "color": "white",
              "width": 0.5
             },
             "pattern": {
              "fillmode": "overlay",
              "size": 10,
              "solidity": 0.2
             }
            },
            "type": "barpolar"
           }
          ],
          "carpet": [
           {
            "aaxis": {
             "endlinecolor": "rgb(36,36,36)",
             "gridcolor": "white",
             "linecolor": "white",
             "minorgridcolor": "white",
             "startlinecolor": "rgb(36,36,36)"
            },
            "baxis": {
             "endlinecolor": "rgb(36,36,36)",
             "gridcolor": "white",
             "linecolor": "white",
             "minorgridcolor": "white",
             "startlinecolor": "rgb(36,36,36)"
            },
            "type": "carpet"
           }
          ],
          "choropleth": [
           {
            "colorbar": {
             "outlinewidth": 1,
             "tickcolor": "rgb(36,36,36)",
             "ticks": "outside"
            },
            "type": "choropleth"
           }
          ],
          "contour": [
           {
            "colorbar": {
             "outlinewidth": 1,
             "tickcolor": "rgb(36,36,36)",
             "ticks": "outside"
            },
            "colorscale": [
             [
              0,
              "#440154"
             ],
             [
              0.1111111111111111,
              "#482878"
             ],
             [
              0.2222222222222222,
              "#3e4989"
             ],
             [
              0.3333333333333333,
              "#31688e"
             ],
             [
              0.4444444444444444,
              "#26828e"
             ],
             [
              0.5555555555555556,
              "#1f9e89"
             ],
             [
              0.6666666666666666,
              "#35b779"
             ],
             [
              0.7777777777777778,
              "#6ece58"
             ],
             [
              0.8888888888888888,
              "#b5de2b"
             ],
             [
              1,
              "#fde725"
             ]
            ],
            "type": "contour"
           }
          ],
          "contourcarpet": [
           {
            "colorbar": {
             "outlinewidth": 1,
             "tickcolor": "rgb(36,36,36)",
             "ticks": "outside"
            },
            "type": "contourcarpet"
           }
          ],
          "heatmap": [
           {
            "colorbar": {
             "outlinewidth": 1,
             "tickcolor": "rgb(36,36,36)",
             "ticks": "outside"
            },
            "colorscale": [
             [
              0,
              "#440154"
             ],
             [
              0.1111111111111111,
              "#482878"
             ],
             [
              0.2222222222222222,
              "#3e4989"
             ],
             [
              0.3333333333333333,
              "#31688e"
             ],
             [
              0.4444444444444444,
              "#26828e"
             ],
             [
              0.5555555555555556,
              "#1f9e89"
             ],
             [
              0.6666666666666666,
              "#35b779"
             ],
             [
              0.7777777777777778,
              "#6ece58"
             ],
             [
              0.8888888888888888,
              "#b5de2b"
             ],
             [
              1,
              "#fde725"
             ]
            ],
            "type": "heatmap"
           }
          ],
          "heatmapgl": [
           {
            "colorbar": {
             "outlinewidth": 1,
             "tickcolor": "rgb(36,36,36)",
             "ticks": "outside"
            },
            "colorscale": [
             [
              0,
              "#440154"
             ],
             [
              0.1111111111111111,
              "#482878"
             ],
             [
              0.2222222222222222,
              "#3e4989"
             ],
             [
              0.3333333333333333,
              "#31688e"
             ],
             [
              0.4444444444444444,
              "#26828e"
             ],
             [
              0.5555555555555556,
              "#1f9e89"
             ],
             [
              0.6666666666666666,
              "#35b779"
             ],
             [
              0.7777777777777778,
              "#6ece58"
             ],
             [
              0.8888888888888888,
              "#b5de2b"
             ],
             [
              1,
              "#fde725"
             ]
            ],
            "type": "heatmapgl"
           }
          ],
          "histogram": [
           {
            "marker": {
             "line": {
              "color": "white",
              "width": 0.6
             }
            },
            "type": "histogram"
           }
          ],
          "histogram2d": [
           {
            "colorbar": {
             "outlinewidth": 1,
             "tickcolor": "rgb(36,36,36)",
             "ticks": "outside"
            },
            "colorscale": [
             [
              0,
              "#440154"
             ],
             [
              0.1111111111111111,
              "#482878"
             ],
             [
              0.2222222222222222,
              "#3e4989"
             ],
             [
              0.3333333333333333,
              "#31688e"
             ],
             [
              0.4444444444444444,
              "#26828e"
             ],
             [
              0.5555555555555556,
              "#1f9e89"
             ],
             [
              0.6666666666666666,
              "#35b779"
             ],
             [
              0.7777777777777778,
              "#6ece58"
             ],
             [
              0.8888888888888888,
              "#b5de2b"
             ],
             [
              1,
              "#fde725"
             ]
            ],
            "type": "histogram2d"
           }
          ],
          "histogram2dcontour": [
           {
            "colorbar": {
             "outlinewidth": 1,
             "tickcolor": "rgb(36,36,36)",
             "ticks": "outside"
            },
            "colorscale": [
             [
              0,
              "#440154"
             ],
             [
              0.1111111111111111,
              "#482878"
             ],
             [
              0.2222222222222222,
              "#3e4989"
             ],
             [
              0.3333333333333333,
              "#31688e"
             ],
             [
              0.4444444444444444,
              "#26828e"
             ],
             [
              0.5555555555555556,
              "#1f9e89"
             ],
             [
              0.6666666666666666,
              "#35b779"
             ],
             [
              0.7777777777777778,
              "#6ece58"
             ],
             [
              0.8888888888888888,
              "#b5de2b"
             ],
             [
              1,
              "#fde725"
             ]
            ],
            "type": "histogram2dcontour"
           }
          ],
          "mesh3d": [
           {
            "colorbar": {
             "outlinewidth": 1,
             "tickcolor": "rgb(36,36,36)",
             "ticks": "outside"
            },
            "type": "mesh3d"
           }
          ],
          "parcoords": [
           {
            "line": {
             "colorbar": {
              "outlinewidth": 1,
              "tickcolor": "rgb(36,36,36)",
              "ticks": "outside"
             }
            },
            "type": "parcoords"
           }
          ],
          "pie": [
           {
            "automargin": true,
            "type": "pie"
           }
          ],
          "scatter": [
           {
            "fillpattern": {
             "fillmode": "overlay",
             "size": 10,
             "solidity": 0.2
            },
            "type": "scatter"
           }
          ],
          "scatter3d": [
           {
            "line": {
             "colorbar": {
              "outlinewidth": 1,
              "tickcolor": "rgb(36,36,36)",
              "ticks": "outside"
             }
            },
            "marker": {
             "colorbar": {
              "outlinewidth": 1,
              "tickcolor": "rgb(36,36,36)",
              "ticks": "outside"
             }
            },
            "type": "scatter3d"
           }
          ],
          "scattercarpet": [
           {
            "marker": {
             "colorbar": {
              "outlinewidth": 1,
              "tickcolor": "rgb(36,36,36)",
              "ticks": "outside"
             }
            },
            "type": "scattercarpet"
           }
          ],
          "scattergeo": [
           {
            "marker": {
             "colorbar": {
              "outlinewidth": 1,
              "tickcolor": "rgb(36,36,36)",
              "ticks": "outside"
             }
            },
            "type": "scattergeo"
           }
          ],
          "scattergl": [
           {
            "marker": {
             "colorbar": {
              "outlinewidth": 1,
              "tickcolor": "rgb(36,36,36)",
              "ticks": "outside"
             }
            },
            "type": "scattergl"
           }
          ],
          "scattermapbox": [
           {
            "marker": {
             "colorbar": {
              "outlinewidth": 1,
              "tickcolor": "rgb(36,36,36)",
              "ticks": "outside"
             }
            },
            "type": "scattermapbox"
           }
          ],
          "scatterpolar": [
           {
            "marker": {
             "colorbar": {
              "outlinewidth": 1,
              "tickcolor": "rgb(36,36,36)",
              "ticks": "outside"
             }
            },
            "type": "scatterpolar"
           }
          ],
          "scatterpolargl": [
           {
            "marker": {
             "colorbar": {
              "outlinewidth": 1,
              "tickcolor": "rgb(36,36,36)",
              "ticks": "outside"
             }
            },
            "type": "scatterpolargl"
           }
          ],
          "scatterternary": [
           {
            "marker": {
             "colorbar": {
              "outlinewidth": 1,
              "tickcolor": "rgb(36,36,36)",
              "ticks": "outside"
             }
            },
            "type": "scatterternary"
           }
          ],
          "surface": [
           {
            "colorbar": {
             "outlinewidth": 1,
             "tickcolor": "rgb(36,36,36)",
             "ticks": "outside"
            },
            "colorscale": [
             [
              0,
              "#440154"
             ],
             [
              0.1111111111111111,
              "#482878"
             ],
             [
              0.2222222222222222,
              "#3e4989"
             ],
             [
              0.3333333333333333,
              "#31688e"
             ],
             [
              0.4444444444444444,
              "#26828e"
             ],
             [
              0.5555555555555556,
              "#1f9e89"
             ],
             [
              0.6666666666666666,
              "#35b779"
             ],
             [
              0.7777777777777778,
              "#6ece58"
             ],
             [
              0.8888888888888888,
              "#b5de2b"
             ],
             [
              1,
              "#fde725"
             ]
            ],
            "type": "surface"
           }
          ],
          "table": [
           {
            "cells": {
             "fill": {
              "color": "rgb(237,237,237)"
             },
             "line": {
              "color": "white"
             }
            },
            "header": {
             "fill": {
              "color": "rgb(217,217,217)"
             },
             "line": {
              "color": "white"
             }
            },
            "type": "table"
           }
          ]
         },
         "layout": {
          "annotationdefaults": {
           "arrowhead": 0,
           "arrowwidth": 1
          },
          "autotypenumbers": "strict",
          "coloraxis": {
           "colorbar": {
            "outlinewidth": 1,
            "tickcolor": "rgb(36,36,36)",
            "ticks": "outside"
           }
          },
          "colorscale": {
           "diverging": [
            [
             0,
             "rgb(103,0,31)"
            ],
            [
             0.1,
             "rgb(178,24,43)"
            ],
            [
             0.2,
             "rgb(214,96,77)"
            ],
            [
             0.3,
             "rgb(244,165,130)"
            ],
            [
             0.4,
             "rgb(253,219,199)"
            ],
            [
             0.5,
             "rgb(247,247,247)"
            ],
            [
             0.6,
             "rgb(209,229,240)"
            ],
            [
             0.7,
             "rgb(146,197,222)"
            ],
            [
             0.8,
             "rgb(67,147,195)"
            ],
            [
             0.9,
             "rgb(33,102,172)"
            ],
            [
             1,
             "rgb(5,48,97)"
            ]
           ],
           "sequential": [
            [
             0,
             "#440154"
            ],
            [
             0.1111111111111111,
             "#482878"
            ],
            [
             0.2222222222222222,
             "#3e4989"
            ],
            [
             0.3333333333333333,
             "#31688e"
            ],
            [
             0.4444444444444444,
             "#26828e"
            ],
            [
             0.5555555555555556,
             "#1f9e89"
            ],
            [
             0.6666666666666666,
             "#35b779"
            ],
            [
             0.7777777777777778,
             "#6ece58"
            ],
            [
             0.8888888888888888,
             "#b5de2b"
            ],
            [
             1,
             "#fde725"
            ]
           ],
           "sequentialminus": [
            [
             0,
             "#440154"
            ],
            [
             0.1111111111111111,
             "#482878"
            ],
            [
             0.2222222222222222,
             "#3e4989"
            ],
            [
             0.3333333333333333,
             "#31688e"
            ],
            [
             0.4444444444444444,
             "#26828e"
            ],
            [
             0.5555555555555556,
             "#1f9e89"
            ],
            [
             0.6666666666666666,
             "#35b779"
            ],
            [
             0.7777777777777778,
             "#6ece58"
            ],
            [
             0.8888888888888888,
             "#b5de2b"
            ],
            [
             1,
             "#fde725"
            ]
           ]
          },
          "colorway": [
           "#91268F",
           "#8CC63E",
           "#00A7A0",
           "#F05A28",
           "#4C4C4C",
           "#630460",
           "#9f3913",
           "#588527",
           "#00716c",
           "#3e4040"
          ],
          "font": {
           "color": "rgb(36,36,36)",
           "family": "Poppins",
           "size": 11
          },
          "geo": {
           "bgcolor": "white",
           "lakecolor": "white",
           "landcolor": "white",
           "showlakes": true,
           "showland": true,
           "subunitcolor": "white"
          },
          "hoverlabel": {
           "align": "left"
          },
          "hovermode": "closest",
          "mapbox": {
           "style": "light"
          },
          "paper_bgcolor": "white",
          "plot_bgcolor": "white",
          "polar": {
           "angularaxis": {
            "gridcolor": "rgb(232,232,232)",
            "linecolor": "rgb(36,36,36)",
            "showgrid": false,
            "showline": true,
            "ticks": "outside"
           },
           "bgcolor": "white",
           "radialaxis": {
            "gridcolor": "rgb(232,232,232)",
            "linecolor": "rgb(36,36,36)",
            "showgrid": false,
            "showline": true,
            "ticks": "outside"
           }
          },
          "scene": {
           "xaxis": {
            "backgroundcolor": "white",
            "gridcolor": "rgb(232,232,232)",
            "gridwidth": 2,
            "linecolor": "rgb(36,36,36)",
            "showbackground": true,
            "showgrid": false,
            "showline": true,
            "ticks": "outside",
            "zeroline": false,
            "zerolinecolor": "rgb(36,36,36)"
           },
           "yaxis": {
            "backgroundcolor": "white",
            "gridcolor": "rgb(232,232,232)",
            "gridwidth": 2,
            "linecolor": "rgb(36,36,36)",
            "showbackground": true,
            "showgrid": false,
            "showline": true,
            "ticks": "outside",
            "zeroline": false,
            "zerolinecolor": "rgb(36,36,36)"
           },
           "zaxis": {
            "backgroundcolor": "white",
            "gridcolor": "rgb(232,232,232)",
            "gridwidth": 2,
            "linecolor": "rgb(36,36,36)",
            "showbackground": true,
            "showgrid": false,
            "showline": true,
            "ticks": "outside",
            "zeroline": false,
            "zerolinecolor": "rgb(36,36,36)"
           }
          },
          "shapedefaults": {
           "fillcolor": "black",
           "line": {
            "width": 0
           },
           "opacity": 0.3
          },
          "ternary": {
           "aaxis": {
            "gridcolor": "rgb(232,232,232)",
            "linecolor": "rgb(36,36,36)",
            "showgrid": false,
            "showline": true,
            "ticks": "outside"
           },
           "baxis": {
            "gridcolor": "rgb(232,232,232)",
            "linecolor": "rgb(36,36,36)",
            "showgrid": false,
            "showline": true,
            "ticks": "outside"
           },
           "bgcolor": "white",
           "caxis": {
            "gridcolor": "rgb(232,232,232)",
            "linecolor": "rgb(36,36,36)",
            "showgrid": false,
            "showline": true,
            "ticks": "outside"
           }
          },
          "title": {
           "x": 0.05
          },
          "xaxis": {
           "automargin": true,
           "gridcolor": "rgb(232,232,232)",
           "linecolor": "rgb(36,36,36)",
           "showgrid": false,
           "showline": true,
           "ticks": "outside",
           "title": {
            "standoff": 15
           },
           "zeroline": false,
           "zerolinecolor": "rgb(36,36,36)"
          },
          "yaxis": {
           "automargin": true,
           "gridcolor": "rgb(232,232,232)",
           "linecolor": "rgb(36,36,36)",
           "showgrid": false,
           "showline": true,
           "ticks": "outside",
           "title": {
            "standoff": 15
           },
           "zeroline": false,
           "zerolinecolor": "rgb(36,36,36)"
          }
         }
        },
        "width": 900,
        "xaxis": {
         "anchor": "y",
         "domain": [
          0,
          1
         ],
         "title": {
          "text": "station_name"
         }
        },
        "yaxis": {
         "anchor": "x",
         "domain": [
          0,
          1
         ],
         "tickformat": ".00f",
         "title": {
          "text": "value"
         }
        }
       }
      },
      "text/html": [
       "<div>                            <div id=\"984da632-20a5-4669-9479-5fff8fed49d3\" class=\"plotly-graph-div\" style=\"height:500px; width:900px;\"></div>            <script type=\"text/javascript\">                require([\"plotly\"], function(Plotly) {                    window.PLOTLYENV=window.PLOTLYENV || {};                                    if (document.getElementById(\"984da632-20a5-4669-9479-5fff8fed49d3\")) {                    Plotly.newPlot(                        \"984da632-20a5-4669-9479-5fff8fed49d3\",                        [{\"hovertemplate\":\"variable=observed_boardings\\u003cbr\\u003estation_name=%{x}\\u003cbr\\u003evalue=%{y}\\u003cextra\\u003e\\u003c\\u002fextra\\u003e\",\"legendgroup\":\"observed_boardings\",\"line\":{\"color\":\"#91268F\",\"dash\":\"solid\"},\"marker\":{\"symbol\":\"circle\"},\"mode\":\"lines\",\"name\":\"observed_boardings\",\"orientation\":\"v\",\"showlegend\":true,\"x\":[\"Northgate Station\",\"Roosevelt Station\",\"University District Station\",\"Husky Stadium\",\"Capitol Hill\",\"Westlake\",\"Symphony\",\"Pioneer Square\",\"Int'l District\",\"Stadium\",\"SODO\",\"Beacon Hill\",\"Mount Baker\",\"Columbia City\",\"Othello\",\"Rainier Beach\",\"Tukwila Int'l Blvd\",\"SeaTac\\u002fAirport\",\"Angle Lake\"],\"xaxis\":\"x\",\"y\":[10384.0,4349.0,7563.0,6134.0,7667.0,8845.0,4324.0,2400.0,4399.0,1731.0,1669.0,2147.0,1861.0,1630.0,2030.0,1495.0,2298.0,4731.0,3865.0],\"yaxis\":\"y\",\"type\":\"scatter\"},{\"hovertemplate\":\"variable=model_boardings\\u003cbr\\u003estation_name=%{x}\\u003cbr\\u003evalue=%{y}\\u003cextra\\u003e\\u003c\\u002fextra\\u003e\",\"legendgroup\":\"model_boardings\",\"line\":{\"color\":\"#8CC63E\",\"dash\":\"solid\"},\"marker\":{\"symbol\":\"circle\"},\"mode\":\"lines\",\"name\":\"model_boardings\",\"orientation\":\"v\",\"showlegend\":true,\"x\":[\"Northgate Station\",\"Roosevelt Station\",\"University District Station\",\"Husky Stadium\",\"Capitol Hill\",\"Westlake\",\"Symphony\",\"Pioneer Square\",\"Int'l District\",\"Stadium\",\"SODO\",\"Beacon Hill\",\"Mount Baker\",\"Columbia City\",\"Othello\",\"Rainier Beach\",\"Tukwila Int'l Blvd\",\"SeaTac\\u002fAirport\",\"Angle Lake\"],\"xaxis\":\"x\",\"y\":[10622.170806884766,8073.913746595383,6954.083134651184,3551.7187893390656,7578.6024169921875,11554.244252204897,6724.0937967300415,5595.166255474091,1993.2251391410828,331.9823930859566,2396.450671672821,1411.400143742561,1748.806332230568,1736.5146238803864,2135.6343886852264,1571.4594976902008,2945.193388938904,6012.065598011017,3569.193801879883],\"yaxis\":\"y\",\"type\":\"scatter\"}],                        {\"template\":{\"data\":{\"barpolar\":[{\"marker\":{\"line\":{\"color\":\"white\",\"width\":0.5},\"pattern\":{\"fillmode\":\"overlay\",\"size\":10,\"solidity\":0.2}},\"type\":\"barpolar\"}],\"bar\":[{\"error_x\":{\"color\":\"rgb(36,36,36)\"},\"error_y\":{\"color\":\"rgb(36,36,36)\"},\"marker\":{\"line\":{\"color\":\"white\",\"width\":0.5},\"pattern\":{\"fillmode\":\"overlay\",\"size\":10,\"solidity\":0.2}},\"type\":\"bar\"}],\"carpet\":[{\"aaxis\":{\"endlinecolor\":\"rgb(36,36,36)\",\"gridcolor\":\"white\",\"linecolor\":\"white\",\"minorgridcolor\":\"white\",\"startlinecolor\":\"rgb(36,36,36)\"},\"baxis\":{\"endlinecolor\":\"rgb(36,36,36)\",\"gridcolor\":\"white\",\"linecolor\":\"white\",\"minorgridcolor\":\"white\",\"startlinecolor\":\"rgb(36,36,36)\"},\"type\":\"carpet\"}],\"choropleth\":[{\"colorbar\":{\"outlinewidth\":1,\"tickcolor\":\"rgb(36,36,36)\",\"ticks\":\"outside\"},\"type\":\"choropleth\"}],\"contourcarpet\":[{\"colorbar\":{\"outlinewidth\":1,\"tickcolor\":\"rgb(36,36,36)\",\"ticks\":\"outside\"},\"type\":\"contourcarpet\"}],\"contour\":[{\"colorbar\":{\"outlinewidth\":1,\"tickcolor\":\"rgb(36,36,36)\",\"ticks\":\"outside\"},\"colorscale\":[[0.0,\"#440154\"],[0.1111111111111111,\"#482878\"],[0.2222222222222222,\"#3e4989\"],[0.3333333333333333,\"#31688e\"],[0.4444444444444444,\"#26828e\"],[0.5555555555555556,\"#1f9e89\"],[0.6666666666666666,\"#35b779\"],[0.7777777777777778,\"#6ece58\"],[0.8888888888888888,\"#b5de2b\"],[1.0,\"#fde725\"]],\"type\":\"contour\"}],\"heatmapgl\":[{\"colorbar\":{\"outlinewidth\":1,\"tickcolor\":\"rgb(36,36,36)\",\"ticks\":\"outside\"},\"colorscale\":[[0.0,\"#440154\"],[0.1111111111111111,\"#482878\"],[0.2222222222222222,\"#3e4989\"],[0.3333333333333333,\"#31688e\"],[0.4444444444444444,\"#26828e\"],[0.5555555555555556,\"#1f9e89\"],[0.6666666666666666,\"#35b779\"],[0.7777777777777778,\"#6ece58\"],[0.8888888888888888,\"#b5de2b\"],[1.0,\"#fde725\"]],\"type\":\"heatmapgl\"}],\"heatmap\":[{\"colorbar\":{\"outlinewidth\":1,\"tickcolor\":\"rgb(36,36,36)\",\"ticks\":\"outside\"},\"colorscale\":[[0.0,\"#440154\"],[0.1111111111111111,\"#482878\"],[0.2222222222222222,\"#3e4989\"],[0.3333333333333333,\"#31688e\"],[0.4444444444444444,\"#26828e\"],[0.5555555555555556,\"#1f9e89\"],[0.6666666666666666,\"#35b779\"],[0.7777777777777778,\"#6ece58\"],[0.8888888888888888,\"#b5de2b\"],[1.0,\"#fde725\"]],\"type\":\"heatmap\"}],\"histogram2dcontour\":[{\"colorbar\":{\"outlinewidth\":1,\"tickcolor\":\"rgb(36,36,36)\",\"ticks\":\"outside\"},\"colorscale\":[[0.0,\"#440154\"],[0.1111111111111111,\"#482878\"],[0.2222222222222222,\"#3e4989\"],[0.3333333333333333,\"#31688e\"],[0.4444444444444444,\"#26828e\"],[0.5555555555555556,\"#1f9e89\"],[0.6666666666666666,\"#35b779\"],[0.7777777777777778,\"#6ece58\"],[0.8888888888888888,\"#b5de2b\"],[1.0,\"#fde725\"]],\"type\":\"histogram2dcontour\"}],\"histogram2d\":[{\"colorbar\":{\"outlinewidth\":1,\"tickcolor\":\"rgb(36,36,36)\",\"ticks\":\"outside\"},\"colorscale\":[[0.0,\"#440154\"],[0.1111111111111111,\"#482878\"],[0.2222222222222222,\"#3e4989\"],[0.3333333333333333,\"#31688e\"],[0.4444444444444444,\"#26828e\"],[0.5555555555555556,\"#1f9e89\"],[0.6666666666666666,\"#35b779\"],[0.7777777777777778,\"#6ece58\"],[0.8888888888888888,\"#b5de2b\"],[1.0,\"#fde725\"]],\"type\":\"histogram2d\"}],\"histogram\":[{\"marker\":{\"line\":{\"color\":\"white\",\"width\":0.6}},\"type\":\"histogram\"}],\"mesh3d\":[{\"colorbar\":{\"outlinewidth\":1,\"tickcolor\":\"rgb(36,36,36)\",\"ticks\":\"outside\"},\"type\":\"mesh3d\"}],\"parcoords\":[{\"line\":{\"colorbar\":{\"outlinewidth\":1,\"tickcolor\":\"rgb(36,36,36)\",\"ticks\":\"outside\"}},\"type\":\"parcoords\"}],\"pie\":[{\"automargin\":true,\"type\":\"pie\"}],\"scatter3d\":[{\"line\":{\"colorbar\":{\"outlinewidth\":1,\"tickcolor\":\"rgb(36,36,36)\",\"ticks\":\"outside\"}},\"marker\":{\"colorbar\":{\"outlinewidth\":1,\"tickcolor\":\"rgb(36,36,36)\",\"ticks\":\"outside\"}},\"type\":\"scatter3d\"}],\"scattercarpet\":[{\"marker\":{\"colorbar\":{\"outlinewidth\":1,\"tickcolor\":\"rgb(36,36,36)\",\"ticks\":\"outside\"}},\"type\":\"scattercarpet\"}],\"scattergeo\":[{\"marker\":{\"colorbar\":{\"outlinewidth\":1,\"tickcolor\":\"rgb(36,36,36)\",\"ticks\":\"outside\"}},\"type\":\"scattergeo\"}],\"scattergl\":[{\"marker\":{\"colorbar\":{\"outlinewidth\":1,\"tickcolor\":\"rgb(36,36,36)\",\"ticks\":\"outside\"}},\"type\":\"scattergl\"}],\"scattermapbox\":[{\"marker\":{\"colorbar\":{\"outlinewidth\":1,\"tickcolor\":\"rgb(36,36,36)\",\"ticks\":\"outside\"}},\"type\":\"scattermapbox\"}],\"scatterpolargl\":[{\"marker\":{\"colorbar\":{\"outlinewidth\":1,\"tickcolor\":\"rgb(36,36,36)\",\"ticks\":\"outside\"}},\"type\":\"scatterpolargl\"}],\"scatterpolar\":[{\"marker\":{\"colorbar\":{\"outlinewidth\":1,\"tickcolor\":\"rgb(36,36,36)\",\"ticks\":\"outside\"}},\"type\":\"scatterpolar\"}],\"scatter\":[{\"fillpattern\":{\"fillmode\":\"overlay\",\"size\":10,\"solidity\":0.2},\"type\":\"scatter\"}],\"scatterternary\":[{\"marker\":{\"colorbar\":{\"outlinewidth\":1,\"tickcolor\":\"rgb(36,36,36)\",\"ticks\":\"outside\"}},\"type\":\"scatterternary\"}],\"surface\":[{\"colorbar\":{\"outlinewidth\":1,\"tickcolor\":\"rgb(36,36,36)\",\"ticks\":\"outside\"},\"colorscale\":[[0.0,\"#440154\"],[0.1111111111111111,\"#482878\"],[0.2222222222222222,\"#3e4989\"],[0.3333333333333333,\"#31688e\"],[0.4444444444444444,\"#26828e\"],[0.5555555555555556,\"#1f9e89\"],[0.6666666666666666,\"#35b779\"],[0.7777777777777778,\"#6ece58\"],[0.8888888888888888,\"#b5de2b\"],[1.0,\"#fde725\"]],\"type\":\"surface\"}],\"table\":[{\"cells\":{\"fill\":{\"color\":\"rgb(237,237,237)\"},\"line\":{\"color\":\"white\"}},\"header\":{\"fill\":{\"color\":\"rgb(217,217,217)\"},\"line\":{\"color\":\"white\"}},\"type\":\"table\"}]},\"layout\":{\"annotationdefaults\":{\"arrowhead\":0,\"arrowwidth\":1},\"autotypenumbers\":\"strict\",\"coloraxis\":{\"colorbar\":{\"outlinewidth\":1,\"tickcolor\":\"rgb(36,36,36)\",\"ticks\":\"outside\"}},\"colorscale\":{\"diverging\":[[0.0,\"rgb(103,0,31)\"],[0.1,\"rgb(178,24,43)\"],[0.2,\"rgb(214,96,77)\"],[0.3,\"rgb(244,165,130)\"],[0.4,\"rgb(253,219,199)\"],[0.5,\"rgb(247,247,247)\"],[0.6,\"rgb(209,229,240)\"],[0.7,\"rgb(146,197,222)\"],[0.8,\"rgb(67,147,195)\"],[0.9,\"rgb(33,102,172)\"],[1.0,\"rgb(5,48,97)\"]],\"sequential\":[[0.0,\"#440154\"],[0.1111111111111111,\"#482878\"],[0.2222222222222222,\"#3e4989\"],[0.3333333333333333,\"#31688e\"],[0.4444444444444444,\"#26828e\"],[0.5555555555555556,\"#1f9e89\"],[0.6666666666666666,\"#35b779\"],[0.7777777777777778,\"#6ece58\"],[0.8888888888888888,\"#b5de2b\"],[1.0,\"#fde725\"]],\"sequentialminus\":[[0.0,\"#440154\"],[0.1111111111111111,\"#482878\"],[0.2222222222222222,\"#3e4989\"],[0.3333333333333333,\"#31688e\"],[0.4444444444444444,\"#26828e\"],[0.5555555555555556,\"#1f9e89\"],[0.6666666666666666,\"#35b779\"],[0.7777777777777778,\"#6ece58\"],[0.8888888888888888,\"#b5de2b\"],[1.0,\"#fde725\"]]},\"colorway\":[\"#91268F\",\"#8CC63E\",\"#00A7A0\",\"#F05A28\",\"#4C4C4C\",\"#630460\",\"#9f3913\",\"#588527\",\"#00716c\",\"#3e4040\"],\"font\":{\"color\":\"rgb(36,36,36)\",\"family\":\"Poppins\",\"size\":11},\"geo\":{\"bgcolor\":\"white\",\"lakecolor\":\"white\",\"landcolor\":\"white\",\"showlakes\":true,\"showland\":true,\"subunitcolor\":\"white\"},\"hoverlabel\":{\"align\":\"left\"},\"hovermode\":\"closest\",\"mapbox\":{\"style\":\"light\"},\"paper_bgcolor\":\"white\",\"plot_bgcolor\":\"white\",\"polar\":{\"angularaxis\":{\"gridcolor\":\"rgb(232,232,232)\",\"linecolor\":\"rgb(36,36,36)\",\"showgrid\":false,\"showline\":true,\"ticks\":\"outside\"},\"bgcolor\":\"white\",\"radialaxis\":{\"gridcolor\":\"rgb(232,232,232)\",\"linecolor\":\"rgb(36,36,36)\",\"showgrid\":false,\"showline\":true,\"ticks\":\"outside\"}},\"scene\":{\"xaxis\":{\"backgroundcolor\":\"white\",\"gridcolor\":\"rgb(232,232,232)\",\"gridwidth\":2,\"linecolor\":\"rgb(36,36,36)\",\"showbackground\":true,\"showgrid\":false,\"showline\":true,\"ticks\":\"outside\",\"zeroline\":false,\"zerolinecolor\":\"rgb(36,36,36)\"},\"yaxis\":{\"backgroundcolor\":\"white\",\"gridcolor\":\"rgb(232,232,232)\",\"gridwidth\":2,\"linecolor\":\"rgb(36,36,36)\",\"showbackground\":true,\"showgrid\":false,\"showline\":true,\"ticks\":\"outside\",\"zeroline\":false,\"zerolinecolor\":\"rgb(36,36,36)\"},\"zaxis\":{\"backgroundcolor\":\"white\",\"gridcolor\":\"rgb(232,232,232)\",\"gridwidth\":2,\"linecolor\":\"rgb(36,36,36)\",\"showbackground\":true,\"showgrid\":false,\"showline\":true,\"ticks\":\"outside\",\"zeroline\":false,\"zerolinecolor\":\"rgb(36,36,36)\"}},\"shapedefaults\":{\"fillcolor\":\"black\",\"line\":{\"width\":0},\"opacity\":0.3},\"ternary\":{\"aaxis\":{\"gridcolor\":\"rgb(232,232,232)\",\"linecolor\":\"rgb(36,36,36)\",\"showgrid\":false,\"showline\":true,\"ticks\":\"outside\"},\"baxis\":{\"gridcolor\":\"rgb(232,232,232)\",\"linecolor\":\"rgb(36,36,36)\",\"showgrid\":false,\"showline\":true,\"ticks\":\"outside\"},\"bgcolor\":\"white\",\"caxis\":{\"gridcolor\":\"rgb(232,232,232)\",\"linecolor\":\"rgb(36,36,36)\",\"showgrid\":false,\"showline\":true,\"ticks\":\"outside\"}},\"title\":{\"x\":0.05},\"xaxis\":{\"automargin\":true,\"gridcolor\":\"rgb(232,232,232)\",\"linecolor\":\"rgb(36,36,36)\",\"showgrid\":false,\"showline\":true,\"ticks\":\"outside\",\"title\":{\"standoff\":15},\"zeroline\":false,\"zerolinecolor\":\"rgb(36,36,36)\"},\"yaxis\":{\"automargin\":true,\"gridcolor\":\"rgb(232,232,232)\",\"linecolor\":\"rgb(36,36,36)\",\"showgrid\":false,\"showline\":true,\"ticks\":\"outside\",\"title\":{\"standoff\":15},\"zeroline\":false,\"zerolinecolor\":\"rgb(36,36,36)\"}}},\"xaxis\":{\"anchor\":\"y\",\"domain\":[0.0,1.0],\"title\":{\"text\":\"station_name\"}},\"yaxis\":{\"anchor\":\"x\",\"domain\":[0.0,1.0],\"title\":{\"text\":\"value\"},\"tickformat\":\".00f\"},\"legend\":{\"title\":{\"text\":\"variable\"},\"tracegroupgap\":0},\"margin\":{\"t\":60},\"font\":{\"size\":11},\"height\":500,\"width\":900},                        {\"responsive\": true}                    ).then(function(){\n",
       "                            \n",
       "var gd = document.getElementById('984da632-20a5-4669-9479-5fff8fed49d3');\n",
       "var x = new MutationObserver(function (mutations, observer) {{\n",
       "        var display = window.getComputedStyle(gd).display;\n",
       "        if (!display || display === 'none') {{\n",
       "            console.log([gd, 'removed!']);\n",
       "            Plotly.purge(gd);\n",
       "            observer.disconnect();\n",
       "        }}\n",
       "}});\n",
       "\n",
       "// Listen for the removal of the full notebook cells\n",
       "var notebookContainer = gd.closest('#notebook-container');\n",
       "if (notebookContainer) {{\n",
       "    x.observe(notebookContainer, {childList: true});\n",
       "}}\n",
       "\n",
       "// Listen for the clearing of the current output cell\n",
       "var outputEl = gd.closest('.output');\n",
       "if (outputEl) {{\n",
       "    x.observe(outputEl, {childList: true});\n",
       "}}\n",
       "\n",
       "                        })                };                });            </script>        </div>"
      ]
     },
     "metadata": {},
     "output_type": "display_data"
    }
   ],
   "source": [
    "fig = px.line(line_1_df[['observed_boardings','model_boardings']])\n",
    "fig.update_layout(height=500, width=900, font=dict(size=11),\n",
    "                  yaxis_tickformat = '.00f')\n",
    "fig.show()"
   ]
  },
  {
   "cell_type": "raw",
   "id": "9674332e",
   "metadata": {},
   "source": [
    "#### T-Line"
   ]
  },
  {
   "cell_type": "code",
   "execution_count": 141,
   "id": "9d9d2fcd",
   "metadata": {},
   "outputs": [
    {
     "data": {
      "text/html": [
       "<div>\n",
       "<style scoped>\n",
       "    .dataframe tbody tr th:only-of-type {\n",
       "        vertical-align: middle;\n",
       "    }\n",
       "\n",
       "    .dataframe tbody tr th {\n",
       "        vertical-align: top;\n",
       "    }\n",
       "\n",
       "    .dataframe thead th {\n",
       "        text-align: right;\n",
       "    }\n",
       "</style>\n",
       "<table border=\"1\" class=\"dataframe\">\n",
       "  <thead>\n",
       "    <tr style=\"text-align: right;\">\n",
       "      <th></th>\n",
       "      <th>observed_boardings</th>\n",
       "      <th>model_boardings</th>\n",
       "      <th>diff</th>\n",
       "      <th>percent_diff</th>\n",
       "    </tr>\n",
       "    <tr>\n",
       "      <th>station_name</th>\n",
       "      <th></th>\n",
       "      <th></th>\n",
       "      <th></th>\n",
       "      <th></th>\n",
       "    </tr>\n",
       "  </thead>\n",
       "  <tbody>\n",
       "    <tr>\n",
       "      <th>Tacoma Dome Station</th>\n",
       "      <td>494.00</td>\n",
       "      <td>280.77</td>\n",
       "      <td>-213.23</td>\n",
       "      <td>-43.16%</td>\n",
       "    </tr>\n",
       "    <tr>\n",
       "      <th>S 25th St Station</th>\n",
       "      <td>120.00</td>\n",
       "      <td>396.93</td>\n",
       "      <td>276.93</td>\n",
       "      <td>230.77%</td>\n",
       "    </tr>\n",
       "    <tr>\n",
       "      <th>Union Station</th>\n",
       "      <td>420.00</td>\n",
       "      <td>198.59</td>\n",
       "      <td>-221.41</td>\n",
       "      <td>-52.72%</td>\n",
       "    </tr>\n",
       "    <tr>\n",
       "      <th>Convention Center Station</th>\n",
       "      <td>91.00</td>\n",
       "      <td>514.63</td>\n",
       "      <td>423.63</td>\n",
       "      <td>465.53%</td>\n",
       "    </tr>\n",
       "    <tr>\n",
       "      <th>Commerce Station</th>\n",
       "      <td>294.00</td>\n",
       "      <td>456.36</td>\n",
       "      <td>162.36</td>\n",
       "      <td>55.23%</td>\n",
       "    </tr>\n",
       "  </tbody>\n",
       "</table>\n",
       "</div>"
      ],
      "text/plain": [
       "                           observed_boardings  model_boardings    diff  \\\n",
       "station_name                                                             \n",
       "Tacoma Dome Station                    494.00           280.77 -213.23   \n",
       "S 25th St Station                      120.00           396.93  276.93   \n",
       "Union Station                          420.00           198.59 -221.41   \n",
       "Convention Center Station               91.00           514.63  423.63   \n",
       "Commerce Station                       294.00           456.36  162.36   \n",
       "\n",
       "                          percent_diff  \n",
       "station_name                            \n",
       "Tacoma Dome Station            -43.16%  \n",
       "S 25th St Station              230.77%  \n",
       "Union Station                  -52.72%  \n",
       "Convention Center Station      465.53%  \n",
       "Commerce Station                55.23%  "
      ]
     },
     "execution_count": 141,
     "metadata": {},
     "output_type": "execute_result"
    }
   ],
   "source": [
    "t_line_df = df_table.loc[t_line_station_list]\n",
    "t_line_df"
   ]
  },
  {
   "cell_type": "raw",
   "id": "3dafcff1da10b5e5",
   "metadata": {},
   "source": [
    "#### Sound Transit Station Groupings"
   ]
  },
  {
   "cell_type": "code",
   "execution_count": 142,
   "id": "7456ebeb8efd83d0",
   "metadata": {
    "ExecuteTime": {
     "end_time": "2024-06-24T20:06:06.901270Z",
     "start_time": "2024-06-24T20:06:06.830246Z"
    },
    "execution": {
     "iopub.execute_input": "2024-12-14T02:38:42.922957Z",
     "iopub.status.busy": "2024-12-14T02:38:42.920963Z",
     "iopub.status.idle": "2024-12-14T02:38:42.990343Z",
     "shell.execute_reply": "2024-12-14T02:38:42.988264Z"
    }
   },
   "outputs": [],
   "source": [
    "df_combined = df.copy()\n",
    "\n",
    "df_combined['station_group'] = df.index\n",
    "df_combined.loc[['Westlake'],'station_group'] = 'Westlake/Symphony'\n",
    "df_combined.loc[['Symphony'],'station_group'] = 'Westlake/Symphony'\n",
    "\n",
    "df_combined.loc[['Pioneer Square'],'station_group'] = \"Pioneer Square/Int'l District\"\n",
    "df_combined.loc[[\"Int'l District\"],'station_group'] = \"Pioneer Square/Int'l District\"\n",
    "\n",
    "df_combined.loc[['Stadium'],'station_group'] = 'Stadium/SODO'\n",
    "df_combined.loc[['SODO'],'station_group'] = 'Stadium/SODO'\n",
    "\n",
    "df_combined.loc[['Beacon Hill'],'station_group'] = 'Beacon Hill/Mount Baker'\n",
    "df_combined.loc[['Mount Baker'],'station_group'] = 'Beacon Hill/Mount Baker'\n",
    "\n",
    "df_combined.loc[['Othello'],'station_group'] = 'Othello/Rainier Beach'\n",
    "df_combined.loc[['Rainier Beach'],'station_group'] = 'Othello/Rainier Beach'\n",
    "\n",
    "df_combined = df_combined.groupby('station_group').sum()[['observed_boardings','model_boardings']]\n",
    "df_combined['diff'] = df_combined['model_boardings']-df_combined['observed_boardings']\n",
    "df_combined['percent_diff'] = df_combined['diff']/df_combined['observed_boardings']\n",
    "df_combined[['percent_diff']] = df_combined[['percent_diff']].applymap(format_percent)\n",
    "\n",
    "df_combined = df_combined.loc[['Northgate Station','Roosevelt Station','University District Station', \n",
    "                                'Husky Stadium','Capitol Hill','Westlake/Symphony',\"Pioneer Square/Int'l District\",\n",
    "                             'Stadium/SODO','Beacon Hill/Mount Baker','Columbia City','Othello/Rainier Beach',\n",
    "                             \"Tukwila Int'l Blvd\",'SeaTac/Airport','Angle Lake']]"
   ]
  },
  {
   "cell_type": "code",
   "execution_count": 143,
   "id": "d06a1922",
   "metadata": {},
   "outputs": [
    {
     "data": {
      "application/vnd.plotly.v1+json": {
       "config": {
        "plotlyServerURL": "https://plot.ly"
       },
       "data": [
        {
         "hovertemplate": "variable=observed_boardings<br>station_group=%{x}<br>value=%{y}<extra></extra>",
         "legendgroup": "observed_boardings",
         "line": {
          "color": "#91268F",
          "dash": "solid"
         },
         "marker": {
          "symbol": "circle"
         },
         "mode": "lines",
         "name": "observed_boardings",
         "orientation": "v",
         "showlegend": true,
         "type": "scatter",
         "x": [
          "Northgate Station",
          "Roosevelt Station",
          "University District Station",
          "Husky Stadium",
          "Capitol Hill",
          "Westlake/Symphony",
          "Pioneer Square/Int'l District",
          "Stadium/SODO",
          "Beacon Hill/Mount Baker",
          "Columbia City",
          "Othello/Rainier Beach",
          "Tukwila Int'l Blvd",
          "SeaTac/Airport",
          "Angle Lake"
         ],
         "xaxis": "x",
         "y": [
          10384,
          4349,
          7563,
          6134,
          7667,
          13169,
          6799,
          3400,
          4008,
          1630,
          3525,
          2298,
          4731,
          3865
         ],
         "yaxis": "y"
        },
        {
         "hovertemplate": "variable=model_boardings<br>station_group=%{x}<br>value=%{y}<extra></extra>",
         "legendgroup": "model_boardings",
         "line": {
          "color": "#8CC63E",
          "dash": "solid"
         },
         "marker": {
          "symbol": "circle"
         },
         "mode": "lines",
         "name": "model_boardings",
         "orientation": "v",
         "showlegend": true,
         "type": "scatter",
         "x": [
          "Northgate Station",
          "Roosevelt Station",
          "University District Station",
          "Husky Stadium",
          "Capitol Hill",
          "Westlake/Symphony",
          "Pioneer Square/Int'l District",
          "Stadium/SODO",
          "Beacon Hill/Mount Baker",
          "Columbia City",
          "Othello/Rainier Beach",
          "Tukwila Int'l Blvd",
          "SeaTac/Airport",
          "Angle Lake"
         ],
         "xaxis": "x",
         "y": [
          10622.170806884766,
          8073.913746595383,
          6954.083134651184,
          3551.7187893390656,
          7578.6024169921875,
          18278.338048934937,
          7588.391394615173,
          2728.4330647587776,
          3160.2064759731293,
          1736.5146238803864,
          3707.0938863754272,
          2945.193388938904,
          6012.065598011017,
          3569.193801879883
         ],
         "yaxis": "y"
        }
       ],
       "layout": {
        "font": {
         "size": 11
        },
        "height": 500,
        "legend": {
         "title": {
          "text": "variable"
         },
         "tracegroupgap": 0
        },
        "margin": {
         "t": 60
        },
        "template": {
         "data": {
          "bar": [
           {
            "error_x": {
             "color": "rgb(36,36,36)"
            },
            "error_y": {
             "color": "rgb(36,36,36)"
            },
            "marker": {
             "line": {
              "color": "white",
              "width": 0.5
             },
             "pattern": {
              "fillmode": "overlay",
              "size": 10,
              "solidity": 0.2
             }
            },
            "type": "bar"
           }
          ],
          "barpolar": [
           {
            "marker": {
             "line": {
              "color": "white",
              "width": 0.5
             },
             "pattern": {
              "fillmode": "overlay",
              "size": 10,
              "solidity": 0.2
             }
            },
            "type": "barpolar"
           }
          ],
          "carpet": [
           {
            "aaxis": {
             "endlinecolor": "rgb(36,36,36)",
             "gridcolor": "white",
             "linecolor": "white",
             "minorgridcolor": "white",
             "startlinecolor": "rgb(36,36,36)"
            },
            "baxis": {
             "endlinecolor": "rgb(36,36,36)",
             "gridcolor": "white",
             "linecolor": "white",
             "minorgridcolor": "white",
             "startlinecolor": "rgb(36,36,36)"
            },
            "type": "carpet"
           }
          ],
          "choropleth": [
           {
            "colorbar": {
             "outlinewidth": 1,
             "tickcolor": "rgb(36,36,36)",
             "ticks": "outside"
            },
            "type": "choropleth"
           }
          ],
          "contour": [
           {
            "colorbar": {
             "outlinewidth": 1,
             "tickcolor": "rgb(36,36,36)",
             "ticks": "outside"
            },
            "colorscale": [
             [
              0,
              "#440154"
             ],
             [
              0.1111111111111111,
              "#482878"
             ],
             [
              0.2222222222222222,
              "#3e4989"
             ],
             [
              0.3333333333333333,
              "#31688e"
             ],
             [
              0.4444444444444444,
              "#26828e"
             ],
             [
              0.5555555555555556,
              "#1f9e89"
             ],
             [
              0.6666666666666666,
              "#35b779"
             ],
             [
              0.7777777777777778,
              "#6ece58"
             ],
             [
              0.8888888888888888,
              "#b5de2b"
             ],
             [
              1,
              "#fde725"
             ]
            ],
            "type": "contour"
           }
          ],
          "contourcarpet": [
           {
            "colorbar": {
             "outlinewidth": 1,
             "tickcolor": "rgb(36,36,36)",
             "ticks": "outside"
            },
            "type": "contourcarpet"
           }
          ],
          "heatmap": [
           {
            "colorbar": {
             "outlinewidth": 1,
             "tickcolor": "rgb(36,36,36)",
             "ticks": "outside"
            },
            "colorscale": [
             [
              0,
              "#440154"
             ],
             [
              0.1111111111111111,
              "#482878"
             ],
             [
              0.2222222222222222,
              "#3e4989"
             ],
             [
              0.3333333333333333,
              "#31688e"
             ],
             [
              0.4444444444444444,
              "#26828e"
             ],
             [
              0.5555555555555556,
              "#1f9e89"
             ],
             [
              0.6666666666666666,
              "#35b779"
             ],
             [
              0.7777777777777778,
              "#6ece58"
             ],
             [
              0.8888888888888888,
              "#b5de2b"
             ],
             [
              1,
              "#fde725"
             ]
            ],
            "type": "heatmap"
           }
          ],
          "heatmapgl": [
           {
            "colorbar": {
             "outlinewidth": 1,
             "tickcolor": "rgb(36,36,36)",
             "ticks": "outside"
            },
            "colorscale": [
             [
              0,
              "#440154"
             ],
             [
              0.1111111111111111,
              "#482878"
             ],
             [
              0.2222222222222222,
              "#3e4989"
             ],
             [
              0.3333333333333333,
              "#31688e"
             ],
             [
              0.4444444444444444,
              "#26828e"
             ],
             [
              0.5555555555555556,
              "#1f9e89"
             ],
             [
              0.6666666666666666,
              "#35b779"
             ],
             [
              0.7777777777777778,
              "#6ece58"
             ],
             [
              0.8888888888888888,
              "#b5de2b"
             ],
             [
              1,
              "#fde725"
             ]
            ],
            "type": "heatmapgl"
           }
          ],
          "histogram": [
           {
            "marker": {
             "line": {
              "color": "white",
              "width": 0.6
             }
            },
            "type": "histogram"
           }
          ],
          "histogram2d": [
           {
            "colorbar": {
             "outlinewidth": 1,
             "tickcolor": "rgb(36,36,36)",
             "ticks": "outside"
            },
            "colorscale": [
             [
              0,
              "#440154"
             ],
             [
              0.1111111111111111,
              "#482878"
             ],
             [
              0.2222222222222222,
              "#3e4989"
             ],
             [
              0.3333333333333333,
              "#31688e"
             ],
             [
              0.4444444444444444,
              "#26828e"
             ],
             [
              0.5555555555555556,
              "#1f9e89"
             ],
             [
              0.6666666666666666,
              "#35b779"
             ],
             [
              0.7777777777777778,
              "#6ece58"
             ],
             [
              0.8888888888888888,
              "#b5de2b"
             ],
             [
              1,
              "#fde725"
             ]
            ],
            "type": "histogram2d"
           }
          ],
          "histogram2dcontour": [
           {
            "colorbar": {
             "outlinewidth": 1,
             "tickcolor": "rgb(36,36,36)",
             "ticks": "outside"
            },
            "colorscale": [
             [
              0,
              "#440154"
             ],
             [
              0.1111111111111111,
              "#482878"
             ],
             [
              0.2222222222222222,
              "#3e4989"
             ],
             [
              0.3333333333333333,
              "#31688e"
             ],
             [
              0.4444444444444444,
              "#26828e"
             ],
             [
              0.5555555555555556,
              "#1f9e89"
             ],
             [
              0.6666666666666666,
              "#35b779"
             ],
             [
              0.7777777777777778,
              "#6ece58"
             ],
             [
              0.8888888888888888,
              "#b5de2b"
             ],
             [
              1,
              "#fde725"
             ]
            ],
            "type": "histogram2dcontour"
           }
          ],
          "mesh3d": [
           {
            "colorbar": {
             "outlinewidth": 1,
             "tickcolor": "rgb(36,36,36)",
             "ticks": "outside"
            },
            "type": "mesh3d"
           }
          ],
          "parcoords": [
           {
            "line": {
             "colorbar": {
              "outlinewidth": 1,
              "tickcolor": "rgb(36,36,36)",
              "ticks": "outside"
             }
            },
            "type": "parcoords"
           }
          ],
          "pie": [
           {
            "automargin": true,
            "type": "pie"
           }
          ],
          "scatter": [
           {
            "fillpattern": {
             "fillmode": "overlay",
             "size": 10,
             "solidity": 0.2
            },
            "type": "scatter"
           }
          ],
          "scatter3d": [
           {
            "line": {
             "colorbar": {
              "outlinewidth": 1,
              "tickcolor": "rgb(36,36,36)",
              "ticks": "outside"
             }
            },
            "marker": {
             "colorbar": {
              "outlinewidth": 1,
              "tickcolor": "rgb(36,36,36)",
              "ticks": "outside"
             }
            },
            "type": "scatter3d"
           }
          ],
          "scattercarpet": [
           {
            "marker": {
             "colorbar": {
              "outlinewidth": 1,
              "tickcolor": "rgb(36,36,36)",
              "ticks": "outside"
             }
            },
            "type": "scattercarpet"
           }
          ],
          "scattergeo": [
           {
            "marker": {
             "colorbar": {
              "outlinewidth": 1,
              "tickcolor": "rgb(36,36,36)",
              "ticks": "outside"
             }
            },
            "type": "scattergeo"
           }
          ],
          "scattergl": [
           {
            "marker": {
             "colorbar": {
              "outlinewidth": 1,
              "tickcolor": "rgb(36,36,36)",
              "ticks": "outside"
             }
            },
            "type": "scattergl"
           }
          ],
          "scattermapbox": [
           {
            "marker": {
             "colorbar": {
              "outlinewidth": 1,
              "tickcolor": "rgb(36,36,36)",
              "ticks": "outside"
             }
            },
            "type": "scattermapbox"
           }
          ],
          "scatterpolar": [
           {
            "marker": {
             "colorbar": {
              "outlinewidth": 1,
              "tickcolor": "rgb(36,36,36)",
              "ticks": "outside"
             }
            },
            "type": "scatterpolar"
           }
          ],
          "scatterpolargl": [
           {
            "marker": {
             "colorbar": {
              "outlinewidth": 1,
              "tickcolor": "rgb(36,36,36)",
              "ticks": "outside"
             }
            },
            "type": "scatterpolargl"
           }
          ],
          "scatterternary": [
           {
            "marker": {
             "colorbar": {
              "outlinewidth": 1,
              "tickcolor": "rgb(36,36,36)",
              "ticks": "outside"
             }
            },
            "type": "scatterternary"
           }
          ],
          "surface": [
           {
            "colorbar": {
             "outlinewidth": 1,
             "tickcolor": "rgb(36,36,36)",
             "ticks": "outside"
            },
            "colorscale": [
             [
              0,
              "#440154"
             ],
             [
              0.1111111111111111,
              "#482878"
             ],
             [
              0.2222222222222222,
              "#3e4989"
             ],
             [
              0.3333333333333333,
              "#31688e"
             ],
             [
              0.4444444444444444,
              "#26828e"
             ],
             [
              0.5555555555555556,
              "#1f9e89"
             ],
             [
              0.6666666666666666,
              "#35b779"
             ],
             [
              0.7777777777777778,
              "#6ece58"
             ],
             [
              0.8888888888888888,
              "#b5de2b"
             ],
             [
              1,
              "#fde725"
             ]
            ],
            "type": "surface"
           }
          ],
          "table": [
           {
            "cells": {
             "fill": {
              "color": "rgb(237,237,237)"
             },
             "line": {
              "color": "white"
             }
            },
            "header": {
             "fill": {
              "color": "rgb(217,217,217)"
             },
             "line": {
              "color": "white"
             }
            },
            "type": "table"
           }
          ]
         },
         "layout": {
          "annotationdefaults": {
           "arrowhead": 0,
           "arrowwidth": 1
          },
          "autotypenumbers": "strict",
          "coloraxis": {
           "colorbar": {
            "outlinewidth": 1,
            "tickcolor": "rgb(36,36,36)",
            "ticks": "outside"
           }
          },
          "colorscale": {
           "diverging": [
            [
             0,
             "rgb(103,0,31)"
            ],
            [
             0.1,
             "rgb(178,24,43)"
            ],
            [
             0.2,
             "rgb(214,96,77)"
            ],
            [
             0.3,
             "rgb(244,165,130)"
            ],
            [
             0.4,
             "rgb(253,219,199)"
            ],
            [
             0.5,
             "rgb(247,247,247)"
            ],
            [
             0.6,
             "rgb(209,229,240)"
            ],
            [
             0.7,
             "rgb(146,197,222)"
            ],
            [
             0.8,
             "rgb(67,147,195)"
            ],
            [
             0.9,
             "rgb(33,102,172)"
            ],
            [
             1,
             "rgb(5,48,97)"
            ]
           ],
           "sequential": [
            [
             0,
             "#440154"
            ],
            [
             0.1111111111111111,
             "#482878"
            ],
            [
             0.2222222222222222,
             "#3e4989"
            ],
            [
             0.3333333333333333,
             "#31688e"
            ],
            [
             0.4444444444444444,
             "#26828e"
            ],
            [
             0.5555555555555556,
             "#1f9e89"
            ],
            [
             0.6666666666666666,
             "#35b779"
            ],
            [
             0.7777777777777778,
             "#6ece58"
            ],
            [
             0.8888888888888888,
             "#b5de2b"
            ],
            [
             1,
             "#fde725"
            ]
           ],
           "sequentialminus": [
            [
             0,
             "#440154"
            ],
            [
             0.1111111111111111,
             "#482878"
            ],
            [
             0.2222222222222222,
             "#3e4989"
            ],
            [
             0.3333333333333333,
             "#31688e"
            ],
            [
             0.4444444444444444,
             "#26828e"
            ],
            [
             0.5555555555555556,
             "#1f9e89"
            ],
            [
             0.6666666666666666,
             "#35b779"
            ],
            [
             0.7777777777777778,
             "#6ece58"
            ],
            [
             0.8888888888888888,
             "#b5de2b"
            ],
            [
             1,
             "#fde725"
            ]
           ]
          },
          "colorway": [
           "#91268F",
           "#8CC63E",
           "#00A7A0",
           "#F05A28",
           "#4C4C4C",
           "#630460",
           "#9f3913",
           "#588527",
           "#00716c",
           "#3e4040"
          ],
          "font": {
           "color": "rgb(36,36,36)",
           "family": "Poppins",
           "size": 11
          },
          "geo": {
           "bgcolor": "white",
           "lakecolor": "white",
           "landcolor": "white",
           "showlakes": true,
           "showland": true,
           "subunitcolor": "white"
          },
          "hoverlabel": {
           "align": "left"
          },
          "hovermode": "closest",
          "mapbox": {
           "style": "light"
          },
          "paper_bgcolor": "white",
          "plot_bgcolor": "white",
          "polar": {
           "angularaxis": {
            "gridcolor": "rgb(232,232,232)",
            "linecolor": "rgb(36,36,36)",
            "showgrid": false,
            "showline": true,
            "ticks": "outside"
           },
           "bgcolor": "white",
           "radialaxis": {
            "gridcolor": "rgb(232,232,232)",
            "linecolor": "rgb(36,36,36)",
            "showgrid": false,
            "showline": true,
            "ticks": "outside"
           }
          },
          "scene": {
           "xaxis": {
            "backgroundcolor": "white",
            "gridcolor": "rgb(232,232,232)",
            "gridwidth": 2,
            "linecolor": "rgb(36,36,36)",
            "showbackground": true,
            "showgrid": false,
            "showline": true,
            "ticks": "outside",
            "zeroline": false,
            "zerolinecolor": "rgb(36,36,36)"
           },
           "yaxis": {
            "backgroundcolor": "white",
            "gridcolor": "rgb(232,232,232)",
            "gridwidth": 2,
            "linecolor": "rgb(36,36,36)",
            "showbackground": true,
            "showgrid": false,
            "showline": true,
            "ticks": "outside",
            "zeroline": false,
            "zerolinecolor": "rgb(36,36,36)"
           },
           "zaxis": {
            "backgroundcolor": "white",
            "gridcolor": "rgb(232,232,232)",
            "gridwidth": 2,
            "linecolor": "rgb(36,36,36)",
            "showbackground": true,
            "showgrid": false,
            "showline": true,
            "ticks": "outside",
            "zeroline": false,
            "zerolinecolor": "rgb(36,36,36)"
           }
          },
          "shapedefaults": {
           "fillcolor": "black",
           "line": {
            "width": 0
           },
           "opacity": 0.3
          },
          "ternary": {
           "aaxis": {
            "gridcolor": "rgb(232,232,232)",
            "linecolor": "rgb(36,36,36)",
            "showgrid": false,
            "showline": true,
            "ticks": "outside"
           },
           "baxis": {
            "gridcolor": "rgb(232,232,232)",
            "linecolor": "rgb(36,36,36)",
            "showgrid": false,
            "showline": true,
            "ticks": "outside"
           },
           "bgcolor": "white",
           "caxis": {
            "gridcolor": "rgb(232,232,232)",
            "linecolor": "rgb(36,36,36)",
            "showgrid": false,
            "showline": true,
            "ticks": "outside"
           }
          },
          "title": {
           "x": 0.05
          },
          "xaxis": {
           "automargin": true,
           "gridcolor": "rgb(232,232,232)",
           "linecolor": "rgb(36,36,36)",
           "showgrid": false,
           "showline": true,
           "ticks": "outside",
           "title": {
            "standoff": 15
           },
           "zeroline": false,
           "zerolinecolor": "rgb(36,36,36)"
          },
          "yaxis": {
           "automargin": true,
           "gridcolor": "rgb(232,232,232)",
           "linecolor": "rgb(36,36,36)",
           "showgrid": false,
           "showline": true,
           "ticks": "outside",
           "title": {
            "standoff": 15
           },
           "zeroline": false,
           "zerolinecolor": "rgb(36,36,36)"
          }
         }
        },
        "width": 900,
        "xaxis": {
         "anchor": "y",
         "domain": [
          0,
          1
         ],
         "title": {
          "text": "station_group"
         }
        },
        "yaxis": {
         "anchor": "x",
         "domain": [
          0,
          1
         ],
         "tickformat": ".00f",
         "title": {
          "text": "value"
         }
        }
       }
      },
      "text/html": [
       "<div>                            <div id=\"95ae9874-11ab-45bf-a46b-8597659319f8\" class=\"plotly-graph-div\" style=\"height:500px; width:900px;\"></div>            <script type=\"text/javascript\">                require([\"plotly\"], function(Plotly) {                    window.PLOTLYENV=window.PLOTLYENV || {};                                    if (document.getElementById(\"95ae9874-11ab-45bf-a46b-8597659319f8\")) {                    Plotly.newPlot(                        \"95ae9874-11ab-45bf-a46b-8597659319f8\",                        [{\"hovertemplate\":\"variable=observed_boardings\\u003cbr\\u003estation_group=%{x}\\u003cbr\\u003evalue=%{y}\\u003cextra\\u003e\\u003c\\u002fextra\\u003e\",\"legendgroup\":\"observed_boardings\",\"line\":{\"color\":\"#91268F\",\"dash\":\"solid\"},\"marker\":{\"symbol\":\"circle\"},\"mode\":\"lines\",\"name\":\"observed_boardings\",\"orientation\":\"v\",\"showlegend\":true,\"x\":[\"Northgate Station\",\"Roosevelt Station\",\"University District Station\",\"Husky Stadium\",\"Capitol Hill\",\"Westlake\\u002fSymphony\",\"Pioneer Square\\u002fInt'l District\",\"Stadium\\u002fSODO\",\"Beacon Hill\\u002fMount Baker\",\"Columbia City\",\"Othello\\u002fRainier Beach\",\"Tukwila Int'l Blvd\",\"SeaTac\\u002fAirport\",\"Angle Lake\"],\"xaxis\":\"x\",\"y\":[10384.0,4349.0,7563.0,6134.0,7667.0,13169.0,6799.0,3400.0,4008.0,1630.0,3525.0,2298.0,4731.0,3865.0],\"yaxis\":\"y\",\"type\":\"scatter\"},{\"hovertemplate\":\"variable=model_boardings\\u003cbr\\u003estation_group=%{x}\\u003cbr\\u003evalue=%{y}\\u003cextra\\u003e\\u003c\\u002fextra\\u003e\",\"legendgroup\":\"model_boardings\",\"line\":{\"color\":\"#8CC63E\",\"dash\":\"solid\"},\"marker\":{\"symbol\":\"circle\"},\"mode\":\"lines\",\"name\":\"model_boardings\",\"orientation\":\"v\",\"showlegend\":true,\"x\":[\"Northgate Station\",\"Roosevelt Station\",\"University District Station\",\"Husky Stadium\",\"Capitol Hill\",\"Westlake\\u002fSymphony\",\"Pioneer Square\\u002fInt'l District\",\"Stadium\\u002fSODO\",\"Beacon Hill\\u002fMount Baker\",\"Columbia City\",\"Othello\\u002fRainier Beach\",\"Tukwila Int'l Blvd\",\"SeaTac\\u002fAirport\",\"Angle Lake\"],\"xaxis\":\"x\",\"y\":[10622.170806884766,8073.913746595383,6954.083134651184,3551.7187893390656,7578.6024169921875,18278.338048934937,7588.391394615173,2728.4330647587776,3160.2064759731293,1736.5146238803864,3707.0938863754272,2945.193388938904,6012.065598011017,3569.193801879883],\"yaxis\":\"y\",\"type\":\"scatter\"}],                        {\"template\":{\"data\":{\"barpolar\":[{\"marker\":{\"line\":{\"color\":\"white\",\"width\":0.5},\"pattern\":{\"fillmode\":\"overlay\",\"size\":10,\"solidity\":0.2}},\"type\":\"barpolar\"}],\"bar\":[{\"error_x\":{\"color\":\"rgb(36,36,36)\"},\"error_y\":{\"color\":\"rgb(36,36,36)\"},\"marker\":{\"line\":{\"color\":\"white\",\"width\":0.5},\"pattern\":{\"fillmode\":\"overlay\",\"size\":10,\"solidity\":0.2}},\"type\":\"bar\"}],\"carpet\":[{\"aaxis\":{\"endlinecolor\":\"rgb(36,36,36)\",\"gridcolor\":\"white\",\"linecolor\":\"white\",\"minorgridcolor\":\"white\",\"startlinecolor\":\"rgb(36,36,36)\"},\"baxis\":{\"endlinecolor\":\"rgb(36,36,36)\",\"gridcolor\":\"white\",\"linecolor\":\"white\",\"minorgridcolor\":\"white\",\"startlinecolor\":\"rgb(36,36,36)\"},\"type\":\"carpet\"}],\"choropleth\":[{\"colorbar\":{\"outlinewidth\":1,\"tickcolor\":\"rgb(36,36,36)\",\"ticks\":\"outside\"},\"type\":\"choropleth\"}],\"contourcarpet\":[{\"colorbar\":{\"outlinewidth\":1,\"tickcolor\":\"rgb(36,36,36)\",\"ticks\":\"outside\"},\"type\":\"contourcarpet\"}],\"contour\":[{\"colorbar\":{\"outlinewidth\":1,\"tickcolor\":\"rgb(36,36,36)\",\"ticks\":\"outside\"},\"colorscale\":[[0.0,\"#440154\"],[0.1111111111111111,\"#482878\"],[0.2222222222222222,\"#3e4989\"],[0.3333333333333333,\"#31688e\"],[0.4444444444444444,\"#26828e\"],[0.5555555555555556,\"#1f9e89\"],[0.6666666666666666,\"#35b779\"],[0.7777777777777778,\"#6ece58\"],[0.8888888888888888,\"#b5de2b\"],[1.0,\"#fde725\"]],\"type\":\"contour\"}],\"heatmapgl\":[{\"colorbar\":{\"outlinewidth\":1,\"tickcolor\":\"rgb(36,36,36)\",\"ticks\":\"outside\"},\"colorscale\":[[0.0,\"#440154\"],[0.1111111111111111,\"#482878\"],[0.2222222222222222,\"#3e4989\"],[0.3333333333333333,\"#31688e\"],[0.4444444444444444,\"#26828e\"],[0.5555555555555556,\"#1f9e89\"],[0.6666666666666666,\"#35b779\"],[0.7777777777777778,\"#6ece58\"],[0.8888888888888888,\"#b5de2b\"],[1.0,\"#fde725\"]],\"type\":\"heatmapgl\"}],\"heatmap\":[{\"colorbar\":{\"outlinewidth\":1,\"tickcolor\":\"rgb(36,36,36)\",\"ticks\":\"outside\"},\"colorscale\":[[0.0,\"#440154\"],[0.1111111111111111,\"#482878\"],[0.2222222222222222,\"#3e4989\"],[0.3333333333333333,\"#31688e\"],[0.4444444444444444,\"#26828e\"],[0.5555555555555556,\"#1f9e89\"],[0.6666666666666666,\"#35b779\"],[0.7777777777777778,\"#6ece58\"],[0.8888888888888888,\"#b5de2b\"],[1.0,\"#fde725\"]],\"type\":\"heatmap\"}],\"histogram2dcontour\":[{\"colorbar\":{\"outlinewidth\":1,\"tickcolor\":\"rgb(36,36,36)\",\"ticks\":\"outside\"},\"colorscale\":[[0.0,\"#440154\"],[0.1111111111111111,\"#482878\"],[0.2222222222222222,\"#3e4989\"],[0.3333333333333333,\"#31688e\"],[0.4444444444444444,\"#26828e\"],[0.5555555555555556,\"#1f9e89\"],[0.6666666666666666,\"#35b779\"],[0.7777777777777778,\"#6ece58\"],[0.8888888888888888,\"#b5de2b\"],[1.0,\"#fde725\"]],\"type\":\"histogram2dcontour\"}],\"histogram2d\":[{\"colorbar\":{\"outlinewidth\":1,\"tickcolor\":\"rgb(36,36,36)\",\"ticks\":\"outside\"},\"colorscale\":[[0.0,\"#440154\"],[0.1111111111111111,\"#482878\"],[0.2222222222222222,\"#3e4989\"],[0.3333333333333333,\"#31688e\"],[0.4444444444444444,\"#26828e\"],[0.5555555555555556,\"#1f9e89\"],[0.6666666666666666,\"#35b779\"],[0.7777777777777778,\"#6ece58\"],[0.8888888888888888,\"#b5de2b\"],[1.0,\"#fde725\"]],\"type\":\"histogram2d\"}],\"histogram\":[{\"marker\":{\"line\":{\"color\":\"white\",\"width\":0.6}},\"type\":\"histogram\"}],\"mesh3d\":[{\"colorbar\":{\"outlinewidth\":1,\"tickcolor\":\"rgb(36,36,36)\",\"ticks\":\"outside\"},\"type\":\"mesh3d\"}],\"parcoords\":[{\"line\":{\"colorbar\":{\"outlinewidth\":1,\"tickcolor\":\"rgb(36,36,36)\",\"ticks\":\"outside\"}},\"type\":\"parcoords\"}],\"pie\":[{\"automargin\":true,\"type\":\"pie\"}],\"scatter3d\":[{\"line\":{\"colorbar\":{\"outlinewidth\":1,\"tickcolor\":\"rgb(36,36,36)\",\"ticks\":\"outside\"}},\"marker\":{\"colorbar\":{\"outlinewidth\":1,\"tickcolor\":\"rgb(36,36,36)\",\"ticks\":\"outside\"}},\"type\":\"scatter3d\"}],\"scattercarpet\":[{\"marker\":{\"colorbar\":{\"outlinewidth\":1,\"tickcolor\":\"rgb(36,36,36)\",\"ticks\":\"outside\"}},\"type\":\"scattercarpet\"}],\"scattergeo\":[{\"marker\":{\"colorbar\":{\"outlinewidth\":1,\"tickcolor\":\"rgb(36,36,36)\",\"ticks\":\"outside\"}},\"type\":\"scattergeo\"}],\"scattergl\":[{\"marker\":{\"colorbar\":{\"outlinewidth\":1,\"tickcolor\":\"rgb(36,36,36)\",\"ticks\":\"outside\"}},\"type\":\"scattergl\"}],\"scattermapbox\":[{\"marker\":{\"colorbar\":{\"outlinewidth\":1,\"tickcolor\":\"rgb(36,36,36)\",\"ticks\":\"outside\"}},\"type\":\"scattermapbox\"}],\"scatterpolargl\":[{\"marker\":{\"colorbar\":{\"outlinewidth\":1,\"tickcolor\":\"rgb(36,36,36)\",\"ticks\":\"outside\"}},\"type\":\"scatterpolargl\"}],\"scatterpolar\":[{\"marker\":{\"colorbar\":{\"outlinewidth\":1,\"tickcolor\":\"rgb(36,36,36)\",\"ticks\":\"outside\"}},\"type\":\"scatterpolar\"}],\"scatter\":[{\"fillpattern\":{\"fillmode\":\"overlay\",\"size\":10,\"solidity\":0.2},\"type\":\"scatter\"}],\"scatterternary\":[{\"marker\":{\"colorbar\":{\"outlinewidth\":1,\"tickcolor\":\"rgb(36,36,36)\",\"ticks\":\"outside\"}},\"type\":\"scatterternary\"}],\"surface\":[{\"colorbar\":{\"outlinewidth\":1,\"tickcolor\":\"rgb(36,36,36)\",\"ticks\":\"outside\"},\"colorscale\":[[0.0,\"#440154\"],[0.1111111111111111,\"#482878\"],[0.2222222222222222,\"#3e4989\"],[0.3333333333333333,\"#31688e\"],[0.4444444444444444,\"#26828e\"],[0.5555555555555556,\"#1f9e89\"],[0.6666666666666666,\"#35b779\"],[0.7777777777777778,\"#6ece58\"],[0.8888888888888888,\"#b5de2b\"],[1.0,\"#fde725\"]],\"type\":\"surface\"}],\"table\":[{\"cells\":{\"fill\":{\"color\":\"rgb(237,237,237)\"},\"line\":{\"color\":\"white\"}},\"header\":{\"fill\":{\"color\":\"rgb(217,217,217)\"},\"line\":{\"color\":\"white\"}},\"type\":\"table\"}]},\"layout\":{\"annotationdefaults\":{\"arrowhead\":0,\"arrowwidth\":1},\"autotypenumbers\":\"strict\",\"coloraxis\":{\"colorbar\":{\"outlinewidth\":1,\"tickcolor\":\"rgb(36,36,36)\",\"ticks\":\"outside\"}},\"colorscale\":{\"diverging\":[[0.0,\"rgb(103,0,31)\"],[0.1,\"rgb(178,24,43)\"],[0.2,\"rgb(214,96,77)\"],[0.3,\"rgb(244,165,130)\"],[0.4,\"rgb(253,219,199)\"],[0.5,\"rgb(247,247,247)\"],[0.6,\"rgb(209,229,240)\"],[0.7,\"rgb(146,197,222)\"],[0.8,\"rgb(67,147,195)\"],[0.9,\"rgb(33,102,172)\"],[1.0,\"rgb(5,48,97)\"]],\"sequential\":[[0.0,\"#440154\"],[0.1111111111111111,\"#482878\"],[0.2222222222222222,\"#3e4989\"],[0.3333333333333333,\"#31688e\"],[0.4444444444444444,\"#26828e\"],[0.5555555555555556,\"#1f9e89\"],[0.6666666666666666,\"#35b779\"],[0.7777777777777778,\"#6ece58\"],[0.8888888888888888,\"#b5de2b\"],[1.0,\"#fde725\"]],\"sequentialminus\":[[0.0,\"#440154\"],[0.1111111111111111,\"#482878\"],[0.2222222222222222,\"#3e4989\"],[0.3333333333333333,\"#31688e\"],[0.4444444444444444,\"#26828e\"],[0.5555555555555556,\"#1f9e89\"],[0.6666666666666666,\"#35b779\"],[0.7777777777777778,\"#6ece58\"],[0.8888888888888888,\"#b5de2b\"],[1.0,\"#fde725\"]]},\"colorway\":[\"#91268F\",\"#8CC63E\",\"#00A7A0\",\"#F05A28\",\"#4C4C4C\",\"#630460\",\"#9f3913\",\"#588527\",\"#00716c\",\"#3e4040\"],\"font\":{\"color\":\"rgb(36,36,36)\",\"family\":\"Poppins\",\"size\":11},\"geo\":{\"bgcolor\":\"white\",\"lakecolor\":\"white\",\"landcolor\":\"white\",\"showlakes\":true,\"showland\":true,\"subunitcolor\":\"white\"},\"hoverlabel\":{\"align\":\"left\"},\"hovermode\":\"closest\",\"mapbox\":{\"style\":\"light\"},\"paper_bgcolor\":\"white\",\"plot_bgcolor\":\"white\",\"polar\":{\"angularaxis\":{\"gridcolor\":\"rgb(232,232,232)\",\"linecolor\":\"rgb(36,36,36)\",\"showgrid\":false,\"showline\":true,\"ticks\":\"outside\"},\"bgcolor\":\"white\",\"radialaxis\":{\"gridcolor\":\"rgb(232,232,232)\",\"linecolor\":\"rgb(36,36,36)\",\"showgrid\":false,\"showline\":true,\"ticks\":\"outside\"}},\"scene\":{\"xaxis\":{\"backgroundcolor\":\"white\",\"gridcolor\":\"rgb(232,232,232)\",\"gridwidth\":2,\"linecolor\":\"rgb(36,36,36)\",\"showbackground\":true,\"showgrid\":false,\"showline\":true,\"ticks\":\"outside\",\"zeroline\":false,\"zerolinecolor\":\"rgb(36,36,36)\"},\"yaxis\":{\"backgroundcolor\":\"white\",\"gridcolor\":\"rgb(232,232,232)\",\"gridwidth\":2,\"linecolor\":\"rgb(36,36,36)\",\"showbackground\":true,\"showgrid\":false,\"showline\":true,\"ticks\":\"outside\",\"zeroline\":false,\"zerolinecolor\":\"rgb(36,36,36)\"},\"zaxis\":{\"backgroundcolor\":\"white\",\"gridcolor\":\"rgb(232,232,232)\",\"gridwidth\":2,\"linecolor\":\"rgb(36,36,36)\",\"showbackground\":true,\"showgrid\":false,\"showline\":true,\"ticks\":\"outside\",\"zeroline\":false,\"zerolinecolor\":\"rgb(36,36,36)\"}},\"shapedefaults\":{\"fillcolor\":\"black\",\"line\":{\"width\":0},\"opacity\":0.3},\"ternary\":{\"aaxis\":{\"gridcolor\":\"rgb(232,232,232)\",\"linecolor\":\"rgb(36,36,36)\",\"showgrid\":false,\"showline\":true,\"ticks\":\"outside\"},\"baxis\":{\"gridcolor\":\"rgb(232,232,232)\",\"linecolor\":\"rgb(36,36,36)\",\"showgrid\":false,\"showline\":true,\"ticks\":\"outside\"},\"bgcolor\":\"white\",\"caxis\":{\"gridcolor\":\"rgb(232,232,232)\",\"linecolor\":\"rgb(36,36,36)\",\"showgrid\":false,\"showline\":true,\"ticks\":\"outside\"}},\"title\":{\"x\":0.05},\"xaxis\":{\"automargin\":true,\"gridcolor\":\"rgb(232,232,232)\",\"linecolor\":\"rgb(36,36,36)\",\"showgrid\":false,\"showline\":true,\"ticks\":\"outside\",\"title\":{\"standoff\":15},\"zeroline\":false,\"zerolinecolor\":\"rgb(36,36,36)\"},\"yaxis\":{\"automargin\":true,\"gridcolor\":\"rgb(232,232,232)\",\"linecolor\":\"rgb(36,36,36)\",\"showgrid\":false,\"showline\":true,\"ticks\":\"outside\",\"title\":{\"standoff\":15},\"zeroline\":false,\"zerolinecolor\":\"rgb(36,36,36)\"}}},\"xaxis\":{\"anchor\":\"y\",\"domain\":[0.0,1.0],\"title\":{\"text\":\"station_group\"}},\"yaxis\":{\"anchor\":\"x\",\"domain\":[0.0,1.0],\"title\":{\"text\":\"value\"},\"tickformat\":\".00f\"},\"legend\":{\"title\":{\"text\":\"variable\"},\"tracegroupgap\":0},\"margin\":{\"t\":60},\"font\":{\"size\":11},\"height\":500,\"width\":900},                        {\"responsive\": true}                    ).then(function(){\n",
       "                            \n",
       "var gd = document.getElementById('95ae9874-11ab-45bf-a46b-8597659319f8');\n",
       "var x = new MutationObserver(function (mutations, observer) {{\n",
       "        var display = window.getComputedStyle(gd).display;\n",
       "        if (!display || display === 'none') {{\n",
       "            console.log([gd, 'removed!']);\n",
       "            Plotly.purge(gd);\n",
       "            observer.disconnect();\n",
       "        }}\n",
       "}});\n",
       "\n",
       "// Listen for the removal of the full notebook cells\n",
       "var notebookContainer = gd.closest('#notebook-container');\n",
       "if (notebookContainer) {{\n",
       "    x.observe(notebookContainer, {childList: true});\n",
       "}}\n",
       "\n",
       "// Listen for the clearing of the current output cell\n",
       "var outputEl = gd.closest('.output');\n",
       "if (outputEl) {{\n",
       "    x.observe(outputEl, {childList: true});\n",
       "}}\n",
       "\n",
       "                        })                };                });            </script>        </div>"
      ]
     },
     "metadata": {},
     "output_type": "display_data"
    }
   ],
   "source": [
    "fig = px.line(df_combined[['observed_boardings','model_boardings']])\n",
    "fig.update_layout(height=500, width=900, font=dict(size=11),\n",
    "                  yaxis_tickformat = '.00f')\n",
    "fig.show()"
   ]
  },
  {
   "cell_type": "raw",
   "id": "b23f6eef",
   "metadata": {
    "vscode": {
     "languageId": "raw"
    }
   },
   "source": [
    "#### 2023/2024 Station Boardings"
   ]
  },
  {
   "cell_type": "code",
   "execution_count": 144,
   "id": "5d7293bb",
   "metadata": {},
   "outputs": [],
   "source": [
    "df_obs = pd.read_sql(\n",
    "    \"SELECT * FROM light_rail_station_boardings WHERE year IN (2023, 2024)\",\n",
    "    con=conn,\n",
    ")\n",
    "df_obs.rename(columns={\"boardings\": \"observed_boardings\"}, inplace=True)\n",
    "\n",
    "# df_obs.groupby(['year','station_name']).sum()\n",
    "df_obs = pd.pivot_table(df_obs, values='observed_boardings', columns='year', index='station_name', aggfunc=np.sum)\n",
    "df_obs = df_obs.fillna(0)\n",
    "df_obs\n",
    "\n",
    "df = pd.read_csv(os.path.join(csv_path,'light_rail_boardings.csv'), index_col='station_name', usecols=['station_name','model_boardings'])\n",
    "df = df.merge(df_obs,  left_index=True, right_index=True, how='outer')\n",
    "df = df[df.index != 'Total']\n",
    "df = df[~df['model_boardings'].isnull()]\n",
    "df = df.loc[line_1_station_list]"
   ]
  },
  {
   "cell_type": "code",
   "execution_count": 145,
   "id": "5b8aa02f",
   "metadata": {},
   "outputs": [
    {
     "data": {
      "application/vnd.plotly.v1+json": {
       "config": {
        "plotlyServerURL": "https://plot.ly"
       },
       "data": [
        {
         "hovertemplate": "variable=2023<br>station_name=%{x}<br>value=%{y}<extra></extra>",
         "legendgroup": "2023",
         "line": {
          "color": "#91268F",
          "dash": "solid"
         },
         "marker": {
          "symbol": "circle"
         },
         "mode": "lines",
         "name": "2023",
         "orientation": "v",
         "showlegend": true,
         "type": "scatter",
         "x": [
          "Northgate Station",
          "Roosevelt Station",
          "University District Station",
          "Husky Stadium",
          "Capitol Hill",
          "Westlake",
          "Symphony",
          "Pioneer Square",
          "Int'l District",
          "Stadium",
          "SODO",
          "Beacon Hill",
          "Mount Baker",
          "Columbia City",
          "Othello",
          "Rainier Beach",
          "Tukwila Int'l Blvd",
          "SeaTac/Airport",
          "Angle Lake"
         ],
         "xaxis": "x",
         "y": [
          10384,
          4349,
          7563,
          6134,
          7667,
          8845,
          4324,
          2400,
          4399,
          1731,
          1669,
          2147,
          1861,
          1630,
          2030,
          1495,
          2298,
          4731,
          3865
         ],
         "yaxis": "y"
        },
        {
         "hovertemplate": "variable=2024<br>station_name=%{x}<br>value=%{y}<extra></extra>",
         "legendgroup": "2024",
         "line": {
          "color": "#8CC63E",
          "dash": "solid"
         },
         "marker": {
          "symbol": "circle"
         },
         "mode": "lines",
         "name": "2024",
         "orientation": "v",
         "showlegend": true,
         "type": "scatter",
         "x": [
          "Northgate Station",
          "Roosevelt Station",
          "University District Station",
          "Husky Stadium",
          "Capitol Hill",
          "Westlake",
          "Symphony",
          "Pioneer Square",
          "Int'l District",
          "Stadium",
          "SODO",
          "Beacon Hill",
          "Mount Baker",
          "Columbia City",
          "Othello",
          "Rainier Beach",
          "Tukwila Int'l Blvd",
          "SeaTac/Airport",
          "Angle Lake"
         ],
         "xaxis": "x",
         "y": [
          10171,
          4380,
          7694,
          5879,
          7977,
          9351,
          4599,
          2672,
          4808,
          1717,
          1656,
          2274,
          2078,
          1942,
          2261,
          1608,
          2567,
          5670,
          4963
         ],
         "yaxis": "y"
        },
        {
         "hovertemplate": "variable=model_boardings<br>station_name=%{x}<br>value=%{y}<extra></extra>",
         "legendgroup": "model_boardings",
         "line": {
          "color": "#00A7A0",
          "dash": "solid"
         },
         "marker": {
          "symbol": "circle"
         },
         "mode": "lines",
         "name": "model_boardings",
         "orientation": "v",
         "showlegend": true,
         "type": "scatter",
         "x": [
          "Northgate Station",
          "Roosevelt Station",
          "University District Station",
          "Husky Stadium",
          "Capitol Hill",
          "Westlake",
          "Symphony",
          "Pioneer Square",
          "Int'l District",
          "Stadium",
          "SODO",
          "Beacon Hill",
          "Mount Baker",
          "Columbia City",
          "Othello",
          "Rainier Beach",
          "Tukwila Int'l Blvd",
          "SeaTac/Airport",
          "Angle Lake"
         ],
         "xaxis": "x",
         "y": [
          10622.170806884766,
          8073.913746595383,
          6954.083134651184,
          3551.7187893390656,
          7578.6024169921875,
          11554.244252204897,
          6724.0937967300415,
          5595.166255474091,
          1993.2251391410828,
          331.9823930859566,
          2396.450671672821,
          1411.400143742561,
          1748.806332230568,
          1736.5146238803864,
          2135.6343886852264,
          1571.4594976902008,
          2945.193388938904,
          6012.065598011017,
          3569.193801879883
         ],
         "yaxis": "y"
        }
       ],
       "layout": {
        "font": {
         "size": 11
        },
        "height": 500,
        "legend": {
         "title": {
          "text": "variable"
         },
         "tracegroupgap": 0
        },
        "margin": {
         "t": 60
        },
        "template": {
         "data": {
          "bar": [
           {
            "error_x": {
             "color": "rgb(36,36,36)"
            },
            "error_y": {
             "color": "rgb(36,36,36)"
            },
            "marker": {
             "line": {
              "color": "white",
              "width": 0.5
             },
             "pattern": {
              "fillmode": "overlay",
              "size": 10,
              "solidity": 0.2
             }
            },
            "type": "bar"
           }
          ],
          "barpolar": [
           {
            "marker": {
             "line": {
              "color": "white",
              "width": 0.5
             },
             "pattern": {
              "fillmode": "overlay",
              "size": 10,
              "solidity": 0.2
             }
            },
            "type": "barpolar"
           }
          ],
          "carpet": [
           {
            "aaxis": {
             "endlinecolor": "rgb(36,36,36)",
             "gridcolor": "white",
             "linecolor": "white",
             "minorgridcolor": "white",
             "startlinecolor": "rgb(36,36,36)"
            },
            "baxis": {
             "endlinecolor": "rgb(36,36,36)",
             "gridcolor": "white",
             "linecolor": "white",
             "minorgridcolor": "white",
             "startlinecolor": "rgb(36,36,36)"
            },
            "type": "carpet"
           }
          ],
          "choropleth": [
           {
            "colorbar": {
             "outlinewidth": 1,
             "tickcolor": "rgb(36,36,36)",
             "ticks": "outside"
            },
            "type": "choropleth"
           }
          ],
          "contour": [
           {
            "colorbar": {
             "outlinewidth": 1,
             "tickcolor": "rgb(36,36,36)",
             "ticks": "outside"
            },
            "colorscale": [
             [
              0,
              "#440154"
             ],
             [
              0.1111111111111111,
              "#482878"
             ],
             [
              0.2222222222222222,
              "#3e4989"
             ],
             [
              0.3333333333333333,
              "#31688e"
             ],
             [
              0.4444444444444444,
              "#26828e"
             ],
             [
              0.5555555555555556,
              "#1f9e89"
             ],
             [
              0.6666666666666666,
              "#35b779"
             ],
             [
              0.7777777777777778,
              "#6ece58"
             ],
             [
              0.8888888888888888,
              "#b5de2b"
             ],
             [
              1,
              "#fde725"
             ]
            ],
            "type": "contour"
           }
          ],
          "contourcarpet": [
           {
            "colorbar": {
             "outlinewidth": 1,
             "tickcolor": "rgb(36,36,36)",
             "ticks": "outside"
            },
            "type": "contourcarpet"
           }
          ],
          "heatmap": [
           {
            "colorbar": {
             "outlinewidth": 1,
             "tickcolor": "rgb(36,36,36)",
             "ticks": "outside"
            },
            "colorscale": [
             [
              0,
              "#440154"
             ],
             [
              0.1111111111111111,
              "#482878"
             ],
             [
              0.2222222222222222,
              "#3e4989"
             ],
             [
              0.3333333333333333,
              "#31688e"
             ],
             [
              0.4444444444444444,
              "#26828e"
             ],
             [
              0.5555555555555556,
              "#1f9e89"
             ],
             [
              0.6666666666666666,
              "#35b779"
             ],
             [
              0.7777777777777778,
              "#6ece58"
             ],
             [
              0.8888888888888888,
              "#b5de2b"
             ],
             [
              1,
              "#fde725"
             ]
            ],
            "type": "heatmap"
           }
          ],
          "heatmapgl": [
           {
            "colorbar": {
             "outlinewidth": 1,
             "tickcolor": "rgb(36,36,36)",
             "ticks": "outside"
            },
            "colorscale": [
             [
              0,
              "#440154"
             ],
             [
              0.1111111111111111,
              "#482878"
             ],
             [
              0.2222222222222222,
              "#3e4989"
             ],
             [
              0.3333333333333333,
              "#31688e"
             ],
             [
              0.4444444444444444,
              "#26828e"
             ],
             [
              0.5555555555555556,
              "#1f9e89"
             ],
             [
              0.6666666666666666,
              "#35b779"
             ],
             [
              0.7777777777777778,
              "#6ece58"
             ],
             [
              0.8888888888888888,
              "#b5de2b"
             ],
             [
              1,
              "#fde725"
             ]
            ],
            "type": "heatmapgl"
           }
          ],
          "histogram": [
           {
            "marker": {
             "line": {
              "color": "white",
              "width": 0.6
             }
            },
            "type": "histogram"
           }
          ],
          "histogram2d": [
           {
            "colorbar": {
             "outlinewidth": 1,
             "tickcolor": "rgb(36,36,36)",
             "ticks": "outside"
            },
            "colorscale": [
             [
              0,
              "#440154"
             ],
             [
              0.1111111111111111,
              "#482878"
             ],
             [
              0.2222222222222222,
              "#3e4989"
             ],
             [
              0.3333333333333333,
              "#31688e"
             ],
             [
              0.4444444444444444,
              "#26828e"
             ],
             [
              0.5555555555555556,
              "#1f9e89"
             ],
             [
              0.6666666666666666,
              "#35b779"
             ],
             [
              0.7777777777777778,
              "#6ece58"
             ],
             [
              0.8888888888888888,
              "#b5de2b"
             ],
             [
              1,
              "#fde725"
             ]
            ],
            "type": "histogram2d"
           }
          ],
          "histogram2dcontour": [
           {
            "colorbar": {
             "outlinewidth": 1,
             "tickcolor": "rgb(36,36,36)",
             "ticks": "outside"
            },
            "colorscale": [
             [
              0,
              "#440154"
             ],
             [
              0.1111111111111111,
              "#482878"
             ],
             [
              0.2222222222222222,
              "#3e4989"
             ],
             [
              0.3333333333333333,
              "#31688e"
             ],
             [
              0.4444444444444444,
              "#26828e"
             ],
             [
              0.5555555555555556,
              "#1f9e89"
             ],
             [
              0.6666666666666666,
              "#35b779"
             ],
             [
              0.7777777777777778,
              "#6ece58"
             ],
             [
              0.8888888888888888,
              "#b5de2b"
             ],
             [
              1,
              "#fde725"
             ]
            ],
            "type": "histogram2dcontour"
           }
          ],
          "mesh3d": [
           {
            "colorbar": {
             "outlinewidth": 1,
             "tickcolor": "rgb(36,36,36)",
             "ticks": "outside"
            },
            "type": "mesh3d"
           }
          ],
          "parcoords": [
           {
            "line": {
             "colorbar": {
              "outlinewidth": 1,
              "tickcolor": "rgb(36,36,36)",
              "ticks": "outside"
             }
            },
            "type": "parcoords"
           }
          ],
          "pie": [
           {
            "automargin": true,
            "type": "pie"
           }
          ],
          "scatter": [
           {
            "fillpattern": {
             "fillmode": "overlay",
             "size": 10,
             "solidity": 0.2
            },
            "type": "scatter"
           }
          ],
          "scatter3d": [
           {
            "line": {
             "colorbar": {
              "outlinewidth": 1,
              "tickcolor": "rgb(36,36,36)",
              "ticks": "outside"
             }
            },
            "marker": {
             "colorbar": {
              "outlinewidth": 1,
              "tickcolor": "rgb(36,36,36)",
              "ticks": "outside"
             }
            },
            "type": "scatter3d"
           }
          ],
          "scattercarpet": [
           {
            "marker": {
             "colorbar": {
              "outlinewidth": 1,
              "tickcolor": "rgb(36,36,36)",
              "ticks": "outside"
             }
            },
            "type": "scattercarpet"
           }
          ],
          "scattergeo": [
           {
            "marker": {
             "colorbar": {
              "outlinewidth": 1,
              "tickcolor": "rgb(36,36,36)",
              "ticks": "outside"
             }
            },
            "type": "scattergeo"
           }
          ],
          "scattergl": [
           {
            "marker": {
             "colorbar": {
              "outlinewidth": 1,
              "tickcolor": "rgb(36,36,36)",
              "ticks": "outside"
             }
            },
            "type": "scattergl"
           }
          ],
          "scattermapbox": [
           {
            "marker": {
             "colorbar": {
              "outlinewidth": 1,
              "tickcolor": "rgb(36,36,36)",
              "ticks": "outside"
             }
            },
            "type": "scattermapbox"
           }
          ],
          "scatterpolar": [
           {
            "marker": {
             "colorbar": {
              "outlinewidth": 1,
              "tickcolor": "rgb(36,36,36)",
              "ticks": "outside"
             }
            },
            "type": "scatterpolar"
           }
          ],
          "scatterpolargl": [
           {
            "marker": {
             "colorbar": {
              "outlinewidth": 1,
              "tickcolor": "rgb(36,36,36)",
              "ticks": "outside"
             }
            },
            "type": "scatterpolargl"
           }
          ],
          "scatterternary": [
           {
            "marker": {
             "colorbar": {
              "outlinewidth": 1,
              "tickcolor": "rgb(36,36,36)",
              "ticks": "outside"
             }
            },
            "type": "scatterternary"
           }
          ],
          "surface": [
           {
            "colorbar": {
             "outlinewidth": 1,
             "tickcolor": "rgb(36,36,36)",
             "ticks": "outside"
            },
            "colorscale": [
             [
              0,
              "#440154"
             ],
             [
              0.1111111111111111,
              "#482878"
             ],
             [
              0.2222222222222222,
              "#3e4989"
             ],
             [
              0.3333333333333333,
              "#31688e"
             ],
             [
              0.4444444444444444,
              "#26828e"
             ],
             [
              0.5555555555555556,
              "#1f9e89"
             ],
             [
              0.6666666666666666,
              "#35b779"
             ],
             [
              0.7777777777777778,
              "#6ece58"
             ],
             [
              0.8888888888888888,
              "#b5de2b"
             ],
             [
              1,
              "#fde725"
             ]
            ],
            "type": "surface"
           }
          ],
          "table": [
           {
            "cells": {
             "fill": {
              "color": "rgb(237,237,237)"
             },
             "line": {
              "color": "white"
             }
            },
            "header": {
             "fill": {
              "color": "rgb(217,217,217)"
             },
             "line": {
              "color": "white"
             }
            },
            "type": "table"
           }
          ]
         },
         "layout": {
          "annotationdefaults": {
           "arrowhead": 0,
           "arrowwidth": 1
          },
          "autotypenumbers": "strict",
          "coloraxis": {
           "colorbar": {
            "outlinewidth": 1,
            "tickcolor": "rgb(36,36,36)",
            "ticks": "outside"
           }
          },
          "colorscale": {
           "diverging": [
            [
             0,
             "rgb(103,0,31)"
            ],
            [
             0.1,
             "rgb(178,24,43)"
            ],
            [
             0.2,
             "rgb(214,96,77)"
            ],
            [
             0.3,
             "rgb(244,165,130)"
            ],
            [
             0.4,
             "rgb(253,219,199)"
            ],
            [
             0.5,
             "rgb(247,247,247)"
            ],
            [
             0.6,
             "rgb(209,229,240)"
            ],
            [
             0.7,
             "rgb(146,197,222)"
            ],
            [
             0.8,
             "rgb(67,147,195)"
            ],
            [
             0.9,
             "rgb(33,102,172)"
            ],
            [
             1,
             "rgb(5,48,97)"
            ]
           ],
           "sequential": [
            [
             0,
             "#440154"
            ],
            [
             0.1111111111111111,
             "#482878"
            ],
            [
             0.2222222222222222,
             "#3e4989"
            ],
            [
             0.3333333333333333,
             "#31688e"
            ],
            [
             0.4444444444444444,
             "#26828e"
            ],
            [
             0.5555555555555556,
             "#1f9e89"
            ],
            [
             0.6666666666666666,
             "#35b779"
            ],
            [
             0.7777777777777778,
             "#6ece58"
            ],
            [
             0.8888888888888888,
             "#b5de2b"
            ],
            [
             1,
             "#fde725"
            ]
           ],
           "sequentialminus": [
            [
             0,
             "#440154"
            ],
            [
             0.1111111111111111,
             "#482878"
            ],
            [
             0.2222222222222222,
             "#3e4989"
            ],
            [
             0.3333333333333333,
             "#31688e"
            ],
            [
             0.4444444444444444,
             "#26828e"
            ],
            [
             0.5555555555555556,
             "#1f9e89"
            ],
            [
             0.6666666666666666,
             "#35b779"
            ],
            [
             0.7777777777777778,
             "#6ece58"
            ],
            [
             0.8888888888888888,
             "#b5de2b"
            ],
            [
             1,
             "#fde725"
            ]
           ]
          },
          "colorway": [
           "#91268F",
           "#8CC63E",
           "#00A7A0",
           "#F05A28",
           "#4C4C4C",
           "#630460",
           "#9f3913",
           "#588527",
           "#00716c",
           "#3e4040"
          ],
          "font": {
           "color": "rgb(36,36,36)",
           "family": "Poppins",
           "size": 11
          },
          "geo": {
           "bgcolor": "white",
           "lakecolor": "white",
           "landcolor": "white",
           "showlakes": true,
           "showland": true,
           "subunitcolor": "white"
          },
          "hoverlabel": {
           "align": "left"
          },
          "hovermode": "closest",
          "mapbox": {
           "style": "light"
          },
          "paper_bgcolor": "white",
          "plot_bgcolor": "white",
          "polar": {
           "angularaxis": {
            "gridcolor": "rgb(232,232,232)",
            "linecolor": "rgb(36,36,36)",
            "showgrid": false,
            "showline": true,
            "ticks": "outside"
           },
           "bgcolor": "white",
           "radialaxis": {
            "gridcolor": "rgb(232,232,232)",
            "linecolor": "rgb(36,36,36)",
            "showgrid": false,
            "showline": true,
            "ticks": "outside"
           }
          },
          "scene": {
           "xaxis": {
            "backgroundcolor": "white",
            "gridcolor": "rgb(232,232,232)",
            "gridwidth": 2,
            "linecolor": "rgb(36,36,36)",
            "showbackground": true,
            "showgrid": false,
            "showline": true,
            "ticks": "outside",
            "zeroline": false,
            "zerolinecolor": "rgb(36,36,36)"
           },
           "yaxis": {
            "backgroundcolor": "white",
            "gridcolor": "rgb(232,232,232)",
            "gridwidth": 2,
            "linecolor": "rgb(36,36,36)",
            "showbackground": true,
            "showgrid": false,
            "showline": true,
            "ticks": "outside",
            "zeroline": false,
            "zerolinecolor": "rgb(36,36,36)"
           },
           "zaxis": {
            "backgroundcolor": "white",
            "gridcolor": "rgb(232,232,232)",
            "gridwidth": 2,
            "linecolor": "rgb(36,36,36)",
            "showbackground": true,
            "showgrid": false,
            "showline": true,
            "ticks": "outside",
            "zeroline": false,
            "zerolinecolor": "rgb(36,36,36)"
           }
          },
          "shapedefaults": {
           "fillcolor": "black",
           "line": {
            "width": 0
           },
           "opacity": 0.3
          },
          "ternary": {
           "aaxis": {
            "gridcolor": "rgb(232,232,232)",
            "linecolor": "rgb(36,36,36)",
            "showgrid": false,
            "showline": true,
            "ticks": "outside"
           },
           "baxis": {
            "gridcolor": "rgb(232,232,232)",
            "linecolor": "rgb(36,36,36)",
            "showgrid": false,
            "showline": true,
            "ticks": "outside"
           },
           "bgcolor": "white",
           "caxis": {
            "gridcolor": "rgb(232,232,232)",
            "linecolor": "rgb(36,36,36)",
            "showgrid": false,
            "showline": true,
            "ticks": "outside"
           }
          },
          "title": {
           "x": 0.05
          },
          "xaxis": {
           "automargin": true,
           "gridcolor": "rgb(232,232,232)",
           "linecolor": "rgb(36,36,36)",
           "showgrid": false,
           "showline": true,
           "ticks": "outside",
           "title": {
            "standoff": 15
           },
           "zeroline": false,
           "zerolinecolor": "rgb(36,36,36)"
          },
          "yaxis": {
           "automargin": true,
           "gridcolor": "rgb(232,232,232)",
           "linecolor": "rgb(36,36,36)",
           "showgrid": false,
           "showline": true,
           "ticks": "outside",
           "title": {
            "standoff": 15
           },
           "zeroline": false,
           "zerolinecolor": "rgb(36,36,36)"
          }
         }
        },
        "width": 900,
        "xaxis": {
         "anchor": "y",
         "domain": [
          0,
          1
         ],
         "title": {
          "text": "station_name"
         }
        },
        "yaxis": {
         "anchor": "x",
         "domain": [
          0,
          1
         ],
         "tickformat": ".00f",
         "title": {
          "text": "value"
         }
        }
       }
      },
      "text/html": [
       "<div>                            <div id=\"c4612c0a-f8a7-40c3-8736-a7cd3e20553e\" class=\"plotly-graph-div\" style=\"height:500px; width:900px;\"></div>            <script type=\"text/javascript\">                require([\"plotly\"], function(Plotly) {                    window.PLOTLYENV=window.PLOTLYENV || {};                                    if (document.getElementById(\"c4612c0a-f8a7-40c3-8736-a7cd3e20553e\")) {                    Plotly.newPlot(                        \"c4612c0a-f8a7-40c3-8736-a7cd3e20553e\",                        [{\"hovertemplate\":\"variable=2023\\u003cbr\\u003estation_name=%{x}\\u003cbr\\u003evalue=%{y}\\u003cextra\\u003e\\u003c\\u002fextra\\u003e\",\"legendgroup\":\"2023\",\"line\":{\"color\":\"#91268F\",\"dash\":\"solid\"},\"marker\":{\"symbol\":\"circle\"},\"mode\":\"lines\",\"name\":\"2023\",\"orientation\":\"v\",\"showlegend\":true,\"x\":[\"Northgate Station\",\"Roosevelt Station\",\"University District Station\",\"Husky Stadium\",\"Capitol Hill\",\"Westlake\",\"Symphony\",\"Pioneer Square\",\"Int'l District\",\"Stadium\",\"SODO\",\"Beacon Hill\",\"Mount Baker\",\"Columbia City\",\"Othello\",\"Rainier Beach\",\"Tukwila Int'l Blvd\",\"SeaTac\\u002fAirport\",\"Angle Lake\"],\"xaxis\":\"x\",\"y\":[10384.0,4349.0,7563.0,6134.0,7667.0,8845.0,4324.0,2400.0,4399.0,1731.0,1669.0,2147.0,1861.0,1630.0,2030.0,1495.0,2298.0,4731.0,3865.0],\"yaxis\":\"y\",\"type\":\"scatter\"},{\"hovertemplate\":\"variable=2024\\u003cbr\\u003estation_name=%{x}\\u003cbr\\u003evalue=%{y}\\u003cextra\\u003e\\u003c\\u002fextra\\u003e\",\"legendgroup\":\"2024\",\"line\":{\"color\":\"#8CC63E\",\"dash\":\"solid\"},\"marker\":{\"symbol\":\"circle\"},\"mode\":\"lines\",\"name\":\"2024\",\"orientation\":\"v\",\"showlegend\":true,\"x\":[\"Northgate Station\",\"Roosevelt Station\",\"University District Station\",\"Husky Stadium\",\"Capitol Hill\",\"Westlake\",\"Symphony\",\"Pioneer Square\",\"Int'l District\",\"Stadium\",\"SODO\",\"Beacon Hill\",\"Mount Baker\",\"Columbia City\",\"Othello\",\"Rainier Beach\",\"Tukwila Int'l Blvd\",\"SeaTac\\u002fAirport\",\"Angle Lake\"],\"xaxis\":\"x\",\"y\":[10171.0,4380.0,7694.0,5879.0,7977.0,9351.0,4599.0,2672.0,4808.0,1717.0,1656.0,2274.0,2078.0,1942.0,2261.0,1608.0,2567.0,5670.0,4963.0],\"yaxis\":\"y\",\"type\":\"scatter\"},{\"hovertemplate\":\"variable=model_boardings\\u003cbr\\u003estation_name=%{x}\\u003cbr\\u003evalue=%{y}\\u003cextra\\u003e\\u003c\\u002fextra\\u003e\",\"legendgroup\":\"model_boardings\",\"line\":{\"color\":\"#00A7A0\",\"dash\":\"solid\"},\"marker\":{\"symbol\":\"circle\"},\"mode\":\"lines\",\"name\":\"model_boardings\",\"orientation\":\"v\",\"showlegend\":true,\"x\":[\"Northgate Station\",\"Roosevelt Station\",\"University District Station\",\"Husky Stadium\",\"Capitol Hill\",\"Westlake\",\"Symphony\",\"Pioneer Square\",\"Int'l District\",\"Stadium\",\"SODO\",\"Beacon Hill\",\"Mount Baker\",\"Columbia City\",\"Othello\",\"Rainier Beach\",\"Tukwila Int'l Blvd\",\"SeaTac\\u002fAirport\",\"Angle Lake\"],\"xaxis\":\"x\",\"y\":[10622.170806884766,8073.913746595383,6954.083134651184,3551.7187893390656,7578.6024169921875,11554.244252204897,6724.0937967300415,5595.166255474091,1993.2251391410828,331.9823930859566,2396.450671672821,1411.400143742561,1748.806332230568,1736.5146238803864,2135.6343886852264,1571.4594976902008,2945.193388938904,6012.065598011017,3569.193801879883],\"yaxis\":\"y\",\"type\":\"scatter\"}],                        {\"template\":{\"data\":{\"barpolar\":[{\"marker\":{\"line\":{\"color\":\"white\",\"width\":0.5},\"pattern\":{\"fillmode\":\"overlay\",\"size\":10,\"solidity\":0.2}},\"type\":\"barpolar\"}],\"bar\":[{\"error_x\":{\"color\":\"rgb(36,36,36)\"},\"error_y\":{\"color\":\"rgb(36,36,36)\"},\"marker\":{\"line\":{\"color\":\"white\",\"width\":0.5},\"pattern\":{\"fillmode\":\"overlay\",\"size\":10,\"solidity\":0.2}},\"type\":\"bar\"}],\"carpet\":[{\"aaxis\":{\"endlinecolor\":\"rgb(36,36,36)\",\"gridcolor\":\"white\",\"linecolor\":\"white\",\"minorgridcolor\":\"white\",\"startlinecolor\":\"rgb(36,36,36)\"},\"baxis\":{\"endlinecolor\":\"rgb(36,36,36)\",\"gridcolor\":\"white\",\"linecolor\":\"white\",\"minorgridcolor\":\"white\",\"startlinecolor\":\"rgb(36,36,36)\"},\"type\":\"carpet\"}],\"choropleth\":[{\"colorbar\":{\"outlinewidth\":1,\"tickcolor\":\"rgb(36,36,36)\",\"ticks\":\"outside\"},\"type\":\"choropleth\"}],\"contourcarpet\":[{\"colorbar\":{\"outlinewidth\":1,\"tickcolor\":\"rgb(36,36,36)\",\"ticks\":\"outside\"},\"type\":\"contourcarpet\"}],\"contour\":[{\"colorbar\":{\"outlinewidth\":1,\"tickcolor\":\"rgb(36,36,36)\",\"ticks\":\"outside\"},\"colorscale\":[[0.0,\"#440154\"],[0.1111111111111111,\"#482878\"],[0.2222222222222222,\"#3e4989\"],[0.3333333333333333,\"#31688e\"],[0.4444444444444444,\"#26828e\"],[0.5555555555555556,\"#1f9e89\"],[0.6666666666666666,\"#35b779\"],[0.7777777777777778,\"#6ece58\"],[0.8888888888888888,\"#b5de2b\"],[1.0,\"#fde725\"]],\"type\":\"contour\"}],\"heatmapgl\":[{\"colorbar\":{\"outlinewidth\":1,\"tickcolor\":\"rgb(36,36,36)\",\"ticks\":\"outside\"},\"colorscale\":[[0.0,\"#440154\"],[0.1111111111111111,\"#482878\"],[0.2222222222222222,\"#3e4989\"],[0.3333333333333333,\"#31688e\"],[0.4444444444444444,\"#26828e\"],[0.5555555555555556,\"#1f9e89\"],[0.6666666666666666,\"#35b779\"],[0.7777777777777778,\"#6ece58\"],[0.8888888888888888,\"#b5de2b\"],[1.0,\"#fde725\"]],\"type\":\"heatmapgl\"}],\"heatmap\":[{\"colorbar\":{\"outlinewidth\":1,\"tickcolor\":\"rgb(36,36,36)\",\"ticks\":\"outside\"},\"colorscale\":[[0.0,\"#440154\"],[0.1111111111111111,\"#482878\"],[0.2222222222222222,\"#3e4989\"],[0.3333333333333333,\"#31688e\"],[0.4444444444444444,\"#26828e\"],[0.5555555555555556,\"#1f9e89\"],[0.6666666666666666,\"#35b779\"],[0.7777777777777778,\"#6ece58\"],[0.8888888888888888,\"#b5de2b\"],[1.0,\"#fde725\"]],\"type\":\"heatmap\"}],\"histogram2dcontour\":[{\"colorbar\":{\"outlinewidth\":1,\"tickcolor\":\"rgb(36,36,36)\",\"ticks\":\"outside\"},\"colorscale\":[[0.0,\"#440154\"],[0.1111111111111111,\"#482878\"],[0.2222222222222222,\"#3e4989\"],[0.3333333333333333,\"#31688e\"],[0.4444444444444444,\"#26828e\"],[0.5555555555555556,\"#1f9e89\"],[0.6666666666666666,\"#35b779\"],[0.7777777777777778,\"#6ece58\"],[0.8888888888888888,\"#b5de2b\"],[1.0,\"#fde725\"]],\"type\":\"histogram2dcontour\"}],\"histogram2d\":[{\"colorbar\":{\"outlinewidth\":1,\"tickcolor\":\"rgb(36,36,36)\",\"ticks\":\"outside\"},\"colorscale\":[[0.0,\"#440154\"],[0.1111111111111111,\"#482878\"],[0.2222222222222222,\"#3e4989\"],[0.3333333333333333,\"#31688e\"],[0.4444444444444444,\"#26828e\"],[0.5555555555555556,\"#1f9e89\"],[0.6666666666666666,\"#35b779\"],[0.7777777777777778,\"#6ece58\"],[0.8888888888888888,\"#b5de2b\"],[1.0,\"#fde725\"]],\"type\":\"histogram2d\"}],\"histogram\":[{\"marker\":{\"line\":{\"color\":\"white\",\"width\":0.6}},\"type\":\"histogram\"}],\"mesh3d\":[{\"colorbar\":{\"outlinewidth\":1,\"tickcolor\":\"rgb(36,36,36)\",\"ticks\":\"outside\"},\"type\":\"mesh3d\"}],\"parcoords\":[{\"line\":{\"colorbar\":{\"outlinewidth\":1,\"tickcolor\":\"rgb(36,36,36)\",\"ticks\":\"outside\"}},\"type\":\"parcoords\"}],\"pie\":[{\"automargin\":true,\"type\":\"pie\"}],\"scatter3d\":[{\"line\":{\"colorbar\":{\"outlinewidth\":1,\"tickcolor\":\"rgb(36,36,36)\",\"ticks\":\"outside\"}},\"marker\":{\"colorbar\":{\"outlinewidth\":1,\"tickcolor\":\"rgb(36,36,36)\",\"ticks\":\"outside\"}},\"type\":\"scatter3d\"}],\"scattercarpet\":[{\"marker\":{\"colorbar\":{\"outlinewidth\":1,\"tickcolor\":\"rgb(36,36,36)\",\"ticks\":\"outside\"}},\"type\":\"scattercarpet\"}],\"scattergeo\":[{\"marker\":{\"colorbar\":{\"outlinewidth\":1,\"tickcolor\":\"rgb(36,36,36)\",\"ticks\":\"outside\"}},\"type\":\"scattergeo\"}],\"scattergl\":[{\"marker\":{\"colorbar\":{\"outlinewidth\":1,\"tickcolor\":\"rgb(36,36,36)\",\"ticks\":\"outside\"}},\"type\":\"scattergl\"}],\"scattermapbox\":[{\"marker\":{\"colorbar\":{\"outlinewidth\":1,\"tickcolor\":\"rgb(36,36,36)\",\"ticks\":\"outside\"}},\"type\":\"scattermapbox\"}],\"scatterpolargl\":[{\"marker\":{\"colorbar\":{\"outlinewidth\":1,\"tickcolor\":\"rgb(36,36,36)\",\"ticks\":\"outside\"}},\"type\":\"scatterpolargl\"}],\"scatterpolar\":[{\"marker\":{\"colorbar\":{\"outlinewidth\":1,\"tickcolor\":\"rgb(36,36,36)\",\"ticks\":\"outside\"}},\"type\":\"scatterpolar\"}],\"scatter\":[{\"fillpattern\":{\"fillmode\":\"overlay\",\"size\":10,\"solidity\":0.2},\"type\":\"scatter\"}],\"scatterternary\":[{\"marker\":{\"colorbar\":{\"outlinewidth\":1,\"tickcolor\":\"rgb(36,36,36)\",\"ticks\":\"outside\"}},\"type\":\"scatterternary\"}],\"surface\":[{\"colorbar\":{\"outlinewidth\":1,\"tickcolor\":\"rgb(36,36,36)\",\"ticks\":\"outside\"},\"colorscale\":[[0.0,\"#440154\"],[0.1111111111111111,\"#482878\"],[0.2222222222222222,\"#3e4989\"],[0.3333333333333333,\"#31688e\"],[0.4444444444444444,\"#26828e\"],[0.5555555555555556,\"#1f9e89\"],[0.6666666666666666,\"#35b779\"],[0.7777777777777778,\"#6ece58\"],[0.8888888888888888,\"#b5de2b\"],[1.0,\"#fde725\"]],\"type\":\"surface\"}],\"table\":[{\"cells\":{\"fill\":{\"color\":\"rgb(237,237,237)\"},\"line\":{\"color\":\"white\"}},\"header\":{\"fill\":{\"color\":\"rgb(217,217,217)\"},\"line\":{\"color\":\"white\"}},\"type\":\"table\"}]},\"layout\":{\"annotationdefaults\":{\"arrowhead\":0,\"arrowwidth\":1},\"autotypenumbers\":\"strict\",\"coloraxis\":{\"colorbar\":{\"outlinewidth\":1,\"tickcolor\":\"rgb(36,36,36)\",\"ticks\":\"outside\"}},\"colorscale\":{\"diverging\":[[0.0,\"rgb(103,0,31)\"],[0.1,\"rgb(178,24,43)\"],[0.2,\"rgb(214,96,77)\"],[0.3,\"rgb(244,165,130)\"],[0.4,\"rgb(253,219,199)\"],[0.5,\"rgb(247,247,247)\"],[0.6,\"rgb(209,229,240)\"],[0.7,\"rgb(146,197,222)\"],[0.8,\"rgb(67,147,195)\"],[0.9,\"rgb(33,102,172)\"],[1.0,\"rgb(5,48,97)\"]],\"sequential\":[[0.0,\"#440154\"],[0.1111111111111111,\"#482878\"],[0.2222222222222222,\"#3e4989\"],[0.3333333333333333,\"#31688e\"],[0.4444444444444444,\"#26828e\"],[0.5555555555555556,\"#1f9e89\"],[0.6666666666666666,\"#35b779\"],[0.7777777777777778,\"#6ece58\"],[0.8888888888888888,\"#b5de2b\"],[1.0,\"#fde725\"]],\"sequentialminus\":[[0.0,\"#440154\"],[0.1111111111111111,\"#482878\"],[0.2222222222222222,\"#3e4989\"],[0.3333333333333333,\"#31688e\"],[0.4444444444444444,\"#26828e\"],[0.5555555555555556,\"#1f9e89\"],[0.6666666666666666,\"#35b779\"],[0.7777777777777778,\"#6ece58\"],[0.8888888888888888,\"#b5de2b\"],[1.0,\"#fde725\"]]},\"colorway\":[\"#91268F\",\"#8CC63E\",\"#00A7A0\",\"#F05A28\",\"#4C4C4C\",\"#630460\",\"#9f3913\",\"#588527\",\"#00716c\",\"#3e4040\"],\"font\":{\"color\":\"rgb(36,36,36)\",\"family\":\"Poppins\",\"size\":11},\"geo\":{\"bgcolor\":\"white\",\"lakecolor\":\"white\",\"landcolor\":\"white\",\"showlakes\":true,\"showland\":true,\"subunitcolor\":\"white\"},\"hoverlabel\":{\"align\":\"left\"},\"hovermode\":\"closest\",\"mapbox\":{\"style\":\"light\"},\"paper_bgcolor\":\"white\",\"plot_bgcolor\":\"white\",\"polar\":{\"angularaxis\":{\"gridcolor\":\"rgb(232,232,232)\",\"linecolor\":\"rgb(36,36,36)\",\"showgrid\":false,\"showline\":true,\"ticks\":\"outside\"},\"bgcolor\":\"white\",\"radialaxis\":{\"gridcolor\":\"rgb(232,232,232)\",\"linecolor\":\"rgb(36,36,36)\",\"showgrid\":false,\"showline\":true,\"ticks\":\"outside\"}},\"scene\":{\"xaxis\":{\"backgroundcolor\":\"white\",\"gridcolor\":\"rgb(232,232,232)\",\"gridwidth\":2,\"linecolor\":\"rgb(36,36,36)\",\"showbackground\":true,\"showgrid\":false,\"showline\":true,\"ticks\":\"outside\",\"zeroline\":false,\"zerolinecolor\":\"rgb(36,36,36)\"},\"yaxis\":{\"backgroundcolor\":\"white\",\"gridcolor\":\"rgb(232,232,232)\",\"gridwidth\":2,\"linecolor\":\"rgb(36,36,36)\",\"showbackground\":true,\"showgrid\":false,\"showline\":true,\"ticks\":\"outside\",\"zeroline\":false,\"zerolinecolor\":\"rgb(36,36,36)\"},\"zaxis\":{\"backgroundcolor\":\"white\",\"gridcolor\":\"rgb(232,232,232)\",\"gridwidth\":2,\"linecolor\":\"rgb(36,36,36)\",\"showbackground\":true,\"showgrid\":false,\"showline\":true,\"ticks\":\"outside\",\"zeroline\":false,\"zerolinecolor\":\"rgb(36,36,36)\"}},\"shapedefaults\":{\"fillcolor\":\"black\",\"line\":{\"width\":0},\"opacity\":0.3},\"ternary\":{\"aaxis\":{\"gridcolor\":\"rgb(232,232,232)\",\"linecolor\":\"rgb(36,36,36)\",\"showgrid\":false,\"showline\":true,\"ticks\":\"outside\"},\"baxis\":{\"gridcolor\":\"rgb(232,232,232)\",\"linecolor\":\"rgb(36,36,36)\",\"showgrid\":false,\"showline\":true,\"ticks\":\"outside\"},\"bgcolor\":\"white\",\"caxis\":{\"gridcolor\":\"rgb(232,232,232)\",\"linecolor\":\"rgb(36,36,36)\",\"showgrid\":false,\"showline\":true,\"ticks\":\"outside\"}},\"title\":{\"x\":0.05},\"xaxis\":{\"automargin\":true,\"gridcolor\":\"rgb(232,232,232)\",\"linecolor\":\"rgb(36,36,36)\",\"showgrid\":false,\"showline\":true,\"ticks\":\"outside\",\"title\":{\"standoff\":15},\"zeroline\":false,\"zerolinecolor\":\"rgb(36,36,36)\"},\"yaxis\":{\"automargin\":true,\"gridcolor\":\"rgb(232,232,232)\",\"linecolor\":\"rgb(36,36,36)\",\"showgrid\":false,\"showline\":true,\"ticks\":\"outside\",\"title\":{\"standoff\":15},\"zeroline\":false,\"zerolinecolor\":\"rgb(36,36,36)\"}}},\"xaxis\":{\"anchor\":\"y\",\"domain\":[0.0,1.0],\"title\":{\"text\":\"station_name\"}},\"yaxis\":{\"anchor\":\"x\",\"domain\":[0.0,1.0],\"title\":{\"text\":\"value\"},\"tickformat\":\".00f\"},\"legend\":{\"title\":{\"text\":\"variable\"},\"tracegroupgap\":0},\"margin\":{\"t\":60},\"font\":{\"size\":11},\"height\":500,\"width\":900},                        {\"responsive\": true}                    ).then(function(){\n",
       "                            \n",
       "var gd = document.getElementById('c4612c0a-f8a7-40c3-8736-a7cd3e20553e');\n",
       "var x = new MutationObserver(function (mutations, observer) {{\n",
       "        var display = window.getComputedStyle(gd).display;\n",
       "        if (!display || display === 'none') {{\n",
       "            console.log([gd, 'removed!']);\n",
       "            Plotly.purge(gd);\n",
       "            observer.disconnect();\n",
       "        }}\n",
       "}});\n",
       "\n",
       "// Listen for the removal of the full notebook cells\n",
       "var notebookContainer = gd.closest('#notebook-container');\n",
       "if (notebookContainer) {{\n",
       "    x.observe(notebookContainer, {childList: true});\n",
       "}}\n",
       "\n",
       "// Listen for the clearing of the current output cell\n",
       "var outputEl = gd.closest('.output');\n",
       "if (outputEl) {{\n",
       "    x.observe(outputEl, {childList: true});\n",
       "}}\n",
       "\n",
       "                        })                };                });            </script>        </div>"
      ]
     },
     "metadata": {},
     "output_type": "display_data"
    }
   ],
   "source": [
    "fig = px.line(df[[2023,2024,'model_boardings']])\n",
    "fig.update_layout(height=500, width=900, font=dict(size=11),\n",
    "                  yaxis_tickformat = '.00f')\n",
    "fig.show()"
   ]
  },
  {
   "cell_type": "raw",
   "id": "f429de2d705b1e22",
   "metadata": {},
   "source": [
    ":::"
   ]
  },
  {
   "cell_type": "markdown",
   "id": "86996e48d6760252",
   "metadata": {},
   "source": [
    "## light rail stop transfers"
   ]
  },
  {
   "cell_type": "code",
   "execution_count": 146,
   "id": "4bd536d185354993",
   "metadata": {
    "ExecuteTime": {
     "end_time": "2024-06-24T20:06:14.325917Z",
     "start_time": "2024-06-24T20:06:14.279144Z"
    },
    "execution": {
     "iopub.execute_input": "2024-12-14T02:38:43.002696Z",
     "iopub.status.busy": "2024-12-14T02:38:43.000701Z",
     "iopub.status.idle": "2024-12-14T02:38:43.053560Z",
     "shell.execute_reply": "2024-12-14T02:38:43.051565Z"
    }
   },
   "outputs": [
    {
     "data": {
      "text/html": [
       "<div>\n",
       "<style scoped>\n",
       "    .dataframe tbody tr th:only-of-type {\n",
       "        vertical-align: middle;\n",
       "    }\n",
       "\n",
       "    .dataframe tbody tr th {\n",
       "        vertical-align: top;\n",
       "    }\n",
       "\n",
       "    .dataframe thead th {\n",
       "        text-align: right;\n",
       "    }\n",
       "</style>\n",
       "<table border=\"1\" class=\"dataframe\">\n",
       "  <thead>\n",
       "    <tr style=\"text-align: right;\">\n",
       "      <th></th>\n",
       "      <th>modeled_transfer_rate</th>\n",
       "      <th>observed_transfer_rate</th>\n",
       "      <th>diff</th>\n",
       "      <th>percent_diff</th>\n",
       "    </tr>\n",
       "    <tr>\n",
       "      <th>station_name</th>\n",
       "      <th></th>\n",
       "      <th></th>\n",
       "      <th></th>\n",
       "      <th></th>\n",
       "    </tr>\n",
       "  </thead>\n",
       "  <tbody>\n",
       "    <tr>\n",
       "      <th>Northgate Station</th>\n",
       "      <td>0.44</td>\n",
       "      <td>-99.00</td>\n",
       "      <td>99.44</td>\n",
       "      <td>-100.44%</td>\n",
       "    </tr>\n",
       "    <tr>\n",
       "      <th>Roosevelt Station</th>\n",
       "      <td>0.41</td>\n",
       "      <td>-99.00</td>\n",
       "      <td>99.41</td>\n",
       "      <td>-100.41%</td>\n",
       "    </tr>\n",
       "    <tr>\n",
       "      <th>University District Station</th>\n",
       "      <td>0.22</td>\n",
       "      <td>-99.00</td>\n",
       "      <td>99.22</td>\n",
       "      <td>-100.22%</td>\n",
       "    </tr>\n",
       "    <tr>\n",
       "      <th>Husky Stadium</th>\n",
       "      <td>0.82</td>\n",
       "      <td>-99.00</td>\n",
       "      <td>99.82</td>\n",
       "      <td>-100.83%</td>\n",
       "    </tr>\n",
       "    <tr>\n",
       "      <th>Capitol Hill</th>\n",
       "      <td>0.06</td>\n",
       "      <td>-99.00</td>\n",
       "      <td>99.06</td>\n",
       "      <td>-100.06%</td>\n",
       "    </tr>\n",
       "    <tr>\n",
       "      <th>Westlake</th>\n",
       "      <td>0.11</td>\n",
       "      <td>0.36</td>\n",
       "      <td>-0.26</td>\n",
       "      <td>-70.36%</td>\n",
       "    </tr>\n",
       "    <tr>\n",
       "      <th>Symphony</th>\n",
       "      <td>0.27</td>\n",
       "      <td>0.20</td>\n",
       "      <td>0.07</td>\n",
       "      <td>34.54%</td>\n",
       "    </tr>\n",
       "    <tr>\n",
       "      <th>Pioneer Square</th>\n",
       "      <td>0.36</td>\n",
       "      <td>0.16</td>\n",
       "      <td>0.20</td>\n",
       "      <td>125.02%</td>\n",
       "    </tr>\n",
       "    <tr>\n",
       "      <th>Int'l District</th>\n",
       "      <td>0.52</td>\n",
       "      <td>0.45</td>\n",
       "      <td>0.07</td>\n",
       "      <td>14.52%</td>\n",
       "    </tr>\n",
       "    <tr>\n",
       "      <th>Stadium</th>\n",
       "      <td>0.37</td>\n",
       "      <td>0.12</td>\n",
       "      <td>0.25</td>\n",
       "      <td>211.48%</td>\n",
       "    </tr>\n",
       "    <tr>\n",
       "      <th>SODO</th>\n",
       "      <td>0.64</td>\n",
       "      <td>0.31</td>\n",
       "      <td>0.33</td>\n",
       "      <td>103.90%</td>\n",
       "    </tr>\n",
       "    <tr>\n",
       "      <th>Beacon Hill</th>\n",
       "      <td>0.36</td>\n",
       "      <td>0.35</td>\n",
       "      <td>0.01</td>\n",
       "      <td>1.68%</td>\n",
       "    </tr>\n",
       "    <tr>\n",
       "      <th>Mount Baker</th>\n",
       "      <td>0.40</td>\n",
       "      <td>0.32</td>\n",
       "      <td>0.08</td>\n",
       "      <td>24.87%</td>\n",
       "    </tr>\n",
       "    <tr>\n",
       "      <th>Columbia City</th>\n",
       "      <td>0.01</td>\n",
       "      <td>0.12</td>\n",
       "      <td>-0.12</td>\n",
       "      <td>-92.82%</td>\n",
       "    </tr>\n",
       "    <tr>\n",
       "      <th>Othello</th>\n",
       "      <td>0.05</td>\n",
       "      <td>0.12</td>\n",
       "      <td>-0.07</td>\n",
       "      <td>-59.89%</td>\n",
       "    </tr>\n",
       "    <tr>\n",
       "      <th>Rainier Beach</th>\n",
       "      <td>0.32</td>\n",
       "      <td>0.36</td>\n",
       "      <td>-0.04</td>\n",
       "      <td>-11.91%</td>\n",
       "    </tr>\n",
       "    <tr>\n",
       "      <th>Tukwila Int'l Blvd</th>\n",
       "      <td>0.45</td>\n",
       "      <td>0.26</td>\n",
       "      <td>0.18</td>\n",
       "      <td>70.06%</td>\n",
       "    </tr>\n",
       "    <tr>\n",
       "      <th>SeaTac/Airport</th>\n",
       "      <td>0.13</td>\n",
       "      <td>0.26</td>\n",
       "      <td>-0.14</td>\n",
       "      <td>-51.81%</td>\n",
       "    </tr>\n",
       "    <tr>\n",
       "      <th>Angle Lake</th>\n",
       "      <td>0.19</td>\n",
       "      <td>-99.00</td>\n",
       "      <td>99.19</td>\n",
       "      <td>-100.19%</td>\n",
       "    </tr>\n",
       "  </tbody>\n",
       "</table>\n",
       "</div>"
      ],
      "text/plain": [
       "                             modeled_transfer_rate  observed_transfer_rate  \\\n",
       "station_name                                                                 \n",
       "Northgate Station                             0.44                  -99.00   \n",
       "Roosevelt Station                             0.41                  -99.00   \n",
       "University District Station                   0.22                  -99.00   \n",
       "Husky Stadium                                 0.82                  -99.00   \n",
       "Capitol Hill                                  0.06                  -99.00   \n",
       "Westlake                                      0.11                    0.36   \n",
       "Symphony                                      0.27                    0.20   \n",
       "Pioneer Square                                0.36                    0.16   \n",
       "Int'l District                                0.52                    0.45   \n",
       "Stadium                                       0.37                    0.12   \n",
       "SODO                                          0.64                    0.31   \n",
       "Beacon Hill                                   0.36                    0.35   \n",
       "Mount Baker                                   0.40                    0.32   \n",
       "Columbia City                                 0.01                    0.12   \n",
       "Othello                                       0.05                    0.12   \n",
       "Rainier Beach                                 0.32                    0.36   \n",
       "Tukwila Int'l Blvd                            0.45                    0.26   \n",
       "SeaTac/Airport                                0.13                    0.26   \n",
       "Angle Lake                                    0.19                  -99.00   \n",
       "\n",
       "                             diff percent_diff  \n",
       "station_name                                    \n",
       "Northgate Station           99.44     -100.44%  \n",
       "Roosevelt Station           99.41     -100.41%  \n",
       "University District Station 99.22     -100.22%  \n",
       "Husky Stadium               99.82     -100.83%  \n",
       "Capitol Hill                99.06     -100.06%  \n",
       "Westlake                    -0.26      -70.36%  \n",
       "Symphony                     0.07       34.54%  \n",
       "Pioneer Square               0.20      125.02%  \n",
       "Int'l District               0.07       14.52%  \n",
       "Stadium                      0.25      211.48%  \n",
       "SODO                         0.33      103.90%  \n",
       "Beacon Hill                  0.01        1.68%  \n",
       "Mount Baker                  0.08       24.87%  \n",
       "Columbia City               -0.12      -92.82%  \n",
       "Othello                     -0.07      -59.89%  \n",
       "Rainier Beach               -0.04      -11.91%  \n",
       "Tukwila Int'l Blvd           0.18       70.06%  \n",
       "SeaTac/Airport              -0.14      -51.81%  \n",
       "Angle Lake                  99.19     -100.19%  "
      ]
     },
     "execution_count": 146,
     "metadata": {},
     "output_type": "execute_result"
    }
   ],
   "source": [
    "df = pd.read_csv(os.path.join(csv_path,'light_rail_transfers.csv'), index_col='station_name')\n",
    "df[['percent_diff']] = df[['percent_diff']].applymap(format_percent)\n",
    "df.loc[line_1_station_list]"
   ]
  },
  {
   "cell_type": "markdown",
   "id": "fb8646bd",
   "metadata": {},
   "source": [
    "## Park and Ride"
   ]
  },
  {
   "cell_type": "code",
   "execution_count": 147,
   "id": "226280a8",
   "metadata": {},
   "outputs": [],
   "source": [
    "df = pd.read_csv(r'..\\..\\..\\..\\outputs\\daysim\\_trip.tsv', sep='\\t')\n",
    "pnr_boardings = df[(df['otaz'].isin(range(3750,4001))) & (df['mode']==6)]\n",
    "pnr_boardings = pnr_boardings.groupby('otaz').count()[['trexpfac']].reset_index()"
   ]
  },
  {
   "cell_type": "code",
   "execution_count": 148,
   "id": "8fc48cdd",
   "metadata": {},
   "outputs": [],
   "source": [
    "stations = [\n",
    "    {\"id\": 3751, \"name\": \"Tukwila Station (CR)\"},\n",
    "    {\"id\": 3752, \"name\": \"Tacoma Dome Station\"},\n",
    "    {\"id\": 3753, \"name\": \"South Tacoma (CR)\"},\n",
    "    {\"id\": 3754, \"name\": \"Everett Station (CR)\"},\n",
    "    {\"id\": 3755, \"name\": \"Sumner Station (CR)\"},\n",
    "    {\"id\": 3756, \"name\": \"Mukilteo Station\"},\n",
    "    {\"id\": 3757, \"name\": \"Kent Station (CR)\"},\n",
    "    {\"id\": 3758, \"name\": \"Auburn Station (CR)\"},\n",
    "    {\"id\": 3759, \"name\": \"Lakewood (CR)\"},\n",
    "    {\"id\": 3760, \"name\": \"Gateway P&R\"},\n",
    "    {\"id\": 3761, \"name\": \"Puyallup Station (SB)\"},\n",
    "    {\"id\": 3762, \"name\": \"Twin Lakes P&R\"},\n",
    "    {\"id\": 3763, \"name\": \"Crossroads Neighborhood Church\"},\n",
    "    {\"id\": 3764, \"name\": \"Overlake Transit Center\"},\n",
    "    {\"id\": 3765, \"name\": \"Redondo Heights P&R\"},\n",
    "    {\"id\": 3766, \"name\": \"North Gig Harbor/Kimball Drive\"},\n",
    "    {\"id\": 3767, \"name\": \"Duvall P&R\"},\n",
    "    {\"id\": 3768, \"name\": \"Roy 'Y' P&R\"},\n",
    "    {\"id\": 3769, \"name\": \"South Hill (Elim Evangelical)\"},\n",
    "    {\"id\": 3770, \"name\": \"Parkland Transit Center\"},\n",
    "    {\"id\": 3771, \"name\": \"SR-512/I-5 (Lakewood)\"},\n",
    "    {\"id\": 3772, \"name\": \"Center Street P&R\"},\n",
    "    {\"id\": 3773, \"name\": \"Tacoma Mall Transit Center\"},\n",
    "    {\"id\": 3774, \"name\": \"South Tacoma West\"},\n",
    "    {\"id\": 3775, \"name\": \"South Tacoma East - 2\"},\n",
    "    {\"id\": 3776, \"name\": \"Narrows P&R\"},\n",
    "    {\"id\": 3777, \"name\": \"North Purdy/Purdy Crescent\"},\n",
    "    {\"id\": 3778, \"name\": \"Point Defiance Ferry\"},\n",
    "    {\"id\": 3779, \"name\": \"South Federal P&R\"},\n",
    "    {\"id\": 3780, \"name\": \"Sultan P&R\"},\n",
    "    {\"id\": 3781, \"name\": \"Federal Way P&R (320th)\"},\n",
    "    {\"id\": 3782, \"name\": \"Auburn P&R\"},\n",
    "    {\"id\": 3783, \"name\": \"Star Lake P&R\"},\n",
    "    {\"id\": 3784, \"name\": \"Holy Spirit Lutheran Church\"},\n",
    "    {\"id\": 3785, \"name\": \"Kent/Des Moines P&R\"},\n",
    "    {\"id\": 3786, \"name\": \"Kent/James St. P&R\"},\n",
    "    {\"id\": 3787, \"name\": \"Burien Transit Center\"},\n",
    "    {\"id\": 3788, \"name\": \"Tukwila\"},\n",
    "    {\"id\": 3789, \"name\": \"Maple Valley P&R\"},\n",
    "    {\"id\": 3790, \"name\": \"South Renton P&R\"},\n",
    "    {\"id\": 3791, \"name\": \"Renton Highlands P&R (St. Matts)\"},\n",
    "    {\"id\": 3792, \"name\": \"Issaquah Transit Center\"},\n",
    "    {\"id\": 3793, \"name\": \"Mercer Island P&R\"},\n",
    "    {\"id\": 3794, \"name\": \"Mercer Island Presbyterian\"},\n",
    "    {\"id\": 3795, \"name\": \"Newport Hills P&R\"},\n",
    "    {\"id\": 3796, \"name\": \"Newport Hills Community Church\"},\n",
    "    {\"id\": 3797, \"name\": \"Newport Covenant Church\"},\n",
    "    {\"id\": 3798, \"name\": \"South Bellevue P&R\"},\n",
    "    {\"id\": 3799, \"name\": \"Wilburton\"},\n",
    "    {\"id\": 3800, \"name\": \"Eastgate P&R\"},\n",
    "    {\"id\": 3801, \"name\": \"North Bend P&R\"},\n",
    "    {\"id\": 3802, \"name\": \"Evergreen Point P&R\"},\n",
    "    {\"id\": 3803, \"name\": \"Grace Lutheran Church\"},\n",
    "    {\"id\": 3804, \"name\": \"South Kirkland P&R\"},\n",
    "    {\"id\": 3805, \"name\": \"Overlake P&R\"},\n",
    "    {\"id\": 3806, \"name\": \"Houghton P&R\"},\n",
    "    {\"id\": 3807, \"name\": \"Bethel Lutheran\"},\n",
    "    {\"id\": 3808, \"name\": \"Redmond P&R\"},\n",
    "    {\"id\": 3809, \"name\": \"Saint Thomas Episcopal\"},\n",
    "    {\"id\": 3810, \"name\": \"Valley Center\"},\n",
    "    {\"id\": 3811, \"name\": \"Bear Creek P&R\"},\n",
    "    {\"id\": 3812, \"name\": \"Kingsgate P&R\"},\n",
    "    {\"id\": 3813, \"name\": \"Brickyard P&R\"},\n",
    "    {\"id\": 3814, \"name\": \"Northshore P&R\"},\n",
    "    {\"id\": 3815, \"name\": \"Kenmore P&R\"},\n",
    "    {\"id\": 3816, \"name\": \"Bethany Bible Church\"},\n",
    "    {\"id\": 3817, \"name\": \"Bothell P&R\"},\n",
    "    {\"id\": 3818, \"name\": \"Woodinville P&R\"},\n",
    "    {\"id\": 3819, \"name\": \"Olson & Meyers\"},\n",
    "    {\"id\": 3820, \"name\": \"Spokane Street P&R\"},\n",
    "    {\"id\": 3821, \"name\": \"Greenlake P&R\"},\n",
    "    {\"id\": 3822, \"name\": \"Northgate TC\"},\n",
    "    {\"id\": 3823, \"name\": \"North Jackson Park\"},\n",
    "    {\"id\": 3824, \"name\": \"Shoreline\"},\n",
    "    {\"id\": 3825, \"name\": \"112th St. & I-5\"},\n",
    "    {\"id\": 3826, \"name\": \"Ober Park\"},\n",
    "    {\"id\": 3827, \"name\": \"Vashon Heights\"},\n",
    "    {\"id\": 3828, \"name\": \"Mountlake Terrace P&R\"},\n",
    "    {\"id\": 3829, \"name\": \"Bethesda Lutheran\"},\n",
    "    {\"id\": 3830, \"name\": \"Edmonds Station\"},\n",
    "    {\"id\": 3831, \"name\": \"Edmonds P&R\"},\n",
    "    {\"id\": 3832, \"name\": \"Lynnwood P&R\"},\n",
    "    {\"id\": 3833, \"name\": \"Swamp Creek P&R\"},\n",
    "    {\"id\": 3834, \"name\": \"Mariner P&R\"},\n",
    "    {\"id\": 3835, \"name\": \"Snohomish\"},\n",
    "    {\"id\": 3836, \"name\": \"Marysville - Ash Ave\"},\n",
    "    {\"id\": 3837, \"name\": \"116th & I-5 - Marysville\"},\n",
    "    {\"id\": 3838, \"name\": \"SR-531 - Marysville\"},\n",
    "    {\"id\": 3839, \"name\": \"Arlington P&R\"},\n",
    "    {\"id\": 3840, \"name\": \"Stanwood\"},\n",
    "    {\"id\": 3841, \"name\": \"Monroe\"},\n",
    "    {\"id\": 3842, \"name\": \"Federal Way\"},\n",
    "    {\"id\": 3843, \"name\": \"Port Orchard Armory\"},\n",
    "    {\"id\": 3844, \"name\": \"Southworth Ferry P&R\"},\n",
    "    {\"id\": 3845, \"name\": \"McWilliams P&R\"},\n",
    "    {\"id\": 3846, \"name\": \"Bethany Lutheran Church\"},\n",
    "    {\"id\": 3847, \"name\": \"Gateway Fellowship\"},\n",
    "    {\"id\": 3848, \"name\": \"Agate Pass P&R/Clearwater\"},\n",
    "    {\"id\": 3849, \"name\": \"Kingston Ferry P&R\"},\n",
    "    {\"id\": 3850, \"name\": \"Suquamish United Church of Christ\"},\n",
    "    {\"id\": 3851, \"name\": \"Bainbridge Island Ferry\"},\n",
    "    {\"id\": 3852, \"name\": \"Puyallup Station (NB)\"},\n",
    "    {\"id\": 3853, \"name\": \"72nd Street Transit Center\"},\n",
    "    {\"id\": 3855, \"name\": \"DuPont\"},\n",
    "    {\"id\": 3856, \"name\": \"Aurora Village TC\"},\n",
    "    {\"id\": 3857, \"name\": \"Aurora Nazarene\"},\n",
    "    {\"id\": 3858, \"name\": \"Saint Margaret's Episcopal\"},\n",
    "    {\"id\": 3861, \"name\": \"Lake Meridian P&R\"},\n",
    "    {\"id\": 3862, \"name\": \"Smokey Pt. Church\"},\n",
    "    {\"id\": 3863, \"name\": \"Eastmont P&R\"},\n",
    "    {\"id\": 3864, \"name\": \"McCollum Park P&R\"},\n",
    "    {\"id\": 3865, \"name\": \"Canyon Park P&R\"},\n",
    "    {\"id\": 3866, \"name\": \"Korean Presby. P&R\"},\n",
    "    {\"id\": 3867, \"name\": \"Georges Kountry Korner\"},\n",
    "    {\"id\": 3868, \"name\": \"Poulsbo Church of the Nazarene\"},\n",
    "    {\"id\": 3870, \"name\": \"Harper Evangelical Free Church\"},\n",
    "    {\"id\": 3871, \"name\": \"Mullenix Road\"},\n",
    "    {\"id\": 3873, \"name\": \"TCC P&R\"},\n",
    "    {\"id\": 3874, \"name\": \"Ash Way P&R\"},\n",
    "    {\"id\": 3875, \"name\": \"Bonney Lake P&R\"},\n",
    "    {\"id\": 3876, \"name\": \"Tukwila Int. Station\"},\n",
    "    {\"id\": 3877, \"name\": \"South Hill P&R\"},\n",
    "    {\"id\": 3878, \"name\": \"South Tacoma East - 1\"},\n",
    "    {\"id\": 3879, \"name\": \"Issaquah Highlands\"},\n",
    "    {\"id\": 3880, \"name\": \"Lake Stevens TC\"},\n",
    "    {\"id\": 3881, \"name\": \"Liberty Bay Presbyterian\"},\n",
    "    {\"id\": 3882, \"name\": \"NK Baptist\"},\n",
    "    {\"id\": 3883, \"name\": \"Preston P&R\"},\n",
    "    {\"id\": 3884, \"name\": \"Bayside Community Church\"},\n",
    "    {\"id\": 3885, \"name\": \"Ollala Valley Fire Station\"},\n",
    "    {\"id\": 3886, \"name\": \"Bremerton Ferry\"},\n",
    "    {\"id\": 3888, \"name\": \"Puyallup Fair's Red Lot\"},\n",
    "    {\"id\": 3889, \"name\": \"Marysville - Cedar & Grove\"},\n",
    "    {\"id\": 3890, \"name\": \"Stanwood II\"},\n",
    "    {\"id\": 3891, \"name\": \"Marysville I P&R\"},\n",
    "    {\"id\": 3892, \"name\": \"Martha Lake Covenant Church\"},\n",
    "    {\"id\": 3893, \"name\": \"South Sammammish P&R\"},\n",
    "    {\"id\": 3894, \"name\": \"Renton City Municipal Garage\"},\n",
    "    {\"id\": 3895, \"name\": \"Tibbetts Lot\"},\n",
    "    {\"id\": 3896, \"name\": \"Renton Transit Center\"},\n",
    "    {\"id\": 3897, \"name\": \"Calvary Christian Assembly\"},\n",
    "    {\"id\": 3898, \"name\": \"Maple Valley Town Square\"},\n",
    "    {\"id\": 3899, \"name\": \"All Saints Lutheran Church\"},\n",
    "    {\"id\": 3900, \"name\": \"City View Church\"},\n",
    "    {\"id\": 3901, \"name\": \"Northwest University 6710 Bldg.\"},\n",
    "    {\"id\": 3902, \"name\": \"Sammamish Lutheran P&R\"},\n",
    "    {\"id\": 3903, \"name\": \"Redmond Ridge P&R\"},\n",
    "    {\"id\": 3904, \"name\": \"Kennydale United Methodist Church\"},\n",
    "    {\"id\": 3905, \"name\": \"Nativity Lutheran Church\"},\n",
    "    {\"id\": 3906, \"name\": \"South Jackson P&R\"},\n",
    "    {\"id\": 3907, \"name\": \"South SeaTac (LR)\"},\n",
    "    {\"id\": 3908, \"name\": \"Everett Station\"},\n",
    "    {\"id\": 3909, \"name\": \"Bremerton (SR-303/Riddell Road)\"},\n",
    "    {\"id\": 3910, \"name\": \"Silverdale\"},\n",
    "    {\"id\": 3911, \"name\": \"Tukwila Station (CR)\"},\n",
    "    {\"id\": 3913, \"name\": \"Sumner Station Garage\"},\n",
    "    {\"id\": 3914, \"name\": \"Tacoma Dome\"},\n",
    "    {\"id\": 3915, \"name\": \"Bothell (SR-527/185th Street)\"},\n",
    "    {\"id\": 3916, \"name\": \"SR-3/SR-303\"},\n",
    "    {\"id\": 3917, \"name\": \"SR-16/SR-160\"},\n",
    "    {\"id\": 3918, \"name\": \"I-5 & 175th\"}\n",
    "]"
   ]
  },
  {
   "cell_type": "code",
   "execution_count": 149,
   "id": "adf42b0c",
   "metadata": {},
   "outputs": [],
   "source": [
    "pnr_capacity = pd.read_csv(r'..\\..\\..\\..\\inputs\\scenario\\networks\\p_r_nodes.csv')\n",
    "df = pnr_capacity.merge(pnr_boardings, left_on='ZoneID', right_on='otaz')\n",
    "df.rename(columns={'ZoneID': 'taz', 'trexpfac': 'Model Boardings'}, inplace=True)\n",
    "df['Boardings/Capacity'] = df['Model Boardings']/df['Capacity']\n",
    "# df.head()"
   ]
  },
  {
   "cell_type": "code",
   "execution_count": 150,
   "id": "a4fb4af0",
   "metadata": {},
   "outputs": [],
   "source": [
    "df_station_names = pd.DataFrame(stations)\n",
    "df = df.merge(df_station_names, how='left', left_on='taz', right_on='id')"
   ]
  },
  {
   "cell_type": "code",
   "execution_count": 151,
   "id": "7f7b1396",
   "metadata": {},
   "outputs": [
    {
     "data": {
      "application/vnd.plotly.v1+json": {
       "config": {
        "plotlyServerURL": "https://plot.ly"
       },
       "data": [
        {
         "customdata": [
          [
           "Tukwila Station (CR)",
           0.25384615384615383
          ],
          [
           "Tacoma Dome Station",
           0.11339323919554985
          ],
          [
           "Everett Station (CR)",
           0.06233062330623306
          ],
          [
           "Sumner Station (CR)",
           0.7457142857142857
          ],
          [
           "Mukilteo Station",
           0.015873015873015872
          ],
          [
           "Kent Station (CR)",
           0.4497991967871486
          ],
          [
           "Lakewood (CR)",
           0.0066555740432612314
          ],
          [
           "Gateway P&R",
           0.17307692307692307
          ],
          [
           "Puyallup Station (SB)",
           0.38
          ],
          [
           "Twin Lakes P&R",
           0.005
          ],
          [
           "Crossroads Neighborhood Church",
           0.028037383177570093
          ],
          [
           "Overlake Transit Center",
           0.5945945945945946
          ],
          [
           "North Gig Harbor/Kimball Drive",
           0.016339869281045753
          ],
          [
           "Duvall P&R",
           0.04081632653061224
          ],
          [
           "Roy 'Y' P&R",
           0.02
          ],
          [
           "South Hill (Elim Evangelical)",
           0.8
          ],
          [
           "Parkland Transit Center",
           0.03225806451612903
          ],
          [
           "SR-512/I-5 (Lakewood)",
           0.030425963488843813
          ],
          [
           "Center Street P&R",
           0.14666666666666667
          ],
          [
           "Tacoma Mall Transit Center",
           0.14
          ],
          [
           "South Tacoma West",
           0.07692307692307693
          ],
          [
           "South Tacoma East - 2",
           0.022727272727272728
          ],
          [
           "Narrows P&R",
           0.005128205128205128
          ],
          [
           "North Purdy/Purdy Crescent",
           0.01
          ],
          [
           "Point Defiance Ferry",
           0.05063291139240506
          ],
          [
           "South Federal P&R",
           0.009708737864077669
          ],
          [
           "Federal Way P&R (320th)",
           0.09920182440136831
          ],
          [
           "Auburn P&R",
           0.020491803278688523
          ],
          [
           "Star Lake P&R",
           0.001851851851851852
          ],
          [
           "Holy Spirit Lutheran Church",
           0.5
          ],
          [
           "Kent/Des Moines P&R",
           0.01485148514851485
          ],
          [
           "Kent/James St. P&R",
           0.12061711079943899
          ],
          [
           "Burien Transit Center",
           0.0471311475409836
          ],
          [
           "Tukwila",
           0.0599250936329588
          ],
          [
           "Maple Valley P&R",
           0.01639344262295082
          ],
          [
           "South Renton P&R",
           0.1038961038961039
          ],
          [
           "Renton Highlands P&R (St. Matts)",
           0.0234375
          ],
          [
           "Issaquah Transit Center",
           0.03418803418803419
          ],
          [
           "Mercer Island P&R",
           0.4116331096196868
          ],
          [
           "Mercer Island Presbyterian",
           0.7666666666666667
          ],
          [
           "Newport Hills P&R",
           0.01818181818181818
          ],
          [
           "Newport Hills Community Church",
           0.02702702702702703
          ],
          [
           "Newport Covenant Church",
           0.02666666666666667
          ],
          [
           "South Bellevue P&R",
           0.0905587668593449
          ],
          [
           "Wilburton",
           0.10752688172043011
          ],
          [
           "Eastgate P&R",
           0.031598513011152414
          ],
          [
           "North Bend P&R",
           0.075
          ],
          [
           "Evergreen Point P&R",
           0.2631578947368421
          ],
          [
           "Grace Lutheran Church",
           0.62
          ],
          [
           "South Kirkland P&R",
           0.026410564225690276
          ],
          [
           "Overlake P&R",
           0.29064039408866993
          ],
          [
           "Houghton P&R",
           0.01276595744680851
          ],
          [
           "Bethel Lutheran",
           0.05
          ],
          [
           "Redmond P&R",
           0.15119363395225463
          ],
          [
           "Saint Thomas Episcopal",
           0.4375
          ],
          [
           "Valley Center",
           0.03636363636363636
          ],
          [
           "Bear Creek P&R",
           0.06007067137809187
          ],
          [
           "Kingsgate P&R",
           0.11354581673306773
          ],
          [
           "Brickyard P&R",
           0.011286681715575621
          ],
          [
           "Northshore P&R",
           0.06382978723404255
          ],
          [
           "Kenmore P&R",
           0.1044776119402985
          ],
          [
           "Bothell P&R",
           0.45454545454545453
          ],
          [
           "Woodinville P&R",
           0.0319634703196347
          ],
          [
           "Olson & Meyers",
           0.16
          ],
          [
           "Greenlake P&R",
           0.20681265206812652
          ],
          [
           "North Jackson Park",
           0.9117647058823529
          ],
          [
           "Shoreline",
           0.0916030534351145
          ],
          [
           "112th St. & I-5",
           0.030226700251889168
          ],
          [
           "Ober Park",
           0.10416666666666667
          ],
          [
           "Vashon Heights",
           0.1956521739130435
          ],
          [
           "Mountlake Terrace P&R",
           0.029545454545454545
          ],
          [
           "Bethesda Lutheran",
           0.65
          ],
          [
           "Edmonds Station",
           0.023166023166023165
          ],
          [
           "Edmonds P&R",
           0.023529411764705882
          ],
          [
           "Lynnwood P&R",
           0.00715307582260372
          ],
          [
           "Swamp Creek P&R",
           0.046341463414634146
          ],
          [
           "Mariner P&R",
           0.035982008995502246
          ],
          [
           "Snohomish",
           0.07692307692307693
          ],
          [
           "Marysville - Ash Ave",
           0.01485148514851485
          ],
          [
           "Arlington P&R",
           0.08
          ],
          [
           "Monroe",
           0.029411764705882353
          ],
          [
           "Federal Way",
           0.02857142857142857
          ],
          [
           "Port Orchard Armory",
           0.3238095238095238
          ],
          [
           "Southworth Ferry P&R",
           0.14150943396226415
          ],
          [
           "McWilliams P&R",
           0.006622516556291391
          ],
          [
           "Bethany Lutheran Church",
           0.1625
          ],
          [
           "Gateway Fellowship",
           0.057971014492753624
          ],
          [
           "Kingston Ferry P&R",
           0.027777777777777776
          ],
          [
           "Suquamish United Church of Christ",
           0.03076923076923077
          ],
          [
           "Bainbridge Island Ferry",
           0.44385026737967914
          ],
          [
           "Puyallup Station (NB)",
           0.23901098901098902
          ],
          [
           "72nd Street Transit Center",
           0.10294117647058823
          ],
          [
           "DuPont",
           0.009174311926605505
          ],
          [
           "Aurora Village TC",
           0.2524752475247525
          ],
          [
           "Aurora Nazarene",
           0.16379310344827586
          ],
          [
           "Saint Margaret's Episcopal",
           0.234375
          ],
          [
           "Lake Meridian P&R",
           0.14534883720930233
          ],
          [
           "Smokey Pt. Church",
           0.1
          ],
          [
           "Eastmont P&R",
           0.002570694087403599
          ],
          [
           "McCollum Park P&R",
           0.04645476772616137
          ],
          [
           "Canyon Park P&R",
           0.03642384105960265
          ],
          [
           "Korean Presby. P&R",
           0.8
          ],
          [
           "Poulsbo Church of the Nazarene",
           0.0037593984962406013
          ],
          [
           "Harper Evangelical Free Church",
           0.023809523809523808
          ],
          [
           "Mullenix Road",
           0.021739130434782608
          ],
          [
           "TCC P&R",
           0.17894736842105263
          ],
          [
           "Ash Way P&R",
           0.07827788649706457
          ],
          [
           "Bonney Lake P&R",
           0.014044943820224719
          ],
          [
           "Tukwila Int. Station",
           0.7885196374622356
          ],
          [
           "South Hill P&R",
           0.025423728813559324
          ],
          [
           "South Tacoma East - 1",
           0.06060606060606061
          ],
          [
           "Issaquah Highlands",
           0.027722772277227723
          ],
          [
           "Lake Stevens TC",
           0.01932367149758454
          ],
          [
           "Liberty Bay Presbyterian",
           0.011111111111111112
          ],
          [
           "NK Baptist",
           0.03508771929824561
          ],
          [
           "Preston P&R",
           0.6792452830188679
          ],
          [
           "Bayside Community Church",
           0.014285714285714285
          ],
          [
           "Bremerton Ferry",
           0.07950530035335689
          ],
          [
           "Marysville - Cedar & Grove",
           0.023474178403755867
          ],
          [
           "Marysville I P&R",
           0.02702702702702703
          ],
          [
           "Martha Lake Covenant Church",
           0.02666666666666667
          ],
          [
           "South Sammammish P&R",
           0.007547169811320755
          ],
          [
           "Renton City Municipal Garage",
           0.12666666666666668
          ],
          [
           "Tibbetts Lot",
           0.03529411764705882
          ],
          [
           "Renton Transit Center",
           0.1
          ],
          [
           "Calvary Christian Assembly",
           0.616
          ],
          [
           "Maple Valley Town Square",
           0.022222222222222223
          ],
          [
           "All Saints Lutheran Church",
           0.04
          ],
          [
           "City View Church",
           0.59375
          ],
          [
           "Northwest University 6710 Bldg.",
           0.29508196721311475
          ],
          [
           "Sammamish Lutheran P&R",
           0.05555555555555555
          ],
          [
           "Redmond Ridge P&R",
           0.019230769230769232
          ],
          [
           "Kennydale United Methodist Church",
           0.16
          ],
          [
           "Nativity Lutheran Church",
           0.04081632653061224
          ],
          [
           "Everett Station",
           0.3
          ],
          [
           null,
           0.18518518518518517
          ]
         ],
         "hovertemplate": "color=Boardings/Capacity <= 1<br>Capacity=%{x}<br>Model Boardings=%{y}<br>name=%{customdata[0]}<br>Boardings/Capacity=%{customdata[1]:.2f}<extra></extra>",
         "legendgroup": "Boardings/Capacity <= 1",
         "marker": {
          "color": "#91268F",
          "symbol": "circle"
         },
         "mode": "markers",
         "name": "Boardings/Capacity <= 1",
         "orientation": "v",
         "showlegend": true,
         "type": "scatter",
         "x": [
          390,
          2337,
          1107,
          350,
          63,
          996,
          601,
          104,
          50,
          600,
          107,
          222,
          306,
          49,
          100,
          20,
          62,
          493,
          75,
          150,
          78,
          44,
          195,
          200,
          79,
          515,
          877,
          244,
          540,
          40,
          404,
          713,
          488,
          267,
          122,
          385,
          128,
          819,
          447,
          30,
          275,
          37,
          75,
          519,
          186,
          1614,
          80,
          38,
          50,
          833,
          203,
          470,
          40,
          377,
          48,
          55,
          283,
          502,
          443,
          376,
          603,
          220,
          438,
          100,
          411,
          68,
          393,
          397,
          48,
          230,
          880,
          20,
          259,
          255,
          1398,
          410,
          667,
          104,
          202,
          25,
          102,
          1190,
          105,
          318,
          151,
          80,
          138,
          72,
          65,
          187,
          364,
          68,
          109,
          202,
          116,
          64,
          172,
          50,
          389,
          409,
          302,
          25,
          266,
          462,
          92,
          95,
          1022,
          356,
          662,
          354,
          33,
          1010,
          207,
          90,
          57,
          53,
          210,
          566,
          213,
          74,
          75,
          265,
          150,
          170,
          150,
          125,
          90,
          75,
          96,
          61,
          54,
          52,
          50,
          49,
          160,
          54
         ],
         "xaxis": "x",
         "y": [
          99,
          265,
          69,
          261,
          1,
          448,
          4,
          18,
          19,
          3,
          3,
          132,
          5,
          2,
          2,
          16,
          2,
          15,
          11,
          21,
          6,
          1,
          1,
          2,
          4,
          5,
          87,
          5,
          1,
          20,
          6,
          86,
          23,
          16,
          2,
          40,
          3,
          28,
          184,
          23,
          5,
          1,
          2,
          47,
          20,
          51,
          6,
          10,
          31,
          22,
          59,
          6,
          2,
          57,
          21,
          2,
          17,
          57,
          5,
          24,
          63,
          100,
          14,
          16,
          85,
          62,
          36,
          12,
          5,
          45,
          26,
          13,
          6,
          6,
          10,
          19,
          24,
          8,
          3,
          2,
          3,
          34,
          34,
          45,
          1,
          13,
          8,
          2,
          2,
          83,
          87,
          7,
          1,
          51,
          19,
          15,
          25,
          5,
          1,
          19,
          11,
          20,
          1,
          11,
          2,
          17,
          80,
          5,
          522,
          9,
          2,
          28,
          4,
          1,
          2,
          36,
          3,
          45,
          5,
          2,
          2,
          2,
          19,
          6,
          15,
          77,
          2,
          3,
          57,
          18,
          3,
          1,
          8,
          2,
          48,
          10
         ],
         "yaxis": "y"
        },
        {
         "customdata": [
          [
           "Auburn Station (CR)",
           1.0126382306477093
          ],
          [
           "Bethany Bible Church",
           1.6133333333333333
          ],
          [
           "Spokane Street P&R",
           1.3272727272727274
          ],
          [
           "Northgate TC",
           3.1013916500994037
          ],
          [
           "Puyallup Fair's Red Lot",
           1.8767123287671232
          ],
          [
           "South SeaTac (LR)",
           1.6172413793103448
          ]
         ],
         "hovertemplate": "color=Boardings/Capacity > 1<br>Capacity=%{x}<br>Model Boardings=%{y}<br>name=%{customdata[0]}<br>Boardings/Capacity=%{customdata[1]:.2f}<extra></extra>",
         "legendgroup": "Boardings/Capacity > 1",
         "marker": {
          "color": "#8CC63E",
          "symbol": "circle"
         },
         "mode": "markers",
         "name": "Boardings/Capacity > 1",
         "orientation": "v",
         "showlegend": true,
         "type": "scatter",
         "x": [
          633,
          75,
          55,
          1509,
          219,
          1160
         ],
         "xaxis": "x",
         "y": [
          641,
          121,
          73,
          4680,
          411,
          1876
         ],
         "yaxis": "y"
        }
       ],
       "layout": {
        "height": 600,
        "legend": {
         "title": {
          "text": "color"
         },
         "tracegroupgap": 0
        },
        "template": {
         "data": {
          "bar": [
           {
            "error_x": {
             "color": "rgb(36,36,36)"
            },
            "error_y": {
             "color": "rgb(36,36,36)"
            },
            "marker": {
             "line": {
              "color": "white",
              "width": 0.5
             },
             "pattern": {
              "fillmode": "overlay",
              "size": 10,
              "solidity": 0.2
             }
            },
            "type": "bar"
           }
          ],
          "barpolar": [
           {
            "marker": {
             "line": {
              "color": "white",
              "width": 0.5
             },
             "pattern": {
              "fillmode": "overlay",
              "size": 10,
              "solidity": 0.2
             }
            },
            "type": "barpolar"
           }
          ],
          "carpet": [
           {
            "aaxis": {
             "endlinecolor": "rgb(36,36,36)",
             "gridcolor": "white",
             "linecolor": "white",
             "minorgridcolor": "white",
             "startlinecolor": "rgb(36,36,36)"
            },
            "baxis": {
             "endlinecolor": "rgb(36,36,36)",
             "gridcolor": "white",
             "linecolor": "white",
             "minorgridcolor": "white",
             "startlinecolor": "rgb(36,36,36)"
            },
            "type": "carpet"
           }
          ],
          "choropleth": [
           {
            "colorbar": {
             "outlinewidth": 1,
             "tickcolor": "rgb(36,36,36)",
             "ticks": "outside"
            },
            "type": "choropleth"
           }
          ],
          "contour": [
           {
            "colorbar": {
             "outlinewidth": 1,
             "tickcolor": "rgb(36,36,36)",
             "ticks": "outside"
            },
            "colorscale": [
             [
              0,
              "#440154"
             ],
             [
              0.1111111111111111,
              "#482878"
             ],
             [
              0.2222222222222222,
              "#3e4989"
             ],
             [
              0.3333333333333333,
              "#31688e"
             ],
             [
              0.4444444444444444,
              "#26828e"
             ],
             [
              0.5555555555555556,
              "#1f9e89"
             ],
             [
              0.6666666666666666,
              "#35b779"
             ],
             [
              0.7777777777777778,
              "#6ece58"
             ],
             [
              0.8888888888888888,
              "#b5de2b"
             ],
             [
              1,
              "#fde725"
             ]
            ],
            "type": "contour"
           }
          ],
          "contourcarpet": [
           {
            "colorbar": {
             "outlinewidth": 1,
             "tickcolor": "rgb(36,36,36)",
             "ticks": "outside"
            },
            "type": "contourcarpet"
           }
          ],
          "heatmap": [
           {
            "colorbar": {
             "outlinewidth": 1,
             "tickcolor": "rgb(36,36,36)",
             "ticks": "outside"
            },
            "colorscale": [
             [
              0,
              "#440154"
             ],
             [
              0.1111111111111111,
              "#482878"
             ],
             [
              0.2222222222222222,
              "#3e4989"
             ],
             [
              0.3333333333333333,
              "#31688e"
             ],
             [
              0.4444444444444444,
              "#26828e"
             ],
             [
              0.5555555555555556,
              "#1f9e89"
             ],
             [
              0.6666666666666666,
              "#35b779"
             ],
             [
              0.7777777777777778,
              "#6ece58"
             ],
             [
              0.8888888888888888,
              "#b5de2b"
             ],
             [
              1,
              "#fde725"
             ]
            ],
            "type": "heatmap"
           }
          ],
          "heatmapgl": [
           {
            "colorbar": {
             "outlinewidth": 1,
             "tickcolor": "rgb(36,36,36)",
             "ticks": "outside"
            },
            "colorscale": [
             [
              0,
              "#440154"
             ],
             [
              0.1111111111111111,
              "#482878"
             ],
             [
              0.2222222222222222,
              "#3e4989"
             ],
             [
              0.3333333333333333,
              "#31688e"
             ],
             [
              0.4444444444444444,
              "#26828e"
             ],
             [
              0.5555555555555556,
              "#1f9e89"
             ],
             [
              0.6666666666666666,
              "#35b779"
             ],
             [
              0.7777777777777778,
              "#6ece58"
             ],
             [
              0.8888888888888888,
              "#b5de2b"
             ],
             [
              1,
              "#fde725"
             ]
            ],
            "type": "heatmapgl"
           }
          ],
          "histogram": [
           {
            "marker": {
             "line": {
              "color": "white",
              "width": 0.6
             }
            },
            "type": "histogram"
           }
          ],
          "histogram2d": [
           {
            "colorbar": {
             "outlinewidth": 1,
             "tickcolor": "rgb(36,36,36)",
             "ticks": "outside"
            },
            "colorscale": [
             [
              0,
              "#440154"
             ],
             [
              0.1111111111111111,
              "#482878"
             ],
             [
              0.2222222222222222,
              "#3e4989"
             ],
             [
              0.3333333333333333,
              "#31688e"
             ],
             [
              0.4444444444444444,
              "#26828e"
             ],
             [
              0.5555555555555556,
              "#1f9e89"
             ],
             [
              0.6666666666666666,
              "#35b779"
             ],
             [
              0.7777777777777778,
              "#6ece58"
             ],
             [
              0.8888888888888888,
              "#b5de2b"
             ],
             [
              1,
              "#fde725"
             ]
            ],
            "type": "histogram2d"
           }
          ],
          "histogram2dcontour": [
           {
            "colorbar": {
             "outlinewidth": 1,
             "tickcolor": "rgb(36,36,36)",
             "ticks": "outside"
            },
            "colorscale": [
             [
              0,
              "#440154"
             ],
             [
              0.1111111111111111,
              "#482878"
             ],
             [
              0.2222222222222222,
              "#3e4989"
             ],
             [
              0.3333333333333333,
              "#31688e"
             ],
             [
              0.4444444444444444,
              "#26828e"
             ],
             [
              0.5555555555555556,
              "#1f9e89"
             ],
             [
              0.6666666666666666,
              "#35b779"
             ],
             [
              0.7777777777777778,
              "#6ece58"
             ],
             [
              0.8888888888888888,
              "#b5de2b"
             ],
             [
              1,
              "#fde725"
             ]
            ],
            "type": "histogram2dcontour"
           }
          ],
          "mesh3d": [
           {
            "colorbar": {
             "outlinewidth": 1,
             "tickcolor": "rgb(36,36,36)",
             "ticks": "outside"
            },
            "type": "mesh3d"
           }
          ],
          "parcoords": [
           {
            "line": {
             "colorbar": {
              "outlinewidth": 1,
              "tickcolor": "rgb(36,36,36)",
              "ticks": "outside"
             }
            },
            "type": "parcoords"
           }
          ],
          "pie": [
           {
            "automargin": true,
            "type": "pie"
           }
          ],
          "scatter": [
           {
            "fillpattern": {
             "fillmode": "overlay",
             "size": 10,
             "solidity": 0.2
            },
            "type": "scatter"
           }
          ],
          "scatter3d": [
           {
            "line": {
             "colorbar": {
              "outlinewidth": 1,
              "tickcolor": "rgb(36,36,36)",
              "ticks": "outside"
             }
            },
            "marker": {
             "colorbar": {
              "outlinewidth": 1,
              "tickcolor": "rgb(36,36,36)",
              "ticks": "outside"
             }
            },
            "type": "scatter3d"
           }
          ],
          "scattercarpet": [
           {
            "marker": {
             "colorbar": {
              "outlinewidth": 1,
              "tickcolor": "rgb(36,36,36)",
              "ticks": "outside"
             }
            },
            "type": "scattercarpet"
           }
          ],
          "scattergeo": [
           {
            "marker": {
             "colorbar": {
              "outlinewidth": 1,
              "tickcolor": "rgb(36,36,36)",
              "ticks": "outside"
             }
            },
            "type": "scattergeo"
           }
          ],
          "scattergl": [
           {
            "marker": {
             "colorbar": {
              "outlinewidth": 1,
              "tickcolor": "rgb(36,36,36)",
              "ticks": "outside"
             }
            },
            "type": "scattergl"
           }
          ],
          "scattermapbox": [
           {
            "marker": {
             "colorbar": {
              "outlinewidth": 1,
              "tickcolor": "rgb(36,36,36)",
              "ticks": "outside"
             }
            },
            "type": "scattermapbox"
           }
          ],
          "scatterpolar": [
           {
            "marker": {
             "colorbar": {
              "outlinewidth": 1,
              "tickcolor": "rgb(36,36,36)",
              "ticks": "outside"
             }
            },
            "type": "scatterpolar"
           }
          ],
          "scatterpolargl": [
           {
            "marker": {
             "colorbar": {
              "outlinewidth": 1,
              "tickcolor": "rgb(36,36,36)",
              "ticks": "outside"
             }
            },
            "type": "scatterpolargl"
           }
          ],
          "scatterternary": [
           {
            "marker": {
             "colorbar": {
              "outlinewidth": 1,
              "tickcolor": "rgb(36,36,36)",
              "ticks": "outside"
             }
            },
            "type": "scatterternary"
           }
          ],
          "surface": [
           {
            "colorbar": {
             "outlinewidth": 1,
             "tickcolor": "rgb(36,36,36)",
             "ticks": "outside"
            },
            "colorscale": [
             [
              0,
              "#440154"
             ],
             [
              0.1111111111111111,
              "#482878"
             ],
             [
              0.2222222222222222,
              "#3e4989"
             ],
             [
              0.3333333333333333,
              "#31688e"
             ],
             [
              0.4444444444444444,
              "#26828e"
             ],
             [
              0.5555555555555556,
              "#1f9e89"
             ],
             [
              0.6666666666666666,
              "#35b779"
             ],
             [
              0.7777777777777778,
              "#6ece58"
             ],
             [
              0.8888888888888888,
              "#b5de2b"
             ],
             [
              1,
              "#fde725"
             ]
            ],
            "type": "surface"
           }
          ],
          "table": [
           {
            "cells": {
             "fill": {
              "color": "rgb(237,237,237)"
             },
             "line": {
              "color": "white"
             }
            },
            "header": {
             "fill": {
              "color": "rgb(217,217,217)"
             },
             "line": {
              "color": "white"
             }
            },
            "type": "table"
           }
          ]
         },
         "layout": {
          "annotationdefaults": {
           "arrowhead": 0,
           "arrowwidth": 1
          },
          "autotypenumbers": "strict",
          "coloraxis": {
           "colorbar": {
            "outlinewidth": 1,
            "tickcolor": "rgb(36,36,36)",
            "ticks": "outside"
           }
          },
          "colorscale": {
           "diverging": [
            [
             0,
             "rgb(103,0,31)"
            ],
            [
             0.1,
             "rgb(178,24,43)"
            ],
            [
             0.2,
             "rgb(214,96,77)"
            ],
            [
             0.3,
             "rgb(244,165,130)"
            ],
            [
             0.4,
             "rgb(253,219,199)"
            ],
            [
             0.5,
             "rgb(247,247,247)"
            ],
            [
             0.6,
             "rgb(209,229,240)"
            ],
            [
             0.7,
             "rgb(146,197,222)"
            ],
            [
             0.8,
             "rgb(67,147,195)"
            ],
            [
             0.9,
             "rgb(33,102,172)"
            ],
            [
             1,
             "rgb(5,48,97)"
            ]
           ],
           "sequential": [
            [
             0,
             "#440154"
            ],
            [
             0.1111111111111111,
             "#482878"
            ],
            [
             0.2222222222222222,
             "#3e4989"
            ],
            [
             0.3333333333333333,
             "#31688e"
            ],
            [
             0.4444444444444444,
             "#26828e"
            ],
            [
             0.5555555555555556,
             "#1f9e89"
            ],
            [
             0.6666666666666666,
             "#35b779"
            ],
            [
             0.7777777777777778,
             "#6ece58"
            ],
            [
             0.8888888888888888,
             "#b5de2b"
            ],
            [
             1,
             "#fde725"
            ]
           ],
           "sequentialminus": [
            [
             0,
             "#440154"
            ],
            [
             0.1111111111111111,
             "#482878"
            ],
            [
             0.2222222222222222,
             "#3e4989"
            ],
            [
             0.3333333333333333,
             "#31688e"
            ],
            [
             0.4444444444444444,
             "#26828e"
            ],
            [
             0.5555555555555556,
             "#1f9e89"
            ],
            [
             0.6666666666666666,
             "#35b779"
            ],
            [
             0.7777777777777778,
             "#6ece58"
            ],
            [
             0.8888888888888888,
             "#b5de2b"
            ],
            [
             1,
             "#fde725"
            ]
           ]
          },
          "colorway": [
           "#91268F",
           "#8CC63E",
           "#00A7A0",
           "#F05A28",
           "#4C4C4C",
           "#630460",
           "#9f3913",
           "#588527",
           "#00716c",
           "#3e4040"
          ],
          "font": {
           "color": "rgb(36,36,36)",
           "family": "Poppins",
           "size": 11
          },
          "geo": {
           "bgcolor": "white",
           "lakecolor": "white",
           "landcolor": "white",
           "showlakes": true,
           "showland": true,
           "subunitcolor": "white"
          },
          "hoverlabel": {
           "align": "left"
          },
          "hovermode": "closest",
          "mapbox": {
           "style": "light"
          },
          "paper_bgcolor": "white",
          "plot_bgcolor": "white",
          "polar": {
           "angularaxis": {
            "gridcolor": "rgb(232,232,232)",
            "linecolor": "rgb(36,36,36)",
            "showgrid": false,
            "showline": true,
            "ticks": "outside"
           },
           "bgcolor": "white",
           "radialaxis": {
            "gridcolor": "rgb(232,232,232)",
            "linecolor": "rgb(36,36,36)",
            "showgrid": false,
            "showline": true,
            "ticks": "outside"
           }
          },
          "scene": {
           "xaxis": {
            "backgroundcolor": "white",
            "gridcolor": "rgb(232,232,232)",
            "gridwidth": 2,
            "linecolor": "rgb(36,36,36)",
            "showbackground": true,
            "showgrid": false,
            "showline": true,
            "ticks": "outside",
            "zeroline": false,
            "zerolinecolor": "rgb(36,36,36)"
           },
           "yaxis": {
            "backgroundcolor": "white",
            "gridcolor": "rgb(232,232,232)",
            "gridwidth": 2,
            "linecolor": "rgb(36,36,36)",
            "showbackground": true,
            "showgrid": false,
            "showline": true,
            "ticks": "outside",
            "zeroline": false,
            "zerolinecolor": "rgb(36,36,36)"
           },
           "zaxis": {
            "backgroundcolor": "white",
            "gridcolor": "rgb(232,232,232)",
            "gridwidth": 2,
            "linecolor": "rgb(36,36,36)",
            "showbackground": true,
            "showgrid": false,
            "showline": true,
            "ticks": "outside",
            "zeroline": false,
            "zerolinecolor": "rgb(36,36,36)"
           }
          },
          "shapedefaults": {
           "fillcolor": "black",
           "line": {
            "width": 0
           },
           "opacity": 0.3
          },
          "ternary": {
           "aaxis": {
            "gridcolor": "rgb(232,232,232)",
            "linecolor": "rgb(36,36,36)",
            "showgrid": false,
            "showline": true,
            "ticks": "outside"
           },
           "baxis": {
            "gridcolor": "rgb(232,232,232)",
            "linecolor": "rgb(36,36,36)",
            "showgrid": false,
            "showline": true,
            "ticks": "outside"
           },
           "bgcolor": "white",
           "caxis": {
            "gridcolor": "rgb(232,232,232)",
            "linecolor": "rgb(36,36,36)",
            "showgrid": false,
            "showline": true,
            "ticks": "outside"
           }
          },
          "title": {
           "x": 0.05
          },
          "xaxis": {
           "automargin": true,
           "gridcolor": "rgb(232,232,232)",
           "linecolor": "rgb(36,36,36)",
           "showgrid": false,
           "showline": true,
           "ticks": "outside",
           "title": {
            "standoff": 15
           },
           "zeroline": false,
           "zerolinecolor": "rgb(36,36,36)"
          },
          "yaxis": {
           "automargin": true,
           "gridcolor": "rgb(232,232,232)",
           "linecolor": "rgb(36,36,36)",
           "showgrid": false,
           "showline": true,
           "ticks": "outside",
           "title": {
            "standoff": 15
           },
           "zeroline": false,
           "zerolinecolor": "rgb(36,36,36)"
          }
         }
        },
        "title": {
         "text": "Model Boardings vs Capacity"
        },
        "width": 800,
        "xaxis": {
         "anchor": "y",
         "domain": [
          0,
          1
         ],
         "title": {
          "text": "Capacity"
         }
        },
        "yaxis": {
         "anchor": "x",
         "domain": [
          0,
          1
         ],
         "title": {
          "text": "Model Boardings"
         }
        }
       }
      },
      "text/html": [
       "<div>                            <div id=\"5575bd51-7170-4b2a-ae2b-fef68c2667cf\" class=\"plotly-graph-div\" style=\"height:600px; width:800px;\"></div>            <script type=\"text/javascript\">                require([\"plotly\"], function(Plotly) {                    window.PLOTLYENV=window.PLOTLYENV || {};                                    if (document.getElementById(\"5575bd51-7170-4b2a-ae2b-fef68c2667cf\")) {                    Plotly.newPlot(                        \"5575bd51-7170-4b2a-ae2b-fef68c2667cf\",                        [{\"customdata\":[[\"Tukwila Station (CR)\",0.25384615384615383],[\"Tacoma Dome Station\",0.11339323919554985],[\"Everett Station (CR)\",0.06233062330623306],[\"Sumner Station (CR)\",0.7457142857142857],[\"Mukilteo Station\",0.015873015873015872],[\"Kent Station (CR)\",0.4497991967871486],[\"Lakewood (CR)\",0.0066555740432612314],[\"Gateway P&R\",0.17307692307692307],[\"Puyallup Station (SB)\",0.38],[\"Twin Lakes P&R\",0.005],[\"Crossroads Neighborhood Church\",0.028037383177570093],[\"Overlake Transit Center\",0.5945945945945946],[\"North Gig Harbor\\u002fKimball Drive\",0.016339869281045753],[\"Duvall P&R\",0.04081632653061224],[\"Roy 'Y' P&R\",0.02],[\"South Hill (Elim Evangelical)\",0.8],[\"Parkland Transit Center\",0.03225806451612903],[\"SR-512\\u002fI-5 (Lakewood)\",0.030425963488843813],[\"Center Street P&R\",0.14666666666666667],[\"Tacoma Mall Transit Center\",0.14],[\"South Tacoma West\",0.07692307692307693],[\"South Tacoma East - 2\",0.022727272727272728],[\"Narrows P&R\",0.005128205128205128],[\"North Purdy\\u002fPurdy Crescent\",0.01],[\"Point Defiance Ferry\",0.05063291139240506],[\"South Federal P&R\",0.009708737864077669],[\"Federal Way P&R (320th)\",0.09920182440136831],[\"Auburn P&R\",0.020491803278688523],[\"Star Lake P&R\",0.001851851851851852],[\"Holy Spirit Lutheran Church\",0.5],[\"Kent\\u002fDes Moines P&R\",0.01485148514851485],[\"Kent\\u002fJames St. P&R\",0.12061711079943899],[\"Burien Transit Center\",0.0471311475409836],[\"Tukwila\",0.0599250936329588],[\"Maple Valley P&R\",0.01639344262295082],[\"South Renton P&R\",0.1038961038961039],[\"Renton Highlands P&R (St. Matts)\",0.0234375],[\"Issaquah Transit Center\",0.03418803418803419],[\"Mercer Island P&R\",0.4116331096196868],[\"Mercer Island Presbyterian\",0.7666666666666667],[\"Newport Hills P&R\",0.01818181818181818],[\"Newport Hills Community Church\",0.02702702702702703],[\"Newport Covenant Church\",0.02666666666666667],[\"South Bellevue P&R\",0.0905587668593449],[\"Wilburton\",0.10752688172043011],[\"Eastgate P&R\",0.031598513011152414],[\"North Bend P&R\",0.075],[\"Evergreen Point P&R\",0.2631578947368421],[\"Grace Lutheran Church\",0.62],[\"South Kirkland P&R\",0.026410564225690276],[\"Overlake P&R\",0.29064039408866993],[\"Houghton P&R\",0.01276595744680851],[\"Bethel Lutheran\",0.05],[\"Redmond P&R\",0.15119363395225463],[\"Saint Thomas Episcopal\",0.4375],[\"Valley Center\",0.03636363636363636],[\"Bear Creek P&R\",0.06007067137809187],[\"Kingsgate P&R\",0.11354581673306773],[\"Brickyard P&R\",0.011286681715575621],[\"Northshore P&R\",0.06382978723404255],[\"Kenmore P&R\",0.1044776119402985],[\"Bothell P&R\",0.45454545454545453],[\"Woodinville P&R\",0.0319634703196347],[\"Olson & Meyers\",0.16],[\"Greenlake P&R\",0.20681265206812652],[\"North Jackson Park\",0.9117647058823529],[\"Shoreline\",0.0916030534351145],[\"112th St. & I-5\",0.030226700251889168],[\"Ober Park\",0.10416666666666667],[\"Vashon Heights\",0.1956521739130435],[\"Mountlake Terrace P&R\",0.029545454545454545],[\"Bethesda Lutheran\",0.65],[\"Edmonds Station\",0.023166023166023165],[\"Edmonds P&R\",0.023529411764705882],[\"Lynnwood P&R\",0.00715307582260372],[\"Swamp Creek P&R\",0.046341463414634146],[\"Mariner P&R\",0.035982008995502246],[\"Snohomish\",0.07692307692307693],[\"Marysville - Ash Ave\",0.01485148514851485],[\"Arlington P&R\",0.08],[\"Monroe\",0.029411764705882353],[\"Federal Way\",0.02857142857142857],[\"Port Orchard Armory\",0.3238095238095238],[\"Southworth Ferry P&R\",0.14150943396226415],[\"McWilliams P&R\",0.006622516556291391],[\"Bethany Lutheran Church\",0.1625],[\"Gateway Fellowship\",0.057971014492753624],[\"Kingston Ferry P&R\",0.027777777777777776],[\"Suquamish United Church of Christ\",0.03076923076923077],[\"Bainbridge Island Ferry\",0.44385026737967914],[\"Puyallup Station (NB)\",0.23901098901098902],[\"72nd Street Transit Center\",0.10294117647058823],[\"DuPont\",0.009174311926605505],[\"Aurora Village TC\",0.2524752475247525],[\"Aurora Nazarene\",0.16379310344827586],[\"Saint Margaret's Episcopal\",0.234375],[\"Lake Meridian P&R\",0.14534883720930233],[\"Smokey Pt. Church\",0.1],[\"Eastmont P&R\",0.002570694087403599],[\"McCollum Park P&R\",0.04645476772616137],[\"Canyon Park P&R\",0.03642384105960265],[\"Korean Presby. P&R\",0.8],[\"Poulsbo Church of the Nazarene\",0.0037593984962406013],[\"Harper Evangelical Free Church\",0.023809523809523808],[\"Mullenix Road\",0.021739130434782608],[\"TCC P&R\",0.17894736842105263],[\"Ash Way P&R\",0.07827788649706457],[\"Bonney Lake P&R\",0.014044943820224719],[\"Tukwila Int. Station\",0.7885196374622356],[\"South Hill P&R\",0.025423728813559324],[\"South Tacoma East - 1\",0.06060606060606061],[\"Issaquah Highlands\",0.027722772277227723],[\"Lake Stevens TC\",0.01932367149758454],[\"Liberty Bay Presbyterian\",0.011111111111111112],[\"NK Baptist\",0.03508771929824561],[\"Preston P&R\",0.6792452830188679],[\"Bayside Community Church\",0.014285714285714285],[\"Bremerton Ferry\",0.07950530035335689],[\"Marysville - Cedar & Grove\",0.023474178403755867],[\"Marysville I P&R\",0.02702702702702703],[\"Martha Lake Covenant Church\",0.02666666666666667],[\"South Sammammish P&R\",0.007547169811320755],[\"Renton City Municipal Garage\",0.12666666666666668],[\"Tibbetts Lot\",0.03529411764705882],[\"Renton Transit Center\",0.1],[\"Calvary Christian Assembly\",0.616],[\"Maple Valley Town Square\",0.022222222222222223],[\"All Saints Lutheran Church\",0.04],[\"City View Church\",0.59375],[\"Northwest University 6710 Bldg.\",0.29508196721311475],[\"Sammamish Lutheran P&R\",0.05555555555555555],[\"Redmond Ridge P&R\",0.019230769230769232],[\"Kennydale United Methodist Church\",0.16],[\"Nativity Lutheran Church\",0.04081632653061224],[\"Everett Station\",0.3],[null,0.18518518518518517]],\"hovertemplate\":\"color=Boardings\\u002fCapacity \\u003c= 1\\u003cbr\\u003eCapacity=%{x}\\u003cbr\\u003eModel Boardings=%{y}\\u003cbr\\u003ename=%{customdata[0]}\\u003cbr\\u003eBoardings\\u002fCapacity=%{customdata[1]:.2f}\\u003cextra\\u003e\\u003c\\u002fextra\\u003e\",\"legendgroup\":\"Boardings\\u002fCapacity \\u003c= 1\",\"marker\":{\"color\":\"#91268F\",\"symbol\":\"circle\"},\"mode\":\"markers\",\"name\":\"Boardings\\u002fCapacity \\u003c= 1\",\"orientation\":\"v\",\"showlegend\":true,\"x\":[390,2337,1107,350,63,996,601,104,50,600,107,222,306,49,100,20,62,493,75,150,78,44,195,200,79,515,877,244,540,40,404,713,488,267,122,385,128,819,447,30,275,37,75,519,186,1614,80,38,50,833,203,470,40,377,48,55,283,502,443,376,603,220,438,100,411,68,393,397,48,230,880,20,259,255,1398,410,667,104,202,25,102,1190,105,318,151,80,138,72,65,187,364,68,109,202,116,64,172,50,389,409,302,25,266,462,92,95,1022,356,662,354,33,1010,207,90,57,53,210,566,213,74,75,265,150,170,150,125,90,75,96,61,54,52,50,49,160,54],\"xaxis\":\"x\",\"y\":[99,265,69,261,1,448,4,18,19,3,3,132,5,2,2,16,2,15,11,21,6,1,1,2,4,5,87,5,1,20,6,86,23,16,2,40,3,28,184,23,5,1,2,47,20,51,6,10,31,22,59,6,2,57,21,2,17,57,5,24,63,100,14,16,85,62,36,12,5,45,26,13,6,6,10,19,24,8,3,2,3,34,34,45,1,13,8,2,2,83,87,7,1,51,19,15,25,5,1,19,11,20,1,11,2,17,80,5,522,9,2,28,4,1,2,36,3,45,5,2,2,2,19,6,15,77,2,3,57,18,3,1,8,2,48,10],\"yaxis\":\"y\",\"type\":\"scatter\"},{\"customdata\":[[\"Auburn Station (CR)\",1.0126382306477093],[\"Bethany Bible Church\",1.6133333333333333],[\"Spokane Street P&R\",1.3272727272727274],[\"Northgate TC\",3.1013916500994037],[\"Puyallup Fair's Red Lot\",1.8767123287671232],[\"South SeaTac (LR)\",1.6172413793103448]],\"hovertemplate\":\"color=Boardings\\u002fCapacity \\u003e 1\\u003cbr\\u003eCapacity=%{x}\\u003cbr\\u003eModel Boardings=%{y}\\u003cbr\\u003ename=%{customdata[0]}\\u003cbr\\u003eBoardings\\u002fCapacity=%{customdata[1]:.2f}\\u003cextra\\u003e\\u003c\\u002fextra\\u003e\",\"legendgroup\":\"Boardings\\u002fCapacity \\u003e 1\",\"marker\":{\"color\":\"#8CC63E\",\"symbol\":\"circle\"},\"mode\":\"markers\",\"name\":\"Boardings\\u002fCapacity \\u003e 1\",\"orientation\":\"v\",\"showlegend\":true,\"x\":[633,75,55,1509,219,1160],\"xaxis\":\"x\",\"y\":[641,121,73,4680,411,1876],\"yaxis\":\"y\",\"type\":\"scatter\"}],                        {\"template\":{\"data\":{\"barpolar\":[{\"marker\":{\"line\":{\"color\":\"white\",\"width\":0.5},\"pattern\":{\"fillmode\":\"overlay\",\"size\":10,\"solidity\":0.2}},\"type\":\"barpolar\"}],\"bar\":[{\"error_x\":{\"color\":\"rgb(36,36,36)\"},\"error_y\":{\"color\":\"rgb(36,36,36)\"},\"marker\":{\"line\":{\"color\":\"white\",\"width\":0.5},\"pattern\":{\"fillmode\":\"overlay\",\"size\":10,\"solidity\":0.2}},\"type\":\"bar\"}],\"carpet\":[{\"aaxis\":{\"endlinecolor\":\"rgb(36,36,36)\",\"gridcolor\":\"white\",\"linecolor\":\"white\",\"minorgridcolor\":\"white\",\"startlinecolor\":\"rgb(36,36,36)\"},\"baxis\":{\"endlinecolor\":\"rgb(36,36,36)\",\"gridcolor\":\"white\",\"linecolor\":\"white\",\"minorgridcolor\":\"white\",\"startlinecolor\":\"rgb(36,36,36)\"},\"type\":\"carpet\"}],\"choropleth\":[{\"colorbar\":{\"outlinewidth\":1,\"tickcolor\":\"rgb(36,36,36)\",\"ticks\":\"outside\"},\"type\":\"choropleth\"}],\"contourcarpet\":[{\"colorbar\":{\"outlinewidth\":1,\"tickcolor\":\"rgb(36,36,36)\",\"ticks\":\"outside\"},\"type\":\"contourcarpet\"}],\"contour\":[{\"colorbar\":{\"outlinewidth\":1,\"tickcolor\":\"rgb(36,36,36)\",\"ticks\":\"outside\"},\"colorscale\":[[0.0,\"#440154\"],[0.1111111111111111,\"#482878\"],[0.2222222222222222,\"#3e4989\"],[0.3333333333333333,\"#31688e\"],[0.4444444444444444,\"#26828e\"],[0.5555555555555556,\"#1f9e89\"],[0.6666666666666666,\"#35b779\"],[0.7777777777777778,\"#6ece58\"],[0.8888888888888888,\"#b5de2b\"],[1.0,\"#fde725\"]],\"type\":\"contour\"}],\"heatmapgl\":[{\"colorbar\":{\"outlinewidth\":1,\"tickcolor\":\"rgb(36,36,36)\",\"ticks\":\"outside\"},\"colorscale\":[[0.0,\"#440154\"],[0.1111111111111111,\"#482878\"],[0.2222222222222222,\"#3e4989\"],[0.3333333333333333,\"#31688e\"],[0.4444444444444444,\"#26828e\"],[0.5555555555555556,\"#1f9e89\"],[0.6666666666666666,\"#35b779\"],[0.7777777777777778,\"#6ece58\"],[0.8888888888888888,\"#b5de2b\"],[1.0,\"#fde725\"]],\"type\":\"heatmapgl\"}],\"heatmap\":[{\"colorbar\":{\"outlinewidth\":1,\"tickcolor\":\"rgb(36,36,36)\",\"ticks\":\"outside\"},\"colorscale\":[[0.0,\"#440154\"],[0.1111111111111111,\"#482878\"],[0.2222222222222222,\"#3e4989\"],[0.3333333333333333,\"#31688e\"],[0.4444444444444444,\"#26828e\"],[0.5555555555555556,\"#1f9e89\"],[0.6666666666666666,\"#35b779\"],[0.7777777777777778,\"#6ece58\"],[0.8888888888888888,\"#b5de2b\"],[1.0,\"#fde725\"]],\"type\":\"heatmap\"}],\"histogram2dcontour\":[{\"colorbar\":{\"outlinewidth\":1,\"tickcolor\":\"rgb(36,36,36)\",\"ticks\":\"outside\"},\"colorscale\":[[0.0,\"#440154\"],[0.1111111111111111,\"#482878\"],[0.2222222222222222,\"#3e4989\"],[0.3333333333333333,\"#31688e\"],[0.4444444444444444,\"#26828e\"],[0.5555555555555556,\"#1f9e89\"],[0.6666666666666666,\"#35b779\"],[0.7777777777777778,\"#6ece58\"],[0.8888888888888888,\"#b5de2b\"],[1.0,\"#fde725\"]],\"type\":\"histogram2dcontour\"}],\"histogram2d\":[{\"colorbar\":{\"outlinewidth\":1,\"tickcolor\":\"rgb(36,36,36)\",\"ticks\":\"outside\"},\"colorscale\":[[0.0,\"#440154\"],[0.1111111111111111,\"#482878\"],[0.2222222222222222,\"#3e4989\"],[0.3333333333333333,\"#31688e\"],[0.4444444444444444,\"#26828e\"],[0.5555555555555556,\"#1f9e89\"],[0.6666666666666666,\"#35b779\"],[0.7777777777777778,\"#6ece58\"],[0.8888888888888888,\"#b5de2b\"],[1.0,\"#fde725\"]],\"type\":\"histogram2d\"}],\"histogram\":[{\"marker\":{\"line\":{\"color\":\"white\",\"width\":0.6}},\"type\":\"histogram\"}],\"mesh3d\":[{\"colorbar\":{\"outlinewidth\":1,\"tickcolor\":\"rgb(36,36,36)\",\"ticks\":\"outside\"},\"type\":\"mesh3d\"}],\"parcoords\":[{\"line\":{\"colorbar\":{\"outlinewidth\":1,\"tickcolor\":\"rgb(36,36,36)\",\"ticks\":\"outside\"}},\"type\":\"parcoords\"}],\"pie\":[{\"automargin\":true,\"type\":\"pie\"}],\"scatter3d\":[{\"line\":{\"colorbar\":{\"outlinewidth\":1,\"tickcolor\":\"rgb(36,36,36)\",\"ticks\":\"outside\"}},\"marker\":{\"colorbar\":{\"outlinewidth\":1,\"tickcolor\":\"rgb(36,36,36)\",\"ticks\":\"outside\"}},\"type\":\"scatter3d\"}],\"scattercarpet\":[{\"marker\":{\"colorbar\":{\"outlinewidth\":1,\"tickcolor\":\"rgb(36,36,36)\",\"ticks\":\"outside\"}},\"type\":\"scattercarpet\"}],\"scattergeo\":[{\"marker\":{\"colorbar\":{\"outlinewidth\":1,\"tickcolor\":\"rgb(36,36,36)\",\"ticks\":\"outside\"}},\"type\":\"scattergeo\"}],\"scattergl\":[{\"marker\":{\"colorbar\":{\"outlinewidth\":1,\"tickcolor\":\"rgb(36,36,36)\",\"ticks\":\"outside\"}},\"type\":\"scattergl\"}],\"scattermapbox\":[{\"marker\":{\"colorbar\":{\"outlinewidth\":1,\"tickcolor\":\"rgb(36,36,36)\",\"ticks\":\"outside\"}},\"type\":\"scattermapbox\"}],\"scatterpolargl\":[{\"marker\":{\"colorbar\":{\"outlinewidth\":1,\"tickcolor\":\"rgb(36,36,36)\",\"ticks\":\"outside\"}},\"type\":\"scatterpolargl\"}],\"scatterpolar\":[{\"marker\":{\"colorbar\":{\"outlinewidth\":1,\"tickcolor\":\"rgb(36,36,36)\",\"ticks\":\"outside\"}},\"type\":\"scatterpolar\"}],\"scatter\":[{\"fillpattern\":{\"fillmode\":\"overlay\",\"size\":10,\"solidity\":0.2},\"type\":\"scatter\"}],\"scatterternary\":[{\"marker\":{\"colorbar\":{\"outlinewidth\":1,\"tickcolor\":\"rgb(36,36,36)\",\"ticks\":\"outside\"}},\"type\":\"scatterternary\"}],\"surface\":[{\"colorbar\":{\"outlinewidth\":1,\"tickcolor\":\"rgb(36,36,36)\",\"ticks\":\"outside\"},\"colorscale\":[[0.0,\"#440154\"],[0.1111111111111111,\"#482878\"],[0.2222222222222222,\"#3e4989\"],[0.3333333333333333,\"#31688e\"],[0.4444444444444444,\"#26828e\"],[0.5555555555555556,\"#1f9e89\"],[0.6666666666666666,\"#35b779\"],[0.7777777777777778,\"#6ece58\"],[0.8888888888888888,\"#b5de2b\"],[1.0,\"#fde725\"]],\"type\":\"surface\"}],\"table\":[{\"cells\":{\"fill\":{\"color\":\"rgb(237,237,237)\"},\"line\":{\"color\":\"white\"}},\"header\":{\"fill\":{\"color\":\"rgb(217,217,217)\"},\"line\":{\"color\":\"white\"}},\"type\":\"table\"}]},\"layout\":{\"annotationdefaults\":{\"arrowhead\":0,\"arrowwidth\":1},\"autotypenumbers\":\"strict\",\"coloraxis\":{\"colorbar\":{\"outlinewidth\":1,\"tickcolor\":\"rgb(36,36,36)\",\"ticks\":\"outside\"}},\"colorscale\":{\"diverging\":[[0.0,\"rgb(103,0,31)\"],[0.1,\"rgb(178,24,43)\"],[0.2,\"rgb(214,96,77)\"],[0.3,\"rgb(244,165,130)\"],[0.4,\"rgb(253,219,199)\"],[0.5,\"rgb(247,247,247)\"],[0.6,\"rgb(209,229,240)\"],[0.7,\"rgb(146,197,222)\"],[0.8,\"rgb(67,147,195)\"],[0.9,\"rgb(33,102,172)\"],[1.0,\"rgb(5,48,97)\"]],\"sequential\":[[0.0,\"#440154\"],[0.1111111111111111,\"#482878\"],[0.2222222222222222,\"#3e4989\"],[0.3333333333333333,\"#31688e\"],[0.4444444444444444,\"#26828e\"],[0.5555555555555556,\"#1f9e89\"],[0.6666666666666666,\"#35b779\"],[0.7777777777777778,\"#6ece58\"],[0.8888888888888888,\"#b5de2b\"],[1.0,\"#fde725\"]],\"sequentialminus\":[[0.0,\"#440154\"],[0.1111111111111111,\"#482878\"],[0.2222222222222222,\"#3e4989\"],[0.3333333333333333,\"#31688e\"],[0.4444444444444444,\"#26828e\"],[0.5555555555555556,\"#1f9e89\"],[0.6666666666666666,\"#35b779\"],[0.7777777777777778,\"#6ece58\"],[0.8888888888888888,\"#b5de2b\"],[1.0,\"#fde725\"]]},\"colorway\":[\"#91268F\",\"#8CC63E\",\"#00A7A0\",\"#F05A28\",\"#4C4C4C\",\"#630460\",\"#9f3913\",\"#588527\",\"#00716c\",\"#3e4040\"],\"font\":{\"color\":\"rgb(36,36,36)\",\"family\":\"Poppins\",\"size\":11},\"geo\":{\"bgcolor\":\"white\",\"lakecolor\":\"white\",\"landcolor\":\"white\",\"showlakes\":true,\"showland\":true,\"subunitcolor\":\"white\"},\"hoverlabel\":{\"align\":\"left\"},\"hovermode\":\"closest\",\"mapbox\":{\"style\":\"light\"},\"paper_bgcolor\":\"white\",\"plot_bgcolor\":\"white\",\"polar\":{\"angularaxis\":{\"gridcolor\":\"rgb(232,232,232)\",\"linecolor\":\"rgb(36,36,36)\",\"showgrid\":false,\"showline\":true,\"ticks\":\"outside\"},\"bgcolor\":\"white\",\"radialaxis\":{\"gridcolor\":\"rgb(232,232,232)\",\"linecolor\":\"rgb(36,36,36)\",\"showgrid\":false,\"showline\":true,\"ticks\":\"outside\"}},\"scene\":{\"xaxis\":{\"backgroundcolor\":\"white\",\"gridcolor\":\"rgb(232,232,232)\",\"gridwidth\":2,\"linecolor\":\"rgb(36,36,36)\",\"showbackground\":true,\"showgrid\":false,\"showline\":true,\"ticks\":\"outside\",\"zeroline\":false,\"zerolinecolor\":\"rgb(36,36,36)\"},\"yaxis\":{\"backgroundcolor\":\"white\",\"gridcolor\":\"rgb(232,232,232)\",\"gridwidth\":2,\"linecolor\":\"rgb(36,36,36)\",\"showbackground\":true,\"showgrid\":false,\"showline\":true,\"ticks\":\"outside\",\"zeroline\":false,\"zerolinecolor\":\"rgb(36,36,36)\"},\"zaxis\":{\"backgroundcolor\":\"white\",\"gridcolor\":\"rgb(232,232,232)\",\"gridwidth\":2,\"linecolor\":\"rgb(36,36,36)\",\"showbackground\":true,\"showgrid\":false,\"showline\":true,\"ticks\":\"outside\",\"zeroline\":false,\"zerolinecolor\":\"rgb(36,36,36)\"}},\"shapedefaults\":{\"fillcolor\":\"black\",\"line\":{\"width\":0},\"opacity\":0.3},\"ternary\":{\"aaxis\":{\"gridcolor\":\"rgb(232,232,232)\",\"linecolor\":\"rgb(36,36,36)\",\"showgrid\":false,\"showline\":true,\"ticks\":\"outside\"},\"baxis\":{\"gridcolor\":\"rgb(232,232,232)\",\"linecolor\":\"rgb(36,36,36)\",\"showgrid\":false,\"showline\":true,\"ticks\":\"outside\"},\"bgcolor\":\"white\",\"caxis\":{\"gridcolor\":\"rgb(232,232,232)\",\"linecolor\":\"rgb(36,36,36)\",\"showgrid\":false,\"showline\":true,\"ticks\":\"outside\"}},\"title\":{\"x\":0.05},\"xaxis\":{\"automargin\":true,\"gridcolor\":\"rgb(232,232,232)\",\"linecolor\":\"rgb(36,36,36)\",\"showgrid\":false,\"showline\":true,\"ticks\":\"outside\",\"title\":{\"standoff\":15},\"zeroline\":false,\"zerolinecolor\":\"rgb(36,36,36)\"},\"yaxis\":{\"automargin\":true,\"gridcolor\":\"rgb(232,232,232)\",\"linecolor\":\"rgb(36,36,36)\",\"showgrid\":false,\"showline\":true,\"ticks\":\"outside\",\"title\":{\"standoff\":15},\"zeroline\":false,\"zerolinecolor\":\"rgb(36,36,36)\"}}},\"xaxis\":{\"anchor\":\"y\",\"domain\":[0.0,1.0],\"title\":{\"text\":\"Capacity\"}},\"yaxis\":{\"anchor\":\"x\",\"domain\":[0.0,1.0],\"title\":{\"text\":\"Model Boardings\"}},\"legend\":{\"title\":{\"text\":\"color\"},\"tracegroupgap\":0},\"title\":{\"text\":\"Model Boardings vs Capacity\"},\"height\":600,\"width\":800},                        {\"responsive\": true}                    ).then(function(){\n",
       "                            \n",
       "var gd = document.getElementById('5575bd51-7170-4b2a-ae2b-fef68c2667cf');\n",
       "var x = new MutationObserver(function (mutations, observer) {{\n",
       "        var display = window.getComputedStyle(gd).display;\n",
       "        if (!display || display === 'none') {{\n",
       "            console.log([gd, 'removed!']);\n",
       "            Plotly.purge(gd);\n",
       "            observer.disconnect();\n",
       "        }}\n",
       "}});\n",
       "\n",
       "// Listen for the removal of the full notebook cells\n",
       "var notebookContainer = gd.closest('#notebook-container');\n",
       "if (notebookContainer) {{\n",
       "    x.observe(notebookContainer, {childList: true});\n",
       "}}\n",
       "\n",
       "// Listen for the clearing of the current output cell\n",
       "var outputEl = gd.closest('.output');\n",
       "if (outputEl) {{\n",
       "    x.observe(outputEl, {childList: true});\n",
       "}}\n",
       "\n",
       "                        })                };                });            </script>        </div>"
      ]
     },
     "metadata": {},
     "output_type": "display_data"
    }
   ],
   "source": [
    "df['color'] = np.where(df['Boardings/Capacity'] > 1, 'Boardings/Capacity > 1', 'Boardings/Capacity <= 1')\n",
    "\n",
    "fig = px.scatter(df, y='Model Boardings', x='Capacity', title='Model Boardings vs Capacity',\n",
    "                 hover_data={'name': True, 'Model Boardings': True, 'Capacity': True, 'Boardings/Capacity': ':.2f'},\n",
    "                 color='color')\n",
    "fig.update_layout(height=600, width=800)\n",
    "fig.show()"
   ]
  },
  {
   "cell_type": "code",
   "execution_count": 153,
   "id": "2f976d83",
   "metadata": {},
   "outputs": [
    {
     "data": {
      "application/vnd.plotly.v1+json": {
       "config": {
        "plotlyServerURL": "https://plot.ly"
       },
       "data": [
        {
         "customdata": [
          [
           "Tukwila Station (CR)",
           3751,
           99,
           390
          ],
          [
           "Tacoma Dome Station",
           3752,
           265,
           2337
          ],
          [
           "Everett Station (CR)",
           3754,
           69,
           1107
          ],
          [
           "Sumner Station (CR)",
           3755,
           261,
           350
          ],
          [
           "Mukilteo Station",
           3756,
           1,
           63
          ],
          [
           "Kent Station (CR)",
           3757,
           448,
           996
          ],
          [
           "Auburn Station (CR)",
           3758,
           641,
           633
          ],
          [
           "Lakewood (CR)",
           3759,
           4,
           601
          ],
          [
           "Gateway P&R",
           3760,
           18,
           104
          ],
          [
           "Puyallup Station (SB)",
           3761,
           19,
           50
          ],
          [
           "Twin Lakes P&R",
           3762,
           3,
           600
          ],
          [
           "Crossroads Neighborhood Church",
           3763,
           3,
           107
          ],
          [
           "Overlake Transit Center",
           3764,
           132,
           222
          ],
          [
           "North Gig Harbor/Kimball Drive",
           3766,
           5,
           306
          ],
          [
           "Duvall P&R",
           3767,
           2,
           49
          ],
          [
           "Roy 'Y' P&R",
           3768,
           2,
           100
          ],
          [
           "South Hill (Elim Evangelical)",
           3769,
           16,
           20
          ],
          [
           "Parkland Transit Center",
           3770,
           2,
           62
          ],
          [
           "SR-512/I-5 (Lakewood)",
           3771,
           15,
           493
          ],
          [
           "Center Street P&R",
           3772,
           11,
           75
          ],
          [
           "Tacoma Mall Transit Center",
           3773,
           21,
           150
          ],
          [
           "South Tacoma West",
           3774,
           6,
           78
          ],
          [
           "South Tacoma East - 2",
           3775,
           1,
           44
          ],
          [
           "Narrows P&R",
           3776,
           1,
           195
          ],
          [
           "North Purdy/Purdy Crescent",
           3777,
           2,
           200
          ],
          [
           "Point Defiance Ferry",
           3778,
           4,
           79
          ],
          [
           "South Federal P&R",
           3779,
           5,
           515
          ],
          [
           "Federal Way P&R (320th)",
           3781,
           87,
           877
          ],
          [
           "Auburn P&R",
           3782,
           5,
           244
          ],
          [
           "Star Lake P&R",
           3783,
           1,
           540
          ],
          [
           "Holy Spirit Lutheran Church",
           3784,
           20,
           40
          ],
          [
           "Kent/Des Moines P&R",
           3785,
           6,
           404
          ],
          [
           "Kent/James St. P&R",
           3786,
           86,
           713
          ],
          [
           "Burien Transit Center",
           3787,
           23,
           488
          ],
          [
           "Tukwila",
           3788,
           16,
           267
          ],
          [
           "Maple Valley P&R",
           3789,
           2,
           122
          ],
          [
           "South Renton P&R",
           3790,
           40,
           385
          ],
          [
           "Renton Highlands P&R (St. Matts)",
           3791,
           3,
           128
          ],
          [
           "Issaquah Transit Center",
           3792,
           28,
           819
          ],
          [
           "Mercer Island P&R",
           3793,
           184,
           447
          ],
          [
           "Mercer Island Presbyterian",
           3794,
           23,
           30
          ],
          [
           "Newport Hills P&R",
           3795,
           5,
           275
          ],
          [
           "Newport Hills Community Church",
           3796,
           1,
           37
          ],
          [
           "Newport Covenant Church",
           3797,
           2,
           75
          ],
          [
           "South Bellevue P&R",
           3798,
           47,
           519
          ],
          [
           "Wilburton",
           3799,
           20,
           186
          ],
          [
           "Eastgate P&R",
           3800,
           51,
           1614
          ],
          [
           "North Bend P&R",
           3801,
           6,
           80
          ],
          [
           "Evergreen Point P&R",
           3802,
           10,
           38
          ],
          [
           "Grace Lutheran Church",
           3803,
           31,
           50
          ],
          [
           "South Kirkland P&R",
           3804,
           22,
           833
          ],
          [
           "Overlake P&R",
           3805,
           59,
           203
          ],
          [
           "Houghton P&R",
           3806,
           6,
           470
          ],
          [
           "Bethel Lutheran",
           3807,
           2,
           40
          ],
          [
           "Redmond P&R",
           3808,
           57,
           377
          ],
          [
           "Saint Thomas Episcopal",
           3809,
           21,
           48
          ],
          [
           "Valley Center",
           3810,
           2,
           55
          ],
          [
           "Bear Creek P&R",
           3811,
           17,
           283
          ],
          [
           "Kingsgate P&R",
           3812,
           57,
           502
          ],
          [
           "Brickyard P&R",
           3813,
           5,
           443
          ],
          [
           "Northshore P&R",
           3814,
           24,
           376
          ],
          [
           "Kenmore P&R",
           3815,
           63,
           603
          ],
          [
           "Bethany Bible Church",
           3816,
           121,
           75
          ],
          [
           "Bothell P&R",
           3817,
           100,
           220
          ],
          [
           "Woodinville P&R",
           3818,
           14,
           438
          ],
          [
           "Olson & Meyers",
           3819,
           16,
           100
          ],
          [
           "Spokane Street P&R",
           3820,
           73,
           55
          ],
          [
           "Greenlake P&R",
           3821,
           85,
           411
          ],
          [
           "Northgate TC",
           3822,
           4680,
           1509
          ],
          [
           "North Jackson Park",
           3823,
           62,
           68
          ],
          [
           "Shoreline",
           3824,
           36,
           393
          ],
          [
           "112th St. & I-5",
           3825,
           12,
           397
          ],
          [
           "Ober Park",
           3826,
           5,
           48
          ],
          [
           "Vashon Heights",
           3827,
           45,
           230
          ],
          [
           "Mountlake Terrace P&R",
           3828,
           26,
           880
          ],
          [
           "Bethesda Lutheran",
           3829,
           13,
           20
          ],
          [
           "Edmonds Station",
           3830,
           6,
           259
          ],
          [
           "Edmonds P&R",
           3831,
           6,
           255
          ],
          [
           "Lynnwood P&R",
           3832,
           10,
           1398
          ],
          [
           "Swamp Creek P&R",
           3833,
           19,
           410
          ],
          [
           "Mariner P&R",
           3834,
           24,
           667
          ],
          [
           "Snohomish",
           3835,
           8,
           104
          ],
          [
           "Marysville - Ash Ave",
           3836,
           3,
           202
          ],
          [
           "Arlington P&R",
           3839,
           2,
           25
          ],
          [
           "Monroe",
           3841,
           3,
           102
          ],
          [
           "Federal Way",
           3842,
           34,
           1190
          ],
          [
           "Port Orchard Armory",
           3843,
           34,
           105
          ],
          [
           "Southworth Ferry P&R",
           3844,
           45,
           318
          ],
          [
           "McWilliams P&R",
           3845,
           1,
           151
          ],
          [
           "Bethany Lutheran Church",
           3846,
           13,
           80
          ],
          [
           "Gateway Fellowship",
           3847,
           8,
           138
          ],
          [
           "Kingston Ferry P&R",
           3849,
           2,
           72
          ],
          [
           "Suquamish United Church of Christ",
           3850,
           2,
           65
          ],
          [
           "Bainbridge Island Ferry",
           3851,
           83,
           187
          ],
          [
           "Puyallup Station (NB)",
           3852,
           87,
           364
          ],
          [
           "72nd Street Transit Center",
           3853,
           7,
           68
          ],
          [
           "DuPont",
           3855,
           1,
           109
          ],
          [
           "Aurora Village TC",
           3856,
           51,
           202
          ],
          [
           "Aurora Nazarene",
           3857,
           19,
           116
          ],
          [
           "Saint Margaret's Episcopal",
           3858,
           15,
           64
          ],
          [
           "Lake Meridian P&R",
           3861,
           25,
           172
          ],
          [
           "Smokey Pt. Church",
           3862,
           5,
           50
          ],
          [
           "Eastmont P&R",
           3863,
           1,
           389
          ],
          [
           "McCollum Park P&R",
           3864,
           19,
           409
          ],
          [
           "Canyon Park P&R",
           3865,
           11,
           302
          ],
          [
           "Korean Presby. P&R",
           3866,
           20,
           25
          ],
          [
           "Poulsbo Church of the Nazarene",
           3868,
           1,
           266
          ],
          [
           "Harper Evangelical Free Church",
           3870,
           11,
           462
          ],
          [
           "Mullenix Road",
           3871,
           2,
           92
          ],
          [
           "TCC P&R",
           3873,
           17,
           95
          ],
          [
           "Ash Way P&R",
           3874,
           80,
           1022
          ],
          [
           "Bonney Lake P&R",
           3875,
           5,
           356
          ],
          [
           "Tukwila Int. Station",
           3876,
           522,
           662
          ],
          [
           "South Hill P&R",
           3877,
           9,
           354
          ],
          [
           "South Tacoma East - 1",
           3878,
           2,
           33
          ],
          [
           "Issaquah Highlands",
           3879,
           28,
           1010
          ],
          [
           "Lake Stevens TC",
           3880,
           4,
           207
          ],
          [
           "Liberty Bay Presbyterian",
           3881,
           1,
           90
          ],
          [
           "NK Baptist",
           3882,
           2,
           57
          ],
          [
           "Preston P&R",
           3883,
           36,
           53
          ],
          [
           "Bayside Community Church",
           3884,
           3,
           210
          ],
          [
           "Bremerton Ferry",
           3886,
           45,
           566
          ],
          [
           "Puyallup Fair's Red Lot",
           3888,
           411,
           219
          ],
          [
           "Marysville - Cedar & Grove",
           3889,
           5,
           213
          ],
          [
           "Marysville I P&R",
           3891,
           2,
           74
          ],
          [
           "Martha Lake Covenant Church",
           3892,
           2,
           75
          ],
          [
           "South Sammammish P&R",
           3893,
           2,
           265
          ],
          [
           "Renton City Municipal Garage",
           3894,
           19,
           150
          ],
          [
           "Tibbetts Lot",
           3895,
           6,
           170
          ],
          [
           "Renton Transit Center",
           3896,
           15,
           150
          ],
          [
           "Calvary Christian Assembly",
           3897,
           77,
           125
          ],
          [
           "Maple Valley Town Square",
           3898,
           2,
           90
          ],
          [
           "All Saints Lutheran Church",
           3899,
           3,
           75
          ],
          [
           "City View Church",
           3900,
           57,
           96
          ],
          [
           "Northwest University 6710 Bldg.",
           3901,
           18,
           61
          ],
          [
           "Sammamish Lutheran P&R",
           3902,
           3,
           54
          ],
          [
           "Redmond Ridge P&R",
           3903,
           1,
           52
          ],
          [
           "Kennydale United Methodist Church",
           3904,
           8,
           50
          ],
          [
           "Nativity Lutheran Church",
           3905,
           2,
           49
          ],
          [
           "South SeaTac (LR)",
           3907,
           1876,
           1160
          ],
          [
           "Everett Station",
           3908,
           48,
           160
          ],
          [
           null,
           3951,
           10,
           54
          ]
         ],
         "hovertemplate": "Boardings/Capacity=%{marker.color}<br>lat=%{lat}<br>lon=%{lon}<br>name=%{customdata[0]}<br>taz=%{customdata[1]}<br>Model Boardings=%{customdata[2]}<br>Capacity=%{customdata[3]}<extra></extra>",
         "lat": [
          47.459791189113055,
          47.240587026940496,
          47.97553008822413,
          47.201048326678425,
          47.949202090593815,
          47.383970408531425,
          47.30597098022815,
          47.153298431654285,
          47.56718379854233,
          47.193060762628754,
          47.29373336434266,
          47.631646481329874,
          47.64429306998266,
          47.3163618931415,
          47.74282207119212,
          47.08271784155433,
          47.140757778268615,
          47.14791172694066,
          47.161484802874284,
          47.23400250827875,
          47.21362968300981,
          47.20552052830966,
          47.20622110948438,
          47.25600193981221,
          47.38923379023241,
          47.30559584671795,
          47.289041380796476,
          47.31163591874175,
          47.32142070370895,
          47.358683156241256,
          47.7104244936842,
          47.39168729512872,
          47.38491251743171,
          47.469518524026284,
          47.48197741301064,
          47.39722692921272,
          47.47271938615727,
          47.50715467593467,
          47.5421344859425,
          47.58878969142359,
          47.57701316304821,
          47.55704702946253,
          47.55136704272614,
          47.564129961427035,
          47.58629181288903,
          47.60395259926627,
          47.580583829158485,
          47.49597432021159,
          47.63677734251024,
          47.616380743797244,
          47.64418998070187,
          47.63297717439434,
          47.66816331814846,
          47.75569187858501,
          47.6765003576322,
          47.62160396082053,
          47.42287235072545,
          47.674169895277565,
          47.71630675038611,
          47.74096553654258,
          47.76143815613439,
          47.75869948424539,
          47.75911072833425,
          47.759457740337254,
          47.75702879699488,
          47.520273185221846,
          47.571714184646375,
          47.67673605768736,
          47.70239443761157,
          47.735650070604855,
          47.76687666732243,
          47.897149496501655,
          47.45193656025647,
          47.50832497753617,
          47.786023838048486,
          47.786405217140484,
          47.81083814590226,
          47.805505328682436,
          47.81595811606588,
          47.851158747803034,
          47.879273837323716,
          47.931600004686565,
          48.052799958531104,
          48.196226663014926,
          47.86853209498515,
          47.31771355238481,
          47.53346196599079,
          47.51175930997434,
          47.620810382951404,
          47.635076024273125,
          47.733914565835,
          47.798924738192895,
          47.733267845932694,
          47.62400593156234,
          47.19226982725735,
          47.192971542906285,
          47.08990334694735,
          47.77471134386238,
          47.75619875057065,
          47.56885032852624,
          47.36115476012324,
          48.15732422532287,
          47.91577651606941,
          47.880528888492265,
          47.79421797219861,
          47.78299309998247,
          47.759682723438075,
          47.50395364516145,
          47.4683127358232,
          47.24317915202268,
          47.852265826626585,
          47.17424906089401,
          47.46462822513558,
          47.161515219367466,
          47.20690802107854,
          47.54548131124219,
          47.99833018258796,
          47.73132891345255,
          47.74896727800608,
          47.52729295506841,
          47.799607552327174,
          47.56371171355699,
          47.185461659521216,
          48.06186352787003,
          48.05093832410037,
          47.85078851793791,
          47.582163360805794,
          47.48065386274714,
          47.54050303955318,
          47.48170670581923,
          47.67825835598132,
          47.36261650204512,
          47.35719493962773,
          47.48028761734057,
          47.66655727817533,
          47.601973031740954,
          47.68558355990292,
          47.51822107506604,
          47.4435715904644,
          47.42300305792277,
          47.60111801912681,
          47.302354813300944
         ],
         "legendgroup": "",
         "lon": [
          -122.24142204292801,
          -122.42559764232288,
          -122.19768602099377,
          -122.24474142310243,
          -122.29903798331632,
          -122.23410004243462,
          -122.23148352515318,
          -122.49859252745824,
          -122.65169744997347,
          -122.29627387444259,
          -122.3599437944882,
          -122.6376553285978,
          -122.13352825516421,
          -122.58550724037367,
          -121.98519670565817,
          -122.43467115344275,
          -122.30342870923496,
          -122.43537507130094,
          -122.4832269556689,
          -122.49605950380925,
          -122.46823390072736,
          -122.46332756461389,
          -122.4595315453806,
          -122.53268859436118,
          -122.62545806801099,
          -122.51464330348125,
          -122.32271243809302,
          -122.30155617219685,
          -122.22738331793343,
          -122.29854675639369,
          -122.20748786443893,
          -122.28801450038526,
          -122.24251278515935,
          -122.33865108623566,
          -122.26898729590523,
          -122.04489635419205,
          -122.2140249890397,
          -122.18367513597434,
          -122.06181211149554,
          -122.23166518784704,
          -122.22739995414824,
          -122.1886194896657,
          -122.17957103217213,
          -122.17018509756201,
          -122.1904053737166,
          -122.1855070751748,
          -122.15247915819556,
          -121.78890814933835,
          -122.23793067783187,
          -122.21058496428182,
          -122.19692070930883,
          -122.1356025761157,
          -122.18466300042218,
          -122.31907049448232,
          -122.12357646358394,
          -122.22848578037559,
          -122.4617588893532,
          -122.10086680270592,
          -122.18764374421475,
          -122.18801850253551,
          -122.25089711182129,
          -122.24193472527783,
          -122.25940207427163,
          -122.20174474164908,
          -122.15150344952004,
          -122.33619477501689,
          -122.36486292041623,
          -122.3207479132486,
          -122.3263535981885,
          -122.3238311992929,
          -122.34679899076795,
          -122.21539257019184,
          -122.45962271847641,
          -122.46527095271402,
          -122.31456649794684,
          -122.30895559283637,
          -122.38443648143998,
          -122.33045854744478,
          -122.29397697243073,
          -122.2762912947167,
          -122.23819674557204,
          -122.10076917207742,
          -122.18350218748834,
          -122.129183066928,
          -121.9960708438206,
          -122.30476126399772,
          -122.61872855042411,
          -122.4985314823769,
          -122.62808145181158,
          -122.53684064463692,
          -122.63927304886704,
          -122.497145659761,
          -122.55779654978755,
          -122.51049641551649,
          -122.29638289622436,
          -122.41141133327692,
          -122.6408244608136,
          -122.34274243377105,
          -122.33571558742703,
          -122.16885945632364,
          -122.16596694150272,
          -122.18235612206618,
          -122.2039867300772,
          -122.22076355008004,
          -122.21165372444678,
          -122.34737059623502,
          -122.65215146199641,
          -122.51509635593781,
          -122.6219458140525,
          -122.52527889141626,
          -122.25855174480624,
          -122.18490269497767,
          -122.28690849789872,
          -122.30486983988138,
          -122.45925556454627,
          -122.01943008905627,
          -122.1037985047417,
          -122.63760529985272,
          -122.6376022779008,
          -121.93697928446608,
          -122.508528546698,
          -122.6250481725124,
          -122.29928303340452,
          -122.17950440147415,
          -122.18326561243495,
          -122.2711389215377,
          -122.03642859327114,
          -122.20850143259241,
          -122.06172743208168,
          -122.20744093150329,
          -122.31799001747187,
          -122.0201427495308,
          -122.29322515985572,
          -122.22017447638363,
          -122.19590687558149,
          -122.03476548005801,
          -122.03407154200131,
          -122.20129952764448,
          -122.15522089858798,
          -122.29884833358034,
          -122.63061955933047,
          -122.25777874175822
         ],
         "marker": {
          "color": [
           0.25384615384615383,
           0.11339323919554985,
           0.06233062330623306,
           0.7457142857142857,
           0.015873015873015872,
           0.4497991967871486,
           1.0126382306477093,
           0.0066555740432612314,
           0.17307692307692307,
           0.38,
           0.005,
           0.028037383177570093,
           0.5945945945945946,
           0.016339869281045753,
           0.04081632653061224,
           0.02,
           0.8,
           0.03225806451612903,
           0.030425963488843813,
           0.14666666666666667,
           0.14,
           0.07692307692307693,
           0.022727272727272728,
           0.005128205128205128,
           0.01,
           0.05063291139240506,
           0.009708737864077669,
           0.09920182440136831,
           0.020491803278688523,
           0.001851851851851852,
           0.5,
           0.01485148514851485,
           0.12061711079943899,
           0.0471311475409836,
           0.0599250936329588,
           0.01639344262295082,
           0.1038961038961039,
           0.0234375,
           0.03418803418803419,
           0.4116331096196868,
           0.7666666666666667,
           0.01818181818181818,
           0.02702702702702703,
           0.02666666666666667,
           0.0905587668593449,
           0.10752688172043011,
           0.031598513011152414,
           0.075,
           0.2631578947368421,
           0.62,
           0.026410564225690276,
           0.29064039408866993,
           0.01276595744680851,
           0.05,
           0.15119363395225463,
           0.4375,
           0.03636363636363636,
           0.06007067137809187,
           0.11354581673306773,
           0.011286681715575621,
           0.06382978723404255,
           0.1044776119402985,
           1.6133333333333333,
           0.45454545454545453,
           0.0319634703196347,
           0.16,
           1.3272727272727274,
           0.20681265206812652,
           3.1013916500994037,
           0.9117647058823529,
           0.0916030534351145,
           0.030226700251889168,
           0.10416666666666667,
           0.1956521739130435,
           0.029545454545454545,
           0.65,
           0.023166023166023165,
           0.023529411764705882,
           0.00715307582260372,
           0.046341463414634146,
           0.035982008995502246,
           0.07692307692307693,
           0.01485148514851485,
           0.08,
           0.029411764705882353,
           0.02857142857142857,
           0.3238095238095238,
           0.14150943396226415,
           0.006622516556291391,
           0.1625,
           0.057971014492753624,
           0.027777777777777776,
           0.03076923076923077,
           0.44385026737967914,
           0.23901098901098902,
           0.10294117647058823,
           0.009174311926605505,
           0.2524752475247525,
           0.16379310344827586,
           0.234375,
           0.14534883720930233,
           0.1,
           0.002570694087403599,
           0.04645476772616137,
           0.03642384105960265,
           0.8,
           0.0037593984962406013,
           0.023809523809523808,
           0.021739130434782608,
           0.17894736842105263,
           0.07827788649706457,
           0.014044943820224719,
           0.7885196374622356,
           0.025423728813559324,
           0.06060606060606061,
           0.027722772277227723,
           0.01932367149758454,
           0.011111111111111112,
           0.03508771929824561,
           0.6792452830188679,
           0.014285714285714285,
           0.07950530035335689,
           1.8767123287671232,
           0.023474178403755867,
           0.02702702702702703,
           0.02666666666666667,
           0.007547169811320755,
           0.12666666666666668,
           0.03529411764705882,
           0.1,
           0.616,
           0.022222222222222223,
           0.04,
           0.59375,
           0.29508196721311475,
           0.05555555555555555,
           0.019230769230769232,
           0.16,
           0.04081632653061224,
           1.6172413793103448,
           0.3,
           0.18518518518518517
          ],
          "coloraxis": "coloraxis",
          "size": [
           0.25384615384615383,
           0.11339323919554985,
           0.06233062330623306,
           0.7457142857142857,
           0.015873015873015872,
           0.4497991967871486,
           1.0126382306477093,
           0.0066555740432612314,
           0.17307692307692307,
           0.38,
           0.005,
           0.028037383177570093,
           0.5945945945945946,
           0.016339869281045753,
           0.04081632653061224,
           0.02,
           0.8,
           0.03225806451612903,
           0.030425963488843813,
           0.14666666666666667,
           0.14,
           0.07692307692307693,
           0.022727272727272728,
           0.005128205128205128,
           0.01,
           0.05063291139240506,
           0.009708737864077669,
           0.09920182440136831,
           0.020491803278688523,
           0.001851851851851852,
           0.5,
           0.01485148514851485,
           0.12061711079943899,
           0.0471311475409836,
           0.0599250936329588,
           0.01639344262295082,
           0.1038961038961039,
           0.0234375,
           0.03418803418803419,
           0.4116331096196868,
           0.7666666666666667,
           0.01818181818181818,
           0.02702702702702703,
           0.02666666666666667,
           0.0905587668593449,
           0.10752688172043011,
           0.031598513011152414,
           0.075,
           0.2631578947368421,
           0.62,
           0.026410564225690276,
           0.29064039408866993,
           0.01276595744680851,
           0.05,
           0.15119363395225463,
           0.4375,
           0.03636363636363636,
           0.06007067137809187,
           0.11354581673306773,
           0.011286681715575621,
           0.06382978723404255,
           0.1044776119402985,
           1.6133333333333333,
           0.45454545454545453,
           0.0319634703196347,
           0.16,
           1.3272727272727274,
           0.20681265206812652,
           3.1013916500994037,
           0.9117647058823529,
           0.0916030534351145,
           0.030226700251889168,
           0.10416666666666667,
           0.1956521739130435,
           0.029545454545454545,
           0.65,
           0.023166023166023165,
           0.023529411764705882,
           0.00715307582260372,
           0.046341463414634146,
           0.035982008995502246,
           0.07692307692307693,
           0.01485148514851485,
           0.08,
           0.029411764705882353,
           0.02857142857142857,
           0.3238095238095238,
           0.14150943396226415,
           0.006622516556291391,
           0.1625,
           0.057971014492753624,
           0.027777777777777776,
           0.03076923076923077,
           0.44385026737967914,
           0.23901098901098902,
           0.10294117647058823,
           0.009174311926605505,
           0.2524752475247525,
           0.16379310344827586,
           0.234375,
           0.14534883720930233,
           0.1,
           0.002570694087403599,
           0.04645476772616137,
           0.03642384105960265,
           0.8,
           0.0037593984962406013,
           0.023809523809523808,
           0.021739130434782608,
           0.17894736842105263,
           0.07827788649706457,
           0.014044943820224719,
           0.7885196374622356,
           0.025423728813559324,
           0.06060606060606061,
           0.027722772277227723,
           0.01932367149758454,
           0.011111111111111112,
           0.03508771929824561,
           0.6792452830188679,
           0.014285714285714285,
           0.07950530035335689,
           1.8767123287671232,
           0.023474178403755867,
           0.02702702702702703,
           0.02666666666666667,
           0.007547169811320755,
           0.12666666666666668,
           0.03529411764705882,
           0.1,
           0.616,
           0.022222222222222223,
           0.04,
           0.59375,
           0.29508196721311475,
           0.05555555555555555,
           0.019230769230769232,
           0.16,
           0.04081632653061224,
           1.6172413793103448,
           0.3,
           0.18518518518518517
          ],
          "sizemode": "area",
          "sizeref": 0.007753479125248509
         },
         "mode": "markers",
         "name": "",
         "showlegend": false,
         "subplot": "mapbox",
         "type": "scattermapbox"
        }
       ],
       "layout": {
        "coloraxis": {
         "colorbar": {
          "title": {
           "text": "Boardings/Capacity"
          }
         },
         "colorscale": [
          [
           0,
           "#440154"
          ],
          [
           0.1111111111111111,
           "#482878"
          ],
          [
           0.2222222222222222,
           "#3e4989"
          ],
          [
           0.3333333333333333,
           "#31688e"
          ],
          [
           0.4444444444444444,
           "#26828e"
          ],
          [
           0.5555555555555556,
           "#1f9e89"
          ],
          [
           0.6666666666666666,
           "#35b779"
          ],
          [
           0.7777777777777778,
           "#6ece58"
          ],
          [
           0.8888888888888888,
           "#b5de2b"
          ],
          [
           1,
           "#fde725"
          ]
         ]
        },
        "legend": {
         "itemsizing": "constant",
         "tracegroupgap": 0
        },
        "mapbox": {
         "center": {
          "lat": 47.5665003093491,
          "lon": -122.30038854197687
         },
         "domain": {
          "x": [
           0,
           1
          ],
          "y": [
           0,
           1
          ]
         },
         "style": "carto-positron",
         "zoom": 8
        },
        "margin": {
         "b": 0,
         "l": 0,
         "r": 0,
         "t": 0
        },
        "template": {
         "data": {
          "bar": [
           {
            "error_x": {
             "color": "rgb(36,36,36)"
            },
            "error_y": {
             "color": "rgb(36,36,36)"
            },
            "marker": {
             "line": {
              "color": "white",
              "width": 0.5
             },
             "pattern": {
              "fillmode": "overlay",
              "size": 10,
              "solidity": 0.2
             }
            },
            "type": "bar"
           }
          ],
          "barpolar": [
           {
            "marker": {
             "line": {
              "color": "white",
              "width": 0.5
             },
             "pattern": {
              "fillmode": "overlay",
              "size": 10,
              "solidity": 0.2
             }
            },
            "type": "barpolar"
           }
          ],
          "carpet": [
           {
            "aaxis": {
             "endlinecolor": "rgb(36,36,36)",
             "gridcolor": "white",
             "linecolor": "white",
             "minorgridcolor": "white",
             "startlinecolor": "rgb(36,36,36)"
            },
            "baxis": {
             "endlinecolor": "rgb(36,36,36)",
             "gridcolor": "white",
             "linecolor": "white",
             "minorgridcolor": "white",
             "startlinecolor": "rgb(36,36,36)"
            },
            "type": "carpet"
           }
          ],
          "choropleth": [
           {
            "colorbar": {
             "outlinewidth": 1,
             "tickcolor": "rgb(36,36,36)",
             "ticks": "outside"
            },
            "type": "choropleth"
           }
          ],
          "contour": [
           {
            "colorbar": {
             "outlinewidth": 1,
             "tickcolor": "rgb(36,36,36)",
             "ticks": "outside"
            },
            "colorscale": [
             [
              0,
              "#440154"
             ],
             [
              0.1111111111111111,
              "#482878"
             ],
             [
              0.2222222222222222,
              "#3e4989"
             ],
             [
              0.3333333333333333,
              "#31688e"
             ],
             [
              0.4444444444444444,
              "#26828e"
             ],
             [
              0.5555555555555556,
              "#1f9e89"
             ],
             [
              0.6666666666666666,
              "#35b779"
             ],
             [
              0.7777777777777778,
              "#6ece58"
             ],
             [
              0.8888888888888888,
              "#b5de2b"
             ],
             [
              1,
              "#fde725"
             ]
            ],
            "type": "contour"
           }
          ],
          "contourcarpet": [
           {
            "colorbar": {
             "outlinewidth": 1,
             "tickcolor": "rgb(36,36,36)",
             "ticks": "outside"
            },
            "type": "contourcarpet"
           }
          ],
          "heatmap": [
           {
            "colorbar": {
             "outlinewidth": 1,
             "tickcolor": "rgb(36,36,36)",
             "ticks": "outside"
            },
            "colorscale": [
             [
              0,
              "#440154"
             ],
             [
              0.1111111111111111,
              "#482878"
             ],
             [
              0.2222222222222222,
              "#3e4989"
             ],
             [
              0.3333333333333333,
              "#31688e"
             ],
             [
              0.4444444444444444,
              "#26828e"
             ],
             [
              0.5555555555555556,
              "#1f9e89"
             ],
             [
              0.6666666666666666,
              "#35b779"
             ],
             [
              0.7777777777777778,
              "#6ece58"
             ],
             [
              0.8888888888888888,
              "#b5de2b"
             ],
             [
              1,
              "#fde725"
             ]
            ],
            "type": "heatmap"
           }
          ],
          "heatmapgl": [
           {
            "colorbar": {
             "outlinewidth": 1,
             "tickcolor": "rgb(36,36,36)",
             "ticks": "outside"
            },
            "colorscale": [
             [
              0,
              "#440154"
             ],
             [
              0.1111111111111111,
              "#482878"
             ],
             [
              0.2222222222222222,
              "#3e4989"
             ],
             [
              0.3333333333333333,
              "#31688e"
             ],
             [
              0.4444444444444444,
              "#26828e"
             ],
             [
              0.5555555555555556,
              "#1f9e89"
             ],
             [
              0.6666666666666666,
              "#35b779"
             ],
             [
              0.7777777777777778,
              "#6ece58"
             ],
             [
              0.8888888888888888,
              "#b5de2b"
             ],
             [
              1,
              "#fde725"
             ]
            ],
            "type": "heatmapgl"
           }
          ],
          "histogram": [
           {
            "marker": {
             "line": {
              "color": "white",
              "width": 0.6
             }
            },
            "type": "histogram"
           }
          ],
          "histogram2d": [
           {
            "colorbar": {
             "outlinewidth": 1,
             "tickcolor": "rgb(36,36,36)",
             "ticks": "outside"
            },
            "colorscale": [
             [
              0,
              "#440154"
             ],
             [
              0.1111111111111111,
              "#482878"
             ],
             [
              0.2222222222222222,
              "#3e4989"
             ],
             [
              0.3333333333333333,
              "#31688e"
             ],
             [
              0.4444444444444444,
              "#26828e"
             ],
             [
              0.5555555555555556,
              "#1f9e89"
             ],
             [
              0.6666666666666666,
              "#35b779"
             ],
             [
              0.7777777777777778,
              "#6ece58"
             ],
             [
              0.8888888888888888,
              "#b5de2b"
             ],
             [
              1,
              "#fde725"
             ]
            ],
            "type": "histogram2d"
           }
          ],
          "histogram2dcontour": [
           {
            "colorbar": {
             "outlinewidth": 1,
             "tickcolor": "rgb(36,36,36)",
             "ticks": "outside"
            },
            "colorscale": [
             [
              0,
              "#440154"
             ],
             [
              0.1111111111111111,
              "#482878"
             ],
             [
              0.2222222222222222,
              "#3e4989"
             ],
             [
              0.3333333333333333,
              "#31688e"
             ],
             [
              0.4444444444444444,
              "#26828e"
             ],
             [
              0.5555555555555556,
              "#1f9e89"
             ],
             [
              0.6666666666666666,
              "#35b779"
             ],
             [
              0.7777777777777778,
              "#6ece58"
             ],
             [
              0.8888888888888888,
              "#b5de2b"
             ],
             [
              1,
              "#fde725"
             ]
            ],
            "type": "histogram2dcontour"
           }
          ],
          "mesh3d": [
           {
            "colorbar": {
             "outlinewidth": 1,
             "tickcolor": "rgb(36,36,36)",
             "ticks": "outside"
            },
            "type": "mesh3d"
           }
          ],
          "parcoords": [
           {
            "line": {
             "colorbar": {
              "outlinewidth": 1,
              "tickcolor": "rgb(36,36,36)",
              "ticks": "outside"
             }
            },
            "type": "parcoords"
           }
          ],
          "pie": [
           {
            "automargin": true,
            "type": "pie"
           }
          ],
          "scatter": [
           {
            "fillpattern": {
             "fillmode": "overlay",
             "size": 10,
             "solidity": 0.2
            },
            "type": "scatter"
           }
          ],
          "scatter3d": [
           {
            "line": {
             "colorbar": {
              "outlinewidth": 1,
              "tickcolor": "rgb(36,36,36)",
              "ticks": "outside"
             }
            },
            "marker": {
             "colorbar": {
              "outlinewidth": 1,
              "tickcolor": "rgb(36,36,36)",
              "ticks": "outside"
             }
            },
            "type": "scatter3d"
           }
          ],
          "scattercarpet": [
           {
            "marker": {
             "colorbar": {
              "outlinewidth": 1,
              "tickcolor": "rgb(36,36,36)",
              "ticks": "outside"
             }
            },
            "type": "scattercarpet"
           }
          ],
          "scattergeo": [
           {
            "marker": {
             "colorbar": {
              "outlinewidth": 1,
              "tickcolor": "rgb(36,36,36)",
              "ticks": "outside"
             }
            },
            "type": "scattergeo"
           }
          ],
          "scattergl": [
           {
            "marker": {
             "colorbar": {
              "outlinewidth": 1,
              "tickcolor": "rgb(36,36,36)",
              "ticks": "outside"
             }
            },
            "type": "scattergl"
           }
          ],
          "scattermapbox": [
           {
            "marker": {
             "colorbar": {
              "outlinewidth": 1,
              "tickcolor": "rgb(36,36,36)",
              "ticks": "outside"
             }
            },
            "type": "scattermapbox"
           }
          ],
          "scatterpolar": [
           {
            "marker": {
             "colorbar": {
              "outlinewidth": 1,
              "tickcolor": "rgb(36,36,36)",
              "ticks": "outside"
             }
            },
            "type": "scatterpolar"
           }
          ],
          "scatterpolargl": [
           {
            "marker": {
             "colorbar": {
              "outlinewidth": 1,
              "tickcolor": "rgb(36,36,36)",
              "ticks": "outside"
             }
            },
            "type": "scatterpolargl"
           }
          ],
          "scatterternary": [
           {
            "marker": {
             "colorbar": {
              "outlinewidth": 1,
              "tickcolor": "rgb(36,36,36)",
              "ticks": "outside"
             }
            },
            "type": "scatterternary"
           }
          ],
          "surface": [
           {
            "colorbar": {
             "outlinewidth": 1,
             "tickcolor": "rgb(36,36,36)",
             "ticks": "outside"
            },
            "colorscale": [
             [
              0,
              "#440154"
             ],
             [
              0.1111111111111111,
              "#482878"
             ],
             [
              0.2222222222222222,
              "#3e4989"
             ],
             [
              0.3333333333333333,
              "#31688e"
             ],
             [
              0.4444444444444444,
              "#26828e"
             ],
             [
              0.5555555555555556,
              "#1f9e89"
             ],
             [
              0.6666666666666666,
              "#35b779"
             ],
             [
              0.7777777777777778,
              "#6ece58"
             ],
             [
              0.8888888888888888,
              "#b5de2b"
             ],
             [
              1,
              "#fde725"
             ]
            ],
            "type": "surface"
           }
          ],
          "table": [
           {
            "cells": {
             "fill": {
              "color": "rgb(237,237,237)"
             },
             "line": {
              "color": "white"
             }
            },
            "header": {
             "fill": {
              "color": "rgb(217,217,217)"
             },
             "line": {
              "color": "white"
             }
            },
            "type": "table"
           }
          ]
         },
         "layout": {
          "annotationdefaults": {
           "arrowhead": 0,
           "arrowwidth": 1
          },
          "autotypenumbers": "strict",
          "coloraxis": {
           "colorbar": {
            "outlinewidth": 1,
            "tickcolor": "rgb(36,36,36)",
            "ticks": "outside"
           }
          },
          "colorscale": {
           "diverging": [
            [
             0,
             "rgb(103,0,31)"
            ],
            [
             0.1,
             "rgb(178,24,43)"
            ],
            [
             0.2,
             "rgb(214,96,77)"
            ],
            [
             0.3,
             "rgb(244,165,130)"
            ],
            [
             0.4,
             "rgb(253,219,199)"
            ],
            [
             0.5,
             "rgb(247,247,247)"
            ],
            [
             0.6,
             "rgb(209,229,240)"
            ],
            [
             0.7,
             "rgb(146,197,222)"
            ],
            [
             0.8,
             "rgb(67,147,195)"
            ],
            [
             0.9,
             "rgb(33,102,172)"
            ],
            [
             1,
             "rgb(5,48,97)"
            ]
           ],
           "sequential": [
            [
             0,
             "#440154"
            ],
            [
             0.1111111111111111,
             "#482878"
            ],
            [
             0.2222222222222222,
             "#3e4989"
            ],
            [
             0.3333333333333333,
             "#31688e"
            ],
            [
             0.4444444444444444,
             "#26828e"
            ],
            [
             0.5555555555555556,
             "#1f9e89"
            ],
            [
             0.6666666666666666,
             "#35b779"
            ],
            [
             0.7777777777777778,
             "#6ece58"
            ],
            [
             0.8888888888888888,
             "#b5de2b"
            ],
            [
             1,
             "#fde725"
            ]
           ],
           "sequentialminus": [
            [
             0,
             "#440154"
            ],
            [
             0.1111111111111111,
             "#482878"
            ],
            [
             0.2222222222222222,
             "#3e4989"
            ],
            [
             0.3333333333333333,
             "#31688e"
            ],
            [
             0.4444444444444444,
             "#26828e"
            ],
            [
             0.5555555555555556,
             "#1f9e89"
            ],
            [
             0.6666666666666666,
             "#35b779"
            ],
            [
             0.7777777777777778,
             "#6ece58"
            ],
            [
             0.8888888888888888,
             "#b5de2b"
            ],
            [
             1,
             "#fde725"
            ]
           ]
          },
          "colorway": [
           "#91268F",
           "#8CC63E",
           "#00A7A0",
           "#F05A28",
           "#4C4C4C",
           "#630460",
           "#9f3913",
           "#588527",
           "#00716c",
           "#3e4040"
          ],
          "font": {
           "color": "rgb(36,36,36)",
           "family": "Poppins",
           "size": 11
          },
          "geo": {
           "bgcolor": "white",
           "lakecolor": "white",
           "landcolor": "white",
           "showlakes": true,
           "showland": true,
           "subunitcolor": "white"
          },
          "hoverlabel": {
           "align": "left"
          },
          "hovermode": "closest",
          "mapbox": {
           "style": "light"
          },
          "paper_bgcolor": "white",
          "plot_bgcolor": "white",
          "polar": {
           "angularaxis": {
            "gridcolor": "rgb(232,232,232)",
            "linecolor": "rgb(36,36,36)",
            "showgrid": false,
            "showline": true,
            "ticks": "outside"
           },
           "bgcolor": "white",
           "radialaxis": {
            "gridcolor": "rgb(232,232,232)",
            "linecolor": "rgb(36,36,36)",
            "showgrid": false,
            "showline": true,
            "ticks": "outside"
           }
          },
          "scene": {
           "xaxis": {
            "backgroundcolor": "white",
            "gridcolor": "rgb(232,232,232)",
            "gridwidth": 2,
            "linecolor": "rgb(36,36,36)",
            "showbackground": true,
            "showgrid": false,
            "showline": true,
            "ticks": "outside",
            "zeroline": false,
            "zerolinecolor": "rgb(36,36,36)"
           },
           "yaxis": {
            "backgroundcolor": "white",
            "gridcolor": "rgb(232,232,232)",
            "gridwidth": 2,
            "linecolor": "rgb(36,36,36)",
            "showbackground": true,
            "showgrid": false,
            "showline": true,
            "ticks": "outside",
            "zeroline": false,
            "zerolinecolor": "rgb(36,36,36)"
           },
           "zaxis": {
            "backgroundcolor": "white",
            "gridcolor": "rgb(232,232,232)",
            "gridwidth": 2,
            "linecolor": "rgb(36,36,36)",
            "showbackground": true,
            "showgrid": false,
            "showline": true,
            "ticks": "outside",
            "zeroline": false,
            "zerolinecolor": "rgb(36,36,36)"
           }
          },
          "shapedefaults": {
           "fillcolor": "black",
           "line": {
            "width": 0
           },
           "opacity": 0.3
          },
          "ternary": {
           "aaxis": {
            "gridcolor": "rgb(232,232,232)",
            "linecolor": "rgb(36,36,36)",
            "showgrid": false,
            "showline": true,
            "ticks": "outside"
           },
           "baxis": {
            "gridcolor": "rgb(232,232,232)",
            "linecolor": "rgb(36,36,36)",
            "showgrid": false,
            "showline": true,
            "ticks": "outside"
           },
           "bgcolor": "white",
           "caxis": {
            "gridcolor": "rgb(232,232,232)",
            "linecolor": "rgb(36,36,36)",
            "showgrid": false,
            "showline": true,
            "ticks": "outside"
           }
          },
          "title": {
           "x": 0.05
          },
          "xaxis": {
           "automargin": true,
           "gridcolor": "rgb(232,232,232)",
           "linecolor": "rgb(36,36,36)",
           "showgrid": false,
           "showline": true,
           "ticks": "outside",
           "title": {
            "standoff": 15
           },
           "zeroline": false,
           "zerolinecolor": "rgb(36,36,36)"
          },
          "yaxis": {
           "automargin": true,
           "gridcolor": "rgb(232,232,232)",
           "linecolor": "rgb(36,36,36)",
           "showgrid": false,
           "showline": true,
           "ticks": "outside",
           "title": {
            "standoff": 15
           },
           "zeroline": false,
           "zerolinecolor": "rgb(36,36,36)"
          }
         }
        },
        "title": {
         "text": "Park and Ride Usage vs Capacity"
        }
       }
      },
      "text/html": [
       "<div>                            <div id=\"f4040d1e-d625-4249-a083-d6e81673395a\" class=\"plotly-graph-div\" style=\"height:525px; width:100%;\"></div>            <script type=\"text/javascript\">                require([\"plotly\"], function(Plotly) {                    window.PLOTLYENV=window.PLOTLYENV || {};                                    if (document.getElementById(\"f4040d1e-d625-4249-a083-d6e81673395a\")) {                    Plotly.newPlot(                        \"f4040d1e-d625-4249-a083-d6e81673395a\",                        [{\"customdata\":[[\"Tukwila Station (CR)\",3751,99,390],[\"Tacoma Dome Station\",3752,265,2337],[\"Everett Station (CR)\",3754,69,1107],[\"Sumner Station (CR)\",3755,261,350],[\"Mukilteo Station\",3756,1,63],[\"Kent Station (CR)\",3757,448,996],[\"Auburn Station (CR)\",3758,641,633],[\"Lakewood (CR)\",3759,4,601],[\"Gateway P&R\",3760,18,104],[\"Puyallup Station (SB)\",3761,19,50],[\"Twin Lakes P&R\",3762,3,600],[\"Crossroads Neighborhood Church\",3763,3,107],[\"Overlake Transit Center\",3764,132,222],[\"North Gig Harbor\\u002fKimball Drive\",3766,5,306],[\"Duvall P&R\",3767,2,49],[\"Roy 'Y' P&R\",3768,2,100],[\"South Hill (Elim Evangelical)\",3769,16,20],[\"Parkland Transit Center\",3770,2,62],[\"SR-512\\u002fI-5 (Lakewood)\",3771,15,493],[\"Center Street P&R\",3772,11,75],[\"Tacoma Mall Transit Center\",3773,21,150],[\"South Tacoma West\",3774,6,78],[\"South Tacoma East - 2\",3775,1,44],[\"Narrows P&R\",3776,1,195],[\"North Purdy\\u002fPurdy Crescent\",3777,2,200],[\"Point Defiance Ferry\",3778,4,79],[\"South Federal P&R\",3779,5,515],[\"Federal Way P&R (320th)\",3781,87,877],[\"Auburn P&R\",3782,5,244],[\"Star Lake P&R\",3783,1,540],[\"Holy Spirit Lutheran Church\",3784,20,40],[\"Kent\\u002fDes Moines P&R\",3785,6,404],[\"Kent\\u002fJames St. P&R\",3786,86,713],[\"Burien Transit Center\",3787,23,488],[\"Tukwila\",3788,16,267],[\"Maple Valley P&R\",3789,2,122],[\"South Renton P&R\",3790,40,385],[\"Renton Highlands P&R (St. Matts)\",3791,3,128],[\"Issaquah Transit Center\",3792,28,819],[\"Mercer Island P&R\",3793,184,447],[\"Mercer Island Presbyterian\",3794,23,30],[\"Newport Hills P&R\",3795,5,275],[\"Newport Hills Community Church\",3796,1,37],[\"Newport Covenant Church\",3797,2,75],[\"South Bellevue P&R\",3798,47,519],[\"Wilburton\",3799,20,186],[\"Eastgate P&R\",3800,51,1614],[\"North Bend P&R\",3801,6,80],[\"Evergreen Point P&R\",3802,10,38],[\"Grace Lutheran Church\",3803,31,50],[\"South Kirkland P&R\",3804,22,833],[\"Overlake P&R\",3805,59,203],[\"Houghton P&R\",3806,6,470],[\"Bethel Lutheran\",3807,2,40],[\"Redmond P&R\",3808,57,377],[\"Saint Thomas Episcopal\",3809,21,48],[\"Valley Center\",3810,2,55],[\"Bear Creek P&R\",3811,17,283],[\"Kingsgate P&R\",3812,57,502],[\"Brickyard P&R\",3813,5,443],[\"Northshore P&R\",3814,24,376],[\"Kenmore P&R\",3815,63,603],[\"Bethany Bible Church\",3816,121,75],[\"Bothell P&R\",3817,100,220],[\"Woodinville P&R\",3818,14,438],[\"Olson & Meyers\",3819,16,100],[\"Spokane Street P&R\",3820,73,55],[\"Greenlake P&R\",3821,85,411],[\"Northgate TC\",3822,4680,1509],[\"North Jackson Park\",3823,62,68],[\"Shoreline\",3824,36,393],[\"112th St. & I-5\",3825,12,397],[\"Ober Park\",3826,5,48],[\"Vashon Heights\",3827,45,230],[\"Mountlake Terrace P&R\",3828,26,880],[\"Bethesda Lutheran\",3829,13,20],[\"Edmonds Station\",3830,6,259],[\"Edmonds P&R\",3831,6,255],[\"Lynnwood P&R\",3832,10,1398],[\"Swamp Creek P&R\",3833,19,410],[\"Mariner P&R\",3834,24,667],[\"Snohomish\",3835,8,104],[\"Marysville - Ash Ave\",3836,3,202],[\"Arlington P&R\",3839,2,25],[\"Monroe\",3841,3,102],[\"Federal Way\",3842,34,1190],[\"Port Orchard Armory\",3843,34,105],[\"Southworth Ferry P&R\",3844,45,318],[\"McWilliams P&R\",3845,1,151],[\"Bethany Lutheran Church\",3846,13,80],[\"Gateway Fellowship\",3847,8,138],[\"Kingston Ferry P&R\",3849,2,72],[\"Suquamish United Church of Christ\",3850,2,65],[\"Bainbridge Island Ferry\",3851,83,187],[\"Puyallup Station (NB)\",3852,87,364],[\"72nd Street Transit Center\",3853,7,68],[\"DuPont\",3855,1,109],[\"Aurora Village TC\",3856,51,202],[\"Aurora Nazarene\",3857,19,116],[\"Saint Margaret's Episcopal\",3858,15,64],[\"Lake Meridian P&R\",3861,25,172],[\"Smokey Pt. Church\",3862,5,50],[\"Eastmont P&R\",3863,1,389],[\"McCollum Park P&R\",3864,19,409],[\"Canyon Park P&R\",3865,11,302],[\"Korean Presby. P&R\",3866,20,25],[\"Poulsbo Church of the Nazarene\",3868,1,266],[\"Harper Evangelical Free Church\",3870,11,462],[\"Mullenix Road\",3871,2,92],[\"TCC P&R\",3873,17,95],[\"Ash Way P&R\",3874,80,1022],[\"Bonney Lake P&R\",3875,5,356],[\"Tukwila Int. Station\",3876,522,662],[\"South Hill P&R\",3877,9,354],[\"South Tacoma East - 1\",3878,2,33],[\"Issaquah Highlands\",3879,28,1010],[\"Lake Stevens TC\",3880,4,207],[\"Liberty Bay Presbyterian\",3881,1,90],[\"NK Baptist\",3882,2,57],[\"Preston P&R\",3883,36,53],[\"Bayside Community Church\",3884,3,210],[\"Bremerton Ferry\",3886,45,566],[\"Puyallup Fair's Red Lot\",3888,411,219],[\"Marysville - Cedar & Grove\",3889,5,213],[\"Marysville I P&R\",3891,2,74],[\"Martha Lake Covenant Church\",3892,2,75],[\"South Sammammish P&R\",3893,2,265],[\"Renton City Municipal Garage\",3894,19,150],[\"Tibbetts Lot\",3895,6,170],[\"Renton Transit Center\",3896,15,150],[\"Calvary Christian Assembly\",3897,77,125],[\"Maple Valley Town Square\",3898,2,90],[\"All Saints Lutheran Church\",3899,3,75],[\"City View Church\",3900,57,96],[\"Northwest University 6710 Bldg.\",3901,18,61],[\"Sammamish Lutheran P&R\",3902,3,54],[\"Redmond Ridge P&R\",3903,1,52],[\"Kennydale United Methodist Church\",3904,8,50],[\"Nativity Lutheran Church\",3905,2,49],[\"South SeaTac (LR)\",3907,1876,1160],[\"Everett Station\",3908,48,160],[null,3951,10,54]],\"hovertemplate\":\"Boardings\\u002fCapacity=%{marker.color}\\u003cbr\\u003elat=%{lat}\\u003cbr\\u003elon=%{lon}\\u003cbr\\u003ename=%{customdata[0]}\\u003cbr\\u003etaz=%{customdata[1]}\\u003cbr\\u003eModel Boardings=%{customdata[2]}\\u003cbr\\u003eCapacity=%{customdata[3]}\\u003cextra\\u003e\\u003c\\u002fextra\\u003e\",\"lat\":[47.459791189113055,47.240587026940496,47.97553008822413,47.201048326678425,47.949202090593815,47.383970408531425,47.30597098022815,47.153298431654285,47.56718379854233,47.193060762628754,47.29373336434266,47.631646481329874,47.64429306998266,47.3163618931415,47.74282207119212,47.08271784155433,47.140757778268615,47.14791172694066,47.161484802874284,47.23400250827875,47.21362968300981,47.20552052830966,47.20622110948438,47.25600193981221,47.38923379023241,47.30559584671795,47.289041380796476,47.31163591874175,47.32142070370895,47.358683156241256,47.7104244936842,47.39168729512872,47.38491251743171,47.469518524026284,47.48197741301064,47.39722692921272,47.47271938615727,47.50715467593467,47.5421344859425,47.58878969142359,47.57701316304821,47.55704702946253,47.55136704272614,47.564129961427035,47.58629181288903,47.60395259926627,47.580583829158485,47.49597432021159,47.63677734251024,47.616380743797244,47.64418998070187,47.63297717439434,47.66816331814846,47.75569187858501,47.6765003576322,47.62160396082053,47.42287235072545,47.674169895277565,47.71630675038611,47.74096553654258,47.76143815613439,47.75869948424539,47.75911072833425,47.759457740337254,47.75702879699488,47.520273185221846,47.571714184646375,47.67673605768736,47.70239443761157,47.735650070604855,47.76687666732243,47.897149496501655,47.45193656025647,47.50832497753617,47.786023838048486,47.786405217140484,47.81083814590226,47.805505328682436,47.81595811606588,47.851158747803034,47.879273837323716,47.931600004686565,48.052799958531104,48.196226663014926,47.86853209498515,47.31771355238481,47.53346196599079,47.51175930997434,47.620810382951404,47.635076024273125,47.733914565835,47.798924738192895,47.733267845932694,47.62400593156234,47.19226982725735,47.192971542906285,47.08990334694735,47.77471134386238,47.75619875057065,47.56885032852624,47.36115476012324,48.15732422532287,47.91577651606941,47.880528888492265,47.79421797219861,47.78299309998247,47.759682723438075,47.50395364516145,47.4683127358232,47.24317915202268,47.852265826626585,47.17424906089401,47.46462822513558,47.161515219367466,47.20690802107854,47.54548131124219,47.99833018258796,47.73132891345255,47.74896727800608,47.52729295506841,47.799607552327174,47.56371171355699,47.185461659521216,48.06186352787003,48.05093832410037,47.85078851793791,47.582163360805794,47.48065386274714,47.54050303955318,47.48170670581923,47.67825835598132,47.36261650204512,47.35719493962773,47.48028761734057,47.66655727817533,47.601973031740954,47.68558355990292,47.51822107506604,47.4435715904644,47.42300305792277,47.60111801912681,47.302354813300944],\"legendgroup\":\"\",\"lon\":[-122.24142204292801,-122.42559764232288,-122.19768602099377,-122.24474142310243,-122.29903798331632,-122.23410004243462,-122.23148352515318,-122.49859252745824,-122.65169744997347,-122.29627387444259,-122.3599437944882,-122.6376553285978,-122.13352825516421,-122.58550724037367,-121.98519670565817,-122.43467115344275,-122.30342870923496,-122.43537507130094,-122.4832269556689,-122.49605950380925,-122.46823390072736,-122.46332756461389,-122.4595315453806,-122.53268859436118,-122.62545806801099,-122.51464330348125,-122.32271243809302,-122.30155617219685,-122.22738331793343,-122.29854675639369,-122.20748786443893,-122.28801450038526,-122.24251278515935,-122.33865108623566,-122.26898729590523,-122.04489635419205,-122.2140249890397,-122.18367513597434,-122.06181211149554,-122.23166518784704,-122.22739995414824,-122.1886194896657,-122.17957103217213,-122.17018509756201,-122.1904053737166,-122.1855070751748,-122.15247915819556,-121.78890814933835,-122.23793067783187,-122.21058496428182,-122.19692070930883,-122.1356025761157,-122.18466300042218,-122.31907049448232,-122.12357646358394,-122.22848578037559,-122.4617588893532,-122.10086680270592,-122.18764374421475,-122.18801850253551,-122.25089711182129,-122.24193472527783,-122.25940207427163,-122.20174474164908,-122.15150344952004,-122.33619477501689,-122.36486292041623,-122.3207479132486,-122.3263535981885,-122.3238311992929,-122.34679899076795,-122.21539257019184,-122.45962271847641,-122.46527095271402,-122.31456649794684,-122.30895559283637,-122.38443648143998,-122.33045854744478,-122.29397697243073,-122.2762912947167,-122.23819674557204,-122.10076917207742,-122.18350218748834,-122.129183066928,-121.9960708438206,-122.30476126399772,-122.61872855042411,-122.4985314823769,-122.62808145181158,-122.53684064463692,-122.63927304886704,-122.497145659761,-122.55779654978755,-122.51049641551649,-122.29638289622436,-122.41141133327692,-122.6408244608136,-122.34274243377105,-122.33571558742703,-122.16885945632364,-122.16596694150272,-122.18235612206618,-122.2039867300772,-122.22076355008004,-122.21165372444678,-122.34737059623502,-122.65215146199641,-122.51509635593781,-122.6219458140525,-122.52527889141626,-122.25855174480624,-122.18490269497767,-122.28690849789872,-122.30486983988138,-122.45925556454627,-122.01943008905627,-122.1037985047417,-122.63760529985272,-122.6376022779008,-121.93697928446608,-122.508528546698,-122.6250481725124,-122.29928303340452,-122.17950440147415,-122.18326561243495,-122.2711389215377,-122.03642859327114,-122.20850143259241,-122.06172743208168,-122.20744093150329,-122.31799001747187,-122.0201427495308,-122.29322515985572,-122.22017447638363,-122.19590687558149,-122.03476548005801,-122.03407154200131,-122.20129952764448,-122.15522089858798,-122.29884833358034,-122.63061955933047,-122.25777874175822],\"marker\":{\"color\":[0.25384615384615383,0.11339323919554985,0.06233062330623306,0.7457142857142857,0.015873015873015872,0.4497991967871486,1.0126382306477093,0.0066555740432612314,0.17307692307692307,0.38,0.005,0.028037383177570093,0.5945945945945946,0.016339869281045753,0.04081632653061224,0.02,0.8,0.03225806451612903,0.030425963488843813,0.14666666666666667,0.14,0.07692307692307693,0.022727272727272728,0.005128205128205128,0.01,0.05063291139240506,0.009708737864077669,0.09920182440136831,0.020491803278688523,0.001851851851851852,0.5,0.01485148514851485,0.12061711079943899,0.0471311475409836,0.0599250936329588,0.01639344262295082,0.1038961038961039,0.0234375,0.03418803418803419,0.4116331096196868,0.7666666666666667,0.01818181818181818,0.02702702702702703,0.02666666666666667,0.0905587668593449,0.10752688172043011,0.031598513011152414,0.075,0.2631578947368421,0.62,0.026410564225690276,0.29064039408866993,0.01276595744680851,0.05,0.15119363395225463,0.4375,0.03636363636363636,0.06007067137809187,0.11354581673306773,0.011286681715575621,0.06382978723404255,0.1044776119402985,1.6133333333333333,0.45454545454545453,0.0319634703196347,0.16,1.3272727272727274,0.20681265206812652,3.1013916500994037,0.9117647058823529,0.0916030534351145,0.030226700251889168,0.10416666666666667,0.1956521739130435,0.029545454545454545,0.65,0.023166023166023165,0.023529411764705882,0.00715307582260372,0.046341463414634146,0.035982008995502246,0.07692307692307693,0.01485148514851485,0.08,0.029411764705882353,0.02857142857142857,0.3238095238095238,0.14150943396226415,0.006622516556291391,0.1625,0.057971014492753624,0.027777777777777776,0.03076923076923077,0.44385026737967914,0.23901098901098902,0.10294117647058823,0.009174311926605505,0.2524752475247525,0.16379310344827586,0.234375,0.14534883720930233,0.1,0.002570694087403599,0.04645476772616137,0.03642384105960265,0.8,0.0037593984962406013,0.023809523809523808,0.021739130434782608,0.17894736842105263,0.07827788649706457,0.014044943820224719,0.7885196374622356,0.025423728813559324,0.06060606060606061,0.027722772277227723,0.01932367149758454,0.011111111111111112,0.03508771929824561,0.6792452830188679,0.014285714285714285,0.07950530035335689,1.8767123287671232,0.023474178403755867,0.02702702702702703,0.02666666666666667,0.007547169811320755,0.12666666666666668,0.03529411764705882,0.1,0.616,0.022222222222222223,0.04,0.59375,0.29508196721311475,0.05555555555555555,0.019230769230769232,0.16,0.04081632653061224,1.6172413793103448,0.3,0.18518518518518517],\"coloraxis\":\"coloraxis\",\"size\":[0.25384615384615383,0.11339323919554985,0.06233062330623306,0.7457142857142857,0.015873015873015872,0.4497991967871486,1.0126382306477093,0.0066555740432612314,0.17307692307692307,0.38,0.005,0.028037383177570093,0.5945945945945946,0.016339869281045753,0.04081632653061224,0.02,0.8,0.03225806451612903,0.030425963488843813,0.14666666666666667,0.14,0.07692307692307693,0.022727272727272728,0.005128205128205128,0.01,0.05063291139240506,0.009708737864077669,0.09920182440136831,0.020491803278688523,0.001851851851851852,0.5,0.01485148514851485,0.12061711079943899,0.0471311475409836,0.0599250936329588,0.01639344262295082,0.1038961038961039,0.0234375,0.03418803418803419,0.4116331096196868,0.7666666666666667,0.01818181818181818,0.02702702702702703,0.02666666666666667,0.0905587668593449,0.10752688172043011,0.031598513011152414,0.075,0.2631578947368421,0.62,0.026410564225690276,0.29064039408866993,0.01276595744680851,0.05,0.15119363395225463,0.4375,0.03636363636363636,0.06007067137809187,0.11354581673306773,0.011286681715575621,0.06382978723404255,0.1044776119402985,1.6133333333333333,0.45454545454545453,0.0319634703196347,0.16,1.3272727272727274,0.20681265206812652,3.1013916500994037,0.9117647058823529,0.0916030534351145,0.030226700251889168,0.10416666666666667,0.1956521739130435,0.029545454545454545,0.65,0.023166023166023165,0.023529411764705882,0.00715307582260372,0.046341463414634146,0.035982008995502246,0.07692307692307693,0.01485148514851485,0.08,0.029411764705882353,0.02857142857142857,0.3238095238095238,0.14150943396226415,0.006622516556291391,0.1625,0.057971014492753624,0.027777777777777776,0.03076923076923077,0.44385026737967914,0.23901098901098902,0.10294117647058823,0.009174311926605505,0.2524752475247525,0.16379310344827586,0.234375,0.14534883720930233,0.1,0.002570694087403599,0.04645476772616137,0.03642384105960265,0.8,0.0037593984962406013,0.023809523809523808,0.021739130434782608,0.17894736842105263,0.07827788649706457,0.014044943820224719,0.7885196374622356,0.025423728813559324,0.06060606060606061,0.027722772277227723,0.01932367149758454,0.011111111111111112,0.03508771929824561,0.6792452830188679,0.014285714285714285,0.07950530035335689,1.8767123287671232,0.023474178403755867,0.02702702702702703,0.02666666666666667,0.007547169811320755,0.12666666666666668,0.03529411764705882,0.1,0.616,0.022222222222222223,0.04,0.59375,0.29508196721311475,0.05555555555555555,0.019230769230769232,0.16,0.04081632653061224,1.6172413793103448,0.3,0.18518518518518517],\"sizemode\":\"area\",\"sizeref\":0.007753479125248509},\"mode\":\"markers\",\"name\":\"\",\"showlegend\":false,\"subplot\":\"mapbox\",\"type\":\"scattermapbox\"}],                        {\"template\":{\"data\":{\"barpolar\":[{\"marker\":{\"line\":{\"color\":\"white\",\"width\":0.5},\"pattern\":{\"fillmode\":\"overlay\",\"size\":10,\"solidity\":0.2}},\"type\":\"barpolar\"}],\"bar\":[{\"error_x\":{\"color\":\"rgb(36,36,36)\"},\"error_y\":{\"color\":\"rgb(36,36,36)\"},\"marker\":{\"line\":{\"color\":\"white\",\"width\":0.5},\"pattern\":{\"fillmode\":\"overlay\",\"size\":10,\"solidity\":0.2}},\"type\":\"bar\"}],\"carpet\":[{\"aaxis\":{\"endlinecolor\":\"rgb(36,36,36)\",\"gridcolor\":\"white\",\"linecolor\":\"white\",\"minorgridcolor\":\"white\",\"startlinecolor\":\"rgb(36,36,36)\"},\"baxis\":{\"endlinecolor\":\"rgb(36,36,36)\",\"gridcolor\":\"white\",\"linecolor\":\"white\",\"minorgridcolor\":\"white\",\"startlinecolor\":\"rgb(36,36,36)\"},\"type\":\"carpet\"}],\"choropleth\":[{\"colorbar\":{\"outlinewidth\":1,\"tickcolor\":\"rgb(36,36,36)\",\"ticks\":\"outside\"},\"type\":\"choropleth\"}],\"contourcarpet\":[{\"colorbar\":{\"outlinewidth\":1,\"tickcolor\":\"rgb(36,36,36)\",\"ticks\":\"outside\"},\"type\":\"contourcarpet\"}],\"contour\":[{\"colorbar\":{\"outlinewidth\":1,\"tickcolor\":\"rgb(36,36,36)\",\"ticks\":\"outside\"},\"colorscale\":[[0.0,\"#440154\"],[0.1111111111111111,\"#482878\"],[0.2222222222222222,\"#3e4989\"],[0.3333333333333333,\"#31688e\"],[0.4444444444444444,\"#26828e\"],[0.5555555555555556,\"#1f9e89\"],[0.6666666666666666,\"#35b779\"],[0.7777777777777778,\"#6ece58\"],[0.8888888888888888,\"#b5de2b\"],[1.0,\"#fde725\"]],\"type\":\"contour\"}],\"heatmapgl\":[{\"colorbar\":{\"outlinewidth\":1,\"tickcolor\":\"rgb(36,36,36)\",\"ticks\":\"outside\"},\"colorscale\":[[0.0,\"#440154\"],[0.1111111111111111,\"#482878\"],[0.2222222222222222,\"#3e4989\"],[0.3333333333333333,\"#31688e\"],[0.4444444444444444,\"#26828e\"],[0.5555555555555556,\"#1f9e89\"],[0.6666666666666666,\"#35b779\"],[0.7777777777777778,\"#6ece58\"],[0.8888888888888888,\"#b5de2b\"],[1.0,\"#fde725\"]],\"type\":\"heatmapgl\"}],\"heatmap\":[{\"colorbar\":{\"outlinewidth\":1,\"tickcolor\":\"rgb(36,36,36)\",\"ticks\":\"outside\"},\"colorscale\":[[0.0,\"#440154\"],[0.1111111111111111,\"#482878\"],[0.2222222222222222,\"#3e4989\"],[0.3333333333333333,\"#31688e\"],[0.4444444444444444,\"#26828e\"],[0.5555555555555556,\"#1f9e89\"],[0.6666666666666666,\"#35b779\"],[0.7777777777777778,\"#6ece58\"],[0.8888888888888888,\"#b5de2b\"],[1.0,\"#fde725\"]],\"type\":\"heatmap\"}],\"histogram2dcontour\":[{\"colorbar\":{\"outlinewidth\":1,\"tickcolor\":\"rgb(36,36,36)\",\"ticks\":\"outside\"},\"colorscale\":[[0.0,\"#440154\"],[0.1111111111111111,\"#482878\"],[0.2222222222222222,\"#3e4989\"],[0.3333333333333333,\"#31688e\"],[0.4444444444444444,\"#26828e\"],[0.5555555555555556,\"#1f9e89\"],[0.6666666666666666,\"#35b779\"],[0.7777777777777778,\"#6ece58\"],[0.8888888888888888,\"#b5de2b\"],[1.0,\"#fde725\"]],\"type\":\"histogram2dcontour\"}],\"histogram2d\":[{\"colorbar\":{\"outlinewidth\":1,\"tickcolor\":\"rgb(36,36,36)\",\"ticks\":\"outside\"},\"colorscale\":[[0.0,\"#440154\"],[0.1111111111111111,\"#482878\"],[0.2222222222222222,\"#3e4989\"],[0.3333333333333333,\"#31688e\"],[0.4444444444444444,\"#26828e\"],[0.5555555555555556,\"#1f9e89\"],[0.6666666666666666,\"#35b779\"],[0.7777777777777778,\"#6ece58\"],[0.8888888888888888,\"#b5de2b\"],[1.0,\"#fde725\"]],\"type\":\"histogram2d\"}],\"histogram\":[{\"marker\":{\"line\":{\"color\":\"white\",\"width\":0.6}},\"type\":\"histogram\"}],\"mesh3d\":[{\"colorbar\":{\"outlinewidth\":1,\"tickcolor\":\"rgb(36,36,36)\",\"ticks\":\"outside\"},\"type\":\"mesh3d\"}],\"parcoords\":[{\"line\":{\"colorbar\":{\"outlinewidth\":1,\"tickcolor\":\"rgb(36,36,36)\",\"ticks\":\"outside\"}},\"type\":\"parcoords\"}],\"pie\":[{\"automargin\":true,\"type\":\"pie\"}],\"scatter3d\":[{\"line\":{\"colorbar\":{\"outlinewidth\":1,\"tickcolor\":\"rgb(36,36,36)\",\"ticks\":\"outside\"}},\"marker\":{\"colorbar\":{\"outlinewidth\":1,\"tickcolor\":\"rgb(36,36,36)\",\"ticks\":\"outside\"}},\"type\":\"scatter3d\"}],\"scattercarpet\":[{\"marker\":{\"colorbar\":{\"outlinewidth\":1,\"tickcolor\":\"rgb(36,36,36)\",\"ticks\":\"outside\"}},\"type\":\"scattercarpet\"}],\"scattergeo\":[{\"marker\":{\"colorbar\":{\"outlinewidth\":1,\"tickcolor\":\"rgb(36,36,36)\",\"ticks\":\"outside\"}},\"type\":\"scattergeo\"}],\"scattergl\":[{\"marker\":{\"colorbar\":{\"outlinewidth\":1,\"tickcolor\":\"rgb(36,36,36)\",\"ticks\":\"outside\"}},\"type\":\"scattergl\"}],\"scattermapbox\":[{\"marker\":{\"colorbar\":{\"outlinewidth\":1,\"tickcolor\":\"rgb(36,36,36)\",\"ticks\":\"outside\"}},\"type\":\"scattermapbox\"}],\"scatterpolargl\":[{\"marker\":{\"colorbar\":{\"outlinewidth\":1,\"tickcolor\":\"rgb(36,36,36)\",\"ticks\":\"outside\"}},\"type\":\"scatterpolargl\"}],\"scatterpolar\":[{\"marker\":{\"colorbar\":{\"outlinewidth\":1,\"tickcolor\":\"rgb(36,36,36)\",\"ticks\":\"outside\"}},\"type\":\"scatterpolar\"}],\"scatter\":[{\"fillpattern\":{\"fillmode\":\"overlay\",\"size\":10,\"solidity\":0.2},\"type\":\"scatter\"}],\"scatterternary\":[{\"marker\":{\"colorbar\":{\"outlinewidth\":1,\"tickcolor\":\"rgb(36,36,36)\",\"ticks\":\"outside\"}},\"type\":\"scatterternary\"}],\"surface\":[{\"colorbar\":{\"outlinewidth\":1,\"tickcolor\":\"rgb(36,36,36)\",\"ticks\":\"outside\"},\"colorscale\":[[0.0,\"#440154\"],[0.1111111111111111,\"#482878\"],[0.2222222222222222,\"#3e4989\"],[0.3333333333333333,\"#31688e\"],[0.4444444444444444,\"#26828e\"],[0.5555555555555556,\"#1f9e89\"],[0.6666666666666666,\"#35b779\"],[0.7777777777777778,\"#6ece58\"],[0.8888888888888888,\"#b5de2b\"],[1.0,\"#fde725\"]],\"type\":\"surface\"}],\"table\":[{\"cells\":{\"fill\":{\"color\":\"rgb(237,237,237)\"},\"line\":{\"color\":\"white\"}},\"header\":{\"fill\":{\"color\":\"rgb(217,217,217)\"},\"line\":{\"color\":\"white\"}},\"type\":\"table\"}]},\"layout\":{\"annotationdefaults\":{\"arrowhead\":0,\"arrowwidth\":1},\"autotypenumbers\":\"strict\",\"coloraxis\":{\"colorbar\":{\"outlinewidth\":1,\"tickcolor\":\"rgb(36,36,36)\",\"ticks\":\"outside\"}},\"colorscale\":{\"diverging\":[[0.0,\"rgb(103,0,31)\"],[0.1,\"rgb(178,24,43)\"],[0.2,\"rgb(214,96,77)\"],[0.3,\"rgb(244,165,130)\"],[0.4,\"rgb(253,219,199)\"],[0.5,\"rgb(247,247,247)\"],[0.6,\"rgb(209,229,240)\"],[0.7,\"rgb(146,197,222)\"],[0.8,\"rgb(67,147,195)\"],[0.9,\"rgb(33,102,172)\"],[1.0,\"rgb(5,48,97)\"]],\"sequential\":[[0.0,\"#440154\"],[0.1111111111111111,\"#482878\"],[0.2222222222222222,\"#3e4989\"],[0.3333333333333333,\"#31688e\"],[0.4444444444444444,\"#26828e\"],[0.5555555555555556,\"#1f9e89\"],[0.6666666666666666,\"#35b779\"],[0.7777777777777778,\"#6ece58\"],[0.8888888888888888,\"#b5de2b\"],[1.0,\"#fde725\"]],\"sequentialminus\":[[0.0,\"#440154\"],[0.1111111111111111,\"#482878\"],[0.2222222222222222,\"#3e4989\"],[0.3333333333333333,\"#31688e\"],[0.4444444444444444,\"#26828e\"],[0.5555555555555556,\"#1f9e89\"],[0.6666666666666666,\"#35b779\"],[0.7777777777777778,\"#6ece58\"],[0.8888888888888888,\"#b5de2b\"],[1.0,\"#fde725\"]]},\"colorway\":[\"#91268F\",\"#8CC63E\",\"#00A7A0\",\"#F05A28\",\"#4C4C4C\",\"#630460\",\"#9f3913\",\"#588527\",\"#00716c\",\"#3e4040\"],\"font\":{\"color\":\"rgb(36,36,36)\",\"family\":\"Poppins\",\"size\":11},\"geo\":{\"bgcolor\":\"white\",\"lakecolor\":\"white\",\"landcolor\":\"white\",\"showlakes\":true,\"showland\":true,\"subunitcolor\":\"white\"},\"hoverlabel\":{\"align\":\"left\"},\"hovermode\":\"closest\",\"mapbox\":{\"style\":\"light\"},\"paper_bgcolor\":\"white\",\"plot_bgcolor\":\"white\",\"polar\":{\"angularaxis\":{\"gridcolor\":\"rgb(232,232,232)\",\"linecolor\":\"rgb(36,36,36)\",\"showgrid\":false,\"showline\":true,\"ticks\":\"outside\"},\"bgcolor\":\"white\",\"radialaxis\":{\"gridcolor\":\"rgb(232,232,232)\",\"linecolor\":\"rgb(36,36,36)\",\"showgrid\":false,\"showline\":true,\"ticks\":\"outside\"}},\"scene\":{\"xaxis\":{\"backgroundcolor\":\"white\",\"gridcolor\":\"rgb(232,232,232)\",\"gridwidth\":2,\"linecolor\":\"rgb(36,36,36)\",\"showbackground\":true,\"showgrid\":false,\"showline\":true,\"ticks\":\"outside\",\"zeroline\":false,\"zerolinecolor\":\"rgb(36,36,36)\"},\"yaxis\":{\"backgroundcolor\":\"white\",\"gridcolor\":\"rgb(232,232,232)\",\"gridwidth\":2,\"linecolor\":\"rgb(36,36,36)\",\"showbackground\":true,\"showgrid\":false,\"showline\":true,\"ticks\":\"outside\",\"zeroline\":false,\"zerolinecolor\":\"rgb(36,36,36)\"},\"zaxis\":{\"backgroundcolor\":\"white\",\"gridcolor\":\"rgb(232,232,232)\",\"gridwidth\":2,\"linecolor\":\"rgb(36,36,36)\",\"showbackground\":true,\"showgrid\":false,\"showline\":true,\"ticks\":\"outside\",\"zeroline\":false,\"zerolinecolor\":\"rgb(36,36,36)\"}},\"shapedefaults\":{\"fillcolor\":\"black\",\"line\":{\"width\":0},\"opacity\":0.3},\"ternary\":{\"aaxis\":{\"gridcolor\":\"rgb(232,232,232)\",\"linecolor\":\"rgb(36,36,36)\",\"showgrid\":false,\"showline\":true,\"ticks\":\"outside\"},\"baxis\":{\"gridcolor\":\"rgb(232,232,232)\",\"linecolor\":\"rgb(36,36,36)\",\"showgrid\":false,\"showline\":true,\"ticks\":\"outside\"},\"bgcolor\":\"white\",\"caxis\":{\"gridcolor\":\"rgb(232,232,232)\",\"linecolor\":\"rgb(36,36,36)\",\"showgrid\":false,\"showline\":true,\"ticks\":\"outside\"}},\"title\":{\"x\":0.05},\"xaxis\":{\"automargin\":true,\"gridcolor\":\"rgb(232,232,232)\",\"linecolor\":\"rgb(36,36,36)\",\"showgrid\":false,\"showline\":true,\"ticks\":\"outside\",\"title\":{\"standoff\":15},\"zeroline\":false,\"zerolinecolor\":\"rgb(36,36,36)\"},\"yaxis\":{\"automargin\":true,\"gridcolor\":\"rgb(232,232,232)\",\"linecolor\":\"rgb(36,36,36)\",\"showgrid\":false,\"showline\":true,\"ticks\":\"outside\",\"title\":{\"standoff\":15},\"zeroline\":false,\"zerolinecolor\":\"rgb(36,36,36)\"}}},\"mapbox\":{\"domain\":{\"x\":[0.0,1.0],\"y\":[0.0,1.0]},\"center\":{\"lat\":47.5665003093491,\"lon\":-122.30038854197687},\"zoom\":8,\"style\":\"carto-positron\"},\"coloraxis\":{\"colorbar\":{\"title\":{\"text\":\"Boardings\\u002fCapacity\"}},\"colorscale\":[[0.0,\"#440154\"],[0.1111111111111111,\"#482878\"],[0.2222222222222222,\"#3e4989\"],[0.3333333333333333,\"#31688e\"],[0.4444444444444444,\"#26828e\"],[0.5555555555555556,\"#1f9e89\"],[0.6666666666666666,\"#35b779\"],[0.7777777777777778,\"#6ece58\"],[0.8888888888888888,\"#b5de2b\"],[1.0,\"#fde725\"]]},\"legend\":{\"tracegroupgap\":0,\"itemsizing\":\"constant\"},\"title\":{\"text\":\"Park and Ride Usage vs Capacity\"},\"margin\":{\"r\":0,\"t\":0,\"l\":0,\"b\":0}},                        {\"responsive\": true}                    ).then(function(){\n",
       "                            \n",
       "var gd = document.getElementById('f4040d1e-d625-4249-a083-d6e81673395a');\n",
       "var x = new MutationObserver(function (mutations, observer) {{\n",
       "        var display = window.getComputedStyle(gd).display;\n",
       "        if (!display || display === 'none') {{\n",
       "            console.log([gd, 'removed!']);\n",
       "            Plotly.purge(gd);\n",
       "            observer.disconnect();\n",
       "        }}\n",
       "}});\n",
       "\n",
       "// Listen for the removal of the full notebook cells\n",
       "var notebookContainer = gd.closest('#notebook-container');\n",
       "if (notebookContainer) {{\n",
       "    x.observe(notebookContainer, {childList: true});\n",
       "}}\n",
       "\n",
       "// Listen for the clearing of the current output cell\n",
       "var outputEl = gd.closest('.output');\n",
       "if (outputEl) {{\n",
       "    x.observe(outputEl, {childList: true});\n",
       "}}\n",
       "\n",
       "                        })                };                });            </script>        </div>"
      ]
     },
     "metadata": {},
     "output_type": "display_data"
    }
   ],
   "source": [
    "gdf = gpd.GeoDataFrame(df, geometry=gpd.points_from_xy(df.XCoord, df.YCoord), crs='EPSG:2285')\n",
    "gdf.to_crs('EPSG:4326', inplace=True)\n",
    "\n",
    "fig = px.scatter_mapbox(gdf, lat=gdf.geometry.y, lon=gdf.geometry.x, color='Boardings/Capacity', \n",
    "                        size='Boardings/Capacity', hover_data=['name','taz','Model Boardings', 'Capacity'], \n",
    "                        title='Park and Ride Usage vs Capacity', zoom=8)\n",
    "fig.update_layout(mapbox_style=\"carto-positron\")\n",
    "fig.update_layout(margin={\"r\":0,\"t\":0,\"l\":0,\"b\":0})\n",
    "\n",
    "fig.show()"
   ]
  }
 ],
 "metadata": {
  "kernelspec": {
   "display_name": "Python 3",
   "language": "python",
   "name": "python3"
  },
  "language_info": {
   "codemirror_mode": {
    "name": "ipython",
    "version": 3
   },
   "file_extension": ".py",
   "mimetype": "text/x-python",
   "name": "python",
   "nbconvert_exporter": "python",
   "pygments_lexer": "ipython3",
   "version": "3.7.10"
  }
 },
 "nbformat": 4,
 "nbformat_minor": 5
}
