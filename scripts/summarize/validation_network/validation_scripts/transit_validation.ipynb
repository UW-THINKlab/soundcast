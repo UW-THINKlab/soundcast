{
 "cells": [
  {
   "cell_type": "raw",
   "id": "48597e7e80043434",
   "metadata": {},
   "source": [
    "---\n",
    "title: \"Transit Summary\"\n",
    "date: today\n",
    "---"
   ]
  },
  {
   "cell_type": "code",
   "execution_count": 1,
   "id": "3c1a81e12086b602",
   "metadata": {
    "ExecuteTime": {
     "end_time": "2024-06-24T20:05:20.341638Z",
     "start_time": "2024-06-24T20:05:20.232835Z"
    },
    "execution": {
     "iopub.execute_input": "2024-12-14T02:38:34.166778Z",
     "iopub.status.busy": "2024-12-14T02:38:34.164783Z",
     "iopub.status.idle": "2024-12-14T02:38:39.675438Z",
     "shell.execute_reply": "2024-12-14T02:38:39.673933Z"
    }
   },
   "outputs": [],
   "source": [
    "import os\n",
    "import pandas as pd\n",
    "import numpy as np\n",
    "from sqlalchemy import create_engine,text\n",
    "from scipy import stats\n",
    "import plotly.express as px\n",
    "import toml\n",
    "import psrc_theme\n",
    "import geopandas as gpd\n",
    "import plotly.express as px\n",
    "import plotly.graph_objects as go\n",
    "\n",
    "%matplotlib inline\n",
    "from IPython.display import display, HTML\n",
    "\n",
    "# to show plotly figures in quarto HTML file\n",
    "import plotly.io as pio\n",
    "pio.renderers.default = \"plotly_mimetype+notebook_connected\"\n",
    "pio.templates.default = \"simple_white+psrc_color\" # set plotly template\n",
    "\n",
    "input_config = toml.load(os.path.join(os.getcwd(), '..\\\\..\\\\..\\\\..\\\\configuration', 'input_configuration.toml'))\n",
    "valid_config = toml.load(os.path.join(os.getcwd(), '..\\\\..\\\\..\\\\..\\\\configuration', 'validation_configuration.toml'))\n",
    "summary_config = toml.load(os.path.join(os.getcwd(), '..\\\\..\\\\..\\\\..\\\\configuration', 'summary_configuration.toml'))\n",
    "\n",
    "# create connection\n",
    "conn = create_engine('sqlite:///../../../../inputs/db/'+input_config['db_name'])\n",
    "\n",
    "# summary data location\n",
    "csv_path = os.path.join(valid_config['model_dir'], 'outputs/validation')\n",
    "\n",
    "# table format\n",
    "pd.options.display.float_format = '{:0,.2f}'.format\n",
    "format_percent = \"{:,.2%}\".format"
   ]
  },
  {
   "cell_type": "markdown",
   "id": "b00095bdf12d94c3",
   "metadata": {},
   "source": [
    "## transit boarding"
   ]
  },
  {
   "cell_type": "markdown",
   "id": "5580f8d3",
   "metadata": {},
   "source": [
    "### boarding by mode"
   ]
  },
  {
   "cell_type": "raw",
   "id": "62368037",
   "metadata": {
    "vscode": {
     "languageId": "raw"
    }
   },
   "source": [
    ":::{.panel-tabset}\n",
    "#### 2023"
   ]
  },
  {
   "cell_type": "code",
   "execution_count": null,
   "id": "fbf25d3f",
   "metadata": {},
   "outputs": [],
   "source": []
  },
  {
   "cell_type": "code",
   "execution_count": 2,
   "id": "2abbfecf",
   "metadata": {},
   "outputs": [],
   "source": [
    "# Process 2024 observed data\n",
    "df_obs = pd.read_sql(text(\"SELECT * FROM observed_transit_boardings\"), con=conn.connect())\n",
    "\n",
    "df_obs[\"route_id\"] = df_obs[\"route_id\"].astype(\"int\")\n",
    "\n",
    "df_obs = df_obs[df_obs['year'].isin([2023,2024])]\n",
    "\n",
    "df_obs = pd.pivot_table(df_obs, index='route_id', values='observed_daily', columns='year', aggfunc='sum')\n",
    "df_obs = df_obs.reset_index()\n",
    "\n"
   ]
  },
  {
   "cell_type": "code",
   "execution_count": 3,
   "id": "ab22ff71",
   "metadata": {},
   "outputs": [],
   "source": [
    "\n",
    "# Load model results and calculate modeled daily boarding by line\n",
    "df_transit_line = pd.read_csv(r\"..\\..\\..\\..\\outputs\\transit\\transit_line_results.csv\")\n",
    "df_model = df_transit_line.copy()\n",
    "df_model_daily = (\n",
    "    df_model.groupby([\"route_code\", \"mode\",'agency_code'])\n",
    "    .agg({\"description\": \"first\", \"boardings\": \"sum\"})\n",
    "    .reset_index()\n",
    ")\n",
    "\n",
    "# Merge modeled with observed boarding data\n",
    "df_model_daily[\"route_code\"] = df_model_daily[\"route_code\"].astype(\"int\")\n",
    "df = df_model_daily.merge(\n",
    "    df_obs, left_on=\"route_code\", right_on=\"route_id\", how=\"left\"\n",
    ")\n",
    "# df.rename(\n",
    "#     columns={\n",
    "#         \"boardings\": \"model_boardings\",\n",
    "#         \"observed_daily\": \"observed_boardings\",\n",
    "#     },\n",
    "#     inplace=True,\n",
    "# )\n",
    "# df[\"diff\"] = df[\"model_boardings\"] - df[\"observed_boardings\"]\n",
    "# df[\"perc_diff\"] = df[\"diff\"] / df[\"observed_boardings\"]\n",
    "# df[[\"model_boardings\", \"observed_boardings\"]] = df[\n",
    "#     [\"model_boardings\", \"observed_boardings\"]\n",
    "# ].fillna(-1)\n",
    "\n",
    "df.rename(\n",
    "    columns={\n",
    "        \"boardings\": \"Model\",\n",
    "        2023: \"2023 Spring Observed\",\n",
    "        2024: \"2024 Spring Observed\",\n",
    "    },\n",
    "    inplace=True,\n",
    ")\n",
    "\n",
    "\n",
    "df['agency'] = df['agency_code'].astype('int').astype('str').map(summary_config['agency_lookup'])\n",
    "df_line_boardings_23_24 = df.copy()"
   ]
  },
  {
   "cell_type": "code",
   "execution_count": null,
   "id": "65d44302",
   "metadata": {},
   "outputs": [],
   "source": []
  },
  {
   "cell_type": "code",
   "execution_count": 4,
   "id": "0fa5b4c7",
   "metadata": {
    "execution": {
     "iopub.execute_input": "2024-12-14T02:38:39.688403Z",
     "iopub.status.busy": "2024-12-14T02:38:39.686408Z",
     "iopub.status.idle": "2024-12-14T02:38:39.797541Z",
     "shell.execute_reply": "2024-12-14T02:38:39.796037Z"
    }
   },
   "outputs": [
    {
     "data": {
      "text/html": [
       "<div>\n",
       "<style scoped>\n",
       "    .dataframe tbody tr th:only-of-type {\n",
       "        vertical-align: middle;\n",
       "    }\n",
       "\n",
       "    .dataframe tbody tr th {\n",
       "        vertical-align: top;\n",
       "    }\n",
       "\n",
       "    .dataframe thead th {\n",
       "        text-align: right;\n",
       "    }\n",
       "</style>\n",
       "<table border=\"1\" class=\"dataframe\">\n",
       "  <thead>\n",
       "    <tr style=\"text-align: right;\">\n",
       "      <th></th>\n",
       "      <th>index</th>\n",
       "      <th>mode</th>\n",
       "      <th>observed_boardings</th>\n",
       "      <th>model_boardings</th>\n",
       "      <th>diff</th>\n",
       "      <th>perc_diff</th>\n",
       "    </tr>\n",
       "  </thead>\n",
       "  <tbody>\n",
       "    <tr>\n",
       "      <th>0</th>\n",
       "      <td>0</td>\n",
       "      <td>b</td>\n",
       "      <td>332,481.24</td>\n",
       "      <td>358,622.77</td>\n",
       "      <td>26,141.53</td>\n",
       "      <td>7.86%</td>\n",
       "    </tr>\n",
       "    <tr>\n",
       "      <th>1</th>\n",
       "      <td>4</td>\n",
       "      <td>r</td>\n",
       "      <td>80,839.00</td>\n",
       "      <td>81,496.34</td>\n",
       "      <td>657.34</td>\n",
       "      <td>0.81%</td>\n",
       "    </tr>\n",
       "    <tr>\n",
       "      <th>2</th>\n",
       "      <td>2</td>\n",
       "      <td>f</td>\n",
       "      <td>9,907.00</td>\n",
       "      <td>8,830.64</td>\n",
       "      <td>-1,076.36</td>\n",
       "      <td>-10.86%</td>\n",
       "    </tr>\n",
       "    <tr>\n",
       "      <th>3</th>\n",
       "      <td>1</td>\n",
       "      <td>c</td>\n",
       "      <td>6,354.00</td>\n",
       "      <td>6,712.24</td>\n",
       "      <td>358.24</td>\n",
       "      <td>5.64%</td>\n",
       "    </tr>\n",
       "    <tr>\n",
       "      <th>4</th>\n",
       "      <td>3</td>\n",
       "      <td>p</td>\n",
       "      <td>2,950.00</td>\n",
       "      <td>2,621.70</td>\n",
       "      <td>-328.30</td>\n",
       "      <td>-11.13%</td>\n",
       "    </tr>\n",
       "    <tr>\n",
       "      <th>5</th>\n",
       "      <td>Total</td>\n",
       "      <td>Total</td>\n",
       "      <td>432,531.24</td>\n",
       "      <td>458,283.68</td>\n",
       "      <td>25,752.45</td>\n",
       "      <td>5.95%</td>\n",
       "    </tr>\n",
       "  </tbody>\n",
       "</table>\n",
       "</div>"
      ],
      "text/plain": [
       "   index   mode  observed_boardings  model_boardings      diff perc_diff\n",
       "0      0      b          332,481.24       358,622.77 26,141.53     7.86%\n",
       "1      4      r           80,839.00        81,496.34    657.34     0.81%\n",
       "2      2      f            9,907.00         8,830.64 -1,076.36   -10.86%\n",
       "3      1      c            6,354.00         6,712.24    358.24     5.64%\n",
       "4      3      p            2,950.00         2,621.70   -328.30   -11.13%\n",
       "5  Total  Total          432,531.24       458,283.68 25,752.45     5.95%"
      ]
     },
     "execution_count": 4,
     "metadata": {},
     "output_type": "execute_result"
    }
   ],
   "source": [
    "df = pd.read_csv(os.path.join(csv_path, 'daily_boardings_by_mode.csv')).sort_values('observed_boardings', ascending=False)\n",
    "table_df = df.copy()\n",
    "\n",
    "table_df.loc['Total','observed_boardings'] = table_df['observed_boardings'].sum(axis=0)\n",
    "table_df.loc['Total','model_boardings'] = table_df['model_boardings'].sum(axis=0)\n",
    "table_df.loc['Total','mode'] = 'Total'\n",
    "table_df['diff'] = table_df['model_boardings']-table_df['observed_boardings']\n",
    "table_df['perc_diff'] = table_df['diff']/table_df['observed_boardings']\n",
    "table_df[['observed_boardings','model_boardings','diff']] = table_df[['observed_boardings','model_boardings','diff']].astype('float')\n",
    "table_df[['perc_diff']] = table_df[['perc_diff']].applymap(format_percent)\n",
    "table_df = table_df.reset_index()\n",
    "table_df"
   ]
  },
  {
   "cell_type": "raw",
   "id": "0a51c67a",
   "metadata": {
    "vscode": {
     "languageId": "raw"
    }
   },
   "source": [
    "#### 2023/2024 Link Red Line and Sounder"
   ]
  },
  {
   "cell_type": "code",
   "execution_count": 5,
   "id": "108fbc11",
   "metadata": {
    "execution": {
     "iopub.execute_input": "2024-12-14T02:38:39.809509Z",
     "iopub.status.busy": "2024-12-14T02:38:39.808512Z",
     "iopub.status.idle": "2024-12-14T02:38:39.939511Z",
     "shell.execute_reply": "2024-12-14T02:38:39.936874Z"
    }
   },
   "outputs": [
    {
     "data": {
      "text/html": [
       "<div>\n",
       "<style scoped>\n",
       "    .dataframe tbody tr th:only-of-type {\n",
       "        vertical-align: middle;\n",
       "    }\n",
       "\n",
       "    .dataframe tbody tr th {\n",
       "        vertical-align: top;\n",
       "    }\n",
       "\n",
       "    .dataframe thead th {\n",
       "        text-align: right;\n",
       "    }\n",
       "</style>\n",
       "<table border=\"1\" class=\"dataframe\">\n",
       "  <thead>\n",
       "    <tr style=\"text-align: right;\">\n",
       "      <th></th>\n",
       "      <th>submode</th>\n",
       "      <th>2023 boarding</th>\n",
       "      <th>2024 boarding</th>\n",
       "      <th>model_boardings</th>\n",
       "      <th>2023 % diff</th>\n",
       "      <th>2024 % diff</th>\n",
       "    </tr>\n",
       "  </thead>\n",
       "  <tbody>\n",
       "    <tr>\n",
       "      <th>0</th>\n",
       "      <td>Link Red Line</td>\n",
       "      <td>78,765.00</td>\n",
       "      <td>91,203.00</td>\n",
       "      <td>77,916.99</td>\n",
       "      <td>-1.08%</td>\n",
       "      <td>-14.57%</td>\n",
       "    </tr>\n",
       "    <tr>\n",
       "      <th>1</th>\n",
       "      <td>Sounder</td>\n",
       "      <td>6,765.00</td>\n",
       "      <td>7,711.00</td>\n",
       "      <td>6,712.24</td>\n",
       "      <td>-0.78%</td>\n",
       "      <td>-12.95%</td>\n",
       "    </tr>\n",
       "  </tbody>\n",
       "</table>\n",
       "</div>"
      ],
      "text/plain": [
       "         submode  2023 boarding  2024 boarding  model_boardings 2023 % diff  \\\n",
       "0  Link Red Line      78,765.00      91,203.00        77,916.99      -1.08%   \n",
       "1        Sounder       6,765.00       7,711.00         6,712.24      -0.78%   \n",
       "\n",
       "  2024 % diff  \n",
       "0     -14.57%  \n",
       "1     -12.95%  "
      ]
     },
     "execution_count": 5,
     "metadata": {},
     "output_type": "execute_result"
    }
   ],
   "source": [
    "df_boarding_line = pd.read_csv(os.path.join(csv_path,'daily_boardings_by_line.csv'), index_col='description')\n",
    "df_boarding_line[['observed_boardings','model_boardings']] = df_boarding_line[['observed_boardings','model_boardings']].astype('float')\n",
    "\n",
    "df_mode = df_boarding_line[df_boarding_line['route_code'].isin([6996,6999,6998])].reset_index()\n",
    "\n",
    "df_mode['submode'] = df_mode['mode'].map({\"r\": \"Link Red Line\", \"c\": \"Sounder\"})\n",
    "df_mode = df_mode[['submode','model_boardings']].copy()\n",
    "df_mode = df_mode.groupby('submode')['model_boardings'].sum().reset_index()\n",
    "\n",
    "df_obs = pd.read_sql(text(\"SELECT * FROM observed_transit_agency_boardings\"), con=conn.connect())\n",
    "df_obs_mode = df_obs.copy()\n",
    "df_obs_mode['boardings'] = df_obs_mode['boardings'].astype(float)\n",
    "df_obs_mode = df_obs_mode[df_obs_mode['submode'].isin([\"Link\",\"Sounder\"])].copy()\n",
    "df_obs_mode['submode'] = df_obs_mode['submode'].map({\"Link\": \"Link Red Line\", \"Sounder\": \"Sounder\"})\n",
    "\n",
    "df_obs_mode = df_obs_mode.groupby(['submode','year'])['boardings'].sum().unstack().reset_index()\n",
    "df_obs_mode = df_obs_mode.rename(columns={2023:'2023 boarding', 2024:'2024 boarding'})\n",
    "df_mode = df_obs_mode.merge(df_mode, on='submode')\n",
    "\n",
    "df_mode['2023 % diff'] = (df_mode['model_boardings']-df_mode['2023 boarding'])/df_mode['2023 boarding']\n",
    "df_mode['2024 % diff'] = (df_mode['model_boardings']-df_mode['2024 boarding'])/df_mode['2024 boarding']\n",
    "df_mode[['2023 % diff']] = df_mode[['2023 % diff']].applymap(format_percent)\n",
    "df_mode[['2024 % diff']] = df_mode[['2024 % diff']].applymap(format_percent)\n",
    "\n",
    "df_mode"
   ]
  },
  {
   "cell_type": "raw",
   "id": "119f4510",
   "metadata": {
    "vscode": {
     "languageId": "raw"
    }
   },
   "source": [
    ":::"
   ]
  },
  {
   "cell_type": "markdown",
   "id": "b0eb0b3986c9d024",
   "metadata": {},
   "source": [
    "### boarding by agency"
   ]
  },
  {
   "cell_type": "raw",
   "id": "9afc046d",
   "metadata": {
    "vscode": {
     "languageId": "raw"
    }
   },
   "source": [
    ":::{.panel-tabset}\n",
    "\n",
    "#### 2023"
   ]
  },
  {
   "cell_type": "code",
   "execution_count": 6,
   "id": "daca8798e4e1c396",
   "metadata": {
    "ExecuteTime": {
     "end_time": "2024-06-24T20:04:29.076584Z",
     "start_time": "2024-06-24T20:04:29.029595Z"
    },
    "execution": {
     "iopub.execute_input": "2024-12-14T02:38:39.952038Z",
     "iopub.status.busy": "2024-12-14T02:38:39.950043Z",
     "iopub.status.idle": "2024-12-14T02:38:40.002253Z",
     "shell.execute_reply": "2024-12-14T02:38:39.999910Z"
    }
   },
   "outputs": [],
   "source": [
    "df = pd.read_csv(os.path.join(csv_path, 'daily_boardings_by_agency.csv')).sort_values('observed_boardings', ascending=False)\n",
    "plot_df = df.melt(id_vars=['agency'], value_vars=['observed_boardings', 'model_boardings'],\n",
    "                  var_name='source', value_name='count')"
   ]
  },
  {
   "cell_type": "code",
   "execution_count": 7,
   "id": "4f0d5527b7528301",
   "metadata": {
    "ExecuteTime": {
     "end_time": "2024-06-24T20:05:24.997972Z",
     "start_time": "2024-06-24T20:05:24.956972Z"
    },
    "execution": {
     "iopub.execute_input": "2024-12-14T02:38:40.013704Z",
     "iopub.status.busy": "2024-12-14T02:38:40.011713Z",
     "iopub.status.idle": "2024-12-14T02:38:40.079147Z",
     "shell.execute_reply": "2024-12-14T02:38:40.077153Z"
    }
   },
   "outputs": [
    {
     "data": {
      "text/html": [
       "<div>\n",
       "<style scoped>\n",
       "    .dataframe tbody tr th:only-of-type {\n",
       "        vertical-align: middle;\n",
       "    }\n",
       "\n",
       "    .dataframe tbody tr th {\n",
       "        vertical-align: top;\n",
       "    }\n",
       "\n",
       "    .dataframe thead th {\n",
       "        text-align: right;\n",
       "    }\n",
       "</style>\n",
       "<table border=\"1\" class=\"dataframe\">\n",
       "  <thead>\n",
       "    <tr style=\"text-align: right;\">\n",
       "      <th></th>\n",
       "      <th>index</th>\n",
       "      <th>agency</th>\n",
       "      <th>observed_boardings</th>\n",
       "      <th>model_boardings</th>\n",
       "      <th>diff</th>\n",
       "      <th>perc_diff</th>\n",
       "    </tr>\n",
       "  </thead>\n",
       "  <tbody>\n",
       "    <tr>\n",
       "      <th>0</th>\n",
       "      <td>2</td>\n",
       "      <td>King County Metro</td>\n",
       "      <td>254,568.00</td>\n",
       "      <td>268,145.07</td>\n",
       "      <td>13,577.07</td>\n",
       "      <td>5.33%</td>\n",
       "    </tr>\n",
       "    <tr>\n",
       "      <th>1</th>\n",
       "      <td>5</td>\n",
       "      <td>Sound Transit</td>\n",
       "      <td>115,114.00</td>\n",
       "      <td>128,218.75</td>\n",
       "      <td>13,104.75</td>\n",
       "      <td>11.38%</td>\n",
       "    </tr>\n",
       "    <tr>\n",
       "      <th>2</th>\n",
       "      <td>0</td>\n",
       "      <td>Community Transit</td>\n",
       "      <td>21,752.24</td>\n",
       "      <td>27,420.69</td>\n",
       "      <td>5,668.45</td>\n",
       "      <td>26.06%</td>\n",
       "    </tr>\n",
       "    <tr>\n",
       "      <th>3</th>\n",
       "      <td>4</td>\n",
       "      <td>Pierce Transit</td>\n",
       "      <td>21,185.00</td>\n",
       "      <td>13,870.34</td>\n",
       "      <td>-7,314.66</td>\n",
       "      <td>-34.53%</td>\n",
       "    </tr>\n",
       "    <tr>\n",
       "      <th>4</th>\n",
       "      <td>6</td>\n",
       "      <td>Washington Ferries</td>\n",
       "      <td>7,883.00</td>\n",
       "      <td>5,348.55</td>\n",
       "      <td>-2,534.45</td>\n",
       "      <td>-32.15%</td>\n",
       "    </tr>\n",
       "    <tr>\n",
       "      <th>5</th>\n",
       "      <td>3</td>\n",
       "      <td>Kitsap Transit</td>\n",
       "      <td>7,829.00</td>\n",
       "      <td>10,711.57</td>\n",
       "      <td>2,882.57</td>\n",
       "      <td>36.82%</td>\n",
       "    </tr>\n",
       "    <tr>\n",
       "      <th>6</th>\n",
       "      <td>1</td>\n",
       "      <td>Everett Transit</td>\n",
       "      <td>4,201.00</td>\n",
       "      <td>4,549.01</td>\n",
       "      <td>348.01</td>\n",
       "      <td>8.28%</td>\n",
       "    </tr>\n",
       "    <tr>\n",
       "      <th>7</th>\n",
       "      <td>Total</td>\n",
       "      <td>Total</td>\n",
       "      <td>432,532.24</td>\n",
       "      <td>458,263.99</td>\n",
       "      <td>25,731.75</td>\n",
       "      <td>5.95%</td>\n",
       "    </tr>\n",
       "  </tbody>\n",
       "</table>\n",
       "</div>"
      ],
      "text/plain": [
       "   index              agency  observed_boardings  model_boardings      diff  \\\n",
       "0      2   King County Metro          254,568.00       268,145.07 13,577.07   \n",
       "1      5       Sound Transit          115,114.00       128,218.75 13,104.75   \n",
       "2      0   Community Transit           21,752.24        27,420.69  5,668.45   \n",
       "3      4      Pierce Transit           21,185.00        13,870.34 -7,314.66   \n",
       "4      6  Washington Ferries            7,883.00         5,348.55 -2,534.45   \n",
       "5      3      Kitsap Transit            7,829.00        10,711.57  2,882.57   \n",
       "6      1     Everett Transit            4,201.00         4,549.01    348.01   \n",
       "7  Total               Total          432,532.24       458,263.99 25,731.75   \n",
       "\n",
       "  perc_diff  \n",
       "0     5.33%  \n",
       "1    11.38%  \n",
       "2    26.06%  \n",
       "3   -34.53%  \n",
       "4   -32.15%  \n",
       "5    36.82%  \n",
       "6     8.28%  \n",
       "7     5.95%  "
      ]
     },
     "execution_count": 7,
     "metadata": {},
     "output_type": "execute_result"
    }
   ],
   "source": [
    "table_df = df.copy()\n",
    "\n",
    "table_df.loc['Total','observed_boardings'] = table_df.sum(axis=0).observed_boardings\n",
    "table_df.loc['Total','model_boardings'] = table_df.sum(axis=0).model_boardings\n",
    "table_df.loc['Total','agency'] = 'Total'\n",
    "table_df['diff'] = table_df['model_boardings']-table_df['observed_boardings']\n",
    "table_df['perc_diff'] = table_df['diff']/table_df['observed_boardings']\n",
    "table_df[['observed_boardings','model_boardings','diff']] = table_df[['observed_boardings','model_boardings','diff']].astype('float')\n",
    "table_df[['perc_diff']] = table_df[['perc_diff']].applymap(format_percent)\n",
    "table_df = table_df.reset_index()\n",
    "table_df"
   ]
  },
  {
   "cell_type": "raw",
   "id": "c43063a0",
   "metadata": {
    "vscode": {
     "languageId": "raw"
    }
   },
   "source": [
    "#### 2023/2024"
   ]
  },
  {
   "cell_type": "code",
   "execution_count": 8,
   "id": "6df663cd30d914ea",
   "metadata": {
    "ExecuteTime": {
     "end_time": "2024-06-24T17:50:27.521549Z",
     "start_time": "2024-06-24T17:50:27.349538Z"
    },
    "execution": {
     "iopub.execute_input": "2024-12-14T02:38:40.091115Z",
     "iopub.status.busy": "2024-12-14T02:38:40.090118Z",
     "iopub.status.idle": "2024-12-14T02:38:40.156559Z",
     "shell.execute_reply": "2024-12-14T02:38:40.154564Z"
    }
   },
   "outputs": [
    {
     "data": {
      "text/html": [
       "<div>\n",
       "<style scoped>\n",
       "    .dataframe tbody tr th:only-of-type {\n",
       "        vertical-align: middle;\n",
       "    }\n",
       "\n",
       "    .dataframe tbody tr th {\n",
       "        vertical-align: top;\n",
       "    }\n",
       "\n",
       "    .dataframe thead th {\n",
       "        text-align: right;\n",
       "    }\n",
       "</style>\n",
       "<table border=\"1\" class=\"dataframe\">\n",
       "  <thead>\n",
       "    <tr style=\"text-align: right;\">\n",
       "      <th></th>\n",
       "      <th>agency</th>\n",
       "      <th>2023 boarding</th>\n",
       "      <th>2024 boarding</th>\n",
       "      <th>model_boardings</th>\n",
       "      <th>2023 % diff</th>\n",
       "      <th>2024 % diff</th>\n",
       "    </tr>\n",
       "  </thead>\n",
       "  <tbody>\n",
       "    <tr>\n",
       "      <th>0</th>\n",
       "      <td>Community Transit</td>\n",
       "      <td>23,000.00</td>\n",
       "      <td>0.00</td>\n",
       "      <td>27,420.69</td>\n",
       "      <td>19.22%</td>\n",
       "      <td>-</td>\n",
       "    </tr>\n",
       "    <tr>\n",
       "      <th>1</th>\n",
       "      <td>Everett Transit</td>\n",
       "      <td>0.00</td>\n",
       "      <td>0.00</td>\n",
       "      <td>4,549.01</td>\n",
       "      <td>-</td>\n",
       "      <td>-</td>\n",
       "    </tr>\n",
       "    <tr>\n",
       "      <th>2</th>\n",
       "      <td>King County Metro</td>\n",
       "      <td>244,306.00</td>\n",
       "      <td>272,556.00</td>\n",
       "      <td>268,145.07</td>\n",
       "      <td>9.76%</td>\n",
       "      <td>-1.62%</td>\n",
       "    </tr>\n",
       "    <tr>\n",
       "      <th>3</th>\n",
       "      <td>Kitsap Transit</td>\n",
       "      <td>8,000.00</td>\n",
       "      <td>9,300.00</td>\n",
       "      <td>10,711.57</td>\n",
       "      <td>33.89%</td>\n",
       "      <td>15.18%</td>\n",
       "    </tr>\n",
       "    <tr>\n",
       "      <th>4</th>\n",
       "      <td>Pierce Transit</td>\n",
       "      <td>19,974.00</td>\n",
       "      <td>0.00</td>\n",
       "      <td>13,870.34</td>\n",
       "      <td>-30.56%</td>\n",
       "      <td>-</td>\n",
       "    </tr>\n",
       "    <tr>\n",
       "      <th>5</th>\n",
       "      <td>Sound Transit</td>\n",
       "      <td>115,516.00</td>\n",
       "      <td>133,703.00</td>\n",
       "      <td>128,218.75</td>\n",
       "      <td>11.00%</td>\n",
       "      <td>-4.10%</td>\n",
       "    </tr>\n",
       "    <tr>\n",
       "      <th>6</th>\n",
       "      <td>Washington Ferries</td>\n",
       "      <td>0.00</td>\n",
       "      <td>0.00</td>\n",
       "      <td>5,348.55</td>\n",
       "      <td>-</td>\n",
       "      <td>-</td>\n",
       "    </tr>\n",
       "  </tbody>\n",
       "</table>\n",
       "</div>"
      ],
      "text/plain": [
       "               agency  2023 boarding  2024 boarding  model_boardings  \\\n",
       "0   Community Transit      23,000.00           0.00        27,420.69   \n",
       "1     Everett Transit           0.00           0.00         4,549.01   \n",
       "2   King County Metro     244,306.00     272,556.00       268,145.07   \n",
       "3      Kitsap Transit       8,000.00       9,300.00        10,711.57   \n",
       "4      Pierce Transit      19,974.00           0.00        13,870.34   \n",
       "5       Sound Transit     115,516.00     133,703.00       128,218.75   \n",
       "6  Washington Ferries           0.00           0.00         5,348.55   \n",
       "\n",
       "  2023 % diff 2024 % diff  \n",
       "0      19.22%           -  \n",
       "1           -           -  \n",
       "2       9.76%      -1.62%  \n",
       "3      33.89%      15.18%  \n",
       "4     -30.56%           -  \n",
       "5      11.00%      -4.10%  \n",
       "6           -           -  "
      ]
     },
     "execution_count": 8,
     "metadata": {},
     "output_type": "execute_result"
    }
   ],
   "source": [
    "df = pd.read_csv(os.path.join(csv_path, 'daily_boardings_by_agency.csv'), usecols=['agency', 'model_boardings']).sort_values('model_boardings', ascending=False)\n",
    "df_obs = pd.read_sql(text(\"SELECT * FROM observed_transit_agency_boardings\"), con=conn.connect())\n",
    "\n",
    "df_obs_agency = df_obs.copy()\n",
    "df_obs_agency['boardings'] = df_obs_agency['boardings'].astype(float)\n",
    "df_obs_agency = df_obs_agency.groupby(['agency','year'])['boardings'].sum().unstack().reset_index()\n",
    "df_obs_agency = df_obs_agency.rename(columns={2023:'2023 boarding', 2024:'2024 boarding'})\n",
    "df_agency = df_obs_agency.merge(df, on='agency')\n",
    "\n",
    "df_agency['2023 % diff'] = (df_agency['model_boardings']-df_agency['2023 boarding'])/df_agency['2023 boarding']\n",
    "df_agency['2024 % diff'] = (df_agency['model_boardings']-df_agency['2024 boarding'])/df_agency['2024 boarding']\n",
    "df_agency[['2023 % diff']] = df_agency[['2023 % diff']].applymap(format_percent)\n",
    "df_agency[['2024 % diff']] = df_agency[['2024 % diff']].applymap(format_percent)\n",
    "df_agency = df_agency.replace('inf%', '-')\n",
    "\n",
    "df_agency"
   ]
  },
  {
   "cell_type": "raw",
   "id": "b155fe89",
   "metadata": {},
   "source": [
    "#### Bus Ridership by Agency"
   ]
  },
  {
   "cell_type": "code",
   "execution_count": 9,
   "id": "843fd939",
   "metadata": {},
   "outputs": [
    {
     "data": {
      "text/html": [
       "<div>\n",
       "<style scoped>\n",
       "    .dataframe tbody tr th:only-of-type {\n",
       "        vertical-align: middle;\n",
       "    }\n",
       "\n",
       "    .dataframe tbody tr th {\n",
       "        vertical-align: top;\n",
       "    }\n",
       "\n",
       "    .dataframe thead th {\n",
       "        text-align: right;\n",
       "    }\n",
       "</style>\n",
       "<table border=\"1\" class=\"dataframe\">\n",
       "  <thead>\n",
       "    <tr style=\"text-align: right;\">\n",
       "      <th></th>\n",
       "      <th>Model</th>\n",
       "      <th>2023 Spring Observed</th>\n",
       "      <th>2024 Spring Observed</th>\n",
       "    </tr>\n",
       "    <tr>\n",
       "      <th>agency</th>\n",
       "      <th></th>\n",
       "      <th></th>\n",
       "      <th></th>\n",
       "    </tr>\n",
       "  </thead>\n",
       "  <tbody>\n",
       "    <tr>\n",
       "      <th>Community Transit</th>\n",
       "      <td>27,420.69</td>\n",
       "      <td>21,752.24</td>\n",
       "      <td>0.00</td>\n",
       "    </tr>\n",
       "    <tr>\n",
       "      <th>Everett Transit</th>\n",
       "      <td>4,549.01</td>\n",
       "      <td>4,201.00</td>\n",
       "      <td>5,862.00</td>\n",
       "    </tr>\n",
       "    <tr>\n",
       "      <th>King County Metro</th>\n",
       "      <td>265,769.00</td>\n",
       "      <td>252,852.00</td>\n",
       "      <td>262,018.00</td>\n",
       "    </tr>\n",
       "    <tr>\n",
       "      <th>Kitsap Transit</th>\n",
       "      <td>5,321.54</td>\n",
       "      <td>4,048.00</td>\n",
       "      <td>0.00</td>\n",
       "    </tr>\n",
       "    <tr>\n",
       "      <th>Pierce Transit</th>\n",
       "      <td>13,870.34</td>\n",
       "      <td>21,185.00</td>\n",
       "      <td>21,911.00</td>\n",
       "    </tr>\n",
       "    <tr>\n",
       "      <th>Sound Transit</th>\n",
       "      <td>41,692.19</td>\n",
       "      <td>28,444.00</td>\n",
       "      <td>31,292.00</td>\n",
       "    </tr>\n",
       "  </tbody>\n",
       "</table>\n",
       "</div>"
      ],
      "text/plain": [
       "                       Model  2023 Spring Observed  2024 Spring Observed\n",
       "agency                                                                  \n",
       "Community Transit  27,420.69             21,752.24                  0.00\n",
       "Everett Transit     4,549.01              4,201.00              5,862.00\n",
       "King County Metro 265,769.00            252,852.00            262,018.00\n",
       "Kitsap Transit      5,321.54              4,048.00                  0.00\n",
       "Pierce Transit     13,870.34             21,185.00             21,911.00\n",
       "Sound Transit      41,692.19             28,444.00             31,292.00"
      ]
     },
     "execution_count": 9,
     "metadata": {},
     "output_type": "execute_result"
    }
   ],
   "source": [
    "# df = pd.read_csv(os.path.join(csv_path, 'daily_boardings_by_line.csv')).sort_values('observed_boardings', ascending=False)\n",
    "df = df_line_boardings_23_24.copy()\n",
    "df\n",
    "df = df[df['mode'].isin(['b'])]\n",
    "df = df.groupby(['agency']).sum()[['Model','2023 Spring Observed','2024 Spring Observed']]\n",
    "df\n"
   ]
  },
  {
   "cell_type": "raw",
   "id": "e64f5283",
   "metadata": {
    "vscode": {
     "languageId": "raw"
    }
   },
   "source": [
    ":::"
   ]
  },
  {
   "cell_type": "markdown",
   "id": "10436e8bdd112348",
   "metadata": {},
   "source": [
    "### boarding by key route"
   ]
  },
  {
   "cell_type": "raw",
   "id": "7d0d62e3693265f8",
   "metadata": {},
   "source": [
    ":::{.panel-tabset}\n",
    "#### ferry"
   ]
  },
  {
   "cell_type": "code",
   "execution_count": null,
   "id": "c734c2e2",
   "metadata": {},
   "outputs": [],
   "source": []
  },
  {
   "cell_type": "code",
   "execution_count": null,
   "id": "da96ea0d",
   "metadata": {},
   "outputs": [],
   "source": []
  },
  {
   "cell_type": "code",
   "execution_count": 10,
   "id": "75118f994b2c8118",
   "metadata": {
    "ExecuteTime": {
     "end_time": "2024-06-24T20:05:33.107476Z",
     "start_time": "2024-06-24T20:05:33.044901Z"
    },
    "execution": {
     "iopub.execute_input": "2024-12-14T02:38:40.169525Z",
     "iopub.status.busy": "2024-12-14T02:38:40.168527Z",
     "iopub.status.idle": "2024-12-14T02:38:40.235796Z",
     "shell.execute_reply": "2024-12-14T02:38:40.234293Z"
    }
   },
   "outputs": [
    {
     "data": {
      "text/html": [
       "<div>\n",
       "<style scoped>\n",
       "    .dataframe tbody tr th:only-of-type {\n",
       "        vertical-align: middle;\n",
       "    }\n",
       "\n",
       "    .dataframe tbody tr th {\n",
       "        vertical-align: top;\n",
       "    }\n",
       "\n",
       "    .dataframe thead th {\n",
       "        text-align: right;\n",
       "    }\n",
       "</style>\n",
       "<table border=\"1\" class=\"dataframe\">\n",
       "  <thead>\n",
       "    <tr style=\"text-align: right;\">\n",
       "      <th></th>\n",
       "      <th>index</th>\n",
       "      <th>description</th>\n",
       "      <th>Model</th>\n",
       "      <th>2023 Spring Observed</th>\n",
       "      <th>2024 Spring Observed</th>\n",
       "    </tr>\n",
       "  </thead>\n",
       "  <tbody>\n",
       "    <tr>\n",
       "      <th>6</th>\n",
       "      <td>278</td>\n",
       "      <td>WSF Seattle-Bain Isl</td>\n",
       "      <td>3,768.61</td>\n",
       "      <td>4,981.00</td>\n",
       "      <td>5,404.00</td>\n",
       "    </tr>\n",
       "    <tr>\n",
       "      <th>2</th>\n",
       "      <td>270</td>\n",
       "      <td>Seattle-Bremerton FF</td>\n",
       "      <td>3,564.46</td>\n",
       "      <td>1,913.00</td>\n",
       "      <td>2,068.00</td>\n",
       "    </tr>\n",
       "    <tr>\n",
       "      <th>3</th>\n",
       "      <td>271</td>\n",
       "      <td>Brem-Pt Orchard FF</td>\n",
       "      <td>982.77</td>\n",
       "      <td>768.00</td>\n",
       "      <td>857.00</td>\n",
       "    </tr>\n",
       "    <tr>\n",
       "      <th>4</th>\n",
       "      <td>273</td>\n",
       "      <td>Seattle-Southwrth FF</td>\n",
       "      <td>637.33</td>\n",
       "      <td>631.00</td>\n",
       "      <td>749.00</td>\n",
       "    </tr>\n",
       "    <tr>\n",
       "      <th>9</th>\n",
       "      <td>281</td>\n",
       "      <td>WSF Fauntleroy-Vashn</td>\n",
       "      <td>610.04</td>\n",
       "      <td>659.00</td>\n",
       "      <td>661.00</td>\n",
       "    </tr>\n",
       "    <tr>\n",
       "      <th>0</th>\n",
       "      <td>147</td>\n",
       "      <td>973 W Sea Water Taxi</td>\n",
       "      <td>396.78</td>\n",
       "      <td>837.00</td>\n",
       "      <td>873.00</td>\n",
       "    </tr>\n",
       "    <tr>\n",
       "      <th>8</th>\n",
       "      <td>280</td>\n",
       "      <td>WSF Fauntleroy-Swrth</td>\n",
       "      <td>347.22</td>\n",
       "      <td>134.00</td>\n",
       "      <td>184.00</td>\n",
       "    </tr>\n",
       "    <tr>\n",
       "      <th>1</th>\n",
       "      <td>148</td>\n",
       "      <td>975 Vashn Water Taxi</td>\n",
       "      <td>316.97</td>\n",
       "      <td>356.00</td>\n",
       "      <td>390.00</td>\n",
       "    </tr>\n",
       "    <tr>\n",
       "      <th>11</th>\n",
       "      <td>283</td>\n",
       "      <td>WSF Pt Def-Tahlequah</td>\n",
       "      <td>194.73</td>\n",
       "      <td>267.00</td>\n",
       "      <td>325.00</td>\n",
       "    </tr>\n",
       "    <tr>\n",
       "      <th>5</th>\n",
       "      <td>277</td>\n",
       "      <td>WSF Edmonds-Kingston</td>\n",
       "      <td>180.17</td>\n",
       "      <td>1,020.00</td>\n",
       "      <td>1,068.00</td>\n",
       "    </tr>\n",
       "    <tr>\n",
       "      <th>7</th>\n",
       "      <td>279</td>\n",
       "      <td>WSF Seattle-Brem</td>\n",
       "      <td>168.37</td>\n",
       "      <td>739.00</td>\n",
       "      <td>877.00</td>\n",
       "    </tr>\n",
       "    <tr>\n",
       "      <th>10</th>\n",
       "      <td>282</td>\n",
       "      <td>WSF Vashon-Southwrth</td>\n",
       "      <td>79.42</td>\n",
       "      <td>83.00</td>\n",
       "      <td>95.00</td>\n",
       "    </tr>\n",
       "  </tbody>\n",
       "</table>\n",
       "</div>"
      ],
      "text/plain": [
       "    index           description    Model  2023 Spring Observed  \\\n",
       "6     278  WSF Seattle-Bain Isl 3,768.61              4,981.00   \n",
       "2     270  Seattle-Bremerton FF 3,564.46              1,913.00   \n",
       "3     271    Brem-Pt Orchard FF   982.77                768.00   \n",
       "4     273  Seattle-Southwrth FF   637.33                631.00   \n",
       "9     281  WSF Fauntleroy-Vashn   610.04                659.00   \n",
       "0     147  973 W Sea Water Taxi   396.78                837.00   \n",
       "8     280  WSF Fauntleroy-Swrth   347.22                134.00   \n",
       "1     148  975 Vashn Water Taxi   316.97                356.00   \n",
       "11    283  WSF Pt Def-Tahlequah   194.73                267.00   \n",
       "5     277  WSF Edmonds-Kingston   180.17              1,020.00   \n",
       "7     279      WSF Seattle-Brem   168.37                739.00   \n",
       "10    282  WSF Vashon-Southwrth    79.42                 83.00   \n",
       "\n",
       "    2024 Spring Observed  \n",
       "6               5,404.00  \n",
       "2               2,068.00  \n",
       "3                 857.00  \n",
       "4                 749.00  \n",
       "9                 661.00  \n",
       "0                 873.00  \n",
       "8                 184.00  \n",
       "1                 390.00  \n",
       "11                325.00  \n",
       "5               1,068.00  \n",
       "7                 877.00  \n",
       "10                 95.00  "
      ]
     },
     "execution_count": 10,
     "metadata": {},
     "output_type": "execute_result"
    }
   ],
   "source": [
    "\n",
    "df = df_line_boardings_23_24[df_line_boardings_23_24['mode'].isin(['f','p'])][['route_code','description','agency','Model','2023 Spring Observed','2024 Spring Observed']]\n",
    "df = df[df['route_code'].isin([4200,4201,4203,4204,5001,5002,5003,5004,5005,5006,5007,1973,1975])].reset_index()\n",
    "df.drop(['route_code','agency'], axis=1, inplace=True)\n",
    "df_table = df.copy()\n",
    "# df_table[['perc_diff']] = df_table[['perc_diff']].applymap(format_percent)\n",
    "df_table.sort_values('Model', ascending=False)"
   ]
  },
  {
   "cell_type": "code",
   "execution_count": 11,
   "id": "67bf06d211cca3c6",
   "metadata": {
    "ExecuteTime": {
     "end_time": "2024-06-24T19:41:04.985397Z",
     "start_time": "2024-06-24T19:41:04.798158Z"
    },
    "execution": {
     "iopub.execute_input": "2024-12-14T02:38:40.247764Z",
     "iopub.status.busy": "2024-12-14T02:38:40.246767Z",
     "iopub.status.idle": "2024-12-14T02:38:40.267712Z",
     "shell.execute_reply": "2024-12-14T02:38:40.265717Z"
    }
   },
   "outputs": [],
   "source": [
    "# if len(df) > 0:\n",
    "#     ax = df.plot(kind='scatter', x='observed_boardings', y='model_boardings')\n",
    "#     lim = df[['observed_boardings','model_boardings']].max().max()*1.05\n",
    "#     ax.set_ylim(0,lim)\n",
    "#     ax.set_xlim(0,lim)\n",
    "#     x = np.linspace(*ax.get_xlim())\n",
    "#     ax.plot(x, x)\n",
    "#     slope, intercept, r_value, p_value, std_err = stats.linregress(df['observed_boardings'],df['model_boardings'])\n",
    "#     print('r^2 ' + str('') + ': ' + str(r_value))"
   ]
  },
  {
   "cell_type": "raw",
   "id": "14db883222970442",
   "metadata": {},
   "source": [
    "#### rail"
   ]
  },
  {
   "cell_type": "code",
   "execution_count": 12,
   "id": "c9adf289ac66da8",
   "metadata": {
    "ExecuteTime": {
     "end_time": "2024-06-24T20:05:45.826421Z",
     "start_time": "2024-06-24T20:05:45.779797Z"
    },
    "execution": {
     "iopub.execute_input": "2024-12-14T02:38:40.358988Z",
     "iopub.status.busy": "2024-12-14T02:38:40.356994Z",
     "iopub.status.idle": "2024-12-14T02:38:40.393246Z",
     "shell.execute_reply": "2024-12-14T02:38:40.391251Z"
    }
   },
   "outputs": [
    {
     "data": {
      "text/html": [
       "<div>\n",
       "<style scoped>\n",
       "    .dataframe tbody tr th:only-of-type {\n",
       "        vertical-align: middle;\n",
       "    }\n",
       "\n",
       "    .dataframe tbody tr th {\n",
       "        vertical-align: top;\n",
       "    }\n",
       "\n",
       "    .dataframe thead th {\n",
       "        text-align: right;\n",
       "    }\n",
       "</style>\n",
       "<table border=\"1\" class=\"dataframe\">\n",
       "  <thead>\n",
       "    <tr style=\"text-align: right;\">\n",
       "      <th></th>\n",
       "      <th>route_code</th>\n",
       "      <th>description</th>\n",
       "      <th>agency</th>\n",
       "      <th>Model</th>\n",
       "      <th>2023 Spring Observed</th>\n",
       "      <th>2024 Spring Observed</th>\n",
       "    </tr>\n",
       "  </thead>\n",
       "  <tbody>\n",
       "    <tr>\n",
       "      <th>0</th>\n",
       "      <td>6996</td>\n",
       "      <td>Link Red Line</td>\n",
       "      <td>Sound Transit</td>\n",
       "      <td>77,916.99</td>\n",
       "      <td>78,772.00</td>\n",
       "      <td>91,213.00</td>\n",
       "    </tr>\n",
       "    <tr>\n",
       "      <th>1</th>\n",
       "      <td>6998</td>\n",
       "      <td>Sounder South</td>\n",
       "      <td>Sound Transit</td>\n",
       "      <td>6,708.04</td>\n",
       "      <td>6,038.00</td>\n",
       "      <td>7,168.00</td>\n",
       "    </tr>\n",
       "    <tr>\n",
       "      <th>2</th>\n",
       "      <td>6999</td>\n",
       "      <td>Sounder North</td>\n",
       "      <td>Sound Transit</td>\n",
       "      <td>4.20</td>\n",
       "      <td>316.00</td>\n",
       "      <td>367.00</td>\n",
       "    </tr>\n",
       "  </tbody>\n",
       "</table>\n",
       "</div>"
      ],
      "text/plain": [
       "   route_code    description         agency     Model  2023 Spring Observed  \\\n",
       "0        6996  Link Red Line  Sound Transit 77,916.99             78,772.00   \n",
       "1        6998  Sounder South  Sound Transit  6,708.04              6,038.00   \n",
       "2        6999  Sounder North  Sound Transit      4.20                316.00   \n",
       "\n",
       "   2024 Spring Observed  \n",
       "0             91,213.00  \n",
       "1              7,168.00  \n",
       "2                367.00  "
      ]
     },
     "execution_count": 12,
     "metadata": {},
     "output_type": "execute_result"
    }
   ],
   "source": [
    "df = df_line_boardings_23_24[df_line_boardings_23_24['route_code'].isin([6996,6999,6998])].reset_index()\n",
    "df['description'] = df['route_code'].map({6998: 'Sounder South', 6999: 'Sounder North',6996: 'Link Red Line'})\n",
    "# df.drop(['route_code','agency'], axis=1, inplace=True)\n",
    "df_table = df[['route_code','description','agency','Model','2023 Spring Observed','2024 Spring Observed']].copy()\n",
    "# df_table[['perc_diff']] = df_table[['perc_diff']].applymap(format_percent)\n",
    "df_table"
   ]
  },
  {
   "cell_type": "code",
   "execution_count": 13,
   "id": "cb27f79888f8363d",
   "metadata": {
    "ExecuteTime": {
     "end_time": "2024-06-24T19:41:16.172926Z",
     "start_time": "2024-06-24T19:41:15.922628Z"
    },
    "execution": {
     "iopub.execute_input": "2024-12-14T02:38:40.404216Z",
     "iopub.status.busy": "2024-12-14T02:38:40.403219Z",
     "iopub.status.idle": "2024-12-14T02:38:40.833802Z",
     "shell.execute_reply": "2024-12-14T02:38:40.831807Z"
    }
   },
   "outputs": [],
   "source": [
    "# if len(df) > 0:\n",
    "#     ax = df.plot(kind='scatter', x='observed_boardings', y='model_boardings')\n",
    "#     lim = df[['observed_boardings','model_boardings']].max().max()*1.05\n",
    "#     ax.set_ylim(0,lim)\n",
    "#     ax.set_xlim(0,lim)\n",
    "#     x = np.linspace(*ax.get_xlim())\n",
    "#     ax.plot(x, x)\n",
    "#     slope, intercept, r_value, p_value, std_err = stats.linregress(df['observed_boardings'],df['model_boardings'])\n",
    "#     print('r^2 ' + str('') + ': ' + str(r_value))"
   ]
  },
  {
   "cell_type": "raw",
   "id": "a24f21772d15369c",
   "metadata": {},
   "source": [
    "#### RapidRide, busiest buses, streetcar"
   ]
  },
  {
   "cell_type": "code",
   "execution_count": 14,
   "id": "a048f8a2b6d7d277",
   "metadata": {
    "ExecuteTime": {
     "end_time": "2024-06-24T20:05:51.529079Z",
     "start_time": "2024-06-24T20:05:51.482757Z"
    },
    "execution": {
     "iopub.execute_input": "2024-12-14T02:38:40.845770Z",
     "iopub.status.busy": "2024-12-14T02:38:40.844772Z",
     "iopub.status.idle": "2024-12-14T02:38:40.911021Z",
     "shell.execute_reply": "2024-12-14T02:38:40.909026Z"
    }
   },
   "outputs": [
    {
     "data": {
      "text/html": [
       "<div>\n",
       "<style scoped>\n",
       "    .dataframe tbody tr th:only-of-type {\n",
       "        vertical-align: middle;\n",
       "    }\n",
       "\n",
       "    .dataframe tbody tr th {\n",
       "        vertical-align: top;\n",
       "    }\n",
       "\n",
       "    .dataframe thead th {\n",
       "        text-align: right;\n",
       "    }\n",
       "</style>\n",
       "<table border=\"1\" class=\"dataframe\">\n",
       "  <thead>\n",
       "    <tr style=\"text-align: right;\">\n",
       "      <th></th>\n",
       "      <th>route_code</th>\n",
       "      <th>description</th>\n",
       "      <th>agency</th>\n",
       "      <th>Model</th>\n",
       "      <th>2023 Spring Observed</th>\n",
       "      <th>2024 Spring Observed</th>\n",
       "    </tr>\n",
       "  </thead>\n",
       "  <tbody>\n",
       "    <tr>\n",
       "      <th>6</th>\n",
       "      <td>1675</td>\n",
       "      <td>E Line RapidRide</td>\n",
       "      <td>King County Metro</td>\n",
       "      <td>15,039.96</td>\n",
       "      <td>11,057.00</td>\n",
       "      <td>13,011.00</td>\n",
       "    </tr>\n",
       "    <tr>\n",
       "      <th>0</th>\n",
       "      <td>1007</td>\n",
       "      <td>KC Metro 7</td>\n",
       "      <td>King County Metro</td>\n",
       "      <td>11,091.71</td>\n",
       "      <td>10,059.00</td>\n",
       "      <td>10,819.00</td>\n",
       "    </tr>\n",
       "    <tr>\n",
       "      <th>4</th>\n",
       "      <td>1673</td>\n",
       "      <td>C Line RapidRide</td>\n",
       "      <td>King County Metro</td>\n",
       "      <td>9,918.62</td>\n",
       "      <td>7,224.00</td>\n",
       "      <td>7,541.00</td>\n",
       "    </tr>\n",
       "    <tr>\n",
       "      <th>1</th>\n",
       "      <td>1040</td>\n",
       "      <td>KC Metro 40</td>\n",
       "      <td>King County Metro</td>\n",
       "      <td>8,569.13</td>\n",
       "      <td>7,218.00</td>\n",
       "      <td>8,255.00</td>\n",
       "    </tr>\n",
       "    <tr>\n",
       "      <th>5</th>\n",
       "      <td>1674</td>\n",
       "      <td>D Line RapidRide</td>\n",
       "      <td>King County Metro</td>\n",
       "      <td>7,443.93</td>\n",
       "      <td>8,805.00</td>\n",
       "      <td>9,634.00</td>\n",
       "    </tr>\n",
       "    <tr>\n",
       "      <th>10</th>\n",
       "      <td>6550</td>\n",
       "      <td>Sound Transit 550</td>\n",
       "      <td>Sound Transit</td>\n",
       "      <td>7,041.89</td>\n",
       "      <td>3,677.00</td>\n",
       "      <td>4,074.00</td>\n",
       "    </tr>\n",
       "    <tr>\n",
       "      <th>2</th>\n",
       "      <td>1671</td>\n",
       "      <td>A Line RapidRide</td>\n",
       "      <td>King County Metro</td>\n",
       "      <td>6,358.81</td>\n",
       "      <td>8,178.00</td>\n",
       "      <td>9,415.00</td>\n",
       "    </tr>\n",
       "    <tr>\n",
       "      <th>7</th>\n",
       "      <td>1676</td>\n",
       "      <td>F Line RapidRide</td>\n",
       "      <td>King County Metro</td>\n",
       "      <td>5,210.79</td>\n",
       "      <td>4,548.00</td>\n",
       "      <td>4,968.00</td>\n",
       "    </tr>\n",
       "    <tr>\n",
       "      <th>3</th>\n",
       "      <td>1672</td>\n",
       "      <td>B Line RapidRide</td>\n",
       "      <td>King County Metro</td>\n",
       "      <td>3,217.95</td>\n",
       "      <td>4,214.00</td>\n",
       "      <td>4,694.00</td>\n",
       "    </tr>\n",
       "    <tr>\n",
       "      <th>8</th>\n",
       "      <td>1997</td>\n",
       "      <td>SLU Streetcar</td>\n",
       "      <td>King County Metro</td>\n",
       "      <td>1,682.02</td>\n",
       "      <td>523.00</td>\n",
       "      <td>360.00</td>\n",
       "    </tr>\n",
       "    <tr>\n",
       "      <th>9</th>\n",
       "      <td>1998</td>\n",
       "      <td>First Hill Streetcar</td>\n",
       "      <td>King County Metro</td>\n",
       "      <td>922.29</td>\n",
       "      <td>3,915.00</td>\n",
       "      <td>4,115.00</td>\n",
       "    </tr>\n",
       "  </tbody>\n",
       "</table>\n",
       "</div>"
      ],
      "text/plain": [
       "    route_code           description             agency     Model  \\\n",
       "6         1675      E Line RapidRide  King County Metro 15,039.96   \n",
       "0         1007            KC Metro 7  King County Metro 11,091.71   \n",
       "4         1673      C Line RapidRide  King County Metro  9,918.62   \n",
       "1         1040           KC Metro 40  King County Metro  8,569.13   \n",
       "5         1674      D Line RapidRide  King County Metro  7,443.93   \n",
       "10        6550     Sound Transit 550      Sound Transit  7,041.89   \n",
       "2         1671      A Line RapidRide  King County Metro  6,358.81   \n",
       "7         1676      F Line RapidRide  King County Metro  5,210.79   \n",
       "3         1672      B Line RapidRide  King County Metro  3,217.95   \n",
       "8         1997         SLU Streetcar  King County Metro  1,682.02   \n",
       "9         1998  First Hill Streetcar  King County Metro    922.29   \n",
       "\n",
       "    2023 Spring Observed  2024 Spring Observed  \n",
       "6              11,057.00             13,011.00  \n",
       "0              10,059.00             10,819.00  \n",
       "4               7,224.00              7,541.00  \n",
       "1               7,218.00              8,255.00  \n",
       "5               8,805.00              9,634.00  \n",
       "10              3,677.00              4,074.00  \n",
       "2               8,178.00              9,415.00  \n",
       "7               4,548.00              4,968.00  \n",
       "3               4,214.00              4,694.00  \n",
       "8                 523.00                360.00  \n",
       "9               3,915.00              4,115.00  "
      ]
     },
     "execution_count": 14,
     "metadata": {},
     "output_type": "execute_result"
    }
   ],
   "source": [
    "# df = df_boarding_key[df_boarding_key['route_code'].isin([1671,1672,1673,1674,1675,1676,6550,1007,1040,1997,1998])].reset_index()\n",
    "# df['description'] = df['route_code'].map({1671: 'A Line RapidRide', 1672: 'B Line RapidRide',\n",
    "#                                             1673: 'C Line RapidRide', 1674: 'D Line RapidRide',\n",
    "#                                             1675: 'E Line RapidRide', 1676: 'F Line RapidRide',\n",
    "#                                             6550: 'Sound Transit 550', 1040: 'KC Metro 40', 1007: 'KC Metro 7',\n",
    "#                                             1997: 'SLU Streetcar', 1998: 'First Hill Streetcar'})\n",
    "# df.drop(['route_code','agency'], axis=1, inplace=True)\n",
    "\n",
    "df = df_line_boardings_23_24[df_line_boardings_23_24['route_code'].isin([1671,1672,1673,1674,1675,1676,6550,1007,1040,1997,1998])].reset_index()\n",
    "df['description'] = df['route_code'].map({1671: 'A Line RapidRide', 1672: 'B Line RapidRide',\n",
    "                                            1673: 'C Line RapidRide', 1674: 'D Line RapidRide',\n",
    "                                            1675: 'E Line RapidRide', 1676: 'F Line RapidRide',\n",
    "                                            6550: 'Sound Transit 550', 1040: 'KC Metro 40', 1007: 'KC Metro 7',\n",
    "                                            1997: 'SLU Streetcar', 1998: 'First Hill Streetcar'})\n",
    "# df.drop(['route_code','agency'], axis=1, inplace=True)\n",
    "df_table = df[['route_code','description','agency','Model','2023 Spring Observed','2024 Spring Observed']].copy()\n",
    "\n",
    "df_table = df[['route_code','description','agency','Model','2023 Spring Observed','2024 Spring Observed']].copy()\n",
    "df_table.sort_values('Model', ascending=False)"
   ]
  },
  {
   "cell_type": "code",
   "execution_count": 15,
   "id": "813aa67bd5e6c1f6",
   "metadata": {
    "ExecuteTime": {
     "end_time": "2024-06-24T19:41:23.547293Z",
     "start_time": "2024-06-24T19:41:23.312803Z"
    },
    "execution": {
     "iopub.execute_input": "2024-12-14T02:38:40.921991Z",
     "iopub.status.busy": "2024-12-14T02:38:40.920994Z",
     "iopub.status.idle": "2024-12-14T02:38:41.159750Z",
     "shell.execute_reply": "2024-12-14T02:38:41.157755Z"
    }
   },
   "outputs": [],
   "source": [
    "# if len(df) > 0:\n",
    "#     ax = df.plot(kind='scatter', x='observed_boardings', y='model_boardings')\n",
    "#     lim = df[['observed_boardings', 'model_boardings']].max().max() * 1.05\n",
    "#     ax.set_ylim(0, lim)\n",
    "#     ax.set_xlim(0, lim)\n",
    "#     x = np.linspace(*ax.get_xlim())\n",
    "#     ax.plot(x, x)\n",
    "#     slope, intercept, r_value, p_value, std_err = stats.linregress(df['observed_boardings'], df['model_boardings'])\n",
    "#     print('r^2 ' + str('') + ': ' + str(r_value))"
   ]
  },
  {
   "cell_type": "raw",
   "id": "c55611b2314fffc3",
   "metadata": {},
   "source": [
    ":::"
   ]
  },
  {
   "cell_type": "markdown",
   "id": "e050a08b",
   "metadata": {},
   "source": [
    "### Top routes by agency"
   ]
  },
  {
   "cell_type": "code",
   "execution_count": 16,
   "id": "58d89e2b",
   "metadata": {},
   "outputs": [],
   "source": [
    "# df = pd.read_csv(os.path.join(csv_path, 'daily_boardings_by_line.csv'))\n",
    "df = df_line_boardings_23_24.copy()\n",
    "# df_top = pd.DataFrame()\n",
    "# for agency in df['agency'].unique():\n",
    "#     _df = df[df['agency'] == agency].sort_values('model_boardings', ascending=False).head(8)\n",
    "#     df_top = pd.concat([df_top, _df])\n",
    "# df = df_top[['agency','description','mode','model_boardings','observed_boardings','diff','perc_diff']]\n",
    "cols=['agency','description','mode','Model','2023 Spring Observed','2024 Spring Observed']"
   ]
  },
  {
   "cell_type": "raw",
   "id": "7972e453",
   "metadata": {},
   "source": [
    ":::{.panel-tabset}\n",
    "#### King County Metro"
   ]
  },
  {
   "cell_type": "code",
   "execution_count": 17,
   "id": "35a6745d",
   "metadata": {},
   "outputs": [
    {
     "data": {
      "text/html": [
       "<div>\n",
       "<style scoped>\n",
       "    .dataframe tbody tr th:only-of-type {\n",
       "        vertical-align: middle;\n",
       "    }\n",
       "\n",
       "    .dataframe tbody tr th {\n",
       "        vertical-align: top;\n",
       "    }\n",
       "\n",
       "    .dataframe thead th {\n",
       "        text-align: right;\n",
       "    }\n",
       "</style>\n",
       "<table border=\"1\" class=\"dataframe\">\n",
       "  <thead>\n",
       "    <tr style=\"text-align: right;\">\n",
       "      <th></th>\n",
       "      <th>agency</th>\n",
       "      <th>description</th>\n",
       "      <th>mode</th>\n",
       "      <th>Model</th>\n",
       "      <th>2023 Spring Observed</th>\n",
       "      <th>2024 Spring Observed</th>\n",
       "    </tr>\n",
       "  </thead>\n",
       "  <tbody>\n",
       "    <tr>\n",
       "      <th>130</th>\n",
       "      <td>King County Metro</td>\n",
       "      <td>E-Line</td>\n",
       "      <td>b</td>\n",
       "      <td>15,039.96</td>\n",
       "      <td>11,057.00</td>\n",
       "      <td>13,011.00</td>\n",
       "    </tr>\n",
       "    <tr>\n",
       "      <th>5</th>\n",
       "      <td>King County Metro</td>\n",
       "      <td>7 Rain Bch-ColC-CBD</td>\n",
       "      <td>b</td>\n",
       "      <td>11,091.71</td>\n",
       "      <td>10,059.00</td>\n",
       "      <td>10,819.00</td>\n",
       "    </tr>\n",
       "    <tr>\n",
       "      <th>128</th>\n",
       "      <td>King County Metro</td>\n",
       "      <td>C Line</td>\n",
       "      <td>b</td>\n",
       "      <td>9,918.62</td>\n",
       "      <td>7,224.00</td>\n",
       "      <td>7,541.00</td>\n",
       "    </tr>\n",
       "    <tr>\n",
       "      <th>28</th>\n",
       "      <td>King County Metro</td>\n",
       "      <td>40 Ngt-Bal-Fre-CBD</td>\n",
       "      <td>b</td>\n",
       "      <td>8,569.13</td>\n",
       "      <td>7,218.00</td>\n",
       "      <td>8,255.00</td>\n",
       "    </tr>\n",
       "    <tr>\n",
       "      <th>129</th>\n",
       "      <td>King County Metro</td>\n",
       "      <td>D Line</td>\n",
       "      <td>b</td>\n",
       "      <td>7,443.93</td>\n",
       "      <td>8,805.00</td>\n",
       "      <td>9,634.00</td>\n",
       "    </tr>\n",
       "    <tr>\n",
       "      <th>132</th>\n",
       "      <td>King County Metro</td>\n",
       "      <td>H-Line</td>\n",
       "      <td>b</td>\n",
       "      <td>7,015.18</td>\n",
       "      <td>6,907.00</td>\n",
       "      <td>0.00</td>\n",
       "    </tr>\n",
       "    <tr>\n",
       "      <th>67</th>\n",
       "      <td>King County Metro</td>\n",
       "      <td>160 Aub-Kent-Rent</td>\n",
       "      <td>b</td>\n",
       "      <td>6,527.31</td>\n",
       "      <td>5,008.00</td>\n",
       "      <td>5,492.00</td>\n",
       "    </tr>\n",
       "    <tr>\n",
       "      <th>126</th>\n",
       "      <td>King County Metro</td>\n",
       "      <td>A Line</td>\n",
       "      <td>b</td>\n",
       "      <td>6,358.81</td>\n",
       "      <td>8,178.00</td>\n",
       "      <td>9,415.00</td>\n",
       "    </tr>\n",
       "    <tr>\n",
       "      <th>39</th>\n",
       "      <td>King County Metro</td>\n",
       "      <td>62 SndPt-GLk-Fre-CBD</td>\n",
       "      <td>b</td>\n",
       "      <td>6,028.58</td>\n",
       "      <td>6,138.00</td>\n",
       "      <td>6,743.00</td>\n",
       "    </tr>\n",
       "    <tr>\n",
       "      <th>43</th>\n",
       "      <td>King County Metro</td>\n",
       "      <td>70 Udst-Elake-CBD</td>\n",
       "      <td>b</td>\n",
       "      <td>5,974.62</td>\n",
       "      <td>4,298.00</td>\n",
       "      <td>4,658.00</td>\n",
       "    </tr>\n",
       "  </tbody>\n",
       "</table>\n",
       "</div>"
      ],
      "text/plain": [
       "                agency           description mode     Model  \\\n",
       "130  King County Metro                E-Line    b 15,039.96   \n",
       "5    King County Metro   7 Rain Bch-ColC-CBD    b 11,091.71   \n",
       "128  King County Metro                C Line    b  9,918.62   \n",
       "28   King County Metro    40 Ngt-Bal-Fre-CBD    b  8,569.13   \n",
       "129  King County Metro                D Line    b  7,443.93   \n",
       "132  King County Metro                H-Line    b  7,015.18   \n",
       "67   King County Metro     160 Aub-Kent-Rent    b  6,527.31   \n",
       "126  King County Metro                A Line    b  6,358.81   \n",
       "39   King County Metro  62 SndPt-GLk-Fre-CBD    b  6,028.58   \n",
       "43   King County Metro     70 Udst-Elake-CBD    b  5,974.62   \n",
       "\n",
       "     2023 Spring Observed  2024 Spring Observed  \n",
       "130             11,057.00             13,011.00  \n",
       "5               10,059.00             10,819.00  \n",
       "128              7,224.00              7,541.00  \n",
       "28               7,218.00              8,255.00  \n",
       "129              8,805.00              9,634.00  \n",
       "132              6,907.00                  0.00  \n",
       "67               5,008.00              5,492.00  \n",
       "126              8,178.00              9,415.00  \n",
       "39               6,138.00              6,743.00  \n",
       "43               4,298.00              4,658.00  "
      ]
     },
     "execution_count": 17,
     "metadata": {},
     "output_type": "execute_result"
    }
   ],
   "source": [
    "agency = 'King County Metro'\n",
    "df[df['agency'] == agency].sort_values('Model', ascending=False).head(10)[cols]"
   ]
  },
  {
   "cell_type": "raw",
   "id": "cbdadc57",
   "metadata": {},
   "source": [
    "#### Sound Transit"
   ]
  },
  {
   "cell_type": "code",
   "execution_count": 18,
   "id": "fbbb65ca",
   "metadata": {},
   "outputs": [
    {
     "data": {
      "text/html": [
       "<div>\n",
       "<style scoped>\n",
       "    .dataframe tbody tr th:only-of-type {\n",
       "        vertical-align: middle;\n",
       "    }\n",
       "\n",
       "    .dataframe tbody tr th {\n",
       "        vertical-align: top;\n",
       "    }\n",
       "\n",
       "    .dataframe thead th {\n",
       "        text-align: right;\n",
       "    }\n",
       "</style>\n",
       "<table border=\"1\" class=\"dataframe\">\n",
       "  <thead>\n",
       "    <tr style=\"text-align: right;\">\n",
       "      <th></th>\n",
       "      <th>agency</th>\n",
       "      <th>description</th>\n",
       "      <th>mode</th>\n",
       "      <th>Model</th>\n",
       "      <th>2023 Spring Observed</th>\n",
       "      <th>2024 Spring Observed</th>\n",
       "    </tr>\n",
       "  </thead>\n",
       "  <tbody>\n",
       "    <tr>\n",
       "      <th>308</th>\n",
       "      <td>Sound Transit</td>\n",
       "      <td>Light Rail Ang Lk-NG</td>\n",
       "      <td>r</td>\n",
       "      <td>77,916.99</td>\n",
       "      <td>78,772.00</td>\n",
       "      <td>91,213.00</td>\n",
       "    </tr>\n",
       "    <tr>\n",
       "      <th>292</th>\n",
       "      <td>Sound Transit</td>\n",
       "      <td>550 Bellevue-Seattle</td>\n",
       "      <td>b</td>\n",
       "      <td>7,041.89</td>\n",
       "      <td>3,677.00</td>\n",
       "      <td>4,074.00</td>\n",
       "    </tr>\n",
       "    <tr>\n",
       "      <th>309</th>\n",
       "      <td>Sound Transit</td>\n",
       "      <td>Commutr Rail Tac-Sea</td>\n",
       "      <td>c</td>\n",
       "      <td>6,708.04</td>\n",
       "      <td>6,038.00</td>\n",
       "      <td>7,168.00</td>\n",
       "    </tr>\n",
       "    <tr>\n",
       "      <th>287</th>\n",
       "      <td>Sound Transit</td>\n",
       "      <td>522 Woodinvl-Roosvlt</td>\n",
       "      <td>b</td>\n",
       "      <td>5,155.42</td>\n",
       "      <td>1,756.00</td>\n",
       "      <td>2,286.00</td>\n",
       "    </tr>\n",
       "    <tr>\n",
       "      <th>285</th>\n",
       "      <td>Sound Transit</td>\n",
       "      <td>512 Everett-Northgte</td>\n",
       "      <td>b</td>\n",
       "      <td>4,940.89</td>\n",
       "      <td>2,306.00</td>\n",
       "      <td>2,937.00</td>\n",
       "    </tr>\n",
       "    <tr>\n",
       "      <th>291</th>\n",
       "      <td>Sound Transit</td>\n",
       "      <td>545 Redmond-Seattle</td>\n",
       "      <td>b</td>\n",
       "      <td>4,706.23</td>\n",
       "      <td>4,075.00</td>\n",
       "      <td>4,816.00</td>\n",
       "    </tr>\n",
       "    <tr>\n",
       "      <th>293</th>\n",
       "      <td>Sound Transit</td>\n",
       "      <td>554 Issaquah-Seattle</td>\n",
       "      <td>b</td>\n",
       "      <td>4,095.27</td>\n",
       "      <td>2,415.00</td>\n",
       "      <td>2,783.00</td>\n",
       "    </tr>\n",
       "    <tr>\n",
       "      <th>299</th>\n",
       "      <td>Sound Transit</td>\n",
       "      <td>578 Seattle-Puyallup</td>\n",
       "      <td>b</td>\n",
       "      <td>2,877.85</td>\n",
       "      <td>1,523.00</td>\n",
       "      <td>1,614.00</td>\n",
       "    </tr>\n",
       "    <tr>\n",
       "      <th>297</th>\n",
       "      <td>Sound Transit</td>\n",
       "      <td>574 Lakewood-SeaTac</td>\n",
       "      <td>b</td>\n",
       "      <td>2,167.62</td>\n",
       "      <td>1,870.00</td>\n",
       "      <td>1,764.00</td>\n",
       "    </tr>\n",
       "    <tr>\n",
       "      <th>295</th>\n",
       "      <td>Sound Transit</td>\n",
       "      <td>560 W Sea-Bellevue</td>\n",
       "      <td>b</td>\n",
       "      <td>2,054.78</td>\n",
       "      <td>1,371.00</td>\n",
       "      <td>1,286.00</td>\n",
       "    </tr>\n",
       "  </tbody>\n",
       "</table>\n",
       "</div>"
      ],
      "text/plain": [
       "            agency           description mode     Model  2023 Spring Observed  \\\n",
       "308  Sound Transit  Light Rail Ang Lk-NG    r 77,916.99             78,772.00   \n",
       "292  Sound Transit  550 Bellevue-Seattle    b  7,041.89              3,677.00   \n",
       "309  Sound Transit  Commutr Rail Tac-Sea    c  6,708.04              6,038.00   \n",
       "287  Sound Transit  522 Woodinvl-Roosvlt    b  5,155.42              1,756.00   \n",
       "285  Sound Transit  512 Everett-Northgte    b  4,940.89              2,306.00   \n",
       "291  Sound Transit   545 Redmond-Seattle    b  4,706.23              4,075.00   \n",
       "293  Sound Transit  554 Issaquah-Seattle    b  4,095.27              2,415.00   \n",
       "299  Sound Transit  578 Seattle-Puyallup    b  2,877.85              1,523.00   \n",
       "297  Sound Transit   574 Lakewood-SeaTac    b  2,167.62              1,870.00   \n",
       "295  Sound Transit    560 W Sea-Bellevue    b  2,054.78              1,371.00   \n",
       "\n",
       "     2024 Spring Observed  \n",
       "308             91,213.00  \n",
       "292              4,074.00  \n",
       "309              7,168.00  \n",
       "287              2,286.00  \n",
       "285              2,937.00  \n",
       "291              4,816.00  \n",
       "293              2,783.00  \n",
       "299              1,614.00  \n",
       "297              1,764.00  \n",
       "295              1,286.00  "
      ]
     },
     "execution_count": 18,
     "metadata": {},
     "output_type": "execute_result"
    }
   ],
   "source": [
    "agency = 'Sound Transit'\n",
    "df[df['agency'] == agency].sort_values('Model', ascending=False).head(10)[cols]"
   ]
  },
  {
   "cell_type": "raw",
   "id": "5bb6872d",
   "metadata": {},
   "source": [
    "#### Community Transit"
   ]
  },
  {
   "cell_type": "code",
   "execution_count": 19,
   "id": "f7994dd7",
   "metadata": {},
   "outputs": [
    {
     "data": {
      "text/html": [
       "<div>\n",
       "<style scoped>\n",
       "    .dataframe tbody tr th:only-of-type {\n",
       "        vertical-align: middle;\n",
       "    }\n",
       "\n",
       "    .dataframe tbody tr th {\n",
       "        vertical-align: top;\n",
       "    }\n",
       "\n",
       "    .dataframe thead th {\n",
       "        text-align: right;\n",
       "    }\n",
       "</style>\n",
       "<table border=\"1\" class=\"dataframe\">\n",
       "  <thead>\n",
       "    <tr style=\"text-align: right;\">\n",
       "      <th></th>\n",
       "      <th>agency</th>\n",
       "      <th>description</th>\n",
       "      <th>mode</th>\n",
       "      <th>Model</th>\n",
       "      <th>2023 Spring Observed</th>\n",
       "      <th>2024 Spring Observed</th>\n",
       "    </tr>\n",
       "  </thead>\n",
       "  <tbody>\n",
       "    <tr>\n",
       "      <th>230</th>\n",
       "      <td>Community Transit</td>\n",
       "      <td>Swift Blue</td>\n",
       "      <td>b</td>\n",
       "      <td>6,272.58</td>\n",
       "      <td>5,403.45</td>\n",
       "      <td>0.00</td>\n",
       "    </tr>\n",
       "    <tr>\n",
       "      <th>231</th>\n",
       "      <td>Community Transit</td>\n",
       "      <td>Swift Green</td>\n",
       "      <td>b</td>\n",
       "      <td>2,643.44</td>\n",
       "      <td>2,017.48</td>\n",
       "      <td>0.00</td>\n",
       "    </tr>\n",
       "    <tr>\n",
       "      <th>200</th>\n",
       "      <td>Community Transit</td>\n",
       "      <td>116 Edm-Silver Firs</td>\n",
       "      <td>b</td>\n",
       "      <td>2,141.41</td>\n",
       "      <td>1,072.31</td>\n",
       "      <td>0.00</td>\n",
       "    </tr>\n",
       "    <tr>\n",
       "      <th>199</th>\n",
       "      <td>Community Transit</td>\n",
       "      <td>115 McClm P&amp;R-AurVil</td>\n",
       "      <td>b</td>\n",
       "      <td>1,643.19</td>\n",
       "      <td>965.18</td>\n",
       "      <td>0.00</td>\n",
       "    </tr>\n",
       "    <tr>\n",
       "      <th>206</th>\n",
       "      <td>Community Transit</td>\n",
       "      <td>202 Smokey Pt-Lynnwd</td>\n",
       "      <td>b</td>\n",
       "      <td>1,459.12</td>\n",
       "      <td>1,138.86</td>\n",
       "      <td>0.00</td>\n",
       "    </tr>\n",
       "    <tr>\n",
       "      <th>205</th>\n",
       "      <td>Community Transit</td>\n",
       "      <td>201 Smokey Pt-Lynnwd</td>\n",
       "      <td>b</td>\n",
       "      <td>1,451.35</td>\n",
       "      <td>1,081.12</td>\n",
       "      <td>0.00</td>\n",
       "    </tr>\n",
       "    <tr>\n",
       "      <th>191</th>\n",
       "      <td>Community Transit</td>\n",
       "      <td>101 Mar P&amp;R-Aur Vill</td>\n",
       "      <td>b</td>\n",
       "      <td>1,413.68</td>\n",
       "      <td>810.47</td>\n",
       "      <td>0.00</td>\n",
       "    </tr>\n",
       "    <tr>\n",
       "      <th>203</th>\n",
       "      <td>Community Transit</td>\n",
       "      <td>130 Edmonds-Lynnwood</td>\n",
       "      <td>b</td>\n",
       "      <td>923.48</td>\n",
       "      <td>473.41</td>\n",
       "      <td>0.00</td>\n",
       "    </tr>\n",
       "    <tr>\n",
       "      <th>198</th>\n",
       "      <td>Community Transit</td>\n",
       "      <td>113 Mukilteo-Lynn TC</td>\n",
       "      <td>b</td>\n",
       "      <td>800.02</td>\n",
       "      <td>763.82</td>\n",
       "      <td>0.00</td>\n",
       "    </tr>\n",
       "    <tr>\n",
       "      <th>216</th>\n",
       "      <td>Community Transit</td>\n",
       "      <td>280 Gran Falls-Evrt</td>\n",
       "      <td>b</td>\n",
       "      <td>719.73</td>\n",
       "      <td>400.20</td>\n",
       "      <td>0.00</td>\n",
       "    </tr>\n",
       "  </tbody>\n",
       "</table>\n",
       "</div>"
      ],
      "text/plain": [
       "                agency           description mode    Model  \\\n",
       "230  Community Transit            Swift Blue    b 6,272.58   \n",
       "231  Community Transit           Swift Green    b 2,643.44   \n",
       "200  Community Transit   116 Edm-Silver Firs    b 2,141.41   \n",
       "199  Community Transit  115 McClm P&R-AurVil    b 1,643.19   \n",
       "206  Community Transit  202 Smokey Pt-Lynnwd    b 1,459.12   \n",
       "205  Community Transit  201 Smokey Pt-Lynnwd    b 1,451.35   \n",
       "191  Community Transit  101 Mar P&R-Aur Vill    b 1,413.68   \n",
       "203  Community Transit  130 Edmonds-Lynnwood    b   923.48   \n",
       "198  Community Transit  113 Mukilteo-Lynn TC    b   800.02   \n",
       "216  Community Transit   280 Gran Falls-Evrt    b   719.73   \n",
       "\n",
       "     2023 Spring Observed  2024 Spring Observed  \n",
       "230              5,403.45                  0.00  \n",
       "231              2,017.48                  0.00  \n",
       "200              1,072.31                  0.00  \n",
       "199                965.18                  0.00  \n",
       "206              1,138.86                  0.00  \n",
       "205              1,081.12                  0.00  \n",
       "191                810.47                  0.00  \n",
       "203                473.41                  0.00  \n",
       "198                763.82                  0.00  \n",
       "216                400.20                  0.00  "
      ]
     },
     "execution_count": 19,
     "metadata": {},
     "output_type": "execute_result"
    }
   ],
   "source": [
    "agency = 'Community Transit'\n",
    "df[df['agency'] == agency].sort_values('Model', ascending=False).head(10)[cols]"
   ]
  },
  {
   "cell_type": "raw",
   "id": "4e738512",
   "metadata": {},
   "source": [
    "#### Pierce Transit"
   ]
  },
  {
   "cell_type": "code",
   "execution_count": 20,
   "id": "5385aa93",
   "metadata": {},
   "outputs": [
    {
     "data": {
      "text/html": [
       "<div>\n",
       "<style scoped>\n",
       "    .dataframe tbody tr th:only-of-type {\n",
       "        vertical-align: middle;\n",
       "    }\n",
       "\n",
       "    .dataframe tbody tr th {\n",
       "        vertical-align: top;\n",
       "    }\n",
       "\n",
       "    .dataframe thead th {\n",
       "        text-align: right;\n",
       "    }\n",
       "</style>\n",
       "<table border=\"1\" class=\"dataframe\">\n",
       "  <thead>\n",
       "    <tr style=\"text-align: right;\">\n",
       "      <th></th>\n",
       "      <th>agency</th>\n",
       "      <th>description</th>\n",
       "      <th>mode</th>\n",
       "      <th>Model</th>\n",
       "      <th>2023 Spring Observed</th>\n",
       "      <th>2024 Spring Observed</th>\n",
       "    </tr>\n",
       "  </thead>\n",
       "  <tbody>\n",
       "    <tr>\n",
       "      <th>160</th>\n",
       "      <td>Pierce Transit</td>\n",
       "      <td>1 6th Ave-Pac Ave</td>\n",
       "      <td>b</td>\n",
       "      <td>1,655.20</td>\n",
       "      <td>3,035.00</td>\n",
       "      <td>3,633.00</td>\n",
       "    </tr>\n",
       "    <tr>\n",
       "      <th>161</th>\n",
       "      <td>Pierce Transit</td>\n",
       "      <td>2 S 19th-Bridgeport</td>\n",
       "      <td>b</td>\n",
       "      <td>1,165.66</td>\n",
       "      <td>1,729.00</td>\n",
       "      <td>1,774.00</td>\n",
       "    </tr>\n",
       "    <tr>\n",
       "      <th>185</th>\n",
       "      <td>Pierce Transit</td>\n",
       "      <td>402 Meridian</td>\n",
       "      <td>b</td>\n",
       "      <td>1,056.65</td>\n",
       "      <td>626.00</td>\n",
       "      <td>761.00</td>\n",
       "    </tr>\n",
       "    <tr>\n",
       "      <th>184</th>\n",
       "      <td>Pierce Transit</td>\n",
       "      <td>400 Puyllp-Tacoma</td>\n",
       "      <td>b</td>\n",
       "      <td>967.28</td>\n",
       "      <td>336.00</td>\n",
       "      <td>362.00</td>\n",
       "    </tr>\n",
       "    <tr>\n",
       "      <th>189</th>\n",
       "      <td>Pierce Transit</td>\n",
       "      <td>500 Federal Way</td>\n",
       "      <td>b</td>\n",
       "      <td>844.51</td>\n",
       "      <td>845.00</td>\n",
       "      <td>827.00</td>\n",
       "    </tr>\n",
       "    <tr>\n",
       "      <th>162</th>\n",
       "      <td>Pierce Transit</td>\n",
       "      <td>3 Lakewood-Tacoma</td>\n",
       "      <td>b</td>\n",
       "      <td>843.27</td>\n",
       "      <td>1,250.00</td>\n",
       "      <td>1,525.00</td>\n",
       "    </tr>\n",
       "    <tr>\n",
       "      <th>190</th>\n",
       "      <td>Pierce Transit</td>\n",
       "      <td>501 Miltn-Fed Way</td>\n",
       "      <td>b</td>\n",
       "      <td>809.14</td>\n",
       "      <td>431.00</td>\n",
       "      <td>488.00</td>\n",
       "    </tr>\n",
       "    <tr>\n",
       "      <th>163</th>\n",
       "      <td>Pierce Transit</td>\n",
       "      <td>4 Lakewd-South Hill</td>\n",
       "      <td>b</td>\n",
       "      <td>663.00</td>\n",
       "      <td>968.00</td>\n",
       "      <td>1,023.00</td>\n",
       "    </tr>\n",
       "    <tr>\n",
       "      <th>169</th>\n",
       "      <td>Pierce Transit</td>\n",
       "      <td>41 S 56th St-Salish</td>\n",
       "      <td>b</td>\n",
       "      <td>642.30</td>\n",
       "      <td>1,088.00</td>\n",
       "      <td>1,061.00</td>\n",
       "    </tr>\n",
       "    <tr>\n",
       "      <th>172</th>\n",
       "      <td>Pierce Transit</td>\n",
       "      <td>48 Sheridan-M St</td>\n",
       "      <td>b</td>\n",
       "      <td>490.50</td>\n",
       "      <td>1,065.00</td>\n",
       "      <td>1,134.00</td>\n",
       "    </tr>\n",
       "  </tbody>\n",
       "</table>\n",
       "</div>"
      ],
      "text/plain": [
       "             agency          description mode    Model  2023 Spring Observed  \\\n",
       "160  Pierce Transit    1 6th Ave-Pac Ave    b 1,655.20              3,035.00   \n",
       "161  Pierce Transit  2 S 19th-Bridgeport    b 1,165.66              1,729.00   \n",
       "185  Pierce Transit         402 Meridian    b 1,056.65                626.00   \n",
       "184  Pierce Transit    400 Puyllp-Tacoma    b   967.28                336.00   \n",
       "189  Pierce Transit      500 Federal Way    b   844.51                845.00   \n",
       "162  Pierce Transit    3 Lakewood-Tacoma    b   843.27              1,250.00   \n",
       "190  Pierce Transit    501 Miltn-Fed Way    b   809.14                431.00   \n",
       "163  Pierce Transit  4 Lakewd-South Hill    b   663.00                968.00   \n",
       "169  Pierce Transit  41 S 56th St-Salish    b   642.30              1,088.00   \n",
       "172  Pierce Transit     48 Sheridan-M St    b   490.50              1,065.00   \n",
       "\n",
       "     2024 Spring Observed  \n",
       "160              3,633.00  \n",
       "161              1,774.00  \n",
       "185                761.00  \n",
       "184                362.00  \n",
       "189                827.00  \n",
       "162              1,525.00  \n",
       "190                488.00  \n",
       "163              1,023.00  \n",
       "169              1,061.00  \n",
       "172              1,134.00  "
      ]
     },
     "execution_count": 20,
     "metadata": {},
     "output_type": "execute_result"
    }
   ],
   "source": [
    "agency = 'Pierce Transit'\n",
    "df[df['agency'] == agency].sort_values('Model', ascending=False).head(10)[cols]"
   ]
  },
  {
   "cell_type": "raw",
   "id": "61e52696",
   "metadata": {},
   "source": [
    "#### Kitsap Transit"
   ]
  },
  {
   "cell_type": "code",
   "execution_count": 21,
   "id": "9c35bb78",
   "metadata": {},
   "outputs": [
    {
     "data": {
      "text/html": [
       "<div>\n",
       "<style scoped>\n",
       "    .dataframe tbody tr th:only-of-type {\n",
       "        vertical-align: middle;\n",
       "    }\n",
       "\n",
       "    .dataframe tbody tr th {\n",
       "        vertical-align: top;\n",
       "    }\n",
       "\n",
       "    .dataframe thead th {\n",
       "        text-align: right;\n",
       "    }\n",
       "</style>\n",
       "<table border=\"1\" class=\"dataframe\">\n",
       "  <thead>\n",
       "    <tr style=\"text-align: right;\">\n",
       "      <th></th>\n",
       "      <th>agency</th>\n",
       "      <th>description</th>\n",
       "      <th>mode</th>\n",
       "      <th>Model</th>\n",
       "      <th>2023 Spring Observed</th>\n",
       "      <th>2024 Spring Observed</th>\n",
       "    </tr>\n",
       "  </thead>\n",
       "  <tbody>\n",
       "    <tr>\n",
       "      <th>270</th>\n",
       "      <td>Kitsap Transit</td>\n",
       "      <td>Seattle-Bremerton FF</td>\n",
       "      <td>f</td>\n",
       "      <td>3,564.46</td>\n",
       "      <td>1,913.00</td>\n",
       "      <td>2,068.00</td>\n",
       "    </tr>\n",
       "    <tr>\n",
       "      <th>271</th>\n",
       "      <td>Kitsap Transit</td>\n",
       "      <td>Brem-Pt Orchard FF</td>\n",
       "      <td>p</td>\n",
       "      <td>982.77</td>\n",
       "      <td>768.00</td>\n",
       "      <td>857.00</td>\n",
       "    </tr>\n",
       "    <tr>\n",
       "      <th>244</th>\n",
       "      <td>Kitsap Transit</td>\n",
       "      <td>217 Brem-Silverdle E</td>\n",
       "      <td>b</td>\n",
       "      <td>880.20</td>\n",
       "      <td>417.00</td>\n",
       "      <td>0.00</td>\n",
       "    </tr>\n",
       "    <tr>\n",
       "      <th>242</th>\n",
       "      <td>Kitsap Transit</td>\n",
       "      <td>212 Brem-Silverdle W</td>\n",
       "      <td>b</td>\n",
       "      <td>713.56</td>\n",
       "      <td>679.00</td>\n",
       "      <td>0.00</td>\n",
       "    </tr>\n",
       "    <tr>\n",
       "      <th>273</th>\n",
       "      <td>Kitsap Transit</td>\n",
       "      <td>Seattle-Southwrth FF</td>\n",
       "      <td>f</td>\n",
       "      <td>637.33</td>\n",
       "      <td>631.00</td>\n",
       "      <td>749.00</td>\n",
       "    </tr>\n",
       "    <tr>\n",
       "      <th>259</th>\n",
       "      <td>Kitsap Transit</td>\n",
       "      <td>86 Southwrth Shuttle</td>\n",
       "      <td>b</td>\n",
       "      <td>564.23</td>\n",
       "      <td>91.00</td>\n",
       "      <td>0.00</td>\n",
       "    </tr>\n",
       "    <tr>\n",
       "      <th>260</th>\n",
       "      <td>Kitsap Transit</td>\n",
       "      <td>390 Poulsbo-Bainbrdg</td>\n",
       "      <td>b</td>\n",
       "      <td>423.88</td>\n",
       "      <td>170.00</td>\n",
       "      <td>0.00</td>\n",
       "    </tr>\n",
       "    <tr>\n",
       "      <th>243</th>\n",
       "      <td>Kitsap Transit</td>\n",
       "      <td>215 McWilliams</td>\n",
       "      <td>b</td>\n",
       "      <td>289.31</td>\n",
       "      <td>115.00</td>\n",
       "      <td>0.00</td>\n",
       "    </tr>\n",
       "    <tr>\n",
       "      <th>254</th>\n",
       "      <td>Kitsap Transit</td>\n",
       "      <td>333 Silvrdale-Bainb</td>\n",
       "      <td>b</td>\n",
       "      <td>247.03</td>\n",
       "      <td>114.00</td>\n",
       "      <td>0.00</td>\n",
       "    </tr>\n",
       "    <tr>\n",
       "      <th>240</th>\n",
       "      <td>Kitsap Transit</td>\n",
       "      <td>8 Bethel</td>\n",
       "      <td>b</td>\n",
       "      <td>224.28</td>\n",
       "      <td>152.00</td>\n",
       "      <td>0.00</td>\n",
       "    </tr>\n",
       "  </tbody>\n",
       "</table>\n",
       "</div>"
      ],
      "text/plain": [
       "             agency           description mode    Model  2023 Spring Observed  \\\n",
       "270  Kitsap Transit  Seattle-Bremerton FF    f 3,564.46              1,913.00   \n",
       "271  Kitsap Transit    Brem-Pt Orchard FF    p   982.77                768.00   \n",
       "244  Kitsap Transit  217 Brem-Silverdle E    b   880.20                417.00   \n",
       "242  Kitsap Transit  212 Brem-Silverdle W    b   713.56                679.00   \n",
       "273  Kitsap Transit  Seattle-Southwrth FF    f   637.33                631.00   \n",
       "259  Kitsap Transit  86 Southwrth Shuttle    b   564.23                 91.00   \n",
       "260  Kitsap Transit  390 Poulsbo-Bainbrdg    b   423.88                170.00   \n",
       "243  Kitsap Transit        215 McWilliams    b   289.31                115.00   \n",
       "254  Kitsap Transit   333 Silvrdale-Bainb    b   247.03                114.00   \n",
       "240  Kitsap Transit              8 Bethel    b   224.28                152.00   \n",
       "\n",
       "     2024 Spring Observed  \n",
       "270              2,068.00  \n",
       "271                857.00  \n",
       "244                  0.00  \n",
       "242                  0.00  \n",
       "273                749.00  \n",
       "259                  0.00  \n",
       "260                  0.00  \n",
       "243                  0.00  \n",
       "254                  0.00  \n",
       "240                  0.00  "
      ]
     },
     "execution_count": 21,
     "metadata": {},
     "output_type": "execute_result"
    }
   ],
   "source": [
    "agency = 'Kitsap Transit'\n",
    "df[df['agency'] == agency].sort_values('Model', ascending=False).head(10)[cols]"
   ]
  },
  {
   "cell_type": "raw",
   "id": "674756a8",
   "metadata": {},
   "source": [
    "#### Everett Transit"
   ]
  },
  {
   "cell_type": "code",
   "execution_count": 22,
   "id": "26ea3064",
   "metadata": {},
   "outputs": [
    {
     "data": {
      "text/html": [
       "<div>\n",
       "<style scoped>\n",
       "    .dataframe tbody tr th:only-of-type {\n",
       "        vertical-align: middle;\n",
       "    }\n",
       "\n",
       "    .dataframe tbody tr th {\n",
       "        vertical-align: top;\n",
       "    }\n",
       "\n",
       "    .dataframe thead th {\n",
       "        text-align: right;\n",
       "    }\n",
       "</style>\n",
       "<table border=\"1\" class=\"dataframe\">\n",
       "  <thead>\n",
       "    <tr style=\"text-align: right;\">\n",
       "      <th></th>\n",
       "      <th>agency</th>\n",
       "      <th>description</th>\n",
       "      <th>mode</th>\n",
       "      <th>Model</th>\n",
       "      <th>2023 Spring Observed</th>\n",
       "      <th>2024 Spring Observed</th>\n",
       "    </tr>\n",
       "  </thead>\n",
       "  <tbody>\n",
       "    <tr>\n",
       "      <th>315</th>\n",
       "      <td>Everett Transit</td>\n",
       "      <td>7 Coll Stn-Mall Stn</td>\n",
       "      <td>b</td>\n",
       "      <td>2,512.99</td>\n",
       "      <td>2,239.00</td>\n",
       "      <td>2,958.00</td>\n",
       "    </tr>\n",
       "    <tr>\n",
       "      <th>319</th>\n",
       "      <td>Everett Transit</td>\n",
       "      <td>29 Coll Stn-Mall Stn</td>\n",
       "      <td>b</td>\n",
       "      <td>1,227.68</td>\n",
       "      <td>881.00</td>\n",
       "      <td>1,185.00</td>\n",
       "    </tr>\n",
       "    <tr>\n",
       "      <th>312</th>\n",
       "      <td>Everett Transit</td>\n",
       "      <td>3 Seaway TC-Evt Stn</td>\n",
       "      <td>b</td>\n",
       "      <td>333.92</td>\n",
       "      <td>285.00</td>\n",
       "      <td>381.00</td>\n",
       "    </tr>\n",
       "    <tr>\n",
       "      <th>316</th>\n",
       "      <td>Everett Transit</td>\n",
       "      <td>8 Airport Rd-Evt Stn</td>\n",
       "      <td>b</td>\n",
       "      <td>111.66</td>\n",
       "      <td>156.00</td>\n",
       "      <td>201.00</td>\n",
       "    </tr>\n",
       "    <tr>\n",
       "      <th>311</th>\n",
       "      <td>Everett Transit</td>\n",
       "      <td>2 Marnr P&amp;R-Mall Stn</td>\n",
       "      <td>b</td>\n",
       "      <td>89.62</td>\n",
       "      <td>148.00</td>\n",
       "      <td>255.00</td>\n",
       "    </tr>\n",
       "    <tr>\n",
       "      <th>314</th>\n",
       "      <td>Everett Transit</td>\n",
       "      <td>6 Waterfront-Evt Stn</td>\n",
       "      <td>b</td>\n",
       "      <td>75.04</td>\n",
       "      <td>62.00</td>\n",
       "      <td>91.00</td>\n",
       "    </tr>\n",
       "    <tr>\n",
       "      <th>313</th>\n",
       "      <td>Everett Transit</td>\n",
       "      <td>4 Evt Stn-Collge Stn</td>\n",
       "      <td>b</td>\n",
       "      <td>69.88</td>\n",
       "      <td>114.00</td>\n",
       "      <td>198.00</td>\n",
       "    </tr>\n",
       "    <tr>\n",
       "      <th>318</th>\n",
       "      <td>Everett Transit</td>\n",
       "      <td>18 Mukilteo-Evt Stn</td>\n",
       "      <td>b</td>\n",
       "      <td>65.47</td>\n",
       "      <td>60.00</td>\n",
       "      <td>136.00</td>\n",
       "    </tr>\n",
       "    <tr>\n",
       "      <th>317</th>\n",
       "      <td>Everett Transit</td>\n",
       "      <td>12 Mall Stn-Seawy TC</td>\n",
       "      <td>b</td>\n",
       "      <td>62.73</td>\n",
       "      <td>256.00</td>\n",
       "      <td>457.00</td>\n",
       "    </tr>\n",
       "  </tbody>\n",
       "</table>\n",
       "</div>"
      ],
      "text/plain": [
       "              agency           description mode    Model  \\\n",
       "315  Everett Transit   7 Coll Stn-Mall Stn    b 2,512.99   \n",
       "319  Everett Transit  29 Coll Stn-Mall Stn    b 1,227.68   \n",
       "312  Everett Transit   3 Seaway TC-Evt Stn    b   333.92   \n",
       "316  Everett Transit  8 Airport Rd-Evt Stn    b   111.66   \n",
       "311  Everett Transit  2 Marnr P&R-Mall Stn    b    89.62   \n",
       "314  Everett Transit  6 Waterfront-Evt Stn    b    75.04   \n",
       "313  Everett Transit  4 Evt Stn-Collge Stn    b    69.88   \n",
       "318  Everett Transit   18 Mukilteo-Evt Stn    b    65.47   \n",
       "317  Everett Transit  12 Mall Stn-Seawy TC    b    62.73   \n",
       "\n",
       "     2023 Spring Observed  2024 Spring Observed  \n",
       "315              2,239.00              2,958.00  \n",
       "319                881.00              1,185.00  \n",
       "312                285.00                381.00  \n",
       "316                156.00                201.00  \n",
       "311                148.00                255.00  \n",
       "314                 62.00                 91.00  \n",
       "313                114.00                198.00  \n",
       "318                 60.00                136.00  \n",
       "317                256.00                457.00  "
      ]
     },
     "execution_count": 22,
     "metadata": {},
     "output_type": "execute_result"
    }
   ],
   "source": [
    "agency = 'Everett Transit'\n",
    "df[df['agency'] == agency].sort_values('Model', ascending=False).head(10)[cols]"
   ]
  },
  {
   "cell_type": "raw",
   "id": "65fb23f5",
   "metadata": {},
   "source": [
    ":::"
   ]
  },
  {
   "cell_type": "markdown",
   "id": "7d3ea810",
   "metadata": {
    "vscode": {
     "languageId": "raw"
    }
   },
   "source": [
    "### boarding by time of day"
   ]
  },
  {
   "cell_type": "raw",
   "id": "fa3dcd8b",
   "metadata": {
    "vscode": {
     "languageId": "raw"
    }
   },
   "source": []
  },
  {
   "cell_type": "code",
   "execution_count": 23,
   "id": "efcc5c51",
   "metadata": {},
   "outputs": [
    {
     "data": {
      "text/html": [
       "        <script type=\"text/javascript\">\n",
       "        window.PlotlyConfig = {MathJaxConfig: 'local'};\n",
       "        if (window.MathJax && window.MathJax.Hub && window.MathJax.Hub.Config) {window.MathJax.Hub.Config({SVG: {font: \"STIX-Web\"}});}\n",
       "        if (typeof require !== 'undefined') {\n",
       "        require.undef(\"plotly\");\n",
       "        requirejs.config({\n",
       "            paths: {\n",
       "                'plotly': ['https://cdn.plot.ly/plotly-2.35.2.min']\n",
       "            }\n",
       "        });\n",
       "        require(['plotly'], function(Plotly) {\n",
       "            window._Plotly = Plotly;\n",
       "        });\n",
       "        }\n",
       "        </script>\n",
       "        "
      ]
     },
     "metadata": {},
     "output_type": "display_data"
    },
    {
     "data": {
      "application/vnd.plotly.v1+json": {
       "config": {
        "plotlyServerURL": "https://plot.ly"
       },
       "data": [
        {
         "mode": "lines",
         "name": "101 Mar P&R-Aur Vill",
         "type": "scatter",
         "visible": true,
         "x": [
          "10to14",
          "14to15",
          "15to16",
          "16to17",
          "17to18",
          "18to20",
          "20to5",
          "5to6",
          "6to7",
          "7to8",
          "8to9",
          "9to10",
          "10to11",
          "11to12",
          "12to13",
          "13to14",
          "18to19",
          "19to20",
          "20to21",
          "21to22",
          "22to23",
          "23to0",
          "0to1",
          "1to2",
          "2to3",
          "3to4",
          "4to5"
         ],
         "y": [
          423.34837341308594,
          86.75497817993164,
          101.34419250488281,
          106.46076202392578,
          98.93807983398438,
          202.66210174560547,
          59.24205017089844,
          8.701230525970459,
          39.30128192901611,
          87.27090072631836,
          102.74908065795898,
          96.90957641601562,
          105.83709335327148,
          105.83709335327148,
          105.83709335327148,
          105.83709335327148,
          101.33105087280273,
          101.33105087280273,
          6.582450018988715,
          6.582450018988715,
          6.582450018988715,
          6.582450018988715,
          6.582450018988715,
          6.582450018988715,
          6.582450018988715,
          6.582450018988715,
          6.582450018988715
         ]
        },
        {
         "mode": "lines",
         "name": "105 Mariner P&R-Both",
         "type": "scatter",
         "visible": false,
         "x": [
          "10to14",
          "14to15",
          "15to16",
          "16to17",
          "17to18",
          "18to20",
          "20to5",
          "5to6",
          "6to7",
          "7to8",
          "8to9",
          "9to10",
          "10to11",
          "11to12",
          "12to13",
          "13to14",
          "18to19",
          "19to20",
          "20to21",
          "21to22",
          "22to23",
          "23to0",
          "0to1",
          "1to2",
          "2to3",
          "3to4",
          "4to5"
         ],
         "y": [
          146.1233615875244,
          38.317840576171875,
          65.60298538208008,
          38.11735439300537,
          39.02707862854004,
          34.30124759674073,
          22.00733184814453,
          11.957349300384521,
          25.81673240661621,
          37.28504943847656,
          25.095109939575195,
          30.372010231018066,
          36.5308403968811,
          36.5308403968811,
          36.5308403968811,
          36.5308403968811,
          17.150623798370365,
          17.150623798370365,
          2.4452590942382812,
          2.4452590942382812,
          2.4452590942382812,
          2.4452590942382812,
          2.4452590942382812,
          2.4452590942382812,
          2.4452590942382812,
          2.4452590942382812,
          2.4452590942382812
         ]
        },
        {
         "mode": "lines",
         "name": "106 Mariner P&R-Both",
         "type": "scatter",
         "visible": false,
         "x": [
          "16to17",
          "17to18",
          "18to20",
          "5to6",
          "6to7",
          "7to8",
          "18to19",
          "19to20"
         ],
         "y": [
          38.55539321899414,
          45.66926383972168,
          10.91594409942627,
          11.183503150939941,
          35.25502586364746,
          19.270790100097656,
          5.457972049713135,
          5.457972049713135
         ]
        },
        {
         "mode": "lines",
         "name": "109 Ash Wy P&R-LkStv",
         "type": "scatter",
         "visible": false,
         "x": [
          "10to14",
          "14to15",
          "15to16",
          "16to17",
          "17to18",
          "18to20",
          "20to5",
          "5to6",
          "6to7",
          "7to8",
          "8to9",
          "9to10",
          "10to11",
          "11to12",
          "12to13",
          "13to14",
          "18to19",
          "19to20",
          "20to21",
          "21to22",
          "22to23",
          "23to0",
          "0to1",
          "1to2",
          "2to3",
          "3to4",
          "4to5"
         ],
         "y": [
          167.78692626953125,
          41.451372146606445,
          68.43139266967773,
          30.007988929748535,
          68.21172332763672,
          97.14514923095703,
          36.9336462020874,
          23.802370071411133,
          28.18033504486084,
          43.079952239990234,
          23.88214683532715,
          47.89363098144531,
          41.94673156738281,
          41.94673156738281,
          41.94673156738281,
          41.94673156738281,
          48.572574615478516,
          48.572574615478516,
          4.103738466898601,
          4.103738466898601,
          4.103738466898601,
          4.103738466898601,
          4.103738466898601,
          4.103738466898601,
          4.103738466898601,
          4.103738466898601,
          4.103738466898601
         ]
        },
        {
         "mode": "lines",
         "name": "112 MLT TC-Ash P&R",
         "type": "scatter",
         "visible": false,
         "x": [
          "10to14",
          "14to15",
          "15to16",
          "16to17",
          "17to18",
          "18to20",
          "20to5",
          "5to6",
          "6to7",
          "7to8",
          "8to9",
          "9to10",
          "10to11",
          "11to12",
          "12to13",
          "13to14",
          "18to19",
          "19to20",
          "20to21",
          "21to22",
          "22to23",
          "23to0",
          "0to1",
          "1to2",
          "2to3",
          "3to4",
          "4to5"
         ],
         "y": [
          69.73773956298828,
          12.86925458908081,
          16.850738525390625,
          13.975707530975344,
          19.02902603149414,
          40.29503059387207,
          6.646530866622925,
          13.235602378845215,
          10.17793321609497,
          15.904158592224121,
          20.961276531219482,
          26.027578353881836,
          17.43443489074707,
          17.43443489074707,
          17.43443489074707,
          17.43443489074707,
          20.147515296936035,
          20.147515296936035,
          0.7385034296247694,
          0.7385034296247694,
          0.7385034296247694,
          0.7385034296247694,
          0.7385034296247694,
          0.7385034296247694,
          0.7385034296247694,
          0.7385034296247694,
          0.7385034296247694
         ]
        },
        {
         "mode": "lines",
         "name": "113 Mukilteo-Lynn TC",
         "type": "scatter",
         "visible": false,
         "x": [
          "10to14",
          "14to15",
          "15to16",
          "16to17",
          "17to18",
          "18to20",
          "20to5",
          "5to6",
          "6to7",
          "7to8",
          "8to9",
          "9to10",
          "10to11",
          "11to12",
          "12to13",
          "13to14",
          "18to19",
          "19to20",
          "20to21",
          "21to22",
          "22to23",
          "23to0",
          "0to1",
          "1to2",
          "2to3",
          "3to4",
          "4to5"
         ],
         "y": [
          212.85662841796875,
          84.97936248779297,
          52.80525779724122,
          65.95822715759277,
          68.91934967041016,
          104.31828689575195,
          22.129364013671875,
          17.82770347595215,
          17.023064136505127,
          44.43563747406006,
          58.959121704101555,
          49.80850791931152,
          53.21415710449219,
          53.21415710449219,
          53.21415710449219,
          53.21415710449219,
          52.15914344787598,
          52.15914344787598,
          2.4588182237413196,
          2.4588182237413196,
          2.4588182237413196,
          2.4588182237413196,
          2.4588182237413196,
          2.4588182237413196,
          2.4588182237413196,
          2.4588182237413196,
          2.4588182237413196
         ]
        },
        {
         "mode": "lines",
         "name": "115 McClm P&R-AurVil",
         "type": "scatter",
         "visible": false,
         "x": [
          "10to14",
          "14to15",
          "15to16",
          "16to17",
          "17to18",
          "18to20",
          "20to5",
          "5to6",
          "6to7",
          "7to8",
          "8to9",
          "9to10",
          "10to11",
          "11to12",
          "12to13",
          "13to14",
          "18to19",
          "19to20",
          "20to21",
          "21to22",
          "22to23",
          "23to0",
          "0to1",
          "1to2",
          "2to3",
          "3to4",
          "4to5"
         ],
         "y": [
          484.0235900878906,
          104.4726333618164,
          196.35400390625,
          69.89847946166992,
          120.9097785949707,
          192.09500885009766,
          39.85531616210938,
          24.688393592834473,
          69.35493087768555,
          95.50840187072754,
          115.92376327514648,
          130.1056671142578,
          121.00589752197266,
          121.00589752197266,
          121.00589752197266,
          121.00589752197266,
          96.04750442504883,
          96.04750442504883,
          4.428368462456598,
          4.428368462456598,
          4.428368462456598,
          4.428368462456598,
          4.428368462456598,
          4.428368462456598,
          4.428368462456598,
          4.428368462456598,
          4.428368462456598
         ]
        },
        {
         "mode": "lines",
         "name": "116 Edm-Silver Firs",
         "type": "scatter",
         "visible": false,
         "x": [
          "10to14",
          "14to15",
          "15to16",
          "16to17",
          "17to18",
          "18to20",
          "20to5",
          "5to6",
          "6to7",
          "7to8",
          "8to9",
          "9to10",
          "10to11",
          "11to12",
          "12to13",
          "13to14",
          "18to19",
          "19to20",
          "20to21",
          "21to22",
          "22to23",
          "23to0",
          "0to1",
          "1to2",
          "2to3",
          "3to4",
          "4to5"
         ],
         "y": [
          683.7037048339844,
          180.41598510742188,
          117.62507629394531,
          210.75627899169922,
          86.06170654296876,
          211.73807525634763,
          70.81422424316406,
          54.347530364990234,
          132.82253646850586,
          67.0353012084961,
          221.57784271240234,
          104.51090621948242,
          170.9259262084961,
          170.9259262084961,
          170.9259262084961,
          170.9259262084961,
          105.86903762817381,
          105.86903762817381,
          7.86824713812934,
          7.86824713812934,
          7.86824713812934,
          7.86824713812934,
          7.86824713812934,
          7.86824713812934,
          7.86824713812934,
          7.86824713812934,
          7.86824713812934
         ]
        },
        {
         "mode": "lines",
         "name": "119 Ash P&R-MLT TC",
         "type": "scatter",
         "visible": false,
         "x": [
          "10to14",
          "14to15",
          "15to16",
          "16to17",
          "17to18",
          "18to20",
          "20to5",
          "5to6",
          "6to7",
          "7to8",
          "8to9",
          "9to10",
          "10to11",
          "11to12",
          "12to13",
          "13to14",
          "18to19",
          "19to20",
          "20to21",
          "21to22",
          "22to23",
          "23to0",
          "0to1",
          "1to2",
          "2to3",
          "3to4",
          "4to5"
         ],
         "y": [
          49.45803642272949,
          13.1842942237854,
          11.704413414001465,
          17.300652503967285,
          16.44143772125244,
          26.11205768585205,
          2.023553431034088,
          2.497830629348755,
          9.223766326904297,
          16.07145929336548,
          14.417574882507324,
          13.542033195495605,
          12.364509105682373,
          12.364509105682373,
          12.364509105682373,
          12.364509105682373,
          13.056028842926025,
          13.056028842926025,
          0.22483927011489868,
          0.22483927011489868,
          0.22483927011489868,
          0.22483927011489868,
          0.22483927011489868,
          0.22483927011489868,
          0.22483927011489868,
          0.22483927011489868,
          0.22483927011489868
         ]
        },
        {
         "mode": "lines",
         "name": "120 Canyon Pk-Lyn TC",
         "type": "scatter",
         "visible": false,
         "x": [
          "10to14",
          "14to15",
          "15to16",
          "16to17",
          "17to18",
          "18to20",
          "20to5",
          "5to6",
          "6to7",
          "7to8",
          "8to9",
          "9to10",
          "10to11",
          "11to12",
          "12to13",
          "13to14",
          "18to19",
          "19to20",
          "20to21",
          "21to22",
          "22to23",
          "23to0",
          "0to1",
          "1to2",
          "2to3",
          "3to4",
          "4to5"
         ],
         "y": [
          166.99072265625,
          51.211490631103516,
          57.64301681518555,
          36.98482131958008,
          43.142181396484375,
          95.6094856262207,
          20.541598796844482,
          18.451842308044434,
          36.806480407714844,
          42.970462799072266,
          51.622764587402344,
          40.28451919555664,
          41.7476806640625,
          41.7476806640625,
          41.7476806640625,
          41.7476806640625,
          47.80474281311035,
          47.80474281311035,
          2.2823998663160534,
          2.2823998663160534,
          2.2823998663160534,
          2.2823998663160534,
          2.2823998663160534,
          2.2823998663160534,
          2.2823998663160534,
          2.2823998663160534,
          2.2823998663160534
         ]
        }
       ],
       "layout": {
        "font": {
         "size": 11
        },
        "height": 500,
        "template": {
         "data": {
          "bar": [
           {
            "error_x": {
             "color": "rgb(36,36,36)"
            },
            "error_y": {
             "color": "rgb(36,36,36)"
            },
            "marker": {
             "line": {
              "color": "white",
              "width": 0.5
             },
             "pattern": {
              "fillmode": "overlay",
              "size": 10,
              "solidity": 0.2
             }
            },
            "type": "bar"
           }
          ],
          "barpolar": [
           {
            "marker": {
             "line": {
              "color": "white",
              "width": 0.5
             },
             "pattern": {
              "fillmode": "overlay",
              "size": 10,
              "solidity": 0.2
             }
            },
            "type": "barpolar"
           }
          ],
          "carpet": [
           {
            "aaxis": {
             "endlinecolor": "rgb(36,36,36)",
             "gridcolor": "white",
             "linecolor": "white",
             "minorgridcolor": "white",
             "startlinecolor": "rgb(36,36,36)"
            },
            "baxis": {
             "endlinecolor": "rgb(36,36,36)",
             "gridcolor": "white",
             "linecolor": "white",
             "minorgridcolor": "white",
             "startlinecolor": "rgb(36,36,36)"
            },
            "type": "carpet"
           }
          ],
          "choropleth": [
           {
            "colorbar": {
             "outlinewidth": 1,
             "tickcolor": "rgb(36,36,36)",
             "ticks": "outside"
            },
            "type": "choropleth"
           }
          ],
          "contour": [
           {
            "colorbar": {
             "outlinewidth": 1,
             "tickcolor": "rgb(36,36,36)",
             "ticks": "outside"
            },
            "colorscale": [
             [
              0.0,
              "#440154"
             ],
             [
              0.1111111111111111,
              "#482878"
             ],
             [
              0.2222222222222222,
              "#3e4989"
             ],
             [
              0.3333333333333333,
              "#31688e"
             ],
             [
              0.4444444444444444,
              "#26828e"
             ],
             [
              0.5555555555555556,
              "#1f9e89"
             ],
             [
              0.6666666666666666,
              "#35b779"
             ],
             [
              0.7777777777777778,
              "#6ece58"
             ],
             [
              0.8888888888888888,
              "#b5de2b"
             ],
             [
              1.0,
              "#fde725"
             ]
            ],
            "type": "contour"
           }
          ],
          "contourcarpet": [
           {
            "colorbar": {
             "outlinewidth": 1,
             "tickcolor": "rgb(36,36,36)",
             "ticks": "outside"
            },
            "type": "contourcarpet"
           }
          ],
          "heatmap": [
           {
            "colorbar": {
             "outlinewidth": 1,
             "tickcolor": "rgb(36,36,36)",
             "ticks": "outside"
            },
            "colorscale": [
             [
              0.0,
              "#440154"
             ],
             [
              0.1111111111111111,
              "#482878"
             ],
             [
              0.2222222222222222,
              "#3e4989"
             ],
             [
              0.3333333333333333,
              "#31688e"
             ],
             [
              0.4444444444444444,
              "#26828e"
             ],
             [
              0.5555555555555556,
              "#1f9e89"
             ],
             [
              0.6666666666666666,
              "#35b779"
             ],
             [
              0.7777777777777778,
              "#6ece58"
             ],
             [
              0.8888888888888888,
              "#b5de2b"
             ],
             [
              1.0,
              "#fde725"
             ]
            ],
            "type": "heatmap"
           }
          ],
          "heatmapgl": [
           {
            "colorbar": {
             "outlinewidth": 1,
             "tickcolor": "rgb(36,36,36)",
             "ticks": "outside"
            },
            "colorscale": [
             [
              0.0,
              "#440154"
             ],
             [
              0.1111111111111111,
              "#482878"
             ],
             [
              0.2222222222222222,
              "#3e4989"
             ],
             [
              0.3333333333333333,
              "#31688e"
             ],
             [
              0.4444444444444444,
              "#26828e"
             ],
             [
              0.5555555555555556,
              "#1f9e89"
             ],
             [
              0.6666666666666666,
              "#35b779"
             ],
             [
              0.7777777777777778,
              "#6ece58"
             ],
             [
              0.8888888888888888,
              "#b5de2b"
             ],
             [
              1.0,
              "#fde725"
             ]
            ],
            "type": "heatmapgl"
           }
          ],
          "histogram": [
           {
            "marker": {
             "line": {
              "color": "white",
              "width": 0.6
             }
            },
            "type": "histogram"
           }
          ],
          "histogram2d": [
           {
            "colorbar": {
             "outlinewidth": 1,
             "tickcolor": "rgb(36,36,36)",
             "ticks": "outside"
            },
            "colorscale": [
             [
              0.0,
              "#440154"
             ],
             [
              0.1111111111111111,
              "#482878"
             ],
             [
              0.2222222222222222,
              "#3e4989"
             ],
             [
              0.3333333333333333,
              "#31688e"
             ],
             [
              0.4444444444444444,
              "#26828e"
             ],
             [
              0.5555555555555556,
              "#1f9e89"
             ],
             [
              0.6666666666666666,
              "#35b779"
             ],
             [
              0.7777777777777778,
              "#6ece58"
             ],
             [
              0.8888888888888888,
              "#b5de2b"
             ],
             [
              1.0,
              "#fde725"
             ]
            ],
            "type": "histogram2d"
           }
          ],
          "histogram2dcontour": [
           {
            "colorbar": {
             "outlinewidth": 1,
             "tickcolor": "rgb(36,36,36)",
             "ticks": "outside"
            },
            "colorscale": [
             [
              0.0,
              "#440154"
             ],
             [
              0.1111111111111111,
              "#482878"
             ],
             [
              0.2222222222222222,
              "#3e4989"
             ],
             [
              0.3333333333333333,
              "#31688e"
             ],
             [
              0.4444444444444444,
              "#26828e"
             ],
             [
              0.5555555555555556,
              "#1f9e89"
             ],
             [
              0.6666666666666666,
              "#35b779"
             ],
             [
              0.7777777777777778,
              "#6ece58"
             ],
             [
              0.8888888888888888,
              "#b5de2b"
             ],
             [
              1.0,
              "#fde725"
             ]
            ],
            "type": "histogram2dcontour"
           }
          ],
          "mesh3d": [
           {
            "colorbar": {
             "outlinewidth": 1,
             "tickcolor": "rgb(36,36,36)",
             "ticks": "outside"
            },
            "type": "mesh3d"
           }
          ],
          "parcoords": [
           {
            "line": {
             "colorbar": {
              "outlinewidth": 1,
              "tickcolor": "rgb(36,36,36)",
              "ticks": "outside"
             }
            },
            "type": "parcoords"
           }
          ],
          "pie": [
           {
            "automargin": true,
            "type": "pie"
           }
          ],
          "scatter": [
           {
            "fillpattern": {
             "fillmode": "overlay",
             "size": 10,
             "solidity": 0.2
            },
            "type": "scatter"
           }
          ],
          "scatter3d": [
           {
            "line": {
             "colorbar": {
              "outlinewidth": 1,
              "tickcolor": "rgb(36,36,36)",
              "ticks": "outside"
             }
            },
            "marker": {
             "colorbar": {
              "outlinewidth": 1,
              "tickcolor": "rgb(36,36,36)",
              "ticks": "outside"
             }
            },
            "type": "scatter3d"
           }
          ],
          "scattercarpet": [
           {
            "marker": {
             "colorbar": {
              "outlinewidth": 1,
              "tickcolor": "rgb(36,36,36)",
              "ticks": "outside"
             }
            },
            "type": "scattercarpet"
           }
          ],
          "scattergeo": [
           {
            "marker": {
             "colorbar": {
              "outlinewidth": 1,
              "tickcolor": "rgb(36,36,36)",
              "ticks": "outside"
             }
            },
            "type": "scattergeo"
           }
          ],
          "scattergl": [
           {
            "marker": {
             "colorbar": {
              "outlinewidth": 1,
              "tickcolor": "rgb(36,36,36)",
              "ticks": "outside"
             }
            },
            "type": "scattergl"
           }
          ],
          "scattermapbox": [
           {
            "marker": {
             "colorbar": {
              "outlinewidth": 1,
              "tickcolor": "rgb(36,36,36)",
              "ticks": "outside"
             }
            },
            "type": "scattermapbox"
           }
          ],
          "scatterpolar": [
           {
            "marker": {
             "colorbar": {
              "outlinewidth": 1,
              "tickcolor": "rgb(36,36,36)",
              "ticks": "outside"
             }
            },
            "type": "scatterpolar"
           }
          ],
          "scatterpolargl": [
           {
            "marker": {
             "colorbar": {
              "outlinewidth": 1,
              "tickcolor": "rgb(36,36,36)",
              "ticks": "outside"
             }
            },
            "type": "scatterpolargl"
           }
          ],
          "scatterternary": [
           {
            "marker": {
             "colorbar": {
              "outlinewidth": 1,
              "tickcolor": "rgb(36,36,36)",
              "ticks": "outside"
             }
            },
            "type": "scatterternary"
           }
          ],
          "surface": [
           {
            "colorbar": {
             "outlinewidth": 1,
             "tickcolor": "rgb(36,36,36)",
             "ticks": "outside"
            },
            "colorscale": [
             [
              0.0,
              "#440154"
             ],
             [
              0.1111111111111111,
              "#482878"
             ],
             [
              0.2222222222222222,
              "#3e4989"
             ],
             [
              0.3333333333333333,
              "#31688e"
             ],
             [
              0.4444444444444444,
              "#26828e"
             ],
             [
              0.5555555555555556,
              "#1f9e89"
             ],
             [
              0.6666666666666666,
              "#35b779"
             ],
             [
              0.7777777777777778,
              "#6ece58"
             ],
             [
              0.8888888888888888,
              "#b5de2b"
             ],
             [
              1.0,
              "#fde725"
             ]
            ],
            "type": "surface"
           }
          ],
          "table": [
           {
            "cells": {
             "fill": {
              "color": "rgb(237,237,237)"
             },
             "line": {
              "color": "white"
             }
            },
            "header": {
             "fill": {
              "color": "rgb(217,217,217)"
             },
             "line": {
              "color": "white"
             }
            },
            "type": "table"
           }
          ]
         },
         "layout": {
          "annotationdefaults": {
           "arrowhead": 0,
           "arrowwidth": 1
          },
          "autotypenumbers": "strict",
          "coloraxis": {
           "colorbar": {
            "outlinewidth": 1,
            "tickcolor": "rgb(36,36,36)",
            "ticks": "outside"
           }
          },
          "colorscale": {
           "diverging": [
            [
             0.0,
             "rgb(103,0,31)"
            ],
            [
             0.1,
             "rgb(178,24,43)"
            ],
            [
             0.2,
             "rgb(214,96,77)"
            ],
            [
             0.3,
             "rgb(244,165,130)"
            ],
            [
             0.4,
             "rgb(253,219,199)"
            ],
            [
             0.5,
             "rgb(247,247,247)"
            ],
            [
             0.6,
             "rgb(209,229,240)"
            ],
            [
             0.7,
             "rgb(146,197,222)"
            ],
            [
             0.8,
             "rgb(67,147,195)"
            ],
            [
             0.9,
             "rgb(33,102,172)"
            ],
            [
             1.0,
             "rgb(5,48,97)"
            ]
           ],
           "sequential": [
            [
             0.0,
             "#440154"
            ],
            [
             0.1111111111111111,
             "#482878"
            ],
            [
             0.2222222222222222,
             "#3e4989"
            ],
            [
             0.3333333333333333,
             "#31688e"
            ],
            [
             0.4444444444444444,
             "#26828e"
            ],
            [
             0.5555555555555556,
             "#1f9e89"
            ],
            [
             0.6666666666666666,
             "#35b779"
            ],
            [
             0.7777777777777778,
             "#6ece58"
            ],
            [
             0.8888888888888888,
             "#b5de2b"
            ],
            [
             1.0,
             "#fde725"
            ]
           ],
           "sequentialminus": [
            [
             0.0,
             "#440154"
            ],
            [
             0.1111111111111111,
             "#482878"
            ],
            [
             0.2222222222222222,
             "#3e4989"
            ],
            [
             0.3333333333333333,
             "#31688e"
            ],
            [
             0.4444444444444444,
             "#26828e"
            ],
            [
             0.5555555555555556,
             "#1f9e89"
            ],
            [
             0.6666666666666666,
             "#35b779"
            ],
            [
             0.7777777777777778,
             "#6ece58"
            ],
            [
             0.8888888888888888,
             "#b5de2b"
            ],
            [
             1.0,
             "#fde725"
            ]
           ]
          },
          "colorway": [
           "#91268F",
           "#8CC63E",
           "#00A7A0",
           "#F05A28",
           "#4C4C4C",
           "#630460",
           "#9f3913",
           "#588527",
           "#00716c",
           "#3e4040"
          ],
          "font": {
           "color": "rgb(36,36,36)",
           "family": "Poppins",
           "size": 11
          },
          "geo": {
           "bgcolor": "white",
           "lakecolor": "white",
           "landcolor": "white",
           "showlakes": true,
           "showland": true,
           "subunitcolor": "white"
          },
          "hoverlabel": {
           "align": "left"
          },
          "hovermode": "closest",
          "mapbox": {
           "style": "light"
          },
          "paper_bgcolor": "white",
          "plot_bgcolor": "white",
          "polar": {
           "angularaxis": {
            "gridcolor": "rgb(232,232,232)",
            "linecolor": "rgb(36,36,36)",
            "showgrid": false,
            "showline": true,
            "ticks": "outside"
           },
           "bgcolor": "white",
           "radialaxis": {
            "gridcolor": "rgb(232,232,232)",
            "linecolor": "rgb(36,36,36)",
            "showgrid": false,
            "showline": true,
            "ticks": "outside"
           }
          },
          "scene": {
           "xaxis": {
            "backgroundcolor": "white",
            "gridcolor": "rgb(232,232,232)",
            "gridwidth": 2,
            "linecolor": "rgb(36,36,36)",
            "showbackground": true,
            "showgrid": false,
            "showline": true,
            "ticks": "outside",
            "zeroline": false,
            "zerolinecolor": "rgb(36,36,36)"
           },
           "yaxis": {
            "backgroundcolor": "white",
            "gridcolor": "rgb(232,232,232)",
            "gridwidth": 2,
            "linecolor": "rgb(36,36,36)",
            "showbackground": true,
            "showgrid": false,
            "showline": true,
            "ticks": "outside",
            "zeroline": false,
            "zerolinecolor": "rgb(36,36,36)"
           },
           "zaxis": {
            "backgroundcolor": "white",
            "gridcolor": "rgb(232,232,232)",
            "gridwidth": 2,
            "linecolor": "rgb(36,36,36)",
            "showbackground": true,
            "showgrid": false,
            "showline": true,
            "ticks": "outside",
            "zeroline": false,
            "zerolinecolor": "rgb(36,36,36)"
           }
          },
          "shapedefaults": {
           "fillcolor": "black",
           "line": {
            "width": 0
           },
           "opacity": 0.3
          },
          "ternary": {
           "aaxis": {
            "gridcolor": "rgb(232,232,232)",
            "linecolor": "rgb(36,36,36)",
            "showgrid": false,
            "showline": true,
            "ticks": "outside"
           },
           "baxis": {
            "gridcolor": "rgb(232,232,232)",
            "linecolor": "rgb(36,36,36)",
            "showgrid": false,
            "showline": true,
            "ticks": "outside"
           },
           "bgcolor": "white",
           "caxis": {
            "gridcolor": "rgb(232,232,232)",
            "linecolor": "rgb(36,36,36)",
            "showgrid": false,
            "showline": true,
            "ticks": "outside"
           }
          },
          "title": {
           "x": 0.05
          },
          "xaxis": {
           "automargin": true,
           "gridcolor": "rgb(232,232,232)",
           "linecolor": "rgb(36,36,36)",
           "showgrid": false,
           "showline": true,
           "ticks": "outside",
           "title": {
            "standoff": 15
           },
           "zeroline": false,
           "zerolinecolor": "rgb(36,36,36)"
          },
          "yaxis": {
           "automargin": true,
           "gridcolor": "rgb(232,232,232)",
           "linecolor": "rgb(36,36,36)",
           "showgrid": false,
           "showline": true,
           "ticks": "outside",
           "title": {
            "standoff": 15
           },
           "zeroline": false,
           "zerolinecolor": "rgb(36,36,36)"
          }
         }
        },
        "title": {
         "text": "Description: 101 Mar P&R-Aur Vill"
        },
        "updatemenus": [
         {
          "buttons": [
           {
            "args": [
             {
              "visible": [
               true,
               false,
               false,
               false,
               false,
               false,
               false,
               false,
               false,
               false
              ]
             },
             {
              "title": "Description: 101 Mar P&R-Aur Vill"
             }
            ],
            "label": "101 Mar P&R-Aur Vill",
            "method": "update"
           },
           {
            "args": [
             {
              "visible": [
               false,
               true,
               false,
               false,
               false,
               false,
               false,
               false,
               false,
               false
              ]
             },
             {
              "title": "Description: 105 Mariner P&R-Both"
             }
            ],
            "label": "105 Mariner P&R-Both",
            "method": "update"
           },
           {
            "args": [
             {
              "visible": [
               false,
               false,
               true,
               false,
               false,
               false,
               false,
               false,
               false,
               false
              ]
             },
             {
              "title": "Description: 106 Mariner P&R-Both"
             }
            ],
            "label": "106 Mariner P&R-Both",
            "method": "update"
           },
           {
            "args": [
             {
              "visible": [
               false,
               false,
               false,
               true,
               false,
               false,
               false,
               false,
               false,
               false
              ]
             },
             {
              "title": "Description: 109 Ash Wy P&R-LkStv"
             }
            ],
            "label": "109 Ash Wy P&R-LkStv",
            "method": "update"
           },
           {
            "args": [
             {
              "visible": [
               false,
               false,
               false,
               false,
               true,
               false,
               false,
               false,
               false,
               false
              ]
             },
             {
              "title": "Description: 112 MLT TC-Ash P&R"
             }
            ],
            "label": "112 MLT TC-Ash P&R",
            "method": "update"
           },
           {
            "args": [
             {
              "visible": [
               false,
               false,
               false,
               false,
               false,
               true,
               false,
               false,
               false,
               false
              ]
             },
             {
              "title": "Description: 113 Mukilteo-Lynn TC"
             }
            ],
            "label": "113 Mukilteo-Lynn TC",
            "method": "update"
           },
           {
            "args": [
             {
              "visible": [
               false,
               false,
               false,
               false,
               false,
               false,
               true,
               false,
               false,
               false
              ]
             },
             {
              "title": "Description: 115 McClm P&R-AurVil"
             }
            ],
            "label": "115 McClm P&R-AurVil",
            "method": "update"
           },
           {
            "args": [
             {
              "visible": [
               false,
               false,
               false,
               false,
               false,
               false,
               false,
               true,
               false,
               false
              ]
             },
             {
              "title": "Description: 116 Edm-Silver Firs"
             }
            ],
            "label": "116 Edm-Silver Firs",
            "method": "update"
           },
           {
            "args": [
             {
              "visible": [
               false,
               false,
               false,
               false,
               false,
               false,
               false,
               false,
               true,
               false
              ]
             },
             {
              "title": "Description: 119 Ash P&R-MLT TC"
             }
            ],
            "label": "119 Ash P&R-MLT TC",
            "method": "update"
           },
           {
            "args": [
             {
              "visible": [
               false,
               false,
               false,
               false,
               false,
               false,
               false,
               false,
               false,
               true
              ]
             },
             {
              "title": "Description: 120 Canyon Pk-Lyn TC"
             }
            ],
            "label": "120 Canyon Pk-Lyn TC",
            "method": "update"
           }
          ],
          "direction": "down",
          "showactive": true
         }
        ],
        "width": 900,
        "yaxis": {
         "tickformat": ".00f"
        }
       }
      },
      "text/html": [
       "<div>                            <div id=\"58a6ee8a-3696-446c-a25d-213c4eab714c\" class=\"plotly-graph-div\" style=\"height:500px; width:900px;\"></div>            <script type=\"text/javascript\">                require([\"plotly\"], function(Plotly) {                    window.PLOTLYENV=window.PLOTLYENV || {};                                    if (document.getElementById(\"58a6ee8a-3696-446c-a25d-213c4eab714c\")) {                    Plotly.newPlot(                        \"58a6ee8a-3696-446c-a25d-213c4eab714c\",                        [{\"mode\":\"lines\",\"name\":\"101 Mar P&R-Aur Vill\",\"visible\":true,\"x\":[\"10to14\",\"14to15\",\"15to16\",\"16to17\",\"17to18\",\"18to20\",\"20to5\",\"5to6\",\"6to7\",\"7to8\",\"8to9\",\"9to10\",\"10to11\",\"11to12\",\"12to13\",\"13to14\",\"18to19\",\"19to20\",\"20to21\",\"21to22\",\"22to23\",\"23to0\",\"0to1\",\"1to2\",\"2to3\",\"3to4\",\"4to5\"],\"y\":[423.34837341308594,86.75497817993164,101.34419250488281,106.46076202392578,98.93807983398438,202.66210174560547,59.24205017089844,8.701230525970459,39.30128192901611,87.27090072631836,102.74908065795898,96.90957641601562,105.83709335327148,105.83709335327148,105.83709335327148,105.83709335327148,101.33105087280273,101.33105087280273,6.582450018988715,6.582450018988715,6.582450018988715,6.582450018988715,6.582450018988715,6.582450018988715,6.582450018988715,6.582450018988715,6.582450018988715],\"type\":\"scatter\"},{\"mode\":\"lines\",\"name\":\"105 Mariner P&R-Both\",\"visible\":false,\"x\":[\"10to14\",\"14to15\",\"15to16\",\"16to17\",\"17to18\",\"18to20\",\"20to5\",\"5to6\",\"6to7\",\"7to8\",\"8to9\",\"9to10\",\"10to11\",\"11to12\",\"12to13\",\"13to14\",\"18to19\",\"19to20\",\"20to21\",\"21to22\",\"22to23\",\"23to0\",\"0to1\",\"1to2\",\"2to3\",\"3to4\",\"4to5\"],\"y\":[146.1233615875244,38.317840576171875,65.60298538208008,38.11735439300537,39.02707862854004,34.30124759674073,22.00733184814453,11.957349300384521,25.81673240661621,37.28504943847656,25.095109939575195,30.372010231018066,36.5308403968811,36.5308403968811,36.5308403968811,36.5308403968811,17.150623798370365,17.150623798370365,2.4452590942382812,2.4452590942382812,2.4452590942382812,2.4452590942382812,2.4452590942382812,2.4452590942382812,2.4452590942382812,2.4452590942382812,2.4452590942382812],\"type\":\"scatter\"},{\"mode\":\"lines\",\"name\":\"106 Mariner P&R-Both\",\"visible\":false,\"x\":[\"16to17\",\"17to18\",\"18to20\",\"5to6\",\"6to7\",\"7to8\",\"18to19\",\"19to20\"],\"y\":[38.55539321899414,45.66926383972168,10.91594409942627,11.183503150939941,35.25502586364746,19.270790100097656,5.457972049713135,5.457972049713135],\"type\":\"scatter\"},{\"mode\":\"lines\",\"name\":\"109 Ash Wy P&R-LkStv\",\"visible\":false,\"x\":[\"10to14\",\"14to15\",\"15to16\",\"16to17\",\"17to18\",\"18to20\",\"20to5\",\"5to6\",\"6to7\",\"7to8\",\"8to9\",\"9to10\",\"10to11\",\"11to12\",\"12to13\",\"13to14\",\"18to19\",\"19to20\",\"20to21\",\"21to22\",\"22to23\",\"23to0\",\"0to1\",\"1to2\",\"2to3\",\"3to4\",\"4to5\"],\"y\":[167.78692626953125,41.451372146606445,68.43139266967773,30.007988929748535,68.21172332763672,97.14514923095703,36.9336462020874,23.802370071411133,28.18033504486084,43.079952239990234,23.88214683532715,47.89363098144531,41.94673156738281,41.94673156738281,41.94673156738281,41.94673156738281,48.572574615478516,48.572574615478516,4.103738466898601,4.103738466898601,4.103738466898601,4.103738466898601,4.103738466898601,4.103738466898601,4.103738466898601,4.103738466898601,4.103738466898601],\"type\":\"scatter\"},{\"mode\":\"lines\",\"name\":\"112 MLT TC-Ash P&R\",\"visible\":false,\"x\":[\"10to14\",\"14to15\",\"15to16\",\"16to17\",\"17to18\",\"18to20\",\"20to5\",\"5to6\",\"6to7\",\"7to8\",\"8to9\",\"9to10\",\"10to11\",\"11to12\",\"12to13\",\"13to14\",\"18to19\",\"19to20\",\"20to21\",\"21to22\",\"22to23\",\"23to0\",\"0to1\",\"1to2\",\"2to3\",\"3to4\",\"4to5\"],\"y\":[69.73773956298828,12.86925458908081,16.850738525390625,13.975707530975344,19.02902603149414,40.29503059387207,6.646530866622925,13.235602378845215,10.17793321609497,15.904158592224121,20.961276531219482,26.027578353881836,17.43443489074707,17.43443489074707,17.43443489074707,17.43443489074707,20.147515296936035,20.147515296936035,0.7385034296247694,0.7385034296247694,0.7385034296247694,0.7385034296247694,0.7385034296247694,0.7385034296247694,0.7385034296247694,0.7385034296247694,0.7385034296247694],\"type\":\"scatter\"},{\"mode\":\"lines\",\"name\":\"113 Mukilteo-Lynn TC\",\"visible\":false,\"x\":[\"10to14\",\"14to15\",\"15to16\",\"16to17\",\"17to18\",\"18to20\",\"20to5\",\"5to6\",\"6to7\",\"7to8\",\"8to9\",\"9to10\",\"10to11\",\"11to12\",\"12to13\",\"13to14\",\"18to19\",\"19to20\",\"20to21\",\"21to22\",\"22to23\",\"23to0\",\"0to1\",\"1to2\",\"2to3\",\"3to4\",\"4to5\"],\"y\":[212.85662841796875,84.97936248779297,52.80525779724122,65.95822715759277,68.91934967041016,104.31828689575195,22.129364013671875,17.82770347595215,17.023064136505127,44.43563747406006,58.959121704101555,49.80850791931152,53.21415710449219,53.21415710449219,53.21415710449219,53.21415710449219,52.15914344787598,52.15914344787598,2.4588182237413196,2.4588182237413196,2.4588182237413196,2.4588182237413196,2.4588182237413196,2.4588182237413196,2.4588182237413196,2.4588182237413196,2.4588182237413196],\"type\":\"scatter\"},{\"mode\":\"lines\",\"name\":\"115 McClm P&R-AurVil\",\"visible\":false,\"x\":[\"10to14\",\"14to15\",\"15to16\",\"16to17\",\"17to18\",\"18to20\",\"20to5\",\"5to6\",\"6to7\",\"7to8\",\"8to9\",\"9to10\",\"10to11\",\"11to12\",\"12to13\",\"13to14\",\"18to19\",\"19to20\",\"20to21\",\"21to22\",\"22to23\",\"23to0\",\"0to1\",\"1to2\",\"2to3\",\"3to4\",\"4to5\"],\"y\":[484.0235900878906,104.4726333618164,196.35400390625,69.89847946166992,120.9097785949707,192.09500885009766,39.85531616210938,24.688393592834473,69.35493087768555,95.50840187072754,115.92376327514648,130.1056671142578,121.00589752197266,121.00589752197266,121.00589752197266,121.00589752197266,96.04750442504883,96.04750442504883,4.428368462456598,4.428368462456598,4.428368462456598,4.428368462456598,4.428368462456598,4.428368462456598,4.428368462456598,4.428368462456598,4.428368462456598],\"type\":\"scatter\"},{\"mode\":\"lines\",\"name\":\"116 Edm-Silver Firs\",\"visible\":false,\"x\":[\"10to14\",\"14to15\",\"15to16\",\"16to17\",\"17to18\",\"18to20\",\"20to5\",\"5to6\",\"6to7\",\"7to8\",\"8to9\",\"9to10\",\"10to11\",\"11to12\",\"12to13\",\"13to14\",\"18to19\",\"19to20\",\"20to21\",\"21to22\",\"22to23\",\"23to0\",\"0to1\",\"1to2\",\"2to3\",\"3to4\",\"4to5\"],\"y\":[683.7037048339844,180.41598510742188,117.62507629394531,210.75627899169922,86.06170654296876,211.73807525634763,70.81422424316406,54.347530364990234,132.82253646850586,67.0353012084961,221.57784271240234,104.51090621948242,170.9259262084961,170.9259262084961,170.9259262084961,170.9259262084961,105.86903762817381,105.86903762817381,7.86824713812934,7.86824713812934,7.86824713812934,7.86824713812934,7.86824713812934,7.86824713812934,7.86824713812934,7.86824713812934,7.86824713812934],\"type\":\"scatter\"},{\"mode\":\"lines\",\"name\":\"119 Ash P&R-MLT TC\",\"visible\":false,\"x\":[\"10to14\",\"14to15\",\"15to16\",\"16to17\",\"17to18\",\"18to20\",\"20to5\",\"5to6\",\"6to7\",\"7to8\",\"8to9\",\"9to10\",\"10to11\",\"11to12\",\"12to13\",\"13to14\",\"18to19\",\"19to20\",\"20to21\",\"21to22\",\"22to23\",\"23to0\",\"0to1\",\"1to2\",\"2to3\",\"3to4\",\"4to5\"],\"y\":[49.45803642272949,13.1842942237854,11.704413414001465,17.300652503967285,16.44143772125244,26.11205768585205,2.023553431034088,2.497830629348755,9.223766326904297,16.07145929336548,14.417574882507324,13.542033195495605,12.364509105682373,12.364509105682373,12.364509105682373,12.364509105682373,13.056028842926025,13.056028842926025,0.22483927011489868,0.22483927011489868,0.22483927011489868,0.22483927011489868,0.22483927011489868,0.22483927011489868,0.22483927011489868,0.22483927011489868,0.22483927011489868],\"type\":\"scatter\"},{\"mode\":\"lines\",\"name\":\"120 Canyon Pk-Lyn TC\",\"visible\":false,\"x\":[\"10to14\",\"14to15\",\"15to16\",\"16to17\",\"17to18\",\"18to20\",\"20to5\",\"5to6\",\"6to7\",\"7to8\",\"8to9\",\"9to10\",\"10to11\",\"11to12\",\"12to13\",\"13to14\",\"18to19\",\"19to20\",\"20to21\",\"21to22\",\"22to23\",\"23to0\",\"0to1\",\"1to2\",\"2to3\",\"3to4\",\"4to5\"],\"y\":[166.99072265625,51.211490631103516,57.64301681518555,36.98482131958008,43.142181396484375,95.6094856262207,20.541598796844482,18.451842308044434,36.806480407714844,42.970462799072266,51.622764587402344,40.28451919555664,41.7476806640625,41.7476806640625,41.7476806640625,41.7476806640625,47.80474281311035,47.80474281311035,2.2823998663160534,2.2823998663160534,2.2823998663160534,2.2823998663160534,2.2823998663160534,2.2823998663160534,2.2823998663160534,2.2823998663160534,2.2823998663160534],\"type\":\"scatter\"}],                        {\"template\":{\"data\":{\"barpolar\":[{\"marker\":{\"line\":{\"color\":\"white\",\"width\":0.5},\"pattern\":{\"fillmode\":\"overlay\",\"size\":10,\"solidity\":0.2}},\"type\":\"barpolar\"}],\"bar\":[{\"error_x\":{\"color\":\"rgb(36,36,36)\"},\"error_y\":{\"color\":\"rgb(36,36,36)\"},\"marker\":{\"line\":{\"color\":\"white\",\"width\":0.5},\"pattern\":{\"fillmode\":\"overlay\",\"size\":10,\"solidity\":0.2}},\"type\":\"bar\"}],\"carpet\":[{\"aaxis\":{\"endlinecolor\":\"rgb(36,36,36)\",\"gridcolor\":\"white\",\"linecolor\":\"white\",\"minorgridcolor\":\"white\",\"startlinecolor\":\"rgb(36,36,36)\"},\"baxis\":{\"endlinecolor\":\"rgb(36,36,36)\",\"gridcolor\":\"white\",\"linecolor\":\"white\",\"minorgridcolor\":\"white\",\"startlinecolor\":\"rgb(36,36,36)\"},\"type\":\"carpet\"}],\"choropleth\":[{\"colorbar\":{\"outlinewidth\":1,\"tickcolor\":\"rgb(36,36,36)\",\"ticks\":\"outside\"},\"type\":\"choropleth\"}],\"contourcarpet\":[{\"colorbar\":{\"outlinewidth\":1,\"tickcolor\":\"rgb(36,36,36)\",\"ticks\":\"outside\"},\"type\":\"contourcarpet\"}],\"contour\":[{\"colorbar\":{\"outlinewidth\":1,\"tickcolor\":\"rgb(36,36,36)\",\"ticks\":\"outside\"},\"colorscale\":[[0.0,\"#440154\"],[0.1111111111111111,\"#482878\"],[0.2222222222222222,\"#3e4989\"],[0.3333333333333333,\"#31688e\"],[0.4444444444444444,\"#26828e\"],[0.5555555555555556,\"#1f9e89\"],[0.6666666666666666,\"#35b779\"],[0.7777777777777778,\"#6ece58\"],[0.8888888888888888,\"#b5de2b\"],[1.0,\"#fde725\"]],\"type\":\"contour\"}],\"heatmapgl\":[{\"colorbar\":{\"outlinewidth\":1,\"tickcolor\":\"rgb(36,36,36)\",\"ticks\":\"outside\"},\"colorscale\":[[0.0,\"#440154\"],[0.1111111111111111,\"#482878\"],[0.2222222222222222,\"#3e4989\"],[0.3333333333333333,\"#31688e\"],[0.4444444444444444,\"#26828e\"],[0.5555555555555556,\"#1f9e89\"],[0.6666666666666666,\"#35b779\"],[0.7777777777777778,\"#6ece58\"],[0.8888888888888888,\"#b5de2b\"],[1.0,\"#fde725\"]],\"type\":\"heatmapgl\"}],\"heatmap\":[{\"colorbar\":{\"outlinewidth\":1,\"tickcolor\":\"rgb(36,36,36)\",\"ticks\":\"outside\"},\"colorscale\":[[0.0,\"#440154\"],[0.1111111111111111,\"#482878\"],[0.2222222222222222,\"#3e4989\"],[0.3333333333333333,\"#31688e\"],[0.4444444444444444,\"#26828e\"],[0.5555555555555556,\"#1f9e89\"],[0.6666666666666666,\"#35b779\"],[0.7777777777777778,\"#6ece58\"],[0.8888888888888888,\"#b5de2b\"],[1.0,\"#fde725\"]],\"type\":\"heatmap\"}],\"histogram2dcontour\":[{\"colorbar\":{\"outlinewidth\":1,\"tickcolor\":\"rgb(36,36,36)\",\"ticks\":\"outside\"},\"colorscale\":[[0.0,\"#440154\"],[0.1111111111111111,\"#482878\"],[0.2222222222222222,\"#3e4989\"],[0.3333333333333333,\"#31688e\"],[0.4444444444444444,\"#26828e\"],[0.5555555555555556,\"#1f9e89\"],[0.6666666666666666,\"#35b779\"],[0.7777777777777778,\"#6ece58\"],[0.8888888888888888,\"#b5de2b\"],[1.0,\"#fde725\"]],\"type\":\"histogram2dcontour\"}],\"histogram2d\":[{\"colorbar\":{\"outlinewidth\":1,\"tickcolor\":\"rgb(36,36,36)\",\"ticks\":\"outside\"},\"colorscale\":[[0.0,\"#440154\"],[0.1111111111111111,\"#482878\"],[0.2222222222222222,\"#3e4989\"],[0.3333333333333333,\"#31688e\"],[0.4444444444444444,\"#26828e\"],[0.5555555555555556,\"#1f9e89\"],[0.6666666666666666,\"#35b779\"],[0.7777777777777778,\"#6ece58\"],[0.8888888888888888,\"#b5de2b\"],[1.0,\"#fde725\"]],\"type\":\"histogram2d\"}],\"histogram\":[{\"marker\":{\"line\":{\"color\":\"white\",\"width\":0.6}},\"type\":\"histogram\"}],\"mesh3d\":[{\"colorbar\":{\"outlinewidth\":1,\"tickcolor\":\"rgb(36,36,36)\",\"ticks\":\"outside\"},\"type\":\"mesh3d\"}],\"parcoords\":[{\"line\":{\"colorbar\":{\"outlinewidth\":1,\"tickcolor\":\"rgb(36,36,36)\",\"ticks\":\"outside\"}},\"type\":\"parcoords\"}],\"pie\":[{\"automargin\":true,\"type\":\"pie\"}],\"scatter3d\":[{\"line\":{\"colorbar\":{\"outlinewidth\":1,\"tickcolor\":\"rgb(36,36,36)\",\"ticks\":\"outside\"}},\"marker\":{\"colorbar\":{\"outlinewidth\":1,\"tickcolor\":\"rgb(36,36,36)\",\"ticks\":\"outside\"}},\"type\":\"scatter3d\"}],\"scattercarpet\":[{\"marker\":{\"colorbar\":{\"outlinewidth\":1,\"tickcolor\":\"rgb(36,36,36)\",\"ticks\":\"outside\"}},\"type\":\"scattercarpet\"}],\"scattergeo\":[{\"marker\":{\"colorbar\":{\"outlinewidth\":1,\"tickcolor\":\"rgb(36,36,36)\",\"ticks\":\"outside\"}},\"type\":\"scattergeo\"}],\"scattergl\":[{\"marker\":{\"colorbar\":{\"outlinewidth\":1,\"tickcolor\":\"rgb(36,36,36)\",\"ticks\":\"outside\"}},\"type\":\"scattergl\"}],\"scattermapbox\":[{\"marker\":{\"colorbar\":{\"outlinewidth\":1,\"tickcolor\":\"rgb(36,36,36)\",\"ticks\":\"outside\"}},\"type\":\"scattermapbox\"}],\"scatterpolargl\":[{\"marker\":{\"colorbar\":{\"outlinewidth\":1,\"tickcolor\":\"rgb(36,36,36)\",\"ticks\":\"outside\"}},\"type\":\"scatterpolargl\"}],\"scatterpolar\":[{\"marker\":{\"colorbar\":{\"outlinewidth\":1,\"tickcolor\":\"rgb(36,36,36)\",\"ticks\":\"outside\"}},\"type\":\"scatterpolar\"}],\"scatter\":[{\"fillpattern\":{\"fillmode\":\"overlay\",\"size\":10,\"solidity\":0.2},\"type\":\"scatter\"}],\"scatterternary\":[{\"marker\":{\"colorbar\":{\"outlinewidth\":1,\"tickcolor\":\"rgb(36,36,36)\",\"ticks\":\"outside\"}},\"type\":\"scatterternary\"}],\"surface\":[{\"colorbar\":{\"outlinewidth\":1,\"tickcolor\":\"rgb(36,36,36)\",\"ticks\":\"outside\"},\"colorscale\":[[0.0,\"#440154\"],[0.1111111111111111,\"#482878\"],[0.2222222222222222,\"#3e4989\"],[0.3333333333333333,\"#31688e\"],[0.4444444444444444,\"#26828e\"],[0.5555555555555556,\"#1f9e89\"],[0.6666666666666666,\"#35b779\"],[0.7777777777777778,\"#6ece58\"],[0.8888888888888888,\"#b5de2b\"],[1.0,\"#fde725\"]],\"type\":\"surface\"}],\"table\":[{\"cells\":{\"fill\":{\"color\":\"rgb(237,237,237)\"},\"line\":{\"color\":\"white\"}},\"header\":{\"fill\":{\"color\":\"rgb(217,217,217)\"},\"line\":{\"color\":\"white\"}},\"type\":\"table\"}]},\"layout\":{\"annotationdefaults\":{\"arrowhead\":0,\"arrowwidth\":1},\"autotypenumbers\":\"strict\",\"coloraxis\":{\"colorbar\":{\"outlinewidth\":1,\"tickcolor\":\"rgb(36,36,36)\",\"ticks\":\"outside\"}},\"colorscale\":{\"diverging\":[[0.0,\"rgb(103,0,31)\"],[0.1,\"rgb(178,24,43)\"],[0.2,\"rgb(214,96,77)\"],[0.3,\"rgb(244,165,130)\"],[0.4,\"rgb(253,219,199)\"],[0.5,\"rgb(247,247,247)\"],[0.6,\"rgb(209,229,240)\"],[0.7,\"rgb(146,197,222)\"],[0.8,\"rgb(67,147,195)\"],[0.9,\"rgb(33,102,172)\"],[1.0,\"rgb(5,48,97)\"]],\"sequential\":[[0.0,\"#440154\"],[0.1111111111111111,\"#482878\"],[0.2222222222222222,\"#3e4989\"],[0.3333333333333333,\"#31688e\"],[0.4444444444444444,\"#26828e\"],[0.5555555555555556,\"#1f9e89\"],[0.6666666666666666,\"#35b779\"],[0.7777777777777778,\"#6ece58\"],[0.8888888888888888,\"#b5de2b\"],[1.0,\"#fde725\"]],\"sequentialminus\":[[0.0,\"#440154\"],[0.1111111111111111,\"#482878\"],[0.2222222222222222,\"#3e4989\"],[0.3333333333333333,\"#31688e\"],[0.4444444444444444,\"#26828e\"],[0.5555555555555556,\"#1f9e89\"],[0.6666666666666666,\"#35b779\"],[0.7777777777777778,\"#6ece58\"],[0.8888888888888888,\"#b5de2b\"],[1.0,\"#fde725\"]]},\"colorway\":[\"#91268F\",\"#8CC63E\",\"#00A7A0\",\"#F05A28\",\"#4C4C4C\",\"#630460\",\"#9f3913\",\"#588527\",\"#00716c\",\"#3e4040\"],\"font\":{\"color\":\"rgb(36,36,36)\",\"family\":\"Poppins\",\"size\":11},\"geo\":{\"bgcolor\":\"white\",\"lakecolor\":\"white\",\"landcolor\":\"white\",\"showlakes\":true,\"showland\":true,\"subunitcolor\":\"white\"},\"hoverlabel\":{\"align\":\"left\"},\"hovermode\":\"closest\",\"mapbox\":{\"style\":\"light\"},\"paper_bgcolor\":\"white\",\"plot_bgcolor\":\"white\",\"polar\":{\"angularaxis\":{\"gridcolor\":\"rgb(232,232,232)\",\"linecolor\":\"rgb(36,36,36)\",\"showgrid\":false,\"showline\":true,\"ticks\":\"outside\"},\"bgcolor\":\"white\",\"radialaxis\":{\"gridcolor\":\"rgb(232,232,232)\",\"linecolor\":\"rgb(36,36,36)\",\"showgrid\":false,\"showline\":true,\"ticks\":\"outside\"}},\"scene\":{\"xaxis\":{\"backgroundcolor\":\"white\",\"gridcolor\":\"rgb(232,232,232)\",\"gridwidth\":2,\"linecolor\":\"rgb(36,36,36)\",\"showbackground\":true,\"showgrid\":false,\"showline\":true,\"ticks\":\"outside\",\"zeroline\":false,\"zerolinecolor\":\"rgb(36,36,36)\"},\"yaxis\":{\"backgroundcolor\":\"white\",\"gridcolor\":\"rgb(232,232,232)\",\"gridwidth\":2,\"linecolor\":\"rgb(36,36,36)\",\"showbackground\":true,\"showgrid\":false,\"showline\":true,\"ticks\":\"outside\",\"zeroline\":false,\"zerolinecolor\":\"rgb(36,36,36)\"},\"zaxis\":{\"backgroundcolor\":\"white\",\"gridcolor\":\"rgb(232,232,232)\",\"gridwidth\":2,\"linecolor\":\"rgb(36,36,36)\",\"showbackground\":true,\"showgrid\":false,\"showline\":true,\"ticks\":\"outside\",\"zeroline\":false,\"zerolinecolor\":\"rgb(36,36,36)\"}},\"shapedefaults\":{\"fillcolor\":\"black\",\"line\":{\"width\":0},\"opacity\":0.3},\"ternary\":{\"aaxis\":{\"gridcolor\":\"rgb(232,232,232)\",\"linecolor\":\"rgb(36,36,36)\",\"showgrid\":false,\"showline\":true,\"ticks\":\"outside\"},\"baxis\":{\"gridcolor\":\"rgb(232,232,232)\",\"linecolor\":\"rgb(36,36,36)\",\"showgrid\":false,\"showline\":true,\"ticks\":\"outside\"},\"bgcolor\":\"white\",\"caxis\":{\"gridcolor\":\"rgb(232,232,232)\",\"linecolor\":\"rgb(36,36,36)\",\"showgrid\":false,\"showline\":true,\"ticks\":\"outside\"}},\"title\":{\"x\":0.05},\"xaxis\":{\"automargin\":true,\"gridcolor\":\"rgb(232,232,232)\",\"linecolor\":\"rgb(36,36,36)\",\"showgrid\":false,\"showline\":true,\"ticks\":\"outside\",\"title\":{\"standoff\":15},\"zeroline\":false,\"zerolinecolor\":\"rgb(36,36,36)\"},\"yaxis\":{\"automargin\":true,\"gridcolor\":\"rgb(232,232,232)\",\"linecolor\":\"rgb(36,36,36)\",\"showgrid\":false,\"showline\":true,\"ticks\":\"outside\",\"title\":{\"standoff\":15},\"zeroline\":false,\"zerolinecolor\":\"rgb(36,36,36)\"}}},\"font\":{\"size\":11},\"yaxis\":{\"tickformat\":\".00f\"},\"updatemenus\":[{\"buttons\":[{\"args\":[{\"visible\":[true,false,false,false,false,false,false,false,false,false]},{\"title\":\"Description: 101 Mar P&R-Aur Vill\"}],\"label\":\"101 Mar P&R-Aur Vill\",\"method\":\"update\"},{\"args\":[{\"visible\":[false,true,false,false,false,false,false,false,false,false]},{\"title\":\"Description: 105 Mariner P&R-Both\"}],\"label\":\"105 Mariner P&R-Both\",\"method\":\"update\"},{\"args\":[{\"visible\":[false,false,true,false,false,false,false,false,false,false]},{\"title\":\"Description: 106 Mariner P&R-Both\"}],\"label\":\"106 Mariner P&R-Both\",\"method\":\"update\"},{\"args\":[{\"visible\":[false,false,false,true,false,false,false,false,false,false]},{\"title\":\"Description: 109 Ash Wy P&R-LkStv\"}],\"label\":\"109 Ash Wy P&R-LkStv\",\"method\":\"update\"},{\"args\":[{\"visible\":[false,false,false,false,true,false,false,false,false,false]},{\"title\":\"Description: 112 MLT TC-Ash P&R\"}],\"label\":\"112 MLT TC-Ash P&R\",\"method\":\"update\"},{\"args\":[{\"visible\":[false,false,false,false,false,true,false,false,false,false]},{\"title\":\"Description: 113 Mukilteo-Lynn TC\"}],\"label\":\"113 Mukilteo-Lynn TC\",\"method\":\"update\"},{\"args\":[{\"visible\":[false,false,false,false,false,false,true,false,false,false]},{\"title\":\"Description: 115 McClm P&R-AurVil\"}],\"label\":\"115 McClm P&R-AurVil\",\"method\":\"update\"},{\"args\":[{\"visible\":[false,false,false,false,false,false,false,true,false,false]},{\"title\":\"Description: 116 Edm-Silver Firs\"}],\"label\":\"116 Edm-Silver Firs\",\"method\":\"update\"},{\"args\":[{\"visible\":[false,false,false,false,false,false,false,false,true,false]},{\"title\":\"Description: 119 Ash P&R-MLT TC\"}],\"label\":\"119 Ash P&R-MLT TC\",\"method\":\"update\"},{\"args\":[{\"visible\":[false,false,false,false,false,false,false,false,false,true]},{\"title\":\"Description: 120 Canyon Pk-Lyn TC\"}],\"label\":\"120 Canyon Pk-Lyn TC\",\"method\":\"update\"}],\"direction\":\"down\",\"showactive\":true}],\"title\":{\"text\":\"Description: 101 Mar P&R-Aur Vill\"},\"height\":500,\"width\":900},                        {\"responsive\": true}                    ).then(function(){\n",
       "                            \n",
       "var gd = document.getElementById('58a6ee8a-3696-446c-a25d-213c4eab714c');\n",
       "var x = new MutationObserver(function (mutations, observer) {{\n",
       "        var display = window.getComputedStyle(gd).display;\n",
       "        if (!display || display === 'none') {{\n",
       "            console.log([gd, 'removed!']);\n",
       "            Plotly.purge(gd);\n",
       "            observer.disconnect();\n",
       "        }}\n",
       "}});\n",
       "\n",
       "// Listen for the removal of the full notebook cells\n",
       "var notebookContainer = gd.closest('#notebook-container');\n",
       "if (notebookContainer) {{\n",
       "    x.observe(notebookContainer, {childList: true});\n",
       "}}\n",
       "\n",
       "// Listen for the clearing of the current output cell\n",
       "var outputEl = gd.closest('.output');\n",
       "if (outputEl) {{\n",
       "    x.observe(outputEl, {childList: true});\n",
       "}}\n",
       "\n",
       "                        })                };                });            </script>        </div>"
      ]
     },
     "metadata": {},
     "output_type": "display_data"
    }
   ],
   "source": [
    "\n",
    "def create_tod_chart(df):\n",
    "    # Create a figure\n",
    "    fig = go.Figure()\n",
    "\n",
    "    # Add traces for each description\n",
    "    for description in descriptions:\n",
    "\n",
    "        _df = df[df['description'] == description].copy()\n",
    "        _df = pd.pivot_table(_df, index='tod', columns='description', values='boardings')\n",
    "        \n",
    "        tod_list = ['5to6', '6to7', '7to8', '8to9', '9to10', '14to15', '15to16', '16to17', '17to18']\n",
    "\n",
    "        # Smooth out time periods\n",
    "        if '10to14' in _df.index:\n",
    "            _df.loc['10to11'] = _df.loc['10to14'] / 4.0\n",
    "            _df.loc['11to12'] = _df.loc['10to14'] / 4.0\n",
    "            _df.loc['12to13'] = _df.loc['10to14'] / 4.0\n",
    "            _df.loc['13to14'] = _df.loc['10to14'] / 4.0\n",
    "            tod_list += ['10to11', '11to12', '12to13', '13to14']\n",
    "        if '18to20' in _df.index:\n",
    "            _df.loc['18to19'] = _df.loc['18to20'] / 2.0\n",
    "            _df.loc['19to20'] = _df.loc['18to20'] / 2.0\n",
    "            tod_list += ['18to19', '19to20']\n",
    "        if '20to5' in  _df.index:\n",
    "            tod_list += ['20to21', '21to22', '22to23', '23to0','0to1', '1to2', '2to3', '3to4', '4to5']\n",
    "            _df.loc['20to21'] = _df.loc['20to5'] / 9.0\n",
    "            _df.loc['21to22'] = _df.loc['20to5'] / 9.0\n",
    "            _df.loc['22to23'] = _df.loc['20to5'] / 9.0\n",
    "            _df.loc['23to0'] = _df.loc['20to5'] / 9.0\n",
    "            _df.loc['0to1'] = _df.loc['20to5'] / 9.0\n",
    "            _df.loc['1to2'] = _df.loc['20to5'] / 9.0\n",
    "            _df.loc['2to3'] = _df.loc['20to5'] / 9.0\n",
    "            _df.loc['3to4'] = _df.loc['20to5'] / 9.0\n",
    "            _df.loc['4to5'] = _df.loc['20to5'] / 9.0\n",
    "\n",
    "        _df = _df.reset_index()\n",
    "        _df.index = _df.tod\n",
    "        _df.drop('tod', axis=1, inplace=True)\n",
    "        _df = _df.loc[_df.index, description]\n",
    "\n",
    "        fig.add_trace(go.Scatter(x=_df.index, y=_df, mode='lines', name=description, visible=False))\n",
    "\n",
    "    # Make the first trace visible\n",
    "    fig.data[0].visible = True\n",
    "\n",
    "    # Create dropdown menu\n",
    "    dropdown_buttons = [\n",
    "        {'label': description, 'method': 'update', 'args': [{'visible': [description == desc for desc in descriptions]}, {'title': f'Description: {description}'}]}\n",
    "        for description in descriptions\n",
    "    ]\n",
    "\n",
    "    # Update layout with dropdown\n",
    "    fig.update_layout(\n",
    "        updatemenus=[{\n",
    "            'buttons': dropdown_buttons,\n",
    "            'direction': 'down',\n",
    "            'showactive': True,\n",
    "        }],\n",
    "        title='Description: ' + descriptions[0],\n",
    "        height=500,\n",
    "        width=900,\n",
    "        font=dict(size=11),\n",
    "        yaxis_tickformat='.00f'\n",
    "    )\n",
    "\n",
    "    return fig\n",
    "\n",
    "\n",
    "\n",
    "\n",
    "# Create a list of unique descriptions to display\n",
    "descriptions = df_transit_line['description'].unique()[0:10]\n",
    "# print(descriptions)\n",
    "df_test = df_transit_line[df_transit_line['description'].isin(descriptions)].copy()\n",
    "df = df_test.groupby(['tod', 'description']).agg({'boardings': 'sum'}).reset_index()\n",
    "\n",
    "\n",
    "fig = create_tod_chart(df)\n",
    "fig.show()\n"
   ]
  },
  {
   "cell_type": "code",
   "execution_count": 24,
   "id": "467c75a1",
   "metadata": {},
   "outputs": [
    {
     "data": {
      "text/html": [
       "<div>\n",
       "<style scoped>\n",
       "    .dataframe tbody tr th:only-of-type {\n",
       "        vertical-align: middle;\n",
       "    }\n",
       "\n",
       "    .dataframe tbody tr th {\n",
       "        vertical-align: top;\n",
       "    }\n",
       "\n",
       "    .dataframe thead th {\n",
       "        text-align: right;\n",
       "    }\n",
       "</style>\n",
       "<table border=\"1\" class=\"dataframe\">\n",
       "  <thead>\n",
       "    <tr style=\"text-align: right;\">\n",
       "      <th></th>\n",
       "      <th>line_id</th>\n",
       "      <th>route_code</th>\n",
       "      <th>agency_code</th>\n",
       "      <th>mode</th>\n",
       "      <th>description</th>\n",
       "      <th>boardings</th>\n",
       "      <th>time</th>\n",
       "      <th>transit_type</th>\n",
       "      <th>tod</th>\n",
       "    </tr>\n",
       "  </thead>\n",
       "  <tbody>\n",
       "    <tr>\n",
       "      <th>0</th>\n",
       "      <td>123001</td>\n",
       "      <td>3,101.00</td>\n",
       "      <td>3.00</td>\n",
       "      <td>b</td>\n",
       "      <td>101 Mar P&amp;R-Aur Vill</td>\n",
       "      <td>6.64</td>\n",
       "      <td>24.25</td>\n",
       "      <td>1.00</td>\n",
       "      <td>5to6</td>\n",
       "    </tr>\n",
       "    <tr>\n",
       "      <th>1</th>\n",
       "      <td>123002</td>\n",
       "      <td>3,101.00</td>\n",
       "      <td>3.00</td>\n",
       "      <td>b</td>\n",
       "      <td>101 Mar P&amp;R-Aur Vill</td>\n",
       "      <td>2.06</td>\n",
       "      <td>25.29</td>\n",
       "      <td>1.00</td>\n",
       "      <td>5to6</td>\n",
       "    </tr>\n",
       "    <tr>\n",
       "      <th>2</th>\n",
       "      <td>123003</td>\n",
       "      <td>3,105.00</td>\n",
       "      <td>3.00</td>\n",
       "      <td>b</td>\n",
       "      <td>105 Mariner P&amp;R-Both</td>\n",
       "      <td>6.71</td>\n",
       "      <td>46.56</td>\n",
       "      <td>1.00</td>\n",
       "      <td>5to6</td>\n",
       "    </tr>\n",
       "    <tr>\n",
       "      <th>3</th>\n",
       "      <td>123005</td>\n",
       "      <td>3,105.00</td>\n",
       "      <td>3.00</td>\n",
       "      <td>b</td>\n",
       "      <td>105 Mariner P&amp;R-Both</td>\n",
       "      <td>5.25</td>\n",
       "      <td>46.54</td>\n",
       "      <td>1.00</td>\n",
       "      <td>5to6</td>\n",
       "    </tr>\n",
       "    <tr>\n",
       "      <th>4</th>\n",
       "      <td>123007</td>\n",
       "      <td>3,106.00</td>\n",
       "      <td>3.00</td>\n",
       "      <td>b</td>\n",
       "      <td>106 Mariner P&amp;R-Both</td>\n",
       "      <td>5.68</td>\n",
       "      <td>44.86</td>\n",
       "      <td>1.00</td>\n",
       "      <td>5to6</td>\n",
       "    </tr>\n",
       "    <tr>\n",
       "      <th>...</th>\n",
       "      <td>...</td>\n",
       "      <td>...</td>\n",
       "      <td>...</td>\n",
       "      <td>...</td>\n",
       "      <td>...</td>\n",
       "      <td>...</td>\n",
       "      <td>...</td>\n",
       "      <td>...</td>\n",
       "      <td>...</td>\n",
       "    </tr>\n",
       "    <tr>\n",
       "      <th>5746</th>\n",
       "      <td>123862</td>\n",
       "      <td>5,002.00</td>\n",
       "      <td>5.00</td>\n",
       "      <td>f</td>\n",
       "      <td>WSF Seattle-Bain Isl</td>\n",
       "      <td>169.29</td>\n",
       "      <td>35.00</td>\n",
       "      <td>7.00</td>\n",
       "      <td>20to5</td>\n",
       "    </tr>\n",
       "    <tr>\n",
       "      <th>5747</th>\n",
       "      <td>123863</td>\n",
       "      <td>5,003.00</td>\n",
       "      <td>5.00</td>\n",
       "      <td>f</td>\n",
       "      <td>WSF Seattle-Brem</td>\n",
       "      <td>0.00</td>\n",
       "      <td>60.00</td>\n",
       "      <td>7.00</td>\n",
       "      <td>20to5</td>\n",
       "    </tr>\n",
       "    <tr>\n",
       "      <th>5748</th>\n",
       "      <td>123864</td>\n",
       "      <td>5,001.00</td>\n",
       "      <td>5.00</td>\n",
       "      <td>f</td>\n",
       "      <td>WSF Edmonds-Kingston</td>\n",
       "      <td>7.00</td>\n",
       "      <td>30.00</td>\n",
       "      <td>7.00</td>\n",
       "      <td>20to5</td>\n",
       "    </tr>\n",
       "    <tr>\n",
       "      <th>5749</th>\n",
       "      <td>123865</td>\n",
       "      <td>5,004.00</td>\n",
       "      <td>5.00</td>\n",
       "      <td>p</td>\n",
       "      <td>WSF Fauntleroy-Swrth</td>\n",
       "      <td>30.49</td>\n",
       "      <td>30.00</td>\n",
       "      <td>7.00</td>\n",
       "      <td>20to5</td>\n",
       "    </tr>\n",
       "    <tr>\n",
       "      <th>5750</th>\n",
       "      <td>123866</td>\n",
       "      <td>5,005.00</td>\n",
       "      <td>5.00</td>\n",
       "      <td>p</td>\n",
       "      <td>WSF Fauntleroy-Vashn</td>\n",
       "      <td>63.80</td>\n",
       "      <td>20.00</td>\n",
       "      <td>7.00</td>\n",
       "      <td>20to5</td>\n",
       "    </tr>\n",
       "  </tbody>\n",
       "</table>\n",
       "<p>5751 rows � 9 columns</p>\n",
       "</div>"
      ],
      "text/plain": [
       "      line_id  route_code  agency_code mode           description  boardings  \\\n",
       "0      123001    3,101.00         3.00    b  101 Mar P&R-Aur Vill       6.64   \n",
       "1      123002    3,101.00         3.00    b  101 Mar P&R-Aur Vill       2.06   \n",
       "2      123003    3,105.00         3.00    b  105 Mariner P&R-Both       6.71   \n",
       "3      123005    3,105.00         3.00    b  105 Mariner P&R-Both       5.25   \n",
       "4      123007    3,106.00         3.00    b  106 Mariner P&R-Both       5.68   \n",
       "...       ...         ...          ...  ...                   ...        ...   \n",
       "5746   123862    5,002.00         5.00    f  WSF Seattle-Bain Isl     169.29   \n",
       "5747   123863    5,003.00         5.00    f      WSF Seattle-Brem       0.00   \n",
       "5748   123864    5,001.00         5.00    f  WSF Edmonds-Kingston       7.00   \n",
       "5749   123865    5,004.00         5.00    p  WSF Fauntleroy-Swrth      30.49   \n",
       "5750   123866    5,005.00         5.00    p  WSF Fauntleroy-Vashn      63.80   \n",
       "\n",
       "      time  transit_type    tod  \n",
       "0    24.25          1.00   5to6  \n",
       "1    25.29          1.00   5to6  \n",
       "2    46.56          1.00   5to6  \n",
       "3    46.54          1.00   5to6  \n",
       "4    44.86          1.00   5to6  \n",
       "...    ...           ...    ...  \n",
       "5746 35.00          7.00  20to5  \n",
       "5747 60.00          7.00  20to5  \n",
       "5748 30.00          7.00  20to5  \n",
       "5749 30.00          7.00  20to5  \n",
       "5750 20.00          7.00  20to5  \n",
       "\n",
       "[5751 rows x 9 columns]"
      ]
     },
     "execution_count": 24,
     "metadata": {},
     "output_type": "execute_result"
    }
   ],
   "source": [
    "df_transit_line"
   ]
  },
  {
   "cell_type": "markdown",
   "id": "6e6c5ead64d64e8c",
   "metadata": {},
   "source": [
    "### boarding on lines by agency"
   ]
  },
  {
   "cell_type": "code",
   "execution_count": 25,
   "id": "95db4119eb938544",
   "metadata": {
    "ExecuteTime": {
     "end_time": "2024-06-24T19:52:55.951969Z",
     "start_time": "2024-06-24T19:52:54.937995Z"
    },
    "execution": {
     "iopub.execute_input": "2024-12-14T02:38:41.171718Z",
     "iopub.status.busy": "2024-12-14T02:38:41.170721Z",
     "iopub.status.idle": "2024-12-14T02:38:42.833012Z",
     "shell.execute_reply": "2024-12-14T02:38:42.831017Z"
    }
   },
   "outputs": [
    {
     "name": "stdout",
     "output_type": "stream",
     "text": [
      "r^2 Community Transit: 0.9771295681722034\n",
      "r^2 Everett Transit: 0.9904965621976465\n",
      "r^2 King County Metro: 0.9446218472270473\n",
      "r^2 Kitsap Transit: 0.9455138106996828\n",
      "r^2 Pierce Transit: 0.7575409869436927\n",
      "r^2 Sound Transit: 0.9973092470236434\n",
      "r^2 Washington Ferries: 0.975372896964478\n"
     ]
    },
    {
     "data": {
      "image/png": "[encoded data removed]",
      "text/plain": [
       "<Figure size 432x288 with 1 Axes>"
      ]
     },
     "metadata": {
      "needs_background": "light"
     },
     "output_type": "display_data"
    },
    {
     "data": {
      "image/png": "[encoded data removed]",
      "text/plain": [
       "<Figure size 432x288 with 1 Axes>"
      ]
     },
     "metadata": {
      "needs_background": "light"
     },
     "output_type": "display_data"
    },
    {
     "data": {
      "image/png": "[encoded data removed]",
      "text/plain": [
       "<Figure size 432x288 with 1 Axes>"
      ]
     },
     "metadata": {
      "needs_background": "light"
     },
     "output_type": "display_data"
    },
    {
     "data": {
      "image/png": "[encoded data removed]",
      "text/plain": [
       "<Figure size 432x288 with 1 Axes>"
      ]
     },
     "metadata": {
      "needs_background": "light"
     },
     "output_type": "display_data"
    },
    {
     "data": {
      "image/png": "[encoded data removed]",
      "text/plain": [
       "<Figure size 432x288 with 1 Axes>"
      ]
     },
     "metadata": {
      "needs_background": "light"
     },
     "output_type": "display_data"
    },
    {
     "data": {
      "image/png": "[encoded data removed]",
      "text/plain": [
       "<Figure size 432x288 with 1 Axes>"
      ]
     },
     "metadata": {
      "needs_background": "light"
     },
     "output_type": "display_data"
    },
    {
     "data": {
      "image/png": "[encoded data removed]",
      "text/plain": [
       "<Figure size 432x288 with 1 Axes>"
      ]
     },
     "metadata": {
      "needs_background": "light"
     },
     "output_type": "display_data"
    }
   ],
   "source": [
    "df = pd.read_csv(os.path.join(csv_path,'daily_boardings_by_line.csv'), index_col='agency')\n",
    "df = df[-df['agency_id'].isnull()]\n",
    "\n",
    "for agency in np.unique(df.index):\n",
    "    _df = df.loc[agency,:]\n",
    "    if (type(_df) == pd.core.frame.DataFrame) & (len(df) > 0):\n",
    "        ax = _df.plot(kind='scatter', x='observed_boardings', y='model_boardings', label=agency)\n",
    "        lim = _df[['observed_boardings','model_boardings']].max().max()*1.05\n",
    "        ax.set_ylim(0,lim)\n",
    "        ax.set_xlim(0,lim)\n",
    "        x = np.linspace(*ax.get_xlim())\n",
    "        ax.plot(x, x)\n",
    "        slope, intercept, r_value, p_value, std_err = stats.linregress(_df['observed_boardings'],_df['model_boardings'])\n",
    "        print('r^2 ' + str(agency) + ': ' + str(r_value))"
   ]
  },
  {
   "cell_type": "markdown",
   "id": "4539ddda98821ff2",
   "metadata": {},
   "source": [
    "### boarding by light rail station"
   ]
  },
  {
   "cell_type": "raw",
   "id": "1a2860ab52ea5101",
   "metadata": {
    "vscode": {
     "languageId": "raw"
    }
   },
   "source": [
    ":::{.panel-tabset}\n",
    "#### 1 Line"
   ]
  },
  {
   "cell_type": "code",
   "execution_count": 26,
   "id": "2c245b8117693726",
   "metadata": {
    "ExecuteTime": {
     "end_time": "2024-06-24T20:06:01.435477Z",
     "start_time": "2024-06-24T20:06:01.389414Z"
    },
    "execution": {
     "iopub.execute_input": "2024-12-14T02:38:42.844979Z",
     "iopub.status.busy": "2024-12-14T02:38:42.843982Z",
     "iopub.status.idle": "2024-12-14T02:38:42.910989Z",
     "shell.execute_reply": "2024-12-14T02:38:42.908994Z"
    }
   },
   "outputs": [],
   "source": [
    "df = pd.read_csv(os.path.join(csv_path,'light_rail_boardings.csv'), index_col='station_name')\n",
    "df['diff'] = df['model_boardings']-df['observed_boardings']\n",
    "df['percent_diff'] = df['diff']/df['observed_boardings']\n",
    "\n",
    "df_table = df.copy()\n",
    "df_table[['percent_diff']] = df_table[['percent_diff']].applymap(format_percent)\n",
    "df_table\n",
    "\n",
    "line_1_station_list = ['Northgate Station','Roosevelt Station','University District Station', \n",
    "                'Husky Stadium', 'Capitol Hill', 'Westlake', 'Symphony', 'Pioneer Square',\n",
    "                \"Int'l District\",  'Stadium', 'SODO', 'Beacon Hill',\n",
    "               'Mount Baker', 'Columbia City', 'Othello', 'Rainier Beach',\n",
    "                \"Tukwila Int'l Blvd\", 'SeaTac/Airport', 'Angle Lake']\n",
    "t_line_station_list = ['Tacoma Dome Station', 'S 25th St Station', 'Union Station',\n",
    "       'Convention Center Station', 'Commerce Station']"
   ]
  },
  {
   "cell_type": "code",
   "execution_count": 27,
   "id": "d1ef9fda",
   "metadata": {},
   "outputs": [
    {
     "data": {
      "text/html": [
       "<div>\n",
       "<style scoped>\n",
       "    .dataframe tbody tr th:only-of-type {\n",
       "        vertical-align: middle;\n",
       "    }\n",
       "\n",
       "    .dataframe tbody tr th {\n",
       "        vertical-align: top;\n",
       "    }\n",
       "\n",
       "    .dataframe thead th {\n",
       "        text-align: right;\n",
       "    }\n",
       "</style>\n",
       "<table border=\"1\" class=\"dataframe\">\n",
       "  <thead>\n",
       "    <tr style=\"text-align: right;\">\n",
       "      <th></th>\n",
       "      <th>observed_boardings</th>\n",
       "      <th>model_boardings</th>\n",
       "      <th>diff</th>\n",
       "      <th>percent_diff</th>\n",
       "    </tr>\n",
       "    <tr>\n",
       "      <th>station_name</th>\n",
       "      <th></th>\n",
       "      <th></th>\n",
       "      <th></th>\n",
       "      <th></th>\n",
       "    </tr>\n",
       "  </thead>\n",
       "  <tbody>\n",
       "    <tr>\n",
       "      <th>Northgate Station</th>\n",
       "      <td>10,384.00</td>\n",
       "      <td>6,875.48</td>\n",
       "      <td>-3,508.52</td>\n",
       "      <td>-33.79%</td>\n",
       "    </tr>\n",
       "    <tr>\n",
       "      <th>Roosevelt Station</th>\n",
       "      <td>4,349.00</td>\n",
       "      <td>8,211.36</td>\n",
       "      <td>3,862.36</td>\n",
       "      <td>88.81%</td>\n",
       "    </tr>\n",
       "    <tr>\n",
       "      <th>University District Station</th>\n",
       "      <td>7,563.00</td>\n",
       "      <td>6,426.50</td>\n",
       "      <td>-1,136.50</td>\n",
       "      <td>-15.03%</td>\n",
       "    </tr>\n",
       "    <tr>\n",
       "      <th>Husky Stadium</th>\n",
       "      <td>6,134.00</td>\n",
       "      <td>3,521.70</td>\n",
       "      <td>-2,612.30</td>\n",
       "      <td>-42.59%</td>\n",
       "    </tr>\n",
       "    <tr>\n",
       "      <th>Capitol Hill</th>\n",
       "      <td>7,667.00</td>\n",
       "      <td>7,405.99</td>\n",
       "      <td>-261.01</td>\n",
       "      <td>-3.40%</td>\n",
       "    </tr>\n",
       "    <tr>\n",
       "      <th>Westlake</th>\n",
       "      <td>8,845.00</td>\n",
       "      <td>9,513.88</td>\n",
       "      <td>668.88</td>\n",
       "      <td>7.56%</td>\n",
       "    </tr>\n",
       "    <tr>\n",
       "      <th>Symphony</th>\n",
       "      <td>4,324.00</td>\n",
       "      <td>5,781.74</td>\n",
       "      <td>1,457.74</td>\n",
       "      <td>33.71%</td>\n",
       "    </tr>\n",
       "    <tr>\n",
       "      <th>Pioneer Square</th>\n",
       "      <td>2,400.00</td>\n",
       "      <td>5,285.32</td>\n",
       "      <td>2,885.32</td>\n",
       "      <td>120.22%</td>\n",
       "    </tr>\n",
       "    <tr>\n",
       "      <th>Int'l District</th>\n",
       "      <td>4,399.00</td>\n",
       "      <td>1,842.69</td>\n",
       "      <td>-2,556.31</td>\n",
       "      <td>-58.11%</td>\n",
       "    </tr>\n",
       "    <tr>\n",
       "      <th>Stadium</th>\n",
       "      <td>1,731.00</td>\n",
       "      <td>354.38</td>\n",
       "      <td>-1,376.62</td>\n",
       "      <td>-79.53%</td>\n",
       "    </tr>\n",
       "    <tr>\n",
       "      <th>SODO</th>\n",
       "      <td>1,669.00</td>\n",
       "      <td>2,312.08</td>\n",
       "      <td>643.08</td>\n",
       "      <td>38.53%</td>\n",
       "    </tr>\n",
       "    <tr>\n",
       "      <th>Beacon Hill</th>\n",
       "      <td>2,147.00</td>\n",
       "      <td>1,344.96</td>\n",
       "      <td>-802.04</td>\n",
       "      <td>-37.36%</td>\n",
       "    </tr>\n",
       "    <tr>\n",
       "      <th>Mount Baker</th>\n",
       "      <td>1,861.00</td>\n",
       "      <td>1,691.20</td>\n",
       "      <td>-169.80</td>\n",
       "      <td>-9.12%</td>\n",
       "    </tr>\n",
       "    <tr>\n",
       "      <th>Columbia City</th>\n",
       "      <td>1,630.00</td>\n",
       "      <td>1,713.53</td>\n",
       "      <td>83.53</td>\n",
       "      <td>5.12%</td>\n",
       "    </tr>\n",
       "    <tr>\n",
       "      <th>Othello</th>\n",
       "      <td>2,030.00</td>\n",
       "      <td>2,062.07</td>\n",
       "      <td>32.07</td>\n",
       "      <td>1.58%</td>\n",
       "    </tr>\n",
       "    <tr>\n",
       "      <th>Rainier Beach</th>\n",
       "      <td>1,495.00</td>\n",
       "      <td>1,647.96</td>\n",
       "      <td>152.96</td>\n",
       "      <td>10.23%</td>\n",
       "    </tr>\n",
       "    <tr>\n",
       "      <th>Tukwila Int'l Blvd</th>\n",
       "      <td>2,298.00</td>\n",
       "      <td>2,963.31</td>\n",
       "      <td>665.31</td>\n",
       "      <td>28.95%</td>\n",
       "    </tr>\n",
       "    <tr>\n",
       "      <th>SeaTac/Airport</th>\n",
       "      <td>4,731.00</td>\n",
       "      <td>5,982.43</td>\n",
       "      <td>1,251.43</td>\n",
       "      <td>26.45%</td>\n",
       "    </tr>\n",
       "    <tr>\n",
       "      <th>Angle Lake</th>\n",
       "      <td>3,865.00</td>\n",
       "      <td>2,980.43</td>\n",
       "      <td>-884.57</td>\n",
       "      <td>-22.89%</td>\n",
       "    </tr>\n",
       "  </tbody>\n",
       "</table>\n",
       "</div>"
      ],
      "text/plain": [
       "                             observed_boardings  model_boardings      diff  \\\n",
       "station_name                                                                 \n",
       "Northgate Station                     10,384.00         6,875.48 -3,508.52   \n",
       "Roosevelt Station                      4,349.00         8,211.36  3,862.36   \n",
       "University District Station            7,563.00         6,426.50 -1,136.50   \n",
       "Husky Stadium                          6,134.00         3,521.70 -2,612.30   \n",
       "Capitol Hill                           7,667.00         7,405.99   -261.01   \n",
       "Westlake                               8,845.00         9,513.88    668.88   \n",
       "Symphony                               4,324.00         5,781.74  1,457.74   \n",
       "Pioneer Square                         2,400.00         5,285.32  2,885.32   \n",
       "Int'l District                         4,399.00         1,842.69 -2,556.31   \n",
       "Stadium                                1,731.00           354.38 -1,376.62   \n",
       "SODO                                   1,669.00         2,312.08    643.08   \n",
       "Beacon Hill                            2,147.00         1,344.96   -802.04   \n",
       "Mount Baker                            1,861.00         1,691.20   -169.80   \n",
       "Columbia City                          1,630.00         1,713.53     83.53   \n",
       "Othello                                2,030.00         2,062.07     32.07   \n",
       "Rainier Beach                          1,495.00         1,647.96    152.96   \n",
       "Tukwila Int'l Blvd                     2,298.00         2,963.31    665.31   \n",
       "SeaTac/Airport                         4,731.00         5,982.43  1,251.43   \n",
       "Angle Lake                             3,865.00         2,980.43   -884.57   \n",
       "\n",
       "                            percent_diff  \n",
       "station_name                              \n",
       "Northgate Station                -33.79%  \n",
       "Roosevelt Station                 88.81%  \n",
       "University District Station      -15.03%  \n",
       "Husky Stadium                    -42.59%  \n",
       "Capitol Hill                      -3.40%  \n",
       "Westlake                           7.56%  \n",
       "Symphony                          33.71%  \n",
       "Pioneer Square                   120.22%  \n",
       "Int'l District                   -58.11%  \n",
       "Stadium                          -79.53%  \n",
       "SODO                              38.53%  \n",
       "Beacon Hill                      -37.36%  \n",
       "Mount Baker                       -9.12%  \n",
       "Columbia City                      5.12%  \n",
       "Othello                            1.58%  \n",
       "Rainier Beach                     10.23%  \n",
       "Tukwila Int'l Blvd                28.95%  \n",
       "SeaTac/Airport                    26.45%  \n",
       "Angle Lake                       -22.89%  "
      ]
     },
     "execution_count": 27,
     "metadata": {},
     "output_type": "execute_result"
    }
   ],
   "source": [
    "line_1_df = df_table.loc[line_1_station_list]\n",
    "line_1_df"
   ]
  },
  {
   "cell_type": "code",
   "execution_count": 28,
   "id": "76eb1c04",
   "metadata": {},
   "outputs": [
    {
     "data": {
      "application/vnd.plotly.v1+json": {
       "config": {
        "plotlyServerURL": "https://plot.ly"
       },
       "data": [
        {
         "hovertemplate": "variable=observed_boardings<br>station_name=%{x}<br>value=%{y}<extra></extra>",
         "legendgroup": "observed_boardings",
         "line": {
          "color": "#91268F",
          "dash": "solid"
         },
         "marker": {
          "symbol": "circle"
         },
         "mode": "lines",
         "name": "observed_boardings",
         "orientation": "v",
         "showlegend": true,
         "type": "scatter",
         "x": [
          "Northgate Station",
          "Roosevelt Station",
          "University District Station",
          "Husky Stadium",
          "Capitol Hill",
          "Westlake",
          "Symphony",
          "Pioneer Square",
          "Int'l District",
          "Stadium",
          "SODO",
          "Beacon Hill",
          "Mount Baker",
          "Columbia City",
          "Othello",
          "Rainier Beach",
          "Tukwila Int'l Blvd",
          "SeaTac/Airport",
          "Angle Lake"
         ],
         "xaxis": "x",
         "y": [
          10384.0,
          4349.0,
          7563.0,
          6134.0,
          7667.0,
          8845.0,
          4324.0,
          2400.0,
          4399.0,
          1731.0,
          1669.0,
          2147.0,
          1861.0,
          1630.0,
          2030.0,
          1495.0,
          2298.0,
          4731.0,
          3865.0
         ],
         "yaxis": "y"
        },
        {
         "hovertemplate": "variable=model_boardings<br>station_name=%{x}<br>value=%{y}<extra></extra>",
         "legendgroup": "model_boardings",
         "line": {
          "color": "#8CC63E",
          "dash": "solid"
         },
         "marker": {
          "symbol": "circle"
         },
         "mode": "lines",
         "name": "model_boardings",
         "orientation": "v",
         "showlegend": true,
         "type": "scatter",
         "x": [
          "Northgate Station",
          "Roosevelt Station",
          "University District Station",
          "Husky Stadium",
          "Capitol Hill",
          "Westlake",
          "Symphony",
          "Pioneer Square",
          "Int'l District",
          "Stadium",
          "SODO",
          "Beacon Hill",
          "Mount Baker",
          "Columbia City",
          "Othello",
          "Rainier Beach",
          "Tukwila Int'l Blvd",
          "SeaTac/Airport",
          "Angle Lake"
         ],
         "xaxis": "x",
         "y": [
          6875.47673034668,
          8211.35608792305,
          6426.503324508667,
          3521.7037692070007,
          7405.991648674011,
          9513.880066871645,
          5781.7381067276,
          5285.319492340088,
          1842.6858491897583,
          354.3833352923393,
          2312.076726436615,
          1344.9621561169624,
          1691.1993079185486,
          1713.5256597995758,
          2062.065826177597,
          1647.9556176662445,
          2963.3052406311035,
          5982.433862507343,
          2980.4280700683594
         ],
         "yaxis": "y"
        }
       ],
       "layout": {
        "font": {
         "size": 11
        },
        "height": 500,
        "legend": {
         "title": {
          "text": "variable"
         },
         "tracegroupgap": 0
        },
        "margin": {
         "t": 60
        },
        "template": {
         "data": {
          "bar": [
           {
            "error_x": {
             "color": "rgb(36,36,36)"
            },
            "error_y": {
             "color": "rgb(36,36,36)"
            },
            "marker": {
             "line": {
              "color": "white",
              "width": 0.5
             },
             "pattern": {
              "fillmode": "overlay",
              "size": 10,
              "solidity": 0.2
             }
            },
            "type": "bar"
           }
          ],
          "barpolar": [
           {
            "marker": {
             "line": {
              "color": "white",
              "width": 0.5
             },
             "pattern": {
              "fillmode": "overlay",
              "size": 10,
              "solidity": 0.2
             }
            },
            "type": "barpolar"
           }
          ],
          "carpet": [
           {
            "aaxis": {
             "endlinecolor": "rgb(36,36,36)",
             "gridcolor": "white",
             "linecolor": "white",
             "minorgridcolor": "white",
             "startlinecolor": "rgb(36,36,36)"
            },
            "baxis": {
             "endlinecolor": "rgb(36,36,36)",
             "gridcolor": "white",
             "linecolor": "white",
             "minorgridcolor": "white",
             "startlinecolor": "rgb(36,36,36)"
            },
            "type": "carpet"
           }
          ],
          "choropleth": [
           {
            "colorbar": {
             "outlinewidth": 1,
             "tickcolor": "rgb(36,36,36)",
             "ticks": "outside"
            },
            "type": "choropleth"
           }
          ],
          "contour": [
           {
            "colorbar": {
             "outlinewidth": 1,
             "tickcolor": "rgb(36,36,36)",
             "ticks": "outside"
            },
            "colorscale": [
             [
              0.0,
              "#440154"
             ],
             [
              0.1111111111111111,
              "#482878"
             ],
             [
              0.2222222222222222,
              "#3e4989"
             ],
             [
              0.3333333333333333,
              "#31688e"
             ],
             [
              0.4444444444444444,
              "#26828e"
             ],
             [
              0.5555555555555556,
              "#1f9e89"
             ],
             [
              0.6666666666666666,
              "#35b779"
             ],
             [
              0.7777777777777778,
              "#6ece58"
             ],
             [
              0.8888888888888888,
              "#b5de2b"
             ],
             [
              1.0,
              "#fde725"
             ]
            ],
            "type": "contour"
           }
          ],
          "contourcarpet": [
           {
            "colorbar": {
             "outlinewidth": 1,
             "tickcolor": "rgb(36,36,36)",
             "ticks": "outside"
            },
            "type": "contourcarpet"
           }
          ],
          "heatmap": [
           {
            "colorbar": {
             "outlinewidth": 1,
             "tickcolor": "rgb(36,36,36)",
             "ticks": "outside"
            },
            "colorscale": [
             [
              0.0,
              "#440154"
             ],
             [
              0.1111111111111111,
              "#482878"
             ],
             [
              0.2222222222222222,
              "#3e4989"
             ],
             [
              0.3333333333333333,
              "#31688e"
             ],
             [
              0.4444444444444444,
              "#26828e"
             ],
             [
              0.5555555555555556,
              "#1f9e89"
             ],
             [
              0.6666666666666666,
              "#35b779"
             ],
             [
              0.7777777777777778,
              "#6ece58"
             ],
             [
              0.8888888888888888,
              "#b5de2b"
             ],
             [
              1.0,
              "#fde725"
             ]
            ],
            "type": "heatmap"
           }
          ],
          "heatmapgl": [
           {
            "colorbar": {
             "outlinewidth": 1,
             "tickcolor": "rgb(36,36,36)",
             "ticks": "outside"
            },
            "colorscale": [
             [
              0.0,
              "#440154"
             ],
             [
              0.1111111111111111,
              "#482878"
             ],
             [
              0.2222222222222222,
              "#3e4989"
             ],
             [
              0.3333333333333333,
              "#31688e"
             ],
             [
              0.4444444444444444,
              "#26828e"
             ],
             [
              0.5555555555555556,
              "#1f9e89"
             ],
             [
              0.6666666666666666,
              "#35b779"
             ],
             [
              0.7777777777777778,
              "#6ece58"
             ],
             [
              0.8888888888888888,
              "#b5de2b"
             ],
             [
              1.0,
              "#fde725"
             ]
            ],
            "type": "heatmapgl"
           }
          ],
          "histogram": [
           {
            "marker": {
             "line": {
              "color": "white",
              "width": 0.6
             }
            },
            "type": "histogram"
           }
          ],
          "histogram2d": [
           {
            "colorbar": {
             "outlinewidth": 1,
             "tickcolor": "rgb(36,36,36)",
             "ticks": "outside"
            },
            "colorscale": [
             [
              0.0,
              "#440154"
             ],
             [
              0.1111111111111111,
              "#482878"
             ],
             [
              0.2222222222222222,
              "#3e4989"
             ],
             [
              0.3333333333333333,
              "#31688e"
             ],
             [
              0.4444444444444444,
              "#26828e"
             ],
             [
              0.5555555555555556,
              "#1f9e89"
             ],
             [
              0.6666666666666666,
              "#35b779"
             ],
             [
              0.7777777777777778,
              "#6ece58"
             ],
             [
              0.8888888888888888,
              "#b5de2b"
             ],
             [
              1.0,
              "#fde725"
             ]
            ],
            "type": "histogram2d"
           }
          ],
          "histogram2dcontour": [
           {
            "colorbar": {
             "outlinewidth": 1,
             "tickcolor": "rgb(36,36,36)",
             "ticks": "outside"
            },
            "colorscale": [
             [
              0.0,
              "#440154"
             ],
             [
              0.1111111111111111,
              "#482878"
             ],
             [
              0.2222222222222222,
              "#3e4989"
             ],
             [
              0.3333333333333333,
              "#31688e"
             ],
             [
              0.4444444444444444,
              "#26828e"
             ],
             [
              0.5555555555555556,
              "#1f9e89"
             ],
             [
              0.6666666666666666,
              "#35b779"
             ],
             [
              0.7777777777777778,
              "#6ece58"
             ],
             [
              0.8888888888888888,
              "#b5de2b"
             ],
             [
              1.0,
              "#fde725"
             ]
            ],
            "type": "histogram2dcontour"
           }
          ],
          "mesh3d": [
           {
            "colorbar": {
             "outlinewidth": 1,
             "tickcolor": "rgb(36,36,36)",
             "ticks": "outside"
            },
            "type": "mesh3d"
           }
          ],
          "parcoords": [
           {
            "line": {
             "colorbar": {
              "outlinewidth": 1,
              "tickcolor": "rgb(36,36,36)",
              "ticks": "outside"
             }
            },
            "type": "parcoords"
           }
          ],
          "pie": [
           {
            "automargin": true,
            "type": "pie"
           }
          ],
          "scatter": [
           {
            "fillpattern": {
             "fillmode": "overlay",
             "size": 10,
             "solidity": 0.2
            },
            "type": "scatter"
           }
          ],
          "scatter3d": [
           {
            "line": {
             "colorbar": {
              "outlinewidth": 1,
              "tickcolor": "rgb(36,36,36)",
              "ticks": "outside"
             }
            },
            "marker": {
             "colorbar": {
              "outlinewidth": 1,
              "tickcolor": "rgb(36,36,36)",
              "ticks": "outside"
             }
            },
            "type": "scatter3d"
           }
          ],
          "scattercarpet": [
           {
            "marker": {
             "colorbar": {
              "outlinewidth": 1,
              "tickcolor": "rgb(36,36,36)",
              "ticks": "outside"
             }
            },
            "type": "scattercarpet"
           }
          ],
          "scattergeo": [
           {
            "marker": {
             "colorbar": {
              "outlinewidth": 1,
              "tickcolor": "rgb(36,36,36)",
              "ticks": "outside"
             }
            },
            "type": "scattergeo"
           }
          ],
          "scattergl": [
           {
            "marker": {
             "colorbar": {
              "outlinewidth": 1,
              "tickcolor": "rgb(36,36,36)",
              "ticks": "outside"
             }
            },
            "type": "scattergl"
           }
          ],
          "scattermapbox": [
           {
            "marker": {
             "colorbar": {
              "outlinewidth": 1,
              "tickcolor": "rgb(36,36,36)",
              "ticks": "outside"
             }
            },
            "type": "scattermapbox"
           }
          ],
          "scatterpolar": [
           {
            "marker": {
             "colorbar": {
              "outlinewidth": 1,
              "tickcolor": "rgb(36,36,36)",
              "ticks": "outside"
             }
            },
            "type": "scatterpolar"
           }
          ],
          "scatterpolargl": [
           {
            "marker": {
             "colorbar": {
              "outlinewidth": 1,
              "tickcolor": "rgb(36,36,36)",
              "ticks": "outside"
             }
            },
            "type": "scatterpolargl"
           }
          ],
          "scatterternary": [
           {
            "marker": {
             "colorbar": {
              "outlinewidth": 1,
              "tickcolor": "rgb(36,36,36)",
              "ticks": "outside"
             }
            },
            "type": "scatterternary"
           }
          ],
          "surface": [
           {
            "colorbar": {
             "outlinewidth": 1,
             "tickcolor": "rgb(36,36,36)",
             "ticks": "outside"
            },
            "colorscale": [
             [
              0.0,
              "#440154"
             ],
             [
              0.1111111111111111,
              "#482878"
             ],
             [
              0.2222222222222222,
              "#3e4989"
             ],
             [
              0.3333333333333333,
              "#31688e"
             ],
             [
              0.4444444444444444,
              "#26828e"
             ],
             [
              0.5555555555555556,
              "#1f9e89"
             ],
             [
              0.6666666666666666,
              "#35b779"
             ],
             [
              0.7777777777777778,
              "#6ece58"
             ],
             [
              0.8888888888888888,
              "#b5de2b"
             ],
             [
              1.0,
              "#fde725"
             ]
            ],
            "type": "surface"
           }
          ],
          "table": [
           {
            "cells": {
             "fill": {
              "color": "rgb(237,237,237)"
             },
             "line": {
              "color": "white"
             }
            },
            "header": {
             "fill": {
              "color": "rgb(217,217,217)"
             },
             "line": {
              "color": "white"
             }
            },
            "type": "table"
           }
          ]
         },
         "layout": {
          "annotationdefaults": {
           "arrowhead": 0,
           "arrowwidth": 1
          },
          "autotypenumbers": "strict",
          "coloraxis": {
           "colorbar": {
            "outlinewidth": 1,
            "tickcolor": "rgb(36,36,36)",
            "ticks": "outside"
           }
          },
          "colorscale": {
           "diverging": [
            [
             0.0,
             "rgb(103,0,31)"
            ],
            [
             0.1,
             "rgb(178,24,43)"
            ],
            [
             0.2,
             "rgb(214,96,77)"
            ],
            [
             0.3,
             "rgb(244,165,130)"
            ],
            [
             0.4,
             "rgb(253,219,199)"
            ],
            [
             0.5,
             "rgb(247,247,247)"
            ],
            [
             0.6,
             "rgb(209,229,240)"
            ],
            [
             0.7,
             "rgb(146,197,222)"
            ],
            [
             0.8,
             "rgb(67,147,195)"
            ],
            [
             0.9,
             "rgb(33,102,172)"
            ],
            [
             1.0,
             "rgb(5,48,97)"
            ]
           ],
           "sequential": [
            [
             0.0,
             "#440154"
            ],
            [
             0.1111111111111111,
             "#482878"
            ],
            [
             0.2222222222222222,
             "#3e4989"
            ],
            [
             0.3333333333333333,
             "#31688e"
            ],
            [
             0.4444444444444444,
             "#26828e"
            ],
            [
             0.5555555555555556,
             "#1f9e89"
            ],
            [
             0.6666666666666666,
             "#35b779"
            ],
            [
             0.7777777777777778,
             "#6ece58"
            ],
            [
             0.8888888888888888,
             "#b5de2b"
            ],
            [
             1.0,
             "#fde725"
            ]
           ],
           "sequentialminus": [
            [
             0.0,
             "#440154"
            ],
            [
             0.1111111111111111,
             "#482878"
            ],
            [
             0.2222222222222222,
             "#3e4989"
            ],
            [
             0.3333333333333333,
             "#31688e"
            ],
            [
             0.4444444444444444,
             "#26828e"
            ],
            [
             0.5555555555555556,
             "#1f9e89"
            ],
            [
             0.6666666666666666,
             "#35b779"
            ],
            [
             0.7777777777777778,
             "#6ece58"
            ],
            [
             0.8888888888888888,
             "#b5de2b"
            ],
            [
             1.0,
             "#fde725"
            ]
           ]
          },
          "colorway": [
           "#91268F",
           "#8CC63E",
           "#00A7A0",
           "#F05A28",
           "#4C4C4C",
           "#630460",
           "#9f3913",
           "#588527",
           "#00716c",
           "#3e4040"
          ],
          "font": {
           "color": "rgb(36,36,36)",
           "family": "Poppins",
           "size": 11
          },
          "geo": {
           "bgcolor": "white",
           "lakecolor": "white",
           "landcolor": "white",
           "showlakes": true,
           "showland": true,
           "subunitcolor": "white"
          },
          "hoverlabel": {
           "align": "left"
          },
          "hovermode": "closest",
          "mapbox": {
           "style": "light"
          },
          "paper_bgcolor": "white",
          "plot_bgcolor": "white",
          "polar": {
           "angularaxis": {
            "gridcolor": "rgb(232,232,232)",
            "linecolor": "rgb(36,36,36)",
            "showgrid": false,
            "showline": true,
            "ticks": "outside"
           },
           "bgcolor": "white",
           "radialaxis": {
            "gridcolor": "rgb(232,232,232)",
            "linecolor": "rgb(36,36,36)",
            "showgrid": false,
            "showline": true,
            "ticks": "outside"
           }
          },
          "scene": {
           "xaxis": {
            "backgroundcolor": "white",
            "gridcolor": "rgb(232,232,232)",
            "gridwidth": 2,
            "linecolor": "rgb(36,36,36)",
            "showbackground": true,
            "showgrid": false,
            "showline": true,
            "ticks": "outside",
            "zeroline": false,
            "zerolinecolor": "rgb(36,36,36)"
           },
           "yaxis": {
            "backgroundcolor": "white",
            "gridcolor": "rgb(232,232,232)",
            "gridwidth": 2,
            "linecolor": "rgb(36,36,36)",
            "showbackground": true,
            "showgrid": false,
            "showline": true,
            "ticks": "outside",
            "zeroline": false,
            "zerolinecolor": "rgb(36,36,36)"
           },
           "zaxis": {
            "backgroundcolor": "white",
            "gridcolor": "rgb(232,232,232)",
            "gridwidth": 2,
            "linecolor": "rgb(36,36,36)",
            "showbackground": true,
            "showgrid": false,
            "showline": true,
            "ticks": "outside",
            "zeroline": false,
            "zerolinecolor": "rgb(36,36,36)"
           }
          },
          "shapedefaults": {
           "fillcolor": "black",
           "line": {
            "width": 0
           },
           "opacity": 0.3
          },
          "ternary": {
           "aaxis": {
            "gridcolor": "rgb(232,232,232)",
            "linecolor": "rgb(36,36,36)",
            "showgrid": false,
            "showline": true,
            "ticks": "outside"
           },
           "baxis": {
            "gridcolor": "rgb(232,232,232)",
            "linecolor": "rgb(36,36,36)",
            "showgrid": false,
            "showline": true,
            "ticks": "outside"
           },
           "bgcolor": "white",
           "caxis": {
            "gridcolor": "rgb(232,232,232)",
            "linecolor": "rgb(36,36,36)",
            "showgrid": false,
            "showline": true,
            "ticks": "outside"
           }
          },
          "title": {
           "x": 0.05
          },
          "xaxis": {
           "automargin": true,
           "gridcolor": "rgb(232,232,232)",
           "linecolor": "rgb(36,36,36)",
           "showgrid": false,
           "showline": true,
           "ticks": "outside",
           "title": {
            "standoff": 15
           },
           "zeroline": false,
           "zerolinecolor": "rgb(36,36,36)"
          },
          "yaxis": {
           "automargin": true,
           "gridcolor": "rgb(232,232,232)",
           "linecolor": "rgb(36,36,36)",
           "showgrid": false,
           "showline": true,
           "ticks": "outside",
           "title": {
            "standoff": 15
           },
           "zeroline": false,
           "zerolinecolor": "rgb(36,36,36)"
          }
         }
        },
        "width": 900,
        "xaxis": {
         "anchor": "y",
         "domain": [
          0.0,
          1.0
         ],
         "title": {
          "text": "station_name"
         }
        },
        "yaxis": {
         "anchor": "x",
         "domain": [
          0.0,
          1.0
         ],
         "tickformat": ".00f",
         "title": {
          "text": "value"
         }
        }
       }
      },
      "text/html": [
       "<div>                            <div id=\"80452c3b-410d-4b46-956c-7ee3ca7a6e4b\" class=\"plotly-graph-div\" style=\"height:500px; width:900px;\"></div>            <script type=\"text/javascript\">                require([\"plotly\"], function(Plotly) {                    window.PLOTLYENV=window.PLOTLYENV || {};                                    if (document.getElementById(\"80452c3b-410d-4b46-956c-7ee3ca7a6e4b\")) {                    Plotly.newPlot(                        \"80452c3b-410d-4b46-956c-7ee3ca7a6e4b\",                        [{\"hovertemplate\":\"variable=observed_boardings\\u003cbr\\u003estation_name=%{x}\\u003cbr\\u003evalue=%{y}\\u003cextra\\u003e\\u003c\\u002fextra\\u003e\",\"legendgroup\":\"observed_boardings\",\"line\":{\"color\":\"#91268F\",\"dash\":\"solid\"},\"marker\":{\"symbol\":\"circle\"},\"mode\":\"lines\",\"name\":\"observed_boardings\",\"orientation\":\"v\",\"showlegend\":true,\"x\":[\"Northgate Station\",\"Roosevelt Station\",\"University District Station\",\"Husky Stadium\",\"Capitol Hill\",\"Westlake\",\"Symphony\",\"Pioneer Square\",\"Int'l District\",\"Stadium\",\"SODO\",\"Beacon Hill\",\"Mount Baker\",\"Columbia City\",\"Othello\",\"Rainier Beach\",\"Tukwila Int'l Blvd\",\"SeaTac\\u002fAirport\",\"Angle Lake\"],\"xaxis\":\"x\",\"y\":[10384.0,4349.0,7563.0,6134.0,7667.0,8845.0,4324.0,2400.0,4399.0,1731.0,1669.0,2147.0,1861.0,1630.0,2030.0,1495.0,2298.0,4731.0,3865.0],\"yaxis\":\"y\",\"type\":\"scatter\"},{\"hovertemplate\":\"variable=model_boardings\\u003cbr\\u003estation_name=%{x}\\u003cbr\\u003evalue=%{y}\\u003cextra\\u003e\\u003c\\u002fextra\\u003e\",\"legendgroup\":\"model_boardings\",\"line\":{\"color\":\"#8CC63E\",\"dash\":\"solid\"},\"marker\":{\"symbol\":\"circle\"},\"mode\":\"lines\",\"name\":\"model_boardings\",\"orientation\":\"v\",\"showlegend\":true,\"x\":[\"Northgate Station\",\"Roosevelt Station\",\"University District Station\",\"Husky Stadium\",\"Capitol Hill\",\"Westlake\",\"Symphony\",\"Pioneer Square\",\"Int'l District\",\"Stadium\",\"SODO\",\"Beacon Hill\",\"Mount Baker\",\"Columbia City\",\"Othello\",\"Rainier Beach\",\"Tukwila Int'l Blvd\",\"SeaTac\\u002fAirport\",\"Angle Lake\"],\"xaxis\":\"x\",\"y\":[6875.47673034668,8211.35608792305,6426.503324508667,3521.7037692070007,7405.991648674011,9513.880066871645,5781.7381067276,5285.319492340088,1842.6858491897583,354.3833352923393,2312.076726436615,1344.9621561169624,1691.1993079185486,1713.5256597995758,2062.065826177597,1647.9556176662445,2963.3052406311035,5982.433862507343,2980.4280700683594],\"yaxis\":\"y\",\"type\":\"scatter\"}],                        {\"template\":{\"data\":{\"barpolar\":[{\"marker\":{\"line\":{\"color\":\"white\",\"width\":0.5},\"pattern\":{\"fillmode\":\"overlay\",\"size\":10,\"solidity\":0.2}},\"type\":\"barpolar\"}],\"bar\":[{\"error_x\":{\"color\":\"rgb(36,36,36)\"},\"error_y\":{\"color\":\"rgb(36,36,36)\"},\"marker\":{\"line\":{\"color\":\"white\",\"width\":0.5},\"pattern\":{\"fillmode\":\"overlay\",\"size\":10,\"solidity\":0.2}},\"type\":\"bar\"}],\"carpet\":[{\"aaxis\":{\"endlinecolor\":\"rgb(36,36,36)\",\"gridcolor\":\"white\",\"linecolor\":\"white\",\"minorgridcolor\":\"white\",\"startlinecolor\":\"rgb(36,36,36)\"},\"baxis\":{\"endlinecolor\":\"rgb(36,36,36)\",\"gridcolor\":\"white\",\"linecolor\":\"white\",\"minorgridcolor\":\"white\",\"startlinecolor\":\"rgb(36,36,36)\"},\"type\":\"carpet\"}],\"choropleth\":[{\"colorbar\":{\"outlinewidth\":1,\"tickcolor\":\"rgb(36,36,36)\",\"ticks\":\"outside\"},\"type\":\"choropleth\"}],\"contourcarpet\":[{\"colorbar\":{\"outlinewidth\":1,\"tickcolor\":\"rgb(36,36,36)\",\"ticks\":\"outside\"},\"type\":\"contourcarpet\"}],\"contour\":[{\"colorbar\":{\"outlinewidth\":1,\"tickcolor\":\"rgb(36,36,36)\",\"ticks\":\"outside\"},\"colorscale\":[[0.0,\"#440154\"],[0.1111111111111111,\"#482878\"],[0.2222222222222222,\"#3e4989\"],[0.3333333333333333,\"#31688e\"],[0.4444444444444444,\"#26828e\"],[0.5555555555555556,\"#1f9e89\"],[0.6666666666666666,\"#35b779\"],[0.7777777777777778,\"#6ece58\"],[0.8888888888888888,\"#b5de2b\"],[1.0,\"#fde725\"]],\"type\":\"contour\"}],\"heatmapgl\":[{\"colorbar\":{\"outlinewidth\":1,\"tickcolor\":\"rgb(36,36,36)\",\"ticks\":\"outside\"},\"colorscale\":[[0.0,\"#440154\"],[0.1111111111111111,\"#482878\"],[0.2222222222222222,\"#3e4989\"],[0.3333333333333333,\"#31688e\"],[0.4444444444444444,\"#26828e\"],[0.5555555555555556,\"#1f9e89\"],[0.6666666666666666,\"#35b779\"],[0.7777777777777778,\"#6ece58\"],[0.8888888888888888,\"#b5de2b\"],[1.0,\"#fde725\"]],\"type\":\"heatmapgl\"}],\"heatmap\":[{\"colorbar\":{\"outlinewidth\":1,\"tickcolor\":\"rgb(36,36,36)\",\"ticks\":\"outside\"},\"colorscale\":[[0.0,\"#440154\"],[0.1111111111111111,\"#482878\"],[0.2222222222222222,\"#3e4989\"],[0.3333333333333333,\"#31688e\"],[0.4444444444444444,\"#26828e\"],[0.5555555555555556,\"#1f9e89\"],[0.6666666666666666,\"#35b779\"],[0.7777777777777778,\"#6ece58\"],[0.8888888888888888,\"#b5de2b\"],[1.0,\"#fde725\"]],\"type\":\"heatmap\"}],\"histogram2dcontour\":[{\"colorbar\":{\"outlinewidth\":1,\"tickcolor\":\"rgb(36,36,36)\",\"ticks\":\"outside\"},\"colorscale\":[[0.0,\"#440154\"],[0.1111111111111111,\"#482878\"],[0.2222222222222222,\"#3e4989\"],[0.3333333333333333,\"#31688e\"],[0.4444444444444444,\"#26828e\"],[0.5555555555555556,\"#1f9e89\"],[0.6666666666666666,\"#35b779\"],[0.7777777777777778,\"#6ece58\"],[0.8888888888888888,\"#b5de2b\"],[1.0,\"#fde725\"]],\"type\":\"histogram2dcontour\"}],\"histogram2d\":[{\"colorbar\":{\"outlinewidth\":1,\"tickcolor\":\"rgb(36,36,36)\",\"ticks\":\"outside\"},\"colorscale\":[[0.0,\"#440154\"],[0.1111111111111111,\"#482878\"],[0.2222222222222222,\"#3e4989\"],[0.3333333333333333,\"#31688e\"],[0.4444444444444444,\"#26828e\"],[0.5555555555555556,\"#1f9e89\"],[0.6666666666666666,\"#35b779\"],[0.7777777777777778,\"#6ece58\"],[0.8888888888888888,\"#b5de2b\"],[1.0,\"#fde725\"]],\"type\":\"histogram2d\"}],\"histogram\":[{\"marker\":{\"line\":{\"color\":\"white\",\"width\":0.6}},\"type\":\"histogram\"}],\"mesh3d\":[{\"colorbar\":{\"outlinewidth\":1,\"tickcolor\":\"rgb(36,36,36)\",\"ticks\":\"outside\"},\"type\":\"mesh3d\"}],\"parcoords\":[{\"line\":{\"colorbar\":{\"outlinewidth\":1,\"tickcolor\":\"rgb(36,36,36)\",\"ticks\":\"outside\"}},\"type\":\"parcoords\"}],\"pie\":[{\"automargin\":true,\"type\":\"pie\"}],\"scatter3d\":[{\"line\":{\"colorbar\":{\"outlinewidth\":1,\"tickcolor\":\"rgb(36,36,36)\",\"ticks\":\"outside\"}},\"marker\":{\"colorbar\":{\"outlinewidth\":1,\"tickcolor\":\"rgb(36,36,36)\",\"ticks\":\"outside\"}},\"type\":\"scatter3d\"}],\"scattercarpet\":[{\"marker\":{\"colorbar\":{\"outlinewidth\":1,\"tickcolor\":\"rgb(36,36,36)\",\"ticks\":\"outside\"}},\"type\":\"scattercarpet\"}],\"scattergeo\":[{\"marker\":{\"colorbar\":{\"outlinewidth\":1,\"tickcolor\":\"rgb(36,36,36)\",\"ticks\":\"outside\"}},\"type\":\"scattergeo\"}],\"scattergl\":[{\"marker\":{\"colorbar\":{\"outlinewidth\":1,\"tickcolor\":\"rgb(36,36,36)\",\"ticks\":\"outside\"}},\"type\":\"scattergl\"}],\"scattermapbox\":[{\"marker\":{\"colorbar\":{\"outlinewidth\":1,\"tickcolor\":\"rgb(36,36,36)\",\"ticks\":\"outside\"}},\"type\":\"scattermapbox\"}],\"scatterpolargl\":[{\"marker\":{\"colorbar\":{\"outlinewidth\":1,\"tickcolor\":\"rgb(36,36,36)\",\"ticks\":\"outside\"}},\"type\":\"scatterpolargl\"}],\"scatterpolar\":[{\"marker\":{\"colorbar\":{\"outlinewidth\":1,\"tickcolor\":\"rgb(36,36,36)\",\"ticks\":\"outside\"}},\"type\":\"scatterpolar\"}],\"scatter\":[{\"fillpattern\":{\"fillmode\":\"overlay\",\"size\":10,\"solidity\":0.2},\"type\":\"scatter\"}],\"scatterternary\":[{\"marker\":{\"colorbar\":{\"outlinewidth\":1,\"tickcolor\":\"rgb(36,36,36)\",\"ticks\":\"outside\"}},\"type\":\"scatterternary\"}],\"surface\":[{\"colorbar\":{\"outlinewidth\":1,\"tickcolor\":\"rgb(36,36,36)\",\"ticks\":\"outside\"},\"colorscale\":[[0.0,\"#440154\"],[0.1111111111111111,\"#482878\"],[0.2222222222222222,\"#3e4989\"],[0.3333333333333333,\"#31688e\"],[0.4444444444444444,\"#26828e\"],[0.5555555555555556,\"#1f9e89\"],[0.6666666666666666,\"#35b779\"],[0.7777777777777778,\"#6ece58\"],[0.8888888888888888,\"#b5de2b\"],[1.0,\"#fde725\"]],\"type\":\"surface\"}],\"table\":[{\"cells\":{\"fill\":{\"color\":\"rgb(237,237,237)\"},\"line\":{\"color\":\"white\"}},\"header\":{\"fill\":{\"color\":\"rgb(217,217,217)\"},\"line\":{\"color\":\"white\"}},\"type\":\"table\"}]},\"layout\":{\"annotationdefaults\":{\"arrowhead\":0,\"arrowwidth\":1},\"autotypenumbers\":\"strict\",\"coloraxis\":{\"colorbar\":{\"outlinewidth\":1,\"tickcolor\":\"rgb(36,36,36)\",\"ticks\":\"outside\"}},\"colorscale\":{\"diverging\":[[0.0,\"rgb(103,0,31)\"],[0.1,\"rgb(178,24,43)\"],[0.2,\"rgb(214,96,77)\"],[0.3,\"rgb(244,165,130)\"],[0.4,\"rgb(253,219,199)\"],[0.5,\"rgb(247,247,247)\"],[0.6,\"rgb(209,229,240)\"],[0.7,\"rgb(146,197,222)\"],[0.8,\"rgb(67,147,195)\"],[0.9,\"rgb(33,102,172)\"],[1.0,\"rgb(5,48,97)\"]],\"sequential\":[[0.0,\"#440154\"],[0.1111111111111111,\"#482878\"],[0.2222222222222222,\"#3e4989\"],[0.3333333333333333,\"#31688e\"],[0.4444444444444444,\"#26828e\"],[0.5555555555555556,\"#1f9e89\"],[0.6666666666666666,\"#35b779\"],[0.7777777777777778,\"#6ece58\"],[0.8888888888888888,\"#b5de2b\"],[1.0,\"#fde725\"]],\"sequentialminus\":[[0.0,\"#440154\"],[0.1111111111111111,\"#482878\"],[0.2222222222222222,\"#3e4989\"],[0.3333333333333333,\"#31688e\"],[0.4444444444444444,\"#26828e\"],[0.5555555555555556,\"#1f9e89\"],[0.6666666666666666,\"#35b779\"],[0.7777777777777778,\"#6ece58\"],[0.8888888888888888,\"#b5de2b\"],[1.0,\"#fde725\"]]},\"colorway\":[\"#91268F\",\"#8CC63E\",\"#00A7A0\",\"#F05A28\",\"#4C4C4C\",\"#630460\",\"#9f3913\",\"#588527\",\"#00716c\",\"#3e4040\"],\"font\":{\"color\":\"rgb(36,36,36)\",\"family\":\"Poppins\",\"size\":11},\"geo\":{\"bgcolor\":\"white\",\"lakecolor\":\"white\",\"landcolor\":\"white\",\"showlakes\":true,\"showland\":true,\"subunitcolor\":\"white\"},\"hoverlabel\":{\"align\":\"left\"},\"hovermode\":\"closest\",\"mapbox\":{\"style\":\"light\"},\"paper_bgcolor\":\"white\",\"plot_bgcolor\":\"white\",\"polar\":{\"angularaxis\":{\"gridcolor\":\"rgb(232,232,232)\",\"linecolor\":\"rgb(36,36,36)\",\"showgrid\":false,\"showline\":true,\"ticks\":\"outside\"},\"bgcolor\":\"white\",\"radialaxis\":{\"gridcolor\":\"rgb(232,232,232)\",\"linecolor\":\"rgb(36,36,36)\",\"showgrid\":false,\"showline\":true,\"ticks\":\"outside\"}},\"scene\":{\"xaxis\":{\"backgroundcolor\":\"white\",\"gridcolor\":\"rgb(232,232,232)\",\"gridwidth\":2,\"linecolor\":\"rgb(36,36,36)\",\"showbackground\":true,\"showgrid\":false,\"showline\":true,\"ticks\":\"outside\",\"zeroline\":false,\"zerolinecolor\":\"rgb(36,36,36)\"},\"yaxis\":{\"backgroundcolor\":\"white\",\"gridcolor\":\"rgb(232,232,232)\",\"gridwidth\":2,\"linecolor\":\"rgb(36,36,36)\",\"showbackground\":true,\"showgrid\":false,\"showline\":true,\"ticks\":\"outside\",\"zeroline\":false,\"zerolinecolor\":\"rgb(36,36,36)\"},\"zaxis\":{\"backgroundcolor\":\"white\",\"gridcolor\":\"rgb(232,232,232)\",\"gridwidth\":2,\"linecolor\":\"rgb(36,36,36)\",\"showbackground\":true,\"showgrid\":false,\"showline\":true,\"ticks\":\"outside\",\"zeroline\":false,\"zerolinecolor\":\"rgb(36,36,36)\"}},\"shapedefaults\":{\"fillcolor\":\"black\",\"line\":{\"width\":0},\"opacity\":0.3},\"ternary\":{\"aaxis\":{\"gridcolor\":\"rgb(232,232,232)\",\"linecolor\":\"rgb(36,36,36)\",\"showgrid\":false,\"showline\":true,\"ticks\":\"outside\"},\"baxis\":{\"gridcolor\":\"rgb(232,232,232)\",\"linecolor\":\"rgb(36,36,36)\",\"showgrid\":false,\"showline\":true,\"ticks\":\"outside\"},\"bgcolor\":\"white\",\"caxis\":{\"gridcolor\":\"rgb(232,232,232)\",\"linecolor\":\"rgb(36,36,36)\",\"showgrid\":false,\"showline\":true,\"ticks\":\"outside\"}},\"title\":{\"x\":0.05},\"xaxis\":{\"automargin\":true,\"gridcolor\":\"rgb(232,232,232)\",\"linecolor\":\"rgb(36,36,36)\",\"showgrid\":false,\"showline\":true,\"ticks\":\"outside\",\"title\":{\"standoff\":15},\"zeroline\":false,\"zerolinecolor\":\"rgb(36,36,36)\"},\"yaxis\":{\"automargin\":true,\"gridcolor\":\"rgb(232,232,232)\",\"linecolor\":\"rgb(36,36,36)\",\"showgrid\":false,\"showline\":true,\"ticks\":\"outside\",\"title\":{\"standoff\":15},\"zeroline\":false,\"zerolinecolor\":\"rgb(36,36,36)\"}}},\"xaxis\":{\"anchor\":\"y\",\"domain\":[0.0,1.0],\"title\":{\"text\":\"station_name\"}},\"yaxis\":{\"anchor\":\"x\",\"domain\":[0.0,1.0],\"title\":{\"text\":\"value\"},\"tickformat\":\".00f\"},\"legend\":{\"title\":{\"text\":\"variable\"},\"tracegroupgap\":0},\"margin\":{\"t\":60},\"font\":{\"size\":11},\"height\":500,\"width\":900},                        {\"responsive\": true}                    ).then(function(){\n",
       "                            \n",
       "var gd = document.getElementById('80452c3b-410d-4b46-956c-7ee3ca7a6e4b');\n",
       "var x = new MutationObserver(function (mutations, observer) {{\n",
       "        var display = window.getComputedStyle(gd).display;\n",
       "        if (!display || display === 'none') {{\n",
       "            console.log([gd, 'removed!']);\n",
       "            Plotly.purge(gd);\n",
       "            observer.disconnect();\n",
       "        }}\n",
       "}});\n",
       "\n",
       "// Listen for the removal of the full notebook cells\n",
       "var notebookContainer = gd.closest('#notebook-container');\n",
       "if (notebookContainer) {{\n",
       "    x.observe(notebookContainer, {childList: true});\n",
       "}}\n",
       "\n",
       "// Listen for the clearing of the current output cell\n",
       "var outputEl = gd.closest('.output');\n",
       "if (outputEl) {{\n",
       "    x.observe(outputEl, {childList: true});\n",
       "}}\n",
       "\n",
       "                        })                };                });            </script>        </div>"
      ]
     },
     "metadata": {},
     "output_type": "display_data"
    }
   ],
   "source": [
    "fig = px.line(line_1_df[['observed_boardings','model_boardings']])\n",
    "fig.update_layout(height=500, width=900, font=dict(size=11),\n",
    "                  yaxis_tickformat = '.00f')\n",
    "fig.show()"
   ]
  },
  {
   "cell_type": "raw",
   "id": "9674332e",
   "metadata": {},
   "source": [
    "#### T-Line"
   ]
  },
  {
   "cell_type": "code",
   "execution_count": 29,
   "id": "9d9d2fcd",
   "metadata": {},
   "outputs": [
    {
     "data": {
      "text/html": [
       "<div>\n",
       "<style scoped>\n",
       "    .dataframe tbody tr th:only-of-type {\n",
       "        vertical-align: middle;\n",
       "    }\n",
       "\n",
       "    .dataframe tbody tr th {\n",
       "        vertical-align: top;\n",
       "    }\n",
       "\n",
       "    .dataframe thead th {\n",
       "        text-align: right;\n",
       "    }\n",
       "</style>\n",
       "<table border=\"1\" class=\"dataframe\">\n",
       "  <thead>\n",
       "    <tr style=\"text-align: right;\">\n",
       "      <th></th>\n",
       "      <th>observed_boardings</th>\n",
       "      <th>model_boardings</th>\n",
       "      <th>diff</th>\n",
       "      <th>percent_diff</th>\n",
       "    </tr>\n",
       "    <tr>\n",
       "      <th>station_name</th>\n",
       "      <th></th>\n",
       "      <th></th>\n",
       "      <th></th>\n",
       "      <th></th>\n",
       "    </tr>\n",
       "  </thead>\n",
       "  <tbody>\n",
       "    <tr>\n",
       "      <th>Tacoma Dome Station</th>\n",
       "      <td>494.00</td>\n",
       "      <td>318.05</td>\n",
       "      <td>-175.95</td>\n",
       "      <td>-35.62%</td>\n",
       "    </tr>\n",
       "    <tr>\n",
       "      <th>S 25th St Station</th>\n",
       "      <td>120.00</td>\n",
       "      <td>375.32</td>\n",
       "      <td>255.32</td>\n",
       "      <td>212.76%</td>\n",
       "    </tr>\n",
       "    <tr>\n",
       "      <th>Union Station</th>\n",
       "      <td>420.00</td>\n",
       "      <td>185.73</td>\n",
       "      <td>-234.27</td>\n",
       "      <td>-55.78%</td>\n",
       "    </tr>\n",
       "    <tr>\n",
       "      <th>Convention Center Station</th>\n",
       "      <td>91.00</td>\n",
       "      <td>512.85</td>\n",
       "      <td>421.85</td>\n",
       "      <td>463.57%</td>\n",
       "    </tr>\n",
       "    <tr>\n",
       "      <th>Commerce Station</th>\n",
       "      <td>294.00</td>\n",
       "      <td>505.39</td>\n",
       "      <td>211.39</td>\n",
       "      <td>71.90%</td>\n",
       "    </tr>\n",
       "  </tbody>\n",
       "</table>\n",
       "</div>"
      ],
      "text/plain": [
       "                           observed_boardings  model_boardings    diff  \\\n",
       "station_name                                                             \n",
       "Tacoma Dome Station                    494.00           318.05 -175.95   \n",
       "S 25th St Station                      120.00           375.32  255.32   \n",
       "Union Station                          420.00           185.73 -234.27   \n",
       "Convention Center Station               91.00           512.85  421.85   \n",
       "Commerce Station                       294.00           505.39  211.39   \n",
       "\n",
       "                          percent_diff  \n",
       "station_name                            \n",
       "Tacoma Dome Station            -35.62%  \n",
       "S 25th St Station              212.76%  \n",
       "Union Station                  -55.78%  \n",
       "Convention Center Station      463.57%  \n",
       "Commerce Station                71.90%  "
      ]
     },
     "execution_count": 29,
     "metadata": {},
     "output_type": "execute_result"
    }
   ],
   "source": [
    "t_line_df = df_table.loc[t_line_station_list]\n",
    "t_line_df"
   ]
  },
  {
   "cell_type": "raw",
   "id": "3dafcff1da10b5e5",
   "metadata": {},
   "source": [
    "#### Sound Transit Station Groupings"
   ]
  },
  {
   "cell_type": "code",
   "execution_count": 30,
   "id": "7456ebeb8efd83d0",
   "metadata": {
    "ExecuteTime": {
     "end_time": "2024-06-24T20:06:06.901270Z",
     "start_time": "2024-06-24T20:06:06.830246Z"
    },
    "execution": {
     "iopub.execute_input": "2024-12-14T02:38:42.922957Z",
     "iopub.status.busy": "2024-12-14T02:38:42.920963Z",
     "iopub.status.idle": "2024-12-14T02:38:42.990343Z",
     "shell.execute_reply": "2024-12-14T02:38:42.988264Z"
    }
   },
   "outputs": [
    {
     "data": {
      "text/html": [
       "<div>\n",
       "<style scoped>\n",
       "    .dataframe tbody tr th:only-of-type {\n",
       "        vertical-align: middle;\n",
       "    }\n",
       "\n",
       "    .dataframe tbody tr th {\n",
       "        vertical-align: top;\n",
       "    }\n",
       "\n",
       "    .dataframe thead th {\n",
       "        text-align: right;\n",
       "    }\n",
       "</style>\n",
       "<table border=\"1\" class=\"dataframe\">\n",
       "  <thead>\n",
       "    <tr style=\"text-align: right;\">\n",
       "      <th></th>\n",
       "      <th>observed_boardings</th>\n",
       "      <th>model_boardings</th>\n",
       "      <th>diff</th>\n",
       "      <th>percent_diff</th>\n",
       "    </tr>\n",
       "    <tr>\n",
       "      <th>station_group</th>\n",
       "      <th></th>\n",
       "      <th></th>\n",
       "      <th></th>\n",
       "      <th></th>\n",
       "    </tr>\n",
       "  </thead>\n",
       "  <tbody>\n",
       "    <tr>\n",
       "      <th>Northgate/Roosevelt</th>\n",
       "      <td>14,733.00</td>\n",
       "      <td>15,086.83</td>\n",
       "      <td>353.83</td>\n",
       "      <td>2.40%</td>\n",
       "    </tr>\n",
       "    <tr>\n",
       "      <th>U District/Husky Stadium</th>\n",
       "      <td>13,697.00</td>\n",
       "      <td>9,948.21</td>\n",
       "      <td>-3,748.79</td>\n",
       "      <td>-27.37%</td>\n",
       "    </tr>\n",
       "    <tr>\n",
       "      <th>Capitol Hill</th>\n",
       "      <td>7,667.00</td>\n",
       "      <td>7,405.99</td>\n",
       "      <td>-261.01</td>\n",
       "      <td>-3.40%</td>\n",
       "    </tr>\n",
       "    <tr>\n",
       "      <th>Westlake/Symphony</th>\n",
       "      <td>13,169.00</td>\n",
       "      <td>15,295.62</td>\n",
       "      <td>2,126.62</td>\n",
       "      <td>16.15%</td>\n",
       "    </tr>\n",
       "    <tr>\n",
       "      <th>Pioneer Square/Int'l District</th>\n",
       "      <td>6,799.00</td>\n",
       "      <td>7,128.01</td>\n",
       "      <td>329.01</td>\n",
       "      <td>4.84%</td>\n",
       "    </tr>\n",
       "    <tr>\n",
       "      <th>Stadium/SODO</th>\n",
       "      <td>3,400.00</td>\n",
       "      <td>2,666.46</td>\n",
       "      <td>-733.54</td>\n",
       "      <td>-21.57%</td>\n",
       "    </tr>\n",
       "    <tr>\n",
       "      <th>Beacon Hill/Mount Baker</th>\n",
       "      <td>4,008.00</td>\n",
       "      <td>3,036.16</td>\n",
       "      <td>-971.84</td>\n",
       "      <td>-24.25%</td>\n",
       "    </tr>\n",
       "    <tr>\n",
       "      <th>Columbia City</th>\n",
       "      <td>1,630.00</td>\n",
       "      <td>1,713.53</td>\n",
       "      <td>83.53</td>\n",
       "      <td>5.12%</td>\n",
       "    </tr>\n",
       "    <tr>\n",
       "      <th>Othello/Rainier Beach</th>\n",
       "      <td>3,525.00</td>\n",
       "      <td>3,710.02</td>\n",
       "      <td>185.02</td>\n",
       "      <td>5.25%</td>\n",
       "    </tr>\n",
       "    <tr>\n",
       "      <th>Tukwila Int'l Blvd</th>\n",
       "      <td>2,298.00</td>\n",
       "      <td>2,963.31</td>\n",
       "      <td>665.31</td>\n",
       "      <td>28.95%</td>\n",
       "    </tr>\n",
       "    <tr>\n",
       "      <th>SeaTac/Airport</th>\n",
       "      <td>4,731.00</td>\n",
       "      <td>5,982.43</td>\n",
       "      <td>1,251.43</td>\n",
       "      <td>26.45%</td>\n",
       "    </tr>\n",
       "    <tr>\n",
       "      <th>Angle Lake</th>\n",
       "      <td>3,865.00</td>\n",
       "      <td>2,980.43</td>\n",
       "      <td>-884.57</td>\n",
       "      <td>-22.89%</td>\n",
       "    </tr>\n",
       "  </tbody>\n",
       "</table>\n",
       "</div>"
      ],
      "text/plain": [
       "                               observed_boardings  model_boardings      diff  \\\n",
       "station_group                                                                  \n",
       "Northgate/Roosevelt                     14,733.00        15,086.83    353.83   \n",
       "U District/Husky Stadium                13,697.00         9,948.21 -3,748.79   \n",
       "Capitol Hill                             7,667.00         7,405.99   -261.01   \n",
       "Westlake/Symphony                       13,169.00        15,295.62  2,126.62   \n",
       "Pioneer Square/Int'l District            6,799.00         7,128.01    329.01   \n",
       "Stadium/SODO                             3,400.00         2,666.46   -733.54   \n",
       "Beacon Hill/Mount Baker                  4,008.00         3,036.16   -971.84   \n",
       "Columbia City                            1,630.00         1,713.53     83.53   \n",
       "Othello/Rainier Beach                    3,525.00         3,710.02    185.02   \n",
       "Tukwila Int'l Blvd                       2,298.00         2,963.31    665.31   \n",
       "SeaTac/Airport                           4,731.00         5,982.43  1,251.43   \n",
       "Angle Lake                               3,865.00         2,980.43   -884.57   \n",
       "\n",
       "                              percent_diff  \n",
       "station_group                               \n",
       "Northgate/Roosevelt                  2.40%  \n",
       "U District/Husky Stadium           -27.37%  \n",
       "Capitol Hill                        -3.40%  \n",
       "Westlake/Symphony                   16.15%  \n",
       "Pioneer Square/Int'l District        4.84%  \n",
       "Stadium/SODO                       -21.57%  \n",
       "Beacon Hill/Mount Baker            -24.25%  \n",
       "Columbia City                        5.12%  \n",
       "Othello/Rainier Beach                5.25%  \n",
       "Tukwila Int'l Blvd                  28.95%  \n",
       "SeaTac/Airport                      26.45%  \n",
       "Angle Lake                         -22.89%  "
      ]
     },
     "execution_count": 30,
     "metadata": {},
     "output_type": "execute_result"
    }
   ],
   "source": [
    "df_combined = df.copy()\n",
    "\n",
    "df_combined['station_group'] = df.index\n",
    "df_combined.loc[['Westlake'],'station_group'] = 'Westlake/Symphony'\n",
    "df_combined.loc[['Symphony'],'station_group'] = 'Westlake/Symphony'\n",
    "\n",
    "df_combined.loc[['Pioneer Square'],'station_group'] = \"Pioneer Square/Int'l District\"\n",
    "df_combined.loc[[\"Int'l District\"],'station_group'] = \"Pioneer Square/Int'l District\"\n",
    "\n",
    "df_combined.loc[['Stadium'],'station_group'] = 'Stadium/SODO'\n",
    "df_combined.loc[['SODO'],'station_group'] = 'Stadium/SODO'\n",
    "\n",
    "df_combined.loc[['Beacon Hill'],'station_group'] = 'Beacon Hill/Mount Baker'\n",
    "df_combined.loc[['Mount Baker'],'station_group'] = 'Beacon Hill/Mount Baker'\n",
    "\n",
    "df_combined.loc[['Othello'],'station_group'] = 'Othello/Rainier Beach'\n",
    "df_combined.loc[['Rainier Beach'],'station_group'] = 'Othello/Rainier Beach'\n",
    "\n",
    "df_combined.loc[['University District Station'],'station_group'] = 'U District/Husky Stadium'\n",
    "df_combined.loc[['Husky Stadium'],'station_group'] = 'U District/Husky Stadium'\n",
    "\n",
    "df_combined.loc[['Northgate Station'],'station_group'] = 'Northgate/Roosevelt'\n",
    "df_combined.loc[['Roosevelt Station'],'station_group'] = 'Northgate/Roosevelt'\n",
    "\n",
    "df_combined = df_combined.groupby('station_group').sum()[['observed_boardings','model_boardings']]\n",
    "df_combined['diff'] = df_combined['model_boardings']-df_combined['observed_boardings']\n",
    "df_combined['percent_diff'] = df_combined['diff']/df_combined['observed_boardings']\n",
    "df_combined[['percent_diff']] = df_combined[['percent_diff']].applymap(format_percent)\n",
    "\n",
    "df_combined = df_combined.loc[['Northgate/Roosevelt','U District/Husky Stadium','Capitol Hill','Westlake/Symphony',\"Pioneer Square/Int'l District\",\n",
    "                             'Stadium/SODO','Beacon Hill/Mount Baker','Columbia City','Othello/Rainier Beach',\n",
    "                             \"Tukwila Int'l Blvd\",'SeaTac/Airport','Angle Lake']]\n",
    "df_combined"
   ]
  },
  {
   "cell_type": "code",
   "execution_count": 31,
   "id": "d06a1922",
   "metadata": {},
   "outputs": [
    {
     "data": {
      "application/vnd.plotly.v1+json": {
       "config": {
        "plotlyServerURL": "https://plot.ly"
       },
       "data": [
        {
         "hovertemplate": "variable=observed_boardings<br>station_group=%{x}<br>value=%{y}<extra></extra>",
         "legendgroup": "observed_boardings",
         "line": {
          "color": "#91268F",
          "dash": "solid"
         },
         "marker": {
          "symbol": "circle"
         },
         "mode": "lines",
         "name": "observed_boardings",
         "orientation": "v",
         "showlegend": true,
         "type": "scatter",
         "x": [
          "Northgate/Roosevelt",
          "U District/Husky Stadium",
          "Capitol Hill",
          "Westlake/Symphony",
          "Pioneer Square/Int'l District",
          "Stadium/SODO",
          "Beacon Hill/Mount Baker",
          "Columbia City",
          "Othello/Rainier Beach",
          "Tukwila Int'l Blvd",
          "SeaTac/Airport",
          "Angle Lake"
         ],
         "xaxis": "x",
         "y": [
          14733.0,
          13697.0,
          7667.0,
          13169.0,
          6799.0,
          3400.0,
          4008.0,
          1630.0,
          3525.0,
          2298.0,
          4731.0,
          3865.0
         ],
         "yaxis": "y"
        },
        {
         "hovertemplate": "variable=model_boardings<br>station_group=%{x}<br>value=%{y}<extra></extra>",
         "legendgroup": "model_boardings",
         "line": {
          "color": "#8CC63E",
          "dash": "solid"
         },
         "marker": {
          "symbol": "circle"
         },
         "mode": "lines",
         "name": "model_boardings",
         "orientation": "v",
         "showlegend": true,
         "type": "scatter",
         "x": [
          "Northgate/Roosevelt",
          "U District/Husky Stadium",
          "Capitol Hill",
          "Westlake/Symphony",
          "Pioneer Square/Int'l District",
          "Stadium/SODO",
          "Beacon Hill/Mount Baker",
          "Columbia City",
          "Othello/Rainier Beach",
          "Tukwila Int'l Blvd",
          "SeaTac/Airport",
          "Angle Lake"
         ],
         "xaxis": "x",
         "y": [
          15086.83281826973,
          9948.207093715668,
          7405.991648674011,
          15295.618173599245,
          7128.005341529846,
          2666.4600617289543,
          3036.161464035511,
          1713.5256597995758,
          3710.0214438438416,
          2963.3052406311035,
          5982.433862507343,
          2980.4280700683594
         ],
         "yaxis": "y"
        }
       ],
       "layout": {
        "font": {
         "size": 11
        },
        "height": 500,
        "legend": {
         "title": {
          "text": "variable"
         },
         "tracegroupgap": 0
        },
        "margin": {
         "t": 60
        },
        "template": {
         "data": {
          "bar": [
           {
            "error_x": {
             "color": "rgb(36,36,36)"
            },
            "error_y": {
             "color": "rgb(36,36,36)"
            },
            "marker": {
             "line": {
              "color": "white",
              "width": 0.5
             },
             "pattern": {
              "fillmode": "overlay",
              "size": 10,
              "solidity": 0.2
             }
            },
            "type": "bar"
           }
          ],
          "barpolar": [
           {
            "marker": {
             "line": {
              "color": "white",
              "width": 0.5
             },
             "pattern": {
              "fillmode": "overlay",
              "size": 10,
              "solidity": 0.2
             }
            },
            "type": "barpolar"
           }
          ],
          "carpet": [
           {
            "aaxis": {
             "endlinecolor": "rgb(36,36,36)",
             "gridcolor": "white",
             "linecolor": "white",
             "minorgridcolor": "white",
             "startlinecolor": "rgb(36,36,36)"
            },
            "baxis": {
             "endlinecolor": "rgb(36,36,36)",
             "gridcolor": "white",
             "linecolor": "white",
             "minorgridcolor": "white",
             "startlinecolor": "rgb(36,36,36)"
            },
            "type": "carpet"
           }
          ],
          "choropleth": [
           {
            "colorbar": {
             "outlinewidth": 1,
             "tickcolor": "rgb(36,36,36)",
             "ticks": "outside"
            },
            "type": "choropleth"
           }
          ],
          "contour": [
           {
            "colorbar": {
             "outlinewidth": 1,
             "tickcolor": "rgb(36,36,36)",
             "ticks": "outside"
            },
            "colorscale": [
             [
              0.0,
              "#440154"
             ],
             [
              0.1111111111111111,
              "#482878"
             ],
             [
              0.2222222222222222,
              "#3e4989"
             ],
             [
              0.3333333333333333,
              "#31688e"
             ],
             [
              0.4444444444444444,
              "#26828e"
             ],
             [
              0.5555555555555556,
              "#1f9e89"
             ],
             [
              0.6666666666666666,
              "#35b779"
             ],
             [
              0.7777777777777778,
              "#6ece58"
             ],
             [
              0.8888888888888888,
              "#b5de2b"
             ],
             [
              1.0,
              "#fde725"
             ]
            ],
            "type": "contour"
           }
          ],
          "contourcarpet": [
           {
            "colorbar": {
             "outlinewidth": 1,
             "tickcolor": "rgb(36,36,36)",
             "ticks": "outside"
            },
            "type": "contourcarpet"
           }
          ],
          "heatmap": [
           {
            "colorbar": {
             "outlinewidth": 1,
             "tickcolor": "rgb(36,36,36)",
             "ticks": "outside"
            },
            "colorscale": [
             [
              0.0,
              "#440154"
             ],
             [
              0.1111111111111111,
              "#482878"
             ],
             [
              0.2222222222222222,
              "#3e4989"
             ],
             [
              0.3333333333333333,
              "#31688e"
             ],
             [
              0.4444444444444444,
              "#26828e"
             ],
             [
              0.5555555555555556,
              "#1f9e89"
             ],
             [
              0.6666666666666666,
              "#35b779"
             ],
             [
              0.7777777777777778,
              "#6ece58"
             ],
             [
              0.8888888888888888,
              "#b5de2b"
             ],
             [
              1.0,
              "#fde725"
             ]
            ],
            "type": "heatmap"
           }
          ],
          "heatmapgl": [
           {
            "colorbar": {
             "outlinewidth": 1,
             "tickcolor": "rgb(36,36,36)",
             "ticks": "outside"
            },
            "colorscale": [
             [
              0.0,
              "#440154"
             ],
             [
              0.1111111111111111,
              "#482878"
             ],
             [
              0.2222222222222222,
              "#3e4989"
             ],
             [
              0.3333333333333333,
              "#31688e"
             ],
             [
              0.4444444444444444,
              "#26828e"
             ],
             [
              0.5555555555555556,
              "#1f9e89"
             ],
             [
              0.6666666666666666,
              "#35b779"
             ],
             [
              0.7777777777777778,
              "#6ece58"
             ],
             [
              0.8888888888888888,
              "#b5de2b"
             ],
             [
              1.0,
              "#fde725"
             ]
            ],
            "type": "heatmapgl"
           }
          ],
          "histogram": [
           {
            "marker": {
             "line": {
              "color": "white",
              "width": 0.6
             }
            },
            "type": "histogram"
           }
          ],
          "histogram2d": [
           {
            "colorbar": {
             "outlinewidth": 1,
             "tickcolor": "rgb(36,36,36)",
             "ticks": "outside"
            },
            "colorscale": [
             [
              0.0,
              "#440154"
             ],
             [
              0.1111111111111111,
              "#482878"
             ],
             [
              0.2222222222222222,
              "#3e4989"
             ],
             [
              0.3333333333333333,
              "#31688e"
             ],
             [
              0.4444444444444444,
              "#26828e"
             ],
             [
              0.5555555555555556,
              "#1f9e89"
             ],
             [
              0.6666666666666666,
              "#35b779"
             ],
             [
              0.7777777777777778,
              "#6ece58"
             ],
             [
              0.8888888888888888,
              "#b5de2b"
             ],
             [
              1.0,
              "#fde725"
             ]
            ],
            "type": "histogram2d"
           }
          ],
          "histogram2dcontour": [
           {
            "colorbar": {
             "outlinewidth": 1,
             "tickcolor": "rgb(36,36,36)",
             "ticks": "outside"
            },
            "colorscale": [
             [
              0.0,
              "#440154"
             ],
             [
              0.1111111111111111,
              "#482878"
             ],
             [
              0.2222222222222222,
              "#3e4989"
             ],
             [
              0.3333333333333333,
              "#31688e"
             ],
             [
              0.4444444444444444,
              "#26828e"
             ],
             [
              0.5555555555555556,
              "#1f9e89"
             ],
             [
              0.6666666666666666,
              "#35b779"
             ],
             [
              0.7777777777777778,
              "#6ece58"
             ],
             [
              0.8888888888888888,
              "#b5de2b"
             ],
             [
              1.0,
              "#fde725"
             ]
            ],
            "type": "histogram2dcontour"
           }
          ],
          "mesh3d": [
           {
            "colorbar": {
             "outlinewidth": 1,
             "tickcolor": "rgb(36,36,36)",
             "ticks": "outside"
            },
            "type": "mesh3d"
           }
          ],
          "parcoords": [
           {
            "line": {
             "colorbar": {
              "outlinewidth": 1,
              "tickcolor": "rgb(36,36,36)",
              "ticks": "outside"
             }
            },
            "type": "parcoords"
           }
          ],
          "pie": [
           {
            "automargin": true,
            "type": "pie"
           }
          ],
          "scatter": [
           {
            "fillpattern": {
             "fillmode": "overlay",
             "size": 10,
             "solidity": 0.2
            },
            "type": "scatter"
           }
          ],
          "scatter3d": [
           {
            "line": {
             "colorbar": {
              "outlinewidth": 1,
              "tickcolor": "rgb(36,36,36)",
              "ticks": "outside"
             }
            },
            "marker": {
             "colorbar": {
              "outlinewidth": 1,
              "tickcolor": "rgb(36,36,36)",
              "ticks": "outside"
             }
            },
            "type": "scatter3d"
           }
          ],
          "scattercarpet": [
           {
            "marker": {
             "colorbar": {
              "outlinewidth": 1,
              "tickcolor": "rgb(36,36,36)",
              "ticks": "outside"
             }
            },
            "type": "scattercarpet"
           }
          ],
          "scattergeo": [
           {
            "marker": {
             "colorbar": {
              "outlinewidth": 1,
              "tickcolor": "rgb(36,36,36)",
              "ticks": "outside"
             }
            },
            "type": "scattergeo"
           }
          ],
          "scattergl": [
           {
            "marker": {
             "colorbar": {
              "outlinewidth": 1,
              "tickcolor": "rgb(36,36,36)",
              "ticks": "outside"
             }
            },
            "type": "scattergl"
           }
          ],
          "scattermapbox": [
           {
            "marker": {
             "colorbar": {
              "outlinewidth": 1,
              "tickcolor": "rgb(36,36,36)",
              "ticks": "outside"
             }
            },
            "type": "scattermapbox"
           }
          ],
          "scatterpolar": [
           {
            "marker": {
             "colorbar": {
              "outlinewidth": 1,
              "tickcolor": "rgb(36,36,36)",
              "ticks": "outside"
             }
            },
            "type": "scatterpolar"
           }
          ],
          "scatterpolargl": [
           {
            "marker": {
             "colorbar": {
              "outlinewidth": 1,
              "tickcolor": "rgb(36,36,36)",
              "ticks": "outside"
             }
            },
            "type": "scatterpolargl"
           }
          ],
          "scatterternary": [
           {
            "marker": {
             "colorbar": {
              "outlinewidth": 1,
              "tickcolor": "rgb(36,36,36)",
              "ticks": "outside"
             }
            },
            "type": "scatterternary"
           }
          ],
          "surface": [
           {
            "colorbar": {
             "outlinewidth": 1,
             "tickcolor": "rgb(36,36,36)",
             "ticks": "outside"
            },
            "colorscale": [
             [
              0.0,
              "#440154"
             ],
             [
              0.1111111111111111,
              "#482878"
             ],
             [
              0.2222222222222222,
              "#3e4989"
             ],
             [
              0.3333333333333333,
              "#31688e"
             ],
             [
              0.4444444444444444,
              "#26828e"
             ],
             [
              0.5555555555555556,
              "#1f9e89"
             ],
             [
              0.6666666666666666,
              "#35b779"
             ],
             [
              0.7777777777777778,
              "#6ece58"
             ],
             [
              0.8888888888888888,
              "#b5de2b"
             ],
             [
              1.0,
              "#fde725"
             ]
            ],
            "type": "surface"
           }
          ],
          "table": [
           {
            "cells": {
             "fill": {
              "color": "rgb(237,237,237)"
             },
             "line": {
              "color": "white"
             }
            },
            "header": {
             "fill": {
              "color": "rgb(217,217,217)"
             },
             "line": {
              "color": "white"
             }
            },
            "type": "table"
           }
          ]
         },
         "layout": {
          "annotationdefaults": {
           "arrowhead": 0,
           "arrowwidth": 1
          },
          "autotypenumbers": "strict",
          "coloraxis": {
           "colorbar": {
            "outlinewidth": 1,
            "tickcolor": "rgb(36,36,36)",
            "ticks": "outside"
           }
          },
          "colorscale": {
           "diverging": [
            [
             0.0,
             "rgb(103,0,31)"
            ],
            [
             0.1,
             "rgb(178,24,43)"
            ],
            [
             0.2,
             "rgb(214,96,77)"
            ],
            [
             0.3,
             "rgb(244,165,130)"
            ],
            [
             0.4,
             "rgb(253,219,199)"
            ],
            [
             0.5,
             "rgb(247,247,247)"
            ],
            [
             0.6,
             "rgb(209,229,240)"
            ],
            [
             0.7,
             "rgb(146,197,222)"
            ],
            [
             0.8,
             "rgb(67,147,195)"
            ],
            [
             0.9,
             "rgb(33,102,172)"
            ],
            [
             1.0,
             "rgb(5,48,97)"
            ]
           ],
           "sequential": [
            [
             0.0,
             "#440154"
            ],
            [
             0.1111111111111111,
             "#482878"
            ],
            [
             0.2222222222222222,
             "#3e4989"
            ],
            [
             0.3333333333333333,
             "#31688e"
            ],
            [
             0.4444444444444444,
             "#26828e"
            ],
            [
             0.5555555555555556,
             "#1f9e89"
            ],
            [
             0.6666666666666666,
             "#35b779"
            ],
            [
             0.7777777777777778,
             "#6ece58"
            ],
            [
             0.8888888888888888,
             "#b5de2b"
            ],
            [
             1.0,
             "#fde725"
            ]
           ],
           "sequentialminus": [
            [
             0.0,
             "#440154"
            ],
            [
             0.1111111111111111,
             "#482878"
            ],
            [
             0.2222222222222222,
             "#3e4989"
            ],
            [
             0.3333333333333333,
             "#31688e"
            ],
            [
             0.4444444444444444,
             "#26828e"
            ],
            [
             0.5555555555555556,
             "#1f9e89"
            ],
            [
             0.6666666666666666,
             "#35b779"
            ],
            [
             0.7777777777777778,
             "#6ece58"
            ],
            [
             0.8888888888888888,
             "#b5de2b"
            ],
            [
             1.0,
             "#fde725"
            ]
           ]
          },
          "colorway": [
           "#91268F",
           "#8CC63E",
           "#00A7A0",
           "#F05A28",
           "#4C4C4C",
           "#630460",
           "#9f3913",
           "#588527",
           "#00716c",
           "#3e4040"
          ],
          "font": {
           "color": "rgb(36,36,36)",
           "family": "Poppins",
           "size": 11
          },
          "geo": {
           "bgcolor": "white",
           "lakecolor": "white",
           "landcolor": "white",
           "showlakes": true,
           "showland": true,
           "subunitcolor": "white"
          },
          "hoverlabel": {
           "align": "left"
          },
          "hovermode": "closest",
          "mapbox": {
           "style": "light"
          },
          "paper_bgcolor": "white",
          "plot_bgcolor": "white",
          "polar": {
           "angularaxis": {
            "gridcolor": "rgb(232,232,232)",
            "linecolor": "rgb(36,36,36)",
            "showgrid": false,
            "showline": true,
            "ticks": "outside"
           },
           "bgcolor": "white",
           "radialaxis": {
            "gridcolor": "rgb(232,232,232)",
            "linecolor": "rgb(36,36,36)",
            "showgrid": false,
            "showline": true,
            "ticks": "outside"
           }
          },
          "scene": {
           "xaxis": {
            "backgroundcolor": "white",
            "gridcolor": "rgb(232,232,232)",
            "gridwidth": 2,
            "linecolor": "rgb(36,36,36)",
            "showbackground": true,
            "showgrid": false,
            "showline": true,
            "ticks": "outside",
            "zeroline": false,
            "zerolinecolor": "rgb(36,36,36)"
           },
           "yaxis": {
            "backgroundcolor": "white",
            "gridcolor": "rgb(232,232,232)",
            "gridwidth": 2,
            "linecolor": "rgb(36,36,36)",
            "showbackground": true,
            "showgrid": false,
            "showline": true,
            "ticks": "outside",
            "zeroline": false,
            "zerolinecolor": "rgb(36,36,36)"
           },
           "zaxis": {
            "backgroundcolor": "white",
            "gridcolor": "rgb(232,232,232)",
            "gridwidth": 2,
            "linecolor": "rgb(36,36,36)",
            "showbackground": true,
            "showgrid": false,
            "showline": true,
            "ticks": "outside",
            "zeroline": false,
            "zerolinecolor": "rgb(36,36,36)"
           }
          },
          "shapedefaults": {
           "fillcolor": "black",
           "line": {
            "width": 0
           },
           "opacity": 0.3
          },
          "ternary": {
           "aaxis": {
            "gridcolor": "rgb(232,232,232)",
            "linecolor": "rgb(36,36,36)",
            "showgrid": false,
            "showline": true,
            "ticks": "outside"
           },
           "baxis": {
            "gridcolor": "rgb(232,232,232)",
            "linecolor": "rgb(36,36,36)",
            "showgrid": false,
            "showline": true,
            "ticks": "outside"
           },
           "bgcolor": "white",
           "caxis": {
            "gridcolor": "rgb(232,232,232)",
            "linecolor": "rgb(36,36,36)",
            "showgrid": false,
            "showline": true,
            "ticks": "outside"
           }
          },
          "title": {
           "x": 0.05
          },
          "xaxis": {
           "automargin": true,
           "gridcolor": "rgb(232,232,232)",
           "linecolor": "rgb(36,36,36)",
           "showgrid": false,
           "showline": true,
           "ticks": "outside",
           "title": {
            "standoff": 15
           },
           "zeroline": false,
           "zerolinecolor": "rgb(36,36,36)"
          },
          "yaxis": {
           "automargin": true,
           "gridcolor": "rgb(232,232,232)",
           "linecolor": "rgb(36,36,36)",
           "showgrid": false,
           "showline": true,
           "ticks": "outside",
           "title": {
            "standoff": 15
           },
           "zeroline": false,
           "zerolinecolor": "rgb(36,36,36)"
          }
         }
        },
        "width": 900,
        "xaxis": {
         "anchor": "y",
         "domain": [
          0.0,
          1.0
         ],
         "title": {
          "text": "station_group"
         }
        },
        "yaxis": {
         "anchor": "x",
         "domain": [
          0.0,
          1.0
         ],
         "tickformat": ".00f",
         "title": {
          "text": "value"
         }
        }
       }
      },
      "text/html": [
       "<div>                            <div id=\"8fe33756-9915-4c50-a1be-3dbfe7a30535\" class=\"plotly-graph-div\" style=\"height:500px; width:900px;\"></div>            <script type=\"text/javascript\">                require([\"plotly\"], function(Plotly) {                    window.PLOTLYENV=window.PLOTLYENV || {};                                    if (document.getElementById(\"8fe33756-9915-4c50-a1be-3dbfe7a30535\")) {                    Plotly.newPlot(                        \"8fe33756-9915-4c50-a1be-3dbfe7a30535\",                        [{\"hovertemplate\":\"variable=observed_boardings\\u003cbr\\u003estation_group=%{x}\\u003cbr\\u003evalue=%{y}\\u003cextra\\u003e\\u003c\\u002fextra\\u003e\",\"legendgroup\":\"observed_boardings\",\"line\":{\"color\":\"#91268F\",\"dash\":\"solid\"},\"marker\":{\"symbol\":\"circle\"},\"mode\":\"lines\",\"name\":\"observed_boardings\",\"orientation\":\"v\",\"showlegend\":true,\"x\":[\"Northgate\\u002fRoosevelt\",\"U District\\u002fHusky Stadium\",\"Capitol Hill\",\"Westlake\\u002fSymphony\",\"Pioneer Square\\u002fInt'l District\",\"Stadium\\u002fSODO\",\"Beacon Hill\\u002fMount Baker\",\"Columbia City\",\"Othello\\u002fRainier Beach\",\"Tukwila Int'l Blvd\",\"SeaTac\\u002fAirport\",\"Angle Lake\"],\"xaxis\":\"x\",\"y\":[14733.0,13697.0,7667.0,13169.0,6799.0,3400.0,4008.0,1630.0,3525.0,2298.0,4731.0,3865.0],\"yaxis\":\"y\",\"type\":\"scatter\"},{\"hovertemplate\":\"variable=model_boardings\\u003cbr\\u003estation_group=%{x}\\u003cbr\\u003evalue=%{y}\\u003cextra\\u003e\\u003c\\u002fextra\\u003e\",\"legendgroup\":\"model_boardings\",\"line\":{\"color\":\"#8CC63E\",\"dash\":\"solid\"},\"marker\":{\"symbol\":\"circle\"},\"mode\":\"lines\",\"name\":\"model_boardings\",\"orientation\":\"v\",\"showlegend\":true,\"x\":[\"Northgate\\u002fRoosevelt\",\"U District\\u002fHusky Stadium\",\"Capitol Hill\",\"Westlake\\u002fSymphony\",\"Pioneer Square\\u002fInt'l District\",\"Stadium\\u002fSODO\",\"Beacon Hill\\u002fMount Baker\",\"Columbia City\",\"Othello\\u002fRainier Beach\",\"Tukwila Int'l Blvd\",\"SeaTac\\u002fAirport\",\"Angle Lake\"],\"xaxis\":\"x\",\"y\":[15086.83281826973,9948.207093715668,7405.991648674011,15295.618173599245,7128.005341529846,2666.4600617289543,3036.161464035511,1713.5256597995758,3710.0214438438416,2963.3052406311035,5982.433862507343,2980.4280700683594],\"yaxis\":\"y\",\"type\":\"scatter\"}],                        {\"template\":{\"data\":{\"barpolar\":[{\"marker\":{\"line\":{\"color\":\"white\",\"width\":0.5},\"pattern\":{\"fillmode\":\"overlay\",\"size\":10,\"solidity\":0.2}},\"type\":\"barpolar\"}],\"bar\":[{\"error_x\":{\"color\":\"rgb(36,36,36)\"},\"error_y\":{\"color\":\"rgb(36,36,36)\"},\"marker\":{\"line\":{\"color\":\"white\",\"width\":0.5},\"pattern\":{\"fillmode\":\"overlay\",\"size\":10,\"solidity\":0.2}},\"type\":\"bar\"}],\"carpet\":[{\"aaxis\":{\"endlinecolor\":\"rgb(36,36,36)\",\"gridcolor\":\"white\",\"linecolor\":\"white\",\"minorgridcolor\":\"white\",\"startlinecolor\":\"rgb(36,36,36)\"},\"baxis\":{\"endlinecolor\":\"rgb(36,36,36)\",\"gridcolor\":\"white\",\"linecolor\":\"white\",\"minorgridcolor\":\"white\",\"startlinecolor\":\"rgb(36,36,36)\"},\"type\":\"carpet\"}],\"choropleth\":[{\"colorbar\":{\"outlinewidth\":1,\"tickcolor\":\"rgb(36,36,36)\",\"ticks\":\"outside\"},\"type\":\"choropleth\"}],\"contourcarpet\":[{\"colorbar\":{\"outlinewidth\":1,\"tickcolor\":\"rgb(36,36,36)\",\"ticks\":\"outside\"},\"type\":\"contourcarpet\"}],\"contour\":[{\"colorbar\":{\"outlinewidth\":1,\"tickcolor\":\"rgb(36,36,36)\",\"ticks\":\"outside\"},\"colorscale\":[[0.0,\"#440154\"],[0.1111111111111111,\"#482878\"],[0.2222222222222222,\"#3e4989\"],[0.3333333333333333,\"#31688e\"],[0.4444444444444444,\"#26828e\"],[0.5555555555555556,\"#1f9e89\"],[0.6666666666666666,\"#35b779\"],[0.7777777777777778,\"#6ece58\"],[0.8888888888888888,\"#b5de2b\"],[1.0,\"#fde725\"]],\"type\":\"contour\"}],\"heatmapgl\":[{\"colorbar\":{\"outlinewidth\":1,\"tickcolor\":\"rgb(36,36,36)\",\"ticks\":\"outside\"},\"colorscale\":[[0.0,\"#440154\"],[0.1111111111111111,\"#482878\"],[0.2222222222222222,\"#3e4989\"],[0.3333333333333333,\"#31688e\"],[0.4444444444444444,\"#26828e\"],[0.5555555555555556,\"#1f9e89\"],[0.6666666666666666,\"#35b779\"],[0.7777777777777778,\"#6ece58\"],[0.8888888888888888,\"#b5de2b\"],[1.0,\"#fde725\"]],\"type\":\"heatmapgl\"}],\"heatmap\":[{\"colorbar\":{\"outlinewidth\":1,\"tickcolor\":\"rgb(36,36,36)\",\"ticks\":\"outside\"},\"colorscale\":[[0.0,\"#440154\"],[0.1111111111111111,\"#482878\"],[0.2222222222222222,\"#3e4989\"],[0.3333333333333333,\"#31688e\"],[0.4444444444444444,\"#26828e\"],[0.5555555555555556,\"#1f9e89\"],[0.6666666666666666,\"#35b779\"],[0.7777777777777778,\"#6ece58\"],[0.8888888888888888,\"#b5de2b\"],[1.0,\"#fde725\"]],\"type\":\"heatmap\"}],\"histogram2dcontour\":[{\"colorbar\":{\"outlinewidth\":1,\"tickcolor\":\"rgb(36,36,36)\",\"ticks\":\"outside\"},\"colorscale\":[[0.0,\"#440154\"],[0.1111111111111111,\"#482878\"],[0.2222222222222222,\"#3e4989\"],[0.3333333333333333,\"#31688e\"],[0.4444444444444444,\"#26828e\"],[0.5555555555555556,\"#1f9e89\"],[0.6666666666666666,\"#35b779\"],[0.7777777777777778,\"#6ece58\"],[0.8888888888888888,\"#b5de2b\"],[1.0,\"#fde725\"]],\"type\":\"histogram2dcontour\"}],\"histogram2d\":[{\"colorbar\":{\"outlinewidth\":1,\"tickcolor\":\"rgb(36,36,36)\",\"ticks\":\"outside\"},\"colorscale\":[[0.0,\"#440154\"],[0.1111111111111111,\"#482878\"],[0.2222222222222222,\"#3e4989\"],[0.3333333333333333,\"#31688e\"],[0.4444444444444444,\"#26828e\"],[0.5555555555555556,\"#1f9e89\"],[0.6666666666666666,\"#35b779\"],[0.7777777777777778,\"#6ece58\"],[0.8888888888888888,\"#b5de2b\"],[1.0,\"#fde725\"]],\"type\":\"histogram2d\"}],\"histogram\":[{\"marker\":{\"line\":{\"color\":\"white\",\"width\":0.6}},\"type\":\"histogram\"}],\"mesh3d\":[{\"colorbar\":{\"outlinewidth\":1,\"tickcolor\":\"rgb(36,36,36)\",\"ticks\":\"outside\"},\"type\":\"mesh3d\"}],\"parcoords\":[{\"line\":{\"colorbar\":{\"outlinewidth\":1,\"tickcolor\":\"rgb(36,36,36)\",\"ticks\":\"outside\"}},\"type\":\"parcoords\"}],\"pie\":[{\"automargin\":true,\"type\":\"pie\"}],\"scatter3d\":[{\"line\":{\"colorbar\":{\"outlinewidth\":1,\"tickcolor\":\"rgb(36,36,36)\",\"ticks\":\"outside\"}},\"marker\":{\"colorbar\":{\"outlinewidth\":1,\"tickcolor\":\"rgb(36,36,36)\",\"ticks\":\"outside\"}},\"type\":\"scatter3d\"}],\"scattercarpet\":[{\"marker\":{\"colorbar\":{\"outlinewidth\":1,\"tickcolor\":\"rgb(36,36,36)\",\"ticks\":\"outside\"}},\"type\":\"scattercarpet\"}],\"scattergeo\":[{\"marker\":{\"colorbar\":{\"outlinewidth\":1,\"tickcolor\":\"rgb(36,36,36)\",\"ticks\":\"outside\"}},\"type\":\"scattergeo\"}],\"scattergl\":[{\"marker\":{\"colorbar\":{\"outlinewidth\":1,\"tickcolor\":\"rgb(36,36,36)\",\"ticks\":\"outside\"}},\"type\":\"scattergl\"}],\"scattermapbox\":[{\"marker\":{\"colorbar\":{\"outlinewidth\":1,\"tickcolor\":\"rgb(36,36,36)\",\"ticks\":\"outside\"}},\"type\":\"scattermapbox\"}],\"scatterpolargl\":[{\"marker\":{\"colorbar\":{\"outlinewidth\":1,\"tickcolor\":\"rgb(36,36,36)\",\"ticks\":\"outside\"}},\"type\":\"scatterpolargl\"}],\"scatterpolar\":[{\"marker\":{\"colorbar\":{\"outlinewidth\":1,\"tickcolor\":\"rgb(36,36,36)\",\"ticks\":\"outside\"}},\"type\":\"scatterpolar\"}],\"scatter\":[{\"fillpattern\":{\"fillmode\":\"overlay\",\"size\":10,\"solidity\":0.2},\"type\":\"scatter\"}],\"scatterternary\":[{\"marker\":{\"colorbar\":{\"outlinewidth\":1,\"tickcolor\":\"rgb(36,36,36)\",\"ticks\":\"outside\"}},\"type\":\"scatterternary\"}],\"surface\":[{\"colorbar\":{\"outlinewidth\":1,\"tickcolor\":\"rgb(36,36,36)\",\"ticks\":\"outside\"},\"colorscale\":[[0.0,\"#440154\"],[0.1111111111111111,\"#482878\"],[0.2222222222222222,\"#3e4989\"],[0.3333333333333333,\"#31688e\"],[0.4444444444444444,\"#26828e\"],[0.5555555555555556,\"#1f9e89\"],[0.6666666666666666,\"#35b779\"],[0.7777777777777778,\"#6ece58\"],[0.8888888888888888,\"#b5de2b\"],[1.0,\"#fde725\"]],\"type\":\"surface\"}],\"table\":[{\"cells\":{\"fill\":{\"color\":\"rgb(237,237,237)\"},\"line\":{\"color\":\"white\"}},\"header\":{\"fill\":{\"color\":\"rgb(217,217,217)\"},\"line\":{\"color\":\"white\"}},\"type\":\"table\"}]},\"layout\":{\"annotationdefaults\":{\"arrowhead\":0,\"arrowwidth\":1},\"autotypenumbers\":\"strict\",\"coloraxis\":{\"colorbar\":{\"outlinewidth\":1,\"tickcolor\":\"rgb(36,36,36)\",\"ticks\":\"outside\"}},\"colorscale\":{\"diverging\":[[0.0,\"rgb(103,0,31)\"],[0.1,\"rgb(178,24,43)\"],[0.2,\"rgb(214,96,77)\"],[0.3,\"rgb(244,165,130)\"],[0.4,\"rgb(253,219,199)\"],[0.5,\"rgb(247,247,247)\"],[0.6,\"rgb(209,229,240)\"],[0.7,\"rgb(146,197,222)\"],[0.8,\"rgb(67,147,195)\"],[0.9,\"rgb(33,102,172)\"],[1.0,\"rgb(5,48,97)\"]],\"sequential\":[[0.0,\"#440154\"],[0.1111111111111111,\"#482878\"],[0.2222222222222222,\"#3e4989\"],[0.3333333333333333,\"#31688e\"],[0.4444444444444444,\"#26828e\"],[0.5555555555555556,\"#1f9e89\"],[0.6666666666666666,\"#35b779\"],[0.7777777777777778,\"#6ece58\"],[0.8888888888888888,\"#b5de2b\"],[1.0,\"#fde725\"]],\"sequentialminus\":[[0.0,\"#440154\"],[0.1111111111111111,\"#482878\"],[0.2222222222222222,\"#3e4989\"],[0.3333333333333333,\"#31688e\"],[0.4444444444444444,\"#26828e\"],[0.5555555555555556,\"#1f9e89\"],[0.6666666666666666,\"#35b779\"],[0.7777777777777778,\"#6ece58\"],[0.8888888888888888,\"#b5de2b\"],[1.0,\"#fde725\"]]},\"colorway\":[\"#91268F\",\"#8CC63E\",\"#00A7A0\",\"#F05A28\",\"#4C4C4C\",\"#630460\",\"#9f3913\",\"#588527\",\"#00716c\",\"#3e4040\"],\"font\":{\"color\":\"rgb(36,36,36)\",\"family\":\"Poppins\",\"size\":11},\"geo\":{\"bgcolor\":\"white\",\"lakecolor\":\"white\",\"landcolor\":\"white\",\"showlakes\":true,\"showland\":true,\"subunitcolor\":\"white\"},\"hoverlabel\":{\"align\":\"left\"},\"hovermode\":\"closest\",\"mapbox\":{\"style\":\"light\"},\"paper_bgcolor\":\"white\",\"plot_bgcolor\":\"white\",\"polar\":{\"angularaxis\":{\"gridcolor\":\"rgb(232,232,232)\",\"linecolor\":\"rgb(36,36,36)\",\"showgrid\":false,\"showline\":true,\"ticks\":\"outside\"},\"bgcolor\":\"white\",\"radialaxis\":{\"gridcolor\":\"rgb(232,232,232)\",\"linecolor\":\"rgb(36,36,36)\",\"showgrid\":false,\"showline\":true,\"ticks\":\"outside\"}},\"scene\":{\"xaxis\":{\"backgroundcolor\":\"white\",\"gridcolor\":\"rgb(232,232,232)\",\"gridwidth\":2,\"linecolor\":\"rgb(36,36,36)\",\"showbackground\":true,\"showgrid\":false,\"showline\":true,\"ticks\":\"outside\",\"zeroline\":false,\"zerolinecolor\":\"rgb(36,36,36)\"},\"yaxis\":{\"backgroundcolor\":\"white\",\"gridcolor\":\"rgb(232,232,232)\",\"gridwidth\":2,\"linecolor\":\"rgb(36,36,36)\",\"showbackground\":true,\"showgrid\":false,\"showline\":true,\"ticks\":\"outside\",\"zeroline\":false,\"zerolinecolor\":\"rgb(36,36,36)\"},\"zaxis\":{\"backgroundcolor\":\"white\",\"gridcolor\":\"rgb(232,232,232)\",\"gridwidth\":2,\"linecolor\":\"rgb(36,36,36)\",\"showbackground\":true,\"showgrid\":false,\"showline\":true,\"ticks\":\"outside\",\"zeroline\":false,\"zerolinecolor\":\"rgb(36,36,36)\"}},\"shapedefaults\":{\"fillcolor\":\"black\",\"line\":{\"width\":0},\"opacity\":0.3},\"ternary\":{\"aaxis\":{\"gridcolor\":\"rgb(232,232,232)\",\"linecolor\":\"rgb(36,36,36)\",\"showgrid\":false,\"showline\":true,\"ticks\":\"outside\"},\"baxis\":{\"gridcolor\":\"rgb(232,232,232)\",\"linecolor\":\"rgb(36,36,36)\",\"showgrid\":false,\"showline\":true,\"ticks\":\"outside\"},\"bgcolor\":\"white\",\"caxis\":{\"gridcolor\":\"rgb(232,232,232)\",\"linecolor\":\"rgb(36,36,36)\",\"showgrid\":false,\"showline\":true,\"ticks\":\"outside\"}},\"title\":{\"x\":0.05},\"xaxis\":{\"automargin\":true,\"gridcolor\":\"rgb(232,232,232)\",\"linecolor\":\"rgb(36,36,36)\",\"showgrid\":false,\"showline\":true,\"ticks\":\"outside\",\"title\":{\"standoff\":15},\"zeroline\":false,\"zerolinecolor\":\"rgb(36,36,36)\"},\"yaxis\":{\"automargin\":true,\"gridcolor\":\"rgb(232,232,232)\",\"linecolor\":\"rgb(36,36,36)\",\"showgrid\":false,\"showline\":true,\"ticks\":\"outside\",\"title\":{\"standoff\":15},\"zeroline\":false,\"zerolinecolor\":\"rgb(36,36,36)\"}}},\"xaxis\":{\"anchor\":\"y\",\"domain\":[0.0,1.0],\"title\":{\"text\":\"station_group\"}},\"yaxis\":{\"anchor\":\"x\",\"domain\":[0.0,1.0],\"title\":{\"text\":\"value\"},\"tickformat\":\".00f\"},\"legend\":{\"title\":{\"text\":\"variable\"},\"tracegroupgap\":0},\"margin\":{\"t\":60},\"font\":{\"size\":11},\"height\":500,\"width\":900},                        {\"responsive\": true}                    ).then(function(){\n",
       "                            \n",
       "var gd = document.getElementById('8fe33756-9915-4c50-a1be-3dbfe7a30535');\n",
       "var x = new MutationObserver(function (mutations, observer) {{\n",
       "        var display = window.getComputedStyle(gd).display;\n",
       "        if (!display || display === 'none') {{\n",
       "            console.log([gd, 'removed!']);\n",
       "            Plotly.purge(gd);\n",
       "            observer.disconnect();\n",
       "        }}\n",
       "}});\n",
       "\n",
       "// Listen for the removal of the full notebook cells\n",
       "var notebookContainer = gd.closest('#notebook-container');\n",
       "if (notebookContainer) {{\n",
       "    x.observe(notebookContainer, {childList: true});\n",
       "}}\n",
       "\n",
       "// Listen for the clearing of the current output cell\n",
       "var outputEl = gd.closest('.output');\n",
       "if (outputEl) {{\n",
       "    x.observe(outputEl, {childList: true});\n",
       "}}\n",
       "\n",
       "                        })                };                });            </script>        </div>"
      ]
     },
     "metadata": {},
     "output_type": "display_data"
    }
   ],
   "source": [
    "\n",
    "fig = px.line(df_combined[['observed_boardings','model_boardings']])\n",
    "fig.update_layout(height=500, width=900, font=dict(size=11),\n",
    "                  yaxis_tickformat = '.00f')\n",
    "fig.show()"
   ]
  },
  {
   "cell_type": "raw",
   "id": "b23f6eef",
   "metadata": {
    "vscode": {
     "languageId": "raw"
    }
   },
   "source": [
    "#### 2023/2024 Station Boardings"
   ]
  },
  {
   "cell_type": "code",
   "execution_count": 32,
   "id": "5d7293bb",
   "metadata": {},
   "outputs": [],
   "source": [
    "df_obs = pd.read_sql(\n",
    "    \"SELECT * FROM light_rail_station_boardings WHERE year IN (2023, 2024)\",\n",
    "    con=conn,\n",
    ")\n",
    "df_obs.rename(columns={\"boardings\": \"observed_boardings\"}, inplace=True)\n",
    "\n",
    "# df_obs.groupby(['year','station_name']).sum()\n",
    "df_obs = pd.pivot_table(df_obs, values='observed_boardings', columns='year', index='station_name', aggfunc=np.sum)\n",
    "df_obs = df_obs.fillna(0)\n",
    "df_obs\n",
    "\n",
    "df = pd.read_csv(os.path.join(csv_path,'light_rail_boardings.csv'), index_col='station_name', usecols=['station_name','model_boardings'])\n",
    "df = df.merge(df_obs,  left_index=True, right_index=True, how='outer')\n",
    "df = df[df.index != 'Total']\n",
    "df = df[~df['model_boardings'].isnull()]\n",
    "df = df.loc[line_1_station_list]"
   ]
  },
  {
   "cell_type": "code",
   "execution_count": 33,
   "id": "5b8aa02f",
   "metadata": {},
   "outputs": [
    {
     "data": {
      "application/vnd.plotly.v1+json": {
       "config": {
        "plotlyServerURL": "https://plot.ly"
       },
       "data": [
        {
         "hovertemplate": "variable=2023<br>station_name=%{x}<br>value=%{y}<extra></extra>",
         "legendgroup": "2023",
         "line": {
          "color": "#91268F",
          "dash": "solid"
         },
         "marker": {
          "symbol": "circle"
         },
         "mode": "lines",
         "name": "2023",
         "orientation": "v",
         "showlegend": true,
         "type": "scatter",
         "x": [
          "Northgate Station",
          "Roosevelt Station",
          "University District Station",
          "Husky Stadium",
          "Capitol Hill",
          "Westlake",
          "Symphony",
          "Pioneer Square",
          "Int'l District",
          "Stadium",
          "SODO",
          "Beacon Hill",
          "Mount Baker",
          "Columbia City",
          "Othello",
          "Rainier Beach",
          "Tukwila Int'l Blvd",
          "SeaTac/Airport",
          "Angle Lake"
         ],
         "xaxis": "x",
         "y": [
          10384.0,
          4349.0,
          7563.0,
          6134.0,
          7667.0,
          8845.0,
          4324.0,
          2400.0,
          4399.0,
          1731.0,
          1669.0,
          2147.0,
          1861.0,
          1630.0,
          2030.0,
          1495.0,
          2298.0,
          4731.0,
          3865.0
         ],
         "yaxis": "y"
        },
        {
         "hovertemplate": "variable=2024<br>station_name=%{x}<br>value=%{y}<extra></extra>",
         "legendgroup": "2024",
         "line": {
          "color": "#8CC63E",
          "dash": "solid"
         },
         "marker": {
          "symbol": "circle"
         },
         "mode": "lines",
         "name": "2024",
         "orientation": "v",
         "showlegend": true,
         "type": "scatter",
         "x": [
          "Northgate Station",
          "Roosevelt Station",
          "University District Station",
          "Husky Stadium",
          "Capitol Hill",
          "Westlake",
          "Symphony",
          "Pioneer Square",
          "Int'l District",
          "Stadium",
          "SODO",
          "Beacon Hill",
          "Mount Baker",
          "Columbia City",
          "Othello",
          "Rainier Beach",
          "Tukwila Int'l Blvd",
          "SeaTac/Airport",
          "Angle Lake"
         ],
         "xaxis": "x",
         "y": [
          10171.0,
          4380.0,
          7694.0,
          5879.0,
          7977.0,
          9351.0,
          4599.0,
          2672.0,
          4808.0,
          1717.0,
          1656.0,
          2274.0,
          2078.0,
          1942.0,
          2261.0,
          1608.0,
          2567.0,
          5670.0,
          4963.0
         ],
         "yaxis": "y"
        },
        {
         "hovertemplate": "variable=model_boardings<br>station_name=%{x}<br>value=%{y}<extra></extra>",
         "legendgroup": "model_boardings",
         "line": {
          "color": "#00A7A0",
          "dash": "solid"
         },
         "marker": {
          "symbol": "circle"
         },
         "mode": "lines",
         "name": "model_boardings",
         "orientation": "v",
         "showlegend": true,
         "type": "scatter",
         "x": [
          "Northgate Station",
          "Roosevelt Station",
          "University District Station",
          "Husky Stadium",
          "Capitol Hill",
          "Westlake",
          "Symphony",
          "Pioneer Square",
          "Int'l District",
          "Stadium",
          "SODO",
          "Beacon Hill",
          "Mount Baker",
          "Columbia City",
          "Othello",
          "Rainier Beach",
          "Tukwila Int'l Blvd",
          "SeaTac/Airport",
          "Angle Lake"
         ],
         "xaxis": "x",
         "y": [
          6875.47673034668,
          8211.35608792305,
          6426.503324508667,
          3521.7037692070007,
          7405.991648674011,
          9513.880066871645,
          5781.7381067276,
          5285.319492340088,
          1842.6858491897583,
          354.3833352923393,
          2312.076726436615,
          1344.9621561169624,
          1691.1993079185486,
          1713.5256597995758,
          2062.065826177597,
          1647.9556176662445,
          2963.3052406311035,
          5982.433862507343,
          2980.4280700683594
         ],
         "yaxis": "y"
        }
       ],
       "layout": {
        "font": {
         "size": 11
        },
        "height": 500,
        "legend": {
         "title": {
          "text": "variable"
         },
         "tracegroupgap": 0
        },
        "margin": {
         "t": 60
        },
        "template": {
         "data": {
          "bar": [
           {
            "error_x": {
             "color": "rgb(36,36,36)"
            },
            "error_y": {
             "color": "rgb(36,36,36)"
            },
            "marker": {
             "line": {
              "color": "white",
              "width": 0.5
             },
             "pattern": {
              "fillmode": "overlay",
              "size": 10,
              "solidity": 0.2
             }
            },
            "type": "bar"
           }
          ],
          "barpolar": [
           {
            "marker": {
             "line": {
              "color": "white",
              "width": 0.5
             },
             "pattern": {
              "fillmode": "overlay",
              "size": 10,
              "solidity": 0.2
             }
            },
            "type": "barpolar"
           }
          ],
          "carpet": [
           {
            "aaxis": {
             "endlinecolor": "rgb(36,36,36)",
             "gridcolor": "white",
             "linecolor": "white",
             "minorgridcolor": "white",
             "startlinecolor": "rgb(36,36,36)"
            },
            "baxis": {
             "endlinecolor": "rgb(36,36,36)",
             "gridcolor": "white",
             "linecolor": "white",
             "minorgridcolor": "white",
             "startlinecolor": "rgb(36,36,36)"
            },
            "type": "carpet"
           }
          ],
          "choropleth": [
           {
            "colorbar": {
             "outlinewidth": 1,
             "tickcolor": "rgb(36,36,36)",
             "ticks": "outside"
            },
            "type": "choropleth"
           }
          ],
          "contour": [
           {
            "colorbar": {
             "outlinewidth": 1,
             "tickcolor": "rgb(36,36,36)",
             "ticks": "outside"
            },
            "colorscale": [
             [
              0.0,
              "#440154"
             ],
             [
              0.1111111111111111,
              "#482878"
             ],
             [
              0.2222222222222222,
              "#3e4989"
             ],
             [
              0.3333333333333333,
              "#31688e"
             ],
             [
              0.4444444444444444,
              "#26828e"
             ],
             [
              0.5555555555555556,
              "#1f9e89"
             ],
             [
              0.6666666666666666,
              "#35b779"
             ],
             [
              0.7777777777777778,
              "#6ece58"
             ],
             [
              0.8888888888888888,
              "#b5de2b"
             ],
             [
              1.0,
              "#fde725"
             ]
            ],
            "type": "contour"
           }
          ],
          "contourcarpet": [
           {
            "colorbar": {
             "outlinewidth": 1,
             "tickcolor": "rgb(36,36,36)",
             "ticks": "outside"
            },
            "type": "contourcarpet"
           }
          ],
          "heatmap": [
           {
            "colorbar": {
             "outlinewidth": 1,
             "tickcolor": "rgb(36,36,36)",
             "ticks": "outside"
            },
            "colorscale": [
             [
              0.0,
              "#440154"
             ],
             [
              0.1111111111111111,
              "#482878"
             ],
             [
              0.2222222222222222,
              "#3e4989"
             ],
             [
              0.3333333333333333,
              "#31688e"
             ],
             [
              0.4444444444444444,
              "#26828e"
             ],
             [
              0.5555555555555556,
              "#1f9e89"
             ],
             [
              0.6666666666666666,
              "#35b779"
             ],
             [
              0.7777777777777778,
              "#6ece58"
             ],
             [
              0.8888888888888888,
              "#b5de2b"
             ],
             [
              1.0,
              "#fde725"
             ]
            ],
            "type": "heatmap"
           }
          ],
          "heatmapgl": [
           {
            "colorbar": {
             "outlinewidth": 1,
             "tickcolor": "rgb(36,36,36)",
             "ticks": "outside"
            },
            "colorscale": [
             [
              0.0,
              "#440154"
             ],
             [
              0.1111111111111111,
              "#482878"
             ],
             [
              0.2222222222222222,
              "#3e4989"
             ],
             [
              0.3333333333333333,
              "#31688e"
             ],
             [
              0.4444444444444444,
              "#26828e"
             ],
             [
              0.5555555555555556,
              "#1f9e89"
             ],
             [
              0.6666666666666666,
              "#35b779"
             ],
             [
              0.7777777777777778,
              "#6ece58"
             ],
             [
              0.8888888888888888,
              "#b5de2b"
             ],
             [
              1.0,
              "#fde725"
             ]
            ],
            "type": "heatmapgl"
           }
          ],
          "histogram": [
           {
            "marker": {
             "line": {
              "color": "white",
              "width": 0.6
             }
            },
            "type": "histogram"
           }
          ],
          "histogram2d": [
           {
            "colorbar": {
             "outlinewidth": 1,
             "tickcolor": "rgb(36,36,36)",
             "ticks": "outside"
            },
            "colorscale": [
             [
              0.0,
              "#440154"
             ],
             [
              0.1111111111111111,
              "#482878"
             ],
             [
              0.2222222222222222,
              "#3e4989"
             ],
             [
              0.3333333333333333,
              "#31688e"
             ],
             [
              0.4444444444444444,
              "#26828e"
             ],
             [
              0.5555555555555556,
              "#1f9e89"
             ],
             [
              0.6666666666666666,
              "#35b779"
             ],
             [
              0.7777777777777778,
              "#6ece58"
             ],
             [
              0.8888888888888888,
              "#b5de2b"
             ],
             [
              1.0,
              "#fde725"
             ]
            ],
            "type": "histogram2d"
           }
          ],
          "histogram2dcontour": [
           {
            "colorbar": {
             "outlinewidth": 1,
             "tickcolor": "rgb(36,36,36)",
             "ticks": "outside"
            },
            "colorscale": [
             [
              0.0,
              "#440154"
             ],
             [
              0.1111111111111111,
              "#482878"
             ],
             [
              0.2222222222222222,
              "#3e4989"
             ],
             [
              0.3333333333333333,
              "#31688e"
             ],
             [
              0.4444444444444444,
              "#26828e"
             ],
             [
              0.5555555555555556,
              "#1f9e89"
             ],
             [
              0.6666666666666666,
              "#35b779"
             ],
             [
              0.7777777777777778,
              "#6ece58"
             ],
             [
              0.8888888888888888,
              "#b5de2b"
             ],
             [
              1.0,
              "#fde725"
             ]
            ],
            "type": "histogram2dcontour"
           }
          ],
          "mesh3d": [
           {
            "colorbar": {
             "outlinewidth": 1,
             "tickcolor": "rgb(36,36,36)",
             "ticks": "outside"
            },
            "type": "mesh3d"
           }
          ],
          "parcoords": [
           {
            "line": {
             "colorbar": {
              "outlinewidth": 1,
              "tickcolor": "rgb(36,36,36)",
              "ticks": "outside"
             }
            },
            "type": "parcoords"
           }
          ],
          "pie": [
           {
            "automargin": true,
            "type": "pie"
           }
          ],
          "scatter": [
           {
            "fillpattern": {
             "fillmode": "overlay",
             "size": 10,
             "solidity": 0.2
            },
            "type": "scatter"
           }
          ],
          "scatter3d": [
           {
            "line": {
             "colorbar": {
              "outlinewidth": 1,
              "tickcolor": "rgb(36,36,36)",
              "ticks": "outside"
             }
            },
            "marker": {
             "colorbar": {
              "outlinewidth": 1,
              "tickcolor": "rgb(36,36,36)",
              "ticks": "outside"
             }
            },
            "type": "scatter3d"
           }
          ],
          "scattercarpet": [
           {
            "marker": {
             "colorbar": {
              "outlinewidth": 1,
              "tickcolor": "rgb(36,36,36)",
              "ticks": "outside"
             }
            },
            "type": "scattercarpet"
           }
          ],
          "scattergeo": [
           {
            "marker": {
             "colorbar": {
              "outlinewidth": 1,
              "tickcolor": "rgb(36,36,36)",
              "ticks": "outside"
             }
            },
            "type": "scattergeo"
           }
          ],
          "scattergl": [
           {
            "marker": {
             "colorbar": {
              "outlinewidth": 1,
              "tickcolor": "rgb(36,36,36)",
              "ticks": "outside"
             }
            },
            "type": "scattergl"
           }
          ],
          "scattermapbox": [
           {
            "marker": {
             "colorbar": {
              "outlinewidth": 1,
              "tickcolor": "rgb(36,36,36)",
              "ticks": "outside"
             }
            },
            "type": "scattermapbox"
           }
          ],
          "scatterpolar": [
           {
            "marker": {
             "colorbar": {
              "outlinewidth": 1,
              "tickcolor": "rgb(36,36,36)",
              "ticks": "outside"
             }
            },
            "type": "scatterpolar"
           }
          ],
          "scatterpolargl": [
           {
            "marker": {
             "colorbar": {
              "outlinewidth": 1,
              "tickcolor": "rgb(36,36,36)",
              "ticks": "outside"
             }
            },
            "type": "scatterpolargl"
           }
          ],
          "scatterternary": [
           {
            "marker": {
             "colorbar": {
              "outlinewidth": 1,
              "tickcolor": "rgb(36,36,36)",
              "ticks": "outside"
             }
            },
            "type": "scatterternary"
           }
          ],
          "surface": [
           {
            "colorbar": {
             "outlinewidth": 1,
             "tickcolor": "rgb(36,36,36)",
             "ticks": "outside"
            },
            "colorscale": [
             [
              0.0,
              "#440154"
             ],
             [
              0.1111111111111111,
              "#482878"
             ],
             [
              0.2222222222222222,
              "#3e4989"
             ],
             [
              0.3333333333333333,
              "#31688e"
             ],
             [
              0.4444444444444444,
              "#26828e"
             ],
             [
              0.5555555555555556,
              "#1f9e89"
             ],
             [
              0.6666666666666666,
              "#35b779"
             ],
             [
              0.7777777777777778,
              "#6ece58"
             ],
             [
              0.8888888888888888,
              "#b5de2b"
             ],
             [
              1.0,
              "#fde725"
             ]
            ],
            "type": "surface"
           }
          ],
          "table": [
           {
            "cells": {
             "fill": {
              "color": "rgb(237,237,237)"
             },
             "line": {
              "color": "white"
             }
            },
            "header": {
             "fill": {
              "color": "rgb(217,217,217)"
             },
             "line": {
              "color": "white"
             }
            },
            "type": "table"
           }
          ]
         },
         "layout": {
          "annotationdefaults": {
           "arrowhead": 0,
           "arrowwidth": 1
          },
          "autotypenumbers": "strict",
          "coloraxis": {
           "colorbar": {
            "outlinewidth": 1,
            "tickcolor": "rgb(36,36,36)",
            "ticks": "outside"
           }
          },
          "colorscale": {
           "diverging": [
            [
             0.0,
             "rgb(103,0,31)"
            ],
            [
             0.1,
             "rgb(178,24,43)"
            ],
            [
             0.2,
             "rgb(214,96,77)"
            ],
            [
             0.3,
             "rgb(244,165,130)"
            ],
            [
             0.4,
             "rgb(253,219,199)"
            ],
            [
             0.5,
             "rgb(247,247,247)"
            ],
            [
             0.6,
             "rgb(209,229,240)"
            ],
            [
             0.7,
             "rgb(146,197,222)"
            ],
            [
             0.8,
             "rgb(67,147,195)"
            ],
            [
             0.9,
             "rgb(33,102,172)"
            ],
            [
             1.0,
             "rgb(5,48,97)"
            ]
           ],
           "sequential": [
            [
             0.0,
             "#440154"
            ],
            [
             0.1111111111111111,
             "#482878"
            ],
            [
             0.2222222222222222,
             "#3e4989"
            ],
            [
             0.3333333333333333,
             "#31688e"
            ],
            [
             0.4444444444444444,
             "#26828e"
            ],
            [
             0.5555555555555556,
             "#1f9e89"
            ],
            [
             0.6666666666666666,
             "#35b779"
            ],
            [
             0.7777777777777778,
             "#6ece58"
            ],
            [
             0.8888888888888888,
             "#b5de2b"
            ],
            [
             1.0,
             "#fde725"
            ]
           ],
           "sequentialminus": [
            [
             0.0,
             "#440154"
            ],
            [
             0.1111111111111111,
             "#482878"
            ],
            [
             0.2222222222222222,
             "#3e4989"
            ],
            [
             0.3333333333333333,
             "#31688e"
            ],
            [
             0.4444444444444444,
             "#26828e"
            ],
            [
             0.5555555555555556,
             "#1f9e89"
            ],
            [
             0.6666666666666666,
             "#35b779"
            ],
            [
             0.7777777777777778,
             "#6ece58"
            ],
            [
             0.8888888888888888,
             "#b5de2b"
            ],
            [
             1.0,
             "#fde725"
            ]
           ]
          },
          "colorway": [
           "#91268F",
           "#8CC63E",
           "#00A7A0",
           "#F05A28",
           "#4C4C4C",
           "#630460",
           "#9f3913",
           "#588527",
           "#00716c",
           "#3e4040"
          ],
          "font": {
           "color": "rgb(36,36,36)",
           "family": "Poppins",
           "size": 11
          },
          "geo": {
           "bgcolor": "white",
           "lakecolor": "white",
           "landcolor": "white",
           "showlakes": true,
           "showland": true,
           "subunitcolor": "white"
          },
          "hoverlabel": {
           "align": "left"
          },
          "hovermode": "closest",
          "mapbox": {
           "style": "light"
          },
          "paper_bgcolor": "white",
          "plot_bgcolor": "white",
          "polar": {
           "angularaxis": {
            "gridcolor": "rgb(232,232,232)",
            "linecolor": "rgb(36,36,36)",
            "showgrid": false,
            "showline": true,
            "ticks": "outside"
           },
           "bgcolor": "white",
           "radialaxis": {
            "gridcolor": "rgb(232,232,232)",
            "linecolor": "rgb(36,36,36)",
            "showgrid": false,
            "showline": true,
            "ticks": "outside"
           }
          },
          "scene": {
           "xaxis": {
            "backgroundcolor": "white",
            "gridcolor": "rgb(232,232,232)",
            "gridwidth": 2,
            "linecolor": "rgb(36,36,36)",
            "showbackground": true,
            "showgrid": false,
            "showline": true,
            "ticks": "outside",
            "zeroline": false,
            "zerolinecolor": "rgb(36,36,36)"
           },
           "yaxis": {
            "backgroundcolor": "white",
            "gridcolor": "rgb(232,232,232)",
            "gridwidth": 2,
            "linecolor": "rgb(36,36,36)",
            "showbackground": true,
            "showgrid": false,
            "showline": true,
            "ticks": "outside",
            "zeroline": false,
            "zerolinecolor": "rgb(36,36,36)"
           },
           "zaxis": {
            "backgroundcolor": "white",
            "gridcolor": "rgb(232,232,232)",
            "gridwidth": 2,
            "linecolor": "rgb(36,36,36)",
            "showbackground": true,
            "showgrid": false,
            "showline": true,
            "ticks": "outside",
            "zeroline": false,
            "zerolinecolor": "rgb(36,36,36)"
           }
          },
          "shapedefaults": {
           "fillcolor": "black",
           "line": {
            "width": 0
           },
           "opacity": 0.3
          },
          "ternary": {
           "aaxis": {
            "gridcolor": "rgb(232,232,232)",
            "linecolor": "rgb(36,36,36)",
            "showgrid": false,
            "showline": true,
            "ticks": "outside"
           },
           "baxis": {
            "gridcolor": "rgb(232,232,232)",
            "linecolor": "rgb(36,36,36)",
            "showgrid": false,
            "showline": true,
            "ticks": "outside"
           },
           "bgcolor": "white",
           "caxis": {
            "gridcolor": "rgb(232,232,232)",
            "linecolor": "rgb(36,36,36)",
            "showgrid": false,
            "showline": true,
            "ticks": "outside"
           }
          },
          "title": {
           "x": 0.05
          },
          "xaxis": {
           "automargin": true,
           "gridcolor": "rgb(232,232,232)",
           "linecolor": "rgb(36,36,36)",
           "showgrid": false,
           "showline": true,
           "ticks": "outside",
           "title": {
            "standoff": 15
           },
           "zeroline": false,
           "zerolinecolor": "rgb(36,36,36)"
          },
          "yaxis": {
           "automargin": true,
           "gridcolor": "rgb(232,232,232)",
           "linecolor": "rgb(36,36,36)",
           "showgrid": false,
           "showline": true,
           "ticks": "outside",
           "title": {
            "standoff": 15
           },
           "zeroline": false,
           "zerolinecolor": "rgb(36,36,36)"
          }
         }
        },
        "width": 900,
        "xaxis": {
         "anchor": "y",
         "domain": [
          0.0,
          1.0
         ],
         "title": {
          "text": "station_name"
         }
        },
        "yaxis": {
         "anchor": "x",
         "domain": [
          0.0,
          1.0
         ],
         "tickformat": ".00f",
         "title": {
          "text": "value"
         }
        }
       }
      },
      "text/html": [
       "<div>                            <div id=\"2c0d9b86-ee6a-417b-8b03-f0ed2d40ff22\" class=\"plotly-graph-div\" style=\"height:500px; width:900px;\"></div>            <script type=\"text/javascript\">                require([\"plotly\"], function(Plotly) {                    window.PLOTLYENV=window.PLOTLYENV || {};                                    if (document.getElementById(\"2c0d9b86-ee6a-417b-8b03-f0ed2d40ff22\")) {                    Plotly.newPlot(                        \"2c0d9b86-ee6a-417b-8b03-f0ed2d40ff22\",                        [{\"hovertemplate\":\"variable=2023\\u003cbr\\u003estation_name=%{x}\\u003cbr\\u003evalue=%{y}\\u003cextra\\u003e\\u003c\\u002fextra\\u003e\",\"legendgroup\":\"2023\",\"line\":{\"color\":\"#91268F\",\"dash\":\"solid\"},\"marker\":{\"symbol\":\"circle\"},\"mode\":\"lines\",\"name\":\"2023\",\"orientation\":\"v\",\"showlegend\":true,\"x\":[\"Northgate Station\",\"Roosevelt Station\",\"University District Station\",\"Husky Stadium\",\"Capitol Hill\",\"Westlake\",\"Symphony\",\"Pioneer Square\",\"Int'l District\",\"Stadium\",\"SODO\",\"Beacon Hill\",\"Mount Baker\",\"Columbia City\",\"Othello\",\"Rainier Beach\",\"Tukwila Int'l Blvd\",\"SeaTac\\u002fAirport\",\"Angle Lake\"],\"xaxis\":\"x\",\"y\":[10384.0,4349.0,7563.0,6134.0,7667.0,8845.0,4324.0,2400.0,4399.0,1731.0,1669.0,2147.0,1861.0,1630.0,2030.0,1495.0,2298.0,4731.0,3865.0],\"yaxis\":\"y\",\"type\":\"scatter\"},{\"hovertemplate\":\"variable=2024\\u003cbr\\u003estation_name=%{x}\\u003cbr\\u003evalue=%{y}\\u003cextra\\u003e\\u003c\\u002fextra\\u003e\",\"legendgroup\":\"2024\",\"line\":{\"color\":\"#8CC63E\",\"dash\":\"solid\"},\"marker\":{\"symbol\":\"circle\"},\"mode\":\"lines\",\"name\":\"2024\",\"orientation\":\"v\",\"showlegend\":true,\"x\":[\"Northgate Station\",\"Roosevelt Station\",\"University District Station\",\"Husky Stadium\",\"Capitol Hill\",\"Westlake\",\"Symphony\",\"Pioneer Square\",\"Int'l District\",\"Stadium\",\"SODO\",\"Beacon Hill\",\"Mount Baker\",\"Columbia City\",\"Othello\",\"Rainier Beach\",\"Tukwila Int'l Blvd\",\"SeaTac\\u002fAirport\",\"Angle Lake\"],\"xaxis\":\"x\",\"y\":[10171.0,4380.0,7694.0,5879.0,7977.0,9351.0,4599.0,2672.0,4808.0,1717.0,1656.0,2274.0,2078.0,1942.0,2261.0,1608.0,2567.0,5670.0,4963.0],\"yaxis\":\"y\",\"type\":\"scatter\"},{\"hovertemplate\":\"variable=model_boardings\\u003cbr\\u003estation_name=%{x}\\u003cbr\\u003evalue=%{y}\\u003cextra\\u003e\\u003c\\u002fextra\\u003e\",\"legendgroup\":\"model_boardings\",\"line\":{\"color\":\"#00A7A0\",\"dash\":\"solid\"},\"marker\":{\"symbol\":\"circle\"},\"mode\":\"lines\",\"name\":\"model_boardings\",\"orientation\":\"v\",\"showlegend\":true,\"x\":[\"Northgate Station\",\"Roosevelt Station\",\"University District Station\",\"Husky Stadium\",\"Capitol Hill\",\"Westlake\",\"Symphony\",\"Pioneer Square\",\"Int'l District\",\"Stadium\",\"SODO\",\"Beacon Hill\",\"Mount Baker\",\"Columbia City\",\"Othello\",\"Rainier Beach\",\"Tukwila Int'l Blvd\",\"SeaTac\\u002fAirport\",\"Angle Lake\"],\"xaxis\":\"x\",\"y\":[6875.47673034668,8211.35608792305,6426.503324508667,3521.7037692070007,7405.991648674011,9513.880066871645,5781.7381067276,5285.319492340088,1842.6858491897583,354.3833352923393,2312.076726436615,1344.9621561169624,1691.1993079185486,1713.5256597995758,2062.065826177597,1647.9556176662445,2963.3052406311035,5982.433862507343,2980.4280700683594],\"yaxis\":\"y\",\"type\":\"scatter\"}],                        {\"template\":{\"data\":{\"barpolar\":[{\"marker\":{\"line\":{\"color\":\"white\",\"width\":0.5},\"pattern\":{\"fillmode\":\"overlay\",\"size\":10,\"solidity\":0.2}},\"type\":\"barpolar\"}],\"bar\":[{\"error_x\":{\"color\":\"rgb(36,36,36)\"},\"error_y\":{\"color\":\"rgb(36,36,36)\"},\"marker\":{\"line\":{\"color\":\"white\",\"width\":0.5},\"pattern\":{\"fillmode\":\"overlay\",\"size\":10,\"solidity\":0.2}},\"type\":\"bar\"}],\"carpet\":[{\"aaxis\":{\"endlinecolor\":\"rgb(36,36,36)\",\"gridcolor\":\"white\",\"linecolor\":\"white\",\"minorgridcolor\":\"white\",\"startlinecolor\":\"rgb(36,36,36)\"},\"baxis\":{\"endlinecolor\":\"rgb(36,36,36)\",\"gridcolor\":\"white\",\"linecolor\":\"white\",\"minorgridcolor\":\"white\",\"startlinecolor\":\"rgb(36,36,36)\"},\"type\":\"carpet\"}],\"choropleth\":[{\"colorbar\":{\"outlinewidth\":1,\"tickcolor\":\"rgb(36,36,36)\",\"ticks\":\"outside\"},\"type\":\"choropleth\"}],\"contourcarpet\":[{\"colorbar\":{\"outlinewidth\":1,\"tickcolor\":\"rgb(36,36,36)\",\"ticks\":\"outside\"},\"type\":\"contourcarpet\"}],\"contour\":[{\"colorbar\":{\"outlinewidth\":1,\"tickcolor\":\"rgb(36,36,36)\",\"ticks\":\"outside\"},\"colorscale\":[[0.0,\"#440154\"],[0.1111111111111111,\"#482878\"],[0.2222222222222222,\"#3e4989\"],[0.3333333333333333,\"#31688e\"],[0.4444444444444444,\"#26828e\"],[0.5555555555555556,\"#1f9e89\"],[0.6666666666666666,\"#35b779\"],[0.7777777777777778,\"#6ece58\"],[0.8888888888888888,\"#b5de2b\"],[1.0,\"#fde725\"]],\"type\":\"contour\"}],\"heatmapgl\":[{\"colorbar\":{\"outlinewidth\":1,\"tickcolor\":\"rgb(36,36,36)\",\"ticks\":\"outside\"},\"colorscale\":[[0.0,\"#440154\"],[0.1111111111111111,\"#482878\"],[0.2222222222222222,\"#3e4989\"],[0.3333333333333333,\"#31688e\"],[0.4444444444444444,\"#26828e\"],[0.5555555555555556,\"#1f9e89\"],[0.6666666666666666,\"#35b779\"],[0.7777777777777778,\"#6ece58\"],[0.8888888888888888,\"#b5de2b\"],[1.0,\"#fde725\"]],\"type\":\"heatmapgl\"}],\"heatmap\":[{\"colorbar\":{\"outlinewidth\":1,\"tickcolor\":\"rgb(36,36,36)\",\"ticks\":\"outside\"},\"colorscale\":[[0.0,\"#440154\"],[0.1111111111111111,\"#482878\"],[0.2222222222222222,\"#3e4989\"],[0.3333333333333333,\"#31688e\"],[0.4444444444444444,\"#26828e\"],[0.5555555555555556,\"#1f9e89\"],[0.6666666666666666,\"#35b779\"],[0.7777777777777778,\"#6ece58\"],[0.8888888888888888,\"#b5de2b\"],[1.0,\"#fde725\"]],\"type\":\"heatmap\"}],\"histogram2dcontour\":[{\"colorbar\":{\"outlinewidth\":1,\"tickcolor\":\"rgb(36,36,36)\",\"ticks\":\"outside\"},\"colorscale\":[[0.0,\"#440154\"],[0.1111111111111111,\"#482878\"],[0.2222222222222222,\"#3e4989\"],[0.3333333333333333,\"#31688e\"],[0.4444444444444444,\"#26828e\"],[0.5555555555555556,\"#1f9e89\"],[0.6666666666666666,\"#35b779\"],[0.7777777777777778,\"#6ece58\"],[0.8888888888888888,\"#b5de2b\"],[1.0,\"#fde725\"]],\"type\":\"histogram2dcontour\"}],\"histogram2d\":[{\"colorbar\":{\"outlinewidth\":1,\"tickcolor\":\"rgb(36,36,36)\",\"ticks\":\"outside\"},\"colorscale\":[[0.0,\"#440154\"],[0.1111111111111111,\"#482878\"],[0.2222222222222222,\"#3e4989\"],[0.3333333333333333,\"#31688e\"],[0.4444444444444444,\"#26828e\"],[0.5555555555555556,\"#1f9e89\"],[0.6666666666666666,\"#35b779\"],[0.7777777777777778,\"#6ece58\"],[0.8888888888888888,\"#b5de2b\"],[1.0,\"#fde725\"]],\"type\":\"histogram2d\"}],\"histogram\":[{\"marker\":{\"line\":{\"color\":\"white\",\"width\":0.6}},\"type\":\"histogram\"}],\"mesh3d\":[{\"colorbar\":{\"outlinewidth\":1,\"tickcolor\":\"rgb(36,36,36)\",\"ticks\":\"outside\"},\"type\":\"mesh3d\"}],\"parcoords\":[{\"line\":{\"colorbar\":{\"outlinewidth\":1,\"tickcolor\":\"rgb(36,36,36)\",\"ticks\":\"outside\"}},\"type\":\"parcoords\"}],\"pie\":[{\"automargin\":true,\"type\":\"pie\"}],\"scatter3d\":[{\"line\":{\"colorbar\":{\"outlinewidth\":1,\"tickcolor\":\"rgb(36,36,36)\",\"ticks\":\"outside\"}},\"marker\":{\"colorbar\":{\"outlinewidth\":1,\"tickcolor\":\"rgb(36,36,36)\",\"ticks\":\"outside\"}},\"type\":\"scatter3d\"}],\"scattercarpet\":[{\"marker\":{\"colorbar\":{\"outlinewidth\":1,\"tickcolor\":\"rgb(36,36,36)\",\"ticks\":\"outside\"}},\"type\":\"scattercarpet\"}],\"scattergeo\":[{\"marker\":{\"colorbar\":{\"outlinewidth\":1,\"tickcolor\":\"rgb(36,36,36)\",\"ticks\":\"outside\"}},\"type\":\"scattergeo\"}],\"scattergl\":[{\"marker\":{\"colorbar\":{\"outlinewidth\":1,\"tickcolor\":\"rgb(36,36,36)\",\"ticks\":\"outside\"}},\"type\":\"scattergl\"}],\"scattermapbox\":[{\"marker\":{\"colorbar\":{\"outlinewidth\":1,\"tickcolor\":\"rgb(36,36,36)\",\"ticks\":\"outside\"}},\"type\":\"scattermapbox\"}],\"scatterpolargl\":[{\"marker\":{\"colorbar\":{\"outlinewidth\":1,\"tickcolor\":\"rgb(36,36,36)\",\"ticks\":\"outside\"}},\"type\":\"scatterpolargl\"}],\"scatterpolar\":[{\"marker\":{\"colorbar\":{\"outlinewidth\":1,\"tickcolor\":\"rgb(36,36,36)\",\"ticks\":\"outside\"}},\"type\":\"scatterpolar\"}],\"scatter\":[{\"fillpattern\":{\"fillmode\":\"overlay\",\"size\":10,\"solidity\":0.2},\"type\":\"scatter\"}],\"scatterternary\":[{\"marker\":{\"colorbar\":{\"outlinewidth\":1,\"tickcolor\":\"rgb(36,36,36)\",\"ticks\":\"outside\"}},\"type\":\"scatterternary\"}],\"surface\":[{\"colorbar\":{\"outlinewidth\":1,\"tickcolor\":\"rgb(36,36,36)\",\"ticks\":\"outside\"},\"colorscale\":[[0.0,\"#440154\"],[0.1111111111111111,\"#482878\"],[0.2222222222222222,\"#3e4989\"],[0.3333333333333333,\"#31688e\"],[0.4444444444444444,\"#26828e\"],[0.5555555555555556,\"#1f9e89\"],[0.6666666666666666,\"#35b779\"],[0.7777777777777778,\"#6ece58\"],[0.8888888888888888,\"#b5de2b\"],[1.0,\"#fde725\"]],\"type\":\"surface\"}],\"table\":[{\"cells\":{\"fill\":{\"color\":\"rgb(237,237,237)\"},\"line\":{\"color\":\"white\"}},\"header\":{\"fill\":{\"color\":\"rgb(217,217,217)\"},\"line\":{\"color\":\"white\"}},\"type\":\"table\"}]},\"layout\":{\"annotationdefaults\":{\"arrowhead\":0,\"arrowwidth\":1},\"autotypenumbers\":\"strict\",\"coloraxis\":{\"colorbar\":{\"outlinewidth\":1,\"tickcolor\":\"rgb(36,36,36)\",\"ticks\":\"outside\"}},\"colorscale\":{\"diverging\":[[0.0,\"rgb(103,0,31)\"],[0.1,\"rgb(178,24,43)\"],[0.2,\"rgb(214,96,77)\"],[0.3,\"rgb(244,165,130)\"],[0.4,\"rgb(253,219,199)\"],[0.5,\"rgb(247,247,247)\"],[0.6,\"rgb(209,229,240)\"],[0.7,\"rgb(146,197,222)\"],[0.8,\"rgb(67,147,195)\"],[0.9,\"rgb(33,102,172)\"],[1.0,\"rgb(5,48,97)\"]],\"sequential\":[[0.0,\"#440154\"],[0.1111111111111111,\"#482878\"],[0.2222222222222222,\"#3e4989\"],[0.3333333333333333,\"#31688e\"],[0.4444444444444444,\"#26828e\"],[0.5555555555555556,\"#1f9e89\"],[0.6666666666666666,\"#35b779\"],[0.7777777777777778,\"#6ece58\"],[0.8888888888888888,\"#b5de2b\"],[1.0,\"#fde725\"]],\"sequentialminus\":[[0.0,\"#440154\"],[0.1111111111111111,\"#482878\"],[0.2222222222222222,\"#3e4989\"],[0.3333333333333333,\"#31688e\"],[0.4444444444444444,\"#26828e\"],[0.5555555555555556,\"#1f9e89\"],[0.6666666666666666,\"#35b779\"],[0.7777777777777778,\"#6ece58\"],[0.8888888888888888,\"#b5de2b\"],[1.0,\"#fde725\"]]},\"colorway\":[\"#91268F\",\"#8CC63E\",\"#00A7A0\",\"#F05A28\",\"#4C4C4C\",\"#630460\",\"#9f3913\",\"#588527\",\"#00716c\",\"#3e4040\"],\"font\":{\"color\":\"rgb(36,36,36)\",\"family\":\"Poppins\",\"size\":11},\"geo\":{\"bgcolor\":\"white\",\"lakecolor\":\"white\",\"landcolor\":\"white\",\"showlakes\":true,\"showland\":true,\"subunitcolor\":\"white\"},\"hoverlabel\":{\"align\":\"left\"},\"hovermode\":\"closest\",\"mapbox\":{\"style\":\"light\"},\"paper_bgcolor\":\"white\",\"plot_bgcolor\":\"white\",\"polar\":{\"angularaxis\":{\"gridcolor\":\"rgb(232,232,232)\",\"linecolor\":\"rgb(36,36,36)\",\"showgrid\":false,\"showline\":true,\"ticks\":\"outside\"},\"bgcolor\":\"white\",\"radialaxis\":{\"gridcolor\":\"rgb(232,232,232)\",\"linecolor\":\"rgb(36,36,36)\",\"showgrid\":false,\"showline\":true,\"ticks\":\"outside\"}},\"scene\":{\"xaxis\":{\"backgroundcolor\":\"white\",\"gridcolor\":\"rgb(232,232,232)\",\"gridwidth\":2,\"linecolor\":\"rgb(36,36,36)\",\"showbackground\":true,\"showgrid\":false,\"showline\":true,\"ticks\":\"outside\",\"zeroline\":false,\"zerolinecolor\":\"rgb(36,36,36)\"},\"yaxis\":{\"backgroundcolor\":\"white\",\"gridcolor\":\"rgb(232,232,232)\",\"gridwidth\":2,\"linecolor\":\"rgb(36,36,36)\",\"showbackground\":true,\"showgrid\":false,\"showline\":true,\"ticks\":\"outside\",\"zeroline\":false,\"zerolinecolor\":\"rgb(36,36,36)\"},\"zaxis\":{\"backgroundcolor\":\"white\",\"gridcolor\":\"rgb(232,232,232)\",\"gridwidth\":2,\"linecolor\":\"rgb(36,36,36)\",\"showbackground\":true,\"showgrid\":false,\"showline\":true,\"ticks\":\"outside\",\"zeroline\":false,\"zerolinecolor\":\"rgb(36,36,36)\"}},\"shapedefaults\":{\"fillcolor\":\"black\",\"line\":{\"width\":0},\"opacity\":0.3},\"ternary\":{\"aaxis\":{\"gridcolor\":\"rgb(232,232,232)\",\"linecolor\":\"rgb(36,36,36)\",\"showgrid\":false,\"showline\":true,\"ticks\":\"outside\"},\"baxis\":{\"gridcolor\":\"rgb(232,232,232)\",\"linecolor\":\"rgb(36,36,36)\",\"showgrid\":false,\"showline\":true,\"ticks\":\"outside\"},\"bgcolor\":\"white\",\"caxis\":{\"gridcolor\":\"rgb(232,232,232)\",\"linecolor\":\"rgb(36,36,36)\",\"showgrid\":false,\"showline\":true,\"ticks\":\"outside\"}},\"title\":{\"x\":0.05},\"xaxis\":{\"automargin\":true,\"gridcolor\":\"rgb(232,232,232)\",\"linecolor\":\"rgb(36,36,36)\",\"showgrid\":false,\"showline\":true,\"ticks\":\"outside\",\"title\":{\"standoff\":15},\"zeroline\":false,\"zerolinecolor\":\"rgb(36,36,36)\"},\"yaxis\":{\"automargin\":true,\"gridcolor\":\"rgb(232,232,232)\",\"linecolor\":\"rgb(36,36,36)\",\"showgrid\":false,\"showline\":true,\"ticks\":\"outside\",\"title\":{\"standoff\":15},\"zeroline\":false,\"zerolinecolor\":\"rgb(36,36,36)\"}}},\"xaxis\":{\"anchor\":\"y\",\"domain\":[0.0,1.0],\"title\":{\"text\":\"station_name\"}},\"yaxis\":{\"anchor\":\"x\",\"domain\":[0.0,1.0],\"title\":{\"text\":\"value\"},\"tickformat\":\".00f\"},\"legend\":{\"title\":{\"text\":\"variable\"},\"tracegroupgap\":0},\"margin\":{\"t\":60},\"font\":{\"size\":11},\"height\":500,\"width\":900},                        {\"responsive\": true}                    ).then(function(){\n",
       "                            \n",
       "var gd = document.getElementById('2c0d9b86-ee6a-417b-8b03-f0ed2d40ff22');\n",
       "var x = new MutationObserver(function (mutations, observer) {{\n",
       "        var display = window.getComputedStyle(gd).display;\n",
       "        if (!display || display === 'none') {{\n",
       "            console.log([gd, 'removed!']);\n",
       "            Plotly.purge(gd);\n",
       "            observer.disconnect();\n",
       "        }}\n",
       "}});\n",
       "\n",
       "// Listen for the removal of the full notebook cells\n",
       "var notebookContainer = gd.closest('#notebook-container');\n",
       "if (notebookContainer) {{\n",
       "    x.observe(notebookContainer, {childList: true});\n",
       "}}\n",
       "\n",
       "// Listen for the clearing of the current output cell\n",
       "var outputEl = gd.closest('.output');\n",
       "if (outputEl) {{\n",
       "    x.observe(outputEl, {childList: true});\n",
       "}}\n",
       "\n",
       "                        })                };                });            </script>        </div>"
      ]
     },
     "metadata": {},
     "output_type": "display_data"
    }
   ],
   "source": [
    "fig = px.line(df[[2023,2024,'model_boardings']])\n",
    "fig.update_layout(height=500, width=900, font=dict(size=11),\n",
    "                  yaxis_tickformat = '.00f')\n",
    "fig.show()"
   ]
  },
  {
   "cell_type": "raw",
   "id": "f429de2d705b1e22",
   "metadata": {},
   "source": [
    ":::"
   ]
  },
  {
   "cell_type": "markdown",
   "id": "86996e48d6760252",
   "metadata": {},
   "source": [
    "## light rail stop transfers"
   ]
  },
  {
   "cell_type": "code",
   "execution_count": 34,
   "id": "4bd536d185354993",
   "metadata": {
    "ExecuteTime": {
     "end_time": "2024-06-24T20:06:14.325917Z",
     "start_time": "2024-06-24T20:06:14.279144Z"
    },
    "execution": {
     "iopub.execute_input": "2024-12-14T02:38:43.002696Z",
     "iopub.status.busy": "2024-12-14T02:38:43.000701Z",
     "iopub.status.idle": "2024-12-14T02:38:43.053560Z",
     "shell.execute_reply": "2024-12-14T02:38:43.051565Z"
    }
   },
   "outputs": [
    {
     "data": {
      "text/html": [
       "<div>\n",
       "<style scoped>\n",
       "    .dataframe tbody tr th:only-of-type {\n",
       "        vertical-align: middle;\n",
       "    }\n",
       "\n",
       "    .dataframe tbody tr th {\n",
       "        vertical-align: top;\n",
       "    }\n",
       "\n",
       "    .dataframe thead th {\n",
       "        text-align: right;\n",
       "    }\n",
       "</style>\n",
       "<table border=\"1\" class=\"dataframe\">\n",
       "  <thead>\n",
       "    <tr style=\"text-align: right;\">\n",
       "      <th></th>\n",
       "      <th>modeled_transfer_rate</th>\n",
       "      <th>observed_transfer_rate</th>\n",
       "      <th>diff</th>\n",
       "      <th>percent_diff</th>\n",
       "    </tr>\n",
       "    <tr>\n",
       "      <th>station_name</th>\n",
       "      <th></th>\n",
       "      <th></th>\n",
       "      <th></th>\n",
       "      <th></th>\n",
       "    </tr>\n",
       "  </thead>\n",
       "  <tbody>\n",
       "    <tr>\n",
       "      <th>Northgate Station</th>\n",
       "      <td>0.68</td>\n",
       "      <td>-99.00</td>\n",
       "      <td>99.68</td>\n",
       "      <td>-100.69%</td>\n",
       "    </tr>\n",
       "    <tr>\n",
       "      <th>Roosevelt Station</th>\n",
       "      <td>0.42</td>\n",
       "      <td>-99.00</td>\n",
       "      <td>99.42</td>\n",
       "      <td>-100.42%</td>\n",
       "    </tr>\n",
       "    <tr>\n",
       "      <th>University District Station</th>\n",
       "      <td>0.22</td>\n",
       "      <td>-99.00</td>\n",
       "      <td>99.22</td>\n",
       "      <td>-100.22%</td>\n",
       "    </tr>\n",
       "    <tr>\n",
       "      <th>Husky Stadium</th>\n",
       "      <td>0.82</td>\n",
       "      <td>-99.00</td>\n",
       "      <td>99.82</td>\n",
       "      <td>-100.83%</td>\n",
       "    </tr>\n",
       "    <tr>\n",
       "      <th>Capitol Hill</th>\n",
       "      <td>0.06</td>\n",
       "      <td>-99.00</td>\n",
       "      <td>99.06</td>\n",
       "      <td>-100.06%</td>\n",
       "    </tr>\n",
       "    <tr>\n",
       "      <th>Westlake</th>\n",
       "      <td>0.13</td>\n",
       "      <td>0.36</td>\n",
       "      <td>-0.23</td>\n",
       "      <td>-63.87%</td>\n",
       "    </tr>\n",
       "    <tr>\n",
       "      <th>Symphony</th>\n",
       "      <td>0.32</td>\n",
       "      <td>0.20</td>\n",
       "      <td>0.12</td>\n",
       "      <td>58.16%</td>\n",
       "    </tr>\n",
       "    <tr>\n",
       "      <th>Pioneer Square</th>\n",
       "      <td>0.39</td>\n",
       "      <td>0.16</td>\n",
       "      <td>0.23</td>\n",
       "      <td>146.44%</td>\n",
       "    </tr>\n",
       "    <tr>\n",
       "      <th>Int'l District</th>\n",
       "      <td>0.53</td>\n",
       "      <td>0.45</td>\n",
       "      <td>0.08</td>\n",
       "      <td>17.32%</td>\n",
       "    </tr>\n",
       "    <tr>\n",
       "      <th>Stadium</th>\n",
       "      <td>0.36</td>\n",
       "      <td>0.12</td>\n",
       "      <td>0.25</td>\n",
       "      <td>206.50%</td>\n",
       "    </tr>\n",
       "    <tr>\n",
       "      <th>SODO</th>\n",
       "      <td>0.65</td>\n",
       "      <td>0.31</td>\n",
       "      <td>0.34</td>\n",
       "      <td>107.42%</td>\n",
       "    </tr>\n",
       "    <tr>\n",
       "      <th>Beacon Hill</th>\n",
       "      <td>0.32</td>\n",
       "      <td>0.35</td>\n",
       "      <td>-0.04</td>\n",
       "      <td>-10.46%</td>\n",
       "    </tr>\n",
       "    <tr>\n",
       "      <th>Mount Baker</th>\n",
       "      <td>0.42</td>\n",
       "      <td>0.32</td>\n",
       "      <td>0.10</td>\n",
       "      <td>30.01%</td>\n",
       "    </tr>\n",
       "    <tr>\n",
       "      <th>Columbia City</th>\n",
       "      <td>0.01</td>\n",
       "      <td>0.12</td>\n",
       "      <td>-0.11</td>\n",
       "      <td>-90.69%</td>\n",
       "    </tr>\n",
       "    <tr>\n",
       "      <th>Othello</th>\n",
       "      <td>0.04</td>\n",
       "      <td>0.12</td>\n",
       "      <td>-0.08</td>\n",
       "      <td>-63.48%</td>\n",
       "    </tr>\n",
       "    <tr>\n",
       "      <th>Rainier Beach</th>\n",
       "      <td>0.30</td>\n",
       "      <td>0.36</td>\n",
       "      <td>-0.06</td>\n",
       "      <td>-15.85%</td>\n",
       "    </tr>\n",
       "    <tr>\n",
       "      <th>Tukwila Int'l Blvd</th>\n",
       "      <td>0.44</td>\n",
       "      <td>0.26</td>\n",
       "      <td>0.17</td>\n",
       "      <td>66.13%</td>\n",
       "    </tr>\n",
       "    <tr>\n",
       "      <th>SeaTac/Airport</th>\n",
       "      <td>0.13</td>\n",
       "      <td>0.26</td>\n",
       "      <td>-0.14</td>\n",
       "      <td>-51.58%</td>\n",
       "    </tr>\n",
       "    <tr>\n",
       "      <th>Angle Lake</th>\n",
       "      <td>0.24</td>\n",
       "      <td>-99.00</td>\n",
       "      <td>99.24</td>\n",
       "      <td>-100.25%</td>\n",
       "    </tr>\n",
       "  </tbody>\n",
       "</table>\n",
       "</div>"
      ],
      "text/plain": [
       "                             modeled_transfer_rate  observed_transfer_rate  \\\n",
       "station_name                                                                 \n",
       "Northgate Station                             0.68                  -99.00   \n",
       "Roosevelt Station                             0.42                  -99.00   \n",
       "University District Station                   0.22                  -99.00   \n",
       "Husky Stadium                                 0.82                  -99.00   \n",
       "Capitol Hill                                  0.06                  -99.00   \n",
       "Westlake                                      0.13                    0.36   \n",
       "Symphony                                      0.32                    0.20   \n",
       "Pioneer Square                                0.39                    0.16   \n",
       "Int'l District                                0.53                    0.45   \n",
       "Stadium                                       0.36                    0.12   \n",
       "SODO                                          0.65                    0.31   \n",
       "Beacon Hill                                   0.32                    0.35   \n",
       "Mount Baker                                   0.42                    0.32   \n",
       "Columbia City                                 0.01                    0.12   \n",
       "Othello                                       0.04                    0.12   \n",
       "Rainier Beach                                 0.30                    0.36   \n",
       "Tukwila Int'l Blvd                            0.44                    0.26   \n",
       "SeaTac/Airport                                0.13                    0.26   \n",
       "Angle Lake                                    0.24                  -99.00   \n",
       "\n",
       "                             diff percent_diff  \n",
       "station_name                                    \n",
       "Northgate Station           99.68     -100.69%  \n",
       "Roosevelt Station           99.42     -100.42%  \n",
       "University District Station 99.22     -100.22%  \n",
       "Husky Stadium               99.82     -100.83%  \n",
       "Capitol Hill                99.06     -100.06%  \n",
       "Westlake                    -0.23      -63.87%  \n",
       "Symphony                     0.12       58.16%  \n",
       "Pioneer Square               0.23      146.44%  \n",
       "Int'l District               0.08       17.32%  \n",
       "Stadium                      0.25      206.50%  \n",
       "SODO                         0.34      107.42%  \n",
       "Beacon Hill                 -0.04      -10.46%  \n",
       "Mount Baker                  0.10       30.01%  \n",
       "Columbia City               -0.11      -90.69%  \n",
       "Othello                     -0.08      -63.48%  \n",
       "Rainier Beach               -0.06      -15.85%  \n",
       "Tukwila Int'l Blvd           0.17       66.13%  \n",
       "SeaTac/Airport              -0.14      -51.58%  \n",
       "Angle Lake                  99.24     -100.25%  "
      ]
     },
     "execution_count": 34,
     "metadata": {},
     "output_type": "execute_result"
    }
   ],
   "source": [
    "df = pd.read_csv(os.path.join(csv_path,'light_rail_transfers.csv'), index_col='station_name')\n",
    "df[['percent_diff']] = df[['percent_diff']].applymap(format_percent)\n",
    "df.loc[line_1_station_list]"
   ]
  },
  {
   "cell_type": "markdown",
   "id": "fb8646bd",
   "metadata": {},
   "source": [
    "## Park and Ride"
   ]
  },
  {
   "cell_type": "code",
   "execution_count": 35,
   "id": "226280a8",
   "metadata": {},
   "outputs": [],
   "source": [
    "df_trip = pd.read_csv(r'..\\..\\..\\..\\outputs\\daysim\\_trip.tsv', sep='\\t')\n",
    "pnr_boardings = df_trip[(df_trip['otaz'].isin(range(3750,4001))) & (df_trip['mode']==6)]\n",
    "pnr_boardings = pnr_boardings.groupby('otaz').count()[['trexpfac']].reset_index()"
   ]
  },
  {
   "cell_type": "code",
   "execution_count": 36,
   "id": "8fc48cdd",
   "metadata": {},
   "outputs": [],
   "source": [
    "stations = [\n",
    "    {\"id\": 3751, \"name\": \"Tukwila Station (CR)\"},\n",
    "    {\"id\": 3752, \"name\": \"Tacoma Dome Station\"},\n",
    "    {\"id\": 3753, \"name\": \"South Tacoma (CR)\"},\n",
    "    {\"id\": 3754, \"name\": \"Everett Station (CR)\"},\n",
    "    {\"id\": 3755, \"name\": \"Sumner Station (CR)\"},\n",
    "    {\"id\": 3756, \"name\": \"Mukilteo Station\"},\n",
    "    {\"id\": 3757, \"name\": \"Kent Station (CR)\"},\n",
    "    {\"id\": 3758, \"name\": \"Auburn Station (CR)\"},\n",
    "    {\"id\": 3759, \"name\": \"Lakewood (CR)\"},\n",
    "    {\"id\": 3760, \"name\": \"Gateway P&R\"},\n",
    "    {\"id\": 3761, \"name\": \"Puyallup Station (SB)\"},\n",
    "    {\"id\": 3762, \"name\": \"Twin Lakes P&R\"},\n",
    "    {\"id\": 3763, \"name\": \"Crossroads Neighborhood Church\"},\n",
    "    {\"id\": 3764, \"name\": \"Overlake Transit Center\"},\n",
    "    {\"id\": 3765, \"name\": \"Redondo Heights P&R\"},\n",
    "    {\"id\": 3766, \"name\": \"North Gig Harbor/Kimball Drive\"},\n",
    "    {\"id\": 3767, \"name\": \"Duvall P&R\"},\n",
    "    {\"id\": 3768, \"name\": \"Roy 'Y' P&R\"},\n",
    "    {\"id\": 3769, \"name\": \"South Hill (Elim Evangelical)\"},\n",
    "    {\"id\": 3770, \"name\": \"Parkland Transit Center\"},\n",
    "    {\"id\": 3771, \"name\": \"SR-512/I-5 (Lakewood)\"},\n",
    "    {\"id\": 3772, \"name\": \"Center Street P&R\"},\n",
    "    {\"id\": 3773, \"name\": \"Tacoma Mall Transit Center\"},\n",
    "    {\"id\": 3774, \"name\": \"South Tacoma West\"},\n",
    "    {\"id\": 3775, \"name\": \"South Tacoma East - 2\"},\n",
    "    {\"id\": 3776, \"name\": \"Narrows P&R\"},\n",
    "    {\"id\": 3777, \"name\": \"North Purdy/Purdy Crescent\"},\n",
    "    {\"id\": 3778, \"name\": \"Point Defiance Ferry\"},\n",
    "    {\"id\": 3779, \"name\": \"South Federal P&R\"},\n",
    "    {\"id\": 3780, \"name\": \"Sultan P&R\"},\n",
    "    {\"id\": 3781, \"name\": \"Federal Way P&R (320th)\"},\n",
    "    {\"id\": 3782, \"name\": \"Auburn P&R\"},\n",
    "    {\"id\": 3783, \"name\": \"Star Lake P&R\"},\n",
    "    {\"id\": 3784, \"name\": \"Holy Spirit Lutheran Church\"},\n",
    "    {\"id\": 3785, \"name\": \"Kent/Des Moines P&R\"},\n",
    "    {\"id\": 3786, \"name\": \"Kent/James St. P&R\"},\n",
    "    {\"id\": 3787, \"name\": \"Burien Transit Center\"},\n",
    "    {\"id\": 3788, \"name\": \"Tukwila\"},\n",
    "    {\"id\": 3789, \"name\": \"Maple Valley P&R\"},\n",
    "    {\"id\": 3790, \"name\": \"South Renton P&R\"},\n",
    "    {\"id\": 3791, \"name\": \"Renton Highlands P&R (St. Matts)\"},\n",
    "    {\"id\": 3792, \"name\": \"Issaquah Transit Center\"},\n",
    "    {\"id\": 3793, \"name\": \"Mercer Island P&R\"},\n",
    "    {\"id\": 3794, \"name\": \"Mercer Island Presbyterian\"},\n",
    "    {\"id\": 3795, \"name\": \"Newport Hills P&R\"},\n",
    "    {\"id\": 3796, \"name\": \"Newport Hills Community Church\"},\n",
    "    {\"id\": 3797, \"name\": \"Newport Covenant Church\"},\n",
    "    {\"id\": 3798, \"name\": \"South Bellevue P&R\"},\n",
    "    {\"id\": 3799, \"name\": \"Wilburton\"},\n",
    "    {\"id\": 3800, \"name\": \"Eastgate P&R\"},\n",
    "    {\"id\": 3801, \"name\": \"North Bend P&R\"},\n",
    "    {\"id\": 3802, \"name\": \"Evergreen Point P&R\"},\n",
    "    {\"id\": 3803, \"name\": \"Grace Lutheran Church\"},\n",
    "    {\"id\": 3804, \"name\": \"South Kirkland P&R\"},\n",
    "    {\"id\": 3805, \"name\": \"Overlake P&R\"},\n",
    "    {\"id\": 3806, \"name\": \"Houghton P&R\"},\n",
    "    {\"id\": 3807, \"name\": \"Bethel Lutheran\"},\n",
    "    {\"id\": 3808, \"name\": \"Redmond P&R\"},\n",
    "    {\"id\": 3809, \"name\": \"Saint Thomas Episcopal\"},\n",
    "    {\"id\": 3810, \"name\": \"Valley Center\"},\n",
    "    {\"id\": 3811, \"name\": \"Bear Creek P&R\"},\n",
    "    {\"id\": 3812, \"name\": \"Kingsgate P&R\"},\n",
    "    {\"id\": 3813, \"name\": \"Brickyard P&R\"},\n",
    "    {\"id\": 3814, \"name\": \"Northshore P&R\"},\n",
    "    {\"id\": 3815, \"name\": \"Kenmore P&R\"},\n",
    "    {\"id\": 3816, \"name\": \"Bethany Bible Church\"},\n",
    "    {\"id\": 3817, \"name\": \"Bothell P&R\"},\n",
    "    {\"id\": 3818, \"name\": \"Woodinville P&R\"},\n",
    "    {\"id\": 3819, \"name\": \"Olson & Meyers\"},\n",
    "    {\"id\": 3820, \"name\": \"Spokane Street P&R\"},\n",
    "    {\"id\": 3821, \"name\": \"Greenlake P&R\"},\n",
    "    {\"id\": 3822, \"name\": \"Northgate TC\"},\n",
    "    {\"id\": 3823, \"name\": \"North Jackson Park\"},\n",
    "    {\"id\": 3824, \"name\": \"Shoreline\"},\n",
    "    {\"id\": 3825, \"name\": \"112th St. & I-5\"},\n",
    "    {\"id\": 3826, \"name\": \"Ober Park\"},\n",
    "    {\"id\": 3827, \"name\": \"Vashon Heights\"},\n",
    "    {\"id\": 3828, \"name\": \"Mountlake Terrace P&R\"},\n",
    "    {\"id\": 3829, \"name\": \"Bethesda Lutheran\"},\n",
    "    {\"id\": 3830, \"name\": \"Edmonds Station\"},\n",
    "    {\"id\": 3831, \"name\": \"Edmonds P&R\"},\n",
    "    {\"id\": 3832, \"name\": \"Lynnwood P&R\"},\n",
    "    {\"id\": 3833, \"name\": \"Swamp Creek P&R\"},\n",
    "    {\"id\": 3834, \"name\": \"Mariner P&R\"},\n",
    "    {\"id\": 3835, \"name\": \"Snohomish\"},\n",
    "    {\"id\": 3836, \"name\": \"Marysville - Ash Ave\"},\n",
    "    {\"id\": 3837, \"name\": \"116th & I-5 - Marysville\"},\n",
    "    {\"id\": 3838, \"name\": \"SR-531 - Marysville\"},\n",
    "    {\"id\": 3839, \"name\": \"Arlington P&R\"},\n",
    "    {\"id\": 3840, \"name\": \"Stanwood\"},\n",
    "    {\"id\": 3841, \"name\": \"Monroe\"},\n",
    "    {\"id\": 3842, \"name\": \"Federal Way\"},\n",
    "    {\"id\": 3843, \"name\": \"Port Orchard Armory\"},\n",
    "    {\"id\": 3844, \"name\": \"Southworth Ferry P&R\"},\n",
    "    {\"id\": 3845, \"name\": \"McWilliams P&R\"},\n",
    "    {\"id\": 3846, \"name\": \"Bethany Lutheran Church\"},\n",
    "    {\"id\": 3847, \"name\": \"Gateway Fellowship\"},\n",
    "    {\"id\": 3848, \"name\": \"Agate Pass P&R/Clearwater\"},\n",
    "    {\"id\": 3849, \"name\": \"Kingston Ferry P&R\"},\n",
    "    {\"id\": 3850, \"name\": \"Suquamish United Church of Christ\"},\n",
    "    {\"id\": 3851, \"name\": \"Bainbridge Island Ferry\"},\n",
    "    {\"id\": 3852, \"name\": \"Puyallup Station (NB)\"},\n",
    "    {\"id\": 3853, \"name\": \"72nd Street Transit Center\"},\n",
    "    {\"id\": 3855, \"name\": \"DuPont\"},\n",
    "    {\"id\": 3856, \"name\": \"Aurora Village TC\"},\n",
    "    {\"id\": 3857, \"name\": \"Aurora Nazarene\"},\n",
    "    {\"id\": 3858, \"name\": \"Saint Margaret's Episcopal\"},\n",
    "    {\"id\": 3861, \"name\": \"Lake Meridian P&R\"},\n",
    "    {\"id\": 3862, \"name\": \"Smokey Pt. Church\"},\n",
    "    {\"id\": 3863, \"name\": \"Eastmont P&R\"},\n",
    "    {\"id\": 3864, \"name\": \"McCollum Park P&R\"},\n",
    "    {\"id\": 3865, \"name\": \"Canyon Park P&R\"},\n",
    "    {\"id\": 3866, \"name\": \"Korean Presby. P&R\"},\n",
    "    {\"id\": 3867, \"name\": \"Georges Kountry Korner\"},\n",
    "    {\"id\": 3868, \"name\": \"Poulsbo Church of the Nazarene\"},\n",
    "    {\"id\": 3870, \"name\": \"Harper Evangelical Free Church\"},\n",
    "    {\"id\": 3871, \"name\": \"Mullenix Road\"},\n",
    "    {\"id\": 3873, \"name\": \"TCC P&R\"},\n",
    "    {\"id\": 3874, \"name\": \"Ash Way P&R\"},\n",
    "    {\"id\": 3875, \"name\": \"Bonney Lake P&R\"},\n",
    "    {\"id\": 3876, \"name\": \"Tukwila Int. Station\"},\n",
    "    {\"id\": 3877, \"name\": \"South Hill P&R\"},\n",
    "    {\"id\": 3878, \"name\": \"South Tacoma East - 1\"},\n",
    "    {\"id\": 3879, \"name\": \"Issaquah Highlands\"},\n",
    "    {\"id\": 3880, \"name\": \"Lake Stevens TC\"},\n",
    "    {\"id\": 3881, \"name\": \"Liberty Bay Presbyterian\"},\n",
    "    {\"id\": 3882, \"name\": \"NK Baptist\"},\n",
    "    {\"id\": 3883, \"name\": \"Preston P&R\"},\n",
    "    {\"id\": 3884, \"name\": \"Bayside Community Church\"},\n",
    "    {\"id\": 3885, \"name\": \"Ollala Valley Fire Station\"},\n",
    "    {\"id\": 3886, \"name\": \"Bremerton Ferry\"},\n",
    "    {\"id\": 3888, \"name\": \"Puyallup Fair's Red Lot\"},\n",
    "    {\"id\": 3889, \"name\": \"Marysville - Cedar & Grove\"},\n",
    "    {\"id\": 3890, \"name\": \"Stanwood II\"},\n",
    "    {\"id\": 3891, \"name\": \"Marysville I P&R\"},\n",
    "    {\"id\": 3892, \"name\": \"Martha Lake Covenant Church\"},\n",
    "    {\"id\": 3893, \"name\": \"South Sammammish P&R\"},\n",
    "    {\"id\": 3894, \"name\": \"Renton City Municipal Garage\"},\n",
    "    {\"id\": 3895, \"name\": \"Tibbetts Lot\"},\n",
    "    {\"id\": 3896, \"name\": \"Renton Transit Center\"},\n",
    "    {\"id\": 3897, \"name\": \"Calvary Christian Assembly\"},\n",
    "    {\"id\": 3898, \"name\": \"Maple Valley Town Square\"},\n",
    "    {\"id\": 3899, \"name\": \"All Saints Lutheran Church\"},\n",
    "    {\"id\": 3900, \"name\": \"City View Church\"},\n",
    "    {\"id\": 3901, \"name\": \"Northwest University 6710 Bldg.\"},\n",
    "    {\"id\": 3902, \"name\": \"Sammamish Lutheran P&R\"},\n",
    "    {\"id\": 3903, \"name\": \"Redmond Ridge P&R\"},\n",
    "    {\"id\": 3904, \"name\": \"Kennydale United Methodist Church\"},\n",
    "    {\"id\": 3905, \"name\": \"Nativity Lutheran Church\"},\n",
    "    {\"id\": 3906, \"name\": \"South Jackson P&R\"},\n",
    "    {\"id\": 3907, \"name\": \"South SeaTac (LR)\"},\n",
    "    {\"id\": 3908, \"name\": \"Everett Station\"},\n",
    "    {\"id\": 3909, \"name\": \"Bremerton (SR-303/Riddell Road)\"},\n",
    "    {\"id\": 3910, \"name\": \"Silverdale\"},\n",
    "    {\"id\": 3911, \"name\": \"Tukwila Station (CR)\"},\n",
    "    {\"id\": 3913, \"name\": \"Sumner Station Garage\"},\n",
    "    {\"id\": 3914, \"name\": \"Tacoma Dome\"},\n",
    "    {\"id\": 3915, \"name\": \"Bothell (SR-527/185th Street)\"},\n",
    "    {\"id\": 3916, \"name\": \"SR-3/SR-303\"},\n",
    "    {\"id\": 3917, \"name\": \"SR-16/SR-160\"},\n",
    "    {\"id\": 3918, \"name\": \"I-5 & 175th\"}\n",
    "]"
   ]
  },
  {
   "cell_type": "code",
   "execution_count": 37,
   "id": "adf42b0c",
   "metadata": {},
   "outputs": [],
   "source": [
    "pnr_capacity = pd.read_csv(r'..\\..\\..\\..\\inputs\\scenario\\networks\\p_r_nodes.csv')\n",
    "df = pnr_capacity.merge(pnr_boardings, left_on='ZoneID', right_on='otaz')\n",
    "df.rename(columns={'ZoneID': 'taz', 'trexpfac': 'Model Boardings'}, inplace=True)\n",
    "df['Boardings/Capacity'] = df['Model Boardings']/df['Capacity']\n",
    "# df.head()"
   ]
  },
  {
   "cell_type": "code",
   "execution_count": 38,
   "id": "a4fb4af0",
   "metadata": {},
   "outputs": [],
   "source": [
    "df_station_names = pd.DataFrame(stations)\n",
    "df = df.merge(df_station_names, how='left', left_on='taz', right_on='id')"
   ]
  },
  {
   "cell_type": "code",
   "execution_count": 39,
   "id": "7f7b1396",
   "metadata": {},
   "outputs": [
    {
     "data": {
      "application/vnd.plotly.v1+json": {
       "config": {
        "plotlyServerURL": "https://plot.ly"
       },
       "data": [
        {
         "customdata": [
          [
           "Tukwila Station (CR)",
           0.3076923076923077
          ],
          [
           "Tacoma Dome Station",
           0.12395970214629873
          ],
          [
           "Everett Station (CR)",
           0.07216494845360824
          ],
          [
           "Sumner Station (CR)",
           0.8178807947019867
          ],
          [
           "Mukilteo Station",
           0.015873015873015872
          ],
          [
           "Kent Station (CR)",
           0.49096385542168675
          ],
          [
           "Auburn Station (CR)",
           0.9135220125786163
          ],
          [
           "Lakewood (CR)",
           0.01
          ],
          [
           "Gateway P&R",
           0.18269230769230768
          ],
          [
           "Puyallup Station (SB)",
           0.24521072796934865
          ],
          [
           "Twin Lakes P&R",
           0.005
          ],
          [
           "Crossroads Neighborhood Church",
           0.056074766355140186
          ],
          [
           "Overlake Transit Center",
           0.37770897832817335
          ],
          [
           "North Gig Harbor/Kimball Drive",
           0.029411764705882353
          ],
          [
           "Duvall P&R",
           0.02040816326530612
          ],
          [
           "Roy 'Y' P&R",
           0.01
          ],
          [
           "South Hill (Elim Evangelical)",
           0.95
          ],
          [
           "Parkland Transit Center",
           0.0967741935483871
          ],
          [
           "SR-512/I-5 (Lakewood)",
           0.028397565922920892
          ],
          [
           "Center Street P&R",
           0.2
          ],
          [
           "Tacoma Mall Transit Center",
           0.12666666666666668
          ],
          [
           "South Tacoma West",
           0.07692307692307693
          ],
          [
           "South Tacoma East - 2",
           0.022727272727272728
          ],
          [
           "Point Defiance Ferry",
           0.0379746835443038
          ],
          [
           "South Federal P&R",
           0.02330097087378641
          ],
          [
           "Sultan P&R",
           0.015625
          ],
          [
           "Federal Way P&R (320th)",
           0.09122006841505131
          ],
          [
           "Auburn P&R",
           0.013966480446927373
          ],
          [
           "Holy Spirit Lutheran Church",
           0.35
          ],
          [
           "Kent/Des Moines P&R",
           0.024752475247524754
          ],
          [
           "Kent/James St. P&R",
           0.12342215988779803
          ],
          [
           "Burien Transit Center",
           0.03278688524590164
          ],
          [
           "Tukwila",
           0.07116104868913857
          ],
          [
           "South Renton P&R",
           0.08311688311688312
          ],
          [
           "Renton Highlands P&R (St. Matts)",
           0.015625
          ],
          [
           "Issaquah Transit Center",
           0.075
          ],
          [
           "Mercer Island P&R",
           0.4809843400447427
          ],
          [
           "Mercer Island Presbyterian",
           0.8666666666666667
          ],
          [
           "Newport Hills P&R",
           0.02181818181818182
          ],
          [
           "Newport Covenant Church",
           0.013333333333333334
          ],
          [
           "South Bellevue P&R",
           0.028
          ],
          [
           "Wilburton",
           0.10215053763440861
          ],
          [
           "Eastgate P&R",
           0.024163568773234202
          ],
          [
           "North Bend P&R",
           0.1
          ],
          [
           "Evergreen Point P&R",
           0.29411764705882354
          ],
          [
           "Grace Lutheran Church",
           0.7
          ],
          [
           "South Kirkland P&R",
           0.024203821656050957
          ],
          [
           "Overlake P&R",
           0.2512315270935961
          ],
          [
           "Houghton P&R",
           0.00851063829787234
          ],
          [
           "Bethel Lutheran",
           0.05
          ],
          [
           "Redmond P&R",
           0.28
          ],
          [
           "Saint Thomas Episcopal",
           0.5833333333333334
          ],
          [
           "Valley Center",
           0.07272727272727272
          ],
          [
           "Bear Creek P&R",
           0.0748502994011976
          ],
          [
           "Kingsgate P&R",
           0.09760956175298804
          ],
          [
           "Brickyard P&R",
           0.012396694214876033
          ],
          [
           "Northshore P&R",
           0.10904255319148937
          ],
          [
           "Kenmore P&R",
           0.13764510779436154
          ],
          [
           "Bothell P&R",
           0.5590909090909091
          ],
          [
           "Woodinville P&R",
           0.0196078431372549
          ],
          [
           "Olson & Meyers",
           0.24
          ],
          [
           "Greenlake P&R",
           0.559610705596107
          ],
          [
           "Northgate TC",
           0.5934903047091413
          ],
          [
           "North Jackson Park",
           0.32
          ],
          [
           "Shoreline",
           0.07888040712468193
          ],
          [
           "112th St. & I-5",
           0.02756892230576441
          ],
          [
           "Ober Park",
           0.16666666666666666
          ],
          [
           "Vashon Heights",
           0.16521739130434782
          ],
          [
           "Mountlake Terrace P&R",
           0.04462242562929062
          ],
          [
           "Bethesda Lutheran",
           0.3
          ],
          [
           "Edmonds Station",
           0.007722007722007722
          ],
          [
           "Edmonds P&R",
           0.03137254901960784
          ],
          [
           "Lynnwood P&R",
           0.0058016877637130804
          ],
          [
           "Swamp Creek P&R",
           0.03170731707317073
          ],
          [
           "Mariner P&R",
           0.034482758620689655
          ],
          [
           "Snohomish",
           0.04807692307692308
          ],
          [
           "Marysville - Ash Ave",
           0.0049504950495049506
          ],
          [
           "Arlington P&R",
           0.12
          ],
          [
           "Monroe",
           0.029411764705882353
          ],
          [
           "Federal Way",
           0.03949579831932773
          ],
          [
           "Port Orchard Armory",
           0.34285714285714286
          ],
          [
           "Southworth Ferry P&R",
           0.13836477987421383
          ],
          [
           "McWilliams P&R",
           0.006622516556291391
          ],
          [
           "Bethany Lutheran Church",
           0.1125
          ],
          [
           "Gateway Fellowship",
           0.043478260869565216
          ],
          [
           "Suquamish United Church of Christ",
           0.03076923076923077
          ],
          [
           "Bainbridge Island Ferry",
           0.3850267379679144
          ],
          [
           "Puyallup Station (NB)",
           0.02681992337164751
          ],
          [
           "72nd Street Transit Center",
           0.029411764705882353
          ],
          [
           "Aurora Village TC",
           0.3910891089108911
          ],
          [
           "Aurora Nazarene",
           0.2672413793103448
          ],
          [
           "Saint Margaret's Episcopal",
           0.25
          ],
          [
           "Lake Meridian P&R",
           0.12790697674418605
          ],
          [
           "Smokey Pt. Church",
           0.08
          ],
          [
           "Eastmont P&R",
           0.002570694087403599
          ],
          [
           "McCollum Park P&R",
           0.05134474327628362
          ],
          [
           "Canyon Park P&R",
           0.0738255033557047
          ],
          [
           "Korean Presby. P&R",
           0.4
          ],
          [
           "Poulsbo Church of the Nazarene",
           0.0037593984962406013
          ],
          [
           "Harper Evangelical Free Church",
           0.017316017316017316
          ],
          [
           "Mullenix Road",
           0.010869565217391304
          ],
          [
           "TCC P&R",
           0.21052631578947367
          ],
          [
           "Ash Way P&R",
           0.08832188420019627
          ],
          [
           "Bonney Lake P&R",
           0.016853932584269662
          ],
          [
           "South Hill P&R",
           0.05367231638418079
          ],
          [
           "South Tacoma East - 1",
           0.030303030303030304
          ],
          [
           "Issaquah Highlands",
           0.028
          ],
          [
           "Lake Stevens TC",
           0.033816425120772944
          ],
          [
           "Liberty Bay Presbyterian",
           0.022222222222222223
          ],
          [
           "NK Baptist",
           0.03508771929824561
          ],
          [
           "Preston P&R",
           0.6981132075471698
          ],
          [
           "Bayside Community Church",
           0.004761904761904762
          ],
          [
           "Bremerton Ferry",
           0.07420494699646643
          ],
          [
           "Marysville - Cedar & Grove",
           0.009389671361502348
          ],
          [
           "Stanwood II",
           0.013513513513513514
          ],
          [
           "Marysville I P&R",
           0.06756756756756757
          ],
          [
           "Martha Lake Covenant Church",
           0.05333333333333334
          ],
          [
           "South Sammammish P&R",
           0.007547169811320755
          ],
          [
           "Renton City Municipal Garage",
           0.11333333333333333
          ],
          [
           "Tibbetts Lot",
           0.041176470588235294
          ],
          [
           "Renton Transit Center",
           0.06666666666666667
          ],
          [
           "Calvary Christian Assembly",
           0.848
          ],
          [
           "Maple Valley Town Square",
           0.044444444444444446
          ],
          [
           "All Saints Lutheran Church",
           0.13333333333333333
          ],
          [
           "City View Church",
           0.7604166666666666
          ],
          [
           "Northwest University 6710 Bldg.",
           0.32786885245901637
          ],
          [
           "Sammamish Lutheran P&R",
           0.037037037037037035
          ],
          [
           "Redmond Ridge P&R",
           0.019230769230769232
          ],
          [
           "Kennydale United Methodist Church",
           0.08
          ],
          [
           "Nativity Lutheran Church",
           0.10204081632653061
          ],
          [
           "Everett Station",
           0.29375
          ],
          [
           null,
           0.037037037037037035
          ]
         ],
         "hovertemplate": "color=Boardings/Capacity <= 1<br>Capacity=%{x}<br>Model Boardings=%{y}<br>name=%{customdata[0]}<br>Boardings/Capacity=%{customdata[1]:.2f}<extra></extra>",
         "legendgroup": "Boardings/Capacity <= 1",
         "marker": {
          "color": "#91268F",
          "symbol": "circle"
         },
         "mode": "markers",
         "name": "Boardings/Capacity <= 1",
         "orientation": "v",
         "showlegend": true,
         "type": "scatter",
         "x": [
          390,
          2283,
          1067,
          302,
          63,
          996,
          636,
          600,
          104,
          522,
          600,
          107,
          323,
          306,
          49,
          100,
          20,
          62,
          493,
          75,
          150,
          78,
          44,
          79,
          515,
          64,
          877,
          358,
          40,
          404,
          713,
          488,
          267,
          385,
          128,
          200,
          447,
          30,
          275,
          75,
          1500,
          186,
          1614,
          80,
          51,
          50,
          785,
          203,
          470,
          40,
          150,
          48,
          55,
          334,
          502,
          242,
          376,
          603,
          220,
          459,
          100,
          411,
          1444,
          500,
          393,
          399,
          48,
          230,
          874,
          20,
          259,
          255,
          1896,
          410,
          667,
          104,
          202,
          25,
          102,
          1190,
          105,
          318,
          151,
          80,
          138,
          65,
          187,
          522,
          68,
          202,
          116,
          64,
          172,
          50,
          389,
          409,
          298,
          25,
          266,
          462,
          92,
          95,
          1019,
          356,
          354,
          33,
          1000,
          207,
          90,
          57,
          53,
          210,
          566,
          213,
          74,
          74,
          75,
          265,
          150,
          170,
          150,
          125,
          90,
          75,
          96,
          61,
          54,
          52,
          50,
          49,
          160,
          54
         ],
         "xaxis": "x",
         "y": [
          120,
          283,
          77,
          247,
          1,
          489,
          581,
          6,
          19,
          128,
          3,
          6,
          122,
          9,
          1,
          1,
          19,
          6,
          14,
          15,
          19,
          6,
          1,
          3,
          12,
          1,
          80,
          5,
          14,
          10,
          88,
          16,
          19,
          32,
          2,
          15,
          215,
          26,
          6,
          1,
          42,
          19,
          39,
          8,
          15,
          35,
          19,
          51,
          4,
          2,
          42,
          28,
          4,
          25,
          49,
          3,
          41,
          83,
          123,
          9,
          24,
          230,
          857,
          160,
          31,
          11,
          8,
          38,
          39,
          6,
          2,
          8,
          11,
          13,
          23,
          5,
          1,
          3,
          3,
          47,
          36,
          44,
          1,
          9,
          6,
          2,
          72,
          14,
          2,
          79,
          31,
          16,
          22,
          4,
          1,
          21,
          22,
          10,
          1,
          8,
          1,
          20,
          90,
          6,
          19,
          1,
          28,
          7,
          2,
          2,
          37,
          1,
          42,
          2,
          1,
          5,
          4,
          2,
          17,
          7,
          10,
          106,
          4,
          10,
          73,
          20,
          2,
          1,
          4,
          5,
          47,
          2
         ],
         "yaxis": "y"
        },
        {
         "customdata": [
          [
           "Bethany Bible Church",
           1.52
          ],
          [
           "Spokane Street P&R",
           1.2727272727272727
          ],
          [
           "Tukwila Int. Station",
           1.03
          ],
          [
           "Puyallup Fair's Red Lot",
           1.4063926940639269
          ],
          [
           "South SeaTac (LR)",
           1.1362068965517242
          ]
         ],
         "hovertemplate": "color=Boardings/Capacity > 1<br>Capacity=%{x}<br>Model Boardings=%{y}<br>name=%{customdata[0]}<br>Boardings/Capacity=%{customdata[1]:.2f}<extra></extra>",
         "legendgroup": "Boardings/Capacity > 1",
         "marker": {
          "color": "#8CC63E",
          "symbol": "circle"
         },
         "mode": "markers",
         "name": "Boardings/Capacity > 1",
         "orientation": "v",
         "showlegend": true,
         "type": "scatter",
         "x": [
          75,
          55,
          600,
          219,
          1160
         ],
         "xaxis": "x",
         "y": [
          114,
          70,
          618,
          308,
          1318
         ],
         "yaxis": "y"
        }
       ],
       "layout": {
        "height": 600,
        "legend": {
         "title": {
          "text": "color"
         },
         "tracegroupgap": 0
        },
        "template": {
         "data": {
          "bar": [
           {
            "error_x": {
             "color": "rgb(36,36,36)"
            },
            "error_y": {
             "color": "rgb(36,36,36)"
            },
            "marker": {
             "line": {
              "color": "white",
              "width": 0.5
             },
             "pattern": {
              "fillmode": "overlay",
              "size": 10,
              "solidity": 0.2
             }
            },
            "type": "bar"
           }
          ],
          "barpolar": [
           {
            "marker": {
             "line": {
              "color": "white",
              "width": 0.5
             },
             "pattern": {
              "fillmode": "overlay",
              "size": 10,
              "solidity": 0.2
             }
            },
            "type": "barpolar"
           }
          ],
          "carpet": [
           {
            "aaxis": {
             "endlinecolor": "rgb(36,36,36)",
             "gridcolor": "white",
             "linecolor": "white",
             "minorgridcolor": "white",
             "startlinecolor": "rgb(36,36,36)"
            },
            "baxis": {
             "endlinecolor": "rgb(36,36,36)",
             "gridcolor": "white",
             "linecolor": "white",
             "minorgridcolor": "white",
             "startlinecolor": "rgb(36,36,36)"
            },
            "type": "carpet"
           }
          ],
          "choropleth": [
           {
            "colorbar": {
             "outlinewidth": 1,
             "tickcolor": "rgb(36,36,36)",
             "ticks": "outside"
            },
            "type": "choropleth"
           }
          ],
          "contour": [
           {
            "colorbar": {
             "outlinewidth": 1,
             "tickcolor": "rgb(36,36,36)",
             "ticks": "outside"
            },
            "colorscale": [
             [
              0.0,
              "#440154"
             ],
             [
              0.1111111111111111,
              "#482878"
             ],
             [
              0.2222222222222222,
              "#3e4989"
             ],
             [
              0.3333333333333333,
              "#31688e"
             ],
             [
              0.4444444444444444,
              "#26828e"
             ],
             [
              0.5555555555555556,
              "#1f9e89"
             ],
             [
              0.6666666666666666,
              "#35b779"
             ],
             [
              0.7777777777777778,
              "#6ece58"
             ],
             [
              0.8888888888888888,
              "#b5de2b"
             ],
             [
              1.0,
              "#fde725"
             ]
            ],
            "type": "contour"
           }
          ],
          "contourcarpet": [
           {
            "colorbar": {
             "outlinewidth": 1,
             "tickcolor": "rgb(36,36,36)",
             "ticks": "outside"
            },
            "type": "contourcarpet"
           }
          ],
          "heatmap": [
           {
            "colorbar": {
             "outlinewidth": 1,
             "tickcolor": "rgb(36,36,36)",
             "ticks": "outside"
            },
            "colorscale": [
             [
              0.0,
              "#440154"
             ],
             [
              0.1111111111111111,
              "#482878"
             ],
             [
              0.2222222222222222,
              "#3e4989"
             ],
             [
              0.3333333333333333,
              "#31688e"
             ],
             [
              0.4444444444444444,
              "#26828e"
             ],
             [
              0.5555555555555556,
              "#1f9e89"
             ],
             [
              0.6666666666666666,
              "#35b779"
             ],
             [
              0.7777777777777778,
              "#6ece58"
             ],
             [
              0.8888888888888888,
              "#b5de2b"
             ],
             [
              1.0,
              "#fde725"
             ]
            ],
            "type": "heatmap"
           }
          ],
          "heatmapgl": [
           {
            "colorbar": {
             "outlinewidth": 1,
             "tickcolor": "rgb(36,36,36)",
             "ticks": "outside"
            },
            "colorscale": [
             [
              0.0,
              "#440154"
             ],
             [
              0.1111111111111111,
              "#482878"
             ],
             [
              0.2222222222222222,
              "#3e4989"
             ],
             [
              0.3333333333333333,
              "#31688e"
             ],
             [
              0.4444444444444444,
              "#26828e"
             ],
             [
              0.5555555555555556,
              "#1f9e89"
             ],
             [
              0.6666666666666666,
              "#35b779"
             ],
             [
              0.7777777777777778,
              "#6ece58"
             ],
             [
              0.8888888888888888,
              "#b5de2b"
             ],
             [
              1.0,
              "#fde725"
             ]
            ],
            "type": "heatmapgl"
           }
          ],
          "histogram": [
           {
            "marker": {
             "line": {
              "color": "white",
              "width": 0.6
             }
            },
            "type": "histogram"
           }
          ],
          "histogram2d": [
           {
            "colorbar": {
             "outlinewidth": 1,
             "tickcolor": "rgb(36,36,36)",
             "ticks": "outside"
            },
            "colorscale": [
             [
              0.0,
              "#440154"
             ],
             [
              0.1111111111111111,
              "#482878"
             ],
             [
              0.2222222222222222,
              "#3e4989"
             ],
             [
              0.3333333333333333,
              "#31688e"
             ],
             [
              0.4444444444444444,
              "#26828e"
             ],
             [
              0.5555555555555556,
              "#1f9e89"
             ],
             [
              0.6666666666666666,
              "#35b779"
             ],
             [
              0.7777777777777778,
              "#6ece58"
             ],
             [
              0.8888888888888888,
              "#b5de2b"
             ],
             [
              1.0,
              "#fde725"
             ]
            ],
            "type": "histogram2d"
           }
          ],
          "histogram2dcontour": [
           {
            "colorbar": {
             "outlinewidth": 1,
             "tickcolor": "rgb(36,36,36)",
             "ticks": "outside"
            },
            "colorscale": [
             [
              0.0,
              "#440154"
             ],
             [
              0.1111111111111111,
              "#482878"
             ],
             [
              0.2222222222222222,
              "#3e4989"
             ],
             [
              0.3333333333333333,
              "#31688e"
             ],
             [
              0.4444444444444444,
              "#26828e"
             ],
             [
              0.5555555555555556,
              "#1f9e89"
             ],
             [
              0.6666666666666666,
              "#35b779"
             ],
             [
              0.7777777777777778,
              "#6ece58"
             ],
             [
              0.8888888888888888,
              "#b5de2b"
             ],
             [
              1.0,
              "#fde725"
             ]
            ],
            "type": "histogram2dcontour"
           }
          ],
          "mesh3d": [
           {
            "colorbar": {
             "outlinewidth": 1,
             "tickcolor": "rgb(36,36,36)",
             "ticks": "outside"
            },
            "type": "mesh3d"
           }
          ],
          "parcoords": [
           {
            "line": {
             "colorbar": {
              "outlinewidth": 1,
              "tickcolor": "rgb(36,36,36)",
              "ticks": "outside"
             }
            },
            "type": "parcoords"
           }
          ],
          "pie": [
           {
            "automargin": true,
            "type": "pie"
           }
          ],
          "scatter": [
           {
            "fillpattern": {
             "fillmode": "overlay",
             "size": 10,
             "solidity": 0.2
            },
            "type": "scatter"
           }
          ],
          "scatter3d": [
           {
            "line": {
             "colorbar": {
              "outlinewidth": 1,
              "tickcolor": "rgb(36,36,36)",
              "ticks": "outside"
             }
            },
            "marker": {
             "colorbar": {
              "outlinewidth": 1,
              "tickcolor": "rgb(36,36,36)",
              "ticks": "outside"
             }
            },
            "type": "scatter3d"
           }
          ],
          "scattercarpet": [
           {
            "marker": {
             "colorbar": {
              "outlinewidth": 1,
              "tickcolor": "rgb(36,36,36)",
              "ticks": "outside"
             }
            },
            "type": "scattercarpet"
           }
          ],
          "scattergeo": [
           {
            "marker": {
             "colorbar": {
              "outlinewidth": 1,
              "tickcolor": "rgb(36,36,36)",
              "ticks": "outside"
             }
            },
            "type": "scattergeo"
           }
          ],
          "scattergl": [
           {
            "marker": {
             "colorbar": {
              "outlinewidth": 1,
              "tickcolor": "rgb(36,36,36)",
              "ticks": "outside"
             }
            },
            "type": "scattergl"
           }
          ],
          "scattermapbox": [
           {
            "marker": {
             "colorbar": {
              "outlinewidth": 1,
              "tickcolor": "rgb(36,36,36)",
              "ticks": "outside"
             }
            },
            "type": "scattermapbox"
           }
          ],
          "scatterpolar": [
           {
            "marker": {
             "colorbar": {
              "outlinewidth": 1,
              "tickcolor": "rgb(36,36,36)",
              "ticks": "outside"
             }
            },
            "type": "scatterpolar"
           }
          ],
          "scatterpolargl": [
           {
            "marker": {
             "colorbar": {
              "outlinewidth": 1,
              "tickcolor": "rgb(36,36,36)",
              "ticks": "outside"
             }
            },
            "type": "scatterpolargl"
           }
          ],
          "scatterternary": [
           {
            "marker": {
             "colorbar": {
              "outlinewidth": 1,
              "tickcolor": "rgb(36,36,36)",
              "ticks": "outside"
             }
            },
            "type": "scatterternary"
           }
          ],
          "surface": [
           {
            "colorbar": {
             "outlinewidth": 1,
             "tickcolor": "rgb(36,36,36)",
             "ticks": "outside"
            },
            "colorscale": [
             [
              0.0,
              "#440154"
             ],
             [
              0.1111111111111111,
              "#482878"
             ],
             [
              0.2222222222222222,
              "#3e4989"
             ],
             [
              0.3333333333333333,
              "#31688e"
             ],
             [
              0.4444444444444444,
              "#26828e"
             ],
             [
              0.5555555555555556,
              "#1f9e89"
             ],
             [
              0.6666666666666666,
              "#35b779"
             ],
             [
              0.7777777777777778,
              "#6ece58"
             ],
             [
              0.8888888888888888,
              "#b5de2b"
             ],
             [
              1.0,
              "#fde725"
             ]
            ],
            "type": "surface"
           }
          ],
          "table": [
           {
            "cells": {
             "fill": {
              "color": "rgb(237,237,237)"
             },
             "line": {
              "color": "white"
             }
            },
            "header": {
             "fill": {
              "color": "rgb(217,217,217)"
             },
             "line": {
              "color": "white"
             }
            },
            "type": "table"
           }
          ]
         },
         "layout": {
          "annotationdefaults": {
           "arrowhead": 0,
           "arrowwidth": 1
          },
          "autotypenumbers": "strict",
          "coloraxis": {
           "colorbar": {
            "outlinewidth": 1,
            "tickcolor": "rgb(36,36,36)",
            "ticks": "outside"
           }
          },
          "colorscale": {
           "diverging": [
            [
             0.0,
             "rgb(103,0,31)"
            ],
            [
             0.1,
             "rgb(178,24,43)"
            ],
            [
             0.2,
             "rgb(214,96,77)"
            ],
            [
             0.3,
             "rgb(244,165,130)"
            ],
            [
             0.4,
             "rgb(253,219,199)"
            ],
            [
             0.5,
             "rgb(247,247,247)"
            ],
            [
             0.6,
             "rgb(209,229,240)"
            ],
            [
             0.7,
             "rgb(146,197,222)"
            ],
            [
             0.8,
             "rgb(67,147,195)"
            ],
            [
             0.9,
             "rgb(33,102,172)"
            ],
            [
             1.0,
             "rgb(5,48,97)"
            ]
           ],
           "sequential": [
            [
             0.0,
             "#440154"
            ],
            [
             0.1111111111111111,
             "#482878"
            ],
            [
             0.2222222222222222,
             "#3e4989"
            ],
            [
             0.3333333333333333,
             "#31688e"
            ],
            [
             0.4444444444444444,
             "#26828e"
            ],
            [
             0.5555555555555556,
             "#1f9e89"
            ],
            [
             0.6666666666666666,
             "#35b779"
            ],
            [
             0.7777777777777778,
             "#6ece58"
            ],
            [
             0.8888888888888888,
             "#b5de2b"
            ],
            [
             1.0,
             "#fde725"
            ]
           ],
           "sequentialminus": [
            [
             0.0,
             "#440154"
            ],
            [
             0.1111111111111111,
             "#482878"
            ],
            [
             0.2222222222222222,
             "#3e4989"
            ],
            [
             0.3333333333333333,
             "#31688e"
            ],
            [
             0.4444444444444444,
             "#26828e"
            ],
            [
             0.5555555555555556,
             "#1f9e89"
            ],
            [
             0.6666666666666666,
             "#35b779"
            ],
            [
             0.7777777777777778,
             "#6ece58"
            ],
            [
             0.8888888888888888,
             "#b5de2b"
            ],
            [
             1.0,
             "#fde725"
            ]
           ]
          },
          "colorway": [
           "#91268F",
           "#8CC63E",
           "#00A7A0",
           "#F05A28",
           "#4C4C4C",
           "#630460",
           "#9f3913",
           "#588527",
           "#00716c",
           "#3e4040"
          ],
          "font": {
           "color": "rgb(36,36,36)",
           "family": "Poppins",
           "size": 11
          },
          "geo": {
           "bgcolor": "white",
           "lakecolor": "white",
           "landcolor": "white",
           "showlakes": true,
           "showland": true,
           "subunitcolor": "white"
          },
          "hoverlabel": {
           "align": "left"
          },
          "hovermode": "closest",
          "mapbox": {
           "style": "light"
          },
          "paper_bgcolor": "white",
          "plot_bgcolor": "white",
          "polar": {
           "angularaxis": {
            "gridcolor": "rgb(232,232,232)",
            "linecolor": "rgb(36,36,36)",
            "showgrid": false,
            "showline": true,
            "ticks": "outside"
           },
           "bgcolor": "white",
           "radialaxis": {
            "gridcolor": "rgb(232,232,232)",
            "linecolor": "rgb(36,36,36)",
            "showgrid": false,
            "showline": true,
            "ticks": "outside"
           }
          },
          "scene": {
           "xaxis": {
            "backgroundcolor": "white",
            "gridcolor": "rgb(232,232,232)",
            "gridwidth": 2,
            "linecolor": "rgb(36,36,36)",
            "showbackground": true,
            "showgrid": false,
            "showline": true,
            "ticks": "outside",
            "zeroline": false,
            "zerolinecolor": "rgb(36,36,36)"
           },
           "yaxis": {
            "backgroundcolor": "white",
            "gridcolor": "rgb(232,232,232)",
            "gridwidth": 2,
            "linecolor": "rgb(36,36,36)",
            "showbackground": true,
            "showgrid": false,
            "showline": true,
            "ticks": "outside",
            "zeroline": false,
            "zerolinecolor": "rgb(36,36,36)"
           },
           "zaxis": {
            "backgroundcolor": "white",
            "gridcolor": "rgb(232,232,232)",
            "gridwidth": 2,
            "linecolor": "rgb(36,36,36)",
            "showbackground": true,
            "showgrid": false,
            "showline": true,
            "ticks": "outside",
            "zeroline": false,
            "zerolinecolor": "rgb(36,36,36)"
           }
          },
          "shapedefaults": {
           "fillcolor": "black",
           "line": {
            "width": 0
           },
           "opacity": 0.3
          },
          "ternary": {
           "aaxis": {
            "gridcolor": "rgb(232,232,232)",
            "linecolor": "rgb(36,36,36)",
            "showgrid": false,
            "showline": true,
            "ticks": "outside"
           },
           "baxis": {
            "gridcolor": "rgb(232,232,232)",
            "linecolor": "rgb(36,36,36)",
            "showgrid": false,
            "showline": true,
            "ticks": "outside"
           },
           "bgcolor": "white",
           "caxis": {
            "gridcolor": "rgb(232,232,232)",
            "linecolor": "rgb(36,36,36)",
            "showgrid": false,
            "showline": true,
            "ticks": "outside"
           }
          },
          "title": {
           "x": 0.05
          },
          "xaxis": {
           "automargin": true,
           "gridcolor": "rgb(232,232,232)",
           "linecolor": "rgb(36,36,36)",
           "showgrid": false,
           "showline": true,
           "ticks": "outside",
           "title": {
            "standoff": 15
           },
           "zeroline": false,
           "zerolinecolor": "rgb(36,36,36)"
          },
          "yaxis": {
           "automargin": true,
           "gridcolor": "rgb(232,232,232)",
           "linecolor": "rgb(36,36,36)",
           "showgrid": false,
           "showline": true,
           "ticks": "outside",
           "title": {
            "standoff": 15
           },
           "zeroline": false,
           "zerolinecolor": "rgb(36,36,36)"
          }
         }
        },
        "title": {
         "text": "Model Boardings vs Capacity"
        },
        "width": 800,
        "xaxis": {
         "anchor": "y",
         "domain": [
          0.0,
          1.0
         ],
         "title": {
          "text": "Capacity"
         }
        },
        "yaxis": {
         "anchor": "x",
         "domain": [
          0.0,
          1.0
         ],
         "title": {
          "text": "Model Boardings"
         }
        }
       }
      },
      "text/html": [
       "<div>                            <div id=\"d54b8ff2-70d8-4dd7-8301-667c572719f1\" class=\"plotly-graph-div\" style=\"height:600px; width:800px;\"></div>            <script type=\"text/javascript\">                require([\"plotly\"], function(Plotly) {                    window.PLOTLYENV=window.PLOTLYENV || {};                                    if (document.getElementById(\"d54b8ff2-70d8-4dd7-8301-667c572719f1\")) {                    Plotly.newPlot(                        \"d54b8ff2-70d8-4dd7-8301-667c572719f1\",                        [{\"customdata\":[[\"Tukwila Station (CR)\",0.3076923076923077],[\"Tacoma Dome Station\",0.12395970214629873],[\"Everett Station (CR)\",0.07216494845360824],[\"Sumner Station (CR)\",0.8178807947019867],[\"Mukilteo Station\",0.015873015873015872],[\"Kent Station (CR)\",0.49096385542168675],[\"Auburn Station (CR)\",0.9135220125786163],[\"Lakewood (CR)\",0.01],[\"Gateway P&R\",0.18269230769230768],[\"Puyallup Station (SB)\",0.24521072796934865],[\"Twin Lakes P&R\",0.005],[\"Crossroads Neighborhood Church\",0.056074766355140186],[\"Overlake Transit Center\",0.37770897832817335],[\"North Gig Harbor\\u002fKimball Drive\",0.029411764705882353],[\"Duvall P&R\",0.02040816326530612],[\"Roy 'Y' P&R\",0.01],[\"South Hill (Elim Evangelical)\",0.95],[\"Parkland Transit Center\",0.0967741935483871],[\"SR-512\\u002fI-5 (Lakewood)\",0.028397565922920892],[\"Center Street P&R\",0.2],[\"Tacoma Mall Transit Center\",0.12666666666666668],[\"South Tacoma West\",0.07692307692307693],[\"South Tacoma East - 2\",0.022727272727272728],[\"Point Defiance Ferry\",0.0379746835443038],[\"South Federal P&R\",0.02330097087378641],[\"Sultan P&R\",0.015625],[\"Federal Way P&R (320th)\",0.09122006841505131],[\"Auburn P&R\",0.013966480446927373],[\"Holy Spirit Lutheran Church\",0.35],[\"Kent\\u002fDes Moines P&R\",0.024752475247524754],[\"Kent\\u002fJames St. P&R\",0.12342215988779803],[\"Burien Transit Center\",0.03278688524590164],[\"Tukwila\",0.07116104868913857],[\"South Renton P&R\",0.08311688311688312],[\"Renton Highlands P&R (St. Matts)\",0.015625],[\"Issaquah Transit Center\",0.075],[\"Mercer Island P&R\",0.4809843400447427],[\"Mercer Island Presbyterian\",0.8666666666666667],[\"Newport Hills P&R\",0.02181818181818182],[\"Newport Covenant Church\",0.013333333333333334],[\"South Bellevue P&R\",0.028],[\"Wilburton\",0.10215053763440861],[\"Eastgate P&R\",0.024163568773234202],[\"North Bend P&R\",0.1],[\"Evergreen Point P&R\",0.29411764705882354],[\"Grace Lutheran Church\",0.7],[\"South Kirkland P&R\",0.024203821656050957],[\"Overlake P&R\",0.2512315270935961],[\"Houghton P&R\",0.00851063829787234],[\"Bethel Lutheran\",0.05],[\"Redmond P&R\",0.28],[\"Saint Thomas Episcopal\",0.5833333333333334],[\"Valley Center\",0.07272727272727272],[\"Bear Creek P&R\",0.0748502994011976],[\"Kingsgate P&R\",0.09760956175298804],[\"Brickyard P&R\",0.012396694214876033],[\"Northshore P&R\",0.10904255319148937],[\"Kenmore P&R\",0.13764510779436154],[\"Bothell P&R\",0.5590909090909091],[\"Woodinville P&R\",0.0196078431372549],[\"Olson & Meyers\",0.24],[\"Greenlake P&R\",0.559610705596107],[\"Northgate TC\",0.5934903047091413],[\"North Jackson Park\",0.32],[\"Shoreline\",0.07888040712468193],[\"112th St. & I-5\",0.02756892230576441],[\"Ober Park\",0.16666666666666666],[\"Vashon Heights\",0.16521739130434782],[\"Mountlake Terrace P&R\",0.04462242562929062],[\"Bethesda Lutheran\",0.3],[\"Edmonds Station\",0.007722007722007722],[\"Edmonds P&R\",0.03137254901960784],[\"Lynnwood P&R\",0.0058016877637130804],[\"Swamp Creek P&R\",0.03170731707317073],[\"Mariner P&R\",0.034482758620689655],[\"Snohomish\",0.04807692307692308],[\"Marysville - Ash Ave\",0.0049504950495049506],[\"Arlington P&R\",0.12],[\"Monroe\",0.029411764705882353],[\"Federal Way\",0.03949579831932773],[\"Port Orchard Armory\",0.34285714285714286],[\"Southworth Ferry P&R\",0.13836477987421383],[\"McWilliams P&R\",0.006622516556291391],[\"Bethany Lutheran Church\",0.1125],[\"Gateway Fellowship\",0.043478260869565216],[\"Suquamish United Church of Christ\",0.03076923076923077],[\"Bainbridge Island Ferry\",0.3850267379679144],[\"Puyallup Station (NB)\",0.02681992337164751],[\"72nd Street Transit Center\",0.029411764705882353],[\"Aurora Village TC\",0.3910891089108911],[\"Aurora Nazarene\",0.2672413793103448],[\"Saint Margaret's Episcopal\",0.25],[\"Lake Meridian P&R\",0.12790697674418605],[\"Smokey Pt. Church\",0.08],[\"Eastmont P&R\",0.002570694087403599],[\"McCollum Park P&R\",0.05134474327628362],[\"Canyon Park P&R\",0.0738255033557047],[\"Korean Presby. P&R\",0.4],[\"Poulsbo Church of the Nazarene\",0.0037593984962406013],[\"Harper Evangelical Free Church\",0.017316017316017316],[\"Mullenix Road\",0.010869565217391304],[\"TCC P&R\",0.21052631578947367],[\"Ash Way P&R\",0.08832188420019627],[\"Bonney Lake P&R\",0.016853932584269662],[\"South Hill P&R\",0.05367231638418079],[\"South Tacoma East - 1\",0.030303030303030304],[\"Issaquah Highlands\",0.028],[\"Lake Stevens TC\",0.033816425120772944],[\"Liberty Bay Presbyterian\",0.022222222222222223],[\"NK Baptist\",0.03508771929824561],[\"Preston P&R\",0.6981132075471698],[\"Bayside Community Church\",0.004761904761904762],[\"Bremerton Ferry\",0.07420494699646643],[\"Marysville - Cedar & Grove\",0.009389671361502348],[\"Stanwood II\",0.013513513513513514],[\"Marysville I P&R\",0.06756756756756757],[\"Martha Lake Covenant Church\",0.05333333333333334],[\"South Sammammish P&R\",0.007547169811320755],[\"Renton City Municipal Garage\",0.11333333333333333],[\"Tibbetts Lot\",0.041176470588235294],[\"Renton Transit Center\",0.06666666666666667],[\"Calvary Christian Assembly\",0.848],[\"Maple Valley Town Square\",0.044444444444444446],[\"All Saints Lutheran Church\",0.13333333333333333],[\"City View Church\",0.7604166666666666],[\"Northwest University 6710 Bldg.\",0.32786885245901637],[\"Sammamish Lutheran P&R\",0.037037037037037035],[\"Redmond Ridge P&R\",0.019230769230769232],[\"Kennydale United Methodist Church\",0.08],[\"Nativity Lutheran Church\",0.10204081632653061],[\"Everett Station\",0.29375],[null,0.037037037037037035]],\"hovertemplate\":\"color=Boardings\\u002fCapacity \\u003c= 1\\u003cbr\\u003eCapacity=%{x}\\u003cbr\\u003eModel Boardings=%{y}\\u003cbr\\u003ename=%{customdata[0]}\\u003cbr\\u003eBoardings\\u002fCapacity=%{customdata[1]:.2f}\\u003cextra\\u003e\\u003c\\u002fextra\\u003e\",\"legendgroup\":\"Boardings\\u002fCapacity \\u003c= 1\",\"marker\":{\"color\":\"#91268F\",\"symbol\":\"circle\"},\"mode\":\"markers\",\"name\":\"Boardings\\u002fCapacity \\u003c= 1\",\"orientation\":\"v\",\"showlegend\":true,\"x\":[390,2283,1067,302,63,996,636,600,104,522,600,107,323,306,49,100,20,62,493,75,150,78,44,79,515,64,877,358,40,404,713,488,267,385,128,200,447,30,275,75,1500,186,1614,80,51,50,785,203,470,40,150,48,55,334,502,242,376,603,220,459,100,411,1444,500,393,399,48,230,874,20,259,255,1896,410,667,104,202,25,102,1190,105,318,151,80,138,65,187,522,68,202,116,64,172,50,389,409,298,25,266,462,92,95,1019,356,354,33,1000,207,90,57,53,210,566,213,74,74,75,265,150,170,150,125,90,75,96,61,54,52,50,49,160,54],\"xaxis\":\"x\",\"y\":[120,283,77,247,1,489,581,6,19,128,3,6,122,9,1,1,19,6,14,15,19,6,1,3,12,1,80,5,14,10,88,16,19,32,2,15,215,26,6,1,42,19,39,8,15,35,19,51,4,2,42,28,4,25,49,3,41,83,123,9,24,230,857,160,31,11,8,38,39,6,2,8,11,13,23,5,1,3,3,47,36,44,1,9,6,2,72,14,2,79,31,16,22,4,1,21,22,10,1,8,1,20,90,6,19,1,28,7,2,2,37,1,42,2,1,5,4,2,17,7,10,106,4,10,73,20,2,1,4,5,47,2],\"yaxis\":\"y\",\"type\":\"scatter\"},{\"customdata\":[[\"Bethany Bible Church\",1.52],[\"Spokane Street P&R\",1.2727272727272727],[\"Tukwila Int. Station\",1.03],[\"Puyallup Fair's Red Lot\",1.4063926940639269],[\"South SeaTac (LR)\",1.1362068965517242]],\"hovertemplate\":\"color=Boardings\\u002fCapacity \\u003e 1\\u003cbr\\u003eCapacity=%{x}\\u003cbr\\u003eModel Boardings=%{y}\\u003cbr\\u003ename=%{customdata[0]}\\u003cbr\\u003eBoardings\\u002fCapacity=%{customdata[1]:.2f}\\u003cextra\\u003e\\u003c\\u002fextra\\u003e\",\"legendgroup\":\"Boardings\\u002fCapacity \\u003e 1\",\"marker\":{\"color\":\"#8CC63E\",\"symbol\":\"circle\"},\"mode\":\"markers\",\"name\":\"Boardings\\u002fCapacity \\u003e 1\",\"orientation\":\"v\",\"showlegend\":true,\"x\":[75,55,600,219,1160],\"xaxis\":\"x\",\"y\":[114,70,618,308,1318],\"yaxis\":\"y\",\"type\":\"scatter\"}],                        {\"template\":{\"data\":{\"barpolar\":[{\"marker\":{\"line\":{\"color\":\"white\",\"width\":0.5},\"pattern\":{\"fillmode\":\"overlay\",\"size\":10,\"solidity\":0.2}},\"type\":\"barpolar\"}],\"bar\":[{\"error_x\":{\"color\":\"rgb(36,36,36)\"},\"error_y\":{\"color\":\"rgb(36,36,36)\"},\"marker\":{\"line\":{\"color\":\"white\",\"width\":0.5},\"pattern\":{\"fillmode\":\"overlay\",\"size\":10,\"solidity\":0.2}},\"type\":\"bar\"}],\"carpet\":[{\"aaxis\":{\"endlinecolor\":\"rgb(36,36,36)\",\"gridcolor\":\"white\",\"linecolor\":\"white\",\"minorgridcolor\":\"white\",\"startlinecolor\":\"rgb(36,36,36)\"},\"baxis\":{\"endlinecolor\":\"rgb(36,36,36)\",\"gridcolor\":\"white\",\"linecolor\":\"white\",\"minorgridcolor\":\"white\",\"startlinecolor\":\"rgb(36,36,36)\"},\"type\":\"carpet\"}],\"choropleth\":[{\"colorbar\":{\"outlinewidth\":1,\"tickcolor\":\"rgb(36,36,36)\",\"ticks\":\"outside\"},\"type\":\"choropleth\"}],\"contourcarpet\":[{\"colorbar\":{\"outlinewidth\":1,\"tickcolor\":\"rgb(36,36,36)\",\"ticks\":\"outside\"},\"type\":\"contourcarpet\"}],\"contour\":[{\"colorbar\":{\"outlinewidth\":1,\"tickcolor\":\"rgb(36,36,36)\",\"ticks\":\"outside\"},\"colorscale\":[[0.0,\"#440154\"],[0.1111111111111111,\"#482878\"],[0.2222222222222222,\"#3e4989\"],[0.3333333333333333,\"#31688e\"],[0.4444444444444444,\"#26828e\"],[0.5555555555555556,\"#1f9e89\"],[0.6666666666666666,\"#35b779\"],[0.7777777777777778,\"#6ece58\"],[0.8888888888888888,\"#b5de2b\"],[1.0,\"#fde725\"]],\"type\":\"contour\"}],\"heatmapgl\":[{\"colorbar\":{\"outlinewidth\":1,\"tickcolor\":\"rgb(36,36,36)\",\"ticks\":\"outside\"},\"colorscale\":[[0.0,\"#440154\"],[0.1111111111111111,\"#482878\"],[0.2222222222222222,\"#3e4989\"],[0.3333333333333333,\"#31688e\"],[0.4444444444444444,\"#26828e\"],[0.5555555555555556,\"#1f9e89\"],[0.6666666666666666,\"#35b779\"],[0.7777777777777778,\"#6ece58\"],[0.8888888888888888,\"#b5de2b\"],[1.0,\"#fde725\"]],\"type\":\"heatmapgl\"}],\"heatmap\":[{\"colorbar\":{\"outlinewidth\":1,\"tickcolor\":\"rgb(36,36,36)\",\"ticks\":\"outside\"},\"colorscale\":[[0.0,\"#440154\"],[0.1111111111111111,\"#482878\"],[0.2222222222222222,\"#3e4989\"],[0.3333333333333333,\"#31688e\"],[0.4444444444444444,\"#26828e\"],[0.5555555555555556,\"#1f9e89\"],[0.6666666666666666,\"#35b779\"],[0.7777777777777778,\"#6ece58\"],[0.8888888888888888,\"#b5de2b\"],[1.0,\"#fde725\"]],\"type\":\"heatmap\"}],\"histogram2dcontour\":[{\"colorbar\":{\"outlinewidth\":1,\"tickcolor\":\"rgb(36,36,36)\",\"ticks\":\"outside\"},\"colorscale\":[[0.0,\"#440154\"],[0.1111111111111111,\"#482878\"],[0.2222222222222222,\"#3e4989\"],[0.3333333333333333,\"#31688e\"],[0.4444444444444444,\"#26828e\"],[0.5555555555555556,\"#1f9e89\"],[0.6666666666666666,\"#35b779\"],[0.7777777777777778,\"#6ece58\"],[0.8888888888888888,\"#b5de2b\"],[1.0,\"#fde725\"]],\"type\":\"histogram2dcontour\"}],\"histogram2d\":[{\"colorbar\":{\"outlinewidth\":1,\"tickcolor\":\"rgb(36,36,36)\",\"ticks\":\"outside\"},\"colorscale\":[[0.0,\"#440154\"],[0.1111111111111111,\"#482878\"],[0.2222222222222222,\"#3e4989\"],[0.3333333333333333,\"#31688e\"],[0.4444444444444444,\"#26828e\"],[0.5555555555555556,\"#1f9e89\"],[0.6666666666666666,\"#35b779\"],[0.7777777777777778,\"#6ece58\"],[0.8888888888888888,\"#b5de2b\"],[1.0,\"#fde725\"]],\"type\":\"histogram2d\"}],\"histogram\":[{\"marker\":{\"line\":{\"color\":\"white\",\"width\":0.6}},\"type\":\"histogram\"}],\"mesh3d\":[{\"colorbar\":{\"outlinewidth\":1,\"tickcolor\":\"rgb(36,36,36)\",\"ticks\":\"outside\"},\"type\":\"mesh3d\"}],\"parcoords\":[{\"line\":{\"colorbar\":{\"outlinewidth\":1,\"tickcolor\":\"rgb(36,36,36)\",\"ticks\":\"outside\"}},\"type\":\"parcoords\"}],\"pie\":[{\"automargin\":true,\"type\":\"pie\"}],\"scatter3d\":[{\"line\":{\"colorbar\":{\"outlinewidth\":1,\"tickcolor\":\"rgb(36,36,36)\",\"ticks\":\"outside\"}},\"marker\":{\"colorbar\":{\"outlinewidth\":1,\"tickcolor\":\"rgb(36,36,36)\",\"ticks\":\"outside\"}},\"type\":\"scatter3d\"}],\"scattercarpet\":[{\"marker\":{\"colorbar\":{\"outlinewidth\":1,\"tickcolor\":\"rgb(36,36,36)\",\"ticks\":\"outside\"}},\"type\":\"scattercarpet\"}],\"scattergeo\":[{\"marker\":{\"colorbar\":{\"outlinewidth\":1,\"tickcolor\":\"rgb(36,36,36)\",\"ticks\":\"outside\"}},\"type\":\"scattergeo\"}],\"scattergl\":[{\"marker\":{\"colorbar\":{\"outlinewidth\":1,\"tickcolor\":\"rgb(36,36,36)\",\"ticks\":\"outside\"}},\"type\":\"scattergl\"}],\"scattermapbox\":[{\"marker\":{\"colorbar\":{\"outlinewidth\":1,\"tickcolor\":\"rgb(36,36,36)\",\"ticks\":\"outside\"}},\"type\":\"scattermapbox\"}],\"scatterpolargl\":[{\"marker\":{\"colorbar\":{\"outlinewidth\":1,\"tickcolor\":\"rgb(36,36,36)\",\"ticks\":\"outside\"}},\"type\":\"scatterpolargl\"}],\"scatterpolar\":[{\"marker\":{\"colorbar\":{\"outlinewidth\":1,\"tickcolor\":\"rgb(36,36,36)\",\"ticks\":\"outside\"}},\"type\":\"scatterpolar\"}],\"scatter\":[{\"fillpattern\":{\"fillmode\":\"overlay\",\"size\":10,\"solidity\":0.2},\"type\":\"scatter\"}],\"scatterternary\":[{\"marker\":{\"colorbar\":{\"outlinewidth\":1,\"tickcolor\":\"rgb(36,36,36)\",\"ticks\":\"outside\"}},\"type\":\"scatterternary\"}],\"surface\":[{\"colorbar\":{\"outlinewidth\":1,\"tickcolor\":\"rgb(36,36,36)\",\"ticks\":\"outside\"},\"colorscale\":[[0.0,\"#440154\"],[0.1111111111111111,\"#482878\"],[0.2222222222222222,\"#3e4989\"],[0.3333333333333333,\"#31688e\"],[0.4444444444444444,\"#26828e\"],[0.5555555555555556,\"#1f9e89\"],[0.6666666666666666,\"#35b779\"],[0.7777777777777778,\"#6ece58\"],[0.8888888888888888,\"#b5de2b\"],[1.0,\"#fde725\"]],\"type\":\"surface\"}],\"table\":[{\"cells\":{\"fill\":{\"color\":\"rgb(237,237,237)\"},\"line\":{\"color\":\"white\"}},\"header\":{\"fill\":{\"color\":\"rgb(217,217,217)\"},\"line\":{\"color\":\"white\"}},\"type\":\"table\"}]},\"layout\":{\"annotationdefaults\":{\"arrowhead\":0,\"arrowwidth\":1},\"autotypenumbers\":\"strict\",\"coloraxis\":{\"colorbar\":{\"outlinewidth\":1,\"tickcolor\":\"rgb(36,36,36)\",\"ticks\":\"outside\"}},\"colorscale\":{\"diverging\":[[0.0,\"rgb(103,0,31)\"],[0.1,\"rgb(178,24,43)\"],[0.2,\"rgb(214,96,77)\"],[0.3,\"rgb(244,165,130)\"],[0.4,\"rgb(253,219,199)\"],[0.5,\"rgb(247,247,247)\"],[0.6,\"rgb(209,229,240)\"],[0.7,\"rgb(146,197,222)\"],[0.8,\"rgb(67,147,195)\"],[0.9,\"rgb(33,102,172)\"],[1.0,\"rgb(5,48,97)\"]],\"sequential\":[[0.0,\"#440154\"],[0.1111111111111111,\"#482878\"],[0.2222222222222222,\"#3e4989\"],[0.3333333333333333,\"#31688e\"],[0.4444444444444444,\"#26828e\"],[0.5555555555555556,\"#1f9e89\"],[0.6666666666666666,\"#35b779\"],[0.7777777777777778,\"#6ece58\"],[0.8888888888888888,\"#b5de2b\"],[1.0,\"#fde725\"]],\"sequentialminus\":[[0.0,\"#440154\"],[0.1111111111111111,\"#482878\"],[0.2222222222222222,\"#3e4989\"],[0.3333333333333333,\"#31688e\"],[0.4444444444444444,\"#26828e\"],[0.5555555555555556,\"#1f9e89\"],[0.6666666666666666,\"#35b779\"],[0.7777777777777778,\"#6ece58\"],[0.8888888888888888,\"#b5de2b\"],[1.0,\"#fde725\"]]},\"colorway\":[\"#91268F\",\"#8CC63E\",\"#00A7A0\",\"#F05A28\",\"#4C4C4C\",\"#630460\",\"#9f3913\",\"#588527\",\"#00716c\",\"#3e4040\"],\"font\":{\"color\":\"rgb(36,36,36)\",\"family\":\"Poppins\",\"size\":11},\"geo\":{\"bgcolor\":\"white\",\"lakecolor\":\"white\",\"landcolor\":\"white\",\"showlakes\":true,\"showland\":true,\"subunitcolor\":\"white\"},\"hoverlabel\":{\"align\":\"left\"},\"hovermode\":\"closest\",\"mapbox\":{\"style\":\"light\"},\"paper_bgcolor\":\"white\",\"plot_bgcolor\":\"white\",\"polar\":{\"angularaxis\":{\"gridcolor\":\"rgb(232,232,232)\",\"linecolor\":\"rgb(36,36,36)\",\"showgrid\":false,\"showline\":true,\"ticks\":\"outside\"},\"bgcolor\":\"white\",\"radialaxis\":{\"gridcolor\":\"rgb(232,232,232)\",\"linecolor\":\"rgb(36,36,36)\",\"showgrid\":false,\"showline\":true,\"ticks\":\"outside\"}},\"scene\":{\"xaxis\":{\"backgroundcolor\":\"white\",\"gridcolor\":\"rgb(232,232,232)\",\"gridwidth\":2,\"linecolor\":\"rgb(36,36,36)\",\"showbackground\":true,\"showgrid\":false,\"showline\":true,\"ticks\":\"outside\",\"zeroline\":false,\"zerolinecolor\":\"rgb(36,36,36)\"},\"yaxis\":{\"backgroundcolor\":\"white\",\"gridcolor\":\"rgb(232,232,232)\",\"gridwidth\":2,\"linecolor\":\"rgb(36,36,36)\",\"showbackground\":true,\"showgrid\":false,\"showline\":true,\"ticks\":\"outside\",\"zeroline\":false,\"zerolinecolor\":\"rgb(36,36,36)\"},\"zaxis\":{\"backgroundcolor\":\"white\",\"gridcolor\":\"rgb(232,232,232)\",\"gridwidth\":2,\"linecolor\":\"rgb(36,36,36)\",\"showbackground\":true,\"showgrid\":false,\"showline\":true,\"ticks\":\"outside\",\"zeroline\":false,\"zerolinecolor\":\"rgb(36,36,36)\"}},\"shapedefaults\":{\"fillcolor\":\"black\",\"line\":{\"width\":0},\"opacity\":0.3},\"ternary\":{\"aaxis\":{\"gridcolor\":\"rgb(232,232,232)\",\"linecolor\":\"rgb(36,36,36)\",\"showgrid\":false,\"showline\":true,\"ticks\":\"outside\"},\"baxis\":{\"gridcolor\":\"rgb(232,232,232)\",\"linecolor\":\"rgb(36,36,36)\",\"showgrid\":false,\"showline\":true,\"ticks\":\"outside\"},\"bgcolor\":\"white\",\"caxis\":{\"gridcolor\":\"rgb(232,232,232)\",\"linecolor\":\"rgb(36,36,36)\",\"showgrid\":false,\"showline\":true,\"ticks\":\"outside\"}},\"title\":{\"x\":0.05},\"xaxis\":{\"automargin\":true,\"gridcolor\":\"rgb(232,232,232)\",\"linecolor\":\"rgb(36,36,36)\",\"showgrid\":false,\"showline\":true,\"ticks\":\"outside\",\"title\":{\"standoff\":15},\"zeroline\":false,\"zerolinecolor\":\"rgb(36,36,36)\"},\"yaxis\":{\"automargin\":true,\"gridcolor\":\"rgb(232,232,232)\",\"linecolor\":\"rgb(36,36,36)\",\"showgrid\":false,\"showline\":true,\"ticks\":\"outside\",\"title\":{\"standoff\":15},\"zeroline\":false,\"zerolinecolor\":\"rgb(36,36,36)\"}}},\"xaxis\":{\"anchor\":\"y\",\"domain\":[0.0,1.0],\"title\":{\"text\":\"Capacity\"}},\"yaxis\":{\"anchor\":\"x\",\"domain\":[0.0,1.0],\"title\":{\"text\":\"Model Boardings\"}},\"legend\":{\"title\":{\"text\":\"color\"},\"tracegroupgap\":0},\"title\":{\"text\":\"Model Boardings vs Capacity\"},\"height\":600,\"width\":800},                        {\"responsive\": true}                    ).then(function(){\n",
       "                            \n",
       "var gd = document.getElementById('d54b8ff2-70d8-4dd7-8301-667c572719f1');\n",
       "var x = new MutationObserver(function (mutations, observer) {{\n",
       "        var display = window.getComputedStyle(gd).display;\n",
       "        if (!display || display === 'none') {{\n",
       "            console.log([gd, 'removed!']);\n",
       "            Plotly.purge(gd);\n",
       "            observer.disconnect();\n",
       "        }}\n",
       "}});\n",
       "\n",
       "// Listen for the removal of the full notebook cells\n",
       "var notebookContainer = gd.closest('#notebook-container');\n",
       "if (notebookContainer) {{\n",
       "    x.observe(notebookContainer, {childList: true});\n",
       "}}\n",
       "\n",
       "// Listen for the clearing of the current output cell\n",
       "var outputEl = gd.closest('.output');\n",
       "if (outputEl) {{\n",
       "    x.observe(outputEl, {childList: true});\n",
       "}}\n",
       "\n",
       "                        })                };                });            </script>        </div>"
      ]
     },
     "metadata": {},
     "output_type": "display_data"
    }
   ],
   "source": [
    "df['color'] = np.where(df['Boardings/Capacity'] > 1, 'Boardings/Capacity > 1', 'Boardings/Capacity <= 1')\n",
    "\n",
    "fig = px.scatter(df, y='Model Boardings', x='Capacity', title='Model Boardings vs Capacity',\n",
    "                 hover_data={'name': True, 'Model Boardings': True, 'Capacity': True, 'Boardings/Capacity': ':.2f'},\n",
    "                 color='color')\n",
    "fig.update_layout(height=600, width=800)\n",
    "fig.show()"
   ]
  },
  {
   "cell_type": "code",
   "execution_count": 40,
   "id": "2f976d83",
   "metadata": {},
   "outputs": [
    {
     "data": {
      "application/vnd.plotly.v1+json": {
       "config": {
        "plotlyServerURL": "https://plot.ly"
       },
       "data": [
        {
         "customdata": [
          [
           "Tukwila Station (CR)",
           3751,
           120,
           390
          ],
          [
           "Tacoma Dome Station",
           3752,
           283,
           2283
          ],
          [
           "Everett Station (CR)",
           3754,
           77,
           1067
          ],
          [
           "Sumner Station (CR)",
           3755,
           247,
           302
          ],
          [
           "Mukilteo Station",
           3756,
           1,
           63
          ],
          [
           "Kent Station (CR)",
           3757,
           489,
           996
          ],
          [
           "Auburn Station (CR)",
           3758,
           581,
           636
          ],
          [
           "Lakewood (CR)",
           3759,
           6,
           600
          ],
          [
           "Gateway P&R",
           3760,
           19,
           104
          ],
          [
           "Puyallup Station (SB)",
           3761,
           128,
           522
          ],
          [
           "Twin Lakes P&R",
           3762,
           3,
           600
          ],
          [
           "Crossroads Neighborhood Church",
           3763,
           6,
           107
          ],
          [
           "Overlake Transit Center",
           3764,
           122,
           323
          ],
          [
           "North Gig Harbor/Kimball Drive",
           3766,
           9,
           306
          ],
          [
           "Duvall P&R",
           3767,
           1,
           49
          ],
          [
           "Roy 'Y' P&R",
           3768,
           1,
           100
          ],
          [
           "South Hill (Elim Evangelical)",
           3769,
           19,
           20
          ],
          [
           "Parkland Transit Center",
           3770,
           6,
           62
          ],
          [
           "SR-512/I-5 (Lakewood)",
           3771,
           14,
           493
          ],
          [
           "Center Street P&R",
           3772,
           15,
           75
          ],
          [
           "Tacoma Mall Transit Center",
           3773,
           19,
           150
          ],
          [
           "South Tacoma West",
           3774,
           6,
           78
          ],
          [
           "South Tacoma East - 2",
           3775,
           1,
           44
          ],
          [
           "Point Defiance Ferry",
           3778,
           3,
           79
          ],
          [
           "South Federal P&R",
           3779,
           12,
           515
          ],
          [
           "Sultan P&R",
           3780,
           1,
           64
          ],
          [
           "Federal Way P&R (320th)",
           3781,
           80,
           877
          ],
          [
           "Auburn P&R",
           3782,
           5,
           358
          ],
          [
           "Holy Spirit Lutheran Church",
           3784,
           14,
           40
          ],
          [
           "Kent/Des Moines P&R",
           3785,
           10,
           404
          ],
          [
           "Kent/James St. P&R",
           3786,
           88,
           713
          ],
          [
           "Burien Transit Center",
           3787,
           16,
           488
          ],
          [
           "Tukwila",
           3788,
           19,
           267
          ],
          [
           "South Renton P&R",
           3790,
           32,
           385
          ],
          [
           "Renton Highlands P&R (St. Matts)",
           3791,
           2,
           128
          ],
          [
           "Issaquah Transit Center",
           3792,
           15,
           200
          ],
          [
           "Mercer Island P&R",
           3793,
           215,
           447
          ],
          [
           "Mercer Island Presbyterian",
           3794,
           26,
           30
          ],
          [
           "Newport Hills P&R",
           3795,
           6,
           275
          ],
          [
           "Newport Covenant Church",
           3797,
           1,
           75
          ],
          [
           "South Bellevue P&R",
           3798,
           42,
           1500
          ],
          [
           "Wilburton",
           3799,
           19,
           186
          ],
          [
           "Eastgate P&R",
           3800,
           39,
           1614
          ],
          [
           "North Bend P&R",
           3801,
           8,
           80
          ],
          [
           "Evergreen Point P&R",
           3802,
           15,
           51
          ],
          [
           "Grace Lutheran Church",
           3803,
           35,
           50
          ],
          [
           "South Kirkland P&R",
           3804,
           19,
           785
          ],
          [
           "Overlake P&R",
           3805,
           51,
           203
          ],
          [
           "Houghton P&R",
           3806,
           4,
           470
          ],
          [
           "Bethel Lutheran",
           3807,
           2,
           40
          ],
          [
           "Redmond P&R",
           3808,
           42,
           150
          ],
          [
           "Saint Thomas Episcopal",
           3809,
           28,
           48
          ],
          [
           "Valley Center",
           3810,
           4,
           55
          ],
          [
           "Bear Creek P&R",
           3811,
           25,
           334
          ],
          [
           "Kingsgate P&R",
           3812,
           49,
           502
          ],
          [
           "Brickyard P&R",
           3813,
           3,
           242
          ],
          [
           "Northshore P&R",
           3814,
           41,
           376
          ],
          [
           "Kenmore P&R",
           3815,
           83,
           603
          ],
          [
           "Bethany Bible Church",
           3816,
           114,
           75
          ],
          [
           "Bothell P&R",
           3817,
           123,
           220
          ],
          [
           "Woodinville P&R",
           3818,
           9,
           459
          ],
          [
           "Olson & Meyers",
           3819,
           24,
           100
          ],
          [
           "Spokane Street P&R",
           3820,
           70,
           55
          ],
          [
           "Greenlake P&R",
           3821,
           230,
           411
          ],
          [
           "Northgate TC",
           3822,
           857,
           1444
          ],
          [
           "North Jackson Park",
           3823,
           160,
           500
          ],
          [
           "Shoreline",
           3824,
           31,
           393
          ],
          [
           "112th St. & I-5",
           3825,
           11,
           399
          ],
          [
           "Ober Park",
           3826,
           8,
           48
          ],
          [
           "Vashon Heights",
           3827,
           38,
           230
          ],
          [
           "Mountlake Terrace P&R",
           3828,
           39,
           874
          ],
          [
           "Bethesda Lutheran",
           3829,
           6,
           20
          ],
          [
           "Edmonds Station",
           3830,
           2,
           259
          ],
          [
           "Edmonds P&R",
           3831,
           8,
           255
          ],
          [
           "Lynnwood P&R",
           3832,
           11,
           1896
          ],
          [
           "Swamp Creek P&R",
           3833,
           13,
           410
          ],
          [
           "Mariner P&R",
           3834,
           23,
           667
          ],
          [
           "Snohomish",
           3835,
           5,
           104
          ],
          [
           "Marysville - Ash Ave",
           3836,
           1,
           202
          ],
          [
           "Arlington P&R",
           3839,
           3,
           25
          ],
          [
           "Monroe",
           3841,
           3,
           102
          ],
          [
           "Federal Way",
           3842,
           47,
           1190
          ],
          [
           "Port Orchard Armory",
           3843,
           36,
           105
          ],
          [
           "Southworth Ferry P&R",
           3844,
           44,
           318
          ],
          [
           "McWilliams P&R",
           3845,
           1,
           151
          ],
          [
           "Bethany Lutheran Church",
           3846,
           9,
           80
          ],
          [
           "Gateway Fellowship",
           3847,
           6,
           138
          ],
          [
           "Suquamish United Church of Christ",
           3850,
           2,
           65
          ],
          [
           "Bainbridge Island Ferry",
           3851,
           72,
           187
          ],
          [
           "Puyallup Station (NB)",
           3852,
           14,
           522
          ],
          [
           "72nd Street Transit Center",
           3853,
           2,
           68
          ],
          [
           "Aurora Village TC",
           3856,
           79,
           202
          ],
          [
           "Aurora Nazarene",
           3857,
           31,
           116
          ],
          [
           "Saint Margaret's Episcopal",
           3858,
           16,
           64
          ],
          [
           "Lake Meridian P&R",
           3861,
           22,
           172
          ],
          [
           "Smokey Pt. Church",
           3862,
           4,
           50
          ],
          [
           "Eastmont P&R",
           3863,
           1,
           389
          ],
          [
           "McCollum Park P&R",
           3864,
           21,
           409
          ],
          [
           "Canyon Park P&R",
           3865,
           22,
           298
          ],
          [
           "Korean Presby. P&R",
           3866,
           10,
           25
          ],
          [
           "Poulsbo Church of the Nazarene",
           3868,
           1,
           266
          ],
          [
           "Harper Evangelical Free Church",
           3870,
           8,
           462
          ],
          [
           "Mullenix Road",
           3871,
           1,
           92
          ],
          [
           "TCC P&R",
           3873,
           20,
           95
          ],
          [
           "Ash Way P&R",
           3874,
           90,
           1019
          ],
          [
           "Bonney Lake P&R",
           3875,
           6,
           356
          ],
          [
           "Tukwila Int. Station",
           3876,
           618,
           600
          ],
          [
           "South Hill P&R",
           3877,
           19,
           354
          ],
          [
           "South Tacoma East - 1",
           3878,
           1,
           33
          ],
          [
           "Issaquah Highlands",
           3879,
           28,
           1000
          ],
          [
           "Lake Stevens TC",
           3880,
           7,
           207
          ],
          [
           "Liberty Bay Presbyterian",
           3881,
           2,
           90
          ],
          [
           "NK Baptist",
           3882,
           2,
           57
          ],
          [
           "Preston P&R",
           3883,
           37,
           53
          ],
          [
           "Bayside Community Church",
           3884,
           1,
           210
          ],
          [
           "Bremerton Ferry",
           3886,
           42,
           566
          ],
          [
           "Puyallup Fair's Red Lot",
           3888,
           308,
           219
          ],
          [
           "Marysville - Cedar & Grove",
           3889,
           2,
           213
          ],
          [
           "Stanwood II",
           3890,
           1,
           74
          ],
          [
           "Marysville I P&R",
           3891,
           5,
           74
          ],
          [
           "Martha Lake Covenant Church",
           3892,
           4,
           75
          ],
          [
           "South Sammammish P&R",
           3893,
           2,
           265
          ],
          [
           "Renton City Municipal Garage",
           3894,
           17,
           150
          ],
          [
           "Tibbetts Lot",
           3895,
           7,
           170
          ],
          [
           "Renton Transit Center",
           3896,
           10,
           150
          ],
          [
           "Calvary Christian Assembly",
           3897,
           106,
           125
          ],
          [
           "Maple Valley Town Square",
           3898,
           4,
           90
          ],
          [
           "All Saints Lutheran Church",
           3899,
           10,
           75
          ],
          [
           "City View Church",
           3900,
           73,
           96
          ],
          [
           "Northwest University 6710 Bldg.",
           3901,
           20,
           61
          ],
          [
           "Sammamish Lutheran P&R",
           3902,
           2,
           54
          ],
          [
           "Redmond Ridge P&R",
           3903,
           1,
           52
          ],
          [
           "Kennydale United Methodist Church",
           3904,
           4,
           50
          ],
          [
           "Nativity Lutheran Church",
           3905,
           5,
           49
          ],
          [
           "South SeaTac (LR)",
           3907,
           1318,
           1160
          ],
          [
           "Everett Station",
           3908,
           47,
           160
          ],
          [
           null,
           3951,
           2,
           54
          ]
         ],
         "hovertemplate": "Boardings/Capacity=%{marker.color}<br>lat=%{lat}<br>lon=%{lon}<br>name=%{customdata[0]}<br>taz=%{customdata[1]}<br>Model Boardings=%{customdata[2]}<br>Capacity=%{customdata[3]}<extra></extra>",
         "lat": [
          47.459791189113055,
          47.240587026940496,
          47.97553008822413,
          47.201048326678425,
          47.949202090593815,
          47.383970408531425,
          47.30597098022815,
          47.153298431654285,
          47.56718379854233,
          47.193060762628754,
          47.29373336434266,
          47.631646481329874,
          47.64429306998266,
          47.3163618931415,
          47.74282207119212,
          47.08271784155433,
          47.140757778268615,
          47.14791172694066,
          47.161484802874284,
          47.23400250827875,
          47.21362968300981,
          47.20552052830966,
          47.20622110948438,
          47.30559584671795,
          47.289041380796476,
          47.86327921753268,
          47.31163591874175,
          47.32142070370895,
          47.7104244936842,
          47.39168729512872,
          47.38491251743171,
          47.469518524026284,
          47.48197741301064,
          47.47271938615727,
          47.50715467593467,
          47.5421344859425,
          47.58878969142359,
          47.57701316304821,
          47.55704702946253,
          47.564129961427035,
          47.58629181288903,
          47.60395259926627,
          47.580583829158485,
          47.49597432021159,
          47.63677734251024,
          47.616380743797244,
          47.64418998070187,
          47.63297717439434,
          47.66816331814846,
          47.75569187858501,
          47.6765003576322,
          47.62160396082053,
          47.42287235072545,
          47.674169895277565,
          47.71630675038611,
          47.74096553654258,
          47.76143815613439,
          47.75869948424539,
          47.75911072833425,
          47.759457740337254,
          47.75702879699488,
          47.520273185221846,
          47.571714184646375,
          47.67673605768736,
          47.70239443761157,
          47.735650070604855,
          47.76687666732243,
          47.897149496501655,
          47.45193656025647,
          47.50832497753617,
          47.786023838048486,
          47.786405217140484,
          47.81083814590226,
          47.805505328682436,
          47.81595811606588,
          47.851158747803034,
          47.879273837323716,
          47.931600004686565,
          48.052799958531104,
          48.196226663014926,
          47.86853209498515,
          47.31771355238481,
          47.53346196599079,
          47.51175930997434,
          47.620810382951404,
          47.635076024273125,
          47.733914565835,
          47.733267845932694,
          47.62400593156234,
          47.19226982725735,
          47.192971542906285,
          47.77471134386238,
          47.75619875057065,
          47.56885032852624,
          47.36115476012324,
          48.15732422532287,
          47.91577651606941,
          47.880528888492265,
          47.79421797219861,
          47.78299309998247,
          47.759682723438075,
          47.50395364516145,
          47.4683127358232,
          47.24317915202268,
          47.852265826626585,
          47.17424906089401,
          47.46462822513558,
          47.161515219367466,
          47.20690802107854,
          47.54548131124219,
          47.99833018258796,
          47.73132891345255,
          47.74896727800608,
          47.52729295506841,
          47.799607552327174,
          47.56371171355699,
          47.185461659521216,
          48.06186352787003,
          48.239360081573196,
          48.05093832410037,
          47.85078851793791,
          47.582163360805794,
          47.48065386274714,
          47.54050303955318,
          47.48170670581923,
          47.67825835598132,
          47.36261650204512,
          47.35719493962773,
          47.48028761734057,
          47.66655727817533,
          47.601973031740954,
          47.68558355990292,
          47.51822107506604,
          47.4435715904644,
          47.42300305792277,
          47.60111801912681,
          47.302354813300944
         ],
         "legendgroup": "",
         "lon": [
          -122.24142204292801,
          -122.42559764232288,
          -122.19768602099377,
          -122.24474142310243,
          -122.29903798331632,
          -122.23410004243462,
          -122.23148352515318,
          -122.49859252745824,
          -122.65169744997347,
          -122.29627387444259,
          -122.3599437944882,
          -122.6376553285978,
          -122.13352825516421,
          -122.58550724037367,
          -121.98519670565817,
          -122.43467115344275,
          -122.30342870923496,
          -122.43537507130094,
          -122.4832269556689,
          -122.49605950380925,
          -122.46823390072736,
          -122.46332756461389,
          -122.4595315453806,
          -122.51464330348125,
          -122.32271243809302,
          -121.80232990722793,
          -122.30155617219685,
          -122.22738331793343,
          -122.20748786443893,
          -122.28801450038526,
          -122.24251278515935,
          -122.33865108623566,
          -122.26898729590523,
          -122.2140249890397,
          -122.18367513597434,
          -122.06181211149554,
          -122.23166518784704,
          -122.22739995414824,
          -122.1886194896657,
          -122.17018509756201,
          -122.1904053737166,
          -122.1855070751748,
          -122.15247915819556,
          -121.78890814933835,
          -122.23793067783187,
          -122.21058496428182,
          -122.19692070930883,
          -122.1356025761157,
          -122.18466300042218,
          -122.31907049448232,
          -122.12357646358394,
          -122.22848578037559,
          -122.4617588893532,
          -122.10086680270592,
          -122.18764374421475,
          -122.18801850253551,
          -122.25089711182129,
          -122.24193472527783,
          -122.25940207427163,
          -122.20174474164908,
          -122.15150344952004,
          -122.33619477501689,
          -122.36486292041623,
          -122.3207479132486,
          -122.3263535981885,
          -122.3238311992929,
          -122.34679899076795,
          -122.21539257019184,
          -122.45962271847641,
          -122.46527095271402,
          -122.31456649794684,
          -122.30895559283637,
          -122.38443648143998,
          -122.33045854744478,
          -122.29397697243073,
          -122.2762912947167,
          -122.23819674557204,
          -122.10076917207742,
          -122.18350218748834,
          -122.129183066928,
          -121.9960708438206,
          -122.30476126399772,
          -122.61872855042411,
          -122.4985314823769,
          -122.62808145181158,
          -122.53684064463692,
          -122.63927304886704,
          -122.55779654978755,
          -122.51049641551649,
          -122.29638289622436,
          -122.41141133327692,
          -122.34274243377105,
          -122.33571558742703,
          -122.16885945632364,
          -122.16596694150272,
          -122.18235612206618,
          -122.2039867300772,
          -122.22076355008004,
          -122.21165372444678,
          -122.34737059623502,
          -122.65215146199641,
          -122.51509635593781,
          -122.6219458140525,
          -122.52527889141626,
          -122.25855174480624,
          -122.18490269497767,
          -122.28690849789872,
          -122.30486983988138,
          -122.45925556454627,
          -122.01943008905627,
          -122.1037985047417,
          -122.63760529985272,
          -122.6376022779008,
          -121.93697928446608,
          -122.508528546698,
          -122.6250481725124,
          -122.29928303340452,
          -122.17950440147415,
          -122.34862259119267,
          -122.18326561243495,
          -122.2711389215377,
          -122.03642859327114,
          -122.20850143259241,
          -122.06172743208168,
          -122.20744093150329,
          -122.31799001747187,
          -122.0201427495308,
          -122.29322515985572,
          -122.22017447638363,
          -122.19590687558149,
          -122.03476548005801,
          -122.03407154200131,
          -122.20129952764448,
          -122.15522089858798,
          -122.29884833358034,
          -122.63061955933047,
          -122.25777874175822
         ],
         "marker": {
          "color": [
           0.3076923076923077,
           0.12395970214629873,
           0.07216494845360824,
           0.8178807947019867,
           0.015873015873015872,
           0.49096385542168675,
           0.9135220125786163,
           0.01,
           0.18269230769230768,
           0.24521072796934865,
           0.005,
           0.056074766355140186,
           0.37770897832817335,
           0.029411764705882353,
           0.02040816326530612,
           0.01,
           0.95,
           0.0967741935483871,
           0.028397565922920892,
           0.2,
           0.12666666666666668,
           0.07692307692307693,
           0.022727272727272728,
           0.0379746835443038,
           0.02330097087378641,
           0.015625,
           0.09122006841505131,
           0.013966480446927373,
           0.35,
           0.024752475247524754,
           0.12342215988779803,
           0.03278688524590164,
           0.07116104868913857,
           0.08311688311688312,
           0.015625,
           0.075,
           0.4809843400447427,
           0.8666666666666667,
           0.02181818181818182,
           0.013333333333333334,
           0.028,
           0.10215053763440861,
           0.024163568773234202,
           0.1,
           0.29411764705882354,
           0.7,
           0.024203821656050957,
           0.2512315270935961,
           0.00851063829787234,
           0.05,
           0.28,
           0.5833333333333334,
           0.07272727272727272,
           0.0748502994011976,
           0.09760956175298804,
           0.012396694214876033,
           0.10904255319148937,
           0.13764510779436154,
           1.52,
           0.5590909090909091,
           0.0196078431372549,
           0.24,
           1.2727272727272727,
           0.559610705596107,
           0.5934903047091413,
           0.32,
           0.07888040712468193,
           0.02756892230576441,
           0.16666666666666666,
           0.16521739130434782,
           0.04462242562929062,
           0.3,
           0.007722007722007722,
           0.03137254901960784,
           0.0058016877637130804,
           0.03170731707317073,
           0.034482758620689655,
           0.04807692307692308,
           0.0049504950495049506,
           0.12,
           0.029411764705882353,
           0.03949579831932773,
           0.34285714285714286,
           0.13836477987421383,
           0.006622516556291391,
           0.1125,
           0.043478260869565216,
           0.03076923076923077,
           0.3850267379679144,
           0.02681992337164751,
           0.029411764705882353,
           0.3910891089108911,
           0.2672413793103448,
           0.25,
           0.12790697674418605,
           0.08,
           0.002570694087403599,
           0.05134474327628362,
           0.0738255033557047,
           0.4,
           0.0037593984962406013,
           0.017316017316017316,
           0.010869565217391304,
           0.21052631578947367,
           0.08832188420019627,
           0.016853932584269662,
           1.03,
           0.05367231638418079,
           0.030303030303030304,
           0.028,
           0.033816425120772944,
           0.022222222222222223,
           0.03508771929824561,
           0.6981132075471698,
           0.004761904761904762,
           0.07420494699646643,
           1.4063926940639269,
           0.009389671361502348,
           0.013513513513513514,
           0.06756756756756757,
           0.05333333333333334,
           0.007547169811320755,
           0.11333333333333333,
           0.041176470588235294,
           0.06666666666666667,
           0.848,
           0.044444444444444446,
           0.13333333333333333,
           0.7604166666666666,
           0.32786885245901637,
           0.037037037037037035,
           0.019230769230769232,
           0.08,
           0.10204081632653061,
           1.1362068965517242,
           0.29375,
           0.037037037037037035
          ],
          "coloraxis": "coloraxis",
          "size": [
           0.3076923076923077,
           0.12395970214629873,
           0.07216494845360824,
           0.8178807947019867,
           0.015873015873015872,
           0.49096385542168675,
           0.9135220125786163,
           0.01,
           0.18269230769230768,
           0.24521072796934865,
           0.005,
           0.056074766355140186,
           0.37770897832817335,
           0.029411764705882353,
           0.02040816326530612,
           0.01,
           0.95,
           0.0967741935483871,
           0.028397565922920892,
           0.2,
           0.12666666666666668,
           0.07692307692307693,
           0.022727272727272728,
           0.0379746835443038,
           0.02330097087378641,
           0.015625,
           0.09122006841505131,
           0.013966480446927373,
           0.35,
           0.024752475247524754,
           0.12342215988779803,
           0.03278688524590164,
           0.07116104868913857,
           0.08311688311688312,
           0.015625,
           0.075,
           0.4809843400447427,
           0.8666666666666667,
           0.02181818181818182,
           0.013333333333333334,
           0.028,
           0.10215053763440861,
           0.024163568773234202,
           0.1,
           0.29411764705882354,
           0.7,
           0.024203821656050957,
           0.2512315270935961,
           0.00851063829787234,
           0.05,
           0.28,
           0.5833333333333334,
           0.07272727272727272,
           0.0748502994011976,
           0.09760956175298804,
           0.012396694214876033,
           0.10904255319148937,
           0.13764510779436154,
           1.52,
           0.5590909090909091,
           0.0196078431372549,
           0.24,
           1.2727272727272727,
           0.559610705596107,
           0.5934903047091413,
           0.32,
           0.07888040712468193,
           0.02756892230576441,
           0.16666666666666666,
           0.16521739130434782,
           0.04462242562929062,
           0.3,
           0.007722007722007722,
           0.03137254901960784,
           0.0058016877637130804,
           0.03170731707317073,
           0.034482758620689655,
           0.04807692307692308,
           0.0049504950495049506,
           0.12,
           0.029411764705882353,
           0.03949579831932773,
           0.34285714285714286,
           0.13836477987421383,
           0.006622516556291391,
           0.1125,
           0.043478260869565216,
           0.03076923076923077,
           0.3850267379679144,
           0.02681992337164751,
           0.029411764705882353,
           0.3910891089108911,
           0.2672413793103448,
           0.25,
           0.12790697674418605,
           0.08,
           0.002570694087403599,
           0.05134474327628362,
           0.0738255033557047,
           0.4,
           0.0037593984962406013,
           0.017316017316017316,
           0.010869565217391304,
           0.21052631578947367,
           0.08832188420019627,
           0.016853932584269662,
           1.03,
           0.05367231638418079,
           0.030303030303030304,
           0.028,
           0.033816425120772944,
           0.022222222222222223,
           0.03508771929824561,
           0.6981132075471698,
           0.004761904761904762,
           0.07420494699646643,
           1.4063926940639269,
           0.009389671361502348,
           0.013513513513513514,
           0.06756756756756757,
           0.05333333333333334,
           0.007547169811320755,
           0.11333333333333333,
           0.041176470588235294,
           0.06666666666666667,
           0.848,
           0.044444444444444446,
           0.13333333333333333,
           0.7604166666666666,
           0.32786885245901637,
           0.037037037037037035,
           0.019230769230769232,
           0.08,
           0.10204081632653061,
           1.1362068965517242,
           0.29375,
           0.037037037037037035
          ],
          "sizemode": "area",
          "sizeref": 0.0038
         },
         "mode": "markers",
         "name": "",
         "showlegend": false,
         "subplot": "mapbox",
         "type": "scattermapbox"
        }
       ],
       "layout": {
        "coloraxis": {
         "colorbar": {
          "title": {
           "text": "Boardings/Capacity"
          }
         },
         "colorscale": [
          [
           0.0,
           "#440154"
          ],
          [
           0.1111111111111111,
           "#482878"
          ],
          [
           0.2222222222222222,
           "#3e4989"
          ],
          [
           0.3333333333333333,
           "#31688e"
          ],
          [
           0.4444444444444444,
           "#26828e"
          ],
          [
           0.5555555555555556,
           "#1f9e89"
          ],
          [
           0.6666666666666666,
           "#35b779"
          ],
          [
           0.7777777777777778,
           "#6ece58"
          ],
          [
           0.8888888888888888,
           "#b5de2b"
          ],
          [
           1.0,
           "#fde725"
          ]
         ]
        },
        "legend": {
         "itemsizing": "constant",
         "tracegroupgap": 0
        },
        "mapbox": {
         "center": {
          "lat": 47.58178352031616,
          "lon": -122.29187587250684
         },
         "domain": {
          "x": [
           0.0,
           1.0
          ],
          "y": [
           0.0,
           1.0
          ]
         },
         "style": "carto-positron",
         "zoom": 8
        },
        "margin": {
         "b": 0,
         "l": 0,
         "r": 0,
         "t": 0
        },
        "template": {
         "data": {
          "bar": [
           {
            "error_x": {
             "color": "rgb(36,36,36)"
            },
            "error_y": {
             "color": "rgb(36,36,36)"
            },
            "marker": {
             "line": {
              "color": "white",
              "width": 0.5
             },
             "pattern": {
              "fillmode": "overlay",
              "size": 10,
              "solidity": 0.2
             }
            },
            "type": "bar"
           }
          ],
          "barpolar": [
           {
            "marker": {
             "line": {
              "color": "white",
              "width": 0.5
             },
             "pattern": {
              "fillmode": "overlay",
              "size": 10,
              "solidity": 0.2
             }
            },
            "type": "barpolar"
           }
          ],
          "carpet": [
           {
            "aaxis": {
             "endlinecolor": "rgb(36,36,36)",
             "gridcolor": "white",
             "linecolor": "white",
             "minorgridcolor": "white",
             "startlinecolor": "rgb(36,36,36)"
            },
            "baxis": {
             "endlinecolor": "rgb(36,36,36)",
             "gridcolor": "white",
             "linecolor": "white",
             "minorgridcolor": "white",
             "startlinecolor": "rgb(36,36,36)"
            },
            "type": "carpet"
           }
          ],
          "choropleth": [
           {
            "colorbar": {
             "outlinewidth": 1,
             "tickcolor": "rgb(36,36,36)",
             "ticks": "outside"
            },
            "type": "choropleth"
           }
          ],
          "contour": [
           {
            "colorbar": {
             "outlinewidth": 1,
             "tickcolor": "rgb(36,36,36)",
             "ticks": "outside"
            },
            "colorscale": [
             [
              0.0,
              "#440154"
             ],
             [
              0.1111111111111111,
              "#482878"
             ],
             [
              0.2222222222222222,
              "#3e4989"
             ],
             [
              0.3333333333333333,
              "#31688e"
             ],
             [
              0.4444444444444444,
              "#26828e"
             ],
             [
              0.5555555555555556,
              "#1f9e89"
             ],
             [
              0.6666666666666666,
              "#35b779"
             ],
             [
              0.7777777777777778,
              "#6ece58"
             ],
             [
              0.8888888888888888,
              "#b5de2b"
             ],
             [
              1.0,
              "#fde725"
             ]
            ],
            "type": "contour"
           }
          ],
          "contourcarpet": [
           {
            "colorbar": {
             "outlinewidth": 1,
             "tickcolor": "rgb(36,36,36)",
             "ticks": "outside"
            },
            "type": "contourcarpet"
           }
          ],
          "heatmap": [
           {
            "colorbar": {
             "outlinewidth": 1,
             "tickcolor": "rgb(36,36,36)",
             "ticks": "outside"
            },
            "colorscale": [
             [
              0.0,
              "#440154"
             ],
             [
              0.1111111111111111,
              "#482878"
             ],
             [
              0.2222222222222222,
              "#3e4989"
             ],
             [
              0.3333333333333333,
              "#31688e"
             ],
             [
              0.4444444444444444,
              "#26828e"
             ],
             [
              0.5555555555555556,
              "#1f9e89"
             ],
             [
              0.6666666666666666,
              "#35b779"
             ],
             [
              0.7777777777777778,
              "#6ece58"
             ],
             [
              0.8888888888888888,
              "#b5de2b"
             ],
             [
              1.0,
              "#fde725"
             ]
            ],
            "type": "heatmap"
           }
          ],
          "heatmapgl": [
           {
            "colorbar": {
             "outlinewidth": 1,
             "tickcolor": "rgb(36,36,36)",
             "ticks": "outside"
            },
            "colorscale": [
             [
              0.0,
              "#440154"
             ],
             [
              0.1111111111111111,
              "#482878"
             ],
             [
              0.2222222222222222,
              "#3e4989"
             ],
             [
              0.3333333333333333,
              "#31688e"
             ],
             [
              0.4444444444444444,
              "#26828e"
             ],
             [
              0.5555555555555556,
              "#1f9e89"
             ],
             [
              0.6666666666666666,
              "#35b779"
             ],
             [
              0.7777777777777778,
              "#6ece58"
             ],
             [
              0.8888888888888888,
              "#b5de2b"
             ],
             [
              1.0,
              "#fde725"
             ]
            ],
            "type": "heatmapgl"
           }
          ],
          "histogram": [
           {
            "marker": {
             "line": {
              "color": "white",
              "width": 0.6
             }
            },
            "type": "histogram"
           }
          ],
          "histogram2d": [
           {
            "colorbar": {
             "outlinewidth": 1,
             "tickcolor": "rgb(36,36,36)",
             "ticks": "outside"
            },
            "colorscale": [
             [
              0.0,
              "#440154"
             ],
             [
              0.1111111111111111,
              "#482878"
             ],
             [
              0.2222222222222222,
              "#3e4989"
             ],
             [
              0.3333333333333333,
              "#31688e"
             ],
             [
              0.4444444444444444,
              "#26828e"
             ],
             [
              0.5555555555555556,
              "#1f9e89"
             ],
             [
              0.6666666666666666,
              "#35b779"
             ],
             [
              0.7777777777777778,
              "#6ece58"
             ],
             [
              0.8888888888888888,
              "#b5de2b"
             ],
             [
              1.0,
              "#fde725"
             ]
            ],
            "type": "histogram2d"
           }
          ],
          "histogram2dcontour": [
           {
            "colorbar": {
             "outlinewidth": 1,
             "tickcolor": "rgb(36,36,36)",
             "ticks": "outside"
            },
            "colorscale": [
             [
              0.0,
              "#440154"
             ],
             [
              0.1111111111111111,
              "#482878"
             ],
             [
              0.2222222222222222,
              "#3e4989"
             ],
             [
              0.3333333333333333,
              "#31688e"
             ],
             [
              0.4444444444444444,
              "#26828e"
             ],
             [
              0.5555555555555556,
              "#1f9e89"
             ],
             [
              0.6666666666666666,
              "#35b779"
             ],
             [
              0.7777777777777778,
              "#6ece58"
             ],
             [
              0.8888888888888888,
              "#b5de2b"
             ],
             [
              1.0,
              "#fde725"
             ]
            ],
            "type": "histogram2dcontour"
           }
          ],
          "mesh3d": [
           {
            "colorbar": {
             "outlinewidth": 1,
             "tickcolor": "rgb(36,36,36)",
             "ticks": "outside"
            },
            "type": "mesh3d"
           }
          ],
          "parcoords": [
           {
            "line": {
             "colorbar": {
              "outlinewidth": 1,
              "tickcolor": "rgb(36,36,36)",
              "ticks": "outside"
             }
            },
            "type": "parcoords"
           }
          ],
          "pie": [
           {
            "automargin": true,
            "type": "pie"
           }
          ],
          "scatter": [
           {
            "fillpattern": {
             "fillmode": "overlay",
             "size": 10,
             "solidity": 0.2
            },
            "type": "scatter"
           }
          ],
          "scatter3d": [
           {
            "line": {
             "colorbar": {
              "outlinewidth": 1,
              "tickcolor": "rgb(36,36,36)",
              "ticks": "outside"
             }
            },
            "marker": {
             "colorbar": {
              "outlinewidth": 1,
              "tickcolor": "rgb(36,36,36)",
              "ticks": "outside"
             }
            },
            "type": "scatter3d"
           }
          ],
          "scattercarpet": [
           {
            "marker": {
             "colorbar": {
              "outlinewidth": 1,
              "tickcolor": "rgb(36,36,36)",
              "ticks": "outside"
             }
            },
            "type": "scattercarpet"
           }
          ],
          "scattergeo": [
           {
            "marker": {
             "colorbar": {
              "outlinewidth": 1,
              "tickcolor": "rgb(36,36,36)",
              "ticks": "outside"
             }
            },
            "type": "scattergeo"
           }
          ],
          "scattergl": [
           {
            "marker": {
             "colorbar": {
              "outlinewidth": 1,
              "tickcolor": "rgb(36,36,36)",
              "ticks": "outside"
             }
            },
            "type": "scattergl"
           }
          ],
          "scattermapbox": [
           {
            "marker": {
             "colorbar": {
              "outlinewidth": 1,
              "tickcolor": "rgb(36,36,36)",
              "ticks": "outside"
             }
            },
            "type": "scattermapbox"
           }
          ],
          "scatterpolar": [
           {
            "marker": {
             "colorbar": {
              "outlinewidth": 1,
              "tickcolor": "rgb(36,36,36)",
              "ticks": "outside"
             }
            },
            "type": "scatterpolar"
           }
          ],
          "scatterpolargl": [
           {
            "marker": {
             "colorbar": {
              "outlinewidth": 1,
              "tickcolor": "rgb(36,36,36)",
              "ticks": "outside"
             }
            },
            "type": "scatterpolargl"
           }
          ],
          "scatterternary": [
           {
            "marker": {
             "colorbar": {
              "outlinewidth": 1,
              "tickcolor": "rgb(36,36,36)",
              "ticks": "outside"
             }
            },
            "type": "scatterternary"
           }
          ],
          "surface": [
           {
            "colorbar": {
             "outlinewidth": 1,
             "tickcolor": "rgb(36,36,36)",
             "ticks": "outside"
            },
            "colorscale": [
             [
              0.0,
              "#440154"
             ],
             [
              0.1111111111111111,
              "#482878"
             ],
             [
              0.2222222222222222,
              "#3e4989"
             ],
             [
              0.3333333333333333,
              "#31688e"
             ],
             [
              0.4444444444444444,
              "#26828e"
             ],
             [
              0.5555555555555556,
              "#1f9e89"
             ],
             [
              0.6666666666666666,
              "#35b779"
             ],
             [
              0.7777777777777778,
              "#6ece58"
             ],
             [
              0.8888888888888888,
              "#b5de2b"
             ],
             [
              1.0,
              "#fde725"
             ]
            ],
            "type": "surface"
           }
          ],
          "table": [
           {
            "cells": {
             "fill": {
              "color": "rgb(237,237,237)"
             },
             "line": {
              "color": "white"
             }
            },
            "header": {
             "fill": {
              "color": "rgb(217,217,217)"
             },
             "line": {
              "color": "white"
             }
            },
            "type": "table"
           }
          ]
         },
         "layout": {
          "annotationdefaults": {
           "arrowhead": 0,
           "arrowwidth": 1
          },
          "autotypenumbers": "strict",
          "coloraxis": {
           "colorbar": {
            "outlinewidth": 1,
            "tickcolor": "rgb(36,36,36)",
            "ticks": "outside"
           }
          },
          "colorscale": {
           "diverging": [
            [
             0.0,
             "rgb(103,0,31)"
            ],
            [
             0.1,
             "rgb(178,24,43)"
            ],
            [
             0.2,
             "rgb(214,96,77)"
            ],
            [
             0.3,
             "rgb(244,165,130)"
            ],
            [
             0.4,
             "rgb(253,219,199)"
            ],
            [
             0.5,
             "rgb(247,247,247)"
            ],
            [
             0.6,
             "rgb(209,229,240)"
            ],
            [
             0.7,
             "rgb(146,197,222)"
            ],
            [
             0.8,
             "rgb(67,147,195)"
            ],
            [
             0.9,
             "rgb(33,102,172)"
            ],
            [
             1.0,
             "rgb(5,48,97)"
            ]
           ],
           "sequential": [
            [
             0.0,
             "#440154"
            ],
            [
             0.1111111111111111,
             "#482878"
            ],
            [
             0.2222222222222222,
             "#3e4989"
            ],
            [
             0.3333333333333333,
             "#31688e"
            ],
            [
             0.4444444444444444,
             "#26828e"
            ],
            [
             0.5555555555555556,
             "#1f9e89"
            ],
            [
             0.6666666666666666,
             "#35b779"
            ],
            [
             0.7777777777777778,
             "#6ece58"
            ],
            [
             0.8888888888888888,
             "#b5de2b"
            ],
            [
             1.0,
             "#fde725"
            ]
           ],
           "sequentialminus": [
            [
             0.0,
             "#440154"
            ],
            [
             0.1111111111111111,
             "#482878"
            ],
            [
             0.2222222222222222,
             "#3e4989"
            ],
            [
             0.3333333333333333,
             "#31688e"
            ],
            [
             0.4444444444444444,
             "#26828e"
            ],
            [
             0.5555555555555556,
             "#1f9e89"
            ],
            [
             0.6666666666666666,
             "#35b779"
            ],
            [
             0.7777777777777778,
             "#6ece58"
            ],
            [
             0.8888888888888888,
             "#b5de2b"
            ],
            [
             1.0,
             "#fde725"
            ]
           ]
          },
          "colorway": [
           "#91268F",
           "#8CC63E",
           "#00A7A0",
           "#F05A28",
           "#4C4C4C",
           "#630460",
           "#9f3913",
           "#588527",
           "#00716c",
           "#3e4040"
          ],
          "font": {
           "color": "rgb(36,36,36)",
           "family": "Poppins",
           "size": 11
          },
          "geo": {
           "bgcolor": "white",
           "lakecolor": "white",
           "landcolor": "white",
           "showlakes": true,
           "showland": true,
           "subunitcolor": "white"
          },
          "hoverlabel": {
           "align": "left"
          },
          "hovermode": "closest",
          "mapbox": {
           "style": "light"
          },
          "paper_bgcolor": "white",
          "plot_bgcolor": "white",
          "polar": {
           "angularaxis": {
            "gridcolor": "rgb(232,232,232)",
            "linecolor": "rgb(36,36,36)",
            "showgrid": false,
            "showline": true,
            "ticks": "outside"
           },
           "bgcolor": "white",
           "radialaxis": {
            "gridcolor": "rgb(232,232,232)",
            "linecolor": "rgb(36,36,36)",
            "showgrid": false,
            "showline": true,
            "ticks": "outside"
           }
          },
          "scene": {
           "xaxis": {
            "backgroundcolor": "white",
            "gridcolor": "rgb(232,232,232)",
            "gridwidth": 2,
            "linecolor": "rgb(36,36,36)",
            "showbackground": true,
            "showgrid": false,
            "showline": true,
            "ticks": "outside",
            "zeroline": false,
            "zerolinecolor": "rgb(36,36,36)"
           },
           "yaxis": {
            "backgroundcolor": "white",
            "gridcolor": "rgb(232,232,232)",
            "gridwidth": 2,
            "linecolor": "rgb(36,36,36)",
            "showbackground": true,
            "showgrid": false,
            "showline": true,
            "ticks": "outside",
            "zeroline": false,
            "zerolinecolor": "rgb(36,36,36)"
           },
           "zaxis": {
            "backgroundcolor": "white",
            "gridcolor": "rgb(232,232,232)",
            "gridwidth": 2,
            "linecolor": "rgb(36,36,36)",
            "showbackground": true,
            "showgrid": false,
            "showline": true,
            "ticks": "outside",
            "zeroline": false,
            "zerolinecolor": "rgb(36,36,36)"
           }
          },
          "shapedefaults": {
           "fillcolor": "black",
           "line": {
            "width": 0
           },
           "opacity": 0.3
          },
          "ternary": {
           "aaxis": {
            "gridcolor": "rgb(232,232,232)",
            "linecolor": "rgb(36,36,36)",
            "showgrid": false,
            "showline": true,
            "ticks": "outside"
           },
           "baxis": {
            "gridcolor": "rgb(232,232,232)",
            "linecolor": "rgb(36,36,36)",
            "showgrid": false,
            "showline": true,
            "ticks": "outside"
           },
           "bgcolor": "white",
           "caxis": {
            "gridcolor": "rgb(232,232,232)",
            "linecolor": "rgb(36,36,36)",
            "showgrid": false,
            "showline": true,
            "ticks": "outside"
           }
          },
          "title": {
           "x": 0.05
          },
          "xaxis": {
           "automargin": true,
           "gridcolor": "rgb(232,232,232)",
           "linecolor": "rgb(36,36,36)",
           "showgrid": false,
           "showline": true,
           "ticks": "outside",
           "title": {
            "standoff": 15
           },
           "zeroline": false,
           "zerolinecolor": "rgb(36,36,36)"
          },
          "yaxis": {
           "automargin": true,
           "gridcolor": "rgb(232,232,232)",
           "linecolor": "rgb(36,36,36)",
           "showgrid": false,
           "showline": true,
           "ticks": "outside",
           "title": {
            "standoff": 15
           },
           "zeroline": false,
           "zerolinecolor": "rgb(36,36,36)"
          }
         }
        },
        "title": {
         "text": "Park and Ride Usage vs Capacity"
        }
       }
      },
      "text/html": [
       "<div>                            <div id=\"47765769-ba55-406a-93b9-d2f8322ed1c9\" class=\"plotly-graph-div\" style=\"height:525px; width:100%;\"></div>            <script type=\"text/javascript\">                require([\"plotly\"], function(Plotly) {                    window.PLOTLYENV=window.PLOTLYENV || {};                                    if (document.getElementById(\"47765769-ba55-406a-93b9-d2f8322ed1c9\")) {                    Plotly.newPlot(                        \"47765769-ba55-406a-93b9-d2f8322ed1c9\",                        [{\"customdata\":[[\"Tukwila Station (CR)\",3751,120,390],[\"Tacoma Dome Station\",3752,283,2283],[\"Everett Station (CR)\",3754,77,1067],[\"Sumner Station (CR)\",3755,247,302],[\"Mukilteo Station\",3756,1,63],[\"Kent Station (CR)\",3757,489,996],[\"Auburn Station (CR)\",3758,581,636],[\"Lakewood (CR)\",3759,6,600],[\"Gateway P&R\",3760,19,104],[\"Puyallup Station (SB)\",3761,128,522],[\"Twin Lakes P&R\",3762,3,600],[\"Crossroads Neighborhood Church\",3763,6,107],[\"Overlake Transit Center\",3764,122,323],[\"North Gig Harbor\\u002fKimball Drive\",3766,9,306],[\"Duvall P&R\",3767,1,49],[\"Roy 'Y' P&R\",3768,1,100],[\"South Hill (Elim Evangelical)\",3769,19,20],[\"Parkland Transit Center\",3770,6,62],[\"SR-512\\u002fI-5 (Lakewood)\",3771,14,493],[\"Center Street P&R\",3772,15,75],[\"Tacoma Mall Transit Center\",3773,19,150],[\"South Tacoma West\",3774,6,78],[\"South Tacoma East - 2\",3775,1,44],[\"Point Defiance Ferry\",3778,3,79],[\"South Federal P&R\",3779,12,515],[\"Sultan P&R\",3780,1,64],[\"Federal Way P&R (320th)\",3781,80,877],[\"Auburn P&R\",3782,5,358],[\"Holy Spirit Lutheran Church\",3784,14,40],[\"Kent\\u002fDes Moines P&R\",3785,10,404],[\"Kent\\u002fJames St. P&R\",3786,88,713],[\"Burien Transit Center\",3787,16,488],[\"Tukwila\",3788,19,267],[\"South Renton P&R\",3790,32,385],[\"Renton Highlands P&R (St. Matts)\",3791,2,128],[\"Issaquah Transit Center\",3792,15,200],[\"Mercer Island P&R\",3793,215,447],[\"Mercer Island Presbyterian\",3794,26,30],[\"Newport Hills P&R\",3795,6,275],[\"Newport Covenant Church\",3797,1,75],[\"South Bellevue P&R\",3798,42,1500],[\"Wilburton\",3799,19,186],[\"Eastgate P&R\",3800,39,1614],[\"North Bend P&R\",3801,8,80],[\"Evergreen Point P&R\",3802,15,51],[\"Grace Lutheran Church\",3803,35,50],[\"South Kirkland P&R\",3804,19,785],[\"Overlake P&R\",3805,51,203],[\"Houghton P&R\",3806,4,470],[\"Bethel Lutheran\",3807,2,40],[\"Redmond P&R\",3808,42,150],[\"Saint Thomas Episcopal\",3809,28,48],[\"Valley Center\",3810,4,55],[\"Bear Creek P&R\",3811,25,334],[\"Kingsgate P&R\",3812,49,502],[\"Brickyard P&R\",3813,3,242],[\"Northshore P&R\",3814,41,376],[\"Kenmore P&R\",3815,83,603],[\"Bethany Bible Church\",3816,114,75],[\"Bothell P&R\",3817,123,220],[\"Woodinville P&R\",3818,9,459],[\"Olson & Meyers\",3819,24,100],[\"Spokane Street P&R\",3820,70,55],[\"Greenlake P&R\",3821,230,411],[\"Northgate TC\",3822,857,1444],[\"North Jackson Park\",3823,160,500],[\"Shoreline\",3824,31,393],[\"112th St. & I-5\",3825,11,399],[\"Ober Park\",3826,8,48],[\"Vashon Heights\",3827,38,230],[\"Mountlake Terrace P&R\",3828,39,874],[\"Bethesda Lutheran\",3829,6,20],[\"Edmonds Station\",3830,2,259],[\"Edmonds P&R\",3831,8,255],[\"Lynnwood P&R\",3832,11,1896],[\"Swamp Creek P&R\",3833,13,410],[\"Mariner P&R\",3834,23,667],[\"Snohomish\",3835,5,104],[\"Marysville - Ash Ave\",3836,1,202],[\"Arlington P&R\",3839,3,25],[\"Monroe\",3841,3,102],[\"Federal Way\",3842,47,1190],[\"Port Orchard Armory\",3843,36,105],[\"Southworth Ferry P&R\",3844,44,318],[\"McWilliams P&R\",3845,1,151],[\"Bethany Lutheran Church\",3846,9,80],[\"Gateway Fellowship\",3847,6,138],[\"Suquamish United Church of Christ\",3850,2,65],[\"Bainbridge Island Ferry\",3851,72,187],[\"Puyallup Station (NB)\",3852,14,522],[\"72nd Street Transit Center\",3853,2,68],[\"Aurora Village TC\",3856,79,202],[\"Aurora Nazarene\",3857,31,116],[\"Saint Margaret's Episcopal\",3858,16,64],[\"Lake Meridian P&R\",3861,22,172],[\"Smokey Pt. Church\",3862,4,50],[\"Eastmont P&R\",3863,1,389],[\"McCollum Park P&R\",3864,21,409],[\"Canyon Park P&R\",3865,22,298],[\"Korean Presby. P&R\",3866,10,25],[\"Poulsbo Church of the Nazarene\",3868,1,266],[\"Harper Evangelical Free Church\",3870,8,462],[\"Mullenix Road\",3871,1,92],[\"TCC P&R\",3873,20,95],[\"Ash Way P&R\",3874,90,1019],[\"Bonney Lake P&R\",3875,6,356],[\"Tukwila Int. Station\",3876,618,600],[\"South Hill P&R\",3877,19,354],[\"South Tacoma East - 1\",3878,1,33],[\"Issaquah Highlands\",3879,28,1000],[\"Lake Stevens TC\",3880,7,207],[\"Liberty Bay Presbyterian\",3881,2,90],[\"NK Baptist\",3882,2,57],[\"Preston P&R\",3883,37,53],[\"Bayside Community Church\",3884,1,210],[\"Bremerton Ferry\",3886,42,566],[\"Puyallup Fair's Red Lot\",3888,308,219],[\"Marysville - Cedar & Grove\",3889,2,213],[\"Stanwood II\",3890,1,74],[\"Marysville I P&R\",3891,5,74],[\"Martha Lake Covenant Church\",3892,4,75],[\"South Sammammish P&R\",3893,2,265],[\"Renton City Municipal Garage\",3894,17,150],[\"Tibbetts Lot\",3895,7,170],[\"Renton Transit Center\",3896,10,150],[\"Calvary Christian Assembly\",3897,106,125],[\"Maple Valley Town Square\",3898,4,90],[\"All Saints Lutheran Church\",3899,10,75],[\"City View Church\",3900,73,96],[\"Northwest University 6710 Bldg.\",3901,20,61],[\"Sammamish Lutheran P&R\",3902,2,54],[\"Redmond Ridge P&R\",3903,1,52],[\"Kennydale United Methodist Church\",3904,4,50],[\"Nativity Lutheran Church\",3905,5,49],[\"South SeaTac (LR)\",3907,1318,1160],[\"Everett Station\",3908,47,160],[null,3951,2,54]],\"hovertemplate\":\"Boardings\\u002fCapacity=%{marker.color}\\u003cbr\\u003elat=%{lat}\\u003cbr\\u003elon=%{lon}\\u003cbr\\u003ename=%{customdata[0]}\\u003cbr\\u003etaz=%{customdata[1]}\\u003cbr\\u003eModel Boardings=%{customdata[2]}\\u003cbr\\u003eCapacity=%{customdata[3]}\\u003cextra\\u003e\\u003c\\u002fextra\\u003e\",\"lat\":[47.459791189113055,47.240587026940496,47.97553008822413,47.201048326678425,47.949202090593815,47.383970408531425,47.30597098022815,47.153298431654285,47.56718379854233,47.193060762628754,47.29373336434266,47.631646481329874,47.64429306998266,47.3163618931415,47.74282207119212,47.08271784155433,47.140757778268615,47.14791172694066,47.161484802874284,47.23400250827875,47.21362968300981,47.20552052830966,47.20622110948438,47.30559584671795,47.289041380796476,47.86327921753268,47.31163591874175,47.32142070370895,47.7104244936842,47.39168729512872,47.38491251743171,47.469518524026284,47.48197741301064,47.47271938615727,47.50715467593467,47.5421344859425,47.58878969142359,47.57701316304821,47.55704702946253,47.564129961427035,47.58629181288903,47.60395259926627,47.580583829158485,47.49597432021159,47.63677734251024,47.616380743797244,47.64418998070187,47.63297717439434,47.66816331814846,47.75569187858501,47.6765003576322,47.62160396082053,47.42287235072545,47.674169895277565,47.71630675038611,47.74096553654258,47.76143815613439,47.75869948424539,47.75911072833425,47.759457740337254,47.75702879699488,47.520273185221846,47.571714184646375,47.67673605768736,47.70239443761157,47.735650070604855,47.76687666732243,47.897149496501655,47.45193656025647,47.50832497753617,47.786023838048486,47.786405217140484,47.81083814590226,47.805505328682436,47.81595811606588,47.851158747803034,47.879273837323716,47.931600004686565,48.052799958531104,48.196226663014926,47.86853209498515,47.31771355238481,47.53346196599079,47.51175930997434,47.620810382951404,47.635076024273125,47.733914565835,47.733267845932694,47.62400593156234,47.19226982725735,47.192971542906285,47.77471134386238,47.75619875057065,47.56885032852624,47.36115476012324,48.15732422532287,47.91577651606941,47.880528888492265,47.79421797219861,47.78299309998247,47.759682723438075,47.50395364516145,47.4683127358232,47.24317915202268,47.852265826626585,47.17424906089401,47.46462822513558,47.161515219367466,47.20690802107854,47.54548131124219,47.99833018258796,47.73132891345255,47.74896727800608,47.52729295506841,47.799607552327174,47.56371171355699,47.185461659521216,48.06186352787003,48.239360081573196,48.05093832410037,47.85078851793791,47.582163360805794,47.48065386274714,47.54050303955318,47.48170670581923,47.67825835598132,47.36261650204512,47.35719493962773,47.48028761734057,47.66655727817533,47.601973031740954,47.68558355990292,47.51822107506604,47.4435715904644,47.42300305792277,47.60111801912681,47.302354813300944],\"legendgroup\":\"\",\"lon\":[-122.24142204292801,-122.42559764232288,-122.19768602099377,-122.24474142310243,-122.29903798331632,-122.23410004243462,-122.23148352515318,-122.49859252745824,-122.65169744997347,-122.29627387444259,-122.3599437944882,-122.6376553285978,-122.13352825516421,-122.58550724037367,-121.98519670565817,-122.43467115344275,-122.30342870923496,-122.43537507130094,-122.4832269556689,-122.49605950380925,-122.46823390072736,-122.46332756461389,-122.4595315453806,-122.51464330348125,-122.32271243809302,-121.80232990722793,-122.30155617219685,-122.22738331793343,-122.20748786443893,-122.28801450038526,-122.24251278515935,-122.33865108623566,-122.26898729590523,-122.2140249890397,-122.18367513597434,-122.06181211149554,-122.23166518784704,-122.22739995414824,-122.1886194896657,-122.17018509756201,-122.1904053737166,-122.1855070751748,-122.15247915819556,-121.78890814933835,-122.23793067783187,-122.21058496428182,-122.19692070930883,-122.1356025761157,-122.18466300042218,-122.31907049448232,-122.12357646358394,-122.22848578037559,-122.4617588893532,-122.10086680270592,-122.18764374421475,-122.18801850253551,-122.25089711182129,-122.24193472527783,-122.25940207427163,-122.20174474164908,-122.15150344952004,-122.33619477501689,-122.36486292041623,-122.3207479132486,-122.3263535981885,-122.3238311992929,-122.34679899076795,-122.21539257019184,-122.45962271847641,-122.46527095271402,-122.31456649794684,-122.30895559283637,-122.38443648143998,-122.33045854744478,-122.29397697243073,-122.2762912947167,-122.23819674557204,-122.10076917207742,-122.18350218748834,-122.129183066928,-121.9960708438206,-122.30476126399772,-122.61872855042411,-122.4985314823769,-122.62808145181158,-122.53684064463692,-122.63927304886704,-122.55779654978755,-122.51049641551649,-122.29638289622436,-122.41141133327692,-122.34274243377105,-122.33571558742703,-122.16885945632364,-122.16596694150272,-122.18235612206618,-122.2039867300772,-122.22076355008004,-122.21165372444678,-122.34737059623502,-122.65215146199641,-122.51509635593781,-122.6219458140525,-122.52527889141626,-122.25855174480624,-122.18490269497767,-122.28690849789872,-122.30486983988138,-122.45925556454627,-122.01943008905627,-122.1037985047417,-122.63760529985272,-122.6376022779008,-121.93697928446608,-122.508528546698,-122.6250481725124,-122.29928303340452,-122.17950440147415,-122.34862259119267,-122.18326561243495,-122.2711389215377,-122.03642859327114,-122.20850143259241,-122.06172743208168,-122.20744093150329,-122.31799001747187,-122.0201427495308,-122.29322515985572,-122.22017447638363,-122.19590687558149,-122.03476548005801,-122.03407154200131,-122.20129952764448,-122.15522089858798,-122.29884833358034,-122.63061955933047,-122.25777874175822],\"marker\":{\"color\":[0.3076923076923077,0.12395970214629873,0.07216494845360824,0.8178807947019867,0.015873015873015872,0.49096385542168675,0.9135220125786163,0.01,0.18269230769230768,0.24521072796934865,0.005,0.056074766355140186,0.37770897832817335,0.029411764705882353,0.02040816326530612,0.01,0.95,0.0967741935483871,0.028397565922920892,0.2,0.12666666666666668,0.07692307692307693,0.022727272727272728,0.0379746835443038,0.02330097087378641,0.015625,0.09122006841505131,0.013966480446927373,0.35,0.024752475247524754,0.12342215988779803,0.03278688524590164,0.07116104868913857,0.08311688311688312,0.015625,0.075,0.4809843400447427,0.8666666666666667,0.02181818181818182,0.013333333333333334,0.028,0.10215053763440861,0.024163568773234202,0.1,0.29411764705882354,0.7,0.024203821656050957,0.2512315270935961,0.00851063829787234,0.05,0.28,0.5833333333333334,0.07272727272727272,0.0748502994011976,0.09760956175298804,0.012396694214876033,0.10904255319148937,0.13764510779436154,1.52,0.5590909090909091,0.0196078431372549,0.24,1.2727272727272727,0.559610705596107,0.5934903047091413,0.32,0.07888040712468193,0.02756892230576441,0.16666666666666666,0.16521739130434782,0.04462242562929062,0.3,0.007722007722007722,0.03137254901960784,0.0058016877637130804,0.03170731707317073,0.034482758620689655,0.04807692307692308,0.0049504950495049506,0.12,0.029411764705882353,0.03949579831932773,0.34285714285714286,0.13836477987421383,0.006622516556291391,0.1125,0.043478260869565216,0.03076923076923077,0.3850267379679144,0.02681992337164751,0.029411764705882353,0.3910891089108911,0.2672413793103448,0.25,0.12790697674418605,0.08,0.002570694087403599,0.05134474327628362,0.0738255033557047,0.4,0.0037593984962406013,0.017316017316017316,0.010869565217391304,0.21052631578947367,0.08832188420019627,0.016853932584269662,1.03,0.05367231638418079,0.030303030303030304,0.028,0.033816425120772944,0.022222222222222223,0.03508771929824561,0.6981132075471698,0.004761904761904762,0.07420494699646643,1.4063926940639269,0.009389671361502348,0.013513513513513514,0.06756756756756757,0.05333333333333334,0.007547169811320755,0.11333333333333333,0.041176470588235294,0.06666666666666667,0.848,0.044444444444444446,0.13333333333333333,0.7604166666666666,0.32786885245901637,0.037037037037037035,0.019230769230769232,0.08,0.10204081632653061,1.1362068965517242,0.29375,0.037037037037037035],\"coloraxis\":\"coloraxis\",\"size\":[0.3076923076923077,0.12395970214629873,0.07216494845360824,0.8178807947019867,0.015873015873015872,0.49096385542168675,0.9135220125786163,0.01,0.18269230769230768,0.24521072796934865,0.005,0.056074766355140186,0.37770897832817335,0.029411764705882353,0.02040816326530612,0.01,0.95,0.0967741935483871,0.028397565922920892,0.2,0.12666666666666668,0.07692307692307693,0.022727272727272728,0.0379746835443038,0.02330097087378641,0.015625,0.09122006841505131,0.013966480446927373,0.35,0.024752475247524754,0.12342215988779803,0.03278688524590164,0.07116104868913857,0.08311688311688312,0.015625,0.075,0.4809843400447427,0.8666666666666667,0.02181818181818182,0.013333333333333334,0.028,0.10215053763440861,0.024163568773234202,0.1,0.29411764705882354,0.7,0.024203821656050957,0.2512315270935961,0.00851063829787234,0.05,0.28,0.5833333333333334,0.07272727272727272,0.0748502994011976,0.09760956175298804,0.012396694214876033,0.10904255319148937,0.13764510779436154,1.52,0.5590909090909091,0.0196078431372549,0.24,1.2727272727272727,0.559610705596107,0.5934903047091413,0.32,0.07888040712468193,0.02756892230576441,0.16666666666666666,0.16521739130434782,0.04462242562929062,0.3,0.007722007722007722,0.03137254901960784,0.0058016877637130804,0.03170731707317073,0.034482758620689655,0.04807692307692308,0.0049504950495049506,0.12,0.029411764705882353,0.03949579831932773,0.34285714285714286,0.13836477987421383,0.006622516556291391,0.1125,0.043478260869565216,0.03076923076923077,0.3850267379679144,0.02681992337164751,0.029411764705882353,0.3910891089108911,0.2672413793103448,0.25,0.12790697674418605,0.08,0.002570694087403599,0.05134474327628362,0.0738255033557047,0.4,0.0037593984962406013,0.017316017316017316,0.010869565217391304,0.21052631578947367,0.08832188420019627,0.016853932584269662,1.03,0.05367231638418079,0.030303030303030304,0.028,0.033816425120772944,0.022222222222222223,0.03508771929824561,0.6981132075471698,0.004761904761904762,0.07420494699646643,1.4063926940639269,0.009389671361502348,0.013513513513513514,0.06756756756756757,0.05333333333333334,0.007547169811320755,0.11333333333333333,0.041176470588235294,0.06666666666666667,0.848,0.044444444444444446,0.13333333333333333,0.7604166666666666,0.32786885245901637,0.037037037037037035,0.019230769230769232,0.08,0.10204081632653061,1.1362068965517242,0.29375,0.037037037037037035],\"sizemode\":\"area\",\"sizeref\":0.0038},\"mode\":\"markers\",\"name\":\"\",\"showlegend\":false,\"subplot\":\"mapbox\",\"type\":\"scattermapbox\"}],                        {\"template\":{\"data\":{\"barpolar\":[{\"marker\":{\"line\":{\"color\":\"white\",\"width\":0.5},\"pattern\":{\"fillmode\":\"overlay\",\"size\":10,\"solidity\":0.2}},\"type\":\"barpolar\"}],\"bar\":[{\"error_x\":{\"color\":\"rgb(36,36,36)\"},\"error_y\":{\"color\":\"rgb(36,36,36)\"},\"marker\":{\"line\":{\"color\":\"white\",\"width\":0.5},\"pattern\":{\"fillmode\":\"overlay\",\"size\":10,\"solidity\":0.2}},\"type\":\"bar\"}],\"carpet\":[{\"aaxis\":{\"endlinecolor\":\"rgb(36,36,36)\",\"gridcolor\":\"white\",\"linecolor\":\"white\",\"minorgridcolor\":\"white\",\"startlinecolor\":\"rgb(36,36,36)\"},\"baxis\":{\"endlinecolor\":\"rgb(36,36,36)\",\"gridcolor\":\"white\",\"linecolor\":\"white\",\"minorgridcolor\":\"white\",\"startlinecolor\":\"rgb(36,36,36)\"},\"type\":\"carpet\"}],\"choropleth\":[{\"colorbar\":{\"outlinewidth\":1,\"tickcolor\":\"rgb(36,36,36)\",\"ticks\":\"outside\"},\"type\":\"choropleth\"}],\"contourcarpet\":[{\"colorbar\":{\"outlinewidth\":1,\"tickcolor\":\"rgb(36,36,36)\",\"ticks\":\"outside\"},\"type\":\"contourcarpet\"}],\"contour\":[{\"colorbar\":{\"outlinewidth\":1,\"tickcolor\":\"rgb(36,36,36)\",\"ticks\":\"outside\"},\"colorscale\":[[0.0,\"#440154\"],[0.1111111111111111,\"#482878\"],[0.2222222222222222,\"#3e4989\"],[0.3333333333333333,\"#31688e\"],[0.4444444444444444,\"#26828e\"],[0.5555555555555556,\"#1f9e89\"],[0.6666666666666666,\"#35b779\"],[0.7777777777777778,\"#6ece58\"],[0.8888888888888888,\"#b5de2b\"],[1.0,\"#fde725\"]],\"type\":\"contour\"}],\"heatmapgl\":[{\"colorbar\":{\"outlinewidth\":1,\"tickcolor\":\"rgb(36,36,36)\",\"ticks\":\"outside\"},\"colorscale\":[[0.0,\"#440154\"],[0.1111111111111111,\"#482878\"],[0.2222222222222222,\"#3e4989\"],[0.3333333333333333,\"#31688e\"],[0.4444444444444444,\"#26828e\"],[0.5555555555555556,\"#1f9e89\"],[0.6666666666666666,\"#35b779\"],[0.7777777777777778,\"#6ece58\"],[0.8888888888888888,\"#b5de2b\"],[1.0,\"#fde725\"]],\"type\":\"heatmapgl\"}],\"heatmap\":[{\"colorbar\":{\"outlinewidth\":1,\"tickcolor\":\"rgb(36,36,36)\",\"ticks\":\"outside\"},\"colorscale\":[[0.0,\"#440154\"],[0.1111111111111111,\"#482878\"],[0.2222222222222222,\"#3e4989\"],[0.3333333333333333,\"#31688e\"],[0.4444444444444444,\"#26828e\"],[0.5555555555555556,\"#1f9e89\"],[0.6666666666666666,\"#35b779\"],[0.7777777777777778,\"#6ece58\"],[0.8888888888888888,\"#b5de2b\"],[1.0,\"#fde725\"]],\"type\":\"heatmap\"}],\"histogram2dcontour\":[{\"colorbar\":{\"outlinewidth\":1,\"tickcolor\":\"rgb(36,36,36)\",\"ticks\":\"outside\"},\"colorscale\":[[0.0,\"#440154\"],[0.1111111111111111,\"#482878\"],[0.2222222222222222,\"#3e4989\"],[0.3333333333333333,\"#31688e\"],[0.4444444444444444,\"#26828e\"],[0.5555555555555556,\"#1f9e89\"],[0.6666666666666666,\"#35b779\"],[0.7777777777777778,\"#6ece58\"],[0.8888888888888888,\"#b5de2b\"],[1.0,\"#fde725\"]],\"type\":\"histogram2dcontour\"}],\"histogram2d\":[{\"colorbar\":{\"outlinewidth\":1,\"tickcolor\":\"rgb(36,36,36)\",\"ticks\":\"outside\"},\"colorscale\":[[0.0,\"#440154\"],[0.1111111111111111,\"#482878\"],[0.2222222222222222,\"#3e4989\"],[0.3333333333333333,\"#31688e\"],[0.4444444444444444,\"#26828e\"],[0.5555555555555556,\"#1f9e89\"],[0.6666666666666666,\"#35b779\"],[0.7777777777777778,\"#6ece58\"],[0.8888888888888888,\"#b5de2b\"],[1.0,\"#fde725\"]],\"type\":\"histogram2d\"}],\"histogram\":[{\"marker\":{\"line\":{\"color\":\"white\",\"width\":0.6}},\"type\":\"histogram\"}],\"mesh3d\":[{\"colorbar\":{\"outlinewidth\":1,\"tickcolor\":\"rgb(36,36,36)\",\"ticks\":\"outside\"},\"type\":\"mesh3d\"}],\"parcoords\":[{\"line\":{\"colorbar\":{\"outlinewidth\":1,\"tickcolor\":\"rgb(36,36,36)\",\"ticks\":\"outside\"}},\"type\":\"parcoords\"}],\"pie\":[{\"automargin\":true,\"type\":\"pie\"}],\"scatter3d\":[{\"line\":{\"colorbar\":{\"outlinewidth\":1,\"tickcolor\":\"rgb(36,36,36)\",\"ticks\":\"outside\"}},\"marker\":{\"colorbar\":{\"outlinewidth\":1,\"tickcolor\":\"rgb(36,36,36)\",\"ticks\":\"outside\"}},\"type\":\"scatter3d\"}],\"scattercarpet\":[{\"marker\":{\"colorbar\":{\"outlinewidth\":1,\"tickcolor\":\"rgb(36,36,36)\",\"ticks\":\"outside\"}},\"type\":\"scattercarpet\"}],\"scattergeo\":[{\"marker\":{\"colorbar\":{\"outlinewidth\":1,\"tickcolor\":\"rgb(36,36,36)\",\"ticks\":\"outside\"}},\"type\":\"scattergeo\"}],\"scattergl\":[{\"marker\":{\"colorbar\":{\"outlinewidth\":1,\"tickcolor\":\"rgb(36,36,36)\",\"ticks\":\"outside\"}},\"type\":\"scattergl\"}],\"scattermapbox\":[{\"marker\":{\"colorbar\":{\"outlinewidth\":1,\"tickcolor\":\"rgb(36,36,36)\",\"ticks\":\"outside\"}},\"type\":\"scattermapbox\"}],\"scatterpolargl\":[{\"marker\":{\"colorbar\":{\"outlinewidth\":1,\"tickcolor\":\"rgb(36,36,36)\",\"ticks\":\"outside\"}},\"type\":\"scatterpolargl\"}],\"scatterpolar\":[{\"marker\":{\"colorbar\":{\"outlinewidth\":1,\"tickcolor\":\"rgb(36,36,36)\",\"ticks\":\"outside\"}},\"type\":\"scatterpolar\"}],\"scatter\":[{\"fillpattern\":{\"fillmode\":\"overlay\",\"size\":10,\"solidity\":0.2},\"type\":\"scatter\"}],\"scatterternary\":[{\"marker\":{\"colorbar\":{\"outlinewidth\":1,\"tickcolor\":\"rgb(36,36,36)\",\"ticks\":\"outside\"}},\"type\":\"scatterternary\"}],\"surface\":[{\"colorbar\":{\"outlinewidth\":1,\"tickcolor\":\"rgb(36,36,36)\",\"ticks\":\"outside\"},\"colorscale\":[[0.0,\"#440154\"],[0.1111111111111111,\"#482878\"],[0.2222222222222222,\"#3e4989\"],[0.3333333333333333,\"#31688e\"],[0.4444444444444444,\"#26828e\"],[0.5555555555555556,\"#1f9e89\"],[0.6666666666666666,\"#35b779\"],[0.7777777777777778,\"#6ece58\"],[0.8888888888888888,\"#b5de2b\"],[1.0,\"#fde725\"]],\"type\":\"surface\"}],\"table\":[{\"cells\":{\"fill\":{\"color\":\"rgb(237,237,237)\"},\"line\":{\"color\":\"white\"}},\"header\":{\"fill\":{\"color\":\"rgb(217,217,217)\"},\"line\":{\"color\":\"white\"}},\"type\":\"table\"}]},\"layout\":{\"annotationdefaults\":{\"arrowhead\":0,\"arrowwidth\":1},\"autotypenumbers\":\"strict\",\"coloraxis\":{\"colorbar\":{\"outlinewidth\":1,\"tickcolor\":\"rgb(36,36,36)\",\"ticks\":\"outside\"}},\"colorscale\":{\"diverging\":[[0.0,\"rgb(103,0,31)\"],[0.1,\"rgb(178,24,43)\"],[0.2,\"rgb(214,96,77)\"],[0.3,\"rgb(244,165,130)\"],[0.4,\"rgb(253,219,199)\"],[0.5,\"rgb(247,247,247)\"],[0.6,\"rgb(209,229,240)\"],[0.7,\"rgb(146,197,222)\"],[0.8,\"rgb(67,147,195)\"],[0.9,\"rgb(33,102,172)\"],[1.0,\"rgb(5,48,97)\"]],\"sequential\":[[0.0,\"#440154\"],[0.1111111111111111,\"#482878\"],[0.2222222222222222,\"#3e4989\"],[0.3333333333333333,\"#31688e\"],[0.4444444444444444,\"#26828e\"],[0.5555555555555556,\"#1f9e89\"],[0.6666666666666666,\"#35b779\"],[0.7777777777777778,\"#6ece58\"],[0.8888888888888888,\"#b5de2b\"],[1.0,\"#fde725\"]],\"sequentialminus\":[[0.0,\"#440154\"],[0.1111111111111111,\"#482878\"],[0.2222222222222222,\"#3e4989\"],[0.3333333333333333,\"#31688e\"],[0.4444444444444444,\"#26828e\"],[0.5555555555555556,\"#1f9e89\"],[0.6666666666666666,\"#35b779\"],[0.7777777777777778,\"#6ece58\"],[0.8888888888888888,\"#b5de2b\"],[1.0,\"#fde725\"]]},\"colorway\":[\"#91268F\",\"#8CC63E\",\"#00A7A0\",\"#F05A28\",\"#4C4C4C\",\"#630460\",\"#9f3913\",\"#588527\",\"#00716c\",\"#3e4040\"],\"font\":{\"color\":\"rgb(36,36,36)\",\"family\":\"Poppins\",\"size\":11},\"geo\":{\"bgcolor\":\"white\",\"lakecolor\":\"white\",\"landcolor\":\"white\",\"showlakes\":true,\"showland\":true,\"subunitcolor\":\"white\"},\"hoverlabel\":{\"align\":\"left\"},\"hovermode\":\"closest\",\"mapbox\":{\"style\":\"light\"},\"paper_bgcolor\":\"white\",\"plot_bgcolor\":\"white\",\"polar\":{\"angularaxis\":{\"gridcolor\":\"rgb(232,232,232)\",\"linecolor\":\"rgb(36,36,36)\",\"showgrid\":false,\"showline\":true,\"ticks\":\"outside\"},\"bgcolor\":\"white\",\"radialaxis\":{\"gridcolor\":\"rgb(232,232,232)\",\"linecolor\":\"rgb(36,36,36)\",\"showgrid\":false,\"showline\":true,\"ticks\":\"outside\"}},\"scene\":{\"xaxis\":{\"backgroundcolor\":\"white\",\"gridcolor\":\"rgb(232,232,232)\",\"gridwidth\":2,\"linecolor\":\"rgb(36,36,36)\",\"showbackground\":true,\"showgrid\":false,\"showline\":true,\"ticks\":\"outside\",\"zeroline\":false,\"zerolinecolor\":\"rgb(36,36,36)\"},\"yaxis\":{\"backgroundcolor\":\"white\",\"gridcolor\":\"rgb(232,232,232)\",\"gridwidth\":2,\"linecolor\":\"rgb(36,36,36)\",\"showbackground\":true,\"showgrid\":false,\"showline\":true,\"ticks\":\"outside\",\"zeroline\":false,\"zerolinecolor\":\"rgb(36,36,36)\"},\"zaxis\":{\"backgroundcolor\":\"white\",\"gridcolor\":\"rgb(232,232,232)\",\"gridwidth\":2,\"linecolor\":\"rgb(36,36,36)\",\"showbackground\":true,\"showgrid\":false,\"showline\":true,\"ticks\":\"outside\",\"zeroline\":false,\"zerolinecolor\":\"rgb(36,36,36)\"}},\"shapedefaults\":{\"fillcolor\":\"black\",\"line\":{\"width\":0},\"opacity\":0.3},\"ternary\":{\"aaxis\":{\"gridcolor\":\"rgb(232,232,232)\",\"linecolor\":\"rgb(36,36,36)\",\"showgrid\":false,\"showline\":true,\"ticks\":\"outside\"},\"baxis\":{\"gridcolor\":\"rgb(232,232,232)\",\"linecolor\":\"rgb(36,36,36)\",\"showgrid\":false,\"showline\":true,\"ticks\":\"outside\"},\"bgcolor\":\"white\",\"caxis\":{\"gridcolor\":\"rgb(232,232,232)\",\"linecolor\":\"rgb(36,36,36)\",\"showgrid\":false,\"showline\":true,\"ticks\":\"outside\"}},\"title\":{\"x\":0.05},\"xaxis\":{\"automargin\":true,\"gridcolor\":\"rgb(232,232,232)\",\"linecolor\":\"rgb(36,36,36)\",\"showgrid\":false,\"showline\":true,\"ticks\":\"outside\",\"title\":{\"standoff\":15},\"zeroline\":false,\"zerolinecolor\":\"rgb(36,36,36)\"},\"yaxis\":{\"automargin\":true,\"gridcolor\":\"rgb(232,232,232)\",\"linecolor\":\"rgb(36,36,36)\",\"showgrid\":false,\"showline\":true,\"ticks\":\"outside\",\"title\":{\"standoff\":15},\"zeroline\":false,\"zerolinecolor\":\"rgb(36,36,36)\"}}},\"mapbox\":{\"domain\":{\"x\":[0.0,1.0],\"y\":[0.0,1.0]},\"center\":{\"lat\":47.58178352031616,\"lon\":-122.29187587250684},\"zoom\":8,\"style\":\"carto-positron\"},\"coloraxis\":{\"colorbar\":{\"title\":{\"text\":\"Boardings\\u002fCapacity\"}},\"colorscale\":[[0.0,\"#440154\"],[0.1111111111111111,\"#482878\"],[0.2222222222222222,\"#3e4989\"],[0.3333333333333333,\"#31688e\"],[0.4444444444444444,\"#26828e\"],[0.5555555555555556,\"#1f9e89\"],[0.6666666666666666,\"#35b779\"],[0.7777777777777778,\"#6ece58\"],[0.8888888888888888,\"#b5de2b\"],[1.0,\"#fde725\"]]},\"legend\":{\"tracegroupgap\":0,\"itemsizing\":\"constant\"},\"title\":{\"text\":\"Park and Ride Usage vs Capacity\"},\"margin\":{\"r\":0,\"t\":0,\"l\":0,\"b\":0}},                        {\"responsive\": true}                    ).then(function(){\n",
       "                            \n",
       "var gd = document.getElementById('47765769-ba55-406a-93b9-d2f8322ed1c9');\n",
       "var x = new MutationObserver(function (mutations, observer) {{\n",
       "        var display = window.getComputedStyle(gd).display;\n",
       "        if (!display || display === 'none') {{\n",
       "            console.log([gd, 'removed!']);\n",
       "            Plotly.purge(gd);\n",
       "            observer.disconnect();\n",
       "        }}\n",
       "}});\n",
       "\n",
       "// Listen for the removal of the full notebook cells\n",
       "var notebookContainer = gd.closest('#notebook-container');\n",
       "if (notebookContainer) {{\n",
       "    x.observe(notebookContainer, {childList: true});\n",
       "}}\n",
       "\n",
       "// Listen for the clearing of the current output cell\n",
       "var outputEl = gd.closest('.output');\n",
       "if (outputEl) {{\n",
       "    x.observe(outputEl, {childList: true});\n",
       "}}\n",
       "\n",
       "                        })                };                });            </script>        </div>"
      ]
     },
     "metadata": {},
     "output_type": "display_data"
    }
   ],
   "source": [
    "gdf = gpd.GeoDataFrame(df, geometry=gpd.points_from_xy(df.XCoord, df.YCoord), crs='EPSG:2285')\n",
    "gdf.to_crs('EPSG:4326', inplace=True)\n",
    "\n",
    "fig = px.scatter_mapbox(gdf, lat=gdf.geometry.y, lon=gdf.geometry.x, color='Boardings/Capacity', \n",
    "                        size='Boardings/Capacity', hover_data=['name','taz','Model Boardings', 'Capacity'], \n",
    "                        title='Park and Ride Usage vs Capacity', zoom=8)\n",
    "fig.update_layout(mapbox_style=\"carto-positron\")\n",
    "fig.update_layout(margin={\"r\":0,\"t\":0,\"l\":0,\"b\":0})\n",
    "\n",
    "fig.show()"
   ]
  },
  {
   "cell_type": "markdown",
   "id": "b3e80e5e",
   "metadata": {},
   "source": [
    "# Transit Submodes by Purpose\n",
    "Model Outputs Only (insufficient samples available from survey)"
   ]
  },
  {
   "cell_type": "code",
   "execution_count": 41,
   "id": "5f0eb704",
   "metadata": {},
   "outputs": [],
   "source": [
    "import h5py\n",
    "myh5 = h5py.File(r'..\\..\\..\\..\\inputs\\scenario\\landuse\\hh_and_persons.h5', 'r')\n",
    "person = pd.read_csv(r'..\\..\\..\\..\\outputs\\daysim\\_person.tsv', sep='\\t')"
   ]
  },
  {
   "cell_type": "code",
   "execution_count": 42,
   "id": "8205afa6",
   "metadata": {},
   "outputs": [],
   "source": [
    "# Create a DataFrame from the h5 file\n",
    "df_person = pd.DataFrame()\n",
    "for col in ['hhno','pno','prace']:\n",
    "    df_person[col] = myh5['Person'][col][:]\n",
    "\n",
    "df_trip = df_trip.merge(df_person[['hhno','pno','prace']], on=['hhno','pno'], how='left')"
   ]
  },
  {
   "cell_type": "code",
   "execution_count": 43,
   "id": "f337be26",
   "metadata": {},
   "outputs": [
    {
     "data": {
      "text/html": [
       "<div>\n",
       "<style scoped>\n",
       "    .dataframe tbody tr th:only-of-type {\n",
       "        vertical-align: middle;\n",
       "    }\n",
       "\n",
       "    .dataframe tbody tr th {\n",
       "        vertical-align: top;\n",
       "    }\n",
       "\n",
       "    .dataframe thead th {\n",
       "        text-align: right;\n",
       "    }\n",
       "</style>\n",
       "<table border=\"1\" class=\"dataframe\">\n",
       "  <thead>\n",
       "    <tr style=\"text-align: right;\">\n",
       "      <th>Purpose Type</th>\n",
       "      <th>Work %</th>\n",
       "      <th>School %</th>\n",
       "      <th>Other %</th>\n",
       "    </tr>\n",
       "    <tr>\n",
       "      <th>Path Type</th>\n",
       "      <th></th>\n",
       "      <th></th>\n",
       "      <th></th>\n",
       "    </tr>\n",
       "  </thead>\n",
       "  <tbody>\n",
       "    <tr>\n",
       "      <th>Bus</th>\n",
       "      <td>14.8%</td>\n",
       "      <td>10.8%</td>\n",
       "      <td>74.4%</td>\n",
       "    </tr>\n",
       "    <tr>\n",
       "      <th>Commuter Rail</th>\n",
       "      <td>50.6%</td>\n",
       "      <td>2.0%</td>\n",
       "      <td>47.4%</td>\n",
       "    </tr>\n",
       "    <tr>\n",
       "      <th>Drive</th>\n",
       "      <td>19.6%</td>\n",
       "      <td>5.5%</td>\n",
       "      <td>74.8%</td>\n",
       "    </tr>\n",
       "    <tr>\n",
       "      <th>Ferry 1</th>\n",
       "      <td>37.0%</td>\n",
       "      <td>20.6%</td>\n",
       "      <td>42.4%</td>\n",
       "    </tr>\n",
       "    <tr>\n",
       "      <th>Ferry 2</th>\n",
       "      <td>62.9%</td>\n",
       "      <td>2.0%</td>\n",
       "      <td>35.1%</td>\n",
       "    </tr>\n",
       "    <tr>\n",
       "      <th>Light Rail</th>\n",
       "      <td>32.6%</td>\n",
       "      <td>6.2%</td>\n",
       "      <td>61.2%</td>\n",
       "    </tr>\n",
       "  </tbody>\n",
       "</table>\n",
       "</div>"
      ],
      "text/plain": [
       "Purpose Type  Work % School % Other %\n",
       "Path Type                            \n",
       "Bus            14.8%    10.8%   74.4%\n",
       "Commuter Rail  50.6%     2.0%   47.4%\n",
       "Drive          19.6%     5.5%   74.8%\n",
       "Ferry 1        37.0%    20.6%   42.4%\n",
       "Ferry 2        62.9%     2.0%   35.1%\n",
       "Light Rail     32.6%     6.2%   61.2%"
      ]
     },
     "execution_count": 43,
     "metadata": {},
     "output_type": "execute_result"
    }
   ],
   "source": [
    "# Create group of work, school, and all other purposes\n",
    "df_trip['Purpose Type'] = 'Other'\n",
    "df_trip.loc[df_trip['dpurp']==0, 'Purpose Type'] = 'Home'\n",
    "df_trip.loc[df_trip['dpurp']==1, 'Purpose Type'] = 'Work'\n",
    "df_trip.loc[df_trip['dpurp']==2, 'Purpose Type'] = 'School'\n",
    "\n",
    "# Rename path types\n",
    "df_trip.loc[df_trip['pathtype']==1, 'Path Type'] = 'Drive'\n",
    "df_trip.loc[df_trip['pathtype']==3, 'Path Type'] = 'Bus'\n",
    "df_trip.loc[df_trip['pathtype']==4, 'Path Type'] = 'Light Rail'\n",
    "df_trip.loc[df_trip['pathtype']==5, 'Path Type'] = 'Ferry 1'\n",
    "df_trip.loc[df_trip['pathtype']==6, 'Path Type'] = 'Commuter Rail'\n",
    "df_trip.loc[df_trip['pathtype']==7, 'Path Type'] = 'Ferry 2'\n",
    "\n",
    "df = pd.pivot_table(df_trip[(df_trip['dpurp']!=0) & (df_trip['pathtype']!=0)], values='trexpfac', index='Path Type', columns='Purpose Type', aggfunc=np.sum)\n",
    "\n",
    "df['Total'] = df.sum(axis=1)\n",
    "for row in df.index:\n",
    "    for col in ['Work','School','Other']:\n",
    "        df.loc[row, col + ' %'] = df.loc[row, col] / df.loc[row, 'Total']\n",
    "\n",
    "df[['Work %','School %','Other %']] = df[['Work %','School %','Other %']].applymap(\"{:,.1%}\".format)\n",
    "df[['Work %','School %','Other %']]"
   ]
  },
  {
   "cell_type": "markdown",
   "id": "87130c67",
   "metadata": {},
   "source": [
    "#### Transit Submodes by Person Race"
   ]
  },
  {
   "cell_type": "code",
   "execution_count": 44,
   "id": "21bac916",
   "metadata": {},
   "outputs": [],
   "source": [
    "\n",
    "race_dict = {\n",
    "    '1': 'White alone',\n",
    "    '2': 'Black or African American alone',\n",
    "    '3': 'American Indian alone',\n",
    "    '4': 'Alaska Native alone',\n",
    "    '5': 'American Indian and Alaska Native tribes specified',\n",
    "    '6': 'Asian alone',\n",
    "    '7': 'Native Hawaiian and Other Pacific Islander alone',\n",
    "    '8': 'Some Other Race alone',\n",
    "    '9': 'Two or More Races'\n",
    "}\n",
    "\n",
    "\n",
    "df_trip['Race'] = df_trip['prace'].astype('int').astype('str').map(race_dict)"
   ]
  },
  {
   "cell_type": "code",
   "execution_count": 45,
   "id": "c50c3d86",
   "metadata": {},
   "outputs": [],
   "source": [
    "# Submode Ridership by race\n",
    "df = pd.pivot_table(df_trip[(df_trip['pathtype']!=0)], values='trexpfac', index='Path Type', columns='Race', aggfunc=np.sum)\n",
    "race_cols = ['White alone','Black or African American alone','American Indian alone',\n",
    "             'Alaska Native alone','American Indian and Alaska Native tribes specified','Asian alone',\n",
    "             'Native Hawaiian and Other Pacific Islander alone','Some Other Race alone','Two or More Races']\n",
    "# Calculate shares of total by Race for each Path Type\n",
    "df['Total'] = df.sum(axis=1)\n",
    "for row in df.index:\n",
    "    for col in race_cols:\n",
    "        df.loc[row, col] = df.loc[row, col] / df.loc[row, 'Total']\n",
    "df[race_cols] = df[race_cols].applymap(\"{:,.1%}\".format)"
   ]
  },
  {
   "cell_type": "code",
   "execution_count": 46,
   "id": "dbdfd700",
   "metadata": {},
   "outputs": [
    {
     "data": {
      "text/html": [
       "<div>\n",
       "<style scoped>\n",
       "    .dataframe tbody tr th:only-of-type {\n",
       "        vertical-align: middle;\n",
       "    }\n",
       "\n",
       "    .dataframe tbody tr th {\n",
       "        vertical-align: top;\n",
       "    }\n",
       "\n",
       "    .dataframe thead th {\n",
       "        text-align: right;\n",
       "    }\n",
       "</style>\n",
       "<table border=\"1\" class=\"dataframe\">\n",
       "  <thead>\n",
       "    <tr style=\"text-align: right;\">\n",
       "      <th>Race</th>\n",
       "      <th>White alone</th>\n",
       "      <th>Black or African American alone</th>\n",
       "      <th>American Indian alone</th>\n",
       "      <th>Alaska Native alone</th>\n",
       "      <th>American Indian and Alaska Native tribes specified</th>\n",
       "      <th>Asian alone</th>\n",
       "      <th>Native Hawaiian and Other Pacific Islander alone</th>\n",
       "      <th>Some Other Race alone</th>\n",
       "      <th>Two or More Races</th>\n",
       "    </tr>\n",
       "    <tr>\n",
       "      <th>Path Type</th>\n",
       "      <th></th>\n",
       "      <th></th>\n",
       "      <th></th>\n",
       "      <th></th>\n",
       "      <th></th>\n",
       "      <th></th>\n",
       "      <th></th>\n",
       "      <th></th>\n",
       "      <th></th>\n",
       "    </tr>\n",
       "  </thead>\n",
       "  <tbody>\n",
       "    <tr>\n",
       "      <th>Bus</th>\n",
       "      <td>59.4%</td>\n",
       "      <td>7.5%</td>\n",
       "      <td>0.6%</td>\n",
       "      <td>0.1%</td>\n",
       "      <td>0.1%</td>\n",
       "      <td>18.9%</td>\n",
       "      <td>0.6%</td>\n",
       "      <td>3.9%</td>\n",
       "      <td>9.0%</td>\n",
       "    </tr>\n",
       "    <tr>\n",
       "      <th>Commuter Rail</th>\n",
       "      <td>63.9%</td>\n",
       "      <td>7.5%</td>\n",
       "      <td>0.9%</td>\n",
       "      <td>0.1%</td>\n",
       "      <td>0.0%</td>\n",
       "      <td>11.0%</td>\n",
       "      <td>1.7%</td>\n",
       "      <td>5.6%</td>\n",
       "      <td>9.3%</td>\n",
       "    </tr>\n",
       "    <tr>\n",
       "      <th>Drive</th>\n",
       "      <td>64.7%</td>\n",
       "      <td>5.5%</td>\n",
       "      <td>0.6%</td>\n",
       "      <td>0.1%</td>\n",
       "      <td>0.1%</td>\n",
       "      <td>14.8%</td>\n",
       "      <td>1.0%</td>\n",
       "      <td>4.3%</td>\n",
       "      <td>8.9%</td>\n",
       "    </tr>\n",
       "    <tr>\n",
       "      <th>Ferry 1</th>\n",
       "      <td>77.6%</td>\n",
       "      <td>2.9%</td>\n",
       "      <td>0.5%</td>\n",
       "      <td>nan%</td>\n",
       "      <td>0.2%</td>\n",
       "      <td>6.1%</td>\n",
       "      <td>1.5%</td>\n",
       "      <td>2.7%</td>\n",
       "      <td>8.5%</td>\n",
       "    </tr>\n",
       "    <tr>\n",
       "      <th>Ferry 2</th>\n",
       "      <td>81.2%</td>\n",
       "      <td>2.7%</td>\n",
       "      <td>0.9%</td>\n",
       "      <td>0.1%</td>\n",
       "      <td>0.1%</td>\n",
       "      <td>4.1%</td>\n",
       "      <td>0.9%</td>\n",
       "      <td>2.7%</td>\n",
       "      <td>7.3%</td>\n",
       "    </tr>\n",
       "    <tr>\n",
       "      <th>Light Rail</th>\n",
       "      <td>57.9%</td>\n",
       "      <td>8.8%</td>\n",
       "      <td>0.5%</td>\n",
       "      <td>0.1%</td>\n",
       "      <td>0.1%</td>\n",
       "      <td>20.6%</td>\n",
       "      <td>0.5%</td>\n",
       "      <td>3.8%</td>\n",
       "      <td>7.8%</td>\n",
       "    </tr>\n",
       "  </tbody>\n",
       "</table>\n",
       "</div>"
      ],
      "text/plain": [
       "Race          White alone Black or African American alone  \\\n",
       "Path Type                                                   \n",
       "Bus                 59.4%                            7.5%   \n",
       "Commuter Rail       63.9%                            7.5%   \n",
       "Drive               64.7%                            5.5%   \n",
       "Ferry 1             77.6%                            2.9%   \n",
       "Ferry 2             81.2%                            2.7%   \n",
       "Light Rail          57.9%                            8.8%   \n",
       "\n",
       "Race          American Indian alone Alaska Native alone  \\\n",
       "Path Type                                                 \n",
       "Bus                            0.6%                0.1%   \n",
       "Commuter Rail                  0.9%                0.1%   \n",
       "Drive                          0.6%                0.1%   \n",
       "Ferry 1                        0.5%                nan%   \n",
       "Ferry 2                        0.9%                0.1%   \n",
       "Light Rail                     0.5%                0.1%   \n",
       "\n",
       "Race          American Indian and Alaska Native tribes specified Asian alone  \\\n",
       "Path Type                                                                      \n",
       "Bus                                                         0.1%       18.9%   \n",
       "Commuter Rail                                               0.0%       11.0%   \n",
       "Drive                                                       0.1%       14.8%   \n",
       "Ferry 1                                                     0.2%        6.1%   \n",
       "Ferry 2                                                     0.1%        4.1%   \n",
       "Light Rail                                                  0.1%       20.6%   \n",
       "\n",
       "Race          Native Hawaiian and Other Pacific Islander alone  \\\n",
       "Path Type                                                        \n",
       "Bus                                                       0.6%   \n",
       "Commuter Rail                                             1.7%   \n",
       "Drive                                                     1.0%   \n",
       "Ferry 1                                                   1.5%   \n",
       "Ferry 2                                                   0.9%   \n",
       "Light Rail                                                0.5%   \n",
       "\n",
       "Race          Some Other Race alone Two or More Races  \n",
       "Path Type                                              \n",
       "Bus                            3.9%              9.0%  \n",
       "Commuter Rail                  5.6%              9.3%  \n",
       "Drive                          4.3%              8.9%  \n",
       "Ferry 1                        2.7%              8.5%  \n",
       "Ferry 2                        2.7%              7.3%  \n",
       "Light Rail                     3.8%              7.8%  "
      ]
     },
     "execution_count": 46,
     "metadata": {},
     "output_type": "execute_result"
    }
   ],
   "source": [
    "df[race_cols]"
   ]
  }
 ],
 "metadata": {
  "kernelspec": {
   "display_name": "summary",
   "language": "python",
   "name": "python3"
  },
  "language_info": {
   "codemirror_mode": {
    "name": "ipython",
    "version": 3
   },
   "file_extension": ".py",
   "mimetype": "text/x-python",
   "name": "python",
   "nbconvert_exporter": "python",
   "pygments_lexer": "ipython3",
   "version": "3.7.10"
  }
 },
 "nbformat": 4,
 "nbformat_minor": 5
}
