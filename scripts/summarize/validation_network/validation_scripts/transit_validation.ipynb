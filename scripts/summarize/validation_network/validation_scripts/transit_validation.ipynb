{
 "cells": [
  {
   "cell_type": "raw",
   "id": "48597e7e80043434",
   "metadata": {},
   "source": [
    "---\n",
    "title: \"Transit Summary\"\n",
    "date: today\n",
    "---"
   ]
  },
  {
   "cell_type": "code",
   "execution_count": 1,
   "id": "3c1a81e12086b602",
   "metadata": {
    "ExecuteTime": {
     "end_time": "2024-06-24T20:05:20.341638Z",
     "start_time": "2024-06-24T20:05:20.232835Z"
    },
    "execution": {
     "iopub.execute_input": "2024-12-14T02:38:34.166778Z",
     "iopub.status.busy": "2024-12-14T02:38:34.164783Z",
     "iopub.status.idle": "2024-12-14T02:38:39.675438Z",
     "shell.execute_reply": "2024-12-14T02:38:39.673933Z"
    }
   },
   "outputs": [],
   "source": [
    "import os\n",
    "import pandas as pd\n",
    "import numpy as np\n",
    "from sqlalchemy import create_engine,text\n",
    "from scipy import stats\n",
    "import plotly.express as px\n",
    "import toml\n",
    "import psrc_theme\n",
    "import geopandas as gpd\n",
    "import plotly.express as px\n",
    "\n",
    "%matplotlib inline\n",
    "from IPython.display import display, HTML\n",
    "\n",
    "# to show plotly figures in quarto HTML file\n",
    "import plotly.io as pio\n",
    "pio.renderers.default = \"plotly_mimetype+notebook_connected\"\n",
    "pio.templates.default = \"simple_white+psrc_color\" # set plotly template\n",
    "\n",
    "input_config = toml.load(os.path.join(os.getcwd(), '..\\\\..\\\\..\\\\..\\\\configuration', 'input_configuration.toml'))\n",
    "valid_config = toml.load(os.path.join(os.getcwd(), '..\\\\..\\\\..\\\\..\\\\configuration', 'validation_configuration.toml'))\n",
    "\n",
    "# create connection\n",
    "conn = create_engine('sqlite:///../../../../inputs/db/'+input_config['db_name'])\n",
    "\n",
    "# summary data location\n",
    "csv_path = os.path.join(valid_config['model_dir'], 'outputs/validation')\n",
    "\n",
    "# table format\n",
    "pd.options.display.float_format = '{:0,.2f}'.format\n",
    "format_percent = \"{:,.2%}\".format"
   ]
  },
  {
   "cell_type": "markdown",
   "id": "b00095bdf12d94c3",
   "metadata": {},
   "source": [
    "## transit boarding"
   ]
  },
  {
   "cell_type": "markdown",
   "id": "5580f8d3",
   "metadata": {},
   "source": [
    "### boarding by mode"
   ]
  },
  {
   "cell_type": "raw",
   "id": "62368037",
   "metadata": {
    "vscode": {
     "languageId": "raw"
    }
   },
   "source": [
    ":::{.panel-tabset}\n",
    "#### 2023"
   ]
  },
  {
   "cell_type": "code",
   "execution_count": 2,
   "id": "0fa5b4c7",
   "metadata": {
    "execution": {
     "iopub.execute_input": "2024-12-14T02:38:39.688403Z",
     "iopub.status.busy": "2024-12-14T02:38:39.686408Z",
     "iopub.status.idle": "2024-12-14T02:38:39.797541Z",
     "shell.execute_reply": "2024-12-14T02:38:39.796037Z"
    }
   },
   "outputs": [
    {
     "data": {
      "text/html": [
       "<div>\n",
       "<style scoped>\n",
       "    .dataframe tbody tr th:only-of-type {\n",
       "        vertical-align: middle;\n",
       "    }\n",
       "\n",
       "    .dataframe tbody tr th {\n",
       "        vertical-align: top;\n",
       "    }\n",
       "\n",
       "    .dataframe thead th {\n",
       "        text-align: right;\n",
       "    }\n",
       "</style>\n",
       "<table border=\"1\" class=\"dataframe\">\n",
       "  <thead>\n",
       "    <tr style=\"text-align: right;\">\n",
       "      <th></th>\n",
       "      <th>index</th>\n",
       "      <th>mode</th>\n",
       "      <th>observed_boardings</th>\n",
       "      <th>model_boardings</th>\n",
       "      <th>diff</th>\n",
       "      <th>perc_diff</th>\n",
       "    </tr>\n",
       "  </thead>\n",
       "  <tbody>\n",
       "    <tr>\n",
       "      <th>0</th>\n",
       "      <td>0</td>\n",
       "      <td>b</td>\n",
       "      <td>332,640.45</td>\n",
       "      <td>364,884.83</td>\n",
       "      <td>32,244.38</td>\n",
       "      <td>9.69%</td>\n",
       "    </tr>\n",
       "    <tr>\n",
       "      <th>1</th>\n",
       "      <td>4</td>\n",
       "      <td>r</td>\n",
       "      <td>81,991.16</td>\n",
       "      <td>78,481.14</td>\n",
       "      <td>-3,510.02</td>\n",
       "      <td>-4.28%</td>\n",
       "    </tr>\n",
       "    <tr>\n",
       "      <th>2</th>\n",
       "      <td>2</td>\n",
       "      <td>f</td>\n",
       "      <td>11,349.85</td>\n",
       "      <td>8,710.92</td>\n",
       "      <td>-2,638.93</td>\n",
       "      <td>-23.25%</td>\n",
       "    </tr>\n",
       "    <tr>\n",
       "      <th>3</th>\n",
       "      <td>1</td>\n",
       "      <td>c</td>\n",
       "      <td>6,354.00</td>\n",
       "      <td>4,526.20</td>\n",
       "      <td>-1,827.80</td>\n",
       "      <td>-28.77%</td>\n",
       "    </tr>\n",
       "    <tr>\n",
       "      <th>4</th>\n",
       "      <td>3</td>\n",
       "      <td>p</td>\n",
       "      <td>3,235.36</td>\n",
       "      <td>2,881.85</td>\n",
       "      <td>-353.51</td>\n",
       "      <td>-10.93%</td>\n",
       "    </tr>\n",
       "    <tr>\n",
       "      <th>5</th>\n",
       "      <td>Total</td>\n",
       "      <td>Total</td>\n",
       "      <td>435,570.83</td>\n",
       "      <td>459,484.94</td>\n",
       "      <td>23,914.12</td>\n",
       "      <td>5.49%</td>\n",
       "    </tr>\n",
       "  </tbody>\n",
       "</table>\n",
       "</div>"
      ],
      "text/plain": [
       "   index   mode  observed_boardings  model_boardings      diff perc_diff\n",
       "0      0      b          332,640.45       364,884.83 32,244.38     9.69%\n",
       "1      4      r           81,991.16        78,481.14 -3,510.02    -4.28%\n",
       "2      2      f           11,349.85         8,710.92 -2,638.93   -23.25%\n",
       "3      1      c            6,354.00         4,526.20 -1,827.80   -28.77%\n",
       "4      3      p            3,235.36         2,881.85   -353.51   -10.93%\n",
       "5  Total  Total          435,570.83       459,484.94 23,914.12     5.49%"
      ]
     },
     "execution_count": 2,
     "metadata": {},
     "output_type": "execute_result"
    }
   ],
   "source": [
    "df = pd.read_csv(os.path.join(csv_path, 'daily_boardings_by_mode.csv')).sort_values('observed_boardings', ascending=False)\n",
    "table_df = df.copy()\n",
    "\n",
    "table_df.loc['Total','observed_boardings'] = table_df['observed_boardings'].sum(axis=0)\n",
    "table_df.loc['Total','model_boardings'] = table_df['model_boardings'].sum(axis=0)\n",
    "table_df.loc['Total','mode'] = 'Total'\n",
    "table_df['diff'] = table_df['model_boardings']-table_df['observed_boardings']\n",
    "table_df['perc_diff'] = table_df['diff']/table_df['observed_boardings']\n",
    "table_df[['observed_boardings','model_boardings','diff']] = table_df[['observed_boardings','model_boardings','diff']].astype('float')\n",
    "table_df[['perc_diff']] = table_df[['perc_diff']].applymap(format_percent)\n",
    "table_df = table_df.reset_index()\n",
    "table_df"
   ]
  },
  {
   "cell_type": "raw",
   "id": "0a51c67a",
   "metadata": {
    "vscode": {
     "languageId": "raw"
    }
   },
   "source": [
    "#### 2023/2024 Link Red Line and Sounder"
   ]
  },
  {
   "cell_type": "code",
   "execution_count": 3,
   "id": "108fbc11",
   "metadata": {
    "execution": {
     "iopub.execute_input": "2024-12-14T02:38:39.809509Z",
     "iopub.status.busy": "2024-12-14T02:38:39.808512Z",
     "iopub.status.idle": "2024-12-14T02:38:39.939511Z",
     "shell.execute_reply": "2024-12-14T02:38:39.936874Z"
    }
   },
   "outputs": [
    {
     "data": {
      "text/html": [
       "<div>\n",
       "<style scoped>\n",
       "    .dataframe tbody tr th:only-of-type {\n",
       "        vertical-align: middle;\n",
       "    }\n",
       "\n",
       "    .dataframe tbody tr th {\n",
       "        vertical-align: top;\n",
       "    }\n",
       "\n",
       "    .dataframe thead th {\n",
       "        text-align: right;\n",
       "    }\n",
       "</style>\n",
       "<table border=\"1\" class=\"dataframe\">\n",
       "  <thead>\n",
       "    <tr style=\"text-align: right;\">\n",
       "      <th></th>\n",
       "      <th>submode</th>\n",
       "      <th>2023 boarding</th>\n",
       "      <th>2024 boarding</th>\n",
       "      <th>model_boardings</th>\n",
       "      <th>2023 % diff</th>\n",
       "      <th>2024 % diff</th>\n",
       "    </tr>\n",
       "  </thead>\n",
       "  <tbody>\n",
       "    <tr>\n",
       "      <th>0</th>\n",
       "      <td>Link Red Line</td>\n",
       "      <td>78,765.00</td>\n",
       "      <td>91,203.00</td>\n",
       "      <td>75,221.83</td>\n",
       "      <td>-4.50%</td>\n",
       "      <td>-17.52%</td>\n",
       "    </tr>\n",
       "    <tr>\n",
       "      <th>1</th>\n",
       "      <td>Sounder</td>\n",
       "      <td>6,765.00</td>\n",
       "      <td>7,711.00</td>\n",
       "      <td>4,526.20</td>\n",
       "      <td>-33.09%</td>\n",
       "      <td>-41.30%</td>\n",
       "    </tr>\n",
       "  </tbody>\n",
       "</table>\n",
       "</div>"
      ],
      "text/plain": [
       "         submode  2023 boarding  2024 boarding  model_boardings 2023 % diff  \\\n",
       "0  Link Red Line      78,765.00      91,203.00        75,221.83      -4.50%   \n",
       "1        Sounder       6,765.00       7,711.00         4,526.20     -33.09%   \n",
       "\n",
       "  2024 % diff  \n",
       "0     -17.52%  \n",
       "1     -41.30%  "
      ]
     },
     "execution_count": 3,
     "metadata": {},
     "output_type": "execute_result"
    }
   ],
   "source": [
    "df_boarding_line = pd.read_csv(os.path.join(csv_path,'daily_boardings_by_line.csv'), index_col='description')\n",
    "df_boarding_line[['observed_boardings','model_boardings']] = df_boarding_line[['observed_boardings','model_boardings']].astype('float')\n",
    "\n",
    "df_mode = df_boarding_line[df_boarding_line['route_code'].isin([6996,6999,6998])].reset_index()\n",
    "\n",
    "df_mode['submode'] = df_mode['mode'].map({\"r\": \"Link Red Line\", \"c\": \"Sounder\"})\n",
    "df_mode = df_mode[['submode','model_boardings']].copy()\n",
    "df_mode = df_mode.groupby('submode')['model_boardings'].sum().reset_index()\n",
    "\n",
    "df_obs = pd.read_sql(text(\"SELECT * FROM observed_transit_agency_boardings\"), con=conn.connect())\n",
    "df_obs_mode = df_obs.copy()\n",
    "df_obs_mode['boardings'] = df_obs_mode['boardings'].astype(float)\n",
    "df_obs_mode = df_obs_mode[df_obs_mode['submode'].isin([\"Link\",\"Sounder\"])].copy()\n",
    "df_obs_mode['submode'] = df_obs_mode['submode'].map({\"Link\": \"Link Red Line\", \"Sounder\": \"Sounder\"})\n",
    "\n",
    "df_obs_mode = df_obs_mode.groupby(['submode','year'])['boardings'].sum().unstack().reset_index()\n",
    "df_obs_mode = df_obs_mode.rename(columns={2023:'2023 boarding', 2024:'2024 boarding'})\n",
    "df_mode = df_obs_mode.merge(df_mode, on='submode')\n",
    "\n",
    "df_mode['2023 % diff'] = (df_mode['model_boardings']-df_mode['2023 boarding'])/df_mode['2023 boarding']\n",
    "df_mode['2024 % diff'] = (df_mode['model_boardings']-df_mode['2024 boarding'])/df_mode['2024 boarding']\n",
    "df_mode[['2023 % diff']] = df_mode[['2023 % diff']].applymap(format_percent)\n",
    "df_mode[['2024 % diff']] = df_mode[['2024 % diff']].applymap(format_percent)\n",
    "\n",
    "df_mode"
   ]
  },
  {
   "cell_type": "raw",
   "id": "119f4510",
   "metadata": {
    "vscode": {
     "languageId": "raw"
    }
   },
   "source": [
    ":::"
   ]
  },
  {
   "cell_type": "markdown",
   "id": "b0eb0b3986c9d024",
   "metadata": {},
   "source": [
    "### boarding by agency"
   ]
  },
  {
   "cell_type": "raw",
   "id": "9afc046d",
   "metadata": {
    "vscode": {
     "languageId": "raw"
    }
   },
   "source": [
    ":::{.panel-tabset}\n",
    "\n",
    "#### 2023"
   ]
  },
  {
   "cell_type": "code",
   "execution_count": 4,
   "id": "daca8798e4e1c396",
   "metadata": {
    "ExecuteTime": {
     "end_time": "2024-06-24T20:04:29.076584Z",
     "start_time": "2024-06-24T20:04:29.029595Z"
    },
    "execution": {
     "iopub.execute_input": "2024-12-14T02:38:39.952038Z",
     "iopub.status.busy": "2024-12-14T02:38:39.950043Z",
     "iopub.status.idle": "2024-12-14T02:38:40.002253Z",
     "shell.execute_reply": "2024-12-14T02:38:39.999910Z"
    }
   },
   "outputs": [],
   "source": [
    "df = pd.read_csv(os.path.join(csv_path, 'daily_boardings_by_agency.csv')).sort_values('observed_boardings', ascending=False)\n",
    "plot_df = df.melt(id_vars=['agency'], value_vars=['observed_boardings', 'model_boardings'],\n",
    "                  var_name='source', value_name='count')"
   ]
  },
  {
   "cell_type": "code",
   "execution_count": 5,
   "id": "4f0d5527b7528301",
   "metadata": {
    "ExecuteTime": {
     "end_time": "2024-06-24T20:05:24.997972Z",
     "start_time": "2024-06-24T20:05:24.956972Z"
    },
    "execution": {
     "iopub.execute_input": "2024-12-14T02:38:40.013704Z",
     "iopub.status.busy": "2024-12-14T02:38:40.011713Z",
     "iopub.status.idle": "2024-12-14T02:38:40.079147Z",
     "shell.execute_reply": "2024-12-14T02:38:40.077153Z"
    }
   },
   "outputs": [
    {
     "data": {
      "text/html": [
       "<div>\n",
       "<style scoped>\n",
       "    .dataframe tbody tr th:only-of-type {\n",
       "        vertical-align: middle;\n",
       "    }\n",
       "\n",
       "    .dataframe tbody tr th {\n",
       "        vertical-align: top;\n",
       "    }\n",
       "\n",
       "    .dataframe thead th {\n",
       "        text-align: right;\n",
       "    }\n",
       "</style>\n",
       "<table border=\"1\" class=\"dataframe\">\n",
       "  <thead>\n",
       "    <tr style=\"text-align: right;\">\n",
       "      <th></th>\n",
       "      <th>index</th>\n",
       "      <th>agency</th>\n",
       "      <th>observed_boardings</th>\n",
       "      <th>model_boardings</th>\n",
       "      <th>diff</th>\n",
       "      <th>perc_diff</th>\n",
       "    </tr>\n",
       "  </thead>\n",
       "  <tbody>\n",
       "    <tr>\n",
       "      <th>0</th>\n",
       "      <td>2</td>\n",
       "      <td>King County Metro</td>\n",
       "      <td>253,313.62</td>\n",
       "      <td>267,306.59</td>\n",
       "      <td>13,992.97</td>\n",
       "      <td>5.52%</td>\n",
       "    </tr>\n",
       "    <tr>\n",
       "      <th>1</th>\n",
       "      <td>5</td>\n",
       "      <td>Sound Transit</td>\n",
       "      <td>113,374.00</td>\n",
       "      <td>126,059.04</td>\n",
       "      <td>12,685.04</td>\n",
       "      <td>11.19%</td>\n",
       "    </tr>\n",
       "    <tr>\n",
       "      <th>2</th>\n",
       "      <td>0</td>\n",
       "      <td>Community Transit</td>\n",
       "      <td>25,962.00</td>\n",
       "      <td>29,051.47</td>\n",
       "      <td>3,089.47</td>\n",
       "      <td>11.90%</td>\n",
       "    </tr>\n",
       "    <tr>\n",
       "      <th>3</th>\n",
       "      <td>4</td>\n",
       "      <td>Pierce Transit</td>\n",
       "      <td>21,185.00</td>\n",
       "      <td>14,931.84</td>\n",
       "      <td>-6,253.16</td>\n",
       "      <td>-29.52%</td>\n",
       "    </tr>\n",
       "    <tr>\n",
       "      <th>4</th>\n",
       "      <td>6</td>\n",
       "      <td>Washington Ferries</td>\n",
       "      <td>9,278.21</td>\n",
       "      <td>5,607.03</td>\n",
       "      <td>-3,671.18</td>\n",
       "      <td>-39.57%</td>\n",
       "    </tr>\n",
       "    <tr>\n",
       "      <th>5</th>\n",
       "      <td>3</td>\n",
       "      <td>Kitsap Transit</td>\n",
       "      <td>8,258.00</td>\n",
       "      <td>11,447.59</td>\n",
       "      <td>3,189.59</td>\n",
       "      <td>38.62%</td>\n",
       "    </tr>\n",
       "    <tr>\n",
       "      <th>6</th>\n",
       "      <td>1</td>\n",
       "      <td>Everett Transit</td>\n",
       "      <td>4,201.00</td>\n",
       "      <td>5,063.03</td>\n",
       "      <td>862.03</td>\n",
       "      <td>20.52%</td>\n",
       "    </tr>\n",
       "    <tr>\n",
       "      <th>7</th>\n",
       "      <td>Total</td>\n",
       "      <td>Total</td>\n",
       "      <td>435,571.83</td>\n",
       "      <td>459,466.58</td>\n",
       "      <td>23,894.75</td>\n",
       "      <td>5.49%</td>\n",
       "    </tr>\n",
       "  </tbody>\n",
       "</table>\n",
       "</div>"
      ],
      "text/plain": [
       "   index              agency  observed_boardings  model_boardings      diff  \\\n",
       "0      2   King County Metro          253,313.62       267,306.59 13,992.97   \n",
       "1      5       Sound Transit          113,374.00       126,059.04 12,685.04   \n",
       "2      0   Community Transit           25,962.00        29,051.47  3,089.47   \n",
       "3      4      Pierce Transit           21,185.00        14,931.84 -6,253.16   \n",
       "4      6  Washington Ferries            9,278.21         5,607.03 -3,671.18   \n",
       "5      3      Kitsap Transit            8,258.00        11,447.59  3,189.59   \n",
       "6      1     Everett Transit            4,201.00         5,063.03    862.03   \n",
       "7  Total               Total          435,571.83       459,466.58 23,894.75   \n",
       "\n",
       "  perc_diff  \n",
       "0     5.52%  \n",
       "1    11.19%  \n",
       "2    11.90%  \n",
       "3   -29.52%  \n",
       "4   -39.57%  \n",
       "5    38.62%  \n",
       "6    20.52%  \n",
       "7     5.49%  "
      ]
     },
     "execution_count": 5,
     "metadata": {},
     "output_type": "execute_result"
    }
   ],
   "source": [
    "table_df = df.copy()\n",
    "\n",
    "table_df.loc['Total','observed_boardings'] = table_df.sum(axis=0).observed_boardings\n",
    "table_df.loc['Total','model_boardings'] = table_df.sum(axis=0).model_boardings\n",
    "table_df.loc['Total','agency'] = 'Total'\n",
    "table_df['diff'] = table_df['model_boardings']-table_df['observed_boardings']\n",
    "table_df['perc_diff'] = table_df['diff']/table_df['observed_boardings']\n",
    "table_df[['observed_boardings','model_boardings','diff']] = table_df[['observed_boardings','model_boardings','diff']].astype('float')\n",
    "table_df[['perc_diff']] = table_df[['perc_diff']].applymap(format_percent)\n",
    "table_df = table_df.reset_index()\n",
    "table_df"
   ]
  },
  {
   "cell_type": "raw",
   "id": "c43063a0",
   "metadata": {
    "vscode": {
     "languageId": "raw"
    }
   },
   "source": [
    "#### 2023/2024"
   ]
  },
  {
   "cell_type": "code",
   "execution_count": 6,
   "id": "6df663cd30d914ea",
   "metadata": {
    "ExecuteTime": {
     "end_time": "2024-06-24T17:50:27.521549Z",
     "start_time": "2024-06-24T17:50:27.349538Z"
    },
    "execution": {
     "iopub.execute_input": "2024-12-14T02:38:40.091115Z",
     "iopub.status.busy": "2024-12-14T02:38:40.090118Z",
     "iopub.status.idle": "2024-12-14T02:38:40.156559Z",
     "shell.execute_reply": "2024-12-14T02:38:40.154564Z"
    }
   },
   "outputs": [
    {
     "data": {
      "text/html": [
       "<div>\n",
       "<style scoped>\n",
       "    .dataframe tbody tr th:only-of-type {\n",
       "        vertical-align: middle;\n",
       "    }\n",
       "\n",
       "    .dataframe tbody tr th {\n",
       "        vertical-align: top;\n",
       "    }\n",
       "\n",
       "    .dataframe thead th {\n",
       "        text-align: right;\n",
       "    }\n",
       "</style>\n",
       "<table border=\"1\" class=\"dataframe\">\n",
       "  <thead>\n",
       "    <tr style=\"text-align: right;\">\n",
       "      <th></th>\n",
       "      <th>agency</th>\n",
       "      <th>2023 boarding</th>\n",
       "      <th>2024 boarding</th>\n",
       "      <th>model_boardings</th>\n",
       "      <th>2023 % diff</th>\n",
       "      <th>2024 % diff</th>\n",
       "    </tr>\n",
       "  </thead>\n",
       "  <tbody>\n",
       "    <tr>\n",
       "      <th>0</th>\n",
       "      <td>Community Transit</td>\n",
       "      <td>23,000.00</td>\n",
       "      <td>0.00</td>\n",
       "      <td>29,051.47</td>\n",
       "      <td>26.31%</td>\n",
       "      <td>-</td>\n",
       "    </tr>\n",
       "    <tr>\n",
       "      <th>1</th>\n",
       "      <td>Everett Transit</td>\n",
       "      <td>0.00</td>\n",
       "      <td>0.00</td>\n",
       "      <td>5,063.03</td>\n",
       "      <td>-</td>\n",
       "      <td>-</td>\n",
       "    </tr>\n",
       "    <tr>\n",
       "      <th>2</th>\n",
       "      <td>King County Metro</td>\n",
       "      <td>244,306.00</td>\n",
       "      <td>272,556.00</td>\n",
       "      <td>267,306.59</td>\n",
       "      <td>9.41%</td>\n",
       "      <td>-1.93%</td>\n",
       "    </tr>\n",
       "    <tr>\n",
       "      <th>3</th>\n",
       "      <td>Kitsap Transit</td>\n",
       "      <td>8,000.00</td>\n",
       "      <td>9,300.00</td>\n",
       "      <td>11,447.59</td>\n",
       "      <td>43.09%</td>\n",
       "      <td>23.09%</td>\n",
       "    </tr>\n",
       "    <tr>\n",
       "      <th>4</th>\n",
       "      <td>Pierce Transit</td>\n",
       "      <td>19,974.00</td>\n",
       "      <td>0.00</td>\n",
       "      <td>14,931.84</td>\n",
       "      <td>-25.24%</td>\n",
       "      <td>-</td>\n",
       "    </tr>\n",
       "    <tr>\n",
       "      <th>5</th>\n",
       "      <td>Sound Transit</td>\n",
       "      <td>115,516.00</td>\n",
       "      <td>133,703.00</td>\n",
       "      <td>126,059.04</td>\n",
       "      <td>9.13%</td>\n",
       "      <td>-5.72%</td>\n",
       "    </tr>\n",
       "    <tr>\n",
       "      <th>6</th>\n",
       "      <td>Washington Ferries</td>\n",
       "      <td>0.00</td>\n",
       "      <td>0.00</td>\n",
       "      <td>5,607.03</td>\n",
       "      <td>-</td>\n",
       "      <td>-</td>\n",
       "    </tr>\n",
       "  </tbody>\n",
       "</table>\n",
       "</div>"
      ],
      "text/plain": [
       "               agency  2023 boarding  2024 boarding  model_boardings  \\\n",
       "0   Community Transit      23,000.00           0.00        29,051.47   \n",
       "1     Everett Transit           0.00           0.00         5,063.03   \n",
       "2   King County Metro     244,306.00     272,556.00       267,306.59   \n",
       "3      Kitsap Transit       8,000.00       9,300.00        11,447.59   \n",
       "4      Pierce Transit      19,974.00           0.00        14,931.84   \n",
       "5       Sound Transit     115,516.00     133,703.00       126,059.04   \n",
       "6  Washington Ferries           0.00           0.00         5,607.03   \n",
       "\n",
       "  2023 % diff 2024 % diff  \n",
       "0      26.31%           -  \n",
       "1           -           -  \n",
       "2       9.41%      -1.93%  \n",
       "3      43.09%      23.09%  \n",
       "4     -25.24%           -  \n",
       "5       9.13%      -5.72%  \n",
       "6           -           -  "
      ]
     },
     "execution_count": 6,
     "metadata": {},
     "output_type": "execute_result"
    }
   ],
   "source": [
    "df = pd.read_csv(os.path.join(csv_path, 'daily_boardings_by_agency.csv'), usecols=['agency', 'model_boardings']).sort_values('model_boardings', ascending=False)\n",
    "df_obs = pd.read_sql(text(\"SELECT * FROM observed_transit_agency_boardings\"), con=conn.connect())\n",
    "\n",
    "df_obs_agency = df_obs.copy()\n",
    "df_obs_agency['boardings'] = df_obs_agency['boardings'].astype(float)\n",
    "df_obs_agency = df_obs_agency.groupby(['agency','year'])['boardings'].sum().unstack().reset_index()\n",
    "df_obs_agency = df_obs_agency.rename(columns={2023:'2023 boarding', 2024:'2024 boarding'})\n",
    "df_agency = df_obs_agency.merge(df, on='agency')\n",
    "\n",
    "df_agency['2023 % diff'] = (df_agency['model_boardings']-df_agency['2023 boarding'])/df_agency['2023 boarding']\n",
    "df_agency['2024 % diff'] = (df_agency['model_boardings']-df_agency['2024 boarding'])/df_agency['2024 boarding']\n",
    "df_agency[['2023 % diff']] = df_agency[['2023 % diff']].applymap(format_percent)\n",
    "df_agency[['2024 % diff']] = df_agency[['2024 % diff']].applymap(format_percent)\n",
    "df_agency = df_agency.replace('inf%', '-')\n",
    "\n",
    "df_agency"
   ]
  },
  {
   "cell_type": "raw",
   "id": "b155fe89",
   "metadata": {},
   "source": [
    "#### Bus Ridership by Agency"
   ]
  },
  {
   "cell_type": "code",
   "execution_count": 7,
   "id": "843fd939",
   "metadata": {},
   "outputs": [
    {
     "data": {
      "text/html": [
       "<div>\n",
       "<style scoped>\n",
       "    .dataframe tbody tr th:only-of-type {\n",
       "        vertical-align: middle;\n",
       "    }\n",
       "\n",
       "    .dataframe tbody tr th {\n",
       "        vertical-align: top;\n",
       "    }\n",
       "\n",
       "    .dataframe thead th {\n",
       "        text-align: right;\n",
       "    }\n",
       "</style>\n",
       "<table border=\"1\" class=\"dataframe\">\n",
       "  <thead>\n",
       "    <tr style=\"text-align: right;\">\n",
       "      <th></th>\n",
       "      <th>observed_boardings</th>\n",
       "      <th>model_boardings</th>\n",
       "      <th>difference</th>\n",
       "      <th>percent diff</th>\n",
       "    </tr>\n",
       "    <tr>\n",
       "      <th>agency</th>\n",
       "      <th></th>\n",
       "      <th></th>\n",
       "      <th></th>\n",
       "      <th></th>\n",
       "    </tr>\n",
       "  </thead>\n",
       "  <tbody>\n",
       "    <tr>\n",
       "      <th>Community Transit</th>\n",
       "      <td>25,962.00</td>\n",
       "      <td>29,051.47</td>\n",
       "      <td>3,089.47</td>\n",
       "      <td>11.90%</td>\n",
       "    </tr>\n",
       "    <tr>\n",
       "      <th>Everett Transit</th>\n",
       "      <td>4,201.00</td>\n",
       "      <td>5,063.03</td>\n",
       "      <td>862.03</td>\n",
       "      <td>20.52%</td>\n",
       "    </tr>\n",
       "    <tr>\n",
       "      <th>King County Metro</th>\n",
       "      <td>251,166.45</td>\n",
       "      <td>265,031.47</td>\n",
       "      <td>13,865.02</td>\n",
       "      <td>5.52%</td>\n",
       "    </tr>\n",
       "    <tr>\n",
       "      <th>Kitsap Transit</th>\n",
       "      <td>4,048.00</td>\n",
       "      <td>6,151.21</td>\n",
       "      <td>2,103.21</td>\n",
       "      <td>51.96%</td>\n",
       "    </tr>\n",
       "    <tr>\n",
       "      <th>Pierce Transit</th>\n",
       "      <td>21,185.00</td>\n",
       "      <td>14,931.84</td>\n",
       "      <td>-6,253.16</td>\n",
       "      <td>-29.52%</td>\n",
       "    </tr>\n",
       "    <tr>\n",
       "      <th>Sound Transit</th>\n",
       "      <td>26,079.00</td>\n",
       "      <td>44,637.45</td>\n",
       "      <td>18,558.45</td>\n",
       "      <td>71.16%</td>\n",
       "    </tr>\n",
       "  </tbody>\n",
       "</table>\n",
       "</div>"
      ],
      "text/plain": [
       "                   observed_boardings  model_boardings  difference  \\\n",
       "agency                                                               \n",
       "Community Transit           25,962.00        29,051.47    3,089.47   \n",
       "Everett Transit              4,201.00         5,063.03      862.03   \n",
       "King County Metro          251,166.45       265,031.47   13,865.02   \n",
       "Kitsap Transit               4,048.00         6,151.21    2,103.21   \n",
       "Pierce Transit              21,185.00        14,931.84   -6,253.16   \n",
       "Sound Transit               26,079.00        44,637.45   18,558.45   \n",
       "\n",
       "                  percent diff  \n",
       "agency                          \n",
       "Community Transit       11.90%  \n",
       "Everett Transit         20.52%  \n",
       "King County Metro        5.52%  \n",
       "Kitsap Transit          51.96%  \n",
       "Pierce Transit         -29.52%  \n",
       "Sound Transit           71.16%  "
      ]
     },
     "execution_count": 7,
     "metadata": {},
     "output_type": "execute_result"
    }
   ],
   "source": [
    "df = pd.read_csv(os.path.join(csv_path, 'daily_boardings_by_line.csv')).sort_values('observed_boardings', ascending=False)\n",
    "df\n",
    "df = df[df['mode'].isin(['b'])]\n",
    "df = df.groupby(['agency']).sum()[['observed_boardings','model_boardings']]\n",
    "df['difference'] = df['model_boardings']-df['observed_boardings']\n",
    "df['percent diff'] = (df['difference']/df['observed_boardings'])\n",
    "df[['percent diff']] = df[['percent diff']].applymap(format_percent)\n",
    "df\n",
    "\n",
    "# table_df.loc['Total','observed_boardings'] = table_df.sum(axis=0).observed_boardings\n",
    "# table_df.loc['Total','model_boardings'] = table_df.sum(axis=0).model_boardings\n",
    "# table_df.loc['Total','agency'] = 'Total'\n",
    "# table_df['diff'] = table_df['model_boardings']-table_df['observed_boardings']\n",
    "# table_df['perc_diff'] = table_df['diff']/table_df['observed_boardings']\n",
    "# table_df[['observed_boardings','model_boardings','diff']] = table_df[['observed_boardings','model_boardings','diff']].astype('float')\n",
    "# table_df[['perc_diff']] = table_df[['perc_diff']].applymap(format_percent)\n",
    "# table_df = table_df.reset_index()\n",
    "# table_df"
   ]
  },
  {
   "cell_type": "raw",
   "id": "e64f5283",
   "metadata": {
    "vscode": {
     "languageId": "raw"
    }
   },
   "source": [
    ":::"
   ]
  },
  {
   "cell_type": "markdown",
   "id": "10436e8bdd112348",
   "metadata": {},
   "source": [
    "### boarding by key route"
   ]
  },
  {
   "cell_type": "raw",
   "id": "7d0d62e3693265f8",
   "metadata": {},
   "source": [
    ":::{.panel-tabset}\n",
    "#### ferry"
   ]
  },
  {
   "cell_type": "code",
   "execution_count": 8,
   "id": "c734c2e2",
   "metadata": {},
   "outputs": [
    {
     "data": {
      "text/html": [
       "<div>\n",
       "<style scoped>\n",
       "    .dataframe tbody tr th:only-of-type {\n",
       "        vertical-align: middle;\n",
       "    }\n",
       "\n",
       "    .dataframe tbody tr th {\n",
       "        vertical-align: top;\n",
       "    }\n",
       "\n",
       "    .dataframe thead th {\n",
       "        text-align: right;\n",
       "    }\n",
       "</style>\n",
       "<table border=\"1\" class=\"dataframe\">\n",
       "  <thead>\n",
       "    <tr style=\"text-align: right;\">\n",
       "      <th></th>\n",
       "      <th>description</th>\n",
       "      <th>mode</th>\n",
       "      <th>observed_boardings</th>\n",
       "      <th>model_boardings</th>\n",
       "      <th>diff</th>\n",
       "      <th>perc_diff</th>\n",
       "    </tr>\n",
       "  </thead>\n",
       "  <tbody>\n",
       "    <tr>\n",
       "      <th>147</th>\n",
       "      <td>973 W Sea Water Taxi</td>\n",
       "      <td>p</td>\n",
       "      <td>759.00</td>\n",
       "      <td>359.16</td>\n",
       "      <td>-399.84</td>\n",
       "      <td>-0.53</td>\n",
       "    </tr>\n",
       "    <tr>\n",
       "      <th>148</th>\n",
       "      <td>975 Vashn Water Taxi</td>\n",
       "      <td>f</td>\n",
       "      <td>338.00</td>\n",
       "      <td>330.21</td>\n",
       "      <td>-7.79</td>\n",
       "      <td>-0.02</td>\n",
       "    </tr>\n",
       "    <tr>\n",
       "      <th>270</th>\n",
       "      <td>Seattle-Bremerton FF</td>\n",
       "      <td>f</td>\n",
       "      <td>1,913.00</td>\n",
       "      <td>3,302.96</td>\n",
       "      <td>1,389.96</td>\n",
       "      <td>0.73</td>\n",
       "    </tr>\n",
       "    <tr>\n",
       "      <th>271</th>\n",
       "      <td>Brem-Pt Orchard FF</td>\n",
       "      <td>p</td>\n",
       "      <td>768.00</td>\n",
       "      <td>1,044.54</td>\n",
       "      <td>276.54</td>\n",
       "      <td>0.36</td>\n",
       "    </tr>\n",
       "    <tr>\n",
       "      <th>272</th>\n",
       "      <td>Brem-Annapolis FF</td>\n",
       "      <td>p</td>\n",
       "      <td>469.00</td>\n",
       "      <td>224.74</td>\n",
       "      <td>-244.26</td>\n",
       "      <td>-0.52</td>\n",
       "    </tr>\n",
       "    <tr>\n",
       "      <th>273</th>\n",
       "      <td>Seattle-Kingston FF</td>\n",
       "      <td>p</td>\n",
       "      <td>429.00</td>\n",
       "      <td>83.00</td>\n",
       "      <td>-346.00</td>\n",
       "      <td>-0.81</td>\n",
       "    </tr>\n",
       "    <tr>\n",
       "      <th>274</th>\n",
       "      <td>Seattle-Southwrth FF</td>\n",
       "      <td>f</td>\n",
       "      <td>631.00</td>\n",
       "      <td>641.13</td>\n",
       "      <td>10.13</td>\n",
       "      <td>0.02</td>\n",
       "    </tr>\n",
       "    <tr>\n",
       "      <th>278</th>\n",
       "      <td>WSF Edmonds-Kingston</td>\n",
       "      <td>f</td>\n",
       "      <td>1,500.13</td>\n",
       "      <td>187.23</td>\n",
       "      <td>-1,312.90</td>\n",
       "      <td>-0.88</td>\n",
       "    </tr>\n",
       "    <tr>\n",
       "      <th>279</th>\n",
       "      <td>WSF Seattle-Bain Isl</td>\n",
       "      <td>f</td>\n",
       "      <td>5,513.69</td>\n",
       "      <td>3,870.37</td>\n",
       "      <td>-1,643.33</td>\n",
       "      <td>-0.30</td>\n",
       "    </tr>\n",
       "    <tr>\n",
       "      <th>280</th>\n",
       "      <td>WSF Seattle-Brem</td>\n",
       "      <td>f</td>\n",
       "      <td>1,188.97</td>\n",
       "      <td>181.57</td>\n",
       "      <td>-1,007.40</td>\n",
       "      <td>-0.85</td>\n",
       "    </tr>\n",
       "    <tr>\n",
       "      <th>281</th>\n",
       "      <td>WSF Fauntleroy-Swrth</td>\n",
       "      <td>p</td>\n",
       "      <td>142.56</td>\n",
       "      <td>431.22</td>\n",
       "      <td>288.66</td>\n",
       "      <td>2.02</td>\n",
       "    </tr>\n",
       "    <tr>\n",
       "      <th>282</th>\n",
       "      <td>WSF Fauntleroy-Vashn</td>\n",
       "      <td>p</td>\n",
       "      <td>560.04</td>\n",
       "      <td>646.17</td>\n",
       "      <td>86.13</td>\n",
       "      <td>0.15</td>\n",
       "    </tr>\n",
       "    <tr>\n",
       "      <th>283</th>\n",
       "      <td>WSF Vashon-Southwrth</td>\n",
       "      <td>p</td>\n",
       "      <td>107.76</td>\n",
       "      <td>93.01</td>\n",
       "      <td>-14.75</td>\n",
       "      <td>-0.14</td>\n",
       "    </tr>\n",
       "    <tr>\n",
       "      <th>284</th>\n",
       "      <td>WSF Pt Def-Tahlequah</td>\n",
       "      <td>f</td>\n",
       "      <td>265.05</td>\n",
       "      <td>197.45</td>\n",
       "      <td>-67.60</td>\n",
       "      <td>-0.26</td>\n",
       "    </tr>\n",
       "  </tbody>\n",
       "</table>\n",
       "</div>"
      ],
      "text/plain": [
       "              description mode  observed_boardings  model_boardings      diff  \\\n",
       "147  973 W Sea Water Taxi    p              759.00           359.16   -399.84   \n",
       "148  975 Vashn Water Taxi    f              338.00           330.21     -7.79   \n",
       "270  Seattle-Bremerton FF    f            1,913.00         3,302.96  1,389.96   \n",
       "271    Brem-Pt Orchard FF    p              768.00         1,044.54    276.54   \n",
       "272     Brem-Annapolis FF    p              469.00           224.74   -244.26   \n",
       "273   Seattle-Kingston FF    p              429.00            83.00   -346.00   \n",
       "274  Seattle-Southwrth FF    f              631.00           641.13     10.13   \n",
       "278  WSF Edmonds-Kingston    f            1,500.13           187.23 -1,312.90   \n",
       "279  WSF Seattle-Bain Isl    f            5,513.69         3,870.37 -1,643.33   \n",
       "280      WSF Seattle-Brem    f            1,188.97           181.57 -1,007.40   \n",
       "281  WSF Fauntleroy-Swrth    p              142.56           431.22    288.66   \n",
       "282  WSF Fauntleroy-Vashn    p              560.04           646.17     86.13   \n",
       "283  WSF Vashon-Southwrth    p              107.76            93.01    -14.75   \n",
       "284  WSF Pt Def-Tahlequah    f              265.05           197.45    -67.60   \n",
       "\n",
       "     perc_diff  \n",
       "147      -0.53  \n",
       "148      -0.02  \n",
       "270       0.73  \n",
       "271       0.36  \n",
       "272      -0.52  \n",
       "273      -0.81  \n",
       "274       0.02  \n",
       "278      -0.88  \n",
       "279      -0.30  \n",
       "280      -0.85  \n",
       "281       2.02  \n",
       "282       0.15  \n",
       "283      -0.14  \n",
       "284      -0.26  "
      ]
     },
     "execution_count": 8,
     "metadata": {},
     "output_type": "execute_result"
    }
   ],
   "source": [
    "# df_boarding_key = pd.read_csv(os.path.join(csv_path,'daily_boardings_key_routes.csv'), index_col='description')\n",
    "# # df_boarding_key[['observed_boardings','model_boardings']] = df_boarding_key[['observed_boardings','model_boardings']].astype('float')\n",
    "# # df = df_boarding_key[df_boarding_key['route_code'].isin([4200,4201,4203,4204,5001,5002,5003,5004,5005,5006,5007,1973,1975])].reset_index()\n",
    "# # df.drop(['route_code','agency'], axis=1, inplace=True)\n",
    "# # df\n",
    "# df_boarding_key\n",
    "df = pd.read_csv(os.path.join(csv_path, 'daily_boardings_by_line.csv'))\n",
    "df = df[df['mode'].isin(['f','p'])][['description','mode','observed_boardings','model_boardings','diff','perc_diff']]\n",
    "df"
   ]
  },
  {
   "cell_type": "code",
   "execution_count": null,
   "id": "da96ea0d",
   "metadata": {},
   "outputs": [],
   "source": []
  },
  {
   "cell_type": "code",
   "execution_count": 9,
   "id": "75118f994b2c8118",
   "metadata": {
    "ExecuteTime": {
     "end_time": "2024-06-24T20:05:33.107476Z",
     "start_time": "2024-06-24T20:05:33.044901Z"
    },
    "execution": {
     "iopub.execute_input": "2024-12-14T02:38:40.169525Z",
     "iopub.status.busy": "2024-12-14T02:38:40.168527Z",
     "iopub.status.idle": "2024-12-14T02:38:40.235796Z",
     "shell.execute_reply": "2024-12-14T02:38:40.234293Z"
    }
   },
   "outputs": [
    {
     "data": {
      "text/html": [
       "<div>\n",
       "<style scoped>\n",
       "    .dataframe tbody tr th:only-of-type {\n",
       "        vertical-align: middle;\n",
       "    }\n",
       "\n",
       "    .dataframe tbody tr th {\n",
       "        vertical-align: top;\n",
       "    }\n",
       "\n",
       "    .dataframe thead th {\n",
       "        text-align: right;\n",
       "    }\n",
       "</style>\n",
       "<table border=\"1\" class=\"dataframe\">\n",
       "  <thead>\n",
       "    <tr style=\"text-align: right;\">\n",
       "      <th></th>\n",
       "      <th>description</th>\n",
       "      <th>observed_boardings</th>\n",
       "      <th>model_boardings</th>\n",
       "      <th>diff</th>\n",
       "      <th>perc_diff</th>\n",
       "    </tr>\n",
       "  </thead>\n",
       "  <tbody>\n",
       "  </tbody>\n",
       "</table>\n",
       "</div>"
      ],
      "text/plain": [
       "Empty DataFrame\n",
       "Columns: [description, observed_boardings, model_boardings, diff, perc_diff]\n",
       "Index: []"
      ]
     },
     "execution_count": 9,
     "metadata": {},
     "output_type": "execute_result"
    }
   ],
   "source": [
    "df_boarding_key = pd.read_csv(os.path.join(csv_path,'daily_boardings_key_routes.csv'), index_col='description')\n",
    "df_boarding_key[['observed_boardings','model_boardings']] = df_boarding_key[['observed_boardings','model_boardings']].astype('float')\n",
    "\n",
    "df = df_boarding_key[df_boarding_key['route_code'].isin([4200,4201,4203,4204,5001,5002,5003,5004,5005,5006,5007,1973,1975])].reset_index()\n",
    "df.drop(['route_code','agency'], axis=1, inplace=True)\n",
    "\n",
    "df_table = df.copy()\n",
    "df_table[['perc_diff']] = df_table[['perc_diff']].applymap(format_percent)\n",
    "df_table"
   ]
  },
  {
   "cell_type": "code",
   "execution_count": 10,
   "id": "67bf06d211cca3c6",
   "metadata": {
    "ExecuteTime": {
     "end_time": "2024-06-24T19:41:04.985397Z",
     "start_time": "2024-06-24T19:41:04.798158Z"
    },
    "execution": {
     "iopub.execute_input": "2024-12-14T02:38:40.247764Z",
     "iopub.status.busy": "2024-12-14T02:38:40.246767Z",
     "iopub.status.idle": "2024-12-14T02:38:40.267712Z",
     "shell.execute_reply": "2024-12-14T02:38:40.265717Z"
    }
   },
   "outputs": [],
   "source": [
    "if len(df) > 0:\n",
    "    ax = df.plot(kind='scatter', x='observed_boardings', y='model_boardings')\n",
    "    lim = df[['observed_boardings','model_boardings']].max().max()*1.05\n",
    "    ax.set_ylim(0,lim)\n",
    "    ax.set_xlim(0,lim)\n",
    "    x = np.linspace(*ax.get_xlim())\n",
    "    ax.plot(x, x)\n",
    "    slope, intercept, r_value, p_value, std_err = stats.linregress(df['observed_boardings'],df['model_boardings'])\n",
    "    print('r^2 ' + str('') + ': ' + str(r_value))"
   ]
  },
  {
   "cell_type": "code",
   "execution_count": 11,
   "id": "693dd2ccc9b68311",
   "metadata": {
    "ExecuteTime": {
     "end_time": "2024-06-24T20:05:41.122932Z",
     "start_time": "2024-06-24T20:05:41.060989Z"
    },
    "execution": {
     "iopub.execute_input": "2024-12-14T02:38:40.279681Z",
     "iopub.status.busy": "2024-12-14T02:38:40.277686Z",
     "iopub.status.idle": "2024-12-14T02:38:40.346023Z",
     "shell.execute_reply": "2024-12-14T02:38:40.344519Z"
    }
   },
   "outputs": [],
   "source": [
    "# df = pd.read_csv(os.path.join(csv_path,'bike_ferry_boardings.csv')).sort_values('@bvol', ascending=False)\n",
    "# df['route_code'] = df['route_code'].astype('int')\n",
    "# df[['route_code','description', '@bvol']]"
   ]
  },
  {
   "cell_type": "raw",
   "id": "14db883222970442",
   "metadata": {},
   "source": [
    "#### rail"
   ]
  },
  {
   "cell_type": "code",
   "execution_count": 12,
   "id": "c9adf289ac66da8",
   "metadata": {
    "ExecuteTime": {
     "end_time": "2024-06-24T20:05:45.826421Z",
     "start_time": "2024-06-24T20:05:45.779797Z"
    },
    "execution": {
     "iopub.execute_input": "2024-12-14T02:38:40.358988Z",
     "iopub.status.busy": "2024-12-14T02:38:40.356994Z",
     "iopub.status.idle": "2024-12-14T02:38:40.393246Z",
     "shell.execute_reply": "2024-12-14T02:38:40.391251Z"
    }
   },
   "outputs": [
    {
     "data": {
      "text/html": [
       "<div>\n",
       "<style scoped>\n",
       "    .dataframe tbody tr th:only-of-type {\n",
       "        vertical-align: middle;\n",
       "    }\n",
       "\n",
       "    .dataframe tbody tr th {\n",
       "        vertical-align: top;\n",
       "    }\n",
       "\n",
       "    .dataframe thead th {\n",
       "        text-align: right;\n",
       "    }\n",
       "</style>\n",
       "<table border=\"1\" class=\"dataframe\">\n",
       "  <thead>\n",
       "    <tr style=\"text-align: right;\">\n",
       "      <th></th>\n",
       "      <th>description</th>\n",
       "      <th>observed_boardings</th>\n",
       "      <th>model_boardings</th>\n",
       "      <th>diff</th>\n",
       "      <th>perc_diff</th>\n",
       "    </tr>\n",
       "  </thead>\n",
       "  <tbody>\n",
       "    <tr>\n",
       "      <th>0</th>\n",
       "      <td>Sounder South</td>\n",
       "      <td>6,038.00</td>\n",
       "      <td>4,522.00</td>\n",
       "      <td>-1,516.00</td>\n",
       "      <td>-25.11%</td>\n",
       "    </tr>\n",
       "    <tr>\n",
       "      <th>1</th>\n",
       "      <td>Sounder North</td>\n",
       "      <td>316.00</td>\n",
       "      <td>4.20</td>\n",
       "      <td>-311.80</td>\n",
       "      <td>-98.67%</td>\n",
       "    </tr>\n",
       "  </tbody>\n",
       "</table>\n",
       "</div>"
      ],
      "text/plain": [
       "     description  observed_boardings  model_boardings      diff perc_diff\n",
       "0  Sounder South            6,038.00         4,522.00 -1,516.00   -25.11%\n",
       "1  Sounder North              316.00             4.20   -311.80   -98.67%"
      ]
     },
     "execution_count": 12,
     "metadata": {},
     "output_type": "execute_result"
    }
   ],
   "source": [
    "df = df_boarding_key[df_boarding_key['route_code'].isin([6996,6999,6998])].reset_index()\n",
    "df['description'] = df['route_code'].map({6998: 'Sounder South', 6999: 'Sounder North',6996: 'Link Red Line'})\n",
    "df.drop(['route_code','agency'], axis=1, inplace=True)\n",
    "\n",
    "df_table = df.copy()\n",
    "df_table[['perc_diff']] = df_table[['perc_diff']].applymap(format_percent)\n",
    "\n",
    "df_table"
   ]
  },
  {
   "cell_type": "code",
   "execution_count": 13,
   "id": "cb27f79888f8363d",
   "metadata": {
    "ExecuteTime": {
     "end_time": "2024-06-24T19:41:16.172926Z",
     "start_time": "2024-06-24T19:41:15.922628Z"
    },
    "execution": {
     "iopub.execute_input": "2024-12-14T02:38:40.404216Z",
     "iopub.status.busy": "2024-12-14T02:38:40.403219Z",
     "iopub.status.idle": "2024-12-14T02:38:40.833802Z",
     "shell.execute_reply": "2024-12-14T02:38:40.831807Z"
    }
   },
   "outputs": [
    {
     "name": "stdout",
     "output_type": "stream",
     "text": [
      "r^2 : 1.0\n"
     ]
    },
    {
     "data": {
      "image/png": "[encoded data removed]",
      "text/plain": [
       "<Figure size 432x288 with 1 Axes>"
      ]
     },
     "metadata": {
      "needs_background": "light"
     },
     "output_type": "display_data"
    }
   ],
   "source": [
    "if len(df) > 0:\n",
    "    ax = df.plot(kind='scatter', x='observed_boardings', y='model_boardings')\n",
    "    lim = df[['observed_boardings','model_boardings']].max().max()*1.05\n",
    "    ax.set_ylim(0,lim)\n",
    "    ax.set_xlim(0,lim)\n",
    "    x = np.linspace(*ax.get_xlim())\n",
    "    ax.plot(x, x)\n",
    "    slope, intercept, r_value, p_value, std_err = stats.linregress(df['observed_boardings'],df['model_boardings'])\n",
    "    print('r^2 ' + str('') + ': ' + str(r_value))"
   ]
  },
  {
   "cell_type": "raw",
   "id": "a24f21772d15369c",
   "metadata": {},
   "source": [
    "#### RapidRide, busiest buses, streetcar"
   ]
  },
  {
   "cell_type": "code",
   "execution_count": 14,
   "id": "a048f8a2b6d7d277",
   "metadata": {
    "ExecuteTime": {
     "end_time": "2024-06-24T20:05:51.529079Z",
     "start_time": "2024-06-24T20:05:51.482757Z"
    },
    "execution": {
     "iopub.execute_input": "2024-12-14T02:38:40.845770Z",
     "iopub.status.busy": "2024-12-14T02:38:40.844772Z",
     "iopub.status.idle": "2024-12-14T02:38:40.911021Z",
     "shell.execute_reply": "2024-12-14T02:38:40.909026Z"
    }
   },
   "outputs": [
    {
     "data": {
      "text/html": [
       "<div>\n",
       "<style scoped>\n",
       "    .dataframe tbody tr th:only-of-type {\n",
       "        vertical-align: middle;\n",
       "    }\n",
       "\n",
       "    .dataframe tbody tr th {\n",
       "        vertical-align: top;\n",
       "    }\n",
       "\n",
       "    .dataframe thead th {\n",
       "        text-align: right;\n",
       "    }\n",
       "</style>\n",
       "<table border=\"1\" class=\"dataframe\">\n",
       "  <thead>\n",
       "    <tr style=\"text-align: right;\">\n",
       "      <th></th>\n",
       "      <th>description</th>\n",
       "      <th>observed_boardings</th>\n",
       "      <th>model_boardings</th>\n",
       "      <th>diff</th>\n",
       "      <th>perc_diff</th>\n",
       "    </tr>\n",
       "  </thead>\n",
       "  <tbody>\n",
       "    <tr>\n",
       "      <th>4</th>\n",
       "      <td>E Line RapidRide</td>\n",
       "      <td>11,426.00</td>\n",
       "      <td>15,111.03</td>\n",
       "      <td>3,685.03</td>\n",
       "      <td>32.25%</td>\n",
       "    </tr>\n",
       "    <tr>\n",
       "      <th>2</th>\n",
       "      <td>C Line RapidRide</td>\n",
       "      <td>7,250.00</td>\n",
       "      <td>9,657.54</td>\n",
       "      <td>2,407.54</td>\n",
       "      <td>33.21%</td>\n",
       "    </tr>\n",
       "    <tr>\n",
       "      <th>3</th>\n",
       "      <td>D Line RapidRide</td>\n",
       "      <td>9,044.00</td>\n",
       "      <td>7,232.64</td>\n",
       "      <td>-1,811.36</td>\n",
       "      <td>-20.03%</td>\n",
       "    </tr>\n",
       "    <tr>\n",
       "      <th>0</th>\n",
       "      <td>A Line RapidRide</td>\n",
       "      <td>8,412.00</td>\n",
       "      <td>6,855.10</td>\n",
       "      <td>-1,556.90</td>\n",
       "      <td>-18.51%</td>\n",
       "    </tr>\n",
       "    <tr>\n",
       "      <th>1</th>\n",
       "      <td>B Line RapidRide</td>\n",
       "      <td>4,177.00</td>\n",
       "      <td>3,401.24</td>\n",
       "      <td>-775.76</td>\n",
       "      <td>-18.57%</td>\n",
       "    </tr>\n",
       "  </tbody>\n",
       "</table>\n",
       "</div>"
      ],
      "text/plain": [
       "        description  observed_boardings  model_boardings      diff perc_diff\n",
       "4  E Line RapidRide           11,426.00        15,111.03  3,685.03    32.25%\n",
       "2  C Line RapidRide            7,250.00         9,657.54  2,407.54    33.21%\n",
       "3  D Line RapidRide            9,044.00         7,232.64 -1,811.36   -20.03%\n",
       "0  A Line RapidRide            8,412.00         6,855.10 -1,556.90   -18.51%\n",
       "1  B Line RapidRide            4,177.00         3,401.24   -775.76   -18.57%"
      ]
     },
     "execution_count": 14,
     "metadata": {},
     "output_type": "execute_result"
    }
   ],
   "source": [
    "df = df_boarding_key[df_boarding_key['route_code'].isin([1671,1672,1673,1674,1675,1676,6550,1007,1040,1997,1998])].reset_index()\n",
    "df['description'] = df['route_code'].map({1671: 'A Line RapidRide', 1672: 'B Line RapidRide',\n",
    "                                            1673: 'C Line RapidRide', 1674: 'D Line RapidRide',\n",
    "                                            1675: 'E Line RapidRide', 1676: 'F Line RapidRide',\n",
    "                                            6550: 'Sound Transit 550', 1040: 'KC Metro 40', 1007: 'KC Metro 7',\n",
    "                                            1997: 'SLU Streetcar', 1998: 'First Hill Streetcar'})\n",
    "df.drop(['route_code','agency'], axis=1, inplace=True)\n",
    "\n",
    "df_table = df.copy()\n",
    "df_table[['perc_diff']] = df_table[['perc_diff']].applymap(format_percent)\n",
    "df_table.sort_values('model_boardings', ascending=False)"
   ]
  },
  {
   "cell_type": "code",
   "execution_count": 15,
   "id": "813aa67bd5e6c1f6",
   "metadata": {
    "ExecuteTime": {
     "end_time": "2024-06-24T19:41:23.547293Z",
     "start_time": "2024-06-24T19:41:23.312803Z"
    },
    "execution": {
     "iopub.execute_input": "2024-12-14T02:38:40.921991Z",
     "iopub.status.busy": "2024-12-14T02:38:40.920994Z",
     "iopub.status.idle": "2024-12-14T02:38:41.159750Z",
     "shell.execute_reply": "2024-12-14T02:38:41.157755Z"
    }
   },
   "outputs": [
    {
     "name": "stdout",
     "output_type": "stream",
     "text": [
      "r^2 : 0.8530077868813888\n"
     ]
    },
    {
     "data": {
      "image/png": "[encoded data removed]",
      "text/plain": [
       "<Figure size 432x288 with 1 Axes>"
      ]
     },
     "metadata": {
      "needs_background": "light"
     },
     "output_type": "display_data"
    }
   ],
   "source": [
    "if len(df) > 0:\n",
    "    ax = df.plot(kind='scatter', x='observed_boardings', y='model_boardings')\n",
    "    lim = df[['observed_boardings', 'model_boardings']].max().max() * 1.05\n",
    "    ax.set_ylim(0, lim)\n",
    "    ax.set_xlim(0, lim)\n",
    "    x = np.linspace(*ax.get_xlim())\n",
    "    ax.plot(x, x)\n",
    "    slope, intercept, r_value, p_value, std_err = stats.linregress(df['observed_boardings'], df['model_boardings'])\n",
    "    print('r^2 ' + str('') + ': ' + str(r_value))"
   ]
  },
  {
   "cell_type": "raw",
   "id": "c55611b2314fffc3",
   "metadata": {},
   "source": [
    ":::"
   ]
  },
  {
   "cell_type": "markdown",
   "id": "e050a08b",
   "metadata": {},
   "source": [
    "### Top routes by agency"
   ]
  },
  {
   "cell_type": "code",
   "execution_count": 16,
   "id": "58d89e2b",
   "metadata": {},
   "outputs": [],
   "source": [
    "df = pd.read_csv(os.path.join(csv_path, 'daily_boardings_by_line.csv'))\n",
    "# df_top = pd.DataFrame()\n",
    "# for agency in df['agency'].unique():\n",
    "#     _df = df[df['agency'] == agency].sort_values('model_boardings', ascending=False).head(8)\n",
    "#     df_top = pd.concat([df_top, _df])\n",
    "# df = df_top[['agency','description','mode','model_boardings','observed_boardings','diff','perc_diff']]\n",
    "cols=['agency','description','mode','model_boardings','observed_boardings','diff','perc_diff']"
   ]
  },
  {
   "cell_type": "raw",
   "id": "7972e453",
   "metadata": {},
   "source": [
    ":::{.panel-tabset}\n",
    "#### King County Metro"
   ]
  },
  {
   "cell_type": "code",
   "execution_count": 17,
   "id": "35a6745d",
   "metadata": {},
   "outputs": [
    {
     "data": {
      "text/html": [
       "<div>\n",
       "<style scoped>\n",
       "    .dataframe tbody tr th:only-of-type {\n",
       "        vertical-align: middle;\n",
       "    }\n",
       "\n",
       "    .dataframe tbody tr th {\n",
       "        vertical-align: top;\n",
       "    }\n",
       "\n",
       "    .dataframe thead th {\n",
       "        text-align: right;\n",
       "    }\n",
       "</style>\n",
       "<table border=\"1\" class=\"dataframe\">\n",
       "  <thead>\n",
       "    <tr style=\"text-align: right;\">\n",
       "      <th></th>\n",
       "      <th>agency</th>\n",
       "      <th>description</th>\n",
       "      <th>mode</th>\n",
       "      <th>model_boardings</th>\n",
       "      <th>observed_boardings</th>\n",
       "      <th>diff</th>\n",
       "      <th>perc_diff</th>\n",
       "    </tr>\n",
       "  </thead>\n",
       "  <tbody>\n",
       "    <tr>\n",
       "      <th>130</th>\n",
       "      <td>King County Metro</td>\n",
       "      <td>E-Line</td>\n",
       "      <td>b</td>\n",
       "      <td>15,111.03</td>\n",
       "      <td>11,426.00</td>\n",
       "      <td>3,685.03</td>\n",
       "      <td>0.32</td>\n",
       "    </tr>\n",
       "    <tr>\n",
       "      <th>5</th>\n",
       "      <td>King County Metro</td>\n",
       "      <td>7 Rain Bch-ColC-CBD</td>\n",
       "      <td>b</td>\n",
       "      <td>10,545.22</td>\n",
       "      <td>9,954.00</td>\n",
       "      <td>591.22</td>\n",
       "      <td>0.06</td>\n",
       "    </tr>\n",
       "    <tr>\n",
       "      <th>128</th>\n",
       "      <td>King County Metro</td>\n",
       "      <td>C Line</td>\n",
       "      <td>b</td>\n",
       "      <td>9,657.54</td>\n",
       "      <td>7,250.00</td>\n",
       "      <td>2,407.54</td>\n",
       "      <td>0.33</td>\n",
       "    </tr>\n",
       "    <tr>\n",
       "      <th>28</th>\n",
       "      <td>King County Metro</td>\n",
       "      <td>40 Ngt-Bal-Fre-CBD</td>\n",
       "      <td>b</td>\n",
       "      <td>8,470.60</td>\n",
       "      <td>7,208.00</td>\n",
       "      <td>1,262.60</td>\n",
       "      <td>0.18</td>\n",
       "    </tr>\n",
       "    <tr>\n",
       "      <th>129</th>\n",
       "      <td>King County Metro</td>\n",
       "      <td>D Line</td>\n",
       "      <td>b</td>\n",
       "      <td>7,232.64</td>\n",
       "      <td>9,044.00</td>\n",
       "      <td>-1,811.36</td>\n",
       "      <td>-0.20</td>\n",
       "    </tr>\n",
       "    <tr>\n",
       "      <th>132</th>\n",
       "      <td>King County Metro</td>\n",
       "      <td>H-Line</td>\n",
       "      <td>b</td>\n",
       "      <td>7,105.82</td>\n",
       "      <td>6,907.00</td>\n",
       "      <td>198.82</td>\n",
       "      <td>0.03</td>\n",
       "    </tr>\n",
       "    <tr>\n",
       "      <th>126</th>\n",
       "      <td>King County Metro</td>\n",
       "      <td>A Line</td>\n",
       "      <td>b</td>\n",
       "      <td>6,855.10</td>\n",
       "      <td>8,412.00</td>\n",
       "      <td>-1,556.90</td>\n",
       "      <td>-0.19</td>\n",
       "    </tr>\n",
       "    <tr>\n",
       "      <th>67</th>\n",
       "      <td>King County Metro</td>\n",
       "      <td>160 Aub-Kent-Rent</td>\n",
       "      <td>b</td>\n",
       "      <td>6,450.95</td>\n",
       "      <td>5,058.00</td>\n",
       "      <td>1,392.95</td>\n",
       "      <td>0.28</td>\n",
       "    </tr>\n",
       "    <tr>\n",
       "      <th>64</th>\n",
       "      <td>King County Metro</td>\n",
       "      <td>150 Kent-SC-Tuk-CBD</td>\n",
       "      <td>b</td>\n",
       "      <td>5,932.55</td>\n",
       "      <td>4,072.00</td>\n",
       "      <td>1,860.55</td>\n",
       "      <td>0.46</td>\n",
       "    </tr>\n",
       "    <tr>\n",
       "      <th>39</th>\n",
       "      <td>King County Metro</td>\n",
       "      <td>62 SndPt-GLk-Fre-CBD</td>\n",
       "      <td>b</td>\n",
       "      <td>5,891.15</td>\n",
       "      <td>5,899.00</td>\n",
       "      <td>-7.85</td>\n",
       "      <td>-0.00</td>\n",
       "    </tr>\n",
       "  </tbody>\n",
       "</table>\n",
       "</div>"
      ],
      "text/plain": [
       "                agency           description mode  model_boardings  \\\n",
       "130  King County Metro                E-Line    b        15,111.03   \n",
       "5    King County Metro   7 Rain Bch-ColC-CBD    b        10,545.22   \n",
       "128  King County Metro                C Line    b         9,657.54   \n",
       "28   King County Metro    40 Ngt-Bal-Fre-CBD    b         8,470.60   \n",
       "129  King County Metro                D Line    b         7,232.64   \n",
       "132  King County Metro                H-Line    b         7,105.82   \n",
       "126  King County Metro                A Line    b         6,855.10   \n",
       "67   King County Metro     160 Aub-Kent-Rent    b         6,450.95   \n",
       "64   King County Metro   150 Kent-SC-Tuk-CBD    b         5,932.55   \n",
       "39   King County Metro  62 SndPt-GLk-Fre-CBD    b         5,891.15   \n",
       "\n",
       "     observed_boardings      diff  perc_diff  \n",
       "130           11,426.00  3,685.03       0.32  \n",
       "5              9,954.00    591.22       0.06  \n",
       "128            7,250.00  2,407.54       0.33  \n",
       "28             7,208.00  1,262.60       0.18  \n",
       "129            9,044.00 -1,811.36      -0.20  \n",
       "132            6,907.00    198.82       0.03  \n",
       "126            8,412.00 -1,556.90      -0.19  \n",
       "67             5,058.00  1,392.95       0.28  \n",
       "64             4,072.00  1,860.55       0.46  \n",
       "39             5,899.00     -7.85      -0.00  "
      ]
     },
     "execution_count": 17,
     "metadata": {},
     "output_type": "execute_result"
    }
   ],
   "source": [
    "agency = 'King County Metro'\n",
    "df[df['agency'] == agency].sort_values('model_boardings', ascending=False).head(10)[cols]"
   ]
  },
  {
   "cell_type": "raw",
   "id": "cbdadc57",
   "metadata": {},
   "source": [
    "#### Sound Transit"
   ]
  },
  {
   "cell_type": "code",
   "execution_count": 18,
   "id": "fbbb65ca",
   "metadata": {},
   "outputs": [
    {
     "data": {
      "text/html": [
       "<div>\n",
       "<style scoped>\n",
       "    .dataframe tbody tr th:only-of-type {\n",
       "        vertical-align: middle;\n",
       "    }\n",
       "\n",
       "    .dataframe tbody tr th {\n",
       "        vertical-align: top;\n",
       "    }\n",
       "\n",
       "    .dataframe thead th {\n",
       "        text-align: right;\n",
       "    }\n",
       "</style>\n",
       "<table border=\"1\" class=\"dataframe\">\n",
       "  <thead>\n",
       "    <tr style=\"text-align: right;\">\n",
       "      <th></th>\n",
       "      <th>agency</th>\n",
       "      <th>description</th>\n",
       "      <th>mode</th>\n",
       "      <th>model_boardings</th>\n",
       "      <th>observed_boardings</th>\n",
       "      <th>diff</th>\n",
       "      <th>perc_diff</th>\n",
       "    </tr>\n",
       "  </thead>\n",
       "  <tbody>\n",
       "    <tr>\n",
       "      <th>309</th>\n",
       "      <td>Sound Transit</td>\n",
       "      <td>Light Rail Ang Lk-NG</td>\n",
       "      <td>r</td>\n",
       "      <td>75,221.83</td>\n",
       "      <td>79,522.00</td>\n",
       "      <td>-4,300.17</td>\n",
       "      <td>-0.05</td>\n",
       "    </tr>\n",
       "    <tr>\n",
       "      <th>293</th>\n",
       "      <td>Sound Transit</td>\n",
       "      <td>550 Bellevue-Seattle</td>\n",
       "      <td>b</td>\n",
       "      <td>7,744.78</td>\n",
       "      <td>3,351.00</td>\n",
       "      <td>4,393.78</td>\n",
       "      <td>1.31</td>\n",
       "    </tr>\n",
       "    <tr>\n",
       "      <th>292</th>\n",
       "      <td>Sound Transit</td>\n",
       "      <td>545 Redmond-Seattle</td>\n",
       "      <td>b</td>\n",
       "      <td>5,230.03</td>\n",
       "      <td>3,340.00</td>\n",
       "      <td>1,890.03</td>\n",
       "      <td>0.57</td>\n",
       "    </tr>\n",
       "    <tr>\n",
       "      <th>294</th>\n",
       "      <td>Sound Transit</td>\n",
       "      <td>554 Issaquah-Seattle</td>\n",
       "      <td>b</td>\n",
       "      <td>5,160.60</td>\n",
       "      <td>2,153.00</td>\n",
       "      <td>3,007.60</td>\n",
       "      <td>1.40</td>\n",
       "    </tr>\n",
       "    <tr>\n",
       "      <th>286</th>\n",
       "      <td>Sound Transit</td>\n",
       "      <td>512 Everett-Northgte</td>\n",
       "      <td>b</td>\n",
       "      <td>5,117.50</td>\n",
       "      <td>2,251.00</td>\n",
       "      <td>2,866.50</td>\n",
       "      <td>1.27</td>\n",
       "    </tr>\n",
       "    <tr>\n",
       "      <th>310</th>\n",
       "      <td>Sound Transit</td>\n",
       "      <td>Commutr Rail Tac-Sea</td>\n",
       "      <td>c</td>\n",
       "      <td>4,522.00</td>\n",
       "      <td>6,038.00</td>\n",
       "      <td>-1,516.00</td>\n",
       "      <td>-0.25</td>\n",
       "    </tr>\n",
       "    <tr>\n",
       "      <th>288</th>\n",
       "      <td>Sound Transit</td>\n",
       "      <td>522 Woodinvl-Roosvlt</td>\n",
       "      <td>b</td>\n",
       "      <td>4,428.93</td>\n",
       "      <td>1,736.00</td>\n",
       "      <td>2,692.93</td>\n",
       "      <td>1.55</td>\n",
       "    </tr>\n",
       "    <tr>\n",
       "      <th>300</th>\n",
       "      <td>Sound Transit</td>\n",
       "      <td>578 Seattle-Puyallup</td>\n",
       "      <td>b</td>\n",
       "      <td>2,970.73</td>\n",
       "      <td>1,460.00</td>\n",
       "      <td>1,510.73</td>\n",
       "      <td>1.03</td>\n",
       "    </tr>\n",
       "    <tr>\n",
       "      <th>296</th>\n",
       "      <td>Sound Transit</td>\n",
       "      <td>560 W Sea-Bellevue</td>\n",
       "      <td>b</td>\n",
       "      <td>2,312.03</td>\n",
       "      <td>1,227.00</td>\n",
       "      <td>1,085.03</td>\n",
       "      <td>0.88</td>\n",
       "    </tr>\n",
       "    <tr>\n",
       "      <th>290</th>\n",
       "      <td>Sound Transit</td>\n",
       "      <td>535 Lynnwood-Bllvue</td>\n",
       "      <td>b</td>\n",
       "      <td>2,286.12</td>\n",
       "      <td>1,226.00</td>\n",
       "      <td>1,060.12</td>\n",
       "      <td>0.86</td>\n",
       "    </tr>\n",
       "  </tbody>\n",
       "</table>\n",
       "</div>"
      ],
      "text/plain": [
       "            agency           description mode  model_boardings  \\\n",
       "309  Sound Transit  Light Rail Ang Lk-NG    r        75,221.83   \n",
       "293  Sound Transit  550 Bellevue-Seattle    b         7,744.78   \n",
       "292  Sound Transit   545 Redmond-Seattle    b         5,230.03   \n",
       "294  Sound Transit  554 Issaquah-Seattle    b         5,160.60   \n",
       "286  Sound Transit  512 Everett-Northgte    b         5,117.50   \n",
       "310  Sound Transit  Commutr Rail Tac-Sea    c         4,522.00   \n",
       "288  Sound Transit  522 Woodinvl-Roosvlt    b         4,428.93   \n",
       "300  Sound Transit  578 Seattle-Puyallup    b         2,970.73   \n",
       "296  Sound Transit    560 W Sea-Bellevue    b         2,312.03   \n",
       "290  Sound Transit   535 Lynnwood-Bllvue    b         2,286.12   \n",
       "\n",
       "     observed_boardings      diff  perc_diff  \n",
       "309           79,522.00 -4,300.17      -0.05  \n",
       "293            3,351.00  4,393.78       1.31  \n",
       "292            3,340.00  1,890.03       0.57  \n",
       "294            2,153.00  3,007.60       1.40  \n",
       "286            2,251.00  2,866.50       1.27  \n",
       "310            6,038.00 -1,516.00      -0.25  \n",
       "288            1,736.00  2,692.93       1.55  \n",
       "300            1,460.00  1,510.73       1.03  \n",
       "296            1,227.00  1,085.03       0.88  \n",
       "290            1,226.00  1,060.12       0.86  "
      ]
     },
     "execution_count": 18,
     "metadata": {},
     "output_type": "execute_result"
    }
   ],
   "source": [
    "agency = 'Sound Transit'\n",
    "df[df['agency'] == agency].sort_values('model_boardings', ascending=False).head(10)[cols]"
   ]
  },
  {
   "cell_type": "raw",
   "id": "5bb6872d",
   "metadata": {},
   "source": [
    "#### Community Transit"
   ]
  },
  {
   "cell_type": "code",
   "execution_count": 19,
   "id": "f7994dd7",
   "metadata": {},
   "outputs": [
    {
     "data": {
      "text/html": [
       "<div>\n",
       "<style scoped>\n",
       "    .dataframe tbody tr th:only-of-type {\n",
       "        vertical-align: middle;\n",
       "    }\n",
       "\n",
       "    .dataframe tbody tr th {\n",
       "        vertical-align: top;\n",
       "    }\n",
       "\n",
       "    .dataframe thead th {\n",
       "        text-align: right;\n",
       "    }\n",
       "</style>\n",
       "<table border=\"1\" class=\"dataframe\">\n",
       "  <thead>\n",
       "    <tr style=\"text-align: right;\">\n",
       "      <th></th>\n",
       "      <th>agency</th>\n",
       "      <th>description</th>\n",
       "      <th>mode</th>\n",
       "      <th>model_boardings</th>\n",
       "      <th>observed_boardings</th>\n",
       "      <th>diff</th>\n",
       "      <th>perc_diff</th>\n",
       "    </tr>\n",
       "  </thead>\n",
       "  <tbody>\n",
       "    <tr>\n",
       "      <th>230</th>\n",
       "      <td>Community Transit</td>\n",
       "      <td>Swift Blue</td>\n",
       "      <td>b</td>\n",
       "      <td>6,193.66</td>\n",
       "      <td>3,804.00</td>\n",
       "      <td>2,389.66</td>\n",
       "      <td>0.63</td>\n",
       "    </tr>\n",
       "    <tr>\n",
       "      <th>231</th>\n",
       "      <td>Community Transit</td>\n",
       "      <td>Swift Green</td>\n",
       "      <td>b</td>\n",
       "      <td>3,033.81</td>\n",
       "      <td>3,000.00</td>\n",
       "      <td>33.81</td>\n",
       "      <td>0.01</td>\n",
       "    </tr>\n",
       "    <tr>\n",
       "      <th>200</th>\n",
       "      <td>Community Transit</td>\n",
       "      <td>116 Edm-Silver Firs</td>\n",
       "      <td>b</td>\n",
       "      <td>2,238.77</td>\n",
       "      <td>955.00</td>\n",
       "      <td>1,283.77</td>\n",
       "      <td>1.34</td>\n",
       "    </tr>\n",
       "    <tr>\n",
       "      <th>199</th>\n",
       "      <td>Community Transit</td>\n",
       "      <td>115 McClm P&amp;R-AurVil</td>\n",
       "      <td>b</td>\n",
       "      <td>1,764.63</td>\n",
       "      <td>1,133.00</td>\n",
       "      <td>631.63</td>\n",
       "      <td>0.56</td>\n",
       "    </tr>\n",
       "    <tr>\n",
       "      <th>206</th>\n",
       "      <td>Community Transit</td>\n",
       "      <td>202 Smokey Pt-Lynnwd</td>\n",
       "      <td>b</td>\n",
       "      <td>1,613.86</td>\n",
       "      <td>1,002.00</td>\n",
       "      <td>611.86</td>\n",
       "      <td>0.61</td>\n",
       "    </tr>\n",
       "    <tr>\n",
       "      <th>205</th>\n",
       "      <td>Community Transit</td>\n",
       "      <td>201 Smokey Pt-Lynnwd</td>\n",
       "      <td>b</td>\n",
       "      <td>1,599.68</td>\n",
       "      <td>1,049.00</td>\n",
       "      <td>550.68</td>\n",
       "      <td>0.52</td>\n",
       "    </tr>\n",
       "    <tr>\n",
       "      <th>191</th>\n",
       "      <td>Community Transit</td>\n",
       "      <td>101 Mar P&amp;R-Aur Vill</td>\n",
       "      <td>b</td>\n",
       "      <td>1,438.15</td>\n",
       "      <td>945.00</td>\n",
       "      <td>493.15</td>\n",
       "      <td>0.52</td>\n",
       "    </tr>\n",
       "    <tr>\n",
       "      <th>203</th>\n",
       "      <td>Community Transit</td>\n",
       "      <td>130 Edmonds-Lynnwood</td>\n",
       "      <td>b</td>\n",
       "      <td>932.64</td>\n",
       "      <td>618.00</td>\n",
       "      <td>314.64</td>\n",
       "      <td>0.51</td>\n",
       "    </tr>\n",
       "    <tr>\n",
       "      <th>198</th>\n",
       "      <td>Community Transit</td>\n",
       "      <td>113 Mukilteo-Lynn TC</td>\n",
       "      <td>b</td>\n",
       "      <td>854.30</td>\n",
       "      <td>802.00</td>\n",
       "      <td>52.30</td>\n",
       "      <td>0.07</td>\n",
       "    </tr>\n",
       "    <tr>\n",
       "      <th>216</th>\n",
       "      <td>Community Transit</td>\n",
       "      <td>280 Gran Falls-Evrt</td>\n",
       "      <td>b</td>\n",
       "      <td>741.19</td>\n",
       "      <td>335.00</td>\n",
       "      <td>406.19</td>\n",
       "      <td>1.21</td>\n",
       "    </tr>\n",
       "  </tbody>\n",
       "</table>\n",
       "</div>"
      ],
      "text/plain": [
       "                agency           description mode  model_boardings  \\\n",
       "230  Community Transit            Swift Blue    b         6,193.66   \n",
       "231  Community Transit           Swift Green    b         3,033.81   \n",
       "200  Community Transit   116 Edm-Silver Firs    b         2,238.77   \n",
       "199  Community Transit  115 McClm P&R-AurVil    b         1,764.63   \n",
       "206  Community Transit  202 Smokey Pt-Lynnwd    b         1,613.86   \n",
       "205  Community Transit  201 Smokey Pt-Lynnwd    b         1,599.68   \n",
       "191  Community Transit  101 Mar P&R-Aur Vill    b         1,438.15   \n",
       "203  Community Transit  130 Edmonds-Lynnwood    b           932.64   \n",
       "198  Community Transit  113 Mukilteo-Lynn TC    b           854.30   \n",
       "216  Community Transit   280 Gran Falls-Evrt    b           741.19   \n",
       "\n",
       "     observed_boardings     diff  perc_diff  \n",
       "230            3,804.00 2,389.66       0.63  \n",
       "231            3,000.00    33.81       0.01  \n",
       "200              955.00 1,283.77       1.34  \n",
       "199            1,133.00   631.63       0.56  \n",
       "206            1,002.00   611.86       0.61  \n",
       "205            1,049.00   550.68       0.52  \n",
       "191              945.00   493.15       0.52  \n",
       "203              618.00   314.64       0.51  \n",
       "198              802.00    52.30       0.07  \n",
       "216              335.00   406.19       1.21  "
      ]
     },
     "execution_count": 19,
     "metadata": {},
     "output_type": "execute_result"
    }
   ],
   "source": [
    "agency = 'Community Transit'\n",
    "df[df['agency'] == agency].sort_values('model_boardings', ascending=False).head(10)[cols]"
   ]
  },
  {
   "cell_type": "raw",
   "id": "4e738512",
   "metadata": {},
   "source": [
    "#### Pierce Transit"
   ]
  },
  {
   "cell_type": "code",
   "execution_count": 20,
   "id": "5385aa93",
   "metadata": {},
   "outputs": [
    {
     "data": {
      "text/html": [
       "<div>\n",
       "<style scoped>\n",
       "    .dataframe tbody tr th:only-of-type {\n",
       "        vertical-align: middle;\n",
       "    }\n",
       "\n",
       "    .dataframe tbody tr th {\n",
       "        vertical-align: top;\n",
       "    }\n",
       "\n",
       "    .dataframe thead th {\n",
       "        text-align: right;\n",
       "    }\n",
       "</style>\n",
       "<table border=\"1\" class=\"dataframe\">\n",
       "  <thead>\n",
       "    <tr style=\"text-align: right;\">\n",
       "      <th></th>\n",
       "      <th>agency</th>\n",
       "      <th>description</th>\n",
       "      <th>mode</th>\n",
       "      <th>model_boardings</th>\n",
       "      <th>observed_boardings</th>\n",
       "      <th>diff</th>\n",
       "      <th>perc_diff</th>\n",
       "    </tr>\n",
       "  </thead>\n",
       "  <tbody>\n",
       "    <tr>\n",
       "      <th>160</th>\n",
       "      <td>Pierce Transit</td>\n",
       "      <td>1 6th Ave-Pac Ave</td>\n",
       "      <td>b</td>\n",
       "      <td>1,580.72</td>\n",
       "      <td>3,035.00</td>\n",
       "      <td>-1,454.28</td>\n",
       "      <td>-0.48</td>\n",
       "    </tr>\n",
       "    <tr>\n",
       "      <th>184</th>\n",
       "      <td>Pierce Transit</td>\n",
       "      <td>400 Puyllp-Tacoma</td>\n",
       "      <td>b</td>\n",
       "      <td>1,162.35</td>\n",
       "      <td>336.00</td>\n",
       "      <td>826.35</td>\n",
       "      <td>2.46</td>\n",
       "    </tr>\n",
       "    <tr>\n",
       "      <th>185</th>\n",
       "      <td>Pierce Transit</td>\n",
       "      <td>402 Meridian</td>\n",
       "      <td>b</td>\n",
       "      <td>1,129.00</td>\n",
       "      <td>626.00</td>\n",
       "      <td>503.00</td>\n",
       "      <td>0.80</td>\n",
       "    </tr>\n",
       "    <tr>\n",
       "      <th>161</th>\n",
       "      <td>Pierce Transit</td>\n",
       "      <td>2 S 19th-Bridgeport</td>\n",
       "      <td>b</td>\n",
       "      <td>1,074.10</td>\n",
       "      <td>1,729.00</td>\n",
       "      <td>-654.90</td>\n",
       "      <td>-0.38</td>\n",
       "    </tr>\n",
       "    <tr>\n",
       "      <th>189</th>\n",
       "      <td>Pierce Transit</td>\n",
       "      <td>500 Federal Way</td>\n",
       "      <td>b</td>\n",
       "      <td>1,029.61</td>\n",
       "      <td>845.00</td>\n",
       "      <td>184.61</td>\n",
       "      <td>0.22</td>\n",
       "    </tr>\n",
       "    <tr>\n",
       "      <th>169</th>\n",
       "      <td>Pierce Transit</td>\n",
       "      <td>41 S 56th St-Salish</td>\n",
       "      <td>b</td>\n",
       "      <td>917.73</td>\n",
       "      <td>1,088.00</td>\n",
       "      <td>-170.27</td>\n",
       "      <td>-0.16</td>\n",
       "    </tr>\n",
       "    <tr>\n",
       "      <th>190</th>\n",
       "      <td>Pierce Transit</td>\n",
       "      <td>501 Miltn-Fed Way</td>\n",
       "      <td>b</td>\n",
       "      <td>895.45</td>\n",
       "      <td>431.00</td>\n",
       "      <td>464.45</td>\n",
       "      <td>1.08</td>\n",
       "    </tr>\n",
       "    <tr>\n",
       "      <th>162</th>\n",
       "      <td>Pierce Transit</td>\n",
       "      <td>3 Lakewood-Tacoma</td>\n",
       "      <td>b</td>\n",
       "      <td>854.77</td>\n",
       "      <td>1,250.00</td>\n",
       "      <td>-395.23</td>\n",
       "      <td>-0.32</td>\n",
       "    </tr>\n",
       "    <tr>\n",
       "      <th>163</th>\n",
       "      <td>Pierce Transit</td>\n",
       "      <td>4 Lakewd-South Hill</td>\n",
       "      <td>b</td>\n",
       "      <td>736.26</td>\n",
       "      <td>968.00</td>\n",
       "      <td>-231.74</td>\n",
       "      <td>-0.24</td>\n",
       "    </tr>\n",
       "    <tr>\n",
       "      <th>177</th>\n",
       "      <td>Pierce Transit</td>\n",
       "      <td>57 Union-19th-Hilltp</td>\n",
       "      <td>b</td>\n",
       "      <td>491.61</td>\n",
       "      <td>864.00</td>\n",
       "      <td>-372.39</td>\n",
       "      <td>-0.43</td>\n",
       "    </tr>\n",
       "  </tbody>\n",
       "</table>\n",
       "</div>"
      ],
      "text/plain": [
       "             agency           description mode  model_boardings  \\\n",
       "160  Pierce Transit     1 6th Ave-Pac Ave    b         1,580.72   \n",
       "184  Pierce Transit     400 Puyllp-Tacoma    b         1,162.35   \n",
       "185  Pierce Transit          402 Meridian    b         1,129.00   \n",
       "161  Pierce Transit   2 S 19th-Bridgeport    b         1,074.10   \n",
       "189  Pierce Transit       500 Federal Way    b         1,029.61   \n",
       "169  Pierce Transit   41 S 56th St-Salish    b           917.73   \n",
       "190  Pierce Transit     501 Miltn-Fed Way    b           895.45   \n",
       "162  Pierce Transit     3 Lakewood-Tacoma    b           854.77   \n",
       "163  Pierce Transit   4 Lakewd-South Hill    b           736.26   \n",
       "177  Pierce Transit  57 Union-19th-Hilltp    b           491.61   \n",
       "\n",
       "     observed_boardings      diff  perc_diff  \n",
       "160            3,035.00 -1,454.28      -0.48  \n",
       "184              336.00    826.35       2.46  \n",
       "185              626.00    503.00       0.80  \n",
       "161            1,729.00   -654.90      -0.38  \n",
       "189              845.00    184.61       0.22  \n",
       "169            1,088.00   -170.27      -0.16  \n",
       "190              431.00    464.45       1.08  \n",
       "162            1,250.00   -395.23      -0.32  \n",
       "163              968.00   -231.74      -0.24  \n",
       "177              864.00   -372.39      -0.43  "
      ]
     },
     "execution_count": 20,
     "metadata": {},
     "output_type": "execute_result"
    }
   ],
   "source": [
    "agency = 'Pierce Transit'\n",
    "df[df['agency'] == agency].sort_values('model_boardings', ascending=False).head(10)[cols]"
   ]
  },
  {
   "cell_type": "raw",
   "id": "61e52696",
   "metadata": {},
   "source": [
    "#### Kitsap Transit"
   ]
  },
  {
   "cell_type": "code",
   "execution_count": 21,
   "id": "9c35bb78",
   "metadata": {},
   "outputs": [
    {
     "data": {
      "text/html": [
       "<div>\n",
       "<style scoped>\n",
       "    .dataframe tbody tr th:only-of-type {\n",
       "        vertical-align: middle;\n",
       "    }\n",
       "\n",
       "    .dataframe tbody tr th {\n",
       "        vertical-align: top;\n",
       "    }\n",
       "\n",
       "    .dataframe thead th {\n",
       "        text-align: right;\n",
       "    }\n",
       "</style>\n",
       "<table border=\"1\" class=\"dataframe\">\n",
       "  <thead>\n",
       "    <tr style=\"text-align: right;\">\n",
       "      <th></th>\n",
       "      <th>agency</th>\n",
       "      <th>description</th>\n",
       "      <th>mode</th>\n",
       "      <th>model_boardings</th>\n",
       "      <th>observed_boardings</th>\n",
       "      <th>diff</th>\n",
       "      <th>perc_diff</th>\n",
       "    </tr>\n",
       "  </thead>\n",
       "  <tbody>\n",
       "    <tr>\n",
       "      <th>270</th>\n",
       "      <td>Kitsap Transit</td>\n",
       "      <td>Seattle-Bremerton FF</td>\n",
       "      <td>f</td>\n",
       "      <td>3,302.96</td>\n",
       "      <td>1,913.00</td>\n",
       "      <td>1,389.96</td>\n",
       "      <td>0.73</td>\n",
       "    </tr>\n",
       "    <tr>\n",
       "      <th>271</th>\n",
       "      <td>Kitsap Transit</td>\n",
       "      <td>Brem-Pt Orchard FF</td>\n",
       "      <td>p</td>\n",
       "      <td>1,044.54</td>\n",
       "      <td>768.00</td>\n",
       "      <td>276.54</td>\n",
       "      <td>0.36</td>\n",
       "    </tr>\n",
       "    <tr>\n",
       "      <th>244</th>\n",
       "      <td>Kitsap Transit</td>\n",
       "      <td>217 Brem-Silverdle E</td>\n",
       "      <td>b</td>\n",
       "      <td>1,009.66</td>\n",
       "      <td>417.00</td>\n",
       "      <td>592.66</td>\n",
       "      <td>1.42</td>\n",
       "    </tr>\n",
       "    <tr>\n",
       "      <th>242</th>\n",
       "      <td>Kitsap Transit</td>\n",
       "      <td>212 Brem-Silverdle W</td>\n",
       "      <td>b</td>\n",
       "      <td>764.36</td>\n",
       "      <td>679.00</td>\n",
       "      <td>85.36</td>\n",
       "      <td>0.13</td>\n",
       "    </tr>\n",
       "    <tr>\n",
       "      <th>274</th>\n",
       "      <td>Kitsap Transit</td>\n",
       "      <td>Seattle-Southwrth FF</td>\n",
       "      <td>f</td>\n",
       "      <td>641.13</td>\n",
       "      <td>631.00</td>\n",
       "      <td>10.13</td>\n",
       "      <td>0.02</td>\n",
       "    </tr>\n",
       "    <tr>\n",
       "      <th>259</th>\n",
       "      <td>Kitsap Transit</td>\n",
       "      <td>86 Southwrth Shuttle</td>\n",
       "      <td>b</td>\n",
       "      <td>625.60</td>\n",
       "      <td>91.00</td>\n",
       "      <td>534.60</td>\n",
       "      <td>5.87</td>\n",
       "    </tr>\n",
       "    <tr>\n",
       "      <th>260</th>\n",
       "      <td>Kitsap Transit</td>\n",
       "      <td>390 Poulsbo-Bainbrdg</td>\n",
       "      <td>b</td>\n",
       "      <td>541.85</td>\n",
       "      <td>170.00</td>\n",
       "      <td>371.85</td>\n",
       "      <td>2.19</td>\n",
       "    </tr>\n",
       "    <tr>\n",
       "      <th>243</th>\n",
       "      <td>Kitsap Transit</td>\n",
       "      <td>215 McWilliams</td>\n",
       "      <td>b</td>\n",
       "      <td>341.21</td>\n",
       "      <td>115.00</td>\n",
       "      <td>226.21</td>\n",
       "      <td>1.97</td>\n",
       "    </tr>\n",
       "    <tr>\n",
       "      <th>240</th>\n",
       "      <td>Kitsap Transit</td>\n",
       "      <td>8 Bethel</td>\n",
       "      <td>b</td>\n",
       "      <td>266.04</td>\n",
       "      <td>152.00</td>\n",
       "      <td>114.04</td>\n",
       "      <td>0.75</td>\n",
       "    </tr>\n",
       "    <tr>\n",
       "      <th>254</th>\n",
       "      <td>Kitsap Transit</td>\n",
       "      <td>333 Silvrdale-Bainb</td>\n",
       "      <td>b</td>\n",
       "      <td>232.73</td>\n",
       "      <td>114.00</td>\n",
       "      <td>118.73</td>\n",
       "      <td>1.04</td>\n",
       "    </tr>\n",
       "  </tbody>\n",
       "</table>\n",
       "</div>"
      ],
      "text/plain": [
       "             agency           description mode  model_boardings  \\\n",
       "270  Kitsap Transit  Seattle-Bremerton FF    f         3,302.96   \n",
       "271  Kitsap Transit    Brem-Pt Orchard FF    p         1,044.54   \n",
       "244  Kitsap Transit  217 Brem-Silverdle E    b         1,009.66   \n",
       "242  Kitsap Transit  212 Brem-Silverdle W    b           764.36   \n",
       "274  Kitsap Transit  Seattle-Southwrth FF    f           641.13   \n",
       "259  Kitsap Transit  86 Southwrth Shuttle    b           625.60   \n",
       "260  Kitsap Transit  390 Poulsbo-Bainbrdg    b           541.85   \n",
       "243  Kitsap Transit        215 McWilliams    b           341.21   \n",
       "240  Kitsap Transit              8 Bethel    b           266.04   \n",
       "254  Kitsap Transit   333 Silvrdale-Bainb    b           232.73   \n",
       "\n",
       "     observed_boardings     diff  perc_diff  \n",
       "270            1,913.00 1,389.96       0.73  \n",
       "271              768.00   276.54       0.36  \n",
       "244              417.00   592.66       1.42  \n",
       "242              679.00    85.36       0.13  \n",
       "274              631.00    10.13       0.02  \n",
       "259               91.00   534.60       5.87  \n",
       "260              170.00   371.85       2.19  \n",
       "243              115.00   226.21       1.97  \n",
       "240              152.00   114.04       0.75  \n",
       "254              114.00   118.73       1.04  "
      ]
     },
     "execution_count": 21,
     "metadata": {},
     "output_type": "execute_result"
    }
   ],
   "source": [
    "agency = 'Kitsap Transit'\n",
    "df[df['agency'] == agency].sort_values('model_boardings', ascending=False).head(10)[cols]"
   ]
  },
  {
   "cell_type": "raw",
   "id": "674756a8",
   "metadata": {},
   "source": [
    "#### Everett Transit"
   ]
  },
  {
   "cell_type": "code",
   "execution_count": 22,
   "id": "26ea3064",
   "metadata": {},
   "outputs": [
    {
     "data": {
      "text/html": [
       "<div>\n",
       "<style scoped>\n",
       "    .dataframe tbody tr th:only-of-type {\n",
       "        vertical-align: middle;\n",
       "    }\n",
       "\n",
       "    .dataframe tbody tr th {\n",
       "        vertical-align: top;\n",
       "    }\n",
       "\n",
       "    .dataframe thead th {\n",
       "        text-align: right;\n",
       "    }\n",
       "</style>\n",
       "<table border=\"1\" class=\"dataframe\">\n",
       "  <thead>\n",
       "    <tr style=\"text-align: right;\">\n",
       "      <th></th>\n",
       "      <th>agency</th>\n",
       "      <th>description</th>\n",
       "      <th>mode</th>\n",
       "      <th>model_boardings</th>\n",
       "      <th>observed_boardings</th>\n",
       "      <th>diff</th>\n",
       "      <th>perc_diff</th>\n",
       "    </tr>\n",
       "  </thead>\n",
       "  <tbody>\n",
       "    <tr>\n",
       "      <th>316</th>\n",
       "      <td>Everett Transit</td>\n",
       "      <td>7 Coll Stn-Mall Stn</td>\n",
       "      <td>b</td>\n",
       "      <td>2,782.08</td>\n",
       "      <td>2,239.00</td>\n",
       "      <td>543.08</td>\n",
       "      <td>0.24</td>\n",
       "    </tr>\n",
       "    <tr>\n",
       "      <th>320</th>\n",
       "      <td>Everett Transit</td>\n",
       "      <td>29 Coll Stn-Mall Stn</td>\n",
       "      <td>b</td>\n",
       "      <td>1,389.77</td>\n",
       "      <td>881.00</td>\n",
       "      <td>508.77</td>\n",
       "      <td>0.58</td>\n",
       "    </tr>\n",
       "    <tr>\n",
       "      <th>313</th>\n",
       "      <td>Everett Transit</td>\n",
       "      <td>3 Seaway TC-Evt Stn</td>\n",
       "      <td>b</td>\n",
       "      <td>353.60</td>\n",
       "      <td>285.00</td>\n",
       "      <td>68.60</td>\n",
       "      <td>0.24</td>\n",
       "    </tr>\n",
       "    <tr>\n",
       "      <th>317</th>\n",
       "      <td>Everett Transit</td>\n",
       "      <td>8 Airport Rd-Evt Stn</td>\n",
       "      <td>b</td>\n",
       "      <td>128.85</td>\n",
       "      <td>156.00</td>\n",
       "      <td>-27.15</td>\n",
       "      <td>-0.17</td>\n",
       "    </tr>\n",
       "    <tr>\n",
       "      <th>315</th>\n",
       "      <td>Everett Transit</td>\n",
       "      <td>6 Waterfront-Evt Stn</td>\n",
       "      <td>b</td>\n",
       "      <td>93.89</td>\n",
       "      <td>62.00</td>\n",
       "      <td>31.89</td>\n",
       "      <td>0.51</td>\n",
       "    </tr>\n",
       "    <tr>\n",
       "      <th>312</th>\n",
       "      <td>Everett Transit</td>\n",
       "      <td>2 Marnr P&amp;R-Mall Stn</td>\n",
       "      <td>b</td>\n",
       "      <td>91.10</td>\n",
       "      <td>148.00</td>\n",
       "      <td>-56.90</td>\n",
       "      <td>-0.38</td>\n",
       "    </tr>\n",
       "    <tr>\n",
       "      <th>314</th>\n",
       "      <td>Everett Transit</td>\n",
       "      <td>4 Evt Stn-Collge Stn</td>\n",
       "      <td>b</td>\n",
       "      <td>82.75</td>\n",
       "      <td>114.00</td>\n",
       "      <td>-31.25</td>\n",
       "      <td>-0.27</td>\n",
       "    </tr>\n",
       "    <tr>\n",
       "      <th>319</th>\n",
       "      <td>Everett Transit</td>\n",
       "      <td>18 Mukilteo-Evt Stn</td>\n",
       "      <td>b</td>\n",
       "      <td>74.10</td>\n",
       "      <td>60.00</td>\n",
       "      <td>14.10</td>\n",
       "      <td>0.23</td>\n",
       "    </tr>\n",
       "    <tr>\n",
       "      <th>318</th>\n",
       "      <td>Everett Transit</td>\n",
       "      <td>12 Mall Stn-Seawy TC</td>\n",
       "      <td>b</td>\n",
       "      <td>66.88</td>\n",
       "      <td>256.00</td>\n",
       "      <td>-189.12</td>\n",
       "      <td>-0.74</td>\n",
       "    </tr>\n",
       "  </tbody>\n",
       "</table>\n",
       "</div>"
      ],
      "text/plain": [
       "              agency           description mode  model_boardings  \\\n",
       "316  Everett Transit   7 Coll Stn-Mall Stn    b         2,782.08   \n",
       "320  Everett Transit  29 Coll Stn-Mall Stn    b         1,389.77   \n",
       "313  Everett Transit   3 Seaway TC-Evt Stn    b           353.60   \n",
       "317  Everett Transit  8 Airport Rd-Evt Stn    b           128.85   \n",
       "315  Everett Transit  6 Waterfront-Evt Stn    b            93.89   \n",
       "312  Everett Transit  2 Marnr P&R-Mall Stn    b            91.10   \n",
       "314  Everett Transit  4 Evt Stn-Collge Stn    b            82.75   \n",
       "319  Everett Transit   18 Mukilteo-Evt Stn    b            74.10   \n",
       "318  Everett Transit  12 Mall Stn-Seawy TC    b            66.88   \n",
       "\n",
       "     observed_boardings    diff  perc_diff  \n",
       "316            2,239.00  543.08       0.24  \n",
       "320              881.00  508.77       0.58  \n",
       "313              285.00   68.60       0.24  \n",
       "317              156.00  -27.15      -0.17  \n",
       "315               62.00   31.89       0.51  \n",
       "312              148.00  -56.90      -0.38  \n",
       "314              114.00  -31.25      -0.27  \n",
       "319               60.00   14.10       0.23  \n",
       "318              256.00 -189.12      -0.74  "
      ]
     },
     "execution_count": 22,
     "metadata": {},
     "output_type": "execute_result"
    }
   ],
   "source": [
    "agency = 'Everett Transit'\n",
    "df[df['agency'] == agency].sort_values('model_boardings', ascending=False).head(10)[cols]"
   ]
  },
  {
   "cell_type": "raw",
   "id": "65fb23f5",
   "metadata": {},
   "source": [
    ":::"
   ]
  },
  {
   "cell_type": "markdown",
   "id": "6e6c5ead64d64e8c",
   "metadata": {},
   "source": [
    "### boarding on lines by agency"
   ]
  },
  {
   "cell_type": "code",
   "execution_count": 23,
   "id": "95db4119eb938544",
   "metadata": {
    "ExecuteTime": {
     "end_time": "2024-06-24T19:52:55.951969Z",
     "start_time": "2024-06-24T19:52:54.937995Z"
    },
    "execution": {
     "iopub.execute_input": "2024-12-14T02:38:41.171718Z",
     "iopub.status.busy": "2024-12-14T02:38:41.170721Z",
     "iopub.status.idle": "2024-12-14T02:38:42.833012Z",
     "shell.execute_reply": "2024-12-14T02:38:42.831017Z"
    }
   },
   "outputs": [
    {
     "name": "stdout",
     "output_type": "stream",
     "text": [
      "r^2 Community Transit: 0.9162510868013095\n",
      "r^2 Everett Transit: 0.9892348622858667\n",
      "r^2 King County Metro: 0.9442343545207805\n",
      "r^2 Kitsap Transit: 0.9283753221722526\n",
      "r^2 Pierce Transit: 0.6936757555433636\n"
     ]
    },
    {
     "name": "stdout",
     "output_type": "stream",
     "text": [
      "r^2 Sound Transit: 0.9956625872380672\n",
      "r^2 Washington Ferries: 0.9443804108096565\n"
     ]
    },
    {
     "data": {
      "image/png": "[encoded data removed]",
      "text/plain": [
       "<Figure size 432x288 with 1 Axes>"
      ]
     },
     "metadata": {
      "needs_background": "light"
     },
     "output_type": "display_data"
    },
    {
     "data": {
      "image/png": "[encoded data removed]",
      "text/plain": [
       "<Figure size 432x288 with 1 Axes>"
      ]
     },
     "metadata": {
      "needs_background": "light"
     },
     "output_type": "display_data"
    },
    {
     "data": {
      "image/png": "[encoded data removed]",
      "text/plain": [
       "<Figure size 432x288 with 1 Axes>"
      ]
     },
     "metadata": {
      "needs_background": "light"
     },
     "output_type": "display_data"
    },
    {
     "data": {
      "image/png": "[encoded data removed]",
      "text/plain": [
       "<Figure size 432x288 with 1 Axes>"
      ]
     },
     "metadata": {
      "needs_background": "light"
     },
     "output_type": "display_data"
    },
    {
     "data": {
      "image/png": "[encoded data removed]",
      "text/plain": [
       "<Figure size 432x288 with 1 Axes>"
      ]
     },
     "metadata": {
      "needs_background": "light"
     },
     "output_type": "display_data"
    },
    {
     "data": {
      "image/png": "[encoded data removed]",
      "text/plain": [
       "<Figure size 432x288 with 1 Axes>"
      ]
     },
     "metadata": {
      "needs_background": "light"
     },
     "output_type": "display_data"
    },
    {
     "data": {
      "image/png": "[encoded data removed]",
      "text/plain": [
       "<Figure size 432x288 with 1 Axes>"
      ]
     },
     "metadata": {
      "needs_background": "light"
     },
     "output_type": "display_data"
    }
   ],
   "source": [
    "df = pd.read_csv(os.path.join(csv_path,'daily_boardings_by_line.csv'), index_col='agency')\n",
    "df = df[-df['agency_id'].isnull()]\n",
    "\n",
    "for agency in np.unique(df.index):\n",
    "    _df = df.loc[agency,:]\n",
    "    if (type(_df) == pd.core.frame.DataFrame) & (len(df) > 0):\n",
    "        ax = _df.plot(kind='scatter', x='observed_boardings', y='model_boardings', label=agency)\n",
    "        lim = _df[['observed_boardings','model_boardings']].max().max()*1.05\n",
    "        ax.set_ylim(0,lim)\n",
    "        ax.set_xlim(0,lim)\n",
    "        x = np.linspace(*ax.get_xlim())\n",
    "        ax.plot(x, x)\n",
    "        slope, intercept, r_value, p_value, std_err = stats.linregress(_df['observed_boardings'],_df['model_boardings'])\n",
    "        print('r^2 ' + str(agency) + ': ' + str(r_value))"
   ]
  },
  {
   "cell_type": "markdown",
   "id": "4539ddda98821ff2",
   "metadata": {},
   "source": [
    "### boarding by light rail station"
   ]
  },
  {
   "cell_type": "raw",
   "id": "1a2860ab52ea5101",
   "metadata": {
    "vscode": {
     "languageId": "raw"
    }
   },
   "source": [
    ":::{.panel-tabset}\n",
    "#### 1 Line"
   ]
  },
  {
   "cell_type": "code",
   "execution_count": 24,
   "id": "2c245b8117693726",
   "metadata": {
    "ExecuteTime": {
     "end_time": "2024-06-24T20:06:01.435477Z",
     "start_time": "2024-06-24T20:06:01.389414Z"
    },
    "execution": {
     "iopub.execute_input": "2024-12-14T02:38:42.844979Z",
     "iopub.status.busy": "2024-12-14T02:38:42.843982Z",
     "iopub.status.idle": "2024-12-14T02:38:42.910989Z",
     "shell.execute_reply": "2024-12-14T02:38:42.908994Z"
    }
   },
   "outputs": [
    {
     "data": {
      "text/html": [
       "<div>\n",
       "<style scoped>\n",
       "    .dataframe tbody tr th:only-of-type {\n",
       "        vertical-align: middle;\n",
       "    }\n",
       "\n",
       "    .dataframe tbody tr th {\n",
       "        vertical-align: top;\n",
       "    }\n",
       "\n",
       "    .dataframe thead th {\n",
       "        text-align: right;\n",
       "    }\n",
       "</style>\n",
       "<table border=\"1\" class=\"dataframe\">\n",
       "  <thead>\n",
       "    <tr style=\"text-align: right;\">\n",
       "      <th></th>\n",
       "      <th>observed_boardings</th>\n",
       "      <th>model_boardings</th>\n",
       "      <th>diff</th>\n",
       "      <th>percent_diff</th>\n",
       "    </tr>\n",
       "    <tr>\n",
       "      <th>station_name</th>\n",
       "      <th></th>\n",
       "      <th></th>\n",
       "      <th></th>\n",
       "      <th></th>\n",
       "    </tr>\n",
       "  </thead>\n",
       "  <tbody>\n",
       "    <tr>\n",
       "      <th>Husky Stadium</th>\n",
       "      <td>4,821.00</td>\n",
       "      <td>3,178.64</td>\n",
       "      <td>-1,642.36</td>\n",
       "      <td>-34.07%</td>\n",
       "    </tr>\n",
       "    <tr>\n",
       "      <th>Westlake</th>\n",
       "      <td>9,739.00</td>\n",
       "      <td>9,348.43</td>\n",
       "      <td>-390.57</td>\n",
       "      <td>-4.01%</td>\n",
       "    </tr>\n",
       "    <tr>\n",
       "      <th>Symphony</th>\n",
       "      <td>4,263.00</td>\n",
       "      <td>5,350.97</td>\n",
       "      <td>1,087.97</td>\n",
       "      <td>25.52%</td>\n",
       "    </tr>\n",
       "    <tr>\n",
       "      <th>Pioneer Square</th>\n",
       "      <td>2,664.00</td>\n",
       "      <td>5,000.67</td>\n",
       "      <td>2,336.67</td>\n",
       "      <td>87.71%</td>\n",
       "    </tr>\n",
       "    <tr>\n",
       "      <th>Int'l District</th>\n",
       "      <td>4,797.00</td>\n",
       "      <td>1,842.64</td>\n",
       "      <td>-2,954.36</td>\n",
       "      <td>-61.59%</td>\n",
       "    </tr>\n",
       "    <tr>\n",
       "      <th>Capitol Hill</th>\n",
       "      <td>7,263.00</td>\n",
       "      <td>7,074.52</td>\n",
       "      <td>-188.48</td>\n",
       "      <td>-2.60%</td>\n",
       "    </tr>\n",
       "    <tr>\n",
       "      <th>Stadium</th>\n",
       "      <td>2,320.00</td>\n",
       "      <td>313.38</td>\n",
       "      <td>-2,006.62</td>\n",
       "      <td>-86.49%</td>\n",
       "    </tr>\n",
       "    <tr>\n",
       "      <th>SODO</th>\n",
       "      <td>1,652.00</td>\n",
       "      <td>2,263.13</td>\n",
       "      <td>611.13</td>\n",
       "      <td>36.99%</td>\n",
       "    </tr>\n",
       "    <tr>\n",
       "      <th>Beacon Hill</th>\n",
       "      <td>2,211.00</td>\n",
       "      <td>1,289.81</td>\n",
       "      <td>-921.19</td>\n",
       "      <td>-41.66%</td>\n",
       "    </tr>\n",
       "    <tr>\n",
       "      <th>Mount Baker</th>\n",
       "      <td>2,058.00</td>\n",
       "      <td>1,648.41</td>\n",
       "      <td>-409.59</td>\n",
       "      <td>-19.90%</td>\n",
       "    </tr>\n",
       "    <tr>\n",
       "      <th>Columbia City</th>\n",
       "      <td>1,840.00</td>\n",
       "      <td>1,578.54</td>\n",
       "      <td>-261.46</td>\n",
       "      <td>-14.21%</td>\n",
       "    </tr>\n",
       "    <tr>\n",
       "      <th>Othello</th>\n",
       "      <td>2,083.00</td>\n",
       "      <td>1,969.10</td>\n",
       "      <td>-113.90</td>\n",
       "      <td>-5.47%</td>\n",
       "    </tr>\n",
       "    <tr>\n",
       "      <th>Rainier Beach</th>\n",
       "      <td>1,403.00</td>\n",
       "      <td>1,515.68</td>\n",
       "      <td>112.68</td>\n",
       "      <td>8.03%</td>\n",
       "    </tr>\n",
       "    <tr>\n",
       "      <th>Tukwila Int'l Blvd</th>\n",
       "      <td>2,423.00</td>\n",
       "      <td>2,644.55</td>\n",
       "      <td>221.55</td>\n",
       "      <td>9.14%</td>\n",
       "    </tr>\n",
       "    <tr>\n",
       "      <th>SeaTac/Airport</th>\n",
       "      <td>6,087.00</td>\n",
       "      <td>5,800.09</td>\n",
       "      <td>-286.91</td>\n",
       "      <td>-4.71%</td>\n",
       "    </tr>\n",
       "    <tr>\n",
       "      <th>Angle Lake</th>\n",
       "      <td>3,840.00</td>\n",
       "      <td>2,496.48</td>\n",
       "      <td>-1,343.52</td>\n",
       "      <td>-34.99%</td>\n",
       "    </tr>\n",
       "    <tr>\n",
       "      <th>University District Station</th>\n",
       "      <td>6,493.00</td>\n",
       "      <td>6,083.34</td>\n",
       "      <td>-409.66</td>\n",
       "      <td>-6.31%</td>\n",
       "    </tr>\n",
       "    <tr>\n",
       "      <th>Roosevelt Station</th>\n",
       "      <td>4,340.00</td>\n",
       "      <td>7,725.77</td>\n",
       "      <td>3,385.77</td>\n",
       "      <td>78.01%</td>\n",
       "    </tr>\n",
       "    <tr>\n",
       "      <th>Northgate Station</th>\n",
       "      <td>10,430.00</td>\n",
       "      <td>8,097.68</td>\n",
       "      <td>-2,332.32</td>\n",
       "      <td>-22.36%</td>\n",
       "    </tr>\n",
       "    <tr>\n",
       "      <th>Total</th>\n",
       "      <td>80,727.00</td>\n",
       "      <td>75,221.83</td>\n",
       "      <td>-5,505.17</td>\n",
       "      <td>-6.82%</td>\n",
       "    </tr>\n",
       "  </tbody>\n",
       "</table>\n",
       "</div>"
      ],
      "text/plain": [
       "                             observed_boardings  model_boardings      diff  \\\n",
       "station_name                                                                 \n",
       "Husky Stadium                          4,821.00         3,178.64 -1,642.36   \n",
       "Westlake                               9,739.00         9,348.43   -390.57   \n",
       "Symphony                               4,263.00         5,350.97  1,087.97   \n",
       "Pioneer Square                         2,664.00         5,000.67  2,336.67   \n",
       "Int'l District                         4,797.00         1,842.64 -2,954.36   \n",
       "Capitol Hill                           7,263.00         7,074.52   -188.48   \n",
       "Stadium                                2,320.00           313.38 -2,006.62   \n",
       "SODO                                   1,652.00         2,263.13    611.13   \n",
       "Beacon Hill                            2,211.00         1,289.81   -921.19   \n",
       "Mount Baker                            2,058.00         1,648.41   -409.59   \n",
       "Columbia City                          1,840.00         1,578.54   -261.46   \n",
       "Othello                                2,083.00         1,969.10   -113.90   \n",
       "Rainier Beach                          1,403.00         1,515.68    112.68   \n",
       "Tukwila Int'l Blvd                     2,423.00         2,644.55    221.55   \n",
       "SeaTac/Airport                         6,087.00         5,800.09   -286.91   \n",
       "Angle Lake                             3,840.00         2,496.48 -1,343.52   \n",
       "University District Station            6,493.00         6,083.34   -409.66   \n",
       "Roosevelt Station                      4,340.00         7,725.77  3,385.77   \n",
       "Northgate Station                     10,430.00         8,097.68 -2,332.32   \n",
       "Total                                 80,727.00        75,221.83 -5,505.17   \n",
       "\n",
       "                            percent_diff  \n",
       "station_name                              \n",
       "Husky Stadium                    -34.07%  \n",
       "Westlake                          -4.01%  \n",
       "Symphony                          25.52%  \n",
       "Pioneer Square                    87.71%  \n",
       "Int'l District                   -61.59%  \n",
       "Capitol Hill                      -2.60%  \n",
       "Stadium                          -86.49%  \n",
       "SODO                              36.99%  \n",
       "Beacon Hill                      -41.66%  \n",
       "Mount Baker                      -19.90%  \n",
       "Columbia City                    -14.21%  \n",
       "Othello                           -5.47%  \n",
       "Rainier Beach                      8.03%  \n",
       "Tukwila Int'l Blvd                 9.14%  \n",
       "SeaTac/Airport                    -4.71%  \n",
       "Angle Lake                       -34.99%  \n",
       "University District Station       -6.31%  \n",
       "Roosevelt Station                 78.01%  \n",
       "Northgate Station                -22.36%  \n",
       "Total                             -6.82%  "
      ]
     },
     "execution_count": 24,
     "metadata": {},
     "output_type": "execute_result"
    }
   ],
   "source": [
    "df = pd.read_csv(os.path.join(csv_path,'light_rail_boardings.csv'), index_col='station_name')\n",
    "df['diff'] = df['model_boardings']-df['observed_boardings']\n",
    "df['percent_diff'] = df['diff']/df['observed_boardings']\n",
    "\n",
    "df_table = df.copy()\n",
    "df_table[['percent_diff']] = df_table[['percent_diff']].applymap(format_percent)\n",
    "df_table"
   ]
  },
  {
   "cell_type": "raw",
   "id": "3dafcff1da10b5e5",
   "metadata": {},
   "source": [
    "#### Sound Transit Station Groupings"
   ]
  },
  {
   "cell_type": "code",
   "execution_count": 25,
   "id": "7456ebeb8efd83d0",
   "metadata": {
    "ExecuteTime": {
     "end_time": "2024-06-24T20:06:06.901270Z",
     "start_time": "2024-06-24T20:06:06.830246Z"
    },
    "execution": {
     "iopub.execute_input": "2024-12-14T02:38:42.922957Z",
     "iopub.status.busy": "2024-12-14T02:38:42.920963Z",
     "iopub.status.idle": "2024-12-14T02:38:42.990343Z",
     "shell.execute_reply": "2024-12-14T02:38:42.988264Z"
    }
   },
   "outputs": [
    {
     "data": {
      "text/html": [
       "<div>\n",
       "<style scoped>\n",
       "    .dataframe tbody tr th:only-of-type {\n",
       "        vertical-align: middle;\n",
       "    }\n",
       "\n",
       "    .dataframe tbody tr th {\n",
       "        vertical-align: top;\n",
       "    }\n",
       "\n",
       "    .dataframe thead th {\n",
       "        text-align: right;\n",
       "    }\n",
       "</style>\n",
       "<table border=\"1\" class=\"dataframe\">\n",
       "  <thead>\n",
       "    <tr style=\"text-align: right;\">\n",
       "      <th></th>\n",
       "      <th>observed_boardings</th>\n",
       "      <th>model_boardings</th>\n",
       "      <th>diff</th>\n",
       "      <th>percent_diff</th>\n",
       "    </tr>\n",
       "    <tr>\n",
       "      <th>station_group</th>\n",
       "      <th></th>\n",
       "      <th></th>\n",
       "      <th></th>\n",
       "      <th></th>\n",
       "    </tr>\n",
       "  </thead>\n",
       "  <tbody>\n",
       "    <tr>\n",
       "      <th>Husky Stadium</th>\n",
       "      <td>4,821.00</td>\n",
       "      <td>3,178.64</td>\n",
       "      <td>-1,642.36</td>\n",
       "      <td>-34.07%</td>\n",
       "    </tr>\n",
       "    <tr>\n",
       "      <th>Capitol Hill</th>\n",
       "      <td>7,263.00</td>\n",
       "      <td>7,074.52</td>\n",
       "      <td>-188.48</td>\n",
       "      <td>-2.60%</td>\n",
       "    </tr>\n",
       "    <tr>\n",
       "      <th>Westlake/Symphony</th>\n",
       "      <td>14,002.00</td>\n",
       "      <td>14,699.40</td>\n",
       "      <td>697.40</td>\n",
       "      <td>4.98%</td>\n",
       "    </tr>\n",
       "    <tr>\n",
       "      <th>Pioneer Square/Int'l District</th>\n",
       "      <td>7,461.00</td>\n",
       "      <td>6,843.31</td>\n",
       "      <td>-617.69</td>\n",
       "      <td>-8.28%</td>\n",
       "    </tr>\n",
       "    <tr>\n",
       "      <th>Stadium/SODO</th>\n",
       "      <td>3,972.00</td>\n",
       "      <td>2,576.51</td>\n",
       "      <td>-1,395.49</td>\n",
       "      <td>-35.13%</td>\n",
       "    </tr>\n",
       "    <tr>\n",
       "      <th>Beacon Hill/Mount Baker</th>\n",
       "      <td>4,269.00</td>\n",
       "      <td>2,938.22</td>\n",
       "      <td>-1,330.78</td>\n",
       "      <td>-31.17%</td>\n",
       "    </tr>\n",
       "    <tr>\n",
       "      <th>Columbia City</th>\n",
       "      <td>1,840.00</td>\n",
       "      <td>1,578.54</td>\n",
       "      <td>-261.46</td>\n",
       "      <td>-14.21%</td>\n",
       "    </tr>\n",
       "    <tr>\n",
       "      <th>Othello/Rainier Beach</th>\n",
       "      <td>3,486.00</td>\n",
       "      <td>3,484.78</td>\n",
       "      <td>-1.22</td>\n",
       "      <td>-0.04%</td>\n",
       "    </tr>\n",
       "    <tr>\n",
       "      <th>Tukwila Int'l Blvd</th>\n",
       "      <td>2,423.00</td>\n",
       "      <td>2,644.55</td>\n",
       "      <td>221.55</td>\n",
       "      <td>9.14%</td>\n",
       "    </tr>\n",
       "    <tr>\n",
       "      <th>SeaTac/Airport</th>\n",
       "      <td>6,087.00</td>\n",
       "      <td>5,800.09</td>\n",
       "      <td>-286.91</td>\n",
       "      <td>-4.71%</td>\n",
       "    </tr>\n",
       "    <tr>\n",
       "      <th>Angle Lake</th>\n",
       "      <td>3,840.00</td>\n",
       "      <td>2,496.48</td>\n",
       "      <td>-1,343.52</td>\n",
       "      <td>-34.99%</td>\n",
       "    </tr>\n",
       "  </tbody>\n",
       "</table>\n",
       "</div>"
      ],
      "text/plain": [
       "                               observed_boardings  model_boardings      diff  \\\n",
       "station_group                                                                  \n",
       "Husky Stadium                            4,821.00         3,178.64 -1,642.36   \n",
       "Capitol Hill                             7,263.00         7,074.52   -188.48   \n",
       "Westlake/Symphony                       14,002.00        14,699.40    697.40   \n",
       "Pioneer Square/Int'l District            7,461.00         6,843.31   -617.69   \n",
       "Stadium/SODO                             3,972.00         2,576.51 -1,395.49   \n",
       "Beacon Hill/Mount Baker                  4,269.00         2,938.22 -1,330.78   \n",
       "Columbia City                            1,840.00         1,578.54   -261.46   \n",
       "Othello/Rainier Beach                    3,486.00         3,484.78     -1.22   \n",
       "Tukwila Int'l Blvd                       2,423.00         2,644.55    221.55   \n",
       "SeaTac/Airport                           6,087.00         5,800.09   -286.91   \n",
       "Angle Lake                               3,840.00         2,496.48 -1,343.52   \n",
       "\n",
       "                              percent_diff  \n",
       "station_group                               \n",
       "Husky Stadium                      -34.07%  \n",
       "Capitol Hill                        -2.60%  \n",
       "Westlake/Symphony                    4.98%  \n",
       "Pioneer Square/Int'l District       -8.28%  \n",
       "Stadium/SODO                       -35.13%  \n",
       "Beacon Hill/Mount Baker            -31.17%  \n",
       "Columbia City                      -14.21%  \n",
       "Othello/Rainier Beach               -0.04%  \n",
       "Tukwila Int'l Blvd                   9.14%  \n",
       "SeaTac/Airport                      -4.71%  \n",
       "Angle Lake                         -34.99%  "
      ]
     },
     "execution_count": 25,
     "metadata": {},
     "output_type": "execute_result"
    }
   ],
   "source": [
    "df_combined = df.copy()\n",
    "\n",
    "df_combined['station_group'] = df.index\n",
    "df_combined.loc[['Westlake'],'station_group'] = 'Westlake/Symphony'\n",
    "df_combined.loc[['Symphony'],'station_group'] = 'Westlake/Symphony'\n",
    "\n",
    "df_combined.loc[['Pioneer Square'],'station_group'] = \"Pioneer Square/Int'l District\"\n",
    "df_combined.loc[[\"Int'l District\"],'station_group'] = \"Pioneer Square/Int'l District\"\n",
    "\n",
    "df_combined.loc[['Stadium'],'station_group'] = 'Stadium/SODO'\n",
    "df_combined.loc[['SODO'],'station_group'] = 'Stadium/SODO'\n",
    "\n",
    "df_combined.loc[['Beacon Hill'],'station_group'] = 'Beacon Hill/Mount Baker'\n",
    "df_combined.loc[['Mount Baker'],'station_group'] = 'Beacon Hill/Mount Baker'\n",
    "\n",
    "df_combined.loc[['Othello'],'station_group'] = 'Othello/Rainier Beach'\n",
    "df_combined.loc[['Rainier Beach'],'station_group'] = 'Othello/Rainier Beach'\n",
    "\n",
    "df_combined = df_combined.groupby('station_group').sum()[['observed_boardings','model_boardings']]\n",
    "df_combined['diff'] = df_combined['model_boardings']-df_combined['observed_boardings']\n",
    "df_combined['percent_diff'] = df_combined['diff']/df_combined['observed_boardings']\n",
    "df_combined[['percent_diff']] = df_combined[['percent_diff']].applymap(format_percent)\n",
    "\n",
    "df_combined.loc[['Husky Stadium','Capitol Hill','Westlake/Symphony',\"Pioneer Square/Int'l District\",\n",
    "                 'Stadium/SODO','Beacon Hill/Mount Baker','Columbia City','Othello/Rainier Beach',\n",
    "                 \"Tukwila Int'l Blvd\",'SeaTac/Airport','Angle Lake']]"
   ]
  },
  {
   "cell_type": "raw",
   "id": "b23f6eef",
   "metadata": {
    "vscode": {
     "languageId": "raw"
    }
   },
   "source": [
    "#### 2023/2024 Station Boardings"
   ]
  },
  {
   "cell_type": "code",
   "execution_count": 26,
   "id": "5d7293bb",
   "metadata": {},
   "outputs": [
    {
     "data": {
      "text/html": [
       "<div>\n",
       "<style scoped>\n",
       "    .dataframe tbody tr th:only-of-type {\n",
       "        vertical-align: middle;\n",
       "    }\n",
       "\n",
       "    .dataframe tbody tr th {\n",
       "        vertical-align: top;\n",
       "    }\n",
       "\n",
       "    .dataframe thead th {\n",
       "        text-align: right;\n",
       "    }\n",
       "</style>\n",
       "<table border=\"1\" class=\"dataframe\">\n",
       "  <thead>\n",
       "    <tr style=\"text-align: right;\">\n",
       "      <th></th>\n",
       "      <th>model_boardings</th>\n",
       "      <th>2023</th>\n",
       "      <th>2024</th>\n",
       "    </tr>\n",
       "    <tr>\n",
       "      <th>station_name</th>\n",
       "      <th></th>\n",
       "      <th></th>\n",
       "      <th></th>\n",
       "    </tr>\n",
       "  </thead>\n",
       "  <tbody>\n",
       "    <tr>\n",
       "      <th>Angle Lake</th>\n",
       "      <td>2,496.48</td>\n",
       "      <td>3,840.00</td>\n",
       "      <td>5,093.00</td>\n",
       "    </tr>\n",
       "    <tr>\n",
       "      <th>Beacon Hill</th>\n",
       "      <td>1,289.81</td>\n",
       "      <td>2,211.00</td>\n",
       "      <td>2,672.00</td>\n",
       "    </tr>\n",
       "    <tr>\n",
       "      <th>Capitol Hill</th>\n",
       "      <td>7,074.52</td>\n",
       "      <td>7,263.00</td>\n",
       "      <td>8,207.00</td>\n",
       "    </tr>\n",
       "    <tr>\n",
       "      <th>Columbia City</th>\n",
       "      <td>1,578.54</td>\n",
       "      <td>1,840.00</td>\n",
       "      <td>2,145.00</td>\n",
       "    </tr>\n",
       "    <tr>\n",
       "      <th>Husky Stadium</th>\n",
       "      <td>3,178.64</td>\n",
       "      <td>4,821.00</td>\n",
       "      <td>5,122.00</td>\n",
       "    </tr>\n",
       "    <tr>\n",
       "      <th>Int'l District</th>\n",
       "      <td>1,842.64</td>\n",
       "      <td>4,797.00</td>\n",
       "      <td>5,372.00</td>\n",
       "    </tr>\n",
       "    <tr>\n",
       "      <th>Mount Baker</th>\n",
       "      <td>1,648.41</td>\n",
       "      <td>2,058.00</td>\n",
       "      <td>2,458.00</td>\n",
       "    </tr>\n",
       "    <tr>\n",
       "      <th>Northgate Station</th>\n",
       "      <td>8,097.68</td>\n",
       "      <td>10,430.00</td>\n",
       "      <td>4,150.00</td>\n",
       "    </tr>\n",
       "    <tr>\n",
       "      <th>Othello</th>\n",
       "      <td>1,969.10</td>\n",
       "      <td>2,083.00</td>\n",
       "      <td>2,466.00</td>\n",
       "    </tr>\n",
       "    <tr>\n",
       "      <th>Pioneer Square</th>\n",
       "      <td>5,000.67</td>\n",
       "      <td>2,664.00</td>\n",
       "      <td>3,008.00</td>\n",
       "    </tr>\n",
       "    <tr>\n",
       "      <th>Rainier Beach</th>\n",
       "      <td>1,515.68</td>\n",
       "      <td>1,403.00</td>\n",
       "      <td>1,663.00</td>\n",
       "    </tr>\n",
       "    <tr>\n",
       "      <th>Roosevelt Station</th>\n",
       "      <td>7,725.77</td>\n",
       "      <td>4,340.00</td>\n",
       "      <td>3,693.00</td>\n",
       "    </tr>\n",
       "    <tr>\n",
       "      <th>SODO</th>\n",
       "      <td>2,263.13</td>\n",
       "      <td>1,652.00</td>\n",
       "      <td>1,899.00</td>\n",
       "    </tr>\n",
       "    <tr>\n",
       "      <th>SeaTac/Airport</th>\n",
       "      <td>5,800.09</td>\n",
       "      <td>6,087.00</td>\n",
       "      <td>9,490.00</td>\n",
       "    </tr>\n",
       "    <tr>\n",
       "      <th>Stadium</th>\n",
       "      <td>313.38</td>\n",
       "      <td>2,320.00</td>\n",
       "      <td>1,813.00</td>\n",
       "    </tr>\n",
       "    <tr>\n",
       "      <th>Symphony</th>\n",
       "      <td>5,350.97</td>\n",
       "      <td>4,263.00</td>\n",
       "      <td>4,783.00</td>\n",
       "    </tr>\n",
       "    <tr>\n",
       "      <th>Tukwila Int'l Blvd</th>\n",
       "      <td>2,644.55</td>\n",
       "      <td>2,423.00</td>\n",
       "      <td>3,475.00</td>\n",
       "    </tr>\n",
       "    <tr>\n",
       "      <th>University District Station</th>\n",
       "      <td>6,083.34</td>\n",
       "      <td>6,493.00</td>\n",
       "      <td>6,004.00</td>\n",
       "    </tr>\n",
       "    <tr>\n",
       "      <th>Westlake</th>\n",
       "      <td>9,348.43</td>\n",
       "      <td>9,739.00</td>\n",
       "      <td>10,737.00</td>\n",
       "    </tr>\n",
       "  </tbody>\n",
       "</table>\n",
       "</div>"
      ],
      "text/plain": [
       "                             model_boardings      2023      2024\n",
       "station_name                                                    \n",
       "Angle Lake                          2,496.48  3,840.00  5,093.00\n",
       "Beacon Hill                         1,289.81  2,211.00  2,672.00\n",
       "Capitol Hill                        7,074.52  7,263.00  8,207.00\n",
       "Columbia City                       1,578.54  1,840.00  2,145.00\n",
       "Husky Stadium                       3,178.64  4,821.00  5,122.00\n",
       "Int'l District                      1,842.64  4,797.00  5,372.00\n",
       "Mount Baker                         1,648.41  2,058.00  2,458.00\n",
       "Northgate Station                   8,097.68 10,430.00  4,150.00\n",
       "Othello                             1,969.10  2,083.00  2,466.00\n",
       "Pioneer Square                      5,000.67  2,664.00  3,008.00\n",
       "Rainier Beach                       1,515.68  1,403.00  1,663.00\n",
       "Roosevelt Station                   7,725.77  4,340.00  3,693.00\n",
       "SODO                                2,263.13  1,652.00  1,899.00\n",
       "SeaTac/Airport                      5,800.09  6,087.00  9,490.00\n",
       "Stadium                               313.38  2,320.00  1,813.00\n",
       "Symphony                            5,350.97  4,263.00  4,783.00\n",
       "Tukwila Int'l Blvd                  2,644.55  2,423.00  3,475.00\n",
       "University District Station         6,083.34  6,493.00  6,004.00\n",
       "Westlake                            9,348.43  9,739.00 10,737.00"
      ]
     },
     "execution_count": 26,
     "metadata": {},
     "output_type": "execute_result"
    }
   ],
   "source": [
    "df_obs = pd.read_sql(\n",
    "    \"SELECT * FROM light_rail_station_boardings WHERE year IN (2023, 2024)\",\n",
    "    con=conn,\n",
    ")\n",
    "df_obs.rename(columns={\"boardings\": \"observed_boardings\"}, inplace=True)\n",
    "\n",
    "# df_obs.groupby(['year','station_name']).sum()\n",
    "df_obs = pd.pivot_table(df_obs, values='observed_boardings', columns='year', index='station_name', aggfunc=np.sum)\n",
    "df_obs = df_obs.fillna(0)\n",
    "df_obs\n",
    "\n",
    "df = pd.read_csv(os.path.join(csv_path,'light_rail_boardings.csv'), index_col='station_name', usecols=['station_name','model_boardings'])\n",
    "df = df.merge(df_obs,  left_index=True, right_index=True, how='outer')\n",
    "df = df[df.index != 'Total']\n",
    "df = df[~df['model_boardings'].isnull()]\n",
    "df"
   ]
  },
  {
   "cell_type": "raw",
   "id": "f429de2d705b1e22",
   "metadata": {},
   "source": [
    ":::"
   ]
  },
  {
   "cell_type": "markdown",
   "id": "86996e48d6760252",
   "metadata": {},
   "source": [
    "## light rail stop transfers"
   ]
  },
  {
   "cell_type": "code",
   "execution_count": 27,
   "id": "4bd536d185354993",
   "metadata": {
    "ExecuteTime": {
     "end_time": "2024-06-24T20:06:14.325917Z",
     "start_time": "2024-06-24T20:06:14.279144Z"
    },
    "execution": {
     "iopub.execute_input": "2024-12-14T02:38:43.002696Z",
     "iopub.status.busy": "2024-12-14T02:38:43.000701Z",
     "iopub.status.idle": "2024-12-14T02:38:43.053560Z",
     "shell.execute_reply": "2024-12-14T02:38:43.051565Z"
    }
   },
   "outputs": [
    {
     "data": {
      "text/html": [
       "<div>\n",
       "<style scoped>\n",
       "    .dataframe tbody tr th:only-of-type {\n",
       "        vertical-align: middle;\n",
       "    }\n",
       "\n",
       "    .dataframe tbody tr th {\n",
       "        vertical-align: top;\n",
       "    }\n",
       "\n",
       "    .dataframe thead th {\n",
       "        text-align: right;\n",
       "    }\n",
       "</style>\n",
       "<table border=\"1\" class=\"dataframe\">\n",
       "  <thead>\n",
       "    <tr style=\"text-align: right;\">\n",
       "      <th></th>\n",
       "      <th>modeled_transfer_rate</th>\n",
       "      <th>observed_transfer_rate</th>\n",
       "      <th>diff</th>\n",
       "      <th>percent_diff</th>\n",
       "    </tr>\n",
       "    <tr>\n",
       "      <th>station_name</th>\n",
       "      <th></th>\n",
       "      <th></th>\n",
       "      <th></th>\n",
       "      <th></th>\n",
       "    </tr>\n",
       "  </thead>\n",
       "  <tbody>\n",
       "    <tr>\n",
       "      <th>Husky Stadium</th>\n",
       "      <td>0.81</td>\n",
       "      <td>-99.00</td>\n",
       "      <td>99.81</td>\n",
       "      <td>-100.81%</td>\n",
       "    </tr>\n",
       "    <tr>\n",
       "      <th>Westlake</th>\n",
       "      <td>0.12</td>\n",
       "      <td>0.36</td>\n",
       "      <td>-0.24</td>\n",
       "      <td>-66.00%</td>\n",
       "    </tr>\n",
       "    <tr>\n",
       "      <th>Symphony</th>\n",
       "      <td>0.31</td>\n",
       "      <td>0.20</td>\n",
       "      <td>0.11</td>\n",
       "      <td>57.27%</td>\n",
       "    </tr>\n",
       "    <tr>\n",
       "      <th>Pioneer Square</th>\n",
       "      <td>0.39</td>\n",
       "      <td>0.16</td>\n",
       "      <td>0.23</td>\n",
       "      <td>142.33%</td>\n",
       "    </tr>\n",
       "    <tr>\n",
       "      <th>Int'l District</th>\n",
       "      <td>0.51</td>\n",
       "      <td>0.45</td>\n",
       "      <td>0.06</td>\n",
       "      <td>13.82%</td>\n",
       "    </tr>\n",
       "    <tr>\n",
       "      <th>Capitol Hill</th>\n",
       "      <td>0.06</td>\n",
       "      <td>-99.00</td>\n",
       "      <td>99.06</td>\n",
       "      <td>-100.06%</td>\n",
       "    </tr>\n",
       "    <tr>\n",
       "      <th>Stadium</th>\n",
       "      <td>0.35</td>\n",
       "      <td>0.12</td>\n",
       "      <td>0.23</td>\n",
       "      <td>195.38%</td>\n",
       "    </tr>\n",
       "    <tr>\n",
       "      <th>SODO</th>\n",
       "      <td>0.65</td>\n",
       "      <td>0.31</td>\n",
       "      <td>0.34</td>\n",
       "      <td>107.26%</td>\n",
       "    </tr>\n",
       "    <tr>\n",
       "      <th>Beacon Hill</th>\n",
       "      <td>0.34</td>\n",
       "      <td>0.35</td>\n",
       "      <td>-0.02</td>\n",
       "      <td>-4.42%</td>\n",
       "    </tr>\n",
       "    <tr>\n",
       "      <th>Mount Baker</th>\n",
       "      <td>0.42</td>\n",
       "      <td>0.32</td>\n",
       "      <td>0.09</td>\n",
       "      <td>29.15%</td>\n",
       "    </tr>\n",
       "    <tr>\n",
       "      <th>Columbia City</th>\n",
       "      <td>0.01</td>\n",
       "      <td>0.12</td>\n",
       "      <td>-0.11</td>\n",
       "      <td>-88.03%</td>\n",
       "    </tr>\n",
       "    <tr>\n",
       "      <th>Othello</th>\n",
       "      <td>0.05</td>\n",
       "      <td>0.12</td>\n",
       "      <td>-0.07</td>\n",
       "      <td>-58.32%</td>\n",
       "    </tr>\n",
       "    <tr>\n",
       "      <th>Rainier Beach</th>\n",
       "      <td>0.32</td>\n",
       "      <td>0.36</td>\n",
       "      <td>-0.05</td>\n",
       "      <td>-12.80%</td>\n",
       "    </tr>\n",
       "    <tr>\n",
       "      <th>Tukwila Int'l Blvd</th>\n",
       "      <td>0.46</td>\n",
       "      <td>0.26</td>\n",
       "      <td>0.19</td>\n",
       "      <td>73.54%</td>\n",
       "    </tr>\n",
       "    <tr>\n",
       "      <th>SeaTac/Airport</th>\n",
       "      <td>0.12</td>\n",
       "      <td>0.26</td>\n",
       "      <td>-0.14</td>\n",
       "      <td>-53.48%</td>\n",
       "    </tr>\n",
       "    <tr>\n",
       "      <th>Angle Lake</th>\n",
       "      <td>0.27</td>\n",
       "      <td>-99.00</td>\n",
       "      <td>99.27</td>\n",
       "      <td>-100.28%</td>\n",
       "    </tr>\n",
       "    <tr>\n",
       "      <th>University District Station</th>\n",
       "      <td>0.23</td>\n",
       "      <td>-99.00</td>\n",
       "      <td>99.23</td>\n",
       "      <td>-100.23%</td>\n",
       "    </tr>\n",
       "    <tr>\n",
       "      <th>Roosevelt Station</th>\n",
       "      <td>0.37</td>\n",
       "      <td>-99.00</td>\n",
       "      <td>99.37</td>\n",
       "      <td>-100.38%</td>\n",
       "    </tr>\n",
       "    <tr>\n",
       "      <th>Northgate Station</th>\n",
       "      <td>0.54</td>\n",
       "      <td>-99.00</td>\n",
       "      <td>99.54</td>\n",
       "      <td>-100.55%</td>\n",
       "    </tr>\n",
       "  </tbody>\n",
       "</table>\n",
       "</div>"
      ],
      "text/plain": [
       "                             modeled_transfer_rate  observed_transfer_rate  \\\n",
       "station_name                                                                 \n",
       "Husky Stadium                                 0.81                  -99.00   \n",
       "Westlake                                      0.12                    0.36   \n",
       "Symphony                                      0.31                    0.20   \n",
       "Pioneer Square                                0.39                    0.16   \n",
       "Int'l District                                0.51                    0.45   \n",
       "Capitol Hill                                  0.06                  -99.00   \n",
       "Stadium                                       0.35                    0.12   \n",
       "SODO                                          0.65                    0.31   \n",
       "Beacon Hill                                   0.34                    0.35   \n",
       "Mount Baker                                   0.42                    0.32   \n",
       "Columbia City                                 0.01                    0.12   \n",
       "Othello                                       0.05                    0.12   \n",
       "Rainier Beach                                 0.32                    0.36   \n",
       "Tukwila Int'l Blvd                            0.46                    0.26   \n",
       "SeaTac/Airport                                0.12                    0.26   \n",
       "Angle Lake                                    0.27                  -99.00   \n",
       "University District Station                   0.23                  -99.00   \n",
       "Roosevelt Station                             0.37                  -99.00   \n",
       "Northgate Station                             0.54                  -99.00   \n",
       "\n",
       "                             diff percent_diff  \n",
       "station_name                                    \n",
       "Husky Stadium               99.81     -100.81%  \n",
       "Westlake                    -0.24      -66.00%  \n",
       "Symphony                     0.11       57.27%  \n",
       "Pioneer Square               0.23      142.33%  \n",
       "Int'l District               0.06       13.82%  \n",
       "Capitol Hill                99.06     -100.06%  \n",
       "Stadium                      0.23      195.38%  \n",
       "SODO                         0.34      107.26%  \n",
       "Beacon Hill                 -0.02       -4.42%  \n",
       "Mount Baker                  0.09       29.15%  \n",
       "Columbia City               -0.11      -88.03%  \n",
       "Othello                     -0.07      -58.32%  \n",
       "Rainier Beach               -0.05      -12.80%  \n",
       "Tukwila Int'l Blvd           0.19       73.54%  \n",
       "SeaTac/Airport              -0.14      -53.48%  \n",
       "Angle Lake                  99.27     -100.28%  \n",
       "University District Station 99.23     -100.23%  \n",
       "Roosevelt Station           99.37     -100.38%  \n",
       "Northgate Station           99.54     -100.55%  "
      ]
     },
     "execution_count": 27,
     "metadata": {},
     "output_type": "execute_result"
    }
   ],
   "source": [
    "df = pd.read_csv(os.path.join(csv_path,'light_rail_transfers.csv'), index_col='station_name')\n",
    "df[['percent_diff']] = df[['percent_diff']].applymap(format_percent)\n",
    "df"
   ]
  },
  {
   "cell_type": "markdown",
   "id": "fb8646bd",
   "metadata": {},
   "source": [
    "## Park and Ride"
   ]
  },
  {
   "cell_type": "code",
   "execution_count": 28,
   "id": "226280a8",
   "metadata": {},
   "outputs": [],
   "source": [
    "df = pd.read_csv(r'C:\\Workspace\\sc_2023_01_30_25\\outputs\\daysim\\_trip.tsv', sep='\\t')\n",
    "pnr_boardings = df[(df['otaz'].isin(range(3750,4001))) & (df['mode']==6)]\n",
    "pnr_boardings = pnr_boardings.groupby('otaz').count()[['trexpfac']].reset_index()"
   ]
  },
  {
   "cell_type": "code",
   "execution_count": 29,
   "id": "8fc48cdd",
   "metadata": {},
   "outputs": [],
   "source": [
    "stations = [\n",
    "    {\"id\": 3751, \"name\": \"Tukwila Station (CR)\"},\n",
    "    {\"id\": 3752, \"name\": \"Tacoma Dome Station\"},\n",
    "    {\"id\": 3753, \"name\": \"South Tacoma (CR)\"},\n",
    "    {\"id\": 3754, \"name\": \"Everett Station (CR)\"},\n",
    "    {\"id\": 3755, \"name\": \"Sumner Station (CR)\"},\n",
    "    {\"id\": 3756, \"name\": \"Mukilteo Station\"},\n",
    "    {\"id\": 3757, \"name\": \"Kent Station (CR)\"},\n",
    "    {\"id\": 3758, \"name\": \"Auburn Station (CR)\"},\n",
    "    {\"id\": 3759, \"name\": \"Lakewood (CR)\"},\n",
    "    {\"id\": 3760, \"name\": \"Gateway P&R\"},\n",
    "    {\"id\": 3761, \"name\": \"Puyallup Station (SB)\"},\n",
    "    {\"id\": 3762, \"name\": \"Twin Lakes P&R\"},\n",
    "    {\"id\": 3763, \"name\": \"Crossroads Neighborhood Church\"},\n",
    "    {\"id\": 3764, \"name\": \"Overlake Transit Center\"},\n",
    "    {\"id\": 3765, \"name\": \"Redondo Heights P&R\"},\n",
    "    {\"id\": 3766, \"name\": \"North Gig Harbor/Kimball Drive\"},\n",
    "    {\"id\": 3767, \"name\": \"Duvall P&R\"},\n",
    "    {\"id\": 3768, \"name\": \"Roy 'Y' P&R\"},\n",
    "    {\"id\": 3769, \"name\": \"South Hill (Elim Evangelical)\"},\n",
    "    {\"id\": 3770, \"name\": \"Parkland Transit Center\"},\n",
    "    {\"id\": 3771, \"name\": \"SR-512/I-5 (Lakewood)\"},\n",
    "    {\"id\": 3772, \"name\": \"Center Street P&R\"},\n",
    "    {\"id\": 3773, \"name\": \"Tacoma Mall Transit Center\"},\n",
    "    {\"id\": 3774, \"name\": \"South Tacoma West\"},\n",
    "    {\"id\": 3775, \"name\": \"South Tacoma East - 2\"},\n",
    "    {\"id\": 3776, \"name\": \"Narrows P&R\"},\n",
    "    {\"id\": 3777, \"name\": \"North Purdy/Purdy Crescent\"},\n",
    "    {\"id\": 3778, \"name\": \"Point Defiance Ferry\"},\n",
    "    {\"id\": 3779, \"name\": \"South Federal P&R\"},\n",
    "    {\"id\": 3780, \"name\": \"Sultan P&R\"},\n",
    "    {\"id\": 3781, \"name\": \"Federal Way P&R (320th)\"},\n",
    "    {\"id\": 3782, \"name\": \"Auburn P&R\"},\n",
    "    {\"id\": 3783, \"name\": \"Star Lake P&R\"},\n",
    "    {\"id\": 3784, \"name\": \"Holy Spirit Lutheran Church\"},\n",
    "    {\"id\": 3785, \"name\": \"Kent/Des Moines P&R\"},\n",
    "    {\"id\": 3786, \"name\": \"Kent/James St. P&R\"},\n",
    "    {\"id\": 3787, \"name\": \"Burien Transit Center\"},\n",
    "    {\"id\": 3788, \"name\": \"Tukwila\"},\n",
    "    {\"id\": 3789, \"name\": \"Maple Valley P&R\"},\n",
    "    {\"id\": 3790, \"name\": \"South Renton P&R\"},\n",
    "    {\"id\": 3791, \"name\": \"Renton Highlands P&R (St. Matts)\"},\n",
    "    {\"id\": 3792, \"name\": \"Issaquah Transit Center\"},\n",
    "    {\"id\": 3793, \"name\": \"Mercer Island P&R\"},\n",
    "    {\"id\": 3794, \"name\": \"Mercer Island Presbyterian\"},\n",
    "    {\"id\": 3795, \"name\": \"Newport Hills P&R\"},\n",
    "    {\"id\": 3796, \"name\": \"Newport Hills Community Church\"},\n",
    "    {\"id\": 3797, \"name\": \"Newport Covenant Church\"},\n",
    "    {\"id\": 3798, \"name\": \"South Bellevue P&R\"},\n",
    "    {\"id\": 3799, \"name\": \"Wilburton\"},\n",
    "    {\"id\": 3800, \"name\": \"Eastgate P&R\"},\n",
    "    {\"id\": 3801, \"name\": \"North Bend P&R\"},\n",
    "    {\"id\": 3802, \"name\": \"Evergreen Point P&R\"},\n",
    "    {\"id\": 3803, \"name\": \"Grace Lutheran Church\"},\n",
    "    {\"id\": 3804, \"name\": \"South Kirkland P&R\"},\n",
    "    {\"id\": 3805, \"name\": \"Overlake P&R\"},\n",
    "    {\"id\": 3806, \"name\": \"Houghton P&R\"},\n",
    "    {\"id\": 3807, \"name\": \"Bethel Lutheran\"},\n",
    "    {\"id\": 3808, \"name\": \"Redmond P&R\"},\n",
    "    {\"id\": 3809, \"name\": \"Saint Thomas Episcopal\"},\n",
    "    {\"id\": 3810, \"name\": \"Valley Center\"},\n",
    "    {\"id\": 3811, \"name\": \"Bear Creek P&R\"},\n",
    "    {\"id\": 3812, \"name\": \"Kingsgate P&R\"},\n",
    "    {\"id\": 3813, \"name\": \"Brickyard P&R\"},\n",
    "    {\"id\": 3814, \"name\": \"Northshore P&R\"},\n",
    "    {\"id\": 3815, \"name\": \"Kenmore P&R\"},\n",
    "    {\"id\": 3816, \"name\": \"Bethany Bible Church\"},\n",
    "    {\"id\": 3817, \"name\": \"Bothell P&R\"},\n",
    "    {\"id\": 3818, \"name\": \"Woodinville P&R\"},\n",
    "    {\"id\": 3819, \"name\": \"Olson & Meyers\"},\n",
    "    {\"id\": 3820, \"name\": \"Spokane Street P&R\"},\n",
    "    {\"id\": 3821, \"name\": \"Greenlake P&R\"},\n",
    "    {\"id\": 3822, \"name\": \"Northgate TC\"},\n",
    "    {\"id\": 3823, \"name\": \"North Jackson Park\"},\n",
    "    {\"id\": 3824, \"name\": \"Shoreline\"},\n",
    "    {\"id\": 3825, \"name\": \"112th St. & I-5\"},\n",
    "    {\"id\": 3826, \"name\": \"Ober Park\"},\n",
    "    {\"id\": 3827, \"name\": \"Vashon Heights\"},\n",
    "    {\"id\": 3828, \"name\": \"Mountlake Terrace P&R\"},\n",
    "    {\"id\": 3829, \"name\": \"Bethesda Lutheran\"},\n",
    "    {\"id\": 3830, \"name\": \"Edmonds Station\"},\n",
    "    {\"id\": 3831, \"name\": \"Edmonds P&R\"},\n",
    "    {\"id\": 3832, \"name\": \"Lynnwood P&R\"},\n",
    "    {\"id\": 3833, \"name\": \"Swamp Creek P&R\"},\n",
    "    {\"id\": 3834, \"name\": \"Mariner P&R\"},\n",
    "    {\"id\": 3835, \"name\": \"Snohomish\"},\n",
    "    {\"id\": 3836, \"name\": \"Marysville - Ash Ave\"},\n",
    "    {\"id\": 3837, \"name\": \"116th & I-5 - Marysville\"},\n",
    "    {\"id\": 3838, \"name\": \"SR-531 - Marysville\"},\n",
    "    {\"id\": 3839, \"name\": \"Arlington P&R\"},\n",
    "    {\"id\": 3840, \"name\": \"Stanwood\"},\n",
    "    {\"id\": 3841, \"name\": \"Monroe\"},\n",
    "    {\"id\": 3842, \"name\": \"Federal Way\"},\n",
    "    {\"id\": 3843, \"name\": \"Port Orchard Armory\"},\n",
    "    {\"id\": 3844, \"name\": \"Southworth Ferry P&R\"},\n",
    "    {\"id\": 3845, \"name\": \"McWilliams P&R\"},\n",
    "    {\"id\": 3846, \"name\": \"Bethany Lutheran Church\"},\n",
    "    {\"id\": 3847, \"name\": \"Gateway Fellowship\"},\n",
    "    {\"id\": 3848, \"name\": \"Agate Pass P&R/Clearwater\"},\n",
    "    {\"id\": 3849, \"name\": \"Kingston Ferry P&R\"},\n",
    "    {\"id\": 3850, \"name\": \"Suquamish United Church of Christ\"},\n",
    "    {\"id\": 3851, \"name\": \"Bainbridge Island Ferry\"},\n",
    "    {\"id\": 3852, \"name\": \"Puyallup Station (NB)\"},\n",
    "    {\"id\": 3853, \"name\": \"72nd Street Transit Center\"},\n",
    "    {\"id\": 3855, \"name\": \"DuPont\"},\n",
    "    {\"id\": 3856, \"name\": \"Aurora Village TC\"},\n",
    "    {\"id\": 3857, \"name\": \"Aurora Nazarene\"},\n",
    "    {\"id\": 3858, \"name\": \"Saint Margaret's Episcopal\"},\n",
    "    {\"id\": 3861, \"name\": \"Lake Meridian P&R\"},\n",
    "    {\"id\": 3862, \"name\": \"Smokey Pt. Church\"},\n",
    "    {\"id\": 3863, \"name\": \"Eastmont P&R\"},\n",
    "    {\"id\": 3864, \"name\": \"McCollum Park P&R\"},\n",
    "    {\"id\": 3865, \"name\": \"Canyon Park P&R\"},\n",
    "    {\"id\": 3866, \"name\": \"Korean Presby. P&R\"},\n",
    "    {\"id\": 3867, \"name\": \"Georges Kountry Korner\"},\n",
    "    {\"id\": 3868, \"name\": \"Poulsbo Church of the Nazarene\"},\n",
    "    {\"id\": 3870, \"name\": \"Harper Evangelical Free Church\"},\n",
    "    {\"id\": 3871, \"name\": \"Mullenix Road\"},\n",
    "    {\"id\": 3873, \"name\": \"TCC P&R\"},\n",
    "    {\"id\": 3874, \"name\": \"Ash Way P&R\"},\n",
    "    {\"id\": 3875, \"name\": \"Bonney Lake P&R\"},\n",
    "    {\"id\": 3876, \"name\": \"Tukwila Int. Station\"},\n",
    "    {\"id\": 3877, \"name\": \"South Hill P&R\"},\n",
    "    {\"id\": 3878, \"name\": \"South Tacoma East - 1\"},\n",
    "    {\"id\": 3879, \"name\": \"Issaquah Highlands\"},\n",
    "    {\"id\": 3880, \"name\": \"Lake Stevens TC\"},\n",
    "    {\"id\": 3881, \"name\": \"Liberty Bay Presbyterian\"},\n",
    "    {\"id\": 3882, \"name\": \"NK Baptist\"},\n",
    "    {\"id\": 3883, \"name\": \"Preston P&R\"},\n",
    "    {\"id\": 3884, \"name\": \"Bayside Community Church\"},\n",
    "    {\"id\": 3885, \"name\": \"Ollala Valley Fire Station\"},\n",
    "    {\"id\": 3886, \"name\": \"Bremerton Ferry\"},\n",
    "    {\"id\": 3888, \"name\": \"Puyallup Fair's Red Lot\"},\n",
    "    {\"id\": 3889, \"name\": \"Marysville - Cedar & Grove\"},\n",
    "    {\"id\": 3890, \"name\": \"Stanwood II\"},\n",
    "    {\"id\": 3891, \"name\": \"Marysville I P&R\"},\n",
    "    {\"id\": 3892, \"name\": \"Martha Lake Covenant Church\"},\n",
    "    {\"id\": 3893, \"name\": \"South Sammammish P&R\"},\n",
    "    {\"id\": 3894, \"name\": \"Renton City Municipal Garage\"},\n",
    "    {\"id\": 3895, \"name\": \"Tibbetts Lot\"},\n",
    "    {\"id\": 3896, \"name\": \"Renton Transit Center\"},\n",
    "    {\"id\": 3897, \"name\": \"Calvary Christian Assembly\"},\n",
    "    {\"id\": 3898, \"name\": \"Maple Valley Town Square\"},\n",
    "    {\"id\": 3899, \"name\": \"All Saints Lutheran Church\"},\n",
    "    {\"id\": 3900, \"name\": \"City View Church\"},\n",
    "    {\"id\": 3901, \"name\": \"Northwest University 6710 Bldg.\"},\n",
    "    {\"id\": 3902, \"name\": \"Sammamish Lutheran P&R\"},\n",
    "    {\"id\": 3903, \"name\": \"Redmond Ridge P&R\"},\n",
    "    {\"id\": 3904, \"name\": \"Kennydale United Methodist Church\"},\n",
    "    {\"id\": 3905, \"name\": \"Nativity Lutheran Church\"},\n",
    "    {\"id\": 3906, \"name\": \"South Jackson P&R\"},\n",
    "    {\"id\": 3907, \"name\": \"South SeaTac (LR)\"},\n",
    "    {\"id\": 3908, \"name\": \"Everett Station\"},\n",
    "    {\"id\": 3909, \"name\": \"Bremerton (SR-303/Riddell Road)\"},\n",
    "    {\"id\": 3910, \"name\": \"Silverdale\"},\n",
    "    {\"id\": 3911, \"name\": \"Tukwila Station (CR)\"},\n",
    "    {\"id\": 3913, \"name\": \"Sumner Station Garage\"},\n",
    "    {\"id\": 3914, \"name\": \"Tacoma Dome\"},\n",
    "    {\"id\": 3915, \"name\": \"Bothell (SR-527/185th Street)\"},\n",
    "    {\"id\": 3916, \"name\": \"SR-3/SR-303\"},\n",
    "    {\"id\": 3917, \"name\": \"SR-16/SR-160\"},\n",
    "    {\"id\": 3918, \"name\": \"I-5 & 175th\"}\n",
    "]"
   ]
  },
  {
   "cell_type": "code",
   "execution_count": 30,
   "id": "adf42b0c",
   "metadata": {},
   "outputs": [
    {
     "data": {
      "text/html": [
       "<div>\n",
       "<style scoped>\n",
       "    .dataframe tbody tr th:only-of-type {\n",
       "        vertical-align: middle;\n",
       "    }\n",
       "\n",
       "    .dataframe tbody tr th {\n",
       "        vertical-align: top;\n",
       "    }\n",
       "\n",
       "    .dataframe thead th {\n",
       "        text-align: right;\n",
       "    }\n",
       "</style>\n",
       "<table border=\"1\" class=\"dataframe\">\n",
       "  <thead>\n",
       "    <tr style=\"text-align: right;\">\n",
       "      <th></th>\n",
       "      <th>NodeID</th>\n",
       "      <th>taz</th>\n",
       "      <th>XCoord</th>\n",
       "      <th>YCoord</th>\n",
       "      <th>Capacity</th>\n",
       "      <th>Cost</th>\n",
       "      <th>otaz</th>\n",
       "      <th>Model Boardings</th>\n",
       "      <th>Boardings/Capacity</th>\n",
       "    </tr>\n",
       "  </thead>\n",
       "  <tbody>\n",
       "    <tr>\n",
       "      <th>0</th>\n",
       "      <td>3719</td>\n",
       "      <td>3751</td>\n",
       "      <td>1,292,102.12</td>\n",
       "      <td>170,904.47</td>\n",
       "      <td>390</td>\n",
       "      <td>0</td>\n",
       "      <td>3751</td>\n",
       "      <td>359</td>\n",
       "      <td>0.92</td>\n",
       "    </tr>\n",
       "    <tr>\n",
       "      <th>1</th>\n",
       "      <td>3720</td>\n",
       "      <td>3752</td>\n",
       "      <td>1,244,894.82</td>\n",
       "      <td>91,851.41</td>\n",
       "      <td>2337</td>\n",
       "      <td>0</td>\n",
       "      <td>3752</td>\n",
       "      <td>751</td>\n",
       "      <td>0.32</td>\n",
       "    </tr>\n",
       "    <tr>\n",
       "      <th>2</th>\n",
       "      <td>3721</td>\n",
       "      <td>3753</td>\n",
       "      <td>1,229,573.94</td>\n",
       "      <td>78,529.59</td>\n",
       "      <td>220</td>\n",
       "      <td>0</td>\n",
       "      <td>3753</td>\n",
       "      <td>14</td>\n",
       "      <td>0.06</td>\n",
       "    </tr>\n",
       "    <tr>\n",
       "      <th>3</th>\n",
       "      <td>3722</td>\n",
       "      <td>3754</td>\n",
       "      <td>1,306,255.47</td>\n",
       "      <td>358,805.35</td>\n",
       "      <td>1107</td>\n",
       "      <td>0</td>\n",
       "      <td>3754</td>\n",
       "      <td>454</td>\n",
       "      <td>0.41</td>\n",
       "    </tr>\n",
       "    <tr>\n",
       "      <th>4</th>\n",
       "      <td>3723</td>\n",
       "      <td>3755</td>\n",
       "      <td>1,289,549.88</td>\n",
       "      <td>76,554.53</td>\n",
       "      <td>350</td>\n",
       "      <td>0</td>\n",
       "      <td>3755</td>\n",
       "      <td>142</td>\n",
       "      <td>0.41</td>\n",
       "    </tr>\n",
       "  </tbody>\n",
       "</table>\n",
       "</div>"
      ],
      "text/plain": [
       "   NodeID   taz       XCoord     YCoord  Capacity  Cost  otaz  \\\n",
       "0    3719  3751 1,292,102.12 170,904.47       390     0  3751   \n",
       "1    3720  3752 1,244,894.82  91,851.41      2337     0  3752   \n",
       "2    3721  3753 1,229,573.94  78,529.59       220     0  3753   \n",
       "3    3722  3754 1,306,255.47 358,805.35      1107     0  3754   \n",
       "4    3723  3755 1,289,549.88  76,554.53       350     0  3755   \n",
       "\n",
       "   Model Boardings  Boardings/Capacity  \n",
       "0              359                0.92  \n",
       "1              751                0.32  \n",
       "2               14                0.06  \n",
       "3              454                0.41  \n",
       "4              142                0.41  "
      ]
     },
     "execution_count": 30,
     "metadata": {},
     "output_type": "execute_result"
    }
   ],
   "source": [
    "pnr_capacity = pd.read_csv(r'C:\\Workspace\\sc_2023_01_30_25\\inputs\\scenario\\networks\\p_r_nodes.csv')\n",
    "df = pnr_capacity.merge(pnr_boardings, left_on='ZoneID', right_on='otaz')\n",
    "df.rename(columns={'ZoneID': 'taz', 'trexpfac': 'Model Boardings'}, inplace=True)\n",
    "df['Boardings/Capacity'] = df['Model Boardings']/df['Capacity']\n",
    "df.head()"
   ]
  },
  {
   "cell_type": "code",
   "execution_count": 31,
   "id": "a4fb4af0",
   "metadata": {},
   "outputs": [],
   "source": [
    "df_station_names = pd.DataFrame(stations)\n",
    "df = df.merge(df_station_names, how='left', left_on='taz', right_on='id')"
   ]
  },
  {
   "cell_type": "code",
   "execution_count": 32,
   "id": "7aae9d60",
   "metadata": {},
   "outputs": [],
   "source": [
    "# df"
   ]
  },
  {
   "cell_type": "code",
   "execution_count": 33,
   "id": "7f7b1396",
   "metadata": {},
   "outputs": [
    {
     "data": {
      "text/html": [
       "        <script type=\"text/javascript\">\n",
       "        window.PlotlyConfig = {MathJaxConfig: 'local'};\n",
       "        if (window.MathJax && window.MathJax.Hub && window.MathJax.Hub.Config) {window.MathJax.Hub.Config({SVG: {font: \"STIX-Web\"}});}\n",
       "        if (typeof require !== 'undefined') {\n",
       "        require.undef(\"plotly\");\n",
       "        requirejs.config({\n",
       "            paths: {\n",
       "                'plotly': ['https://cdn.plot.ly/plotly-2.27.0.min']\n",
       "            }\n",
       "        });\n",
       "        require(['plotly'], function(Plotly) {\n",
       "            window._Plotly = Plotly;\n",
       "        });\n",
       "        }\n",
       "        </script>\n",
       "        "
      ]
     },
     "metadata": {},
     "output_type": "display_data"
    },
    {
     "data": {
      "application/vnd.plotly.v1+json": {
       "config": {
        "plotlyServerURL": "https://plot.ly"
       },
       "data": [
        {
         "customdata": [
          [
           "Tukwila Station (CR)",
           0.9205128205128205
          ],
          [
           "Tacoma Dome Station",
           0.32135216089002994
          ],
          [
           "South Tacoma (CR)",
           0.06363636363636363
          ],
          [
           "Everett Station (CR)",
           0.4101174345076784
          ],
          [
           "Sumner Station (CR)",
           0.4057142857142857
          ],
          [
           "Mukilteo Station",
           0.15873015873015872
          ],
          [
           "Kent Station (CR)",
           0.3273092369477912
          ],
          [
           "Auburn Station (CR)",
           0.8404423380726699
          ],
          [
           "Lakewood (CR)",
           0.06156405990016639
          ],
          [
           "Gateway P&R",
           0.5576923076923077
          ],
          [
           "Puyallup Station (SB)",
           0.22
          ],
          [
           "Twin Lakes P&R",
           0.04
          ],
          [
           "Crossroads Neighborhood Church",
           0.2616822429906542
          ],
          [
           "Overlake Transit Center",
           0.6261261261261262
          ],
          [
           "Redondo Heights P&R",
           0.027259684361549498
          ],
          [
           "North Gig Harbor/Kimball Drive",
           0.1437908496732026
          ],
          [
           "Duvall P&R",
           0.1836734693877551
          ],
          [
           "Roy 'Y' P&R",
           0.14
          ],
          [
           "South Hill (Elim Evangelical)",
           0.35
          ],
          [
           "Parkland Transit Center",
           0.7096774193548387
          ],
          [
           "SR-512/I-5 (Lakewood)",
           0.19066937119675456
          ],
          [
           "Tacoma Mall Transit Center",
           0.4533333333333333
          ],
          [
           "South Tacoma West",
           0.6794871794871795
          ],
          [
           "South Tacoma East - 2",
           0.18181818181818182
          ],
          [
           "Narrows P&R",
           0.17435897435897435
          ],
          [
           "North Purdy/Purdy Crescent",
           0.06
          ],
          [
           "Point Defiance Ferry",
           0.25316455696202533
          ],
          [
           "South Federal P&R",
           0.13398058252427184
          ],
          [
           "Sultan P&R",
           0.078125
          ],
          [
           "Federal Way P&R (320th)",
           0.5507411630558723
          ],
          [
           "Auburn P&R",
           0.12295081967213115
          ],
          [
           "Star Lake P&R",
           0.012962962962962963
          ],
          [
           "Holy Spirit Lutheran Church",
           0.925
          ],
          [
           "Kent/Des Moines P&R",
           0.1782178217821782
          ],
          [
           "Kent/James St. P&R",
           0.33099579242636745
          ],
          [
           "Burien Transit Center",
           0.5983606557377049
          ],
          [
           "Tukwila",
           0.7865168539325843
          ],
          [
           "Maple Valley P&R",
           0.01639344262295082
          ],
          [
           "Renton Highlands P&R (St. Matts)",
           0.296875
          ],
          [
           "Issaquah Transit Center",
           0.17094017094017094
          ],
          [
           "Mercer Island P&R",
           0.4608501118568233
          ],
          [
           "Newport Hills P&R",
           0.2581818181818182
          ],
          [
           "Newport Hills Community Church",
           0.16216216216216217
          ],
          [
           "Newport Covenant Church",
           0.6133333333333333
          ],
          [
           "Wilburton",
           0.0913978494623656
          ],
          [
           "Eastgate P&R",
           0.59727385377943
          ],
          [
           "North Bend P&R",
           0.4125
          ],
          [
           "Grace Lutheran Church",
           0.56
          ],
          [
           "South Kirkland P&R",
           0.5270108043217286
          ],
          [
           "Overlake P&R",
           0.2315270935960591
          ],
          [
           "Houghton P&R",
           0.33404255319148934
          ],
          [
           "Bethel Lutheran",
           0.05
          ],
          [
           "Saint Thomas Episcopal",
           0.08333333333333333
          ],
          [
           "Valley Center",
           0.05454545454545454
          ],
          [
           "Bear Creek P&R",
           0.9893992932862191
          ],
          [
           "Kingsgate P&R",
           0.798804780876494
          ],
          [
           "Brickyard P&R",
           0.11060948081264109
          ],
          [
           "Northshore P&R",
           0.27393617021276595
          ],
          [
           "Kenmore P&R",
           0.23880597014925373
          ],
          [
           "Bothell P&R",
           0.9363636363636364
          ],
          [
           "Woodinville P&R",
           0.15753424657534246
          ],
          [
           "112th St. & I-5",
           0.17380352644836272
          ],
          [
           "Ober Park",
           0.14583333333333334
          ],
          [
           "Vashon Heights",
           0.2956521739130435
          ],
          [
           "Mountlake Terrace P&R",
           0.26704545454545453
          ],
          [
           "Edmonds Station",
           0.10810810810810811
          ],
          [
           "Edmonds P&R",
           0.5450980392156862
          ],
          [
           "Lynnwood P&R",
           0.05007153075822604
          ],
          [
           "Swamp Creek P&R",
           0.2658536585365854
          ],
          [
           "Mariner P&R",
           0.29535232383808097
          ],
          [
           "Snohomish",
           0.3076923076923077
          ],
          [
           "Marysville - Ash Ave",
           0.039603960396039604
          ],
          [
           "116th & I-5 - Marysville",
           0.05263157894736842
          ],
          [
           "SR-531 - Marysville",
           0.15517241379310345
          ],
          [
           "Arlington P&R",
           0.92
          ],
          [
           "Stanwood",
           0.04081632653061224
          ],
          [
           "Monroe",
           0.4019607843137255
          ],
          [
           "Federal Way",
           0.1781512605042017
          ],
          [
           "Port Orchard Armory",
           0.8857142857142857
          ],
          [
           "Southworth Ferry P&R",
           0.1792452830188679
          ],
          [
           "McWilliams P&R",
           0.046357615894039736
          ],
          [
           "Bethany Lutheran Church",
           0.3
          ],
          [
           "Gateway Fellowship",
           0.17391304347826086
          ],
          [
           "Kingston Ferry P&R",
           0.06944444444444445
          ],
          [
           "Suquamish United Church of Christ",
           0.15384615384615385
          ],
          [
           "Bainbridge Island Ferry",
           0.5614973262032086
          ],
          [
           "Puyallup Station (NB)",
           0.3324175824175824
          ],
          [
           "72nd Street Transit Center",
           0.6176470588235294
          ],
          [
           "DuPont",
           0.01834862385321101
          ],
          [
           "Aurora Village TC",
           0.21287128712871287
          ],
          [
           "Aurora Nazarene",
           0.02586206896551724
          ],
          [
           "Saint Margaret's Episcopal",
           0.71875
          ],
          [
           "Lake Meridian P&R",
           0.37209302325581395
          ],
          [
           "Smokey Pt. Church",
           0.58
          ],
          [
           "Eastmont P&R",
           0.017994858611825194
          ],
          [
           "McCollum Park P&R",
           0.31784841075794623
          ],
          [
           "Canyon Park P&R",
           0.41721854304635764
          ],
          [
           "Korean Presby. P&R",
           0.24
          ],
          [
           "Poulsbo Church of the Nazarene",
           0.045112781954887216
          ],
          [
           "Harper Evangelical Free Church",
           0.010822510822510822
          ],
          [
           "Mullenix Road",
           0.18478260869565216
          ],
          [
           "Ash Way P&R",
           0.3062622309197652
          ],
          [
           "Bonney Lake P&R",
           0.03932584269662921
          ],
          [
           "Tukwila Int. Station",
           0.8716012084592145
          ],
          [
           "South Hill P&R",
           0.3700564971751412
          ],
          [
           "South Tacoma East - 1",
           0.12121212121212122
          ],
          [
           "Issaquah Highlands",
           0.20594059405940593
          ],
          [
           "Lake Stevens TC",
           0.15458937198067632
          ],
          [
           "Liberty Bay Presbyterian",
           0.1111111111111111
          ],
          [
           "NK Baptist",
           0.3157894736842105
          ],
          [
           "Preston P&R",
           0.39622641509433965
          ],
          [
           "Bayside Community Church",
           0.023809523809523808
          ],
          [
           "Ollala Valley Fire Station",
           0.02127659574468085
          ],
          [
           "Bremerton Ferry",
           0.30918727915194344
          ],
          [
           "Marysville - Cedar & Grove",
           0.12206572769953052
          ],
          [
           "Stanwood II",
           0.17567567567567569
          ],
          [
           "Marysville I P&R",
           0.5
          ],
          [
           "Martha Lake Covenant Church",
           0.3466666666666667
          ],
          [
           "South Sammammish P&R",
           0.08679245283018867
          ],
          [
           "Renton City Municipal Garage",
           0.44666666666666666
          ],
          [
           "Tibbetts Lot",
           0.4176470588235294
          ],
          [
           "Renton Transit Center",
           0.34
          ],
          [
           "Maple Valley Town Square",
           0.3888888888888889
          ],
          [
           "All Saints Lutheran Church",
           0.5866666666666667
          ],
          [
           "City View Church",
           0.21875
          ],
          [
           "Northwest University 6710 Bldg.",
           0.39344262295081966
          ],
          [
           "Sammamish Lutheran P&R",
           0.3333333333333333
          ],
          [
           "Redmond Ridge P&R",
           0.25
          ],
          [
           "Kennydale United Methodist Church",
           0.66
          ],
          [
           "Nativity Lutheran Church",
           0.3877551020408163
          ],
          [
           "South SeaTac (LR)",
           0.8594827586206897
          ],
          [
           "Everett Station",
           0.8875
          ]
         ],
         "hovertemplate": "color=Boardings/Capacity <= 1<br>Capacity=%{x}<br>Model Boardings=%{y}<br>name=%{customdata[0]}<br>Boardings/Capacity=%{customdata[1]:.2f}<extra></extra>",
         "legendgroup": "Boardings/Capacity <= 1",
         "marker": {
          "color": "#91268F",
          "symbol": "circle"
         },
         "mode": "markers",
         "name": "Boardings/Capacity <= 1",
         "orientation": "v",
         "showlegend": true,
         "type": "scatter",
         "x": [
          390,
          2337,
          220,
          1107,
          350,
          63,
          996,
          633,
          601,
          104,
          50,
          600,
          107,
          222,
          697,
          306,
          49,
          100,
          20,
          62,
          493,
          150,
          78,
          44,
          195,
          200,
          79,
          515,
          64,
          877,
          244,
          540,
          40,
          404,
          713,
          488,
          267,
          122,
          128,
          819,
          447,
          275,
          37,
          75,
          186,
          1614,
          80,
          50,
          833,
          203,
          470,
          40,
          48,
          55,
          283,
          502,
          443,
          376,
          603,
          220,
          438,
          397,
          48,
          230,
          880,
          259,
          255,
          1398,
          410,
          667,
          104,
          202,
          57,
          58,
          25,
          147,
          102,
          1190,
          105,
          318,
          151,
          80,
          138,
          72,
          65,
          187,
          364,
          68,
          109,
          202,
          116,
          64,
          172,
          50,
          389,
          409,
          302,
          25,
          266,
          462,
          92,
          1022,
          356,
          662,
          354,
          33,
          1010,
          207,
          90,
          57,
          53,
          210,
          47,
          566,
          213,
          74,
          74,
          75,
          265,
          150,
          170,
          150,
          90,
          75,
          96,
          61,
          54,
          52,
          50,
          49,
          1160,
          160
         ],
         "xaxis": "x",
         "y": [
          359,
          751,
          14,
          454,
          142,
          10,
          326,
          532,
          37,
          58,
          11,
          24,
          28,
          139,
          19,
          44,
          9,
          14,
          7,
          44,
          94,
          68,
          53,
          8,
          34,
          12,
          20,
          69,
          5,
          483,
          30,
          7,
          37,
          72,
          236,
          292,
          210,
          2,
          38,
          140,
          206,
          71,
          6,
          46,
          17,
          964,
          33,
          28,
          439,
          47,
          157,
          2,
          4,
          3,
          280,
          401,
          49,
          103,
          144,
          206,
          69,
          69,
          7,
          68,
          235,
          28,
          139,
          70,
          109,
          197,
          32,
          8,
          3,
          9,
          23,
          6,
          41,
          212,
          93,
          57,
          7,
          24,
          24,
          5,
          10,
          105,
          121,
          42,
          2,
          43,
          3,
          46,
          64,
          29,
          7,
          130,
          126,
          6,
          12,
          5,
          17,
          313,
          14,
          577,
          131,
          4,
          208,
          32,
          10,
          18,
          21,
          5,
          1,
          175,
          26,
          13,
          37,
          26,
          23,
          67,
          71,
          51,
          35,
          44,
          21,
          24,
          18,
          13,
          33,
          19,
          997,
          142
         ],
         "yaxis": "y"
        },
        {
         "customdata": [
          [
           "Center Street P&R",
           1.0266666666666666
          ],
          [
           "South Renton P&R",
           1.0337662337662337
          ],
          [
           "Mercer Island Presbyterian",
           1.3333333333333333
          ],
          [
           "South Bellevue P&R",
           1.0886319845857417
          ],
          [
           "Evergreen Point P&R",
           1.5263157894736843
          ],
          [
           "Redmond P&R",
           1.2254641909814323
          ],
          [
           "Bethany Bible Church",
           1.04
          ],
          [
           "Olson & Meyers",
           1.3
          ],
          [
           "Spokane Street P&R",
           1.0909090909090908
          ],
          [
           "Greenlake P&R",
           1.4063260340632604
          ],
          [
           "Northgate TC",
           1.7296222664015906
          ],
          [
           "North Jackson Park",
           1.2794117647058822
          ],
          [
           "Shoreline",
           1.0712468193384224
          ],
          [
           "TCC P&R",
           1.105263157894737
          ],
          [
           "Puyallup Fair's Red Lot",
           1.0365296803652968
          ],
          [
           "Calvary Christian Assembly",
           1.696
          ],
          [
           null,
           1.0185185185185186
          ]
         ],
         "hovertemplate": "color=Boardings/Capacity > 1<br>Capacity=%{x}<br>Model Boardings=%{y}<br>name=%{customdata[0]}<br>Boardings/Capacity=%{customdata[1]:.2f}<extra></extra>",
         "legendgroup": "Boardings/Capacity > 1",
         "marker": {
          "color": "#8CC63E",
          "symbol": "circle"
         },
         "mode": "markers",
         "name": "Boardings/Capacity > 1",
         "orientation": "v",
         "showlegend": true,
         "type": "scatter",
         "x": [
          75,
          385,
          30,
          519,
          38,
          377,
          75,
          100,
          55,
          411,
          1509,
          68,
          393,
          95,
          219,
          125,
          54
         ],
         "xaxis": "x",
         "y": [
          77,
          398,
          40,
          565,
          58,
          462,
          78,
          130,
          60,
          578,
          2610,
          87,
          421,
          105,
          227,
          212,
          55
         ],
         "yaxis": "y"
        }
       ],
       "layout": {
        "height": 600,
        "legend": {
         "title": {
          "text": "color"
         },
         "tracegroupgap": 0
        },
        "template": {
         "data": {
          "bar": [
           {
            "error_x": {
             "color": "rgb(36,36,36)"
            },
            "error_y": {
             "color": "rgb(36,36,36)"
            },
            "marker": {
             "line": {
              "color": "white",
              "width": 0.5
             },
             "pattern": {
              "fillmode": "overlay",
              "size": 10,
              "solidity": 0.2
             }
            },
            "type": "bar"
           }
          ],
          "barpolar": [
           {
            "marker": {
             "line": {
              "color": "white",
              "width": 0.5
             },
             "pattern": {
              "fillmode": "overlay",
              "size": 10,
              "solidity": 0.2
             }
            },
            "type": "barpolar"
           }
          ],
          "carpet": [
           {
            "aaxis": {
             "endlinecolor": "rgb(36,36,36)",
             "gridcolor": "white",
             "linecolor": "white",
             "minorgridcolor": "white",
             "startlinecolor": "rgb(36,36,36)"
            },
            "baxis": {
             "endlinecolor": "rgb(36,36,36)",
             "gridcolor": "white",
             "linecolor": "white",
             "minorgridcolor": "white",
             "startlinecolor": "rgb(36,36,36)"
            },
            "type": "carpet"
           }
          ],
          "choropleth": [
           {
            "colorbar": {
             "outlinewidth": 1,
             "tickcolor": "rgb(36,36,36)",
             "ticks": "outside"
            },
            "type": "choropleth"
           }
          ],
          "contour": [
           {
            "colorbar": {
             "outlinewidth": 1,
             "tickcolor": "rgb(36,36,36)",
             "ticks": "outside"
            },
            "colorscale": [
             [
              0,
              "#440154"
             ],
             [
              0.1111111111111111,
              "#482878"
             ],
             [
              0.2222222222222222,
              "#3e4989"
             ],
             [
              0.3333333333333333,
              "#31688e"
             ],
             [
              0.4444444444444444,
              "#26828e"
             ],
             [
              0.5555555555555556,
              "#1f9e89"
             ],
             [
              0.6666666666666666,
              "#35b779"
             ],
             [
              0.7777777777777778,
              "#6ece58"
             ],
             [
              0.8888888888888888,
              "#b5de2b"
             ],
             [
              1,
              "#fde725"
             ]
            ],
            "type": "contour"
           }
          ],
          "contourcarpet": [
           {
            "colorbar": {
             "outlinewidth": 1,
             "tickcolor": "rgb(36,36,36)",
             "ticks": "outside"
            },
            "type": "contourcarpet"
           }
          ],
          "heatmap": [
           {
            "colorbar": {
             "outlinewidth": 1,
             "tickcolor": "rgb(36,36,36)",
             "ticks": "outside"
            },
            "colorscale": [
             [
              0,
              "#440154"
             ],
             [
              0.1111111111111111,
              "#482878"
             ],
             [
              0.2222222222222222,
              "#3e4989"
             ],
             [
              0.3333333333333333,
              "#31688e"
             ],
             [
              0.4444444444444444,
              "#26828e"
             ],
             [
              0.5555555555555556,
              "#1f9e89"
             ],
             [
              0.6666666666666666,
              "#35b779"
             ],
             [
              0.7777777777777778,
              "#6ece58"
             ],
             [
              0.8888888888888888,
              "#b5de2b"
             ],
             [
              1,
              "#fde725"
             ]
            ],
            "type": "heatmap"
           }
          ],
          "heatmapgl": [
           {
            "colorbar": {
             "outlinewidth": 1,
             "tickcolor": "rgb(36,36,36)",
             "ticks": "outside"
            },
            "colorscale": [
             [
              0,
              "#440154"
             ],
             [
              0.1111111111111111,
              "#482878"
             ],
             [
              0.2222222222222222,
              "#3e4989"
             ],
             [
              0.3333333333333333,
              "#31688e"
             ],
             [
              0.4444444444444444,
              "#26828e"
             ],
             [
              0.5555555555555556,
              "#1f9e89"
             ],
             [
              0.6666666666666666,
              "#35b779"
             ],
             [
              0.7777777777777778,
              "#6ece58"
             ],
             [
              0.8888888888888888,
              "#b5de2b"
             ],
             [
              1,
              "#fde725"
             ]
            ],
            "type": "heatmapgl"
           }
          ],
          "histogram": [
           {
            "marker": {
             "line": {
              "color": "white",
              "width": 0.6
             }
            },
            "type": "histogram"
           }
          ],
          "histogram2d": [
           {
            "colorbar": {
             "outlinewidth": 1,
             "tickcolor": "rgb(36,36,36)",
             "ticks": "outside"
            },
            "colorscale": [
             [
              0,
              "#440154"
             ],
             [
              0.1111111111111111,
              "#482878"
             ],
             [
              0.2222222222222222,
              "#3e4989"
             ],
             [
              0.3333333333333333,
              "#31688e"
             ],
             [
              0.4444444444444444,
              "#26828e"
             ],
             [
              0.5555555555555556,
              "#1f9e89"
             ],
             [
              0.6666666666666666,
              "#35b779"
             ],
             [
              0.7777777777777778,
              "#6ece58"
             ],
             [
              0.8888888888888888,
              "#b5de2b"
             ],
             [
              1,
              "#fde725"
             ]
            ],
            "type": "histogram2d"
           }
          ],
          "histogram2dcontour": [
           {
            "colorbar": {
             "outlinewidth": 1,
             "tickcolor": "rgb(36,36,36)",
             "ticks": "outside"
            },
            "colorscale": [
             [
              0,
              "#440154"
             ],
             [
              0.1111111111111111,
              "#482878"
             ],
             [
              0.2222222222222222,
              "#3e4989"
             ],
             [
              0.3333333333333333,
              "#31688e"
             ],
             [
              0.4444444444444444,
              "#26828e"
             ],
             [
              0.5555555555555556,
              "#1f9e89"
             ],
             [
              0.6666666666666666,
              "#35b779"
             ],
             [
              0.7777777777777778,
              "#6ece58"
             ],
             [
              0.8888888888888888,
              "#b5de2b"
             ],
             [
              1,
              "#fde725"
             ]
            ],
            "type": "histogram2dcontour"
           }
          ],
          "mesh3d": [
           {
            "colorbar": {
             "outlinewidth": 1,
             "tickcolor": "rgb(36,36,36)",
             "ticks": "outside"
            },
            "type": "mesh3d"
           }
          ],
          "parcoords": [
           {
            "line": {
             "colorbar": {
              "outlinewidth": 1,
              "tickcolor": "rgb(36,36,36)",
              "ticks": "outside"
             }
            },
            "type": "parcoords"
           }
          ],
          "pie": [
           {
            "automargin": true,
            "type": "pie"
           }
          ],
          "scatter": [
           {
            "fillpattern": {
             "fillmode": "overlay",
             "size": 10,
             "solidity": 0.2
            },
            "type": "scatter"
           }
          ],
          "scatter3d": [
           {
            "line": {
             "colorbar": {
              "outlinewidth": 1,
              "tickcolor": "rgb(36,36,36)",
              "ticks": "outside"
             }
            },
            "marker": {
             "colorbar": {
              "outlinewidth": 1,
              "tickcolor": "rgb(36,36,36)",
              "ticks": "outside"
             }
            },
            "type": "scatter3d"
           }
          ],
          "scattercarpet": [
           {
            "marker": {
             "colorbar": {
              "outlinewidth": 1,
              "tickcolor": "rgb(36,36,36)",
              "ticks": "outside"
             }
            },
            "type": "scattercarpet"
           }
          ],
          "scattergeo": [
           {
            "marker": {
             "colorbar": {
              "outlinewidth": 1,
              "tickcolor": "rgb(36,36,36)",
              "ticks": "outside"
             }
            },
            "type": "scattergeo"
           }
          ],
          "scattergl": [
           {
            "marker": {
             "colorbar": {
              "outlinewidth": 1,
              "tickcolor": "rgb(36,36,36)",
              "ticks": "outside"
             }
            },
            "type": "scattergl"
           }
          ],
          "scattermapbox": [
           {
            "marker": {
             "colorbar": {
              "outlinewidth": 1,
              "tickcolor": "rgb(36,36,36)",
              "ticks": "outside"
             }
            },
            "type": "scattermapbox"
           }
          ],
          "scatterpolar": [
           {
            "marker": {
             "colorbar": {
              "outlinewidth": 1,
              "tickcolor": "rgb(36,36,36)",
              "ticks": "outside"
             }
            },
            "type": "scatterpolar"
           }
          ],
          "scatterpolargl": [
           {
            "marker": {
             "colorbar": {
              "outlinewidth": 1,
              "tickcolor": "rgb(36,36,36)",
              "ticks": "outside"
             }
            },
            "type": "scatterpolargl"
           }
          ],
          "scatterternary": [
           {
            "marker": {
             "colorbar": {
              "outlinewidth": 1,
              "tickcolor": "rgb(36,36,36)",
              "ticks": "outside"
             }
            },
            "type": "scatterternary"
           }
          ],
          "surface": [
           {
            "colorbar": {
             "outlinewidth": 1,
             "tickcolor": "rgb(36,36,36)",
             "ticks": "outside"
            },
            "colorscale": [
             [
              0,
              "#440154"
             ],
             [
              0.1111111111111111,
              "#482878"
             ],
             [
              0.2222222222222222,
              "#3e4989"
             ],
             [
              0.3333333333333333,
              "#31688e"
             ],
             [
              0.4444444444444444,
              "#26828e"
             ],
             [
              0.5555555555555556,
              "#1f9e89"
             ],
             [
              0.6666666666666666,
              "#35b779"
             ],
             [
              0.7777777777777778,
              "#6ece58"
             ],
             [
              0.8888888888888888,
              "#b5de2b"
             ],
             [
              1,
              "#fde725"
             ]
            ],
            "type": "surface"
           }
          ],
          "table": [
           {
            "cells": {
             "fill": {
              "color": "rgb(237,237,237)"
             },
             "line": {
              "color": "white"
             }
            },
            "header": {
             "fill": {
              "color": "rgb(217,217,217)"
             },
             "line": {
              "color": "white"
             }
            },
            "type": "table"
           }
          ]
         },
         "layout": {
          "annotationdefaults": {
           "arrowhead": 0,
           "arrowwidth": 1
          },
          "autotypenumbers": "strict",
          "coloraxis": {
           "colorbar": {
            "outlinewidth": 1,
            "tickcolor": "rgb(36,36,36)",
            "ticks": "outside"
           }
          },
          "colorscale": {
           "diverging": [
            [
             0,
             "rgb(103,0,31)"
            ],
            [
             0.1,
             "rgb(178,24,43)"
            ],
            [
             0.2,
             "rgb(214,96,77)"
            ],
            [
             0.3,
             "rgb(244,165,130)"
            ],
            [
             0.4,
             "rgb(253,219,199)"
            ],
            [
             0.5,
             "rgb(247,247,247)"
            ],
            [
             0.6,
             "rgb(209,229,240)"
            ],
            [
             0.7,
             "rgb(146,197,222)"
            ],
            [
             0.8,
             "rgb(67,147,195)"
            ],
            [
             0.9,
             "rgb(33,102,172)"
            ],
            [
             1,
             "rgb(5,48,97)"
            ]
           ],
           "sequential": [
            [
             0,
             "#440154"
            ],
            [
             0.1111111111111111,
             "#482878"
            ],
            [
             0.2222222222222222,
             "#3e4989"
            ],
            [
             0.3333333333333333,
             "#31688e"
            ],
            [
             0.4444444444444444,
             "#26828e"
            ],
            [
             0.5555555555555556,
             "#1f9e89"
            ],
            [
             0.6666666666666666,
             "#35b779"
            ],
            [
             0.7777777777777778,
             "#6ece58"
            ],
            [
             0.8888888888888888,
             "#b5de2b"
            ],
            [
             1,
             "#fde725"
            ]
           ],
           "sequentialminus": [
            [
             0,
             "#440154"
            ],
            [
             0.1111111111111111,
             "#482878"
            ],
            [
             0.2222222222222222,
             "#3e4989"
            ],
            [
             0.3333333333333333,
             "#31688e"
            ],
            [
             0.4444444444444444,
             "#26828e"
            ],
            [
             0.5555555555555556,
             "#1f9e89"
            ],
            [
             0.6666666666666666,
             "#35b779"
            ],
            [
             0.7777777777777778,
             "#6ece58"
            ],
            [
             0.8888888888888888,
             "#b5de2b"
            ],
            [
             1,
             "#fde725"
            ]
           ]
          },
          "colorway": [
           "#91268F",
           "#8CC63E",
           "#00A7A0",
           "#F05A28",
           "#4C4C4C",
           "#630460",
           "#9f3913",
           "#588527",
           "#00716c",
           "#3e4040"
          ],
          "font": {
           "color": "rgb(36,36,36)",
           "family": "Poppins",
           "size": 11
          },
          "geo": {
           "bgcolor": "white",
           "lakecolor": "white",
           "landcolor": "white",
           "showlakes": true,
           "showland": true,
           "subunitcolor": "white"
          },
          "hoverlabel": {
           "align": "left"
          },
          "hovermode": "closest",
          "mapbox": {
           "style": "light"
          },
          "paper_bgcolor": "white",
          "plot_bgcolor": "white",
          "polar": {
           "angularaxis": {
            "gridcolor": "rgb(232,232,232)",
            "linecolor": "rgb(36,36,36)",
            "showgrid": false,
            "showline": true,
            "ticks": "outside"
           },
           "bgcolor": "white",
           "radialaxis": {
            "gridcolor": "rgb(232,232,232)",
            "linecolor": "rgb(36,36,36)",
            "showgrid": false,
            "showline": true,
            "ticks": "outside"
           }
          },
          "scene": {
           "xaxis": {
            "backgroundcolor": "white",
            "gridcolor": "rgb(232,232,232)",
            "gridwidth": 2,
            "linecolor": "rgb(36,36,36)",
            "showbackground": true,
            "showgrid": false,
            "showline": true,
            "ticks": "outside",
            "zeroline": false,
            "zerolinecolor": "rgb(36,36,36)"
           },
           "yaxis": {
            "backgroundcolor": "white",
            "gridcolor": "rgb(232,232,232)",
            "gridwidth": 2,
            "linecolor": "rgb(36,36,36)",
            "showbackground": true,
            "showgrid": false,
            "showline": true,
            "ticks": "outside",
            "zeroline": false,
            "zerolinecolor": "rgb(36,36,36)"
           },
           "zaxis": {
            "backgroundcolor": "white",
            "gridcolor": "rgb(232,232,232)",
            "gridwidth": 2,
            "linecolor": "rgb(36,36,36)",
            "showbackground": true,
            "showgrid": false,
            "showline": true,
            "ticks": "outside",
            "zeroline": false,
            "zerolinecolor": "rgb(36,36,36)"
           }
          },
          "shapedefaults": {
           "fillcolor": "black",
           "line": {
            "width": 0
           },
           "opacity": 0.3
          },
          "ternary": {
           "aaxis": {
            "gridcolor": "rgb(232,232,232)",
            "linecolor": "rgb(36,36,36)",
            "showgrid": false,
            "showline": true,
            "ticks": "outside"
           },
           "baxis": {
            "gridcolor": "rgb(232,232,232)",
            "linecolor": "rgb(36,36,36)",
            "showgrid": false,
            "showline": true,
            "ticks": "outside"
           },
           "bgcolor": "white",
           "caxis": {
            "gridcolor": "rgb(232,232,232)",
            "linecolor": "rgb(36,36,36)",
            "showgrid": false,
            "showline": true,
            "ticks": "outside"
           }
          },
          "title": {
           "x": 0.05
          },
          "xaxis": {
           "automargin": true,
           "gridcolor": "rgb(232,232,232)",
           "linecolor": "rgb(36,36,36)",
           "showgrid": false,
           "showline": true,
           "ticks": "outside",
           "title": {
            "standoff": 15
           },
           "zeroline": false,
           "zerolinecolor": "rgb(36,36,36)"
          },
          "yaxis": {
           "automargin": true,
           "gridcolor": "rgb(232,232,232)",
           "linecolor": "rgb(36,36,36)",
           "showgrid": false,
           "showline": true,
           "ticks": "outside",
           "title": {
            "standoff": 15
           },
           "zeroline": false,
           "zerolinecolor": "rgb(36,36,36)"
          }
         }
        },
        "title": {
         "text": "Model Boardings vs Capacity"
        },
        "width": 800,
        "xaxis": {
         "anchor": "y",
         "domain": [
          0,
          1
         ],
         "title": {
          "text": "Capacity"
         }
        },
        "yaxis": {
         "anchor": "x",
         "domain": [
          0,
          1
         ],
         "title": {
          "text": "Model Boardings"
         }
        }
       }
      },
      "text/html": [
       "<div>                            <div id=\"fb662370-5cfe-4c59-beaf-060abd1d77a9\" class=\"plotly-graph-div\" style=\"height:600px; width:800px;\"></div>            <script type=\"text/javascript\">                require([\"plotly\"], function(Plotly) {                    window.PLOTLYENV=window.PLOTLYENV || {};                                    if (document.getElementById(\"fb662370-5cfe-4c59-beaf-060abd1d77a9\")) {                    Plotly.newPlot(                        \"fb662370-5cfe-4c59-beaf-060abd1d77a9\",                        [{\"customdata\":[[\"Tukwila Station (CR)\",0.9205128205128205],[\"Tacoma Dome Station\",0.32135216089002994],[\"South Tacoma (CR)\",0.06363636363636363],[\"Everett Station (CR)\",0.4101174345076784],[\"Sumner Station (CR)\",0.4057142857142857],[\"Mukilteo Station\",0.15873015873015872],[\"Kent Station (CR)\",0.3273092369477912],[\"Auburn Station (CR)\",0.8404423380726699],[\"Lakewood (CR)\",0.06156405990016639],[\"Gateway P&R\",0.5576923076923077],[\"Puyallup Station (SB)\",0.22],[\"Twin Lakes P&R\",0.04],[\"Crossroads Neighborhood Church\",0.2616822429906542],[\"Overlake Transit Center\",0.6261261261261262],[\"Redondo Heights P&R\",0.027259684361549498],[\"North Gig Harbor\\u002fKimball Drive\",0.1437908496732026],[\"Duvall P&R\",0.1836734693877551],[\"Roy 'Y' P&R\",0.14],[\"South Hill (Elim Evangelical)\",0.35],[\"Parkland Transit Center\",0.7096774193548387],[\"SR-512\\u002fI-5 (Lakewood)\",0.19066937119675456],[\"Tacoma Mall Transit Center\",0.4533333333333333],[\"South Tacoma West\",0.6794871794871795],[\"South Tacoma East - 2\",0.18181818181818182],[\"Narrows P&R\",0.17435897435897435],[\"North Purdy\\u002fPurdy Crescent\",0.06],[\"Point Defiance Ferry\",0.25316455696202533],[\"South Federal P&R\",0.13398058252427184],[\"Sultan P&R\",0.078125],[\"Federal Way P&R (320th)\",0.5507411630558723],[\"Auburn P&R\",0.12295081967213115],[\"Star Lake P&R\",0.012962962962962963],[\"Holy Spirit Lutheran Church\",0.925],[\"Kent\\u002fDes Moines P&R\",0.1782178217821782],[\"Kent\\u002fJames St. P&R\",0.33099579242636745],[\"Burien Transit Center\",0.5983606557377049],[\"Tukwila\",0.7865168539325843],[\"Maple Valley P&R\",0.01639344262295082],[\"Renton Highlands P&R (St. Matts)\",0.296875],[\"Issaquah Transit Center\",0.17094017094017094],[\"Mercer Island P&R\",0.4608501118568233],[\"Newport Hills P&R\",0.2581818181818182],[\"Newport Hills Community Church\",0.16216216216216217],[\"Newport Covenant Church\",0.6133333333333333],[\"Wilburton\",0.0913978494623656],[\"Eastgate P&R\",0.59727385377943],[\"North Bend P&R\",0.4125],[\"Grace Lutheran Church\",0.56],[\"South Kirkland P&R\",0.5270108043217286],[\"Overlake P&R\",0.2315270935960591],[\"Houghton P&R\",0.33404255319148934],[\"Bethel Lutheran\",0.05],[\"Saint Thomas Episcopal\",0.08333333333333333],[\"Valley Center\",0.05454545454545454],[\"Bear Creek P&R\",0.9893992932862191],[\"Kingsgate P&R\",0.798804780876494],[\"Brickyard P&R\",0.11060948081264109],[\"Northshore P&R\",0.27393617021276595],[\"Kenmore P&R\",0.23880597014925373],[\"Bothell P&R\",0.9363636363636364],[\"Woodinville P&R\",0.15753424657534246],[\"112th St. & I-5\",0.17380352644836272],[\"Ober Park\",0.14583333333333334],[\"Vashon Heights\",0.2956521739130435],[\"Mountlake Terrace P&R\",0.26704545454545453],[\"Edmonds Station\",0.10810810810810811],[\"Edmonds P&R\",0.5450980392156862],[\"Lynnwood P&R\",0.05007153075822604],[\"Swamp Creek P&R\",0.2658536585365854],[\"Mariner P&R\",0.29535232383808097],[\"Snohomish\",0.3076923076923077],[\"Marysville - Ash Ave\",0.039603960396039604],[\"116th & I-5 - Marysville\",0.05263157894736842],[\"SR-531 - Marysville\",0.15517241379310345],[\"Arlington P&R\",0.92],[\"Stanwood\",0.04081632653061224],[\"Monroe\",0.4019607843137255],[\"Federal Way\",0.1781512605042017],[\"Port Orchard Armory\",0.8857142857142857],[\"Southworth Ferry P&R\",0.1792452830188679],[\"McWilliams P&R\",0.046357615894039736],[\"Bethany Lutheran Church\",0.3],[\"Gateway Fellowship\",0.17391304347826086],[\"Kingston Ferry P&R\",0.06944444444444445],[\"Suquamish United Church of Christ\",0.15384615384615385],[\"Bainbridge Island Ferry\",0.5614973262032086],[\"Puyallup Station (NB)\",0.3324175824175824],[\"72nd Street Transit Center\",0.6176470588235294],[\"DuPont\",0.01834862385321101],[\"Aurora Village TC\",0.21287128712871287],[\"Aurora Nazarene\",0.02586206896551724],[\"Saint Margaret's Episcopal\",0.71875],[\"Lake Meridian P&R\",0.37209302325581395],[\"Smokey Pt. Church\",0.58],[\"Eastmont P&R\",0.017994858611825194],[\"McCollum Park P&R\",0.31784841075794623],[\"Canyon Park P&R\",0.41721854304635764],[\"Korean Presby. P&R\",0.24],[\"Poulsbo Church of the Nazarene\",0.045112781954887216],[\"Harper Evangelical Free Church\",0.010822510822510822],[\"Mullenix Road\",0.18478260869565216],[\"Ash Way P&R\",0.3062622309197652],[\"Bonney Lake P&R\",0.03932584269662921],[\"Tukwila Int. Station\",0.8716012084592145],[\"South Hill P&R\",0.3700564971751412],[\"South Tacoma East - 1\",0.12121212121212122],[\"Issaquah Highlands\",0.20594059405940593],[\"Lake Stevens TC\",0.15458937198067632],[\"Liberty Bay Presbyterian\",0.1111111111111111],[\"NK Baptist\",0.3157894736842105],[\"Preston P&R\",0.39622641509433965],[\"Bayside Community Church\",0.023809523809523808],[\"Ollala Valley Fire Station\",0.02127659574468085],[\"Bremerton Ferry\",0.30918727915194344],[\"Marysville - Cedar & Grove\",0.12206572769953052],[\"Stanwood II\",0.17567567567567569],[\"Marysville I P&R\",0.5],[\"Martha Lake Covenant Church\",0.3466666666666667],[\"South Sammammish P&R\",0.08679245283018867],[\"Renton City Municipal Garage\",0.44666666666666666],[\"Tibbetts Lot\",0.4176470588235294],[\"Renton Transit Center\",0.34],[\"Maple Valley Town Square\",0.3888888888888889],[\"All Saints Lutheran Church\",0.5866666666666667],[\"City View Church\",0.21875],[\"Northwest University 6710 Bldg.\",0.39344262295081966],[\"Sammamish Lutheran P&R\",0.3333333333333333],[\"Redmond Ridge P&R\",0.25],[\"Kennydale United Methodist Church\",0.66],[\"Nativity Lutheran Church\",0.3877551020408163],[\"South SeaTac (LR)\",0.8594827586206897],[\"Everett Station\",0.8875]],\"hovertemplate\":\"color=Boardings\\u002fCapacity \\u003c= 1\\u003cbr\\u003eCapacity=%{x}\\u003cbr\\u003eModel Boardings=%{y}\\u003cbr\\u003ename=%{customdata[0]}\\u003cbr\\u003eBoardings\\u002fCapacity=%{customdata[1]:.2f}\\u003cextra\\u003e\\u003c\\u002fextra\\u003e\",\"legendgroup\":\"Boardings\\u002fCapacity \\u003c= 1\",\"marker\":{\"color\":\"#91268F\",\"symbol\":\"circle\"},\"mode\":\"markers\",\"name\":\"Boardings\\u002fCapacity \\u003c= 1\",\"orientation\":\"v\",\"showlegend\":true,\"x\":[390,2337,220,1107,350,63,996,633,601,104,50,600,107,222,697,306,49,100,20,62,493,150,78,44,195,200,79,515,64,877,244,540,40,404,713,488,267,122,128,819,447,275,37,75,186,1614,80,50,833,203,470,40,48,55,283,502,443,376,603,220,438,397,48,230,880,259,255,1398,410,667,104,202,57,58,25,147,102,1190,105,318,151,80,138,72,65,187,364,68,109,202,116,64,172,50,389,409,302,25,266,462,92,1022,356,662,354,33,1010,207,90,57,53,210,47,566,213,74,74,75,265,150,170,150,90,75,96,61,54,52,50,49,1160,160],\"xaxis\":\"x\",\"y\":[359,751,14,454,142,10,326,532,37,58,11,24,28,139,19,44,9,14,7,44,94,68,53,8,34,12,20,69,5,483,30,7,37,72,236,292,210,2,38,140,206,71,6,46,17,964,33,28,439,47,157,2,4,3,280,401,49,103,144,206,69,69,7,68,235,28,139,70,109,197,32,8,3,9,23,6,41,212,93,57,7,24,24,5,10,105,121,42,2,43,3,46,64,29,7,130,126,6,12,5,17,313,14,577,131,4,208,32,10,18,21,5,1,175,26,13,37,26,23,67,71,51,35,44,21,24,18,13,33,19,997,142],\"yaxis\":\"y\",\"type\":\"scatter\"},{\"customdata\":[[\"Center Street P&R\",1.0266666666666666],[\"South Renton P&R\",1.0337662337662337],[\"Mercer Island Presbyterian\",1.3333333333333333],[\"South Bellevue P&R\",1.0886319845857417],[\"Evergreen Point P&R\",1.5263157894736843],[\"Redmond P&R\",1.2254641909814323],[\"Bethany Bible Church\",1.04],[\"Olson & Meyers\",1.3],[\"Spokane Street P&R\",1.0909090909090908],[\"Greenlake P&R\",1.4063260340632604],[\"Northgate TC\",1.7296222664015906],[\"North Jackson Park\",1.2794117647058822],[\"Shoreline\",1.0712468193384224],[\"TCC P&R\",1.105263157894737],[\"Puyallup Fair's Red Lot\",1.0365296803652968],[\"Calvary Christian Assembly\",1.696],[null,1.0185185185185186]],\"hovertemplate\":\"color=Boardings\\u002fCapacity \\u003e 1\\u003cbr\\u003eCapacity=%{x}\\u003cbr\\u003eModel Boardings=%{y}\\u003cbr\\u003ename=%{customdata[0]}\\u003cbr\\u003eBoardings\\u002fCapacity=%{customdata[1]:.2f}\\u003cextra\\u003e\\u003c\\u002fextra\\u003e\",\"legendgroup\":\"Boardings\\u002fCapacity \\u003e 1\",\"marker\":{\"color\":\"#8CC63E\",\"symbol\":\"circle\"},\"mode\":\"markers\",\"name\":\"Boardings\\u002fCapacity \\u003e 1\",\"orientation\":\"v\",\"showlegend\":true,\"x\":[75,385,30,519,38,377,75,100,55,411,1509,68,393,95,219,125,54],\"xaxis\":\"x\",\"y\":[77,398,40,565,58,462,78,130,60,578,2610,87,421,105,227,212,55],\"yaxis\":\"y\",\"type\":\"scatter\"}],                        {\"template\":{\"data\":{\"barpolar\":[{\"marker\":{\"line\":{\"color\":\"white\",\"width\":0.5},\"pattern\":{\"fillmode\":\"overlay\",\"size\":10,\"solidity\":0.2}},\"type\":\"barpolar\"}],\"bar\":[{\"error_x\":{\"color\":\"rgb(36,36,36)\"},\"error_y\":{\"color\":\"rgb(36,36,36)\"},\"marker\":{\"line\":{\"color\":\"white\",\"width\":0.5},\"pattern\":{\"fillmode\":\"overlay\",\"size\":10,\"solidity\":0.2}},\"type\":\"bar\"}],\"carpet\":[{\"aaxis\":{\"endlinecolor\":\"rgb(36,36,36)\",\"gridcolor\":\"white\",\"linecolor\":\"white\",\"minorgridcolor\":\"white\",\"startlinecolor\":\"rgb(36,36,36)\"},\"baxis\":{\"endlinecolor\":\"rgb(36,36,36)\",\"gridcolor\":\"white\",\"linecolor\":\"white\",\"minorgridcolor\":\"white\",\"startlinecolor\":\"rgb(36,36,36)\"},\"type\":\"carpet\"}],\"choropleth\":[{\"colorbar\":{\"outlinewidth\":1,\"tickcolor\":\"rgb(36,36,36)\",\"ticks\":\"outside\"},\"type\":\"choropleth\"}],\"contourcarpet\":[{\"colorbar\":{\"outlinewidth\":1,\"tickcolor\":\"rgb(36,36,36)\",\"ticks\":\"outside\"},\"type\":\"contourcarpet\"}],\"contour\":[{\"colorbar\":{\"outlinewidth\":1,\"tickcolor\":\"rgb(36,36,36)\",\"ticks\":\"outside\"},\"colorscale\":[[0.0,\"#440154\"],[0.1111111111111111,\"#482878\"],[0.2222222222222222,\"#3e4989\"],[0.3333333333333333,\"#31688e\"],[0.4444444444444444,\"#26828e\"],[0.5555555555555556,\"#1f9e89\"],[0.6666666666666666,\"#35b779\"],[0.7777777777777778,\"#6ece58\"],[0.8888888888888888,\"#b5de2b\"],[1.0,\"#fde725\"]],\"type\":\"contour\"}],\"heatmapgl\":[{\"colorbar\":{\"outlinewidth\":1,\"tickcolor\":\"rgb(36,36,36)\",\"ticks\":\"outside\"},\"colorscale\":[[0.0,\"#440154\"],[0.1111111111111111,\"#482878\"],[0.2222222222222222,\"#3e4989\"],[0.3333333333333333,\"#31688e\"],[0.4444444444444444,\"#26828e\"],[0.5555555555555556,\"#1f9e89\"],[0.6666666666666666,\"#35b779\"],[0.7777777777777778,\"#6ece58\"],[0.8888888888888888,\"#b5de2b\"],[1.0,\"#fde725\"]],\"type\":\"heatmapgl\"}],\"heatmap\":[{\"colorbar\":{\"outlinewidth\":1,\"tickcolor\":\"rgb(36,36,36)\",\"ticks\":\"outside\"},\"colorscale\":[[0.0,\"#440154\"],[0.1111111111111111,\"#482878\"],[0.2222222222222222,\"#3e4989\"],[0.3333333333333333,\"#31688e\"],[0.4444444444444444,\"#26828e\"],[0.5555555555555556,\"#1f9e89\"],[0.6666666666666666,\"#35b779\"],[0.7777777777777778,\"#6ece58\"],[0.8888888888888888,\"#b5de2b\"],[1.0,\"#fde725\"]],\"type\":\"heatmap\"}],\"histogram2dcontour\":[{\"colorbar\":{\"outlinewidth\":1,\"tickcolor\":\"rgb(36,36,36)\",\"ticks\":\"outside\"},\"colorscale\":[[0.0,\"#440154\"],[0.1111111111111111,\"#482878\"],[0.2222222222222222,\"#3e4989\"],[0.3333333333333333,\"#31688e\"],[0.4444444444444444,\"#26828e\"],[0.5555555555555556,\"#1f9e89\"],[0.6666666666666666,\"#35b779\"],[0.7777777777777778,\"#6ece58\"],[0.8888888888888888,\"#b5de2b\"],[1.0,\"#fde725\"]],\"type\":\"histogram2dcontour\"}],\"histogram2d\":[{\"colorbar\":{\"outlinewidth\":1,\"tickcolor\":\"rgb(36,36,36)\",\"ticks\":\"outside\"},\"colorscale\":[[0.0,\"#440154\"],[0.1111111111111111,\"#482878\"],[0.2222222222222222,\"#3e4989\"],[0.3333333333333333,\"#31688e\"],[0.4444444444444444,\"#26828e\"],[0.5555555555555556,\"#1f9e89\"],[0.6666666666666666,\"#35b779\"],[0.7777777777777778,\"#6ece58\"],[0.8888888888888888,\"#b5de2b\"],[1.0,\"#fde725\"]],\"type\":\"histogram2d\"}],\"histogram\":[{\"marker\":{\"line\":{\"color\":\"white\",\"width\":0.6}},\"type\":\"histogram\"}],\"mesh3d\":[{\"colorbar\":{\"outlinewidth\":1,\"tickcolor\":\"rgb(36,36,36)\",\"ticks\":\"outside\"},\"type\":\"mesh3d\"}],\"parcoords\":[{\"line\":{\"colorbar\":{\"outlinewidth\":1,\"tickcolor\":\"rgb(36,36,36)\",\"ticks\":\"outside\"}},\"type\":\"parcoords\"}],\"pie\":[{\"automargin\":true,\"type\":\"pie\"}],\"scatter3d\":[{\"line\":{\"colorbar\":{\"outlinewidth\":1,\"tickcolor\":\"rgb(36,36,36)\",\"ticks\":\"outside\"}},\"marker\":{\"colorbar\":{\"outlinewidth\":1,\"tickcolor\":\"rgb(36,36,36)\",\"ticks\":\"outside\"}},\"type\":\"scatter3d\"}],\"scattercarpet\":[{\"marker\":{\"colorbar\":{\"outlinewidth\":1,\"tickcolor\":\"rgb(36,36,36)\",\"ticks\":\"outside\"}},\"type\":\"scattercarpet\"}],\"scattergeo\":[{\"marker\":{\"colorbar\":{\"outlinewidth\":1,\"tickcolor\":\"rgb(36,36,36)\",\"ticks\":\"outside\"}},\"type\":\"scattergeo\"}],\"scattergl\":[{\"marker\":{\"colorbar\":{\"outlinewidth\":1,\"tickcolor\":\"rgb(36,36,36)\",\"ticks\":\"outside\"}},\"type\":\"scattergl\"}],\"scattermapbox\":[{\"marker\":{\"colorbar\":{\"outlinewidth\":1,\"tickcolor\":\"rgb(36,36,36)\",\"ticks\":\"outside\"}},\"type\":\"scattermapbox\"}],\"scatterpolargl\":[{\"marker\":{\"colorbar\":{\"outlinewidth\":1,\"tickcolor\":\"rgb(36,36,36)\",\"ticks\":\"outside\"}},\"type\":\"scatterpolargl\"}],\"scatterpolar\":[{\"marker\":{\"colorbar\":{\"outlinewidth\":1,\"tickcolor\":\"rgb(36,36,36)\",\"ticks\":\"outside\"}},\"type\":\"scatterpolar\"}],\"scatter\":[{\"fillpattern\":{\"fillmode\":\"overlay\",\"size\":10,\"solidity\":0.2},\"type\":\"scatter\"}],\"scatterternary\":[{\"marker\":{\"colorbar\":{\"outlinewidth\":1,\"tickcolor\":\"rgb(36,36,36)\",\"ticks\":\"outside\"}},\"type\":\"scatterternary\"}],\"surface\":[{\"colorbar\":{\"outlinewidth\":1,\"tickcolor\":\"rgb(36,36,36)\",\"ticks\":\"outside\"},\"colorscale\":[[0.0,\"#440154\"],[0.1111111111111111,\"#482878\"],[0.2222222222222222,\"#3e4989\"],[0.3333333333333333,\"#31688e\"],[0.4444444444444444,\"#26828e\"],[0.5555555555555556,\"#1f9e89\"],[0.6666666666666666,\"#35b779\"],[0.7777777777777778,\"#6ece58\"],[0.8888888888888888,\"#b5de2b\"],[1.0,\"#fde725\"]],\"type\":\"surface\"}],\"table\":[{\"cells\":{\"fill\":{\"color\":\"rgb(237,237,237)\"},\"line\":{\"color\":\"white\"}},\"header\":{\"fill\":{\"color\":\"rgb(217,217,217)\"},\"line\":{\"color\":\"white\"}},\"type\":\"table\"}]},\"layout\":{\"annotationdefaults\":{\"arrowhead\":0,\"arrowwidth\":1},\"autotypenumbers\":\"strict\",\"coloraxis\":{\"colorbar\":{\"outlinewidth\":1,\"tickcolor\":\"rgb(36,36,36)\",\"ticks\":\"outside\"}},\"colorscale\":{\"diverging\":[[0.0,\"rgb(103,0,31)\"],[0.1,\"rgb(178,24,43)\"],[0.2,\"rgb(214,96,77)\"],[0.3,\"rgb(244,165,130)\"],[0.4,\"rgb(253,219,199)\"],[0.5,\"rgb(247,247,247)\"],[0.6,\"rgb(209,229,240)\"],[0.7,\"rgb(146,197,222)\"],[0.8,\"rgb(67,147,195)\"],[0.9,\"rgb(33,102,172)\"],[1.0,\"rgb(5,48,97)\"]],\"sequential\":[[0.0,\"#440154\"],[0.1111111111111111,\"#482878\"],[0.2222222222222222,\"#3e4989\"],[0.3333333333333333,\"#31688e\"],[0.4444444444444444,\"#26828e\"],[0.5555555555555556,\"#1f9e89\"],[0.6666666666666666,\"#35b779\"],[0.7777777777777778,\"#6ece58\"],[0.8888888888888888,\"#b5de2b\"],[1.0,\"#fde725\"]],\"sequentialminus\":[[0.0,\"#440154\"],[0.1111111111111111,\"#482878\"],[0.2222222222222222,\"#3e4989\"],[0.3333333333333333,\"#31688e\"],[0.4444444444444444,\"#26828e\"],[0.5555555555555556,\"#1f9e89\"],[0.6666666666666666,\"#35b779\"],[0.7777777777777778,\"#6ece58\"],[0.8888888888888888,\"#b5de2b\"],[1.0,\"#fde725\"]]},\"colorway\":[\"#91268F\",\"#8CC63E\",\"#00A7A0\",\"#F05A28\",\"#4C4C4C\",\"#630460\",\"#9f3913\",\"#588527\",\"#00716c\",\"#3e4040\"],\"font\":{\"color\":\"rgb(36,36,36)\",\"family\":\"Poppins\",\"size\":11},\"geo\":{\"bgcolor\":\"white\",\"lakecolor\":\"white\",\"landcolor\":\"white\",\"showlakes\":true,\"showland\":true,\"subunitcolor\":\"white\"},\"hoverlabel\":{\"align\":\"left\"},\"hovermode\":\"closest\",\"mapbox\":{\"style\":\"light\"},\"paper_bgcolor\":\"white\",\"plot_bgcolor\":\"white\",\"polar\":{\"angularaxis\":{\"gridcolor\":\"rgb(232,232,232)\",\"linecolor\":\"rgb(36,36,36)\",\"showgrid\":false,\"showline\":true,\"ticks\":\"outside\"},\"bgcolor\":\"white\",\"radialaxis\":{\"gridcolor\":\"rgb(232,232,232)\",\"linecolor\":\"rgb(36,36,36)\",\"showgrid\":false,\"showline\":true,\"ticks\":\"outside\"}},\"scene\":{\"xaxis\":{\"backgroundcolor\":\"white\",\"gridcolor\":\"rgb(232,232,232)\",\"gridwidth\":2,\"linecolor\":\"rgb(36,36,36)\",\"showbackground\":true,\"showgrid\":false,\"showline\":true,\"ticks\":\"outside\",\"zeroline\":false,\"zerolinecolor\":\"rgb(36,36,36)\"},\"yaxis\":{\"backgroundcolor\":\"white\",\"gridcolor\":\"rgb(232,232,232)\",\"gridwidth\":2,\"linecolor\":\"rgb(36,36,36)\",\"showbackground\":true,\"showgrid\":false,\"showline\":true,\"ticks\":\"outside\",\"zeroline\":false,\"zerolinecolor\":\"rgb(36,36,36)\"},\"zaxis\":{\"backgroundcolor\":\"white\",\"gridcolor\":\"rgb(232,232,232)\",\"gridwidth\":2,\"linecolor\":\"rgb(36,36,36)\",\"showbackground\":true,\"showgrid\":false,\"showline\":true,\"ticks\":\"outside\",\"zeroline\":false,\"zerolinecolor\":\"rgb(36,36,36)\"}},\"shapedefaults\":{\"fillcolor\":\"black\",\"line\":{\"width\":0},\"opacity\":0.3},\"ternary\":{\"aaxis\":{\"gridcolor\":\"rgb(232,232,232)\",\"linecolor\":\"rgb(36,36,36)\",\"showgrid\":false,\"showline\":true,\"ticks\":\"outside\"},\"baxis\":{\"gridcolor\":\"rgb(232,232,232)\",\"linecolor\":\"rgb(36,36,36)\",\"showgrid\":false,\"showline\":true,\"ticks\":\"outside\"},\"bgcolor\":\"white\",\"caxis\":{\"gridcolor\":\"rgb(232,232,232)\",\"linecolor\":\"rgb(36,36,36)\",\"showgrid\":false,\"showline\":true,\"ticks\":\"outside\"}},\"title\":{\"x\":0.05},\"xaxis\":{\"automargin\":true,\"gridcolor\":\"rgb(232,232,232)\",\"linecolor\":\"rgb(36,36,36)\",\"showgrid\":false,\"showline\":true,\"ticks\":\"outside\",\"title\":{\"standoff\":15},\"zeroline\":false,\"zerolinecolor\":\"rgb(36,36,36)\"},\"yaxis\":{\"automargin\":true,\"gridcolor\":\"rgb(232,232,232)\",\"linecolor\":\"rgb(36,36,36)\",\"showgrid\":false,\"showline\":true,\"ticks\":\"outside\",\"title\":{\"standoff\":15},\"zeroline\":false,\"zerolinecolor\":\"rgb(36,36,36)\"}}},\"xaxis\":{\"anchor\":\"y\",\"domain\":[0.0,1.0],\"title\":{\"text\":\"Capacity\"}},\"yaxis\":{\"anchor\":\"x\",\"domain\":[0.0,1.0],\"title\":{\"text\":\"Model Boardings\"}},\"legend\":{\"title\":{\"text\":\"color\"},\"tracegroupgap\":0},\"title\":{\"text\":\"Model Boardings vs Capacity\"},\"height\":600,\"width\":800},                        {\"responsive\": true}                    ).then(function(){\n",
       "                            \n",
       "var gd = document.getElementById('fb662370-5cfe-4c59-beaf-060abd1d77a9');\n",
       "var x = new MutationObserver(function (mutations, observer) {{\n",
       "        var display = window.getComputedStyle(gd).display;\n",
       "        if (!display || display === 'none') {{\n",
       "            console.log([gd, 'removed!']);\n",
       "            Plotly.purge(gd);\n",
       "            observer.disconnect();\n",
       "        }}\n",
       "}});\n",
       "\n",
       "// Listen for the removal of the full notebook cells\n",
       "var notebookContainer = gd.closest('#notebook-container');\n",
       "if (notebookContainer) {{\n",
       "    x.observe(notebookContainer, {childList: true});\n",
       "}}\n",
       "\n",
       "// Listen for the clearing of the current output cell\n",
       "var outputEl = gd.closest('.output');\n",
       "if (outputEl) {{\n",
       "    x.observe(outputEl, {childList: true});\n",
       "}}\n",
       "\n",
       "                        })                };                });            </script>        </div>"
      ]
     },
     "metadata": {},
     "output_type": "display_data"
    }
   ],
   "source": [
    "df['color'] = np.where(df['Boardings/Capacity'] > 1, 'Boardings/Capacity > 1', 'Boardings/Capacity <= 1')\n",
    "\n",
    "fig = px.scatter(df, y='Model Boardings', x='Capacity', title='Model Boardings vs Capacity',\n",
    "                 hover_data={'name': True, 'Model Boardings': True, 'Capacity': True, 'Boardings/Capacity': ':.2f'},\n",
    "                 color='color')\n",
    "fig.update_layout(height=600, width=800)\n",
    "fig.show()"
   ]
  },
  {
   "cell_type": "code",
   "execution_count": 34,
   "id": "0dd38203",
   "metadata": {},
   "outputs": [],
   "source": [
    "\n",
    "\n",
    "gdf = gpd.GeoDataFrame(df, geometry=gpd.points_from_xy(df.XCoord, df.YCoord), crs='EPSG:2285')\n",
    "gdf.to_crs('EPSG:4326', inplace=True)\n",
    "\n"
   ]
  },
  {
   "cell_type": "code",
   "execution_count": 64,
   "id": "2f976d83",
   "metadata": {},
   "outputs": [
    {
     "data": {
      "application/vnd.plotly.v1+json": {
       "config": {
        "plotlyServerURL": "https://plot.ly"
       },
       "data": [
        {
         "customdata": [
          [
           3751,
           359,
           390
          ],
          [
           3752,
           751,
           2337
          ],
          [
           3753,
           14,
           220
          ],
          [
           3754,
           454,
           1107
          ],
          [
           3755,
           142,
           350
          ],
          [
           3756,
           10,
           63
          ],
          [
           3757,
           326,
           996
          ],
          [
           3758,
           532,
           633
          ],
          [
           3759,
           37,
           601
          ],
          [
           3760,
           58,
           104
          ],
          [
           3761,
           11,
           50
          ],
          [
           3762,
           24,
           600
          ],
          [
           3763,
           28,
           107
          ],
          [
           3764,
           139,
           222
          ],
          [
           3765,
           19,
           697
          ],
          [
           3766,
           44,
           306
          ],
          [
           3767,
           9,
           49
          ],
          [
           3768,
           14,
           100
          ],
          [
           3769,
           7,
           20
          ],
          [
           3770,
           44,
           62
          ],
          [
           3771,
           94,
           493
          ],
          [
           3772,
           77,
           75
          ],
          [
           3773,
           68,
           150
          ],
          [
           3774,
           53,
           78
          ],
          [
           3775,
           8,
           44
          ],
          [
           3776,
           34,
           195
          ],
          [
           3777,
           12,
           200
          ],
          [
           3778,
           20,
           79
          ],
          [
           3779,
           69,
           515
          ],
          [
           3780,
           5,
           64
          ],
          [
           3781,
           483,
           877
          ],
          [
           3782,
           30,
           244
          ],
          [
           3783,
           7,
           540
          ],
          [
           3784,
           37,
           40
          ],
          [
           3785,
           72,
           404
          ],
          [
           3786,
           236,
           713
          ],
          [
           3787,
           292,
           488
          ],
          [
           3788,
           210,
           267
          ],
          [
           3789,
           2,
           122
          ],
          [
           3790,
           398,
           385
          ],
          [
           3791,
           38,
           128
          ],
          [
           3792,
           140,
           819
          ],
          [
           3793,
           206,
           447
          ],
          [
           3794,
           40,
           30
          ],
          [
           3795,
           71,
           275
          ],
          [
           3796,
           6,
           37
          ],
          [
           3797,
           46,
           75
          ],
          [
           3798,
           565,
           519
          ],
          [
           3799,
           17,
           186
          ],
          [
           3800,
           964,
           1614
          ],
          [
           3801,
           33,
           80
          ],
          [
           3802,
           58,
           38
          ],
          [
           3803,
           28,
           50
          ],
          [
           3804,
           439,
           833
          ],
          [
           3805,
           47,
           203
          ],
          [
           3806,
           157,
           470
          ],
          [
           3807,
           2,
           40
          ],
          [
           3808,
           462,
           377
          ],
          [
           3809,
           4,
           48
          ],
          [
           3810,
           3,
           55
          ],
          [
           3811,
           280,
           283
          ],
          [
           3812,
           401,
           502
          ],
          [
           3813,
           49,
           443
          ],
          [
           3814,
           103,
           376
          ],
          [
           3815,
           144,
           603
          ],
          [
           3816,
           78,
           75
          ],
          [
           3817,
           206,
           220
          ],
          [
           3818,
           69,
           438
          ],
          [
           3819,
           130,
           100
          ],
          [
           3820,
           60,
           55
          ],
          [
           3821,
           578,
           411
          ],
          [
           3822,
           2610,
           1509
          ],
          [
           3823,
           87,
           68
          ],
          [
           3824,
           421,
           393
          ],
          [
           3825,
           69,
           397
          ],
          [
           3826,
           7,
           48
          ],
          [
           3827,
           68,
           230
          ],
          [
           3828,
           235,
           880
          ],
          [
           3830,
           28,
           259
          ],
          [
           3831,
           139,
           255
          ],
          [
           3832,
           70,
           1398
          ],
          [
           3833,
           109,
           410
          ],
          [
           3834,
           197,
           667
          ],
          [
           3835,
           32,
           104
          ],
          [
           3836,
           8,
           202
          ],
          [
           3837,
           3,
           57
          ],
          [
           3838,
           9,
           58
          ],
          [
           3839,
           23,
           25
          ],
          [
           3840,
           6,
           147
          ],
          [
           3841,
           41,
           102
          ],
          [
           3842,
           212,
           1190
          ],
          [
           3843,
           93,
           105
          ],
          [
           3844,
           57,
           318
          ],
          [
           3845,
           7,
           151
          ],
          [
           3846,
           24,
           80
          ],
          [
           3847,
           24,
           138
          ],
          [
           3849,
           5,
           72
          ],
          [
           3850,
           10,
           65
          ],
          [
           3851,
           105,
           187
          ],
          [
           3852,
           121,
           364
          ],
          [
           3853,
           42,
           68
          ],
          [
           3855,
           2,
           109
          ],
          [
           3856,
           43,
           202
          ],
          [
           3857,
           3,
           116
          ],
          [
           3858,
           46,
           64
          ],
          [
           3861,
           64,
           172
          ],
          [
           3862,
           29,
           50
          ],
          [
           3863,
           7,
           389
          ],
          [
           3864,
           130,
           409
          ],
          [
           3865,
           126,
           302
          ],
          [
           3866,
           6,
           25
          ],
          [
           3868,
           12,
           266
          ],
          [
           3870,
           5,
           462
          ],
          [
           3871,
           17,
           92
          ],
          [
           3873,
           105,
           95
          ],
          [
           3874,
           313,
           1022
          ],
          [
           3875,
           14,
           356
          ],
          [
           3876,
           577,
           662
          ],
          [
           3877,
           131,
           354
          ],
          [
           3878,
           4,
           33
          ],
          [
           3879,
           208,
           1010
          ],
          [
           3880,
           32,
           207
          ],
          [
           3881,
           10,
           90
          ],
          [
           3882,
           18,
           57
          ],
          [
           3883,
           21,
           53
          ],
          [
           3884,
           5,
           210
          ],
          [
           3885,
           1,
           47
          ],
          [
           3886,
           175,
           566
          ],
          [
           3888,
           227,
           219
          ],
          [
           3889,
           26,
           213
          ],
          [
           3890,
           13,
           74
          ],
          [
           3891,
           37,
           74
          ],
          [
           3892,
           26,
           75
          ],
          [
           3893,
           23,
           265
          ],
          [
           3894,
           67,
           150
          ],
          [
           3895,
           71,
           170
          ],
          [
           3896,
           51,
           150
          ],
          [
           3897,
           212,
           125
          ],
          [
           3898,
           35,
           90
          ],
          [
           3899,
           44,
           75
          ],
          [
           3900,
           21,
           96
          ],
          [
           3901,
           24,
           61
          ],
          [
           3902,
           18,
           54
          ],
          [
           3903,
           13,
           52
          ],
          [
           3904,
           33,
           50
          ],
          [
           3905,
           19,
           49
          ],
          [
           3907,
           997,
           1160
          ],
          [
           3908,
           142,
           160
          ],
          [
           3951,
           55,
           54
          ]
         ],
         "hovertemplate": "Boardings/Capacity=%{marker.color}<br>lat=%{lat}<br>lon=%{lon}<br>taz=%{customdata[0]}<br>Model Boardings=%{customdata[1]}<br>Capacity=%{customdata[2]}<extra></extra>",
         "lat": [
          47.459791189113055,
          47.240587026940496,
          47.203188285743,
          47.97553008822413,
          47.201048326678425,
          47.949202090593815,
          47.383970408531425,
          47.30597098022815,
          47.153298431654285,
          47.56718379854233,
          47.193060762628754,
          47.29373336434266,
          47.631646481329874,
          47.64429306998266,
          47.35504335733807,
          47.3163618931415,
          47.74282207119212,
          47.08271784155433,
          47.140757778268615,
          47.14791172694066,
          47.161484802874284,
          47.23400250827875,
          47.21362968300981,
          47.20552052830966,
          47.20622110948438,
          47.25600193981221,
          47.38923379023241,
          47.30559584671795,
          47.289041380796476,
          47.86327921753268,
          47.31163591874175,
          47.32142070370895,
          47.358683156241256,
          47.7104244936842,
          47.39168729512872,
          47.38491251743171,
          47.469518524026284,
          47.48197741301064,
          47.39722692921272,
          47.47271938615727,
          47.50715467593467,
          47.5421344859425,
          47.58878969142359,
          47.57701316304821,
          47.55704702946253,
          47.55136704272614,
          47.564129961427035,
          47.58629181288903,
          47.60395259926627,
          47.580583829158485,
          47.49597432021159,
          47.63677734251024,
          47.616380743797244,
          47.64418998070187,
          47.63297717439434,
          47.66816331814846,
          47.75569187858501,
          47.6765003576322,
          47.62160396082053,
          47.42287235072545,
          47.674169895277565,
          47.71630675038611,
          47.74096553654258,
          47.76143815613439,
          47.75869948424539,
          47.75911072833425,
          47.759457740337254,
          47.75702879699488,
          47.520273185221846,
          47.571714184646375,
          47.67673605768736,
          47.70239443761157,
          47.735650070604855,
          47.76687666732243,
          47.897149496501655,
          47.45193656025647,
          47.50832497753617,
          47.786023838048486,
          47.81083814590226,
          47.805505328682436,
          47.81595811606588,
          47.851158747803034,
          47.879273837323716,
          47.931600004686565,
          48.052799958531104,
          48.10076953427173,
          48.15261861721189,
          48.196226663014926,
          48.23855192536449,
          47.86853209498515,
          47.31771355238481,
          47.53346196599079,
          47.51175930997434,
          47.620810382951404,
          47.635076024273125,
          47.733914565835,
          47.798924738192895,
          47.733267845932694,
          47.62400593156234,
          47.19226982725735,
          47.192971542906285,
          47.08990334694735,
          47.77471134386238,
          47.75619875057065,
          47.56885032852624,
          47.36115476012324,
          48.15732422532287,
          47.91577651606941,
          47.880528888492265,
          47.79421797219861,
          47.78299309998247,
          47.759682723438075,
          47.50395364516145,
          47.4683127358232,
          47.24317915202268,
          47.852265826626585,
          47.17424906089401,
          47.46462822513558,
          47.161515219367466,
          47.20690802107854,
          47.54548131124219,
          47.99833018258796,
          47.73132891345255,
          47.74896727800608,
          47.52729295506841,
          47.799607552327174,
          47.469308153590354,
          47.56371171355699,
          47.185461659521216,
          48.06186352787003,
          48.239360081573196,
          48.05093832410037,
          47.85078851793791,
          47.582163360805794,
          47.48065386274714,
          47.54050303955318,
          47.48170670581923,
          47.67825835598132,
          47.36261650204512,
          47.35719493962773,
          47.48028761734057,
          47.66655727817533,
          47.601973031740954,
          47.68558355990292,
          47.51822107506604,
          47.4435715904644,
          47.42300305792277,
          47.60111801912681,
          47.302354813300944
         ],
         "legendgroup": "",
         "lon": [
          -122.24142204292801,
          -122.42559764232288,
          -122.48610523364498,
          -122.19768602099377,
          -122.24474142310243,
          -122.29903798331632,
          -122.23410004243462,
          -122.23148352515318,
          -122.49859252745824,
          -122.65169744997347,
          -122.29627387444259,
          -122.3599437944882,
          -122.6376553285978,
          -122.13352825516421,
          -122.30994876622252,
          -122.58550724037367,
          -121.98519670565817,
          -122.43467115344275,
          -122.30342870923496,
          -122.43537507130094,
          -122.4832269556689,
          -122.49605950380925,
          -122.46823390072736,
          -122.46332756461389,
          -122.4595315453806,
          -122.53268859436118,
          -122.62545806801099,
          -122.51464330348125,
          -122.32271243809302,
          -121.80232990722793,
          -122.30155617219685,
          -122.22738331793343,
          -122.29854675639369,
          -122.20748786443893,
          -122.28801450038526,
          -122.24251278515935,
          -122.33865108623566,
          -122.26898729590523,
          -122.04489635419205,
          -122.2140249890397,
          -122.18367513597434,
          -122.06181211149554,
          -122.23166518784704,
          -122.22739995414824,
          -122.1886194896657,
          -122.17957103217213,
          -122.17018509756201,
          -122.1904053737166,
          -122.1855070751748,
          -122.15247915819556,
          -121.78890814933835,
          -122.23793067783187,
          -122.21058496428182,
          -122.19692070930883,
          -122.1356025761157,
          -122.18466300042218,
          -122.31907049448232,
          -122.12357646358394,
          -122.22848578037559,
          -122.4617588893532,
          -122.10086680270592,
          -122.18764374421475,
          -122.18801850253551,
          -122.25089711182129,
          -122.24193472527783,
          -122.25940207427163,
          -122.20174474164908,
          -122.15150344952004,
          -122.33619477501689,
          -122.36486292041623,
          -122.3207479132486,
          -122.3263535981885,
          -122.3238311992929,
          -122.34679899076795,
          -122.21539257019184,
          -122.45962271847641,
          -122.46527095271402,
          -122.31456649794684,
          -122.38443648143998,
          -122.33045854744478,
          -122.29397697243073,
          -122.2762912947167,
          -122.23819674557204,
          -122.10076917207742,
          -122.18350218748834,
          -122.18650029800804,
          -122.19203878663723,
          -122.129183066928,
          -122.24356695745448,
          -121.9960708438206,
          -122.30476126399772,
          -122.61872855042411,
          -122.4985314823769,
          -122.62808145181158,
          -122.53684064463692,
          -122.63927304886704,
          -122.497145659761,
          -122.55779654978755,
          -122.51049641551649,
          -122.29638289622436,
          -122.41141133327692,
          -122.6408244608136,
          -122.34274243377105,
          -122.33571558742703,
          -122.16885945632364,
          -122.16596694150272,
          -122.18235612206618,
          -122.2039867300772,
          -122.22076355008004,
          -122.21165372444678,
          -122.34737059623502,
          -122.65215146199641,
          -122.51509635593781,
          -122.6219458140525,
          -122.52527889141626,
          -122.25855174480624,
          -122.18490269497767,
          -122.28690849789872,
          -122.30486983988138,
          -122.45925556454627,
          -122.01943008905627,
          -122.1037985047417,
          -122.63760529985272,
          -122.6376022779008,
          -121.93697928446608,
          -122.508528546698,
          -122.57325255518859,
          -122.6250481725124,
          -122.29928303340452,
          -122.17950440147415,
          -122.34862259119267,
          -122.18326561243495,
          -122.2711389215377,
          -122.03642859327114,
          -122.20850143259241,
          -122.06172743208168,
          -122.20744093150329,
          -122.31799001747187,
          -122.0201427495308,
          -122.29322515985572,
          -122.22017447638363,
          -122.19590687558149,
          -122.03476548005801,
          -122.03407154200131,
          -122.20129952764448,
          -122.15522089858798,
          -122.29884833358034,
          -122.63061955933047,
          -122.25777874175822
         ],
         "marker": {
          "color": [
           0.9205128205128205,
           0.32135216089002994,
           0.06363636363636363,
           0.4101174345076784,
           0.4057142857142857,
           0.15873015873015872,
           0.3273092369477912,
           0.8404423380726699,
           0.06156405990016639,
           0.5576923076923077,
           0.22,
           0.04,
           0.2616822429906542,
           0.6261261261261262,
           0.027259684361549498,
           0.1437908496732026,
           0.1836734693877551,
           0.14,
           0.35,
           0.7096774193548387,
           0.19066937119675456,
           1.0266666666666666,
           0.4533333333333333,
           0.6794871794871795,
           0.18181818181818182,
           0.17435897435897435,
           0.06,
           0.25316455696202533,
           0.13398058252427184,
           0.078125,
           0.5507411630558723,
           0.12295081967213115,
           0.012962962962962963,
           0.925,
           0.1782178217821782,
           0.33099579242636745,
           0.5983606557377049,
           0.7865168539325843,
           0.01639344262295082,
           1.0337662337662337,
           0.296875,
           0.17094017094017094,
           0.4608501118568233,
           1.3333333333333333,
           0.2581818181818182,
           0.16216216216216217,
           0.6133333333333333,
           1.0886319845857417,
           0.0913978494623656,
           0.59727385377943,
           0.4125,
           1.5263157894736843,
           0.56,
           0.5270108043217286,
           0.2315270935960591,
           0.33404255319148934,
           0.05,
           1.2254641909814323,
           0.08333333333333333,
           0.05454545454545454,
           0.9893992932862191,
           0.798804780876494,
           0.11060948081264109,
           0.27393617021276595,
           0.23880597014925373,
           1.04,
           0.9363636363636364,
           0.15753424657534246,
           1.3,
           1.0909090909090908,
           1.4063260340632604,
           1.7296222664015906,
           1.2794117647058822,
           1.0712468193384224,
           0.17380352644836272,
           0.14583333333333334,
           0.2956521739130435,
           0.26704545454545453,
           0.10810810810810811,
           0.5450980392156862,
           0.05007153075822604,
           0.2658536585365854,
           0.29535232383808097,
           0.3076923076923077,
           0.039603960396039604,
           0.05263157894736842,
           0.15517241379310345,
           0.92,
           0.04081632653061224,
           0.4019607843137255,
           0.1781512605042017,
           0.8857142857142857,
           0.1792452830188679,
           0.046357615894039736,
           0.3,
           0.17391304347826086,
           0.06944444444444445,
           0.15384615384615385,
           0.5614973262032086,
           0.3324175824175824,
           0.6176470588235294,
           0.01834862385321101,
           0.21287128712871287,
           0.02586206896551724,
           0.71875,
           0.37209302325581395,
           0.58,
           0.017994858611825194,
           0.31784841075794623,
           0.41721854304635764,
           0.24,
           0.045112781954887216,
           0.010822510822510822,
           0.18478260869565216,
           1.105263157894737,
           0.3062622309197652,
           0.03932584269662921,
           0.8716012084592145,
           0.3700564971751412,
           0.12121212121212122,
           0.20594059405940593,
           0.15458937198067632,
           0.1111111111111111,
           0.3157894736842105,
           0.39622641509433965,
           0.023809523809523808,
           0.02127659574468085,
           0.30918727915194344,
           1.0365296803652968,
           0.12206572769953052,
           0.17567567567567569,
           0.5,
           0.3466666666666667,
           0.08679245283018867,
           0.44666666666666666,
           0.4176470588235294,
           0.34,
           1.696,
           0.3888888888888889,
           0.5866666666666667,
           0.21875,
           0.39344262295081966,
           0.3333333333333333,
           0.25,
           0.66,
           0.3877551020408163,
           0.8594827586206897,
           0.8875,
           1.0185185185185186
          ],
          "coloraxis": "coloraxis",
          "size": [
           0.9205128205128205,
           0.32135216089002994,
           0.06363636363636363,
           0.4101174345076784,
           0.4057142857142857,
           0.15873015873015872,
           0.3273092369477912,
           0.8404423380726699,
           0.06156405990016639,
           0.5576923076923077,
           0.22,
           0.04,
           0.2616822429906542,
           0.6261261261261262,
           0.027259684361549498,
           0.1437908496732026,
           0.1836734693877551,
           0.14,
           0.35,
           0.7096774193548387,
           0.19066937119675456,
           1.0266666666666666,
           0.4533333333333333,
           0.6794871794871795,
           0.18181818181818182,
           0.17435897435897435,
           0.06,
           0.25316455696202533,
           0.13398058252427184,
           0.078125,
           0.5507411630558723,
           0.12295081967213115,
           0.012962962962962963,
           0.925,
           0.1782178217821782,
           0.33099579242636745,
           0.5983606557377049,
           0.7865168539325843,
           0.01639344262295082,
           1.0337662337662337,
           0.296875,
           0.17094017094017094,
           0.4608501118568233,
           1.3333333333333333,
           0.2581818181818182,
           0.16216216216216217,
           0.6133333333333333,
           1.0886319845857417,
           0.0913978494623656,
           0.59727385377943,
           0.4125,
           1.5263157894736843,
           0.56,
           0.5270108043217286,
           0.2315270935960591,
           0.33404255319148934,
           0.05,
           1.2254641909814323,
           0.08333333333333333,
           0.05454545454545454,
           0.9893992932862191,
           0.798804780876494,
           0.11060948081264109,
           0.27393617021276595,
           0.23880597014925373,
           1.04,
           0.9363636363636364,
           0.15753424657534246,
           1.3,
           1.0909090909090908,
           1.4063260340632604,
           1.7296222664015906,
           1.2794117647058822,
           1.0712468193384224,
           0.17380352644836272,
           0.14583333333333334,
           0.2956521739130435,
           0.26704545454545453,
           0.10810810810810811,
           0.5450980392156862,
           0.05007153075822604,
           0.2658536585365854,
           0.29535232383808097,
           0.3076923076923077,
           0.039603960396039604,
           0.05263157894736842,
           0.15517241379310345,
           0.92,
           0.04081632653061224,
           0.4019607843137255,
           0.1781512605042017,
           0.8857142857142857,
           0.1792452830188679,
           0.046357615894039736,
           0.3,
           0.17391304347826086,
           0.06944444444444445,
           0.15384615384615385,
           0.5614973262032086,
           0.3324175824175824,
           0.6176470588235294,
           0.01834862385321101,
           0.21287128712871287,
           0.02586206896551724,
           0.71875,
           0.37209302325581395,
           0.58,
           0.017994858611825194,
           0.31784841075794623,
           0.41721854304635764,
           0.24,
           0.045112781954887216,
           0.010822510822510822,
           0.18478260869565216,
           1.105263157894737,
           0.3062622309197652,
           0.03932584269662921,
           0.8716012084592145,
           0.3700564971751412,
           0.12121212121212122,
           0.20594059405940593,
           0.15458937198067632,
           0.1111111111111111,
           0.3157894736842105,
           0.39622641509433965,
           0.023809523809523808,
           0.02127659574468085,
           0.30918727915194344,
           1.0365296803652968,
           0.12206572769953052,
           0.17567567567567569,
           0.5,
           0.3466666666666667,
           0.08679245283018867,
           0.44666666666666666,
           0.4176470588235294,
           0.34,
           1.696,
           0.3888888888888889,
           0.5866666666666667,
           0.21875,
           0.39344262295081966,
           0.3333333333333333,
           0.25,
           0.66,
           0.3877551020408163,
           0.8594827586206897,
           0.8875,
           1.0185185185185186
          ],
          "sizemode": "area",
          "sizeref": 0.004324055666003976
         },
         "mode": "markers",
         "name": "",
         "showlegend": false,
         "subplot": "mapbox",
         "type": "scattermapbox"
        }
       ],
       "layout": {
        "coloraxis": {
         "colorbar": {
          "title": {
           "text": "Boardings/Capacity"
          }
         },
         "colorscale": [
          [
           0,
           "#440154"
          ],
          [
           0.1111111111111111,
           "#482878"
          ],
          [
           0.2222222222222222,
           "#3e4989"
          ],
          [
           0.3333333333333333,
           "#31688e"
          ],
          [
           0.4444444444444444,
           "#26828e"
          ],
          [
           0.5555555555555556,
           "#1f9e89"
          ],
          [
           0.6666666666666666,
           "#35b779"
          ],
          [
           0.7777777777777778,
           "#6ece58"
          ],
          [
           0.8888888888888888,
           "#b5de2b"
          ],
          [
           1,
           "#fde725"
          ]
         ]
        },
        "legend": {
         "itemsizing": "constant",
         "tracegroupgap": 0
        },
        "mapbox": {
         "center": {
          "lat": 47.57905206632925,
          "lon": -122.29858109035878
         },
         "domain": {
          "x": [
           0,
           1
          ],
          "y": [
           0,
           1
          ]
         },
         "style": "carto-positron",
         "zoom": 7
        },
        "margin": {
         "b": 0,
         "l": 0,
         "r": 0,
         "t": 0
        },
        "template": {
         "data": {
          "bar": [
           {
            "error_x": {
             "color": "rgb(36,36,36)"
            },
            "error_y": {
             "color": "rgb(36,36,36)"
            },
            "marker": {
             "line": {
              "color": "white",
              "width": 0.5
             },
             "pattern": {
              "fillmode": "overlay",
              "size": 10,
              "solidity": 0.2
             }
            },
            "type": "bar"
           }
          ],
          "barpolar": [
           {
            "marker": {
             "line": {
              "color": "white",
              "width": 0.5
             },
             "pattern": {
              "fillmode": "overlay",
              "size": 10,
              "solidity": 0.2
             }
            },
            "type": "barpolar"
           }
          ],
          "carpet": [
           {
            "aaxis": {
             "endlinecolor": "rgb(36,36,36)",
             "gridcolor": "white",
             "linecolor": "white",
             "minorgridcolor": "white",
             "startlinecolor": "rgb(36,36,36)"
            },
            "baxis": {
             "endlinecolor": "rgb(36,36,36)",
             "gridcolor": "white",
             "linecolor": "white",
             "minorgridcolor": "white",
             "startlinecolor": "rgb(36,36,36)"
            },
            "type": "carpet"
           }
          ],
          "choropleth": [
           {
            "colorbar": {
             "outlinewidth": 1,
             "tickcolor": "rgb(36,36,36)",
             "ticks": "outside"
            },
            "type": "choropleth"
           }
          ],
          "contour": [
           {
            "colorbar": {
             "outlinewidth": 1,
             "tickcolor": "rgb(36,36,36)",
             "ticks": "outside"
            },
            "colorscale": [
             [
              0,
              "#440154"
             ],
             [
              0.1111111111111111,
              "#482878"
             ],
             [
              0.2222222222222222,
              "#3e4989"
             ],
             [
              0.3333333333333333,
              "#31688e"
             ],
             [
              0.4444444444444444,
              "#26828e"
             ],
             [
              0.5555555555555556,
              "#1f9e89"
             ],
             [
              0.6666666666666666,
              "#35b779"
             ],
             [
              0.7777777777777778,
              "#6ece58"
             ],
             [
              0.8888888888888888,
              "#b5de2b"
             ],
             [
              1,
              "#fde725"
             ]
            ],
            "type": "contour"
           }
          ],
          "contourcarpet": [
           {
            "colorbar": {
             "outlinewidth": 1,
             "tickcolor": "rgb(36,36,36)",
             "ticks": "outside"
            },
            "type": "contourcarpet"
           }
          ],
          "heatmap": [
           {
            "colorbar": {
             "outlinewidth": 1,
             "tickcolor": "rgb(36,36,36)",
             "ticks": "outside"
            },
            "colorscale": [
             [
              0,
              "#440154"
             ],
             [
              0.1111111111111111,
              "#482878"
             ],
             [
              0.2222222222222222,
              "#3e4989"
             ],
             [
              0.3333333333333333,
              "#31688e"
             ],
             [
              0.4444444444444444,
              "#26828e"
             ],
             [
              0.5555555555555556,
              "#1f9e89"
             ],
             [
              0.6666666666666666,
              "#35b779"
             ],
             [
              0.7777777777777778,
              "#6ece58"
             ],
             [
              0.8888888888888888,
              "#b5de2b"
             ],
             [
              1,
              "#fde725"
             ]
            ],
            "type": "heatmap"
           }
          ],
          "heatmapgl": [
           {
            "colorbar": {
             "outlinewidth": 1,
             "tickcolor": "rgb(36,36,36)",
             "ticks": "outside"
            },
            "colorscale": [
             [
              0,
              "#440154"
             ],
             [
              0.1111111111111111,
              "#482878"
             ],
             [
              0.2222222222222222,
              "#3e4989"
             ],
             [
              0.3333333333333333,
              "#31688e"
             ],
             [
              0.4444444444444444,
              "#26828e"
             ],
             [
              0.5555555555555556,
              "#1f9e89"
             ],
             [
              0.6666666666666666,
              "#35b779"
             ],
             [
              0.7777777777777778,
              "#6ece58"
             ],
             [
              0.8888888888888888,
              "#b5de2b"
             ],
             [
              1,
              "#fde725"
             ]
            ],
            "type": "heatmapgl"
           }
          ],
          "histogram": [
           {
            "marker": {
             "line": {
              "color": "white",
              "width": 0.6
             }
            },
            "type": "histogram"
           }
          ],
          "histogram2d": [
           {
            "colorbar": {
             "outlinewidth": 1,
             "tickcolor": "rgb(36,36,36)",
             "ticks": "outside"
            },
            "colorscale": [
             [
              0,
              "#440154"
             ],
             [
              0.1111111111111111,
              "#482878"
             ],
             [
              0.2222222222222222,
              "#3e4989"
             ],
             [
              0.3333333333333333,
              "#31688e"
             ],
             [
              0.4444444444444444,
              "#26828e"
             ],
             [
              0.5555555555555556,
              "#1f9e89"
             ],
             [
              0.6666666666666666,
              "#35b779"
             ],
             [
              0.7777777777777778,
              "#6ece58"
             ],
             [
              0.8888888888888888,
              "#b5de2b"
             ],
             [
              1,
              "#fde725"
             ]
            ],
            "type": "histogram2d"
           }
          ],
          "histogram2dcontour": [
           {
            "colorbar": {
             "outlinewidth": 1,
             "tickcolor": "rgb(36,36,36)",
             "ticks": "outside"
            },
            "colorscale": [
             [
              0,
              "#440154"
             ],
             [
              0.1111111111111111,
              "#482878"
             ],
             [
              0.2222222222222222,
              "#3e4989"
             ],
             [
              0.3333333333333333,
              "#31688e"
             ],
             [
              0.4444444444444444,
              "#26828e"
             ],
             [
              0.5555555555555556,
              "#1f9e89"
             ],
             [
              0.6666666666666666,
              "#35b779"
             ],
             [
              0.7777777777777778,
              "#6ece58"
             ],
             [
              0.8888888888888888,
              "#b5de2b"
             ],
             [
              1,
              "#fde725"
             ]
            ],
            "type": "histogram2dcontour"
           }
          ],
          "mesh3d": [
           {
            "colorbar": {
             "outlinewidth": 1,
             "tickcolor": "rgb(36,36,36)",
             "ticks": "outside"
            },
            "type": "mesh3d"
           }
          ],
          "parcoords": [
           {
            "line": {
             "colorbar": {
              "outlinewidth": 1,
              "tickcolor": "rgb(36,36,36)",
              "ticks": "outside"
             }
            },
            "type": "parcoords"
           }
          ],
          "pie": [
           {
            "automargin": true,
            "type": "pie"
           }
          ],
          "scatter": [
           {
            "fillpattern": {
             "fillmode": "overlay",
             "size": 10,
             "solidity": 0.2
            },
            "type": "scatter"
           }
          ],
          "scatter3d": [
           {
            "line": {
             "colorbar": {
              "outlinewidth": 1,
              "tickcolor": "rgb(36,36,36)",
              "ticks": "outside"
             }
            },
            "marker": {
             "colorbar": {
              "outlinewidth": 1,
              "tickcolor": "rgb(36,36,36)",
              "ticks": "outside"
             }
            },
            "type": "scatter3d"
           }
          ],
          "scattercarpet": [
           {
            "marker": {
             "colorbar": {
              "outlinewidth": 1,
              "tickcolor": "rgb(36,36,36)",
              "ticks": "outside"
             }
            },
            "type": "scattercarpet"
           }
          ],
          "scattergeo": [
           {
            "marker": {
             "colorbar": {
              "outlinewidth": 1,
              "tickcolor": "rgb(36,36,36)",
              "ticks": "outside"
             }
            },
            "type": "scattergeo"
           }
          ],
          "scattergl": [
           {
            "marker": {
             "colorbar": {
              "outlinewidth": 1,
              "tickcolor": "rgb(36,36,36)",
              "ticks": "outside"
             }
            },
            "type": "scattergl"
           }
          ],
          "scattermapbox": [
           {
            "marker": {
             "colorbar": {
              "outlinewidth": 1,
              "tickcolor": "rgb(36,36,36)",
              "ticks": "outside"
             }
            },
            "type": "scattermapbox"
           }
          ],
          "scatterpolar": [
           {
            "marker": {
             "colorbar": {
              "outlinewidth": 1,
              "tickcolor": "rgb(36,36,36)",
              "ticks": "outside"
             }
            },
            "type": "scatterpolar"
           }
          ],
          "scatterpolargl": [
           {
            "marker": {
             "colorbar": {
              "outlinewidth": 1,
              "tickcolor": "rgb(36,36,36)",
              "ticks": "outside"
             }
            },
            "type": "scatterpolargl"
           }
          ],
          "scatterternary": [
           {
            "marker": {
             "colorbar": {
              "outlinewidth": 1,
              "tickcolor": "rgb(36,36,36)",
              "ticks": "outside"
             }
            },
            "type": "scatterternary"
           }
          ],
          "surface": [
           {
            "colorbar": {
             "outlinewidth": 1,
             "tickcolor": "rgb(36,36,36)",
             "ticks": "outside"
            },
            "colorscale": [
             [
              0,
              "#440154"
             ],
             [
              0.1111111111111111,
              "#482878"
             ],
             [
              0.2222222222222222,
              "#3e4989"
             ],
             [
              0.3333333333333333,
              "#31688e"
             ],
             [
              0.4444444444444444,
              "#26828e"
             ],
             [
              0.5555555555555556,
              "#1f9e89"
             ],
             [
              0.6666666666666666,
              "#35b779"
             ],
             [
              0.7777777777777778,
              "#6ece58"
             ],
             [
              0.8888888888888888,
              "#b5de2b"
             ],
             [
              1,
              "#fde725"
             ]
            ],
            "type": "surface"
           }
          ],
          "table": [
           {
            "cells": {
             "fill": {
              "color": "rgb(237,237,237)"
             },
             "line": {
              "color": "white"
             }
            },
            "header": {
             "fill": {
              "color": "rgb(217,217,217)"
             },
             "line": {
              "color": "white"
             }
            },
            "type": "table"
           }
          ]
         },
         "layout": {
          "annotationdefaults": {
           "arrowhead": 0,
           "arrowwidth": 1
          },
          "autotypenumbers": "strict",
          "coloraxis": {
           "colorbar": {
            "outlinewidth": 1,
            "tickcolor": "rgb(36,36,36)",
            "ticks": "outside"
           }
          },
          "colorscale": {
           "diverging": [
            [
             0,
             "rgb(103,0,31)"
            ],
            [
             0.1,
             "rgb(178,24,43)"
            ],
            [
             0.2,
             "rgb(214,96,77)"
            ],
            [
             0.3,
             "rgb(244,165,130)"
            ],
            [
             0.4,
             "rgb(253,219,199)"
            ],
            [
             0.5,
             "rgb(247,247,247)"
            ],
            [
             0.6,
             "rgb(209,229,240)"
            ],
            [
             0.7,
             "rgb(146,197,222)"
            ],
            [
             0.8,
             "rgb(67,147,195)"
            ],
            [
             0.9,
             "rgb(33,102,172)"
            ],
            [
             1,
             "rgb(5,48,97)"
            ]
           ],
           "sequential": [
            [
             0,
             "#440154"
            ],
            [
             0.1111111111111111,
             "#482878"
            ],
            [
             0.2222222222222222,
             "#3e4989"
            ],
            [
             0.3333333333333333,
             "#31688e"
            ],
            [
             0.4444444444444444,
             "#26828e"
            ],
            [
             0.5555555555555556,
             "#1f9e89"
            ],
            [
             0.6666666666666666,
             "#35b779"
            ],
            [
             0.7777777777777778,
             "#6ece58"
            ],
            [
             0.8888888888888888,
             "#b5de2b"
            ],
            [
             1,
             "#fde725"
            ]
           ],
           "sequentialminus": [
            [
             0,
             "#440154"
            ],
            [
             0.1111111111111111,
             "#482878"
            ],
            [
             0.2222222222222222,
             "#3e4989"
            ],
            [
             0.3333333333333333,
             "#31688e"
            ],
            [
             0.4444444444444444,
             "#26828e"
            ],
            [
             0.5555555555555556,
             "#1f9e89"
            ],
            [
             0.6666666666666666,
             "#35b779"
            ],
            [
             0.7777777777777778,
             "#6ece58"
            ],
            [
             0.8888888888888888,
             "#b5de2b"
            ],
            [
             1,
             "#fde725"
            ]
           ]
          },
          "colorway": [
           "#91268F",
           "#8CC63E",
           "#00A7A0",
           "#F05A28",
           "#4C4C4C",
           "#630460",
           "#9f3913",
           "#588527",
           "#00716c",
           "#3e4040"
          ],
          "font": {
           "color": "rgb(36,36,36)",
           "family": "Poppins",
           "size": 11
          },
          "geo": {
           "bgcolor": "white",
           "lakecolor": "white",
           "landcolor": "white",
           "showlakes": true,
           "showland": true,
           "subunitcolor": "white"
          },
          "hoverlabel": {
           "align": "left"
          },
          "hovermode": "closest",
          "mapbox": {
           "style": "light"
          },
          "paper_bgcolor": "white",
          "plot_bgcolor": "white",
          "polar": {
           "angularaxis": {
            "gridcolor": "rgb(232,232,232)",
            "linecolor": "rgb(36,36,36)",
            "showgrid": false,
            "showline": true,
            "ticks": "outside"
           },
           "bgcolor": "white",
           "radialaxis": {
            "gridcolor": "rgb(232,232,232)",
            "linecolor": "rgb(36,36,36)",
            "showgrid": false,
            "showline": true,
            "ticks": "outside"
           }
          },
          "scene": {
           "xaxis": {
            "backgroundcolor": "white",
            "gridcolor": "rgb(232,232,232)",
            "gridwidth": 2,
            "linecolor": "rgb(36,36,36)",
            "showbackground": true,
            "showgrid": false,
            "showline": true,
            "ticks": "outside",
            "zeroline": false,
            "zerolinecolor": "rgb(36,36,36)"
           },
           "yaxis": {
            "backgroundcolor": "white",
            "gridcolor": "rgb(232,232,232)",
            "gridwidth": 2,
            "linecolor": "rgb(36,36,36)",
            "showbackground": true,
            "showgrid": false,
            "showline": true,
            "ticks": "outside",
            "zeroline": false,
            "zerolinecolor": "rgb(36,36,36)"
           },
           "zaxis": {
            "backgroundcolor": "white",
            "gridcolor": "rgb(232,232,232)",
            "gridwidth": 2,
            "linecolor": "rgb(36,36,36)",
            "showbackground": true,
            "showgrid": false,
            "showline": true,
            "ticks": "outside",
            "zeroline": false,
            "zerolinecolor": "rgb(36,36,36)"
           }
          },
          "shapedefaults": {
           "fillcolor": "black",
           "line": {
            "width": 0
           },
           "opacity": 0.3
          },
          "ternary": {
           "aaxis": {
            "gridcolor": "rgb(232,232,232)",
            "linecolor": "rgb(36,36,36)",
            "showgrid": false,
            "showline": true,
            "ticks": "outside"
           },
           "baxis": {
            "gridcolor": "rgb(232,232,232)",
            "linecolor": "rgb(36,36,36)",
            "showgrid": false,
            "showline": true,
            "ticks": "outside"
           },
           "bgcolor": "white",
           "caxis": {
            "gridcolor": "rgb(232,232,232)",
            "linecolor": "rgb(36,36,36)",
            "showgrid": false,
            "showline": true,
            "ticks": "outside"
           }
          },
          "title": {
           "x": 0.05
          },
          "xaxis": {
           "automargin": true,
           "gridcolor": "rgb(232,232,232)",
           "linecolor": "rgb(36,36,36)",
           "showgrid": false,
           "showline": true,
           "ticks": "outside",
           "title": {
            "standoff": 15
           },
           "zeroline": false,
           "zerolinecolor": "rgb(36,36,36)"
          },
          "yaxis": {
           "automargin": true,
           "gridcolor": "rgb(232,232,232)",
           "linecolor": "rgb(36,36,36)",
           "showgrid": false,
           "showline": true,
           "ticks": "outside",
           "title": {
            "standoff": 15
           },
           "zeroline": false,
           "zerolinecolor": "rgb(36,36,36)"
          }
         }
        },
        "title": {
         "text": "Park and Ride Usage vs Capacity"
        }
       }
      },
      "text/html": [
       "<div>                            <div id=\"307fd552-41cd-479b-b9bb-49bf1e7963a7\" class=\"plotly-graph-div\" style=\"height:525px; width:100%;\"></div>            <script type=\"text/javascript\">                require([\"plotly\"], function(Plotly) {                    window.PLOTLYENV=window.PLOTLYENV || {};                                    if (document.getElementById(\"307fd552-41cd-479b-b9bb-49bf1e7963a7\")) {                    Plotly.newPlot(                        \"307fd552-41cd-479b-b9bb-49bf1e7963a7\",                        [{\"customdata\":[[3751,359,390],[3752,751,2337],[3753,14,220],[3754,454,1107],[3755,142,350],[3756,10,63],[3757,326,996],[3758,532,633],[3759,37,601],[3760,58,104],[3761,11,50],[3762,24,600],[3763,28,107],[3764,139,222],[3765,19,697],[3766,44,306],[3767,9,49],[3768,14,100],[3769,7,20],[3770,44,62],[3771,94,493],[3772,77,75],[3773,68,150],[3774,53,78],[3775,8,44],[3776,34,195],[3777,12,200],[3778,20,79],[3779,69,515],[3780,5,64],[3781,483,877],[3782,30,244],[3783,7,540],[3784,37,40],[3785,72,404],[3786,236,713],[3787,292,488],[3788,210,267],[3789,2,122],[3790,398,385],[3791,38,128],[3792,140,819],[3793,206,447],[3794,40,30],[3795,71,275],[3796,6,37],[3797,46,75],[3798,565,519],[3799,17,186],[3800,964,1614],[3801,33,80],[3802,58,38],[3803,28,50],[3804,439,833],[3805,47,203],[3806,157,470],[3807,2,40],[3808,462,377],[3809,4,48],[3810,3,55],[3811,280,283],[3812,401,502],[3813,49,443],[3814,103,376],[3815,144,603],[3816,78,75],[3817,206,220],[3818,69,438],[3819,130,100],[3820,60,55],[3821,578,411],[3822,2610,1509],[3823,87,68],[3824,421,393],[3825,69,397],[3826,7,48],[3827,68,230],[3828,235,880],[3830,28,259],[3831,139,255],[3832,70,1398],[3833,109,410],[3834,197,667],[3835,32,104],[3836,8,202],[3837,3,57],[3838,9,58],[3839,23,25],[3840,6,147],[3841,41,102],[3842,212,1190],[3843,93,105],[3844,57,318],[3845,7,151],[3846,24,80],[3847,24,138],[3849,5,72],[3850,10,65],[3851,105,187],[3852,121,364],[3853,42,68],[3855,2,109],[3856,43,202],[3857,3,116],[3858,46,64],[3861,64,172],[3862,29,50],[3863,7,389],[3864,130,409],[3865,126,302],[3866,6,25],[3868,12,266],[3870,5,462],[3871,17,92],[3873,105,95],[3874,313,1022],[3875,14,356],[3876,577,662],[3877,131,354],[3878,4,33],[3879,208,1010],[3880,32,207],[3881,10,90],[3882,18,57],[3883,21,53],[3884,5,210],[3885,1,47],[3886,175,566],[3888,227,219],[3889,26,213],[3890,13,74],[3891,37,74],[3892,26,75],[3893,23,265],[3894,67,150],[3895,71,170],[3896,51,150],[3897,212,125],[3898,35,90],[3899,44,75],[3900,21,96],[3901,24,61],[3902,18,54],[3903,13,52],[3904,33,50],[3905,19,49],[3907,997,1160],[3908,142,160],[3951,55,54]],\"hovertemplate\":\"Boardings\\u002fCapacity=%{marker.color}\\u003cbr\\u003elat=%{lat}\\u003cbr\\u003elon=%{lon}\\u003cbr\\u003etaz=%{customdata[0]}\\u003cbr\\u003eModel Boardings=%{customdata[1]}\\u003cbr\\u003eCapacity=%{customdata[2]}\\u003cextra\\u003e\\u003c\\u002fextra\\u003e\",\"lat\":[47.459791189113055,47.240587026940496,47.203188285743,47.97553008822413,47.201048326678425,47.949202090593815,47.383970408531425,47.30597098022815,47.153298431654285,47.56718379854233,47.193060762628754,47.29373336434266,47.631646481329874,47.64429306998266,47.35504335733807,47.3163618931415,47.74282207119212,47.08271784155433,47.140757778268615,47.14791172694066,47.161484802874284,47.23400250827875,47.21362968300981,47.20552052830966,47.20622110948438,47.25600193981221,47.38923379023241,47.30559584671795,47.289041380796476,47.86327921753268,47.31163591874175,47.32142070370895,47.358683156241256,47.7104244936842,47.39168729512872,47.38491251743171,47.469518524026284,47.48197741301064,47.39722692921272,47.47271938615727,47.50715467593467,47.5421344859425,47.58878969142359,47.57701316304821,47.55704702946253,47.55136704272614,47.564129961427035,47.58629181288903,47.60395259926627,47.580583829158485,47.49597432021159,47.63677734251024,47.616380743797244,47.64418998070187,47.63297717439434,47.66816331814846,47.75569187858501,47.6765003576322,47.62160396082053,47.42287235072545,47.674169895277565,47.71630675038611,47.74096553654258,47.76143815613439,47.75869948424539,47.75911072833425,47.759457740337254,47.75702879699488,47.520273185221846,47.571714184646375,47.67673605768736,47.70239443761157,47.735650070604855,47.76687666732243,47.897149496501655,47.45193656025647,47.50832497753617,47.786023838048486,47.81083814590226,47.805505328682436,47.81595811606588,47.851158747803034,47.879273837323716,47.931600004686565,48.052799958531104,48.10076953427173,48.15261861721189,48.196226663014926,48.23855192536449,47.86853209498515,47.31771355238481,47.53346196599079,47.51175930997434,47.620810382951404,47.635076024273125,47.733914565835,47.798924738192895,47.733267845932694,47.62400593156234,47.19226982725735,47.192971542906285,47.08990334694735,47.77471134386238,47.75619875057065,47.56885032852624,47.36115476012324,48.15732422532287,47.91577651606941,47.880528888492265,47.79421797219861,47.78299309998247,47.759682723438075,47.50395364516145,47.4683127358232,47.24317915202268,47.852265826626585,47.17424906089401,47.46462822513558,47.161515219367466,47.20690802107854,47.54548131124219,47.99833018258796,47.73132891345255,47.74896727800608,47.52729295506841,47.799607552327174,47.469308153590354,47.56371171355699,47.185461659521216,48.06186352787003,48.239360081573196,48.05093832410037,47.85078851793791,47.582163360805794,47.48065386274714,47.54050303955318,47.48170670581923,47.67825835598132,47.36261650204512,47.35719493962773,47.48028761734057,47.66655727817533,47.601973031740954,47.68558355990292,47.51822107506604,47.4435715904644,47.42300305792277,47.60111801912681,47.302354813300944],\"legendgroup\":\"\",\"lon\":[-122.24142204292801,-122.42559764232288,-122.48610523364498,-122.19768602099377,-122.24474142310243,-122.29903798331632,-122.23410004243462,-122.23148352515318,-122.49859252745824,-122.65169744997347,-122.29627387444259,-122.3599437944882,-122.6376553285978,-122.13352825516421,-122.30994876622252,-122.58550724037367,-121.98519670565817,-122.43467115344275,-122.30342870923496,-122.43537507130094,-122.4832269556689,-122.49605950380925,-122.46823390072736,-122.46332756461389,-122.4595315453806,-122.53268859436118,-122.62545806801099,-122.51464330348125,-122.32271243809302,-121.80232990722793,-122.30155617219685,-122.22738331793343,-122.29854675639369,-122.20748786443893,-122.28801450038526,-122.24251278515935,-122.33865108623566,-122.26898729590523,-122.04489635419205,-122.2140249890397,-122.18367513597434,-122.06181211149554,-122.23166518784704,-122.22739995414824,-122.1886194896657,-122.17957103217213,-122.17018509756201,-122.1904053737166,-122.1855070751748,-122.15247915819556,-121.78890814933835,-122.23793067783187,-122.21058496428182,-122.19692070930883,-122.1356025761157,-122.18466300042218,-122.31907049448232,-122.12357646358394,-122.22848578037559,-122.4617588893532,-122.10086680270592,-122.18764374421475,-122.18801850253551,-122.25089711182129,-122.24193472527783,-122.25940207427163,-122.20174474164908,-122.15150344952004,-122.33619477501689,-122.36486292041623,-122.3207479132486,-122.3263535981885,-122.3238311992929,-122.34679899076795,-122.21539257019184,-122.45962271847641,-122.46527095271402,-122.31456649794684,-122.38443648143998,-122.33045854744478,-122.29397697243073,-122.2762912947167,-122.23819674557204,-122.10076917207742,-122.18350218748834,-122.18650029800804,-122.19203878663723,-122.129183066928,-122.24356695745448,-121.9960708438206,-122.30476126399772,-122.61872855042411,-122.4985314823769,-122.62808145181158,-122.53684064463692,-122.63927304886704,-122.497145659761,-122.55779654978755,-122.51049641551649,-122.29638289622436,-122.41141133327692,-122.6408244608136,-122.34274243377105,-122.33571558742703,-122.16885945632364,-122.16596694150272,-122.18235612206618,-122.2039867300772,-122.22076355008004,-122.21165372444678,-122.34737059623502,-122.65215146199641,-122.51509635593781,-122.6219458140525,-122.52527889141626,-122.25855174480624,-122.18490269497767,-122.28690849789872,-122.30486983988138,-122.45925556454627,-122.01943008905627,-122.1037985047417,-122.63760529985272,-122.6376022779008,-121.93697928446608,-122.508528546698,-122.57325255518859,-122.6250481725124,-122.29928303340452,-122.17950440147415,-122.34862259119267,-122.18326561243495,-122.2711389215377,-122.03642859327114,-122.20850143259241,-122.06172743208168,-122.20744093150329,-122.31799001747187,-122.0201427495308,-122.29322515985572,-122.22017447638363,-122.19590687558149,-122.03476548005801,-122.03407154200131,-122.20129952764448,-122.15522089858798,-122.29884833358034,-122.63061955933047,-122.25777874175822],\"marker\":{\"color\":[0.9205128205128205,0.32135216089002994,0.06363636363636363,0.4101174345076784,0.4057142857142857,0.15873015873015872,0.3273092369477912,0.8404423380726699,0.06156405990016639,0.5576923076923077,0.22,0.04,0.2616822429906542,0.6261261261261262,0.027259684361549498,0.1437908496732026,0.1836734693877551,0.14,0.35,0.7096774193548387,0.19066937119675456,1.0266666666666666,0.4533333333333333,0.6794871794871795,0.18181818181818182,0.17435897435897435,0.06,0.25316455696202533,0.13398058252427184,0.078125,0.5507411630558723,0.12295081967213115,0.012962962962962963,0.925,0.1782178217821782,0.33099579242636745,0.5983606557377049,0.7865168539325843,0.01639344262295082,1.0337662337662337,0.296875,0.17094017094017094,0.4608501118568233,1.3333333333333333,0.2581818181818182,0.16216216216216217,0.6133333333333333,1.0886319845857417,0.0913978494623656,0.59727385377943,0.4125,1.5263157894736843,0.56,0.5270108043217286,0.2315270935960591,0.33404255319148934,0.05,1.2254641909814323,0.08333333333333333,0.05454545454545454,0.9893992932862191,0.798804780876494,0.11060948081264109,0.27393617021276595,0.23880597014925373,1.04,0.9363636363636364,0.15753424657534246,1.3,1.0909090909090908,1.4063260340632604,1.7296222664015906,1.2794117647058822,1.0712468193384224,0.17380352644836272,0.14583333333333334,0.2956521739130435,0.26704545454545453,0.10810810810810811,0.5450980392156862,0.05007153075822604,0.2658536585365854,0.29535232383808097,0.3076923076923077,0.039603960396039604,0.05263157894736842,0.15517241379310345,0.92,0.04081632653061224,0.4019607843137255,0.1781512605042017,0.8857142857142857,0.1792452830188679,0.046357615894039736,0.3,0.17391304347826086,0.06944444444444445,0.15384615384615385,0.5614973262032086,0.3324175824175824,0.6176470588235294,0.01834862385321101,0.21287128712871287,0.02586206896551724,0.71875,0.37209302325581395,0.58,0.017994858611825194,0.31784841075794623,0.41721854304635764,0.24,0.045112781954887216,0.010822510822510822,0.18478260869565216,1.105263157894737,0.3062622309197652,0.03932584269662921,0.8716012084592145,0.3700564971751412,0.12121212121212122,0.20594059405940593,0.15458937198067632,0.1111111111111111,0.3157894736842105,0.39622641509433965,0.023809523809523808,0.02127659574468085,0.30918727915194344,1.0365296803652968,0.12206572769953052,0.17567567567567569,0.5,0.3466666666666667,0.08679245283018867,0.44666666666666666,0.4176470588235294,0.34,1.696,0.3888888888888889,0.5866666666666667,0.21875,0.39344262295081966,0.3333333333333333,0.25,0.66,0.3877551020408163,0.8594827586206897,0.8875,1.0185185185185186],\"coloraxis\":\"coloraxis\",\"size\":[0.9205128205128205,0.32135216089002994,0.06363636363636363,0.4101174345076784,0.4057142857142857,0.15873015873015872,0.3273092369477912,0.8404423380726699,0.06156405990016639,0.5576923076923077,0.22,0.04,0.2616822429906542,0.6261261261261262,0.027259684361549498,0.1437908496732026,0.1836734693877551,0.14,0.35,0.7096774193548387,0.19066937119675456,1.0266666666666666,0.4533333333333333,0.6794871794871795,0.18181818181818182,0.17435897435897435,0.06,0.25316455696202533,0.13398058252427184,0.078125,0.5507411630558723,0.12295081967213115,0.012962962962962963,0.925,0.1782178217821782,0.33099579242636745,0.5983606557377049,0.7865168539325843,0.01639344262295082,1.0337662337662337,0.296875,0.17094017094017094,0.4608501118568233,1.3333333333333333,0.2581818181818182,0.16216216216216217,0.6133333333333333,1.0886319845857417,0.0913978494623656,0.59727385377943,0.4125,1.5263157894736843,0.56,0.5270108043217286,0.2315270935960591,0.33404255319148934,0.05,1.2254641909814323,0.08333333333333333,0.05454545454545454,0.9893992932862191,0.798804780876494,0.11060948081264109,0.27393617021276595,0.23880597014925373,1.04,0.9363636363636364,0.15753424657534246,1.3,1.0909090909090908,1.4063260340632604,1.7296222664015906,1.2794117647058822,1.0712468193384224,0.17380352644836272,0.14583333333333334,0.2956521739130435,0.26704545454545453,0.10810810810810811,0.5450980392156862,0.05007153075822604,0.2658536585365854,0.29535232383808097,0.3076923076923077,0.039603960396039604,0.05263157894736842,0.15517241379310345,0.92,0.04081632653061224,0.4019607843137255,0.1781512605042017,0.8857142857142857,0.1792452830188679,0.046357615894039736,0.3,0.17391304347826086,0.06944444444444445,0.15384615384615385,0.5614973262032086,0.3324175824175824,0.6176470588235294,0.01834862385321101,0.21287128712871287,0.02586206896551724,0.71875,0.37209302325581395,0.58,0.017994858611825194,0.31784841075794623,0.41721854304635764,0.24,0.045112781954887216,0.010822510822510822,0.18478260869565216,1.105263157894737,0.3062622309197652,0.03932584269662921,0.8716012084592145,0.3700564971751412,0.12121212121212122,0.20594059405940593,0.15458937198067632,0.1111111111111111,0.3157894736842105,0.39622641509433965,0.023809523809523808,0.02127659574468085,0.30918727915194344,1.0365296803652968,0.12206572769953052,0.17567567567567569,0.5,0.3466666666666667,0.08679245283018867,0.44666666666666666,0.4176470588235294,0.34,1.696,0.3888888888888889,0.5866666666666667,0.21875,0.39344262295081966,0.3333333333333333,0.25,0.66,0.3877551020408163,0.8594827586206897,0.8875,1.0185185185185186],\"sizemode\":\"area\",\"sizeref\":0.004324055666003976},\"mode\":\"markers\",\"name\":\"\",\"showlegend\":false,\"subplot\":\"mapbox\",\"type\":\"scattermapbox\"}],                        {\"template\":{\"data\":{\"barpolar\":[{\"marker\":{\"line\":{\"color\":\"white\",\"width\":0.5},\"pattern\":{\"fillmode\":\"overlay\",\"size\":10,\"solidity\":0.2}},\"type\":\"barpolar\"}],\"bar\":[{\"error_x\":{\"color\":\"rgb(36,36,36)\"},\"error_y\":{\"color\":\"rgb(36,36,36)\"},\"marker\":{\"line\":{\"color\":\"white\",\"width\":0.5},\"pattern\":{\"fillmode\":\"overlay\",\"size\":10,\"solidity\":0.2}},\"type\":\"bar\"}],\"carpet\":[{\"aaxis\":{\"endlinecolor\":\"rgb(36,36,36)\",\"gridcolor\":\"white\",\"linecolor\":\"white\",\"minorgridcolor\":\"white\",\"startlinecolor\":\"rgb(36,36,36)\"},\"baxis\":{\"endlinecolor\":\"rgb(36,36,36)\",\"gridcolor\":\"white\",\"linecolor\":\"white\",\"minorgridcolor\":\"white\",\"startlinecolor\":\"rgb(36,36,36)\"},\"type\":\"carpet\"}],\"choropleth\":[{\"colorbar\":{\"outlinewidth\":1,\"tickcolor\":\"rgb(36,36,36)\",\"ticks\":\"outside\"},\"type\":\"choropleth\"}],\"contourcarpet\":[{\"colorbar\":{\"outlinewidth\":1,\"tickcolor\":\"rgb(36,36,36)\",\"ticks\":\"outside\"},\"type\":\"contourcarpet\"}],\"contour\":[{\"colorbar\":{\"outlinewidth\":1,\"tickcolor\":\"rgb(36,36,36)\",\"ticks\":\"outside\"},\"colorscale\":[[0.0,\"#440154\"],[0.1111111111111111,\"#482878\"],[0.2222222222222222,\"#3e4989\"],[0.3333333333333333,\"#31688e\"],[0.4444444444444444,\"#26828e\"],[0.5555555555555556,\"#1f9e89\"],[0.6666666666666666,\"#35b779\"],[0.7777777777777778,\"#6ece58\"],[0.8888888888888888,\"#b5de2b\"],[1.0,\"#fde725\"]],\"type\":\"contour\"}],\"heatmapgl\":[{\"colorbar\":{\"outlinewidth\":1,\"tickcolor\":\"rgb(36,36,36)\",\"ticks\":\"outside\"},\"colorscale\":[[0.0,\"#440154\"],[0.1111111111111111,\"#482878\"],[0.2222222222222222,\"#3e4989\"],[0.3333333333333333,\"#31688e\"],[0.4444444444444444,\"#26828e\"],[0.5555555555555556,\"#1f9e89\"],[0.6666666666666666,\"#35b779\"],[0.7777777777777778,\"#6ece58\"],[0.8888888888888888,\"#b5de2b\"],[1.0,\"#fde725\"]],\"type\":\"heatmapgl\"}],\"heatmap\":[{\"colorbar\":{\"outlinewidth\":1,\"tickcolor\":\"rgb(36,36,36)\",\"ticks\":\"outside\"},\"colorscale\":[[0.0,\"#440154\"],[0.1111111111111111,\"#482878\"],[0.2222222222222222,\"#3e4989\"],[0.3333333333333333,\"#31688e\"],[0.4444444444444444,\"#26828e\"],[0.5555555555555556,\"#1f9e89\"],[0.6666666666666666,\"#35b779\"],[0.7777777777777778,\"#6ece58\"],[0.8888888888888888,\"#b5de2b\"],[1.0,\"#fde725\"]],\"type\":\"heatmap\"}],\"histogram2dcontour\":[{\"colorbar\":{\"outlinewidth\":1,\"tickcolor\":\"rgb(36,36,36)\",\"ticks\":\"outside\"},\"colorscale\":[[0.0,\"#440154\"],[0.1111111111111111,\"#482878\"],[0.2222222222222222,\"#3e4989\"],[0.3333333333333333,\"#31688e\"],[0.4444444444444444,\"#26828e\"],[0.5555555555555556,\"#1f9e89\"],[0.6666666666666666,\"#35b779\"],[0.7777777777777778,\"#6ece58\"],[0.8888888888888888,\"#b5de2b\"],[1.0,\"#fde725\"]],\"type\":\"histogram2dcontour\"}],\"histogram2d\":[{\"colorbar\":{\"outlinewidth\":1,\"tickcolor\":\"rgb(36,36,36)\",\"ticks\":\"outside\"},\"colorscale\":[[0.0,\"#440154\"],[0.1111111111111111,\"#482878\"],[0.2222222222222222,\"#3e4989\"],[0.3333333333333333,\"#31688e\"],[0.4444444444444444,\"#26828e\"],[0.5555555555555556,\"#1f9e89\"],[0.6666666666666666,\"#35b779\"],[0.7777777777777778,\"#6ece58\"],[0.8888888888888888,\"#b5de2b\"],[1.0,\"#fde725\"]],\"type\":\"histogram2d\"}],\"histogram\":[{\"marker\":{\"line\":{\"color\":\"white\",\"width\":0.6}},\"type\":\"histogram\"}],\"mesh3d\":[{\"colorbar\":{\"outlinewidth\":1,\"tickcolor\":\"rgb(36,36,36)\",\"ticks\":\"outside\"},\"type\":\"mesh3d\"}],\"parcoords\":[{\"line\":{\"colorbar\":{\"outlinewidth\":1,\"tickcolor\":\"rgb(36,36,36)\",\"ticks\":\"outside\"}},\"type\":\"parcoords\"}],\"pie\":[{\"automargin\":true,\"type\":\"pie\"}],\"scatter3d\":[{\"line\":{\"colorbar\":{\"outlinewidth\":1,\"tickcolor\":\"rgb(36,36,36)\",\"ticks\":\"outside\"}},\"marker\":{\"colorbar\":{\"outlinewidth\":1,\"tickcolor\":\"rgb(36,36,36)\",\"ticks\":\"outside\"}},\"type\":\"scatter3d\"}],\"scattercarpet\":[{\"marker\":{\"colorbar\":{\"outlinewidth\":1,\"tickcolor\":\"rgb(36,36,36)\",\"ticks\":\"outside\"}},\"type\":\"scattercarpet\"}],\"scattergeo\":[{\"marker\":{\"colorbar\":{\"outlinewidth\":1,\"tickcolor\":\"rgb(36,36,36)\",\"ticks\":\"outside\"}},\"type\":\"scattergeo\"}],\"scattergl\":[{\"marker\":{\"colorbar\":{\"outlinewidth\":1,\"tickcolor\":\"rgb(36,36,36)\",\"ticks\":\"outside\"}},\"type\":\"scattergl\"}],\"scattermapbox\":[{\"marker\":{\"colorbar\":{\"outlinewidth\":1,\"tickcolor\":\"rgb(36,36,36)\",\"ticks\":\"outside\"}},\"type\":\"scattermapbox\"}],\"scatterpolargl\":[{\"marker\":{\"colorbar\":{\"outlinewidth\":1,\"tickcolor\":\"rgb(36,36,36)\",\"ticks\":\"outside\"}},\"type\":\"scatterpolargl\"}],\"scatterpolar\":[{\"marker\":{\"colorbar\":{\"outlinewidth\":1,\"tickcolor\":\"rgb(36,36,36)\",\"ticks\":\"outside\"}},\"type\":\"scatterpolar\"}],\"scatter\":[{\"fillpattern\":{\"fillmode\":\"overlay\",\"size\":10,\"solidity\":0.2},\"type\":\"scatter\"}],\"scatterternary\":[{\"marker\":{\"colorbar\":{\"outlinewidth\":1,\"tickcolor\":\"rgb(36,36,36)\",\"ticks\":\"outside\"}},\"type\":\"scatterternary\"}],\"surface\":[{\"colorbar\":{\"outlinewidth\":1,\"tickcolor\":\"rgb(36,36,36)\",\"ticks\":\"outside\"},\"colorscale\":[[0.0,\"#440154\"],[0.1111111111111111,\"#482878\"],[0.2222222222222222,\"#3e4989\"],[0.3333333333333333,\"#31688e\"],[0.4444444444444444,\"#26828e\"],[0.5555555555555556,\"#1f9e89\"],[0.6666666666666666,\"#35b779\"],[0.7777777777777778,\"#6ece58\"],[0.8888888888888888,\"#b5de2b\"],[1.0,\"#fde725\"]],\"type\":\"surface\"}],\"table\":[{\"cells\":{\"fill\":{\"color\":\"rgb(237,237,237)\"},\"line\":{\"color\":\"white\"}},\"header\":{\"fill\":{\"color\":\"rgb(217,217,217)\"},\"line\":{\"color\":\"white\"}},\"type\":\"table\"}]},\"layout\":{\"annotationdefaults\":{\"arrowhead\":0,\"arrowwidth\":1},\"autotypenumbers\":\"strict\",\"coloraxis\":{\"colorbar\":{\"outlinewidth\":1,\"tickcolor\":\"rgb(36,36,36)\",\"ticks\":\"outside\"}},\"colorscale\":{\"diverging\":[[0.0,\"rgb(103,0,31)\"],[0.1,\"rgb(178,24,43)\"],[0.2,\"rgb(214,96,77)\"],[0.3,\"rgb(244,165,130)\"],[0.4,\"rgb(253,219,199)\"],[0.5,\"rgb(247,247,247)\"],[0.6,\"rgb(209,229,240)\"],[0.7,\"rgb(146,197,222)\"],[0.8,\"rgb(67,147,195)\"],[0.9,\"rgb(33,102,172)\"],[1.0,\"rgb(5,48,97)\"]],\"sequential\":[[0.0,\"#440154\"],[0.1111111111111111,\"#482878\"],[0.2222222222222222,\"#3e4989\"],[0.3333333333333333,\"#31688e\"],[0.4444444444444444,\"#26828e\"],[0.5555555555555556,\"#1f9e89\"],[0.6666666666666666,\"#35b779\"],[0.7777777777777778,\"#6ece58\"],[0.8888888888888888,\"#b5de2b\"],[1.0,\"#fde725\"]],\"sequentialminus\":[[0.0,\"#440154\"],[0.1111111111111111,\"#482878\"],[0.2222222222222222,\"#3e4989\"],[0.3333333333333333,\"#31688e\"],[0.4444444444444444,\"#26828e\"],[0.5555555555555556,\"#1f9e89\"],[0.6666666666666666,\"#35b779\"],[0.7777777777777778,\"#6ece58\"],[0.8888888888888888,\"#b5de2b\"],[1.0,\"#fde725\"]]},\"colorway\":[\"#91268F\",\"#8CC63E\",\"#00A7A0\",\"#F05A28\",\"#4C4C4C\",\"#630460\",\"#9f3913\",\"#588527\",\"#00716c\",\"#3e4040\"],\"font\":{\"color\":\"rgb(36,36,36)\",\"family\":\"Poppins\",\"size\":11},\"geo\":{\"bgcolor\":\"white\",\"lakecolor\":\"white\",\"landcolor\":\"white\",\"showlakes\":true,\"showland\":true,\"subunitcolor\":\"white\"},\"hoverlabel\":{\"align\":\"left\"},\"hovermode\":\"closest\",\"mapbox\":{\"style\":\"light\"},\"paper_bgcolor\":\"white\",\"plot_bgcolor\":\"white\",\"polar\":{\"angularaxis\":{\"gridcolor\":\"rgb(232,232,232)\",\"linecolor\":\"rgb(36,36,36)\",\"showgrid\":false,\"showline\":true,\"ticks\":\"outside\"},\"bgcolor\":\"white\",\"radialaxis\":{\"gridcolor\":\"rgb(232,232,232)\",\"linecolor\":\"rgb(36,36,36)\",\"showgrid\":false,\"showline\":true,\"ticks\":\"outside\"}},\"scene\":{\"xaxis\":{\"backgroundcolor\":\"white\",\"gridcolor\":\"rgb(232,232,232)\",\"gridwidth\":2,\"linecolor\":\"rgb(36,36,36)\",\"showbackground\":true,\"showgrid\":false,\"showline\":true,\"ticks\":\"outside\",\"zeroline\":false,\"zerolinecolor\":\"rgb(36,36,36)\"},\"yaxis\":{\"backgroundcolor\":\"white\",\"gridcolor\":\"rgb(232,232,232)\",\"gridwidth\":2,\"linecolor\":\"rgb(36,36,36)\",\"showbackground\":true,\"showgrid\":false,\"showline\":true,\"ticks\":\"outside\",\"zeroline\":false,\"zerolinecolor\":\"rgb(36,36,36)\"},\"zaxis\":{\"backgroundcolor\":\"white\",\"gridcolor\":\"rgb(232,232,232)\",\"gridwidth\":2,\"linecolor\":\"rgb(36,36,36)\",\"showbackground\":true,\"showgrid\":false,\"showline\":true,\"ticks\":\"outside\",\"zeroline\":false,\"zerolinecolor\":\"rgb(36,36,36)\"}},\"shapedefaults\":{\"fillcolor\":\"black\",\"line\":{\"width\":0},\"opacity\":0.3},\"ternary\":{\"aaxis\":{\"gridcolor\":\"rgb(232,232,232)\",\"linecolor\":\"rgb(36,36,36)\",\"showgrid\":false,\"showline\":true,\"ticks\":\"outside\"},\"baxis\":{\"gridcolor\":\"rgb(232,232,232)\",\"linecolor\":\"rgb(36,36,36)\",\"showgrid\":false,\"showline\":true,\"ticks\":\"outside\"},\"bgcolor\":\"white\",\"caxis\":{\"gridcolor\":\"rgb(232,232,232)\",\"linecolor\":\"rgb(36,36,36)\",\"showgrid\":false,\"showline\":true,\"ticks\":\"outside\"}},\"title\":{\"x\":0.05},\"xaxis\":{\"automargin\":true,\"gridcolor\":\"rgb(232,232,232)\",\"linecolor\":\"rgb(36,36,36)\",\"showgrid\":false,\"showline\":true,\"ticks\":\"outside\",\"title\":{\"standoff\":15},\"zeroline\":false,\"zerolinecolor\":\"rgb(36,36,36)\"},\"yaxis\":{\"automargin\":true,\"gridcolor\":\"rgb(232,232,232)\",\"linecolor\":\"rgb(36,36,36)\",\"showgrid\":false,\"showline\":true,\"ticks\":\"outside\",\"title\":{\"standoff\":15},\"zeroline\":false,\"zerolinecolor\":\"rgb(36,36,36)\"}}},\"mapbox\":{\"domain\":{\"x\":[0.0,1.0],\"y\":[0.0,1.0]},\"center\":{\"lat\":47.57905206632925,\"lon\":-122.29858109035878},\"zoom\":7,\"style\":\"carto-positron\"},\"coloraxis\":{\"colorbar\":{\"title\":{\"text\":\"Boardings\\u002fCapacity\"}},\"colorscale\":[[0.0,\"#440154\"],[0.1111111111111111,\"#482878\"],[0.2222222222222222,\"#3e4989\"],[0.3333333333333333,\"#31688e\"],[0.4444444444444444,\"#26828e\"],[0.5555555555555556,\"#1f9e89\"],[0.6666666666666666,\"#35b779\"],[0.7777777777777778,\"#6ece58\"],[0.8888888888888888,\"#b5de2b\"],[1.0,\"#fde725\"]]},\"legend\":{\"tracegroupgap\":0,\"itemsizing\":\"constant\"},\"title\":{\"text\":\"Park and Ride Usage vs Capacity\"},\"margin\":{\"r\":0,\"t\":0,\"l\":0,\"b\":0}},                        {\"responsive\": true}                    ).then(function(){\n",
       "                            \n",
       "var gd = document.getElementById('307fd552-41cd-479b-b9bb-49bf1e7963a7');\n",
       "var x = new MutationObserver(function (mutations, observer) {{\n",
       "        var display = window.getComputedStyle(gd).display;\n",
       "        if (!display || display === 'none') {{\n",
       "            console.log([gd, 'removed!']);\n",
       "            Plotly.purge(gd);\n",
       "            observer.disconnect();\n",
       "        }}\n",
       "}});\n",
       "\n",
       "// Listen for the removal of the full notebook cells\n",
       "var notebookContainer = gd.closest('#notebook-container');\n",
       "if (notebookContainer) {{\n",
       "    x.observe(notebookContainer, {childList: true});\n",
       "}}\n",
       "\n",
       "// Listen for the clearing of the current output cell\n",
       "var outputEl = gd.closest('.output');\n",
       "if (outputEl) {{\n",
       "    x.observe(outputEl, {childList: true});\n",
       "}}\n",
       "\n",
       "                        })                };                });            </script>        </div>"
      ]
     },
     "metadata": {},
     "output_type": "display_data"
    }
   ],
   "source": [
    "\n",
    "fig = px.scatter_mapbox(gdf, lat=gdf.geometry.y, lon=gdf.geometry.x, color='Boardings/Capacity', \n",
    "                        size='Boardings/Capacity', hover_data=['taz','Model Boardings', 'Capacity'], \n",
    "                        title='Park and Ride Usage vs Capacity', zoom=7)\n",
    "fig.update_layout(mapbox_style=\"carto-positron\")\n",
    "fig.update_layout(margin={\"r\":0,\"t\":0,\"l\":0,\"b\":0})\n",
    "\n",
    "fig.show()"
   ]
  },
  {
   "cell_type": "code",
   "execution_count": null,
   "id": "8eefc4c8",
   "metadata": {},
   "outputs": [],
   "source": []
  }
 ],
 "metadata": {
  "kernelspec": {
   "display_name": "summary",
   "language": "python",
   "name": "python3"
  },
  "language_info": {
   "codemirror_mode": {
    "name": "ipython",
    "version": 3
   },
   "file_extension": ".py",
   "mimetype": "text/x-python",
   "name": "python",
   "nbconvert_exporter": "python",
   "pygments_lexer": "ipython3",
   "version": "3.7.10"
  }
 },
 "nbformat": 4,
 "nbformat_minor": 5
}
