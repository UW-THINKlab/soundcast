{
 "cells": [
  {
   "cell_type": "raw",
   "id": "48597e7e80043434",
   "metadata": {},
   "source": [
    "---\n",
    "title: \"Transit Summary\"\n",
    "date: today\n",
    "---"
   ]
  },
  {
   "cell_type": "code",
   "execution_count": 1,
   "id": "3c1a81e12086b602",
   "metadata": {
    "ExecuteTime": {
     "end_time": "2024-06-24T20:05:20.341638Z",
     "start_time": "2024-06-24T20:05:20.232835Z"
    },
    "execution": {
     "iopub.execute_input": "2024-12-14T02:38:34.166778Z",
     "iopub.status.busy": "2024-12-14T02:38:34.164783Z",
     "iopub.status.idle": "2024-12-14T02:38:39.675438Z",
     "shell.execute_reply": "2024-12-14T02:38:39.673933Z"
    }
   },
   "outputs": [],
   "source": [
    "import os\n",
    "import pandas as pd\n",
    "import numpy as np\n",
    "from sqlalchemy import create_engine,text\n",
    "from scipy import stats\n",
    "import plotly.express as px\n",
    "import toml\n",
    "import psrc_theme\n",
    "import geopandas as gpd\n",
    "import plotly.express as px\n",
    "\n",
    "%matplotlib inline\n",
    "from IPython.display import display, HTML\n",
    "\n",
    "# to show plotly figures in quarto HTML file\n",
    "import plotly.io as pio\n",
    "pio.renderers.default = \"plotly_mimetype+notebook_connected\"\n",
    "pio.templates.default = \"simple_white+psrc_color\" # set plotly template\n",
    "\n",
    "input_config = toml.load(os.path.join(os.getcwd(), '..\\\\..\\\\..\\\\..\\\\configuration', 'input_configuration.toml'))\n",
    "valid_config = toml.load(os.path.join(os.getcwd(), '..\\\\..\\\\..\\\\..\\\\configuration', 'validation_configuration.toml'))\n",
    "\n",
    "# create connection\n",
    "conn = create_engine('sqlite:///../../../../inputs/db/'+input_config['db_name'])\n",
    "\n",
    "# summary data location\n",
    "csv_path = os.path.join(valid_config['model_dir'], 'outputs/validation')\n",
    "\n",
    "# table format\n",
    "pd.options.display.float_format = '{:0,.2f}'.format\n",
    "format_percent = \"{:,.2%}\".format"
   ]
  },
  {
   "cell_type": "markdown",
   "id": "b00095bdf12d94c3",
   "metadata": {},
   "source": [
    "## transit boarding"
   ]
  },
  {
   "cell_type": "markdown",
   "id": "5580f8d3",
   "metadata": {},
   "source": [
    "### boarding by mode"
   ]
  },
  {
   "cell_type": "raw",
   "id": "62368037",
   "metadata": {
    "vscode": {
     "languageId": "raw"
    }
   },
   "source": [
    ":::{.panel-tabset}\n",
    "#### 2023"
   ]
  },
  {
   "cell_type": "code",
   "execution_count": 2,
   "id": "0fa5b4c7",
   "metadata": {
    "execution": {
     "iopub.execute_input": "2024-12-14T02:38:39.688403Z",
     "iopub.status.busy": "2024-12-14T02:38:39.686408Z",
     "iopub.status.idle": "2024-12-14T02:38:39.797541Z",
     "shell.execute_reply": "2024-12-14T02:38:39.796037Z"
    }
   },
   "outputs": [
    {
     "data": {
      "text/html": [
       "<div>\n",
       "<style scoped>\n",
       "    .dataframe tbody tr th:only-of-type {\n",
       "        vertical-align: middle;\n",
       "    }\n",
       "\n",
       "    .dataframe tbody tr th {\n",
       "        vertical-align: top;\n",
       "    }\n",
       "\n",
       "    .dataframe thead th {\n",
       "        text-align: right;\n",
       "    }\n",
       "</style>\n",
       "<table border=\"1\" class=\"dataframe\">\n",
       "  <thead>\n",
       "    <tr style=\"text-align: right;\">\n",
       "      <th></th>\n",
       "      <th>index</th>\n",
       "      <th>mode</th>\n",
       "      <th>observed_boardings</th>\n",
       "      <th>model_boardings</th>\n",
       "      <th>diff</th>\n",
       "      <th>perc_diff</th>\n",
       "    </tr>\n",
       "  </thead>\n",
       "  <tbody>\n",
       "    <tr>\n",
       "      <th>0</th>\n",
       "      <td>0</td>\n",
       "      <td>b</td>\n",
       "      <td>332,640.45</td>\n",
       "      <td>359,711.97</td>\n",
       "      <td>27,071.52</td>\n",
       "      <td>8.14%</td>\n",
       "    </tr>\n",
       "    <tr>\n",
       "      <th>1</th>\n",
       "      <td>4</td>\n",
       "      <td>r</td>\n",
       "      <td>81,991.16</td>\n",
       "      <td>84,296.68</td>\n",
       "      <td>2,305.52</td>\n",
       "      <td>2.81%</td>\n",
       "    </tr>\n",
       "    <tr>\n",
       "      <th>2</th>\n",
       "      <td>2</td>\n",
       "      <td>f</td>\n",
       "      <td>11,349.85</td>\n",
       "      <td>9,448.84</td>\n",
       "      <td>-1,901.01</td>\n",
       "      <td>-16.75%</td>\n",
       "    </tr>\n",
       "    <tr>\n",
       "      <th>3</th>\n",
       "      <td>1</td>\n",
       "      <td>c</td>\n",
       "      <td>6,354.00</td>\n",
       "      <td>6,616.13</td>\n",
       "      <td>262.13</td>\n",
       "      <td>4.13%</td>\n",
       "    </tr>\n",
       "    <tr>\n",
       "      <th>4</th>\n",
       "      <td>3</td>\n",
       "      <td>p</td>\n",
       "      <td>3,235.36</td>\n",
       "      <td>3,080.52</td>\n",
       "      <td>-154.84</td>\n",
       "      <td>-4.79%</td>\n",
       "    </tr>\n",
       "    <tr>\n",
       "      <th>5</th>\n",
       "      <td>Total</td>\n",
       "      <td>Total</td>\n",
       "      <td>435,570.83</td>\n",
       "      <td>463,154.14</td>\n",
       "      <td>27,583.32</td>\n",
       "      <td>6.33%</td>\n",
       "    </tr>\n",
       "  </tbody>\n",
       "</table>\n",
       "</div>"
      ],
      "text/plain": [
       "   index   mode  observed_boardings  model_boardings      diff perc_diff\n",
       "0      0      b          332,640.45       359,711.97 27,071.52     8.14%\n",
       "1      4      r           81,991.16        84,296.68  2,305.52     2.81%\n",
       "2      2      f           11,349.85         9,448.84 -1,901.01   -16.75%\n",
       "3      1      c            6,354.00         6,616.13    262.13     4.13%\n",
       "4      3      p            3,235.36         3,080.52   -154.84    -4.79%\n",
       "5  Total  Total          435,570.83       463,154.14 27,583.32     6.33%"
      ]
     },
     "execution_count": 2,
     "metadata": {},
     "output_type": "execute_result"
    }
   ],
   "source": [
    "df = pd.read_csv(os.path.join(csv_path, 'daily_boardings_by_mode.csv')).sort_values('observed_boardings', ascending=False)\n",
    "table_df = df.copy()\n",
    "\n",
    "table_df.loc['Total','observed_boardings'] = table_df['observed_boardings'].sum(axis=0)\n",
    "table_df.loc['Total','model_boardings'] = table_df['model_boardings'].sum(axis=0)\n",
    "table_df.loc['Total','mode'] = 'Total'\n",
    "table_df['diff'] = table_df['model_boardings']-table_df['observed_boardings']\n",
    "table_df['perc_diff'] = table_df['diff']/table_df['observed_boardings']\n",
    "table_df[['observed_boardings','model_boardings','diff']] = table_df[['observed_boardings','model_boardings','diff']].astype('float')\n",
    "table_df[['perc_diff']] = table_df[['perc_diff']].applymap(format_percent)\n",
    "table_df = table_df.reset_index()\n",
    "table_df"
   ]
  },
  {
   "cell_type": "raw",
   "id": "0a51c67a",
   "metadata": {
    "vscode": {
     "languageId": "raw"
    }
   },
   "source": [
    "#### 2023/2024 Link Red Line and Sounder"
   ]
  },
  {
   "cell_type": "code",
   "execution_count": 3,
   "id": "108fbc11",
   "metadata": {
    "execution": {
     "iopub.execute_input": "2024-12-14T02:38:39.809509Z",
     "iopub.status.busy": "2024-12-14T02:38:39.808512Z",
     "iopub.status.idle": "2024-12-14T02:38:39.939511Z",
     "shell.execute_reply": "2024-12-14T02:38:39.936874Z"
    }
   },
   "outputs": [
    {
     "data": {
      "text/html": [
       "<div>\n",
       "<style scoped>\n",
       "    .dataframe tbody tr th:only-of-type {\n",
       "        vertical-align: middle;\n",
       "    }\n",
       "\n",
       "    .dataframe tbody tr th {\n",
       "        vertical-align: top;\n",
       "    }\n",
       "\n",
       "    .dataframe thead th {\n",
       "        text-align: right;\n",
       "    }\n",
       "</style>\n",
       "<table border=\"1\" class=\"dataframe\">\n",
       "  <thead>\n",
       "    <tr style=\"text-align: right;\">\n",
       "      <th></th>\n",
       "      <th>submode</th>\n",
       "      <th>2023 boarding</th>\n",
       "      <th>2024 boarding</th>\n",
       "      <th>model_boardings</th>\n",
       "      <th>2023 % diff</th>\n",
       "      <th>2024 % diff</th>\n",
       "    </tr>\n",
       "  </thead>\n",
       "  <tbody>\n",
       "    <tr>\n",
       "      <th>0</th>\n",
       "      <td>Link Red Line</td>\n",
       "      <td>78,765.00</td>\n",
       "      <td>91,203.00</td>\n",
       "      <td>80,873.68</td>\n",
       "      <td>2.68%</td>\n",
       "      <td>-11.33%</td>\n",
       "    </tr>\n",
       "    <tr>\n",
       "      <th>1</th>\n",
       "      <td>Sounder</td>\n",
       "      <td>6,765.00</td>\n",
       "      <td>7,711.00</td>\n",
       "      <td>6,616.13</td>\n",
       "      <td>-2.20%</td>\n",
       "      <td>-14.20%</td>\n",
       "    </tr>\n",
       "  </tbody>\n",
       "</table>\n",
       "</div>"
      ],
      "text/plain": [
       "         submode  2023 boarding  2024 boarding  model_boardings 2023 % diff  \\\n",
       "0  Link Red Line      78,765.00      91,203.00        80,873.68       2.68%   \n",
       "1        Sounder       6,765.00       7,711.00         6,616.13      -2.20%   \n",
       "\n",
       "  2024 % diff  \n",
       "0     -11.33%  \n",
       "1     -14.20%  "
      ]
     },
     "execution_count": 3,
     "metadata": {},
     "output_type": "execute_result"
    }
   ],
   "source": [
    "df_boarding_line = pd.read_csv(os.path.join(csv_path,'daily_boardings_by_line.csv'), index_col='description')\n",
    "df_boarding_line[['observed_boardings','model_boardings']] = df_boarding_line[['observed_boardings','model_boardings']].astype('float')\n",
    "\n",
    "df_mode = df_boarding_line[df_boarding_line['route_code'].isin([6996,6999,6998])].reset_index()\n",
    "\n",
    "df_mode['submode'] = df_mode['mode'].map({\"r\": \"Link Red Line\", \"c\": \"Sounder\"})\n",
    "df_mode = df_mode[['submode','model_boardings']].copy()\n",
    "df_mode = df_mode.groupby('submode')['model_boardings'].sum().reset_index()\n",
    "\n",
    "df_obs = pd.read_sql(text(\"SELECT * FROM observed_transit_agency_boardings\"), con=conn.connect())\n",
    "df_obs_mode = df_obs.copy()\n",
    "df_obs_mode['boardings'] = df_obs_mode['boardings'].astype(float)\n",
    "df_obs_mode = df_obs_mode[df_obs_mode['submode'].isin([\"Link\",\"Sounder\"])].copy()\n",
    "df_obs_mode['submode'] = df_obs_mode['submode'].map({\"Link\": \"Link Red Line\", \"Sounder\": \"Sounder\"})\n",
    "\n",
    "df_obs_mode = df_obs_mode.groupby(['submode','year'])['boardings'].sum().unstack().reset_index()\n",
    "df_obs_mode = df_obs_mode.rename(columns={2023:'2023 boarding', 2024:'2024 boarding'})\n",
    "df_mode = df_obs_mode.merge(df_mode, on='submode')\n",
    "\n",
    "df_mode['2023 % diff'] = (df_mode['model_boardings']-df_mode['2023 boarding'])/df_mode['2023 boarding']\n",
    "df_mode['2024 % diff'] = (df_mode['model_boardings']-df_mode['2024 boarding'])/df_mode['2024 boarding']\n",
    "df_mode[['2023 % diff']] = df_mode[['2023 % diff']].applymap(format_percent)\n",
    "df_mode[['2024 % diff']] = df_mode[['2024 % diff']].applymap(format_percent)\n",
    "\n",
    "df_mode"
   ]
  },
  {
   "cell_type": "raw",
   "id": "119f4510",
   "metadata": {
    "vscode": {
     "languageId": "raw"
    }
   },
   "source": [
    ":::"
   ]
  },
  {
   "cell_type": "markdown",
   "id": "b0eb0b3986c9d024",
   "metadata": {},
   "source": [
    "### boarding by agency"
   ]
  },
  {
   "cell_type": "raw",
   "id": "9afc046d",
   "metadata": {
    "vscode": {
     "languageId": "raw"
    }
   },
   "source": [
    ":::{.panel-tabset}\n",
    "\n",
    "#### 2023"
   ]
  },
  {
   "cell_type": "code",
   "execution_count": 4,
   "id": "daca8798e4e1c396",
   "metadata": {
    "ExecuteTime": {
     "end_time": "2024-06-24T20:04:29.076584Z",
     "start_time": "2024-06-24T20:04:29.029595Z"
    },
    "execution": {
     "iopub.execute_input": "2024-12-14T02:38:39.952038Z",
     "iopub.status.busy": "2024-12-14T02:38:39.950043Z",
     "iopub.status.idle": "2024-12-14T02:38:40.002253Z",
     "shell.execute_reply": "2024-12-14T02:38:39.999910Z"
    }
   },
   "outputs": [],
   "source": [
    "df = pd.read_csv(os.path.join(csv_path, 'daily_boardings_by_agency.csv')).sort_values('observed_boardings', ascending=False)\n",
    "plot_df = df.melt(id_vars=['agency'], value_vars=['observed_boardings', 'model_boardings'],\n",
    "                  var_name='source', value_name='count')"
   ]
  },
  {
   "cell_type": "code",
   "execution_count": 5,
   "id": "4f0d5527b7528301",
   "metadata": {
    "ExecuteTime": {
     "end_time": "2024-06-24T20:05:24.997972Z",
     "start_time": "2024-06-24T20:05:24.956972Z"
    },
    "execution": {
     "iopub.execute_input": "2024-12-14T02:38:40.013704Z",
     "iopub.status.busy": "2024-12-14T02:38:40.011713Z",
     "iopub.status.idle": "2024-12-14T02:38:40.079147Z",
     "shell.execute_reply": "2024-12-14T02:38:40.077153Z"
    }
   },
   "outputs": [
    {
     "data": {
      "text/html": [
       "<div>\n",
       "<style scoped>\n",
       "    .dataframe tbody tr th:only-of-type {\n",
       "        vertical-align: middle;\n",
       "    }\n",
       "\n",
       "    .dataframe tbody tr th {\n",
       "        vertical-align: top;\n",
       "    }\n",
       "\n",
       "    .dataframe thead th {\n",
       "        text-align: right;\n",
       "    }\n",
       "</style>\n",
       "<table border=\"1\" class=\"dataframe\">\n",
       "  <thead>\n",
       "    <tr style=\"text-align: right;\">\n",
       "      <th></th>\n",
       "      <th>index</th>\n",
       "      <th>agency</th>\n",
       "      <th>observed_boardings</th>\n",
       "      <th>model_boardings</th>\n",
       "      <th>diff</th>\n",
       "      <th>perc_diff</th>\n",
       "    </tr>\n",
       "  </thead>\n",
       "  <tbody>\n",
       "    <tr>\n",
       "      <th>0</th>\n",
       "      <td>2</td>\n",
       "      <td>King County Metro</td>\n",
       "      <td>253,313.62</td>\n",
       "      <td>268,972.02</td>\n",
       "      <td>15,658.40</td>\n",
       "      <td>6.18%</td>\n",
       "    </tr>\n",
       "    <tr>\n",
       "      <th>1</th>\n",
       "      <td>5</td>\n",
       "      <td>Sound Transit</td>\n",
       "      <td>113,374.00</td>\n",
       "      <td>130,985.30</td>\n",
       "      <td>17,611.30</td>\n",
       "      <td>15.53%</td>\n",
       "    </tr>\n",
       "    <tr>\n",
       "      <th>2</th>\n",
       "      <td>0</td>\n",
       "      <td>Community Transit</td>\n",
       "      <td>25,962.00</td>\n",
       "      <td>27,417.22</td>\n",
       "      <td>1,455.22</td>\n",
       "      <td>5.61%</td>\n",
       "    </tr>\n",
       "    <tr>\n",
       "      <th>3</th>\n",
       "      <td>4</td>\n",
       "      <td>Pierce Transit</td>\n",
       "      <td>21,185.00</td>\n",
       "      <td>13,686.56</td>\n",
       "      <td>-7,498.44</td>\n",
       "      <td>-35.40%</td>\n",
       "    </tr>\n",
       "    <tr>\n",
       "      <th>4</th>\n",
       "      <td>6</td>\n",
       "      <td>Washington Ferries</td>\n",
       "      <td>9,278.21</td>\n",
       "      <td>5,868.09</td>\n",
       "      <td>-3,410.12</td>\n",
       "      <td>-36.75%</td>\n",
       "    </tr>\n",
       "    <tr>\n",
       "      <th>5</th>\n",
       "      <td>3</td>\n",
       "      <td>Kitsap Transit</td>\n",
       "      <td>8,258.00</td>\n",
       "      <td>11,539.98</td>\n",
       "      <td>3,281.98</td>\n",
       "      <td>39.74%</td>\n",
       "    </tr>\n",
       "    <tr>\n",
       "      <th>6</th>\n",
       "      <td>1</td>\n",
       "      <td>Everett Transit</td>\n",
       "      <td>4,201.00</td>\n",
       "      <td>4,668.05</td>\n",
       "      <td>467.05</td>\n",
       "      <td>11.12%</td>\n",
       "    </tr>\n",
       "    <tr>\n",
       "      <th>7</th>\n",
       "      <td>Total</td>\n",
       "      <td>Total</td>\n",
       "      <td>435,571.83</td>\n",
       "      <td>463,137.23</td>\n",
       "      <td>27,565.40</td>\n",
       "      <td>6.33%</td>\n",
       "    </tr>\n",
       "  </tbody>\n",
       "</table>\n",
       "</div>"
      ],
      "text/plain": [
       "   index              agency  observed_boardings  model_boardings      diff  \\\n",
       "0      2   King County Metro          253,313.62       268,972.02 15,658.40   \n",
       "1      5       Sound Transit          113,374.00       130,985.30 17,611.30   \n",
       "2      0   Community Transit           25,962.00        27,417.22  1,455.22   \n",
       "3      4      Pierce Transit           21,185.00        13,686.56 -7,498.44   \n",
       "4      6  Washington Ferries            9,278.21         5,868.09 -3,410.12   \n",
       "5      3      Kitsap Transit            8,258.00        11,539.98  3,281.98   \n",
       "6      1     Everett Transit            4,201.00         4,668.05    467.05   \n",
       "7  Total               Total          435,571.83       463,137.23 27,565.40   \n",
       "\n",
       "  perc_diff  \n",
       "0     6.18%  \n",
       "1    15.53%  \n",
       "2     5.61%  \n",
       "3   -35.40%  \n",
       "4   -36.75%  \n",
       "5    39.74%  \n",
       "6    11.12%  \n",
       "7     6.33%  "
      ]
     },
     "execution_count": 5,
     "metadata": {},
     "output_type": "execute_result"
    }
   ],
   "source": [
    "table_df = df.copy()\n",
    "\n",
    "table_df.loc['Total','observed_boardings'] = table_df.sum(axis=0).observed_boardings\n",
    "table_df.loc['Total','model_boardings'] = table_df.sum(axis=0).model_boardings\n",
    "table_df.loc['Total','agency'] = 'Total'\n",
    "table_df['diff'] = table_df['model_boardings']-table_df['observed_boardings']\n",
    "table_df['perc_diff'] = table_df['diff']/table_df['observed_boardings']\n",
    "table_df[['observed_boardings','model_boardings','diff']] = table_df[['observed_boardings','model_boardings','diff']].astype('float')\n",
    "table_df[['perc_diff']] = table_df[['perc_diff']].applymap(format_percent)\n",
    "table_df = table_df.reset_index()\n",
    "table_df"
   ]
  },
  {
   "cell_type": "raw",
   "id": "c43063a0",
   "metadata": {
    "vscode": {
     "languageId": "raw"
    }
   },
   "source": [
    "#### 2023/2024"
   ]
  },
  {
   "cell_type": "code",
   "execution_count": 6,
   "id": "6df663cd30d914ea",
   "metadata": {
    "ExecuteTime": {
     "end_time": "2024-06-24T17:50:27.521549Z",
     "start_time": "2024-06-24T17:50:27.349538Z"
    },
    "execution": {
     "iopub.execute_input": "2024-12-14T02:38:40.091115Z",
     "iopub.status.busy": "2024-12-14T02:38:40.090118Z",
     "iopub.status.idle": "2024-12-14T02:38:40.156559Z",
     "shell.execute_reply": "2024-12-14T02:38:40.154564Z"
    }
   },
   "outputs": [
    {
     "data": {
      "text/html": [
       "<div>\n",
       "<style scoped>\n",
       "    .dataframe tbody tr th:only-of-type {\n",
       "        vertical-align: middle;\n",
       "    }\n",
       "\n",
       "    .dataframe tbody tr th {\n",
       "        vertical-align: top;\n",
       "    }\n",
       "\n",
       "    .dataframe thead th {\n",
       "        text-align: right;\n",
       "    }\n",
       "</style>\n",
       "<table border=\"1\" class=\"dataframe\">\n",
       "  <thead>\n",
       "    <tr style=\"text-align: right;\">\n",
       "      <th></th>\n",
       "      <th>agency</th>\n",
       "      <th>2023 boarding</th>\n",
       "      <th>2024 boarding</th>\n",
       "      <th>model_boardings</th>\n",
       "      <th>2023 % diff</th>\n",
       "      <th>2024 % diff</th>\n",
       "    </tr>\n",
       "  </thead>\n",
       "  <tbody>\n",
       "    <tr>\n",
       "      <th>0</th>\n",
       "      <td>Community Transit</td>\n",
       "      <td>23,000.00</td>\n",
       "      <td>0.00</td>\n",
       "      <td>27,417.22</td>\n",
       "      <td>19.21%</td>\n",
       "      <td>-</td>\n",
       "    </tr>\n",
       "    <tr>\n",
       "      <th>1</th>\n",
       "      <td>Everett Transit</td>\n",
       "      <td>0.00</td>\n",
       "      <td>0.00</td>\n",
       "      <td>4,668.05</td>\n",
       "      <td>-</td>\n",
       "      <td>-</td>\n",
       "    </tr>\n",
       "    <tr>\n",
       "      <th>2</th>\n",
       "      <td>King County Metro</td>\n",
       "      <td>244,306.00</td>\n",
       "      <td>272,556.00</td>\n",
       "      <td>268,972.02</td>\n",
       "      <td>10.10%</td>\n",
       "      <td>-1.31%</td>\n",
       "    </tr>\n",
       "    <tr>\n",
       "      <th>3</th>\n",
       "      <td>Kitsap Transit</td>\n",
       "      <td>8,000.00</td>\n",
       "      <td>9,300.00</td>\n",
       "      <td>11,539.98</td>\n",
       "      <td>44.25%</td>\n",
       "      <td>24.09%</td>\n",
       "    </tr>\n",
       "    <tr>\n",
       "      <th>4</th>\n",
       "      <td>Pierce Transit</td>\n",
       "      <td>19,974.00</td>\n",
       "      <td>0.00</td>\n",
       "      <td>13,686.56</td>\n",
       "      <td>-31.48%</td>\n",
       "      <td>-</td>\n",
       "    </tr>\n",
       "    <tr>\n",
       "      <th>5</th>\n",
       "      <td>Sound Transit</td>\n",
       "      <td>115,516.00</td>\n",
       "      <td>133,703.00</td>\n",
       "      <td>130,985.30</td>\n",
       "      <td>13.39%</td>\n",
       "      <td>-2.03%</td>\n",
       "    </tr>\n",
       "    <tr>\n",
       "      <th>6</th>\n",
       "      <td>Washington Ferries</td>\n",
       "      <td>0.00</td>\n",
       "      <td>0.00</td>\n",
       "      <td>5,868.09</td>\n",
       "      <td>-</td>\n",
       "      <td>-</td>\n",
       "    </tr>\n",
       "  </tbody>\n",
       "</table>\n",
       "</div>"
      ],
      "text/plain": [
       "               agency  2023 boarding  2024 boarding  model_boardings  \\\n",
       "0   Community Transit      23,000.00           0.00        27,417.22   \n",
       "1     Everett Transit           0.00           0.00         4,668.05   \n",
       "2   King County Metro     244,306.00     272,556.00       268,972.02   \n",
       "3      Kitsap Transit       8,000.00       9,300.00        11,539.98   \n",
       "4      Pierce Transit      19,974.00           0.00        13,686.56   \n",
       "5       Sound Transit     115,516.00     133,703.00       130,985.30   \n",
       "6  Washington Ferries           0.00           0.00         5,868.09   \n",
       "\n",
       "  2023 % diff 2024 % diff  \n",
       "0      19.21%           -  \n",
       "1           -           -  \n",
       "2      10.10%      -1.31%  \n",
       "3      44.25%      24.09%  \n",
       "4     -31.48%           -  \n",
       "5      13.39%      -2.03%  \n",
       "6           -           -  "
      ]
     },
     "execution_count": 6,
     "metadata": {},
     "output_type": "execute_result"
    }
   ],
   "source": [
    "df = pd.read_csv(os.path.join(csv_path, 'daily_boardings_by_agency.csv'), usecols=['agency', 'model_boardings']).sort_values('model_boardings', ascending=False)\n",
    "df_obs = pd.read_sql(text(\"SELECT * FROM observed_transit_agency_boardings\"), con=conn.connect())\n",
    "\n",
    "df_obs_agency = df_obs.copy()\n",
    "df_obs_agency['boardings'] = df_obs_agency['boardings'].astype(float)\n",
    "df_obs_agency = df_obs_agency.groupby(['agency','year'])['boardings'].sum().unstack().reset_index()\n",
    "df_obs_agency = df_obs_agency.rename(columns={2023:'2023 boarding', 2024:'2024 boarding'})\n",
    "df_agency = df_obs_agency.merge(df, on='agency')\n",
    "\n",
    "df_agency['2023 % diff'] = (df_agency['model_boardings']-df_agency['2023 boarding'])/df_agency['2023 boarding']\n",
    "df_agency['2024 % diff'] = (df_agency['model_boardings']-df_agency['2024 boarding'])/df_agency['2024 boarding']\n",
    "df_agency[['2023 % diff']] = df_agency[['2023 % diff']].applymap(format_percent)\n",
    "df_agency[['2024 % diff']] = df_agency[['2024 % diff']].applymap(format_percent)\n",
    "df_agency = df_agency.replace('inf%', '-')\n",
    "\n",
    "df_agency"
   ]
  },
  {
   "cell_type": "raw",
   "id": "b155fe89",
   "metadata": {},
   "source": [
    "#### Bus Ridership by Agency"
   ]
  },
  {
   "cell_type": "code",
   "execution_count": 7,
   "id": "843fd939",
   "metadata": {},
   "outputs": [
    {
     "data": {
      "text/html": [
       "<div>\n",
       "<style scoped>\n",
       "    .dataframe tbody tr th:only-of-type {\n",
       "        vertical-align: middle;\n",
       "    }\n",
       "\n",
       "    .dataframe tbody tr th {\n",
       "        vertical-align: top;\n",
       "    }\n",
       "\n",
       "    .dataframe thead th {\n",
       "        text-align: right;\n",
       "    }\n",
       "</style>\n",
       "<table border=\"1\" class=\"dataframe\">\n",
       "  <thead>\n",
       "    <tr style=\"text-align: right;\">\n",
       "      <th></th>\n",
       "      <th>observed_boardings</th>\n",
       "      <th>model_boardings</th>\n",
       "      <th>difference</th>\n",
       "      <th>percent diff</th>\n",
       "    </tr>\n",
       "    <tr>\n",
       "      <th>agency</th>\n",
       "      <th></th>\n",
       "      <th></th>\n",
       "      <th></th>\n",
       "      <th></th>\n",
       "    </tr>\n",
       "  </thead>\n",
       "  <tbody>\n",
       "    <tr>\n",
       "      <th>Community Transit</th>\n",
       "      <td>25,962.00</td>\n",
       "      <td>27,417.22</td>\n",
       "      <td>1,455.22</td>\n",
       "      <td>5.61%</td>\n",
       "    </tr>\n",
       "    <tr>\n",
       "      <th>Everett Transit</th>\n",
       "      <td>4,201.00</td>\n",
       "      <td>4,668.05</td>\n",
       "      <td>467.05</td>\n",
       "      <td>11.12%</td>\n",
       "    </tr>\n",
       "    <tr>\n",
       "      <th>King County Metro</th>\n",
       "      <td>251,166.45</td>\n",
       "      <td>266,509.23</td>\n",
       "      <td>15,342.77</td>\n",
       "      <td>6.11%</td>\n",
       "    </tr>\n",
       "    <tr>\n",
       "      <th>Kitsap Transit</th>\n",
       "      <td>4,048.00</td>\n",
       "      <td>5,671.26</td>\n",
       "      <td>1,623.26</td>\n",
       "      <td>40.10%</td>\n",
       "    </tr>\n",
       "    <tr>\n",
       "      <th>Pierce Transit</th>\n",
       "      <td>21,185.00</td>\n",
       "      <td>13,686.56</td>\n",
       "      <td>-7,498.44</td>\n",
       "      <td>-35.40%</td>\n",
       "    </tr>\n",
       "    <tr>\n",
       "      <th>Sound Transit</th>\n",
       "      <td>26,079.00</td>\n",
       "      <td>41,742.74</td>\n",
       "      <td>15,663.74</td>\n",
       "      <td>60.06%</td>\n",
       "    </tr>\n",
       "  </tbody>\n",
       "</table>\n",
       "</div>"
      ],
      "text/plain": [
       "                   observed_boardings  model_boardings  difference  \\\n",
       "agency                                                               \n",
       "Community Transit           25,962.00        27,417.22    1,455.22   \n",
       "Everett Transit              4,201.00         4,668.05      467.05   \n",
       "King County Metro          251,166.45       266,509.23   15,342.77   \n",
       "Kitsap Transit               4,048.00         5,671.26    1,623.26   \n",
       "Pierce Transit              21,185.00        13,686.56   -7,498.44   \n",
       "Sound Transit               26,079.00        41,742.74   15,663.74   \n",
       "\n",
       "                  percent diff  \n",
       "agency                          \n",
       "Community Transit        5.61%  \n",
       "Everett Transit         11.12%  \n",
       "King County Metro        6.11%  \n",
       "Kitsap Transit          40.10%  \n",
       "Pierce Transit         -35.40%  \n",
       "Sound Transit           60.06%  "
      ]
     },
     "execution_count": 7,
     "metadata": {},
     "output_type": "execute_result"
    }
   ],
   "source": [
    "df = pd.read_csv(os.path.join(csv_path, 'daily_boardings_by_line.csv')).sort_values('observed_boardings', ascending=False)\n",
    "df\n",
    "df = df[df['mode'].isin(['b'])]\n",
    "df = df.groupby(['agency']).sum()[['observed_boardings','model_boardings']]\n",
    "df['difference'] = df['model_boardings']-df['observed_boardings']\n",
    "df['percent diff'] = (df['difference']/df['observed_boardings'])\n",
    "df[['percent diff']] = df[['percent diff']].applymap(format_percent)\n",
    "df\n",
    "\n",
    "# table_df.loc['Total','observed_boardings'] = table_df.sum(axis=0).observed_boardings\n",
    "# table_df.loc['Total','model_boardings'] = table_df.sum(axis=0).model_boardings\n",
    "# table_df.loc['Total','agency'] = 'Total'\n",
    "# table_df['diff'] = table_df['model_boardings']-table_df['observed_boardings']\n",
    "# table_df['perc_diff'] = table_df['diff']/table_df['observed_boardings']\n",
    "# table_df[['observed_boardings','model_boardings','diff']] = table_df[['observed_boardings','model_boardings','diff']].astype('float')\n",
    "# table_df[['perc_diff']] = table_df[['perc_diff']].applymap(format_percent)\n",
    "# table_df = table_df.reset_index()\n",
    "# table_df"
   ]
  },
  {
   "cell_type": "raw",
   "id": "e64f5283",
   "metadata": {
    "vscode": {
     "languageId": "raw"
    }
   },
   "source": [
    ":::"
   ]
  },
  {
   "cell_type": "markdown",
   "id": "10436e8bdd112348",
   "metadata": {},
   "source": [
    "### boarding by key route"
   ]
  },
  {
   "cell_type": "raw",
   "id": "7d0d62e3693265f8",
   "metadata": {},
   "source": [
    ":::{.panel-tabset}\n",
    "#### ferry"
   ]
  },
  {
   "cell_type": "code",
   "execution_count": 8,
   "id": "c734c2e2",
   "metadata": {},
   "outputs": [
    {
     "data": {
      "text/html": [
       "<div>\n",
       "<style scoped>\n",
       "    .dataframe tbody tr th:only-of-type {\n",
       "        vertical-align: middle;\n",
       "    }\n",
       "\n",
       "    .dataframe tbody tr th {\n",
       "        vertical-align: top;\n",
       "    }\n",
       "\n",
       "    .dataframe thead th {\n",
       "        text-align: right;\n",
       "    }\n",
       "</style>\n",
       "<table border=\"1\" class=\"dataframe\">\n",
       "  <thead>\n",
       "    <tr style=\"text-align: right;\">\n",
       "      <th></th>\n",
       "      <th>description</th>\n",
       "      <th>mode</th>\n",
       "      <th>observed_boardings</th>\n",
       "      <th>model_boardings</th>\n",
       "      <th>diff</th>\n",
       "      <th>perc_diff</th>\n",
       "    </tr>\n",
       "  </thead>\n",
       "  <tbody>\n",
       "    <tr>\n",
       "      <th>147</th>\n",
       "      <td>973 W Sea Water Taxi</td>\n",
       "      <td>p</td>\n",
       "      <td>759.00</td>\n",
       "      <td>450.43</td>\n",
       "      <td>-308.57</td>\n",
       "      <td>-0.41</td>\n",
       "    </tr>\n",
       "    <tr>\n",
       "      <th>148</th>\n",
       "      <td>975 Vashn Water Taxi</td>\n",
       "      <td>f</td>\n",
       "      <td>338.00</td>\n",
       "      <td>342.11</td>\n",
       "      <td>4.11</td>\n",
       "      <td>0.01</td>\n",
       "    </tr>\n",
       "    <tr>\n",
       "      <th>270</th>\n",
       "      <td>Seattle-Bremerton FF</td>\n",
       "      <td>f</td>\n",
       "      <td>1,913.00</td>\n",
       "      <td>3,807.84</td>\n",
       "      <td>1,894.84</td>\n",
       "      <td>0.99</td>\n",
       "    </tr>\n",
       "    <tr>\n",
       "      <th>271</th>\n",
       "      <td>Brem-Pt Orchard FF</td>\n",
       "      <td>p</td>\n",
       "      <td>768.00</td>\n",
       "      <td>1,085.92</td>\n",
       "      <td>317.92</td>\n",
       "      <td>0.41</td>\n",
       "    </tr>\n",
       "    <tr>\n",
       "      <th>272</th>\n",
       "      <td>Brem-Annapolis FF</td>\n",
       "      <td>p</td>\n",
       "      <td>469.00</td>\n",
       "      <td>244.70</td>\n",
       "      <td>-224.30</td>\n",
       "      <td>-0.48</td>\n",
       "    </tr>\n",
       "    <tr>\n",
       "      <th>273</th>\n",
       "      <td>Seattle-Kingston FF</td>\n",
       "      <td>p</td>\n",
       "      <td>429.00</td>\n",
       "      <td>80.00</td>\n",
       "      <td>-349.00</td>\n",
       "      <td>-0.81</td>\n",
       "    </tr>\n",
       "    <tr>\n",
       "      <th>274</th>\n",
       "      <td>Seattle-Southwrth FF</td>\n",
       "      <td>f</td>\n",
       "      <td>631.00</td>\n",
       "      <td>650.27</td>\n",
       "      <td>19.27</td>\n",
       "      <td>0.03</td>\n",
       "    </tr>\n",
       "    <tr>\n",
       "      <th>278</th>\n",
       "      <td>WSF Edmonds-Kingston</td>\n",
       "      <td>f</td>\n",
       "      <td>1,500.13</td>\n",
       "      <td>186.49</td>\n",
       "      <td>-1,313.64</td>\n",
       "      <td>-0.88</td>\n",
       "    </tr>\n",
       "    <tr>\n",
       "      <th>279</th>\n",
       "      <td>WSF Seattle-Bain Isl</td>\n",
       "      <td>f</td>\n",
       "      <td>5,513.69</td>\n",
       "      <td>4,083.52</td>\n",
       "      <td>-1,430.17</td>\n",
       "      <td>-0.26</td>\n",
       "    </tr>\n",
       "    <tr>\n",
       "      <th>280</th>\n",
       "      <td>WSF Seattle-Brem</td>\n",
       "      <td>f</td>\n",
       "      <td>1,188.97</td>\n",
       "      <td>168.89</td>\n",
       "      <td>-1,020.08</td>\n",
       "      <td>-0.86</td>\n",
       "    </tr>\n",
       "    <tr>\n",
       "      <th>281</th>\n",
       "      <td>WSF Fauntleroy-Swrth</td>\n",
       "      <td>p</td>\n",
       "      <td>142.56</td>\n",
       "      <td>458.17</td>\n",
       "      <td>315.61</td>\n",
       "      <td>2.21</td>\n",
       "    </tr>\n",
       "    <tr>\n",
       "      <th>282</th>\n",
       "      <td>WSF Fauntleroy-Vashn</td>\n",
       "      <td>p</td>\n",
       "      <td>560.04</td>\n",
       "      <td>668.33</td>\n",
       "      <td>108.29</td>\n",
       "      <td>0.19</td>\n",
       "    </tr>\n",
       "    <tr>\n",
       "      <th>283</th>\n",
       "      <td>WSF Vashon-Southwrth</td>\n",
       "      <td>p</td>\n",
       "      <td>107.76</td>\n",
       "      <td>92.98</td>\n",
       "      <td>-14.78</td>\n",
       "      <td>-0.14</td>\n",
       "    </tr>\n",
       "    <tr>\n",
       "      <th>284</th>\n",
       "      <td>WSF Pt Def-Tahlequah</td>\n",
       "      <td>f</td>\n",
       "      <td>265.05</td>\n",
       "      <td>209.71</td>\n",
       "      <td>-55.34</td>\n",
       "      <td>-0.21</td>\n",
       "    </tr>\n",
       "  </tbody>\n",
       "</table>\n",
       "</div>"
      ],
      "text/plain": [
       "              description mode  observed_boardings  model_boardings      diff  \\\n",
       "147  973 W Sea Water Taxi    p              759.00           450.43   -308.57   \n",
       "148  975 Vashn Water Taxi    f              338.00           342.11      4.11   \n",
       "270  Seattle-Bremerton FF    f            1,913.00         3,807.84  1,894.84   \n",
       "271    Brem-Pt Orchard FF    p              768.00         1,085.92    317.92   \n",
       "272     Brem-Annapolis FF    p              469.00           244.70   -224.30   \n",
       "273   Seattle-Kingston FF    p              429.00            80.00   -349.00   \n",
       "274  Seattle-Southwrth FF    f              631.00           650.27     19.27   \n",
       "278  WSF Edmonds-Kingston    f            1,500.13           186.49 -1,313.64   \n",
       "279  WSF Seattle-Bain Isl    f            5,513.69         4,083.52 -1,430.17   \n",
       "280      WSF Seattle-Brem    f            1,188.97           168.89 -1,020.08   \n",
       "281  WSF Fauntleroy-Swrth    p              142.56           458.17    315.61   \n",
       "282  WSF Fauntleroy-Vashn    p              560.04           668.33    108.29   \n",
       "283  WSF Vashon-Southwrth    p              107.76            92.98    -14.78   \n",
       "284  WSF Pt Def-Tahlequah    f              265.05           209.71    -55.34   \n",
       "\n",
       "     perc_diff  \n",
       "147      -0.41  \n",
       "148       0.01  \n",
       "270       0.99  \n",
       "271       0.41  \n",
       "272      -0.48  \n",
       "273      -0.81  \n",
       "274       0.03  \n",
       "278      -0.88  \n",
       "279      -0.26  \n",
       "280      -0.86  \n",
       "281       2.21  \n",
       "282       0.19  \n",
       "283      -0.14  \n",
       "284      -0.21  "
      ]
     },
     "execution_count": 8,
     "metadata": {},
     "output_type": "execute_result"
    }
   ],
   "source": [
    "# df_boarding_key = pd.read_csv(os.path.join(csv_path,'daily_boardings_key_routes.csv'), index_col='description')\n",
    "# # df_boarding_key[['observed_boardings','model_boardings']] = df_boarding_key[['observed_boardings','model_boardings']].astype('float')\n",
    "# # df = df_boarding_key[df_boarding_key['route_code'].isin([4200,4201,4203,4204,5001,5002,5003,5004,5005,5006,5007,1973,1975])].reset_index()\n",
    "# # df.drop(['route_code','agency'], axis=1, inplace=True)\n",
    "# # df\n",
    "# df_boarding_key\n",
    "df = pd.read_csv(os.path.join(csv_path, 'daily_boardings_by_line.csv'))\n",
    "df = df[df['mode'].isin(['f','p'])][['description','mode','observed_boardings','model_boardings','diff','perc_diff']]\n",
    "df"
   ]
  },
  {
   "cell_type": "code",
   "execution_count": null,
   "id": "da96ea0d",
   "metadata": {},
   "outputs": [],
   "source": []
  },
  {
   "cell_type": "code",
   "execution_count": 9,
   "id": "75118f994b2c8118",
   "metadata": {
    "ExecuteTime": {
     "end_time": "2024-06-24T20:05:33.107476Z",
     "start_time": "2024-06-24T20:05:33.044901Z"
    },
    "execution": {
     "iopub.execute_input": "2024-12-14T02:38:40.169525Z",
     "iopub.status.busy": "2024-12-14T02:38:40.168527Z",
     "iopub.status.idle": "2024-12-14T02:38:40.235796Z",
     "shell.execute_reply": "2024-12-14T02:38:40.234293Z"
    }
   },
   "outputs": [
    {
     "data": {
      "text/html": [
       "<div>\n",
       "<style scoped>\n",
       "    .dataframe tbody tr th:only-of-type {\n",
       "        vertical-align: middle;\n",
       "    }\n",
       "\n",
       "    .dataframe tbody tr th {\n",
       "        vertical-align: top;\n",
       "    }\n",
       "\n",
       "    .dataframe thead th {\n",
       "        text-align: right;\n",
       "    }\n",
       "</style>\n",
       "<table border=\"1\" class=\"dataframe\">\n",
       "  <thead>\n",
       "    <tr style=\"text-align: right;\">\n",
       "      <th></th>\n",
       "      <th>description</th>\n",
       "      <th>observed_boardings</th>\n",
       "      <th>model_boardings</th>\n",
       "      <th>diff</th>\n",
       "      <th>perc_diff</th>\n",
       "    </tr>\n",
       "  </thead>\n",
       "  <tbody>\n",
       "  </tbody>\n",
       "</table>\n",
       "</div>"
      ],
      "text/plain": [
       "Empty DataFrame\n",
       "Columns: [description, observed_boardings, model_boardings, diff, perc_diff]\n",
       "Index: []"
      ]
     },
     "execution_count": 9,
     "metadata": {},
     "output_type": "execute_result"
    }
   ],
   "source": [
    "df_boarding_key = pd.read_csv(os.path.join(csv_path,'daily_boardings_key_routes.csv'), index_col='description')\n",
    "df_boarding_key[['observed_boardings','model_boardings']] = df_boarding_key[['observed_boardings','model_boardings']].astype('float')\n",
    "\n",
    "df = df_boarding_key[df_boarding_key['route_code'].isin([4200,4201,4203,4204,5001,5002,5003,5004,5005,5006,5007,1973,1975])].reset_index()\n",
    "df.drop(['route_code','agency'], axis=1, inplace=True)\n",
    "\n",
    "df_table = df.copy()\n",
    "df_table[['perc_diff']] = df_table[['perc_diff']].applymap(format_percent)\n",
    "df_table"
   ]
  },
  {
   "cell_type": "code",
   "execution_count": 10,
   "id": "67bf06d211cca3c6",
   "metadata": {
    "ExecuteTime": {
     "end_time": "2024-06-24T19:41:04.985397Z",
     "start_time": "2024-06-24T19:41:04.798158Z"
    },
    "execution": {
     "iopub.execute_input": "2024-12-14T02:38:40.247764Z",
     "iopub.status.busy": "2024-12-14T02:38:40.246767Z",
     "iopub.status.idle": "2024-12-14T02:38:40.267712Z",
     "shell.execute_reply": "2024-12-14T02:38:40.265717Z"
    }
   },
   "outputs": [],
   "source": [
    "if len(df) > 0:\n",
    "    ax = df.plot(kind='scatter', x='observed_boardings', y='model_boardings')\n",
    "    lim = df[['observed_boardings','model_boardings']].max().max()*1.05\n",
    "    ax.set_ylim(0,lim)\n",
    "    ax.set_xlim(0,lim)\n",
    "    x = np.linspace(*ax.get_xlim())\n",
    "    ax.plot(x, x)\n",
    "    slope, intercept, r_value, p_value, std_err = stats.linregress(df['observed_boardings'],df['model_boardings'])\n",
    "    print('r^2 ' + str('') + ': ' + str(r_value))"
   ]
  },
  {
   "cell_type": "code",
   "execution_count": 11,
   "id": "693dd2ccc9b68311",
   "metadata": {
    "ExecuteTime": {
     "end_time": "2024-06-24T20:05:41.122932Z",
     "start_time": "2024-06-24T20:05:41.060989Z"
    },
    "execution": {
     "iopub.execute_input": "2024-12-14T02:38:40.279681Z",
     "iopub.status.busy": "2024-12-14T02:38:40.277686Z",
     "iopub.status.idle": "2024-12-14T02:38:40.346023Z",
     "shell.execute_reply": "2024-12-14T02:38:40.344519Z"
    }
   },
   "outputs": [],
   "source": [
    "# df = pd.read_csv(os.path.join(csv_path,'bike_ferry_boardings.csv')).sort_values('@bvol', ascending=False)\n",
    "# df['route_code'] = df['route_code'].astype('int')\n",
    "# df[['route_code','description', '@bvol']]"
   ]
  },
  {
   "cell_type": "raw",
   "id": "14db883222970442",
   "metadata": {},
   "source": [
    "#### rail"
   ]
  },
  {
   "cell_type": "code",
   "execution_count": 12,
   "id": "c9adf289ac66da8",
   "metadata": {
    "ExecuteTime": {
     "end_time": "2024-06-24T20:05:45.826421Z",
     "start_time": "2024-06-24T20:05:45.779797Z"
    },
    "execution": {
     "iopub.execute_input": "2024-12-14T02:38:40.358988Z",
     "iopub.status.busy": "2024-12-14T02:38:40.356994Z",
     "iopub.status.idle": "2024-12-14T02:38:40.393246Z",
     "shell.execute_reply": "2024-12-14T02:38:40.391251Z"
    }
   },
   "outputs": [
    {
     "data": {
      "text/html": [
       "<div>\n",
       "<style scoped>\n",
       "    .dataframe tbody tr th:only-of-type {\n",
       "        vertical-align: middle;\n",
       "    }\n",
       "\n",
       "    .dataframe tbody tr th {\n",
       "        vertical-align: top;\n",
       "    }\n",
       "\n",
       "    .dataframe thead th {\n",
       "        text-align: right;\n",
       "    }\n",
       "</style>\n",
       "<table border=\"1\" class=\"dataframe\">\n",
       "  <thead>\n",
       "    <tr style=\"text-align: right;\">\n",
       "      <th></th>\n",
       "      <th>description</th>\n",
       "      <th>observed_boardings</th>\n",
       "      <th>model_boardings</th>\n",
       "      <th>diff</th>\n",
       "      <th>perc_diff</th>\n",
       "    </tr>\n",
       "  </thead>\n",
       "  <tbody>\n",
       "    <tr>\n",
       "      <th>0</th>\n",
       "      <td>Sounder South</td>\n",
       "      <td>6,038.00</td>\n",
       "      <td>6,612.92</td>\n",
       "      <td>574.92</td>\n",
       "      <td>9.52%</td>\n",
       "    </tr>\n",
       "    <tr>\n",
       "      <th>1</th>\n",
       "      <td>Sounder North</td>\n",
       "      <td>316.00</td>\n",
       "      <td>3.20</td>\n",
       "      <td>-312.80</td>\n",
       "      <td>-98.99%</td>\n",
       "    </tr>\n",
       "  </tbody>\n",
       "</table>\n",
       "</div>"
      ],
      "text/plain": [
       "     description  observed_boardings  model_boardings    diff perc_diff\n",
       "0  Sounder South            6,038.00         6,612.92  574.92     9.52%\n",
       "1  Sounder North              316.00             3.20 -312.80   -98.99%"
      ]
     },
     "execution_count": 12,
     "metadata": {},
     "output_type": "execute_result"
    }
   ],
   "source": [
    "df = df_boarding_key[df_boarding_key['route_code'].isin([6996,6999,6998])].reset_index()\n",
    "df['description'] = df['route_code'].map({6998: 'Sounder South', 6999: 'Sounder North',6996: 'Link Red Line'})\n",
    "df.drop(['route_code','agency'], axis=1, inplace=True)\n",
    "\n",
    "df_table = df.copy()\n",
    "df_table[['perc_diff']] = df_table[['perc_diff']].applymap(format_percent)\n",
    "\n",
    "df_table"
   ]
  },
  {
   "cell_type": "code",
   "execution_count": 13,
   "id": "cb27f79888f8363d",
   "metadata": {
    "ExecuteTime": {
     "end_time": "2024-06-24T19:41:16.172926Z",
     "start_time": "2024-06-24T19:41:15.922628Z"
    },
    "execution": {
     "iopub.execute_input": "2024-12-14T02:38:40.404216Z",
     "iopub.status.busy": "2024-12-14T02:38:40.403219Z",
     "iopub.status.idle": "2024-12-14T02:38:40.833802Z",
     "shell.execute_reply": "2024-12-14T02:38:40.831807Z"
    }
   },
   "outputs": [
    {
     "name": "stdout",
     "output_type": "stream",
     "text": [
      "r^2 : 1.0\n"
     ]
    },
    {
     "data": {
      "image/png": "[encoded data removed]",
      "text/plain": [
       "<Figure size 432x288 with 1 Axes>"
      ]
     },
     "metadata": {
      "needs_background": "light"
     },
     "output_type": "display_data"
    }
   ],
   "source": [
    "if len(df) > 0:\n",
    "    ax = df.plot(kind='scatter', x='observed_boardings', y='model_boardings')\n",
    "    lim = df[['observed_boardings','model_boardings']].max().max()*1.05\n",
    "    ax.set_ylim(0,lim)\n",
    "    ax.set_xlim(0,lim)\n",
    "    x = np.linspace(*ax.get_xlim())\n",
    "    ax.plot(x, x)\n",
    "    slope, intercept, r_value, p_value, std_err = stats.linregress(df['observed_boardings'],df['model_boardings'])\n",
    "    print('r^2 ' + str('') + ': ' + str(r_value))"
   ]
  },
  {
   "cell_type": "raw",
   "id": "a24f21772d15369c",
   "metadata": {},
   "source": [
    "#### RapidRide, busiest buses, streetcar"
   ]
  },
  {
   "cell_type": "code",
   "execution_count": 14,
   "id": "a048f8a2b6d7d277",
   "metadata": {
    "ExecuteTime": {
     "end_time": "2024-06-24T20:05:51.529079Z",
     "start_time": "2024-06-24T20:05:51.482757Z"
    },
    "execution": {
     "iopub.execute_input": "2024-12-14T02:38:40.845770Z",
     "iopub.status.busy": "2024-12-14T02:38:40.844772Z",
     "iopub.status.idle": "2024-12-14T02:38:40.911021Z",
     "shell.execute_reply": "2024-12-14T02:38:40.909026Z"
    }
   },
   "outputs": [
    {
     "data": {
      "text/html": [
       "<div>\n",
       "<style scoped>\n",
       "    .dataframe tbody tr th:only-of-type {\n",
       "        vertical-align: middle;\n",
       "    }\n",
       "\n",
       "    .dataframe tbody tr th {\n",
       "        vertical-align: top;\n",
       "    }\n",
       "\n",
       "    .dataframe thead th {\n",
       "        text-align: right;\n",
       "    }\n",
       "</style>\n",
       "<table border=\"1\" class=\"dataframe\">\n",
       "  <thead>\n",
       "    <tr style=\"text-align: right;\">\n",
       "      <th></th>\n",
       "      <th>description</th>\n",
       "      <th>observed_boardings</th>\n",
       "      <th>model_boardings</th>\n",
       "      <th>diff</th>\n",
       "      <th>perc_diff</th>\n",
       "    </tr>\n",
       "  </thead>\n",
       "  <tbody>\n",
       "    <tr>\n",
       "      <th>4</th>\n",
       "      <td>E Line RapidRide</td>\n",
       "      <td>11,426.00</td>\n",
       "      <td>14,503.27</td>\n",
       "      <td>3,077.27</td>\n",
       "      <td>26.93%</td>\n",
       "    </tr>\n",
       "    <tr>\n",
       "      <th>2</th>\n",
       "      <td>C Line RapidRide</td>\n",
       "      <td>7,250.00</td>\n",
       "      <td>10,296.22</td>\n",
       "      <td>3,046.22</td>\n",
       "      <td>42.02%</td>\n",
       "    </tr>\n",
       "    <tr>\n",
       "      <th>3</th>\n",
       "      <td>D Line RapidRide</td>\n",
       "      <td>9,044.00</td>\n",
       "      <td>7,308.10</td>\n",
       "      <td>-1,735.90</td>\n",
       "      <td>-19.19%</td>\n",
       "    </tr>\n",
       "    <tr>\n",
       "      <th>0</th>\n",
       "      <td>A Line RapidRide</td>\n",
       "      <td>8,412.00</td>\n",
       "      <td>6,680.45</td>\n",
       "      <td>-1,731.55</td>\n",
       "      <td>-20.58%</td>\n",
       "    </tr>\n",
       "    <tr>\n",
       "      <th>1</th>\n",
       "      <td>B Line RapidRide</td>\n",
       "      <td>4,177.00</td>\n",
       "      <td>3,199.95</td>\n",
       "      <td>-977.05</td>\n",
       "      <td>-23.39%</td>\n",
       "    </tr>\n",
       "  </tbody>\n",
       "</table>\n",
       "</div>"
      ],
      "text/plain": [
       "        description  observed_boardings  model_boardings      diff perc_diff\n",
       "4  E Line RapidRide           11,426.00        14,503.27  3,077.27    26.93%\n",
       "2  C Line RapidRide            7,250.00        10,296.22  3,046.22    42.02%\n",
       "3  D Line RapidRide            9,044.00         7,308.10 -1,735.90   -19.19%\n",
       "0  A Line RapidRide            8,412.00         6,680.45 -1,731.55   -20.58%\n",
       "1  B Line RapidRide            4,177.00         3,199.95   -977.05   -23.39%"
      ]
     },
     "execution_count": 14,
     "metadata": {},
     "output_type": "execute_result"
    }
   ],
   "source": [
    "df = df_boarding_key[df_boarding_key['route_code'].isin([1671,1672,1673,1674,1675,1676,6550,1007,1040,1997,1998])].reset_index()\n",
    "df['description'] = df['route_code'].map({1671: 'A Line RapidRide', 1672: 'B Line RapidRide',\n",
    "                                            1673: 'C Line RapidRide', 1674: 'D Line RapidRide',\n",
    "                                            1675: 'E Line RapidRide', 1676: 'F Line RapidRide',\n",
    "                                            6550: 'Sound Transit 550', 1040: 'KC Metro 40', 1007: 'KC Metro 7',\n",
    "                                            1997: 'SLU Streetcar', 1998: 'First Hill Streetcar'})\n",
    "df.drop(['route_code','agency'], axis=1, inplace=True)\n",
    "\n",
    "df_table = df.copy()\n",
    "df_table[['perc_diff']] = df_table[['perc_diff']].applymap(format_percent)\n",
    "df_table.sort_values('model_boardings', ascending=False)"
   ]
  },
  {
   "cell_type": "code",
   "execution_count": 15,
   "id": "813aa67bd5e6c1f6",
   "metadata": {
    "ExecuteTime": {
     "end_time": "2024-06-24T19:41:23.547293Z",
     "start_time": "2024-06-24T19:41:23.312803Z"
    },
    "execution": {
     "iopub.execute_input": "2024-12-14T02:38:40.921991Z",
     "iopub.status.busy": "2024-12-14T02:38:40.920994Z",
     "iopub.status.idle": "2024-12-14T02:38:41.159750Z",
     "shell.execute_reply": "2024-12-14T02:38:41.157755Z"
    }
   },
   "outputs": [
    {
     "name": "stdout",
     "output_type": "stream",
     "text": [
      "r^2 : 0.8331120022525144\n"
     ]
    },
    {
     "data": {
      "image/png": "[encoded data removed]",
      "text/plain": [
       "<Figure size 432x288 with 1 Axes>"
      ]
     },
     "metadata": {
      "needs_background": "light"
     },
     "output_type": "display_data"
    }
   ],
   "source": [
    "if len(df) > 0:\n",
    "    ax = df.plot(kind='scatter', x='observed_boardings', y='model_boardings')\n",
    "    lim = df[['observed_boardings', 'model_boardings']].max().max() * 1.05\n",
    "    ax.set_ylim(0, lim)\n",
    "    ax.set_xlim(0, lim)\n",
    "    x = np.linspace(*ax.get_xlim())\n",
    "    ax.plot(x, x)\n",
    "    slope, intercept, r_value, p_value, std_err = stats.linregress(df['observed_boardings'], df['model_boardings'])\n",
    "    print('r^2 ' + str('') + ': ' + str(r_value))"
   ]
  },
  {
   "cell_type": "raw",
   "id": "c55611b2314fffc3",
   "metadata": {},
   "source": [
    ":::"
   ]
  },
  {
   "cell_type": "markdown",
   "id": "e050a08b",
   "metadata": {},
   "source": [
    "### Top routes by agency"
   ]
  },
  {
   "cell_type": "code",
   "execution_count": 16,
   "id": "58d89e2b",
   "metadata": {},
   "outputs": [],
   "source": [
    "df = pd.read_csv(os.path.join(csv_path, 'daily_boardings_by_line.csv'))\n",
    "# df_top = pd.DataFrame()\n",
    "# for agency in df['agency'].unique():\n",
    "#     _df = df[df['agency'] == agency].sort_values('model_boardings', ascending=False).head(8)\n",
    "#     df_top = pd.concat([df_top, _df])\n",
    "# df = df_top[['agency','description','mode','model_boardings','observed_boardings','diff','perc_diff']]\n",
    "cols=['agency','description','mode','model_boardings','observed_boardings','diff','perc_diff']"
   ]
  },
  {
   "cell_type": "raw",
   "id": "7972e453",
   "metadata": {},
   "source": [
    ":::{.panel-tabset}\n",
    "#### King County Metro"
   ]
  },
  {
   "cell_type": "code",
   "execution_count": 17,
   "id": "35a6745d",
   "metadata": {},
   "outputs": [
    {
     "data": {
      "text/html": [
       "<div>\n",
       "<style scoped>\n",
       "    .dataframe tbody tr th:only-of-type {\n",
       "        vertical-align: middle;\n",
       "    }\n",
       "\n",
       "    .dataframe tbody tr th {\n",
       "        vertical-align: top;\n",
       "    }\n",
       "\n",
       "    .dataframe thead th {\n",
       "        text-align: right;\n",
       "    }\n",
       "</style>\n",
       "<table border=\"1\" class=\"dataframe\">\n",
       "  <thead>\n",
       "    <tr style=\"text-align: right;\">\n",
       "      <th></th>\n",
       "      <th>agency</th>\n",
       "      <th>description</th>\n",
       "      <th>mode</th>\n",
       "      <th>model_boardings</th>\n",
       "      <th>observed_boardings</th>\n",
       "      <th>diff</th>\n",
       "      <th>perc_diff</th>\n",
       "    </tr>\n",
       "  </thead>\n",
       "  <tbody>\n",
       "    <tr>\n",
       "      <th>130</th>\n",
       "      <td>King County Metro</td>\n",
       "      <td>E-Line</td>\n",
       "      <td>b</td>\n",
       "      <td>14,503.27</td>\n",
       "      <td>11,426.00</td>\n",
       "      <td>3,077.27</td>\n",
       "      <td>0.27</td>\n",
       "    </tr>\n",
       "    <tr>\n",
       "      <th>5</th>\n",
       "      <td>King County Metro</td>\n",
       "      <td>7 Rain Bch-ColC-CBD</td>\n",
       "      <td>b</td>\n",
       "      <td>11,000.59</td>\n",
       "      <td>9,954.00</td>\n",
       "      <td>1,046.59</td>\n",
       "      <td>0.11</td>\n",
       "    </tr>\n",
       "    <tr>\n",
       "      <th>128</th>\n",
       "      <td>King County Metro</td>\n",
       "      <td>C Line</td>\n",
       "      <td>b</td>\n",
       "      <td>10,296.22</td>\n",
       "      <td>7,250.00</td>\n",
       "      <td>3,046.22</td>\n",
       "      <td>0.42</td>\n",
       "    </tr>\n",
       "    <tr>\n",
       "      <th>28</th>\n",
       "      <td>King County Metro</td>\n",
       "      <td>40 Ngt-Bal-Fre-CBD</td>\n",
       "      <td>b</td>\n",
       "      <td>8,373.93</td>\n",
       "      <td>7,208.00</td>\n",
       "      <td>1,165.93</td>\n",
       "      <td>0.16</td>\n",
       "    </tr>\n",
       "    <tr>\n",
       "      <th>129</th>\n",
       "      <td>King County Metro</td>\n",
       "      <td>D Line</td>\n",
       "      <td>b</td>\n",
       "      <td>7,308.10</td>\n",
       "      <td>9,044.00</td>\n",
       "      <td>-1,735.90</td>\n",
       "      <td>-0.19</td>\n",
       "    </tr>\n",
       "    <tr>\n",
       "      <th>132</th>\n",
       "      <td>King County Metro</td>\n",
       "      <td>H-Line</td>\n",
       "      <td>b</td>\n",
       "      <td>7,146.36</td>\n",
       "      <td>6,907.00</td>\n",
       "      <td>239.36</td>\n",
       "      <td>0.03</td>\n",
       "    </tr>\n",
       "    <tr>\n",
       "      <th>126</th>\n",
       "      <td>King County Metro</td>\n",
       "      <td>A Line</td>\n",
       "      <td>b</td>\n",
       "      <td>6,680.45</td>\n",
       "      <td>8,412.00</td>\n",
       "      <td>-1,731.55</td>\n",
       "      <td>-0.21</td>\n",
       "    </tr>\n",
       "    <tr>\n",
       "      <th>67</th>\n",
       "      <td>King County Metro</td>\n",
       "      <td>160 Aub-Kent-Rent</td>\n",
       "      <td>b</td>\n",
       "      <td>6,455.08</td>\n",
       "      <td>5,058.00</td>\n",
       "      <td>1,397.08</td>\n",
       "      <td>0.28</td>\n",
       "    </tr>\n",
       "    <tr>\n",
       "      <th>43</th>\n",
       "      <td>King County Metro</td>\n",
       "      <td>70 Udst-Elake-CBD</td>\n",
       "      <td>b</td>\n",
       "      <td>6,059.07</td>\n",
       "      <td>4,189.00</td>\n",
       "      <td>1,870.07</td>\n",
       "      <td>0.45</td>\n",
       "    </tr>\n",
       "    <tr>\n",
       "      <th>39</th>\n",
       "      <td>King County Metro</td>\n",
       "      <td>62 SndPt-GLk-Fre-CBD</td>\n",
       "      <td>b</td>\n",
       "      <td>6,041.85</td>\n",
       "      <td>5,899.00</td>\n",
       "      <td>142.85</td>\n",
       "      <td>0.02</td>\n",
       "    </tr>\n",
       "  </tbody>\n",
       "</table>\n",
       "</div>"
      ],
      "text/plain": [
       "                agency           description mode  model_boardings  \\\n",
       "130  King County Metro                E-Line    b        14,503.27   \n",
       "5    King County Metro   7 Rain Bch-ColC-CBD    b        11,000.59   \n",
       "128  King County Metro                C Line    b        10,296.22   \n",
       "28   King County Metro    40 Ngt-Bal-Fre-CBD    b         8,373.93   \n",
       "129  King County Metro                D Line    b         7,308.10   \n",
       "132  King County Metro                H-Line    b         7,146.36   \n",
       "126  King County Metro                A Line    b         6,680.45   \n",
       "67   King County Metro     160 Aub-Kent-Rent    b         6,455.08   \n",
       "43   King County Metro     70 Udst-Elake-CBD    b         6,059.07   \n",
       "39   King County Metro  62 SndPt-GLk-Fre-CBD    b         6,041.85   \n",
       "\n",
       "     observed_boardings      diff  perc_diff  \n",
       "130           11,426.00  3,077.27       0.27  \n",
       "5              9,954.00  1,046.59       0.11  \n",
       "128            7,250.00  3,046.22       0.42  \n",
       "28             7,208.00  1,165.93       0.16  \n",
       "129            9,044.00 -1,735.90      -0.19  \n",
       "132            6,907.00    239.36       0.03  \n",
       "126            8,412.00 -1,731.55      -0.21  \n",
       "67             5,058.00  1,397.08       0.28  \n",
       "43             4,189.00  1,870.07       0.45  \n",
       "39             5,899.00    142.85       0.02  "
      ]
     },
     "execution_count": 17,
     "metadata": {},
     "output_type": "execute_result"
    }
   ],
   "source": [
    "agency = 'King County Metro'\n",
    "df[df['agency'] == agency].sort_values('model_boardings', ascending=False).head(10)[cols]"
   ]
  },
  {
   "cell_type": "raw",
   "id": "cbdadc57",
   "metadata": {},
   "source": [
    "#### Sound Transit"
   ]
  },
  {
   "cell_type": "code",
   "execution_count": 18,
   "id": "fbbb65ca",
   "metadata": {},
   "outputs": [
    {
     "data": {
      "text/html": [
       "<div>\n",
       "<style scoped>\n",
       "    .dataframe tbody tr th:only-of-type {\n",
       "        vertical-align: middle;\n",
       "    }\n",
       "\n",
       "    .dataframe tbody tr th {\n",
       "        vertical-align: top;\n",
       "    }\n",
       "\n",
       "    .dataframe thead th {\n",
       "        text-align: right;\n",
       "    }\n",
       "</style>\n",
       "<table border=\"1\" class=\"dataframe\">\n",
       "  <thead>\n",
       "    <tr style=\"text-align: right;\">\n",
       "      <th></th>\n",
       "      <th>agency</th>\n",
       "      <th>description</th>\n",
       "      <th>mode</th>\n",
       "      <th>model_boardings</th>\n",
       "      <th>observed_boardings</th>\n",
       "      <th>diff</th>\n",
       "      <th>perc_diff</th>\n",
       "    </tr>\n",
       "  </thead>\n",
       "  <tbody>\n",
       "    <tr>\n",
       "      <th>309</th>\n",
       "      <td>Sound Transit</td>\n",
       "      <td>Light Rail Ang Lk-NG</td>\n",
       "      <td>r</td>\n",
       "      <td>80,873.68</td>\n",
       "      <td>79,522.00</td>\n",
       "      <td>1,351.68</td>\n",
       "      <td>0.02</td>\n",
       "    </tr>\n",
       "    <tr>\n",
       "      <th>293</th>\n",
       "      <td>Sound Transit</td>\n",
       "      <td>550 Bellevue-Seattle</td>\n",
       "      <td>b</td>\n",
       "      <td>7,072.45</td>\n",
       "      <td>3,351.00</td>\n",
       "      <td>3,721.45</td>\n",
       "      <td>1.11</td>\n",
       "    </tr>\n",
       "    <tr>\n",
       "      <th>310</th>\n",
       "      <td>Sound Transit</td>\n",
       "      <td>Commutr Rail Tac-Sea</td>\n",
       "      <td>c</td>\n",
       "      <td>6,612.92</td>\n",
       "      <td>6,038.00</td>\n",
       "      <td>574.92</td>\n",
       "      <td>0.10</td>\n",
       "    </tr>\n",
       "    <tr>\n",
       "      <th>286</th>\n",
       "      <td>Sound Transit</td>\n",
       "      <td>512 Everett-Northgte</td>\n",
       "      <td>b</td>\n",
       "      <td>5,112.20</td>\n",
       "      <td>2,251.00</td>\n",
       "      <td>2,861.20</td>\n",
       "      <td>1.27</td>\n",
       "    </tr>\n",
       "    <tr>\n",
       "      <th>292</th>\n",
       "      <td>Sound Transit</td>\n",
       "      <td>545 Redmond-Seattle</td>\n",
       "      <td>b</td>\n",
       "      <td>4,769.67</td>\n",
       "      <td>3,340.00</td>\n",
       "      <td>1,429.67</td>\n",
       "      <td>0.43</td>\n",
       "    </tr>\n",
       "    <tr>\n",
       "      <th>288</th>\n",
       "      <td>Sound Transit</td>\n",
       "      <td>522 Woodinvl-Roosvlt</td>\n",
       "      <td>b</td>\n",
       "      <td>4,759.20</td>\n",
       "      <td>1,736.00</td>\n",
       "      <td>3,023.20</td>\n",
       "      <td>1.74</td>\n",
       "    </tr>\n",
       "    <tr>\n",
       "      <th>294</th>\n",
       "      <td>Sound Transit</td>\n",
       "      <td>554 Issaquah-Seattle</td>\n",
       "      <td>b</td>\n",
       "      <td>4,219.08</td>\n",
       "      <td>2,153.00</td>\n",
       "      <td>2,066.08</td>\n",
       "      <td>0.96</td>\n",
       "    </tr>\n",
       "    <tr>\n",
       "      <th>300</th>\n",
       "      <td>Sound Transit</td>\n",
       "      <td>578 Seattle-Puyallup</td>\n",
       "      <td>b</td>\n",
       "      <td>2,864.40</td>\n",
       "      <td>1,460.00</td>\n",
       "      <td>1,404.40</td>\n",
       "      <td>0.96</td>\n",
       "    </tr>\n",
       "    <tr>\n",
       "      <th>298</th>\n",
       "      <td>Sound Transit</td>\n",
       "      <td>574 Lakewood-SeaTac</td>\n",
       "      <td>b</td>\n",
       "      <td>2,167.06</td>\n",
       "      <td>1,848.00</td>\n",
       "      <td>319.06</td>\n",
       "      <td>0.17</td>\n",
       "    </tr>\n",
       "    <tr>\n",
       "      <th>296</th>\n",
       "      <td>Sound Transit</td>\n",
       "      <td>560 W Sea-Bellevue</td>\n",
       "      <td>b</td>\n",
       "      <td>2,078.36</td>\n",
       "      <td>1,227.00</td>\n",
       "      <td>851.36</td>\n",
       "      <td>0.69</td>\n",
       "    </tr>\n",
       "  </tbody>\n",
       "</table>\n",
       "</div>"
      ],
      "text/plain": [
       "            agency           description mode  model_boardings  \\\n",
       "309  Sound Transit  Light Rail Ang Lk-NG    r        80,873.68   \n",
       "293  Sound Transit  550 Bellevue-Seattle    b         7,072.45   \n",
       "310  Sound Transit  Commutr Rail Tac-Sea    c         6,612.92   \n",
       "286  Sound Transit  512 Everett-Northgte    b         5,112.20   \n",
       "292  Sound Transit   545 Redmond-Seattle    b         4,769.67   \n",
       "288  Sound Transit  522 Woodinvl-Roosvlt    b         4,759.20   \n",
       "294  Sound Transit  554 Issaquah-Seattle    b         4,219.08   \n",
       "300  Sound Transit  578 Seattle-Puyallup    b         2,864.40   \n",
       "298  Sound Transit   574 Lakewood-SeaTac    b         2,167.06   \n",
       "296  Sound Transit    560 W Sea-Bellevue    b         2,078.36   \n",
       "\n",
       "     observed_boardings     diff  perc_diff  \n",
       "309           79,522.00 1,351.68       0.02  \n",
       "293            3,351.00 3,721.45       1.11  \n",
       "310            6,038.00   574.92       0.10  \n",
       "286            2,251.00 2,861.20       1.27  \n",
       "292            3,340.00 1,429.67       0.43  \n",
       "288            1,736.00 3,023.20       1.74  \n",
       "294            2,153.00 2,066.08       0.96  \n",
       "300            1,460.00 1,404.40       0.96  \n",
       "298            1,848.00   319.06       0.17  \n",
       "296            1,227.00   851.36       0.69  "
      ]
     },
     "execution_count": 18,
     "metadata": {},
     "output_type": "execute_result"
    }
   ],
   "source": [
    "agency = 'Sound Transit'\n",
    "df[df['agency'] == agency].sort_values('model_boardings', ascending=False).head(10)[cols]"
   ]
  },
  {
   "cell_type": "raw",
   "id": "5bb6872d",
   "metadata": {},
   "source": [
    "#### Community Transit"
   ]
  },
  {
   "cell_type": "code",
   "execution_count": 19,
   "id": "f7994dd7",
   "metadata": {},
   "outputs": [
    {
     "data": {
      "text/html": [
       "<div>\n",
       "<style scoped>\n",
       "    .dataframe tbody tr th:only-of-type {\n",
       "        vertical-align: middle;\n",
       "    }\n",
       "\n",
       "    .dataframe tbody tr th {\n",
       "        vertical-align: top;\n",
       "    }\n",
       "\n",
       "    .dataframe thead th {\n",
       "        text-align: right;\n",
       "    }\n",
       "</style>\n",
       "<table border=\"1\" class=\"dataframe\">\n",
       "  <thead>\n",
       "    <tr style=\"text-align: right;\">\n",
       "      <th></th>\n",
       "      <th>agency</th>\n",
       "      <th>description</th>\n",
       "      <th>mode</th>\n",
       "      <th>model_boardings</th>\n",
       "      <th>observed_boardings</th>\n",
       "      <th>diff</th>\n",
       "      <th>perc_diff</th>\n",
       "    </tr>\n",
       "  </thead>\n",
       "  <tbody>\n",
       "    <tr>\n",
       "      <th>230</th>\n",
       "      <td>Community Transit</td>\n",
       "      <td>Swift Blue</td>\n",
       "      <td>b</td>\n",
       "      <td>6,083.98</td>\n",
       "      <td>3,804.00</td>\n",
       "      <td>2,279.98</td>\n",
       "      <td>0.60</td>\n",
       "    </tr>\n",
       "    <tr>\n",
       "      <th>231</th>\n",
       "      <td>Community Transit</td>\n",
       "      <td>Swift Green</td>\n",
       "      <td>b</td>\n",
       "      <td>2,540.28</td>\n",
       "      <td>3,000.00</td>\n",
       "      <td>-459.72</td>\n",
       "      <td>-0.15</td>\n",
       "    </tr>\n",
       "    <tr>\n",
       "      <th>200</th>\n",
       "      <td>Community Transit</td>\n",
       "      <td>116 Edm-Silver Firs</td>\n",
       "      <td>b</td>\n",
       "      <td>2,182.78</td>\n",
       "      <td>955.00</td>\n",
       "      <td>1,227.78</td>\n",
       "      <td>1.29</td>\n",
       "    </tr>\n",
       "    <tr>\n",
       "      <th>199</th>\n",
       "      <td>Community Transit</td>\n",
       "      <td>115 McClm P&amp;R-AurVil</td>\n",
       "      <td>b</td>\n",
       "      <td>1,686.82</td>\n",
       "      <td>1,133.00</td>\n",
       "      <td>553.82</td>\n",
       "      <td>0.49</td>\n",
       "    </tr>\n",
       "    <tr>\n",
       "      <th>205</th>\n",
       "      <td>Community Transit</td>\n",
       "      <td>201 Smokey Pt-Lynnwd</td>\n",
       "      <td>b</td>\n",
       "      <td>1,487.14</td>\n",
       "      <td>1,049.00</td>\n",
       "      <td>438.14</td>\n",
       "      <td>0.42</td>\n",
       "    </tr>\n",
       "    <tr>\n",
       "      <th>206</th>\n",
       "      <td>Community Transit</td>\n",
       "      <td>202 Smokey Pt-Lynnwd</td>\n",
       "      <td>b</td>\n",
       "      <td>1,480.71</td>\n",
       "      <td>1,002.00</td>\n",
       "      <td>478.71</td>\n",
       "      <td>0.48</td>\n",
       "    </tr>\n",
       "    <tr>\n",
       "      <th>191</th>\n",
       "      <td>Community Transit</td>\n",
       "      <td>101 Mar P&amp;R-Aur Vill</td>\n",
       "      <td>b</td>\n",
       "      <td>1,398.01</td>\n",
       "      <td>945.00</td>\n",
       "      <td>453.01</td>\n",
       "      <td>0.48</td>\n",
       "    </tr>\n",
       "    <tr>\n",
       "      <th>198</th>\n",
       "      <td>Community Transit</td>\n",
       "      <td>113 Mukilteo-Lynn TC</td>\n",
       "      <td>b</td>\n",
       "      <td>868.30</td>\n",
       "      <td>802.00</td>\n",
       "      <td>66.30</td>\n",
       "      <td>0.08</td>\n",
       "    </tr>\n",
       "    <tr>\n",
       "      <th>203</th>\n",
       "      <td>Community Transit</td>\n",
       "      <td>130 Edmonds-Lynnwood</td>\n",
       "      <td>b</td>\n",
       "      <td>851.18</td>\n",
       "      <td>618.00</td>\n",
       "      <td>233.18</td>\n",
       "      <td>0.38</td>\n",
       "    </tr>\n",
       "    <tr>\n",
       "      <th>216</th>\n",
       "      <td>Community Transit</td>\n",
       "      <td>280 Gran Falls-Evrt</td>\n",
       "      <td>b</td>\n",
       "      <td>728.74</td>\n",
       "      <td>335.00</td>\n",
       "      <td>393.74</td>\n",
       "      <td>1.18</td>\n",
       "    </tr>\n",
       "  </tbody>\n",
       "</table>\n",
       "</div>"
      ],
      "text/plain": [
       "                agency           description mode  model_boardings  \\\n",
       "230  Community Transit            Swift Blue    b         6,083.98   \n",
       "231  Community Transit           Swift Green    b         2,540.28   \n",
       "200  Community Transit   116 Edm-Silver Firs    b         2,182.78   \n",
       "199  Community Transit  115 McClm P&R-AurVil    b         1,686.82   \n",
       "205  Community Transit  201 Smokey Pt-Lynnwd    b         1,487.14   \n",
       "206  Community Transit  202 Smokey Pt-Lynnwd    b         1,480.71   \n",
       "191  Community Transit  101 Mar P&R-Aur Vill    b         1,398.01   \n",
       "198  Community Transit  113 Mukilteo-Lynn TC    b           868.30   \n",
       "203  Community Transit  130 Edmonds-Lynnwood    b           851.18   \n",
       "216  Community Transit   280 Gran Falls-Evrt    b           728.74   \n",
       "\n",
       "     observed_boardings     diff  perc_diff  \n",
       "230            3,804.00 2,279.98       0.60  \n",
       "231            3,000.00  -459.72      -0.15  \n",
       "200              955.00 1,227.78       1.29  \n",
       "199            1,133.00   553.82       0.49  \n",
       "205            1,049.00   438.14       0.42  \n",
       "206            1,002.00   478.71       0.48  \n",
       "191              945.00   453.01       0.48  \n",
       "198              802.00    66.30       0.08  \n",
       "203              618.00   233.18       0.38  \n",
       "216              335.00   393.74       1.18  "
      ]
     },
     "execution_count": 19,
     "metadata": {},
     "output_type": "execute_result"
    }
   ],
   "source": [
    "agency = 'Community Transit'\n",
    "df[df['agency'] == agency].sort_values('model_boardings', ascending=False).head(10)[cols]"
   ]
  },
  {
   "cell_type": "raw",
   "id": "4e738512",
   "metadata": {},
   "source": [
    "#### Pierce Transit"
   ]
  },
  {
   "cell_type": "code",
   "execution_count": 20,
   "id": "5385aa93",
   "metadata": {},
   "outputs": [
    {
     "data": {
      "text/html": [
       "<div>\n",
       "<style scoped>\n",
       "    .dataframe tbody tr th:only-of-type {\n",
       "        vertical-align: middle;\n",
       "    }\n",
       "\n",
       "    .dataframe tbody tr th {\n",
       "        vertical-align: top;\n",
       "    }\n",
       "\n",
       "    .dataframe thead th {\n",
       "        text-align: right;\n",
       "    }\n",
       "</style>\n",
       "<table border=\"1\" class=\"dataframe\">\n",
       "  <thead>\n",
       "    <tr style=\"text-align: right;\">\n",
       "      <th></th>\n",
       "      <th>agency</th>\n",
       "      <th>description</th>\n",
       "      <th>mode</th>\n",
       "      <th>model_boardings</th>\n",
       "      <th>observed_boardings</th>\n",
       "      <th>diff</th>\n",
       "      <th>perc_diff</th>\n",
       "    </tr>\n",
       "  </thead>\n",
       "  <tbody>\n",
       "    <tr>\n",
       "      <th>160</th>\n",
       "      <td>Pierce Transit</td>\n",
       "      <td>1 6th Ave-Pac Ave</td>\n",
       "      <td>b</td>\n",
       "      <td>1,557.02</td>\n",
       "      <td>3,035.00</td>\n",
       "      <td>-1,477.98</td>\n",
       "      <td>-0.49</td>\n",
       "    </tr>\n",
       "    <tr>\n",
       "      <th>161</th>\n",
       "      <td>Pierce Transit</td>\n",
       "      <td>2 S 19th-Bridgeport</td>\n",
       "      <td>b</td>\n",
       "      <td>1,105.92</td>\n",
       "      <td>1,729.00</td>\n",
       "      <td>-623.08</td>\n",
       "      <td>-0.36</td>\n",
       "    </tr>\n",
       "    <tr>\n",
       "      <th>185</th>\n",
       "      <td>Pierce Transit</td>\n",
       "      <td>402 Meridian</td>\n",
       "      <td>b</td>\n",
       "      <td>1,049.95</td>\n",
       "      <td>626.00</td>\n",
       "      <td>423.95</td>\n",
       "      <td>0.68</td>\n",
       "    </tr>\n",
       "    <tr>\n",
       "      <th>184</th>\n",
       "      <td>Pierce Transit</td>\n",
       "      <td>400 Puyllp-Tacoma</td>\n",
       "      <td>b</td>\n",
       "      <td>931.97</td>\n",
       "      <td>336.00</td>\n",
       "      <td>595.97</td>\n",
       "      <td>1.77</td>\n",
       "    </tr>\n",
       "    <tr>\n",
       "      <th>189</th>\n",
       "      <td>Pierce Transit</td>\n",
       "      <td>500 Federal Way</td>\n",
       "      <td>b</td>\n",
       "      <td>877.09</td>\n",
       "      <td>845.00</td>\n",
       "      <td>32.09</td>\n",
       "      <td>0.04</td>\n",
       "    </tr>\n",
       "    <tr>\n",
       "      <th>162</th>\n",
       "      <td>Pierce Transit</td>\n",
       "      <td>3 Lakewood-Tacoma</td>\n",
       "      <td>b</td>\n",
       "      <td>874.76</td>\n",
       "      <td>1,250.00</td>\n",
       "      <td>-375.24</td>\n",
       "      <td>-0.30</td>\n",
       "    </tr>\n",
       "    <tr>\n",
       "      <th>190</th>\n",
       "      <td>Pierce Transit</td>\n",
       "      <td>501 Miltn-Fed Way</td>\n",
       "      <td>b</td>\n",
       "      <td>806.85</td>\n",
       "      <td>431.00</td>\n",
       "      <td>375.85</td>\n",
       "      <td>0.87</td>\n",
       "    </tr>\n",
       "    <tr>\n",
       "      <th>163</th>\n",
       "      <td>Pierce Transit</td>\n",
       "      <td>4 Lakewd-South Hill</td>\n",
       "      <td>b</td>\n",
       "      <td>658.99</td>\n",
       "      <td>968.00</td>\n",
       "      <td>-309.01</td>\n",
       "      <td>-0.32</td>\n",
       "    </tr>\n",
       "    <tr>\n",
       "      <th>169</th>\n",
       "      <td>Pierce Transit</td>\n",
       "      <td>41 S 56th St-Salish</td>\n",
       "      <td>b</td>\n",
       "      <td>644.60</td>\n",
       "      <td>1,088.00</td>\n",
       "      <td>-443.40</td>\n",
       "      <td>-0.41</td>\n",
       "    </tr>\n",
       "    <tr>\n",
       "      <th>172</th>\n",
       "      <td>Pierce Transit</td>\n",
       "      <td>48 Sheridan-M St</td>\n",
       "      <td>b</td>\n",
       "      <td>506.03</td>\n",
       "      <td>1,065.00</td>\n",
       "      <td>-558.97</td>\n",
       "      <td>-0.52</td>\n",
       "    </tr>\n",
       "  </tbody>\n",
       "</table>\n",
       "</div>"
      ],
      "text/plain": [
       "             agency          description mode  model_boardings  \\\n",
       "160  Pierce Transit    1 6th Ave-Pac Ave    b         1,557.02   \n",
       "161  Pierce Transit  2 S 19th-Bridgeport    b         1,105.92   \n",
       "185  Pierce Transit         402 Meridian    b         1,049.95   \n",
       "184  Pierce Transit    400 Puyllp-Tacoma    b           931.97   \n",
       "189  Pierce Transit      500 Federal Way    b           877.09   \n",
       "162  Pierce Transit    3 Lakewood-Tacoma    b           874.76   \n",
       "190  Pierce Transit    501 Miltn-Fed Way    b           806.85   \n",
       "163  Pierce Transit  4 Lakewd-South Hill    b           658.99   \n",
       "169  Pierce Transit  41 S 56th St-Salish    b           644.60   \n",
       "172  Pierce Transit     48 Sheridan-M St    b           506.03   \n",
       "\n",
       "     observed_boardings      diff  perc_diff  \n",
       "160            3,035.00 -1,477.98      -0.49  \n",
       "161            1,729.00   -623.08      -0.36  \n",
       "185              626.00    423.95       0.68  \n",
       "184              336.00    595.97       1.77  \n",
       "189              845.00     32.09       0.04  \n",
       "162            1,250.00   -375.24      -0.30  \n",
       "190              431.00    375.85       0.87  \n",
       "163              968.00   -309.01      -0.32  \n",
       "169            1,088.00   -443.40      -0.41  \n",
       "172            1,065.00   -558.97      -0.52  "
      ]
     },
     "execution_count": 20,
     "metadata": {},
     "output_type": "execute_result"
    }
   ],
   "source": [
    "agency = 'Pierce Transit'\n",
    "df[df['agency'] == agency].sort_values('model_boardings', ascending=False).head(10)[cols]"
   ]
  },
  {
   "cell_type": "raw",
   "id": "61e52696",
   "metadata": {},
   "source": [
    "#### Kitsap Transit"
   ]
  },
  {
   "cell_type": "code",
   "execution_count": 21,
   "id": "9c35bb78",
   "metadata": {},
   "outputs": [
    {
     "data": {
      "text/html": [
       "<div>\n",
       "<style scoped>\n",
       "    .dataframe tbody tr th:only-of-type {\n",
       "        vertical-align: middle;\n",
       "    }\n",
       "\n",
       "    .dataframe tbody tr th {\n",
       "        vertical-align: top;\n",
       "    }\n",
       "\n",
       "    .dataframe thead th {\n",
       "        text-align: right;\n",
       "    }\n",
       "</style>\n",
       "<table border=\"1\" class=\"dataframe\">\n",
       "  <thead>\n",
       "    <tr style=\"text-align: right;\">\n",
       "      <th></th>\n",
       "      <th>agency</th>\n",
       "      <th>description</th>\n",
       "      <th>mode</th>\n",
       "      <th>model_boardings</th>\n",
       "      <th>observed_boardings</th>\n",
       "      <th>diff</th>\n",
       "      <th>perc_diff</th>\n",
       "    </tr>\n",
       "  </thead>\n",
       "  <tbody>\n",
       "    <tr>\n",
       "      <th>270</th>\n",
       "      <td>Kitsap Transit</td>\n",
       "      <td>Seattle-Bremerton FF</td>\n",
       "      <td>f</td>\n",
       "      <td>3,807.84</td>\n",
       "      <td>1,913.00</td>\n",
       "      <td>1,894.84</td>\n",
       "      <td>0.99</td>\n",
       "    </tr>\n",
       "    <tr>\n",
       "      <th>271</th>\n",
       "      <td>Kitsap Transit</td>\n",
       "      <td>Brem-Pt Orchard FF</td>\n",
       "      <td>p</td>\n",
       "      <td>1,085.92</td>\n",
       "      <td>768.00</td>\n",
       "      <td>317.92</td>\n",
       "      <td>0.41</td>\n",
       "    </tr>\n",
       "    <tr>\n",
       "      <th>244</th>\n",
       "      <td>Kitsap Transit</td>\n",
       "      <td>217 Brem-Silverdle E</td>\n",
       "      <td>b</td>\n",
       "      <td>915.50</td>\n",
       "      <td>417.00</td>\n",
       "      <td>498.50</td>\n",
       "      <td>1.20</td>\n",
       "    </tr>\n",
       "    <tr>\n",
       "      <th>242</th>\n",
       "      <td>Kitsap Transit</td>\n",
       "      <td>212 Brem-Silverdle W</td>\n",
       "      <td>b</td>\n",
       "      <td>707.45</td>\n",
       "      <td>679.00</td>\n",
       "      <td>28.45</td>\n",
       "      <td>0.04</td>\n",
       "    </tr>\n",
       "    <tr>\n",
       "      <th>274</th>\n",
       "      <td>Kitsap Transit</td>\n",
       "      <td>Seattle-Southwrth FF</td>\n",
       "      <td>f</td>\n",
       "      <td>650.27</td>\n",
       "      <td>631.00</td>\n",
       "      <td>19.27</td>\n",
       "      <td>0.03</td>\n",
       "    </tr>\n",
       "    <tr>\n",
       "      <th>259</th>\n",
       "      <td>Kitsap Transit</td>\n",
       "      <td>86 Southwrth Shuttle</td>\n",
       "      <td>b</td>\n",
       "      <td>615.75</td>\n",
       "      <td>91.00</td>\n",
       "      <td>524.75</td>\n",
       "      <td>5.77</td>\n",
       "    </tr>\n",
       "    <tr>\n",
       "      <th>260</th>\n",
       "      <td>Kitsap Transit</td>\n",
       "      <td>390 Poulsbo-Bainbrdg</td>\n",
       "      <td>b</td>\n",
       "      <td>472.78</td>\n",
       "      <td>170.00</td>\n",
       "      <td>302.78</td>\n",
       "      <td>1.78</td>\n",
       "    </tr>\n",
       "    <tr>\n",
       "      <th>243</th>\n",
       "      <td>Kitsap Transit</td>\n",
       "      <td>215 McWilliams</td>\n",
       "      <td>b</td>\n",
       "      <td>274.73</td>\n",
       "      <td>115.00</td>\n",
       "      <td>159.73</td>\n",
       "      <td>1.39</td>\n",
       "    </tr>\n",
       "    <tr>\n",
       "      <th>272</th>\n",
       "      <td>Kitsap Transit</td>\n",
       "      <td>Brem-Annapolis FF</td>\n",
       "      <td>p</td>\n",
       "      <td>244.70</td>\n",
       "      <td>469.00</td>\n",
       "      <td>-224.30</td>\n",
       "      <td>-0.48</td>\n",
       "    </tr>\n",
       "    <tr>\n",
       "      <th>254</th>\n",
       "      <td>Kitsap Transit</td>\n",
       "      <td>333 Silvrdale-Bainb</td>\n",
       "      <td>b</td>\n",
       "      <td>242.13</td>\n",
       "      <td>114.00</td>\n",
       "      <td>128.13</td>\n",
       "      <td>1.12</td>\n",
       "    </tr>\n",
       "  </tbody>\n",
       "</table>\n",
       "</div>"
      ],
      "text/plain": [
       "             agency           description mode  model_boardings  \\\n",
       "270  Kitsap Transit  Seattle-Bremerton FF    f         3,807.84   \n",
       "271  Kitsap Transit    Brem-Pt Orchard FF    p         1,085.92   \n",
       "244  Kitsap Transit  217 Brem-Silverdle E    b           915.50   \n",
       "242  Kitsap Transit  212 Brem-Silverdle W    b           707.45   \n",
       "274  Kitsap Transit  Seattle-Southwrth FF    f           650.27   \n",
       "259  Kitsap Transit  86 Southwrth Shuttle    b           615.75   \n",
       "260  Kitsap Transit  390 Poulsbo-Bainbrdg    b           472.78   \n",
       "243  Kitsap Transit        215 McWilliams    b           274.73   \n",
       "272  Kitsap Transit     Brem-Annapolis FF    p           244.70   \n",
       "254  Kitsap Transit   333 Silvrdale-Bainb    b           242.13   \n",
       "\n",
       "     observed_boardings     diff  perc_diff  \n",
       "270            1,913.00 1,894.84       0.99  \n",
       "271              768.00   317.92       0.41  \n",
       "244              417.00   498.50       1.20  \n",
       "242              679.00    28.45       0.04  \n",
       "274              631.00    19.27       0.03  \n",
       "259               91.00   524.75       5.77  \n",
       "260              170.00   302.78       1.78  \n",
       "243              115.00   159.73       1.39  \n",
       "272              469.00  -224.30      -0.48  \n",
       "254              114.00   128.13       1.12  "
      ]
     },
     "execution_count": 21,
     "metadata": {},
     "output_type": "execute_result"
    }
   ],
   "source": [
    "agency = 'Kitsap Transit'\n",
    "df[df['agency'] == agency].sort_values('model_boardings', ascending=False).head(10)[cols]"
   ]
  },
  {
   "cell_type": "raw",
   "id": "674756a8",
   "metadata": {},
   "source": [
    "#### Everett Transit"
   ]
  },
  {
   "cell_type": "code",
   "execution_count": 22,
   "id": "26ea3064",
   "metadata": {},
   "outputs": [
    {
     "data": {
      "text/html": [
       "<div>\n",
       "<style scoped>\n",
       "    .dataframe tbody tr th:only-of-type {\n",
       "        vertical-align: middle;\n",
       "    }\n",
       "\n",
       "    .dataframe tbody tr th {\n",
       "        vertical-align: top;\n",
       "    }\n",
       "\n",
       "    .dataframe thead th {\n",
       "        text-align: right;\n",
       "    }\n",
       "</style>\n",
       "<table border=\"1\" class=\"dataframe\">\n",
       "  <thead>\n",
       "    <tr style=\"text-align: right;\">\n",
       "      <th></th>\n",
       "      <th>agency</th>\n",
       "      <th>description</th>\n",
       "      <th>mode</th>\n",
       "      <th>model_boardings</th>\n",
       "      <th>observed_boardings</th>\n",
       "      <th>diff</th>\n",
       "      <th>perc_diff</th>\n",
       "    </tr>\n",
       "  </thead>\n",
       "  <tbody>\n",
       "    <tr>\n",
       "      <th>316</th>\n",
       "      <td>Everett Transit</td>\n",
       "      <td>7 Coll Stn-Mall Stn</td>\n",
       "      <td>b</td>\n",
       "      <td>2,565.62</td>\n",
       "      <td>2,239.00</td>\n",
       "      <td>326.62</td>\n",
       "      <td>0.15</td>\n",
       "    </tr>\n",
       "    <tr>\n",
       "      <th>320</th>\n",
       "      <td>Everett Transit</td>\n",
       "      <td>29 Coll Stn-Mall Stn</td>\n",
       "      <td>b</td>\n",
       "      <td>1,274.87</td>\n",
       "      <td>881.00</td>\n",
       "      <td>393.87</td>\n",
       "      <td>0.45</td>\n",
       "    </tr>\n",
       "    <tr>\n",
       "      <th>313</th>\n",
       "      <td>Everett Transit</td>\n",
       "      <td>3 Seaway TC-Evt Stn</td>\n",
       "      <td>b</td>\n",
       "      <td>329.78</td>\n",
       "      <td>285.00</td>\n",
       "      <td>44.78</td>\n",
       "      <td>0.16</td>\n",
       "    </tr>\n",
       "    <tr>\n",
       "      <th>317</th>\n",
       "      <td>Everett Transit</td>\n",
       "      <td>8 Airport Rd-Evt Stn</td>\n",
       "      <td>b</td>\n",
       "      <td>107.40</td>\n",
       "      <td>156.00</td>\n",
       "      <td>-48.60</td>\n",
       "      <td>-0.31</td>\n",
       "    </tr>\n",
       "    <tr>\n",
       "      <th>312</th>\n",
       "      <td>Everett Transit</td>\n",
       "      <td>2 Marnr P&amp;R-Mall Stn</td>\n",
       "      <td>b</td>\n",
       "      <td>97.37</td>\n",
       "      <td>148.00</td>\n",
       "      <td>-50.63</td>\n",
       "      <td>-0.34</td>\n",
       "    </tr>\n",
       "    <tr>\n",
       "      <th>315</th>\n",
       "      <td>Everett Transit</td>\n",
       "      <td>6 Waterfront-Evt Stn</td>\n",
       "      <td>b</td>\n",
       "      <td>88.35</td>\n",
       "      <td>62.00</td>\n",
       "      <td>26.35</td>\n",
       "      <td>0.42</td>\n",
       "    </tr>\n",
       "    <tr>\n",
       "      <th>319</th>\n",
       "      <td>Everett Transit</td>\n",
       "      <td>18 Mukilteo-Evt Stn</td>\n",
       "      <td>b</td>\n",
       "      <td>71.91</td>\n",
       "      <td>60.00</td>\n",
       "      <td>11.91</td>\n",
       "      <td>0.20</td>\n",
       "    </tr>\n",
       "    <tr>\n",
       "      <th>314</th>\n",
       "      <td>Everett Transit</td>\n",
       "      <td>4 Evt Stn-Collge Stn</td>\n",
       "      <td>b</td>\n",
       "      <td>69.04</td>\n",
       "      <td>114.00</td>\n",
       "      <td>-44.96</td>\n",
       "      <td>-0.39</td>\n",
       "    </tr>\n",
       "    <tr>\n",
       "      <th>318</th>\n",
       "      <td>Everett Transit</td>\n",
       "      <td>12 Mall Stn-Seawy TC</td>\n",
       "      <td>b</td>\n",
       "      <td>63.71</td>\n",
       "      <td>256.00</td>\n",
       "      <td>-192.29</td>\n",
       "      <td>-0.75</td>\n",
       "    </tr>\n",
       "  </tbody>\n",
       "</table>\n",
       "</div>"
      ],
      "text/plain": [
       "              agency           description mode  model_boardings  \\\n",
       "316  Everett Transit   7 Coll Stn-Mall Stn    b         2,565.62   \n",
       "320  Everett Transit  29 Coll Stn-Mall Stn    b         1,274.87   \n",
       "313  Everett Transit   3 Seaway TC-Evt Stn    b           329.78   \n",
       "317  Everett Transit  8 Airport Rd-Evt Stn    b           107.40   \n",
       "312  Everett Transit  2 Marnr P&R-Mall Stn    b            97.37   \n",
       "315  Everett Transit  6 Waterfront-Evt Stn    b            88.35   \n",
       "319  Everett Transit   18 Mukilteo-Evt Stn    b            71.91   \n",
       "314  Everett Transit  4 Evt Stn-Collge Stn    b            69.04   \n",
       "318  Everett Transit  12 Mall Stn-Seawy TC    b            63.71   \n",
       "\n",
       "     observed_boardings    diff  perc_diff  \n",
       "316            2,239.00  326.62       0.15  \n",
       "320              881.00  393.87       0.45  \n",
       "313              285.00   44.78       0.16  \n",
       "317              156.00  -48.60      -0.31  \n",
       "312              148.00  -50.63      -0.34  \n",
       "315               62.00   26.35       0.42  \n",
       "319               60.00   11.91       0.20  \n",
       "314              114.00  -44.96      -0.39  \n",
       "318              256.00 -192.29      -0.75  "
      ]
     },
     "execution_count": 22,
     "metadata": {},
     "output_type": "execute_result"
    }
   ],
   "source": [
    "agency = 'Everett Transit'\n",
    "df[df['agency'] == agency].sort_values('model_boardings', ascending=False).head(10)[cols]"
   ]
  },
  {
   "cell_type": "raw",
   "id": "65fb23f5",
   "metadata": {},
   "source": [
    ":::"
   ]
  },
  {
   "cell_type": "markdown",
   "id": "6e6c5ead64d64e8c",
   "metadata": {},
   "source": [
    "### boarding on lines by agency"
   ]
  },
  {
   "cell_type": "code",
   "execution_count": 23,
   "id": "95db4119eb938544",
   "metadata": {
    "ExecuteTime": {
     "end_time": "2024-06-24T19:52:55.951969Z",
     "start_time": "2024-06-24T19:52:54.937995Z"
    },
    "execution": {
     "iopub.execute_input": "2024-12-14T02:38:41.171718Z",
     "iopub.status.busy": "2024-12-14T02:38:41.170721Z",
     "iopub.status.idle": "2024-12-14T02:38:42.833012Z",
     "shell.execute_reply": "2024-12-14T02:38:42.831017Z"
    }
   },
   "outputs": [
    {
     "name": "stdout",
     "output_type": "stream",
     "text": [
      "r^2 Community Transit: 0.9007795816325459\n",
      "r^2 Everett Transit: 0.989536030359279\n",
      "r^2 King County Metro: 0.9474693992296992\n",
      "r^2 Kitsap Transit: 0.9309984200053502\n",
      "r^2 Pierce Transit: 0.743026959451729\n"
     ]
    },
    {
     "name": "stdout",
     "output_type": "stream",
     "text": [
      "r^2 Sound Transit: 0.9974394214193536\n",
      "r^2 Washington Ferries: 0.9431540455365335\n"
     ]
    },
    {
     "data": {
      "image/png": "[encoded data removed]",
      "text/plain": [
       "<Figure size 432x288 with 1 Axes>"
      ]
     },
     "metadata": {
      "needs_background": "light"
     },
     "output_type": "display_data"
    },
    {
     "data": {
      "image/png": "[encoded data removed]",
      "text/plain": [
       "<Figure size 432x288 with 1 Axes>"
      ]
     },
     "metadata": {
      "needs_background": "light"
     },
     "output_type": "display_data"
    },
    {
     "data": {
      "image/png": "[encoded data removed]",
      "text/plain": [
       "<Figure size 432x288 with 1 Axes>"
      ]
     },
     "metadata": {
      "needs_background": "light"
     },
     "output_type": "display_data"
    },
    {
     "data": {
      "image/png": "[encoded data removed]",
      "text/plain": [
       "<Figure size 432x288 with 1 Axes>"
      ]
     },
     "metadata": {
      "needs_background": "light"
     },
     "output_type": "display_data"
    },
    {
     "data": {
      "image/png": "[encoded data removed]",
      "text/plain": [
       "<Figure size 432x288 with 1 Axes>"
      ]
     },
     "metadata": {
      "needs_background": "light"
     },
     "output_type": "display_data"
    },
    {
     "data": {
      "image/png": "[encoded data removed]",
      "text/plain": [
       "<Figure size 432x288 with 1 Axes>"
      ]
     },
     "metadata": {
      "needs_background": "light"
     },
     "output_type": "display_data"
    },
    {
     "data": {
      "image/png": "[encoded data removed]",
      "text/plain": [
       "<Figure size 432x288 with 1 Axes>"
      ]
     },
     "metadata": {
      "needs_background": "light"
     },
     "output_type": "display_data"
    }
   ],
   "source": [
    "df = pd.read_csv(os.path.join(csv_path,'daily_boardings_by_line.csv'), index_col='agency')\n",
    "df = df[-df['agency_id'].isnull()]\n",
    "\n",
    "for agency in np.unique(df.index):\n",
    "    _df = df.loc[agency,:]\n",
    "    if (type(_df) == pd.core.frame.DataFrame) & (len(df) > 0):\n",
    "        ax = _df.plot(kind='scatter', x='observed_boardings', y='model_boardings', label=agency)\n",
    "        lim = _df[['observed_boardings','model_boardings']].max().max()*1.05\n",
    "        ax.set_ylim(0,lim)\n",
    "        ax.set_xlim(0,lim)\n",
    "        x = np.linspace(*ax.get_xlim())\n",
    "        ax.plot(x, x)\n",
    "        slope, intercept, r_value, p_value, std_err = stats.linregress(_df['observed_boardings'],_df['model_boardings'])\n",
    "        print('r^2 ' + str(agency) + ': ' + str(r_value))"
   ]
  },
  {
   "cell_type": "markdown",
   "id": "4539ddda98821ff2",
   "metadata": {},
   "source": [
    "### boarding by light rail station"
   ]
  },
  {
   "cell_type": "raw",
   "id": "1a2860ab52ea5101",
   "metadata": {
    "vscode": {
     "languageId": "raw"
    }
   },
   "source": [
    ":::{.panel-tabset}\n",
    "#### 1 Line"
   ]
  },
  {
   "cell_type": "code",
   "execution_count": 24,
   "id": "2c245b8117693726",
   "metadata": {
    "ExecuteTime": {
     "end_time": "2024-06-24T20:06:01.435477Z",
     "start_time": "2024-06-24T20:06:01.389414Z"
    },
    "execution": {
     "iopub.execute_input": "2024-12-14T02:38:42.844979Z",
     "iopub.status.busy": "2024-12-14T02:38:42.843982Z",
     "iopub.status.idle": "2024-12-14T02:38:42.910989Z",
     "shell.execute_reply": "2024-12-14T02:38:42.908994Z"
    }
   },
   "outputs": [
    {
     "data": {
      "text/html": [
       "<div>\n",
       "<style scoped>\n",
       "    .dataframe tbody tr th:only-of-type {\n",
       "        vertical-align: middle;\n",
       "    }\n",
       "\n",
       "    .dataframe tbody tr th {\n",
       "        vertical-align: top;\n",
       "    }\n",
       "\n",
       "    .dataframe thead th {\n",
       "        text-align: right;\n",
       "    }\n",
       "</style>\n",
       "<table border=\"1\" class=\"dataframe\">\n",
       "  <thead>\n",
       "    <tr style=\"text-align: right;\">\n",
       "      <th></th>\n",
       "      <th>observed_boardings</th>\n",
       "      <th>model_boardings</th>\n",
       "      <th>diff</th>\n",
       "      <th>percent_diff</th>\n",
       "    </tr>\n",
       "    <tr>\n",
       "      <th>station_name</th>\n",
       "      <th></th>\n",
       "      <th></th>\n",
       "      <th></th>\n",
       "      <th></th>\n",
       "    </tr>\n",
       "  </thead>\n",
       "  <tbody>\n",
       "    <tr>\n",
       "      <th>Husky Stadium</th>\n",
       "      <td>4,821.00</td>\n",
       "      <td>3,516.48</td>\n",
       "      <td>-1,304.52</td>\n",
       "      <td>-27.06%</td>\n",
       "    </tr>\n",
       "    <tr>\n",
       "      <th>Westlake</th>\n",
       "      <td>9,739.00</td>\n",
       "      <td>10,399.49</td>\n",
       "      <td>660.49</td>\n",
       "      <td>6.78%</td>\n",
       "    </tr>\n",
       "    <tr>\n",
       "      <th>Symphony</th>\n",
       "      <td>4,263.00</td>\n",
       "      <td>6,244.96</td>\n",
       "      <td>1,981.96</td>\n",
       "      <td>46.49%</td>\n",
       "    </tr>\n",
       "    <tr>\n",
       "      <th>Pioneer Square</th>\n",
       "      <td>2,664.00</td>\n",
       "      <td>5,265.95</td>\n",
       "      <td>2,601.95</td>\n",
       "      <td>97.67%</td>\n",
       "    </tr>\n",
       "    <tr>\n",
       "      <th>Int'l District</th>\n",
       "      <td>4,797.00</td>\n",
       "      <td>1,901.84</td>\n",
       "      <td>-2,895.16</td>\n",
       "      <td>-60.35%</td>\n",
       "    </tr>\n",
       "    <tr>\n",
       "      <th>Capitol Hill</th>\n",
       "      <td>7,263.00</td>\n",
       "      <td>7,520.59</td>\n",
       "      <td>257.59</td>\n",
       "      <td>3.55%</td>\n",
       "    </tr>\n",
       "    <tr>\n",
       "      <th>Stadium</th>\n",
       "      <td>2,320.00</td>\n",
       "      <td>281.21</td>\n",
       "      <td>-2,038.79</td>\n",
       "      <td>-87.88%</td>\n",
       "    </tr>\n",
       "    <tr>\n",
       "      <th>SODO</th>\n",
       "      <td>1,652.00</td>\n",
       "      <td>2,346.76</td>\n",
       "      <td>694.76</td>\n",
       "      <td>42.06%</td>\n",
       "    </tr>\n",
       "    <tr>\n",
       "      <th>Beacon Hill</th>\n",
       "      <td>2,211.00</td>\n",
       "      <td>1,460.40</td>\n",
       "      <td>-750.60</td>\n",
       "      <td>-33.95%</td>\n",
       "    </tr>\n",
       "    <tr>\n",
       "      <th>Mount Baker</th>\n",
       "      <td>2,058.00</td>\n",
       "      <td>1,807.13</td>\n",
       "      <td>-250.87</td>\n",
       "      <td>-12.19%</td>\n",
       "    </tr>\n",
       "    <tr>\n",
       "      <th>Columbia City</th>\n",
       "      <td>1,840.00</td>\n",
       "      <td>1,786.63</td>\n",
       "      <td>-53.37</td>\n",
       "      <td>-2.90%</td>\n",
       "    </tr>\n",
       "    <tr>\n",
       "      <th>Othello</th>\n",
       "      <td>2,083.00</td>\n",
       "      <td>2,164.62</td>\n",
       "      <td>81.62</td>\n",
       "      <td>3.92%</td>\n",
       "    </tr>\n",
       "    <tr>\n",
       "      <th>Rainier Beach</th>\n",
       "      <td>1,403.00</td>\n",
       "      <td>1,607.04</td>\n",
       "      <td>204.04</td>\n",
       "      <td>14.54%</td>\n",
       "    </tr>\n",
       "    <tr>\n",
       "      <th>Tukwila Int'l Blvd</th>\n",
       "      <td>2,423.00</td>\n",
       "      <td>2,771.47</td>\n",
       "      <td>348.47</td>\n",
       "      <td>14.38%</td>\n",
       "    </tr>\n",
       "    <tr>\n",
       "      <th>SeaTac/Airport</th>\n",
       "      <td>6,087.00</td>\n",
       "      <td>5,906.51</td>\n",
       "      <td>-180.49</td>\n",
       "      <td>-2.97%</td>\n",
       "    </tr>\n",
       "    <tr>\n",
       "      <th>Angle Lake</th>\n",
       "      <td>3,840.00</td>\n",
       "      <td>2,604.38</td>\n",
       "      <td>-1,235.62</td>\n",
       "      <td>-32.18%</td>\n",
       "    </tr>\n",
       "    <tr>\n",
       "      <th>University District Station</th>\n",
       "      <td>6,493.00</td>\n",
       "      <td>6,696.10</td>\n",
       "      <td>203.10</td>\n",
       "      <td>3.13%</td>\n",
       "    </tr>\n",
       "    <tr>\n",
       "      <th>Roosevelt Station</th>\n",
       "      <td>4,340.00</td>\n",
       "      <td>8,633.84</td>\n",
       "      <td>4,293.84</td>\n",
       "      <td>98.94%</td>\n",
       "    </tr>\n",
       "    <tr>\n",
       "      <th>Northgate Station</th>\n",
       "      <td>10,430.00</td>\n",
       "      <td>7,958.28</td>\n",
       "      <td>-2,471.72</td>\n",
       "      <td>-23.70%</td>\n",
       "    </tr>\n",
       "    <tr>\n",
       "      <th>Total</th>\n",
       "      <td>80,727.00</td>\n",
       "      <td>80,873.68</td>\n",
       "      <td>146.68</td>\n",
       "      <td>0.18%</td>\n",
       "    </tr>\n",
       "  </tbody>\n",
       "</table>\n",
       "</div>"
      ],
      "text/plain": [
       "                             observed_boardings  model_boardings      diff  \\\n",
       "station_name                                                                 \n",
       "Husky Stadium                          4,821.00         3,516.48 -1,304.52   \n",
       "Westlake                               9,739.00        10,399.49    660.49   \n",
       "Symphony                               4,263.00         6,244.96  1,981.96   \n",
       "Pioneer Square                         2,664.00         5,265.95  2,601.95   \n",
       "Int'l District                         4,797.00         1,901.84 -2,895.16   \n",
       "Capitol Hill                           7,263.00         7,520.59    257.59   \n",
       "Stadium                                2,320.00           281.21 -2,038.79   \n",
       "SODO                                   1,652.00         2,346.76    694.76   \n",
       "Beacon Hill                            2,211.00         1,460.40   -750.60   \n",
       "Mount Baker                            2,058.00         1,807.13   -250.87   \n",
       "Columbia City                          1,840.00         1,786.63    -53.37   \n",
       "Othello                                2,083.00         2,164.62     81.62   \n",
       "Rainier Beach                          1,403.00         1,607.04    204.04   \n",
       "Tukwila Int'l Blvd                     2,423.00         2,771.47    348.47   \n",
       "SeaTac/Airport                         6,087.00         5,906.51   -180.49   \n",
       "Angle Lake                             3,840.00         2,604.38 -1,235.62   \n",
       "University District Station            6,493.00         6,696.10    203.10   \n",
       "Roosevelt Station                      4,340.00         8,633.84  4,293.84   \n",
       "Northgate Station                     10,430.00         7,958.28 -2,471.72   \n",
       "Total                                 80,727.00        80,873.68    146.68   \n",
       "\n",
       "                            percent_diff  \n",
       "station_name                              \n",
       "Husky Stadium                    -27.06%  \n",
       "Westlake                           6.78%  \n",
       "Symphony                          46.49%  \n",
       "Pioneer Square                    97.67%  \n",
       "Int'l District                   -60.35%  \n",
       "Capitol Hill                       3.55%  \n",
       "Stadium                          -87.88%  \n",
       "SODO                              42.06%  \n",
       "Beacon Hill                      -33.95%  \n",
       "Mount Baker                      -12.19%  \n",
       "Columbia City                     -2.90%  \n",
       "Othello                            3.92%  \n",
       "Rainier Beach                     14.54%  \n",
       "Tukwila Int'l Blvd                14.38%  \n",
       "SeaTac/Airport                    -2.97%  \n",
       "Angle Lake                       -32.18%  \n",
       "University District Station        3.13%  \n",
       "Roosevelt Station                 98.94%  \n",
       "Northgate Station                -23.70%  \n",
       "Total                              0.18%  "
      ]
     },
     "execution_count": 24,
     "metadata": {},
     "output_type": "execute_result"
    }
   ],
   "source": [
    "df = pd.read_csv(os.path.join(csv_path,'light_rail_boardings.csv'), index_col='station_name')\n",
    "df['diff'] = df['model_boardings']-df['observed_boardings']\n",
    "df['percent_diff'] = df['diff']/df['observed_boardings']\n",
    "\n",
    "df_table = df.copy()\n",
    "df_table[['percent_diff']] = df_table[['percent_diff']].applymap(format_percent)\n",
    "df_table"
   ]
  },
  {
   "cell_type": "raw",
   "id": "3dafcff1da10b5e5",
   "metadata": {},
   "source": [
    "#### Sound Transit Station Groupings"
   ]
  },
  {
   "cell_type": "code",
   "execution_count": 25,
   "id": "7456ebeb8efd83d0",
   "metadata": {
    "ExecuteTime": {
     "end_time": "2024-06-24T20:06:06.901270Z",
     "start_time": "2024-06-24T20:06:06.830246Z"
    },
    "execution": {
     "iopub.execute_input": "2024-12-14T02:38:42.922957Z",
     "iopub.status.busy": "2024-12-14T02:38:42.920963Z",
     "iopub.status.idle": "2024-12-14T02:38:42.990343Z",
     "shell.execute_reply": "2024-12-14T02:38:42.988264Z"
    }
   },
   "outputs": [
    {
     "data": {
      "text/html": [
       "<div>\n",
       "<style scoped>\n",
       "    .dataframe tbody tr th:only-of-type {\n",
       "        vertical-align: middle;\n",
       "    }\n",
       "\n",
       "    .dataframe tbody tr th {\n",
       "        vertical-align: top;\n",
       "    }\n",
       "\n",
       "    .dataframe thead th {\n",
       "        text-align: right;\n",
       "    }\n",
       "</style>\n",
       "<table border=\"1\" class=\"dataframe\">\n",
       "  <thead>\n",
       "    <tr style=\"text-align: right;\">\n",
       "      <th></th>\n",
       "      <th>observed_boardings</th>\n",
       "      <th>model_boardings</th>\n",
       "      <th>diff</th>\n",
       "      <th>percent_diff</th>\n",
       "    </tr>\n",
       "    <tr>\n",
       "      <th>station_group</th>\n",
       "      <th></th>\n",
       "      <th></th>\n",
       "      <th></th>\n",
       "      <th></th>\n",
       "    </tr>\n",
       "  </thead>\n",
       "  <tbody>\n",
       "    <tr>\n",
       "      <th>Husky Stadium</th>\n",
       "      <td>4,821.00</td>\n",
       "      <td>3,516.48</td>\n",
       "      <td>-1,304.52</td>\n",
       "      <td>-27.06%</td>\n",
       "    </tr>\n",
       "    <tr>\n",
       "      <th>Capitol Hill</th>\n",
       "      <td>7,263.00</td>\n",
       "      <td>7,520.59</td>\n",
       "      <td>257.59</td>\n",
       "      <td>3.55%</td>\n",
       "    </tr>\n",
       "    <tr>\n",
       "      <th>Westlake/Symphony</th>\n",
       "      <td>14,002.00</td>\n",
       "      <td>16,644.45</td>\n",
       "      <td>2,642.45</td>\n",
       "      <td>18.87%</td>\n",
       "    </tr>\n",
       "    <tr>\n",
       "      <th>Pioneer Square/Int'l District</th>\n",
       "      <td>7,461.00</td>\n",
       "      <td>7,167.79</td>\n",
       "      <td>-293.21</td>\n",
       "      <td>-3.93%</td>\n",
       "    </tr>\n",
       "    <tr>\n",
       "      <th>Stadium/SODO</th>\n",
       "      <td>3,972.00</td>\n",
       "      <td>2,627.96</td>\n",
       "      <td>-1,344.04</td>\n",
       "      <td>-33.84%</td>\n",
       "    </tr>\n",
       "    <tr>\n",
       "      <th>Beacon Hill/Mount Baker</th>\n",
       "      <td>4,269.00</td>\n",
       "      <td>3,267.53</td>\n",
       "      <td>-1,001.47</td>\n",
       "      <td>-23.46%</td>\n",
       "    </tr>\n",
       "    <tr>\n",
       "      <th>Columbia City</th>\n",
       "      <td>1,840.00</td>\n",
       "      <td>1,786.63</td>\n",
       "      <td>-53.37</td>\n",
       "      <td>-2.90%</td>\n",
       "    </tr>\n",
       "    <tr>\n",
       "      <th>Othello/Rainier Beach</th>\n",
       "      <td>3,486.00</td>\n",
       "      <td>3,771.66</td>\n",
       "      <td>285.66</td>\n",
       "      <td>8.19%</td>\n",
       "    </tr>\n",
       "    <tr>\n",
       "      <th>Tukwila Int'l Blvd</th>\n",
       "      <td>2,423.00</td>\n",
       "      <td>2,771.47</td>\n",
       "      <td>348.47</td>\n",
       "      <td>14.38%</td>\n",
       "    </tr>\n",
       "    <tr>\n",
       "      <th>SeaTac/Airport</th>\n",
       "      <td>6,087.00</td>\n",
       "      <td>5,906.51</td>\n",
       "      <td>-180.49</td>\n",
       "      <td>-2.97%</td>\n",
       "    </tr>\n",
       "    <tr>\n",
       "      <th>Angle Lake</th>\n",
       "      <td>3,840.00</td>\n",
       "      <td>2,604.38</td>\n",
       "      <td>-1,235.62</td>\n",
       "      <td>-32.18%</td>\n",
       "    </tr>\n",
       "  </tbody>\n",
       "</table>\n",
       "</div>"
      ],
      "text/plain": [
       "                               observed_boardings  model_boardings      diff  \\\n",
       "station_group                                                                  \n",
       "Husky Stadium                            4,821.00         3,516.48 -1,304.52   \n",
       "Capitol Hill                             7,263.00         7,520.59    257.59   \n",
       "Westlake/Symphony                       14,002.00        16,644.45  2,642.45   \n",
       "Pioneer Square/Int'l District            7,461.00         7,167.79   -293.21   \n",
       "Stadium/SODO                             3,972.00         2,627.96 -1,344.04   \n",
       "Beacon Hill/Mount Baker                  4,269.00         3,267.53 -1,001.47   \n",
       "Columbia City                            1,840.00         1,786.63    -53.37   \n",
       "Othello/Rainier Beach                    3,486.00         3,771.66    285.66   \n",
       "Tukwila Int'l Blvd                       2,423.00         2,771.47    348.47   \n",
       "SeaTac/Airport                           6,087.00         5,906.51   -180.49   \n",
       "Angle Lake                               3,840.00         2,604.38 -1,235.62   \n",
       "\n",
       "                              percent_diff  \n",
       "station_group                               \n",
       "Husky Stadium                      -27.06%  \n",
       "Capitol Hill                         3.55%  \n",
       "Westlake/Symphony                   18.87%  \n",
       "Pioneer Square/Int'l District       -3.93%  \n",
       "Stadium/SODO                       -33.84%  \n",
       "Beacon Hill/Mount Baker            -23.46%  \n",
       "Columbia City                       -2.90%  \n",
       "Othello/Rainier Beach                8.19%  \n",
       "Tukwila Int'l Blvd                  14.38%  \n",
       "SeaTac/Airport                      -2.97%  \n",
       "Angle Lake                         -32.18%  "
      ]
     },
     "execution_count": 25,
     "metadata": {},
     "output_type": "execute_result"
    }
   ],
   "source": [
    "df_combined = df.copy()\n",
    "\n",
    "df_combined['station_group'] = df.index\n",
    "df_combined.loc[['Westlake'],'station_group'] = 'Westlake/Symphony'\n",
    "df_combined.loc[['Symphony'],'station_group'] = 'Westlake/Symphony'\n",
    "\n",
    "df_combined.loc[['Pioneer Square'],'station_group'] = \"Pioneer Square/Int'l District\"\n",
    "df_combined.loc[[\"Int'l District\"],'station_group'] = \"Pioneer Square/Int'l District\"\n",
    "\n",
    "df_combined.loc[['Stadium'],'station_group'] = 'Stadium/SODO'\n",
    "df_combined.loc[['SODO'],'station_group'] = 'Stadium/SODO'\n",
    "\n",
    "df_combined.loc[['Beacon Hill'],'station_group'] = 'Beacon Hill/Mount Baker'\n",
    "df_combined.loc[['Mount Baker'],'station_group'] = 'Beacon Hill/Mount Baker'\n",
    "\n",
    "df_combined.loc[['Othello'],'station_group'] = 'Othello/Rainier Beach'\n",
    "df_combined.loc[['Rainier Beach'],'station_group'] = 'Othello/Rainier Beach'\n",
    "\n",
    "df_combined = df_combined.groupby('station_group').sum()[['observed_boardings','model_boardings']]\n",
    "df_combined['diff'] = df_combined['model_boardings']-df_combined['observed_boardings']\n",
    "df_combined['percent_diff'] = df_combined['diff']/df_combined['observed_boardings']\n",
    "df_combined[['percent_diff']] = df_combined[['percent_diff']].applymap(format_percent)\n",
    "\n",
    "df_combined.loc[['Husky Stadium','Capitol Hill','Westlake/Symphony',\"Pioneer Square/Int'l District\",\n",
    "                 'Stadium/SODO','Beacon Hill/Mount Baker','Columbia City','Othello/Rainier Beach',\n",
    "                 \"Tukwila Int'l Blvd\",'SeaTac/Airport','Angle Lake']]"
   ]
  },
  {
   "cell_type": "raw",
   "id": "b23f6eef",
   "metadata": {
    "vscode": {
     "languageId": "raw"
    }
   },
   "source": [
    "#### 2023/2024 Station Boardings"
   ]
  },
  {
   "cell_type": "code",
   "execution_count": 26,
   "id": "5d7293bb",
   "metadata": {},
   "outputs": [
    {
     "data": {
      "text/html": [
       "<div>\n",
       "<style scoped>\n",
       "    .dataframe tbody tr th:only-of-type {\n",
       "        vertical-align: middle;\n",
       "    }\n",
       "\n",
       "    .dataframe tbody tr th {\n",
       "        vertical-align: top;\n",
       "    }\n",
       "\n",
       "    .dataframe thead th {\n",
       "        text-align: right;\n",
       "    }\n",
       "</style>\n",
       "<table border=\"1\" class=\"dataframe\">\n",
       "  <thead>\n",
       "    <tr style=\"text-align: right;\">\n",
       "      <th></th>\n",
       "      <th>model_boardings</th>\n",
       "      <th>2023</th>\n",
       "      <th>2024</th>\n",
       "    </tr>\n",
       "    <tr>\n",
       "      <th>station_name</th>\n",
       "      <th></th>\n",
       "      <th></th>\n",
       "      <th></th>\n",
       "    </tr>\n",
       "  </thead>\n",
       "  <tbody>\n",
       "    <tr>\n",
       "      <th>Angle Lake</th>\n",
       "      <td>2,604.38</td>\n",
       "      <td>3,840.00</td>\n",
       "      <td>5,093.00</td>\n",
       "    </tr>\n",
       "    <tr>\n",
       "      <th>Beacon Hill</th>\n",
       "      <td>1,460.40</td>\n",
       "      <td>2,211.00</td>\n",
       "      <td>2,672.00</td>\n",
       "    </tr>\n",
       "    <tr>\n",
       "      <th>Capitol Hill</th>\n",
       "      <td>7,520.59</td>\n",
       "      <td>7,263.00</td>\n",
       "      <td>8,207.00</td>\n",
       "    </tr>\n",
       "    <tr>\n",
       "      <th>Columbia City</th>\n",
       "      <td>1,786.63</td>\n",
       "      <td>1,840.00</td>\n",
       "      <td>2,145.00</td>\n",
       "    </tr>\n",
       "    <tr>\n",
       "      <th>Husky Stadium</th>\n",
       "      <td>3,516.48</td>\n",
       "      <td>4,821.00</td>\n",
       "      <td>5,122.00</td>\n",
       "    </tr>\n",
       "    <tr>\n",
       "      <th>Int'l District</th>\n",
       "      <td>1,901.84</td>\n",
       "      <td>4,797.00</td>\n",
       "      <td>5,372.00</td>\n",
       "    </tr>\n",
       "    <tr>\n",
       "      <th>Mount Baker</th>\n",
       "      <td>1,807.13</td>\n",
       "      <td>2,058.00</td>\n",
       "      <td>2,458.00</td>\n",
       "    </tr>\n",
       "    <tr>\n",
       "      <th>Northgate Station</th>\n",
       "      <td>7,958.28</td>\n",
       "      <td>10,430.00</td>\n",
       "      <td>4,150.00</td>\n",
       "    </tr>\n",
       "    <tr>\n",
       "      <th>Othello</th>\n",
       "      <td>2,164.62</td>\n",
       "      <td>2,083.00</td>\n",
       "      <td>2,466.00</td>\n",
       "    </tr>\n",
       "    <tr>\n",
       "      <th>Pioneer Square</th>\n",
       "      <td>5,265.95</td>\n",
       "      <td>2,664.00</td>\n",
       "      <td>3,008.00</td>\n",
       "    </tr>\n",
       "    <tr>\n",
       "      <th>Rainier Beach</th>\n",
       "      <td>1,607.04</td>\n",
       "      <td>1,403.00</td>\n",
       "      <td>1,663.00</td>\n",
       "    </tr>\n",
       "    <tr>\n",
       "      <th>Roosevelt Station</th>\n",
       "      <td>8,633.84</td>\n",
       "      <td>4,340.00</td>\n",
       "      <td>3,693.00</td>\n",
       "    </tr>\n",
       "    <tr>\n",
       "      <th>SODO</th>\n",
       "      <td>2,346.76</td>\n",
       "      <td>1,652.00</td>\n",
       "      <td>1,899.00</td>\n",
       "    </tr>\n",
       "    <tr>\n",
       "      <th>SeaTac/Airport</th>\n",
       "      <td>5,906.51</td>\n",
       "      <td>6,087.00</td>\n",
       "      <td>9,490.00</td>\n",
       "    </tr>\n",
       "    <tr>\n",
       "      <th>Stadium</th>\n",
       "      <td>281.21</td>\n",
       "      <td>2,320.00</td>\n",
       "      <td>1,813.00</td>\n",
       "    </tr>\n",
       "    <tr>\n",
       "      <th>Symphony</th>\n",
       "      <td>6,244.96</td>\n",
       "      <td>4,263.00</td>\n",
       "      <td>4,783.00</td>\n",
       "    </tr>\n",
       "    <tr>\n",
       "      <th>Tukwila Int'l Blvd</th>\n",
       "      <td>2,771.47</td>\n",
       "      <td>2,423.00</td>\n",
       "      <td>3,475.00</td>\n",
       "    </tr>\n",
       "    <tr>\n",
       "      <th>University District Station</th>\n",
       "      <td>6,696.10</td>\n",
       "      <td>6,493.00</td>\n",
       "      <td>6,004.00</td>\n",
       "    </tr>\n",
       "    <tr>\n",
       "      <th>Westlake</th>\n",
       "      <td>10,399.49</td>\n",
       "      <td>9,739.00</td>\n",
       "      <td>10,737.00</td>\n",
       "    </tr>\n",
       "  </tbody>\n",
       "</table>\n",
       "</div>"
      ],
      "text/plain": [
       "                             model_boardings      2023      2024\n",
       "station_name                                                    \n",
       "Angle Lake                          2,604.38  3,840.00  5,093.00\n",
       "Beacon Hill                         1,460.40  2,211.00  2,672.00\n",
       "Capitol Hill                        7,520.59  7,263.00  8,207.00\n",
       "Columbia City                       1,786.63  1,840.00  2,145.00\n",
       "Husky Stadium                       3,516.48  4,821.00  5,122.00\n",
       "Int'l District                      1,901.84  4,797.00  5,372.00\n",
       "Mount Baker                         1,807.13  2,058.00  2,458.00\n",
       "Northgate Station                   7,958.28 10,430.00  4,150.00\n",
       "Othello                             2,164.62  2,083.00  2,466.00\n",
       "Pioneer Square                      5,265.95  2,664.00  3,008.00\n",
       "Rainier Beach                       1,607.04  1,403.00  1,663.00\n",
       "Roosevelt Station                   8,633.84  4,340.00  3,693.00\n",
       "SODO                                2,346.76  1,652.00  1,899.00\n",
       "SeaTac/Airport                      5,906.51  6,087.00  9,490.00\n",
       "Stadium                               281.21  2,320.00  1,813.00\n",
       "Symphony                            6,244.96  4,263.00  4,783.00\n",
       "Tukwila Int'l Blvd                  2,771.47  2,423.00  3,475.00\n",
       "University District Station         6,696.10  6,493.00  6,004.00\n",
       "Westlake                           10,399.49  9,739.00 10,737.00"
      ]
     },
     "execution_count": 26,
     "metadata": {},
     "output_type": "execute_result"
    }
   ],
   "source": [
    "df_obs = pd.read_sql(\n",
    "    \"SELECT * FROM light_rail_station_boardings WHERE year IN (2023, 2024)\",\n",
    "    con=conn,\n",
    ")\n",
    "df_obs.rename(columns={\"boardings\": \"observed_boardings\"}, inplace=True)\n",
    "\n",
    "# df_obs.groupby(['year','station_name']).sum()\n",
    "df_obs = pd.pivot_table(df_obs, values='observed_boardings', columns='year', index='station_name', aggfunc=np.sum)\n",
    "df_obs = df_obs.fillna(0)\n",
    "df_obs\n",
    "\n",
    "df = pd.read_csv(os.path.join(csv_path,'light_rail_boardings.csv'), index_col='station_name', usecols=['station_name','model_boardings'])\n",
    "df = df.merge(df_obs,  left_index=True, right_index=True, how='outer')\n",
    "df = df[df.index != 'Total']\n",
    "df = df[~df['model_boardings'].isnull()]\n",
    "df"
   ]
  },
  {
   "cell_type": "raw",
   "id": "f429de2d705b1e22",
   "metadata": {},
   "source": [
    ":::"
   ]
  },
  {
   "cell_type": "markdown",
   "id": "86996e48d6760252",
   "metadata": {},
   "source": [
    "## light rail stop transfers"
   ]
  },
  {
   "cell_type": "code",
   "execution_count": 27,
   "id": "4bd536d185354993",
   "metadata": {
    "ExecuteTime": {
     "end_time": "2024-06-24T20:06:14.325917Z",
     "start_time": "2024-06-24T20:06:14.279144Z"
    },
    "execution": {
     "iopub.execute_input": "2024-12-14T02:38:43.002696Z",
     "iopub.status.busy": "2024-12-14T02:38:43.000701Z",
     "iopub.status.idle": "2024-12-14T02:38:43.053560Z",
     "shell.execute_reply": "2024-12-14T02:38:43.051565Z"
    }
   },
   "outputs": [
    {
     "data": {
      "text/html": [
       "<div>\n",
       "<style scoped>\n",
       "    .dataframe tbody tr th:only-of-type {\n",
       "        vertical-align: middle;\n",
       "    }\n",
       "\n",
       "    .dataframe tbody tr th {\n",
       "        vertical-align: top;\n",
       "    }\n",
       "\n",
       "    .dataframe thead th {\n",
       "        text-align: right;\n",
       "    }\n",
       "</style>\n",
       "<table border=\"1\" class=\"dataframe\">\n",
       "  <thead>\n",
       "    <tr style=\"text-align: right;\">\n",
       "      <th></th>\n",
       "      <th>modeled_transfer_rate</th>\n",
       "      <th>observed_transfer_rate</th>\n",
       "      <th>diff</th>\n",
       "      <th>percent_diff</th>\n",
       "    </tr>\n",
       "    <tr>\n",
       "      <th>station_name</th>\n",
       "      <th></th>\n",
       "      <th></th>\n",
       "      <th></th>\n",
       "      <th></th>\n",
       "    </tr>\n",
       "  </thead>\n",
       "  <tbody>\n",
       "    <tr>\n",
       "      <th>Husky Stadium</th>\n",
       "      <td>0.82</td>\n",
       "      <td>-99.00</td>\n",
       "      <td>99.82</td>\n",
       "      <td>-100.83%</td>\n",
       "    </tr>\n",
       "    <tr>\n",
       "      <th>Westlake</th>\n",
       "      <td>0.12</td>\n",
       "      <td>0.36</td>\n",
       "      <td>-0.25</td>\n",
       "      <td>-67.75%</td>\n",
       "    </tr>\n",
       "    <tr>\n",
       "      <th>Symphony</th>\n",
       "      <td>0.29</td>\n",
       "      <td>0.20</td>\n",
       "      <td>0.09</td>\n",
       "      <td>44.50%</td>\n",
       "    </tr>\n",
       "    <tr>\n",
       "      <th>Pioneer Square</th>\n",
       "      <td>0.37</td>\n",
       "      <td>0.16</td>\n",
       "      <td>0.22</td>\n",
       "      <td>135.66%</td>\n",
       "    </tr>\n",
       "    <tr>\n",
       "      <th>Int'l District</th>\n",
       "      <td>0.52</td>\n",
       "      <td>0.45</td>\n",
       "      <td>0.07</td>\n",
       "      <td>16.23%</td>\n",
       "    </tr>\n",
       "    <tr>\n",
       "      <th>Capitol Hill</th>\n",
       "      <td>0.06</td>\n",
       "      <td>-99.00</td>\n",
       "      <td>99.06</td>\n",
       "      <td>-100.06%</td>\n",
       "    </tr>\n",
       "    <tr>\n",
       "      <th>Stadium</th>\n",
       "      <td>0.36</td>\n",
       "      <td>0.12</td>\n",
       "      <td>0.24</td>\n",
       "      <td>199.36%</td>\n",
       "    </tr>\n",
       "    <tr>\n",
       "      <th>SODO</th>\n",
       "      <td>0.65</td>\n",
       "      <td>0.31</td>\n",
       "      <td>0.34</td>\n",
       "      <td>108.13%</td>\n",
       "    </tr>\n",
       "    <tr>\n",
       "      <th>Beacon Hill</th>\n",
       "      <td>0.33</td>\n",
       "      <td>0.35</td>\n",
       "      <td>-0.02</td>\n",
       "      <td>-5.42%</td>\n",
       "    </tr>\n",
       "    <tr>\n",
       "      <th>Mount Baker</th>\n",
       "      <td>0.40</td>\n",
       "      <td>0.32</td>\n",
       "      <td>0.08</td>\n",
       "      <td>23.35%</td>\n",
       "    </tr>\n",
       "    <tr>\n",
       "      <th>Columbia City</th>\n",
       "      <td>0.01</td>\n",
       "      <td>0.12</td>\n",
       "      <td>-0.11</td>\n",
       "      <td>-90.77%</td>\n",
       "    </tr>\n",
       "    <tr>\n",
       "      <th>Othello</th>\n",
       "      <td>0.05</td>\n",
       "      <td>0.12</td>\n",
       "      <td>-0.07</td>\n",
       "      <td>-57.00%</td>\n",
       "    </tr>\n",
       "    <tr>\n",
       "      <th>Rainier Beach</th>\n",
       "      <td>0.30</td>\n",
       "      <td>0.36</td>\n",
       "      <td>-0.07</td>\n",
       "      <td>-18.00%</td>\n",
       "    </tr>\n",
       "    <tr>\n",
       "      <th>Tukwila Int'l Blvd</th>\n",
       "      <td>0.45</td>\n",
       "      <td>0.26</td>\n",
       "      <td>0.19</td>\n",
       "      <td>71.83%</td>\n",
       "    </tr>\n",
       "    <tr>\n",
       "      <th>SeaTac/Airport</th>\n",
       "      <td>0.12</td>\n",
       "      <td>0.26</td>\n",
       "      <td>-0.14</td>\n",
       "      <td>-53.05%</td>\n",
       "    </tr>\n",
       "    <tr>\n",
       "      <th>Angle Lake</th>\n",
       "      <td>0.30</td>\n",
       "      <td>-99.00</td>\n",
       "      <td>99.30</td>\n",
       "      <td>-100.30%</td>\n",
       "    </tr>\n",
       "    <tr>\n",
       "      <th>University District Station</th>\n",
       "      <td>0.22</td>\n",
       "      <td>-99.00</td>\n",
       "      <td>99.22</td>\n",
       "      <td>-100.22%</td>\n",
       "    </tr>\n",
       "    <tr>\n",
       "      <th>Roosevelt Station</th>\n",
       "      <td>0.39</td>\n",
       "      <td>-99.00</td>\n",
       "      <td>99.39</td>\n",
       "      <td>-100.39%</td>\n",
       "    </tr>\n",
       "    <tr>\n",
       "      <th>Northgate Station</th>\n",
       "      <td>0.60</td>\n",
       "      <td>-99.00</td>\n",
       "      <td>99.60</td>\n",
       "      <td>-100.61%</td>\n",
       "    </tr>\n",
       "  </tbody>\n",
       "</table>\n",
       "</div>"
      ],
      "text/plain": [
       "                             modeled_transfer_rate  observed_transfer_rate  \\\n",
       "station_name                                                                 \n",
       "Husky Stadium                                 0.82                  -99.00   \n",
       "Westlake                                      0.12                    0.36   \n",
       "Symphony                                      0.29                    0.20   \n",
       "Pioneer Square                                0.37                    0.16   \n",
       "Int'l District                                0.52                    0.45   \n",
       "Capitol Hill                                  0.06                  -99.00   \n",
       "Stadium                                       0.36                    0.12   \n",
       "SODO                                          0.65                    0.31   \n",
       "Beacon Hill                                   0.33                    0.35   \n",
       "Mount Baker                                   0.40                    0.32   \n",
       "Columbia City                                 0.01                    0.12   \n",
       "Othello                                       0.05                    0.12   \n",
       "Rainier Beach                                 0.30                    0.36   \n",
       "Tukwila Int'l Blvd                            0.45                    0.26   \n",
       "SeaTac/Airport                                0.12                    0.26   \n",
       "Angle Lake                                    0.30                  -99.00   \n",
       "University District Station                   0.22                  -99.00   \n",
       "Roosevelt Station                             0.39                  -99.00   \n",
       "Northgate Station                             0.60                  -99.00   \n",
       "\n",
       "                             diff percent_diff  \n",
       "station_name                                    \n",
       "Husky Stadium               99.82     -100.83%  \n",
       "Westlake                    -0.25      -67.75%  \n",
       "Symphony                     0.09       44.50%  \n",
       "Pioneer Square               0.22      135.66%  \n",
       "Int'l District               0.07       16.23%  \n",
       "Capitol Hill                99.06     -100.06%  \n",
       "Stadium                      0.24      199.36%  \n",
       "SODO                         0.34      108.13%  \n",
       "Beacon Hill                 -0.02       -5.42%  \n",
       "Mount Baker                  0.08       23.35%  \n",
       "Columbia City               -0.11      -90.77%  \n",
       "Othello                     -0.07      -57.00%  \n",
       "Rainier Beach               -0.07      -18.00%  \n",
       "Tukwila Int'l Blvd           0.19       71.83%  \n",
       "SeaTac/Airport              -0.14      -53.05%  \n",
       "Angle Lake                  99.30     -100.30%  \n",
       "University District Station 99.22     -100.22%  \n",
       "Roosevelt Station           99.39     -100.39%  \n",
       "Northgate Station           99.60     -100.61%  "
      ]
     },
     "execution_count": 27,
     "metadata": {},
     "output_type": "execute_result"
    }
   ],
   "source": [
    "df = pd.read_csv(os.path.join(csv_path,'light_rail_transfers.csv'), index_col='station_name')\n",
    "df[['percent_diff']] = df[['percent_diff']].applymap(format_percent)\n",
    "df"
   ]
  },
  {
   "cell_type": "markdown",
   "id": "fb8646bd",
   "metadata": {},
   "source": [
    "## Park and Ride"
   ]
  },
  {
   "cell_type": "code",
   "execution_count": 28,
   "id": "226280a8",
   "metadata": {},
   "outputs": [],
   "source": [
    "df = pd.read_csv(r'C:\\Workspace\\sc_2023_01_30_25\\outputs\\daysim\\_trip.tsv', sep='\\t')\n",
    "pnr_boardings = df[(df['otaz'].isin(range(3750,4001))) & (df['mode']==6)]\n",
    "pnr_boardings = pnr_boardings.groupby('otaz').count()[['trexpfac']].reset_index()"
   ]
  },
  {
   "cell_type": "code",
   "execution_count": 29,
   "id": "8fc48cdd",
   "metadata": {},
   "outputs": [],
   "source": [
    "stations = [\n",
    "    {\"id\": 3751, \"name\": \"Tukwila Station (CR)\"},\n",
    "    {\"id\": 3752, \"name\": \"Tacoma Dome Station\"},\n",
    "    {\"id\": 3753, \"name\": \"South Tacoma (CR)\"},\n",
    "    {\"id\": 3754, \"name\": \"Everett Station (CR)\"},\n",
    "    {\"id\": 3755, \"name\": \"Sumner Station (CR)\"},\n",
    "    {\"id\": 3756, \"name\": \"Mukilteo Station\"},\n",
    "    {\"id\": 3757, \"name\": \"Kent Station (CR)\"},\n",
    "    {\"id\": 3758, \"name\": \"Auburn Station (CR)\"},\n",
    "    {\"id\": 3759, \"name\": \"Lakewood (CR)\"},\n",
    "    {\"id\": 3760, \"name\": \"Gateway P&R\"},\n",
    "    {\"id\": 3761, \"name\": \"Puyallup Station (SB)\"},\n",
    "    {\"id\": 3762, \"name\": \"Twin Lakes P&R\"},\n",
    "    {\"id\": 3763, \"name\": \"Crossroads Neighborhood Church\"},\n",
    "    {\"id\": 3764, \"name\": \"Overlake Transit Center\"},\n",
    "    {\"id\": 3765, \"name\": \"Redondo Heights P&R\"},\n",
    "    {\"id\": 3766, \"name\": \"North Gig Harbor/Kimball Drive\"},\n",
    "    {\"id\": 3767, \"name\": \"Duvall P&R\"},\n",
    "    {\"id\": 3768, \"name\": \"Roy 'Y' P&R\"},\n",
    "    {\"id\": 3769, \"name\": \"South Hill (Elim Evangelical)\"},\n",
    "    {\"id\": 3770, \"name\": \"Parkland Transit Center\"},\n",
    "    {\"id\": 3771, \"name\": \"SR-512/I-5 (Lakewood)\"},\n",
    "    {\"id\": 3772, \"name\": \"Center Street P&R\"},\n",
    "    {\"id\": 3773, \"name\": \"Tacoma Mall Transit Center\"},\n",
    "    {\"id\": 3774, \"name\": \"South Tacoma West\"},\n",
    "    {\"id\": 3775, \"name\": \"South Tacoma East - 2\"},\n",
    "    {\"id\": 3776, \"name\": \"Narrows P&R\"},\n",
    "    {\"id\": 3777, \"name\": \"North Purdy/Purdy Crescent\"},\n",
    "    {\"id\": 3778, \"name\": \"Point Defiance Ferry\"},\n",
    "    {\"id\": 3779, \"name\": \"South Federal P&R\"},\n",
    "    {\"id\": 3780, \"name\": \"Sultan P&R\"},\n",
    "    {\"id\": 3781, \"name\": \"Federal Way P&R (320th)\"},\n",
    "    {\"id\": 3782, \"name\": \"Auburn P&R\"},\n",
    "    {\"id\": 3783, \"name\": \"Star Lake P&R\"},\n",
    "    {\"id\": 3784, \"name\": \"Holy Spirit Lutheran Church\"},\n",
    "    {\"id\": 3785, \"name\": \"Kent/Des Moines P&R\"},\n",
    "    {\"id\": 3786, \"name\": \"Kent/James St. P&R\"},\n",
    "    {\"id\": 3787, \"name\": \"Burien Transit Center\"},\n",
    "    {\"id\": 3788, \"name\": \"Tukwila\"},\n",
    "    {\"id\": 3789, \"name\": \"Maple Valley P&R\"},\n",
    "    {\"id\": 3790, \"name\": \"South Renton P&R\"},\n",
    "    {\"id\": 3791, \"name\": \"Renton Highlands P&R (St. Matts)\"},\n",
    "    {\"id\": 3792, \"name\": \"Issaquah Transit Center\"},\n",
    "    {\"id\": 3793, \"name\": \"Mercer Island P&R\"},\n",
    "    {\"id\": 3794, \"name\": \"Mercer Island Presbyterian\"},\n",
    "    {\"id\": 3795, \"name\": \"Newport Hills P&R\"},\n",
    "    {\"id\": 3796, \"name\": \"Newport Hills Community Church\"},\n",
    "    {\"id\": 3797, \"name\": \"Newport Covenant Church\"},\n",
    "    {\"id\": 3798, \"name\": \"South Bellevue P&R\"},\n",
    "    {\"id\": 3799, \"name\": \"Wilburton\"},\n",
    "    {\"id\": 3800, \"name\": \"Eastgate P&R\"},\n",
    "    {\"id\": 3801, \"name\": \"North Bend P&R\"},\n",
    "    {\"id\": 3802, \"name\": \"Evergreen Point P&R\"},\n",
    "    {\"id\": 3803, \"name\": \"Grace Lutheran Church\"},\n",
    "    {\"id\": 3804, \"name\": \"South Kirkland P&R\"},\n",
    "    {\"id\": 3805, \"name\": \"Overlake P&R\"},\n",
    "    {\"id\": 3806, \"name\": \"Houghton P&R\"},\n",
    "    {\"id\": 3807, \"name\": \"Bethel Lutheran\"},\n",
    "    {\"id\": 3808, \"name\": \"Redmond P&R\"},\n",
    "    {\"id\": 3809, \"name\": \"Saint Thomas Episcopal\"},\n",
    "    {\"id\": 3810, \"name\": \"Valley Center\"},\n",
    "    {\"id\": 3811, \"name\": \"Bear Creek P&R\"},\n",
    "    {\"id\": 3812, \"name\": \"Kingsgate P&R\"},\n",
    "    {\"id\": 3813, \"name\": \"Brickyard P&R\"},\n",
    "    {\"id\": 3814, \"name\": \"Northshore P&R\"},\n",
    "    {\"id\": 3815, \"name\": \"Kenmore P&R\"},\n",
    "    {\"id\": 3816, \"name\": \"Bethany Bible Church\"},\n",
    "    {\"id\": 3817, \"name\": \"Bothell P&R\"},\n",
    "    {\"id\": 3818, \"name\": \"Woodinville P&R\"},\n",
    "    {\"id\": 3819, \"name\": \"Olson & Meyers\"},\n",
    "    {\"id\": 3820, \"name\": \"Spokane Street P&R\"},\n",
    "    {\"id\": 3821, \"name\": \"Greenlake P&R\"},\n",
    "    {\"id\": 3822, \"name\": \"Northgate TC\"},\n",
    "    {\"id\": 3823, \"name\": \"North Jackson Park\"},\n",
    "    {\"id\": 3824, \"name\": \"Shoreline\"},\n",
    "    {\"id\": 3825, \"name\": \"112th St. & I-5\"},\n",
    "    {\"id\": 3826, \"name\": \"Ober Park\"},\n",
    "    {\"id\": 3827, \"name\": \"Vashon Heights\"},\n",
    "    {\"id\": 3828, \"name\": \"Mountlake Terrace P&R\"},\n",
    "    {\"id\": 3829, \"name\": \"Bethesda Lutheran\"},\n",
    "    {\"id\": 3830, \"name\": \"Edmonds Station\"},\n",
    "    {\"id\": 3831, \"name\": \"Edmonds P&R\"},\n",
    "    {\"id\": 3832, \"name\": \"Lynnwood P&R\"},\n",
    "    {\"id\": 3833, \"name\": \"Swamp Creek P&R\"},\n",
    "    {\"id\": 3834, \"name\": \"Mariner P&R\"},\n",
    "    {\"id\": 3835, \"name\": \"Snohomish\"},\n",
    "    {\"id\": 3836, \"name\": \"Marysville - Ash Ave\"},\n",
    "    {\"id\": 3837, \"name\": \"116th & I-5 - Marysville\"},\n",
    "    {\"id\": 3838, \"name\": \"SR-531 - Marysville\"},\n",
    "    {\"id\": 3839, \"name\": \"Arlington P&R\"},\n",
    "    {\"id\": 3840, \"name\": \"Stanwood\"},\n",
    "    {\"id\": 3841, \"name\": \"Monroe\"},\n",
    "    {\"id\": 3842, \"name\": \"Federal Way\"},\n",
    "    {\"id\": 3843, \"name\": \"Port Orchard Armory\"},\n",
    "    {\"id\": 3844, \"name\": \"Southworth Ferry P&R\"},\n",
    "    {\"id\": 3845, \"name\": \"McWilliams P&R\"},\n",
    "    {\"id\": 3846, \"name\": \"Bethany Lutheran Church\"},\n",
    "    {\"id\": 3847, \"name\": \"Gateway Fellowship\"},\n",
    "    {\"id\": 3848, \"name\": \"Agate Pass P&R/Clearwater\"},\n",
    "    {\"id\": 3849, \"name\": \"Kingston Ferry P&R\"},\n",
    "    {\"id\": 3850, \"name\": \"Suquamish United Church of Christ\"},\n",
    "    {\"id\": 3851, \"name\": \"Bainbridge Island Ferry\"},\n",
    "    {\"id\": 3852, \"name\": \"Puyallup Station (NB)\"},\n",
    "    {\"id\": 3853, \"name\": \"72nd Street Transit Center\"},\n",
    "    {\"id\": 3855, \"name\": \"DuPont\"},\n",
    "    {\"id\": 3856, \"name\": \"Aurora Village TC\"},\n",
    "    {\"id\": 3857, \"name\": \"Aurora Nazarene\"},\n",
    "    {\"id\": 3858, \"name\": \"Saint Margaret's Episcopal\"},\n",
    "    {\"id\": 3861, \"name\": \"Lake Meridian P&R\"},\n",
    "    {\"id\": 3862, \"name\": \"Smokey Pt. Church\"},\n",
    "    {\"id\": 3863, \"name\": \"Eastmont P&R\"},\n",
    "    {\"id\": 3864, \"name\": \"McCollum Park P&R\"},\n",
    "    {\"id\": 3865, \"name\": \"Canyon Park P&R\"},\n",
    "    {\"id\": 3866, \"name\": \"Korean Presby. P&R\"},\n",
    "    {\"id\": 3867, \"name\": \"Georges Kountry Korner\"},\n",
    "    {\"id\": 3868, \"name\": \"Poulsbo Church of the Nazarene\"},\n",
    "    {\"id\": 3870, \"name\": \"Harper Evangelical Free Church\"},\n",
    "    {\"id\": 3871, \"name\": \"Mullenix Road\"},\n",
    "    {\"id\": 3873, \"name\": \"TCC P&R\"},\n",
    "    {\"id\": 3874, \"name\": \"Ash Way P&R\"},\n",
    "    {\"id\": 3875, \"name\": \"Bonney Lake P&R\"},\n",
    "    {\"id\": 3876, \"name\": \"Tukwila Int. Station\"},\n",
    "    {\"id\": 3877, \"name\": \"South Hill P&R\"},\n",
    "    {\"id\": 3878, \"name\": \"South Tacoma East - 1\"},\n",
    "    {\"id\": 3879, \"name\": \"Issaquah Highlands\"},\n",
    "    {\"id\": 3880, \"name\": \"Lake Stevens TC\"},\n",
    "    {\"id\": 3881, \"name\": \"Liberty Bay Presbyterian\"},\n",
    "    {\"id\": 3882, \"name\": \"NK Baptist\"},\n",
    "    {\"id\": 3883, \"name\": \"Preston P&R\"},\n",
    "    {\"id\": 3884, \"name\": \"Bayside Community Church\"},\n",
    "    {\"id\": 3885, \"name\": \"Ollala Valley Fire Station\"},\n",
    "    {\"id\": 3886, \"name\": \"Bremerton Ferry\"},\n",
    "    {\"id\": 3888, \"name\": \"Puyallup Fair's Red Lot\"},\n",
    "    {\"id\": 3889, \"name\": \"Marysville - Cedar & Grove\"},\n",
    "    {\"id\": 3890, \"name\": \"Stanwood II\"},\n",
    "    {\"id\": 3891, \"name\": \"Marysville I P&R\"},\n",
    "    {\"id\": 3892, \"name\": \"Martha Lake Covenant Church\"},\n",
    "    {\"id\": 3893, \"name\": \"South Sammammish P&R\"},\n",
    "    {\"id\": 3894, \"name\": \"Renton City Municipal Garage\"},\n",
    "    {\"id\": 3895, \"name\": \"Tibbetts Lot\"},\n",
    "    {\"id\": 3896, \"name\": \"Renton Transit Center\"},\n",
    "    {\"id\": 3897, \"name\": \"Calvary Christian Assembly\"},\n",
    "    {\"id\": 3898, \"name\": \"Maple Valley Town Square\"},\n",
    "    {\"id\": 3899, \"name\": \"All Saints Lutheran Church\"},\n",
    "    {\"id\": 3900, \"name\": \"City View Church\"},\n",
    "    {\"id\": 3901, \"name\": \"Northwest University 6710 Bldg.\"},\n",
    "    {\"id\": 3902, \"name\": \"Sammamish Lutheran P&R\"},\n",
    "    {\"id\": 3903, \"name\": \"Redmond Ridge P&R\"},\n",
    "    {\"id\": 3904, \"name\": \"Kennydale United Methodist Church\"},\n",
    "    {\"id\": 3905, \"name\": \"Nativity Lutheran Church\"},\n",
    "    {\"id\": 3906, \"name\": \"South Jackson P&R\"},\n",
    "    {\"id\": 3907, \"name\": \"South SeaTac (LR)\"},\n",
    "    {\"id\": 3908, \"name\": \"Everett Station\"},\n",
    "    {\"id\": 3909, \"name\": \"Bremerton (SR-303/Riddell Road)\"},\n",
    "    {\"id\": 3910, \"name\": \"Silverdale\"},\n",
    "    {\"id\": 3911, \"name\": \"Tukwila Station (CR)\"},\n",
    "    {\"id\": 3913, \"name\": \"Sumner Station Garage\"},\n",
    "    {\"id\": 3914, \"name\": \"Tacoma Dome\"},\n",
    "    {\"id\": 3915, \"name\": \"Bothell (SR-527/185th Street)\"},\n",
    "    {\"id\": 3916, \"name\": \"SR-3/SR-303\"},\n",
    "    {\"id\": 3917, \"name\": \"SR-16/SR-160\"},\n",
    "    {\"id\": 3918, \"name\": \"I-5 & 175th\"}\n",
    "]"
   ]
  },
  {
   "cell_type": "code",
   "execution_count": 30,
   "id": "adf42b0c",
   "metadata": {},
   "outputs": [
    {
     "data": {
      "text/html": [
       "<div>\n",
       "<style scoped>\n",
       "    .dataframe tbody tr th:only-of-type {\n",
       "        vertical-align: middle;\n",
       "    }\n",
       "\n",
       "    .dataframe tbody tr th {\n",
       "        vertical-align: top;\n",
       "    }\n",
       "\n",
       "    .dataframe thead th {\n",
       "        text-align: right;\n",
       "    }\n",
       "</style>\n",
       "<table border=\"1\" class=\"dataframe\">\n",
       "  <thead>\n",
       "    <tr style=\"text-align: right;\">\n",
       "      <th></th>\n",
       "      <th>NodeID</th>\n",
       "      <th>taz</th>\n",
       "      <th>XCoord</th>\n",
       "      <th>YCoord</th>\n",
       "      <th>Capacity</th>\n",
       "      <th>Cost</th>\n",
       "      <th>otaz</th>\n",
       "      <th>Model Boardings</th>\n",
       "      <th>Boardings/Capacity</th>\n",
       "    </tr>\n",
       "  </thead>\n",
       "  <tbody>\n",
       "    <tr>\n",
       "      <th>0</th>\n",
       "      <td>3719</td>\n",
       "      <td>3751</td>\n",
       "      <td>1,292,102.12</td>\n",
       "      <td>170,904.47</td>\n",
       "      <td>390</td>\n",
       "      <td>0</td>\n",
       "      <td>3751</td>\n",
       "      <td>134</td>\n",
       "      <td>0.34</td>\n",
       "    </tr>\n",
       "    <tr>\n",
       "      <th>1</th>\n",
       "      <td>3720</td>\n",
       "      <td>3752</td>\n",
       "      <td>1,244,894.82</td>\n",
       "      <td>91,851.41</td>\n",
       "      <td>2337</td>\n",
       "      <td>0</td>\n",
       "      <td>3752</td>\n",
       "      <td>230</td>\n",
       "      <td>0.10</td>\n",
       "    </tr>\n",
       "    <tr>\n",
       "      <th>2</th>\n",
       "      <td>3721</td>\n",
       "      <td>3753</td>\n",
       "      <td>1,229,573.94</td>\n",
       "      <td>78,529.59</td>\n",
       "      <td>220</td>\n",
       "      <td>0</td>\n",
       "      <td>3753</td>\n",
       "      <td>8</td>\n",
       "      <td>0.04</td>\n",
       "    </tr>\n",
       "    <tr>\n",
       "      <th>3</th>\n",
       "      <td>3722</td>\n",
       "      <td>3754</td>\n",
       "      <td>1,306,255.47</td>\n",
       "      <td>358,805.35</td>\n",
       "      <td>1107</td>\n",
       "      <td>0</td>\n",
       "      <td>3754</td>\n",
       "      <td>86</td>\n",
       "      <td>0.08</td>\n",
       "    </tr>\n",
       "    <tr>\n",
       "      <th>4</th>\n",
       "      <td>3723</td>\n",
       "      <td>3755</td>\n",
       "      <td>1,289,549.88</td>\n",
       "      <td>76,554.53</td>\n",
       "      <td>350</td>\n",
       "      <td>0</td>\n",
       "      <td>3755</td>\n",
       "      <td>245</td>\n",
       "      <td>0.70</td>\n",
       "    </tr>\n",
       "  </tbody>\n",
       "</table>\n",
       "</div>"
      ],
      "text/plain": [
       "   NodeID   taz       XCoord     YCoord  Capacity  Cost  otaz  \\\n",
       "0    3719  3751 1,292,102.12 170,904.47       390     0  3751   \n",
       "1    3720  3752 1,244,894.82  91,851.41      2337     0  3752   \n",
       "2    3721  3753 1,229,573.94  78,529.59       220     0  3753   \n",
       "3    3722  3754 1,306,255.47 358,805.35      1107     0  3754   \n",
       "4    3723  3755 1,289,549.88  76,554.53       350     0  3755   \n",
       "\n",
       "   Model Boardings  Boardings/Capacity  \n",
       "0              134                0.34  \n",
       "1              230                0.10  \n",
       "2                8                0.04  \n",
       "3               86                0.08  \n",
       "4              245                0.70  "
      ]
     },
     "execution_count": 30,
     "metadata": {},
     "output_type": "execute_result"
    }
   ],
   "source": [
    "pnr_capacity = pd.read_csv(r'C:\\Workspace\\sc_2023_01_30_25\\inputs\\scenario\\networks\\p_r_nodes.csv')\n",
    "df = pnr_capacity.merge(pnr_boardings, left_on='ZoneID', right_on='otaz')\n",
    "df.rename(columns={'ZoneID': 'taz', 'trexpfac': 'Model Boardings'}, inplace=True)\n",
    "df['Boardings/Capacity'] = df['Model Boardings']/df['Capacity']\n",
    "df.head()"
   ]
  },
  {
   "cell_type": "code",
   "execution_count": 31,
   "id": "a4fb4af0",
   "metadata": {},
   "outputs": [],
   "source": [
    "df_station_names = pd.DataFrame(stations)\n",
    "df = df.merge(df_station_names, how='left', left_on='taz', right_on='id')"
   ]
  },
  {
   "cell_type": "code",
   "execution_count": 32,
   "id": "7aae9d60",
   "metadata": {},
   "outputs": [],
   "source": [
    "# df"
   ]
  },
  {
   "cell_type": "code",
   "execution_count": 33,
   "id": "7f7b1396",
   "metadata": {},
   "outputs": [
    {
     "data": {
      "text/html": [
       "        <script type=\"text/javascript\">\n",
       "        window.PlotlyConfig = {MathJaxConfig: 'local'};\n",
       "        if (window.MathJax && window.MathJax.Hub && window.MathJax.Hub.Config) {window.MathJax.Hub.Config({SVG: {font: \"STIX-Web\"}});}\n",
       "        if (typeof require !== 'undefined') {\n",
       "        require.undef(\"plotly\");\n",
       "        requirejs.config({\n",
       "            paths: {\n",
       "                'plotly': ['https://cdn.plot.ly/plotly-2.27.0.min']\n",
       "            }\n",
       "        });\n",
       "        require(['plotly'], function(Plotly) {\n",
       "            window._Plotly = Plotly;\n",
       "        });\n",
       "        }\n",
       "        </script>\n",
       "        "
      ]
     },
     "metadata": {},
     "output_type": "display_data"
    },
    {
     "data": {
      "application/vnd.plotly.v1+json": {
       "config": {
        "plotlyServerURL": "https://plot.ly"
       },
       "data": [
        {
         "customdata": [
          [
           "Tukwila Station (CR)",
           0.3435897435897436
          ],
          [
           "Tacoma Dome Station",
           0.09841677364142062
          ],
          [
           "South Tacoma (CR)",
           0.03636363636363636
          ],
          [
           "Everett Station (CR)",
           0.07768744354110207
          ],
          [
           "Sumner Station (CR)",
           0.7
          ],
          [
           "Mukilteo Station",
           0.047619047619047616
          ],
          [
           "Kent Station (CR)",
           0.31224899598393574
          ],
          [
           "Auburn Station (CR)",
           0.9399684044233807
          ],
          [
           "Lakewood (CR)",
           0.016638935108153077
          ],
          [
           "Gateway P&R",
           0.2403846153846154
          ],
          [
           "Puyallup Station (SB)",
           0.32
          ],
          [
           "Twin Lakes P&R",
           0.0033333333333333335
          ],
          [
           "Crossroads Neighborhood Church",
           0.06542056074766354
          ],
          [
           "Overlake Transit Center",
           0.15315315315315314
          ],
          [
           "Redondo Heights P&R",
           0.005738880918220947
          ],
          [
           "North Gig Harbor/Kimball Drive",
           0.032679738562091505
          ],
          [
           "Duvall P&R",
           0.04081632653061224
          ],
          [
           "Roy 'Y' P&R",
           0.01
          ],
          [
           "South Hill (Elim Evangelical)",
           0.4
          ],
          [
           "Parkland Transit Center",
           0.11290322580645161
          ],
          [
           "SR-512/I-5 (Lakewood)",
           0.04056795131845842
          ],
          [
           "Center Street P&R",
           0.17333333333333334
          ],
          [
           "Tacoma Mall Transit Center",
           0.14
          ],
          [
           "South Tacoma West",
           0.11538461538461539
          ],
          [
           "Narrows P&R",
           0.035897435897435895
          ],
          [
           "North Purdy/Purdy Crescent",
           0.01
          ],
          [
           "Point Defiance Ferry",
           0.02531645569620253
          ],
          [
           "South Federal P&R",
           0.031067961165048542
          ],
          [
           "Federal Way P&R (320th)",
           0.12998859749144812
          ],
          [
           "Auburn P&R",
           0.01639344262295082
          ],
          [
           "Star Lake P&R",
           0.001851851851851852
          ],
          [
           "Holy Spirit Lutheran Church",
           0.25
          ],
          [
           "Kent/Des Moines P&R",
           0.04455445544554455
          ],
          [
           "Kent/James St. P&R",
           0.09957924263674614
          ],
          [
           "Burien Transit Center",
           0.09631147540983606
          ],
          [
           "Tukwila",
           0.13108614232209737
          ],
          [
           "South Renton P&R",
           0.17402597402597403
          ],
          [
           "Renton Highlands P&R (St. Matts)",
           0.0546875
          ],
          [
           "Issaquah Transit Center",
           0.03540903540903541
          ],
          [
           "Mercer Island P&R",
           0.1319910514541387
          ],
          [
           "Mercer Island Presbyterian",
           0.3333333333333333
          ],
          [
           "Newport Hills P&R",
           0.03636363636363636
          ],
          [
           "Newport Covenant Church",
           0.09333333333333334
          ],
          [
           "South Bellevue P&R",
           0.2023121387283237
          ],
          [
           "Eastgate P&R",
           0.10780669144981413
          ],
          [
           "North Bend P&R",
           0.1125
          ],
          [
           "Evergreen Point P&R",
           0.47368421052631576
          ],
          [
           "Grace Lutheran Church",
           0.06
          ],
          [
           "South Kirkland P&R",
           0.09963985594237695
          ],
          [
           "Overlake P&R",
           0.059113300492610835
          ],
          [
           "Houghton P&R",
           0.059574468085106386
          ],
          [
           "Redmond P&R",
           0.21485411140583555
          ],
          [
           "Valley Center",
           0.01818181818181818
          ],
          [
           "Bear Creek P&R",
           0.21554770318021202
          ],
          [
           "Kingsgate P&R",
           0.14342629482071714
          ],
          [
           "Brickyard P&R",
           0.01805869074492099
          ],
          [
           "Northshore P&R",
           0.0851063829787234
          ],
          [
           "Kenmore P&R",
           0.11608623548922056
          ],
          [
           "Bethany Bible Church",
           0.72
          ],
          [
           "Bothell P&R",
           0.36363636363636365
          ],
          [
           "Woodinville P&R",
           0.03881278538812785
          ],
          [
           "Olson & Meyers",
           0.18
          ],
          [
           "Spokane Street P&R",
           0.16363636363636364
          ],
          [
           "Greenlake P&R",
           0.7712895377128953
          ],
          [
           "North Jackson Park",
           0.27941176470588236
          ],
          [
           "Shoreline",
           0.23918575063613232
          ],
          [
           "112th St. & I-5",
           0.022670025188916875
          ],
          [
           "Ober Park",
           0.22916666666666666
          ],
          [
           "Vashon Heights",
           0.25217391304347825
          ],
          [
           "Mountlake Terrace P&R",
           0.0625
          ],
          [
           "Edmonds Station",
           0.023166023166023165
          ],
          [
           "Edmonds P&R",
           0.09411764705882353
          ],
          [
           "Lynnwood P&R",
           0.010014306151645207
          ],
          [
           "Swamp Creek P&R",
           0.046341463414634146
          ],
          [
           "Mariner P&R",
           0.050974512743628186
          ],
          [
           "Snohomish",
           0.14423076923076922
          ],
          [
           "Marysville - Ash Ave",
           0.0049504950495049506
          ],
          [
           "116th & I-5 - Marysville",
           0.03508771929824561
          ],
          [
           "SR-531 - Marysville",
           0.017241379310344827
          ],
          [
           "Arlington P&R",
           0.2
          ],
          [
           "Monroe",
           0.058823529411764705
          ],
          [
           "Federal Way",
           0.043697478991596636
          ],
          [
           "Port Orchard Armory",
           0.38095238095238093
          ],
          [
           "Southworth Ferry P&R",
           0.11006289308176101
          ],
          [
           "McWilliams P&R",
           0.006622516556291391
          ],
          [
           "Bethany Lutheran Church",
           0.2125
          ],
          [
           "Gateway Fellowship",
           0.057971014492753624
          ],
          [
           "Kingston Ferry P&R",
           0.041666666666666664
          ],
          [
           "Suquamish United Church of Christ",
           0.015384615384615385
          ],
          [
           "Bainbridge Island Ferry",
           0.41711229946524064
          ],
          [
           "Puyallup Station (NB)",
           0.22527472527472528
          ],
          [
           "72nd Street Transit Center",
           0.07352941176470588
          ],
          [
           "DuPont",
           0.01834862385321101
          ],
          [
           "Aurora Village TC",
           0.06435643564356436
          ],
          [
           "Aurora Nazarene",
           0.008620689655172414
          ],
          [
           "Saint Margaret's Episcopal",
           0.078125
          ],
          [
           "Lake Meridian P&R",
           0.19186046511627908
          ],
          [
           "Smokey Pt. Church",
           0.12
          ],
          [
           "Eastmont P&R",
           0.007712082262210797
          ],
          [
           "McCollum Park P&R",
           0.044009779951100246
          ],
          [
           "Canyon Park P&R",
           0.056291390728476824
          ],
          [
           "Korean Presby. P&R",
           0.2
          ],
          [
           "Poulsbo Church of the Nazarene",
           0.007518796992481203
          ],
          [
           "Harper Evangelical Free Church",
           0.015151515151515152
          ],
          [
           "Mullenix Road",
           0.03260869565217391
          ],
          [
           "TCC P&R",
           0.15789473684210525
          ],
          [
           "Ash Way P&R",
           0.09295499021526418
          ],
          [
           "Bonney Lake P&R",
           0.014044943820224719
          ],
          [
           "Tukwila Int. Station",
           0.675226586102719
          ],
          [
           "South Hill P&R",
           0.07344632768361582
          ],
          [
           "South Tacoma East - 1",
           0.030303030303030304
          ],
          [
           "Issaquah Highlands",
           0.05643564356435644
          ],
          [
           "Lake Stevens TC",
           0.028985507246376812
          ],
          [
           "NK Baptist",
           0.05263157894736842
          ],
          [
           "Preston P&R",
           0.1509433962264151
          ],
          [
           "Bayside Community Church",
           0.023809523809523808
          ],
          [
           "Bremerton Ferry",
           0.09363957597173145
          ],
          [
           "Marysville - Cedar & Grove",
           0.028169014084507043
          ],
          [
           "Marysville I P&R",
           0.10810810810810811
          ],
          [
           "Martha Lake Covenant Church",
           0.013333333333333334
          ],
          [
           "South Sammammish P&R",
           0.007547169811320755
          ],
          [
           "Renton City Municipal Garage",
           0.09333333333333334
          ],
          [
           "Tibbetts Lot",
           0.06470588235294118
          ],
          [
           "Renton Transit Center",
           0.07333333333333333
          ],
          [
           "Maple Valley Town Square",
           0.044444444444444446
          ],
          [
           "All Saints Lutheran Church",
           0.17333333333333334
          ],
          [
           "City View Church",
           0.10416666666666667
          ],
          [
           "Northwest University 6710 Bldg.",
           0.16393442622950818
          ],
          [
           "Sammamish Lutheran P&R",
           0.07407407407407407
          ],
          [
           "Redmond Ridge P&R",
           0.019230769230769232
          ],
          [
           "Kennydale United Methodist Church",
           0.08
          ],
          [
           "Nativity Lutheran Church",
           0.02040816326530612
          ],
          [
           "South SeaTac (LR)",
           0.725
          ],
          [
           "Everett Station",
           0.30625
          ]
         ],
         "hovertemplate": "color=Boardings/Capacity <= 1<br>Capacity=%{x}<br>Model Boardings=%{y}<br>name=%{customdata[0]}<br>Boardings/Capacity=%{customdata[1]:.2f}<extra></extra>",
         "legendgroup": "Boardings/Capacity <= 1",
         "marker": {
          "color": "#91268F",
          "symbol": "circle"
         },
         "mode": "markers",
         "name": "Boardings/Capacity <= 1",
         "orientation": "v",
         "showlegend": true,
         "type": "scatter",
         "x": [
          390,
          2337,
          220,
          1107,
          350,
          63,
          996,
          633,
          601,
          104,
          50,
          600,
          107,
          222,
          697,
          306,
          49,
          100,
          20,
          62,
          493,
          75,
          150,
          78,
          195,
          200,
          79,
          515,
          877,
          244,
          540,
          40,
          404,
          713,
          488,
          267,
          385,
          128,
          819,
          447,
          30,
          275,
          75,
          519,
          1614,
          80,
          38,
          50,
          833,
          203,
          470,
          377,
          55,
          283,
          502,
          443,
          376,
          603,
          75,
          220,
          438,
          100,
          55,
          411,
          68,
          393,
          397,
          48,
          230,
          880,
          259,
          255,
          1398,
          410,
          667,
          104,
          202,
          57,
          58,
          25,
          102,
          1190,
          105,
          318,
          151,
          80,
          138,
          72,
          65,
          187,
          364,
          68,
          109,
          202,
          116,
          64,
          172,
          50,
          389,
          409,
          302,
          25,
          266,
          462,
          92,
          95,
          1022,
          356,
          662,
          354,
          33,
          1010,
          207,
          57,
          53,
          210,
          566,
          213,
          74,
          75,
          265,
          150,
          170,
          150,
          90,
          75,
          96,
          61,
          54,
          52,
          50,
          49,
          1160,
          160
         ],
         "xaxis": "x",
         "y": [
          134,
          230,
          8,
          86,
          245,
          3,
          311,
          595,
          10,
          25,
          16,
          2,
          7,
          34,
          4,
          10,
          2,
          1,
          8,
          7,
          20,
          13,
          21,
          9,
          7,
          2,
          2,
          16,
          114,
          4,
          1,
          10,
          18,
          71,
          47,
          35,
          67,
          7,
          29,
          59,
          10,
          10,
          7,
          105,
          174,
          9,
          18,
          3,
          83,
          12,
          28,
          81,
          1,
          61,
          72,
          8,
          32,
          70,
          54,
          80,
          17,
          18,
          9,
          317,
          19,
          94,
          9,
          11,
          58,
          55,
          6,
          24,
          14,
          19,
          34,
          15,
          1,
          2,
          1,
          5,
          6,
          52,
          40,
          35,
          1,
          17,
          8,
          3,
          1,
          78,
          82,
          5,
          2,
          13,
          1,
          5,
          33,
          6,
          3,
          18,
          17,
          5,
          2,
          7,
          3,
          15,
          95,
          5,
          447,
          26,
          1,
          57,
          6,
          3,
          8,
          5,
          53,
          6,
          8,
          1,
          2,
          14,
          11,
          11,
          4,
          13,
          10,
          10,
          4,
          1,
          4,
          1,
          841,
          49
         ],
         "yaxis": "y"
        },
        {
         "customdata": [
          [
           "Northgate TC",
           1.2253147779986746
          ],
          [
           "Puyallup Fair's Red Lot",
           1.538812785388128
          ],
          [
           "Calvary Christian Assembly",
           2.92
          ],
          [
           null,
           1.2407407407407407
          ]
         ],
         "hovertemplate": "color=Boardings/Capacity > 1<br>Capacity=%{x}<br>Model Boardings=%{y}<br>name=%{customdata[0]}<br>Boardings/Capacity=%{customdata[1]:.2f}<extra></extra>",
         "legendgroup": "Boardings/Capacity > 1",
         "marker": {
          "color": "#8CC63E",
          "symbol": "circle"
         },
         "mode": "markers",
         "name": "Boardings/Capacity > 1",
         "orientation": "v",
         "showlegend": true,
         "type": "scatter",
         "x": [
          1509,
          219,
          125,
          54
         ],
         "xaxis": "x",
         "y": [
          1849,
          337,
          365,
          67
         ],
         "yaxis": "y"
        }
       ],
       "layout": {
        "height": 600,
        "legend": {
         "title": {
          "text": "color"
         },
         "tracegroupgap": 0
        },
        "template": {
         "data": {
          "bar": [
           {
            "error_x": {
             "color": "rgb(36,36,36)"
            },
            "error_y": {
             "color": "rgb(36,36,36)"
            },
            "marker": {
             "line": {
              "color": "white",
              "width": 0.5
             },
             "pattern": {
              "fillmode": "overlay",
              "size": 10,
              "solidity": 0.2
             }
            },
            "type": "bar"
           }
          ],
          "barpolar": [
           {
            "marker": {
             "line": {
              "color": "white",
              "width": 0.5
             },
             "pattern": {
              "fillmode": "overlay",
              "size": 10,
              "solidity": 0.2
             }
            },
            "type": "barpolar"
           }
          ],
          "carpet": [
           {
            "aaxis": {
             "endlinecolor": "rgb(36,36,36)",
             "gridcolor": "white",
             "linecolor": "white",
             "minorgridcolor": "white",
             "startlinecolor": "rgb(36,36,36)"
            },
            "baxis": {
             "endlinecolor": "rgb(36,36,36)",
             "gridcolor": "white",
             "linecolor": "white",
             "minorgridcolor": "white",
             "startlinecolor": "rgb(36,36,36)"
            },
            "type": "carpet"
           }
          ],
          "choropleth": [
           {
            "colorbar": {
             "outlinewidth": 1,
             "tickcolor": "rgb(36,36,36)",
             "ticks": "outside"
            },
            "type": "choropleth"
           }
          ],
          "contour": [
           {
            "colorbar": {
             "outlinewidth": 1,
             "tickcolor": "rgb(36,36,36)",
             "ticks": "outside"
            },
            "colorscale": [
             [
              0.0,
              "#440154"
             ],
             [
              0.1111111111111111,
              "#482878"
             ],
             [
              0.2222222222222222,
              "#3e4989"
             ],
             [
              0.3333333333333333,
              "#31688e"
             ],
             [
              0.4444444444444444,
              "#26828e"
             ],
             [
              0.5555555555555556,
              "#1f9e89"
             ],
             [
              0.6666666666666666,
              "#35b779"
             ],
             [
              0.7777777777777778,
              "#6ece58"
             ],
             [
              0.8888888888888888,
              "#b5de2b"
             ],
             [
              1.0,
              "#fde725"
             ]
            ],
            "type": "contour"
           }
          ],
          "contourcarpet": [
           {
            "colorbar": {
             "outlinewidth": 1,
             "tickcolor": "rgb(36,36,36)",
             "ticks": "outside"
            },
            "type": "contourcarpet"
           }
          ],
          "heatmap": [
           {
            "colorbar": {
             "outlinewidth": 1,
             "tickcolor": "rgb(36,36,36)",
             "ticks": "outside"
            },
            "colorscale": [
             [
              0.0,
              "#440154"
             ],
             [
              0.1111111111111111,
              "#482878"
             ],
             [
              0.2222222222222222,
              "#3e4989"
             ],
             [
              0.3333333333333333,
              "#31688e"
             ],
             [
              0.4444444444444444,
              "#26828e"
             ],
             [
              0.5555555555555556,
              "#1f9e89"
             ],
             [
              0.6666666666666666,
              "#35b779"
             ],
             [
              0.7777777777777778,
              "#6ece58"
             ],
             [
              0.8888888888888888,
              "#b5de2b"
             ],
             [
              1.0,
              "#fde725"
             ]
            ],
            "type": "heatmap"
           }
          ],
          "heatmapgl": [
           {
            "colorbar": {
             "outlinewidth": 1,
             "tickcolor": "rgb(36,36,36)",
             "ticks": "outside"
            },
            "colorscale": [
             [
              0.0,
              "#440154"
             ],
             [
              0.1111111111111111,
              "#482878"
             ],
             [
              0.2222222222222222,
              "#3e4989"
             ],
             [
              0.3333333333333333,
              "#31688e"
             ],
             [
              0.4444444444444444,
              "#26828e"
             ],
             [
              0.5555555555555556,
              "#1f9e89"
             ],
             [
              0.6666666666666666,
              "#35b779"
             ],
             [
              0.7777777777777778,
              "#6ece58"
             ],
             [
              0.8888888888888888,
              "#b5de2b"
             ],
             [
              1.0,
              "#fde725"
             ]
            ],
            "type": "heatmapgl"
           }
          ],
          "histogram": [
           {
            "marker": {
             "line": {
              "color": "white",
              "width": 0.6
             }
            },
            "type": "histogram"
           }
          ],
          "histogram2d": [
           {
            "colorbar": {
             "outlinewidth": 1,
             "tickcolor": "rgb(36,36,36)",
             "ticks": "outside"
            },
            "colorscale": [
             [
              0.0,
              "#440154"
             ],
             [
              0.1111111111111111,
              "#482878"
             ],
             [
              0.2222222222222222,
              "#3e4989"
             ],
             [
              0.3333333333333333,
              "#31688e"
             ],
             [
              0.4444444444444444,
              "#26828e"
             ],
             [
              0.5555555555555556,
              "#1f9e89"
             ],
             [
              0.6666666666666666,
              "#35b779"
             ],
             [
              0.7777777777777778,
              "#6ece58"
             ],
             [
              0.8888888888888888,
              "#b5de2b"
             ],
             [
              1.0,
              "#fde725"
             ]
            ],
            "type": "histogram2d"
           }
          ],
          "histogram2dcontour": [
           {
            "colorbar": {
             "outlinewidth": 1,
             "tickcolor": "rgb(36,36,36)",
             "ticks": "outside"
            },
            "colorscale": [
             [
              0.0,
              "#440154"
             ],
             [
              0.1111111111111111,
              "#482878"
             ],
             [
              0.2222222222222222,
              "#3e4989"
             ],
             [
              0.3333333333333333,
              "#31688e"
             ],
             [
              0.4444444444444444,
              "#26828e"
             ],
             [
              0.5555555555555556,
              "#1f9e89"
             ],
             [
              0.6666666666666666,
              "#35b779"
             ],
             [
              0.7777777777777778,
              "#6ece58"
             ],
             [
              0.8888888888888888,
              "#b5de2b"
             ],
             [
              1.0,
              "#fde725"
             ]
            ],
            "type": "histogram2dcontour"
           }
          ],
          "mesh3d": [
           {
            "colorbar": {
             "outlinewidth": 1,
             "tickcolor": "rgb(36,36,36)",
             "ticks": "outside"
            },
            "type": "mesh3d"
           }
          ],
          "parcoords": [
           {
            "line": {
             "colorbar": {
              "outlinewidth": 1,
              "tickcolor": "rgb(36,36,36)",
              "ticks": "outside"
             }
            },
            "type": "parcoords"
           }
          ],
          "pie": [
           {
            "automargin": true,
            "type": "pie"
           }
          ],
          "scatter": [
           {
            "fillpattern": {
             "fillmode": "overlay",
             "size": 10,
             "solidity": 0.2
            },
            "type": "scatter"
           }
          ],
          "scatter3d": [
           {
            "line": {
             "colorbar": {
              "outlinewidth": 1,
              "tickcolor": "rgb(36,36,36)",
              "ticks": "outside"
             }
            },
            "marker": {
             "colorbar": {
              "outlinewidth": 1,
              "tickcolor": "rgb(36,36,36)",
              "ticks": "outside"
             }
            },
            "type": "scatter3d"
           }
          ],
          "scattercarpet": [
           {
            "marker": {
             "colorbar": {
              "outlinewidth": 1,
              "tickcolor": "rgb(36,36,36)",
              "ticks": "outside"
             }
            },
            "type": "scattercarpet"
           }
          ],
          "scattergeo": [
           {
            "marker": {
             "colorbar": {
              "outlinewidth": 1,
              "tickcolor": "rgb(36,36,36)",
              "ticks": "outside"
             }
            },
            "type": "scattergeo"
           }
          ],
          "scattergl": [
           {
            "marker": {
             "colorbar": {
              "outlinewidth": 1,
              "tickcolor": "rgb(36,36,36)",
              "ticks": "outside"
             }
            },
            "type": "scattergl"
           }
          ],
          "scattermapbox": [
           {
            "marker": {
             "colorbar": {
              "outlinewidth": 1,
              "tickcolor": "rgb(36,36,36)",
              "ticks": "outside"
             }
            },
            "type": "scattermapbox"
           }
          ],
          "scatterpolar": [
           {
            "marker": {
             "colorbar": {
              "outlinewidth": 1,
              "tickcolor": "rgb(36,36,36)",
              "ticks": "outside"
             }
            },
            "type": "scatterpolar"
           }
          ],
          "scatterpolargl": [
           {
            "marker": {
             "colorbar": {
              "outlinewidth": 1,
              "tickcolor": "rgb(36,36,36)",
              "ticks": "outside"
             }
            },
            "type": "scatterpolargl"
           }
          ],
          "scatterternary": [
           {
            "marker": {
             "colorbar": {
              "outlinewidth": 1,
              "tickcolor": "rgb(36,36,36)",
              "ticks": "outside"
             }
            },
            "type": "scatterternary"
           }
          ],
          "surface": [
           {
            "colorbar": {
             "outlinewidth": 1,
             "tickcolor": "rgb(36,36,36)",
             "ticks": "outside"
            },
            "colorscale": [
             [
              0.0,
              "#440154"
             ],
             [
              0.1111111111111111,
              "#482878"
             ],
             [
              0.2222222222222222,
              "#3e4989"
             ],
             [
              0.3333333333333333,
              "#31688e"
             ],
             [
              0.4444444444444444,
              "#26828e"
             ],
             [
              0.5555555555555556,
              "#1f9e89"
             ],
             [
              0.6666666666666666,
              "#35b779"
             ],
             [
              0.7777777777777778,
              "#6ece58"
             ],
             [
              0.8888888888888888,
              "#b5de2b"
             ],
             [
              1.0,
              "#fde725"
             ]
            ],
            "type": "surface"
           }
          ],
          "table": [
           {
            "cells": {
             "fill": {
              "color": "rgb(237,237,237)"
             },
             "line": {
              "color": "white"
             }
            },
            "header": {
             "fill": {
              "color": "rgb(217,217,217)"
             },
             "line": {
              "color": "white"
             }
            },
            "type": "table"
           }
          ]
         },
         "layout": {
          "annotationdefaults": {
           "arrowhead": 0,
           "arrowwidth": 1
          },
          "autotypenumbers": "strict",
          "coloraxis": {
           "colorbar": {
            "outlinewidth": 1,
            "tickcolor": "rgb(36,36,36)",
            "ticks": "outside"
           }
          },
          "colorscale": {
           "diverging": [
            [
             0.0,
             "rgb(103,0,31)"
            ],
            [
             0.1,
             "rgb(178,24,43)"
            ],
            [
             0.2,
             "rgb(214,96,77)"
            ],
            [
             0.3,
             "rgb(244,165,130)"
            ],
            [
             0.4,
             "rgb(253,219,199)"
            ],
            [
             0.5,
             "rgb(247,247,247)"
            ],
            [
             0.6,
             "rgb(209,229,240)"
            ],
            [
             0.7,
             "rgb(146,197,222)"
            ],
            [
             0.8,
             "rgb(67,147,195)"
            ],
            [
             0.9,
             "rgb(33,102,172)"
            ],
            [
             1.0,
             "rgb(5,48,97)"
            ]
           ],
           "sequential": [
            [
             0.0,
             "#440154"
            ],
            [
             0.1111111111111111,
             "#482878"
            ],
            [
             0.2222222222222222,
             "#3e4989"
            ],
            [
             0.3333333333333333,
             "#31688e"
            ],
            [
             0.4444444444444444,
             "#26828e"
            ],
            [
             0.5555555555555556,
             "#1f9e89"
            ],
            [
             0.6666666666666666,
             "#35b779"
            ],
            [
             0.7777777777777778,
             "#6ece58"
            ],
            [
             0.8888888888888888,
             "#b5de2b"
            ],
            [
             1.0,
             "#fde725"
            ]
           ],
           "sequentialminus": [
            [
             0.0,
             "#440154"
            ],
            [
             0.1111111111111111,
             "#482878"
            ],
            [
             0.2222222222222222,
             "#3e4989"
            ],
            [
             0.3333333333333333,
             "#31688e"
            ],
            [
             0.4444444444444444,
             "#26828e"
            ],
            [
             0.5555555555555556,
             "#1f9e89"
            ],
            [
             0.6666666666666666,
             "#35b779"
            ],
            [
             0.7777777777777778,
             "#6ece58"
            ],
            [
             0.8888888888888888,
             "#b5de2b"
            ],
            [
             1.0,
             "#fde725"
            ]
           ]
          },
          "colorway": [
           "#91268F",
           "#8CC63E",
           "#00A7A0",
           "#F05A28",
           "#4C4C4C",
           "#630460",
           "#9f3913",
           "#588527",
           "#00716c",
           "#3e4040"
          ],
          "font": {
           "color": "rgb(36,36,36)",
           "family": "Poppins",
           "size": 11
          },
          "geo": {
           "bgcolor": "white",
           "lakecolor": "white",
           "landcolor": "white",
           "showlakes": true,
           "showland": true,
           "subunitcolor": "white"
          },
          "hoverlabel": {
           "align": "left"
          },
          "hovermode": "closest",
          "mapbox": {
           "style": "light"
          },
          "paper_bgcolor": "white",
          "plot_bgcolor": "white",
          "polar": {
           "angularaxis": {
            "gridcolor": "rgb(232,232,232)",
            "linecolor": "rgb(36,36,36)",
            "showgrid": false,
            "showline": true,
            "ticks": "outside"
           },
           "bgcolor": "white",
           "radialaxis": {
            "gridcolor": "rgb(232,232,232)",
            "linecolor": "rgb(36,36,36)",
            "showgrid": false,
            "showline": true,
            "ticks": "outside"
           }
          },
          "scene": {
           "xaxis": {
            "backgroundcolor": "white",
            "gridcolor": "rgb(232,232,232)",
            "gridwidth": 2,
            "linecolor": "rgb(36,36,36)",
            "showbackground": true,
            "showgrid": false,
            "showline": true,
            "ticks": "outside",
            "zeroline": false,
            "zerolinecolor": "rgb(36,36,36)"
           },
           "yaxis": {
            "backgroundcolor": "white",
            "gridcolor": "rgb(232,232,232)",
            "gridwidth": 2,
            "linecolor": "rgb(36,36,36)",
            "showbackground": true,
            "showgrid": false,
            "showline": true,
            "ticks": "outside",
            "zeroline": false,
            "zerolinecolor": "rgb(36,36,36)"
           },
           "zaxis": {
            "backgroundcolor": "white",
            "gridcolor": "rgb(232,232,232)",
            "gridwidth": 2,
            "linecolor": "rgb(36,36,36)",
            "showbackground": true,
            "showgrid": false,
            "showline": true,
            "ticks": "outside",
            "zeroline": false,
            "zerolinecolor": "rgb(36,36,36)"
           }
          },
          "shapedefaults": {
           "fillcolor": "black",
           "line": {
            "width": 0
           },
           "opacity": 0.3
          },
          "ternary": {
           "aaxis": {
            "gridcolor": "rgb(232,232,232)",
            "linecolor": "rgb(36,36,36)",
            "showgrid": false,
            "showline": true,
            "ticks": "outside"
           },
           "baxis": {
            "gridcolor": "rgb(232,232,232)",
            "linecolor": "rgb(36,36,36)",
            "showgrid": false,
            "showline": true,
            "ticks": "outside"
           },
           "bgcolor": "white",
           "caxis": {
            "gridcolor": "rgb(232,232,232)",
            "linecolor": "rgb(36,36,36)",
            "showgrid": false,
            "showline": true,
            "ticks": "outside"
           }
          },
          "title": {
           "x": 0.05
          },
          "xaxis": {
           "automargin": true,
           "gridcolor": "rgb(232,232,232)",
           "linecolor": "rgb(36,36,36)",
           "showgrid": false,
           "showline": true,
           "ticks": "outside",
           "title": {
            "standoff": 15
           },
           "zeroline": false,
           "zerolinecolor": "rgb(36,36,36)"
          },
          "yaxis": {
           "automargin": true,
           "gridcolor": "rgb(232,232,232)",
           "linecolor": "rgb(36,36,36)",
           "showgrid": false,
           "showline": true,
           "ticks": "outside",
           "title": {
            "standoff": 15
           },
           "zeroline": false,
           "zerolinecolor": "rgb(36,36,36)"
          }
         }
        },
        "title": {
         "text": "Model Boardings vs Capacity"
        },
        "width": 800,
        "xaxis": {
         "anchor": "y",
         "domain": [
          0.0,
          1.0
         ],
         "title": {
          "text": "Capacity"
         }
        },
        "yaxis": {
         "anchor": "x",
         "domain": [
          0.0,
          1.0
         ],
         "title": {
          "text": "Model Boardings"
         }
        }
       }
      },
      "text/html": [
       "<div>                            <div id=\"6361d57e-9fad-4306-b481-fe03e2038430\" class=\"plotly-graph-div\" style=\"height:600px; width:800px;\"></div>            <script type=\"text/javascript\">                require([\"plotly\"], function(Plotly) {                    window.PLOTLYENV=window.PLOTLYENV || {};                                    if (document.getElementById(\"6361d57e-9fad-4306-b481-fe03e2038430\")) {                    Plotly.newPlot(                        \"6361d57e-9fad-4306-b481-fe03e2038430\",                        [{\"customdata\":[[\"Tukwila Station (CR)\",0.3435897435897436],[\"Tacoma Dome Station\",0.09841677364142062],[\"South Tacoma (CR)\",0.03636363636363636],[\"Everett Station (CR)\",0.07768744354110207],[\"Sumner Station (CR)\",0.7],[\"Mukilteo Station\",0.047619047619047616],[\"Kent Station (CR)\",0.31224899598393574],[\"Auburn Station (CR)\",0.9399684044233807],[\"Lakewood (CR)\",0.016638935108153077],[\"Gateway P&R\",0.2403846153846154],[\"Puyallup Station (SB)\",0.32],[\"Twin Lakes P&R\",0.0033333333333333335],[\"Crossroads Neighborhood Church\",0.06542056074766354],[\"Overlake Transit Center\",0.15315315315315314],[\"Redondo Heights P&R\",0.005738880918220947],[\"North Gig Harbor\\u002fKimball Drive\",0.032679738562091505],[\"Duvall P&R\",0.04081632653061224],[\"Roy 'Y' P&R\",0.01],[\"South Hill (Elim Evangelical)\",0.4],[\"Parkland Transit Center\",0.11290322580645161],[\"SR-512\\u002fI-5 (Lakewood)\",0.04056795131845842],[\"Center Street P&R\",0.17333333333333334],[\"Tacoma Mall Transit Center\",0.14],[\"South Tacoma West\",0.11538461538461539],[\"Narrows P&R\",0.035897435897435895],[\"North Purdy\\u002fPurdy Crescent\",0.01],[\"Point Defiance Ferry\",0.02531645569620253],[\"South Federal P&R\",0.031067961165048542],[\"Federal Way P&R (320th)\",0.12998859749144812],[\"Auburn P&R\",0.01639344262295082],[\"Star Lake P&R\",0.001851851851851852],[\"Holy Spirit Lutheran Church\",0.25],[\"Kent\\u002fDes Moines P&R\",0.04455445544554455],[\"Kent\\u002fJames St. P&R\",0.09957924263674614],[\"Burien Transit Center\",0.09631147540983606],[\"Tukwila\",0.13108614232209737],[\"South Renton P&R\",0.17402597402597403],[\"Renton Highlands P&R (St. Matts)\",0.0546875],[\"Issaquah Transit Center\",0.03540903540903541],[\"Mercer Island P&R\",0.1319910514541387],[\"Mercer Island Presbyterian\",0.3333333333333333],[\"Newport Hills P&R\",0.03636363636363636],[\"Newport Covenant Church\",0.09333333333333334],[\"South Bellevue P&R\",0.2023121387283237],[\"Eastgate P&R\",0.10780669144981413],[\"North Bend P&R\",0.1125],[\"Evergreen Point P&R\",0.47368421052631576],[\"Grace Lutheran Church\",0.06],[\"South Kirkland P&R\",0.09963985594237695],[\"Overlake P&R\",0.059113300492610835],[\"Houghton P&R\",0.059574468085106386],[\"Redmond P&R\",0.21485411140583555],[\"Valley Center\",0.01818181818181818],[\"Bear Creek P&R\",0.21554770318021202],[\"Kingsgate P&R\",0.14342629482071714],[\"Brickyard P&R\",0.01805869074492099],[\"Northshore P&R\",0.0851063829787234],[\"Kenmore P&R\",0.11608623548922056],[\"Bethany Bible Church\",0.72],[\"Bothell P&R\",0.36363636363636365],[\"Woodinville P&R\",0.03881278538812785],[\"Olson & Meyers\",0.18],[\"Spokane Street P&R\",0.16363636363636364],[\"Greenlake P&R\",0.7712895377128953],[\"North Jackson Park\",0.27941176470588236],[\"Shoreline\",0.23918575063613232],[\"112th St. & I-5\",0.022670025188916875],[\"Ober Park\",0.22916666666666666],[\"Vashon Heights\",0.25217391304347825],[\"Mountlake Terrace P&R\",0.0625],[\"Edmonds Station\",0.023166023166023165],[\"Edmonds P&R\",0.09411764705882353],[\"Lynnwood P&R\",0.010014306151645207],[\"Swamp Creek P&R\",0.046341463414634146],[\"Mariner P&R\",0.050974512743628186],[\"Snohomish\",0.14423076923076922],[\"Marysville - Ash Ave\",0.0049504950495049506],[\"116th & I-5 - Marysville\",0.03508771929824561],[\"SR-531 - Marysville\",0.017241379310344827],[\"Arlington P&R\",0.2],[\"Monroe\",0.058823529411764705],[\"Federal Way\",0.043697478991596636],[\"Port Orchard Armory\",0.38095238095238093],[\"Southworth Ferry P&R\",0.11006289308176101],[\"McWilliams P&R\",0.006622516556291391],[\"Bethany Lutheran Church\",0.2125],[\"Gateway Fellowship\",0.057971014492753624],[\"Kingston Ferry P&R\",0.041666666666666664],[\"Suquamish United Church of Christ\",0.015384615384615385],[\"Bainbridge Island Ferry\",0.41711229946524064],[\"Puyallup Station (NB)\",0.22527472527472528],[\"72nd Street Transit Center\",0.07352941176470588],[\"DuPont\",0.01834862385321101],[\"Aurora Village TC\",0.06435643564356436],[\"Aurora Nazarene\",0.008620689655172414],[\"Saint Margaret's Episcopal\",0.078125],[\"Lake Meridian P&R\",0.19186046511627908],[\"Smokey Pt. Church\",0.12],[\"Eastmont P&R\",0.007712082262210797],[\"McCollum Park P&R\",0.044009779951100246],[\"Canyon Park P&R\",0.056291390728476824],[\"Korean Presby. P&R\",0.2],[\"Poulsbo Church of the Nazarene\",0.007518796992481203],[\"Harper Evangelical Free Church\",0.015151515151515152],[\"Mullenix Road\",0.03260869565217391],[\"TCC P&R\",0.15789473684210525],[\"Ash Way P&R\",0.09295499021526418],[\"Bonney Lake P&R\",0.014044943820224719],[\"Tukwila Int. Station\",0.675226586102719],[\"South Hill P&R\",0.07344632768361582],[\"South Tacoma East - 1\",0.030303030303030304],[\"Issaquah Highlands\",0.05643564356435644],[\"Lake Stevens TC\",0.028985507246376812],[\"NK Baptist\",0.05263157894736842],[\"Preston P&R\",0.1509433962264151],[\"Bayside Community Church\",0.023809523809523808],[\"Bremerton Ferry\",0.09363957597173145],[\"Marysville - Cedar & Grove\",0.028169014084507043],[\"Marysville I P&R\",0.10810810810810811],[\"Martha Lake Covenant Church\",0.013333333333333334],[\"South Sammammish P&R\",0.007547169811320755],[\"Renton City Municipal Garage\",0.09333333333333334],[\"Tibbetts Lot\",0.06470588235294118],[\"Renton Transit Center\",0.07333333333333333],[\"Maple Valley Town Square\",0.044444444444444446],[\"All Saints Lutheran Church\",0.17333333333333334],[\"City View Church\",0.10416666666666667],[\"Northwest University 6710 Bldg.\",0.16393442622950818],[\"Sammamish Lutheran P&R\",0.07407407407407407],[\"Redmond Ridge P&R\",0.019230769230769232],[\"Kennydale United Methodist Church\",0.08],[\"Nativity Lutheran Church\",0.02040816326530612],[\"South SeaTac (LR)\",0.725],[\"Everett Station\",0.30625]],\"hovertemplate\":\"color=Boardings\\u002fCapacity \\u003c= 1\\u003cbr\\u003eCapacity=%{x}\\u003cbr\\u003eModel Boardings=%{y}\\u003cbr\\u003ename=%{customdata[0]}\\u003cbr\\u003eBoardings\\u002fCapacity=%{customdata[1]:.2f}\\u003cextra\\u003e\\u003c\\u002fextra\\u003e\",\"legendgroup\":\"Boardings\\u002fCapacity \\u003c= 1\",\"marker\":{\"color\":\"#91268F\",\"symbol\":\"circle\"},\"mode\":\"markers\",\"name\":\"Boardings\\u002fCapacity \\u003c= 1\",\"orientation\":\"v\",\"showlegend\":true,\"x\":[390,2337,220,1107,350,63,996,633,601,104,50,600,107,222,697,306,49,100,20,62,493,75,150,78,195,200,79,515,877,244,540,40,404,713,488,267,385,128,819,447,30,275,75,519,1614,80,38,50,833,203,470,377,55,283,502,443,376,603,75,220,438,100,55,411,68,393,397,48,230,880,259,255,1398,410,667,104,202,57,58,25,102,1190,105,318,151,80,138,72,65,187,364,68,109,202,116,64,172,50,389,409,302,25,266,462,92,95,1022,356,662,354,33,1010,207,57,53,210,566,213,74,75,265,150,170,150,90,75,96,61,54,52,50,49,1160,160],\"xaxis\":\"x\",\"y\":[134,230,8,86,245,3,311,595,10,25,16,2,7,34,4,10,2,1,8,7,20,13,21,9,7,2,2,16,114,4,1,10,18,71,47,35,67,7,29,59,10,10,7,105,174,9,18,3,83,12,28,81,1,61,72,8,32,70,54,80,17,18,9,317,19,94,9,11,58,55,6,24,14,19,34,15,1,2,1,5,6,52,40,35,1,17,8,3,1,78,82,5,2,13,1,5,33,6,3,18,17,5,2,7,3,15,95,5,447,26,1,57,6,3,8,5,53,6,8,1,2,14,11,11,4,13,10,10,4,1,4,1,841,49],\"yaxis\":\"y\",\"type\":\"scatter\"},{\"customdata\":[[\"Northgate TC\",1.2253147779986746],[\"Puyallup Fair's Red Lot\",1.538812785388128],[\"Calvary Christian Assembly\",2.92],[null,1.2407407407407407]],\"hovertemplate\":\"color=Boardings\\u002fCapacity \\u003e 1\\u003cbr\\u003eCapacity=%{x}\\u003cbr\\u003eModel Boardings=%{y}\\u003cbr\\u003ename=%{customdata[0]}\\u003cbr\\u003eBoardings\\u002fCapacity=%{customdata[1]:.2f}\\u003cextra\\u003e\\u003c\\u002fextra\\u003e\",\"legendgroup\":\"Boardings\\u002fCapacity \\u003e 1\",\"marker\":{\"color\":\"#8CC63E\",\"symbol\":\"circle\"},\"mode\":\"markers\",\"name\":\"Boardings\\u002fCapacity \\u003e 1\",\"orientation\":\"v\",\"showlegend\":true,\"x\":[1509,219,125,54],\"xaxis\":\"x\",\"y\":[1849,337,365,67],\"yaxis\":\"y\",\"type\":\"scatter\"}],                        {\"template\":{\"data\":{\"barpolar\":[{\"marker\":{\"line\":{\"color\":\"white\",\"width\":0.5},\"pattern\":{\"fillmode\":\"overlay\",\"size\":10,\"solidity\":0.2}},\"type\":\"barpolar\"}],\"bar\":[{\"error_x\":{\"color\":\"rgb(36,36,36)\"},\"error_y\":{\"color\":\"rgb(36,36,36)\"},\"marker\":{\"line\":{\"color\":\"white\",\"width\":0.5},\"pattern\":{\"fillmode\":\"overlay\",\"size\":10,\"solidity\":0.2}},\"type\":\"bar\"}],\"carpet\":[{\"aaxis\":{\"endlinecolor\":\"rgb(36,36,36)\",\"gridcolor\":\"white\",\"linecolor\":\"white\",\"minorgridcolor\":\"white\",\"startlinecolor\":\"rgb(36,36,36)\"},\"baxis\":{\"endlinecolor\":\"rgb(36,36,36)\",\"gridcolor\":\"white\",\"linecolor\":\"white\",\"minorgridcolor\":\"white\",\"startlinecolor\":\"rgb(36,36,36)\"},\"type\":\"carpet\"}],\"choropleth\":[{\"colorbar\":{\"outlinewidth\":1,\"tickcolor\":\"rgb(36,36,36)\",\"ticks\":\"outside\"},\"type\":\"choropleth\"}],\"contourcarpet\":[{\"colorbar\":{\"outlinewidth\":1,\"tickcolor\":\"rgb(36,36,36)\",\"ticks\":\"outside\"},\"type\":\"contourcarpet\"}],\"contour\":[{\"colorbar\":{\"outlinewidth\":1,\"tickcolor\":\"rgb(36,36,36)\",\"ticks\":\"outside\"},\"colorscale\":[[0.0,\"#440154\"],[0.1111111111111111,\"#482878\"],[0.2222222222222222,\"#3e4989\"],[0.3333333333333333,\"#31688e\"],[0.4444444444444444,\"#26828e\"],[0.5555555555555556,\"#1f9e89\"],[0.6666666666666666,\"#35b779\"],[0.7777777777777778,\"#6ece58\"],[0.8888888888888888,\"#b5de2b\"],[1.0,\"#fde725\"]],\"type\":\"contour\"}],\"heatmapgl\":[{\"colorbar\":{\"outlinewidth\":1,\"tickcolor\":\"rgb(36,36,36)\",\"ticks\":\"outside\"},\"colorscale\":[[0.0,\"#440154\"],[0.1111111111111111,\"#482878\"],[0.2222222222222222,\"#3e4989\"],[0.3333333333333333,\"#31688e\"],[0.4444444444444444,\"#26828e\"],[0.5555555555555556,\"#1f9e89\"],[0.6666666666666666,\"#35b779\"],[0.7777777777777778,\"#6ece58\"],[0.8888888888888888,\"#b5de2b\"],[1.0,\"#fde725\"]],\"type\":\"heatmapgl\"}],\"heatmap\":[{\"colorbar\":{\"outlinewidth\":1,\"tickcolor\":\"rgb(36,36,36)\",\"ticks\":\"outside\"},\"colorscale\":[[0.0,\"#440154\"],[0.1111111111111111,\"#482878\"],[0.2222222222222222,\"#3e4989\"],[0.3333333333333333,\"#31688e\"],[0.4444444444444444,\"#26828e\"],[0.5555555555555556,\"#1f9e89\"],[0.6666666666666666,\"#35b779\"],[0.7777777777777778,\"#6ece58\"],[0.8888888888888888,\"#b5de2b\"],[1.0,\"#fde725\"]],\"type\":\"heatmap\"}],\"histogram2dcontour\":[{\"colorbar\":{\"outlinewidth\":1,\"tickcolor\":\"rgb(36,36,36)\",\"ticks\":\"outside\"},\"colorscale\":[[0.0,\"#440154\"],[0.1111111111111111,\"#482878\"],[0.2222222222222222,\"#3e4989\"],[0.3333333333333333,\"#31688e\"],[0.4444444444444444,\"#26828e\"],[0.5555555555555556,\"#1f9e89\"],[0.6666666666666666,\"#35b779\"],[0.7777777777777778,\"#6ece58\"],[0.8888888888888888,\"#b5de2b\"],[1.0,\"#fde725\"]],\"type\":\"histogram2dcontour\"}],\"histogram2d\":[{\"colorbar\":{\"outlinewidth\":1,\"tickcolor\":\"rgb(36,36,36)\",\"ticks\":\"outside\"},\"colorscale\":[[0.0,\"#440154\"],[0.1111111111111111,\"#482878\"],[0.2222222222222222,\"#3e4989\"],[0.3333333333333333,\"#31688e\"],[0.4444444444444444,\"#26828e\"],[0.5555555555555556,\"#1f9e89\"],[0.6666666666666666,\"#35b779\"],[0.7777777777777778,\"#6ece58\"],[0.8888888888888888,\"#b5de2b\"],[1.0,\"#fde725\"]],\"type\":\"histogram2d\"}],\"histogram\":[{\"marker\":{\"line\":{\"color\":\"white\",\"width\":0.6}},\"type\":\"histogram\"}],\"mesh3d\":[{\"colorbar\":{\"outlinewidth\":1,\"tickcolor\":\"rgb(36,36,36)\",\"ticks\":\"outside\"},\"type\":\"mesh3d\"}],\"parcoords\":[{\"line\":{\"colorbar\":{\"outlinewidth\":1,\"tickcolor\":\"rgb(36,36,36)\",\"ticks\":\"outside\"}},\"type\":\"parcoords\"}],\"pie\":[{\"automargin\":true,\"type\":\"pie\"}],\"scatter3d\":[{\"line\":{\"colorbar\":{\"outlinewidth\":1,\"tickcolor\":\"rgb(36,36,36)\",\"ticks\":\"outside\"}},\"marker\":{\"colorbar\":{\"outlinewidth\":1,\"tickcolor\":\"rgb(36,36,36)\",\"ticks\":\"outside\"}},\"type\":\"scatter3d\"}],\"scattercarpet\":[{\"marker\":{\"colorbar\":{\"outlinewidth\":1,\"tickcolor\":\"rgb(36,36,36)\",\"ticks\":\"outside\"}},\"type\":\"scattercarpet\"}],\"scattergeo\":[{\"marker\":{\"colorbar\":{\"outlinewidth\":1,\"tickcolor\":\"rgb(36,36,36)\",\"ticks\":\"outside\"}},\"type\":\"scattergeo\"}],\"scattergl\":[{\"marker\":{\"colorbar\":{\"outlinewidth\":1,\"tickcolor\":\"rgb(36,36,36)\",\"ticks\":\"outside\"}},\"type\":\"scattergl\"}],\"scattermapbox\":[{\"marker\":{\"colorbar\":{\"outlinewidth\":1,\"tickcolor\":\"rgb(36,36,36)\",\"ticks\":\"outside\"}},\"type\":\"scattermapbox\"}],\"scatterpolargl\":[{\"marker\":{\"colorbar\":{\"outlinewidth\":1,\"tickcolor\":\"rgb(36,36,36)\",\"ticks\":\"outside\"}},\"type\":\"scatterpolargl\"}],\"scatterpolar\":[{\"marker\":{\"colorbar\":{\"outlinewidth\":1,\"tickcolor\":\"rgb(36,36,36)\",\"ticks\":\"outside\"}},\"type\":\"scatterpolar\"}],\"scatter\":[{\"fillpattern\":{\"fillmode\":\"overlay\",\"size\":10,\"solidity\":0.2},\"type\":\"scatter\"}],\"scatterternary\":[{\"marker\":{\"colorbar\":{\"outlinewidth\":1,\"tickcolor\":\"rgb(36,36,36)\",\"ticks\":\"outside\"}},\"type\":\"scatterternary\"}],\"surface\":[{\"colorbar\":{\"outlinewidth\":1,\"tickcolor\":\"rgb(36,36,36)\",\"ticks\":\"outside\"},\"colorscale\":[[0.0,\"#440154\"],[0.1111111111111111,\"#482878\"],[0.2222222222222222,\"#3e4989\"],[0.3333333333333333,\"#31688e\"],[0.4444444444444444,\"#26828e\"],[0.5555555555555556,\"#1f9e89\"],[0.6666666666666666,\"#35b779\"],[0.7777777777777778,\"#6ece58\"],[0.8888888888888888,\"#b5de2b\"],[1.0,\"#fde725\"]],\"type\":\"surface\"}],\"table\":[{\"cells\":{\"fill\":{\"color\":\"rgb(237,237,237)\"},\"line\":{\"color\":\"white\"}},\"header\":{\"fill\":{\"color\":\"rgb(217,217,217)\"},\"line\":{\"color\":\"white\"}},\"type\":\"table\"}]},\"layout\":{\"annotationdefaults\":{\"arrowhead\":0,\"arrowwidth\":1},\"autotypenumbers\":\"strict\",\"coloraxis\":{\"colorbar\":{\"outlinewidth\":1,\"tickcolor\":\"rgb(36,36,36)\",\"ticks\":\"outside\"}},\"colorscale\":{\"diverging\":[[0.0,\"rgb(103,0,31)\"],[0.1,\"rgb(178,24,43)\"],[0.2,\"rgb(214,96,77)\"],[0.3,\"rgb(244,165,130)\"],[0.4,\"rgb(253,219,199)\"],[0.5,\"rgb(247,247,247)\"],[0.6,\"rgb(209,229,240)\"],[0.7,\"rgb(146,197,222)\"],[0.8,\"rgb(67,147,195)\"],[0.9,\"rgb(33,102,172)\"],[1.0,\"rgb(5,48,97)\"]],\"sequential\":[[0.0,\"#440154\"],[0.1111111111111111,\"#482878\"],[0.2222222222222222,\"#3e4989\"],[0.3333333333333333,\"#31688e\"],[0.4444444444444444,\"#26828e\"],[0.5555555555555556,\"#1f9e89\"],[0.6666666666666666,\"#35b779\"],[0.7777777777777778,\"#6ece58\"],[0.8888888888888888,\"#b5de2b\"],[1.0,\"#fde725\"]],\"sequentialminus\":[[0.0,\"#440154\"],[0.1111111111111111,\"#482878\"],[0.2222222222222222,\"#3e4989\"],[0.3333333333333333,\"#31688e\"],[0.4444444444444444,\"#26828e\"],[0.5555555555555556,\"#1f9e89\"],[0.6666666666666666,\"#35b779\"],[0.7777777777777778,\"#6ece58\"],[0.8888888888888888,\"#b5de2b\"],[1.0,\"#fde725\"]]},\"colorway\":[\"#91268F\",\"#8CC63E\",\"#00A7A0\",\"#F05A28\",\"#4C4C4C\",\"#630460\",\"#9f3913\",\"#588527\",\"#00716c\",\"#3e4040\"],\"font\":{\"color\":\"rgb(36,36,36)\",\"family\":\"Poppins\",\"size\":11},\"geo\":{\"bgcolor\":\"white\",\"lakecolor\":\"white\",\"landcolor\":\"white\",\"showlakes\":true,\"showland\":true,\"subunitcolor\":\"white\"},\"hoverlabel\":{\"align\":\"left\"},\"hovermode\":\"closest\",\"mapbox\":{\"style\":\"light\"},\"paper_bgcolor\":\"white\",\"plot_bgcolor\":\"white\",\"polar\":{\"angularaxis\":{\"gridcolor\":\"rgb(232,232,232)\",\"linecolor\":\"rgb(36,36,36)\",\"showgrid\":false,\"showline\":true,\"ticks\":\"outside\"},\"bgcolor\":\"white\",\"radialaxis\":{\"gridcolor\":\"rgb(232,232,232)\",\"linecolor\":\"rgb(36,36,36)\",\"showgrid\":false,\"showline\":true,\"ticks\":\"outside\"}},\"scene\":{\"xaxis\":{\"backgroundcolor\":\"white\",\"gridcolor\":\"rgb(232,232,232)\",\"gridwidth\":2,\"linecolor\":\"rgb(36,36,36)\",\"showbackground\":true,\"showgrid\":false,\"showline\":true,\"ticks\":\"outside\",\"zeroline\":false,\"zerolinecolor\":\"rgb(36,36,36)\"},\"yaxis\":{\"backgroundcolor\":\"white\",\"gridcolor\":\"rgb(232,232,232)\",\"gridwidth\":2,\"linecolor\":\"rgb(36,36,36)\",\"showbackground\":true,\"showgrid\":false,\"showline\":true,\"ticks\":\"outside\",\"zeroline\":false,\"zerolinecolor\":\"rgb(36,36,36)\"},\"zaxis\":{\"backgroundcolor\":\"white\",\"gridcolor\":\"rgb(232,232,232)\",\"gridwidth\":2,\"linecolor\":\"rgb(36,36,36)\",\"showbackground\":true,\"showgrid\":false,\"showline\":true,\"ticks\":\"outside\",\"zeroline\":false,\"zerolinecolor\":\"rgb(36,36,36)\"}},\"shapedefaults\":{\"fillcolor\":\"black\",\"line\":{\"width\":0},\"opacity\":0.3},\"ternary\":{\"aaxis\":{\"gridcolor\":\"rgb(232,232,232)\",\"linecolor\":\"rgb(36,36,36)\",\"showgrid\":false,\"showline\":true,\"ticks\":\"outside\"},\"baxis\":{\"gridcolor\":\"rgb(232,232,232)\",\"linecolor\":\"rgb(36,36,36)\",\"showgrid\":false,\"showline\":true,\"ticks\":\"outside\"},\"bgcolor\":\"white\",\"caxis\":{\"gridcolor\":\"rgb(232,232,232)\",\"linecolor\":\"rgb(36,36,36)\",\"showgrid\":false,\"showline\":true,\"ticks\":\"outside\"}},\"title\":{\"x\":0.05},\"xaxis\":{\"automargin\":true,\"gridcolor\":\"rgb(232,232,232)\",\"linecolor\":\"rgb(36,36,36)\",\"showgrid\":false,\"showline\":true,\"ticks\":\"outside\",\"title\":{\"standoff\":15},\"zeroline\":false,\"zerolinecolor\":\"rgb(36,36,36)\"},\"yaxis\":{\"automargin\":true,\"gridcolor\":\"rgb(232,232,232)\",\"linecolor\":\"rgb(36,36,36)\",\"showgrid\":false,\"showline\":true,\"ticks\":\"outside\",\"title\":{\"standoff\":15},\"zeroline\":false,\"zerolinecolor\":\"rgb(36,36,36)\"}}},\"xaxis\":{\"anchor\":\"y\",\"domain\":[0.0,1.0],\"title\":{\"text\":\"Capacity\"}},\"yaxis\":{\"anchor\":\"x\",\"domain\":[0.0,1.0],\"title\":{\"text\":\"Model Boardings\"}},\"legend\":{\"title\":{\"text\":\"color\"},\"tracegroupgap\":0},\"title\":{\"text\":\"Model Boardings vs Capacity\"},\"height\":600,\"width\":800},                        {\"responsive\": true}                    ).then(function(){\n",
       "                            \n",
       "var gd = document.getElementById('6361d57e-9fad-4306-b481-fe03e2038430');\n",
       "var x = new MutationObserver(function (mutations, observer) {{\n",
       "        var display = window.getComputedStyle(gd).display;\n",
       "        if (!display || display === 'none') {{\n",
       "            console.log([gd, 'removed!']);\n",
       "            Plotly.purge(gd);\n",
       "            observer.disconnect();\n",
       "        }}\n",
       "}});\n",
       "\n",
       "// Listen for the removal of the full notebook cells\n",
       "var notebookContainer = gd.closest('#notebook-container');\n",
       "if (notebookContainer) {{\n",
       "    x.observe(notebookContainer, {childList: true});\n",
       "}}\n",
       "\n",
       "// Listen for the clearing of the current output cell\n",
       "var outputEl = gd.closest('.output');\n",
       "if (outputEl) {{\n",
       "    x.observe(outputEl, {childList: true});\n",
       "}}\n",
       "\n",
       "                        })                };                });            </script>        </div>"
      ]
     },
     "metadata": {},
     "output_type": "display_data"
    }
   ],
   "source": [
    "df['color'] = np.where(df['Boardings/Capacity'] > 1, 'Boardings/Capacity > 1', 'Boardings/Capacity <= 1')\n",
    "\n",
    "fig = px.scatter(df, y='Model Boardings', x='Capacity', title='Model Boardings vs Capacity',\n",
    "                 hover_data={'name': True, 'Model Boardings': True, 'Capacity': True, 'Boardings/Capacity': ':.2f'},\n",
    "                 color='color')\n",
    "fig.update_layout(height=600, width=800)\n",
    "fig.show()"
   ]
  },
  {
   "cell_type": "code",
   "execution_count": 34,
   "id": "0dd38203",
   "metadata": {},
   "outputs": [],
   "source": [
    "\n",
    "\n",
    "gdf = gpd.GeoDataFrame(df, geometry=gpd.points_from_xy(df.XCoord, df.YCoord), crs='EPSG:2285')\n",
    "gdf.to_crs('EPSG:4326', inplace=True)\n",
    "\n"
   ]
  },
  {
   "cell_type": "code",
   "execution_count": 35,
   "id": "2f976d83",
   "metadata": {},
   "outputs": [
    {
     "data": {
      "application/vnd.plotly.v1+json": {
       "config": {
        "plotlyServerURL": "https://plot.ly"
       },
       "data": [
        {
         "customdata": [
          [
           3751,
           134,
           390
          ],
          [
           3752,
           230,
           2337
          ],
          [
           3753,
           8,
           220
          ],
          [
           3754,
           86,
           1107
          ],
          [
           3755,
           245,
           350
          ],
          [
           3756,
           3,
           63
          ],
          [
           3757,
           311,
           996
          ],
          [
           3758,
           595,
           633
          ],
          [
           3759,
           10,
           601
          ],
          [
           3760,
           25,
           104
          ],
          [
           3761,
           16,
           50
          ],
          [
           3762,
           2,
           600
          ],
          [
           3763,
           7,
           107
          ],
          [
           3764,
           34,
           222
          ],
          [
           3765,
           4,
           697
          ],
          [
           3766,
           10,
           306
          ],
          [
           3767,
           2,
           49
          ],
          [
           3768,
           1,
           100
          ],
          [
           3769,
           8,
           20
          ],
          [
           3770,
           7,
           62
          ],
          [
           3771,
           20,
           493
          ],
          [
           3772,
           13,
           75
          ],
          [
           3773,
           21,
           150
          ],
          [
           3774,
           9,
           78
          ],
          [
           3776,
           7,
           195
          ],
          [
           3777,
           2,
           200
          ],
          [
           3778,
           2,
           79
          ],
          [
           3779,
           16,
           515
          ],
          [
           3781,
           114,
           877
          ],
          [
           3782,
           4,
           244
          ],
          [
           3783,
           1,
           540
          ],
          [
           3784,
           10,
           40
          ],
          [
           3785,
           18,
           404
          ],
          [
           3786,
           71,
           713
          ],
          [
           3787,
           47,
           488
          ],
          [
           3788,
           35,
           267
          ],
          [
           3790,
           67,
           385
          ],
          [
           3791,
           7,
           128
          ],
          [
           3792,
           29,
           819
          ],
          [
           3793,
           59,
           447
          ],
          [
           3794,
           10,
           30
          ],
          [
           3795,
           10,
           275
          ],
          [
           3797,
           7,
           75
          ],
          [
           3798,
           105,
           519
          ],
          [
           3800,
           174,
           1614
          ],
          [
           3801,
           9,
           80
          ],
          [
           3802,
           18,
           38
          ],
          [
           3803,
           3,
           50
          ],
          [
           3804,
           83,
           833
          ],
          [
           3805,
           12,
           203
          ],
          [
           3806,
           28,
           470
          ],
          [
           3808,
           81,
           377
          ],
          [
           3810,
           1,
           55
          ],
          [
           3811,
           61,
           283
          ],
          [
           3812,
           72,
           502
          ],
          [
           3813,
           8,
           443
          ],
          [
           3814,
           32,
           376
          ],
          [
           3815,
           70,
           603
          ],
          [
           3816,
           54,
           75
          ],
          [
           3817,
           80,
           220
          ],
          [
           3818,
           17,
           438
          ],
          [
           3819,
           18,
           100
          ],
          [
           3820,
           9,
           55
          ],
          [
           3821,
           317,
           411
          ],
          [
           3822,
           1849,
           1509
          ],
          [
           3823,
           19,
           68
          ],
          [
           3824,
           94,
           393
          ],
          [
           3825,
           9,
           397
          ],
          [
           3826,
           11,
           48
          ],
          [
           3827,
           58,
           230
          ],
          [
           3828,
           55,
           880
          ],
          [
           3830,
           6,
           259
          ],
          [
           3831,
           24,
           255
          ],
          [
           3832,
           14,
           1398
          ],
          [
           3833,
           19,
           410
          ],
          [
           3834,
           34,
           667
          ],
          [
           3835,
           15,
           104
          ],
          [
           3836,
           1,
           202
          ],
          [
           3837,
           2,
           57
          ],
          [
           3838,
           1,
           58
          ],
          [
           3839,
           5,
           25
          ],
          [
           3841,
           6,
           102
          ],
          [
           3842,
           52,
           1190
          ],
          [
           3843,
           40,
           105
          ],
          [
           3844,
           35,
           318
          ],
          [
           3845,
           1,
           151
          ],
          [
           3846,
           17,
           80
          ],
          [
           3847,
           8,
           138
          ],
          [
           3849,
           3,
           72
          ],
          [
           3850,
           1,
           65
          ],
          [
           3851,
           78,
           187
          ],
          [
           3852,
           82,
           364
          ],
          [
           3853,
           5,
           68
          ],
          [
           3855,
           2,
           109
          ],
          [
           3856,
           13,
           202
          ],
          [
           3857,
           1,
           116
          ],
          [
           3858,
           5,
           64
          ],
          [
           3861,
           33,
           172
          ],
          [
           3862,
           6,
           50
          ],
          [
           3863,
           3,
           389
          ],
          [
           3864,
           18,
           409
          ],
          [
           3865,
           17,
           302
          ],
          [
           3866,
           5,
           25
          ],
          [
           3868,
           2,
           266
          ],
          [
           3870,
           7,
           462
          ],
          [
           3871,
           3,
           92
          ],
          [
           3873,
           15,
           95
          ],
          [
           3874,
           95,
           1022
          ],
          [
           3875,
           5,
           356
          ],
          [
           3876,
           447,
           662
          ],
          [
           3877,
           26,
           354
          ],
          [
           3878,
           1,
           33
          ],
          [
           3879,
           57,
           1010
          ],
          [
           3880,
           6,
           207
          ],
          [
           3882,
           3,
           57
          ],
          [
           3883,
           8,
           53
          ],
          [
           3884,
           5,
           210
          ],
          [
           3886,
           53,
           566
          ],
          [
           3888,
           337,
           219
          ],
          [
           3889,
           6,
           213
          ],
          [
           3891,
           8,
           74
          ],
          [
           3892,
           1,
           75
          ],
          [
           3893,
           2,
           265
          ],
          [
           3894,
           14,
           150
          ],
          [
           3895,
           11,
           170
          ],
          [
           3896,
           11,
           150
          ],
          [
           3897,
           365,
           125
          ],
          [
           3898,
           4,
           90
          ],
          [
           3899,
           13,
           75
          ],
          [
           3900,
           10,
           96
          ],
          [
           3901,
           10,
           61
          ],
          [
           3902,
           4,
           54
          ],
          [
           3903,
           1,
           52
          ],
          [
           3904,
           4,
           50
          ],
          [
           3905,
           1,
           49
          ],
          [
           3907,
           841,
           1160
          ],
          [
           3908,
           49,
           160
          ],
          [
           3951,
           67,
           54
          ]
         ],
         "hovertemplate": "Boardings/Capacity=%{marker.color}<br>lat=%{lat}<br>lon=%{lon}<br>taz=%{customdata[0]}<br>Model Boardings=%{customdata[1]}<br>Capacity=%{customdata[2]}<extra></extra>",
         "lat": [
          47.459791189113055,
          47.240587026940496,
          47.203188285743,
          47.97553008822413,
          47.201048326678425,
          47.949202090593815,
          47.383970408531425,
          47.30597098022815,
          47.153298431654285,
          47.56718379854233,
          47.193060762628754,
          47.29373336434266,
          47.631646481329874,
          47.64429306998266,
          47.35504335733807,
          47.3163618931415,
          47.74282207119212,
          47.08271784155433,
          47.140757778268615,
          47.14791172694066,
          47.161484802874284,
          47.23400250827875,
          47.21362968300981,
          47.20552052830966,
          47.25600193981221,
          47.38923379023241,
          47.30559584671795,
          47.289041380796476,
          47.31163591874175,
          47.32142070370895,
          47.358683156241256,
          47.7104244936842,
          47.39168729512872,
          47.38491251743171,
          47.469518524026284,
          47.48197741301064,
          47.47271938615727,
          47.50715467593467,
          47.5421344859425,
          47.58878969142359,
          47.57701316304821,
          47.55704702946253,
          47.564129961427035,
          47.58629181288903,
          47.580583829158485,
          47.49597432021159,
          47.63677734251024,
          47.616380743797244,
          47.64418998070187,
          47.63297717439434,
          47.66816331814846,
          47.6765003576322,
          47.42287235072545,
          47.674169895277565,
          47.71630675038611,
          47.74096553654258,
          47.76143815613439,
          47.75869948424539,
          47.75911072833425,
          47.759457740337254,
          47.75702879699488,
          47.520273185221846,
          47.571714184646375,
          47.67673605768736,
          47.70239443761157,
          47.735650070604855,
          47.76687666732243,
          47.897149496501655,
          47.45193656025647,
          47.50832497753617,
          47.786023838048486,
          47.81083814590226,
          47.805505328682436,
          47.81595811606588,
          47.851158747803034,
          47.879273837323716,
          47.931600004686565,
          48.052799958531104,
          48.10076953427173,
          48.15261861721189,
          48.196226663014926,
          47.86853209498515,
          47.31771355238481,
          47.53346196599079,
          47.51175930997434,
          47.620810382951404,
          47.635076024273125,
          47.733914565835,
          47.798924738192895,
          47.733267845932694,
          47.62400593156234,
          47.19226982725735,
          47.192971542906285,
          47.08990334694735,
          47.77471134386238,
          47.75619875057065,
          47.56885032852624,
          47.36115476012324,
          48.15732422532287,
          47.91577651606941,
          47.880528888492265,
          47.79421797219861,
          47.78299309998247,
          47.759682723438075,
          47.50395364516145,
          47.4683127358232,
          47.24317915202268,
          47.852265826626585,
          47.17424906089401,
          47.46462822513558,
          47.161515219367466,
          47.20690802107854,
          47.54548131124219,
          47.99833018258796,
          47.74896727800608,
          47.52729295506841,
          47.799607552327174,
          47.56371171355699,
          47.185461659521216,
          48.06186352787003,
          48.05093832410037,
          47.85078851793791,
          47.582163360805794,
          47.48065386274714,
          47.54050303955318,
          47.48170670581923,
          47.67825835598132,
          47.36261650204512,
          47.35719493962773,
          47.48028761734057,
          47.66655727817533,
          47.601973031740954,
          47.68558355990292,
          47.51822107506604,
          47.4435715904644,
          47.42300305792277,
          47.60111801912681,
          47.302354813300944
         ],
         "legendgroup": "",
         "lon": [
          -122.24142204292801,
          -122.42559764232288,
          -122.48610523364498,
          -122.19768602099377,
          -122.24474142310243,
          -122.29903798331632,
          -122.23410004243462,
          -122.23148352515318,
          -122.49859252745824,
          -122.65169744997347,
          -122.29627387444259,
          -122.3599437944882,
          -122.6376553285978,
          -122.13352825516421,
          -122.30994876622252,
          -122.58550724037367,
          -121.98519670565817,
          -122.43467115344275,
          -122.30342870923496,
          -122.43537507130094,
          -122.4832269556689,
          -122.49605950380925,
          -122.46823390072736,
          -122.46332756461389,
          -122.53268859436118,
          -122.62545806801099,
          -122.51464330348125,
          -122.32271243809302,
          -122.30155617219685,
          -122.22738331793343,
          -122.29854675639369,
          -122.20748786443893,
          -122.28801450038526,
          -122.24251278515935,
          -122.33865108623566,
          -122.26898729590523,
          -122.2140249890397,
          -122.18367513597434,
          -122.06181211149554,
          -122.23166518784704,
          -122.22739995414824,
          -122.1886194896657,
          -122.17018509756201,
          -122.1904053737166,
          -122.15247915819556,
          -121.78890814933835,
          -122.23793067783187,
          -122.21058496428182,
          -122.19692070930883,
          -122.1356025761157,
          -122.18466300042218,
          -122.12357646358394,
          -122.4617588893532,
          -122.10086680270592,
          -122.18764374421475,
          -122.18801850253551,
          -122.25089711182129,
          -122.24193472527783,
          -122.25940207427163,
          -122.20174474164908,
          -122.15150344952004,
          -122.33619477501689,
          -122.36486292041623,
          -122.3207479132486,
          -122.3263535981885,
          -122.3238311992929,
          -122.34679899076795,
          -122.21539257019184,
          -122.45962271847641,
          -122.46527095271402,
          -122.31456649794684,
          -122.38443648143998,
          -122.33045854744478,
          -122.29397697243073,
          -122.2762912947167,
          -122.23819674557204,
          -122.10076917207742,
          -122.18350218748834,
          -122.18650029800804,
          -122.19203878663723,
          -122.129183066928,
          -121.9960708438206,
          -122.30476126399772,
          -122.61872855042411,
          -122.4985314823769,
          -122.62808145181158,
          -122.53684064463692,
          -122.63927304886704,
          -122.497145659761,
          -122.55779654978755,
          -122.51049641551649,
          -122.29638289622436,
          -122.41141133327692,
          -122.6408244608136,
          -122.34274243377105,
          -122.33571558742703,
          -122.16885945632364,
          -122.16596694150272,
          -122.18235612206618,
          -122.2039867300772,
          -122.22076355008004,
          -122.21165372444678,
          -122.34737059623502,
          -122.65215146199641,
          -122.51509635593781,
          -122.6219458140525,
          -122.52527889141626,
          -122.25855174480624,
          -122.18490269497767,
          -122.28690849789872,
          -122.30486983988138,
          -122.45925556454627,
          -122.01943008905627,
          -122.1037985047417,
          -122.6376022779008,
          -121.93697928446608,
          -122.508528546698,
          -122.6250481725124,
          -122.29928303340452,
          -122.17950440147415,
          -122.18326561243495,
          -122.2711389215377,
          -122.03642859327114,
          -122.20850143259241,
          -122.06172743208168,
          -122.20744093150329,
          -122.31799001747187,
          -122.0201427495308,
          -122.29322515985572,
          -122.22017447638363,
          -122.19590687558149,
          -122.03476548005801,
          -122.03407154200131,
          -122.20129952764448,
          -122.15522089858798,
          -122.29884833358034,
          -122.63061955933047,
          -122.25777874175822
         ],
         "marker": {
          "color": [
           0.3435897435897436,
           0.09841677364142062,
           0.03636363636363636,
           0.07768744354110207,
           0.7,
           0.047619047619047616,
           0.31224899598393574,
           0.9399684044233807,
           0.016638935108153077,
           0.2403846153846154,
           0.32,
           0.0033333333333333335,
           0.06542056074766354,
           0.15315315315315314,
           0.005738880918220947,
           0.032679738562091505,
           0.04081632653061224,
           0.01,
           0.4,
           0.11290322580645161,
           0.04056795131845842,
           0.17333333333333334,
           0.14,
           0.11538461538461539,
           0.035897435897435895,
           0.01,
           0.02531645569620253,
           0.031067961165048542,
           0.12998859749144812,
           0.01639344262295082,
           0.001851851851851852,
           0.25,
           0.04455445544554455,
           0.09957924263674614,
           0.09631147540983606,
           0.13108614232209737,
           0.17402597402597403,
           0.0546875,
           0.03540903540903541,
           0.1319910514541387,
           0.3333333333333333,
           0.03636363636363636,
           0.09333333333333334,
           0.2023121387283237,
           0.10780669144981413,
           0.1125,
           0.47368421052631576,
           0.06,
           0.09963985594237695,
           0.059113300492610835,
           0.059574468085106386,
           0.21485411140583555,
           0.01818181818181818,
           0.21554770318021202,
           0.14342629482071714,
           0.01805869074492099,
           0.0851063829787234,
           0.11608623548922056,
           0.72,
           0.36363636363636365,
           0.03881278538812785,
           0.18,
           0.16363636363636364,
           0.7712895377128953,
           1.2253147779986746,
           0.27941176470588236,
           0.23918575063613232,
           0.022670025188916875,
           0.22916666666666666,
           0.25217391304347825,
           0.0625,
           0.023166023166023165,
           0.09411764705882353,
           0.010014306151645207,
           0.046341463414634146,
           0.050974512743628186,
           0.14423076923076922,
           0.0049504950495049506,
           0.03508771929824561,
           0.017241379310344827,
           0.2,
           0.058823529411764705,
           0.043697478991596636,
           0.38095238095238093,
           0.11006289308176101,
           0.006622516556291391,
           0.2125,
           0.057971014492753624,
           0.041666666666666664,
           0.015384615384615385,
           0.41711229946524064,
           0.22527472527472528,
           0.07352941176470588,
           0.01834862385321101,
           0.06435643564356436,
           0.008620689655172414,
           0.078125,
           0.19186046511627908,
           0.12,
           0.007712082262210797,
           0.044009779951100246,
           0.056291390728476824,
           0.2,
           0.007518796992481203,
           0.015151515151515152,
           0.03260869565217391,
           0.15789473684210525,
           0.09295499021526418,
           0.014044943820224719,
           0.675226586102719,
           0.07344632768361582,
           0.030303030303030304,
           0.05643564356435644,
           0.028985507246376812,
           0.05263157894736842,
           0.1509433962264151,
           0.023809523809523808,
           0.09363957597173145,
           1.538812785388128,
           0.028169014084507043,
           0.10810810810810811,
           0.013333333333333334,
           0.007547169811320755,
           0.09333333333333334,
           0.06470588235294118,
           0.07333333333333333,
           2.92,
           0.044444444444444446,
           0.17333333333333334,
           0.10416666666666667,
           0.16393442622950818,
           0.07407407407407407,
           0.019230769230769232,
           0.08,
           0.02040816326530612,
           0.725,
           0.30625,
           1.2407407407407407
          ],
          "coloraxis": "coloraxis",
          "size": [
           0.3435897435897436,
           0.09841677364142062,
           0.03636363636363636,
           0.07768744354110207,
           0.7,
           0.047619047619047616,
           0.31224899598393574,
           0.9399684044233807,
           0.016638935108153077,
           0.2403846153846154,
           0.32,
           0.0033333333333333335,
           0.06542056074766354,
           0.15315315315315314,
           0.005738880918220947,
           0.032679738562091505,
           0.04081632653061224,
           0.01,
           0.4,
           0.11290322580645161,
           0.04056795131845842,
           0.17333333333333334,
           0.14,
           0.11538461538461539,
           0.035897435897435895,
           0.01,
           0.02531645569620253,
           0.031067961165048542,
           0.12998859749144812,
           0.01639344262295082,
           0.001851851851851852,
           0.25,
           0.04455445544554455,
           0.09957924263674614,
           0.09631147540983606,
           0.13108614232209737,
           0.17402597402597403,
           0.0546875,
           0.03540903540903541,
           0.1319910514541387,
           0.3333333333333333,
           0.03636363636363636,
           0.09333333333333334,
           0.2023121387283237,
           0.10780669144981413,
           0.1125,
           0.47368421052631576,
           0.06,
           0.09963985594237695,
           0.059113300492610835,
           0.059574468085106386,
           0.21485411140583555,
           0.01818181818181818,
           0.21554770318021202,
           0.14342629482071714,
           0.01805869074492099,
           0.0851063829787234,
           0.11608623548922056,
           0.72,
           0.36363636363636365,
           0.03881278538812785,
           0.18,
           0.16363636363636364,
           0.7712895377128953,
           1.2253147779986746,
           0.27941176470588236,
           0.23918575063613232,
           0.022670025188916875,
           0.22916666666666666,
           0.25217391304347825,
           0.0625,
           0.023166023166023165,
           0.09411764705882353,
           0.010014306151645207,
           0.046341463414634146,
           0.050974512743628186,
           0.14423076923076922,
           0.0049504950495049506,
           0.03508771929824561,
           0.017241379310344827,
           0.2,
           0.058823529411764705,
           0.043697478991596636,
           0.38095238095238093,
           0.11006289308176101,
           0.006622516556291391,
           0.2125,
           0.057971014492753624,
           0.041666666666666664,
           0.015384615384615385,
           0.41711229946524064,
           0.22527472527472528,
           0.07352941176470588,
           0.01834862385321101,
           0.06435643564356436,
           0.008620689655172414,
           0.078125,
           0.19186046511627908,
           0.12,
           0.007712082262210797,
           0.044009779951100246,
           0.056291390728476824,
           0.2,
           0.007518796992481203,
           0.015151515151515152,
           0.03260869565217391,
           0.15789473684210525,
           0.09295499021526418,
           0.014044943820224719,
           0.675226586102719,
           0.07344632768361582,
           0.030303030303030304,
           0.05643564356435644,
           0.028985507246376812,
           0.05263157894736842,
           0.1509433962264151,
           0.023809523809523808,
           0.09363957597173145,
           1.538812785388128,
           0.028169014084507043,
           0.10810810810810811,
           0.013333333333333334,
           0.007547169811320755,
           0.09333333333333334,
           0.06470588235294118,
           0.07333333333333333,
           2.92,
           0.044444444444444446,
           0.17333333333333334,
           0.10416666666666667,
           0.16393442622950818,
           0.07407407407407407,
           0.019230769230769232,
           0.08,
           0.02040816326530612,
           0.725,
           0.30625,
           1.2407407407407407
          ],
          "sizemode": "area",
          "sizeref": 0.0073
         },
         "mode": "markers",
         "name": "",
         "showlegend": false,
         "subplot": "mapbox",
         "type": "scattermapbox"
        }
       ],
       "layout": {
        "coloraxis": {
         "colorbar": {
          "title": {
           "text": "Boardings/Capacity"
          }
         },
         "colorscale": [
          [
           0.0,
           "#440154"
          ],
          [
           0.1111111111111111,
           "#482878"
          ],
          [
           0.2222222222222222,
           "#3e4989"
          ],
          [
           0.3333333333333333,
           "#31688e"
          ],
          [
           0.4444444444444444,
           "#26828e"
          ],
          [
           0.5555555555555556,
           "#1f9e89"
          ],
          [
           0.6666666666666666,
           "#35b779"
          ],
          [
           0.7777777777777778,
           "#6ece58"
          ],
          [
           0.8888888888888888,
           "#b5de2b"
          ],
          [
           1.0,
           "#fde725"
          ]
         ]
        },
        "legend": {
         "itemsizing": "constant",
         "tracegroupgap": 0
        },
        "mapbox": {
         "center": {
          "lat": 47.569571493271376,
          "lon": -122.30047929616494
         },
         "domain": {
          "x": [
           0.0,
           1.0
          ],
          "y": [
           0.0,
           1.0
          ]
         },
         "style": "carto-positron",
         "zoom": 7
        },
        "margin": {
         "b": 0,
         "l": 0,
         "r": 0,
         "t": 0
        },
        "template": {
         "data": {
          "bar": [
           {
            "error_x": {
             "color": "rgb(36,36,36)"
            },
            "error_y": {
             "color": "rgb(36,36,36)"
            },
            "marker": {
             "line": {
              "color": "white",
              "width": 0.5
             },
             "pattern": {
              "fillmode": "overlay",
              "size": 10,
              "solidity": 0.2
             }
            },
            "type": "bar"
           }
          ],
          "barpolar": [
           {
            "marker": {
             "line": {
              "color": "white",
              "width": 0.5
             },
             "pattern": {
              "fillmode": "overlay",
              "size": 10,
              "solidity": 0.2
             }
            },
            "type": "barpolar"
           }
          ],
          "carpet": [
           {
            "aaxis": {
             "endlinecolor": "rgb(36,36,36)",
             "gridcolor": "white",
             "linecolor": "white",
             "minorgridcolor": "white",
             "startlinecolor": "rgb(36,36,36)"
            },
            "baxis": {
             "endlinecolor": "rgb(36,36,36)",
             "gridcolor": "white",
             "linecolor": "white",
             "minorgridcolor": "white",
             "startlinecolor": "rgb(36,36,36)"
            },
            "type": "carpet"
           }
          ],
          "choropleth": [
           {
            "colorbar": {
             "outlinewidth": 1,
             "tickcolor": "rgb(36,36,36)",
             "ticks": "outside"
            },
            "type": "choropleth"
           }
          ],
          "contour": [
           {
            "colorbar": {
             "outlinewidth": 1,
             "tickcolor": "rgb(36,36,36)",
             "ticks": "outside"
            },
            "colorscale": [
             [
              0.0,
              "#440154"
             ],
             [
              0.1111111111111111,
              "#482878"
             ],
             [
              0.2222222222222222,
              "#3e4989"
             ],
             [
              0.3333333333333333,
              "#31688e"
             ],
             [
              0.4444444444444444,
              "#26828e"
             ],
             [
              0.5555555555555556,
              "#1f9e89"
             ],
             [
              0.6666666666666666,
              "#35b779"
             ],
             [
              0.7777777777777778,
              "#6ece58"
             ],
             [
              0.8888888888888888,
              "#b5de2b"
             ],
             [
              1.0,
              "#fde725"
             ]
            ],
            "type": "contour"
           }
          ],
          "contourcarpet": [
           {
            "colorbar": {
             "outlinewidth": 1,
             "tickcolor": "rgb(36,36,36)",
             "ticks": "outside"
            },
            "type": "contourcarpet"
           }
          ],
          "heatmap": [
           {
            "colorbar": {
             "outlinewidth": 1,
             "tickcolor": "rgb(36,36,36)",
             "ticks": "outside"
            },
            "colorscale": [
             [
              0.0,
              "#440154"
             ],
             [
              0.1111111111111111,
              "#482878"
             ],
             [
              0.2222222222222222,
              "#3e4989"
             ],
             [
              0.3333333333333333,
              "#31688e"
             ],
             [
              0.4444444444444444,
              "#26828e"
             ],
             [
              0.5555555555555556,
              "#1f9e89"
             ],
             [
              0.6666666666666666,
              "#35b779"
             ],
             [
              0.7777777777777778,
              "#6ece58"
             ],
             [
              0.8888888888888888,
              "#b5de2b"
             ],
             [
              1.0,
              "#fde725"
             ]
            ],
            "type": "heatmap"
           }
          ],
          "heatmapgl": [
           {
            "colorbar": {
             "outlinewidth": 1,
             "tickcolor": "rgb(36,36,36)",
             "ticks": "outside"
            },
            "colorscale": [
             [
              0.0,
              "#440154"
             ],
             [
              0.1111111111111111,
              "#482878"
             ],
             [
              0.2222222222222222,
              "#3e4989"
             ],
             [
              0.3333333333333333,
              "#31688e"
             ],
             [
              0.4444444444444444,
              "#26828e"
             ],
             [
              0.5555555555555556,
              "#1f9e89"
             ],
             [
              0.6666666666666666,
              "#35b779"
             ],
             [
              0.7777777777777778,
              "#6ece58"
             ],
             [
              0.8888888888888888,
              "#b5de2b"
             ],
             [
              1.0,
              "#fde725"
             ]
            ],
            "type": "heatmapgl"
           }
          ],
          "histogram": [
           {
            "marker": {
             "line": {
              "color": "white",
              "width": 0.6
             }
            },
            "type": "histogram"
           }
          ],
          "histogram2d": [
           {
            "colorbar": {
             "outlinewidth": 1,
             "tickcolor": "rgb(36,36,36)",
             "ticks": "outside"
            },
            "colorscale": [
             [
              0.0,
              "#440154"
             ],
             [
              0.1111111111111111,
              "#482878"
             ],
             [
              0.2222222222222222,
              "#3e4989"
             ],
             [
              0.3333333333333333,
              "#31688e"
             ],
             [
              0.4444444444444444,
              "#26828e"
             ],
             [
              0.5555555555555556,
              "#1f9e89"
             ],
             [
              0.6666666666666666,
              "#35b779"
             ],
             [
              0.7777777777777778,
              "#6ece58"
             ],
             [
              0.8888888888888888,
              "#b5de2b"
             ],
             [
              1.0,
              "#fde725"
             ]
            ],
            "type": "histogram2d"
           }
          ],
          "histogram2dcontour": [
           {
            "colorbar": {
             "outlinewidth": 1,
             "tickcolor": "rgb(36,36,36)",
             "ticks": "outside"
            },
            "colorscale": [
             [
              0.0,
              "#440154"
             ],
             [
              0.1111111111111111,
              "#482878"
             ],
             [
              0.2222222222222222,
              "#3e4989"
             ],
             [
              0.3333333333333333,
              "#31688e"
             ],
             [
              0.4444444444444444,
              "#26828e"
             ],
             [
              0.5555555555555556,
              "#1f9e89"
             ],
             [
              0.6666666666666666,
              "#35b779"
             ],
             [
              0.7777777777777778,
              "#6ece58"
             ],
             [
              0.8888888888888888,
              "#b5de2b"
             ],
             [
              1.0,
              "#fde725"
             ]
            ],
            "type": "histogram2dcontour"
           }
          ],
          "mesh3d": [
           {
            "colorbar": {
             "outlinewidth": 1,
             "tickcolor": "rgb(36,36,36)",
             "ticks": "outside"
            },
            "type": "mesh3d"
           }
          ],
          "parcoords": [
           {
            "line": {
             "colorbar": {
              "outlinewidth": 1,
              "tickcolor": "rgb(36,36,36)",
              "ticks": "outside"
             }
            },
            "type": "parcoords"
           }
          ],
          "pie": [
           {
            "automargin": true,
            "type": "pie"
           }
          ],
          "scatter": [
           {
            "fillpattern": {
             "fillmode": "overlay",
             "size": 10,
             "solidity": 0.2
            },
            "type": "scatter"
           }
          ],
          "scatter3d": [
           {
            "line": {
             "colorbar": {
              "outlinewidth": 1,
              "tickcolor": "rgb(36,36,36)",
              "ticks": "outside"
             }
            },
            "marker": {
             "colorbar": {
              "outlinewidth": 1,
              "tickcolor": "rgb(36,36,36)",
              "ticks": "outside"
             }
            },
            "type": "scatter3d"
           }
          ],
          "scattercarpet": [
           {
            "marker": {
             "colorbar": {
              "outlinewidth": 1,
              "tickcolor": "rgb(36,36,36)",
              "ticks": "outside"
             }
            },
            "type": "scattercarpet"
           }
          ],
          "scattergeo": [
           {
            "marker": {
             "colorbar": {
              "outlinewidth": 1,
              "tickcolor": "rgb(36,36,36)",
              "ticks": "outside"
             }
            },
            "type": "scattergeo"
           }
          ],
          "scattergl": [
           {
            "marker": {
             "colorbar": {
              "outlinewidth": 1,
              "tickcolor": "rgb(36,36,36)",
              "ticks": "outside"
             }
            },
            "type": "scattergl"
           }
          ],
          "scattermapbox": [
           {
            "marker": {
             "colorbar": {
              "outlinewidth": 1,
              "tickcolor": "rgb(36,36,36)",
              "ticks": "outside"
             }
            },
            "type": "scattermapbox"
           }
          ],
          "scatterpolar": [
           {
            "marker": {
             "colorbar": {
              "outlinewidth": 1,
              "tickcolor": "rgb(36,36,36)",
              "ticks": "outside"
             }
            },
            "type": "scatterpolar"
           }
          ],
          "scatterpolargl": [
           {
            "marker": {
             "colorbar": {
              "outlinewidth": 1,
              "tickcolor": "rgb(36,36,36)",
              "ticks": "outside"
             }
            },
            "type": "scatterpolargl"
           }
          ],
          "scatterternary": [
           {
            "marker": {
             "colorbar": {
              "outlinewidth": 1,
              "tickcolor": "rgb(36,36,36)",
              "ticks": "outside"
             }
            },
            "type": "scatterternary"
           }
          ],
          "surface": [
           {
            "colorbar": {
             "outlinewidth": 1,
             "tickcolor": "rgb(36,36,36)",
             "ticks": "outside"
            },
            "colorscale": [
             [
              0.0,
              "#440154"
             ],
             [
              0.1111111111111111,
              "#482878"
             ],
             [
              0.2222222222222222,
              "#3e4989"
             ],
             [
              0.3333333333333333,
              "#31688e"
             ],
             [
              0.4444444444444444,
              "#26828e"
             ],
             [
              0.5555555555555556,
              "#1f9e89"
             ],
             [
              0.6666666666666666,
              "#35b779"
             ],
             [
              0.7777777777777778,
              "#6ece58"
             ],
             [
              0.8888888888888888,
              "#b5de2b"
             ],
             [
              1.0,
              "#fde725"
             ]
            ],
            "type": "surface"
           }
          ],
          "table": [
           {
            "cells": {
             "fill": {
              "color": "rgb(237,237,237)"
             },
             "line": {
              "color": "white"
             }
            },
            "header": {
             "fill": {
              "color": "rgb(217,217,217)"
             },
             "line": {
              "color": "white"
             }
            },
            "type": "table"
           }
          ]
         },
         "layout": {
          "annotationdefaults": {
           "arrowhead": 0,
           "arrowwidth": 1
          },
          "autotypenumbers": "strict",
          "coloraxis": {
           "colorbar": {
            "outlinewidth": 1,
            "tickcolor": "rgb(36,36,36)",
            "ticks": "outside"
           }
          },
          "colorscale": {
           "diverging": [
            [
             0.0,
             "rgb(103,0,31)"
            ],
            [
             0.1,
             "rgb(178,24,43)"
            ],
            [
             0.2,
             "rgb(214,96,77)"
            ],
            [
             0.3,
             "rgb(244,165,130)"
            ],
            [
             0.4,
             "rgb(253,219,199)"
            ],
            [
             0.5,
             "rgb(247,247,247)"
            ],
            [
             0.6,
             "rgb(209,229,240)"
            ],
            [
             0.7,
             "rgb(146,197,222)"
            ],
            [
             0.8,
             "rgb(67,147,195)"
            ],
            [
             0.9,
             "rgb(33,102,172)"
            ],
            [
             1.0,
             "rgb(5,48,97)"
            ]
           ],
           "sequential": [
            [
             0.0,
             "#440154"
            ],
            [
             0.1111111111111111,
             "#482878"
            ],
            [
             0.2222222222222222,
             "#3e4989"
            ],
            [
             0.3333333333333333,
             "#31688e"
            ],
            [
             0.4444444444444444,
             "#26828e"
            ],
            [
             0.5555555555555556,
             "#1f9e89"
            ],
            [
             0.6666666666666666,
             "#35b779"
            ],
            [
             0.7777777777777778,
             "#6ece58"
            ],
            [
             0.8888888888888888,
             "#b5de2b"
            ],
            [
             1.0,
             "#fde725"
            ]
           ],
           "sequentialminus": [
            [
             0.0,
             "#440154"
            ],
            [
             0.1111111111111111,
             "#482878"
            ],
            [
             0.2222222222222222,
             "#3e4989"
            ],
            [
             0.3333333333333333,
             "#31688e"
            ],
            [
             0.4444444444444444,
             "#26828e"
            ],
            [
             0.5555555555555556,
             "#1f9e89"
            ],
            [
             0.6666666666666666,
             "#35b779"
            ],
            [
             0.7777777777777778,
             "#6ece58"
            ],
            [
             0.8888888888888888,
             "#b5de2b"
            ],
            [
             1.0,
             "#fde725"
            ]
           ]
          },
          "colorway": [
           "#91268F",
           "#8CC63E",
           "#00A7A0",
           "#F05A28",
           "#4C4C4C",
           "#630460",
           "#9f3913",
           "#588527",
           "#00716c",
           "#3e4040"
          ],
          "font": {
           "color": "rgb(36,36,36)",
           "family": "Poppins",
           "size": 11
          },
          "geo": {
           "bgcolor": "white",
           "lakecolor": "white",
           "landcolor": "white",
           "showlakes": true,
           "showland": true,
           "subunitcolor": "white"
          },
          "hoverlabel": {
           "align": "left"
          },
          "hovermode": "closest",
          "mapbox": {
           "style": "light"
          },
          "paper_bgcolor": "white",
          "plot_bgcolor": "white",
          "polar": {
           "angularaxis": {
            "gridcolor": "rgb(232,232,232)",
            "linecolor": "rgb(36,36,36)",
            "showgrid": false,
            "showline": true,
            "ticks": "outside"
           },
           "bgcolor": "white",
           "radialaxis": {
            "gridcolor": "rgb(232,232,232)",
            "linecolor": "rgb(36,36,36)",
            "showgrid": false,
            "showline": true,
            "ticks": "outside"
           }
          },
          "scene": {
           "xaxis": {
            "backgroundcolor": "white",
            "gridcolor": "rgb(232,232,232)",
            "gridwidth": 2,
            "linecolor": "rgb(36,36,36)",
            "showbackground": true,
            "showgrid": false,
            "showline": true,
            "ticks": "outside",
            "zeroline": false,
            "zerolinecolor": "rgb(36,36,36)"
           },
           "yaxis": {
            "backgroundcolor": "white",
            "gridcolor": "rgb(232,232,232)",
            "gridwidth": 2,
            "linecolor": "rgb(36,36,36)",
            "showbackground": true,
            "showgrid": false,
            "showline": true,
            "ticks": "outside",
            "zeroline": false,
            "zerolinecolor": "rgb(36,36,36)"
           },
           "zaxis": {
            "backgroundcolor": "white",
            "gridcolor": "rgb(232,232,232)",
            "gridwidth": 2,
            "linecolor": "rgb(36,36,36)",
            "showbackground": true,
            "showgrid": false,
            "showline": true,
            "ticks": "outside",
            "zeroline": false,
            "zerolinecolor": "rgb(36,36,36)"
           }
          },
          "shapedefaults": {
           "fillcolor": "black",
           "line": {
            "width": 0
           },
           "opacity": 0.3
          },
          "ternary": {
           "aaxis": {
            "gridcolor": "rgb(232,232,232)",
            "linecolor": "rgb(36,36,36)",
            "showgrid": false,
            "showline": true,
            "ticks": "outside"
           },
           "baxis": {
            "gridcolor": "rgb(232,232,232)",
            "linecolor": "rgb(36,36,36)",
            "showgrid": false,
            "showline": true,
            "ticks": "outside"
           },
           "bgcolor": "white",
           "caxis": {
            "gridcolor": "rgb(232,232,232)",
            "linecolor": "rgb(36,36,36)",
            "showgrid": false,
            "showline": true,
            "ticks": "outside"
           }
          },
          "title": {
           "x": 0.05
          },
          "xaxis": {
           "automargin": true,
           "gridcolor": "rgb(232,232,232)",
           "linecolor": "rgb(36,36,36)",
           "showgrid": false,
           "showline": true,
           "ticks": "outside",
           "title": {
            "standoff": 15
           },
           "zeroline": false,
           "zerolinecolor": "rgb(36,36,36)"
          },
          "yaxis": {
           "automargin": true,
           "gridcolor": "rgb(232,232,232)",
           "linecolor": "rgb(36,36,36)",
           "showgrid": false,
           "showline": true,
           "ticks": "outside",
           "title": {
            "standoff": 15
           },
           "zeroline": false,
           "zerolinecolor": "rgb(36,36,36)"
          }
         }
        },
        "title": {
         "text": "Park and Ride Usage vs Capacity"
        }
       }
      },
      "text/html": [
       "<div>                            <div id=\"b2ba998d-697f-4bb8-ba81-a45f04532658\" class=\"plotly-graph-div\" style=\"height:525px; width:100%;\"></div>            <script type=\"text/javascript\">                require([\"plotly\"], function(Plotly) {                    window.PLOTLYENV=window.PLOTLYENV || {};                                    if (document.getElementById(\"b2ba998d-697f-4bb8-ba81-a45f04532658\")) {                    Plotly.newPlot(                        \"b2ba998d-697f-4bb8-ba81-a45f04532658\",                        [{\"customdata\":[[3751,134,390],[3752,230,2337],[3753,8,220],[3754,86,1107],[3755,245,350],[3756,3,63],[3757,311,996],[3758,595,633],[3759,10,601],[3760,25,104],[3761,16,50],[3762,2,600],[3763,7,107],[3764,34,222],[3765,4,697],[3766,10,306],[3767,2,49],[3768,1,100],[3769,8,20],[3770,7,62],[3771,20,493],[3772,13,75],[3773,21,150],[3774,9,78],[3776,7,195],[3777,2,200],[3778,2,79],[3779,16,515],[3781,114,877],[3782,4,244],[3783,1,540],[3784,10,40],[3785,18,404],[3786,71,713],[3787,47,488],[3788,35,267],[3790,67,385],[3791,7,128],[3792,29,819],[3793,59,447],[3794,10,30],[3795,10,275],[3797,7,75],[3798,105,519],[3800,174,1614],[3801,9,80],[3802,18,38],[3803,3,50],[3804,83,833],[3805,12,203],[3806,28,470],[3808,81,377],[3810,1,55],[3811,61,283],[3812,72,502],[3813,8,443],[3814,32,376],[3815,70,603],[3816,54,75],[3817,80,220],[3818,17,438],[3819,18,100],[3820,9,55],[3821,317,411],[3822,1849,1509],[3823,19,68],[3824,94,393],[3825,9,397],[3826,11,48],[3827,58,230],[3828,55,880],[3830,6,259],[3831,24,255],[3832,14,1398],[3833,19,410],[3834,34,667],[3835,15,104],[3836,1,202],[3837,2,57],[3838,1,58],[3839,5,25],[3841,6,102],[3842,52,1190],[3843,40,105],[3844,35,318],[3845,1,151],[3846,17,80],[3847,8,138],[3849,3,72],[3850,1,65],[3851,78,187],[3852,82,364],[3853,5,68],[3855,2,109],[3856,13,202],[3857,1,116],[3858,5,64],[3861,33,172],[3862,6,50],[3863,3,389],[3864,18,409],[3865,17,302],[3866,5,25],[3868,2,266],[3870,7,462],[3871,3,92],[3873,15,95],[3874,95,1022],[3875,5,356],[3876,447,662],[3877,26,354],[3878,1,33],[3879,57,1010],[3880,6,207],[3882,3,57],[3883,8,53],[3884,5,210],[3886,53,566],[3888,337,219],[3889,6,213],[3891,8,74],[3892,1,75],[3893,2,265],[3894,14,150],[3895,11,170],[3896,11,150],[3897,365,125],[3898,4,90],[3899,13,75],[3900,10,96],[3901,10,61],[3902,4,54],[3903,1,52],[3904,4,50],[3905,1,49],[3907,841,1160],[3908,49,160],[3951,67,54]],\"hovertemplate\":\"Boardings\\u002fCapacity=%{marker.color}\\u003cbr\\u003elat=%{lat}\\u003cbr\\u003elon=%{lon}\\u003cbr\\u003etaz=%{customdata[0]}\\u003cbr\\u003eModel Boardings=%{customdata[1]}\\u003cbr\\u003eCapacity=%{customdata[2]}\\u003cextra\\u003e\\u003c\\u002fextra\\u003e\",\"lat\":[47.459791189113055,47.240587026940496,47.203188285743,47.97553008822413,47.201048326678425,47.949202090593815,47.383970408531425,47.30597098022815,47.153298431654285,47.56718379854233,47.193060762628754,47.29373336434266,47.631646481329874,47.64429306998266,47.35504335733807,47.3163618931415,47.74282207119212,47.08271784155433,47.140757778268615,47.14791172694066,47.161484802874284,47.23400250827875,47.21362968300981,47.20552052830966,47.25600193981221,47.38923379023241,47.30559584671795,47.289041380796476,47.31163591874175,47.32142070370895,47.358683156241256,47.7104244936842,47.39168729512872,47.38491251743171,47.469518524026284,47.48197741301064,47.47271938615727,47.50715467593467,47.5421344859425,47.58878969142359,47.57701316304821,47.55704702946253,47.564129961427035,47.58629181288903,47.580583829158485,47.49597432021159,47.63677734251024,47.616380743797244,47.64418998070187,47.63297717439434,47.66816331814846,47.6765003576322,47.42287235072545,47.674169895277565,47.71630675038611,47.74096553654258,47.76143815613439,47.75869948424539,47.75911072833425,47.759457740337254,47.75702879699488,47.520273185221846,47.571714184646375,47.67673605768736,47.70239443761157,47.735650070604855,47.76687666732243,47.897149496501655,47.45193656025647,47.50832497753617,47.786023838048486,47.81083814590226,47.805505328682436,47.81595811606588,47.851158747803034,47.879273837323716,47.931600004686565,48.052799958531104,48.10076953427173,48.15261861721189,48.196226663014926,47.86853209498515,47.31771355238481,47.53346196599079,47.51175930997434,47.620810382951404,47.635076024273125,47.733914565835,47.798924738192895,47.733267845932694,47.62400593156234,47.19226982725735,47.192971542906285,47.08990334694735,47.77471134386238,47.75619875057065,47.56885032852624,47.36115476012324,48.15732422532287,47.91577651606941,47.880528888492265,47.79421797219861,47.78299309998247,47.759682723438075,47.50395364516145,47.4683127358232,47.24317915202268,47.852265826626585,47.17424906089401,47.46462822513558,47.161515219367466,47.20690802107854,47.54548131124219,47.99833018258796,47.74896727800608,47.52729295506841,47.799607552327174,47.56371171355699,47.185461659521216,48.06186352787003,48.05093832410037,47.85078851793791,47.582163360805794,47.48065386274714,47.54050303955318,47.48170670581923,47.67825835598132,47.36261650204512,47.35719493962773,47.48028761734057,47.66655727817533,47.601973031740954,47.68558355990292,47.51822107506604,47.4435715904644,47.42300305792277,47.60111801912681,47.302354813300944],\"legendgroup\":\"\",\"lon\":[-122.24142204292801,-122.42559764232288,-122.48610523364498,-122.19768602099377,-122.24474142310243,-122.29903798331632,-122.23410004243462,-122.23148352515318,-122.49859252745824,-122.65169744997347,-122.29627387444259,-122.3599437944882,-122.6376553285978,-122.13352825516421,-122.30994876622252,-122.58550724037367,-121.98519670565817,-122.43467115344275,-122.30342870923496,-122.43537507130094,-122.4832269556689,-122.49605950380925,-122.46823390072736,-122.46332756461389,-122.53268859436118,-122.62545806801099,-122.51464330348125,-122.32271243809302,-122.30155617219685,-122.22738331793343,-122.29854675639369,-122.20748786443893,-122.28801450038526,-122.24251278515935,-122.33865108623566,-122.26898729590523,-122.2140249890397,-122.18367513597434,-122.06181211149554,-122.23166518784704,-122.22739995414824,-122.1886194896657,-122.17018509756201,-122.1904053737166,-122.15247915819556,-121.78890814933835,-122.23793067783187,-122.21058496428182,-122.19692070930883,-122.1356025761157,-122.18466300042218,-122.12357646358394,-122.4617588893532,-122.10086680270592,-122.18764374421475,-122.18801850253551,-122.25089711182129,-122.24193472527783,-122.25940207427163,-122.20174474164908,-122.15150344952004,-122.33619477501689,-122.36486292041623,-122.3207479132486,-122.3263535981885,-122.3238311992929,-122.34679899076795,-122.21539257019184,-122.45962271847641,-122.46527095271402,-122.31456649794684,-122.38443648143998,-122.33045854744478,-122.29397697243073,-122.2762912947167,-122.23819674557204,-122.10076917207742,-122.18350218748834,-122.18650029800804,-122.19203878663723,-122.129183066928,-121.9960708438206,-122.30476126399772,-122.61872855042411,-122.4985314823769,-122.62808145181158,-122.53684064463692,-122.63927304886704,-122.497145659761,-122.55779654978755,-122.51049641551649,-122.29638289622436,-122.41141133327692,-122.6408244608136,-122.34274243377105,-122.33571558742703,-122.16885945632364,-122.16596694150272,-122.18235612206618,-122.2039867300772,-122.22076355008004,-122.21165372444678,-122.34737059623502,-122.65215146199641,-122.51509635593781,-122.6219458140525,-122.52527889141626,-122.25855174480624,-122.18490269497767,-122.28690849789872,-122.30486983988138,-122.45925556454627,-122.01943008905627,-122.1037985047417,-122.6376022779008,-121.93697928446608,-122.508528546698,-122.6250481725124,-122.29928303340452,-122.17950440147415,-122.18326561243495,-122.2711389215377,-122.03642859327114,-122.20850143259241,-122.06172743208168,-122.20744093150329,-122.31799001747187,-122.0201427495308,-122.29322515985572,-122.22017447638363,-122.19590687558149,-122.03476548005801,-122.03407154200131,-122.20129952764448,-122.15522089858798,-122.29884833358034,-122.63061955933047,-122.25777874175822],\"marker\":{\"color\":[0.3435897435897436,0.09841677364142062,0.03636363636363636,0.07768744354110207,0.7,0.047619047619047616,0.31224899598393574,0.9399684044233807,0.016638935108153077,0.2403846153846154,0.32,0.0033333333333333335,0.06542056074766354,0.15315315315315314,0.005738880918220947,0.032679738562091505,0.04081632653061224,0.01,0.4,0.11290322580645161,0.04056795131845842,0.17333333333333334,0.14,0.11538461538461539,0.035897435897435895,0.01,0.02531645569620253,0.031067961165048542,0.12998859749144812,0.01639344262295082,0.001851851851851852,0.25,0.04455445544554455,0.09957924263674614,0.09631147540983606,0.13108614232209737,0.17402597402597403,0.0546875,0.03540903540903541,0.1319910514541387,0.3333333333333333,0.03636363636363636,0.09333333333333334,0.2023121387283237,0.10780669144981413,0.1125,0.47368421052631576,0.06,0.09963985594237695,0.059113300492610835,0.059574468085106386,0.21485411140583555,0.01818181818181818,0.21554770318021202,0.14342629482071714,0.01805869074492099,0.0851063829787234,0.11608623548922056,0.72,0.36363636363636365,0.03881278538812785,0.18,0.16363636363636364,0.7712895377128953,1.2253147779986746,0.27941176470588236,0.23918575063613232,0.022670025188916875,0.22916666666666666,0.25217391304347825,0.0625,0.023166023166023165,0.09411764705882353,0.010014306151645207,0.046341463414634146,0.050974512743628186,0.14423076923076922,0.0049504950495049506,0.03508771929824561,0.017241379310344827,0.2,0.058823529411764705,0.043697478991596636,0.38095238095238093,0.11006289308176101,0.006622516556291391,0.2125,0.057971014492753624,0.041666666666666664,0.015384615384615385,0.41711229946524064,0.22527472527472528,0.07352941176470588,0.01834862385321101,0.06435643564356436,0.008620689655172414,0.078125,0.19186046511627908,0.12,0.007712082262210797,0.044009779951100246,0.056291390728476824,0.2,0.007518796992481203,0.015151515151515152,0.03260869565217391,0.15789473684210525,0.09295499021526418,0.014044943820224719,0.675226586102719,0.07344632768361582,0.030303030303030304,0.05643564356435644,0.028985507246376812,0.05263157894736842,0.1509433962264151,0.023809523809523808,0.09363957597173145,1.538812785388128,0.028169014084507043,0.10810810810810811,0.013333333333333334,0.007547169811320755,0.09333333333333334,0.06470588235294118,0.07333333333333333,2.92,0.044444444444444446,0.17333333333333334,0.10416666666666667,0.16393442622950818,0.07407407407407407,0.019230769230769232,0.08,0.02040816326530612,0.725,0.30625,1.2407407407407407],\"coloraxis\":\"coloraxis\",\"size\":[0.3435897435897436,0.09841677364142062,0.03636363636363636,0.07768744354110207,0.7,0.047619047619047616,0.31224899598393574,0.9399684044233807,0.016638935108153077,0.2403846153846154,0.32,0.0033333333333333335,0.06542056074766354,0.15315315315315314,0.005738880918220947,0.032679738562091505,0.04081632653061224,0.01,0.4,0.11290322580645161,0.04056795131845842,0.17333333333333334,0.14,0.11538461538461539,0.035897435897435895,0.01,0.02531645569620253,0.031067961165048542,0.12998859749144812,0.01639344262295082,0.001851851851851852,0.25,0.04455445544554455,0.09957924263674614,0.09631147540983606,0.13108614232209737,0.17402597402597403,0.0546875,0.03540903540903541,0.1319910514541387,0.3333333333333333,0.03636363636363636,0.09333333333333334,0.2023121387283237,0.10780669144981413,0.1125,0.47368421052631576,0.06,0.09963985594237695,0.059113300492610835,0.059574468085106386,0.21485411140583555,0.01818181818181818,0.21554770318021202,0.14342629482071714,0.01805869074492099,0.0851063829787234,0.11608623548922056,0.72,0.36363636363636365,0.03881278538812785,0.18,0.16363636363636364,0.7712895377128953,1.2253147779986746,0.27941176470588236,0.23918575063613232,0.022670025188916875,0.22916666666666666,0.25217391304347825,0.0625,0.023166023166023165,0.09411764705882353,0.010014306151645207,0.046341463414634146,0.050974512743628186,0.14423076923076922,0.0049504950495049506,0.03508771929824561,0.017241379310344827,0.2,0.058823529411764705,0.043697478991596636,0.38095238095238093,0.11006289308176101,0.006622516556291391,0.2125,0.057971014492753624,0.041666666666666664,0.015384615384615385,0.41711229946524064,0.22527472527472528,0.07352941176470588,0.01834862385321101,0.06435643564356436,0.008620689655172414,0.078125,0.19186046511627908,0.12,0.007712082262210797,0.044009779951100246,0.056291390728476824,0.2,0.007518796992481203,0.015151515151515152,0.03260869565217391,0.15789473684210525,0.09295499021526418,0.014044943820224719,0.675226586102719,0.07344632768361582,0.030303030303030304,0.05643564356435644,0.028985507246376812,0.05263157894736842,0.1509433962264151,0.023809523809523808,0.09363957597173145,1.538812785388128,0.028169014084507043,0.10810810810810811,0.013333333333333334,0.007547169811320755,0.09333333333333334,0.06470588235294118,0.07333333333333333,2.92,0.044444444444444446,0.17333333333333334,0.10416666666666667,0.16393442622950818,0.07407407407407407,0.019230769230769232,0.08,0.02040816326530612,0.725,0.30625,1.2407407407407407],\"sizemode\":\"area\",\"sizeref\":0.0073},\"mode\":\"markers\",\"name\":\"\",\"showlegend\":false,\"subplot\":\"mapbox\",\"type\":\"scattermapbox\"}],                        {\"template\":{\"data\":{\"barpolar\":[{\"marker\":{\"line\":{\"color\":\"white\",\"width\":0.5},\"pattern\":{\"fillmode\":\"overlay\",\"size\":10,\"solidity\":0.2}},\"type\":\"barpolar\"}],\"bar\":[{\"error_x\":{\"color\":\"rgb(36,36,36)\"},\"error_y\":{\"color\":\"rgb(36,36,36)\"},\"marker\":{\"line\":{\"color\":\"white\",\"width\":0.5},\"pattern\":{\"fillmode\":\"overlay\",\"size\":10,\"solidity\":0.2}},\"type\":\"bar\"}],\"carpet\":[{\"aaxis\":{\"endlinecolor\":\"rgb(36,36,36)\",\"gridcolor\":\"white\",\"linecolor\":\"white\",\"minorgridcolor\":\"white\",\"startlinecolor\":\"rgb(36,36,36)\"},\"baxis\":{\"endlinecolor\":\"rgb(36,36,36)\",\"gridcolor\":\"white\",\"linecolor\":\"white\",\"minorgridcolor\":\"white\",\"startlinecolor\":\"rgb(36,36,36)\"},\"type\":\"carpet\"}],\"choropleth\":[{\"colorbar\":{\"outlinewidth\":1,\"tickcolor\":\"rgb(36,36,36)\",\"ticks\":\"outside\"},\"type\":\"choropleth\"}],\"contourcarpet\":[{\"colorbar\":{\"outlinewidth\":1,\"tickcolor\":\"rgb(36,36,36)\",\"ticks\":\"outside\"},\"type\":\"contourcarpet\"}],\"contour\":[{\"colorbar\":{\"outlinewidth\":1,\"tickcolor\":\"rgb(36,36,36)\",\"ticks\":\"outside\"},\"colorscale\":[[0.0,\"#440154\"],[0.1111111111111111,\"#482878\"],[0.2222222222222222,\"#3e4989\"],[0.3333333333333333,\"#31688e\"],[0.4444444444444444,\"#26828e\"],[0.5555555555555556,\"#1f9e89\"],[0.6666666666666666,\"#35b779\"],[0.7777777777777778,\"#6ece58\"],[0.8888888888888888,\"#b5de2b\"],[1.0,\"#fde725\"]],\"type\":\"contour\"}],\"heatmapgl\":[{\"colorbar\":{\"outlinewidth\":1,\"tickcolor\":\"rgb(36,36,36)\",\"ticks\":\"outside\"},\"colorscale\":[[0.0,\"#440154\"],[0.1111111111111111,\"#482878\"],[0.2222222222222222,\"#3e4989\"],[0.3333333333333333,\"#31688e\"],[0.4444444444444444,\"#26828e\"],[0.5555555555555556,\"#1f9e89\"],[0.6666666666666666,\"#35b779\"],[0.7777777777777778,\"#6ece58\"],[0.8888888888888888,\"#b5de2b\"],[1.0,\"#fde725\"]],\"type\":\"heatmapgl\"}],\"heatmap\":[{\"colorbar\":{\"outlinewidth\":1,\"tickcolor\":\"rgb(36,36,36)\",\"ticks\":\"outside\"},\"colorscale\":[[0.0,\"#440154\"],[0.1111111111111111,\"#482878\"],[0.2222222222222222,\"#3e4989\"],[0.3333333333333333,\"#31688e\"],[0.4444444444444444,\"#26828e\"],[0.5555555555555556,\"#1f9e89\"],[0.6666666666666666,\"#35b779\"],[0.7777777777777778,\"#6ece58\"],[0.8888888888888888,\"#b5de2b\"],[1.0,\"#fde725\"]],\"type\":\"heatmap\"}],\"histogram2dcontour\":[{\"colorbar\":{\"outlinewidth\":1,\"tickcolor\":\"rgb(36,36,36)\",\"ticks\":\"outside\"},\"colorscale\":[[0.0,\"#440154\"],[0.1111111111111111,\"#482878\"],[0.2222222222222222,\"#3e4989\"],[0.3333333333333333,\"#31688e\"],[0.4444444444444444,\"#26828e\"],[0.5555555555555556,\"#1f9e89\"],[0.6666666666666666,\"#35b779\"],[0.7777777777777778,\"#6ece58\"],[0.8888888888888888,\"#b5de2b\"],[1.0,\"#fde725\"]],\"type\":\"histogram2dcontour\"}],\"histogram2d\":[{\"colorbar\":{\"outlinewidth\":1,\"tickcolor\":\"rgb(36,36,36)\",\"ticks\":\"outside\"},\"colorscale\":[[0.0,\"#440154\"],[0.1111111111111111,\"#482878\"],[0.2222222222222222,\"#3e4989\"],[0.3333333333333333,\"#31688e\"],[0.4444444444444444,\"#26828e\"],[0.5555555555555556,\"#1f9e89\"],[0.6666666666666666,\"#35b779\"],[0.7777777777777778,\"#6ece58\"],[0.8888888888888888,\"#b5de2b\"],[1.0,\"#fde725\"]],\"type\":\"histogram2d\"}],\"histogram\":[{\"marker\":{\"line\":{\"color\":\"white\",\"width\":0.6}},\"type\":\"histogram\"}],\"mesh3d\":[{\"colorbar\":{\"outlinewidth\":1,\"tickcolor\":\"rgb(36,36,36)\",\"ticks\":\"outside\"},\"type\":\"mesh3d\"}],\"parcoords\":[{\"line\":{\"colorbar\":{\"outlinewidth\":1,\"tickcolor\":\"rgb(36,36,36)\",\"ticks\":\"outside\"}},\"type\":\"parcoords\"}],\"pie\":[{\"automargin\":true,\"type\":\"pie\"}],\"scatter3d\":[{\"line\":{\"colorbar\":{\"outlinewidth\":1,\"tickcolor\":\"rgb(36,36,36)\",\"ticks\":\"outside\"}},\"marker\":{\"colorbar\":{\"outlinewidth\":1,\"tickcolor\":\"rgb(36,36,36)\",\"ticks\":\"outside\"}},\"type\":\"scatter3d\"}],\"scattercarpet\":[{\"marker\":{\"colorbar\":{\"outlinewidth\":1,\"tickcolor\":\"rgb(36,36,36)\",\"ticks\":\"outside\"}},\"type\":\"scattercarpet\"}],\"scattergeo\":[{\"marker\":{\"colorbar\":{\"outlinewidth\":1,\"tickcolor\":\"rgb(36,36,36)\",\"ticks\":\"outside\"}},\"type\":\"scattergeo\"}],\"scattergl\":[{\"marker\":{\"colorbar\":{\"outlinewidth\":1,\"tickcolor\":\"rgb(36,36,36)\",\"ticks\":\"outside\"}},\"type\":\"scattergl\"}],\"scattermapbox\":[{\"marker\":{\"colorbar\":{\"outlinewidth\":1,\"tickcolor\":\"rgb(36,36,36)\",\"ticks\":\"outside\"}},\"type\":\"scattermapbox\"}],\"scatterpolargl\":[{\"marker\":{\"colorbar\":{\"outlinewidth\":1,\"tickcolor\":\"rgb(36,36,36)\",\"ticks\":\"outside\"}},\"type\":\"scatterpolargl\"}],\"scatterpolar\":[{\"marker\":{\"colorbar\":{\"outlinewidth\":1,\"tickcolor\":\"rgb(36,36,36)\",\"ticks\":\"outside\"}},\"type\":\"scatterpolar\"}],\"scatter\":[{\"fillpattern\":{\"fillmode\":\"overlay\",\"size\":10,\"solidity\":0.2},\"type\":\"scatter\"}],\"scatterternary\":[{\"marker\":{\"colorbar\":{\"outlinewidth\":1,\"tickcolor\":\"rgb(36,36,36)\",\"ticks\":\"outside\"}},\"type\":\"scatterternary\"}],\"surface\":[{\"colorbar\":{\"outlinewidth\":1,\"tickcolor\":\"rgb(36,36,36)\",\"ticks\":\"outside\"},\"colorscale\":[[0.0,\"#440154\"],[0.1111111111111111,\"#482878\"],[0.2222222222222222,\"#3e4989\"],[0.3333333333333333,\"#31688e\"],[0.4444444444444444,\"#26828e\"],[0.5555555555555556,\"#1f9e89\"],[0.6666666666666666,\"#35b779\"],[0.7777777777777778,\"#6ece58\"],[0.8888888888888888,\"#b5de2b\"],[1.0,\"#fde725\"]],\"type\":\"surface\"}],\"table\":[{\"cells\":{\"fill\":{\"color\":\"rgb(237,237,237)\"},\"line\":{\"color\":\"white\"}},\"header\":{\"fill\":{\"color\":\"rgb(217,217,217)\"},\"line\":{\"color\":\"white\"}},\"type\":\"table\"}]},\"layout\":{\"annotationdefaults\":{\"arrowhead\":0,\"arrowwidth\":1},\"autotypenumbers\":\"strict\",\"coloraxis\":{\"colorbar\":{\"outlinewidth\":1,\"tickcolor\":\"rgb(36,36,36)\",\"ticks\":\"outside\"}},\"colorscale\":{\"diverging\":[[0.0,\"rgb(103,0,31)\"],[0.1,\"rgb(178,24,43)\"],[0.2,\"rgb(214,96,77)\"],[0.3,\"rgb(244,165,130)\"],[0.4,\"rgb(253,219,199)\"],[0.5,\"rgb(247,247,247)\"],[0.6,\"rgb(209,229,240)\"],[0.7,\"rgb(146,197,222)\"],[0.8,\"rgb(67,147,195)\"],[0.9,\"rgb(33,102,172)\"],[1.0,\"rgb(5,48,97)\"]],\"sequential\":[[0.0,\"#440154\"],[0.1111111111111111,\"#482878\"],[0.2222222222222222,\"#3e4989\"],[0.3333333333333333,\"#31688e\"],[0.4444444444444444,\"#26828e\"],[0.5555555555555556,\"#1f9e89\"],[0.6666666666666666,\"#35b779\"],[0.7777777777777778,\"#6ece58\"],[0.8888888888888888,\"#b5de2b\"],[1.0,\"#fde725\"]],\"sequentialminus\":[[0.0,\"#440154\"],[0.1111111111111111,\"#482878\"],[0.2222222222222222,\"#3e4989\"],[0.3333333333333333,\"#31688e\"],[0.4444444444444444,\"#26828e\"],[0.5555555555555556,\"#1f9e89\"],[0.6666666666666666,\"#35b779\"],[0.7777777777777778,\"#6ece58\"],[0.8888888888888888,\"#b5de2b\"],[1.0,\"#fde725\"]]},\"colorway\":[\"#91268F\",\"#8CC63E\",\"#00A7A0\",\"#F05A28\",\"#4C4C4C\",\"#630460\",\"#9f3913\",\"#588527\",\"#00716c\",\"#3e4040\"],\"font\":{\"color\":\"rgb(36,36,36)\",\"family\":\"Poppins\",\"size\":11},\"geo\":{\"bgcolor\":\"white\",\"lakecolor\":\"white\",\"landcolor\":\"white\",\"showlakes\":true,\"showland\":true,\"subunitcolor\":\"white\"},\"hoverlabel\":{\"align\":\"left\"},\"hovermode\":\"closest\",\"mapbox\":{\"style\":\"light\"},\"paper_bgcolor\":\"white\",\"plot_bgcolor\":\"white\",\"polar\":{\"angularaxis\":{\"gridcolor\":\"rgb(232,232,232)\",\"linecolor\":\"rgb(36,36,36)\",\"showgrid\":false,\"showline\":true,\"ticks\":\"outside\"},\"bgcolor\":\"white\",\"radialaxis\":{\"gridcolor\":\"rgb(232,232,232)\",\"linecolor\":\"rgb(36,36,36)\",\"showgrid\":false,\"showline\":true,\"ticks\":\"outside\"}},\"scene\":{\"xaxis\":{\"backgroundcolor\":\"white\",\"gridcolor\":\"rgb(232,232,232)\",\"gridwidth\":2,\"linecolor\":\"rgb(36,36,36)\",\"showbackground\":true,\"showgrid\":false,\"showline\":true,\"ticks\":\"outside\",\"zeroline\":false,\"zerolinecolor\":\"rgb(36,36,36)\"},\"yaxis\":{\"backgroundcolor\":\"white\",\"gridcolor\":\"rgb(232,232,232)\",\"gridwidth\":2,\"linecolor\":\"rgb(36,36,36)\",\"showbackground\":true,\"showgrid\":false,\"showline\":true,\"ticks\":\"outside\",\"zeroline\":false,\"zerolinecolor\":\"rgb(36,36,36)\"},\"zaxis\":{\"backgroundcolor\":\"white\",\"gridcolor\":\"rgb(232,232,232)\",\"gridwidth\":2,\"linecolor\":\"rgb(36,36,36)\",\"showbackground\":true,\"showgrid\":false,\"showline\":true,\"ticks\":\"outside\",\"zeroline\":false,\"zerolinecolor\":\"rgb(36,36,36)\"}},\"shapedefaults\":{\"fillcolor\":\"black\",\"line\":{\"width\":0},\"opacity\":0.3},\"ternary\":{\"aaxis\":{\"gridcolor\":\"rgb(232,232,232)\",\"linecolor\":\"rgb(36,36,36)\",\"showgrid\":false,\"showline\":true,\"ticks\":\"outside\"},\"baxis\":{\"gridcolor\":\"rgb(232,232,232)\",\"linecolor\":\"rgb(36,36,36)\",\"showgrid\":false,\"showline\":true,\"ticks\":\"outside\"},\"bgcolor\":\"white\",\"caxis\":{\"gridcolor\":\"rgb(232,232,232)\",\"linecolor\":\"rgb(36,36,36)\",\"showgrid\":false,\"showline\":true,\"ticks\":\"outside\"}},\"title\":{\"x\":0.05},\"xaxis\":{\"automargin\":true,\"gridcolor\":\"rgb(232,232,232)\",\"linecolor\":\"rgb(36,36,36)\",\"showgrid\":false,\"showline\":true,\"ticks\":\"outside\",\"title\":{\"standoff\":15},\"zeroline\":false,\"zerolinecolor\":\"rgb(36,36,36)\"},\"yaxis\":{\"automargin\":true,\"gridcolor\":\"rgb(232,232,232)\",\"linecolor\":\"rgb(36,36,36)\",\"showgrid\":false,\"showline\":true,\"ticks\":\"outside\",\"title\":{\"standoff\":15},\"zeroline\":false,\"zerolinecolor\":\"rgb(36,36,36)\"}}},\"mapbox\":{\"domain\":{\"x\":[0.0,1.0],\"y\":[0.0,1.0]},\"center\":{\"lat\":47.569571493271376,\"lon\":-122.30047929616494},\"zoom\":7,\"style\":\"carto-positron\"},\"coloraxis\":{\"colorbar\":{\"title\":{\"text\":\"Boardings\\u002fCapacity\"}},\"colorscale\":[[0.0,\"#440154\"],[0.1111111111111111,\"#482878\"],[0.2222222222222222,\"#3e4989\"],[0.3333333333333333,\"#31688e\"],[0.4444444444444444,\"#26828e\"],[0.5555555555555556,\"#1f9e89\"],[0.6666666666666666,\"#35b779\"],[0.7777777777777778,\"#6ece58\"],[0.8888888888888888,\"#b5de2b\"],[1.0,\"#fde725\"]]},\"legend\":{\"tracegroupgap\":0,\"itemsizing\":\"constant\"},\"title\":{\"text\":\"Park and Ride Usage vs Capacity\"},\"margin\":{\"r\":0,\"t\":0,\"l\":0,\"b\":0}},                        {\"responsive\": true}                    ).then(function(){\n",
       "                            \n",
       "var gd = document.getElementById('b2ba998d-697f-4bb8-ba81-a45f04532658');\n",
       "var x = new MutationObserver(function (mutations, observer) {{\n",
       "        var display = window.getComputedStyle(gd).display;\n",
       "        if (!display || display === 'none') {{\n",
       "            console.log([gd, 'removed!']);\n",
       "            Plotly.purge(gd);\n",
       "            observer.disconnect();\n",
       "        }}\n",
       "}});\n",
       "\n",
       "// Listen for the removal of the full notebook cells\n",
       "var notebookContainer = gd.closest('#notebook-container');\n",
       "if (notebookContainer) {{\n",
       "    x.observe(notebookContainer, {childList: true});\n",
       "}}\n",
       "\n",
       "// Listen for the clearing of the current output cell\n",
       "var outputEl = gd.closest('.output');\n",
       "if (outputEl) {{\n",
       "    x.observe(outputEl, {childList: true});\n",
       "}}\n",
       "\n",
       "                        })                };                });            </script>        </div>"
      ]
     },
     "metadata": {},
     "output_type": "display_data"
    }
   ],
   "source": [
    "\n",
    "fig = px.scatter_mapbox(gdf, lat=gdf.geometry.y, lon=gdf.geometry.x, color='Boardings/Capacity', \n",
    "                        size='Boardings/Capacity', hover_data=['taz','Model Boardings', 'Capacity'], \n",
    "                        title='Park and Ride Usage vs Capacity', zoom=7)\n",
    "fig.update_layout(mapbox_style=\"carto-positron\")\n",
    "fig.update_layout(margin={\"r\":0,\"t\":0,\"l\":0,\"b\":0})\n",
    "\n",
    "fig.show()"
   ]
  },
  {
   "cell_type": "code",
   "execution_count": null,
   "id": "8eefc4c8",
   "metadata": {},
   "outputs": [],
   "source": []
  }
 ],
 "metadata": {
  "kernelspec": {
   "display_name": "summary",
   "language": "python",
   "name": "python3"
  },
  "language_info": {
   "codemirror_mode": {
    "name": "ipython",
    "version": 3
   },
   "file_extension": ".py",
   "mimetype": "text/x-python",
   "name": "python",
   "nbconvert_exporter": "python",
   "pygments_lexer": "ipython3",
   "version": "3.7.10"
  }
 },
 "nbformat": 4,
 "nbformat_minor": 5
}
