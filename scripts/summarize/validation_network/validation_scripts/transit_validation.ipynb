{
 "cells": [
  {
   "cell_type": "raw",
   "id": "48597e7e80043434",
   "metadata": {},
   "source": [
    "---\n",
    "title: \"Transit Summary\"\n",
    "date: today\n",
    "---"
   ]
  },
  {
   "cell_type": "code",
   "execution_count": 1,
   "id": "3c1a81e12086b602",
   "metadata": {
    "ExecuteTime": {
     "end_time": "2024-06-24T20:05:20.341638Z",
     "start_time": "2024-06-24T20:05:20.232835Z"
    },
    "execution": {
     "iopub.execute_input": "2024-06-24T21:54:00.036541Z",
     "iopub.status.busy": "2024-06-24T21:54:00.036541Z",
     "iopub.status.idle": "2024-06-24T21:54:04.760522Z",
     "shell.execute_reply": "2024-06-24T21:54:04.760522Z"
    }
   },
   "outputs": [],
   "source": [
    "import os\n",
    "import pandas as pd\n",
    "import numpy as np\n",
    "from sqlalchemy import create_engine\n",
    "from scipy import stats\n",
    "import plotly.express as px\n",
    "import toml\n",
    "import psrc_theme\n",
    "\n",
    "%matplotlib inline\n",
    "from IPython.display import display, HTML\n",
    "\n",
    "# to show plotly figures in quarto HTML file\n",
    "import plotly.io as pio\n",
    "pio.renderers.default = \"plotly_mimetype+notebook_connected\"\n",
    "pio.templates.default = \"simple_white+psrc_color\" # set plotly template\n",
    "\n",
    "input_config = toml.load(os.path.join(os.getcwd(), '..\\\\..\\\\..\\\\..\\\\configuration', 'input_configuration.toml'))\n",
    "valid_config = toml.load(os.path.join(os.getcwd(), '..\\\\..\\\\..\\\\..\\\\configuration', 'validation_configuration.toml'))\n",
    "\n",
    "# create connection\n",
    "conn = create_engine('sqlite:///inputs/db/'+input_config['db_name'])\n",
    "\n",
    "# summary data location\n",
    "csv_path = os.path.join(valid_config['model_dir'], 'outputs/validation')\n",
    "\n",
    "# table format\n",
    "pd.options.display.float_format = '{:0,.2f}'.format\n",
    "format_percent = \"{:,.2%}\".format"
   ]
  },
  {
   "cell_type": "markdown",
   "id": "b00095bdf12d94c3",
   "metadata": {},
   "source": [
    "## transit boarding"
   ]
  },
  {
   "cell_type": "markdown",
   "id": "b0eb0b3986c9d024",
   "metadata": {},
   "source": [
    "### boarding by agency"
   ]
  },
  {
   "cell_type": "code",
   "execution_count": 2,
   "id": "daca8798e4e1c396",
   "metadata": {
    "ExecuteTime": {
     "end_time": "2024-06-24T20:04:29.076584Z",
     "start_time": "2024-06-24T20:04:29.029595Z"
    },
    "execution": {
     "iopub.execute_input": "2024-06-24T21:54:04.763531Z",
     "iopub.status.busy": "2024-06-24T21:54:04.763531Z",
     "iopub.status.idle": "2024-06-24T21:54:04.838812Z",
     "shell.execute_reply": "2024-06-24T21:54:04.838812Z"
    }
   },
   "outputs": [],
   "source": [
    "df = pd.read_csv(os.path.join(csv_path, 'daily_boardings_by_agency.csv')).sort_values('observed_boardings', ascending=False)\n",
    "plot_df = df.melt(id_vars=['agency'], value_vars=['observed_boardings', 'model_boardings'],\n",
    "                  var_name='source', value_name='count')"
   ]
  },
  {
   "cell_type": "code",
   "execution_count": 3,
   "id": "4f0d5527b7528301",
   "metadata": {
    "ExecuteTime": {
     "end_time": "2024-06-24T20:05:24.997972Z",
     "start_time": "2024-06-24T20:05:24.956972Z"
    },
    "execution": {
     "iopub.execute_input": "2024-06-24T21:54:04.854389Z",
     "iopub.status.busy": "2024-06-24T21:54:04.854389Z",
     "iopub.status.idle": "2024-06-24T21:54:04.947796Z",
     "shell.execute_reply": "2024-06-24T21:54:04.947796Z"
    }
   },
   "outputs": [
    {
     "data": {
      "text/html": [
       "<div>\n",
       "<style scoped>\n",
       "    .dataframe tbody tr th:only-of-type {\n",
       "        vertical-align: middle;\n",
       "    }\n",
       "\n",
       "    .dataframe tbody tr th {\n",
       "        vertical-align: top;\n",
       "    }\n",
       "\n",
       "    .dataframe thead th {\n",
       "        text-align: right;\n",
       "    }\n",
       "</style>\n",
       "<table border=\"1\" class=\"dataframe\">\n",
       "  <thead>\n",
       "    <tr style=\"text-align: right;\">\n",
       "      <th></th>\n",
       "      <th>agency</th>\n",
       "      <th>observed_boardings</th>\n",
       "      <th>model_boardings</th>\n",
       "      <th>diff</th>\n",
       "      <th>perc_diff</th>\n",
       "    </tr>\n",
       "  </thead>\n",
       "  <tbody>\n",
       "    <tr>\n",
       "      <th>2</th>\n",
       "      <td>King County Metro</td>\n",
       "      <td>253,313.62</td>\n",
       "      <td>326,079.65</td>\n",
       "      <td>72,766.03</td>\n",
       "      <td>28.73%</td>\n",
       "    </tr>\n",
       "    <tr>\n",
       "      <th>5</th>\n",
       "      <td>Sound Transit</td>\n",
       "      <td>113,374.00</td>\n",
       "      <td>146,858.46</td>\n",
       "      <td>33,484.46</td>\n",
       "      <td>29.53%</td>\n",
       "    </tr>\n",
       "    <tr>\n",
       "      <th>0</th>\n",
       "      <td>Community Transit</td>\n",
       "      <td>25,962.00</td>\n",
       "      <td>23,956.43</td>\n",
       "      <td>-2,005.57</td>\n",
       "      <td>-7.73%</td>\n",
       "    </tr>\n",
       "    <tr>\n",
       "      <th>4</th>\n",
       "      <td>Pierce Transit</td>\n",
       "      <td>21,185.00</td>\n",
       "      <td>19,720.86</td>\n",
       "      <td>-1,464.14</td>\n",
       "      <td>-6.91%</td>\n",
       "    </tr>\n",
       "    <tr>\n",
       "      <th>6</th>\n",
       "      <td>Washington Ferries</td>\n",
       "      <td>9,278.21</td>\n",
       "      <td>9,549.19</td>\n",
       "      <td>270.98</td>\n",
       "      <td>2.92%</td>\n",
       "    </tr>\n",
       "    <tr>\n",
       "      <th>3</th>\n",
       "      <td>Kitsap Transit</td>\n",
       "      <td>7,789.00</td>\n",
       "      <td>36,455.89</td>\n",
       "      <td>28,666.89</td>\n",
       "      <td>368.04%</td>\n",
       "    </tr>\n",
       "    <tr>\n",
       "      <th>1</th>\n",
       "      <td>Everett Transit</td>\n",
       "      <td>4,201.00</td>\n",
       "      <td>2,700.08</td>\n",
       "      <td>-1,500.92</td>\n",
       "      <td>-35.73%</td>\n",
       "    </tr>\n",
       "  </tbody>\n",
       "</table>\n",
       "</div>"
      ],
      "text/plain": [
       "               agency  observed_boardings  model_boardings      diff perc_diff\n",
       "2   King County Metro          253,313.62       326,079.65 72,766.03    28.73%\n",
       "5       Sound Transit          113,374.00       146,858.46 33,484.46    29.53%\n",
       "0   Community Transit           25,962.00        23,956.43 -2,005.57    -7.73%\n",
       "4      Pierce Transit           21,185.00        19,720.86 -1,464.14    -6.91%\n",
       "6  Washington Ferries            9,278.21         9,549.19    270.98     2.92%\n",
       "3      Kitsap Transit            7,789.00        36,455.89 28,666.89   368.04%\n",
       "1     Everett Transit            4,201.00         2,700.08 -1,500.92   -35.73%"
      ]
     },
     "execution_count": 3,
     "metadata": {},
     "output_type": "execute_result"
    }
   ],
   "source": [
    "table_df = df.copy()\n",
    "table_df[['observed_boardings','model_boardings','diff']] = table_df[['observed_boardings','model_boardings','diff']].astype('float')\n",
    "table_df[['perc_diff']] = table_df[['perc_diff']].applymap(format_percent)\n",
    "table_df"
   ]
  },
  {
   "cell_type": "code",
   "execution_count": 4,
   "id": "6df663cd30d914ea",
   "metadata": {
    "ExecuteTime": {
     "end_time": "2024-06-24T17:50:27.521549Z",
     "start_time": "2024-06-24T17:50:27.349538Z"
    },
    "execution": {
     "iopub.execute_input": "2024-06-24T21:54:04.963484Z",
     "iopub.status.busy": "2024-06-24T21:54:04.963484Z",
     "iopub.status.idle": "2024-06-24T21:54:05.624234Z",
     "shell.execute_reply": "2024-06-24T21:54:05.624234Z"
    }
   },
   "outputs": [],
   "source": [
    "# fig = px.bar(plot_df.sort_values('source'), x=\"agency\", y=\"count\",\n",
    "#              color=\"source\", barmode=\"group\",\n",
    "#              title=\"transit boardings by agency\")\n",
    "# fig.update_layout(height=400, width=700, font=dict(size=11),\n",
    "#                   yaxis_tickformat = '.2f')\n",
    "# fig.show()"
   ]
  },
  {
   "cell_type": "markdown",
   "id": "10436e8bdd112348",
   "metadata": {},
   "source": [
    "### boarding by key route"
   ]
  },
  {
   "cell_type": "raw",
   "id": "7d0d62e3693265f8",
   "metadata": {},
   "source": [
    ":::{.panel-tabset}\n",
    "#### ferry"
   ]
  },
  {
   "cell_type": "code",
   "execution_count": 5,
   "id": "75118f994b2c8118",
   "metadata": {
    "ExecuteTime": {
     "end_time": "2024-06-24T20:05:33.107476Z",
     "start_time": "2024-06-24T20:05:33.044901Z"
    },
    "execution": {
     "iopub.execute_input": "2024-06-24T21:54:05.635341Z",
     "iopub.status.busy": "2024-06-24T21:54:05.635341Z",
     "iopub.status.idle": "2024-06-24T21:54:05.765503Z",
     "shell.execute_reply": "2024-06-24T21:54:05.765503Z"
    }
   },
   "outputs": [
    {
     "data": {
      "text/html": [
       "<div>\n",
       "<style scoped>\n",
       "    .dataframe tbody tr th:only-of-type {\n",
       "        vertical-align: middle;\n",
       "    }\n",
       "\n",
       "    .dataframe tbody tr th {\n",
       "        vertical-align: top;\n",
       "    }\n",
       "\n",
       "    .dataframe thead th {\n",
       "        text-align: right;\n",
       "    }\n",
       "</style>\n",
       "<table border=\"1\" class=\"dataframe\">\n",
       "  <thead>\n",
       "    <tr style=\"text-align: right;\">\n",
       "      <th></th>\n",
       "      <th>description</th>\n",
       "      <th>observed_boardings</th>\n",
       "      <th>model_boardings</th>\n",
       "      <th>diff</th>\n",
       "      <th>perc_diff</th>\n",
       "    </tr>\n",
       "  </thead>\n",
       "  <tbody>\n",
       "    <tr>\n",
       "      <th>0</th>\n",
       "      <td>973 W Sea Water Taxi</td>\n",
       "      <td>759.00</td>\n",
       "      <td>1,049.15</td>\n",
       "      <td>290.15</td>\n",
       "      <td>38.23%</td>\n",
       "    </tr>\n",
       "    <tr>\n",
       "      <th>1</th>\n",
       "      <td>975 Vashn Water Taxi</td>\n",
       "      <td>338.00</td>\n",
       "      <td>932.62</td>\n",
       "      <td>594.62</td>\n",
       "      <td>175.92%</td>\n",
       "    </tr>\n",
       "    <tr>\n",
       "      <th>2</th>\n",
       "      <td>WSF Edmonds-Kingston</td>\n",
       "      <td>1,500.13</td>\n",
       "      <td>232.64</td>\n",
       "      <td>-1,267.49</td>\n",
       "      <td>-84.49%</td>\n",
       "    </tr>\n",
       "    <tr>\n",
       "      <th>3</th>\n",
       "      <td>WSF Seattle-Bain Isl</td>\n",
       "      <td>5,513.69</td>\n",
       "      <td>6,623.34</td>\n",
       "      <td>1,109.65</td>\n",
       "      <td>20.13%</td>\n",
       "    </tr>\n",
       "    <tr>\n",
       "      <th>4</th>\n",
       "      <td>WSF Seattle-Brem</td>\n",
       "      <td>1,188.97</td>\n",
       "      <td>375.90</td>\n",
       "      <td>-813.07</td>\n",
       "      <td>-68.38%</td>\n",
       "    </tr>\n",
       "    <tr>\n",
       "      <th>5</th>\n",
       "      <td>WSF Fauntleroy-Swrth</td>\n",
       "      <td>142.56</td>\n",
       "      <td>573.83</td>\n",
       "      <td>431.27</td>\n",
       "      <td>302.51%</td>\n",
       "    </tr>\n",
       "    <tr>\n",
       "      <th>6</th>\n",
       "      <td>WSF Fauntleroy-Vashn</td>\n",
       "      <td>560.04</td>\n",
       "      <td>1,486.01</td>\n",
       "      <td>925.96</td>\n",
       "      <td>165.34%</td>\n",
       "    </tr>\n",
       "    <tr>\n",
       "      <th>7</th>\n",
       "      <td>WSF Vashon-Southwrth</td>\n",
       "      <td>107.76</td>\n",
       "      <td>104.65</td>\n",
       "      <td>-3.11</td>\n",
       "      <td>-2.88%</td>\n",
       "    </tr>\n",
       "    <tr>\n",
       "      <th>8</th>\n",
       "      <td>WSF Pt Def-Tahlequah</td>\n",
       "      <td>265.05</td>\n",
       "      <td>152.83</td>\n",
       "      <td>-112.23</td>\n",
       "      <td>-42.34%</td>\n",
       "    </tr>\n",
       "  </tbody>\n",
       "</table>\n",
       "</div>"
      ],
      "text/plain": [
       "            description  observed_boardings  model_boardings      diff  \\\n",
       "0  973 W Sea Water Taxi              759.00         1,049.15    290.15   \n",
       "1  975 Vashn Water Taxi              338.00           932.62    594.62   \n",
       "2  WSF Edmonds-Kingston            1,500.13           232.64 -1,267.49   \n",
       "3  WSF Seattle-Bain Isl            5,513.69         6,623.34  1,109.65   \n",
       "4      WSF Seattle-Brem            1,188.97           375.90   -813.07   \n",
       "5  WSF Fauntleroy-Swrth              142.56           573.83    431.27   \n",
       "6  WSF Fauntleroy-Vashn              560.04         1,486.01    925.96   \n",
       "7  WSF Vashon-Southwrth              107.76           104.65     -3.11   \n",
       "8  WSF Pt Def-Tahlequah              265.05           152.83   -112.23   \n",
       "\n",
       "  perc_diff  \n",
       "0    38.23%  \n",
       "1   175.92%  \n",
       "2   -84.49%  \n",
       "3    20.13%  \n",
       "4   -68.38%  \n",
       "5   302.51%  \n",
       "6   165.34%  \n",
       "7    -2.88%  \n",
       "8   -42.34%  "
      ]
     },
     "execution_count": 5,
     "metadata": {},
     "output_type": "execute_result"
    }
   ],
   "source": [
    "df_boarding_key = pd.read_csv(os.path.join(csv_path,'daily_boardings_key_routes.csv'), index_col='description')\n",
    "df_boarding_key[['observed_boardings','model_boardings']] = df_boarding_key[['observed_boardings','model_boardings']].astype('float')\n",
    "\n",
    "df = df_boarding_key[df_boarding_key['route_code'].isin([5001,5002,5003,5004,5005,5006,5007,1973,1975])].reset_index()\n",
    "df.drop(['route_code','agency'], axis=1, inplace=True)\n",
    "\n",
    "df_table = df.copy()\n",
    "df_table[['perc_diff']] = df_table[['perc_diff']].applymap(format_percent)\n",
    "df_table"
   ]
  },
  {
   "cell_type": "code",
   "execution_count": 6,
   "id": "67bf06d211cca3c6",
   "metadata": {
    "ExecuteTime": {
     "end_time": "2024-06-24T19:41:04.985397Z",
     "start_time": "2024-06-24T19:41:04.798158Z"
    },
    "execution": {
     "iopub.execute_input": "2024-06-24T21:54:05.775515Z",
     "iopub.status.busy": "2024-06-24T21:54:05.775515Z",
     "iopub.status.idle": "2024-06-24T21:54:06.260397Z",
     "shell.execute_reply": "2024-06-24T21:54:06.260397Z"
    }
   },
   "outputs": [
    {
     "name": "stdout",
     "output_type": "stream",
     "text": [
      "r^2 : 0.9313671792256871\n"
     ]
    },
    {
     "data": {
      "image/png": "[encoded data removed]",
      "text/plain": [
       "<Figure size 432x288 with 1 Axes>"
      ]
     },
     "metadata": {
      "needs_background": "light"
     },
     "output_type": "display_data"
    }
   ],
   "source": [
    "if len(df) > 0:\n",
    "    ax = df.plot(kind='scatter', x='observed_boardings', y='model_boardings')\n",
    "    lim = df[['observed_boardings','model_boardings']].max().max()*1.05\n",
    "    ax.set_ylim(0,lim)\n",
    "    ax.set_xlim(0,lim)\n",
    "    x = np.linspace(*ax.get_xlim())\n",
    "    ax.plot(x, x)\n",
    "    slope, intercept, r_value, p_value, std_err = stats.linregress(df['observed_boardings'],df['model_boardings'])\n",
    "    print('r^2 ' + str('') + ': ' + str(r_value))"
   ]
  },
  {
   "cell_type": "markdown",
   "id": "8bf9f5778ee290d6",
   "metadata": {},
   "source": [
    "##### bikes on ferry"
   ]
  },
  {
   "cell_type": "code",
   "execution_count": 7,
   "id": "693dd2ccc9b68311",
   "metadata": {
    "ExecuteTime": {
     "end_time": "2024-06-24T20:05:41.122932Z",
     "start_time": "2024-06-24T20:05:41.060989Z"
    },
    "execution": {
     "iopub.execute_input": "2024-06-24T21:54:06.276671Z",
     "iopub.status.busy": "2024-06-24T21:54:06.276671Z",
     "iopub.status.idle": "2024-06-24T21:54:06.354426Z",
     "shell.execute_reply": "2024-06-24T21:54:06.354426Z"
    }
   },
   "outputs": [
    {
     "data": {
      "text/html": [
       "<div>\n",
       "<style scoped>\n",
       "    .dataframe tbody tr th:only-of-type {\n",
       "        vertical-align: middle;\n",
       "    }\n",
       "\n",
       "    .dataframe tbody tr th {\n",
       "        vertical-align: top;\n",
       "    }\n",
       "\n",
       "    .dataframe thead th {\n",
       "        text-align: right;\n",
       "    }\n",
       "</style>\n",
       "<table border=\"1\" class=\"dataframe\">\n",
       "  <thead>\n",
       "    <tr style=\"text-align: right;\">\n",
       "      <th></th>\n",
       "      <th>route_code</th>\n",
       "      <th>description</th>\n",
       "      <th>@bvol</th>\n",
       "    </tr>\n",
       "  </thead>\n",
       "  <tbody>\n",
       "    <tr>\n",
       "      <th>4</th>\n",
       "      <td>4203</td>\n",
       "      <td>Seattle-Kingston FF</td>\n",
       "      <td>822.60</td>\n",
       "    </tr>\n",
       "    <tr>\n",
       "      <th>2</th>\n",
       "      <td>4200</td>\n",
       "      <td>Seattle-Bremerton FF</td>\n",
       "      <td>486.80</td>\n",
       "    </tr>\n",
       "    <tr>\n",
       "      <th>3</th>\n",
       "      <td>4201</td>\n",
       "      <td>Brem-Pt Orchard FF</td>\n",
       "      <td>434.70</td>\n",
       "    </tr>\n",
       "    <tr>\n",
       "      <th>0</th>\n",
       "      <td>1973</td>\n",
       "      <td>973 W Sea Water Taxi</td>\n",
       "      <td>338.10</td>\n",
       "    </tr>\n",
       "    <tr>\n",
       "      <th>1</th>\n",
       "      <td>1975</td>\n",
       "      <td>975 Vashn Water Taxi</td>\n",
       "      <td>182.10</td>\n",
       "    </tr>\n",
       "    <tr>\n",
       "      <th>7</th>\n",
       "      <td>5002</td>\n",
       "      <td>WSF Seattle-Bain Isl</td>\n",
       "      <td>109.40</td>\n",
       "    </tr>\n",
       "    <tr>\n",
       "      <th>10</th>\n",
       "      <td>5005</td>\n",
       "      <td>WSF Fauntleroy-Vashn</td>\n",
       "      <td>73.40</td>\n",
       "    </tr>\n",
       "    <tr>\n",
       "      <th>11</th>\n",
       "      <td>5007</td>\n",
       "      <td>WSF Pt Def-Tahlequah</td>\n",
       "      <td>56.00</td>\n",
       "    </tr>\n",
       "    <tr>\n",
       "      <th>9</th>\n",
       "      <td>5004</td>\n",
       "      <td>WSF Fauntleroy-Swrth</td>\n",
       "      <td>36.10</td>\n",
       "    </tr>\n",
       "    <tr>\n",
       "      <th>6</th>\n",
       "      <td>5001</td>\n",
       "      <td>WSF Edmonds-Kingston</td>\n",
       "      <td>26.10</td>\n",
       "    </tr>\n",
       "    <tr>\n",
       "      <th>8</th>\n",
       "      <td>5003</td>\n",
       "      <td>WSF Seattle-Brem</td>\n",
       "      <td>22.00</td>\n",
       "    </tr>\n",
       "    <tr>\n",
       "      <th>5</th>\n",
       "      <td>4204</td>\n",
       "      <td>Seattle-Southwrth FF</td>\n",
       "      <td>10.00</td>\n",
       "    </tr>\n",
       "  </tbody>\n",
       "</table>\n",
       "</div>"
      ],
      "text/plain": [
       "    route_code           description  @bvol\n",
       "4         4203   Seattle-Kingston FF 822.60\n",
       "2         4200  Seattle-Bremerton FF 486.80\n",
       "3         4201    Brem-Pt Orchard FF 434.70\n",
       "0         1973  973 W Sea Water Taxi 338.10\n",
       "1         1975  975 Vashn Water Taxi 182.10\n",
       "7         5002  WSF Seattle-Bain Isl 109.40\n",
       "10        5005  WSF Fauntleroy-Vashn  73.40\n",
       "11        5007  WSF Pt Def-Tahlequah  56.00\n",
       "9         5004  WSF Fauntleroy-Swrth  36.10\n",
       "6         5001  WSF Edmonds-Kingston  26.10\n",
       "8         5003      WSF Seattle-Brem  22.00\n",
       "5         4204  Seattle-Southwrth FF  10.00"
      ]
     },
     "execution_count": 7,
     "metadata": {},
     "output_type": "execute_result"
    }
   ],
   "source": [
    "df = pd.read_csv(os.path.join(csv_path,'bike_ferry_boardings.csv')).sort_values('@bvol', ascending=False)\n",
    "df['route_code'] = df['route_code'].astype('int')\n",
    "df[['route_code','description', '@bvol']]"
   ]
  },
  {
   "cell_type": "raw",
   "id": "14db883222970442",
   "metadata": {},
   "source": [
    "#### rail"
   ]
  },
  {
   "cell_type": "code",
   "execution_count": 8,
   "id": "c9adf289ac66da8",
   "metadata": {
    "ExecuteTime": {
     "end_time": "2024-06-24T20:05:45.826421Z",
     "start_time": "2024-06-24T20:05:45.779797Z"
    },
    "execution": {
     "iopub.execute_input": "2024-06-24T21:54:06.370167Z",
     "iopub.status.busy": "2024-06-24T21:54:06.370167Z",
     "iopub.status.idle": "2024-06-24T21:54:06.416576Z",
     "shell.execute_reply": "2024-06-24T21:54:06.416576Z"
    }
   },
   "outputs": [
    {
     "data": {
      "text/html": [
       "<div>\n",
       "<style scoped>\n",
       "    .dataframe tbody tr th:only-of-type {\n",
       "        vertical-align: middle;\n",
       "    }\n",
       "\n",
       "    .dataframe tbody tr th {\n",
       "        vertical-align: top;\n",
       "    }\n",
       "\n",
       "    .dataframe thead th {\n",
       "        text-align: right;\n",
       "    }\n",
       "</style>\n",
       "<table border=\"1\" class=\"dataframe\">\n",
       "  <thead>\n",
       "    <tr style=\"text-align: right;\">\n",
       "      <th></th>\n",
       "      <th>description</th>\n",
       "      <th>observed_boardings</th>\n",
       "      <th>model_boardings</th>\n",
       "      <th>diff</th>\n",
       "      <th>perc_diff</th>\n",
       "    </tr>\n",
       "  </thead>\n",
       "  <tbody>\n",
       "    <tr>\n",
       "      <th>0</th>\n",
       "      <td>Link Red Line</td>\n",
       "      <td>79,522.00</td>\n",
       "      <td>71,122.44</td>\n",
       "      <td>-8,399.56</td>\n",
       "      <td>-10.56%</td>\n",
       "    </tr>\n",
       "    <tr>\n",
       "      <th>1</th>\n",
       "      <td>Sounder South</td>\n",
       "      <td>6,038.00</td>\n",
       "      <td>12,376.07</td>\n",
       "      <td>6,338.07</td>\n",
       "      <td>104.97%</td>\n",
       "    </tr>\n",
       "    <tr>\n",
       "      <th>2</th>\n",
       "      <td>Sounder North</td>\n",
       "      <td>316.00</td>\n",
       "      <td>10.74</td>\n",
       "      <td>-305.26</td>\n",
       "      <td>-96.60%</td>\n",
       "    </tr>\n",
       "  </tbody>\n",
       "</table>\n",
       "</div>"
      ],
      "text/plain": [
       "     description  observed_boardings  model_boardings      diff perc_diff\n",
       "0  Link Red Line           79,522.00        71,122.44 -8,399.56   -10.56%\n",
       "1  Sounder South            6,038.00        12,376.07  6,338.07   104.97%\n",
       "2  Sounder North              316.00            10.74   -305.26   -96.60%"
      ]
     },
     "execution_count": 8,
     "metadata": {},
     "output_type": "execute_result"
    }
   ],
   "source": [
    "df = df_boarding_key[df_boarding_key['route_code'].isin([6996,6999,6998])].reset_index()\n",
    "df['description'] = df['route_code'].map({6998: 'Sounder South', 6999: 'Sounder North',6996: 'Link Red Line'})\n",
    "df.drop(['route_code','agency'], axis=1, inplace=True)\n",
    "\n",
    "df_table = df.copy()\n",
    "df_table[['perc_diff']] = df_table[['perc_diff']].applymap(format_percent)\n",
    "\n",
    "df_table"
   ]
  },
  {
   "cell_type": "code",
   "execution_count": 9,
   "id": "cb27f79888f8363d",
   "metadata": {
    "ExecuteTime": {
     "end_time": "2024-06-24T19:41:16.172926Z",
     "start_time": "2024-06-24T19:41:15.922628Z"
    },
    "execution": {
     "iopub.execute_input": "2024-06-24T21:54:06.432206Z",
     "iopub.status.busy": "2024-06-24T21:54:06.416576Z",
     "iopub.status.idle": "2024-06-24T21:54:06.854446Z",
     "shell.execute_reply": "2024-06-24T21:54:06.854446Z"
    }
   },
   "outputs": [
    {
     "name": "stdout",
     "output_type": "stream",
     "text": [
      "r^2 : 0.9951389544400652\n"
     ]
    },
    {
     "data": {
      "image/png": "[encoded data removed]",
      "text/plain": [
       "<Figure size 432x288 with 1 Axes>"
      ]
     },
     "metadata": {
      "needs_background": "light"
     },
     "output_type": "display_data"
    }
   ],
   "source": [
    "if len(df) > 0:\n",
    "    ax = df.plot(kind='scatter', x='observed_boardings', y='model_boardings')\n",
    "    lim = df[['observed_boardings','model_boardings']].max().max()*1.05\n",
    "    ax.set_ylim(0,lim)\n",
    "    ax.set_xlim(0,lim)\n",
    "    x = np.linspace(*ax.get_xlim())\n",
    "    ax.plot(x, x)\n",
    "    slope, intercept, r_value, p_value, std_err = stats.linregress(df['observed_boardings'],df['model_boardings'])\n",
    "    print('r^2 ' + str('') + ': ' + str(r_value))"
   ]
  },
  {
   "cell_type": "raw",
   "id": "a24f21772d15369c",
   "metadata": {},
   "source": [
    "#### RapidRide, busiest buses, streetcar"
   ]
  },
  {
   "cell_type": "code",
   "execution_count": 10,
   "id": "a048f8a2b6d7d277",
   "metadata": {
    "ExecuteTime": {
     "end_time": "2024-06-24T20:05:51.529079Z",
     "start_time": "2024-06-24T20:05:51.482757Z"
    },
    "execution": {
     "iopub.execute_input": "2024-06-24T21:54:06.870720Z",
     "iopub.status.busy": "2024-06-24T21:54:06.870720Z",
     "iopub.status.idle": "2024-06-24T21:54:06.947996Z",
     "shell.execute_reply": "2024-06-24T21:54:06.946418Z"
    }
   },
   "outputs": [
    {
     "data": {
      "text/html": [
       "<div>\n",
       "<style scoped>\n",
       "    .dataframe tbody tr th:only-of-type {\n",
       "        vertical-align: middle;\n",
       "    }\n",
       "\n",
       "    .dataframe tbody tr th {\n",
       "        vertical-align: top;\n",
       "    }\n",
       "\n",
       "    .dataframe thead th {\n",
       "        text-align: right;\n",
       "    }\n",
       "</style>\n",
       "<table border=\"1\" class=\"dataframe\">\n",
       "  <thead>\n",
       "    <tr style=\"text-align: right;\">\n",
       "      <th></th>\n",
       "      <th>description</th>\n",
       "      <th>observed_boardings</th>\n",
       "      <th>model_boardings</th>\n",
       "      <th>diff</th>\n",
       "      <th>perc_diff</th>\n",
       "    </tr>\n",
       "  </thead>\n",
       "  <tbody>\n",
       "    <tr>\n",
       "      <th>6</th>\n",
       "      <td>E Line RapidRide</td>\n",
       "      <td>11,426.00</td>\n",
       "      <td>17,902.60</td>\n",
       "      <td>6,476.60</td>\n",
       "      <td>56.68%</td>\n",
       "    </tr>\n",
       "    <tr>\n",
       "      <th>4</th>\n",
       "      <td>C Line RapidRide</td>\n",
       "      <td>7,250.00</td>\n",
       "      <td>14,353.54</td>\n",
       "      <td>7,103.54</td>\n",
       "      <td>97.98%</td>\n",
       "    </tr>\n",
       "    <tr>\n",
       "      <th>1</th>\n",
       "      <td>KC Metro 40</td>\n",
       "      <td>7,208.00</td>\n",
       "      <td>11,853.15</td>\n",
       "      <td>4,645.15</td>\n",
       "      <td>64.44%</td>\n",
       "    </tr>\n",
       "    <tr>\n",
       "      <th>0</th>\n",
       "      <td>KC Metro 7</td>\n",
       "      <td>9,954.00</td>\n",
       "      <td>10,111.59</td>\n",
       "      <td>157.59</td>\n",
       "      <td>1.58%</td>\n",
       "    </tr>\n",
       "    <tr>\n",
       "      <th>10</th>\n",
       "      <td>Sound Transit 550</td>\n",
       "      <td>3,351.00</td>\n",
       "      <td>9,333.40</td>\n",
       "      <td>5,982.40</td>\n",
       "      <td>178.53%</td>\n",
       "    </tr>\n",
       "    <tr>\n",
       "      <th>5</th>\n",
       "      <td>D Line RapidRide</td>\n",
       "      <td>9,044.00</td>\n",
       "      <td>9,022.25</td>\n",
       "      <td>-21.75</td>\n",
       "      <td>-0.24%</td>\n",
       "    </tr>\n",
       "    <tr>\n",
       "      <th>2</th>\n",
       "      <td>A Line RapidRide</td>\n",
       "      <td>8,412.00</td>\n",
       "      <td>7,489.23</td>\n",
       "      <td>-922.77</td>\n",
       "      <td>-10.97%</td>\n",
       "    </tr>\n",
       "    <tr>\n",
       "      <th>7</th>\n",
       "      <td>F Line RapidRide</td>\n",
       "      <td>4,748.00</td>\n",
       "      <td>5,457.30</td>\n",
       "      <td>709.30</td>\n",
       "      <td>14.94%</td>\n",
       "    </tr>\n",
       "    <tr>\n",
       "      <th>3</th>\n",
       "      <td>B Line RapidRide</td>\n",
       "      <td>4,177.00</td>\n",
       "      <td>4,066.39</td>\n",
       "      <td>-110.61</td>\n",
       "      <td>-2.65%</td>\n",
       "    </tr>\n",
       "    <tr>\n",
       "      <th>8</th>\n",
       "      <td>SLU Streetcar</td>\n",
       "      <td>1,050.16</td>\n",
       "      <td>964.66</td>\n",
       "      <td>-85.51</td>\n",
       "      <td>-8.14%</td>\n",
       "    </tr>\n",
       "    <tr>\n",
       "      <th>9</th>\n",
       "      <td>First Hill Streetcar</td>\n",
       "      <td>3,900.45</td>\n",
       "      <td>949.32</td>\n",
       "      <td>-2,951.14</td>\n",
       "      <td>-75.66%</td>\n",
       "    </tr>\n",
       "  </tbody>\n",
       "</table>\n",
       "</div>"
      ],
      "text/plain": [
       "             description  observed_boardings  model_boardings      diff  \\\n",
       "6       E Line RapidRide           11,426.00        17,902.60  6,476.60   \n",
       "4       C Line RapidRide            7,250.00        14,353.54  7,103.54   \n",
       "1            KC Metro 40            7,208.00        11,853.15  4,645.15   \n",
       "0             KC Metro 7            9,954.00        10,111.59    157.59   \n",
       "10     Sound Transit 550            3,351.00         9,333.40  5,982.40   \n",
       "5       D Line RapidRide            9,044.00         9,022.25    -21.75   \n",
       "2       A Line RapidRide            8,412.00         7,489.23   -922.77   \n",
       "7       F Line RapidRide            4,748.00         5,457.30    709.30   \n",
       "3       B Line RapidRide            4,177.00         4,066.39   -110.61   \n",
       "8          SLU Streetcar            1,050.16           964.66    -85.51   \n",
       "9   First Hill Streetcar            3,900.45           949.32 -2,951.14   \n",
       "\n",
       "   perc_diff  \n",
       "6     56.68%  \n",
       "4     97.98%  \n",
       "1     64.44%  \n",
       "0      1.58%  \n",
       "10   178.53%  \n",
       "5     -0.24%  \n",
       "2    -10.97%  \n",
       "7     14.94%  \n",
       "3     -2.65%  \n",
       "8     -8.14%  \n",
       "9    -75.66%  "
      ]
     },
     "execution_count": 10,
     "metadata": {},
     "output_type": "execute_result"
    }
   ],
   "source": [
    "df = df_boarding_key[df_boarding_key['route_code'].isin([1671,1672,1673,1674,1675,1676,6550,1007,1040,1997,1998])].reset_index()\n",
    "df['description'] = df['route_code'].map({1671: 'A Line RapidRide', 1672: 'B Line RapidRide',\n",
    "                                            1673: 'C Line RapidRide', 1674: 'D Line RapidRide',\n",
    "                                            1675: 'E Line RapidRide', 1676: 'F Line RapidRide',\n",
    "                                            6550: 'Sound Transit 550', 1040: 'KC Metro 40', 1007: 'KC Metro 7',\n",
    "                                            1997: 'SLU Streetcar', 1998: 'First Hill Streetcar'})\n",
    "df.drop(['route_code','agency'], axis=1, inplace=True)\n",
    "\n",
    "df_table = df.copy()\n",
    "df_table[['perc_diff']] = df_table[['perc_diff']].applymap(format_percent)\n",
    "df_table.sort_values('model_boardings', ascending=False)"
   ]
  },
  {
   "cell_type": "code",
   "execution_count": 11,
   "id": "813aa67bd5e6c1f6",
   "metadata": {
    "ExecuteTime": {
     "end_time": "2024-06-24T19:41:23.547293Z",
     "start_time": "2024-06-24T19:41:23.312803Z"
    },
    "execution": {
     "iopub.execute_input": "2024-06-24T21:54:06.963083Z",
     "iopub.status.busy": "2024-06-24T21:54:06.962090Z",
     "iopub.status.idle": "2024-06-24T21:54:07.310483Z",
     "shell.execute_reply": "2024-06-24T21:54:07.308481Z"
    }
   },
   "outputs": [
    {
     "name": "stdout",
     "output_type": "stream",
     "text": [
      "r^2 : 0.776801782732878\n"
     ]
    },
    {
     "data": {
      "image/png": "[encoded data removed]",
      "text/plain": [
       "<Figure size 432x288 with 1 Axes>"
      ]
     },
     "metadata": {
      "needs_background": "light"
     },
     "output_type": "display_data"
    }
   ],
   "source": [
    "if len(df) > 0:\n",
    "    ax = df.plot(kind='scatter', x='observed_boardings', y='model_boardings')\n",
    "    lim = df[['observed_boardings', 'model_boardings']].max().max() * 1.05\n",
    "    ax.set_ylim(0, lim)\n",
    "    ax.set_xlim(0, lim)\n",
    "    x = np.linspace(*ax.get_xlim())\n",
    "    ax.plot(x, x)\n",
    "    slope, intercept, r_value, p_value, std_err = stats.linregress(df['observed_boardings'], df['model_boardings'])\n",
    "    print('r^2 ' + str('') + ': ' + str(r_value))"
   ]
  },
  {
   "cell_type": "raw",
   "id": "c55611b2314fffc3",
   "metadata": {},
   "source": [
    ":::"
   ]
  },
  {
   "cell_type": "markdown",
   "id": "6e6c5ead64d64e8c",
   "metadata": {},
   "source": [
    "### boarding on lines by agency"
   ]
  },
  {
   "cell_type": "code",
   "execution_count": 12,
   "id": "95db4119eb938544",
   "metadata": {
    "ExecuteTime": {
     "end_time": "2024-06-24T19:52:55.951969Z",
     "start_time": "2024-06-24T19:52:54.937995Z"
    },
    "execution": {
     "iopub.execute_input": "2024-06-24T21:54:07.326440Z",
     "iopub.status.busy": "2024-06-24T21:54:07.325444Z",
     "iopub.status.idle": "2024-06-24T21:54:09.291659Z",
     "shell.execute_reply": "2024-06-24T21:54:09.291659Z"
    }
   },
   "outputs": [
    {
     "name": "stdout",
     "output_type": "stream",
     "text": [
      "r^2 Community Transit: 0.9301642703032877\n"
     ]
    },
    {
     "name": "stdout",
     "output_type": "stream",
     "text": [
      "r^2 Everett Transit: 0.9612795883957796\n",
      "r^2 King County Metro: 0.8972692314984186\n",
      "r^2 Kitsap Transit: 0.8503185154164136\n",
      "r^2 Pierce Transit: 0.7709237097649431\n"
     ]
    },
    {
     "name": "stdout",
     "output_type": "stream",
     "text": [
      "r^2 Sound Transit: 0.9862602458402967\n",
      "r^2 Washington Ferries: 0.9384383268392203\n"
     ]
    },
    {
     "data": {
      "image/png": "[encoded data removed]",
      "text/plain": [
       "<Figure size 432x288 with 1 Axes>"
      ]
     },
     "metadata": {
      "needs_background": "light"
     },
     "output_type": "display_data"
    },
    {
     "data": {
      "image/png": "[encoded data removed]",
      "text/plain": [
       "<Figure size 432x288 with 1 Axes>"
      ]
     },
     "metadata": {
      "needs_background": "light"
     },
     "output_type": "display_data"
    },
    {
     "data": {
      "image/png": "[encoded data removed]",
      "text/plain": [
       "<Figure size 432x288 with 1 Axes>"
      ]
     },
     "metadata": {
      "needs_background": "light"
     },
     "output_type": "display_data"
    },
    {
     "data": {
      "image/png": "[encoded data removed]",
      "text/plain": [
       "<Figure size 432x288 with 1 Axes>"
      ]
     },
     "metadata": {
      "needs_background": "light"
     },
     "output_type": "display_data"
    },
    {
     "data": {
      "image/png": "[encoded data removed]",
      "text/plain": [
       "<Figure size 432x288 with 1 Axes>"
      ]
     },
     "metadata": {
      "needs_background": "light"
     },
     "output_type": "display_data"
    },
    {
     "data": {
      "image/png": "[encoded data removed]",
      "text/plain": [
       "<Figure size 432x288 with 1 Axes>"
      ]
     },
     "metadata": {
      "needs_background": "light"
     },
     "output_type": "display_data"
    },
    {
     "data": {
      "image/png": "[encoded data removed]",
      "text/plain": [
       "<Figure size 432x288 with 1 Axes>"
      ]
     },
     "metadata": {
      "needs_background": "light"
     },
     "output_type": "display_data"
    }
   ],
   "source": [
    "df = pd.read_csv(os.path.join(csv_path,'daily_boardings_by_line.csv'), index_col='agency')\n",
    "df = df[-df['agency_id'].isnull()]\n",
    "\n",
    "for agency in np.unique(df.index):\n",
    "    _df = df.loc[agency,:]\n",
    "    if (type(_df) == pd.core.frame.DataFrame) & (len(df) > 0):\n",
    "        ax = _df.plot(kind='scatter', x='observed_boardings', y='model_boardings', label=agency)\n",
    "        lim = _df[['observed_boardings','model_boardings']].max().max()*1.05\n",
    "        ax.set_ylim(0,lim)\n",
    "        ax.set_xlim(0,lim)\n",
    "        x = np.linspace(*ax.get_xlim())\n",
    "        ax.plot(x, x)\n",
    "        slope, intercept, r_value, p_value, std_err = stats.linregress(_df['observed_boardings'],_df['model_boardings'])\n",
    "        print('r^2 ' + str(agency) + ': ' + str(r_value))"
   ]
  },
  {
   "cell_type": "markdown",
   "id": "4539ddda98821ff2",
   "metadata": {},
   "source": [
    "### boarding by light rail station"
   ]
  },
  {
   "cell_type": "raw",
   "id": "1a2860ab52ea5101",
   "metadata": {},
   "source": [
    ":::{.panel-tabset}\n",
    "#### Red Line"
   ]
  },
  {
   "cell_type": "code",
   "execution_count": 13,
   "id": "2c245b8117693726",
   "metadata": {
    "ExecuteTime": {
     "end_time": "2024-06-24T20:06:01.435477Z",
     "start_time": "2024-06-24T20:06:01.389414Z"
    },
    "execution": {
     "iopub.execute_input": "2024-06-24T21:54:09.307284Z",
     "iopub.status.busy": "2024-06-24T21:54:09.307284Z",
     "iopub.status.idle": "2024-06-24T21:54:09.432079Z",
     "shell.execute_reply": "2024-06-24T21:54:09.432079Z"
    }
   },
   "outputs": [
    {
     "data": {
      "text/html": [
       "<div>\n",
       "<style scoped>\n",
       "    .dataframe tbody tr th:only-of-type {\n",
       "        vertical-align: middle;\n",
       "    }\n",
       "\n",
       "    .dataframe tbody tr th {\n",
       "        vertical-align: top;\n",
       "    }\n",
       "\n",
       "    .dataframe thead th {\n",
       "        text-align: right;\n",
       "    }\n",
       "</style>\n",
       "<table border=\"1\" class=\"dataframe\">\n",
       "  <thead>\n",
       "    <tr style=\"text-align: right;\">\n",
       "      <th></th>\n",
       "      <th>observed_boardings</th>\n",
       "      <th>model_boardings</th>\n",
       "      <th>diff</th>\n",
       "      <th>percent_diff</th>\n",
       "    </tr>\n",
       "    <tr>\n",
       "      <th>station_name</th>\n",
       "      <th></th>\n",
       "      <th></th>\n",
       "      <th></th>\n",
       "      <th></th>\n",
       "    </tr>\n",
       "  </thead>\n",
       "  <tbody>\n",
       "    <tr>\n",
       "      <th>Husky Stadium</th>\n",
       "      <td>6,134.00</td>\n",
       "      <td>4,447.86</td>\n",
       "      <td>-1,686.14</td>\n",
       "      <td>-27.49%</td>\n",
       "    </tr>\n",
       "    <tr>\n",
       "      <th>Westlake</th>\n",
       "      <td>8,845.00</td>\n",
       "      <td>8,780.78</td>\n",
       "      <td>-64.22</td>\n",
       "      <td>-0.73%</td>\n",
       "    </tr>\n",
       "    <tr>\n",
       "      <th>University St</th>\n",
       "      <td>4,324.00</td>\n",
       "      <td>5,832.47</td>\n",
       "      <td>1,508.47</td>\n",
       "      <td>34.89%</td>\n",
       "    </tr>\n",
       "    <tr>\n",
       "      <th>Pioneer Square</th>\n",
       "      <td>2,400.00</td>\n",
       "      <td>5,133.87</td>\n",
       "      <td>2,733.87</td>\n",
       "      <td>113.91%</td>\n",
       "    </tr>\n",
       "    <tr>\n",
       "      <th>Int'l District</th>\n",
       "      <td>4,399.00</td>\n",
       "      <td>1,606.00</td>\n",
       "      <td>-2,793.00</td>\n",
       "      <td>-63.49%</td>\n",
       "    </tr>\n",
       "    <tr>\n",
       "      <th>Capitol Hill</th>\n",
       "      <td>7,667.00</td>\n",
       "      <td>5,681.56</td>\n",
       "      <td>-1,985.44</td>\n",
       "      <td>-25.90%</td>\n",
       "    </tr>\n",
       "    <tr>\n",
       "      <th>Stadium</th>\n",
       "      <td>1,731.00</td>\n",
       "      <td>531.06</td>\n",
       "      <td>-1,199.94</td>\n",
       "      <td>-69.32%</td>\n",
       "    </tr>\n",
       "    <tr>\n",
       "      <th>SODO</th>\n",
       "      <td>1,669.00</td>\n",
       "      <td>2,571.04</td>\n",
       "      <td>902.04</td>\n",
       "      <td>54.05%</td>\n",
       "    </tr>\n",
       "    <tr>\n",
       "      <th>Beacon Hill</th>\n",
       "      <td>2,147.00</td>\n",
       "      <td>875.82</td>\n",
       "      <td>-1,271.18</td>\n",
       "      <td>-59.21%</td>\n",
       "    </tr>\n",
       "    <tr>\n",
       "      <th>Mount Baker</th>\n",
       "      <td>1,861.00</td>\n",
       "      <td>943.98</td>\n",
       "      <td>-917.02</td>\n",
       "      <td>-49.28%</td>\n",
       "    </tr>\n",
       "    <tr>\n",
       "      <th>Columbia City</th>\n",
       "      <td>1,630.00</td>\n",
       "      <td>1,030.78</td>\n",
       "      <td>-599.22</td>\n",
       "      <td>-36.76%</td>\n",
       "    </tr>\n",
       "    <tr>\n",
       "      <th>Othello</th>\n",
       "      <td>2,030.00</td>\n",
       "      <td>1,188.42</td>\n",
       "      <td>-841.58</td>\n",
       "      <td>-41.46%</td>\n",
       "    </tr>\n",
       "    <tr>\n",
       "      <th>Rainier Beach</th>\n",
       "      <td>1,495.00</td>\n",
       "      <td>1,043.99</td>\n",
       "      <td>-451.01</td>\n",
       "      <td>-30.17%</td>\n",
       "    </tr>\n",
       "    <tr>\n",
       "      <th>Tukwila Int'l Blvd</th>\n",
       "      <td>2,298.00</td>\n",
       "      <td>1,836.70</td>\n",
       "      <td>-461.30</td>\n",
       "      <td>-20.07%</td>\n",
       "    </tr>\n",
       "    <tr>\n",
       "      <th>SeaTac/Airport</th>\n",
       "      <td>4,731.00</td>\n",
       "      <td>6,005.50</td>\n",
       "      <td>1,274.50</td>\n",
       "      <td>26.94%</td>\n",
       "    </tr>\n",
       "    <tr>\n",
       "      <th>Angle Lake</th>\n",
       "      <td>3,865.00</td>\n",
       "      <td>2,868.83</td>\n",
       "      <td>-996.17</td>\n",
       "      <td>-25.77%</td>\n",
       "    </tr>\n",
       "    <tr>\n",
       "      <th>University District Station</th>\n",
       "      <td>7,563.00</td>\n",
       "      <td>4,894.09</td>\n",
       "      <td>-2,668.91</td>\n",
       "      <td>-35.29%</td>\n",
       "    </tr>\n",
       "    <tr>\n",
       "      <th>Roosevelt Station</th>\n",
       "      <td>4,349.00</td>\n",
       "      <td>7,088.52</td>\n",
       "      <td>2,739.52</td>\n",
       "      <td>62.99%</td>\n",
       "    </tr>\n",
       "    <tr>\n",
       "      <th>Northgate Station</th>\n",
       "      <td>10,384.00</td>\n",
       "      <td>8,761.16</td>\n",
       "      <td>-1,622.84</td>\n",
       "      <td>-15.63%</td>\n",
       "    </tr>\n",
       "    <tr>\n",
       "      <th>Total</th>\n",
       "      <td>79,522.00</td>\n",
       "      <td>71,122.43</td>\n",
       "      <td>-8,399.57</td>\n",
       "      <td>-10.56%</td>\n",
       "    </tr>\n",
       "  </tbody>\n",
       "</table>\n",
       "</div>"
      ],
      "text/plain": [
       "                             observed_boardings  model_boardings      diff  \\\n",
       "station_name                                                                 \n",
       "Husky Stadium                          6,134.00         4,447.86 -1,686.14   \n",
       "Westlake                               8,845.00         8,780.78    -64.22   \n",
       "University St                          4,324.00         5,832.47  1,508.47   \n",
       "Pioneer Square                         2,400.00         5,133.87  2,733.87   \n",
       "Int'l District                         4,399.00         1,606.00 -2,793.00   \n",
       "Capitol Hill                           7,667.00         5,681.56 -1,985.44   \n",
       "Stadium                                1,731.00           531.06 -1,199.94   \n",
       "SODO                                   1,669.00         2,571.04    902.04   \n",
       "Beacon Hill                            2,147.00           875.82 -1,271.18   \n",
       "Mount Baker                            1,861.00           943.98   -917.02   \n",
       "Columbia City                          1,630.00         1,030.78   -599.22   \n",
       "Othello                                2,030.00         1,188.42   -841.58   \n",
       "Rainier Beach                          1,495.00         1,043.99   -451.01   \n",
       "Tukwila Int'l Blvd                     2,298.00         1,836.70   -461.30   \n",
       "SeaTac/Airport                         4,731.00         6,005.50  1,274.50   \n",
       "Angle Lake                             3,865.00         2,868.83   -996.17   \n",
       "University District Station            7,563.00         4,894.09 -2,668.91   \n",
       "Roosevelt Station                      4,349.00         7,088.52  2,739.52   \n",
       "Northgate Station                     10,384.00         8,761.16 -1,622.84   \n",
       "Total                                 79,522.00        71,122.43 -8,399.57   \n",
       "\n",
       "                            percent_diff  \n",
       "station_name                              \n",
       "Husky Stadium                    -27.49%  \n",
       "Westlake                          -0.73%  \n",
       "University St                     34.89%  \n",
       "Pioneer Square                   113.91%  \n",
       "Int'l District                   -63.49%  \n",
       "Capitol Hill                     -25.90%  \n",
       "Stadium                          -69.32%  \n",
       "SODO                              54.05%  \n",
       "Beacon Hill                      -59.21%  \n",
       "Mount Baker                      -49.28%  \n",
       "Columbia City                    -36.76%  \n",
       "Othello                          -41.46%  \n",
       "Rainier Beach                    -30.17%  \n",
       "Tukwila Int'l Blvd               -20.07%  \n",
       "SeaTac/Airport                    26.94%  \n",
       "Angle Lake                       -25.77%  \n",
       "University District Station      -35.29%  \n",
       "Roosevelt Station                 62.99%  \n",
       "Northgate Station                -15.63%  \n",
       "Total                            -10.56%  "
      ]
     },
     "execution_count": 13,
     "metadata": {},
     "output_type": "execute_result"
    }
   ],
   "source": [
    "df = pd.read_csv(os.path.join(csv_path,'light_rail_boardings.csv'), index_col='station_name')\n",
    "df['diff'] = df['model_boardings']-df['observed_boardings']\n",
    "df['percent_diff'] = df['diff']/df['observed_boardings']\n",
    "\n",
    "df_table = df.copy()\n",
    "df_table[['percent_diff']] = df_table[['percent_diff']].applymap(format_percent)\n",
    "df_table"
   ]
  },
  {
   "cell_type": "raw",
   "id": "3dafcff1da10b5e5",
   "metadata": {},
   "source": [
    "#### Sound Transit Station Groupings"
   ]
  },
  {
   "cell_type": "code",
   "execution_count": 14,
   "id": "7456ebeb8efd83d0",
   "metadata": {
    "ExecuteTime": {
     "end_time": "2024-06-24T20:06:06.901270Z",
     "start_time": "2024-06-24T20:06:06.830246Z"
    },
    "execution": {
     "iopub.execute_input": "2024-06-24T21:54:09.447700Z",
     "iopub.status.busy": "2024-06-24T21:54:09.447700Z",
     "iopub.status.idle": "2024-06-24T21:54:09.541805Z",
     "shell.execute_reply": "2024-06-24T21:54:09.541805Z"
    }
   },
   "outputs": [
    {
     "data": {
      "text/html": [
       "<div>\n",
       "<style scoped>\n",
       "    .dataframe tbody tr th:only-of-type {\n",
       "        vertical-align: middle;\n",
       "    }\n",
       "\n",
       "    .dataframe tbody tr th {\n",
       "        vertical-align: top;\n",
       "    }\n",
       "\n",
       "    .dataframe thead th {\n",
       "        text-align: right;\n",
       "    }\n",
       "</style>\n",
       "<table border=\"1\" class=\"dataframe\">\n",
       "  <thead>\n",
       "    <tr style=\"text-align: right;\">\n",
       "      <th></th>\n",
       "      <th>observed_boardings</th>\n",
       "      <th>model_boardings</th>\n",
       "      <th>diff</th>\n",
       "      <th>percent_diff</th>\n",
       "    </tr>\n",
       "    <tr>\n",
       "      <th>station_group</th>\n",
       "      <th></th>\n",
       "      <th></th>\n",
       "      <th></th>\n",
       "      <th></th>\n",
       "    </tr>\n",
       "  </thead>\n",
       "  <tbody>\n",
       "    <tr>\n",
       "      <th>Husky Stadium</th>\n",
       "      <td>6,134.00</td>\n",
       "      <td>4,447.86</td>\n",
       "      <td>-1,686.14</td>\n",
       "      <td>-27.49%</td>\n",
       "    </tr>\n",
       "    <tr>\n",
       "      <th>Capitol Hill</th>\n",
       "      <td>7,667.00</td>\n",
       "      <td>5,681.56</td>\n",
       "      <td>-1,985.44</td>\n",
       "      <td>-25.90%</td>\n",
       "    </tr>\n",
       "    <tr>\n",
       "      <th>Westlake/University St</th>\n",
       "      <td>13,169.00</td>\n",
       "      <td>14,613.25</td>\n",
       "      <td>1,444.25</td>\n",
       "      <td>10.97%</td>\n",
       "    </tr>\n",
       "    <tr>\n",
       "      <th>Pioneer Square/Int'l District</th>\n",
       "      <td>6,799.00</td>\n",
       "      <td>6,739.87</td>\n",
       "      <td>-59.13</td>\n",
       "      <td>-0.87%</td>\n",
       "    </tr>\n",
       "    <tr>\n",
       "      <th>Stadium/SODO</th>\n",
       "      <td>3,400.00</td>\n",
       "      <td>3,102.10</td>\n",
       "      <td>-297.90</td>\n",
       "      <td>-8.76%</td>\n",
       "    </tr>\n",
       "    <tr>\n",
       "      <th>Beacon Hill/Mount Baker</th>\n",
       "      <td>4,008.00</td>\n",
       "      <td>1,819.80</td>\n",
       "      <td>-2,188.20</td>\n",
       "      <td>-54.60%</td>\n",
       "    </tr>\n",
       "    <tr>\n",
       "      <th>Columbia City</th>\n",
       "      <td>1,630.00</td>\n",
       "      <td>1,030.78</td>\n",
       "      <td>-599.22</td>\n",
       "      <td>-36.76%</td>\n",
       "    </tr>\n",
       "    <tr>\n",
       "      <th>Othello/Rainier Beach</th>\n",
       "      <td>3,525.00</td>\n",
       "      <td>2,232.41</td>\n",
       "      <td>-1,292.59</td>\n",
       "      <td>-36.67%</td>\n",
       "    </tr>\n",
       "    <tr>\n",
       "      <th>Tukwila Int'l Blvd</th>\n",
       "      <td>2,298.00</td>\n",
       "      <td>1,836.70</td>\n",
       "      <td>-461.30</td>\n",
       "      <td>-20.07%</td>\n",
       "    </tr>\n",
       "    <tr>\n",
       "      <th>SeaTac/Airport</th>\n",
       "      <td>4,731.00</td>\n",
       "      <td>6,005.50</td>\n",
       "      <td>1,274.50</td>\n",
       "      <td>26.94%</td>\n",
       "    </tr>\n",
       "    <tr>\n",
       "      <th>Angle Lake</th>\n",
       "      <td>3,865.00</td>\n",
       "      <td>2,868.83</td>\n",
       "      <td>-996.17</td>\n",
       "      <td>-25.77%</td>\n",
       "    </tr>\n",
       "  </tbody>\n",
       "</table>\n",
       "</div>"
      ],
      "text/plain": [
       "                               observed_boardings  model_boardings      diff  \\\n",
       "station_group                                                                  \n",
       "Husky Stadium                            6,134.00         4,447.86 -1,686.14   \n",
       "Capitol Hill                             7,667.00         5,681.56 -1,985.44   \n",
       "Westlake/University St                  13,169.00        14,613.25  1,444.25   \n",
       "Pioneer Square/Int'l District            6,799.00         6,739.87    -59.13   \n",
       "Stadium/SODO                             3,400.00         3,102.10   -297.90   \n",
       "Beacon Hill/Mount Baker                  4,008.00         1,819.80 -2,188.20   \n",
       "Columbia City                            1,630.00         1,030.78   -599.22   \n",
       "Othello/Rainier Beach                    3,525.00         2,232.41 -1,292.59   \n",
       "Tukwila Int'l Blvd                       2,298.00         1,836.70   -461.30   \n",
       "SeaTac/Airport                           4,731.00         6,005.50  1,274.50   \n",
       "Angle Lake                               3,865.00         2,868.83   -996.17   \n",
       "\n",
       "                              percent_diff  \n",
       "station_group                               \n",
       "Husky Stadium                      -27.49%  \n",
       "Capitol Hill                       -25.90%  \n",
       "Westlake/University St              10.97%  \n",
       "Pioneer Square/Int'l District       -0.87%  \n",
       "Stadium/SODO                        -8.76%  \n",
       "Beacon Hill/Mount Baker            -54.60%  \n",
       "Columbia City                      -36.76%  \n",
       "Othello/Rainier Beach              -36.67%  \n",
       "Tukwila Int'l Blvd                 -20.07%  \n",
       "SeaTac/Airport                      26.94%  \n",
       "Angle Lake                         -25.77%  "
      ]
     },
     "execution_count": 14,
     "metadata": {},
     "output_type": "execute_result"
    }
   ],
   "source": [
    "df_combined = df.copy()\n",
    "\n",
    "df_combined['station_group'] = df.index\n",
    "df_combined.loc[['Westlake'],'station_group'] = 'Westlake/University St'\n",
    "df_combined.loc[['University St'],'station_group'] = 'Westlake/University St'\n",
    "\n",
    "df_combined.loc[['Pioneer Square'],'station_group'] = \"Pioneer Square/Int'l District\"\n",
    "df_combined.loc[[\"Int'l District\"],'station_group'] = \"Pioneer Square/Int'l District\"\n",
    "\n",
    "df_combined.loc[['Stadium'],'station_group'] = 'Stadium/SODO'\n",
    "df_combined.loc[['SODO'],'station_group'] = 'Stadium/SODO'\n",
    "\n",
    "df_combined.loc[['Beacon Hill'],'station_group'] = 'Beacon Hill/Mount Baker'\n",
    "df_combined.loc[['Mount Baker'],'station_group'] = 'Beacon Hill/Mount Baker'\n",
    "\n",
    "df_combined.loc[['Othello'],'station_group'] = 'Othello/Rainier Beach'\n",
    "df_combined.loc[['Rainier Beach'],'station_group'] = 'Othello/Rainier Beach'\n",
    "\n",
    "df_combined = df_combined.groupby('station_group').sum()[['observed_boardings','model_boardings']]\n",
    "df_combined['diff'] = df_combined['model_boardings']-df_combined['observed_boardings']\n",
    "df_combined['percent_diff'] = df_combined['diff']/df_combined['observed_boardings']\n",
    "df_combined[['percent_diff']] = df_combined[['percent_diff']].applymap(format_percent)\n",
    "\n",
    "df_combined.loc[['Husky Stadium','Capitol Hill','Westlake/University St',\"Pioneer Square/Int'l District\",\n",
    "                 'Stadium/SODO','Beacon Hill/Mount Baker','Columbia City','Othello/Rainier Beach',\n",
    "                 \"Tukwila Int'l Blvd\",'SeaTac/Airport','Angle Lake']]"
   ]
  },
  {
   "cell_type": "raw",
   "id": "f429de2d705b1e22",
   "metadata": {},
   "source": [
    ":::"
   ]
  },
  {
   "cell_type": "markdown",
   "id": "86996e48d6760252",
   "metadata": {},
   "source": [
    "### light rail stop transfers"
   ]
  },
  {
   "cell_type": "code",
   "execution_count": 15,
   "id": "4bd536d185354993",
   "metadata": {
    "ExecuteTime": {
     "end_time": "2024-06-24T20:06:14.325917Z",
     "start_time": "2024-06-24T20:06:14.279144Z"
    },
    "execution": {
     "iopub.execute_input": "2024-06-24T21:54:09.557431Z",
     "iopub.status.busy": "2024-06-24T21:54:09.557431Z",
     "iopub.status.idle": "2024-06-24T21:54:09.635689Z",
     "shell.execute_reply": "2024-06-24T21:54:09.635689Z"
    }
   },
   "outputs": [
    {
     "data": {
      "text/html": [
       "<div>\n",
       "<style scoped>\n",
       "    .dataframe tbody tr th:only-of-type {\n",
       "        vertical-align: middle;\n",
       "    }\n",
       "\n",
       "    .dataframe tbody tr th {\n",
       "        vertical-align: top;\n",
       "    }\n",
       "\n",
       "    .dataframe thead th {\n",
       "        text-align: right;\n",
       "    }\n",
       "</style>\n",
       "<table border=\"1\" class=\"dataframe\">\n",
       "  <thead>\n",
       "    <tr style=\"text-align: right;\">\n",
       "      <th></th>\n",
       "      <th>modeled_transfer_rate</th>\n",
       "      <th>observed_transfer_rate</th>\n",
       "      <th>diff</th>\n",
       "      <th>percent_diff</th>\n",
       "    </tr>\n",
       "    <tr>\n",
       "      <th>station_name</th>\n",
       "      <th></th>\n",
       "      <th></th>\n",
       "      <th></th>\n",
       "      <th></th>\n",
       "    </tr>\n",
       "  </thead>\n",
       "  <tbody>\n",
       "    <tr>\n",
       "      <th>Husky Stadium</th>\n",
       "      <td>0.93</td>\n",
       "      <td>-99.00</td>\n",
       "      <td>99.93</td>\n",
       "      <td>-100.94%</td>\n",
       "    </tr>\n",
       "    <tr>\n",
       "      <th>Westlake</th>\n",
       "      <td>0.15</td>\n",
       "      <td>0.36</td>\n",
       "      <td>-0.22</td>\n",
       "      <td>-59.69%</td>\n",
       "    </tr>\n",
       "    <tr>\n",
       "      <th>University St</th>\n",
       "      <td>0.24</td>\n",
       "      <td>0.20</td>\n",
       "      <td>0.04</td>\n",
       "      <td>20.31%</td>\n",
       "    </tr>\n",
       "    <tr>\n",
       "      <th>Pioneer Square</th>\n",
       "      <td>0.45</td>\n",
       "      <td>0.16</td>\n",
       "      <td>0.29</td>\n",
       "      <td>180.89%</td>\n",
       "    </tr>\n",
       "    <tr>\n",
       "      <th>Int'l District</th>\n",
       "      <td>0.65</td>\n",
       "      <td>0.45</td>\n",
       "      <td>0.20</td>\n",
       "      <td>44.40%</td>\n",
       "    </tr>\n",
       "    <tr>\n",
       "      <th>Capitol Hill</th>\n",
       "      <td>0.07</td>\n",
       "      <td>-99.00</td>\n",
       "      <td>99.07</td>\n",
       "      <td>-100.07%</td>\n",
       "    </tr>\n",
       "    <tr>\n",
       "      <th>Stadium</th>\n",
       "      <td>0.23</td>\n",
       "      <td>0.12</td>\n",
       "      <td>0.11</td>\n",
       "      <td>92.38%</td>\n",
       "    </tr>\n",
       "    <tr>\n",
       "      <th>SODO</th>\n",
       "      <td>0.48</td>\n",
       "      <td>0.31</td>\n",
       "      <td>0.17</td>\n",
       "      <td>54.84%</td>\n",
       "    </tr>\n",
       "    <tr>\n",
       "      <th>Beacon Hill</th>\n",
       "      <td>0.32</td>\n",
       "      <td>0.35</td>\n",
       "      <td>-0.03</td>\n",
       "      <td>-8.71%</td>\n",
       "    </tr>\n",
       "    <tr>\n",
       "      <th>Mount Baker</th>\n",
       "      <td>0.43</td>\n",
       "      <td>0.32</td>\n",
       "      <td>0.11</td>\n",
       "      <td>33.23%</td>\n",
       "    </tr>\n",
       "    <tr>\n",
       "      <th>Columbia City</th>\n",
       "      <td>0.02</td>\n",
       "      <td>0.12</td>\n",
       "      <td>-0.11</td>\n",
       "      <td>-87.52%</td>\n",
       "    </tr>\n",
       "    <tr>\n",
       "      <th>Othello</th>\n",
       "      <td>0.06</td>\n",
       "      <td>0.12</td>\n",
       "      <td>-0.06</td>\n",
       "      <td>-48.91%</td>\n",
       "    </tr>\n",
       "    <tr>\n",
       "      <th>Rainier Beach</th>\n",
       "      <td>0.38</td>\n",
       "      <td>0.36</td>\n",
       "      <td>0.02</td>\n",
       "      <td>5.42%</td>\n",
       "    </tr>\n",
       "    <tr>\n",
       "      <th>Tukwila Int'l Blvd</th>\n",
       "      <td>0.54</td>\n",
       "      <td>0.26</td>\n",
       "      <td>0.27</td>\n",
       "      <td>103.37%</td>\n",
       "    </tr>\n",
       "    <tr>\n",
       "      <th>SeaTac/Airport</th>\n",
       "      <td>0.13</td>\n",
       "      <td>0.26</td>\n",
       "      <td>-0.14</td>\n",
       "      <td>-51.93%</td>\n",
       "    </tr>\n",
       "    <tr>\n",
       "      <th>Angle Lake</th>\n",
       "      <td>0.38</td>\n",
       "      <td>-99.00</td>\n",
       "      <td>99.38</td>\n",
       "      <td>-100.38%</td>\n",
       "    </tr>\n",
       "    <tr>\n",
       "      <th>University District Station</th>\n",
       "      <td>0.26</td>\n",
       "      <td>-99.00</td>\n",
       "      <td>99.26</td>\n",
       "      <td>-100.26%</td>\n",
       "    </tr>\n",
       "    <tr>\n",
       "      <th>Roosevelt Station</th>\n",
       "      <td>0.57</td>\n",
       "      <td>-99.00</td>\n",
       "      <td>99.57</td>\n",
       "      <td>-100.58%</td>\n",
       "    </tr>\n",
       "    <tr>\n",
       "      <th>Northgate Station</th>\n",
       "      <td>0.66</td>\n",
       "      <td>-99.00</td>\n",
       "      <td>99.66</td>\n",
       "      <td>-100.66%</td>\n",
       "    </tr>\n",
       "  </tbody>\n",
       "</table>\n",
       "</div>"
      ],
      "text/plain": [
       "                             modeled_transfer_rate  observed_transfer_rate  \\\n",
       "station_name                                                                 \n",
       "Husky Stadium                                 0.93                  -99.00   \n",
       "Westlake                                      0.15                    0.36   \n",
       "University St                                 0.24                    0.20   \n",
       "Pioneer Square                                0.45                    0.16   \n",
       "Int'l District                                0.65                    0.45   \n",
       "Capitol Hill                                  0.07                  -99.00   \n",
       "Stadium                                       0.23                    0.12   \n",
       "SODO                                          0.48                    0.31   \n",
       "Beacon Hill                                   0.32                    0.35   \n",
       "Mount Baker                                   0.43                    0.32   \n",
       "Columbia City                                 0.02                    0.12   \n",
       "Othello                                       0.06                    0.12   \n",
       "Rainier Beach                                 0.38                    0.36   \n",
       "Tukwila Int'l Blvd                            0.54                    0.26   \n",
       "SeaTac/Airport                                0.13                    0.26   \n",
       "Angle Lake                                    0.38                  -99.00   \n",
       "University District Station                   0.26                  -99.00   \n",
       "Roosevelt Station                             0.57                  -99.00   \n",
       "Northgate Station                             0.66                  -99.00   \n",
       "\n",
       "                             diff percent_diff  \n",
       "station_name                                    \n",
       "Husky Stadium               99.93     -100.94%  \n",
       "Westlake                    -0.22      -59.69%  \n",
       "University St                0.04       20.31%  \n",
       "Pioneer Square               0.29      180.89%  \n",
       "Int'l District               0.20       44.40%  \n",
       "Capitol Hill                99.07     -100.07%  \n",
       "Stadium                      0.11       92.38%  \n",
       "SODO                         0.17       54.84%  \n",
       "Beacon Hill                 -0.03       -8.71%  \n",
       "Mount Baker                  0.11       33.23%  \n",
       "Columbia City               -0.11      -87.52%  \n",
       "Othello                     -0.06      -48.91%  \n",
       "Rainier Beach                0.02        5.42%  \n",
       "Tukwila Int'l Blvd           0.27      103.37%  \n",
       "SeaTac/Airport              -0.14      -51.93%  \n",
       "Angle Lake                  99.38     -100.38%  \n",
       "University District Station 99.26     -100.26%  \n",
       "Roosevelt Station           99.57     -100.58%  \n",
       "Northgate Station           99.66     -100.66%  "
      ]
     },
     "execution_count": 15,
     "metadata": {},
     "output_type": "execute_result"
    }
   ],
   "source": [
    "df = pd.read_csv(os.path.join(csv_path,'light_rail_transfers.csv'), index_col='station_name')\n",
    "df[['percent_diff']] = df[['percent_diff']].applymap(format_percent)\n",
    "df"
   ]
  }
 ],
 "metadata": {
  "kernelspec": {
   "display_name": "Python 3",
   "language": "python",
   "name": "python3"
  },
  "language_info": {
   "codemirror_mode": {
    "name": "ipython",
    "version": 3
   },
   "file_extension": ".py",
   "mimetype": "text/x-python",
   "name": "python",
   "nbconvert_exporter": "python",
   "pygments_lexer": "ipython3",
   "version": "3.7.10"
  }
 },
 "nbformat": 4,
 "nbformat_minor": 5
}
