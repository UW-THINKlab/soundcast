{
 "cells": [
  {
   "cell_type": "raw",
   "id": "48597e7e80043434",
   "metadata": {},
   "source": [
    "---\n",
    "title: \"Transit Summary\"\n",
    "date: today\n",
    "---"
   ]
  },
  {
   "cell_type": "code",
   "execution_count": 1,
   "id": "3c1a81e12086b602",
   "metadata": {
    "ExecuteTime": {
     "end_time": "2024-06-24T20:05:20.341638Z",
     "start_time": "2024-06-24T20:05:20.232835Z"
    },
    "execution": {
     "iopub.execute_input": "2024-06-24T21:54:00.036541Z",
     "iopub.status.busy": "2024-06-24T21:54:00.036541Z",
     "iopub.status.idle": "2024-06-24T21:54:04.760522Z",
     "shell.execute_reply": "2024-06-24T21:54:04.760522Z"
    }
   },
   "outputs": [],
   "source": [
    "import os\n",
    "import pandas as pd\n",
    "import numpy as np\n",
    "from sqlalchemy import create_engine\n",
    "from scipy import stats\n",
    "import plotly.express as px\n",
    "import toml\n",
    "import psrc_theme\n",
    "\n",
    "%matplotlib inline\n",
    "from IPython.display import display, HTML\n",
    "\n",
    "# to show plotly figures in quarto HTML file\n",
    "import plotly.io as pio\n",
    "pio.renderers.default = \"plotly_mimetype+notebook_connected\"\n",
    "pio.templates.default = \"simple_white+psrc_color\" # set plotly template\n",
    "\n",
    "input_config = toml.load(os.path.join(os.getcwd(), '..\\\\..\\\\..\\\\..\\\\configuration', 'input_configuration.toml'))\n",
    "valid_config = toml.load(os.path.join(os.getcwd(), '..\\\\..\\\\..\\\\..\\\\configuration', 'validation_configuration.toml'))\n",
    "\n",
    "# create connection\n",
    "conn = create_engine('sqlite:///inputs/db/'+input_config['db_name'])\n",
    "\n",
    "# summary data location\n",
    "csv_path = os.path.join(valid_config['model_dir'], 'outputs/validation')\n",
    "\n",
    "# table format\n",
    "pd.options.display.float_format = '{:0,.2f}'.format\n",
    "format_percent = \"{:,.2%}\".format"
   ]
  },
  {
   "cell_type": "markdown",
   "id": "b00095bdf12d94c3",
   "metadata": {},
   "source": [
    "## transit boarding"
   ]
  },
  {
   "cell_type": "markdown",
   "id": "b0eb0b3986c9d024",
   "metadata": {},
   "source": [
    "### boarding by agency"
   ]
  },
  {
   "cell_type": "code",
   "execution_count": 2,
   "id": "daca8798e4e1c396",
   "metadata": {
    "ExecuteTime": {
     "end_time": "2024-06-24T20:04:29.076584Z",
     "start_time": "2024-06-24T20:04:29.029595Z"
    },
    "execution": {
     "iopub.execute_input": "2024-06-24T21:54:04.763531Z",
     "iopub.status.busy": "2024-06-24T21:54:04.763531Z",
     "iopub.status.idle": "2024-06-24T21:54:04.838812Z",
     "shell.execute_reply": "2024-06-24T21:54:04.838812Z"
    }
   },
   "outputs": [],
   "source": [
    "df = pd.read_csv(os.path.join(csv_path, 'daily_boardings_by_agency.csv')).sort_values('observed_boardings', ascending=False)\n",
    "plot_df = df.melt(id_vars=['agency'], value_vars=['observed_boardings', 'model_boardings'],\n",
    "                  var_name='source', value_name='count')"
   ]
  },
  {
   "cell_type": "code",
   "execution_count": 3,
   "id": "4f0d5527b7528301",
   "metadata": {
    "ExecuteTime": {
     "end_time": "2024-06-24T20:05:24.997972Z",
     "start_time": "2024-06-24T20:05:24.956972Z"
    },
    "execution": {
     "iopub.execute_input": "2024-06-24T21:54:04.854389Z",
     "iopub.status.busy": "2024-06-24T21:54:04.854389Z",
     "iopub.status.idle": "2024-06-24T21:54:04.947796Z",
     "shell.execute_reply": "2024-06-24T21:54:04.947796Z"
    }
   },
   "outputs": [
    {
     "data": {
      "text/html": [
       "<div>\n",
       "<style scoped>\n",
       "    .dataframe tbody tr th:only-of-type {\n",
       "        vertical-align: middle;\n",
       "    }\n",
       "\n",
       "    .dataframe tbody tr th {\n",
       "        vertical-align: top;\n",
       "    }\n",
       "\n",
       "    .dataframe thead th {\n",
       "        text-align: right;\n",
       "    }\n",
       "</style>\n",
       "<table border=\"1\" class=\"dataframe\">\n",
       "  <thead>\n",
       "    <tr style=\"text-align: right;\">\n",
       "      <th></th>\n",
       "      <th>agency</th>\n",
       "      <th>observed_boardings</th>\n",
       "      <th>model_boardings</th>\n",
       "      <th>diff</th>\n",
       "      <th>perc_diff</th>\n",
       "    </tr>\n",
       "  </thead>\n",
       "  <tbody>\n",
       "    <tr>\n",
       "      <th>2</th>\n",
       "      <td>King County Metro</td>\n",
       "      <td>253,313.62</td>\n",
       "      <td>369,224.93</td>\n",
       "      <td>115,911.31</td>\n",
       "      <td>45.76%</td>\n",
       "    </tr>\n",
       "    <tr>\n",
       "      <th>5</th>\n",
       "      <td>Sound Transit</td>\n",
       "      <td>113,374.00</td>\n",
       "      <td>157,833.27</td>\n",
       "      <td>44,459.27</td>\n",
       "      <td>39.21%</td>\n",
       "    </tr>\n",
       "    <tr>\n",
       "      <th>0</th>\n",
       "      <td>Community Transit</td>\n",
       "      <td>25,962.00</td>\n",
       "      <td>28,240.08</td>\n",
       "      <td>2,278.08</td>\n",
       "      <td>8.77%</td>\n",
       "    </tr>\n",
       "    <tr>\n",
       "      <th>4</th>\n",
       "      <td>Pierce Transit</td>\n",
       "      <td>21,185.00</td>\n",
       "      <td>23,192.74</td>\n",
       "      <td>2,007.74</td>\n",
       "      <td>9.48%</td>\n",
       "    </tr>\n",
       "    <tr>\n",
       "      <th>6</th>\n",
       "      <td>Washington Ferries</td>\n",
       "      <td>9,278.21</td>\n",
       "      <td>5,729.10</td>\n",
       "      <td>-3,549.11</td>\n",
       "      <td>-38.25%</td>\n",
       "    </tr>\n",
       "    <tr>\n",
       "      <th>3</th>\n",
       "      <td>Kitsap Transit</td>\n",
       "      <td>7,789.00</td>\n",
       "      <td>28,232.30</td>\n",
       "      <td>20,443.30</td>\n",
       "      <td>262.46%</td>\n",
       "    </tr>\n",
       "    <tr>\n",
       "      <th>1</th>\n",
       "      <td>Everett Transit</td>\n",
       "      <td>4,201.00</td>\n",
       "      <td>3,220.71</td>\n",
       "      <td>-980.29</td>\n",
       "      <td>-23.33%</td>\n",
       "    </tr>\n",
       "  </tbody>\n",
       "</table>\n",
       "</div>"
      ],
      "text/plain": [
       "               agency  observed_boardings  model_boardings       diff  \\\n",
       "2   King County Metro          253,313.62       369,224.93 115,911.31   \n",
       "5       Sound Transit          113,374.00       157,833.27  44,459.27   \n",
       "0   Community Transit           25,962.00        28,240.08   2,278.08   \n",
       "4      Pierce Transit           21,185.00        23,192.74   2,007.74   \n",
       "6  Washington Ferries            9,278.21         5,729.10  -3,549.11   \n",
       "3      Kitsap Transit            7,789.00        28,232.30  20,443.30   \n",
       "1     Everett Transit            4,201.00         3,220.71    -980.29   \n",
       "\n",
       "  perc_diff  \n",
       "2    45.76%  \n",
       "5    39.21%  \n",
       "0     8.77%  \n",
       "4     9.48%  \n",
       "6   -38.25%  \n",
       "3   262.46%  \n",
       "1   -23.33%  "
      ]
     },
     "execution_count": 3,
     "metadata": {},
     "output_type": "execute_result"
    }
   ],
   "source": [
    "table_df = df.copy()\n",
    "table_df[['observed_boardings','model_boardings','diff']] = table_df[['observed_boardings','model_boardings','diff']].astype('float')\n",
    "table_df[['perc_diff']] = table_df[['perc_diff']].applymap(format_percent)\n",
    "table_df"
   ]
  },
  {
   "cell_type": "code",
   "execution_count": 4,
   "id": "6df663cd30d914ea",
   "metadata": {
    "ExecuteTime": {
     "end_time": "2024-06-24T17:50:27.521549Z",
     "start_time": "2024-06-24T17:50:27.349538Z"
    },
    "execution": {
     "iopub.execute_input": "2024-06-24T21:54:04.963484Z",
     "iopub.status.busy": "2024-06-24T21:54:04.963484Z",
     "iopub.status.idle": "2024-06-24T21:54:05.624234Z",
     "shell.execute_reply": "2024-06-24T21:54:05.624234Z"
    }
   },
   "outputs": [],
   "source": [
    "# fig = px.bar(plot_df.sort_values('source'), x=\"agency\", y=\"count\",\n",
    "#              color=\"source\", barmode=\"group\",\n",
    "#              title=\"transit boardings by agency\")\n",
    "# fig.update_layout(height=400, width=700, font=dict(size=11),\n",
    "#                   yaxis_tickformat = '.2f')\n",
    "# fig.show()"
   ]
  },
  {
   "cell_type": "markdown",
   "id": "10436e8bdd112348",
   "metadata": {},
   "source": [
    "### boarding by key route"
   ]
  },
  {
   "cell_type": "raw",
   "id": "7d0d62e3693265f8",
   "metadata": {},
   "source": [
    ":::{.panel-tabset}\n",
    "#### ferry"
   ]
  },
  {
   "cell_type": "code",
   "execution_count": 5,
   "id": "75118f994b2c8118",
   "metadata": {
    "ExecuteTime": {
     "end_time": "2024-06-24T20:05:33.107476Z",
     "start_time": "2024-06-24T20:05:33.044901Z"
    },
    "execution": {
     "iopub.execute_input": "2024-06-24T21:54:05.635341Z",
     "iopub.status.busy": "2024-06-24T21:54:05.635341Z",
     "iopub.status.idle": "2024-06-24T21:54:05.765503Z",
     "shell.execute_reply": "2024-06-24T21:54:05.765503Z"
    }
   },
   "outputs": [
    {
     "data": {
      "text/html": [
       "<div>\n",
       "<style scoped>\n",
       "    .dataframe tbody tr th:only-of-type {\n",
       "        vertical-align: middle;\n",
       "    }\n",
       "\n",
       "    .dataframe tbody tr th {\n",
       "        vertical-align: top;\n",
       "    }\n",
       "\n",
       "    .dataframe thead th {\n",
       "        text-align: right;\n",
       "    }\n",
       "</style>\n",
       "<table border=\"1\" class=\"dataframe\">\n",
       "  <thead>\n",
       "    <tr style=\"text-align: right;\">\n",
       "      <th></th>\n",
       "      <th>description</th>\n",
       "      <th>observed_boardings</th>\n",
       "      <th>model_boardings</th>\n",
       "      <th>diff</th>\n",
       "      <th>perc_diff</th>\n",
       "    </tr>\n",
       "  </thead>\n",
       "  <tbody>\n",
       "    <tr>\n",
       "      <th>0</th>\n",
       "      <td>W</td>\n",
       "      <td>759.00</td>\n",
       "      <td>939.91</td>\n",
       "      <td>180.91</td>\n",
       "      <td>23.83%</td>\n",
       "    </tr>\n",
       "    <tr>\n",
       "      <th>1</th>\n",
       "      <td>S</td>\n",
       "      <td>338.00</td>\n",
       "      <td>950.32</td>\n",
       "      <td>612.32</td>\n",
       "      <td>181.16%</td>\n",
       "    </tr>\n",
       "    <tr>\n",
       "      <th>2</th>\n",
       "      <td>Kingston - EdmondsE</td>\n",
       "      <td>1,500.13</td>\n",
       "      <td>140.30</td>\n",
       "      <td>-1,359.83</td>\n",
       "      <td>-90.65%</td>\n",
       "    </tr>\n",
       "    <tr>\n",
       "      <th>3</th>\n",
       "      <td>Bainbridge Island -</td>\n",
       "      <td>5,513.69</td>\n",
       "      <td>3,363.04</td>\n",
       "      <td>-2,150.65</td>\n",
       "      <td>-39.01%</td>\n",
       "    </tr>\n",
       "    <tr>\n",
       "      <th>4</th>\n",
       "      <td>WSF Bremerton - Seat</td>\n",
       "      <td>1,188.97</td>\n",
       "      <td>163.17</td>\n",
       "      <td>-1,025.80</td>\n",
       "      <td>-86.28%</td>\n",
       "    </tr>\n",
       "    <tr>\n",
       "      <th>5</th>\n",
       "      <td>Southworth - Fauntle</td>\n",
       "      <td>142.56</td>\n",
       "      <td>233.12</td>\n",
       "      <td>90.56</td>\n",
       "      <td>63.53%</td>\n",
       "    </tr>\n",
       "    <tr>\n",
       "      <th>6</th>\n",
       "      <td>Vashon Island - Faun</td>\n",
       "      <td>560.04</td>\n",
       "      <td>1,536.23</td>\n",
       "      <td>976.19</td>\n",
       "      <td>174.31%</td>\n",
       "    </tr>\n",
       "    <tr>\n",
       "      <th>7</th>\n",
       "      <td>Southworth - Vashon</td>\n",
       "      <td>107.76</td>\n",
       "      <td>113.80</td>\n",
       "      <td>6.04</td>\n",
       "      <td>5.60%</td>\n",
       "    </tr>\n",
       "    <tr>\n",
       "      <th>8</th>\n",
       "      <td>Point Defiance - Tah</td>\n",
       "      <td>265.05</td>\n",
       "      <td>179.43</td>\n",
       "      <td>-85.63</td>\n",
       "      <td>-32.31%</td>\n",
       "    </tr>\n",
       "  </tbody>\n",
       "</table>\n",
       "</div>"
      ],
      "text/plain": [
       "            description  observed_boardings  model_boardings      diff  \\\n",
       "0                     W              759.00           939.91    180.91   \n",
       "1                     S              338.00           950.32    612.32   \n",
       "2   Kingston - EdmondsE            1,500.13           140.30 -1,359.83   \n",
       "3   Bainbridge Island -            5,513.69         3,363.04 -2,150.65   \n",
       "4  WSF Bremerton - Seat            1,188.97           163.17 -1,025.80   \n",
       "5  Southworth - Fauntle              142.56           233.12     90.56   \n",
       "6  Vashon Island - Faun              560.04         1,536.23    976.19   \n",
       "7   Southworth - Vashon              107.76           113.80      6.04   \n",
       "8  Point Defiance - Tah              265.05           179.43    -85.63   \n",
       "\n",
       "  perc_diff  \n",
       "0    23.83%  \n",
       "1   181.16%  \n",
       "2   -90.65%  \n",
       "3   -39.01%  \n",
       "4   -86.28%  \n",
       "5    63.53%  \n",
       "6   174.31%  \n",
       "7     5.60%  \n",
       "8   -32.31%  "
      ]
     },
     "execution_count": 5,
     "metadata": {},
     "output_type": "execute_result"
    }
   ],
   "source": [
    "df_boarding_key = pd.read_csv(os.path.join(csv_path,'daily_boardings_key_routes.csv'), index_col='description')\n",
    "df_boarding_key[['observed_boardings','model_boardings']] = df_boarding_key[['observed_boardings','model_boardings']].astype('float')\n",
    "\n",
    "df = df_boarding_key[df_boarding_key['route_code'].isin([5001,5002,5003,5004,5005,5006,5007,1973,1975])].reset_index()\n",
    "df.drop(['route_code','agency'], axis=1, inplace=True)\n",
    "\n",
    "df_table = df.copy()\n",
    "df_table[['perc_diff']] = df_table[['perc_diff']].applymap(format_percent)\n",
    "df_table"
   ]
  },
  {
   "cell_type": "code",
   "execution_count": 6,
   "id": "67bf06d211cca3c6",
   "metadata": {
    "ExecuteTime": {
     "end_time": "2024-06-24T19:41:04.985397Z",
     "start_time": "2024-06-24T19:41:04.798158Z"
    },
    "execution": {
     "iopub.execute_input": "2024-06-24T21:54:05.775515Z",
     "iopub.status.busy": "2024-06-24T21:54:05.775515Z",
     "iopub.status.idle": "2024-06-24T21:54:06.260397Z",
     "shell.execute_reply": "2024-06-24T21:54:06.260397Z"
    }
   },
   "outputs": [
    {
     "name": "stdout",
     "output_type": "stream",
     "text": [
      "r^2 : 0.8337552482791967\n"
     ]
    },
    {
     "data": {
      "image/png": "[encoded data removed]",
      "text/plain": [
       "<Figure size 432x288 with 1 Axes>"
      ]
     },
     "metadata": {
      "needs_background": "light"
     },
     "output_type": "display_data"
    }
   ],
   "source": [
    "if len(df) > 0:\n",
    "    ax = df.plot(kind='scatter', x='observed_boardings', y='model_boardings')\n",
    "    lim = df[['observed_boardings','model_boardings']].max().max()*1.05\n",
    "    ax.set_ylim(0,lim)\n",
    "    ax.set_xlim(0,lim)\n",
    "    x = np.linspace(*ax.get_xlim())\n",
    "    ax.plot(x, x)\n",
    "    slope, intercept, r_value, p_value, std_err = stats.linregress(df['observed_boardings'],df['model_boardings'])\n",
    "    print('r^2 ' + str('') + ': ' + str(r_value))"
   ]
  },
  {
   "cell_type": "markdown",
   "id": "8bf9f5778ee290d6",
   "metadata": {},
   "source": [
    "##### bikes on ferry"
   ]
  },
  {
   "cell_type": "code",
   "execution_count": 7,
   "id": "693dd2ccc9b68311",
   "metadata": {
    "ExecuteTime": {
     "end_time": "2024-06-24T20:05:41.122932Z",
     "start_time": "2024-06-24T20:05:41.060989Z"
    },
    "execution": {
     "iopub.execute_input": "2024-06-24T21:54:06.276671Z",
     "iopub.status.busy": "2024-06-24T21:54:06.276671Z",
     "iopub.status.idle": "2024-06-24T21:54:06.354426Z",
     "shell.execute_reply": "2024-06-24T21:54:06.354426Z"
    }
   },
   "outputs": [
    {
     "data": {
      "text/html": [
       "<div>\n",
       "<style scoped>\n",
       "    .dataframe tbody tr th:only-of-type {\n",
       "        vertical-align: middle;\n",
       "    }\n",
       "\n",
       "    .dataframe tbody tr th {\n",
       "        vertical-align: top;\n",
       "    }\n",
       "\n",
       "    .dataframe thead th {\n",
       "        text-align: right;\n",
       "    }\n",
       "</style>\n",
       "<table border=\"1\" class=\"dataframe\">\n",
       "  <thead>\n",
       "    <tr style=\"text-align: right;\">\n",
       "      <th></th>\n",
       "      <th>route_code</th>\n",
       "      <th>description</th>\n",
       "      <th>@bvol</th>\n",
       "    </tr>\n",
       "  </thead>\n",
       "  <tbody>\n",
       "    <tr>\n",
       "      <th>4</th>\n",
       "      <td>4203</td>\n",
       "      <td>Annapolis Foot Ferry</td>\n",
       "      <td>818.50</td>\n",
       "    </tr>\n",
       "    <tr>\n",
       "      <th>2</th>\n",
       "      <td>4200</td>\n",
       "      <td>Bremerton-Seattle Fa</td>\n",
       "      <td>489.80</td>\n",
       "    </tr>\n",
       "    <tr>\n",
       "      <th>3</th>\n",
       "      <td>4201</td>\n",
       "      <td>Bremerton-Port Orcha</td>\n",
       "      <td>446.70</td>\n",
       "    </tr>\n",
       "    <tr>\n",
       "      <th>0</th>\n",
       "      <td>1973</td>\n",
       "      <td>E</td>\n",
       "      <td>336.10</td>\n",
       "    </tr>\n",
       "    <tr>\n",
       "      <th>1</th>\n",
       "      <td>1975</td>\n",
       "      <td>N</td>\n",
       "      <td>191.10</td>\n",
       "    </tr>\n",
       "    <tr>\n",
       "      <th>11</th>\n",
       "      <td>5007</td>\n",
       "      <td>Point Defiance - Tah</td>\n",
       "      <td>77.00</td>\n",
       "    </tr>\n",
       "    <tr>\n",
       "      <th>7</th>\n",
       "      <td>5002</td>\n",
       "      <td>Bainbridge Island -</td>\n",
       "      <td>60.80</td>\n",
       "    </tr>\n",
       "    <tr>\n",
       "      <th>10</th>\n",
       "      <td>5005</td>\n",
       "      <td>Vashon Island - Faun</td>\n",
       "      <td>58.40</td>\n",
       "    </tr>\n",
       "    <tr>\n",
       "      <th>9</th>\n",
       "      <td>5004</td>\n",
       "      <td>Fauntleroy - Southwo</td>\n",
       "      <td>29.40</td>\n",
       "    </tr>\n",
       "    <tr>\n",
       "      <th>6</th>\n",
       "      <td>5001</td>\n",
       "      <td>Kingston - EdmondsE</td>\n",
       "      <td>17.00</td>\n",
       "    </tr>\n",
       "    <tr>\n",
       "      <th>8</th>\n",
       "      <td>5003</td>\n",
       "      <td>WSF Seattle - Bremer</td>\n",
       "      <td>13.00</td>\n",
       "    </tr>\n",
       "    <tr>\n",
       "      <th>5</th>\n",
       "      <td>4204</td>\n",
       "      <td>Fast FerryN</td>\n",
       "      <td>4.00</td>\n",
       "    </tr>\n",
       "  </tbody>\n",
       "</table>\n",
       "</div>"
      ],
      "text/plain": [
       "    route_code           description  @bvol\n",
       "4         4203  Annapolis Foot Ferry 818.50\n",
       "2         4200  Bremerton-Seattle Fa 489.80\n",
       "3         4201  Bremerton-Port Orcha 446.70\n",
       "0         1973                     E 336.10\n",
       "1         1975                     N 191.10\n",
       "11        5007  Point Defiance - Tah  77.00\n",
       "7         5002   Bainbridge Island -  60.80\n",
       "10        5005  Vashon Island - Faun  58.40\n",
       "9         5004  Fauntleroy - Southwo  29.40\n",
       "6         5001   Kingston - EdmondsE  17.00\n",
       "8         5003  WSF Seattle - Bremer  13.00\n",
       "5         4204           Fast FerryN   4.00"
      ]
     },
     "execution_count": 7,
     "metadata": {},
     "output_type": "execute_result"
    }
   ],
   "source": [
    "df = pd.read_csv(os.path.join(csv_path,'bike_ferry_boardings.csv')).sort_values('@bvol', ascending=False)\n",
    "df['route_code'] = df['route_code'].astype('int')\n",
    "df[['route_code','description', '@bvol']]"
   ]
  },
  {
   "cell_type": "raw",
   "id": "14db883222970442",
   "metadata": {},
   "source": [
    "#### rail"
   ]
  },
  {
   "cell_type": "code",
   "execution_count": 8,
   "id": "c9adf289ac66da8",
   "metadata": {
    "ExecuteTime": {
     "end_time": "2024-06-24T20:05:45.826421Z",
     "start_time": "2024-06-24T20:05:45.779797Z"
    },
    "execution": {
     "iopub.execute_input": "2024-06-24T21:54:06.370167Z",
     "iopub.status.busy": "2024-06-24T21:54:06.370167Z",
     "iopub.status.idle": "2024-06-24T21:54:06.416576Z",
     "shell.execute_reply": "2024-06-24T21:54:06.416576Z"
    }
   },
   "outputs": [
    {
     "data": {
      "text/html": [
       "<div>\n",
       "<style scoped>\n",
       "    .dataframe tbody tr th:only-of-type {\n",
       "        vertical-align: middle;\n",
       "    }\n",
       "\n",
       "    .dataframe tbody tr th {\n",
       "        vertical-align: top;\n",
       "    }\n",
       "\n",
       "    .dataframe thead th {\n",
       "        text-align: right;\n",
       "    }\n",
       "</style>\n",
       "<table border=\"1\" class=\"dataframe\">\n",
       "  <thead>\n",
       "    <tr style=\"text-align: right;\">\n",
       "      <th></th>\n",
       "      <th>description</th>\n",
       "      <th>observed_boardings</th>\n",
       "      <th>model_boardings</th>\n",
       "      <th>diff</th>\n",
       "      <th>perc_diff</th>\n",
       "    </tr>\n",
       "  </thead>\n",
       "  <tbody>\n",
       "    <tr>\n",
       "      <th>0</th>\n",
       "      <td>Link Red Line</td>\n",
       "      <td>79,522.00</td>\n",
       "      <td>78,025.96</td>\n",
       "      <td>-1,496.04</td>\n",
       "      <td>-1.88%</td>\n",
       "    </tr>\n",
       "    <tr>\n",
       "      <th>1</th>\n",
       "      <td>Sounder South</td>\n",
       "      <td>6,038.00</td>\n",
       "      <td>12,158.18</td>\n",
       "      <td>6,120.18</td>\n",
       "      <td>101.36%</td>\n",
       "    </tr>\n",
       "    <tr>\n",
       "      <th>2</th>\n",
       "      <td>Sounder North</td>\n",
       "      <td>316.00</td>\n",
       "      <td>18.02</td>\n",
       "      <td>-297.98</td>\n",
       "      <td>-94.30%</td>\n",
       "    </tr>\n",
       "  </tbody>\n",
       "</table>\n",
       "</div>"
      ],
      "text/plain": [
       "     description  observed_boardings  model_boardings      diff perc_diff\n",
       "0  Link Red Line           79,522.00        78,025.96 -1,496.04    -1.88%\n",
       "1  Sounder South            6,038.00        12,158.18  6,120.18   101.36%\n",
       "2  Sounder North              316.00            18.02   -297.98   -94.30%"
      ]
     },
     "execution_count": 8,
     "metadata": {},
     "output_type": "execute_result"
    }
   ],
   "source": [
    "df = df_boarding_key[df_boarding_key['route_code'].isin([6996,6999,6998])].reset_index()\n",
    "df['description'] = df['route_code'].map({6998: 'Sounder South', 6999: 'Sounder North',6996: 'Link Red Line'})\n",
    "df.drop(['route_code','agency'], axis=1, inplace=True)\n",
    "\n",
    "df_table = df.copy()\n",
    "df_table[['perc_diff']] = df_table[['perc_diff']].applymap(format_percent)\n",
    "\n",
    "df_table"
   ]
  },
  {
   "cell_type": "code",
   "execution_count": 9,
   "id": "cb27f79888f8363d",
   "metadata": {
    "ExecuteTime": {
     "end_time": "2024-06-24T19:41:16.172926Z",
     "start_time": "2024-06-24T19:41:15.922628Z"
    },
    "execution": {
     "iopub.execute_input": "2024-06-24T21:54:06.432206Z",
     "iopub.status.busy": "2024-06-24T21:54:06.416576Z",
     "iopub.status.idle": "2024-06-24T21:54:06.854446Z",
     "shell.execute_reply": "2024-06-24T21:54:06.854446Z"
    }
   },
   "outputs": [
    {
     "name": "stdout",
     "output_type": "stream",
     "text": [
      "r^2 : 0.9967772745786729\n"
     ]
    },
    {
     "data": {
      "image/png": "[encoded data removed]",
      "text/plain": [
       "<Figure size 432x288 with 1 Axes>"
      ]
     },
     "metadata": {
      "needs_background": "light"
     },
     "output_type": "display_data"
    }
   ],
   "source": [
    "if len(df) > 0:\n",
    "    ax = df.plot(kind='scatter', x='observed_boardings', y='model_boardings')\n",
    "    lim = df[['observed_boardings','model_boardings']].max().max()*1.05\n",
    "    ax.set_ylim(0,lim)\n",
    "    ax.set_xlim(0,lim)\n",
    "    x = np.linspace(*ax.get_xlim())\n",
    "    ax.plot(x, x)\n",
    "    slope, intercept, r_value, p_value, std_err = stats.linregress(df['observed_boardings'],df['model_boardings'])\n",
    "    print('r^2 ' + str('') + ': ' + str(r_value))"
   ]
  },
  {
   "cell_type": "raw",
   "id": "a24f21772d15369c",
   "metadata": {},
   "source": [
    "#### RapidRide, busiest buses, streetcar"
   ]
  },
  {
   "cell_type": "code",
   "execution_count": 10,
   "id": "a048f8a2b6d7d277",
   "metadata": {
    "ExecuteTime": {
     "end_time": "2024-06-24T20:05:51.529079Z",
     "start_time": "2024-06-24T20:05:51.482757Z"
    },
    "execution": {
     "iopub.execute_input": "2024-06-24T21:54:06.870720Z",
     "iopub.status.busy": "2024-06-24T21:54:06.870720Z",
     "iopub.status.idle": "2024-06-24T21:54:06.947996Z",
     "shell.execute_reply": "2024-06-24T21:54:06.946418Z"
    }
   },
   "outputs": [
    {
     "data": {
      "text/html": [
       "<div>\n",
       "<style scoped>\n",
       "    .dataframe tbody tr th:only-of-type {\n",
       "        vertical-align: middle;\n",
       "    }\n",
       "\n",
       "    .dataframe tbody tr th {\n",
       "        vertical-align: top;\n",
       "    }\n",
       "\n",
       "    .dataframe thead th {\n",
       "        text-align: right;\n",
       "    }\n",
       "</style>\n",
       "<table border=\"1\" class=\"dataframe\">\n",
       "  <thead>\n",
       "    <tr style=\"text-align: right;\">\n",
       "      <th></th>\n",
       "      <th>description</th>\n",
       "      <th>observed_boardings</th>\n",
       "      <th>model_boardings</th>\n",
       "      <th>diff</th>\n",
       "      <th>perc_diff</th>\n",
       "    </tr>\n",
       "  </thead>\n",
       "  <tbody>\n",
       "    <tr>\n",
       "      <th>6</th>\n",
       "      <td>E Line RapidRide</td>\n",
       "      <td>11,426.00</td>\n",
       "      <td>20,884.90</td>\n",
       "      <td>9,458.90</td>\n",
       "      <td>82.78%</td>\n",
       "    </tr>\n",
       "    <tr>\n",
       "      <th>4</th>\n",
       "      <td>C Line RapidRide</td>\n",
       "      <td>7,250.00</td>\n",
       "      <td>14,119.07</td>\n",
       "      <td>6,869.07</td>\n",
       "      <td>94.75%</td>\n",
       "    </tr>\n",
       "    <tr>\n",
       "      <th>1</th>\n",
       "      <td>KC Metro 40</td>\n",
       "      <td>7,208.00</td>\n",
       "      <td>12,793.09</td>\n",
       "      <td>5,585.09</td>\n",
       "      <td>77.48%</td>\n",
       "    </tr>\n",
       "    <tr>\n",
       "      <th>0</th>\n",
       "      <td>KC Metro 7</td>\n",
       "      <td>9,954.00</td>\n",
       "      <td>11,162.80</td>\n",
       "      <td>1,208.80</td>\n",
       "      <td>12.14%</td>\n",
       "    </tr>\n",
       "    <tr>\n",
       "      <th>5</th>\n",
       "      <td>D Line RapidRide</td>\n",
       "      <td>9,044.00</td>\n",
       "      <td>9,941.88</td>\n",
       "      <td>897.88</td>\n",
       "      <td>9.93%</td>\n",
       "    </tr>\n",
       "    <tr>\n",
       "      <th>10</th>\n",
       "      <td>Sound Transit 550</td>\n",
       "      <td>3,351.00</td>\n",
       "      <td>9,634.43</td>\n",
       "      <td>6,283.43</td>\n",
       "      <td>187.51%</td>\n",
       "    </tr>\n",
       "    <tr>\n",
       "      <th>2</th>\n",
       "      <td>A Line RapidRide</td>\n",
       "      <td>8,412.00</td>\n",
       "      <td>8,105.15</td>\n",
       "      <td>-306.85</td>\n",
       "      <td>-3.65%</td>\n",
       "    </tr>\n",
       "    <tr>\n",
       "      <th>7</th>\n",
       "      <td>F Line RapidRide</td>\n",
       "      <td>4,748.00</td>\n",
       "      <td>5,805.74</td>\n",
       "      <td>1,057.74</td>\n",
       "      <td>22.28%</td>\n",
       "    </tr>\n",
       "    <tr>\n",
       "      <th>3</th>\n",
       "      <td>B Line RapidRide</td>\n",
       "      <td>4,177.00</td>\n",
       "      <td>4,380.08</td>\n",
       "      <td>203.08</td>\n",
       "      <td>4.86%</td>\n",
       "    </tr>\n",
       "    <tr>\n",
       "      <th>9</th>\n",
       "      <td>First Hill Streetcar</td>\n",
       "      <td>3,900.45</td>\n",
       "      <td>1,369.74</td>\n",
       "      <td>-2,530.71</td>\n",
       "      <td>-64.88%</td>\n",
       "    </tr>\n",
       "    <tr>\n",
       "      <th>8</th>\n",
       "      <td>SLU Streetcar</td>\n",
       "      <td>1,050.16</td>\n",
       "      <td>1,027.82</td>\n",
       "      <td>-22.35</td>\n",
       "      <td>-2.13%</td>\n",
       "    </tr>\n",
       "  </tbody>\n",
       "</table>\n",
       "</div>"
      ],
      "text/plain": [
       "             description  observed_boardings  model_boardings      diff  \\\n",
       "6       E Line RapidRide           11,426.00        20,884.90  9,458.90   \n",
       "4       C Line RapidRide            7,250.00        14,119.07  6,869.07   \n",
       "1            KC Metro 40            7,208.00        12,793.09  5,585.09   \n",
       "0             KC Metro 7            9,954.00        11,162.80  1,208.80   \n",
       "5       D Line RapidRide            9,044.00         9,941.88    897.88   \n",
       "10     Sound Transit 550            3,351.00         9,634.43  6,283.43   \n",
       "2       A Line RapidRide            8,412.00         8,105.15   -306.85   \n",
       "7       F Line RapidRide            4,748.00         5,805.74  1,057.74   \n",
       "3       B Line RapidRide            4,177.00         4,380.08    203.08   \n",
       "9   First Hill Streetcar            3,900.45         1,369.74 -2,530.71   \n",
       "8          SLU Streetcar            1,050.16         1,027.82    -22.35   \n",
       "\n",
       "   perc_diff  \n",
       "6     82.78%  \n",
       "4     94.75%  \n",
       "1     77.48%  \n",
       "0     12.14%  \n",
       "5      9.93%  \n",
       "10   187.51%  \n",
       "2     -3.65%  \n",
       "7     22.28%  \n",
       "3      4.86%  \n",
       "9    -64.88%  \n",
       "8     -2.13%  "
      ]
     },
     "execution_count": 10,
     "metadata": {},
     "output_type": "execute_result"
    }
   ],
   "source": [
    "df = df_boarding_key[df_boarding_key['route_code'].isin([1671,1672,1673,1674,1675,1676,6550,1007,1040,1997,1998])].reset_index()\n",
    "df['description'] = df['route_code'].map({1671: 'A Line RapidRide', 1672: 'B Line RapidRide',\n",
    "                                            1673: 'C Line RapidRide', 1674: 'D Line RapidRide',\n",
    "                                            1675: 'E Line RapidRide', 1676: 'F Line RapidRide',\n",
    "                                            6550: 'Sound Transit 550', 1040: 'KC Metro 40', 1007: 'KC Metro 7',\n",
    "                                            1997: 'SLU Streetcar', 1998: 'First Hill Streetcar'})\n",
    "df.drop(['route_code','agency'], axis=1, inplace=True)\n",
    "\n",
    "df_table = df.copy()\n",
    "df_table[['perc_diff']] = df_table[['perc_diff']].applymap(format_percent)\n",
    "df_table.sort_values('model_boardings', ascending=False)"
   ]
  },
  {
   "cell_type": "code",
   "execution_count": 11,
   "id": "813aa67bd5e6c1f6",
   "metadata": {
    "ExecuteTime": {
     "end_time": "2024-06-24T19:41:23.547293Z",
     "start_time": "2024-06-24T19:41:23.312803Z"
    },
    "execution": {
     "iopub.execute_input": "2024-06-24T21:54:06.963083Z",
     "iopub.status.busy": "2024-06-24T21:54:06.962090Z",
     "iopub.status.idle": "2024-06-24T21:54:07.310483Z",
     "shell.execute_reply": "2024-06-24T21:54:07.308481Z"
    }
   },
   "outputs": [
    {
     "name": "stdout",
     "output_type": "stream",
     "text": [
      "r^2 : 0.8072386745657423\n"
     ]
    },
    {
     "data": {
      "image/png": "[encoded data removed]",
      "text/plain": [
       "<Figure size 432x288 with 1 Axes>"
      ]
     },
     "metadata": {
      "needs_background": "light"
     },
     "output_type": "display_data"
    }
   ],
   "source": [
    "if len(df) > 0:\n",
    "    ax = df.plot(kind='scatter', x='observed_boardings', y='model_boardings')\n",
    "    lim = df[['observed_boardings', 'model_boardings']].max().max() * 1.05\n",
    "    ax.set_ylim(0, lim)\n",
    "    ax.set_xlim(0, lim)\n",
    "    x = np.linspace(*ax.get_xlim())\n",
    "    ax.plot(x, x)\n",
    "    slope, intercept, r_value, p_value, std_err = stats.linregress(df['observed_boardings'], df['model_boardings'])\n",
    "    print('r^2 ' + str('') + ': ' + str(r_value))"
   ]
  },
  {
   "cell_type": "raw",
   "id": "c55611b2314fffc3",
   "metadata": {},
   "source": [
    ":::"
   ]
  },
  {
   "cell_type": "markdown",
   "id": "6e6c5ead64d64e8c",
   "metadata": {},
   "source": [
    "### boarding on lines by agency"
   ]
  },
  {
   "cell_type": "code",
   "execution_count": 12,
   "id": "95db4119eb938544",
   "metadata": {
    "ExecuteTime": {
     "end_time": "2024-06-24T19:52:55.951969Z",
     "start_time": "2024-06-24T19:52:54.937995Z"
    },
    "execution": {
     "iopub.execute_input": "2024-06-24T21:54:07.326440Z",
     "iopub.status.busy": "2024-06-24T21:54:07.325444Z",
     "iopub.status.idle": "2024-06-24T21:54:09.291659Z",
     "shell.execute_reply": "2024-06-24T21:54:09.291659Z"
    }
   },
   "outputs": [
    {
     "name": "stdout",
     "output_type": "stream",
     "text": [
      "r^2 Community Transit: 0.9135571262720011\n",
      "r^2 Everett Transit: 0.9488895248377024"
     ]
    },
    {
     "name": "stdout",
     "output_type": "stream",
     "text": [
      "\n",
      "r^2 King County Metro: 0.9003651679287995\n",
      "r^2 Kitsap Transit: 0.6102722229242511\n",
      "r^2 Pierce Transit: 0.7831322219145825\n"
     ]
    },
    {
     "name": "stdout",
     "output_type": "stream",
     "text": [
      "r^2 Sound Transit: 0.9885842382425686\n",
      "r^2 Washington Ferries: 0.8649304870331177\n"
     ]
    },
    {
     "data": {
      "image/png": "[encoded data removed]",
      "text/plain": [
       "<Figure size 432x288 with 1 Axes>"
      ]
     },
     "metadata": {
      "needs_background": "light"
     },
     "output_type": "display_data"
    },
    {
     "data": {
      "image/png": "[encoded data removed]",
      "text/plain": [
       "<Figure size 432x288 with 1 Axes>"
      ]
     },
     "metadata": {
      "needs_background": "light"
     },
     "output_type": "display_data"
    },
    {
     "data": {
      "image/png": "[encoded data removed]",
      "text/plain": [
       "<Figure size 432x288 with 1 Axes>"
      ]
     },
     "metadata": {
      "needs_background": "light"
     },
     "output_type": "display_data"
    },
    {
     "data": {
      "image/png": "[encoded data removed]",
      "text/plain": [
       "<Figure size 432x288 with 1 Axes>"
      ]
     },
     "metadata": {
      "needs_background": "light"
     },
     "output_type": "display_data"
    },
    {
     "data": {
      "image/png": "[encoded data removed]",
      "text/plain": [
       "<Figure size 432x288 with 1 Axes>"
      ]
     },
     "metadata": {
      "needs_background": "light"
     },
     "output_type": "display_data"
    },
    {
     "data": {
      "image/png": "[encoded data removed]",
      "text/plain": [
       "<Figure size 432x288 with 1 Axes>"
      ]
     },
     "metadata": {
      "needs_background": "light"
     },
     "output_type": "display_data"
    },
    {
     "data": {
      "image/png": "[encoded data removed]",
      "text/plain": [
       "<Figure size 432x288 with 1 Axes>"
      ]
     },
     "metadata": {
      "needs_background": "light"
     },
     "output_type": "display_data"
    }
   ],
   "source": [
    "df = pd.read_csv(os.path.join(csv_path,'daily_boardings_by_line.csv'), index_col='agency')\n",
    "df = df[-df['agency_id'].isnull()]\n",
    "\n",
    "for agency in np.unique(df.index):\n",
    "    _df = df.loc[agency,:]\n",
    "    if (type(_df) == pd.core.frame.DataFrame) & (len(df) > 0):\n",
    "        ax = _df.plot(kind='scatter', x='observed_boardings', y='model_boardings', label=agency)\n",
    "        lim = _df[['observed_boardings','model_boardings']].max().max()*1.05\n",
    "        ax.set_ylim(0,lim)\n",
    "        ax.set_xlim(0,lim)\n",
    "        x = np.linspace(*ax.get_xlim())\n",
    "        ax.plot(x, x)\n",
    "        slope, intercept, r_value, p_value, std_err = stats.linregress(_df['observed_boardings'],_df['model_boardings'])\n",
    "        print('r^2 ' + str(agency) + ': ' + str(r_value))"
   ]
  },
  {
   "cell_type": "markdown",
   "id": "4539ddda98821ff2",
   "metadata": {},
   "source": [
    "### boarding by light rail station"
   ]
  },
  {
   "cell_type": "raw",
   "id": "1a2860ab52ea5101",
   "metadata": {},
   "source": [
    ":::{.panel-tabset}\n",
    "#### Red Line"
   ]
  },
  {
   "cell_type": "code",
   "execution_count": 13,
   "id": "2c245b8117693726",
   "metadata": {
    "ExecuteTime": {
     "end_time": "2024-06-24T20:06:01.435477Z",
     "start_time": "2024-06-24T20:06:01.389414Z"
    },
    "execution": {
     "iopub.execute_input": "2024-06-24T21:54:09.307284Z",
     "iopub.status.busy": "2024-06-24T21:54:09.307284Z",
     "iopub.status.idle": "2024-06-24T21:54:09.432079Z",
     "shell.execute_reply": "2024-06-24T21:54:09.432079Z"
    }
   },
   "outputs": [
    {
     "data": {
      "text/html": [
       "<div>\n",
       "<style scoped>\n",
       "    .dataframe tbody tr th:only-of-type {\n",
       "        vertical-align: middle;\n",
       "    }\n",
       "\n",
       "    .dataframe tbody tr th {\n",
       "        vertical-align: top;\n",
       "    }\n",
       "\n",
       "    .dataframe thead th {\n",
       "        text-align: right;\n",
       "    }\n",
       "</style>\n",
       "<table border=\"1\" class=\"dataframe\">\n",
       "  <thead>\n",
       "    <tr style=\"text-align: right;\">\n",
       "      <th></th>\n",
       "      <th>observed_boardings</th>\n",
       "      <th>model_boardings</th>\n",
       "      <th>diff</th>\n",
       "      <th>percent_diff</th>\n",
       "    </tr>\n",
       "    <tr>\n",
       "      <th>station_name</th>\n",
       "      <th></th>\n",
       "      <th></th>\n",
       "      <th></th>\n",
       "      <th></th>\n",
       "    </tr>\n",
       "  </thead>\n",
       "  <tbody>\n",
       "    <tr>\n",
       "      <th>Husky Stadium</th>\n",
       "      <td>6,134.00</td>\n",
       "      <td>4,491.70</td>\n",
       "      <td>-1,642.30</td>\n",
       "      <td>-26.77%</td>\n",
       "    </tr>\n",
       "    <tr>\n",
       "      <th>Westlake</th>\n",
       "      <td>8,845.00</td>\n",
       "      <td>9,101.61</td>\n",
       "      <td>256.61</td>\n",
       "      <td>2.90%</td>\n",
       "    </tr>\n",
       "    <tr>\n",
       "      <th>University St</th>\n",
       "      <td>4,324.00</td>\n",
       "      <td>6,093.94</td>\n",
       "      <td>1,769.94</td>\n",
       "      <td>40.93%</td>\n",
       "    </tr>\n",
       "    <tr>\n",
       "      <th>Pioneer Square</th>\n",
       "      <td>2,400.00</td>\n",
       "      <td>5,069.74</td>\n",
       "      <td>2,669.74</td>\n",
       "      <td>111.24%</td>\n",
       "    </tr>\n",
       "    <tr>\n",
       "      <th>Int'l District</th>\n",
       "      <td>4,399.00</td>\n",
       "      <td>1,759.27</td>\n",
       "      <td>-2,639.73</td>\n",
       "      <td>-60.01%</td>\n",
       "    </tr>\n",
       "    <tr>\n",
       "      <th>Capitol Hill</th>\n",
       "      <td>7,667.00</td>\n",
       "      <td>6,368.16</td>\n",
       "      <td>-1,298.84</td>\n",
       "      <td>-16.94%</td>\n",
       "    </tr>\n",
       "    <tr>\n",
       "      <th>Stadium</th>\n",
       "      <td>1,731.00</td>\n",
       "      <td>520.70</td>\n",
       "      <td>-1,210.30</td>\n",
       "      <td>-69.92%</td>\n",
       "    </tr>\n",
       "    <tr>\n",
       "      <th>SODO</th>\n",
       "      <td>1,669.00</td>\n",
       "      <td>3,239.06</td>\n",
       "      <td>1,570.06</td>\n",
       "      <td>94.07%</td>\n",
       "    </tr>\n",
       "    <tr>\n",
       "      <th>Beacon Hill</th>\n",
       "      <td>2,147.00</td>\n",
       "      <td>1,025.06</td>\n",
       "      <td>-1,121.94</td>\n",
       "      <td>-52.26%</td>\n",
       "    </tr>\n",
       "    <tr>\n",
       "      <th>Mount Baker</th>\n",
       "      <td>1,861.00</td>\n",
       "      <td>1,223.83</td>\n",
       "      <td>-637.17</td>\n",
       "      <td>-34.24%</td>\n",
       "    </tr>\n",
       "    <tr>\n",
       "      <th>Columbia City</th>\n",
       "      <td>1,630.00</td>\n",
       "      <td>1,178.56</td>\n",
       "      <td>-451.44</td>\n",
       "      <td>-27.70%</td>\n",
       "    </tr>\n",
       "    <tr>\n",
       "      <th>Othello</th>\n",
       "      <td>2,030.00</td>\n",
       "      <td>1,359.22</td>\n",
       "      <td>-670.78</td>\n",
       "      <td>-33.04%</td>\n",
       "    </tr>\n",
       "    <tr>\n",
       "      <th>Rainier Beach</th>\n",
       "      <td>1,495.00</td>\n",
       "      <td>1,259.86</td>\n",
       "      <td>-235.14</td>\n",
       "      <td>-15.73%</td>\n",
       "    </tr>\n",
       "    <tr>\n",
       "      <th>Tukwila Int'l Blvd</th>\n",
       "      <td>2,298.00</td>\n",
       "      <td>1,863.39</td>\n",
       "      <td>-434.61</td>\n",
       "      <td>-18.91%</td>\n",
       "    </tr>\n",
       "    <tr>\n",
       "      <th>SeaTac/Airport</th>\n",
       "      <td>4,731.00</td>\n",
       "      <td>5,996.27</td>\n",
       "      <td>1,265.27</td>\n",
       "      <td>26.74%</td>\n",
       "    </tr>\n",
       "    <tr>\n",
       "      <th>Angle Lake</th>\n",
       "      <td>3,865.00</td>\n",
       "      <td>3,348.06</td>\n",
       "      <td>-516.94</td>\n",
       "      <td>-13.37%</td>\n",
       "    </tr>\n",
       "    <tr>\n",
       "      <th>University District Station</th>\n",
       "      <td>7,563.00</td>\n",
       "      <td>7,756.83</td>\n",
       "      <td>193.83</td>\n",
       "      <td>2.56%</td>\n",
       "    </tr>\n",
       "    <tr>\n",
       "      <th>Roosevelt Station</th>\n",
       "      <td>4,349.00</td>\n",
       "      <td>8,374.33</td>\n",
       "      <td>4,025.33</td>\n",
       "      <td>92.56%</td>\n",
       "    </tr>\n",
       "    <tr>\n",
       "      <th>Northgate Station</th>\n",
       "      <td>10,384.00</td>\n",
       "      <td>7,996.36</td>\n",
       "      <td>-2,387.64</td>\n",
       "      <td>-22.99%</td>\n",
       "    </tr>\n",
       "    <tr>\n",
       "      <th>Total</th>\n",
       "      <td>79,522.00</td>\n",
       "      <td>78,025.96</td>\n",
       "      <td>-1,496.04</td>\n",
       "      <td>-1.88%</td>\n",
       "    </tr>\n",
       "  </tbody>\n",
       "</table>\n",
       "</div>"
      ],
      "text/plain": [
       "                             observed_boardings  model_boardings      diff  \\\n",
       "station_name                                                                 \n",
       "Husky Stadium                          6,134.00         4,491.70 -1,642.30   \n",
       "Westlake                               8,845.00         9,101.61    256.61   \n",
       "University St                          4,324.00         6,093.94  1,769.94   \n",
       "Pioneer Square                         2,400.00         5,069.74  2,669.74   \n",
       "Int'l District                         4,399.00         1,759.27 -2,639.73   \n",
       "Capitol Hill                           7,667.00         6,368.16 -1,298.84   \n",
       "Stadium                                1,731.00           520.70 -1,210.30   \n",
       "SODO                                   1,669.00         3,239.06  1,570.06   \n",
       "Beacon Hill                            2,147.00         1,025.06 -1,121.94   \n",
       "Mount Baker                            1,861.00         1,223.83   -637.17   \n",
       "Columbia City                          1,630.00         1,178.56   -451.44   \n",
       "Othello                                2,030.00         1,359.22   -670.78   \n",
       "Rainier Beach                          1,495.00         1,259.86   -235.14   \n",
       "Tukwila Int'l Blvd                     2,298.00         1,863.39   -434.61   \n",
       "SeaTac/Airport                         4,731.00         5,996.27  1,265.27   \n",
       "Angle Lake                             3,865.00         3,348.06   -516.94   \n",
       "University District Station            7,563.00         7,756.83    193.83   \n",
       "Roosevelt Station                      4,349.00         8,374.33  4,025.33   \n",
       "Northgate Station                     10,384.00         7,996.36 -2,387.64   \n",
       "Total                                 79,522.00        78,025.96 -1,496.04   \n",
       "\n",
       "                            percent_diff  \n",
       "station_name                              \n",
       "Husky Stadium                    -26.77%  \n",
       "Westlake                           2.90%  \n",
       "University St                     40.93%  \n",
       "Pioneer Square                   111.24%  \n",
       "Int'l District                   -60.01%  \n",
       "Capitol Hill                     -16.94%  \n",
       "Stadium                          -69.92%  \n",
       "SODO                              94.07%  \n",
       "Beacon Hill                      -52.26%  \n",
       "Mount Baker                      -34.24%  \n",
       "Columbia City                    -27.70%  \n",
       "Othello                          -33.04%  \n",
       "Rainier Beach                    -15.73%  \n",
       "Tukwila Int'l Blvd               -18.91%  \n",
       "SeaTac/Airport                    26.74%  \n",
       "Angle Lake                       -13.37%  \n",
       "University District Station        2.56%  \n",
       "Roosevelt Station                 92.56%  \n",
       "Northgate Station                -22.99%  \n",
       "Total                             -1.88%  "
      ]
     },
     "execution_count": 13,
     "metadata": {},
     "output_type": "execute_result"
    }
   ],
   "source": [
    "df = pd.read_csv(os.path.join(csv_path,'light_rail_boardings.csv'), index_col='station_name')\n",
    "df['diff'] = df['model_boardings']-df['observed_boardings']\n",
    "df['percent_diff'] = df['diff']/df['observed_boardings']\n",
    "\n",
    "df_table = df.copy()\n",
    "df_table[['percent_diff']] = df_table[['percent_diff']].applymap(format_percent)\n",
    "df_table"
   ]
  },
  {
   "cell_type": "raw",
   "id": "3dafcff1da10b5e5",
   "metadata": {},
   "source": [
    "#### Sound Transit Station Groupings"
   ]
  },
  {
   "cell_type": "code",
   "execution_count": 14,
   "id": "7456ebeb8efd83d0",
   "metadata": {
    "ExecuteTime": {
     "end_time": "2024-06-24T20:06:06.901270Z",
     "start_time": "2024-06-24T20:06:06.830246Z"
    },
    "execution": {
     "iopub.execute_input": "2024-06-24T21:54:09.447700Z",
     "iopub.status.busy": "2024-06-24T21:54:09.447700Z",
     "iopub.status.idle": "2024-06-24T21:54:09.541805Z",
     "shell.execute_reply": "2024-06-24T21:54:09.541805Z"
    }
   },
   "outputs": [
    {
     "data": {
      "text/html": [
       "<div>\n",
       "<style scoped>\n",
       "    .dataframe tbody tr th:only-of-type {\n",
       "        vertical-align: middle;\n",
       "    }\n",
       "\n",
       "    .dataframe tbody tr th {\n",
       "        vertical-align: top;\n",
       "    }\n",
       "\n",
       "    .dataframe thead th {\n",
       "        text-align: right;\n",
       "    }\n",
       "</style>\n",
       "<table border=\"1\" class=\"dataframe\">\n",
       "  <thead>\n",
       "    <tr style=\"text-align: right;\">\n",
       "      <th></th>\n",
       "      <th>observed_boardings</th>\n",
       "      <th>model_boardings</th>\n",
       "      <th>diff</th>\n",
       "      <th>percent_diff</th>\n",
       "    </tr>\n",
       "    <tr>\n",
       "      <th>station_group</th>\n",
       "      <th></th>\n",
       "      <th></th>\n",
       "      <th></th>\n",
       "      <th></th>\n",
       "    </tr>\n",
       "  </thead>\n",
       "  <tbody>\n",
       "    <tr>\n",
       "      <th>Husky Stadium</th>\n",
       "      <td>6,134.00</td>\n",
       "      <td>4,491.70</td>\n",
       "      <td>-1,642.30</td>\n",
       "      <td>-26.77%</td>\n",
       "    </tr>\n",
       "    <tr>\n",
       "      <th>Capitol Hill</th>\n",
       "      <td>7,667.00</td>\n",
       "      <td>6,368.16</td>\n",
       "      <td>-1,298.84</td>\n",
       "      <td>-16.94%</td>\n",
       "    </tr>\n",
       "    <tr>\n",
       "      <th>Westlake/University St</th>\n",
       "      <td>13,169.00</td>\n",
       "      <td>15,195.55</td>\n",
       "      <td>2,026.55</td>\n",
       "      <td>15.39%</td>\n",
       "    </tr>\n",
       "    <tr>\n",
       "      <th>Pioneer Square/Int'l District</th>\n",
       "      <td>6,799.00</td>\n",
       "      <td>6,829.01</td>\n",
       "      <td>30.01</td>\n",
       "      <td>0.44%</td>\n",
       "    </tr>\n",
       "    <tr>\n",
       "      <th>Stadium/SODO</th>\n",
       "      <td>3,400.00</td>\n",
       "      <td>3,759.76</td>\n",
       "      <td>359.76</td>\n",
       "      <td>10.58%</td>\n",
       "    </tr>\n",
       "    <tr>\n",
       "      <th>Beacon Hill/Mount Baker</th>\n",
       "      <td>4,008.00</td>\n",
       "      <td>2,248.90</td>\n",
       "      <td>-1,759.10</td>\n",
       "      <td>-43.89%</td>\n",
       "    </tr>\n",
       "    <tr>\n",
       "      <th>Columbia City</th>\n",
       "      <td>1,630.00</td>\n",
       "      <td>1,178.56</td>\n",
       "      <td>-451.44</td>\n",
       "      <td>-27.70%</td>\n",
       "    </tr>\n",
       "    <tr>\n",
       "      <th>Othello/Rainier Beach</th>\n",
       "      <td>3,525.00</td>\n",
       "      <td>2,619.08</td>\n",
       "      <td>-905.92</td>\n",
       "      <td>-25.70%</td>\n",
       "    </tr>\n",
       "    <tr>\n",
       "      <th>Tukwila Int'l Blvd</th>\n",
       "      <td>2,298.00</td>\n",
       "      <td>1,863.39</td>\n",
       "      <td>-434.61</td>\n",
       "      <td>-18.91%</td>\n",
       "    </tr>\n",
       "    <tr>\n",
       "      <th>SeaTac/Airport</th>\n",
       "      <td>4,731.00</td>\n",
       "      <td>5,996.27</td>\n",
       "      <td>1,265.27</td>\n",
       "      <td>26.74%</td>\n",
       "    </tr>\n",
       "    <tr>\n",
       "      <th>Angle Lake</th>\n",
       "      <td>3,865.00</td>\n",
       "      <td>3,348.06</td>\n",
       "      <td>-516.94</td>\n",
       "      <td>-13.37%</td>\n",
       "    </tr>\n",
       "  </tbody>\n",
       "</table>\n",
       "</div>"
      ],
      "text/plain": [
       "                               observed_boardings  model_boardings      diff  \\\n",
       "station_group                                                                  \n",
       "Husky Stadium                            6,134.00         4,491.70 -1,642.30   \n",
       "Capitol Hill                             7,667.00         6,368.16 -1,298.84   \n",
       "Westlake/University St                  13,169.00        15,195.55  2,026.55   \n",
       "Pioneer Square/Int'l District            6,799.00         6,829.01     30.01   \n",
       "Stadium/SODO                             3,400.00         3,759.76    359.76   \n",
       "Beacon Hill/Mount Baker                  4,008.00         2,248.90 -1,759.10   \n",
       "Columbia City                            1,630.00         1,178.56   -451.44   \n",
       "Othello/Rainier Beach                    3,525.00         2,619.08   -905.92   \n",
       "Tukwila Int'l Blvd                       2,298.00         1,863.39   -434.61   \n",
       "SeaTac/Airport                           4,731.00         5,996.27  1,265.27   \n",
       "Angle Lake                               3,865.00         3,348.06   -516.94   \n",
       "\n",
       "                              percent_diff  \n",
       "station_group                               \n",
       "Husky Stadium                      -26.77%  \n",
       "Capitol Hill                       -16.94%  \n",
       "Westlake/University St              15.39%  \n",
       "Pioneer Square/Int'l District        0.44%  \n",
       "Stadium/SODO                        10.58%  \n",
       "Beacon Hill/Mount Baker            -43.89%  \n",
       "Columbia City                      -27.70%  \n",
       "Othello/Rainier Beach              -25.70%  \n",
       "Tukwila Int'l Blvd                 -18.91%  \n",
       "SeaTac/Airport                      26.74%  \n",
       "Angle Lake                         -13.37%  "
      ]
     },
     "execution_count": 14,
     "metadata": {},
     "output_type": "execute_result"
    }
   ],
   "source": [
    "df_combined = df.copy()\n",
    "\n",
    "df_combined['station_group'] = df.index\n",
    "df_combined.loc[['Westlake'],'station_group'] = 'Westlake/University St'\n",
    "df_combined.loc[['University St'],'station_group'] = 'Westlake/University St'\n",
    "\n",
    "df_combined.loc[['Pioneer Square'],'station_group'] = \"Pioneer Square/Int'l District\"\n",
    "df_combined.loc[[\"Int'l District\"],'station_group'] = \"Pioneer Square/Int'l District\"\n",
    "\n",
    "df_combined.loc[['Stadium'],'station_group'] = 'Stadium/SODO'\n",
    "df_combined.loc[['SODO'],'station_group'] = 'Stadium/SODO'\n",
    "\n",
    "df_combined.loc[['Beacon Hill'],'station_group'] = 'Beacon Hill/Mount Baker'\n",
    "df_combined.loc[['Mount Baker'],'station_group'] = 'Beacon Hill/Mount Baker'\n",
    "\n",
    "df_combined.loc[['Othello'],'station_group'] = 'Othello/Rainier Beach'\n",
    "df_combined.loc[['Rainier Beach'],'station_group'] = 'Othello/Rainier Beach'\n",
    "\n",
    "df_combined = df_combined.groupby('station_group').sum()[['observed_boardings','model_boardings']]\n",
    "df_combined['diff'] = df_combined['model_boardings']-df_combined['observed_boardings']\n",
    "df_combined['percent_diff'] = df_combined['diff']/df_combined['observed_boardings']\n",
    "df_combined[['percent_diff']] = df_combined[['percent_diff']].applymap(format_percent)\n",
    "\n",
    "df_combined.loc[['Husky Stadium','Capitol Hill','Westlake/University St',\"Pioneer Square/Int'l District\",\n",
    "                 'Stadium/SODO','Beacon Hill/Mount Baker','Columbia City','Othello/Rainier Beach',\n",
    "                 \"Tukwila Int'l Blvd\",'SeaTac/Airport','Angle Lake']]"
   ]
  },
  {
   "cell_type": "raw",
   "id": "f429de2d705b1e22",
   "metadata": {},
   "source": [
    ":::"
   ]
  },
  {
   "cell_type": "markdown",
   "id": "86996e48d6760252",
   "metadata": {},
   "source": [
    "### light rail stop transfers"
   ]
  },
  {
   "cell_type": "code",
   "execution_count": 15,
   "id": "4bd536d185354993",
   "metadata": {
    "ExecuteTime": {
     "end_time": "2024-06-24T20:06:14.325917Z",
     "start_time": "2024-06-24T20:06:14.279144Z"
    },
    "execution": {
     "iopub.execute_input": "2024-06-24T21:54:09.557431Z",
     "iopub.status.busy": "2024-06-24T21:54:09.557431Z",
     "iopub.status.idle": "2024-06-24T21:54:09.635689Z",
     "shell.execute_reply": "2024-06-24T21:54:09.635689Z"
    }
   },
   "outputs": [
    {
     "data": {
      "text/html": [
       "<div>\n",
       "<style scoped>\n",
       "    .dataframe tbody tr th:only-of-type {\n",
       "        vertical-align: middle;\n",
       "    }\n",
       "\n",
       "    .dataframe tbody tr th {\n",
       "        vertical-align: top;\n",
       "    }\n",
       "\n",
       "    .dataframe thead th {\n",
       "        text-align: right;\n",
       "    }\n",
       "</style>\n",
       "<table border=\"1\" class=\"dataframe\">\n",
       "  <thead>\n",
       "    <tr style=\"text-align: right;\">\n",
       "      <th></th>\n",
       "      <th>modeled_transfer_rate</th>\n",
       "      <th>observed_transfer_rate</th>\n",
       "      <th>diff</th>\n",
       "      <th>percent_diff</th>\n",
       "    </tr>\n",
       "    <tr>\n",
       "      <th>station_name</th>\n",
       "      <th></th>\n",
       "      <th></th>\n",
       "      <th></th>\n",
       "      <th></th>\n",
       "    </tr>\n",
       "  </thead>\n",
       "  <tbody>\n",
       "    <tr>\n",
       "      <th>Husky Stadium</th>\n",
       "      <td>0.92</td>\n",
       "      <td>-99.00</td>\n",
       "      <td>99.92</td>\n",
       "      <td>-100.92%</td>\n",
       "    </tr>\n",
       "    <tr>\n",
       "      <th>Westlake</th>\n",
       "      <td>0.16</td>\n",
       "      <td>0.36</td>\n",
       "      <td>-0.20</td>\n",
       "      <td>-55.05%</td>\n",
       "    </tr>\n",
       "    <tr>\n",
       "      <th>University St</th>\n",
       "      <td>0.27</td>\n",
       "      <td>0.20</td>\n",
       "      <td>0.07</td>\n",
       "      <td>33.13%</td>\n",
       "    </tr>\n",
       "    <tr>\n",
       "      <th>Pioneer Square</th>\n",
       "      <td>0.43</td>\n",
       "      <td>0.16</td>\n",
       "      <td>0.27</td>\n",
       "      <td>171.29%</td>\n",
       "    </tr>\n",
       "    <tr>\n",
       "      <th>Int'l District</th>\n",
       "      <td>0.65</td>\n",
       "      <td>0.45</td>\n",
       "      <td>0.20</td>\n",
       "      <td>43.39%</td>\n",
       "    </tr>\n",
       "    <tr>\n",
       "      <th>Capitol Hill</th>\n",
       "      <td>0.07</td>\n",
       "      <td>-99.00</td>\n",
       "      <td>99.07</td>\n",
       "      <td>-100.07%</td>\n",
       "    </tr>\n",
       "    <tr>\n",
       "      <th>Stadium</th>\n",
       "      <td>0.26</td>\n",
       "      <td>0.12</td>\n",
       "      <td>0.14</td>\n",
       "      <td>119.87%</td>\n",
       "    </tr>\n",
       "    <tr>\n",
       "      <th>SODO</th>\n",
       "      <td>0.56</td>\n",
       "      <td>0.31</td>\n",
       "      <td>0.25</td>\n",
       "      <td>78.64%</td>\n",
       "    </tr>\n",
       "    <tr>\n",
       "      <th>Beacon Hill</th>\n",
       "      <td>0.36</td>\n",
       "      <td>0.35</td>\n",
       "      <td>0.01</td>\n",
       "      <td>1.80%</td>\n",
       "    </tr>\n",
       "    <tr>\n",
       "      <th>Mount Baker</th>\n",
       "      <td>0.46</td>\n",
       "      <td>0.32</td>\n",
       "      <td>0.13</td>\n",
       "      <td>40.51%</td>\n",
       "    </tr>\n",
       "    <tr>\n",
       "      <th>Columbia City</th>\n",
       "      <td>0.02</td>\n",
       "      <td>0.12</td>\n",
       "      <td>-0.10</td>\n",
       "      <td>-82.28%</td>\n",
       "    </tr>\n",
       "    <tr>\n",
       "      <th>Othello</th>\n",
       "      <td>0.07</td>\n",
       "      <td>0.12</td>\n",
       "      <td>-0.05</td>\n",
       "      <td>-40.53%</td>\n",
       "    </tr>\n",
       "    <tr>\n",
       "      <th>Rainier Beach</th>\n",
       "      <td>0.39</td>\n",
       "      <td>0.36</td>\n",
       "      <td>0.03</td>\n",
       "      <td>7.73%</td>\n",
       "    </tr>\n",
       "    <tr>\n",
       "      <th>Tukwila Int'l Blvd</th>\n",
       "      <td>0.55</td>\n",
       "      <td>0.26</td>\n",
       "      <td>0.29</td>\n",
       "      <td>108.75%</td>\n",
       "    </tr>\n",
       "    <tr>\n",
       "      <th>SeaTac/Airport</th>\n",
       "      <td>0.14</td>\n",
       "      <td>0.26</td>\n",
       "      <td>-0.12</td>\n",
       "      <td>-46.69%</td>\n",
       "    </tr>\n",
       "    <tr>\n",
       "      <th>Angle Lake</th>\n",
       "      <td>0.34</td>\n",
       "      <td>-99.00</td>\n",
       "      <td>99.34</td>\n",
       "      <td>-100.34%</td>\n",
       "    </tr>\n",
       "    <tr>\n",
       "      <th>University District Station</th>\n",
       "      <td>0.18</td>\n",
       "      <td>-99.00</td>\n",
       "      <td>99.18</td>\n",
       "      <td>-100.18%</td>\n",
       "    </tr>\n",
       "    <tr>\n",
       "      <th>Roosevelt Station</th>\n",
       "      <td>0.48</td>\n",
       "      <td>-99.00</td>\n",
       "      <td>99.48</td>\n",
       "      <td>-100.49%</td>\n",
       "    </tr>\n",
       "    <tr>\n",
       "      <th>Northgate Station</th>\n",
       "      <td>0.84</td>\n",
       "      <td>-99.00</td>\n",
       "      <td>99.84</td>\n",
       "      <td>-100.85%</td>\n",
       "    </tr>\n",
       "  </tbody>\n",
       "</table>\n",
       "</div>"
      ],
      "text/plain": [
       "                             modeled_transfer_rate  observed_transfer_rate  \\\n",
       "station_name                                                                 \n",
       "Husky Stadium                                 0.92                  -99.00   \n",
       "Westlake                                      0.16                    0.36   \n",
       "University St                                 0.27                    0.20   \n",
       "Pioneer Square                                0.43                    0.16   \n",
       "Int'l District                                0.65                    0.45   \n",
       "Capitol Hill                                  0.07                  -99.00   \n",
       "Stadium                                       0.26                    0.12   \n",
       "SODO                                          0.56                    0.31   \n",
       "Beacon Hill                                   0.36                    0.35   \n",
       "Mount Baker                                   0.46                    0.32   \n",
       "Columbia City                                 0.02                    0.12   \n",
       "Othello                                       0.07                    0.12   \n",
       "Rainier Beach                                 0.39                    0.36   \n",
       "Tukwila Int'l Blvd                            0.55                    0.26   \n",
       "SeaTac/Airport                                0.14                    0.26   \n",
       "Angle Lake                                    0.34                  -99.00   \n",
       "University District Station                   0.18                  -99.00   \n",
       "Roosevelt Station                             0.48                  -99.00   \n",
       "Northgate Station                             0.84                  -99.00   \n",
       "\n",
       "                             diff percent_diff  \n",
       "station_name                                    \n",
       "Husky Stadium               99.92     -100.92%  \n",
       "Westlake                    -0.20      -55.05%  \n",
       "University St                0.07       33.13%  \n",
       "Pioneer Square               0.27      171.29%  \n",
       "Int'l District               0.20       43.39%  \n",
       "Capitol Hill                99.07     -100.07%  \n",
       "Stadium                      0.14      119.87%  \n",
       "SODO                         0.25       78.64%  \n",
       "Beacon Hill                  0.01        1.80%  \n",
       "Mount Baker                  0.13       40.51%  \n",
       "Columbia City               -0.10      -82.28%  \n",
       "Othello                     -0.05      -40.53%  \n",
       "Rainier Beach                0.03        7.73%  \n",
       "Tukwila Int'l Blvd           0.29      108.75%  \n",
       "SeaTac/Airport              -0.12      -46.69%  \n",
       "Angle Lake                  99.34     -100.34%  \n",
       "University District Station 99.18     -100.18%  \n",
       "Roosevelt Station           99.48     -100.49%  \n",
       "Northgate Station           99.84     -100.85%  "
      ]
     },
     "execution_count": 15,
     "metadata": {},
     "output_type": "execute_result"
    }
   ],
   "source": [
    "df = pd.read_csv(os.path.join(csv_path,'light_rail_transfers.csv'), index_col='station_name')\n",
    "df[['percent_diff']] = df[['percent_diff']].applymap(format_percent)\n",
    "df"
   ]
  }
 ],
 "metadata": {
  "kernelspec": {
   "display_name": "Python 3",
   "language": "python",
   "name": "python3"
  },
  "language_info": {
   "codemirror_mode": {
    "name": "ipython",
    "version": 3
   },
   "file_extension": ".py",
   "mimetype": "text/x-python",
   "name": "python",
   "nbconvert_exporter": "python",
   "pygments_lexer": "ipython3",
   "version": "3.7.10"
  }
 },
 "nbformat": 4,
 "nbformat_minor": 5
}
