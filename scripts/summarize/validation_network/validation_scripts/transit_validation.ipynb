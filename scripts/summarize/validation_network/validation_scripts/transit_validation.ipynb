{
 "cells": [
  {
   "cell_type": "raw",
   "id": "48597e7e80043434",
   "metadata": {},
   "source": [
    "---\n",
    "title: \"Transit Summary\"\n",
    "date: today\n",
    "---"
   ]
  },
  {
   "cell_type": "code",
   "execution_count": 1,
   "id": "3c1a81e12086b602",
   "metadata": {
    "ExecuteTime": {
     "end_time": "2024-06-24T20:05:20.341638Z",
     "start_time": "2024-06-24T20:05:20.232835Z"
    },
    "execution": {
     "iopub.execute_input": "2024-06-24T21:54:00.036541Z",
     "iopub.status.busy": "2024-06-24T21:54:00.036541Z",
     "iopub.status.idle": "2024-06-24T21:54:04.760522Z",
     "shell.execute_reply": "2024-06-24T21:54:04.760522Z"
    }
   },
   "outputs": [],
   "source": [
    "import os\n",
    "import pandas as pd\n",
    "import numpy as np\n",
    "from sqlalchemy import create_engine\n",
    "from scipy import stats\n",
    "import plotly.express as px\n",
    "import toml\n",
    "import psrc_theme\n",
    "\n",
    "%matplotlib inline\n",
    "from IPython.display import display, HTML\n",
    "\n",
    "# to show plotly figures in quarto HTML file\n",
    "import plotly.io as pio\n",
    "pio.renderers.default = \"plotly_mimetype+notebook_connected\"\n",
    "pio.templates.default = \"simple_white+psrc_color\" # set plotly template\n",
    "\n",
    "input_config = toml.load(os.path.join(os.getcwd(), '..\\\\..\\\\..\\\\..\\\\configuration', 'input_configuration.toml'))\n",
    "valid_config = toml.load(os.path.join(os.getcwd(), '..\\\\..\\\\..\\\\..\\\\configuration', 'validation_configuration.toml'))\n",
    "\n",
    "# create connection\n",
    "conn = create_engine('sqlite:///inputs/db/'+input_config['db_name'])\n",
    "\n",
    "# summary data location\n",
    "csv_path = os.path.join(valid_config['model_dir'], 'outputs/validation')\n",
    "\n",
    "# table format\n",
    "pd.options.display.float_format = '{:0,.2f}'.format\n",
    "format_percent = \"{:,.2%}\".format"
   ]
  },
  {
   "cell_type": "markdown",
   "id": "b00095bdf12d94c3",
   "metadata": {},
   "source": [
    "## transit boarding"
   ]
  },
  {
   "cell_type": "markdown",
   "id": "b0eb0b3986c9d024",
   "metadata": {},
   "source": [
    "### boarding by agency"
   ]
  },
  {
   "cell_type": "code",
   "execution_count": 2,
   "id": "daca8798e4e1c396",
   "metadata": {
    "ExecuteTime": {
     "end_time": "2024-06-24T20:04:29.076584Z",
     "start_time": "2024-06-24T20:04:29.029595Z"
    },
    "execution": {
     "iopub.execute_input": "2024-06-24T21:54:04.763531Z",
     "iopub.status.busy": "2024-06-24T21:54:04.763531Z",
     "iopub.status.idle": "2024-06-24T21:54:04.838812Z",
     "shell.execute_reply": "2024-06-24T21:54:04.838812Z"
    }
   },
   "outputs": [],
   "source": [
    "df = pd.read_csv(os.path.join(csv_path, 'daily_boardings_by_agency.csv')).sort_values('observed_boardings', ascending=False)\n",
    "plot_df = df.melt(id_vars=['agency'], value_vars=['observed_boardings', 'model_boardings'],\n",
    "                  var_name='source', value_name='count')"
   ]
  },
  {
   "cell_type": "code",
   "execution_count": 3,
   "id": "4f0d5527b7528301",
   "metadata": {
    "ExecuteTime": {
     "end_time": "2024-06-24T20:05:24.997972Z",
     "start_time": "2024-06-24T20:05:24.956972Z"
    },
    "execution": {
     "iopub.execute_input": "2024-06-24T21:54:04.854389Z",
     "iopub.status.busy": "2024-06-24T21:54:04.854389Z",
     "iopub.status.idle": "2024-06-24T21:54:04.947796Z",
     "shell.execute_reply": "2024-06-24T21:54:04.947796Z"
    }
   },
   "outputs": [
    {
     "data": {
      "text/html": [
       "<div>\n",
       "<style scoped>\n",
       "    .dataframe tbody tr th:only-of-type {\n",
       "        vertical-align: middle;\n",
       "    }\n",
       "\n",
       "    .dataframe tbody tr th {\n",
       "        vertical-align: top;\n",
       "    }\n",
       "\n",
       "    .dataframe thead th {\n",
       "        text-align: right;\n",
       "    }\n",
       "</style>\n",
       "<table border=\"1\" class=\"dataframe\">\n",
       "  <thead>\n",
       "    <tr style=\"text-align: right;\">\n",
       "      <th></th>\n",
       "      <th>agency</th>\n",
       "      <th>observed_boardings</th>\n",
       "      <th>model_boardings</th>\n",
       "      <th>diff</th>\n",
       "      <th>perc_diff</th>\n",
       "    </tr>\n",
       "  </thead>\n",
       "  <tbody>\n",
       "    <tr>\n",
       "      <th>2</th>\n",
       "      <td>King County Metro</td>\n",
       "      <td>253,313.62</td>\n",
       "      <td>288,750.87</td>\n",
       "      <td>35,437.25</td>\n",
       "      <td>13.99%</td>\n",
       "    </tr>\n",
       "    <tr>\n",
       "      <th>5</th>\n",
       "      <td>Sound Transit</td>\n",
       "      <td>113,374.00</td>\n",
       "      <td>126,233.62</td>\n",
       "      <td>12,859.62</td>\n",
       "      <td>11.34%</td>\n",
       "    </tr>\n",
       "    <tr>\n",
       "      <th>0</th>\n",
       "      <td>Community Transit</td>\n",
       "      <td>25,962.00</td>\n",
       "      <td>20,876.15</td>\n",
       "      <td>-5,085.85</td>\n",
       "      <td>-19.59%</td>\n",
       "    </tr>\n",
       "    <tr>\n",
       "      <th>4</th>\n",
       "      <td>Pierce Transit</td>\n",
       "      <td>21,185.00</td>\n",
       "      <td>16,689.78</td>\n",
       "      <td>-4,495.22</td>\n",
       "      <td>-21.22%</td>\n",
       "    </tr>\n",
       "    <tr>\n",
       "      <th>6</th>\n",
       "      <td>Washington Ferries</td>\n",
       "      <td>9,278.21</td>\n",
       "      <td>8,406.43</td>\n",
       "      <td>-871.78</td>\n",
       "      <td>-9.40%</td>\n",
       "    </tr>\n",
       "    <tr>\n",
       "      <th>3</th>\n",
       "      <td>Kitsap Transit</td>\n",
       "      <td>7,789.00</td>\n",
       "      <td>33,140.07</td>\n",
       "      <td>25,351.07</td>\n",
       "      <td>325.47%</td>\n",
       "    </tr>\n",
       "    <tr>\n",
       "      <th>1</th>\n",
       "      <td>Everett Transit</td>\n",
       "      <td>4,201.00</td>\n",
       "      <td>2,452.87</td>\n",
       "      <td>-1,748.13</td>\n",
       "      <td>-41.61%</td>\n",
       "    </tr>\n",
       "  </tbody>\n",
       "</table>\n",
       "</div>"
      ],
      "text/plain": [
       "               agency  observed_boardings  model_boardings      diff perc_diff\n",
       "2   King County Metro          253,313.62       288,750.87 35,437.25    13.99%\n",
       "5       Sound Transit          113,374.00       126,233.62 12,859.62    11.34%\n",
       "0   Community Transit           25,962.00        20,876.15 -5,085.85   -19.59%\n",
       "4      Pierce Transit           21,185.00        16,689.78 -4,495.22   -21.22%\n",
       "6  Washington Ferries            9,278.21         8,406.43   -871.78    -9.40%\n",
       "3      Kitsap Transit            7,789.00        33,140.07 25,351.07   325.47%\n",
       "1     Everett Transit            4,201.00         2,452.87 -1,748.13   -41.61%"
      ]
     },
     "execution_count": 3,
     "metadata": {},
     "output_type": "execute_result"
    }
   ],
   "source": [
    "table_df = df.copy()\n",
    "table_df[['observed_boardings','model_boardings','diff']] = table_df[['observed_boardings','model_boardings','diff']].astype('float')\n",
    "table_df[['perc_diff']] = table_df[['perc_diff']].applymap(format_percent)\n",
    "table_df"
   ]
  },
  {
   "cell_type": "code",
   "execution_count": 4,
   "id": "6df663cd30d914ea",
   "metadata": {
    "ExecuteTime": {
     "end_time": "2024-06-24T17:50:27.521549Z",
     "start_time": "2024-06-24T17:50:27.349538Z"
    },
    "execution": {
     "iopub.execute_input": "2024-06-24T21:54:04.963484Z",
     "iopub.status.busy": "2024-06-24T21:54:04.963484Z",
     "iopub.status.idle": "2024-06-24T21:54:05.624234Z",
     "shell.execute_reply": "2024-06-24T21:54:05.624234Z"
    }
   },
   "outputs": [],
   "source": [
    "# fig = px.bar(plot_df.sort_values('source'), x=\"agency\", y=\"count\",\n",
    "#              color=\"source\", barmode=\"group\",\n",
    "#              title=\"transit boardings by agency\")\n",
    "# fig.update_layout(height=400, width=700, font=dict(size=11),\n",
    "#                   yaxis_tickformat = '.2f')\n",
    "# fig.show()"
   ]
  },
  {
   "cell_type": "markdown",
   "id": "10436e8bdd112348",
   "metadata": {},
   "source": [
    "### boarding by key route"
   ]
  },
  {
   "cell_type": "raw",
   "id": "7d0d62e3693265f8",
   "metadata": {},
   "source": [
    ":::{.panel-tabset}\n",
    "#### ferry"
   ]
  },
  {
   "cell_type": "code",
   "execution_count": 5,
   "id": "75118f994b2c8118",
   "metadata": {
    "ExecuteTime": {
     "end_time": "2024-06-24T20:05:33.107476Z",
     "start_time": "2024-06-24T20:05:33.044901Z"
    },
    "execution": {
     "iopub.execute_input": "2024-06-24T21:54:05.635341Z",
     "iopub.status.busy": "2024-06-24T21:54:05.635341Z",
     "iopub.status.idle": "2024-06-24T21:54:05.765503Z",
     "shell.execute_reply": "2024-06-24T21:54:05.765503Z"
    }
   },
   "outputs": [
    {
     "data": {
      "text/html": [
       "<div>\n",
       "<style scoped>\n",
       "    .dataframe tbody tr th:only-of-type {\n",
       "        vertical-align: middle;\n",
       "    }\n",
       "\n",
       "    .dataframe tbody tr th {\n",
       "        vertical-align: top;\n",
       "    }\n",
       "\n",
       "    .dataframe thead th {\n",
       "        text-align: right;\n",
       "    }\n",
       "</style>\n",
       "<table border=\"1\" class=\"dataframe\">\n",
       "  <thead>\n",
       "    <tr style=\"text-align: right;\">\n",
       "      <th></th>\n",
       "      <th>description</th>\n",
       "      <th>observed_boardings</th>\n",
       "      <th>model_boardings</th>\n",
       "      <th>diff</th>\n",
       "      <th>perc_diff</th>\n",
       "    </tr>\n",
       "  </thead>\n",
       "  <tbody>\n",
       "    <tr>\n",
       "      <th>0</th>\n",
       "      <td>973 W Sea Water Taxi</td>\n",
       "      <td>759.00</td>\n",
       "      <td>902.60</td>\n",
       "      <td>143.60</td>\n",
       "      <td>18.92%</td>\n",
       "    </tr>\n",
       "    <tr>\n",
       "      <th>1</th>\n",
       "      <td>975 Vashn Water Taxi</td>\n",
       "      <td>338.00</td>\n",
       "      <td>817.41</td>\n",
       "      <td>479.41</td>\n",
       "      <td>141.84%</td>\n",
       "    </tr>\n",
       "    <tr>\n",
       "      <th>2</th>\n",
       "      <td>WSF Edmonds-Kingston</td>\n",
       "      <td>1,500.13</td>\n",
       "      <td>228.96</td>\n",
       "      <td>-1,271.18</td>\n",
       "      <td>-84.74%</td>\n",
       "    </tr>\n",
       "    <tr>\n",
       "      <th>3</th>\n",
       "      <td>WSF Seattle-Bain Isl</td>\n",
       "      <td>5,513.69</td>\n",
       "      <td>5,655.27</td>\n",
       "      <td>141.58</td>\n",
       "      <td>2.57%</td>\n",
       "    </tr>\n",
       "    <tr>\n",
       "      <th>4</th>\n",
       "      <td>WSF Seattle-Brem</td>\n",
       "      <td>1,188.97</td>\n",
       "      <td>344.32</td>\n",
       "      <td>-844.65</td>\n",
       "      <td>-71.04%</td>\n",
       "    </tr>\n",
       "    <tr>\n",
       "      <th>5</th>\n",
       "      <td>WSF Fauntleroy-Swrth</td>\n",
       "      <td>142.56</td>\n",
       "      <td>519.96</td>\n",
       "      <td>377.40</td>\n",
       "      <td>264.73%</td>\n",
       "    </tr>\n",
       "    <tr>\n",
       "      <th>6</th>\n",
       "      <td>WSF Fauntleroy-Vashn</td>\n",
       "      <td>560.04</td>\n",
       "      <td>1,422.47</td>\n",
       "      <td>862.42</td>\n",
       "      <td>153.99%</td>\n",
       "    </tr>\n",
       "    <tr>\n",
       "      <th>7</th>\n",
       "      <td>WSF Vashon-Southwrth</td>\n",
       "      <td>107.76</td>\n",
       "      <td>95.33</td>\n",
       "      <td>-12.43</td>\n",
       "      <td>-11.54%</td>\n",
       "    </tr>\n",
       "    <tr>\n",
       "      <th>8</th>\n",
       "      <td>WSF Pt Def-Tahlequah</td>\n",
       "      <td>265.05</td>\n",
       "      <td>140.12</td>\n",
       "      <td>-124.93</td>\n",
       "      <td>-47.13%</td>\n",
       "    </tr>\n",
       "  </tbody>\n",
       "</table>\n",
       "</div>"
      ],
      "text/plain": [
       "            description  observed_boardings  model_boardings      diff  \\\n",
       "0  973 W Sea Water Taxi              759.00           902.60    143.60   \n",
       "1  975 Vashn Water Taxi              338.00           817.41    479.41   \n",
       "2  WSF Edmonds-Kingston            1,500.13           228.96 -1,271.18   \n",
       "3  WSF Seattle-Bain Isl            5,513.69         5,655.27    141.58   \n",
       "4      WSF Seattle-Brem            1,188.97           344.32   -844.65   \n",
       "5  WSF Fauntleroy-Swrth              142.56           519.96    377.40   \n",
       "6  WSF Fauntleroy-Vashn              560.04         1,422.47    862.42   \n",
       "7  WSF Vashon-Southwrth              107.76            95.33    -12.43   \n",
       "8  WSF Pt Def-Tahlequah              265.05           140.12   -124.93   \n",
       "\n",
       "  perc_diff  \n",
       "0    18.92%  \n",
       "1   141.84%  \n",
       "2   -84.74%  \n",
       "3     2.57%  \n",
       "4   -71.04%  \n",
       "5   264.73%  \n",
       "6   153.99%  \n",
       "7   -11.54%  \n",
       "8   -47.13%  "
      ]
     },
     "execution_count": 5,
     "metadata": {},
     "output_type": "execute_result"
    }
   ],
   "source": [
    "df_boarding_key = pd.read_csv(os.path.join(csv_path,'daily_boardings_key_routes.csv'), index_col='description')\n",
    "df_boarding_key[['observed_boardings','model_boardings']] = df_boarding_key[['observed_boardings','model_boardings']].astype('float')\n",
    "\n",
    "df = df_boarding_key[df_boarding_key['route_code'].isin([5001,5002,5003,5004,5005,5006,5007,1973,1975])].reset_index()\n",
    "df.drop(['route_code','agency'], axis=1, inplace=True)\n",
    "\n",
    "df_table = df.copy()\n",
    "df_table[['perc_diff']] = df_table[['perc_diff']].applymap(format_percent)\n",
    "df_table"
   ]
  },
  {
   "cell_type": "code",
   "execution_count": 6,
   "id": "67bf06d211cca3c6",
   "metadata": {
    "ExecuteTime": {
     "end_time": "2024-06-24T19:41:04.985397Z",
     "start_time": "2024-06-24T19:41:04.798158Z"
    },
    "execution": {
     "iopub.execute_input": "2024-06-24T21:54:05.775515Z",
     "iopub.status.busy": "2024-06-24T21:54:05.775515Z",
     "iopub.status.idle": "2024-06-24T21:54:06.260397Z",
     "shell.execute_reply": "2024-06-24T21:54:06.260397Z"
    }
   },
   "outputs": [
    {
     "name": "stdout",
     "output_type": "stream",
     "text": [
      "r^2 : 0.9272190340207095\n"
     ]
    },
    {
     "data": {
      "image/png": "[encoded data removed]",
      "text/plain": [
       "<Figure size 432x288 with 1 Axes>"
      ]
     },
     "metadata": {
      "needs_background": "light"
     },
     "output_type": "display_data"
    }
   ],
   "source": [
    "if len(df) > 0:\n",
    "    ax = df.plot(kind='scatter', x='observed_boardings', y='model_boardings')\n",
    "    lim = df[['observed_boardings','model_boardings']].max().max()*1.05\n",
    "    ax.set_ylim(0,lim)\n",
    "    ax.set_xlim(0,lim)\n",
    "    x = np.linspace(*ax.get_xlim())\n",
    "    ax.plot(x, x)\n",
    "    slope, intercept, r_value, p_value, std_err = stats.linregress(df['observed_boardings'],df['model_boardings'])\n",
    "    print('r^2 ' + str('') + ': ' + str(r_value))"
   ]
  },
  {
   "cell_type": "markdown",
   "id": "8bf9f5778ee290d6",
   "metadata": {},
   "source": [
    "##### bikes on ferry"
   ]
  },
  {
   "cell_type": "code",
   "execution_count": 7,
   "id": "693dd2ccc9b68311",
   "metadata": {
    "ExecuteTime": {
     "end_time": "2024-06-24T20:05:41.122932Z",
     "start_time": "2024-06-24T20:05:41.060989Z"
    },
    "execution": {
     "iopub.execute_input": "2024-06-24T21:54:06.276671Z",
     "iopub.status.busy": "2024-06-24T21:54:06.276671Z",
     "iopub.status.idle": "2024-06-24T21:54:06.354426Z",
     "shell.execute_reply": "2024-06-24T21:54:06.354426Z"
    }
   },
   "outputs": [
    {
     "data": {
      "text/html": [
       "<div>\n",
       "<style scoped>\n",
       "    .dataframe tbody tr th:only-of-type {\n",
       "        vertical-align: middle;\n",
       "    }\n",
       "\n",
       "    .dataframe tbody tr th {\n",
       "        vertical-align: top;\n",
       "    }\n",
       "\n",
       "    .dataframe thead th {\n",
       "        text-align: right;\n",
       "    }\n",
       "</style>\n",
       "<table border=\"1\" class=\"dataframe\">\n",
       "  <thead>\n",
       "    <tr style=\"text-align: right;\">\n",
       "      <th></th>\n",
       "      <th>route_code</th>\n",
       "      <th>description</th>\n",
       "      <th>@bvol</th>\n",
       "    </tr>\n",
       "  </thead>\n",
       "  <tbody>\n",
       "    <tr>\n",
       "      <th>4</th>\n",
       "      <td>4203</td>\n",
       "      <td>Seattle-Kingston FF</td>\n",
       "      <td>722.50</td>\n",
       "    </tr>\n",
       "    <tr>\n",
       "      <th>2</th>\n",
       "      <td>4200</td>\n",
       "      <td>Seattle-Bremerton FF</td>\n",
       "      <td>419.80</td>\n",
       "    </tr>\n",
       "    <tr>\n",
       "      <th>3</th>\n",
       "      <td>4201</td>\n",
       "      <td>Brem-Pt Orchard FF</td>\n",
       "      <td>411.70</td>\n",
       "    </tr>\n",
       "    <tr>\n",
       "      <th>0</th>\n",
       "      <td>1973</td>\n",
       "      <td>973 W Sea Water Taxi</td>\n",
       "      <td>279.10</td>\n",
       "    </tr>\n",
       "    <tr>\n",
       "      <th>1</th>\n",
       "      <td>1975</td>\n",
       "      <td>975 Vashn Water Taxi</td>\n",
       "      <td>147.10</td>\n",
       "    </tr>\n",
       "    <tr>\n",
       "      <th>7</th>\n",
       "      <td>5002</td>\n",
       "      <td>WSF Seattle-Bain Isl</td>\n",
       "      <td>102.40</td>\n",
       "    </tr>\n",
       "    <tr>\n",
       "      <th>11</th>\n",
       "      <td>5007</td>\n",
       "      <td>WSF Pt Def-Tahlequah</td>\n",
       "      <td>65.00</td>\n",
       "    </tr>\n",
       "    <tr>\n",
       "      <th>10</th>\n",
       "      <td>5005</td>\n",
       "      <td>WSF Fauntleroy-Vashn</td>\n",
       "      <td>61.20</td>\n",
       "    </tr>\n",
       "    <tr>\n",
       "      <th>9</th>\n",
       "      <td>5004</td>\n",
       "      <td>WSF Fauntleroy-Swrth</td>\n",
       "      <td>32.20</td>\n",
       "    </tr>\n",
       "    <tr>\n",
       "      <th>8</th>\n",
       "      <td>5003</td>\n",
       "      <td>WSF Seattle-Brem</td>\n",
       "      <td>20.00</td>\n",
       "    </tr>\n",
       "    <tr>\n",
       "      <th>6</th>\n",
       "      <td>5001</td>\n",
       "      <td>WSF Edmonds-Kingston</td>\n",
       "      <td>19.00</td>\n",
       "    </tr>\n",
       "    <tr>\n",
       "      <th>5</th>\n",
       "      <td>4204</td>\n",
       "      <td>Seattle-Southwrth FF</td>\n",
       "      <td>12.00</td>\n",
       "    </tr>\n",
       "  </tbody>\n",
       "</table>\n",
       "</div>"
      ],
      "text/plain": [
       "    route_code           description  @bvol\n",
       "4         4203   Seattle-Kingston FF 722.50\n",
       "2         4200  Seattle-Bremerton FF 419.80\n",
       "3         4201    Brem-Pt Orchard FF 411.70\n",
       "0         1973  973 W Sea Water Taxi 279.10\n",
       "1         1975  975 Vashn Water Taxi 147.10\n",
       "7         5002  WSF Seattle-Bain Isl 102.40\n",
       "11        5007  WSF Pt Def-Tahlequah  65.00\n",
       "10        5005  WSF Fauntleroy-Vashn  61.20\n",
       "9         5004  WSF Fauntleroy-Swrth  32.20\n",
       "8         5003      WSF Seattle-Brem  20.00\n",
       "6         5001  WSF Edmonds-Kingston  19.00\n",
       "5         4204  Seattle-Southwrth FF  12.00"
      ]
     },
     "execution_count": 7,
     "metadata": {},
     "output_type": "execute_result"
    }
   ],
   "source": [
    "df = pd.read_csv(os.path.join(csv_path,'bike_ferry_boardings.csv')).sort_values('@bvol', ascending=False)\n",
    "df['route_code'] = df['route_code'].astype('int')\n",
    "df[['route_code','description', '@bvol']]"
   ]
  },
  {
   "cell_type": "raw",
   "id": "14db883222970442",
   "metadata": {},
   "source": [
    "#### rail"
   ]
  },
  {
   "cell_type": "code",
   "execution_count": 8,
   "id": "c9adf289ac66da8",
   "metadata": {
    "ExecuteTime": {
     "end_time": "2024-06-24T20:05:45.826421Z",
     "start_time": "2024-06-24T20:05:45.779797Z"
    },
    "execution": {
     "iopub.execute_input": "2024-06-24T21:54:06.370167Z",
     "iopub.status.busy": "2024-06-24T21:54:06.370167Z",
     "iopub.status.idle": "2024-06-24T21:54:06.416576Z",
     "shell.execute_reply": "2024-06-24T21:54:06.416576Z"
    }
   },
   "outputs": [
    {
     "data": {
      "text/html": [
       "<div>\n",
       "<style scoped>\n",
       "    .dataframe tbody tr th:only-of-type {\n",
       "        vertical-align: middle;\n",
       "    }\n",
       "\n",
       "    .dataframe tbody tr th {\n",
       "        vertical-align: top;\n",
       "    }\n",
       "\n",
       "    .dataframe thead th {\n",
       "        text-align: right;\n",
       "    }\n",
       "</style>\n",
       "<table border=\"1\" class=\"dataframe\">\n",
       "  <thead>\n",
       "    <tr style=\"text-align: right;\">\n",
       "      <th></th>\n",
       "      <th>description</th>\n",
       "      <th>observed_boardings</th>\n",
       "      <th>model_boardings</th>\n",
       "      <th>diff</th>\n",
       "      <th>perc_diff</th>\n",
       "    </tr>\n",
       "  </thead>\n",
       "  <tbody>\n",
       "    <tr>\n",
       "      <th>0</th>\n",
       "      <td>Link Red Line</td>\n",
       "      <td>79,522.00</td>\n",
       "      <td>61,173.82</td>\n",
       "      <td>-18,348.18</td>\n",
       "      <td>-23.07%</td>\n",
       "    </tr>\n",
       "    <tr>\n",
       "      <th>1</th>\n",
       "      <td>Sounder South</td>\n",
       "      <td>6,038.00</td>\n",
       "      <td>9,410.46</td>\n",
       "      <td>3,372.46</td>\n",
       "      <td>55.85%</td>\n",
       "    </tr>\n",
       "    <tr>\n",
       "      <th>2</th>\n",
       "      <td>Sounder North</td>\n",
       "      <td>316.00</td>\n",
       "      <td>13.86</td>\n",
       "      <td>-302.14</td>\n",
       "      <td>-95.61%</td>\n",
       "    </tr>\n",
       "  </tbody>\n",
       "</table>\n",
       "</div>"
      ],
      "text/plain": [
       "     description  observed_boardings  model_boardings       diff perc_diff\n",
       "0  Link Red Line           79,522.00        61,173.82 -18,348.18   -23.07%\n",
       "1  Sounder South            6,038.00         9,410.46   3,372.46    55.85%\n",
       "2  Sounder North              316.00            13.86    -302.14   -95.61%"
      ]
     },
     "execution_count": 8,
     "metadata": {},
     "output_type": "execute_result"
    }
   ],
   "source": [
    "df = df_boarding_key[df_boarding_key['route_code'].isin([6996,6999,6998])].reset_index()\n",
    "df['description'] = df['route_code'].map({6998: 'Sounder South', 6999: 'Sounder North',6996: 'Link Red Line'})\n",
    "df.drop(['route_code','agency'], axis=1, inplace=True)\n",
    "\n",
    "df_table = df.copy()\n",
    "df_table[['perc_diff']] = df_table[['perc_diff']].applymap(format_percent)\n",
    "\n",
    "df_table"
   ]
  },
  {
   "cell_type": "code",
   "execution_count": 9,
   "id": "cb27f79888f8363d",
   "metadata": {
    "ExecuteTime": {
     "end_time": "2024-06-24T19:41:16.172926Z",
     "start_time": "2024-06-24T19:41:15.922628Z"
    },
    "execution": {
     "iopub.execute_input": "2024-06-24T21:54:06.432206Z",
     "iopub.status.busy": "2024-06-24T21:54:06.416576Z",
     "iopub.status.idle": "2024-06-24T21:54:06.854446Z",
     "shell.execute_reply": "2024-06-24T21:54:06.854446Z"
    }
   },
   "outputs": [
    {
     "name": "stdout",
     "output_type": "stream",
     "text": [
      "r^2 : 0.9969341653297217\n"
     ]
    },
    {
     "data": {
      "image/png": "[encoded data removed]",
      "text/plain": [
       "<Figure size 432x288 with 1 Axes>"
      ]
     },
     "metadata": {
      "needs_background": "light"
     },
     "output_type": "display_data"
    }
   ],
   "source": [
    "if len(df) > 0:\n",
    "    ax = df.plot(kind='scatter', x='observed_boardings', y='model_boardings')\n",
    "    lim = df[['observed_boardings','model_boardings']].max().max()*1.05\n",
    "    ax.set_ylim(0,lim)\n",
    "    ax.set_xlim(0,lim)\n",
    "    x = np.linspace(*ax.get_xlim())\n",
    "    ax.plot(x, x)\n",
    "    slope, intercept, r_value, p_value, std_err = stats.linregress(df['observed_boardings'],df['model_boardings'])\n",
    "    print('r^2 ' + str('') + ': ' + str(r_value))"
   ]
  },
  {
   "cell_type": "raw",
   "id": "a24f21772d15369c",
   "metadata": {},
   "source": [
    "#### RapidRide, busiest buses, streetcar"
   ]
  },
  {
   "cell_type": "code",
   "execution_count": 10,
   "id": "a048f8a2b6d7d277",
   "metadata": {
    "ExecuteTime": {
     "end_time": "2024-06-24T20:05:51.529079Z",
     "start_time": "2024-06-24T20:05:51.482757Z"
    },
    "execution": {
     "iopub.execute_input": "2024-06-24T21:54:06.870720Z",
     "iopub.status.busy": "2024-06-24T21:54:06.870720Z",
     "iopub.status.idle": "2024-06-24T21:54:06.947996Z",
     "shell.execute_reply": "2024-06-24T21:54:06.946418Z"
    }
   },
   "outputs": [
    {
     "data": {
      "text/html": [
       "<div>\n",
       "<style scoped>\n",
       "    .dataframe tbody tr th:only-of-type {\n",
       "        vertical-align: middle;\n",
       "    }\n",
       "\n",
       "    .dataframe tbody tr th {\n",
       "        vertical-align: top;\n",
       "    }\n",
       "\n",
       "    .dataframe thead th {\n",
       "        text-align: right;\n",
       "    }\n",
       "</style>\n",
       "<table border=\"1\" class=\"dataframe\">\n",
       "  <thead>\n",
       "    <tr style=\"text-align: right;\">\n",
       "      <th></th>\n",
       "      <th>description</th>\n",
       "      <th>observed_boardings</th>\n",
       "      <th>model_boardings</th>\n",
       "      <th>diff</th>\n",
       "      <th>perc_diff</th>\n",
       "    </tr>\n",
       "  </thead>\n",
       "  <tbody>\n",
       "    <tr>\n",
       "      <th>6</th>\n",
       "      <td>E Line RapidRide</td>\n",
       "      <td>11,426.00</td>\n",
       "      <td>17,197.85</td>\n",
       "      <td>5,771.85</td>\n",
       "      <td>50.52%</td>\n",
       "    </tr>\n",
       "    <tr>\n",
       "      <th>4</th>\n",
       "      <td>C Line RapidRide</td>\n",
       "      <td>7,250.00</td>\n",
       "      <td>13,259.45</td>\n",
       "      <td>6,009.45</td>\n",
       "      <td>82.89%</td>\n",
       "    </tr>\n",
       "    <tr>\n",
       "      <th>1</th>\n",
       "      <td>KC Metro 40</td>\n",
       "      <td>7,208.00</td>\n",
       "      <td>10,607.78</td>\n",
       "      <td>3,399.78</td>\n",
       "      <td>47.17%</td>\n",
       "    </tr>\n",
       "    <tr>\n",
       "      <th>10</th>\n",
       "      <td>Sound Transit 550</td>\n",
       "      <td>3,351.00</td>\n",
       "      <td>9,494.10</td>\n",
       "      <td>6,143.10</td>\n",
       "      <td>183.32%</td>\n",
       "    </tr>\n",
       "    <tr>\n",
       "      <th>0</th>\n",
       "      <td>KC Metro 7</td>\n",
       "      <td>9,954.00</td>\n",
       "      <td>9,165.51</td>\n",
       "      <td>-788.49</td>\n",
       "      <td>-7.92%</td>\n",
       "    </tr>\n",
       "    <tr>\n",
       "      <th>5</th>\n",
       "      <td>D Line RapidRide</td>\n",
       "      <td>9,044.00</td>\n",
       "      <td>8,101.41</td>\n",
       "      <td>-942.59</td>\n",
       "      <td>-10.42%</td>\n",
       "    </tr>\n",
       "    <tr>\n",
       "      <th>2</th>\n",
       "      <td>A Line RapidRide</td>\n",
       "      <td>8,412.00</td>\n",
       "      <td>6,342.07</td>\n",
       "      <td>-2,069.93</td>\n",
       "      <td>-24.61%</td>\n",
       "    </tr>\n",
       "    <tr>\n",
       "      <th>7</th>\n",
       "      <td>F Line RapidRide</td>\n",
       "      <td>4,748.00</td>\n",
       "      <td>4,899.04</td>\n",
       "      <td>151.04</td>\n",
       "      <td>3.18%</td>\n",
       "    </tr>\n",
       "    <tr>\n",
       "      <th>3</th>\n",
       "      <td>B Line RapidRide</td>\n",
       "      <td>4,177.00</td>\n",
       "      <td>3,659.03</td>\n",
       "      <td>-517.97</td>\n",
       "      <td>-12.40%</td>\n",
       "    </tr>\n",
       "    <tr>\n",
       "      <th>9</th>\n",
       "      <td>First Hill Streetcar</td>\n",
       "      <td>3,900.45</td>\n",
       "      <td>936.84</td>\n",
       "      <td>-2,963.62</td>\n",
       "      <td>-75.98%</td>\n",
       "    </tr>\n",
       "    <tr>\n",
       "      <th>8</th>\n",
       "      <td>SLU Streetcar</td>\n",
       "      <td>1,050.16</td>\n",
       "      <td>774.61</td>\n",
       "      <td>-275.55</td>\n",
       "      <td>-26.24%</td>\n",
       "    </tr>\n",
       "  </tbody>\n",
       "</table>\n",
       "</div>"
      ],
      "text/plain": [
       "             description  observed_boardings  model_boardings      diff  \\\n",
       "6       E Line RapidRide           11,426.00        17,197.85  5,771.85   \n",
       "4       C Line RapidRide            7,250.00        13,259.45  6,009.45   \n",
       "1            KC Metro 40            7,208.00        10,607.78  3,399.78   \n",
       "10     Sound Transit 550            3,351.00         9,494.10  6,143.10   \n",
       "0             KC Metro 7            9,954.00         9,165.51   -788.49   \n",
       "5       D Line RapidRide            9,044.00         8,101.41   -942.59   \n",
       "2       A Line RapidRide            8,412.00         6,342.07 -2,069.93   \n",
       "7       F Line RapidRide            4,748.00         4,899.04    151.04   \n",
       "3       B Line RapidRide            4,177.00         3,659.03   -517.97   \n",
       "9   First Hill Streetcar            3,900.45           936.84 -2,963.62   \n",
       "8          SLU Streetcar            1,050.16           774.61   -275.55   \n",
       "\n",
       "   perc_diff  \n",
       "6     50.52%  \n",
       "4     82.89%  \n",
       "1     47.17%  \n",
       "10   183.32%  \n",
       "0     -7.92%  \n",
       "5    -10.42%  \n",
       "2    -24.61%  \n",
       "7      3.18%  \n",
       "3    -12.40%  \n",
       "9    -75.98%  \n",
       "8    -26.24%  "
      ]
     },
     "execution_count": 10,
     "metadata": {},
     "output_type": "execute_result"
    }
   ],
   "source": [
    "df = df_boarding_key[df_boarding_key['route_code'].isin([1671,1672,1673,1674,1675,1676,6550,1007,1040,1997,1998])].reset_index()\n",
    "df['description'] = df['route_code'].map({1671: 'A Line RapidRide', 1672: 'B Line RapidRide',\n",
    "                                            1673: 'C Line RapidRide', 1674: 'D Line RapidRide',\n",
    "                                            1675: 'E Line RapidRide', 1676: 'F Line RapidRide',\n",
    "                                            6550: 'Sound Transit 550', 1040: 'KC Metro 40', 1007: 'KC Metro 7',\n",
    "                                            1997: 'SLU Streetcar', 1998: 'First Hill Streetcar'})\n",
    "df.drop(['route_code','agency'], axis=1, inplace=True)\n",
    "\n",
    "df_table = df.copy()\n",
    "df_table[['perc_diff']] = df_table[['perc_diff']].applymap(format_percent)\n",
    "df_table.sort_values('model_boardings', ascending=False)"
   ]
  },
  {
   "cell_type": "code",
   "execution_count": 11,
   "id": "813aa67bd5e6c1f6",
   "metadata": {
    "ExecuteTime": {
     "end_time": "2024-06-24T19:41:23.547293Z",
     "start_time": "2024-06-24T19:41:23.312803Z"
    },
    "execution": {
     "iopub.execute_input": "2024-06-24T21:54:06.963083Z",
     "iopub.status.busy": "2024-06-24T21:54:06.962090Z",
     "iopub.status.idle": "2024-06-24T21:54:07.310483Z",
     "shell.execute_reply": "2024-06-24T21:54:07.308481Z"
    }
   },
   "outputs": [
    {
     "name": "stdout",
     "output_type": "stream",
     "text": [
      "r^2 : 0.7465927724256375\n"
     ]
    },
    {
     "data": {
      "image/png": "[encoded data removed]",
      "text/plain": [
       "<Figure size 432x288 with 1 Axes>"
      ]
     },
     "metadata": {
      "needs_background": "light"
     },
     "output_type": "display_data"
    }
   ],
   "source": [
    "if len(df) > 0:\n",
    "    ax = df.plot(kind='scatter', x='observed_boardings', y='model_boardings')\n",
    "    lim = df[['observed_boardings', 'model_boardings']].max().max() * 1.05\n",
    "    ax.set_ylim(0, lim)\n",
    "    ax.set_xlim(0, lim)\n",
    "    x = np.linspace(*ax.get_xlim())\n",
    "    ax.plot(x, x)\n",
    "    slope, intercept, r_value, p_value, std_err = stats.linregress(df['observed_boardings'], df['model_boardings'])\n",
    "    print('r^2 ' + str('') + ': ' + str(r_value))"
   ]
  },
  {
   "cell_type": "raw",
   "id": "c55611b2314fffc3",
   "metadata": {},
   "source": [
    ":::"
   ]
  },
  {
   "cell_type": "markdown",
   "id": "6e6c5ead64d64e8c",
   "metadata": {},
   "source": [
    "### boarding on lines by agency"
   ]
  },
  {
   "cell_type": "code",
   "execution_count": 12,
   "id": "95db4119eb938544",
   "metadata": {
    "ExecuteTime": {
     "end_time": "2024-06-24T19:52:55.951969Z",
     "start_time": "2024-06-24T19:52:54.937995Z"
    },
    "execution": {
     "iopub.execute_input": "2024-06-24T21:54:07.326440Z",
     "iopub.status.busy": "2024-06-24T21:54:07.325444Z",
     "iopub.status.idle": "2024-06-24T21:54:09.291659Z",
     "shell.execute_reply": "2024-06-24T21:54:09.291659Z"
    }
   },
   "outputs": [
    {
     "name": "stdout",
     "output_type": "stream",
     "text": [
      "r^2 Community Transit: 0.9328766813709843\n"
     ]
    },
    {
     "name": "stdout",
     "output_type": "stream",
     "text": [
      "r^2 Everett Transit: 0.9401297517175147\n",
      "r^2 King County Metro: 0.8979341428674674\n",
      "r^2 Kitsap Transit: 0.8590986465565857\n",
      "r^2 Pierce Transit: 0.7554269977214172\n",
      "r^2 Sound Transit: 0.985534493849471\n",
      "r^2 Washington Ferries: 0.9335451439314667\n"
     ]
    },
    {
     "data": {
      "image/png": "[encoded data removed]",
      "text/plain": [
       "<Figure size 432x288 with 1 Axes>"
      ]
     },
     "metadata": {
      "needs_background": "light"
     },
     "output_type": "display_data"
    },
    {
     "data": {
      "image/png": "[encoded data removed]",
      "text/plain": [
       "<Figure size 432x288 with 1 Axes>"
      ]
     },
     "metadata": {
      "needs_background": "light"
     },
     "output_type": "display_data"
    },
    {
     "data": {
      "image/png": "[encoded data removed]",
      "text/plain": [
       "<Figure size 432x288 with 1 Axes>"
      ]
     },
     "metadata": {
      "needs_background": "light"
     },
     "output_type": "display_data"
    },
    {
     "data": {
      "image/png": "[encoded data removed]",
      "text/plain": [
       "<Figure size 432x288 with 1 Axes>"
      ]
     },
     "metadata": {
      "needs_background": "light"
     },
     "output_type": "display_data"
    },
    {
     "data": {
      "image/png": "[encoded data removed]",
      "text/plain": [
       "<Figure size 432x288 with 1 Axes>"
      ]
     },
     "metadata": {
      "needs_background": "light"
     },
     "output_type": "display_data"
    },
    {
     "data": {
      "image/png": "[encoded data removed]",
      "text/plain": [
       "<Figure size 432x288 with 1 Axes>"
      ]
     },
     "metadata": {
      "needs_background": "light"
     },
     "output_type": "display_data"
    },
    {
     "data": {
      "image/png": "[encoded data removed]",
      "text/plain": [
       "<Figure size 432x288 with 1 Axes>"
      ]
     },
     "metadata": {
      "needs_background": "light"
     },
     "output_type": "display_data"
    }
   ],
   "source": [
    "df = pd.read_csv(os.path.join(csv_path,'daily_boardings_by_line.csv'), index_col='agency')\n",
    "df = df[-df['agency_id'].isnull()]\n",
    "\n",
    "for agency in np.unique(df.index):\n",
    "    _df = df.loc[agency,:]\n",
    "    if (type(_df) == pd.core.frame.DataFrame) & (len(df) > 0):\n",
    "        ax = _df.plot(kind='scatter', x='observed_boardings', y='model_boardings', label=agency)\n",
    "        lim = _df[['observed_boardings','model_boardings']].max().max()*1.05\n",
    "        ax.set_ylim(0,lim)\n",
    "        ax.set_xlim(0,lim)\n",
    "        x = np.linspace(*ax.get_xlim())\n",
    "        ax.plot(x, x)\n",
    "        slope, intercept, r_value, p_value, std_err = stats.linregress(_df['observed_boardings'],_df['model_boardings'])\n",
    "        print('r^2 ' + str(agency) + ': ' + str(r_value))"
   ]
  },
  {
   "cell_type": "markdown",
   "id": "4539ddda98821ff2",
   "metadata": {},
   "source": [
    "### boarding by light rail station"
   ]
  },
  {
   "cell_type": "raw",
   "id": "1a2860ab52ea5101",
   "metadata": {},
   "source": [
    ":::{.panel-tabset}\n",
    "#### Red Line"
   ]
  },
  {
   "cell_type": "code",
   "execution_count": 13,
   "id": "2c245b8117693726",
   "metadata": {
    "ExecuteTime": {
     "end_time": "2024-06-24T20:06:01.435477Z",
     "start_time": "2024-06-24T20:06:01.389414Z"
    },
    "execution": {
     "iopub.execute_input": "2024-06-24T21:54:09.307284Z",
     "iopub.status.busy": "2024-06-24T21:54:09.307284Z",
     "iopub.status.idle": "2024-06-24T21:54:09.432079Z",
     "shell.execute_reply": "2024-06-24T21:54:09.432079Z"
    }
   },
   "outputs": [
    {
     "data": {
      "text/html": [
       "<div>\n",
       "<style scoped>\n",
       "    .dataframe tbody tr th:only-of-type {\n",
       "        vertical-align: middle;\n",
       "    }\n",
       "\n",
       "    .dataframe tbody tr th {\n",
       "        vertical-align: top;\n",
       "    }\n",
       "\n",
       "    .dataframe thead th {\n",
       "        text-align: right;\n",
       "    }\n",
       "</style>\n",
       "<table border=\"1\" class=\"dataframe\">\n",
       "  <thead>\n",
       "    <tr style=\"text-align: right;\">\n",
       "      <th></th>\n",
       "      <th>observed_boardings</th>\n",
       "      <th>model_boardings</th>\n",
       "      <th>diff</th>\n",
       "      <th>percent_diff</th>\n",
       "    </tr>\n",
       "    <tr>\n",
       "      <th>station_name</th>\n",
       "      <th></th>\n",
       "      <th></th>\n",
       "      <th></th>\n",
       "      <th></th>\n",
       "    </tr>\n",
       "  </thead>\n",
       "  <tbody>\n",
       "    <tr>\n",
       "      <th>Husky Stadium</th>\n",
       "      <td>6,134.00</td>\n",
       "      <td>3,746.64</td>\n",
       "      <td>-2,387.36</td>\n",
       "      <td>-38.92%</td>\n",
       "    </tr>\n",
       "    <tr>\n",
       "      <th>Westlake</th>\n",
       "      <td>8,845.00</td>\n",
       "      <td>7,353.49</td>\n",
       "      <td>-1,491.51</td>\n",
       "      <td>-16.86%</td>\n",
       "    </tr>\n",
       "    <tr>\n",
       "      <th>University St</th>\n",
       "      <td>4,324.00</td>\n",
       "      <td>4,827.69</td>\n",
       "      <td>503.69</td>\n",
       "      <td>11.65%</td>\n",
       "    </tr>\n",
       "    <tr>\n",
       "      <th>Pioneer Square</th>\n",
       "      <td>2,400.00</td>\n",
       "      <td>4,262.07</td>\n",
       "      <td>1,862.07</td>\n",
       "      <td>77.59%</td>\n",
       "    </tr>\n",
       "    <tr>\n",
       "      <th>Int'l District</th>\n",
       "      <td>4,399.00</td>\n",
       "      <td>1,459.44</td>\n",
       "      <td>-2,939.56</td>\n",
       "      <td>-66.82%</td>\n",
       "    </tr>\n",
       "    <tr>\n",
       "      <th>Capitol Hill</th>\n",
       "      <td>7,667.00</td>\n",
       "      <td>4,837.06</td>\n",
       "      <td>-2,829.94</td>\n",
       "      <td>-36.91%</td>\n",
       "    </tr>\n",
       "    <tr>\n",
       "      <th>Stadium</th>\n",
       "      <td>1,731.00</td>\n",
       "      <td>437.83</td>\n",
       "      <td>-1,293.17</td>\n",
       "      <td>-74.71%</td>\n",
       "    </tr>\n",
       "    <tr>\n",
       "      <th>SODO</th>\n",
       "      <td>1,669.00</td>\n",
       "      <td>2,425.89</td>\n",
       "      <td>756.89</td>\n",
       "      <td>45.35%</td>\n",
       "    </tr>\n",
       "    <tr>\n",
       "      <th>Beacon Hill</th>\n",
       "      <td>2,147.00</td>\n",
       "      <td>802.17</td>\n",
       "      <td>-1,344.83</td>\n",
       "      <td>-62.64%</td>\n",
       "    </tr>\n",
       "    <tr>\n",
       "      <th>Mount Baker</th>\n",
       "      <td>1,861.00</td>\n",
       "      <td>941.93</td>\n",
       "      <td>-919.07</td>\n",
       "      <td>-49.39%</td>\n",
       "    </tr>\n",
       "    <tr>\n",
       "      <th>Columbia City</th>\n",
       "      <td>1,630.00</td>\n",
       "      <td>895.05</td>\n",
       "      <td>-734.95</td>\n",
       "      <td>-45.09%</td>\n",
       "    </tr>\n",
       "    <tr>\n",
       "      <th>Othello</th>\n",
       "      <td>2,030.00</td>\n",
       "      <td>1,025.62</td>\n",
       "      <td>-1,004.38</td>\n",
       "      <td>-49.48%</td>\n",
       "    </tr>\n",
       "    <tr>\n",
       "      <th>Rainier Beach</th>\n",
       "      <td>1,495.00</td>\n",
       "      <td>932.35</td>\n",
       "      <td>-562.65</td>\n",
       "      <td>-37.64%</td>\n",
       "    </tr>\n",
       "    <tr>\n",
       "      <th>Tukwila Int'l Blvd</th>\n",
       "      <td>2,298.00</td>\n",
       "      <td>1,618.95</td>\n",
       "      <td>-679.05</td>\n",
       "      <td>-29.55%</td>\n",
       "    </tr>\n",
       "    <tr>\n",
       "      <th>SeaTac/Airport</th>\n",
       "      <td>4,731.00</td>\n",
       "      <td>5,676.37</td>\n",
       "      <td>945.37</td>\n",
       "      <td>19.98%</td>\n",
       "    </tr>\n",
       "    <tr>\n",
       "      <th>Angle Lake</th>\n",
       "      <td>3,865.00</td>\n",
       "      <td>3,058.73</td>\n",
       "      <td>-806.27</td>\n",
       "      <td>-20.86%</td>\n",
       "    </tr>\n",
       "    <tr>\n",
       "      <th>University District Station</th>\n",
       "      <td>7,563.00</td>\n",
       "      <td>4,017.55</td>\n",
       "      <td>-3,545.45</td>\n",
       "      <td>-46.88%</td>\n",
       "    </tr>\n",
       "    <tr>\n",
       "      <th>Roosevelt Station</th>\n",
       "      <td>4,349.00</td>\n",
       "      <td>6,551.65</td>\n",
       "      <td>2,202.65</td>\n",
       "      <td>50.65%</td>\n",
       "    </tr>\n",
       "    <tr>\n",
       "      <th>Northgate Station</th>\n",
       "      <td>10,384.00</td>\n",
       "      <td>6,303.33</td>\n",
       "      <td>-4,080.67</td>\n",
       "      <td>-39.30%</td>\n",
       "    </tr>\n",
       "    <tr>\n",
       "      <th>Total</th>\n",
       "      <td>79,522.00</td>\n",
       "      <td>61,173.82</td>\n",
       "      <td>-18,348.18</td>\n",
       "      <td>-23.07%</td>\n",
       "    </tr>\n",
       "  </tbody>\n",
       "</table>\n",
       "</div>"
      ],
      "text/plain": [
       "                             observed_boardings  model_boardings       diff  \\\n",
       "station_name                                                                  \n",
       "Husky Stadium                          6,134.00         3,746.64  -2,387.36   \n",
       "Westlake                               8,845.00         7,353.49  -1,491.51   \n",
       "University St                          4,324.00         4,827.69     503.69   \n",
       "Pioneer Square                         2,400.00         4,262.07   1,862.07   \n",
       "Int'l District                         4,399.00         1,459.44  -2,939.56   \n",
       "Capitol Hill                           7,667.00         4,837.06  -2,829.94   \n",
       "Stadium                                1,731.00           437.83  -1,293.17   \n",
       "SODO                                   1,669.00         2,425.89     756.89   \n",
       "Beacon Hill                            2,147.00           802.17  -1,344.83   \n",
       "Mount Baker                            1,861.00           941.93    -919.07   \n",
       "Columbia City                          1,630.00           895.05    -734.95   \n",
       "Othello                                2,030.00         1,025.62  -1,004.38   \n",
       "Rainier Beach                          1,495.00           932.35    -562.65   \n",
       "Tukwila Int'l Blvd                     2,298.00         1,618.95    -679.05   \n",
       "SeaTac/Airport                         4,731.00         5,676.37     945.37   \n",
       "Angle Lake                             3,865.00         3,058.73    -806.27   \n",
       "University District Station            7,563.00         4,017.55  -3,545.45   \n",
       "Roosevelt Station                      4,349.00         6,551.65   2,202.65   \n",
       "Northgate Station                     10,384.00         6,303.33  -4,080.67   \n",
       "Total                                 79,522.00        61,173.82 -18,348.18   \n",
       "\n",
       "                            percent_diff  \n",
       "station_name                              \n",
       "Husky Stadium                    -38.92%  \n",
       "Westlake                         -16.86%  \n",
       "University St                     11.65%  \n",
       "Pioneer Square                    77.59%  \n",
       "Int'l District                   -66.82%  \n",
       "Capitol Hill                     -36.91%  \n",
       "Stadium                          -74.71%  \n",
       "SODO                              45.35%  \n",
       "Beacon Hill                      -62.64%  \n",
       "Mount Baker                      -49.39%  \n",
       "Columbia City                    -45.09%  \n",
       "Othello                          -49.48%  \n",
       "Rainier Beach                    -37.64%  \n",
       "Tukwila Int'l Blvd               -29.55%  \n",
       "SeaTac/Airport                    19.98%  \n",
       "Angle Lake                       -20.86%  \n",
       "University District Station      -46.88%  \n",
       "Roosevelt Station                 50.65%  \n",
       "Northgate Station                -39.30%  \n",
       "Total                            -23.07%  "
      ]
     },
     "execution_count": 13,
     "metadata": {},
     "output_type": "execute_result"
    }
   ],
   "source": [
    "df = pd.read_csv(os.path.join(csv_path,'light_rail_boardings.csv'), index_col='station_name')\n",
    "df['diff'] = df['model_boardings']-df['observed_boardings']\n",
    "df['percent_diff'] = df['diff']/df['observed_boardings']\n",
    "\n",
    "df_table = df.copy()\n",
    "df_table[['percent_diff']] = df_table[['percent_diff']].applymap(format_percent)\n",
    "df_table"
   ]
  },
  {
   "cell_type": "raw",
   "id": "3dafcff1da10b5e5",
   "metadata": {},
   "source": [
    "#### Sound Transit Station Groupings"
   ]
  },
  {
   "cell_type": "code",
   "execution_count": 14,
   "id": "7456ebeb8efd83d0",
   "metadata": {
    "ExecuteTime": {
     "end_time": "2024-06-24T20:06:06.901270Z",
     "start_time": "2024-06-24T20:06:06.830246Z"
    },
    "execution": {
     "iopub.execute_input": "2024-06-24T21:54:09.447700Z",
     "iopub.status.busy": "2024-06-24T21:54:09.447700Z",
     "iopub.status.idle": "2024-06-24T21:54:09.541805Z",
     "shell.execute_reply": "2024-06-24T21:54:09.541805Z"
    }
   },
   "outputs": [
    {
     "data": {
      "text/html": [
       "<div>\n",
       "<style scoped>\n",
       "    .dataframe tbody tr th:only-of-type {\n",
       "        vertical-align: middle;\n",
       "    }\n",
       "\n",
       "    .dataframe tbody tr th {\n",
       "        vertical-align: top;\n",
       "    }\n",
       "\n",
       "    .dataframe thead th {\n",
       "        text-align: right;\n",
       "    }\n",
       "</style>\n",
       "<table border=\"1\" class=\"dataframe\">\n",
       "  <thead>\n",
       "    <tr style=\"text-align: right;\">\n",
       "      <th></th>\n",
       "      <th>observed_boardings</th>\n",
       "      <th>model_boardings</th>\n",
       "      <th>diff</th>\n",
       "      <th>percent_diff</th>\n",
       "    </tr>\n",
       "    <tr>\n",
       "      <th>station_group</th>\n",
       "      <th></th>\n",
       "      <th></th>\n",
       "      <th></th>\n",
       "      <th></th>\n",
       "    </tr>\n",
       "  </thead>\n",
       "  <tbody>\n",
       "    <tr>\n",
       "      <th>Husky Stadium</th>\n",
       "      <td>6,134.00</td>\n",
       "      <td>3,746.64</td>\n",
       "      <td>-2,387.36</td>\n",
       "      <td>-38.92%</td>\n",
       "    </tr>\n",
       "    <tr>\n",
       "      <th>Capitol Hill</th>\n",
       "      <td>7,667.00</td>\n",
       "      <td>4,837.06</td>\n",
       "      <td>-2,829.94</td>\n",
       "      <td>-36.91%</td>\n",
       "    </tr>\n",
       "    <tr>\n",
       "      <th>Westlake/University St</th>\n",
       "      <td>13,169.00</td>\n",
       "      <td>12,181.19</td>\n",
       "      <td>-987.81</td>\n",
       "      <td>-7.50%</td>\n",
       "    </tr>\n",
       "    <tr>\n",
       "      <th>Pioneer Square/Int'l District</th>\n",
       "      <td>6,799.00</td>\n",
       "      <td>5,721.51</td>\n",
       "      <td>-1,077.49</td>\n",
       "      <td>-15.85%</td>\n",
       "    </tr>\n",
       "    <tr>\n",
       "      <th>Stadium/SODO</th>\n",
       "      <td>3,400.00</td>\n",
       "      <td>2,863.73</td>\n",
       "      <td>-536.27</td>\n",
       "      <td>-15.77%</td>\n",
       "    </tr>\n",
       "    <tr>\n",
       "      <th>Beacon Hill/Mount Baker</th>\n",
       "      <td>4,008.00</td>\n",
       "      <td>1,744.10</td>\n",
       "      <td>-2,263.90</td>\n",
       "      <td>-56.48%</td>\n",
       "    </tr>\n",
       "    <tr>\n",
       "      <th>Columbia City</th>\n",
       "      <td>1,630.00</td>\n",
       "      <td>895.05</td>\n",
       "      <td>-734.95</td>\n",
       "      <td>-45.09%</td>\n",
       "    </tr>\n",
       "    <tr>\n",
       "      <th>Othello/Rainier Beach</th>\n",
       "      <td>3,525.00</td>\n",
       "      <td>1,957.97</td>\n",
       "      <td>-1,567.03</td>\n",
       "      <td>-44.45%</td>\n",
       "    </tr>\n",
       "    <tr>\n",
       "      <th>Tukwila Int'l Blvd</th>\n",
       "      <td>2,298.00</td>\n",
       "      <td>1,618.95</td>\n",
       "      <td>-679.05</td>\n",
       "      <td>-29.55%</td>\n",
       "    </tr>\n",
       "    <tr>\n",
       "      <th>SeaTac/Airport</th>\n",
       "      <td>4,731.00</td>\n",
       "      <td>5,676.37</td>\n",
       "      <td>945.37</td>\n",
       "      <td>19.98%</td>\n",
       "    </tr>\n",
       "    <tr>\n",
       "      <th>Angle Lake</th>\n",
       "      <td>3,865.00</td>\n",
       "      <td>3,058.73</td>\n",
       "      <td>-806.27</td>\n",
       "      <td>-20.86%</td>\n",
       "    </tr>\n",
       "  </tbody>\n",
       "</table>\n",
       "</div>"
      ],
      "text/plain": [
       "                               observed_boardings  model_boardings      diff  \\\n",
       "station_group                                                                  \n",
       "Husky Stadium                            6,134.00         3,746.64 -2,387.36   \n",
       "Capitol Hill                             7,667.00         4,837.06 -2,829.94   \n",
       "Westlake/University St                  13,169.00        12,181.19   -987.81   \n",
       "Pioneer Square/Int'l District            6,799.00         5,721.51 -1,077.49   \n",
       "Stadium/SODO                             3,400.00         2,863.73   -536.27   \n",
       "Beacon Hill/Mount Baker                  4,008.00         1,744.10 -2,263.90   \n",
       "Columbia City                            1,630.00           895.05   -734.95   \n",
       "Othello/Rainier Beach                    3,525.00         1,957.97 -1,567.03   \n",
       "Tukwila Int'l Blvd                       2,298.00         1,618.95   -679.05   \n",
       "SeaTac/Airport                           4,731.00         5,676.37    945.37   \n",
       "Angle Lake                               3,865.00         3,058.73   -806.27   \n",
       "\n",
       "                              percent_diff  \n",
       "station_group                               \n",
       "Husky Stadium                      -38.92%  \n",
       "Capitol Hill                       -36.91%  \n",
       "Westlake/University St              -7.50%  \n",
       "Pioneer Square/Int'l District      -15.85%  \n",
       "Stadium/SODO                       -15.77%  \n",
       "Beacon Hill/Mount Baker            -56.48%  \n",
       "Columbia City                      -45.09%  \n",
       "Othello/Rainier Beach              -44.45%  \n",
       "Tukwila Int'l Blvd                 -29.55%  \n",
       "SeaTac/Airport                      19.98%  \n",
       "Angle Lake                         -20.86%  "
      ]
     },
     "execution_count": 14,
     "metadata": {},
     "output_type": "execute_result"
    }
   ],
   "source": [
    "df_combined = df.copy()\n",
    "\n",
    "df_combined['station_group'] = df.index\n",
    "df_combined.loc[['Westlake'],'station_group'] = 'Westlake/University St'\n",
    "df_combined.loc[['University St'],'station_group'] = 'Westlake/University St'\n",
    "\n",
    "df_combined.loc[['Pioneer Square'],'station_group'] = \"Pioneer Square/Int'l District\"\n",
    "df_combined.loc[[\"Int'l District\"],'station_group'] = \"Pioneer Square/Int'l District\"\n",
    "\n",
    "df_combined.loc[['Stadium'],'station_group'] = 'Stadium/SODO'\n",
    "df_combined.loc[['SODO'],'station_group'] = 'Stadium/SODO'\n",
    "\n",
    "df_combined.loc[['Beacon Hill'],'station_group'] = 'Beacon Hill/Mount Baker'\n",
    "df_combined.loc[['Mount Baker'],'station_group'] = 'Beacon Hill/Mount Baker'\n",
    "\n",
    "df_combined.loc[['Othello'],'station_group'] = 'Othello/Rainier Beach'\n",
    "df_combined.loc[['Rainier Beach'],'station_group'] = 'Othello/Rainier Beach'\n",
    "\n",
    "df_combined = df_combined.groupby('station_group').sum()[['observed_boardings','model_boardings']]\n",
    "df_combined['diff'] = df_combined['model_boardings']-df_combined['observed_boardings']\n",
    "df_combined['percent_diff'] = df_combined['diff']/df_combined['observed_boardings']\n",
    "df_combined[['percent_diff']] = df_combined[['percent_diff']].applymap(format_percent)\n",
    "\n",
    "df_combined.loc[['Husky Stadium','Capitol Hill','Westlake/University St',\"Pioneer Square/Int'l District\",\n",
    "                 'Stadium/SODO','Beacon Hill/Mount Baker','Columbia City','Othello/Rainier Beach',\n",
    "                 \"Tukwila Int'l Blvd\",'SeaTac/Airport','Angle Lake']]"
   ]
  },
  {
   "cell_type": "raw",
   "id": "f429de2d705b1e22",
   "metadata": {},
   "source": [
    ":::"
   ]
  },
  {
   "cell_type": "markdown",
   "id": "86996e48d6760252",
   "metadata": {},
   "source": [
    "### light rail stop transfers"
   ]
  },
  {
   "cell_type": "code",
   "execution_count": 15,
   "id": "4bd536d185354993",
   "metadata": {
    "ExecuteTime": {
     "end_time": "2024-06-24T20:06:14.325917Z",
     "start_time": "2024-06-24T20:06:14.279144Z"
    },
    "execution": {
     "iopub.execute_input": "2024-06-24T21:54:09.557431Z",
     "iopub.status.busy": "2024-06-24T21:54:09.557431Z",
     "iopub.status.idle": "2024-06-24T21:54:09.635689Z",
     "shell.execute_reply": "2024-06-24T21:54:09.635689Z"
    }
   },
   "outputs": [
    {
     "data": {
      "text/html": [
       "<div>\n",
       "<style scoped>\n",
       "    .dataframe tbody tr th:only-of-type {\n",
       "        vertical-align: middle;\n",
       "    }\n",
       "\n",
       "    .dataframe tbody tr th {\n",
       "        vertical-align: top;\n",
       "    }\n",
       "\n",
       "    .dataframe thead th {\n",
       "        text-align: right;\n",
       "    }\n",
       "</style>\n",
       "<table border=\"1\" class=\"dataframe\">\n",
       "  <thead>\n",
       "    <tr style=\"text-align: right;\">\n",
       "      <th></th>\n",
       "      <th>modeled_transfer_rate</th>\n",
       "      <th>observed_transfer_rate</th>\n",
       "      <th>diff</th>\n",
       "      <th>percent_diff</th>\n",
       "    </tr>\n",
       "    <tr>\n",
       "      <th>station_name</th>\n",
       "      <th></th>\n",
       "      <th></th>\n",
       "      <th></th>\n",
       "      <th></th>\n",
       "    </tr>\n",
       "  </thead>\n",
       "  <tbody>\n",
       "    <tr>\n",
       "      <th>Husky Stadium</th>\n",
       "      <td>0.92</td>\n",
       "      <td>-99.00</td>\n",
       "      <td>99.92</td>\n",
       "      <td>-100.93%</td>\n",
       "    </tr>\n",
       "    <tr>\n",
       "      <th>Westlake</th>\n",
       "      <td>0.15</td>\n",
       "      <td>0.36</td>\n",
       "      <td>-0.21</td>\n",
       "      <td>-57.68%</td>\n",
       "    </tr>\n",
       "    <tr>\n",
       "      <th>University St</th>\n",
       "      <td>0.23</td>\n",
       "      <td>0.20</td>\n",
       "      <td>0.03</td>\n",
       "      <td>15.78%</td>\n",
       "    </tr>\n",
       "    <tr>\n",
       "      <th>Pioneer Square</th>\n",
       "      <td>0.47</td>\n",
       "      <td>0.16</td>\n",
       "      <td>0.31</td>\n",
       "      <td>195.08%</td>\n",
       "    </tr>\n",
       "    <tr>\n",
       "      <th>Int'l District</th>\n",
       "      <td>0.68</td>\n",
       "      <td>0.45</td>\n",
       "      <td>0.23</td>\n",
       "      <td>51.89%</td>\n",
       "    </tr>\n",
       "    <tr>\n",
       "      <th>Capitol Hill</th>\n",
       "      <td>0.07</td>\n",
       "      <td>-99.00</td>\n",
       "      <td>99.07</td>\n",
       "      <td>-100.07%</td>\n",
       "    </tr>\n",
       "    <tr>\n",
       "      <th>Stadium</th>\n",
       "      <td>0.23</td>\n",
       "      <td>0.12</td>\n",
       "      <td>0.11</td>\n",
       "      <td>92.66%</td>\n",
       "    </tr>\n",
       "    <tr>\n",
       "      <th>SODO</th>\n",
       "      <td>0.46</td>\n",
       "      <td>0.31</td>\n",
       "      <td>0.15</td>\n",
       "      <td>47.23%</td>\n",
       "    </tr>\n",
       "    <tr>\n",
       "      <th>Beacon Hill</th>\n",
       "      <td>0.33</td>\n",
       "      <td>0.35</td>\n",
       "      <td>-0.02</td>\n",
       "      <td>-6.32%</td>\n",
       "    </tr>\n",
       "    <tr>\n",
       "      <th>Mount Baker</th>\n",
       "      <td>0.45</td>\n",
       "      <td>0.32</td>\n",
       "      <td>0.13</td>\n",
       "      <td>40.27%</td>\n",
       "    </tr>\n",
       "    <tr>\n",
       "      <th>Columbia City</th>\n",
       "      <td>0.03</td>\n",
       "      <td>0.12</td>\n",
       "      <td>-0.10</td>\n",
       "      <td>-79.77%</td>\n",
       "    </tr>\n",
       "    <tr>\n",
       "      <th>Othello</th>\n",
       "      <td>0.08</td>\n",
       "      <td>0.12</td>\n",
       "      <td>-0.04</td>\n",
       "      <td>-36.10%</td>\n",
       "    </tr>\n",
       "    <tr>\n",
       "      <th>Rainier Beach</th>\n",
       "      <td>0.37</td>\n",
       "      <td>0.36</td>\n",
       "      <td>0.01</td>\n",
       "      <td>1.88%</td>\n",
       "    </tr>\n",
       "    <tr>\n",
       "      <th>Tukwila Int'l Blvd</th>\n",
       "      <td>0.57</td>\n",
       "      <td>0.26</td>\n",
       "      <td>0.30</td>\n",
       "      <td>114.52%</td>\n",
       "    </tr>\n",
       "    <tr>\n",
       "      <th>SeaTac/Airport</th>\n",
       "      <td>0.13</td>\n",
       "      <td>0.26</td>\n",
       "      <td>-0.14</td>\n",
       "      <td>-52.21%</td>\n",
       "    </tr>\n",
       "    <tr>\n",
       "      <th>Angle Lake</th>\n",
       "      <td>0.28</td>\n",
       "      <td>-99.00</td>\n",
       "      <td>99.28</td>\n",
       "      <td>-100.28%</td>\n",
       "    </tr>\n",
       "    <tr>\n",
       "      <th>University District Station</th>\n",
       "      <td>0.27</td>\n",
       "      <td>-99.00</td>\n",
       "      <td>99.27</td>\n",
       "      <td>-100.27%</td>\n",
       "    </tr>\n",
       "    <tr>\n",
       "      <th>Roosevelt Station</th>\n",
       "      <td>0.49</td>\n",
       "      <td>-99.00</td>\n",
       "      <td>99.49</td>\n",
       "      <td>-100.49%</td>\n",
       "    </tr>\n",
       "    <tr>\n",
       "      <th>Northgate Station</th>\n",
       "      <td>0.81</td>\n",
       "      <td>-99.00</td>\n",
       "      <td>99.81</td>\n",
       "      <td>-100.82%</td>\n",
       "    </tr>\n",
       "  </tbody>\n",
       "</table>\n",
       "</div>"
      ],
      "text/plain": [
       "                             modeled_transfer_rate  observed_transfer_rate  \\\n",
       "station_name                                                                 \n",
       "Husky Stadium                                 0.92                  -99.00   \n",
       "Westlake                                      0.15                    0.36   \n",
       "University St                                 0.23                    0.20   \n",
       "Pioneer Square                                0.47                    0.16   \n",
       "Int'l District                                0.68                    0.45   \n",
       "Capitol Hill                                  0.07                  -99.00   \n",
       "Stadium                                       0.23                    0.12   \n",
       "SODO                                          0.46                    0.31   \n",
       "Beacon Hill                                   0.33                    0.35   \n",
       "Mount Baker                                   0.45                    0.32   \n",
       "Columbia City                                 0.03                    0.12   \n",
       "Othello                                       0.08                    0.12   \n",
       "Rainier Beach                                 0.37                    0.36   \n",
       "Tukwila Int'l Blvd                            0.57                    0.26   \n",
       "SeaTac/Airport                                0.13                    0.26   \n",
       "Angle Lake                                    0.28                  -99.00   \n",
       "University District Station                   0.27                  -99.00   \n",
       "Roosevelt Station                             0.49                  -99.00   \n",
       "Northgate Station                             0.81                  -99.00   \n",
       "\n",
       "                             diff percent_diff  \n",
       "station_name                                    \n",
       "Husky Stadium               99.92     -100.93%  \n",
       "Westlake                    -0.21      -57.68%  \n",
       "University St                0.03       15.78%  \n",
       "Pioneer Square               0.31      195.08%  \n",
       "Int'l District               0.23       51.89%  \n",
       "Capitol Hill                99.07     -100.07%  \n",
       "Stadium                      0.11       92.66%  \n",
       "SODO                         0.15       47.23%  \n",
       "Beacon Hill                 -0.02       -6.32%  \n",
       "Mount Baker                  0.13       40.27%  \n",
       "Columbia City               -0.10      -79.77%  \n",
       "Othello                     -0.04      -36.10%  \n",
       "Rainier Beach                0.01        1.88%  \n",
       "Tukwila Int'l Blvd           0.30      114.52%  \n",
       "SeaTac/Airport              -0.14      -52.21%  \n",
       "Angle Lake                  99.28     -100.28%  \n",
       "University District Station 99.27     -100.27%  \n",
       "Roosevelt Station           99.49     -100.49%  \n",
       "Northgate Station           99.81     -100.82%  "
      ]
     },
     "execution_count": 15,
     "metadata": {},
     "output_type": "execute_result"
    }
   ],
   "source": [
    "df = pd.read_csv(os.path.join(csv_path,'light_rail_transfers.csv'), index_col='station_name')\n",
    "df[['percent_diff']] = df[['percent_diff']].applymap(format_percent)\n",
    "df"
   ]
  }
 ],
 "metadata": {
  "kernelspec": {
   "display_name": "Python 3",
   "language": "python",
   "name": "python3"
  },
  "language_info": {
   "codemirror_mode": {
    "name": "ipython",
    "version": 3
   },
   "file_extension": ".py",
   "mimetype": "text/x-python",
   "name": "python",
   "nbconvert_exporter": "python",
   "pygments_lexer": "ipython3",
   "version": "3.7.10"
  }
 },
 "nbformat": 4,
 "nbformat_minor": 5
}
