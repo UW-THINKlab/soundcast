{
 "cells": [
  {
   "cell_type": "raw",
   "id": "48597e7e80043434",
   "metadata": {},
   "source": [
    "---\n",
    "title: \"Transit Summary\"\n",
    "date: today\n",
    "---"
   ]
  },
  {
   "cell_type": "code",
   "execution_count": 1,
   "id": "3c1a81e12086b602",
   "metadata": {
    "ExecuteTime": {
     "end_time": "2024-06-24T20:05:20.341638Z",
     "start_time": "2024-06-24T20:05:20.232835Z"
    },
    "execution": {
     "iopub.execute_input": "2024-06-24T21:54:00.036541Z",
     "iopub.status.busy": "2024-06-24T21:54:00.036541Z",
     "iopub.status.idle": "2024-06-24T21:54:04.760522Z",
     "shell.execute_reply": "2024-06-24T21:54:04.760522Z"
    }
   },
   "outputs": [],
   "source": [
    "import os\n",
    "import pandas as pd\n",
    "import numpy as np\n",
    "from sqlalchemy import create_engine\n",
    "from scipy import stats\n",
    "import plotly.express as px\n",
    "import toml\n",
    "import psrc_theme\n",
    "\n",
    "%matplotlib inline\n",
    "from IPython.display import display, HTML\n",
    "\n",
    "# to show plotly figures in quarto HTML file\n",
    "import plotly.io as pio\n",
    "pio.renderers.default = \"plotly_mimetype+notebook_connected\"\n",
    "pio.templates.default = \"simple_white+psrc_color\" # set plotly template\n",
    "\n",
    "input_config = toml.load(os.path.join(os.getcwd(), '..\\\\..\\\\..\\\\..\\\\configuration', 'input_configuration.toml'))\n",
    "valid_config = toml.load(os.path.join(os.getcwd(), '..\\\\..\\\\..\\\\..\\\\configuration', 'validation_configuration.toml'))\n",
    "\n",
    "# create connection\n",
    "conn = create_engine('sqlite:///inputs/db/'+input_config['db_name'])\n",
    "\n",
    "# summary data location\n",
    "csv_path = os.path.join(valid_config['model_dir'], 'outputs/validation')\n",
    "\n",
    "# table format\n",
    "pd.options.display.float_format = '{:0,.2f}'.format\n",
    "format_percent = \"{:,.2%}\".format"
   ]
  },
  {
   "cell_type": "markdown",
   "id": "b00095bdf12d94c3",
   "metadata": {},
   "source": [
    "## transit boarding"
   ]
  },
  {
   "cell_type": "markdown",
   "id": "b0eb0b3986c9d024",
   "metadata": {},
   "source": [
    "### boarding by agency"
   ]
  },
  {
   "cell_type": "code",
   "execution_count": 2,
   "id": "daca8798e4e1c396",
   "metadata": {
    "ExecuteTime": {
     "end_time": "2024-06-24T20:04:29.076584Z",
     "start_time": "2024-06-24T20:04:29.029595Z"
    },
    "execution": {
     "iopub.execute_input": "2024-06-24T21:54:04.763531Z",
     "iopub.status.busy": "2024-06-24T21:54:04.763531Z",
     "iopub.status.idle": "2024-06-24T21:54:04.838812Z",
     "shell.execute_reply": "2024-06-24T21:54:04.838812Z"
    }
   },
   "outputs": [],
   "source": [
    "df = pd.read_csv(os.path.join(csv_path, 'daily_boardings_by_agency.csv')).sort_values('observed_boardings', ascending=False)\n",
    "plot_df = df.melt(id_vars=['agency'], value_vars=['observed_boardings', 'model_boardings'],\n",
    "                  var_name='source', value_name='count')"
   ]
  },
  {
   "cell_type": "code",
   "execution_count": 3,
   "id": "4f0d5527b7528301",
   "metadata": {
    "ExecuteTime": {
     "end_time": "2024-06-24T20:05:24.997972Z",
     "start_time": "2024-06-24T20:05:24.956972Z"
    },
    "execution": {
     "iopub.execute_input": "2024-06-24T21:54:04.854389Z",
     "iopub.status.busy": "2024-06-24T21:54:04.854389Z",
     "iopub.status.idle": "2024-06-24T21:54:04.947796Z",
     "shell.execute_reply": "2024-06-24T21:54:04.947796Z"
    }
   },
   "outputs": [
    {
     "data": {
      "text/html": [
       "<div>\n",
       "<style scoped>\n",
       "    .dataframe tbody tr th:only-of-type {\n",
       "        vertical-align: middle;\n",
       "    }\n",
       "\n",
       "    .dataframe tbody tr th {\n",
       "        vertical-align: top;\n",
       "    }\n",
       "\n",
       "    .dataframe thead th {\n",
       "        text-align: right;\n",
       "    }\n",
       "</style>\n",
       "<table border=\"1\" class=\"dataframe\">\n",
       "  <thead>\n",
       "    <tr style=\"text-align: right;\">\n",
       "      <th></th>\n",
       "      <th>agency</th>\n",
       "      <th>observed_boardings</th>\n",
       "      <th>model_boardings</th>\n",
       "      <th>diff</th>\n",
       "      <th>perc_diff</th>\n",
       "    </tr>\n",
       "  </thead>\n",
       "  <tbody>\n",
       "    <tr>\n",
       "      <th>3</th>\n",
       "      <td>Sound Transit</td>\n",
       "      <td>113,374.00</td>\n",
       "      <td>158,221.36</td>\n",
       "      <td>44,847.36</td>\n",
       "      <td>39.56%</td>\n",
       "    </tr>\n",
       "    <tr>\n",
       "      <th>4</th>\n",
       "      <td>Washington Ferries</td>\n",
       "      <td>9,278.21</td>\n",
       "      <td>5,658.13</td>\n",
       "      <td>-3,620.08</td>\n",
       "      <td>-39.02%</td>\n",
       "    </tr>\n",
       "    <tr>\n",
       "      <th>1</th>\n",
       "      <td>King County Metro</td>\n",
       "      <td>7,851.62</td>\n",
       "      <td>420,406.45</td>\n",
       "      <td>412,554.84</td>\n",
       "      <td>5,254.39%</td>\n",
       "    </tr>\n",
       "    <tr>\n",
       "      <th>2</th>\n",
       "      <td>Kitsap Transit</td>\n",
       "      <td>7,609.00</td>\n",
       "      <td>27,282.61</td>\n",
       "      <td>19,673.61</td>\n",
       "      <td>258.56%</td>\n",
       "    </tr>\n",
       "    <tr>\n",
       "      <th>0</th>\n",
       "      <td>Everett Transit</td>\n",
       "      <td>4,201.00</td>\n",
       "      <td>3,183.87</td>\n",
       "      <td>-1,017.13</td>\n",
       "      <td>-24.21%</td>\n",
       "    </tr>\n",
       "  </tbody>\n",
       "</table>\n",
       "</div>"
      ],
      "text/plain": [
       "               agency  observed_boardings  model_boardings       diff  \\\n",
       "3       Sound Transit          113,374.00       158,221.36  44,847.36   \n",
       "4  Washington Ferries            9,278.21         5,658.13  -3,620.08   \n",
       "1   King County Metro            7,851.62       420,406.45 412,554.84   \n",
       "2      Kitsap Transit            7,609.00        27,282.61  19,673.61   \n",
       "0     Everett Transit            4,201.00         3,183.87  -1,017.13   \n",
       "\n",
       "   perc_diff  \n",
       "3     39.56%  \n",
       "4    -39.02%  \n",
       "1  5,254.39%  \n",
       "2    258.56%  \n",
       "0    -24.21%  "
      ]
     },
     "execution_count": 3,
     "metadata": {},
     "output_type": "execute_result"
    }
   ],
   "source": [
    "table_df = df.copy()\n",
    "table_df[['observed_boardings','model_boardings','diff']] = table_df[['observed_boardings','model_boardings','diff']].astype('float')\n",
    "table_df[['perc_diff']] = table_df[['perc_diff']].applymap(format_percent)\n",
    "table_df"
   ]
  },
  {
   "cell_type": "code",
   "execution_count": 4,
   "id": "6df663cd30d914ea",
   "metadata": {
    "ExecuteTime": {
     "end_time": "2024-06-24T17:50:27.521549Z",
     "start_time": "2024-06-24T17:50:27.349538Z"
    },
    "execution": {
     "iopub.execute_input": "2024-06-24T21:54:04.963484Z",
     "iopub.status.busy": "2024-06-24T21:54:04.963484Z",
     "iopub.status.idle": "2024-06-24T21:54:05.624234Z",
     "shell.execute_reply": "2024-06-24T21:54:05.624234Z"
    }
   },
   "outputs": [
    {
     "data": {
      "text/html": [
       "        <script type=\"text/javascript\">\n",
       "        window.PlotlyConfig = {MathJaxConfig: 'local'};\n",
       "        if (window.MathJax && window.MathJax.Hub && window.MathJax.Hub.Config) {window.MathJax.Hub.Config({SVG: {font: \"STIX-Web\"}});}\n",
       "        if (typeof require !== 'undefined') {\n",
       "        require.undef(\"plotly\");\n",
       "        requirejs.config({\n",
       "            paths: {\n",
       "                'plotly': ['https://cdn.plot.ly/plotly-2.12.1.min']\n",
       "            }\n",
       "        });\n",
       "        require(['plotly'], function(Plotly) {\n",
       "            window._Plotly = Plotly;\n",
       "        });\n",
       "        }\n",
       "        </script>\n",
       "        "
      ]
     },
     "metadata": {},
     "output_type": "display_data"
    },
    {
     "data": {
      "application/vnd.plotly.v1+json": {
       "config": {
        "plotlyServerURL": "https://plot.ly"
       },
       "data": [
        {
         "alignmentgroup": "True",
         "hovertemplate": "source=model_boardings<br>agency=%{x}<br>count=%{y}<extra></extra>",
         "legendgroup": "model_boardings",
         "marker": {
          "color": "#91268F",
          "pattern": {
           "shape": ""
          }
         },
         "name": "model_boardings",
         "offsetgroup": "model_boardings",
         "orientation": "v",
         "showlegend": true,
         "textposition": "auto",
         "type": "bar",
         "x": [
          "Sound Transit",
          "Washington Ferries",
          "King County Metro",
          "Kitsap Transit",
          "Everett Transit"
         ],
         "xaxis": "x",
         "y": [
          158221.3596226573,
          5658.129811950028,
          420406.45472806273,
          27282.60749465227,
          3183.868073657155
         ],
         "yaxis": "y"
        },
        {
         "alignmentgroup": "True",
         "hovertemplate": "source=observed_boardings<br>agency=%{x}<br>count=%{y}<extra></extra>",
         "legendgroup": "observed_boardings",
         "marker": {
          "color": "#8CC63E",
          "pattern": {
           "shape": ""
          }
         },
         "name": "observed_boardings",
         "offsetgroup": "observed_boardings",
         "orientation": "v",
         "showlegend": true,
         "textposition": "auto",
         "type": "bar",
         "x": [
          "Sound Transit",
          "Washington Ferries",
          "King County Metro",
          "Kitsap Transit",
          "Everett Transit"
         ],
         "xaxis": "x",
         "y": [
          113374.0,
          9278.2087915,
          7851.619178999999,
          7609.0,
          4201.0
         ],
         "yaxis": "y"
        }
       ],
       "layout": {
        "barmode": "group",
        "font": {
         "size": 11
        },
        "height": 400,
        "legend": {
         "title": {
          "text": "source"
         },
         "tracegroupgap": 0
        },
        "template": {
         "data": {
          "bar": [
           {
            "error_x": {
             "color": "rgb(36,36,36)"
            },
            "error_y": {
             "color": "rgb(36,36,36)"
            },
            "marker": {
             "line": {
              "color": "white",
              "width": 0.5
             },
             "pattern": {
              "fillmode": "overlay",
              "size": 10,
              "solidity": 0.2
             }
            },
            "type": "bar"
           }
          ],
          "barpolar": [
           {
            "marker": {
             "line": {
              "color": "white",
              "width": 0.5
             },
             "pattern": {
              "fillmode": "overlay",
              "size": 10,
              "solidity": 0.2
             }
            },
            "type": "barpolar"
           }
          ],
          "carpet": [
           {
            "aaxis": {
             "endlinecolor": "rgb(36,36,36)",
             "gridcolor": "white",
             "linecolor": "white",
             "minorgridcolor": "white",
             "startlinecolor": "rgb(36,36,36)"
            },
            "baxis": {
             "endlinecolor": "rgb(36,36,36)",
             "gridcolor": "white",
             "linecolor": "white",
             "minorgridcolor": "white",
             "startlinecolor": "rgb(36,36,36)"
            },
            "type": "carpet"
           }
          ],
          "choropleth": [
           {
            "colorbar": {
             "outlinewidth": 1,
             "tickcolor": "rgb(36,36,36)",
             "ticks": "outside"
            },
            "type": "choropleth"
           }
          ],
          "contour": [
           {
            "colorbar": {
             "outlinewidth": 1,
             "tickcolor": "rgb(36,36,36)",
             "ticks": "outside"
            },
            "colorscale": [
             [
              0.0,
              "#440154"
             ],
             [
              0.1111111111111111,
              "#482878"
             ],
             [
              0.2222222222222222,
              "#3e4989"
             ],
             [
              0.3333333333333333,
              "#31688e"
             ],
             [
              0.4444444444444444,
              "#26828e"
             ],
             [
              0.5555555555555556,
              "#1f9e89"
             ],
             [
              0.6666666666666666,
              "#35b779"
             ],
             [
              0.7777777777777778,
              "#6ece58"
             ],
             [
              0.8888888888888888,
              "#b5de2b"
             ],
             [
              1.0,
              "#fde725"
             ]
            ],
            "type": "contour"
           }
          ],
          "contourcarpet": [
           {
            "colorbar": {
             "outlinewidth": 1,
             "tickcolor": "rgb(36,36,36)",
             "ticks": "outside"
            },
            "type": "contourcarpet"
           }
          ],
          "heatmap": [
           {
            "colorbar": {
             "outlinewidth": 1,
             "tickcolor": "rgb(36,36,36)",
             "ticks": "outside"
            },
            "colorscale": [
             [
              0.0,
              "#440154"
             ],
             [
              0.1111111111111111,
              "#482878"
             ],
             [
              0.2222222222222222,
              "#3e4989"
             ],
             [
              0.3333333333333333,
              "#31688e"
             ],
             [
              0.4444444444444444,
              "#26828e"
             ],
             [
              0.5555555555555556,
              "#1f9e89"
             ],
             [
              0.6666666666666666,
              "#35b779"
             ],
             [
              0.7777777777777778,
              "#6ece58"
             ],
             [
              0.8888888888888888,
              "#b5de2b"
             ],
             [
              1.0,
              "#fde725"
             ]
            ],
            "type": "heatmap"
           }
          ],
          "heatmapgl": [
           {
            "colorbar": {
             "outlinewidth": 1,
             "tickcolor": "rgb(36,36,36)",
             "ticks": "outside"
            },
            "colorscale": [
             [
              0.0,
              "#440154"
             ],
             [
              0.1111111111111111,
              "#482878"
             ],
             [
              0.2222222222222222,
              "#3e4989"
             ],
             [
              0.3333333333333333,
              "#31688e"
             ],
             [
              0.4444444444444444,
              "#26828e"
             ],
             [
              0.5555555555555556,
              "#1f9e89"
             ],
             [
              0.6666666666666666,
              "#35b779"
             ],
             [
              0.7777777777777778,
              "#6ece58"
             ],
             [
              0.8888888888888888,
              "#b5de2b"
             ],
             [
              1.0,
              "#fde725"
             ]
            ],
            "type": "heatmapgl"
           }
          ],
          "histogram": [
           {
            "marker": {
             "line": {
              "color": "white",
              "width": 0.6
             }
            },
            "type": "histogram"
           }
          ],
          "histogram2d": [
           {
            "colorbar": {
             "outlinewidth": 1,
             "tickcolor": "rgb(36,36,36)",
             "ticks": "outside"
            },
            "colorscale": [
             [
              0.0,
              "#440154"
             ],
             [
              0.1111111111111111,
              "#482878"
             ],
             [
              0.2222222222222222,
              "#3e4989"
             ],
             [
              0.3333333333333333,
              "#31688e"
             ],
             [
              0.4444444444444444,
              "#26828e"
             ],
             [
              0.5555555555555556,
              "#1f9e89"
             ],
             [
              0.6666666666666666,
              "#35b779"
             ],
             [
              0.7777777777777778,
              "#6ece58"
             ],
             [
              0.8888888888888888,
              "#b5de2b"
             ],
             [
              1.0,
              "#fde725"
             ]
            ],
            "type": "histogram2d"
           }
          ],
          "histogram2dcontour": [
           {
            "colorbar": {
             "outlinewidth": 1,
             "tickcolor": "rgb(36,36,36)",
             "ticks": "outside"
            },
            "colorscale": [
             [
              0.0,
              "#440154"
             ],
             [
              0.1111111111111111,
              "#482878"
             ],
             [
              0.2222222222222222,
              "#3e4989"
             ],
             [
              0.3333333333333333,
              "#31688e"
             ],
             [
              0.4444444444444444,
              "#26828e"
             ],
             [
              0.5555555555555556,
              "#1f9e89"
             ],
             [
              0.6666666666666666,
              "#35b779"
             ],
             [
              0.7777777777777778,
              "#6ece58"
             ],
             [
              0.8888888888888888,
              "#b5de2b"
             ],
             [
              1.0,
              "#fde725"
             ]
            ],
            "type": "histogram2dcontour"
           }
          ],
          "mesh3d": [
           {
            "colorbar": {
             "outlinewidth": 1,
             "tickcolor": "rgb(36,36,36)",
             "ticks": "outside"
            },
            "type": "mesh3d"
           }
          ],
          "parcoords": [
           {
            "line": {
             "colorbar": {
              "outlinewidth": 1,
              "tickcolor": "rgb(36,36,36)",
              "ticks": "outside"
             }
            },
            "type": "parcoords"
           }
          ],
          "pie": [
           {
            "automargin": true,
            "type": "pie"
           }
          ],
          "scatter": [
           {
            "fillpattern": {
             "fillmode": "overlay",
             "size": 10,
             "solidity": 0.2
            },
            "type": "scatter"
           }
          ],
          "scatter3d": [
           {
            "line": {
             "colorbar": {
              "outlinewidth": 1,
              "tickcolor": "rgb(36,36,36)",
              "ticks": "outside"
             }
            },
            "marker": {
             "colorbar": {
              "outlinewidth": 1,
              "tickcolor": "rgb(36,36,36)",
              "ticks": "outside"
             }
            },
            "type": "scatter3d"
           }
          ],
          "scattercarpet": [
           {
            "marker": {
             "colorbar": {
              "outlinewidth": 1,
              "tickcolor": "rgb(36,36,36)",
              "ticks": "outside"
             }
            },
            "type": "scattercarpet"
           }
          ],
          "scattergeo": [
           {
            "marker": {
             "colorbar": {
              "outlinewidth": 1,
              "tickcolor": "rgb(36,36,36)",
              "ticks": "outside"
             }
            },
            "type": "scattergeo"
           }
          ],
          "scattergl": [
           {
            "marker": {
             "colorbar": {
              "outlinewidth": 1,
              "tickcolor": "rgb(36,36,36)",
              "ticks": "outside"
             }
            },
            "type": "scattergl"
           }
          ],
          "scattermapbox": [
           {
            "marker": {
             "colorbar": {
              "outlinewidth": 1,
              "tickcolor": "rgb(36,36,36)",
              "ticks": "outside"
             }
            },
            "type": "scattermapbox"
           }
          ],
          "scatterpolar": [
           {
            "marker": {
             "colorbar": {
              "outlinewidth": 1,
              "tickcolor": "rgb(36,36,36)",
              "ticks": "outside"
             }
            },
            "type": "scatterpolar"
           }
          ],
          "scatterpolargl": [
           {
            "marker": {
             "colorbar": {
              "outlinewidth": 1,
              "tickcolor": "rgb(36,36,36)",
              "ticks": "outside"
             }
            },
            "type": "scatterpolargl"
           }
          ],
          "scatterternary": [
           {
            "marker": {
             "colorbar": {
              "outlinewidth": 1,
              "tickcolor": "rgb(36,36,36)",
              "ticks": "outside"
             }
            },
            "type": "scatterternary"
           }
          ],
          "surface": [
           {
            "colorbar": {
             "outlinewidth": 1,
             "tickcolor": "rgb(36,36,36)",
             "ticks": "outside"
            },
            "colorscale": [
             [
              0.0,
              "#440154"
             ],
             [
              0.1111111111111111,
              "#482878"
             ],
             [
              0.2222222222222222,
              "#3e4989"
             ],
             [
              0.3333333333333333,
              "#31688e"
             ],
             [
              0.4444444444444444,
              "#26828e"
             ],
             [
              0.5555555555555556,
              "#1f9e89"
             ],
             [
              0.6666666666666666,
              "#35b779"
             ],
             [
              0.7777777777777778,
              "#6ece58"
             ],
             [
              0.8888888888888888,
              "#b5de2b"
             ],
             [
              1.0,
              "#fde725"
             ]
            ],
            "type": "surface"
           }
          ],
          "table": [
           {
            "cells": {
             "fill": {
              "color": "rgb(237,237,237)"
             },
             "line": {
              "color": "white"
             }
            },
            "header": {
             "fill": {
              "color": "rgb(217,217,217)"
             },
             "line": {
              "color": "white"
             }
            },
            "type": "table"
           }
          ]
         },
         "layout": {
          "annotationdefaults": {
           "arrowhead": 0,
           "arrowwidth": 1
          },
          "autotypenumbers": "strict",
          "coloraxis": {
           "colorbar": {
            "outlinewidth": 1,
            "tickcolor": "rgb(36,36,36)",
            "ticks": "outside"
           }
          },
          "colorscale": {
           "diverging": [
            [
             0.0,
             "rgb(103,0,31)"
            ],
            [
             0.1,
             "rgb(178,24,43)"
            ],
            [
             0.2,
             "rgb(214,96,77)"
            ],
            [
             0.3,
             "rgb(244,165,130)"
            ],
            [
             0.4,
             "rgb(253,219,199)"
            ],
            [
             0.5,
             "rgb(247,247,247)"
            ],
            [
             0.6,
             "rgb(209,229,240)"
            ],
            [
             0.7,
             "rgb(146,197,222)"
            ],
            [
             0.8,
             "rgb(67,147,195)"
            ],
            [
             0.9,
             "rgb(33,102,172)"
            ],
            [
             1.0,
             "rgb(5,48,97)"
            ]
           ],
           "sequential": [
            [
             0.0,
             "#440154"
            ],
            [
             0.1111111111111111,
             "#482878"
            ],
            [
             0.2222222222222222,
             "#3e4989"
            ],
            [
             0.3333333333333333,
             "#31688e"
            ],
            [
             0.4444444444444444,
             "#26828e"
            ],
            [
             0.5555555555555556,
             "#1f9e89"
            ],
            [
             0.6666666666666666,
             "#35b779"
            ],
            [
             0.7777777777777778,
             "#6ece58"
            ],
            [
             0.8888888888888888,
             "#b5de2b"
            ],
            [
             1.0,
             "#fde725"
            ]
           ],
           "sequentialminus": [
            [
             0.0,
             "#440154"
            ],
            [
             0.1111111111111111,
             "#482878"
            ],
            [
             0.2222222222222222,
             "#3e4989"
            ],
            [
             0.3333333333333333,
             "#31688e"
            ],
            [
             0.4444444444444444,
             "#26828e"
            ],
            [
             0.5555555555555556,
             "#1f9e89"
            ],
            [
             0.6666666666666666,
             "#35b779"
            ],
            [
             0.7777777777777778,
             "#6ece58"
            ],
            [
             0.8888888888888888,
             "#b5de2b"
            ],
            [
             1.0,
             "#fde725"
            ]
           ]
          },
          "colorway": [
           "#91268F",
           "#8CC63E",
           "#00A7A0",
           "#F05A28",
           "#4C4C4C",
           "#630460",
           "#9f3913",
           "#588527",
           "#00716c",
           "#3e4040"
          ],
          "font": {
           "color": "rgb(36,36,36)",
           "family": "Poppins",
           "size": 11
          },
          "geo": {
           "bgcolor": "white",
           "lakecolor": "white",
           "landcolor": "white",
           "showlakes": true,
           "showland": true,
           "subunitcolor": "white"
          },
          "hoverlabel": {
           "align": "left"
          },
          "hovermode": "closest",
          "mapbox": {
           "style": "light"
          },
          "paper_bgcolor": "white",
          "plot_bgcolor": "white",
          "polar": {
           "angularaxis": {
            "gridcolor": "rgb(232,232,232)",
            "linecolor": "rgb(36,36,36)",
            "showgrid": false,
            "showline": true,
            "ticks": "outside"
           },
           "bgcolor": "white",
           "radialaxis": {
            "gridcolor": "rgb(232,232,232)",
            "linecolor": "rgb(36,36,36)",
            "showgrid": false,
            "showline": true,
            "ticks": "outside"
           }
          },
          "scene": {
           "xaxis": {
            "backgroundcolor": "white",
            "gridcolor": "rgb(232,232,232)",
            "gridwidth": 2,
            "linecolor": "rgb(36,36,36)",
            "showbackground": true,
            "showgrid": false,
            "showline": true,
            "ticks": "outside",
            "zeroline": false,
            "zerolinecolor": "rgb(36,36,36)"
           },
           "yaxis": {
            "backgroundcolor": "white",
            "gridcolor": "rgb(232,232,232)",
            "gridwidth": 2,
            "linecolor": "rgb(36,36,36)",
            "showbackground": true,
            "showgrid": false,
            "showline": true,
            "ticks": "outside",
            "zeroline": false,
            "zerolinecolor": "rgb(36,36,36)"
           },
           "zaxis": {
            "backgroundcolor": "white",
            "gridcolor": "rgb(232,232,232)",
            "gridwidth": 2,
            "linecolor": "rgb(36,36,36)",
            "showbackground": true,
            "showgrid": false,
            "showline": true,
            "ticks": "outside",
            "zeroline": false,
            "zerolinecolor": "rgb(36,36,36)"
           }
          },
          "shapedefaults": {
           "fillcolor": "black",
           "line": {
            "width": 0
           },
           "opacity": 0.3
          },
          "ternary": {
           "aaxis": {
            "gridcolor": "rgb(232,232,232)",
            "linecolor": "rgb(36,36,36)",
            "showgrid": false,
            "showline": true,
            "ticks": "outside"
           },
           "baxis": {
            "gridcolor": "rgb(232,232,232)",
            "linecolor": "rgb(36,36,36)",
            "showgrid": false,
            "showline": true,
            "ticks": "outside"
           },
           "bgcolor": "white",
           "caxis": {
            "gridcolor": "rgb(232,232,232)",
            "linecolor": "rgb(36,36,36)",
            "showgrid": false,
            "showline": true,
            "ticks": "outside"
           }
          },
          "title": {
           "x": 0.05
          },
          "xaxis": {
           "automargin": true,
           "gridcolor": "rgb(232,232,232)",
           "linecolor": "rgb(36,36,36)",
           "showgrid": false,
           "showline": true,
           "ticks": "outside",
           "title": {
            "standoff": 15
           },
           "zeroline": false,
           "zerolinecolor": "rgb(36,36,36)"
          },
          "yaxis": {
           "automargin": true,
           "gridcolor": "rgb(232,232,232)",
           "linecolor": "rgb(36,36,36)",
           "showgrid": false,
           "showline": true,
           "ticks": "outside",
           "title": {
            "standoff": 15
           },
           "zeroline": false,
           "zerolinecolor": "rgb(36,36,36)"
          }
         }
        },
        "title": {
         "text": "transit boardings by agency"
        },
        "width": 700,
        "xaxis": {
         "anchor": "y",
         "domain": [
          0.0,
          1.0
         ],
         "title": {
          "text": "agency"
         }
        },
        "yaxis": {
         "anchor": "x",
         "domain": [
          0.0,
          1.0
         ],
         "tickformat": ".2f",
         "title": {
          "text": "count"
         }
        }
       }
      },
      "text/html": [
       "<div>                            <div id=\"c3685b3b-ab63-495b-90d0-dbf3838ea83d\" class=\"plotly-graph-div\" style=\"height:400px; width:700px;\"></div>            <script type=\"text/javascript\">                require([\"plotly\"], function(Plotly) {                    window.PLOTLYENV=window.PLOTLYENV || {};                                    if (document.getElementById(\"c3685b3b-ab63-495b-90d0-dbf3838ea83d\")) {                    Plotly.newPlot(                        \"c3685b3b-ab63-495b-90d0-dbf3838ea83d\",                        [{\"alignmentgroup\":\"True\",\"hovertemplate\":\"source=model_boardings<br>agency=%{x}<br>count=%{y}<extra></extra>\",\"legendgroup\":\"model_boardings\",\"marker\":{\"color\":\"#91268F\",\"pattern\":{\"shape\":\"\"}},\"name\":\"model_boardings\",\"offsetgroup\":\"model_boardings\",\"orientation\":\"v\",\"showlegend\":true,\"textposition\":\"auto\",\"x\":[\"Sound Transit\",\"Washington Ferries\",\"King County Metro\",\"Kitsap Transit\",\"Everett Transit\"],\"xaxis\":\"x\",\"y\":[158221.3596226573,5658.129811950028,420406.45472806273,27282.60749465227,3183.868073657155],\"yaxis\":\"y\",\"type\":\"bar\"},{\"alignmentgroup\":\"True\",\"hovertemplate\":\"source=observed_boardings<br>agency=%{x}<br>count=%{y}<extra></extra>\",\"legendgroup\":\"observed_boardings\",\"marker\":{\"color\":\"#8CC63E\",\"pattern\":{\"shape\":\"\"}},\"name\":\"observed_boardings\",\"offsetgroup\":\"observed_boardings\",\"orientation\":\"v\",\"showlegend\":true,\"textposition\":\"auto\",\"x\":[\"Sound Transit\",\"Washington Ferries\",\"King County Metro\",\"Kitsap Transit\",\"Everett Transit\"],\"xaxis\":\"x\",\"y\":[113374.0,9278.2087915,7851.619178999999,7609.0,4201.0],\"yaxis\":\"y\",\"type\":\"bar\"}],                        {\"template\":{\"data\":{\"barpolar\":[{\"marker\":{\"line\":{\"color\":\"white\",\"width\":0.5},\"pattern\":{\"fillmode\":\"overlay\",\"size\":10,\"solidity\":0.2}},\"type\":\"barpolar\"}],\"bar\":[{\"error_x\":{\"color\":\"rgb(36,36,36)\"},\"error_y\":{\"color\":\"rgb(36,36,36)\"},\"marker\":{\"line\":{\"color\":\"white\",\"width\":0.5},\"pattern\":{\"fillmode\":\"overlay\",\"size\":10,\"solidity\":0.2}},\"type\":\"bar\"}],\"carpet\":[{\"aaxis\":{\"endlinecolor\":\"rgb(36,36,36)\",\"gridcolor\":\"white\",\"linecolor\":\"white\",\"minorgridcolor\":\"white\",\"startlinecolor\":\"rgb(36,36,36)\"},\"baxis\":{\"endlinecolor\":\"rgb(36,36,36)\",\"gridcolor\":\"white\",\"linecolor\":\"white\",\"minorgridcolor\":\"white\",\"startlinecolor\":\"rgb(36,36,36)\"},\"type\":\"carpet\"}],\"choropleth\":[{\"colorbar\":{\"outlinewidth\":1,\"tickcolor\":\"rgb(36,36,36)\",\"ticks\":\"outside\"},\"type\":\"choropleth\"}],\"contourcarpet\":[{\"colorbar\":{\"outlinewidth\":1,\"tickcolor\":\"rgb(36,36,36)\",\"ticks\":\"outside\"},\"type\":\"contourcarpet\"}],\"contour\":[{\"colorbar\":{\"outlinewidth\":1,\"tickcolor\":\"rgb(36,36,36)\",\"ticks\":\"outside\"},\"colorscale\":[[0.0,\"#440154\"],[0.1111111111111111,\"#482878\"],[0.2222222222222222,\"#3e4989\"],[0.3333333333333333,\"#31688e\"],[0.4444444444444444,\"#26828e\"],[0.5555555555555556,\"#1f9e89\"],[0.6666666666666666,\"#35b779\"],[0.7777777777777778,\"#6ece58\"],[0.8888888888888888,\"#b5de2b\"],[1.0,\"#fde725\"]],\"type\":\"contour\"}],\"heatmapgl\":[{\"colorbar\":{\"outlinewidth\":1,\"tickcolor\":\"rgb(36,36,36)\",\"ticks\":\"outside\"},\"colorscale\":[[0.0,\"#440154\"],[0.1111111111111111,\"#482878\"],[0.2222222222222222,\"#3e4989\"],[0.3333333333333333,\"#31688e\"],[0.4444444444444444,\"#26828e\"],[0.5555555555555556,\"#1f9e89\"],[0.6666666666666666,\"#35b779\"],[0.7777777777777778,\"#6ece58\"],[0.8888888888888888,\"#b5de2b\"],[1.0,\"#fde725\"]],\"type\":\"heatmapgl\"}],\"heatmap\":[{\"colorbar\":{\"outlinewidth\":1,\"tickcolor\":\"rgb(36,36,36)\",\"ticks\":\"outside\"},\"colorscale\":[[0.0,\"#440154\"],[0.1111111111111111,\"#482878\"],[0.2222222222222222,\"#3e4989\"],[0.3333333333333333,\"#31688e\"],[0.4444444444444444,\"#26828e\"],[0.5555555555555556,\"#1f9e89\"],[0.6666666666666666,\"#35b779\"],[0.7777777777777778,\"#6ece58\"],[0.8888888888888888,\"#b5de2b\"],[1.0,\"#fde725\"]],\"type\":\"heatmap\"}],\"histogram2dcontour\":[{\"colorbar\":{\"outlinewidth\":1,\"tickcolor\":\"rgb(36,36,36)\",\"ticks\":\"outside\"},\"colorscale\":[[0.0,\"#440154\"],[0.1111111111111111,\"#482878\"],[0.2222222222222222,\"#3e4989\"],[0.3333333333333333,\"#31688e\"],[0.4444444444444444,\"#26828e\"],[0.5555555555555556,\"#1f9e89\"],[0.6666666666666666,\"#35b779\"],[0.7777777777777778,\"#6ece58\"],[0.8888888888888888,\"#b5de2b\"],[1.0,\"#fde725\"]],\"type\":\"histogram2dcontour\"}],\"histogram2d\":[{\"colorbar\":{\"outlinewidth\":1,\"tickcolor\":\"rgb(36,36,36)\",\"ticks\":\"outside\"},\"colorscale\":[[0.0,\"#440154\"],[0.1111111111111111,\"#482878\"],[0.2222222222222222,\"#3e4989\"],[0.3333333333333333,\"#31688e\"],[0.4444444444444444,\"#26828e\"],[0.5555555555555556,\"#1f9e89\"],[0.6666666666666666,\"#35b779\"],[0.7777777777777778,\"#6ece58\"],[0.8888888888888888,\"#b5de2b\"],[1.0,\"#fde725\"]],\"type\":\"histogram2d\"}],\"histogram\":[{\"marker\":{\"line\":{\"color\":\"white\",\"width\":0.6}},\"type\":\"histogram\"}],\"mesh3d\":[{\"colorbar\":{\"outlinewidth\":1,\"tickcolor\":\"rgb(36,36,36)\",\"ticks\":\"outside\"},\"type\":\"mesh3d\"}],\"parcoords\":[{\"line\":{\"colorbar\":{\"outlinewidth\":1,\"tickcolor\":\"rgb(36,36,36)\",\"ticks\":\"outside\"}},\"type\":\"parcoords\"}],\"pie\":[{\"automargin\":true,\"type\":\"pie\"}],\"scatter3d\":[{\"line\":{\"colorbar\":{\"outlinewidth\":1,\"tickcolor\":\"rgb(36,36,36)\",\"ticks\":\"outside\"}},\"marker\":{\"colorbar\":{\"outlinewidth\":1,\"tickcolor\":\"rgb(36,36,36)\",\"ticks\":\"outside\"}},\"type\":\"scatter3d\"}],\"scattercarpet\":[{\"marker\":{\"colorbar\":{\"outlinewidth\":1,\"tickcolor\":\"rgb(36,36,36)\",\"ticks\":\"outside\"}},\"type\":\"scattercarpet\"}],\"scattergeo\":[{\"marker\":{\"colorbar\":{\"outlinewidth\":1,\"tickcolor\":\"rgb(36,36,36)\",\"ticks\":\"outside\"}},\"type\":\"scattergeo\"}],\"scattergl\":[{\"marker\":{\"colorbar\":{\"outlinewidth\":1,\"tickcolor\":\"rgb(36,36,36)\",\"ticks\":\"outside\"}},\"type\":\"scattergl\"}],\"scattermapbox\":[{\"marker\":{\"colorbar\":{\"outlinewidth\":1,\"tickcolor\":\"rgb(36,36,36)\",\"ticks\":\"outside\"}},\"type\":\"scattermapbox\"}],\"scatterpolargl\":[{\"marker\":{\"colorbar\":{\"outlinewidth\":1,\"tickcolor\":\"rgb(36,36,36)\",\"ticks\":\"outside\"}},\"type\":\"scatterpolargl\"}],\"scatterpolar\":[{\"marker\":{\"colorbar\":{\"outlinewidth\":1,\"tickcolor\":\"rgb(36,36,36)\",\"ticks\":\"outside\"}},\"type\":\"scatterpolar\"}],\"scatter\":[{\"fillpattern\":{\"fillmode\":\"overlay\",\"size\":10,\"solidity\":0.2},\"type\":\"scatter\"}],\"scatterternary\":[{\"marker\":{\"colorbar\":{\"outlinewidth\":1,\"tickcolor\":\"rgb(36,36,36)\",\"ticks\":\"outside\"}},\"type\":\"scatterternary\"}],\"surface\":[{\"colorbar\":{\"outlinewidth\":1,\"tickcolor\":\"rgb(36,36,36)\",\"ticks\":\"outside\"},\"colorscale\":[[0.0,\"#440154\"],[0.1111111111111111,\"#482878\"],[0.2222222222222222,\"#3e4989\"],[0.3333333333333333,\"#31688e\"],[0.4444444444444444,\"#26828e\"],[0.5555555555555556,\"#1f9e89\"],[0.6666666666666666,\"#35b779\"],[0.7777777777777778,\"#6ece58\"],[0.8888888888888888,\"#b5de2b\"],[1.0,\"#fde725\"]],\"type\":\"surface\"}],\"table\":[{\"cells\":{\"fill\":{\"color\":\"rgb(237,237,237)\"},\"line\":{\"color\":\"white\"}},\"header\":{\"fill\":{\"color\":\"rgb(217,217,217)\"},\"line\":{\"color\":\"white\"}},\"type\":\"table\"}]},\"layout\":{\"annotationdefaults\":{\"arrowhead\":0,\"arrowwidth\":1},\"autotypenumbers\":\"strict\",\"coloraxis\":{\"colorbar\":{\"outlinewidth\":1,\"tickcolor\":\"rgb(36,36,36)\",\"ticks\":\"outside\"}},\"colorscale\":{\"diverging\":[[0.0,\"rgb(103,0,31)\"],[0.1,\"rgb(178,24,43)\"],[0.2,\"rgb(214,96,77)\"],[0.3,\"rgb(244,165,130)\"],[0.4,\"rgb(253,219,199)\"],[0.5,\"rgb(247,247,247)\"],[0.6,\"rgb(209,229,240)\"],[0.7,\"rgb(146,197,222)\"],[0.8,\"rgb(67,147,195)\"],[0.9,\"rgb(33,102,172)\"],[1.0,\"rgb(5,48,97)\"]],\"sequential\":[[0.0,\"#440154\"],[0.1111111111111111,\"#482878\"],[0.2222222222222222,\"#3e4989\"],[0.3333333333333333,\"#31688e\"],[0.4444444444444444,\"#26828e\"],[0.5555555555555556,\"#1f9e89\"],[0.6666666666666666,\"#35b779\"],[0.7777777777777778,\"#6ece58\"],[0.8888888888888888,\"#b5de2b\"],[1.0,\"#fde725\"]],\"sequentialminus\":[[0.0,\"#440154\"],[0.1111111111111111,\"#482878\"],[0.2222222222222222,\"#3e4989\"],[0.3333333333333333,\"#31688e\"],[0.4444444444444444,\"#26828e\"],[0.5555555555555556,\"#1f9e89\"],[0.6666666666666666,\"#35b779\"],[0.7777777777777778,\"#6ece58\"],[0.8888888888888888,\"#b5de2b\"],[1.0,\"#fde725\"]]},\"colorway\":[\"#91268F\",\"#8CC63E\",\"#00A7A0\",\"#F05A28\",\"#4C4C4C\",\"#630460\",\"#9f3913\",\"#588527\",\"#00716c\",\"#3e4040\"],\"font\":{\"color\":\"rgb(36,36,36)\",\"family\":\"Poppins\",\"size\":11},\"geo\":{\"bgcolor\":\"white\",\"lakecolor\":\"white\",\"landcolor\":\"white\",\"showlakes\":true,\"showland\":true,\"subunitcolor\":\"white\"},\"hoverlabel\":{\"align\":\"left\"},\"hovermode\":\"closest\",\"mapbox\":{\"style\":\"light\"},\"paper_bgcolor\":\"white\",\"plot_bgcolor\":\"white\",\"polar\":{\"angularaxis\":{\"gridcolor\":\"rgb(232,232,232)\",\"linecolor\":\"rgb(36,36,36)\",\"showgrid\":false,\"showline\":true,\"ticks\":\"outside\"},\"bgcolor\":\"white\",\"radialaxis\":{\"gridcolor\":\"rgb(232,232,232)\",\"linecolor\":\"rgb(36,36,36)\",\"showgrid\":false,\"showline\":true,\"ticks\":\"outside\"}},\"scene\":{\"xaxis\":{\"backgroundcolor\":\"white\",\"gridcolor\":\"rgb(232,232,232)\",\"gridwidth\":2,\"linecolor\":\"rgb(36,36,36)\",\"showbackground\":true,\"showgrid\":false,\"showline\":true,\"ticks\":\"outside\",\"zeroline\":false,\"zerolinecolor\":\"rgb(36,36,36)\"},\"yaxis\":{\"backgroundcolor\":\"white\",\"gridcolor\":\"rgb(232,232,232)\",\"gridwidth\":2,\"linecolor\":\"rgb(36,36,36)\",\"showbackground\":true,\"showgrid\":false,\"showline\":true,\"ticks\":\"outside\",\"zeroline\":false,\"zerolinecolor\":\"rgb(36,36,36)\"},\"zaxis\":{\"backgroundcolor\":\"white\",\"gridcolor\":\"rgb(232,232,232)\",\"gridwidth\":2,\"linecolor\":\"rgb(36,36,36)\",\"showbackground\":true,\"showgrid\":false,\"showline\":true,\"ticks\":\"outside\",\"zeroline\":false,\"zerolinecolor\":\"rgb(36,36,36)\"}},\"shapedefaults\":{\"fillcolor\":\"black\",\"line\":{\"width\":0},\"opacity\":0.3},\"ternary\":{\"aaxis\":{\"gridcolor\":\"rgb(232,232,232)\",\"linecolor\":\"rgb(36,36,36)\",\"showgrid\":false,\"showline\":true,\"ticks\":\"outside\"},\"baxis\":{\"gridcolor\":\"rgb(232,232,232)\",\"linecolor\":\"rgb(36,36,36)\",\"showgrid\":false,\"showline\":true,\"ticks\":\"outside\"},\"bgcolor\":\"white\",\"caxis\":{\"gridcolor\":\"rgb(232,232,232)\",\"linecolor\":\"rgb(36,36,36)\",\"showgrid\":false,\"showline\":true,\"ticks\":\"outside\"}},\"title\":{\"x\":0.05},\"xaxis\":{\"automargin\":true,\"gridcolor\":\"rgb(232,232,232)\",\"linecolor\":\"rgb(36,36,36)\",\"showgrid\":false,\"showline\":true,\"ticks\":\"outside\",\"title\":{\"standoff\":15},\"zeroline\":false,\"zerolinecolor\":\"rgb(36,36,36)\"},\"yaxis\":{\"automargin\":true,\"gridcolor\":\"rgb(232,232,232)\",\"linecolor\":\"rgb(36,36,36)\",\"showgrid\":false,\"showline\":true,\"ticks\":\"outside\",\"title\":{\"standoff\":15},\"zeroline\":false,\"zerolinecolor\":\"rgb(36,36,36)\"}}},\"xaxis\":{\"anchor\":\"y\",\"domain\":[0.0,1.0],\"title\":{\"text\":\"agency\"}},\"yaxis\":{\"anchor\":\"x\",\"domain\":[0.0,1.0],\"title\":{\"text\":\"count\"},\"tickformat\":\".2f\"},\"legend\":{\"title\":{\"text\":\"source\"},\"tracegroupgap\":0},\"title\":{\"text\":\"transit boardings by agency\"},\"barmode\":\"group\",\"font\":{\"size\":11},\"height\":400,\"width\":700},                        {\"responsive\": true}                    ).then(function(){\n",
       "                            \n",
       "var gd = document.getElementById('c3685b3b-ab63-495b-90d0-dbf3838ea83d');\n",
       "var x = new MutationObserver(function (mutations, observer) {{\n",
       "        var display = window.getComputedStyle(gd).display;\n",
       "        if (!display || display === 'none') {{\n",
       "            console.log([gd, 'removed!']);\n",
       "            Plotly.purge(gd);\n",
       "            observer.disconnect();\n",
       "        }}\n",
       "}});\n",
       "\n",
       "// Listen for the removal of the full notebook cells\n",
       "var notebookContainer = gd.closest('#notebook-container');\n",
       "if (notebookContainer) {{\n",
       "    x.observe(notebookContainer, {childList: true});\n",
       "}}\n",
       "\n",
       "// Listen for the clearing of the current output cell\n",
       "var outputEl = gd.closest('.output');\n",
       "if (outputEl) {{\n",
       "    x.observe(outputEl, {childList: true});\n",
       "}}\n",
       "\n",
       "                        })                };                });            </script>        </div>"
      ]
     },
     "metadata": {},
     "output_type": "display_data"
    }
   ],
   "source": [
    "# fig = px.bar(plot_df.sort_values('source'), x=\"agency\", y=\"count\",\n",
    "#              color=\"source\", barmode=\"group\",\n",
    "#              title=\"transit boardings by agency\")\n",
    "# fig.update_layout(height=400, width=700, font=dict(size=11),\n",
    "#                   yaxis_tickformat = '.2f')\n",
    "# fig.show()"
   ]
  },
  {
   "cell_type": "markdown",
   "id": "10436e8bdd112348",
   "metadata": {},
   "source": [
    "### boarding by key route"
   ]
  },
  {
   "cell_type": "raw",
   "id": "7d0d62e3693265f8",
   "metadata": {},
   "source": [
    ":::{.panel-tabset}\n",
    "#### ferry"
   ]
  },
  {
   "cell_type": "code",
   "execution_count": 5,
   "id": "75118f994b2c8118",
   "metadata": {
    "ExecuteTime": {
     "end_time": "2024-06-24T20:05:33.107476Z",
     "start_time": "2024-06-24T20:05:33.044901Z"
    },
    "execution": {
     "iopub.execute_input": "2024-06-24T21:54:05.635341Z",
     "iopub.status.busy": "2024-06-24T21:54:05.635341Z",
     "iopub.status.idle": "2024-06-24T21:54:05.765503Z",
     "shell.execute_reply": "2024-06-24T21:54:05.765503Z"
    }
   },
   "outputs": [
    {
     "data": {
      "text/html": [
       "<div>\n",
       "<style scoped>\n",
       "    .dataframe tbody tr th:only-of-type {\n",
       "        vertical-align: middle;\n",
       "    }\n",
       "\n",
       "    .dataframe tbody tr th {\n",
       "        vertical-align: top;\n",
       "    }\n",
       "\n",
       "    .dataframe thead th {\n",
       "        text-align: right;\n",
       "    }\n",
       "</style>\n",
       "<table border=\"1\" class=\"dataframe\">\n",
       "  <thead>\n",
       "    <tr style=\"text-align: right;\">\n",
       "      <th></th>\n",
       "      <th>description</th>\n",
       "      <th>observed_boardings</th>\n",
       "      <th>model_boardings</th>\n",
       "      <th>diff</th>\n",
       "      <th>perc_diff</th>\n",
       "    </tr>\n",
       "  </thead>\n",
       "  <tbody>\n",
       "    <tr>\n",
       "      <th>0</th>\n",
       "      <td>W</td>\n",
       "      <td>759.00</td>\n",
       "      <td>1,003.66</td>\n",
       "      <td>244.66</td>\n",
       "      <td>32.24%</td>\n",
       "    </tr>\n",
       "    <tr>\n",
       "      <th>1</th>\n",
       "      <td>S</td>\n",
       "      <td>338.00</td>\n",
       "      <td>958.65</td>\n",
       "      <td>620.65</td>\n",
       "      <td>183.62%</td>\n",
       "    </tr>\n",
       "    <tr>\n",
       "      <th>2</th>\n",
       "      <td>Kingston - EdmondsE</td>\n",
       "      <td>1,500.13</td>\n",
       "      <td>139.14</td>\n",
       "      <td>-1,360.99</td>\n",
       "      <td>-90.72%</td>\n",
       "    </tr>\n",
       "    <tr>\n",
       "      <th>3</th>\n",
       "      <td>Bainbridge Island -</td>\n",
       "      <td>5,513.69</td>\n",
       "      <td>3,283.46</td>\n",
       "      <td>-2,230.23</td>\n",
       "      <td>-40.45%</td>\n",
       "    </tr>\n",
       "    <tr>\n",
       "      <th>4</th>\n",
       "      <td>WSF Bremerton - Seat</td>\n",
       "      <td>1,188.97</td>\n",
       "      <td>162.91</td>\n",
       "      <td>-1,026.06</td>\n",
       "      <td>-86.30%</td>\n",
       "    </tr>\n",
       "    <tr>\n",
       "      <th>5</th>\n",
       "      <td>Southworth - Fauntle</td>\n",
       "      <td>142.56</td>\n",
       "      <td>253.35</td>\n",
       "      <td>110.79</td>\n",
       "      <td>77.71%</td>\n",
       "    </tr>\n",
       "    <tr>\n",
       "      <th>6</th>\n",
       "      <td>Vashon Island - Faun</td>\n",
       "      <td>560.04</td>\n",
       "      <td>1,551.50</td>\n",
       "      <td>991.46</td>\n",
       "      <td>177.03%</td>\n",
       "    </tr>\n",
       "    <tr>\n",
       "      <th>7</th>\n",
       "      <td>Southworth - Vashon</td>\n",
       "      <td>107.76</td>\n",
       "      <td>107.10</td>\n",
       "      <td>-0.66</td>\n",
       "      <td>-0.61%</td>\n",
       "    </tr>\n",
       "    <tr>\n",
       "      <th>8</th>\n",
       "      <td>Point Defiance - Tah</td>\n",
       "      <td>265.05</td>\n",
       "      <td>160.67</td>\n",
       "      <td>-104.38</td>\n",
       "      <td>-39.38%</td>\n",
       "    </tr>\n",
       "  </tbody>\n",
       "</table>\n",
       "</div>"
      ],
      "text/plain": [
       "            description  observed_boardings  model_boardings      diff  \\\n",
       "0                     W              759.00         1,003.66    244.66   \n",
       "1                     S              338.00           958.65    620.65   \n",
       "2   Kingston - EdmondsE            1,500.13           139.14 -1,360.99   \n",
       "3   Bainbridge Island -            5,513.69         3,283.46 -2,230.23   \n",
       "4  WSF Bremerton - Seat            1,188.97           162.91 -1,026.06   \n",
       "5  Southworth - Fauntle              142.56           253.35    110.79   \n",
       "6  Vashon Island - Faun              560.04         1,551.50    991.46   \n",
       "7   Southworth - Vashon              107.76           107.10     -0.66   \n",
       "8  Point Defiance - Tah              265.05           160.67   -104.38   \n",
       "\n",
       "  perc_diff  \n",
       "0    32.24%  \n",
       "1   183.62%  \n",
       "2   -90.72%  \n",
       "3   -40.45%  \n",
       "4   -86.30%  \n",
       "5    77.71%  \n",
       "6   177.03%  \n",
       "7    -0.61%  \n",
       "8   -39.38%  "
      ]
     },
     "execution_count": 5,
     "metadata": {},
     "output_type": "execute_result"
    }
   ],
   "source": [
    "df_boarding_key = pd.read_csv(os.path.join(csv_path,'daily_boardings_key_routes.csv'), index_col='description')\n",
    "df_boarding_key[['observed_boardings','model_boardings']] = df_boarding_key[['observed_boardings','model_boardings']].astype('float')\n",
    "\n",
    "df = df_boarding_key[df_boarding_key['route_code'].isin([5001,5002,5003,5004,5005,5006,5007,1973,1975])].reset_index()\n",
    "df.drop(['route_code','agency'], axis=1, inplace=True)\n",
    "\n",
    "df_table = df.copy()\n",
    "df_table[['perc_diff']] = df_table[['perc_diff']].applymap(format_percent)\n",
    "df_table"
   ]
  },
  {
   "cell_type": "code",
   "execution_count": 6,
   "id": "67bf06d211cca3c6",
   "metadata": {
    "ExecuteTime": {
     "end_time": "2024-06-24T19:41:04.985397Z",
     "start_time": "2024-06-24T19:41:04.798158Z"
    },
    "execution": {
     "iopub.execute_input": "2024-06-24T21:54:05.775515Z",
     "iopub.status.busy": "2024-06-24T21:54:05.775515Z",
     "iopub.status.idle": "2024-06-24T21:54:06.260397Z",
     "shell.execute_reply": "2024-06-24T21:54:06.260397Z"
    }
   },
   "outputs": [
    {
     "name": "stderr",
     "output_type": "stream",
     "text": [
      "C:\\ProgramData\\Anaconda3\\envs\\joanne\\lib\\site-packages\\pandas\\plotting\\_matplotlib\\core.py:1041: UserWarning:\n",
      "\n",
      "No data for colormapping provided via 'c'. Parameters 'cmap' will be ignored\n",
      "\n"
     ]
    },
    {
     "name": "stdout",
     "output_type": "stream",
     "text": [
      "r^2 : 0.8228623480696784\n"
     ]
    },
    {
     "data": {
      "image/png": "[encoded data removed]",
      "text/plain": [
       "<Figure size 432x288 with 1 Axes>"
      ]
     },
     "metadata": {
      "needs_background": "light"
     },
     "output_type": "display_data"
    }
   ],
   "source": [
    "if len(df) > 0:\n",
    "    ax = df.plot(kind='scatter', x='observed_boardings', y='model_boardings')\n",
    "    lim = df[['observed_boardings','model_boardings']].max().max()*1.05\n",
    "    ax.set_ylim(0,lim)\n",
    "    ax.set_xlim(0,lim)\n",
    "    x = np.linspace(*ax.get_xlim())\n",
    "    ax.plot(x, x)\n",
    "    slope, intercept, r_value, p_value, std_err = stats.linregress(df['observed_boardings'],df['model_boardings'])\n",
    "    print('r^2 ' + str('') + ': ' + str(r_value))"
   ]
  },
  {
   "cell_type": "markdown",
   "id": "8bf9f5778ee290d6",
   "metadata": {},
   "source": [
    "##### bikes on ferry"
   ]
  },
  {
   "cell_type": "code",
   "execution_count": 7,
   "id": "693dd2ccc9b68311",
   "metadata": {
    "ExecuteTime": {
     "end_time": "2024-06-24T20:05:41.122932Z",
     "start_time": "2024-06-24T20:05:41.060989Z"
    },
    "execution": {
     "iopub.execute_input": "2024-06-24T21:54:06.276671Z",
     "iopub.status.busy": "2024-06-24T21:54:06.276671Z",
     "iopub.status.idle": "2024-06-24T21:54:06.354426Z",
     "shell.execute_reply": "2024-06-24T21:54:06.354426Z"
    }
   },
   "outputs": [
    {
     "data": {
      "text/html": [
       "<div>\n",
       "<style scoped>\n",
       "    .dataframe tbody tr th:only-of-type {\n",
       "        vertical-align: middle;\n",
       "    }\n",
       "\n",
       "    .dataframe tbody tr th {\n",
       "        vertical-align: top;\n",
       "    }\n",
       "\n",
       "    .dataframe thead th {\n",
       "        text-align: right;\n",
       "    }\n",
       "</style>\n",
       "<table border=\"1\" class=\"dataframe\">\n",
       "  <thead>\n",
       "    <tr style=\"text-align: right;\">\n",
       "      <th></th>\n",
       "      <th>route_code</th>\n",
       "      <th>description</th>\n",
       "      <th>@bvol</th>\n",
       "    </tr>\n",
       "  </thead>\n",
       "  <tbody>\n",
       "    <tr>\n",
       "      <th>4</th>\n",
       "      <td>4203</td>\n",
       "      <td>Annapolis Foot Ferry</td>\n",
       "      <td>794.30</td>\n",
       "    </tr>\n",
       "    <tr>\n",
       "      <th>2</th>\n",
       "      <td>4200</td>\n",
       "      <td>Bremerton-Seattle Fa</td>\n",
       "      <td>476.30</td>\n",
       "    </tr>\n",
       "    <tr>\n",
       "      <th>3</th>\n",
       "      <td>4201</td>\n",
       "      <td>Bremerton-Port Orcha</td>\n",
       "      <td>440.00</td>\n",
       "    </tr>\n",
       "    <tr>\n",
       "      <th>0</th>\n",
       "      <td>1973</td>\n",
       "      <td>E</td>\n",
       "      <td>352.30</td>\n",
       "    </tr>\n",
       "    <tr>\n",
       "      <th>1</th>\n",
       "      <td>1975</td>\n",
       "      <td>N</td>\n",
       "      <td>175.30</td>\n",
       "    </tr>\n",
       "    <tr>\n",
       "      <th>10</th>\n",
       "      <td>5005</td>\n",
       "      <td>Vashon Island - Faun</td>\n",
       "      <td>74.60</td>\n",
       "    </tr>\n",
       "    <tr>\n",
       "      <th>11</th>\n",
       "      <td>5007</td>\n",
       "      <td>Point Defiance - Tah</td>\n",
       "      <td>73.00</td>\n",
       "    </tr>\n",
       "    <tr>\n",
       "      <th>7</th>\n",
       "      <td>5002</td>\n",
       "      <td>Bainbridge Island -</td>\n",
       "      <td>55.10</td>\n",
       "    </tr>\n",
       "    <tr>\n",
       "      <th>9</th>\n",
       "      <td>5004</td>\n",
       "      <td>Fauntleroy - Southwo</td>\n",
       "      <td>37.30</td>\n",
       "    </tr>\n",
       "    <tr>\n",
       "      <th>8</th>\n",
       "      <td>5003</td>\n",
       "      <td>WSF Seattle - Bremer</td>\n",
       "      <td>11.00</td>\n",
       "    </tr>\n",
       "    <tr>\n",
       "      <th>6</th>\n",
       "      <td>5001</td>\n",
       "      <td>Kingston - EdmondsE</td>\n",
       "      <td>9.00</td>\n",
       "    </tr>\n",
       "    <tr>\n",
       "      <th>5</th>\n",
       "      <td>4204</td>\n",
       "      <td>Fast FerryN</td>\n",
       "      <td>6.00</td>\n",
       "    </tr>\n",
       "  </tbody>\n",
       "</table>\n",
       "</div>"
      ],
      "text/plain": [
       "    route_code           description  @bvol\n",
       "4         4203  Annapolis Foot Ferry 794.30\n",
       "2         4200  Bremerton-Seattle Fa 476.30\n",
       "3         4201  Bremerton-Port Orcha 440.00\n",
       "0         1973                     E 352.30\n",
       "1         1975                     N 175.30\n",
       "10        5005  Vashon Island - Faun  74.60\n",
       "11        5007  Point Defiance - Tah  73.00\n",
       "7         5002   Bainbridge Island -  55.10\n",
       "9         5004  Fauntleroy - Southwo  37.30\n",
       "8         5003  WSF Seattle - Bremer  11.00\n",
       "6         5001   Kingston - EdmondsE   9.00\n",
       "5         4204           Fast FerryN   6.00"
      ]
     },
     "execution_count": 7,
     "metadata": {},
     "output_type": "execute_result"
    }
   ],
   "source": [
    "df = pd.read_csv(os.path.join(csv_path,'bike_ferry_boardings.csv')).sort_values('@bvol', ascending=False)\n",
    "df['route_code'] = df['route_code'].astype('int')\n",
    "df[['route_code','description', '@bvol']]"
   ]
  },
  {
   "cell_type": "raw",
   "id": "14db883222970442",
   "metadata": {},
   "source": [
    "#### rail"
   ]
  },
  {
   "cell_type": "code",
   "execution_count": 8,
   "id": "c9adf289ac66da8",
   "metadata": {
    "ExecuteTime": {
     "end_time": "2024-06-24T20:05:45.826421Z",
     "start_time": "2024-06-24T20:05:45.779797Z"
    },
    "execution": {
     "iopub.execute_input": "2024-06-24T21:54:06.370167Z",
     "iopub.status.busy": "2024-06-24T21:54:06.370167Z",
     "iopub.status.idle": "2024-06-24T21:54:06.416576Z",
     "shell.execute_reply": "2024-06-24T21:54:06.416576Z"
    }
   },
   "outputs": [
    {
     "data": {
      "text/html": [
       "<div>\n",
       "<style scoped>\n",
       "    .dataframe tbody tr th:only-of-type {\n",
       "        vertical-align: middle;\n",
       "    }\n",
       "\n",
       "    .dataframe tbody tr th {\n",
       "        vertical-align: top;\n",
       "    }\n",
       "\n",
       "    .dataframe thead th {\n",
       "        text-align: right;\n",
       "    }\n",
       "</style>\n",
       "<table border=\"1\" class=\"dataframe\">\n",
       "  <thead>\n",
       "    <tr style=\"text-align: right;\">\n",
       "      <th></th>\n",
       "      <th>description</th>\n",
       "      <th>observed_boardings</th>\n",
       "      <th>model_boardings</th>\n",
       "      <th>diff</th>\n",
       "      <th>perc_diff</th>\n",
       "    </tr>\n",
       "  </thead>\n",
       "  <tbody>\n",
       "    <tr>\n",
       "      <th>0</th>\n",
       "      <td>Link Red Line</td>\n",
       "      <td>79,522.00</td>\n",
       "      <td>77,355.64</td>\n",
       "      <td>-2,166.36</td>\n",
       "      <td>-2.72%</td>\n",
       "    </tr>\n",
       "    <tr>\n",
       "      <th>1</th>\n",
       "      <td>Sounder South</td>\n",
       "      <td>6,038.00</td>\n",
       "      <td>12,073.83</td>\n",
       "      <td>6,035.83</td>\n",
       "      <td>99.96%</td>\n",
       "    </tr>\n",
       "    <tr>\n",
       "      <th>2</th>\n",
       "      <td>Sounder North</td>\n",
       "      <td>316.00</td>\n",
       "      <td>13.40</td>\n",
       "      <td>-302.60</td>\n",
       "      <td>-95.76%</td>\n",
       "    </tr>\n",
       "  </tbody>\n",
       "</table>\n",
       "</div>"
      ],
      "text/plain": [
       "     description  observed_boardings  model_boardings      diff perc_diff\n",
       "0  Link Red Line           79,522.00        77,355.64 -2,166.36    -2.72%\n",
       "1  Sounder South            6,038.00        12,073.83  6,035.83    99.96%\n",
       "2  Sounder North              316.00            13.40   -302.60   -95.76%"
      ]
     },
     "execution_count": 8,
     "metadata": {},
     "output_type": "execute_result"
    }
   ],
   "source": [
    "df = df_boarding_key[df_boarding_key['route_code'].isin([6996,6999,6998])].reset_index()\n",
    "df['description'] = df['route_code'].map({6998: 'Sounder South', 6999: 'Sounder North',6996: 'Link Red Line'})\n",
    "df.drop(['route_code','agency'], axis=1, inplace=True)\n",
    "\n",
    "df_table = df.copy()\n",
    "df_table[['perc_diff']] = df_table[['perc_diff']].applymap(format_percent)\n",
    "\n",
    "df_table"
   ]
  },
  {
   "cell_type": "code",
   "execution_count": 9,
   "id": "cb27f79888f8363d",
   "metadata": {
    "ExecuteTime": {
     "end_time": "2024-06-24T19:41:16.172926Z",
     "start_time": "2024-06-24T19:41:15.922628Z"
    },
    "execution": {
     "iopub.execute_input": "2024-06-24T21:54:06.432206Z",
     "iopub.status.busy": "2024-06-24T21:54:06.416576Z",
     "iopub.status.idle": "2024-06-24T21:54:06.854446Z",
     "shell.execute_reply": "2024-06-24T21:54:06.854446Z"
    }
   },
   "outputs": [
    {
     "name": "stderr",
     "output_type": "stream",
     "text": [
      "C:\\ProgramData\\Anaconda3\\envs\\joanne\\lib\\site-packages\\pandas\\plotting\\_matplotlib\\core.py:1041: UserWarning:\n",
      "\n",
      "No data for colormapping provided via 'c'. Parameters 'cmap' will be ignored\n",
      "\n"
     ]
    },
    {
     "name": "stdout",
     "output_type": "stream",
     "text": [
      "r^2 : 0.9967525348316687\n"
     ]
    },
    {
     "data": {
      "image/png": "[encoded data removed]",
      "text/plain": [
       "<Figure size 432x288 with 1 Axes>"
      ]
     },
     "metadata": {
      "needs_background": "light"
     },
     "output_type": "display_data"
    }
   ],
   "source": [
    "if len(df) > 0:\n",
    "    ax = df.plot(kind='scatter', x='observed_boardings', y='model_boardings')\n",
    "    lim = df[['observed_boardings','model_boardings']].max().max()*1.05\n",
    "    ax.set_ylim(0,lim)\n",
    "    ax.set_xlim(0,lim)\n",
    "    x = np.linspace(*ax.get_xlim())\n",
    "    ax.plot(x, x)\n",
    "    slope, intercept, r_value, p_value, std_err = stats.linregress(df['observed_boardings'],df['model_boardings'])\n",
    "    print('r^2 ' + str('') + ': ' + str(r_value))"
   ]
  },
  {
   "cell_type": "raw",
   "id": "a24f21772d15369c",
   "metadata": {},
   "source": [
    "#### RapidRide, busiest buses, streetcar"
   ]
  },
  {
   "cell_type": "code",
   "execution_count": 10,
   "id": "a048f8a2b6d7d277",
   "metadata": {
    "ExecuteTime": {
     "end_time": "2024-06-24T20:05:51.529079Z",
     "start_time": "2024-06-24T20:05:51.482757Z"
    },
    "execution": {
     "iopub.execute_input": "2024-06-24T21:54:06.870720Z",
     "iopub.status.busy": "2024-06-24T21:54:06.870720Z",
     "iopub.status.idle": "2024-06-24T21:54:06.947996Z",
     "shell.execute_reply": "2024-06-24T21:54:06.946418Z"
    }
   },
   "outputs": [
    {
     "data": {
      "text/html": [
       "<div>\n",
       "<style scoped>\n",
       "    .dataframe tbody tr th:only-of-type {\n",
       "        vertical-align: middle;\n",
       "    }\n",
       "\n",
       "    .dataframe tbody tr th {\n",
       "        vertical-align: top;\n",
       "    }\n",
       "\n",
       "    .dataframe thead th {\n",
       "        text-align: right;\n",
       "    }\n",
       "</style>\n",
       "<table border=\"1\" class=\"dataframe\">\n",
       "  <thead>\n",
       "    <tr style=\"text-align: right;\">\n",
       "      <th></th>\n",
       "      <th>description</th>\n",
       "      <th>observed_boardings</th>\n",
       "      <th>model_boardings</th>\n",
       "      <th>diff</th>\n",
       "      <th>perc_diff</th>\n",
       "    </tr>\n",
       "  </thead>\n",
       "  <tbody>\n",
       "    <tr>\n",
       "      <th>2</th>\n",
       "      <td>Sound Transit 550</td>\n",
       "      <td>3,351.00</td>\n",
       "      <td>9,993.96</td>\n",
       "      <td>6,642.96</td>\n",
       "      <td>198.24%</td>\n",
       "    </tr>\n",
       "    <tr>\n",
       "      <th>1</th>\n",
       "      <td>First Hill Streetcar</td>\n",
       "      <td>3,900.45</td>\n",
       "      <td>1,363.18</td>\n",
       "      <td>-2,537.27</td>\n",
       "      <td>-65.05%</td>\n",
       "    </tr>\n",
       "    <tr>\n",
       "      <th>0</th>\n",
       "      <td>SLU Streetcar</td>\n",
       "      <td>1,050.16</td>\n",
       "      <td>1,080.83</td>\n",
       "      <td>30.67</td>\n",
       "      <td>2.92%</td>\n",
       "    </tr>\n",
       "  </tbody>\n",
       "</table>\n",
       "</div>"
      ],
      "text/plain": [
       "            description  observed_boardings  model_boardings      diff  \\\n",
       "2     Sound Transit 550            3,351.00         9,993.96  6,642.96   \n",
       "1  First Hill Streetcar            3,900.45         1,363.18 -2,537.27   \n",
       "0         SLU Streetcar            1,050.16         1,080.83     30.67   \n",
       "\n",
       "  perc_diff  \n",
       "2   198.24%  \n",
       "1   -65.05%  \n",
       "0     2.92%  "
      ]
     },
     "execution_count": 10,
     "metadata": {},
     "output_type": "execute_result"
    }
   ],
   "source": [
    "df = df_boarding_key[df_boarding_key['route_code'].isin([1671,1672,1673,1674,1675,1676,6550,1007,1040,1997,1998])].reset_index()\n",
    "df['description'] = df['route_code'].map({1671: 'A Line RapidRide', 1672: 'B Line RapidRide',\n",
    "                                            1673: 'C Line RapidRide', 1674: 'D Line RapidRide',\n",
    "                                            1675: 'E Line RapidRide', 1676: 'F Line RapidRide',\n",
    "                                            6550: 'Sound Transit 550', 1040: 'KC Metro 40', 1007: 'KC Metro 7',\n",
    "                                            1997: 'SLU Streetcar', 1998: 'First Hill Streetcar'})\n",
    "df.drop(['route_code','agency'], axis=1, inplace=True)\n",
    "\n",
    "df_table = df.copy()\n",
    "df_table[['perc_diff']] = df_table[['perc_diff']].applymap(format_percent)\n",
    "df_table.sort_values('model_boardings', ascending=False)"
   ]
  },
  {
   "cell_type": "code",
   "execution_count": 11,
   "id": "813aa67bd5e6c1f6",
   "metadata": {
    "ExecuteTime": {
     "end_time": "2024-06-24T19:41:23.547293Z",
     "start_time": "2024-06-24T19:41:23.312803Z"
    },
    "execution": {
     "iopub.execute_input": "2024-06-24T21:54:06.963083Z",
     "iopub.status.busy": "2024-06-24T21:54:06.962090Z",
     "iopub.status.idle": "2024-06-24T21:54:07.310483Z",
     "shell.execute_reply": "2024-06-24T21:54:07.308481Z"
    }
   },
   "outputs": [
    {
     "name": "stderr",
     "output_type": "stream",
     "text": [
      "C:\\ProgramData\\Anaconda3\\envs\\joanne\\lib\\site-packages\\pandas\\plotting\\_matplotlib\\core.py:1041: UserWarning:\n",
      "\n",
      "No data for colormapping provided via 'c'. Parameters 'cmap' will be ignored\n",
      "\n"
     ]
    },
    {
     "name": "stdout",
     "output_type": "stream",
     "text": [
      "r^2 : 0.3604727926130998\n"
     ]
    },
    {
     "data": {
      "image/png": "[encoded data removed]",
      "text/plain": [
       "<Figure size 432x288 with 1 Axes>"
      ]
     },
     "metadata": {
      "needs_background": "light"
     },
     "output_type": "display_data"
    }
   ],
   "source": [
    "if len(df) > 0:\n",
    "    ax = df.plot(kind='scatter', x='observed_boardings', y='model_boardings')\n",
    "    lim = df[['observed_boardings', 'model_boardings']].max().max() * 1.05\n",
    "    ax.set_ylim(0, lim)\n",
    "    ax.set_xlim(0, lim)\n",
    "    x = np.linspace(*ax.get_xlim())\n",
    "    ax.plot(x, x)\n",
    "    slope, intercept, r_value, p_value, std_err = stats.linregress(df['observed_boardings'], df['model_boardings'])\n",
    "    print('r^2 ' + str('') + ': ' + str(r_value))"
   ]
  },
  {
   "cell_type": "raw",
   "id": "c55611b2314fffc3",
   "metadata": {},
   "source": [
    ":::"
   ]
  },
  {
   "cell_type": "markdown",
   "id": "6e6c5ead64d64e8c",
   "metadata": {},
   "source": [
    "### boarding on lines by agency"
   ]
  },
  {
   "cell_type": "code",
   "execution_count": 12,
   "id": "95db4119eb938544",
   "metadata": {
    "ExecuteTime": {
     "end_time": "2024-06-24T19:52:55.951969Z",
     "start_time": "2024-06-24T19:52:54.937995Z"
    },
    "execution": {
     "iopub.execute_input": "2024-06-24T21:54:07.326440Z",
     "iopub.status.busy": "2024-06-24T21:54:07.325444Z",
     "iopub.status.idle": "2024-06-24T21:54:09.291659Z",
     "shell.execute_reply": "2024-06-24T21:54:09.291659Z"
    }
   },
   "outputs": [
    {
     "name": "stdout",
     "output_type": "stream",
     "text": [
      "r^2 Everett Transit: 0.9499463362345166\n",
      "r^2 King County Metro: 0.0936044294392241\n",
      "r^2 Kitsap Transit: 0.5974905495201908\n"
     ]
    },
    {
     "name": "stdout",
     "output_type": "stream",
     "text": [
      "r^2 Sound Transit: 0.9877480106115335\n",
      "r^2 Washington Ferries: 0.8582897271998384\n"
     ]
    },
    {
     "data": {
      "image/png": "[encoded data removed]",
      "text/plain": [
       "<Figure size 432x288 with 1 Axes>"
      ]
     },
     "metadata": {
      "needs_background": "light"
     },
     "output_type": "display_data"
    },
    {
     "data": {
      "image/png": "[encoded data removed]",
      "text/plain": [
       "<Figure size 432x288 with 1 Axes>"
      ]
     },
     "metadata": {
      "needs_background": "light"
     },
     "output_type": "display_data"
    },
    {
     "data": {
      "image/png": "[encoded data removed]",
      "text/plain": [
       "<Figure size 432x288 with 1 Axes>"
      ]
     },
     "metadata": {
      "needs_background": "light"
     },
     "output_type": "display_data"
    },
    {
     "data": {
      "image/png": "[encoded data removed]",
      "text/plain": [
       "<Figure size 432x288 with 1 Axes>"
      ]
     },
     "metadata": {
      "needs_background": "light"
     },
     "output_type": "display_data"
    },
    {
     "data": {
      "image/png": "[encoded data removed]",
      "text/plain": [
       "<Figure size 432x288 with 1 Axes>"
      ]
     },
     "metadata": {
      "needs_background": "light"
     },
     "output_type": "display_data"
    }
   ],
   "source": [
    "df = pd.read_csv(os.path.join(csv_path,'daily_boardings_by_line.csv'), index_col='agency')\n",
    "df = df[-df['agency_id'].isnull()]\n",
    "\n",
    "for agency in np.unique(df.index):\n",
    "    _df = df.loc[agency,:]\n",
    "    if (type(_df) == pd.core.frame.DataFrame) & (len(df) > 0):\n",
    "        ax = _df.plot(kind='scatter', x='observed_boardings', y='model_boardings', label=agency)\n",
    "        lim = _df[['observed_boardings','model_boardings']].max().max()*1.05\n",
    "        ax.set_ylim(0,lim)\n",
    "        ax.set_xlim(0,lim)\n",
    "        x = np.linspace(*ax.get_xlim())\n",
    "        ax.plot(x, x)\n",
    "        slope, intercept, r_value, p_value, std_err = stats.linregress(_df['observed_boardings'],_df['model_boardings'])\n",
    "        print('r^2 ' + str(agency) + ': ' + str(r_value))"
   ]
  },
  {
   "cell_type": "markdown",
   "id": "4539ddda98821ff2",
   "metadata": {},
   "source": [
    "### boarding by light rail station"
   ]
  },
  {
   "cell_type": "raw",
   "id": "1a2860ab52ea5101",
   "metadata": {},
   "source": [
    ":::{.panel-tabset}\n",
    "#### Red Line"
   ]
  },
  {
   "cell_type": "code",
   "execution_count": 13,
   "id": "2c245b8117693726",
   "metadata": {
    "ExecuteTime": {
     "end_time": "2024-06-24T20:06:01.435477Z",
     "start_time": "2024-06-24T20:06:01.389414Z"
    },
    "execution": {
     "iopub.execute_input": "2024-06-24T21:54:09.307284Z",
     "iopub.status.busy": "2024-06-24T21:54:09.307284Z",
     "iopub.status.idle": "2024-06-24T21:54:09.432079Z",
     "shell.execute_reply": "2024-06-24T21:54:09.432079Z"
    }
   },
   "outputs": [
    {
     "data": {
      "text/html": [
       "<div>\n",
       "<style scoped>\n",
       "    .dataframe tbody tr th:only-of-type {\n",
       "        vertical-align: middle;\n",
       "    }\n",
       "\n",
       "    .dataframe tbody tr th {\n",
       "        vertical-align: top;\n",
       "    }\n",
       "\n",
       "    .dataframe thead th {\n",
       "        text-align: right;\n",
       "    }\n",
       "</style>\n",
       "<table border=\"1\" class=\"dataframe\">\n",
       "  <thead>\n",
       "    <tr style=\"text-align: right;\">\n",
       "      <th></th>\n",
       "      <th>observed_boardings</th>\n",
       "      <th>model_boardings</th>\n",
       "      <th>diff</th>\n",
       "      <th>percent_diff</th>\n",
       "    </tr>\n",
       "    <tr>\n",
       "      <th>station_name</th>\n",
       "      <th></th>\n",
       "      <th></th>\n",
       "      <th></th>\n",
       "      <th></th>\n",
       "    </tr>\n",
       "  </thead>\n",
       "  <tbody>\n",
       "    <tr>\n",
       "      <th>Husky Stadium</th>\n",
       "      <td>6,134.00</td>\n",
       "      <td>4,235.18</td>\n",
       "      <td>-1,898.82</td>\n",
       "      <td>-30.96%</td>\n",
       "    </tr>\n",
       "    <tr>\n",
       "      <th>Westlake</th>\n",
       "      <td>8,845.00</td>\n",
       "      <td>9,299.29</td>\n",
       "      <td>454.29</td>\n",
       "      <td>5.14%</td>\n",
       "    </tr>\n",
       "    <tr>\n",
       "      <th>University St</th>\n",
       "      <td>4,324.00</td>\n",
       "      <td>5,971.65</td>\n",
       "      <td>1,647.65</td>\n",
       "      <td>38.10%</td>\n",
       "    </tr>\n",
       "    <tr>\n",
       "      <th>Pioneer Square</th>\n",
       "      <td>2,400.00</td>\n",
       "      <td>5,004.91</td>\n",
       "      <td>2,604.91</td>\n",
       "      <td>108.54%</td>\n",
       "    </tr>\n",
       "    <tr>\n",
       "      <th>Int'l District</th>\n",
       "      <td>4,399.00</td>\n",
       "      <td>1,649.68</td>\n",
       "      <td>-2,749.32</td>\n",
       "      <td>-62.50%</td>\n",
       "    </tr>\n",
       "    <tr>\n",
       "      <th>Capitol Hill</th>\n",
       "      <td>7,667.00</td>\n",
       "      <td>6,610.83</td>\n",
       "      <td>-1,056.17</td>\n",
       "      <td>-13.78%</td>\n",
       "    </tr>\n",
       "    <tr>\n",
       "      <th>Stadium</th>\n",
       "      <td>1,731.00</td>\n",
       "      <td>552.58</td>\n",
       "      <td>-1,178.42</td>\n",
       "      <td>-68.08%</td>\n",
       "    </tr>\n",
       "    <tr>\n",
       "      <th>SODO</th>\n",
       "      <td>1,669.00</td>\n",
       "      <td>3,153.46</td>\n",
       "      <td>1,484.46</td>\n",
       "      <td>88.94%</td>\n",
       "    </tr>\n",
       "    <tr>\n",
       "      <th>Beacon Hill</th>\n",
       "      <td>2,147.00</td>\n",
       "      <td>989.78</td>\n",
       "      <td>-1,157.22</td>\n",
       "      <td>-53.90%</td>\n",
       "    </tr>\n",
       "    <tr>\n",
       "      <th>Mount Baker</th>\n",
       "      <td>1,861.00</td>\n",
       "      <td>1,084.42</td>\n",
       "      <td>-776.58</td>\n",
       "      <td>-41.73%</td>\n",
       "    </tr>\n",
       "    <tr>\n",
       "      <th>Columbia City</th>\n",
       "      <td>1,630.00</td>\n",
       "      <td>1,060.71</td>\n",
       "      <td>-569.29</td>\n",
       "      <td>-34.93%</td>\n",
       "    </tr>\n",
       "    <tr>\n",
       "      <th>Othello</th>\n",
       "      <td>2,030.00</td>\n",
       "      <td>1,280.23</td>\n",
       "      <td>-749.77</td>\n",
       "      <td>-36.93%</td>\n",
       "    </tr>\n",
       "    <tr>\n",
       "      <th>Rainier Beach</th>\n",
       "      <td>1,495.00</td>\n",
       "      <td>1,215.86</td>\n",
       "      <td>-279.14</td>\n",
       "      <td>-18.67%</td>\n",
       "    </tr>\n",
       "    <tr>\n",
       "      <th>Tukwila Int'l Blvd</th>\n",
       "      <td>2,298.00</td>\n",
       "      <td>1,794.43</td>\n",
       "      <td>-503.57</td>\n",
       "      <td>-21.91%</td>\n",
       "    </tr>\n",
       "    <tr>\n",
       "      <th>SeaTac/Airport</th>\n",
       "      <td>4,731.00</td>\n",
       "      <td>6,027.59</td>\n",
       "      <td>1,296.59</td>\n",
       "      <td>27.41%</td>\n",
       "    </tr>\n",
       "    <tr>\n",
       "      <th>Angle Lake</th>\n",
       "      <td>3,865.00</td>\n",
       "      <td>3,290.17</td>\n",
       "      <td>-574.83</td>\n",
       "      <td>-14.87%</td>\n",
       "    </tr>\n",
       "    <tr>\n",
       "      <th>University District Station</th>\n",
       "      <td>7,563.00</td>\n",
       "      <td>7,602.71</td>\n",
       "      <td>39.71</td>\n",
       "      <td>0.53%</td>\n",
       "    </tr>\n",
       "    <tr>\n",
       "      <th>Roosevelt Station</th>\n",
       "      <td>4,349.00</td>\n",
       "      <td>8,686.90</td>\n",
       "      <td>4,337.90</td>\n",
       "      <td>99.74%</td>\n",
       "    </tr>\n",
       "    <tr>\n",
       "      <th>Northgate Station</th>\n",
       "      <td>10,384.00</td>\n",
       "      <td>7,845.26</td>\n",
       "      <td>-2,538.74</td>\n",
       "      <td>-24.45%</td>\n",
       "    </tr>\n",
       "    <tr>\n",
       "      <th>Total</th>\n",
       "      <td>79,522.00</td>\n",
       "      <td>77,355.64</td>\n",
       "      <td>-2,166.36</td>\n",
       "      <td>-2.72%</td>\n",
       "    </tr>\n",
       "  </tbody>\n",
       "</table>\n",
       "</div>"
      ],
      "text/plain": [
       "                             observed_boardings  model_boardings      diff  \\\n",
       "station_name                                                                 \n",
       "Husky Stadium                          6,134.00         4,235.18 -1,898.82   \n",
       "Westlake                               8,845.00         9,299.29    454.29   \n",
       "University St                          4,324.00         5,971.65  1,647.65   \n",
       "Pioneer Square                         2,400.00         5,004.91  2,604.91   \n",
       "Int'l District                         4,399.00         1,649.68 -2,749.32   \n",
       "Capitol Hill                           7,667.00         6,610.83 -1,056.17   \n",
       "Stadium                                1,731.00           552.58 -1,178.42   \n",
       "SODO                                   1,669.00         3,153.46  1,484.46   \n",
       "Beacon Hill                            2,147.00           989.78 -1,157.22   \n",
       "Mount Baker                            1,861.00         1,084.42   -776.58   \n",
       "Columbia City                          1,630.00         1,060.71   -569.29   \n",
       "Othello                                2,030.00         1,280.23   -749.77   \n",
       "Rainier Beach                          1,495.00         1,215.86   -279.14   \n",
       "Tukwila Int'l Blvd                     2,298.00         1,794.43   -503.57   \n",
       "SeaTac/Airport                         4,731.00         6,027.59  1,296.59   \n",
       "Angle Lake                             3,865.00         3,290.17   -574.83   \n",
       "University District Station            7,563.00         7,602.71     39.71   \n",
       "Roosevelt Station                      4,349.00         8,686.90  4,337.90   \n",
       "Northgate Station                     10,384.00         7,845.26 -2,538.74   \n",
       "Total                                 79,522.00        77,355.64 -2,166.36   \n",
       "\n",
       "                            percent_diff  \n",
       "station_name                              \n",
       "Husky Stadium                    -30.96%  \n",
       "Westlake                           5.14%  \n",
       "University St                     38.10%  \n",
       "Pioneer Square                   108.54%  \n",
       "Int'l District                   -62.50%  \n",
       "Capitol Hill                     -13.78%  \n",
       "Stadium                          -68.08%  \n",
       "SODO                              88.94%  \n",
       "Beacon Hill                      -53.90%  \n",
       "Mount Baker                      -41.73%  \n",
       "Columbia City                    -34.93%  \n",
       "Othello                          -36.93%  \n",
       "Rainier Beach                    -18.67%  \n",
       "Tukwila Int'l Blvd               -21.91%  \n",
       "SeaTac/Airport                    27.41%  \n",
       "Angle Lake                       -14.87%  \n",
       "University District Station        0.53%  \n",
       "Roosevelt Station                 99.74%  \n",
       "Northgate Station                -24.45%  \n",
       "Total                             -2.72%  "
      ]
     },
     "execution_count": 13,
     "metadata": {},
     "output_type": "execute_result"
    }
   ],
   "source": [
    "df = pd.read_csv(os.path.join(csv_path,'light_rail_boardings.csv'), index_col='station_name')\n",
    "df['diff'] = df['model_boardings']-df['observed_boardings']\n",
    "df['percent_diff'] = df['diff']/df['observed_boardings']\n",
    "\n",
    "df_table = df.copy()\n",
    "df_table[['percent_diff']] = df_table[['percent_diff']].applymap(format_percent)\n",
    "df_table"
   ]
  },
  {
   "cell_type": "raw",
   "id": "3dafcff1da10b5e5",
   "metadata": {},
   "source": [
    "#### Sound Transit Station Groupings"
   ]
  },
  {
   "cell_type": "code",
   "execution_count": 14,
   "id": "7456ebeb8efd83d0",
   "metadata": {
    "ExecuteTime": {
     "end_time": "2024-06-24T20:06:06.901270Z",
     "start_time": "2024-06-24T20:06:06.830246Z"
    },
    "execution": {
     "iopub.execute_input": "2024-06-24T21:54:09.447700Z",
     "iopub.status.busy": "2024-06-24T21:54:09.447700Z",
     "iopub.status.idle": "2024-06-24T21:54:09.541805Z",
     "shell.execute_reply": "2024-06-24T21:54:09.541805Z"
    }
   },
   "outputs": [
    {
     "data": {
      "text/html": [
       "<div>\n",
       "<style scoped>\n",
       "    .dataframe tbody tr th:only-of-type {\n",
       "        vertical-align: middle;\n",
       "    }\n",
       "\n",
       "    .dataframe tbody tr th {\n",
       "        vertical-align: top;\n",
       "    }\n",
       "\n",
       "    .dataframe thead th {\n",
       "        text-align: right;\n",
       "    }\n",
       "</style>\n",
       "<table border=\"1\" class=\"dataframe\">\n",
       "  <thead>\n",
       "    <tr style=\"text-align: right;\">\n",
       "      <th></th>\n",
       "      <th>observed_boardings</th>\n",
       "      <th>model_boardings</th>\n",
       "      <th>diff</th>\n",
       "      <th>percent_diff</th>\n",
       "    </tr>\n",
       "    <tr>\n",
       "      <th>station_group</th>\n",
       "      <th></th>\n",
       "      <th></th>\n",
       "      <th></th>\n",
       "      <th></th>\n",
       "    </tr>\n",
       "  </thead>\n",
       "  <tbody>\n",
       "    <tr>\n",
       "      <th>Husky Stadium</th>\n",
       "      <td>6,134.00</td>\n",
       "      <td>4,235.18</td>\n",
       "      <td>-1,898.82</td>\n",
       "      <td>-30.96%</td>\n",
       "    </tr>\n",
       "    <tr>\n",
       "      <th>Capitol Hill</th>\n",
       "      <td>7,667.00</td>\n",
       "      <td>6,610.83</td>\n",
       "      <td>-1,056.17</td>\n",
       "      <td>-13.78%</td>\n",
       "    </tr>\n",
       "    <tr>\n",
       "      <th>Westlake/University St</th>\n",
       "      <td>13,169.00</td>\n",
       "      <td>15,270.94</td>\n",
       "      <td>2,101.94</td>\n",
       "      <td>15.96%</td>\n",
       "    </tr>\n",
       "    <tr>\n",
       "      <th>Pioneer Square/Int'l District</th>\n",
       "      <td>6,799.00</td>\n",
       "      <td>6,654.59</td>\n",
       "      <td>-144.41</td>\n",
       "      <td>-2.12%</td>\n",
       "    </tr>\n",
       "    <tr>\n",
       "      <th>Stadium/SODO</th>\n",
       "      <td>3,400.00</td>\n",
       "      <td>3,706.04</td>\n",
       "      <td>306.04</td>\n",
       "      <td>9.00%</td>\n",
       "    </tr>\n",
       "    <tr>\n",
       "      <th>Beacon Hill/Mount Baker</th>\n",
       "      <td>4,008.00</td>\n",
       "      <td>2,074.20</td>\n",
       "      <td>-1,933.80</td>\n",
       "      <td>-48.25%</td>\n",
       "    </tr>\n",
       "    <tr>\n",
       "      <th>Columbia City</th>\n",
       "      <td>1,630.00</td>\n",
       "      <td>1,060.71</td>\n",
       "      <td>-569.29</td>\n",
       "      <td>-34.93%</td>\n",
       "    </tr>\n",
       "    <tr>\n",
       "      <th>Othello/Rainier Beach</th>\n",
       "      <td>3,525.00</td>\n",
       "      <td>2,496.10</td>\n",
       "      <td>-1,028.90</td>\n",
       "      <td>-29.19%</td>\n",
       "    </tr>\n",
       "    <tr>\n",
       "      <th>Tukwila Int'l Blvd</th>\n",
       "      <td>2,298.00</td>\n",
       "      <td>1,794.43</td>\n",
       "      <td>-503.57</td>\n",
       "      <td>-21.91%</td>\n",
       "    </tr>\n",
       "    <tr>\n",
       "      <th>SeaTac/Airport</th>\n",
       "      <td>4,731.00</td>\n",
       "      <td>6,027.59</td>\n",
       "      <td>1,296.59</td>\n",
       "      <td>27.41%</td>\n",
       "    </tr>\n",
       "    <tr>\n",
       "      <th>Angle Lake</th>\n",
       "      <td>3,865.00</td>\n",
       "      <td>3,290.17</td>\n",
       "      <td>-574.83</td>\n",
       "      <td>-14.87%</td>\n",
       "    </tr>\n",
       "  </tbody>\n",
       "</table>\n",
       "</div>"
      ],
      "text/plain": [
       "                               observed_boardings  model_boardings      diff  \\\n",
       "station_group                                                                  \n",
       "Husky Stadium                            6,134.00         4,235.18 -1,898.82   \n",
       "Capitol Hill                             7,667.00         6,610.83 -1,056.17   \n",
       "Westlake/University St                  13,169.00        15,270.94  2,101.94   \n",
       "Pioneer Square/Int'l District            6,799.00         6,654.59   -144.41   \n",
       "Stadium/SODO                             3,400.00         3,706.04    306.04   \n",
       "Beacon Hill/Mount Baker                  4,008.00         2,074.20 -1,933.80   \n",
       "Columbia City                            1,630.00         1,060.71   -569.29   \n",
       "Othello/Rainier Beach                    3,525.00         2,496.10 -1,028.90   \n",
       "Tukwila Int'l Blvd                       2,298.00         1,794.43   -503.57   \n",
       "SeaTac/Airport                           4,731.00         6,027.59  1,296.59   \n",
       "Angle Lake                               3,865.00         3,290.17   -574.83   \n",
       "\n",
       "                              percent_diff  \n",
       "station_group                               \n",
       "Husky Stadium                      -30.96%  \n",
       "Capitol Hill                       -13.78%  \n",
       "Westlake/University St              15.96%  \n",
       "Pioneer Square/Int'l District       -2.12%  \n",
       "Stadium/SODO                         9.00%  \n",
       "Beacon Hill/Mount Baker            -48.25%  \n",
       "Columbia City                      -34.93%  \n",
       "Othello/Rainier Beach              -29.19%  \n",
       "Tukwila Int'l Blvd                 -21.91%  \n",
       "SeaTac/Airport                      27.41%  \n",
       "Angle Lake                         -14.87%  "
      ]
     },
     "execution_count": 14,
     "metadata": {},
     "output_type": "execute_result"
    }
   ],
   "source": [
    "df_combined = df.copy()\n",
    "\n",
    "df_combined['station_group'] = df.index\n",
    "df_combined.loc[['Westlake'],'station_group'] = 'Westlake/University St'\n",
    "df_combined.loc[['University St'],'station_group'] = 'Westlake/University St'\n",
    "\n",
    "df_combined.loc[['Pioneer Square'],'station_group'] = \"Pioneer Square/Int'l District\"\n",
    "df_combined.loc[[\"Int'l District\"],'station_group'] = \"Pioneer Square/Int'l District\"\n",
    "\n",
    "df_combined.loc[['Stadium'],'station_group'] = 'Stadium/SODO'\n",
    "df_combined.loc[['SODO'],'station_group'] = 'Stadium/SODO'\n",
    "\n",
    "df_combined.loc[['Beacon Hill'],'station_group'] = 'Beacon Hill/Mount Baker'\n",
    "df_combined.loc[['Mount Baker'],'station_group'] = 'Beacon Hill/Mount Baker'\n",
    "\n",
    "df_combined.loc[['Othello'],'station_group'] = 'Othello/Rainier Beach'\n",
    "df_combined.loc[['Rainier Beach'],'station_group'] = 'Othello/Rainier Beach'\n",
    "\n",
    "df_combined = df_combined.groupby('station_group').sum()[['observed_boardings','model_boardings']]\n",
    "df_combined['diff'] = df_combined['model_boardings']-df_combined['observed_boardings']\n",
    "df_combined['percent_diff'] = df_combined['diff']/df_combined['observed_boardings']\n",
    "df_combined[['percent_diff']] = df_combined[['percent_diff']].applymap(format_percent)\n",
    "\n",
    "df_combined.loc[['Husky Stadium','Capitol Hill','Westlake/University St',\"Pioneer Square/Int'l District\",\n",
    "                 'Stadium/SODO','Beacon Hill/Mount Baker','Columbia City','Othello/Rainier Beach',\n",
    "                 \"Tukwila Int'l Blvd\",'SeaTac/Airport','Angle Lake']]"
   ]
  },
  {
   "cell_type": "raw",
   "id": "f429de2d705b1e22",
   "metadata": {},
   "source": [
    ":::"
   ]
  },
  {
   "cell_type": "markdown",
   "id": "86996e48d6760252",
   "metadata": {},
   "source": [
    "### light rail stop transfers"
   ]
  },
  {
   "cell_type": "code",
   "execution_count": 15,
   "id": "4bd536d185354993",
   "metadata": {
    "ExecuteTime": {
     "end_time": "2024-06-24T20:06:14.325917Z",
     "start_time": "2024-06-24T20:06:14.279144Z"
    },
    "execution": {
     "iopub.execute_input": "2024-06-24T21:54:09.557431Z",
     "iopub.status.busy": "2024-06-24T21:54:09.557431Z",
     "iopub.status.idle": "2024-06-24T21:54:09.635689Z",
     "shell.execute_reply": "2024-06-24T21:54:09.635689Z"
    }
   },
   "outputs": [
    {
     "data": {
      "text/html": [
       "<div>\n",
       "<style scoped>\n",
       "    .dataframe tbody tr th:only-of-type {\n",
       "        vertical-align: middle;\n",
       "    }\n",
       "\n",
       "    .dataframe tbody tr th {\n",
       "        vertical-align: top;\n",
       "    }\n",
       "\n",
       "    .dataframe thead th {\n",
       "        text-align: right;\n",
       "    }\n",
       "</style>\n",
       "<table border=\"1\" class=\"dataframe\">\n",
       "  <thead>\n",
       "    <tr style=\"text-align: right;\">\n",
       "      <th></th>\n",
       "      <th>modeled_transfer_rate</th>\n",
       "      <th>observed_transfer_rate</th>\n",
       "      <th>diff</th>\n",
       "      <th>percent_diff</th>\n",
       "    </tr>\n",
       "    <tr>\n",
       "      <th>station_name</th>\n",
       "      <th></th>\n",
       "      <th></th>\n",
       "      <th></th>\n",
       "      <th></th>\n",
       "    </tr>\n",
       "  </thead>\n",
       "  <tbody>\n",
       "    <tr>\n",
       "      <th>Husky Stadium</th>\n",
       "      <td>0.91</td>\n",
       "      <td>-99.00</td>\n",
       "      <td>99.91</td>\n",
       "      <td>-100.92%</td>\n",
       "    </tr>\n",
       "    <tr>\n",
       "      <th>Westlake</th>\n",
       "      <td>0.18</td>\n",
       "      <td>0.36</td>\n",
       "      <td>-0.19</td>\n",
       "      <td>-51.82%</td>\n",
       "    </tr>\n",
       "    <tr>\n",
       "      <th>University St</th>\n",
       "      <td>0.27</td>\n",
       "      <td>0.20</td>\n",
       "      <td>0.07</td>\n",
       "      <td>33.02%</td>\n",
       "    </tr>\n",
       "    <tr>\n",
       "      <th>Pioneer Square</th>\n",
       "      <td>0.44</td>\n",
       "      <td>0.16</td>\n",
       "      <td>0.28</td>\n",
       "      <td>174.44%</td>\n",
       "    </tr>\n",
       "    <tr>\n",
       "      <th>Int'l District</th>\n",
       "      <td>0.68</td>\n",
       "      <td>0.45</td>\n",
       "      <td>0.23</td>\n",
       "      <td>51.19%</td>\n",
       "    </tr>\n",
       "    <tr>\n",
       "      <th>Capitol Hill</th>\n",
       "      <td>0.07</td>\n",
       "      <td>-99.00</td>\n",
       "      <td>99.07</td>\n",
       "      <td>-100.07%</td>\n",
       "    </tr>\n",
       "    <tr>\n",
       "      <th>Stadium</th>\n",
       "      <td>0.27</td>\n",
       "      <td>0.12</td>\n",
       "      <td>0.15</td>\n",
       "      <td>128.30%</td>\n",
       "    </tr>\n",
       "    <tr>\n",
       "      <th>SODO</th>\n",
       "      <td>0.57</td>\n",
       "      <td>0.31</td>\n",
       "      <td>0.26</td>\n",
       "      <td>83.42%</td>\n",
       "    </tr>\n",
       "    <tr>\n",
       "      <th>Beacon Hill</th>\n",
       "      <td>0.37</td>\n",
       "      <td>0.35</td>\n",
       "      <td>0.01</td>\n",
       "      <td>3.92%</td>\n",
       "    </tr>\n",
       "    <tr>\n",
       "      <th>Mount Baker</th>\n",
       "      <td>0.48</td>\n",
       "      <td>0.32</td>\n",
       "      <td>0.16</td>\n",
       "      <td>48.31%</td>\n",
       "    </tr>\n",
       "    <tr>\n",
       "      <th>Columbia City</th>\n",
       "      <td>0.02</td>\n",
       "      <td>0.12</td>\n",
       "      <td>-0.11</td>\n",
       "      <td>-86.29%</td>\n",
       "    </tr>\n",
       "    <tr>\n",
       "      <th>Othello</th>\n",
       "      <td>0.07</td>\n",
       "      <td>0.12</td>\n",
       "      <td>-0.06</td>\n",
       "      <td>-46.47%</td>\n",
       "    </tr>\n",
       "    <tr>\n",
       "      <th>Rainier Beach</th>\n",
       "      <td>0.38</td>\n",
       "      <td>0.36</td>\n",
       "      <td>0.02</td>\n",
       "      <td>4.86%</td>\n",
       "    </tr>\n",
       "    <tr>\n",
       "      <th>Tukwila Int'l Blvd</th>\n",
       "      <td>0.57</td>\n",
       "      <td>0.26</td>\n",
       "      <td>0.31</td>\n",
       "      <td>116.15%</td>\n",
       "    </tr>\n",
       "    <tr>\n",
       "      <th>SeaTac/Airport</th>\n",
       "      <td>0.15</td>\n",
       "      <td>0.26</td>\n",
       "      <td>-0.11</td>\n",
       "      <td>-42.78%</td>\n",
       "    </tr>\n",
       "    <tr>\n",
       "      <th>Angle Lake</th>\n",
       "      <td>0.34</td>\n",
       "      <td>-99.00</td>\n",
       "      <td>99.34</td>\n",
       "      <td>-100.34%</td>\n",
       "    </tr>\n",
       "    <tr>\n",
       "      <th>University District Station</th>\n",
       "      <td>0.17</td>\n",
       "      <td>-99.00</td>\n",
       "      <td>99.17</td>\n",
       "      <td>-100.17%</td>\n",
       "    </tr>\n",
       "    <tr>\n",
       "      <th>Roosevelt Station</th>\n",
       "      <td>0.49</td>\n",
       "      <td>-99.00</td>\n",
       "      <td>99.49</td>\n",
       "      <td>-100.49%</td>\n",
       "    </tr>\n",
       "    <tr>\n",
       "      <th>Northgate Station</th>\n",
       "      <td>0.84</td>\n",
       "      <td>-99.00</td>\n",
       "      <td>99.84</td>\n",
       "      <td>-100.85%</td>\n",
       "    </tr>\n",
       "  </tbody>\n",
       "</table>\n",
       "</div>"
      ],
      "text/plain": [
       "                             modeled_transfer_rate  observed_transfer_rate  \\\n",
       "station_name                                                                 \n",
       "Husky Stadium                                 0.91                  -99.00   \n",
       "Westlake                                      0.18                    0.36   \n",
       "University St                                 0.27                    0.20   \n",
       "Pioneer Square                                0.44                    0.16   \n",
       "Int'l District                                0.68                    0.45   \n",
       "Capitol Hill                                  0.07                  -99.00   \n",
       "Stadium                                       0.27                    0.12   \n",
       "SODO                                          0.57                    0.31   \n",
       "Beacon Hill                                   0.37                    0.35   \n",
       "Mount Baker                                   0.48                    0.32   \n",
       "Columbia City                                 0.02                    0.12   \n",
       "Othello                                       0.07                    0.12   \n",
       "Rainier Beach                                 0.38                    0.36   \n",
       "Tukwila Int'l Blvd                            0.57                    0.26   \n",
       "SeaTac/Airport                                0.15                    0.26   \n",
       "Angle Lake                                    0.34                  -99.00   \n",
       "University District Station                   0.17                  -99.00   \n",
       "Roosevelt Station                             0.49                  -99.00   \n",
       "Northgate Station                             0.84                  -99.00   \n",
       "\n",
       "                             diff percent_diff  \n",
       "station_name                                    \n",
       "Husky Stadium               99.91     -100.92%  \n",
       "Westlake                    -0.19      -51.82%  \n",
       "University St                0.07       33.02%  \n",
       "Pioneer Square               0.28      174.44%  \n",
       "Int'l District               0.23       51.19%  \n",
       "Capitol Hill                99.07     -100.07%  \n",
       "Stadium                      0.15      128.30%  \n",
       "SODO                         0.26       83.42%  \n",
       "Beacon Hill                  0.01        3.92%  \n",
       "Mount Baker                  0.16       48.31%  \n",
       "Columbia City               -0.11      -86.29%  \n",
       "Othello                     -0.06      -46.47%  \n",
       "Rainier Beach                0.02        4.86%  \n",
       "Tukwila Int'l Blvd           0.31      116.15%  \n",
       "SeaTac/Airport              -0.11      -42.78%  \n",
       "Angle Lake                  99.34     -100.34%  \n",
       "University District Station 99.17     -100.17%  \n",
       "Roosevelt Station           99.49     -100.49%  \n",
       "Northgate Station           99.84     -100.85%  "
      ]
     },
     "execution_count": 15,
     "metadata": {},
     "output_type": "execute_result"
    }
   ],
   "source": [
    "df = pd.read_csv(os.path.join(csv_path,'light_rail_transfers.csv'), index_col='station_name')\n",
    "df[['percent_diff']] = df[['percent_diff']].applymap(format_percent)\n",
    "df"
   ]
  }
 ],
 "metadata": {
  "kernelspec": {
   "display_name": "Python 3",
   "language": "python",
   "name": "python3"
  },
  "language_info": {
   "codemirror_mode": {
    "name": "ipython",
    "version": 3
   },
   "file_extension": ".py",
   "mimetype": "text/x-python",
   "name": "python",
   "nbconvert_exporter": "python",
   "pygments_lexer": "ipython3",
   "version": "3.9.15"
  }
 },
 "nbformat": 4,
 "nbformat_minor": 5
}
