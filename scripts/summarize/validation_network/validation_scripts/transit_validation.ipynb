{
 "cells": [
  {
   "cell_type": "raw",
   "id": "48597e7e80043434",
   "metadata": {},
   "source": [
    "---\n",
    "title: \"Transit Summary\"\n",
    "date: today\n",
    "---"
   ]
  },
  {
   "cell_type": "code",
   "execution_count": 1,
   "id": "3c1a81e12086b602",
   "metadata": {
    "ExecuteTime": {
     "end_time": "2024-06-24T20:05:20.341638Z",
     "start_time": "2024-06-24T20:05:20.232835Z"
    },
    "execution": {
     "iopub.execute_input": "2024-12-14T02:38:34.166778Z",
     "iopub.status.busy": "2024-12-14T02:38:34.164783Z",
     "iopub.status.idle": "2024-12-14T02:38:39.675438Z",
     "shell.execute_reply": "2024-12-14T02:38:39.673933Z"
    }
   },
   "outputs": [
    {
     "name": "stderr",
     "output_type": "stream",
     "text": [
      "c:\\Users\\Modeller\\AppData\\Local\\anaconda3\\envs\\summary\\lib\\site-packages\\geopandas\\_compat.py:115: UserWarning: The Shapely GEOS version (3.11.4-CAPI-1.17.4) is incompatible with the GEOS version PyGEOS was compiled with (3.10.4-CAPI-1.16.2). Conversions between both will be slow.\n",
      "  shapely_geos_version, geos_capi_version_string\n"
     ]
    }
   ],
   "source": [
    "import os\n",
    "import pandas as pd\n",
    "import numpy as np\n",
    "from sqlalchemy import create_engine,text\n",
    "from scipy import stats\n",
    "import plotly.express as px\n",
    "import toml\n",
    "import psrc_theme\n",
    "import geopandas as gpd\n",
    "import plotly.express as px\n",
    "import plotly.graph_objects as go\n",
    "\n",
    "%matplotlib inline\n",
    "from IPython.display import display, HTML\n",
    "\n",
    "# to show plotly figures in quarto HTML file\n",
    "import plotly.io as pio\n",
    "pio.renderers.default = \"plotly_mimetype+notebook_connected\"\n",
    "pio.templates.default = \"simple_white+psrc_color\" # set plotly template\n",
    "\n",
    "input_config = toml.load(os.path.join(os.getcwd(), '..\\\\..\\\\..\\\\..\\\\configuration', 'input_configuration.toml'))\n",
    "valid_config = toml.load(os.path.join(os.getcwd(), '..\\\\..\\\\..\\\\..\\\\configuration', 'validation_configuration.toml'))\n",
    "summary_config = toml.load(os.path.join(os.getcwd(), '..\\\\..\\\\..\\\\..\\\\configuration', 'summary_configuration.toml'))\n",
    "\n",
    "# create connection\n",
    "conn = create_engine('sqlite:///../../../../inputs/db/'+input_config['db_name'])\n",
    "# summary data location\n",
    "csv_path = os.path.join(valid_config['model_dir'], 'outputs/validation')\n",
    "\n",
    "# table format\n",
    "pd.options.display.float_format = '{:0,.2f}'.format\n",
    "format_percent = \"{:,.2%}\".format"
   ]
  },
  {
   "cell_type": "markdown",
   "id": "b00095bdf12d94c3",
   "metadata": {},
   "source": [
    "## transit boarding"
   ]
  },
  {
   "cell_type": "markdown",
   "id": "5580f8d3",
   "metadata": {},
   "source": [
    "### boarding by mode"
   ]
  },
  {
   "cell_type": "raw",
   "id": "62368037",
   "metadata": {
    "vscode": {
     "languageId": "raw"
    }
   },
   "source": [
    ":::{.panel-tabset}\n",
    "#### 2023"
   ]
  },
  {
   "cell_type": "code",
   "execution_count": 2,
   "id": "2abbfecf",
   "metadata": {},
   "outputs": [],
   "source": [
    "# Process 2024 observed data\n",
    "df_obs = pd.read_sql(text(\"SELECT * FROM observed_transit_boardings\"), con=conn.connect())\n",
    "\n",
    "df_obs[\"route_id\"] = df_obs[\"route_id\"].astype(\"int\")\n",
    "\n",
    "df_obs = df_obs[df_obs['year'].isin([2023,2024])]\n",
    "\n",
    "df_obs = pd.pivot_table(df_obs, index='route_id', values='observed_daily', columns='year', aggfunc='sum')\n",
    "df_obs = df_obs.reset_index()\n",
    "\n"
   ]
  },
  {
   "cell_type": "code",
   "execution_count": null,
   "id": "ab22ff71",
   "metadata": {},
   "outputs": [],
   "source": [
    "\n",
    "# Load model results and calculate modeled daily boarding by line\n",
    "df_transit_line = pd.read_csv(os.path.join(valid_config['model_dir'], 'outputs/transit/transit_line_results.csv'))\n",
    "df_model = df_transit_line.copy()\n",
    "df_model_daily = (\n",
    "    df_model.groupby([\"route_code\", \"mode\",'agency_code'])\n",
    "    .agg({\"description\": \"first\", \"boardings\": \"sum\"})\n",
    "    .reset_index()\n",
    ")\n",
    "\n",
    "# Merge modeled with observed boarding data\n",
    "df_model_daily[\"route_code\"] = df_model_daily[\"route_code\"].astype(\"int\")\n",
    "df = df_model_daily.merge(\n",
    "    df_obs, left_on=\"route_code\", right_on=\"route_id\", how=\"left\"\n",
    ")\n",
    "\n",
    "df.rename(\n",
    "    columns={\n",
    "        \"boardings\": \"Model\",\n",
    "        2023: \"2023 Spring Observed\",\n",
    "        2024: \"2024 Spring Observed\",\n",
    "    },\n",
    "    inplace=True,\n",
    ")\n",
    "\n",
    "\n",
    "df['agency'] = df['agency_code'].astype('int').astype('str').map(summary_config['agency_lookup'])\n",
    "df_line_boardings_23_24 = df.copy()"
   ]
  },
  {
   "cell_type": "code",
   "execution_count": 53,
   "id": "0fa5b4c7",
   "metadata": {
    "execution": {
     "iopub.execute_input": "2024-12-14T02:38:39.688403Z",
     "iopub.status.busy": "2024-12-14T02:38:39.686408Z",
     "iopub.status.idle": "2024-12-14T02:38:39.797541Z",
     "shell.execute_reply": "2024-12-14T02:38:39.796037Z"
    }
   },
   "outputs": [
    {
     "data": {
      "text/html": [
       "<div>\n",
       "<style scoped>\n",
       "    .dataframe tbody tr th:only-of-type {\n",
       "        vertical-align: middle;\n",
       "    }\n",
       "\n",
       "    .dataframe tbody tr th {\n",
       "        vertical-align: top;\n",
       "    }\n",
       "\n",
       "    .dataframe thead th {\n",
       "        text-align: right;\n",
       "    }\n",
       "</style>\n",
       "<table border=\"1\" class=\"dataframe\">\n",
       "  <thead>\n",
       "    <tr style=\"text-align: right;\">\n",
       "      <th></th>\n",
       "      <th>mode</th>\n",
       "      <th>mode_name</th>\n",
       "      <th>Model</th>\n",
       "      <th>2023 Spring Observed</th>\n",
       "      <th>2024 Spring Observed</th>\n",
       "    </tr>\n",
       "  </thead>\n",
       "  <tbody>\n",
       "    <tr>\n",
       "      <th>0</th>\n",
       "      <td>b</td>\n",
       "      <td>Bus</td>\n",
       "      <td>374,074.42</td>\n",
       "      <td>332,482.24</td>\n",
       "      <td>321,083.00</td>\n",
       "    </tr>\n",
       "    <tr>\n",
       "      <th>4</th>\n",
       "      <td>r</td>\n",
       "      <td>Rail</td>\n",
       "      <td>92,875.59</td>\n",
       "      <td>80,839.00</td>\n",
       "      <td>95,069.00</td>\n",
       "    </tr>\n",
       "    <tr>\n",
       "      <th>2</th>\n",
       "      <td>f</td>\n",
       "      <td>Ferry (1)</td>\n",
       "      <td>8,362.65</td>\n",
       "      <td>9,907.00</td>\n",
       "      <td>10,881.00</td>\n",
       "    </tr>\n",
       "    <tr>\n",
       "      <th>1</th>\n",
       "      <td>c</td>\n",
       "      <td>Commuter Rail</td>\n",
       "      <td>6,297.28</td>\n",
       "      <td>6,354.00</td>\n",
       "      <td>7,535.00</td>\n",
       "    </tr>\n",
       "    <tr>\n",
       "      <th>3</th>\n",
       "      <td>p</td>\n",
       "      <td>Ferry (2)</td>\n",
       "      <td>3,855.33</td>\n",
       "      <td>2,950.00</td>\n",
       "      <td>3,238.00</td>\n",
       "    </tr>\n",
       "  </tbody>\n",
       "</table>\n",
       "</div>"
      ],
      "text/plain": [
       "  mode      mode_name      Model  2023 Spring Observed  2024 Spring Observed\n",
       "0    b            Bus 374,074.42            332,482.24            321,083.00\n",
       "4    r           Rail  92,875.59             80,839.00             95,069.00\n",
       "2    f      Ferry (1)   8,362.65              9,907.00             10,881.00\n",
       "1    c  Commuter Rail   6,297.28              6,354.00              7,535.00\n",
       "3    p      Ferry (2)   3,855.33              2,950.00              3,238.00"
      ]
     },
     "execution_count": 53,
     "metadata": {},
     "output_type": "execute_result"
    }
   ],
   "source": [
    "df = pd.read_csv(os.path.join(csv_path, 'daily_boardings_by_mode.csv')).sort_values('model_boardings', ascending=False)\n",
    "table_df = df.copy()\n",
    "table_df['mode_name'] = table_df['mode'].map({'c':'Commuter Rail','b':'Bus','r':'Rail','f':'Ferry (1)','p':'Ferry (2)'})\n",
    "# table_df[['mode','mode_name','model_boardings','2023','2024']]\n",
    "table_df.rename(\n",
    "    columns={\n",
    "        \"model_boardings\": \"Model\",\n",
    "        \"2023\": \"2023 Spring Observed\",\n",
    "        \"2024\": \"2024 Spring Observed\",\n",
    "    },\n",
    "    inplace=True,\n",
    ")\n",
    "table_df[['mode','mode_name','Model','2023 Spring Observed','2024 Spring Observed']]"
   ]
  },
  {
   "cell_type": "raw",
   "id": "0a51c67a",
   "metadata": {
    "vscode": {
     "languageId": "raw"
    }
   },
   "source": [
    "#### 2023/2024 Link Red Line and Sounder"
   ]
  },
  {
   "cell_type": "code",
   "execution_count": 56,
   "id": "108fbc11",
   "metadata": {
    "execution": {
     "iopub.execute_input": "2024-12-14T02:38:39.809509Z",
     "iopub.status.busy": "2024-12-14T02:38:39.808512Z",
     "iopub.status.idle": "2024-12-14T02:38:39.939511Z",
     "shell.execute_reply": "2024-12-14T02:38:39.936874Z"
    }
   },
   "outputs": [
    {
     "data": {
      "text/html": [
       "<div>\n",
       "<style scoped>\n",
       "    .dataframe tbody tr th:only-of-type {\n",
       "        vertical-align: middle;\n",
       "    }\n",
       "\n",
       "    .dataframe tbody tr th {\n",
       "        vertical-align: top;\n",
       "    }\n",
       "\n",
       "    .dataframe thead th {\n",
       "        text-align: right;\n",
       "    }\n",
       "</style>\n",
       "<table border=\"1\" class=\"dataframe\">\n",
       "  <thead>\n",
       "    <tr style=\"text-align: right;\">\n",
       "      <th></th>\n",
       "      <th>Model</th>\n",
       "      <th>2023</th>\n",
       "      <th>2024</th>\n",
       "      <th>2023 % diff</th>\n",
       "      <th>2024 % diff</th>\n",
       "    </tr>\n",
       "    <tr>\n",
       "      <th>line</th>\n",
       "      <th></th>\n",
       "      <th></th>\n",
       "      <th></th>\n",
       "      <th></th>\n",
       "      <th></th>\n",
       "    </tr>\n",
       "  </thead>\n",
       "  <tbody>\n",
       "    <tr>\n",
       "      <th>Link 1 Line</th>\n",
       "      <td>88,842</td>\n",
       "      <td>78,772</td>\n",
       "      <td>91,213</td>\n",
       "      <td>12.78%</td>\n",
       "      <td>-2.60%</td>\n",
       "    </tr>\n",
       "    <tr>\n",
       "      <th>Sounder</th>\n",
       "      <td>6,297</td>\n",
       "      <td>6,354</td>\n",
       "      <td>7,535</td>\n",
       "      <td>-0.89%</td>\n",
       "      <td>-16.43%</td>\n",
       "    </tr>\n",
       "  </tbody>\n",
       "</table>\n",
       "</div>"
      ],
      "text/plain": [
       "              Model    2023    2024 2023 % diff 2024 % diff\n",
       "line                                                       \n",
       "Link 1 Line  88,842  78,772  91,213      12.78%      -2.60%\n",
       "Sounder       6,297   6,354   7,535      -0.89%     -16.43%"
      ]
     },
     "execution_count": 56,
     "metadata": {},
     "output_type": "execute_result"
    }
   ],
   "source": [
    "df_boarding_line = pd.read_csv(os.path.join(csv_path,'daily_boardings_by_line.csv'), index_col='description')\n",
    "# df_boarding_line[['2023','model_boardings']] = df_boarding_line[['2023','model_boardings']].astype('float')\n",
    "\n",
    "df = df_boarding_line[df_boarding_line['route_code'].isin([6996,6999,6998])].reset_index()\n",
    "df.index = df['route_code']\n",
    "df.loc[6996,'line'] = 'Link 1 Line'\n",
    "df.loc[6999,'line'] = 'Sounder'\n",
    "df.loc[6998,'line'] = 'Sounder'\n",
    "df = df.groupby('line').sum()[['model_boardings','2023','2024']]\n",
    "df.rename(columns={'model_boardings': 'Model'}, inplace=True)\n",
    "\n",
    "\n",
    "df['2023 % diff'] = (df['Model'].astype(float)-df['2023'].astype(float))/df['2023'].astype(float)\n",
    "df['2024 % diff'] = (df['Model'].astype(float)-df['2024'].astype(float))/df['2024'].astype(float)\n",
    "df[['2023 % diff']] = df[['2023 % diff']].applymap(format_percent)\n",
    "df[['2024 % diff']] = df[['2024 % diff']].applymap(format_percent)\n",
    "\n",
    "for col in ['Model','2023','2024']:\n",
    "    df[col] = df[col].astype(float).map('{:,.0f}'.format)\n",
    "df"
   ]
  },
  {
   "cell_type": "raw",
   "id": "119f4510",
   "metadata": {
    "vscode": {
     "languageId": "raw"
    }
   },
   "source": [
    ":::"
   ]
  },
  {
   "cell_type": "markdown",
   "id": "b0eb0b3986c9d024",
   "metadata": {},
   "source": [
    "### boarding by agency"
   ]
  },
  {
   "cell_type": "raw",
   "id": "9afc046d",
   "metadata": {
    "vscode": {
     "languageId": "raw"
    }
   },
   "source": [
    ":::{.panel-tabset}\n",
    "\n",
    "#### 2023"
   ]
  },
  {
   "cell_type": "code",
   "execution_count": 48,
   "id": "daca8798e4e1c396",
   "metadata": {
    "ExecuteTime": {
     "end_time": "2024-06-24T20:04:29.076584Z",
     "start_time": "2024-06-24T20:04:29.029595Z"
    },
    "execution": {
     "iopub.execute_input": "2024-12-14T02:38:39.952038Z",
     "iopub.status.busy": "2024-12-14T02:38:39.950043Z",
     "iopub.status.idle": "2024-12-14T02:38:40.002253Z",
     "shell.execute_reply": "2024-12-14T02:38:39.999910Z"
    }
   },
   "outputs": [
    {
     "data": {
      "text/html": [
       "<div>\n",
       "<style scoped>\n",
       "    .dataframe tbody tr th:only-of-type {\n",
       "        vertical-align: middle;\n",
       "    }\n",
       "\n",
       "    .dataframe tbody tr th {\n",
       "        vertical-align: top;\n",
       "    }\n",
       "\n",
       "    .dataframe thead th {\n",
       "        text-align: right;\n",
       "    }\n",
       "</style>\n",
       "<table border=\"1\" class=\"dataframe\">\n",
       "  <thead>\n",
       "    <tr style=\"text-align: right;\">\n",
       "      <th></th>\n",
       "      <th>Model</th>\n",
       "      <th>2023</th>\n",
       "      <th>2024</th>\n",
       "    </tr>\n",
       "    <tr>\n",
       "      <th>agency</th>\n",
       "      <th></th>\n",
       "      <th></th>\n",
       "      <th></th>\n",
       "    </tr>\n",
       "  </thead>\n",
       "  <tbody>\n",
       "    <tr>\n",
       "      <th>King County Metro</th>\n",
       "      <td>276,394</td>\n",
       "      <td>254,568</td>\n",
       "      <td>263,641</td>\n",
       "    </tr>\n",
       "    <tr>\n",
       "      <th>Sound Transit</th>\n",
       "      <td>140,081</td>\n",
       "      <td>115,114</td>\n",
       "      <td>133,536</td>\n",
       "    </tr>\n",
       "    <tr>\n",
       "      <th>Community Transit</th>\n",
       "      <td>26,741</td>\n",
       "      <td>21,752</td>\n",
       "      <td>0</td>\n",
       "    </tr>\n",
       "    <tr>\n",
       "      <th>Pierce Transit</th>\n",
       "      <td>21,720</td>\n",
       "      <td>21,185</td>\n",
       "      <td>21,911</td>\n",
       "    </tr>\n",
       "    <tr>\n",
       "      <th>Washington Ferries</th>\n",
       "      <td>5,744</td>\n",
       "      <td>7,883</td>\n",
       "      <td>8,614</td>\n",
       "    </tr>\n",
       "    <tr>\n",
       "      <th>Kitsap Transit</th>\n",
       "      <td>10,309</td>\n",
       "      <td>7,829</td>\n",
       "      <td>4,242</td>\n",
       "    </tr>\n",
       "    <tr>\n",
       "      <th>Everett Transit</th>\n",
       "      <td>4,476</td>\n",
       "      <td>4,201</td>\n",
       "      <td>5,862</td>\n",
       "    </tr>\n",
       "  </tbody>\n",
       "</table>\n",
       "</div>"
      ],
      "text/plain": [
       "                      Model     2023     2024\n",
       "agency                                       \n",
       "King County Metro   276,394  254,568  263,641\n",
       "Sound Transit       140,081  115,114  133,536\n",
       "Community Transit    26,741   21,752        0\n",
       "Pierce Transit       21,720   21,185   21,911\n",
       "Washington Ferries    5,744    7,883    8,614\n",
       "Kitsap Transit       10,309    7,829    4,242\n",
       "Everett Transit       4,476    4,201    5,862"
      ]
     },
     "execution_count": 48,
     "metadata": {},
     "output_type": "execute_result"
    }
   ],
   "source": [
    "# df = pd.read_csv(os.path.join(csv_path, 'daily_boardings_by_agency.csv')).sort_values('observed_boardings', ascending=False)\n",
    "# plot_df = df.melt(id_vars=['agency'], value_vars=['observed_boardings', 'model_boardings'],\n",
    "#                   var_name='source', value_name='count')\n",
    "df_boarding_line = pd.read_csv(os.path.join(csv_path,'daily_boardings_by_line.csv'), index_col='description')\n",
    "df = df_boarding_line.groupby('agency').sum()[['model_boardings','2023','2024']].sort_values('2023', ascending=False)\n",
    "df.rename(columns={'model_boardings': 'Model'}, inplace=True)\n",
    "for col in ['Model','2023','2024']:\n",
    "    df[col] = df[col].astype(float).map('{:,.0f}'.format)\n",
    "df"
   ]
  },
  {
   "cell_type": "raw",
   "id": "b155fe89",
   "metadata": {},
   "source": [
    "#### Bus Ridership by Agency"
   ]
  },
  {
   "cell_type": "code",
   "execution_count": 50,
   "id": "843fd939",
   "metadata": {},
   "outputs": [
    {
     "data": {
      "text/html": [
       "<div>\n",
       "<style scoped>\n",
       "    .dataframe tbody tr th:only-of-type {\n",
       "        vertical-align: middle;\n",
       "    }\n",
       "\n",
       "    .dataframe tbody tr th {\n",
       "        vertical-align: top;\n",
       "    }\n",
       "\n",
       "    .dataframe thead th {\n",
       "        text-align: right;\n",
       "    }\n",
       "</style>\n",
       "<table border=\"1\" class=\"dataframe\">\n",
       "  <thead>\n",
       "    <tr style=\"text-align: right;\">\n",
       "      <th></th>\n",
       "      <th>Model</th>\n",
       "      <th>2023 Spring Observed</th>\n",
       "      <th>2024 Spring Observed</th>\n",
       "    </tr>\n",
       "    <tr>\n",
       "      <th>agency</th>\n",
       "      <th></th>\n",
       "      <th></th>\n",
       "      <th></th>\n",
       "    </tr>\n",
       "  </thead>\n",
       "  <tbody>\n",
       "    <tr>\n",
       "      <th>Community Transit</th>\n",
       "      <td>26,741.42</td>\n",
       "      <td>21,752.24</td>\n",
       "      <td>0.00</td>\n",
       "    </tr>\n",
       "    <tr>\n",
       "      <th>Everett Transit</th>\n",
       "      <td>4,475.86</td>\n",
       "      <td>4,201.00</td>\n",
       "      <td>5,862.00</td>\n",
       "    </tr>\n",
       "    <tr>\n",
       "      <th>King County Metro</th>\n",
       "      <td>273,489.18</td>\n",
       "      <td>252,852.00</td>\n",
       "      <td>262,018.00</td>\n",
       "    </tr>\n",
       "    <tr>\n",
       "      <th>Kitsap Transit</th>\n",
       "      <td>4,908.85</td>\n",
       "      <td>4,048.00</td>\n",
       "      <td>0.00</td>\n",
       "    </tr>\n",
       "    <tr>\n",
       "      <th>Pierce Transit</th>\n",
       "      <td>21,719.79</td>\n",
       "      <td>21,185.00</td>\n",
       "      <td>21,911.00</td>\n",
       "    </tr>\n",
       "    <tr>\n",
       "      <th>Sound Transit</th>\n",
       "      <td>42,739.31</td>\n",
       "      <td>28,444.00</td>\n",
       "      <td>31,292.00</td>\n",
       "    </tr>\n",
       "  </tbody>\n",
       "</table>\n",
       "</div>"
      ],
      "text/plain": [
       "                       Model  2023 Spring Observed  2024 Spring Observed\n",
       "agency                                                                  \n",
       "Community Transit  26,741.42             21,752.24                  0.00\n",
       "Everett Transit     4,475.86              4,201.00              5,862.00\n",
       "King County Metro 273,489.18            252,852.00            262,018.00\n",
       "Kitsap Transit      4,908.85              4,048.00                  0.00\n",
       "Pierce Transit     21,719.79             21,185.00             21,911.00\n",
       "Sound Transit      42,739.31             28,444.00             31,292.00"
      ]
     },
     "execution_count": 50,
     "metadata": {},
     "output_type": "execute_result"
    }
   ],
   "source": [
    "# df = pd.read_csv(os.path.join(csv_path, 'daily_boardings_by_line.csv')).sort_values('observed_boardings', ascending=False)\n",
    "df = df_line_boardings_23_24.copy()\n",
    "df\n",
    "df = df[df['mode'].isin(['b'])]\n",
    "df = df.groupby(['agency'])[['Model','2023 Spring Observed','2024 Spring Observed']].sum()\n",
    "df\n"
   ]
  },
  {
   "cell_type": "raw",
   "id": "e64f5283",
   "metadata": {
    "vscode": {
     "languageId": "raw"
    }
   },
   "source": [
    ":::"
   ]
  },
  {
   "cell_type": "markdown",
   "id": "10436e8bdd112348",
   "metadata": {},
   "source": [
    "### boarding by key route"
   ]
  },
  {
   "cell_type": "raw",
   "id": "7d0d62e3693265f8",
   "metadata": {},
   "source": [
    ":::{.panel-tabset}\n",
    "#### ferry"
   ]
  },
  {
   "cell_type": "code",
   "execution_count": 57,
   "id": "75118f994b2c8118",
   "metadata": {
    "ExecuteTime": {
     "end_time": "2024-06-24T20:05:33.107476Z",
     "start_time": "2024-06-24T20:05:33.044901Z"
    },
    "execution": {
     "iopub.execute_input": "2024-12-14T02:38:40.169525Z",
     "iopub.status.busy": "2024-12-14T02:38:40.168527Z",
     "iopub.status.idle": "2024-12-14T02:38:40.235796Z",
     "shell.execute_reply": "2024-12-14T02:38:40.234293Z"
    }
   },
   "outputs": [
    {
     "data": {
      "text/html": [
       "<div>\n",
       "<style scoped>\n",
       "    .dataframe tbody tr th:only-of-type {\n",
       "        vertical-align: middle;\n",
       "    }\n",
       "\n",
       "    .dataframe tbody tr th {\n",
       "        vertical-align: top;\n",
       "    }\n",
       "\n",
       "    .dataframe thead th {\n",
       "        text-align: right;\n",
       "    }\n",
       "</style>\n",
       "<table border=\"1\" class=\"dataframe\">\n",
       "  <thead>\n",
       "    <tr style=\"text-align: right;\">\n",
       "      <th></th>\n",
       "      <th>index</th>\n",
       "      <th>description</th>\n",
       "      <th>Model</th>\n",
       "      <th>2023 Spring Observed</th>\n",
       "      <th>2024 Spring Observed</th>\n",
       "    </tr>\n",
       "  </thead>\n",
       "  <tbody>\n",
       "    <tr>\n",
       "      <th>6</th>\n",
       "      <td>278</td>\n",
       "      <td>WSF Seattle-Bain Isl</td>\n",
       "      <td>3,771.32</td>\n",
       "      <td>4,981.00</td>\n",
       "      <td>5,404.00</td>\n",
       "    </tr>\n",
       "    <tr>\n",
       "      <th>2</th>\n",
       "      <td>270</td>\n",
       "      <td>Seattle-Bremerton FF</td>\n",
       "      <td>3,037.32</td>\n",
       "      <td>1,913.00</td>\n",
       "      <td>2,068.00</td>\n",
       "    </tr>\n",
       "    <tr>\n",
       "      <th>3</th>\n",
       "      <td>271</td>\n",
       "      <td>Brem-Pt Orchard FF</td>\n",
       "      <td>1,469.07</td>\n",
       "      <td>768.00</td>\n",
       "      <td>857.00</td>\n",
       "    </tr>\n",
       "    <tr>\n",
       "      <th>9</th>\n",
       "      <td>281</td>\n",
       "      <td>WSF Fauntleroy-Vashn</td>\n",
       "      <td>1,015.13</td>\n",
       "      <td>659.00</td>\n",
       "      <td>661.00</td>\n",
       "    </tr>\n",
       "    <tr>\n",
       "      <th>0</th>\n",
       "      <td>147</td>\n",
       "      <td>973 W Sea Water Taxi</td>\n",
       "      <td>632.26</td>\n",
       "      <td>837.00</td>\n",
       "      <td>873.00</td>\n",
       "    </tr>\n",
       "    <tr>\n",
       "      <th>4</th>\n",
       "      <td>273</td>\n",
       "      <td>Seattle-Southwrth FF</td>\n",
       "      <td>608.40</td>\n",
       "      <td>631.00</td>\n",
       "      <td>749.00</td>\n",
       "    </tr>\n",
       "    <tr>\n",
       "      <th>1</th>\n",
       "      <td>148</td>\n",
       "      <td>975 Vashn Water Taxi</td>\n",
       "      <td>442.15</td>\n",
       "      <td>356.00</td>\n",
       "      <td>390.00</td>\n",
       "    </tr>\n",
       "    <tr>\n",
       "      <th>8</th>\n",
       "      <td>280</td>\n",
       "      <td>WSF Fauntleroy-Swrth</td>\n",
       "      <td>344.39</td>\n",
       "      <td>134.00</td>\n",
       "      <td>184.00</td>\n",
       "    </tr>\n",
       "    <tr>\n",
       "      <th>11</th>\n",
       "      <td>283</td>\n",
       "      <td>WSF Pt Def-Tahlequah</td>\n",
       "      <td>185.36</td>\n",
       "      <td>267.00</td>\n",
       "      <td>325.00</td>\n",
       "    </tr>\n",
       "    <tr>\n",
       "      <th>5</th>\n",
       "      <td>277</td>\n",
       "      <td>WSF Edmonds-Kingston</td>\n",
       "      <td>181.72</td>\n",
       "      <td>1,020.00</td>\n",
       "      <td>1,068.00</td>\n",
       "    </tr>\n",
       "    <tr>\n",
       "      <th>7</th>\n",
       "      <td>279</td>\n",
       "      <td>WSF Seattle-Brem</td>\n",
       "      <td>136.37</td>\n",
       "      <td>739.00</td>\n",
       "      <td>877.00</td>\n",
       "    </tr>\n",
       "    <tr>\n",
       "      <th>10</th>\n",
       "      <td>282</td>\n",
       "      <td>WSF Vashon-Southwrth</td>\n",
       "      <td>109.40</td>\n",
       "      <td>83.00</td>\n",
       "      <td>95.00</td>\n",
       "    </tr>\n",
       "  </tbody>\n",
       "</table>\n",
       "</div>"
      ],
      "text/plain": [
       "    index           description    Model  2023 Spring Observed  \\\n",
       "6     278  WSF Seattle-Bain Isl 3,771.32              4,981.00   \n",
       "2     270  Seattle-Bremerton FF 3,037.32              1,913.00   \n",
       "3     271    Brem-Pt Orchard FF 1,469.07                768.00   \n",
       "9     281  WSF Fauntleroy-Vashn 1,015.13                659.00   \n",
       "0     147  973 W Sea Water Taxi   632.26                837.00   \n",
       "4     273  Seattle-Southwrth FF   608.40                631.00   \n",
       "1     148  975 Vashn Water Taxi   442.15                356.00   \n",
       "8     280  WSF Fauntleroy-Swrth   344.39                134.00   \n",
       "11    283  WSF Pt Def-Tahlequah   185.36                267.00   \n",
       "5     277  WSF Edmonds-Kingston   181.72              1,020.00   \n",
       "7     279      WSF Seattle-Brem   136.37                739.00   \n",
       "10    282  WSF Vashon-Southwrth   109.40                 83.00   \n",
       "\n",
       "    2024 Spring Observed  \n",
       "6               5,404.00  \n",
       "2               2,068.00  \n",
       "3                 857.00  \n",
       "9                 661.00  \n",
       "0                 873.00  \n",
       "4                 749.00  \n",
       "1                 390.00  \n",
       "8                 184.00  \n",
       "11                325.00  \n",
       "5               1,068.00  \n",
       "7                 877.00  \n",
       "10                 95.00  "
      ]
     },
     "execution_count": 57,
     "metadata": {},
     "output_type": "execute_result"
    }
   ],
   "source": [
    "\n",
    "df = df_line_boardings_23_24[df_line_boardings_23_24['mode'].isin(['f','p'])][['route_code','description','agency','Model','2023 Spring Observed','2024 Spring Observed']]\n",
    "df = df[df['route_code'].isin([4200,4201,4203,4204,5001,5002,5003,5004,5005,5006,5007,1973,1975])].reset_index()\n",
    "df.drop(['route_code','agency'], axis=1, inplace=True)\n",
    "df_table = df.copy()\n",
    "# df_table[['perc_diff']] = df_table[['perc_diff']].applymap(format_percent)\n",
    "df_table.sort_values('Model', ascending=False)"
   ]
  },
  {
   "cell_type": "code",
   "execution_count": 58,
   "id": "67bf06d211cca3c6",
   "metadata": {
    "ExecuteTime": {
     "end_time": "2024-06-24T19:41:04.985397Z",
     "start_time": "2024-06-24T19:41:04.798158Z"
    },
    "execution": {
     "iopub.execute_input": "2024-12-14T02:38:40.247764Z",
     "iopub.status.busy": "2024-12-14T02:38:40.246767Z",
     "iopub.status.idle": "2024-12-14T02:38:40.267712Z",
     "shell.execute_reply": "2024-12-14T02:38:40.265717Z"
    }
   },
   "outputs": [],
   "source": [
    "# if len(df) > 0:\n",
    "#     ax = df.plot(kind='scatter', x='observed_boardings', y='model_boardings')\n",
    "#     lim = df[['observed_boardings','model_boardings']].max().max()*1.05\n",
    "#     ax.set_ylim(0,lim)\n",
    "#     ax.set_xlim(0,lim)\n",
    "#     x = np.linspace(*ax.get_xlim())\n",
    "#     ax.plot(x, x)\n",
    "#     slope, intercept, r_value, p_value, std_err = stats.linregress(df['observed_boardings'],df['model_boardings'])\n",
    "#     print('r^2 ' + str('') + ': ' + str(r_value))"
   ]
  },
  {
   "cell_type": "raw",
   "id": "14db883222970442",
   "metadata": {},
   "source": [
    "#### rail"
   ]
  },
  {
   "cell_type": "code",
   "execution_count": 59,
   "id": "c9adf289ac66da8",
   "metadata": {
    "ExecuteTime": {
     "end_time": "2024-06-24T20:05:45.826421Z",
     "start_time": "2024-06-24T20:05:45.779797Z"
    },
    "execution": {
     "iopub.execute_input": "2024-12-14T02:38:40.358988Z",
     "iopub.status.busy": "2024-12-14T02:38:40.356994Z",
     "iopub.status.idle": "2024-12-14T02:38:40.393246Z",
     "shell.execute_reply": "2024-12-14T02:38:40.391251Z"
    }
   },
   "outputs": [
    {
     "data": {
      "text/html": [
       "<div>\n",
       "<style scoped>\n",
       "    .dataframe tbody tr th:only-of-type {\n",
       "        vertical-align: middle;\n",
       "    }\n",
       "\n",
       "    .dataframe tbody tr th {\n",
       "        vertical-align: top;\n",
       "    }\n",
       "\n",
       "    .dataframe thead th {\n",
       "        text-align: right;\n",
       "    }\n",
       "</style>\n",
       "<table border=\"1\" class=\"dataframe\">\n",
       "  <thead>\n",
       "    <tr style=\"text-align: right;\">\n",
       "      <th></th>\n",
       "      <th>route_code</th>\n",
       "      <th>description</th>\n",
       "      <th>agency</th>\n",
       "      <th>Model</th>\n",
       "      <th>2023 Spring Observed</th>\n",
       "      <th>2024 Spring Observed</th>\n",
       "    </tr>\n",
       "  </thead>\n",
       "  <tbody>\n",
       "    <tr>\n",
       "      <th>0</th>\n",
       "      <td>6996</td>\n",
       "      <td>Link Red Line</td>\n",
       "      <td>Sound Transit</td>\n",
       "      <td>88,842.01</td>\n",
       "      <td>78,772.00</td>\n",
       "      <td>91,213.00</td>\n",
       "    </tr>\n",
       "    <tr>\n",
       "      <th>1</th>\n",
       "      <td>6998</td>\n",
       "      <td>Sounder South</td>\n",
       "      <td>Sound Transit</td>\n",
       "      <td>6,293.07</td>\n",
       "      <td>6,038.00</td>\n",
       "      <td>7,168.00</td>\n",
       "    </tr>\n",
       "    <tr>\n",
       "      <th>2</th>\n",
       "      <td>6999</td>\n",
       "      <td>Sounder North</td>\n",
       "      <td>Sound Transit</td>\n",
       "      <td>4.20</td>\n",
       "      <td>316.00</td>\n",
       "      <td>367.00</td>\n",
       "    </tr>\n",
       "  </tbody>\n",
       "</table>\n",
       "</div>"
      ],
      "text/plain": [
       "   route_code    description         agency     Model  2023 Spring Observed  \\\n",
       "0        6996  Link Red Line  Sound Transit 88,842.01             78,772.00   \n",
       "1        6998  Sounder South  Sound Transit  6,293.07              6,038.00   \n",
       "2        6999  Sounder North  Sound Transit      4.20                316.00   \n",
       "\n",
       "   2024 Spring Observed  \n",
       "0             91,213.00  \n",
       "1              7,168.00  \n",
       "2                367.00  "
      ]
     },
     "execution_count": 59,
     "metadata": {},
     "output_type": "execute_result"
    }
   ],
   "source": [
    "df = df_line_boardings_23_24[df_line_boardings_23_24['route_code'].isin([6996,6999,6998])].reset_index()\n",
    "df['description'] = df['route_code'].map({6998: 'Sounder South', 6999: 'Sounder North',6996: 'Link Red Line'})\n",
    "# df.drop(['route_code','agency'], axis=1, inplace=True)\n",
    "df_table = df[['route_code','description','agency','Model','2023 Spring Observed','2024 Spring Observed']].copy()\n",
    "# df_table[['perc_diff']] = df_table[['perc_diff']].applymap(format_percent)\n",
    "df_table"
   ]
  },
  {
   "cell_type": "code",
   "execution_count": 60,
   "id": "cb27f79888f8363d",
   "metadata": {
    "ExecuteTime": {
     "end_time": "2024-06-24T19:41:16.172926Z",
     "start_time": "2024-06-24T19:41:15.922628Z"
    },
    "execution": {
     "iopub.execute_input": "2024-12-14T02:38:40.404216Z",
     "iopub.status.busy": "2024-12-14T02:38:40.403219Z",
     "iopub.status.idle": "2024-12-14T02:38:40.833802Z",
     "shell.execute_reply": "2024-12-14T02:38:40.831807Z"
    }
   },
   "outputs": [],
   "source": [
    "# if len(df) > 0:\n",
    "#     ax = df.plot(kind='scatter', x='observed_boardings', y='model_boardings')\n",
    "#     lim = df[['observed_boardings','model_boardings']].max().max()*1.05\n",
    "#     ax.set_ylim(0,lim)\n",
    "#     ax.set_xlim(0,lim)\n",
    "#     x = np.linspace(*ax.get_xlim())\n",
    "#     ax.plot(x, x)\n",
    "#     slope, intercept, r_value, p_value, std_err = stats.linregress(df['observed_boardings'],df['model_boardings'])\n",
    "#     print('r^2 ' + str('') + ': ' + str(r_value))"
   ]
  },
  {
   "cell_type": "raw",
   "id": "a24f21772d15369c",
   "metadata": {},
   "source": [
    "#### RapidRide, busiest buses, streetcar"
   ]
  },
  {
   "cell_type": "code",
   "execution_count": 14,
   "id": "a048f8a2b6d7d277",
   "metadata": {
    "ExecuteTime": {
     "end_time": "2024-06-24T20:05:51.529079Z",
     "start_time": "2024-06-24T20:05:51.482757Z"
    },
    "execution": {
     "iopub.execute_input": "2024-12-14T02:38:40.845770Z",
     "iopub.status.busy": "2024-12-14T02:38:40.844772Z",
     "iopub.status.idle": "2024-12-14T02:38:40.911021Z",
     "shell.execute_reply": "2024-12-14T02:38:40.909026Z"
    }
   },
   "outputs": [
    {
     "data": {
      "text/html": [
       "<div>\n",
       "<style scoped>\n",
       "    .dataframe tbody tr th:only-of-type {\n",
       "        vertical-align: middle;\n",
       "    }\n",
       "\n",
       "    .dataframe tbody tr th {\n",
       "        vertical-align: top;\n",
       "    }\n",
       "\n",
       "    .dataframe thead th {\n",
       "        text-align: right;\n",
       "    }\n",
       "</style>\n",
       "<table border=\"1\" class=\"dataframe\">\n",
       "  <thead>\n",
       "    <tr style=\"text-align: right;\">\n",
       "      <th></th>\n",
       "      <th>route_code</th>\n",
       "      <th>description</th>\n",
       "      <th>agency</th>\n",
       "      <th>Model</th>\n",
       "      <th>2023 Spring Observed</th>\n",
       "      <th>2024 Spring Observed</th>\n",
       "    </tr>\n",
       "  </thead>\n",
       "  <tbody>\n",
       "    <tr>\n",
       "      <th>6</th>\n",
       "      <td>1675</td>\n",
       "      <td>E Line RapidRide</td>\n",
       "      <td>King County Metro</td>\n",
       "      <td>14,821.85</td>\n",
       "      <td>11,057.00</td>\n",
       "      <td>13,011.00</td>\n",
       "    </tr>\n",
       "    <tr>\n",
       "      <th>0</th>\n",
       "      <td>1007</td>\n",
       "      <td>KC Metro 7</td>\n",
       "      <td>King County Metro</td>\n",
       "      <td>11,581.78</td>\n",
       "      <td>10,059.00</td>\n",
       "      <td>10,819.00</td>\n",
       "    </tr>\n",
       "    <tr>\n",
       "      <th>4</th>\n",
       "      <td>1673</td>\n",
       "      <td>C Line RapidRide</td>\n",
       "      <td>King County Metro</td>\n",
       "      <td>10,674.34</td>\n",
       "      <td>7,224.00</td>\n",
       "      <td>7,541.00</td>\n",
       "    </tr>\n",
       "    <tr>\n",
       "      <th>1</th>\n",
       "      <td>1040</td>\n",
       "      <td>KC Metro 40</td>\n",
       "      <td>King County Metro</td>\n",
       "      <td>8,398.82</td>\n",
       "      <td>7,218.00</td>\n",
       "      <td>8,255.00</td>\n",
       "    </tr>\n",
       "    <tr>\n",
       "      <th>5</th>\n",
       "      <td>1674</td>\n",
       "      <td>D Line RapidRide</td>\n",
       "      <td>King County Metro</td>\n",
       "      <td>7,210.60</td>\n",
       "      <td>8,805.00</td>\n",
       "      <td>9,634.00</td>\n",
       "    </tr>\n",
       "    <tr>\n",
       "      <th>10</th>\n",
       "      <td>6550</td>\n",
       "      <td>Sound Transit 550</td>\n",
       "      <td>Sound Transit</td>\n",
       "      <td>7,178.47</td>\n",
       "      <td>3,677.00</td>\n",
       "      <td>4,074.00</td>\n",
       "    </tr>\n",
       "    <tr>\n",
       "      <th>2</th>\n",
       "      <td>1671</td>\n",
       "      <td>A Line RapidRide</td>\n",
       "      <td>King County Metro</td>\n",
       "      <td>6,642.64</td>\n",
       "      <td>8,178.00</td>\n",
       "      <td>9,415.00</td>\n",
       "    </tr>\n",
       "    <tr>\n",
       "      <th>7</th>\n",
       "      <td>1676</td>\n",
       "      <td>F Line RapidRide</td>\n",
       "      <td>King County Metro</td>\n",
       "      <td>5,242.04</td>\n",
       "      <td>4,548.00</td>\n",
       "      <td>4,968.00</td>\n",
       "    </tr>\n",
       "    <tr>\n",
       "      <th>3</th>\n",
       "      <td>1672</td>\n",
       "      <td>B Line RapidRide</td>\n",
       "      <td>King County Metro</td>\n",
       "      <td>3,175.38</td>\n",
       "      <td>4,214.00</td>\n",
       "      <td>4,694.00</td>\n",
       "    </tr>\n",
       "    <tr>\n",
       "      <th>8</th>\n",
       "      <td>1997</td>\n",
       "      <td>SLU Streetcar</td>\n",
       "      <td>King County Metro</td>\n",
       "      <td>1,830.87</td>\n",
       "      <td>523.00</td>\n",
       "      <td>360.00</td>\n",
       "    </tr>\n",
       "    <tr>\n",
       "      <th>9</th>\n",
       "      <td>1998</td>\n",
       "      <td>First Hill Streetcar</td>\n",
       "      <td>King County Metro</td>\n",
       "      <td>936.34</td>\n",
       "      <td>3,915.00</td>\n",
       "      <td>4,115.00</td>\n",
       "    </tr>\n",
       "  </tbody>\n",
       "</table>\n",
       "</div>"
      ],
      "text/plain": [
       "    route_code           description             agency     Model  \\\n",
       "6         1675      E Line RapidRide  King County Metro 14,821.85   \n",
       "0         1007            KC Metro 7  King County Metro 11,581.78   \n",
       "4         1673      C Line RapidRide  King County Metro 10,674.34   \n",
       "1         1040           KC Metro 40  King County Metro  8,398.82   \n",
       "5         1674      D Line RapidRide  King County Metro  7,210.60   \n",
       "10        6550     Sound Transit 550      Sound Transit  7,178.47   \n",
       "2         1671      A Line RapidRide  King County Metro  6,642.64   \n",
       "7         1676      F Line RapidRide  King County Metro  5,242.04   \n",
       "3         1672      B Line RapidRide  King County Metro  3,175.38   \n",
       "8         1997         SLU Streetcar  King County Metro  1,830.87   \n",
       "9         1998  First Hill Streetcar  King County Metro    936.34   \n",
       "\n",
       "    2023 Spring Observed  2024 Spring Observed  \n",
       "6              11,057.00             13,011.00  \n",
       "0              10,059.00             10,819.00  \n",
       "4               7,224.00              7,541.00  \n",
       "1               7,218.00              8,255.00  \n",
       "5               8,805.00              9,634.00  \n",
       "10              3,677.00              4,074.00  \n",
       "2               8,178.00              9,415.00  \n",
       "7               4,548.00              4,968.00  \n",
       "3               4,214.00              4,694.00  \n",
       "8                 523.00                360.00  \n",
       "9               3,915.00              4,115.00  "
      ]
     },
     "execution_count": 14,
     "metadata": {},
     "output_type": "execute_result"
    }
   ],
   "source": [
    "# df = df_boarding_key[df_boarding_key['route_code'].isin([1671,1672,1673,1674,1675,1676,6550,1007,1040,1997,1998])].reset_index()\n",
    "# df['description'] = df['route_code'].map({1671: 'A Line RapidRide', 1672: 'B Line RapidRide',\n",
    "#                                             1673: 'C Line RapidRide', 1674: 'D Line RapidRide',\n",
    "#                                             1675: 'E Line RapidRide', 1676: 'F Line RapidRide',\n",
    "#                                             6550: 'Sound Transit 550', 1040: 'KC Metro 40', 1007: 'KC Metro 7',\n",
    "#                                             1997: 'SLU Streetcar', 1998: 'First Hill Streetcar'})\n",
    "# df.drop(['route_code','agency'], axis=1, inplace=True)\n",
    "\n",
    "df = df_line_boardings_23_24[df_line_boardings_23_24['route_code'].isin([1671,1672,1673,1674,1675,1676,6550,1007,1040,1997,1998])].reset_index()\n",
    "df['description'] = df['route_code'].map({1671: 'A Line RapidRide', 1672: 'B Line RapidRide',\n",
    "                                            1673: 'C Line RapidRide', 1674: 'D Line RapidRide',\n",
    "                                            1675: 'E Line RapidRide', 1676: 'F Line RapidRide',\n",
    "                                            6550: 'Sound Transit 550', 1040: 'KC Metro 40', 1007: 'KC Metro 7',\n",
    "                                            1997: 'SLU Streetcar', 1998: 'First Hill Streetcar'})\n",
    "# df.drop(['route_code','agency'], axis=1, inplace=True)\n",
    "df_table = df[['route_code','description','agency','Model','2023 Spring Observed','2024 Spring Observed']].copy()\n",
    "\n",
    "df_table = df[['route_code','description','agency','Model','2023 Spring Observed','2024 Spring Observed']].copy()\n",
    "df_table.sort_values('Model', ascending=False)"
   ]
  },
  {
   "cell_type": "code",
   "execution_count": 15,
   "id": "813aa67bd5e6c1f6",
   "metadata": {
    "ExecuteTime": {
     "end_time": "2024-06-24T19:41:23.547293Z",
     "start_time": "2024-06-24T19:41:23.312803Z"
    },
    "execution": {
     "iopub.execute_input": "2024-12-14T02:38:40.921991Z",
     "iopub.status.busy": "2024-12-14T02:38:40.920994Z",
     "iopub.status.idle": "2024-12-14T02:38:41.159750Z",
     "shell.execute_reply": "2024-12-14T02:38:41.157755Z"
    }
   },
   "outputs": [],
   "source": [
    "# if len(df) > 0:\n",
    "#     ax = df.plot(kind='scatter', x='observed_boardings', y='model_boardings')\n",
    "#     lim = df[['observed_boardings', 'model_boardings']].max().max() * 1.05\n",
    "#     ax.set_ylim(0, lim)\n",
    "#     ax.set_xlim(0, lim)\n",
    "#     x = np.linspace(*ax.get_xlim())\n",
    "#     ax.plot(x, x)\n",
    "#     slope, intercept, r_value, p_value, std_err = stats.linregress(df['observed_boardings'], df['model_boardings'])\n",
    "#     print('r^2 ' + str('') + ': ' + str(r_value))"
   ]
  },
  {
   "cell_type": "raw",
   "id": "c55611b2314fffc3",
   "metadata": {},
   "source": [
    ":::"
   ]
  },
  {
   "cell_type": "markdown",
   "id": "e050a08b",
   "metadata": {},
   "source": [
    "### Top routes by agency"
   ]
  },
  {
   "cell_type": "code",
   "execution_count": 16,
   "id": "58d89e2b",
   "metadata": {},
   "outputs": [],
   "source": [
    "# df = pd.read_csv(os.path.join(csv_path, 'daily_boardings_by_line.csv'))\n",
    "df = df_line_boardings_23_24.copy()\n",
    "# df_top = pd.DataFrame()\n",
    "# for agency in df['agency'].unique():\n",
    "#     _df = df[df['agency'] == agency].sort_values('model_boardings', ascending=False).head(8)\n",
    "#     df_top = pd.concat([df_top, _df])\n",
    "# df = df_top[['agency','description','mode','model_boardings','observed_boardings','diff','perc_diff']]\n",
    "cols=['agency','description','mode','Model','2023 Spring Observed','2024 Spring Observed']"
   ]
  },
  {
   "cell_type": "raw",
   "id": "7972e453",
   "metadata": {},
   "source": [
    ":::{.panel-tabset}\n",
    "#### King County Metro"
   ]
  },
  {
   "cell_type": "code",
   "execution_count": 17,
   "id": "35a6745d",
   "metadata": {},
   "outputs": [
    {
     "data": {
      "text/html": [
       "<div>\n",
       "<style scoped>\n",
       "    .dataframe tbody tr th:only-of-type {\n",
       "        vertical-align: middle;\n",
       "    }\n",
       "\n",
       "    .dataframe tbody tr th {\n",
       "        vertical-align: top;\n",
       "    }\n",
       "\n",
       "    .dataframe thead th {\n",
       "        text-align: right;\n",
       "    }\n",
       "</style>\n",
       "<table border=\"1\" class=\"dataframe\">\n",
       "  <thead>\n",
       "    <tr style=\"text-align: right;\">\n",
       "      <th></th>\n",
       "      <th>agency</th>\n",
       "      <th>description</th>\n",
       "      <th>mode</th>\n",
       "      <th>Model</th>\n",
       "      <th>2023 Spring Observed</th>\n",
       "      <th>2024 Spring Observed</th>\n",
       "    </tr>\n",
       "  </thead>\n",
       "  <tbody>\n",
       "    <tr>\n",
       "      <th>130</th>\n",
       "      <td>King County Metro</td>\n",
       "      <td>E-Line</td>\n",
       "      <td>b</td>\n",
       "      <td>14,821.85</td>\n",
       "      <td>11,057.00</td>\n",
       "      <td>13,011.00</td>\n",
       "    </tr>\n",
       "    <tr>\n",
       "      <th>5</th>\n",
       "      <td>King County Metro</td>\n",
       "      <td>7 Rain Bch-ColC-CBD</td>\n",
       "      <td>b</td>\n",
       "      <td>11,581.78</td>\n",
       "      <td>10,059.00</td>\n",
       "      <td>10,819.00</td>\n",
       "    </tr>\n",
       "    <tr>\n",
       "      <th>128</th>\n",
       "      <td>King County Metro</td>\n",
       "      <td>C Line</td>\n",
       "      <td>b</td>\n",
       "      <td>10,674.34</td>\n",
       "      <td>7,224.00</td>\n",
       "      <td>7,541.00</td>\n",
       "    </tr>\n",
       "    <tr>\n",
       "      <th>28</th>\n",
       "      <td>King County Metro</td>\n",
       "      <td>40 Ngt-Bal-Fre-CBD</td>\n",
       "      <td>b</td>\n",
       "      <td>8,398.82</td>\n",
       "      <td>7,218.00</td>\n",
       "      <td>8,255.00</td>\n",
       "    </tr>\n",
       "    <tr>\n",
       "      <th>129</th>\n",
       "      <td>King County Metro</td>\n",
       "      <td>D Line</td>\n",
       "      <td>b</td>\n",
       "      <td>7,210.60</td>\n",
       "      <td>8,805.00</td>\n",
       "      <td>9,634.00</td>\n",
       "    </tr>\n",
       "    <tr>\n",
       "      <th>132</th>\n",
       "      <td>King County Metro</td>\n",
       "      <td>H-Line</td>\n",
       "      <td>b</td>\n",
       "      <td>7,132.84</td>\n",
       "      <td>6,907.00</td>\n",
       "      <td>0.00</td>\n",
       "    </tr>\n",
       "    <tr>\n",
       "      <th>43</th>\n",
       "      <td>King County Metro</td>\n",
       "      <td>70 Udst-Elake-CBD</td>\n",
       "      <td>b</td>\n",
       "      <td>6,767.28</td>\n",
       "      <td>4,298.00</td>\n",
       "      <td>4,658.00</td>\n",
       "    </tr>\n",
       "    <tr>\n",
       "      <th>126</th>\n",
       "      <td>King County Metro</td>\n",
       "      <td>A Line</td>\n",
       "      <td>b</td>\n",
       "      <td>6,642.64</td>\n",
       "      <td>8,178.00</td>\n",
       "      <td>9,415.00</td>\n",
       "    </tr>\n",
       "    <tr>\n",
       "      <th>39</th>\n",
       "      <td>King County Metro</td>\n",
       "      <td>62 SndPt-GLk-Fre-CBD</td>\n",
       "      <td>b</td>\n",
       "      <td>6,507.63</td>\n",
       "      <td>6,138.00</td>\n",
       "      <td>6,743.00</td>\n",
       "    </tr>\n",
       "    <tr>\n",
       "      <th>67</th>\n",
       "      <td>King County Metro</td>\n",
       "      <td>160 Aub-Kent-Rent</td>\n",
       "      <td>b</td>\n",
       "      <td>6,080.14</td>\n",
       "      <td>5,008.00</td>\n",
       "      <td>5,492.00</td>\n",
       "    </tr>\n",
       "  </tbody>\n",
       "</table>\n",
       "</div>"
      ],
      "text/plain": [
       "                agency           description mode     Model  \\\n",
       "130  King County Metro                E-Line    b 14,821.85   \n",
       "5    King County Metro   7 Rain Bch-ColC-CBD    b 11,581.78   \n",
       "128  King County Metro                C Line    b 10,674.34   \n",
       "28   King County Metro    40 Ngt-Bal-Fre-CBD    b  8,398.82   \n",
       "129  King County Metro                D Line    b  7,210.60   \n",
       "132  King County Metro                H-Line    b  7,132.84   \n",
       "43   King County Metro     70 Udst-Elake-CBD    b  6,767.28   \n",
       "126  King County Metro                A Line    b  6,642.64   \n",
       "39   King County Metro  62 SndPt-GLk-Fre-CBD    b  6,507.63   \n",
       "67   King County Metro     160 Aub-Kent-Rent    b  6,080.14   \n",
       "\n",
       "     2023 Spring Observed  2024 Spring Observed  \n",
       "130             11,057.00             13,011.00  \n",
       "5               10,059.00             10,819.00  \n",
       "128              7,224.00              7,541.00  \n",
       "28               7,218.00              8,255.00  \n",
       "129              8,805.00              9,634.00  \n",
       "132              6,907.00                  0.00  \n",
       "43               4,298.00              4,658.00  \n",
       "126              8,178.00              9,415.00  \n",
       "39               6,138.00              6,743.00  \n",
       "67               5,008.00              5,492.00  "
      ]
     },
     "execution_count": 17,
     "metadata": {},
     "output_type": "execute_result"
    }
   ],
   "source": [
    "agency = 'King County Metro'\n",
    "df[df['agency'] == agency].sort_values('Model', ascending=False).head(10)[cols]"
   ]
  },
  {
   "cell_type": "raw",
   "id": "cbdadc57",
   "metadata": {},
   "source": [
    "#### Sound Transit"
   ]
  },
  {
   "cell_type": "code",
   "execution_count": 18,
   "id": "fbbb65ca",
   "metadata": {},
   "outputs": [
    {
     "data": {
      "text/html": [
       "<div>\n",
       "<style scoped>\n",
       "    .dataframe tbody tr th:only-of-type {\n",
       "        vertical-align: middle;\n",
       "    }\n",
       "\n",
       "    .dataframe tbody tr th {\n",
       "        vertical-align: top;\n",
       "    }\n",
       "\n",
       "    .dataframe thead th {\n",
       "        text-align: right;\n",
       "    }\n",
       "</style>\n",
       "<table border=\"1\" class=\"dataframe\">\n",
       "  <thead>\n",
       "    <tr style=\"text-align: right;\">\n",
       "      <th></th>\n",
       "      <th>agency</th>\n",
       "      <th>description</th>\n",
       "      <th>mode</th>\n",
       "      <th>Model</th>\n",
       "      <th>2023 Spring Observed</th>\n",
       "      <th>2024 Spring Observed</th>\n",
       "    </tr>\n",
       "  </thead>\n",
       "  <tbody>\n",
       "    <tr>\n",
       "      <th>308</th>\n",
       "      <td>Sound Transit</td>\n",
       "      <td>Light Rail Ang Lk-NG</td>\n",
       "      <td>r</td>\n",
       "      <td>88,842.01</td>\n",
       "      <td>78,772.00</td>\n",
       "      <td>91,213.00</td>\n",
       "    </tr>\n",
       "    <tr>\n",
       "      <th>292</th>\n",
       "      <td>Sound Transit</td>\n",
       "      <td>550 Bellevue-Seattle</td>\n",
       "      <td>b</td>\n",
       "      <td>7,178.47</td>\n",
       "      <td>3,677.00</td>\n",
       "      <td>4,074.00</td>\n",
       "    </tr>\n",
       "    <tr>\n",
       "      <th>309</th>\n",
       "      <td>Sound Transit</td>\n",
       "      <td>Commutr Rail Tac-Sea</td>\n",
       "      <td>c</td>\n",
       "      <td>6,293.07</td>\n",
       "      <td>6,038.00</td>\n",
       "      <td>7,168.00</td>\n",
       "    </tr>\n",
       "    <tr>\n",
       "      <th>287</th>\n",
       "      <td>Sound Transit</td>\n",
       "      <td>522 Woodinvl-Roosvlt</td>\n",
       "      <td>b</td>\n",
       "      <td>5,271.36</td>\n",
       "      <td>1,756.00</td>\n",
       "      <td>2,286.00</td>\n",
       "    </tr>\n",
       "    <tr>\n",
       "      <th>291</th>\n",
       "      <td>Sound Transit</td>\n",
       "      <td>545 Redmond-Seattle</td>\n",
       "      <td>b</td>\n",
       "      <td>5,125.61</td>\n",
       "      <td>4,075.00</td>\n",
       "      <td>4,816.00</td>\n",
       "    </tr>\n",
       "    <tr>\n",
       "      <th>285</th>\n",
       "      <td>Sound Transit</td>\n",
       "      <td>512 Everett-Northgte</td>\n",
       "      <td>b</td>\n",
       "      <td>5,072.95</td>\n",
       "      <td>2,306.00</td>\n",
       "      <td>2,937.00</td>\n",
       "    </tr>\n",
       "    <tr>\n",
       "      <th>293</th>\n",
       "      <td>Sound Transit</td>\n",
       "      <td>554 Issaquah-Seattle</td>\n",
       "      <td>b</td>\n",
       "      <td>4,272.58</td>\n",
       "      <td>2,415.00</td>\n",
       "      <td>2,783.00</td>\n",
       "    </tr>\n",
       "    <tr>\n",
       "      <th>299</th>\n",
       "      <td>Sound Transit</td>\n",
       "      <td>578 Seattle-Puyallup</td>\n",
       "      <td>b</td>\n",
       "      <td>2,858.97</td>\n",
       "      <td>1,523.00</td>\n",
       "      <td>1,614.00</td>\n",
       "    </tr>\n",
       "    <tr>\n",
       "      <th>297</th>\n",
       "      <td>Sound Transit</td>\n",
       "      <td>574 Lakewood-SeaTac</td>\n",
       "      <td>b</td>\n",
       "      <td>2,255.25</td>\n",
       "      <td>1,870.00</td>\n",
       "      <td>1,764.00</td>\n",
       "    </tr>\n",
       "    <tr>\n",
       "      <th>307</th>\n",
       "      <td>Sound Transit</td>\n",
       "      <td>Light Rail Tacoma</td>\n",
       "      <td>r</td>\n",
       "      <td>2,202.71</td>\n",
       "      <td>1,544.00</td>\n",
       "      <td>3,496.00</td>\n",
       "    </tr>\n",
       "  </tbody>\n",
       "</table>\n",
       "</div>"
      ],
      "text/plain": [
       "            agency           description mode     Model  2023 Spring Observed  \\\n",
       "308  Sound Transit  Light Rail Ang Lk-NG    r 88,842.01             78,772.00   \n",
       "292  Sound Transit  550 Bellevue-Seattle    b  7,178.47              3,677.00   \n",
       "309  Sound Transit  Commutr Rail Tac-Sea    c  6,293.07              6,038.00   \n",
       "287  Sound Transit  522 Woodinvl-Roosvlt    b  5,271.36              1,756.00   \n",
       "291  Sound Transit   545 Redmond-Seattle    b  5,125.61              4,075.00   \n",
       "285  Sound Transit  512 Everett-Northgte    b  5,072.95              2,306.00   \n",
       "293  Sound Transit  554 Issaquah-Seattle    b  4,272.58              2,415.00   \n",
       "299  Sound Transit  578 Seattle-Puyallup    b  2,858.97              1,523.00   \n",
       "297  Sound Transit   574 Lakewood-SeaTac    b  2,255.25              1,870.00   \n",
       "307  Sound Transit     Light Rail Tacoma    r  2,202.71              1,544.00   \n",
       "\n",
       "     2024 Spring Observed  \n",
       "308             91,213.00  \n",
       "292              4,074.00  \n",
       "309              7,168.00  \n",
       "287              2,286.00  \n",
       "291              4,816.00  \n",
       "285              2,937.00  \n",
       "293              2,783.00  \n",
       "299              1,614.00  \n",
       "297              1,764.00  \n",
       "307              3,496.00  "
      ]
     },
     "execution_count": 18,
     "metadata": {},
     "output_type": "execute_result"
    }
   ],
   "source": [
    "agency = 'Sound Transit'\n",
    "df[df['agency'] == agency].sort_values('Model', ascending=False).head(10)[cols]"
   ]
  },
  {
   "cell_type": "raw",
   "id": "5bb6872d",
   "metadata": {},
   "source": [
    "#### Community Transit"
   ]
  },
  {
   "cell_type": "code",
   "execution_count": 19,
   "id": "f7994dd7",
   "metadata": {},
   "outputs": [
    {
     "data": {
      "text/html": [
       "<div>\n",
       "<style scoped>\n",
       "    .dataframe tbody tr th:only-of-type {\n",
       "        vertical-align: middle;\n",
       "    }\n",
       "\n",
       "    .dataframe tbody tr th {\n",
       "        vertical-align: top;\n",
       "    }\n",
       "\n",
       "    .dataframe thead th {\n",
       "        text-align: right;\n",
       "    }\n",
       "</style>\n",
       "<table border=\"1\" class=\"dataframe\">\n",
       "  <thead>\n",
       "    <tr style=\"text-align: right;\">\n",
       "      <th></th>\n",
       "      <th>agency</th>\n",
       "      <th>description</th>\n",
       "      <th>mode</th>\n",
       "      <th>Model</th>\n",
       "      <th>2023 Spring Observed</th>\n",
       "      <th>2024 Spring Observed</th>\n",
       "    </tr>\n",
       "  </thead>\n",
       "  <tbody>\n",
       "    <tr>\n",
       "      <th>230</th>\n",
       "      <td>Community Transit</td>\n",
       "      <td>Swift Blue</td>\n",
       "      <td>b</td>\n",
       "      <td>6,031.95</td>\n",
       "      <td>5,403.45</td>\n",
       "      <td>0.00</td>\n",
       "    </tr>\n",
       "    <tr>\n",
       "      <th>231</th>\n",
       "      <td>Community Transit</td>\n",
       "      <td>Swift Green</td>\n",
       "      <td>b</td>\n",
       "      <td>2,442.36</td>\n",
       "      <td>2,017.48</td>\n",
       "      <td>0.00</td>\n",
       "    </tr>\n",
       "    <tr>\n",
       "      <th>200</th>\n",
       "      <td>Community Transit</td>\n",
       "      <td>116 Edm-Silver Firs</td>\n",
       "      <td>b</td>\n",
       "      <td>2,080.14</td>\n",
       "      <td>1,072.31</td>\n",
       "      <td>0.00</td>\n",
       "    </tr>\n",
       "    <tr>\n",
       "      <th>199</th>\n",
       "      <td>Community Transit</td>\n",
       "      <td>115 McClm P&amp;R-AurVil</td>\n",
       "      <td>b</td>\n",
       "      <td>1,611.11</td>\n",
       "      <td>965.18</td>\n",
       "      <td>0.00</td>\n",
       "    </tr>\n",
       "    <tr>\n",
       "      <th>206</th>\n",
       "      <td>Community Transit</td>\n",
       "      <td>202 Smokey Pt-Lynnwd</td>\n",
       "      <td>b</td>\n",
       "      <td>1,429.98</td>\n",
       "      <td>1,138.86</td>\n",
       "      <td>0.00</td>\n",
       "    </tr>\n",
       "    <tr>\n",
       "      <th>205</th>\n",
       "      <td>Community Transit</td>\n",
       "      <td>201 Smokey Pt-Lynnwd</td>\n",
       "      <td>b</td>\n",
       "      <td>1,415.26</td>\n",
       "      <td>1,081.12</td>\n",
       "      <td>0.00</td>\n",
       "    </tr>\n",
       "    <tr>\n",
       "      <th>191</th>\n",
       "      <td>Community Transit</td>\n",
       "      <td>101 Mar P&amp;R-Aur Vill</td>\n",
       "      <td>b</td>\n",
       "      <td>1,349.64</td>\n",
       "      <td>810.47</td>\n",
       "      <td>0.00</td>\n",
       "    </tr>\n",
       "    <tr>\n",
       "      <th>203</th>\n",
       "      <td>Community Transit</td>\n",
       "      <td>130 Edmonds-Lynnwood</td>\n",
       "      <td>b</td>\n",
       "      <td>931.42</td>\n",
       "      <td>473.41</td>\n",
       "      <td>0.00</td>\n",
       "    </tr>\n",
       "    <tr>\n",
       "      <th>198</th>\n",
       "      <td>Community Transit</td>\n",
       "      <td>113 Mukilteo-Lynn TC</td>\n",
       "      <td>b</td>\n",
       "      <td>778.92</td>\n",
       "      <td>763.82</td>\n",
       "      <td>0.00</td>\n",
       "    </tr>\n",
       "    <tr>\n",
       "      <th>216</th>\n",
       "      <td>Community Transit</td>\n",
       "      <td>280 Gran Falls-Evrt</td>\n",
       "      <td>b</td>\n",
       "      <td>693.98</td>\n",
       "      <td>400.20</td>\n",
       "      <td>0.00</td>\n",
       "    </tr>\n",
       "  </tbody>\n",
       "</table>\n",
       "</div>"
      ],
      "text/plain": [
       "                agency           description mode    Model  \\\n",
       "230  Community Transit            Swift Blue    b 6,031.95   \n",
       "231  Community Transit           Swift Green    b 2,442.36   \n",
       "200  Community Transit   116 Edm-Silver Firs    b 2,080.14   \n",
       "199  Community Transit  115 McClm P&R-AurVil    b 1,611.11   \n",
       "206  Community Transit  202 Smokey Pt-Lynnwd    b 1,429.98   \n",
       "205  Community Transit  201 Smokey Pt-Lynnwd    b 1,415.26   \n",
       "191  Community Transit  101 Mar P&R-Aur Vill    b 1,349.64   \n",
       "203  Community Transit  130 Edmonds-Lynnwood    b   931.42   \n",
       "198  Community Transit  113 Mukilteo-Lynn TC    b   778.92   \n",
       "216  Community Transit   280 Gran Falls-Evrt    b   693.98   \n",
       "\n",
       "     2023 Spring Observed  2024 Spring Observed  \n",
       "230              5,403.45                  0.00  \n",
       "231              2,017.48                  0.00  \n",
       "200              1,072.31                  0.00  \n",
       "199                965.18                  0.00  \n",
       "206              1,138.86                  0.00  \n",
       "205              1,081.12                  0.00  \n",
       "191                810.47                  0.00  \n",
       "203                473.41                  0.00  \n",
       "198                763.82                  0.00  \n",
       "216                400.20                  0.00  "
      ]
     },
     "execution_count": 19,
     "metadata": {},
     "output_type": "execute_result"
    }
   ],
   "source": [
    "agency = 'Community Transit'\n",
    "df[df['agency'] == agency].sort_values('Model', ascending=False).head(10)[cols]"
   ]
  },
  {
   "cell_type": "raw",
   "id": "4e738512",
   "metadata": {},
   "source": [
    "#### Pierce Transit"
   ]
  },
  {
   "cell_type": "code",
   "execution_count": 20,
   "id": "5385aa93",
   "metadata": {},
   "outputs": [
    {
     "data": {
      "text/html": [
       "<div>\n",
       "<style scoped>\n",
       "    .dataframe tbody tr th:only-of-type {\n",
       "        vertical-align: middle;\n",
       "    }\n",
       "\n",
       "    .dataframe tbody tr th {\n",
       "        vertical-align: top;\n",
       "    }\n",
       "\n",
       "    .dataframe thead th {\n",
       "        text-align: right;\n",
       "    }\n",
       "</style>\n",
       "<table border=\"1\" class=\"dataframe\">\n",
       "  <thead>\n",
       "    <tr style=\"text-align: right;\">\n",
       "      <th></th>\n",
       "      <th>agency</th>\n",
       "      <th>description</th>\n",
       "      <th>mode</th>\n",
       "      <th>Model</th>\n",
       "      <th>2023 Spring Observed</th>\n",
       "      <th>2024 Spring Observed</th>\n",
       "    </tr>\n",
       "  </thead>\n",
       "  <tbody>\n",
       "    <tr>\n",
       "      <th>160</th>\n",
       "      <td>Pierce Transit</td>\n",
       "      <td>1 6th Ave-Pac Ave</td>\n",
       "      <td>b</td>\n",
       "      <td>2,686.63</td>\n",
       "      <td>3,035.00</td>\n",
       "      <td>3,633.00</td>\n",
       "    </tr>\n",
       "    <tr>\n",
       "      <th>161</th>\n",
       "      <td>Pierce Transit</td>\n",
       "      <td>2 S 19th-Bridgeport</td>\n",
       "      <td>b</td>\n",
       "      <td>1,897.16</td>\n",
       "      <td>1,729.00</td>\n",
       "      <td>1,774.00</td>\n",
       "    </tr>\n",
       "    <tr>\n",
       "      <th>162</th>\n",
       "      <td>Pierce Transit</td>\n",
       "      <td>3 Lakewood-Tacoma</td>\n",
       "      <td>b</td>\n",
       "      <td>1,441.29</td>\n",
       "      <td>1,250.00</td>\n",
       "      <td>1,525.00</td>\n",
       "    </tr>\n",
       "    <tr>\n",
       "      <th>184</th>\n",
       "      <td>Pierce Transit</td>\n",
       "      <td>400 Puyllp-Tacoma</td>\n",
       "      <td>b</td>\n",
       "      <td>1,291.29</td>\n",
       "      <td>336.00</td>\n",
       "      <td>362.00</td>\n",
       "    </tr>\n",
       "    <tr>\n",
       "      <th>185</th>\n",
       "      <td>Pierce Transit</td>\n",
       "      <td>402 Meridian</td>\n",
       "      <td>b</td>\n",
       "      <td>1,190.07</td>\n",
       "      <td>626.00</td>\n",
       "      <td>761.00</td>\n",
       "    </tr>\n",
       "    <tr>\n",
       "      <th>163</th>\n",
       "      <td>Pierce Transit</td>\n",
       "      <td>4 Lakewd-South Hill</td>\n",
       "      <td>b</td>\n",
       "      <td>1,136.92</td>\n",
       "      <td>968.00</td>\n",
       "      <td>1,023.00</td>\n",
       "    </tr>\n",
       "    <tr>\n",
       "      <th>189</th>\n",
       "      <td>Pierce Transit</td>\n",
       "      <td>500 Federal Way</td>\n",
       "      <td>b</td>\n",
       "      <td>1,035.59</td>\n",
       "      <td>845.00</td>\n",
       "      <td>827.00</td>\n",
       "    </tr>\n",
       "    <tr>\n",
       "      <th>190</th>\n",
       "      <td>Pierce Transit</td>\n",
       "      <td>501 Miltn-Fed Way</td>\n",
       "      <td>b</td>\n",
       "      <td>984.82</td>\n",
       "      <td>431.00</td>\n",
       "      <td>488.00</td>\n",
       "    </tr>\n",
       "    <tr>\n",
       "      <th>169</th>\n",
       "      <td>Pierce Transit</td>\n",
       "      <td>41 S 56th St-Salish</td>\n",
       "      <td>b</td>\n",
       "      <td>970.48</td>\n",
       "      <td>1,088.00</td>\n",
       "      <td>1,061.00</td>\n",
       "    </tr>\n",
       "    <tr>\n",
       "      <th>172</th>\n",
       "      <td>Pierce Transit</td>\n",
       "      <td>48 Sheridan-M St</td>\n",
       "      <td>b</td>\n",
       "      <td>942.06</td>\n",
       "      <td>1,065.00</td>\n",
       "      <td>1,134.00</td>\n",
       "    </tr>\n",
       "  </tbody>\n",
       "</table>\n",
       "</div>"
      ],
      "text/plain": [
       "             agency          description mode    Model  2023 Spring Observed  \\\n",
       "160  Pierce Transit    1 6th Ave-Pac Ave    b 2,686.63              3,035.00   \n",
       "161  Pierce Transit  2 S 19th-Bridgeport    b 1,897.16              1,729.00   \n",
       "162  Pierce Transit    3 Lakewood-Tacoma    b 1,441.29              1,250.00   \n",
       "184  Pierce Transit    400 Puyllp-Tacoma    b 1,291.29                336.00   \n",
       "185  Pierce Transit         402 Meridian    b 1,190.07                626.00   \n",
       "163  Pierce Transit  4 Lakewd-South Hill    b 1,136.92                968.00   \n",
       "189  Pierce Transit      500 Federal Way    b 1,035.59                845.00   \n",
       "190  Pierce Transit    501 Miltn-Fed Way    b   984.82                431.00   \n",
       "169  Pierce Transit  41 S 56th St-Salish    b   970.48              1,088.00   \n",
       "172  Pierce Transit     48 Sheridan-M St    b   942.06              1,065.00   \n",
       "\n",
       "     2024 Spring Observed  \n",
       "160              3,633.00  \n",
       "161              1,774.00  \n",
       "162              1,525.00  \n",
       "184                362.00  \n",
       "185                761.00  \n",
       "163              1,023.00  \n",
       "189                827.00  \n",
       "190                488.00  \n",
       "169              1,061.00  \n",
       "172              1,134.00  "
      ]
     },
     "execution_count": 20,
     "metadata": {},
     "output_type": "execute_result"
    }
   ],
   "source": [
    "agency = 'Pierce Transit'\n",
    "df[df['agency'] == agency].sort_values('Model', ascending=False).head(10)[cols]"
   ]
  },
  {
   "cell_type": "raw",
   "id": "61e52696",
   "metadata": {},
   "source": [
    "#### Kitsap Transit"
   ]
  },
  {
   "cell_type": "code",
   "execution_count": 21,
   "id": "9c35bb78",
   "metadata": {},
   "outputs": [
    {
     "data": {
      "text/html": [
       "<div>\n",
       "<style scoped>\n",
       "    .dataframe tbody tr th:only-of-type {\n",
       "        vertical-align: middle;\n",
       "    }\n",
       "\n",
       "    .dataframe tbody tr th {\n",
       "        vertical-align: top;\n",
       "    }\n",
       "\n",
       "    .dataframe thead th {\n",
       "        text-align: right;\n",
       "    }\n",
       "</style>\n",
       "<table border=\"1\" class=\"dataframe\">\n",
       "  <thead>\n",
       "    <tr style=\"text-align: right;\">\n",
       "      <th></th>\n",
       "      <th>agency</th>\n",
       "      <th>description</th>\n",
       "      <th>mode</th>\n",
       "      <th>Model</th>\n",
       "      <th>2023 Spring Observed</th>\n",
       "      <th>2024 Spring Observed</th>\n",
       "    </tr>\n",
       "  </thead>\n",
       "  <tbody>\n",
       "    <tr>\n",
       "      <th>270</th>\n",
       "      <td>Kitsap Transit</td>\n",
       "      <td>Seattle-Bremerton FF</td>\n",
       "      <td>f</td>\n",
       "      <td>3,037.32</td>\n",
       "      <td>1,913.00</td>\n",
       "      <td>2,068.00</td>\n",
       "    </tr>\n",
       "    <tr>\n",
       "      <th>271</th>\n",
       "      <td>Kitsap Transit</td>\n",
       "      <td>Brem-Pt Orchard FF</td>\n",
       "      <td>p</td>\n",
       "      <td>1,469.07</td>\n",
       "      <td>768.00</td>\n",
       "      <td>857.00</td>\n",
       "    </tr>\n",
       "    <tr>\n",
       "      <th>244</th>\n",
       "      <td>Kitsap Transit</td>\n",
       "      <td>217 Brem-Silverdle E</td>\n",
       "      <td>b</td>\n",
       "      <td>787.19</td>\n",
       "      <td>417.00</td>\n",
       "      <td>0.00</td>\n",
       "    </tr>\n",
       "    <tr>\n",
       "      <th>242</th>\n",
       "      <td>Kitsap Transit</td>\n",
       "      <td>212 Brem-Silverdle W</td>\n",
       "      <td>b</td>\n",
       "      <td>671.01</td>\n",
       "      <td>679.00</td>\n",
       "      <td>0.00</td>\n",
       "    </tr>\n",
       "    <tr>\n",
       "      <th>273</th>\n",
       "      <td>Kitsap Transit</td>\n",
       "      <td>Seattle-Southwrth FF</td>\n",
       "      <td>f</td>\n",
       "      <td>608.40</td>\n",
       "      <td>631.00</td>\n",
       "      <td>749.00</td>\n",
       "    </tr>\n",
       "    <tr>\n",
       "      <th>259</th>\n",
       "      <td>Kitsap Transit</td>\n",
       "      <td>86 Southwrth Shuttle</td>\n",
       "      <td>b</td>\n",
       "      <td>532.08</td>\n",
       "      <td>91.00</td>\n",
       "      <td>0.00</td>\n",
       "    </tr>\n",
       "    <tr>\n",
       "      <th>260</th>\n",
       "      <td>Kitsap Transit</td>\n",
       "      <td>390 Poulsbo-Bainbrdg</td>\n",
       "      <td>b</td>\n",
       "      <td>388.25</td>\n",
       "      <td>170.00</td>\n",
       "      <td>0.00</td>\n",
       "    </tr>\n",
       "    <tr>\n",
       "      <th>272</th>\n",
       "      <td>Kitsap Transit</td>\n",
       "      <td>Brem-Annapolis FF</td>\n",
       "      <td>p</td>\n",
       "      <td>285.07</td>\n",
       "      <td>469.00</td>\n",
       "      <td>568.00</td>\n",
       "    </tr>\n",
       "    <tr>\n",
       "      <th>243</th>\n",
       "      <td>Kitsap Transit</td>\n",
       "      <td>215 McWilliams</td>\n",
       "      <td>b</td>\n",
       "      <td>262.08</td>\n",
       "      <td>115.00</td>\n",
       "      <td>0.00</td>\n",
       "    </tr>\n",
       "    <tr>\n",
       "      <th>240</th>\n",
       "      <td>Kitsap Transit</td>\n",
       "      <td>8 Bethel</td>\n",
       "      <td>b</td>\n",
       "      <td>257.69</td>\n",
       "      <td>152.00</td>\n",
       "      <td>0.00</td>\n",
       "    </tr>\n",
       "  </tbody>\n",
       "</table>\n",
       "</div>"
      ],
      "text/plain": [
       "             agency           description mode    Model  2023 Spring Observed  \\\n",
       "270  Kitsap Transit  Seattle-Bremerton FF    f 3,037.32              1,913.00   \n",
       "271  Kitsap Transit    Brem-Pt Orchard FF    p 1,469.07                768.00   \n",
       "244  Kitsap Transit  217 Brem-Silverdle E    b   787.19                417.00   \n",
       "242  Kitsap Transit  212 Brem-Silverdle W    b   671.01                679.00   \n",
       "273  Kitsap Transit  Seattle-Southwrth FF    f   608.40                631.00   \n",
       "259  Kitsap Transit  86 Southwrth Shuttle    b   532.08                 91.00   \n",
       "260  Kitsap Transit  390 Poulsbo-Bainbrdg    b   388.25                170.00   \n",
       "272  Kitsap Transit     Brem-Annapolis FF    p   285.07                469.00   \n",
       "243  Kitsap Transit        215 McWilliams    b   262.08                115.00   \n",
       "240  Kitsap Transit              8 Bethel    b   257.69                152.00   \n",
       "\n",
       "     2024 Spring Observed  \n",
       "270              2,068.00  \n",
       "271                857.00  \n",
       "244                  0.00  \n",
       "242                  0.00  \n",
       "273                749.00  \n",
       "259                  0.00  \n",
       "260                  0.00  \n",
       "272                568.00  \n",
       "243                  0.00  \n",
       "240                  0.00  "
      ]
     },
     "execution_count": 21,
     "metadata": {},
     "output_type": "execute_result"
    }
   ],
   "source": [
    "agency = 'Kitsap Transit'\n",
    "df[df['agency'] == agency].sort_values('Model', ascending=False).head(10)[cols]"
   ]
  },
  {
   "cell_type": "raw",
   "id": "674756a8",
   "metadata": {},
   "source": [
    "#### Everett Transit"
   ]
  },
  {
   "cell_type": "code",
   "execution_count": 22,
   "id": "26ea3064",
   "metadata": {},
   "outputs": [
    {
     "data": {
      "text/html": [
       "<div>\n",
       "<style scoped>\n",
       "    .dataframe tbody tr th:only-of-type {\n",
       "        vertical-align: middle;\n",
       "    }\n",
       "\n",
       "    .dataframe tbody tr th {\n",
       "        vertical-align: top;\n",
       "    }\n",
       "\n",
       "    .dataframe thead th {\n",
       "        text-align: right;\n",
       "    }\n",
       "</style>\n",
       "<table border=\"1\" class=\"dataframe\">\n",
       "  <thead>\n",
       "    <tr style=\"text-align: right;\">\n",
       "      <th></th>\n",
       "      <th>agency</th>\n",
       "      <th>description</th>\n",
       "      <th>mode</th>\n",
       "      <th>Model</th>\n",
       "      <th>2023 Spring Observed</th>\n",
       "      <th>2024 Spring Observed</th>\n",
       "    </tr>\n",
       "  </thead>\n",
       "  <tbody>\n",
       "    <tr>\n",
       "      <th>315</th>\n",
       "      <td>Everett Transit</td>\n",
       "      <td>7 Coll Stn-Mall Stn</td>\n",
       "      <td>b</td>\n",
       "      <td>2,466.13</td>\n",
       "      <td>2,239.00</td>\n",
       "      <td>2,958.00</td>\n",
       "    </tr>\n",
       "    <tr>\n",
       "      <th>319</th>\n",
       "      <td>Everett Transit</td>\n",
       "      <td>29 Coll Stn-Mall Stn</td>\n",
       "      <td>b</td>\n",
       "      <td>1,207.81</td>\n",
       "      <td>881.00</td>\n",
       "      <td>1,185.00</td>\n",
       "    </tr>\n",
       "    <tr>\n",
       "      <th>312</th>\n",
       "      <td>Everett Transit</td>\n",
       "      <td>3 Seaway TC-Evt Stn</td>\n",
       "      <td>b</td>\n",
       "      <td>331.71</td>\n",
       "      <td>285.00</td>\n",
       "      <td>381.00</td>\n",
       "    </tr>\n",
       "    <tr>\n",
       "      <th>316</th>\n",
       "      <td>Everett Transit</td>\n",
       "      <td>8 Airport Rd-Evt Stn</td>\n",
       "      <td>b</td>\n",
       "      <td>111.86</td>\n",
       "      <td>156.00</td>\n",
       "      <td>201.00</td>\n",
       "    </tr>\n",
       "    <tr>\n",
       "      <th>311</th>\n",
       "      <td>Everett Transit</td>\n",
       "      <td>2 Marnr P&amp;R-Mall Stn</td>\n",
       "      <td>b</td>\n",
       "      <td>83.48</td>\n",
       "      <td>148.00</td>\n",
       "      <td>255.00</td>\n",
       "    </tr>\n",
       "    <tr>\n",
       "      <th>314</th>\n",
       "      <td>Everett Transit</td>\n",
       "      <td>6 Waterfront-Evt Stn</td>\n",
       "      <td>b</td>\n",
       "      <td>82.49</td>\n",
       "      <td>62.00</td>\n",
       "      <td>91.00</td>\n",
       "    </tr>\n",
       "    <tr>\n",
       "      <th>318</th>\n",
       "      <td>Everett Transit</td>\n",
       "      <td>18 Mukilteo-Evt Stn</td>\n",
       "      <td>b</td>\n",
       "      <td>65.25</td>\n",
       "      <td>60.00</td>\n",
       "      <td>136.00</td>\n",
       "    </tr>\n",
       "    <tr>\n",
       "      <th>313</th>\n",
       "      <td>Everett Transit</td>\n",
       "      <td>4 Evt Stn-Collge Stn</td>\n",
       "      <td>b</td>\n",
       "      <td>63.78</td>\n",
       "      <td>114.00</td>\n",
       "      <td>198.00</td>\n",
       "    </tr>\n",
       "    <tr>\n",
       "      <th>317</th>\n",
       "      <td>Everett Transit</td>\n",
       "      <td>12 Mall Stn-Seawy TC</td>\n",
       "      <td>b</td>\n",
       "      <td>63.35</td>\n",
       "      <td>256.00</td>\n",
       "      <td>457.00</td>\n",
       "    </tr>\n",
       "  </tbody>\n",
       "</table>\n",
       "</div>"
      ],
      "text/plain": [
       "              agency           description mode    Model  \\\n",
       "315  Everett Transit   7 Coll Stn-Mall Stn    b 2,466.13   \n",
       "319  Everett Transit  29 Coll Stn-Mall Stn    b 1,207.81   \n",
       "312  Everett Transit   3 Seaway TC-Evt Stn    b   331.71   \n",
       "316  Everett Transit  8 Airport Rd-Evt Stn    b   111.86   \n",
       "311  Everett Transit  2 Marnr P&R-Mall Stn    b    83.48   \n",
       "314  Everett Transit  6 Waterfront-Evt Stn    b    82.49   \n",
       "318  Everett Transit   18 Mukilteo-Evt Stn    b    65.25   \n",
       "313  Everett Transit  4 Evt Stn-Collge Stn    b    63.78   \n",
       "317  Everett Transit  12 Mall Stn-Seawy TC    b    63.35   \n",
       "\n",
       "     2023 Spring Observed  2024 Spring Observed  \n",
       "315              2,239.00              2,958.00  \n",
       "319                881.00              1,185.00  \n",
       "312                285.00                381.00  \n",
       "316                156.00                201.00  \n",
       "311                148.00                255.00  \n",
       "314                 62.00                 91.00  \n",
       "318                 60.00                136.00  \n",
       "313                114.00                198.00  \n",
       "317                256.00                457.00  "
      ]
     },
     "execution_count": 22,
     "metadata": {},
     "output_type": "execute_result"
    }
   ],
   "source": [
    "agency = 'Everett Transit'\n",
    "df[df['agency'] == agency].sort_values('Model', ascending=False).head(10)[cols]"
   ]
  },
  {
   "cell_type": "raw",
   "id": "65fb23f5",
   "metadata": {},
   "source": [
    ":::"
   ]
  },
  {
   "cell_type": "markdown",
   "id": "7d3ea810",
   "metadata": {
    "vscode": {
     "languageId": "raw"
    }
   },
   "source": [
    "### boarding by time of day"
   ]
  },
  {
   "cell_type": "code",
   "execution_count": 23,
   "id": "efcc5c51",
   "metadata": {},
   "outputs": [
    {
     "data": {
      "text/html": [
       "        <script type=\"text/javascript\">\n",
       "        window.PlotlyConfig = {MathJaxConfig: 'local'};\n",
       "        if (window.MathJax && window.MathJax.Hub && window.MathJax.Hub.Config) {window.MathJax.Hub.Config({SVG: {font: \"STIX-Web\"}});}\n",
       "        if (typeof require !== 'undefined') {\n",
       "        require.undef(\"plotly\");\n",
       "        requirejs.config({\n",
       "            paths: {\n",
       "                'plotly': ['https://cdn.plot.ly/plotly-2.27.0.min']\n",
       "            }\n",
       "        });\n",
       "        require(['plotly'], function(Plotly) {\n",
       "            window._Plotly = Plotly;\n",
       "        });\n",
       "        }\n",
       "        </script>\n",
       "        "
      ]
     },
     "metadata": {},
     "output_type": "display_data"
    },
    {
     "data": {
      "application/vnd.plotly.v1+json": {
       "config": {
        "plotlyServerURL": "https://plot.ly"
       },
       "data": [
        {
         "mode": "lines",
         "name": "101 Mar P&R-Aur Vill",
         "type": "scatter",
         "visible": true,
         "x": [
          "10to14",
          "14to15",
          "15to16",
          "16to17",
          "17to18",
          "18to20",
          "20to5",
          "5to6",
          "6to7",
          "7to8",
          "8to9",
          "9to10",
          "10to11",
          "11to12",
          "12to13",
          "13to14",
          "18to19",
          "19to20",
          "20to21",
          "21to22",
          "22to23",
          "23to0",
          "0to1",
          "1to2",
          "2to3",
          "3to4",
          "4to5"
         ],
         "y": [
          394.1775665283203,
          84.92522430419922,
          100.51859283447266,
          100.33611297607422,
          97.54183578491211,
          201.69277954101562,
          58.608943939208984,
          6.679010510444641,
          35.71670913696289,
          80.00087356567383,
          92.2879753112793,
          97.15380096435547,
          98.54439163208008,
          98.54439163208008,
          98.54439163208008,
          98.54439163208008,
          100.84638977050781,
          100.84638977050781,
          6.512104882134332,
          6.512104882134332,
          6.512104882134332,
          6.512104882134332,
          6.512104882134332,
          6.512104882134332,
          6.512104882134332,
          6.512104882134332,
          6.512104882134332
         ]
        },
        {
         "mode": "lines",
         "name": "105 Mariner P&R-Both",
         "type": "scatter",
         "visible": false,
         "x": [
          "10to14",
          "14to15",
          "15to16",
          "16to17",
          "17to18",
          "18to20",
          "20to5",
          "5to6",
          "6to7",
          "7to8",
          "8to9",
          "9to10",
          "10to11",
          "11to12",
          "12to13",
          "13to14",
          "18to19",
          "19to20",
          "20to21",
          "21to22",
          "22to23",
          "23to0",
          "0to1",
          "1to2",
          "2to3",
          "3to4",
          "4to5"
         ],
         "y": [
          118.62126922607422,
          33.3253288269043,
          56.47195816040039,
          40.80161476135254,
          41.12331771850586,
          37.29849624633789,
          26.45116662979126,
          11.531845092773438,
          22.712556838989258,
          37.21113204956055,
          22.49106788635254,
          25.615114212036133,
          29.655317306518555,
          29.655317306518555,
          29.655317306518555,
          29.655317306518555,
          18.649248123168945,
          18.649248123168945,
          2.9390185144212513,
          2.9390185144212513,
          2.9390185144212513,
          2.9390185144212513,
          2.9390185144212513,
          2.9390185144212513,
          2.9390185144212513,
          2.9390185144212513,
          2.9390185144212513
         ]
        },
        {
         "mode": "lines",
         "name": "106 Mariner P&R-Both",
         "type": "scatter",
         "visible": false,
         "x": [
          "16to17",
          "17to18",
          "18to20",
          "5to6",
          "6to7",
          "7to8",
          "18to19",
          "19to20"
         ],
         "y": [
          40.37419509887695,
          47.74508285522461,
          11.530143737792969,
          11.341164588928223,
          30.874621391296387,
          21.875171661376957,
          5.765071868896484,
          5.765071868896484
         ]
        },
        {
         "mode": "lines",
         "name": "109 Ash Wy P&R-LkStv",
         "type": "scatter",
         "visible": false,
         "x": [
          "10to14",
          "14to15",
          "15to16",
          "16to17",
          "17to18",
          "18to20",
          "20to5",
          "5to6",
          "6to7",
          "7to8",
          "8to9",
          "9to10",
          "10to11",
          "11to12",
          "12to13",
          "13to14",
          "18to19",
          "19to20",
          "20to21",
          "21to22",
          "22to23",
          "23to0",
          "0to1",
          "1to2",
          "2to3",
          "3to4",
          "4to5"
         ],
         "y": [
          166.52933502197266,
          38.48178291320801,
          70.25392532348633,
          29.189499855041504,
          71.13497352600098,
          97.90533447265625,
          48.44108009338379,
          20.278902053833008,
          25.51526641845703,
          41.96774673461914,
          30.22141170501709,
          42.38850784301758,
          41.632333755493164,
          41.632333755493164,
          41.632333755493164,
          41.632333755493164,
          48.952667236328125,
          48.952667236328125,
          5.382342232598199,
          5.382342232598199,
          5.382342232598199,
          5.382342232598199,
          5.382342232598199,
          5.382342232598199,
          5.382342232598199,
          5.382342232598199,
          5.382342232598199
         ]
        },
        {
         "mode": "lines",
         "name": "112 MLT TC-Ash P&R",
         "type": "scatter",
         "visible": false,
         "x": [
          "10to14",
          "14to15",
          "15to16",
          "16to17",
          "17to18",
          "18to20",
          "20to5",
          "5to6",
          "6to7",
          "7to8",
          "8to9",
          "9to10",
          "10to11",
          "11to12",
          "12to13",
          "13to14",
          "18to19",
          "19to20",
          "20to21",
          "21to22",
          "22to23",
          "23to0",
          "0to1",
          "1to2",
          "2to3",
          "3to4",
          "4to5"
         ],
         "y": [
          58.27720260620117,
          12.945477962493896,
          24.517348289489746,
          12.821672439575195,
          12.320846557617188,
          43.49594306945801,
          6.293123006820679,
          11.940576076507568,
          7.592574596405029,
          10.453368186950684,
          20.798056602478027,
          15.730183124542236,
          14.569300651550293,
          14.569300651550293,
          14.569300651550293,
          14.569300651550293,
          21.747971534729004,
          21.747971534729004,
          0.6992358896467421,
          0.6992358896467421,
          0.6992358896467421,
          0.6992358896467421,
          0.6992358896467421,
          0.6992358896467421,
          0.6992358896467421,
          0.6992358896467421,
          0.6992358896467421
         ]
        },
        {
         "mode": "lines",
         "name": "113 Mukilteo-Lynn TC",
         "type": "scatter",
         "visible": false,
         "x": [
          "10to14",
          "14to15",
          "15to16",
          "16to17",
          "17to18",
          "18to20",
          "20to5",
          "5to6",
          "6to7",
          "7to8",
          "8to9",
          "9to10",
          "10to11",
          "11to12",
          "12to13",
          "13to14",
          "18to19",
          "19to20",
          "20to21",
          "21to22",
          "22to23",
          "23to0",
          "0to1",
          "1to2",
          "2to3",
          "3to4",
          "4to5"
         ],
         "y": [
          174.32418823242188,
          87.55758476257324,
          59.90022373199463,
          64.96924018859863,
          67.60345458984375,
          113.31608581542969,
          30.844995498657227,
          14.607331991195679,
          14.650092124938965,
          46.32392597198486,
          54.15095138549805,
          50.6680850982666,
          43.58104705810547,
          43.58104705810547,
          43.58104705810547,
          43.58104705810547,
          56.658042907714844,
          56.658042907714844,
          3.4272217220730252,
          3.4272217220730252,
          3.4272217220730252,
          3.4272217220730252,
          3.4272217220730252,
          3.4272217220730252,
          3.4272217220730252,
          3.4272217220730252,
          3.4272217220730252
         ]
        },
        {
         "mode": "lines",
         "name": "115 McClm P&R-AurVil",
         "type": "scatter",
         "visible": false,
         "x": [
          "10to14",
          "14to15",
          "15to16",
          "16to17",
          "17to18",
          "18to20",
          "20to5",
          "5to6",
          "6to7",
          "7to8",
          "8to9",
          "9to10",
          "10to11",
          "11to12",
          "12to13",
          "13to14",
          "18to19",
          "19to20",
          "20to21",
          "21to22",
          "22to23",
          "23to0",
          "0to1",
          "1to2",
          "2to3",
          "3to4",
          "4to5"
         ],
         "y": [
          455.7226867675781,
          105.42090606689453,
          206.33734893798828,
          68.7048110961914,
          116.01317596435547,
          199.4742660522461,
          42.16967582702637,
          21.943812370300293,
          68.35152816772461,
          93.53242683410645,
          119.2424201965332,
          114.19430923461914,
          113.93067169189453,
          113.93067169189453,
          113.93067169189453,
          113.93067169189453,
          99.73713302612305,
          99.73713302612305,
          4.685519536336263,
          4.685519536336263,
          4.685519536336263,
          4.685519536336263,
          4.685519536336263,
          4.685519536336263,
          4.685519536336263,
          4.685519536336263,
          4.685519536336263
         ]
        },
        {
         "mode": "lines",
         "name": "116 Edm-Silver Firs",
         "type": "scatter",
         "visible": false,
         "x": [
          "10to14",
          "14to15",
          "15to16",
          "16to17",
          "17to18",
          "18to20",
          "20to5",
          "5to6",
          "6to7",
          "7to8",
          "8to9",
          "9to10",
          "10to11",
          "11to12",
          "12to13",
          "13to14",
          "18to19",
          "19to20",
          "20to21",
          "21to22",
          "22to23",
          "23to0",
          "0to1",
          "1to2",
          "2to3",
          "3to4",
          "4to5"
         ],
         "y": [
          669.5575256347656,
          177.35877990722656,
          120.70933532714844,
          200.8374481201172,
          83.02972793579102,
          198.66978454589844,
          75.72847175598145,
          51.214996337890625,
          121.3015251159668,
          75.32659912109375,
          208.0495376586914,
          98.3542366027832,
          167.3893814086914,
          167.3893814086914,
          167.3893814086914,
          167.3893814086914,
          99.33489227294922,
          99.33489227294922,
          8.414274639553494,
          8.414274639553494,
          8.414274639553494,
          8.414274639553494,
          8.414274639553494,
          8.414274639553494,
          8.414274639553494,
          8.414274639553494,
          8.414274639553494
         ]
        },
        {
         "mode": "lines",
         "name": "119 Ash P&R-MLT TC",
         "type": "scatter",
         "visible": false,
         "x": [
          "10to14",
          "14to15",
          "15to16",
          "16to17",
          "17to18",
          "18to20",
          "20to5",
          "5to6",
          "6to7",
          "7to8",
          "8to9",
          "9to10",
          "10to11",
          "11to12",
          "12to13",
          "13to14",
          "18to19",
          "19to20",
          "20to21",
          "21to22",
          "22to23",
          "23to0",
          "0to1",
          "1to2",
          "2to3",
          "3to4",
          "4to5"
         ],
         "y": [
          52.29524612426758,
          10.31183910369873,
          14.298767566680908,
          18.1514949798584,
          9.305498123168945,
          25.74850845336914,
          1.3622848987579346,
          2.5574276447296143,
          11.047325611114502,
          15.151649475097656,
          18.939512252807617,
          7.973554372787476,
          13.073811531066895,
          13.073811531066895,
          13.073811531066895,
          13.073811531066895,
          12.87425422668457,
          12.87425422668457,
          0.1513649887508816,
          0.1513649887508816,
          0.1513649887508816,
          0.1513649887508816,
          0.1513649887508816,
          0.1513649887508816,
          0.1513649887508816,
          0.1513649887508816,
          0.1513649887508816
         ]
        },
        {
         "mode": "lines",
         "name": "120 Canyon Pk-Lyn TC",
         "type": "scatter",
         "visible": false,
         "x": [
          "10to14",
          "14to15",
          "15to16",
          "16to17",
          "17to18",
          "18to20",
          "20to5",
          "5to6",
          "6to7",
          "7to8",
          "8to9",
          "9to10",
          "10to11",
          "11to12",
          "12to13",
          "13to14",
          "18to19",
          "19to20",
          "20to21",
          "21to22",
          "22to23",
          "23to0",
          "0to1",
          "1to2",
          "2to3",
          "3to4",
          "4to5"
         ],
         "y": [
          159.91506958007812,
          45.71876335144043,
          58.369049072265625,
          40.774911880493164,
          45.619873046875,
          87.3999252319336,
          26.671123504638675,
          28.08471393585205,
          32.33434867858887,
          43.008819580078125,
          52.33048629760742,
          34.227210998535156,
          39.97876739501953,
          39.97876739501953,
          39.97876739501953,
          39.97876739501953,
          43.6999626159668,
          43.6999626159668,
          2.963458167182075,
          2.963458167182075,
          2.963458167182075,
          2.963458167182075,
          2.963458167182075,
          2.963458167182075,
          2.963458167182075,
          2.963458167182075,
          2.963458167182075
         ]
        }
       ],
       "layout": {
        "font": {
         "size": 11
        },
        "height": 500,
        "template": {
         "data": {
          "bar": [
           {
            "error_x": {
             "color": "rgb(36,36,36)"
            },
            "error_y": {
             "color": "rgb(36,36,36)"
            },
            "marker": {
             "line": {
              "color": "white",
              "width": 0.5
             },
             "pattern": {
              "fillmode": "overlay",
              "size": 10,
              "solidity": 0.2
             }
            },
            "type": "bar"
           }
          ],
          "barpolar": [
           {
            "marker": {
             "line": {
              "color": "white",
              "width": 0.5
             },
             "pattern": {
              "fillmode": "overlay",
              "size": 10,
              "solidity": 0.2
             }
            },
            "type": "barpolar"
           }
          ],
          "carpet": [
           {
            "aaxis": {
             "endlinecolor": "rgb(36,36,36)",
             "gridcolor": "white",
             "linecolor": "white",
             "minorgridcolor": "white",
             "startlinecolor": "rgb(36,36,36)"
            },
            "baxis": {
             "endlinecolor": "rgb(36,36,36)",
             "gridcolor": "white",
             "linecolor": "white",
             "minorgridcolor": "white",
             "startlinecolor": "rgb(36,36,36)"
            },
            "type": "carpet"
           }
          ],
          "choropleth": [
           {
            "colorbar": {
             "outlinewidth": 1,
             "tickcolor": "rgb(36,36,36)",
             "ticks": "outside"
            },
            "type": "choropleth"
           }
          ],
          "contour": [
           {
            "colorbar": {
             "outlinewidth": 1,
             "tickcolor": "rgb(36,36,36)",
             "ticks": "outside"
            },
            "colorscale": [
             [
              0,
              "#440154"
             ],
             [
              0.1111111111111111,
              "#482878"
             ],
             [
              0.2222222222222222,
              "#3e4989"
             ],
             [
              0.3333333333333333,
              "#31688e"
             ],
             [
              0.4444444444444444,
              "#26828e"
             ],
             [
              0.5555555555555556,
              "#1f9e89"
             ],
             [
              0.6666666666666666,
              "#35b779"
             ],
             [
              0.7777777777777778,
              "#6ece58"
             ],
             [
              0.8888888888888888,
              "#b5de2b"
             ],
             [
              1,
              "#fde725"
             ]
            ],
            "type": "contour"
           }
          ],
          "contourcarpet": [
           {
            "colorbar": {
             "outlinewidth": 1,
             "tickcolor": "rgb(36,36,36)",
             "ticks": "outside"
            },
            "type": "contourcarpet"
           }
          ],
          "heatmap": [
           {
            "colorbar": {
             "outlinewidth": 1,
             "tickcolor": "rgb(36,36,36)",
             "ticks": "outside"
            },
            "colorscale": [
             [
              0,
              "#440154"
             ],
             [
              0.1111111111111111,
              "#482878"
             ],
             [
              0.2222222222222222,
              "#3e4989"
             ],
             [
              0.3333333333333333,
              "#31688e"
             ],
             [
              0.4444444444444444,
              "#26828e"
             ],
             [
              0.5555555555555556,
              "#1f9e89"
             ],
             [
              0.6666666666666666,
              "#35b779"
             ],
             [
              0.7777777777777778,
              "#6ece58"
             ],
             [
              0.8888888888888888,
              "#b5de2b"
             ],
             [
              1,
              "#fde725"
             ]
            ],
            "type": "heatmap"
           }
          ],
          "heatmapgl": [
           {
            "colorbar": {
             "outlinewidth": 1,
             "tickcolor": "rgb(36,36,36)",
             "ticks": "outside"
            },
            "colorscale": [
             [
              0,
              "#440154"
             ],
             [
              0.1111111111111111,
              "#482878"
             ],
             [
              0.2222222222222222,
              "#3e4989"
             ],
             [
              0.3333333333333333,
              "#31688e"
             ],
             [
              0.4444444444444444,
              "#26828e"
             ],
             [
              0.5555555555555556,
              "#1f9e89"
             ],
             [
              0.6666666666666666,
              "#35b779"
             ],
             [
              0.7777777777777778,
              "#6ece58"
             ],
             [
              0.8888888888888888,
              "#b5de2b"
             ],
             [
              1,
              "#fde725"
             ]
            ],
            "type": "heatmapgl"
           }
          ],
          "histogram": [
           {
            "marker": {
             "line": {
              "color": "white",
              "width": 0.6
             }
            },
            "type": "histogram"
           }
          ],
          "histogram2d": [
           {
            "colorbar": {
             "outlinewidth": 1,
             "tickcolor": "rgb(36,36,36)",
             "ticks": "outside"
            },
            "colorscale": [
             [
              0,
              "#440154"
             ],
             [
              0.1111111111111111,
              "#482878"
             ],
             [
              0.2222222222222222,
              "#3e4989"
             ],
             [
              0.3333333333333333,
              "#31688e"
             ],
             [
              0.4444444444444444,
              "#26828e"
             ],
             [
              0.5555555555555556,
              "#1f9e89"
             ],
             [
              0.6666666666666666,
              "#35b779"
             ],
             [
              0.7777777777777778,
              "#6ece58"
             ],
             [
              0.8888888888888888,
              "#b5de2b"
             ],
             [
              1,
              "#fde725"
             ]
            ],
            "type": "histogram2d"
           }
          ],
          "histogram2dcontour": [
           {
            "colorbar": {
             "outlinewidth": 1,
             "tickcolor": "rgb(36,36,36)",
             "ticks": "outside"
            },
            "colorscale": [
             [
              0,
              "#440154"
             ],
             [
              0.1111111111111111,
              "#482878"
             ],
             [
              0.2222222222222222,
              "#3e4989"
             ],
             [
              0.3333333333333333,
              "#31688e"
             ],
             [
              0.4444444444444444,
              "#26828e"
             ],
             [
              0.5555555555555556,
              "#1f9e89"
             ],
             [
              0.6666666666666666,
              "#35b779"
             ],
             [
              0.7777777777777778,
              "#6ece58"
             ],
             [
              0.8888888888888888,
              "#b5de2b"
             ],
             [
              1,
              "#fde725"
             ]
            ],
            "type": "histogram2dcontour"
           }
          ],
          "mesh3d": [
           {
            "colorbar": {
             "outlinewidth": 1,
             "tickcolor": "rgb(36,36,36)",
             "ticks": "outside"
            },
            "type": "mesh3d"
           }
          ],
          "parcoords": [
           {
            "line": {
             "colorbar": {
              "outlinewidth": 1,
              "tickcolor": "rgb(36,36,36)",
              "ticks": "outside"
             }
            },
            "type": "parcoords"
           }
          ],
          "pie": [
           {
            "automargin": true,
            "type": "pie"
           }
          ],
          "scatter": [
           {
            "fillpattern": {
             "fillmode": "overlay",
             "size": 10,
             "solidity": 0.2
            },
            "type": "scatter"
           }
          ],
          "scatter3d": [
           {
            "line": {
             "colorbar": {
              "outlinewidth": 1,
              "tickcolor": "rgb(36,36,36)",
              "ticks": "outside"
             }
            },
            "marker": {
             "colorbar": {
              "outlinewidth": 1,
              "tickcolor": "rgb(36,36,36)",
              "ticks": "outside"
             }
            },
            "type": "scatter3d"
           }
          ],
          "scattercarpet": [
           {
            "marker": {
             "colorbar": {
              "outlinewidth": 1,
              "tickcolor": "rgb(36,36,36)",
              "ticks": "outside"
             }
            },
            "type": "scattercarpet"
           }
          ],
          "scattergeo": [
           {
            "marker": {
             "colorbar": {
              "outlinewidth": 1,
              "tickcolor": "rgb(36,36,36)",
              "ticks": "outside"
             }
            },
            "type": "scattergeo"
           }
          ],
          "scattergl": [
           {
            "marker": {
             "colorbar": {
              "outlinewidth": 1,
              "tickcolor": "rgb(36,36,36)",
              "ticks": "outside"
             }
            },
            "type": "scattergl"
           }
          ],
          "scattermapbox": [
           {
            "marker": {
             "colorbar": {
              "outlinewidth": 1,
              "tickcolor": "rgb(36,36,36)",
              "ticks": "outside"
             }
            },
            "type": "scattermapbox"
           }
          ],
          "scatterpolar": [
           {
            "marker": {
             "colorbar": {
              "outlinewidth": 1,
              "tickcolor": "rgb(36,36,36)",
              "ticks": "outside"
             }
            },
            "type": "scatterpolar"
           }
          ],
          "scatterpolargl": [
           {
            "marker": {
             "colorbar": {
              "outlinewidth": 1,
              "tickcolor": "rgb(36,36,36)",
              "ticks": "outside"
             }
            },
            "type": "scatterpolargl"
           }
          ],
          "scatterternary": [
           {
            "marker": {
             "colorbar": {
              "outlinewidth": 1,
              "tickcolor": "rgb(36,36,36)",
              "ticks": "outside"
             }
            },
            "type": "scatterternary"
           }
          ],
          "surface": [
           {
            "colorbar": {
             "outlinewidth": 1,
             "tickcolor": "rgb(36,36,36)",
             "ticks": "outside"
            },
            "colorscale": [
             [
              0,
              "#440154"
             ],
             [
              0.1111111111111111,
              "#482878"
             ],
             [
              0.2222222222222222,
              "#3e4989"
             ],
             [
              0.3333333333333333,
              "#31688e"
             ],
             [
              0.4444444444444444,
              "#26828e"
             ],
             [
              0.5555555555555556,
              "#1f9e89"
             ],
             [
              0.6666666666666666,
              "#35b779"
             ],
             [
              0.7777777777777778,
              "#6ece58"
             ],
             [
              0.8888888888888888,
              "#b5de2b"
             ],
             [
              1,
              "#fde725"
             ]
            ],
            "type": "surface"
           }
          ],
          "table": [
           {
            "cells": {
             "fill": {
              "color": "rgb(237,237,237)"
             },
             "line": {
              "color": "white"
             }
            },
            "header": {
             "fill": {
              "color": "rgb(217,217,217)"
             },
             "line": {
              "color": "white"
             }
            },
            "type": "table"
           }
          ]
         },
         "layout": {
          "annotationdefaults": {
           "arrowhead": 0,
           "arrowwidth": 1
          },
          "autotypenumbers": "strict",
          "coloraxis": {
           "colorbar": {
            "outlinewidth": 1,
            "tickcolor": "rgb(36,36,36)",
            "ticks": "outside"
           }
          },
          "colorscale": {
           "diverging": [
            [
             0,
             "rgb(103,0,31)"
            ],
            [
             0.1,
             "rgb(178,24,43)"
            ],
            [
             0.2,
             "rgb(214,96,77)"
            ],
            [
             0.3,
             "rgb(244,165,130)"
            ],
            [
             0.4,
             "rgb(253,219,199)"
            ],
            [
             0.5,
             "rgb(247,247,247)"
            ],
            [
             0.6,
             "rgb(209,229,240)"
            ],
            [
             0.7,
             "rgb(146,197,222)"
            ],
            [
             0.8,
             "rgb(67,147,195)"
            ],
            [
             0.9,
             "rgb(33,102,172)"
            ],
            [
             1,
             "rgb(5,48,97)"
            ]
           ],
           "sequential": [
            [
             0,
             "#440154"
            ],
            [
             0.1111111111111111,
             "#482878"
            ],
            [
             0.2222222222222222,
             "#3e4989"
            ],
            [
             0.3333333333333333,
             "#31688e"
            ],
            [
             0.4444444444444444,
             "#26828e"
            ],
            [
             0.5555555555555556,
             "#1f9e89"
            ],
            [
             0.6666666666666666,
             "#35b779"
            ],
            [
             0.7777777777777778,
             "#6ece58"
            ],
            [
             0.8888888888888888,
             "#b5de2b"
            ],
            [
             1,
             "#fde725"
            ]
           ],
           "sequentialminus": [
            [
             0,
             "#440154"
            ],
            [
             0.1111111111111111,
             "#482878"
            ],
            [
             0.2222222222222222,
             "#3e4989"
            ],
            [
             0.3333333333333333,
             "#31688e"
            ],
            [
             0.4444444444444444,
             "#26828e"
            ],
            [
             0.5555555555555556,
             "#1f9e89"
            ],
            [
             0.6666666666666666,
             "#35b779"
            ],
            [
             0.7777777777777778,
             "#6ece58"
            ],
            [
             0.8888888888888888,
             "#b5de2b"
            ],
            [
             1,
             "#fde725"
            ]
           ]
          },
          "colorway": [
           "#91268F",
           "#8CC63E",
           "#00A7A0",
           "#F05A28",
           "#4C4C4C",
           "#630460",
           "#9f3913",
           "#588527",
           "#00716c",
           "#3e4040"
          ],
          "font": {
           "color": "rgb(36,36,36)",
           "family": "Poppins",
           "size": 11
          },
          "geo": {
           "bgcolor": "white",
           "lakecolor": "white",
           "landcolor": "white",
           "showlakes": true,
           "showland": true,
           "subunitcolor": "white"
          },
          "hoverlabel": {
           "align": "left"
          },
          "hovermode": "closest",
          "mapbox": {
           "style": "light"
          },
          "paper_bgcolor": "white",
          "plot_bgcolor": "white",
          "polar": {
           "angularaxis": {
            "gridcolor": "rgb(232,232,232)",
            "linecolor": "rgb(36,36,36)",
            "showgrid": false,
            "showline": true,
            "ticks": "outside"
           },
           "bgcolor": "white",
           "radialaxis": {
            "gridcolor": "rgb(232,232,232)",
            "linecolor": "rgb(36,36,36)",
            "showgrid": false,
            "showline": true,
            "ticks": "outside"
           }
          },
          "scene": {
           "xaxis": {
            "backgroundcolor": "white",
            "gridcolor": "rgb(232,232,232)",
            "gridwidth": 2,
            "linecolor": "rgb(36,36,36)",
            "showbackground": true,
            "showgrid": false,
            "showline": true,
            "ticks": "outside",
            "zeroline": false,
            "zerolinecolor": "rgb(36,36,36)"
           },
           "yaxis": {
            "backgroundcolor": "white",
            "gridcolor": "rgb(232,232,232)",
            "gridwidth": 2,
            "linecolor": "rgb(36,36,36)",
            "showbackground": true,
            "showgrid": false,
            "showline": true,
            "ticks": "outside",
            "zeroline": false,
            "zerolinecolor": "rgb(36,36,36)"
           },
           "zaxis": {
            "backgroundcolor": "white",
            "gridcolor": "rgb(232,232,232)",
            "gridwidth": 2,
            "linecolor": "rgb(36,36,36)",
            "showbackground": true,
            "showgrid": false,
            "showline": true,
            "ticks": "outside",
            "zeroline": false,
            "zerolinecolor": "rgb(36,36,36)"
           }
          },
          "shapedefaults": {
           "fillcolor": "black",
           "line": {
            "width": 0
           },
           "opacity": 0.3
          },
          "ternary": {
           "aaxis": {
            "gridcolor": "rgb(232,232,232)",
            "linecolor": "rgb(36,36,36)",
            "showgrid": false,
            "showline": true,
            "ticks": "outside"
           },
           "baxis": {
            "gridcolor": "rgb(232,232,232)",
            "linecolor": "rgb(36,36,36)",
            "showgrid": false,
            "showline": true,
            "ticks": "outside"
           },
           "bgcolor": "white",
           "caxis": {
            "gridcolor": "rgb(232,232,232)",
            "linecolor": "rgb(36,36,36)",
            "showgrid": false,
            "showline": true,
            "ticks": "outside"
           }
          },
          "title": {
           "x": 0.05
          },
          "xaxis": {
           "automargin": true,
           "gridcolor": "rgb(232,232,232)",
           "linecolor": "rgb(36,36,36)",
           "showgrid": false,
           "showline": true,
           "ticks": "outside",
           "title": {
            "standoff": 15
           },
           "zeroline": false,
           "zerolinecolor": "rgb(36,36,36)"
          },
          "yaxis": {
           "automargin": true,
           "gridcolor": "rgb(232,232,232)",
           "linecolor": "rgb(36,36,36)",
           "showgrid": false,
           "showline": true,
           "ticks": "outside",
           "title": {
            "standoff": 15
           },
           "zeroline": false,
           "zerolinecolor": "rgb(36,36,36)"
          }
         }
        },
        "title": {
         "text": "Description: 101 Mar P&R-Aur Vill"
        },
        "updatemenus": [
         {
          "buttons": [
           {
            "args": [
             {
              "visible": [
               true,
               false,
               false,
               false,
               false,
               false,
               false,
               false,
               false,
               false
              ]
             },
             {
              "title": "Description: 101 Mar P&R-Aur Vill"
             }
            ],
            "label": "101 Mar P&R-Aur Vill",
            "method": "update"
           },
           {
            "args": [
             {
              "visible": [
               false,
               true,
               false,
               false,
               false,
               false,
               false,
               false,
               false,
               false
              ]
             },
             {
              "title": "Description: 105 Mariner P&R-Both"
             }
            ],
            "label": "105 Mariner P&R-Both",
            "method": "update"
           },
           {
            "args": [
             {
              "visible": [
               false,
               false,
               true,
               false,
               false,
               false,
               false,
               false,
               false,
               false
              ]
             },
             {
              "title": "Description: 106 Mariner P&R-Both"
             }
            ],
            "label": "106 Mariner P&R-Both",
            "method": "update"
           },
           {
            "args": [
             {
              "visible": [
               false,
               false,
               false,
               true,
               false,
               false,
               false,
               false,
               false,
               false
              ]
             },
             {
              "title": "Description: 109 Ash Wy P&R-LkStv"
             }
            ],
            "label": "109 Ash Wy P&R-LkStv",
            "method": "update"
           },
           {
            "args": [
             {
              "visible": [
               false,
               false,
               false,
               false,
               true,
               false,
               false,
               false,
               false,
               false
              ]
             },
             {
              "title": "Description: 112 MLT TC-Ash P&R"
             }
            ],
            "label": "112 MLT TC-Ash P&R",
            "method": "update"
           },
           {
            "args": [
             {
              "visible": [
               false,
               false,
               false,
               false,
               false,
               true,
               false,
               false,
               false,
               false
              ]
             },
             {
              "title": "Description: 113 Mukilteo-Lynn TC"
             }
            ],
            "label": "113 Mukilteo-Lynn TC",
            "method": "update"
           },
           {
            "args": [
             {
              "visible": [
               false,
               false,
               false,
               false,
               false,
               false,
               true,
               false,
               false,
               false
              ]
             },
             {
              "title": "Description: 115 McClm P&R-AurVil"
             }
            ],
            "label": "115 McClm P&R-AurVil",
            "method": "update"
           },
           {
            "args": [
             {
              "visible": [
               false,
               false,
               false,
               false,
               false,
               false,
               false,
               true,
               false,
               false
              ]
             },
             {
              "title": "Description: 116 Edm-Silver Firs"
             }
            ],
            "label": "116 Edm-Silver Firs",
            "method": "update"
           },
           {
            "args": [
             {
              "visible": [
               false,
               false,
               false,
               false,
               false,
               false,
               false,
               false,
               true,
               false
              ]
             },
             {
              "title": "Description: 119 Ash P&R-MLT TC"
             }
            ],
            "label": "119 Ash P&R-MLT TC",
            "method": "update"
           },
           {
            "args": [
             {
              "visible": [
               false,
               false,
               false,
               false,
               false,
               false,
               false,
               false,
               false,
               true
              ]
             },
             {
              "title": "Description: 120 Canyon Pk-Lyn TC"
             }
            ],
            "label": "120 Canyon Pk-Lyn TC",
            "method": "update"
           }
          ],
          "direction": "down",
          "showactive": true
         }
        ],
        "width": 900,
        "yaxis": {
         "tickformat": ".00f"
        }
       }
      },
      "text/html": [
       "<div>                            <div id=\"d723f40e-20bd-4560-94ad-06f568a7ffa6\" class=\"plotly-graph-div\" style=\"height:500px; width:900px;\"></div>            <script type=\"text/javascript\">                require([\"plotly\"], function(Plotly) {                    window.PLOTLYENV=window.PLOTLYENV || {};                                    if (document.getElementById(\"d723f40e-20bd-4560-94ad-06f568a7ffa6\")) {                    Plotly.newPlot(                        \"d723f40e-20bd-4560-94ad-06f568a7ffa6\",                        [{\"mode\":\"lines\",\"name\":\"101 Mar P&R-Aur Vill\",\"visible\":true,\"x\":[\"10to14\",\"14to15\",\"15to16\",\"16to17\",\"17to18\",\"18to20\",\"20to5\",\"5to6\",\"6to7\",\"7to8\",\"8to9\",\"9to10\",\"10to11\",\"11to12\",\"12to13\",\"13to14\",\"18to19\",\"19to20\",\"20to21\",\"21to22\",\"22to23\",\"23to0\",\"0to1\",\"1to2\",\"2to3\",\"3to4\",\"4to5\"],\"y\":[394.1775665283203,84.92522430419922,100.51859283447266,100.33611297607422,97.54183578491211,201.69277954101562,58.608943939208984,6.679010510444641,35.71670913696289,80.00087356567383,92.2879753112793,97.15380096435547,98.54439163208008,98.54439163208008,98.54439163208008,98.54439163208008,100.84638977050781,100.84638977050781,6.512104882134332,6.512104882134332,6.512104882134332,6.512104882134332,6.512104882134332,6.512104882134332,6.512104882134332,6.512104882134332,6.512104882134332],\"type\":\"scatter\"},{\"mode\":\"lines\",\"name\":\"105 Mariner P&R-Both\",\"visible\":false,\"x\":[\"10to14\",\"14to15\",\"15to16\",\"16to17\",\"17to18\",\"18to20\",\"20to5\",\"5to6\",\"6to7\",\"7to8\",\"8to9\",\"9to10\",\"10to11\",\"11to12\",\"12to13\",\"13to14\",\"18to19\",\"19to20\",\"20to21\",\"21to22\",\"22to23\",\"23to0\",\"0to1\",\"1to2\",\"2to3\",\"3to4\",\"4to5\"],\"y\":[118.62126922607422,33.3253288269043,56.47195816040039,40.80161476135254,41.12331771850586,37.29849624633789,26.45116662979126,11.531845092773438,22.712556838989258,37.21113204956055,22.49106788635254,25.615114212036133,29.655317306518555,29.655317306518555,29.655317306518555,29.655317306518555,18.649248123168945,18.649248123168945,2.9390185144212513,2.9390185144212513,2.9390185144212513,2.9390185144212513,2.9390185144212513,2.9390185144212513,2.9390185144212513,2.9390185144212513,2.9390185144212513],\"type\":\"scatter\"},{\"mode\":\"lines\",\"name\":\"106 Mariner P&R-Both\",\"visible\":false,\"x\":[\"16to17\",\"17to18\",\"18to20\",\"5to6\",\"6to7\",\"7to8\",\"18to19\",\"19to20\"],\"y\":[40.37419509887695,47.74508285522461,11.530143737792969,11.341164588928223,30.874621391296387,21.875171661376957,5.765071868896484,5.765071868896484],\"type\":\"scatter\"},{\"mode\":\"lines\",\"name\":\"109 Ash Wy P&R-LkStv\",\"visible\":false,\"x\":[\"10to14\",\"14to15\",\"15to16\",\"16to17\",\"17to18\",\"18to20\",\"20to5\",\"5to6\",\"6to7\",\"7to8\",\"8to9\",\"9to10\",\"10to11\",\"11to12\",\"12to13\",\"13to14\",\"18to19\",\"19to20\",\"20to21\",\"21to22\",\"22to23\",\"23to0\",\"0to1\",\"1to2\",\"2to3\",\"3to4\",\"4to5\"],\"y\":[166.52933502197266,38.48178291320801,70.25392532348633,29.189499855041504,71.13497352600098,97.90533447265625,48.44108009338379,20.278902053833008,25.51526641845703,41.96774673461914,30.22141170501709,42.38850784301758,41.632333755493164,41.632333755493164,41.632333755493164,41.632333755493164,48.952667236328125,48.952667236328125,5.382342232598199,5.382342232598199,5.382342232598199,5.382342232598199,5.382342232598199,5.382342232598199,5.382342232598199,5.382342232598199,5.382342232598199],\"type\":\"scatter\"},{\"mode\":\"lines\",\"name\":\"112 MLT TC-Ash P&R\",\"visible\":false,\"x\":[\"10to14\",\"14to15\",\"15to16\",\"16to17\",\"17to18\",\"18to20\",\"20to5\",\"5to6\",\"6to7\",\"7to8\",\"8to9\",\"9to10\",\"10to11\",\"11to12\",\"12to13\",\"13to14\",\"18to19\",\"19to20\",\"20to21\",\"21to22\",\"22to23\",\"23to0\",\"0to1\",\"1to2\",\"2to3\",\"3to4\",\"4to5\"],\"y\":[58.27720260620117,12.945477962493896,24.517348289489746,12.821672439575195,12.320846557617188,43.49594306945801,6.293123006820679,11.940576076507568,7.592574596405029,10.453368186950684,20.798056602478027,15.730183124542236,14.569300651550293,14.569300651550293,14.569300651550293,14.569300651550293,21.747971534729004,21.747971534729004,0.6992358896467421,0.6992358896467421,0.6992358896467421,0.6992358896467421,0.6992358896467421,0.6992358896467421,0.6992358896467421,0.6992358896467421,0.6992358896467421],\"type\":\"scatter\"},{\"mode\":\"lines\",\"name\":\"113 Mukilteo-Lynn TC\",\"visible\":false,\"x\":[\"10to14\",\"14to15\",\"15to16\",\"16to17\",\"17to18\",\"18to20\",\"20to5\",\"5to6\",\"6to7\",\"7to8\",\"8to9\",\"9to10\",\"10to11\",\"11to12\",\"12to13\",\"13to14\",\"18to19\",\"19to20\",\"20to21\",\"21to22\",\"22to23\",\"23to0\",\"0to1\",\"1to2\",\"2to3\",\"3to4\",\"4to5\"],\"y\":[174.32418823242188,87.55758476257324,59.90022373199463,64.96924018859863,67.60345458984375,113.31608581542969,30.844995498657227,14.607331991195679,14.650092124938965,46.32392597198486,54.15095138549805,50.6680850982666,43.58104705810547,43.58104705810547,43.58104705810547,43.58104705810547,56.658042907714844,56.658042907714844,3.4272217220730252,3.4272217220730252,3.4272217220730252,3.4272217220730252,3.4272217220730252,3.4272217220730252,3.4272217220730252,3.4272217220730252,3.4272217220730252],\"type\":\"scatter\"},{\"mode\":\"lines\",\"name\":\"115 McClm P&R-AurVil\",\"visible\":false,\"x\":[\"10to14\",\"14to15\",\"15to16\",\"16to17\",\"17to18\",\"18to20\",\"20to5\",\"5to6\",\"6to7\",\"7to8\",\"8to9\",\"9to10\",\"10to11\",\"11to12\",\"12to13\",\"13to14\",\"18to19\",\"19to20\",\"20to21\",\"21to22\",\"22to23\",\"23to0\",\"0to1\",\"1to2\",\"2to3\",\"3to4\",\"4to5\"],\"y\":[455.7226867675781,105.42090606689453,206.33734893798828,68.7048110961914,116.01317596435547,199.4742660522461,42.16967582702637,21.943812370300293,68.35152816772461,93.53242683410645,119.2424201965332,114.19430923461914,113.93067169189453,113.93067169189453,113.93067169189453,113.93067169189453,99.73713302612305,99.73713302612305,4.685519536336263,4.685519536336263,4.685519536336263,4.685519536336263,4.685519536336263,4.685519536336263,4.685519536336263,4.685519536336263,4.685519536336263],\"type\":\"scatter\"},{\"mode\":\"lines\",\"name\":\"116 Edm-Silver Firs\",\"visible\":false,\"x\":[\"10to14\",\"14to15\",\"15to16\",\"16to17\",\"17to18\",\"18to20\",\"20to5\",\"5to6\",\"6to7\",\"7to8\",\"8to9\",\"9to10\",\"10to11\",\"11to12\",\"12to13\",\"13to14\",\"18to19\",\"19to20\",\"20to21\",\"21to22\",\"22to23\",\"23to0\",\"0to1\",\"1to2\",\"2to3\",\"3to4\",\"4to5\"],\"y\":[669.5575256347656,177.35877990722656,120.70933532714844,200.8374481201172,83.02972793579102,198.66978454589844,75.72847175598145,51.214996337890625,121.3015251159668,75.32659912109375,208.0495376586914,98.3542366027832,167.3893814086914,167.3893814086914,167.3893814086914,167.3893814086914,99.33489227294922,99.33489227294922,8.414274639553494,8.414274639553494,8.414274639553494,8.414274639553494,8.414274639553494,8.414274639553494,8.414274639553494,8.414274639553494,8.414274639553494],\"type\":\"scatter\"},{\"mode\":\"lines\",\"name\":\"119 Ash P&R-MLT TC\",\"visible\":false,\"x\":[\"10to14\",\"14to15\",\"15to16\",\"16to17\",\"17to18\",\"18to20\",\"20to5\",\"5to6\",\"6to7\",\"7to8\",\"8to9\",\"9to10\",\"10to11\",\"11to12\",\"12to13\",\"13to14\",\"18to19\",\"19to20\",\"20to21\",\"21to22\",\"22to23\",\"23to0\",\"0to1\",\"1to2\",\"2to3\",\"3to4\",\"4to5\"],\"y\":[52.29524612426758,10.31183910369873,14.298767566680908,18.1514949798584,9.305498123168945,25.74850845336914,1.3622848987579346,2.5574276447296143,11.047325611114502,15.151649475097656,18.939512252807617,7.973554372787476,13.073811531066895,13.073811531066895,13.073811531066895,13.073811531066895,12.87425422668457,12.87425422668457,0.1513649887508816,0.1513649887508816,0.1513649887508816,0.1513649887508816,0.1513649887508816,0.1513649887508816,0.1513649887508816,0.1513649887508816,0.1513649887508816],\"type\":\"scatter\"},{\"mode\":\"lines\",\"name\":\"120 Canyon Pk-Lyn TC\",\"visible\":false,\"x\":[\"10to14\",\"14to15\",\"15to16\",\"16to17\",\"17to18\",\"18to20\",\"20to5\",\"5to6\",\"6to7\",\"7to8\",\"8to9\",\"9to10\",\"10to11\",\"11to12\",\"12to13\",\"13to14\",\"18to19\",\"19to20\",\"20to21\",\"21to22\",\"22to23\",\"23to0\",\"0to1\",\"1to2\",\"2to3\",\"3to4\",\"4to5\"],\"y\":[159.91506958007812,45.71876335144043,58.369049072265625,40.774911880493164,45.619873046875,87.3999252319336,26.671123504638675,28.08471393585205,32.33434867858887,43.008819580078125,52.33048629760742,34.227210998535156,39.97876739501953,39.97876739501953,39.97876739501953,39.97876739501953,43.6999626159668,43.6999626159668,2.963458167182075,2.963458167182075,2.963458167182075,2.963458167182075,2.963458167182075,2.963458167182075,2.963458167182075,2.963458167182075,2.963458167182075],\"type\":\"scatter\"}],                        {\"template\":{\"data\":{\"barpolar\":[{\"marker\":{\"line\":{\"color\":\"white\",\"width\":0.5},\"pattern\":{\"fillmode\":\"overlay\",\"size\":10,\"solidity\":0.2}},\"type\":\"barpolar\"}],\"bar\":[{\"error_x\":{\"color\":\"rgb(36,36,36)\"},\"error_y\":{\"color\":\"rgb(36,36,36)\"},\"marker\":{\"line\":{\"color\":\"white\",\"width\":0.5},\"pattern\":{\"fillmode\":\"overlay\",\"size\":10,\"solidity\":0.2}},\"type\":\"bar\"}],\"carpet\":[{\"aaxis\":{\"endlinecolor\":\"rgb(36,36,36)\",\"gridcolor\":\"white\",\"linecolor\":\"white\",\"minorgridcolor\":\"white\",\"startlinecolor\":\"rgb(36,36,36)\"},\"baxis\":{\"endlinecolor\":\"rgb(36,36,36)\",\"gridcolor\":\"white\",\"linecolor\":\"white\",\"minorgridcolor\":\"white\",\"startlinecolor\":\"rgb(36,36,36)\"},\"type\":\"carpet\"}],\"choropleth\":[{\"colorbar\":{\"outlinewidth\":1,\"tickcolor\":\"rgb(36,36,36)\",\"ticks\":\"outside\"},\"type\":\"choropleth\"}],\"contourcarpet\":[{\"colorbar\":{\"outlinewidth\":1,\"tickcolor\":\"rgb(36,36,36)\",\"ticks\":\"outside\"},\"type\":\"contourcarpet\"}],\"contour\":[{\"colorbar\":{\"outlinewidth\":1,\"tickcolor\":\"rgb(36,36,36)\",\"ticks\":\"outside\"},\"colorscale\":[[0.0,\"#440154\"],[0.1111111111111111,\"#482878\"],[0.2222222222222222,\"#3e4989\"],[0.3333333333333333,\"#31688e\"],[0.4444444444444444,\"#26828e\"],[0.5555555555555556,\"#1f9e89\"],[0.6666666666666666,\"#35b779\"],[0.7777777777777778,\"#6ece58\"],[0.8888888888888888,\"#b5de2b\"],[1.0,\"#fde725\"]],\"type\":\"contour\"}],\"heatmapgl\":[{\"colorbar\":{\"outlinewidth\":1,\"tickcolor\":\"rgb(36,36,36)\",\"ticks\":\"outside\"},\"colorscale\":[[0.0,\"#440154\"],[0.1111111111111111,\"#482878\"],[0.2222222222222222,\"#3e4989\"],[0.3333333333333333,\"#31688e\"],[0.4444444444444444,\"#26828e\"],[0.5555555555555556,\"#1f9e89\"],[0.6666666666666666,\"#35b779\"],[0.7777777777777778,\"#6ece58\"],[0.8888888888888888,\"#b5de2b\"],[1.0,\"#fde725\"]],\"type\":\"heatmapgl\"}],\"heatmap\":[{\"colorbar\":{\"outlinewidth\":1,\"tickcolor\":\"rgb(36,36,36)\",\"ticks\":\"outside\"},\"colorscale\":[[0.0,\"#440154\"],[0.1111111111111111,\"#482878\"],[0.2222222222222222,\"#3e4989\"],[0.3333333333333333,\"#31688e\"],[0.4444444444444444,\"#26828e\"],[0.5555555555555556,\"#1f9e89\"],[0.6666666666666666,\"#35b779\"],[0.7777777777777778,\"#6ece58\"],[0.8888888888888888,\"#b5de2b\"],[1.0,\"#fde725\"]],\"type\":\"heatmap\"}],\"histogram2dcontour\":[{\"colorbar\":{\"outlinewidth\":1,\"tickcolor\":\"rgb(36,36,36)\",\"ticks\":\"outside\"},\"colorscale\":[[0.0,\"#440154\"],[0.1111111111111111,\"#482878\"],[0.2222222222222222,\"#3e4989\"],[0.3333333333333333,\"#31688e\"],[0.4444444444444444,\"#26828e\"],[0.5555555555555556,\"#1f9e89\"],[0.6666666666666666,\"#35b779\"],[0.7777777777777778,\"#6ece58\"],[0.8888888888888888,\"#b5de2b\"],[1.0,\"#fde725\"]],\"type\":\"histogram2dcontour\"}],\"histogram2d\":[{\"colorbar\":{\"outlinewidth\":1,\"tickcolor\":\"rgb(36,36,36)\",\"ticks\":\"outside\"},\"colorscale\":[[0.0,\"#440154\"],[0.1111111111111111,\"#482878\"],[0.2222222222222222,\"#3e4989\"],[0.3333333333333333,\"#31688e\"],[0.4444444444444444,\"#26828e\"],[0.5555555555555556,\"#1f9e89\"],[0.6666666666666666,\"#35b779\"],[0.7777777777777778,\"#6ece58\"],[0.8888888888888888,\"#b5de2b\"],[1.0,\"#fde725\"]],\"type\":\"histogram2d\"}],\"histogram\":[{\"marker\":{\"line\":{\"color\":\"white\",\"width\":0.6}},\"type\":\"histogram\"}],\"mesh3d\":[{\"colorbar\":{\"outlinewidth\":1,\"tickcolor\":\"rgb(36,36,36)\",\"ticks\":\"outside\"},\"type\":\"mesh3d\"}],\"parcoords\":[{\"line\":{\"colorbar\":{\"outlinewidth\":1,\"tickcolor\":\"rgb(36,36,36)\",\"ticks\":\"outside\"}},\"type\":\"parcoords\"}],\"pie\":[{\"automargin\":true,\"type\":\"pie\"}],\"scatter3d\":[{\"line\":{\"colorbar\":{\"outlinewidth\":1,\"tickcolor\":\"rgb(36,36,36)\",\"ticks\":\"outside\"}},\"marker\":{\"colorbar\":{\"outlinewidth\":1,\"tickcolor\":\"rgb(36,36,36)\",\"ticks\":\"outside\"}},\"type\":\"scatter3d\"}],\"scattercarpet\":[{\"marker\":{\"colorbar\":{\"outlinewidth\":1,\"tickcolor\":\"rgb(36,36,36)\",\"ticks\":\"outside\"}},\"type\":\"scattercarpet\"}],\"scattergeo\":[{\"marker\":{\"colorbar\":{\"outlinewidth\":1,\"tickcolor\":\"rgb(36,36,36)\",\"ticks\":\"outside\"}},\"type\":\"scattergeo\"}],\"scattergl\":[{\"marker\":{\"colorbar\":{\"outlinewidth\":1,\"tickcolor\":\"rgb(36,36,36)\",\"ticks\":\"outside\"}},\"type\":\"scattergl\"}],\"scattermapbox\":[{\"marker\":{\"colorbar\":{\"outlinewidth\":1,\"tickcolor\":\"rgb(36,36,36)\",\"ticks\":\"outside\"}},\"type\":\"scattermapbox\"}],\"scatterpolargl\":[{\"marker\":{\"colorbar\":{\"outlinewidth\":1,\"tickcolor\":\"rgb(36,36,36)\",\"ticks\":\"outside\"}},\"type\":\"scatterpolargl\"}],\"scatterpolar\":[{\"marker\":{\"colorbar\":{\"outlinewidth\":1,\"tickcolor\":\"rgb(36,36,36)\",\"ticks\":\"outside\"}},\"type\":\"scatterpolar\"}],\"scatter\":[{\"fillpattern\":{\"fillmode\":\"overlay\",\"size\":10,\"solidity\":0.2},\"type\":\"scatter\"}],\"scatterternary\":[{\"marker\":{\"colorbar\":{\"outlinewidth\":1,\"tickcolor\":\"rgb(36,36,36)\",\"ticks\":\"outside\"}},\"type\":\"scatterternary\"}],\"surface\":[{\"colorbar\":{\"outlinewidth\":1,\"tickcolor\":\"rgb(36,36,36)\",\"ticks\":\"outside\"},\"colorscale\":[[0.0,\"#440154\"],[0.1111111111111111,\"#482878\"],[0.2222222222222222,\"#3e4989\"],[0.3333333333333333,\"#31688e\"],[0.4444444444444444,\"#26828e\"],[0.5555555555555556,\"#1f9e89\"],[0.6666666666666666,\"#35b779\"],[0.7777777777777778,\"#6ece58\"],[0.8888888888888888,\"#b5de2b\"],[1.0,\"#fde725\"]],\"type\":\"surface\"}],\"table\":[{\"cells\":{\"fill\":{\"color\":\"rgb(237,237,237)\"},\"line\":{\"color\":\"white\"}},\"header\":{\"fill\":{\"color\":\"rgb(217,217,217)\"},\"line\":{\"color\":\"white\"}},\"type\":\"table\"}]},\"layout\":{\"annotationdefaults\":{\"arrowhead\":0,\"arrowwidth\":1},\"autotypenumbers\":\"strict\",\"coloraxis\":{\"colorbar\":{\"outlinewidth\":1,\"tickcolor\":\"rgb(36,36,36)\",\"ticks\":\"outside\"}},\"colorscale\":{\"diverging\":[[0.0,\"rgb(103,0,31)\"],[0.1,\"rgb(178,24,43)\"],[0.2,\"rgb(214,96,77)\"],[0.3,\"rgb(244,165,130)\"],[0.4,\"rgb(253,219,199)\"],[0.5,\"rgb(247,247,247)\"],[0.6,\"rgb(209,229,240)\"],[0.7,\"rgb(146,197,222)\"],[0.8,\"rgb(67,147,195)\"],[0.9,\"rgb(33,102,172)\"],[1.0,\"rgb(5,48,97)\"]],\"sequential\":[[0.0,\"#440154\"],[0.1111111111111111,\"#482878\"],[0.2222222222222222,\"#3e4989\"],[0.3333333333333333,\"#31688e\"],[0.4444444444444444,\"#26828e\"],[0.5555555555555556,\"#1f9e89\"],[0.6666666666666666,\"#35b779\"],[0.7777777777777778,\"#6ece58\"],[0.8888888888888888,\"#b5de2b\"],[1.0,\"#fde725\"]],\"sequentialminus\":[[0.0,\"#440154\"],[0.1111111111111111,\"#482878\"],[0.2222222222222222,\"#3e4989\"],[0.3333333333333333,\"#31688e\"],[0.4444444444444444,\"#26828e\"],[0.5555555555555556,\"#1f9e89\"],[0.6666666666666666,\"#35b779\"],[0.7777777777777778,\"#6ece58\"],[0.8888888888888888,\"#b5de2b\"],[1.0,\"#fde725\"]]},\"colorway\":[\"#91268F\",\"#8CC63E\",\"#00A7A0\",\"#F05A28\",\"#4C4C4C\",\"#630460\",\"#9f3913\",\"#588527\",\"#00716c\",\"#3e4040\"],\"font\":{\"color\":\"rgb(36,36,36)\",\"family\":\"Poppins\",\"size\":11},\"geo\":{\"bgcolor\":\"white\",\"lakecolor\":\"white\",\"landcolor\":\"white\",\"showlakes\":true,\"showland\":true,\"subunitcolor\":\"white\"},\"hoverlabel\":{\"align\":\"left\"},\"hovermode\":\"closest\",\"mapbox\":{\"style\":\"light\"},\"paper_bgcolor\":\"white\",\"plot_bgcolor\":\"white\",\"polar\":{\"angularaxis\":{\"gridcolor\":\"rgb(232,232,232)\",\"linecolor\":\"rgb(36,36,36)\",\"showgrid\":false,\"showline\":true,\"ticks\":\"outside\"},\"bgcolor\":\"white\",\"radialaxis\":{\"gridcolor\":\"rgb(232,232,232)\",\"linecolor\":\"rgb(36,36,36)\",\"showgrid\":false,\"showline\":true,\"ticks\":\"outside\"}},\"scene\":{\"xaxis\":{\"backgroundcolor\":\"white\",\"gridcolor\":\"rgb(232,232,232)\",\"gridwidth\":2,\"linecolor\":\"rgb(36,36,36)\",\"showbackground\":true,\"showgrid\":false,\"showline\":true,\"ticks\":\"outside\",\"zeroline\":false,\"zerolinecolor\":\"rgb(36,36,36)\"},\"yaxis\":{\"backgroundcolor\":\"white\",\"gridcolor\":\"rgb(232,232,232)\",\"gridwidth\":2,\"linecolor\":\"rgb(36,36,36)\",\"showbackground\":true,\"showgrid\":false,\"showline\":true,\"ticks\":\"outside\",\"zeroline\":false,\"zerolinecolor\":\"rgb(36,36,36)\"},\"zaxis\":{\"backgroundcolor\":\"white\",\"gridcolor\":\"rgb(232,232,232)\",\"gridwidth\":2,\"linecolor\":\"rgb(36,36,36)\",\"showbackground\":true,\"showgrid\":false,\"showline\":true,\"ticks\":\"outside\",\"zeroline\":false,\"zerolinecolor\":\"rgb(36,36,36)\"}},\"shapedefaults\":{\"fillcolor\":\"black\",\"line\":{\"width\":0},\"opacity\":0.3},\"ternary\":{\"aaxis\":{\"gridcolor\":\"rgb(232,232,232)\",\"linecolor\":\"rgb(36,36,36)\",\"showgrid\":false,\"showline\":true,\"ticks\":\"outside\"},\"baxis\":{\"gridcolor\":\"rgb(232,232,232)\",\"linecolor\":\"rgb(36,36,36)\",\"showgrid\":false,\"showline\":true,\"ticks\":\"outside\"},\"bgcolor\":\"white\",\"caxis\":{\"gridcolor\":\"rgb(232,232,232)\",\"linecolor\":\"rgb(36,36,36)\",\"showgrid\":false,\"showline\":true,\"ticks\":\"outside\"}},\"title\":{\"x\":0.05},\"xaxis\":{\"automargin\":true,\"gridcolor\":\"rgb(232,232,232)\",\"linecolor\":\"rgb(36,36,36)\",\"showgrid\":false,\"showline\":true,\"ticks\":\"outside\",\"title\":{\"standoff\":15},\"zeroline\":false,\"zerolinecolor\":\"rgb(36,36,36)\"},\"yaxis\":{\"automargin\":true,\"gridcolor\":\"rgb(232,232,232)\",\"linecolor\":\"rgb(36,36,36)\",\"showgrid\":false,\"showline\":true,\"ticks\":\"outside\",\"title\":{\"standoff\":15},\"zeroline\":false,\"zerolinecolor\":\"rgb(36,36,36)\"}}},\"font\":{\"size\":11},\"yaxis\":{\"tickformat\":\".00f\"},\"updatemenus\":[{\"buttons\":[{\"args\":[{\"visible\":[true,false,false,false,false,false,false,false,false,false]},{\"title\":\"Description: 101 Mar P&R-Aur Vill\"}],\"label\":\"101 Mar P&R-Aur Vill\",\"method\":\"update\"},{\"args\":[{\"visible\":[false,true,false,false,false,false,false,false,false,false]},{\"title\":\"Description: 105 Mariner P&R-Both\"}],\"label\":\"105 Mariner P&R-Both\",\"method\":\"update\"},{\"args\":[{\"visible\":[false,false,true,false,false,false,false,false,false,false]},{\"title\":\"Description: 106 Mariner P&R-Both\"}],\"label\":\"106 Mariner P&R-Both\",\"method\":\"update\"},{\"args\":[{\"visible\":[false,false,false,true,false,false,false,false,false,false]},{\"title\":\"Description: 109 Ash Wy P&R-LkStv\"}],\"label\":\"109 Ash Wy P&R-LkStv\",\"method\":\"update\"},{\"args\":[{\"visible\":[false,false,false,false,true,false,false,false,false,false]},{\"title\":\"Description: 112 MLT TC-Ash P&R\"}],\"label\":\"112 MLT TC-Ash P&R\",\"method\":\"update\"},{\"args\":[{\"visible\":[false,false,false,false,false,true,false,false,false,false]},{\"title\":\"Description: 113 Mukilteo-Lynn TC\"}],\"label\":\"113 Mukilteo-Lynn TC\",\"method\":\"update\"},{\"args\":[{\"visible\":[false,false,false,false,false,false,true,false,false,false]},{\"title\":\"Description: 115 McClm P&R-AurVil\"}],\"label\":\"115 McClm P&R-AurVil\",\"method\":\"update\"},{\"args\":[{\"visible\":[false,false,false,false,false,false,false,true,false,false]},{\"title\":\"Description: 116 Edm-Silver Firs\"}],\"label\":\"116 Edm-Silver Firs\",\"method\":\"update\"},{\"args\":[{\"visible\":[false,false,false,false,false,false,false,false,true,false]},{\"title\":\"Description: 119 Ash P&R-MLT TC\"}],\"label\":\"119 Ash P&R-MLT TC\",\"method\":\"update\"},{\"args\":[{\"visible\":[false,false,false,false,false,false,false,false,false,true]},{\"title\":\"Description: 120 Canyon Pk-Lyn TC\"}],\"label\":\"120 Canyon Pk-Lyn TC\",\"method\":\"update\"}],\"direction\":\"down\",\"showactive\":true}],\"title\":{\"text\":\"Description: 101 Mar P&R-Aur Vill\"},\"height\":500,\"width\":900},                        {\"responsive\": true}                    ).then(function(){\n",
       "                            \n",
       "var gd = document.getElementById('d723f40e-20bd-4560-94ad-06f568a7ffa6');\n",
       "var x = new MutationObserver(function (mutations, observer) {{\n",
       "        var display = window.getComputedStyle(gd).display;\n",
       "        if (!display || display === 'none') {{\n",
       "            console.log([gd, 'removed!']);\n",
       "            Plotly.purge(gd);\n",
       "            observer.disconnect();\n",
       "        }}\n",
       "}});\n",
       "\n",
       "// Listen for the removal of the full notebook cells\n",
       "var notebookContainer = gd.closest('#notebook-container');\n",
       "if (notebookContainer) {{\n",
       "    x.observe(notebookContainer, {childList: true});\n",
       "}}\n",
       "\n",
       "// Listen for the clearing of the current output cell\n",
       "var outputEl = gd.closest('.output');\n",
       "if (outputEl) {{\n",
       "    x.observe(outputEl, {childList: true});\n",
       "}}\n",
       "\n",
       "                        })                };                });            </script>        </div>"
      ]
     },
     "metadata": {},
     "output_type": "display_data"
    }
   ],
   "source": [
    "\n",
    "def create_tod_chart(df):\n",
    "    # Create a figure\n",
    "    fig = go.Figure()\n",
    "\n",
    "    # Add traces for each description\n",
    "    for description in descriptions:\n",
    "\n",
    "        _df = df[df['description'] == description].copy()\n",
    "        _df = pd.pivot_table(_df, index='tod', columns='description', values='boardings')\n",
    "        \n",
    "        tod_list = ['5to6', '6to7', '7to8', '8to9', '9to10', '14to15', '15to16', '16to17', '17to18']\n",
    "\n",
    "        # Smooth out time periods\n",
    "        if '10to14' in _df.index:\n",
    "            _df.loc['10to11'] = _df.loc['10to14'] / 4.0\n",
    "            _df.loc['11to12'] = _df.loc['10to14'] / 4.0\n",
    "            _df.loc['12to13'] = _df.loc['10to14'] / 4.0\n",
    "            _df.loc['13to14'] = _df.loc['10to14'] / 4.0\n",
    "            tod_list += ['10to11', '11to12', '12to13', '13to14']\n",
    "        if '18to20' in _df.index:\n",
    "            _df.loc['18to19'] = _df.loc['18to20'] / 2.0\n",
    "            _df.loc['19to20'] = _df.loc['18to20'] / 2.0\n",
    "            tod_list += ['18to19', '19to20']\n",
    "        if '20to5' in  _df.index:\n",
    "            tod_list += ['20to21', '21to22', '22to23', '23to0','0to1', '1to2', '2to3', '3to4', '4to5']\n",
    "            _df.loc['20to21'] = _df.loc['20to5'] / 9.0\n",
    "            _df.loc['21to22'] = _df.loc['20to5'] / 9.0\n",
    "            _df.loc['22to23'] = _df.loc['20to5'] / 9.0\n",
    "            _df.loc['23to0'] = _df.loc['20to5'] / 9.0\n",
    "            _df.loc['0to1'] = _df.loc['20to5'] / 9.0\n",
    "            _df.loc['1to2'] = _df.loc['20to5'] / 9.0\n",
    "            _df.loc['2to3'] = _df.loc['20to5'] / 9.0\n",
    "            _df.loc['3to4'] = _df.loc['20to5'] / 9.0\n",
    "            _df.loc['4to5'] = _df.loc['20to5'] / 9.0\n",
    "\n",
    "        _df = _df.reset_index()\n",
    "        _df.index = _df.tod\n",
    "        _df.drop('tod', axis=1, inplace=True)\n",
    "        _df = _df.loc[_df.index, description]\n",
    "\n",
    "        fig.add_trace(go.Scatter(x=_df.index, y=_df, mode='lines', name=description, visible=False))\n",
    "\n",
    "    # Make the first trace visible\n",
    "    fig.data[0].visible = True\n",
    "\n",
    "    # Create dropdown menu\n",
    "    dropdown_buttons = [\n",
    "        {'label': description, 'method': 'update', 'args': [{'visible': [description == desc for desc in descriptions]}, {'title': f'Description: {description}'}]}\n",
    "        for description in descriptions\n",
    "    ]\n",
    "\n",
    "    # Update layout with dropdown\n",
    "    fig.update_layout(\n",
    "        updatemenus=[{\n",
    "            'buttons': dropdown_buttons,\n",
    "            'direction': 'down',\n",
    "            'showactive': True,\n",
    "        }],\n",
    "        title='Description: ' + descriptions[0],\n",
    "        height=500,\n",
    "        width=900,\n",
    "        font=dict(size=11),\n",
    "        yaxis_tickformat='.00f'\n",
    "    )\n",
    "\n",
    "    return fig\n",
    "\n",
    "\n",
    "\n",
    "\n",
    "# Create a list of unique descriptions to display\n",
    "descriptions = df_transit_line['description'].unique()[0:10]\n",
    "# print(descriptions)\n",
    "df_test = df_transit_line[df_transit_line['description'].isin(descriptions)].copy()\n",
    "df = df_test.groupby(['tod', 'description']).agg({'boardings': 'sum'}).reset_index()\n",
    "\n",
    "\n",
    "fig = create_tod_chart(df)\n",
    "fig.show()\n"
   ]
  },
  {
   "cell_type": "code",
   "execution_count": 24,
   "id": "467c75a1",
   "metadata": {},
   "outputs": [],
   "source": [
    "# df_transit_line"
   ]
  },
  {
   "cell_type": "markdown",
   "id": "6e6c5ead64d64e8c",
   "metadata": {},
   "source": [
    "### boarding on lines by agency"
   ]
  },
  {
   "cell_type": "code",
   "execution_count": 25,
   "id": "95db4119eb938544",
   "metadata": {
    "ExecuteTime": {
     "end_time": "2024-06-24T19:52:55.951969Z",
     "start_time": "2024-06-24T19:52:54.937995Z"
    },
    "execution": {
     "iopub.execute_input": "2024-12-14T02:38:41.171718Z",
     "iopub.status.busy": "2024-12-14T02:38:41.170721Z",
     "iopub.status.idle": "2024-12-14T02:38:42.833012Z",
     "shell.execute_reply": "2024-12-14T02:38:42.831017Z"
    }
   },
   "outputs": [
    {
     "name": "stdout",
     "output_type": "stream",
     "text": [
      "r^2 Community Transit: 0.9766036594921724\n",
      "r^2 Everett Transit: 0.9902666911736543\n",
      "r^2 King County Metro: 0.9444978288408077\n",
      "r^2 Kitsap Transit: 0.9523684787624616\n",
      "r^2 Pierce Transit: 0.8607204304479554\n",
      "r^2 Sound Transit: 0.998081783912613\n",
      "r^2 Washington Ferries: 0.9599756963824329\n"
     ]
    },
    {
     "data": {
      "image/png": "[encoded data removed]",
      "text/plain": [
       "<Figure size 432x288 with 1 Axes>"
      ]
     },
     "metadata": {
      "needs_background": "light"
     },
     "output_type": "display_data"
    },
    {
     "data": {
      "image/png": "[encoded data removed]",
      "text/plain": [
       "<Figure size 432x288 with 1 Axes>"
      ]
     },
     "metadata": {
      "needs_background": "light"
     },
     "output_type": "display_data"
    },
    {
     "data": {
      "image/png": "[encoded data removed]",
      "text/plain": [
       "<Figure size 432x288 with 1 Axes>"
      ]
     },
     "metadata": {
      "needs_background": "light"
     },
     "output_type": "display_data"
    },
    {
     "data": {
      "image/png": "[encoded data removed]",
      "text/plain": [
       "<Figure size 432x288 with 1 Axes>"
      ]
     },
     "metadata": {
      "needs_background": "light"
     },
     "output_type": "display_data"
    },
    {
     "data": {
      "image/png": "[encoded data removed]",
      "text/plain": [
       "<Figure size 432x288 with 1 Axes>"
      ]
     },
     "metadata": {
      "needs_background": "light"
     },
     "output_type": "display_data"
    },
    {
     "data": {
      "image/png": "[encoded data removed]",
      "text/plain": [
       "<Figure size 432x288 with 1 Axes>"
      ]
     },
     "metadata": {
      "needs_background": "light"
     },
     "output_type": "display_data"
    },
    {
     "data": {
      "image/png": "[encoded data removed]",
      "text/plain": [
       "<Figure size 432x288 with 1 Axes>"
      ]
     },
     "metadata": {
      "needs_background": "light"
     },
     "output_type": "display_data"
    }
   ],
   "source": [
    "#| layout-ncol: 2\n",
    "df = pd.read_csv(os.path.join(csv_path,'daily_boardings_by_line.csv'), index_col='agency')\n",
    "df = df[-df['agency_id'].isnull()]\n",
    "\n",
    "for agency in np.unique(df.index):\n",
    "    _df = df.loc[agency,:]\n",
    "    if (type(_df) == pd.core.frame.DataFrame) & (len(df) > 0):\n",
    "        ax = _df.plot(kind='scatter', x='observed_boardings', y='model_boardings', label=agency)\n",
    "        lim = _df[['observed_boardings','model_boardings']].max().max()*1.05\n",
    "        ax.set_ylim(0,lim)\n",
    "        ax.set_xlim(0,lim)\n",
    "        x = np.linspace(*ax.get_xlim())\n",
    "        ax.plot(x, x)\n",
    "        slope, intercept, r_value, p_value, std_err = stats.linregress(_df['observed_boardings'],_df['model_boardings'])\n",
    "        print('r^2 ' + str(agency) + ': ' + str(r_value))"
   ]
  },
  {
   "cell_type": "markdown",
   "id": "4539ddda98821ff2",
   "metadata": {},
   "source": [
    "### boarding by light rail station"
   ]
  },
  {
   "cell_type": "raw",
   "id": "1a2860ab52ea5101",
   "metadata": {
    "vscode": {
     "languageId": "raw"
    }
   },
   "source": [
    ":::{.panel-tabset}\n",
    "#### 1 Line"
   ]
  },
  {
   "cell_type": "code",
   "execution_count": 26,
   "id": "2c245b8117693726",
   "metadata": {
    "ExecuteTime": {
     "end_time": "2024-06-24T20:06:01.435477Z",
     "start_time": "2024-06-24T20:06:01.389414Z"
    },
    "execution": {
     "iopub.execute_input": "2024-12-14T02:38:42.844979Z",
     "iopub.status.busy": "2024-12-14T02:38:42.843982Z",
     "iopub.status.idle": "2024-12-14T02:38:42.910989Z",
     "shell.execute_reply": "2024-12-14T02:38:42.908994Z"
    }
   },
   "outputs": [],
   "source": [
    "df = pd.read_csv(os.path.join(csv_path,'light_rail_boardings.csv'), index_col='station_name')\n",
    "df['diff'] = df['model_boardings']-df['observed_boardings']\n",
    "df['percent_diff'] = df['diff']/df['observed_boardings']\n",
    "\n",
    "df_table = df.copy()\n",
    "df_table[['percent_diff']] = df_table[['percent_diff']].applymap(format_percent)\n",
    "df_table\n",
    "\n",
    "line_1_station_list = ['Northgate Station','Roosevelt Station','University District Station', \n",
    "                'Husky Stadium', 'Capitol Hill', 'Westlake', 'Symphony', 'Pioneer Square',\n",
    "                \"Int'l District\",  'Stadium', 'SODO', 'Beacon Hill',\n",
    "               'Mount Baker', 'Columbia City', 'Othello', 'Rainier Beach',\n",
    "                \"Tukwila Int'l Blvd\", 'SeaTac/Airport', 'Angle Lake']\n",
    "t_line_station_list = ['Tacoma Dome Station', 'S 25th St Station', 'Union Station',\n",
    "       'Convention Center Station', 'Commerce Station']"
   ]
  },
  {
   "cell_type": "code",
   "execution_count": 27,
   "id": "d1ef9fda",
   "metadata": {},
   "outputs": [
    {
     "data": {
      "text/html": [
       "<div>\n",
       "<style scoped>\n",
       "    .dataframe tbody tr th:only-of-type {\n",
       "        vertical-align: middle;\n",
       "    }\n",
       "\n",
       "    .dataframe tbody tr th {\n",
       "        vertical-align: top;\n",
       "    }\n",
       "\n",
       "    .dataframe thead th {\n",
       "        text-align: right;\n",
       "    }\n",
       "</style>\n",
       "<table border=\"1\" class=\"dataframe\">\n",
       "  <thead>\n",
       "    <tr style=\"text-align: right;\">\n",
       "      <th></th>\n",
       "      <th>observed_boardings</th>\n",
       "      <th>model_boardings</th>\n",
       "      <th>diff</th>\n",
       "      <th>percent_diff</th>\n",
       "    </tr>\n",
       "    <tr>\n",
       "      <th>station_name</th>\n",
       "      <th></th>\n",
       "      <th></th>\n",
       "      <th></th>\n",
       "      <th></th>\n",
       "    </tr>\n",
       "  </thead>\n",
       "  <tbody>\n",
       "    <tr>\n",
       "      <th>Northgate Station</th>\n",
       "      <td>10,384.00</td>\n",
       "      <td>9,288.10</td>\n",
       "      <td>-1,095.90</td>\n",
       "      <td>-10.55%</td>\n",
       "    </tr>\n",
       "    <tr>\n",
       "      <th>Roosevelt Station</th>\n",
       "      <td>4,349.00</td>\n",
       "      <td>9,125.12</td>\n",
       "      <td>4,776.12</td>\n",
       "      <td>109.82%</td>\n",
       "    </tr>\n",
       "    <tr>\n",
       "      <th>University District Station</th>\n",
       "      <td>7,563.00</td>\n",
       "      <td>7,778.87</td>\n",
       "      <td>215.87</td>\n",
       "      <td>2.85%</td>\n",
       "    </tr>\n",
       "    <tr>\n",
       "      <th>Husky Stadium</th>\n",
       "      <td>6,134.00</td>\n",
       "      <td>4,145.48</td>\n",
       "      <td>-1,988.52</td>\n",
       "      <td>-32.42%</td>\n",
       "    </tr>\n",
       "    <tr>\n",
       "      <th>Capitol Hill</th>\n",
       "      <td>7,667.00</td>\n",
       "      <td>8,801.07</td>\n",
       "      <td>1,134.07</td>\n",
       "      <td>14.79%</td>\n",
       "    </tr>\n",
       "    <tr>\n",
       "      <th>Westlake</th>\n",
       "      <td>8,845.00</td>\n",
       "      <td>11,631.44</td>\n",
       "      <td>2,786.44</td>\n",
       "      <td>31.50%</td>\n",
       "    </tr>\n",
       "    <tr>\n",
       "      <th>Symphony</th>\n",
       "      <td>4,324.00</td>\n",
       "      <td>6,731.68</td>\n",
       "      <td>2,407.68</td>\n",
       "      <td>55.68%</td>\n",
       "    </tr>\n",
       "    <tr>\n",
       "      <th>Pioneer Square</th>\n",
       "      <td>2,400.00</td>\n",
       "      <td>5,235.38</td>\n",
       "      <td>2,835.38</td>\n",
       "      <td>118.14%</td>\n",
       "    </tr>\n",
       "    <tr>\n",
       "      <th>Int'l District</th>\n",
       "      <td>4,399.00</td>\n",
       "      <td>1,950.14</td>\n",
       "      <td>-2,448.86</td>\n",
       "      <td>-55.67%</td>\n",
       "    </tr>\n",
       "    <tr>\n",
       "      <th>Stadium</th>\n",
       "      <td>1,731.00</td>\n",
       "      <td>353.44</td>\n",
       "      <td>-1,377.56</td>\n",
       "      <td>-79.58%</td>\n",
       "    </tr>\n",
       "    <tr>\n",
       "      <th>SODO</th>\n",
       "      <td>1,669.00</td>\n",
       "      <td>2,486.17</td>\n",
       "      <td>817.17</td>\n",
       "      <td>48.96%</td>\n",
       "    </tr>\n",
       "    <tr>\n",
       "      <th>Beacon Hill</th>\n",
       "      <td>2,147.00</td>\n",
       "      <td>1,399.96</td>\n",
       "      <td>-747.04</td>\n",
       "      <td>-34.79%</td>\n",
       "    </tr>\n",
       "    <tr>\n",
       "      <th>Mount Baker</th>\n",
       "      <td>1,861.00</td>\n",
       "      <td>1,751.93</td>\n",
       "      <td>-109.07</td>\n",
       "      <td>-5.86%</td>\n",
       "    </tr>\n",
       "    <tr>\n",
       "      <th>Columbia City</th>\n",
       "      <td>1,630.00</td>\n",
       "      <td>1,820.37</td>\n",
       "      <td>190.37</td>\n",
       "      <td>11.68%</td>\n",
       "    </tr>\n",
       "    <tr>\n",
       "      <th>Othello</th>\n",
       "      <td>2,030.00</td>\n",
       "      <td>2,257.86</td>\n",
       "      <td>227.86</td>\n",
       "      <td>11.22%</td>\n",
       "    </tr>\n",
       "    <tr>\n",
       "      <th>Rainier Beach</th>\n",
       "      <td>1,495.00</td>\n",
       "      <td>1,841.83</td>\n",
       "      <td>346.83</td>\n",
       "      <td>23.20%</td>\n",
       "    </tr>\n",
       "    <tr>\n",
       "      <th>Tukwila Int'l Blvd</th>\n",
       "      <td>2,298.00</td>\n",
       "      <td>2,982.98</td>\n",
       "      <td>684.98</td>\n",
       "      <td>29.81%</td>\n",
       "    </tr>\n",
       "    <tr>\n",
       "      <th>SeaTac/Airport</th>\n",
       "      <td>4,731.00</td>\n",
       "      <td>6,298.60</td>\n",
       "      <td>1,567.60</td>\n",
       "      <td>33.13%</td>\n",
       "    </tr>\n",
       "    <tr>\n",
       "      <th>Angle Lake</th>\n",
       "      <td>3,865.00</td>\n",
       "      <td>2,961.59</td>\n",
       "      <td>-903.41</td>\n",
       "      <td>-23.37%</td>\n",
       "    </tr>\n",
       "  </tbody>\n",
       "</table>\n",
       "</div>"
      ],
      "text/plain": [
       "                             observed_boardings  model_boardings      diff  \\\n",
       "station_name                                                                 \n",
       "Northgate Station                     10,384.00         9,288.10 -1,095.90   \n",
       "Roosevelt Station                      4,349.00         9,125.12  4,776.12   \n",
       "University District Station            7,563.00         7,778.87    215.87   \n",
       "Husky Stadium                          6,134.00         4,145.48 -1,988.52   \n",
       "Capitol Hill                           7,667.00         8,801.07  1,134.07   \n",
       "Westlake                               8,845.00        11,631.44  2,786.44   \n",
       "Symphony                               4,324.00         6,731.68  2,407.68   \n",
       "Pioneer Square                         2,400.00         5,235.38  2,835.38   \n",
       "Int'l District                         4,399.00         1,950.14 -2,448.86   \n",
       "Stadium                                1,731.00           353.44 -1,377.56   \n",
       "SODO                                   1,669.00         2,486.17    817.17   \n",
       "Beacon Hill                            2,147.00         1,399.96   -747.04   \n",
       "Mount Baker                            1,861.00         1,751.93   -109.07   \n",
       "Columbia City                          1,630.00         1,820.37    190.37   \n",
       "Othello                                2,030.00         2,257.86    227.86   \n",
       "Rainier Beach                          1,495.00         1,841.83    346.83   \n",
       "Tukwila Int'l Blvd                     2,298.00         2,982.98    684.98   \n",
       "SeaTac/Airport                         4,731.00         6,298.60  1,567.60   \n",
       "Angle Lake                             3,865.00         2,961.59   -903.41   \n",
       "\n",
       "                            percent_diff  \n",
       "station_name                              \n",
       "Northgate Station                -10.55%  \n",
       "Roosevelt Station                109.82%  \n",
       "University District Station        2.85%  \n",
       "Husky Stadium                    -32.42%  \n",
       "Capitol Hill                      14.79%  \n",
       "Westlake                          31.50%  \n",
       "Symphony                          55.68%  \n",
       "Pioneer Square                   118.14%  \n",
       "Int'l District                   -55.67%  \n",
       "Stadium                          -79.58%  \n",
       "SODO                              48.96%  \n",
       "Beacon Hill                      -34.79%  \n",
       "Mount Baker                       -5.86%  \n",
       "Columbia City                     11.68%  \n",
       "Othello                           11.22%  \n",
       "Rainier Beach                     23.20%  \n",
       "Tukwila Int'l Blvd                29.81%  \n",
       "SeaTac/Airport                    33.13%  \n",
       "Angle Lake                       -23.37%  "
      ]
     },
     "execution_count": 27,
     "metadata": {},
     "output_type": "execute_result"
    }
   ],
   "source": [
    "line_1_df = df_table.loc[line_1_station_list]\n",
    "line_1_df"
   ]
  },
  {
   "cell_type": "code",
   "execution_count": 28,
   "id": "76eb1c04",
   "metadata": {},
   "outputs": [
    {
     "data": {
      "application/vnd.plotly.v1+json": {
       "config": {
        "plotlyServerURL": "https://plot.ly"
       },
       "data": [
        {
         "hovertemplate": "variable=observed_boardings<br>station_name=%{x}<br>value=%{y}<extra></extra>",
         "legendgroup": "observed_boardings",
         "line": {
          "color": "#91268F",
          "dash": "solid"
         },
         "marker": {
          "symbol": "circle"
         },
         "mode": "lines",
         "name": "observed_boardings",
         "orientation": "v",
         "showlegend": true,
         "type": "scatter",
         "x": [
          "Northgate Station",
          "Roosevelt Station",
          "University District Station",
          "Husky Stadium",
          "Capitol Hill",
          "Westlake",
          "Symphony",
          "Pioneer Square",
          "Int'l District",
          "Stadium",
          "SODO",
          "Beacon Hill",
          "Mount Baker",
          "Columbia City",
          "Othello",
          "Rainier Beach",
          "Tukwila Int'l Blvd",
          "SeaTac/Airport",
          "Angle Lake"
         ],
         "xaxis": "x",
         "y": [
          10384,
          4349,
          7563,
          6134,
          7667,
          8845,
          4324,
          2400,
          4399,
          1731,
          1669,
          2147,
          1861,
          1630,
          2030,
          1495,
          2298,
          4731,
          3865
         ],
         "yaxis": "y"
        },
        {
         "hovertemplate": "variable=model_boardings<br>station_name=%{x}<br>value=%{y}<extra></extra>",
         "legendgroup": "model_boardings",
         "line": {
          "color": "#8CC63E",
          "dash": "solid"
         },
         "marker": {
          "symbol": "circle"
         },
         "mode": "lines",
         "name": "model_boardings",
         "orientation": "v",
         "showlegend": true,
         "type": "scatter",
         "x": [
          "Northgate Station",
          "Roosevelt Station",
          "University District Station",
          "Husky Stadium",
          "Capitol Hill",
          "Westlake",
          "Symphony",
          "Pioneer Square",
          "Int'l District",
          "Stadium",
          "SODO",
          "Beacon Hill",
          "Mount Baker",
          "Columbia City",
          "Othello",
          "Rainier Beach",
          "Tukwila Int'l Blvd",
          "SeaTac/Airport",
          "Angle Lake"
         ],
         "xaxis": "x",
         "y": [
          9288.096160888672,
          9125.120646238329,
          7778.868997097015,
          4145.483870983124,
          8801.06637763977,
          11631.43842124939,
          6731.676235198975,
          5235.384432792664,
          1950.144684791565,
          353.44025018811226,
          2486.1651678085327,
          1399.9604616761208,
          1751.9272738695145,
          1820.3703227043152,
          2257.8563580513,
          1841.8336186409,
          2982.983142375946,
          6298.603131473064,
          2961.588607788086
         ],
         "yaxis": "y"
        }
       ],
       "layout": {
        "font": {
         "size": 11
        },
        "height": 500,
        "legend": {
         "title": {
          "text": "variable"
         },
         "tracegroupgap": 0
        },
        "margin": {
         "t": 60
        },
        "template": {
         "data": {
          "bar": [
           {
            "error_x": {
             "color": "rgb(36,36,36)"
            },
            "error_y": {
             "color": "rgb(36,36,36)"
            },
            "marker": {
             "line": {
              "color": "white",
              "width": 0.5
             },
             "pattern": {
              "fillmode": "overlay",
              "size": 10,
              "solidity": 0.2
             }
            },
            "type": "bar"
           }
          ],
          "barpolar": [
           {
            "marker": {
             "line": {
              "color": "white",
              "width": 0.5
             },
             "pattern": {
              "fillmode": "overlay",
              "size": 10,
              "solidity": 0.2
             }
            },
            "type": "barpolar"
           }
          ],
          "carpet": [
           {
            "aaxis": {
             "endlinecolor": "rgb(36,36,36)",
             "gridcolor": "white",
             "linecolor": "white",
             "minorgridcolor": "white",
             "startlinecolor": "rgb(36,36,36)"
            },
            "baxis": {
             "endlinecolor": "rgb(36,36,36)",
             "gridcolor": "white",
             "linecolor": "white",
             "minorgridcolor": "white",
             "startlinecolor": "rgb(36,36,36)"
            },
            "type": "carpet"
           }
          ],
          "choropleth": [
           {
            "colorbar": {
             "outlinewidth": 1,
             "tickcolor": "rgb(36,36,36)",
             "ticks": "outside"
            },
            "type": "choropleth"
           }
          ],
          "contour": [
           {
            "colorbar": {
             "outlinewidth": 1,
             "tickcolor": "rgb(36,36,36)",
             "ticks": "outside"
            },
            "colorscale": [
             [
              0,
              "#440154"
             ],
             [
              0.1111111111111111,
              "#482878"
             ],
             [
              0.2222222222222222,
              "#3e4989"
             ],
             [
              0.3333333333333333,
              "#31688e"
             ],
             [
              0.4444444444444444,
              "#26828e"
             ],
             [
              0.5555555555555556,
              "#1f9e89"
             ],
             [
              0.6666666666666666,
              "#35b779"
             ],
             [
              0.7777777777777778,
              "#6ece58"
             ],
             [
              0.8888888888888888,
              "#b5de2b"
             ],
             [
              1,
              "#fde725"
             ]
            ],
            "type": "contour"
           }
          ],
          "contourcarpet": [
           {
            "colorbar": {
             "outlinewidth": 1,
             "tickcolor": "rgb(36,36,36)",
             "ticks": "outside"
            },
            "type": "contourcarpet"
           }
          ],
          "heatmap": [
           {
            "colorbar": {
             "outlinewidth": 1,
             "tickcolor": "rgb(36,36,36)",
             "ticks": "outside"
            },
            "colorscale": [
             [
              0,
              "#440154"
             ],
             [
              0.1111111111111111,
              "#482878"
             ],
             [
              0.2222222222222222,
              "#3e4989"
             ],
             [
              0.3333333333333333,
              "#31688e"
             ],
             [
              0.4444444444444444,
              "#26828e"
             ],
             [
              0.5555555555555556,
              "#1f9e89"
             ],
             [
              0.6666666666666666,
              "#35b779"
             ],
             [
              0.7777777777777778,
              "#6ece58"
             ],
             [
              0.8888888888888888,
              "#b5de2b"
             ],
             [
              1,
              "#fde725"
             ]
            ],
            "type": "heatmap"
           }
          ],
          "heatmapgl": [
           {
            "colorbar": {
             "outlinewidth": 1,
             "tickcolor": "rgb(36,36,36)",
             "ticks": "outside"
            },
            "colorscale": [
             [
              0,
              "#440154"
             ],
             [
              0.1111111111111111,
              "#482878"
             ],
             [
              0.2222222222222222,
              "#3e4989"
             ],
             [
              0.3333333333333333,
              "#31688e"
             ],
             [
              0.4444444444444444,
              "#26828e"
             ],
             [
              0.5555555555555556,
              "#1f9e89"
             ],
             [
              0.6666666666666666,
              "#35b779"
             ],
             [
              0.7777777777777778,
              "#6ece58"
             ],
             [
              0.8888888888888888,
              "#b5de2b"
             ],
             [
              1,
              "#fde725"
             ]
            ],
            "type": "heatmapgl"
           }
          ],
          "histogram": [
           {
            "marker": {
             "line": {
              "color": "white",
              "width": 0.6
             }
            },
            "type": "histogram"
           }
          ],
          "histogram2d": [
           {
            "colorbar": {
             "outlinewidth": 1,
             "tickcolor": "rgb(36,36,36)",
             "ticks": "outside"
            },
            "colorscale": [
             [
              0,
              "#440154"
             ],
             [
              0.1111111111111111,
              "#482878"
             ],
             [
              0.2222222222222222,
              "#3e4989"
             ],
             [
              0.3333333333333333,
              "#31688e"
             ],
             [
              0.4444444444444444,
              "#26828e"
             ],
             [
              0.5555555555555556,
              "#1f9e89"
             ],
             [
              0.6666666666666666,
              "#35b779"
             ],
             [
              0.7777777777777778,
              "#6ece58"
             ],
             [
              0.8888888888888888,
              "#b5de2b"
             ],
             [
              1,
              "#fde725"
             ]
            ],
            "type": "histogram2d"
           }
          ],
          "histogram2dcontour": [
           {
            "colorbar": {
             "outlinewidth": 1,
             "tickcolor": "rgb(36,36,36)",
             "ticks": "outside"
            },
            "colorscale": [
             [
              0,
              "#440154"
             ],
             [
              0.1111111111111111,
              "#482878"
             ],
             [
              0.2222222222222222,
              "#3e4989"
             ],
             [
              0.3333333333333333,
              "#31688e"
             ],
             [
              0.4444444444444444,
              "#26828e"
             ],
             [
              0.5555555555555556,
              "#1f9e89"
             ],
             [
              0.6666666666666666,
              "#35b779"
             ],
             [
              0.7777777777777778,
              "#6ece58"
             ],
             [
              0.8888888888888888,
              "#b5de2b"
             ],
             [
              1,
              "#fde725"
             ]
            ],
            "type": "histogram2dcontour"
           }
          ],
          "mesh3d": [
           {
            "colorbar": {
             "outlinewidth": 1,
             "tickcolor": "rgb(36,36,36)",
             "ticks": "outside"
            },
            "type": "mesh3d"
           }
          ],
          "parcoords": [
           {
            "line": {
             "colorbar": {
              "outlinewidth": 1,
              "tickcolor": "rgb(36,36,36)",
              "ticks": "outside"
             }
            },
            "type": "parcoords"
           }
          ],
          "pie": [
           {
            "automargin": true,
            "type": "pie"
           }
          ],
          "scatter": [
           {
            "fillpattern": {
             "fillmode": "overlay",
             "size": 10,
             "solidity": 0.2
            },
            "type": "scatter"
           }
          ],
          "scatter3d": [
           {
            "line": {
             "colorbar": {
              "outlinewidth": 1,
              "tickcolor": "rgb(36,36,36)",
              "ticks": "outside"
             }
            },
            "marker": {
             "colorbar": {
              "outlinewidth": 1,
              "tickcolor": "rgb(36,36,36)",
              "ticks": "outside"
             }
            },
            "type": "scatter3d"
           }
          ],
          "scattercarpet": [
           {
            "marker": {
             "colorbar": {
              "outlinewidth": 1,
              "tickcolor": "rgb(36,36,36)",
              "ticks": "outside"
             }
            },
            "type": "scattercarpet"
           }
          ],
          "scattergeo": [
           {
            "marker": {
             "colorbar": {
              "outlinewidth": 1,
              "tickcolor": "rgb(36,36,36)",
              "ticks": "outside"
             }
            },
            "type": "scattergeo"
           }
          ],
          "scattergl": [
           {
            "marker": {
             "colorbar": {
              "outlinewidth": 1,
              "tickcolor": "rgb(36,36,36)",
              "ticks": "outside"
             }
            },
            "type": "scattergl"
           }
          ],
          "scattermapbox": [
           {
            "marker": {
             "colorbar": {
              "outlinewidth": 1,
              "tickcolor": "rgb(36,36,36)",
              "ticks": "outside"
             }
            },
            "type": "scattermapbox"
           }
          ],
          "scatterpolar": [
           {
            "marker": {
             "colorbar": {
              "outlinewidth": 1,
              "tickcolor": "rgb(36,36,36)",
              "ticks": "outside"
             }
            },
            "type": "scatterpolar"
           }
          ],
          "scatterpolargl": [
           {
            "marker": {
             "colorbar": {
              "outlinewidth": 1,
              "tickcolor": "rgb(36,36,36)",
              "ticks": "outside"
             }
            },
            "type": "scatterpolargl"
           }
          ],
          "scatterternary": [
           {
            "marker": {
             "colorbar": {
              "outlinewidth": 1,
              "tickcolor": "rgb(36,36,36)",
              "ticks": "outside"
             }
            },
            "type": "scatterternary"
           }
          ],
          "surface": [
           {
            "colorbar": {
             "outlinewidth": 1,
             "tickcolor": "rgb(36,36,36)",
             "ticks": "outside"
            },
            "colorscale": [
             [
              0,
              "#440154"
             ],
             [
              0.1111111111111111,
              "#482878"
             ],
             [
              0.2222222222222222,
              "#3e4989"
             ],
             [
              0.3333333333333333,
              "#31688e"
             ],
             [
              0.4444444444444444,
              "#26828e"
             ],
             [
              0.5555555555555556,
              "#1f9e89"
             ],
             [
              0.6666666666666666,
              "#35b779"
             ],
             [
              0.7777777777777778,
              "#6ece58"
             ],
             [
              0.8888888888888888,
              "#b5de2b"
             ],
             [
              1,
              "#fde725"
             ]
            ],
            "type": "surface"
           }
          ],
          "table": [
           {
            "cells": {
             "fill": {
              "color": "rgb(237,237,237)"
             },
             "line": {
              "color": "white"
             }
            },
            "header": {
             "fill": {
              "color": "rgb(217,217,217)"
             },
             "line": {
              "color": "white"
             }
            },
            "type": "table"
           }
          ]
         },
         "layout": {
          "annotationdefaults": {
           "arrowhead": 0,
           "arrowwidth": 1
          },
          "autotypenumbers": "strict",
          "coloraxis": {
           "colorbar": {
            "outlinewidth": 1,
            "tickcolor": "rgb(36,36,36)",
            "ticks": "outside"
           }
          },
          "colorscale": {
           "diverging": [
            [
             0,
             "rgb(103,0,31)"
            ],
            [
             0.1,
             "rgb(178,24,43)"
            ],
            [
             0.2,
             "rgb(214,96,77)"
            ],
            [
             0.3,
             "rgb(244,165,130)"
            ],
            [
             0.4,
             "rgb(253,219,199)"
            ],
            [
             0.5,
             "rgb(247,247,247)"
            ],
            [
             0.6,
             "rgb(209,229,240)"
            ],
            [
             0.7,
             "rgb(146,197,222)"
            ],
            [
             0.8,
             "rgb(67,147,195)"
            ],
            [
             0.9,
             "rgb(33,102,172)"
            ],
            [
             1,
             "rgb(5,48,97)"
            ]
           ],
           "sequential": [
            [
             0,
             "#440154"
            ],
            [
             0.1111111111111111,
             "#482878"
            ],
            [
             0.2222222222222222,
             "#3e4989"
            ],
            [
             0.3333333333333333,
             "#31688e"
            ],
            [
             0.4444444444444444,
             "#26828e"
            ],
            [
             0.5555555555555556,
             "#1f9e89"
            ],
            [
             0.6666666666666666,
             "#35b779"
            ],
            [
             0.7777777777777778,
             "#6ece58"
            ],
            [
             0.8888888888888888,
             "#b5de2b"
            ],
            [
             1,
             "#fde725"
            ]
           ],
           "sequentialminus": [
            [
             0,
             "#440154"
            ],
            [
             0.1111111111111111,
             "#482878"
            ],
            [
             0.2222222222222222,
             "#3e4989"
            ],
            [
             0.3333333333333333,
             "#31688e"
            ],
            [
             0.4444444444444444,
             "#26828e"
            ],
            [
             0.5555555555555556,
             "#1f9e89"
            ],
            [
             0.6666666666666666,
             "#35b779"
            ],
            [
             0.7777777777777778,
             "#6ece58"
            ],
            [
             0.8888888888888888,
             "#b5de2b"
            ],
            [
             1,
             "#fde725"
            ]
           ]
          },
          "colorway": [
           "#91268F",
           "#8CC63E",
           "#00A7A0",
           "#F05A28",
           "#4C4C4C",
           "#630460",
           "#9f3913",
           "#588527",
           "#00716c",
           "#3e4040"
          ],
          "font": {
           "color": "rgb(36,36,36)",
           "family": "Poppins",
           "size": 11
          },
          "geo": {
           "bgcolor": "white",
           "lakecolor": "white",
           "landcolor": "white",
           "showlakes": true,
           "showland": true,
           "subunitcolor": "white"
          },
          "hoverlabel": {
           "align": "left"
          },
          "hovermode": "closest",
          "mapbox": {
           "style": "light"
          },
          "paper_bgcolor": "white",
          "plot_bgcolor": "white",
          "polar": {
           "angularaxis": {
            "gridcolor": "rgb(232,232,232)",
            "linecolor": "rgb(36,36,36)",
            "showgrid": false,
            "showline": true,
            "ticks": "outside"
           },
           "bgcolor": "white",
           "radialaxis": {
            "gridcolor": "rgb(232,232,232)",
            "linecolor": "rgb(36,36,36)",
            "showgrid": false,
            "showline": true,
            "ticks": "outside"
           }
          },
          "scene": {
           "xaxis": {
            "backgroundcolor": "white",
            "gridcolor": "rgb(232,232,232)",
            "gridwidth": 2,
            "linecolor": "rgb(36,36,36)",
            "showbackground": true,
            "showgrid": false,
            "showline": true,
            "ticks": "outside",
            "zeroline": false,
            "zerolinecolor": "rgb(36,36,36)"
           },
           "yaxis": {
            "backgroundcolor": "white",
            "gridcolor": "rgb(232,232,232)",
            "gridwidth": 2,
            "linecolor": "rgb(36,36,36)",
            "showbackground": true,
            "showgrid": false,
            "showline": true,
            "ticks": "outside",
            "zeroline": false,
            "zerolinecolor": "rgb(36,36,36)"
           },
           "zaxis": {
            "backgroundcolor": "white",
            "gridcolor": "rgb(232,232,232)",
            "gridwidth": 2,
            "linecolor": "rgb(36,36,36)",
            "showbackground": true,
            "showgrid": false,
            "showline": true,
            "ticks": "outside",
            "zeroline": false,
            "zerolinecolor": "rgb(36,36,36)"
           }
          },
          "shapedefaults": {
           "fillcolor": "black",
           "line": {
            "width": 0
           },
           "opacity": 0.3
          },
          "ternary": {
           "aaxis": {
            "gridcolor": "rgb(232,232,232)",
            "linecolor": "rgb(36,36,36)",
            "showgrid": false,
            "showline": true,
            "ticks": "outside"
           },
           "baxis": {
            "gridcolor": "rgb(232,232,232)",
            "linecolor": "rgb(36,36,36)",
            "showgrid": false,
            "showline": true,
            "ticks": "outside"
           },
           "bgcolor": "white",
           "caxis": {
            "gridcolor": "rgb(232,232,232)",
            "linecolor": "rgb(36,36,36)",
            "showgrid": false,
            "showline": true,
            "ticks": "outside"
           }
          },
          "title": {
           "x": 0.05
          },
          "xaxis": {
           "automargin": true,
           "gridcolor": "rgb(232,232,232)",
           "linecolor": "rgb(36,36,36)",
           "showgrid": false,
           "showline": true,
           "ticks": "outside",
           "title": {
            "standoff": 15
           },
           "zeroline": false,
           "zerolinecolor": "rgb(36,36,36)"
          },
          "yaxis": {
           "automargin": true,
           "gridcolor": "rgb(232,232,232)",
           "linecolor": "rgb(36,36,36)",
           "showgrid": false,
           "showline": true,
           "ticks": "outside",
           "title": {
            "standoff": 15
           },
           "zeroline": false,
           "zerolinecolor": "rgb(36,36,36)"
          }
         }
        },
        "width": 900,
        "xaxis": {
         "anchor": "y",
         "domain": [
          0,
          1
         ],
         "title": {
          "text": "station_name"
         }
        },
        "yaxis": {
         "anchor": "x",
         "domain": [
          0,
          1
         ],
         "tickformat": ".00f",
         "title": {
          "text": "value"
         }
        }
       }
      },
      "text/html": [
       "<div>                            <div id=\"d580c484-2a63-417a-996d-41f56c9fd7cc\" class=\"plotly-graph-div\" style=\"height:500px; width:900px;\"></div>            <script type=\"text/javascript\">                require([\"plotly\"], function(Plotly) {                    window.PLOTLYENV=window.PLOTLYENV || {};                                    if (document.getElementById(\"d580c484-2a63-417a-996d-41f56c9fd7cc\")) {                    Plotly.newPlot(                        \"d580c484-2a63-417a-996d-41f56c9fd7cc\",                        [{\"hovertemplate\":\"variable=observed_boardings\\u003cbr\\u003estation_name=%{x}\\u003cbr\\u003evalue=%{y}\\u003cextra\\u003e\\u003c\\u002fextra\\u003e\",\"legendgroup\":\"observed_boardings\",\"line\":{\"color\":\"#91268F\",\"dash\":\"solid\"},\"marker\":{\"symbol\":\"circle\"},\"mode\":\"lines\",\"name\":\"observed_boardings\",\"orientation\":\"v\",\"showlegend\":true,\"x\":[\"Northgate Station\",\"Roosevelt Station\",\"University District Station\",\"Husky Stadium\",\"Capitol Hill\",\"Westlake\",\"Symphony\",\"Pioneer Square\",\"Int'l District\",\"Stadium\",\"SODO\",\"Beacon Hill\",\"Mount Baker\",\"Columbia City\",\"Othello\",\"Rainier Beach\",\"Tukwila Int'l Blvd\",\"SeaTac\\u002fAirport\",\"Angle Lake\"],\"xaxis\":\"x\",\"y\":[10384.0,4349.0,7563.0,6134.0,7667.0,8845.0,4324.0,2400.0,4399.0,1731.0,1669.0,2147.0,1861.0,1630.0,2030.0,1495.0,2298.0,4731.0,3865.0],\"yaxis\":\"y\",\"type\":\"scatter\"},{\"hovertemplate\":\"variable=model_boardings\\u003cbr\\u003estation_name=%{x}\\u003cbr\\u003evalue=%{y}\\u003cextra\\u003e\\u003c\\u002fextra\\u003e\",\"legendgroup\":\"model_boardings\",\"line\":{\"color\":\"#8CC63E\",\"dash\":\"solid\"},\"marker\":{\"symbol\":\"circle\"},\"mode\":\"lines\",\"name\":\"model_boardings\",\"orientation\":\"v\",\"showlegend\":true,\"x\":[\"Northgate Station\",\"Roosevelt Station\",\"University District Station\",\"Husky Stadium\",\"Capitol Hill\",\"Westlake\",\"Symphony\",\"Pioneer Square\",\"Int'l District\",\"Stadium\",\"SODO\",\"Beacon Hill\",\"Mount Baker\",\"Columbia City\",\"Othello\",\"Rainier Beach\",\"Tukwila Int'l Blvd\",\"SeaTac\\u002fAirport\",\"Angle Lake\"],\"xaxis\":\"x\",\"y\":[9288.096160888672,9125.120646238329,7778.868997097015,4145.483870983124,8801.06637763977,11631.43842124939,6731.676235198975,5235.384432792664,1950.144684791565,353.44025018811226,2486.1651678085327,1399.9604616761208,1751.9272738695145,1820.3703227043152,2257.8563580513,1841.8336186409,2982.983142375946,6298.603131473064,2961.588607788086],\"yaxis\":\"y\",\"type\":\"scatter\"}],                        {\"template\":{\"data\":{\"barpolar\":[{\"marker\":{\"line\":{\"color\":\"white\",\"width\":0.5},\"pattern\":{\"fillmode\":\"overlay\",\"size\":10,\"solidity\":0.2}},\"type\":\"barpolar\"}],\"bar\":[{\"error_x\":{\"color\":\"rgb(36,36,36)\"},\"error_y\":{\"color\":\"rgb(36,36,36)\"},\"marker\":{\"line\":{\"color\":\"white\",\"width\":0.5},\"pattern\":{\"fillmode\":\"overlay\",\"size\":10,\"solidity\":0.2}},\"type\":\"bar\"}],\"carpet\":[{\"aaxis\":{\"endlinecolor\":\"rgb(36,36,36)\",\"gridcolor\":\"white\",\"linecolor\":\"white\",\"minorgridcolor\":\"white\",\"startlinecolor\":\"rgb(36,36,36)\"},\"baxis\":{\"endlinecolor\":\"rgb(36,36,36)\",\"gridcolor\":\"white\",\"linecolor\":\"white\",\"minorgridcolor\":\"white\",\"startlinecolor\":\"rgb(36,36,36)\"},\"type\":\"carpet\"}],\"choropleth\":[{\"colorbar\":{\"outlinewidth\":1,\"tickcolor\":\"rgb(36,36,36)\",\"ticks\":\"outside\"},\"type\":\"choropleth\"}],\"contourcarpet\":[{\"colorbar\":{\"outlinewidth\":1,\"tickcolor\":\"rgb(36,36,36)\",\"ticks\":\"outside\"},\"type\":\"contourcarpet\"}],\"contour\":[{\"colorbar\":{\"outlinewidth\":1,\"tickcolor\":\"rgb(36,36,36)\",\"ticks\":\"outside\"},\"colorscale\":[[0.0,\"#440154\"],[0.1111111111111111,\"#482878\"],[0.2222222222222222,\"#3e4989\"],[0.3333333333333333,\"#31688e\"],[0.4444444444444444,\"#26828e\"],[0.5555555555555556,\"#1f9e89\"],[0.6666666666666666,\"#35b779\"],[0.7777777777777778,\"#6ece58\"],[0.8888888888888888,\"#b5de2b\"],[1.0,\"#fde725\"]],\"type\":\"contour\"}],\"heatmapgl\":[{\"colorbar\":{\"outlinewidth\":1,\"tickcolor\":\"rgb(36,36,36)\",\"ticks\":\"outside\"},\"colorscale\":[[0.0,\"#440154\"],[0.1111111111111111,\"#482878\"],[0.2222222222222222,\"#3e4989\"],[0.3333333333333333,\"#31688e\"],[0.4444444444444444,\"#26828e\"],[0.5555555555555556,\"#1f9e89\"],[0.6666666666666666,\"#35b779\"],[0.7777777777777778,\"#6ece58\"],[0.8888888888888888,\"#b5de2b\"],[1.0,\"#fde725\"]],\"type\":\"heatmapgl\"}],\"heatmap\":[{\"colorbar\":{\"outlinewidth\":1,\"tickcolor\":\"rgb(36,36,36)\",\"ticks\":\"outside\"},\"colorscale\":[[0.0,\"#440154\"],[0.1111111111111111,\"#482878\"],[0.2222222222222222,\"#3e4989\"],[0.3333333333333333,\"#31688e\"],[0.4444444444444444,\"#26828e\"],[0.5555555555555556,\"#1f9e89\"],[0.6666666666666666,\"#35b779\"],[0.7777777777777778,\"#6ece58\"],[0.8888888888888888,\"#b5de2b\"],[1.0,\"#fde725\"]],\"type\":\"heatmap\"}],\"histogram2dcontour\":[{\"colorbar\":{\"outlinewidth\":1,\"tickcolor\":\"rgb(36,36,36)\",\"ticks\":\"outside\"},\"colorscale\":[[0.0,\"#440154\"],[0.1111111111111111,\"#482878\"],[0.2222222222222222,\"#3e4989\"],[0.3333333333333333,\"#31688e\"],[0.4444444444444444,\"#26828e\"],[0.5555555555555556,\"#1f9e89\"],[0.6666666666666666,\"#35b779\"],[0.7777777777777778,\"#6ece58\"],[0.8888888888888888,\"#b5de2b\"],[1.0,\"#fde725\"]],\"type\":\"histogram2dcontour\"}],\"histogram2d\":[{\"colorbar\":{\"outlinewidth\":1,\"tickcolor\":\"rgb(36,36,36)\",\"ticks\":\"outside\"},\"colorscale\":[[0.0,\"#440154\"],[0.1111111111111111,\"#482878\"],[0.2222222222222222,\"#3e4989\"],[0.3333333333333333,\"#31688e\"],[0.4444444444444444,\"#26828e\"],[0.5555555555555556,\"#1f9e89\"],[0.6666666666666666,\"#35b779\"],[0.7777777777777778,\"#6ece58\"],[0.8888888888888888,\"#b5de2b\"],[1.0,\"#fde725\"]],\"type\":\"histogram2d\"}],\"histogram\":[{\"marker\":{\"line\":{\"color\":\"white\",\"width\":0.6}},\"type\":\"histogram\"}],\"mesh3d\":[{\"colorbar\":{\"outlinewidth\":1,\"tickcolor\":\"rgb(36,36,36)\",\"ticks\":\"outside\"},\"type\":\"mesh3d\"}],\"parcoords\":[{\"line\":{\"colorbar\":{\"outlinewidth\":1,\"tickcolor\":\"rgb(36,36,36)\",\"ticks\":\"outside\"}},\"type\":\"parcoords\"}],\"pie\":[{\"automargin\":true,\"type\":\"pie\"}],\"scatter3d\":[{\"line\":{\"colorbar\":{\"outlinewidth\":1,\"tickcolor\":\"rgb(36,36,36)\",\"ticks\":\"outside\"}},\"marker\":{\"colorbar\":{\"outlinewidth\":1,\"tickcolor\":\"rgb(36,36,36)\",\"ticks\":\"outside\"}},\"type\":\"scatter3d\"}],\"scattercarpet\":[{\"marker\":{\"colorbar\":{\"outlinewidth\":1,\"tickcolor\":\"rgb(36,36,36)\",\"ticks\":\"outside\"}},\"type\":\"scattercarpet\"}],\"scattergeo\":[{\"marker\":{\"colorbar\":{\"outlinewidth\":1,\"tickcolor\":\"rgb(36,36,36)\",\"ticks\":\"outside\"}},\"type\":\"scattergeo\"}],\"scattergl\":[{\"marker\":{\"colorbar\":{\"outlinewidth\":1,\"tickcolor\":\"rgb(36,36,36)\",\"ticks\":\"outside\"}},\"type\":\"scattergl\"}],\"scattermapbox\":[{\"marker\":{\"colorbar\":{\"outlinewidth\":1,\"tickcolor\":\"rgb(36,36,36)\",\"ticks\":\"outside\"}},\"type\":\"scattermapbox\"}],\"scatterpolargl\":[{\"marker\":{\"colorbar\":{\"outlinewidth\":1,\"tickcolor\":\"rgb(36,36,36)\",\"ticks\":\"outside\"}},\"type\":\"scatterpolargl\"}],\"scatterpolar\":[{\"marker\":{\"colorbar\":{\"outlinewidth\":1,\"tickcolor\":\"rgb(36,36,36)\",\"ticks\":\"outside\"}},\"type\":\"scatterpolar\"}],\"scatter\":[{\"fillpattern\":{\"fillmode\":\"overlay\",\"size\":10,\"solidity\":0.2},\"type\":\"scatter\"}],\"scatterternary\":[{\"marker\":{\"colorbar\":{\"outlinewidth\":1,\"tickcolor\":\"rgb(36,36,36)\",\"ticks\":\"outside\"}},\"type\":\"scatterternary\"}],\"surface\":[{\"colorbar\":{\"outlinewidth\":1,\"tickcolor\":\"rgb(36,36,36)\",\"ticks\":\"outside\"},\"colorscale\":[[0.0,\"#440154\"],[0.1111111111111111,\"#482878\"],[0.2222222222222222,\"#3e4989\"],[0.3333333333333333,\"#31688e\"],[0.4444444444444444,\"#26828e\"],[0.5555555555555556,\"#1f9e89\"],[0.6666666666666666,\"#35b779\"],[0.7777777777777778,\"#6ece58\"],[0.8888888888888888,\"#b5de2b\"],[1.0,\"#fde725\"]],\"type\":\"surface\"}],\"table\":[{\"cells\":{\"fill\":{\"color\":\"rgb(237,237,237)\"},\"line\":{\"color\":\"white\"}},\"header\":{\"fill\":{\"color\":\"rgb(217,217,217)\"},\"line\":{\"color\":\"white\"}},\"type\":\"table\"}]},\"layout\":{\"annotationdefaults\":{\"arrowhead\":0,\"arrowwidth\":1},\"autotypenumbers\":\"strict\",\"coloraxis\":{\"colorbar\":{\"outlinewidth\":1,\"tickcolor\":\"rgb(36,36,36)\",\"ticks\":\"outside\"}},\"colorscale\":{\"diverging\":[[0.0,\"rgb(103,0,31)\"],[0.1,\"rgb(178,24,43)\"],[0.2,\"rgb(214,96,77)\"],[0.3,\"rgb(244,165,130)\"],[0.4,\"rgb(253,219,199)\"],[0.5,\"rgb(247,247,247)\"],[0.6,\"rgb(209,229,240)\"],[0.7,\"rgb(146,197,222)\"],[0.8,\"rgb(67,147,195)\"],[0.9,\"rgb(33,102,172)\"],[1.0,\"rgb(5,48,97)\"]],\"sequential\":[[0.0,\"#440154\"],[0.1111111111111111,\"#482878\"],[0.2222222222222222,\"#3e4989\"],[0.3333333333333333,\"#31688e\"],[0.4444444444444444,\"#26828e\"],[0.5555555555555556,\"#1f9e89\"],[0.6666666666666666,\"#35b779\"],[0.7777777777777778,\"#6ece58\"],[0.8888888888888888,\"#b5de2b\"],[1.0,\"#fde725\"]],\"sequentialminus\":[[0.0,\"#440154\"],[0.1111111111111111,\"#482878\"],[0.2222222222222222,\"#3e4989\"],[0.3333333333333333,\"#31688e\"],[0.4444444444444444,\"#26828e\"],[0.5555555555555556,\"#1f9e89\"],[0.6666666666666666,\"#35b779\"],[0.7777777777777778,\"#6ece58\"],[0.8888888888888888,\"#b5de2b\"],[1.0,\"#fde725\"]]},\"colorway\":[\"#91268F\",\"#8CC63E\",\"#00A7A0\",\"#F05A28\",\"#4C4C4C\",\"#630460\",\"#9f3913\",\"#588527\",\"#00716c\",\"#3e4040\"],\"font\":{\"color\":\"rgb(36,36,36)\",\"family\":\"Poppins\",\"size\":11},\"geo\":{\"bgcolor\":\"white\",\"lakecolor\":\"white\",\"landcolor\":\"white\",\"showlakes\":true,\"showland\":true,\"subunitcolor\":\"white\"},\"hoverlabel\":{\"align\":\"left\"},\"hovermode\":\"closest\",\"mapbox\":{\"style\":\"light\"},\"paper_bgcolor\":\"white\",\"plot_bgcolor\":\"white\",\"polar\":{\"angularaxis\":{\"gridcolor\":\"rgb(232,232,232)\",\"linecolor\":\"rgb(36,36,36)\",\"showgrid\":false,\"showline\":true,\"ticks\":\"outside\"},\"bgcolor\":\"white\",\"radialaxis\":{\"gridcolor\":\"rgb(232,232,232)\",\"linecolor\":\"rgb(36,36,36)\",\"showgrid\":false,\"showline\":true,\"ticks\":\"outside\"}},\"scene\":{\"xaxis\":{\"backgroundcolor\":\"white\",\"gridcolor\":\"rgb(232,232,232)\",\"gridwidth\":2,\"linecolor\":\"rgb(36,36,36)\",\"showbackground\":true,\"showgrid\":false,\"showline\":true,\"ticks\":\"outside\",\"zeroline\":false,\"zerolinecolor\":\"rgb(36,36,36)\"},\"yaxis\":{\"backgroundcolor\":\"white\",\"gridcolor\":\"rgb(232,232,232)\",\"gridwidth\":2,\"linecolor\":\"rgb(36,36,36)\",\"showbackground\":true,\"showgrid\":false,\"showline\":true,\"ticks\":\"outside\",\"zeroline\":false,\"zerolinecolor\":\"rgb(36,36,36)\"},\"zaxis\":{\"backgroundcolor\":\"white\",\"gridcolor\":\"rgb(232,232,232)\",\"gridwidth\":2,\"linecolor\":\"rgb(36,36,36)\",\"showbackground\":true,\"showgrid\":false,\"showline\":true,\"ticks\":\"outside\",\"zeroline\":false,\"zerolinecolor\":\"rgb(36,36,36)\"}},\"shapedefaults\":{\"fillcolor\":\"black\",\"line\":{\"width\":0},\"opacity\":0.3},\"ternary\":{\"aaxis\":{\"gridcolor\":\"rgb(232,232,232)\",\"linecolor\":\"rgb(36,36,36)\",\"showgrid\":false,\"showline\":true,\"ticks\":\"outside\"},\"baxis\":{\"gridcolor\":\"rgb(232,232,232)\",\"linecolor\":\"rgb(36,36,36)\",\"showgrid\":false,\"showline\":true,\"ticks\":\"outside\"},\"bgcolor\":\"white\",\"caxis\":{\"gridcolor\":\"rgb(232,232,232)\",\"linecolor\":\"rgb(36,36,36)\",\"showgrid\":false,\"showline\":true,\"ticks\":\"outside\"}},\"title\":{\"x\":0.05},\"xaxis\":{\"automargin\":true,\"gridcolor\":\"rgb(232,232,232)\",\"linecolor\":\"rgb(36,36,36)\",\"showgrid\":false,\"showline\":true,\"ticks\":\"outside\",\"title\":{\"standoff\":15},\"zeroline\":false,\"zerolinecolor\":\"rgb(36,36,36)\"},\"yaxis\":{\"automargin\":true,\"gridcolor\":\"rgb(232,232,232)\",\"linecolor\":\"rgb(36,36,36)\",\"showgrid\":false,\"showline\":true,\"ticks\":\"outside\",\"title\":{\"standoff\":15},\"zeroline\":false,\"zerolinecolor\":\"rgb(36,36,36)\"}}},\"xaxis\":{\"anchor\":\"y\",\"domain\":[0.0,1.0],\"title\":{\"text\":\"station_name\"}},\"yaxis\":{\"anchor\":\"x\",\"domain\":[0.0,1.0],\"title\":{\"text\":\"value\"},\"tickformat\":\".00f\"},\"legend\":{\"title\":{\"text\":\"variable\"},\"tracegroupgap\":0},\"margin\":{\"t\":60},\"font\":{\"size\":11},\"height\":500,\"width\":900},                        {\"responsive\": true}                    ).then(function(){\n",
       "                            \n",
       "var gd = document.getElementById('d580c484-2a63-417a-996d-41f56c9fd7cc');\n",
       "var x = new MutationObserver(function (mutations, observer) {{\n",
       "        var display = window.getComputedStyle(gd).display;\n",
       "        if (!display || display === 'none') {{\n",
       "            console.log([gd, 'removed!']);\n",
       "            Plotly.purge(gd);\n",
       "            observer.disconnect();\n",
       "        }}\n",
       "}});\n",
       "\n",
       "// Listen for the removal of the full notebook cells\n",
       "var notebookContainer = gd.closest('#notebook-container');\n",
       "if (notebookContainer) {{\n",
       "    x.observe(notebookContainer, {childList: true});\n",
       "}}\n",
       "\n",
       "// Listen for the clearing of the current output cell\n",
       "var outputEl = gd.closest('.output');\n",
       "if (outputEl) {{\n",
       "    x.observe(outputEl, {childList: true});\n",
       "}}\n",
       "\n",
       "                        })                };                });            </script>        </div>"
      ]
     },
     "metadata": {},
     "output_type": "display_data"
    }
   ],
   "source": [
    "fig = px.line(line_1_df[['observed_boardings','model_boardings']])\n",
    "fig.update_layout(height=500, width=900, font=dict(size=11),\n",
    "                  yaxis_tickformat = '.00f')\n",
    "fig.show()"
   ]
  },
  {
   "cell_type": "raw",
   "id": "9674332e",
   "metadata": {},
   "source": [
    "#### T-Line"
   ]
  },
  {
   "cell_type": "code",
   "execution_count": 29,
   "id": "9d9d2fcd",
   "metadata": {},
   "outputs": [
    {
     "data": {
      "text/html": [
       "<div>\n",
       "<style scoped>\n",
       "    .dataframe tbody tr th:only-of-type {\n",
       "        vertical-align: middle;\n",
       "    }\n",
       "\n",
       "    .dataframe tbody tr th {\n",
       "        vertical-align: top;\n",
       "    }\n",
       "\n",
       "    .dataframe thead th {\n",
       "        text-align: right;\n",
       "    }\n",
       "</style>\n",
       "<table border=\"1\" class=\"dataframe\">\n",
       "  <thead>\n",
       "    <tr style=\"text-align: right;\">\n",
       "      <th></th>\n",
       "      <th>observed_boardings</th>\n",
       "      <th>model_boardings</th>\n",
       "      <th>diff</th>\n",
       "      <th>percent_diff</th>\n",
       "    </tr>\n",
       "    <tr>\n",
       "      <th>station_name</th>\n",
       "      <th></th>\n",
       "      <th></th>\n",
       "      <th></th>\n",
       "      <th></th>\n",
       "    </tr>\n",
       "  </thead>\n",
       "  <tbody>\n",
       "    <tr>\n",
       "      <th>Tacoma Dome Station</th>\n",
       "      <td>494.00</td>\n",
       "      <td>269.68</td>\n",
       "      <td>-224.32</td>\n",
       "      <td>-45.41%</td>\n",
       "    </tr>\n",
       "    <tr>\n",
       "      <th>S 25th St Station</th>\n",
       "      <td>120.00</td>\n",
       "      <td>497.04</td>\n",
       "      <td>377.04</td>\n",
       "      <td>314.20%</td>\n",
       "    </tr>\n",
       "    <tr>\n",
       "      <th>Union Station</th>\n",
       "      <td>420.00</td>\n",
       "      <td>248.85</td>\n",
       "      <td>-171.15</td>\n",
       "      <td>-40.75%</td>\n",
       "    </tr>\n",
       "    <tr>\n",
       "      <th>Convention Center Station</th>\n",
       "      <td>91.00</td>\n",
       "      <td>692.01</td>\n",
       "      <td>601.01</td>\n",
       "      <td>660.45%</td>\n",
       "    </tr>\n",
       "    <tr>\n",
       "      <th>Commerce Station</th>\n",
       "      <td>294.00</td>\n",
       "      <td>495.13</td>\n",
       "      <td>201.13</td>\n",
       "      <td>68.41%</td>\n",
       "    </tr>\n",
       "  </tbody>\n",
       "</table>\n",
       "</div>"
      ],
      "text/plain": [
       "                           observed_boardings  model_boardings    diff  \\\n",
       "station_name                                                             \n",
       "Tacoma Dome Station                    494.00           269.68 -224.32   \n",
       "S 25th St Station                      120.00           497.04  377.04   \n",
       "Union Station                          420.00           248.85 -171.15   \n",
       "Convention Center Station               91.00           692.01  601.01   \n",
       "Commerce Station                       294.00           495.13  201.13   \n",
       "\n",
       "                          percent_diff  \n",
       "station_name                            \n",
       "Tacoma Dome Station            -45.41%  \n",
       "S 25th St Station              314.20%  \n",
       "Union Station                  -40.75%  \n",
       "Convention Center Station      660.45%  \n",
       "Commerce Station                68.41%  "
      ]
     },
     "execution_count": 29,
     "metadata": {},
     "output_type": "execute_result"
    }
   ],
   "source": [
    "t_line_df = df_table.loc[t_line_station_list]\n",
    "t_line_df"
   ]
  },
  {
   "cell_type": "raw",
   "id": "3dafcff1da10b5e5",
   "metadata": {},
   "source": [
    "#### Sound Transit Station Groupings"
   ]
  },
  {
   "cell_type": "code",
   "execution_count": 30,
   "id": "7456ebeb8efd83d0",
   "metadata": {
    "ExecuteTime": {
     "end_time": "2024-06-24T20:06:06.901270Z",
     "start_time": "2024-06-24T20:06:06.830246Z"
    },
    "execution": {
     "iopub.execute_input": "2024-12-14T02:38:42.922957Z",
     "iopub.status.busy": "2024-12-14T02:38:42.920963Z",
     "iopub.status.idle": "2024-12-14T02:38:42.990343Z",
     "shell.execute_reply": "2024-12-14T02:38:42.988264Z"
    }
   },
   "outputs": [
    {
     "data": {
      "text/html": [
       "<div>\n",
       "<style scoped>\n",
       "    .dataframe tbody tr th:only-of-type {\n",
       "        vertical-align: middle;\n",
       "    }\n",
       "\n",
       "    .dataframe tbody tr th {\n",
       "        vertical-align: top;\n",
       "    }\n",
       "\n",
       "    .dataframe thead th {\n",
       "        text-align: right;\n",
       "    }\n",
       "</style>\n",
       "<table border=\"1\" class=\"dataframe\">\n",
       "  <thead>\n",
       "    <tr style=\"text-align: right;\">\n",
       "      <th></th>\n",
       "      <th>observed_boardings</th>\n",
       "      <th>model_boardings</th>\n",
       "      <th>diff</th>\n",
       "      <th>percent_diff</th>\n",
       "    </tr>\n",
       "    <tr>\n",
       "      <th>station_group</th>\n",
       "      <th></th>\n",
       "      <th></th>\n",
       "      <th></th>\n",
       "      <th></th>\n",
       "    </tr>\n",
       "  </thead>\n",
       "  <tbody>\n",
       "    <tr>\n",
       "      <th>Northgate/Roosevelt</th>\n",
       "      <td>14,733.00</td>\n",
       "      <td>18,413.22</td>\n",
       "      <td>3,680.22</td>\n",
       "      <td>24.98%</td>\n",
       "    </tr>\n",
       "    <tr>\n",
       "      <th>U District/Husky Stadium</th>\n",
       "      <td>13,697.00</td>\n",
       "      <td>11,924.35</td>\n",
       "      <td>-1,772.65</td>\n",
       "      <td>-12.94%</td>\n",
       "    </tr>\n",
       "    <tr>\n",
       "      <th>Capitol Hill</th>\n",
       "      <td>7,667.00</td>\n",
       "      <td>8,801.07</td>\n",
       "      <td>1,134.07</td>\n",
       "      <td>14.79%</td>\n",
       "    </tr>\n",
       "    <tr>\n",
       "      <th>Westlake/Symphony</th>\n",
       "      <td>13,169.00</td>\n",
       "      <td>18,363.11</td>\n",
       "      <td>5,194.11</td>\n",
       "      <td>39.44%</td>\n",
       "    </tr>\n",
       "    <tr>\n",
       "      <th>Pioneer Square/Int'l District</th>\n",
       "      <td>6,799.00</td>\n",
       "      <td>7,185.53</td>\n",
       "      <td>386.53</td>\n",
       "      <td>5.69%</td>\n",
       "    </tr>\n",
       "    <tr>\n",
       "      <th>Stadium/SODO</th>\n",
       "      <td>3,400.00</td>\n",
       "      <td>2,839.61</td>\n",
       "      <td>-560.39</td>\n",
       "      <td>-16.48%</td>\n",
       "    </tr>\n",
       "    <tr>\n",
       "      <th>Beacon Hill/Mount Baker</th>\n",
       "      <td>4,008.00</td>\n",
       "      <td>3,151.89</td>\n",
       "      <td>-856.11</td>\n",
       "      <td>-21.36%</td>\n",
       "    </tr>\n",
       "    <tr>\n",
       "      <th>Columbia City</th>\n",
       "      <td>1,630.00</td>\n",
       "      <td>1,820.37</td>\n",
       "      <td>190.37</td>\n",
       "      <td>11.68%</td>\n",
       "    </tr>\n",
       "    <tr>\n",
       "      <th>Othello/Rainier Beach</th>\n",
       "      <td>3,525.00</td>\n",
       "      <td>4,099.69</td>\n",
       "      <td>574.69</td>\n",
       "      <td>16.30%</td>\n",
       "    </tr>\n",
       "    <tr>\n",
       "      <th>Tukwila Int'l Blvd</th>\n",
       "      <td>2,298.00</td>\n",
       "      <td>2,982.98</td>\n",
       "      <td>684.98</td>\n",
       "      <td>29.81%</td>\n",
       "    </tr>\n",
       "    <tr>\n",
       "      <th>SeaTac/Airport</th>\n",
       "      <td>4,731.00</td>\n",
       "      <td>6,298.60</td>\n",
       "      <td>1,567.60</td>\n",
       "      <td>33.13%</td>\n",
       "    </tr>\n",
       "    <tr>\n",
       "      <th>Angle Lake</th>\n",
       "      <td>3,865.00</td>\n",
       "      <td>2,961.59</td>\n",
       "      <td>-903.41</td>\n",
       "      <td>-23.37%</td>\n",
       "    </tr>\n",
       "  </tbody>\n",
       "</table>\n",
       "</div>"
      ],
      "text/plain": [
       "                               observed_boardings  model_boardings      diff  \\\n",
       "station_group                                                                  \n",
       "Northgate/Roosevelt                     14,733.00        18,413.22  3,680.22   \n",
       "U District/Husky Stadium                13,697.00        11,924.35 -1,772.65   \n",
       "Capitol Hill                             7,667.00         8,801.07  1,134.07   \n",
       "Westlake/Symphony                       13,169.00        18,363.11  5,194.11   \n",
       "Pioneer Square/Int'l District            6,799.00         7,185.53    386.53   \n",
       "Stadium/SODO                             3,400.00         2,839.61   -560.39   \n",
       "Beacon Hill/Mount Baker                  4,008.00         3,151.89   -856.11   \n",
       "Columbia City                            1,630.00         1,820.37    190.37   \n",
       "Othello/Rainier Beach                    3,525.00         4,099.69    574.69   \n",
       "Tukwila Int'l Blvd                       2,298.00         2,982.98    684.98   \n",
       "SeaTac/Airport                           4,731.00         6,298.60  1,567.60   \n",
       "Angle Lake                               3,865.00         2,961.59   -903.41   \n",
       "\n",
       "                              percent_diff  \n",
       "station_group                               \n",
       "Northgate/Roosevelt                 24.98%  \n",
       "U District/Husky Stadium           -12.94%  \n",
       "Capitol Hill                        14.79%  \n",
       "Westlake/Symphony                   39.44%  \n",
       "Pioneer Square/Int'l District        5.69%  \n",
       "Stadium/SODO                       -16.48%  \n",
       "Beacon Hill/Mount Baker            -21.36%  \n",
       "Columbia City                       11.68%  \n",
       "Othello/Rainier Beach               16.30%  \n",
       "Tukwila Int'l Blvd                  29.81%  \n",
       "SeaTac/Airport                      33.13%  \n",
       "Angle Lake                         -23.37%  "
      ]
     },
     "execution_count": 30,
     "metadata": {},
     "output_type": "execute_result"
    }
   ],
   "source": [
    "df_combined = df.copy()\n",
    "\n",
    "df_combined['station_group'] = df.index\n",
    "df_combined.loc[['Westlake'],'station_group'] = 'Westlake/Symphony'\n",
    "df_combined.loc[['Symphony'],'station_group'] = 'Westlake/Symphony'\n",
    "\n",
    "df_combined.loc[['Pioneer Square'],'station_group'] = \"Pioneer Square/Int'l District\"\n",
    "df_combined.loc[[\"Int'l District\"],'station_group'] = \"Pioneer Square/Int'l District\"\n",
    "\n",
    "df_combined.loc[['Stadium'],'station_group'] = 'Stadium/SODO'\n",
    "df_combined.loc[['SODO'],'station_group'] = 'Stadium/SODO'\n",
    "\n",
    "df_combined.loc[['Beacon Hill'],'station_group'] = 'Beacon Hill/Mount Baker'\n",
    "df_combined.loc[['Mount Baker'],'station_group'] = 'Beacon Hill/Mount Baker'\n",
    "\n",
    "df_combined.loc[['Othello'],'station_group'] = 'Othello/Rainier Beach'\n",
    "df_combined.loc[['Rainier Beach'],'station_group'] = 'Othello/Rainier Beach'\n",
    "\n",
    "df_combined.loc[['University District Station'],'station_group'] = 'U District/Husky Stadium'\n",
    "df_combined.loc[['Husky Stadium'],'station_group'] = 'U District/Husky Stadium'\n",
    "\n",
    "df_combined.loc[['Northgate Station'],'station_group'] = 'Northgate/Roosevelt'\n",
    "df_combined.loc[['Roosevelt Station'],'station_group'] = 'Northgate/Roosevelt'\n",
    "\n",
    "df_combined = df_combined.groupby('station_group').sum()[['observed_boardings','model_boardings']]\n",
    "df_combined['diff'] = df_combined['model_boardings']-df_combined['observed_boardings']\n",
    "df_combined['percent_diff'] = df_combined['diff']/df_combined['observed_boardings']\n",
    "df_combined[['percent_diff']] = df_combined[['percent_diff']].applymap(format_percent)\n",
    "\n",
    "df_combined = df_combined.loc[['Northgate/Roosevelt','U District/Husky Stadium','Capitol Hill','Westlake/Symphony',\"Pioneer Square/Int'l District\",\n",
    "                             'Stadium/SODO','Beacon Hill/Mount Baker','Columbia City','Othello/Rainier Beach',\n",
    "                             \"Tukwila Int'l Blvd\",'SeaTac/Airport','Angle Lake']]\n",
    "df_combined"
   ]
  },
  {
   "cell_type": "code",
   "execution_count": 31,
   "id": "d06a1922",
   "metadata": {},
   "outputs": [
    {
     "data": {
      "application/vnd.plotly.v1+json": {
       "config": {
        "plotlyServerURL": "https://plot.ly"
       },
       "data": [
        {
         "hovertemplate": "variable=observed_boardings<br>station_group=%{x}<br>value=%{y}<extra></extra>",
         "legendgroup": "observed_boardings",
         "line": {
          "color": "#91268F",
          "dash": "solid"
         },
         "marker": {
          "symbol": "circle"
         },
         "mode": "lines",
         "name": "observed_boardings",
         "orientation": "v",
         "showlegend": true,
         "type": "scatter",
         "x": [
          "Northgate/Roosevelt",
          "U District/Husky Stadium",
          "Capitol Hill",
          "Westlake/Symphony",
          "Pioneer Square/Int'l District",
          "Stadium/SODO",
          "Beacon Hill/Mount Baker",
          "Columbia City",
          "Othello/Rainier Beach",
          "Tukwila Int'l Blvd",
          "SeaTac/Airport",
          "Angle Lake"
         ],
         "xaxis": "x",
         "y": [
          14733,
          13697,
          7667,
          13169,
          6799,
          3400,
          4008,
          1630,
          3525,
          2298,
          4731,
          3865
         ],
         "yaxis": "y"
        },
        {
         "hovertemplate": "variable=model_boardings<br>station_group=%{x}<br>value=%{y}<extra></extra>",
         "legendgroup": "model_boardings",
         "line": {
          "color": "#8CC63E",
          "dash": "solid"
         },
         "marker": {
          "symbol": "circle"
         },
         "mode": "lines",
         "name": "model_boardings",
         "orientation": "v",
         "showlegend": true,
         "type": "scatter",
         "x": [
          "Northgate/Roosevelt",
          "U District/Husky Stadium",
          "Capitol Hill",
          "Westlake/Symphony",
          "Pioneer Square/Int'l District",
          "Stadium/SODO",
          "Beacon Hill/Mount Baker",
          "Columbia City",
          "Othello/Rainier Beach",
          "Tukwila Int'l Blvd",
          "SeaTac/Airport",
          "Angle Lake"
         ],
         "xaxis": "x",
         "y": [
          18413.216807127,
          11924.35286808014,
          8801.06637763977,
          18363.114656448364,
          7185.5291175842285,
          2839.605417996645,
          3151.887735545635,
          1820.3703227043152,
          4099.6899766922,
          2982.983142375946,
          6298.603131473064,
          2961.588607788086
         ],
         "yaxis": "y"
        }
       ],
       "layout": {
        "font": {
         "size": 11
        },
        "height": 500,
        "legend": {
         "title": {
          "text": "variable"
         },
         "tracegroupgap": 0
        },
        "margin": {
         "t": 60
        },
        "template": {
         "data": {
          "bar": [
           {
            "error_x": {
             "color": "rgb(36,36,36)"
            },
            "error_y": {
             "color": "rgb(36,36,36)"
            },
            "marker": {
             "line": {
              "color": "white",
              "width": 0.5
             },
             "pattern": {
              "fillmode": "overlay",
              "size": 10,
              "solidity": 0.2
             }
            },
            "type": "bar"
           }
          ],
          "barpolar": [
           {
            "marker": {
             "line": {
              "color": "white",
              "width": 0.5
             },
             "pattern": {
              "fillmode": "overlay",
              "size": 10,
              "solidity": 0.2
             }
            },
            "type": "barpolar"
           }
          ],
          "carpet": [
           {
            "aaxis": {
             "endlinecolor": "rgb(36,36,36)",
             "gridcolor": "white",
             "linecolor": "white",
             "minorgridcolor": "white",
             "startlinecolor": "rgb(36,36,36)"
            },
            "baxis": {
             "endlinecolor": "rgb(36,36,36)",
             "gridcolor": "white",
             "linecolor": "white",
             "minorgridcolor": "white",
             "startlinecolor": "rgb(36,36,36)"
            },
            "type": "carpet"
           }
          ],
          "choropleth": [
           {
            "colorbar": {
             "outlinewidth": 1,
             "tickcolor": "rgb(36,36,36)",
             "ticks": "outside"
            },
            "type": "choropleth"
           }
          ],
          "contour": [
           {
            "colorbar": {
             "outlinewidth": 1,
             "tickcolor": "rgb(36,36,36)",
             "ticks": "outside"
            },
            "colorscale": [
             [
              0,
              "#440154"
             ],
             [
              0.1111111111111111,
              "#482878"
             ],
             [
              0.2222222222222222,
              "#3e4989"
             ],
             [
              0.3333333333333333,
              "#31688e"
             ],
             [
              0.4444444444444444,
              "#26828e"
             ],
             [
              0.5555555555555556,
              "#1f9e89"
             ],
             [
              0.6666666666666666,
              "#35b779"
             ],
             [
              0.7777777777777778,
              "#6ece58"
             ],
             [
              0.8888888888888888,
              "#b5de2b"
             ],
             [
              1,
              "#fde725"
             ]
            ],
            "type": "contour"
           }
          ],
          "contourcarpet": [
           {
            "colorbar": {
             "outlinewidth": 1,
             "tickcolor": "rgb(36,36,36)",
             "ticks": "outside"
            },
            "type": "contourcarpet"
           }
          ],
          "heatmap": [
           {
            "colorbar": {
             "outlinewidth": 1,
             "tickcolor": "rgb(36,36,36)",
             "ticks": "outside"
            },
            "colorscale": [
             [
              0,
              "#440154"
             ],
             [
              0.1111111111111111,
              "#482878"
             ],
             [
              0.2222222222222222,
              "#3e4989"
             ],
             [
              0.3333333333333333,
              "#31688e"
             ],
             [
              0.4444444444444444,
              "#26828e"
             ],
             [
              0.5555555555555556,
              "#1f9e89"
             ],
             [
              0.6666666666666666,
              "#35b779"
             ],
             [
              0.7777777777777778,
              "#6ece58"
             ],
             [
              0.8888888888888888,
              "#b5de2b"
             ],
             [
              1,
              "#fde725"
             ]
            ],
            "type": "heatmap"
           }
          ],
          "heatmapgl": [
           {
            "colorbar": {
             "outlinewidth": 1,
             "tickcolor": "rgb(36,36,36)",
             "ticks": "outside"
            },
            "colorscale": [
             [
              0,
              "#440154"
             ],
             [
              0.1111111111111111,
              "#482878"
             ],
             [
              0.2222222222222222,
              "#3e4989"
             ],
             [
              0.3333333333333333,
              "#31688e"
             ],
             [
              0.4444444444444444,
              "#26828e"
             ],
             [
              0.5555555555555556,
              "#1f9e89"
             ],
             [
              0.6666666666666666,
              "#35b779"
             ],
             [
              0.7777777777777778,
              "#6ece58"
             ],
             [
              0.8888888888888888,
              "#b5de2b"
             ],
             [
              1,
              "#fde725"
             ]
            ],
            "type": "heatmapgl"
           }
          ],
          "histogram": [
           {
            "marker": {
             "line": {
              "color": "white",
              "width": 0.6
             }
            },
            "type": "histogram"
           }
          ],
          "histogram2d": [
           {
            "colorbar": {
             "outlinewidth": 1,
             "tickcolor": "rgb(36,36,36)",
             "ticks": "outside"
            },
            "colorscale": [
             [
              0,
              "#440154"
             ],
             [
              0.1111111111111111,
              "#482878"
             ],
             [
              0.2222222222222222,
              "#3e4989"
             ],
             [
              0.3333333333333333,
              "#31688e"
             ],
             [
              0.4444444444444444,
              "#26828e"
             ],
             [
              0.5555555555555556,
              "#1f9e89"
             ],
             [
              0.6666666666666666,
              "#35b779"
             ],
             [
              0.7777777777777778,
              "#6ece58"
             ],
             [
              0.8888888888888888,
              "#b5de2b"
             ],
             [
              1,
              "#fde725"
             ]
            ],
            "type": "histogram2d"
           }
          ],
          "histogram2dcontour": [
           {
            "colorbar": {
             "outlinewidth": 1,
             "tickcolor": "rgb(36,36,36)",
             "ticks": "outside"
            },
            "colorscale": [
             [
              0,
              "#440154"
             ],
             [
              0.1111111111111111,
              "#482878"
             ],
             [
              0.2222222222222222,
              "#3e4989"
             ],
             [
              0.3333333333333333,
              "#31688e"
             ],
             [
              0.4444444444444444,
              "#26828e"
             ],
             [
              0.5555555555555556,
              "#1f9e89"
             ],
             [
              0.6666666666666666,
              "#35b779"
             ],
             [
              0.7777777777777778,
              "#6ece58"
             ],
             [
              0.8888888888888888,
              "#b5de2b"
             ],
             [
              1,
              "#fde725"
             ]
            ],
            "type": "histogram2dcontour"
           }
          ],
          "mesh3d": [
           {
            "colorbar": {
             "outlinewidth": 1,
             "tickcolor": "rgb(36,36,36)",
             "ticks": "outside"
            },
            "type": "mesh3d"
           }
          ],
          "parcoords": [
           {
            "line": {
             "colorbar": {
              "outlinewidth": 1,
              "tickcolor": "rgb(36,36,36)",
              "ticks": "outside"
             }
            },
            "type": "parcoords"
           }
          ],
          "pie": [
           {
            "automargin": true,
            "type": "pie"
           }
          ],
          "scatter": [
           {
            "fillpattern": {
             "fillmode": "overlay",
             "size": 10,
             "solidity": 0.2
            },
            "type": "scatter"
           }
          ],
          "scatter3d": [
           {
            "line": {
             "colorbar": {
              "outlinewidth": 1,
              "tickcolor": "rgb(36,36,36)",
              "ticks": "outside"
             }
            },
            "marker": {
             "colorbar": {
              "outlinewidth": 1,
              "tickcolor": "rgb(36,36,36)",
              "ticks": "outside"
             }
            },
            "type": "scatter3d"
           }
          ],
          "scattercarpet": [
           {
            "marker": {
             "colorbar": {
              "outlinewidth": 1,
              "tickcolor": "rgb(36,36,36)",
              "ticks": "outside"
             }
            },
            "type": "scattercarpet"
           }
          ],
          "scattergeo": [
           {
            "marker": {
             "colorbar": {
              "outlinewidth": 1,
              "tickcolor": "rgb(36,36,36)",
              "ticks": "outside"
             }
            },
            "type": "scattergeo"
           }
          ],
          "scattergl": [
           {
            "marker": {
             "colorbar": {
              "outlinewidth": 1,
              "tickcolor": "rgb(36,36,36)",
              "ticks": "outside"
             }
            },
            "type": "scattergl"
           }
          ],
          "scattermapbox": [
           {
            "marker": {
             "colorbar": {
              "outlinewidth": 1,
              "tickcolor": "rgb(36,36,36)",
              "ticks": "outside"
             }
            },
            "type": "scattermapbox"
           }
          ],
          "scatterpolar": [
           {
            "marker": {
             "colorbar": {
              "outlinewidth": 1,
              "tickcolor": "rgb(36,36,36)",
              "ticks": "outside"
             }
            },
            "type": "scatterpolar"
           }
          ],
          "scatterpolargl": [
           {
            "marker": {
             "colorbar": {
              "outlinewidth": 1,
              "tickcolor": "rgb(36,36,36)",
              "ticks": "outside"
             }
            },
            "type": "scatterpolargl"
           }
          ],
          "scatterternary": [
           {
            "marker": {
             "colorbar": {
              "outlinewidth": 1,
              "tickcolor": "rgb(36,36,36)",
              "ticks": "outside"
             }
            },
            "type": "scatterternary"
           }
          ],
          "surface": [
           {
            "colorbar": {
             "outlinewidth": 1,
             "tickcolor": "rgb(36,36,36)",
             "ticks": "outside"
            },
            "colorscale": [
             [
              0,
              "#440154"
             ],
             [
              0.1111111111111111,
              "#482878"
             ],
             [
              0.2222222222222222,
              "#3e4989"
             ],
             [
              0.3333333333333333,
              "#31688e"
             ],
             [
              0.4444444444444444,
              "#26828e"
             ],
             [
              0.5555555555555556,
              "#1f9e89"
             ],
             [
              0.6666666666666666,
              "#35b779"
             ],
             [
              0.7777777777777778,
              "#6ece58"
             ],
             [
              0.8888888888888888,
              "#b5de2b"
             ],
             [
              1,
              "#fde725"
             ]
            ],
            "type": "surface"
           }
          ],
          "table": [
           {
            "cells": {
             "fill": {
              "color": "rgb(237,237,237)"
             },
             "line": {
              "color": "white"
             }
            },
            "header": {
             "fill": {
              "color": "rgb(217,217,217)"
             },
             "line": {
              "color": "white"
             }
            },
            "type": "table"
           }
          ]
         },
         "layout": {
          "annotationdefaults": {
           "arrowhead": 0,
           "arrowwidth": 1
          },
          "autotypenumbers": "strict",
          "coloraxis": {
           "colorbar": {
            "outlinewidth": 1,
            "tickcolor": "rgb(36,36,36)",
            "ticks": "outside"
           }
          },
          "colorscale": {
           "diverging": [
            [
             0,
             "rgb(103,0,31)"
            ],
            [
             0.1,
             "rgb(178,24,43)"
            ],
            [
             0.2,
             "rgb(214,96,77)"
            ],
            [
             0.3,
             "rgb(244,165,130)"
            ],
            [
             0.4,
             "rgb(253,219,199)"
            ],
            [
             0.5,
             "rgb(247,247,247)"
            ],
            [
             0.6,
             "rgb(209,229,240)"
            ],
            [
             0.7,
             "rgb(146,197,222)"
            ],
            [
             0.8,
             "rgb(67,147,195)"
            ],
            [
             0.9,
             "rgb(33,102,172)"
            ],
            [
             1,
             "rgb(5,48,97)"
            ]
           ],
           "sequential": [
            [
             0,
             "#440154"
            ],
            [
             0.1111111111111111,
             "#482878"
            ],
            [
             0.2222222222222222,
             "#3e4989"
            ],
            [
             0.3333333333333333,
             "#31688e"
            ],
            [
             0.4444444444444444,
             "#26828e"
            ],
            [
             0.5555555555555556,
             "#1f9e89"
            ],
            [
             0.6666666666666666,
             "#35b779"
            ],
            [
             0.7777777777777778,
             "#6ece58"
            ],
            [
             0.8888888888888888,
             "#b5de2b"
            ],
            [
             1,
             "#fde725"
            ]
           ],
           "sequentialminus": [
            [
             0,
             "#440154"
            ],
            [
             0.1111111111111111,
             "#482878"
            ],
            [
             0.2222222222222222,
             "#3e4989"
            ],
            [
             0.3333333333333333,
             "#31688e"
            ],
            [
             0.4444444444444444,
             "#26828e"
            ],
            [
             0.5555555555555556,
             "#1f9e89"
            ],
            [
             0.6666666666666666,
             "#35b779"
            ],
            [
             0.7777777777777778,
             "#6ece58"
            ],
            [
             0.8888888888888888,
             "#b5de2b"
            ],
            [
             1,
             "#fde725"
            ]
           ]
          },
          "colorway": [
           "#91268F",
           "#8CC63E",
           "#00A7A0",
           "#F05A28",
           "#4C4C4C",
           "#630460",
           "#9f3913",
           "#588527",
           "#00716c",
           "#3e4040"
          ],
          "font": {
           "color": "rgb(36,36,36)",
           "family": "Poppins",
           "size": 11
          },
          "geo": {
           "bgcolor": "white",
           "lakecolor": "white",
           "landcolor": "white",
           "showlakes": true,
           "showland": true,
           "subunitcolor": "white"
          },
          "hoverlabel": {
           "align": "left"
          },
          "hovermode": "closest",
          "mapbox": {
           "style": "light"
          },
          "paper_bgcolor": "white",
          "plot_bgcolor": "white",
          "polar": {
           "angularaxis": {
            "gridcolor": "rgb(232,232,232)",
            "linecolor": "rgb(36,36,36)",
            "showgrid": false,
            "showline": true,
            "ticks": "outside"
           },
           "bgcolor": "white",
           "radialaxis": {
            "gridcolor": "rgb(232,232,232)",
            "linecolor": "rgb(36,36,36)",
            "showgrid": false,
            "showline": true,
            "ticks": "outside"
           }
          },
          "scene": {
           "xaxis": {
            "backgroundcolor": "white",
            "gridcolor": "rgb(232,232,232)",
            "gridwidth": 2,
            "linecolor": "rgb(36,36,36)",
            "showbackground": true,
            "showgrid": false,
            "showline": true,
            "ticks": "outside",
            "zeroline": false,
            "zerolinecolor": "rgb(36,36,36)"
           },
           "yaxis": {
            "backgroundcolor": "white",
            "gridcolor": "rgb(232,232,232)",
            "gridwidth": 2,
            "linecolor": "rgb(36,36,36)",
            "showbackground": true,
            "showgrid": false,
            "showline": true,
            "ticks": "outside",
            "zeroline": false,
            "zerolinecolor": "rgb(36,36,36)"
           },
           "zaxis": {
            "backgroundcolor": "white",
            "gridcolor": "rgb(232,232,232)",
            "gridwidth": 2,
            "linecolor": "rgb(36,36,36)",
            "showbackground": true,
            "showgrid": false,
            "showline": true,
            "ticks": "outside",
            "zeroline": false,
            "zerolinecolor": "rgb(36,36,36)"
           }
          },
          "shapedefaults": {
           "fillcolor": "black",
           "line": {
            "width": 0
           },
           "opacity": 0.3
          },
          "ternary": {
           "aaxis": {
            "gridcolor": "rgb(232,232,232)",
            "linecolor": "rgb(36,36,36)",
            "showgrid": false,
            "showline": true,
            "ticks": "outside"
           },
           "baxis": {
            "gridcolor": "rgb(232,232,232)",
            "linecolor": "rgb(36,36,36)",
            "showgrid": false,
            "showline": true,
            "ticks": "outside"
           },
           "bgcolor": "white",
           "caxis": {
            "gridcolor": "rgb(232,232,232)",
            "linecolor": "rgb(36,36,36)",
            "showgrid": false,
            "showline": true,
            "ticks": "outside"
           }
          },
          "title": {
           "x": 0.05
          },
          "xaxis": {
           "automargin": true,
           "gridcolor": "rgb(232,232,232)",
           "linecolor": "rgb(36,36,36)",
           "showgrid": false,
           "showline": true,
           "ticks": "outside",
           "title": {
            "standoff": 15
           },
           "zeroline": false,
           "zerolinecolor": "rgb(36,36,36)"
          },
          "yaxis": {
           "automargin": true,
           "gridcolor": "rgb(232,232,232)",
           "linecolor": "rgb(36,36,36)",
           "showgrid": false,
           "showline": true,
           "ticks": "outside",
           "title": {
            "standoff": 15
           },
           "zeroline": false,
           "zerolinecolor": "rgb(36,36,36)"
          }
         }
        },
        "width": 900,
        "xaxis": {
         "anchor": "y",
         "domain": [
          0,
          1
         ],
         "title": {
          "text": "station_group"
         }
        },
        "yaxis": {
         "anchor": "x",
         "domain": [
          0,
          1
         ],
         "tickformat": ".00f",
         "title": {
          "text": "value"
         }
        }
       }
      },
      "text/html": [
       "<div>                            <div id=\"e4b9b850-08af-42ce-94f9-3eec7face52e\" class=\"plotly-graph-div\" style=\"height:500px; width:900px;\"></div>            <script type=\"text/javascript\">                require([\"plotly\"], function(Plotly) {                    window.PLOTLYENV=window.PLOTLYENV || {};                                    if (document.getElementById(\"e4b9b850-08af-42ce-94f9-3eec7face52e\")) {                    Plotly.newPlot(                        \"e4b9b850-08af-42ce-94f9-3eec7face52e\",                        [{\"hovertemplate\":\"variable=observed_boardings\\u003cbr\\u003estation_group=%{x}\\u003cbr\\u003evalue=%{y}\\u003cextra\\u003e\\u003c\\u002fextra\\u003e\",\"legendgroup\":\"observed_boardings\",\"line\":{\"color\":\"#91268F\",\"dash\":\"solid\"},\"marker\":{\"symbol\":\"circle\"},\"mode\":\"lines\",\"name\":\"observed_boardings\",\"orientation\":\"v\",\"showlegend\":true,\"x\":[\"Northgate\\u002fRoosevelt\",\"U District\\u002fHusky Stadium\",\"Capitol Hill\",\"Westlake\\u002fSymphony\",\"Pioneer Square\\u002fInt'l District\",\"Stadium\\u002fSODO\",\"Beacon Hill\\u002fMount Baker\",\"Columbia City\",\"Othello\\u002fRainier Beach\",\"Tukwila Int'l Blvd\",\"SeaTac\\u002fAirport\",\"Angle Lake\"],\"xaxis\":\"x\",\"y\":[14733.0,13697.0,7667.0,13169.0,6799.0,3400.0,4008.0,1630.0,3525.0,2298.0,4731.0,3865.0],\"yaxis\":\"y\",\"type\":\"scatter\"},{\"hovertemplate\":\"variable=model_boardings\\u003cbr\\u003estation_group=%{x}\\u003cbr\\u003evalue=%{y}\\u003cextra\\u003e\\u003c\\u002fextra\\u003e\",\"legendgroup\":\"model_boardings\",\"line\":{\"color\":\"#8CC63E\",\"dash\":\"solid\"},\"marker\":{\"symbol\":\"circle\"},\"mode\":\"lines\",\"name\":\"model_boardings\",\"orientation\":\"v\",\"showlegend\":true,\"x\":[\"Northgate\\u002fRoosevelt\",\"U District\\u002fHusky Stadium\",\"Capitol Hill\",\"Westlake\\u002fSymphony\",\"Pioneer Square\\u002fInt'l District\",\"Stadium\\u002fSODO\",\"Beacon Hill\\u002fMount Baker\",\"Columbia City\",\"Othello\\u002fRainier Beach\",\"Tukwila Int'l Blvd\",\"SeaTac\\u002fAirport\",\"Angle Lake\"],\"xaxis\":\"x\",\"y\":[18413.216807127,11924.35286808014,8801.06637763977,18363.114656448364,7185.5291175842285,2839.605417996645,3151.887735545635,1820.3703227043152,4099.6899766922,2982.983142375946,6298.603131473064,2961.588607788086],\"yaxis\":\"y\",\"type\":\"scatter\"}],                        {\"template\":{\"data\":{\"barpolar\":[{\"marker\":{\"line\":{\"color\":\"white\",\"width\":0.5},\"pattern\":{\"fillmode\":\"overlay\",\"size\":10,\"solidity\":0.2}},\"type\":\"barpolar\"}],\"bar\":[{\"error_x\":{\"color\":\"rgb(36,36,36)\"},\"error_y\":{\"color\":\"rgb(36,36,36)\"},\"marker\":{\"line\":{\"color\":\"white\",\"width\":0.5},\"pattern\":{\"fillmode\":\"overlay\",\"size\":10,\"solidity\":0.2}},\"type\":\"bar\"}],\"carpet\":[{\"aaxis\":{\"endlinecolor\":\"rgb(36,36,36)\",\"gridcolor\":\"white\",\"linecolor\":\"white\",\"minorgridcolor\":\"white\",\"startlinecolor\":\"rgb(36,36,36)\"},\"baxis\":{\"endlinecolor\":\"rgb(36,36,36)\",\"gridcolor\":\"white\",\"linecolor\":\"white\",\"minorgridcolor\":\"white\",\"startlinecolor\":\"rgb(36,36,36)\"},\"type\":\"carpet\"}],\"choropleth\":[{\"colorbar\":{\"outlinewidth\":1,\"tickcolor\":\"rgb(36,36,36)\",\"ticks\":\"outside\"},\"type\":\"choropleth\"}],\"contourcarpet\":[{\"colorbar\":{\"outlinewidth\":1,\"tickcolor\":\"rgb(36,36,36)\",\"ticks\":\"outside\"},\"type\":\"contourcarpet\"}],\"contour\":[{\"colorbar\":{\"outlinewidth\":1,\"tickcolor\":\"rgb(36,36,36)\",\"ticks\":\"outside\"},\"colorscale\":[[0.0,\"#440154\"],[0.1111111111111111,\"#482878\"],[0.2222222222222222,\"#3e4989\"],[0.3333333333333333,\"#31688e\"],[0.4444444444444444,\"#26828e\"],[0.5555555555555556,\"#1f9e89\"],[0.6666666666666666,\"#35b779\"],[0.7777777777777778,\"#6ece58\"],[0.8888888888888888,\"#b5de2b\"],[1.0,\"#fde725\"]],\"type\":\"contour\"}],\"heatmapgl\":[{\"colorbar\":{\"outlinewidth\":1,\"tickcolor\":\"rgb(36,36,36)\",\"ticks\":\"outside\"},\"colorscale\":[[0.0,\"#440154\"],[0.1111111111111111,\"#482878\"],[0.2222222222222222,\"#3e4989\"],[0.3333333333333333,\"#31688e\"],[0.4444444444444444,\"#26828e\"],[0.5555555555555556,\"#1f9e89\"],[0.6666666666666666,\"#35b779\"],[0.7777777777777778,\"#6ece58\"],[0.8888888888888888,\"#b5de2b\"],[1.0,\"#fde725\"]],\"type\":\"heatmapgl\"}],\"heatmap\":[{\"colorbar\":{\"outlinewidth\":1,\"tickcolor\":\"rgb(36,36,36)\",\"ticks\":\"outside\"},\"colorscale\":[[0.0,\"#440154\"],[0.1111111111111111,\"#482878\"],[0.2222222222222222,\"#3e4989\"],[0.3333333333333333,\"#31688e\"],[0.4444444444444444,\"#26828e\"],[0.5555555555555556,\"#1f9e89\"],[0.6666666666666666,\"#35b779\"],[0.7777777777777778,\"#6ece58\"],[0.8888888888888888,\"#b5de2b\"],[1.0,\"#fde725\"]],\"type\":\"heatmap\"}],\"histogram2dcontour\":[{\"colorbar\":{\"outlinewidth\":1,\"tickcolor\":\"rgb(36,36,36)\",\"ticks\":\"outside\"},\"colorscale\":[[0.0,\"#440154\"],[0.1111111111111111,\"#482878\"],[0.2222222222222222,\"#3e4989\"],[0.3333333333333333,\"#31688e\"],[0.4444444444444444,\"#26828e\"],[0.5555555555555556,\"#1f9e89\"],[0.6666666666666666,\"#35b779\"],[0.7777777777777778,\"#6ece58\"],[0.8888888888888888,\"#b5de2b\"],[1.0,\"#fde725\"]],\"type\":\"histogram2dcontour\"}],\"histogram2d\":[{\"colorbar\":{\"outlinewidth\":1,\"tickcolor\":\"rgb(36,36,36)\",\"ticks\":\"outside\"},\"colorscale\":[[0.0,\"#440154\"],[0.1111111111111111,\"#482878\"],[0.2222222222222222,\"#3e4989\"],[0.3333333333333333,\"#31688e\"],[0.4444444444444444,\"#26828e\"],[0.5555555555555556,\"#1f9e89\"],[0.6666666666666666,\"#35b779\"],[0.7777777777777778,\"#6ece58\"],[0.8888888888888888,\"#b5de2b\"],[1.0,\"#fde725\"]],\"type\":\"histogram2d\"}],\"histogram\":[{\"marker\":{\"line\":{\"color\":\"white\",\"width\":0.6}},\"type\":\"histogram\"}],\"mesh3d\":[{\"colorbar\":{\"outlinewidth\":1,\"tickcolor\":\"rgb(36,36,36)\",\"ticks\":\"outside\"},\"type\":\"mesh3d\"}],\"parcoords\":[{\"line\":{\"colorbar\":{\"outlinewidth\":1,\"tickcolor\":\"rgb(36,36,36)\",\"ticks\":\"outside\"}},\"type\":\"parcoords\"}],\"pie\":[{\"automargin\":true,\"type\":\"pie\"}],\"scatter3d\":[{\"line\":{\"colorbar\":{\"outlinewidth\":1,\"tickcolor\":\"rgb(36,36,36)\",\"ticks\":\"outside\"}},\"marker\":{\"colorbar\":{\"outlinewidth\":1,\"tickcolor\":\"rgb(36,36,36)\",\"ticks\":\"outside\"}},\"type\":\"scatter3d\"}],\"scattercarpet\":[{\"marker\":{\"colorbar\":{\"outlinewidth\":1,\"tickcolor\":\"rgb(36,36,36)\",\"ticks\":\"outside\"}},\"type\":\"scattercarpet\"}],\"scattergeo\":[{\"marker\":{\"colorbar\":{\"outlinewidth\":1,\"tickcolor\":\"rgb(36,36,36)\",\"ticks\":\"outside\"}},\"type\":\"scattergeo\"}],\"scattergl\":[{\"marker\":{\"colorbar\":{\"outlinewidth\":1,\"tickcolor\":\"rgb(36,36,36)\",\"ticks\":\"outside\"}},\"type\":\"scattergl\"}],\"scattermapbox\":[{\"marker\":{\"colorbar\":{\"outlinewidth\":1,\"tickcolor\":\"rgb(36,36,36)\",\"ticks\":\"outside\"}},\"type\":\"scattermapbox\"}],\"scatterpolargl\":[{\"marker\":{\"colorbar\":{\"outlinewidth\":1,\"tickcolor\":\"rgb(36,36,36)\",\"ticks\":\"outside\"}},\"type\":\"scatterpolargl\"}],\"scatterpolar\":[{\"marker\":{\"colorbar\":{\"outlinewidth\":1,\"tickcolor\":\"rgb(36,36,36)\",\"ticks\":\"outside\"}},\"type\":\"scatterpolar\"}],\"scatter\":[{\"fillpattern\":{\"fillmode\":\"overlay\",\"size\":10,\"solidity\":0.2},\"type\":\"scatter\"}],\"scatterternary\":[{\"marker\":{\"colorbar\":{\"outlinewidth\":1,\"tickcolor\":\"rgb(36,36,36)\",\"ticks\":\"outside\"}},\"type\":\"scatterternary\"}],\"surface\":[{\"colorbar\":{\"outlinewidth\":1,\"tickcolor\":\"rgb(36,36,36)\",\"ticks\":\"outside\"},\"colorscale\":[[0.0,\"#440154\"],[0.1111111111111111,\"#482878\"],[0.2222222222222222,\"#3e4989\"],[0.3333333333333333,\"#31688e\"],[0.4444444444444444,\"#26828e\"],[0.5555555555555556,\"#1f9e89\"],[0.6666666666666666,\"#35b779\"],[0.7777777777777778,\"#6ece58\"],[0.8888888888888888,\"#b5de2b\"],[1.0,\"#fde725\"]],\"type\":\"surface\"}],\"table\":[{\"cells\":{\"fill\":{\"color\":\"rgb(237,237,237)\"},\"line\":{\"color\":\"white\"}},\"header\":{\"fill\":{\"color\":\"rgb(217,217,217)\"},\"line\":{\"color\":\"white\"}},\"type\":\"table\"}]},\"layout\":{\"annotationdefaults\":{\"arrowhead\":0,\"arrowwidth\":1},\"autotypenumbers\":\"strict\",\"coloraxis\":{\"colorbar\":{\"outlinewidth\":1,\"tickcolor\":\"rgb(36,36,36)\",\"ticks\":\"outside\"}},\"colorscale\":{\"diverging\":[[0.0,\"rgb(103,0,31)\"],[0.1,\"rgb(178,24,43)\"],[0.2,\"rgb(214,96,77)\"],[0.3,\"rgb(244,165,130)\"],[0.4,\"rgb(253,219,199)\"],[0.5,\"rgb(247,247,247)\"],[0.6,\"rgb(209,229,240)\"],[0.7,\"rgb(146,197,222)\"],[0.8,\"rgb(67,147,195)\"],[0.9,\"rgb(33,102,172)\"],[1.0,\"rgb(5,48,97)\"]],\"sequential\":[[0.0,\"#440154\"],[0.1111111111111111,\"#482878\"],[0.2222222222222222,\"#3e4989\"],[0.3333333333333333,\"#31688e\"],[0.4444444444444444,\"#26828e\"],[0.5555555555555556,\"#1f9e89\"],[0.6666666666666666,\"#35b779\"],[0.7777777777777778,\"#6ece58\"],[0.8888888888888888,\"#b5de2b\"],[1.0,\"#fde725\"]],\"sequentialminus\":[[0.0,\"#440154\"],[0.1111111111111111,\"#482878\"],[0.2222222222222222,\"#3e4989\"],[0.3333333333333333,\"#31688e\"],[0.4444444444444444,\"#26828e\"],[0.5555555555555556,\"#1f9e89\"],[0.6666666666666666,\"#35b779\"],[0.7777777777777778,\"#6ece58\"],[0.8888888888888888,\"#b5de2b\"],[1.0,\"#fde725\"]]},\"colorway\":[\"#91268F\",\"#8CC63E\",\"#00A7A0\",\"#F05A28\",\"#4C4C4C\",\"#630460\",\"#9f3913\",\"#588527\",\"#00716c\",\"#3e4040\"],\"font\":{\"color\":\"rgb(36,36,36)\",\"family\":\"Poppins\",\"size\":11},\"geo\":{\"bgcolor\":\"white\",\"lakecolor\":\"white\",\"landcolor\":\"white\",\"showlakes\":true,\"showland\":true,\"subunitcolor\":\"white\"},\"hoverlabel\":{\"align\":\"left\"},\"hovermode\":\"closest\",\"mapbox\":{\"style\":\"light\"},\"paper_bgcolor\":\"white\",\"plot_bgcolor\":\"white\",\"polar\":{\"angularaxis\":{\"gridcolor\":\"rgb(232,232,232)\",\"linecolor\":\"rgb(36,36,36)\",\"showgrid\":false,\"showline\":true,\"ticks\":\"outside\"},\"bgcolor\":\"white\",\"radialaxis\":{\"gridcolor\":\"rgb(232,232,232)\",\"linecolor\":\"rgb(36,36,36)\",\"showgrid\":false,\"showline\":true,\"ticks\":\"outside\"}},\"scene\":{\"xaxis\":{\"backgroundcolor\":\"white\",\"gridcolor\":\"rgb(232,232,232)\",\"gridwidth\":2,\"linecolor\":\"rgb(36,36,36)\",\"showbackground\":true,\"showgrid\":false,\"showline\":true,\"ticks\":\"outside\",\"zeroline\":false,\"zerolinecolor\":\"rgb(36,36,36)\"},\"yaxis\":{\"backgroundcolor\":\"white\",\"gridcolor\":\"rgb(232,232,232)\",\"gridwidth\":2,\"linecolor\":\"rgb(36,36,36)\",\"showbackground\":true,\"showgrid\":false,\"showline\":true,\"ticks\":\"outside\",\"zeroline\":false,\"zerolinecolor\":\"rgb(36,36,36)\"},\"zaxis\":{\"backgroundcolor\":\"white\",\"gridcolor\":\"rgb(232,232,232)\",\"gridwidth\":2,\"linecolor\":\"rgb(36,36,36)\",\"showbackground\":true,\"showgrid\":false,\"showline\":true,\"ticks\":\"outside\",\"zeroline\":false,\"zerolinecolor\":\"rgb(36,36,36)\"}},\"shapedefaults\":{\"fillcolor\":\"black\",\"line\":{\"width\":0},\"opacity\":0.3},\"ternary\":{\"aaxis\":{\"gridcolor\":\"rgb(232,232,232)\",\"linecolor\":\"rgb(36,36,36)\",\"showgrid\":false,\"showline\":true,\"ticks\":\"outside\"},\"baxis\":{\"gridcolor\":\"rgb(232,232,232)\",\"linecolor\":\"rgb(36,36,36)\",\"showgrid\":false,\"showline\":true,\"ticks\":\"outside\"},\"bgcolor\":\"white\",\"caxis\":{\"gridcolor\":\"rgb(232,232,232)\",\"linecolor\":\"rgb(36,36,36)\",\"showgrid\":false,\"showline\":true,\"ticks\":\"outside\"}},\"title\":{\"x\":0.05},\"xaxis\":{\"automargin\":true,\"gridcolor\":\"rgb(232,232,232)\",\"linecolor\":\"rgb(36,36,36)\",\"showgrid\":false,\"showline\":true,\"ticks\":\"outside\",\"title\":{\"standoff\":15},\"zeroline\":false,\"zerolinecolor\":\"rgb(36,36,36)\"},\"yaxis\":{\"automargin\":true,\"gridcolor\":\"rgb(232,232,232)\",\"linecolor\":\"rgb(36,36,36)\",\"showgrid\":false,\"showline\":true,\"ticks\":\"outside\",\"title\":{\"standoff\":15},\"zeroline\":false,\"zerolinecolor\":\"rgb(36,36,36)\"}}},\"xaxis\":{\"anchor\":\"y\",\"domain\":[0.0,1.0],\"title\":{\"text\":\"station_group\"}},\"yaxis\":{\"anchor\":\"x\",\"domain\":[0.0,1.0],\"title\":{\"text\":\"value\"},\"tickformat\":\".00f\"},\"legend\":{\"title\":{\"text\":\"variable\"},\"tracegroupgap\":0},\"margin\":{\"t\":60},\"font\":{\"size\":11},\"height\":500,\"width\":900},                        {\"responsive\": true}                    ).then(function(){\n",
       "                            \n",
       "var gd = document.getElementById('e4b9b850-08af-42ce-94f9-3eec7face52e');\n",
       "var x = new MutationObserver(function (mutations, observer) {{\n",
       "        var display = window.getComputedStyle(gd).display;\n",
       "        if (!display || display === 'none') {{\n",
       "            console.log([gd, 'removed!']);\n",
       "            Plotly.purge(gd);\n",
       "            observer.disconnect();\n",
       "        }}\n",
       "}});\n",
       "\n",
       "// Listen for the removal of the full notebook cells\n",
       "var notebookContainer = gd.closest('#notebook-container');\n",
       "if (notebookContainer) {{\n",
       "    x.observe(notebookContainer, {childList: true});\n",
       "}}\n",
       "\n",
       "// Listen for the clearing of the current output cell\n",
       "var outputEl = gd.closest('.output');\n",
       "if (outputEl) {{\n",
       "    x.observe(outputEl, {childList: true});\n",
       "}}\n",
       "\n",
       "                        })                };                });            </script>        </div>"
      ]
     },
     "metadata": {},
     "output_type": "display_data"
    }
   ],
   "source": [
    "\n",
    "fig = px.line(df_combined[['observed_boardings','model_boardings']])\n",
    "fig.update_layout(height=500, width=900, font=dict(size=11),\n",
    "                  yaxis_tickformat = '.00f')\n",
    "fig.show()"
   ]
  },
  {
   "cell_type": "raw",
   "id": "b23f6eef",
   "metadata": {
    "vscode": {
     "languageId": "raw"
    }
   },
   "source": [
    "#### 2023/2024 Station Boardings"
   ]
  },
  {
   "cell_type": "code",
   "execution_count": 32,
   "id": "5d7293bb",
   "metadata": {},
   "outputs": [],
   "source": [
    "df_obs = pd.read_sql(\n",
    "    \"SELECT * FROM light_rail_station_boardings WHERE year IN (2023, 2024)\",\n",
    "    con=conn,\n",
    ")\n",
    "df_obs.rename(columns={\"boardings\": \"observed_boardings\"}, inplace=True)\n",
    "\n",
    "# df_obs.groupby(['year','station_name']).sum()\n",
    "df_obs = pd.pivot_table(df_obs, values='observed_boardings', columns='year', index='station_name', aggfunc=np.sum)\n",
    "df_obs = df_obs.fillna(0)\n",
    "df_obs\n",
    "\n",
    "df = pd.read_csv(os.path.join(csv_path,'light_rail_boardings.csv'), index_col='station_name', usecols=['station_name','model_boardings'])\n",
    "df = df.merge(df_obs,  left_index=True, right_index=True, how='outer')\n",
    "df = df[df.index != 'Total']\n",
    "df = df[~df['model_boardings'].isnull()]\n",
    "df = df.loc[line_1_station_list]"
   ]
  },
  {
   "cell_type": "code",
   "execution_count": 33,
   "id": "5b8aa02f",
   "metadata": {},
   "outputs": [
    {
     "data": {
      "application/vnd.plotly.v1+json": {
       "config": {
        "plotlyServerURL": "https://plot.ly"
       },
       "data": [
        {
         "hovertemplate": "variable=2023.0<br>station_name=%{x}<br>value=%{y}<extra></extra>",
         "legendgroup": "2023.0",
         "line": {
          "color": "#91268F",
          "dash": "solid"
         },
         "marker": {
          "symbol": "circle"
         },
         "mode": "lines",
         "name": "2023.0",
         "orientation": "v",
         "showlegend": true,
         "type": "scatter",
         "x": [
          "Northgate Station",
          "Roosevelt Station",
          "University District Station",
          "Husky Stadium",
          "Capitol Hill",
          "Westlake",
          "Symphony",
          "Pioneer Square",
          "Int'l District",
          "Stadium",
          "SODO",
          "Beacon Hill",
          "Mount Baker",
          "Columbia City",
          "Othello",
          "Rainier Beach",
          "Tukwila Int'l Blvd",
          "SeaTac/Airport",
          "Angle Lake"
         ],
         "xaxis": "x",
         "y": [
          10384,
          4349,
          7563,
          6134,
          7667,
          8845,
          4324,
          2400,
          4399,
          1731,
          1669,
          2147,
          1861,
          1630,
          2030,
          1495,
          2298,
          4731,
          3865
         ],
         "yaxis": "y"
        },
        {
         "hovertemplate": "variable=2024.0<br>station_name=%{x}<br>value=%{y}<extra></extra>",
         "legendgroup": "2024.0",
         "line": {
          "color": "#8CC63E",
          "dash": "solid"
         },
         "marker": {
          "symbol": "circle"
         },
         "mode": "lines",
         "name": "2024.0",
         "orientation": "v",
         "showlegend": true,
         "type": "scatter",
         "x": [
          "Northgate Station",
          "Roosevelt Station",
          "University District Station",
          "Husky Stadium",
          "Capitol Hill",
          "Westlake",
          "Symphony",
          "Pioneer Square",
          "Int'l District",
          "Stadium",
          "SODO",
          "Beacon Hill",
          "Mount Baker",
          "Columbia City",
          "Othello",
          "Rainier Beach",
          "Tukwila Int'l Blvd",
          "SeaTac/Airport",
          "Angle Lake"
         ],
         "xaxis": "x",
         "y": [
          10171,
          4380,
          7694,
          5879,
          7977,
          9351,
          4599,
          2672,
          4808,
          1717,
          1656,
          2274,
          2078,
          1942,
          2261,
          1608,
          2567,
          5670,
          4963
         ],
         "yaxis": "y"
        },
        {
         "hovertemplate": "variable=model_boardings<br>station_name=%{x}<br>value=%{y}<extra></extra>",
         "legendgroup": "model_boardings",
         "line": {
          "color": "#00A7A0",
          "dash": "solid"
         },
         "marker": {
          "symbol": "circle"
         },
         "mode": "lines",
         "name": "model_boardings",
         "orientation": "v",
         "showlegend": true,
         "type": "scatter",
         "x": [
          "Northgate Station",
          "Roosevelt Station",
          "University District Station",
          "Husky Stadium",
          "Capitol Hill",
          "Westlake",
          "Symphony",
          "Pioneer Square",
          "Int'l District",
          "Stadium",
          "SODO",
          "Beacon Hill",
          "Mount Baker",
          "Columbia City",
          "Othello",
          "Rainier Beach",
          "Tukwila Int'l Blvd",
          "SeaTac/Airport",
          "Angle Lake"
         ],
         "xaxis": "x",
         "y": [
          9288.096160888672,
          9125.120646238329,
          7778.868997097015,
          4145.483870983124,
          8801.06637763977,
          11631.43842124939,
          6731.676235198975,
          5235.384432792664,
          1950.144684791565,
          353.44025018811226,
          2486.1651678085327,
          1399.9604616761208,
          1751.9272738695145,
          1820.3703227043152,
          2257.8563580513,
          1841.8336186409,
          2982.983142375946,
          6298.603131473064,
          2961.588607788086
         ],
         "yaxis": "y"
        }
       ],
       "layout": {
        "font": {
         "size": 11
        },
        "height": 500,
        "legend": {
         "title": {
          "text": "variable"
         },
         "tracegroupgap": 0
        },
        "margin": {
         "t": 60
        },
        "template": {
         "data": {
          "bar": [
           {
            "error_x": {
             "color": "rgb(36,36,36)"
            },
            "error_y": {
             "color": "rgb(36,36,36)"
            },
            "marker": {
             "line": {
              "color": "white",
              "width": 0.5
             },
             "pattern": {
              "fillmode": "overlay",
              "size": 10,
              "solidity": 0.2
             }
            },
            "type": "bar"
           }
          ],
          "barpolar": [
           {
            "marker": {
             "line": {
              "color": "white",
              "width": 0.5
             },
             "pattern": {
              "fillmode": "overlay",
              "size": 10,
              "solidity": 0.2
             }
            },
            "type": "barpolar"
           }
          ],
          "carpet": [
           {
            "aaxis": {
             "endlinecolor": "rgb(36,36,36)",
             "gridcolor": "white",
             "linecolor": "white",
             "minorgridcolor": "white",
             "startlinecolor": "rgb(36,36,36)"
            },
            "baxis": {
             "endlinecolor": "rgb(36,36,36)",
             "gridcolor": "white",
             "linecolor": "white",
             "minorgridcolor": "white",
             "startlinecolor": "rgb(36,36,36)"
            },
            "type": "carpet"
           }
          ],
          "choropleth": [
           {
            "colorbar": {
             "outlinewidth": 1,
             "tickcolor": "rgb(36,36,36)",
             "ticks": "outside"
            },
            "type": "choropleth"
           }
          ],
          "contour": [
           {
            "colorbar": {
             "outlinewidth": 1,
             "tickcolor": "rgb(36,36,36)",
             "ticks": "outside"
            },
            "colorscale": [
             [
              0,
              "#440154"
             ],
             [
              0.1111111111111111,
              "#482878"
             ],
             [
              0.2222222222222222,
              "#3e4989"
             ],
             [
              0.3333333333333333,
              "#31688e"
             ],
             [
              0.4444444444444444,
              "#26828e"
             ],
             [
              0.5555555555555556,
              "#1f9e89"
             ],
             [
              0.6666666666666666,
              "#35b779"
             ],
             [
              0.7777777777777778,
              "#6ece58"
             ],
             [
              0.8888888888888888,
              "#b5de2b"
             ],
             [
              1,
              "#fde725"
             ]
            ],
            "type": "contour"
           }
          ],
          "contourcarpet": [
           {
            "colorbar": {
             "outlinewidth": 1,
             "tickcolor": "rgb(36,36,36)",
             "ticks": "outside"
            },
            "type": "contourcarpet"
           }
          ],
          "heatmap": [
           {
            "colorbar": {
             "outlinewidth": 1,
             "tickcolor": "rgb(36,36,36)",
             "ticks": "outside"
            },
            "colorscale": [
             [
              0,
              "#440154"
             ],
             [
              0.1111111111111111,
              "#482878"
             ],
             [
              0.2222222222222222,
              "#3e4989"
             ],
             [
              0.3333333333333333,
              "#31688e"
             ],
             [
              0.4444444444444444,
              "#26828e"
             ],
             [
              0.5555555555555556,
              "#1f9e89"
             ],
             [
              0.6666666666666666,
              "#35b779"
             ],
             [
              0.7777777777777778,
              "#6ece58"
             ],
             [
              0.8888888888888888,
              "#b5de2b"
             ],
             [
              1,
              "#fde725"
             ]
            ],
            "type": "heatmap"
           }
          ],
          "heatmapgl": [
           {
            "colorbar": {
             "outlinewidth": 1,
             "tickcolor": "rgb(36,36,36)",
             "ticks": "outside"
            },
            "colorscale": [
             [
              0,
              "#440154"
             ],
             [
              0.1111111111111111,
              "#482878"
             ],
             [
              0.2222222222222222,
              "#3e4989"
             ],
             [
              0.3333333333333333,
              "#31688e"
             ],
             [
              0.4444444444444444,
              "#26828e"
             ],
             [
              0.5555555555555556,
              "#1f9e89"
             ],
             [
              0.6666666666666666,
              "#35b779"
             ],
             [
              0.7777777777777778,
              "#6ece58"
             ],
             [
              0.8888888888888888,
              "#b5de2b"
             ],
             [
              1,
              "#fde725"
             ]
            ],
            "type": "heatmapgl"
           }
          ],
          "histogram": [
           {
            "marker": {
             "line": {
              "color": "white",
              "width": 0.6
             }
            },
            "type": "histogram"
           }
          ],
          "histogram2d": [
           {
            "colorbar": {
             "outlinewidth": 1,
             "tickcolor": "rgb(36,36,36)",
             "ticks": "outside"
            },
            "colorscale": [
             [
              0,
              "#440154"
             ],
             [
              0.1111111111111111,
              "#482878"
             ],
             [
              0.2222222222222222,
              "#3e4989"
             ],
             [
              0.3333333333333333,
              "#31688e"
             ],
             [
              0.4444444444444444,
              "#26828e"
             ],
             [
              0.5555555555555556,
              "#1f9e89"
             ],
             [
              0.6666666666666666,
              "#35b779"
             ],
             [
              0.7777777777777778,
              "#6ece58"
             ],
             [
              0.8888888888888888,
              "#b5de2b"
             ],
             [
              1,
              "#fde725"
             ]
            ],
            "type": "histogram2d"
           }
          ],
          "histogram2dcontour": [
           {
            "colorbar": {
             "outlinewidth": 1,
             "tickcolor": "rgb(36,36,36)",
             "ticks": "outside"
            },
            "colorscale": [
             [
              0,
              "#440154"
             ],
             [
              0.1111111111111111,
              "#482878"
             ],
             [
              0.2222222222222222,
              "#3e4989"
             ],
             [
              0.3333333333333333,
              "#31688e"
             ],
             [
              0.4444444444444444,
              "#26828e"
             ],
             [
              0.5555555555555556,
              "#1f9e89"
             ],
             [
              0.6666666666666666,
              "#35b779"
             ],
             [
              0.7777777777777778,
              "#6ece58"
             ],
             [
              0.8888888888888888,
              "#b5de2b"
             ],
             [
              1,
              "#fde725"
             ]
            ],
            "type": "histogram2dcontour"
           }
          ],
          "mesh3d": [
           {
            "colorbar": {
             "outlinewidth": 1,
             "tickcolor": "rgb(36,36,36)",
             "ticks": "outside"
            },
            "type": "mesh3d"
           }
          ],
          "parcoords": [
           {
            "line": {
             "colorbar": {
              "outlinewidth": 1,
              "tickcolor": "rgb(36,36,36)",
              "ticks": "outside"
             }
            },
            "type": "parcoords"
           }
          ],
          "pie": [
           {
            "automargin": true,
            "type": "pie"
           }
          ],
          "scatter": [
           {
            "fillpattern": {
             "fillmode": "overlay",
             "size": 10,
             "solidity": 0.2
            },
            "type": "scatter"
           }
          ],
          "scatter3d": [
           {
            "line": {
             "colorbar": {
              "outlinewidth": 1,
              "tickcolor": "rgb(36,36,36)",
              "ticks": "outside"
             }
            },
            "marker": {
             "colorbar": {
              "outlinewidth": 1,
              "tickcolor": "rgb(36,36,36)",
              "ticks": "outside"
             }
            },
            "type": "scatter3d"
           }
          ],
          "scattercarpet": [
           {
            "marker": {
             "colorbar": {
              "outlinewidth": 1,
              "tickcolor": "rgb(36,36,36)",
              "ticks": "outside"
             }
            },
            "type": "scattercarpet"
           }
          ],
          "scattergeo": [
           {
            "marker": {
             "colorbar": {
              "outlinewidth": 1,
              "tickcolor": "rgb(36,36,36)",
              "ticks": "outside"
             }
            },
            "type": "scattergeo"
           }
          ],
          "scattergl": [
           {
            "marker": {
             "colorbar": {
              "outlinewidth": 1,
              "tickcolor": "rgb(36,36,36)",
              "ticks": "outside"
             }
            },
            "type": "scattergl"
           }
          ],
          "scattermapbox": [
           {
            "marker": {
             "colorbar": {
              "outlinewidth": 1,
              "tickcolor": "rgb(36,36,36)",
              "ticks": "outside"
             }
            },
            "type": "scattermapbox"
           }
          ],
          "scatterpolar": [
           {
            "marker": {
             "colorbar": {
              "outlinewidth": 1,
              "tickcolor": "rgb(36,36,36)",
              "ticks": "outside"
             }
            },
            "type": "scatterpolar"
           }
          ],
          "scatterpolargl": [
           {
            "marker": {
             "colorbar": {
              "outlinewidth": 1,
              "tickcolor": "rgb(36,36,36)",
              "ticks": "outside"
             }
            },
            "type": "scatterpolargl"
           }
          ],
          "scatterternary": [
           {
            "marker": {
             "colorbar": {
              "outlinewidth": 1,
              "tickcolor": "rgb(36,36,36)",
              "ticks": "outside"
             }
            },
            "type": "scatterternary"
           }
          ],
          "surface": [
           {
            "colorbar": {
             "outlinewidth": 1,
             "tickcolor": "rgb(36,36,36)",
             "ticks": "outside"
            },
            "colorscale": [
             [
              0,
              "#440154"
             ],
             [
              0.1111111111111111,
              "#482878"
             ],
             [
              0.2222222222222222,
              "#3e4989"
             ],
             [
              0.3333333333333333,
              "#31688e"
             ],
             [
              0.4444444444444444,
              "#26828e"
             ],
             [
              0.5555555555555556,
              "#1f9e89"
             ],
             [
              0.6666666666666666,
              "#35b779"
             ],
             [
              0.7777777777777778,
              "#6ece58"
             ],
             [
              0.8888888888888888,
              "#b5de2b"
             ],
             [
              1,
              "#fde725"
             ]
            ],
            "type": "surface"
           }
          ],
          "table": [
           {
            "cells": {
             "fill": {
              "color": "rgb(237,237,237)"
             },
             "line": {
              "color": "white"
             }
            },
            "header": {
             "fill": {
              "color": "rgb(217,217,217)"
             },
             "line": {
              "color": "white"
             }
            },
            "type": "table"
           }
          ]
         },
         "layout": {
          "annotationdefaults": {
           "arrowhead": 0,
           "arrowwidth": 1
          },
          "autotypenumbers": "strict",
          "coloraxis": {
           "colorbar": {
            "outlinewidth": 1,
            "tickcolor": "rgb(36,36,36)",
            "ticks": "outside"
           }
          },
          "colorscale": {
           "diverging": [
            [
             0,
             "rgb(103,0,31)"
            ],
            [
             0.1,
             "rgb(178,24,43)"
            ],
            [
             0.2,
             "rgb(214,96,77)"
            ],
            [
             0.3,
             "rgb(244,165,130)"
            ],
            [
             0.4,
             "rgb(253,219,199)"
            ],
            [
             0.5,
             "rgb(247,247,247)"
            ],
            [
             0.6,
             "rgb(209,229,240)"
            ],
            [
             0.7,
             "rgb(146,197,222)"
            ],
            [
             0.8,
             "rgb(67,147,195)"
            ],
            [
             0.9,
             "rgb(33,102,172)"
            ],
            [
             1,
             "rgb(5,48,97)"
            ]
           ],
           "sequential": [
            [
             0,
             "#440154"
            ],
            [
             0.1111111111111111,
             "#482878"
            ],
            [
             0.2222222222222222,
             "#3e4989"
            ],
            [
             0.3333333333333333,
             "#31688e"
            ],
            [
             0.4444444444444444,
             "#26828e"
            ],
            [
             0.5555555555555556,
             "#1f9e89"
            ],
            [
             0.6666666666666666,
             "#35b779"
            ],
            [
             0.7777777777777778,
             "#6ece58"
            ],
            [
             0.8888888888888888,
             "#b5de2b"
            ],
            [
             1,
             "#fde725"
            ]
           ],
           "sequentialminus": [
            [
             0,
             "#440154"
            ],
            [
             0.1111111111111111,
             "#482878"
            ],
            [
             0.2222222222222222,
             "#3e4989"
            ],
            [
             0.3333333333333333,
             "#31688e"
            ],
            [
             0.4444444444444444,
             "#26828e"
            ],
            [
             0.5555555555555556,
             "#1f9e89"
            ],
            [
             0.6666666666666666,
             "#35b779"
            ],
            [
             0.7777777777777778,
             "#6ece58"
            ],
            [
             0.8888888888888888,
             "#b5de2b"
            ],
            [
             1,
             "#fde725"
            ]
           ]
          },
          "colorway": [
           "#91268F",
           "#8CC63E",
           "#00A7A0",
           "#F05A28",
           "#4C4C4C",
           "#630460",
           "#9f3913",
           "#588527",
           "#00716c",
           "#3e4040"
          ],
          "font": {
           "color": "rgb(36,36,36)",
           "family": "Poppins",
           "size": 11
          },
          "geo": {
           "bgcolor": "white",
           "lakecolor": "white",
           "landcolor": "white",
           "showlakes": true,
           "showland": true,
           "subunitcolor": "white"
          },
          "hoverlabel": {
           "align": "left"
          },
          "hovermode": "closest",
          "mapbox": {
           "style": "light"
          },
          "paper_bgcolor": "white",
          "plot_bgcolor": "white",
          "polar": {
           "angularaxis": {
            "gridcolor": "rgb(232,232,232)",
            "linecolor": "rgb(36,36,36)",
            "showgrid": false,
            "showline": true,
            "ticks": "outside"
           },
           "bgcolor": "white",
           "radialaxis": {
            "gridcolor": "rgb(232,232,232)",
            "linecolor": "rgb(36,36,36)",
            "showgrid": false,
            "showline": true,
            "ticks": "outside"
           }
          },
          "scene": {
           "xaxis": {
            "backgroundcolor": "white",
            "gridcolor": "rgb(232,232,232)",
            "gridwidth": 2,
            "linecolor": "rgb(36,36,36)",
            "showbackground": true,
            "showgrid": false,
            "showline": true,
            "ticks": "outside",
            "zeroline": false,
            "zerolinecolor": "rgb(36,36,36)"
           },
           "yaxis": {
            "backgroundcolor": "white",
            "gridcolor": "rgb(232,232,232)",
            "gridwidth": 2,
            "linecolor": "rgb(36,36,36)",
            "showbackground": true,
            "showgrid": false,
            "showline": true,
            "ticks": "outside",
            "zeroline": false,
            "zerolinecolor": "rgb(36,36,36)"
           },
           "zaxis": {
            "backgroundcolor": "white",
            "gridcolor": "rgb(232,232,232)",
            "gridwidth": 2,
            "linecolor": "rgb(36,36,36)",
            "showbackground": true,
            "showgrid": false,
            "showline": true,
            "ticks": "outside",
            "zeroline": false,
            "zerolinecolor": "rgb(36,36,36)"
           }
          },
          "shapedefaults": {
           "fillcolor": "black",
           "line": {
            "width": 0
           },
           "opacity": 0.3
          },
          "ternary": {
           "aaxis": {
            "gridcolor": "rgb(232,232,232)",
            "linecolor": "rgb(36,36,36)",
            "showgrid": false,
            "showline": true,
            "ticks": "outside"
           },
           "baxis": {
            "gridcolor": "rgb(232,232,232)",
            "linecolor": "rgb(36,36,36)",
            "showgrid": false,
            "showline": true,
            "ticks": "outside"
           },
           "bgcolor": "white",
           "caxis": {
            "gridcolor": "rgb(232,232,232)",
            "linecolor": "rgb(36,36,36)",
            "showgrid": false,
            "showline": true,
            "ticks": "outside"
           }
          },
          "title": {
           "x": 0.05
          },
          "xaxis": {
           "automargin": true,
           "gridcolor": "rgb(232,232,232)",
           "linecolor": "rgb(36,36,36)",
           "showgrid": false,
           "showline": true,
           "ticks": "outside",
           "title": {
            "standoff": 15
           },
           "zeroline": false,
           "zerolinecolor": "rgb(36,36,36)"
          },
          "yaxis": {
           "automargin": true,
           "gridcolor": "rgb(232,232,232)",
           "linecolor": "rgb(36,36,36)",
           "showgrid": false,
           "showline": true,
           "ticks": "outside",
           "title": {
            "standoff": 15
           },
           "zeroline": false,
           "zerolinecolor": "rgb(36,36,36)"
          }
         }
        },
        "width": 900,
        "xaxis": {
         "anchor": "y",
         "domain": [
          0,
          1
         ],
         "title": {
          "text": "station_name"
         }
        },
        "yaxis": {
         "anchor": "x",
         "domain": [
          0,
          1
         ],
         "tickformat": ".00f",
         "title": {
          "text": "value"
         }
        }
       }
      },
      "text/html": [
       "<div>                            <div id=\"9581e321-fd36-47b6-9890-f373837b2f8e\" class=\"plotly-graph-div\" style=\"height:500px; width:900px;\"></div>            <script type=\"text/javascript\">                require([\"plotly\"], function(Plotly) {                    window.PLOTLYENV=window.PLOTLYENV || {};                                    if (document.getElementById(\"9581e321-fd36-47b6-9890-f373837b2f8e\")) {                    Plotly.newPlot(                        \"9581e321-fd36-47b6-9890-f373837b2f8e\",                        [{\"hovertemplate\":\"variable=2023.0\\u003cbr\\u003estation_name=%{x}\\u003cbr\\u003evalue=%{y}\\u003cextra\\u003e\\u003c\\u002fextra\\u003e\",\"legendgroup\":\"2023.0\",\"line\":{\"color\":\"#91268F\",\"dash\":\"solid\"},\"marker\":{\"symbol\":\"circle\"},\"mode\":\"lines\",\"name\":\"2023.0\",\"orientation\":\"v\",\"showlegend\":true,\"x\":[\"Northgate Station\",\"Roosevelt Station\",\"University District Station\",\"Husky Stadium\",\"Capitol Hill\",\"Westlake\",\"Symphony\",\"Pioneer Square\",\"Int'l District\",\"Stadium\",\"SODO\",\"Beacon Hill\",\"Mount Baker\",\"Columbia City\",\"Othello\",\"Rainier Beach\",\"Tukwila Int'l Blvd\",\"SeaTac\\u002fAirport\",\"Angle Lake\"],\"xaxis\":\"x\",\"y\":[10384.0,4349.0,7563.0,6134.0,7667.0,8845.0,4324.0,2400.0,4399.0,1731.0,1669.0,2147.0,1861.0,1630.0,2030.0,1495.0,2298.0,4731.0,3865.0],\"yaxis\":\"y\",\"type\":\"scatter\"},{\"hovertemplate\":\"variable=2024.0\\u003cbr\\u003estation_name=%{x}\\u003cbr\\u003evalue=%{y}\\u003cextra\\u003e\\u003c\\u002fextra\\u003e\",\"legendgroup\":\"2024.0\",\"line\":{\"color\":\"#8CC63E\",\"dash\":\"solid\"},\"marker\":{\"symbol\":\"circle\"},\"mode\":\"lines\",\"name\":\"2024.0\",\"orientation\":\"v\",\"showlegend\":true,\"x\":[\"Northgate Station\",\"Roosevelt Station\",\"University District Station\",\"Husky Stadium\",\"Capitol Hill\",\"Westlake\",\"Symphony\",\"Pioneer Square\",\"Int'l District\",\"Stadium\",\"SODO\",\"Beacon Hill\",\"Mount Baker\",\"Columbia City\",\"Othello\",\"Rainier Beach\",\"Tukwila Int'l Blvd\",\"SeaTac\\u002fAirport\",\"Angle Lake\"],\"xaxis\":\"x\",\"y\":[10171.0,4380.0,7694.0,5879.0,7977.0,9351.0,4599.0,2672.0,4808.0,1717.0,1656.0,2274.0,2078.0,1942.0,2261.0,1608.0,2567.0,5670.0,4963.0],\"yaxis\":\"y\",\"type\":\"scatter\"},{\"hovertemplate\":\"variable=model_boardings\\u003cbr\\u003estation_name=%{x}\\u003cbr\\u003evalue=%{y}\\u003cextra\\u003e\\u003c\\u002fextra\\u003e\",\"legendgroup\":\"model_boardings\",\"line\":{\"color\":\"#00A7A0\",\"dash\":\"solid\"},\"marker\":{\"symbol\":\"circle\"},\"mode\":\"lines\",\"name\":\"model_boardings\",\"orientation\":\"v\",\"showlegend\":true,\"x\":[\"Northgate Station\",\"Roosevelt Station\",\"University District Station\",\"Husky Stadium\",\"Capitol Hill\",\"Westlake\",\"Symphony\",\"Pioneer Square\",\"Int'l District\",\"Stadium\",\"SODO\",\"Beacon Hill\",\"Mount Baker\",\"Columbia City\",\"Othello\",\"Rainier Beach\",\"Tukwila Int'l Blvd\",\"SeaTac\\u002fAirport\",\"Angle Lake\"],\"xaxis\":\"x\",\"y\":[9288.096160888672,9125.120646238329,7778.868997097015,4145.483870983124,8801.06637763977,11631.43842124939,6731.676235198975,5235.384432792664,1950.144684791565,353.44025018811226,2486.1651678085327,1399.9604616761208,1751.9272738695145,1820.3703227043152,2257.8563580513,1841.8336186409,2982.983142375946,6298.603131473064,2961.588607788086],\"yaxis\":\"y\",\"type\":\"scatter\"}],                        {\"template\":{\"data\":{\"barpolar\":[{\"marker\":{\"line\":{\"color\":\"white\",\"width\":0.5},\"pattern\":{\"fillmode\":\"overlay\",\"size\":10,\"solidity\":0.2}},\"type\":\"barpolar\"}],\"bar\":[{\"error_x\":{\"color\":\"rgb(36,36,36)\"},\"error_y\":{\"color\":\"rgb(36,36,36)\"},\"marker\":{\"line\":{\"color\":\"white\",\"width\":0.5},\"pattern\":{\"fillmode\":\"overlay\",\"size\":10,\"solidity\":0.2}},\"type\":\"bar\"}],\"carpet\":[{\"aaxis\":{\"endlinecolor\":\"rgb(36,36,36)\",\"gridcolor\":\"white\",\"linecolor\":\"white\",\"minorgridcolor\":\"white\",\"startlinecolor\":\"rgb(36,36,36)\"},\"baxis\":{\"endlinecolor\":\"rgb(36,36,36)\",\"gridcolor\":\"white\",\"linecolor\":\"white\",\"minorgridcolor\":\"white\",\"startlinecolor\":\"rgb(36,36,36)\"},\"type\":\"carpet\"}],\"choropleth\":[{\"colorbar\":{\"outlinewidth\":1,\"tickcolor\":\"rgb(36,36,36)\",\"ticks\":\"outside\"},\"type\":\"choropleth\"}],\"contourcarpet\":[{\"colorbar\":{\"outlinewidth\":1,\"tickcolor\":\"rgb(36,36,36)\",\"ticks\":\"outside\"},\"type\":\"contourcarpet\"}],\"contour\":[{\"colorbar\":{\"outlinewidth\":1,\"tickcolor\":\"rgb(36,36,36)\",\"ticks\":\"outside\"},\"colorscale\":[[0.0,\"#440154\"],[0.1111111111111111,\"#482878\"],[0.2222222222222222,\"#3e4989\"],[0.3333333333333333,\"#31688e\"],[0.4444444444444444,\"#26828e\"],[0.5555555555555556,\"#1f9e89\"],[0.6666666666666666,\"#35b779\"],[0.7777777777777778,\"#6ece58\"],[0.8888888888888888,\"#b5de2b\"],[1.0,\"#fde725\"]],\"type\":\"contour\"}],\"heatmapgl\":[{\"colorbar\":{\"outlinewidth\":1,\"tickcolor\":\"rgb(36,36,36)\",\"ticks\":\"outside\"},\"colorscale\":[[0.0,\"#440154\"],[0.1111111111111111,\"#482878\"],[0.2222222222222222,\"#3e4989\"],[0.3333333333333333,\"#31688e\"],[0.4444444444444444,\"#26828e\"],[0.5555555555555556,\"#1f9e89\"],[0.6666666666666666,\"#35b779\"],[0.7777777777777778,\"#6ece58\"],[0.8888888888888888,\"#b5de2b\"],[1.0,\"#fde725\"]],\"type\":\"heatmapgl\"}],\"heatmap\":[{\"colorbar\":{\"outlinewidth\":1,\"tickcolor\":\"rgb(36,36,36)\",\"ticks\":\"outside\"},\"colorscale\":[[0.0,\"#440154\"],[0.1111111111111111,\"#482878\"],[0.2222222222222222,\"#3e4989\"],[0.3333333333333333,\"#31688e\"],[0.4444444444444444,\"#26828e\"],[0.5555555555555556,\"#1f9e89\"],[0.6666666666666666,\"#35b779\"],[0.7777777777777778,\"#6ece58\"],[0.8888888888888888,\"#b5de2b\"],[1.0,\"#fde725\"]],\"type\":\"heatmap\"}],\"histogram2dcontour\":[{\"colorbar\":{\"outlinewidth\":1,\"tickcolor\":\"rgb(36,36,36)\",\"ticks\":\"outside\"},\"colorscale\":[[0.0,\"#440154\"],[0.1111111111111111,\"#482878\"],[0.2222222222222222,\"#3e4989\"],[0.3333333333333333,\"#31688e\"],[0.4444444444444444,\"#26828e\"],[0.5555555555555556,\"#1f9e89\"],[0.6666666666666666,\"#35b779\"],[0.7777777777777778,\"#6ece58\"],[0.8888888888888888,\"#b5de2b\"],[1.0,\"#fde725\"]],\"type\":\"histogram2dcontour\"}],\"histogram2d\":[{\"colorbar\":{\"outlinewidth\":1,\"tickcolor\":\"rgb(36,36,36)\",\"ticks\":\"outside\"},\"colorscale\":[[0.0,\"#440154\"],[0.1111111111111111,\"#482878\"],[0.2222222222222222,\"#3e4989\"],[0.3333333333333333,\"#31688e\"],[0.4444444444444444,\"#26828e\"],[0.5555555555555556,\"#1f9e89\"],[0.6666666666666666,\"#35b779\"],[0.7777777777777778,\"#6ece58\"],[0.8888888888888888,\"#b5de2b\"],[1.0,\"#fde725\"]],\"type\":\"histogram2d\"}],\"histogram\":[{\"marker\":{\"line\":{\"color\":\"white\",\"width\":0.6}},\"type\":\"histogram\"}],\"mesh3d\":[{\"colorbar\":{\"outlinewidth\":1,\"tickcolor\":\"rgb(36,36,36)\",\"ticks\":\"outside\"},\"type\":\"mesh3d\"}],\"parcoords\":[{\"line\":{\"colorbar\":{\"outlinewidth\":1,\"tickcolor\":\"rgb(36,36,36)\",\"ticks\":\"outside\"}},\"type\":\"parcoords\"}],\"pie\":[{\"automargin\":true,\"type\":\"pie\"}],\"scatter3d\":[{\"line\":{\"colorbar\":{\"outlinewidth\":1,\"tickcolor\":\"rgb(36,36,36)\",\"ticks\":\"outside\"}},\"marker\":{\"colorbar\":{\"outlinewidth\":1,\"tickcolor\":\"rgb(36,36,36)\",\"ticks\":\"outside\"}},\"type\":\"scatter3d\"}],\"scattercarpet\":[{\"marker\":{\"colorbar\":{\"outlinewidth\":1,\"tickcolor\":\"rgb(36,36,36)\",\"ticks\":\"outside\"}},\"type\":\"scattercarpet\"}],\"scattergeo\":[{\"marker\":{\"colorbar\":{\"outlinewidth\":1,\"tickcolor\":\"rgb(36,36,36)\",\"ticks\":\"outside\"}},\"type\":\"scattergeo\"}],\"scattergl\":[{\"marker\":{\"colorbar\":{\"outlinewidth\":1,\"tickcolor\":\"rgb(36,36,36)\",\"ticks\":\"outside\"}},\"type\":\"scattergl\"}],\"scattermapbox\":[{\"marker\":{\"colorbar\":{\"outlinewidth\":1,\"tickcolor\":\"rgb(36,36,36)\",\"ticks\":\"outside\"}},\"type\":\"scattermapbox\"}],\"scatterpolargl\":[{\"marker\":{\"colorbar\":{\"outlinewidth\":1,\"tickcolor\":\"rgb(36,36,36)\",\"ticks\":\"outside\"}},\"type\":\"scatterpolargl\"}],\"scatterpolar\":[{\"marker\":{\"colorbar\":{\"outlinewidth\":1,\"tickcolor\":\"rgb(36,36,36)\",\"ticks\":\"outside\"}},\"type\":\"scatterpolar\"}],\"scatter\":[{\"fillpattern\":{\"fillmode\":\"overlay\",\"size\":10,\"solidity\":0.2},\"type\":\"scatter\"}],\"scatterternary\":[{\"marker\":{\"colorbar\":{\"outlinewidth\":1,\"tickcolor\":\"rgb(36,36,36)\",\"ticks\":\"outside\"}},\"type\":\"scatterternary\"}],\"surface\":[{\"colorbar\":{\"outlinewidth\":1,\"tickcolor\":\"rgb(36,36,36)\",\"ticks\":\"outside\"},\"colorscale\":[[0.0,\"#440154\"],[0.1111111111111111,\"#482878\"],[0.2222222222222222,\"#3e4989\"],[0.3333333333333333,\"#31688e\"],[0.4444444444444444,\"#26828e\"],[0.5555555555555556,\"#1f9e89\"],[0.6666666666666666,\"#35b779\"],[0.7777777777777778,\"#6ece58\"],[0.8888888888888888,\"#b5de2b\"],[1.0,\"#fde725\"]],\"type\":\"surface\"}],\"table\":[{\"cells\":{\"fill\":{\"color\":\"rgb(237,237,237)\"},\"line\":{\"color\":\"white\"}},\"header\":{\"fill\":{\"color\":\"rgb(217,217,217)\"},\"line\":{\"color\":\"white\"}},\"type\":\"table\"}]},\"layout\":{\"annotationdefaults\":{\"arrowhead\":0,\"arrowwidth\":1},\"autotypenumbers\":\"strict\",\"coloraxis\":{\"colorbar\":{\"outlinewidth\":1,\"tickcolor\":\"rgb(36,36,36)\",\"ticks\":\"outside\"}},\"colorscale\":{\"diverging\":[[0.0,\"rgb(103,0,31)\"],[0.1,\"rgb(178,24,43)\"],[0.2,\"rgb(214,96,77)\"],[0.3,\"rgb(244,165,130)\"],[0.4,\"rgb(253,219,199)\"],[0.5,\"rgb(247,247,247)\"],[0.6,\"rgb(209,229,240)\"],[0.7,\"rgb(146,197,222)\"],[0.8,\"rgb(67,147,195)\"],[0.9,\"rgb(33,102,172)\"],[1.0,\"rgb(5,48,97)\"]],\"sequential\":[[0.0,\"#440154\"],[0.1111111111111111,\"#482878\"],[0.2222222222222222,\"#3e4989\"],[0.3333333333333333,\"#31688e\"],[0.4444444444444444,\"#26828e\"],[0.5555555555555556,\"#1f9e89\"],[0.6666666666666666,\"#35b779\"],[0.7777777777777778,\"#6ece58\"],[0.8888888888888888,\"#b5de2b\"],[1.0,\"#fde725\"]],\"sequentialminus\":[[0.0,\"#440154\"],[0.1111111111111111,\"#482878\"],[0.2222222222222222,\"#3e4989\"],[0.3333333333333333,\"#31688e\"],[0.4444444444444444,\"#26828e\"],[0.5555555555555556,\"#1f9e89\"],[0.6666666666666666,\"#35b779\"],[0.7777777777777778,\"#6ece58\"],[0.8888888888888888,\"#b5de2b\"],[1.0,\"#fde725\"]]},\"colorway\":[\"#91268F\",\"#8CC63E\",\"#00A7A0\",\"#F05A28\",\"#4C4C4C\",\"#630460\",\"#9f3913\",\"#588527\",\"#00716c\",\"#3e4040\"],\"font\":{\"color\":\"rgb(36,36,36)\",\"family\":\"Poppins\",\"size\":11},\"geo\":{\"bgcolor\":\"white\",\"lakecolor\":\"white\",\"landcolor\":\"white\",\"showlakes\":true,\"showland\":true,\"subunitcolor\":\"white\"},\"hoverlabel\":{\"align\":\"left\"},\"hovermode\":\"closest\",\"mapbox\":{\"style\":\"light\"},\"paper_bgcolor\":\"white\",\"plot_bgcolor\":\"white\",\"polar\":{\"angularaxis\":{\"gridcolor\":\"rgb(232,232,232)\",\"linecolor\":\"rgb(36,36,36)\",\"showgrid\":false,\"showline\":true,\"ticks\":\"outside\"},\"bgcolor\":\"white\",\"radialaxis\":{\"gridcolor\":\"rgb(232,232,232)\",\"linecolor\":\"rgb(36,36,36)\",\"showgrid\":false,\"showline\":true,\"ticks\":\"outside\"}},\"scene\":{\"xaxis\":{\"backgroundcolor\":\"white\",\"gridcolor\":\"rgb(232,232,232)\",\"gridwidth\":2,\"linecolor\":\"rgb(36,36,36)\",\"showbackground\":true,\"showgrid\":false,\"showline\":true,\"ticks\":\"outside\",\"zeroline\":false,\"zerolinecolor\":\"rgb(36,36,36)\"},\"yaxis\":{\"backgroundcolor\":\"white\",\"gridcolor\":\"rgb(232,232,232)\",\"gridwidth\":2,\"linecolor\":\"rgb(36,36,36)\",\"showbackground\":true,\"showgrid\":false,\"showline\":true,\"ticks\":\"outside\",\"zeroline\":false,\"zerolinecolor\":\"rgb(36,36,36)\"},\"zaxis\":{\"backgroundcolor\":\"white\",\"gridcolor\":\"rgb(232,232,232)\",\"gridwidth\":2,\"linecolor\":\"rgb(36,36,36)\",\"showbackground\":true,\"showgrid\":false,\"showline\":true,\"ticks\":\"outside\",\"zeroline\":false,\"zerolinecolor\":\"rgb(36,36,36)\"}},\"shapedefaults\":{\"fillcolor\":\"black\",\"line\":{\"width\":0},\"opacity\":0.3},\"ternary\":{\"aaxis\":{\"gridcolor\":\"rgb(232,232,232)\",\"linecolor\":\"rgb(36,36,36)\",\"showgrid\":false,\"showline\":true,\"ticks\":\"outside\"},\"baxis\":{\"gridcolor\":\"rgb(232,232,232)\",\"linecolor\":\"rgb(36,36,36)\",\"showgrid\":false,\"showline\":true,\"ticks\":\"outside\"},\"bgcolor\":\"white\",\"caxis\":{\"gridcolor\":\"rgb(232,232,232)\",\"linecolor\":\"rgb(36,36,36)\",\"showgrid\":false,\"showline\":true,\"ticks\":\"outside\"}},\"title\":{\"x\":0.05},\"xaxis\":{\"automargin\":true,\"gridcolor\":\"rgb(232,232,232)\",\"linecolor\":\"rgb(36,36,36)\",\"showgrid\":false,\"showline\":true,\"ticks\":\"outside\",\"title\":{\"standoff\":15},\"zeroline\":false,\"zerolinecolor\":\"rgb(36,36,36)\"},\"yaxis\":{\"automargin\":true,\"gridcolor\":\"rgb(232,232,232)\",\"linecolor\":\"rgb(36,36,36)\",\"showgrid\":false,\"showline\":true,\"ticks\":\"outside\",\"title\":{\"standoff\":15},\"zeroline\":false,\"zerolinecolor\":\"rgb(36,36,36)\"}}},\"xaxis\":{\"anchor\":\"y\",\"domain\":[0.0,1.0],\"title\":{\"text\":\"station_name\"}},\"yaxis\":{\"anchor\":\"x\",\"domain\":[0.0,1.0],\"title\":{\"text\":\"value\"},\"tickformat\":\".00f\"},\"legend\":{\"title\":{\"text\":\"variable\"},\"tracegroupgap\":0},\"margin\":{\"t\":60},\"font\":{\"size\":11},\"height\":500,\"width\":900},                        {\"responsive\": true}                    ).then(function(){\n",
       "                            \n",
       "var gd = document.getElementById('9581e321-fd36-47b6-9890-f373837b2f8e');\n",
       "var x = new MutationObserver(function (mutations, observer) {{\n",
       "        var display = window.getComputedStyle(gd).display;\n",
       "        if (!display || display === 'none') {{\n",
       "            console.log([gd, 'removed!']);\n",
       "            Plotly.purge(gd);\n",
       "            observer.disconnect();\n",
       "        }}\n",
       "}});\n",
       "\n",
       "// Listen for the removal of the full notebook cells\n",
       "var notebookContainer = gd.closest('#notebook-container');\n",
       "if (notebookContainer) {{\n",
       "    x.observe(notebookContainer, {childList: true});\n",
       "}}\n",
       "\n",
       "// Listen for the clearing of the current output cell\n",
       "var outputEl = gd.closest('.output');\n",
       "if (outputEl) {{\n",
       "    x.observe(outputEl, {childList: true});\n",
       "}}\n",
       "\n",
       "                        })                };                });            </script>        </div>"
      ]
     },
     "metadata": {},
     "output_type": "display_data"
    }
   ],
   "source": [
    "fig = px.line(df[[2023,2024,'model_boardings']])\n",
    "fig.update_layout(height=500, width=900, font=dict(size=11),\n",
    "                  yaxis_tickformat = '.00f')\n",
    "fig.show()"
   ]
  },
  {
   "cell_type": "raw",
   "id": "f429de2d705b1e22",
   "metadata": {},
   "source": [
    ":::"
   ]
  },
  {
   "cell_type": "markdown",
   "id": "86996e48d6760252",
   "metadata": {},
   "source": [
    "## light rail stop transfers"
   ]
  },
  {
   "cell_type": "code",
   "execution_count": 34,
   "id": "4bd536d185354993",
   "metadata": {
    "ExecuteTime": {
     "end_time": "2024-06-24T20:06:14.325917Z",
     "start_time": "2024-06-24T20:06:14.279144Z"
    },
    "execution": {
     "iopub.execute_input": "2024-12-14T02:38:43.002696Z",
     "iopub.status.busy": "2024-12-14T02:38:43.000701Z",
     "iopub.status.idle": "2024-12-14T02:38:43.053560Z",
     "shell.execute_reply": "2024-12-14T02:38:43.051565Z"
    }
   },
   "outputs": [
    {
     "data": {
      "text/html": [
       "<div>\n",
       "<style scoped>\n",
       "    .dataframe tbody tr th:only-of-type {\n",
       "        vertical-align: middle;\n",
       "    }\n",
       "\n",
       "    .dataframe tbody tr th {\n",
       "        vertical-align: top;\n",
       "    }\n",
       "\n",
       "    .dataframe thead th {\n",
       "        text-align: right;\n",
       "    }\n",
       "</style>\n",
       "<table border=\"1\" class=\"dataframe\">\n",
       "  <thead>\n",
       "    <tr style=\"text-align: right;\">\n",
       "      <th></th>\n",
       "      <th>modeled_transfer_rate</th>\n",
       "      <th>observed_transfer_rate</th>\n",
       "      <th>diff</th>\n",
       "      <th>percent_diff</th>\n",
       "    </tr>\n",
       "    <tr>\n",
       "      <th>station_name</th>\n",
       "      <th></th>\n",
       "      <th></th>\n",
       "      <th></th>\n",
       "      <th></th>\n",
       "    </tr>\n",
       "  </thead>\n",
       "  <tbody>\n",
       "    <tr>\n",
       "      <th>Northgate Station</th>\n",
       "      <td>0.54</td>\n",
       "      <td>-99.00</td>\n",
       "      <td>99.54</td>\n",
       "      <td>-100.55%</td>\n",
       "    </tr>\n",
       "    <tr>\n",
       "      <th>Roosevelt Station</th>\n",
       "      <td>0.37</td>\n",
       "      <td>-99.00</td>\n",
       "      <td>99.37</td>\n",
       "      <td>-100.37%</td>\n",
       "    </tr>\n",
       "    <tr>\n",
       "      <th>University District Station</th>\n",
       "      <td>0.21</td>\n",
       "      <td>-99.00</td>\n",
       "      <td>99.21</td>\n",
       "      <td>-100.22%</td>\n",
       "    </tr>\n",
       "    <tr>\n",
       "      <th>Husky Stadium</th>\n",
       "      <td>0.81</td>\n",
       "      <td>-99.00</td>\n",
       "      <td>99.81</td>\n",
       "      <td>-100.82%</td>\n",
       "    </tr>\n",
       "    <tr>\n",
       "      <th>Capitol Hill</th>\n",
       "      <td>0.05</td>\n",
       "      <td>-99.00</td>\n",
       "      <td>99.05</td>\n",
       "      <td>-100.05%</td>\n",
       "    </tr>\n",
       "    <tr>\n",
       "      <th>Westlake</th>\n",
       "      <td>0.11</td>\n",
       "      <td>0.36</td>\n",
       "      <td>-0.25</td>\n",
       "      <td>-69.05%</td>\n",
       "    </tr>\n",
       "    <tr>\n",
       "      <th>Symphony</th>\n",
       "      <td>0.29</td>\n",
       "      <td>0.20</td>\n",
       "      <td>0.09</td>\n",
       "      <td>46.83%</td>\n",
       "    </tr>\n",
       "    <tr>\n",
       "      <th>Pioneer Square</th>\n",
       "      <td>0.36</td>\n",
       "      <td>0.16</td>\n",
       "      <td>0.20</td>\n",
       "      <td>125.77%</td>\n",
       "    </tr>\n",
       "    <tr>\n",
       "      <th>Int'l District</th>\n",
       "      <td>0.52</td>\n",
       "      <td>0.45</td>\n",
       "      <td>0.07</td>\n",
       "      <td>15.02%</td>\n",
       "    </tr>\n",
       "    <tr>\n",
       "      <th>Stadium</th>\n",
       "      <td>0.38</td>\n",
       "      <td>0.12</td>\n",
       "      <td>0.26</td>\n",
       "      <td>215.29%</td>\n",
       "    </tr>\n",
       "    <tr>\n",
       "      <th>SODO</th>\n",
       "      <td>0.62</td>\n",
       "      <td>0.31</td>\n",
       "      <td>0.31</td>\n",
       "      <td>99.34%</td>\n",
       "    </tr>\n",
       "    <tr>\n",
       "      <th>Beacon Hill</th>\n",
       "      <td>0.34</td>\n",
       "      <td>0.35</td>\n",
       "      <td>-0.01</td>\n",
       "      <td>-3.47%</td>\n",
       "    </tr>\n",
       "    <tr>\n",
       "      <th>Mount Baker</th>\n",
       "      <td>0.41</td>\n",
       "      <td>0.32</td>\n",
       "      <td>0.08</td>\n",
       "      <td>26.10%</td>\n",
       "    </tr>\n",
       "    <tr>\n",
       "      <th>Columbia City</th>\n",
       "      <td>0.01</td>\n",
       "      <td>0.12</td>\n",
       "      <td>-0.11</td>\n",
       "      <td>-90.90%</td>\n",
       "    </tr>\n",
       "    <tr>\n",
       "      <th>Othello</th>\n",
       "      <td>0.05</td>\n",
       "      <td>0.12</td>\n",
       "      <td>-0.08</td>\n",
       "      <td>-61.97%</td>\n",
       "    </tr>\n",
       "    <tr>\n",
       "      <th>Rainier Beach</th>\n",
       "      <td>0.28</td>\n",
       "      <td>0.36</td>\n",
       "      <td>-0.08</td>\n",
       "      <td>-22.23%</td>\n",
       "    </tr>\n",
       "    <tr>\n",
       "      <th>Tukwila Int'l Blvd</th>\n",
       "      <td>0.45</td>\n",
       "      <td>0.26</td>\n",
       "      <td>0.19</td>\n",
       "      <td>71.01%</td>\n",
       "    </tr>\n",
       "    <tr>\n",
       "      <th>SeaTac/Airport</th>\n",
       "      <td>0.13</td>\n",
       "      <td>0.26</td>\n",
       "      <td>-0.14</td>\n",
       "      <td>-51.77%</td>\n",
       "    </tr>\n",
       "    <tr>\n",
       "      <th>Angle Lake</th>\n",
       "      <td>0.26</td>\n",
       "      <td>-99.00</td>\n",
       "      <td>99.26</td>\n",
       "      <td>-100.26%</td>\n",
       "    </tr>\n",
       "  </tbody>\n",
       "</table>\n",
       "</div>"
      ],
      "text/plain": [
       "                             modeled_transfer_rate  observed_transfer_rate  \\\n",
       "station_name                                                                 \n",
       "Northgate Station                             0.54                  -99.00   \n",
       "Roosevelt Station                             0.37                  -99.00   \n",
       "University District Station                   0.21                  -99.00   \n",
       "Husky Stadium                                 0.81                  -99.00   \n",
       "Capitol Hill                                  0.05                  -99.00   \n",
       "Westlake                                      0.11                    0.36   \n",
       "Symphony                                      0.29                    0.20   \n",
       "Pioneer Square                                0.36                    0.16   \n",
       "Int'l District                                0.52                    0.45   \n",
       "Stadium                                       0.38                    0.12   \n",
       "SODO                                          0.62                    0.31   \n",
       "Beacon Hill                                   0.34                    0.35   \n",
       "Mount Baker                                   0.41                    0.32   \n",
       "Columbia City                                 0.01                    0.12   \n",
       "Othello                                       0.05                    0.12   \n",
       "Rainier Beach                                 0.28                    0.36   \n",
       "Tukwila Int'l Blvd                            0.45                    0.26   \n",
       "SeaTac/Airport                                0.13                    0.26   \n",
       "Angle Lake                                    0.26                  -99.00   \n",
       "\n",
       "                             diff percent_diff  \n",
       "station_name                                    \n",
       "Northgate Station           99.54     -100.55%  \n",
       "Roosevelt Station           99.37     -100.37%  \n",
       "University District Station 99.21     -100.22%  \n",
       "Husky Stadium               99.81     -100.82%  \n",
       "Capitol Hill                99.05     -100.05%  \n",
       "Westlake                    -0.25      -69.05%  \n",
       "Symphony                     0.09       46.83%  \n",
       "Pioneer Square               0.20      125.77%  \n",
       "Int'l District               0.07       15.02%  \n",
       "Stadium                      0.26      215.29%  \n",
       "SODO                         0.31       99.34%  \n",
       "Beacon Hill                 -0.01       -3.47%  \n",
       "Mount Baker                  0.08       26.10%  \n",
       "Columbia City               -0.11      -90.90%  \n",
       "Othello                     -0.08      -61.97%  \n",
       "Rainier Beach               -0.08      -22.23%  \n",
       "Tukwila Int'l Blvd           0.19       71.01%  \n",
       "SeaTac/Airport              -0.14      -51.77%  \n",
       "Angle Lake                  99.26     -100.26%  "
      ]
     },
     "execution_count": 34,
     "metadata": {},
     "output_type": "execute_result"
    }
   ],
   "source": [
    "df = pd.read_csv(os.path.join(csv_path,'light_rail_transfers.csv'), index_col='station_name')\n",
    "df[['percent_diff']] = df[['percent_diff']].applymap(format_percent)\n",
    "df.loc[line_1_station_list]"
   ]
  },
  {
   "cell_type": "markdown",
   "id": "fb8646bd",
   "metadata": {},
   "source": [
    "## Park and Ride"
   ]
  },
  {
   "cell_type": "code",
   "execution_count": 35,
   "id": "226280a8",
   "metadata": {},
   "outputs": [],
   "source": [
    "df_trip = pd.read_csv(os.path.join(valid_config['model_dir'], 'outputs/daysim/_trip.tsv'), sep='\\t')\n",
    "pnr_boardings = df_trip[(df_trip['otaz'].isin(range(3750,4001))) & (df_trip['mode']==6)]\n",
    "pnr_boardings = pnr_boardings.groupby('otaz').count()[['trexpfac']].reset_index()"
   ]
  },
  {
   "cell_type": "code",
   "execution_count": 36,
   "id": "8fc48cdd",
   "metadata": {},
   "outputs": [],
   "source": [
    "stations = [\n",
    "    {\"id\": 3751, \"name\": \"Tukwila Station (CR)\"},\n",
    "    {\"id\": 3752, \"name\": \"Tacoma Dome Station\"},\n",
    "    {\"id\": 3753, \"name\": \"South Tacoma (CR)\"},\n",
    "    {\"id\": 3754, \"name\": \"Everett Station (CR)\"},\n",
    "    {\"id\": 3755, \"name\": \"Sumner Station (CR)\"},\n",
    "    {\"id\": 3756, \"name\": \"Mukilteo Station\"},\n",
    "    {\"id\": 3757, \"name\": \"Kent Station (CR)\"},\n",
    "    {\"id\": 3758, \"name\": \"Auburn Station (CR)\"},\n",
    "    {\"id\": 3759, \"name\": \"Lakewood (CR)\"},\n",
    "    {\"id\": 3760, \"name\": \"Gateway P&R\"},\n",
    "    {\"id\": 3761, \"name\": \"Puyallup Station (SB)\"},\n",
    "    {\"id\": 3762, \"name\": \"Twin Lakes P&R\"},\n",
    "    {\"id\": 3763, \"name\": \"Crossroads Neighborhood Church\"},\n",
    "    {\"id\": 3764, \"name\": \"Overlake Transit Center\"},\n",
    "    {\"id\": 3765, \"name\": \"Redondo Heights P&R\"},\n",
    "    {\"id\": 3766, \"name\": \"North Gig Harbor/Kimball Drive\"},\n",
    "    {\"id\": 3767, \"name\": \"Duvall P&R\"},\n",
    "    {\"id\": 3768, \"name\": \"Roy 'Y' P&R\"},\n",
    "    {\"id\": 3769, \"name\": \"South Hill (Elim Evangelical)\"},\n",
    "    {\"id\": 3770, \"name\": \"Parkland Transit Center\"},\n",
    "    {\"id\": 3771, \"name\": \"SR-512/I-5 (Lakewood)\"},\n",
    "    {\"id\": 3772, \"name\": \"Center Street P&R\"},\n",
    "    {\"id\": 3773, \"name\": \"Tacoma Mall Transit Center\"},\n",
    "    {\"id\": 3774, \"name\": \"South Tacoma West\"},\n",
    "    {\"id\": 3775, \"name\": \"South Tacoma East - 2\"},\n",
    "    {\"id\": 3776, \"name\": \"Narrows P&R\"},\n",
    "    {\"id\": 3777, \"name\": \"North Purdy/Purdy Crescent\"},\n",
    "    {\"id\": 3778, \"name\": \"Point Defiance Ferry\"},\n",
    "    {\"id\": 3779, \"name\": \"South Federal P&R\"},\n",
    "    {\"id\": 3780, \"name\": \"Sultan P&R\"},\n",
    "    {\"id\": 3781, \"name\": \"Federal Way P&R (320th)\"},\n",
    "    {\"id\": 3782, \"name\": \"Auburn P&R\"},\n",
    "    {\"id\": 3783, \"name\": \"Star Lake P&R\"},\n",
    "    {\"id\": 3784, \"name\": \"Holy Spirit Lutheran Church\"},\n",
    "    {\"id\": 3785, \"name\": \"Kent/Des Moines P&R\"},\n",
    "    {\"id\": 3786, \"name\": \"Kent/James St. P&R\"},\n",
    "    {\"id\": 3787, \"name\": \"Burien Transit Center\"},\n",
    "    {\"id\": 3788, \"name\": \"Tukwila\"},\n",
    "    {\"id\": 3789, \"name\": \"Maple Valley P&R\"},\n",
    "    {\"id\": 3790, \"name\": \"South Renton P&R\"},\n",
    "    {\"id\": 3791, \"name\": \"Renton Highlands P&R (St. Matts)\"},\n",
    "    {\"id\": 3792, \"name\": \"Issaquah Transit Center\"},\n",
    "    {\"id\": 3793, \"name\": \"Mercer Island P&R\"},\n",
    "    {\"id\": 3794, \"name\": \"Mercer Island Presbyterian\"},\n",
    "    {\"id\": 3795, \"name\": \"Newport Hills P&R\"},\n",
    "    {\"id\": 3796, \"name\": \"Newport Hills Community Church\"},\n",
    "    {\"id\": 3797, \"name\": \"Newport Covenant Church\"},\n",
    "    {\"id\": 3798, \"name\": \"South Bellevue P&R\"},\n",
    "    {\"id\": 3799, \"name\": \"Wilburton\"},\n",
    "    {\"id\": 3800, \"name\": \"Eastgate P&R\"},\n",
    "    {\"id\": 3801, \"name\": \"North Bend P&R\"},\n",
    "    {\"id\": 3802, \"name\": \"Evergreen Point P&R\"},\n",
    "    {\"id\": 3803, \"name\": \"Grace Lutheran Church\"},\n",
    "    {\"id\": 3804, \"name\": \"South Kirkland P&R\"},\n",
    "    {\"id\": 3805, \"name\": \"Overlake P&R\"},\n",
    "    {\"id\": 3806, \"name\": \"Houghton P&R\"},\n",
    "    {\"id\": 3807, \"name\": \"Bethel Lutheran\"},\n",
    "    {\"id\": 3808, \"name\": \"Redmond P&R\"},\n",
    "    {\"id\": 3809, \"name\": \"Saint Thomas Episcopal\"},\n",
    "    {\"id\": 3810, \"name\": \"Valley Center\"},\n",
    "    {\"id\": 3811, \"name\": \"Bear Creek P&R\"},\n",
    "    {\"id\": 3812, \"name\": \"Kingsgate P&R\"},\n",
    "    {\"id\": 3813, \"name\": \"Brickyard P&R\"},\n",
    "    {\"id\": 3814, \"name\": \"Northshore P&R\"},\n",
    "    {\"id\": 3815, \"name\": \"Kenmore P&R\"},\n",
    "    {\"id\": 3816, \"name\": \"Bethany Bible Church\"},\n",
    "    {\"id\": 3817, \"name\": \"Bothell P&R\"},\n",
    "    {\"id\": 3818, \"name\": \"Woodinville P&R\"},\n",
    "    {\"id\": 3819, \"name\": \"Olson & Meyers\"},\n",
    "    {\"id\": 3820, \"name\": \"Spokane Street P&R\"},\n",
    "    {\"id\": 3821, \"name\": \"Greenlake P&R\"},\n",
    "    {\"id\": 3822, \"name\": \"Northgate TC\"},\n",
    "    {\"id\": 3823, \"name\": \"North Jackson Park\"},\n",
    "    {\"id\": 3824, \"name\": \"Shoreline\"},\n",
    "    {\"id\": 3825, \"name\": \"112th St. & I-5\"},\n",
    "    {\"id\": 3826, \"name\": \"Ober Park\"},\n",
    "    {\"id\": 3827, \"name\": \"Vashon Heights\"},\n",
    "    {\"id\": 3828, \"name\": \"Mountlake Terrace P&R\"},\n",
    "    {\"id\": 3829, \"name\": \"Bethesda Lutheran\"},\n",
    "    {\"id\": 3830, \"name\": \"Edmonds Station\"},\n",
    "    {\"id\": 3831, \"name\": \"Edmonds P&R\"},\n",
    "    {\"id\": 3832, \"name\": \"Lynnwood P&R\"},\n",
    "    {\"id\": 3833, \"name\": \"Swamp Creek P&R\"},\n",
    "    {\"id\": 3834, \"name\": \"Mariner P&R\"},\n",
    "    {\"id\": 3835, \"name\": \"Snohomish\"},\n",
    "    {\"id\": 3836, \"name\": \"Marysville - Ash Ave\"},\n",
    "    {\"id\": 3837, \"name\": \"116th & I-5 - Marysville\"},\n",
    "    {\"id\": 3838, \"name\": \"SR-531 - Marysville\"},\n",
    "    {\"id\": 3839, \"name\": \"Arlington P&R\"},\n",
    "    {\"id\": 3840, \"name\": \"Stanwood\"},\n",
    "    {\"id\": 3841, \"name\": \"Monroe\"},\n",
    "    {\"id\": 3842, \"name\": \"Federal Way\"},\n",
    "    {\"id\": 3843, \"name\": \"Port Orchard Armory\"},\n",
    "    {\"id\": 3844, \"name\": \"Southworth Ferry P&R\"},\n",
    "    {\"id\": 3845, \"name\": \"McWilliams P&R\"},\n",
    "    {\"id\": 3846, \"name\": \"Bethany Lutheran Church\"},\n",
    "    {\"id\": 3847, \"name\": \"Gateway Fellowship\"},\n",
    "    {\"id\": 3848, \"name\": \"Agate Pass P&R/Clearwater\"},\n",
    "    {\"id\": 3849, \"name\": \"Kingston Ferry P&R\"},\n",
    "    {\"id\": 3850, \"name\": \"Suquamish United Church of Christ\"},\n",
    "    {\"id\": 3851, \"name\": \"Bainbridge Island Ferry\"},\n",
    "    {\"id\": 3852, \"name\": \"Puyallup Station (NB)\"},\n",
    "    {\"id\": 3853, \"name\": \"72nd Street Transit Center\"},\n",
    "    {\"id\": 3855, \"name\": \"DuPont\"},\n",
    "    {\"id\": 3856, \"name\": \"Aurora Village TC\"},\n",
    "    {\"id\": 3857, \"name\": \"Aurora Nazarene\"},\n",
    "    {\"id\": 3858, \"name\": \"Saint Margaret's Episcopal\"},\n",
    "    {\"id\": 3861, \"name\": \"Lake Meridian P&R\"},\n",
    "    {\"id\": 3862, \"name\": \"Smokey Pt. Church\"},\n",
    "    {\"id\": 3863, \"name\": \"Eastmont P&R\"},\n",
    "    {\"id\": 3864, \"name\": \"McCollum Park P&R\"},\n",
    "    {\"id\": 3865, \"name\": \"Canyon Park P&R\"},\n",
    "    {\"id\": 3866, \"name\": \"Korean Presby. P&R\"},\n",
    "    {\"id\": 3867, \"name\": \"Georges Kountry Korner\"},\n",
    "    {\"id\": 3868, \"name\": \"Poulsbo Church of the Nazarene\"},\n",
    "    {\"id\": 3870, \"name\": \"Harper Evangelical Free Church\"},\n",
    "    {\"id\": 3871, \"name\": \"Mullenix Road\"},\n",
    "    {\"id\": 3873, \"name\": \"TCC P&R\"},\n",
    "    {\"id\": 3874, \"name\": \"Ash Way P&R\"},\n",
    "    {\"id\": 3875, \"name\": \"Bonney Lake P&R\"},\n",
    "    {\"id\": 3876, \"name\": \"Tukwila Int. Station\"},\n",
    "    {\"id\": 3877, \"name\": \"South Hill P&R\"},\n",
    "    {\"id\": 3878, \"name\": \"South Tacoma East - 1\"},\n",
    "    {\"id\": 3879, \"name\": \"Issaquah Highlands\"},\n",
    "    {\"id\": 3880, \"name\": \"Lake Stevens TC\"},\n",
    "    {\"id\": 3881, \"name\": \"Liberty Bay Presbyterian\"},\n",
    "    {\"id\": 3882, \"name\": \"NK Baptist\"},\n",
    "    {\"id\": 3883, \"name\": \"Preston P&R\"},\n",
    "    {\"id\": 3884, \"name\": \"Bayside Community Church\"},\n",
    "    {\"id\": 3885, \"name\": \"Ollala Valley Fire Station\"},\n",
    "    {\"id\": 3886, \"name\": \"Bremerton Ferry\"},\n",
    "    {\"id\": 3888, \"name\": \"Puyallup Fair's Red Lot\"},\n",
    "    {\"id\": 3889, \"name\": \"Marysville - Cedar & Grove\"},\n",
    "    {\"id\": 3890, \"name\": \"Stanwood II\"},\n",
    "    {\"id\": 3891, \"name\": \"Marysville I P&R\"},\n",
    "    {\"id\": 3892, \"name\": \"Martha Lake Covenant Church\"},\n",
    "    {\"id\": 3893, \"name\": \"South Sammammish P&R\"},\n",
    "    {\"id\": 3894, \"name\": \"Renton City Municipal Garage\"},\n",
    "    {\"id\": 3895, \"name\": \"Tibbetts Lot\"},\n",
    "    {\"id\": 3896, \"name\": \"Renton Transit Center\"},\n",
    "    {\"id\": 3897, \"name\": \"Calvary Christian Assembly\"},\n",
    "    {\"id\": 3898, \"name\": \"Maple Valley Town Square\"},\n",
    "    {\"id\": 3899, \"name\": \"All Saints Lutheran Church\"},\n",
    "    {\"id\": 3900, \"name\": \"City View Church\"},\n",
    "    {\"id\": 3901, \"name\": \"Northwest University 6710 Bldg.\"},\n",
    "    {\"id\": 3902, \"name\": \"Sammamish Lutheran P&R\"},\n",
    "    {\"id\": 3903, \"name\": \"Redmond Ridge P&R\"},\n",
    "    {\"id\": 3904, \"name\": \"Kennydale United Methodist Church\"},\n",
    "    {\"id\": 3905, \"name\": \"Nativity Lutheran Church\"},\n",
    "    {\"id\": 3906, \"name\": \"South Jackson P&R\"},\n",
    "    {\"id\": 3907, \"name\": \"South SeaTac (LR)\"},\n",
    "    {\"id\": 3908, \"name\": \"Everett Station\"},\n",
    "    {\"id\": 3909, \"name\": \"Bremerton (SR-303/Riddell Road)\"},\n",
    "    {\"id\": 3910, \"name\": \"Silverdale\"},\n",
    "    {\"id\": 3911, \"name\": \"Tukwila Station (CR)\"},\n",
    "    {\"id\": 3913, \"name\": \"Sumner Station Garage\"},\n",
    "    {\"id\": 3914, \"name\": \"Tacoma Dome\"},\n",
    "    {\"id\": 3915, \"name\": \"Bothell (SR-527/185th Street)\"},\n",
    "    {\"id\": 3916, \"name\": \"SR-3/SR-303\"},\n",
    "    {\"id\": 3917, \"name\": \"SR-16/SR-160\"},\n",
    "    {\"id\": 3918, \"name\": \"I-5 & 175th\"}\n",
    "]"
   ]
  },
  {
   "cell_type": "code",
   "execution_count": 37,
   "id": "adf42b0c",
   "metadata": {},
   "outputs": [],
   "source": [
    "pnr_capacity = pd.read_csv(os.path.join(valid_config['model_dir'], 'inputs/scenario/networks/p_r_nodes.csv'))\n",
    "df = pnr_capacity.merge(pnr_boardings, left_on='ZoneID', right_on='otaz')\n",
    "df.rename(columns={'ZoneID': 'taz', 'trexpfac': 'Model Boardings'}, inplace=True)\n",
    "df['Boardings/Capacity'] = df['Model Boardings']/df['Capacity']\n",
    "# df.head()"
   ]
  },
  {
   "cell_type": "raw",
   "id": "0a7a4e81",
   "metadata": {
    "vscode": {
     "languageId": "raw"
    }
   },
   "source": [
    ":::{.panel-tabset}\n",
    "\n",
    "### boardings vs capacity"
   ]
  },
  {
   "cell_type": "code",
   "execution_count": 38,
   "id": "a4fb4af0",
   "metadata": {},
   "outputs": [],
   "source": [
    "df_station_names = pd.DataFrame(stations)\n",
    "df = df.merge(df_station_names, how='left', left_on='taz', right_on='id')"
   ]
  },
  {
   "cell_type": "code",
   "execution_count": 39,
   "id": "7f7b1396",
   "metadata": {},
   "outputs": [
    {
     "data": {
      "application/vnd.plotly.v1+json": {
       "config": {
        "plotlyServerURL": "https://plot.ly"
       },
       "data": [
        {
         "customdata": [
          [
           "Tukwila Station (CR)",
           0.24615384615384617
          ],
          [
           "Tacoma Dome Station",
           0.07928164695575997
          ],
          [
           "South Tacoma (CR)",
           0.00909090909090909
          ],
          [
           "Everett Station (CR)",
           0.06466729147141519
          ],
          [
           "Sumner Station (CR)",
           0.8013245033112583
          ],
          [
           "Mukilteo Station",
           0.031746031746031744
          ],
          [
           "Kent Station (CR)",
           0.44477911646586343
          ],
          [
           "Auburn Station (CR)",
           0.8380503144654088
          ],
          [
           "Lakewood (CR)",
           0.006666666666666667
          ],
          [
           "Gateway P&R",
           0.4230769230769231
          ],
          [
           "Puyallup Station (SB)",
           0.16283524904214558
          ],
          [
           "Twin Lakes P&R",
           0.011666666666666667
          ],
          [
           "Crossroads Neighborhood Church",
           0.056074766355140186
          ],
          [
           "Overlake Transit Center",
           0.35294117647058826
          ],
          [
           "Redondo Heights P&R",
           0.00430416068866571
          ],
          [
           "North Gig Harbor/Kimball Drive",
           0.03594771241830065
          ],
          [
           "Duvall P&R",
           0.02040816326530612
          ],
          [
           "Roy 'Y' P&R",
           0.01
          ],
          [
           "South Hill (Elim Evangelical)",
           0.65
          ],
          [
           "Parkland Transit Center",
           0.0967741935483871
          ],
          [
           "SR-512/I-5 (Lakewood)",
           0.032454361054766734
          ],
          [
           "Center Street P&R",
           0.09333333333333334
          ],
          [
           "Tacoma Mall Transit Center",
           0.08
          ],
          [
           "South Tacoma West",
           0.1282051282051282
          ],
          [
           "South Tacoma East - 2",
           0.045454545454545456
          ],
          [
           "Narrows P&R",
           0.005128205128205128
          ],
          [
           "North Purdy/Purdy Crescent",
           0.005
          ],
          [
           "Point Defiance Ferry",
           0.0759493670886076
          ],
          [
           "South Federal P&R",
           0.027184466019417475
          ],
          [
           "Federal Way P&R (320th)",
           0.07411630558722919
          ],
          [
           "Auburn P&R",
           0.0111731843575419
          ],
          [
           "Holy Spirit Lutheran Church",
           0.175
          ],
          [
           "Kent/Des Moines P&R",
           0.022277227722772276
          ],
          [
           "Kent/James St. P&R",
           0.1402524544179523
          ],
          [
           "Burien Transit Center",
           0.04918032786885246
          ],
          [
           "Tukwila",
           0.07865168539325842
          ],
          [
           "Maple Valley P&R",
           0.00819672131147541
          ],
          [
           "South Renton P&R",
           0.08051948051948052
          ],
          [
           "Renton Highlands P&R (St. Matts)",
           0.015625
          ],
          [
           "Issaquah Transit Center",
           0.085
          ],
          [
           "Mercer Island P&R",
           0.4116331096196868
          ],
          [
           "Mercer Island Presbyterian",
           0.7
          ],
          [
           "Newport Hills P&R",
           0.014545454545454545
          ],
          [
           "Newport Covenant Church",
           0.02666666666666667
          ],
          [
           "South Bellevue P&R",
           0.018666666666666668
          ],
          [
           "Wilburton",
           0.05913978494623656
          ],
          [
           "Eastgate P&R",
           0.029120198265179677
          ],
          [
           "North Bend P&R",
           0.075
          ],
          [
           "Grace Lutheran Church",
           0.48
          ],
          [
           "South Kirkland P&R",
           0.007643312101910828
          ],
          [
           "Overlake P&R",
           0.28078817733990147
          ],
          [
           "Houghton P&R",
           0.01276595744680851
          ],
          [
           "Bethel Lutheran",
           0.025
          ],
          [
           "Redmond P&R",
           0.22
          ],
          [
           "Saint Thomas Episcopal",
           0.3958333333333333
          ],
          [
           "Valley Center",
           0.05454545454545454
          ],
          [
           "Bear Creek P&R",
           0.059880239520958084
          ],
          [
           "Kingsgate P&R",
           0.09561752988047809
          ],
          [
           "Brickyard P&R",
           0.008264462809917356
          ],
          [
           "Northshore P&R",
           0.02925531914893617
          ],
          [
           "Kenmore P&R",
           0.08955223880597014
          ],
          [
           "Bethany Bible Church",
           0.8933333333333333
          ],
          [
           "Bothell P&R",
           0.2772727272727273
          ],
          [
           "Woodinville P&R",
           0.0196078431372549
          ],
          [
           "Olson & Meyers",
           0.2
          ],
          [
           "Greenlake P&R",
           0.24330900243309003
          ],
          [
           "North Jackson Park",
           0.224
          ],
          [
           "Shoreline",
           0.08651399491094147
          ],
          [
           "112th St. & I-5",
           0.020050125313283207
          ],
          [
           "Ober Park",
           0.020833333333333332
          ],
          [
           "Vashon Heights",
           0.39565217391304347
          ],
          [
           "Mountlake Terrace P&R",
           0.02745995423340961
          ],
          [
           "Bethesda Lutheran",
           0.45
          ],
          [
           "Edmonds Station",
           0.003861003861003861
          ],
          [
           "Edmonds P&R",
           0.054901960784313725
          ],
          [
           "Lynnwood P&R",
           0.006329113924050633
          ],
          [
           "Swamp Creek P&R",
           0.03902439024390244
          ],
          [
           "Mariner P&R",
           0.025487256371814093
          ],
          [
           "Snohomish",
           0.028846153846153848
          ],
          [
           "Marysville - Ash Ave",
           0.01485148514851485
          ],
          [
           "Arlington P&R",
           0.16
          ],
          [
           "Monroe",
           0.0392156862745098
          ],
          [
           "Federal Way",
           0.034453781512605045
          ],
          [
           "Southworth Ferry P&R",
           0.32075471698113206
          ],
          [
           "McWilliams P&R",
           0.006622516556291391
          ],
          [
           "Bethany Lutheran Church",
           0.3875
          ],
          [
           "Gateway Fellowship",
           0.043478260869565216
          ],
          [
           "Kingston Ferry P&R",
           0.013888888888888888
          ],
          [
           "Suquamish United Church of Christ",
           0.046153846153846156
          ],
          [
           "Puyallup Station (NB)",
           0.022988505747126436
          ],
          [
           "72nd Street Transit Center",
           0.10294117647058823
          ],
          [
           "Aurora Village TC",
           0.3811881188118812
          ],
          [
           "Aurora Nazarene",
           0.15517241379310345
          ],
          [
           "Saint Margaret's Episcopal",
           0.140625
          ],
          [
           "Lake Meridian P&R",
           0.06395348837209303
          ],
          [
           "Smokey Pt. Church",
           0.08
          ],
          [
           "Eastmont P&R",
           0.002570694087403599
          ],
          [
           "McCollum Park P&R",
           0.0488997555012225
          ],
          [
           "Canyon Park P&R",
           0.05704697986577181
          ],
          [
           "Korean Presby. P&R",
           0.6
          ],
          [
           "Poulsbo Church of the Nazarene",
           0.007518796992481203
          ],
          [
           "Harper Evangelical Free Church",
           0.015151515151515152
          ],
          [
           "Mullenix Road",
           0.043478260869565216
          ],
          [
           "TCC P&R",
           0.10526315789473684
          ],
          [
           "Ash Way P&R",
           0.0549558390578999
          ],
          [
           "Bonney Lake P&R",
           0.016853932584269662
          ],
          [
           "Tukwila Int. Station",
           0.57
          ],
          [
           "South Hill P&R",
           0.031073446327683617
          ],
          [
           "South Tacoma East - 1",
           0.030303030303030304
          ],
          [
           "Issaquah Highlands",
           0.032
          ],
          [
           "Lake Stevens TC",
           0.028985507246376812
          ],
          [
           "Liberty Bay Presbyterian",
           0.011111111111111112
          ],
          [
           "NK Baptist",
           0.07017543859649122
          ],
          [
           "Preston P&R",
           0.7169811320754716
          ],
          [
           "Bayside Community Church",
           0.004761904761904762
          ],
          [
           "Bremerton Ferry",
           0.2314487632508834
          ],
          [
           "Marysville - Cedar & Grove",
           0.014084507042253521
          ],
          [
           "Marysville I P&R",
           0.05405405405405406
          ],
          [
           "Martha Lake Covenant Church",
           0.04
          ],
          [
           "South Sammammish P&R",
           0.01509433962264151
          ],
          [
           "Renton City Municipal Garage",
           0.14666666666666667
          ],
          [
           "Tibbetts Lot",
           0.052941176470588235
          ],
          [
           "Renton Transit Center",
           0.1
          ],
          [
           "Calvary Christian Assembly",
           0.28
          ],
          [
           "Maple Valley Town Square",
           0.022222222222222223
          ],
          [
           "All Saints Lutheran Church",
           0.08
          ],
          [
           "City View Church",
           0.8020833333333334
          ],
          [
           "Northwest University 6710 Bldg.",
           0.22950819672131148
          ],
          [
           "Sammamish Lutheran P&R",
           0.018518518518518517
          ],
          [
           "Redmond Ridge P&R",
           0.057692307692307696
          ],
          [
           "Kennydale United Methodist Church",
           0.1
          ],
          [
           "Nativity Lutheran Church",
           0.08163265306122448
          ],
          [
           "South SeaTac (LR)",
           0.8689655172413793
          ],
          [
           "Everett Station",
           0.40625
          ],
          [
           null,
           0.1111111111111111
          ]
         ],
         "hovertemplate": "color=Boardings/Capacity <= 1<br>Capacity=%{x}<br>Model Boardings=%{y}<br>name=%{customdata[0]}<br>Boardings/Capacity=%{customdata[1]:.2f}<extra></extra>",
         "legendgroup": "Boardings/Capacity <= 1",
         "marker": {
          "color": "#91268F",
          "symbol": "circle"
         },
         "mode": "markers",
         "name": "Boardings/Capacity <= 1",
         "orientation": "v",
         "showlegend": true,
         "type": "scatter",
         "x": [
          390,
          2283,
          220,
          1067,
          302,
          63,
          996,
          636,
          600,
          104,
          522,
          600,
          107,
          323,
          697,
          306,
          49,
          100,
          20,
          62,
          493,
          75,
          150,
          78,
          44,
          195,
          200,
          79,
          515,
          877,
          358,
          40,
          404,
          713,
          488,
          267,
          122,
          385,
          128,
          200,
          447,
          30,
          275,
          75,
          1500,
          186,
          1614,
          80,
          50,
          785,
          203,
          470,
          40,
          150,
          48,
          55,
          334,
          502,
          242,
          376,
          603,
          75,
          220,
          459,
          100,
          411,
          500,
          393,
          399,
          48,
          230,
          874,
          20,
          259,
          255,
          1896,
          410,
          667,
          104,
          202,
          25,
          102,
          1190,
          318,
          151,
          80,
          138,
          72,
          65,
          522,
          68,
          202,
          116,
          64,
          172,
          50,
          389,
          409,
          298,
          25,
          266,
          462,
          92,
          95,
          1019,
          356,
          600,
          354,
          33,
          1000,
          207,
          90,
          57,
          53,
          210,
          566,
          213,
          74,
          75,
          265,
          150,
          170,
          150,
          125,
          90,
          75,
          96,
          61,
          54,
          52,
          50,
          49,
          1160,
          160,
          54
         ],
         "xaxis": "x",
         "y": [
          96,
          181,
          2,
          69,
          242,
          2,
          443,
          533,
          4,
          44,
          85,
          7,
          6,
          114,
          3,
          11,
          1,
          1,
          13,
          6,
          16,
          7,
          12,
          10,
          2,
          1,
          1,
          6,
          14,
          65,
          4,
          7,
          9,
          100,
          24,
          21,
          1,
          31,
          2,
          17,
          184,
          21,
          4,
          2,
          28,
          11,
          47,
          6,
          24,
          6,
          57,
          6,
          1,
          33,
          19,
          3,
          20,
          48,
          2,
          11,
          54,
          67,
          61,
          9,
          20,
          100,
          112,
          34,
          8,
          1,
          91,
          24,
          9,
          1,
          14,
          12,
          16,
          17,
          3,
          3,
          4,
          4,
          41,
          102,
          1,
          31,
          6,
          1,
          3,
          12,
          7,
          77,
          18,
          9,
          11,
          4,
          1,
          20,
          17,
          15,
          2,
          7,
          4,
          10,
          56,
          6,
          342,
          11,
          1,
          32,
          6,
          1,
          4,
          38,
          1,
          131,
          3,
          4,
          3,
          4,
          22,
          9,
          15,
          35,
          2,
          6,
          77,
          14,
          1,
          3,
          5,
          4,
          1008,
          65,
          6
         ],
         "yaxis": "y"
        },
        {
         "customdata": [
          [
           "Evergreen Point P&R",
           1.7450980392156863
          ],
          [
           "Spokane Street P&R",
           2.272727272727273
          ],
          [
           "Northgate TC",
           1.75
          ],
          [
           "Port Orchard Armory",
           1.5714285714285714
          ],
          [
           "Bainbridge Island Ferry",
           1.0962566844919786
          ],
          [
           "Puyallup Fair's Red Lot",
           1.5707762557077625
          ]
         ],
         "hovertemplate": "color=Boardings/Capacity > 1<br>Capacity=%{x}<br>Model Boardings=%{y}<br>name=%{customdata[0]}<br>Boardings/Capacity=%{customdata[1]:.2f}<extra></extra>",
         "legendgroup": "Boardings/Capacity > 1",
         "marker": {
          "color": "#8CC63E",
          "symbol": "circle"
         },
         "mode": "markers",
         "name": "Boardings/Capacity > 1",
         "orientation": "v",
         "showlegend": true,
         "type": "scatter",
         "x": [
          51,
          55,
          1444,
          105,
          187,
          219
         ],
         "xaxis": "x",
         "y": [
          89,
          125,
          2527,
          165,
          205,
          344
         ],
         "yaxis": "y"
        }
       ],
       "layout": {
        "height": 600,
        "legend": {
         "title": {
          "text": "color"
         },
         "tracegroupgap": 0
        },
        "template": {
         "data": {
          "bar": [
           {
            "error_x": {
             "color": "rgb(36,36,36)"
            },
            "error_y": {
             "color": "rgb(36,36,36)"
            },
            "marker": {
             "line": {
              "color": "white",
              "width": 0.5
             },
             "pattern": {
              "fillmode": "overlay",
              "size": 10,
              "solidity": 0.2
             }
            },
            "type": "bar"
           }
          ],
          "barpolar": [
           {
            "marker": {
             "line": {
              "color": "white",
              "width": 0.5
             },
             "pattern": {
              "fillmode": "overlay",
              "size": 10,
              "solidity": 0.2
             }
            },
            "type": "barpolar"
           }
          ],
          "carpet": [
           {
            "aaxis": {
             "endlinecolor": "rgb(36,36,36)",
             "gridcolor": "white",
             "linecolor": "white",
             "minorgridcolor": "white",
             "startlinecolor": "rgb(36,36,36)"
            },
            "baxis": {
             "endlinecolor": "rgb(36,36,36)",
             "gridcolor": "white",
             "linecolor": "white",
             "minorgridcolor": "white",
             "startlinecolor": "rgb(36,36,36)"
            },
            "type": "carpet"
           }
          ],
          "choropleth": [
           {
            "colorbar": {
             "outlinewidth": 1,
             "tickcolor": "rgb(36,36,36)",
             "ticks": "outside"
            },
            "type": "choropleth"
           }
          ],
          "contour": [
           {
            "colorbar": {
             "outlinewidth": 1,
             "tickcolor": "rgb(36,36,36)",
             "ticks": "outside"
            },
            "colorscale": [
             [
              0,
              "#440154"
             ],
             [
              0.1111111111111111,
              "#482878"
             ],
             [
              0.2222222222222222,
              "#3e4989"
             ],
             [
              0.3333333333333333,
              "#31688e"
             ],
             [
              0.4444444444444444,
              "#26828e"
             ],
             [
              0.5555555555555556,
              "#1f9e89"
             ],
             [
              0.6666666666666666,
              "#35b779"
             ],
             [
              0.7777777777777778,
              "#6ece58"
             ],
             [
              0.8888888888888888,
              "#b5de2b"
             ],
             [
              1,
              "#fde725"
             ]
            ],
            "type": "contour"
           }
          ],
          "contourcarpet": [
           {
            "colorbar": {
             "outlinewidth": 1,
             "tickcolor": "rgb(36,36,36)",
             "ticks": "outside"
            },
            "type": "contourcarpet"
           }
          ],
          "heatmap": [
           {
            "colorbar": {
             "outlinewidth": 1,
             "tickcolor": "rgb(36,36,36)",
             "ticks": "outside"
            },
            "colorscale": [
             [
              0,
              "#440154"
             ],
             [
              0.1111111111111111,
              "#482878"
             ],
             [
              0.2222222222222222,
              "#3e4989"
             ],
             [
              0.3333333333333333,
              "#31688e"
             ],
             [
              0.4444444444444444,
              "#26828e"
             ],
             [
              0.5555555555555556,
              "#1f9e89"
             ],
             [
              0.6666666666666666,
              "#35b779"
             ],
             [
              0.7777777777777778,
              "#6ece58"
             ],
             [
              0.8888888888888888,
              "#b5de2b"
             ],
             [
              1,
              "#fde725"
             ]
            ],
            "type": "heatmap"
           }
          ],
          "heatmapgl": [
           {
            "colorbar": {
             "outlinewidth": 1,
             "tickcolor": "rgb(36,36,36)",
             "ticks": "outside"
            },
            "colorscale": [
             [
              0,
              "#440154"
             ],
             [
              0.1111111111111111,
              "#482878"
             ],
             [
              0.2222222222222222,
              "#3e4989"
             ],
             [
              0.3333333333333333,
              "#31688e"
             ],
             [
              0.4444444444444444,
              "#26828e"
             ],
             [
              0.5555555555555556,
              "#1f9e89"
             ],
             [
              0.6666666666666666,
              "#35b779"
             ],
             [
              0.7777777777777778,
              "#6ece58"
             ],
             [
              0.8888888888888888,
              "#b5de2b"
             ],
             [
              1,
              "#fde725"
             ]
            ],
            "type": "heatmapgl"
           }
          ],
          "histogram": [
           {
            "marker": {
             "line": {
              "color": "white",
              "width": 0.6
             }
            },
            "type": "histogram"
           }
          ],
          "histogram2d": [
           {
            "colorbar": {
             "outlinewidth": 1,
             "tickcolor": "rgb(36,36,36)",
             "ticks": "outside"
            },
            "colorscale": [
             [
              0,
              "#440154"
             ],
             [
              0.1111111111111111,
              "#482878"
             ],
             [
              0.2222222222222222,
              "#3e4989"
             ],
             [
              0.3333333333333333,
              "#31688e"
             ],
             [
              0.4444444444444444,
              "#26828e"
             ],
             [
              0.5555555555555556,
              "#1f9e89"
             ],
             [
              0.6666666666666666,
              "#35b779"
             ],
             [
              0.7777777777777778,
              "#6ece58"
             ],
             [
              0.8888888888888888,
              "#b5de2b"
             ],
             [
              1,
              "#fde725"
             ]
            ],
            "type": "histogram2d"
           }
          ],
          "histogram2dcontour": [
           {
            "colorbar": {
             "outlinewidth": 1,
             "tickcolor": "rgb(36,36,36)",
             "ticks": "outside"
            },
            "colorscale": [
             [
              0,
              "#440154"
             ],
             [
              0.1111111111111111,
              "#482878"
             ],
             [
              0.2222222222222222,
              "#3e4989"
             ],
             [
              0.3333333333333333,
              "#31688e"
             ],
             [
              0.4444444444444444,
              "#26828e"
             ],
             [
              0.5555555555555556,
              "#1f9e89"
             ],
             [
              0.6666666666666666,
              "#35b779"
             ],
             [
              0.7777777777777778,
              "#6ece58"
             ],
             [
              0.8888888888888888,
              "#b5de2b"
             ],
             [
              1,
              "#fde725"
             ]
            ],
            "type": "histogram2dcontour"
           }
          ],
          "mesh3d": [
           {
            "colorbar": {
             "outlinewidth": 1,
             "tickcolor": "rgb(36,36,36)",
             "ticks": "outside"
            },
            "type": "mesh3d"
           }
          ],
          "parcoords": [
           {
            "line": {
             "colorbar": {
              "outlinewidth": 1,
              "tickcolor": "rgb(36,36,36)",
              "ticks": "outside"
             }
            },
            "type": "parcoords"
           }
          ],
          "pie": [
           {
            "automargin": true,
            "type": "pie"
           }
          ],
          "scatter": [
           {
            "fillpattern": {
             "fillmode": "overlay",
             "size": 10,
             "solidity": 0.2
            },
            "type": "scatter"
           }
          ],
          "scatter3d": [
           {
            "line": {
             "colorbar": {
              "outlinewidth": 1,
              "tickcolor": "rgb(36,36,36)",
              "ticks": "outside"
             }
            },
            "marker": {
             "colorbar": {
              "outlinewidth": 1,
              "tickcolor": "rgb(36,36,36)",
              "ticks": "outside"
             }
            },
            "type": "scatter3d"
           }
          ],
          "scattercarpet": [
           {
            "marker": {
             "colorbar": {
              "outlinewidth": 1,
              "tickcolor": "rgb(36,36,36)",
              "ticks": "outside"
             }
            },
            "type": "scattercarpet"
           }
          ],
          "scattergeo": [
           {
            "marker": {
             "colorbar": {
              "outlinewidth": 1,
              "tickcolor": "rgb(36,36,36)",
              "ticks": "outside"
             }
            },
            "type": "scattergeo"
           }
          ],
          "scattergl": [
           {
            "marker": {
             "colorbar": {
              "outlinewidth": 1,
              "tickcolor": "rgb(36,36,36)",
              "ticks": "outside"
             }
            },
            "type": "scattergl"
           }
          ],
          "scattermapbox": [
           {
            "marker": {
             "colorbar": {
              "outlinewidth": 1,
              "tickcolor": "rgb(36,36,36)",
              "ticks": "outside"
             }
            },
            "type": "scattermapbox"
           }
          ],
          "scatterpolar": [
           {
            "marker": {
             "colorbar": {
              "outlinewidth": 1,
              "tickcolor": "rgb(36,36,36)",
              "ticks": "outside"
             }
            },
            "type": "scatterpolar"
           }
          ],
          "scatterpolargl": [
           {
            "marker": {
             "colorbar": {
              "outlinewidth": 1,
              "tickcolor": "rgb(36,36,36)",
              "ticks": "outside"
             }
            },
            "type": "scatterpolargl"
           }
          ],
          "scatterternary": [
           {
            "marker": {
             "colorbar": {
              "outlinewidth": 1,
              "tickcolor": "rgb(36,36,36)",
              "ticks": "outside"
             }
            },
            "type": "scatterternary"
           }
          ],
          "surface": [
           {
            "colorbar": {
             "outlinewidth": 1,
             "tickcolor": "rgb(36,36,36)",
             "ticks": "outside"
            },
            "colorscale": [
             [
              0,
              "#440154"
             ],
             [
              0.1111111111111111,
              "#482878"
             ],
             [
              0.2222222222222222,
              "#3e4989"
             ],
             [
              0.3333333333333333,
              "#31688e"
             ],
             [
              0.4444444444444444,
              "#26828e"
             ],
             [
              0.5555555555555556,
              "#1f9e89"
             ],
             [
              0.6666666666666666,
              "#35b779"
             ],
             [
              0.7777777777777778,
              "#6ece58"
             ],
             [
              0.8888888888888888,
              "#b5de2b"
             ],
             [
              1,
              "#fde725"
             ]
            ],
            "type": "surface"
           }
          ],
          "table": [
           {
            "cells": {
             "fill": {
              "color": "rgb(237,237,237)"
             },
             "line": {
              "color": "white"
             }
            },
            "header": {
             "fill": {
              "color": "rgb(217,217,217)"
             },
             "line": {
              "color": "white"
             }
            },
            "type": "table"
           }
          ]
         },
         "layout": {
          "annotationdefaults": {
           "arrowhead": 0,
           "arrowwidth": 1
          },
          "autotypenumbers": "strict",
          "coloraxis": {
           "colorbar": {
            "outlinewidth": 1,
            "tickcolor": "rgb(36,36,36)",
            "ticks": "outside"
           }
          },
          "colorscale": {
           "diverging": [
            [
             0,
             "rgb(103,0,31)"
            ],
            [
             0.1,
             "rgb(178,24,43)"
            ],
            [
             0.2,
             "rgb(214,96,77)"
            ],
            [
             0.3,
             "rgb(244,165,130)"
            ],
            [
             0.4,
             "rgb(253,219,199)"
            ],
            [
             0.5,
             "rgb(247,247,247)"
            ],
            [
             0.6,
             "rgb(209,229,240)"
            ],
            [
             0.7,
             "rgb(146,197,222)"
            ],
            [
             0.8,
             "rgb(67,147,195)"
            ],
            [
             0.9,
             "rgb(33,102,172)"
            ],
            [
             1,
             "rgb(5,48,97)"
            ]
           ],
           "sequential": [
            [
             0,
             "#440154"
            ],
            [
             0.1111111111111111,
             "#482878"
            ],
            [
             0.2222222222222222,
             "#3e4989"
            ],
            [
             0.3333333333333333,
             "#31688e"
            ],
            [
             0.4444444444444444,
             "#26828e"
            ],
            [
             0.5555555555555556,
             "#1f9e89"
            ],
            [
             0.6666666666666666,
             "#35b779"
            ],
            [
             0.7777777777777778,
             "#6ece58"
            ],
            [
             0.8888888888888888,
             "#b5de2b"
            ],
            [
             1,
             "#fde725"
            ]
           ],
           "sequentialminus": [
            [
             0,
             "#440154"
            ],
            [
             0.1111111111111111,
             "#482878"
            ],
            [
             0.2222222222222222,
             "#3e4989"
            ],
            [
             0.3333333333333333,
             "#31688e"
            ],
            [
             0.4444444444444444,
             "#26828e"
            ],
            [
             0.5555555555555556,
             "#1f9e89"
            ],
            [
             0.6666666666666666,
             "#35b779"
            ],
            [
             0.7777777777777778,
             "#6ece58"
            ],
            [
             0.8888888888888888,
             "#b5de2b"
            ],
            [
             1,
             "#fde725"
            ]
           ]
          },
          "colorway": [
           "#91268F",
           "#8CC63E",
           "#00A7A0",
           "#F05A28",
           "#4C4C4C",
           "#630460",
           "#9f3913",
           "#588527",
           "#00716c",
           "#3e4040"
          ],
          "font": {
           "color": "rgb(36,36,36)",
           "family": "Poppins",
           "size": 11
          },
          "geo": {
           "bgcolor": "white",
           "lakecolor": "white",
           "landcolor": "white",
           "showlakes": true,
           "showland": true,
           "subunitcolor": "white"
          },
          "hoverlabel": {
           "align": "left"
          },
          "hovermode": "closest",
          "mapbox": {
           "style": "light"
          },
          "paper_bgcolor": "white",
          "plot_bgcolor": "white",
          "polar": {
           "angularaxis": {
            "gridcolor": "rgb(232,232,232)",
            "linecolor": "rgb(36,36,36)",
            "showgrid": false,
            "showline": true,
            "ticks": "outside"
           },
           "bgcolor": "white",
           "radialaxis": {
            "gridcolor": "rgb(232,232,232)",
            "linecolor": "rgb(36,36,36)",
            "showgrid": false,
            "showline": true,
            "ticks": "outside"
           }
          },
          "scene": {
           "xaxis": {
            "backgroundcolor": "white",
            "gridcolor": "rgb(232,232,232)",
            "gridwidth": 2,
            "linecolor": "rgb(36,36,36)",
            "showbackground": true,
            "showgrid": false,
            "showline": true,
            "ticks": "outside",
            "zeroline": false,
            "zerolinecolor": "rgb(36,36,36)"
           },
           "yaxis": {
            "backgroundcolor": "white",
            "gridcolor": "rgb(232,232,232)",
            "gridwidth": 2,
            "linecolor": "rgb(36,36,36)",
            "showbackground": true,
            "showgrid": false,
            "showline": true,
            "ticks": "outside",
            "zeroline": false,
            "zerolinecolor": "rgb(36,36,36)"
           },
           "zaxis": {
            "backgroundcolor": "white",
            "gridcolor": "rgb(232,232,232)",
            "gridwidth": 2,
            "linecolor": "rgb(36,36,36)",
            "showbackground": true,
            "showgrid": false,
            "showline": true,
            "ticks": "outside",
            "zeroline": false,
            "zerolinecolor": "rgb(36,36,36)"
           }
          },
          "shapedefaults": {
           "fillcolor": "black",
           "line": {
            "width": 0
           },
           "opacity": 0.3
          },
          "ternary": {
           "aaxis": {
            "gridcolor": "rgb(232,232,232)",
            "linecolor": "rgb(36,36,36)",
            "showgrid": false,
            "showline": true,
            "ticks": "outside"
           },
           "baxis": {
            "gridcolor": "rgb(232,232,232)",
            "linecolor": "rgb(36,36,36)",
            "showgrid": false,
            "showline": true,
            "ticks": "outside"
           },
           "bgcolor": "white",
           "caxis": {
            "gridcolor": "rgb(232,232,232)",
            "linecolor": "rgb(36,36,36)",
            "showgrid": false,
            "showline": true,
            "ticks": "outside"
           }
          },
          "title": {
           "x": 0.05
          },
          "xaxis": {
           "automargin": true,
           "gridcolor": "rgb(232,232,232)",
           "linecolor": "rgb(36,36,36)",
           "showgrid": false,
           "showline": true,
           "ticks": "outside",
           "title": {
            "standoff": 15
           },
           "zeroline": false,
           "zerolinecolor": "rgb(36,36,36)"
          },
          "yaxis": {
           "automargin": true,
           "gridcolor": "rgb(232,232,232)",
           "linecolor": "rgb(36,36,36)",
           "showgrid": false,
           "showline": true,
           "ticks": "outside",
           "title": {
            "standoff": 15
           },
           "zeroline": false,
           "zerolinecolor": "rgb(36,36,36)"
          }
         }
        },
        "title": {
         "text": "Model Boardings vs Capacity"
        },
        "width": 800,
        "xaxis": {
         "anchor": "y",
         "domain": [
          0,
          1
         ],
         "title": {
          "text": "Capacity"
         }
        },
        "yaxis": {
         "anchor": "x",
         "domain": [
          0,
          1
         ],
         "title": {
          "text": "Model Boardings"
         }
        }
       }
      },
      "text/html": [
       "<div>                            <div id=\"d8eb62a1-d737-4ff7-a836-a162c9eeb070\" class=\"plotly-graph-div\" style=\"height:600px; width:800px;\"></div>            <script type=\"text/javascript\">                require([\"plotly\"], function(Plotly) {                    window.PLOTLYENV=window.PLOTLYENV || {};                                    if (document.getElementById(\"d8eb62a1-d737-4ff7-a836-a162c9eeb070\")) {                    Plotly.newPlot(                        \"d8eb62a1-d737-4ff7-a836-a162c9eeb070\",                        [{\"customdata\":[[\"Tukwila Station (CR)\",0.24615384615384617],[\"Tacoma Dome Station\",0.07928164695575997],[\"South Tacoma (CR)\",0.00909090909090909],[\"Everett Station (CR)\",0.06466729147141519],[\"Sumner Station (CR)\",0.8013245033112583],[\"Mukilteo Station\",0.031746031746031744],[\"Kent Station (CR)\",0.44477911646586343],[\"Auburn Station (CR)\",0.8380503144654088],[\"Lakewood (CR)\",0.006666666666666667],[\"Gateway P&R\",0.4230769230769231],[\"Puyallup Station (SB)\",0.16283524904214558],[\"Twin Lakes P&R\",0.011666666666666667],[\"Crossroads Neighborhood Church\",0.056074766355140186],[\"Overlake Transit Center\",0.35294117647058826],[\"Redondo Heights P&R\",0.00430416068866571],[\"North Gig Harbor\\u002fKimball Drive\",0.03594771241830065],[\"Duvall P&R\",0.02040816326530612],[\"Roy 'Y' P&R\",0.01],[\"South Hill (Elim Evangelical)\",0.65],[\"Parkland Transit Center\",0.0967741935483871],[\"SR-512\\u002fI-5 (Lakewood)\",0.032454361054766734],[\"Center Street P&R\",0.09333333333333334],[\"Tacoma Mall Transit Center\",0.08],[\"South Tacoma West\",0.1282051282051282],[\"South Tacoma East - 2\",0.045454545454545456],[\"Narrows P&R\",0.005128205128205128],[\"North Purdy\\u002fPurdy Crescent\",0.005],[\"Point Defiance Ferry\",0.0759493670886076],[\"South Federal P&R\",0.027184466019417475],[\"Federal Way P&R (320th)\",0.07411630558722919],[\"Auburn P&R\",0.0111731843575419],[\"Holy Spirit Lutheran Church\",0.175],[\"Kent\\u002fDes Moines P&R\",0.022277227722772276],[\"Kent\\u002fJames St. P&R\",0.1402524544179523],[\"Burien Transit Center\",0.04918032786885246],[\"Tukwila\",0.07865168539325842],[\"Maple Valley P&R\",0.00819672131147541],[\"South Renton P&R\",0.08051948051948052],[\"Renton Highlands P&R (St. Matts)\",0.015625],[\"Issaquah Transit Center\",0.085],[\"Mercer Island P&R\",0.4116331096196868],[\"Mercer Island Presbyterian\",0.7],[\"Newport Hills P&R\",0.014545454545454545],[\"Newport Covenant Church\",0.02666666666666667],[\"South Bellevue P&R\",0.018666666666666668],[\"Wilburton\",0.05913978494623656],[\"Eastgate P&R\",0.029120198265179677],[\"North Bend P&R\",0.075],[\"Grace Lutheran Church\",0.48],[\"South Kirkland P&R\",0.007643312101910828],[\"Overlake P&R\",0.28078817733990147],[\"Houghton P&R\",0.01276595744680851],[\"Bethel Lutheran\",0.025],[\"Redmond P&R\",0.22],[\"Saint Thomas Episcopal\",0.3958333333333333],[\"Valley Center\",0.05454545454545454],[\"Bear Creek P&R\",0.059880239520958084],[\"Kingsgate P&R\",0.09561752988047809],[\"Brickyard P&R\",0.008264462809917356],[\"Northshore P&R\",0.02925531914893617],[\"Kenmore P&R\",0.08955223880597014],[\"Bethany Bible Church\",0.8933333333333333],[\"Bothell P&R\",0.2772727272727273],[\"Woodinville P&R\",0.0196078431372549],[\"Olson & Meyers\",0.2],[\"Greenlake P&R\",0.24330900243309003],[\"North Jackson Park\",0.224],[\"Shoreline\",0.08651399491094147],[\"112th St. & I-5\",0.020050125313283207],[\"Ober Park\",0.020833333333333332],[\"Vashon Heights\",0.39565217391304347],[\"Mountlake Terrace P&R\",0.02745995423340961],[\"Bethesda Lutheran\",0.45],[\"Edmonds Station\",0.003861003861003861],[\"Edmonds P&R\",0.054901960784313725],[\"Lynnwood P&R\",0.006329113924050633],[\"Swamp Creek P&R\",0.03902439024390244],[\"Mariner P&R\",0.025487256371814093],[\"Snohomish\",0.028846153846153848],[\"Marysville - Ash Ave\",0.01485148514851485],[\"Arlington P&R\",0.16],[\"Monroe\",0.0392156862745098],[\"Federal Way\",0.034453781512605045],[\"Southworth Ferry P&R\",0.32075471698113206],[\"McWilliams P&R\",0.006622516556291391],[\"Bethany Lutheran Church\",0.3875],[\"Gateway Fellowship\",0.043478260869565216],[\"Kingston Ferry P&R\",0.013888888888888888],[\"Suquamish United Church of Christ\",0.046153846153846156],[\"Puyallup Station (NB)\",0.022988505747126436],[\"72nd Street Transit Center\",0.10294117647058823],[\"Aurora Village TC\",0.3811881188118812],[\"Aurora Nazarene\",0.15517241379310345],[\"Saint Margaret's Episcopal\",0.140625],[\"Lake Meridian P&R\",0.06395348837209303],[\"Smokey Pt. Church\",0.08],[\"Eastmont P&R\",0.002570694087403599],[\"McCollum Park P&R\",0.0488997555012225],[\"Canyon Park P&R\",0.05704697986577181],[\"Korean Presby. P&R\",0.6],[\"Poulsbo Church of the Nazarene\",0.007518796992481203],[\"Harper Evangelical Free Church\",0.015151515151515152],[\"Mullenix Road\",0.043478260869565216],[\"TCC P&R\",0.10526315789473684],[\"Ash Way P&R\",0.0549558390578999],[\"Bonney Lake P&R\",0.016853932584269662],[\"Tukwila Int. Station\",0.57],[\"South Hill P&R\",0.031073446327683617],[\"South Tacoma East - 1\",0.030303030303030304],[\"Issaquah Highlands\",0.032],[\"Lake Stevens TC\",0.028985507246376812],[\"Liberty Bay Presbyterian\",0.011111111111111112],[\"NK Baptist\",0.07017543859649122],[\"Preston P&R\",0.7169811320754716],[\"Bayside Community Church\",0.004761904761904762],[\"Bremerton Ferry\",0.2314487632508834],[\"Marysville - Cedar & Grove\",0.014084507042253521],[\"Marysville I P&R\",0.05405405405405406],[\"Martha Lake Covenant Church\",0.04],[\"South Sammammish P&R\",0.01509433962264151],[\"Renton City Municipal Garage\",0.14666666666666667],[\"Tibbetts Lot\",0.052941176470588235],[\"Renton Transit Center\",0.1],[\"Calvary Christian Assembly\",0.28],[\"Maple Valley Town Square\",0.022222222222222223],[\"All Saints Lutheran Church\",0.08],[\"City View Church\",0.8020833333333334],[\"Northwest University 6710 Bldg.\",0.22950819672131148],[\"Sammamish Lutheran P&R\",0.018518518518518517],[\"Redmond Ridge P&R\",0.057692307692307696],[\"Kennydale United Methodist Church\",0.1],[\"Nativity Lutheran Church\",0.08163265306122448],[\"South SeaTac (LR)\",0.8689655172413793],[\"Everett Station\",0.40625],[null,0.1111111111111111]],\"hovertemplate\":\"color=Boardings\\u002fCapacity \\u003c= 1\\u003cbr\\u003eCapacity=%{x}\\u003cbr\\u003eModel Boardings=%{y}\\u003cbr\\u003ename=%{customdata[0]}\\u003cbr\\u003eBoardings\\u002fCapacity=%{customdata[1]:.2f}\\u003cextra\\u003e\\u003c\\u002fextra\\u003e\",\"legendgroup\":\"Boardings\\u002fCapacity \\u003c= 1\",\"marker\":{\"color\":\"#91268F\",\"symbol\":\"circle\"},\"mode\":\"markers\",\"name\":\"Boardings\\u002fCapacity \\u003c= 1\",\"orientation\":\"v\",\"showlegend\":true,\"x\":[390,2283,220,1067,302,63,996,636,600,104,522,600,107,323,697,306,49,100,20,62,493,75,150,78,44,195,200,79,515,877,358,40,404,713,488,267,122,385,128,200,447,30,275,75,1500,186,1614,80,50,785,203,470,40,150,48,55,334,502,242,376,603,75,220,459,100,411,500,393,399,48,230,874,20,259,255,1896,410,667,104,202,25,102,1190,318,151,80,138,72,65,522,68,202,116,64,172,50,389,409,298,25,266,462,92,95,1019,356,600,354,33,1000,207,90,57,53,210,566,213,74,75,265,150,170,150,125,90,75,96,61,54,52,50,49,1160,160,54],\"xaxis\":\"x\",\"y\":[96,181,2,69,242,2,443,533,4,44,85,7,6,114,3,11,1,1,13,6,16,7,12,10,2,1,1,6,14,65,4,7,9,100,24,21,1,31,2,17,184,21,4,2,28,11,47,6,24,6,57,6,1,33,19,3,20,48,2,11,54,67,61,9,20,100,112,34,8,1,91,24,9,1,14,12,16,17,3,3,4,4,41,102,1,31,6,1,3,12,7,77,18,9,11,4,1,20,17,15,2,7,4,10,56,6,342,11,1,32,6,1,4,38,1,131,3,4,3,4,22,9,15,35,2,6,77,14,1,3,5,4,1008,65,6],\"yaxis\":\"y\",\"type\":\"scatter\"},{\"customdata\":[[\"Evergreen Point P&R\",1.7450980392156863],[\"Spokane Street P&R\",2.272727272727273],[\"Northgate TC\",1.75],[\"Port Orchard Armory\",1.5714285714285714],[\"Bainbridge Island Ferry\",1.0962566844919786],[\"Puyallup Fair's Red Lot\",1.5707762557077625]],\"hovertemplate\":\"color=Boardings\\u002fCapacity \\u003e 1\\u003cbr\\u003eCapacity=%{x}\\u003cbr\\u003eModel Boardings=%{y}\\u003cbr\\u003ename=%{customdata[0]}\\u003cbr\\u003eBoardings\\u002fCapacity=%{customdata[1]:.2f}\\u003cextra\\u003e\\u003c\\u002fextra\\u003e\",\"legendgroup\":\"Boardings\\u002fCapacity \\u003e 1\",\"marker\":{\"color\":\"#8CC63E\",\"symbol\":\"circle\"},\"mode\":\"markers\",\"name\":\"Boardings\\u002fCapacity \\u003e 1\",\"orientation\":\"v\",\"showlegend\":true,\"x\":[51,55,1444,105,187,219],\"xaxis\":\"x\",\"y\":[89,125,2527,165,205,344],\"yaxis\":\"y\",\"type\":\"scatter\"}],                        {\"template\":{\"data\":{\"barpolar\":[{\"marker\":{\"line\":{\"color\":\"white\",\"width\":0.5},\"pattern\":{\"fillmode\":\"overlay\",\"size\":10,\"solidity\":0.2}},\"type\":\"barpolar\"}],\"bar\":[{\"error_x\":{\"color\":\"rgb(36,36,36)\"},\"error_y\":{\"color\":\"rgb(36,36,36)\"},\"marker\":{\"line\":{\"color\":\"white\",\"width\":0.5},\"pattern\":{\"fillmode\":\"overlay\",\"size\":10,\"solidity\":0.2}},\"type\":\"bar\"}],\"carpet\":[{\"aaxis\":{\"endlinecolor\":\"rgb(36,36,36)\",\"gridcolor\":\"white\",\"linecolor\":\"white\",\"minorgridcolor\":\"white\",\"startlinecolor\":\"rgb(36,36,36)\"},\"baxis\":{\"endlinecolor\":\"rgb(36,36,36)\",\"gridcolor\":\"white\",\"linecolor\":\"white\",\"minorgridcolor\":\"white\",\"startlinecolor\":\"rgb(36,36,36)\"},\"type\":\"carpet\"}],\"choropleth\":[{\"colorbar\":{\"outlinewidth\":1,\"tickcolor\":\"rgb(36,36,36)\",\"ticks\":\"outside\"},\"type\":\"choropleth\"}],\"contourcarpet\":[{\"colorbar\":{\"outlinewidth\":1,\"tickcolor\":\"rgb(36,36,36)\",\"ticks\":\"outside\"},\"type\":\"contourcarpet\"}],\"contour\":[{\"colorbar\":{\"outlinewidth\":1,\"tickcolor\":\"rgb(36,36,36)\",\"ticks\":\"outside\"},\"colorscale\":[[0.0,\"#440154\"],[0.1111111111111111,\"#482878\"],[0.2222222222222222,\"#3e4989\"],[0.3333333333333333,\"#31688e\"],[0.4444444444444444,\"#26828e\"],[0.5555555555555556,\"#1f9e89\"],[0.6666666666666666,\"#35b779\"],[0.7777777777777778,\"#6ece58\"],[0.8888888888888888,\"#b5de2b\"],[1.0,\"#fde725\"]],\"type\":\"contour\"}],\"heatmapgl\":[{\"colorbar\":{\"outlinewidth\":1,\"tickcolor\":\"rgb(36,36,36)\",\"ticks\":\"outside\"},\"colorscale\":[[0.0,\"#440154\"],[0.1111111111111111,\"#482878\"],[0.2222222222222222,\"#3e4989\"],[0.3333333333333333,\"#31688e\"],[0.4444444444444444,\"#26828e\"],[0.5555555555555556,\"#1f9e89\"],[0.6666666666666666,\"#35b779\"],[0.7777777777777778,\"#6ece58\"],[0.8888888888888888,\"#b5de2b\"],[1.0,\"#fde725\"]],\"type\":\"heatmapgl\"}],\"heatmap\":[{\"colorbar\":{\"outlinewidth\":1,\"tickcolor\":\"rgb(36,36,36)\",\"ticks\":\"outside\"},\"colorscale\":[[0.0,\"#440154\"],[0.1111111111111111,\"#482878\"],[0.2222222222222222,\"#3e4989\"],[0.3333333333333333,\"#31688e\"],[0.4444444444444444,\"#26828e\"],[0.5555555555555556,\"#1f9e89\"],[0.6666666666666666,\"#35b779\"],[0.7777777777777778,\"#6ece58\"],[0.8888888888888888,\"#b5de2b\"],[1.0,\"#fde725\"]],\"type\":\"heatmap\"}],\"histogram2dcontour\":[{\"colorbar\":{\"outlinewidth\":1,\"tickcolor\":\"rgb(36,36,36)\",\"ticks\":\"outside\"},\"colorscale\":[[0.0,\"#440154\"],[0.1111111111111111,\"#482878\"],[0.2222222222222222,\"#3e4989\"],[0.3333333333333333,\"#31688e\"],[0.4444444444444444,\"#26828e\"],[0.5555555555555556,\"#1f9e89\"],[0.6666666666666666,\"#35b779\"],[0.7777777777777778,\"#6ece58\"],[0.8888888888888888,\"#b5de2b\"],[1.0,\"#fde725\"]],\"type\":\"histogram2dcontour\"}],\"histogram2d\":[{\"colorbar\":{\"outlinewidth\":1,\"tickcolor\":\"rgb(36,36,36)\",\"ticks\":\"outside\"},\"colorscale\":[[0.0,\"#440154\"],[0.1111111111111111,\"#482878\"],[0.2222222222222222,\"#3e4989\"],[0.3333333333333333,\"#31688e\"],[0.4444444444444444,\"#26828e\"],[0.5555555555555556,\"#1f9e89\"],[0.6666666666666666,\"#35b779\"],[0.7777777777777778,\"#6ece58\"],[0.8888888888888888,\"#b5de2b\"],[1.0,\"#fde725\"]],\"type\":\"histogram2d\"}],\"histogram\":[{\"marker\":{\"line\":{\"color\":\"white\",\"width\":0.6}},\"type\":\"histogram\"}],\"mesh3d\":[{\"colorbar\":{\"outlinewidth\":1,\"tickcolor\":\"rgb(36,36,36)\",\"ticks\":\"outside\"},\"type\":\"mesh3d\"}],\"parcoords\":[{\"line\":{\"colorbar\":{\"outlinewidth\":1,\"tickcolor\":\"rgb(36,36,36)\",\"ticks\":\"outside\"}},\"type\":\"parcoords\"}],\"pie\":[{\"automargin\":true,\"type\":\"pie\"}],\"scatter3d\":[{\"line\":{\"colorbar\":{\"outlinewidth\":1,\"tickcolor\":\"rgb(36,36,36)\",\"ticks\":\"outside\"}},\"marker\":{\"colorbar\":{\"outlinewidth\":1,\"tickcolor\":\"rgb(36,36,36)\",\"ticks\":\"outside\"}},\"type\":\"scatter3d\"}],\"scattercarpet\":[{\"marker\":{\"colorbar\":{\"outlinewidth\":1,\"tickcolor\":\"rgb(36,36,36)\",\"ticks\":\"outside\"}},\"type\":\"scattercarpet\"}],\"scattergeo\":[{\"marker\":{\"colorbar\":{\"outlinewidth\":1,\"tickcolor\":\"rgb(36,36,36)\",\"ticks\":\"outside\"}},\"type\":\"scattergeo\"}],\"scattergl\":[{\"marker\":{\"colorbar\":{\"outlinewidth\":1,\"tickcolor\":\"rgb(36,36,36)\",\"ticks\":\"outside\"}},\"type\":\"scattergl\"}],\"scattermapbox\":[{\"marker\":{\"colorbar\":{\"outlinewidth\":1,\"tickcolor\":\"rgb(36,36,36)\",\"ticks\":\"outside\"}},\"type\":\"scattermapbox\"}],\"scatterpolargl\":[{\"marker\":{\"colorbar\":{\"outlinewidth\":1,\"tickcolor\":\"rgb(36,36,36)\",\"ticks\":\"outside\"}},\"type\":\"scatterpolargl\"}],\"scatterpolar\":[{\"marker\":{\"colorbar\":{\"outlinewidth\":1,\"tickcolor\":\"rgb(36,36,36)\",\"ticks\":\"outside\"}},\"type\":\"scatterpolar\"}],\"scatter\":[{\"fillpattern\":{\"fillmode\":\"overlay\",\"size\":10,\"solidity\":0.2},\"type\":\"scatter\"}],\"scatterternary\":[{\"marker\":{\"colorbar\":{\"outlinewidth\":1,\"tickcolor\":\"rgb(36,36,36)\",\"ticks\":\"outside\"}},\"type\":\"scatterternary\"}],\"surface\":[{\"colorbar\":{\"outlinewidth\":1,\"tickcolor\":\"rgb(36,36,36)\",\"ticks\":\"outside\"},\"colorscale\":[[0.0,\"#440154\"],[0.1111111111111111,\"#482878\"],[0.2222222222222222,\"#3e4989\"],[0.3333333333333333,\"#31688e\"],[0.4444444444444444,\"#26828e\"],[0.5555555555555556,\"#1f9e89\"],[0.6666666666666666,\"#35b779\"],[0.7777777777777778,\"#6ece58\"],[0.8888888888888888,\"#b5de2b\"],[1.0,\"#fde725\"]],\"type\":\"surface\"}],\"table\":[{\"cells\":{\"fill\":{\"color\":\"rgb(237,237,237)\"},\"line\":{\"color\":\"white\"}},\"header\":{\"fill\":{\"color\":\"rgb(217,217,217)\"},\"line\":{\"color\":\"white\"}},\"type\":\"table\"}]},\"layout\":{\"annotationdefaults\":{\"arrowhead\":0,\"arrowwidth\":1},\"autotypenumbers\":\"strict\",\"coloraxis\":{\"colorbar\":{\"outlinewidth\":1,\"tickcolor\":\"rgb(36,36,36)\",\"ticks\":\"outside\"}},\"colorscale\":{\"diverging\":[[0.0,\"rgb(103,0,31)\"],[0.1,\"rgb(178,24,43)\"],[0.2,\"rgb(214,96,77)\"],[0.3,\"rgb(244,165,130)\"],[0.4,\"rgb(253,219,199)\"],[0.5,\"rgb(247,247,247)\"],[0.6,\"rgb(209,229,240)\"],[0.7,\"rgb(146,197,222)\"],[0.8,\"rgb(67,147,195)\"],[0.9,\"rgb(33,102,172)\"],[1.0,\"rgb(5,48,97)\"]],\"sequential\":[[0.0,\"#440154\"],[0.1111111111111111,\"#482878\"],[0.2222222222222222,\"#3e4989\"],[0.3333333333333333,\"#31688e\"],[0.4444444444444444,\"#26828e\"],[0.5555555555555556,\"#1f9e89\"],[0.6666666666666666,\"#35b779\"],[0.7777777777777778,\"#6ece58\"],[0.8888888888888888,\"#b5de2b\"],[1.0,\"#fde725\"]],\"sequentialminus\":[[0.0,\"#440154\"],[0.1111111111111111,\"#482878\"],[0.2222222222222222,\"#3e4989\"],[0.3333333333333333,\"#31688e\"],[0.4444444444444444,\"#26828e\"],[0.5555555555555556,\"#1f9e89\"],[0.6666666666666666,\"#35b779\"],[0.7777777777777778,\"#6ece58\"],[0.8888888888888888,\"#b5de2b\"],[1.0,\"#fde725\"]]},\"colorway\":[\"#91268F\",\"#8CC63E\",\"#00A7A0\",\"#F05A28\",\"#4C4C4C\",\"#630460\",\"#9f3913\",\"#588527\",\"#00716c\",\"#3e4040\"],\"font\":{\"color\":\"rgb(36,36,36)\",\"family\":\"Poppins\",\"size\":11},\"geo\":{\"bgcolor\":\"white\",\"lakecolor\":\"white\",\"landcolor\":\"white\",\"showlakes\":true,\"showland\":true,\"subunitcolor\":\"white\"},\"hoverlabel\":{\"align\":\"left\"},\"hovermode\":\"closest\",\"mapbox\":{\"style\":\"light\"},\"paper_bgcolor\":\"white\",\"plot_bgcolor\":\"white\",\"polar\":{\"angularaxis\":{\"gridcolor\":\"rgb(232,232,232)\",\"linecolor\":\"rgb(36,36,36)\",\"showgrid\":false,\"showline\":true,\"ticks\":\"outside\"},\"bgcolor\":\"white\",\"radialaxis\":{\"gridcolor\":\"rgb(232,232,232)\",\"linecolor\":\"rgb(36,36,36)\",\"showgrid\":false,\"showline\":true,\"ticks\":\"outside\"}},\"scene\":{\"xaxis\":{\"backgroundcolor\":\"white\",\"gridcolor\":\"rgb(232,232,232)\",\"gridwidth\":2,\"linecolor\":\"rgb(36,36,36)\",\"showbackground\":true,\"showgrid\":false,\"showline\":true,\"ticks\":\"outside\",\"zeroline\":false,\"zerolinecolor\":\"rgb(36,36,36)\"},\"yaxis\":{\"backgroundcolor\":\"white\",\"gridcolor\":\"rgb(232,232,232)\",\"gridwidth\":2,\"linecolor\":\"rgb(36,36,36)\",\"showbackground\":true,\"showgrid\":false,\"showline\":true,\"ticks\":\"outside\",\"zeroline\":false,\"zerolinecolor\":\"rgb(36,36,36)\"},\"zaxis\":{\"backgroundcolor\":\"white\",\"gridcolor\":\"rgb(232,232,232)\",\"gridwidth\":2,\"linecolor\":\"rgb(36,36,36)\",\"showbackground\":true,\"showgrid\":false,\"showline\":true,\"ticks\":\"outside\",\"zeroline\":false,\"zerolinecolor\":\"rgb(36,36,36)\"}},\"shapedefaults\":{\"fillcolor\":\"black\",\"line\":{\"width\":0},\"opacity\":0.3},\"ternary\":{\"aaxis\":{\"gridcolor\":\"rgb(232,232,232)\",\"linecolor\":\"rgb(36,36,36)\",\"showgrid\":false,\"showline\":true,\"ticks\":\"outside\"},\"baxis\":{\"gridcolor\":\"rgb(232,232,232)\",\"linecolor\":\"rgb(36,36,36)\",\"showgrid\":false,\"showline\":true,\"ticks\":\"outside\"},\"bgcolor\":\"white\",\"caxis\":{\"gridcolor\":\"rgb(232,232,232)\",\"linecolor\":\"rgb(36,36,36)\",\"showgrid\":false,\"showline\":true,\"ticks\":\"outside\"}},\"title\":{\"x\":0.05},\"xaxis\":{\"automargin\":true,\"gridcolor\":\"rgb(232,232,232)\",\"linecolor\":\"rgb(36,36,36)\",\"showgrid\":false,\"showline\":true,\"ticks\":\"outside\",\"title\":{\"standoff\":15},\"zeroline\":false,\"zerolinecolor\":\"rgb(36,36,36)\"},\"yaxis\":{\"automargin\":true,\"gridcolor\":\"rgb(232,232,232)\",\"linecolor\":\"rgb(36,36,36)\",\"showgrid\":false,\"showline\":true,\"ticks\":\"outside\",\"title\":{\"standoff\":15},\"zeroline\":false,\"zerolinecolor\":\"rgb(36,36,36)\"}}},\"xaxis\":{\"anchor\":\"y\",\"domain\":[0.0,1.0],\"title\":{\"text\":\"Capacity\"}},\"yaxis\":{\"anchor\":\"x\",\"domain\":[0.0,1.0],\"title\":{\"text\":\"Model Boardings\"}},\"legend\":{\"title\":{\"text\":\"color\"},\"tracegroupgap\":0},\"title\":{\"text\":\"Model Boardings vs Capacity\"},\"height\":600,\"width\":800},                        {\"responsive\": true}                    ).then(function(){\n",
       "                            \n",
       "var gd = document.getElementById('d8eb62a1-d737-4ff7-a836-a162c9eeb070');\n",
       "var x = new MutationObserver(function (mutations, observer) {{\n",
       "        var display = window.getComputedStyle(gd).display;\n",
       "        if (!display || display === 'none') {{\n",
       "            console.log([gd, 'removed!']);\n",
       "            Plotly.purge(gd);\n",
       "            observer.disconnect();\n",
       "        }}\n",
       "}});\n",
       "\n",
       "// Listen for the removal of the full notebook cells\n",
       "var notebookContainer = gd.closest('#notebook-container');\n",
       "if (notebookContainer) {{\n",
       "    x.observe(notebookContainer, {childList: true});\n",
       "}}\n",
       "\n",
       "// Listen for the clearing of the current output cell\n",
       "var outputEl = gd.closest('.output');\n",
       "if (outputEl) {{\n",
       "    x.observe(outputEl, {childList: true});\n",
       "}}\n",
       "\n",
       "                        })                };                });            </script>        </div>"
      ]
     },
     "metadata": {},
     "output_type": "display_data"
    }
   ],
   "source": [
    "df['color'] = np.where(df['Boardings/Capacity'] > 1, 'Boardings/Capacity > 1', 'Boardings/Capacity <= 1')\n",
    "\n",
    "fig = px.scatter(df, y='Model Boardings', x='Capacity', title='Model Boardings vs Capacity',\n",
    "                 hover_data={'name': True, 'Model Boardings': True, 'Capacity': True, 'Boardings/Capacity': ':.2f'},\n",
    "                 color='color')\n",
    "fig.update_layout(height=600, width=800)\n",
    "fig.show()"
   ]
  },
  {
   "cell_type": "code",
   "execution_count": 40,
   "id": "2f976d83",
   "metadata": {},
   "outputs": [
    {
     "data": {
      "application/vnd.plotly.v1+json": {
       "config": {
        "plotlyServerURL": "https://plot.ly"
       },
       "data": [
        {
         "customdata": [
          [
           "Tukwila Station (CR)",
           3751,
           96,
           390
          ],
          [
           "Tacoma Dome Station",
           3752,
           181,
           2283
          ],
          [
           "South Tacoma (CR)",
           3753,
           2,
           220
          ],
          [
           "Everett Station (CR)",
           3754,
           69,
           1067
          ],
          [
           "Sumner Station (CR)",
           3755,
           242,
           302
          ],
          [
           "Mukilteo Station",
           3756,
           2,
           63
          ],
          [
           "Kent Station (CR)",
           3757,
           443,
           996
          ],
          [
           "Auburn Station (CR)",
           3758,
           533,
           636
          ],
          [
           "Lakewood (CR)",
           3759,
           4,
           600
          ],
          [
           "Gateway P&R",
           3760,
           44,
           104
          ],
          [
           "Puyallup Station (SB)",
           3761,
           85,
           522
          ],
          [
           "Twin Lakes P&R",
           3762,
           7,
           600
          ],
          [
           "Crossroads Neighborhood Church",
           3763,
           6,
           107
          ],
          [
           "Overlake Transit Center",
           3764,
           114,
           323
          ],
          [
           "Redondo Heights P&R",
           3765,
           3,
           697
          ],
          [
           "North Gig Harbor/Kimball Drive",
           3766,
           11,
           306
          ],
          [
           "Duvall P&R",
           3767,
           1,
           49
          ],
          [
           "Roy 'Y' P&R",
           3768,
           1,
           100
          ],
          [
           "South Hill (Elim Evangelical)",
           3769,
           13,
           20
          ],
          [
           "Parkland Transit Center",
           3770,
           6,
           62
          ],
          [
           "SR-512/I-5 (Lakewood)",
           3771,
           16,
           493
          ],
          [
           "Center Street P&R",
           3772,
           7,
           75
          ],
          [
           "Tacoma Mall Transit Center",
           3773,
           12,
           150
          ],
          [
           "South Tacoma West",
           3774,
           10,
           78
          ],
          [
           "South Tacoma East - 2",
           3775,
           2,
           44
          ],
          [
           "Narrows P&R",
           3776,
           1,
           195
          ],
          [
           "North Purdy/Purdy Crescent",
           3777,
           1,
           200
          ],
          [
           "Point Defiance Ferry",
           3778,
           6,
           79
          ],
          [
           "South Federal P&R",
           3779,
           14,
           515
          ],
          [
           "Federal Way P&R (320th)",
           3781,
           65,
           877
          ],
          [
           "Auburn P&R",
           3782,
           4,
           358
          ],
          [
           "Holy Spirit Lutheran Church",
           3784,
           7,
           40
          ],
          [
           "Kent/Des Moines P&R",
           3785,
           9,
           404
          ],
          [
           "Kent/James St. P&R",
           3786,
           100,
           713
          ],
          [
           "Burien Transit Center",
           3787,
           24,
           488
          ],
          [
           "Tukwila",
           3788,
           21,
           267
          ],
          [
           "Maple Valley P&R",
           3789,
           1,
           122
          ],
          [
           "South Renton P&R",
           3790,
           31,
           385
          ],
          [
           "Renton Highlands P&R (St. Matts)",
           3791,
           2,
           128
          ],
          [
           "Issaquah Transit Center",
           3792,
           17,
           200
          ],
          [
           "Mercer Island P&R",
           3793,
           184,
           447
          ],
          [
           "Mercer Island Presbyterian",
           3794,
           21,
           30
          ],
          [
           "Newport Hills P&R",
           3795,
           4,
           275
          ],
          [
           "Newport Covenant Church",
           3797,
           2,
           75
          ],
          [
           "South Bellevue P&R",
           3798,
           28,
           1500
          ],
          [
           "Wilburton",
           3799,
           11,
           186
          ],
          [
           "Eastgate P&R",
           3800,
           47,
           1614
          ],
          [
           "North Bend P&R",
           3801,
           6,
           80
          ],
          [
           "Evergreen Point P&R",
           3802,
           89,
           51
          ],
          [
           "Grace Lutheran Church",
           3803,
           24,
           50
          ],
          [
           "South Kirkland P&R",
           3804,
           6,
           785
          ],
          [
           "Overlake P&R",
           3805,
           57,
           203
          ],
          [
           "Houghton P&R",
           3806,
           6,
           470
          ],
          [
           "Bethel Lutheran",
           3807,
           1,
           40
          ],
          [
           "Redmond P&R",
           3808,
           33,
           150
          ],
          [
           "Saint Thomas Episcopal",
           3809,
           19,
           48
          ],
          [
           "Valley Center",
           3810,
           3,
           55
          ],
          [
           "Bear Creek P&R",
           3811,
           20,
           334
          ],
          [
           "Kingsgate P&R",
           3812,
           48,
           502
          ],
          [
           "Brickyard P&R",
           3813,
           2,
           242
          ],
          [
           "Northshore P&R",
           3814,
           11,
           376
          ],
          [
           "Kenmore P&R",
           3815,
           54,
           603
          ],
          [
           "Bethany Bible Church",
           3816,
           67,
           75
          ],
          [
           "Bothell P&R",
           3817,
           61,
           220
          ],
          [
           "Woodinville P&R",
           3818,
           9,
           459
          ],
          [
           "Olson & Meyers",
           3819,
           20,
           100
          ],
          [
           "Spokane Street P&R",
           3820,
           125,
           55
          ],
          [
           "Greenlake P&R",
           3821,
           100,
           411
          ],
          [
           "Northgate TC",
           3822,
           2527,
           1444
          ],
          [
           "North Jackson Park",
           3823,
           112,
           500
          ],
          [
           "Shoreline",
           3824,
           34,
           393
          ],
          [
           "112th St. & I-5",
           3825,
           8,
           399
          ],
          [
           "Ober Park",
           3826,
           1,
           48
          ],
          [
           "Vashon Heights",
           3827,
           91,
           230
          ],
          [
           "Mountlake Terrace P&R",
           3828,
           24,
           874
          ],
          [
           "Bethesda Lutheran",
           3829,
           9,
           20
          ],
          [
           "Edmonds Station",
           3830,
           1,
           259
          ],
          [
           "Edmonds P&R",
           3831,
           14,
           255
          ],
          [
           "Lynnwood P&R",
           3832,
           12,
           1896
          ],
          [
           "Swamp Creek P&R",
           3833,
           16,
           410
          ],
          [
           "Mariner P&R",
           3834,
           17,
           667
          ],
          [
           "Snohomish",
           3835,
           3,
           104
          ],
          [
           "Marysville - Ash Ave",
           3836,
           3,
           202
          ],
          [
           "Arlington P&R",
           3839,
           4,
           25
          ],
          [
           "Monroe",
           3841,
           4,
           102
          ],
          [
           "Federal Way",
           3842,
           41,
           1190
          ],
          [
           "Port Orchard Armory",
           3843,
           165,
           105
          ],
          [
           "Southworth Ferry P&R",
           3844,
           102,
           318
          ],
          [
           "McWilliams P&R",
           3845,
           1,
           151
          ],
          [
           "Bethany Lutheran Church",
           3846,
           31,
           80
          ],
          [
           "Gateway Fellowship",
           3847,
           6,
           138
          ],
          [
           "Kingston Ferry P&R",
           3849,
           1,
           72
          ],
          [
           "Suquamish United Church of Christ",
           3850,
           3,
           65
          ],
          [
           "Bainbridge Island Ferry",
           3851,
           205,
           187
          ],
          [
           "Puyallup Station (NB)",
           3852,
           12,
           522
          ],
          [
           "72nd Street Transit Center",
           3853,
           7,
           68
          ],
          [
           "Aurora Village TC",
           3856,
           77,
           202
          ],
          [
           "Aurora Nazarene",
           3857,
           18,
           116
          ],
          [
           "Saint Margaret's Episcopal",
           3858,
           9,
           64
          ],
          [
           "Lake Meridian P&R",
           3861,
           11,
           172
          ],
          [
           "Smokey Pt. Church",
           3862,
           4,
           50
          ],
          [
           "Eastmont P&R",
           3863,
           1,
           389
          ],
          [
           "McCollum Park P&R",
           3864,
           20,
           409
          ],
          [
           "Canyon Park P&R",
           3865,
           17,
           298
          ],
          [
           "Korean Presby. P&R",
           3866,
           15,
           25
          ],
          [
           "Poulsbo Church of the Nazarene",
           3868,
           2,
           266
          ],
          [
           "Harper Evangelical Free Church",
           3870,
           7,
           462
          ],
          [
           "Mullenix Road",
           3871,
           4,
           92
          ],
          [
           "TCC P&R",
           3873,
           10,
           95
          ],
          [
           "Ash Way P&R",
           3874,
           56,
           1019
          ],
          [
           "Bonney Lake P&R",
           3875,
           6,
           356
          ],
          [
           "Tukwila Int. Station",
           3876,
           342,
           600
          ],
          [
           "South Hill P&R",
           3877,
           11,
           354
          ],
          [
           "South Tacoma East - 1",
           3878,
           1,
           33
          ],
          [
           "Issaquah Highlands",
           3879,
           32,
           1000
          ],
          [
           "Lake Stevens TC",
           3880,
           6,
           207
          ],
          [
           "Liberty Bay Presbyterian",
           3881,
           1,
           90
          ],
          [
           "NK Baptist",
           3882,
           4,
           57
          ],
          [
           "Preston P&R",
           3883,
           38,
           53
          ],
          [
           "Bayside Community Church",
           3884,
           1,
           210
          ],
          [
           "Bremerton Ferry",
           3886,
           131,
           566
          ],
          [
           "Puyallup Fair's Red Lot",
           3888,
           344,
           219
          ],
          [
           "Marysville - Cedar & Grove",
           3889,
           3,
           213
          ],
          [
           "Marysville I P&R",
           3891,
           4,
           74
          ],
          [
           "Martha Lake Covenant Church",
           3892,
           3,
           75
          ],
          [
           "South Sammammish P&R",
           3893,
           4,
           265
          ],
          [
           "Renton City Municipal Garage",
           3894,
           22,
           150
          ],
          [
           "Tibbetts Lot",
           3895,
           9,
           170
          ],
          [
           "Renton Transit Center",
           3896,
           15,
           150
          ],
          [
           "Calvary Christian Assembly",
           3897,
           35,
           125
          ],
          [
           "Maple Valley Town Square",
           3898,
           2,
           90
          ],
          [
           "All Saints Lutheran Church",
           3899,
           6,
           75
          ],
          [
           "City View Church",
           3900,
           77,
           96
          ],
          [
           "Northwest University 6710 Bldg.",
           3901,
           14,
           61
          ],
          [
           "Sammamish Lutheran P&R",
           3902,
           1,
           54
          ],
          [
           "Redmond Ridge P&R",
           3903,
           3,
           52
          ],
          [
           "Kennydale United Methodist Church",
           3904,
           5,
           50
          ],
          [
           "Nativity Lutheran Church",
           3905,
           4,
           49
          ],
          [
           "South SeaTac (LR)",
           3907,
           1008,
           1160
          ],
          [
           "Everett Station",
           3908,
           65,
           160
          ],
          [
           null,
           3951,
           6,
           54
          ]
         ],
         "hovertemplate": "Boardings/Capacity=%{marker.color}<br>lat=%{lat}<br>lon=%{lon}<br>name=%{customdata[0]}<br>taz=%{customdata[1]}<br>Model Boardings=%{customdata[2]}<br>Capacity=%{customdata[3]}<extra></extra>",
         "lat": [
          47.459791189113055,
          47.240587026940496,
          47.203188285743,
          47.97553008822413,
          47.201048326678425,
          47.949202090593815,
          47.383970408531425,
          47.30597098022815,
          47.153298431654285,
          47.56718379854233,
          47.193060762628754,
          47.29373336434266,
          47.631646481329874,
          47.64429306998266,
          47.35504335733807,
          47.3163618931415,
          47.74282207119212,
          47.08271784155433,
          47.140757778268615,
          47.14791172694066,
          47.161484802874284,
          47.23400250827875,
          47.21362968300981,
          47.20552052830966,
          47.20622110948438,
          47.25600193981221,
          47.38923379023241,
          47.30559584671795,
          47.289041380796476,
          47.31163591874175,
          47.32142070370895,
          47.7104244936842,
          47.39168729512872,
          47.38491251743171,
          47.469518524026284,
          47.48197741301064,
          47.39722692921272,
          47.47271938615727,
          47.50715467593467,
          47.5421344859425,
          47.58878969142359,
          47.57701316304821,
          47.55704702946253,
          47.564129961427035,
          47.58629181288903,
          47.60395259926627,
          47.580583829158485,
          47.49597432021159,
          47.63677734251024,
          47.616380743797244,
          47.64418998070187,
          47.63297717439434,
          47.66816331814846,
          47.75569187858501,
          47.6765003576322,
          47.62160396082053,
          47.42287235072545,
          47.674169895277565,
          47.71630675038611,
          47.74096553654258,
          47.76143815613439,
          47.75869948424539,
          47.75911072833425,
          47.759457740337254,
          47.75702879699488,
          47.520273185221846,
          47.571714184646375,
          47.67673605768736,
          47.70239443761157,
          47.735650070604855,
          47.76687666732243,
          47.897149496501655,
          47.45193656025647,
          47.50832497753617,
          47.786023838048486,
          47.786405217140484,
          47.81083814590226,
          47.805505328682436,
          47.81595811606588,
          47.851158747803034,
          47.879273837323716,
          47.931600004686565,
          48.052799958531104,
          48.196226663014926,
          47.86853209498515,
          47.31771355238481,
          47.53346196599079,
          47.51175930997434,
          47.620810382951404,
          47.635076024273125,
          47.733914565835,
          47.798924738192895,
          47.733267845932694,
          47.62400593156234,
          47.19226982725735,
          47.192971542906285,
          47.77471134386238,
          47.75619875057065,
          47.56885032852624,
          47.36115476012324,
          48.15732422532287,
          47.91577651606941,
          47.880528888492265,
          47.79421797219861,
          47.78299309998247,
          47.759682723438075,
          47.50395364516145,
          47.4683127358232,
          47.24317915202268,
          47.852265826626585,
          47.17424906089401,
          47.46462822513558,
          47.161515219367466,
          47.20690802107854,
          47.54548131124219,
          47.99833018258796,
          47.73132891345255,
          47.74896727800608,
          47.52729295506841,
          47.799607552327174,
          47.56371171355699,
          47.185461659521216,
          48.06186352787003,
          48.05093832410037,
          47.85078851793791,
          47.582163360805794,
          47.48065386274714,
          47.54050303955318,
          47.48170670581923,
          47.67825835598132,
          47.36261650204512,
          47.35719493962773,
          47.48028761734057,
          47.66655727817533,
          47.601973031740954,
          47.68558355990292,
          47.51822107506604,
          47.4435715904644,
          47.42300305792277,
          47.60111801912681,
          47.302354813300944
         ],
         "legendgroup": "",
         "lon": [
          -122.24142204292801,
          -122.42559764232288,
          -122.48610523364498,
          -122.19768602099377,
          -122.24474142310243,
          -122.29903798331632,
          -122.23410004243462,
          -122.23148352515318,
          -122.49859252745824,
          -122.65169744997347,
          -122.29627387444259,
          -122.3599437944882,
          -122.6376553285978,
          -122.13352825516421,
          -122.30994876622252,
          -122.58550724037367,
          -121.98519670565817,
          -122.43467115344275,
          -122.30342870923496,
          -122.43537507130094,
          -122.4832269556689,
          -122.49605950380925,
          -122.46823390072736,
          -122.46332756461389,
          -122.4595315453806,
          -122.53268859436118,
          -122.62545806801099,
          -122.51464330348125,
          -122.32271243809302,
          -122.30155617219685,
          -122.22738331793343,
          -122.20748786443893,
          -122.28801450038526,
          -122.24251278515935,
          -122.33865108623566,
          -122.26898729590523,
          -122.04489635419205,
          -122.2140249890397,
          -122.18367513597434,
          -122.06181211149554,
          -122.23166518784704,
          -122.22739995414824,
          -122.1886194896657,
          -122.17018509756201,
          -122.1904053737166,
          -122.1855070751748,
          -122.15247915819556,
          -121.78890814933835,
          -122.23793067783187,
          -122.21058496428182,
          -122.19692070930883,
          -122.1356025761157,
          -122.18466300042218,
          -122.31907049448232,
          -122.12357646358394,
          -122.22848578037559,
          -122.4617588893532,
          -122.10086680270592,
          -122.18764374421475,
          -122.18801850253551,
          -122.25089711182129,
          -122.24193472527783,
          -122.25940207427163,
          -122.20174474164908,
          -122.15150344952004,
          -122.33619477501689,
          -122.36486292041623,
          -122.3207479132486,
          -122.3263535981885,
          -122.3238311992929,
          -122.34679899076795,
          -122.21539257019184,
          -122.45962271847641,
          -122.46527095271402,
          -122.31456649794684,
          -122.30895559283637,
          -122.38443648143998,
          -122.33045854744478,
          -122.29397697243073,
          -122.2762912947167,
          -122.23819674557204,
          -122.10076917207742,
          -122.18350218748834,
          -122.129183066928,
          -121.9960708438206,
          -122.30476126399772,
          -122.61872855042411,
          -122.4985314823769,
          -122.62808145181158,
          -122.53684064463692,
          -122.63927304886704,
          -122.497145659761,
          -122.55779654978755,
          -122.51049641551649,
          -122.29638289622436,
          -122.41141133327692,
          -122.34274243377105,
          -122.33571558742703,
          -122.16885945632364,
          -122.16596694150272,
          -122.18235612206618,
          -122.2039867300772,
          -122.22076355008004,
          -122.21165372444678,
          -122.34737059623502,
          -122.65215146199641,
          -122.51509635593781,
          -122.6219458140525,
          -122.52527889141626,
          -122.25855174480624,
          -122.18490269497767,
          -122.28690849789872,
          -122.30486983988138,
          -122.45925556454627,
          -122.01943008905627,
          -122.1037985047417,
          -122.63760529985272,
          -122.6376022779008,
          -121.93697928446608,
          -122.508528546698,
          -122.6250481725124,
          -122.29928303340452,
          -122.17950440147415,
          -122.18326561243495,
          -122.2711389215377,
          -122.03642859327114,
          -122.20850143259241,
          -122.06172743208168,
          -122.20744093150329,
          -122.31799001747187,
          -122.0201427495308,
          -122.29322515985572,
          -122.22017447638363,
          -122.19590687558149,
          -122.03476548005801,
          -122.03407154200131,
          -122.20129952764448,
          -122.15522089858798,
          -122.29884833358034,
          -122.63061955933047,
          -122.25777874175822
         ],
         "marker": {
          "color": [
           0.24615384615384617,
           0.07928164695575997,
           0.00909090909090909,
           0.06466729147141519,
           0.8013245033112583,
           0.031746031746031744,
           0.44477911646586343,
           0.8380503144654088,
           0.006666666666666667,
           0.4230769230769231,
           0.16283524904214558,
           0.011666666666666667,
           0.056074766355140186,
           0.35294117647058826,
           0.00430416068866571,
           0.03594771241830065,
           0.02040816326530612,
           0.01,
           0.65,
           0.0967741935483871,
           0.032454361054766734,
           0.09333333333333334,
           0.08,
           0.1282051282051282,
           0.045454545454545456,
           0.005128205128205128,
           0.005,
           0.0759493670886076,
           0.027184466019417475,
           0.07411630558722919,
           0.0111731843575419,
           0.175,
           0.022277227722772276,
           0.1402524544179523,
           0.04918032786885246,
           0.07865168539325842,
           0.00819672131147541,
           0.08051948051948052,
           0.015625,
           0.085,
           0.4116331096196868,
           0.7,
           0.014545454545454545,
           0.02666666666666667,
           0.018666666666666668,
           0.05913978494623656,
           0.029120198265179677,
           0.075,
           1.7450980392156863,
           0.48,
           0.007643312101910828,
           0.28078817733990147,
           0.01276595744680851,
           0.025,
           0.22,
           0.3958333333333333,
           0.05454545454545454,
           0.059880239520958084,
           0.09561752988047809,
           0.008264462809917356,
           0.02925531914893617,
           0.08955223880597014,
           0.8933333333333333,
           0.2772727272727273,
           0.0196078431372549,
           0.2,
           2.272727272727273,
           0.24330900243309003,
           1.75,
           0.224,
           0.08651399491094147,
           0.020050125313283207,
           0.020833333333333332,
           0.39565217391304347,
           0.02745995423340961,
           0.45,
           0.003861003861003861,
           0.054901960784313725,
           0.006329113924050633,
           0.03902439024390244,
           0.025487256371814093,
           0.028846153846153848,
           0.01485148514851485,
           0.16,
           0.0392156862745098,
           0.034453781512605045,
           1.5714285714285714,
           0.32075471698113206,
           0.006622516556291391,
           0.3875,
           0.043478260869565216,
           0.013888888888888888,
           0.046153846153846156,
           1.0962566844919786,
           0.022988505747126436,
           0.10294117647058823,
           0.3811881188118812,
           0.15517241379310345,
           0.140625,
           0.06395348837209303,
           0.08,
           0.002570694087403599,
           0.0488997555012225,
           0.05704697986577181,
           0.6,
           0.007518796992481203,
           0.015151515151515152,
           0.043478260869565216,
           0.10526315789473684,
           0.0549558390578999,
           0.016853932584269662,
           0.57,
           0.031073446327683617,
           0.030303030303030304,
           0.032,
           0.028985507246376812,
           0.011111111111111112,
           0.07017543859649122,
           0.7169811320754716,
           0.004761904761904762,
           0.2314487632508834,
           1.5707762557077625,
           0.014084507042253521,
           0.05405405405405406,
           0.04,
           0.01509433962264151,
           0.14666666666666667,
           0.052941176470588235,
           0.1,
           0.28,
           0.022222222222222223,
           0.08,
           0.8020833333333334,
           0.22950819672131148,
           0.018518518518518517,
           0.057692307692307696,
           0.1,
           0.08163265306122448,
           0.8689655172413793,
           0.40625,
           0.1111111111111111
          ],
          "coloraxis": "coloraxis",
          "size": [
           0.24615384615384617,
           0.07928164695575997,
           0.00909090909090909,
           0.06466729147141519,
           0.8013245033112583,
           0.031746031746031744,
           0.44477911646586343,
           0.8380503144654088,
           0.006666666666666667,
           0.4230769230769231,
           0.16283524904214558,
           0.011666666666666667,
           0.056074766355140186,
           0.35294117647058826,
           0.00430416068866571,
           0.03594771241830065,
           0.02040816326530612,
           0.01,
           0.65,
           0.0967741935483871,
           0.032454361054766734,
           0.09333333333333334,
           0.08,
           0.1282051282051282,
           0.045454545454545456,
           0.005128205128205128,
           0.005,
           0.0759493670886076,
           0.027184466019417475,
           0.07411630558722919,
           0.0111731843575419,
           0.175,
           0.022277227722772276,
           0.1402524544179523,
           0.04918032786885246,
           0.07865168539325842,
           0.00819672131147541,
           0.08051948051948052,
           0.015625,
           0.085,
           0.4116331096196868,
           0.7,
           0.014545454545454545,
           0.02666666666666667,
           0.018666666666666668,
           0.05913978494623656,
           0.029120198265179677,
           0.075,
           1.7450980392156863,
           0.48,
           0.007643312101910828,
           0.28078817733990147,
           0.01276595744680851,
           0.025,
           0.22,
           0.3958333333333333,
           0.05454545454545454,
           0.059880239520958084,
           0.09561752988047809,
           0.008264462809917356,
           0.02925531914893617,
           0.08955223880597014,
           0.8933333333333333,
           0.2772727272727273,
           0.0196078431372549,
           0.2,
           2.272727272727273,
           0.24330900243309003,
           1.75,
           0.224,
           0.08651399491094147,
           0.020050125313283207,
           0.020833333333333332,
           0.39565217391304347,
           0.02745995423340961,
           0.45,
           0.003861003861003861,
           0.054901960784313725,
           0.006329113924050633,
           0.03902439024390244,
           0.025487256371814093,
           0.028846153846153848,
           0.01485148514851485,
           0.16,
           0.0392156862745098,
           0.034453781512605045,
           1.5714285714285714,
           0.32075471698113206,
           0.006622516556291391,
           0.3875,
           0.043478260869565216,
           0.013888888888888888,
           0.046153846153846156,
           1.0962566844919786,
           0.022988505747126436,
           0.10294117647058823,
           0.3811881188118812,
           0.15517241379310345,
           0.140625,
           0.06395348837209303,
           0.08,
           0.002570694087403599,
           0.0488997555012225,
           0.05704697986577181,
           0.6,
           0.007518796992481203,
           0.015151515151515152,
           0.043478260869565216,
           0.10526315789473684,
           0.0549558390578999,
           0.016853932584269662,
           0.57,
           0.031073446327683617,
           0.030303030303030304,
           0.032,
           0.028985507246376812,
           0.011111111111111112,
           0.07017543859649122,
           0.7169811320754716,
           0.004761904761904762,
           0.2314487632508834,
           1.5707762557077625,
           0.014084507042253521,
           0.05405405405405406,
           0.04,
           0.01509433962264151,
           0.14666666666666667,
           0.052941176470588235,
           0.1,
           0.28,
           0.022222222222222223,
           0.08,
           0.8020833333333334,
           0.22950819672131148,
           0.018518518518518517,
           0.057692307692307696,
           0.1,
           0.08163265306122448,
           0.8689655172413793,
           0.40625,
           0.1111111111111111
          ],
          "sizemode": "area",
          "sizeref": 0.005681818181818182
         },
         "mode": "markers",
         "name": "",
         "showlegend": false,
         "subplot": "mapbox",
         "type": "scattermapbox"
        }
       ],
       "layout": {
        "coloraxis": {
         "colorbar": {
          "title": {
           "text": "Boardings/Capacity"
          }
         },
         "colorscale": [
          [
           0,
           "#440154"
          ],
          [
           0.1111111111111111,
           "#482878"
          ],
          [
           0.2222222222222222,
           "#3e4989"
          ],
          [
           0.3333333333333333,
           "#31688e"
          ],
          [
           0.4444444444444444,
           "#26828e"
          ],
          [
           0.5555555555555556,
           "#1f9e89"
          ],
          [
           0.6666666666666666,
           "#35b779"
          ],
          [
           0.7777777777777778,
           "#6ece58"
          ],
          [
           0.8888888888888888,
           "#b5de2b"
          ],
          [
           1,
           "#fde725"
          ]
         ]
        },
        "legend": {
         "itemsizing": "constant",
         "tracegroupgap": 0
        },
        "mapbox": {
         "center": {
          "lat": 47.5673852625868,
          "lon": -122.30022896958303
         },
         "domain": {
          "x": [
           0,
           1
          ],
          "y": [
           0,
           1
          ]
         },
         "style": "carto-positron",
         "zoom": 8
        },
        "margin": {
         "b": 0,
         "l": 0,
         "r": 0,
         "t": 0
        },
        "template": {
         "data": {
          "bar": [
           {
            "error_x": {
             "color": "rgb(36,36,36)"
            },
            "error_y": {
             "color": "rgb(36,36,36)"
            },
            "marker": {
             "line": {
              "color": "white",
              "width": 0.5
             },
             "pattern": {
              "fillmode": "overlay",
              "size": 10,
              "solidity": 0.2
             }
            },
            "type": "bar"
           }
          ],
          "barpolar": [
           {
            "marker": {
             "line": {
              "color": "white",
              "width": 0.5
             },
             "pattern": {
              "fillmode": "overlay",
              "size": 10,
              "solidity": 0.2
             }
            },
            "type": "barpolar"
           }
          ],
          "carpet": [
           {
            "aaxis": {
             "endlinecolor": "rgb(36,36,36)",
             "gridcolor": "white",
             "linecolor": "white",
             "minorgridcolor": "white",
             "startlinecolor": "rgb(36,36,36)"
            },
            "baxis": {
             "endlinecolor": "rgb(36,36,36)",
             "gridcolor": "white",
             "linecolor": "white",
             "minorgridcolor": "white",
             "startlinecolor": "rgb(36,36,36)"
            },
            "type": "carpet"
           }
          ],
          "choropleth": [
           {
            "colorbar": {
             "outlinewidth": 1,
             "tickcolor": "rgb(36,36,36)",
             "ticks": "outside"
            },
            "type": "choropleth"
           }
          ],
          "contour": [
           {
            "colorbar": {
             "outlinewidth": 1,
             "tickcolor": "rgb(36,36,36)",
             "ticks": "outside"
            },
            "colorscale": [
             [
              0,
              "#440154"
             ],
             [
              0.1111111111111111,
              "#482878"
             ],
             [
              0.2222222222222222,
              "#3e4989"
             ],
             [
              0.3333333333333333,
              "#31688e"
             ],
             [
              0.4444444444444444,
              "#26828e"
             ],
             [
              0.5555555555555556,
              "#1f9e89"
             ],
             [
              0.6666666666666666,
              "#35b779"
             ],
             [
              0.7777777777777778,
              "#6ece58"
             ],
             [
              0.8888888888888888,
              "#b5de2b"
             ],
             [
              1,
              "#fde725"
             ]
            ],
            "type": "contour"
           }
          ],
          "contourcarpet": [
           {
            "colorbar": {
             "outlinewidth": 1,
             "tickcolor": "rgb(36,36,36)",
             "ticks": "outside"
            },
            "type": "contourcarpet"
           }
          ],
          "heatmap": [
           {
            "colorbar": {
             "outlinewidth": 1,
             "tickcolor": "rgb(36,36,36)",
             "ticks": "outside"
            },
            "colorscale": [
             [
              0,
              "#440154"
             ],
             [
              0.1111111111111111,
              "#482878"
             ],
             [
              0.2222222222222222,
              "#3e4989"
             ],
             [
              0.3333333333333333,
              "#31688e"
             ],
             [
              0.4444444444444444,
              "#26828e"
             ],
             [
              0.5555555555555556,
              "#1f9e89"
             ],
             [
              0.6666666666666666,
              "#35b779"
             ],
             [
              0.7777777777777778,
              "#6ece58"
             ],
             [
              0.8888888888888888,
              "#b5de2b"
             ],
             [
              1,
              "#fde725"
             ]
            ],
            "type": "heatmap"
           }
          ],
          "heatmapgl": [
           {
            "colorbar": {
             "outlinewidth": 1,
             "tickcolor": "rgb(36,36,36)",
             "ticks": "outside"
            },
            "colorscale": [
             [
              0,
              "#440154"
             ],
             [
              0.1111111111111111,
              "#482878"
             ],
             [
              0.2222222222222222,
              "#3e4989"
             ],
             [
              0.3333333333333333,
              "#31688e"
             ],
             [
              0.4444444444444444,
              "#26828e"
             ],
             [
              0.5555555555555556,
              "#1f9e89"
             ],
             [
              0.6666666666666666,
              "#35b779"
             ],
             [
              0.7777777777777778,
              "#6ece58"
             ],
             [
              0.8888888888888888,
              "#b5de2b"
             ],
             [
              1,
              "#fde725"
             ]
            ],
            "type": "heatmapgl"
           }
          ],
          "histogram": [
           {
            "marker": {
             "line": {
              "color": "white",
              "width": 0.6
             }
            },
            "type": "histogram"
           }
          ],
          "histogram2d": [
           {
            "colorbar": {
             "outlinewidth": 1,
             "tickcolor": "rgb(36,36,36)",
             "ticks": "outside"
            },
            "colorscale": [
             [
              0,
              "#440154"
             ],
             [
              0.1111111111111111,
              "#482878"
             ],
             [
              0.2222222222222222,
              "#3e4989"
             ],
             [
              0.3333333333333333,
              "#31688e"
             ],
             [
              0.4444444444444444,
              "#26828e"
             ],
             [
              0.5555555555555556,
              "#1f9e89"
             ],
             [
              0.6666666666666666,
              "#35b779"
             ],
             [
              0.7777777777777778,
              "#6ece58"
             ],
             [
              0.8888888888888888,
              "#b5de2b"
             ],
             [
              1,
              "#fde725"
             ]
            ],
            "type": "histogram2d"
           }
          ],
          "histogram2dcontour": [
           {
            "colorbar": {
             "outlinewidth": 1,
             "tickcolor": "rgb(36,36,36)",
             "ticks": "outside"
            },
            "colorscale": [
             [
              0,
              "#440154"
             ],
             [
              0.1111111111111111,
              "#482878"
             ],
             [
              0.2222222222222222,
              "#3e4989"
             ],
             [
              0.3333333333333333,
              "#31688e"
             ],
             [
              0.4444444444444444,
              "#26828e"
             ],
             [
              0.5555555555555556,
              "#1f9e89"
             ],
             [
              0.6666666666666666,
              "#35b779"
             ],
             [
              0.7777777777777778,
              "#6ece58"
             ],
             [
              0.8888888888888888,
              "#b5de2b"
             ],
             [
              1,
              "#fde725"
             ]
            ],
            "type": "histogram2dcontour"
           }
          ],
          "mesh3d": [
           {
            "colorbar": {
             "outlinewidth": 1,
             "tickcolor": "rgb(36,36,36)",
             "ticks": "outside"
            },
            "type": "mesh3d"
           }
          ],
          "parcoords": [
           {
            "line": {
             "colorbar": {
              "outlinewidth": 1,
              "tickcolor": "rgb(36,36,36)",
              "ticks": "outside"
             }
            },
            "type": "parcoords"
           }
          ],
          "pie": [
           {
            "automargin": true,
            "type": "pie"
           }
          ],
          "scatter": [
           {
            "fillpattern": {
             "fillmode": "overlay",
             "size": 10,
             "solidity": 0.2
            },
            "type": "scatter"
           }
          ],
          "scatter3d": [
           {
            "line": {
             "colorbar": {
              "outlinewidth": 1,
              "tickcolor": "rgb(36,36,36)",
              "ticks": "outside"
             }
            },
            "marker": {
             "colorbar": {
              "outlinewidth": 1,
              "tickcolor": "rgb(36,36,36)",
              "ticks": "outside"
             }
            },
            "type": "scatter3d"
           }
          ],
          "scattercarpet": [
           {
            "marker": {
             "colorbar": {
              "outlinewidth": 1,
              "tickcolor": "rgb(36,36,36)",
              "ticks": "outside"
             }
            },
            "type": "scattercarpet"
           }
          ],
          "scattergeo": [
           {
            "marker": {
             "colorbar": {
              "outlinewidth": 1,
              "tickcolor": "rgb(36,36,36)",
              "ticks": "outside"
             }
            },
            "type": "scattergeo"
           }
          ],
          "scattergl": [
           {
            "marker": {
             "colorbar": {
              "outlinewidth": 1,
              "tickcolor": "rgb(36,36,36)",
              "ticks": "outside"
             }
            },
            "type": "scattergl"
           }
          ],
          "scattermapbox": [
           {
            "marker": {
             "colorbar": {
              "outlinewidth": 1,
              "tickcolor": "rgb(36,36,36)",
              "ticks": "outside"
             }
            },
            "type": "scattermapbox"
           }
          ],
          "scatterpolar": [
           {
            "marker": {
             "colorbar": {
              "outlinewidth": 1,
              "tickcolor": "rgb(36,36,36)",
              "ticks": "outside"
             }
            },
            "type": "scatterpolar"
           }
          ],
          "scatterpolargl": [
           {
            "marker": {
             "colorbar": {
              "outlinewidth": 1,
              "tickcolor": "rgb(36,36,36)",
              "ticks": "outside"
             }
            },
            "type": "scatterpolargl"
           }
          ],
          "scatterternary": [
           {
            "marker": {
             "colorbar": {
              "outlinewidth": 1,
              "tickcolor": "rgb(36,36,36)",
              "ticks": "outside"
             }
            },
            "type": "scatterternary"
           }
          ],
          "surface": [
           {
            "colorbar": {
             "outlinewidth": 1,
             "tickcolor": "rgb(36,36,36)",
             "ticks": "outside"
            },
            "colorscale": [
             [
              0,
              "#440154"
             ],
             [
              0.1111111111111111,
              "#482878"
             ],
             [
              0.2222222222222222,
              "#3e4989"
             ],
             [
              0.3333333333333333,
              "#31688e"
             ],
             [
              0.4444444444444444,
              "#26828e"
             ],
             [
              0.5555555555555556,
              "#1f9e89"
             ],
             [
              0.6666666666666666,
              "#35b779"
             ],
             [
              0.7777777777777778,
              "#6ece58"
             ],
             [
              0.8888888888888888,
              "#b5de2b"
             ],
             [
              1,
              "#fde725"
             ]
            ],
            "type": "surface"
           }
          ],
          "table": [
           {
            "cells": {
             "fill": {
              "color": "rgb(237,237,237)"
             },
             "line": {
              "color": "white"
             }
            },
            "header": {
             "fill": {
              "color": "rgb(217,217,217)"
             },
             "line": {
              "color": "white"
             }
            },
            "type": "table"
           }
          ]
         },
         "layout": {
          "annotationdefaults": {
           "arrowhead": 0,
           "arrowwidth": 1
          },
          "autotypenumbers": "strict",
          "coloraxis": {
           "colorbar": {
            "outlinewidth": 1,
            "tickcolor": "rgb(36,36,36)",
            "ticks": "outside"
           }
          },
          "colorscale": {
           "diverging": [
            [
             0,
             "rgb(103,0,31)"
            ],
            [
             0.1,
             "rgb(178,24,43)"
            ],
            [
             0.2,
             "rgb(214,96,77)"
            ],
            [
             0.3,
             "rgb(244,165,130)"
            ],
            [
             0.4,
             "rgb(253,219,199)"
            ],
            [
             0.5,
             "rgb(247,247,247)"
            ],
            [
             0.6,
             "rgb(209,229,240)"
            ],
            [
             0.7,
             "rgb(146,197,222)"
            ],
            [
             0.8,
             "rgb(67,147,195)"
            ],
            [
             0.9,
             "rgb(33,102,172)"
            ],
            [
             1,
             "rgb(5,48,97)"
            ]
           ],
           "sequential": [
            [
             0,
             "#440154"
            ],
            [
             0.1111111111111111,
             "#482878"
            ],
            [
             0.2222222222222222,
             "#3e4989"
            ],
            [
             0.3333333333333333,
             "#31688e"
            ],
            [
             0.4444444444444444,
             "#26828e"
            ],
            [
             0.5555555555555556,
             "#1f9e89"
            ],
            [
             0.6666666666666666,
             "#35b779"
            ],
            [
             0.7777777777777778,
             "#6ece58"
            ],
            [
             0.8888888888888888,
             "#b5de2b"
            ],
            [
             1,
             "#fde725"
            ]
           ],
           "sequentialminus": [
            [
             0,
             "#440154"
            ],
            [
             0.1111111111111111,
             "#482878"
            ],
            [
             0.2222222222222222,
             "#3e4989"
            ],
            [
             0.3333333333333333,
             "#31688e"
            ],
            [
             0.4444444444444444,
             "#26828e"
            ],
            [
             0.5555555555555556,
             "#1f9e89"
            ],
            [
             0.6666666666666666,
             "#35b779"
            ],
            [
             0.7777777777777778,
             "#6ece58"
            ],
            [
             0.8888888888888888,
             "#b5de2b"
            ],
            [
             1,
             "#fde725"
            ]
           ]
          },
          "colorway": [
           "#91268F",
           "#8CC63E",
           "#00A7A0",
           "#F05A28",
           "#4C4C4C",
           "#630460",
           "#9f3913",
           "#588527",
           "#00716c",
           "#3e4040"
          ],
          "font": {
           "color": "rgb(36,36,36)",
           "family": "Poppins",
           "size": 11
          },
          "geo": {
           "bgcolor": "white",
           "lakecolor": "white",
           "landcolor": "white",
           "showlakes": true,
           "showland": true,
           "subunitcolor": "white"
          },
          "hoverlabel": {
           "align": "left"
          },
          "hovermode": "closest",
          "mapbox": {
           "style": "light"
          },
          "paper_bgcolor": "white",
          "plot_bgcolor": "white",
          "polar": {
           "angularaxis": {
            "gridcolor": "rgb(232,232,232)",
            "linecolor": "rgb(36,36,36)",
            "showgrid": false,
            "showline": true,
            "ticks": "outside"
           },
           "bgcolor": "white",
           "radialaxis": {
            "gridcolor": "rgb(232,232,232)",
            "linecolor": "rgb(36,36,36)",
            "showgrid": false,
            "showline": true,
            "ticks": "outside"
           }
          },
          "scene": {
           "xaxis": {
            "backgroundcolor": "white",
            "gridcolor": "rgb(232,232,232)",
            "gridwidth": 2,
            "linecolor": "rgb(36,36,36)",
            "showbackground": true,
            "showgrid": false,
            "showline": true,
            "ticks": "outside",
            "zeroline": false,
            "zerolinecolor": "rgb(36,36,36)"
           },
           "yaxis": {
            "backgroundcolor": "white",
            "gridcolor": "rgb(232,232,232)",
            "gridwidth": 2,
            "linecolor": "rgb(36,36,36)",
            "showbackground": true,
            "showgrid": false,
            "showline": true,
            "ticks": "outside",
            "zeroline": false,
            "zerolinecolor": "rgb(36,36,36)"
           },
           "zaxis": {
            "backgroundcolor": "white",
            "gridcolor": "rgb(232,232,232)",
            "gridwidth": 2,
            "linecolor": "rgb(36,36,36)",
            "showbackground": true,
            "showgrid": false,
            "showline": true,
            "ticks": "outside",
            "zeroline": false,
            "zerolinecolor": "rgb(36,36,36)"
           }
          },
          "shapedefaults": {
           "fillcolor": "black",
           "line": {
            "width": 0
           },
           "opacity": 0.3
          },
          "ternary": {
           "aaxis": {
            "gridcolor": "rgb(232,232,232)",
            "linecolor": "rgb(36,36,36)",
            "showgrid": false,
            "showline": true,
            "ticks": "outside"
           },
           "baxis": {
            "gridcolor": "rgb(232,232,232)",
            "linecolor": "rgb(36,36,36)",
            "showgrid": false,
            "showline": true,
            "ticks": "outside"
           },
           "bgcolor": "white",
           "caxis": {
            "gridcolor": "rgb(232,232,232)",
            "linecolor": "rgb(36,36,36)",
            "showgrid": false,
            "showline": true,
            "ticks": "outside"
           }
          },
          "title": {
           "x": 0.05
          },
          "xaxis": {
           "automargin": true,
           "gridcolor": "rgb(232,232,232)",
           "linecolor": "rgb(36,36,36)",
           "showgrid": false,
           "showline": true,
           "ticks": "outside",
           "title": {
            "standoff": 15
           },
           "zeroline": false,
           "zerolinecolor": "rgb(36,36,36)"
          },
          "yaxis": {
           "automargin": true,
           "gridcolor": "rgb(232,232,232)",
           "linecolor": "rgb(36,36,36)",
           "showgrid": false,
           "showline": true,
           "ticks": "outside",
           "title": {
            "standoff": 15
           },
           "zeroline": false,
           "zerolinecolor": "rgb(36,36,36)"
          }
         }
        },
        "title": {
         "text": "Park and Ride Usage vs Capacity"
        }
       }
      },
      "text/html": [
       "<div>                            <div id=\"532a1090-e70b-4417-8abc-fe30ef2cee60\" class=\"plotly-graph-div\" style=\"height:525px; width:100%;\"></div>            <script type=\"text/javascript\">                require([\"plotly\"], function(Plotly) {                    window.PLOTLYENV=window.PLOTLYENV || {};                                    if (document.getElementById(\"532a1090-e70b-4417-8abc-fe30ef2cee60\")) {                    Plotly.newPlot(                        \"532a1090-e70b-4417-8abc-fe30ef2cee60\",                        [{\"customdata\":[[\"Tukwila Station (CR)\",3751,96,390],[\"Tacoma Dome Station\",3752,181,2283],[\"South Tacoma (CR)\",3753,2,220],[\"Everett Station (CR)\",3754,69,1067],[\"Sumner Station (CR)\",3755,242,302],[\"Mukilteo Station\",3756,2,63],[\"Kent Station (CR)\",3757,443,996],[\"Auburn Station (CR)\",3758,533,636],[\"Lakewood (CR)\",3759,4,600],[\"Gateway P&R\",3760,44,104],[\"Puyallup Station (SB)\",3761,85,522],[\"Twin Lakes P&R\",3762,7,600],[\"Crossroads Neighborhood Church\",3763,6,107],[\"Overlake Transit Center\",3764,114,323],[\"Redondo Heights P&R\",3765,3,697],[\"North Gig Harbor\\u002fKimball Drive\",3766,11,306],[\"Duvall P&R\",3767,1,49],[\"Roy 'Y' P&R\",3768,1,100],[\"South Hill (Elim Evangelical)\",3769,13,20],[\"Parkland Transit Center\",3770,6,62],[\"SR-512\\u002fI-5 (Lakewood)\",3771,16,493],[\"Center Street P&R\",3772,7,75],[\"Tacoma Mall Transit Center\",3773,12,150],[\"South Tacoma West\",3774,10,78],[\"South Tacoma East - 2\",3775,2,44],[\"Narrows P&R\",3776,1,195],[\"North Purdy\\u002fPurdy Crescent\",3777,1,200],[\"Point Defiance Ferry\",3778,6,79],[\"South Federal P&R\",3779,14,515],[\"Federal Way P&R (320th)\",3781,65,877],[\"Auburn P&R\",3782,4,358],[\"Holy Spirit Lutheran Church\",3784,7,40],[\"Kent\\u002fDes Moines P&R\",3785,9,404],[\"Kent\\u002fJames St. P&R\",3786,100,713],[\"Burien Transit Center\",3787,24,488],[\"Tukwila\",3788,21,267],[\"Maple Valley P&R\",3789,1,122],[\"South Renton P&R\",3790,31,385],[\"Renton Highlands P&R (St. Matts)\",3791,2,128],[\"Issaquah Transit Center\",3792,17,200],[\"Mercer Island P&R\",3793,184,447],[\"Mercer Island Presbyterian\",3794,21,30],[\"Newport Hills P&R\",3795,4,275],[\"Newport Covenant Church\",3797,2,75],[\"South Bellevue P&R\",3798,28,1500],[\"Wilburton\",3799,11,186],[\"Eastgate P&R\",3800,47,1614],[\"North Bend P&R\",3801,6,80],[\"Evergreen Point P&R\",3802,89,51],[\"Grace Lutheran Church\",3803,24,50],[\"South Kirkland P&R\",3804,6,785],[\"Overlake P&R\",3805,57,203],[\"Houghton P&R\",3806,6,470],[\"Bethel Lutheran\",3807,1,40],[\"Redmond P&R\",3808,33,150],[\"Saint Thomas Episcopal\",3809,19,48],[\"Valley Center\",3810,3,55],[\"Bear Creek P&R\",3811,20,334],[\"Kingsgate P&R\",3812,48,502],[\"Brickyard P&R\",3813,2,242],[\"Northshore P&R\",3814,11,376],[\"Kenmore P&R\",3815,54,603],[\"Bethany Bible Church\",3816,67,75],[\"Bothell P&R\",3817,61,220],[\"Woodinville P&R\",3818,9,459],[\"Olson & Meyers\",3819,20,100],[\"Spokane Street P&R\",3820,125,55],[\"Greenlake P&R\",3821,100,411],[\"Northgate TC\",3822,2527,1444],[\"North Jackson Park\",3823,112,500],[\"Shoreline\",3824,34,393],[\"112th St. & I-5\",3825,8,399],[\"Ober Park\",3826,1,48],[\"Vashon Heights\",3827,91,230],[\"Mountlake Terrace P&R\",3828,24,874],[\"Bethesda Lutheran\",3829,9,20],[\"Edmonds Station\",3830,1,259],[\"Edmonds P&R\",3831,14,255],[\"Lynnwood P&R\",3832,12,1896],[\"Swamp Creek P&R\",3833,16,410],[\"Mariner P&R\",3834,17,667],[\"Snohomish\",3835,3,104],[\"Marysville - Ash Ave\",3836,3,202],[\"Arlington P&R\",3839,4,25],[\"Monroe\",3841,4,102],[\"Federal Way\",3842,41,1190],[\"Port Orchard Armory\",3843,165,105],[\"Southworth Ferry P&R\",3844,102,318],[\"McWilliams P&R\",3845,1,151],[\"Bethany Lutheran Church\",3846,31,80],[\"Gateway Fellowship\",3847,6,138],[\"Kingston Ferry P&R\",3849,1,72],[\"Suquamish United Church of Christ\",3850,3,65],[\"Bainbridge Island Ferry\",3851,205,187],[\"Puyallup Station (NB)\",3852,12,522],[\"72nd Street Transit Center\",3853,7,68],[\"Aurora Village TC\",3856,77,202],[\"Aurora Nazarene\",3857,18,116],[\"Saint Margaret's Episcopal\",3858,9,64],[\"Lake Meridian P&R\",3861,11,172],[\"Smokey Pt. Church\",3862,4,50],[\"Eastmont P&R\",3863,1,389],[\"McCollum Park P&R\",3864,20,409],[\"Canyon Park P&R\",3865,17,298],[\"Korean Presby. P&R\",3866,15,25],[\"Poulsbo Church of the Nazarene\",3868,2,266],[\"Harper Evangelical Free Church\",3870,7,462],[\"Mullenix Road\",3871,4,92],[\"TCC P&R\",3873,10,95],[\"Ash Way P&R\",3874,56,1019],[\"Bonney Lake P&R\",3875,6,356],[\"Tukwila Int. Station\",3876,342,600],[\"South Hill P&R\",3877,11,354],[\"South Tacoma East - 1\",3878,1,33],[\"Issaquah Highlands\",3879,32,1000],[\"Lake Stevens TC\",3880,6,207],[\"Liberty Bay Presbyterian\",3881,1,90],[\"NK Baptist\",3882,4,57],[\"Preston P&R\",3883,38,53],[\"Bayside Community Church\",3884,1,210],[\"Bremerton Ferry\",3886,131,566],[\"Puyallup Fair's Red Lot\",3888,344,219],[\"Marysville - Cedar & Grove\",3889,3,213],[\"Marysville I P&R\",3891,4,74],[\"Martha Lake Covenant Church\",3892,3,75],[\"South Sammammish P&R\",3893,4,265],[\"Renton City Municipal Garage\",3894,22,150],[\"Tibbetts Lot\",3895,9,170],[\"Renton Transit Center\",3896,15,150],[\"Calvary Christian Assembly\",3897,35,125],[\"Maple Valley Town Square\",3898,2,90],[\"All Saints Lutheran Church\",3899,6,75],[\"City View Church\",3900,77,96],[\"Northwest University 6710 Bldg.\",3901,14,61],[\"Sammamish Lutheran P&R\",3902,1,54],[\"Redmond Ridge P&R\",3903,3,52],[\"Kennydale United Methodist Church\",3904,5,50],[\"Nativity Lutheran Church\",3905,4,49],[\"South SeaTac (LR)\",3907,1008,1160],[\"Everett Station\",3908,65,160],[null,3951,6,54]],\"hovertemplate\":\"Boardings\\u002fCapacity=%{marker.color}\\u003cbr\\u003elat=%{lat}\\u003cbr\\u003elon=%{lon}\\u003cbr\\u003ename=%{customdata[0]}\\u003cbr\\u003etaz=%{customdata[1]}\\u003cbr\\u003eModel Boardings=%{customdata[2]}\\u003cbr\\u003eCapacity=%{customdata[3]}\\u003cextra\\u003e\\u003c\\u002fextra\\u003e\",\"lat\":[47.459791189113055,47.240587026940496,47.203188285743,47.97553008822413,47.201048326678425,47.949202090593815,47.383970408531425,47.30597098022815,47.153298431654285,47.56718379854233,47.193060762628754,47.29373336434266,47.631646481329874,47.64429306998266,47.35504335733807,47.3163618931415,47.74282207119212,47.08271784155433,47.140757778268615,47.14791172694066,47.161484802874284,47.23400250827875,47.21362968300981,47.20552052830966,47.20622110948438,47.25600193981221,47.38923379023241,47.30559584671795,47.289041380796476,47.31163591874175,47.32142070370895,47.7104244936842,47.39168729512872,47.38491251743171,47.469518524026284,47.48197741301064,47.39722692921272,47.47271938615727,47.50715467593467,47.5421344859425,47.58878969142359,47.57701316304821,47.55704702946253,47.564129961427035,47.58629181288903,47.60395259926627,47.580583829158485,47.49597432021159,47.63677734251024,47.616380743797244,47.64418998070187,47.63297717439434,47.66816331814846,47.75569187858501,47.6765003576322,47.62160396082053,47.42287235072545,47.674169895277565,47.71630675038611,47.74096553654258,47.76143815613439,47.75869948424539,47.75911072833425,47.759457740337254,47.75702879699488,47.520273185221846,47.571714184646375,47.67673605768736,47.70239443761157,47.735650070604855,47.76687666732243,47.897149496501655,47.45193656025647,47.50832497753617,47.786023838048486,47.786405217140484,47.81083814590226,47.805505328682436,47.81595811606588,47.851158747803034,47.879273837323716,47.931600004686565,48.052799958531104,48.196226663014926,47.86853209498515,47.31771355238481,47.53346196599079,47.51175930997434,47.620810382951404,47.635076024273125,47.733914565835,47.798924738192895,47.733267845932694,47.62400593156234,47.19226982725735,47.192971542906285,47.77471134386238,47.75619875057065,47.56885032852624,47.36115476012324,48.15732422532287,47.91577651606941,47.880528888492265,47.79421797219861,47.78299309998247,47.759682723438075,47.50395364516145,47.4683127358232,47.24317915202268,47.852265826626585,47.17424906089401,47.46462822513558,47.161515219367466,47.20690802107854,47.54548131124219,47.99833018258796,47.73132891345255,47.74896727800608,47.52729295506841,47.799607552327174,47.56371171355699,47.185461659521216,48.06186352787003,48.05093832410037,47.85078851793791,47.582163360805794,47.48065386274714,47.54050303955318,47.48170670581923,47.67825835598132,47.36261650204512,47.35719493962773,47.48028761734057,47.66655727817533,47.601973031740954,47.68558355990292,47.51822107506604,47.4435715904644,47.42300305792277,47.60111801912681,47.302354813300944],\"legendgroup\":\"\",\"lon\":[-122.24142204292801,-122.42559764232288,-122.48610523364498,-122.19768602099377,-122.24474142310243,-122.29903798331632,-122.23410004243462,-122.23148352515318,-122.49859252745824,-122.65169744997347,-122.29627387444259,-122.3599437944882,-122.6376553285978,-122.13352825516421,-122.30994876622252,-122.58550724037367,-121.98519670565817,-122.43467115344275,-122.30342870923496,-122.43537507130094,-122.4832269556689,-122.49605950380925,-122.46823390072736,-122.46332756461389,-122.4595315453806,-122.53268859436118,-122.62545806801099,-122.51464330348125,-122.32271243809302,-122.30155617219685,-122.22738331793343,-122.20748786443893,-122.28801450038526,-122.24251278515935,-122.33865108623566,-122.26898729590523,-122.04489635419205,-122.2140249890397,-122.18367513597434,-122.06181211149554,-122.23166518784704,-122.22739995414824,-122.1886194896657,-122.17018509756201,-122.1904053737166,-122.1855070751748,-122.15247915819556,-121.78890814933835,-122.23793067783187,-122.21058496428182,-122.19692070930883,-122.1356025761157,-122.18466300042218,-122.31907049448232,-122.12357646358394,-122.22848578037559,-122.4617588893532,-122.10086680270592,-122.18764374421475,-122.18801850253551,-122.25089711182129,-122.24193472527783,-122.25940207427163,-122.20174474164908,-122.15150344952004,-122.33619477501689,-122.36486292041623,-122.3207479132486,-122.3263535981885,-122.3238311992929,-122.34679899076795,-122.21539257019184,-122.45962271847641,-122.46527095271402,-122.31456649794684,-122.30895559283637,-122.38443648143998,-122.33045854744478,-122.29397697243073,-122.2762912947167,-122.23819674557204,-122.10076917207742,-122.18350218748834,-122.129183066928,-121.9960708438206,-122.30476126399772,-122.61872855042411,-122.4985314823769,-122.62808145181158,-122.53684064463692,-122.63927304886704,-122.497145659761,-122.55779654978755,-122.51049641551649,-122.29638289622436,-122.41141133327692,-122.34274243377105,-122.33571558742703,-122.16885945632364,-122.16596694150272,-122.18235612206618,-122.2039867300772,-122.22076355008004,-122.21165372444678,-122.34737059623502,-122.65215146199641,-122.51509635593781,-122.6219458140525,-122.52527889141626,-122.25855174480624,-122.18490269497767,-122.28690849789872,-122.30486983988138,-122.45925556454627,-122.01943008905627,-122.1037985047417,-122.63760529985272,-122.6376022779008,-121.93697928446608,-122.508528546698,-122.6250481725124,-122.29928303340452,-122.17950440147415,-122.18326561243495,-122.2711389215377,-122.03642859327114,-122.20850143259241,-122.06172743208168,-122.20744093150329,-122.31799001747187,-122.0201427495308,-122.29322515985572,-122.22017447638363,-122.19590687558149,-122.03476548005801,-122.03407154200131,-122.20129952764448,-122.15522089858798,-122.29884833358034,-122.63061955933047,-122.25777874175822],\"marker\":{\"color\":[0.24615384615384617,0.07928164695575997,0.00909090909090909,0.06466729147141519,0.8013245033112583,0.031746031746031744,0.44477911646586343,0.8380503144654088,0.006666666666666667,0.4230769230769231,0.16283524904214558,0.011666666666666667,0.056074766355140186,0.35294117647058826,0.00430416068866571,0.03594771241830065,0.02040816326530612,0.01,0.65,0.0967741935483871,0.032454361054766734,0.09333333333333334,0.08,0.1282051282051282,0.045454545454545456,0.005128205128205128,0.005,0.0759493670886076,0.027184466019417475,0.07411630558722919,0.0111731843575419,0.175,0.022277227722772276,0.1402524544179523,0.04918032786885246,0.07865168539325842,0.00819672131147541,0.08051948051948052,0.015625,0.085,0.4116331096196868,0.7,0.014545454545454545,0.02666666666666667,0.018666666666666668,0.05913978494623656,0.029120198265179677,0.075,1.7450980392156863,0.48,0.007643312101910828,0.28078817733990147,0.01276595744680851,0.025,0.22,0.3958333333333333,0.05454545454545454,0.059880239520958084,0.09561752988047809,0.008264462809917356,0.02925531914893617,0.08955223880597014,0.8933333333333333,0.2772727272727273,0.0196078431372549,0.2,2.272727272727273,0.24330900243309003,1.75,0.224,0.08651399491094147,0.020050125313283207,0.020833333333333332,0.39565217391304347,0.02745995423340961,0.45,0.003861003861003861,0.054901960784313725,0.006329113924050633,0.03902439024390244,0.025487256371814093,0.028846153846153848,0.01485148514851485,0.16,0.0392156862745098,0.034453781512605045,1.5714285714285714,0.32075471698113206,0.006622516556291391,0.3875,0.043478260869565216,0.013888888888888888,0.046153846153846156,1.0962566844919786,0.022988505747126436,0.10294117647058823,0.3811881188118812,0.15517241379310345,0.140625,0.06395348837209303,0.08,0.002570694087403599,0.0488997555012225,0.05704697986577181,0.6,0.007518796992481203,0.015151515151515152,0.043478260869565216,0.10526315789473684,0.0549558390578999,0.016853932584269662,0.57,0.031073446327683617,0.030303030303030304,0.032,0.028985507246376812,0.011111111111111112,0.07017543859649122,0.7169811320754716,0.004761904761904762,0.2314487632508834,1.5707762557077625,0.014084507042253521,0.05405405405405406,0.04,0.01509433962264151,0.14666666666666667,0.052941176470588235,0.1,0.28,0.022222222222222223,0.08,0.8020833333333334,0.22950819672131148,0.018518518518518517,0.057692307692307696,0.1,0.08163265306122448,0.8689655172413793,0.40625,0.1111111111111111],\"coloraxis\":\"coloraxis\",\"size\":[0.24615384615384617,0.07928164695575997,0.00909090909090909,0.06466729147141519,0.8013245033112583,0.031746031746031744,0.44477911646586343,0.8380503144654088,0.006666666666666667,0.4230769230769231,0.16283524904214558,0.011666666666666667,0.056074766355140186,0.35294117647058826,0.00430416068866571,0.03594771241830065,0.02040816326530612,0.01,0.65,0.0967741935483871,0.032454361054766734,0.09333333333333334,0.08,0.1282051282051282,0.045454545454545456,0.005128205128205128,0.005,0.0759493670886076,0.027184466019417475,0.07411630558722919,0.0111731843575419,0.175,0.022277227722772276,0.1402524544179523,0.04918032786885246,0.07865168539325842,0.00819672131147541,0.08051948051948052,0.015625,0.085,0.4116331096196868,0.7,0.014545454545454545,0.02666666666666667,0.018666666666666668,0.05913978494623656,0.029120198265179677,0.075,1.7450980392156863,0.48,0.007643312101910828,0.28078817733990147,0.01276595744680851,0.025,0.22,0.3958333333333333,0.05454545454545454,0.059880239520958084,0.09561752988047809,0.008264462809917356,0.02925531914893617,0.08955223880597014,0.8933333333333333,0.2772727272727273,0.0196078431372549,0.2,2.272727272727273,0.24330900243309003,1.75,0.224,0.08651399491094147,0.020050125313283207,0.020833333333333332,0.39565217391304347,0.02745995423340961,0.45,0.003861003861003861,0.054901960784313725,0.006329113924050633,0.03902439024390244,0.025487256371814093,0.028846153846153848,0.01485148514851485,0.16,0.0392156862745098,0.034453781512605045,1.5714285714285714,0.32075471698113206,0.006622516556291391,0.3875,0.043478260869565216,0.013888888888888888,0.046153846153846156,1.0962566844919786,0.022988505747126436,0.10294117647058823,0.3811881188118812,0.15517241379310345,0.140625,0.06395348837209303,0.08,0.002570694087403599,0.0488997555012225,0.05704697986577181,0.6,0.007518796992481203,0.015151515151515152,0.043478260869565216,0.10526315789473684,0.0549558390578999,0.016853932584269662,0.57,0.031073446327683617,0.030303030303030304,0.032,0.028985507246376812,0.011111111111111112,0.07017543859649122,0.7169811320754716,0.004761904761904762,0.2314487632508834,1.5707762557077625,0.014084507042253521,0.05405405405405406,0.04,0.01509433962264151,0.14666666666666667,0.052941176470588235,0.1,0.28,0.022222222222222223,0.08,0.8020833333333334,0.22950819672131148,0.018518518518518517,0.057692307692307696,0.1,0.08163265306122448,0.8689655172413793,0.40625,0.1111111111111111],\"sizemode\":\"area\",\"sizeref\":0.005681818181818182},\"mode\":\"markers\",\"name\":\"\",\"showlegend\":false,\"subplot\":\"mapbox\",\"type\":\"scattermapbox\"}],                        {\"template\":{\"data\":{\"barpolar\":[{\"marker\":{\"line\":{\"color\":\"white\",\"width\":0.5},\"pattern\":{\"fillmode\":\"overlay\",\"size\":10,\"solidity\":0.2}},\"type\":\"barpolar\"}],\"bar\":[{\"error_x\":{\"color\":\"rgb(36,36,36)\"},\"error_y\":{\"color\":\"rgb(36,36,36)\"},\"marker\":{\"line\":{\"color\":\"white\",\"width\":0.5},\"pattern\":{\"fillmode\":\"overlay\",\"size\":10,\"solidity\":0.2}},\"type\":\"bar\"}],\"carpet\":[{\"aaxis\":{\"endlinecolor\":\"rgb(36,36,36)\",\"gridcolor\":\"white\",\"linecolor\":\"white\",\"minorgridcolor\":\"white\",\"startlinecolor\":\"rgb(36,36,36)\"},\"baxis\":{\"endlinecolor\":\"rgb(36,36,36)\",\"gridcolor\":\"white\",\"linecolor\":\"white\",\"minorgridcolor\":\"white\",\"startlinecolor\":\"rgb(36,36,36)\"},\"type\":\"carpet\"}],\"choropleth\":[{\"colorbar\":{\"outlinewidth\":1,\"tickcolor\":\"rgb(36,36,36)\",\"ticks\":\"outside\"},\"type\":\"choropleth\"}],\"contourcarpet\":[{\"colorbar\":{\"outlinewidth\":1,\"tickcolor\":\"rgb(36,36,36)\",\"ticks\":\"outside\"},\"type\":\"contourcarpet\"}],\"contour\":[{\"colorbar\":{\"outlinewidth\":1,\"tickcolor\":\"rgb(36,36,36)\",\"ticks\":\"outside\"},\"colorscale\":[[0.0,\"#440154\"],[0.1111111111111111,\"#482878\"],[0.2222222222222222,\"#3e4989\"],[0.3333333333333333,\"#31688e\"],[0.4444444444444444,\"#26828e\"],[0.5555555555555556,\"#1f9e89\"],[0.6666666666666666,\"#35b779\"],[0.7777777777777778,\"#6ece58\"],[0.8888888888888888,\"#b5de2b\"],[1.0,\"#fde725\"]],\"type\":\"contour\"}],\"heatmapgl\":[{\"colorbar\":{\"outlinewidth\":1,\"tickcolor\":\"rgb(36,36,36)\",\"ticks\":\"outside\"},\"colorscale\":[[0.0,\"#440154\"],[0.1111111111111111,\"#482878\"],[0.2222222222222222,\"#3e4989\"],[0.3333333333333333,\"#31688e\"],[0.4444444444444444,\"#26828e\"],[0.5555555555555556,\"#1f9e89\"],[0.6666666666666666,\"#35b779\"],[0.7777777777777778,\"#6ece58\"],[0.8888888888888888,\"#b5de2b\"],[1.0,\"#fde725\"]],\"type\":\"heatmapgl\"}],\"heatmap\":[{\"colorbar\":{\"outlinewidth\":1,\"tickcolor\":\"rgb(36,36,36)\",\"ticks\":\"outside\"},\"colorscale\":[[0.0,\"#440154\"],[0.1111111111111111,\"#482878\"],[0.2222222222222222,\"#3e4989\"],[0.3333333333333333,\"#31688e\"],[0.4444444444444444,\"#26828e\"],[0.5555555555555556,\"#1f9e89\"],[0.6666666666666666,\"#35b779\"],[0.7777777777777778,\"#6ece58\"],[0.8888888888888888,\"#b5de2b\"],[1.0,\"#fde725\"]],\"type\":\"heatmap\"}],\"histogram2dcontour\":[{\"colorbar\":{\"outlinewidth\":1,\"tickcolor\":\"rgb(36,36,36)\",\"ticks\":\"outside\"},\"colorscale\":[[0.0,\"#440154\"],[0.1111111111111111,\"#482878\"],[0.2222222222222222,\"#3e4989\"],[0.3333333333333333,\"#31688e\"],[0.4444444444444444,\"#26828e\"],[0.5555555555555556,\"#1f9e89\"],[0.6666666666666666,\"#35b779\"],[0.7777777777777778,\"#6ece58\"],[0.8888888888888888,\"#b5de2b\"],[1.0,\"#fde725\"]],\"type\":\"histogram2dcontour\"}],\"histogram2d\":[{\"colorbar\":{\"outlinewidth\":1,\"tickcolor\":\"rgb(36,36,36)\",\"ticks\":\"outside\"},\"colorscale\":[[0.0,\"#440154\"],[0.1111111111111111,\"#482878\"],[0.2222222222222222,\"#3e4989\"],[0.3333333333333333,\"#31688e\"],[0.4444444444444444,\"#26828e\"],[0.5555555555555556,\"#1f9e89\"],[0.6666666666666666,\"#35b779\"],[0.7777777777777778,\"#6ece58\"],[0.8888888888888888,\"#b5de2b\"],[1.0,\"#fde725\"]],\"type\":\"histogram2d\"}],\"histogram\":[{\"marker\":{\"line\":{\"color\":\"white\",\"width\":0.6}},\"type\":\"histogram\"}],\"mesh3d\":[{\"colorbar\":{\"outlinewidth\":1,\"tickcolor\":\"rgb(36,36,36)\",\"ticks\":\"outside\"},\"type\":\"mesh3d\"}],\"parcoords\":[{\"line\":{\"colorbar\":{\"outlinewidth\":1,\"tickcolor\":\"rgb(36,36,36)\",\"ticks\":\"outside\"}},\"type\":\"parcoords\"}],\"pie\":[{\"automargin\":true,\"type\":\"pie\"}],\"scatter3d\":[{\"line\":{\"colorbar\":{\"outlinewidth\":1,\"tickcolor\":\"rgb(36,36,36)\",\"ticks\":\"outside\"}},\"marker\":{\"colorbar\":{\"outlinewidth\":1,\"tickcolor\":\"rgb(36,36,36)\",\"ticks\":\"outside\"}},\"type\":\"scatter3d\"}],\"scattercarpet\":[{\"marker\":{\"colorbar\":{\"outlinewidth\":1,\"tickcolor\":\"rgb(36,36,36)\",\"ticks\":\"outside\"}},\"type\":\"scattercarpet\"}],\"scattergeo\":[{\"marker\":{\"colorbar\":{\"outlinewidth\":1,\"tickcolor\":\"rgb(36,36,36)\",\"ticks\":\"outside\"}},\"type\":\"scattergeo\"}],\"scattergl\":[{\"marker\":{\"colorbar\":{\"outlinewidth\":1,\"tickcolor\":\"rgb(36,36,36)\",\"ticks\":\"outside\"}},\"type\":\"scattergl\"}],\"scattermapbox\":[{\"marker\":{\"colorbar\":{\"outlinewidth\":1,\"tickcolor\":\"rgb(36,36,36)\",\"ticks\":\"outside\"}},\"type\":\"scattermapbox\"}],\"scatterpolargl\":[{\"marker\":{\"colorbar\":{\"outlinewidth\":1,\"tickcolor\":\"rgb(36,36,36)\",\"ticks\":\"outside\"}},\"type\":\"scatterpolargl\"}],\"scatterpolar\":[{\"marker\":{\"colorbar\":{\"outlinewidth\":1,\"tickcolor\":\"rgb(36,36,36)\",\"ticks\":\"outside\"}},\"type\":\"scatterpolar\"}],\"scatter\":[{\"fillpattern\":{\"fillmode\":\"overlay\",\"size\":10,\"solidity\":0.2},\"type\":\"scatter\"}],\"scatterternary\":[{\"marker\":{\"colorbar\":{\"outlinewidth\":1,\"tickcolor\":\"rgb(36,36,36)\",\"ticks\":\"outside\"}},\"type\":\"scatterternary\"}],\"surface\":[{\"colorbar\":{\"outlinewidth\":1,\"tickcolor\":\"rgb(36,36,36)\",\"ticks\":\"outside\"},\"colorscale\":[[0.0,\"#440154\"],[0.1111111111111111,\"#482878\"],[0.2222222222222222,\"#3e4989\"],[0.3333333333333333,\"#31688e\"],[0.4444444444444444,\"#26828e\"],[0.5555555555555556,\"#1f9e89\"],[0.6666666666666666,\"#35b779\"],[0.7777777777777778,\"#6ece58\"],[0.8888888888888888,\"#b5de2b\"],[1.0,\"#fde725\"]],\"type\":\"surface\"}],\"table\":[{\"cells\":{\"fill\":{\"color\":\"rgb(237,237,237)\"},\"line\":{\"color\":\"white\"}},\"header\":{\"fill\":{\"color\":\"rgb(217,217,217)\"},\"line\":{\"color\":\"white\"}},\"type\":\"table\"}]},\"layout\":{\"annotationdefaults\":{\"arrowhead\":0,\"arrowwidth\":1},\"autotypenumbers\":\"strict\",\"coloraxis\":{\"colorbar\":{\"outlinewidth\":1,\"tickcolor\":\"rgb(36,36,36)\",\"ticks\":\"outside\"}},\"colorscale\":{\"diverging\":[[0.0,\"rgb(103,0,31)\"],[0.1,\"rgb(178,24,43)\"],[0.2,\"rgb(214,96,77)\"],[0.3,\"rgb(244,165,130)\"],[0.4,\"rgb(253,219,199)\"],[0.5,\"rgb(247,247,247)\"],[0.6,\"rgb(209,229,240)\"],[0.7,\"rgb(146,197,222)\"],[0.8,\"rgb(67,147,195)\"],[0.9,\"rgb(33,102,172)\"],[1.0,\"rgb(5,48,97)\"]],\"sequential\":[[0.0,\"#440154\"],[0.1111111111111111,\"#482878\"],[0.2222222222222222,\"#3e4989\"],[0.3333333333333333,\"#31688e\"],[0.4444444444444444,\"#26828e\"],[0.5555555555555556,\"#1f9e89\"],[0.6666666666666666,\"#35b779\"],[0.7777777777777778,\"#6ece58\"],[0.8888888888888888,\"#b5de2b\"],[1.0,\"#fde725\"]],\"sequentialminus\":[[0.0,\"#440154\"],[0.1111111111111111,\"#482878\"],[0.2222222222222222,\"#3e4989\"],[0.3333333333333333,\"#31688e\"],[0.4444444444444444,\"#26828e\"],[0.5555555555555556,\"#1f9e89\"],[0.6666666666666666,\"#35b779\"],[0.7777777777777778,\"#6ece58\"],[0.8888888888888888,\"#b5de2b\"],[1.0,\"#fde725\"]]},\"colorway\":[\"#91268F\",\"#8CC63E\",\"#00A7A0\",\"#F05A28\",\"#4C4C4C\",\"#630460\",\"#9f3913\",\"#588527\",\"#00716c\",\"#3e4040\"],\"font\":{\"color\":\"rgb(36,36,36)\",\"family\":\"Poppins\",\"size\":11},\"geo\":{\"bgcolor\":\"white\",\"lakecolor\":\"white\",\"landcolor\":\"white\",\"showlakes\":true,\"showland\":true,\"subunitcolor\":\"white\"},\"hoverlabel\":{\"align\":\"left\"},\"hovermode\":\"closest\",\"mapbox\":{\"style\":\"light\"},\"paper_bgcolor\":\"white\",\"plot_bgcolor\":\"white\",\"polar\":{\"angularaxis\":{\"gridcolor\":\"rgb(232,232,232)\",\"linecolor\":\"rgb(36,36,36)\",\"showgrid\":false,\"showline\":true,\"ticks\":\"outside\"},\"bgcolor\":\"white\",\"radialaxis\":{\"gridcolor\":\"rgb(232,232,232)\",\"linecolor\":\"rgb(36,36,36)\",\"showgrid\":false,\"showline\":true,\"ticks\":\"outside\"}},\"scene\":{\"xaxis\":{\"backgroundcolor\":\"white\",\"gridcolor\":\"rgb(232,232,232)\",\"gridwidth\":2,\"linecolor\":\"rgb(36,36,36)\",\"showbackground\":true,\"showgrid\":false,\"showline\":true,\"ticks\":\"outside\",\"zeroline\":false,\"zerolinecolor\":\"rgb(36,36,36)\"},\"yaxis\":{\"backgroundcolor\":\"white\",\"gridcolor\":\"rgb(232,232,232)\",\"gridwidth\":2,\"linecolor\":\"rgb(36,36,36)\",\"showbackground\":true,\"showgrid\":false,\"showline\":true,\"ticks\":\"outside\",\"zeroline\":false,\"zerolinecolor\":\"rgb(36,36,36)\"},\"zaxis\":{\"backgroundcolor\":\"white\",\"gridcolor\":\"rgb(232,232,232)\",\"gridwidth\":2,\"linecolor\":\"rgb(36,36,36)\",\"showbackground\":true,\"showgrid\":false,\"showline\":true,\"ticks\":\"outside\",\"zeroline\":false,\"zerolinecolor\":\"rgb(36,36,36)\"}},\"shapedefaults\":{\"fillcolor\":\"black\",\"line\":{\"width\":0},\"opacity\":0.3},\"ternary\":{\"aaxis\":{\"gridcolor\":\"rgb(232,232,232)\",\"linecolor\":\"rgb(36,36,36)\",\"showgrid\":false,\"showline\":true,\"ticks\":\"outside\"},\"baxis\":{\"gridcolor\":\"rgb(232,232,232)\",\"linecolor\":\"rgb(36,36,36)\",\"showgrid\":false,\"showline\":true,\"ticks\":\"outside\"},\"bgcolor\":\"white\",\"caxis\":{\"gridcolor\":\"rgb(232,232,232)\",\"linecolor\":\"rgb(36,36,36)\",\"showgrid\":false,\"showline\":true,\"ticks\":\"outside\"}},\"title\":{\"x\":0.05},\"xaxis\":{\"automargin\":true,\"gridcolor\":\"rgb(232,232,232)\",\"linecolor\":\"rgb(36,36,36)\",\"showgrid\":false,\"showline\":true,\"ticks\":\"outside\",\"title\":{\"standoff\":15},\"zeroline\":false,\"zerolinecolor\":\"rgb(36,36,36)\"},\"yaxis\":{\"automargin\":true,\"gridcolor\":\"rgb(232,232,232)\",\"linecolor\":\"rgb(36,36,36)\",\"showgrid\":false,\"showline\":true,\"ticks\":\"outside\",\"title\":{\"standoff\":15},\"zeroline\":false,\"zerolinecolor\":\"rgb(36,36,36)\"}}},\"mapbox\":{\"domain\":{\"x\":[0.0,1.0],\"y\":[0.0,1.0]},\"center\":{\"lat\":47.5673852625868,\"lon\":-122.30022896958303},\"zoom\":8,\"style\":\"carto-positron\"},\"coloraxis\":{\"colorbar\":{\"title\":{\"text\":\"Boardings\\u002fCapacity\"}},\"colorscale\":[[0.0,\"#440154\"],[0.1111111111111111,\"#482878\"],[0.2222222222222222,\"#3e4989\"],[0.3333333333333333,\"#31688e\"],[0.4444444444444444,\"#26828e\"],[0.5555555555555556,\"#1f9e89\"],[0.6666666666666666,\"#35b779\"],[0.7777777777777778,\"#6ece58\"],[0.8888888888888888,\"#b5de2b\"],[1.0,\"#fde725\"]]},\"legend\":{\"tracegroupgap\":0,\"itemsizing\":\"constant\"},\"title\":{\"text\":\"Park and Ride Usage vs Capacity\"},\"margin\":{\"r\":0,\"t\":0,\"l\":0,\"b\":0}},                        {\"responsive\": true}                    ).then(function(){\n",
       "                            \n",
       "var gd = document.getElementById('532a1090-e70b-4417-8abc-fe30ef2cee60');\n",
       "var x = new MutationObserver(function (mutations, observer) {{\n",
       "        var display = window.getComputedStyle(gd).display;\n",
       "        if (!display || display === 'none') {{\n",
       "            console.log([gd, 'removed!']);\n",
       "            Plotly.purge(gd);\n",
       "            observer.disconnect();\n",
       "        }}\n",
       "}});\n",
       "\n",
       "// Listen for the removal of the full notebook cells\n",
       "var notebookContainer = gd.closest('#notebook-container');\n",
       "if (notebookContainer) {{\n",
       "    x.observe(notebookContainer, {childList: true});\n",
       "}}\n",
       "\n",
       "// Listen for the clearing of the current output cell\n",
       "var outputEl = gd.closest('.output');\n",
       "if (outputEl) {{\n",
       "    x.observe(outputEl, {childList: true});\n",
       "}}\n",
       "\n",
       "                        })                };                });            </script>        </div>"
      ]
     },
     "metadata": {},
     "output_type": "display_data"
    }
   ],
   "source": [
    "gdf = gpd.GeoDataFrame(df, geometry=gpd.points_from_xy(df.XCoord, df.YCoord), crs='EPSG:2285')\n",
    "gdf.to_crs('EPSG:4326', inplace=True)\n",
    "\n",
    "fig = px.scatter_mapbox(gdf, lat=gdf.geometry.y, lon=gdf.geometry.x, color='Boardings/Capacity', \n",
    "                        size='Boardings/Capacity', hover_data=['name','taz','Model Boardings', 'Capacity'], \n",
    "                        title='Park and Ride Usage vs Capacity', zoom=8)\n",
    "fig.update_layout(mapbox_style=\"carto-positron\")\n",
    "fig.update_layout(margin={\"r\":0,\"t\":0,\"l\":0,\"b\":0})\n",
    "\n",
    "fig.show()"
   ]
  },
  {
   "cell_type": "raw",
   "id": "0bee7bb6",
   "metadata": {
    "vscode": {
     "languageId": "raw"
    }
   },
   "source": [
    "### boardings vs observed occupancy"
   ]
  },
  {
   "cell_type": "code",
   "execution_count": 41,
   "id": "21f0daa0",
   "metadata": {},
   "outputs": [],
   "source": [
    "# get observed data\n",
    "p_r_observe_data = pd.read_csv(\"R:/e2projects_two/2023_base_year/park_and_ride/Park_and_Ride_observed_data_2023.csv\")\n",
    "# filter to latest data record for each park and ride (only 2021 and later years)\n",
    "idx = p_r_observe_data.groupby(['lot_name'])['data_year'].transform(max) == p_r_observe_data['data_year']\n",
    "df_p_r_observe_data = p_r_observe_data[idx].copy()\n",
    "df_p_r_observe_data = df_p_r_observe_data.loc[df_p_r_observe_data['data_year']>=2021].copy()\n",
    "\n",
    "# add station names to node file\n",
    "df_p_r_nodes = pnr_capacity.merge(pd.DataFrame(stations), left_on=\"ZoneID\", right_on=\"id\")\n",
    "\n",
    "# transform to geodataframe\n",
    "gdf_p_r_nodes = gpd.GeoDataFrame(\n",
    "    df_p_r_nodes, geometry=gpd.points_from_xy(df_p_r_nodes.XCoord, df_p_r_nodes.YCoord), crs=\"EPSG:2285\"\n",
    ")\n",
    "\n",
    "gdf_p_r_observe_data = gpd.GeoDataFrame(\n",
    "    df_p_r_observe_data, geometry=gpd.points_from_xy(df_p_r_observe_data.x_coord, df_p_r_observe_data.y_coord), crs=\"EPSG:2285\"\n",
    ")\n",
    "\n",
    "# merge with park and ride name\n",
    "gdf_p_r_data_name = gdf_p_r_nodes.merge(gdf_p_r_observe_data[['data_year', 'lot_name', 'lot_address', 'city','capacity', 'occupancy']],\n",
    "                                        left_on=\"name\",right_on=\"lot_name\")\n",
    "\n",
    "# merge by nearest location\n",
    "gdf_p_r_data_near = gpd.sjoin_nearest(gdf_p_r_nodes.loc[~(gdf_p_r_nodes[\"name\"].isin(gdf_p_r_data_name.name))],\n",
    "                                      gdf_p_r_observe_data[['data_year', 'lot_name', 'lot_address', 'city','capacity', 'occupancy', 'geometry']],\n",
    "                                      max_distance=500)\n",
    "\n",
    "df_col = ['NodeID', 'ZoneID', 'data_year', 'name', \n",
    "          'lot_name', 'lot_address', 'city', 'Capacity', 'capacity', 'occupancy', \n",
    "          'XCoord', 'YCoord', 'geometry']\n",
    "gdf_p_r_data = pd.concat([gdf_p_r_data_name[df_col],gdf_p_r_data_near[df_col]]).copy()\n",
    "\n",
    "# merge boardings\n",
    "gdf_p_r_data = gdf_p_r_data.merge(pnr_boardings, left_on=\"ZoneID\", right_on=\"otaz\")\n",
    "\n",
    "gdf_p_r_data = gdf_p_r_data[['NodeID', 'ZoneID', 'data_year', 'name', 'lot_name', 'lot_address',\n",
    "       'city', 'Capacity', 'capacity', 'occupancy', 'trexpfac', 'XCoord', 'YCoord',\n",
    "       'geometry']].copy().rename(columns={'trexpfac':'boardings'})\n",
    "\n",
    "gdf_p_r_data['boardings - occupancy'] = gdf_p_r_data['boardings'] - gdf_p_r_data['occupancy']\n",
    "gdf_p_r_data['percent diff'] = gdf_p_r_data['boardings - occupancy'] / gdf_p_r_data['occupancy']\n",
    "\n",
    "gdf_p_r_data.to_crs('EPSG:4326', inplace=True)\n"
   ]
  },
  {
   "cell_type": "code",
   "execution_count": 42,
   "id": "db68fda1",
   "metadata": {},
   "outputs": [
    {
     "data": {
      "application/vnd.plotly.v1+json": {
       "config": {
        "plotlyServerURL": "https://plot.ly"
       },
       "data": [
        {
         "customdata": [
          [
           "Tacoma Dome Station",
           3752,
           181,
           2283,
           -851
          ],
          [
           "Mukilteo Station",
           3756,
           2,
           63,
           -24
          ],
          [
           "Crossroads Neighborhood Church",
           3763,
           6,
           107,
           -9
          ],
          [
           "Redondo Heights P&R",
           3765,
           3,
           697,
           -91
          ],
          [
           "Duvall P&R",
           3767,
           1,
           49,
           -14
          ],
          [
           "Parkland Transit Center",
           3770,
           6,
           62,
           3
          ],
          [
           "South Tacoma West",
           3774,
           10,
           78,
           7
          ],
          [
           "Narrows P&R",
           3776,
           1,
           195,
           -37
          ],
          [
           "North Purdy/Purdy Crescent",
           3777,
           1,
           200,
           -28
          ],
          [
           "Auburn P&R",
           3782,
           4,
           358,
           -49
          ],
          [
           "Holy Spirit Lutheran Church",
           3784,
           7,
           40,
           -2
          ],
          [
           "Burien Transit Center",
           3787,
           24,
           488,
           -13
          ],
          [
           "Maple Valley P&R",
           3789,
           1,
           122,
           -13
          ],
          [
           "South Renton P&R",
           3790,
           31,
           385,
           -151
          ],
          [
           "Issaquah Transit Center",
           3792,
           17,
           200,
           -165
          ],
          [
           "Mercer Island P&R",
           3793,
           184,
           447,
           -86
          ],
          [
           "Newport Hills P&R",
           3795,
           4,
           275,
           -43
          ],
          [
           "Newport Covenant Church",
           3797,
           2,
           75,
           -17
          ],
          [
           "South Bellevue P&R",
           3798,
           28,
           1500,
           -86
          ],
          [
           "Eastgate P&R",
           3800,
           47,
           1614,
           -676
          ],
          [
           "North Bend P&R",
           3801,
           6,
           80,
           -2
          ],
          [
           "South Kirkland P&R",
           3804,
           6,
           785,
           -306
          ],
          [
           "Overlake P&R",
           3805,
           57,
           203,
           -20
          ],
          [
           "Houghton P&R",
           3806,
           6,
           470,
           -10
          ],
          [
           "Redmond P&R",
           3808,
           33,
           150,
           -297
          ],
          [
           "Valley Center",
           3810,
           3,
           55,
           -1
          ],
          [
           "Bear Creek P&R",
           3811,
           20,
           334,
           -92
          ],
          [
           "Kingsgate P&R",
           3812,
           48,
           502,
           -96
          ],
          [
           "Kenmore P&R",
           3815,
           54,
           603,
           -92
          ],
          [
           "Bothell P&R",
           3817,
           61,
           220,
           -10
          ],
          [
           "Woodinville P&R",
           3818,
           9,
           459,
           -30
          ],
          [
           "Ober Park",
           3826,
           1,
           48,
           -6
          ],
          [
           "Edmonds Station",
           3830,
           1,
           259,
           -50
          ],
          [
           "Edmonds P&R",
           3831,
           14,
           255,
           -10
          ],
          [
           "Mariner P&R",
           3834,
           17,
           667,
           -70
          ],
          [
           "Arlington P&R",
           3839,
           4,
           25,
           -1
          ],
          [
           "Port Orchard Armory",
           3843,
           165,
           105,
           72
          ],
          [
           "McWilliams P&R",
           3845,
           1,
           151,
           -31
          ],
          [
           "Bethany Lutheran Church",
           3846,
           31,
           80,
           18
          ],
          [
           "Gateway Fellowship",
           3847,
           6,
           138,
           -32
          ],
          [
           "Suquamish United Church of Christ",
           3850,
           3,
           65,
           0
          ],
          [
           "Eastmont P&R",
           3863,
           1,
           389,
           -15
          ],
          [
           "Canyon Park P&R",
           3865,
           17,
           298,
           -94
          ],
          [
           "Harper Evangelical Free Church",
           3870,
           7,
           462,
           -45
          ],
          [
           "South Hill P&R",
           3877,
           11,
           354,
           -33
          ],
          [
           "Preston P&R",
           3883,
           38,
           53,
           23
          ],
          [
           "Bayside Community Church",
           3884,
           1,
           210,
           -23
          ],
          [
           "Renton City Municipal Garage",
           3894,
           22,
           150,
           18
          ],
          [
           "Tibbetts Lot",
           3895,
           9,
           170,
           0
          ],
          [
           "Maple Valley Town Square",
           3898,
           2,
           90,
           -57
          ],
          [
           "All Saints Lutheran Church",
           3899,
           6,
           75,
           -14
          ],
          [
           "City View Church",
           3900,
           77,
           96,
           77
          ],
          [
           "Redmond Ridge P&R",
           3903,
           3,
           52,
           -3
          ],
          [
           "Nativity Lutheran Church",
           3905,
           4,
           49,
           3
          ],
          [
           "Everett Station",
           3908,
           65,
           160,
           -223
          ],
          [
           "Tukwila Station (CR)",
           3751,
           96,
           390,
           -37
          ],
          [
           "South Tacoma (CR)",
           3753,
           2,
           220,
           -39
          ],
          [
           "Everett Station (CR)",
           3754,
           69,
           1067,
           -219
          ],
          [
           "Sumner Station (CR)",
           3755,
           242,
           302,
           -53
          ],
          [
           "Kent Station (CR)",
           3757,
           443,
           996,
           39
          ],
          [
           "Auburn Station (CR)",
           3758,
           533,
           636,
           238
          ],
          [
           "Lakewood (CR)",
           3759,
           4,
           600,
           -162
          ],
          [
           "Gateway P&R",
           3760,
           44,
           104,
           12
          ],
          [
           "Puyallup Station (SB)",
           3761,
           85,
           522,
           -447
          ],
          [
           "Puyallup Station (NB)",
           3852,
           12,
           522,
           -520
          ],
          [
           "Twin Lakes P&R",
           3762,
           7,
           600,
           2
          ],
          [
           "Overlake Transit Center",
           3764,
           114,
           323,
           101
          ],
          [
           "North Gig Harbor/Kimball Drive",
           3766,
           11,
           306,
           -26
          ],
          [
           "Roy 'Y' P&R",
           3768,
           1,
           100,
           -7
          ],
          [
           "SR-512/I-5 (Lakewood)",
           3771,
           16,
           493,
           -228
          ],
          [
           "Center Street P&R",
           3772,
           7,
           75,
           2
          ],
          [
           "South Tacoma East - 2",
           3775,
           2,
           44,
           -5
          ],
          [
           "South Federal P&R",
           3779,
           14,
           515,
           -9
          ],
          [
           "Federal Way P&R (320th)",
           3781,
           65,
           877,
           43
          ],
          [
           "Kent/Des Moines P&R",
           3785,
           9,
           404,
           -47
          ],
          [
           "Kent/James St. P&R",
           3786,
           100,
           713,
           46
          ],
          [
           "Tukwila",
           3788,
           21,
           267,
           -185
          ],
          [
           "Renton Highlands P&R (St. Matts)",
           3791,
           2,
           128,
           -18
          ],
          [
           "Mercer Island Presbyterian",
           3794,
           21,
           30,
           11
          ],
          [
           "Wilburton",
           3799,
           11,
           186,
           -50
          ],
          [
           "Evergreen Point P&R",
           3802,
           89,
           51,
           39
          ],
          [
           "Bethel Lutheran",
           3807,
           1,
           40,
           0
          ],
          [
           "Brickyard P&R",
           3813,
           2,
           242,
           -102
          ],
          [
           "Bethany Bible Church",
           3816,
           67,
           75,
           55
          ],
          [
           "Olson & Meyers",
           3819,
           20,
           100,
           -13
          ],
          [
           "Spokane Street P&R",
           3820,
           125,
           55,
           115
          ],
          [
           "Greenlake P&R",
           3821,
           100,
           411,
           -135
          ],
          [
           "Northgate TC",
           3822,
           2527,
           1444,
           2103
          ],
          [
           "Shoreline",
           3824,
           34,
           393,
           -163
          ],
          [
           "112th St. & I-5",
           3825,
           8,
           399,
           -278
          ],
          [
           "Mountlake Terrace P&R",
           3828,
           24,
           874,
           -257
          ],
          [
           "Bethesda Lutheran",
           3829,
           9,
           20,
           5
          ],
          [
           "Lynnwood P&R",
           3832,
           12,
           1896,
           -69
          ],
          [
           "Swamp Creek P&R",
           3833,
           16,
           410,
           -38
          ],
          [
           "Snohomish",
           3835,
           3,
           104,
           -8
          ],
          [
           "Marysville - Ash Ave",
           3836,
           3,
           202,
           -40
          ],
          [
           "Monroe",
           3841,
           4,
           102,
           -6
          ],
          [
           "Federal Way",
           3842,
           41,
           1190,
           -580
          ],
          [
           "72nd Street Transit Center",
           3853,
           7,
           68,
           6
          ],
          [
           "Aurora Village TC",
           3856,
           77,
           202,
           7
          ],
          [
           "Aurora Nazarene",
           3857,
           18,
           116,
           -19
          ],
          [
           "Lake Meridian P&R",
           3861,
           11,
           172,
           7
          ],
          [
           "Smokey Pt. Church",
           3862,
           4,
           50,
           -9
          ],
          [
           "McCollum Park P&R",
           3864,
           20,
           409,
           -43
          ],
          [
           "Korean Presby. P&R",
           3866,
           15,
           25,
           10
          ],
          [
           "Poulsbo Church of the Nazarene",
           3868,
           2,
           266,
           -41
          ],
          [
           "Mullenix Road",
           3871,
           4,
           92,
           -66
          ],
          [
           "TCC P&R",
           3873,
           10,
           95,
           -53
          ],
          [
           "Ash Way P&R",
           3874,
           56,
           1019,
           -606
          ],
          [
           "Bonney Lake P&R",
           3875,
           6,
           356,
           -73
          ],
          [
           "Tukwila Int. Station",
           3876,
           342,
           600,
           -228
          ],
          [
           "South Tacoma East - 1",
           3878,
           1,
           33,
           -7
          ],
          [
           "Issaquah Highlands",
           3879,
           32,
           1000,
           -134
          ],
          [
           "Lake Stevens TC",
           3880,
           6,
           207,
           -60
          ],
          [
           "Puyallup Fair's Red Lot",
           3888,
           344,
           219,
           329
          ],
          [
           "Marysville - Cedar & Grove",
           3889,
           3,
           213,
           -66
          ],
          [
           "Marysville I P&R",
           3891,
           4,
           74,
           -5
          ],
          [
           "Martha Lake Covenant Church",
           3892,
           3,
           75,
           -12
          ],
          [
           "South Sammammish P&R",
           3893,
           4,
           265,
           -13
          ],
          [
           "Renton Transit Center",
           3896,
           15,
           150,
           11
          ],
          [
           "Sammamish Lutheran P&R",
           3902,
           1,
           54,
           -7
          ],
          [
           "Kennydale United Methodist Church",
           3904,
           5,
           50,
           -6
          ],
          [
           "South SeaTac (LR)",
           3907,
           1008,
           1160,
           14
          ]
         ],
         "hovertemplate": "lat=%{lat}<br>lon=%{lon}<br>name=%{customdata[0]}<br>ZoneID=%{customdata[1]}<br>boardings=%{customdata[2]}<br>Capacity=%{customdata[3]}<br>boardings - occupancy=%{customdata[4]}<br>percent diff=%{marker.color}<extra></extra>",
         "lat": [
          47.240587026940496,
          47.949202090593815,
          47.631646481329874,
          47.35504335733807,
          47.74282207119212,
          47.14791172694066,
          47.20552052830966,
          47.25600193981221,
          47.38923379023241,
          47.32142070370895,
          47.7104244936842,
          47.469518524026284,
          47.39722692921272,
          47.47271938615727,
          47.5421344859425,
          47.58878969142359,
          47.55704702946253,
          47.564129961427035,
          47.58629181288903,
          47.580583829158485,
          47.49597432021159,
          47.64418998070187,
          47.63297717439434,
          47.66816331814846,
          47.6765003576322,
          47.42287235072545,
          47.674169895277565,
          47.71630675038611,
          47.75869948424539,
          47.759457740337254,
          47.75702879699488,
          47.45193656025647,
          47.81083814590226,
          47.805505328682436,
          47.879273837323716,
          48.196226663014926,
          47.53346196599079,
          47.620810382951404,
          47.635076024273125,
          47.733914565835,
          47.733267845932694,
          47.91577651606941,
          47.79421797219861,
          47.50395364516145,
          47.161515219367466,
          47.52729295506841,
          47.799607552327174,
          47.48065386274714,
          47.54050303955318,
          47.36261650204512,
          47.35719493962773,
          47.48028761734057,
          47.68558355990292,
          47.4435715904644,
          47.60111801912681,
          47.459791189113055,
          47.203188285743,
          47.97553008822413,
          47.201048326678425,
          47.383970408531425,
          47.30597098022815,
          47.153298431654285,
          47.56718379854233,
          47.193060762628754,
          47.19226982725735,
          47.29373336434266,
          47.64429306998266,
          47.3163618931415,
          47.08271784155433,
          47.161484802874284,
          47.23400250827875,
          47.20622110948438,
          47.289041380796476,
          47.31163591874175,
          47.39168729512872,
          47.38491251743171,
          47.48197741301064,
          47.50715467593467,
          47.57701316304821,
          47.60395259926627,
          47.63677734251024,
          47.75569187858501,
          47.74096553654258,
          47.75911072833425,
          47.520273185221846,
          47.571714184646375,
          47.67673605768736,
          47.70239443761157,
          47.76687666732243,
          47.897149496501655,
          47.786023838048486,
          47.786405217140484,
          47.81595811606588,
          47.851158747803034,
          47.931600004686565,
          48.052799958531104,
          47.86853209498515,
          47.31771355238481,
          47.192971542906285,
          47.77471134386238,
          47.75619875057065,
          47.36115476012324,
          48.15732422532287,
          47.880528888492265,
          47.78299309998247,
          47.759682723438075,
          47.4683127358232,
          47.24317915202268,
          47.852265826626585,
          47.17424906089401,
          47.46462822513558,
          47.20690802107854,
          47.54548131124219,
          47.99833018258796,
          47.185461659521216,
          48.06186352787003,
          48.05093832410037,
          47.85078851793791,
          47.582163360805794,
          47.48170670581923,
          47.601973031740954,
          47.51822107506604,
          47.42300305792277
         ],
         "legendgroup": "",
         "lon": [
          -122.42559764232288,
          -122.29903798331632,
          -122.6376553285978,
          -122.30994876622252,
          -121.98519670565817,
          -122.43537507130094,
          -122.46332756461389,
          -122.53268859436118,
          -122.62545806801099,
          -122.22738331793343,
          -122.20748786443893,
          -122.33865108623566,
          -122.04489635419205,
          -122.2140249890397,
          -122.06181211149554,
          -122.23166518784704,
          -122.1886194896657,
          -122.17018509756201,
          -122.1904053737166,
          -122.15247915819556,
          -121.78890814933835,
          -122.19692070930883,
          -122.1356025761157,
          -122.18466300042218,
          -122.12357646358394,
          -122.4617588893532,
          -122.10086680270592,
          -122.18764374421475,
          -122.24193472527783,
          -122.20174474164908,
          -122.15150344952004,
          -122.45962271847641,
          -122.38443648143998,
          -122.33045854744478,
          -122.23819674557204,
          -122.129183066928,
          -122.61872855042411,
          -122.62808145181158,
          -122.53684064463692,
          -122.63927304886704,
          -122.55779654978755,
          -122.2039867300772,
          -122.21165372444678,
          -122.51509635593781,
          -122.30486983988138,
          -121.93697928446608,
          -122.508528546698,
          -122.20850143259241,
          -122.06172743208168,
          -122.0201427495308,
          -122.29322515985572,
          -122.22017447638363,
          -122.03407154200131,
          -122.15522089858798,
          -122.63061955933047,
          -122.24142204292801,
          -122.48610523364498,
          -122.19768602099377,
          -122.24474142310243,
          -122.23410004243462,
          -122.23148352515318,
          -122.49859252745824,
          -122.65169744997347,
          -122.29627387444259,
          -122.29638289622436,
          -122.3599437944882,
          -122.13352825516421,
          -122.58550724037367,
          -122.43467115344275,
          -122.4832269556689,
          -122.49605950380925,
          -122.4595315453806,
          -122.32271243809302,
          -122.30155617219685,
          -122.28801450038526,
          -122.24251278515935,
          -122.26898729590523,
          -122.18367513597434,
          -122.22739995414824,
          -122.1855070751748,
          -122.23793067783187,
          -122.31907049448232,
          -122.18801850253551,
          -122.25940207427163,
          -122.33619477501689,
          -122.36486292041623,
          -122.3207479132486,
          -122.3263535981885,
          -122.34679899076795,
          -122.21539257019184,
          -122.31456649794684,
          -122.30895559283637,
          -122.29397697243073,
          -122.2762912947167,
          -122.10076917207742,
          -122.18350218748834,
          -121.9960708438206,
          -122.30476126399772,
          -122.41141133327692,
          -122.34274243377105,
          -122.33571558742703,
          -122.16596694150272,
          -122.18235612206618,
          -122.22076355008004,
          -122.34737059623502,
          -122.65215146199641,
          -122.6219458140525,
          -122.52527889141626,
          -122.25855174480624,
          -122.18490269497767,
          -122.28690849789872,
          -122.45925556454627,
          -122.01943008905627,
          -122.1037985047417,
          -122.29928303340452,
          -122.17950440147415,
          -122.18326561243495,
          -122.2711389215377,
          -122.03642859327114,
          -122.20744093150329,
          -122.03476548005801,
          -122.20129952764448,
          -122.29884833358034
         ],
         "marker": {
          "color": [
           -0.8246124031007752,
           -0.9230769230769231,
           -0.6,
           -0.9680851063829787,
           -0.9333333333333333,
           1,
           2.3333333333333335,
           -0.9736842105263158,
           -0.9655172413793104,
           -0.9245283018867925,
           -0.2222222222222222,
           -0.35135135135135137,
           -0.9285714285714286,
           -0.8296703296703297,
           -0.9065934065934066,
           -0.31851851851851853,
           -0.9148936170212766,
           -0.8947368421052632,
           -0.7543859649122807,
           -0.9349930843706777,
           -0.25,
           -0.9807692307692307,
           -0.2597402597402597,
           -0.625,
           -0.9,
           -0.25,
           -0.8214285714285714,
           -0.6666666666666666,
           -0.6301369863013698,
           -0.14084507042253522,
           -0.7692307692307693,
           -0.8571428571428571,
           -0.9803921568627451,
           -0.4166666666666667,
           -0.8045977011494253,
           -0.2,
           0.7741935483870968,
           -0.96875,
           1.3846153846153846,
           -0.8421052631578947,
           0,
           -0.9375,
           -0.8468468468468469,
           -0.8653846153846154,
           -0.75,
           1.5333333333333334,
           -0.9583333333333334,
           4.5,
           0,
           -0.9661016949152542,
           -0.7,
           null,
           -0.5,
           3,
           -0.7743055555555556,
           -0.2781954887218045,
           -0.9512195121951219,
           -0.7604166666666666,
           -0.17966101694915254,
           0.09653465346534654,
           0.8067796610169492,
           -0.9759036144578314,
           0.375,
           -0.8402255639097744,
           -0.9774436090225563,
           0.4,
           7.769230769230769,
           -0.7027027027027027,
           -0.875,
           -0.9344262295081968,
           0.4,
           -0.7142857142857143,
           -0.391304347826087,
           1.9545454545454546,
           -0.8392857142857143,
           0.8518518518518519,
           -0.8980582524271845,
           -0.9,
           1.1,
           -0.819672131147541,
           0.78,
           0,
           -0.9807692307692307,
           4.583333333333333,
           -0.3939393939393939,
           11.5,
           -0.574468085106383,
           4.959905660377358,
           -0.8274111675126904,
           -0.972027972027972,
           -0.9145907473309609,
           1.25,
           -0.8518518518518519,
           -0.7037037037037037,
           -0.7272727272727273,
           -0.9302325581395349,
           -0.6,
           -0.9339774557165862,
           6,
           0.1,
           -0.5135135135135135,
           1.75,
           -0.6923076923076923,
           -0.6825396825396826,
           2,
           -0.9534883720930233,
           -0.9428571428571428,
           -0.8412698412698413,
           -0.9154078549848943,
           -0.9240506329113924,
           -0.4,
           -0.875,
           -0.8072289156626506,
           -0.9090909090909091,
           21.933333333333334,
           -0.9565217391304348,
           -0.5555555555555556,
           -0.8,
           -0.7647058823529411,
           2.75,
           -0.875,
           -0.5454545454545454,
           0.014084507042253521
          ],
          "coloraxis": "coloraxis"
         },
         "mode": "markers",
         "name": "",
         "showlegend": false,
         "subplot": "mapbox",
         "type": "scattermapbox"
        }
       ],
       "layout": {
        "coloraxis": {
         "colorbar": {
          "title": {
           "text": "percent diff"
          }
         },
         "colorscale": [
          [
           0,
           "#440154"
          ],
          [
           0.1111111111111111,
           "#482878"
          ],
          [
           0.2222222222222222,
           "#3e4989"
          ],
          [
           0.3333333333333333,
           "#31688e"
          ],
          [
           0.4444444444444444,
           "#26828e"
          ],
          [
           0.5555555555555556,
           "#1f9e89"
          ],
          [
           0.6666666666666666,
           "#35b779"
          ],
          [
           0.7777777777777778,
           "#6ece58"
          ],
          [
           0.8888888888888888,
           "#b5de2b"
          ],
          [
           1,
           "#fde725"
          ]
         ]
        },
        "legend": {
         "tracegroupgap": 0
        },
        "mapbox": {
         "center": {
          "lat": 47.568318879244885,
          "lon": -122.28634101130261
         },
         "domain": {
          "x": [
           0,
           1
          ],
          "y": [
           0,
           1
          ]
         },
         "style": "carto-positron",
         "zoom": 8
        },
        "margin": {
         "b": 0,
         "l": 0,
         "r": 0,
         "t": 0
        },
        "template": {
         "data": {
          "bar": [
           {
            "error_x": {
             "color": "rgb(36,36,36)"
            },
            "error_y": {
             "color": "rgb(36,36,36)"
            },
            "marker": {
             "line": {
              "color": "white",
              "width": 0.5
             },
             "pattern": {
              "fillmode": "overlay",
              "size": 10,
              "solidity": 0.2
             }
            },
            "type": "bar"
           }
          ],
          "barpolar": [
           {
            "marker": {
             "line": {
              "color": "white",
              "width": 0.5
             },
             "pattern": {
              "fillmode": "overlay",
              "size": 10,
              "solidity": 0.2
             }
            },
            "type": "barpolar"
           }
          ],
          "carpet": [
           {
            "aaxis": {
             "endlinecolor": "rgb(36,36,36)",
             "gridcolor": "white",
             "linecolor": "white",
             "minorgridcolor": "white",
             "startlinecolor": "rgb(36,36,36)"
            },
            "baxis": {
             "endlinecolor": "rgb(36,36,36)",
             "gridcolor": "white",
             "linecolor": "white",
             "minorgridcolor": "white",
             "startlinecolor": "rgb(36,36,36)"
            },
            "type": "carpet"
           }
          ],
          "choropleth": [
           {
            "colorbar": {
             "outlinewidth": 1,
             "tickcolor": "rgb(36,36,36)",
             "ticks": "outside"
            },
            "type": "choropleth"
           }
          ],
          "contour": [
           {
            "colorbar": {
             "outlinewidth": 1,
             "tickcolor": "rgb(36,36,36)",
             "ticks": "outside"
            },
            "colorscale": [
             [
              0,
              "#440154"
             ],
             [
              0.1111111111111111,
              "#482878"
             ],
             [
              0.2222222222222222,
              "#3e4989"
             ],
             [
              0.3333333333333333,
              "#31688e"
             ],
             [
              0.4444444444444444,
              "#26828e"
             ],
             [
              0.5555555555555556,
              "#1f9e89"
             ],
             [
              0.6666666666666666,
              "#35b779"
             ],
             [
              0.7777777777777778,
              "#6ece58"
             ],
             [
              0.8888888888888888,
              "#b5de2b"
             ],
             [
              1,
              "#fde725"
             ]
            ],
            "type": "contour"
           }
          ],
          "contourcarpet": [
           {
            "colorbar": {
             "outlinewidth": 1,
             "tickcolor": "rgb(36,36,36)",
             "ticks": "outside"
            },
            "type": "contourcarpet"
           }
          ],
          "heatmap": [
           {
            "colorbar": {
             "outlinewidth": 1,
             "tickcolor": "rgb(36,36,36)",
             "ticks": "outside"
            },
            "colorscale": [
             [
              0,
              "#440154"
             ],
             [
              0.1111111111111111,
              "#482878"
             ],
             [
              0.2222222222222222,
              "#3e4989"
             ],
             [
              0.3333333333333333,
              "#31688e"
             ],
             [
              0.4444444444444444,
              "#26828e"
             ],
             [
              0.5555555555555556,
              "#1f9e89"
             ],
             [
              0.6666666666666666,
              "#35b779"
             ],
             [
              0.7777777777777778,
              "#6ece58"
             ],
             [
              0.8888888888888888,
              "#b5de2b"
             ],
             [
              1,
              "#fde725"
             ]
            ],
            "type": "heatmap"
           }
          ],
          "heatmapgl": [
           {
            "colorbar": {
             "outlinewidth": 1,
             "tickcolor": "rgb(36,36,36)",
             "ticks": "outside"
            },
            "colorscale": [
             [
              0,
              "#440154"
             ],
             [
              0.1111111111111111,
              "#482878"
             ],
             [
              0.2222222222222222,
              "#3e4989"
             ],
             [
              0.3333333333333333,
              "#31688e"
             ],
             [
              0.4444444444444444,
              "#26828e"
             ],
             [
              0.5555555555555556,
              "#1f9e89"
             ],
             [
              0.6666666666666666,
              "#35b779"
             ],
             [
              0.7777777777777778,
              "#6ece58"
             ],
             [
              0.8888888888888888,
              "#b5de2b"
             ],
             [
              1,
              "#fde725"
             ]
            ],
            "type": "heatmapgl"
           }
          ],
          "histogram": [
           {
            "marker": {
             "line": {
              "color": "white",
              "width": 0.6
             }
            },
            "type": "histogram"
           }
          ],
          "histogram2d": [
           {
            "colorbar": {
             "outlinewidth": 1,
             "tickcolor": "rgb(36,36,36)",
             "ticks": "outside"
            },
            "colorscale": [
             [
              0,
              "#440154"
             ],
             [
              0.1111111111111111,
              "#482878"
             ],
             [
              0.2222222222222222,
              "#3e4989"
             ],
             [
              0.3333333333333333,
              "#31688e"
             ],
             [
              0.4444444444444444,
              "#26828e"
             ],
             [
              0.5555555555555556,
              "#1f9e89"
             ],
             [
              0.6666666666666666,
              "#35b779"
             ],
             [
              0.7777777777777778,
              "#6ece58"
             ],
             [
              0.8888888888888888,
              "#b5de2b"
             ],
             [
              1,
              "#fde725"
             ]
            ],
            "type": "histogram2d"
           }
          ],
          "histogram2dcontour": [
           {
            "colorbar": {
             "outlinewidth": 1,
             "tickcolor": "rgb(36,36,36)",
             "ticks": "outside"
            },
            "colorscale": [
             [
              0,
              "#440154"
             ],
             [
              0.1111111111111111,
              "#482878"
             ],
             [
              0.2222222222222222,
              "#3e4989"
             ],
             [
              0.3333333333333333,
              "#31688e"
             ],
             [
              0.4444444444444444,
              "#26828e"
             ],
             [
              0.5555555555555556,
              "#1f9e89"
             ],
             [
              0.6666666666666666,
              "#35b779"
             ],
             [
              0.7777777777777778,
              "#6ece58"
             ],
             [
              0.8888888888888888,
              "#b5de2b"
             ],
             [
              1,
              "#fde725"
             ]
            ],
            "type": "histogram2dcontour"
           }
          ],
          "mesh3d": [
           {
            "colorbar": {
             "outlinewidth": 1,
             "tickcolor": "rgb(36,36,36)",
             "ticks": "outside"
            },
            "type": "mesh3d"
           }
          ],
          "parcoords": [
           {
            "line": {
             "colorbar": {
              "outlinewidth": 1,
              "tickcolor": "rgb(36,36,36)",
              "ticks": "outside"
             }
            },
            "type": "parcoords"
           }
          ],
          "pie": [
           {
            "automargin": true,
            "type": "pie"
           }
          ],
          "scatter": [
           {
            "fillpattern": {
             "fillmode": "overlay",
             "size": 10,
             "solidity": 0.2
            },
            "type": "scatter"
           }
          ],
          "scatter3d": [
           {
            "line": {
             "colorbar": {
              "outlinewidth": 1,
              "tickcolor": "rgb(36,36,36)",
              "ticks": "outside"
             }
            },
            "marker": {
             "colorbar": {
              "outlinewidth": 1,
              "tickcolor": "rgb(36,36,36)",
              "ticks": "outside"
             }
            },
            "type": "scatter3d"
           }
          ],
          "scattercarpet": [
           {
            "marker": {
             "colorbar": {
              "outlinewidth": 1,
              "tickcolor": "rgb(36,36,36)",
              "ticks": "outside"
             }
            },
            "type": "scattercarpet"
           }
          ],
          "scattergeo": [
           {
            "marker": {
             "colorbar": {
              "outlinewidth": 1,
              "tickcolor": "rgb(36,36,36)",
              "ticks": "outside"
             }
            },
            "type": "scattergeo"
           }
          ],
          "scattergl": [
           {
            "marker": {
             "colorbar": {
              "outlinewidth": 1,
              "tickcolor": "rgb(36,36,36)",
              "ticks": "outside"
             }
            },
            "type": "scattergl"
           }
          ],
          "scattermapbox": [
           {
            "marker": {
             "colorbar": {
              "outlinewidth": 1,
              "tickcolor": "rgb(36,36,36)",
              "ticks": "outside"
             }
            },
            "type": "scattermapbox"
           }
          ],
          "scatterpolar": [
           {
            "marker": {
             "colorbar": {
              "outlinewidth": 1,
              "tickcolor": "rgb(36,36,36)",
              "ticks": "outside"
             }
            },
            "type": "scatterpolar"
           }
          ],
          "scatterpolargl": [
           {
            "marker": {
             "colorbar": {
              "outlinewidth": 1,
              "tickcolor": "rgb(36,36,36)",
              "ticks": "outside"
             }
            },
            "type": "scatterpolargl"
           }
          ],
          "scatterternary": [
           {
            "marker": {
             "colorbar": {
              "outlinewidth": 1,
              "tickcolor": "rgb(36,36,36)",
              "ticks": "outside"
             }
            },
            "type": "scatterternary"
           }
          ],
          "surface": [
           {
            "colorbar": {
             "outlinewidth": 1,
             "tickcolor": "rgb(36,36,36)",
             "ticks": "outside"
            },
            "colorscale": [
             [
              0,
              "#440154"
             ],
             [
              0.1111111111111111,
              "#482878"
             ],
             [
              0.2222222222222222,
              "#3e4989"
             ],
             [
              0.3333333333333333,
              "#31688e"
             ],
             [
              0.4444444444444444,
              "#26828e"
             ],
             [
              0.5555555555555556,
              "#1f9e89"
             ],
             [
              0.6666666666666666,
              "#35b779"
             ],
             [
              0.7777777777777778,
              "#6ece58"
             ],
             [
              0.8888888888888888,
              "#b5de2b"
             ],
             [
              1,
              "#fde725"
             ]
            ],
            "type": "surface"
           }
          ],
          "table": [
           {
            "cells": {
             "fill": {
              "color": "rgb(237,237,237)"
             },
             "line": {
              "color": "white"
             }
            },
            "header": {
             "fill": {
              "color": "rgb(217,217,217)"
             },
             "line": {
              "color": "white"
             }
            },
            "type": "table"
           }
          ]
         },
         "layout": {
          "annotationdefaults": {
           "arrowhead": 0,
           "arrowwidth": 1
          },
          "autotypenumbers": "strict",
          "coloraxis": {
           "colorbar": {
            "outlinewidth": 1,
            "tickcolor": "rgb(36,36,36)",
            "ticks": "outside"
           }
          },
          "colorscale": {
           "diverging": [
            [
             0,
             "rgb(103,0,31)"
            ],
            [
             0.1,
             "rgb(178,24,43)"
            ],
            [
             0.2,
             "rgb(214,96,77)"
            ],
            [
             0.3,
             "rgb(244,165,130)"
            ],
            [
             0.4,
             "rgb(253,219,199)"
            ],
            [
             0.5,
             "rgb(247,247,247)"
            ],
            [
             0.6,
             "rgb(209,229,240)"
            ],
            [
             0.7,
             "rgb(146,197,222)"
            ],
            [
             0.8,
             "rgb(67,147,195)"
            ],
            [
             0.9,
             "rgb(33,102,172)"
            ],
            [
             1,
             "rgb(5,48,97)"
            ]
           ],
           "sequential": [
            [
             0,
             "#440154"
            ],
            [
             0.1111111111111111,
             "#482878"
            ],
            [
             0.2222222222222222,
             "#3e4989"
            ],
            [
             0.3333333333333333,
             "#31688e"
            ],
            [
             0.4444444444444444,
             "#26828e"
            ],
            [
             0.5555555555555556,
             "#1f9e89"
            ],
            [
             0.6666666666666666,
             "#35b779"
            ],
            [
             0.7777777777777778,
             "#6ece58"
            ],
            [
             0.8888888888888888,
             "#b5de2b"
            ],
            [
             1,
             "#fde725"
            ]
           ],
           "sequentialminus": [
            [
             0,
             "#440154"
            ],
            [
             0.1111111111111111,
             "#482878"
            ],
            [
             0.2222222222222222,
             "#3e4989"
            ],
            [
             0.3333333333333333,
             "#31688e"
            ],
            [
             0.4444444444444444,
             "#26828e"
            ],
            [
             0.5555555555555556,
             "#1f9e89"
            ],
            [
             0.6666666666666666,
             "#35b779"
            ],
            [
             0.7777777777777778,
             "#6ece58"
            ],
            [
             0.8888888888888888,
             "#b5de2b"
            ],
            [
             1,
             "#fde725"
            ]
           ]
          },
          "colorway": [
           "#91268F",
           "#8CC63E",
           "#00A7A0",
           "#F05A28",
           "#4C4C4C",
           "#630460",
           "#9f3913",
           "#588527",
           "#00716c",
           "#3e4040"
          ],
          "font": {
           "color": "rgb(36,36,36)",
           "family": "Poppins",
           "size": 11
          },
          "geo": {
           "bgcolor": "white",
           "lakecolor": "white",
           "landcolor": "white",
           "showlakes": true,
           "showland": true,
           "subunitcolor": "white"
          },
          "hoverlabel": {
           "align": "left"
          },
          "hovermode": "closest",
          "mapbox": {
           "style": "light"
          },
          "paper_bgcolor": "white",
          "plot_bgcolor": "white",
          "polar": {
           "angularaxis": {
            "gridcolor": "rgb(232,232,232)",
            "linecolor": "rgb(36,36,36)",
            "showgrid": false,
            "showline": true,
            "ticks": "outside"
           },
           "bgcolor": "white",
           "radialaxis": {
            "gridcolor": "rgb(232,232,232)",
            "linecolor": "rgb(36,36,36)",
            "showgrid": false,
            "showline": true,
            "ticks": "outside"
           }
          },
          "scene": {
           "xaxis": {
            "backgroundcolor": "white",
            "gridcolor": "rgb(232,232,232)",
            "gridwidth": 2,
            "linecolor": "rgb(36,36,36)",
            "showbackground": true,
            "showgrid": false,
            "showline": true,
            "ticks": "outside",
            "zeroline": false,
            "zerolinecolor": "rgb(36,36,36)"
           },
           "yaxis": {
            "backgroundcolor": "white",
            "gridcolor": "rgb(232,232,232)",
            "gridwidth": 2,
            "linecolor": "rgb(36,36,36)",
            "showbackground": true,
            "showgrid": false,
            "showline": true,
            "ticks": "outside",
            "zeroline": false,
            "zerolinecolor": "rgb(36,36,36)"
           },
           "zaxis": {
            "backgroundcolor": "white",
            "gridcolor": "rgb(232,232,232)",
            "gridwidth": 2,
            "linecolor": "rgb(36,36,36)",
            "showbackground": true,
            "showgrid": false,
            "showline": true,
            "ticks": "outside",
            "zeroline": false,
            "zerolinecolor": "rgb(36,36,36)"
           }
          },
          "shapedefaults": {
           "fillcolor": "black",
           "line": {
            "width": 0
           },
           "opacity": 0.3
          },
          "ternary": {
           "aaxis": {
            "gridcolor": "rgb(232,232,232)",
            "linecolor": "rgb(36,36,36)",
            "showgrid": false,
            "showline": true,
            "ticks": "outside"
           },
           "baxis": {
            "gridcolor": "rgb(232,232,232)",
            "linecolor": "rgb(36,36,36)",
            "showgrid": false,
            "showline": true,
            "ticks": "outside"
           },
           "bgcolor": "white",
           "caxis": {
            "gridcolor": "rgb(232,232,232)",
            "linecolor": "rgb(36,36,36)",
            "showgrid": false,
            "showline": true,
            "ticks": "outside"
           }
          },
          "title": {
           "x": 0.05
          },
          "xaxis": {
           "automargin": true,
           "gridcolor": "rgb(232,232,232)",
           "linecolor": "rgb(36,36,36)",
           "showgrid": false,
           "showline": true,
           "ticks": "outside",
           "title": {
            "standoff": 15
           },
           "zeroline": false,
           "zerolinecolor": "rgb(36,36,36)"
          },
          "yaxis": {
           "automargin": true,
           "gridcolor": "rgb(232,232,232)",
           "linecolor": "rgb(36,36,36)",
           "showgrid": false,
           "showline": true,
           "ticks": "outside",
           "title": {
            "standoff": 15
           },
           "zeroline": false,
           "zerolinecolor": "rgb(36,36,36)"
          }
         }
        },
        "title": {
         "text": "Park and Ride Usage vs Observed Data"
        }
       }
      },
      "text/html": [
       "<div>                            <div id=\"b3820b73-394a-4c98-b7c5-1a46daadcef2\" class=\"plotly-graph-div\" style=\"height:525px; width:100%;\"></div>            <script type=\"text/javascript\">                require([\"plotly\"], function(Plotly) {                    window.PLOTLYENV=window.PLOTLYENV || {};                                    if (document.getElementById(\"b3820b73-394a-4c98-b7c5-1a46daadcef2\")) {                    Plotly.newPlot(                        \"b3820b73-394a-4c98-b7c5-1a46daadcef2\",                        [{\"customdata\":[[\"Tacoma Dome Station\",3752,181,2283,-851],[\"Mukilteo Station\",3756,2,63,-24],[\"Crossroads Neighborhood Church\",3763,6,107,-9],[\"Redondo Heights P&R\",3765,3,697,-91],[\"Duvall P&R\",3767,1,49,-14],[\"Parkland Transit Center\",3770,6,62,3],[\"South Tacoma West\",3774,10,78,7],[\"Narrows P&R\",3776,1,195,-37],[\"North Purdy\\u002fPurdy Crescent\",3777,1,200,-28],[\"Auburn P&R\",3782,4,358,-49],[\"Holy Spirit Lutheran Church\",3784,7,40,-2],[\"Burien Transit Center\",3787,24,488,-13],[\"Maple Valley P&R\",3789,1,122,-13],[\"South Renton P&R\",3790,31,385,-151],[\"Issaquah Transit Center\",3792,17,200,-165],[\"Mercer Island P&R\",3793,184,447,-86],[\"Newport Hills P&R\",3795,4,275,-43],[\"Newport Covenant Church\",3797,2,75,-17],[\"South Bellevue P&R\",3798,28,1500,-86],[\"Eastgate P&R\",3800,47,1614,-676],[\"North Bend P&R\",3801,6,80,-2],[\"South Kirkland P&R\",3804,6,785,-306],[\"Overlake P&R\",3805,57,203,-20],[\"Houghton P&R\",3806,6,470,-10],[\"Redmond P&R\",3808,33,150,-297],[\"Valley Center\",3810,3,55,-1],[\"Bear Creek P&R\",3811,20,334,-92],[\"Kingsgate P&R\",3812,48,502,-96],[\"Kenmore P&R\",3815,54,603,-92],[\"Bothell P&R\",3817,61,220,-10],[\"Woodinville P&R\",3818,9,459,-30],[\"Ober Park\",3826,1,48,-6],[\"Edmonds Station\",3830,1,259,-50],[\"Edmonds P&R\",3831,14,255,-10],[\"Mariner P&R\",3834,17,667,-70],[\"Arlington P&R\",3839,4,25,-1],[\"Port Orchard Armory\",3843,165,105,72],[\"McWilliams P&R\",3845,1,151,-31],[\"Bethany Lutheran Church\",3846,31,80,18],[\"Gateway Fellowship\",3847,6,138,-32],[\"Suquamish United Church of Christ\",3850,3,65,0],[\"Eastmont P&R\",3863,1,389,-15],[\"Canyon Park P&R\",3865,17,298,-94],[\"Harper Evangelical Free Church\",3870,7,462,-45],[\"South Hill P&R\",3877,11,354,-33],[\"Preston P&R\",3883,38,53,23],[\"Bayside Community Church\",3884,1,210,-23],[\"Renton City Municipal Garage\",3894,22,150,18],[\"Tibbetts Lot\",3895,9,170,0],[\"Maple Valley Town Square\",3898,2,90,-57],[\"All Saints Lutheran Church\",3899,6,75,-14],[\"City View Church\",3900,77,96,77],[\"Redmond Ridge P&R\",3903,3,52,-3],[\"Nativity Lutheran Church\",3905,4,49,3],[\"Everett Station\",3908,65,160,-223],[\"Tukwila Station (CR)\",3751,96,390,-37],[\"South Tacoma (CR)\",3753,2,220,-39],[\"Everett Station (CR)\",3754,69,1067,-219],[\"Sumner Station (CR)\",3755,242,302,-53],[\"Kent Station (CR)\",3757,443,996,39],[\"Auburn Station (CR)\",3758,533,636,238],[\"Lakewood (CR)\",3759,4,600,-162],[\"Gateway P&R\",3760,44,104,12],[\"Puyallup Station (SB)\",3761,85,522,-447],[\"Puyallup Station (NB)\",3852,12,522,-520],[\"Twin Lakes P&R\",3762,7,600,2],[\"Overlake Transit Center\",3764,114,323,101],[\"North Gig Harbor\\u002fKimball Drive\",3766,11,306,-26],[\"Roy 'Y' P&R\",3768,1,100,-7],[\"SR-512\\u002fI-5 (Lakewood)\",3771,16,493,-228],[\"Center Street P&R\",3772,7,75,2],[\"South Tacoma East - 2\",3775,2,44,-5],[\"South Federal P&R\",3779,14,515,-9],[\"Federal Way P&R (320th)\",3781,65,877,43],[\"Kent\\u002fDes Moines P&R\",3785,9,404,-47],[\"Kent\\u002fJames St. P&R\",3786,100,713,46],[\"Tukwila\",3788,21,267,-185],[\"Renton Highlands P&R (St. Matts)\",3791,2,128,-18],[\"Mercer Island Presbyterian\",3794,21,30,11],[\"Wilburton\",3799,11,186,-50],[\"Evergreen Point P&R\",3802,89,51,39],[\"Bethel Lutheran\",3807,1,40,0],[\"Brickyard P&R\",3813,2,242,-102],[\"Bethany Bible Church\",3816,67,75,55],[\"Olson & Meyers\",3819,20,100,-13],[\"Spokane Street P&R\",3820,125,55,115],[\"Greenlake P&R\",3821,100,411,-135],[\"Northgate TC\",3822,2527,1444,2103],[\"Shoreline\",3824,34,393,-163],[\"112th St. & I-5\",3825,8,399,-278],[\"Mountlake Terrace P&R\",3828,24,874,-257],[\"Bethesda Lutheran\",3829,9,20,5],[\"Lynnwood P&R\",3832,12,1896,-69],[\"Swamp Creek P&R\",3833,16,410,-38],[\"Snohomish\",3835,3,104,-8],[\"Marysville - Ash Ave\",3836,3,202,-40],[\"Monroe\",3841,4,102,-6],[\"Federal Way\",3842,41,1190,-580],[\"72nd Street Transit Center\",3853,7,68,6],[\"Aurora Village TC\",3856,77,202,7],[\"Aurora Nazarene\",3857,18,116,-19],[\"Lake Meridian P&R\",3861,11,172,7],[\"Smokey Pt. Church\",3862,4,50,-9],[\"McCollum Park P&R\",3864,20,409,-43],[\"Korean Presby. P&R\",3866,15,25,10],[\"Poulsbo Church of the Nazarene\",3868,2,266,-41],[\"Mullenix Road\",3871,4,92,-66],[\"TCC P&R\",3873,10,95,-53],[\"Ash Way P&R\",3874,56,1019,-606],[\"Bonney Lake P&R\",3875,6,356,-73],[\"Tukwila Int. Station\",3876,342,600,-228],[\"South Tacoma East - 1\",3878,1,33,-7],[\"Issaquah Highlands\",3879,32,1000,-134],[\"Lake Stevens TC\",3880,6,207,-60],[\"Puyallup Fair's Red Lot\",3888,344,219,329],[\"Marysville - Cedar & Grove\",3889,3,213,-66],[\"Marysville I P&R\",3891,4,74,-5],[\"Martha Lake Covenant Church\",3892,3,75,-12],[\"South Sammammish P&R\",3893,4,265,-13],[\"Renton Transit Center\",3896,15,150,11],[\"Sammamish Lutheran P&R\",3902,1,54,-7],[\"Kennydale United Methodist Church\",3904,5,50,-6],[\"South SeaTac (LR)\",3907,1008,1160,14]],\"hovertemplate\":\"lat=%{lat}\\u003cbr\\u003elon=%{lon}\\u003cbr\\u003ename=%{customdata[0]}\\u003cbr\\u003eZoneID=%{customdata[1]}\\u003cbr\\u003eboardings=%{customdata[2]}\\u003cbr\\u003eCapacity=%{customdata[3]}\\u003cbr\\u003eboardings - occupancy=%{customdata[4]}\\u003cbr\\u003epercent diff=%{marker.color}\\u003cextra\\u003e\\u003c\\u002fextra\\u003e\",\"lat\":[47.240587026940496,47.949202090593815,47.631646481329874,47.35504335733807,47.74282207119212,47.14791172694066,47.20552052830966,47.25600193981221,47.38923379023241,47.32142070370895,47.7104244936842,47.469518524026284,47.39722692921272,47.47271938615727,47.5421344859425,47.58878969142359,47.55704702946253,47.564129961427035,47.58629181288903,47.580583829158485,47.49597432021159,47.64418998070187,47.63297717439434,47.66816331814846,47.6765003576322,47.42287235072545,47.674169895277565,47.71630675038611,47.75869948424539,47.759457740337254,47.75702879699488,47.45193656025647,47.81083814590226,47.805505328682436,47.879273837323716,48.196226663014926,47.53346196599079,47.620810382951404,47.635076024273125,47.733914565835,47.733267845932694,47.91577651606941,47.79421797219861,47.50395364516145,47.161515219367466,47.52729295506841,47.799607552327174,47.48065386274714,47.54050303955318,47.36261650204512,47.35719493962773,47.48028761734057,47.68558355990292,47.4435715904644,47.60111801912681,47.459791189113055,47.203188285743,47.97553008822413,47.201048326678425,47.383970408531425,47.30597098022815,47.153298431654285,47.56718379854233,47.193060762628754,47.19226982725735,47.29373336434266,47.64429306998266,47.3163618931415,47.08271784155433,47.161484802874284,47.23400250827875,47.20622110948438,47.289041380796476,47.31163591874175,47.39168729512872,47.38491251743171,47.48197741301064,47.50715467593467,47.57701316304821,47.60395259926627,47.63677734251024,47.75569187858501,47.74096553654258,47.75911072833425,47.520273185221846,47.571714184646375,47.67673605768736,47.70239443761157,47.76687666732243,47.897149496501655,47.786023838048486,47.786405217140484,47.81595811606588,47.851158747803034,47.931600004686565,48.052799958531104,47.86853209498515,47.31771355238481,47.192971542906285,47.77471134386238,47.75619875057065,47.36115476012324,48.15732422532287,47.880528888492265,47.78299309998247,47.759682723438075,47.4683127358232,47.24317915202268,47.852265826626585,47.17424906089401,47.46462822513558,47.20690802107854,47.54548131124219,47.99833018258796,47.185461659521216,48.06186352787003,48.05093832410037,47.85078851793791,47.582163360805794,47.48170670581923,47.601973031740954,47.51822107506604,47.42300305792277],\"legendgroup\":\"\",\"lon\":[-122.42559764232288,-122.29903798331632,-122.6376553285978,-122.30994876622252,-121.98519670565817,-122.43537507130094,-122.46332756461389,-122.53268859436118,-122.62545806801099,-122.22738331793343,-122.20748786443893,-122.33865108623566,-122.04489635419205,-122.2140249890397,-122.06181211149554,-122.23166518784704,-122.1886194896657,-122.17018509756201,-122.1904053737166,-122.15247915819556,-121.78890814933835,-122.19692070930883,-122.1356025761157,-122.18466300042218,-122.12357646358394,-122.4617588893532,-122.10086680270592,-122.18764374421475,-122.24193472527783,-122.20174474164908,-122.15150344952004,-122.45962271847641,-122.38443648143998,-122.33045854744478,-122.23819674557204,-122.129183066928,-122.61872855042411,-122.62808145181158,-122.53684064463692,-122.63927304886704,-122.55779654978755,-122.2039867300772,-122.21165372444678,-122.51509635593781,-122.30486983988138,-121.93697928446608,-122.508528546698,-122.20850143259241,-122.06172743208168,-122.0201427495308,-122.29322515985572,-122.22017447638363,-122.03407154200131,-122.15522089858798,-122.63061955933047,-122.24142204292801,-122.48610523364498,-122.19768602099377,-122.24474142310243,-122.23410004243462,-122.23148352515318,-122.49859252745824,-122.65169744997347,-122.29627387444259,-122.29638289622436,-122.3599437944882,-122.13352825516421,-122.58550724037367,-122.43467115344275,-122.4832269556689,-122.49605950380925,-122.4595315453806,-122.32271243809302,-122.30155617219685,-122.28801450038526,-122.24251278515935,-122.26898729590523,-122.18367513597434,-122.22739995414824,-122.1855070751748,-122.23793067783187,-122.31907049448232,-122.18801850253551,-122.25940207427163,-122.33619477501689,-122.36486292041623,-122.3207479132486,-122.3263535981885,-122.34679899076795,-122.21539257019184,-122.31456649794684,-122.30895559283637,-122.29397697243073,-122.2762912947167,-122.10076917207742,-122.18350218748834,-121.9960708438206,-122.30476126399772,-122.41141133327692,-122.34274243377105,-122.33571558742703,-122.16596694150272,-122.18235612206618,-122.22076355008004,-122.34737059623502,-122.65215146199641,-122.6219458140525,-122.52527889141626,-122.25855174480624,-122.18490269497767,-122.28690849789872,-122.45925556454627,-122.01943008905627,-122.1037985047417,-122.29928303340452,-122.17950440147415,-122.18326561243495,-122.2711389215377,-122.03642859327114,-122.20744093150329,-122.03476548005801,-122.20129952764448,-122.29884833358034],\"marker\":{\"color\":[-0.8246124031007752,-0.9230769230769231,-0.6,-0.9680851063829787,-0.9333333333333333,1.0,2.3333333333333335,-0.9736842105263158,-0.9655172413793104,-0.9245283018867925,-0.2222222222222222,-0.35135135135135137,-0.9285714285714286,-0.8296703296703297,-0.9065934065934066,-0.31851851851851853,-0.9148936170212766,-0.8947368421052632,-0.7543859649122807,-0.9349930843706777,-0.25,-0.9807692307692307,-0.2597402597402597,-0.625,-0.9,-0.25,-0.8214285714285714,-0.6666666666666666,-0.6301369863013698,-0.14084507042253522,-0.7692307692307693,-0.8571428571428571,-0.9803921568627451,-0.4166666666666667,-0.8045977011494253,-0.2,0.7741935483870968,-0.96875,1.3846153846153846,-0.8421052631578947,0.0,-0.9375,-0.8468468468468469,-0.8653846153846154,-0.75,1.5333333333333334,-0.9583333333333334,4.5,0.0,-0.9661016949152542,-0.7,null,-0.5,3.0,-0.7743055555555556,-0.2781954887218045,-0.9512195121951219,-0.7604166666666666,-0.17966101694915254,0.09653465346534654,0.8067796610169492,-0.9759036144578314,0.375,-0.8402255639097744,-0.9774436090225563,0.4,7.769230769230769,-0.7027027027027027,-0.875,-0.9344262295081968,0.4,-0.7142857142857143,-0.391304347826087,1.9545454545454546,-0.8392857142857143,0.8518518518518519,-0.8980582524271845,-0.9,1.1,-0.819672131147541,0.78,0.0,-0.9807692307692307,4.583333333333333,-0.3939393939393939,11.5,-0.574468085106383,4.959905660377358,-0.8274111675126904,-0.972027972027972,-0.9145907473309609,1.25,-0.8518518518518519,-0.7037037037037037,-0.7272727272727273,-0.9302325581395349,-0.6,-0.9339774557165862,6.0,0.1,-0.5135135135135135,1.75,-0.6923076923076923,-0.6825396825396826,2.0,-0.9534883720930233,-0.9428571428571428,-0.8412698412698413,-0.9154078549848943,-0.9240506329113924,-0.4,-0.875,-0.8072289156626506,-0.9090909090909091,21.933333333333334,-0.9565217391304348,-0.5555555555555556,-0.8,-0.7647058823529411,2.75,-0.875,-0.5454545454545454,0.014084507042253521],\"coloraxis\":\"coloraxis\"},\"mode\":\"markers\",\"name\":\"\",\"showlegend\":false,\"subplot\":\"mapbox\",\"type\":\"scattermapbox\"}],                        {\"template\":{\"data\":{\"barpolar\":[{\"marker\":{\"line\":{\"color\":\"white\",\"width\":0.5},\"pattern\":{\"fillmode\":\"overlay\",\"size\":10,\"solidity\":0.2}},\"type\":\"barpolar\"}],\"bar\":[{\"error_x\":{\"color\":\"rgb(36,36,36)\"},\"error_y\":{\"color\":\"rgb(36,36,36)\"},\"marker\":{\"line\":{\"color\":\"white\",\"width\":0.5},\"pattern\":{\"fillmode\":\"overlay\",\"size\":10,\"solidity\":0.2}},\"type\":\"bar\"}],\"carpet\":[{\"aaxis\":{\"endlinecolor\":\"rgb(36,36,36)\",\"gridcolor\":\"white\",\"linecolor\":\"white\",\"minorgridcolor\":\"white\",\"startlinecolor\":\"rgb(36,36,36)\"},\"baxis\":{\"endlinecolor\":\"rgb(36,36,36)\",\"gridcolor\":\"white\",\"linecolor\":\"white\",\"minorgridcolor\":\"white\",\"startlinecolor\":\"rgb(36,36,36)\"},\"type\":\"carpet\"}],\"choropleth\":[{\"colorbar\":{\"outlinewidth\":1,\"tickcolor\":\"rgb(36,36,36)\",\"ticks\":\"outside\"},\"type\":\"choropleth\"}],\"contourcarpet\":[{\"colorbar\":{\"outlinewidth\":1,\"tickcolor\":\"rgb(36,36,36)\",\"ticks\":\"outside\"},\"type\":\"contourcarpet\"}],\"contour\":[{\"colorbar\":{\"outlinewidth\":1,\"tickcolor\":\"rgb(36,36,36)\",\"ticks\":\"outside\"},\"colorscale\":[[0.0,\"#440154\"],[0.1111111111111111,\"#482878\"],[0.2222222222222222,\"#3e4989\"],[0.3333333333333333,\"#31688e\"],[0.4444444444444444,\"#26828e\"],[0.5555555555555556,\"#1f9e89\"],[0.6666666666666666,\"#35b779\"],[0.7777777777777778,\"#6ece58\"],[0.8888888888888888,\"#b5de2b\"],[1.0,\"#fde725\"]],\"type\":\"contour\"}],\"heatmapgl\":[{\"colorbar\":{\"outlinewidth\":1,\"tickcolor\":\"rgb(36,36,36)\",\"ticks\":\"outside\"},\"colorscale\":[[0.0,\"#440154\"],[0.1111111111111111,\"#482878\"],[0.2222222222222222,\"#3e4989\"],[0.3333333333333333,\"#31688e\"],[0.4444444444444444,\"#26828e\"],[0.5555555555555556,\"#1f9e89\"],[0.6666666666666666,\"#35b779\"],[0.7777777777777778,\"#6ece58\"],[0.8888888888888888,\"#b5de2b\"],[1.0,\"#fde725\"]],\"type\":\"heatmapgl\"}],\"heatmap\":[{\"colorbar\":{\"outlinewidth\":1,\"tickcolor\":\"rgb(36,36,36)\",\"ticks\":\"outside\"},\"colorscale\":[[0.0,\"#440154\"],[0.1111111111111111,\"#482878\"],[0.2222222222222222,\"#3e4989\"],[0.3333333333333333,\"#31688e\"],[0.4444444444444444,\"#26828e\"],[0.5555555555555556,\"#1f9e89\"],[0.6666666666666666,\"#35b779\"],[0.7777777777777778,\"#6ece58\"],[0.8888888888888888,\"#b5de2b\"],[1.0,\"#fde725\"]],\"type\":\"heatmap\"}],\"histogram2dcontour\":[{\"colorbar\":{\"outlinewidth\":1,\"tickcolor\":\"rgb(36,36,36)\",\"ticks\":\"outside\"},\"colorscale\":[[0.0,\"#440154\"],[0.1111111111111111,\"#482878\"],[0.2222222222222222,\"#3e4989\"],[0.3333333333333333,\"#31688e\"],[0.4444444444444444,\"#26828e\"],[0.5555555555555556,\"#1f9e89\"],[0.6666666666666666,\"#35b779\"],[0.7777777777777778,\"#6ece58\"],[0.8888888888888888,\"#b5de2b\"],[1.0,\"#fde725\"]],\"type\":\"histogram2dcontour\"}],\"histogram2d\":[{\"colorbar\":{\"outlinewidth\":1,\"tickcolor\":\"rgb(36,36,36)\",\"ticks\":\"outside\"},\"colorscale\":[[0.0,\"#440154\"],[0.1111111111111111,\"#482878\"],[0.2222222222222222,\"#3e4989\"],[0.3333333333333333,\"#31688e\"],[0.4444444444444444,\"#26828e\"],[0.5555555555555556,\"#1f9e89\"],[0.6666666666666666,\"#35b779\"],[0.7777777777777778,\"#6ece58\"],[0.8888888888888888,\"#b5de2b\"],[1.0,\"#fde725\"]],\"type\":\"histogram2d\"}],\"histogram\":[{\"marker\":{\"line\":{\"color\":\"white\",\"width\":0.6}},\"type\":\"histogram\"}],\"mesh3d\":[{\"colorbar\":{\"outlinewidth\":1,\"tickcolor\":\"rgb(36,36,36)\",\"ticks\":\"outside\"},\"type\":\"mesh3d\"}],\"parcoords\":[{\"line\":{\"colorbar\":{\"outlinewidth\":1,\"tickcolor\":\"rgb(36,36,36)\",\"ticks\":\"outside\"}},\"type\":\"parcoords\"}],\"pie\":[{\"automargin\":true,\"type\":\"pie\"}],\"scatter3d\":[{\"line\":{\"colorbar\":{\"outlinewidth\":1,\"tickcolor\":\"rgb(36,36,36)\",\"ticks\":\"outside\"}},\"marker\":{\"colorbar\":{\"outlinewidth\":1,\"tickcolor\":\"rgb(36,36,36)\",\"ticks\":\"outside\"}},\"type\":\"scatter3d\"}],\"scattercarpet\":[{\"marker\":{\"colorbar\":{\"outlinewidth\":1,\"tickcolor\":\"rgb(36,36,36)\",\"ticks\":\"outside\"}},\"type\":\"scattercarpet\"}],\"scattergeo\":[{\"marker\":{\"colorbar\":{\"outlinewidth\":1,\"tickcolor\":\"rgb(36,36,36)\",\"ticks\":\"outside\"}},\"type\":\"scattergeo\"}],\"scattergl\":[{\"marker\":{\"colorbar\":{\"outlinewidth\":1,\"tickcolor\":\"rgb(36,36,36)\",\"ticks\":\"outside\"}},\"type\":\"scattergl\"}],\"scattermapbox\":[{\"marker\":{\"colorbar\":{\"outlinewidth\":1,\"tickcolor\":\"rgb(36,36,36)\",\"ticks\":\"outside\"}},\"type\":\"scattermapbox\"}],\"scatterpolargl\":[{\"marker\":{\"colorbar\":{\"outlinewidth\":1,\"tickcolor\":\"rgb(36,36,36)\",\"ticks\":\"outside\"}},\"type\":\"scatterpolargl\"}],\"scatterpolar\":[{\"marker\":{\"colorbar\":{\"outlinewidth\":1,\"tickcolor\":\"rgb(36,36,36)\",\"ticks\":\"outside\"}},\"type\":\"scatterpolar\"}],\"scatter\":[{\"fillpattern\":{\"fillmode\":\"overlay\",\"size\":10,\"solidity\":0.2},\"type\":\"scatter\"}],\"scatterternary\":[{\"marker\":{\"colorbar\":{\"outlinewidth\":1,\"tickcolor\":\"rgb(36,36,36)\",\"ticks\":\"outside\"}},\"type\":\"scatterternary\"}],\"surface\":[{\"colorbar\":{\"outlinewidth\":1,\"tickcolor\":\"rgb(36,36,36)\",\"ticks\":\"outside\"},\"colorscale\":[[0.0,\"#440154\"],[0.1111111111111111,\"#482878\"],[0.2222222222222222,\"#3e4989\"],[0.3333333333333333,\"#31688e\"],[0.4444444444444444,\"#26828e\"],[0.5555555555555556,\"#1f9e89\"],[0.6666666666666666,\"#35b779\"],[0.7777777777777778,\"#6ece58\"],[0.8888888888888888,\"#b5de2b\"],[1.0,\"#fde725\"]],\"type\":\"surface\"}],\"table\":[{\"cells\":{\"fill\":{\"color\":\"rgb(237,237,237)\"},\"line\":{\"color\":\"white\"}},\"header\":{\"fill\":{\"color\":\"rgb(217,217,217)\"},\"line\":{\"color\":\"white\"}},\"type\":\"table\"}]},\"layout\":{\"annotationdefaults\":{\"arrowhead\":0,\"arrowwidth\":1},\"autotypenumbers\":\"strict\",\"coloraxis\":{\"colorbar\":{\"outlinewidth\":1,\"tickcolor\":\"rgb(36,36,36)\",\"ticks\":\"outside\"}},\"colorscale\":{\"diverging\":[[0.0,\"rgb(103,0,31)\"],[0.1,\"rgb(178,24,43)\"],[0.2,\"rgb(214,96,77)\"],[0.3,\"rgb(244,165,130)\"],[0.4,\"rgb(253,219,199)\"],[0.5,\"rgb(247,247,247)\"],[0.6,\"rgb(209,229,240)\"],[0.7,\"rgb(146,197,222)\"],[0.8,\"rgb(67,147,195)\"],[0.9,\"rgb(33,102,172)\"],[1.0,\"rgb(5,48,97)\"]],\"sequential\":[[0.0,\"#440154\"],[0.1111111111111111,\"#482878\"],[0.2222222222222222,\"#3e4989\"],[0.3333333333333333,\"#31688e\"],[0.4444444444444444,\"#26828e\"],[0.5555555555555556,\"#1f9e89\"],[0.6666666666666666,\"#35b779\"],[0.7777777777777778,\"#6ece58\"],[0.8888888888888888,\"#b5de2b\"],[1.0,\"#fde725\"]],\"sequentialminus\":[[0.0,\"#440154\"],[0.1111111111111111,\"#482878\"],[0.2222222222222222,\"#3e4989\"],[0.3333333333333333,\"#31688e\"],[0.4444444444444444,\"#26828e\"],[0.5555555555555556,\"#1f9e89\"],[0.6666666666666666,\"#35b779\"],[0.7777777777777778,\"#6ece58\"],[0.8888888888888888,\"#b5de2b\"],[1.0,\"#fde725\"]]},\"colorway\":[\"#91268F\",\"#8CC63E\",\"#00A7A0\",\"#F05A28\",\"#4C4C4C\",\"#630460\",\"#9f3913\",\"#588527\",\"#00716c\",\"#3e4040\"],\"font\":{\"color\":\"rgb(36,36,36)\",\"family\":\"Poppins\",\"size\":11},\"geo\":{\"bgcolor\":\"white\",\"lakecolor\":\"white\",\"landcolor\":\"white\",\"showlakes\":true,\"showland\":true,\"subunitcolor\":\"white\"},\"hoverlabel\":{\"align\":\"left\"},\"hovermode\":\"closest\",\"mapbox\":{\"style\":\"light\"},\"paper_bgcolor\":\"white\",\"plot_bgcolor\":\"white\",\"polar\":{\"angularaxis\":{\"gridcolor\":\"rgb(232,232,232)\",\"linecolor\":\"rgb(36,36,36)\",\"showgrid\":false,\"showline\":true,\"ticks\":\"outside\"},\"bgcolor\":\"white\",\"radialaxis\":{\"gridcolor\":\"rgb(232,232,232)\",\"linecolor\":\"rgb(36,36,36)\",\"showgrid\":false,\"showline\":true,\"ticks\":\"outside\"}},\"scene\":{\"xaxis\":{\"backgroundcolor\":\"white\",\"gridcolor\":\"rgb(232,232,232)\",\"gridwidth\":2,\"linecolor\":\"rgb(36,36,36)\",\"showbackground\":true,\"showgrid\":false,\"showline\":true,\"ticks\":\"outside\",\"zeroline\":false,\"zerolinecolor\":\"rgb(36,36,36)\"},\"yaxis\":{\"backgroundcolor\":\"white\",\"gridcolor\":\"rgb(232,232,232)\",\"gridwidth\":2,\"linecolor\":\"rgb(36,36,36)\",\"showbackground\":true,\"showgrid\":false,\"showline\":true,\"ticks\":\"outside\",\"zeroline\":false,\"zerolinecolor\":\"rgb(36,36,36)\"},\"zaxis\":{\"backgroundcolor\":\"white\",\"gridcolor\":\"rgb(232,232,232)\",\"gridwidth\":2,\"linecolor\":\"rgb(36,36,36)\",\"showbackground\":true,\"showgrid\":false,\"showline\":true,\"ticks\":\"outside\",\"zeroline\":false,\"zerolinecolor\":\"rgb(36,36,36)\"}},\"shapedefaults\":{\"fillcolor\":\"black\",\"line\":{\"width\":0},\"opacity\":0.3},\"ternary\":{\"aaxis\":{\"gridcolor\":\"rgb(232,232,232)\",\"linecolor\":\"rgb(36,36,36)\",\"showgrid\":false,\"showline\":true,\"ticks\":\"outside\"},\"baxis\":{\"gridcolor\":\"rgb(232,232,232)\",\"linecolor\":\"rgb(36,36,36)\",\"showgrid\":false,\"showline\":true,\"ticks\":\"outside\"},\"bgcolor\":\"white\",\"caxis\":{\"gridcolor\":\"rgb(232,232,232)\",\"linecolor\":\"rgb(36,36,36)\",\"showgrid\":false,\"showline\":true,\"ticks\":\"outside\"}},\"title\":{\"x\":0.05},\"xaxis\":{\"automargin\":true,\"gridcolor\":\"rgb(232,232,232)\",\"linecolor\":\"rgb(36,36,36)\",\"showgrid\":false,\"showline\":true,\"ticks\":\"outside\",\"title\":{\"standoff\":15},\"zeroline\":false,\"zerolinecolor\":\"rgb(36,36,36)\"},\"yaxis\":{\"automargin\":true,\"gridcolor\":\"rgb(232,232,232)\",\"linecolor\":\"rgb(36,36,36)\",\"showgrid\":false,\"showline\":true,\"ticks\":\"outside\",\"title\":{\"standoff\":15},\"zeroline\":false,\"zerolinecolor\":\"rgb(36,36,36)\"}}},\"mapbox\":{\"domain\":{\"x\":[0.0,1.0],\"y\":[0.0,1.0]},\"center\":{\"lat\":47.568318879244885,\"lon\":-122.28634101130261},\"zoom\":8,\"style\":\"carto-positron\"},\"coloraxis\":{\"colorbar\":{\"title\":{\"text\":\"percent diff\"}},\"colorscale\":[[0.0,\"#440154\"],[0.1111111111111111,\"#482878\"],[0.2222222222222222,\"#3e4989\"],[0.3333333333333333,\"#31688e\"],[0.4444444444444444,\"#26828e\"],[0.5555555555555556,\"#1f9e89\"],[0.6666666666666666,\"#35b779\"],[0.7777777777777778,\"#6ece58\"],[0.8888888888888888,\"#b5de2b\"],[1.0,\"#fde725\"]]},\"legend\":{\"tracegroupgap\":0},\"title\":{\"text\":\"Park and Ride Usage vs Observed Data\"},\"margin\":{\"r\":0,\"t\":0,\"l\":0,\"b\":0}},                        {\"responsive\": true}                    ).then(function(){\n",
       "                            \n",
       "var gd = document.getElementById('b3820b73-394a-4c98-b7c5-1a46daadcef2');\n",
       "var x = new MutationObserver(function (mutations, observer) {{\n",
       "        var display = window.getComputedStyle(gd).display;\n",
       "        if (!display || display === 'none') {{\n",
       "            console.log([gd, 'removed!']);\n",
       "            Plotly.purge(gd);\n",
       "            observer.disconnect();\n",
       "        }}\n",
       "}});\n",
       "\n",
       "// Listen for the removal of the full notebook cells\n",
       "var notebookContainer = gd.closest('#notebook-container');\n",
       "if (notebookContainer) {{\n",
       "    x.observe(notebookContainer, {childList: true});\n",
       "}}\n",
       "\n",
       "// Listen for the clearing of the current output cell\n",
       "var outputEl = gd.closest('.output');\n",
       "if (outputEl) {{\n",
       "    x.observe(outputEl, {childList: true});\n",
       "}}\n",
       "\n",
       "                        })                };                });            </script>        </div>"
      ]
     },
     "metadata": {},
     "output_type": "display_data"
    }
   ],
   "source": [
    "fig = px.scatter_mapbox(gdf_p_r_data, lat=gdf_p_r_data.geometry.y, lon=gdf_p_r_data.geometry.x, color='percent diff', \n",
    "                        hover_data=['name','ZoneID','boardings', 'Capacity', 'boardings - occupancy'], \n",
    "                        title='Park and Ride Usage vs Observed Data', zoom=8)\n",
    "fig.update_layout(mapbox_style=\"carto-positron\")\n",
    "fig.update_layout(margin={\"r\":0,\"t\":0,\"l\":0,\"b\":0})\n",
    "\n",
    "fig.show()"
   ]
  },
  {
   "cell_type": "code",
   "execution_count": 43,
   "id": "0a1c2aa4",
   "metadata": {},
   "outputs": [
    {
     "data": {
      "text/html": [
       "<div>\n",
       "<style scoped>\n",
       "    .dataframe tbody tr th:only-of-type {\n",
       "        vertical-align: middle;\n",
       "    }\n",
       "\n",
       "    .dataframe tbody tr th {\n",
       "        vertical-align: top;\n",
       "    }\n",
       "\n",
       "    .dataframe thead th {\n",
       "        text-align: right;\n",
       "    }\n",
       "</style>\n",
       "<table border=\"1\" class=\"dataframe\">\n",
       "  <thead>\n",
       "    <tr style=\"text-align: right;\">\n",
       "      <th></th>\n",
       "      <th>ZoneID</th>\n",
       "      <th>data_year</th>\n",
       "      <th>name</th>\n",
       "      <th>city</th>\n",
       "      <th>capacity</th>\n",
       "      <th>occupancy</th>\n",
       "      <th>boardings</th>\n",
       "      <th>boardings - occupancy</th>\n",
       "      <th>percent diff</th>\n",
       "    </tr>\n",
       "  </thead>\n",
       "  <tbody>\n",
       "    <tr>\n",
       "      <th>35</th>\n",
       "      <td>3839</td>\n",
       "      <td>2023</td>\n",
       "      <td>Arlington P&amp;R</td>\n",
       "      <td>Arlington</td>\n",
       "      <td>25</td>\n",
       "      <td>5</td>\n",
       "      <td>4</td>\n",
       "      <td>-1</td>\n",
       "      <td>-0.20</td>\n",
       "    </tr>\n",
       "    <tr>\n",
       "      <th>102</th>\n",
       "      <td>3862</td>\n",
       "      <td>2023</td>\n",
       "      <td>Smokey Pt. Church</td>\n",
       "      <td>Arlington</td>\n",
       "      <td>50</td>\n",
       "      <td>13</td>\n",
       "      <td>4</td>\n",
       "      <td>-9</td>\n",
       "      <td>-0.69</td>\n",
       "    </tr>\n",
       "    <tr>\n",
       "      <th>50</th>\n",
       "      <td>3899</td>\n",
       "      <td>2023</td>\n",
       "      <td>All Saints Lutheran Church</td>\n",
       "      <td>Auburn</td>\n",
       "      <td>75</td>\n",
       "      <td>20</td>\n",
       "      <td>6</td>\n",
       "      <td>-14</td>\n",
       "      <td>-0.70</td>\n",
       "    </tr>\n",
       "    <tr>\n",
       "      <th>9</th>\n",
       "      <td>3782</td>\n",
       "      <td>2023</td>\n",
       "      <td>Auburn P&amp;R</td>\n",
       "      <td>Auburn</td>\n",
       "      <td>244</td>\n",
       "      <td>53</td>\n",
       "      <td>4</td>\n",
       "      <td>-49</td>\n",
       "      <td>-0.92</td>\n",
       "    </tr>\n",
       "    <tr>\n",
       "      <th>60</th>\n",
       "      <td>3758</td>\n",
       "      <td>2023</td>\n",
       "      <td>Auburn Station (CR)</td>\n",
       "      <td>Auburn</td>\n",
       "      <td>520</td>\n",
       "      <td>295</td>\n",
       "      <td>533</td>\n",
       "      <td>238</td>\n",
       "      <td>0.81</td>\n",
       "    </tr>\n",
       "    <tr>\n",
       "      <th>...</th>\n",
       "      <td>...</td>\n",
       "      <td>...</td>\n",
       "      <td>...</td>\n",
       "      <td>...</td>\n",
       "      <td>...</td>\n",
       "      <td>...</td>\n",
       "      <td>...</td>\n",
       "      <td>...</td>\n",
       "      <td>...</td>\n",
       "    </tr>\n",
       "    <tr>\n",
       "      <th>110</th>\n",
       "      <td>3876</td>\n",
       "      <td>2023</td>\n",
       "      <td>Tukwila Int. Station</td>\n",
       "      <td>Tukwila</td>\n",
       "      <td>600</td>\n",
       "      <td>570</td>\n",
       "      <td>342</td>\n",
       "      <td>-228</td>\n",
       "      <td>-0.40</td>\n",
       "    </tr>\n",
       "    <tr>\n",
       "      <th>55</th>\n",
       "      <td>3751</td>\n",
       "      <td>2023</td>\n",
       "      <td>Tukwila Station (CR)</td>\n",
       "      <td>Tukwila</td>\n",
       "      <td>390</td>\n",
       "      <td>133</td>\n",
       "      <td>96</td>\n",
       "      <td>-37</td>\n",
       "      <td>-0.28</td>\n",
       "    </tr>\n",
       "    <tr>\n",
       "      <th>31</th>\n",
       "      <td>3826</td>\n",
       "      <td>2023</td>\n",
       "      <td>Ober Park</td>\n",
       "      <td>Vashon Island</td>\n",
       "      <td>48</td>\n",
       "      <td>7</td>\n",
       "      <td>1</td>\n",
       "      <td>-6</td>\n",
       "      <td>-0.86</td>\n",
       "    </tr>\n",
       "    <tr>\n",
       "      <th>25</th>\n",
       "      <td>3810</td>\n",
       "      <td>2023</td>\n",
       "      <td>Valley Center</td>\n",
       "      <td>Vashon Island</td>\n",
       "      <td>55</td>\n",
       "      <td>4</td>\n",
       "      <td>3</td>\n",
       "      <td>-1</td>\n",
       "      <td>-0.25</td>\n",
       "    </tr>\n",
       "    <tr>\n",
       "      <th>30</th>\n",
       "      <td>3818</td>\n",
       "      <td>2023</td>\n",
       "      <td>Woodinville P&amp;R</td>\n",
       "      <td>Woodinville</td>\n",
       "      <td>438</td>\n",
       "      <td>39</td>\n",
       "      <td>9</td>\n",
       "      <td>-30</td>\n",
       "      <td>-0.77</td>\n",
       "    </tr>\n",
       "  </tbody>\n",
       "</table>\n",
       "<p>123 rows � 9 columns</p>\n",
       "</div>"
      ],
      "text/plain": [
       "     ZoneID  data_year                        name           city  capacity  \\\n",
       "35     3839       2023               Arlington P&R      Arlington        25   \n",
       "102    3862       2023           Smokey Pt. Church      Arlington        50   \n",
       "50     3899       2023  All Saints Lutheran Church         Auburn        75   \n",
       "9      3782       2023                  Auburn P&R         Auburn       244   \n",
       "60     3758       2023         Auburn Station (CR)         Auburn       520   \n",
       "..      ...        ...                         ...            ...       ...   \n",
       "110    3876       2023        Tukwila Int. Station        Tukwila       600   \n",
       "55     3751       2023        Tukwila Station (CR)        Tukwila       390   \n",
       "31     3826       2023                   Ober Park  Vashon Island        48   \n",
       "25     3810       2023               Valley Center  Vashon Island        55   \n",
       "30     3818       2023             Woodinville P&R    Woodinville       438   \n",
       "\n",
       "     occupancy  boardings  boardings - occupancy  percent diff  \n",
       "35           5          4                     -1         -0.20  \n",
       "102         13          4                     -9         -0.69  \n",
       "50          20          6                    -14         -0.70  \n",
       "9           53          4                    -49         -0.92  \n",
       "60         295        533                    238          0.81  \n",
       "..         ...        ...                    ...           ...  \n",
       "110        570        342                   -228         -0.40  \n",
       "55         133         96                    -37         -0.28  \n",
       "31           7          1                     -6         -0.86  \n",
       "25           4          3                     -1         -0.25  \n",
       "30          39          9                    -30         -0.77  \n",
       "\n",
       "[123 rows x 9 columns]"
      ]
     },
     "execution_count": 43,
     "metadata": {},
     "output_type": "execute_result"
    }
   ],
   "source": [
    "gdf_p_r_data[['ZoneID', 'data_year', 'name','city', 'capacity', 'occupancy', 'boardings', 'boardings - occupancy', 'percent diff']].sort_values(['city','name'])"
   ]
  },
  {
   "cell_type": "markdown",
   "id": "b3e80e5e",
   "metadata": {},
   "source": [
    "# Transit Submodes by Purpose\n",
    "Model Outputs Only (insufficient samples available from survey)"
   ]
  },
  {
   "cell_type": "code",
   "execution_count": 44,
   "id": "5f0eb704",
   "metadata": {},
   "outputs": [],
   "source": [
    "import h5py\n",
    "myh5 = h5py.File(r'..\\..\\..\\..\\inputs\\scenario\\landuse\\hh_and_persons.h5', 'r')\n",
    "person = pd.read_csv(r'..\\..\\..\\..\\outputs\\daysim\\_person.tsv', sep='\\t')"
   ]
  },
  {
   "cell_type": "code",
   "execution_count": 45,
   "id": "8205afa6",
   "metadata": {},
   "outputs": [],
   "source": [
    "# Create a DataFrame from the h5 file\n",
    "df_person = pd.DataFrame()\n",
    "for col in ['hhno','pno','prace']:\n",
    "    df_person[col] = myh5['Person'][col][:]\n",
    "\n",
    "df_trip = df_trip.merge(df_person[['hhno','pno','prace']], on=['hhno','pno'], how='left')"
   ]
  },
  {
   "cell_type": "code",
   "execution_count": 46,
   "id": "f337be26",
   "metadata": {},
   "outputs": [
    {
     "data": {
      "text/html": [
       "<div>\n",
       "<style scoped>\n",
       "    .dataframe tbody tr th:only-of-type {\n",
       "        vertical-align: middle;\n",
       "    }\n",
       "\n",
       "    .dataframe tbody tr th {\n",
       "        vertical-align: top;\n",
       "    }\n",
       "\n",
       "    .dataframe thead th {\n",
       "        text-align: right;\n",
       "    }\n",
       "</style>\n",
       "<table border=\"1\" class=\"dataframe\">\n",
       "  <thead>\n",
       "    <tr style=\"text-align: right;\">\n",
       "      <th>Purpose Type</th>\n",
       "      <th>Work %</th>\n",
       "      <th>School %</th>\n",
       "      <th>Other %</th>\n",
       "    </tr>\n",
       "    <tr>\n",
       "      <th>Path Type</th>\n",
       "      <th></th>\n",
       "      <th></th>\n",
       "      <th></th>\n",
       "    </tr>\n",
       "  </thead>\n",
       "  <tbody>\n",
       "    <tr>\n",
       "      <th>Bus</th>\n",
       "      <td>15.1%</td>\n",
       "      <td>10.5%</td>\n",
       "      <td>74.4%</td>\n",
       "    </tr>\n",
       "    <tr>\n",
       "      <th>Commuter Rail</th>\n",
       "      <td>50.1%</td>\n",
       "      <td>1.9%</td>\n",
       "      <td>48.0%</td>\n",
       "    </tr>\n",
       "    <tr>\n",
       "      <th>Drive</th>\n",
       "      <td>19.7%</td>\n",
       "      <td>5.5%</td>\n",
       "      <td>74.8%</td>\n",
       "    </tr>\n",
       "    <tr>\n",
       "      <th>Ferry 1</th>\n",
       "      <td>42.5%</td>\n",
       "      <td>12.2%</td>\n",
       "      <td>45.4%</td>\n",
       "    </tr>\n",
       "    <tr>\n",
       "      <th>Ferry 2</th>\n",
       "      <td>61.6%</td>\n",
       "      <td>1.5%</td>\n",
       "      <td>36.9%</td>\n",
       "    </tr>\n",
       "    <tr>\n",
       "      <th>Light Rail</th>\n",
       "      <td>33.0%</td>\n",
       "      <td>9.8%</td>\n",
       "      <td>57.3%</td>\n",
       "    </tr>\n",
       "  </tbody>\n",
       "</table>\n",
       "</div>"
      ],
      "text/plain": [
       "Purpose Type  Work % School % Other %\n",
       "Path Type                            \n",
       "Bus            15.1%    10.5%   74.4%\n",
       "Commuter Rail  50.1%     1.9%   48.0%\n",
       "Drive          19.7%     5.5%   74.8%\n",
       "Ferry 1        42.5%    12.2%   45.4%\n",
       "Ferry 2        61.6%     1.5%   36.9%\n",
       "Light Rail     33.0%     9.8%   57.3%"
      ]
     },
     "execution_count": 46,
     "metadata": {},
     "output_type": "execute_result"
    }
   ],
   "source": [
    "# Create group of work, school, and all other purposes\n",
    "df_trip['Purpose Type'] = 'Other'\n",
    "df_trip.loc[df_trip['dpurp']==0, 'Purpose Type'] = 'Home'\n",
    "df_trip.loc[df_trip['dpurp']==1, 'Purpose Type'] = 'Work'\n",
    "df_trip.loc[df_trip['dpurp']==2, 'Purpose Type'] = 'School'\n",
    "\n",
    "# Rename path types\n",
    "df_trip.loc[df_trip['pathtype']==1, 'Path Type'] = 'Drive'\n",
    "df_trip.loc[df_trip['pathtype']==3, 'Path Type'] = 'Bus'\n",
    "df_trip.loc[df_trip['pathtype']==4, 'Path Type'] = 'Light Rail'\n",
    "df_trip.loc[df_trip['pathtype']==5, 'Path Type'] = 'Ferry 1'\n",
    "df_trip.loc[df_trip['pathtype']==6, 'Path Type'] = 'Commuter Rail'\n",
    "df_trip.loc[df_trip['pathtype']==7, 'Path Type'] = 'Ferry 2'\n",
    "\n",
    "df = pd.pivot_table(df_trip[(df_trip['dpurp']!=0) & (df_trip['pathtype']!=0)], values='trexpfac', index='Path Type', columns='Purpose Type', aggfunc=np.sum)\n",
    "\n",
    "df['Total'] = df.sum(axis=1)\n",
    "for row in df.index:\n",
    "    for col in ['Work','School','Other']:\n",
    "        df.loc[row, col + ' %'] = df.loc[row, col] / df.loc[row, 'Total']\n",
    "\n",
    "df[['Work %','School %','Other %']] = df[['Work %','School %','Other %']].applymap(\"{:,.1%}\".format)\n",
    "df[['Work %','School %','Other %']]"
   ]
  },
  {
   "cell_type": "markdown",
   "id": "87130c67",
   "metadata": {},
   "source": [
    "#### Transit Submodes by Person Race"
   ]
  },
  {
   "cell_type": "code",
   "execution_count": 47,
   "id": "21bac916",
   "metadata": {},
   "outputs": [],
   "source": [
    "\n",
    "race_dict = {\n",
    "    '1': 'White alone',\n",
    "    '2': 'Black or African American alone',\n",
    "    '3': 'American Indian alone',\n",
    "    '4': 'Alaska Native alone',\n",
    "    '5': 'American Indian and Alaska Native tribes specified',\n",
    "    '6': 'Asian alone',\n",
    "    '7': 'Native Hawaiian and Other Pacific Islander alone',\n",
    "    '8': 'Some Other Race alone',\n",
    "    '9': 'Two or More Races'\n",
    "}\n",
    "\n",
    "\n",
    "df_trip['Race'] = df_trip['prace'].astype('int').astype('str').map(race_dict)"
   ]
  },
  {
   "cell_type": "code",
   "execution_count": 48,
   "id": "c50c3d86",
   "metadata": {},
   "outputs": [],
   "source": [
    "# Submode Ridership by race\n",
    "df = pd.pivot_table(df_trip[(df_trip['pathtype']!=0)], values='trexpfac', index='Path Type', columns='Race', aggfunc=np.sum)\n",
    "race_cols = ['White alone','Black or African American alone','American Indian alone',\n",
    "             'Alaska Native alone','American Indian and Alaska Native tribes specified','Asian alone',\n",
    "             'Native Hawaiian and Other Pacific Islander alone','Some Other Race alone','Two or More Races']\n",
    "# Calculate shares of total by Race for each Path Type\n",
    "df['Total'] = df.sum(axis=1)\n",
    "for row in df.index:\n",
    "    for col in race_cols:\n",
    "        df.loc[row, col] = df.loc[row, col] / df.loc[row, 'Total']\n",
    "df[race_cols] = df[race_cols].applymap(\"{:,.1%}\".format)"
   ]
  },
  {
   "cell_type": "code",
   "execution_count": 49,
   "id": "dbdfd700",
   "metadata": {},
   "outputs": [
    {
     "data": {
      "text/html": [
       "<div>\n",
       "<style scoped>\n",
       "    .dataframe tbody tr th:only-of-type {\n",
       "        vertical-align: middle;\n",
       "    }\n",
       "\n",
       "    .dataframe tbody tr th {\n",
       "        vertical-align: top;\n",
       "    }\n",
       "\n",
       "    .dataframe thead th {\n",
       "        text-align: right;\n",
       "    }\n",
       "</style>\n",
       "<table border=\"1\" class=\"dataframe\">\n",
       "  <thead>\n",
       "    <tr style=\"text-align: right;\">\n",
       "      <th>Race</th>\n",
       "      <th>White alone</th>\n",
       "      <th>Black or African American alone</th>\n",
       "      <th>American Indian alone</th>\n",
       "      <th>Alaska Native alone</th>\n",
       "      <th>American Indian and Alaska Native tribes specified</th>\n",
       "      <th>Asian alone</th>\n",
       "      <th>Native Hawaiian and Other Pacific Islander alone</th>\n",
       "      <th>Some Other Race alone</th>\n",
       "      <th>Two or More Races</th>\n",
       "    </tr>\n",
       "    <tr>\n",
       "      <th>Path Type</th>\n",
       "      <th></th>\n",
       "      <th></th>\n",
       "      <th></th>\n",
       "      <th></th>\n",
       "      <th></th>\n",
       "      <th></th>\n",
       "      <th></th>\n",
       "      <th></th>\n",
       "      <th></th>\n",
       "    </tr>\n",
       "  </thead>\n",
       "  <tbody>\n",
       "    <tr>\n",
       "      <th>Bus</th>\n",
       "      <td>59.6%</td>\n",
       "      <td>7.6%</td>\n",
       "      <td>0.6%</td>\n",
       "      <td>0.1%</td>\n",
       "      <td>0.1%</td>\n",
       "      <td>18.5%</td>\n",
       "      <td>0.7%</td>\n",
       "      <td>3.9%</td>\n",
       "      <td>8.9%</td>\n",
       "    </tr>\n",
       "    <tr>\n",
       "      <th>Commuter Rail</th>\n",
       "      <td>63.9%</td>\n",
       "      <td>7.2%</td>\n",
       "      <td>0.9%</td>\n",
       "      <td>0.1%</td>\n",
       "      <td>0.1%</td>\n",
       "      <td>11.2%</td>\n",
       "      <td>1.8%</td>\n",
       "      <td>5.4%</td>\n",
       "      <td>9.5%</td>\n",
       "    </tr>\n",
       "    <tr>\n",
       "      <th>Drive</th>\n",
       "      <td>64.7%</td>\n",
       "      <td>5.5%</td>\n",
       "      <td>0.6%</td>\n",
       "      <td>0.1%</td>\n",
       "      <td>0.1%</td>\n",
       "      <td>14.8%</td>\n",
       "      <td>1.0%</td>\n",
       "      <td>4.3%</td>\n",
       "      <td>8.9%</td>\n",
       "    </tr>\n",
       "    <tr>\n",
       "      <th>Ferry 1</th>\n",
       "      <td>79.3%</td>\n",
       "      <td>2.1%</td>\n",
       "      <td>0.6%</td>\n",
       "      <td>nan%</td>\n",
       "      <td>0.1%</td>\n",
       "      <td>6.2%</td>\n",
       "      <td>2.0%</td>\n",
       "      <td>2.2%</td>\n",
       "      <td>7.5%</td>\n",
       "    </tr>\n",
       "    <tr>\n",
       "      <th>Ferry 2</th>\n",
       "      <td>82.0%</td>\n",
       "      <td>2.3%</td>\n",
       "      <td>0.7%</td>\n",
       "      <td>0.1%</td>\n",
       "      <td>0.1%</td>\n",
       "      <td>4.3%</td>\n",
       "      <td>0.8%</td>\n",
       "      <td>2.5%</td>\n",
       "      <td>7.2%</td>\n",
       "    </tr>\n",
       "    <tr>\n",
       "      <th>Light Rail</th>\n",
       "      <td>57.9%</td>\n",
       "      <td>8.5%</td>\n",
       "      <td>0.6%</td>\n",
       "      <td>0.1%</td>\n",
       "      <td>0.1%</td>\n",
       "      <td>20.3%</td>\n",
       "      <td>0.6%</td>\n",
       "      <td>3.7%</td>\n",
       "      <td>8.3%</td>\n",
       "    </tr>\n",
       "  </tbody>\n",
       "</table>\n",
       "</div>"
      ],
      "text/plain": [
       "Race          White alone Black or African American alone  \\\n",
       "Path Type                                                   \n",
       "Bus                 59.6%                            7.6%   \n",
       "Commuter Rail       63.9%                            7.2%   \n",
       "Drive               64.7%                            5.5%   \n",
       "Ferry 1             79.3%                            2.1%   \n",
       "Ferry 2             82.0%                            2.3%   \n",
       "Light Rail          57.9%                            8.5%   \n",
       "\n",
       "Race          American Indian alone Alaska Native alone  \\\n",
       "Path Type                                                 \n",
       "Bus                            0.6%                0.1%   \n",
       "Commuter Rail                  0.9%                0.1%   \n",
       "Drive                          0.6%                0.1%   \n",
       "Ferry 1                        0.6%                nan%   \n",
       "Ferry 2                        0.7%                0.1%   \n",
       "Light Rail                     0.6%                0.1%   \n",
       "\n",
       "Race          American Indian and Alaska Native tribes specified Asian alone  \\\n",
       "Path Type                                                                      \n",
       "Bus                                                         0.1%       18.5%   \n",
       "Commuter Rail                                               0.1%       11.2%   \n",
       "Drive                                                       0.1%       14.8%   \n",
       "Ferry 1                                                     0.1%        6.2%   \n",
       "Ferry 2                                                     0.1%        4.3%   \n",
       "Light Rail                                                  0.1%       20.3%   \n",
       "\n",
       "Race          Native Hawaiian and Other Pacific Islander alone  \\\n",
       "Path Type                                                        \n",
       "Bus                                                       0.7%   \n",
       "Commuter Rail                                             1.8%   \n",
       "Drive                                                     1.0%   \n",
       "Ferry 1                                                   2.0%   \n",
       "Ferry 2                                                   0.8%   \n",
       "Light Rail                                                0.6%   \n",
       "\n",
       "Race          Some Other Race alone Two or More Races  \n",
       "Path Type                                              \n",
       "Bus                            3.9%              8.9%  \n",
       "Commuter Rail                  5.4%              9.5%  \n",
       "Drive                          4.3%              8.9%  \n",
       "Ferry 1                        2.2%              7.5%  \n",
       "Ferry 2                        2.5%              7.2%  \n",
       "Light Rail                     3.7%              8.3%  "
      ]
     },
     "execution_count": 49,
     "metadata": {},
     "output_type": "execute_result"
    }
   ],
   "source": [
    "df[race_cols]"
   ]
  }
 ],
 "metadata": {
  "kernelspec": {
   "display_name": "summary",
   "language": "python",
   "name": "python3"
  },
  "language_info": {
   "codemirror_mode": {
    "name": "ipython",
    "version": 3
   },
   "file_extension": ".py",
   "mimetype": "text/x-python",
   "name": "python",
   "nbconvert_exporter": "python",
   "pygments_lexer": "ipython3",
   "version": "3.7.10"
  }
 },
 "nbformat": 4,
 "nbformat_minor": 5
}
