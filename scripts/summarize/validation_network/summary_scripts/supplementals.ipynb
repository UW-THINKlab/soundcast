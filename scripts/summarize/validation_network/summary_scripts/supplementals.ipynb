{
 "cells": [
  {
   "cell_type": "raw",
   "id": "7e733ccd",
   "metadata": {
    "vscode": {
     "languageId": "raw"
    }
   },
   "source": [
    "---\n",
    "title: \"Supplemental Trips\"\n",
    "date: today\n",
    "---"
   ]
  },
  {
   "cell_type": "code",
   "execution_count": 1,
   "id": "19899595",
   "metadata": {
    "execution": {
     "iopub.execute_input": "2025-07-10T17:49:42.022113Z",
     "iopub.status.busy": "2025-07-10T17:49:42.021115Z",
     "iopub.status.idle": "2025-07-10T17:49:42.899884Z",
     "shell.execute_reply": "2025-07-10T17:49:42.899884Z"
    }
   },
   "outputs": [],
   "source": [
    "import os\n",
    "import pandas as pd\n",
    "from sqlalchemy import create_engine\n",
    "import h5py\n",
    "import toml\n",
    "from pathlib import Path\n",
    "\n",
    "\n",
    "\n",
    "valid_config = toml.load(os.path.join(os.getcwd(), '..\\\\..\\\\..\\\\..\\\\configuration', 'validation_configuration.toml'))\n",
    "input_config = toml.load(os.path.join(os.getcwd(), '..\\\\..\\\\..\\\\..\\\\configuration', 'input_configuration.toml'))\n",
    "config = toml.load(os.path.join(os.getcwd(), '..\\\\..\\\\..\\\\..\\\\configuration', 'summary_configuration.toml'))\n",
    "\n",
    "root_dir = '../../../..'\n",
    "\n",
    "conn = create_engine(f'sqlite:///{root_dir}/inputs/db/'+input_config['db_name'])\n",
    "\n",
    "\n",
    "\n",
    "pd.options.display.float_format = '{:0,.0f}'.format"
   ]
  },
  {
   "cell_type": "markdown",
   "id": "06d43323",
   "metadata": {},
   "source": [
    "# Generation\n",
    "Trips are generated for non-work external, airport, and truck demand"
   ]
  },
  {
   "cell_type": "code",
   "execution_count": 2,
   "id": "c9834d32",
   "metadata": {
    "execution": {
     "iopub.execute_input": "2025-07-10T17:49:42.903880Z",
     "iopub.status.busy": "2025-07-10T17:49:42.902882Z",
     "iopub.status.idle": "2025-07-10T17:49:42.973349Z",
     "shell.execute_reply": "2025-07-10T17:49:42.972343Z"
    }
   },
   "outputs": [
    {
     "data": {
      "text/html": [
       "<div>\n",
       "<style scoped>\n",
       "    .dataframe tbody tr th:only-of-type {\n",
       "        vertical-align: middle;\n",
       "    }\n",
       "\n",
       "    .dataframe tbody tr th {\n",
       "        vertical-align: top;\n",
       "    }\n",
       "\n",
       "    .dataframe thead th {\n",
       "        text-align: right;\n",
       "    }\n",
       "</style>\n",
       "<table border=\"1\" class=\"dataframe\">\n",
       "  <thead>\n",
       "    <tr style=\"text-align: right;\">\n",
       "      <th></th>\n",
       "      <th>Productions</th>\n",
       "      <th>Attractions</th>\n",
       "    </tr>\n",
       "  </thead>\n",
       "  <tbody>\n",
       "    <tr>\n",
       "      <th>hbw1</th>\n",
       "      <td>291,331</td>\n",
       "      <td>291,331</td>\n",
       "    </tr>\n",
       "    <tr>\n",
       "      <th>hbw2</th>\n",
       "      <td>666,175</td>\n",
       "      <td>666,175</td>\n",
       "    </tr>\n",
       "    <tr>\n",
       "      <th>hbw3</th>\n",
       "      <td>602,747</td>\n",
       "      <td>602,747</td>\n",
       "    </tr>\n",
       "    <tr>\n",
       "      <th>hbw4</th>\n",
       "      <td>1,246,998</td>\n",
       "      <td>1,246,998</td>\n",
       "    </tr>\n",
       "    <tr>\n",
       "      <th>col</th>\n",
       "      <td>122,899</td>\n",
       "      <td>122,899</td>\n",
       "    </tr>\n",
       "    <tr>\n",
       "      <th>hsp</th>\n",
       "      <td>1,749,383</td>\n",
       "      <td>1,749,383</td>\n",
       "    </tr>\n",
       "    <tr>\n",
       "      <th>hbo</th>\n",
       "      <td>5,823,911</td>\n",
       "      <td>5,823,911</td>\n",
       "    </tr>\n",
       "    <tr>\n",
       "      <th>sch</th>\n",
       "      <td>1,306,546</td>\n",
       "      <td>1,306,546</td>\n",
       "    </tr>\n",
       "    <tr>\n",
       "      <th>oto</th>\n",
       "      <td>2,894,415</td>\n",
       "      <td>2,894,415</td>\n",
       "    </tr>\n",
       "    <tr>\n",
       "      <th>wto</th>\n",
       "      <td>1,779,004</td>\n",
       "      <td>1,779,004</td>\n",
       "    </tr>\n",
       "    <tr>\n",
       "      <th>cvh</th>\n",
       "      <td>663,296</td>\n",
       "      <td>663,296</td>\n",
       "    </tr>\n",
       "    <tr>\n",
       "      <th>mtk</th>\n",
       "      <td>212,420</td>\n",
       "      <td>212,420</td>\n",
       "    </tr>\n",
       "    <tr>\n",
       "      <th>htk</th>\n",
       "      <td>67,312</td>\n",
       "      <td>67,312</td>\n",
       "    </tr>\n",
       "    <tr>\n",
       "      <th>dtk</th>\n",
       "      <td>1</td>\n",
       "      <td>1</td>\n",
       "    </tr>\n",
       "  </tbody>\n",
       "</table>\n",
       "</div>"
      ],
      "text/plain": [
       "      Productions  Attractions\n",
       "hbw1      291,331      291,331\n",
       "hbw2      666,175      666,175\n",
       "hbw3      602,747      602,747\n",
       "hbw4    1,246,998    1,246,998\n",
       "col       122,899      122,899\n",
       "hsp     1,749,383    1,749,383\n",
       "hbo     5,823,911    5,823,911\n",
       "sch     1,306,546    1,306,546\n",
       "oto     2,894,415    2,894,415\n",
       "wto     1,779,004    1,779,004\n",
       "cvh       663,296      663,296\n",
       "mtk       212,420      212,420\n",
       "htk        67,312       67,312\n",
       "dtk             1            1"
      ]
     },
     "execution_count": 2,
     "metadata": {},
     "output_type": "execute_result"
    }
   ],
   "source": [
    "df = pd.read_csv(Path(root_dir, \"outputs/supplemental/7_balance_trip_ends.csv\"))\n",
    "col_list = ['hbw1','hbw2','hbw3','hbw4','col','hsp','hbo','sch','oto','wto','cvh','mtk','htk','dtk']\n",
    "df_pro = pd.DataFrame(df.sum()[[i+\"pro\" for i in col_list]], columns=['Productions'])\n",
    "df_pro.index = col_list\n",
    "df_att = pd.DataFrame(df.sum()[[i+\"att\" for i in col_list]],columns=[\"Attractions\"])\n",
    "df_att.index = col_list\n",
    "df_pro.merge(df_att, left_index=True, right_index=True)\n",
    "\n"
   ]
  },
  {
   "cell_type": "markdown",
   "id": "2cb3e543",
   "metadata": {},
   "source": [
    "# Airport Travel\n",
    "Trips generated by travel to Sea-Tac International Airport"
   ]
  },
  {
   "cell_type": "raw",
   "id": "0e149813",
   "metadata": {
    "vscode": {
     "languageId": "raw"
    }
   },
   "source": [
    ":::{.panel-tabset}\n",
    "### Person Trips Generated"
   ]
  },
  {
   "cell_type": "code",
   "execution_count": 3,
   "id": "eadd4d29",
   "metadata": {
    "execution": {
     "iopub.execute_input": "2025-07-10T17:49:42.978334Z",
     "iopub.status.busy": "2025-07-10T17:49:42.977337Z",
     "iopub.status.idle": "2025-07-10T17:49:43.016928Z",
     "shell.execute_reply": "2025-07-10T17:49:43.015922Z"
    }
   },
   "outputs": [
    {
     "data": {
      "text/html": [
       "<div>\n",
       "<style scoped>\n",
       "    .dataframe tbody tr th:only-of-type {\n",
       "        vertical-align: middle;\n",
       "    }\n",
       "\n",
       "    .dataframe tbody tr th {\n",
       "        vertical-align: top;\n",
       "    }\n",
       "\n",
       "    .dataframe thead th {\n",
       "        text-align: right;\n",
       "    }\n",
       "</style>\n",
       "<table border=\"1\" class=\"dataframe\">\n",
       "  <thead>\n",
       "    <tr style=\"text-align: right;\">\n",
       "      <th></th>\n",
       "      <th>Person Trips</th>\n",
       "    </tr>\n",
       "  </thead>\n",
       "  <tbody>\n",
       "    <tr>\n",
       "      <th>Enplanements (Input)</th>\n",
       "      <td>141,070</td>\n",
       "    </tr>\n",
       "    <tr>\n",
       "      <th>Trips Generated (Output)</th>\n",
       "      <td>141,070</td>\n",
       "    </tr>\n",
       "  </tbody>\n",
       "</table>\n",
       "</div>"
      ],
      "text/plain": [
       "                          Person Trips\n",
       "Enplanements (Input)           141,070\n",
       "Trips Generated (Output)       141,070"
      ]
     },
     "execution_count": 3,
     "metadata": {},
     "output_type": "execute_result"
    }
   ],
   "source": [
    "df = pd.read_csv(Path(root_dir, \"outputs/supplemental/7_balance_trip_ends.csv\"))\n",
    "\n",
    "df = pd.DataFrame(df[['airport']].sum(), columns=['Person Trips'])\n",
    "df.index = ['Trips Generated (Output)']\n",
    "\n",
    "# Enplanements\n",
    "airport_control_total = pd.read_sql(\n",
    "        \"SELECT * FROM seatac WHERE year==\" + str(input_config[\"model_year\"]), con=conn\n",
    "    )[\"enplanements\"].values[0].astype('float')\n",
    "df_obs = pd.DataFrame([airport_control_total], columns=['Person Trips'], index=[\"Enplanements (Input)\"])\n",
    "pd.concat([df_obs, df])"
   ]
  },
  {
   "cell_type": "raw",
   "id": "7e45e432",
   "metadata": {
    "vscode": {
     "languageId": "raw"
    }
   },
   "source": [
    "### Person Trips by District"
   ]
  },
  {
   "cell_type": "code",
   "execution_count": 4,
   "id": "ed5afd0d",
   "metadata": {
    "execution": {
     "iopub.execute_input": "2025-07-10T17:49:43.021913Z",
     "iopub.status.busy": "2025-07-10T17:49:43.020918Z",
     "iopub.status.idle": "2025-07-10T17:49:47.175471Z",
     "shell.execute_reply": "2025-07-10T17:49:47.175471Z"
    }
   },
   "outputs": [],
   "source": [
    "\n",
    "parcel_geog = pd.read_sql(\n",
    "        \"SELECT ParcelID, district_name, TAZ FROM parcel_2023_geography\",\n",
    "        con=conn,\n",
    "    )\n",
    "\n",
    "# Set parcel taz/district equal to the number of parcels within the area\n",
    "parcel_geog = parcel_geog[~parcel_geog['district_name'].isnull()]\n",
    "parcel_geog_grouped = parcel_geog.groupby('TAZ')['district_name'].agg(lambda x: x.value_counts().idxmax()).reset_index()"
   ]
  },
  {
   "cell_type": "code",
   "execution_count": 5,
   "id": "adfcb8c9",
   "metadata": {
    "execution": {
     "iopub.execute_input": "2025-07-10T17:49:47.182085Z",
     "iopub.status.busy": "2025-07-10T17:49:47.181086Z",
     "iopub.status.idle": "2025-07-10T17:49:47.220274Z",
     "shell.execute_reply": "2025-07-10T17:49:47.219171Z"
    }
   },
   "outputs": [
    {
     "data": {
      "text/html": [
       "<div>\n",
       "<style scoped>\n",
       "    .dataframe tbody tr th:only-of-type {\n",
       "        vertical-align: middle;\n",
       "    }\n",
       "\n",
       "    .dataframe tbody tr th {\n",
       "        vertical-align: top;\n",
       "    }\n",
       "\n",
       "    .dataframe thead th {\n",
       "        text-align: right;\n",
       "    }\n",
       "</style>\n",
       "<table border=\"1\" class=\"dataframe\">\n",
       "  <thead>\n",
       "    <tr style=\"text-align: right;\">\n",
       "      <th></th>\n",
       "      <th>Person Trips</th>\n",
       "    </tr>\n",
       "    <tr>\n",
       "      <th>district_name</th>\n",
       "      <th></th>\n",
       "    </tr>\n",
       "  </thead>\n",
       "  <tbody>\n",
       "    <tr>\n",
       "      <th>East Side</th>\n",
       "      <td>24,849</td>\n",
       "    </tr>\n",
       "    <tr>\n",
       "      <th>Everett-Lynwood-Edmonds</th>\n",
       "      <td>10,120</td>\n",
       "    </tr>\n",
       "    <tr>\n",
       "      <th>Kitsap</th>\n",
       "      <td>8,259</td>\n",
       "    </tr>\n",
       "    <tr>\n",
       "      <th>North Seattle-Shoreline</th>\n",
       "      <td>11,460</td>\n",
       "    </tr>\n",
       "    <tr>\n",
       "      <th>Renton-FedWay-Kent</th>\n",
       "      <td>21,864</td>\n",
       "    </tr>\n",
       "    <tr>\n",
       "      <th>S.Kitsap</th>\n",
       "      <td>2,067</td>\n",
       "    </tr>\n",
       "    <tr>\n",
       "      <th>Seattle CBD</th>\n",
       "      <td>12,579</td>\n",
       "    </tr>\n",
       "    <tr>\n",
       "      <th>South Pierce</th>\n",
       "      <td>16,721</td>\n",
       "    </tr>\n",
       "    <tr>\n",
       "      <th>Suburban Snohomish</th>\n",
       "      <td>15,249</td>\n",
       "    </tr>\n",
       "    <tr>\n",
       "      <th>Tacoma</th>\n",
       "      <td>8,886</td>\n",
       "    </tr>\n",
       "    <tr>\n",
       "      <th>West-South Seattle</th>\n",
       "      <td>8,942</td>\n",
       "    </tr>\n",
       "    <tr>\n",
       "      <th>Total</th>\n",
       "      <td>140,996</td>\n",
       "    </tr>\n",
       "  </tbody>\n",
       "</table>\n",
       "</div>"
      ],
      "text/plain": [
       "                         Person Trips\n",
       "district_name                        \n",
       "East Side                      24,849\n",
       "Everett-Lynwood-Edmonds        10,120\n",
       "Kitsap                          8,259\n",
       "North Seattle-Shoreline        11,460\n",
       "Renton-FedWay-Kent             21,864\n",
       "S.Kitsap                        2,067\n",
       "Seattle CBD                    12,579\n",
       "South Pierce                   16,721\n",
       "Suburban Snohomish             15,249\n",
       "Tacoma                          8,886\n",
       "West-South Seattle              8,942\n",
       "Total                         140,996"
      ]
     },
     "execution_count": 5,
     "metadata": {},
     "output_type": "execute_result"
    }
   ],
   "source": [
    "df = pd.read_csv(Path(root_dir, \"outputs/supplemental/7_balance_trip_ends.csv\"))\n",
    "\n",
    "df_airport = df.merge(parcel_geog_grouped, left_index=True, right_on='TAZ', how='left')[['airport','district_name']]\n",
    "df = df_airport.groupby('district_name').sum()[['airport']]\n",
    "df.loc['Total', :] = df.sum()\n",
    "df.columns = ['Person Trips']\n",
    "df"
   ]
  },
  {
   "cell_type": "raw",
   "id": "ea338550",
   "metadata": {
    "vscode": {
     "languageId": "raw"
    }
   },
   "source": [
    "### Vehicle Trips by Mode "
   ]
  },
  {
   "cell_type": "code",
   "execution_count": 6,
   "id": "f78108bc",
   "metadata": {
    "execution": {
     "iopub.execute_input": "2025-07-10T17:49:47.225386Z",
     "iopub.status.busy": "2025-07-10T17:49:47.225386Z",
     "iopub.status.idle": "2025-07-10T17:49:47.780537Z",
     "shell.execute_reply": "2025-07-10T17:49:47.779533Z"
    }
   },
   "outputs": [
    {
     "data": {
      "text/html": [
       "<style type=\"text/css\">\n",
       "</style>\n",
       "<table id=\"T_0e068\">\n",
       "  <thead>\n",
       "    <tr>\n",
       "      <th class=\"blank level0\" >&nbsp;</th>\n",
       "      <th id=\"T_0e068_level0_col0\" class=\"col_heading level0 col0\" >Mode</th>\n",
       "      <th id=\"T_0e068_level0_col1\" class=\"col_heading level0 col1\" >total</th>\n",
       "      <th id=\"T_0e068_level0_col2\" class=\"col_heading level0 col2\" >Share</th>\n",
       "    </tr>\n",
       "  </thead>\n",
       "  <tbody>\n",
       "    <tr>\n",
       "      <th id=\"T_0e068_level0_row0\" class=\"row_heading level0 row0\" >1</th>\n",
       "      <td id=\"T_0e068_row0_col0\" class=\"data row0 col0\" >sov</td>\n",
       "      <td id=\"T_0e068_row0_col1\" class=\"data row0 col1\" >56,504</td>\n",
       "      <td id=\"T_0e068_row0_col2\" class=\"data row0 col2\" >58.4%</td>\n",
       "    </tr>\n",
       "    <tr>\n",
       "      <th id=\"T_0e068_level0_row1\" class=\"row_heading level0 row1\" >2</th>\n",
       "      <td id=\"T_0e068_row1_col0\" class=\"data row1 col0\" >hov2</td>\n",
       "      <td id=\"T_0e068_row1_col1\" class=\"data row1 col1\" >19,639</td>\n",
       "      <td id=\"T_0e068_row1_col2\" class=\"data row1 col2\" >20.3%</td>\n",
       "    </tr>\n",
       "    <tr>\n",
       "      <th id=\"T_0e068_level0_row2\" class=\"row_heading level0 row2\" >3</th>\n",
       "      <td id=\"T_0e068_row2_col0\" class=\"data row2 col0\" >hov3</td>\n",
       "      <td id=\"T_0e068_row2_col1\" class=\"data row2 col1\" >9,880</td>\n",
       "      <td id=\"T_0e068_row2_col2\" class=\"data row2 col2\" >10.2%</td>\n",
       "    </tr>\n",
       "    <tr>\n",
       "      <th id=\"T_0e068_level0_row3\" class=\"row_heading level0 row3\" >4</th>\n",
       "      <td id=\"T_0e068_row3_col0\" class=\"data row3 col0\" >walk</td>\n",
       "      <td id=\"T_0e068_row3_col1\" class=\"data row3 col1\" >297</td>\n",
       "      <td id=\"T_0e068_row3_col2\" class=\"data row3 col2\" >0.3%</td>\n",
       "    </tr>\n",
       "    <tr>\n",
       "      <th id=\"T_0e068_level0_row4\" class=\"row_heading level0 row4\" >5</th>\n",
       "      <td id=\"T_0e068_row4_col0\" class=\"data row4 col0\" >bike</td>\n",
       "      <td id=\"T_0e068_row4_col1\" class=\"data row4 col1\" >212</td>\n",
       "      <td id=\"T_0e068_row4_col2\" class=\"data row4 col2\" >0.2%</td>\n",
       "    </tr>\n",
       "    <tr>\n",
       "      <th id=\"T_0e068_level0_row5\" class=\"row_heading level0 row5\" >6</th>\n",
       "      <td id=\"T_0e068_row5_col0\" class=\"data row5 col0\" >trnst</td>\n",
       "      <td id=\"T_0e068_row5_col1\" class=\"data row5 col1\" >1,783</td>\n",
       "      <td id=\"T_0e068_row5_col2\" class=\"data row5 col2\" >1.8%</td>\n",
       "    </tr>\n",
       "    <tr>\n",
       "      <th id=\"T_0e068_level0_row6\" class=\"row_heading level0 row6\" >7</th>\n",
       "      <td id=\"T_0e068_row6_col0\" class=\"data row6 col0\" >litrat</td>\n",
       "      <td id=\"T_0e068_row6_col1\" class=\"data row6 col1\" >8,249</td>\n",
       "      <td id=\"T_0e068_row6_col2\" class=\"data row6 col2\" >8.5%</td>\n",
       "    </tr>\n",
       "    <tr>\n",
       "      <th id=\"T_0e068_level0_row7\" class=\"row_heading level0 row7\" >8</th>\n",
       "      <td id=\"T_0e068_row7_col0\" class=\"data row7 col0\" >commuter_rail</td>\n",
       "      <td id=\"T_0e068_row7_col1\" class=\"data row7 col1\" >128</td>\n",
       "      <td id=\"T_0e068_row7_col2\" class=\"data row7 col2\" >0.1%</td>\n",
       "    </tr>\n",
       "    <tr>\n",
       "      <th id=\"T_0e068_level0_row8\" class=\"row_heading level0 row8\" >9</th>\n",
       "      <td id=\"T_0e068_row8_col0\" class=\"data row8 col0\" >ferry</td>\n",
       "      <td id=\"T_0e068_row8_col1\" class=\"data row8 col1\" >6</td>\n",
       "      <td id=\"T_0e068_row8_col2\" class=\"data row8 col2\" >0.0%</td>\n",
       "    </tr>\n",
       "    <tr>\n",
       "      <th id=\"T_0e068_level0_row9\" class=\"row_heading level0 row9\" >10</th>\n",
       "      <td id=\"T_0e068_row9_col0\" class=\"data row9 col0\" >passenger_ferry</td>\n",
       "      <td id=\"T_0e068_row9_col1\" class=\"data row9 col1\" >32</td>\n",
       "      <td id=\"T_0e068_row9_col2\" class=\"data row9 col2\" >0.0%</td>\n",
       "    </tr>\n",
       "    <tr>\n",
       "      <th id=\"T_0e068_level0_row10\" class=\"row_heading level0 row10\" >Total</th>\n",
       "      <td id=\"T_0e068_row10_col0\" class=\"data row10 col0\" > </td>\n",
       "      <td id=\"T_0e068_row10_col1\" class=\"data row10 col1\" >96,731</td>\n",
       "      <td id=\"T_0e068_row10_col2\" class=\"data row10 col2\" >100.0%</td>\n",
       "    </tr>\n",
       "  </tbody>\n",
       "</table>\n"
      ],
      "text/plain": [
       "<pandas.io.formats.style.Styler at 0x1a7c88f2490>"
      ]
     },
     "execution_count": 6,
     "metadata": {},
     "output_type": "execute_result"
    }
   ],
   "source": [
    "\n",
    "df = pd.read_csv(Path(root_dir, \"outputs/supplemental/airport_veh_trips.csv\"))\n",
    "df.rename(columns={\"Unnamed: 0\": \"Mode\"}, inplace=True)\n",
    "df = df[df['Mode'] != \"util_sum\"]\n",
    "\n",
    "# df['Share'] = (df['Share'] * 100).round(1).astype(str) + '%'\n",
    "# add total row\n",
    "df.loc['Total','total'] = df['total'].sum()\n",
    "df[\"Share\"] = df['total']/df[~df.index.isin(['Total'])]['total'].sum()\n",
    "df.fillna(\" \", inplace=True)\n",
    "df.style.format({'total': '{:0,.0f}', 'Share': '{:.1%}'})\n"
   ]
  },
  {
   "cell_type": "raw",
   "id": "42699e24",
   "metadata": {
    "vscode": {
     "languageId": "raw"
    }
   },
   "source": [
    ":::"
   ]
  },
  {
   "cell_type": "markdown",
   "id": "4fb22ada",
   "metadata": {},
   "source": [
    "# All Externals\n",
    "Work and Non-Work Trips are calculated first.\n",
    "Airport trips are then added on to work and non-work trips"
   ]
  },
  {
   "cell_type": "raw",
   "id": "42af13f9",
   "metadata": {
    "vscode": {
     "languageId": "raw"
    }
   },
   "source": [
    ":::{.panel-tabset}\n",
    "### Work and Non-Work"
   ]
  },
  {
   "cell_type": "code",
   "execution_count": 7,
   "id": "6968f1c6",
   "metadata": {
    "execution": {
     "iopub.execute_input": "2025-07-10T17:49:47.783528Z",
     "iopub.status.busy": "2025-07-10T17:49:47.782530Z",
     "iopub.status.idle": "2025-07-10T17:49:49.901885Z",
     "shell.execute_reply": "2025-07-10T17:49:49.900882Z"
    }
   },
   "outputs": [],
   "source": [
    "results_dict = {}\n",
    "tod_list = ['5to6','6to7','7to8','8to9','9to10','10to14','14to15','15to16','16to17','17to18','18to20','20to5']\n",
    "for tod in tod_list:\n",
    "    # print(tod)\n",
    "    myh5 = h5py.File(Path(root_dir,f\"outputs/supplemental/external_work_{tod}.h5\"))\n",
    "    tod_dict = {}\n",
    "    for mode in ['sov','hov2','hov3']:\n",
    "        tod_dict[mode] = myh5[mode][:].sum()\n",
    "    results_dict[tod] = tod_dict\n",
    "    myh5.close()"
   ]
  },
  {
   "cell_type": "code",
   "execution_count": 8,
   "id": "9d1df1aa",
   "metadata": {
    "execution": {
     "iopub.execute_input": "2025-07-10T17:49:49.906872Z",
     "iopub.status.busy": "2025-07-10T17:49:49.906872Z",
     "iopub.status.idle": "2025-07-10T17:49:50.144336Z",
     "shell.execute_reply": "2025-07-10T17:49:50.143335Z"
    }
   },
   "outputs": [
    {
     "data": {
      "text/html": [
       "<div>\n",
       "<style scoped>\n",
       "    .dataframe tbody tr th:only-of-type {\n",
       "        vertical-align: middle;\n",
       "    }\n",
       "\n",
       "    .dataframe tbody tr th {\n",
       "        vertical-align: top;\n",
       "    }\n",
       "\n",
       "    .dataframe thead th {\n",
       "        text-align: right;\n",
       "    }\n",
       "</style>\n",
       "<table border=\"1\" class=\"dataframe\">\n",
       "  <thead>\n",
       "    <tr style=\"text-align: right;\">\n",
       "      <th></th>\n",
       "      <th>Work Trips</th>\n",
       "      <th>Non-Work Trips</th>\n",
       "      <th>Total</th>\n",
       "    </tr>\n",
       "  </thead>\n",
       "  <tbody>\n",
       "    <tr>\n",
       "      <th>sov</th>\n",
       "      <td>237,921</td>\n",
       "      <td>126,338</td>\n",
       "      <td>364,258</td>\n",
       "    </tr>\n",
       "    <tr>\n",
       "      <th>hov2</th>\n",
       "      <td>18,310</td>\n",
       "      <td>20,530</td>\n",
       "      <td>38,839</td>\n",
       "    </tr>\n",
       "    <tr>\n",
       "      <th>hov3</th>\n",
       "      <td>6,394</td>\n",
       "      <td>11,055</td>\n",
       "      <td>17,448</td>\n",
       "    </tr>\n",
       "    <tr>\n",
       "      <th>total</th>\n",
       "      <td>262,624</td>\n",
       "      <td>157,922</td>\n",
       "      <td>420,546</td>\n",
       "    </tr>\n",
       "  </tbody>\n",
       "</table>\n",
       "</div>"
      ],
      "text/plain": [
       "       Work Trips  Non-Work Trips   Total\n",
       "sov       237,921         126,338 364,258\n",
       "hov2       18,310          20,530  38,839\n",
       "hov3        6,394          11,055  17,448\n",
       "total     262,624         157,922 420,546"
      ]
     },
     "execution_count": 8,
     "metadata": {},
     "output_type": "execute_result"
    }
   ],
   "source": [
    "df = pd.DataFrame(pd.DataFrame(results_dict).T.sum(), columns=['Work Trips'])\n",
    "\n",
    "myh5 = h5py.File(Path(root_dir,f\"outputs/supplemental/external_non_work.h5\"))\n",
    "for mode in ['sov','hov2','hov3']:\n",
    "    df.loc[mode, \"Non-Work Trips\"] = myh5[mode][:].sum()\n",
    "df['Total'] = df.sum(axis=1)\n",
    "df.loc[\"total\", :] = df.sum()\n",
    "df"
   ]
  },
  {
   "cell_type": "raw",
   "id": "11e68087",
   "metadata": {
    "vscode": {
     "languageId": "raw"
    }
   },
   "source": [
    "### All Supplementals by Mode"
   ]
  },
  {
   "cell_type": "code",
   "execution_count": 9,
   "id": "e26394f0",
   "metadata": {
    "execution": {
     "iopub.execute_input": "2025-07-10T17:49:50.149896Z",
     "iopub.status.busy": "2025-07-10T17:49:50.148896Z",
     "iopub.status.idle": "2025-07-10T17:50:21.258348Z",
     "shell.execute_reply": "2025-07-10T17:50:21.257819Z"
    }
   },
   "outputs": [],
   "source": [
    "\n",
    "mode_list = ['bike', 'commuter_rail', 'ferry', 'hov2_inc2', 'hov3_inc2', 'litrat', 'passenger_ferry', 'sov_inc2', 'trnst', 'walk']\n",
    "df_results = pd.DataFrame()\n",
    "# Get all airport trips by mode\n",
    "results_dict = {}\n",
    "for tod in tod_list:\n",
    "    # print(tod)\n",
    "    myh5 = h5py.File(Path(root_dir,f\"outputs/supplemental/{tod}.h5\"))\n",
    "    tod_dict = {}\n",
    "    for mode in mode_list:\n",
    "        tod_dict[mode] = myh5[mode][:].sum()\n",
    "    results_dict[tod] = tod_dict\n",
    "    myh5.close()"
   ]
  },
  {
   "cell_type": "code",
   "execution_count": 10,
   "id": "a2994d52",
   "metadata": {
    "execution": {
     "iopub.execute_input": "2025-07-10T17:50:21.264745Z",
     "iopub.status.busy": "2025-07-10T17:50:21.264238Z",
     "iopub.status.idle": "2025-07-10T17:50:21.284795Z",
     "shell.execute_reply": "2025-07-10T17:50:21.283733Z"
    }
   },
   "outputs": [
    {
     "data": {
      "text/html": [
       "<style type=\"text/css\">\n",
       "</style>\n",
       "<table id=\"T_d4806\">\n",
       "  <thead>\n",
       "    <tr>\n",
       "      <th class=\"blank level0\" >&nbsp;</th>\n",
       "      <th id=\"T_d4806_level0_col0\" class=\"col_heading level0 col0\" >Trips</th>\n",
       "      <th id=\"T_d4806_level0_col1\" class=\"col_heading level0 col1\" >Share</th>\n",
       "    </tr>\n",
       "  </thead>\n",
       "  <tbody>\n",
       "    <tr>\n",
       "      <th id=\"T_d4806_level0_row0\" class=\"row_heading level0 row0\" >sov_inc2</th>\n",
       "      <td id=\"T_d4806_row0_col0\" class=\"data row0 col0\" >420,945</td>\n",
       "      <td id=\"T_d4806_row0_col1\" class=\"data row0 col1\" >81.3%</td>\n",
       "    </tr>\n",
       "    <tr>\n",
       "      <th id=\"T_d4806_level0_row1\" class=\"row_heading level0 row1\" >hov2_inc2</th>\n",
       "      <td id=\"T_d4806_row1_col0\" class=\"data row1 col0\" >58,510</td>\n",
       "      <td id=\"T_d4806_row1_col1\" class=\"data row1 col1\" >11.3%</td>\n",
       "    </tr>\n",
       "    <tr>\n",
       "      <th id=\"T_d4806_level0_row2\" class=\"row_heading level0 row2\" >hov3_inc2</th>\n",
       "      <td id=\"T_d4806_row2_col0\" class=\"data row2 col0\" >27,315</td>\n",
       "      <td id=\"T_d4806_row2_col1\" class=\"data row2 col1\" >5.3%</td>\n",
       "    </tr>\n",
       "    <tr>\n",
       "      <th id=\"T_d4806_level0_row3\" class=\"row_heading level0 row3\" >walk</th>\n",
       "      <td id=\"T_d4806_row3_col0\" class=\"data row3 col0\" >297</td>\n",
       "      <td id=\"T_d4806_row3_col1\" class=\"data row3 col1\" >0.1%</td>\n",
       "    </tr>\n",
       "    <tr>\n",
       "      <th id=\"T_d4806_level0_row4\" class=\"row_heading level0 row4\" >bike</th>\n",
       "      <td id=\"T_d4806_row4_col0\" class=\"data row4 col0\" >213</td>\n",
       "      <td id=\"T_d4806_row4_col1\" class=\"data row4 col1\" >0.0%</td>\n",
       "    </tr>\n",
       "    <tr>\n",
       "      <th id=\"T_d4806_level0_row5\" class=\"row_heading level0 row5\" >trnst</th>\n",
       "      <td id=\"T_d4806_row5_col0\" class=\"data row5 col0\" >1,785</td>\n",
       "      <td id=\"T_d4806_row5_col1\" class=\"data row5 col1\" >0.3%</td>\n",
       "    </tr>\n",
       "    <tr>\n",
       "      <th id=\"T_d4806_level0_row6\" class=\"row_heading level0 row6\" >ferry</th>\n",
       "      <td id=\"T_d4806_row6_col0\" class=\"data row6 col0\" >6</td>\n",
       "      <td id=\"T_d4806_row6_col1\" class=\"data row6 col1\" >0.0%</td>\n",
       "    </tr>\n",
       "    <tr>\n",
       "      <th id=\"T_d4806_level0_row7\" class=\"row_heading level0 row7\" >passenger_ferry</th>\n",
       "      <td id=\"T_d4806_row7_col0\" class=\"data row7 col0\" >32</td>\n",
       "      <td id=\"T_d4806_row7_col1\" class=\"data row7 col1\" >0.0%</td>\n",
       "    </tr>\n",
       "    <tr>\n",
       "      <th id=\"T_d4806_level0_row8\" class=\"row_heading level0 row8\" >commuter_rail</th>\n",
       "      <td id=\"T_d4806_row8_col0\" class=\"data row8 col0\" >128</td>\n",
       "      <td id=\"T_d4806_row8_col1\" class=\"data row8 col1\" >0.0%</td>\n",
       "    </tr>\n",
       "    <tr>\n",
       "      <th id=\"T_d4806_level0_row9\" class=\"row_heading level0 row9\" >litrat</th>\n",
       "      <td id=\"T_d4806_row9_col0\" class=\"data row9 col0\" >8,258</td>\n",
       "      <td id=\"T_d4806_row9_col1\" class=\"data row9 col1\" >1.6%</td>\n",
       "    </tr>\n",
       "    <tr>\n",
       "      <th id=\"T_d4806_level0_row10\" class=\"row_heading level0 row10\" >Total</th>\n",
       "      <td id=\"T_d4806_row10_col0\" class=\"data row10 col0\" >517,489</td>\n",
       "      <td id=\"T_d4806_row10_col1\" class=\"data row10 col1\" >100.0%</td>\n",
       "    </tr>\n",
       "  </tbody>\n",
       "</table>\n"
      ],
      "text/plain": [
       "<pandas.io.formats.style.Styler at 0x1a7c991ff50>"
      ]
     },
     "execution_count": 10,
     "metadata": {},
     "output_type": "execute_result"
    }
   ],
   "source": [
    "\n",
    "\n",
    "df = pd.DataFrame(results_dict).T\n",
    "df = pd.DataFrame(df[[\"sov_inc2\",\"hov2_inc2\",\"hov3_inc2\",\"walk\",\"bike\",\"trnst\",\"ferry\",\"passenger_ferry\",\"commuter_rail\",\"litrat\"]].sum(),\n",
    "             columns=['Trips'])\n",
    "df.loc[\"Total\", :] = df.sum(axis=0)\n",
    "df[\"Share\"] = df['Trips']/df[~df.index.isin(['Total'])]['Trips'].sum()\n",
    "df.fillna(\" \", inplace=True)\n",
    "df.style.format({'Trips': '{:0,.0f}', 'Share': '{:.1%}'})\n",
    "\n"
   ]
  },
  {
   "cell_type": "raw",
   "id": "edcbc6a8",
   "metadata": {},
   "source": [
    "### Time of Day"
   ]
  },
  {
   "cell_type": "code",
   "execution_count": 11,
   "id": "69658ece",
   "metadata": {
    "execution": {
     "iopub.execute_input": "2025-07-10T17:50:21.290825Z",
     "iopub.status.busy": "2025-07-10T17:50:21.289828Z",
     "iopub.status.idle": "2025-07-10T17:50:21.328140Z",
     "shell.execute_reply": "2025-07-10T17:50:21.327137Z"
    }
   },
   "outputs": [
    {
     "data": {
      "text/html": [
       "<style type=\"text/css\">\n",
       "</style>\n",
       "<table id=\"T_7e126\">\n",
       "  <thead>\n",
       "    <tr>\n",
       "      <th class=\"blank level0\" >&nbsp;</th>\n",
       "      <th id=\"T_7e126_level0_col0\" class=\"col_heading level0 col0\" >total</th>\n",
       "      <th id=\"T_7e126_level0_col1\" class=\"col_heading level0 col1\" >Share</th>\n",
       "    </tr>\n",
       "    <tr>\n",
       "      <th class=\"index_name level0\" >tod</th>\n",
       "      <th class=\"blank col0\" >&nbsp;</th>\n",
       "      <th class=\"blank col1\" >&nbsp;</th>\n",
       "    </tr>\n",
       "  </thead>\n",
       "  <tbody>\n",
       "    <tr>\n",
       "      <th id=\"T_7e126_level0_row0\" class=\"row_heading level0 row0\" >5to6</th>\n",
       "      <td id=\"T_7e126_row0_col0\" class=\"data row0 col0\" >20,383</td>\n",
       "      <td id=\"T_7e126_row0_col1\" class=\"data row0 col1\" >3.9%</td>\n",
       "    </tr>\n",
       "    <tr>\n",
       "      <th id=\"T_7e126_level0_row1\" class=\"row_heading level0 row1\" >6to7</th>\n",
       "      <td id=\"T_7e126_row1_col0\" class=\"data row1 col0\" >27,596</td>\n",
       "      <td id=\"T_7e126_row1_col1\" class=\"data row1 col1\" >5.3%</td>\n",
       "    </tr>\n",
       "    <tr>\n",
       "      <th id=\"T_7e126_level0_row2\" class=\"row_heading level0 row2\" >7to8</th>\n",
       "      <td id=\"T_7e126_row2_col0\" class=\"data row2 col0\" >31,094</td>\n",
       "      <td id=\"T_7e126_row2_col1\" class=\"data row2 col1\" >6.0%</td>\n",
       "    </tr>\n",
       "    <tr>\n",
       "      <th id=\"T_7e126_level0_row3\" class=\"row_heading level0 row3\" >8to9</th>\n",
       "      <td id=\"T_7e126_row3_col0\" class=\"data row3 col0\" >29,482</td>\n",
       "      <td id=\"T_7e126_row3_col1\" class=\"data row3 col1\" >5.7%</td>\n",
       "    </tr>\n",
       "    <tr>\n",
       "      <th id=\"T_7e126_level0_row4\" class=\"row_heading level0 row4\" >9to10</th>\n",
       "      <td id=\"T_7e126_row4_col0\" class=\"data row4 col0\" >28,202</td>\n",
       "      <td id=\"T_7e126_row4_col1\" class=\"data row4 col1\" >5.4%</td>\n",
       "    </tr>\n",
       "    <tr>\n",
       "      <th id=\"T_7e126_level0_row5\" class=\"row_heading level0 row5\" >10to14</th>\n",
       "      <td id=\"T_7e126_row5_col0\" class=\"data row5 col0\" >114,113</td>\n",
       "      <td id=\"T_7e126_row5_col1\" class=\"data row5 col1\" >22.1%</td>\n",
       "    </tr>\n",
       "    <tr>\n",
       "      <th id=\"T_7e126_level0_row6\" class=\"row_heading level0 row6\" >14to15</th>\n",
       "      <td id=\"T_7e126_row6_col0\" class=\"data row6 col0\" >32,100</td>\n",
       "      <td id=\"T_7e126_row6_col1\" class=\"data row6 col1\" >6.2%</td>\n",
       "    </tr>\n",
       "    <tr>\n",
       "      <th id=\"T_7e126_level0_row7\" class=\"row_heading level0 row7\" >15to16</th>\n",
       "      <td id=\"T_7e126_row7_col0\" class=\"data row7 col0\" >32,834</td>\n",
       "      <td id=\"T_7e126_row7_col1\" class=\"data row7 col1\" >6.3%</td>\n",
       "    </tr>\n",
       "    <tr>\n",
       "      <th id=\"T_7e126_level0_row8\" class=\"row_heading level0 row8\" >16to17</th>\n",
       "      <td id=\"T_7e126_row8_col0\" class=\"data row8 col0\" >32,500</td>\n",
       "      <td id=\"T_7e126_row8_col1\" class=\"data row8 col1\" >6.3%</td>\n",
       "    </tr>\n",
       "    <tr>\n",
       "      <th id=\"T_7e126_level0_row9\" class=\"row_heading level0 row9\" >17to18</th>\n",
       "      <td id=\"T_7e126_row9_col0\" class=\"data row9 col0\" >32,255</td>\n",
       "      <td id=\"T_7e126_row9_col1\" class=\"data row9 col1\" >6.2%</td>\n",
       "    </tr>\n",
       "    <tr>\n",
       "      <th id=\"T_7e126_level0_row10\" class=\"row_heading level0 row10\" >18to20</th>\n",
       "      <td id=\"T_7e126_row10_col0\" class=\"data row10 col0\" >54,020</td>\n",
       "      <td id=\"T_7e126_row10_col1\" class=\"data row10 col1\" >10.4%</td>\n",
       "    </tr>\n",
       "    <tr>\n",
       "      <th id=\"T_7e126_level0_row11\" class=\"row_heading level0 row11\" >20to5</th>\n",
       "      <td id=\"T_7e126_row11_col0\" class=\"data row11 col0\" >82,910</td>\n",
       "      <td id=\"T_7e126_row11_col1\" class=\"data row11 col1\" >16.0%</td>\n",
       "    </tr>\n",
       "    <tr>\n",
       "      <th id=\"T_7e126_level0_row12\" class=\"row_heading level0 row12\" >Total</th>\n",
       "      <td id=\"T_7e126_row12_col0\" class=\"data row12 col0\" >517,489</td>\n",
       "      <td id=\"T_7e126_row12_col1\" class=\"data row12 col1\" >100.0%</td>\n",
       "    </tr>\n",
       "  </tbody>\n",
       "</table>\n"
      ],
      "text/plain": [
       "<pandas.io.formats.style.Styler at 0x1a7c8ffc250>"
      ]
     },
     "execution_count": 11,
     "metadata": {},
     "output_type": "execute_result"
    }
   ],
   "source": [
    "df = pd.read_csv(Path(root_dir, \"outputs/supplemental/airport_veh_trips_by_tod.csv\"))\n",
    "df = df.groupby(\"tod\").sum()[[\"total\"]]\n",
    "# df[\"Share\"] = df['total']/df['total'].sum()\n",
    "# df['Share'] = (df['Share'] * 100).round(1).astype(str) + '%'\n",
    "df = df.loc[tod_list]\n",
    "\n",
    "df.loc['Total','total'] = df['total'].sum()\n",
    "df[\"Share\"] = df['total']/df[~df.index.isin(['Total'])]['total'].sum()\n",
    "df.fillna(\" \", inplace=True)\n",
    "df.style.format({'total': '{:0,.0f}', 'Share': '{:.1%}'})"
   ]
  },
  {
   "cell_type": "raw",
   "id": "7d694bd8",
   "metadata": {
    "vscode": {
     "languageId": "raw"
    }
   },
   "source": [
    ":::"
   ]
  }
 ],
 "metadata": {
  "kernelspec": {
   "display_name": "summary",
   "language": "python",
   "name": "python3"
  },
  "language_info": {
   "codemirror_mode": {
    "name": "ipython",
    "version": 3
   },
   "file_extension": ".py",
   "mimetype": "text/x-python",
   "name": "python",
   "nbconvert_exporter": "python",
   "pygments_lexer": "ipython3",
   "version": "3.11.12"
  }
 },
 "nbformat": 4,
 "nbformat_minor": 5
}
