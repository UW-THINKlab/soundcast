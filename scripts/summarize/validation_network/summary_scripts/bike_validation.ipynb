{
 "cells": [
  {
   "cell_type": "raw",
   "metadata": {
    "vscode": {
     "languageId": "raw"
    }
   },
   "source": [
    "---\n",
    "title: \"Bike Summary\"\n",
    "date: today\n",
    "---"
   ]
  },
  {
   "cell_type": "code",
   "execution_count": 1,
   "metadata": {
    "execution": {
     "iopub.execute_input": "2025-06-18T23:00:01.624475Z",
     "iopub.status.busy": "2025-06-18T23:00:01.623478Z",
     "iopub.status.idle": "2025-06-18T23:00:03.308262Z",
     "shell.execute_reply": "2025-06-18T23:00:03.307268Z"
    }
   },
   "outputs": [],
   "source": [
    "import os\n",
    "from pathlib import Path\n",
    "import pandas as pd\n",
    "# import numpy as np\n",
    "from sqlalchemy import create_engine,text\n",
    "# from scipy import stats\n",
    "import plotly.express as px\n",
    "import toml\n",
    "import psrc_theme\n",
    "\n",
    "# %matplotlib inline\n",
    "# from IPython.display import display, HTML\n",
    "\n",
    "# to show plotly figures in quarto HTML file\n",
    "import plotly.io as pio\n",
    "pio.renderers.default = \"plotly_mimetype+notebook_connected\"\n",
    "pio.templates.default = \"simple_white+psrc_color\" # set plotly template\n",
    "\n",
    "input_config = toml.load(os.path.join(os.getcwd(), '..\\\\..\\\\..\\\\..\\\\configuration', 'input_configuration.toml'))\n",
    "valid_config = toml.load(os.path.join(os.getcwd(), '..\\\\..\\\\..\\\\..\\\\configuration', 'validation_configuration.toml'))\n",
    "# emme_config = toml.load(os.path.join(os.getcwd(), '..\\\\..\\\\..\\\\..\\\\configuration','emme_configuration.toml'))\n",
    "# network_config = toml.load(os.path.join(os.getcwd(), '..\\\\..\\\\..\\\\..\\\\configuration','network_configuration.toml'))\n",
    "\n",
    "# table format\n",
    "pd.options.display.float_format = '{:0,.0f}'.format\n",
    "format_percent = \"{:,.1%}\".format"
   ]
  },
  {
   "cell_type": "code",
   "execution_count": 2,
   "metadata": {
    "execution": {
     "iopub.execute_input": "2025-06-18T23:00:03.311254Z",
     "iopub.status.busy": "2025-06-18T23:00:03.311254Z",
     "iopub.status.idle": "2025-06-18T23:00:10.047610Z",
     "shell.execute_reply": "2025-06-18T23:00:10.046554Z"
    }
   },
   "outputs": [],
   "source": [
    "# summary data location\n",
    "df_result = pd.read_csv(Path(valid_config['model_dir']) / 'outputs/network/network_results.csv')\n",
    "\n",
    "# observed counts location\n",
    "conn = create_engine('sqlite:///../../../../inputs/db/'+input_config['db_name'])\n",
    "df_observed_bike = pd.read_sql(text(\"SELECT * FROM observed_bike_volumes\"), con=conn.connect())"
   ]
  },
  {
   "cell_type": "code",
   "execution_count": 3,
   "metadata": {
    "execution": {
     "iopub.execute_input": "2025-06-18T23:00:10.053341Z",
     "iopub.status.busy": "2025-06-18T23:00:10.052343Z",
     "iopub.status.idle": "2025-06-18T23:00:10.066770Z",
     "shell.execute_reply": "2025-06-18T23:00:10.065775Z"
    }
   },
   "outputs": [
    {
     "data": {
      "text/plain": [
       "Index(['Unnamed: 0', 'CountID', 'Counter ID', 'Jurisdiction', 'County',\n",
       "       'Agency', 'Follow Up Notes', 'Directions', 'OBJECT ID', 'PSRCEdgeID',\n",
       "       'PSRCJunctID', 'CrossStreets', 'Latitude', 'Longitude', 'Year',\n",
       "       'CountDate', 'P_1', 'P_2', 'P_3', 'P_4', 'P_D', 'B_1', 'B_2', 'B_3',\n",
       "       'B_4', 'B_D', 'P_IJ_1', 'P_IJ_2', 'P_IJ_3', 'P_IJ_4', 'P_IJ_D',\n",
       "       'B_IJ_1', 'B_IJ_2', 'B_IJ_3', 'B_IJ_4', 'B_IJ_D', 'P_JI_1', 'P_JI_2',\n",
       "       'P_JI_3', 'P_JI_4', 'P_JI_D', 'B_JI_1', 'B_JI_2', 'B_JI_3', 'B_JI_4',\n",
       "       'B_JI_D'],\n",
       "      dtype='object')"
      ]
     },
     "execution_count": 3,
     "metadata": {},
     "output_type": "execute_result"
    }
   ],
   "source": [
    "df_observed_bike.columns"
   ]
  },
  {
   "cell_type": "code",
   "execution_count": 4,
   "metadata": {
    "execution": {
     "iopub.execute_input": "2025-06-18T23:00:10.071757Z",
     "iopub.status.busy": "2025-06-18T23:00:10.070759Z",
     "iopub.status.idle": "2025-06-18T23:00:10.078542Z",
     "shell.execute_reply": "2025-06-18T23:00:10.077539Z"
    }
   },
   "outputs": [],
   "source": [
    "tod_map = {'B_IJ_1': '6to7',\n",
    "           'B_JI_1': '6to7',\n",
    "           'B_IJ_2': '7to8',\n",
    "           'B_JI_2': '7to8',\n",
    "           'B_IJ_3': '16to17',\n",
    "           'B_JI_3': '16to17',\n",
    "           'B_IJ_4': '17to18',\n",
    "           'B_JI_4': '17to18'}"
   ]
  },
  {
   "cell_type": "markdown",
   "metadata": {},
   "source": [
    "## top bike links"
   ]
  },
  {
   "cell_type": "code",
   "execution_count": 5,
   "metadata": {
    "execution": {
     "iopub.execute_input": "2025-06-18T23:00:10.083529Z",
     "iopub.status.busy": "2025-06-18T23:00:10.083529Z",
     "iopub.status.idle": "2025-06-18T23:00:10.229939Z",
     "shell.execute_reply": "2025-06-18T23:00:10.228936Z"
    }
   },
   "outputs": [
    {
     "data": {
      "text/html": [
       "<div>\n",
       "<style scoped>\n",
       "    .dataframe tbody tr th:only-of-type {\n",
       "        vertical-align: middle;\n",
       "    }\n",
       "\n",
       "    .dataframe tbody tr th {\n",
       "        vertical-align: top;\n",
       "    }\n",
       "\n",
       "    .dataframe thead th {\n",
       "        text-align: right;\n",
       "    }\n",
       "</style>\n",
       "<table border=\"1\" class=\"dataframe\">\n",
       "  <thead>\n",
       "    <tr style=\"text-align: right;\">\n",
       "      <th></th>\n",
       "      <th>tod</th>\n",
       "      <th>@countid</th>\n",
       "      <th>@bvol</th>\n",
       "    </tr>\n",
       "  </thead>\n",
       "  <tbody>\n",
       "    <tr>\n",
       "      <th>9384</th>\n",
       "      <td>16to17</td>\n",
       "      <td>0</td>\n",
       "      <td>669,757</td>\n",
       "    </tr>\n",
       "    <tr>\n",
       "      <th>12512</th>\n",
       "      <td>17to18</td>\n",
       "      <td>0</td>\n",
       "      <td>662,630</td>\n",
       "    </tr>\n",
       "    <tr>\n",
       "      <th>28145</th>\n",
       "      <td>7to8</td>\n",
       "      <td>0</td>\n",
       "      <td>580,835</td>\n",
       "    </tr>\n",
       "    <tr>\n",
       "      <th>25017</th>\n",
       "      <td>6to7</td>\n",
       "      <td>0</td>\n",
       "      <td>422,409</td>\n",
       "    </tr>\n",
       "    <tr>\n",
       "      <th>10825</th>\n",
       "      <td>16to17</td>\n",
       "      <td>2,045</td>\n",
       "      <td>488</td>\n",
       "    </tr>\n",
       "    <tr>\n",
       "      <th>13954</th>\n",
       "      <td>17to18</td>\n",
       "      <td>2,046</td>\n",
       "      <td>471</td>\n",
       "    </tr>\n",
       "    <tr>\n",
       "      <th>15394</th>\n",
       "      <td>17to18</td>\n",
       "      <td>6,001</td>\n",
       "      <td>471</td>\n",
       "    </tr>\n",
       "    <tr>\n",
       "      <th>29587</th>\n",
       "      <td>7to8</td>\n",
       "      <td>2,046</td>\n",
       "      <td>444</td>\n",
       "    </tr>\n",
       "    <tr>\n",
       "      <th>31027</th>\n",
       "      <td>7to8</td>\n",
       "      <td>6,001</td>\n",
       "      <td>444</td>\n",
       "    </tr>\n",
       "  </tbody>\n",
       "</table>\n",
       "</div>"
      ],
      "text/plain": [
       "          tod  @countid   @bvol\n",
       "9384   16to17         0 669,757\n",
       "12512  17to18         0 662,630\n",
       "28145    7to8         0 580,835\n",
       "25017    6to7         0 422,409\n",
       "10825  16to17     2,045     488\n",
       "13954  17to18     2,046     471\n",
       "15394  17to18     6,001     471\n",
       "29587    7to8     2,046     444\n",
       "31027    7to8     6,001     444"
      ]
     },
     "execution_count": 5,
     "metadata": {},
     "output_type": "execute_result"
    }
   ],
   "source": [
    "# Group both directions\n",
    "# _df = df[df['@countid'].isin(df_obs['CountID'])]\n",
    "df = df_result.groupby(['tod','@countid'])['@bvol'].sum()\n",
    "df = df.reset_index()\n",
    "result = df[df['tod'].isin(tod_map.values())].sort_values('@bvol',ascending=False)\n",
    "\n",
    "result.iloc[:9]\n"
   ]
  }
 ],
 "metadata": {
  "kernelspec": {
   "display_name": "build_notebook",
   "language": "python",
   "name": "python3"
  },
  "language_info": {
   "codemirror_mode": {
    "name": "ipython",
    "version": 3
   },
   "file_extension": ".py",
   "mimetype": "text/x-python",
   "name": "python",
   "nbconvert_exporter": "python",
   "pygments_lexer": "ipython3",
   "version": "3.11.12"
  }
 },
 "nbformat": 4,
 "nbformat_minor": 2
}
