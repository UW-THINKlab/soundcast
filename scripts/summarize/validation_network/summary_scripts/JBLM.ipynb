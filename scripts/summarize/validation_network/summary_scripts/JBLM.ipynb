{
 "cells": [
  {
   "cell_type": "raw",
   "id": "7d1f02ad",
   "metadata": {
    "vscode": {
     "languageId": "raw"
    }
   },
   "source": [
    "---\n",
    "title: \"JBLM\"\n",
    "date: today\n",
    "---"
   ]
  },
  {
   "cell_type": "raw",
   "id": "ea43586c",
   "metadata": {},
   "source": []
  },
  {
   "cell_type": "code",
   "execution_count": 1,
   "id": "4a0eb340",
   "metadata": {
    "execution": {
     "iopub.execute_input": "2025-06-20T21:26:16.667490Z",
     "iopub.status.busy": "2025-06-20T21:26:16.666492Z",
     "iopub.status.idle": "2025-06-20T21:26:17.405768Z",
     "shell.execute_reply": "2025-06-20T21:26:17.405768Z"
    }
   },
   "outputs": [],
   "source": [
    "\n",
    "import os\n",
    "import pandas as pd\n",
    "import numpy as np\n",
    "from sqlalchemy import create_engine\n",
    "import h5py\n",
    "import toml\n",
    "\n",
    "input_config = toml.load(os.path.join(os.getcwd(), '..\\\\..\\\\..\\\\..\\\\configuration', 'input_configuration.toml'))\n",
    "config = toml.load(os.path.join(os.getcwd(), '..\\\\..\\\\..\\\\..\\\\configuration', 'summary_configuration.toml'))\n",
    "# network_config = toml.load(os.path.join(os.getcwd(), '..\\\\..\\\\..\\\\..\\\\configuration','network_configuration.toml'))\n",
    "\n",
    "root_dir = '../../../..'"
   ]
  },
  {
   "cell_type": "markdown",
   "id": "3b318fab",
   "metadata": {},
   "source": [
    "# JBLM\n",
    "The military base Joint Baise Lewis-McChord (JBLM) is treated uniquely in the model.\n",
    "\n"
   ]
  },
  {
   "cell_type": "code",
   "execution_count": 2,
   "id": "ca5e2bd4",
   "metadata": {
    "execution": {
     "iopub.execute_input": "2025-06-20T21:26:17.408771Z",
     "iopub.status.busy": "2025-06-20T21:26:17.407759Z",
     "iopub.status.idle": "2025-06-20T21:26:17.412705Z",
     "shell.execute_reply": "2025-06-20T21:26:17.412705Z"
    }
   },
   "outputs": [],
   "source": [
    "# Military work trips are added as ODs in ixxi_work_trips.h5\n",
    "\n",
    "def get_external_trips(myh5, NUM_ZONES):\n",
    "\n",
    "    # Read trip table and get indeces\n",
    "    # Read table data for each mode and combine into single matrix\n",
    "    \n",
    "    # Note: we are assuming ordinal indexing for externals, do not use these to select zone IDs outside of internal zones\n",
    "\n",
    "    trips = np.zeros((NUM_ZONES, NUM_ZONES), dtype=np.float64)\n",
    "    for mode in ['sov','hov2','hov3']:\n",
    "        trips += myh5[mode][:]\n",
    "    df = pd.DataFrame(\n",
    "        trips, \n",
    "        columns=range(1,NUM_ZONES+1), \n",
    "        index=range(1,NUM_ZONES+1)\n",
    "        )\n",
    "    \n",
    "    return df"
   ]
  },
  {
   "cell_type": "code",
   "execution_count": 3,
   "id": "fe7cb33b",
   "metadata": {
    "execution": {
     "iopub.execute_input": "2025-06-20T21:26:17.415694Z",
     "iopub.status.busy": "2025-06-20T21:26:17.415694Z",
     "iopub.status.idle": "2025-06-20T21:26:20.175762Z",
     "shell.execute_reply": "2025-06-20T21:26:20.175762Z"
    }
   },
   "outputs": [],
   "source": [
    "\n",
    "conn = create_engine(f'sqlite:///{root_dir}/inputs/db/'+input_config['db_name'])\n",
    "myh5 = h5py.File(f\"{root_dir}/outputs/supplemental/external_work_5to6.h5\", 'r')\n",
    "NUM_ZONES = len(myh5['sov'][:])\n",
    "jblm_taz_list = pd.read_sql_query(\"SELECT * FROM psrc_zones where jblm=1\", conn)['taz'].to_list()\n",
    "\n",
    "results_df = pd.DataFrame(\n",
    "    np.zeros([NUM_ZONES, NUM_ZONES]),\n",
    "    columns=range(1,NUM_ZONES+1), \n",
    "    index=range(1,NUM_ZONES+1)\n",
    "    )\n",
    "for tod in config['tod_lookup'].keys():\n",
    "    myh5 = h5py.File(f\"{root_dir}/outputs/supplemental/external_work_{tod}.h5\", 'r')\n",
    "    df = get_external_trips(myh5, NUM_ZONES)\n",
    "    results_df = results_df + df"
   ]
  },
  {
   "cell_type": "markdown",
   "id": "f8635545",
   "metadata": {},
   "source": [
    "# create_ixxi_work_trips.py\n",
    "### Vehicle trips to/from JBLM zones by origin/destination "
   ]
  },
  {
   "cell_type": "code",
   "execution_count": 4,
   "id": "b21dd922",
   "metadata": {
    "execution": {
     "iopub.execute_input": "2025-06-20T21:26:20.178749Z",
     "iopub.status.busy": "2025-06-20T21:26:20.178749Z",
     "iopub.status.idle": "2025-06-20T21:26:20.204689Z",
     "shell.execute_reply": "2025-06-20T21:26:20.204689Z"
    }
   },
   "outputs": [
    {
     "data": {
      "text/html": [
       "<div>\n",
       "<style scoped>\n",
       "    .dataframe tbody tr th:only-of-type {\n",
       "        vertical-align: middle;\n",
       "    }\n",
       "\n",
       "    .dataframe tbody tr th {\n",
       "        vertical-align: top;\n",
       "    }\n",
       "\n",
       "    .dataframe thead th {\n",
       "        text-align: right;\n",
       "    }\n",
       "</style>\n",
       "<table border=\"1\" class=\"dataframe\">\n",
       "  <thead>\n",
       "    <tr style=\"text-align: right;\">\n",
       "      <th></th>\n",
       "      <th>trips_to_jblm</th>\n",
       "      <th>trips_from_jblm</th>\n",
       "      <th>trips_total</th>\n",
       "    </tr>\n",
       "  </thead>\n",
       "  <tbody>\n",
       "    <tr>\n",
       "      <th>3351</th>\n",
       "      <td>16,557</td>\n",
       "      <td>16,557</td>\n",
       "      <td>33,114</td>\n",
       "    </tr>\n",
       "    <tr>\n",
       "      <th>3070</th>\n",
       "      <td>10,975</td>\n",
       "      <td>10,975</td>\n",
       "      <td>21,950</td>\n",
       "    </tr>\n",
       "    <tr>\n",
       "      <th>3353</th>\n",
       "      <td>7,302</td>\n",
       "      <td>7,302</td>\n",
       "      <td>14,604</td>\n",
       "    </tr>\n",
       "    <tr>\n",
       "      <th>3355</th>\n",
       "      <td>7,162</td>\n",
       "      <td>7,162</td>\n",
       "      <td>14,325</td>\n",
       "    </tr>\n",
       "    <tr>\n",
       "      <th>3349</th>\n",
       "      <td>6,091</td>\n",
       "      <td>6,091</td>\n",
       "      <td>12,182</td>\n",
       "    </tr>\n",
       "    <tr>\n",
       "      <th>3350</th>\n",
       "      <td>2,944</td>\n",
       "      <td>2,944</td>\n",
       "      <td>5,889</td>\n",
       "    </tr>\n",
       "    <tr>\n",
       "      <th>3354</th>\n",
       "      <td>2,735</td>\n",
       "      <td>2,735</td>\n",
       "      <td>5,470</td>\n",
       "    </tr>\n",
       "    <tr>\n",
       "      <th>3352</th>\n",
       "      <td>1,561</td>\n",
       "      <td>1,561</td>\n",
       "      <td>3,123</td>\n",
       "    </tr>\n",
       "    <tr>\n",
       "      <th>3346</th>\n",
       "      <td>1,180</td>\n",
       "      <td>1,180</td>\n",
       "      <td>2,361</td>\n",
       "    </tr>\n",
       "    <tr>\n",
       "      <th>3356</th>\n",
       "      <td>984</td>\n",
       "      <td>984</td>\n",
       "      <td>1,969</td>\n",
       "    </tr>\n",
       "    <tr>\n",
       "      <th>3061</th>\n",
       "      <td>858</td>\n",
       "      <td>858</td>\n",
       "      <td>1,717</td>\n",
       "    </tr>\n",
       "    <tr>\n",
       "      <th>3348</th>\n",
       "      <td>279</td>\n",
       "      <td>279</td>\n",
       "      <td>559</td>\n",
       "    </tr>\n",
       "    <tr>\n",
       "      <th>Total</th>\n",
       "      <td>58,634</td>\n",
       "      <td>58,634</td>\n",
       "      <td>117,268</td>\n",
       "    </tr>\n",
       "  </tbody>\n",
       "</table>\n",
       "</div>"
      ],
      "text/plain": [
       "      trips_to_jblm trips_from_jblm trips_total\n",
       "3351         16,557          16,557      33,114\n",
       "3070         10,975          10,975      21,950\n",
       "3353          7,302           7,302      14,604\n",
       "3355          7,162           7,162      14,325\n",
       "3349          6,091           6,091      12,182\n",
       "3350          2,944           2,944       5,889\n",
       "3354          2,735           2,735       5,470\n",
       "3352          1,561           1,561       3,123\n",
       "3346          1,180           1,180       2,361\n",
       "3356            984             984       1,969\n",
       "3061            858             858       1,717\n",
       "3348            279             279         559\n",
       "Total        58,634          58,634     117,268"
      ]
     },
     "execution_count": 4,
     "metadata": {},
     "output_type": "execute_result"
    }
   ],
   "source": [
    "\n",
    "df = pd.DataFrame(results_df[jblm_taz_list].sum(), columns=['trips_to_jblm'])\n",
    "df_from = pd.DataFrame(results_df.loc[jblm_taz_list].sum(axis=1), columns=['trips_from_jblm'])\n",
    "df = df.merge(df_from, left_index=True, right_index=True, how='outer')\n",
    "\n",
    "# Display with commas and as integer\n",
    "df = df.sort_values(by='trips_from_jblm', ascending=False)\n",
    "df['trips_total'] = df['trips_to_jblm'] + df['trips_from_jblm']\n",
    "df.loc['Total'] = df.sum(numeric_only=True)\n",
    "for col in df.columns:\n",
    "    df[col] = df[col].apply(lambda x: f\"{int(x):,}\")\n",
    "\n",
    "df\n"
   ]
  },
  {
   "cell_type": "markdown",
   "id": "d66dc5ea",
   "metadata": {},
   "source": [
    "# Daysim Vehicle Trips to/from JBLM"
   ]
  },
  {
   "cell_type": "code",
   "execution_count": 5,
   "id": "73da2bc2",
   "metadata": {
    "execution": {
     "iopub.execute_input": "2025-06-20T21:26:20.207676Z",
     "iopub.status.busy": "2025-06-20T21:26:20.206679Z",
     "iopub.status.idle": "2025-06-20T21:27:10.852456Z",
     "shell.execute_reply": "2025-06-20T21:27:10.852456Z"
    }
   },
   "outputs": [],
   "source": [
    "trips_df = pd.read_csv(r'../../../../outputs/daysim/_trip.tsv',\n",
    "                    sep='\\t')"
   ]
  },
  {
   "cell_type": "code",
   "execution_count": 6,
   "id": "7448f670",
   "metadata": {
    "execution": {
     "iopub.execute_input": "2025-06-20T21:27:10.856444Z",
     "iopub.status.busy": "2025-06-20T21:27:10.856444Z",
     "iopub.status.idle": "2025-06-20T21:27:11.558882Z",
     "shell.execute_reply": "2025-06-20T21:27:11.558882Z"
    }
   },
   "outputs": [
    {
     "name": "stdout",
     "output_type": "stream",
     "text": [
      "Total Daysim trips from JBLM zones: 10250\n",
      "Total Daysim trips to JBLM zones: 10256\n"
     ]
    }
   ],
   "source": [
    "from_trips = trips_df[(trips_df['otaz'].isin(jblm_taz_list)) & (trips_df['dorp']==1) & (trips_df['mode'].isin([3,4,5]))]\n",
    "to_trips = trips_df[(trips_df['dtaz'].isin(jblm_taz_list)) & (trips_df['dorp']==1) & (trips_df['mode'].isin([3,4,5]))]\n",
    "print(f\"Total Daysim trips from JBLM zones: {from_trips['trexpfac'].sum()}\")\n",
    "print(f\"Total Daysim trips to JBLM zones: {to_trips['trexpfac'].sum()}\")"
   ]
  },
  {
   "cell_type": "markdown",
   "id": "b6f42e99",
   "metadata": {},
   "source": [
    "#### Daysim trips from JBLM by purpose\n",
    "Since employment is removed from JBLM, we expect Daysim to not predict work trips (opurp==1) inside JBLM"
   ]
  },
  {
   "cell_type": "code",
   "execution_count": 7,
   "id": "ea98c5a0",
   "metadata": {
    "execution": {
     "iopub.execute_input": "2025-06-20T21:27:11.561874Z",
     "iopub.status.busy": "2025-06-20T21:27:11.560876Z",
     "iopub.status.idle": "2025-06-20T21:27:11.578347Z",
     "shell.execute_reply": "2025-06-20T21:27:11.578347Z"
    }
   },
   "outputs": [
    {
     "data": {
      "text/html": [
       "<div>\n",
       "<style scoped>\n",
       "    .dataframe tbody tr th:only-of-type {\n",
       "        vertical-align: middle;\n",
       "    }\n",
       "\n",
       "    .dataframe tbody tr th {\n",
       "        vertical-align: top;\n",
       "    }\n",
       "\n",
       "    .dataframe thead th {\n",
       "        text-align: right;\n",
       "    }\n",
       "</style>\n",
       "<table border=\"1\" class=\"dataframe\">\n",
       "  <thead>\n",
       "    <tr style=\"text-align: right;\">\n",
       "      <th></th>\n",
       "      <th>to_JBLM</th>\n",
       "      <th>to_JBLM</th>\n",
       "    </tr>\n",
       "  </thead>\n",
       "  <tbody>\n",
       "    <tr>\n",
       "      <th>0</th>\n",
       "      <td>9625</td>\n",
       "      <td>9637</td>\n",
       "    </tr>\n",
       "    <tr>\n",
       "      <th>3</th>\n",
       "      <td>320</td>\n",
       "      <td>315</td>\n",
       "    </tr>\n",
       "    <tr>\n",
       "      <th>7</th>\n",
       "      <td>202</td>\n",
       "      <td>201</td>\n",
       "    </tr>\n",
       "    <tr>\n",
       "      <th>4</th>\n",
       "      <td>53</td>\n",
       "      <td>52</td>\n",
       "    </tr>\n",
       "    <tr>\n",
       "      <th>6</th>\n",
       "      <td>40</td>\n",
       "      <td>40</td>\n",
       "    </tr>\n",
       "    <tr>\n",
       "      <th>2</th>\n",
       "      <td>10</td>\n",
       "      <td>11</td>\n",
       "    </tr>\n",
       "  </tbody>\n",
       "</table>\n",
       "</div>"
      ],
      "text/plain": [
       "   to_JBLM  to_JBLM\n",
       "0     9625     9637\n",
       "3      320      315\n",
       "7      202      201\n",
       "4       53       52\n",
       "6       40       40\n",
       "2       10       11"
      ]
     },
     "execution_count": 7,
     "metadata": {},
     "output_type": "execute_result"
    }
   ],
   "source": [
    "# \n",
    "pd.DataFrame([from_trips['opurp'].value_counts(),\n",
    "              to_trips['dpurp'].value_counts()]).T.fillna(0).astype(int).rename(\n",
    "    columns={'count': 'from_JBLM', 'count': 'to_JBLM'}\n",
    "              )"
   ]
  },
  {
   "cell_type": "markdown",
   "id": "1a1ea1b1",
   "metadata": {},
   "source": [
    "## Daysim Results for JBLM Residents"
   ]
  },
  {
   "cell_type": "code",
   "execution_count": 8,
   "id": "032282b9",
   "metadata": {
    "execution": {
     "iopub.execute_input": "2025-06-20T21:27:11.580734Z",
     "iopub.status.busy": "2025-06-20T21:27:11.580734Z",
     "iopub.status.idle": "2025-06-20T21:27:22.156740Z",
     "shell.execute_reply": "2025-06-20T21:27:22.156740Z"
    }
   },
   "outputs": [
    {
     "name": "stdout",
     "output_type": "stream",
     "text": [
      "Total Daysim persons in JBLM zones: 8\n"
     ]
    }
   ],
   "source": [
    "# Residents in JBLM zones\n",
    "hh_df = pd.read_csv(r'../../../../outputs/daysim/_household.tsv',\n",
    "                    sep='\\t')\n",
    "person_df = pd.read_csv(r'../../../../outputs/daysim/_person.tsv',\n",
    "                    sep='\\t')\n",
    "person_df = person_df.merge(hh_df[['hhtaz','hhno']], on='hhno', how='left')\n",
    "jblm_person_df = person_df[person_df['hhtaz'].isin(jblm_taz_list)].copy()\n",
    "\n",
    "print(f\"Total Daysim persons in JBLM zones: {jblm_person_df['pno'].nunique()}\")"
   ]
  },
  {
   "cell_type": "markdown",
   "id": "32ec427f",
   "metadata": {},
   "source": [
    "### Persons with Job Locations in JBLM Zones\n",
    "Should be minimal because employment in JBLM zones is zeroed out in create_ixxi_work_trips.py "
   ]
  },
  {
   "cell_type": "code",
   "execution_count": 9,
   "id": "3f58cc85",
   "metadata": {
    "execution": {
     "iopub.execute_input": "2025-06-20T21:27:22.159722Z",
     "iopub.status.busy": "2025-06-20T21:27:22.158724Z",
     "iopub.status.idle": "2025-06-20T21:27:22.191934Z",
     "shell.execute_reply": "2025-06-20T21:27:22.190940Z"
    }
   },
   "outputs": [
    {
     "data": {
      "text/html": [
       "<div>\n",
       "<style scoped>\n",
       "    .dataframe tbody tr th:only-of-type {\n",
       "        vertical-align: middle;\n",
       "    }\n",
       "\n",
       "    .dataframe tbody tr th {\n",
       "        vertical-align: top;\n",
       "    }\n",
       "\n",
       "    .dataframe thead th {\n",
       "        text-align: right;\n",
       "    }\n",
       "</style>\n",
       "<table border=\"1\" class=\"dataframe\">\n",
       "  <thead>\n",
       "    <tr style=\"text-align: right;\">\n",
       "      <th></th>\n",
       "      <th>count</th>\n",
       "    </tr>\n",
       "    <tr>\n",
       "      <th>job_in_jblm</th>\n",
       "      <th></th>\n",
       "    </tr>\n",
       "  </thead>\n",
       "  <tbody>\n",
       "    <tr>\n",
       "      <th>Not in JBLM</th>\n",
       "      <td>16305</td>\n",
       "    </tr>\n",
       "    <tr>\n",
       "      <th>In JBLM</th>\n",
       "      <td>324</td>\n",
       "    </tr>\n",
       "  </tbody>\n",
       "</table>\n",
       "</div>"
      ],
      "text/plain": [
       "             count\n",
       "job_in_jblm       \n",
       "Not in JBLM  16305\n",
       "In JBLM        324"
      ]
     },
     "execution_count": 9,
     "metadata": {},
     "output_type": "execute_result"
    }
   ],
   "source": [
    "jblm_person_df = person_df[person_df['hhtaz'].isin(jblm_taz_list)].copy()\n",
    "jblm_person_df['job_in_jblm'] = \"Not in JBLM\"\n",
    "jblm_person_df.loc[jblm_person_df['pwtaz'].isin(jblm_taz_list), 'job_in_jblm']  = \"In JBLM\"\n",
    "\n",
    "pd.DataFrame(jblm_person_df['job_in_jblm'].value_counts())"
   ]
  },
  {
   "cell_type": "markdown",
   "id": "8d49fb22",
   "metadata": {},
   "source": [
    "### Age Distribution\n",
    "Of synthetic population within JBLM zones"
   ]
  },
  {
   "cell_type": "code",
   "execution_count": 10,
   "id": "e1daaf59",
   "metadata": {
    "execution": {
     "iopub.execute_input": "2025-06-20T21:27:22.193929Z",
     "iopub.status.busy": "2025-06-20T21:27:22.193929Z",
     "iopub.status.idle": "2025-06-20T21:27:22.935431Z",
     "shell.execute_reply": "2025-06-20T21:27:22.935431Z"
    }
   },
   "outputs": [
    {
     "data": {
      "text/plain": [
       "Text(0.5, 1.0, 'Distribution of Age in JBLM Zones')"
      ]
     },
     "execution_count": 10,
     "metadata": {},
     "output_type": "execute_result"
    },
    {
     "data": {
      "image/png": "[encoded data removed]",
      "text/plain": [
       "<Figure size 600x300 with 1 Axes>"
      ]
     },
     "metadata": {},
     "output_type": "display_data"
    }
   ],
   "source": [
    "# Plot distribution of pagey \n",
    "import matplotlib.pyplot as plt\n",
    "plt.figure(figsize=(6, 3))\n",
    "jblm_person_df['pagey'].hist(bins=20)\n",
    "plt.title('Distribution of Age in JBLM Zones')"
   ]
  },
  {
   "cell_type": "markdown",
   "id": "0a166df5",
   "metadata": {},
   "source": [
    "#### Daysim IXXI File\n",
    "\n",
    "This file in generated in create_ixxi_work_trips.py and specifies what share of each zone to exclude from DaySim Work Location model\n",
    "\n",
    "Within JBLM area, Jobs_XIFrac should be 1 because we are using the exogenous data for work flows in these zones\n",
    "If Jobs_XIFrac == 1 then Daysim will not send workers to jobs in these zones\n",
    "\n",
    "Worker_IXFrac is not equal to 1 because workers in the synthetic population for these areas \n",
    "may have jobs outside the base area (family members of enlisted)\n"
   ]
  },
  {
   "cell_type": "code",
   "execution_count": 11,
   "id": "c5dc6101",
   "metadata": {
    "execution": {
     "iopub.execute_input": "2025-06-20T21:27:22.938438Z",
     "iopub.status.busy": "2025-06-20T21:27:22.937425Z",
     "iopub.status.idle": "2025-06-20T21:27:22.959428Z",
     "shell.execute_reply": "2025-06-20T21:27:22.959428Z"
    }
   },
   "outputs": [
    {
     "data": {
      "text/html": [
       "<div>\n",
       "<style scoped>\n",
       "    .dataframe tbody tr th:only-of-type {\n",
       "        vertical-align: middle;\n",
       "    }\n",
       "\n",
       "    .dataframe tbody tr th {\n",
       "        vertical-align: top;\n",
       "    }\n",
       "\n",
       "    .dataframe thead th {\n",
       "        text-align: right;\n",
       "    }\n",
       "</style>\n",
       "<table border=\"1\" class=\"dataframe\">\n",
       "  <thead>\n",
       "    <tr style=\"text-align: right;\">\n",
       "      <th></th>\n",
       "      <th>taz</th>\n",
       "      <th>Worker_IXFrac</th>\n",
       "      <th>Jobs_XIFrac</th>\n",
       "    </tr>\n",
       "  </thead>\n",
       "  <tbody>\n",
       "    <tr>\n",
       "      <th>3060</th>\n",
       "      <td>3061</td>\n",
       "      <td>0.011</td>\n",
       "      <td>1.0</td>\n",
       "    </tr>\n",
       "    <tr>\n",
       "      <th>3069</th>\n",
       "      <td>3070</td>\n",
       "      <td>1.000</td>\n",
       "      <td>1.0</td>\n",
       "    </tr>\n",
       "    <tr>\n",
       "      <th>3345</th>\n",
       "      <td>3346</td>\n",
       "      <td>0.000</td>\n",
       "      <td>1.0</td>\n",
       "    </tr>\n",
       "    <tr>\n",
       "      <th>3347</th>\n",
       "      <td>3348</td>\n",
       "      <td>0.010</td>\n",
       "      <td>1.0</td>\n",
       "    </tr>\n",
       "    <tr>\n",
       "      <th>3348</th>\n",
       "      <td>3349</td>\n",
       "      <td>0.006</td>\n",
       "      <td>1.0</td>\n",
       "    </tr>\n",
       "    <tr>\n",
       "      <th>3349</th>\n",
       "      <td>3350</td>\n",
       "      <td>0.083</td>\n",
       "      <td>1.0</td>\n",
       "    </tr>\n",
       "    <tr>\n",
       "      <th>3350</th>\n",
       "      <td>3351</td>\n",
       "      <td>1.000</td>\n",
       "      <td>1.0</td>\n",
       "    </tr>\n",
       "    <tr>\n",
       "      <th>3351</th>\n",
       "      <td>3352</td>\n",
       "      <td>0.024</td>\n",
       "      <td>1.0</td>\n",
       "    </tr>\n",
       "    <tr>\n",
       "      <th>3352</th>\n",
       "      <td>3353</td>\n",
       "      <td>0.965</td>\n",
       "      <td>1.0</td>\n",
       "    </tr>\n",
       "    <tr>\n",
       "      <th>3353</th>\n",
       "      <td>3354</td>\n",
       "      <td>0.000</td>\n",
       "      <td>1.0</td>\n",
       "    </tr>\n",
       "    <tr>\n",
       "      <th>3354</th>\n",
       "      <td>3355</td>\n",
       "      <td>0.066</td>\n",
       "      <td>1.0</td>\n",
       "    </tr>\n",
       "    <tr>\n",
       "      <th>3355</th>\n",
       "      <td>3356</td>\n",
       "      <td>0.000</td>\n",
       "      <td>1.0</td>\n",
       "    </tr>\n",
       "  </tbody>\n",
       "</table>\n",
       "</div>"
      ],
      "text/plain": [
       "       taz  Worker_IXFrac  Jobs_XIFrac\n",
       "3060  3061          0.011          1.0\n",
       "3069  3070          1.000          1.0\n",
       "3345  3346          0.000          1.0\n",
       "3347  3348          0.010          1.0\n",
       "3348  3349          0.006          1.0\n",
       "3349  3350          0.083          1.0\n",
       "3350  3351          1.000          1.0\n",
       "3351  3352          0.024          1.0\n",
       "3352  3353          0.965          1.0\n",
       "3353  3354          0.000          1.0\n",
       "3354  3355          0.066          1.0\n",
       "3355  3356          0.000          1.0"
      ]
     },
     "execution_count": 11,
     "metadata": {},
     "output_type": "execute_result"
    }
   ],
   "source": [
    "# Load ixxi fractions file and set column names\n",
    "\n",
    "df_ixxi = pd.read_csv(r\"../../../../outputs/landuse/psrc_worker_ixxifractions.dat\", sep='\\t', header=None)\n",
    "df_ixxi.columns = ['taz', 'Worker_IXFrac', 'Jobs_XIFrac']\n",
    "df_ixxi[df_ixxi['taz'].isin(jblm_taz_list)]"
   ]
  },
  {
   "cell_type": "markdown",
   "id": "e6d23c63",
   "metadata": {},
   "source": [
    "# Network Counts"
   ]
  },
  {
   "cell_type": "code",
   "execution_count": 12,
   "id": "c88b1240",
   "metadata": {
    "execution": {
     "iopub.execute_input": "2025-06-20T21:27:22.962437Z",
     "iopub.status.busy": "2025-06-20T21:27:22.962437Z",
     "iopub.status.idle": "2025-06-20T21:27:22.965434Z",
     "shell.execute_reply": "2025-06-20T21:27:22.965434Z"
    }
   },
   "outputs": [],
   "source": [
    "# Kris to add \n",
    "\n",
    "\n",
    "\n"
   ]
  },
  {
   "cell_type": "markdown",
   "id": "a8ee54d4",
   "metadata": {},
   "source": [
    "# Parcels Jobs"
   ]
  },
  {
   "cell_type": "code",
   "execution_count": 13,
   "id": "6c4f4fa2",
   "metadata": {
    "execution": {
     "iopub.execute_input": "2025-06-20T21:27:22.967428Z",
     "iopub.status.busy": "2025-06-20T21:27:22.967428Z",
     "iopub.status.idle": "2025-06-20T21:27:27.624902Z",
     "shell.execute_reply": "2025-06-20T21:27:27.624902Z"
    }
   },
   "outputs": [],
   "source": [
    "df_parcel_input = pd.read_csv('../../../../inputs/scenario/landuse/parcels_urbansim.txt', sep=' ')\n",
    "df_parcel_output = pd.read_csv('../../../../outputs/landuse/parcels_urbansim.txt', sep=' ')\n",
    "\n",
    "parcels_military = pd.read_sql(\n",
    "        \"SELECT * FROM enlisted_personnel WHERE year==\"\n",
    "        + input_config[\"model_year\"],\n",
    "        con=conn,\n",
    "    )"
   ]
  },
  {
   "cell_type": "code",
   "execution_count": 14,
   "id": "41f2c4e7",
   "metadata": {
    "execution": {
     "iopub.execute_input": "2025-06-20T21:27:27.627889Z",
     "iopub.status.busy": "2025-06-20T21:27:27.626891Z",
     "iopub.status.idle": "2025-06-20T21:27:27.633174Z",
     "shell.execute_reply": "2025-06-20T21:27:27.633174Z"
    }
   },
   "outputs": [],
   "source": [
    "parcels_military = parcels_military.groupby('Zone').sum().reset_index()\n",
    "parcels_military = parcels_military[['Zone', 'military_jobs']]\n",
    "parcels_military.rename(columns={'military_jobs': 'military_jobs_target'}, inplace=True)"
   ]
  },
  {
   "cell_type": "markdown",
   "id": "3501a52b",
   "metadata": {},
   "source": [
    "Compare Military Jobs by Zone before create_ixxi_work_trips.py and afterwards\n",
    "\n",
    "JBLM Zones should have 0 total employment in output file"
   ]
  },
  {
   "cell_type": "code",
   "execution_count": 15,
   "id": "8f45c04e",
   "metadata": {
    "execution": {
     "iopub.execute_input": "2025-06-20T21:27:27.635165Z",
     "iopub.status.busy": "2025-06-20T21:27:27.635165Z",
     "iopub.status.idle": "2025-06-20T21:27:27.682682Z",
     "shell.execute_reply": "2025-06-20T21:27:27.682682Z"
    }
   },
   "outputs": [
    {
     "data": {
      "text/html": [
       "<div>\n",
       "<style scoped>\n",
       "    .dataframe tbody tr th:only-of-type {\n",
       "        vertical-align: middle;\n",
       "    }\n",
       "\n",
       "    .dataframe tbody tr th {\n",
       "        vertical-align: top;\n",
       "    }\n",
       "\n",
       "    .dataframe thead th {\n",
       "        text-align: right;\n",
       "    }\n",
       "</style>\n",
       "<table border=\"1\" class=\"dataframe\">\n",
       "  <thead>\n",
       "    <tr style=\"text-align: right;\">\n",
       "      <th></th>\n",
       "      <th>emptot_p_input</th>\n",
       "      <th>emptot_p_output</th>\n",
       "    </tr>\n",
       "    <tr>\n",
       "      <th>taz</th>\n",
       "      <th></th>\n",
       "      <th></th>\n",
       "    </tr>\n",
       "  </thead>\n",
       "  <tbody>\n",
       "    <tr>\n",
       "      <th>3061</th>\n",
       "      <td>167</td>\n",
       "      <td>0</td>\n",
       "    </tr>\n",
       "    <tr>\n",
       "      <th>3070</th>\n",
       "      <td>2,612</td>\n",
       "      <td>0</td>\n",
       "    </tr>\n",
       "    <tr>\n",
       "      <th>3348</th>\n",
       "      <td>1,176</td>\n",
       "      <td>0</td>\n",
       "    </tr>\n",
       "    <tr>\n",
       "      <th>3349</th>\n",
       "      <td>540</td>\n",
       "      <td>0</td>\n",
       "    </tr>\n",
       "    <tr>\n",
       "      <th>3350</th>\n",
       "      <td>183</td>\n",
       "      <td>0</td>\n",
       "    </tr>\n",
       "    <tr>\n",
       "      <th>3351</th>\n",
       "      <td>135</td>\n",
       "      <td>0</td>\n",
       "    </tr>\n",
       "    <tr>\n",
       "      <th>3353</th>\n",
       "      <td>304</td>\n",
       "      <td>0</td>\n",
       "    </tr>\n",
       "    <tr>\n",
       "      <th>3355</th>\n",
       "      <td>1,319</td>\n",
       "      <td>0</td>\n",
       "    </tr>\n",
       "  </tbody>\n",
       "</table>\n",
       "</div>"
      ],
      "text/plain": [
       "     emptot_p_input emptot_p_output\n",
       "taz                                \n",
       "3061            167               0\n",
       "3070          2,612               0\n",
       "3348          1,176               0\n",
       "3349            540               0\n",
       "3350            183               0\n",
       "3351            135               0\n",
       "3353            304               0\n",
       "3355          1,319               0"
      ]
     },
     "execution_count": 15,
     "metadata": {},
     "output_type": "execute_result"
    }
   ],
   "source": [
    "df_before = df_parcel_input[df_parcel_input['taz_p'].isin(parcels_military.Zone)].groupby('taz_p')['emptot_p'].sum().reset_index().sort_values(by='emptot_p', ascending=False)\n",
    "df_after = df_parcel_output[df_parcel_output['taz_p'].isin(parcels_military.Zone)].groupby('taz_p')['emptot_p'].sum().reset_index().sort_values(by='emptot_p', ascending=False)\n",
    "\n",
    "df = df_before.merge(df_after, left_on='taz_p', right_on='taz_p', how='outer')\n",
    "df = df.rename(columns={'taz_p': 'taz', 'emptot_p_x': 'emptot_p_input', 'emptot_p_y': 'emptot_p_output'})\n",
    "\n",
    "df = df.merge(parcels_military, left_on='taz', right_on='Zone', how='outer')\n",
    "df.drop(columns=['Zone'], inplace=True)\n",
    "\n",
    "# set index to taz\n",
    "df = df.set_index('taz')\n",
    "df.loc['Total'] = df.sum(numeric_only=True)\n",
    "# Show results with commas and as integer\n",
    "for col in df.columns:\n",
    "    df[col] = df[col].apply(lambda x: f\"{int(x):,}\")\n",
    "\n",
    "# Show JBLM Zones\n",
    "df[df.index.isin(jblm_taz_list)][['emptot_p_input','emptot_p_output']]\n"
   ]
  },
  {
   "cell_type": "markdown",
   "id": "a783a202",
   "metadata": {},
   "source": [
    "Other military zones should have emptot_p equal to the target number of military jobs to be added"
   ]
  },
  {
   "cell_type": "code",
   "execution_count": 16,
   "id": "282e4fe9",
   "metadata": {
    "execution": {
     "iopub.execute_input": "2025-06-20T21:27:27.685672Z",
     "iopub.status.busy": "2025-06-20T21:27:27.685672Z",
     "iopub.status.idle": "2025-06-20T21:27:27.698646Z",
     "shell.execute_reply": "2025-06-20T21:27:27.698646Z"
    }
   },
   "outputs": [
    {
     "data": {
      "text/html": [
       "<div>\n",
       "<style scoped>\n",
       "    .dataframe tbody tr th:only-of-type {\n",
       "        vertical-align: middle;\n",
       "    }\n",
       "\n",
       "    .dataframe tbody tr th {\n",
       "        vertical-align: top;\n",
       "    }\n",
       "\n",
       "    .dataframe thead th {\n",
       "        text-align: right;\n",
       "    }\n",
       "</style>\n",
       "<table border=\"1\" class=\"dataframe\">\n",
       "  <thead>\n",
       "    <tr style=\"text-align: right;\">\n",
       "      <th></th>\n",
       "      <th>emptot_p_input</th>\n",
       "      <th>emptot_p_output</th>\n",
       "      <th>military_jobs_target</th>\n",
       "    </tr>\n",
       "    <tr>\n",
       "      <th>taz</th>\n",
       "      <th></th>\n",
       "      <th></th>\n",
       "      <th></th>\n",
       "    </tr>\n",
       "  </thead>\n",
       "  <tbody>\n",
       "    <tr>\n",
       "      <th>105</th>\n",
       "      <td>1,535</td>\n",
       "      <td>1,535</td>\n",
       "      <td>75</td>\n",
       "    </tr>\n",
       "    <tr>\n",
       "      <th>331</th>\n",
       "      <td>364</td>\n",
       "      <td>364</td>\n",
       "      <td>204</td>\n",
       "    </tr>\n",
       "    <tr>\n",
       "      <th>390</th>\n",
       "      <td>1,035</td>\n",
       "      <td>1,035</td>\n",
       "      <td>300</td>\n",
       "    </tr>\n",
       "    <tr>\n",
       "      <th>2255</th>\n",
       "      <td>976</td>\n",
       "      <td>976</td>\n",
       "      <td>4,704</td>\n",
       "    </tr>\n",
       "    <tr>\n",
       "      <th>3496</th>\n",
       "      <td>896</td>\n",
       "      <td>896</td>\n",
       "      <td>1,330</td>\n",
       "    </tr>\n",
       "    <tr>\n",
       "      <th>3508</th>\n",
       "      <td>1,759</td>\n",
       "      <td>1,759</td>\n",
       "      <td>57</td>\n",
       "    </tr>\n",
       "    <tr>\n",
       "      <th>3518</th>\n",
       "      <td>3,034</td>\n",
       "      <td>3,034</td>\n",
       "      <td>1,716</td>\n",
       "    </tr>\n",
       "    <tr>\n",
       "      <th>3626</th>\n",
       "      <td>14,893</td>\n",
       "      <td>14,893</td>\n",
       "      <td>4,784</td>\n",
       "    </tr>\n",
       "    <tr>\n",
       "      <th>Total</th>\n",
       "      <td>30,928</td>\n",
       "      <td>24,492</td>\n",
       "      <td>49,302</td>\n",
       "    </tr>\n",
       "  </tbody>\n",
       "</table>\n",
       "</div>"
      ],
      "text/plain": [
       "      emptot_p_input emptot_p_output military_jobs_target\n",
       "taz                                                      \n",
       "105            1,535           1,535                   75\n",
       "331              364             364                  204\n",
       "390            1,035           1,035                  300\n",
       "2255             976             976                4,704\n",
       "3496             896             896                1,330\n",
       "3508           1,759           1,759                   57\n",
       "3518           3,034           3,034                1,716\n",
       "3626          14,893          14,893                4,784\n",
       "Total         30,928          24,492               49,302"
      ]
     },
     "execution_count": 16,
     "metadata": {},
     "output_type": "execute_result"
    }
   ],
   "source": [
    "df[~df.index.isin(jblm_taz_list)]"
   ]
  },
  {
   "cell_type": "markdown",
   "id": "1f524708",
   "metadata": {},
   "source": [
    "### Non-Work"
   ]
  },
  {
   "cell_type": "markdown",
   "id": "175a3ef1",
   "metadata": {},
   "source": [
    "Trip Generation"
   ]
  },
  {
   "cell_type": "code",
   "execution_count": 17,
   "id": "86e14cf2",
   "metadata": {
    "execution": {
     "iopub.execute_input": "2025-06-20T21:27:27.701635Z",
     "iopub.status.busy": "2025-06-20T21:27:27.701635Z",
     "iopub.status.idle": "2025-06-20T21:27:27.726896Z",
     "shell.execute_reply": "2025-06-20T21:27:27.726896Z"
    }
   },
   "outputs": [
    {
     "name": "stdout",
     "output_type": "stream",
     "text": [
      "Total productions from external zones: 75,111\n"
     ]
    }
   ],
   "source": [
    "# Productions from external zones\n",
    "df = pd.read_csv('../../../../outputs/supplemental/7_balance_trip_ends.csv')\n",
    "prods = int(df.loc[df['taz'] >= 3733, 'hsppro'].sum())\n",
    "print(f\"Total productions from external zones: {prods:,}\")\n"
   ]
  },
  {
   "cell_type": "code",
   "execution_count": 18,
   "id": "06f70b4f",
   "metadata": {
    "execution": {
     "iopub.execute_input": "2025-06-20T21:27:27.728885Z",
     "iopub.status.busy": "2025-06-20T21:27:27.728885Z",
     "iopub.status.idle": "2025-06-20T21:27:27.758879Z",
     "shell.execute_reply": "2025-06-20T21:27:27.758879Z"
    }
   },
   "outputs": [
    {
     "data": {
      "text/html": [
       "<div>\n",
       "<style scoped>\n",
       "    .dataframe tbody tr th:only-of-type {\n",
       "        vertical-align: middle;\n",
       "    }\n",
       "\n",
       "    .dataframe tbody tr th {\n",
       "        vertical-align: top;\n",
       "    }\n",
       "\n",
       "    .dataframe thead th {\n",
       "        text-align: right;\n",
       "    }\n",
       "</style>\n",
       "<table border=\"1\" class=\"dataframe\">\n",
       "  <thead>\n",
       "    <tr style=\"text-align: right;\">\n",
       "      <th></th>\n",
       "      <th>hsppro</th>\n",
       "    </tr>\n",
       "  </thead>\n",
       "  <tbody>\n",
       "    <tr>\n",
       "      <th>3069</th>\n",
       "      <td>1,392</td>\n",
       "    </tr>\n",
       "    <tr>\n",
       "      <th>3350</th>\n",
       "      <td>1,110</td>\n",
       "    </tr>\n",
       "    <tr>\n",
       "      <th>3349</th>\n",
       "      <td>1,031</td>\n",
       "    </tr>\n",
       "    <tr>\n",
       "      <th>3347</th>\n",
       "      <td>974</td>\n",
       "    </tr>\n",
       "    <tr>\n",
       "      <th>3351</th>\n",
       "      <td>832</td>\n",
       "    </tr>\n",
       "    <tr>\n",
       "      <th>3348</th>\n",
       "      <td>643</td>\n",
       "    </tr>\n",
       "    <tr>\n",
       "      <th>3060</th>\n",
       "      <td>426</td>\n",
       "    </tr>\n",
       "    <tr>\n",
       "      <th>3354</th>\n",
       "      <td>28</td>\n",
       "    </tr>\n",
       "    <tr>\n",
       "      <th>3352</th>\n",
       "      <td>18</td>\n",
       "    </tr>\n",
       "    <tr>\n",
       "      <th>3355</th>\n",
       "      <td>10</td>\n",
       "    </tr>\n",
       "    <tr>\n",
       "      <th>3345</th>\n",
       "      <td>0</td>\n",
       "    </tr>\n",
       "    <tr>\n",
       "      <th>3353</th>\n",
       "      <td>0</td>\n",
       "    </tr>\n",
       "    <tr>\n",
       "      <th>Total</th>\n",
       "      <td>6,468</td>\n",
       "    </tr>\n",
       "  </tbody>\n",
       "</table>\n",
       "</div>"
      ],
      "text/plain": [
       "      hsppro\n",
       "3069   1,392\n",
       "3350   1,110\n",
       "3349   1,031\n",
       "3347     974\n",
       "3351     832\n",
       "3348     643\n",
       "3060     426\n",
       "3354      28\n",
       "3352      18\n",
       "3355      10\n",
       "3345       0\n",
       "3353       0\n",
       "Total  6,468"
      ]
     },
     "execution_count": 18,
     "metadata": {},
     "output_type": "execute_result"
    }
   ],
   "source": [
    "# Trip Generation\n",
    "# for non-work trips\n",
    "df = pd.read_csv('../../../../outputs/supplemental/7_balance_trip_ends.csv')\n",
    "df = df[df['taz'].isin(jblm_taz_list)][['hsppro']].sort_values(by='hsppro', ascending=False)\n",
    "df.loc['Total'] = df.sum(numeric_only=True)\n",
    "# show with commas and as integer\n",
    "df['hsppro'] = df['hsppro'].apply(lambda x: f\"{int(x):,}\")\n",
    "# Create total row\n",
    "\n",
    "df"
   ]
  },
  {
   "cell_type": "markdown",
   "id": "6a41bc19",
   "metadata": {},
   "source": [
    "Trip Tables"
   ]
  },
  {
   "cell_type": "code",
   "execution_count": 19,
   "id": "eb7eefe6",
   "metadata": {
    "execution": {
     "iopub.execute_input": "2025-06-20T21:27:27.760869Z",
     "iopub.status.busy": "2025-06-20T21:27:27.760869Z",
     "iopub.status.idle": "2025-06-20T21:27:27.973093Z",
     "shell.execute_reply": "2025-06-20T21:27:27.973093Z"
    }
   },
   "outputs": [],
   "source": [
    "myh5 = h5py.File(\"../../../../outputs/supplemental/external_non_work.h5\", 'r')\n",
    "non_work_df = get_external_trips(myh5, NUM_ZONES)"
   ]
  },
  {
   "cell_type": "code",
   "execution_count": 20,
   "id": "4c1b321a",
   "metadata": {
    "execution": {
     "iopub.execute_input": "2025-06-20T21:27:27.976084Z",
     "iopub.status.busy": "2025-06-20T21:27:27.976084Z",
     "iopub.status.idle": "2025-06-20T21:27:28.077814Z",
     "shell.execute_reply": "2025-06-20T21:27:28.077255Z"
    }
   },
   "outputs": [
    {
     "name": "stdout",
     "output_type": "stream",
     "text": [
      "Total non-work trips in region: 157,943\n",
      "External -> Internal non-work trips in region: 78,972\n",
      "Internal -> External non-work trips in region: 78,971\n",
      "Internal -> Internal non-work trips in region: 0\n"
     ]
    }
   ],
   "source": [
    "total_non_work_trips = int(non_work_df.sum().sum())\n",
    "print(f\"Total non-work trips in region: {total_non_work_trips:,}\")\n",
    "\n",
    "# Non work trips to/from externals\n",
    "non_work_df_ext = int(non_work_df.loc[3700:].sum().sum())\n",
    "# non_work_df.loc[3700:].sum().sum()\n",
    "print(f\"External -> Internal non-work trips in region: {non_work_df_ext:,}\")\n",
    "\n",
    "# Non work trips to/from JBLM\n",
    "non_work_df_ext = int(non_work_df[3700:].sum().sum())\n",
    "# non_work_df.loc[3700:].sum().sum()\n",
    "print(f\"Internal -> External non-work trips in region: {non_work_df_ext:,}\")\n",
    "\n",
    "# Internal -> Internal non-work trips\n",
    "non_work_df_int = int(non_work_df.loc[1:3700,1:3700].sum().sum())\n",
    "print(f\"Internal -> Internal non-work trips in region: {non_work_df_int:,}\")\n"
   ]
  },
  {
   "cell_type": "code",
   "execution_count": 21,
   "id": "13d2bb26",
   "metadata": {
    "execution": {
     "iopub.execute_input": "2025-06-20T21:27:28.079760Z",
     "iopub.status.busy": "2025-06-20T21:27:28.079760Z",
     "iopub.status.idle": "2025-06-20T21:27:28.099707Z",
     "shell.execute_reply": "2025-06-20T21:27:28.099707Z"
    }
   },
   "outputs": [
    {
     "data": {
      "text/html": [
       "<div>\n",
       "<style scoped>\n",
       "    .dataframe tbody tr th:only-of-type {\n",
       "        vertical-align: middle;\n",
       "    }\n",
       "\n",
       "    .dataframe tbody tr th {\n",
       "        vertical-align: top;\n",
       "    }\n",
       "\n",
       "    .dataframe thead th {\n",
       "        text-align: right;\n",
       "    }\n",
       "</style>\n",
       "<table border=\"1\" class=\"dataframe\">\n",
       "  <thead>\n",
       "    <tr style=\"text-align: right;\">\n",
       "      <th></th>\n",
       "      <th>trips_to_jblm</th>\n",
       "      <th>trips_from_jblm</th>\n",
       "      <th>trips_total</th>\n",
       "    </tr>\n",
       "  </thead>\n",
       "  <tbody>\n",
       "    <tr>\n",
       "      <th>3061</th>\n",
       "      <td>0</td>\n",
       "      <td>0</td>\n",
       "      <td>1</td>\n",
       "    </tr>\n",
       "    <tr>\n",
       "      <th>3348</th>\n",
       "      <td>0</td>\n",
       "      <td>0</td>\n",
       "      <td>0</td>\n",
       "    </tr>\n",
       "    <tr>\n",
       "      <th>3346</th>\n",
       "      <td>0</td>\n",
       "      <td>0</td>\n",
       "      <td>0</td>\n",
       "    </tr>\n",
       "    <tr>\n",
       "      <th>3352</th>\n",
       "      <td>0</td>\n",
       "      <td>0</td>\n",
       "      <td>0</td>\n",
       "    </tr>\n",
       "    <tr>\n",
       "      <th>3349</th>\n",
       "      <td>0</td>\n",
       "      <td>0</td>\n",
       "      <td>0</td>\n",
       "    </tr>\n",
       "    <tr>\n",
       "      <th>3351</th>\n",
       "      <td>0</td>\n",
       "      <td>0</td>\n",
       "      <td>0</td>\n",
       "    </tr>\n",
       "    <tr>\n",
       "      <th>3350</th>\n",
       "      <td>0</td>\n",
       "      <td>0</td>\n",
       "      <td>0</td>\n",
       "    </tr>\n",
       "    <tr>\n",
       "      <th>3070</th>\n",
       "      <td>0</td>\n",
       "      <td>0</td>\n",
       "      <td>0</td>\n",
       "    </tr>\n",
       "    <tr>\n",
       "      <th>3355</th>\n",
       "      <td>0</td>\n",
       "      <td>0</td>\n",
       "      <td>0</td>\n",
       "    </tr>\n",
       "    <tr>\n",
       "      <th>3353</th>\n",
       "      <td>0</td>\n",
       "      <td>0</td>\n",
       "      <td>0</td>\n",
       "    </tr>\n",
       "    <tr>\n",
       "      <th>3354</th>\n",
       "      <td>0</td>\n",
       "      <td>0</td>\n",
       "      <td>0</td>\n",
       "    </tr>\n",
       "    <tr>\n",
       "      <th>3356</th>\n",
       "      <td>0</td>\n",
       "      <td>0</td>\n",
       "      <td>0</td>\n",
       "    </tr>\n",
       "    <tr>\n",
       "      <th>Total</th>\n",
       "      <td>2</td>\n",
       "      <td>2</td>\n",
       "      <td>5</td>\n",
       "    </tr>\n",
       "  </tbody>\n",
       "</table>\n",
       "</div>"
      ],
      "text/plain": [
       "      trips_to_jblm trips_from_jblm trips_total\n",
       "3061              0               0           1\n",
       "3348              0               0           0\n",
       "3346              0               0           0\n",
       "3352              0               0           0\n",
       "3349              0               0           0\n",
       "3351              0               0           0\n",
       "3350              0               0           0\n",
       "3070              0               0           0\n",
       "3355              0               0           0\n",
       "3353              0               0           0\n",
       "3354              0               0           0\n",
       "3356              0               0           0\n",
       "Total             2               2           5"
      ]
     },
     "execution_count": 21,
     "metadata": {},
     "output_type": "execute_result"
    }
   ],
   "source": [
    "\n",
    "# Vehicle trips to/from JBLM zones\n",
    "df = pd.DataFrame(non_work_df[jblm_taz_list].sum(), columns=['trips_to_jblm'])\n",
    "df_from = pd.DataFrame(non_work_df.loc[jblm_taz_list].sum(axis=1), columns=['trips_from_jblm'])\n",
    "df = df.merge(df_from, left_index=True, right_index=True, how='outer')\n",
    "\n",
    "# Display with commas and as integer\n",
    "df = df.sort_values(by='trips_from_jblm', ascending=False)\n",
    "df['trips_total'] = df['trips_to_jblm'] + df['trips_from_jblm']\n",
    "df.loc['Total'] = df.sum(numeric_only=True)\n",
    "for col in df.columns:\n",
    "    df[col] = df[col].apply(lambda x: f\"{int(x):,}\")\n",
    "\n",
    "df"
   ]
  },
  {
   "cell_type": "code",
   "execution_count": null,
   "id": "c7e15cca",
   "metadata": {},
   "outputs": [],
   "source": []
  },
  {
   "cell_type": "code",
   "execution_count": 22,
   "id": "cccaa364",
   "metadata": {
    "execution": {
     "iopub.execute_input": "2025-06-20T21:27:28.102698Z",
     "iopub.status.busy": "2025-06-20T21:27:28.102698Z",
     "iopub.status.idle": "2025-06-20T21:27:28.125707Z",
     "shell.execute_reply": "2025-06-20T21:27:28.125707Z"
    }
   },
   "outputs": [],
   "source": [
    "jblm_trips = pd.read_sql_query(\"SELECT * FROM jblm_trips\", conn)"
   ]
  },
  {
   "cell_type": "code",
   "execution_count": 23,
   "id": "e9f88aaf",
   "metadata": {
    "execution": {
     "iopub.execute_input": "2025-06-20T21:27:28.127696Z",
     "iopub.status.busy": "2025-06-20T21:27:28.127696Z",
     "iopub.status.idle": "2025-06-20T21:27:28.135371Z",
     "shell.execute_reply": "2025-06-20T21:27:28.135371Z"
    }
   },
   "outputs": [],
   "source": [
    "df = jblm_trips.groupby('origin_zone').sum().reset_index().sort_values('trips', ascending=False)"
   ]
  },
  {
   "cell_type": "code",
   "execution_count": 24,
   "id": "f71d4762",
   "metadata": {
    "execution": {
     "iopub.execute_input": "2025-06-20T21:27:28.137361Z",
     "iopub.status.busy": "2025-06-20T21:27:28.137361Z",
     "iopub.status.idle": "2025-06-20T21:27:28.143855Z",
     "shell.execute_reply": "2025-06-20T21:27:28.143855Z"
    }
   },
   "outputs": [
    {
     "data": {
      "text/html": [
       "<div>\n",
       "<style scoped>\n",
       "    .dataframe tbody tr th:only-of-type {\n",
       "        vertical-align: middle;\n",
       "    }\n",
       "\n",
       "    .dataframe tbody tr th {\n",
       "        vertical-align: top;\n",
       "    }\n",
       "\n",
       "    .dataframe thead th {\n",
       "        text-align: right;\n",
       "    }\n",
       "</style>\n",
       "<table border=\"1\" class=\"dataframe\">\n",
       "  <thead>\n",
       "    <tr style=\"text-align: right;\">\n",
       "      <th></th>\n",
       "      <th>origin_zone</th>\n",
       "      <th>trips</th>\n",
       "    </tr>\n",
       "  </thead>\n",
       "  <tbody>\n",
       "    <tr>\n",
       "      <th>270</th>\n",
       "      <td>3351</td>\n",
       "      <td>12172</td>\n",
       "    </tr>\n",
       "    <tr>\n",
       "      <th>198</th>\n",
       "      <td>3070</td>\n",
       "      <td>11029</td>\n",
       "    </tr>\n",
       "    <tr>\n",
       "      <th>272</th>\n",
       "      <td>3353</td>\n",
       "      <td>6265</td>\n",
       "    </tr>\n",
       "    <tr>\n",
       "      <th>268</th>\n",
       "      <td>3349</td>\n",
       "      <td>4080</td>\n",
       "    </tr>\n",
       "    <tr>\n",
       "      <th>274</th>\n",
       "      <td>3355</td>\n",
       "      <td>3947</td>\n",
       "    </tr>\n",
       "    <tr>\n",
       "      <th>273</th>\n",
       "      <td>3354</td>\n",
       "      <td>3808</td>\n",
       "    </tr>\n",
       "    <tr>\n",
       "      <th>269</th>\n",
       "      <td>3350</td>\n",
       "      <td>1677</td>\n",
       "    </tr>\n",
       "    <tr>\n",
       "      <th>271</th>\n",
       "      <td>3352</td>\n",
       "      <td>1339</td>\n",
       "    </tr>\n",
       "    <tr>\n",
       "      <th>189</th>\n",
       "      <td>3061</td>\n",
       "      <td>1080</td>\n",
       "    </tr>\n",
       "    <tr>\n",
       "      <th>266</th>\n",
       "      <td>3346</td>\n",
       "      <td>786</td>\n",
       "    </tr>\n",
       "    <tr>\n",
       "      <th>275</th>\n",
       "      <td>3356</td>\n",
       "      <td>272</td>\n",
       "    </tr>\n",
       "    <tr>\n",
       "      <th>267</th>\n",
       "      <td>3348</td>\n",
       "      <td>99</td>\n",
       "    </tr>\n",
       "  </tbody>\n",
       "</table>\n",
       "</div>"
      ],
      "text/plain": [
       "     origin_zone  trips\n",
       "270         3351  12172\n",
       "198         3070  11029\n",
       "272         3353   6265\n",
       "268         3349   4080\n",
       "274         3355   3947\n",
       "273         3354   3808\n",
       "269         3350   1677\n",
       "271         3352   1339\n",
       "189         3061   1080\n",
       "266         3346    786\n",
       "275         3356    272\n",
       "267         3348     99"
      ]
     },
     "execution_count": 24,
     "metadata": {},
     "output_type": "execute_result"
    }
   ],
   "source": [
    "df[df['origin_zone'].isin(jblm_taz_list)][['origin_zone','trips']]"
   ]
  },
  {
   "cell_type": "code",
   "execution_count": 25,
   "id": "4b1524a7",
   "metadata": {
    "execution": {
     "iopub.execute_input": "2025-06-20T21:27:28.145847Z",
     "iopub.status.busy": "2025-06-20T21:27:28.145847Z",
     "iopub.status.idle": "2025-06-20T21:27:29.524292Z",
     "shell.execute_reply": "2025-06-20T21:27:29.524292Z"
    }
   },
   "outputs": [],
   "source": [
    "ext_df = pd.read_sql_query(\"SELECT * FROM external_trip_distribution\", conn)\n",
    "# df = ext_df.groupby('PSRC_TAZ').sum().reset_index().sort_values('Total_IE', ascending=False)\n",
    "# df"
   ]
  },
  {
   "cell_type": "code",
   "execution_count": 26,
   "id": "f894981b",
   "metadata": {
    "execution": {
     "iopub.execute_input": "2025-06-20T21:27:29.527282Z",
     "iopub.status.busy": "2025-06-20T21:27:29.527282Z",
     "iopub.status.idle": "2025-06-20T21:27:29.531529Z",
     "shell.execute_reply": "2025-06-20T21:27:29.531016Z"
    }
   },
   "outputs": [],
   "source": [
    "# ext_df = pd.read_sql_query(\"SELECT * FROM external_trip_distribution\", conn)\n",
    "# df = ext_df.groupby('PSRC_TAZ').sum().reset_index().sort_values('Total_EI', ascending=False)"
   ]
  }
 ],
 "metadata": {
  "kernelspec": {
   "display_name": "summary",
   "language": "python",
   "name": "python3"
  },
  "language_info": {
   "codemirror_mode": {
    "name": "ipython",
    "version": 3
   },
   "file_extension": ".py",
   "mimetype": "text/x-python",
   "name": "python",
   "nbconvert_exporter": "python",
   "pygments_lexer": "ipython3",
   "version": "3.11.12"
  }
 },
 "nbformat": 4,
 "nbformat_minor": 5
}
