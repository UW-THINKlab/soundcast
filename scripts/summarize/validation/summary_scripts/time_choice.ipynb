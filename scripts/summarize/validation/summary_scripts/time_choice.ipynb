{
 "cells": [
  {
   "cell_type": "raw",
   "metadata": {},
   "source": [
    "---\n",
    "title: \"Time Choice\"\n",
    "date: today\n",
    "---"
   ]
  },
  {
   "cell_type": "code",
   "execution_count": 1,
   "metadata": {
    "ExecuteTime": {
     "end_time": "2024-07-15T04:25:53.491736Z",
     "start_time": "2024-07-15T04:25:52.116355Z"
    },
    "execution": {
     "iopub.execute_input": "2025-06-19T05:29:26.291646Z",
     "iopub.status.busy": "2025-06-19T05:29:26.290648Z",
     "iopub.status.idle": "2025-06-19T05:29:28.251441Z",
     "shell.execute_reply": "2025-06-19T05:29:28.249856Z"
    }
   },
   "outputs": [],
   "source": [
    "import os\n",
    "import pandas as pd\n",
    "import numpy as np\n",
    "import plotly.express as px\n",
    "import toml\n",
    "import polars as pl\n",
    "from pathlib import Path\n",
    "import util\n",
    "import math\n",
    "import sys\n",
    "\n",
    "sys.path.append(\"../../notebook_styling\")\n",
    "import psrc_theme"
   ]
  },
  {
   "cell_type": "code",
   "execution_count": 2,
   "metadata": {
    "ExecuteTime": {
     "end_time": "2024-07-15T04:26:18.475538Z",
     "start_time": "2024-07-15T04:25:57.037934Z"
    },
    "execution": {
     "iopub.execute_input": "2025-06-19T05:29:28.256767Z",
     "iopub.status.busy": "2025-06-19T05:29:28.256243Z",
     "iopub.status.idle": "2025-06-19T05:30:49.070635Z",
     "shell.execute_reply": "2025-06-19T05:30:49.069641Z"
    }
   },
   "outputs": [],
   "source": [
    "# %store -r validation_data\n",
    "\n",
    "# config = validation_data.config.copy()\n",
    "# tour = validation_data.tour.copy()\n",
    "# trip = validation_data.trip.copy()\n",
    "\n",
    "config = toml.load(Path(Path.cwd(), '..\\..\\..\\..\\configuration', 'validation_configuration.toml'))\n",
    "input_config = toml.load(Path(Path.cwd(), '..\\..\\..\\..\\configuration', 'input_configuration.toml'))\n",
    "\n",
    "data = util.ValidationData(config,input_config,['trip', 'tour'])\n",
    "\n",
    "tour = data.tour.to_pandas()\n",
    "trip = data.trip.to_pandas()"
   ]
  },
  {
   "cell_type": "code",
   "execution_count": 3,
   "metadata": {
    "ExecuteTime": {
     "end_time": "2024-07-15T04:36:01.318077Z",
     "start_time": "2024-07-15T04:35:58.005548Z"
    },
    "collapsed": false,
    "execution": {
     "iopub.execute_input": "2025-06-19T05:30:49.076619Z",
     "iopub.status.busy": "2025-06-19T05:30:49.075621Z",
     "iopub.status.idle": "2025-06-19T05:31:02.388311Z",
     "shell.execute_reply": "2025-06-19T05:31:02.388311Z"
    }
   },
   "outputs": [],
   "source": [
    "# df_person = person.copy()\n",
    "df_tour = tour.copy()\n",
    "df_trip = trip.copy()\n",
    "\n",
    "# ptype_cat = {1: \"1: full time worker\",\n",
    "#              2: \"2: part time worker\",\n",
    "#              3: \"3: non-worker age 65+\",\n",
    "#              4: \"4: other non-working adult\",\n",
    "#              5: \"5: university student\",\n",
    "#              6: \"6: grade school student/child age 16+\",\n",
    "#              7: \"7: child age 5-15\",\n",
    "#              8: \"8: child age 0-4\"}\n",
    "pdpurp_cat = {1: \"Work\",\n",
    "              2: \"School\",\n",
    "              3: \"Escort\",\n",
    "              4: \"Personal Business\",\n",
    "              5: \"Shop\",\n",
    "              6: \"Meal\",\n",
    "              7: \"Social\",\n",
    "              8: \"Social\",\n",
    "              9: \"Personal Business\"}\n",
    "# df_person['pptyp_label'] = df_person['pptyp'].map(ptype_cat)\n",
    "# df_person['pptyp_label'] = df_person['pptyp_label'].astype(pd.CategoricalDtype([\"1: full time worker\",\"2: part time worker\",\"3: non-worker age 65+\",\"4: other non-working adult\",\"5: university student\",\"6: grade school student/child age 16+\",\"7: child age 5-15\",\"8: child age 0-4\"]))\n",
    "\n",
    "df_tour['pdpurp_label'] = df_tour['pdpurp'].map(pdpurp_cat)\n",
    "df_tour['pdpurp_label'] = df_tour['pdpurp_label'].astype(pd.CategoricalDtype([\"Work\",\"School\",\"Shop\",\"Meal\",\"Escort\",\"Personal Business\"]))\n",
    "\n",
    "df_tour['tlvorg_hr'] = df_tour['tlvorig'].apply(lambda row: int(math.floor(row/60)))\n",
    "\n",
    "\n",
    "df_trip['dpurp_label'] = df_trip['dpurp'].map(pdpurp_cat)\n",
    "df_trip['dpurp_label'] = df_trip['dpurp_label'].astype(pd.CategoricalDtype([\"Work\",\"School\",\"Shop\",\"Meal\",\"Escort\",\"Personal Business\"]))\n",
    "\n",
    "df_trip['dept_hr'] = df_trip['deptm'].apply(lambda row: int(math.floor(row/60)))\n",
    "\n",
    "# df_tour = df_tour.merge(df_person, how='left', on=['pno','hhno','source'])"
   ]
  },
  {
   "cell_type": "markdown",
   "metadata": {},
   "source": [
    "## departure hour"
   ]
  },
  {
   "cell_type": "raw",
   "metadata": {
    "vscode": {
     "languageId": "raw"
    }
   },
   "source": [
    ":::{.panel-tabset}\n",
    "### tour"
   ]
  },
  {
   "cell_type": "code",
   "execution_count": 4,
   "metadata": {
    "ExecuteTime": {
     "end_time": "2024-07-15T04:37:09.021826Z",
     "start_time": "2024-07-15T04:37:08.286683Z"
    },
    "collapsed": false,
    "execution": {
     "iopub.execute_input": "2025-06-19T05:31:02.395288Z",
     "iopub.status.busy": "2025-06-19T05:31:02.394291Z",
     "iopub.status.idle": "2025-06-19T05:31:03.322826Z",
     "shell.execute_reply": "2025-06-19T05:31:03.321833Z"
    }
   },
   "outputs": [
    {
     "data": {
      "text/html": [
       "        <script type=\"text/javascript\">\n",
       "        window.PlotlyConfig = {MathJaxConfig: 'local'};\n",
       "        if (window.MathJax && window.MathJax.Hub && window.MathJax.Hub.Config) {window.MathJax.Hub.Config({SVG: {font: \"STIX-Web\"}});}\n",
       "        </script>\n",
       "        <script type=\"module\">import \"https://cdn.plot.ly/plotly-3.0.1.min\"</script>\n",
       "        "
      ]
     },
     "metadata": {},
     "output_type": "display_data"
    },
    {
     "data": {
      "application/vnd.plotly.v1+json": {
       "config": {
        "plotlyServerURL": "https://plot.ly"
       },
       "data": [
        {
         "alignmentgroup": "True",
         "customdata": {
          "bdata": "AAAAAAAjtEAAAAAAACO0QAAAAAAAgKpAAAAAAACAqkAAAAAAAGyVQAAAAAAAbJVAAAAAAMA39kAAAAAAwDf2QAAAAAAANPRAAAAAAAA09EAAAAAA0HYGQQAAAADQdgZBAAAAAAAcIEEAAAAAABwgQQAAAABWFypBAAAAAFYXKkEAAAAAjGAsQQAAAACMYCxBAAAAAMioJkEAAAAAyKgmQQAAAAAiIyJBAAAAACIjIkEAAAAAsHodQQAAAACweh1BAAAAADj5GkEAAAAAOPkaQQAAAABIaxpBAAAAAEhrGkEAAAAA7JsXQQAAAADsmxdBAAAAAMxEFkEAAAAAzEQWQQAAAAC85RhBAAAAALzlGEEAAAAAmEAYQQAAAACYQBhBAAAAADiwFkEAAAAAOLAWQQAAAADgIwxBAAAAAOAjDEEAAAAA6FoEQQAAAADoWgRBAAAAADB8+EAAAAAAMHz4QAAAAACAc9lAAAAAAIBz2UAAAAAAgLTIQAAAAACAtMhA",
          "dtype": "f8",
          "shape": "24, 2"
         },
         "hovertemplate": "source=model<br>tlvorg_hr=%{x}<br>percentage=%{y}<br>toexpfac=%{customdata[0]}<br>sample_count=%{customdata[1]}<extra></extra>",
         "legendgroup": "model",
         "marker": {
          "color": "#91268F",
          "pattern": {
           "shape": ""
          }
         },
         "name": "model",
         "offsetgroup": "model",
         "orientation": "v",
         "showlegend": true,
         "textposition": "auto",
         "type": "bar",
         "x": {
          "bdata": "AAECAwQFBgcICQoLDA0ODxAREhMUFRYX",
          "dtype": "i1"
         },
         "xaxis": "x",
         "y": {
          "bdata": "IGFBxciLRT8OvOEhy1o8P5HHXmDP6yY/ObhI6dHFhz+6MONa+Z2FP6IVD8lLCZg/TefNnaA8sT+rN+Dkzeq7P2rlqPb4XL4/y+DvD8M+uD/9+xfIF2izP1EongDciq8/Mg8D+n7crD8Kh4Trn0SsP9ewNVnrQqk/fhQuq8fTpz+saQGD0KOqP1Z/Grsd86k/nqtmUbhGqD8zSe3rDRyeP503km2ax5U/6kHRdOEyij+O1il9gDtrP5pBeWQib1o/",
          "dtype": "f8"
         },
         "yaxis": "y"
        },
        {
         "alignmentgroup": "True",
         "customdata": {
          "bdata": "IMoFtQ9oiUAAAAAAAAAIQDJIgiVzd3VAAAAAAAAAAEDD3qmNrE+DQAAAAAAAAAhAz1lmmt4nzUAAAAAAAAA5QBNm0wfd2PFAAAAAAACAU0BCdRYFovkDQQAAAAAA4GdAlP/qiZB8FEEAAAAAAEiBQNRSZ0x2TSZBAAAAAABAk0AnlHw/ikYlQQAAAAAAeJRARtupF1F8GkEAAAAAAEiLQDUobUnKIQ9BAAAAAAAgh0AAq31C8k4QQQAAAAAAiINAczKhVTO6DEEAAAAAAFCEQFKovC8O3ghBAAAAAACggUAReRPB0TISQQAAAAAA0IJAk6db/6kVFEEAAAAAAKiDQMbuuz1mEw9BAAAAAAAAgkAv8b7vYQYUQQAAAAAAEIdAg82GecejCkEAAAAAANiAQIf3pqnB1wBBAAAAAACQdkBzGs8gnvbjQAAAAAAAoGJAYmDudsXGwEAAAAAAAABSQO81hKM3atJAAAAAAAAAQEB2/oGSxlSvQAAAAAAAACRA",
          "dtype": "f8",
          "shape": "24, 2"
         },
         "hovertemplate": "source=survey<br>tlvorg_hr=%{x}<br>percentage=%{y}<br>toexpfac=%{customdata[0]}<br>sample_count=%{customdata[1]}<extra></extra>",
         "legendgroup": "survey",
         "marker": {
          "color": "#8CC63E",
          "pattern": {
           "shape": ""
          }
         },
         "name": "survey",
         "offsetgroup": "survey",
         "orientation": "v",
         "showlegend": true,
         "textposition": "auto",
         "type": "bar",
         "x": {
          "bdata": "AAECAwQFBgcICQoLDA0ODxAREhMUFRYX",
          "dtype": "i1"
         },
         "xaxis": "x",
         "y": {
          "bdata": "KbVaxDUZJT8s87NFn9MRP+U19UxoCSA/pXwFEUU2aD8KTixOTaSNPxsTdSaMlqA/sbnxJkcDsT/dPw2GWIXCP0uYAnYBq8E/VZU3Y5/+tT8GZn+eZ9qpP2Tff0QOFqs/tKacVjLbpz/NzdXXmqakPzP/Whe1Oa4/5ZMTWNOtsD+8pMpAdM6pP9NkMqAiobA/XshQxmQfpj+yGVuxR/mbP9A4piQLlIA/yh1I4xHdWz9SbZNmt5VuP9ajq7a+BEo/",
          "dtype": "f8"
         },
         "yaxis": "y"
        }
       ],
       "layout": {
        "barmode": "group",
        "font": {
         "size": 11
        },
        "height": 400,
        "legend": {
         "title": {
          "text": "source"
         },
         "tracegroupgap": 0
        },
        "template": {
         "data": {
          "bar": [
           {
            "error_x": {
             "color": "rgb(36,36,36)"
            },
            "error_y": {
             "color": "rgb(36,36,36)"
            },
            "marker": {
             "line": {
              "color": "white",
              "width": 0.5
             },
             "pattern": {
              "fillmode": "overlay",
              "size": 10,
              "solidity": 0.2
             }
            },
            "type": "bar"
           }
          ],
          "barpolar": [
           {
            "marker": {
             "line": {
              "color": "white",
              "width": 0.5
             },
             "pattern": {
              "fillmode": "overlay",
              "size": 10,
              "solidity": 0.2
             }
            },
            "type": "barpolar"
           }
          ],
          "carpet": [
           {
            "aaxis": {
             "endlinecolor": "rgb(36,36,36)",
             "gridcolor": "white",
             "linecolor": "white",
             "minorgridcolor": "white",
             "startlinecolor": "rgb(36,36,36)"
            },
            "baxis": {
             "endlinecolor": "rgb(36,36,36)",
             "gridcolor": "white",
             "linecolor": "white",
             "minorgridcolor": "white",
             "startlinecolor": "rgb(36,36,36)"
            },
            "type": "carpet"
           }
          ],
          "choropleth": [
           {
            "colorbar": {
             "outlinewidth": 1,
             "tickcolor": "rgb(36,36,36)",
             "ticks": "outside"
            },
            "type": "choropleth"
           }
          ],
          "contour": [
           {
            "colorbar": {
             "outlinewidth": 1,
             "tickcolor": "rgb(36,36,36)",
             "ticks": "outside"
            },
            "colorscale": [
             [
              0.0,
              "#440154"
             ],
             [
              0.1111111111111111,
              "#482878"
             ],
             [
              0.2222222222222222,
              "#3e4989"
             ],
             [
              0.3333333333333333,
              "#31688e"
             ],
             [
              0.4444444444444444,
              "#26828e"
             ],
             [
              0.5555555555555556,
              "#1f9e89"
             ],
             [
              0.6666666666666666,
              "#35b779"
             ],
             [
              0.7777777777777778,
              "#6ece58"
             ],
             [
              0.8888888888888888,
              "#b5de2b"
             ],
             [
              1.0,
              "#fde725"
             ]
            ],
            "type": "contour"
           }
          ],
          "contourcarpet": [
           {
            "colorbar": {
             "outlinewidth": 1,
             "tickcolor": "rgb(36,36,36)",
             "ticks": "outside"
            },
            "type": "contourcarpet"
           }
          ],
          "heatmap": [
           {
            "colorbar": {
             "outlinewidth": 1,
             "tickcolor": "rgb(36,36,36)",
             "ticks": "outside"
            },
            "colorscale": [
             [
              0.0,
              "#440154"
             ],
             [
              0.1111111111111111,
              "#482878"
             ],
             [
              0.2222222222222222,
              "#3e4989"
             ],
             [
              0.3333333333333333,
              "#31688e"
             ],
             [
              0.4444444444444444,
              "#26828e"
             ],
             [
              0.5555555555555556,
              "#1f9e89"
             ],
             [
              0.6666666666666666,
              "#35b779"
             ],
             [
              0.7777777777777778,
              "#6ece58"
             ],
             [
              0.8888888888888888,
              "#b5de2b"
             ],
             [
              1.0,
              "#fde725"
             ]
            ],
            "type": "heatmap"
           }
          ],
          "histogram": [
           {
            "marker": {
             "line": {
              "color": "white",
              "width": 0.6
             }
            },
            "type": "histogram"
           }
          ],
          "histogram2d": [
           {
            "colorbar": {
             "outlinewidth": 1,
             "tickcolor": "rgb(36,36,36)",
             "ticks": "outside"
            },
            "colorscale": [
             [
              0.0,
              "#440154"
             ],
             [
              0.1111111111111111,
              "#482878"
             ],
             [
              0.2222222222222222,
              "#3e4989"
             ],
             [
              0.3333333333333333,
              "#31688e"
             ],
             [
              0.4444444444444444,
              "#26828e"
             ],
             [
              0.5555555555555556,
              "#1f9e89"
             ],
             [
              0.6666666666666666,
              "#35b779"
             ],
             [
              0.7777777777777778,
              "#6ece58"
             ],
             [
              0.8888888888888888,
              "#b5de2b"
             ],
             [
              1.0,
              "#fde725"
             ]
            ],
            "type": "histogram2d"
           }
          ],
          "histogram2dcontour": [
           {
            "colorbar": {
             "outlinewidth": 1,
             "tickcolor": "rgb(36,36,36)",
             "ticks": "outside"
            },
            "colorscale": [
             [
              0.0,
              "#440154"
             ],
             [
              0.1111111111111111,
              "#482878"
             ],
             [
              0.2222222222222222,
              "#3e4989"
             ],
             [
              0.3333333333333333,
              "#31688e"
             ],
             [
              0.4444444444444444,
              "#26828e"
             ],
             [
              0.5555555555555556,
              "#1f9e89"
             ],
             [
              0.6666666666666666,
              "#35b779"
             ],
             [
              0.7777777777777778,
              "#6ece58"
             ],
             [
              0.8888888888888888,
              "#b5de2b"
             ],
             [
              1.0,
              "#fde725"
             ]
            ],
            "type": "histogram2dcontour"
           }
          ],
          "mesh3d": [
           {
            "colorbar": {
             "outlinewidth": 1,
             "tickcolor": "rgb(36,36,36)",
             "ticks": "outside"
            },
            "type": "mesh3d"
           }
          ],
          "parcoords": [
           {
            "line": {
             "colorbar": {
              "outlinewidth": 1,
              "tickcolor": "rgb(36,36,36)",
              "ticks": "outside"
             }
            },
            "type": "parcoords"
           }
          ],
          "pie": [
           {
            "automargin": true,
            "type": "pie"
           }
          ],
          "scatter": [
           {
            "fillpattern": {
             "fillmode": "overlay",
             "size": 10,
             "solidity": 0.2
            },
            "type": "scatter"
           }
          ],
          "scatter3d": [
           {
            "line": {
             "colorbar": {
              "outlinewidth": 1,
              "tickcolor": "rgb(36,36,36)",
              "ticks": "outside"
             }
            },
            "marker": {
             "colorbar": {
              "outlinewidth": 1,
              "tickcolor": "rgb(36,36,36)",
              "ticks": "outside"
             }
            },
            "type": "scatter3d"
           }
          ],
          "scattercarpet": [
           {
            "marker": {
             "colorbar": {
              "outlinewidth": 1,
              "tickcolor": "rgb(36,36,36)",
              "ticks": "outside"
             }
            },
            "type": "scattercarpet"
           }
          ],
          "scattergeo": [
           {
            "marker": {
             "colorbar": {
              "outlinewidth": 1,
              "tickcolor": "rgb(36,36,36)",
              "ticks": "outside"
             }
            },
            "type": "scattergeo"
           }
          ],
          "scattergl": [
           {
            "marker": {
             "colorbar": {
              "outlinewidth": 1,
              "tickcolor": "rgb(36,36,36)",
              "ticks": "outside"
             }
            },
            "type": "scattergl"
           }
          ],
          "scattermap": [
           {
            "marker": {
             "colorbar": {
              "outlinewidth": 1,
              "tickcolor": "rgb(36,36,36)",
              "ticks": "outside"
             }
            },
            "type": "scattermap"
           }
          ],
          "scattermapbox": [
           {
            "marker": {
             "colorbar": {
              "outlinewidth": 1,
              "tickcolor": "rgb(36,36,36)",
              "ticks": "outside"
             }
            },
            "type": "scattermapbox"
           }
          ],
          "scatterpolar": [
           {
            "marker": {
             "colorbar": {
              "outlinewidth": 1,
              "tickcolor": "rgb(36,36,36)",
              "ticks": "outside"
             }
            },
            "type": "scatterpolar"
           }
          ],
          "scatterpolargl": [
           {
            "marker": {
             "colorbar": {
              "outlinewidth": 1,
              "tickcolor": "rgb(36,36,36)",
              "ticks": "outside"
             }
            },
            "type": "scatterpolargl"
           }
          ],
          "scatterternary": [
           {
            "marker": {
             "colorbar": {
              "outlinewidth": 1,
              "tickcolor": "rgb(36,36,36)",
              "ticks": "outside"
             }
            },
            "type": "scatterternary"
           }
          ],
          "surface": [
           {
            "colorbar": {
             "outlinewidth": 1,
             "tickcolor": "rgb(36,36,36)",
             "ticks": "outside"
            },
            "colorscale": [
             [
              0.0,
              "#440154"
             ],
             [
              0.1111111111111111,
              "#482878"
             ],
             [
              0.2222222222222222,
              "#3e4989"
             ],
             [
              0.3333333333333333,
              "#31688e"
             ],
             [
              0.4444444444444444,
              "#26828e"
             ],
             [
              0.5555555555555556,
              "#1f9e89"
             ],
             [
              0.6666666666666666,
              "#35b779"
             ],
             [
              0.7777777777777778,
              "#6ece58"
             ],
             [
              0.8888888888888888,
              "#b5de2b"
             ],
             [
              1.0,
              "#fde725"
             ]
            ],
            "type": "surface"
           }
          ],
          "table": [
           {
            "cells": {
             "fill": {
              "color": "rgb(237,237,237)"
             },
             "line": {
              "color": "white"
             }
            },
            "header": {
             "fill": {
              "color": "rgb(217,217,217)"
             },
             "line": {
              "color": "white"
             }
            },
            "type": "table"
           }
          ]
         },
         "layout": {
          "annotationdefaults": {
           "arrowhead": 0,
           "arrowwidth": 1
          },
          "autotypenumbers": "strict",
          "coloraxis": {
           "colorbar": {
            "outlinewidth": 1,
            "tickcolor": "rgb(36,36,36)",
            "ticks": "outside"
           }
          },
          "colorscale": {
           "diverging": [
            [
             0.0,
             "rgb(103,0,31)"
            ],
            [
             0.1,
             "rgb(178,24,43)"
            ],
            [
             0.2,
             "rgb(214,96,77)"
            ],
            [
             0.3,
             "rgb(244,165,130)"
            ],
            [
             0.4,
             "rgb(253,219,199)"
            ],
            [
             0.5,
             "rgb(247,247,247)"
            ],
            [
             0.6,
             "rgb(209,229,240)"
            ],
            [
             0.7,
             "rgb(146,197,222)"
            ],
            [
             0.8,
             "rgb(67,147,195)"
            ],
            [
             0.9,
             "rgb(33,102,172)"
            ],
            [
             1.0,
             "rgb(5,48,97)"
            ]
           ],
           "sequential": [
            [
             0.0,
             "#440154"
            ],
            [
             0.1111111111111111,
             "#482878"
            ],
            [
             0.2222222222222222,
             "#3e4989"
            ],
            [
             0.3333333333333333,
             "#31688e"
            ],
            [
             0.4444444444444444,
             "#26828e"
            ],
            [
             0.5555555555555556,
             "#1f9e89"
            ],
            [
             0.6666666666666666,
             "#35b779"
            ],
            [
             0.7777777777777778,
             "#6ece58"
            ],
            [
             0.8888888888888888,
             "#b5de2b"
            ],
            [
             1.0,
             "#fde725"
            ]
           ],
           "sequentialminus": [
            [
             0.0,
             "#440154"
            ],
            [
             0.1111111111111111,
             "#482878"
            ],
            [
             0.2222222222222222,
             "#3e4989"
            ],
            [
             0.3333333333333333,
             "#31688e"
            ],
            [
             0.4444444444444444,
             "#26828e"
            ],
            [
             0.5555555555555556,
             "#1f9e89"
            ],
            [
             0.6666666666666666,
             "#35b779"
            ],
            [
             0.7777777777777778,
             "#6ece58"
            ],
            [
             0.8888888888888888,
             "#b5de2b"
            ],
            [
             1.0,
             "#fde725"
            ]
           ]
          },
          "colorway": [
           "#91268F",
           "#8CC63E",
           "#00A7A0",
           "#F05A28",
           "#4C4C4C",
           "#630460",
           "#9f3913",
           "#588527",
           "#00716c",
           "#3e4040"
          ],
          "font": {
           "color": "rgb(36,36,36)",
           "family": "Poppins",
           "size": 11
          },
          "geo": {
           "bgcolor": "white",
           "lakecolor": "white",
           "landcolor": "white",
           "showlakes": true,
           "showland": true,
           "subunitcolor": "white"
          },
          "hoverlabel": {
           "align": "left"
          },
          "hovermode": "closest",
          "mapbox": {
           "style": "light"
          },
          "paper_bgcolor": "white",
          "plot_bgcolor": "white",
          "polar": {
           "angularaxis": {
            "gridcolor": "rgb(232,232,232)",
            "linecolor": "rgb(36,36,36)",
            "showgrid": false,
            "showline": true,
            "ticks": "outside"
           },
           "bgcolor": "white",
           "radialaxis": {
            "gridcolor": "rgb(232,232,232)",
            "linecolor": "rgb(36,36,36)",
            "showgrid": false,
            "showline": true,
            "ticks": "outside"
           }
          },
          "scene": {
           "xaxis": {
            "backgroundcolor": "white",
            "gridcolor": "rgb(232,232,232)",
            "gridwidth": 2,
            "linecolor": "rgb(36,36,36)",
            "showbackground": true,
            "showgrid": false,
            "showline": true,
            "ticks": "outside",
            "zeroline": false,
            "zerolinecolor": "rgb(36,36,36)"
           },
           "yaxis": {
            "backgroundcolor": "white",
            "gridcolor": "rgb(232,232,232)",
            "gridwidth": 2,
            "linecolor": "rgb(36,36,36)",
            "showbackground": true,
            "showgrid": false,
            "showline": true,
            "ticks": "outside",
            "zeroline": false,
            "zerolinecolor": "rgb(36,36,36)"
           },
           "zaxis": {
            "backgroundcolor": "white",
            "gridcolor": "rgb(232,232,232)",
            "gridwidth": 2,
            "linecolor": "rgb(36,36,36)",
            "showbackground": true,
            "showgrid": false,
            "showline": true,
            "ticks": "outside",
            "zeroline": false,
            "zerolinecolor": "rgb(36,36,36)"
           }
          },
          "shapedefaults": {
           "fillcolor": "black",
           "line": {
            "width": 0
           },
           "opacity": 0.3
          },
          "ternary": {
           "aaxis": {
            "gridcolor": "rgb(232,232,232)",
            "linecolor": "rgb(36,36,36)",
            "showgrid": false,
            "showline": true,
            "ticks": "outside"
           },
           "baxis": {
            "gridcolor": "rgb(232,232,232)",
            "linecolor": "rgb(36,36,36)",
            "showgrid": false,
            "showline": true,
            "ticks": "outside"
           },
           "bgcolor": "white",
           "caxis": {
            "gridcolor": "rgb(232,232,232)",
            "linecolor": "rgb(36,36,36)",
            "showgrid": false,
            "showline": true,
            "ticks": "outside"
           }
          },
          "title": {
           "x": 0.05
          },
          "xaxis": {
           "automargin": true,
           "gridcolor": "rgb(232,232,232)",
           "linecolor": "rgb(36,36,36)",
           "showgrid": false,
           "showline": true,
           "ticks": "outside",
           "title": {
            "standoff": 15
           },
           "zeroline": false,
           "zerolinecolor": "rgb(36,36,36)"
          },
          "yaxis": {
           "automargin": true,
           "gridcolor": "rgb(232,232,232)",
           "linecolor": "rgb(36,36,36)",
           "showgrid": false,
           "showline": true,
           "ticks": "outside",
           "title": {
            "standoff": 15
           },
           "zeroline": false,
           "zerolinecolor": "rgb(36,36,36)"
          }
         }
        },
        "title": {
         "text": "tour origin departure hour"
        },
        "width": 700,
        "xaxis": {
         "anchor": "y",
         "categoryorder": "category ascending",
         "domain": [
          0.0,
          1.0
         ],
         "dtick": 1,
         "title": {
          "text": "tlvorg_hr"
         }
        },
        "yaxis": {
         "anchor": "x",
         "domain": [
          0.0,
          1.0
         ],
         "tickformat": ".0%",
         "title": {
          "text": "percentage"
         }
        }
       }
      },
      "text/html": [
       "<div>            <script src=\"https://cdnjs.cloudflare.com/ajax/libs/mathjax/2.7.5/MathJax.js?config=TeX-AMS-MML_SVG\"></script><script type=\"text/javascript\">if (window.MathJax && window.MathJax.Hub && window.MathJax.Hub.Config) {window.MathJax.Hub.Config({SVG: {font: \"STIX-Web\"}});}</script>                <script type=\"text/javascript\">window.PlotlyConfig = {MathJaxConfig: 'local'};</script>\n",
       "        <script charset=\"utf-8\" src=\"https://cdn.plot.ly/plotly-3.0.1.min.js\"></script>                <div id=\"827ad66d-fa8c-4731-a9ea-ffdcbafe4810\" class=\"plotly-graph-div\" style=\"height:400px; width:700px;\"></div>            <script type=\"text/javascript\">                window.PLOTLYENV=window.PLOTLYENV || {};                                if (document.getElementById(\"827ad66d-fa8c-4731-a9ea-ffdcbafe4810\")) {                    Plotly.newPlot(                        \"827ad66d-fa8c-4731-a9ea-ffdcbafe4810\",                        [{\"alignmentgroup\":\"True\",\"customdata\":{\"dtype\":\"f8\",\"bdata\":\"AAAAAAAjtEAAAAAAACO0QAAAAAAAgKpAAAAAAACAqkAAAAAAAGyVQAAAAAAAbJVAAAAAAMA39kAAAAAAwDf2QAAAAAAANPRAAAAAAAA09EAAAAAA0HYGQQAAAADQdgZBAAAAAAAcIEEAAAAAABwgQQAAAABWFypBAAAAAFYXKkEAAAAAjGAsQQAAAACMYCxBAAAAAMioJkEAAAAAyKgmQQAAAAAiIyJBAAAAACIjIkEAAAAAsHodQQAAAACweh1BAAAAADj5GkEAAAAAOPkaQQAAAABIaxpBAAAAAEhrGkEAAAAA7JsXQQAAAADsmxdBAAAAAMxEFkEAAAAAzEQWQQAAAAC85RhBAAAAALzlGEEAAAAAmEAYQQAAAACYQBhBAAAAADiwFkEAAAAAOLAWQQAAAADgIwxBAAAAAOAjDEEAAAAA6FoEQQAAAADoWgRBAAAAADB8+EAAAAAAMHz4QAAAAACAc9lAAAAAAIBz2UAAAAAAgLTIQAAAAACAtMhA\",\"shape\":\"24, 2\"},\"hovertemplate\":\"source=model\\u003cbr\\u003etlvorg_hr=%{x}\\u003cbr\\u003epercentage=%{y}\\u003cbr\\u003etoexpfac=%{customdata[0]}\\u003cbr\\u003esample_count=%{customdata[1]}\\u003cextra\\u003e\\u003c\\u002fextra\\u003e\",\"legendgroup\":\"model\",\"marker\":{\"color\":\"#91268F\",\"pattern\":{\"shape\":\"\"}},\"name\":\"model\",\"offsetgroup\":\"model\",\"orientation\":\"v\",\"showlegend\":true,\"textposition\":\"auto\",\"x\":{\"dtype\":\"i1\",\"bdata\":\"AAECAwQFBgcICQoLDA0ODxAREhMUFRYX\"},\"xaxis\":\"x\",\"y\":{\"dtype\":\"f8\",\"bdata\":\"IGFBxciLRT8OvOEhy1o8P5HHXmDP6yY\\u002fObhI6dHFhz+6MONa+Z2FP6IVD8lLCZg\\u002fTefNnaA8sT+rN+Dkzeq7P2rlqPb4XL4\\u002fy+DvD8M+uD\\u002f9+xfIF2izP1EongDciq8\\u002fMg8D+n7crD8Kh4Trn0SsP9ewNVnrQqk\\u002ffhQuq8fTpz+saQGD0KOqP1Z\\u002fGrsd86k\\u002fnqtmUbhGqD8zSe3rDRyeP503km2ax5U\\u002f6kHRdOEyij+O1il9gDtrP5pBeWQib1o\\u002f\"},\"yaxis\":\"y\",\"type\":\"bar\"},{\"alignmentgroup\":\"True\",\"customdata\":{\"dtype\":\"f8\",\"bdata\":\"IMoFtQ9oiUAAAAAAAAAIQDJIgiVzd3VAAAAAAAAAAEDD3qmNrE+DQAAAAAAAAAhAz1lmmt4nzUAAAAAAAAA5QBNm0wfd2PFAAAAAAACAU0BCdRYFovkDQQAAAAAA4GdAlP\\u002fqiZB8FEEAAAAAAEiBQNRSZ0x2TSZBAAAAAABAk0AnlHw\\u002fikYlQQAAAAAAeJRARtupF1F8GkEAAAAAAEiLQDUobUnKIQ9BAAAAAAAgh0AAq31C8k4QQQAAAAAAiINAczKhVTO6DEEAAAAAAFCEQFKovC8O3ghBAAAAAACggUAReRPB0TISQQAAAAAA0IJAk6db\\u002f6kVFEEAAAAAAKiDQMbuuz1mEw9BAAAAAAAAgkAv8b7vYQYUQQAAAAAAEIdAg82GecejCkEAAAAAANiAQIf3pqnB1wBBAAAAAACQdkBzGs8gnvbjQAAAAAAAoGJAYmDudsXGwEAAAAAAAABSQO81hKM3atJAAAAAAAAAQEB2\\u002foGSxlSvQAAAAAAAACRA\",\"shape\":\"24, 2\"},\"hovertemplate\":\"source=survey\\u003cbr\\u003etlvorg_hr=%{x}\\u003cbr\\u003epercentage=%{y}\\u003cbr\\u003etoexpfac=%{customdata[0]}\\u003cbr\\u003esample_count=%{customdata[1]}\\u003cextra\\u003e\\u003c\\u002fextra\\u003e\",\"legendgroup\":\"survey\",\"marker\":{\"color\":\"#8CC63E\",\"pattern\":{\"shape\":\"\"}},\"name\":\"survey\",\"offsetgroup\":\"survey\",\"orientation\":\"v\",\"showlegend\":true,\"textposition\":\"auto\",\"x\":{\"dtype\":\"i1\",\"bdata\":\"AAECAwQFBgcICQoLDA0ODxAREhMUFRYX\"},\"xaxis\":\"x\",\"y\":{\"dtype\":\"f8\",\"bdata\":\"KbVaxDUZJT8s87NFn9MRP+U19UxoCSA\\u002fpXwFEUU2aD8KTixOTaSNPxsTdSaMlqA\\u002fsbnxJkcDsT\\u002fdPw2GWIXCP0uYAnYBq8E\\u002fVZU3Y5\\u002f+tT8GZn+eZ9qpP2Tff0QOFqs\\u002ftKacVjLbpz\\u002fNzdXXmqakPzP\\u002fWhe1Oa4\\u002f5ZMTWNOtsD+8pMpAdM6pP9NkMqAiobA\\u002fXshQxmQfpj+yGVuxR\\u002fmbP9A4piQLlIA\\u002fyh1I4xHdWz9SbZNmt5VuP9ajq7a+BEo\\u002f\"},\"yaxis\":\"y\",\"type\":\"bar\"}],                        {\"template\":{\"data\":{\"barpolar\":[{\"marker\":{\"line\":{\"color\":\"white\",\"width\":0.5},\"pattern\":{\"fillmode\":\"overlay\",\"size\":10,\"solidity\":0.2}},\"type\":\"barpolar\"}],\"bar\":[{\"error_x\":{\"color\":\"rgb(36,36,36)\"},\"error_y\":{\"color\":\"rgb(36,36,36)\"},\"marker\":{\"line\":{\"color\":\"white\",\"width\":0.5},\"pattern\":{\"fillmode\":\"overlay\",\"size\":10,\"solidity\":0.2}},\"type\":\"bar\"}],\"carpet\":[{\"aaxis\":{\"endlinecolor\":\"rgb(36,36,36)\",\"gridcolor\":\"white\",\"linecolor\":\"white\",\"minorgridcolor\":\"white\",\"startlinecolor\":\"rgb(36,36,36)\"},\"baxis\":{\"endlinecolor\":\"rgb(36,36,36)\",\"gridcolor\":\"white\",\"linecolor\":\"white\",\"minorgridcolor\":\"white\",\"startlinecolor\":\"rgb(36,36,36)\"},\"type\":\"carpet\"}],\"choropleth\":[{\"colorbar\":{\"outlinewidth\":1,\"tickcolor\":\"rgb(36,36,36)\",\"ticks\":\"outside\"},\"type\":\"choropleth\"}],\"contourcarpet\":[{\"colorbar\":{\"outlinewidth\":1,\"tickcolor\":\"rgb(36,36,36)\",\"ticks\":\"outside\"},\"type\":\"contourcarpet\"}],\"contour\":[{\"colorbar\":{\"outlinewidth\":1,\"tickcolor\":\"rgb(36,36,36)\",\"ticks\":\"outside\"},\"colorscale\":[[0.0,\"#440154\"],[0.1111111111111111,\"#482878\"],[0.2222222222222222,\"#3e4989\"],[0.3333333333333333,\"#31688e\"],[0.4444444444444444,\"#26828e\"],[0.5555555555555556,\"#1f9e89\"],[0.6666666666666666,\"#35b779\"],[0.7777777777777778,\"#6ece58\"],[0.8888888888888888,\"#b5de2b\"],[1.0,\"#fde725\"]],\"type\":\"contour\"}],\"heatmap\":[{\"colorbar\":{\"outlinewidth\":1,\"tickcolor\":\"rgb(36,36,36)\",\"ticks\":\"outside\"},\"colorscale\":[[0.0,\"#440154\"],[0.1111111111111111,\"#482878\"],[0.2222222222222222,\"#3e4989\"],[0.3333333333333333,\"#31688e\"],[0.4444444444444444,\"#26828e\"],[0.5555555555555556,\"#1f9e89\"],[0.6666666666666666,\"#35b779\"],[0.7777777777777778,\"#6ece58\"],[0.8888888888888888,\"#b5de2b\"],[1.0,\"#fde725\"]],\"type\":\"heatmap\"}],\"histogram2dcontour\":[{\"colorbar\":{\"outlinewidth\":1,\"tickcolor\":\"rgb(36,36,36)\",\"ticks\":\"outside\"},\"colorscale\":[[0.0,\"#440154\"],[0.1111111111111111,\"#482878\"],[0.2222222222222222,\"#3e4989\"],[0.3333333333333333,\"#31688e\"],[0.4444444444444444,\"#26828e\"],[0.5555555555555556,\"#1f9e89\"],[0.6666666666666666,\"#35b779\"],[0.7777777777777778,\"#6ece58\"],[0.8888888888888888,\"#b5de2b\"],[1.0,\"#fde725\"]],\"type\":\"histogram2dcontour\"}],\"histogram2d\":[{\"colorbar\":{\"outlinewidth\":1,\"tickcolor\":\"rgb(36,36,36)\",\"ticks\":\"outside\"},\"colorscale\":[[0.0,\"#440154\"],[0.1111111111111111,\"#482878\"],[0.2222222222222222,\"#3e4989\"],[0.3333333333333333,\"#31688e\"],[0.4444444444444444,\"#26828e\"],[0.5555555555555556,\"#1f9e89\"],[0.6666666666666666,\"#35b779\"],[0.7777777777777778,\"#6ece58\"],[0.8888888888888888,\"#b5de2b\"],[1.0,\"#fde725\"]],\"type\":\"histogram2d\"}],\"histogram\":[{\"marker\":{\"line\":{\"color\":\"white\",\"width\":0.6}},\"type\":\"histogram\"}],\"mesh3d\":[{\"colorbar\":{\"outlinewidth\":1,\"tickcolor\":\"rgb(36,36,36)\",\"ticks\":\"outside\"},\"type\":\"mesh3d\"}],\"parcoords\":[{\"line\":{\"colorbar\":{\"outlinewidth\":1,\"tickcolor\":\"rgb(36,36,36)\",\"ticks\":\"outside\"}},\"type\":\"parcoords\"}],\"pie\":[{\"automargin\":true,\"type\":\"pie\"}],\"scatter3d\":[{\"line\":{\"colorbar\":{\"outlinewidth\":1,\"tickcolor\":\"rgb(36,36,36)\",\"ticks\":\"outside\"}},\"marker\":{\"colorbar\":{\"outlinewidth\":1,\"tickcolor\":\"rgb(36,36,36)\",\"ticks\":\"outside\"}},\"type\":\"scatter3d\"}],\"scattercarpet\":[{\"marker\":{\"colorbar\":{\"outlinewidth\":1,\"tickcolor\":\"rgb(36,36,36)\",\"ticks\":\"outside\"}},\"type\":\"scattercarpet\"}],\"scattergeo\":[{\"marker\":{\"colorbar\":{\"outlinewidth\":1,\"tickcolor\":\"rgb(36,36,36)\",\"ticks\":\"outside\"}},\"type\":\"scattergeo\"}],\"scattergl\":[{\"marker\":{\"colorbar\":{\"outlinewidth\":1,\"tickcolor\":\"rgb(36,36,36)\",\"ticks\":\"outside\"}},\"type\":\"scattergl\"}],\"scattermapbox\":[{\"marker\":{\"colorbar\":{\"outlinewidth\":1,\"tickcolor\":\"rgb(36,36,36)\",\"ticks\":\"outside\"}},\"type\":\"scattermapbox\"}],\"scattermap\":[{\"marker\":{\"colorbar\":{\"outlinewidth\":1,\"tickcolor\":\"rgb(36,36,36)\",\"ticks\":\"outside\"}},\"type\":\"scattermap\"}],\"scatterpolargl\":[{\"marker\":{\"colorbar\":{\"outlinewidth\":1,\"tickcolor\":\"rgb(36,36,36)\",\"ticks\":\"outside\"}},\"type\":\"scatterpolargl\"}],\"scatterpolar\":[{\"marker\":{\"colorbar\":{\"outlinewidth\":1,\"tickcolor\":\"rgb(36,36,36)\",\"ticks\":\"outside\"}},\"type\":\"scatterpolar\"}],\"scatter\":[{\"fillpattern\":{\"fillmode\":\"overlay\",\"size\":10,\"solidity\":0.2},\"type\":\"scatter\"}],\"scatterternary\":[{\"marker\":{\"colorbar\":{\"outlinewidth\":1,\"tickcolor\":\"rgb(36,36,36)\",\"ticks\":\"outside\"}},\"type\":\"scatterternary\"}],\"surface\":[{\"colorbar\":{\"outlinewidth\":1,\"tickcolor\":\"rgb(36,36,36)\",\"ticks\":\"outside\"},\"colorscale\":[[0.0,\"#440154\"],[0.1111111111111111,\"#482878\"],[0.2222222222222222,\"#3e4989\"],[0.3333333333333333,\"#31688e\"],[0.4444444444444444,\"#26828e\"],[0.5555555555555556,\"#1f9e89\"],[0.6666666666666666,\"#35b779\"],[0.7777777777777778,\"#6ece58\"],[0.8888888888888888,\"#b5de2b\"],[1.0,\"#fde725\"]],\"type\":\"surface\"}],\"table\":[{\"cells\":{\"fill\":{\"color\":\"rgb(237,237,237)\"},\"line\":{\"color\":\"white\"}},\"header\":{\"fill\":{\"color\":\"rgb(217,217,217)\"},\"line\":{\"color\":\"white\"}},\"type\":\"table\"}]},\"layout\":{\"annotationdefaults\":{\"arrowhead\":0,\"arrowwidth\":1},\"autotypenumbers\":\"strict\",\"coloraxis\":{\"colorbar\":{\"outlinewidth\":1,\"tickcolor\":\"rgb(36,36,36)\",\"ticks\":\"outside\"}},\"colorscale\":{\"diverging\":[[0.0,\"rgb(103,0,31)\"],[0.1,\"rgb(178,24,43)\"],[0.2,\"rgb(214,96,77)\"],[0.3,\"rgb(244,165,130)\"],[0.4,\"rgb(253,219,199)\"],[0.5,\"rgb(247,247,247)\"],[0.6,\"rgb(209,229,240)\"],[0.7,\"rgb(146,197,222)\"],[0.8,\"rgb(67,147,195)\"],[0.9,\"rgb(33,102,172)\"],[1.0,\"rgb(5,48,97)\"]],\"sequential\":[[0.0,\"#440154\"],[0.1111111111111111,\"#482878\"],[0.2222222222222222,\"#3e4989\"],[0.3333333333333333,\"#31688e\"],[0.4444444444444444,\"#26828e\"],[0.5555555555555556,\"#1f9e89\"],[0.6666666666666666,\"#35b779\"],[0.7777777777777778,\"#6ece58\"],[0.8888888888888888,\"#b5de2b\"],[1.0,\"#fde725\"]],\"sequentialminus\":[[0.0,\"#440154\"],[0.1111111111111111,\"#482878\"],[0.2222222222222222,\"#3e4989\"],[0.3333333333333333,\"#31688e\"],[0.4444444444444444,\"#26828e\"],[0.5555555555555556,\"#1f9e89\"],[0.6666666666666666,\"#35b779\"],[0.7777777777777778,\"#6ece58\"],[0.8888888888888888,\"#b5de2b\"],[1.0,\"#fde725\"]]},\"colorway\":[\"#91268F\",\"#8CC63E\",\"#00A7A0\",\"#F05A28\",\"#4C4C4C\",\"#630460\",\"#9f3913\",\"#588527\",\"#00716c\",\"#3e4040\"],\"font\":{\"color\":\"rgb(36,36,36)\",\"family\":\"Poppins\",\"size\":11},\"geo\":{\"bgcolor\":\"white\",\"lakecolor\":\"white\",\"landcolor\":\"white\",\"showlakes\":true,\"showland\":true,\"subunitcolor\":\"white\"},\"hoverlabel\":{\"align\":\"left\"},\"hovermode\":\"closest\",\"mapbox\":{\"style\":\"light\"},\"paper_bgcolor\":\"white\",\"plot_bgcolor\":\"white\",\"polar\":{\"angularaxis\":{\"gridcolor\":\"rgb(232,232,232)\",\"linecolor\":\"rgb(36,36,36)\",\"showgrid\":false,\"showline\":true,\"ticks\":\"outside\"},\"bgcolor\":\"white\",\"radialaxis\":{\"gridcolor\":\"rgb(232,232,232)\",\"linecolor\":\"rgb(36,36,36)\",\"showgrid\":false,\"showline\":true,\"ticks\":\"outside\"}},\"scene\":{\"xaxis\":{\"backgroundcolor\":\"white\",\"gridcolor\":\"rgb(232,232,232)\",\"gridwidth\":2,\"linecolor\":\"rgb(36,36,36)\",\"showbackground\":true,\"showgrid\":false,\"showline\":true,\"ticks\":\"outside\",\"zeroline\":false,\"zerolinecolor\":\"rgb(36,36,36)\"},\"yaxis\":{\"backgroundcolor\":\"white\",\"gridcolor\":\"rgb(232,232,232)\",\"gridwidth\":2,\"linecolor\":\"rgb(36,36,36)\",\"showbackground\":true,\"showgrid\":false,\"showline\":true,\"ticks\":\"outside\",\"zeroline\":false,\"zerolinecolor\":\"rgb(36,36,36)\"},\"zaxis\":{\"backgroundcolor\":\"white\",\"gridcolor\":\"rgb(232,232,232)\",\"gridwidth\":2,\"linecolor\":\"rgb(36,36,36)\",\"showbackground\":true,\"showgrid\":false,\"showline\":true,\"ticks\":\"outside\",\"zeroline\":false,\"zerolinecolor\":\"rgb(36,36,36)\"}},\"shapedefaults\":{\"fillcolor\":\"black\",\"line\":{\"width\":0},\"opacity\":0.3},\"ternary\":{\"aaxis\":{\"gridcolor\":\"rgb(232,232,232)\",\"linecolor\":\"rgb(36,36,36)\",\"showgrid\":false,\"showline\":true,\"ticks\":\"outside\"},\"baxis\":{\"gridcolor\":\"rgb(232,232,232)\",\"linecolor\":\"rgb(36,36,36)\",\"showgrid\":false,\"showline\":true,\"ticks\":\"outside\"},\"bgcolor\":\"white\",\"caxis\":{\"gridcolor\":\"rgb(232,232,232)\",\"linecolor\":\"rgb(36,36,36)\",\"showgrid\":false,\"showline\":true,\"ticks\":\"outside\"}},\"title\":{\"x\":0.05},\"xaxis\":{\"automargin\":true,\"gridcolor\":\"rgb(232,232,232)\",\"linecolor\":\"rgb(36,36,36)\",\"showgrid\":false,\"showline\":true,\"ticks\":\"outside\",\"title\":{\"standoff\":15},\"zeroline\":false,\"zerolinecolor\":\"rgb(36,36,36)\"},\"yaxis\":{\"automargin\":true,\"gridcolor\":\"rgb(232,232,232)\",\"linecolor\":\"rgb(36,36,36)\",\"showgrid\":false,\"showline\":true,\"ticks\":\"outside\",\"title\":{\"standoff\":15},\"zeroline\":false,\"zerolinecolor\":\"rgb(36,36,36)\"}}},\"xaxis\":{\"anchor\":\"y\",\"domain\":[0.0,1.0],\"title\":{\"text\":\"tlvorg_hr\"},\"dtick\":1,\"categoryorder\":\"category ascending\"},\"yaxis\":{\"anchor\":\"x\",\"domain\":[0.0,1.0],\"title\":{\"text\":\"percentage\"},\"tickformat\":\".0%\"},\"legend\":{\"title\":{\"text\":\"source\"},\"tracegroupgap\":0},\"title\":{\"text\":\"tour origin departure hour\"},\"barmode\":\"group\",\"font\":{\"size\":11},\"height\":400,\"width\":700},                        {\"responsive\": true}                    ).then(function(){\n",
       "                            \n",
       "var gd = document.getElementById('827ad66d-fa8c-4731-a9ea-ffdcbafe4810');\n",
       "var x = new MutationObserver(function (mutations, observer) {{\n",
       "        var display = window.getComputedStyle(gd).display;\n",
       "        if (!display || display === 'none') {{\n",
       "            console.log([gd, 'removed!']);\n",
       "            Plotly.purge(gd);\n",
       "            observer.disconnect();\n",
       "        }}\n",
       "}});\n",
       "\n",
       "// Listen for the removal of the full notebook cells\n",
       "var notebookContainer = gd.closest('#notebook-container');\n",
       "if (notebookContainer) {{\n",
       "    x.observe(notebookContainer, {childList: true});\n",
       "}}\n",
       "\n",
       "// Listen for the clearing of the current output cell\n",
       "var outputEl = gd.closest('.output');\n",
       "if (outputEl) {{\n",
       "    x.observe(outputEl, {childList: true});\n",
       "}}\n",
       "\n",
       "                        })                };            </script>        </div>"
      ]
     },
     "metadata": {},
     "output_type": "display_data"
    }
   ],
   "source": [
    "df_plot = df_tour.groupby(['tlvorg_hr','source'])['toexpfac'].agg(sample_count='size', toexpfac='sum').reset_index()\n",
    "df_plot['percentage'] = df_plot.groupby(['source'], group_keys=False)['toexpfac']. \\\n",
    "    apply(lambda x: x / float(x.sum()))\n",
    "\n",
    "fig = px.bar(df_plot, x=\"tlvorg_hr\", y=\"percentage\", color=\"source\",\n",
    "             barmode=\"group\",title=\"tour origin departure hour\",\n",
    "             hover_data=['toexpfac','sample_count'])\n",
    "fig.update_layout(height=400, width=700, font=dict(size=11),\n",
    "                  xaxis = dict(dtick = 1, categoryorder='category ascending'),\n",
    "                  yaxis=dict(tickformat=\".0%\"))\n",
    "fig.show()"
   ]
  },
  {
   "cell_type": "raw",
   "metadata": {
    "vscode": {
     "languageId": "raw"
    }
   },
   "source": [
    "### trip"
   ]
  },
  {
   "cell_type": "code",
   "execution_count": 5,
   "metadata": {
    "execution": {
     "iopub.execute_input": "2025-06-19T05:31:03.326815Z",
     "iopub.status.busy": "2025-06-19T05:31:03.325817Z",
     "iopub.status.idle": "2025-06-19T05:31:05.068165Z",
     "shell.execute_reply": "2025-06-19T05:31:05.067170Z"
    }
   },
   "outputs": [
    {
     "data": {
      "application/vnd.plotly.v1+json": {
       "config": {
        "plotlyServerURL": "https://plot.ly"
       },
       "data": [
        {
         "alignmentgroup": "True",
         "customdata": {
          "bdata": "AAAAAMDk40AAAAAAwOTjQAAAAADApNxAAAAAAMCk3EAAAAAAQPDUQAAAAABA8NRAAAAAAKCI+UAAAAAAoIj5QAAAAACwJP1AAAAAALAk/UAAAAAAMN4OQQAAAAAw3g5BAAAAACLeJUEAAAAAIt4lQQAAAACHzDJBAAAAAIfMMkEAAAAA1k82QQAAAADWTzZBAAAAACg0NUEAAAAAKDQ1QQAAAACjQTZBAAAAAKNBNkEAAAAALok1QQAAAAAuiTVBAAAAAK+1NEEAAAAAr7U0QQAAAAC5FDZBAAAAALkUNkEAAAAApas0QQAAAAClqzRBAAAAAO/ROEEAAAAA79E4QQAAAACMZztBAAAAAIxnO0EAAAAAnnk6QQAAAACeeTpBAAAAAEeYNUEAAAAAR5g1QQAAAAD3VTBBAAAAAPdVMEEAAAAAusQpQQAAAAC6xClBAAAAAKR2HEEAAAAApHYcQQAAAACcuhBBAAAAAJy6EEEAAAAAePgHQQAAAAB4+AdB",
          "dtype": "f8",
          "shape": "24, 2"
         },
         "hovertemplate": "source=model<br>dept_hr=%{x}<br>percentage=%{y}<br>trexpfac=%{customdata[0]}<br>sample_count=%{customdata[1]}<extra></extra>",
         "legendgroup": "model",
         "marker": {
          "color": "#91268F",
          "pattern": {
           "shape": ""
          }
         },
         "name": "model",
         "offsetgroup": "model",
         "orientation": "v",
         "showlegend": true,
         "textposition": "auto",
         "type": "bar",
         "x": {
          "bdata": "AAECAwQFBgcICQoLDA0ODxAREhMUFRYX",
          "dtype": "i1"
         },
         "xaxis": "x",
         "y": {
          "bdata": "6CxqlrKWXj/j9E/DegVWP+BLaEoBGVA/NGiyd2mhcz+/fUfG1md2P3nJPJJEu4c/WWa4LuTPoD/vM3yT0uesP4BDCqhOJ7E/ZRxaQTZNsD/mN7oJZByxP3vhXiOUjrA/EPD5F/XXrz/6bYdH3PmwP2kyLWuFyK8/NZexEfUUsz/XpstynBG1PzkMtFSwWrQ/168elS+asD9cEzlVQh6pP8JgY1qez6M/TOe9vwfilT93vSkHA7mJP26bFL3EbYI/",
          "dtype": "f8"
         },
         "yaxis": "y"
        },
        {
         "alignmentgroup": "True",
         "customdata": {
          "bdata": "Uu/Ciyeoy0AAAAAAAIBCQGGL3h8Is51AAAAAAAAAJEDoZJlx/NehQAAAAAAAADJAKQw7bh8nykAAAAAAAAA/QHBo17z61PBAAAAAAACAVEDoiKJ6H8EFQQAAAAAAwGpAXuXZCQr0FUEAAAAAACCFQLm0fNzjfC9BAAAAAABkmUBQU2AoEVswQQAAAAAApJ5Ak/WQx1mgJ0EAAAAAAHSYQAvoHBGRkiFBAAAAAAC8mED1DgNrThknQQAAAAAA1JtA+BP9mKywJkEAAAAAAOydQLOzWOLqPydBAAAAAABgnEB4SWVLmIQzQQAAAAAArqBAwdtKT0e+NkEAAAAAAGyjQKyqhXDjYTNBAAAAAABco0BpdhEukw4yQQAAAAAAYqRAexPHlkq9KkEAAAAAAPyfQAafwBRpPiJBAAAAAADQlkDC5RdxY5kbQQAAAAAALJBA0Nmh6VVuCEEAAAAAAHiDQLnMJ1+sgABBAAAAAABAcUAIEBD2lNzuQAAAAAAAoGBA",
          "dtype": "f8",
          "shape": "24, 2"
         },
         "hovertemplate": "source=survey<br>dept_hr=%{x}<br>percentage=%{y}<br>trexpfac=%{customdata[0]}<br>sample_count=%{customdata[1]}<extra></extra>",
         "legendgroup": "survey",
         "marker": {
          "color": "#8CC63E",
          "pattern": {
           "shape": ""
          }
         },
         "name": "survey",
         "offsetgroup": "survey",
         "orientation": "v",
         "showlegend": true,
         "textposition": "auto",
         "type": "bar",
         "x": {
          "bdata": "AAECAwQFBgcICQoLDA0ODxAREhMUFRYX",
          "dtype": "i1"
         },
         "xaxis": "x",
         "y": {
          "bdata": "5kBAJxWwUD9ZT8ymlOshP4Zk5wCKiCU/9324moSPTz/LrvzS+U90P62D2wuwQIo/xu882SF+mj88Tq7Y2P+yPwIgxdTavLM/cJRJLwKDrD+2hqLrwzSlPx9lpkUK4Ks/RWrTxMVhqz/NeoCdog6sP2Bd4y/Gjbc/rsflnzByuz9MPb4m5GO3P+MFomNqyrU/EzWgdF4isD83Av10JASmP6GhVUgsp6A/d9PBF5Z7jT8ymXe6POqDP73x53Men3I/",
          "dtype": "f8"
         },
         "yaxis": "y"
        }
       ],
       "layout": {
        "barmode": "group",
        "font": {
         "size": 11
        },
        "height": 400,
        "legend": {
         "title": {
          "text": "source"
         },
         "tracegroupgap": 0
        },
        "template": {
         "data": {
          "bar": [
           {
            "error_x": {
             "color": "rgb(36,36,36)"
            },
            "error_y": {
             "color": "rgb(36,36,36)"
            },
            "marker": {
             "line": {
              "color": "white",
              "width": 0.5
             },
             "pattern": {
              "fillmode": "overlay",
              "size": 10,
              "solidity": 0.2
             }
            },
            "type": "bar"
           }
          ],
          "barpolar": [
           {
            "marker": {
             "line": {
              "color": "white",
              "width": 0.5
             },
             "pattern": {
              "fillmode": "overlay",
              "size": 10,
              "solidity": 0.2
             }
            },
            "type": "barpolar"
           }
          ],
          "carpet": [
           {
            "aaxis": {
             "endlinecolor": "rgb(36,36,36)",
             "gridcolor": "white",
             "linecolor": "white",
             "minorgridcolor": "white",
             "startlinecolor": "rgb(36,36,36)"
            },
            "baxis": {
             "endlinecolor": "rgb(36,36,36)",
             "gridcolor": "white",
             "linecolor": "white",
             "minorgridcolor": "white",
             "startlinecolor": "rgb(36,36,36)"
            },
            "type": "carpet"
           }
          ],
          "choropleth": [
           {
            "colorbar": {
             "outlinewidth": 1,
             "tickcolor": "rgb(36,36,36)",
             "ticks": "outside"
            },
            "type": "choropleth"
           }
          ],
          "contour": [
           {
            "colorbar": {
             "outlinewidth": 1,
             "tickcolor": "rgb(36,36,36)",
             "ticks": "outside"
            },
            "colorscale": [
             [
              0.0,
              "#440154"
             ],
             [
              0.1111111111111111,
              "#482878"
             ],
             [
              0.2222222222222222,
              "#3e4989"
             ],
             [
              0.3333333333333333,
              "#31688e"
             ],
             [
              0.4444444444444444,
              "#26828e"
             ],
             [
              0.5555555555555556,
              "#1f9e89"
             ],
             [
              0.6666666666666666,
              "#35b779"
             ],
             [
              0.7777777777777778,
              "#6ece58"
             ],
             [
              0.8888888888888888,
              "#b5de2b"
             ],
             [
              1.0,
              "#fde725"
             ]
            ],
            "type": "contour"
           }
          ],
          "contourcarpet": [
           {
            "colorbar": {
             "outlinewidth": 1,
             "tickcolor": "rgb(36,36,36)",
             "ticks": "outside"
            },
            "type": "contourcarpet"
           }
          ],
          "heatmap": [
           {
            "colorbar": {
             "outlinewidth": 1,
             "tickcolor": "rgb(36,36,36)",
             "ticks": "outside"
            },
            "colorscale": [
             [
              0.0,
              "#440154"
             ],
             [
              0.1111111111111111,
              "#482878"
             ],
             [
              0.2222222222222222,
              "#3e4989"
             ],
             [
              0.3333333333333333,
              "#31688e"
             ],
             [
              0.4444444444444444,
              "#26828e"
             ],
             [
              0.5555555555555556,
              "#1f9e89"
             ],
             [
              0.6666666666666666,
              "#35b779"
             ],
             [
              0.7777777777777778,
              "#6ece58"
             ],
             [
              0.8888888888888888,
              "#b5de2b"
             ],
             [
              1.0,
              "#fde725"
             ]
            ],
            "type": "heatmap"
           }
          ],
          "histogram": [
           {
            "marker": {
             "line": {
              "color": "white",
              "width": 0.6
             }
            },
            "type": "histogram"
           }
          ],
          "histogram2d": [
           {
            "colorbar": {
             "outlinewidth": 1,
             "tickcolor": "rgb(36,36,36)",
             "ticks": "outside"
            },
            "colorscale": [
             [
              0.0,
              "#440154"
             ],
             [
              0.1111111111111111,
              "#482878"
             ],
             [
              0.2222222222222222,
              "#3e4989"
             ],
             [
              0.3333333333333333,
              "#31688e"
             ],
             [
              0.4444444444444444,
              "#26828e"
             ],
             [
              0.5555555555555556,
              "#1f9e89"
             ],
             [
              0.6666666666666666,
              "#35b779"
             ],
             [
              0.7777777777777778,
              "#6ece58"
             ],
             [
              0.8888888888888888,
              "#b5de2b"
             ],
             [
              1.0,
              "#fde725"
             ]
            ],
            "type": "histogram2d"
           }
          ],
          "histogram2dcontour": [
           {
            "colorbar": {
             "outlinewidth": 1,
             "tickcolor": "rgb(36,36,36)",
             "ticks": "outside"
            },
            "colorscale": [
             [
              0.0,
              "#440154"
             ],
             [
              0.1111111111111111,
              "#482878"
             ],
             [
              0.2222222222222222,
              "#3e4989"
             ],
             [
              0.3333333333333333,
              "#31688e"
             ],
             [
              0.4444444444444444,
              "#26828e"
             ],
             [
              0.5555555555555556,
              "#1f9e89"
             ],
             [
              0.6666666666666666,
              "#35b779"
             ],
             [
              0.7777777777777778,
              "#6ece58"
             ],
             [
              0.8888888888888888,
              "#b5de2b"
             ],
             [
              1.0,
              "#fde725"
             ]
            ],
            "type": "histogram2dcontour"
           }
          ],
          "mesh3d": [
           {
            "colorbar": {
             "outlinewidth": 1,
             "tickcolor": "rgb(36,36,36)",
             "ticks": "outside"
            },
            "type": "mesh3d"
           }
          ],
          "parcoords": [
           {
            "line": {
             "colorbar": {
              "outlinewidth": 1,
              "tickcolor": "rgb(36,36,36)",
              "ticks": "outside"
             }
            },
            "type": "parcoords"
           }
          ],
          "pie": [
           {
            "automargin": true,
            "type": "pie"
           }
          ],
          "scatter": [
           {
            "fillpattern": {
             "fillmode": "overlay",
             "size": 10,
             "solidity": 0.2
            },
            "type": "scatter"
           }
          ],
          "scatter3d": [
           {
            "line": {
             "colorbar": {
              "outlinewidth": 1,
              "tickcolor": "rgb(36,36,36)",
              "ticks": "outside"
             }
            },
            "marker": {
             "colorbar": {
              "outlinewidth": 1,
              "tickcolor": "rgb(36,36,36)",
              "ticks": "outside"
             }
            },
            "type": "scatter3d"
           }
          ],
          "scattercarpet": [
           {
            "marker": {
             "colorbar": {
              "outlinewidth": 1,
              "tickcolor": "rgb(36,36,36)",
              "ticks": "outside"
             }
            },
            "type": "scattercarpet"
           }
          ],
          "scattergeo": [
           {
            "marker": {
             "colorbar": {
              "outlinewidth": 1,
              "tickcolor": "rgb(36,36,36)",
              "ticks": "outside"
             }
            },
            "type": "scattergeo"
           }
          ],
          "scattergl": [
           {
            "marker": {
             "colorbar": {
              "outlinewidth": 1,
              "tickcolor": "rgb(36,36,36)",
              "ticks": "outside"
             }
            },
            "type": "scattergl"
           }
          ],
          "scattermap": [
           {
            "marker": {
             "colorbar": {
              "outlinewidth": 1,
              "tickcolor": "rgb(36,36,36)",
              "ticks": "outside"
             }
            },
            "type": "scattermap"
           }
          ],
          "scattermapbox": [
           {
            "marker": {
             "colorbar": {
              "outlinewidth": 1,
              "tickcolor": "rgb(36,36,36)",
              "ticks": "outside"
             }
            },
            "type": "scattermapbox"
           }
          ],
          "scatterpolar": [
           {
            "marker": {
             "colorbar": {
              "outlinewidth": 1,
              "tickcolor": "rgb(36,36,36)",
              "ticks": "outside"
             }
            },
            "type": "scatterpolar"
           }
          ],
          "scatterpolargl": [
           {
            "marker": {
             "colorbar": {
              "outlinewidth": 1,
              "tickcolor": "rgb(36,36,36)",
              "ticks": "outside"
             }
            },
            "type": "scatterpolargl"
           }
          ],
          "scatterternary": [
           {
            "marker": {
             "colorbar": {
              "outlinewidth": 1,
              "tickcolor": "rgb(36,36,36)",
              "ticks": "outside"
             }
            },
            "type": "scatterternary"
           }
          ],
          "surface": [
           {
            "colorbar": {
             "outlinewidth": 1,
             "tickcolor": "rgb(36,36,36)",
             "ticks": "outside"
            },
            "colorscale": [
             [
              0.0,
              "#440154"
             ],
             [
              0.1111111111111111,
              "#482878"
             ],
             [
              0.2222222222222222,
              "#3e4989"
             ],
             [
              0.3333333333333333,
              "#31688e"
             ],
             [
              0.4444444444444444,
              "#26828e"
             ],
             [
              0.5555555555555556,
              "#1f9e89"
             ],
             [
              0.6666666666666666,
              "#35b779"
             ],
             [
              0.7777777777777778,
              "#6ece58"
             ],
             [
              0.8888888888888888,
              "#b5de2b"
             ],
             [
              1.0,
              "#fde725"
             ]
            ],
            "type": "surface"
           }
          ],
          "table": [
           {
            "cells": {
             "fill": {
              "color": "rgb(237,237,237)"
             },
             "line": {
              "color": "white"
             }
            },
            "header": {
             "fill": {
              "color": "rgb(217,217,217)"
             },
             "line": {
              "color": "white"
             }
            },
            "type": "table"
           }
          ]
         },
         "layout": {
          "annotationdefaults": {
           "arrowhead": 0,
           "arrowwidth": 1
          },
          "autotypenumbers": "strict",
          "coloraxis": {
           "colorbar": {
            "outlinewidth": 1,
            "tickcolor": "rgb(36,36,36)",
            "ticks": "outside"
           }
          },
          "colorscale": {
           "diverging": [
            [
             0.0,
             "rgb(103,0,31)"
            ],
            [
             0.1,
             "rgb(178,24,43)"
            ],
            [
             0.2,
             "rgb(214,96,77)"
            ],
            [
             0.3,
             "rgb(244,165,130)"
            ],
            [
             0.4,
             "rgb(253,219,199)"
            ],
            [
             0.5,
             "rgb(247,247,247)"
            ],
            [
             0.6,
             "rgb(209,229,240)"
            ],
            [
             0.7,
             "rgb(146,197,222)"
            ],
            [
             0.8,
             "rgb(67,147,195)"
            ],
            [
             0.9,
             "rgb(33,102,172)"
            ],
            [
             1.0,
             "rgb(5,48,97)"
            ]
           ],
           "sequential": [
            [
             0.0,
             "#440154"
            ],
            [
             0.1111111111111111,
             "#482878"
            ],
            [
             0.2222222222222222,
             "#3e4989"
            ],
            [
             0.3333333333333333,
             "#31688e"
            ],
            [
             0.4444444444444444,
             "#26828e"
            ],
            [
             0.5555555555555556,
             "#1f9e89"
            ],
            [
             0.6666666666666666,
             "#35b779"
            ],
            [
             0.7777777777777778,
             "#6ece58"
            ],
            [
             0.8888888888888888,
             "#b5de2b"
            ],
            [
             1.0,
             "#fde725"
            ]
           ],
           "sequentialminus": [
            [
             0.0,
             "#440154"
            ],
            [
             0.1111111111111111,
             "#482878"
            ],
            [
             0.2222222222222222,
             "#3e4989"
            ],
            [
             0.3333333333333333,
             "#31688e"
            ],
            [
             0.4444444444444444,
             "#26828e"
            ],
            [
             0.5555555555555556,
             "#1f9e89"
            ],
            [
             0.6666666666666666,
             "#35b779"
            ],
            [
             0.7777777777777778,
             "#6ece58"
            ],
            [
             0.8888888888888888,
             "#b5de2b"
            ],
            [
             1.0,
             "#fde725"
            ]
           ]
          },
          "colorway": [
           "#91268F",
           "#8CC63E",
           "#00A7A0",
           "#F05A28",
           "#4C4C4C",
           "#630460",
           "#9f3913",
           "#588527",
           "#00716c",
           "#3e4040"
          ],
          "font": {
           "color": "rgb(36,36,36)",
           "family": "Poppins",
           "size": 11
          },
          "geo": {
           "bgcolor": "white",
           "lakecolor": "white",
           "landcolor": "white",
           "showlakes": true,
           "showland": true,
           "subunitcolor": "white"
          },
          "hoverlabel": {
           "align": "left"
          },
          "hovermode": "closest",
          "mapbox": {
           "style": "light"
          },
          "paper_bgcolor": "white",
          "plot_bgcolor": "white",
          "polar": {
           "angularaxis": {
            "gridcolor": "rgb(232,232,232)",
            "linecolor": "rgb(36,36,36)",
            "showgrid": false,
            "showline": true,
            "ticks": "outside"
           },
           "bgcolor": "white",
           "radialaxis": {
            "gridcolor": "rgb(232,232,232)",
            "linecolor": "rgb(36,36,36)",
            "showgrid": false,
            "showline": true,
            "ticks": "outside"
           }
          },
          "scene": {
           "xaxis": {
            "backgroundcolor": "white",
            "gridcolor": "rgb(232,232,232)",
            "gridwidth": 2,
            "linecolor": "rgb(36,36,36)",
            "showbackground": true,
            "showgrid": false,
            "showline": true,
            "ticks": "outside",
            "zeroline": false,
            "zerolinecolor": "rgb(36,36,36)"
           },
           "yaxis": {
            "backgroundcolor": "white",
            "gridcolor": "rgb(232,232,232)",
            "gridwidth": 2,
            "linecolor": "rgb(36,36,36)",
            "showbackground": true,
            "showgrid": false,
            "showline": true,
            "ticks": "outside",
            "zeroline": false,
            "zerolinecolor": "rgb(36,36,36)"
           },
           "zaxis": {
            "backgroundcolor": "white",
            "gridcolor": "rgb(232,232,232)",
            "gridwidth": 2,
            "linecolor": "rgb(36,36,36)",
            "showbackground": true,
            "showgrid": false,
            "showline": true,
            "ticks": "outside",
            "zeroline": false,
            "zerolinecolor": "rgb(36,36,36)"
           }
          },
          "shapedefaults": {
           "fillcolor": "black",
           "line": {
            "width": 0
           },
           "opacity": 0.3
          },
          "ternary": {
           "aaxis": {
            "gridcolor": "rgb(232,232,232)",
            "linecolor": "rgb(36,36,36)",
            "showgrid": false,
            "showline": true,
            "ticks": "outside"
           },
           "baxis": {
            "gridcolor": "rgb(232,232,232)",
            "linecolor": "rgb(36,36,36)",
            "showgrid": false,
            "showline": true,
            "ticks": "outside"
           },
           "bgcolor": "white",
           "caxis": {
            "gridcolor": "rgb(232,232,232)",
            "linecolor": "rgb(36,36,36)",
            "showgrid": false,
            "showline": true,
            "ticks": "outside"
           }
          },
          "title": {
           "x": 0.05
          },
          "xaxis": {
           "automargin": true,
           "gridcolor": "rgb(232,232,232)",
           "linecolor": "rgb(36,36,36)",
           "showgrid": false,
           "showline": true,
           "ticks": "outside",
           "title": {
            "standoff": 15
           },
           "zeroline": false,
           "zerolinecolor": "rgb(36,36,36)"
          },
          "yaxis": {
           "automargin": true,
           "gridcolor": "rgb(232,232,232)",
           "linecolor": "rgb(36,36,36)",
           "showgrid": false,
           "showline": true,
           "ticks": "outside",
           "title": {
            "standoff": 15
           },
           "zeroline": false,
           "zerolinecolor": "rgb(36,36,36)"
          }
         }
        },
        "title": {
         "text": "trip origin departure hour"
        },
        "width": 700,
        "xaxis": {
         "anchor": "y",
         "categoryorder": "category ascending",
         "domain": [
          0.0,
          1.0
         ],
         "dtick": 1,
         "title": {
          "text": "dept_hr"
         }
        },
        "yaxis": {
         "anchor": "x",
         "domain": [
          0.0,
          1.0
         ],
         "tickformat": ".0%",
         "title": {
          "text": "percentage"
         }
        }
       }
      },
      "text/html": [
       "<div>            <script src=\"https://cdnjs.cloudflare.com/ajax/libs/mathjax/2.7.5/MathJax.js?config=TeX-AMS-MML_SVG\"></script><script type=\"text/javascript\">if (window.MathJax && window.MathJax.Hub && window.MathJax.Hub.Config) {window.MathJax.Hub.Config({SVG: {font: \"STIX-Web\"}});}</script>                <script type=\"text/javascript\">window.PlotlyConfig = {MathJaxConfig: 'local'};</script>\n",
       "        <script charset=\"utf-8\" src=\"https://cdn.plot.ly/plotly-3.0.1.min.js\"></script>                <div id=\"4c601a62-e7f9-4061-a404-bbc89074c5d2\" class=\"plotly-graph-div\" style=\"height:400px; width:700px;\"></div>            <script type=\"text/javascript\">                window.PLOTLYENV=window.PLOTLYENV || {};                                if (document.getElementById(\"4c601a62-e7f9-4061-a404-bbc89074c5d2\")) {                    Plotly.newPlot(                        \"4c601a62-e7f9-4061-a404-bbc89074c5d2\",                        [{\"alignmentgroup\":\"True\",\"customdata\":{\"dtype\":\"f8\",\"bdata\":\"AAAAAMDk40AAAAAAwOTjQAAAAADApNxAAAAAAMCk3EAAAAAAQPDUQAAAAABA8NRAAAAAAKCI+UAAAAAAoIj5QAAAAACwJP1AAAAAALAk\\u002fUAAAAAAMN4OQQAAAAAw3g5BAAAAACLeJUEAAAAAIt4lQQAAAACHzDJBAAAAAIfMMkEAAAAA1k82QQAAAADWTzZBAAAAACg0NUEAAAAAKDQ1QQAAAACjQTZBAAAAAKNBNkEAAAAALok1QQAAAAAuiTVBAAAAAK+1NEEAAAAAr7U0QQAAAAC5FDZBAAAAALkUNkEAAAAApas0QQAAAAClqzRBAAAAAO\\u002fROEEAAAAA79E4QQAAAACMZztBAAAAAIxnO0EAAAAAnnk6QQAAAACeeTpBAAAAAEeYNUEAAAAAR5g1QQAAAAD3VTBBAAAAAPdVMEEAAAAAusQpQQAAAAC6xClBAAAAAKR2HEEAAAAApHYcQQAAAACcuhBBAAAAAJy6EEEAAAAAePgHQQAAAAB4+AdB\",\"shape\":\"24, 2\"},\"hovertemplate\":\"source=model\\u003cbr\\u003edept_hr=%{x}\\u003cbr\\u003epercentage=%{y}\\u003cbr\\u003etrexpfac=%{customdata[0]}\\u003cbr\\u003esample_count=%{customdata[1]}\\u003cextra\\u003e\\u003c\\u002fextra\\u003e\",\"legendgroup\":\"model\",\"marker\":{\"color\":\"#91268F\",\"pattern\":{\"shape\":\"\"}},\"name\":\"model\",\"offsetgroup\":\"model\",\"orientation\":\"v\",\"showlegend\":true,\"textposition\":\"auto\",\"x\":{\"dtype\":\"i1\",\"bdata\":\"AAECAwQFBgcICQoLDA0ODxAREhMUFRYX\"},\"xaxis\":\"x\",\"y\":{\"dtype\":\"f8\",\"bdata\":\"6CxqlrKWXj\\u002fj9E\\u002fDegVWP+BLaEoBGVA\\u002fNGiyd2mhcz+\\u002ffUfG1md2P3nJPJJEu4c\\u002fWWa4LuTPoD\\u002fvM3yT0uesP4BDCqhOJ7E\\u002fZRxaQTZNsD\\u002fmN7oJZByxP3vhXiOUjrA\\u002fEPD5F\\u002fXXrz\\u002f6bYdH3PmwP2kyLWuFyK8\\u002fNZexEfUUsz\\u002fXpstynBG1PzkMtFSwWrQ\\u002f168elS+asD9cEzlVQh6pP8JgY1qez6M\\u002fTOe9vwfilT93vSkHA7mJP26bFL3EbYI\\u002f\"},\"yaxis\":\"y\",\"type\":\"bar\"},{\"alignmentgroup\":\"True\",\"customdata\":{\"dtype\":\"f8\",\"bdata\":\"Uu\\u002fCiyeoy0AAAAAAAIBCQGGL3h8Is51AAAAAAAAAJEDoZJlx\\u002fNehQAAAAAAAADJAKQw7bh8nykAAAAAAAAA\\u002fQHBo17z61PBAAAAAAACAVEDoiKJ6H8EFQQAAAAAAwGpAXuXZCQr0FUEAAAAAACCFQLm0fNzjfC9BAAAAAABkmUBQU2AoEVswQQAAAAAApJ5Ak\\u002fWQx1mgJ0EAAAAAAHSYQAvoHBGRkiFBAAAAAAC8mED1DgNrThknQQAAAAAA1JtA+BP9mKywJkEAAAAAAOydQLOzWOLqPydBAAAAAABgnEB4SWVLmIQzQQAAAAAArqBAwdtKT0e+NkEAAAAAAGyjQKyqhXDjYTNBAAAAAABco0BpdhEukw4yQQAAAAAAYqRAexPHlkq9KkEAAAAAAPyfQAafwBRpPiJBAAAAAADQlkDC5RdxY5kbQQAAAAAALJBA0Nmh6VVuCEEAAAAAAHiDQLnMJ1+sgABBAAAAAABAcUAIEBD2lNzuQAAAAAAAoGBA\",\"shape\":\"24, 2\"},\"hovertemplate\":\"source=survey\\u003cbr\\u003edept_hr=%{x}\\u003cbr\\u003epercentage=%{y}\\u003cbr\\u003etrexpfac=%{customdata[0]}\\u003cbr\\u003esample_count=%{customdata[1]}\\u003cextra\\u003e\\u003c\\u002fextra\\u003e\",\"legendgroup\":\"survey\",\"marker\":{\"color\":\"#8CC63E\",\"pattern\":{\"shape\":\"\"}},\"name\":\"survey\",\"offsetgroup\":\"survey\",\"orientation\":\"v\",\"showlegend\":true,\"textposition\":\"auto\",\"x\":{\"dtype\":\"i1\",\"bdata\":\"AAECAwQFBgcICQoLDA0ODxAREhMUFRYX\"},\"xaxis\":\"x\",\"y\":{\"dtype\":\"f8\",\"bdata\":\"5kBAJxWwUD9ZT8ymlOshP4Zk5wCKiCU\\u002f9324moSPTz\\u002fLrvzS+U90P62D2wuwQIo\\u002fxu882SF+mj88Tq7Y2P+yPwIgxdTavLM\\u002fcJRJLwKDrD+2hqLrwzSlPx9lpkUK4Ks\\u002fRWrTxMVhqz\\u002fNeoCdog6sP2Bd4y\\u002fGjbc\\u002frsflnzByuz9MPb4m5GO3P+MFomNqyrU\\u002fEzWgdF4isD83Av10JASmP6GhVUgsp6A\\u002fd9PBF5Z7jT8ymXe6POqDP73x53Men3I\\u002f\"},\"yaxis\":\"y\",\"type\":\"bar\"}],                        {\"template\":{\"data\":{\"barpolar\":[{\"marker\":{\"line\":{\"color\":\"white\",\"width\":0.5},\"pattern\":{\"fillmode\":\"overlay\",\"size\":10,\"solidity\":0.2}},\"type\":\"barpolar\"}],\"bar\":[{\"error_x\":{\"color\":\"rgb(36,36,36)\"},\"error_y\":{\"color\":\"rgb(36,36,36)\"},\"marker\":{\"line\":{\"color\":\"white\",\"width\":0.5},\"pattern\":{\"fillmode\":\"overlay\",\"size\":10,\"solidity\":0.2}},\"type\":\"bar\"}],\"carpet\":[{\"aaxis\":{\"endlinecolor\":\"rgb(36,36,36)\",\"gridcolor\":\"white\",\"linecolor\":\"white\",\"minorgridcolor\":\"white\",\"startlinecolor\":\"rgb(36,36,36)\"},\"baxis\":{\"endlinecolor\":\"rgb(36,36,36)\",\"gridcolor\":\"white\",\"linecolor\":\"white\",\"minorgridcolor\":\"white\",\"startlinecolor\":\"rgb(36,36,36)\"},\"type\":\"carpet\"}],\"choropleth\":[{\"colorbar\":{\"outlinewidth\":1,\"tickcolor\":\"rgb(36,36,36)\",\"ticks\":\"outside\"},\"type\":\"choropleth\"}],\"contourcarpet\":[{\"colorbar\":{\"outlinewidth\":1,\"tickcolor\":\"rgb(36,36,36)\",\"ticks\":\"outside\"},\"type\":\"contourcarpet\"}],\"contour\":[{\"colorbar\":{\"outlinewidth\":1,\"tickcolor\":\"rgb(36,36,36)\",\"ticks\":\"outside\"},\"colorscale\":[[0.0,\"#440154\"],[0.1111111111111111,\"#482878\"],[0.2222222222222222,\"#3e4989\"],[0.3333333333333333,\"#31688e\"],[0.4444444444444444,\"#26828e\"],[0.5555555555555556,\"#1f9e89\"],[0.6666666666666666,\"#35b779\"],[0.7777777777777778,\"#6ece58\"],[0.8888888888888888,\"#b5de2b\"],[1.0,\"#fde725\"]],\"type\":\"contour\"}],\"heatmap\":[{\"colorbar\":{\"outlinewidth\":1,\"tickcolor\":\"rgb(36,36,36)\",\"ticks\":\"outside\"},\"colorscale\":[[0.0,\"#440154\"],[0.1111111111111111,\"#482878\"],[0.2222222222222222,\"#3e4989\"],[0.3333333333333333,\"#31688e\"],[0.4444444444444444,\"#26828e\"],[0.5555555555555556,\"#1f9e89\"],[0.6666666666666666,\"#35b779\"],[0.7777777777777778,\"#6ece58\"],[0.8888888888888888,\"#b5de2b\"],[1.0,\"#fde725\"]],\"type\":\"heatmap\"}],\"histogram2dcontour\":[{\"colorbar\":{\"outlinewidth\":1,\"tickcolor\":\"rgb(36,36,36)\",\"ticks\":\"outside\"},\"colorscale\":[[0.0,\"#440154\"],[0.1111111111111111,\"#482878\"],[0.2222222222222222,\"#3e4989\"],[0.3333333333333333,\"#31688e\"],[0.4444444444444444,\"#26828e\"],[0.5555555555555556,\"#1f9e89\"],[0.6666666666666666,\"#35b779\"],[0.7777777777777778,\"#6ece58\"],[0.8888888888888888,\"#b5de2b\"],[1.0,\"#fde725\"]],\"type\":\"histogram2dcontour\"}],\"histogram2d\":[{\"colorbar\":{\"outlinewidth\":1,\"tickcolor\":\"rgb(36,36,36)\",\"ticks\":\"outside\"},\"colorscale\":[[0.0,\"#440154\"],[0.1111111111111111,\"#482878\"],[0.2222222222222222,\"#3e4989\"],[0.3333333333333333,\"#31688e\"],[0.4444444444444444,\"#26828e\"],[0.5555555555555556,\"#1f9e89\"],[0.6666666666666666,\"#35b779\"],[0.7777777777777778,\"#6ece58\"],[0.8888888888888888,\"#b5de2b\"],[1.0,\"#fde725\"]],\"type\":\"histogram2d\"}],\"histogram\":[{\"marker\":{\"line\":{\"color\":\"white\",\"width\":0.6}},\"type\":\"histogram\"}],\"mesh3d\":[{\"colorbar\":{\"outlinewidth\":1,\"tickcolor\":\"rgb(36,36,36)\",\"ticks\":\"outside\"},\"type\":\"mesh3d\"}],\"parcoords\":[{\"line\":{\"colorbar\":{\"outlinewidth\":1,\"tickcolor\":\"rgb(36,36,36)\",\"ticks\":\"outside\"}},\"type\":\"parcoords\"}],\"pie\":[{\"automargin\":true,\"type\":\"pie\"}],\"scatter3d\":[{\"line\":{\"colorbar\":{\"outlinewidth\":1,\"tickcolor\":\"rgb(36,36,36)\",\"ticks\":\"outside\"}},\"marker\":{\"colorbar\":{\"outlinewidth\":1,\"tickcolor\":\"rgb(36,36,36)\",\"ticks\":\"outside\"}},\"type\":\"scatter3d\"}],\"scattercarpet\":[{\"marker\":{\"colorbar\":{\"outlinewidth\":1,\"tickcolor\":\"rgb(36,36,36)\",\"ticks\":\"outside\"}},\"type\":\"scattercarpet\"}],\"scattergeo\":[{\"marker\":{\"colorbar\":{\"outlinewidth\":1,\"tickcolor\":\"rgb(36,36,36)\",\"ticks\":\"outside\"}},\"type\":\"scattergeo\"}],\"scattergl\":[{\"marker\":{\"colorbar\":{\"outlinewidth\":1,\"tickcolor\":\"rgb(36,36,36)\",\"ticks\":\"outside\"}},\"type\":\"scattergl\"}],\"scattermapbox\":[{\"marker\":{\"colorbar\":{\"outlinewidth\":1,\"tickcolor\":\"rgb(36,36,36)\",\"ticks\":\"outside\"}},\"type\":\"scattermapbox\"}],\"scattermap\":[{\"marker\":{\"colorbar\":{\"outlinewidth\":1,\"tickcolor\":\"rgb(36,36,36)\",\"ticks\":\"outside\"}},\"type\":\"scattermap\"}],\"scatterpolargl\":[{\"marker\":{\"colorbar\":{\"outlinewidth\":1,\"tickcolor\":\"rgb(36,36,36)\",\"ticks\":\"outside\"}},\"type\":\"scatterpolargl\"}],\"scatterpolar\":[{\"marker\":{\"colorbar\":{\"outlinewidth\":1,\"tickcolor\":\"rgb(36,36,36)\",\"ticks\":\"outside\"}},\"type\":\"scatterpolar\"}],\"scatter\":[{\"fillpattern\":{\"fillmode\":\"overlay\",\"size\":10,\"solidity\":0.2},\"type\":\"scatter\"}],\"scatterternary\":[{\"marker\":{\"colorbar\":{\"outlinewidth\":1,\"tickcolor\":\"rgb(36,36,36)\",\"ticks\":\"outside\"}},\"type\":\"scatterternary\"}],\"surface\":[{\"colorbar\":{\"outlinewidth\":1,\"tickcolor\":\"rgb(36,36,36)\",\"ticks\":\"outside\"},\"colorscale\":[[0.0,\"#440154\"],[0.1111111111111111,\"#482878\"],[0.2222222222222222,\"#3e4989\"],[0.3333333333333333,\"#31688e\"],[0.4444444444444444,\"#26828e\"],[0.5555555555555556,\"#1f9e89\"],[0.6666666666666666,\"#35b779\"],[0.7777777777777778,\"#6ece58\"],[0.8888888888888888,\"#b5de2b\"],[1.0,\"#fde725\"]],\"type\":\"surface\"}],\"table\":[{\"cells\":{\"fill\":{\"color\":\"rgb(237,237,237)\"},\"line\":{\"color\":\"white\"}},\"header\":{\"fill\":{\"color\":\"rgb(217,217,217)\"},\"line\":{\"color\":\"white\"}},\"type\":\"table\"}]},\"layout\":{\"annotationdefaults\":{\"arrowhead\":0,\"arrowwidth\":1},\"autotypenumbers\":\"strict\",\"coloraxis\":{\"colorbar\":{\"outlinewidth\":1,\"tickcolor\":\"rgb(36,36,36)\",\"ticks\":\"outside\"}},\"colorscale\":{\"diverging\":[[0.0,\"rgb(103,0,31)\"],[0.1,\"rgb(178,24,43)\"],[0.2,\"rgb(214,96,77)\"],[0.3,\"rgb(244,165,130)\"],[0.4,\"rgb(253,219,199)\"],[0.5,\"rgb(247,247,247)\"],[0.6,\"rgb(209,229,240)\"],[0.7,\"rgb(146,197,222)\"],[0.8,\"rgb(67,147,195)\"],[0.9,\"rgb(33,102,172)\"],[1.0,\"rgb(5,48,97)\"]],\"sequential\":[[0.0,\"#440154\"],[0.1111111111111111,\"#482878\"],[0.2222222222222222,\"#3e4989\"],[0.3333333333333333,\"#31688e\"],[0.4444444444444444,\"#26828e\"],[0.5555555555555556,\"#1f9e89\"],[0.6666666666666666,\"#35b779\"],[0.7777777777777778,\"#6ece58\"],[0.8888888888888888,\"#b5de2b\"],[1.0,\"#fde725\"]],\"sequentialminus\":[[0.0,\"#440154\"],[0.1111111111111111,\"#482878\"],[0.2222222222222222,\"#3e4989\"],[0.3333333333333333,\"#31688e\"],[0.4444444444444444,\"#26828e\"],[0.5555555555555556,\"#1f9e89\"],[0.6666666666666666,\"#35b779\"],[0.7777777777777778,\"#6ece58\"],[0.8888888888888888,\"#b5de2b\"],[1.0,\"#fde725\"]]},\"colorway\":[\"#91268F\",\"#8CC63E\",\"#00A7A0\",\"#F05A28\",\"#4C4C4C\",\"#630460\",\"#9f3913\",\"#588527\",\"#00716c\",\"#3e4040\"],\"font\":{\"color\":\"rgb(36,36,36)\",\"family\":\"Poppins\",\"size\":11},\"geo\":{\"bgcolor\":\"white\",\"lakecolor\":\"white\",\"landcolor\":\"white\",\"showlakes\":true,\"showland\":true,\"subunitcolor\":\"white\"},\"hoverlabel\":{\"align\":\"left\"},\"hovermode\":\"closest\",\"mapbox\":{\"style\":\"light\"},\"paper_bgcolor\":\"white\",\"plot_bgcolor\":\"white\",\"polar\":{\"angularaxis\":{\"gridcolor\":\"rgb(232,232,232)\",\"linecolor\":\"rgb(36,36,36)\",\"showgrid\":false,\"showline\":true,\"ticks\":\"outside\"},\"bgcolor\":\"white\",\"radialaxis\":{\"gridcolor\":\"rgb(232,232,232)\",\"linecolor\":\"rgb(36,36,36)\",\"showgrid\":false,\"showline\":true,\"ticks\":\"outside\"}},\"scene\":{\"xaxis\":{\"backgroundcolor\":\"white\",\"gridcolor\":\"rgb(232,232,232)\",\"gridwidth\":2,\"linecolor\":\"rgb(36,36,36)\",\"showbackground\":true,\"showgrid\":false,\"showline\":true,\"ticks\":\"outside\",\"zeroline\":false,\"zerolinecolor\":\"rgb(36,36,36)\"},\"yaxis\":{\"backgroundcolor\":\"white\",\"gridcolor\":\"rgb(232,232,232)\",\"gridwidth\":2,\"linecolor\":\"rgb(36,36,36)\",\"showbackground\":true,\"showgrid\":false,\"showline\":true,\"ticks\":\"outside\",\"zeroline\":false,\"zerolinecolor\":\"rgb(36,36,36)\"},\"zaxis\":{\"backgroundcolor\":\"white\",\"gridcolor\":\"rgb(232,232,232)\",\"gridwidth\":2,\"linecolor\":\"rgb(36,36,36)\",\"showbackground\":true,\"showgrid\":false,\"showline\":true,\"ticks\":\"outside\",\"zeroline\":false,\"zerolinecolor\":\"rgb(36,36,36)\"}},\"shapedefaults\":{\"fillcolor\":\"black\",\"line\":{\"width\":0},\"opacity\":0.3},\"ternary\":{\"aaxis\":{\"gridcolor\":\"rgb(232,232,232)\",\"linecolor\":\"rgb(36,36,36)\",\"showgrid\":false,\"showline\":true,\"ticks\":\"outside\"},\"baxis\":{\"gridcolor\":\"rgb(232,232,232)\",\"linecolor\":\"rgb(36,36,36)\",\"showgrid\":false,\"showline\":true,\"ticks\":\"outside\"},\"bgcolor\":\"white\",\"caxis\":{\"gridcolor\":\"rgb(232,232,232)\",\"linecolor\":\"rgb(36,36,36)\",\"showgrid\":false,\"showline\":true,\"ticks\":\"outside\"}},\"title\":{\"x\":0.05},\"xaxis\":{\"automargin\":true,\"gridcolor\":\"rgb(232,232,232)\",\"linecolor\":\"rgb(36,36,36)\",\"showgrid\":false,\"showline\":true,\"ticks\":\"outside\",\"title\":{\"standoff\":15},\"zeroline\":false,\"zerolinecolor\":\"rgb(36,36,36)\"},\"yaxis\":{\"automargin\":true,\"gridcolor\":\"rgb(232,232,232)\",\"linecolor\":\"rgb(36,36,36)\",\"showgrid\":false,\"showline\":true,\"ticks\":\"outside\",\"title\":{\"standoff\":15},\"zeroline\":false,\"zerolinecolor\":\"rgb(36,36,36)\"}}},\"xaxis\":{\"anchor\":\"y\",\"domain\":[0.0,1.0],\"title\":{\"text\":\"dept_hr\"},\"dtick\":1,\"categoryorder\":\"category ascending\"},\"yaxis\":{\"anchor\":\"x\",\"domain\":[0.0,1.0],\"title\":{\"text\":\"percentage\"},\"tickformat\":\".0%\"},\"legend\":{\"title\":{\"text\":\"source\"},\"tracegroupgap\":0},\"title\":{\"text\":\"trip origin departure hour\"},\"barmode\":\"group\",\"font\":{\"size\":11},\"height\":400,\"width\":700},                        {\"responsive\": true}                    ).then(function(){\n",
       "                            \n",
       "var gd = document.getElementById('4c601a62-e7f9-4061-a404-bbc89074c5d2');\n",
       "var x = new MutationObserver(function (mutations, observer) {{\n",
       "        var display = window.getComputedStyle(gd).display;\n",
       "        if (!display || display === 'none') {{\n",
       "            console.log([gd, 'removed!']);\n",
       "            Plotly.purge(gd);\n",
       "            observer.disconnect();\n",
       "        }}\n",
       "}});\n",
       "\n",
       "// Listen for the removal of the full notebook cells\n",
       "var notebookContainer = gd.closest('#notebook-container');\n",
       "if (notebookContainer) {{\n",
       "    x.observe(notebookContainer, {childList: true});\n",
       "}}\n",
       "\n",
       "// Listen for the clearing of the current output cell\n",
       "var outputEl = gd.closest('.output');\n",
       "if (outputEl) {{\n",
       "    x.observe(outputEl, {childList: true});\n",
       "}}\n",
       "\n",
       "                        })                };            </script>        </div>"
      ]
     },
     "metadata": {},
     "output_type": "display_data"
    }
   ],
   "source": [
    "df_plot = df_trip.groupby(['dept_hr','source'])['trexpfac'].agg(sample_count='size', trexpfac='sum').reset_index()\n",
    "df_plot['percentage'] = df_plot.groupby(['source'], group_keys=False)['trexpfac']. \\\n",
    "    apply(lambda x: x / float(x.sum()))\n",
    "\n",
    "fig = px.bar(df_plot, x=\"dept_hr\", y=\"percentage\", color=\"source\",\n",
    "             barmode=\"group\",title=\"trip origin departure hour\",\n",
    "             hover_data=['trexpfac','sample_count'])\n",
    "fig.update_layout(height=400, width=700, font=dict(size=11),\n",
    "                  xaxis = dict(dtick = 1, categoryorder='category ascending'),\n",
    "                  yaxis=dict(tickformat=\".0%\"))\n",
    "fig.show()"
   ]
  },
  {
   "cell_type": "raw",
   "metadata": {
    "vscode": {
     "languageId": "raw"
    }
   },
   "source": [
    ":::"
   ]
  },
  {
   "cell_type": "markdown",
   "metadata": {
    "collapsed": false
   },
   "source": [
    "## time choice by purpose"
   ]
  },
  {
   "cell_type": "raw",
   "metadata": {
    "vscode": {
     "languageId": "raw"
    }
   },
   "source": [
    ":::{.panel-tabset}\n",
    "### tour"
   ]
  },
  {
   "cell_type": "code",
   "execution_count": 6,
   "metadata": {
    "ExecuteTime": {
     "end_time": "2024-07-15T04:43:21.363175Z",
     "start_time": "2024-07-15T04:43:20.456962Z"
    },
    "collapsed": false,
    "execution": {
     "iopub.execute_input": "2025-06-19T05:31:05.075146Z",
     "iopub.status.busy": "2025-06-19T05:31:05.074149Z",
     "iopub.status.idle": "2025-06-19T05:31:05.994647Z",
     "shell.execute_reply": "2025-06-19T05:31:05.993648Z"
    }
   },
   "outputs": [
    {
     "name": "stderr",
     "output_type": "stream",
     "text": [
      "C:\\Users\\Modeller\\AppData\\Local\\Temp\\ipykernel_31344\\1038879768.py:1: FutureWarning:\n",
      "\n",
      "The default of observed=False is deprecated and will be changed to True in a future version of pandas. Pass observed=False to retain current behavior or observed=True to adopt the future default and silence this warning.\n",
      "\n"
     ]
    },
    {
     "name": "stderr",
     "output_type": "stream",
     "text": [
      "C:\\Users\\Modeller\\AppData\\Local\\Temp\\ipykernel_31344\\1038879768.py:2: FutureWarning:\n",
      "\n",
      "The default of observed=False is deprecated and will be changed to True in a future version of pandas. Pass observed=False to retain current behavior or observed=True to adopt the future default and silence this warning.\n",
      "\n"
     ]
    },
    {
     "data": {
      "application/vnd.plotly.v1+json": {
       "config": {
        "plotlyServerURL": "https://plot.ly"
       },
       "data": [
        {
         "alignmentgroup": "True",
         "customdata": {
          "bdata": "AAAAAAByoUAAAAAAAHKhQAAAAAAA0JZAAAAAAADQlkAAAAAAACiDQAAAAAAAKINAAAAAAMA07EAAAAAAwDTsQAAAAACgOe1AAAAAAKA57UAAAAAAMIcAQQAAAAAwhwBBAAAAAMx8FEEAAAAAzHwUQQAAAAD8PRpBAAAAAPw9GkEAAAAAVH4VQQAAAABUfhVBAAAAAPBYB0EAAAAA8FgHQQAAAABQXftAAAAAAFBd+0AAAAAAIC72QAAAAAAgLvZAAAAAAMAN8kAAAAAAwA3yQAAAAABAh+1AAAAAAECH7UAAAAAAAHjqQAAAAAAAeOpAAAAAAKDN50AAAAAAoM3nQAAAAACA5+ZAAAAAAIDn5kAAAAAAwBvmQAAAAADAG+ZAAAAAACBx4kAAAAAAIHHiQAAAAACAe9NAAAAAAIB700AAAAAAgCPOQAAAAACAI85AAAAAAADvxEAAAAAAAO/EQAAAAAAAN7NAAAAAAAA3s0AAAAAAAGSrQAAAAAAAZKtA",
          "dtype": "f8",
          "shape": "24, 2"
         },
         "hovertemplate": "source=model<br>pdpurp_label=Work<br>tlvorg_hr=%{x}<br>percentage=%{y}<br>toexpfac=%{customdata[0]}<br>sample_count=%{customdata[1]}<extra></extra>",
         "legendgroup": "model",
         "marker": {
          "color": "#91268F",
          "pattern": {
           "shape": ""
          }
         },
         "name": "model",
         "offsetgroup": "model",
         "orientation": "v",
         "showlegend": true,
         "textposition": "auto",
         "type": "bar",
         "x": {
          "bdata": "AAECAwQFBgcICQoLDA0ODxAREhMUFRYX",
          "dtype": "i1"
         },
         "xaxis": "x6",
         "y": {
          "bdata": "IbIiUWyyUD9JiHOke9VFP42P3mOiVTI/AQ+e1wD/mj/qEJMGsPibPwP7T9pdo68/5oTx58+bwz/GS0j/zR3JPyhuH89LksQ/vryZ2otYtj9fdg+vzjCqP035oUiNOqU/MYkN8H1HoT9jf9qU+0KcPwWBCOVUVZk/g98ycTrIlj+6c1aT+euVP4zR7RH3KJU/tPf1pJqmkT/iuN5tjaWCP5FQIbaH2Hw/6KTRxh0JdD8G36Wq/WNiP6unnT41N1o/",
          "dtype": "f8"
         },
         "yaxis": "y6"
        },
        {
         "alignmentgroup": "True",
         "customdata": {
          "bdata": "AAAAAAAAAAAAAAAAAAAAAAAAAAAAAAAAAAAAAAAAAAAAAAAAAAAAAAAAAAAAAAAAAAAAAAAQrkAAAAAAABCuQAAAAAAA+q5AAAAAAAD6rkAAAAAAgHvKQAAAAACAe8pAAAAAAMBL80AAAAAAwEvzQAAAAAAojwdBAAAAACiPB0EAAAAAQJ8IQQAAAABAnwhBAAAAAKDy90AAAAAAoPL3QAAAAAAAv+VAAAAAAAC/5UAAAAAAwNvaQAAAAADA29pAAAAAAEBh0UAAAAAAQGHRQAAAAAAACMhAAAAAAAAIyEAAAAAAgGXBQAAAAACAZcFAAAAAAAAOukAAAAAAAA66QAAAAAAAzbZAAAAAAADNtkAAAAAAAHi1QAAAAAAAeLVAAAAAAACosEAAAAAAAKiwQAAAAAAAXJdAAAAAAABcl0AAAAAAAGyUQAAAAAAAbJRAAAAAAAB4iUAAAAAAAHiJQAAAAAAAAPA/AAAAAAAA8D8AAAAAAADwPwAAAAAAAPA/",
          "dtype": "f8",
          "shape": "24, 2"
         },
         "hovertemplate": "source=model<br>pdpurp_label=School<br>tlvorg_hr=%{x}<br>percentage=%{y}<br>toexpfac=%{customdata[0]}<br>sample_count=%{customdata[1]}<extra></extra>",
         "legendgroup": "model",
         "marker": {
          "color": "#91268F",
          "pattern": {
           "shape": ""
          }
         },
         "name": "model",
         "offsetgroup": "model",
         "orientation": "v",
         "showlegend": false,
         "textposition": "auto",
         "type": "bar",
         "x": {
          "bdata": "AAECAwQFBgcICQoLDA0ODxAREhMUFRYX",
          "dtype": "i1"
         },
         "xaxis": "x5",
         "y": {
          "bdata": "AAAAAAAAAAAAAAAAAAAAAAAAAAAAAAAAkdmb/EmWdT/3J/BsUT52PyxR/NksBJM/2VSJgDO2uz9uYHxRz+rQPxj9amcxrtE/KgKYUzwywT8LMoYMBjuvP2er7CpKSaM/kDMUjMX1mD8F3RWflUGRP2Tw5BLg+4g/ltAC1Yu1gj8thxo5ZF+AP3bfuakO1X4/wwzkxLnrdz/574ZvE8ZgPwRci5IrVF0/R8w11dVJUj9l5MYCdPq2PmXkxgJ0+rY+",
          "dtype": "f8"
         },
         "yaxis": "y5"
        },
        {
         "alignmentgroup": "True",
         "customdata": {
          "bdata": "AAAAAACgfEAAAAAAAKB8QAAAAAAAwHRAAAAAAADAdEAAAAAAAOBjQAAAAAAA4GNAAAAAAADImkAAAAAAAMiaQAAAAAAAOJdAAAAAAAA4l0AAAAAAANioQAAAAAAA2KhAAAAAAICAzUAAAAAAgIDNQAAAAACAXuVAAAAAAIBe5UAAAAAAQHryQAAAAABAevJAAAAAAEDl9kAAAAAAQOX2QAAAAAAg4fZAAAAAACDh9kAAAAAA0MXyQAAAAADQxfJAAAAAAJBZ8kAAAAAAkFnyQAAAAABQv/NAAAAAAFC/80AAAAAAIA7yQAAAAAAgDvJAAAAAAJBA8UAAAAAAkEDxQAAAAACQ7vJAAAAAAJDu8kAAAAAAEFrxQAAAAAAQWvFAAAAAANBi8EAAAAAA0GLwQAAAAACADOVAAAAAAIAM5UAAAAAAACHZQAAAAAAAIdlAAAAAAIA8yEAAAAAAgDzIQAAAAAAAaKpAAAAAAABoqkAAAAAAAKyYQAAAAAAArJhA",
          "dtype": "f8",
          "shape": "24, 2"
         },
         "hovertemplate": "source=model<br>pdpurp_label=Shop<br>tlvorg_hr=%{x}<br>percentage=%{y}<br>toexpfac=%{customdata[0]}<br>sample_count=%{customdata[1]}<extra></extra>",
         "legendgroup": "model",
         "marker": {
          "color": "#91268F",
          "pattern": {
           "shape": ""
          }
         },
         "name": "model",
         "offsetgroup": "model",
         "orientation": "v",
         "showlegend": false,
         "textposition": "auto",
         "type": "bar",
         "x": {
          "bdata": "AAECAwQFBgcICQoLDA0ODxAREhMUFRYX",
          "dtype": "i1"
         },
         "xaxis": "x4",
         "y": {
          "bdata": "saSzw1rAPT+7Z6CLBpE1P4REnhM2qCQ/Mkj4D8jVWz/0AcsC5SFYP6XVhZhD0mk/s+0eRbCpjj8VNNQywzWmP7IjPUZiNLM/OxNRbePLtz9wm63fmce3PyaTb3TrgrM//RwD/2gSsz/OPWTMPIa0P/z2KhMBxLI/YSUuVlrusT9FG2nzRa2zP9GsIDbbCLI/OyyFiOAHsT8M/ncrieClP2hjffYiHpo/DezIKaUwiT/27xsBAXJrP97XYFyIpFk/",
          "dtype": "f8"
         },
         "yaxis": "y4"
        },
        {
         "alignmentgroup": "True",
         "customdata": {
          "bdata": "AAAAAABggEAAAAAAAGCAQAAAAAAAYHZAAAAAAABgdkAAAAAAAEBfQAAAAAAAQF9AAAAAAADMmkAAAAAAAMyaQAAAAAAAqJdAAAAAAACol0AAAAAAAOimQAAAAAAA6KZAAAAAAAB4wEAAAAAAAHjAQAAAAACA4ctAAAAAAIDhy0AAAAAAQB3bQAAAAABAHdtAAAAAAIB84kAAAAAAgHziQAAAAAAgVeZAAAAAACBV5kAAAAAAwHblQAAAAADAduVAAAAAAGBV5kAAAAAAYFXmQAAAAAAgR+RAAAAAACBH5EAAAAAA4OziQAAAAADg7OJAAAAAAKAq4UAAAAAAoCrhQAAAAACg/uRAAAAAAKD+5EAAAAAAYPXlQAAAAABg9eVAAAAAAEAX5kAAAAAAQBfmQAAAAACA5ttAAAAAAIDm20AAAAAAwH7UQAAAAADAftRAAAAAAACLy0AAAAAAAIvLQAAAAAAAfKlAAAAAAAB8qUAAAAAAACiVQAAAAAAAKJVA",
          "dtype": "f8",
          "shape": "24, 2"
         },
         "hovertemplate": "source=model<br>pdpurp_label=Meal<br>tlvorg_hr=%{x}<br>percentage=%{y}<br>toexpfac=%{customdata[0]}<br>sample_count=%{customdata[1]}<extra></extra>",
         "legendgroup": "model",
         "marker": {
          "color": "#91268F",
          "pattern": {
           "shape": ""
          }
         },
         "name": "model",
         "offsetgroup": "model",
         "orientation": "v",
         "showlegend": false,
         "textposition": "auto",
         "type": "bar",
         "x": {
          "bdata": "AAECAwQFBgcICQoLDA0ODxAREhMUFRYX",
          "dtype": "i1"
         },
         "xaxis": "x3",
         "y": {
          "bdata": "PY/GATdXTz8+/M5ngmlFPxWiC0i95y0/B7Ko6MukaT97UckLZaNmP+fa6y6o63U/4uz9OCaFjz9ox+DfWq6aP99pytSM8qk/w7j6K9mwsT8HcUw1Gl+1PzDxffdLirQ/2bpAdFdftT+CuY3NvGezP1VX6jVjHLI/mP9OUYNtsD8rYvlNVxe0P4//0QV5A7U/UBIf2OMjtT/Ui/bKI7OqP7Hi3wT4nKM/UgG1yZNbmj+EIiVmQWN4P44b54DvPmQ/",
          "dtype": "f8"
         },
         "yaxis": "y3"
        },
        {
         "alignmentgroup": "True",
         "customdata": {
          "bdata": "AAAAAAAAcUAAAAAAAABxQAAAAAAAcHBAAAAAAABwcEAAAAAAAEBgQAAAAAAAQGBAAAAAAACNvUAAAAAAAI29QAAAAAAAt7BAAAAAAAC3sEAAAAAAAP+8QAAAAAAA/7xAAAAAAIDd2EAAAAAAgN3YQAAAAADgZelAAAAAAOBl6UAAAAAAoOHzQAAAAACg4fNAAAAAACBe90AAAAAAIF73QAAAAACgtfRAAAAAAKC19EAAAAAAAE7vQAAAAAAATu9AAAAAAGDC60AAAAAAYMLrQAAAAACgxexAAAAAAKDF7EAAAAAAYHzpQAAAAABgfOlAAAAAAKBS6EAAAAAAoFLoQAAAAAAgauhAAAAAACBq6EAAAAAA4K3jQAAAAADgreNAAAAAAEDD4EAAAAAAQMPgQAAAAAAAb9ZAAAAAAABv1kAAAAAAwAfQQAAAAADAB9BAAAAAAADqwUAAAAAAAOrBQAAAAAAAIqVAAAAAAAAipUAAAAAAAOiUQAAAAAAA6JRA",
          "dtype": "f8",
          "shape": "24, 2"
         },
         "hovertemplate": "source=model<br>pdpurp_label=Escort<br>tlvorg_hr=%{x}<br>percentage=%{y}<br>toexpfac=%{customdata[0]}<br>sample_count=%{customdata[1]}<extra></extra>",
         "legendgroup": "model",
         "marker": {
          "color": "#91268F",
          "pattern": {
           "shape": ""
          }
         },
         "name": "model",
         "offsetgroup": "model",
         "orientation": "v",
         "showlegend": false,
         "textposition": "auto",
         "type": "bar",
         "x": {
          "bdata": "AAECAwQFBgcICQoLDA0ODxAREhMUFRYX",
          "dtype": "i1"
         },
         "xaxis": "x2",
         "y": {
          "bdata": "5uxRzjjHNT8eZJxlvw41P9yLCphB0SQ/ZjRS36btgj9Wya4ltGl1Py7PPx+ykoI/4nmKpajanz99FsyzrkSwPzQmWQsseLk/SfOoMYfvvT+v9kdXwoe6P4eqyZhADbQ/QHQ+3uLHsT/upGPv8W2yPyxF+i8YU7A/3NjHAMAorz9nlWzt2kavPwzpt2ngNak/MVcllmV5pT9DDY8jMb2cP26iIysyiZQ/Kut4GP7yhj/2QGthmBJrP/qwBQlLyFo/",
          "dtype": "f8"
         },
         "yaxis": "y2"
        },
        {
         "alignmentgroup": "True",
         "customdata": {
          "bdata": "AAAAAADgakAAAAAAAOBqQAAAAAAAYGBAAAAAAABgYEAAAAAAAIBJQAAAAAAAgElAAAAAAADwqUAAAAAAAPCpQAAAAAAAKKJAAAAAAAAookAAAAAAAKKxQAAAAAAAorFAAAAAAIAsy0AAAAAAgCzLQAAAAACAtdtAAAAAAIC120AAAAAAYE/nQAAAAABgT+dAAAAAAMB07EAAAAAAwHTsQAAAAABgfepAAAAAAGB96kAAAAAAIHflQAAAAAAgd+VAAAAAAACd40AAAAAAAJ3jQAAAAABALuRAAAAAAEAu5EAAAAAAoAfhQAAAAACgB+FAAAAAAEA730AAAAAAQDvfQAAAAABAUeFAAAAAAEBR4UAAAAAAQBvgQAAAAABAG+BAAAAAAEDa3EAAAAAAQNrcQAAAAACA5dBAAAAAAIDl0EAAAAAAAADIQAAAAAAAAMhAAAAAAABUvEAAAAAAAFS8QAAAAAAA2JhAAAAAAADYmEAAAAAAABCFQAAAAAAAEIVA",
          "dtype": "f8",
          "shape": "24, 2"
         },
         "hovertemplate": "source=model<br>pdpurp_label=Personal Business<br>tlvorg_hr=%{x}<br>percentage=%{y}<br>toexpfac=%{customdata[0]}<br>sample_count=%{customdata[1]}<extra></extra>",
         "legendgroup": "model",
         "marker": {
          "color": "#91268F",
          "pattern": {
           "shape": ""
          }
         },
         "name": "model",
         "offsetgroup": "model",
         "orientation": "v",
         "showlegend": false,
         "textposition": "auto",
         "type": "bar",
         "x": {
          "bdata": "AAECAwQFBgcICQoLDA0ODxAREhMUFRYX",
          "dtype": "i1"
         },
         "xaxis": "x",
         "y": {
          "bdata": "fTKE0Kr4OT+IVrXJGKYvP4uRUryApBg/2KF5q7wQeT9+JNVEt4txPyL6arQ4CoE/Miq5UphCmj+QqWYQ/caqP6njy3G6hrY/1BTr1c5/uz/Zp37AW5m5P6UI+nFbvrQ/fhjelSz0sj+iwQRQioCzPxfZ7IUJdbA/PeQKC2surj+q9GvHL7ywP6nz0Vk4Ia8/mnumJuXhqz8g8g5DD1SgP4MQqBpqMZc/fV8hvShgiz8Y+ZfVJgJoP35+Dx6zWlQ/",
          "dtype": "f8"
         },
         "yaxis": "y"
        },
        {
         "alignmentgroup": "True",
         "customdata": {
          "bdata": "AAAAAAAAAAAAAAAAAAAAABq0z6uRIHJAAAAAAAAA8D8AAAAAAAAAAAAAAAAAAAAA0tVLAlDizEAAAAAAAAA1QFx+yGLfb+5AAAAAAABAUEAuQN0sD/76QAAAAAAA4GBArA8JM8VMDEEAAAAAABB3QIZBGK0pGxVBAAAAAAAwg0ANQH1dWZoPQQAAAAAAgH9A+YjUBb7wAEEAAAAAAEByQGEesonUeeRAAAAAAABAZUCEyRpB0ojiQAAAAAAAwFhA5qvcbD1z3kAAAAAAAIBaQG/f5pEDXdhAAAAAAABAUUBmU3bxwKXaQAAAAAAAAE9AgbC4T1rc2kAAAAAAAABJQJeCMAPioNJAAAAAAACAQEAxWxC+/w/IQAAAAAAAAEFATRHVZ2+MnkAAAAAAAAAkQPuQBcY1TodAAAAAAAAAHEBH82UgB+1wQAAAAAAAABxAcAdvqEVzXEAAAAAAAAAIQNj+/AW9NXhAAAAAAAAAGEBl4E0BBGptQAAAAAAAAPA/",
          "dtype": "f8",
          "shape": "24, 2"
         },
         "hovertemplate": "source=survey<br>pdpurp_label=Work<br>tlvorg_hr=%{x}<br>percentage=%{y}<br>toexpfac=%{customdata[0]}<br>sample_count=%{customdata[1]}<extra></extra>",
         "legendgroup": "survey",
         "marker": {
          "color": "#8CC63E",
          "pattern": {
           "shape": ""
          }
         },
         "name": "survey",
         "offsetgroup": "survey",
         "orientation": "v",
         "showlegend": true,
         "textposition": "auto",
         "type": "bar",
         "x": {
          "bdata": "AAECAwQFBgcICQoLDA0ODxAREhMUFRYX",
          "dtype": "i1"
         },
         "xaxis": "x6",
         "y": {
          "bdata": "AAAAAAAAAABVBBAde10rPwAAAAAAAAAAWo8YB0rNhT9lO8DvXvmmPzV6uE/FX7Q/26R312lcxT9TvIqMtNzPP9TEj9Sp2sc/TBqLptGSuT/DwkKoJ+meP3VIkaXc+ps/G7tvnOn7lj/MkXwfwGOSPyNiDfAdHZQ/pEQsLFRGlD8e12OFLx+MP1GCbnOeKYI/Va9CHO4OVz+lChBuWJdBP9nVYik2jSk/BydQlHl5FT9AE+vdGkYyP/UvgxG4MyY/",
          "dtype": "f8"
         },
         "yaxis": "y6"
        },
        {
         "alignmentgroup": "True",
         "customdata": {
          "bdata": "AAAAAAAAAAAAAAAAAAAAAAAAAAAAAAAAAAAAAAAAAAAAAAAAAAAAAAAAAAAAAAAAAAAAAAAAAAAAAAAAAAAAABXug+gRrFVAAAAAAAAA8D+dwa9xRmZ8QAAAAAAAABBAuuUZIj6A4UAAAAAAAAA8QCh/bAZTjwZBAAAAAACgbEClPKxJ/8gFQQAAAAAAYHBA3tvEO9a66kAAAAAAAIBLQPdSYTBkncZAAAAAAAAAM0BSnx+6l9mwQAAAAAAAACxAsTXHA4G2tUAAAAAAAAAiQNHSt2HkTalAAAAAAAAAJkDb2blpikSlQAAAAAAAABhAafnaty14kEAAAAAAAAAQQIz1IaMZkq5AAAAAAAAAHECPuJ3iBiuLQAAAAAAAABRAE7jHjZGnl0AAAAAAAADwPwAAAAAAAAAAAAAAAAAAAAAAAAAAAAAAAAAAAAAAAAAAAAAAAAAAAAAAAAAAAAAAAAAAAAAAAAAAAAAAAAAAAAAAAAAAAAAAAAAAAAAAAAAA",
          "dtype": "f8",
          "shape": "24, 2"
         },
         "hovertemplate": "source=survey<br>pdpurp_label=School<br>tlvorg_hr=%{x}<br>percentage=%{y}<br>toexpfac=%{customdata[0]}<br>sample_count=%{customdata[1]}<extra></extra>",
         "legendgroup": "survey",
         "marker": {
          "color": "#8CC63E",
          "pattern": {
           "shape": ""
          }
         },
         "name": "survey",
         "offsetgroup": "survey",
         "orientation": "v",
         "showlegend": false,
         "textposition": "auto",
         "type": "bar",
         "x": {
          "bdata": "AAECAwQFBgcICQoLDA0ODxAREhMUFRYX",
          "dtype": "i1"
         },
         "xaxis": "x5",
         "y": {
          "bdata": "AAAAAAAAAAAAAAAAAAAAAAAAAAAAAAAAAAAAAAAAAAD9tG2FdjonP1VySt9VcE4/pn10LfXBsj+93vIwCS7YP512mal3Wdc/ZY/RLjSmvD/0GhfyHD2YPzIUcEpXD4I/bnbkbqVFhz951I2nDR97P4bYUuB/y3Y/2V7Ai+6mYT8eX+dRCWKAPx62WDFzHl0/F6gTX2daaT8AAAAAAAAAAAAAAAAAAAAAAAAAAAAAAAAAAAAAAAAAAAAAAAAAAAAA",
          "dtype": "f8"
         },
         "yaxis": "y5"
        },
        {
         "alignmentgroup": "True",
         "customdata": {
          "bdata": "1QdIDa/wYUAAAAAAAADwPwAAAAAAAAAAAAAAAAAAAADR7iqYLNeBQAAAAAAAAPA/AAAAAAAAAAAAAAAAAAAAAAAAAAAAAAAAAAAAAAAAAACAp8IqHEaIQAAAAAAAABRA7Xrek5qhskAAAAAAAAAgQM6PcArzpcdAAAAAAAAAQkDzoDmFr7rRQAAAAAAAgEpAMzyLdM1I6kAAAAAAAMBcQNsW0zH1iu5AAAAAAABgZEC33pMGK2jxQAAAAAAAgF5AUAfsNpTl7EAAAAAAAABfQBAHTd2GBO1AAAAAAADgYEAcjmpqYqTuQAAAAAAAQGNAwYM7z9fE8EAAAAAAAMBbQKXgcywz5OpAAAAAAACAW0C8236fG8XbQAAAAAAAwF1ASnebqF5z7kAAAAAAAIBZQHBBIj8M99NAAAAAAABAVkBY3i6bbXK8QAAAAAAAAEBAZ5M5IQOOn0AAAAAAAAAsQL9tea/HWqJAAAAAAAAAHEBKD+y8mqKDQAAAAAAAAAhA",
          "dtype": "f8",
          "shape": "24, 2"
         },
         "hovertemplate": "source=survey<br>pdpurp_label=Shop<br>tlvorg_hr=%{x}<br>percentage=%{y}<br>toexpfac=%{customdata[0]}<br>sample_count=%{customdata[1]}<extra></extra>",
         "legendgroup": "survey",
         "marker": {
          "color": "#8CC63E",
          "pattern": {
           "shape": ""
          }
         },
         "name": "survey",
         "offsetgroup": "survey",
         "orientation": "v",
         "showlegend": false,
         "textposition": "auto",
         "type": "bar",
         "x": {
          "bdata": "AAECAwQFBgcICQoLDA0ODxAREhMUFRYX",
          "dtype": "i1"
         },
         "xaxis": "x4",
         "y": {
          "bdata": "AWzaforQLD8AAAAAAAAAAOWBOJmRp0w/AAAAAAAAAAAAAAAAAAAAAMgENdBlflM/nHidf7PsfT9wikXTxv2SPybxHdPPeZw/O7eQCbwbtT8J4K4ONoe4P5LcarVG9bs/sa778M80tz+85NFsqk23P8A0kHOhm7g/9hI3m/Puuj+ZxMm/h5i1P+PN4fclTaY/rp6mqER0uD+ZqJVJjgigPxz02mZW2IY/OPXTWEBXaT/czveO8nptP7SNtpp7iU8/",
          "dtype": "f8"
         },
         "yaxis": "y4"
        },
        {
         "alignmentgroup": "True",
         "customdata": {
          "bdata": "S+8gLvrEg0AAAAAAAADwPwAAAAAAAAAAAAAAAAAAAAAAAAAAAAAAAAAAAAAAAAAAAAAAAAAAAAAAAAAAAAAAAMRVEpr8TzdAAAAAAAAA8D8g+/hVTwlHQAAAAAAAAABA9Mg1M47bpkAAAAAAAAAgQFJAubgdz9ZAAAAAAAAANEBgiJ9TBZnLQAAAAAAAAEZAWgmn1kz/zkAAAAAAAIBIQNKNFhfugNVAAAAAAACATEAbN5FlX7ngQAAAAAAAgFpAQvsd5Nai4kAAAAAAAABdQFo4W/eeHMtAAAAAAACATkAa9BZkDw7KQAAAAAAAAENAv5KS4gNg3kAAAAAAAABMQIkSzmCCxdFAAAAAAACATEBzE711dwPdQAAAAAAAAFhAP6++QyeO40AAAAAAAABaQPebI3fYFOFAAAAAAACAS0BvPnUpTADLQAAAAAAAAEBAIkiIyhSarkAAAAAAAAAmQCRB862zG1BAAAAAAAAAAECW8Rw5KIKCQAAAAAAAAABA",
          "dtype": "f8",
          "shape": "24, 2"
         },
         "hovertemplate": "source=survey<br>pdpurp_label=Meal<br>tlvorg_hr=%{x}<br>percentage=%{y}<br>toexpfac=%{customdata[0]}<br>sample_count=%{customdata[1]}<extra></extra>",
         "legendgroup": "survey",
         "marker": {
          "color": "#8CC63E",
          "pattern": {
           "shape": ""
          }
         },
         "name": "survey",
         "offsetgroup": "survey",
         "orientation": "v",
         "showlegend": false,
         "textposition": "auto",
         "type": "bar",
         "x": {
          "bdata": "AAECAwQFBgcICQoLDA0ODxAREhMUFRYX",
          "dtype": "i1"
         },
         "xaxis": "x3",
         "y": {
          "bdata": "V2/FfbiFXT8AAAAAAAAAAAAAAAAAAAAAAAAAAAAAAABgOf/0F2gRP0b3+FNSMyE/mUm0higRgT9DyrHI3gexPy1ZLjc2m6Q/bRW0FwUlpz+0/CtHWA6wP8oXuA2D+bg/EnIiznLUuz8xb+CdUz6kP/a3xdlOdKM/6xGHUhautj/eQTPV7YmqP7wjo3rWqbU/ZF7wstkzvT8VR5KEHIK5P8v7yq8tKaQ/khPBcXHZhj9VYLGcDg4oP7ABBZeko1s/",
          "dtype": "f8"
         },
         "yaxis": "y3"
        },
        {
         "alignmentgroup": "True",
         "customdata": {
          "bdata": "AAAAAAAAAAAAAAAAAAAAAAAAAAAAAAAAAAAAAAAAAAAAAAAAAAAAAAAAAAAAAAAAAAAAAAAAAAAAAAAAAAAAAI2cHv82rK9AAAAAAAAA8D8sAPvhXkusQAAAAAAAACBAsV/2nwVcy0AAAAAAAAAuQDNFaCSsdfNAAAAAAAAAXEBRihx+nTf6QAAAAAAAwGJABlgyxoYD4EAAAAAAAABHQGJNsNjzkrZAAAAAAAAAO0ADRZiCEWjDQAAAAAAAADdAk/j7DzBKykAAAAAAAABDQPeu60IUiONAAAAAAACAR0A80XSvYY/rQAAAAAAAAFJApPhITjFg8EAAAAAAAEBUQBf2lv/3j+JAAAAAAACAS0AxhYnaJcHoQAAAAAAAgEpAwLee8/Rlq0AAAAAAAAAxQIZjwHVZU8NAAAAAAAAAMEA4Pz6hrnegQAAAAAAAACBAxHQVY1SkdEAAAAAAAAAUQJQ4vZMi0LdAAAAAAAAAFEAAAAAAAAAAAAAAAAAAAAAA",
          "dtype": "f8",
          "shape": "24, 2"
         },
         "hovertemplate": "source=survey<br>pdpurp_label=Escort<br>tlvorg_hr=%{x}<br>percentage=%{y}<br>toexpfac=%{customdata[0]}<br>sample_count=%{customdata[1]}<extra></extra>",
         "legendgroup": "survey",
         "marker": {
          "color": "#8CC63E",
          "pattern": {
           "shape": ""
          }
         },
         "name": "survey",
         "offsetgroup": "survey",
         "orientation": "v",
         "showlegend": false,
         "textposition": "auto",
         "type": "bar",
         "x": {
          "bdata": "AAECAwQFBgcICQoLDA0ODxAREhMUFRYX",
          "dtype": "i1"
         },
         "xaxis": "x2",
         "y": {
          "bdata": "AAAAAAAAAAAAAAAAAAAAAAAAAAAAAAAAAAAAAAAAAACkluduR3l+Pyrh9WYsOXs/iH5ro+JSmj+iyop1F7nCP3bTwi2MOck/LdWar63Qrj8HK7DVMLiFP5y2bKkArJI/ryPFw2pLmT+HIZMzzcqyP2Im6/pMhLo/GydiuP6Cvz8S511XFdyxP9rmJ3NB0bc/vqcOsHFcej9aq2FlEZiSP8HjwBkysG8/wVofskrcQz/GcFLLXemGPwAAAAAAAAAA",
          "dtype": "f8"
         },
         "yaxis": "y2"
        },
        {
         "alignmentgroup": "True",
         "customdata": {
          "bdata": "AAAAAAAAAAAAAAAAAAAAAAAAAAAAAAAAAAAAAAAAAAAAAAAAAAAAAAAAAAAAAAAAAAAAAAAAAAAAAAAAAAAAAAAAAAAAAAAAAAAAAAAAAACJibUBgyqiQAAAAAAAABRAsrguCNcuuUAAAAAAAAA1QDAy4SPGTuJAAAAAAAAAT0Ak97Nd/nfVQAAAAAAAAFFAtNChgy2M50AAAAAAAEBWQOXglL5c0NpAAAAAAABAV0BxEKsTBD3bQAAAAAAAQFJAhTMj87SM20AAAAAAAABVQL/kIYma89VAAAAAAACAVUAkjMiK0oDhQAAAAAAAQFRA6IEbeXp03kAAAAAAAABRQOQI8e6iNMNAAAAAAACASkDicyQgjvXdQAAAAAAAAEJArI5UQz+TpEAAAAAAAAA2QEKFZNd4t8lAAAAAAAAALkCdw/wZe2obQAAAAAAAAPA/hHDV2Rp5PUAAAAAAAADwP8JPxfSWrWhAAAAAAAAA8D8AAAAAAAAAAAAAAAAAAAAA",
          "dtype": "f8",
          "shape": "24, 2"
         },
         "hovertemplate": "source=survey<br>pdpurp_label=Personal Business<br>tlvorg_hr=%{x}<br>percentage=%{y}<br>toexpfac=%{customdata[0]}<br>sample_count=%{customdata[1]}<extra></extra>",
         "legendgroup": "survey",
         "marker": {
          "color": "#8CC63E",
          "pattern": {
           "shape": ""
          }
         },
         "name": "survey",
         "offsetgroup": "survey",
         "orientation": "v",
         "showlegend": false,
         "textposition": "auto",
         "type": "bar",
         "x": {
          "bdata": "AAECAwQFBgcICQoLDA0ODxAREhMUFRYX",
          "dtype": "i1"
         },
         "xaxis": "x",
         "y": {
          "bdata": "AAAAAAAAAAAAAAAAAAAAAAAAAAAAAAAAAAAAAAAAAAAAAAAAAAAAAPLIKz/0hHs/+Kni2RUTkz/Q5cMN47u7P4N59qzgQrA/Ug2odvnVwT8jiNI2VU+0P4oWxZ6hobQ/knpPB/7dtD9mwdYwgaCwP6iTUUflg7o/FovihFoRtz9k7xOwGRidP3i/sI83sbY/X8W2gDsrfz9uV8Zkk3qjP+hnc3cRxPQ+Lf4IHvRSFj9/ZGyqL7FCPwAAAAAAAAAA",
          "dtype": "f8"
         },
         "yaxis": "y"
        }
       ],
       "layout": {
        "annotations": [
         {
          "font": {},
          "showarrow": false,
          "text": "Personal Business",
          "textangle": 90,
          "x": 0.98,
          "xanchor": "left",
          "xref": "paper",
          "y": 0.07083333333333333,
          "yanchor": "middle",
          "yref": "paper"
         },
         {
          "font": {},
          "showarrow": false,
          "text": "Escort",
          "textangle": 90,
          "x": 0.98,
          "xanchor": "left",
          "xref": "paper",
          "y": 0.2425,
          "yanchor": "middle",
          "yref": "paper"
         },
         {
          "font": {},
          "showarrow": false,
          "text": "Meal",
          "textangle": 90,
          "x": 0.98,
          "xanchor": "left",
          "xref": "paper",
          "y": 0.4141666666666667,
          "yanchor": "middle",
          "yref": "paper"
         },
         {
          "font": {},
          "showarrow": false,
          "text": "Shop",
          "textangle": 90,
          "x": 0.98,
          "xanchor": "left",
          "xref": "paper",
          "y": 0.5858333333333334,
          "yanchor": "middle",
          "yref": "paper"
         },
         {
          "font": {},
          "showarrow": false,
          "text": "School",
          "textangle": 90,
          "x": 0.98,
          "xanchor": "left",
          "xref": "paper",
          "y": 0.7575000000000001,
          "yanchor": "middle",
          "yref": "paper"
         },
         {
          "font": {},
          "showarrow": false,
          "text": "Work",
          "textangle": 90,
          "x": 0.98,
          "xanchor": "left",
          "xref": "paper",
          "y": 0.9291666666666667,
          "yanchor": "middle",
          "yref": "paper"
         }
        ],
        "barmode": "group",
        "height": 1500,
        "legend": {
         "title": {
          "text": "source"
         },
         "tracegroupgap": 0
        },
        "template": {
         "data": {
          "bar": [
           {
            "error_x": {
             "color": "rgb(36,36,36)"
            },
            "error_y": {
             "color": "rgb(36,36,36)"
            },
            "marker": {
             "line": {
              "color": "white",
              "width": 0.5
             },
             "pattern": {
              "fillmode": "overlay",
              "size": 10,
              "solidity": 0.2
             }
            },
            "type": "bar"
           }
          ],
          "barpolar": [
           {
            "marker": {
             "line": {
              "color": "white",
              "width": 0.5
             },
             "pattern": {
              "fillmode": "overlay",
              "size": 10,
              "solidity": 0.2
             }
            },
            "type": "barpolar"
           }
          ],
          "carpet": [
           {
            "aaxis": {
             "endlinecolor": "rgb(36,36,36)",
             "gridcolor": "white",
             "linecolor": "white",
             "minorgridcolor": "white",
             "startlinecolor": "rgb(36,36,36)"
            },
            "baxis": {
             "endlinecolor": "rgb(36,36,36)",
             "gridcolor": "white",
             "linecolor": "white",
             "minorgridcolor": "white",
             "startlinecolor": "rgb(36,36,36)"
            },
            "type": "carpet"
           }
          ],
          "choropleth": [
           {
            "colorbar": {
             "outlinewidth": 1,
             "tickcolor": "rgb(36,36,36)",
             "ticks": "outside"
            },
            "type": "choropleth"
           }
          ],
          "contour": [
           {
            "colorbar": {
             "outlinewidth": 1,
             "tickcolor": "rgb(36,36,36)",
             "ticks": "outside"
            },
            "colorscale": [
             [
              0.0,
              "#440154"
             ],
             [
              0.1111111111111111,
              "#482878"
             ],
             [
              0.2222222222222222,
              "#3e4989"
             ],
             [
              0.3333333333333333,
              "#31688e"
             ],
             [
              0.4444444444444444,
              "#26828e"
             ],
             [
              0.5555555555555556,
              "#1f9e89"
             ],
             [
              0.6666666666666666,
              "#35b779"
             ],
             [
              0.7777777777777778,
              "#6ece58"
             ],
             [
              0.8888888888888888,
              "#b5de2b"
             ],
             [
              1.0,
              "#fde725"
             ]
            ],
            "type": "contour"
           }
          ],
          "contourcarpet": [
           {
            "colorbar": {
             "outlinewidth": 1,
             "tickcolor": "rgb(36,36,36)",
             "ticks": "outside"
            },
            "type": "contourcarpet"
           }
          ],
          "heatmap": [
           {
            "colorbar": {
             "outlinewidth": 1,
             "tickcolor": "rgb(36,36,36)",
             "ticks": "outside"
            },
            "colorscale": [
             [
              0.0,
              "#440154"
             ],
             [
              0.1111111111111111,
              "#482878"
             ],
             [
              0.2222222222222222,
              "#3e4989"
             ],
             [
              0.3333333333333333,
              "#31688e"
             ],
             [
              0.4444444444444444,
              "#26828e"
             ],
             [
              0.5555555555555556,
              "#1f9e89"
             ],
             [
              0.6666666666666666,
              "#35b779"
             ],
             [
              0.7777777777777778,
              "#6ece58"
             ],
             [
              0.8888888888888888,
              "#b5de2b"
             ],
             [
              1.0,
              "#fde725"
             ]
            ],
            "type": "heatmap"
           }
          ],
          "histogram": [
           {
            "marker": {
             "line": {
              "color": "white",
              "width": 0.6
             }
            },
            "type": "histogram"
           }
          ],
          "histogram2d": [
           {
            "colorbar": {
             "outlinewidth": 1,
             "tickcolor": "rgb(36,36,36)",
             "ticks": "outside"
            },
            "colorscale": [
             [
              0.0,
              "#440154"
             ],
             [
              0.1111111111111111,
              "#482878"
             ],
             [
              0.2222222222222222,
              "#3e4989"
             ],
             [
              0.3333333333333333,
              "#31688e"
             ],
             [
              0.4444444444444444,
              "#26828e"
             ],
             [
              0.5555555555555556,
              "#1f9e89"
             ],
             [
              0.6666666666666666,
              "#35b779"
             ],
             [
              0.7777777777777778,
              "#6ece58"
             ],
             [
              0.8888888888888888,
              "#b5de2b"
             ],
             [
              1.0,
              "#fde725"
             ]
            ],
            "type": "histogram2d"
           }
          ],
          "histogram2dcontour": [
           {
            "colorbar": {
             "outlinewidth": 1,
             "tickcolor": "rgb(36,36,36)",
             "ticks": "outside"
            },
            "colorscale": [
             [
              0.0,
              "#440154"
             ],
             [
              0.1111111111111111,
              "#482878"
             ],
             [
              0.2222222222222222,
              "#3e4989"
             ],
             [
              0.3333333333333333,
              "#31688e"
             ],
             [
              0.4444444444444444,
              "#26828e"
             ],
             [
              0.5555555555555556,
              "#1f9e89"
             ],
             [
              0.6666666666666666,
              "#35b779"
             ],
             [
              0.7777777777777778,
              "#6ece58"
             ],
             [
              0.8888888888888888,
              "#b5de2b"
             ],
             [
              1.0,
              "#fde725"
             ]
            ],
            "type": "histogram2dcontour"
           }
          ],
          "mesh3d": [
           {
            "colorbar": {
             "outlinewidth": 1,
             "tickcolor": "rgb(36,36,36)",
             "ticks": "outside"
            },
            "type": "mesh3d"
           }
          ],
          "parcoords": [
           {
            "line": {
             "colorbar": {
              "outlinewidth": 1,
              "tickcolor": "rgb(36,36,36)",
              "ticks": "outside"
             }
            },
            "type": "parcoords"
           }
          ],
          "pie": [
           {
            "automargin": true,
            "type": "pie"
           }
          ],
          "scatter": [
           {
            "fillpattern": {
             "fillmode": "overlay",
             "size": 10,
             "solidity": 0.2
            },
            "type": "scatter"
           }
          ],
          "scatter3d": [
           {
            "line": {
             "colorbar": {
              "outlinewidth": 1,
              "tickcolor": "rgb(36,36,36)",
              "ticks": "outside"
             }
            },
            "marker": {
             "colorbar": {
              "outlinewidth": 1,
              "tickcolor": "rgb(36,36,36)",
              "ticks": "outside"
             }
            },
            "type": "scatter3d"
           }
          ],
          "scattercarpet": [
           {
            "marker": {
             "colorbar": {
              "outlinewidth": 1,
              "tickcolor": "rgb(36,36,36)",
              "ticks": "outside"
             }
            },
            "type": "scattercarpet"
           }
          ],
          "scattergeo": [
           {
            "marker": {
             "colorbar": {
              "outlinewidth": 1,
              "tickcolor": "rgb(36,36,36)",
              "ticks": "outside"
             }
            },
            "type": "scattergeo"
           }
          ],
          "scattergl": [
           {
            "marker": {
             "colorbar": {
              "outlinewidth": 1,
              "tickcolor": "rgb(36,36,36)",
              "ticks": "outside"
             }
            },
            "type": "scattergl"
           }
          ],
          "scattermap": [
           {
            "marker": {
             "colorbar": {
              "outlinewidth": 1,
              "tickcolor": "rgb(36,36,36)",
              "ticks": "outside"
             }
            },
            "type": "scattermap"
           }
          ],
          "scattermapbox": [
           {
            "marker": {
             "colorbar": {
              "outlinewidth": 1,
              "tickcolor": "rgb(36,36,36)",
              "ticks": "outside"
             }
            },
            "type": "scattermapbox"
           }
          ],
          "scatterpolar": [
           {
            "marker": {
             "colorbar": {
              "outlinewidth": 1,
              "tickcolor": "rgb(36,36,36)",
              "ticks": "outside"
             }
            },
            "type": "scatterpolar"
           }
          ],
          "scatterpolargl": [
           {
            "marker": {
             "colorbar": {
              "outlinewidth": 1,
              "tickcolor": "rgb(36,36,36)",
              "ticks": "outside"
             }
            },
            "type": "scatterpolargl"
           }
          ],
          "scatterternary": [
           {
            "marker": {
             "colorbar": {
              "outlinewidth": 1,
              "tickcolor": "rgb(36,36,36)",
              "ticks": "outside"
             }
            },
            "type": "scatterternary"
           }
          ],
          "surface": [
           {
            "colorbar": {
             "outlinewidth": 1,
             "tickcolor": "rgb(36,36,36)",
             "ticks": "outside"
            },
            "colorscale": [
             [
              0.0,
              "#440154"
             ],
             [
              0.1111111111111111,
              "#482878"
             ],
             [
              0.2222222222222222,
              "#3e4989"
             ],
             [
              0.3333333333333333,
              "#31688e"
             ],
             [
              0.4444444444444444,
              "#26828e"
             ],
             [
              0.5555555555555556,
              "#1f9e89"
             ],
             [
              0.6666666666666666,
              "#35b779"
             ],
             [
              0.7777777777777778,
              "#6ece58"
             ],
             [
              0.8888888888888888,
              "#b5de2b"
             ],
             [
              1.0,
              "#fde725"
             ]
            ],
            "type": "surface"
           }
          ],
          "table": [
           {
            "cells": {
             "fill": {
              "color": "rgb(237,237,237)"
             },
             "line": {
              "color": "white"
             }
            },
            "header": {
             "fill": {
              "color": "rgb(217,217,217)"
             },
             "line": {
              "color": "white"
             }
            },
            "type": "table"
           }
          ]
         },
         "layout": {
          "annotationdefaults": {
           "arrowhead": 0,
           "arrowwidth": 1
          },
          "autotypenumbers": "strict",
          "coloraxis": {
           "colorbar": {
            "outlinewidth": 1,
            "tickcolor": "rgb(36,36,36)",
            "ticks": "outside"
           }
          },
          "colorscale": {
           "diverging": [
            [
             0.0,
             "rgb(103,0,31)"
            ],
            [
             0.1,
             "rgb(178,24,43)"
            ],
            [
             0.2,
             "rgb(214,96,77)"
            ],
            [
             0.3,
             "rgb(244,165,130)"
            ],
            [
             0.4,
             "rgb(253,219,199)"
            ],
            [
             0.5,
             "rgb(247,247,247)"
            ],
            [
             0.6,
             "rgb(209,229,240)"
            ],
            [
             0.7,
             "rgb(146,197,222)"
            ],
            [
             0.8,
             "rgb(67,147,195)"
            ],
            [
             0.9,
             "rgb(33,102,172)"
            ],
            [
             1.0,
             "rgb(5,48,97)"
            ]
           ],
           "sequential": [
            [
             0.0,
             "#440154"
            ],
            [
             0.1111111111111111,
             "#482878"
            ],
            [
             0.2222222222222222,
             "#3e4989"
            ],
            [
             0.3333333333333333,
             "#31688e"
            ],
            [
             0.4444444444444444,
             "#26828e"
            ],
            [
             0.5555555555555556,
             "#1f9e89"
            ],
            [
             0.6666666666666666,
             "#35b779"
            ],
            [
             0.7777777777777778,
             "#6ece58"
            ],
            [
             0.8888888888888888,
             "#b5de2b"
            ],
            [
             1.0,
             "#fde725"
            ]
           ],
           "sequentialminus": [
            [
             0.0,
             "#440154"
            ],
            [
             0.1111111111111111,
             "#482878"
            ],
            [
             0.2222222222222222,
             "#3e4989"
            ],
            [
             0.3333333333333333,
             "#31688e"
            ],
            [
             0.4444444444444444,
             "#26828e"
            ],
            [
             0.5555555555555556,
             "#1f9e89"
            ],
            [
             0.6666666666666666,
             "#35b779"
            ],
            [
             0.7777777777777778,
             "#6ece58"
            ],
            [
             0.8888888888888888,
             "#b5de2b"
            ],
            [
             1.0,
             "#fde725"
            ]
           ]
          },
          "colorway": [
           "#91268F",
           "#8CC63E",
           "#00A7A0",
           "#F05A28",
           "#4C4C4C",
           "#630460",
           "#9f3913",
           "#588527",
           "#00716c",
           "#3e4040"
          ],
          "font": {
           "color": "rgb(36,36,36)",
           "family": "Poppins",
           "size": 11
          },
          "geo": {
           "bgcolor": "white",
           "lakecolor": "white",
           "landcolor": "white",
           "showlakes": true,
           "showland": true,
           "subunitcolor": "white"
          },
          "hoverlabel": {
           "align": "left"
          },
          "hovermode": "closest",
          "mapbox": {
           "style": "light"
          },
          "paper_bgcolor": "white",
          "plot_bgcolor": "white",
          "polar": {
           "angularaxis": {
            "gridcolor": "rgb(232,232,232)",
            "linecolor": "rgb(36,36,36)",
            "showgrid": false,
            "showline": true,
            "ticks": "outside"
           },
           "bgcolor": "white",
           "radialaxis": {
            "gridcolor": "rgb(232,232,232)",
            "linecolor": "rgb(36,36,36)",
            "showgrid": false,
            "showline": true,
            "ticks": "outside"
           }
          },
          "scene": {
           "xaxis": {
            "backgroundcolor": "white",
            "gridcolor": "rgb(232,232,232)",
            "gridwidth": 2,
            "linecolor": "rgb(36,36,36)",
            "showbackground": true,
            "showgrid": false,
            "showline": true,
            "ticks": "outside",
            "zeroline": false,
            "zerolinecolor": "rgb(36,36,36)"
           },
           "yaxis": {
            "backgroundcolor": "white",
            "gridcolor": "rgb(232,232,232)",
            "gridwidth": 2,
            "linecolor": "rgb(36,36,36)",
            "showbackground": true,
            "showgrid": false,
            "showline": true,
            "ticks": "outside",
            "zeroline": false,
            "zerolinecolor": "rgb(36,36,36)"
           },
           "zaxis": {
            "backgroundcolor": "white",
            "gridcolor": "rgb(232,232,232)",
            "gridwidth": 2,
            "linecolor": "rgb(36,36,36)",
            "showbackground": true,
            "showgrid": false,
            "showline": true,
            "ticks": "outside",
            "zeroline": false,
            "zerolinecolor": "rgb(36,36,36)"
           }
          },
          "shapedefaults": {
           "fillcolor": "black",
           "line": {
            "width": 0
           },
           "opacity": 0.3
          },
          "ternary": {
           "aaxis": {
            "gridcolor": "rgb(232,232,232)",
            "linecolor": "rgb(36,36,36)",
            "showgrid": false,
            "showline": true,
            "ticks": "outside"
           },
           "baxis": {
            "gridcolor": "rgb(232,232,232)",
            "linecolor": "rgb(36,36,36)",
            "showgrid": false,
            "showline": true,
            "ticks": "outside"
           },
           "bgcolor": "white",
           "caxis": {
            "gridcolor": "rgb(232,232,232)",
            "linecolor": "rgb(36,36,36)",
            "showgrid": false,
            "showline": true,
            "ticks": "outside"
           }
          },
          "title": {
           "x": 0.05
          },
          "xaxis": {
           "automargin": true,
           "gridcolor": "rgb(232,232,232)",
           "linecolor": "rgb(36,36,36)",
           "showgrid": false,
           "showline": true,
           "ticks": "outside",
           "title": {
            "standoff": 15
           },
           "zeroline": false,
           "zerolinecolor": "rgb(36,36,36)"
          },
          "yaxis": {
           "automargin": true,
           "gridcolor": "rgb(232,232,232)",
           "linecolor": "rgb(36,36,36)",
           "showgrid": false,
           "showline": true,
           "ticks": "outside",
           "title": {
            "standoff": 15
           },
           "zeroline": false,
           "zerolinecolor": "rgb(36,36,36)"
          }
         }
        },
        "title": {
         "text": "tour origin departure hour by purpose"
        },
        "width": 850,
        "xaxis": {
         "anchor": "y",
         "categoryorder": "category ascending",
         "domain": [
          0.0,
          0.98
         ],
         "dtick": 1,
         "title": {
          "text": "tlvorg_hr"
         }
        },
        "xaxis2": {
         "anchor": "y2",
         "categoryorder": "category ascending",
         "domain": [
          0.0,
          0.98
         ],
         "dtick": 1,
         "matches": "x",
         "showticklabels": false
        },
        "xaxis3": {
         "anchor": "y3",
         "categoryorder": "category ascending",
         "domain": [
          0.0,
          0.98
         ],
         "dtick": 1,
         "matches": "x",
         "showticklabels": false
        },
        "xaxis4": {
         "anchor": "y4",
         "categoryorder": "category ascending",
         "domain": [
          0.0,
          0.98
         ],
         "dtick": 1,
         "matches": "x",
         "showticklabels": false
        },
        "xaxis5": {
         "anchor": "y5",
         "categoryorder": "category ascending",
         "domain": [
          0.0,
          0.98
         ],
         "dtick": 1,
         "matches": "x",
         "showticklabels": false
        },
        "xaxis6": {
         "anchor": "y6",
         "categoryorder": "category ascending",
         "domain": [
          0.0,
          0.98
         ],
         "dtick": 1,
         "matches": "x",
         "showticklabels": false
        },
        "yaxis": {
         "anchor": "x",
         "domain": [
          0.0,
          0.14166666666666666
         ],
         "tickformat": ".0%",
         "title": {
          "text": "percentage"
         }
        },
        "yaxis2": {
         "anchor": "x2",
         "domain": [
          0.17166666666666666,
          0.31333333333333335
         ],
         "matches": "y",
         "tickformat": ".0%",
         "title": {
          "text": "percentage"
         }
        },
        "yaxis3": {
         "anchor": "x3",
         "domain": [
          0.3433333333333333,
          0.485
         ],
         "matches": "y",
         "tickformat": ".0%",
         "title": {
          "text": "percentage"
         }
        },
        "yaxis4": {
         "anchor": "x4",
         "domain": [
          0.515,
          0.6566666666666667
         ],
         "matches": "y",
         "tickformat": ".0%",
         "title": {
          "text": "percentage"
         }
        },
        "yaxis5": {
         "anchor": "x5",
         "domain": [
          0.6866666666666666,
          0.8283333333333334
         ],
         "matches": "y",
         "tickformat": ".0%",
         "title": {
          "text": "percentage"
         }
        },
        "yaxis6": {
         "anchor": "x6",
         "domain": [
          0.8583333333333333,
          1.0
         ],
         "matches": "y",
         "tickformat": ".0%",
         "title": {
          "text": "percentage"
         }
        }
       }
      },
      "text/html": [
       "<div>            <script src=\"https://cdnjs.cloudflare.com/ajax/libs/mathjax/2.7.5/MathJax.js?config=TeX-AMS-MML_SVG\"></script><script type=\"text/javascript\">if (window.MathJax && window.MathJax.Hub && window.MathJax.Hub.Config) {window.MathJax.Hub.Config({SVG: {font: \"STIX-Web\"}});}</script>                <script type=\"text/javascript\">window.PlotlyConfig = {MathJaxConfig: 'local'};</script>\n",
       "        <script charset=\"utf-8\" src=\"https://cdn.plot.ly/plotly-3.0.1.min.js\"></script>                <div id=\"07b07193-7927-48e9-b7c1-6a6adfaed5ad\" class=\"plotly-graph-div\" style=\"height:1500px; width:850px;\"></div>            <script type=\"text/javascript\">                window.PLOTLYENV=window.PLOTLYENV || {};                                if (document.getElementById(\"07b07193-7927-48e9-b7c1-6a6adfaed5ad\")) {                    Plotly.newPlot(                        \"07b07193-7927-48e9-b7c1-6a6adfaed5ad\",                        [{\"alignmentgroup\":\"True\",\"customdata\":{\"dtype\":\"f8\",\"bdata\":\"AAAAAAByoUAAAAAAAHKhQAAAAAAA0JZAAAAAAADQlkAAAAAAACiDQAAAAAAAKINAAAAAAMA07EAAAAAAwDTsQAAAAACgOe1AAAAAAKA57UAAAAAAMIcAQQAAAAAwhwBBAAAAAMx8FEEAAAAAzHwUQQAAAAD8PRpBAAAAAPw9GkEAAAAAVH4VQQAAAABUfhVBAAAAAPBYB0EAAAAA8FgHQQAAAABQXftAAAAAAFBd+0AAAAAAIC72QAAAAAAgLvZAAAAAAMAN8kAAAAAAwA3yQAAAAABAh+1AAAAAAECH7UAAAAAAAHjqQAAAAAAAeOpAAAAAAKDN50AAAAAAoM3nQAAAAACA5+ZAAAAAAIDn5kAAAAAAwBvmQAAAAADAG+ZAAAAAACBx4kAAAAAAIHHiQAAAAACAe9NAAAAAAIB700AAAAAAgCPOQAAAAACAI85AAAAAAADvxEAAAAAAAO\\u002fEQAAAAAAAN7NAAAAAAAA3s0AAAAAAAGSrQAAAAAAAZKtA\",\"shape\":\"24, 2\"},\"hovertemplate\":\"source=model\\u003cbr\\u003epdpurp_label=Work\\u003cbr\\u003etlvorg_hr=%{x}\\u003cbr\\u003epercentage=%{y}\\u003cbr\\u003etoexpfac=%{customdata[0]}\\u003cbr\\u003esample_count=%{customdata[1]}\\u003cextra\\u003e\\u003c\\u002fextra\\u003e\",\"legendgroup\":\"model\",\"marker\":{\"color\":\"#91268F\",\"pattern\":{\"shape\":\"\"}},\"name\":\"model\",\"offsetgroup\":\"model\",\"orientation\":\"v\",\"showlegend\":true,\"textposition\":\"auto\",\"x\":{\"dtype\":\"i1\",\"bdata\":\"AAECAwQFBgcICQoLDA0ODxAREhMUFRYX\"},\"xaxis\":\"x6\",\"y\":{\"dtype\":\"f8\",\"bdata\":\"IbIiUWyyUD9JiHOke9VFP42P3mOiVTI\\u002fAQ+e1wD\\u002fmj\\u002fqEJMGsPibPwP7T9pdo68\\u002f5oTx58+bwz\\u002fGS0j\\u002fzR3JPyhuH89LksQ\\u002fvryZ2otYtj9fdg+vzjCqP035oUiNOqU\\u002fMYkN8H1HoT9jf9qU+0KcPwWBCOVUVZk\\u002fg98ycTrIlj+6c1aT+euVP4zR7RH3KJU\\u002ftPf1pJqmkT\\u002fiuN5tjaWCP5FQIbaH2Hw\\u002f6KTRxh0JdD8G36Wq\\u002fWNiP6unnT41N1o\\u002f\"},\"yaxis\":\"y6\",\"type\":\"bar\"},{\"alignmentgroup\":\"True\",\"customdata\":{\"dtype\":\"f8\",\"bdata\":\"AAAAAAAAAAAAAAAAAAAAAAAAAAAAAAAAAAAAAAAAAAAAAAAAAAAAAAAAAAAAAAAAAAAAAAAQrkAAAAAAABCuQAAAAAAA+q5AAAAAAAD6rkAAAAAAgHvKQAAAAACAe8pAAAAAAMBL80AAAAAAwEvzQAAAAAAojwdBAAAAACiPB0EAAAAAQJ8IQQAAAABAnwhBAAAAAKDy90AAAAAAoPL3QAAAAAAAv+VAAAAAAAC\\u002f5UAAAAAAwNvaQAAAAADA29pAAAAAAEBh0UAAAAAAQGHRQAAAAAAACMhAAAAAAAAIyEAAAAAAgGXBQAAAAACAZcFAAAAAAAAOukAAAAAAAA66QAAAAAAAzbZAAAAAAADNtkAAAAAAAHi1QAAAAAAAeLVAAAAAAACosEAAAAAAAKiwQAAAAAAAXJdAAAAAAABcl0AAAAAAAGyUQAAAAAAAbJRAAAAAAAB4iUAAAAAAAHiJQAAAAAAAAPA\\u002fAAAAAAAA8D8AAAAAAADwPwAAAAAAAPA\\u002f\",\"shape\":\"24, 2\"},\"hovertemplate\":\"source=model\\u003cbr\\u003epdpurp_label=School\\u003cbr\\u003etlvorg_hr=%{x}\\u003cbr\\u003epercentage=%{y}\\u003cbr\\u003etoexpfac=%{customdata[0]}\\u003cbr\\u003esample_count=%{customdata[1]}\\u003cextra\\u003e\\u003c\\u002fextra\\u003e\",\"legendgroup\":\"model\",\"marker\":{\"color\":\"#91268F\",\"pattern\":{\"shape\":\"\"}},\"name\":\"model\",\"offsetgroup\":\"model\",\"orientation\":\"v\",\"showlegend\":false,\"textposition\":\"auto\",\"x\":{\"dtype\":\"i1\",\"bdata\":\"AAECAwQFBgcICQoLDA0ODxAREhMUFRYX\"},\"xaxis\":\"x5\",\"y\":{\"dtype\":\"f8\",\"bdata\":\"AAAAAAAAAAAAAAAAAAAAAAAAAAAAAAAAkdmb\\u002fEmWdT\\u002f3J\\u002fBsUT52PyxR\\u002fNksBJM\\u002f2VSJgDO2uz9uYHxRz+rQPxj9amcxrtE\\u002fKgKYUzwywT8LMoYMBjuvP2er7CpKSaM\\u002fkDMUjMX1mD8F3RWflUGRP2Tw5BLg+4g\\u002fltAC1Yu1gj8thxo5ZF+AP3bfuakO1X4\\u002fwwzkxLnrdz\\u002f574ZvE8ZgPwRci5IrVF0\\u002fR8w11dVJUj9l5MYCdPq2PmXkxgJ0+rY+\"},\"yaxis\":\"y5\",\"type\":\"bar\"},{\"alignmentgroup\":\"True\",\"customdata\":{\"dtype\":\"f8\",\"bdata\":\"AAAAAACgfEAAAAAAAKB8QAAAAAAAwHRAAAAAAADAdEAAAAAAAOBjQAAAAAAA4GNAAAAAAADImkAAAAAAAMiaQAAAAAAAOJdAAAAAAAA4l0AAAAAAANioQAAAAAAA2KhAAAAAAICAzUAAAAAAgIDNQAAAAACAXuVAAAAAAIBe5UAAAAAAQHryQAAAAABAevJAAAAAAEDl9kAAAAAAQOX2QAAAAAAg4fZAAAAAACDh9kAAAAAA0MXyQAAAAADQxfJAAAAAAJBZ8kAAAAAAkFnyQAAAAABQv\\u002fNAAAAAAFC\\u002f80AAAAAAIA7yQAAAAAAgDvJAAAAAAJBA8UAAAAAAkEDxQAAAAACQ7vJAAAAAAJDu8kAAAAAAEFrxQAAAAAAQWvFAAAAAANBi8EAAAAAA0GLwQAAAAACADOVAAAAAAIAM5UAAAAAAACHZQAAAAAAAIdlAAAAAAIA8yEAAAAAAgDzIQAAAAAAAaKpAAAAAAABoqkAAAAAAAKyYQAAAAAAArJhA\",\"shape\":\"24, 2\"},\"hovertemplate\":\"source=model\\u003cbr\\u003epdpurp_label=Shop\\u003cbr\\u003etlvorg_hr=%{x}\\u003cbr\\u003epercentage=%{y}\\u003cbr\\u003etoexpfac=%{customdata[0]}\\u003cbr\\u003esample_count=%{customdata[1]}\\u003cextra\\u003e\\u003c\\u002fextra\\u003e\",\"legendgroup\":\"model\",\"marker\":{\"color\":\"#91268F\",\"pattern\":{\"shape\":\"\"}},\"name\":\"model\",\"offsetgroup\":\"model\",\"orientation\":\"v\",\"showlegend\":false,\"textposition\":\"auto\",\"x\":{\"dtype\":\"i1\",\"bdata\":\"AAECAwQFBgcICQoLDA0ODxAREhMUFRYX\"},\"xaxis\":\"x4\",\"y\":{\"dtype\":\"f8\",\"bdata\":\"saSzw1rAPT+7Z6CLBpE1P4REnhM2qCQ\\u002fMkj4D8jVWz\\u002f0AcsC5SFYP6XVhZhD0mk\\u002fs+0eRbCpjj8VNNQywzWmP7IjPUZiNLM\\u002fOxNRbePLtz9wm63fmce3PyaTb3TrgrM\\u002f\\u002fRwD\\u002f2gSsz\\u002fOPWTMPIa0P\\u002fz2KhMBxLI\\u002fYSUuVlrusT9FG2nzRa2zP9GsIDbbCLI\\u002fOyyFiOAHsT8M\\u002fncrieClP2hjffYiHpo\\u002fDezIKaUwiT\\u002f27xsBAXJrP97XYFyIpFk\\u002f\"},\"yaxis\":\"y4\",\"type\":\"bar\"},{\"alignmentgroup\":\"True\",\"customdata\":{\"dtype\":\"f8\",\"bdata\":\"AAAAAABggEAAAAAAAGCAQAAAAAAAYHZAAAAAAABgdkAAAAAAAEBfQAAAAAAAQF9AAAAAAADMmkAAAAAAAMyaQAAAAAAAqJdAAAAAAACol0AAAAAAAOimQAAAAAAA6KZAAAAAAAB4wEAAAAAAAHjAQAAAAACA4ctAAAAAAIDhy0AAAAAAQB3bQAAAAABAHdtAAAAAAIB84kAAAAAAgHziQAAAAAAgVeZAAAAAACBV5kAAAAAAwHblQAAAAADAduVAAAAAAGBV5kAAAAAAYFXmQAAAAAAgR+RAAAAAACBH5EAAAAAA4OziQAAAAADg7OJAAAAAAKAq4UAAAAAAoCrhQAAAAACg\\u002fuRAAAAAAKD+5EAAAAAAYPXlQAAAAABg9eVAAAAAAEAX5kAAAAAAQBfmQAAAAACA5ttAAAAAAIDm20AAAAAAwH7UQAAAAADAftRAAAAAAACLy0AAAAAAAIvLQAAAAAAAfKlAAAAAAAB8qUAAAAAAACiVQAAAAAAAKJVA\",\"shape\":\"24, 2\"},\"hovertemplate\":\"source=model\\u003cbr\\u003epdpurp_label=Meal\\u003cbr\\u003etlvorg_hr=%{x}\\u003cbr\\u003epercentage=%{y}\\u003cbr\\u003etoexpfac=%{customdata[0]}\\u003cbr\\u003esample_count=%{customdata[1]}\\u003cextra\\u003e\\u003c\\u002fextra\\u003e\",\"legendgroup\":\"model\",\"marker\":{\"color\":\"#91268F\",\"pattern\":{\"shape\":\"\"}},\"name\":\"model\",\"offsetgroup\":\"model\",\"orientation\":\"v\",\"showlegend\":false,\"textposition\":\"auto\",\"x\":{\"dtype\":\"i1\",\"bdata\":\"AAECAwQFBgcICQoLDA0ODxAREhMUFRYX\"},\"xaxis\":\"x3\",\"y\":{\"dtype\":\"f8\",\"bdata\":\"PY\\u002fGATdXTz8+\\u002fM5ngmlFPxWiC0i95y0\\u002fB7Ko6MukaT97UckLZaNmP+fa6y6o63U\\u002f4uz9OCaFjz9ox+DfWq6aP99pytSM8qk\\u002fw7j6K9mwsT8HcUw1Gl+1PzDxffdLirQ\\u002f2bpAdFdftT+CuY3NvGezP1VX6jVjHLI\\u002fmP9OUYNtsD8rYvlNVxe0P4\\u002f\\u002f0QV5A7U\\u002fUBIf2OMjtT\\u002fUi\\u002fbKI7OqP7Hi3wT4nKM\\u002fUgG1yZNbmj+EIiVmQWN4P44b54DvPmQ\\u002f\"},\"yaxis\":\"y3\",\"type\":\"bar\"},{\"alignmentgroup\":\"True\",\"customdata\":{\"dtype\":\"f8\",\"bdata\":\"AAAAAAAAcUAAAAAAAABxQAAAAAAAcHBAAAAAAABwcEAAAAAAAEBgQAAAAAAAQGBAAAAAAACNvUAAAAAAAI29QAAAAAAAt7BAAAAAAAC3sEAAAAAAAP+8QAAAAAAA\\u002f7xAAAAAAIDd2EAAAAAAgN3YQAAAAADgZelAAAAAAOBl6UAAAAAAoOHzQAAAAACg4fNAAAAAACBe90AAAAAAIF73QAAAAACgtfRAAAAAAKC19EAAAAAAAE7vQAAAAAAATu9AAAAAAGDC60AAAAAAYMLrQAAAAACgxexAAAAAAKDF7EAAAAAAYHzpQAAAAABgfOlAAAAAAKBS6EAAAAAAoFLoQAAAAAAgauhAAAAAACBq6EAAAAAA4K3jQAAAAADgreNAAAAAAEDD4EAAAAAAQMPgQAAAAAAAb9ZAAAAAAABv1kAAAAAAwAfQQAAAAADAB9BAAAAAAADqwUAAAAAAAOrBQAAAAAAAIqVAAAAAAAAipUAAAAAAAOiUQAAAAAAA6JRA\",\"shape\":\"24, 2\"},\"hovertemplate\":\"source=model\\u003cbr\\u003epdpurp_label=Escort\\u003cbr\\u003etlvorg_hr=%{x}\\u003cbr\\u003epercentage=%{y}\\u003cbr\\u003etoexpfac=%{customdata[0]}\\u003cbr\\u003esample_count=%{customdata[1]}\\u003cextra\\u003e\\u003c\\u002fextra\\u003e\",\"legendgroup\":\"model\",\"marker\":{\"color\":\"#91268F\",\"pattern\":{\"shape\":\"\"}},\"name\":\"model\",\"offsetgroup\":\"model\",\"orientation\":\"v\",\"showlegend\":false,\"textposition\":\"auto\",\"x\":{\"dtype\":\"i1\",\"bdata\":\"AAECAwQFBgcICQoLDA0ODxAREhMUFRYX\"},\"xaxis\":\"x2\",\"y\":{\"dtype\":\"f8\",\"bdata\":\"5uxRzjjHNT8eZJxlvw41P9yLCphB0SQ\\u002fZjRS36btgj9Wya4ltGl1Py7PPx+ykoI\\u002f4nmKpajanz99FsyzrkSwPzQmWQsseLk\\u002fSfOoMYfvvT+v9kdXwoe6P4eqyZhADbQ\\u002fQHQ+3uLHsT\\u002fupGPv8W2yPyxF+i8YU7A\\u002f3NjHAMAorz9nlWzt2kavPwzpt2ngNak\\u002fMVcllmV5pT9DDY8jMb2cP26iIysyiZQ\\u002fKut4GP7yhj\\u002f2QGthmBJrP\\u002fqwBQlLyFo\\u002f\"},\"yaxis\":\"y2\",\"type\":\"bar\"},{\"alignmentgroup\":\"True\",\"customdata\":{\"dtype\":\"f8\",\"bdata\":\"AAAAAADgakAAAAAAAOBqQAAAAAAAYGBAAAAAAABgYEAAAAAAAIBJQAAAAAAAgElAAAAAAADwqUAAAAAAAPCpQAAAAAAAKKJAAAAAAAAookAAAAAAAKKxQAAAAAAAorFAAAAAAIAsy0AAAAAAgCzLQAAAAACAtdtAAAAAAIC120AAAAAAYE\\u002fnQAAAAABgT+dAAAAAAMB07EAAAAAAwHTsQAAAAABgfepAAAAAAGB96kAAAAAAIHflQAAAAAAgd+VAAAAAAACd40AAAAAAAJ3jQAAAAABALuRAAAAAAEAu5EAAAAAAoAfhQAAAAACgB+FAAAAAAEA730AAAAAAQDvfQAAAAABAUeFAAAAAAEBR4UAAAAAAQBvgQAAAAABAG+BAAAAAAEDa3EAAAAAAQNrcQAAAAACA5dBAAAAAAIDl0EAAAAAAAADIQAAAAAAAAMhAAAAAAABUvEAAAAAAAFS8QAAAAAAA2JhAAAAAAADYmEAAAAAAABCFQAAAAAAAEIVA\",\"shape\":\"24, 2\"},\"hovertemplate\":\"source=model\\u003cbr\\u003epdpurp_label=Personal Business\\u003cbr\\u003etlvorg_hr=%{x}\\u003cbr\\u003epercentage=%{y}\\u003cbr\\u003etoexpfac=%{customdata[0]}\\u003cbr\\u003esample_count=%{customdata[1]}\\u003cextra\\u003e\\u003c\\u002fextra\\u003e\",\"legendgroup\":\"model\",\"marker\":{\"color\":\"#91268F\",\"pattern\":{\"shape\":\"\"}},\"name\":\"model\",\"offsetgroup\":\"model\",\"orientation\":\"v\",\"showlegend\":false,\"textposition\":\"auto\",\"x\":{\"dtype\":\"i1\",\"bdata\":\"AAECAwQFBgcICQoLDA0ODxAREhMUFRYX\"},\"xaxis\":\"x\",\"y\":{\"dtype\":\"f8\",\"bdata\":\"fTKE0Kr4OT+IVrXJGKYvP4uRUryApBg\\u002f2KF5q7wQeT9+JNVEt4txPyL6arQ4CoE\\u002fMiq5UphCmj+QqWYQ\\u002fcaqP6njy3G6hrY\\u002f1BTr1c5\\u002fuz\\u002fZp37AW5m5P6UI+nFbvrQ\\u002ffhjelSz0sj+iwQRQioCzPxfZ7IUJdbA\\u002fPeQKC2surj+q9GvHL7ywP6nz0Vk4Ia8\\u002fmnumJuXhqz8g8g5DD1SgP4MQqBpqMZc\\u002ffV8hvShgiz8Y+ZfVJgJoP35+Dx6zWlQ\\u002f\"},\"yaxis\":\"y\",\"type\":\"bar\"},{\"alignmentgroup\":\"True\",\"customdata\":{\"dtype\":\"f8\",\"bdata\":\"AAAAAAAAAAAAAAAAAAAAABq0z6uRIHJAAAAAAAAA8D8AAAAAAAAAAAAAAAAAAAAA0tVLAlDizEAAAAAAAAA1QFx+yGLfb+5AAAAAAABAUEAuQN0sD\\u002f76QAAAAAAA4GBArA8JM8VMDEEAAAAAABB3QIZBGK0pGxVBAAAAAAAwg0ANQH1dWZoPQQAAAAAAgH9A+YjUBb7wAEEAAAAAAEByQGEesonUeeRAAAAAAABAZUCEyRpB0ojiQAAAAAAAwFhA5qvcbD1z3kAAAAAAAIBaQG\\u002ff5pEDXdhAAAAAAABAUUBmU3bxwKXaQAAAAAAAAE9AgbC4T1rc2kAAAAAAAABJQJeCMAPioNJAAAAAAACAQEAxWxC+\\u002fw\\u002fIQAAAAAAAAEFATRHVZ2+MnkAAAAAAAAAkQPuQBcY1TodAAAAAAAAAHEBH82UgB+1wQAAAAAAAABxAcAdvqEVzXEAAAAAAAAAIQNj+\\u002fAW9NXhAAAAAAAAAGEBl4E0BBGptQAAAAAAAAPA\\u002f\",\"shape\":\"24, 2\"},\"hovertemplate\":\"source=survey\\u003cbr\\u003epdpurp_label=Work\\u003cbr\\u003etlvorg_hr=%{x}\\u003cbr\\u003epercentage=%{y}\\u003cbr\\u003etoexpfac=%{customdata[0]}\\u003cbr\\u003esample_count=%{customdata[1]}\\u003cextra\\u003e\\u003c\\u002fextra\\u003e\",\"legendgroup\":\"survey\",\"marker\":{\"color\":\"#8CC63E\",\"pattern\":{\"shape\":\"\"}},\"name\":\"survey\",\"offsetgroup\":\"survey\",\"orientation\":\"v\",\"showlegend\":true,\"textposition\":\"auto\",\"x\":{\"dtype\":\"i1\",\"bdata\":\"AAECAwQFBgcICQoLDA0ODxAREhMUFRYX\"},\"xaxis\":\"x6\",\"y\":{\"dtype\":\"f8\",\"bdata\":\"AAAAAAAAAABVBBAde10rPwAAAAAAAAAAWo8YB0rNhT9lO8DvXvmmPzV6uE\\u002fFX7Q\\u002f26R312lcxT9TvIqMtNzPP9TEj9Sp2sc\\u002fTBqLptGSuT\\u002fDwkKoJ+meP3VIkaXc+ps\\u002fG7tvnOn7lj\\u002fMkXwfwGOSPyNiDfAdHZQ\\u002fpEQsLFRGlD8e12OFLx+MP1GCbnOeKYI\\u002fVa9CHO4OVz+lChBuWJdBP9nVYik2jSk\\u002fBydQlHl5FT9AE+vdGkYyP\\u002fUvgxG4MyY\\u002f\"},\"yaxis\":\"y6\",\"type\":\"bar\"},{\"alignmentgroup\":\"True\",\"customdata\":{\"dtype\":\"f8\",\"bdata\":\"AAAAAAAAAAAAAAAAAAAAAAAAAAAAAAAAAAAAAAAAAAAAAAAAAAAAAAAAAAAAAAAAAAAAAAAAAAAAAAAAAAAAABXug+gRrFVAAAAAAAAA8D+dwa9xRmZ8QAAAAAAAABBAuuUZIj6A4UAAAAAAAAA8QCh\\u002fbAZTjwZBAAAAAACgbEClPKxJ\\u002f8gFQQAAAAAAYHBA3tvEO9a66kAAAAAAAIBLQPdSYTBkncZAAAAAAAAAM0BSnx+6l9mwQAAAAAAAACxAsTXHA4G2tUAAAAAAAAAiQNHSt2HkTalAAAAAAAAAJkDb2blpikSlQAAAAAAAABhAafnaty14kEAAAAAAAAAQQIz1IaMZkq5AAAAAAAAAHECPuJ3iBiuLQAAAAAAAABRAE7jHjZGnl0AAAAAAAADwPwAAAAAAAAAAAAAAAAAAAAAAAAAAAAAAAAAAAAAAAAAAAAAAAAAAAAAAAAAAAAAAAAAAAAAAAAAAAAAAAAAAAAAAAAAAAAAAAAAAAAAAAAAA\",\"shape\":\"24, 2\"},\"hovertemplate\":\"source=survey\\u003cbr\\u003epdpurp_label=School\\u003cbr\\u003etlvorg_hr=%{x}\\u003cbr\\u003epercentage=%{y}\\u003cbr\\u003etoexpfac=%{customdata[0]}\\u003cbr\\u003esample_count=%{customdata[1]}\\u003cextra\\u003e\\u003c\\u002fextra\\u003e\",\"legendgroup\":\"survey\",\"marker\":{\"color\":\"#8CC63E\",\"pattern\":{\"shape\":\"\"}},\"name\":\"survey\",\"offsetgroup\":\"survey\",\"orientation\":\"v\",\"showlegend\":false,\"textposition\":\"auto\",\"x\":{\"dtype\":\"i1\",\"bdata\":\"AAECAwQFBgcICQoLDA0ODxAREhMUFRYX\"},\"xaxis\":\"x5\",\"y\":{\"dtype\":\"f8\",\"bdata\":\"AAAAAAAAAAAAAAAAAAAAAAAAAAAAAAAAAAAAAAAAAAD9tG2FdjonP1VySt9VcE4\\u002fpn10LfXBsj+93vIwCS7YP512mal3Wdc\\u002fZY\\u002fRLjSmvD\\u002f0GhfyHD2YPzIUcEpXD4I\\u002fbnbkbqVFhz951I2nDR97P4bYUuB\\u002fy3Y\\u002f2V7Ai+6mYT8eX+dRCWKAPx62WDFzHl0\\u002fF6gTX2daaT8AAAAAAAAAAAAAAAAAAAAAAAAAAAAAAAAAAAAAAAAAAAAAAAAAAAAA\"},\"yaxis\":\"y5\",\"type\":\"bar\"},{\"alignmentgroup\":\"True\",\"customdata\":{\"dtype\":\"f8\",\"bdata\":\"1QdIDa\\u002fwYUAAAAAAAADwPwAAAAAAAAAAAAAAAAAAAADR7iqYLNeBQAAAAAAAAPA\\u002fAAAAAAAAAAAAAAAAAAAAAAAAAAAAAAAAAAAAAAAAAACAp8IqHEaIQAAAAAAAABRA7Xrek5qhskAAAAAAAAAgQM6PcArzpcdAAAAAAAAAQkDzoDmFr7rRQAAAAAAAgEpAMzyLdM1I6kAAAAAAAMBcQNsW0zH1iu5AAAAAAABgZEC33pMGK2jxQAAAAAAAgF5AUAfsNpTl7EAAAAAAAABfQBAHTd2GBO1AAAAAAADgYEAcjmpqYqTuQAAAAAAAQGNAwYM7z9fE8EAAAAAAAMBbQKXgcywz5OpAAAAAAACAW0C8236fG8XbQAAAAAAAwF1ASnebqF5z7kAAAAAAAIBZQHBBIj8M99NAAAAAAABAVkBY3i6bbXK8QAAAAAAAAEBAZ5M5IQOOn0AAAAAAAAAsQL9tea\\u002fHWqJAAAAAAAAAHEBKD+y8mqKDQAAAAAAAAAhA\",\"shape\":\"24, 2\"},\"hovertemplate\":\"source=survey\\u003cbr\\u003epdpurp_label=Shop\\u003cbr\\u003etlvorg_hr=%{x}\\u003cbr\\u003epercentage=%{y}\\u003cbr\\u003etoexpfac=%{customdata[0]}\\u003cbr\\u003esample_count=%{customdata[1]}\\u003cextra\\u003e\\u003c\\u002fextra\\u003e\",\"legendgroup\":\"survey\",\"marker\":{\"color\":\"#8CC63E\",\"pattern\":{\"shape\":\"\"}},\"name\":\"survey\",\"offsetgroup\":\"survey\",\"orientation\":\"v\",\"showlegend\":false,\"textposition\":\"auto\",\"x\":{\"dtype\":\"i1\",\"bdata\":\"AAECAwQFBgcICQoLDA0ODxAREhMUFRYX\"},\"xaxis\":\"x4\",\"y\":{\"dtype\":\"f8\",\"bdata\":\"AWzaforQLD8AAAAAAAAAAOWBOJmRp0w\\u002fAAAAAAAAAAAAAAAAAAAAAMgENdBlflM\\u002fnHidf7PsfT9wikXTxv2SPybxHdPPeZw\\u002fO7eQCbwbtT8J4K4ONoe4P5LcarVG9bs\\u002fsa778M80tz+85NFsqk23P8A0kHOhm7g\\u002f9hI3m\\u002fPuuj+ZxMm\\u002fh5i1P+PN4fclTaY\\u002frp6mqER0uD+ZqJVJjgigPxz02mZW2IY\\u002fOPXTWEBXaT\\u002fczveO8nptP7SNtpp7iU8\\u002f\"},\"yaxis\":\"y4\",\"type\":\"bar\"},{\"alignmentgroup\":\"True\",\"customdata\":{\"dtype\":\"f8\",\"bdata\":\"S+8gLvrEg0AAAAAAAADwPwAAAAAAAAAAAAAAAAAAAAAAAAAAAAAAAAAAAAAAAAAAAAAAAAAAAAAAAAAAAAAAAMRVEpr8TzdAAAAAAAAA8D8g+\\u002fhVTwlHQAAAAAAAAABA9Mg1M47bpkAAAAAAAAAgQFJAubgdz9ZAAAAAAAAANEBgiJ9TBZnLQAAAAAAAAEZAWgmn1kz\\u002fzkAAAAAAAIBIQNKNFhfugNVAAAAAAACATEAbN5FlX7ngQAAAAAAAgFpAQvsd5Nai4kAAAAAAAABdQFo4W\\u002feeHMtAAAAAAACATkAa9BZkDw7KQAAAAAAAAENAv5KS4gNg3kAAAAAAAABMQIkSzmCCxdFAAAAAAACATEBzE711dwPdQAAAAAAAAFhAP6++QyeO40AAAAAAAABaQPebI3fYFOFAAAAAAACAS0BvPnUpTADLQAAAAAAAAEBAIkiIyhSarkAAAAAAAAAmQCRB862zG1BAAAAAAAAAAECW8Rw5KIKCQAAAAAAAAABA\",\"shape\":\"24, 2\"},\"hovertemplate\":\"source=survey\\u003cbr\\u003epdpurp_label=Meal\\u003cbr\\u003etlvorg_hr=%{x}\\u003cbr\\u003epercentage=%{y}\\u003cbr\\u003etoexpfac=%{customdata[0]}\\u003cbr\\u003esample_count=%{customdata[1]}\\u003cextra\\u003e\\u003c\\u002fextra\\u003e\",\"legendgroup\":\"survey\",\"marker\":{\"color\":\"#8CC63E\",\"pattern\":{\"shape\":\"\"}},\"name\":\"survey\",\"offsetgroup\":\"survey\",\"orientation\":\"v\",\"showlegend\":false,\"textposition\":\"auto\",\"x\":{\"dtype\":\"i1\",\"bdata\":\"AAECAwQFBgcICQoLDA0ODxAREhMUFRYX\"},\"xaxis\":\"x3\",\"y\":{\"dtype\":\"f8\",\"bdata\":\"V2\\u002fFfbiFXT8AAAAAAAAAAAAAAAAAAAAAAAAAAAAAAABgOf\\u002f0F2gRP0b3+FNSMyE\\u002fmUm0higRgT9DyrHI3gexPy1ZLjc2m6Q\\u002fbRW0FwUlpz+0\\u002fCtHWA6wP8oXuA2D+bg\\u002fEnIiznLUuz8xb+CdUz6kP\\u002fa3xdlOdKM\\u002f6xGHUhautj\\u002feQTPV7YmqP7wjo3rWqbU\\u002fZF7wstkzvT8VR5KEHIK5P8v7yq8tKaQ\\u002fkhPBcXHZhj9VYLGcDg4oP7ABBZeko1s\\u002f\"},\"yaxis\":\"y3\",\"type\":\"bar\"},{\"alignmentgroup\":\"True\",\"customdata\":{\"dtype\":\"f8\",\"bdata\":\"AAAAAAAAAAAAAAAAAAAAAAAAAAAAAAAAAAAAAAAAAAAAAAAAAAAAAAAAAAAAAAAAAAAAAAAAAAAAAAAAAAAAAI2cHv82rK9AAAAAAAAA8D8sAPvhXkusQAAAAAAAACBAsV\\u002f2nwVcy0AAAAAAAAAuQDNFaCSsdfNAAAAAAAAAXEBRihx+nTf6QAAAAAAAwGJABlgyxoYD4EAAAAAAAABHQGJNsNjzkrZAAAAAAAAAO0ADRZiCEWjDQAAAAAAAADdAk\\u002fj7DzBKykAAAAAAAABDQPeu60IUiONAAAAAAACAR0A80XSvYY\\u002frQAAAAAAAAFJApPhITjFg8EAAAAAAAEBUQBf2lv\\u002f3j+JAAAAAAACAS0AxhYnaJcHoQAAAAAAAgEpAwLee8\\u002fRlq0AAAAAAAAAxQIZjwHVZU8NAAAAAAAAAMEA4Pz6hrnegQAAAAAAAACBAxHQVY1SkdEAAAAAAAAAUQJQ4vZMi0LdAAAAAAAAAFEAAAAAAAAAAAAAAAAAAAAAA\",\"shape\":\"24, 2\"},\"hovertemplate\":\"source=survey\\u003cbr\\u003epdpurp_label=Escort\\u003cbr\\u003etlvorg_hr=%{x}\\u003cbr\\u003epercentage=%{y}\\u003cbr\\u003etoexpfac=%{customdata[0]}\\u003cbr\\u003esample_count=%{customdata[1]}\\u003cextra\\u003e\\u003c\\u002fextra\\u003e\",\"legendgroup\":\"survey\",\"marker\":{\"color\":\"#8CC63E\",\"pattern\":{\"shape\":\"\"}},\"name\":\"survey\",\"offsetgroup\":\"survey\",\"orientation\":\"v\",\"showlegend\":false,\"textposition\":\"auto\",\"x\":{\"dtype\":\"i1\",\"bdata\":\"AAECAwQFBgcICQoLDA0ODxAREhMUFRYX\"},\"xaxis\":\"x2\",\"y\":{\"dtype\":\"f8\",\"bdata\":\"AAAAAAAAAAAAAAAAAAAAAAAAAAAAAAAAAAAAAAAAAACkluduR3l+Pyrh9WYsOXs\\u002fiH5ro+JSmj+iyop1F7nCP3bTwi2MOck\\u002fLdWar63Qrj8HK7DVMLiFP5y2bKkArJI\\u002fryPFw2pLmT+HIZMzzcqyP2Im6\\u002fpMhLo\\u002fGydiuP6Cvz8S511XFdyxP9rmJ3NB0bc\\u002fvqcOsHFcej9aq2FlEZiSP8HjwBkysG8\\u002fwVofskrcQz\\u002fGcFLLXemGPwAAAAAAAAAA\"},\"yaxis\":\"y2\",\"type\":\"bar\"},{\"alignmentgroup\":\"True\",\"customdata\":{\"dtype\":\"f8\",\"bdata\":\"AAAAAAAAAAAAAAAAAAAAAAAAAAAAAAAAAAAAAAAAAAAAAAAAAAAAAAAAAAAAAAAAAAAAAAAAAAAAAAAAAAAAAAAAAAAAAAAAAAAAAAAAAACJibUBgyqiQAAAAAAAABRAsrguCNcuuUAAAAAAAAA1QDAy4SPGTuJAAAAAAAAAT0Ak97Nd\\u002fnfVQAAAAAAAAFFAtNChgy2M50AAAAAAAEBWQOXglL5c0NpAAAAAAABAV0BxEKsTBD3bQAAAAAAAQFJAhTMj87SM20AAAAAAAABVQL\\u002fkIYma89VAAAAAAACAVUAkjMiK0oDhQAAAAAAAQFRA6IEbeXp03kAAAAAAAABRQOQI8e6iNMNAAAAAAACASkDicyQgjvXdQAAAAAAAAEJArI5UQz+TpEAAAAAAAAA2QEKFZNd4t8lAAAAAAAAALkCdw\\u002fwZe2obQAAAAAAAAPA\\u002fhHDV2Rp5PUAAAAAAAADwP8JPxfSWrWhAAAAAAAAA8D8AAAAAAAAAAAAAAAAAAAAA\",\"shape\":\"24, 2\"},\"hovertemplate\":\"source=survey\\u003cbr\\u003epdpurp_label=Personal Business\\u003cbr\\u003etlvorg_hr=%{x}\\u003cbr\\u003epercentage=%{y}\\u003cbr\\u003etoexpfac=%{customdata[0]}\\u003cbr\\u003esample_count=%{customdata[1]}\\u003cextra\\u003e\\u003c\\u002fextra\\u003e\",\"legendgroup\":\"survey\",\"marker\":{\"color\":\"#8CC63E\",\"pattern\":{\"shape\":\"\"}},\"name\":\"survey\",\"offsetgroup\":\"survey\",\"orientation\":\"v\",\"showlegend\":false,\"textposition\":\"auto\",\"x\":{\"dtype\":\"i1\",\"bdata\":\"AAECAwQFBgcICQoLDA0ODxAREhMUFRYX\"},\"xaxis\":\"x\",\"y\":{\"dtype\":\"f8\",\"bdata\":\"AAAAAAAAAAAAAAAAAAAAAAAAAAAAAAAAAAAAAAAAAAAAAAAAAAAAAPLIKz\\u002f0hHs\\u002f+Kni2RUTkz\\u002fQ5cMN47u7P4N59qzgQrA\\u002fUg2odvnVwT8jiNI2VU+0P4oWxZ6hobQ\\u002fknpPB\\u002f7dtD9mwdYwgaCwP6iTUUflg7o\\u002fFovihFoRtz9k7xOwGRidP3i\\u002fsI83sbY\\u002fX8W2gDsrfz9uV8Zkk3qjP+hnc3cRxPQ+Lf4IHvRSFj9\\u002fZGyqL7FCPwAAAAAAAAAA\"},\"yaxis\":\"y\",\"type\":\"bar\"}],                        {\"template\":{\"data\":{\"barpolar\":[{\"marker\":{\"line\":{\"color\":\"white\",\"width\":0.5},\"pattern\":{\"fillmode\":\"overlay\",\"size\":10,\"solidity\":0.2}},\"type\":\"barpolar\"}],\"bar\":[{\"error_x\":{\"color\":\"rgb(36,36,36)\"},\"error_y\":{\"color\":\"rgb(36,36,36)\"},\"marker\":{\"line\":{\"color\":\"white\",\"width\":0.5},\"pattern\":{\"fillmode\":\"overlay\",\"size\":10,\"solidity\":0.2}},\"type\":\"bar\"}],\"carpet\":[{\"aaxis\":{\"endlinecolor\":\"rgb(36,36,36)\",\"gridcolor\":\"white\",\"linecolor\":\"white\",\"minorgridcolor\":\"white\",\"startlinecolor\":\"rgb(36,36,36)\"},\"baxis\":{\"endlinecolor\":\"rgb(36,36,36)\",\"gridcolor\":\"white\",\"linecolor\":\"white\",\"minorgridcolor\":\"white\",\"startlinecolor\":\"rgb(36,36,36)\"},\"type\":\"carpet\"}],\"choropleth\":[{\"colorbar\":{\"outlinewidth\":1,\"tickcolor\":\"rgb(36,36,36)\",\"ticks\":\"outside\"},\"type\":\"choropleth\"}],\"contourcarpet\":[{\"colorbar\":{\"outlinewidth\":1,\"tickcolor\":\"rgb(36,36,36)\",\"ticks\":\"outside\"},\"type\":\"contourcarpet\"}],\"contour\":[{\"colorbar\":{\"outlinewidth\":1,\"tickcolor\":\"rgb(36,36,36)\",\"ticks\":\"outside\"},\"colorscale\":[[0.0,\"#440154\"],[0.1111111111111111,\"#482878\"],[0.2222222222222222,\"#3e4989\"],[0.3333333333333333,\"#31688e\"],[0.4444444444444444,\"#26828e\"],[0.5555555555555556,\"#1f9e89\"],[0.6666666666666666,\"#35b779\"],[0.7777777777777778,\"#6ece58\"],[0.8888888888888888,\"#b5de2b\"],[1.0,\"#fde725\"]],\"type\":\"contour\"}],\"heatmap\":[{\"colorbar\":{\"outlinewidth\":1,\"tickcolor\":\"rgb(36,36,36)\",\"ticks\":\"outside\"},\"colorscale\":[[0.0,\"#440154\"],[0.1111111111111111,\"#482878\"],[0.2222222222222222,\"#3e4989\"],[0.3333333333333333,\"#31688e\"],[0.4444444444444444,\"#26828e\"],[0.5555555555555556,\"#1f9e89\"],[0.6666666666666666,\"#35b779\"],[0.7777777777777778,\"#6ece58\"],[0.8888888888888888,\"#b5de2b\"],[1.0,\"#fde725\"]],\"type\":\"heatmap\"}],\"histogram2dcontour\":[{\"colorbar\":{\"outlinewidth\":1,\"tickcolor\":\"rgb(36,36,36)\",\"ticks\":\"outside\"},\"colorscale\":[[0.0,\"#440154\"],[0.1111111111111111,\"#482878\"],[0.2222222222222222,\"#3e4989\"],[0.3333333333333333,\"#31688e\"],[0.4444444444444444,\"#26828e\"],[0.5555555555555556,\"#1f9e89\"],[0.6666666666666666,\"#35b779\"],[0.7777777777777778,\"#6ece58\"],[0.8888888888888888,\"#b5de2b\"],[1.0,\"#fde725\"]],\"type\":\"histogram2dcontour\"}],\"histogram2d\":[{\"colorbar\":{\"outlinewidth\":1,\"tickcolor\":\"rgb(36,36,36)\",\"ticks\":\"outside\"},\"colorscale\":[[0.0,\"#440154\"],[0.1111111111111111,\"#482878\"],[0.2222222222222222,\"#3e4989\"],[0.3333333333333333,\"#31688e\"],[0.4444444444444444,\"#26828e\"],[0.5555555555555556,\"#1f9e89\"],[0.6666666666666666,\"#35b779\"],[0.7777777777777778,\"#6ece58\"],[0.8888888888888888,\"#b5de2b\"],[1.0,\"#fde725\"]],\"type\":\"histogram2d\"}],\"histogram\":[{\"marker\":{\"line\":{\"color\":\"white\",\"width\":0.6}},\"type\":\"histogram\"}],\"mesh3d\":[{\"colorbar\":{\"outlinewidth\":1,\"tickcolor\":\"rgb(36,36,36)\",\"ticks\":\"outside\"},\"type\":\"mesh3d\"}],\"parcoords\":[{\"line\":{\"colorbar\":{\"outlinewidth\":1,\"tickcolor\":\"rgb(36,36,36)\",\"ticks\":\"outside\"}},\"type\":\"parcoords\"}],\"pie\":[{\"automargin\":true,\"type\":\"pie\"}],\"scatter3d\":[{\"line\":{\"colorbar\":{\"outlinewidth\":1,\"tickcolor\":\"rgb(36,36,36)\",\"ticks\":\"outside\"}},\"marker\":{\"colorbar\":{\"outlinewidth\":1,\"tickcolor\":\"rgb(36,36,36)\",\"ticks\":\"outside\"}},\"type\":\"scatter3d\"}],\"scattercarpet\":[{\"marker\":{\"colorbar\":{\"outlinewidth\":1,\"tickcolor\":\"rgb(36,36,36)\",\"ticks\":\"outside\"}},\"type\":\"scattercarpet\"}],\"scattergeo\":[{\"marker\":{\"colorbar\":{\"outlinewidth\":1,\"tickcolor\":\"rgb(36,36,36)\",\"ticks\":\"outside\"}},\"type\":\"scattergeo\"}],\"scattergl\":[{\"marker\":{\"colorbar\":{\"outlinewidth\":1,\"tickcolor\":\"rgb(36,36,36)\",\"ticks\":\"outside\"}},\"type\":\"scattergl\"}],\"scattermapbox\":[{\"marker\":{\"colorbar\":{\"outlinewidth\":1,\"tickcolor\":\"rgb(36,36,36)\",\"ticks\":\"outside\"}},\"type\":\"scattermapbox\"}],\"scattermap\":[{\"marker\":{\"colorbar\":{\"outlinewidth\":1,\"tickcolor\":\"rgb(36,36,36)\",\"ticks\":\"outside\"}},\"type\":\"scattermap\"}],\"scatterpolargl\":[{\"marker\":{\"colorbar\":{\"outlinewidth\":1,\"tickcolor\":\"rgb(36,36,36)\",\"ticks\":\"outside\"}},\"type\":\"scatterpolargl\"}],\"scatterpolar\":[{\"marker\":{\"colorbar\":{\"outlinewidth\":1,\"tickcolor\":\"rgb(36,36,36)\",\"ticks\":\"outside\"}},\"type\":\"scatterpolar\"}],\"scatter\":[{\"fillpattern\":{\"fillmode\":\"overlay\",\"size\":10,\"solidity\":0.2},\"type\":\"scatter\"}],\"scatterternary\":[{\"marker\":{\"colorbar\":{\"outlinewidth\":1,\"tickcolor\":\"rgb(36,36,36)\",\"ticks\":\"outside\"}},\"type\":\"scatterternary\"}],\"surface\":[{\"colorbar\":{\"outlinewidth\":1,\"tickcolor\":\"rgb(36,36,36)\",\"ticks\":\"outside\"},\"colorscale\":[[0.0,\"#440154\"],[0.1111111111111111,\"#482878\"],[0.2222222222222222,\"#3e4989\"],[0.3333333333333333,\"#31688e\"],[0.4444444444444444,\"#26828e\"],[0.5555555555555556,\"#1f9e89\"],[0.6666666666666666,\"#35b779\"],[0.7777777777777778,\"#6ece58\"],[0.8888888888888888,\"#b5de2b\"],[1.0,\"#fde725\"]],\"type\":\"surface\"}],\"table\":[{\"cells\":{\"fill\":{\"color\":\"rgb(237,237,237)\"},\"line\":{\"color\":\"white\"}},\"header\":{\"fill\":{\"color\":\"rgb(217,217,217)\"},\"line\":{\"color\":\"white\"}},\"type\":\"table\"}]},\"layout\":{\"annotationdefaults\":{\"arrowhead\":0,\"arrowwidth\":1},\"autotypenumbers\":\"strict\",\"coloraxis\":{\"colorbar\":{\"outlinewidth\":1,\"tickcolor\":\"rgb(36,36,36)\",\"ticks\":\"outside\"}},\"colorscale\":{\"diverging\":[[0.0,\"rgb(103,0,31)\"],[0.1,\"rgb(178,24,43)\"],[0.2,\"rgb(214,96,77)\"],[0.3,\"rgb(244,165,130)\"],[0.4,\"rgb(253,219,199)\"],[0.5,\"rgb(247,247,247)\"],[0.6,\"rgb(209,229,240)\"],[0.7,\"rgb(146,197,222)\"],[0.8,\"rgb(67,147,195)\"],[0.9,\"rgb(33,102,172)\"],[1.0,\"rgb(5,48,97)\"]],\"sequential\":[[0.0,\"#440154\"],[0.1111111111111111,\"#482878\"],[0.2222222222222222,\"#3e4989\"],[0.3333333333333333,\"#31688e\"],[0.4444444444444444,\"#26828e\"],[0.5555555555555556,\"#1f9e89\"],[0.6666666666666666,\"#35b779\"],[0.7777777777777778,\"#6ece58\"],[0.8888888888888888,\"#b5de2b\"],[1.0,\"#fde725\"]],\"sequentialminus\":[[0.0,\"#440154\"],[0.1111111111111111,\"#482878\"],[0.2222222222222222,\"#3e4989\"],[0.3333333333333333,\"#31688e\"],[0.4444444444444444,\"#26828e\"],[0.5555555555555556,\"#1f9e89\"],[0.6666666666666666,\"#35b779\"],[0.7777777777777778,\"#6ece58\"],[0.8888888888888888,\"#b5de2b\"],[1.0,\"#fde725\"]]},\"colorway\":[\"#91268F\",\"#8CC63E\",\"#00A7A0\",\"#F05A28\",\"#4C4C4C\",\"#630460\",\"#9f3913\",\"#588527\",\"#00716c\",\"#3e4040\"],\"font\":{\"color\":\"rgb(36,36,36)\",\"family\":\"Poppins\",\"size\":11},\"geo\":{\"bgcolor\":\"white\",\"lakecolor\":\"white\",\"landcolor\":\"white\",\"showlakes\":true,\"showland\":true,\"subunitcolor\":\"white\"},\"hoverlabel\":{\"align\":\"left\"},\"hovermode\":\"closest\",\"mapbox\":{\"style\":\"light\"},\"paper_bgcolor\":\"white\",\"plot_bgcolor\":\"white\",\"polar\":{\"angularaxis\":{\"gridcolor\":\"rgb(232,232,232)\",\"linecolor\":\"rgb(36,36,36)\",\"showgrid\":false,\"showline\":true,\"ticks\":\"outside\"},\"bgcolor\":\"white\",\"radialaxis\":{\"gridcolor\":\"rgb(232,232,232)\",\"linecolor\":\"rgb(36,36,36)\",\"showgrid\":false,\"showline\":true,\"ticks\":\"outside\"}},\"scene\":{\"xaxis\":{\"backgroundcolor\":\"white\",\"gridcolor\":\"rgb(232,232,232)\",\"gridwidth\":2,\"linecolor\":\"rgb(36,36,36)\",\"showbackground\":true,\"showgrid\":false,\"showline\":true,\"ticks\":\"outside\",\"zeroline\":false,\"zerolinecolor\":\"rgb(36,36,36)\"},\"yaxis\":{\"backgroundcolor\":\"white\",\"gridcolor\":\"rgb(232,232,232)\",\"gridwidth\":2,\"linecolor\":\"rgb(36,36,36)\",\"showbackground\":true,\"showgrid\":false,\"showline\":true,\"ticks\":\"outside\",\"zeroline\":false,\"zerolinecolor\":\"rgb(36,36,36)\"},\"zaxis\":{\"backgroundcolor\":\"white\",\"gridcolor\":\"rgb(232,232,232)\",\"gridwidth\":2,\"linecolor\":\"rgb(36,36,36)\",\"showbackground\":true,\"showgrid\":false,\"showline\":true,\"ticks\":\"outside\",\"zeroline\":false,\"zerolinecolor\":\"rgb(36,36,36)\"}},\"shapedefaults\":{\"fillcolor\":\"black\",\"line\":{\"width\":0},\"opacity\":0.3},\"ternary\":{\"aaxis\":{\"gridcolor\":\"rgb(232,232,232)\",\"linecolor\":\"rgb(36,36,36)\",\"showgrid\":false,\"showline\":true,\"ticks\":\"outside\"},\"baxis\":{\"gridcolor\":\"rgb(232,232,232)\",\"linecolor\":\"rgb(36,36,36)\",\"showgrid\":false,\"showline\":true,\"ticks\":\"outside\"},\"bgcolor\":\"white\",\"caxis\":{\"gridcolor\":\"rgb(232,232,232)\",\"linecolor\":\"rgb(36,36,36)\",\"showgrid\":false,\"showline\":true,\"ticks\":\"outside\"}},\"title\":{\"x\":0.05},\"xaxis\":{\"automargin\":true,\"gridcolor\":\"rgb(232,232,232)\",\"linecolor\":\"rgb(36,36,36)\",\"showgrid\":false,\"showline\":true,\"ticks\":\"outside\",\"title\":{\"standoff\":15},\"zeroline\":false,\"zerolinecolor\":\"rgb(36,36,36)\"},\"yaxis\":{\"automargin\":true,\"gridcolor\":\"rgb(232,232,232)\",\"linecolor\":\"rgb(36,36,36)\",\"showgrid\":false,\"showline\":true,\"ticks\":\"outside\",\"title\":{\"standoff\":15},\"zeroline\":false,\"zerolinecolor\":\"rgb(36,36,36)\"}}},\"xaxis\":{\"anchor\":\"y\",\"domain\":[0.0,0.98],\"title\":{\"text\":\"tlvorg_hr\"},\"dtick\":1,\"categoryorder\":\"category ascending\"},\"yaxis\":{\"anchor\":\"x\",\"domain\":[0.0,0.14166666666666666],\"title\":{\"text\":\"percentage\"},\"tickformat\":\".0%\"},\"xaxis2\":{\"anchor\":\"y2\",\"domain\":[0.0,0.98],\"matches\":\"x\",\"showticklabels\":false,\"dtick\":1,\"categoryorder\":\"category ascending\"},\"yaxis2\":{\"anchor\":\"x2\",\"domain\":[0.17166666666666666,0.31333333333333335],\"matches\":\"y\",\"title\":{\"text\":\"percentage\"},\"tickformat\":\".0%\"},\"xaxis3\":{\"anchor\":\"y3\",\"domain\":[0.0,0.98],\"matches\":\"x\",\"showticklabels\":false,\"dtick\":1,\"categoryorder\":\"category ascending\"},\"yaxis3\":{\"anchor\":\"x3\",\"domain\":[0.3433333333333333,0.485],\"matches\":\"y\",\"title\":{\"text\":\"percentage\"},\"tickformat\":\".0%\"},\"xaxis4\":{\"anchor\":\"y4\",\"domain\":[0.0,0.98],\"matches\":\"x\",\"showticklabels\":false,\"dtick\":1,\"categoryorder\":\"category ascending\"},\"yaxis4\":{\"anchor\":\"x4\",\"domain\":[0.515,0.6566666666666667],\"matches\":\"y\",\"title\":{\"text\":\"percentage\"},\"tickformat\":\".0%\"},\"xaxis5\":{\"anchor\":\"y5\",\"domain\":[0.0,0.98],\"matches\":\"x\",\"showticklabels\":false,\"dtick\":1,\"categoryorder\":\"category ascending\"},\"yaxis5\":{\"anchor\":\"x5\",\"domain\":[0.6866666666666666,0.8283333333333334],\"matches\":\"y\",\"title\":{\"text\":\"percentage\"},\"tickformat\":\".0%\"},\"xaxis6\":{\"anchor\":\"y6\",\"domain\":[0.0,0.98],\"matches\":\"x\",\"showticklabels\":false,\"dtick\":1,\"categoryorder\":\"category ascending\"},\"yaxis6\":{\"anchor\":\"x6\",\"domain\":[0.8583333333333333,1.0],\"matches\":\"y\",\"title\":{\"text\":\"percentage\"},\"tickformat\":\".0%\"},\"annotations\":[{\"font\":{},\"showarrow\":false,\"text\":\"Personal Business\",\"textangle\":90,\"x\":0.98,\"xanchor\":\"left\",\"xref\":\"paper\",\"y\":0.07083333333333333,\"yanchor\":\"middle\",\"yref\":\"paper\"},{\"font\":{},\"showarrow\":false,\"text\":\"Escort\",\"textangle\":90,\"x\":0.98,\"xanchor\":\"left\",\"xref\":\"paper\",\"y\":0.2425,\"yanchor\":\"middle\",\"yref\":\"paper\"},{\"font\":{},\"showarrow\":false,\"text\":\"Meal\",\"textangle\":90,\"x\":0.98,\"xanchor\":\"left\",\"xref\":\"paper\",\"y\":0.4141666666666667,\"yanchor\":\"middle\",\"yref\":\"paper\"},{\"font\":{},\"showarrow\":false,\"text\":\"Shop\",\"textangle\":90,\"x\":0.98,\"xanchor\":\"left\",\"xref\":\"paper\",\"y\":0.5858333333333334,\"yanchor\":\"middle\",\"yref\":\"paper\"},{\"font\":{},\"showarrow\":false,\"text\":\"School\",\"textangle\":90,\"x\":0.98,\"xanchor\":\"left\",\"xref\":\"paper\",\"y\":0.7575000000000001,\"yanchor\":\"middle\",\"yref\":\"paper\"},{\"font\":{},\"showarrow\":false,\"text\":\"Work\",\"textangle\":90,\"x\":0.98,\"xanchor\":\"left\",\"xref\":\"paper\",\"y\":0.9291666666666667,\"yanchor\":\"middle\",\"yref\":\"paper\"}],\"legend\":{\"title\":{\"text\":\"source\"},\"tracegroupgap\":0},\"title\":{\"text\":\"tour origin departure hour by purpose\"},\"barmode\":\"group\",\"height\":1500,\"width\":850},                        {\"responsive\": true}                    ).then(function(){\n",
       "                            \n",
       "var gd = document.getElementById('07b07193-7927-48e9-b7c1-6a6adfaed5ad');\n",
       "var x = new MutationObserver(function (mutations, observer) {{\n",
       "        var display = window.getComputedStyle(gd).display;\n",
       "        if (!display || display === 'none') {{\n",
       "            console.log([gd, 'removed!']);\n",
       "            Plotly.purge(gd);\n",
       "            observer.disconnect();\n",
       "        }}\n",
       "}});\n",
       "\n",
       "// Listen for the removal of the full notebook cells\n",
       "var notebookContainer = gd.closest('#notebook-container');\n",
       "if (notebookContainer) {{\n",
       "    x.observe(notebookContainer, {childList: true});\n",
       "}}\n",
       "\n",
       "// Listen for the clearing of the current output cell\n",
       "var outputEl = gd.closest('.output');\n",
       "if (outputEl) {{\n",
       "    x.observe(outputEl, {childList: true});\n",
       "}}\n",
       "\n",
       "                        })                };            </script>        </div>"
      ]
     },
     "metadata": {},
     "output_type": "display_data"
    }
   ],
   "source": [
    "df_plot = df_tour.groupby(['tlvorg_hr','pdpurp_label','source'])['toexpfac'].agg(sample_count='size', toexpfac='sum').reset_index()\n",
    "df_plot['percentage'] = df_plot.groupby(['pdpurp_label','source'], group_keys=False)['toexpfac']. \\\n",
    "    apply(lambda x: x / float(x.sum()))\n",
    "\n",
    "fig = px.bar(df_plot.sort_values(['source','pdpurp_label']),\n",
    "             x=\"tlvorg_hr\", y=\"percentage\", color=\"source\",barmode=\"group\",\n",
    "             facet_row='pdpurp_label',\n",
    "             hover_data=['toexpfac','sample_count'],\n",
    "             title=\"tour origin departure hour by purpose\")\n",
    "fig.update_layout(height=1500, width=850)\n",
    "fig.for_each_annotation(lambda a: a.update(text = a.text.split(\"=\")[-1]))\n",
    "fig.for_each_xaxis(lambda a: a.update(dict(dtick = 1, categoryorder='category ascending')))\n",
    "fig.for_each_yaxis(lambda a: a.update(dict(tickformat=\".0%\")))\n",
    "fig.show()"
   ]
  },
  {
   "cell_type": "raw",
   "metadata": {
    "vscode": {
     "languageId": "raw"
    }
   },
   "source": [
    "### trip"
   ]
  },
  {
   "cell_type": "code",
   "execution_count": 7,
   "metadata": {
    "execution": {
     "iopub.execute_input": "2025-06-19T05:31:06.002626Z",
     "iopub.status.busy": "2025-06-19T05:31:06.001629Z",
     "iopub.status.idle": "2025-06-19T05:31:08.272708Z",
     "shell.execute_reply": "2025-06-19T05:31:08.271709Z"
    }
   },
   "outputs": [
    {
     "name": "stderr",
     "output_type": "stream",
     "text": [
      "C:\\Users\\Modeller\\AppData\\Local\\Temp\\ipykernel_31344\\80562895.py:1: FutureWarning:\n",
      "\n",
      "The default of observed=False is deprecated and will be changed to True in a future version of pandas. Pass observed=False to retain current behavior or observed=True to adopt the future default and silence this warning.\n",
      "\n"
     ]
    },
    {
     "name": "stderr",
     "output_type": "stream",
     "text": [
      "C:\\Users\\Modeller\\AppData\\Local\\Temp\\ipykernel_31344\\80562895.py:2: FutureWarning:\n",
      "\n",
      "The default of observed=False is deprecated and will be changed to True in a future version of pandas. Pass observed=False to retain current behavior or observed=True to adopt the future default and silence this warning.\n",
      "\n"
     ]
    },
    {
     "data": {
      "application/vnd.plotly.v1+json": {
       "config": {
        "plotlyServerURL": "https://plot.ly"
       },
       "data": [
        {
         "alignmentgroup": "True",
         "customdata": {
          "bdata": "AAAAAACWskAAAAAAAJayQAAAAAAAfqpAAAAAAAB+qkAAAAAAANiTQAAAAAAA2JNAAAAAAACZ2kAAAAAAAJnaQAAAAADgWuNAAAAAAOBa40AAAAAAgB77QAAAAACAHvtAAAAAAADSEkEAAAAAANISQQAAAADYkhtBAAAAANiSG0EAAAAAeGkZQQAAAAB4aRlBAAAAAEBAD0EAAAAAQEAPQQAAAACIEgVBAAAAAIgSBUEAAAAAWCEFQQAAAABYIQVBAAAAAJBgBEEAAAAAkGAEQQAAAACg9gBBAAAAAKD2AEEAAAAAUIP+QAAAAABQg/5AAAAAAJAy/EAAAAAAkDL8QAAAAAAA4/xAAAAAAADj/EAAAAAAwML4QAAAAADAwvhAAAAAAADY8kAAAAAAANjyQAAAAABAxeRAAAAAAEDF5EAAAAAAQGzfQAAAAABAbN9AAAAAAACt10AAAAAAAK3XQAAAAACAgMpAAAAAAICAykAAAAAAAEHEQAAAAAAAQcRA",
          "dtype": "f8",
          "shape": "24, 2"
         },
         "hovertemplate": "source=model<br>dpurp_label=Work<br>dept_hr=%{x}<br>percentage=%{y}<br>trexpfac=%{customdata[0]}<br>sample_count=%{customdata[1]}<extra></extra>",
         "legendgroup": "model",
         "marker": {
          "color": "#91268F",
          "pattern": {
           "shape": ""
          }
         },
         "name": "model",
         "offsetgroup": "model",
         "orientation": "v",
         "showlegend": true,
         "textposition": "auto",
         "type": "bar",
         "x": {
          "bdata": "AAECAwQFBgcICQoLDA0ODxAREhMUFRYX",
          "dtype": "i1"
         },
         "xaxis": "x6",
         "y": {
          "bdata": "K7cJ9PuWWj923zSxTPNSPyGhJHSmYzw/Ir+++5wGgz9jCg8zpLCLPy5YocEbZqM/YWCnlNLsuj9vACfYVLnDP5knA8R9LcI/O9zb8Lxatj8pHh+SoSWuPyLXko7SOq4/7XgLnwUnrT95119wu0SoP78GClmW06U/Y3Iy2JQrpD+U2/NpyqmkP9gciOk7tqE/5oodC2j1mj97cvrKEbeNPyR44k02eoY/qGROzo3vgD9SKDh/FvVyPz+JOA3e+Ww/",
          "dtype": "f8"
         },
         "yaxis": "y6"
        },
        {
         "alignmentgroup": "True",
         "customdata": {
          "bdata": "AAAAAAAAIEAAAAAAAAAgQAAAAAAAAABAAAAAAAAAAEAAAAAAAAAIQAAAAAAAAAhAAAAAAAAIhUAAAAAAAAiFQAAAAAAAwIhAAAAAAADAiEAAAAAAAC25QAAAAAAALblAAAAAAABW7UAAAAAAAFbtQAAAAABQcQdBAAAAAFBxB0EAAAAAgEsLQQAAAACASwtBAAAAANC3/EAAAAAA0Lf8QAAAAADgqutAAAAAAOCq60AAAAAAgBLjQAAAAACAEuNAAAAAAAAA20AAAAAAAADbQAAAAAAArtNAAAAAAACu00AAAAAAADjQQAAAAAAAONBAAAAAAAC4z0AAAAAAALjPQAAAAAAAY8ZAAAAAAABjxkAAAAAAACrDQAAAAAAAKsNAAAAAAAB+ukAAAAAAAH66QAAAAAAAbqFAAAAAAABuoUAAAAAAABSbQAAAAAAAFJtAAAAAAAC0kEAAAAAAALSQQAAAAAAAgFhAAAAAAACAWEAAAAAAAIBQQAAAAAAAgFBA",
          "dtype": "f8",
          "shape": "24, 2"
         },
         "hovertemplate": "source=model<br>dpurp_label=School<br>dept_hr=%{x}<br>percentage=%{y}<br>trexpfac=%{customdata[0]}<br>sample_count=%{customdata[1]}<extra></extra>",
         "legendgroup": "model",
         "marker": {
          "color": "#91268F",
          "pattern": {
           "shape": ""
          }
         },
         "name": "model",
         "offsetgroup": "model",
         "orientation": "v",
         "showlegend": false,
         "textposition": "auto",
         "type": "bar",
         "x": {
          "bdata": "AAECAwQFBgcICQoLDA0ODxAREhMUFRYX",
          "dtype": "i1"
         },
         "xaxis": "x5",
         "y": {
          "bdata": "YfHTiI6w5D5h8dOIjrDEPhLqPc3VCM8+yJbaWhMySz+x7NM9jgBQP5/+VaMHR4A/WcwPq5v3sj/4rx9GU1DOP7envdPIpdE/o2h24lSRwj9od48Mc+OxP7LjSWeVqag/qtNyQ/h0oT+Er4tQqXKZPy7Xsnv4+JQ/ghQgSAGClD9LCxJuyPKMP/3aorj4x4g/pfZmAOsggT+T4U1F1YlmPyFYiJzmgWE/vUFXzFCZVT+diYRBWq4fP+yQGv0SVhU/",
          "dtype": "f8"
         },
         "yaxis": "y5"
        },
        {
         "alignmentgroup": "True",
         "customdata": {
          "bdata": "AAAAAAA8l0AAAAAAADyXQAAAAAAA8I1AAAAAAADwjUAAAAAAAKB6QAAAAAAAoHpAAAAAAACrw0AAAAAAAKvDQAAAAACAycRAAAAAAIDJxEAAAAAAgGTQQAAAAACAZNBAAAAAAGBq5UAAAAAAYGrlQAAAAABwWPZAAAAAAHBY9kAAAAAAkGwCQQAAAACQbAJBAAAAAEC6CUEAAAAAQLoJQQAAAAAw9Q1BAAAAADD1DUEAAAAAcCsMQQAAAABwKwxBAAAAALhxCkEAAAAAuHEKQQAAAAB4MQ1BAAAAAHgxDUEAAAAA2CMKQQAAAADYIwpBAAAAADCCDUEAAAAAMIINQQAAAACIrQ9BAAAAAIitD0EAAAAAoMwKQQAAAACgzApBAAAAAOALBUEAAAAA4AsFQQAAAABwEv1AAAAAAHAS/UAAAAAAUJrzQAAAAABQmvNAAAAAAAAO3EAAAAAAAA7cQAAAAACAIclAAAAAAIAhyUAAAAAAAHm+QAAAAAAAeb5A",
          "dtype": "f8",
          "shape": "24, 2"
         },
         "hovertemplate": "source=model<br>dpurp_label=Shop<br>dept_hr=%{x}<br>percentage=%{y}<br>trexpfac=%{customdata[0]}<br>sample_count=%{customdata[1]}<extra></extra>",
         "legendgroup": "model",
         "marker": {
          "color": "#91268F",
          "pattern": {
           "shape": ""
          }
         },
         "name": "model",
         "offsetgroup": "model",
         "orientation": "v",
         "showlegend": false,
         "textposition": "auto",
         "type": "bar",
         "x": {
          "bdata": "AAECAwQFBgcICQoLDA0ODxAREhMUFRYX",
          "dtype": "i1"
         },
         "xaxis": "x4",
         "y": {
          "bdata": "5rHUJbw+QT9X80IxYzg2P/2L/cH7wiM/SitYSSwybT/5KGZPd9tuP8o8cpV3VXg/PtWKoUbKjz+UjxVH1ZWgP45d7XN4Was/HolVPnUYsz+Ai+fcPDy2PzMGhVl86LQ/E54d6qGgsz9386CV+Kq1P4LKVPvUZrM/v7fL2uHmtT8j6jgJEoO3PzPXJeYa5LM/waVY+f49rz8+QPtf8JOlP57Qb75mGZ0/hQxz96LShD+ZmX9nFadyP+dev2QSnmY/",
          "dtype": "f8"
         },
         "yaxis": "y4"
        },
        {
         "alignmentgroup": "True",
         "customdata": {
          "bdata": "AAAAAACkk0AAAAAAAKSTQAAAAAAAIItAAAAAAAAgi0AAAAAAAIBzQAAAAAAAgHNAAAAAAADdtUAAAAAAAN21QAAAAAAAvblAAAAAAAC9uUAAAAAAAAzJQAAAAAAADMlAAAAAAAAY4EAAAAAAABjgQAAAAADArehAAAAAAMCt6EAAAAAA8InxQAAAAADwifFAAAAAABDk9UAAAAAAEOT1QAAAAABQGPxAAAAAAFAY/EAAAAAAICr+QAAAAAAgKv5AAAAAAKBR/UAAAAAAoFH9QAAAAAAwSv5AAAAAADBK/kAAAAAAwPz6QAAAAADA/PpAAAAAAMDz+EAAAAAAwPP4QAAAAADgU/xAAAAAAOBT/EAAAAAAcOH7QAAAAABw4ftAAAAAAAD69kAAAAAAAPr2QAAAAADgau9AAAAAAOBq70AAAAAAoCvnQAAAAACgK+dAAAAAAABk2kAAAAAAAGTaQAAAAACAc8VAAAAAAIBzxUAAAAAAAAa2QAAAAAAABrZA",
          "dtype": "f8",
          "shape": "24, 2"
         },
         "hovertemplate": "source=model<br>dpurp_label=Meal<br>dept_hr=%{x}<br>percentage=%{y}<br>trexpfac=%{customdata[0]}<br>sample_count=%{customdata[1]}<extra></extra>",
         "legendgroup": "model",
         "marker": {
          "color": "#91268F",
          "pattern": {
           "shape": ""
          }
         },
         "name": "model",
         "offsetgroup": "model",
         "orientation": "v",
         "showlegend": false,
         "textposition": "auto",
         "type": "bar",
         "x": {
          "bdata": "AAECAwQFBgcICQoLDA0ODxAREhMUFRYX",
          "dtype": "i1"
         },
         "xaxis": "x3",
         "y": {
          "bdata": "MUi9hkVzTD8ynsDoVqVDP/jzQsIfPyw/yxegBH6rbz9/IpAjOaRyP8lo4/UGJII/LIpauf5Plz9RnHi+w9+hP/eYs33dZ6k/w2yd+7i1rz9v1iNiL1m0P7uper3p2LU/7Sgguxs8tT88I/mOIvC1P0y65BXPi7M/+t9Er3YSsj+qszsSU4S0PwbwK9JwMbQ/8EO01imksD/QSaYZOcGmP+A+A/sayKA/ZonWLi0dkz+JRGTIqxJ/P9O+gOvh5m8/",
          "dtype": "f8"
         },
         "yaxis": "y3"
        },
        {
         "alignmentgroup": "True",
         "customdata": {
          "bdata": "AAAAAAD6pEAAAAAAAPqkQAAAAAAAwJ1AAAAAAADAnUAAAAAAAFCIQAAAAAAAUIhAAAAAAEAQ3kAAAAAAQBDeQAAAAADArtxAAAAAAMCu3EAAAAAA4OnpQAAAAADg6elAAAAAAOCLAUEAAAAA4IsBQQAAAAB4mwVBAAAAAHibBUEAAAAAKIADQQAAAAAogANBAAAAANAfAUEAAAAA0B8BQQAAAAAgPABBAAAAACA8AEEAAAAAIEL7QAAAAAAgQvtAAAAAAIB0+UAAAAAAgHT5QAAAAACgc/xAAAAAAKBz/EAAAAAAcFf8QAAAAABwV/xAAAAAAHjvAkEAAAAAeO8CQQAAAADA/QVBAAAAAMD9BUEAAAAAKIYDQQAAAAAohgNBAAAAAKCx+kAAAAAAoLH6QAAAAACgM/BAAAAAAKAz8EAAAAAAAOPnQAAAAAAA4+dAAAAAAMAv2UAAAAAAwC/ZQAAAAACA/ctAAAAAAID9y0AAAAAAAEvGQAAAAAAAS8ZA",
          "dtype": "f8",
          "shape": "24, 2"
         },
         "hovertemplate": "source=model<br>dpurp_label=Escort<br>dept_hr=%{x}<br>percentage=%{y}<br>trexpfac=%{customdata[0]}<br>sample_count=%{customdata[1]}<extra></extra>",
         "legendgroup": "model",
         "marker": {
          "color": "#91268F",
          "pattern": {
           "shape": ""
          }
         },
         "name": "model",
         "offsetgroup": "model",
         "orientation": "v",
         "showlegend": false,
         "textposition": "auto",
         "type": "bar",
         "x": {
          "bdata": "AAECAwQFBgcICQoLDA0ODxAREhMUFRYX",
          "dtype": "i1"
         },
         "xaxis": "x2",
         "y": {
          "bdata": "UEtEaYQGVT9lx5mnwNFNPxbzlgOCXjg/dhS2ijAijj9xLYWZ3b+MPwPatZhW+Zk/75mSaViWsT+zv3nDXKi1P8q1SfHKi7M/l2fI7QcqsT8A9+UP0EWwP1CE2wRkUqs/1jtUjrCDqT+QFH9RmoSsP5wUiH9ZaKw/PaubmsT6sj/dJBFp3wq2P6Jg24XOkbM/GgfSyo3Bqj+j72z9Sj2gPwz+lfhA8Zc/jsv5h8c+iT8HQYvUMw58P4Kc5IFNWHY/",
          "dtype": "f8"
         },
         "yaxis": "y2"
        },
        {
         "alignmentgroup": "True",
         "customdata": {
          "bdata": "AAAAAABAhUAAAAAAAECFQAAAAAAAcHpAAAAAAABwekAAAAAAAGBlQAAAAAAAYGVAAAAAAACQuEAAAAAAAJC4QAAAAAAAbLhAAAAAAABsuEAAAAAAAD7GQAAAAAAAPsZAAAAAAEAH3kAAAAAAQAfeQAAAAAAAEetAAAAAAAAR60AAAAAAcGX1QAAAAABwZfVAAAAAAMB4+kAAAAAAwHj6QAAAAAAwXvtAAAAAADBe+0AAAAAAgIj3QAAAAACAiPdAAAAAAFCp9UAAAAAAUKn1QAAAAAAwd/dAAAAAADB390AAAAAAcAb0QAAAAABwBvRAAAAAAICu9EAAAAAAgK70QAAAAADQmPZAAAAAANCY9kAAAAAAcCnyQAAAAABwKfJAAAAAACCH7EAAAAAAIIfsQAAAAADgkeBAAAAAAOCR4EAAAAAAwITXQAAAAADAhNdAAAAAAAC1yUAAAAAAALXJQAAAAAAAVrNAAAAAAABWs0AAAAAAAHKnQAAAAAAAcqdA",
          "dtype": "f8",
          "shape": "24, 2"
         },
         "hovertemplate": "source=model<br>dpurp_label=Personal Business<br>dept_hr=%{x}<br>percentage=%{y}<br>trexpfac=%{customdata[0]}<br>sample_count=%{customdata[1]}<extra></extra>",
         "legendgroup": "model",
         "marker": {
          "color": "#91268F",
          "pattern": {
           "shape": ""
          }
         },
         "name": "model",
         "offsetgroup": "model",
         "orientation": "v",
         "showlegend": false,
         "textposition": "auto",
         "type": "bar",
         "x": {
          "bdata": "AAECAwQFBgcICQoLDA0ODxAREhMUFRYX",
          "dtype": "i1"
         },
         "xaxis": "x",
         "y": {
          "bdata": "B6XwAgcDQz84tfyXJ6c3Pxe+oC6oHyM/Pj2rCLb5dT8MIYW3gNl1P/prtk1G5oM/PmX9eJXdmj9Ts8p7MjeoP1kqjZGFJLM/Etzuqfuutz/J96s+QXy4P9ou7eT2DbU/hK83bT9hsz9Kacqyef60P2uXWbp96rE/D/NLMNqAsj8cqzGwhTe0P8yhIEe7P7A/XoiQy+qFqT8glWgcMaadP+qLzgGcCpU/v6KvwNn/hj84JfgVo0xxPzpdNZLV+WQ/",
          "dtype": "f8"
         },
         "yaxis": "y"
        },
        {
         "alignmentgroup": "True",
         "customdata": {
          "bdata": "lP8gOXEliUAAAAAAAAAIQMwA3Xn/koFAAAAAAAAAAEAAAAAAAAAAAAAAAAAAAAAAQFWDdI9+yEAAAAAAAAA2QA9Xv52OFOpAAAAAAACAT0B19dWtPvr5QAAAAAAAIGFA/zhsI2CyCUEAAAAAAHB3QLlzjWWyLBZBAAAAAADYg0BBmlD9j3sRQQAAAAAAaINAd6S62TdgBkEAAAAAAFB5QFIRldlA7PlAAAAAAADAcECcDrSIsRL0QAAAAAAAYG1Ats5sWMxV9UAAAAAAACB0QADyDZy5mvJAAAAAAADAbUBUNHAsaqL3QAAAAAAAgGhAUAoPZyGq8UAAAAAAAEBiQIYJoQJAzeFAAAAAAACAW0B/ad2RpYXZQAAAAAAAAFxANYbAxTbLwkAAAAAAAIBNQP6BnLUm8MlAAAAAAACARkDw1Tbps6StQAAAAAAAAEFAnBloYfAwhEAAAAAAAAA2QM01GtvAFcVAAAAAAAAAMEBAeNvMcOWUQAAAAAAAACRA",
          "dtype": "f8",
          "shape": "24, 2"
         },
         "hovertemplate": "source=survey<br>dpurp_label=Work<br>dept_hr=%{x}<br>percentage=%{y}<br>trexpfac=%{customdata[0]}<br>sample_count=%{customdata[1]}<extra></extra>",
         "legendgroup": "survey",
         "marker": {
          "color": "#8CC63E",
          "pattern": {
           "shape": ""
          }
         },
         "name": "survey",
         "offsetgroup": "survey",
         "orientation": "v",
         "showlegend": true,
         "textposition": "auto",
         "type": "bar",
         "x": {
          "bdata": "AAECAwQFBgcICQoLDA0ODxAREhMUFRYX",
          "dtype": "i1"
         },
         "xaxis": "x6",
         "y": {
          "bdata": "kql2kh6nPD9ZawTHXQY0PwAAAAAAAAAAhBr9affoez+H6WDxk7edP3JuYLSYma0/CA15jrRHvT+cy3V5SkTJP892Xq+p68M//yjnJf9+uT/INSJnp4mtP2jm1tZD36Y/i7ed62xPqD/Th9eA3jKlP2lKPlIf7qo/LOOOfrkgpD8JMvzOvUiUP8jByT+9FI0/IUaWoh5qdT+5E/1oGI59P2YjqJ1142A/98+FZboBNz/0EjMkcwZ4P4ThJ2hmz0c/",
          "dtype": "f8"
         },
         "yaxis": "y6"
        },
        {
         "alignmentgroup": "True",
         "customdata": {
          "bdata": "AAAAAAAAAAAAAAAAAAAAAAAAAAAAAAAAAAAAAAAAAAAAAAAAAAAAAAAAAAAAAAAAAAAAAAAAAAAAAAAAAAAAABXug+gRrFVAAAAAAAAA8D+cwa9xRmZ8QAAAAAAAABBA1J9/ZbQi2UAAAAAAAAA6QJLqMwMcqwhBAAAAAACgbUAlf+w+g8oGQQAAAAAAoHBA35DU+ufC60AAAAAAAIBPQCvMPYvFpsJAAAAAAAAANkB6jW6R9hG5QAAAAAAAADBA75AT2H8SuUAAAAAAAAAqQFEkZynrx89AAAAAAAAAM0DMGS+v+9OzQAAAAAAAACpA0ZmZuTbQrUAAAAAAAAAuQKjajxUWNbFAAAAAAAAAIkAIX+GJ6aCPQAAAAAAAACBABGsstwJbxkAAAAAAAAAIQIuxHsNOcV1AAAAAAAAA8D8AAAAAAAAAAAAAAAAAAAAAAAAAAAAAAAAAAAAAAAAAAAAAAAAAAAAAAAAAAAAAAAAAAAAAAAAAAAAAAAAAAAAA",
          "dtype": "f8",
          "shape": "24, 2"
         },
         "hovertemplate": "source=survey<br>dpurp_label=School<br>dept_hr=%{x}<br>percentage=%{y}<br>trexpfac=%{customdata[0]}<br>sample_count=%{customdata[1]}<extra></extra>",
         "legendgroup": "survey",
         "marker": {
          "color": "#8CC63E",
          "pattern": {
           "shape": ""
          }
         },
         "name": "survey",
         "offsetgroup": "survey",
         "orientation": "v",
         "showlegend": false,
         "textposition": "auto",
         "type": "bar",
         "x": {
          "bdata": "AAECAwQFBgcICQoLDA0ODxAREhMUFRYX",
          "dtype": "i1"
         },
         "xaxis": "x5",
         "y": {
          "bdata": "AAAAAAAAAAAAAAAAAAAAAAAAAAAAAAAAAAAAAAAAAAC2xbN5Py4lP9BlRmdlwUs//1yMbcaQqD/Ja89g5BvYP/U0788xRtY/IY4fabshuz9PB0CmfDqSPz/Ht8tpgIg/zR5h9e+AiD/vaFt0aA+fP6ebzgveYIM/0OmQYCAjfT/cZe94L9GAP3hVX0pJ6V4/e/stoTjZlT8BxStpX8YsPwAAAAAAAAAAAAAAAAAAAAAAAAAAAAAAAAAAAAAAAAAA",
          "dtype": "f8"
         },
         "yaxis": "y5"
        },
        {
         "alignmentgroup": "True",
         "customdata": {
          "bdata": "rDIaz2BsdkAAAAAAAAAIQNUHSA2v8GFAAAAAAAAA8D/R7iqYLNeBQAAAAAAAAPA/AAAAAAAAAAAAAAAAAAAAAHqeDuMntqJAAAAAAAAAAEDCbgX/gSyRQAAAAAAAACBAEpflhhjpwkAAAAAAAAAwQCG5WJ3EJN5AAAAAAACAS0BtwgG2foPpQAAAAAAAAFhApBI/c4g/8kAAAAAAAEBoQD2lv3+WMwFBAAAAAAAwckBRgZxy2jQEQQAAAAAA8HRAcnGF6DtbA0EAAAAAAEB0QKqO8MDTIAJBAAAAAAAAc0Cr6cAFmrMKQQAAAAAAkHVAhp1uTWItDUEAAAAAAIByQJ9DKqUIawhBAAAAAADAdEDNlHN35Ej/QAAAAAAAEHNAfy7PuRN3AkEAAAAAAMBuQK4+aq+G/vBAAAAAAADAakAeuDEOIHjgQAAAAAAAQFVA6mOeVCF80EAAAAAAAAA9QDALnmGS0M9AAAAAAAAAM0B86qbaPKeyQAAAAAAAABxA",
          "dtype": "f8",
          "shape": "24, 2"
         },
         "hovertemplate": "source=survey<br>dpurp_label=Shop<br>dept_hr=%{x}<br>percentage=%{y}<br>trexpfac=%{customdata[0]}<br>sample_count=%{customdata[1]}<extra></extra>",
         "legendgroup": "survey",
         "marker": {
          "color": "#8CC63E",
          "pattern": {
           "shape": ""
          }
         },
         "name": "survey",
         "offsetgroup": "survey",
         "orientation": "v",
         "showlegend": false,
         "textposition": "auto",
         "type": "bar",
         "x": {
          "bdata": "AAECAwQFBgcICQoLDA0ODxAREhMUFRYX",
          "dtype": "i1"
         },
         "xaxis": "x4",
         "y": {
          "bdata": "avTdDP05KT/UrLfY0S4UP+demgIfEjQ/AAAAAAAAAADimVpX+gxVP+0MeJseUkM/Hv1WNElGdT+Zjr1xufSQP7PvEuoAtJw/hOEupIaHpD8dKmKxFVqzPwOgUEyEu7Y/eLFSVLHGtT+EfHxF+2S0P1K3rn4gCr4/k43By5FpwD8g2UBNe3i7P5cQj8ULmbE/teuLewPGtD9VktDAYx6jPyxfs+ovh5I/fpzPXLGLgj/tihvKXeWBP9oGKeMx/GQ/",
          "dtype": "f8"
         },
         "yaxis": "y4"
        },
        {
         "alignmentgroup": "True",
         "customdata": {
          "bdata": "S+8gLvrEg0AAAAAAAADwPwAAAAAAAAAAAAAAAAAAAAAAAAAAAAAAAAAAAAAAAAAAAAAAAAAAAAAAAAAAAAAAAMRVEpr8TzdAAAAAAAAA8D/cEQ5Y+12vQAAAAAAAABRAEuKZsQ7v0kAAAAAAAAA8QAdbFE1qytBAAAAAAACASEAq9BqfMavjQAAAAAAAgFFAiEU2Z9WP30AAAAAAAIBWQLo4iNC/99VAAAAAAACAVUBRHmniwlTzQAAAAAAAAGlAKn6JhjkT/EAAAAAAACBuQJXcvXciqeFAAAAAAAAgY0AjuuPb+hDzQAAAAAAAAF5AUFZJ9Hv19EAAAAAAAEBeQA0LVFxsPfFAAAAAAAAgZEBY4KLS3r30QAAAAAAA4GlA1W7Do/BH9EAAAAAAAEBpQMVH2lM6cu1AAAAAAADAXUB7wc0mKb7wQAAAAAAAwFRA+wSoK/yeykAAAAAAAAA9QJn4JwCLWLNAAAAAAAAALkBT0WCVFluXQAAAAAAAABBA",
          "dtype": "f8",
          "shape": "24, 2"
         },
         "hovertemplate": "source=survey<br>dpurp_label=Meal<br>dept_hr=%{x}<br>percentage=%{y}<br>trexpfac=%{customdata[0]}<br>sample_count=%{customdata[1]}<extra></extra>",
         "legendgroup": "survey",
         "marker": {
          "color": "#8CC63E",
          "pattern": {
           "shape": ""
          }
         },
         "name": "survey",
         "offsetgroup": "survey",
         "orientation": "v",
         "showlegend": false,
         "textposition": "auto",
         "type": "bar",
         "x": {
          "bdata": "AAECAwQFBgcICQoLDA0ODxAREhMUFRYX",
          "dtype": "i1"
         },
         "xaxis": "x3",
         "y": {
          "bdata": "qXMcqVKTRj8AAAAAAAAAAAAAAAAAAAAAAAAAAAAAAABs/71SEp/6Pud9RQbf6HE/klPFJQqflT+7KJ40hiyTPzBiITvhdaY/Daf2w1UFoj9KFNJE+RWZPx8Jxt0tE7Y/Inc11q4HwD9Zedcj2yqkPzO3Ru3GxbU/xRUWDA3vtz9B+kE326+zPwx3vx+Lr7c/eymMzd8otz8suXBKGNCwP4z4X8aHHrM///ftjkpmjj++5SRlfxd2P1Trv7C/q1o/",
          "dtype": "f8"
         },
         "yaxis": "y3"
        },
        {
         "alignmentgroup": "True",
         "customdata": {
          "bdata": "utkyW31UIkAAAAAAAADwPwAAAAAAAAAAAAAAAAAAAAAAAAAAAAAAAAAAAAAAAAAAAAAAAAAAAAAAAAAAAAAAAI2cHv82rK9AAAAAAAAA8D+9KI5qsGqoQAAAAAAAACRAiph2LG9m4EAAAAAAAIBCQJuBVSdVpwxBAAAAAABgbEACIVcf4e4GQQAAAAAAQG1ADmiCQa5P9EAAAAAAAMBXQC6/EQbnMdNAAAAAAACAU0Ck3R/FpM3bQAAAAAAAgE9AzNShFvIn2EAAAAAAAABTQF3RNON0zPZAAAAAAADAVUBNU7H+kMUCQQAAAAAA4GVAEAfZ7hQPCUEAAAAAAIBsQApmk3oMU/ZAAAAAAAAgY0BitBL33Er5QAAAAAAAgGFAvtGsKr3T2EAAAAAAAABRQLvlj10aU+NAAAAAAAAATUBOaXUsNAvVQAAAAAAAAD1A0DOWUJdJwEAAAAAAAAA3QIuM5b5ffsZAAAAAAAAAKkDFzPnRrPyCQAAAAAAAAAhA",
          "dtype": "f8",
          "shape": "24, 2"
         },
         "hovertemplate": "source=survey<br>dpurp_label=Escort<br>dept_hr=%{x}<br>percentage=%{y}<br>trexpfac=%{customdata[0]}<br>sample_count=%{customdata[1]}<extra></extra>",
         "legendgroup": "survey",
         "marker": {
          "color": "#8CC63E",
          "pattern": {
           "shape": ""
          }
         },
         "name": "survey",
         "offsetgroup": "survey",
         "orientation": "v",
         "showlegend": false,
         "textposition": "auto",
         "type": "bar",
         "x": {
          "bdata": "AAECAwQFBgcICQoLDA0ODxAREhMUFRYX",
          "dtype": "i1"
         },
         "xaxis": "x2",
         "y": {
          "bdata": "YPp1jpX62z4AAAAAAAAAAAAAAAAAAAAAAAAAAAAAAACF9ERxKSxoP2VH6i2BomI/DnE6H3YImT8etxUDTd7FP32neJaigME/HnPE0cEArz+d+RgRjEyNP6IhxEwpOJU/T2zI85Bvkj8RKsQeXWaxP8lT1ggvp7w/zsVc8Pcfwz/SWIiotAmxP2R/i+yXTbM/cGx9oq3ykj/0g29nOX+dP1V8v9x+D5A/Oak+c2/ceD+v/bB5xSqBPzxsbx9N+zw/",
          "dtype": "f8"
         },
         "yaxis": "y2"
        },
        {
         "alignmentgroup": "True",
         "customdata": {
          "bdata": "AAAAAAAAAAAAAAAAAAAAAAAAAAAAAAAAAAAAAAAAAAAAAAAAAAAAAAAAAAAAAAAAAAAAAAAAAAAAAAAAAAAAAAAAAAAAAAAAAAAAAAAAAACa8xZta/umQAAAAAAAABRArqFiEteDukAAAAAAAAA4QL6tSVOGzOVAAAAAAAAAU0CP6PLAXQXfQAAAAAAAgFtAia/WJYIr8kAAAAAAAGBjQNwIE0cMQvBAAAAAAADgZkASMNLO8kHrQAAAAAAAgGJAywM2oLGE8UAAAAAAAGBiQDSeGR6Df/JAAAAAAABAZUB5kTmdNOT/QAAAAAAAIGRARYi2Xk4B70AAAAAAAABhQN2cjCCmu+NAAAAAAACAXkA1Y9d6D8/wQAAAAAAAwFRAv55eqKRLwkAAAAAAAIBJQD51YMZiJMtAAAAAAAAANkBw/zXjDyqVQAAAAAAAACBA81x7DMIltUAAAAAAAAAUQMJPxfSWrWhAAAAAAAAA8D8AAAAAAAAAAAAAAAAAAAAA",
          "dtype": "f8",
          "shape": "24, 2"
         },
         "hovertemplate": "source=survey<br>dpurp_label=Personal Business<br>dept_hr=%{x}<br>percentage=%{y}<br>trexpfac=%{customdata[0]}<br>sample_count=%{customdata[1]}<extra></extra>",
         "legendgroup": "survey",
         "marker": {
          "color": "#8CC63E",
          "pattern": {
           "shape": ""
          }
         },
         "name": "survey",
         "offsetgroup": "survey",
         "orientation": "v",
         "showlegend": false,
         "textposition": "auto",
         "type": "bar",
         "x": {
          "bdata": "AAECAwQFBgcICQoLDA0ODxAREhMUFRYX",
          "dtype": "i1"
         },
         "xaxis": "x",
         "y": {
          "bdata": "AAAAAAAAAAAAAAAAAAAAAAAAAAAAAAAAAAAAAAAAAAAAAAAAAAAAAIUfilOciW8/I3XWi1sxgj/QRuRj9emtP39xC0/USKU/hWgtHRrvuD9W2Em/bk+2P8PblA/Ms7I/5wHMMTAKuD+drm+hYGK5P52NRwO64cU/oB9hJwtGtT/GlndrMxSrP1xl8mrwELc/nhC3EDMbiT8Nkjljg5+SP3/RGEoEC10/CzZRRhwFfT+HNg4YtO4wPwAAAAAAAAAA",
          "dtype": "f8"
         },
         "yaxis": "y"
        }
       ],
       "layout": {
        "annotations": [
         {
          "font": {},
          "showarrow": false,
          "text": "Personal Business",
          "textangle": 90,
          "x": 0.98,
          "xanchor": "left",
          "xref": "paper",
          "y": 0.07083333333333333,
          "yanchor": "middle",
          "yref": "paper"
         },
         {
          "font": {},
          "showarrow": false,
          "text": "Escort",
          "textangle": 90,
          "x": 0.98,
          "xanchor": "left",
          "xref": "paper",
          "y": 0.2425,
          "yanchor": "middle",
          "yref": "paper"
         },
         {
          "font": {},
          "showarrow": false,
          "text": "Meal",
          "textangle": 90,
          "x": 0.98,
          "xanchor": "left",
          "xref": "paper",
          "y": 0.4141666666666667,
          "yanchor": "middle",
          "yref": "paper"
         },
         {
          "font": {},
          "showarrow": false,
          "text": "Shop",
          "textangle": 90,
          "x": 0.98,
          "xanchor": "left",
          "xref": "paper",
          "y": 0.5858333333333334,
          "yanchor": "middle",
          "yref": "paper"
         },
         {
          "font": {},
          "showarrow": false,
          "text": "School",
          "textangle": 90,
          "x": 0.98,
          "xanchor": "left",
          "xref": "paper",
          "y": 0.7575000000000001,
          "yanchor": "middle",
          "yref": "paper"
         },
         {
          "font": {},
          "showarrow": false,
          "text": "Work",
          "textangle": 90,
          "x": 0.98,
          "xanchor": "left",
          "xref": "paper",
          "y": 0.9291666666666667,
          "yanchor": "middle",
          "yref": "paper"
         }
        ],
        "barmode": "group",
        "height": 1500,
        "legend": {
         "title": {
          "text": "source"
         },
         "tracegroupgap": 0
        },
        "template": {
         "data": {
          "bar": [
           {
            "error_x": {
             "color": "rgb(36,36,36)"
            },
            "error_y": {
             "color": "rgb(36,36,36)"
            },
            "marker": {
             "line": {
              "color": "white",
              "width": 0.5
             },
             "pattern": {
              "fillmode": "overlay",
              "size": 10,
              "solidity": 0.2
             }
            },
            "type": "bar"
           }
          ],
          "barpolar": [
           {
            "marker": {
             "line": {
              "color": "white",
              "width": 0.5
             },
             "pattern": {
              "fillmode": "overlay",
              "size": 10,
              "solidity": 0.2
             }
            },
            "type": "barpolar"
           }
          ],
          "carpet": [
           {
            "aaxis": {
             "endlinecolor": "rgb(36,36,36)",
             "gridcolor": "white",
             "linecolor": "white",
             "minorgridcolor": "white",
             "startlinecolor": "rgb(36,36,36)"
            },
            "baxis": {
             "endlinecolor": "rgb(36,36,36)",
             "gridcolor": "white",
             "linecolor": "white",
             "minorgridcolor": "white",
             "startlinecolor": "rgb(36,36,36)"
            },
            "type": "carpet"
           }
          ],
          "choropleth": [
           {
            "colorbar": {
             "outlinewidth": 1,
             "tickcolor": "rgb(36,36,36)",
             "ticks": "outside"
            },
            "type": "choropleth"
           }
          ],
          "contour": [
           {
            "colorbar": {
             "outlinewidth": 1,
             "tickcolor": "rgb(36,36,36)",
             "ticks": "outside"
            },
            "colorscale": [
             [
              0.0,
              "#440154"
             ],
             [
              0.1111111111111111,
              "#482878"
             ],
             [
              0.2222222222222222,
              "#3e4989"
             ],
             [
              0.3333333333333333,
              "#31688e"
             ],
             [
              0.4444444444444444,
              "#26828e"
             ],
             [
              0.5555555555555556,
              "#1f9e89"
             ],
             [
              0.6666666666666666,
              "#35b779"
             ],
             [
              0.7777777777777778,
              "#6ece58"
             ],
             [
              0.8888888888888888,
              "#b5de2b"
             ],
             [
              1.0,
              "#fde725"
             ]
            ],
            "type": "contour"
           }
          ],
          "contourcarpet": [
           {
            "colorbar": {
             "outlinewidth": 1,
             "tickcolor": "rgb(36,36,36)",
             "ticks": "outside"
            },
            "type": "contourcarpet"
           }
          ],
          "heatmap": [
           {
            "colorbar": {
             "outlinewidth": 1,
             "tickcolor": "rgb(36,36,36)",
             "ticks": "outside"
            },
            "colorscale": [
             [
              0.0,
              "#440154"
             ],
             [
              0.1111111111111111,
              "#482878"
             ],
             [
              0.2222222222222222,
              "#3e4989"
             ],
             [
              0.3333333333333333,
              "#31688e"
             ],
             [
              0.4444444444444444,
              "#26828e"
             ],
             [
              0.5555555555555556,
              "#1f9e89"
             ],
             [
              0.6666666666666666,
              "#35b779"
             ],
             [
              0.7777777777777778,
              "#6ece58"
             ],
             [
              0.8888888888888888,
              "#b5de2b"
             ],
             [
              1.0,
              "#fde725"
             ]
            ],
            "type": "heatmap"
           }
          ],
          "histogram": [
           {
            "marker": {
             "line": {
              "color": "white",
              "width": 0.6
             }
            },
            "type": "histogram"
           }
          ],
          "histogram2d": [
           {
            "colorbar": {
             "outlinewidth": 1,
             "tickcolor": "rgb(36,36,36)",
             "ticks": "outside"
            },
            "colorscale": [
             [
              0.0,
              "#440154"
             ],
             [
              0.1111111111111111,
              "#482878"
             ],
             [
              0.2222222222222222,
              "#3e4989"
             ],
             [
              0.3333333333333333,
              "#31688e"
             ],
             [
              0.4444444444444444,
              "#26828e"
             ],
             [
              0.5555555555555556,
              "#1f9e89"
             ],
             [
              0.6666666666666666,
              "#35b779"
             ],
             [
              0.7777777777777778,
              "#6ece58"
             ],
             [
              0.8888888888888888,
              "#b5de2b"
             ],
             [
              1.0,
              "#fde725"
             ]
            ],
            "type": "histogram2d"
           }
          ],
          "histogram2dcontour": [
           {
            "colorbar": {
             "outlinewidth": 1,
             "tickcolor": "rgb(36,36,36)",
             "ticks": "outside"
            },
            "colorscale": [
             [
              0.0,
              "#440154"
             ],
             [
              0.1111111111111111,
              "#482878"
             ],
             [
              0.2222222222222222,
              "#3e4989"
             ],
             [
              0.3333333333333333,
              "#31688e"
             ],
             [
              0.4444444444444444,
              "#26828e"
             ],
             [
              0.5555555555555556,
              "#1f9e89"
             ],
             [
              0.6666666666666666,
              "#35b779"
             ],
             [
              0.7777777777777778,
              "#6ece58"
             ],
             [
              0.8888888888888888,
              "#b5de2b"
             ],
             [
              1.0,
              "#fde725"
             ]
            ],
            "type": "histogram2dcontour"
           }
          ],
          "mesh3d": [
           {
            "colorbar": {
             "outlinewidth": 1,
             "tickcolor": "rgb(36,36,36)",
             "ticks": "outside"
            },
            "type": "mesh3d"
           }
          ],
          "parcoords": [
           {
            "line": {
             "colorbar": {
              "outlinewidth": 1,
              "tickcolor": "rgb(36,36,36)",
              "ticks": "outside"
             }
            },
            "type": "parcoords"
           }
          ],
          "pie": [
           {
            "automargin": true,
            "type": "pie"
           }
          ],
          "scatter": [
           {
            "fillpattern": {
             "fillmode": "overlay",
             "size": 10,
             "solidity": 0.2
            },
            "type": "scatter"
           }
          ],
          "scatter3d": [
           {
            "line": {
             "colorbar": {
              "outlinewidth": 1,
              "tickcolor": "rgb(36,36,36)",
              "ticks": "outside"
             }
            },
            "marker": {
             "colorbar": {
              "outlinewidth": 1,
              "tickcolor": "rgb(36,36,36)",
              "ticks": "outside"
             }
            },
            "type": "scatter3d"
           }
          ],
          "scattercarpet": [
           {
            "marker": {
             "colorbar": {
              "outlinewidth": 1,
              "tickcolor": "rgb(36,36,36)",
              "ticks": "outside"
             }
            },
            "type": "scattercarpet"
           }
          ],
          "scattergeo": [
           {
            "marker": {
             "colorbar": {
              "outlinewidth": 1,
              "tickcolor": "rgb(36,36,36)",
              "ticks": "outside"
             }
            },
            "type": "scattergeo"
           }
          ],
          "scattergl": [
           {
            "marker": {
             "colorbar": {
              "outlinewidth": 1,
              "tickcolor": "rgb(36,36,36)",
              "ticks": "outside"
             }
            },
            "type": "scattergl"
           }
          ],
          "scattermap": [
           {
            "marker": {
             "colorbar": {
              "outlinewidth": 1,
              "tickcolor": "rgb(36,36,36)",
              "ticks": "outside"
             }
            },
            "type": "scattermap"
           }
          ],
          "scattermapbox": [
           {
            "marker": {
             "colorbar": {
              "outlinewidth": 1,
              "tickcolor": "rgb(36,36,36)",
              "ticks": "outside"
             }
            },
            "type": "scattermapbox"
           }
          ],
          "scatterpolar": [
           {
            "marker": {
             "colorbar": {
              "outlinewidth": 1,
              "tickcolor": "rgb(36,36,36)",
              "ticks": "outside"
             }
            },
            "type": "scatterpolar"
           }
          ],
          "scatterpolargl": [
           {
            "marker": {
             "colorbar": {
              "outlinewidth": 1,
              "tickcolor": "rgb(36,36,36)",
              "ticks": "outside"
             }
            },
            "type": "scatterpolargl"
           }
          ],
          "scatterternary": [
           {
            "marker": {
             "colorbar": {
              "outlinewidth": 1,
              "tickcolor": "rgb(36,36,36)",
              "ticks": "outside"
             }
            },
            "type": "scatterternary"
           }
          ],
          "surface": [
           {
            "colorbar": {
             "outlinewidth": 1,
             "tickcolor": "rgb(36,36,36)",
             "ticks": "outside"
            },
            "colorscale": [
             [
              0.0,
              "#440154"
             ],
             [
              0.1111111111111111,
              "#482878"
             ],
             [
              0.2222222222222222,
              "#3e4989"
             ],
             [
              0.3333333333333333,
              "#31688e"
             ],
             [
              0.4444444444444444,
              "#26828e"
             ],
             [
              0.5555555555555556,
              "#1f9e89"
             ],
             [
              0.6666666666666666,
              "#35b779"
             ],
             [
              0.7777777777777778,
              "#6ece58"
             ],
             [
              0.8888888888888888,
              "#b5de2b"
             ],
             [
              1.0,
              "#fde725"
             ]
            ],
            "type": "surface"
           }
          ],
          "table": [
           {
            "cells": {
             "fill": {
              "color": "rgb(237,237,237)"
             },
             "line": {
              "color": "white"
             }
            },
            "header": {
             "fill": {
              "color": "rgb(217,217,217)"
             },
             "line": {
              "color": "white"
             }
            },
            "type": "table"
           }
          ]
         },
         "layout": {
          "annotationdefaults": {
           "arrowhead": 0,
           "arrowwidth": 1
          },
          "autotypenumbers": "strict",
          "coloraxis": {
           "colorbar": {
            "outlinewidth": 1,
            "tickcolor": "rgb(36,36,36)",
            "ticks": "outside"
           }
          },
          "colorscale": {
           "diverging": [
            [
             0.0,
             "rgb(103,0,31)"
            ],
            [
             0.1,
             "rgb(178,24,43)"
            ],
            [
             0.2,
             "rgb(214,96,77)"
            ],
            [
             0.3,
             "rgb(244,165,130)"
            ],
            [
             0.4,
             "rgb(253,219,199)"
            ],
            [
             0.5,
             "rgb(247,247,247)"
            ],
            [
             0.6,
             "rgb(209,229,240)"
            ],
            [
             0.7,
             "rgb(146,197,222)"
            ],
            [
             0.8,
             "rgb(67,147,195)"
            ],
            [
             0.9,
             "rgb(33,102,172)"
            ],
            [
             1.0,
             "rgb(5,48,97)"
            ]
           ],
           "sequential": [
            [
             0.0,
             "#440154"
            ],
            [
             0.1111111111111111,
             "#482878"
            ],
            [
             0.2222222222222222,
             "#3e4989"
            ],
            [
             0.3333333333333333,
             "#31688e"
            ],
            [
             0.4444444444444444,
             "#26828e"
            ],
            [
             0.5555555555555556,
             "#1f9e89"
            ],
            [
             0.6666666666666666,
             "#35b779"
            ],
            [
             0.7777777777777778,
             "#6ece58"
            ],
            [
             0.8888888888888888,
             "#b5de2b"
            ],
            [
             1.0,
             "#fde725"
            ]
           ],
           "sequentialminus": [
            [
             0.0,
             "#440154"
            ],
            [
             0.1111111111111111,
             "#482878"
            ],
            [
             0.2222222222222222,
             "#3e4989"
            ],
            [
             0.3333333333333333,
             "#31688e"
            ],
            [
             0.4444444444444444,
             "#26828e"
            ],
            [
             0.5555555555555556,
             "#1f9e89"
            ],
            [
             0.6666666666666666,
             "#35b779"
            ],
            [
             0.7777777777777778,
             "#6ece58"
            ],
            [
             0.8888888888888888,
             "#b5de2b"
            ],
            [
             1.0,
             "#fde725"
            ]
           ]
          },
          "colorway": [
           "#91268F",
           "#8CC63E",
           "#00A7A0",
           "#F05A28",
           "#4C4C4C",
           "#630460",
           "#9f3913",
           "#588527",
           "#00716c",
           "#3e4040"
          ],
          "font": {
           "color": "rgb(36,36,36)",
           "family": "Poppins",
           "size": 11
          },
          "geo": {
           "bgcolor": "white",
           "lakecolor": "white",
           "landcolor": "white",
           "showlakes": true,
           "showland": true,
           "subunitcolor": "white"
          },
          "hoverlabel": {
           "align": "left"
          },
          "hovermode": "closest",
          "mapbox": {
           "style": "light"
          },
          "paper_bgcolor": "white",
          "plot_bgcolor": "white",
          "polar": {
           "angularaxis": {
            "gridcolor": "rgb(232,232,232)",
            "linecolor": "rgb(36,36,36)",
            "showgrid": false,
            "showline": true,
            "ticks": "outside"
           },
           "bgcolor": "white",
           "radialaxis": {
            "gridcolor": "rgb(232,232,232)",
            "linecolor": "rgb(36,36,36)",
            "showgrid": false,
            "showline": true,
            "ticks": "outside"
           }
          },
          "scene": {
           "xaxis": {
            "backgroundcolor": "white",
            "gridcolor": "rgb(232,232,232)",
            "gridwidth": 2,
            "linecolor": "rgb(36,36,36)",
            "showbackground": true,
            "showgrid": false,
            "showline": true,
            "ticks": "outside",
            "zeroline": false,
            "zerolinecolor": "rgb(36,36,36)"
           },
           "yaxis": {
            "backgroundcolor": "white",
            "gridcolor": "rgb(232,232,232)",
            "gridwidth": 2,
            "linecolor": "rgb(36,36,36)",
            "showbackground": true,
            "showgrid": false,
            "showline": true,
            "ticks": "outside",
            "zeroline": false,
            "zerolinecolor": "rgb(36,36,36)"
           },
           "zaxis": {
            "backgroundcolor": "white",
            "gridcolor": "rgb(232,232,232)",
            "gridwidth": 2,
            "linecolor": "rgb(36,36,36)",
            "showbackground": true,
            "showgrid": false,
            "showline": true,
            "ticks": "outside",
            "zeroline": false,
            "zerolinecolor": "rgb(36,36,36)"
           }
          },
          "shapedefaults": {
           "fillcolor": "black",
           "line": {
            "width": 0
           },
           "opacity": 0.3
          },
          "ternary": {
           "aaxis": {
            "gridcolor": "rgb(232,232,232)",
            "linecolor": "rgb(36,36,36)",
            "showgrid": false,
            "showline": true,
            "ticks": "outside"
           },
           "baxis": {
            "gridcolor": "rgb(232,232,232)",
            "linecolor": "rgb(36,36,36)",
            "showgrid": false,
            "showline": true,
            "ticks": "outside"
           },
           "bgcolor": "white",
           "caxis": {
            "gridcolor": "rgb(232,232,232)",
            "linecolor": "rgb(36,36,36)",
            "showgrid": false,
            "showline": true,
            "ticks": "outside"
           }
          },
          "title": {
           "x": 0.05
          },
          "xaxis": {
           "automargin": true,
           "gridcolor": "rgb(232,232,232)",
           "linecolor": "rgb(36,36,36)",
           "showgrid": false,
           "showline": true,
           "ticks": "outside",
           "title": {
            "standoff": 15
           },
           "zeroline": false,
           "zerolinecolor": "rgb(36,36,36)"
          },
          "yaxis": {
           "automargin": true,
           "gridcolor": "rgb(232,232,232)",
           "linecolor": "rgb(36,36,36)",
           "showgrid": false,
           "showline": true,
           "ticks": "outside",
           "title": {
            "standoff": 15
           },
           "zeroline": false,
           "zerolinecolor": "rgb(36,36,36)"
          }
         }
        },
        "title": {
         "text": "trip origin departure hour by purpose"
        },
        "width": 850,
        "xaxis": {
         "anchor": "y",
         "categoryorder": "category ascending",
         "domain": [
          0.0,
          0.98
         ],
         "dtick": 1,
         "title": {
          "text": "dept_hr"
         }
        },
        "xaxis2": {
         "anchor": "y2",
         "categoryorder": "category ascending",
         "domain": [
          0.0,
          0.98
         ],
         "dtick": 1,
         "matches": "x",
         "showticklabels": false
        },
        "xaxis3": {
         "anchor": "y3",
         "categoryorder": "category ascending",
         "domain": [
          0.0,
          0.98
         ],
         "dtick": 1,
         "matches": "x",
         "showticklabels": false
        },
        "xaxis4": {
         "anchor": "y4",
         "categoryorder": "category ascending",
         "domain": [
          0.0,
          0.98
         ],
         "dtick": 1,
         "matches": "x",
         "showticklabels": false
        },
        "xaxis5": {
         "anchor": "y5",
         "categoryorder": "category ascending",
         "domain": [
          0.0,
          0.98
         ],
         "dtick": 1,
         "matches": "x",
         "showticklabels": false
        },
        "xaxis6": {
         "anchor": "y6",
         "categoryorder": "category ascending",
         "domain": [
          0.0,
          0.98
         ],
         "dtick": 1,
         "matches": "x",
         "showticklabels": false
        },
        "yaxis": {
         "anchor": "x",
         "domain": [
          0.0,
          0.14166666666666666
         ],
         "tickformat": ".0%",
         "title": {
          "text": "percentage"
         }
        },
        "yaxis2": {
         "anchor": "x2",
         "domain": [
          0.17166666666666666,
          0.31333333333333335
         ],
         "matches": "y",
         "tickformat": ".0%",
         "title": {
          "text": "percentage"
         }
        },
        "yaxis3": {
         "anchor": "x3",
         "domain": [
          0.3433333333333333,
          0.485
         ],
         "matches": "y",
         "tickformat": ".0%",
         "title": {
          "text": "percentage"
         }
        },
        "yaxis4": {
         "anchor": "x4",
         "domain": [
          0.515,
          0.6566666666666667
         ],
         "matches": "y",
         "tickformat": ".0%",
         "title": {
          "text": "percentage"
         }
        },
        "yaxis5": {
         "anchor": "x5",
         "domain": [
          0.6866666666666666,
          0.8283333333333334
         ],
         "matches": "y",
         "tickformat": ".0%",
         "title": {
          "text": "percentage"
         }
        },
        "yaxis6": {
         "anchor": "x6",
         "domain": [
          0.8583333333333333,
          1.0
         ],
         "matches": "y",
         "tickformat": ".0%",
         "title": {
          "text": "percentage"
         }
        }
       }
      },
      "text/html": [
       "<div>            <script src=\"https://cdnjs.cloudflare.com/ajax/libs/mathjax/2.7.5/MathJax.js?config=TeX-AMS-MML_SVG\"></script><script type=\"text/javascript\">if (window.MathJax && window.MathJax.Hub && window.MathJax.Hub.Config) {window.MathJax.Hub.Config({SVG: {font: \"STIX-Web\"}});}</script>                <script type=\"text/javascript\">window.PlotlyConfig = {MathJaxConfig: 'local'};</script>\n",
       "        <script charset=\"utf-8\" src=\"https://cdn.plot.ly/plotly-3.0.1.min.js\"></script>                <div id=\"98d2df81-0207-4292-95d7-4b211bb5eb12\" class=\"plotly-graph-div\" style=\"height:1500px; width:850px;\"></div>            <script type=\"text/javascript\">                window.PLOTLYENV=window.PLOTLYENV || {};                                if (document.getElementById(\"98d2df81-0207-4292-95d7-4b211bb5eb12\")) {                    Plotly.newPlot(                        \"98d2df81-0207-4292-95d7-4b211bb5eb12\",                        [{\"alignmentgroup\":\"True\",\"customdata\":{\"dtype\":\"f8\",\"bdata\":\"AAAAAACWskAAAAAAAJayQAAAAAAAfqpAAAAAAAB+qkAAAAAAANiTQAAAAAAA2JNAAAAAAACZ2kAAAAAAAJnaQAAAAADgWuNAAAAAAOBa40AAAAAAgB77QAAAAACAHvtAAAAAAADSEkEAAAAAANISQQAAAADYkhtBAAAAANiSG0EAAAAAeGkZQQAAAAB4aRlBAAAAAEBAD0EAAAAAQEAPQQAAAACIEgVBAAAAAIgSBUEAAAAAWCEFQQAAAABYIQVBAAAAAJBgBEEAAAAAkGAEQQAAAACg9gBBAAAAAKD2AEEAAAAAUIP+QAAAAABQg\\u002f5AAAAAAJAy\\u002fEAAAAAAkDL8QAAAAAAA4\\u002fxAAAAAAADj\\u002fEAAAAAAwML4QAAAAADAwvhAAAAAAADY8kAAAAAAANjyQAAAAABAxeRAAAAAAEDF5EAAAAAAQGzfQAAAAABAbN9AAAAAAACt10AAAAAAAK3XQAAAAACAgMpAAAAAAICAykAAAAAAAEHEQAAAAAAAQcRA\",\"shape\":\"24, 2\"},\"hovertemplate\":\"source=model\\u003cbr\\u003edpurp_label=Work\\u003cbr\\u003edept_hr=%{x}\\u003cbr\\u003epercentage=%{y}\\u003cbr\\u003etrexpfac=%{customdata[0]}\\u003cbr\\u003esample_count=%{customdata[1]}\\u003cextra\\u003e\\u003c\\u002fextra\\u003e\",\"legendgroup\":\"model\",\"marker\":{\"color\":\"#91268F\",\"pattern\":{\"shape\":\"\"}},\"name\":\"model\",\"offsetgroup\":\"model\",\"orientation\":\"v\",\"showlegend\":true,\"textposition\":\"auto\",\"x\":{\"dtype\":\"i1\",\"bdata\":\"AAECAwQFBgcICQoLDA0ODxAREhMUFRYX\"},\"xaxis\":\"x6\",\"y\":{\"dtype\":\"f8\",\"bdata\":\"K7cJ9PuWWj923zSxTPNSPyGhJHSmYzw\\u002fIr+++5wGgz9jCg8zpLCLPy5YocEbZqM\\u002fYWCnlNLsuj9vACfYVLnDP5knA8R9LcI\\u002fO9zb8Lxatj8pHh+SoSWuPyLXko7SOq4\\u002f7XgLnwUnrT95119wu0SoP78GClmW06U\\u002fY3Iy2JQrpD+U2\\u002fNpyqmkP9gciOk7tqE\\u002f5oodC2j1mj97cvrKEbeNPyR44k02eoY\\u002fqGROzo3vgD9SKDh\\u002fFvVyPz+JOA3e+Ww\\u002f\"},\"yaxis\":\"y6\",\"type\":\"bar\"},{\"alignmentgroup\":\"True\",\"customdata\":{\"dtype\":\"f8\",\"bdata\":\"AAAAAAAAIEAAAAAAAAAgQAAAAAAAAABAAAAAAAAAAEAAAAAAAAAIQAAAAAAAAAhAAAAAAAAIhUAAAAAAAAiFQAAAAAAAwIhAAAAAAADAiEAAAAAAAC25QAAAAAAALblAAAAAAABW7UAAAAAAAFbtQAAAAABQcQdBAAAAAFBxB0EAAAAAgEsLQQAAAACASwtBAAAAANC3\\u002fEAAAAAA0Lf8QAAAAADgqutAAAAAAOCq60AAAAAAgBLjQAAAAACAEuNAAAAAAAAA20AAAAAAAADbQAAAAAAArtNAAAAAAACu00AAAAAAADjQQAAAAAAAONBAAAAAAAC4z0AAAAAAALjPQAAAAAAAY8ZAAAAAAABjxkAAAAAAACrDQAAAAAAAKsNAAAAAAAB+ukAAAAAAAH66QAAAAAAAbqFAAAAAAABuoUAAAAAAABSbQAAAAAAAFJtAAAAAAAC0kEAAAAAAALSQQAAAAAAAgFhAAAAAAACAWEAAAAAAAIBQQAAAAAAAgFBA\",\"shape\":\"24, 2\"},\"hovertemplate\":\"source=model\\u003cbr\\u003edpurp_label=School\\u003cbr\\u003edept_hr=%{x}\\u003cbr\\u003epercentage=%{y}\\u003cbr\\u003etrexpfac=%{customdata[0]}\\u003cbr\\u003esample_count=%{customdata[1]}\\u003cextra\\u003e\\u003c\\u002fextra\\u003e\",\"legendgroup\":\"model\",\"marker\":{\"color\":\"#91268F\",\"pattern\":{\"shape\":\"\"}},\"name\":\"model\",\"offsetgroup\":\"model\",\"orientation\":\"v\",\"showlegend\":false,\"textposition\":\"auto\",\"x\":{\"dtype\":\"i1\",\"bdata\":\"AAECAwQFBgcICQoLDA0ODxAREhMUFRYX\"},\"xaxis\":\"x5\",\"y\":{\"dtype\":\"f8\",\"bdata\":\"YfHTiI6w5D5h8dOIjrDEPhLqPc3VCM8+yJbaWhMySz+x7NM9jgBQP5\\u002f+VaMHR4A\\u002fWcwPq5v3sj\\u002f4rx9GU1DOP7envdPIpdE\\u002fo2h24lSRwj9od48Mc+OxP7LjSWeVqag\\u002fqtNyQ\\u002fh0oT+Er4tQqXKZPy7Xsnv4+JQ\\u002fghQgSAGClD9LCxJuyPKMP\\u002f3aorj4x4g\\u002fpfZmAOsggT+T4U1F1YlmPyFYiJzmgWE\\u002fvUFXzFCZVT+diYRBWq4fP+yQGv0SVhU\\u002f\"},\"yaxis\":\"y5\",\"type\":\"bar\"},{\"alignmentgroup\":\"True\",\"customdata\":{\"dtype\":\"f8\",\"bdata\":\"AAAAAAA8l0AAAAAAADyXQAAAAAAA8I1AAAAAAADwjUAAAAAAAKB6QAAAAAAAoHpAAAAAAACrw0AAAAAAAKvDQAAAAACAycRAAAAAAIDJxEAAAAAAgGTQQAAAAACAZNBAAAAAAGBq5UAAAAAAYGrlQAAAAABwWPZAAAAAAHBY9kAAAAAAkGwCQQAAAACQbAJBAAAAAEC6CUEAAAAAQLoJQQAAAAAw9Q1BAAAAADD1DUEAAAAAcCsMQQAAAABwKwxBAAAAALhxCkEAAAAAuHEKQQAAAAB4MQ1BAAAAAHgxDUEAAAAA2CMKQQAAAADYIwpBAAAAADCCDUEAAAAAMIINQQAAAACIrQ9BAAAAAIitD0EAAAAAoMwKQQAAAACgzApBAAAAAOALBUEAAAAA4AsFQQAAAABwEv1AAAAAAHAS\\u002fUAAAAAAUJrzQAAAAABQmvNAAAAAAAAO3EAAAAAAAA7cQAAAAACAIclAAAAAAIAhyUAAAAAAAHm+QAAAAAAAeb5A\",\"shape\":\"24, 2\"},\"hovertemplate\":\"source=model\\u003cbr\\u003edpurp_label=Shop\\u003cbr\\u003edept_hr=%{x}\\u003cbr\\u003epercentage=%{y}\\u003cbr\\u003etrexpfac=%{customdata[0]}\\u003cbr\\u003esample_count=%{customdata[1]}\\u003cextra\\u003e\\u003c\\u002fextra\\u003e\",\"legendgroup\":\"model\",\"marker\":{\"color\":\"#91268F\",\"pattern\":{\"shape\":\"\"}},\"name\":\"model\",\"offsetgroup\":\"model\",\"orientation\":\"v\",\"showlegend\":false,\"textposition\":\"auto\",\"x\":{\"dtype\":\"i1\",\"bdata\":\"AAECAwQFBgcICQoLDA0ODxAREhMUFRYX\"},\"xaxis\":\"x4\",\"y\":{\"dtype\":\"f8\",\"bdata\":\"5rHUJbw+QT9X80IxYzg2P\\u002f2L\\u002fcH7wiM\\u002fSitYSSwybT\\u002f5KGZPd9tuP8o8cpV3VXg\\u002fPtWKoUbKjz+UjxVH1ZWgP45d7XN4Was\\u002fHolVPnUYsz+Ai+fcPDy2PzMGhVl86LQ\\u002fE54d6qGgsz9386CV+Kq1P4LKVPvUZrM\\u002fv7fL2uHmtT8j6jgJEoO3PzPXJeYa5LM\\u002fwaVY+f49rz8+QPtf8JOlP57Qb75mGZ0\\u002fhQxz96LShD+ZmX9nFadyP+dev2QSnmY\\u002f\"},\"yaxis\":\"y4\",\"type\":\"bar\"},{\"alignmentgroup\":\"True\",\"customdata\":{\"dtype\":\"f8\",\"bdata\":\"AAAAAACkk0AAAAAAAKSTQAAAAAAAIItAAAAAAAAgi0AAAAAAAIBzQAAAAAAAgHNAAAAAAADdtUAAAAAAAN21QAAAAAAAvblAAAAAAAC9uUAAAAAAAAzJQAAAAAAADMlAAAAAAAAY4EAAAAAAABjgQAAAAADArehAAAAAAMCt6EAAAAAA8InxQAAAAADwifFAAAAAABDk9UAAAAAAEOT1QAAAAABQGPxAAAAAAFAY\\u002fEAAAAAAICr+QAAAAAAgKv5AAAAAAKBR\\u002fUAAAAAAoFH9QAAAAAAwSv5AAAAAADBK\\u002fkAAAAAAwPz6QAAAAADA\\u002fPpAAAAAAMDz+EAAAAAAwPP4QAAAAADgU\\u002fxAAAAAAOBT\\u002fEAAAAAAcOH7QAAAAABw4ftAAAAAAAD69kAAAAAAAPr2QAAAAADgau9AAAAAAOBq70AAAAAAoCvnQAAAAACgK+dAAAAAAABk2kAAAAAAAGTaQAAAAACAc8VAAAAAAIBzxUAAAAAAAAa2QAAAAAAABrZA\",\"shape\":\"24, 2\"},\"hovertemplate\":\"source=model\\u003cbr\\u003edpurp_label=Meal\\u003cbr\\u003edept_hr=%{x}\\u003cbr\\u003epercentage=%{y}\\u003cbr\\u003etrexpfac=%{customdata[0]}\\u003cbr\\u003esample_count=%{customdata[1]}\\u003cextra\\u003e\\u003c\\u002fextra\\u003e\",\"legendgroup\":\"model\",\"marker\":{\"color\":\"#91268F\",\"pattern\":{\"shape\":\"\"}},\"name\":\"model\",\"offsetgroup\":\"model\",\"orientation\":\"v\",\"showlegend\":false,\"textposition\":\"auto\",\"x\":{\"dtype\":\"i1\",\"bdata\":\"AAECAwQFBgcICQoLDA0ODxAREhMUFRYX\"},\"xaxis\":\"x3\",\"y\":{\"dtype\":\"f8\",\"bdata\":\"MUi9hkVzTD8ynsDoVqVDP\\u002fjzQsIfPyw\\u002fyxegBH6rbz9\\u002fIpAjOaRyP8lo4\\u002fUGJII\\u002fLIpauf5Plz9RnHi+w9+hP\\u002feYs33dZ6k\\u002fw2yd+7i1rz9v1iNiL1m0P7uper3p2LU\\u002f7Sgguxs8tT88I\\u002fmOIvC1P0y65BXPi7M\\u002f+t9Er3YSsj+qszsSU4S0PwbwK9JwMbQ\\u002f8EO01imksD\\u002fQSaYZOcGmP+A+A\\u002fsayKA\\u002fZonWLi0dkz+JRGTIqxJ\\u002fP9O+gOvh5m8\\u002f\"},\"yaxis\":\"y3\",\"type\":\"bar\"},{\"alignmentgroup\":\"True\",\"customdata\":{\"dtype\":\"f8\",\"bdata\":\"AAAAAAD6pEAAAAAAAPqkQAAAAAAAwJ1AAAAAAADAnUAAAAAAAFCIQAAAAAAAUIhAAAAAAEAQ3kAAAAAAQBDeQAAAAADArtxAAAAAAMCu3EAAAAAA4OnpQAAAAADg6elAAAAAAOCLAUEAAAAA4IsBQQAAAAB4mwVBAAAAAHibBUEAAAAAKIADQQAAAAAogANBAAAAANAfAUEAAAAA0B8BQQAAAAAgPABBAAAAACA8AEEAAAAAIEL7QAAAAAAgQvtAAAAAAIB0+UAAAAAAgHT5QAAAAACgc\\u002fxAAAAAAKBz\\u002fEAAAAAAcFf8QAAAAABwV\\u002fxAAAAAAHjvAkEAAAAAeO8CQQAAAADA\\u002fQVBAAAAAMD9BUEAAAAAKIYDQQAAAAAohgNBAAAAAKCx+kAAAAAAoLH6QAAAAACgM\\u002fBAAAAAAKAz8EAAAAAAAOPnQAAAAAAA4+dAAAAAAMAv2UAAAAAAwC\\u002fZQAAAAACA\\u002fctAAAAAAID9y0AAAAAAAEvGQAAAAAAAS8ZA\",\"shape\":\"24, 2\"},\"hovertemplate\":\"source=model\\u003cbr\\u003edpurp_label=Escort\\u003cbr\\u003edept_hr=%{x}\\u003cbr\\u003epercentage=%{y}\\u003cbr\\u003etrexpfac=%{customdata[0]}\\u003cbr\\u003esample_count=%{customdata[1]}\\u003cextra\\u003e\\u003c\\u002fextra\\u003e\",\"legendgroup\":\"model\",\"marker\":{\"color\":\"#91268F\",\"pattern\":{\"shape\":\"\"}},\"name\":\"model\",\"offsetgroup\":\"model\",\"orientation\":\"v\",\"showlegend\":false,\"textposition\":\"auto\",\"x\":{\"dtype\":\"i1\",\"bdata\":\"AAECAwQFBgcICQoLDA0ODxAREhMUFRYX\"},\"xaxis\":\"x2\",\"y\":{\"dtype\":\"f8\",\"bdata\":\"UEtEaYQGVT9lx5mnwNFNPxbzlgOCXjg\\u002fdhS2ijAijj9xLYWZ3b+MPwPatZhW+Zk\\u002f75mSaViWsT+zv3nDXKi1P8q1SfHKi7M\\u002fl2fI7QcqsT8A9+UP0EWwP1CE2wRkUqs\\u002f1jtUjrCDqT+QFH9RmoSsP5wUiH9ZaKw\\u002fPaubmsT6sj\\u002fdJBFp3wq2P6Jg24XOkbM\\u002fGgfSyo3Bqj+j72z9Sj2gPwz+lfhA8Zc\\u002fjsv5h8c+iT8HQYvUMw58P4Kc5IFNWHY\\u002f\"},\"yaxis\":\"y2\",\"type\":\"bar\"},{\"alignmentgroup\":\"True\",\"customdata\":{\"dtype\":\"f8\",\"bdata\":\"AAAAAABAhUAAAAAAAECFQAAAAAAAcHpAAAAAAABwekAAAAAAAGBlQAAAAAAAYGVAAAAAAACQuEAAAAAAAJC4QAAAAAAAbLhAAAAAAABsuEAAAAAAAD7GQAAAAAAAPsZAAAAAAEAH3kAAAAAAQAfeQAAAAAAAEetAAAAAAAAR60AAAAAAcGX1QAAAAABwZfVAAAAAAMB4+kAAAAAAwHj6QAAAAAAwXvtAAAAAADBe+0AAAAAAgIj3QAAAAACAiPdAAAAAAFCp9UAAAAAAUKn1QAAAAAAwd\\u002fdAAAAAADB390AAAAAAcAb0QAAAAABwBvRAAAAAAICu9EAAAAAAgK70QAAAAADQmPZAAAAAANCY9kAAAAAAcCnyQAAAAABwKfJAAAAAACCH7EAAAAAAIIfsQAAAAADgkeBAAAAAAOCR4EAAAAAAwITXQAAAAADAhNdAAAAAAAC1yUAAAAAAALXJQAAAAAAAVrNAAAAAAABWs0AAAAAAAHKnQAAAAAAAcqdA\",\"shape\":\"24, 2\"},\"hovertemplate\":\"source=model\\u003cbr\\u003edpurp_label=Personal Business\\u003cbr\\u003edept_hr=%{x}\\u003cbr\\u003epercentage=%{y}\\u003cbr\\u003etrexpfac=%{customdata[0]}\\u003cbr\\u003esample_count=%{customdata[1]}\\u003cextra\\u003e\\u003c\\u002fextra\\u003e\",\"legendgroup\":\"model\",\"marker\":{\"color\":\"#91268F\",\"pattern\":{\"shape\":\"\"}},\"name\":\"model\",\"offsetgroup\":\"model\",\"orientation\":\"v\",\"showlegend\":false,\"textposition\":\"auto\",\"x\":{\"dtype\":\"i1\",\"bdata\":\"AAECAwQFBgcICQoLDA0ODxAREhMUFRYX\"},\"xaxis\":\"x\",\"y\":{\"dtype\":\"f8\",\"bdata\":\"B6XwAgcDQz84tfyXJ6c3Pxe+oC6oHyM\\u002fPj2rCLb5dT8MIYW3gNl1P\\u002fprtk1G5oM\\u002fPmX9eJXdmj9Ts8p7MjeoP1kqjZGFJLM\\u002fEtzuqfuutz\\u002fJ96s+QXy4P9ou7eT2DbU\\u002fhK83bT9hsz9Kacqyef60P2uXWbp96rE\\u002fD\\u002fNLMNqAsj8cqzGwhTe0P8yhIEe7P7A\\u002fXoiQy+qFqT8glWgcMaadP+qLzgGcCpU\\u002fv6KvwNn\\u002fhj84JfgVo0xxPzpdNZLV+WQ\\u002f\"},\"yaxis\":\"y\",\"type\":\"bar\"},{\"alignmentgroup\":\"True\",\"customdata\":{\"dtype\":\"f8\",\"bdata\":\"lP8gOXEliUAAAAAAAAAIQMwA3Xn\\u002fkoFAAAAAAAAAAEAAAAAAAAAAAAAAAAAAAAAAQFWDdI9+yEAAAAAAAAA2QA9Xv52OFOpAAAAAAACAT0B19dWtPvr5QAAAAAAAIGFA\\u002fzhsI2CyCUEAAAAAAHB3QLlzjWWyLBZBAAAAAADYg0BBmlD9j3sRQQAAAAAAaINAd6S62TdgBkEAAAAAAFB5QFIRldlA7PlAAAAAAADAcECcDrSIsRL0QAAAAAAAYG1Ats5sWMxV9UAAAAAAACB0QADyDZy5mvJAAAAAAADAbUBUNHAsaqL3QAAAAAAAgGhAUAoPZyGq8UAAAAAAAEBiQIYJoQJAzeFAAAAAAACAW0B\\u002fad2RpYXZQAAAAAAAAFxANYbAxTbLwkAAAAAAAIBNQP6BnLUm8MlAAAAAAACARkDw1Tbps6StQAAAAAAAAEFAnBloYfAwhEAAAAAAAAA2QM01GtvAFcVAAAAAAAAAMEBAeNvMcOWUQAAAAAAAACRA\",\"shape\":\"24, 2\"},\"hovertemplate\":\"source=survey\\u003cbr\\u003edpurp_label=Work\\u003cbr\\u003edept_hr=%{x}\\u003cbr\\u003epercentage=%{y}\\u003cbr\\u003etrexpfac=%{customdata[0]}\\u003cbr\\u003esample_count=%{customdata[1]}\\u003cextra\\u003e\\u003c\\u002fextra\\u003e\",\"legendgroup\":\"survey\",\"marker\":{\"color\":\"#8CC63E\",\"pattern\":{\"shape\":\"\"}},\"name\":\"survey\",\"offsetgroup\":\"survey\",\"orientation\":\"v\",\"showlegend\":true,\"textposition\":\"auto\",\"x\":{\"dtype\":\"i1\",\"bdata\":\"AAECAwQFBgcICQoLDA0ODxAREhMUFRYX\"},\"xaxis\":\"x6\",\"y\":{\"dtype\":\"f8\",\"bdata\":\"kql2kh6nPD9ZawTHXQY0PwAAAAAAAAAAhBr9affoez+H6WDxk7edP3JuYLSYma0\\u002fCA15jrRHvT+cy3V5SkTJP892Xq+p68M\\u002f\\u002fyjnJf9+uT\\u002fINSJnp4mtP2jm1tZD36Y\\u002fi7ed62xPqD\\u002fTh9eA3jKlP2lKPlIf7qo\\u002fLOOOfrkgpD8JMvzOvUiUP8jByT+9FI0\\u002fIUaWoh5qdT+5E\\u002f1oGI59P2YjqJ1142A\\u002f98+FZboBNz\\u002f0EjMkcwZ4P4ThJ2hmz0c\\u002f\"},\"yaxis\":\"y6\",\"type\":\"bar\"},{\"alignmentgroup\":\"True\",\"customdata\":{\"dtype\":\"f8\",\"bdata\":\"AAAAAAAAAAAAAAAAAAAAAAAAAAAAAAAAAAAAAAAAAAAAAAAAAAAAAAAAAAAAAAAAAAAAAAAAAAAAAAAAAAAAABXug+gRrFVAAAAAAAAA8D+cwa9xRmZ8QAAAAAAAABBA1J9\\u002fZbQi2UAAAAAAAAA6QJLqMwMcqwhBAAAAAACgbUAlf+w+g8oGQQAAAAAAoHBA35DU+ufC60AAAAAAAIBPQCvMPYvFpsJAAAAAAAAANkB6jW6R9hG5QAAAAAAAADBA75AT2H8SuUAAAAAAAAAqQFEkZynrx89AAAAAAAAAM0DMGS+v+9OzQAAAAAAAACpA0ZmZuTbQrUAAAAAAAAAuQKjajxUWNbFAAAAAAAAAIkAIX+GJ6aCPQAAAAAAAACBABGsstwJbxkAAAAAAAAAIQIuxHsNOcV1AAAAAAAAA8D8AAAAAAAAAAAAAAAAAAAAAAAAAAAAAAAAAAAAAAAAAAAAAAAAAAAAAAAAAAAAAAAAAAAAAAAAAAAAAAAAAAAAA\",\"shape\":\"24, 2\"},\"hovertemplate\":\"source=survey\\u003cbr\\u003edpurp_label=School\\u003cbr\\u003edept_hr=%{x}\\u003cbr\\u003epercentage=%{y}\\u003cbr\\u003etrexpfac=%{customdata[0]}\\u003cbr\\u003esample_count=%{customdata[1]}\\u003cextra\\u003e\\u003c\\u002fextra\\u003e\",\"legendgroup\":\"survey\",\"marker\":{\"color\":\"#8CC63E\",\"pattern\":{\"shape\":\"\"}},\"name\":\"survey\",\"offsetgroup\":\"survey\",\"orientation\":\"v\",\"showlegend\":false,\"textposition\":\"auto\",\"x\":{\"dtype\":\"i1\",\"bdata\":\"AAECAwQFBgcICQoLDA0ODxAREhMUFRYX\"},\"xaxis\":\"x5\",\"y\":{\"dtype\":\"f8\",\"bdata\":\"AAAAAAAAAAAAAAAAAAAAAAAAAAAAAAAAAAAAAAAAAAC2xbN5Py4lP9BlRmdlwUs\\u002f\\u002f1yMbcaQqD\\u002fJa89g5BvYP\\u002fU0788xRtY\\u002fIY4fabshuz9PB0CmfDqSPz\\u002fHt8tpgIg\\u002fzR5h9e+AiD\\u002fvaFt0aA+fP6ebzgveYIM\\u002f0OmQYCAjfT\\u002fcZe94L9GAP3hVX0pJ6V4\\u002fe\\u002fstoTjZlT8BxStpX8YsPwAAAAAAAAAAAAAAAAAAAAAAAAAAAAAAAAAAAAAAAAAA\"},\"yaxis\":\"y5\",\"type\":\"bar\"},{\"alignmentgroup\":\"True\",\"customdata\":{\"dtype\":\"f8\",\"bdata\":\"rDIaz2BsdkAAAAAAAAAIQNUHSA2v8GFAAAAAAAAA8D\\u002fR7iqYLNeBQAAAAAAAAPA\\u002fAAAAAAAAAAAAAAAAAAAAAHqeDuMntqJAAAAAAAAAAEDCbgX\\u002fgSyRQAAAAAAAACBAEpflhhjpwkAAAAAAAAAwQCG5WJ3EJN5AAAAAAACAS0BtwgG2foPpQAAAAAAAAFhApBI\\u002fc4g\\u002f8kAAAAAAAEBoQD2lv3+WMwFBAAAAAAAwckBRgZxy2jQEQQAAAAAA8HRAcnGF6DtbA0EAAAAAAEB0QKqO8MDTIAJBAAAAAAAAc0Cr6cAFmrMKQQAAAAAAkHVAhp1uTWItDUEAAAAAAIByQJ9DKqUIawhBAAAAAADAdEDNlHN35Ej\\u002fQAAAAAAAEHNAfy7PuRN3AkEAAAAAAMBuQK4+aq+G\\u002fvBAAAAAAADAakAeuDEOIHjgQAAAAAAAQFVA6mOeVCF80EAAAAAAAAA9QDALnmGS0M9AAAAAAAAAM0B86qbaPKeyQAAAAAAAABxA\",\"shape\":\"24, 2\"},\"hovertemplate\":\"source=survey\\u003cbr\\u003edpurp_label=Shop\\u003cbr\\u003edept_hr=%{x}\\u003cbr\\u003epercentage=%{y}\\u003cbr\\u003etrexpfac=%{customdata[0]}\\u003cbr\\u003esample_count=%{customdata[1]}\\u003cextra\\u003e\\u003c\\u002fextra\\u003e\",\"legendgroup\":\"survey\",\"marker\":{\"color\":\"#8CC63E\",\"pattern\":{\"shape\":\"\"}},\"name\":\"survey\",\"offsetgroup\":\"survey\",\"orientation\":\"v\",\"showlegend\":false,\"textposition\":\"auto\",\"x\":{\"dtype\":\"i1\",\"bdata\":\"AAECAwQFBgcICQoLDA0ODxAREhMUFRYX\"},\"xaxis\":\"x4\",\"y\":{\"dtype\":\"f8\",\"bdata\":\"avTdDP05KT\\u002fUrLfY0S4UP+demgIfEjQ\\u002fAAAAAAAAAADimVpX+gxVP+0MeJseUkM\\u002fHv1WNElGdT+Zjr1xufSQP7PvEuoAtJw\\u002fhOEupIaHpD8dKmKxFVqzPwOgUEyEu7Y\\u002feLFSVLHGtT+EfHxF+2S0P1K3rn4gCr4\\u002fk43By5FpwD8g2UBNe3i7P5cQj8ULmbE\\u002fteuLewPGtD9VktDAYx6jPyxfs+ovh5I\\u002ffpzPXLGLgj\\u002ftihvKXeWBP9oGKeMx\\u002fGQ\\u002f\"},\"yaxis\":\"y4\",\"type\":\"bar\"},{\"alignmentgroup\":\"True\",\"customdata\":{\"dtype\":\"f8\",\"bdata\":\"S+8gLvrEg0AAAAAAAADwPwAAAAAAAAAAAAAAAAAAAAAAAAAAAAAAAAAAAAAAAAAAAAAAAAAAAAAAAAAAAAAAAMRVEpr8TzdAAAAAAAAA8D\\u002fcEQ5Y+12vQAAAAAAAABRAEuKZsQ7v0kAAAAAAAAA8QAdbFE1qytBAAAAAAACASEAq9BqfMavjQAAAAAAAgFFAiEU2Z9WP30AAAAAAAIBWQLo4iNC\\u002f99VAAAAAAACAVUBRHmniwlTzQAAAAAAAAGlAKn6JhjkT\\u002fEAAAAAAACBuQJXcvXciqeFAAAAAAAAgY0AjuuPb+hDzQAAAAAAAAF5AUFZJ9Hv19EAAAAAAAEBeQA0LVFxsPfFAAAAAAAAgZEBY4KLS3r30QAAAAAAA4GlA1W7Do\\u002fBH9EAAAAAAAEBpQMVH2lM6cu1AAAAAAADAXUB7wc0mKb7wQAAAAAAAwFRA+wSoK\\u002fyeykAAAAAAAAA9QJn4JwCLWLNAAAAAAAAALkBT0WCVFluXQAAAAAAAABBA\",\"shape\":\"24, 2\"},\"hovertemplate\":\"source=survey\\u003cbr\\u003edpurp_label=Meal\\u003cbr\\u003edept_hr=%{x}\\u003cbr\\u003epercentage=%{y}\\u003cbr\\u003etrexpfac=%{customdata[0]}\\u003cbr\\u003esample_count=%{customdata[1]}\\u003cextra\\u003e\\u003c\\u002fextra\\u003e\",\"legendgroup\":\"survey\",\"marker\":{\"color\":\"#8CC63E\",\"pattern\":{\"shape\":\"\"}},\"name\":\"survey\",\"offsetgroup\":\"survey\",\"orientation\":\"v\",\"showlegend\":false,\"textposition\":\"auto\",\"x\":{\"dtype\":\"i1\",\"bdata\":\"AAECAwQFBgcICQoLDA0ODxAREhMUFRYX\"},\"xaxis\":\"x3\",\"y\":{\"dtype\":\"f8\",\"bdata\":\"qXMcqVKTRj8AAAAAAAAAAAAAAAAAAAAAAAAAAAAAAABs\\u002f71SEp\\u002f6Pud9RQbf6HE\\u002fklPFJQqflT+7KJ40hiyTPzBiITvhdaY\\u002fDaf2w1UFoj9KFNJE+RWZPx8Jxt0tE7Y\\u002fInc11q4HwD9Zedcj2yqkPzO3Ru3GxbU\\u002fxRUWDA3vtz9B+kE326+zPwx3vx+Lr7c\\u002feymMzd8otz8suXBKGNCwP4z4X8aHHrM\\u002f\\u002f\\u002fftjkpmjj++5SRlfxd2P1Trv7C\\u002fq1o\\u002f\"},\"yaxis\":\"y3\",\"type\":\"bar\"},{\"alignmentgroup\":\"True\",\"customdata\":{\"dtype\":\"f8\",\"bdata\":\"utkyW31UIkAAAAAAAADwPwAAAAAAAAAAAAAAAAAAAAAAAAAAAAAAAAAAAAAAAAAAAAAAAAAAAAAAAAAAAAAAAI2cHv82rK9AAAAAAAAA8D+9KI5qsGqoQAAAAAAAACRAiph2LG9m4EAAAAAAAIBCQJuBVSdVpwxBAAAAAABgbEACIVcf4e4GQQAAAAAAQG1ADmiCQa5P9EAAAAAAAMBXQC6\\u002fEQbnMdNAAAAAAACAU0Ck3R\\u002fFpM3bQAAAAAAAgE9AzNShFvIn2EAAAAAAAABTQF3RNON0zPZAAAAAAADAVUBNU7H+kMUCQQAAAAAA4GVAEAfZ7hQPCUEAAAAAAIBsQApmk3oMU\\u002fZAAAAAAAAgY0BitBL33Er5QAAAAAAAgGFAvtGsKr3T2EAAAAAAAABRQLvlj10aU+NAAAAAAAAATUBOaXUsNAvVQAAAAAAAAD1A0DOWUJdJwEAAAAAAAAA3QIuM5b5ffsZAAAAAAAAAKkDFzPnRrPyCQAAAAAAAAAhA\",\"shape\":\"24, 2\"},\"hovertemplate\":\"source=survey\\u003cbr\\u003edpurp_label=Escort\\u003cbr\\u003edept_hr=%{x}\\u003cbr\\u003epercentage=%{y}\\u003cbr\\u003etrexpfac=%{customdata[0]}\\u003cbr\\u003esample_count=%{customdata[1]}\\u003cextra\\u003e\\u003c\\u002fextra\\u003e\",\"legendgroup\":\"survey\",\"marker\":{\"color\":\"#8CC63E\",\"pattern\":{\"shape\":\"\"}},\"name\":\"survey\",\"offsetgroup\":\"survey\",\"orientation\":\"v\",\"showlegend\":false,\"textposition\":\"auto\",\"x\":{\"dtype\":\"i1\",\"bdata\":\"AAECAwQFBgcICQoLDA0ODxAREhMUFRYX\"},\"xaxis\":\"x2\",\"y\":{\"dtype\":\"f8\",\"bdata\":\"YPp1jpX62z4AAAAAAAAAAAAAAAAAAAAAAAAAAAAAAACF9ERxKSxoP2VH6i2BomI\\u002fDnE6H3YImT8etxUDTd7FP32neJaigME\\u002fHnPE0cEArz+d+RgRjEyNP6IhxEwpOJU\\u002fT2zI85Bvkj8RKsQeXWaxP8lT1ggvp7w\\u002fzsVc8Pcfwz\\u002fSWIiotAmxP2R\\u002fi+yXTbM\\u002fcGx9oq3ykj\\u002f0g29nOX+dP1V8v9x+D5A\\u002fOak+c2\\u002fceD+v\\u002fbB5xSqBPzxsbx9N+zw\\u002f\"},\"yaxis\":\"y2\",\"type\":\"bar\"},{\"alignmentgroup\":\"True\",\"customdata\":{\"dtype\":\"f8\",\"bdata\":\"AAAAAAAAAAAAAAAAAAAAAAAAAAAAAAAAAAAAAAAAAAAAAAAAAAAAAAAAAAAAAAAAAAAAAAAAAAAAAAAAAAAAAAAAAAAAAAAAAAAAAAAAAACa8xZta\\u002fumQAAAAAAAABRArqFiEteDukAAAAAAAAA4QL6tSVOGzOVAAAAAAAAAU0CP6PLAXQXfQAAAAAAAgFtAia\\u002fWJYIr8kAAAAAAAGBjQNwIE0cMQvBAAAAAAADgZkASMNLO8kHrQAAAAAAAgGJAywM2oLGE8UAAAAAAAGBiQDSeGR6Df\\u002fJAAAAAAABAZUB5kTmdNOT\\u002fQAAAAAAAIGRARYi2Xk4B70AAAAAAAABhQN2cjCCmu+NAAAAAAACAXkA1Y9d6D8\\u002fwQAAAAAAAwFRAv55eqKRLwkAAAAAAAIBJQD51YMZiJMtAAAAAAAAANkBw\\u002fzXjDyqVQAAAAAAAACBA81x7DMIltUAAAAAAAAAUQMJPxfSWrWhAAAAAAAAA8D8AAAAAAAAAAAAAAAAAAAAA\",\"shape\":\"24, 2\"},\"hovertemplate\":\"source=survey\\u003cbr\\u003edpurp_label=Personal Business\\u003cbr\\u003edept_hr=%{x}\\u003cbr\\u003epercentage=%{y}\\u003cbr\\u003etrexpfac=%{customdata[0]}\\u003cbr\\u003esample_count=%{customdata[1]}\\u003cextra\\u003e\\u003c\\u002fextra\\u003e\",\"legendgroup\":\"survey\",\"marker\":{\"color\":\"#8CC63E\",\"pattern\":{\"shape\":\"\"}},\"name\":\"survey\",\"offsetgroup\":\"survey\",\"orientation\":\"v\",\"showlegend\":false,\"textposition\":\"auto\",\"x\":{\"dtype\":\"i1\",\"bdata\":\"AAECAwQFBgcICQoLDA0ODxAREhMUFRYX\"},\"xaxis\":\"x\",\"y\":{\"dtype\":\"f8\",\"bdata\":\"AAAAAAAAAAAAAAAAAAAAAAAAAAAAAAAAAAAAAAAAAAAAAAAAAAAAAIUfilOciW8\\u002fI3XWi1sxgj\\u002fQRuRj9emtP39xC0\\u002fUSKU\\u002fhWgtHRrvuD9W2Em\\u002fbk+2P8PblA\\u002fMs7I\\u002f5wHMMTAKuD+drm+hYGK5P52NRwO64cU\\u002foB9hJwtGtT\\u002fGlndrMxSrP1xl8mrwELc\\u002fnhC3EDMbiT8Nkjljg5+SP3\\u002fRGEoEC10\\u002fCzZRRhwFfT+HNg4YtO4wPwAAAAAAAAAA\"},\"yaxis\":\"y\",\"type\":\"bar\"}],                        {\"template\":{\"data\":{\"barpolar\":[{\"marker\":{\"line\":{\"color\":\"white\",\"width\":0.5},\"pattern\":{\"fillmode\":\"overlay\",\"size\":10,\"solidity\":0.2}},\"type\":\"barpolar\"}],\"bar\":[{\"error_x\":{\"color\":\"rgb(36,36,36)\"},\"error_y\":{\"color\":\"rgb(36,36,36)\"},\"marker\":{\"line\":{\"color\":\"white\",\"width\":0.5},\"pattern\":{\"fillmode\":\"overlay\",\"size\":10,\"solidity\":0.2}},\"type\":\"bar\"}],\"carpet\":[{\"aaxis\":{\"endlinecolor\":\"rgb(36,36,36)\",\"gridcolor\":\"white\",\"linecolor\":\"white\",\"minorgridcolor\":\"white\",\"startlinecolor\":\"rgb(36,36,36)\"},\"baxis\":{\"endlinecolor\":\"rgb(36,36,36)\",\"gridcolor\":\"white\",\"linecolor\":\"white\",\"minorgridcolor\":\"white\",\"startlinecolor\":\"rgb(36,36,36)\"},\"type\":\"carpet\"}],\"choropleth\":[{\"colorbar\":{\"outlinewidth\":1,\"tickcolor\":\"rgb(36,36,36)\",\"ticks\":\"outside\"},\"type\":\"choropleth\"}],\"contourcarpet\":[{\"colorbar\":{\"outlinewidth\":1,\"tickcolor\":\"rgb(36,36,36)\",\"ticks\":\"outside\"},\"type\":\"contourcarpet\"}],\"contour\":[{\"colorbar\":{\"outlinewidth\":1,\"tickcolor\":\"rgb(36,36,36)\",\"ticks\":\"outside\"},\"colorscale\":[[0.0,\"#440154\"],[0.1111111111111111,\"#482878\"],[0.2222222222222222,\"#3e4989\"],[0.3333333333333333,\"#31688e\"],[0.4444444444444444,\"#26828e\"],[0.5555555555555556,\"#1f9e89\"],[0.6666666666666666,\"#35b779\"],[0.7777777777777778,\"#6ece58\"],[0.8888888888888888,\"#b5de2b\"],[1.0,\"#fde725\"]],\"type\":\"contour\"}],\"heatmap\":[{\"colorbar\":{\"outlinewidth\":1,\"tickcolor\":\"rgb(36,36,36)\",\"ticks\":\"outside\"},\"colorscale\":[[0.0,\"#440154\"],[0.1111111111111111,\"#482878\"],[0.2222222222222222,\"#3e4989\"],[0.3333333333333333,\"#31688e\"],[0.4444444444444444,\"#26828e\"],[0.5555555555555556,\"#1f9e89\"],[0.6666666666666666,\"#35b779\"],[0.7777777777777778,\"#6ece58\"],[0.8888888888888888,\"#b5de2b\"],[1.0,\"#fde725\"]],\"type\":\"heatmap\"}],\"histogram2dcontour\":[{\"colorbar\":{\"outlinewidth\":1,\"tickcolor\":\"rgb(36,36,36)\",\"ticks\":\"outside\"},\"colorscale\":[[0.0,\"#440154\"],[0.1111111111111111,\"#482878\"],[0.2222222222222222,\"#3e4989\"],[0.3333333333333333,\"#31688e\"],[0.4444444444444444,\"#26828e\"],[0.5555555555555556,\"#1f9e89\"],[0.6666666666666666,\"#35b779\"],[0.7777777777777778,\"#6ece58\"],[0.8888888888888888,\"#b5de2b\"],[1.0,\"#fde725\"]],\"type\":\"histogram2dcontour\"}],\"histogram2d\":[{\"colorbar\":{\"outlinewidth\":1,\"tickcolor\":\"rgb(36,36,36)\",\"ticks\":\"outside\"},\"colorscale\":[[0.0,\"#440154\"],[0.1111111111111111,\"#482878\"],[0.2222222222222222,\"#3e4989\"],[0.3333333333333333,\"#31688e\"],[0.4444444444444444,\"#26828e\"],[0.5555555555555556,\"#1f9e89\"],[0.6666666666666666,\"#35b779\"],[0.7777777777777778,\"#6ece58\"],[0.8888888888888888,\"#b5de2b\"],[1.0,\"#fde725\"]],\"type\":\"histogram2d\"}],\"histogram\":[{\"marker\":{\"line\":{\"color\":\"white\",\"width\":0.6}},\"type\":\"histogram\"}],\"mesh3d\":[{\"colorbar\":{\"outlinewidth\":1,\"tickcolor\":\"rgb(36,36,36)\",\"ticks\":\"outside\"},\"type\":\"mesh3d\"}],\"parcoords\":[{\"line\":{\"colorbar\":{\"outlinewidth\":1,\"tickcolor\":\"rgb(36,36,36)\",\"ticks\":\"outside\"}},\"type\":\"parcoords\"}],\"pie\":[{\"automargin\":true,\"type\":\"pie\"}],\"scatter3d\":[{\"line\":{\"colorbar\":{\"outlinewidth\":1,\"tickcolor\":\"rgb(36,36,36)\",\"ticks\":\"outside\"}},\"marker\":{\"colorbar\":{\"outlinewidth\":1,\"tickcolor\":\"rgb(36,36,36)\",\"ticks\":\"outside\"}},\"type\":\"scatter3d\"}],\"scattercarpet\":[{\"marker\":{\"colorbar\":{\"outlinewidth\":1,\"tickcolor\":\"rgb(36,36,36)\",\"ticks\":\"outside\"}},\"type\":\"scattercarpet\"}],\"scattergeo\":[{\"marker\":{\"colorbar\":{\"outlinewidth\":1,\"tickcolor\":\"rgb(36,36,36)\",\"ticks\":\"outside\"}},\"type\":\"scattergeo\"}],\"scattergl\":[{\"marker\":{\"colorbar\":{\"outlinewidth\":1,\"tickcolor\":\"rgb(36,36,36)\",\"ticks\":\"outside\"}},\"type\":\"scattergl\"}],\"scattermapbox\":[{\"marker\":{\"colorbar\":{\"outlinewidth\":1,\"tickcolor\":\"rgb(36,36,36)\",\"ticks\":\"outside\"}},\"type\":\"scattermapbox\"}],\"scattermap\":[{\"marker\":{\"colorbar\":{\"outlinewidth\":1,\"tickcolor\":\"rgb(36,36,36)\",\"ticks\":\"outside\"}},\"type\":\"scattermap\"}],\"scatterpolargl\":[{\"marker\":{\"colorbar\":{\"outlinewidth\":1,\"tickcolor\":\"rgb(36,36,36)\",\"ticks\":\"outside\"}},\"type\":\"scatterpolargl\"}],\"scatterpolar\":[{\"marker\":{\"colorbar\":{\"outlinewidth\":1,\"tickcolor\":\"rgb(36,36,36)\",\"ticks\":\"outside\"}},\"type\":\"scatterpolar\"}],\"scatter\":[{\"fillpattern\":{\"fillmode\":\"overlay\",\"size\":10,\"solidity\":0.2},\"type\":\"scatter\"}],\"scatterternary\":[{\"marker\":{\"colorbar\":{\"outlinewidth\":1,\"tickcolor\":\"rgb(36,36,36)\",\"ticks\":\"outside\"}},\"type\":\"scatterternary\"}],\"surface\":[{\"colorbar\":{\"outlinewidth\":1,\"tickcolor\":\"rgb(36,36,36)\",\"ticks\":\"outside\"},\"colorscale\":[[0.0,\"#440154\"],[0.1111111111111111,\"#482878\"],[0.2222222222222222,\"#3e4989\"],[0.3333333333333333,\"#31688e\"],[0.4444444444444444,\"#26828e\"],[0.5555555555555556,\"#1f9e89\"],[0.6666666666666666,\"#35b779\"],[0.7777777777777778,\"#6ece58\"],[0.8888888888888888,\"#b5de2b\"],[1.0,\"#fde725\"]],\"type\":\"surface\"}],\"table\":[{\"cells\":{\"fill\":{\"color\":\"rgb(237,237,237)\"},\"line\":{\"color\":\"white\"}},\"header\":{\"fill\":{\"color\":\"rgb(217,217,217)\"},\"line\":{\"color\":\"white\"}},\"type\":\"table\"}]},\"layout\":{\"annotationdefaults\":{\"arrowhead\":0,\"arrowwidth\":1},\"autotypenumbers\":\"strict\",\"coloraxis\":{\"colorbar\":{\"outlinewidth\":1,\"tickcolor\":\"rgb(36,36,36)\",\"ticks\":\"outside\"}},\"colorscale\":{\"diverging\":[[0.0,\"rgb(103,0,31)\"],[0.1,\"rgb(178,24,43)\"],[0.2,\"rgb(214,96,77)\"],[0.3,\"rgb(244,165,130)\"],[0.4,\"rgb(253,219,199)\"],[0.5,\"rgb(247,247,247)\"],[0.6,\"rgb(209,229,240)\"],[0.7,\"rgb(146,197,222)\"],[0.8,\"rgb(67,147,195)\"],[0.9,\"rgb(33,102,172)\"],[1.0,\"rgb(5,48,97)\"]],\"sequential\":[[0.0,\"#440154\"],[0.1111111111111111,\"#482878\"],[0.2222222222222222,\"#3e4989\"],[0.3333333333333333,\"#31688e\"],[0.4444444444444444,\"#26828e\"],[0.5555555555555556,\"#1f9e89\"],[0.6666666666666666,\"#35b779\"],[0.7777777777777778,\"#6ece58\"],[0.8888888888888888,\"#b5de2b\"],[1.0,\"#fde725\"]],\"sequentialminus\":[[0.0,\"#440154\"],[0.1111111111111111,\"#482878\"],[0.2222222222222222,\"#3e4989\"],[0.3333333333333333,\"#31688e\"],[0.4444444444444444,\"#26828e\"],[0.5555555555555556,\"#1f9e89\"],[0.6666666666666666,\"#35b779\"],[0.7777777777777778,\"#6ece58\"],[0.8888888888888888,\"#b5de2b\"],[1.0,\"#fde725\"]]},\"colorway\":[\"#91268F\",\"#8CC63E\",\"#00A7A0\",\"#F05A28\",\"#4C4C4C\",\"#630460\",\"#9f3913\",\"#588527\",\"#00716c\",\"#3e4040\"],\"font\":{\"color\":\"rgb(36,36,36)\",\"family\":\"Poppins\",\"size\":11},\"geo\":{\"bgcolor\":\"white\",\"lakecolor\":\"white\",\"landcolor\":\"white\",\"showlakes\":true,\"showland\":true,\"subunitcolor\":\"white\"},\"hoverlabel\":{\"align\":\"left\"},\"hovermode\":\"closest\",\"mapbox\":{\"style\":\"light\"},\"paper_bgcolor\":\"white\",\"plot_bgcolor\":\"white\",\"polar\":{\"angularaxis\":{\"gridcolor\":\"rgb(232,232,232)\",\"linecolor\":\"rgb(36,36,36)\",\"showgrid\":false,\"showline\":true,\"ticks\":\"outside\"},\"bgcolor\":\"white\",\"radialaxis\":{\"gridcolor\":\"rgb(232,232,232)\",\"linecolor\":\"rgb(36,36,36)\",\"showgrid\":false,\"showline\":true,\"ticks\":\"outside\"}},\"scene\":{\"xaxis\":{\"backgroundcolor\":\"white\",\"gridcolor\":\"rgb(232,232,232)\",\"gridwidth\":2,\"linecolor\":\"rgb(36,36,36)\",\"showbackground\":true,\"showgrid\":false,\"showline\":true,\"ticks\":\"outside\",\"zeroline\":false,\"zerolinecolor\":\"rgb(36,36,36)\"},\"yaxis\":{\"backgroundcolor\":\"white\",\"gridcolor\":\"rgb(232,232,232)\",\"gridwidth\":2,\"linecolor\":\"rgb(36,36,36)\",\"showbackground\":true,\"showgrid\":false,\"showline\":true,\"ticks\":\"outside\",\"zeroline\":false,\"zerolinecolor\":\"rgb(36,36,36)\"},\"zaxis\":{\"backgroundcolor\":\"white\",\"gridcolor\":\"rgb(232,232,232)\",\"gridwidth\":2,\"linecolor\":\"rgb(36,36,36)\",\"showbackground\":true,\"showgrid\":false,\"showline\":true,\"ticks\":\"outside\",\"zeroline\":false,\"zerolinecolor\":\"rgb(36,36,36)\"}},\"shapedefaults\":{\"fillcolor\":\"black\",\"line\":{\"width\":0},\"opacity\":0.3},\"ternary\":{\"aaxis\":{\"gridcolor\":\"rgb(232,232,232)\",\"linecolor\":\"rgb(36,36,36)\",\"showgrid\":false,\"showline\":true,\"ticks\":\"outside\"},\"baxis\":{\"gridcolor\":\"rgb(232,232,232)\",\"linecolor\":\"rgb(36,36,36)\",\"showgrid\":false,\"showline\":true,\"ticks\":\"outside\"},\"bgcolor\":\"white\",\"caxis\":{\"gridcolor\":\"rgb(232,232,232)\",\"linecolor\":\"rgb(36,36,36)\",\"showgrid\":false,\"showline\":true,\"ticks\":\"outside\"}},\"title\":{\"x\":0.05},\"xaxis\":{\"automargin\":true,\"gridcolor\":\"rgb(232,232,232)\",\"linecolor\":\"rgb(36,36,36)\",\"showgrid\":false,\"showline\":true,\"ticks\":\"outside\",\"title\":{\"standoff\":15},\"zeroline\":false,\"zerolinecolor\":\"rgb(36,36,36)\"},\"yaxis\":{\"automargin\":true,\"gridcolor\":\"rgb(232,232,232)\",\"linecolor\":\"rgb(36,36,36)\",\"showgrid\":false,\"showline\":true,\"ticks\":\"outside\",\"title\":{\"standoff\":15},\"zeroline\":false,\"zerolinecolor\":\"rgb(36,36,36)\"}}},\"xaxis\":{\"anchor\":\"y\",\"domain\":[0.0,0.98],\"title\":{\"text\":\"dept_hr\"},\"dtick\":1,\"categoryorder\":\"category ascending\"},\"yaxis\":{\"anchor\":\"x\",\"domain\":[0.0,0.14166666666666666],\"title\":{\"text\":\"percentage\"},\"tickformat\":\".0%\"},\"xaxis2\":{\"anchor\":\"y2\",\"domain\":[0.0,0.98],\"matches\":\"x\",\"showticklabels\":false,\"dtick\":1,\"categoryorder\":\"category ascending\"},\"yaxis2\":{\"anchor\":\"x2\",\"domain\":[0.17166666666666666,0.31333333333333335],\"matches\":\"y\",\"title\":{\"text\":\"percentage\"},\"tickformat\":\".0%\"},\"xaxis3\":{\"anchor\":\"y3\",\"domain\":[0.0,0.98],\"matches\":\"x\",\"showticklabels\":false,\"dtick\":1,\"categoryorder\":\"category ascending\"},\"yaxis3\":{\"anchor\":\"x3\",\"domain\":[0.3433333333333333,0.485],\"matches\":\"y\",\"title\":{\"text\":\"percentage\"},\"tickformat\":\".0%\"},\"xaxis4\":{\"anchor\":\"y4\",\"domain\":[0.0,0.98],\"matches\":\"x\",\"showticklabels\":false,\"dtick\":1,\"categoryorder\":\"category ascending\"},\"yaxis4\":{\"anchor\":\"x4\",\"domain\":[0.515,0.6566666666666667],\"matches\":\"y\",\"title\":{\"text\":\"percentage\"},\"tickformat\":\".0%\"},\"xaxis5\":{\"anchor\":\"y5\",\"domain\":[0.0,0.98],\"matches\":\"x\",\"showticklabels\":false,\"dtick\":1,\"categoryorder\":\"category ascending\"},\"yaxis5\":{\"anchor\":\"x5\",\"domain\":[0.6866666666666666,0.8283333333333334],\"matches\":\"y\",\"title\":{\"text\":\"percentage\"},\"tickformat\":\".0%\"},\"xaxis6\":{\"anchor\":\"y6\",\"domain\":[0.0,0.98],\"matches\":\"x\",\"showticklabels\":false,\"dtick\":1,\"categoryorder\":\"category ascending\"},\"yaxis6\":{\"anchor\":\"x6\",\"domain\":[0.8583333333333333,1.0],\"matches\":\"y\",\"title\":{\"text\":\"percentage\"},\"tickformat\":\".0%\"},\"annotations\":[{\"font\":{},\"showarrow\":false,\"text\":\"Personal Business\",\"textangle\":90,\"x\":0.98,\"xanchor\":\"left\",\"xref\":\"paper\",\"y\":0.07083333333333333,\"yanchor\":\"middle\",\"yref\":\"paper\"},{\"font\":{},\"showarrow\":false,\"text\":\"Escort\",\"textangle\":90,\"x\":0.98,\"xanchor\":\"left\",\"xref\":\"paper\",\"y\":0.2425,\"yanchor\":\"middle\",\"yref\":\"paper\"},{\"font\":{},\"showarrow\":false,\"text\":\"Meal\",\"textangle\":90,\"x\":0.98,\"xanchor\":\"left\",\"xref\":\"paper\",\"y\":0.4141666666666667,\"yanchor\":\"middle\",\"yref\":\"paper\"},{\"font\":{},\"showarrow\":false,\"text\":\"Shop\",\"textangle\":90,\"x\":0.98,\"xanchor\":\"left\",\"xref\":\"paper\",\"y\":0.5858333333333334,\"yanchor\":\"middle\",\"yref\":\"paper\"},{\"font\":{},\"showarrow\":false,\"text\":\"School\",\"textangle\":90,\"x\":0.98,\"xanchor\":\"left\",\"xref\":\"paper\",\"y\":0.7575000000000001,\"yanchor\":\"middle\",\"yref\":\"paper\"},{\"font\":{},\"showarrow\":false,\"text\":\"Work\",\"textangle\":90,\"x\":0.98,\"xanchor\":\"left\",\"xref\":\"paper\",\"y\":0.9291666666666667,\"yanchor\":\"middle\",\"yref\":\"paper\"}],\"legend\":{\"title\":{\"text\":\"source\"},\"tracegroupgap\":0},\"title\":{\"text\":\"trip origin departure hour by purpose\"},\"barmode\":\"group\",\"height\":1500,\"width\":850},                        {\"responsive\": true}                    ).then(function(){\n",
       "                            \n",
       "var gd = document.getElementById('98d2df81-0207-4292-95d7-4b211bb5eb12');\n",
       "var x = new MutationObserver(function (mutations, observer) {{\n",
       "        var display = window.getComputedStyle(gd).display;\n",
       "        if (!display || display === 'none') {{\n",
       "            console.log([gd, 'removed!']);\n",
       "            Plotly.purge(gd);\n",
       "            observer.disconnect();\n",
       "        }}\n",
       "}});\n",
       "\n",
       "// Listen for the removal of the full notebook cells\n",
       "var notebookContainer = gd.closest('#notebook-container');\n",
       "if (notebookContainer) {{\n",
       "    x.observe(notebookContainer, {childList: true});\n",
       "}}\n",
       "\n",
       "// Listen for the clearing of the current output cell\n",
       "var outputEl = gd.closest('.output');\n",
       "if (outputEl) {{\n",
       "    x.observe(outputEl, {childList: true});\n",
       "}}\n",
       "\n",
       "                        })                };            </script>        </div>"
      ]
     },
     "metadata": {},
     "output_type": "display_data"
    }
   ],
   "source": [
    "df_plot = df_trip.groupby(['dept_hr','dpurp_label','source'])['trexpfac'].agg(sample_count='size', trexpfac='sum').reset_index()\n",
    "df_plot['percentage'] = df_plot.groupby(['dpurp_label','source'], group_keys=False)['trexpfac']. \\\n",
    "    apply(lambda x: x / float(x.sum()))\n",
    "\n",
    "fig = px.bar(df_plot.sort_values(['source','dpurp_label']),\n",
    "             x=\"dept_hr\", y=\"percentage\", color=\"source\",barmode=\"group\",\n",
    "             facet_row='dpurp_label',\n",
    "             hover_data=['trexpfac','sample_count'],\n",
    "             title=\"trip origin departure hour by purpose\")\n",
    "fig.update_layout(height=1500, width=850)\n",
    "fig.for_each_annotation(lambda a: a.update(text = a.text.split(\"=\")[-1]))\n",
    "fig.for_each_xaxis(lambda a: a.update(dict(dtick = 1, categoryorder='category ascending')))\n",
    "fig.for_each_yaxis(lambda a: a.update(dict(tickformat=\".0%\")))\n",
    "fig.show()"
   ]
  },
  {
   "cell_type": "raw",
   "metadata": {
    "vscode": {
     "languageId": "raw"
    }
   },
   "source": [
    ":::"
   ]
  }
 ],
 "metadata": {
  "kernelspec": {
   "display_name": "summary",
   "language": "python",
   "name": "python3"
  },
  "language_info": {
   "codemirror_mode": {
    "name": "ipython",
    "version": 3
   },
   "file_extension": ".py",
   "mimetype": "text/x-python",
   "name": "python",
   "nbconvert_exporter": "python",
   "pygments_lexer": "ipython3",
   "version": "3.11.12"
  }
 },
 "nbformat": 4,
 "nbformat_minor": 2
}
