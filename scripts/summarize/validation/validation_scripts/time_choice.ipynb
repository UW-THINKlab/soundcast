{
 "cells": [
  {
   "cell_type": "raw",
   "metadata": {},
   "source": [
    "---\n",
    "title: \"Time Choice\"\n",
    "date: today\n",
    "---"
   ]
  },
  {
   "cell_type": "code",
   "execution_count": 1,
   "metadata": {
    "ExecuteTime": {
     "end_time": "2024-07-15T04:25:53.491736Z",
     "start_time": "2024-07-15T04:25:52.116355Z"
    },
    "execution": {
     "iopub.execute_input": "2024-12-11T18:27:28.183067Z",
     "iopub.status.busy": "2024-12-11T18:27:28.181072Z",
     "iopub.status.idle": "2024-12-11T18:27:31.654634Z",
     "shell.execute_reply": "2024-12-11T18:27:31.653637Z"
    }
   },
   "outputs": [],
   "source": [
    "import os\n",
    "import pandas as pd\n",
    "import numpy as np\n",
    "import validation_data_input\n",
    "import plotly.express as px\n",
    "import toml\n",
    "import math\n",
    "import psrc_theme\n",
    "\n",
    "# to show plotly figures in quarto HTML file\n",
    "import plotly.io as pio\n",
    "pio.renderers.default = \"plotly_mimetype+notebook_connected\"\n",
    "pio.templates.default = \"simple_white+psrc_color\" # set plotly template\n",
    "\n",
    "config = toml.load(os.path.join(os.getcwd(), '..\\\\..\\\\..\\\\..\\\\configuration', 'validation_configuration.toml'))"
   ]
  },
  {
   "cell_type": "code",
   "execution_count": 2,
   "metadata": {
    "ExecuteTime": {
     "end_time": "2024-07-15T04:26:18.475538Z",
     "start_time": "2024-07-15T04:25:57.037934Z"
    },
    "execution": {
     "iopub.execute_input": "2024-12-11T18:27:31.664607Z",
     "iopub.status.busy": "2024-12-11T18:27:31.664607Z",
     "iopub.status.idle": "2024-12-11T18:28:57.476416Z",
     "shell.execute_reply": "2024-12-11T18:28:57.473424Z"
    }
   },
   "outputs": [],
   "source": [
    "tour = validation_data_input.get_data('tour')\n",
    "trip = validation_data_input.get_data('trip')\n",
    "# person = validation_data_input.get_data('person')"
   ]
  },
  {
   "cell_type": "code",
   "execution_count": 3,
   "metadata": {
    "execution": {
     "iopub.execute_input": "2024-12-11T18:28:57.489946Z",
     "iopub.status.busy": "2024-12-11T18:28:57.487389Z",
     "iopub.status.idle": "2024-12-11T18:28:57.520300Z",
     "shell.execute_reply": "2024-12-11T18:28:57.519302Z"
    }
   },
   "outputs": [
    {
     "data": {
      "text/plain": [
       "Index(['id', 'tour_id', 'hhno', 'pno', 'day', 'tour', 'half', 'tseg', 'tsvid',\n",
       "       'opurp', 'dpurp', 'oadtyp', 'dadtyp', 'opcl', 'otaz', 'dpcl', 'dtaz',\n",
       "       'mode', 'pathtype', 'dorp', 'deptm', 'arrtm', 'endacttm', 'travtime',\n",
       "       'travcost', 'travdist', 'vot', 'trexpfac', 'od', 'sov_ff_time',\n",
       "       'source'],\n",
       "      dtype='object')"
      ]
     },
     "execution_count": 3,
     "metadata": {},
     "output_type": "execute_result"
    }
   ],
   "source": [
    "trip.columns"
   ]
  },
  {
   "cell_type": "code",
   "execution_count": 4,
   "metadata": {
    "ExecuteTime": {
     "end_time": "2024-07-15T04:36:01.318077Z",
     "start_time": "2024-07-15T04:35:58.005548Z"
    },
    "collapsed": false,
    "execution": {
     "iopub.execute_input": "2024-12-11T18:28:57.530273Z",
     "iopub.status.busy": "2024-12-11T18:28:57.530273Z",
     "iopub.status.idle": "2024-12-11T18:29:22.158848Z",
     "shell.execute_reply": "2024-12-11T18:29:22.157005Z"
    }
   },
   "outputs": [],
   "source": [
    "# df_person = person.copy()\n",
    "df_tour = tour.copy()\n",
    "df_trip = trip.copy()\n",
    "\n",
    "# ptype_cat = {1: \"1: full time worker\",\n",
    "#              2: \"2: part time worker\",\n",
    "#              3: \"3: non-worker age 65+\",\n",
    "#              4: \"4: other non-working adult\",\n",
    "#              5: \"5: university student\",\n",
    "#              6: \"6: grade school student/child age 16+\",\n",
    "#              7: \"7: child age 5-15\",\n",
    "#              8: \"8: child age 0-4\"}\n",
    "pdpurp_cat = {1: \"Work\",\n",
    "              2: \"School\",\n",
    "              3: \"Escort\",\n",
    "              4: \"Personal Business\",\n",
    "              5: \"Shop\",\n",
    "              6: \"Meal\",\n",
    "              7: \"Social\",\n",
    "              8: \"Social\",\n",
    "              9: \"Personal Business\"}\n",
    "# df_person['pptyp_label'] = df_person['pptyp'].map(ptype_cat)\n",
    "# df_person['pptyp_label'] = df_person['pptyp_label'].astype(pd.CategoricalDtype([\"1: full time worker\",\"2: part time worker\",\"3: non-worker age 65+\",\"4: other non-working adult\",\"5: university student\",\"6: grade school student/child age 16+\",\"7: child age 5-15\",\"8: child age 0-4\"]))\n",
    "\n",
    "df_tour['pdpurp_label'] = df_tour['pdpurp'].map(pdpurp_cat)\n",
    "df_tour['pdpurp_label'] = df_tour['pdpurp_label'].astype(pd.CategoricalDtype([\"Work\",\"School\",\"Shop\",\"Meal\",\"Escort\",\"Personal Business\"]))\n",
    "\n",
    "df_tour['tlvorg_hr'] = df_tour['tlvorig'].apply(lambda row: int(math.floor(row/60)))\n",
    "\n",
    "\n",
    "df_trip['dpurp_label'] = df_trip['dpurp'].map(pdpurp_cat)\n",
    "df_trip['dpurp_label'] = df_trip['dpurp_label'].astype(pd.CategoricalDtype([\"Work\",\"School\",\"Shop\",\"Meal\",\"Escort\",\"Personal Business\"]))\n",
    "\n",
    "df_trip['dept_hr'] = df_trip['deptm'].apply(lambda row: int(math.floor(row/60)))\n",
    "\n",
    "# df_tour = df_tour.merge(df_person, how='left', on=['pno','hhno','source'])"
   ]
  },
  {
   "cell_type": "markdown",
   "metadata": {},
   "source": [
    "## departure hour"
   ]
  },
  {
   "cell_type": "raw",
   "metadata": {
    "vscode": {
     "languageId": "raw"
    }
   },
   "source": [
    ":::{.panel-tabset}\n",
    "### tour"
   ]
  },
  {
   "cell_type": "code",
   "execution_count": 5,
   "metadata": {
    "ExecuteTime": {
     "end_time": "2024-07-15T04:37:09.021826Z",
     "start_time": "2024-07-15T04:37:08.286683Z"
    },
    "collapsed": false,
    "execution": {
     "iopub.execute_input": "2024-12-11T18:29:22.171374Z",
     "iopub.status.busy": "2024-12-11T18:29:22.170382Z",
     "iopub.status.idle": "2024-12-11T18:29:23.147131Z",
     "shell.execute_reply": "2024-12-11T18:29:23.145020Z"
    }
   },
   "outputs": [
    {
     "data": {
      "text/html": [
       "        <script type=\"text/javascript\">\n",
       "        window.PlotlyConfig = {MathJaxConfig: 'local'};\n",
       "        if (window.MathJax && window.MathJax.Hub && window.MathJax.Hub.Config) {window.MathJax.Hub.Config({SVG: {font: \"STIX-Web\"}});}\n",
       "        if (typeof require !== 'undefined') {\n",
       "        require.undef(\"plotly\");\n",
       "        requirejs.config({\n",
       "            paths: {\n",
       "                'plotly': ['https://cdn.plot.ly/plotly-2.35.2.min']\n",
       "            }\n",
       "        });\n",
       "        require(['plotly'], function(Plotly) {\n",
       "            window._Plotly = Plotly;\n",
       "        });\n",
       "        }\n",
       "        </script>\n",
       "        "
      ]
     },
     "metadata": {},
     "output_type": "display_data"
    },
    {
     "data": {
      "application/vnd.plotly.v1+json": {
       "config": {
        "plotlyServerURL": "https://plot.ly"
       },
       "data": [
        {
         "alignmentgroup": "True",
         "customdata": [
          [
           3944.0,
           3944.0
          ],
          [
           2527.0,
           2527.0
          ],
          [
           995.0,
           995.0
          ],
          [
           71060.0,
           71060.0
          ],
          [
           61263.0,
           61263.0
          ],
          [
           136741.0,
           136741.0
          ],
          [
           384157.0,
           384157.0
          ],
          [
           615925.0,
           615925.0
          ],
          [
           674390.0,
           674390.0
          ],
          [
           541167.0,
           541167.0
          ],
          [
           464162.0,
           464162.0
          ],
          [
           388639.0,
           388639.0
          ],
          [
           366019.0,
           366019.0
          ],
          [
           331952.0,
           331952.0
          ],
          [
           298416.0,
           298416.0
          ],
          [
           272101.0,
           272101.0
          ],
          [
           295166.0,
           295166.0
          ],
          [
           284094.0,
           284094.0
          ],
          [
           265040.0,
           265040.0
          ],
          [
           162680.0,
           162680.0
          ],
          [
           125224.0,
           125224.0
          ],
          [
           79567.0,
           79567.0
          ],
          [
           19686.0,
           19686.0
          ],
          [
           9647.0,
           9647.0
          ]
         ],
         "hovertemplate": "source=model<br>tlvorg_hr=%{x}<br>percentage=%{y}<br>toexpfac=%{customdata[0]}<br>sample_count=%{customdata[1]}<extra></extra>",
         "legendgroup": "model",
         "marker": {
          "color": "#91268F",
          "pattern": {
           "shape": ""
          }
         },
         "name": "model",
         "offsetgroup": "model",
         "orientation": "v",
         "showlegend": true,
         "textposition": "auto",
         "type": "bar",
         "x": [
          0,
          1,
          2,
          3,
          4,
          5,
          6,
          7,
          8,
          9,
          10,
          11,
          12,
          13,
          14,
          15,
          16,
          17,
          18,
          19,
          20,
          21,
          22,
          23
         ],
         "xaxis": "x",
         "y": [
          0.0006736626924439438,
          0.00043162921496091425,
          0.0001699529358472931,
          0.012137543337998642,
          0.010464147446042932,
          0.023356315980597696,
          0.06561669344350611,
          0.10520428342888845,
          0.11519051297091054,
          0.09243509591323826,
          0.07928210513442338,
          0.06638225028618708,
          0.06251859660893505,
          0.056699715538070995,
          0.050971532968649064,
          0.04647674753465759,
          0.05041641031387147,
          0.048525235534272244,
          0.04527067951453926,
          0.02778687799360567,
          0.021389132099036614,
          0.013590598237750322,
          0.0033625060252158914,
          0.0016477748463505895
         ],
         "yaxis": "y"
        },
        {
         "alignmentgroup": "True",
         "customdata": [
          [
           520.3702253200515,
           2.0
          ],
          [
           587.7833791151987,
           2.0
          ],
          [
           322.70012578798855,
           3.0
          ],
          [
           12143.289638479979,
           24.0
          ],
          [
           82941.44408576244,
           75.0
          ],
          [
           144711.84150243405,
           180.0
          ],
          [
           343063.2400804206,
           528.0
          ],
          [
           717987.758652446,
           1195.0
          ],
          [
           709289.0116873997,
           1266.0
          ],
          [
           392695.23819306894,
           832.0
          ],
          [
           333119.44529938773,
           715.0
          ],
          [
           248148.3519912732,
           591.0
          ],
          [
           267584.47124603036,
           621.0
          ],
          [
           235545.0578396302,
           534.0
          ],
          [
           370969.1493775048,
           579.0
          ],
          [
           258846.5502010793,
           604.0
          ],
          [
           217582.5479308705,
           551.0
          ],
          [
           337519.56819881743,
           708.0
          ],
          [
           213751.3091424961,
           516.0
          ],
          [
           135516.39295514335,
           342.0
          ],
          [
           31678.915869293014,
           144.0
          ],
          [
           20304.20091600431,
           69.0
          ],
          [
           18292.573717580864,
           30.0
          ],
          [
           2205.7586376022605,
           7.0
          ]
         ],
         "hovertemplate": "source=survey<br>tlvorg_hr=%{x}<br>percentage=%{y}<br>toexpfac=%{customdata[0]}<br>sample_count=%{customdata[1]}<extra></extra>",
         "legendgroup": "survey",
         "marker": {
          "color": "#8CC63E",
          "pattern": {
           "shape": ""
          }
         },
         "name": "survey",
         "offsetgroup": "survey",
         "orientation": "v",
         "showlegend": true,
         "textposition": "auto",
         "type": "bar",
         "x": [
          0,
          1,
          2,
          3,
          4,
          5,
          6,
          7,
          8,
          9,
          10,
          11,
          12,
          13,
          14,
          15,
          16,
          17,
          18,
          19,
          20,
          21,
          22,
          23
         ],
         "xaxis": "x",
         "y": [
          0.00010212695442170168,
          0.00011535734261469593,
          6.333256484449629e-05,
          0.002383220882162913,
          0.016277943409631093,
          0.02840089406020464,
          0.06732899420197548,
          0.14091102744808143,
          0.13920382651382582,
          0.07706968373891218,
          0.06537744235106643,
          0.04870116351881252,
          0.05251566244415842,
          0.046227662951795076,
          0.07280575937455352,
          0.05080077327318541,
          0.042702372031041505,
          0.06624100281039817,
          0.041950459776879924,
          0.026596211338208643,
          0.006217248873381197,
          0.003984867120793629,
          0.0035900686692094887,
          0.0004328983498414635
         ],
         "yaxis": "y"
        },
        {
         "alignmentgroup": "True",
         "customdata": [
          [
           813.007669491988,
           3.0
          ],
          [
           343.465611943163,
           2.0
          ],
          [
           617.9592545767886,
           3.0
          ],
          [
           14927.7390869082,
           25.0
          ],
          [
           73101.81441058991,
           78.0
          ],
          [
           163636.25248424156,
           191.0
          ],
          [
           335652.1346855101,
           553.0
          ],
          [
           730811.1492257961,
           1232.0
          ],
          [
           697157.1239973352,
           1310.0
          ],
          [
           433940.27310888877,
           873.0
          ],
          [
           255033.28585273182,
           740.0
          ],
          [
           267196.56493251026,
           625.0
          ],
          [
           235334.41681136526,
           650.0
          ],
          [
           203713.77330905438,
           564.0
          ],
          [
           298164.4385508458,
           602.0
          ],
          [
           329066.499373072,
           629.0
          ],
          [
           254572.78014360945,
           576.0
          ],
          [
           328088.4841268239,
           738.0
          ],
          [
           218232.93433914715,
           539.0
          ],
          [
           137976.20783799535,
           361.0
          ],
          [
           40884.94150500456,
           149.0
          ],
          [
           8589.542691990911,
           72.0
          ],
          [
           18856.86935525195,
           32.0
          ],
          [
           4010.3878365157243,
           10.0
          ]
         ],
         "hovertemplate": "source=survey (update)<br>tlvorg_hr=%{x}<br>percentage=%{y}<br>toexpfac=%{customdata[0]}<br>sample_count=%{customdata[1]}<extra></extra>",
         "legendgroup": "survey (update)",
         "marker": {
          "color": "#00A7A0",
          "pattern": {
           "shape": ""
          }
         },
         "name": "survey (update)",
         "offsetgroup": "survey (update)",
         "orientation": "v",
         "showlegend": true,
         "textposition": "auto",
         "type": "bar",
         "x": [
          0,
          1,
          2,
          3,
          4,
          5,
          6,
          7,
          8,
          9,
          10,
          11,
          12,
          13,
          14,
          15,
          16,
          17,
          18,
          19,
          20,
          21,
          22,
          23
         ],
         "xaxis": "x",
         "y": [
          0.00016096860251960915,
          6.800326939422331e-05,
          0.00012235067559133932,
          0.002955565352905492,
          0.014473537395622866,
          0.032398585981843385,
          0.06645626736437894,
          0.1446943907308186,
          0.13803118002141654,
          0.08591648266118075,
          0.050494421098573425,
          0.05290264688659255,
          0.04659421260141752,
          0.04033359417635616,
          0.05903402242756641,
          0.06515236759476258,
          0.05040324488556666,
          0.06495872889572078,
          0.04320826454967695,
          0.027318115425055196,
          0.008094870620677957,
          0.0017006563840612382,
          0.00373349972197238,
          0.0007940226763284385
         ],
         "yaxis": "y"
        }
       ],
       "layout": {
        "barmode": "group",
        "font": {
         "size": 11
        },
        "height": 400,
        "legend": {
         "title": {
          "text": "source"
         },
         "tracegroupgap": 0
        },
        "template": {
         "data": {
          "bar": [
           {
            "error_x": {
             "color": "rgb(36,36,36)"
            },
            "error_y": {
             "color": "rgb(36,36,36)"
            },
            "marker": {
             "line": {
              "color": "white",
              "width": 0.5
             },
             "pattern": {
              "fillmode": "overlay",
              "size": 10,
              "solidity": 0.2
             }
            },
            "type": "bar"
           }
          ],
          "barpolar": [
           {
            "marker": {
             "line": {
              "color": "white",
              "width": 0.5
             },
             "pattern": {
              "fillmode": "overlay",
              "size": 10,
              "solidity": 0.2
             }
            },
            "type": "barpolar"
           }
          ],
          "carpet": [
           {
            "aaxis": {
             "endlinecolor": "rgb(36,36,36)",
             "gridcolor": "white",
             "linecolor": "white",
             "minorgridcolor": "white",
             "startlinecolor": "rgb(36,36,36)"
            },
            "baxis": {
             "endlinecolor": "rgb(36,36,36)",
             "gridcolor": "white",
             "linecolor": "white",
             "minorgridcolor": "white",
             "startlinecolor": "rgb(36,36,36)"
            },
            "type": "carpet"
           }
          ],
          "choropleth": [
           {
            "colorbar": {
             "outlinewidth": 1,
             "tickcolor": "rgb(36,36,36)",
             "ticks": "outside"
            },
            "type": "choropleth"
           }
          ],
          "contour": [
           {
            "colorbar": {
             "outlinewidth": 1,
             "tickcolor": "rgb(36,36,36)",
             "ticks": "outside"
            },
            "colorscale": [
             [
              0.0,
              "#440154"
             ],
             [
              0.1111111111111111,
              "#482878"
             ],
             [
              0.2222222222222222,
              "#3e4989"
             ],
             [
              0.3333333333333333,
              "#31688e"
             ],
             [
              0.4444444444444444,
              "#26828e"
             ],
             [
              0.5555555555555556,
              "#1f9e89"
             ],
             [
              0.6666666666666666,
              "#35b779"
             ],
             [
              0.7777777777777778,
              "#6ece58"
             ],
             [
              0.8888888888888888,
              "#b5de2b"
             ],
             [
              1.0,
              "#fde725"
             ]
            ],
            "type": "contour"
           }
          ],
          "contourcarpet": [
           {
            "colorbar": {
             "outlinewidth": 1,
             "tickcolor": "rgb(36,36,36)",
             "ticks": "outside"
            },
            "type": "contourcarpet"
           }
          ],
          "heatmap": [
           {
            "colorbar": {
             "outlinewidth": 1,
             "tickcolor": "rgb(36,36,36)",
             "ticks": "outside"
            },
            "colorscale": [
             [
              0.0,
              "#440154"
             ],
             [
              0.1111111111111111,
              "#482878"
             ],
             [
              0.2222222222222222,
              "#3e4989"
             ],
             [
              0.3333333333333333,
              "#31688e"
             ],
             [
              0.4444444444444444,
              "#26828e"
             ],
             [
              0.5555555555555556,
              "#1f9e89"
             ],
             [
              0.6666666666666666,
              "#35b779"
             ],
             [
              0.7777777777777778,
              "#6ece58"
             ],
             [
              0.8888888888888888,
              "#b5de2b"
             ],
             [
              1.0,
              "#fde725"
             ]
            ],
            "type": "heatmap"
           }
          ],
          "heatmapgl": [
           {
            "colorbar": {
             "outlinewidth": 1,
             "tickcolor": "rgb(36,36,36)",
             "ticks": "outside"
            },
            "colorscale": [
             [
              0.0,
              "#440154"
             ],
             [
              0.1111111111111111,
              "#482878"
             ],
             [
              0.2222222222222222,
              "#3e4989"
             ],
             [
              0.3333333333333333,
              "#31688e"
             ],
             [
              0.4444444444444444,
              "#26828e"
             ],
             [
              0.5555555555555556,
              "#1f9e89"
             ],
             [
              0.6666666666666666,
              "#35b779"
             ],
             [
              0.7777777777777778,
              "#6ece58"
             ],
             [
              0.8888888888888888,
              "#b5de2b"
             ],
             [
              1.0,
              "#fde725"
             ]
            ],
            "type": "heatmapgl"
           }
          ],
          "histogram": [
           {
            "marker": {
             "line": {
              "color": "white",
              "width": 0.6
             }
            },
            "type": "histogram"
           }
          ],
          "histogram2d": [
           {
            "colorbar": {
             "outlinewidth": 1,
             "tickcolor": "rgb(36,36,36)",
             "ticks": "outside"
            },
            "colorscale": [
             [
              0.0,
              "#440154"
             ],
             [
              0.1111111111111111,
              "#482878"
             ],
             [
              0.2222222222222222,
              "#3e4989"
             ],
             [
              0.3333333333333333,
              "#31688e"
             ],
             [
              0.4444444444444444,
              "#26828e"
             ],
             [
              0.5555555555555556,
              "#1f9e89"
             ],
             [
              0.6666666666666666,
              "#35b779"
             ],
             [
              0.7777777777777778,
              "#6ece58"
             ],
             [
              0.8888888888888888,
              "#b5de2b"
             ],
             [
              1.0,
              "#fde725"
             ]
            ],
            "type": "histogram2d"
           }
          ],
          "histogram2dcontour": [
           {
            "colorbar": {
             "outlinewidth": 1,
             "tickcolor": "rgb(36,36,36)",
             "ticks": "outside"
            },
            "colorscale": [
             [
              0.0,
              "#440154"
             ],
             [
              0.1111111111111111,
              "#482878"
             ],
             [
              0.2222222222222222,
              "#3e4989"
             ],
             [
              0.3333333333333333,
              "#31688e"
             ],
             [
              0.4444444444444444,
              "#26828e"
             ],
             [
              0.5555555555555556,
              "#1f9e89"
             ],
             [
              0.6666666666666666,
              "#35b779"
             ],
             [
              0.7777777777777778,
              "#6ece58"
             ],
             [
              0.8888888888888888,
              "#b5de2b"
             ],
             [
              1.0,
              "#fde725"
             ]
            ],
            "type": "histogram2dcontour"
           }
          ],
          "mesh3d": [
           {
            "colorbar": {
             "outlinewidth": 1,
             "tickcolor": "rgb(36,36,36)",
             "ticks": "outside"
            },
            "type": "mesh3d"
           }
          ],
          "parcoords": [
           {
            "line": {
             "colorbar": {
              "outlinewidth": 1,
              "tickcolor": "rgb(36,36,36)",
              "ticks": "outside"
             }
            },
            "type": "parcoords"
           }
          ],
          "pie": [
           {
            "automargin": true,
            "type": "pie"
           }
          ],
          "scatter": [
           {
            "fillpattern": {
             "fillmode": "overlay",
             "size": 10,
             "solidity": 0.2
            },
            "type": "scatter"
           }
          ],
          "scatter3d": [
           {
            "line": {
             "colorbar": {
              "outlinewidth": 1,
              "tickcolor": "rgb(36,36,36)",
              "ticks": "outside"
             }
            },
            "marker": {
             "colorbar": {
              "outlinewidth": 1,
              "tickcolor": "rgb(36,36,36)",
              "ticks": "outside"
             }
            },
            "type": "scatter3d"
           }
          ],
          "scattercarpet": [
           {
            "marker": {
             "colorbar": {
              "outlinewidth": 1,
              "tickcolor": "rgb(36,36,36)",
              "ticks": "outside"
             }
            },
            "type": "scattercarpet"
           }
          ],
          "scattergeo": [
           {
            "marker": {
             "colorbar": {
              "outlinewidth": 1,
              "tickcolor": "rgb(36,36,36)",
              "ticks": "outside"
             }
            },
            "type": "scattergeo"
           }
          ],
          "scattergl": [
           {
            "marker": {
             "colorbar": {
              "outlinewidth": 1,
              "tickcolor": "rgb(36,36,36)",
              "ticks": "outside"
             }
            },
            "type": "scattergl"
           }
          ],
          "scattermapbox": [
           {
            "marker": {
             "colorbar": {
              "outlinewidth": 1,
              "tickcolor": "rgb(36,36,36)",
              "ticks": "outside"
             }
            },
            "type": "scattermapbox"
           }
          ],
          "scatterpolar": [
           {
            "marker": {
             "colorbar": {
              "outlinewidth": 1,
              "tickcolor": "rgb(36,36,36)",
              "ticks": "outside"
             }
            },
            "type": "scatterpolar"
           }
          ],
          "scatterpolargl": [
           {
            "marker": {
             "colorbar": {
              "outlinewidth": 1,
              "tickcolor": "rgb(36,36,36)",
              "ticks": "outside"
             }
            },
            "type": "scatterpolargl"
           }
          ],
          "scatterternary": [
           {
            "marker": {
             "colorbar": {
              "outlinewidth": 1,
              "tickcolor": "rgb(36,36,36)",
              "ticks": "outside"
             }
            },
            "type": "scatterternary"
           }
          ],
          "surface": [
           {
            "colorbar": {
             "outlinewidth": 1,
             "tickcolor": "rgb(36,36,36)",
             "ticks": "outside"
            },
            "colorscale": [
             [
              0.0,
              "#440154"
             ],
             [
              0.1111111111111111,
              "#482878"
             ],
             [
              0.2222222222222222,
              "#3e4989"
             ],
             [
              0.3333333333333333,
              "#31688e"
             ],
             [
              0.4444444444444444,
              "#26828e"
             ],
             [
              0.5555555555555556,
              "#1f9e89"
             ],
             [
              0.6666666666666666,
              "#35b779"
             ],
             [
              0.7777777777777778,
              "#6ece58"
             ],
             [
              0.8888888888888888,
              "#b5de2b"
             ],
             [
              1.0,
              "#fde725"
             ]
            ],
            "type": "surface"
           }
          ],
          "table": [
           {
            "cells": {
             "fill": {
              "color": "rgb(237,237,237)"
             },
             "line": {
              "color": "white"
             }
            },
            "header": {
             "fill": {
              "color": "rgb(217,217,217)"
             },
             "line": {
              "color": "white"
             }
            },
            "type": "table"
           }
          ]
         },
         "layout": {
          "annotationdefaults": {
           "arrowhead": 0,
           "arrowwidth": 1
          },
          "autotypenumbers": "strict",
          "coloraxis": {
           "colorbar": {
            "outlinewidth": 1,
            "tickcolor": "rgb(36,36,36)",
            "ticks": "outside"
           }
          },
          "colorscale": {
           "diverging": [
            [
             0.0,
             "rgb(103,0,31)"
            ],
            [
             0.1,
             "rgb(178,24,43)"
            ],
            [
             0.2,
             "rgb(214,96,77)"
            ],
            [
             0.3,
             "rgb(244,165,130)"
            ],
            [
             0.4,
             "rgb(253,219,199)"
            ],
            [
             0.5,
             "rgb(247,247,247)"
            ],
            [
             0.6,
             "rgb(209,229,240)"
            ],
            [
             0.7,
             "rgb(146,197,222)"
            ],
            [
             0.8,
             "rgb(67,147,195)"
            ],
            [
             0.9,
             "rgb(33,102,172)"
            ],
            [
             1.0,
             "rgb(5,48,97)"
            ]
           ],
           "sequential": [
            [
             0.0,
             "#440154"
            ],
            [
             0.1111111111111111,
             "#482878"
            ],
            [
             0.2222222222222222,
             "#3e4989"
            ],
            [
             0.3333333333333333,
             "#31688e"
            ],
            [
             0.4444444444444444,
             "#26828e"
            ],
            [
             0.5555555555555556,
             "#1f9e89"
            ],
            [
             0.6666666666666666,
             "#35b779"
            ],
            [
             0.7777777777777778,
             "#6ece58"
            ],
            [
             0.8888888888888888,
             "#b5de2b"
            ],
            [
             1.0,
             "#fde725"
            ]
           ],
           "sequentialminus": [
            [
             0.0,
             "#440154"
            ],
            [
             0.1111111111111111,
             "#482878"
            ],
            [
             0.2222222222222222,
             "#3e4989"
            ],
            [
             0.3333333333333333,
             "#31688e"
            ],
            [
             0.4444444444444444,
             "#26828e"
            ],
            [
             0.5555555555555556,
             "#1f9e89"
            ],
            [
             0.6666666666666666,
             "#35b779"
            ],
            [
             0.7777777777777778,
             "#6ece58"
            ],
            [
             0.8888888888888888,
             "#b5de2b"
            ],
            [
             1.0,
             "#fde725"
            ]
           ]
          },
          "colorway": [
           "#91268F",
           "#8CC63E",
           "#00A7A0",
           "#F05A28",
           "#4C4C4C",
           "#630460",
           "#9f3913",
           "#588527",
           "#00716c",
           "#3e4040"
          ],
          "font": {
           "color": "rgb(36,36,36)",
           "family": "Poppins",
           "size": 11
          },
          "geo": {
           "bgcolor": "white",
           "lakecolor": "white",
           "landcolor": "white",
           "showlakes": true,
           "showland": true,
           "subunitcolor": "white"
          },
          "hoverlabel": {
           "align": "left"
          },
          "hovermode": "closest",
          "mapbox": {
           "style": "light"
          },
          "paper_bgcolor": "white",
          "plot_bgcolor": "white",
          "polar": {
           "angularaxis": {
            "gridcolor": "rgb(232,232,232)",
            "linecolor": "rgb(36,36,36)",
            "showgrid": false,
            "showline": true,
            "ticks": "outside"
           },
           "bgcolor": "white",
           "radialaxis": {
            "gridcolor": "rgb(232,232,232)",
            "linecolor": "rgb(36,36,36)",
            "showgrid": false,
            "showline": true,
            "ticks": "outside"
           }
          },
          "scene": {
           "xaxis": {
            "backgroundcolor": "white",
            "gridcolor": "rgb(232,232,232)",
            "gridwidth": 2,
            "linecolor": "rgb(36,36,36)",
            "showbackground": true,
            "showgrid": false,
            "showline": true,
            "ticks": "outside",
            "zeroline": false,
            "zerolinecolor": "rgb(36,36,36)"
           },
           "yaxis": {
            "backgroundcolor": "white",
            "gridcolor": "rgb(232,232,232)",
            "gridwidth": 2,
            "linecolor": "rgb(36,36,36)",
            "showbackground": true,
            "showgrid": false,
            "showline": true,
            "ticks": "outside",
            "zeroline": false,
            "zerolinecolor": "rgb(36,36,36)"
           },
           "zaxis": {
            "backgroundcolor": "white",
            "gridcolor": "rgb(232,232,232)",
            "gridwidth": 2,
            "linecolor": "rgb(36,36,36)",
            "showbackground": true,
            "showgrid": false,
            "showline": true,
            "ticks": "outside",
            "zeroline": false,
            "zerolinecolor": "rgb(36,36,36)"
           }
          },
          "shapedefaults": {
           "fillcolor": "black",
           "line": {
            "width": 0
           },
           "opacity": 0.3
          },
          "ternary": {
           "aaxis": {
            "gridcolor": "rgb(232,232,232)",
            "linecolor": "rgb(36,36,36)",
            "showgrid": false,
            "showline": true,
            "ticks": "outside"
           },
           "baxis": {
            "gridcolor": "rgb(232,232,232)",
            "linecolor": "rgb(36,36,36)",
            "showgrid": false,
            "showline": true,
            "ticks": "outside"
           },
           "bgcolor": "white",
           "caxis": {
            "gridcolor": "rgb(232,232,232)",
            "linecolor": "rgb(36,36,36)",
            "showgrid": false,
            "showline": true,
            "ticks": "outside"
           }
          },
          "title": {
           "x": 0.05
          },
          "xaxis": {
           "automargin": true,
           "gridcolor": "rgb(232,232,232)",
           "linecolor": "rgb(36,36,36)",
           "showgrid": false,
           "showline": true,
           "ticks": "outside",
           "title": {
            "standoff": 15
           },
           "zeroline": false,
           "zerolinecolor": "rgb(36,36,36)"
          },
          "yaxis": {
           "automargin": true,
           "gridcolor": "rgb(232,232,232)",
           "linecolor": "rgb(36,36,36)",
           "showgrid": false,
           "showline": true,
           "ticks": "outside",
           "title": {
            "standoff": 15
           },
           "zeroline": false,
           "zerolinecolor": "rgb(36,36,36)"
          }
         }
        },
        "title": {
         "text": "tour origin departure hour"
        },
        "width": 700,
        "xaxis": {
         "anchor": "y",
         "categoryorder": "category ascending",
         "domain": [
          0.0,
          1.0
         ],
         "dtick": 1,
         "title": {
          "text": "tlvorg_hr"
         }
        },
        "yaxis": {
         "anchor": "x",
         "domain": [
          0.0,
          1.0
         ],
         "tickformat": ".0%",
         "title": {
          "text": "percentage"
         }
        }
       }
      },
      "text/html": [
       "<div>                            <div id=\"e51fb8a3-7055-44f4-9c42-46ff69aa7daa\" class=\"plotly-graph-div\" style=\"height:400px; width:700px;\"></div>            <script type=\"text/javascript\">                require([\"plotly\"], function(Plotly) {                    window.PLOTLYENV=window.PLOTLYENV || {};                                    if (document.getElementById(\"e51fb8a3-7055-44f4-9c42-46ff69aa7daa\")) {                    Plotly.newPlot(                        \"e51fb8a3-7055-44f4-9c42-46ff69aa7daa\",                        [{\"alignmentgroup\":\"True\",\"customdata\":[[3944.0,3944.0],[2527.0,2527.0],[995.0,995.0],[71060.0,71060.0],[61263.0,61263.0],[136741.0,136741.0],[384157.0,384157.0],[615925.0,615925.0],[674390.0,674390.0],[541167.0,541167.0],[464162.0,464162.0],[388639.0,388639.0],[366019.0,366019.0],[331952.0,331952.0],[298416.0,298416.0],[272101.0,272101.0],[295166.0,295166.0],[284094.0,284094.0],[265040.0,265040.0],[162680.0,162680.0],[125224.0,125224.0],[79567.0,79567.0],[19686.0,19686.0],[9647.0,9647.0]],\"hovertemplate\":\"source=model\\u003cbr\\u003etlvorg_hr=%{x}\\u003cbr\\u003epercentage=%{y}\\u003cbr\\u003etoexpfac=%{customdata[0]}\\u003cbr\\u003esample_count=%{customdata[1]}\\u003cextra\\u003e\\u003c\\u002fextra\\u003e\",\"legendgroup\":\"model\",\"marker\":{\"color\":\"#91268F\",\"pattern\":{\"shape\":\"\"}},\"name\":\"model\",\"offsetgroup\":\"model\",\"orientation\":\"v\",\"showlegend\":true,\"textposition\":\"auto\",\"x\":[0,1,2,3,4,5,6,7,8,9,10,11,12,13,14,15,16,17,18,19,20,21,22,23],\"xaxis\":\"x\",\"y\":[0.0006736626924439438,0.00043162921496091425,0.0001699529358472931,0.012137543337998642,0.010464147446042932,0.023356315980597696,0.06561669344350611,0.10520428342888845,0.11519051297091054,0.09243509591323826,0.07928210513442338,0.06638225028618708,0.06251859660893505,0.056699715538070995,0.050971532968649064,0.04647674753465759,0.05041641031387147,0.048525235534272244,0.04527067951453926,0.02778687799360567,0.021389132099036614,0.013590598237750322,0.0033625060252158914,0.0016477748463505895],\"yaxis\":\"y\",\"type\":\"bar\"},{\"alignmentgroup\":\"True\",\"customdata\":[[520.3702253200515,2.0],[587.7833791151987,2.0],[322.70012578798855,3.0],[12143.289638479979,24.0],[82941.44408576244,75.0],[144711.84150243405,180.0],[343063.2400804206,528.0],[717987.758652446,1195.0],[709289.0116873997,1266.0],[392695.23819306894,832.0],[333119.44529938773,715.0],[248148.3519912732,591.0],[267584.47124603036,621.0],[235545.0578396302,534.0],[370969.1493775048,579.0],[258846.5502010793,604.0],[217582.5479308705,551.0],[337519.56819881743,708.0],[213751.3091424961,516.0],[135516.39295514335,342.0],[31678.915869293014,144.0],[20304.20091600431,69.0],[18292.573717580864,30.0],[2205.7586376022605,7.0]],\"hovertemplate\":\"source=survey\\u003cbr\\u003etlvorg_hr=%{x}\\u003cbr\\u003epercentage=%{y}\\u003cbr\\u003etoexpfac=%{customdata[0]}\\u003cbr\\u003esample_count=%{customdata[1]}\\u003cextra\\u003e\\u003c\\u002fextra\\u003e\",\"legendgroup\":\"survey\",\"marker\":{\"color\":\"#8CC63E\",\"pattern\":{\"shape\":\"\"}},\"name\":\"survey\",\"offsetgroup\":\"survey\",\"orientation\":\"v\",\"showlegend\":true,\"textposition\":\"auto\",\"x\":[0,1,2,3,4,5,6,7,8,9,10,11,12,13,14,15,16,17,18,19,20,21,22,23],\"xaxis\":\"x\",\"y\":[0.00010212695442170168,0.00011535734261469593,6.333256484449629e-05,0.002383220882162913,0.016277943409631093,0.02840089406020464,0.06732899420197548,0.14091102744808143,0.13920382651382582,0.07706968373891218,0.06537744235106643,0.04870116351881252,0.05251566244415842,0.046227662951795076,0.07280575937455352,0.05080077327318541,0.042702372031041505,0.06624100281039817,0.041950459776879924,0.026596211338208643,0.006217248873381197,0.003984867120793629,0.0035900686692094887,0.0004328983498414635],\"yaxis\":\"y\",\"type\":\"bar\"},{\"alignmentgroup\":\"True\",\"customdata\":[[813.007669491988,3.0],[343.465611943163,2.0],[617.9592545767886,3.0],[14927.7390869082,25.0],[73101.81441058991,78.0],[163636.25248424156,191.0],[335652.1346855101,553.0],[730811.1492257961,1232.0],[697157.1239973352,1310.0],[433940.27310888877,873.0],[255033.28585273182,740.0],[267196.56493251026,625.0],[235334.41681136526,650.0],[203713.77330905438,564.0],[298164.4385508458,602.0],[329066.499373072,629.0],[254572.78014360945,576.0],[328088.4841268239,738.0],[218232.93433914715,539.0],[137976.20783799535,361.0],[40884.94150500456,149.0],[8589.542691990911,72.0],[18856.86935525195,32.0],[4010.3878365157243,10.0]],\"hovertemplate\":\"source=survey (update)\\u003cbr\\u003etlvorg_hr=%{x}\\u003cbr\\u003epercentage=%{y}\\u003cbr\\u003etoexpfac=%{customdata[0]}\\u003cbr\\u003esample_count=%{customdata[1]}\\u003cextra\\u003e\\u003c\\u002fextra\\u003e\",\"legendgroup\":\"survey (update)\",\"marker\":{\"color\":\"#00A7A0\",\"pattern\":{\"shape\":\"\"}},\"name\":\"survey (update)\",\"offsetgroup\":\"survey (update)\",\"orientation\":\"v\",\"showlegend\":true,\"textposition\":\"auto\",\"x\":[0,1,2,3,4,5,6,7,8,9,10,11,12,13,14,15,16,17,18,19,20,21,22,23],\"xaxis\":\"x\",\"y\":[0.00016096860251960915,6.800326939422331e-05,0.00012235067559133932,0.002955565352905492,0.014473537395622866,0.032398585981843385,0.06645626736437894,0.1446943907308186,0.13803118002141654,0.08591648266118075,0.050494421098573425,0.05290264688659255,0.04659421260141752,0.04033359417635616,0.05903402242756641,0.06515236759476258,0.05040324488556666,0.06495872889572078,0.04320826454967695,0.027318115425055196,0.008094870620677957,0.0017006563840612382,0.00373349972197238,0.0007940226763284385],\"yaxis\":\"y\",\"type\":\"bar\"}],                        {\"template\":{\"data\":{\"barpolar\":[{\"marker\":{\"line\":{\"color\":\"white\",\"width\":0.5},\"pattern\":{\"fillmode\":\"overlay\",\"size\":10,\"solidity\":0.2}},\"type\":\"barpolar\"}],\"bar\":[{\"error_x\":{\"color\":\"rgb(36,36,36)\"},\"error_y\":{\"color\":\"rgb(36,36,36)\"},\"marker\":{\"line\":{\"color\":\"white\",\"width\":0.5},\"pattern\":{\"fillmode\":\"overlay\",\"size\":10,\"solidity\":0.2}},\"type\":\"bar\"}],\"carpet\":[{\"aaxis\":{\"endlinecolor\":\"rgb(36,36,36)\",\"gridcolor\":\"white\",\"linecolor\":\"white\",\"minorgridcolor\":\"white\",\"startlinecolor\":\"rgb(36,36,36)\"},\"baxis\":{\"endlinecolor\":\"rgb(36,36,36)\",\"gridcolor\":\"white\",\"linecolor\":\"white\",\"minorgridcolor\":\"white\",\"startlinecolor\":\"rgb(36,36,36)\"},\"type\":\"carpet\"}],\"choropleth\":[{\"colorbar\":{\"outlinewidth\":1,\"tickcolor\":\"rgb(36,36,36)\",\"ticks\":\"outside\"},\"type\":\"choropleth\"}],\"contourcarpet\":[{\"colorbar\":{\"outlinewidth\":1,\"tickcolor\":\"rgb(36,36,36)\",\"ticks\":\"outside\"},\"type\":\"contourcarpet\"}],\"contour\":[{\"colorbar\":{\"outlinewidth\":1,\"tickcolor\":\"rgb(36,36,36)\",\"ticks\":\"outside\"},\"colorscale\":[[0.0,\"#440154\"],[0.1111111111111111,\"#482878\"],[0.2222222222222222,\"#3e4989\"],[0.3333333333333333,\"#31688e\"],[0.4444444444444444,\"#26828e\"],[0.5555555555555556,\"#1f9e89\"],[0.6666666666666666,\"#35b779\"],[0.7777777777777778,\"#6ece58\"],[0.8888888888888888,\"#b5de2b\"],[1.0,\"#fde725\"]],\"type\":\"contour\"}],\"heatmapgl\":[{\"colorbar\":{\"outlinewidth\":1,\"tickcolor\":\"rgb(36,36,36)\",\"ticks\":\"outside\"},\"colorscale\":[[0.0,\"#440154\"],[0.1111111111111111,\"#482878\"],[0.2222222222222222,\"#3e4989\"],[0.3333333333333333,\"#31688e\"],[0.4444444444444444,\"#26828e\"],[0.5555555555555556,\"#1f9e89\"],[0.6666666666666666,\"#35b779\"],[0.7777777777777778,\"#6ece58\"],[0.8888888888888888,\"#b5de2b\"],[1.0,\"#fde725\"]],\"type\":\"heatmapgl\"}],\"heatmap\":[{\"colorbar\":{\"outlinewidth\":1,\"tickcolor\":\"rgb(36,36,36)\",\"ticks\":\"outside\"},\"colorscale\":[[0.0,\"#440154\"],[0.1111111111111111,\"#482878\"],[0.2222222222222222,\"#3e4989\"],[0.3333333333333333,\"#31688e\"],[0.4444444444444444,\"#26828e\"],[0.5555555555555556,\"#1f9e89\"],[0.6666666666666666,\"#35b779\"],[0.7777777777777778,\"#6ece58\"],[0.8888888888888888,\"#b5de2b\"],[1.0,\"#fde725\"]],\"type\":\"heatmap\"}],\"histogram2dcontour\":[{\"colorbar\":{\"outlinewidth\":1,\"tickcolor\":\"rgb(36,36,36)\",\"ticks\":\"outside\"},\"colorscale\":[[0.0,\"#440154\"],[0.1111111111111111,\"#482878\"],[0.2222222222222222,\"#3e4989\"],[0.3333333333333333,\"#31688e\"],[0.4444444444444444,\"#26828e\"],[0.5555555555555556,\"#1f9e89\"],[0.6666666666666666,\"#35b779\"],[0.7777777777777778,\"#6ece58\"],[0.8888888888888888,\"#b5de2b\"],[1.0,\"#fde725\"]],\"type\":\"histogram2dcontour\"}],\"histogram2d\":[{\"colorbar\":{\"outlinewidth\":1,\"tickcolor\":\"rgb(36,36,36)\",\"ticks\":\"outside\"},\"colorscale\":[[0.0,\"#440154\"],[0.1111111111111111,\"#482878\"],[0.2222222222222222,\"#3e4989\"],[0.3333333333333333,\"#31688e\"],[0.4444444444444444,\"#26828e\"],[0.5555555555555556,\"#1f9e89\"],[0.6666666666666666,\"#35b779\"],[0.7777777777777778,\"#6ece58\"],[0.8888888888888888,\"#b5de2b\"],[1.0,\"#fde725\"]],\"type\":\"histogram2d\"}],\"histogram\":[{\"marker\":{\"line\":{\"color\":\"white\",\"width\":0.6}},\"type\":\"histogram\"}],\"mesh3d\":[{\"colorbar\":{\"outlinewidth\":1,\"tickcolor\":\"rgb(36,36,36)\",\"ticks\":\"outside\"},\"type\":\"mesh3d\"}],\"parcoords\":[{\"line\":{\"colorbar\":{\"outlinewidth\":1,\"tickcolor\":\"rgb(36,36,36)\",\"ticks\":\"outside\"}},\"type\":\"parcoords\"}],\"pie\":[{\"automargin\":true,\"type\":\"pie\"}],\"scatter3d\":[{\"line\":{\"colorbar\":{\"outlinewidth\":1,\"tickcolor\":\"rgb(36,36,36)\",\"ticks\":\"outside\"}},\"marker\":{\"colorbar\":{\"outlinewidth\":1,\"tickcolor\":\"rgb(36,36,36)\",\"ticks\":\"outside\"}},\"type\":\"scatter3d\"}],\"scattercarpet\":[{\"marker\":{\"colorbar\":{\"outlinewidth\":1,\"tickcolor\":\"rgb(36,36,36)\",\"ticks\":\"outside\"}},\"type\":\"scattercarpet\"}],\"scattergeo\":[{\"marker\":{\"colorbar\":{\"outlinewidth\":1,\"tickcolor\":\"rgb(36,36,36)\",\"ticks\":\"outside\"}},\"type\":\"scattergeo\"}],\"scattergl\":[{\"marker\":{\"colorbar\":{\"outlinewidth\":1,\"tickcolor\":\"rgb(36,36,36)\",\"ticks\":\"outside\"}},\"type\":\"scattergl\"}],\"scattermapbox\":[{\"marker\":{\"colorbar\":{\"outlinewidth\":1,\"tickcolor\":\"rgb(36,36,36)\",\"ticks\":\"outside\"}},\"type\":\"scattermapbox\"}],\"scatterpolargl\":[{\"marker\":{\"colorbar\":{\"outlinewidth\":1,\"tickcolor\":\"rgb(36,36,36)\",\"ticks\":\"outside\"}},\"type\":\"scatterpolargl\"}],\"scatterpolar\":[{\"marker\":{\"colorbar\":{\"outlinewidth\":1,\"tickcolor\":\"rgb(36,36,36)\",\"ticks\":\"outside\"}},\"type\":\"scatterpolar\"}],\"scatter\":[{\"fillpattern\":{\"fillmode\":\"overlay\",\"size\":10,\"solidity\":0.2},\"type\":\"scatter\"}],\"scatterternary\":[{\"marker\":{\"colorbar\":{\"outlinewidth\":1,\"tickcolor\":\"rgb(36,36,36)\",\"ticks\":\"outside\"}},\"type\":\"scatterternary\"}],\"surface\":[{\"colorbar\":{\"outlinewidth\":1,\"tickcolor\":\"rgb(36,36,36)\",\"ticks\":\"outside\"},\"colorscale\":[[0.0,\"#440154\"],[0.1111111111111111,\"#482878\"],[0.2222222222222222,\"#3e4989\"],[0.3333333333333333,\"#31688e\"],[0.4444444444444444,\"#26828e\"],[0.5555555555555556,\"#1f9e89\"],[0.6666666666666666,\"#35b779\"],[0.7777777777777778,\"#6ece58\"],[0.8888888888888888,\"#b5de2b\"],[1.0,\"#fde725\"]],\"type\":\"surface\"}],\"table\":[{\"cells\":{\"fill\":{\"color\":\"rgb(237,237,237)\"},\"line\":{\"color\":\"white\"}},\"header\":{\"fill\":{\"color\":\"rgb(217,217,217)\"},\"line\":{\"color\":\"white\"}},\"type\":\"table\"}]},\"layout\":{\"annotationdefaults\":{\"arrowhead\":0,\"arrowwidth\":1},\"autotypenumbers\":\"strict\",\"coloraxis\":{\"colorbar\":{\"outlinewidth\":1,\"tickcolor\":\"rgb(36,36,36)\",\"ticks\":\"outside\"}},\"colorscale\":{\"diverging\":[[0.0,\"rgb(103,0,31)\"],[0.1,\"rgb(178,24,43)\"],[0.2,\"rgb(214,96,77)\"],[0.3,\"rgb(244,165,130)\"],[0.4,\"rgb(253,219,199)\"],[0.5,\"rgb(247,247,247)\"],[0.6,\"rgb(209,229,240)\"],[0.7,\"rgb(146,197,222)\"],[0.8,\"rgb(67,147,195)\"],[0.9,\"rgb(33,102,172)\"],[1.0,\"rgb(5,48,97)\"]],\"sequential\":[[0.0,\"#440154\"],[0.1111111111111111,\"#482878\"],[0.2222222222222222,\"#3e4989\"],[0.3333333333333333,\"#31688e\"],[0.4444444444444444,\"#26828e\"],[0.5555555555555556,\"#1f9e89\"],[0.6666666666666666,\"#35b779\"],[0.7777777777777778,\"#6ece58\"],[0.8888888888888888,\"#b5de2b\"],[1.0,\"#fde725\"]],\"sequentialminus\":[[0.0,\"#440154\"],[0.1111111111111111,\"#482878\"],[0.2222222222222222,\"#3e4989\"],[0.3333333333333333,\"#31688e\"],[0.4444444444444444,\"#26828e\"],[0.5555555555555556,\"#1f9e89\"],[0.6666666666666666,\"#35b779\"],[0.7777777777777778,\"#6ece58\"],[0.8888888888888888,\"#b5de2b\"],[1.0,\"#fde725\"]]},\"colorway\":[\"#91268F\",\"#8CC63E\",\"#00A7A0\",\"#F05A28\",\"#4C4C4C\",\"#630460\",\"#9f3913\",\"#588527\",\"#00716c\",\"#3e4040\"],\"font\":{\"color\":\"rgb(36,36,36)\",\"family\":\"Poppins\",\"size\":11},\"geo\":{\"bgcolor\":\"white\",\"lakecolor\":\"white\",\"landcolor\":\"white\",\"showlakes\":true,\"showland\":true,\"subunitcolor\":\"white\"},\"hoverlabel\":{\"align\":\"left\"},\"hovermode\":\"closest\",\"mapbox\":{\"style\":\"light\"},\"paper_bgcolor\":\"white\",\"plot_bgcolor\":\"white\",\"polar\":{\"angularaxis\":{\"gridcolor\":\"rgb(232,232,232)\",\"linecolor\":\"rgb(36,36,36)\",\"showgrid\":false,\"showline\":true,\"ticks\":\"outside\"},\"bgcolor\":\"white\",\"radialaxis\":{\"gridcolor\":\"rgb(232,232,232)\",\"linecolor\":\"rgb(36,36,36)\",\"showgrid\":false,\"showline\":true,\"ticks\":\"outside\"}},\"scene\":{\"xaxis\":{\"backgroundcolor\":\"white\",\"gridcolor\":\"rgb(232,232,232)\",\"gridwidth\":2,\"linecolor\":\"rgb(36,36,36)\",\"showbackground\":true,\"showgrid\":false,\"showline\":true,\"ticks\":\"outside\",\"zeroline\":false,\"zerolinecolor\":\"rgb(36,36,36)\"},\"yaxis\":{\"backgroundcolor\":\"white\",\"gridcolor\":\"rgb(232,232,232)\",\"gridwidth\":2,\"linecolor\":\"rgb(36,36,36)\",\"showbackground\":true,\"showgrid\":false,\"showline\":true,\"ticks\":\"outside\",\"zeroline\":false,\"zerolinecolor\":\"rgb(36,36,36)\"},\"zaxis\":{\"backgroundcolor\":\"white\",\"gridcolor\":\"rgb(232,232,232)\",\"gridwidth\":2,\"linecolor\":\"rgb(36,36,36)\",\"showbackground\":true,\"showgrid\":false,\"showline\":true,\"ticks\":\"outside\",\"zeroline\":false,\"zerolinecolor\":\"rgb(36,36,36)\"}},\"shapedefaults\":{\"fillcolor\":\"black\",\"line\":{\"width\":0},\"opacity\":0.3},\"ternary\":{\"aaxis\":{\"gridcolor\":\"rgb(232,232,232)\",\"linecolor\":\"rgb(36,36,36)\",\"showgrid\":false,\"showline\":true,\"ticks\":\"outside\"},\"baxis\":{\"gridcolor\":\"rgb(232,232,232)\",\"linecolor\":\"rgb(36,36,36)\",\"showgrid\":false,\"showline\":true,\"ticks\":\"outside\"},\"bgcolor\":\"white\",\"caxis\":{\"gridcolor\":\"rgb(232,232,232)\",\"linecolor\":\"rgb(36,36,36)\",\"showgrid\":false,\"showline\":true,\"ticks\":\"outside\"}},\"title\":{\"x\":0.05},\"xaxis\":{\"automargin\":true,\"gridcolor\":\"rgb(232,232,232)\",\"linecolor\":\"rgb(36,36,36)\",\"showgrid\":false,\"showline\":true,\"ticks\":\"outside\",\"title\":{\"standoff\":15},\"zeroline\":false,\"zerolinecolor\":\"rgb(36,36,36)\"},\"yaxis\":{\"automargin\":true,\"gridcolor\":\"rgb(232,232,232)\",\"linecolor\":\"rgb(36,36,36)\",\"showgrid\":false,\"showline\":true,\"ticks\":\"outside\",\"title\":{\"standoff\":15},\"zeroline\":false,\"zerolinecolor\":\"rgb(36,36,36)\"}}},\"xaxis\":{\"anchor\":\"y\",\"domain\":[0.0,1.0],\"title\":{\"text\":\"tlvorg_hr\"},\"dtick\":1,\"categoryorder\":\"category ascending\"},\"yaxis\":{\"anchor\":\"x\",\"domain\":[0.0,1.0],\"title\":{\"text\":\"percentage\"},\"tickformat\":\".0%\"},\"legend\":{\"title\":{\"text\":\"source\"},\"tracegroupgap\":0},\"title\":{\"text\":\"tour origin departure hour\"},\"barmode\":\"group\",\"font\":{\"size\":11},\"height\":400,\"width\":700},                        {\"responsive\": true}                    ).then(function(){\n",
       "                            \n",
       "var gd = document.getElementById('e51fb8a3-7055-44f4-9c42-46ff69aa7daa');\n",
       "var x = new MutationObserver(function (mutations, observer) {{\n",
       "        var display = window.getComputedStyle(gd).display;\n",
       "        if (!display || display === 'none') {{\n",
       "            console.log([gd, 'removed!']);\n",
       "            Plotly.purge(gd);\n",
       "            observer.disconnect();\n",
       "        }}\n",
       "}});\n",
       "\n",
       "// Listen for the removal of the full notebook cells\n",
       "var notebookContainer = gd.closest('#notebook-container');\n",
       "if (notebookContainer) {{\n",
       "    x.observe(notebookContainer, {childList: true});\n",
       "}}\n",
       "\n",
       "// Listen for the clearing of the current output cell\n",
       "var outputEl = gd.closest('.output');\n",
       "if (outputEl) {{\n",
       "    x.observe(outputEl, {childList: true});\n",
       "}}\n",
       "\n",
       "                        })                };                });            </script>        </div>"
      ]
     },
     "metadata": {},
     "output_type": "display_data"
    }
   ],
   "source": [
    "df_plot = df_tour.groupby(['tlvorg_hr','source'])['toexpfac'].agg(sample_count='size', toexpfac='sum').reset_index()\n",
    "df_plot['percentage'] = df_plot.groupby(['source'], group_keys=False)['toexpfac']. \\\n",
    "    apply(lambda x: x / float(x.sum()))\n",
    "\n",
    "fig = px.bar(df_plot, x=\"tlvorg_hr\", y=\"percentage\", color=\"source\",\n",
    "             barmode=\"group\",title=\"tour origin departure hour\",\n",
    "             hover_data=['toexpfac','sample_count'])\n",
    "fig.update_layout(height=400, width=700, font=dict(size=11),\n",
    "                  xaxis = dict(dtick = 1, categoryorder='category ascending'),\n",
    "                  yaxis=dict(tickformat=\".0%\"))\n",
    "fig.show()"
   ]
  },
  {
   "cell_type": "raw",
   "metadata": {
    "vscode": {
     "languageId": "raw"
    }
   },
   "source": [
    "### trip"
   ]
  },
  {
   "cell_type": "code",
   "execution_count": 6,
   "metadata": {
    "execution": {
     "iopub.execute_input": "2024-12-11T18:29:23.159523Z",
     "iopub.status.busy": "2024-12-11T18:29:23.158525Z",
     "iopub.status.idle": "2024-12-11T18:29:24.826426Z",
     "shell.execute_reply": "2024-12-11T18:29:24.824915Z"
    }
   },
   "outputs": [
    {
     "data": {
      "application/vnd.plotly.v1+json": {
       "config": {
        "plotlyServerURL": "https://plot.ly"
       },
       "data": [
        {
         "alignmentgroup": "True",
         "customdata": [
          [
           36258.0,
           36258.0
          ],
          [
           27459.0,
           27459.0
          ],
          [
           21287.0,
           21287.0
          ],
          [
           82931.0,
           82931.0
          ],
          [
           90342.0,
           90342.0
          ],
          [
           190699.0,
           190699.0
          ],
          [
           535779.0,
           535779.0
          ],
          [
           907139.0,
           907139.0
          ],
          [
           1089088.0,
           1089088.0
          ],
          [
           1035494.0,
           1035494.0
          ],
          [
           1124246.0,
           1124246.0
          ],
          [
           1096477.0,
           1096477.0
          ],
          [
           1074179.0,
           1074179.0
          ],
          [
           1094891.0,
           1094891.0
          ],
          [
           1024859.0,
           1024859.0
          ],
          [
           1192713.0,
           1192713.0
          ],
          [
           1308913.0,
           1308913.0
          ],
          [
           1267475.0,
           1267475.0
          ],
          [
           1035844.0,
           1035844.0
          ],
          [
           782767.0,
           782767.0
          ],
          [
           632725.0,
           632725.0
          ],
          [
           368513.0,
           368513.0
          ],
          [
           220221.0,
           220221.0
          ],
          [
           160530.0,
           160530.0
          ]
         ],
         "hovertemplate": "source=model<br>dept_hr=%{x}<br>percentage=%{y}<br>trexpfac=%{customdata[0]}<br>sample_count=%{customdata[1]}<extra></extra>",
         "legendgroup": "model",
         "marker": {
          "color": "#91268F",
          "pattern": {
           "shape": ""
          }
         },
         "name": "model",
         "offsetgroup": "model",
         "orientation": "v",
         "showlegend": true,
         "textposition": "auto",
         "type": "bar",
         "x": [
          0,
          1,
          2,
          3,
          4,
          5,
          6,
          7,
          8,
          9,
          10,
          11,
          12,
          13,
          14,
          15,
          16,
          17,
          18,
          19,
          20,
          21,
          22,
          23
         ],
         "xaxis": "x",
         "y": [
          0.002210741908229151,
          0.0016742446372680307,
          0.001297922196493848,
          0.005056512692132818,
          0.005508380094689116,
          0.011627400053985076,
          0.032667799902065926,
          0.055310557777292844,
          0.06640444821417259,
          0.06313668656627053,
          0.06854812034196564,
          0.06685497422112016,
          0.06549540879915278,
          0.06675827179223684,
          0.062488243734508786,
          0.07272272639389143,
          0.07980773410905022,
          0.07728115450749472,
          0.06315802695095474,
          0.04772728256602151,
          0.03857884256948231,
          0.02246916908895276,
          0.013427431015834627,
          0.009787919866733566
         ],
         "yaxis": "y"
        },
        {
         "alignmentgroup": "True",
         "customdata": [
          [
           19181.470996776607,
           34.0
          ],
          [
           2759.038883064306,
           11.0
          ],
          [
           6762.456078694911,
           16.0
          ],
          [
           12035.055594780066,
           30.0
          ],
          [
           78620.55611401159,
           79.0
          ],
          [
           151598.79638180358,
           200.0
          ],
          [
           368783.8374504142,
           644.0
          ],
          [
           1028886.5660521676,
           1594.0
          ],
          [
           1100165.195051661,
           1918.0
          ],
          [
           777473.1236238483,
           1510.0
          ],
          [
           728317.2128644135,
           1538.0
          ],
          [
           837006.3654409132,
           1713.0
          ],
          [
           874931.3290426786,
           1859.0
          ],
          [
           833792.9544792247,
           1738.0
          ],
          [
           1389787.3616315196,
           2084.0
          ],
          [
           1436515.2222431023,
           2379.0
          ],
          [
           1197039.8259130092,
           2386.0
          ],
          [
           1090162.334203585,
           2502.0
          ],
          [
           818318.7684519498,
           1959.0
          ],
          [
           611257.7641078372,
           1373.0
          ],
          [
           459742.03735234437,
           978.0
          ],
          [
           251735.89122060384,
           582.0
          ],
          [
           101433.34084075961,
           245.0
          ],
          [
           55423.98214181331,
           116.0
          ]
         ],
         "hovertemplate": "source=survey<br>dept_hr=%{x}<br>percentage=%{y}<br>trexpfac=%{customdata[0]}<br>sample_count=%{customdata[1]}<extra></extra>",
         "legendgroup": "survey",
         "marker": {
          "color": "#8CC63E",
          "pattern": {
           "shape": ""
          }
         },
         "name": "survey",
         "offsetgroup": "survey",
         "orientation": "v",
         "showlegend": true,
         "textposition": "auto",
         "type": "bar",
         "x": [
          0,
          1,
          2,
          3,
          4,
          5,
          6,
          7,
          8,
          9,
          10,
          11,
          12,
          13,
          14,
          15,
          16,
          17,
          18,
          19,
          20,
          21,
          22,
          23
         ],
         "xaxis": "x",
         "y": [
          0.0013477961106296095,
          0.00019386531284773924,
          0.00047516751987896103,
          0.000845649487705169,
          0.005524314572318715,
          0.010652168865143925,
          0.025912789580228624,
          0.07229525369755022,
          0.07730368391401653,
          0.054629556425331974,
          0.051175590598250414,
          0.0588126908568725,
          0.0614775082969332,
          0.05858689885183044,
          0.09765413721001515,
          0.10093749482116589,
          0.08411063061354472,
          0.07660082765505331,
          0.05749959706219058,
          0.04295034709252175,
          0.032304015158198814,
          0.017688354305570458,
          0.0071272668449837515,
          0.0038943951472175456
         ],
         "yaxis": "y"
        },
        {
         "alignmentgroup": "True",
         "customdata": [
          [
           14160.308952681404,
           37.0
          ],
          [
           1900.757934071786,
           10.0
          ],
          [
           2283.9930541930844,
           18.0
          ],
          [
           13390.245551472604,
           31.0
          ],
          [
           68943.67110386654,
           82.0
          ],
          [
           178211.934880323,
           214.0
          ],
          [
           359682.50962026964,
           676.0
          ],
          [
           1031793.9306389309,
           1625.0
          ],
          [
           1071889.1577198096,
           1961.0
          ],
          [
           774188.8897778265,
           1565.0
          ],
          [
           575816.5334236635,
           1583.0
          ],
          [
           756903.2090077089,
           1781.0
          ],
          [
           743510.2988058319,
           1915.0
          ],
          [
           761845.4420829922,
           1816.0
          ],
          [
           1279128.2945142668,
           2135.0
          ],
          [
           1490503.3097359987,
           2486.0
          ],
          [
           1270243.4395395918,
           2478.0
          ],
          [
           1183379.1799539572,
           2609.0
          ],
          [
           876197.2944875801,
           2047.0
          ],
          [
           597812.540532083,
           1460.0
          ],
          [
           452184.8604427242,
           1035.0
          ],
          [
           200138.7390782372,
           623.0
          ],
          [
           135189.54646263065,
           276.0
          ],
          [
           63204.65503695613,
           133.0
          ]
         ],
         "hovertemplate": "source=survey (update)<br>dept_hr=%{x}<br>percentage=%{y}<br>trexpfac=%{customdata[0]}<br>sample_count=%{customdata[1]}<extra></extra>",
         "legendgroup": "survey (update)",
         "marker": {
          "color": "#00A7A0",
          "pattern": {
           "shape": ""
          }
         },
         "name": "survey (update)",
         "offsetgroup": "survey (update)",
         "orientation": "v",
         "showlegend": true,
         "textposition": "auto",
         "type": "bar",
         "x": [
          0,
          1,
          2,
          3,
          4,
          5,
          6,
          7,
          8,
          9,
          10,
          11,
          12,
          13,
          14,
          15,
          16,
          17,
          18,
          19,
          20,
          21,
          22,
          23
         ],
         "xaxis": "x",
         "y": [
          0.0010185438704902127,
          0.0001367205581109764,
          0.00016428646672642463,
          0.0009631535990059493,
          0.004959083438545962,
          0.012818694459783087,
          0.025871781238705947,
          0.07421641626415804,
          0.07710044569569166,
          0.055687015793218886,
          0.041418192399999595,
          0.05444366550654877,
          0.05348032024058517,
          0.05479915783529563,
          0.09200705212730531,
          0.10721115020513025,
          0.09136796899678251,
          0.08511986668056397,
          0.06302442881879626,
          0.0430003540809633,
          0.032525428609747616,
          0.014395878410349046,
          0.009724115791823171,
          0.004546278911672305
         ],
         "yaxis": "y"
        }
       ],
       "layout": {
        "barmode": "group",
        "font": {
         "size": 11
        },
        "height": 400,
        "legend": {
         "title": {
          "text": "source"
         },
         "tracegroupgap": 0
        },
        "template": {
         "data": {
          "bar": [
           {
            "error_x": {
             "color": "rgb(36,36,36)"
            },
            "error_y": {
             "color": "rgb(36,36,36)"
            },
            "marker": {
             "line": {
              "color": "white",
              "width": 0.5
             },
             "pattern": {
              "fillmode": "overlay",
              "size": 10,
              "solidity": 0.2
             }
            },
            "type": "bar"
           }
          ],
          "barpolar": [
           {
            "marker": {
             "line": {
              "color": "white",
              "width": 0.5
             },
             "pattern": {
              "fillmode": "overlay",
              "size": 10,
              "solidity": 0.2
             }
            },
            "type": "barpolar"
           }
          ],
          "carpet": [
           {
            "aaxis": {
             "endlinecolor": "rgb(36,36,36)",
             "gridcolor": "white",
             "linecolor": "white",
             "minorgridcolor": "white",
             "startlinecolor": "rgb(36,36,36)"
            },
            "baxis": {
             "endlinecolor": "rgb(36,36,36)",
             "gridcolor": "white",
             "linecolor": "white",
             "minorgridcolor": "white",
             "startlinecolor": "rgb(36,36,36)"
            },
            "type": "carpet"
           }
          ],
          "choropleth": [
           {
            "colorbar": {
             "outlinewidth": 1,
             "tickcolor": "rgb(36,36,36)",
             "ticks": "outside"
            },
            "type": "choropleth"
           }
          ],
          "contour": [
           {
            "colorbar": {
             "outlinewidth": 1,
             "tickcolor": "rgb(36,36,36)",
             "ticks": "outside"
            },
            "colorscale": [
             [
              0.0,
              "#440154"
             ],
             [
              0.1111111111111111,
              "#482878"
             ],
             [
              0.2222222222222222,
              "#3e4989"
             ],
             [
              0.3333333333333333,
              "#31688e"
             ],
             [
              0.4444444444444444,
              "#26828e"
             ],
             [
              0.5555555555555556,
              "#1f9e89"
             ],
             [
              0.6666666666666666,
              "#35b779"
             ],
             [
              0.7777777777777778,
              "#6ece58"
             ],
             [
              0.8888888888888888,
              "#b5de2b"
             ],
             [
              1.0,
              "#fde725"
             ]
            ],
            "type": "contour"
           }
          ],
          "contourcarpet": [
           {
            "colorbar": {
             "outlinewidth": 1,
             "tickcolor": "rgb(36,36,36)",
             "ticks": "outside"
            },
            "type": "contourcarpet"
           }
          ],
          "heatmap": [
           {
            "colorbar": {
             "outlinewidth": 1,
             "tickcolor": "rgb(36,36,36)",
             "ticks": "outside"
            },
            "colorscale": [
             [
              0.0,
              "#440154"
             ],
             [
              0.1111111111111111,
              "#482878"
             ],
             [
              0.2222222222222222,
              "#3e4989"
             ],
             [
              0.3333333333333333,
              "#31688e"
             ],
             [
              0.4444444444444444,
              "#26828e"
             ],
             [
              0.5555555555555556,
              "#1f9e89"
             ],
             [
              0.6666666666666666,
              "#35b779"
             ],
             [
              0.7777777777777778,
              "#6ece58"
             ],
             [
              0.8888888888888888,
              "#b5de2b"
             ],
             [
              1.0,
              "#fde725"
             ]
            ],
            "type": "heatmap"
           }
          ],
          "heatmapgl": [
           {
            "colorbar": {
             "outlinewidth": 1,
             "tickcolor": "rgb(36,36,36)",
             "ticks": "outside"
            },
            "colorscale": [
             [
              0.0,
              "#440154"
             ],
             [
              0.1111111111111111,
              "#482878"
             ],
             [
              0.2222222222222222,
              "#3e4989"
             ],
             [
              0.3333333333333333,
              "#31688e"
             ],
             [
              0.4444444444444444,
              "#26828e"
             ],
             [
              0.5555555555555556,
              "#1f9e89"
             ],
             [
              0.6666666666666666,
              "#35b779"
             ],
             [
              0.7777777777777778,
              "#6ece58"
             ],
             [
              0.8888888888888888,
              "#b5de2b"
             ],
             [
              1.0,
              "#fde725"
             ]
            ],
            "type": "heatmapgl"
           }
          ],
          "histogram": [
           {
            "marker": {
             "line": {
              "color": "white",
              "width": 0.6
             }
            },
            "type": "histogram"
           }
          ],
          "histogram2d": [
           {
            "colorbar": {
             "outlinewidth": 1,
             "tickcolor": "rgb(36,36,36)",
             "ticks": "outside"
            },
            "colorscale": [
             [
              0.0,
              "#440154"
             ],
             [
              0.1111111111111111,
              "#482878"
             ],
             [
              0.2222222222222222,
              "#3e4989"
             ],
             [
              0.3333333333333333,
              "#31688e"
             ],
             [
              0.4444444444444444,
              "#26828e"
             ],
             [
              0.5555555555555556,
              "#1f9e89"
             ],
             [
              0.6666666666666666,
              "#35b779"
             ],
             [
              0.7777777777777778,
              "#6ece58"
             ],
             [
              0.8888888888888888,
              "#b5de2b"
             ],
             [
              1.0,
              "#fde725"
             ]
            ],
            "type": "histogram2d"
           }
          ],
          "histogram2dcontour": [
           {
            "colorbar": {
             "outlinewidth": 1,
             "tickcolor": "rgb(36,36,36)",
             "ticks": "outside"
            },
            "colorscale": [
             [
              0.0,
              "#440154"
             ],
             [
              0.1111111111111111,
              "#482878"
             ],
             [
              0.2222222222222222,
              "#3e4989"
             ],
             [
              0.3333333333333333,
              "#31688e"
             ],
             [
              0.4444444444444444,
              "#26828e"
             ],
             [
              0.5555555555555556,
              "#1f9e89"
             ],
             [
              0.6666666666666666,
              "#35b779"
             ],
             [
              0.7777777777777778,
              "#6ece58"
             ],
             [
              0.8888888888888888,
              "#b5de2b"
             ],
             [
              1.0,
              "#fde725"
             ]
            ],
            "type": "histogram2dcontour"
           }
          ],
          "mesh3d": [
           {
            "colorbar": {
             "outlinewidth": 1,
             "tickcolor": "rgb(36,36,36)",
             "ticks": "outside"
            },
            "type": "mesh3d"
           }
          ],
          "parcoords": [
           {
            "line": {
             "colorbar": {
              "outlinewidth": 1,
              "tickcolor": "rgb(36,36,36)",
              "ticks": "outside"
             }
            },
            "type": "parcoords"
           }
          ],
          "pie": [
           {
            "automargin": true,
            "type": "pie"
           }
          ],
          "scatter": [
           {
            "fillpattern": {
             "fillmode": "overlay",
             "size": 10,
             "solidity": 0.2
            },
            "type": "scatter"
           }
          ],
          "scatter3d": [
           {
            "line": {
             "colorbar": {
              "outlinewidth": 1,
              "tickcolor": "rgb(36,36,36)",
              "ticks": "outside"
             }
            },
            "marker": {
             "colorbar": {
              "outlinewidth": 1,
              "tickcolor": "rgb(36,36,36)",
              "ticks": "outside"
             }
            },
            "type": "scatter3d"
           }
          ],
          "scattercarpet": [
           {
            "marker": {
             "colorbar": {
              "outlinewidth": 1,
              "tickcolor": "rgb(36,36,36)",
              "ticks": "outside"
             }
            },
            "type": "scattercarpet"
           }
          ],
          "scattergeo": [
           {
            "marker": {
             "colorbar": {
              "outlinewidth": 1,
              "tickcolor": "rgb(36,36,36)",
              "ticks": "outside"
             }
            },
            "type": "scattergeo"
           }
          ],
          "scattergl": [
           {
            "marker": {
             "colorbar": {
              "outlinewidth": 1,
              "tickcolor": "rgb(36,36,36)",
              "ticks": "outside"
             }
            },
            "type": "scattergl"
           }
          ],
          "scattermapbox": [
           {
            "marker": {
             "colorbar": {
              "outlinewidth": 1,
              "tickcolor": "rgb(36,36,36)",
              "ticks": "outside"
             }
            },
            "type": "scattermapbox"
           }
          ],
          "scatterpolar": [
           {
            "marker": {
             "colorbar": {
              "outlinewidth": 1,
              "tickcolor": "rgb(36,36,36)",
              "ticks": "outside"
             }
            },
            "type": "scatterpolar"
           }
          ],
          "scatterpolargl": [
           {
            "marker": {
             "colorbar": {
              "outlinewidth": 1,
              "tickcolor": "rgb(36,36,36)",
              "ticks": "outside"
             }
            },
            "type": "scatterpolargl"
           }
          ],
          "scatterternary": [
           {
            "marker": {
             "colorbar": {
              "outlinewidth": 1,
              "tickcolor": "rgb(36,36,36)",
              "ticks": "outside"
             }
            },
            "type": "scatterternary"
           }
          ],
          "surface": [
           {
            "colorbar": {
             "outlinewidth": 1,
             "tickcolor": "rgb(36,36,36)",
             "ticks": "outside"
            },
            "colorscale": [
             [
              0.0,
              "#440154"
             ],
             [
              0.1111111111111111,
              "#482878"
             ],
             [
              0.2222222222222222,
              "#3e4989"
             ],
             [
              0.3333333333333333,
              "#31688e"
             ],
             [
              0.4444444444444444,
              "#26828e"
             ],
             [
              0.5555555555555556,
              "#1f9e89"
             ],
             [
              0.6666666666666666,
              "#35b779"
             ],
             [
              0.7777777777777778,
              "#6ece58"
             ],
             [
              0.8888888888888888,
              "#b5de2b"
             ],
             [
              1.0,
              "#fde725"
             ]
            ],
            "type": "surface"
           }
          ],
          "table": [
           {
            "cells": {
             "fill": {
              "color": "rgb(237,237,237)"
             },
             "line": {
              "color": "white"
             }
            },
            "header": {
             "fill": {
              "color": "rgb(217,217,217)"
             },
             "line": {
              "color": "white"
             }
            },
            "type": "table"
           }
          ]
         },
         "layout": {
          "annotationdefaults": {
           "arrowhead": 0,
           "arrowwidth": 1
          },
          "autotypenumbers": "strict",
          "coloraxis": {
           "colorbar": {
            "outlinewidth": 1,
            "tickcolor": "rgb(36,36,36)",
            "ticks": "outside"
           }
          },
          "colorscale": {
           "diverging": [
            [
             0.0,
             "rgb(103,0,31)"
            ],
            [
             0.1,
             "rgb(178,24,43)"
            ],
            [
             0.2,
             "rgb(214,96,77)"
            ],
            [
             0.3,
             "rgb(244,165,130)"
            ],
            [
             0.4,
             "rgb(253,219,199)"
            ],
            [
             0.5,
             "rgb(247,247,247)"
            ],
            [
             0.6,
             "rgb(209,229,240)"
            ],
            [
             0.7,
             "rgb(146,197,222)"
            ],
            [
             0.8,
             "rgb(67,147,195)"
            ],
            [
             0.9,
             "rgb(33,102,172)"
            ],
            [
             1.0,
             "rgb(5,48,97)"
            ]
           ],
           "sequential": [
            [
             0.0,
             "#440154"
            ],
            [
             0.1111111111111111,
             "#482878"
            ],
            [
             0.2222222222222222,
             "#3e4989"
            ],
            [
             0.3333333333333333,
             "#31688e"
            ],
            [
             0.4444444444444444,
             "#26828e"
            ],
            [
             0.5555555555555556,
             "#1f9e89"
            ],
            [
             0.6666666666666666,
             "#35b779"
            ],
            [
             0.7777777777777778,
             "#6ece58"
            ],
            [
             0.8888888888888888,
             "#b5de2b"
            ],
            [
             1.0,
             "#fde725"
            ]
           ],
           "sequentialminus": [
            [
             0.0,
             "#440154"
            ],
            [
             0.1111111111111111,
             "#482878"
            ],
            [
             0.2222222222222222,
             "#3e4989"
            ],
            [
             0.3333333333333333,
             "#31688e"
            ],
            [
             0.4444444444444444,
             "#26828e"
            ],
            [
             0.5555555555555556,
             "#1f9e89"
            ],
            [
             0.6666666666666666,
             "#35b779"
            ],
            [
             0.7777777777777778,
             "#6ece58"
            ],
            [
             0.8888888888888888,
             "#b5de2b"
            ],
            [
             1.0,
             "#fde725"
            ]
           ]
          },
          "colorway": [
           "#91268F",
           "#8CC63E",
           "#00A7A0",
           "#F05A28",
           "#4C4C4C",
           "#630460",
           "#9f3913",
           "#588527",
           "#00716c",
           "#3e4040"
          ],
          "font": {
           "color": "rgb(36,36,36)",
           "family": "Poppins",
           "size": 11
          },
          "geo": {
           "bgcolor": "white",
           "lakecolor": "white",
           "landcolor": "white",
           "showlakes": true,
           "showland": true,
           "subunitcolor": "white"
          },
          "hoverlabel": {
           "align": "left"
          },
          "hovermode": "closest",
          "mapbox": {
           "style": "light"
          },
          "paper_bgcolor": "white",
          "plot_bgcolor": "white",
          "polar": {
           "angularaxis": {
            "gridcolor": "rgb(232,232,232)",
            "linecolor": "rgb(36,36,36)",
            "showgrid": false,
            "showline": true,
            "ticks": "outside"
           },
           "bgcolor": "white",
           "radialaxis": {
            "gridcolor": "rgb(232,232,232)",
            "linecolor": "rgb(36,36,36)",
            "showgrid": false,
            "showline": true,
            "ticks": "outside"
           }
          },
          "scene": {
           "xaxis": {
            "backgroundcolor": "white",
            "gridcolor": "rgb(232,232,232)",
            "gridwidth": 2,
            "linecolor": "rgb(36,36,36)",
            "showbackground": true,
            "showgrid": false,
            "showline": true,
            "ticks": "outside",
            "zeroline": false,
            "zerolinecolor": "rgb(36,36,36)"
           },
           "yaxis": {
            "backgroundcolor": "white",
            "gridcolor": "rgb(232,232,232)",
            "gridwidth": 2,
            "linecolor": "rgb(36,36,36)",
            "showbackground": true,
            "showgrid": false,
            "showline": true,
            "ticks": "outside",
            "zeroline": false,
            "zerolinecolor": "rgb(36,36,36)"
           },
           "zaxis": {
            "backgroundcolor": "white",
            "gridcolor": "rgb(232,232,232)",
            "gridwidth": 2,
            "linecolor": "rgb(36,36,36)",
            "showbackground": true,
            "showgrid": false,
            "showline": true,
            "ticks": "outside",
            "zeroline": false,
            "zerolinecolor": "rgb(36,36,36)"
           }
          },
          "shapedefaults": {
           "fillcolor": "black",
           "line": {
            "width": 0
           },
           "opacity": 0.3
          },
          "ternary": {
           "aaxis": {
            "gridcolor": "rgb(232,232,232)",
            "linecolor": "rgb(36,36,36)",
            "showgrid": false,
            "showline": true,
            "ticks": "outside"
           },
           "baxis": {
            "gridcolor": "rgb(232,232,232)",
            "linecolor": "rgb(36,36,36)",
            "showgrid": false,
            "showline": true,
            "ticks": "outside"
           },
           "bgcolor": "white",
           "caxis": {
            "gridcolor": "rgb(232,232,232)",
            "linecolor": "rgb(36,36,36)",
            "showgrid": false,
            "showline": true,
            "ticks": "outside"
           }
          },
          "title": {
           "x": 0.05
          },
          "xaxis": {
           "automargin": true,
           "gridcolor": "rgb(232,232,232)",
           "linecolor": "rgb(36,36,36)",
           "showgrid": false,
           "showline": true,
           "ticks": "outside",
           "title": {
            "standoff": 15
           },
           "zeroline": false,
           "zerolinecolor": "rgb(36,36,36)"
          },
          "yaxis": {
           "automargin": true,
           "gridcolor": "rgb(232,232,232)",
           "linecolor": "rgb(36,36,36)",
           "showgrid": false,
           "showline": true,
           "ticks": "outside",
           "title": {
            "standoff": 15
           },
           "zeroline": false,
           "zerolinecolor": "rgb(36,36,36)"
          }
         }
        },
        "title": {
         "text": "trip origin departure hour"
        },
        "width": 700,
        "xaxis": {
         "anchor": "y",
         "categoryorder": "category ascending",
         "domain": [
          0.0,
          1.0
         ],
         "dtick": 1,
         "title": {
          "text": "dept_hr"
         }
        },
        "yaxis": {
         "anchor": "x",
         "domain": [
          0.0,
          1.0
         ],
         "tickformat": ".0%",
         "title": {
          "text": "percentage"
         }
        }
       }
      },
      "text/html": [
       "<div>                            <div id=\"704498a7-c075-49c9-876b-fce8b0bea451\" class=\"plotly-graph-div\" style=\"height:400px; width:700px;\"></div>            <script type=\"text/javascript\">                require([\"plotly\"], function(Plotly) {                    window.PLOTLYENV=window.PLOTLYENV || {};                                    if (document.getElementById(\"704498a7-c075-49c9-876b-fce8b0bea451\")) {                    Plotly.newPlot(                        \"704498a7-c075-49c9-876b-fce8b0bea451\",                        [{\"alignmentgroup\":\"True\",\"customdata\":[[36258.0,36258.0],[27459.0,27459.0],[21287.0,21287.0],[82931.0,82931.0],[90342.0,90342.0],[190699.0,190699.0],[535779.0,535779.0],[907139.0,907139.0],[1089088.0,1089088.0],[1035494.0,1035494.0],[1124246.0,1124246.0],[1096477.0,1096477.0],[1074179.0,1074179.0],[1094891.0,1094891.0],[1024859.0,1024859.0],[1192713.0,1192713.0],[1308913.0,1308913.0],[1267475.0,1267475.0],[1035844.0,1035844.0],[782767.0,782767.0],[632725.0,632725.0],[368513.0,368513.0],[220221.0,220221.0],[160530.0,160530.0]],\"hovertemplate\":\"source=model\\u003cbr\\u003edept_hr=%{x}\\u003cbr\\u003epercentage=%{y}\\u003cbr\\u003etrexpfac=%{customdata[0]}\\u003cbr\\u003esample_count=%{customdata[1]}\\u003cextra\\u003e\\u003c\\u002fextra\\u003e\",\"legendgroup\":\"model\",\"marker\":{\"color\":\"#91268F\",\"pattern\":{\"shape\":\"\"}},\"name\":\"model\",\"offsetgroup\":\"model\",\"orientation\":\"v\",\"showlegend\":true,\"textposition\":\"auto\",\"x\":[0,1,2,3,4,5,6,7,8,9,10,11,12,13,14,15,16,17,18,19,20,21,22,23],\"xaxis\":\"x\",\"y\":[0.002210741908229151,0.0016742446372680307,0.001297922196493848,0.005056512692132818,0.005508380094689116,0.011627400053985076,0.032667799902065926,0.055310557777292844,0.06640444821417259,0.06313668656627053,0.06854812034196564,0.06685497422112016,0.06549540879915278,0.06675827179223684,0.062488243734508786,0.07272272639389143,0.07980773410905022,0.07728115450749472,0.06315802695095474,0.04772728256602151,0.03857884256948231,0.02246916908895276,0.013427431015834627,0.009787919866733566],\"yaxis\":\"y\",\"type\":\"bar\"},{\"alignmentgroup\":\"True\",\"customdata\":[[19181.470996776607,34.0],[2759.038883064306,11.0],[6762.456078694911,16.0],[12035.055594780066,30.0],[78620.55611401159,79.0],[151598.79638180358,200.0],[368783.8374504142,644.0],[1028886.5660521676,1594.0],[1100165.195051661,1918.0],[777473.1236238483,1510.0],[728317.2128644135,1538.0],[837006.3654409132,1713.0],[874931.3290426786,1859.0],[833792.9544792247,1738.0],[1389787.3616315196,2084.0],[1436515.2222431023,2379.0],[1197039.8259130092,2386.0],[1090162.334203585,2502.0],[818318.7684519498,1959.0],[611257.7641078372,1373.0],[459742.03735234437,978.0],[251735.89122060384,582.0],[101433.34084075961,245.0],[55423.98214181331,116.0]],\"hovertemplate\":\"source=survey\\u003cbr\\u003edept_hr=%{x}\\u003cbr\\u003epercentage=%{y}\\u003cbr\\u003etrexpfac=%{customdata[0]}\\u003cbr\\u003esample_count=%{customdata[1]}\\u003cextra\\u003e\\u003c\\u002fextra\\u003e\",\"legendgroup\":\"survey\",\"marker\":{\"color\":\"#8CC63E\",\"pattern\":{\"shape\":\"\"}},\"name\":\"survey\",\"offsetgroup\":\"survey\",\"orientation\":\"v\",\"showlegend\":true,\"textposition\":\"auto\",\"x\":[0,1,2,3,4,5,6,7,8,9,10,11,12,13,14,15,16,17,18,19,20,21,22,23],\"xaxis\":\"x\",\"y\":[0.0013477961106296095,0.00019386531284773924,0.00047516751987896103,0.000845649487705169,0.005524314572318715,0.010652168865143925,0.025912789580228624,0.07229525369755022,0.07730368391401653,0.054629556425331974,0.051175590598250414,0.0588126908568725,0.0614775082969332,0.05858689885183044,0.09765413721001515,0.10093749482116589,0.08411063061354472,0.07660082765505331,0.05749959706219058,0.04295034709252175,0.032304015158198814,0.017688354305570458,0.0071272668449837515,0.0038943951472175456],\"yaxis\":\"y\",\"type\":\"bar\"},{\"alignmentgroup\":\"True\",\"customdata\":[[14160.308952681404,37.0],[1900.757934071786,10.0],[2283.9930541930844,18.0],[13390.245551472604,31.0],[68943.67110386654,82.0],[178211.934880323,214.0],[359682.50962026964,676.0],[1031793.9306389309,1625.0],[1071889.1577198096,1961.0],[774188.8897778265,1565.0],[575816.5334236635,1583.0],[756903.2090077089,1781.0],[743510.2988058319,1915.0],[761845.4420829922,1816.0],[1279128.2945142668,2135.0],[1490503.3097359987,2486.0],[1270243.4395395918,2478.0],[1183379.1799539572,2609.0],[876197.2944875801,2047.0],[597812.540532083,1460.0],[452184.8604427242,1035.0],[200138.7390782372,623.0],[135189.54646263065,276.0],[63204.65503695613,133.0]],\"hovertemplate\":\"source=survey (update)\\u003cbr\\u003edept_hr=%{x}\\u003cbr\\u003epercentage=%{y}\\u003cbr\\u003etrexpfac=%{customdata[0]}\\u003cbr\\u003esample_count=%{customdata[1]}\\u003cextra\\u003e\\u003c\\u002fextra\\u003e\",\"legendgroup\":\"survey (update)\",\"marker\":{\"color\":\"#00A7A0\",\"pattern\":{\"shape\":\"\"}},\"name\":\"survey (update)\",\"offsetgroup\":\"survey (update)\",\"orientation\":\"v\",\"showlegend\":true,\"textposition\":\"auto\",\"x\":[0,1,2,3,4,5,6,7,8,9,10,11,12,13,14,15,16,17,18,19,20,21,22,23],\"xaxis\":\"x\",\"y\":[0.0010185438704902127,0.0001367205581109764,0.00016428646672642463,0.0009631535990059493,0.004959083438545962,0.012818694459783087,0.025871781238705947,0.07421641626415804,0.07710044569569166,0.055687015793218886,0.041418192399999595,0.05444366550654877,0.05348032024058517,0.05479915783529563,0.09200705212730531,0.10721115020513025,0.09136796899678251,0.08511986668056397,0.06302442881879626,0.0430003540809633,0.032525428609747616,0.014395878410349046,0.009724115791823171,0.004546278911672305],\"yaxis\":\"y\",\"type\":\"bar\"}],                        {\"template\":{\"data\":{\"barpolar\":[{\"marker\":{\"line\":{\"color\":\"white\",\"width\":0.5},\"pattern\":{\"fillmode\":\"overlay\",\"size\":10,\"solidity\":0.2}},\"type\":\"barpolar\"}],\"bar\":[{\"error_x\":{\"color\":\"rgb(36,36,36)\"},\"error_y\":{\"color\":\"rgb(36,36,36)\"},\"marker\":{\"line\":{\"color\":\"white\",\"width\":0.5},\"pattern\":{\"fillmode\":\"overlay\",\"size\":10,\"solidity\":0.2}},\"type\":\"bar\"}],\"carpet\":[{\"aaxis\":{\"endlinecolor\":\"rgb(36,36,36)\",\"gridcolor\":\"white\",\"linecolor\":\"white\",\"minorgridcolor\":\"white\",\"startlinecolor\":\"rgb(36,36,36)\"},\"baxis\":{\"endlinecolor\":\"rgb(36,36,36)\",\"gridcolor\":\"white\",\"linecolor\":\"white\",\"minorgridcolor\":\"white\",\"startlinecolor\":\"rgb(36,36,36)\"},\"type\":\"carpet\"}],\"choropleth\":[{\"colorbar\":{\"outlinewidth\":1,\"tickcolor\":\"rgb(36,36,36)\",\"ticks\":\"outside\"},\"type\":\"choropleth\"}],\"contourcarpet\":[{\"colorbar\":{\"outlinewidth\":1,\"tickcolor\":\"rgb(36,36,36)\",\"ticks\":\"outside\"},\"type\":\"contourcarpet\"}],\"contour\":[{\"colorbar\":{\"outlinewidth\":1,\"tickcolor\":\"rgb(36,36,36)\",\"ticks\":\"outside\"},\"colorscale\":[[0.0,\"#440154\"],[0.1111111111111111,\"#482878\"],[0.2222222222222222,\"#3e4989\"],[0.3333333333333333,\"#31688e\"],[0.4444444444444444,\"#26828e\"],[0.5555555555555556,\"#1f9e89\"],[0.6666666666666666,\"#35b779\"],[0.7777777777777778,\"#6ece58\"],[0.8888888888888888,\"#b5de2b\"],[1.0,\"#fde725\"]],\"type\":\"contour\"}],\"heatmapgl\":[{\"colorbar\":{\"outlinewidth\":1,\"tickcolor\":\"rgb(36,36,36)\",\"ticks\":\"outside\"},\"colorscale\":[[0.0,\"#440154\"],[0.1111111111111111,\"#482878\"],[0.2222222222222222,\"#3e4989\"],[0.3333333333333333,\"#31688e\"],[0.4444444444444444,\"#26828e\"],[0.5555555555555556,\"#1f9e89\"],[0.6666666666666666,\"#35b779\"],[0.7777777777777778,\"#6ece58\"],[0.8888888888888888,\"#b5de2b\"],[1.0,\"#fde725\"]],\"type\":\"heatmapgl\"}],\"heatmap\":[{\"colorbar\":{\"outlinewidth\":1,\"tickcolor\":\"rgb(36,36,36)\",\"ticks\":\"outside\"},\"colorscale\":[[0.0,\"#440154\"],[0.1111111111111111,\"#482878\"],[0.2222222222222222,\"#3e4989\"],[0.3333333333333333,\"#31688e\"],[0.4444444444444444,\"#26828e\"],[0.5555555555555556,\"#1f9e89\"],[0.6666666666666666,\"#35b779\"],[0.7777777777777778,\"#6ece58\"],[0.8888888888888888,\"#b5de2b\"],[1.0,\"#fde725\"]],\"type\":\"heatmap\"}],\"histogram2dcontour\":[{\"colorbar\":{\"outlinewidth\":1,\"tickcolor\":\"rgb(36,36,36)\",\"ticks\":\"outside\"},\"colorscale\":[[0.0,\"#440154\"],[0.1111111111111111,\"#482878\"],[0.2222222222222222,\"#3e4989\"],[0.3333333333333333,\"#31688e\"],[0.4444444444444444,\"#26828e\"],[0.5555555555555556,\"#1f9e89\"],[0.6666666666666666,\"#35b779\"],[0.7777777777777778,\"#6ece58\"],[0.8888888888888888,\"#b5de2b\"],[1.0,\"#fde725\"]],\"type\":\"histogram2dcontour\"}],\"histogram2d\":[{\"colorbar\":{\"outlinewidth\":1,\"tickcolor\":\"rgb(36,36,36)\",\"ticks\":\"outside\"},\"colorscale\":[[0.0,\"#440154\"],[0.1111111111111111,\"#482878\"],[0.2222222222222222,\"#3e4989\"],[0.3333333333333333,\"#31688e\"],[0.4444444444444444,\"#26828e\"],[0.5555555555555556,\"#1f9e89\"],[0.6666666666666666,\"#35b779\"],[0.7777777777777778,\"#6ece58\"],[0.8888888888888888,\"#b5de2b\"],[1.0,\"#fde725\"]],\"type\":\"histogram2d\"}],\"histogram\":[{\"marker\":{\"line\":{\"color\":\"white\",\"width\":0.6}},\"type\":\"histogram\"}],\"mesh3d\":[{\"colorbar\":{\"outlinewidth\":1,\"tickcolor\":\"rgb(36,36,36)\",\"ticks\":\"outside\"},\"type\":\"mesh3d\"}],\"parcoords\":[{\"line\":{\"colorbar\":{\"outlinewidth\":1,\"tickcolor\":\"rgb(36,36,36)\",\"ticks\":\"outside\"}},\"type\":\"parcoords\"}],\"pie\":[{\"automargin\":true,\"type\":\"pie\"}],\"scatter3d\":[{\"line\":{\"colorbar\":{\"outlinewidth\":1,\"tickcolor\":\"rgb(36,36,36)\",\"ticks\":\"outside\"}},\"marker\":{\"colorbar\":{\"outlinewidth\":1,\"tickcolor\":\"rgb(36,36,36)\",\"ticks\":\"outside\"}},\"type\":\"scatter3d\"}],\"scattercarpet\":[{\"marker\":{\"colorbar\":{\"outlinewidth\":1,\"tickcolor\":\"rgb(36,36,36)\",\"ticks\":\"outside\"}},\"type\":\"scattercarpet\"}],\"scattergeo\":[{\"marker\":{\"colorbar\":{\"outlinewidth\":1,\"tickcolor\":\"rgb(36,36,36)\",\"ticks\":\"outside\"}},\"type\":\"scattergeo\"}],\"scattergl\":[{\"marker\":{\"colorbar\":{\"outlinewidth\":1,\"tickcolor\":\"rgb(36,36,36)\",\"ticks\":\"outside\"}},\"type\":\"scattergl\"}],\"scattermapbox\":[{\"marker\":{\"colorbar\":{\"outlinewidth\":1,\"tickcolor\":\"rgb(36,36,36)\",\"ticks\":\"outside\"}},\"type\":\"scattermapbox\"}],\"scatterpolargl\":[{\"marker\":{\"colorbar\":{\"outlinewidth\":1,\"tickcolor\":\"rgb(36,36,36)\",\"ticks\":\"outside\"}},\"type\":\"scatterpolargl\"}],\"scatterpolar\":[{\"marker\":{\"colorbar\":{\"outlinewidth\":1,\"tickcolor\":\"rgb(36,36,36)\",\"ticks\":\"outside\"}},\"type\":\"scatterpolar\"}],\"scatter\":[{\"fillpattern\":{\"fillmode\":\"overlay\",\"size\":10,\"solidity\":0.2},\"type\":\"scatter\"}],\"scatterternary\":[{\"marker\":{\"colorbar\":{\"outlinewidth\":1,\"tickcolor\":\"rgb(36,36,36)\",\"ticks\":\"outside\"}},\"type\":\"scatterternary\"}],\"surface\":[{\"colorbar\":{\"outlinewidth\":1,\"tickcolor\":\"rgb(36,36,36)\",\"ticks\":\"outside\"},\"colorscale\":[[0.0,\"#440154\"],[0.1111111111111111,\"#482878\"],[0.2222222222222222,\"#3e4989\"],[0.3333333333333333,\"#31688e\"],[0.4444444444444444,\"#26828e\"],[0.5555555555555556,\"#1f9e89\"],[0.6666666666666666,\"#35b779\"],[0.7777777777777778,\"#6ece58\"],[0.8888888888888888,\"#b5de2b\"],[1.0,\"#fde725\"]],\"type\":\"surface\"}],\"table\":[{\"cells\":{\"fill\":{\"color\":\"rgb(237,237,237)\"},\"line\":{\"color\":\"white\"}},\"header\":{\"fill\":{\"color\":\"rgb(217,217,217)\"},\"line\":{\"color\":\"white\"}},\"type\":\"table\"}]},\"layout\":{\"annotationdefaults\":{\"arrowhead\":0,\"arrowwidth\":1},\"autotypenumbers\":\"strict\",\"coloraxis\":{\"colorbar\":{\"outlinewidth\":1,\"tickcolor\":\"rgb(36,36,36)\",\"ticks\":\"outside\"}},\"colorscale\":{\"diverging\":[[0.0,\"rgb(103,0,31)\"],[0.1,\"rgb(178,24,43)\"],[0.2,\"rgb(214,96,77)\"],[0.3,\"rgb(244,165,130)\"],[0.4,\"rgb(253,219,199)\"],[0.5,\"rgb(247,247,247)\"],[0.6,\"rgb(209,229,240)\"],[0.7,\"rgb(146,197,222)\"],[0.8,\"rgb(67,147,195)\"],[0.9,\"rgb(33,102,172)\"],[1.0,\"rgb(5,48,97)\"]],\"sequential\":[[0.0,\"#440154\"],[0.1111111111111111,\"#482878\"],[0.2222222222222222,\"#3e4989\"],[0.3333333333333333,\"#31688e\"],[0.4444444444444444,\"#26828e\"],[0.5555555555555556,\"#1f9e89\"],[0.6666666666666666,\"#35b779\"],[0.7777777777777778,\"#6ece58\"],[0.8888888888888888,\"#b5de2b\"],[1.0,\"#fde725\"]],\"sequentialminus\":[[0.0,\"#440154\"],[0.1111111111111111,\"#482878\"],[0.2222222222222222,\"#3e4989\"],[0.3333333333333333,\"#31688e\"],[0.4444444444444444,\"#26828e\"],[0.5555555555555556,\"#1f9e89\"],[0.6666666666666666,\"#35b779\"],[0.7777777777777778,\"#6ece58\"],[0.8888888888888888,\"#b5de2b\"],[1.0,\"#fde725\"]]},\"colorway\":[\"#91268F\",\"#8CC63E\",\"#00A7A0\",\"#F05A28\",\"#4C4C4C\",\"#630460\",\"#9f3913\",\"#588527\",\"#00716c\",\"#3e4040\"],\"font\":{\"color\":\"rgb(36,36,36)\",\"family\":\"Poppins\",\"size\":11},\"geo\":{\"bgcolor\":\"white\",\"lakecolor\":\"white\",\"landcolor\":\"white\",\"showlakes\":true,\"showland\":true,\"subunitcolor\":\"white\"},\"hoverlabel\":{\"align\":\"left\"},\"hovermode\":\"closest\",\"mapbox\":{\"style\":\"light\"},\"paper_bgcolor\":\"white\",\"plot_bgcolor\":\"white\",\"polar\":{\"angularaxis\":{\"gridcolor\":\"rgb(232,232,232)\",\"linecolor\":\"rgb(36,36,36)\",\"showgrid\":false,\"showline\":true,\"ticks\":\"outside\"},\"bgcolor\":\"white\",\"radialaxis\":{\"gridcolor\":\"rgb(232,232,232)\",\"linecolor\":\"rgb(36,36,36)\",\"showgrid\":false,\"showline\":true,\"ticks\":\"outside\"}},\"scene\":{\"xaxis\":{\"backgroundcolor\":\"white\",\"gridcolor\":\"rgb(232,232,232)\",\"gridwidth\":2,\"linecolor\":\"rgb(36,36,36)\",\"showbackground\":true,\"showgrid\":false,\"showline\":true,\"ticks\":\"outside\",\"zeroline\":false,\"zerolinecolor\":\"rgb(36,36,36)\"},\"yaxis\":{\"backgroundcolor\":\"white\",\"gridcolor\":\"rgb(232,232,232)\",\"gridwidth\":2,\"linecolor\":\"rgb(36,36,36)\",\"showbackground\":true,\"showgrid\":false,\"showline\":true,\"ticks\":\"outside\",\"zeroline\":false,\"zerolinecolor\":\"rgb(36,36,36)\"},\"zaxis\":{\"backgroundcolor\":\"white\",\"gridcolor\":\"rgb(232,232,232)\",\"gridwidth\":2,\"linecolor\":\"rgb(36,36,36)\",\"showbackground\":true,\"showgrid\":false,\"showline\":true,\"ticks\":\"outside\",\"zeroline\":false,\"zerolinecolor\":\"rgb(36,36,36)\"}},\"shapedefaults\":{\"fillcolor\":\"black\",\"line\":{\"width\":0},\"opacity\":0.3},\"ternary\":{\"aaxis\":{\"gridcolor\":\"rgb(232,232,232)\",\"linecolor\":\"rgb(36,36,36)\",\"showgrid\":false,\"showline\":true,\"ticks\":\"outside\"},\"baxis\":{\"gridcolor\":\"rgb(232,232,232)\",\"linecolor\":\"rgb(36,36,36)\",\"showgrid\":false,\"showline\":true,\"ticks\":\"outside\"},\"bgcolor\":\"white\",\"caxis\":{\"gridcolor\":\"rgb(232,232,232)\",\"linecolor\":\"rgb(36,36,36)\",\"showgrid\":false,\"showline\":true,\"ticks\":\"outside\"}},\"title\":{\"x\":0.05},\"xaxis\":{\"automargin\":true,\"gridcolor\":\"rgb(232,232,232)\",\"linecolor\":\"rgb(36,36,36)\",\"showgrid\":false,\"showline\":true,\"ticks\":\"outside\",\"title\":{\"standoff\":15},\"zeroline\":false,\"zerolinecolor\":\"rgb(36,36,36)\"},\"yaxis\":{\"automargin\":true,\"gridcolor\":\"rgb(232,232,232)\",\"linecolor\":\"rgb(36,36,36)\",\"showgrid\":false,\"showline\":true,\"ticks\":\"outside\",\"title\":{\"standoff\":15},\"zeroline\":false,\"zerolinecolor\":\"rgb(36,36,36)\"}}},\"xaxis\":{\"anchor\":\"y\",\"domain\":[0.0,1.0],\"title\":{\"text\":\"dept_hr\"},\"dtick\":1,\"categoryorder\":\"category ascending\"},\"yaxis\":{\"anchor\":\"x\",\"domain\":[0.0,1.0],\"title\":{\"text\":\"percentage\"},\"tickformat\":\".0%\"},\"legend\":{\"title\":{\"text\":\"source\"},\"tracegroupgap\":0},\"title\":{\"text\":\"trip origin departure hour\"},\"barmode\":\"group\",\"font\":{\"size\":11},\"height\":400,\"width\":700},                        {\"responsive\": true}                    ).then(function(){\n",
       "                            \n",
       "var gd = document.getElementById('704498a7-c075-49c9-876b-fce8b0bea451');\n",
       "var x = new MutationObserver(function (mutations, observer) {{\n",
       "        var display = window.getComputedStyle(gd).display;\n",
       "        if (!display || display === 'none') {{\n",
       "            console.log([gd, 'removed!']);\n",
       "            Plotly.purge(gd);\n",
       "            observer.disconnect();\n",
       "        }}\n",
       "}});\n",
       "\n",
       "// Listen for the removal of the full notebook cells\n",
       "var notebookContainer = gd.closest('#notebook-container');\n",
       "if (notebookContainer) {{\n",
       "    x.observe(notebookContainer, {childList: true});\n",
       "}}\n",
       "\n",
       "// Listen for the clearing of the current output cell\n",
       "var outputEl = gd.closest('.output');\n",
       "if (outputEl) {{\n",
       "    x.observe(outputEl, {childList: true});\n",
       "}}\n",
       "\n",
       "                        })                };                });            </script>        </div>"
      ]
     },
     "metadata": {},
     "output_type": "display_data"
    }
   ],
   "source": [
    "df_plot = df_trip.groupby(['dept_hr','source'])['trexpfac'].agg(sample_count='size', trexpfac='sum').reset_index()\n",
    "df_plot['percentage'] = df_plot.groupby(['source'], group_keys=False)['trexpfac']. \\\n",
    "    apply(lambda x: x / float(x.sum()))\n",
    "\n",
    "fig = px.bar(df_plot, x=\"dept_hr\", y=\"percentage\", color=\"source\",\n",
    "             barmode=\"group\",title=\"trip origin departure hour\",\n",
    "             hover_data=['trexpfac','sample_count'])\n",
    "fig.update_layout(height=400, width=700, font=dict(size=11),\n",
    "                  xaxis = dict(dtick = 1, categoryorder='category ascending'),\n",
    "                  yaxis=dict(tickformat=\".0%\"))\n",
    "fig.show()"
   ]
  },
  {
   "cell_type": "raw",
   "metadata": {
    "vscode": {
     "languageId": "raw"
    }
   },
   "source": [
    ":::"
   ]
  },
  {
   "cell_type": "markdown",
   "metadata": {
    "collapsed": false
   },
   "source": [
    "## time choice by purpose"
   ]
  },
  {
   "cell_type": "raw",
   "metadata": {
    "vscode": {
     "languageId": "raw"
    }
   },
   "source": [
    ":::{.panel-tabset}\n",
    "### tour"
   ]
  },
  {
   "cell_type": "code",
   "execution_count": 7,
   "metadata": {
    "ExecuteTime": {
     "end_time": "2024-07-15T04:43:21.363175Z",
     "start_time": "2024-07-15T04:43:20.456962Z"
    },
    "collapsed": false,
    "execution": {
     "iopub.execute_input": "2024-12-11T18:29:24.839391Z",
     "iopub.status.busy": "2024-12-11T18:29:24.837396Z",
     "iopub.status.idle": "2024-12-11T18:29:25.919332Z",
     "shell.execute_reply": "2024-12-11T18:29:25.917820Z"
    }
   },
   "outputs": [
    {
     "data": {
      "application/vnd.plotly.v1+json": {
       "config": {
        "plotlyServerURL": "https://plot.ly"
       },
       "data": [
        {
         "alignmentgroup": "True",
         "customdata": [
          [
           1431.0,
           1431.0
          ],
          [
           822.0,
           822.0
          ],
          [
           320.0,
           320.0
          ],
          [
           45033.0,
           45033.0
          ],
          [
           44588.0,
           44588.0
          ],
          [
           100150.0,
           100150.0
          ],
          [
           244985.0,
           244985.0
          ],
          [
           307881.0,
           307881.0
          ],
          [
           242895.0,
           242895.0
          ],
          [
           125519.0,
           125519.0
          ],
          [
           77807.0,
           77807.0
          ],
          [
           61832.0,
           61832.0
          ],
          [
           49335.0,
           49335.0
          ],
          [
           37528.0,
           37528.0
          ],
          [
           32392.0,
           32392.0
          ],
          [
           28678.0,
           28678.0
          ],
          [
           27574.0,
           27574.0
          ],
          [
           27000.0,
           27000.0
          ],
          [
           21961.0,
           21961.0
          ],
          [
           12127.0,
           12127.0
          ],
          [
           9788.0,
           9788.0
          ],
          [
           6694.0,
           6694.0
          ],
          [
           3216.0,
           3216.0
          ],
          [
           2127.0,
           2127.0
          ]
         ],
         "hovertemplate": "source=model<br>pdpurp_label=Work<br>tlvorg_hr=%{x}<br>percentage=%{y}<br>toexpfac=%{customdata[0]}<br>sample_count=%{customdata[1]}<extra></extra>",
         "legendgroup": "model",
         "marker": {
          "color": "#91268F",
          "pattern": {
           "shape": ""
          }
         },
         "name": "model",
         "offsetgroup": "model",
         "orientation": "v",
         "showlegend": true,
         "textposition": "auto",
         "type": "bar",
         "x": [
          0,
          1,
          2,
          3,
          4,
          5,
          6,
          7,
          8,
          9,
          10,
          11,
          12,
          13,
          14,
          15,
          16,
          17,
          18,
          19,
          20,
          21,
          22,
          23
         ],
         "xaxis": "x6",
         "y": [
          0.0009466270375468931,
          0.0005437647972491587,
          0.00021168459260307882,
          0.02978997580842015,
          0.029495601921831496,
          0.06625066234124483,
          0.16206109349645395,
          0.2036677001725891,
          0.1606785285010151,
          0.08303261993420578,
          0.05147044717708673,
          0.04090275540572991,
          0.032635810550227795,
          0.02482531059752607,
          0.021427772886246654,
          0.01897090858334717,
          0.01824059673886655,
          0.017860887500884777,
          0.014527516681738168,
          0.008022184545304803,
          0.0064749024762466734,
          0.004428177071515655,
          0.002127430155660942,
          0.0014070410264585896
         ],
         "yaxis": "y6"
        },
        {
         "alignmentgroup": "True",
         "customdata": [
          [
           1.0,
           1.0
          ],
          [
           1.0,
           1.0
          ],
          [
           0.0,
           0.0
          ],
          [
           2582.0,
           2582.0
          ],
          [
           2557.0,
           2557.0
          ],
          [
           8184.0,
           8184.0
          ],
          [
           49832.0,
           49832.0
          ],
          [
           130872.0,
           130872.0
          ],
          [
           144998.0,
           144998.0
          ],
          [
           71920.0,
           71920.0
          ],
          [
           32639.0,
           32639.0
          ],
          [
           20229.0,
           20229.0
          ],
          [
           13114.0,
           13114.0
          ],
          [
           9090.0,
           9090.0
          ],
          [
           6735.0,
           6735.0
          ],
          [
           5129.0,
           5129.0
          ],
          [
           4755.0,
           4755.0
          ],
          [
           4392.0,
           4392.0
          ],
          [
           3260.0,
           3260.0
          ],
          [
           1085.0,
           1085.0
          ],
          [
           1017.0,
           1017.0
          ],
          [
           570.0,
           570.0
          ],
          [
           5.0,
           5.0
          ],
          [
           1.0,
           1.0
          ]
         ],
         "hovertemplate": "source=model<br>pdpurp_label=School<br>tlvorg_hr=%{x}<br>percentage=%{y}<br>toexpfac=%{customdata[0]}<br>sample_count=%{customdata[1]}<extra></extra>",
         "legendgroup": "model",
         "marker": {
          "color": "#91268F",
          "pattern": {
           "shape": ""
          }
         },
         "name": "model",
         "offsetgroup": "model",
         "orientation": "v",
         "showlegend": false,
         "textposition": "auto",
         "type": "bar",
         "x": [
          0,
          1,
          2,
          3,
          4,
          5,
          6,
          7,
          8,
          9,
          10,
          11,
          12,
          13,
          14,
          15,
          16,
          17,
          18,
          19,
          20,
          21,
          22,
          23
         ],
         "xaxis": "x5",
         "y": [
          1.9494393412454577e-06,
          1.9494393412454577e-06,
          0.0,
          0.005033452379095772,
          0.004984716395564636,
          0.015954211568752825,
          0.09714446125294365,
          0.25512702546747557,
          0.2826648056019089,
          0.14020367742237333,
          0.06362775065891049,
          0.03943520843405437,
          0.025564947521092934,
          0.01772040361192121,
          0.013129473963288158,
          0.009998674381247952,
          0.009269584067622152,
          0.00856193758675005,
          0.006355172252460193,
          0.002115141685251322,
          0.0019825798100466304,
          0.001111180424509911,
          9.747196706227289e-06,
          1.9494393412454577e-06
         ],
         "yaxis": "y5"
        },
        {
         "alignmentgroup": "True",
         "customdata": [
          [
           290.0,
           290.0
          ],
          [
           215.0,
           215.0
          ],
          [
           107.0,
           107.0
          ],
          [
           928.0,
           928.0
          ],
          [
           696.0,
           696.0
          ],
          [
           1724.0,
           1724.0
          ],
          [
           8631.0,
           8631.0
          ],
          [
           25942.0,
           25942.0
          ],
          [
           45161.0,
           45161.0
          ],
          [
           56875.0,
           56875.0
          ],
          [
           57809.0,
           57809.0
          ],
          [
           48194.0,
           48194.0
          ],
          [
           46813.0,
           46813.0
          ],
          [
           49802.0,
           49802.0
          ],
          [
           46156.0,
           46156.0
          ],
          [
           42747.0,
           42747.0
          ],
          [
           45968.0,
           45968.0
          ],
          [
           41596.0,
           41596.0
          ],
          [
           38876.0,
           38876.0
          ],
          [
           24565.0,
           24565.0
          ],
          [
           15037.0,
           15037.0
          ],
          [
           7329.0,
           7329.0
          ],
          [
           1971.0,
           1971.0
          ],
          [
           988.0,
           988.0
          ]
         ],
         "hovertemplate": "source=model<br>pdpurp_label=Shop<br>tlvorg_hr=%{x}<br>percentage=%{y}<br>toexpfac=%{customdata[0]}<br>sample_count=%{customdata[1]}<extra></extra>",
         "legendgroup": "model",
         "marker": {
          "color": "#91268F",
          "pattern": {
           "shape": ""
          }
         },
         "name": "model",
         "offsetgroup": "model",
         "orientation": "v",
         "showlegend": false,
         "textposition": "auto",
         "type": "bar",
         "x": [
          0,
          1,
          2,
          3,
          4,
          5,
          6,
          7,
          8,
          9,
          10,
          11,
          12,
          13,
          14,
          15,
          16,
          17,
          18,
          19,
          20,
          21,
          22,
          23
         ],
         "xaxis": "x4",
         "y": [
          0.00047664442326024784,
          0.00035337431379639067,
          0.00017586535616843628,
          0.001525262154432793,
          0.001143946615824595,
          0.0028335689162091978,
          0.014185924197100687,
          0.04263830906281845,
          0.07422668551329674,
          0.09347983301009172,
          0.09501495677328162,
          0.07921172874001513,
          0.07694191512442063,
          0.08185463988692022,
          0.07586206896551724,
          0.07025903159002005,
          0.07555307189112784,
          0.06836724631011472,
          0.0638966503402255,
          0.04037506985306203,
          0.02471483514677361,
          0.012045955096808126,
          0.003239538476710167,
          0.001623878242003879
         ],
         "yaxis": "y4"
        },
        {
         "alignmentgroup": "True",
         "customdata": [
          [
           604.0,
           604.0
          ],
          [
           468.0,
           468.0
          ],
          [
           154.0,
           154.0
          ],
          [
           1736.0,
           1736.0
          ],
          [
           1483.0,
           1483.0
          ],
          [
           3235.0,
           3235.0
          ],
          [
           9274.0,
           9274.0
          ],
          [
           15619.0,
           15619.0
          ],
          [
           33277.0,
           33277.0
          ],
          [
           46669.0,
           46669.0
          ],
          [
           71143.0,
           71143.0
          ],
          [
           75672.0,
           75672.0
          ],
          [
           83517.0,
           83517.0
          ],
          [
           57403.0,
           57403.0
          ],
          [
           54657.0,
           54657.0
          ],
          [
           43689.0,
           43689.0
          ],
          [
           44240.0,
           44240.0
          ],
          [
           44648.0,
           44648.0
          ],
          [
           45184.0,
           45184.0
          ],
          [
           25833.0,
           25833.0
          ],
          [
           22143.0,
           22143.0
          ],
          [
           18145.0,
           18145.0
          ],
          [
           3264.0,
           3264.0
          ],
          [
           1655.0,
           1655.0
          ]
         ],
         "hovertemplate": "source=model<br>pdpurp_label=Meal<br>tlvorg_hr=%{x}<br>percentage=%{y}<br>toexpfac=%{customdata[0]}<br>sample_count=%{customdata[1]}<extra></extra>",
         "legendgroup": "model",
         "marker": {
          "color": "#91268F",
          "pattern": {
           "shape": ""
          }
         },
         "name": "model",
         "offsetgroup": "model",
         "orientation": "v",
         "showlegend": false,
         "textposition": "auto",
         "type": "bar",
         "x": [
          0,
          1,
          2,
          3,
          4,
          5,
          6,
          7,
          8,
          9,
          10,
          11,
          12,
          13,
          14,
          15,
          16,
          17,
          18,
          19,
          20,
          21,
          22,
          23
         ],
         "xaxis": "x3",
         "y": [
          0.0008583056705015688,
          0.0006650447910508845,
          0.00021883952526033376,
          0.0024669182847528535,
          0.002107396207539448,
          0.004597051066345323,
          0.013178686735482698,
          0.02219515938338411,
          0.04728781092265018,
          0.06631832340502933,
          0.10109675549088264,
          0.10753262698376609,
          0.11868065344913828,
          0.08157172252285026,
          0.07766955800100041,
          0.06208363648765404,
          0.06286662725660498,
          0.06344640989495703,
          0.06420808512573326,
          0.03670961984448183,
          0.03146599745350371,
          0.02578469601200491,
          0.004638261106816425,
          0.002351814378609431
         ],
         "yaxis": "y3"
        },
        {
         "alignmentgroup": "True",
         "customdata": [
          [
           284.0,
           284.0
          ],
          [
           227.0,
           227.0
          ],
          [
           138.0,
           138.0
          ],
          [
           7463.0,
           7463.0
          ],
          [
           4427.0,
           4427.0
          ],
          [
           7791.0,
           7791.0
          ],
          [
           24905.0,
           24905.0
          ],
          [
           46735.0,
           46735.0
          ],
          [
           69105.0,
           69105.0
          ],
          [
           78472.0,
           78472.0
          ],
          [
           70502.0,
           70502.0
          ],
          [
           52834.0,
           52834.0
          ],
          [
           48153.0,
           48153.0
          ],
          [
           49468.0,
           49468.0
          ],
          [
           43834.0,
           43834.0
          ],
          [
           41346.0,
           41346.0
          ],
          [
           42139.0,
           42139.0
          ],
          [
           34939.0,
           34939.0
          ],
          [
           30968.0,
           30968.0
          ],
          [
           21167.0,
           21167.0
          ],
          [
           15305.0,
           15305.0
          ],
          [
           8600.0,
           8600.0
          ],
          [
           2476.0,
           2476.0
          ],
          [
           1229.0,
           1229.0
          ]
         ],
         "hovertemplate": "source=model<br>pdpurp_label=Escort<br>tlvorg_hr=%{x}<br>percentage=%{y}<br>toexpfac=%{customdata[0]}<br>sample_count=%{customdata[1]}<extra></extra>",
         "legendgroup": "model",
         "marker": {
          "color": "#91268F",
          "pattern": {
           "shape": ""
          }
         },
         "name": "model",
         "offsetgroup": "model",
         "orientation": "v",
         "showlegend": false,
         "textposition": "auto",
         "type": "bar",
         "x": [
          0,
          1,
          2,
          3,
          4,
          5,
          6,
          7,
          8,
          9,
          10,
          11,
          12,
          13,
          14,
          15,
          16,
          17,
          18,
          19,
          20,
          21,
          22,
          23
         ],
         "xaxis": "x2",
         "y": [
          0.00040426643435581425,
          0.00032312845281256983,
          0.00019643932373627593,
          0.010623381688723387,
          0.006301716566525316,
          0.011090280950937144,
          0.035451604040956174,
          0.06652602749865838,
          0.09836912657098079,
          0.11170280153792062,
          0.10035771885547048,
          0.07520779152378552,
          0.06854451272371663,
          0.07041638019265288,
          0.06239653128011536,
          0.05885492955942076,
          0.05998374393422414,
          0.04973473573928801,
          0.044082123025108645,
          0.030130660619751833,
          0.021786259781041328,
          0.01224187089950705,
          0.0035245200403697047,
          0.001749448759941182
         ],
         "yaxis": "y2"
        },
        {
         "alignmentgroup": "True",
         "customdata": [
          [
           146.0,
           146.0
          ],
          [
           106.0,
           106.0
          ],
          [
           48.0,
           48.0
          ],
          [
           2066.0,
           2066.0
          ],
          [
           1211.0,
           1211.0
          ],
          [
           2665.0,
           2665.0
          ],
          [
           8387.0,
           8387.0
          ],
          [
           17318.0,
           17318.0
          ],
          [
           28829.0,
           28829.0
          ],
          [
           34556.0,
           34556.0
          ],
          [
           33691.0,
           33691.0
          ],
          [
           27053.0,
           27053.0
          ],
          [
           25653.0,
           25653.0
          ],
          [
           25204.0,
           25204.0
          ],
          [
           21444.0,
           21444.0
          ],
          [
           19646.0,
           19646.0
          ],
          [
           21779.0,
           21779.0
          ],
          [
           20027.0,
           20027.0
          ],
          [
           17783.0,
           17783.0
          ],
          [
           10655.0,
           10655.0
          ],
          [
           7672.0,
           7672.0
          ],
          [
           4736.0,
           4736.0
          ],
          [
           1087.0,
           1087.0
          ],
          [
           450.0,
           450.0
          ]
         ],
         "hovertemplate": "source=model<br>pdpurp_label=Personal Business<br>tlvorg_hr=%{x}<br>percentage=%{y}<br>toexpfac=%{customdata[0]}<br>sample_count=%{customdata[1]}<extra></extra>",
         "legendgroup": "model",
         "marker": {
          "color": "#91268F",
          "pattern": {
           "shape": ""
          }
         },
         "name": "model",
         "offsetgroup": "model",
         "orientation": "v",
         "showlegend": false,
         "textposition": "auto",
         "type": "bar",
         "x": [
          0,
          1,
          2,
          3,
          4,
          5,
          6,
          7,
          8,
          9,
          10,
          11,
          12,
          13,
          14,
          15,
          16,
          17,
          18,
          19,
          20,
          21,
          22,
          23
         ],
         "xaxis": "x",
         "y": [
          0.0004394784053556163,
          0.00031907336279243375,
          0.00014448605107581904,
          0.006218920448388379,
          0.0036452626636003516,
          0.008021985960772037,
          0.0252459272994353,
          0.052129363177729884,
          0.08677892430134974,
          0.1040179162703334,
          0.10141415722490459,
          0.08143294041154443,
          0.07721876392183305,
          0.07586721731906132,
          0.06454914331812216,
          0.05913693665490711,
          0.06555753554958882,
          0.06028379468532142,
          0.05352907179752688,
          0.03207289321276775,
          0.023093687163618412,
          0.014255957039480814,
          0.003272007031654486,
          0.0013545567288358036
         ],
         "yaxis": "y"
        },
        {
         "alignmentgroup": "True",
         "customdata": [
          [
           0.0,
           0.0
          ],
          [
           551.958469674964,
           1.0
          ],
          [
           0.0,
           0.0
          ],
          [
           12103.963456859357,
           20.0
          ],
          [
           74931.36061469572,
           63.0
          ],
          [
           99400.45954333004,
           126.0
          ],
          [
           248864.77578781146,
           354.0
          ],
          [
           311397.3539980395,
           588.0
          ],
          [
           206346.47840445887,
           495.0
          ],
          [
           127703.56018230686,
           269.0
          ],
          [
           59092.504106178,
           166.0
          ],
          [
           37766.292036595085,
           93.0
          ],
          [
           26888.870887293404,
           95.0
          ],
          [
           30687.932298089298,
           67.0
          ],
          [
           32953.44141765535,
           59.0
          ],
          [
           26993.205859767655,
           52.0
          ],
          [
           15880.497234966046,
           27.0
          ],
          [
           9067.667081552125,
           38.0
          ],
          [
           3106.2604648083056,
           10.0
          ],
          [
           1354.8011261771373,
           8.0
          ],
          [
           2491.513138185322,
           8.0
          ],
          [
           1284.2515745934531,
           3.0
          ],
          [
           7463.727136272969,
           6.0
          ],
          [
           255.98038726538,
           1.0
          ]
         ],
         "hovertemplate": "source=survey<br>pdpurp_label=Work<br>tlvorg_hr=%{x}<br>percentage=%{y}<br>toexpfac=%{customdata[0]}<br>sample_count=%{customdata[1]}<extra></extra>",
         "legendgroup": "survey",
         "marker": {
          "color": "#8CC63E",
          "pattern": {
           "shape": ""
          }
         },
         "name": "survey",
         "offsetgroup": "survey",
         "orientation": "v",
         "showlegend": true,
         "textposition": "auto",
         "type": "bar",
         "x": [
          0,
          1,
          2,
          3,
          4,
          5,
          6,
          7,
          8,
          9,
          10,
          11,
          12,
          13,
          14,
          15,
          16,
          17,
          18,
          19,
          20,
          21,
          22,
          23
         ],
         "xaxis": "x6",
         "y": [
          0.0,
          0.00041296116861006844,
          0.0,
          0.009055874977154873,
          0.05606172193210347,
          0.07436887408859577,
          0.18619424156266162,
          0.2329795125434714,
          0.15438314210606763,
          0.09554452797799634,
          0.0442114957782111,
          0.028255770950820935,
          0.020117563465890585,
          0.02295992376293894,
          0.02465491957315578,
          0.020195624215977884,
          0.011881380677286129,
          0.006784195913815621,
          0.0023240244004406416,
          0.0010136274503221461,
          0.0018640862196720065,
          0.0009608440855083568,
          0.005584169189752665,
          0.00019151795954615829
         ],
         "yaxis": "y6"
        },
        {
         "alignmentgroup": "True",
         "customdata": [
          [
           0.0,
           0.0
          ],
          [
           0.0,
           0.0
          ],
          [
           0.0,
           0.0
          ],
          [
           0.0,
           0.0
          ],
          [
           75.6029420675361,
           1.0
          ],
          [
           944.6388505184881,
           3.0
          ],
          [
           26697.98862443798,
           28.0
          ],
          [
           177732.16684628103,
           225.0
          ],
          [
           224775.58031354484,
           254.0
          ],
          [
           48085.78968965203,
           55.0
          ],
          [
           16161.271083577121,
           16.0
          ],
          [
           3333.250470946136,
           11.0
          ],
          [
           5015.600869289834,
           10.0
          ],
          [
           7404.664188706871,
           9.0
          ],
          [
           2229.590294654095,
           10.0
          ],
          [
           387.7845844848059,
           5.0
          ],
          [
           4969.783185943033,
           6.0
          ],
          [
           1663.3036370758678,
           16.0
          ],
          [
           278.949359175002,
           2.0
          ],
          [
           156.064494787723,
           1.0
          ],
          [
           0.0,
           0.0
          ],
          [
           0.0,
           0.0
          ],
          [
           0.0,
           0.0
          ],
          [
           0.0,
           0.0
          ]
         ],
         "hovertemplate": "source=survey<br>pdpurp_label=School<br>tlvorg_hr=%{x}<br>percentage=%{y}<br>toexpfac=%{customdata[0]}<br>sample_count=%{customdata[1]}<extra></extra>",
         "legendgroup": "survey",
         "marker": {
          "color": "#8CC63E",
          "pattern": {
           "shape": ""
          }
         },
         "name": "survey",
         "offsetgroup": "survey",
         "orientation": "v",
         "showlegend": false,
         "textposition": "auto",
         "type": "bar",
         "x": [
          0,
          1,
          2,
          3,
          4,
          5,
          6,
          7,
          8,
          9,
          10,
          11,
          12,
          13,
          14,
          15,
          16,
          17,
          18,
          19,
          20,
          21,
          22,
          23
         ],
         "xaxis": "x5",
         "y": [
          0.0,
          0.0,
          0.0,
          0.0,
          0.00014541487364636436,
          0.0018169205500876552,
          0.051350973074125575,
          0.34185046081618436,
          0.4323338710930615,
          0.09248831911409082,
          0.031084626184040228,
          0.006411181665805157,
          0.009647018313346252,
          0.014242148227944748,
          0.004288399129899783,
          0.0007458657667646464,
          0.009558892475218251,
          0.003199202062862368,
          0.0005365318426620481,
          0.00030017481026026465,
          0.0,
          0.0,
          0.0,
          0.0
         ],
         "yaxis": "y5"
        },
        {
         "alignmentgroup": "True",
         "customdata": [
          [
           484.372679805163,
           1.0
          ],
          [
           0.0,
           0.0
          ],
          [
           306.34798152004703,
           1.0
          ],
          [
           0.0,
           0.0
          ],
          [
           0.0,
           0.0
          ],
          [
           666.5076935107627,
           5.0
          ],
          [
           313.25665406101865,
           3.0
          ],
          [
           14566.76265231447,
           36.0
          ],
          [
           13516.049841091384,
           51.0
          ],
          [
           50812.554897267575,
           115.0
          ],
          [
           82880.44853573837,
           157.0
          ],
          [
           55309.722403559426,
           114.0
          ],
          [
           45890.27107482399,
           117.0
          ],
          [
           50827.820885111934,
           126.0
          ],
          [
           75501.3702501398,
           148.0
          ],
          [
           32651.12387925838,
           103.0
          ],
          [
           53869.43630344453,
           99.0
          ],
          [
           42465.29577867404,
           112.0
          ],
          [
           59091.90904342833,
           92.0
          ],
          [
           17193.175848295632,
           83.0
          ],
          [
           2933.980540218817,
           23.0
          ],
          [
           766.8642961489354,
           9.0
          ],
          [
           1307.606066716253,
           7.0
          ],
          [
           8.1104247487979,
           1.0
          ]
         ],
         "hovertemplate": "source=survey<br>pdpurp_label=Shop<br>tlvorg_hr=%{x}<br>percentage=%{y}<br>toexpfac=%{customdata[0]}<br>sample_count=%{customdata[1]}<extra></extra>",
         "legendgroup": "survey",
         "marker": {
          "color": "#8CC63E",
          "pattern": {
           "shape": ""
          }
         },
         "name": "survey",
         "offsetgroup": "survey",
         "orientation": "v",
         "showlegend": false,
         "textposition": "auto",
         "type": "bar",
         "x": [
          0,
          1,
          2,
          3,
          4,
          5,
          6,
          7,
          8,
          9,
          10,
          11,
          12,
          13,
          14,
          15,
          16,
          17,
          18,
          19,
          20,
          21,
          22,
          23
         ],
         "xaxis": "x4",
         "y": [
          0.0008054580838665369,
          0.0,
          0.000509422740958001,
          0.0,
          0.0,
          0.0011083284257762582,
          0.0005209110977108029,
          0.024222911867761338,
          0.022475692912385506,
          0.08449564727799931,
          0.13782100033892822,
          0.09197393842336642,
          0.07631043481418438,
          0.08452103292386685,
          0.1255504109675166,
          0.0542952003124022,
          0.08957890226466977,
          0.07061508048404992,
          0.09826329562864856,
          0.028590345929334984,
          0.0048788844675900014,
          0.0012752103335188932,
          0.0021744039679801644,
          1.3486737485149266e-05
         ],
         "yaxis": "y4"
        },
        {
         "alignmentgroup": "True",
         "customdata": [
          [
           0.0,
           0.0
          ],
          [
           0.0,
           0.0
          ],
          [
           0.0,
           0.0
          ],
          [
           0.0,
           0.0
          ],
          [
           10.6381727331061,
           1.0
          ],
          [
           45.94185906792442,
           2.0
          ],
          [
           1619.3993794124167,
           7.0
          ],
          [
           24185.691730630075,
           21.0
          ],
          [
           16592.386288810565,
           43.0
          ],
          [
           14795.148137337193,
           46.0
          ],
          [
           16320.043882478165,
           53.0
          ],
          [
           51142.26052510319,
           105.0
          ],
          [
           37661.62049466346,
           109.0
          ],
          [
           34280.917362739485,
           57.0
          ],
          [
           11239.722298735183,
           37.0
          ],
          [
           18416.89838924778,
           53.0
          ],
          [
           18899.62355502986,
           57.0
          ],
          [
           52022.95421104775,
           88.0
          ],
          [
           36491.24558242314,
           99.0
          ],
          [
           41737.41209779713,
           51.0
          ],
          [
           7901.458825086891,
           30.0
          ],
          [
           13430.676065534126,
           12.0
          ],
          [
           71.5547812881571,
           2.0
          ],
          [
           1328.6639472156842,
           2.0
          ]
         ],
         "hovertemplate": "source=survey<br>pdpurp_label=Meal<br>tlvorg_hr=%{x}<br>percentage=%{y}<br>toexpfac=%{customdata[0]}<br>sample_count=%{customdata[1]}<extra></extra>",
         "legendgroup": "survey",
         "marker": {
          "color": "#8CC63E",
          "pattern": {
           "shape": ""
          }
         },
         "name": "survey",
         "offsetgroup": "survey",
         "orientation": "v",
         "showlegend": false,
         "textposition": "auto",
         "type": "bar",
         "x": [
          0,
          1,
          2,
          3,
          4,
          5,
          6,
          7,
          8,
          9,
          10,
          11,
          12,
          13,
          14,
          15,
          16,
          17,
          18,
          19,
          20,
          21,
          22,
          23
         ],
         "xaxis": "x3",
         "y": [
          0.0,
          0.0,
          0.0,
          0.0,
          2.671603753803088e-05,
          0.00011537549372609457,
          0.004066857692092951,
          0.06073842419835352,
          0.041669074761107365,
          0.037155603968316006,
          0.04098513118044606,
          0.12843545468258988,
          0.09458102365148606,
          0.08609093855479028,
          0.02822673126142941,
          0.04625103963296748,
          0.04746332523625084,
          0.13064717338311257,
          0.09164181774898399,
          0.10481671019261982,
          0.0198432264517848,
          0.03372895467388948,
          0.00017969817475992742,
          0.0033367230237554436
         ],
         "yaxis": "y3"
        },
        {
         "alignmentgroup": "True",
         "customdata": [
          [
           0.0,
           0.0
          ],
          [
           0.0,
           0.0
          ],
          [
           0.0,
           0.0
          ],
          [
           0.0,
           0.0
          ],
          [
           3756.89486105699,
           1.0
          ],
          [
           15977.13796108429,
           13.0
          ],
          [
           24639.469470863194,
           18.0
          ],
          [
           123296.63420487581,
           121.0
          ],
          [
           116124.15215709507,
           163.0
          ],
          [
           44784.66324259696,
           57.0
          ],
          [
           15896.147247396682,
           30.0
          ],
          [
           19721.257583932624,
           29.0
          ],
          [
           17818.68002140592,
           43.0
          ],
          [
           37185.892487532255,
           52.0
          ],
          [
           72148.76360733972,
           80.0
          ],
          [
           72334.71357971721,
           86.0
          ],
          [
           25184.81205221003,
           63.0
          ],
          [
           52928.80856852309,
           69.0
          ],
          [
           5787.712909927875,
           25.0
          ],
          [
           5242.84440129033,
           17.0
          ],
          [
           2041.5346810067565,
           8.0
          ],
          [
           898.543349349546,
           5.0
          ],
          [
           4675.392899869981,
           5.0
          ],
          [
           0.0,
           0.0
          ]
         ],
         "hovertemplate": "source=survey<br>pdpurp_label=Escort<br>tlvorg_hr=%{x}<br>percentage=%{y}<br>toexpfac=%{customdata[0]}<br>sample_count=%{customdata[1]}<extra></extra>",
         "legendgroup": "survey",
         "marker": {
          "color": "#8CC63E",
          "pattern": {
           "shape": ""
          }
         },
         "name": "survey",
         "offsetgroup": "survey",
         "orientation": "v",
         "showlegend": false,
         "textposition": "auto",
         "type": "bar",
         "x": [
          0,
          1,
          2,
          3,
          4,
          5,
          6,
          7,
          8,
          9,
          10,
          11,
          12,
          13,
          14,
          15,
          16,
          17,
          18,
          19,
          20,
          21,
          22,
          23
         ],
         "xaxis": "x2",
         "y": [
          0.0,
          0.0,
          0.0,
          0.0,
          0.005688437697306528,
          0.024191508475520353,
          0.037307428651399084,
          0.18668747673303326,
          0.17582738647957025,
          0.06780992709992745,
          0.024068877780249118,
          0.02986060276575646,
          0.026979847693020264,
          0.05630437913680473,
          0.10924280872810478,
          0.10952436167856122,
          0.03813314973554116,
          0.08014124458356522,
          0.008763365895408262,
          0.00793836262030011,
          0.0030911546022158766,
          0.001360513948390341,
          0.007079165695325601,
          0.0
         ],
         "yaxis": "y2"
        },
        {
         "alignmentgroup": "True",
         "customdata": [
          [
           0.0,
           0.0
          ],
          [
           0.0,
           0.0
          ],
          [
           0.0,
           0.0
          ],
          [
           0.0,
           0.0
          ],
          [
           0.0,
           0.0
          ],
          [
           10663.035371550308,
           5.0
          ],
          [
           5380.734653984139,
           21.0
          ],
          [
           29389.618600087004,
           57.0
          ],
          [
           23567.08931472589,
           54.0
          ],
          [
           21265.68791425479,
           80.0
          ],
          [
           31020.636880102895,
           82.0
          ],
          [
           29667.33682676109,
           61.0
          ],
          [
           20348.92199668735,
           73.0
          ],
          [
           28689.578870672518,
           79.0
          ],
          [
           40365.683206848276,
           73.0
          ],
          [
           28112.636222380563,
           55.0
          ],
          [
           8036.796422910787,
           44.0
          ],
          [
           15870.549173199572,
           29.0
          ],
          [
           5254.77023384645,
           16.0
          ],
          [
           7876.896164187973,
           12.0
          ],
          [
           817.8571988340665,
           8.0
          ],
          [
           208.4084893501812,
           3.0
          ],
          [
           46.9407483680735,
           1.0
          ],
          [
           0.0,
           0.0
          ]
         ],
         "hovertemplate": "source=survey<br>pdpurp_label=Personal Business<br>tlvorg_hr=%{x}<br>percentage=%{y}<br>toexpfac=%{customdata[0]}<br>sample_count=%{customdata[1]}<extra></extra>",
         "legendgroup": "survey",
         "marker": {
          "color": "#8CC63E",
          "pattern": {
           "shape": ""
          }
         },
         "name": "survey",
         "offsetgroup": "survey",
         "orientation": "v",
         "showlegend": false,
         "textposition": "auto",
         "type": "bar",
         "x": [
          0,
          1,
          2,
          3,
          4,
          5,
          6,
          7,
          8,
          9,
          10,
          11,
          12,
          13,
          14,
          15,
          16,
          17,
          18,
          19,
          20,
          21,
          22,
          23
         ],
         "xaxis": "x",
         "y": [
          0.0,
          0.0,
          0.0,
          0.0,
          0.0,
          0.03478023625127745,
          0.017550651943846557,
          0.09586181069728072,
          0.07687013177392757,
          0.06936351835398465,
          0.10118179690500324,
          0.0967676602230904,
          0.06637325019026956,
          0.0935784508165401,
          0.1316630724234658,
          0.09169660377094464,
          0.026214081502349815,
          0.051765883770218055,
          0.017139786543987432,
          0.025692525624381148,
          0.002667651902492109,
          0.0006797779660105618,
          0.0001531093409301892,
          0.0
         ],
         "yaxis": "y"
        },
        {
         "alignmentgroup": "True",
         "customdata": [
          [
           0.0,
           0.0
          ],
          [
           290.035564242689,
           1.0
          ],
          [
           0.0,
           0.0
          ],
          [
           14788.625070075419,
           21.0
          ],
          [
           62334.98080849343,
           65.0
          ],
          [
           110560.94845318861,
           135.0
          ],
          [
           231832.64991962665,
           369.0
          ],
          [
           345802.4190378416,
           614.0
          ],
          [
           258891.17064905204,
           504.0
          ],
          [
           138775.7528467847,
           292.0
          ],
          [
           41934.64180856641,
           170.0
          ],
          [
           37958.57044734343,
           99.0
          ],
          [
           31180.959769409055,
           106.0
          ],
          [
           24948.05578014202,
           69.0
          ],
          [
           27287.01473768372,
           62.0
          ],
          [
           27505.411115810744,
           50.0
          ],
          [
           19075.53144467118,
           33.0
          ],
          [
           12319.997987789657,
           34.0
          ],
          [
           1955.1087945262727,
           10.0
          ],
          [
           745.7762566027517,
           7.0
          ],
          [
           270.8142398817476,
           7.0
          ],
          [
           113.8011265835064,
           3.0
          ],
          [
           387.3586482889782,
           6.0
          ],
          [
           235.31298890314352,
           1.0
          ]
         ],
         "hovertemplate": "source=survey (update)<br>pdpurp_label=Work<br>tlvorg_hr=%{x}<br>percentage=%{y}<br>toexpfac=%{customdata[0]}<br>sample_count=%{customdata[1]}<extra></extra>",
         "legendgroup": "survey (update)",
         "marker": {
          "color": "#00A7A0",
          "pattern": {
           "shape": ""
          }
         },
         "name": "survey (update)",
         "offsetgroup": "survey (update)",
         "orientation": "v",
         "showlegend": true,
         "textposition": "auto",
         "type": "bar",
         "x": [
          0,
          1,
          2,
          3,
          4,
          5,
          6,
          7,
          8,
          9,
          10,
          11,
          12,
          13,
          14,
          15,
          16,
          17,
          18,
          19,
          20,
          21,
          22,
          23
         ],
         "xaxis": "x6",
         "y": [
          0.0,
          0.00020877960062651532,
          0.0,
          0.010645464269209691,
          0.04487129856726461,
          0.07958634563736029,
          0.1668827344977107,
          0.24892289030455803,
          0.18636057738289102,
          0.09989652935028309,
          0.030186290402243864,
          0.027324149709166485,
          0.022445345090029805,
          0.01795864288500741,
          0.019642322327259387,
          0.01979953307733652,
          0.013731356867065222,
          0.008868444345183553,
          0.0014073682114412363,
          0.0005368406092432677,
          0.00019494329598550192,
          8.191875993204474e-05,
          0.0002788367836894963,
          0.0001693880265122291
         ],
         "yaxis": "y6"
        },
        {
         "alignmentgroup": "True",
         "customdata": [
          [
           0.0,
           0.0
          ],
          [
           0.0,
           0.0
          ],
          [
           0.0,
           0.0
          ],
          [
           0.0,
           0.0
          ],
          [
           86.688593033636,
           1.0
          ],
          [
           454.392198263691,
           4.0
          ],
          [
           35841.94166273945,
           28.0
          ],
          [
           184810.37813662854,
           229.0
          ],
          [
           178463.91097304705,
           262.0
          ],
          [
           54742.69479601805,
           55.0
          ],
          [
           11578.782726445685,
           19.0
          ],
          [
           4313.592683769604,
           14.0
          ],
          [
           5558.5039639001925,
           9.0
          ],
          [
           3238.946058029637,
           11.0
          ],
          [
           2722.270337875217,
           6.0
          ],
          [
           1054.04464666507,
           4.0
          ],
          [
           3913.0500727283707,
           7.0
          ],
          [
           869.3783619234034,
           5.0
          ],
          [
           1513.89214241086,
           1.0
          ],
          [
           0.0,
           0.0
          ],
          [
           0.0,
           0.0
          ],
          [
           0.0,
           0.0
          ],
          [
           0.0,
           0.0
          ],
          [
           0.0,
           0.0
          ]
         ],
         "hovertemplate": "source=survey (update)<br>pdpurp_label=School<br>tlvorg_hr=%{x}<br>percentage=%{y}<br>toexpfac=%{customdata[0]}<br>sample_count=%{customdata[1]}<extra></extra>",
         "legendgroup": "survey (update)",
         "marker": {
          "color": "#00A7A0",
          "pattern": {
           "shape": ""
          }
         },
         "name": "survey (update)",
         "offsetgroup": "survey (update)",
         "orientation": "v",
         "showlegend": false,
         "textposition": "auto",
         "type": "bar",
         "x": [
          0,
          1,
          2,
          3,
          4,
          5,
          6,
          7,
          8,
          9,
          10,
          11,
          12,
          13,
          14,
          15,
          16,
          17,
          18,
          19,
          20,
          21,
          22,
          23
         ],
         "xaxis": "x5",
         "y": [
          0.0,
          0.0,
          0.0,
          0.0,
          0.00017721840660148833,
          0.0009289187715527206,
          0.07327206001035921,
          0.37780980854175167,
          0.36483565866897455,
          0.11191106932670675,
          0.023670627857224028,
          0.008818323096429468,
          0.011363308378857098,
          0.006621411645814417,
          0.005565166012436623,
          0.0021547946071328416,
          0.007999489604955164,
          0.0017772793702407537,
          0.0030948657009632996,
          0.0,
          0.0,
          0.0,
          0.0,
          0.0
         ],
         "yaxis": "y5"
        },
        {
         "alignmentgroup": "True",
         "customdata": [
          [
           143.521368637738,
           1.0
          ],
          [
           0.0,
           0.0
          ],
          [
           570.896774611867,
           1.0
          ],
          [
           0.0,
           0.0
          ],
          [
           0.0,
           0.0
          ],
          [
           776.7637534339301,
           5.0
          ],
          [
           4769.603818802844,
           8.0
          ],
          [
           12107.898756094186,
           36.0
          ],
          [
           18154.742506415536,
           53.0
          ],
          [
           53830.420476548745,
           115.0
          ],
          [
           62551.662332100525,
           163.0
          ],
          [
           71298.68910586355,
           122.0
          ],
          [
           59180.63170434406,
           124.0
          ],
          [
           59428.21451426868,
           135.0
          ],
          [
           62755.07549026256,
           154.0
          ],
          [
           68685.48809386698,
           111.0
          ],
          [
           55073.59917634846,
           110.0
          ],
          [
           28436.43160983523,
           119.0
          ],
          [
           62362.95808194445,
           102.0
          ],
          [
           20444.19135338202,
           89.0
          ],
          [
           7282.428149155887,
           32.0
          ],
          [
           2019.503056430456,
           14.0
          ],
          [
           2349.3900106379,
           7.0
          ],
          [
           628.325555652825,
           3.0
          ]
         ],
         "hovertemplate": "source=survey (update)<br>pdpurp_label=Shop<br>tlvorg_hr=%{x}<br>percentage=%{y}<br>toexpfac=%{customdata[0]}<br>sample_count=%{customdata[1]}<extra></extra>",
         "legendgroup": "survey (update)",
         "marker": {
          "color": "#00A7A0",
          "pattern": {
           "shape": ""
          }
         },
         "name": "survey (update)",
         "offsetgroup": "survey (update)",
         "orientation": "v",
         "showlegend": false,
         "textposition": "auto",
         "type": "bar",
         "x": [
          0,
          1,
          2,
          3,
          4,
          5,
          6,
          7,
          8,
          9,
          10,
          11,
          12,
          13,
          14,
          15,
          16,
          17,
          18,
          19,
          20,
          21,
          22,
          23
         ],
         "xaxis": "x4",
         "y": [
          0.00021983805293221417,
          0.0,
          0.0008744679384485281,
          0.0,
          0.0,
          0.0011898035307498656,
          0.007305813947679731,
          0.0185462061357477,
          0.027808425198132224,
          0.08245444520499927,
          0.0958131585929324,
          0.10921136788498334,
          0.09064960130097678,
          0.09102883488403085,
          0.096124735559175,
          0.10520861186439476,
          0.08435867721870452,
          0.04355734492210297,
          0.09552411191418272,
          0.03131527565240439,
          0.011154818548101679,
          0.003093362500861698,
          0.0035986649961560046,
          0.0009624341523032849
         ],
         "yaxis": "y4"
        },
        {
         "alignmentgroup": "True",
         "customdata": [
          [
           632.62215829592,
           1.0
          ],
          [
           0.0,
           0.0
          ],
          [
           0.0,
           0.0
          ],
          [
           0.0,
           0.0
          ],
          [
           23.312448148228,
           1.0
          ],
          [
           46.07273363740228,
           2.0
          ],
          [
           2925.777734452038,
           8.0
          ],
          [
           23356.46439963609,
           20.0
          ],
          [
           14130.041614476766,
           44.0
          ],
          [
           15870.600300674025,
           49.0
          ],
          [
           22019.720159185883,
           57.0
          ],
          [
           34250.98114834559,
           106.0
          ],
          [
           38166.71534632753,
           116.0
          ],
          [
           13881.241923716083,
           61.0
          ],
          [
           13340.120241994084,
           38.0
          ],
          [
           31104.060703891093,
           56.0
          ],
          [
           18198.03715850649,
           57.0
          ],
          [
           29709.86656119251,
           96.0
          ],
          [
           40049.22701963642,
           104.0
          ],
          [
           34982.764543346995,
           55.0
          ],
          [
           13824.595015197265,
           32.0
          ],
          [
           3917.0406076992085,
           11.0
          ],
          [
           64.4328417659313,
           2.0
          ],
          [
           592.2696401845194,
           2.0
          ]
         ],
         "hovertemplate": "source=survey (update)<br>pdpurp_label=Meal<br>tlvorg_hr=%{x}<br>percentage=%{y}<br>toexpfac=%{customdata[0]}<br>sample_count=%{customdata[1]}<extra></extra>",
         "legendgroup": "survey (update)",
         "marker": {
          "color": "#00A7A0",
          "pattern": {
           "shape": ""
          }
         },
         "name": "survey (update)",
         "offsetgroup": "survey (update)",
         "orientation": "v",
         "showlegend": false,
         "textposition": "auto",
         "type": "bar",
         "x": [
          0,
          1,
          2,
          3,
          4,
          5,
          6,
          7,
          8,
          9,
          10,
          11,
          12,
          13,
          14,
          15,
          16,
          17,
          18,
          19,
          20,
          21,
          22,
          23
         ],
         "xaxis": "x3",
         "y": [
          0.001801901023177307,
          0.0,
          0.0,
          0.0,
          6.640096876184753e-05,
          0.0001312292097156947,
          0.008333508120391285,
          0.06652634048240551,
          0.04024667190167217,
          0.045204314368713173,
          0.06271888482659699,
          0.09755724987925798,
          0.10871045620519507,
          0.03953801443296213,
          0.03799673469880808,
          0.08859385981401828,
          0.0518335650209598,
          0.08462276929925756,
          0.1140724241125724,
          0.09964159237486243,
          0.03937666674527626,
          0.011156927379610857,
          0.00018352440233360365,
          0.0016869647334517394
         ],
         "yaxis": "y3"
        },
        {
         "alignmentgroup": "True",
         "customdata": [
          [
           0.0,
           0.0
          ],
          [
           0.0,
           0.0
          ],
          [
           0.0,
           0.0
          ],
          [
           0.0,
           0.0
          ],
          [
           4054.1074151579,
           1.0
          ],
          [
           3621.685317844173,
           8.0
          ],
          [
           14008.043944164967,
           15.0
          ],
          [
           79706.75888850242,
           112.0
          ],
          [
           107385.8432889369,
           150.0
          ],
          [
           32796.21169392769,
           46.0
          ],
          [
           5778.952525156872,
           27.0
          ],
          [
           9936.136797937104,
           23.0
          ],
          [
           13460.375487800955,
           38.0
          ],
          [
           40000.633169023255,
           47.0
          ],
          [
           56443.05266800753,
           72.0
          ],
          [
           67075.08161255956,
           81.0
          ],
          [
           38015.74994991364,
           55.0
          ],
          [
           50697.182926902904,
           53.0
          ],
          [
           3506.9784211730293,
           17.0
          ],
          [
           9894.698905991168,
           16.0
          ],
          [
           2107.841073937623,
           8.0
          ],
          [
           330.2706023061876,
           5.0
          ],
          [
           6096.135066820443,
           5.0
          ],
          [
           0.0,
           0.0
          ]
         ],
         "hovertemplate": "source=survey (update)<br>pdpurp_label=Escort<br>tlvorg_hr=%{x}<br>percentage=%{y}<br>toexpfac=%{customdata[0]}<br>sample_count=%{customdata[1]}<extra></extra>",
         "legendgroup": "survey (update)",
         "marker": {
          "color": "#00A7A0",
          "pattern": {
           "shape": ""
          }
         },
         "name": "survey (update)",
         "offsetgroup": "survey (update)",
         "orientation": "v",
         "showlegend": false,
         "textposition": "auto",
         "type": "bar",
         "x": [
          0,
          1,
          2,
          3,
          4,
          5,
          6,
          7,
          8,
          9,
          10,
          11,
          12,
          13,
          14,
          15,
          16,
          17,
          18,
          19,
          20,
          21,
          22,
          23
         ],
         "xaxis": "x2",
         "y": [
          0.0,
          0.0,
          0.0,
          0.0,
          0.007439879451771301,
          0.006646321722080277,
          0.025706807350501154,
          0.1462735485016156,
          0.1970687125628065,
          0.06018584030736416,
          0.010605222245450031,
          0.01823426279150074,
          0.02470175571332661,
          0.07340700635098162,
          0.10358124853078146,
          0.12309257508800579,
          0.06976445563296022,
          0.09303673802778736,
          0.0064358178068832355,
          0.018158218205296485,
          0.003868196346982406,
          0.0006060948110143337,
          0.011187298552890811,
          0.0
         ],
         "yaxis": "y2"
        },
        {
         "alignmentgroup": "True",
         "customdata": [
          [
           0.0,
           0.0
          ],
          [
           0.0,
           0.0
          ],
          [
           0.0,
           0.0
          ],
          [
           0.0,
           0.0
          ],
          [
           0.0,
           0.0
          ],
          [
           2325.255872414626,
           5.0
          ],
          [
           6446.839968605129,
           21.0
          ],
          [
           37494.19187984278,
           62.0
          ],
          [
           21983.974469176625,
           68.0
          ],
          [
           48225.42231837046,
           89.0
          ],
          [
           27457.449132175087,
           93.0
          ],
          [
           27892.063700452858,
           73.0
          ],
          [
           28210.8273399356,
           84.0
          ],
          [
           22478.414619897256,
           86.0
          ],
          [
           35846.57944133159,
           81.0
          ],
          [
           31185.913641812193,
           68.0
          ],
          [
           9833.272916917173,
           53.0
          ],
          [
           30678.220711815993,
           36.0
          ],
          [
           2633.623560564438,
           22.0
          ],
          [
           13166.944073262279,
           15.0
          ],
          [
           6.85398522000551,
           1.0
          ],
          [
           29.4730659624188,
           1.0
          ],
          [
           197.424677262663,
           1.0
          ],
          [
           0.0,
           0.0
          ]
         ],
         "hovertemplate": "source=survey (update)<br>pdpurp_label=Personal Business<br>tlvorg_hr=%{x}<br>percentage=%{y}<br>toexpfac=%{customdata[0]}<br>sample_count=%{customdata[1]}<extra></extra>",
         "legendgroup": "survey (update)",
         "marker": {
          "color": "#00A7A0",
          "pattern": {
           "shape": ""
          }
         },
         "name": "survey (update)",
         "offsetgroup": "survey (update)",
         "orientation": "v",
         "showlegend": false,
         "textposition": "auto",
         "type": "bar",
         "x": [
          0,
          1,
          2,
          3,
          4,
          5,
          6,
          7,
          8,
          9,
          10,
          11,
          12,
          13,
          14,
          15,
          16,
          17,
          18,
          19,
          20,
          21,
          22,
          23
         ],
         "xaxis": "x",
         "y": [
          0.0,
          0.0,
          0.0,
          0.0,
          0.0,
          0.006718591774857995,
          0.018627492355031777,
          0.1083356770140178,
          0.06352047178959279,
          0.1393424825074399,
          0.07933552349507571,
          0.08059129835336357,
          0.0815123336646855,
          0.06494910662036588,
          0.10357506743601042,
          0.09010854477177718,
          0.02841224801248589,
          0.08864161737505849,
          0.007609589035767555,
          0.038044553805930956,
          1.9803897399174516e-05,
          8.515944456010593e-05,
          0.0005704386465793658,
          0.0
         ],
         "yaxis": "y"
        }
       ],
       "layout": {
        "annotations": [
         {
          "font": {},
          "showarrow": false,
          "text": "Personal Business",
          "textangle": 90,
          "x": 0.98,
          "xanchor": "left",
          "xref": "paper",
          "y": 0.07083333333333333,
          "yanchor": "middle",
          "yref": "paper"
         },
         {
          "font": {},
          "showarrow": false,
          "text": "Escort",
          "textangle": 90,
          "x": 0.98,
          "xanchor": "left",
          "xref": "paper",
          "y": 0.2425,
          "yanchor": "middle",
          "yref": "paper"
         },
         {
          "font": {},
          "showarrow": false,
          "text": "Meal",
          "textangle": 90,
          "x": 0.98,
          "xanchor": "left",
          "xref": "paper",
          "y": 0.4141666666666667,
          "yanchor": "middle",
          "yref": "paper"
         },
         {
          "font": {},
          "showarrow": false,
          "text": "Shop",
          "textangle": 90,
          "x": 0.98,
          "xanchor": "left",
          "xref": "paper",
          "y": 0.5858333333333334,
          "yanchor": "middle",
          "yref": "paper"
         },
         {
          "font": {},
          "showarrow": false,
          "text": "School",
          "textangle": 90,
          "x": 0.98,
          "xanchor": "left",
          "xref": "paper",
          "y": 0.7575000000000001,
          "yanchor": "middle",
          "yref": "paper"
         },
         {
          "font": {},
          "showarrow": false,
          "text": "Work",
          "textangle": 90,
          "x": 0.98,
          "xanchor": "left",
          "xref": "paper",
          "y": 0.9291666666666667,
          "yanchor": "middle",
          "yref": "paper"
         }
        ],
        "barmode": "group",
        "height": 1500,
        "legend": {
         "title": {
          "text": "source"
         },
         "tracegroupgap": 0
        },
        "template": {
         "data": {
          "bar": [
           {
            "error_x": {
             "color": "rgb(36,36,36)"
            },
            "error_y": {
             "color": "rgb(36,36,36)"
            },
            "marker": {
             "line": {
              "color": "white",
              "width": 0.5
             },
             "pattern": {
              "fillmode": "overlay",
              "size": 10,
              "solidity": 0.2
             }
            },
            "type": "bar"
           }
          ],
          "barpolar": [
           {
            "marker": {
             "line": {
              "color": "white",
              "width": 0.5
             },
             "pattern": {
              "fillmode": "overlay",
              "size": 10,
              "solidity": 0.2
             }
            },
            "type": "barpolar"
           }
          ],
          "carpet": [
           {
            "aaxis": {
             "endlinecolor": "rgb(36,36,36)",
             "gridcolor": "white",
             "linecolor": "white",
             "minorgridcolor": "white",
             "startlinecolor": "rgb(36,36,36)"
            },
            "baxis": {
             "endlinecolor": "rgb(36,36,36)",
             "gridcolor": "white",
             "linecolor": "white",
             "minorgridcolor": "white",
             "startlinecolor": "rgb(36,36,36)"
            },
            "type": "carpet"
           }
          ],
          "choropleth": [
           {
            "colorbar": {
             "outlinewidth": 1,
             "tickcolor": "rgb(36,36,36)",
             "ticks": "outside"
            },
            "type": "choropleth"
           }
          ],
          "contour": [
           {
            "colorbar": {
             "outlinewidth": 1,
             "tickcolor": "rgb(36,36,36)",
             "ticks": "outside"
            },
            "colorscale": [
             [
              0.0,
              "#440154"
             ],
             [
              0.1111111111111111,
              "#482878"
             ],
             [
              0.2222222222222222,
              "#3e4989"
             ],
             [
              0.3333333333333333,
              "#31688e"
             ],
             [
              0.4444444444444444,
              "#26828e"
             ],
             [
              0.5555555555555556,
              "#1f9e89"
             ],
             [
              0.6666666666666666,
              "#35b779"
             ],
             [
              0.7777777777777778,
              "#6ece58"
             ],
             [
              0.8888888888888888,
              "#b5de2b"
             ],
             [
              1.0,
              "#fde725"
             ]
            ],
            "type": "contour"
           }
          ],
          "contourcarpet": [
           {
            "colorbar": {
             "outlinewidth": 1,
             "tickcolor": "rgb(36,36,36)",
             "ticks": "outside"
            },
            "type": "contourcarpet"
           }
          ],
          "heatmap": [
           {
            "colorbar": {
             "outlinewidth": 1,
             "tickcolor": "rgb(36,36,36)",
             "ticks": "outside"
            },
            "colorscale": [
             [
              0.0,
              "#440154"
             ],
             [
              0.1111111111111111,
              "#482878"
             ],
             [
              0.2222222222222222,
              "#3e4989"
             ],
             [
              0.3333333333333333,
              "#31688e"
             ],
             [
              0.4444444444444444,
              "#26828e"
             ],
             [
              0.5555555555555556,
              "#1f9e89"
             ],
             [
              0.6666666666666666,
              "#35b779"
             ],
             [
              0.7777777777777778,
              "#6ece58"
             ],
             [
              0.8888888888888888,
              "#b5de2b"
             ],
             [
              1.0,
              "#fde725"
             ]
            ],
            "type": "heatmap"
           }
          ],
          "heatmapgl": [
           {
            "colorbar": {
             "outlinewidth": 1,
             "tickcolor": "rgb(36,36,36)",
             "ticks": "outside"
            },
            "colorscale": [
             [
              0.0,
              "#440154"
             ],
             [
              0.1111111111111111,
              "#482878"
             ],
             [
              0.2222222222222222,
              "#3e4989"
             ],
             [
              0.3333333333333333,
              "#31688e"
             ],
             [
              0.4444444444444444,
              "#26828e"
             ],
             [
              0.5555555555555556,
              "#1f9e89"
             ],
             [
              0.6666666666666666,
              "#35b779"
             ],
             [
              0.7777777777777778,
              "#6ece58"
             ],
             [
              0.8888888888888888,
              "#b5de2b"
             ],
             [
              1.0,
              "#fde725"
             ]
            ],
            "type": "heatmapgl"
           }
          ],
          "histogram": [
           {
            "marker": {
             "line": {
              "color": "white",
              "width": 0.6
             }
            },
            "type": "histogram"
           }
          ],
          "histogram2d": [
           {
            "colorbar": {
             "outlinewidth": 1,
             "tickcolor": "rgb(36,36,36)",
             "ticks": "outside"
            },
            "colorscale": [
             [
              0.0,
              "#440154"
             ],
             [
              0.1111111111111111,
              "#482878"
             ],
             [
              0.2222222222222222,
              "#3e4989"
             ],
             [
              0.3333333333333333,
              "#31688e"
             ],
             [
              0.4444444444444444,
              "#26828e"
             ],
             [
              0.5555555555555556,
              "#1f9e89"
             ],
             [
              0.6666666666666666,
              "#35b779"
             ],
             [
              0.7777777777777778,
              "#6ece58"
             ],
             [
              0.8888888888888888,
              "#b5de2b"
             ],
             [
              1.0,
              "#fde725"
             ]
            ],
            "type": "histogram2d"
           }
          ],
          "histogram2dcontour": [
           {
            "colorbar": {
             "outlinewidth": 1,
             "tickcolor": "rgb(36,36,36)",
             "ticks": "outside"
            },
            "colorscale": [
             [
              0.0,
              "#440154"
             ],
             [
              0.1111111111111111,
              "#482878"
             ],
             [
              0.2222222222222222,
              "#3e4989"
             ],
             [
              0.3333333333333333,
              "#31688e"
             ],
             [
              0.4444444444444444,
              "#26828e"
             ],
             [
              0.5555555555555556,
              "#1f9e89"
             ],
             [
              0.6666666666666666,
              "#35b779"
             ],
             [
              0.7777777777777778,
              "#6ece58"
             ],
             [
              0.8888888888888888,
              "#b5de2b"
             ],
             [
              1.0,
              "#fde725"
             ]
            ],
            "type": "histogram2dcontour"
           }
          ],
          "mesh3d": [
           {
            "colorbar": {
             "outlinewidth": 1,
             "tickcolor": "rgb(36,36,36)",
             "ticks": "outside"
            },
            "type": "mesh3d"
           }
          ],
          "parcoords": [
           {
            "line": {
             "colorbar": {
              "outlinewidth": 1,
              "tickcolor": "rgb(36,36,36)",
              "ticks": "outside"
             }
            },
            "type": "parcoords"
           }
          ],
          "pie": [
           {
            "automargin": true,
            "type": "pie"
           }
          ],
          "scatter": [
           {
            "fillpattern": {
             "fillmode": "overlay",
             "size": 10,
             "solidity": 0.2
            },
            "type": "scatter"
           }
          ],
          "scatter3d": [
           {
            "line": {
             "colorbar": {
              "outlinewidth": 1,
              "tickcolor": "rgb(36,36,36)",
              "ticks": "outside"
             }
            },
            "marker": {
             "colorbar": {
              "outlinewidth": 1,
              "tickcolor": "rgb(36,36,36)",
              "ticks": "outside"
             }
            },
            "type": "scatter3d"
           }
          ],
          "scattercarpet": [
           {
            "marker": {
             "colorbar": {
              "outlinewidth": 1,
              "tickcolor": "rgb(36,36,36)",
              "ticks": "outside"
             }
            },
            "type": "scattercarpet"
           }
          ],
          "scattergeo": [
           {
            "marker": {
             "colorbar": {
              "outlinewidth": 1,
              "tickcolor": "rgb(36,36,36)",
              "ticks": "outside"
             }
            },
            "type": "scattergeo"
           }
          ],
          "scattergl": [
           {
            "marker": {
             "colorbar": {
              "outlinewidth": 1,
              "tickcolor": "rgb(36,36,36)",
              "ticks": "outside"
             }
            },
            "type": "scattergl"
           }
          ],
          "scattermapbox": [
           {
            "marker": {
             "colorbar": {
              "outlinewidth": 1,
              "tickcolor": "rgb(36,36,36)",
              "ticks": "outside"
             }
            },
            "type": "scattermapbox"
           }
          ],
          "scatterpolar": [
           {
            "marker": {
             "colorbar": {
              "outlinewidth": 1,
              "tickcolor": "rgb(36,36,36)",
              "ticks": "outside"
             }
            },
            "type": "scatterpolar"
           }
          ],
          "scatterpolargl": [
           {
            "marker": {
             "colorbar": {
              "outlinewidth": 1,
              "tickcolor": "rgb(36,36,36)",
              "ticks": "outside"
             }
            },
            "type": "scatterpolargl"
           }
          ],
          "scatterternary": [
           {
            "marker": {
             "colorbar": {
              "outlinewidth": 1,
              "tickcolor": "rgb(36,36,36)",
              "ticks": "outside"
             }
            },
            "type": "scatterternary"
           }
          ],
          "surface": [
           {
            "colorbar": {
             "outlinewidth": 1,
             "tickcolor": "rgb(36,36,36)",
             "ticks": "outside"
            },
            "colorscale": [
             [
              0.0,
              "#440154"
             ],
             [
              0.1111111111111111,
              "#482878"
             ],
             [
              0.2222222222222222,
              "#3e4989"
             ],
             [
              0.3333333333333333,
              "#31688e"
             ],
             [
              0.4444444444444444,
              "#26828e"
             ],
             [
              0.5555555555555556,
              "#1f9e89"
             ],
             [
              0.6666666666666666,
              "#35b779"
             ],
             [
              0.7777777777777778,
              "#6ece58"
             ],
             [
              0.8888888888888888,
              "#b5de2b"
             ],
             [
              1.0,
              "#fde725"
             ]
            ],
            "type": "surface"
           }
          ],
          "table": [
           {
            "cells": {
             "fill": {
              "color": "rgb(237,237,237)"
             },
             "line": {
              "color": "white"
             }
            },
            "header": {
             "fill": {
              "color": "rgb(217,217,217)"
             },
             "line": {
              "color": "white"
             }
            },
            "type": "table"
           }
          ]
         },
         "layout": {
          "annotationdefaults": {
           "arrowhead": 0,
           "arrowwidth": 1
          },
          "autotypenumbers": "strict",
          "coloraxis": {
           "colorbar": {
            "outlinewidth": 1,
            "tickcolor": "rgb(36,36,36)",
            "ticks": "outside"
           }
          },
          "colorscale": {
           "diverging": [
            [
             0.0,
             "rgb(103,0,31)"
            ],
            [
             0.1,
             "rgb(178,24,43)"
            ],
            [
             0.2,
             "rgb(214,96,77)"
            ],
            [
             0.3,
             "rgb(244,165,130)"
            ],
            [
             0.4,
             "rgb(253,219,199)"
            ],
            [
             0.5,
             "rgb(247,247,247)"
            ],
            [
             0.6,
             "rgb(209,229,240)"
            ],
            [
             0.7,
             "rgb(146,197,222)"
            ],
            [
             0.8,
             "rgb(67,147,195)"
            ],
            [
             0.9,
             "rgb(33,102,172)"
            ],
            [
             1.0,
             "rgb(5,48,97)"
            ]
           ],
           "sequential": [
            [
             0.0,
             "#440154"
            ],
            [
             0.1111111111111111,
             "#482878"
            ],
            [
             0.2222222222222222,
             "#3e4989"
            ],
            [
             0.3333333333333333,
             "#31688e"
            ],
            [
             0.4444444444444444,
             "#26828e"
            ],
            [
             0.5555555555555556,
             "#1f9e89"
            ],
            [
             0.6666666666666666,
             "#35b779"
            ],
            [
             0.7777777777777778,
             "#6ece58"
            ],
            [
             0.8888888888888888,
             "#b5de2b"
            ],
            [
             1.0,
             "#fde725"
            ]
           ],
           "sequentialminus": [
            [
             0.0,
             "#440154"
            ],
            [
             0.1111111111111111,
             "#482878"
            ],
            [
             0.2222222222222222,
             "#3e4989"
            ],
            [
             0.3333333333333333,
             "#31688e"
            ],
            [
             0.4444444444444444,
             "#26828e"
            ],
            [
             0.5555555555555556,
             "#1f9e89"
            ],
            [
             0.6666666666666666,
             "#35b779"
            ],
            [
             0.7777777777777778,
             "#6ece58"
            ],
            [
             0.8888888888888888,
             "#b5de2b"
            ],
            [
             1.0,
             "#fde725"
            ]
           ]
          },
          "colorway": [
           "#91268F",
           "#8CC63E",
           "#00A7A0",
           "#F05A28",
           "#4C4C4C",
           "#630460",
           "#9f3913",
           "#588527",
           "#00716c",
           "#3e4040"
          ],
          "font": {
           "color": "rgb(36,36,36)",
           "family": "Poppins",
           "size": 11
          },
          "geo": {
           "bgcolor": "white",
           "lakecolor": "white",
           "landcolor": "white",
           "showlakes": true,
           "showland": true,
           "subunitcolor": "white"
          },
          "hoverlabel": {
           "align": "left"
          },
          "hovermode": "closest",
          "mapbox": {
           "style": "light"
          },
          "paper_bgcolor": "white",
          "plot_bgcolor": "white",
          "polar": {
           "angularaxis": {
            "gridcolor": "rgb(232,232,232)",
            "linecolor": "rgb(36,36,36)",
            "showgrid": false,
            "showline": true,
            "ticks": "outside"
           },
           "bgcolor": "white",
           "radialaxis": {
            "gridcolor": "rgb(232,232,232)",
            "linecolor": "rgb(36,36,36)",
            "showgrid": false,
            "showline": true,
            "ticks": "outside"
           }
          },
          "scene": {
           "xaxis": {
            "backgroundcolor": "white",
            "gridcolor": "rgb(232,232,232)",
            "gridwidth": 2,
            "linecolor": "rgb(36,36,36)",
            "showbackground": true,
            "showgrid": false,
            "showline": true,
            "ticks": "outside",
            "zeroline": false,
            "zerolinecolor": "rgb(36,36,36)"
           },
           "yaxis": {
            "backgroundcolor": "white",
            "gridcolor": "rgb(232,232,232)",
            "gridwidth": 2,
            "linecolor": "rgb(36,36,36)",
            "showbackground": true,
            "showgrid": false,
            "showline": true,
            "ticks": "outside",
            "zeroline": false,
            "zerolinecolor": "rgb(36,36,36)"
           },
           "zaxis": {
            "backgroundcolor": "white",
            "gridcolor": "rgb(232,232,232)",
            "gridwidth": 2,
            "linecolor": "rgb(36,36,36)",
            "showbackground": true,
            "showgrid": false,
            "showline": true,
            "ticks": "outside",
            "zeroline": false,
            "zerolinecolor": "rgb(36,36,36)"
           }
          },
          "shapedefaults": {
           "fillcolor": "black",
           "line": {
            "width": 0
           },
           "opacity": 0.3
          },
          "ternary": {
           "aaxis": {
            "gridcolor": "rgb(232,232,232)",
            "linecolor": "rgb(36,36,36)",
            "showgrid": false,
            "showline": true,
            "ticks": "outside"
           },
           "baxis": {
            "gridcolor": "rgb(232,232,232)",
            "linecolor": "rgb(36,36,36)",
            "showgrid": false,
            "showline": true,
            "ticks": "outside"
           },
           "bgcolor": "white",
           "caxis": {
            "gridcolor": "rgb(232,232,232)",
            "linecolor": "rgb(36,36,36)",
            "showgrid": false,
            "showline": true,
            "ticks": "outside"
           }
          },
          "title": {
           "x": 0.05
          },
          "xaxis": {
           "automargin": true,
           "gridcolor": "rgb(232,232,232)",
           "linecolor": "rgb(36,36,36)",
           "showgrid": false,
           "showline": true,
           "ticks": "outside",
           "title": {
            "standoff": 15
           },
           "zeroline": false,
           "zerolinecolor": "rgb(36,36,36)"
          },
          "yaxis": {
           "automargin": true,
           "gridcolor": "rgb(232,232,232)",
           "linecolor": "rgb(36,36,36)",
           "showgrid": false,
           "showline": true,
           "ticks": "outside",
           "title": {
            "standoff": 15
           },
           "zeroline": false,
           "zerolinecolor": "rgb(36,36,36)"
          }
         }
        },
        "title": {
         "text": "tour origin departure hour by purpose"
        },
        "width": 850,
        "xaxis": {
         "anchor": "y",
         "categoryorder": "category ascending",
         "domain": [
          0.0,
          0.98
         ],
         "dtick": 1,
         "title": {
          "text": "tlvorg_hr"
         }
        },
        "xaxis2": {
         "anchor": "y2",
         "categoryorder": "category ascending",
         "domain": [
          0.0,
          0.98
         ],
         "dtick": 1,
         "matches": "x",
         "showticklabels": false
        },
        "xaxis3": {
         "anchor": "y3",
         "categoryorder": "category ascending",
         "domain": [
          0.0,
          0.98
         ],
         "dtick": 1,
         "matches": "x",
         "showticklabels": false
        },
        "xaxis4": {
         "anchor": "y4",
         "categoryorder": "category ascending",
         "domain": [
          0.0,
          0.98
         ],
         "dtick": 1,
         "matches": "x",
         "showticklabels": false
        },
        "xaxis5": {
         "anchor": "y5",
         "categoryorder": "category ascending",
         "domain": [
          0.0,
          0.98
         ],
         "dtick": 1,
         "matches": "x",
         "showticklabels": false
        },
        "xaxis6": {
         "anchor": "y6",
         "categoryorder": "category ascending",
         "domain": [
          0.0,
          0.98
         ],
         "dtick": 1,
         "matches": "x",
         "showticklabels": false
        },
        "yaxis": {
         "anchor": "x",
         "domain": [
          0.0,
          0.14166666666666666
         ],
         "tickformat": ".0%",
         "title": {
          "text": "percentage"
         }
        },
        "yaxis2": {
         "anchor": "x2",
         "domain": [
          0.17166666666666666,
          0.31333333333333335
         ],
         "matches": "y",
         "tickformat": ".0%",
         "title": {
          "text": "percentage"
         }
        },
        "yaxis3": {
         "anchor": "x3",
         "domain": [
          0.3433333333333333,
          0.485
         ],
         "matches": "y",
         "tickformat": ".0%",
         "title": {
          "text": "percentage"
         }
        },
        "yaxis4": {
         "anchor": "x4",
         "domain": [
          0.515,
          0.6566666666666667
         ],
         "matches": "y",
         "tickformat": ".0%",
         "title": {
          "text": "percentage"
         }
        },
        "yaxis5": {
         "anchor": "x5",
         "domain": [
          0.6866666666666666,
          0.8283333333333334
         ],
         "matches": "y",
         "tickformat": ".0%",
         "title": {
          "text": "percentage"
         }
        },
        "yaxis6": {
         "anchor": "x6",
         "domain": [
          0.8583333333333333,
          1.0
         ],
         "matches": "y",
         "tickformat": ".0%",
         "title": {
          "text": "percentage"
         }
        }
       }
      },
      "text/html": [
       "<div>                            <div id=\"6596bb06-de2f-4cfc-86aa-eb1eb3ce1e6a\" class=\"plotly-graph-div\" style=\"height:1500px; width:850px;\"></div>            <script type=\"text/javascript\">                require([\"plotly\"], function(Plotly) {                    window.PLOTLYENV=window.PLOTLYENV || {};                                    if (document.getElementById(\"6596bb06-de2f-4cfc-86aa-eb1eb3ce1e6a\")) {                    Plotly.newPlot(                        \"6596bb06-de2f-4cfc-86aa-eb1eb3ce1e6a\",                        [{\"alignmentgroup\":\"True\",\"customdata\":[[1431.0,1431.0],[822.0,822.0],[320.0,320.0],[45033.0,45033.0],[44588.0,44588.0],[100150.0,100150.0],[244985.0,244985.0],[307881.0,307881.0],[242895.0,242895.0],[125519.0,125519.0],[77807.0,77807.0],[61832.0,61832.0],[49335.0,49335.0],[37528.0,37528.0],[32392.0,32392.0],[28678.0,28678.0],[27574.0,27574.0],[27000.0,27000.0],[21961.0,21961.0],[12127.0,12127.0],[9788.0,9788.0],[6694.0,6694.0],[3216.0,3216.0],[2127.0,2127.0]],\"hovertemplate\":\"source=model\\u003cbr\\u003epdpurp_label=Work\\u003cbr\\u003etlvorg_hr=%{x}\\u003cbr\\u003epercentage=%{y}\\u003cbr\\u003etoexpfac=%{customdata[0]}\\u003cbr\\u003esample_count=%{customdata[1]}\\u003cextra\\u003e\\u003c\\u002fextra\\u003e\",\"legendgroup\":\"model\",\"marker\":{\"color\":\"#91268F\",\"pattern\":{\"shape\":\"\"}},\"name\":\"model\",\"offsetgroup\":\"model\",\"orientation\":\"v\",\"showlegend\":true,\"textposition\":\"auto\",\"x\":[0,1,2,3,4,5,6,7,8,9,10,11,12,13,14,15,16,17,18,19,20,21,22,23],\"xaxis\":\"x6\",\"y\":[0.0009466270375468931,0.0005437647972491587,0.00021168459260307882,0.02978997580842015,0.029495601921831496,0.06625066234124483,0.16206109349645395,0.2036677001725891,0.1606785285010151,0.08303261993420578,0.05147044717708673,0.04090275540572991,0.032635810550227795,0.02482531059752607,0.021427772886246654,0.01897090858334717,0.01824059673886655,0.017860887500884777,0.014527516681738168,0.008022184545304803,0.0064749024762466734,0.004428177071515655,0.002127430155660942,0.0014070410264585896],\"yaxis\":\"y6\",\"type\":\"bar\"},{\"alignmentgroup\":\"True\",\"customdata\":[[1.0,1.0],[1.0,1.0],[0.0,0.0],[2582.0,2582.0],[2557.0,2557.0],[8184.0,8184.0],[49832.0,49832.0],[130872.0,130872.0],[144998.0,144998.0],[71920.0,71920.0],[32639.0,32639.0],[20229.0,20229.0],[13114.0,13114.0],[9090.0,9090.0],[6735.0,6735.0],[5129.0,5129.0],[4755.0,4755.0],[4392.0,4392.0],[3260.0,3260.0],[1085.0,1085.0],[1017.0,1017.0],[570.0,570.0],[5.0,5.0],[1.0,1.0]],\"hovertemplate\":\"source=model\\u003cbr\\u003epdpurp_label=School\\u003cbr\\u003etlvorg_hr=%{x}\\u003cbr\\u003epercentage=%{y}\\u003cbr\\u003etoexpfac=%{customdata[0]}\\u003cbr\\u003esample_count=%{customdata[1]}\\u003cextra\\u003e\\u003c\\u002fextra\\u003e\",\"legendgroup\":\"model\",\"marker\":{\"color\":\"#91268F\",\"pattern\":{\"shape\":\"\"}},\"name\":\"model\",\"offsetgroup\":\"model\",\"orientation\":\"v\",\"showlegend\":false,\"textposition\":\"auto\",\"x\":[0,1,2,3,4,5,6,7,8,9,10,11,12,13,14,15,16,17,18,19,20,21,22,23],\"xaxis\":\"x5\",\"y\":[1.9494393412454577e-06,1.9494393412454577e-06,0.0,0.005033452379095772,0.004984716395564636,0.015954211568752825,0.09714446125294365,0.25512702546747557,0.2826648056019089,0.14020367742237333,0.06362775065891049,0.03943520843405437,0.025564947521092934,0.01772040361192121,0.013129473963288158,0.009998674381247952,0.009269584067622152,0.00856193758675005,0.006355172252460193,0.002115141685251322,0.0019825798100466304,0.001111180424509911,9.747196706227289e-06,1.9494393412454577e-06],\"yaxis\":\"y5\",\"type\":\"bar\"},{\"alignmentgroup\":\"True\",\"customdata\":[[290.0,290.0],[215.0,215.0],[107.0,107.0],[928.0,928.0],[696.0,696.0],[1724.0,1724.0],[8631.0,8631.0],[25942.0,25942.0],[45161.0,45161.0],[56875.0,56875.0],[57809.0,57809.0],[48194.0,48194.0],[46813.0,46813.0],[49802.0,49802.0],[46156.0,46156.0],[42747.0,42747.0],[45968.0,45968.0],[41596.0,41596.0],[38876.0,38876.0],[24565.0,24565.0],[15037.0,15037.0],[7329.0,7329.0],[1971.0,1971.0],[988.0,988.0]],\"hovertemplate\":\"source=model\\u003cbr\\u003epdpurp_label=Shop\\u003cbr\\u003etlvorg_hr=%{x}\\u003cbr\\u003epercentage=%{y}\\u003cbr\\u003etoexpfac=%{customdata[0]}\\u003cbr\\u003esample_count=%{customdata[1]}\\u003cextra\\u003e\\u003c\\u002fextra\\u003e\",\"legendgroup\":\"model\",\"marker\":{\"color\":\"#91268F\",\"pattern\":{\"shape\":\"\"}},\"name\":\"model\",\"offsetgroup\":\"model\",\"orientation\":\"v\",\"showlegend\":false,\"textposition\":\"auto\",\"x\":[0,1,2,3,4,5,6,7,8,9,10,11,12,13,14,15,16,17,18,19,20,21,22,23],\"xaxis\":\"x4\",\"y\":[0.00047664442326024784,0.00035337431379639067,0.00017586535616843628,0.001525262154432793,0.001143946615824595,0.0028335689162091978,0.014185924197100687,0.04263830906281845,0.07422668551329674,0.09347983301009172,0.09501495677328162,0.07921172874001513,0.07694191512442063,0.08185463988692022,0.07586206896551724,0.07025903159002005,0.07555307189112784,0.06836724631011472,0.0638966503402255,0.04037506985306203,0.02471483514677361,0.012045955096808126,0.003239538476710167,0.001623878242003879],\"yaxis\":\"y4\",\"type\":\"bar\"},{\"alignmentgroup\":\"True\",\"customdata\":[[604.0,604.0],[468.0,468.0],[154.0,154.0],[1736.0,1736.0],[1483.0,1483.0],[3235.0,3235.0],[9274.0,9274.0],[15619.0,15619.0],[33277.0,33277.0],[46669.0,46669.0],[71143.0,71143.0],[75672.0,75672.0],[83517.0,83517.0],[57403.0,57403.0],[54657.0,54657.0],[43689.0,43689.0],[44240.0,44240.0],[44648.0,44648.0],[45184.0,45184.0],[25833.0,25833.0],[22143.0,22143.0],[18145.0,18145.0],[3264.0,3264.0],[1655.0,1655.0]],\"hovertemplate\":\"source=model\\u003cbr\\u003epdpurp_label=Meal\\u003cbr\\u003etlvorg_hr=%{x}\\u003cbr\\u003epercentage=%{y}\\u003cbr\\u003etoexpfac=%{customdata[0]}\\u003cbr\\u003esample_count=%{customdata[1]}\\u003cextra\\u003e\\u003c\\u002fextra\\u003e\",\"legendgroup\":\"model\",\"marker\":{\"color\":\"#91268F\",\"pattern\":{\"shape\":\"\"}},\"name\":\"model\",\"offsetgroup\":\"model\",\"orientation\":\"v\",\"showlegend\":false,\"textposition\":\"auto\",\"x\":[0,1,2,3,4,5,6,7,8,9,10,11,12,13,14,15,16,17,18,19,20,21,22,23],\"xaxis\":\"x3\",\"y\":[0.0008583056705015688,0.0006650447910508845,0.00021883952526033376,0.0024669182847528535,0.002107396207539448,0.004597051066345323,0.013178686735482698,0.02219515938338411,0.04728781092265018,0.06631832340502933,0.10109675549088264,0.10753262698376609,0.11868065344913828,0.08157172252285026,0.07766955800100041,0.06208363648765404,0.06286662725660498,0.06344640989495703,0.06420808512573326,0.03670961984448183,0.03146599745350371,0.02578469601200491,0.004638261106816425,0.002351814378609431],\"yaxis\":\"y3\",\"type\":\"bar\"},{\"alignmentgroup\":\"True\",\"customdata\":[[284.0,284.0],[227.0,227.0],[138.0,138.0],[7463.0,7463.0],[4427.0,4427.0],[7791.0,7791.0],[24905.0,24905.0],[46735.0,46735.0],[69105.0,69105.0],[78472.0,78472.0],[70502.0,70502.0],[52834.0,52834.0],[48153.0,48153.0],[49468.0,49468.0],[43834.0,43834.0],[41346.0,41346.0],[42139.0,42139.0],[34939.0,34939.0],[30968.0,30968.0],[21167.0,21167.0],[15305.0,15305.0],[8600.0,8600.0],[2476.0,2476.0],[1229.0,1229.0]],\"hovertemplate\":\"source=model\\u003cbr\\u003epdpurp_label=Escort\\u003cbr\\u003etlvorg_hr=%{x}\\u003cbr\\u003epercentage=%{y}\\u003cbr\\u003etoexpfac=%{customdata[0]}\\u003cbr\\u003esample_count=%{customdata[1]}\\u003cextra\\u003e\\u003c\\u002fextra\\u003e\",\"legendgroup\":\"model\",\"marker\":{\"color\":\"#91268F\",\"pattern\":{\"shape\":\"\"}},\"name\":\"model\",\"offsetgroup\":\"model\",\"orientation\":\"v\",\"showlegend\":false,\"textposition\":\"auto\",\"x\":[0,1,2,3,4,5,6,7,8,9,10,11,12,13,14,15,16,17,18,19,20,21,22,23],\"xaxis\":\"x2\",\"y\":[0.00040426643435581425,0.00032312845281256983,0.00019643932373627593,0.010623381688723387,0.006301716566525316,0.011090280950937144,0.035451604040956174,0.06652602749865838,0.09836912657098079,0.11170280153792062,0.10035771885547048,0.07520779152378552,0.06854451272371663,0.07041638019265288,0.06239653128011536,0.05885492955942076,0.05998374393422414,0.04973473573928801,0.044082123025108645,0.030130660619751833,0.021786259781041328,0.01224187089950705,0.0035245200403697047,0.001749448759941182],\"yaxis\":\"y2\",\"type\":\"bar\"},{\"alignmentgroup\":\"True\",\"customdata\":[[146.0,146.0],[106.0,106.0],[48.0,48.0],[2066.0,2066.0],[1211.0,1211.0],[2665.0,2665.0],[8387.0,8387.0],[17318.0,17318.0],[28829.0,28829.0],[34556.0,34556.0],[33691.0,33691.0],[27053.0,27053.0],[25653.0,25653.0],[25204.0,25204.0],[21444.0,21444.0],[19646.0,19646.0],[21779.0,21779.0],[20027.0,20027.0],[17783.0,17783.0],[10655.0,10655.0],[7672.0,7672.0],[4736.0,4736.0],[1087.0,1087.0],[450.0,450.0]],\"hovertemplate\":\"source=model\\u003cbr\\u003epdpurp_label=Personal Business\\u003cbr\\u003etlvorg_hr=%{x}\\u003cbr\\u003epercentage=%{y}\\u003cbr\\u003etoexpfac=%{customdata[0]}\\u003cbr\\u003esample_count=%{customdata[1]}\\u003cextra\\u003e\\u003c\\u002fextra\\u003e\",\"legendgroup\":\"model\",\"marker\":{\"color\":\"#91268F\",\"pattern\":{\"shape\":\"\"}},\"name\":\"model\",\"offsetgroup\":\"model\",\"orientation\":\"v\",\"showlegend\":false,\"textposition\":\"auto\",\"x\":[0,1,2,3,4,5,6,7,8,9,10,11,12,13,14,15,16,17,18,19,20,21,22,23],\"xaxis\":\"x\",\"y\":[0.0004394784053556163,0.00031907336279243375,0.00014448605107581904,0.006218920448388379,0.0036452626636003516,0.008021985960772037,0.0252459272994353,0.052129363177729884,0.08677892430134974,0.1040179162703334,0.10141415722490459,0.08143294041154443,0.07721876392183305,0.07586721731906132,0.06454914331812216,0.05913693665490711,0.06555753554958882,0.06028379468532142,0.05352907179752688,0.03207289321276775,0.023093687163618412,0.014255957039480814,0.003272007031654486,0.0013545567288358036],\"yaxis\":\"y\",\"type\":\"bar\"},{\"alignmentgroup\":\"True\",\"customdata\":[[0.0,0.0],[551.958469674964,1.0],[0.0,0.0],[12103.963456859357,20.0],[74931.36061469572,63.0],[99400.45954333004,126.0],[248864.77578781146,354.0],[311397.3539980395,588.0],[206346.47840445887,495.0],[127703.56018230686,269.0],[59092.504106178,166.0],[37766.292036595085,93.0],[26888.870887293404,95.0],[30687.932298089298,67.0],[32953.44141765535,59.0],[26993.205859767655,52.0],[15880.497234966046,27.0],[9067.667081552125,38.0],[3106.2604648083056,10.0],[1354.8011261771373,8.0],[2491.513138185322,8.0],[1284.2515745934531,3.0],[7463.727136272969,6.0],[255.98038726538,1.0]],\"hovertemplate\":\"source=survey\\u003cbr\\u003epdpurp_label=Work\\u003cbr\\u003etlvorg_hr=%{x}\\u003cbr\\u003epercentage=%{y}\\u003cbr\\u003etoexpfac=%{customdata[0]}\\u003cbr\\u003esample_count=%{customdata[1]}\\u003cextra\\u003e\\u003c\\u002fextra\\u003e\",\"legendgroup\":\"survey\",\"marker\":{\"color\":\"#8CC63E\",\"pattern\":{\"shape\":\"\"}},\"name\":\"survey\",\"offsetgroup\":\"survey\",\"orientation\":\"v\",\"showlegend\":true,\"textposition\":\"auto\",\"x\":[0,1,2,3,4,5,6,7,8,9,10,11,12,13,14,15,16,17,18,19,20,21,22,23],\"xaxis\":\"x6\",\"y\":[0.0,0.00041296116861006844,0.0,0.009055874977154873,0.05606172193210347,0.07436887408859577,0.18619424156266162,0.2329795125434714,0.15438314210606763,0.09554452797799634,0.0442114957782111,0.028255770950820935,0.020117563465890585,0.02295992376293894,0.02465491957315578,0.020195624215977884,0.011881380677286129,0.006784195913815621,0.0023240244004406416,0.0010136274503221461,0.0018640862196720065,0.0009608440855083568,0.005584169189752665,0.00019151795954615829],\"yaxis\":\"y6\",\"type\":\"bar\"},{\"alignmentgroup\":\"True\",\"customdata\":[[0.0,0.0],[0.0,0.0],[0.0,0.0],[0.0,0.0],[75.6029420675361,1.0],[944.6388505184881,3.0],[26697.98862443798,28.0],[177732.16684628103,225.0],[224775.58031354484,254.0],[48085.78968965203,55.0],[16161.271083577121,16.0],[3333.250470946136,11.0],[5015.600869289834,10.0],[7404.664188706871,9.0],[2229.590294654095,10.0],[387.7845844848059,5.0],[4969.783185943033,6.0],[1663.3036370758678,16.0],[278.949359175002,2.0],[156.064494787723,1.0],[0.0,0.0],[0.0,0.0],[0.0,0.0],[0.0,0.0]],\"hovertemplate\":\"source=survey\\u003cbr\\u003epdpurp_label=School\\u003cbr\\u003etlvorg_hr=%{x}\\u003cbr\\u003epercentage=%{y}\\u003cbr\\u003etoexpfac=%{customdata[0]}\\u003cbr\\u003esample_count=%{customdata[1]}\\u003cextra\\u003e\\u003c\\u002fextra\\u003e\",\"legendgroup\":\"survey\",\"marker\":{\"color\":\"#8CC63E\",\"pattern\":{\"shape\":\"\"}},\"name\":\"survey\",\"offsetgroup\":\"survey\",\"orientation\":\"v\",\"showlegend\":false,\"textposition\":\"auto\",\"x\":[0,1,2,3,4,5,6,7,8,9,10,11,12,13,14,15,16,17,18,19,20,21,22,23],\"xaxis\":\"x5\",\"y\":[0.0,0.0,0.0,0.0,0.00014541487364636436,0.0018169205500876552,0.051350973074125575,0.34185046081618436,0.4323338710930615,0.09248831911409082,0.031084626184040228,0.006411181665805157,0.009647018313346252,0.014242148227944748,0.004288399129899783,0.0007458657667646464,0.009558892475218251,0.003199202062862368,0.0005365318426620481,0.00030017481026026465,0.0,0.0,0.0,0.0],\"yaxis\":\"y5\",\"type\":\"bar\"},{\"alignmentgroup\":\"True\",\"customdata\":[[484.372679805163,1.0],[0.0,0.0],[306.34798152004703,1.0],[0.0,0.0],[0.0,0.0],[666.5076935107627,5.0],[313.25665406101865,3.0],[14566.76265231447,36.0],[13516.049841091384,51.0],[50812.554897267575,115.0],[82880.44853573837,157.0],[55309.722403559426,114.0],[45890.27107482399,117.0],[50827.820885111934,126.0],[75501.3702501398,148.0],[32651.12387925838,103.0],[53869.43630344453,99.0],[42465.29577867404,112.0],[59091.90904342833,92.0],[17193.175848295632,83.0],[2933.980540218817,23.0],[766.8642961489354,9.0],[1307.606066716253,7.0],[8.1104247487979,1.0]],\"hovertemplate\":\"source=survey\\u003cbr\\u003epdpurp_label=Shop\\u003cbr\\u003etlvorg_hr=%{x}\\u003cbr\\u003epercentage=%{y}\\u003cbr\\u003etoexpfac=%{customdata[0]}\\u003cbr\\u003esample_count=%{customdata[1]}\\u003cextra\\u003e\\u003c\\u002fextra\\u003e\",\"legendgroup\":\"survey\",\"marker\":{\"color\":\"#8CC63E\",\"pattern\":{\"shape\":\"\"}},\"name\":\"survey\",\"offsetgroup\":\"survey\",\"orientation\":\"v\",\"showlegend\":false,\"textposition\":\"auto\",\"x\":[0,1,2,3,4,5,6,7,8,9,10,11,12,13,14,15,16,17,18,19,20,21,22,23],\"xaxis\":\"x4\",\"y\":[0.0008054580838665369,0.0,0.000509422740958001,0.0,0.0,0.0011083284257762582,0.0005209110977108029,0.024222911867761338,0.022475692912385506,0.08449564727799931,0.13782100033892822,0.09197393842336642,0.07631043481418438,0.08452103292386685,0.1255504109675166,0.0542952003124022,0.08957890226466977,0.07061508048404992,0.09826329562864856,0.028590345929334984,0.0048788844675900014,0.0012752103335188932,0.0021744039679801644,1.3486737485149266e-05],\"yaxis\":\"y4\",\"type\":\"bar\"},{\"alignmentgroup\":\"True\",\"customdata\":[[0.0,0.0],[0.0,0.0],[0.0,0.0],[0.0,0.0],[10.6381727331061,1.0],[45.94185906792442,2.0],[1619.3993794124167,7.0],[24185.691730630075,21.0],[16592.386288810565,43.0],[14795.148137337193,46.0],[16320.043882478165,53.0],[51142.26052510319,105.0],[37661.62049466346,109.0],[34280.917362739485,57.0],[11239.722298735183,37.0],[18416.89838924778,53.0],[18899.62355502986,57.0],[52022.95421104775,88.0],[36491.24558242314,99.0],[41737.41209779713,51.0],[7901.458825086891,30.0],[13430.676065534126,12.0],[71.5547812881571,2.0],[1328.6639472156842,2.0]],\"hovertemplate\":\"source=survey\\u003cbr\\u003epdpurp_label=Meal\\u003cbr\\u003etlvorg_hr=%{x}\\u003cbr\\u003epercentage=%{y}\\u003cbr\\u003etoexpfac=%{customdata[0]}\\u003cbr\\u003esample_count=%{customdata[1]}\\u003cextra\\u003e\\u003c\\u002fextra\\u003e\",\"legendgroup\":\"survey\",\"marker\":{\"color\":\"#8CC63E\",\"pattern\":{\"shape\":\"\"}},\"name\":\"survey\",\"offsetgroup\":\"survey\",\"orientation\":\"v\",\"showlegend\":false,\"textposition\":\"auto\",\"x\":[0,1,2,3,4,5,6,7,8,9,10,11,12,13,14,15,16,17,18,19,20,21,22,23],\"xaxis\":\"x3\",\"y\":[0.0,0.0,0.0,0.0,2.671603753803088e-05,0.00011537549372609457,0.004066857692092951,0.06073842419835352,0.041669074761107365,0.037155603968316006,0.04098513118044606,0.12843545468258988,0.09458102365148606,0.08609093855479028,0.02822673126142941,0.04625103963296748,0.04746332523625084,0.13064717338311257,0.09164181774898399,0.10481671019261982,0.0198432264517848,0.03372895467388948,0.00017969817475992742,0.0033367230237554436],\"yaxis\":\"y3\",\"type\":\"bar\"},{\"alignmentgroup\":\"True\",\"customdata\":[[0.0,0.0],[0.0,0.0],[0.0,0.0],[0.0,0.0],[3756.89486105699,1.0],[15977.13796108429,13.0],[24639.469470863194,18.0],[123296.63420487581,121.0],[116124.15215709507,163.0],[44784.66324259696,57.0],[15896.147247396682,30.0],[19721.257583932624,29.0],[17818.68002140592,43.0],[37185.892487532255,52.0],[72148.76360733972,80.0],[72334.71357971721,86.0],[25184.81205221003,63.0],[52928.80856852309,69.0],[5787.712909927875,25.0],[5242.84440129033,17.0],[2041.5346810067565,8.0],[898.543349349546,5.0],[4675.392899869981,5.0],[0.0,0.0]],\"hovertemplate\":\"source=survey\\u003cbr\\u003epdpurp_label=Escort\\u003cbr\\u003etlvorg_hr=%{x}\\u003cbr\\u003epercentage=%{y}\\u003cbr\\u003etoexpfac=%{customdata[0]}\\u003cbr\\u003esample_count=%{customdata[1]}\\u003cextra\\u003e\\u003c\\u002fextra\\u003e\",\"legendgroup\":\"survey\",\"marker\":{\"color\":\"#8CC63E\",\"pattern\":{\"shape\":\"\"}},\"name\":\"survey\",\"offsetgroup\":\"survey\",\"orientation\":\"v\",\"showlegend\":false,\"textposition\":\"auto\",\"x\":[0,1,2,3,4,5,6,7,8,9,10,11,12,13,14,15,16,17,18,19,20,21,22,23],\"xaxis\":\"x2\",\"y\":[0.0,0.0,0.0,0.0,0.005688437697306528,0.024191508475520353,0.037307428651399084,0.18668747673303326,0.17582738647957025,0.06780992709992745,0.024068877780249118,0.02986060276575646,0.026979847693020264,0.05630437913680473,0.10924280872810478,0.10952436167856122,0.03813314973554116,0.08014124458356522,0.008763365895408262,0.00793836262030011,0.0030911546022158766,0.001360513948390341,0.007079165695325601,0.0],\"yaxis\":\"y2\",\"type\":\"bar\"},{\"alignmentgroup\":\"True\",\"customdata\":[[0.0,0.0],[0.0,0.0],[0.0,0.0],[0.0,0.0],[0.0,0.0],[10663.035371550308,5.0],[5380.734653984139,21.0],[29389.618600087004,57.0],[23567.08931472589,54.0],[21265.68791425479,80.0],[31020.636880102895,82.0],[29667.33682676109,61.0],[20348.92199668735,73.0],[28689.578870672518,79.0],[40365.683206848276,73.0],[28112.636222380563,55.0],[8036.796422910787,44.0],[15870.549173199572,29.0],[5254.77023384645,16.0],[7876.896164187973,12.0],[817.8571988340665,8.0],[208.4084893501812,3.0],[46.9407483680735,1.0],[0.0,0.0]],\"hovertemplate\":\"source=survey\\u003cbr\\u003epdpurp_label=Personal Business\\u003cbr\\u003etlvorg_hr=%{x}\\u003cbr\\u003epercentage=%{y}\\u003cbr\\u003etoexpfac=%{customdata[0]}\\u003cbr\\u003esample_count=%{customdata[1]}\\u003cextra\\u003e\\u003c\\u002fextra\\u003e\",\"legendgroup\":\"survey\",\"marker\":{\"color\":\"#8CC63E\",\"pattern\":{\"shape\":\"\"}},\"name\":\"survey\",\"offsetgroup\":\"survey\",\"orientation\":\"v\",\"showlegend\":false,\"textposition\":\"auto\",\"x\":[0,1,2,3,4,5,6,7,8,9,10,11,12,13,14,15,16,17,18,19,20,21,22,23],\"xaxis\":\"x\",\"y\":[0.0,0.0,0.0,0.0,0.0,0.03478023625127745,0.017550651943846557,0.09586181069728072,0.07687013177392757,0.06936351835398465,0.10118179690500324,0.0967676602230904,0.06637325019026956,0.0935784508165401,0.1316630724234658,0.09169660377094464,0.026214081502349815,0.051765883770218055,0.017139786543987432,0.025692525624381148,0.002667651902492109,0.0006797779660105618,0.0001531093409301892,0.0],\"yaxis\":\"y\",\"type\":\"bar\"},{\"alignmentgroup\":\"True\",\"customdata\":[[0.0,0.0],[290.035564242689,1.0],[0.0,0.0],[14788.625070075419,21.0],[62334.98080849343,65.0],[110560.94845318861,135.0],[231832.64991962665,369.0],[345802.4190378416,614.0],[258891.17064905204,504.0],[138775.7528467847,292.0],[41934.64180856641,170.0],[37958.57044734343,99.0],[31180.959769409055,106.0],[24948.05578014202,69.0],[27287.01473768372,62.0],[27505.411115810744,50.0],[19075.53144467118,33.0],[12319.997987789657,34.0],[1955.1087945262727,10.0],[745.7762566027517,7.0],[270.8142398817476,7.0],[113.8011265835064,3.0],[387.3586482889782,6.0],[235.31298890314352,1.0]],\"hovertemplate\":\"source=survey (update)\\u003cbr\\u003epdpurp_label=Work\\u003cbr\\u003etlvorg_hr=%{x}\\u003cbr\\u003epercentage=%{y}\\u003cbr\\u003etoexpfac=%{customdata[0]}\\u003cbr\\u003esample_count=%{customdata[1]}\\u003cextra\\u003e\\u003c\\u002fextra\\u003e\",\"legendgroup\":\"survey (update)\",\"marker\":{\"color\":\"#00A7A0\",\"pattern\":{\"shape\":\"\"}},\"name\":\"survey (update)\",\"offsetgroup\":\"survey (update)\",\"orientation\":\"v\",\"showlegend\":true,\"textposition\":\"auto\",\"x\":[0,1,2,3,4,5,6,7,8,9,10,11,12,13,14,15,16,17,18,19,20,21,22,23],\"xaxis\":\"x6\",\"y\":[0.0,0.00020877960062651532,0.0,0.010645464269209691,0.04487129856726461,0.07958634563736029,0.1668827344977107,0.24892289030455803,0.18636057738289102,0.09989652935028309,0.030186290402243864,0.027324149709166485,0.022445345090029805,0.01795864288500741,0.019642322327259387,0.01979953307733652,0.013731356867065222,0.008868444345183553,0.0014073682114412363,0.0005368406092432677,0.00019494329598550192,8.191875993204474e-05,0.0002788367836894963,0.0001693880265122291],\"yaxis\":\"y6\",\"type\":\"bar\"},{\"alignmentgroup\":\"True\",\"customdata\":[[0.0,0.0],[0.0,0.0],[0.0,0.0],[0.0,0.0],[86.688593033636,1.0],[454.392198263691,4.0],[35841.94166273945,28.0],[184810.37813662854,229.0],[178463.91097304705,262.0],[54742.69479601805,55.0],[11578.782726445685,19.0],[4313.592683769604,14.0],[5558.5039639001925,9.0],[3238.946058029637,11.0],[2722.270337875217,6.0],[1054.04464666507,4.0],[3913.0500727283707,7.0],[869.3783619234034,5.0],[1513.89214241086,1.0],[0.0,0.0],[0.0,0.0],[0.0,0.0],[0.0,0.0],[0.0,0.0]],\"hovertemplate\":\"source=survey (update)\\u003cbr\\u003epdpurp_label=School\\u003cbr\\u003etlvorg_hr=%{x}\\u003cbr\\u003epercentage=%{y}\\u003cbr\\u003etoexpfac=%{customdata[0]}\\u003cbr\\u003esample_count=%{customdata[1]}\\u003cextra\\u003e\\u003c\\u002fextra\\u003e\",\"legendgroup\":\"survey (update)\",\"marker\":{\"color\":\"#00A7A0\",\"pattern\":{\"shape\":\"\"}},\"name\":\"survey (update)\",\"offsetgroup\":\"survey (update)\",\"orientation\":\"v\",\"showlegend\":false,\"textposition\":\"auto\",\"x\":[0,1,2,3,4,5,6,7,8,9,10,11,12,13,14,15,16,17,18,19,20,21,22,23],\"xaxis\":\"x5\",\"y\":[0.0,0.0,0.0,0.0,0.00017721840660148833,0.0009289187715527206,0.07327206001035921,0.37780980854175167,0.36483565866897455,0.11191106932670675,0.023670627857224028,0.008818323096429468,0.011363308378857098,0.006621411645814417,0.005565166012436623,0.0021547946071328416,0.007999489604955164,0.0017772793702407537,0.0030948657009632996,0.0,0.0,0.0,0.0,0.0],\"yaxis\":\"y5\",\"type\":\"bar\"},{\"alignmentgroup\":\"True\",\"customdata\":[[143.521368637738,1.0],[0.0,0.0],[570.896774611867,1.0],[0.0,0.0],[0.0,0.0],[776.7637534339301,5.0],[4769.603818802844,8.0],[12107.898756094186,36.0],[18154.742506415536,53.0],[53830.420476548745,115.0],[62551.662332100525,163.0],[71298.68910586355,122.0],[59180.63170434406,124.0],[59428.21451426868,135.0],[62755.07549026256,154.0],[68685.48809386698,111.0],[55073.59917634846,110.0],[28436.43160983523,119.0],[62362.95808194445,102.0],[20444.19135338202,89.0],[7282.428149155887,32.0],[2019.503056430456,14.0],[2349.3900106379,7.0],[628.325555652825,3.0]],\"hovertemplate\":\"source=survey (update)\\u003cbr\\u003epdpurp_label=Shop\\u003cbr\\u003etlvorg_hr=%{x}\\u003cbr\\u003epercentage=%{y}\\u003cbr\\u003etoexpfac=%{customdata[0]}\\u003cbr\\u003esample_count=%{customdata[1]}\\u003cextra\\u003e\\u003c\\u002fextra\\u003e\",\"legendgroup\":\"survey (update)\",\"marker\":{\"color\":\"#00A7A0\",\"pattern\":{\"shape\":\"\"}},\"name\":\"survey (update)\",\"offsetgroup\":\"survey (update)\",\"orientation\":\"v\",\"showlegend\":false,\"textposition\":\"auto\",\"x\":[0,1,2,3,4,5,6,7,8,9,10,11,12,13,14,15,16,17,18,19,20,21,22,23],\"xaxis\":\"x4\",\"y\":[0.00021983805293221417,0.0,0.0008744679384485281,0.0,0.0,0.0011898035307498656,0.007305813947679731,0.0185462061357477,0.027808425198132224,0.08245444520499927,0.0958131585929324,0.10921136788498334,0.09064960130097678,0.09102883488403085,0.096124735559175,0.10520861186439476,0.08435867721870452,0.04355734492210297,0.09552411191418272,0.03131527565240439,0.011154818548101679,0.003093362500861698,0.0035986649961560046,0.0009624341523032849],\"yaxis\":\"y4\",\"type\":\"bar\"},{\"alignmentgroup\":\"True\",\"customdata\":[[632.62215829592,1.0],[0.0,0.0],[0.0,0.0],[0.0,0.0],[23.312448148228,1.0],[46.07273363740228,2.0],[2925.777734452038,8.0],[23356.46439963609,20.0],[14130.041614476766,44.0],[15870.600300674025,49.0],[22019.720159185883,57.0],[34250.98114834559,106.0],[38166.71534632753,116.0],[13881.241923716083,61.0],[13340.120241994084,38.0],[31104.060703891093,56.0],[18198.03715850649,57.0],[29709.86656119251,96.0],[40049.22701963642,104.0],[34982.764543346995,55.0],[13824.595015197265,32.0],[3917.0406076992085,11.0],[64.4328417659313,2.0],[592.2696401845194,2.0]],\"hovertemplate\":\"source=survey (update)\\u003cbr\\u003epdpurp_label=Meal\\u003cbr\\u003etlvorg_hr=%{x}\\u003cbr\\u003epercentage=%{y}\\u003cbr\\u003etoexpfac=%{customdata[0]}\\u003cbr\\u003esample_count=%{customdata[1]}\\u003cextra\\u003e\\u003c\\u002fextra\\u003e\",\"legendgroup\":\"survey (update)\",\"marker\":{\"color\":\"#00A7A0\",\"pattern\":{\"shape\":\"\"}},\"name\":\"survey (update)\",\"offsetgroup\":\"survey (update)\",\"orientation\":\"v\",\"showlegend\":false,\"textposition\":\"auto\",\"x\":[0,1,2,3,4,5,6,7,8,9,10,11,12,13,14,15,16,17,18,19,20,21,22,23],\"xaxis\":\"x3\",\"y\":[0.001801901023177307,0.0,0.0,0.0,6.640096876184753e-05,0.0001312292097156947,0.008333508120391285,0.06652634048240551,0.04024667190167217,0.045204314368713173,0.06271888482659699,0.09755724987925798,0.10871045620519507,0.03953801443296213,0.03799673469880808,0.08859385981401828,0.0518335650209598,0.08462276929925756,0.1140724241125724,0.09964159237486243,0.03937666674527626,0.011156927379610857,0.00018352440233360365,0.0016869647334517394],\"yaxis\":\"y3\",\"type\":\"bar\"},{\"alignmentgroup\":\"True\",\"customdata\":[[0.0,0.0],[0.0,0.0],[0.0,0.0],[0.0,0.0],[4054.1074151579,1.0],[3621.685317844173,8.0],[14008.043944164967,15.0],[79706.75888850242,112.0],[107385.8432889369,150.0],[32796.21169392769,46.0],[5778.952525156872,27.0],[9936.136797937104,23.0],[13460.375487800955,38.0],[40000.633169023255,47.0],[56443.05266800753,72.0],[67075.08161255956,81.0],[38015.74994991364,55.0],[50697.182926902904,53.0],[3506.9784211730293,17.0],[9894.698905991168,16.0],[2107.841073937623,8.0],[330.2706023061876,5.0],[6096.135066820443,5.0],[0.0,0.0]],\"hovertemplate\":\"source=survey (update)\\u003cbr\\u003epdpurp_label=Escort\\u003cbr\\u003etlvorg_hr=%{x}\\u003cbr\\u003epercentage=%{y}\\u003cbr\\u003etoexpfac=%{customdata[0]}\\u003cbr\\u003esample_count=%{customdata[1]}\\u003cextra\\u003e\\u003c\\u002fextra\\u003e\",\"legendgroup\":\"survey (update)\",\"marker\":{\"color\":\"#00A7A0\",\"pattern\":{\"shape\":\"\"}},\"name\":\"survey (update)\",\"offsetgroup\":\"survey (update)\",\"orientation\":\"v\",\"showlegend\":false,\"textposition\":\"auto\",\"x\":[0,1,2,3,4,5,6,7,8,9,10,11,12,13,14,15,16,17,18,19,20,21,22,23],\"xaxis\":\"x2\",\"y\":[0.0,0.0,0.0,0.0,0.007439879451771301,0.006646321722080277,0.025706807350501154,0.1462735485016156,0.1970687125628065,0.06018584030736416,0.010605222245450031,0.01823426279150074,0.02470175571332661,0.07340700635098162,0.10358124853078146,0.12309257508800579,0.06976445563296022,0.09303673802778736,0.0064358178068832355,0.018158218205296485,0.003868196346982406,0.0006060948110143337,0.011187298552890811,0.0],\"yaxis\":\"y2\",\"type\":\"bar\"},{\"alignmentgroup\":\"True\",\"customdata\":[[0.0,0.0],[0.0,0.0],[0.0,0.0],[0.0,0.0],[0.0,0.0],[2325.255872414626,5.0],[6446.839968605129,21.0],[37494.19187984278,62.0],[21983.974469176625,68.0],[48225.42231837046,89.0],[27457.449132175087,93.0],[27892.063700452858,73.0],[28210.8273399356,84.0],[22478.414619897256,86.0],[35846.57944133159,81.0],[31185.913641812193,68.0],[9833.272916917173,53.0],[30678.220711815993,36.0],[2633.623560564438,22.0],[13166.944073262279,15.0],[6.85398522000551,1.0],[29.4730659624188,1.0],[197.424677262663,1.0],[0.0,0.0]],\"hovertemplate\":\"source=survey (update)\\u003cbr\\u003epdpurp_label=Personal Business\\u003cbr\\u003etlvorg_hr=%{x}\\u003cbr\\u003epercentage=%{y}\\u003cbr\\u003etoexpfac=%{customdata[0]}\\u003cbr\\u003esample_count=%{customdata[1]}\\u003cextra\\u003e\\u003c\\u002fextra\\u003e\",\"legendgroup\":\"survey (update)\",\"marker\":{\"color\":\"#00A7A0\",\"pattern\":{\"shape\":\"\"}},\"name\":\"survey (update)\",\"offsetgroup\":\"survey (update)\",\"orientation\":\"v\",\"showlegend\":false,\"textposition\":\"auto\",\"x\":[0,1,2,3,4,5,6,7,8,9,10,11,12,13,14,15,16,17,18,19,20,21,22,23],\"xaxis\":\"x\",\"y\":[0.0,0.0,0.0,0.0,0.0,0.006718591774857995,0.018627492355031777,0.1083356770140178,0.06352047178959279,0.1393424825074399,0.07933552349507571,0.08059129835336357,0.0815123336646855,0.06494910662036588,0.10357506743601042,0.09010854477177718,0.02841224801248589,0.08864161737505849,0.007609589035767555,0.038044553805930956,1.9803897399174516e-05,8.515944456010593e-05,0.0005704386465793658,0.0],\"yaxis\":\"y\",\"type\":\"bar\"}],                        {\"template\":{\"data\":{\"barpolar\":[{\"marker\":{\"line\":{\"color\":\"white\",\"width\":0.5},\"pattern\":{\"fillmode\":\"overlay\",\"size\":10,\"solidity\":0.2}},\"type\":\"barpolar\"}],\"bar\":[{\"error_x\":{\"color\":\"rgb(36,36,36)\"},\"error_y\":{\"color\":\"rgb(36,36,36)\"},\"marker\":{\"line\":{\"color\":\"white\",\"width\":0.5},\"pattern\":{\"fillmode\":\"overlay\",\"size\":10,\"solidity\":0.2}},\"type\":\"bar\"}],\"carpet\":[{\"aaxis\":{\"endlinecolor\":\"rgb(36,36,36)\",\"gridcolor\":\"white\",\"linecolor\":\"white\",\"minorgridcolor\":\"white\",\"startlinecolor\":\"rgb(36,36,36)\"},\"baxis\":{\"endlinecolor\":\"rgb(36,36,36)\",\"gridcolor\":\"white\",\"linecolor\":\"white\",\"minorgridcolor\":\"white\",\"startlinecolor\":\"rgb(36,36,36)\"},\"type\":\"carpet\"}],\"choropleth\":[{\"colorbar\":{\"outlinewidth\":1,\"tickcolor\":\"rgb(36,36,36)\",\"ticks\":\"outside\"},\"type\":\"choropleth\"}],\"contourcarpet\":[{\"colorbar\":{\"outlinewidth\":1,\"tickcolor\":\"rgb(36,36,36)\",\"ticks\":\"outside\"},\"type\":\"contourcarpet\"}],\"contour\":[{\"colorbar\":{\"outlinewidth\":1,\"tickcolor\":\"rgb(36,36,36)\",\"ticks\":\"outside\"},\"colorscale\":[[0.0,\"#440154\"],[0.1111111111111111,\"#482878\"],[0.2222222222222222,\"#3e4989\"],[0.3333333333333333,\"#31688e\"],[0.4444444444444444,\"#26828e\"],[0.5555555555555556,\"#1f9e89\"],[0.6666666666666666,\"#35b779\"],[0.7777777777777778,\"#6ece58\"],[0.8888888888888888,\"#b5de2b\"],[1.0,\"#fde725\"]],\"type\":\"contour\"}],\"heatmapgl\":[{\"colorbar\":{\"outlinewidth\":1,\"tickcolor\":\"rgb(36,36,36)\",\"ticks\":\"outside\"},\"colorscale\":[[0.0,\"#440154\"],[0.1111111111111111,\"#482878\"],[0.2222222222222222,\"#3e4989\"],[0.3333333333333333,\"#31688e\"],[0.4444444444444444,\"#26828e\"],[0.5555555555555556,\"#1f9e89\"],[0.6666666666666666,\"#35b779\"],[0.7777777777777778,\"#6ece58\"],[0.8888888888888888,\"#b5de2b\"],[1.0,\"#fde725\"]],\"type\":\"heatmapgl\"}],\"heatmap\":[{\"colorbar\":{\"outlinewidth\":1,\"tickcolor\":\"rgb(36,36,36)\",\"ticks\":\"outside\"},\"colorscale\":[[0.0,\"#440154\"],[0.1111111111111111,\"#482878\"],[0.2222222222222222,\"#3e4989\"],[0.3333333333333333,\"#31688e\"],[0.4444444444444444,\"#26828e\"],[0.5555555555555556,\"#1f9e89\"],[0.6666666666666666,\"#35b779\"],[0.7777777777777778,\"#6ece58\"],[0.8888888888888888,\"#b5de2b\"],[1.0,\"#fde725\"]],\"type\":\"heatmap\"}],\"histogram2dcontour\":[{\"colorbar\":{\"outlinewidth\":1,\"tickcolor\":\"rgb(36,36,36)\",\"ticks\":\"outside\"},\"colorscale\":[[0.0,\"#440154\"],[0.1111111111111111,\"#482878\"],[0.2222222222222222,\"#3e4989\"],[0.3333333333333333,\"#31688e\"],[0.4444444444444444,\"#26828e\"],[0.5555555555555556,\"#1f9e89\"],[0.6666666666666666,\"#35b779\"],[0.7777777777777778,\"#6ece58\"],[0.8888888888888888,\"#b5de2b\"],[1.0,\"#fde725\"]],\"type\":\"histogram2dcontour\"}],\"histogram2d\":[{\"colorbar\":{\"outlinewidth\":1,\"tickcolor\":\"rgb(36,36,36)\",\"ticks\":\"outside\"},\"colorscale\":[[0.0,\"#440154\"],[0.1111111111111111,\"#482878\"],[0.2222222222222222,\"#3e4989\"],[0.3333333333333333,\"#31688e\"],[0.4444444444444444,\"#26828e\"],[0.5555555555555556,\"#1f9e89\"],[0.6666666666666666,\"#35b779\"],[0.7777777777777778,\"#6ece58\"],[0.8888888888888888,\"#b5de2b\"],[1.0,\"#fde725\"]],\"type\":\"histogram2d\"}],\"histogram\":[{\"marker\":{\"line\":{\"color\":\"white\",\"width\":0.6}},\"type\":\"histogram\"}],\"mesh3d\":[{\"colorbar\":{\"outlinewidth\":1,\"tickcolor\":\"rgb(36,36,36)\",\"ticks\":\"outside\"},\"type\":\"mesh3d\"}],\"parcoords\":[{\"line\":{\"colorbar\":{\"outlinewidth\":1,\"tickcolor\":\"rgb(36,36,36)\",\"ticks\":\"outside\"}},\"type\":\"parcoords\"}],\"pie\":[{\"automargin\":true,\"type\":\"pie\"}],\"scatter3d\":[{\"line\":{\"colorbar\":{\"outlinewidth\":1,\"tickcolor\":\"rgb(36,36,36)\",\"ticks\":\"outside\"}},\"marker\":{\"colorbar\":{\"outlinewidth\":1,\"tickcolor\":\"rgb(36,36,36)\",\"ticks\":\"outside\"}},\"type\":\"scatter3d\"}],\"scattercarpet\":[{\"marker\":{\"colorbar\":{\"outlinewidth\":1,\"tickcolor\":\"rgb(36,36,36)\",\"ticks\":\"outside\"}},\"type\":\"scattercarpet\"}],\"scattergeo\":[{\"marker\":{\"colorbar\":{\"outlinewidth\":1,\"tickcolor\":\"rgb(36,36,36)\",\"ticks\":\"outside\"}},\"type\":\"scattergeo\"}],\"scattergl\":[{\"marker\":{\"colorbar\":{\"outlinewidth\":1,\"tickcolor\":\"rgb(36,36,36)\",\"ticks\":\"outside\"}},\"type\":\"scattergl\"}],\"scattermapbox\":[{\"marker\":{\"colorbar\":{\"outlinewidth\":1,\"tickcolor\":\"rgb(36,36,36)\",\"ticks\":\"outside\"}},\"type\":\"scattermapbox\"}],\"scatterpolargl\":[{\"marker\":{\"colorbar\":{\"outlinewidth\":1,\"tickcolor\":\"rgb(36,36,36)\",\"ticks\":\"outside\"}},\"type\":\"scatterpolargl\"}],\"scatterpolar\":[{\"marker\":{\"colorbar\":{\"outlinewidth\":1,\"tickcolor\":\"rgb(36,36,36)\",\"ticks\":\"outside\"}},\"type\":\"scatterpolar\"}],\"scatter\":[{\"fillpattern\":{\"fillmode\":\"overlay\",\"size\":10,\"solidity\":0.2},\"type\":\"scatter\"}],\"scatterternary\":[{\"marker\":{\"colorbar\":{\"outlinewidth\":1,\"tickcolor\":\"rgb(36,36,36)\",\"ticks\":\"outside\"}},\"type\":\"scatterternary\"}],\"surface\":[{\"colorbar\":{\"outlinewidth\":1,\"tickcolor\":\"rgb(36,36,36)\",\"ticks\":\"outside\"},\"colorscale\":[[0.0,\"#440154\"],[0.1111111111111111,\"#482878\"],[0.2222222222222222,\"#3e4989\"],[0.3333333333333333,\"#31688e\"],[0.4444444444444444,\"#26828e\"],[0.5555555555555556,\"#1f9e89\"],[0.6666666666666666,\"#35b779\"],[0.7777777777777778,\"#6ece58\"],[0.8888888888888888,\"#b5de2b\"],[1.0,\"#fde725\"]],\"type\":\"surface\"}],\"table\":[{\"cells\":{\"fill\":{\"color\":\"rgb(237,237,237)\"},\"line\":{\"color\":\"white\"}},\"header\":{\"fill\":{\"color\":\"rgb(217,217,217)\"},\"line\":{\"color\":\"white\"}},\"type\":\"table\"}]},\"layout\":{\"annotationdefaults\":{\"arrowhead\":0,\"arrowwidth\":1},\"autotypenumbers\":\"strict\",\"coloraxis\":{\"colorbar\":{\"outlinewidth\":1,\"tickcolor\":\"rgb(36,36,36)\",\"ticks\":\"outside\"}},\"colorscale\":{\"diverging\":[[0.0,\"rgb(103,0,31)\"],[0.1,\"rgb(178,24,43)\"],[0.2,\"rgb(214,96,77)\"],[0.3,\"rgb(244,165,130)\"],[0.4,\"rgb(253,219,199)\"],[0.5,\"rgb(247,247,247)\"],[0.6,\"rgb(209,229,240)\"],[0.7,\"rgb(146,197,222)\"],[0.8,\"rgb(67,147,195)\"],[0.9,\"rgb(33,102,172)\"],[1.0,\"rgb(5,48,97)\"]],\"sequential\":[[0.0,\"#440154\"],[0.1111111111111111,\"#482878\"],[0.2222222222222222,\"#3e4989\"],[0.3333333333333333,\"#31688e\"],[0.4444444444444444,\"#26828e\"],[0.5555555555555556,\"#1f9e89\"],[0.6666666666666666,\"#35b779\"],[0.7777777777777778,\"#6ece58\"],[0.8888888888888888,\"#b5de2b\"],[1.0,\"#fde725\"]],\"sequentialminus\":[[0.0,\"#440154\"],[0.1111111111111111,\"#482878\"],[0.2222222222222222,\"#3e4989\"],[0.3333333333333333,\"#31688e\"],[0.4444444444444444,\"#26828e\"],[0.5555555555555556,\"#1f9e89\"],[0.6666666666666666,\"#35b779\"],[0.7777777777777778,\"#6ece58\"],[0.8888888888888888,\"#b5de2b\"],[1.0,\"#fde725\"]]},\"colorway\":[\"#91268F\",\"#8CC63E\",\"#00A7A0\",\"#F05A28\",\"#4C4C4C\",\"#630460\",\"#9f3913\",\"#588527\",\"#00716c\",\"#3e4040\"],\"font\":{\"color\":\"rgb(36,36,36)\",\"family\":\"Poppins\",\"size\":11},\"geo\":{\"bgcolor\":\"white\",\"lakecolor\":\"white\",\"landcolor\":\"white\",\"showlakes\":true,\"showland\":true,\"subunitcolor\":\"white\"},\"hoverlabel\":{\"align\":\"left\"},\"hovermode\":\"closest\",\"mapbox\":{\"style\":\"light\"},\"paper_bgcolor\":\"white\",\"plot_bgcolor\":\"white\",\"polar\":{\"angularaxis\":{\"gridcolor\":\"rgb(232,232,232)\",\"linecolor\":\"rgb(36,36,36)\",\"showgrid\":false,\"showline\":true,\"ticks\":\"outside\"},\"bgcolor\":\"white\",\"radialaxis\":{\"gridcolor\":\"rgb(232,232,232)\",\"linecolor\":\"rgb(36,36,36)\",\"showgrid\":false,\"showline\":true,\"ticks\":\"outside\"}},\"scene\":{\"xaxis\":{\"backgroundcolor\":\"white\",\"gridcolor\":\"rgb(232,232,232)\",\"gridwidth\":2,\"linecolor\":\"rgb(36,36,36)\",\"showbackground\":true,\"showgrid\":false,\"showline\":true,\"ticks\":\"outside\",\"zeroline\":false,\"zerolinecolor\":\"rgb(36,36,36)\"},\"yaxis\":{\"backgroundcolor\":\"white\",\"gridcolor\":\"rgb(232,232,232)\",\"gridwidth\":2,\"linecolor\":\"rgb(36,36,36)\",\"showbackground\":true,\"showgrid\":false,\"showline\":true,\"ticks\":\"outside\",\"zeroline\":false,\"zerolinecolor\":\"rgb(36,36,36)\"},\"zaxis\":{\"backgroundcolor\":\"white\",\"gridcolor\":\"rgb(232,232,232)\",\"gridwidth\":2,\"linecolor\":\"rgb(36,36,36)\",\"showbackground\":true,\"showgrid\":false,\"showline\":true,\"ticks\":\"outside\",\"zeroline\":false,\"zerolinecolor\":\"rgb(36,36,36)\"}},\"shapedefaults\":{\"fillcolor\":\"black\",\"line\":{\"width\":0},\"opacity\":0.3},\"ternary\":{\"aaxis\":{\"gridcolor\":\"rgb(232,232,232)\",\"linecolor\":\"rgb(36,36,36)\",\"showgrid\":false,\"showline\":true,\"ticks\":\"outside\"},\"baxis\":{\"gridcolor\":\"rgb(232,232,232)\",\"linecolor\":\"rgb(36,36,36)\",\"showgrid\":false,\"showline\":true,\"ticks\":\"outside\"},\"bgcolor\":\"white\",\"caxis\":{\"gridcolor\":\"rgb(232,232,232)\",\"linecolor\":\"rgb(36,36,36)\",\"showgrid\":false,\"showline\":true,\"ticks\":\"outside\"}},\"title\":{\"x\":0.05},\"xaxis\":{\"automargin\":true,\"gridcolor\":\"rgb(232,232,232)\",\"linecolor\":\"rgb(36,36,36)\",\"showgrid\":false,\"showline\":true,\"ticks\":\"outside\",\"title\":{\"standoff\":15},\"zeroline\":false,\"zerolinecolor\":\"rgb(36,36,36)\"},\"yaxis\":{\"automargin\":true,\"gridcolor\":\"rgb(232,232,232)\",\"linecolor\":\"rgb(36,36,36)\",\"showgrid\":false,\"showline\":true,\"ticks\":\"outside\",\"title\":{\"standoff\":15},\"zeroline\":false,\"zerolinecolor\":\"rgb(36,36,36)\"}}},\"xaxis\":{\"anchor\":\"y\",\"domain\":[0.0,0.98],\"title\":{\"text\":\"tlvorg_hr\"},\"dtick\":1,\"categoryorder\":\"category ascending\"},\"yaxis\":{\"anchor\":\"x\",\"domain\":[0.0,0.14166666666666666],\"title\":{\"text\":\"percentage\"},\"tickformat\":\".0%\"},\"xaxis2\":{\"anchor\":\"y2\",\"domain\":[0.0,0.98],\"matches\":\"x\",\"showticklabels\":false,\"dtick\":1,\"categoryorder\":\"category ascending\"},\"yaxis2\":{\"anchor\":\"x2\",\"domain\":[0.17166666666666666,0.31333333333333335],\"matches\":\"y\",\"title\":{\"text\":\"percentage\"},\"tickformat\":\".0%\"},\"xaxis3\":{\"anchor\":\"y3\",\"domain\":[0.0,0.98],\"matches\":\"x\",\"showticklabels\":false,\"dtick\":1,\"categoryorder\":\"category ascending\"},\"yaxis3\":{\"anchor\":\"x3\",\"domain\":[0.3433333333333333,0.485],\"matches\":\"y\",\"title\":{\"text\":\"percentage\"},\"tickformat\":\".0%\"},\"xaxis4\":{\"anchor\":\"y4\",\"domain\":[0.0,0.98],\"matches\":\"x\",\"showticklabels\":false,\"dtick\":1,\"categoryorder\":\"category ascending\"},\"yaxis4\":{\"anchor\":\"x4\",\"domain\":[0.515,0.6566666666666667],\"matches\":\"y\",\"title\":{\"text\":\"percentage\"},\"tickformat\":\".0%\"},\"xaxis5\":{\"anchor\":\"y5\",\"domain\":[0.0,0.98],\"matches\":\"x\",\"showticklabels\":false,\"dtick\":1,\"categoryorder\":\"category ascending\"},\"yaxis5\":{\"anchor\":\"x5\",\"domain\":[0.6866666666666666,0.8283333333333334],\"matches\":\"y\",\"title\":{\"text\":\"percentage\"},\"tickformat\":\".0%\"},\"xaxis6\":{\"anchor\":\"y6\",\"domain\":[0.0,0.98],\"matches\":\"x\",\"showticklabels\":false,\"dtick\":1,\"categoryorder\":\"category ascending\"},\"yaxis6\":{\"anchor\":\"x6\",\"domain\":[0.8583333333333333,1.0],\"matches\":\"y\",\"title\":{\"text\":\"percentage\"},\"tickformat\":\".0%\"},\"annotations\":[{\"font\":{},\"showarrow\":false,\"text\":\"Personal Business\",\"textangle\":90,\"x\":0.98,\"xanchor\":\"left\",\"xref\":\"paper\",\"y\":0.07083333333333333,\"yanchor\":\"middle\",\"yref\":\"paper\"},{\"font\":{},\"showarrow\":false,\"text\":\"Escort\",\"textangle\":90,\"x\":0.98,\"xanchor\":\"left\",\"xref\":\"paper\",\"y\":0.2425,\"yanchor\":\"middle\",\"yref\":\"paper\"},{\"font\":{},\"showarrow\":false,\"text\":\"Meal\",\"textangle\":90,\"x\":0.98,\"xanchor\":\"left\",\"xref\":\"paper\",\"y\":0.4141666666666667,\"yanchor\":\"middle\",\"yref\":\"paper\"},{\"font\":{},\"showarrow\":false,\"text\":\"Shop\",\"textangle\":90,\"x\":0.98,\"xanchor\":\"left\",\"xref\":\"paper\",\"y\":0.5858333333333334,\"yanchor\":\"middle\",\"yref\":\"paper\"},{\"font\":{},\"showarrow\":false,\"text\":\"School\",\"textangle\":90,\"x\":0.98,\"xanchor\":\"left\",\"xref\":\"paper\",\"y\":0.7575000000000001,\"yanchor\":\"middle\",\"yref\":\"paper\"},{\"font\":{},\"showarrow\":false,\"text\":\"Work\",\"textangle\":90,\"x\":0.98,\"xanchor\":\"left\",\"xref\":\"paper\",\"y\":0.9291666666666667,\"yanchor\":\"middle\",\"yref\":\"paper\"}],\"legend\":{\"title\":{\"text\":\"source\"},\"tracegroupgap\":0},\"title\":{\"text\":\"tour origin departure hour by purpose\"},\"barmode\":\"group\",\"height\":1500,\"width\":850},                        {\"responsive\": true}                    ).then(function(){\n",
       "                            \n",
       "var gd = document.getElementById('6596bb06-de2f-4cfc-86aa-eb1eb3ce1e6a');\n",
       "var x = new MutationObserver(function (mutations, observer) {{\n",
       "        var display = window.getComputedStyle(gd).display;\n",
       "        if (!display || display === 'none') {{\n",
       "            console.log([gd, 'removed!']);\n",
       "            Plotly.purge(gd);\n",
       "            observer.disconnect();\n",
       "        }}\n",
       "}});\n",
       "\n",
       "// Listen for the removal of the full notebook cells\n",
       "var notebookContainer = gd.closest('#notebook-container');\n",
       "if (notebookContainer) {{\n",
       "    x.observe(notebookContainer, {childList: true});\n",
       "}}\n",
       "\n",
       "// Listen for the clearing of the current output cell\n",
       "var outputEl = gd.closest('.output');\n",
       "if (outputEl) {{\n",
       "    x.observe(outputEl, {childList: true});\n",
       "}}\n",
       "\n",
       "                        })                };                });            </script>        </div>"
      ]
     },
     "metadata": {},
     "output_type": "display_data"
    }
   ],
   "source": [
    "df_plot = df_tour.groupby(['tlvorg_hr','pdpurp_label','source'])['toexpfac'].agg(sample_count='size', toexpfac='sum').reset_index()\n",
    "df_plot['percentage'] = df_plot.groupby(['pdpurp_label','source'], group_keys=False)['toexpfac']. \\\n",
    "    apply(lambda x: x / float(x.sum()))\n",
    "\n",
    "fig = px.bar(df_plot.sort_values(['source','pdpurp_label']),\n",
    "             x=\"tlvorg_hr\", y=\"percentage\", color=\"source\",barmode=\"group\",\n",
    "             facet_row='pdpurp_label',\n",
    "             hover_data=['toexpfac','sample_count'],\n",
    "             title=\"tour origin departure hour by purpose\")\n",
    "fig.update_layout(height=1500, width=850)\n",
    "fig.for_each_annotation(lambda a: a.update(text = a.text.split(\"=\")[-1]))\n",
    "fig.for_each_xaxis(lambda a: a.update(dict(dtick = 1, categoryorder='category ascending')))\n",
    "fig.for_each_yaxis(lambda a: a.update(dict(tickformat=\".0%\")))\n",
    "fig.show()"
   ]
  },
  {
   "cell_type": "raw",
   "metadata": {
    "vscode": {
     "languageId": "raw"
    }
   },
   "source": [
    "### trip"
   ]
  },
  {
   "cell_type": "code",
   "execution_count": 8,
   "metadata": {
    "execution": {
     "iopub.execute_input": "2024-12-11T18:29:25.930302Z",
     "iopub.status.busy": "2024-12-11T18:29:25.928308Z",
     "iopub.status.idle": "2024-12-11T18:29:27.948700Z",
     "shell.execute_reply": "2024-12-11T18:29:27.944710Z"
    }
   },
   "outputs": [
    {
     "data": {
      "application/vnd.plotly.v1+json": {
       "config": {
        "plotlyServerURL": "https://plot.ly"
       },
       "data": [
        {
         "alignmentgroup": "True",
         "customdata": [
          [
           4795.0,
           4795.0
          ],
          [
           3382.0,
           3382.0
          ],
          [
           1291.0,
           1291.0
          ],
          [
           24218.0,
           24218.0
          ],
          [
           32235.0,
           32235.0
          ],
          [
           88168.0,
           88168.0
          ],
          [
           239517.0,
           239517.0
          ],
          [
           342500.0,
           342500.0
          ],
          [
           317082.0,
           317082.0
          ],
          [
           196539.0,
           196539.0
          ],
          [
           167739.0,
           167739.0
          ],
          [
           178685.0,
           178685.0
          ],
          [
           184073.0,
           184073.0
          ],
          [
           154769.0,
           154769.0
          ],
          [
           139023.0,
           139023.0
          ],
          [
           121396.0,
           121396.0
          ],
          [
           131753.0,
           131753.0
          ],
          [
           109139.0,
           109139.0
          ],
          [
           80798.0,
           80798.0
          ],
          [
           44783.0,
           44783.0
          ],
          [
           33028.0,
           33028.0
          ],
          [
           29864.0,
           29864.0
          ],
          [
           16488.0,
           16488.0
          ],
          [
           11829.0,
           11829.0
          ]
         ],
         "hovertemplate": "source=model<br>dpurp_label=Work<br>dept_hr=%{x}<br>percentage=%{y}<br>trexpfac=%{customdata[0]}<br>sample_count=%{customdata[1]}<extra></extra>",
         "legendgroup": "model",
         "marker": {
          "color": "#91268F",
          "pattern": {
           "shape": ""
          }
         },
         "name": "model",
         "offsetgroup": "model",
         "orientation": "v",
         "showlegend": true,
         "textposition": "auto",
         "type": "bar",
         "x": [
          0,
          1,
          2,
          3,
          4,
          5,
          6,
          7,
          8,
          9,
          10,
          11,
          12,
          13,
          14,
          15,
          16,
          17,
          18,
          19,
          20,
          21,
          22,
          23
         ],
         "xaxis": "x6",
         "y": [
          0.0018073238264456517,
          0.001274738098235494,
          0.0004866016809053882,
          0.009128210308417267,
          0.012149965285813469,
          0.03323214330136814,
          0.09027836933029888,
          0.12909455903183226,
          0.11951404661877793,
          0.07407916945272199,
          0.06322391894143216,
          0.06734966797256335,
          0.06938050442238383,
          0.05833528702714642,
          0.05240032957746691,
          0.04575638857876879,
          0.04966013266020729,
          0.041136499498321585,
          0.030454254542055425,
          0.016879537626635167,
          0.012448861593294471,
          0.011256291710734712,
          0.006214630917713432,
          0.004458567996459982
         ],
         "yaxis": "y6"
        },
        {
         "alignmentgroup": "True",
         "customdata": [
          [
           6.0,
           6.0
          ],
          [
           2.0,
           2.0
          ],
          [
           0.0,
           0.0
          ],
          [
           347.0,
           347.0
          ],
          [
           438.0,
           438.0
          ],
          [
           3597.0,
           3597.0
          ],
          [
           37861.0,
           37861.0
          ],
          [
           130698.0,
           130698.0
          ],
          [
           161448.0,
           161448.0
          ],
          [
           86760.0,
           86760.0
          ],
          [
           42717.0,
           42717.0
          ],
          [
           29269.0,
           29269.0
          ],
          [
           21041.0,
           21041.0
          ],
          [
           15555.0,
           15555.0
          ],
          [
           12621.0,
           12621.0
          ],
          [
           13264.0,
           13264.0
          ],
          [
           9240.0,
           9240.0
          ],
          [
           8056.0,
           8056.0
          ],
          [
           5288.0,
           5288.0
          ],
          [
           1635.0,
           1635.0
          ],
          [
           1365.0,
           1365.0
          ],
          [
           732.0,
           732.0
          ],
          [
           88.0,
           88.0
          ],
          [
           42.0,
           42.0
          ]
         ],
         "hovertemplate": "source=model<br>dpurp_label=School<br>dept_hr=%{x}<br>percentage=%{y}<br>trexpfac=%{customdata[0]}<br>sample_count=%{customdata[1]}<extra></extra>",
         "legendgroup": "model",
         "marker": {
          "color": "#91268F",
          "pattern": {
           "shape": ""
          }
         },
         "name": "model",
         "offsetgroup": "model",
         "orientation": "v",
         "showlegend": false,
         "textposition": "auto",
         "type": "bar",
         "x": [
          0,
          1,
          2,
          3,
          4,
          5,
          6,
          7,
          8,
          9,
          10,
          11,
          12,
          13,
          14,
          15,
          16,
          17,
          18,
          19,
          20,
          21,
          22,
          23
         ],
         "xaxis": "x5",
         "y": [
          1.0308038552064185e-05,
          3.4360128506880614e-06,
          0.0,
          0.0005961482295943787,
          0.0007524868143006855,
          0.006179669111962479,
          0.06504544126995035,
          0.22454000377961414,
          0.2773687013589431,
          0.1490542374628481,
          0.07338808047142097,
          0.05028433006339444,
          0.03614857319566375,
          0.0267235899462264,
          0.021682959094267013,
          0.022787637225763224,
          0.015874379370178843,
          0.013840259762571512,
          0.009084817977219235,
          0.0028089405054374903,
          0.002345078770594602,
          0.0012575807033518304,
          0.0001511845654302747,
          7.215626986444929e-05
         ],
         "yaxis": "y5"
        },
        {
         "alignmentgroup": "True",
         "customdata": [
          [
           1035.0,
           1035.0
          ],
          [
           729.0,
           729.0
          ],
          [
           286.0,
           286.0
          ],
          [
           5857.0,
           5857.0
          ],
          [
           6074.0,
           6074.0
          ],
          [
           9378.0,
           9378.0
          ],
          [
           25549.0,
           25549.0
          ],
          [
           54654.0,
           54654.0
          ],
          [
           92381.0,
           92381.0
          ],
          [
           129185.0,
           129185.0
          ],
          [
           150036.0,
           150036.0
          ],
          [
           140739.0,
           140739.0
          ],
          [
           132130.0,
           132130.0
          ],
          [
           143690.0,
           143690.0
          ],
          [
           129198.0,
           129198.0
          ],
          [
           141887.0,
           141887.0
          ],
          [
           149504.0,
           149504.0
          ],
          [
           125561.0,
           125561.0
          ],
          [
           99093.0,
           99093.0
          ],
          [
           69487.0,
           69487.0
          ],
          [
           48037.0,
           48037.0
          ],
          [
           17764.0,
           17764.0
          ],
          [
           8054.0,
           8054.0
          ],
          [
           5146.0,
           5146.0
          ]
         ],
         "hovertemplate": "source=model<br>dpurp_label=Shop<br>dept_hr=%{x}<br>percentage=%{y}<br>trexpfac=%{customdata[0]}<br>sample_count=%{customdata[1]}<extra></extra>",
         "legendgroup": "model",
         "marker": {
          "color": "#91268F",
          "pattern": {
           "shape": ""
          }
         },
         "name": "model",
         "offsetgroup": "model",
         "orientation": "v",
         "showlegend": false,
         "textposition": "auto",
         "type": "bar",
         "x": [
          0,
          1,
          2,
          3,
          4,
          5,
          6,
          7,
          8,
          9,
          10,
          11,
          12,
          13,
          14,
          15,
          16,
          17,
          18,
          19,
          20,
          21,
          22,
          23
         ],
         "xaxis": "x4",
         "y": [
          0.0006140778686336145,
          0.000432524411820198,
          0.0001696872178060036,
          0.00347502809332085,
          0.0036037767865512793,
          0.005564079470575881,
          0.015158527020019533,
          0.032426871335557064,
          0.054810751287190276,
          0.07664700430863139,
          0.08901815178580964,
          0.08350213058321378,
          0.07839430800247292,
          0.08525299414875755,
          0.0766547173639862,
          0.08418325270223928,
          0.08870250982821246,
          0.07449684180048818,
          0.058793061098078025,
          0.0412274674954048,
          0.028500926159954528,
          0.010539593486384084,
          0.00477853444828515,
          0.0030531832966073234
         ],
         "yaxis": "y4"
        },
        {
         "alignmentgroup": "True",
         "customdata": [
          [
           1378.0,
           1378.0
          ],
          [
           1177.0,
           1177.0
          ],
          [
           488.0,
           488.0
          ],
          [
           4146.0,
           4146.0
          ],
          [
           4539.0,
           4539.0
          ],
          [
           8770.0,
           8770.0
          ],
          [
           22834.0,
           22834.0
          ],
          [
           35009.0,
           35009.0
          ],
          [
           56762.0,
           56762.0
          ],
          [
           75246.0,
           75246.0
          ],
          [
           108994.0,
           108994.0
          ],
          [
           119210.0,
           119210.0
          ],
          [
           124349.0,
           124349.0
          ],
          [
           101866.0,
           101866.0
          ],
          [
           93127.0,
           93127.0
          ],
          [
           79440.0,
           79440.0
          ],
          [
           83959.0,
           83959.0
          ],
          [
           85038.0,
           85038.0
          ],
          [
           75174.0,
           75174.0
          ],
          [
           47067.0,
           47067.0
          ],
          [
           38625.0,
           38625.0
          ],
          [
           26792.0,
           26792.0
          ],
          [
           8484.0,
           8484.0
          ],
          [
           4974.0,
           4974.0
          ]
         ],
         "hovertemplate": "source=model<br>dpurp_label=Meal<br>dept_hr=%{x}<br>percentage=%{y}<br>trexpfac=%{customdata[0]}<br>sample_count=%{customdata[1]}<extra></extra>",
         "legendgroup": "model",
         "marker": {
          "color": "#91268F",
          "pattern": {
           "shape": ""
          }
         },
         "name": "model",
         "offsetgroup": "model",
         "orientation": "v",
         "showlegend": false,
         "textposition": "auto",
         "type": "bar",
         "x": [
          0,
          1,
          2,
          3,
          4,
          5,
          6,
          7,
          8,
          9,
          10,
          11,
          12,
          13,
          14,
          15,
          16,
          17,
          18,
          19,
          20,
          21,
          22,
          23
         ],
         "xaxis": "x3",
         "y": [
          0.0011412499751542095,
          0.000974783179068581,
          0.0004041581914914762,
          0.003433688241646845,
          0.00375916809667994,
          0.007263252744631653,
          0.018910959312533542,
          0.028994209274436664,
          0.047009891937375356,
          0.06231821163313037,
          0.09026806951520894,
          0.0987288893600387,
          0.10298497326592947,
          0.08436470970178427,
          0.0771271309406285,
          0.06579165313951409,
          0.06953425737588699,
          0.07042787763945114,
          0.06225858173602507,
          0.038980560653543675,
          0.03198895521794727,
          0.022188947267294326,
          0.0070263895422411566,
          0.004119432058357793
         ],
         "yaxis": "y3"
        },
        {
         "alignmentgroup": "True",
         "customdata": [
          [
           2930.0,
           2930.0
          ],
          [
           2210.0,
           2210.0
          ],
          [
           882.0,
           882.0
          ],
          [
           25039.0,
           25039.0
          ],
          [
           23247.0,
           23247.0
          ],
          [
           41189.0,
           41189.0
          ],
          [
           111295.0,
           111295.0
          ],
          [
           141439.0,
           141439.0
          ],
          [
           134595.0,
           134595.0
          ],
          [
           124052.0,
           124052.0
          ],
          [
           118870.0,
           118870.0
          ],
          [
           96774.0,
           96774.0
          ],
          [
           90786.0,
           90786.0
          ],
          [
           98631.0,
           98631.0
          ],
          [
           96857.0,
           96857.0
          ],
          [
           123110.0,
           123110.0
          ],
          [
           142423.0,
           142423.0
          ],
          [
           127731.0,
           127731.0
          ],
          [
           92296.0,
           92296.0
          ],
          [
           58817.0,
           58817.0
          ],
          [
           45016.0,
           45016.0
          ],
          [
           24643.0,
           24643.0
          ],
          [
           13254.0,
           13254.0
          ],
          [
           10633.0,
           10633.0
          ]
         ],
         "hovertemplate": "source=model<br>dpurp_label=Escort<br>dept_hr=%{x}<br>percentage=%{y}<br>trexpfac=%{customdata[0]}<br>sample_count=%{customdata[1]}<extra></extra>",
         "legendgroup": "model",
         "marker": {
          "color": "#91268F",
          "pattern": {
           "shape": ""
          }
         },
         "name": "model",
         "offsetgroup": "model",
         "orientation": "v",
         "showlegend": false,
         "textposition": "auto",
         "type": "bar",
         "x": [
          0,
          1,
          2,
          3,
          4,
          5,
          6,
          7,
          8,
          9,
          10,
          11,
          12,
          13,
          14,
          15,
          16,
          17,
          18,
          19,
          20,
          21,
          22,
          23
         ],
         "xaxis": "x2",
         "y": [
          0.0016774306571348911,
          0.001265229266985703,
          0.0005049467029327557,
          0.014334875844368785,
          0.013308952384441916,
          0.023580782026187384,
          0.06371660238424154,
          0.08097410058515422,
          0.07705589737101388,
          0.0710200095149821,
          0.06805330450976946,
          0.05540330184763548,
          0.05197516028622807,
          0.05646643793306193,
          0.05545081950788879,
          0.07048071269620357,
          0.08153744248502479,
          0.07312624411825829,
          0.052839638201679834,
          0.033672846061673346,
          0.02577174691521647,
          0.014108165079786732,
          0.007587940590329641,
          0.006087413029800443
         ],
         "yaxis": "y2"
        },
        {
         "alignmentgroup": "True",
         "customdata": [
          [
           541.0,
           541.0
          ],
          [
           387.0,
           387.0
          ],
          [
           152.0,
           152.0
          ],
          [
           4407.0,
           4407.0
          ],
          [
           4112.0,
           4112.0
          ],
          [
           7853.0,
           7853.0
          ],
          [
           21276.0,
           21276.0
          ],
          [
           38072.0,
           38072.0
          ],
          [
           59473.0,
           59473.0
          ],
          [
           73459.0,
           73459.0
          ],
          [
           77693.0,
           77693.0
          ],
          [
           66339.0,
           66339.0
          ],
          [
           62160.0,
           62160.0
          ],
          [
           66226.0,
           66226.0
          ],
          [
           56695.0,
           56695.0
          ],
          [
           58964.0,
           58964.0
          ],
          [
           63886.0,
           63886.0
          ],
          [
           50585.0,
           50585.0
          ],
          [
           39064.0,
           39064.0
          ],
          [
           23373.0,
           23373.0
          ],
          [
           16806.0,
           16806.0
          ],
          [
           9434.0,
           9434.0
          ],
          [
           3876.0,
           3876.0
          ],
          [
           2429.0,
           2429.0
          ]
         ],
         "hovertemplate": "source=model<br>dpurp_label=Personal Business<br>dept_hr=%{x}<br>percentage=%{y}<br>trexpfac=%{customdata[0]}<br>sample_count=%{customdata[1]}<extra></extra>",
         "legendgroup": "model",
         "marker": {
          "color": "#91268F",
          "pattern": {
           "shape": ""
          }
         },
         "name": "model",
         "offsetgroup": "model",
         "orientation": "v",
         "showlegend": false,
         "textposition": "auto",
         "type": "bar",
         "x": [
          0,
          1,
          2,
          3,
          4,
          5,
          6,
          7,
          8,
          9,
          10,
          11,
          12,
          13,
          14,
          15,
          16,
          17,
          18,
          19,
          20,
          21,
          22,
          23
         ],
         "xaxis": "x",
         "y": [
          0.0006701665630241483,
          0.0004793982622742059,
          0.0001882907903505925,
          0.005459194164967507,
          0.005093761381063397,
          0.009727944583047387,
          0.02635575562828425,
          0.04716188796202472,
          0.07367248799026833,
          0.0909977182129222,
          0.09624260772834593,
          0.08217778119123655,
          0.07700102321179493,
          0.08203780185367328,
          0.07023122604557133,
          0.07304196159363378,
          0.07913911468643389,
          0.06266243177555737,
          0.048390733120102274,
          0.02895342528200262,
          0.02081851988573722,
          0.011686416553733484,
          0.004801415153940109,
          0.003008936380010455
         ],
         "yaxis": "y"
        },
        {
         "alignmentgroup": "True",
         "customdata": [
          [
           877.647042052731,
           3.0
          ],
          [
           596.9418007071902,
           2.0
          ],
          [
           0.0,
           0.0
          ],
          [
           11650.055250018777,
           21.0
          ],
          [
           66295.18887513214,
           61.0
          ],
          [
           97949.82613985866,
           128.0
          ],
          [
           226622.16954902207,
           361.0
          ],
          [
           341130.43554388883,
           612.0
          ],
          [
           267785.380318121,
           610.0
          ],
          [
           171021.9207828352,
           381.0
          ],
          [
           125524.87883650606,
           263.0
          ],
          [
           86582.1122037897,
           233.0
          ],
          [
           121082.12585893358,
           313.0
          ],
          [
           110304.9240695201,
           229.0
          ],
          [
           105293.49075643212,
           194.0
          ],
          [
           94347.81685040558,
           136.0
          ],
          [
           56777.453411633134,
           106.0
          ],
          [
           40681.768903020195,
           122.0
          ],
          [
           25441.05684026079,
           64.0
          ],
          [
           34690.585260702246,
           43.0
          ],
          [
           21415.938529226954,
           34.0
          ],
          [
           9441.90766218975,
           22.0
          ],
          [
           19246.487220641277,
           16.0
          ],
          [
           4896.445540763096,
           10.0
          ]
         ],
         "hovertemplate": "source=survey<br>dpurp_label=Work<br>dept_hr=%{x}<br>percentage=%{y}<br>trexpfac=%{customdata[0]}<br>sample_count=%{customdata[1]}<extra></extra>",
         "legendgroup": "survey",
         "marker": {
          "color": "#8CC63E",
          "pattern": {
           "shape": ""
          }
         },
         "name": "survey",
         "offsetgroup": "survey",
         "orientation": "v",
         "showlegend": true,
         "textposition": "auto",
         "type": "bar",
         "x": [
          0,
          1,
          2,
          3,
          4,
          5,
          6,
          7,
          8,
          9,
          10,
          11,
          12,
          13,
          14,
          15,
          16,
          17,
          18,
          19,
          20,
          21,
          22,
          23
         ],
         "xaxis": "x6",
         "y": [
          0.0004302915796951129,
          0.00029266780163877027,
          0.0,
          0.005711772998563511,
          0.032503113644120916,
          0.048022705485343806,
          0.11110800430786798,
          0.16724895881713986,
          0.1312894464349119,
          0.08384839113001558,
          0.061542164238676554,
          0.04244935839625354,
          0.05936397744453708,
          0.054080145835176854,
          0.05162314723152204,
          0.04625671734549872,
          0.027836771445632513,
          0.019945401473842533,
          0.012473206212038084,
          0.01700805223186603,
          0.01049977676543099,
          0.004629165448785182,
          0.009436141173998238,
          0.0024006225574442906
         ],
         "yaxis": "y6"
        },
        {
         "alignmentgroup": "True",
         "customdata": [
          [
           0.0,
           0.0
          ],
          [
           0.0,
           0.0
          ],
          [
           0.0,
           0.0
          ],
          [
           0.0,
           0.0
          ],
          [
           75.6029420675361,
           1.0
          ],
          [
           944.6388505184881,
           3.0
          ],
          [
           20217.931620365427,
           26.0
          ],
          [
           190219.19108530923,
           229.0
          ],
          [
           219886.15335901993,
           260.0
          ],
          [
           59190.70754528113,
           63.0
          ],
          [
           17733.54553657545,
           19.0
          ],
          [
           6115.9062908794995,
           13.0
          ],
          [
           6219.259173600052,
           13.0
          ],
          [
           23368.641487335408,
           16.0
          ],
          [
           4985.581534453788,
           18.0
          ],
          [
           14562.920624023891,
           16.0
          ],
          [
           11931.184860898193,
           10.0
          ],
          [
           3824.381295473854,
           21.0
          ],
          [
           5734.429891505202,
           4.0
          ],
          [
           826.970102120082,
           3.0
          ],
          [
           0.0,
           0.0
          ],
          [
           0.0,
           0.0
          ],
          [
           365.922772130815,
           1.0
          ],
          [
           0.0,
           0.0
          ]
         ],
         "hovertemplate": "source=survey<br>dpurp_label=School<br>dept_hr=%{x}<br>percentage=%{y}<br>trexpfac=%{customdata[0]}<br>sample_count=%{customdata[1]}<extra></extra>",
         "legendgroup": "survey",
         "marker": {
          "color": "#8CC63E",
          "pattern": {
           "shape": ""
          }
         },
         "name": "survey",
         "offsetgroup": "survey",
         "orientation": "v",
         "showlegend": false,
         "textposition": "auto",
         "type": "bar",
         "x": [
          0,
          1,
          2,
          3,
          4,
          5,
          6,
          7,
          8,
          9,
          10,
          11,
          12,
          13,
          14,
          15,
          16,
          17,
          18,
          19,
          20,
          21,
          22,
          23
         ],
         "xaxis": "x5",
         "y": [
          0.0,
          0.0,
          0.0,
          0.0,
          0.00012897058880505995,
          0.0016114535417242508,
          0.03448964384441114,
          0.32449373536785775,
          0.3751024218536304,
          0.10097305997805858,
          0.03025154507096307,
          0.010433086515425408,
          0.010609395555452749,
          0.03986442021665918,
          0.008504872541332496,
          0.024842795746280965,
          0.020353334071013692,
          0.0065239882735213675,
          0.0097823282975959,
          0.0014107231554472148,
          0.0,
          0.0,
          0.0006242253818208984,
          0.0
         ],
         "yaxis": "y5"
        },
        {
         "alignmentgroup": "True",
         "customdata": [
          [
           1043.5875068631988,
           3.0
          ],
          [
           484.372679805163,
           1.0
          ],
          [
           306.34798152004703,
           1.0
          ],
          [
           0.0,
           0.0
          ],
          [
           2450.77235887258,
           2.0
          ],
          [
           822.0588324063526,
           8.0
          ],
          [
           3093.0872852287266,
           8.0
          ],
          [
           31348.818601798346,
           49.0
          ],
          [
           47029.94572929551,
           83.0
          ],
          [
           67349.16890488588,
           177.0
          ],
          [
           123957.93980756427,
           266.0
          ],
          [
           183166.24619836523,
           305.0
          ],
          [
           131061.46508166657,
           281.0
          ],
          [
           130195.96741348183,
           263.0
          ],
          [
           211258.51400685747,
           315.0
          ],
          [
           130113.75447500877,
           258.0
          ],
          [
           158026.45305806032,
           299.0
          ],
          [
           120961.5917953065,
           265.0
          ],
          [
           118615.272038351,
           214.0
          ],
          [
           77174.95771085698,
           189.0
          ],
          [
           30796.943803743532,
           66.0
          ],
          [
           5372.311962232592,
           19.0
          ],
          [
           4191.009265770166,
           15.0
          ],
          [
           1005.4244650200757,
           4.0
          ]
         ],
         "hovertemplate": "source=survey<br>dpurp_label=Shop<br>dept_hr=%{x}<br>percentage=%{y}<br>trexpfac=%{customdata[0]}<br>sample_count=%{customdata[1]}<extra></extra>",
         "legendgroup": "survey",
         "marker": {
          "color": "#8CC63E",
          "pattern": {
           "shape": ""
          }
         },
         "name": "survey",
         "offsetgroup": "survey",
         "orientation": "v",
         "showlegend": false,
         "textposition": "auto",
         "type": "bar",
         "x": [
          0,
          1,
          2,
          3,
          4,
          5,
          6,
          7,
          8,
          9,
          10,
          11,
          12,
          13,
          14,
          15,
          16,
          17,
          18,
          19,
          20,
          21,
          22,
          23
         ],
         "xaxis": "x4",
         "y": [
          0.0006605711639265228,
          0.00030659874976353906,
          0.00019391248111766236,
          0.0,
          0.0015512925739073922,
          0.0005203477007605907,
          0.0019578657800066084,
          0.019843209558684318,
          0.0297690665952696,
          0.0426307507519984,
          0.0784630326044622,
          0.11594077127943905,
          0.08295942981833795,
          0.08241158615569488,
          0.13372264574760848,
          0.08235954691979007,
          0.1000277574628218,
          0.0765664009554926,
          0.07508122490403277,
          0.04885028932003471,
          0.01949388324412489,
          0.0034005719142185626,
          0.0026528296386357096,
          0.000636414679871762
         ],
         "yaxis": "y4"
        },
        {
         "alignmentgroup": "True",
         "customdata": [
          [
           0.0,
           0.0
          ],
          [
           0.0,
           0.0
          ],
          [
           0.0,
           0.0
          ],
          [
           0.0,
           0.0
          ],
          [
           10.6381727331061,
           1.0
          ],
          [
           1147.831085856249,
           6.0
          ],
          [
           14626.873553095289,
           29.0
          ],
          [
           17414.860510843453,
           47.0
          ],
          [
           59032.64490192203,
           72.0
          ],
          [
           36750.04231852758,
           88.0
          ],
          [
           15955.689864202985,
           83.0
          ],
          [
           98607.73367527753,
           193.0
          ],
          [
           127055.64466029961,
           236.0
          ],
          [
           84794.28310803465,
           146.0
          ],
          [
           67735.17373241174,
           112.0
          ],
          [
           32261.44116445362,
           109.0
          ],
          [
           44943.75446043937,
           158.0
          ],
          [
           102003.74447276245,
           192.0
          ],
          [
           65452.0382090979,
           185.0
          ],
          [
           51193.9845724077,
           111.0
          ],
          [
           50164.822780754264,
           78.0
          ],
          [
           15219.319627671688,
           24.0
          ],
          [
           1255.7041264046907,
           14.0
          ],
          [
           4820.569683374715,
           5.0
          ]
         ],
         "hovertemplate": "source=survey<br>dpurp_label=Meal<br>dept_hr=%{x}<br>percentage=%{y}<br>trexpfac=%{customdata[0]}<br>sample_count=%{customdata[1]}<extra></extra>",
         "legendgroup": "survey",
         "marker": {
          "color": "#8CC63E",
          "pattern": {
           "shape": ""
          }
         },
         "name": "survey",
         "offsetgroup": "survey",
         "orientation": "v",
         "showlegend": false,
         "textposition": "auto",
         "type": "bar",
         "x": [
          0,
          1,
          2,
          3,
          4,
          5,
          6,
          7,
          8,
          9,
          10,
          11,
          12,
          13,
          14,
          15,
          16,
          17,
          18,
          19,
          20,
          21,
          22,
          23
         ],
         "xaxis": "x3",
         "y": [
          0.0,
          0.0,
          0.0,
          0.0,
          1.1947005477090098e-05,
          0.0012890507245500386,
          0.016426443040139613,
          0.01955744084304405,
          0.06629553304540645,
          0.04127146342495499,
          0.017918745914433615,
          0.1107396132642052,
          0.14268751981512628,
          0.09522667004315832,
          0.0760687490112313,
          0.03623062192730644,
          0.050473262107212154,
          0.11455344112879218,
          0.07350471538569292,
          0.05749246881254986,
          0.05633668747019282,
          0.017091778777339868,
          0.0014101955713762195,
          0.005413652687810499
         ],
         "yaxis": "y3"
        },
        {
         "alignmentgroup": "True",
         "customdata": [
          [
           9.53758922636237,
           1.0
          ],
          [
           0.0,
           0.0
          ],
          [
           0.0,
           0.0
          ],
          [
           0.0,
           0.0
          ],
          [
           3756.89486105699,
           1.0
          ],
          [
           18161.175205143918,
           15.0
          ],
          [
           44362.01890662709,
           39.0
          ],
          [
           284562.35779404663,
           244.0
          ],
          [
           226109.40532154823,
           262.0
          ],
          [
           121828.70793020912,
           110.0
          ],
          [
           106265.74241342014,
           84.0
          ],
          [
           55260.374604351666,
           74.0
          ],
          [
           33568.989604439295,
           86.0
          ],
          [
           93937.94055531808,
           92.0
          ],
          [
           211545.50632815852,
           196.0
          ],
          [
           216064.17300579994,
           242.0
          ],
          [
           92780.56601212399,
           167.0
          ],
          [
           112819.98273444665,
           162.0
          ],
          [
           33009.04943786905,
           82.0
          ],
          [
           29286.28289693179,
           57.0
          ],
          [
           13649.511615784408,
           29.0
          ],
          [
           8470.163829684483,
           20.0
          ],
          [
           7940.52526841632,
           12.0
          ],
          [
           74.8421472528727,
           1.0
          ]
         ],
         "hovertemplate": "source=survey<br>dpurp_label=Escort<br>dept_hr=%{x}<br>percentage=%{y}<br>trexpfac=%{customdata[0]}<br>sample_count=%{customdata[1]}<extra></extra>",
         "legendgroup": "survey",
         "marker": {
          "color": "#8CC63E",
          "pattern": {
           "shape": ""
          }
         },
         "name": "survey",
         "offsetgroup": "survey",
         "orientation": "v",
         "showlegend": false,
         "textposition": "auto",
         "type": "bar",
         "x": [
          0,
          1,
          2,
          3,
          4,
          5,
          6,
          7,
          8,
          9,
          10,
          11,
          12,
          13,
          14,
          15,
          16,
          17,
          18,
          19,
          20,
          21,
          22,
          23
         ],
         "xaxis": "x2",
         "y": [
          5.566262628637805e-06,
          0.0,
          0.0,
          0.0,
          0.002192573297979904,
          0.010599100929731665,
          0.025890258230911598,
          0.16607433808618519,
          0.13196042552829412,
          0.07110083774343799,
          0.062018086191563813,
          0.0322506820858382,
          0.01959130424697346,
          0.05482341873971585,
          0.12346074235153401,
          0.126097895709901,
          0.054147959720227845,
          0.06584322712520783,
          0.019264515794516494,
          0.017091860233435507,
          0.007966034665877078,
          0.0049432991151784275,
          0.0046341950784766,
          4.367886238476224e-05
         ],
         "yaxis": "y2"
        },
        {
         "alignmentgroup": "True",
         "customdata": [
          [
           0.0,
           0.0
          ],
          [
           0.0,
           0.0
          ],
          [
           0.0,
           0.0
          ],
          [
           0.0,
           0.0
          ],
          [
           0.0,
           0.0
          ],
          [
           9297.557542987084,
           5.0
          ],
          [
           8901.958329173101,
           25.0
          ],
          [
           37212.77149656984,
           73.0
          ],
          [
           30372.879373188665,
           96.0
          ],
          [
           70279.21160930606,
           145.0
          ],
          [
           75836.11562483701,
           173.0
          ],
          [
           62784.2279384003,
           140.0
          ],
          [
           87099.31826782957,
           151.0
          ],
          [
           73942.42762992914,
           171.0
          ],
          [
           113061.26862008445,
           145.0
          ],
          [
           63163.19034429718,
           123.0
          ],
          [
           24966.613679897902,
           111.0
          ],
          [
           28974.36171898583,
           88.0
          ],
          [
           23910.72272894777,
           58.0
          ],
          [
           10748.937055733639,
           26.0
          ],
          [
           5646.842906127324,
           21.0
          ],
          [
           1894.4602115019472,
           7.0
          ],
          [
           140.9681993126719,
           2.0
          ],
          [
           218.151276463587,
           1.0
          ]
         ],
         "hovertemplate": "source=survey<br>dpurp_label=Personal Business<br>dept_hr=%{x}<br>percentage=%{y}<br>trexpfac=%{customdata[0]}<br>sample_count=%{customdata[1]}<extra></extra>",
         "legendgroup": "survey",
         "marker": {
          "color": "#8CC63E",
          "pattern": {
           "shape": ""
          }
         },
         "name": "survey",
         "offsetgroup": "survey",
         "orientation": "v",
         "showlegend": false,
         "textposition": "auto",
         "type": "bar",
         "x": [
          0,
          1,
          2,
          3,
          4,
          5,
          6,
          7,
          8,
          9,
          10,
          11,
          12,
          13,
          14,
          15,
          16,
          17,
          18,
          19,
          20,
          21,
          22,
          23
         ],
         "xaxis": "x",
         "y": [
          0.0,
          0.0,
          0.0,
          0.0,
          0.0,
          0.012763445965055652,
          0.012220377619849038,
          0.051084728006301525,
          0.04169510141674263,
          0.09647747977840462,
          0.10410585355370082,
          0.08618856049500255,
          0.1195676861546445,
          0.1015062477662742,
          0.15520757856040887,
          0.08670879026159331,
          0.03427352002506867,
          0.03977525263623597,
          0.032824020300529895,
          0.014755862134579883,
          0.0077518395527303744,
          0.0026006658663480127,
          0.00019351748955569574,
          0.00029947241697375507
         ],
         "yaxis": "y"
        },
        {
         "alignmentgroup": "True",
         "customdata": [
          [
           804.680284745979,
           3.0
          ],
          [
           562.3747441545361,
           2.0
          ],
          [
           0.0,
           0.0
          ],
          [
           12541.120743195177,
           22.0
          ],
          [
           53412.45675627712,
           63.0
          ],
          [
           106403.91744037515,
           137.0
          ],
          [
           210508.01729626206,
           375.0
          ],
          [
           363308.5991724092,
           635.0
          ],
          [
           286435.99737778684,
           621.0
          ],
          [
           183302.98131302345,
           405.0
          ],
          [
           106180.05312067762,
           268.0
          ],
          [
           82219.0958748408,
           235.0
          ],
          [
           87388.77158814188,
           322.0
          ],
          [
           76203.60059923679,
           238.0
          ],
          [
           96806.63584919396,
           196.0
          ],
          [
           72354.0876608279,
           146.0
          ],
          [
           36458.000320929146,
           110.0
          ],
          [
           26134.587027886413,
           112.0
          ],
          [
           9622.42790991357,
           59.0
          ],
          [
           13280.302417338822,
           45.0
          ],
          [
           3794.351388658157,
           34.0
          ],
          [
           646.1173732884231,
           22.0
          ],
          [
           10795.506686474104,
           16.0
          ],
          [
           1337.360156468596,
           10.0
          ]
         ],
         "hovertemplate": "source=survey (update)<br>dpurp_label=Work<br>dept_hr=%{x}<br>percentage=%{y}<br>trexpfac=%{customdata[0]}<br>sample_count=%{customdata[1]}<extra></extra>",
         "legendgroup": "survey (update)",
         "marker": {
          "color": "#00A7A0",
          "pattern": {
           "shape": ""
          }
         },
         "name": "survey (update)",
         "offsetgroup": "survey (update)",
         "orientation": "v",
         "showlegend": true,
         "textposition": "auto",
         "type": "bar",
         "x": [
          0,
          1,
          2,
          3,
          4,
          5,
          6,
          7,
          8,
          9,
          10,
          11,
          12,
          13,
          14,
          15,
          16,
          17,
          18,
          19,
          20,
          21,
          22,
          23
         ],
         "xaxis": "x6",
         "y": [
          0.0004372071875545998,
          0.0003055552433736584,
          0.0,
          0.006813971005448342,
          0.029020606620386438,
          0.057812473314894045,
          0.11437538603154362,
          0.19739657335921101,
          0.15562935889186355,
          0.09959406543126546,
          0.05769084104495509,
          0.04467212674667281,
          0.04748096824810862,
          0.041403725841305715,
          0.05259797934481442,
          0.039312168787949936,
          0.019808736570711392,
          0.014199713238867498,
          0.005228156727200368,
          0.007215590812681799,
          0.002061586111498692,
          0.0003510551519163569,
          0.005865525981054932,
          0.0007266283067215861
         ],
         "yaxis": "y6"
        },
        {
         "alignmentgroup": "True",
         "customdata": [
          [
           0.0,
           0.0
          ],
          [
           0.0,
           0.0
          ],
          [
           0.0,
           0.0
          ],
          [
           0.0,
           0.0
          ],
          [
           86.688593033636,
           1.0
          ],
          [
           454.39219826369094,
           4.0
          ],
          [
           25738.818694978792,
           26.0
          ],
          [
           202083.50156386622,
           237.0
          ],
          [
           186704.40572451908,
           266.0
          ],
          [
           56855.249368937446,
           63.0
          ],
          [
           9549.5433118102,
           22.0
          ],
          [
           6417.963156613865,
           16.0
          ],
          [
           6418.499390814671,
           13.0
          ],
          [
           16271.837201016171,
           19.0
          ],
          [
           5075.9831418455105,
           13.0
          ],
          [
           3816.10688476565,
           15.0
          ],
          [
           4405.086266508944,
           9.0
          ],
          [
           1012.1140325171591,
           8.0
          ],
          [
           11446.021215011839,
           3.0
          ],
          [
           117.770432262396,
           1.0
          ],
          [
           0.0,
           0.0
          ],
          [
           0.0,
           0.0
          ],
          [
           0.0,
           0.0
          ],
          [
           0.0,
           0.0
          ]
         ],
         "hovertemplate": "source=survey (update)<br>dpurp_label=School<br>dept_hr=%{x}<br>percentage=%{y}<br>trexpfac=%{customdata[0]}<br>sample_count=%{customdata[1]}<extra></extra>",
         "legendgroup": "survey (update)",
         "marker": {
          "color": "#00A7A0",
          "pattern": {
           "shape": ""
          }
         },
         "name": "survey (update)",
         "offsetgroup": "survey (update)",
         "orientation": "v",
         "showlegend": false,
         "textposition": "auto",
         "type": "bar",
         "x": [
          0,
          1,
          2,
          3,
          4,
          5,
          6,
          7,
          8,
          9,
          10,
          11,
          12,
          13,
          14,
          15,
          16,
          17,
          18,
          19,
          20,
          21,
          22,
          23
         ],
         "xaxis": "x5",
         "y": [
          0.0,
          0.0,
          0.0,
          0.0,
          0.0001615955814951283,
          0.0008470292219044332,
          0.047979546425432666,
          0.37670239881634565,
          0.3480343371018784,
          0.10598346058355236,
          0.017801234862424405,
          0.011963678864933434,
          0.011964678455242428,
          0.030332214452621405,
          0.009462103591273264,
          0.007113577340585001,
          0.008211489561221912,
          0.0018866744735438184,
          0.021336445653556062,
          0.0002195350139895594,
          0.0,
          0.0,
          0.0,
          0.0
         ],
         "yaxis": "y5"
        },
        {
         "alignmentgroup": "True",
         "customdata": [
          [
           358.7736350081784,
           3.0
          ],
          [
           143.521368637738,
           1.0
          ],
          [
           570.896774611867,
           1.0
          ],
          [
           0.0,
           0.0
          ],
          [
           2395.07790418324,
           2.0
          ],
          [
           1099.1269493912555,
           8.0
          ],
          [
           9682.191616724744,
           16.0
          ],
          [
           30867.07210367278,
           55.0
          ],
          [
           52251.95971763586,
           96.0
          ],
          [
           74744.5281363228,
           194.0
          ],
          [
           140914.81237725346,
           291.0
          ],
          [
           165531.30596257237,
           335.0
          ],
          [
           158567.4885357726,
           324.0
          ],
          [
           148506.4692088266,
           304.0
          ],
          [
           218739.25280935815,
           345.0
          ],
          [
           239020.28780863824,
           296.0
          ],
          [
           200033.0806470187,
           332.0
          ],
          [
           128142.27916296125,
           305.0
          ],
          [
           151266.46572719884,
           246.0
          ],
          [
           69608.41782593235,
           214.0
          ],
          [
           33729.00173269234,
           85.0
          ],
          [
           16880.520789716313,
           29.0
          ],
          [
           16289.143604045355,
           19.0
          ],
          [
           4775.237711364982,
           7.0
          ]
         ],
         "hovertemplate": "source=survey (update)<br>dpurp_label=Shop<br>dept_hr=%{x}<br>percentage=%{y}<br>trexpfac=%{customdata[0]}<br>sample_count=%{customdata[1]}<extra></extra>",
         "legendgroup": "survey (update)",
         "marker": {
          "color": "#00A7A0",
          "pattern": {
           "shape": ""
          }
         },
         "name": "survey (update)",
         "offsetgroup": "survey (update)",
         "orientation": "v",
         "showlegend": false,
         "textposition": "auto",
         "type": "bar",
         "x": [
          0,
          1,
          2,
          3,
          4,
          5,
          6,
          7,
          8,
          9,
          10,
          11,
          12,
          13,
          14,
          15,
          16,
          17,
          18,
          19,
          20,
          21,
          22,
          23
         ],
         "xaxis": "x4",
         "y": [
          0.00019246305458500988,
          7.699161340439807e-05,
          0.00030625588497333465,
          0.0,
          0.001284832452634548,
          0.0005896233987531509,
          0.005193983034984554,
          0.016558549468199322,
          0.028030409132710776,
          0.040096480886350455,
          0.07559333401346931,
          0.08879877913625482,
          0.08506305988948337,
          0.07966585585062275,
          0.11734202473482228,
          0.1282217259314221,
          0.10730715404574598,
          0.06874154637540851,
          0.08114644781373566,
          0.03734122971244306,
          0.018093823146812557,
          0.009055505413881667,
          0.008738262873014569,
          0.002561662136287929
         ],
         "yaxis": "y4"
        },
        {
         "alignmentgroup": "True",
         "customdata": [
          [
           632.62215829592,
           1.0
          ],
          [
           0.0,
           0.0
          ],
          [
           0.0,
           0.0
          ],
          [
           0.0,
           0.0
          ],
          [
           23.312448148228,
           1.0
          ],
          [
           4014.9909061810304,
           5.0
          ],
          [
           19388.229589911243,
           28.0
          ],
          [
           17193.66095456018,
           49.0
          ],
          [
           40281.550672032245,
           70.0
          ],
          [
           32319.334424560453,
           90.0
          ],
          [
           22494.997102790257,
           86.0
          ],
          [
           79180.18027602999,
           200.0
          ],
          [
           114995.59534596713,
           241.0
          ],
          [
           36169.07711690028,
           153.0
          ],
          [
           78095.67868397436,
           120.0
          ],
          [
           85847.74714025226,
           121.0
          ],
          [
           70614.77254108731,
           161.0
          ],
          [
           84957.92642486223,
           207.0
          ],
          [
           83071.03998130125,
           202.0
          ],
          [
           60305.82273592012,
           119.0
          ],
          [
           68578.57197356776,
           83.0
          ],
          [
           13629.97008228534,
           29.0
          ],
          [
           4952.542971132462,
           15.0
          ],
          [
           1494.7720542075883,
           4.0
          ]
         ],
         "hovertemplate": "source=survey (update)<br>dpurp_label=Meal<br>dept_hr=%{x}<br>percentage=%{y}<br>trexpfac=%{customdata[0]}<br>sample_count=%{customdata[1]}<extra></extra>",
         "legendgroup": "survey (update)",
         "marker": {
          "color": "#00A7A0",
          "pattern": {
           "shape": ""
          }
         },
         "name": "survey (update)",
         "offsetgroup": "survey (update)",
         "orientation": "v",
         "showlegend": false,
         "textposition": "auto",
         "type": "bar",
         "x": [
          0,
          1,
          2,
          3,
          4,
          5,
          6,
          7,
          8,
          9,
          10,
          11,
          12,
          13,
          14,
          15,
          16,
          17,
          18,
          19,
          20,
          21,
          22,
          23
         ],
         "xaxis": "x3",
         "y": [
          0.0006889489761508955,
          0.0,
          0.0,
          0.0,
          2.5388120021840375e-05,
          0.00437247389740445,
          0.021114500575396607,
          0.01872453399804706,
          0.04386810156637855,
          0.03519695298321155,
          0.024497885537602827,
          0.086230150836887,
          0.12523446521202525,
          0.039389465451437906,
          0.08504908841015606,
          0.09349137826037353,
          0.07690210436883495,
          0.09252233052344766,
          0.09046744125604349,
          0.06567527596846351,
          0.07468460648667213,
          0.014843542563308885,
          0.005393502842986063,
          0.0016278621651497254
         ],
         "yaxis": "y3"
        },
        {
         "alignmentgroup": "True",
         "customdata": [
          [
           9.16501889224752,
           1.0
          ],
          [
           0.0,
           0.0
          ],
          [
           0.0,
           0.0
          ],
          [
           0.0,
           0.0
          ],
          [
           4054.1074151579,
           1.0
          ],
          [
           3125.3445629524927,
           10.0
          ],
          [
           33587.47417764466,
           37.0
          ],
          [
           234730.64420605902,
           227.0
          ],
          [
           187868.140302904,
           234.0
          ],
          [
           83194.89099350592,
           95.0
          ],
          [
           19655.609745442103,
           78.0
          ],
          [
           28470.574531523176,
           63.0
          ],
          [
           24735.78263135701,
           76.0
          ],
          [
           93383.30547029288,
           87.0
          ],
          [
           153778.12436165885,
           175.0
          ],
          [
           205282.61662488477,
           228.0
          ],
          [
           91440.7799257265,
           153.0
          ],
          [
           103597.81032057249,
           140.0
          ],
          [
           25422.955729679896,
           68.0
          ],
          [
           39576.82392115468,
           58.0
          ],
          [
           21548.81521353992,
           29.0
          ],
          [
           8339.18214681177,
           23.0
          ],
          [
           11516.748013204216,
           13.0
          ],
          [
           607.5843848720184,
           3.0
          ]
         ],
         "hovertemplate": "source=survey (update)<br>dpurp_label=Escort<br>dept_hr=%{x}<br>percentage=%{y}<br>trexpfac=%{customdata[0]}<br>sample_count=%{customdata[1]}<extra></extra>",
         "legendgroup": "survey (update)",
         "marker": {
          "color": "#00A7A0",
          "pattern": {
           "shape": ""
          }
         },
         "name": "survey (update)",
         "offsetgroup": "survey (update)",
         "orientation": "v",
         "showlegend": false,
         "textposition": "auto",
         "type": "bar",
         "x": [
          0,
          1,
          2,
          3,
          4,
          5,
          6,
          7,
          8,
          9,
          10,
          11,
          12,
          13,
          14,
          15,
          16,
          17,
          18,
          19,
          20,
          21,
          22,
          23
         ],
         "xaxis": "x2",
         "y": [
          6.6706763627287795e-06,
          0.0,
          0.0,
          0.0,
          0.0029507455275550897,
          0.002274753859929856,
          0.024446340232871448,
          0.17084658289552918,
          0.13673813197356913,
          0.06055265126835806,
          0.014306158324981772,
          0.02072205096286129,
          0.018003716353728823,
          0.06796819687966883,
          0.11192602124931662,
          0.1494131015438555,
          0.06655434717717704,
          0.07540273213407783,
          0.018503869097326875,
          0.028805634439667174,
          0.015684110854519002,
          0.0060695985338646225,
          0.008382361198640746,
          0.0004422248161383734
         ],
         "yaxis": "y2"
        },
        {
         "alignmentgroup": "True",
         "customdata": [
          [
           0.0,
           0.0
          ],
          [
           0.0,
           0.0
          ],
          [
           0.0,
           0.0
          ],
          [
           0.0,
           0.0
          ],
          [
           0.0,
           0.0
          ],
          [
           2941.709816663014,
           5.0
          ],
          [
           6787.840124287102,
           24.0
          ],
          [
           44644.19766696867,
           76.0
          ],
          [
           31765.464901663883,
           110.0
          ],
          [
           74424.13423794335,
           155.0
          ],
          [
           66592.76735213719,
           183.0
          ],
          [
           55823.587746709716,
           148.0
          ],
          [
           71755.10161401254,
           147.0
          ],
          [
           75768.19484864996,
           170.0
          ],
          [
           130627.28838497949,
           161.0
          ],
          [
           63498.44906164756,
           136.0
          ],
          [
           40413.19147329938,
           122.0
          ],
          [
           68848.9674905658,
           83.0
          ],
          [
           9367.28638823272,
           51.0
          ],
          [
           13896.771678979156,
           22.0
          ],
          [
           1354.5155151784093,
           8.0
          ],
          [
           5413.7580029584815,
           5.0
          ],
          [
           197.424677262663,
           1.0
          ],
          [
           0.0,
           0.0
          ]
         ],
         "hovertemplate": "source=survey (update)<br>dpurp_label=Personal Business<br>dept_hr=%{x}<br>percentage=%{y}<br>trexpfac=%{customdata[0]}<br>sample_count=%{customdata[1]}<extra></extra>",
         "legendgroup": "survey (update)",
         "marker": {
          "color": "#00A7A0",
          "pattern": {
           "shape": ""
          }
         },
         "name": "survey (update)",
         "offsetgroup": "survey (update)",
         "orientation": "v",
         "showlegend": false,
         "textposition": "auto",
         "type": "bar",
         "x": [
          0,
          1,
          2,
          3,
          4,
          5,
          6,
          7,
          8,
          9,
          10,
          11,
          12,
          13,
          14,
          15,
          16,
          17,
          18,
          19,
          20,
          21,
          22,
          23
         ],
         "xaxis": "x",
         "y": [
          0.0,
          0.0,
          0.0,
          0.0,
          0.0,
          0.0038497975586472854,
          0.008883204655655568,
          0.05842558712369128,
          0.041571268700610446,
          0.09739840710008892,
          0.08714954538467742,
          0.0730559862175673,
          0.09390546050781944,
          0.09915737096133133,
          0.17095112953311978,
          0.08310003005419597,
          0.05288849531988897,
          0.09010222064025214,
          0.012258910129169739,
          0.018186619692999218,
          0.0017726461304735373,
          0.007084951827960771,
          0.0002583684618507682,
          0.0
         ],
         "yaxis": "y"
        }
       ],
       "layout": {
        "annotations": [
         {
          "font": {},
          "showarrow": false,
          "text": "Personal Business",
          "textangle": 90,
          "x": 0.98,
          "xanchor": "left",
          "xref": "paper",
          "y": 0.07083333333333333,
          "yanchor": "middle",
          "yref": "paper"
         },
         {
          "font": {},
          "showarrow": false,
          "text": "Escort",
          "textangle": 90,
          "x": 0.98,
          "xanchor": "left",
          "xref": "paper",
          "y": 0.2425,
          "yanchor": "middle",
          "yref": "paper"
         },
         {
          "font": {},
          "showarrow": false,
          "text": "Meal",
          "textangle": 90,
          "x": 0.98,
          "xanchor": "left",
          "xref": "paper",
          "y": 0.4141666666666667,
          "yanchor": "middle",
          "yref": "paper"
         },
         {
          "font": {},
          "showarrow": false,
          "text": "Shop",
          "textangle": 90,
          "x": 0.98,
          "xanchor": "left",
          "xref": "paper",
          "y": 0.5858333333333334,
          "yanchor": "middle",
          "yref": "paper"
         },
         {
          "font": {},
          "showarrow": false,
          "text": "School",
          "textangle": 90,
          "x": 0.98,
          "xanchor": "left",
          "xref": "paper",
          "y": 0.7575000000000001,
          "yanchor": "middle",
          "yref": "paper"
         },
         {
          "font": {},
          "showarrow": false,
          "text": "Work",
          "textangle": 90,
          "x": 0.98,
          "xanchor": "left",
          "xref": "paper",
          "y": 0.9291666666666667,
          "yanchor": "middle",
          "yref": "paper"
         }
        ],
        "barmode": "group",
        "height": 1500,
        "legend": {
         "title": {
          "text": "source"
         },
         "tracegroupgap": 0
        },
        "template": {
         "data": {
          "bar": [
           {
            "error_x": {
             "color": "rgb(36,36,36)"
            },
            "error_y": {
             "color": "rgb(36,36,36)"
            },
            "marker": {
             "line": {
              "color": "white",
              "width": 0.5
             },
             "pattern": {
              "fillmode": "overlay",
              "size": 10,
              "solidity": 0.2
             }
            },
            "type": "bar"
           }
          ],
          "barpolar": [
           {
            "marker": {
             "line": {
              "color": "white",
              "width": 0.5
             },
             "pattern": {
              "fillmode": "overlay",
              "size": 10,
              "solidity": 0.2
             }
            },
            "type": "barpolar"
           }
          ],
          "carpet": [
           {
            "aaxis": {
             "endlinecolor": "rgb(36,36,36)",
             "gridcolor": "white",
             "linecolor": "white",
             "minorgridcolor": "white",
             "startlinecolor": "rgb(36,36,36)"
            },
            "baxis": {
             "endlinecolor": "rgb(36,36,36)",
             "gridcolor": "white",
             "linecolor": "white",
             "minorgridcolor": "white",
             "startlinecolor": "rgb(36,36,36)"
            },
            "type": "carpet"
           }
          ],
          "choropleth": [
           {
            "colorbar": {
             "outlinewidth": 1,
             "tickcolor": "rgb(36,36,36)",
             "ticks": "outside"
            },
            "type": "choropleth"
           }
          ],
          "contour": [
           {
            "colorbar": {
             "outlinewidth": 1,
             "tickcolor": "rgb(36,36,36)",
             "ticks": "outside"
            },
            "colorscale": [
             [
              0.0,
              "#440154"
             ],
             [
              0.1111111111111111,
              "#482878"
             ],
             [
              0.2222222222222222,
              "#3e4989"
             ],
             [
              0.3333333333333333,
              "#31688e"
             ],
             [
              0.4444444444444444,
              "#26828e"
             ],
             [
              0.5555555555555556,
              "#1f9e89"
             ],
             [
              0.6666666666666666,
              "#35b779"
             ],
             [
              0.7777777777777778,
              "#6ece58"
             ],
             [
              0.8888888888888888,
              "#b5de2b"
             ],
             [
              1.0,
              "#fde725"
             ]
            ],
            "type": "contour"
           }
          ],
          "contourcarpet": [
           {
            "colorbar": {
             "outlinewidth": 1,
             "tickcolor": "rgb(36,36,36)",
             "ticks": "outside"
            },
            "type": "contourcarpet"
           }
          ],
          "heatmap": [
           {
            "colorbar": {
             "outlinewidth": 1,
             "tickcolor": "rgb(36,36,36)",
             "ticks": "outside"
            },
            "colorscale": [
             [
              0.0,
              "#440154"
             ],
             [
              0.1111111111111111,
              "#482878"
             ],
             [
              0.2222222222222222,
              "#3e4989"
             ],
             [
              0.3333333333333333,
              "#31688e"
             ],
             [
              0.4444444444444444,
              "#26828e"
             ],
             [
              0.5555555555555556,
              "#1f9e89"
             ],
             [
              0.6666666666666666,
              "#35b779"
             ],
             [
              0.7777777777777778,
              "#6ece58"
             ],
             [
              0.8888888888888888,
              "#b5de2b"
             ],
             [
              1.0,
              "#fde725"
             ]
            ],
            "type": "heatmap"
           }
          ],
          "heatmapgl": [
           {
            "colorbar": {
             "outlinewidth": 1,
             "tickcolor": "rgb(36,36,36)",
             "ticks": "outside"
            },
            "colorscale": [
             [
              0.0,
              "#440154"
             ],
             [
              0.1111111111111111,
              "#482878"
             ],
             [
              0.2222222222222222,
              "#3e4989"
             ],
             [
              0.3333333333333333,
              "#31688e"
             ],
             [
              0.4444444444444444,
              "#26828e"
             ],
             [
              0.5555555555555556,
              "#1f9e89"
             ],
             [
              0.6666666666666666,
              "#35b779"
             ],
             [
              0.7777777777777778,
              "#6ece58"
             ],
             [
              0.8888888888888888,
              "#b5de2b"
             ],
             [
              1.0,
              "#fde725"
             ]
            ],
            "type": "heatmapgl"
           }
          ],
          "histogram": [
           {
            "marker": {
             "line": {
              "color": "white",
              "width": 0.6
             }
            },
            "type": "histogram"
           }
          ],
          "histogram2d": [
           {
            "colorbar": {
             "outlinewidth": 1,
             "tickcolor": "rgb(36,36,36)",
             "ticks": "outside"
            },
            "colorscale": [
             [
              0.0,
              "#440154"
             ],
             [
              0.1111111111111111,
              "#482878"
             ],
             [
              0.2222222222222222,
              "#3e4989"
             ],
             [
              0.3333333333333333,
              "#31688e"
             ],
             [
              0.4444444444444444,
              "#26828e"
             ],
             [
              0.5555555555555556,
              "#1f9e89"
             ],
             [
              0.6666666666666666,
              "#35b779"
             ],
             [
              0.7777777777777778,
              "#6ece58"
             ],
             [
              0.8888888888888888,
              "#b5de2b"
             ],
             [
              1.0,
              "#fde725"
             ]
            ],
            "type": "histogram2d"
           }
          ],
          "histogram2dcontour": [
           {
            "colorbar": {
             "outlinewidth": 1,
             "tickcolor": "rgb(36,36,36)",
             "ticks": "outside"
            },
            "colorscale": [
             [
              0.0,
              "#440154"
             ],
             [
              0.1111111111111111,
              "#482878"
             ],
             [
              0.2222222222222222,
              "#3e4989"
             ],
             [
              0.3333333333333333,
              "#31688e"
             ],
             [
              0.4444444444444444,
              "#26828e"
             ],
             [
              0.5555555555555556,
              "#1f9e89"
             ],
             [
              0.6666666666666666,
              "#35b779"
             ],
             [
              0.7777777777777778,
              "#6ece58"
             ],
             [
              0.8888888888888888,
              "#b5de2b"
             ],
             [
              1.0,
              "#fde725"
             ]
            ],
            "type": "histogram2dcontour"
           }
          ],
          "mesh3d": [
           {
            "colorbar": {
             "outlinewidth": 1,
             "tickcolor": "rgb(36,36,36)",
             "ticks": "outside"
            },
            "type": "mesh3d"
           }
          ],
          "parcoords": [
           {
            "line": {
             "colorbar": {
              "outlinewidth": 1,
              "tickcolor": "rgb(36,36,36)",
              "ticks": "outside"
             }
            },
            "type": "parcoords"
           }
          ],
          "pie": [
           {
            "automargin": true,
            "type": "pie"
           }
          ],
          "scatter": [
           {
            "fillpattern": {
             "fillmode": "overlay",
             "size": 10,
             "solidity": 0.2
            },
            "type": "scatter"
           }
          ],
          "scatter3d": [
           {
            "line": {
             "colorbar": {
              "outlinewidth": 1,
              "tickcolor": "rgb(36,36,36)",
              "ticks": "outside"
             }
            },
            "marker": {
             "colorbar": {
              "outlinewidth": 1,
              "tickcolor": "rgb(36,36,36)",
              "ticks": "outside"
             }
            },
            "type": "scatter3d"
           }
          ],
          "scattercarpet": [
           {
            "marker": {
             "colorbar": {
              "outlinewidth": 1,
              "tickcolor": "rgb(36,36,36)",
              "ticks": "outside"
             }
            },
            "type": "scattercarpet"
           }
          ],
          "scattergeo": [
           {
            "marker": {
             "colorbar": {
              "outlinewidth": 1,
              "tickcolor": "rgb(36,36,36)",
              "ticks": "outside"
             }
            },
            "type": "scattergeo"
           }
          ],
          "scattergl": [
           {
            "marker": {
             "colorbar": {
              "outlinewidth": 1,
              "tickcolor": "rgb(36,36,36)",
              "ticks": "outside"
             }
            },
            "type": "scattergl"
           }
          ],
          "scattermapbox": [
           {
            "marker": {
             "colorbar": {
              "outlinewidth": 1,
              "tickcolor": "rgb(36,36,36)",
              "ticks": "outside"
             }
            },
            "type": "scattermapbox"
           }
          ],
          "scatterpolar": [
           {
            "marker": {
             "colorbar": {
              "outlinewidth": 1,
              "tickcolor": "rgb(36,36,36)",
              "ticks": "outside"
             }
            },
            "type": "scatterpolar"
           }
          ],
          "scatterpolargl": [
           {
            "marker": {
             "colorbar": {
              "outlinewidth": 1,
              "tickcolor": "rgb(36,36,36)",
              "ticks": "outside"
             }
            },
            "type": "scatterpolargl"
           }
          ],
          "scatterternary": [
           {
            "marker": {
             "colorbar": {
              "outlinewidth": 1,
              "tickcolor": "rgb(36,36,36)",
              "ticks": "outside"
             }
            },
            "type": "scatterternary"
           }
          ],
          "surface": [
           {
            "colorbar": {
             "outlinewidth": 1,
             "tickcolor": "rgb(36,36,36)",
             "ticks": "outside"
            },
            "colorscale": [
             [
              0.0,
              "#440154"
             ],
             [
              0.1111111111111111,
              "#482878"
             ],
             [
              0.2222222222222222,
              "#3e4989"
             ],
             [
              0.3333333333333333,
              "#31688e"
             ],
             [
              0.4444444444444444,
              "#26828e"
             ],
             [
              0.5555555555555556,
              "#1f9e89"
             ],
             [
              0.6666666666666666,
              "#35b779"
             ],
             [
              0.7777777777777778,
              "#6ece58"
             ],
             [
              0.8888888888888888,
              "#b5de2b"
             ],
             [
              1.0,
              "#fde725"
             ]
            ],
            "type": "surface"
           }
          ],
          "table": [
           {
            "cells": {
             "fill": {
              "color": "rgb(237,237,237)"
             },
             "line": {
              "color": "white"
             }
            },
            "header": {
             "fill": {
              "color": "rgb(217,217,217)"
             },
             "line": {
              "color": "white"
             }
            },
            "type": "table"
           }
          ]
         },
         "layout": {
          "annotationdefaults": {
           "arrowhead": 0,
           "arrowwidth": 1
          },
          "autotypenumbers": "strict",
          "coloraxis": {
           "colorbar": {
            "outlinewidth": 1,
            "tickcolor": "rgb(36,36,36)",
            "ticks": "outside"
           }
          },
          "colorscale": {
           "diverging": [
            [
             0.0,
             "rgb(103,0,31)"
            ],
            [
             0.1,
             "rgb(178,24,43)"
            ],
            [
             0.2,
             "rgb(214,96,77)"
            ],
            [
             0.3,
             "rgb(244,165,130)"
            ],
            [
             0.4,
             "rgb(253,219,199)"
            ],
            [
             0.5,
             "rgb(247,247,247)"
            ],
            [
             0.6,
             "rgb(209,229,240)"
            ],
            [
             0.7,
             "rgb(146,197,222)"
            ],
            [
             0.8,
             "rgb(67,147,195)"
            ],
            [
             0.9,
             "rgb(33,102,172)"
            ],
            [
             1.0,
             "rgb(5,48,97)"
            ]
           ],
           "sequential": [
            [
             0.0,
             "#440154"
            ],
            [
             0.1111111111111111,
             "#482878"
            ],
            [
             0.2222222222222222,
             "#3e4989"
            ],
            [
             0.3333333333333333,
             "#31688e"
            ],
            [
             0.4444444444444444,
             "#26828e"
            ],
            [
             0.5555555555555556,
             "#1f9e89"
            ],
            [
             0.6666666666666666,
             "#35b779"
            ],
            [
             0.7777777777777778,
             "#6ece58"
            ],
            [
             0.8888888888888888,
             "#b5de2b"
            ],
            [
             1.0,
             "#fde725"
            ]
           ],
           "sequentialminus": [
            [
             0.0,
             "#440154"
            ],
            [
             0.1111111111111111,
             "#482878"
            ],
            [
             0.2222222222222222,
             "#3e4989"
            ],
            [
             0.3333333333333333,
             "#31688e"
            ],
            [
             0.4444444444444444,
             "#26828e"
            ],
            [
             0.5555555555555556,
             "#1f9e89"
            ],
            [
             0.6666666666666666,
             "#35b779"
            ],
            [
             0.7777777777777778,
             "#6ece58"
            ],
            [
             0.8888888888888888,
             "#b5de2b"
            ],
            [
             1.0,
             "#fde725"
            ]
           ]
          },
          "colorway": [
           "#91268F",
           "#8CC63E",
           "#00A7A0",
           "#F05A28",
           "#4C4C4C",
           "#630460",
           "#9f3913",
           "#588527",
           "#00716c",
           "#3e4040"
          ],
          "font": {
           "color": "rgb(36,36,36)",
           "family": "Poppins",
           "size": 11
          },
          "geo": {
           "bgcolor": "white",
           "lakecolor": "white",
           "landcolor": "white",
           "showlakes": true,
           "showland": true,
           "subunitcolor": "white"
          },
          "hoverlabel": {
           "align": "left"
          },
          "hovermode": "closest",
          "mapbox": {
           "style": "light"
          },
          "paper_bgcolor": "white",
          "plot_bgcolor": "white",
          "polar": {
           "angularaxis": {
            "gridcolor": "rgb(232,232,232)",
            "linecolor": "rgb(36,36,36)",
            "showgrid": false,
            "showline": true,
            "ticks": "outside"
           },
           "bgcolor": "white",
           "radialaxis": {
            "gridcolor": "rgb(232,232,232)",
            "linecolor": "rgb(36,36,36)",
            "showgrid": false,
            "showline": true,
            "ticks": "outside"
           }
          },
          "scene": {
           "xaxis": {
            "backgroundcolor": "white",
            "gridcolor": "rgb(232,232,232)",
            "gridwidth": 2,
            "linecolor": "rgb(36,36,36)",
            "showbackground": true,
            "showgrid": false,
            "showline": true,
            "ticks": "outside",
            "zeroline": false,
            "zerolinecolor": "rgb(36,36,36)"
           },
           "yaxis": {
            "backgroundcolor": "white",
            "gridcolor": "rgb(232,232,232)",
            "gridwidth": 2,
            "linecolor": "rgb(36,36,36)",
            "showbackground": true,
            "showgrid": false,
            "showline": true,
            "ticks": "outside",
            "zeroline": false,
            "zerolinecolor": "rgb(36,36,36)"
           },
           "zaxis": {
            "backgroundcolor": "white",
            "gridcolor": "rgb(232,232,232)",
            "gridwidth": 2,
            "linecolor": "rgb(36,36,36)",
            "showbackground": true,
            "showgrid": false,
            "showline": true,
            "ticks": "outside",
            "zeroline": false,
            "zerolinecolor": "rgb(36,36,36)"
           }
          },
          "shapedefaults": {
           "fillcolor": "black",
           "line": {
            "width": 0
           },
           "opacity": 0.3
          },
          "ternary": {
           "aaxis": {
            "gridcolor": "rgb(232,232,232)",
            "linecolor": "rgb(36,36,36)",
            "showgrid": false,
            "showline": true,
            "ticks": "outside"
           },
           "baxis": {
            "gridcolor": "rgb(232,232,232)",
            "linecolor": "rgb(36,36,36)",
            "showgrid": false,
            "showline": true,
            "ticks": "outside"
           },
           "bgcolor": "white",
           "caxis": {
            "gridcolor": "rgb(232,232,232)",
            "linecolor": "rgb(36,36,36)",
            "showgrid": false,
            "showline": true,
            "ticks": "outside"
           }
          },
          "title": {
           "x": 0.05
          },
          "xaxis": {
           "automargin": true,
           "gridcolor": "rgb(232,232,232)",
           "linecolor": "rgb(36,36,36)",
           "showgrid": false,
           "showline": true,
           "ticks": "outside",
           "title": {
            "standoff": 15
           },
           "zeroline": false,
           "zerolinecolor": "rgb(36,36,36)"
          },
          "yaxis": {
           "automargin": true,
           "gridcolor": "rgb(232,232,232)",
           "linecolor": "rgb(36,36,36)",
           "showgrid": false,
           "showline": true,
           "ticks": "outside",
           "title": {
            "standoff": 15
           },
           "zeroline": false,
           "zerolinecolor": "rgb(36,36,36)"
          }
         }
        },
        "title": {
         "text": "trip origin departure hour by purpose"
        },
        "width": 850,
        "xaxis": {
         "anchor": "y",
         "categoryorder": "category ascending",
         "domain": [
          0.0,
          0.98
         ],
         "dtick": 1,
         "title": {
          "text": "dept_hr"
         }
        },
        "xaxis2": {
         "anchor": "y2",
         "categoryorder": "category ascending",
         "domain": [
          0.0,
          0.98
         ],
         "dtick": 1,
         "matches": "x",
         "showticklabels": false
        },
        "xaxis3": {
         "anchor": "y3",
         "categoryorder": "category ascending",
         "domain": [
          0.0,
          0.98
         ],
         "dtick": 1,
         "matches": "x",
         "showticklabels": false
        },
        "xaxis4": {
         "anchor": "y4",
         "categoryorder": "category ascending",
         "domain": [
          0.0,
          0.98
         ],
         "dtick": 1,
         "matches": "x",
         "showticklabels": false
        },
        "xaxis5": {
         "anchor": "y5",
         "categoryorder": "category ascending",
         "domain": [
          0.0,
          0.98
         ],
         "dtick": 1,
         "matches": "x",
         "showticklabels": false
        },
        "xaxis6": {
         "anchor": "y6",
         "categoryorder": "category ascending",
         "domain": [
          0.0,
          0.98
         ],
         "dtick": 1,
         "matches": "x",
         "showticklabels": false
        },
        "yaxis": {
         "anchor": "x",
         "domain": [
          0.0,
          0.14166666666666666
         ],
         "tickformat": ".0%",
         "title": {
          "text": "percentage"
         }
        },
        "yaxis2": {
         "anchor": "x2",
         "domain": [
          0.17166666666666666,
          0.31333333333333335
         ],
         "matches": "y",
         "tickformat": ".0%",
         "title": {
          "text": "percentage"
         }
        },
        "yaxis3": {
         "anchor": "x3",
         "domain": [
          0.3433333333333333,
          0.485
         ],
         "matches": "y",
         "tickformat": ".0%",
         "title": {
          "text": "percentage"
         }
        },
        "yaxis4": {
         "anchor": "x4",
         "domain": [
          0.515,
          0.6566666666666667
         ],
         "matches": "y",
         "tickformat": ".0%",
         "title": {
          "text": "percentage"
         }
        },
        "yaxis5": {
         "anchor": "x5",
         "domain": [
          0.6866666666666666,
          0.8283333333333334
         ],
         "matches": "y",
         "tickformat": ".0%",
         "title": {
          "text": "percentage"
         }
        },
        "yaxis6": {
         "anchor": "x6",
         "domain": [
          0.8583333333333333,
          1.0
         ],
         "matches": "y",
         "tickformat": ".0%",
         "title": {
          "text": "percentage"
         }
        }
       }
      },
      "text/html": [
       "<div>                            <div id=\"4332f58b-cfac-43a7-8449-1d601101287d\" class=\"plotly-graph-div\" style=\"height:1500px; width:850px;\"></div>            <script type=\"text/javascript\">                require([\"plotly\"], function(Plotly) {                    window.PLOTLYENV=window.PLOTLYENV || {};                                    if (document.getElementById(\"4332f58b-cfac-43a7-8449-1d601101287d\")) {                    Plotly.newPlot(                        \"4332f58b-cfac-43a7-8449-1d601101287d\",                        [{\"alignmentgroup\":\"True\",\"customdata\":[[4795.0,4795.0],[3382.0,3382.0],[1291.0,1291.0],[24218.0,24218.0],[32235.0,32235.0],[88168.0,88168.0],[239517.0,239517.0],[342500.0,342500.0],[317082.0,317082.0],[196539.0,196539.0],[167739.0,167739.0],[178685.0,178685.0],[184073.0,184073.0],[154769.0,154769.0],[139023.0,139023.0],[121396.0,121396.0],[131753.0,131753.0],[109139.0,109139.0],[80798.0,80798.0],[44783.0,44783.0],[33028.0,33028.0],[29864.0,29864.0],[16488.0,16488.0],[11829.0,11829.0]],\"hovertemplate\":\"source=model\\u003cbr\\u003edpurp_label=Work\\u003cbr\\u003edept_hr=%{x}\\u003cbr\\u003epercentage=%{y}\\u003cbr\\u003etrexpfac=%{customdata[0]}\\u003cbr\\u003esample_count=%{customdata[1]}\\u003cextra\\u003e\\u003c\\u002fextra\\u003e\",\"legendgroup\":\"model\",\"marker\":{\"color\":\"#91268F\",\"pattern\":{\"shape\":\"\"}},\"name\":\"model\",\"offsetgroup\":\"model\",\"orientation\":\"v\",\"showlegend\":true,\"textposition\":\"auto\",\"x\":[0,1,2,3,4,5,6,7,8,9,10,11,12,13,14,15,16,17,18,19,20,21,22,23],\"xaxis\":\"x6\",\"y\":[0.0018073238264456517,0.001274738098235494,0.0004866016809053882,0.009128210308417267,0.012149965285813469,0.03323214330136814,0.09027836933029888,0.12909455903183226,0.11951404661877793,0.07407916945272199,0.06322391894143216,0.06734966797256335,0.06938050442238383,0.05833528702714642,0.05240032957746691,0.04575638857876879,0.04966013266020729,0.041136499498321585,0.030454254542055425,0.016879537626635167,0.012448861593294471,0.011256291710734712,0.006214630917713432,0.004458567996459982],\"yaxis\":\"y6\",\"type\":\"bar\"},{\"alignmentgroup\":\"True\",\"customdata\":[[6.0,6.0],[2.0,2.0],[0.0,0.0],[347.0,347.0],[438.0,438.0],[3597.0,3597.0],[37861.0,37861.0],[130698.0,130698.0],[161448.0,161448.0],[86760.0,86760.0],[42717.0,42717.0],[29269.0,29269.0],[21041.0,21041.0],[15555.0,15555.0],[12621.0,12621.0],[13264.0,13264.0],[9240.0,9240.0],[8056.0,8056.0],[5288.0,5288.0],[1635.0,1635.0],[1365.0,1365.0],[732.0,732.0],[88.0,88.0],[42.0,42.0]],\"hovertemplate\":\"source=model\\u003cbr\\u003edpurp_label=School\\u003cbr\\u003edept_hr=%{x}\\u003cbr\\u003epercentage=%{y}\\u003cbr\\u003etrexpfac=%{customdata[0]}\\u003cbr\\u003esample_count=%{customdata[1]}\\u003cextra\\u003e\\u003c\\u002fextra\\u003e\",\"legendgroup\":\"model\",\"marker\":{\"color\":\"#91268F\",\"pattern\":{\"shape\":\"\"}},\"name\":\"model\",\"offsetgroup\":\"model\",\"orientation\":\"v\",\"showlegend\":false,\"textposition\":\"auto\",\"x\":[0,1,2,3,4,5,6,7,8,9,10,11,12,13,14,15,16,17,18,19,20,21,22,23],\"xaxis\":\"x5\",\"y\":[1.0308038552064185e-05,3.4360128506880614e-06,0.0,0.0005961482295943787,0.0007524868143006855,0.006179669111962479,0.06504544126995035,0.22454000377961414,0.2773687013589431,0.1490542374628481,0.07338808047142097,0.05028433006339444,0.03614857319566375,0.0267235899462264,0.021682959094267013,0.022787637225763224,0.015874379370178843,0.013840259762571512,0.009084817977219235,0.0028089405054374903,0.002345078770594602,0.0012575807033518304,0.0001511845654302747,7.215626986444929e-05],\"yaxis\":\"y5\",\"type\":\"bar\"},{\"alignmentgroup\":\"True\",\"customdata\":[[1035.0,1035.0],[729.0,729.0],[286.0,286.0],[5857.0,5857.0],[6074.0,6074.0],[9378.0,9378.0],[25549.0,25549.0],[54654.0,54654.0],[92381.0,92381.0],[129185.0,129185.0],[150036.0,150036.0],[140739.0,140739.0],[132130.0,132130.0],[143690.0,143690.0],[129198.0,129198.0],[141887.0,141887.0],[149504.0,149504.0],[125561.0,125561.0],[99093.0,99093.0],[69487.0,69487.0],[48037.0,48037.0],[17764.0,17764.0],[8054.0,8054.0],[5146.0,5146.0]],\"hovertemplate\":\"source=model\\u003cbr\\u003edpurp_label=Shop\\u003cbr\\u003edept_hr=%{x}\\u003cbr\\u003epercentage=%{y}\\u003cbr\\u003etrexpfac=%{customdata[0]}\\u003cbr\\u003esample_count=%{customdata[1]}\\u003cextra\\u003e\\u003c\\u002fextra\\u003e\",\"legendgroup\":\"model\",\"marker\":{\"color\":\"#91268F\",\"pattern\":{\"shape\":\"\"}},\"name\":\"model\",\"offsetgroup\":\"model\",\"orientation\":\"v\",\"showlegend\":false,\"textposition\":\"auto\",\"x\":[0,1,2,3,4,5,6,7,8,9,10,11,12,13,14,15,16,17,18,19,20,21,22,23],\"xaxis\":\"x4\",\"y\":[0.0006140778686336145,0.000432524411820198,0.0001696872178060036,0.00347502809332085,0.0036037767865512793,0.005564079470575881,0.015158527020019533,0.032426871335557064,0.054810751287190276,0.07664700430863139,0.08901815178580964,0.08350213058321378,0.07839430800247292,0.08525299414875755,0.0766547173639862,0.08418325270223928,0.08870250982821246,0.07449684180048818,0.058793061098078025,0.0412274674954048,0.028500926159954528,0.010539593486384084,0.00477853444828515,0.0030531832966073234],\"yaxis\":\"y4\",\"type\":\"bar\"},{\"alignmentgroup\":\"True\",\"customdata\":[[1378.0,1378.0],[1177.0,1177.0],[488.0,488.0],[4146.0,4146.0],[4539.0,4539.0],[8770.0,8770.0],[22834.0,22834.0],[35009.0,35009.0],[56762.0,56762.0],[75246.0,75246.0],[108994.0,108994.0],[119210.0,119210.0],[124349.0,124349.0],[101866.0,101866.0],[93127.0,93127.0],[79440.0,79440.0],[83959.0,83959.0],[85038.0,85038.0],[75174.0,75174.0],[47067.0,47067.0],[38625.0,38625.0],[26792.0,26792.0],[8484.0,8484.0],[4974.0,4974.0]],\"hovertemplate\":\"source=model\\u003cbr\\u003edpurp_label=Meal\\u003cbr\\u003edept_hr=%{x}\\u003cbr\\u003epercentage=%{y}\\u003cbr\\u003etrexpfac=%{customdata[0]}\\u003cbr\\u003esample_count=%{customdata[1]}\\u003cextra\\u003e\\u003c\\u002fextra\\u003e\",\"legendgroup\":\"model\",\"marker\":{\"color\":\"#91268F\",\"pattern\":{\"shape\":\"\"}},\"name\":\"model\",\"offsetgroup\":\"model\",\"orientation\":\"v\",\"showlegend\":false,\"textposition\":\"auto\",\"x\":[0,1,2,3,4,5,6,7,8,9,10,11,12,13,14,15,16,17,18,19,20,21,22,23],\"xaxis\":\"x3\",\"y\":[0.0011412499751542095,0.000974783179068581,0.0004041581914914762,0.003433688241646845,0.00375916809667994,0.007263252744631653,0.018910959312533542,0.028994209274436664,0.047009891937375356,0.06231821163313037,0.09026806951520894,0.0987288893600387,0.10298497326592947,0.08436470970178427,0.0771271309406285,0.06579165313951409,0.06953425737588699,0.07042787763945114,0.06225858173602507,0.038980560653543675,0.03198895521794727,0.022188947267294326,0.0070263895422411566,0.004119432058357793],\"yaxis\":\"y3\",\"type\":\"bar\"},{\"alignmentgroup\":\"True\",\"customdata\":[[2930.0,2930.0],[2210.0,2210.0],[882.0,882.0],[25039.0,25039.0],[23247.0,23247.0],[41189.0,41189.0],[111295.0,111295.0],[141439.0,141439.0],[134595.0,134595.0],[124052.0,124052.0],[118870.0,118870.0],[96774.0,96774.0],[90786.0,90786.0],[98631.0,98631.0],[96857.0,96857.0],[123110.0,123110.0],[142423.0,142423.0],[127731.0,127731.0],[92296.0,92296.0],[58817.0,58817.0],[45016.0,45016.0],[24643.0,24643.0],[13254.0,13254.0],[10633.0,10633.0]],\"hovertemplate\":\"source=model\\u003cbr\\u003edpurp_label=Escort\\u003cbr\\u003edept_hr=%{x}\\u003cbr\\u003epercentage=%{y}\\u003cbr\\u003etrexpfac=%{customdata[0]}\\u003cbr\\u003esample_count=%{customdata[1]}\\u003cextra\\u003e\\u003c\\u002fextra\\u003e\",\"legendgroup\":\"model\",\"marker\":{\"color\":\"#91268F\",\"pattern\":{\"shape\":\"\"}},\"name\":\"model\",\"offsetgroup\":\"model\",\"orientation\":\"v\",\"showlegend\":false,\"textposition\":\"auto\",\"x\":[0,1,2,3,4,5,6,7,8,9,10,11,12,13,14,15,16,17,18,19,20,21,22,23],\"xaxis\":\"x2\",\"y\":[0.0016774306571348911,0.001265229266985703,0.0005049467029327557,0.014334875844368785,0.013308952384441916,0.023580782026187384,0.06371660238424154,0.08097410058515422,0.07705589737101388,0.0710200095149821,0.06805330450976946,0.05540330184763548,0.05197516028622807,0.05646643793306193,0.05545081950788879,0.07048071269620357,0.08153744248502479,0.07312624411825829,0.052839638201679834,0.033672846061673346,0.02577174691521647,0.014108165079786732,0.007587940590329641,0.006087413029800443],\"yaxis\":\"y2\",\"type\":\"bar\"},{\"alignmentgroup\":\"True\",\"customdata\":[[541.0,541.0],[387.0,387.0],[152.0,152.0],[4407.0,4407.0],[4112.0,4112.0],[7853.0,7853.0],[21276.0,21276.0],[38072.0,38072.0],[59473.0,59473.0],[73459.0,73459.0],[77693.0,77693.0],[66339.0,66339.0],[62160.0,62160.0],[66226.0,66226.0],[56695.0,56695.0],[58964.0,58964.0],[63886.0,63886.0],[50585.0,50585.0],[39064.0,39064.0],[23373.0,23373.0],[16806.0,16806.0],[9434.0,9434.0],[3876.0,3876.0],[2429.0,2429.0]],\"hovertemplate\":\"source=model\\u003cbr\\u003edpurp_label=Personal Business\\u003cbr\\u003edept_hr=%{x}\\u003cbr\\u003epercentage=%{y}\\u003cbr\\u003etrexpfac=%{customdata[0]}\\u003cbr\\u003esample_count=%{customdata[1]}\\u003cextra\\u003e\\u003c\\u002fextra\\u003e\",\"legendgroup\":\"model\",\"marker\":{\"color\":\"#91268F\",\"pattern\":{\"shape\":\"\"}},\"name\":\"model\",\"offsetgroup\":\"model\",\"orientation\":\"v\",\"showlegend\":false,\"textposition\":\"auto\",\"x\":[0,1,2,3,4,5,6,7,8,9,10,11,12,13,14,15,16,17,18,19,20,21,22,23],\"xaxis\":\"x\",\"y\":[0.0006701665630241483,0.0004793982622742059,0.0001882907903505925,0.005459194164967507,0.005093761381063397,0.009727944583047387,0.02635575562828425,0.04716188796202472,0.07367248799026833,0.0909977182129222,0.09624260772834593,0.08217778119123655,0.07700102321179493,0.08203780185367328,0.07023122604557133,0.07304196159363378,0.07913911468643389,0.06266243177555737,0.048390733120102274,0.02895342528200262,0.02081851988573722,0.011686416553733484,0.004801415153940109,0.003008936380010455],\"yaxis\":\"y\",\"type\":\"bar\"},{\"alignmentgroup\":\"True\",\"customdata\":[[877.647042052731,3.0],[596.9418007071902,2.0],[0.0,0.0],[11650.055250018777,21.0],[66295.18887513214,61.0],[97949.82613985866,128.0],[226622.16954902207,361.0],[341130.43554388883,612.0],[267785.380318121,610.0],[171021.9207828352,381.0],[125524.87883650606,263.0],[86582.1122037897,233.0],[121082.12585893358,313.0],[110304.9240695201,229.0],[105293.49075643212,194.0],[94347.81685040558,136.0],[56777.453411633134,106.0],[40681.768903020195,122.0],[25441.05684026079,64.0],[34690.585260702246,43.0],[21415.938529226954,34.0],[9441.90766218975,22.0],[19246.487220641277,16.0],[4896.445540763096,10.0]],\"hovertemplate\":\"source=survey\\u003cbr\\u003edpurp_label=Work\\u003cbr\\u003edept_hr=%{x}\\u003cbr\\u003epercentage=%{y}\\u003cbr\\u003etrexpfac=%{customdata[0]}\\u003cbr\\u003esample_count=%{customdata[1]}\\u003cextra\\u003e\\u003c\\u002fextra\\u003e\",\"legendgroup\":\"survey\",\"marker\":{\"color\":\"#8CC63E\",\"pattern\":{\"shape\":\"\"}},\"name\":\"survey\",\"offsetgroup\":\"survey\",\"orientation\":\"v\",\"showlegend\":true,\"textposition\":\"auto\",\"x\":[0,1,2,3,4,5,6,7,8,9,10,11,12,13,14,15,16,17,18,19,20,21,22,23],\"xaxis\":\"x6\",\"y\":[0.0004302915796951129,0.00029266780163877027,0.0,0.005711772998563511,0.032503113644120916,0.048022705485343806,0.11110800430786798,0.16724895881713986,0.1312894464349119,0.08384839113001558,0.061542164238676554,0.04244935839625354,0.05936397744453708,0.054080145835176854,0.05162314723152204,0.04625671734549872,0.027836771445632513,0.019945401473842533,0.012473206212038084,0.01700805223186603,0.01049977676543099,0.004629165448785182,0.009436141173998238,0.0024006225574442906],\"yaxis\":\"y6\",\"type\":\"bar\"},{\"alignmentgroup\":\"True\",\"customdata\":[[0.0,0.0],[0.0,0.0],[0.0,0.0],[0.0,0.0],[75.6029420675361,1.0],[944.6388505184881,3.0],[20217.931620365427,26.0],[190219.19108530923,229.0],[219886.15335901993,260.0],[59190.70754528113,63.0],[17733.54553657545,19.0],[6115.9062908794995,13.0],[6219.259173600052,13.0],[23368.641487335408,16.0],[4985.581534453788,18.0],[14562.920624023891,16.0],[11931.184860898193,10.0],[3824.381295473854,21.0],[5734.429891505202,4.0],[826.970102120082,3.0],[0.0,0.0],[0.0,0.0],[365.922772130815,1.0],[0.0,0.0]],\"hovertemplate\":\"source=survey\\u003cbr\\u003edpurp_label=School\\u003cbr\\u003edept_hr=%{x}\\u003cbr\\u003epercentage=%{y}\\u003cbr\\u003etrexpfac=%{customdata[0]}\\u003cbr\\u003esample_count=%{customdata[1]}\\u003cextra\\u003e\\u003c\\u002fextra\\u003e\",\"legendgroup\":\"survey\",\"marker\":{\"color\":\"#8CC63E\",\"pattern\":{\"shape\":\"\"}},\"name\":\"survey\",\"offsetgroup\":\"survey\",\"orientation\":\"v\",\"showlegend\":false,\"textposition\":\"auto\",\"x\":[0,1,2,3,4,5,6,7,8,9,10,11,12,13,14,15,16,17,18,19,20,21,22,23],\"xaxis\":\"x5\",\"y\":[0.0,0.0,0.0,0.0,0.00012897058880505995,0.0016114535417242508,0.03448964384441114,0.32449373536785775,0.3751024218536304,0.10097305997805858,0.03025154507096307,0.010433086515425408,0.010609395555452749,0.03986442021665918,0.008504872541332496,0.024842795746280965,0.020353334071013692,0.0065239882735213675,0.0097823282975959,0.0014107231554472148,0.0,0.0,0.0006242253818208984,0.0],\"yaxis\":\"y5\",\"type\":\"bar\"},{\"alignmentgroup\":\"True\",\"customdata\":[[1043.5875068631988,3.0],[484.372679805163,1.0],[306.34798152004703,1.0],[0.0,0.0],[2450.77235887258,2.0],[822.0588324063526,8.0],[3093.0872852287266,8.0],[31348.818601798346,49.0],[47029.94572929551,83.0],[67349.16890488588,177.0],[123957.93980756427,266.0],[183166.24619836523,305.0],[131061.46508166657,281.0],[130195.96741348183,263.0],[211258.51400685747,315.0],[130113.75447500877,258.0],[158026.45305806032,299.0],[120961.5917953065,265.0],[118615.272038351,214.0],[77174.95771085698,189.0],[30796.943803743532,66.0],[5372.311962232592,19.0],[4191.009265770166,15.0],[1005.4244650200757,4.0]],\"hovertemplate\":\"source=survey\\u003cbr\\u003edpurp_label=Shop\\u003cbr\\u003edept_hr=%{x}\\u003cbr\\u003epercentage=%{y}\\u003cbr\\u003etrexpfac=%{customdata[0]}\\u003cbr\\u003esample_count=%{customdata[1]}\\u003cextra\\u003e\\u003c\\u002fextra\\u003e\",\"legendgroup\":\"survey\",\"marker\":{\"color\":\"#8CC63E\",\"pattern\":{\"shape\":\"\"}},\"name\":\"survey\",\"offsetgroup\":\"survey\",\"orientation\":\"v\",\"showlegend\":false,\"textposition\":\"auto\",\"x\":[0,1,2,3,4,5,6,7,8,9,10,11,12,13,14,15,16,17,18,19,20,21,22,23],\"xaxis\":\"x4\",\"y\":[0.0006605711639265228,0.00030659874976353906,0.00019391248111766236,0.0,0.0015512925739073922,0.0005203477007605907,0.0019578657800066084,0.019843209558684318,0.0297690665952696,0.0426307507519984,0.0784630326044622,0.11594077127943905,0.08295942981833795,0.08241158615569488,0.13372264574760848,0.08235954691979007,0.1000277574628218,0.0765664009554926,0.07508122490403277,0.04885028932003471,0.01949388324412489,0.0034005719142185626,0.0026528296386357096,0.000636414679871762],\"yaxis\":\"y4\",\"type\":\"bar\"},{\"alignmentgroup\":\"True\",\"customdata\":[[0.0,0.0],[0.0,0.0],[0.0,0.0],[0.0,0.0],[10.6381727331061,1.0],[1147.831085856249,6.0],[14626.873553095289,29.0],[17414.860510843453,47.0],[59032.64490192203,72.0],[36750.04231852758,88.0],[15955.689864202985,83.0],[98607.73367527753,193.0],[127055.64466029961,236.0],[84794.28310803465,146.0],[67735.17373241174,112.0],[32261.44116445362,109.0],[44943.75446043937,158.0],[102003.74447276245,192.0],[65452.0382090979,185.0],[51193.9845724077,111.0],[50164.822780754264,78.0],[15219.319627671688,24.0],[1255.7041264046907,14.0],[4820.569683374715,5.0]],\"hovertemplate\":\"source=survey\\u003cbr\\u003edpurp_label=Meal\\u003cbr\\u003edept_hr=%{x}\\u003cbr\\u003epercentage=%{y}\\u003cbr\\u003etrexpfac=%{customdata[0]}\\u003cbr\\u003esample_count=%{customdata[1]}\\u003cextra\\u003e\\u003c\\u002fextra\\u003e\",\"legendgroup\":\"survey\",\"marker\":{\"color\":\"#8CC63E\",\"pattern\":{\"shape\":\"\"}},\"name\":\"survey\",\"offsetgroup\":\"survey\",\"orientation\":\"v\",\"showlegend\":false,\"textposition\":\"auto\",\"x\":[0,1,2,3,4,5,6,7,8,9,10,11,12,13,14,15,16,17,18,19,20,21,22,23],\"xaxis\":\"x3\",\"y\":[0.0,0.0,0.0,0.0,1.1947005477090098e-05,0.0012890507245500386,0.016426443040139613,0.01955744084304405,0.06629553304540645,0.04127146342495499,0.017918745914433615,0.1107396132642052,0.14268751981512628,0.09522667004315832,0.0760687490112313,0.03623062192730644,0.050473262107212154,0.11455344112879218,0.07350471538569292,0.05749246881254986,0.05633668747019282,0.017091778777339868,0.0014101955713762195,0.005413652687810499],\"yaxis\":\"y3\",\"type\":\"bar\"},{\"alignmentgroup\":\"True\",\"customdata\":[[9.53758922636237,1.0],[0.0,0.0],[0.0,0.0],[0.0,0.0],[3756.89486105699,1.0],[18161.175205143918,15.0],[44362.01890662709,39.0],[284562.35779404663,244.0],[226109.40532154823,262.0],[121828.70793020912,110.0],[106265.74241342014,84.0],[55260.374604351666,74.0],[33568.989604439295,86.0],[93937.94055531808,92.0],[211545.50632815852,196.0],[216064.17300579994,242.0],[92780.56601212399,167.0],[112819.98273444665,162.0],[33009.04943786905,82.0],[29286.28289693179,57.0],[13649.511615784408,29.0],[8470.163829684483,20.0],[7940.52526841632,12.0],[74.8421472528727,1.0]],\"hovertemplate\":\"source=survey\\u003cbr\\u003edpurp_label=Escort\\u003cbr\\u003edept_hr=%{x}\\u003cbr\\u003epercentage=%{y}\\u003cbr\\u003etrexpfac=%{customdata[0]}\\u003cbr\\u003esample_count=%{customdata[1]}\\u003cextra\\u003e\\u003c\\u002fextra\\u003e\",\"legendgroup\":\"survey\",\"marker\":{\"color\":\"#8CC63E\",\"pattern\":{\"shape\":\"\"}},\"name\":\"survey\",\"offsetgroup\":\"survey\",\"orientation\":\"v\",\"showlegend\":false,\"textposition\":\"auto\",\"x\":[0,1,2,3,4,5,6,7,8,9,10,11,12,13,14,15,16,17,18,19,20,21,22,23],\"xaxis\":\"x2\",\"y\":[5.566262628637805e-06,0.0,0.0,0.0,0.002192573297979904,0.010599100929731665,0.025890258230911598,0.16607433808618519,0.13196042552829412,0.07110083774343799,0.062018086191563813,0.0322506820858382,0.01959130424697346,0.05482341873971585,0.12346074235153401,0.126097895709901,0.054147959720227845,0.06584322712520783,0.019264515794516494,0.017091860233435507,0.007966034665877078,0.0049432991151784275,0.0046341950784766,4.367886238476224e-05],\"yaxis\":\"y2\",\"type\":\"bar\"},{\"alignmentgroup\":\"True\",\"customdata\":[[0.0,0.0],[0.0,0.0],[0.0,0.0],[0.0,0.0],[0.0,0.0],[9297.557542987084,5.0],[8901.958329173101,25.0],[37212.77149656984,73.0],[30372.879373188665,96.0],[70279.21160930606,145.0],[75836.11562483701,173.0],[62784.2279384003,140.0],[87099.31826782957,151.0],[73942.42762992914,171.0],[113061.26862008445,145.0],[63163.19034429718,123.0],[24966.613679897902,111.0],[28974.36171898583,88.0],[23910.72272894777,58.0],[10748.937055733639,26.0],[5646.842906127324,21.0],[1894.4602115019472,7.0],[140.9681993126719,2.0],[218.151276463587,1.0]],\"hovertemplate\":\"source=survey\\u003cbr\\u003edpurp_label=Personal Business\\u003cbr\\u003edept_hr=%{x}\\u003cbr\\u003epercentage=%{y}\\u003cbr\\u003etrexpfac=%{customdata[0]}\\u003cbr\\u003esample_count=%{customdata[1]}\\u003cextra\\u003e\\u003c\\u002fextra\\u003e\",\"legendgroup\":\"survey\",\"marker\":{\"color\":\"#8CC63E\",\"pattern\":{\"shape\":\"\"}},\"name\":\"survey\",\"offsetgroup\":\"survey\",\"orientation\":\"v\",\"showlegend\":false,\"textposition\":\"auto\",\"x\":[0,1,2,3,4,5,6,7,8,9,10,11,12,13,14,15,16,17,18,19,20,21,22,23],\"xaxis\":\"x\",\"y\":[0.0,0.0,0.0,0.0,0.0,0.012763445965055652,0.012220377619849038,0.051084728006301525,0.04169510141674263,0.09647747977840462,0.10410585355370082,0.08618856049500255,0.1195676861546445,0.1015062477662742,0.15520757856040887,0.08670879026159331,0.03427352002506867,0.03977525263623597,0.032824020300529895,0.014755862134579883,0.0077518395527303744,0.0026006658663480127,0.00019351748955569574,0.00029947241697375507],\"yaxis\":\"y\",\"type\":\"bar\"},{\"alignmentgroup\":\"True\",\"customdata\":[[804.680284745979,3.0],[562.3747441545361,2.0],[0.0,0.0],[12541.120743195177,22.0],[53412.45675627712,63.0],[106403.91744037515,137.0],[210508.01729626206,375.0],[363308.5991724092,635.0],[286435.99737778684,621.0],[183302.98131302345,405.0],[106180.05312067762,268.0],[82219.0958748408,235.0],[87388.77158814188,322.0],[76203.60059923679,238.0],[96806.63584919396,196.0],[72354.0876608279,146.0],[36458.000320929146,110.0],[26134.587027886413,112.0],[9622.42790991357,59.0],[13280.302417338822,45.0],[3794.351388658157,34.0],[646.1173732884231,22.0],[10795.506686474104,16.0],[1337.360156468596,10.0]],\"hovertemplate\":\"source=survey (update)\\u003cbr\\u003edpurp_label=Work\\u003cbr\\u003edept_hr=%{x}\\u003cbr\\u003epercentage=%{y}\\u003cbr\\u003etrexpfac=%{customdata[0]}\\u003cbr\\u003esample_count=%{customdata[1]}\\u003cextra\\u003e\\u003c\\u002fextra\\u003e\",\"legendgroup\":\"survey (update)\",\"marker\":{\"color\":\"#00A7A0\",\"pattern\":{\"shape\":\"\"}},\"name\":\"survey (update)\",\"offsetgroup\":\"survey (update)\",\"orientation\":\"v\",\"showlegend\":true,\"textposition\":\"auto\",\"x\":[0,1,2,3,4,5,6,7,8,9,10,11,12,13,14,15,16,17,18,19,20,21,22,23],\"xaxis\":\"x6\",\"y\":[0.0004372071875545998,0.0003055552433736584,0.0,0.006813971005448342,0.029020606620386438,0.057812473314894045,0.11437538603154362,0.19739657335921101,0.15562935889186355,0.09959406543126546,0.05769084104495509,0.04467212674667281,0.04748096824810862,0.041403725841305715,0.05259797934481442,0.039312168787949936,0.019808736570711392,0.014199713238867498,0.005228156727200368,0.007215590812681799,0.002061586111498692,0.0003510551519163569,0.005865525981054932,0.0007266283067215861],\"yaxis\":\"y6\",\"type\":\"bar\"},{\"alignmentgroup\":\"True\",\"customdata\":[[0.0,0.0],[0.0,0.0],[0.0,0.0],[0.0,0.0],[86.688593033636,1.0],[454.39219826369094,4.0],[25738.818694978792,26.0],[202083.50156386622,237.0],[186704.40572451908,266.0],[56855.249368937446,63.0],[9549.5433118102,22.0],[6417.963156613865,16.0],[6418.499390814671,13.0],[16271.837201016171,19.0],[5075.9831418455105,13.0],[3816.10688476565,15.0],[4405.086266508944,9.0],[1012.1140325171591,8.0],[11446.021215011839,3.0],[117.770432262396,1.0],[0.0,0.0],[0.0,0.0],[0.0,0.0],[0.0,0.0]],\"hovertemplate\":\"source=survey (update)\\u003cbr\\u003edpurp_label=School\\u003cbr\\u003edept_hr=%{x}\\u003cbr\\u003epercentage=%{y}\\u003cbr\\u003etrexpfac=%{customdata[0]}\\u003cbr\\u003esample_count=%{customdata[1]}\\u003cextra\\u003e\\u003c\\u002fextra\\u003e\",\"legendgroup\":\"survey (update)\",\"marker\":{\"color\":\"#00A7A0\",\"pattern\":{\"shape\":\"\"}},\"name\":\"survey (update)\",\"offsetgroup\":\"survey (update)\",\"orientation\":\"v\",\"showlegend\":false,\"textposition\":\"auto\",\"x\":[0,1,2,3,4,5,6,7,8,9,10,11,12,13,14,15,16,17,18,19,20,21,22,23],\"xaxis\":\"x5\",\"y\":[0.0,0.0,0.0,0.0,0.0001615955814951283,0.0008470292219044332,0.047979546425432666,0.37670239881634565,0.3480343371018784,0.10598346058355236,0.017801234862424405,0.011963678864933434,0.011964678455242428,0.030332214452621405,0.009462103591273264,0.007113577340585001,0.008211489561221912,0.0018866744735438184,0.021336445653556062,0.0002195350139895594,0.0,0.0,0.0,0.0],\"yaxis\":\"y5\",\"type\":\"bar\"},{\"alignmentgroup\":\"True\",\"customdata\":[[358.7736350081784,3.0],[143.521368637738,1.0],[570.896774611867,1.0],[0.0,0.0],[2395.07790418324,2.0],[1099.1269493912555,8.0],[9682.191616724744,16.0],[30867.07210367278,55.0],[52251.95971763586,96.0],[74744.5281363228,194.0],[140914.81237725346,291.0],[165531.30596257237,335.0],[158567.4885357726,324.0],[148506.4692088266,304.0],[218739.25280935815,345.0],[239020.28780863824,296.0],[200033.0806470187,332.0],[128142.27916296125,305.0],[151266.46572719884,246.0],[69608.41782593235,214.0],[33729.00173269234,85.0],[16880.520789716313,29.0],[16289.143604045355,19.0],[4775.237711364982,7.0]],\"hovertemplate\":\"source=survey (update)\\u003cbr\\u003edpurp_label=Shop\\u003cbr\\u003edept_hr=%{x}\\u003cbr\\u003epercentage=%{y}\\u003cbr\\u003etrexpfac=%{customdata[0]}\\u003cbr\\u003esample_count=%{customdata[1]}\\u003cextra\\u003e\\u003c\\u002fextra\\u003e\",\"legendgroup\":\"survey (update)\",\"marker\":{\"color\":\"#00A7A0\",\"pattern\":{\"shape\":\"\"}},\"name\":\"survey (update)\",\"offsetgroup\":\"survey (update)\",\"orientation\":\"v\",\"showlegend\":false,\"textposition\":\"auto\",\"x\":[0,1,2,3,4,5,6,7,8,9,10,11,12,13,14,15,16,17,18,19,20,21,22,23],\"xaxis\":\"x4\",\"y\":[0.00019246305458500988,7.699161340439807e-05,0.00030625588497333465,0.0,0.001284832452634548,0.0005896233987531509,0.005193983034984554,0.016558549468199322,0.028030409132710776,0.040096480886350455,0.07559333401346931,0.08879877913625482,0.08506305988948337,0.07966585585062275,0.11734202473482228,0.1282217259314221,0.10730715404574598,0.06874154637540851,0.08114644781373566,0.03734122971244306,0.018093823146812557,0.009055505413881667,0.008738262873014569,0.002561662136287929],\"yaxis\":\"y4\",\"type\":\"bar\"},{\"alignmentgroup\":\"True\",\"customdata\":[[632.62215829592,1.0],[0.0,0.0],[0.0,0.0],[0.0,0.0],[23.312448148228,1.0],[4014.9909061810304,5.0],[19388.229589911243,28.0],[17193.66095456018,49.0],[40281.550672032245,70.0],[32319.334424560453,90.0],[22494.997102790257,86.0],[79180.18027602999,200.0],[114995.59534596713,241.0],[36169.07711690028,153.0],[78095.67868397436,120.0],[85847.74714025226,121.0],[70614.77254108731,161.0],[84957.92642486223,207.0],[83071.03998130125,202.0],[60305.82273592012,119.0],[68578.57197356776,83.0],[13629.97008228534,29.0],[4952.542971132462,15.0],[1494.7720542075883,4.0]],\"hovertemplate\":\"source=survey (update)\\u003cbr\\u003edpurp_label=Meal\\u003cbr\\u003edept_hr=%{x}\\u003cbr\\u003epercentage=%{y}\\u003cbr\\u003etrexpfac=%{customdata[0]}\\u003cbr\\u003esample_count=%{customdata[1]}\\u003cextra\\u003e\\u003c\\u002fextra\\u003e\",\"legendgroup\":\"survey (update)\",\"marker\":{\"color\":\"#00A7A0\",\"pattern\":{\"shape\":\"\"}},\"name\":\"survey (update)\",\"offsetgroup\":\"survey (update)\",\"orientation\":\"v\",\"showlegend\":false,\"textposition\":\"auto\",\"x\":[0,1,2,3,4,5,6,7,8,9,10,11,12,13,14,15,16,17,18,19,20,21,22,23],\"xaxis\":\"x3\",\"y\":[0.0006889489761508955,0.0,0.0,0.0,2.5388120021840375e-05,0.00437247389740445,0.021114500575396607,0.01872453399804706,0.04386810156637855,0.03519695298321155,0.024497885537602827,0.086230150836887,0.12523446521202525,0.039389465451437906,0.08504908841015606,0.09349137826037353,0.07690210436883495,0.09252233052344766,0.09046744125604349,0.06567527596846351,0.07468460648667213,0.014843542563308885,0.005393502842986063,0.0016278621651497254],\"yaxis\":\"y3\",\"type\":\"bar\"},{\"alignmentgroup\":\"True\",\"customdata\":[[9.16501889224752,1.0],[0.0,0.0],[0.0,0.0],[0.0,0.0],[4054.1074151579,1.0],[3125.3445629524927,10.0],[33587.47417764466,37.0],[234730.64420605902,227.0],[187868.140302904,234.0],[83194.89099350592,95.0],[19655.609745442103,78.0],[28470.574531523176,63.0],[24735.78263135701,76.0],[93383.30547029288,87.0],[153778.12436165885,175.0],[205282.61662488477,228.0],[91440.7799257265,153.0],[103597.81032057249,140.0],[25422.955729679896,68.0],[39576.82392115468,58.0],[21548.81521353992,29.0],[8339.18214681177,23.0],[11516.748013204216,13.0],[607.5843848720184,3.0]],\"hovertemplate\":\"source=survey (update)\\u003cbr\\u003edpurp_label=Escort\\u003cbr\\u003edept_hr=%{x}\\u003cbr\\u003epercentage=%{y}\\u003cbr\\u003etrexpfac=%{customdata[0]}\\u003cbr\\u003esample_count=%{customdata[1]}\\u003cextra\\u003e\\u003c\\u002fextra\\u003e\",\"legendgroup\":\"survey (update)\",\"marker\":{\"color\":\"#00A7A0\",\"pattern\":{\"shape\":\"\"}},\"name\":\"survey (update)\",\"offsetgroup\":\"survey (update)\",\"orientation\":\"v\",\"showlegend\":false,\"textposition\":\"auto\",\"x\":[0,1,2,3,4,5,6,7,8,9,10,11,12,13,14,15,16,17,18,19,20,21,22,23],\"xaxis\":\"x2\",\"y\":[6.6706763627287795e-06,0.0,0.0,0.0,0.0029507455275550897,0.002274753859929856,0.024446340232871448,0.17084658289552918,0.13673813197356913,0.06055265126835806,0.014306158324981772,0.02072205096286129,0.018003716353728823,0.06796819687966883,0.11192602124931662,0.1494131015438555,0.06655434717717704,0.07540273213407783,0.018503869097326875,0.028805634439667174,0.015684110854519002,0.0060695985338646225,0.008382361198640746,0.0004422248161383734],\"yaxis\":\"y2\",\"type\":\"bar\"},{\"alignmentgroup\":\"True\",\"customdata\":[[0.0,0.0],[0.0,0.0],[0.0,0.0],[0.0,0.0],[0.0,0.0],[2941.709816663014,5.0],[6787.840124287102,24.0],[44644.19766696867,76.0],[31765.464901663883,110.0],[74424.13423794335,155.0],[66592.76735213719,183.0],[55823.587746709716,148.0],[71755.10161401254,147.0],[75768.19484864996,170.0],[130627.28838497949,161.0],[63498.44906164756,136.0],[40413.19147329938,122.0],[68848.9674905658,83.0],[9367.28638823272,51.0],[13896.771678979156,22.0],[1354.5155151784093,8.0],[5413.7580029584815,5.0],[197.424677262663,1.0],[0.0,0.0]],\"hovertemplate\":\"source=survey (update)\\u003cbr\\u003edpurp_label=Personal Business\\u003cbr\\u003edept_hr=%{x}\\u003cbr\\u003epercentage=%{y}\\u003cbr\\u003etrexpfac=%{customdata[0]}\\u003cbr\\u003esample_count=%{customdata[1]}\\u003cextra\\u003e\\u003c\\u002fextra\\u003e\",\"legendgroup\":\"survey (update)\",\"marker\":{\"color\":\"#00A7A0\",\"pattern\":{\"shape\":\"\"}},\"name\":\"survey (update)\",\"offsetgroup\":\"survey (update)\",\"orientation\":\"v\",\"showlegend\":false,\"textposition\":\"auto\",\"x\":[0,1,2,3,4,5,6,7,8,9,10,11,12,13,14,15,16,17,18,19,20,21,22,23],\"xaxis\":\"x\",\"y\":[0.0,0.0,0.0,0.0,0.0,0.0038497975586472854,0.008883204655655568,0.05842558712369128,0.041571268700610446,0.09739840710008892,0.08714954538467742,0.0730559862175673,0.09390546050781944,0.09915737096133133,0.17095112953311978,0.08310003005419597,0.05288849531988897,0.09010222064025214,0.012258910129169739,0.018186619692999218,0.0017726461304735373,0.007084951827960771,0.0002583684618507682,0.0],\"yaxis\":\"y\",\"type\":\"bar\"}],                        {\"template\":{\"data\":{\"barpolar\":[{\"marker\":{\"line\":{\"color\":\"white\",\"width\":0.5},\"pattern\":{\"fillmode\":\"overlay\",\"size\":10,\"solidity\":0.2}},\"type\":\"barpolar\"}],\"bar\":[{\"error_x\":{\"color\":\"rgb(36,36,36)\"},\"error_y\":{\"color\":\"rgb(36,36,36)\"},\"marker\":{\"line\":{\"color\":\"white\",\"width\":0.5},\"pattern\":{\"fillmode\":\"overlay\",\"size\":10,\"solidity\":0.2}},\"type\":\"bar\"}],\"carpet\":[{\"aaxis\":{\"endlinecolor\":\"rgb(36,36,36)\",\"gridcolor\":\"white\",\"linecolor\":\"white\",\"minorgridcolor\":\"white\",\"startlinecolor\":\"rgb(36,36,36)\"},\"baxis\":{\"endlinecolor\":\"rgb(36,36,36)\",\"gridcolor\":\"white\",\"linecolor\":\"white\",\"minorgridcolor\":\"white\",\"startlinecolor\":\"rgb(36,36,36)\"},\"type\":\"carpet\"}],\"choropleth\":[{\"colorbar\":{\"outlinewidth\":1,\"tickcolor\":\"rgb(36,36,36)\",\"ticks\":\"outside\"},\"type\":\"choropleth\"}],\"contourcarpet\":[{\"colorbar\":{\"outlinewidth\":1,\"tickcolor\":\"rgb(36,36,36)\",\"ticks\":\"outside\"},\"type\":\"contourcarpet\"}],\"contour\":[{\"colorbar\":{\"outlinewidth\":1,\"tickcolor\":\"rgb(36,36,36)\",\"ticks\":\"outside\"},\"colorscale\":[[0.0,\"#440154\"],[0.1111111111111111,\"#482878\"],[0.2222222222222222,\"#3e4989\"],[0.3333333333333333,\"#31688e\"],[0.4444444444444444,\"#26828e\"],[0.5555555555555556,\"#1f9e89\"],[0.6666666666666666,\"#35b779\"],[0.7777777777777778,\"#6ece58\"],[0.8888888888888888,\"#b5de2b\"],[1.0,\"#fde725\"]],\"type\":\"contour\"}],\"heatmapgl\":[{\"colorbar\":{\"outlinewidth\":1,\"tickcolor\":\"rgb(36,36,36)\",\"ticks\":\"outside\"},\"colorscale\":[[0.0,\"#440154\"],[0.1111111111111111,\"#482878\"],[0.2222222222222222,\"#3e4989\"],[0.3333333333333333,\"#31688e\"],[0.4444444444444444,\"#26828e\"],[0.5555555555555556,\"#1f9e89\"],[0.6666666666666666,\"#35b779\"],[0.7777777777777778,\"#6ece58\"],[0.8888888888888888,\"#b5de2b\"],[1.0,\"#fde725\"]],\"type\":\"heatmapgl\"}],\"heatmap\":[{\"colorbar\":{\"outlinewidth\":1,\"tickcolor\":\"rgb(36,36,36)\",\"ticks\":\"outside\"},\"colorscale\":[[0.0,\"#440154\"],[0.1111111111111111,\"#482878\"],[0.2222222222222222,\"#3e4989\"],[0.3333333333333333,\"#31688e\"],[0.4444444444444444,\"#26828e\"],[0.5555555555555556,\"#1f9e89\"],[0.6666666666666666,\"#35b779\"],[0.7777777777777778,\"#6ece58\"],[0.8888888888888888,\"#b5de2b\"],[1.0,\"#fde725\"]],\"type\":\"heatmap\"}],\"histogram2dcontour\":[{\"colorbar\":{\"outlinewidth\":1,\"tickcolor\":\"rgb(36,36,36)\",\"ticks\":\"outside\"},\"colorscale\":[[0.0,\"#440154\"],[0.1111111111111111,\"#482878\"],[0.2222222222222222,\"#3e4989\"],[0.3333333333333333,\"#31688e\"],[0.4444444444444444,\"#26828e\"],[0.5555555555555556,\"#1f9e89\"],[0.6666666666666666,\"#35b779\"],[0.7777777777777778,\"#6ece58\"],[0.8888888888888888,\"#b5de2b\"],[1.0,\"#fde725\"]],\"type\":\"histogram2dcontour\"}],\"histogram2d\":[{\"colorbar\":{\"outlinewidth\":1,\"tickcolor\":\"rgb(36,36,36)\",\"ticks\":\"outside\"},\"colorscale\":[[0.0,\"#440154\"],[0.1111111111111111,\"#482878\"],[0.2222222222222222,\"#3e4989\"],[0.3333333333333333,\"#31688e\"],[0.4444444444444444,\"#26828e\"],[0.5555555555555556,\"#1f9e89\"],[0.6666666666666666,\"#35b779\"],[0.7777777777777778,\"#6ece58\"],[0.8888888888888888,\"#b5de2b\"],[1.0,\"#fde725\"]],\"type\":\"histogram2d\"}],\"histogram\":[{\"marker\":{\"line\":{\"color\":\"white\",\"width\":0.6}},\"type\":\"histogram\"}],\"mesh3d\":[{\"colorbar\":{\"outlinewidth\":1,\"tickcolor\":\"rgb(36,36,36)\",\"ticks\":\"outside\"},\"type\":\"mesh3d\"}],\"parcoords\":[{\"line\":{\"colorbar\":{\"outlinewidth\":1,\"tickcolor\":\"rgb(36,36,36)\",\"ticks\":\"outside\"}},\"type\":\"parcoords\"}],\"pie\":[{\"automargin\":true,\"type\":\"pie\"}],\"scatter3d\":[{\"line\":{\"colorbar\":{\"outlinewidth\":1,\"tickcolor\":\"rgb(36,36,36)\",\"ticks\":\"outside\"}},\"marker\":{\"colorbar\":{\"outlinewidth\":1,\"tickcolor\":\"rgb(36,36,36)\",\"ticks\":\"outside\"}},\"type\":\"scatter3d\"}],\"scattercarpet\":[{\"marker\":{\"colorbar\":{\"outlinewidth\":1,\"tickcolor\":\"rgb(36,36,36)\",\"ticks\":\"outside\"}},\"type\":\"scattercarpet\"}],\"scattergeo\":[{\"marker\":{\"colorbar\":{\"outlinewidth\":1,\"tickcolor\":\"rgb(36,36,36)\",\"ticks\":\"outside\"}},\"type\":\"scattergeo\"}],\"scattergl\":[{\"marker\":{\"colorbar\":{\"outlinewidth\":1,\"tickcolor\":\"rgb(36,36,36)\",\"ticks\":\"outside\"}},\"type\":\"scattergl\"}],\"scattermapbox\":[{\"marker\":{\"colorbar\":{\"outlinewidth\":1,\"tickcolor\":\"rgb(36,36,36)\",\"ticks\":\"outside\"}},\"type\":\"scattermapbox\"}],\"scatterpolargl\":[{\"marker\":{\"colorbar\":{\"outlinewidth\":1,\"tickcolor\":\"rgb(36,36,36)\",\"ticks\":\"outside\"}},\"type\":\"scatterpolargl\"}],\"scatterpolar\":[{\"marker\":{\"colorbar\":{\"outlinewidth\":1,\"tickcolor\":\"rgb(36,36,36)\",\"ticks\":\"outside\"}},\"type\":\"scatterpolar\"}],\"scatter\":[{\"fillpattern\":{\"fillmode\":\"overlay\",\"size\":10,\"solidity\":0.2},\"type\":\"scatter\"}],\"scatterternary\":[{\"marker\":{\"colorbar\":{\"outlinewidth\":1,\"tickcolor\":\"rgb(36,36,36)\",\"ticks\":\"outside\"}},\"type\":\"scatterternary\"}],\"surface\":[{\"colorbar\":{\"outlinewidth\":1,\"tickcolor\":\"rgb(36,36,36)\",\"ticks\":\"outside\"},\"colorscale\":[[0.0,\"#440154\"],[0.1111111111111111,\"#482878\"],[0.2222222222222222,\"#3e4989\"],[0.3333333333333333,\"#31688e\"],[0.4444444444444444,\"#26828e\"],[0.5555555555555556,\"#1f9e89\"],[0.6666666666666666,\"#35b779\"],[0.7777777777777778,\"#6ece58\"],[0.8888888888888888,\"#b5de2b\"],[1.0,\"#fde725\"]],\"type\":\"surface\"}],\"table\":[{\"cells\":{\"fill\":{\"color\":\"rgb(237,237,237)\"},\"line\":{\"color\":\"white\"}},\"header\":{\"fill\":{\"color\":\"rgb(217,217,217)\"},\"line\":{\"color\":\"white\"}},\"type\":\"table\"}]},\"layout\":{\"annotationdefaults\":{\"arrowhead\":0,\"arrowwidth\":1},\"autotypenumbers\":\"strict\",\"coloraxis\":{\"colorbar\":{\"outlinewidth\":1,\"tickcolor\":\"rgb(36,36,36)\",\"ticks\":\"outside\"}},\"colorscale\":{\"diverging\":[[0.0,\"rgb(103,0,31)\"],[0.1,\"rgb(178,24,43)\"],[0.2,\"rgb(214,96,77)\"],[0.3,\"rgb(244,165,130)\"],[0.4,\"rgb(253,219,199)\"],[0.5,\"rgb(247,247,247)\"],[0.6,\"rgb(209,229,240)\"],[0.7,\"rgb(146,197,222)\"],[0.8,\"rgb(67,147,195)\"],[0.9,\"rgb(33,102,172)\"],[1.0,\"rgb(5,48,97)\"]],\"sequential\":[[0.0,\"#440154\"],[0.1111111111111111,\"#482878\"],[0.2222222222222222,\"#3e4989\"],[0.3333333333333333,\"#31688e\"],[0.4444444444444444,\"#26828e\"],[0.5555555555555556,\"#1f9e89\"],[0.6666666666666666,\"#35b779\"],[0.7777777777777778,\"#6ece58\"],[0.8888888888888888,\"#b5de2b\"],[1.0,\"#fde725\"]],\"sequentialminus\":[[0.0,\"#440154\"],[0.1111111111111111,\"#482878\"],[0.2222222222222222,\"#3e4989\"],[0.3333333333333333,\"#31688e\"],[0.4444444444444444,\"#26828e\"],[0.5555555555555556,\"#1f9e89\"],[0.6666666666666666,\"#35b779\"],[0.7777777777777778,\"#6ece58\"],[0.8888888888888888,\"#b5de2b\"],[1.0,\"#fde725\"]]},\"colorway\":[\"#91268F\",\"#8CC63E\",\"#00A7A0\",\"#F05A28\",\"#4C4C4C\",\"#630460\",\"#9f3913\",\"#588527\",\"#00716c\",\"#3e4040\"],\"font\":{\"color\":\"rgb(36,36,36)\",\"family\":\"Poppins\",\"size\":11},\"geo\":{\"bgcolor\":\"white\",\"lakecolor\":\"white\",\"landcolor\":\"white\",\"showlakes\":true,\"showland\":true,\"subunitcolor\":\"white\"},\"hoverlabel\":{\"align\":\"left\"},\"hovermode\":\"closest\",\"mapbox\":{\"style\":\"light\"},\"paper_bgcolor\":\"white\",\"plot_bgcolor\":\"white\",\"polar\":{\"angularaxis\":{\"gridcolor\":\"rgb(232,232,232)\",\"linecolor\":\"rgb(36,36,36)\",\"showgrid\":false,\"showline\":true,\"ticks\":\"outside\"},\"bgcolor\":\"white\",\"radialaxis\":{\"gridcolor\":\"rgb(232,232,232)\",\"linecolor\":\"rgb(36,36,36)\",\"showgrid\":false,\"showline\":true,\"ticks\":\"outside\"}},\"scene\":{\"xaxis\":{\"backgroundcolor\":\"white\",\"gridcolor\":\"rgb(232,232,232)\",\"gridwidth\":2,\"linecolor\":\"rgb(36,36,36)\",\"showbackground\":true,\"showgrid\":false,\"showline\":true,\"ticks\":\"outside\",\"zeroline\":false,\"zerolinecolor\":\"rgb(36,36,36)\"},\"yaxis\":{\"backgroundcolor\":\"white\",\"gridcolor\":\"rgb(232,232,232)\",\"gridwidth\":2,\"linecolor\":\"rgb(36,36,36)\",\"showbackground\":true,\"showgrid\":false,\"showline\":true,\"ticks\":\"outside\",\"zeroline\":false,\"zerolinecolor\":\"rgb(36,36,36)\"},\"zaxis\":{\"backgroundcolor\":\"white\",\"gridcolor\":\"rgb(232,232,232)\",\"gridwidth\":2,\"linecolor\":\"rgb(36,36,36)\",\"showbackground\":true,\"showgrid\":false,\"showline\":true,\"ticks\":\"outside\",\"zeroline\":false,\"zerolinecolor\":\"rgb(36,36,36)\"}},\"shapedefaults\":{\"fillcolor\":\"black\",\"line\":{\"width\":0},\"opacity\":0.3},\"ternary\":{\"aaxis\":{\"gridcolor\":\"rgb(232,232,232)\",\"linecolor\":\"rgb(36,36,36)\",\"showgrid\":false,\"showline\":true,\"ticks\":\"outside\"},\"baxis\":{\"gridcolor\":\"rgb(232,232,232)\",\"linecolor\":\"rgb(36,36,36)\",\"showgrid\":false,\"showline\":true,\"ticks\":\"outside\"},\"bgcolor\":\"white\",\"caxis\":{\"gridcolor\":\"rgb(232,232,232)\",\"linecolor\":\"rgb(36,36,36)\",\"showgrid\":false,\"showline\":true,\"ticks\":\"outside\"}},\"title\":{\"x\":0.05},\"xaxis\":{\"automargin\":true,\"gridcolor\":\"rgb(232,232,232)\",\"linecolor\":\"rgb(36,36,36)\",\"showgrid\":false,\"showline\":true,\"ticks\":\"outside\",\"title\":{\"standoff\":15},\"zeroline\":false,\"zerolinecolor\":\"rgb(36,36,36)\"},\"yaxis\":{\"automargin\":true,\"gridcolor\":\"rgb(232,232,232)\",\"linecolor\":\"rgb(36,36,36)\",\"showgrid\":false,\"showline\":true,\"ticks\":\"outside\",\"title\":{\"standoff\":15},\"zeroline\":false,\"zerolinecolor\":\"rgb(36,36,36)\"}}},\"xaxis\":{\"anchor\":\"y\",\"domain\":[0.0,0.98],\"title\":{\"text\":\"dept_hr\"},\"dtick\":1,\"categoryorder\":\"category ascending\"},\"yaxis\":{\"anchor\":\"x\",\"domain\":[0.0,0.14166666666666666],\"title\":{\"text\":\"percentage\"},\"tickformat\":\".0%\"},\"xaxis2\":{\"anchor\":\"y2\",\"domain\":[0.0,0.98],\"matches\":\"x\",\"showticklabels\":false,\"dtick\":1,\"categoryorder\":\"category ascending\"},\"yaxis2\":{\"anchor\":\"x2\",\"domain\":[0.17166666666666666,0.31333333333333335],\"matches\":\"y\",\"title\":{\"text\":\"percentage\"},\"tickformat\":\".0%\"},\"xaxis3\":{\"anchor\":\"y3\",\"domain\":[0.0,0.98],\"matches\":\"x\",\"showticklabels\":false,\"dtick\":1,\"categoryorder\":\"category ascending\"},\"yaxis3\":{\"anchor\":\"x3\",\"domain\":[0.3433333333333333,0.485],\"matches\":\"y\",\"title\":{\"text\":\"percentage\"},\"tickformat\":\".0%\"},\"xaxis4\":{\"anchor\":\"y4\",\"domain\":[0.0,0.98],\"matches\":\"x\",\"showticklabels\":false,\"dtick\":1,\"categoryorder\":\"category ascending\"},\"yaxis4\":{\"anchor\":\"x4\",\"domain\":[0.515,0.6566666666666667],\"matches\":\"y\",\"title\":{\"text\":\"percentage\"},\"tickformat\":\".0%\"},\"xaxis5\":{\"anchor\":\"y5\",\"domain\":[0.0,0.98],\"matches\":\"x\",\"showticklabels\":false,\"dtick\":1,\"categoryorder\":\"category ascending\"},\"yaxis5\":{\"anchor\":\"x5\",\"domain\":[0.6866666666666666,0.8283333333333334],\"matches\":\"y\",\"title\":{\"text\":\"percentage\"},\"tickformat\":\".0%\"},\"xaxis6\":{\"anchor\":\"y6\",\"domain\":[0.0,0.98],\"matches\":\"x\",\"showticklabels\":false,\"dtick\":1,\"categoryorder\":\"category ascending\"},\"yaxis6\":{\"anchor\":\"x6\",\"domain\":[0.8583333333333333,1.0],\"matches\":\"y\",\"title\":{\"text\":\"percentage\"},\"tickformat\":\".0%\"},\"annotations\":[{\"font\":{},\"showarrow\":false,\"text\":\"Personal Business\",\"textangle\":90,\"x\":0.98,\"xanchor\":\"left\",\"xref\":\"paper\",\"y\":0.07083333333333333,\"yanchor\":\"middle\",\"yref\":\"paper\"},{\"font\":{},\"showarrow\":false,\"text\":\"Escort\",\"textangle\":90,\"x\":0.98,\"xanchor\":\"left\",\"xref\":\"paper\",\"y\":0.2425,\"yanchor\":\"middle\",\"yref\":\"paper\"},{\"font\":{},\"showarrow\":false,\"text\":\"Meal\",\"textangle\":90,\"x\":0.98,\"xanchor\":\"left\",\"xref\":\"paper\",\"y\":0.4141666666666667,\"yanchor\":\"middle\",\"yref\":\"paper\"},{\"font\":{},\"showarrow\":false,\"text\":\"Shop\",\"textangle\":90,\"x\":0.98,\"xanchor\":\"left\",\"xref\":\"paper\",\"y\":0.5858333333333334,\"yanchor\":\"middle\",\"yref\":\"paper\"},{\"font\":{},\"showarrow\":false,\"text\":\"School\",\"textangle\":90,\"x\":0.98,\"xanchor\":\"left\",\"xref\":\"paper\",\"y\":0.7575000000000001,\"yanchor\":\"middle\",\"yref\":\"paper\"},{\"font\":{},\"showarrow\":false,\"text\":\"Work\",\"textangle\":90,\"x\":0.98,\"xanchor\":\"left\",\"xref\":\"paper\",\"y\":0.9291666666666667,\"yanchor\":\"middle\",\"yref\":\"paper\"}],\"legend\":{\"title\":{\"text\":\"source\"},\"tracegroupgap\":0},\"title\":{\"text\":\"trip origin departure hour by purpose\"},\"barmode\":\"group\",\"height\":1500,\"width\":850},                        {\"responsive\": true}                    ).then(function(){\n",
       "                            \n",
       "var gd = document.getElementById('4332f58b-cfac-43a7-8449-1d601101287d');\n",
       "var x = new MutationObserver(function (mutations, observer) {{\n",
       "        var display = window.getComputedStyle(gd).display;\n",
       "        if (!display || display === 'none') {{\n",
       "            console.log([gd, 'removed!']);\n",
       "            Plotly.purge(gd);\n",
       "            observer.disconnect();\n",
       "        }}\n",
       "}});\n",
       "\n",
       "// Listen for the removal of the full notebook cells\n",
       "var notebookContainer = gd.closest('#notebook-container');\n",
       "if (notebookContainer) {{\n",
       "    x.observe(notebookContainer, {childList: true});\n",
       "}}\n",
       "\n",
       "// Listen for the clearing of the current output cell\n",
       "var outputEl = gd.closest('.output');\n",
       "if (outputEl) {{\n",
       "    x.observe(outputEl, {childList: true});\n",
       "}}\n",
       "\n",
       "                        })                };                });            </script>        </div>"
      ]
     },
     "metadata": {},
     "output_type": "display_data"
    }
   ],
   "source": [
    "df_plot = df_trip.groupby(['dept_hr','dpurp_label','source'])['trexpfac'].agg(sample_count='size', trexpfac='sum').reset_index()\n",
    "df_plot['percentage'] = df_plot.groupby(['dpurp_label','source'], group_keys=False)['trexpfac']. \\\n",
    "    apply(lambda x: x / float(x.sum()))\n",
    "\n",
    "fig = px.bar(df_plot.sort_values(['source','dpurp_label']),\n",
    "             x=\"dept_hr\", y=\"percentage\", color=\"source\",barmode=\"group\",\n",
    "             facet_row='dpurp_label',\n",
    "             hover_data=['trexpfac','sample_count'],\n",
    "             title=\"trip origin departure hour by purpose\")\n",
    "fig.update_layout(height=1500, width=850)\n",
    "fig.for_each_annotation(lambda a: a.update(text = a.text.split(\"=\")[-1]))\n",
    "fig.for_each_xaxis(lambda a: a.update(dict(dtick = 1, categoryorder='category ascending')))\n",
    "fig.for_each_yaxis(lambda a: a.update(dict(tickformat=\".0%\")))\n",
    "fig.show()"
   ]
  },
  {
   "cell_type": "raw",
   "metadata": {
    "vscode": {
     "languageId": "raw"
    }
   },
   "source": [
    ":::"
   ]
  }
 ],
 "metadata": {
  "kernelspec": {
   "display_name": "build_notebook",
   "language": "python",
   "name": "python3"
  },
  "language_info": {
   "codemirror_mode": {
    "name": "ipython",
    "version": 3
   },
   "file_extension": ".py",
   "mimetype": "text/x-python",
   "name": "python",
   "nbconvert_exporter": "python",
   "pygments_lexer": "ipython3",
   "version": "3.10.15"
  }
 },
 "nbformat": 4,
 "nbformat_minor": 2
}
