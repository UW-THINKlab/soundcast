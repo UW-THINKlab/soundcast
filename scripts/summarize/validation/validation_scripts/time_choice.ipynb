{
 "cells": [
  {
   "cell_type": "raw",
   "metadata": {},
   "source": [
    "---\n",
    "title: \"Time Choice\"\n",
    "date: today\n",
    "---"
   ]
  },
  {
   "cell_type": "code",
   "execution_count": 1,
   "metadata": {
    "ExecuteTime": {
     "end_time": "2024-07-15T04:25:53.491736Z",
     "start_time": "2024-07-15T04:25:52.116355Z"
    },
    "execution": {
     "iopub.execute_input": "2024-07-15T04:41:23.707209Z",
     "iopub.status.busy": "2024-07-15T04:41:23.707209Z",
     "iopub.status.idle": "2024-07-15T04:41:25.629549Z",
     "shell.execute_reply": "2024-07-15T04:41:25.628550Z"
    }
   },
   "outputs": [],
   "source": [
    "import os\n",
    "import pandas as pd\n",
    "import numpy as np\n",
    "import validation_data_input\n",
    "import plotly.express as px\n",
    "import toml\n",
    "import math\n",
    "import psrc_theme\n",
    "\n",
    "# to show plotly figures in quarto HTML file\n",
    "import plotly.io as pio\n",
    "pio.renderers.default = \"plotly_mimetype+notebook_connected\"\n",
    "pio.templates.default = \"simple_white+psrc_color\" # set plotly template\n",
    "\n",
    "config = toml.load(os.path.join(os.getcwd(), '..\\\\..\\\\..\\\\..\\\\configuration', 'validation_configuration.toml'))"
   ]
  },
  {
   "cell_type": "code",
   "execution_count": 2,
   "metadata": {
    "ExecuteTime": {
     "end_time": "2024-07-15T04:26:18.475538Z",
     "start_time": "2024-07-15T04:25:57.037934Z"
    },
    "execution": {
     "iopub.execute_input": "2024-07-15T04:41:25.637527Z",
     "iopub.status.busy": "2024-07-15T04:41:25.636529Z",
     "iopub.status.idle": "2024-07-15T04:41:46.722641Z",
     "shell.execute_reply": "2024-07-15T04:41:46.722641Z"
    }
   },
   "outputs": [],
   "source": [
    "tour = validation_data_input.get_data('tour')\n",
    "# person = validation_data_input.get_data('person')"
   ]
  },
  {
   "cell_type": "code",
   "execution_count": 3,
   "metadata": {
    "ExecuteTime": {
     "end_time": "2024-07-15T04:36:01.318077Z",
     "start_time": "2024-07-15T04:35:58.005548Z"
    },
    "collapsed": false,
    "execution": {
     "iopub.execute_input": "2024-07-15T04:41:46.738262Z",
     "iopub.status.busy": "2024-07-15T04:41:46.722641Z",
     "iopub.status.idle": "2024-07-15T04:41:53.316566Z",
     "shell.execute_reply": "2024-07-15T04:41:53.316566Z"
    }
   },
   "outputs": [],
   "source": [
    "# df_person = person.copy()\n",
    "df_tour = tour.copy()\n",
    "\n",
    "# ptype_cat = {1: \"1: full time worker\",\n",
    "#              2: \"2: part time worker\",\n",
    "#              3: \"3: non-worker age 65+\",\n",
    "#              4: \"4: other non-working adult\",\n",
    "#              5: \"5: university student\",\n",
    "#              6: \"6: grade school student/child age 16+\",\n",
    "#              7: \"7: child age 5-15\",\n",
    "#              8: \"8: child age 0-4\"}\n",
    "pdpurp_cat = {1: \"Work\",\n",
    "              2: \"School\",\n",
    "              3: \"Escort\",\n",
    "              4: \"Personal Business\",\n",
    "              5: \"Shop\",\n",
    "              6: \"Meal\",\n",
    "              7: \"Social\",\n",
    "              8: \"Social\",\n",
    "              9: \"Personal Business\"}\n",
    "# df_person['pptyp_label'] = df_person['pptyp'].map(ptype_cat)\n",
    "# df_person['pptyp_label'] = df_person['pptyp_label'].astype(pd.CategoricalDtype([\"1: full time worker\",\"2: part time worker\",\"3: non-worker age 65+\",\"4: other non-working adult\",\"5: university student\",\"6: grade school student/child age 16+\",\"7: child age 5-15\",\"8: child age 0-4\"]))\n",
    "\n",
    "df_tour['pdpurp_label'] = df_tour['pdpurp'].map(pdpurp_cat)\n",
    "df_tour['pdpurp_label'] = df_tour['pdpurp_label'].astype(pd.CategoricalDtype([\"Work\",\"School\",\"Shop\",\"Meal\",\"Escort\",\"Personal Business\"]))\n",
    "\n",
    "df_tour['tlvorg_hr'] = df_tour['tlvorig'].apply(lambda row: int(math.floor(row/60)))\n",
    "\n",
    "# df_tour = df_tour.merge(df_person, how='left', on=['pno','hhno','source'])"
   ]
  },
  {
   "cell_type": "code",
   "execution_count": 4,
   "metadata": {
    "ExecuteTime": {
     "end_time": "2024-07-15T04:37:09.021826Z",
     "start_time": "2024-07-15T04:37:08.286683Z"
    },
    "collapsed": false,
    "execution": {
     "iopub.execute_input": "2024-07-15T04:41:53.332192Z",
     "iopub.status.busy": "2024-07-15T04:41:53.332192Z",
     "iopub.status.idle": "2024-07-15T04:41:54.503949Z",
     "shell.execute_reply": "2024-07-15T04:41:54.503949Z"
    }
   },
   "outputs": [
    {
     "data": {
      "text/html": [
       "        <script type=\"text/javascript\">\n",
       "        window.PlotlyConfig = {MathJaxConfig: 'local'};\n",
       "        if (window.MathJax && window.MathJax.Hub && window.MathJax.Hub.Config) {window.MathJax.Hub.Config({SVG: {font: \"STIX-Web\"}});}\n",
       "        if (typeof require !== 'undefined') {\n",
       "        require.undef(\"plotly\");\n",
       "        requirejs.config({\n",
       "            paths: {\n",
       "                'plotly': ['https://cdn.plot.ly/plotly-2.12.1.min']\n",
       "            }\n",
       "        });\n",
       "        require(['plotly'], function(Plotly) {\n",
       "            window._Plotly = Plotly;\n",
       "        });\n",
       "        }\n",
       "        </script>\n",
       "        "
      ]
     },
     "metadata": {},
     "output_type": "display_data"
    },
    {
     "data": {
      "application/vnd.plotly.v1+json": {
       "config": {
        "plotlyServerURL": "https://plot.ly"
       },
       "data": [
        {
         "alignmentgroup": "True",
         "customdata": [
          [
           3978.0
          ],
          [
           2669.0
          ],
          [
           1119.0
          ],
          [
           68989.0
          ],
          [
           56050.0
          ],
          [
           132754.0
          ],
          [
           389626.0
          ],
          [
           671154.0
          ],
          [
           746507.0
          ],
          [
           576642.0
          ],
          [
           472163.0
          ],
          [
           398464.0
          ],
          [
           374567.0
          ],
          [
           356091.0
          ],
          [
           328562.0
          ],
          [
           308643.0
          ],
          [
           344936.0
          ],
          [
           342959.0
          ],
          [
           327172.0
          ],
          [
           205044.0
          ],
          [
           154656.0
          ],
          [
           94303.0
          ],
          [
           22805.0
          ],
          [
           10580.0
          ]
         ],
         "hovertemplate": "source=model<br>tlvorg_hr=%{x}<br>percentage=%{y}<br>toexpfac=%{customdata[0]}<extra></extra>",
         "legendgroup": "model",
         "marker": {
          "color": "#91268F",
          "pattern": {
           "shape": ""
          }
         },
         "name": "model",
         "offsetgroup": "model",
         "orientation": "v",
         "showlegend": true,
         "textposition": "auto",
         "type": "bar",
         "x": [
          0,
          1,
          2,
          3,
          4,
          5,
          6,
          7,
          8,
          9,
          10,
          11,
          12,
          13,
          14,
          15,
          16,
          17,
          18,
          19,
          20,
          21,
          22,
          23
         ],
         "xaxis": "x",
         "y": [
          6.224930298150376E-4,
          4.1765557983316625E-4,
          1.7510550537029338E-4,
          0.01079566908846396,
          0.0087709236604155,
          0.02077386618402853,
          0.06097020342752987,
          0.10502480817809998,
          0.11681634092713279,
          0.09023520002478705,
          0.07388591665071835,
          0.062353208303725274,
          0.05861371209118381,
          0.05572251520358636,
          0.05141466939720673,
          0.048297666214480305,
          0.05397693708704872,
          0.0536675683791693,
          0.051197156749785186,
          0.032086088689138904,
          0.024201176978148428,
          0.014756903014240192,
          0.0035686157729843972,
          0.0016555998631078677
         ],
         "yaxis": "y"
        },
        {
         "alignmentgroup": "True",
         "customdata": [
          [
           520.3702253200515
          ],
          [
           587.7833791151987
          ],
          [
           322.70012578798855
          ],
          [
           12143.289638479979
          ],
          [
           82941.44408576241
          ],
          [
           144711.841502434
          ],
          [
           343063.24008042074
          ],
          [
           717987.7586524469
          ],
          [
           709289.0116873989
          ],
          [
           392695.2381930688
          ],
          [
           333119.4452993872
          ],
          [
           248148.3519912733
          ],
          [
           267584.47124603053
          ],
          [
           235545.05783963023
          ],
          [
           370969.14937750506
          ],
          [
           258846.55020107926
          ],
          [
           217582.54793087044
          ],
          [
           337519.5681988176
          ],
          [
           213751.30914249594
          ],
          [
           135516.39295514356
          ],
          [
           31678.915869293007
          ],
          [
           20304.2009160043
          ],
          [
           18292.57371758086
          ],
          [
           2205.7586376022605
          ]
         ],
         "hovertemplate": "source=survey<br>tlvorg_hr=%{x}<br>percentage=%{y}<br>toexpfac=%{customdata[0]}<extra></extra>",
         "legendgroup": "survey",
         "marker": {
          "color": "#8CC63E",
          "pattern": {
           "shape": ""
          }
         },
         "name": "survey",
         "offsetgroup": "survey",
         "orientation": "v",
         "showlegend": true,
         "textposition": "auto",
         "type": "bar",
         "x": [
          0,
          1,
          2,
          3,
          4,
          5,
          6,
          7,
          8,
          9,
          10,
          11,
          12,
          13,
          14,
          15,
          16,
          17,
          18,
          19,
          20,
          21,
          22,
          23
         ],
         "xaxis": "x",
         "y": [
          1.0212695442170171E-4,
          1.1535734261469596E-4,
          6.33325648444963E-5,
          0.0023832208821629136,
          0.016277943409631093,
          0.028400894060204632,
          0.06732899420197551,
          0.14091102744808165,
          0.13920382651382568,
          0.07706968373891217,
          0.06537744235106634,
          0.04870116351881255,
          0.05251566244415847,
          0.04622766295179509,
          0.07280575937455361,
          0.05080077327318541,
          0.0427023720310415,
          0.06624100281039821,
          0.0419504597768799,
          0.02659621133820869,
          0.006217248873381196,
          0.003984867120793628,
          0.0035900686692094887,
          4.328983498414636E-4
         ],
         "yaxis": "y"
        },
        {
         "alignmentgroup": "True",
         "customdata": [
          [
           818.5256193266233
          ],
          [
           72.74800084760997
          ],
          [
           13907.131040594093
          ],
          [
           60835.642021048836
          ],
          [
           210793.99623853824
          ],
          [
           463781.35173573333
          ],
          [
           728580.9263172238
          ],
          [
           686425.8292300178
          ],
          [
           515595.7618101818
          ],
          [
           378753.0073236862
          ],
          [
           378741.1542697421
          ],
          [
           278401.2763422066
          ],
          [
           194406.7394197493
          ],
          [
           230822.26930435168
          ],
          [
           277120.1887803302
          ],
          [
           235919.8171498615
          ],
          [
           410021.96131048887
          ],
          [
           247964.64092777378
          ],
          [
           148297.12773754023
          ],
          [
           58633.34622816313
          ],
          [
           32946.76056178034
          ],
          [
           9024.613185245682
          ],
          [
           3629.930451363426
          ]
         ],
         "hovertemplate": "source=survey (2017/2019)<br>tlvorg_hr=%{x}<br>percentage=%{y}<br>toexpfac=%{customdata[0]}<extra></extra>",
         "legendgroup": "survey (2017/2019)",
         "marker": {
          "color": "#00A7A0",
          "pattern": {
           "shape": ""
          }
         },
         "name": "survey (2017/2019)",
         "offsetgroup": "survey (2017/2019)",
         "orientation": "v",
         "showlegend": true,
         "textposition": "auto",
         "type": "bar",
         "x": [
          0,
          2,
          3,
          4,
          5,
          6,
          7,
          8,
          9,
          10,
          11,
          12,
          13,
          14,
          15,
          16,
          17,
          18,
          19,
          20,
          21,
          22,
          23
         ],
         "xaxis": "x",
         "y": [
          1.4707149262177072E-4,
          1.3071254970259475E-5,
          0.0024988130755264266,
          0.010930859664478132,
          0.03787515861508891,
          0.08333155864569063,
          0.1309103610188505,
          0.12333599449464636,
          0.09264149647663444,
          0.068053789407233,
          0.06805165966774222,
          0.050022736359967,
          0.034930720147422746,
          0.04147380958565821,
          0.04979255241036827,
          0.042389729567450324,
          0.07367214957455899,
          0.04455392598300183,
          0.02664581219317742,
          0.010535154359956563,
          0.005919826012116025,
          0.001621529369575622,
          6.522206232645805E-4
         ],
         "yaxis": "y"
        }
       ],
       "layout": {
        "barmode": "group",
        "font": {
         "size": 11
        },
        "height": 400,
        "legend": {
         "title": {
          "text": "source"
         },
         "tracegroupgap": 0
        },
        "template": {
         "data": {
          "bar": [
           {
            "error_x": {
             "color": "rgb(36,36,36)"
            },
            "error_y": {
             "color": "rgb(36,36,36)"
            },
            "marker": {
             "line": {
              "color": "white",
              "width": 0.5
             },
             "pattern": {
              "fillmode": "overlay",
              "size": 10,
              "solidity": 0.2
             }
            },
            "type": "bar"
           }
          ],
          "barpolar": [
           {
            "marker": {
             "line": {
              "color": "white",
              "width": 0.5
             },
             "pattern": {
              "fillmode": "overlay",
              "size": 10,
              "solidity": 0.2
             }
            },
            "type": "barpolar"
           }
          ],
          "carpet": [
           {
            "aaxis": {
             "endlinecolor": "rgb(36,36,36)",
             "gridcolor": "white",
             "linecolor": "white",
             "minorgridcolor": "white",
             "startlinecolor": "rgb(36,36,36)"
            },
            "baxis": {
             "endlinecolor": "rgb(36,36,36)",
             "gridcolor": "white",
             "linecolor": "white",
             "minorgridcolor": "white",
             "startlinecolor": "rgb(36,36,36)"
            },
            "type": "carpet"
           }
          ],
          "choropleth": [
           {
            "colorbar": {
             "outlinewidth": 1,
             "tickcolor": "rgb(36,36,36)",
             "ticks": "outside"
            },
            "type": "choropleth"
           }
          ],
          "contour": [
           {
            "colorbar": {
             "outlinewidth": 1,
             "tickcolor": "rgb(36,36,36)",
             "ticks": "outside"
            },
            "colorscale": [
             [
              0.0,
              "#440154"
             ],
             [
              0.1111111111111111,
              "#482878"
             ],
             [
              0.2222222222222222,
              "#3e4989"
             ],
             [
              0.3333333333333333,
              "#31688e"
             ],
             [
              0.4444444444444444,
              "#26828e"
             ],
             [
              0.5555555555555556,
              "#1f9e89"
             ],
             [
              0.6666666666666666,
              "#35b779"
             ],
             [
              0.7777777777777778,
              "#6ece58"
             ],
             [
              0.8888888888888888,
              "#b5de2b"
             ],
             [
              1.0,
              "#fde725"
             ]
            ],
            "type": "contour"
           }
          ],
          "contourcarpet": [
           {
            "colorbar": {
             "outlinewidth": 1,
             "tickcolor": "rgb(36,36,36)",
             "ticks": "outside"
            },
            "type": "contourcarpet"
           }
          ],
          "heatmap": [
           {
            "colorbar": {
             "outlinewidth": 1,
             "tickcolor": "rgb(36,36,36)",
             "ticks": "outside"
            },
            "colorscale": [
             [
              0.0,
              "#440154"
             ],
             [
              0.1111111111111111,
              "#482878"
             ],
             [
              0.2222222222222222,
              "#3e4989"
             ],
             [
              0.3333333333333333,
              "#31688e"
             ],
             [
              0.4444444444444444,
              "#26828e"
             ],
             [
              0.5555555555555556,
              "#1f9e89"
             ],
             [
              0.6666666666666666,
              "#35b779"
             ],
             [
              0.7777777777777778,
              "#6ece58"
             ],
             [
              0.8888888888888888,
              "#b5de2b"
             ],
             [
              1.0,
              "#fde725"
             ]
            ],
            "type": "heatmap"
           }
          ],
          "heatmapgl": [
           {
            "colorbar": {
             "outlinewidth": 1,
             "tickcolor": "rgb(36,36,36)",
             "ticks": "outside"
            },
            "colorscale": [
             [
              0.0,
              "#440154"
             ],
             [
              0.1111111111111111,
              "#482878"
             ],
             [
              0.2222222222222222,
              "#3e4989"
             ],
             [
              0.3333333333333333,
              "#31688e"
             ],
             [
              0.4444444444444444,
              "#26828e"
             ],
             [
              0.5555555555555556,
              "#1f9e89"
             ],
             [
              0.6666666666666666,
              "#35b779"
             ],
             [
              0.7777777777777778,
              "#6ece58"
             ],
             [
              0.8888888888888888,
              "#b5de2b"
             ],
             [
              1.0,
              "#fde725"
             ]
            ],
            "type": "heatmapgl"
           }
          ],
          "histogram": [
           {
            "marker": {
             "line": {
              "color": "white",
              "width": 0.6
             }
            },
            "type": "histogram"
           }
          ],
          "histogram2d": [
           {
            "colorbar": {
             "outlinewidth": 1,
             "tickcolor": "rgb(36,36,36)",
             "ticks": "outside"
            },
            "colorscale": [
             [
              0.0,
              "#440154"
             ],
             [
              0.1111111111111111,
              "#482878"
             ],
             [
              0.2222222222222222,
              "#3e4989"
             ],
             [
              0.3333333333333333,
              "#31688e"
             ],
             [
              0.4444444444444444,
              "#26828e"
             ],
             [
              0.5555555555555556,
              "#1f9e89"
             ],
             [
              0.6666666666666666,
              "#35b779"
             ],
             [
              0.7777777777777778,
              "#6ece58"
             ],
             [
              0.8888888888888888,
              "#b5de2b"
             ],
             [
              1.0,
              "#fde725"
             ]
            ],
            "type": "histogram2d"
           }
          ],
          "histogram2dcontour": [
           {
            "colorbar": {
             "outlinewidth": 1,
             "tickcolor": "rgb(36,36,36)",
             "ticks": "outside"
            },
            "colorscale": [
             [
              0.0,
              "#440154"
             ],
             [
              0.1111111111111111,
              "#482878"
             ],
             [
              0.2222222222222222,
              "#3e4989"
             ],
             [
              0.3333333333333333,
              "#31688e"
             ],
             [
              0.4444444444444444,
              "#26828e"
             ],
             [
              0.5555555555555556,
              "#1f9e89"
             ],
             [
              0.6666666666666666,
              "#35b779"
             ],
             [
              0.7777777777777778,
              "#6ece58"
             ],
             [
              0.8888888888888888,
              "#b5de2b"
             ],
             [
              1.0,
              "#fde725"
             ]
            ],
            "type": "histogram2dcontour"
           }
          ],
          "mesh3d": [
           {
            "colorbar": {
             "outlinewidth": 1,
             "tickcolor": "rgb(36,36,36)",
             "ticks": "outside"
            },
            "type": "mesh3d"
           }
          ],
          "parcoords": [
           {
            "line": {
             "colorbar": {
              "outlinewidth": 1,
              "tickcolor": "rgb(36,36,36)",
              "ticks": "outside"
             }
            },
            "type": "parcoords"
           }
          ],
          "pie": [
           {
            "automargin": true,
            "type": "pie"
           }
          ],
          "scatter": [
           {
            "fillpattern": {
             "fillmode": "overlay",
             "size": 10,
             "solidity": 0.2
            },
            "type": "scatter"
           }
          ],
          "scatter3d": [
           {
            "line": {
             "colorbar": {
              "outlinewidth": 1,
              "tickcolor": "rgb(36,36,36)",
              "ticks": "outside"
             }
            },
            "marker": {
             "colorbar": {
              "outlinewidth": 1,
              "tickcolor": "rgb(36,36,36)",
              "ticks": "outside"
             }
            },
            "type": "scatter3d"
           }
          ],
          "scattercarpet": [
           {
            "marker": {
             "colorbar": {
              "outlinewidth": 1,
              "tickcolor": "rgb(36,36,36)",
              "ticks": "outside"
             }
            },
            "type": "scattercarpet"
           }
          ],
          "scattergeo": [
           {
            "marker": {
             "colorbar": {
              "outlinewidth": 1,
              "tickcolor": "rgb(36,36,36)",
              "ticks": "outside"
             }
            },
            "type": "scattergeo"
           }
          ],
          "scattergl": [
           {
            "marker": {
             "colorbar": {
              "outlinewidth": 1,
              "tickcolor": "rgb(36,36,36)",
              "ticks": "outside"
             }
            },
            "type": "scattergl"
           }
          ],
          "scattermapbox": [
           {
            "marker": {
             "colorbar": {
              "outlinewidth": 1,
              "tickcolor": "rgb(36,36,36)",
              "ticks": "outside"
             }
            },
            "type": "scattermapbox"
           }
          ],
          "scatterpolar": [
           {
            "marker": {
             "colorbar": {
              "outlinewidth": 1,
              "tickcolor": "rgb(36,36,36)",
              "ticks": "outside"
             }
            },
            "type": "scatterpolar"
           }
          ],
          "scatterpolargl": [
           {
            "marker": {
             "colorbar": {
              "outlinewidth": 1,
              "tickcolor": "rgb(36,36,36)",
              "ticks": "outside"
             }
            },
            "type": "scatterpolargl"
           }
          ],
          "scatterternary": [
           {
            "marker": {
             "colorbar": {
              "outlinewidth": 1,
              "tickcolor": "rgb(36,36,36)",
              "ticks": "outside"
             }
            },
            "type": "scatterternary"
           }
          ],
          "surface": [
           {
            "colorbar": {
             "outlinewidth": 1,
             "tickcolor": "rgb(36,36,36)",
             "ticks": "outside"
            },
            "colorscale": [
             [
              0.0,
              "#440154"
             ],
             [
              0.1111111111111111,
              "#482878"
             ],
             [
              0.2222222222222222,
              "#3e4989"
             ],
             [
              0.3333333333333333,
              "#31688e"
             ],
             [
              0.4444444444444444,
              "#26828e"
             ],
             [
              0.5555555555555556,
              "#1f9e89"
             ],
             [
              0.6666666666666666,
              "#35b779"
             ],
             [
              0.7777777777777778,
              "#6ece58"
             ],
             [
              0.8888888888888888,
              "#b5de2b"
             ],
             [
              1.0,
              "#fde725"
             ]
            ],
            "type": "surface"
           }
          ],
          "table": [
           {
            "cells": {
             "fill": {
              "color": "rgb(237,237,237)"
             },
             "line": {
              "color": "white"
             }
            },
            "header": {
             "fill": {
              "color": "rgb(217,217,217)"
             },
             "line": {
              "color": "white"
             }
            },
            "type": "table"
           }
          ]
         },
         "layout": {
          "annotationdefaults": {
           "arrowhead": 0,
           "arrowwidth": 1
          },
          "autotypenumbers": "strict",
          "coloraxis": {
           "colorbar": {
            "outlinewidth": 1,
            "tickcolor": "rgb(36,36,36)",
            "ticks": "outside"
           }
          },
          "colorscale": {
           "diverging": [
            [
             0.0,
             "rgb(103,0,31)"
            ],
            [
             0.1,
             "rgb(178,24,43)"
            ],
            [
             0.2,
             "rgb(214,96,77)"
            ],
            [
             0.3,
             "rgb(244,165,130)"
            ],
            [
             0.4,
             "rgb(253,219,199)"
            ],
            [
             0.5,
             "rgb(247,247,247)"
            ],
            [
             0.6,
             "rgb(209,229,240)"
            ],
            [
             0.7,
             "rgb(146,197,222)"
            ],
            [
             0.8,
             "rgb(67,147,195)"
            ],
            [
             0.9,
             "rgb(33,102,172)"
            ],
            [
             1.0,
             "rgb(5,48,97)"
            ]
           ],
           "sequential": [
            [
             0.0,
             "#440154"
            ],
            [
             0.1111111111111111,
             "#482878"
            ],
            [
             0.2222222222222222,
             "#3e4989"
            ],
            [
             0.3333333333333333,
             "#31688e"
            ],
            [
             0.4444444444444444,
             "#26828e"
            ],
            [
             0.5555555555555556,
             "#1f9e89"
            ],
            [
             0.6666666666666666,
             "#35b779"
            ],
            [
             0.7777777777777778,
             "#6ece58"
            ],
            [
             0.8888888888888888,
             "#b5de2b"
            ],
            [
             1.0,
             "#fde725"
            ]
           ],
           "sequentialminus": [
            [
             0.0,
             "#440154"
            ],
            [
             0.1111111111111111,
             "#482878"
            ],
            [
             0.2222222222222222,
             "#3e4989"
            ],
            [
             0.3333333333333333,
             "#31688e"
            ],
            [
             0.4444444444444444,
             "#26828e"
            ],
            [
             0.5555555555555556,
             "#1f9e89"
            ],
            [
             0.6666666666666666,
             "#35b779"
            ],
            [
             0.7777777777777778,
             "#6ece58"
            ],
            [
             0.8888888888888888,
             "#b5de2b"
            ],
            [
             1.0,
             "#fde725"
            ]
           ]
          },
          "colorway": [
           "#91268F",
           "#8CC63E",
           "#00A7A0",
           "#F05A28",
           "#4C4C4C",
           "#630460",
           "#9f3913",
           "#588527",
           "#00716c",
           "#3e4040"
          ],
          "font": {
           "color": "rgb(36,36,36)",
           "family": "Poppins",
           "size": 11
          },
          "geo": {
           "bgcolor": "white",
           "lakecolor": "white",
           "landcolor": "white",
           "showlakes": true,
           "showland": true,
           "subunitcolor": "white"
          },
          "hoverlabel": {
           "align": "left"
          },
          "hovermode": "closest",
          "mapbox": {
           "style": "light"
          },
          "paper_bgcolor": "white",
          "plot_bgcolor": "white",
          "polar": {
           "angularaxis": {
            "gridcolor": "rgb(232,232,232)",
            "linecolor": "rgb(36,36,36)",
            "showgrid": false,
            "showline": true,
            "ticks": "outside"
           },
           "bgcolor": "white",
           "radialaxis": {
            "gridcolor": "rgb(232,232,232)",
            "linecolor": "rgb(36,36,36)",
            "showgrid": false,
            "showline": true,
            "ticks": "outside"
           }
          },
          "scene": {
           "xaxis": {
            "backgroundcolor": "white",
            "gridcolor": "rgb(232,232,232)",
            "gridwidth": 2,
            "linecolor": "rgb(36,36,36)",
            "showbackground": true,
            "showgrid": false,
            "showline": true,
            "ticks": "outside",
            "zeroline": false,
            "zerolinecolor": "rgb(36,36,36)"
           },
           "yaxis": {
            "backgroundcolor": "white",
            "gridcolor": "rgb(232,232,232)",
            "gridwidth": 2,
            "linecolor": "rgb(36,36,36)",
            "showbackground": true,
            "showgrid": false,
            "showline": true,
            "ticks": "outside",
            "zeroline": false,
            "zerolinecolor": "rgb(36,36,36)"
           },
           "zaxis": {
            "backgroundcolor": "white",
            "gridcolor": "rgb(232,232,232)",
            "gridwidth": 2,
            "linecolor": "rgb(36,36,36)",
            "showbackground": true,
            "showgrid": false,
            "showline": true,
            "ticks": "outside",
            "zeroline": false,
            "zerolinecolor": "rgb(36,36,36)"
           }
          },
          "shapedefaults": {
           "fillcolor": "black",
           "line": {
            "width": 0
           },
           "opacity": 0.3
          },
          "ternary": {
           "aaxis": {
            "gridcolor": "rgb(232,232,232)",
            "linecolor": "rgb(36,36,36)",
            "showgrid": false,
            "showline": true,
            "ticks": "outside"
           },
           "baxis": {
            "gridcolor": "rgb(232,232,232)",
            "linecolor": "rgb(36,36,36)",
            "showgrid": false,
            "showline": true,
            "ticks": "outside"
           },
           "bgcolor": "white",
           "caxis": {
            "gridcolor": "rgb(232,232,232)",
            "linecolor": "rgb(36,36,36)",
            "showgrid": false,
            "showline": true,
            "ticks": "outside"
           }
          },
          "title": {
           "x": 0.05
          },
          "xaxis": {
           "automargin": true,
           "gridcolor": "rgb(232,232,232)",
           "linecolor": "rgb(36,36,36)",
           "showgrid": false,
           "showline": true,
           "ticks": "outside",
           "title": {
            "standoff": 15
           },
           "zeroline": false,
           "zerolinecolor": "rgb(36,36,36)"
          },
          "yaxis": {
           "automargin": true,
           "gridcolor": "rgb(232,232,232)",
           "linecolor": "rgb(36,36,36)",
           "showgrid": false,
           "showline": true,
           "ticks": "outside",
           "title": {
            "standoff": 15
           },
           "zeroline": false,
           "zerolinecolor": "rgb(36,36,36)"
          }
         }
        },
        "title": {
         "text": "tour origin departure hour"
        },
        "width": 700,
        "xaxis": {
         "anchor": "y",
         "categoryorder": "category ascending",
         "domain": [
          0.0,
          1.0
         ],
         "dtick": 1,
         "title": {
          "text": "tlvorg_hr"
         }
        },
        "yaxis": {
         "anchor": "x",
         "domain": [
          0.0,
          1.0
         ],
         "tickformat": ".0%",
         "title": {
          "text": "percentage"
         }
        }
       }
      },
      "text/html": [
       "<div>                            <div id=\"a24ccfff-e3d2-46f2-961b-cf3d8f79467e\" class=\"plotly-graph-div\" style=\"height:400px; width:700px;\"></div>            <script type=\"text/javascript\">                require([\"plotly\"], function(Plotly) {                    window.PLOTLYENV=window.PLOTLYENV || {};                                    if (document.getElementById(\"a24ccfff-e3d2-46f2-961b-cf3d8f79467e\")) {                    Plotly.newPlot(                        \"a24ccfff-e3d2-46f2-961b-cf3d8f79467e\",                        [{\"alignmentgroup\":\"True\",\"customdata\":[[3978.0],[2669.0],[1119.0],[68989.0],[56050.0],[132754.0],[389626.0],[671154.0],[746507.0],[576642.0],[472163.0],[398464.0],[374567.0],[356091.0],[328562.0],[308643.0],[344936.0],[342959.0],[327172.0],[205044.0],[154656.0],[94303.0],[22805.0],[10580.0]],\"hovertemplate\":\"source=model<br>tlvorg_hr=%{x}<br>percentage=%{y}<br>toexpfac=%{customdata[0]}<extra></extra>\",\"legendgroup\":\"model\",\"marker\":{\"color\":\"#91268F\",\"pattern\":{\"shape\":\"\"}},\"name\":\"model\",\"offsetgroup\":\"model\",\"orientation\":\"v\",\"showlegend\":true,\"textposition\":\"auto\",\"x\":[0,1,2,3,4,5,6,7,8,9,10,11,12,13,14,15,16,17,18,19,20,21,22,23],\"xaxis\":\"x\",\"y\":[0.0006224930298150376,0.00041765557983316625,0.00017510550537029338,0.01079566908846396,0.0087709236604155,0.02077386618402853,0.06097020342752987,0.10502480817809998,0.11681634092713279,0.09023520002478705,0.07388591665071835,0.062353208303725274,0.05861371209118381,0.05572251520358636,0.05141466939720673,0.048297666214480305,0.05397693708704872,0.0536675683791693,0.051197156749785186,0.032086088689138904,0.024201176978148428,0.014756903014240192,0.0035686157729843972,0.0016555998631078677],\"yaxis\":\"y\",\"type\":\"bar\"},{\"alignmentgroup\":\"True\",\"customdata\":[[520.3702253200515],[587.7833791151987],[322.70012578798855],[12143.289638479979],[82941.44408576241],[144711.841502434],[343063.24008042074],[717987.7586524469],[709289.0116873989],[392695.2381930688],[333119.4452993872],[248148.3519912733],[267584.47124603053],[235545.05783963023],[370969.14937750506],[258846.55020107926],[217582.54793087044],[337519.5681988176],[213751.30914249594],[135516.39295514356],[31678.915869293007],[20304.2009160043],[18292.57371758086],[2205.7586376022605]],\"hovertemplate\":\"source=survey<br>tlvorg_hr=%{x}<br>percentage=%{y}<br>toexpfac=%{customdata[0]}<extra></extra>\",\"legendgroup\":\"survey\",\"marker\":{\"color\":\"#8CC63E\",\"pattern\":{\"shape\":\"\"}},\"name\":\"survey\",\"offsetgroup\":\"survey\",\"orientation\":\"v\",\"showlegend\":true,\"textposition\":\"auto\",\"x\":[0,1,2,3,4,5,6,7,8,9,10,11,12,13,14,15,16,17,18,19,20,21,22,23],\"xaxis\":\"x\",\"y\":[0.00010212695442170171,0.00011535734261469596,6.33325648444963e-05,0.0023832208821629136,0.016277943409631093,0.028400894060204632,0.06732899420197551,0.14091102744808165,0.13920382651382568,0.07706968373891217,0.06537744235106634,0.04870116351881255,0.05251566244415847,0.04622766295179509,0.07280575937455361,0.05080077327318541,0.0427023720310415,0.06624100281039821,0.0419504597768799,0.02659621133820869,0.006217248873381196,0.003984867120793628,0.0035900686692094887,0.0004328983498414636],\"yaxis\":\"y\",\"type\":\"bar\"},{\"alignmentgroup\":\"True\",\"customdata\":[[818.5256193266233],[72.74800084760997],[13907.131040594093],[60835.642021048836],[210793.99623853824],[463781.35173573333],[728580.9263172238],[686425.8292300178],[515595.7618101818],[378753.0073236862],[378741.1542697421],[278401.2763422066],[194406.7394197493],[230822.26930435168],[277120.1887803302],[235919.8171498615],[410021.96131048887],[247964.64092777378],[148297.12773754023],[58633.34622816313],[32946.76056178034],[9024.613185245682],[3629.930451363426]],\"hovertemplate\":\"source=survey (2017/2019)<br>tlvorg_hr=%{x}<br>percentage=%{y}<br>toexpfac=%{customdata[0]}<extra></extra>\",\"legendgroup\":\"survey (2017/2019)\",\"marker\":{\"color\":\"#00A7A0\",\"pattern\":{\"shape\":\"\"}},\"name\":\"survey (2017/2019)\",\"offsetgroup\":\"survey (2017/2019)\",\"orientation\":\"v\",\"showlegend\":true,\"textposition\":\"auto\",\"x\":[0,2,3,4,5,6,7,8,9,10,11,12,13,14,15,16,17,18,19,20,21,22,23],\"xaxis\":\"x\",\"y\":[0.00014707149262177072,1.3071254970259475e-05,0.0024988130755264266,0.010930859664478132,0.03787515861508891,0.08333155864569063,0.1309103610188505,0.12333599449464636,0.09264149647663444,0.068053789407233,0.06805165966774222,0.050022736359967,0.034930720147422746,0.04147380958565821,0.04979255241036827,0.042389729567450324,0.07367214957455899,0.04455392598300183,0.02664581219317742,0.010535154359956563,0.005919826012116025,0.001621529369575622,0.0006522206232645805],\"yaxis\":\"y\",\"type\":\"bar\"}],                        {\"template\":{\"data\":{\"barpolar\":[{\"marker\":{\"line\":{\"color\":\"white\",\"width\":0.5},\"pattern\":{\"fillmode\":\"overlay\",\"size\":10,\"solidity\":0.2}},\"type\":\"barpolar\"}],\"bar\":[{\"error_x\":{\"color\":\"rgb(36,36,36)\"},\"error_y\":{\"color\":\"rgb(36,36,36)\"},\"marker\":{\"line\":{\"color\":\"white\",\"width\":0.5},\"pattern\":{\"fillmode\":\"overlay\",\"size\":10,\"solidity\":0.2}},\"type\":\"bar\"}],\"carpet\":[{\"aaxis\":{\"endlinecolor\":\"rgb(36,36,36)\",\"gridcolor\":\"white\",\"linecolor\":\"white\",\"minorgridcolor\":\"white\",\"startlinecolor\":\"rgb(36,36,36)\"},\"baxis\":{\"endlinecolor\":\"rgb(36,36,36)\",\"gridcolor\":\"white\",\"linecolor\":\"white\",\"minorgridcolor\":\"white\",\"startlinecolor\":\"rgb(36,36,36)\"},\"type\":\"carpet\"}],\"choropleth\":[{\"colorbar\":{\"outlinewidth\":1,\"tickcolor\":\"rgb(36,36,36)\",\"ticks\":\"outside\"},\"type\":\"choropleth\"}],\"contourcarpet\":[{\"colorbar\":{\"outlinewidth\":1,\"tickcolor\":\"rgb(36,36,36)\",\"ticks\":\"outside\"},\"type\":\"contourcarpet\"}],\"contour\":[{\"colorbar\":{\"outlinewidth\":1,\"tickcolor\":\"rgb(36,36,36)\",\"ticks\":\"outside\"},\"colorscale\":[[0.0,\"#440154\"],[0.1111111111111111,\"#482878\"],[0.2222222222222222,\"#3e4989\"],[0.3333333333333333,\"#31688e\"],[0.4444444444444444,\"#26828e\"],[0.5555555555555556,\"#1f9e89\"],[0.6666666666666666,\"#35b779\"],[0.7777777777777778,\"#6ece58\"],[0.8888888888888888,\"#b5de2b\"],[1.0,\"#fde725\"]],\"type\":\"contour\"}],\"heatmapgl\":[{\"colorbar\":{\"outlinewidth\":1,\"tickcolor\":\"rgb(36,36,36)\",\"ticks\":\"outside\"},\"colorscale\":[[0.0,\"#440154\"],[0.1111111111111111,\"#482878\"],[0.2222222222222222,\"#3e4989\"],[0.3333333333333333,\"#31688e\"],[0.4444444444444444,\"#26828e\"],[0.5555555555555556,\"#1f9e89\"],[0.6666666666666666,\"#35b779\"],[0.7777777777777778,\"#6ece58\"],[0.8888888888888888,\"#b5de2b\"],[1.0,\"#fde725\"]],\"type\":\"heatmapgl\"}],\"heatmap\":[{\"colorbar\":{\"outlinewidth\":1,\"tickcolor\":\"rgb(36,36,36)\",\"ticks\":\"outside\"},\"colorscale\":[[0.0,\"#440154\"],[0.1111111111111111,\"#482878\"],[0.2222222222222222,\"#3e4989\"],[0.3333333333333333,\"#31688e\"],[0.4444444444444444,\"#26828e\"],[0.5555555555555556,\"#1f9e89\"],[0.6666666666666666,\"#35b779\"],[0.7777777777777778,\"#6ece58\"],[0.8888888888888888,\"#b5de2b\"],[1.0,\"#fde725\"]],\"type\":\"heatmap\"}],\"histogram2dcontour\":[{\"colorbar\":{\"outlinewidth\":1,\"tickcolor\":\"rgb(36,36,36)\",\"ticks\":\"outside\"},\"colorscale\":[[0.0,\"#440154\"],[0.1111111111111111,\"#482878\"],[0.2222222222222222,\"#3e4989\"],[0.3333333333333333,\"#31688e\"],[0.4444444444444444,\"#26828e\"],[0.5555555555555556,\"#1f9e89\"],[0.6666666666666666,\"#35b779\"],[0.7777777777777778,\"#6ece58\"],[0.8888888888888888,\"#b5de2b\"],[1.0,\"#fde725\"]],\"type\":\"histogram2dcontour\"}],\"histogram2d\":[{\"colorbar\":{\"outlinewidth\":1,\"tickcolor\":\"rgb(36,36,36)\",\"ticks\":\"outside\"},\"colorscale\":[[0.0,\"#440154\"],[0.1111111111111111,\"#482878\"],[0.2222222222222222,\"#3e4989\"],[0.3333333333333333,\"#31688e\"],[0.4444444444444444,\"#26828e\"],[0.5555555555555556,\"#1f9e89\"],[0.6666666666666666,\"#35b779\"],[0.7777777777777778,\"#6ece58\"],[0.8888888888888888,\"#b5de2b\"],[1.0,\"#fde725\"]],\"type\":\"histogram2d\"}],\"histogram\":[{\"marker\":{\"line\":{\"color\":\"white\",\"width\":0.6}},\"type\":\"histogram\"}],\"mesh3d\":[{\"colorbar\":{\"outlinewidth\":1,\"tickcolor\":\"rgb(36,36,36)\",\"ticks\":\"outside\"},\"type\":\"mesh3d\"}],\"parcoords\":[{\"line\":{\"colorbar\":{\"outlinewidth\":1,\"tickcolor\":\"rgb(36,36,36)\",\"ticks\":\"outside\"}},\"type\":\"parcoords\"}],\"pie\":[{\"automargin\":true,\"type\":\"pie\"}],\"scatter3d\":[{\"line\":{\"colorbar\":{\"outlinewidth\":1,\"tickcolor\":\"rgb(36,36,36)\",\"ticks\":\"outside\"}},\"marker\":{\"colorbar\":{\"outlinewidth\":1,\"tickcolor\":\"rgb(36,36,36)\",\"ticks\":\"outside\"}},\"type\":\"scatter3d\"}],\"scattercarpet\":[{\"marker\":{\"colorbar\":{\"outlinewidth\":1,\"tickcolor\":\"rgb(36,36,36)\",\"ticks\":\"outside\"}},\"type\":\"scattercarpet\"}],\"scattergeo\":[{\"marker\":{\"colorbar\":{\"outlinewidth\":1,\"tickcolor\":\"rgb(36,36,36)\",\"ticks\":\"outside\"}},\"type\":\"scattergeo\"}],\"scattergl\":[{\"marker\":{\"colorbar\":{\"outlinewidth\":1,\"tickcolor\":\"rgb(36,36,36)\",\"ticks\":\"outside\"}},\"type\":\"scattergl\"}],\"scattermapbox\":[{\"marker\":{\"colorbar\":{\"outlinewidth\":1,\"tickcolor\":\"rgb(36,36,36)\",\"ticks\":\"outside\"}},\"type\":\"scattermapbox\"}],\"scatterpolargl\":[{\"marker\":{\"colorbar\":{\"outlinewidth\":1,\"tickcolor\":\"rgb(36,36,36)\",\"ticks\":\"outside\"}},\"type\":\"scatterpolargl\"}],\"scatterpolar\":[{\"marker\":{\"colorbar\":{\"outlinewidth\":1,\"tickcolor\":\"rgb(36,36,36)\",\"ticks\":\"outside\"}},\"type\":\"scatterpolar\"}],\"scatter\":[{\"fillpattern\":{\"fillmode\":\"overlay\",\"size\":10,\"solidity\":0.2},\"type\":\"scatter\"}],\"scatterternary\":[{\"marker\":{\"colorbar\":{\"outlinewidth\":1,\"tickcolor\":\"rgb(36,36,36)\",\"ticks\":\"outside\"}},\"type\":\"scatterternary\"}],\"surface\":[{\"colorbar\":{\"outlinewidth\":1,\"tickcolor\":\"rgb(36,36,36)\",\"ticks\":\"outside\"},\"colorscale\":[[0.0,\"#440154\"],[0.1111111111111111,\"#482878\"],[0.2222222222222222,\"#3e4989\"],[0.3333333333333333,\"#31688e\"],[0.4444444444444444,\"#26828e\"],[0.5555555555555556,\"#1f9e89\"],[0.6666666666666666,\"#35b779\"],[0.7777777777777778,\"#6ece58\"],[0.8888888888888888,\"#b5de2b\"],[1.0,\"#fde725\"]],\"type\":\"surface\"}],\"table\":[{\"cells\":{\"fill\":{\"color\":\"rgb(237,237,237)\"},\"line\":{\"color\":\"white\"}},\"header\":{\"fill\":{\"color\":\"rgb(217,217,217)\"},\"line\":{\"color\":\"white\"}},\"type\":\"table\"}]},\"layout\":{\"annotationdefaults\":{\"arrowhead\":0,\"arrowwidth\":1},\"autotypenumbers\":\"strict\",\"coloraxis\":{\"colorbar\":{\"outlinewidth\":1,\"tickcolor\":\"rgb(36,36,36)\",\"ticks\":\"outside\"}},\"colorscale\":{\"diverging\":[[0.0,\"rgb(103,0,31)\"],[0.1,\"rgb(178,24,43)\"],[0.2,\"rgb(214,96,77)\"],[0.3,\"rgb(244,165,130)\"],[0.4,\"rgb(253,219,199)\"],[0.5,\"rgb(247,247,247)\"],[0.6,\"rgb(209,229,240)\"],[0.7,\"rgb(146,197,222)\"],[0.8,\"rgb(67,147,195)\"],[0.9,\"rgb(33,102,172)\"],[1.0,\"rgb(5,48,97)\"]],\"sequential\":[[0.0,\"#440154\"],[0.1111111111111111,\"#482878\"],[0.2222222222222222,\"#3e4989\"],[0.3333333333333333,\"#31688e\"],[0.4444444444444444,\"#26828e\"],[0.5555555555555556,\"#1f9e89\"],[0.6666666666666666,\"#35b779\"],[0.7777777777777778,\"#6ece58\"],[0.8888888888888888,\"#b5de2b\"],[1.0,\"#fde725\"]],\"sequentialminus\":[[0.0,\"#440154\"],[0.1111111111111111,\"#482878\"],[0.2222222222222222,\"#3e4989\"],[0.3333333333333333,\"#31688e\"],[0.4444444444444444,\"#26828e\"],[0.5555555555555556,\"#1f9e89\"],[0.6666666666666666,\"#35b779\"],[0.7777777777777778,\"#6ece58\"],[0.8888888888888888,\"#b5de2b\"],[1.0,\"#fde725\"]]},\"colorway\":[\"#91268F\",\"#8CC63E\",\"#00A7A0\",\"#F05A28\",\"#4C4C4C\",\"#630460\",\"#9f3913\",\"#588527\",\"#00716c\",\"#3e4040\"],\"font\":{\"color\":\"rgb(36,36,36)\",\"family\":\"Poppins\",\"size\":11},\"geo\":{\"bgcolor\":\"white\",\"lakecolor\":\"white\",\"landcolor\":\"white\",\"showlakes\":true,\"showland\":true,\"subunitcolor\":\"white\"},\"hoverlabel\":{\"align\":\"left\"},\"hovermode\":\"closest\",\"mapbox\":{\"style\":\"light\"},\"paper_bgcolor\":\"white\",\"plot_bgcolor\":\"white\",\"polar\":{\"angularaxis\":{\"gridcolor\":\"rgb(232,232,232)\",\"linecolor\":\"rgb(36,36,36)\",\"showgrid\":false,\"showline\":true,\"ticks\":\"outside\"},\"bgcolor\":\"white\",\"radialaxis\":{\"gridcolor\":\"rgb(232,232,232)\",\"linecolor\":\"rgb(36,36,36)\",\"showgrid\":false,\"showline\":true,\"ticks\":\"outside\"}},\"scene\":{\"xaxis\":{\"backgroundcolor\":\"white\",\"gridcolor\":\"rgb(232,232,232)\",\"gridwidth\":2,\"linecolor\":\"rgb(36,36,36)\",\"showbackground\":true,\"showgrid\":false,\"showline\":true,\"ticks\":\"outside\",\"zeroline\":false,\"zerolinecolor\":\"rgb(36,36,36)\"},\"yaxis\":{\"backgroundcolor\":\"white\",\"gridcolor\":\"rgb(232,232,232)\",\"gridwidth\":2,\"linecolor\":\"rgb(36,36,36)\",\"showbackground\":true,\"showgrid\":false,\"showline\":true,\"ticks\":\"outside\",\"zeroline\":false,\"zerolinecolor\":\"rgb(36,36,36)\"},\"zaxis\":{\"backgroundcolor\":\"white\",\"gridcolor\":\"rgb(232,232,232)\",\"gridwidth\":2,\"linecolor\":\"rgb(36,36,36)\",\"showbackground\":true,\"showgrid\":false,\"showline\":true,\"ticks\":\"outside\",\"zeroline\":false,\"zerolinecolor\":\"rgb(36,36,36)\"}},\"shapedefaults\":{\"fillcolor\":\"black\",\"line\":{\"width\":0},\"opacity\":0.3},\"ternary\":{\"aaxis\":{\"gridcolor\":\"rgb(232,232,232)\",\"linecolor\":\"rgb(36,36,36)\",\"showgrid\":false,\"showline\":true,\"ticks\":\"outside\"},\"baxis\":{\"gridcolor\":\"rgb(232,232,232)\",\"linecolor\":\"rgb(36,36,36)\",\"showgrid\":false,\"showline\":true,\"ticks\":\"outside\"},\"bgcolor\":\"white\",\"caxis\":{\"gridcolor\":\"rgb(232,232,232)\",\"linecolor\":\"rgb(36,36,36)\",\"showgrid\":false,\"showline\":true,\"ticks\":\"outside\"}},\"title\":{\"x\":0.05},\"xaxis\":{\"automargin\":true,\"gridcolor\":\"rgb(232,232,232)\",\"linecolor\":\"rgb(36,36,36)\",\"showgrid\":false,\"showline\":true,\"ticks\":\"outside\",\"title\":{\"standoff\":15},\"zeroline\":false,\"zerolinecolor\":\"rgb(36,36,36)\"},\"yaxis\":{\"automargin\":true,\"gridcolor\":\"rgb(232,232,232)\",\"linecolor\":\"rgb(36,36,36)\",\"showgrid\":false,\"showline\":true,\"ticks\":\"outside\",\"title\":{\"standoff\":15},\"zeroline\":false,\"zerolinecolor\":\"rgb(36,36,36)\"}}},\"xaxis\":{\"anchor\":\"y\",\"domain\":[0.0,1.0],\"title\":{\"text\":\"tlvorg_hr\"},\"dtick\":1,\"categoryorder\":\"category ascending\"},\"yaxis\":{\"anchor\":\"x\",\"domain\":[0.0,1.0],\"title\":{\"text\":\"percentage\"},\"tickformat\":\".0%\"},\"legend\":{\"title\":{\"text\":\"source\"},\"tracegroupgap\":0},\"title\":{\"text\":\"tour origin departure hour\"},\"barmode\":\"group\",\"font\":{\"size\":11},\"height\":400,\"width\":700},                        {\"responsive\": true}                    ).then(function(){\n",
       "                            \n",
       "var gd = document.getElementById('a24ccfff-e3d2-46f2-961b-cf3d8f79467e');\n",
       "var x = new MutationObserver(function (mutations, observer) {{\n",
       "        var display = window.getComputedStyle(gd).display;\n",
       "        if (!display || display === 'none') {{\n",
       "            console.log([gd, 'removed!']);\n",
       "            Plotly.purge(gd);\n",
       "            observer.disconnect();\n",
       "        }}\n",
       "}});\n",
       "\n",
       "// Listen for the removal of the full notebook cells\n",
       "var notebookContainer = gd.closest('#notebook-container');\n",
       "if (notebookContainer) {{\n",
       "    x.observe(notebookContainer, {childList: true});\n",
       "}}\n",
       "\n",
       "// Listen for the clearing of the current output cell\n",
       "var outputEl = gd.closest('.output');\n",
       "if (outputEl) {{\n",
       "    x.observe(outputEl, {childList: true});\n",
       "}}\n",
       "\n",
       "                        })                };                });            </script>        </div>"
      ]
     },
     "metadata": {},
     "output_type": "display_data"
    }
   ],
   "source": [
    "df_plot = df_tour.groupby(['tlvorg_hr','source'])['toexpfac'].sum().reset_index()\n",
    "df_plot['percentage'] = df_plot.groupby(['source'], group_keys=False)['toexpfac']. \\\n",
    "    apply(lambda x: x / float(x.sum()))\n",
    "\n",
    "fig = px.bar(df_plot, x=\"tlvorg_hr\", y=\"percentage\", color=\"source\",\n",
    "             barmode=\"group\",title=\"tour origin departure hour\",\n",
    "             hover_data=['toexpfac'])\n",
    "fig.update_layout(height=400, width=700, font=dict(size=11),\n",
    "                  xaxis = dict(dtick = 1, categoryorder='category ascending'),\n",
    "                  yaxis=dict(tickformat=\".0%\"))\n",
    "fig.show()"
   ]
  },
  {
   "cell_type": "markdown",
   "metadata": {
    "collapsed": false
   },
   "source": "## time choice by purpose"
  },
  {
   "cell_type": "code",
   "metadata": {
    "collapsed": false,
    "execution": {
     "iopub.execute_input": "2024-07-15T04:41:54.566405Z",
     "iopub.status.busy": "2024-07-15T04:41:54.566405Z",
     "iopub.status.idle": "2024-07-15T04:41:55.868137Z",
     "shell.execute_reply": "2024-07-15T04:41:55.866631Z"
    },
    "ExecuteTime": {
     "end_time": "2024-07-15T04:43:21.363175Z",
     "start_time": "2024-07-15T04:43:20.456962Z"
    }
   },
   "source": [
    "df_plot = df_tour.groupby(['tlvorg_hr','pdpurp_label','source'])['toexpfac'].sum().reset_index()\n",
    "df_plot['percentage'] = df_plot.groupby(['pdpurp_label','source'], group_keys=False)['toexpfac']. \\\n",
    "    apply(lambda x: x / float(x.sum()))\n",
    "\n",
    "fig = px.bar(df_plot.sort_values(['pdpurp_label']),\n",
    "             x=\"tlvorg_hr\", y=\"percentage\", color=\"source\",barmode=\"group\",\n",
    "             facet_row='pdpurp_label',\n",
    "             hover_data=['toexpfac'],\n",
    "             title=\"tour origin departure hour by purpose\")\n",
    "fig.update_layout(height=1500, width=700)\n",
    "fig.for_each_annotation(lambda a: a.update(text = a.text.split(\"=\")[-1]))\n",
    "fig.for_each_xaxis(lambda a: a.update(dict(dtick = 1, categoryorder='category ascending')))\n",
    "fig.for_each_yaxis(lambda a: a.update(dict(tickformat=\".0%\")))\n",
    "fig.show()"
   ],
   "outputs": [
    {
     "data": {
      "application/vnd.plotly.v1+json": {
       "data": [
        {
         "alignmentgroup": "True",
         "customdata": [
          [
           1016.0
          ],
          [
           2096.0
          ],
          [
           38583.0
          ],
          [
           40250.0
          ],
          [
           31245.0
          ],
          [
           38857.0
          ],
          [
           24047.0
          ],
          [
           51807.0
          ],
          [
           238173.0
          ],
          [
           232080.0
          ],
          [
           1540.0
          ],
          [
           115739.0
          ],
          [
           64561.0
          ],
          [
           93913.0
          ],
          [
           27323.0
          ],
          [
           20968.0
          ],
          [
           4596.0
          ],
          [
           17042.0
          ],
          [
           641.0
          ],
          [
           8536.0
          ],
          [
           6839.0
          ],
          [
           299669.0
          ],
          [
           22182.0
          ],
          [
           271.0
          ]
         ],
         "hovertemplate": "source=model<br>pdpurp_label=Work<br>tlvorg_hr=%{x}<br>percentage=%{y}<br>toexpfac=%{customdata[0]}<extra></extra>",
         "legendgroup": "model",
         "marker": {
          "color": "#91268F",
          "pattern": {
           "shape": ""
          }
         },
         "name": "model",
         "offsetgroup": "model",
         "orientation": "v",
         "showlegend": true,
         "textposition": "auto",
         "x": [
          0,
          22,
          4,
          12,
          13,
          3,
          15,
          11,
          8,
          6,
          23,
          9,
          10,
          5,
          14,
          17,
          21,
          18,
          1,
          19,
          20,
          7,
          16,
          2
         ],
         "xaxis": "x6",
         "y": [
          7.351802566473754E-4,
          0.001516671080642617,
          0.027918759687230007,
          0.029125005246118957,
          0.022608963699751225,
          0.028117026803688057,
          0.017400472078345903,
          0.03748768066548285,
          0.17234260557723952,
          0.16793369484519968,
          0.0011143480268080296,
          0.08374904303554191,
          0.04671650841477481,
          0.06795569236468993,
          0.019770994244464803,
          0.015172499627344653,
          0.0033256776176686393,
          0.012331635761598988,
          4.638292760934721E-4,
          0.00617667192002165,
          0.004948718282688386,
          0.21684127197762043,
          0.01605095320172449,
          1.960963086136208E-4
         ],
         "yaxis": "y6",
         "type": "bar"
        },
        {
         "alignmentgroup": "True",
         "customdata": [
          [
           104613.0
          ],
          [
           2702.0
          ],
          [
           209144.0
          ],
          [
           2499.0
          ],
          [
           7449.0
          ],
          [
           181190.0
          ],
          [
           10383.0
          ],
          [
           1550.0
          ],
          [
           21048.0
          ],
          [
           14414.0
          ],
          [
           6970.0
          ],
          [
           31357.0
          ],
          [
           17.0
          ],
          [
           49028.0
          ],
          [
           6740.0
          ],
          [
           5821.0
          ],
          [
           3.0
          ],
          [
           2.0
          ],
          [
           60484.0
          ],
          [
           2071.0
          ],
          [
           12.0
          ],
          [
           1747.0
          ],
          [
           7972.0
          ],
          [
           6.0
          ]
         ],
         "hovertemplate": "source=model<br>pdpurp_label=School<br>tlvorg_hr=%{x}<br>percentage=%{y}<br>toexpfac=%{customdata[0]}<extra></extra>",
         "legendgroup": "model",
         "marker": {
          "color": "#91268F",
          "pattern": {
           "shape": ""
          }
         },
         "name": "model",
         "offsetgroup": "model",
         "orientation": "v",
         "showlegend": false,
         "textposition": "auto",
         "x": [
          9,
          19,
          8,
          20,
          15,
          7,
          14,
          21,
          12,
          13,
          17,
          11,
          22,
          10,
          16,
          18,
          2,
          1,
          6,
          3,
          23,
          4,
          5,
          0
         ],
         "xaxis": "x5",
         "y": [
          0.14385290874038464,
          0.003715509156763684,
          0.2875930596159082,
          0.003436364686436879,
          0.01024308945548952,
          0.24915362846558547,
          0.014277620864055268,
          0.0021313986650568877,
          0.028943018775559597,
          0.019820632489116117,
          0.009584418513191296,
          0.043118882542057306,
          2.337663051997877E-5,
          0.06741820241961877,
          0.009268146453215111,
          0.008004433309223319,
          4.1252877388197825E-6,
          2.7501918258798553E-6,
          0.08317130119825858,
          0.00284782363569859,
          1.650115095527913E-5,
          0.0024022925599060533,
          0.010962264617957103,
          8.250575477639565E-6
         ],
         "yaxis": "y5",
         "type": "bar"
        },
        {
         "alignmentgroup": "True",
         "customdata": [
          [
           3527.0
          ],
          [
           67439.0
          ],
          [
           1933.0
          ],
          [
           58449.0
          ],
          [
           59895.0
          ],
          [
           1681.0
          ],
          [
           12854.0
          ],
          [
           67190.0
          ],
          [
           57902.0
          ],
          [
           879.0
          ],
          [
           195.0
          ],
          [
           64757.0
          ],
          [
           63534.0
          ],
          [
           62132.0
          ],
          [
           42427.0
          ],
          [
           31786.0
          ],
          [
           10573.0
          ],
          [
           523.0
          ],
          [
           26336.0
          ],
          [
           53893.0
          ],
          [
           66798.0
          ],
          [
           382.0
          ],
          [
           64382.0
          ],
          [
           1372.0
          ]
         ],
         "hovertemplate": "source=model<br>pdpurp_label=Shop<br>tlvorg_hr=%{x}<br>percentage=%{y}<br>toexpfac=%{customdata[0]}<extra></extra>",
         "legendgroup": "model",
         "marker": {
          "color": "#91268F",
          "pattern": {
           "shape": ""
          }
         },
         "name": "model",
         "offsetgroup": "model",
         "orientation": "v",
         "showlegend": false,
         "textposition": "auto",
         "x": [
          22,
          10,
          5,
          12,
          15,
          23,
          21,
          16,
          11,
          4,
          2,
          17,
          13,
          14,
          19,
          7,
          6,
          0,
          20,
          8,
          9,
          1,
          18,
          3
         ],
         "xaxis": "x4",
         "y": [
          0.004296823128530686,
          0.08215862063084235,
          0.002354907600637884,
          0.07120641197603915,
          0.07296802418013763,
          0.002047904643907027,
          0.015659587324676337,
          0.08185527247121542,
          0.07054002063742099,
          0.0010708555514540611,
          2.3756181175602035E-4,
          0.07889123201992108,
          0.07740129306721537,
          0.07569328455397466,
          0.051687358909603465,
          0.03872379358193263,
          0.012880723259981556,
          6.371529617866597E-4,
          0.03208424550977719,
          0.06565599344085746,
          0.08137771231630075,
          4.6537749790153733E-4,
          0.07843438238192874,
          0.001671460542201333
         ],
         "yaxis": "y4",
         "type": "bar"
        },
        {
         "alignmentgroup": "True",
         "customdata": [
          [
           971.0
          ],
          [
           37029.0
          ],
          [
           112.0
          ],
          [
           12196.0
          ],
          [
           17122.0
          ],
          [
           373.0
          ],
          [
           29605.0
          ],
          [
           29978.0
          ],
          [
           30801.0
          ],
          [
           276.0
          ],
          [
           29001.0
          ],
          [
           15300.0
          ],
          [
           47387.0
          ],
          [
           58523.0
          ],
          [
           53431.0
          ],
          [
           991.0
          ],
          [
           2156.0
          ],
          [
           20120.0
          ],
          [
           5815.0
          ],
          [
           38914.0
          ],
          [
           28985.0
          ],
          [
           9450.0
          ],
          [
           2490.0
          ],
          [
           1103.0
          ]
         ],
         "hovertemplate": "source=model<br>pdpurp_label=Meal<br>tlvorg_hr=%{x}<br>percentage=%{y}<br>toexpfac=%{customdata[0]}<extra></extra>",
         "legendgroup": "model",
         "marker": {
          "color": "#91268F",
          "pattern": {
           "shape": ""
          }
         },
         "name": "model",
         "offsetgroup": "model",
         "orientation": "v",
         "showlegend": false,
         "textposition": "auto",
         "x": [
          23,
          14,
          2,
          21,
          19,
          0,
          15,
          18,
          17,
          1,
          16,
          20,
          10,
          12,
          11,
          4,
          22,
          8,
          6,
          13,
          9,
          7,
          5,
          3
         ],
         "xaxis": "x3",
         "y": [
          0.00205664129930591,
          0.07842983591348975,
          2.3722330125876614E-4,
          0.025831923054927784,
          0.03626551217993387,
          7.900383157992837E-4,
          0.06270531994433724,
          0.06349535826013653,
          0.0652385259113505,
          5.845859923876738E-4,
          0.061426008569691756,
          0.032406397404099306,
          0.10036875514954599,
          0.12395552910327474,
          0.11317034115676013,
          0.002099002603102118,
          0.004566548549231248,
          0.04261547161898549,
          0.012316549078747546,
          0.08242238879628237,
          0.06139211952665479,
          0.020015716043708394,
          0.005273982322627926,
          0.0023362259043608843
         ],
         "yaxis": "y3",
         "type": "bar"
        },
        {
         "alignmentgroup": "True",
         "customdata": [
          [
           9300.0
          ],
          [
           70872.0
          ],
          [
           10597.0
          ],
          [
           38741.0
          ],
          [
           20063.0
          ],
          [
           27039.0
          ],
          [
           49412.0
          ],
          [
           3342.0
          ],
          [
           350.0
          ],
          [
           79721.0
          ],
          [
           42398.0
          ],
          [
           9278.0
          ],
          [
           50293.0
          ],
          [
           160.0
          ],
          [
           48681.0
          ],
          [
           52264.0
          ],
          [
           46627.0
          ],
          [
           305.0
          ],
          [
           1578.0
          ],
          [
           47999.0
          ],
          [
           4964.0
          ],
          [
           54427.0
          ],
          [
           71129.0
          ],
          [
           27574.0
          ]
         ],
         "hovertemplate": "source=model<br>pdpurp_label=Escort<br>tlvorg_hr=%{x}<br>percentage=%{y}<br>toexpfac=%{customdata[0]}<extra></extra>",
         "legendgroup": "model",
         "marker": {
          "color": "#91268F",
          "pattern": {
           "shape": ""
          }
         },
         "name": "model",
         "offsetgroup": "model",
         "orientation": "v",
         "showlegend": false,
         "textposition": "auto",
         "x": [
          5,
          8,
          21,
          18,
          20,
          19,
          7,
          22,
          0,
          9,
          17,
          3,
          12,
          2,
          14,
          13,
          15,
          1,
          23,
          16,
          4,
          11,
          10,
          6
         ],
         "xaxis": "x2",
         "y": [
          0.012123361064978608,
          0.09238783283840472,
          0.013814113678019173,
          0.05050227215250928,
          0.026153870220071592,
          0.03524769460601684,
          0.06441285128416376,
          0.004356588460124571,
          4.5625552395080784E-4,
          0.10392327607109243,
          0.055269490584189576,
          0.012094682146330272,
          0.06556131161730851,
          2.0857395380608358E-4,
          0.06345992903271222,
          0.0681306820107572,
          0.06078236090072662,
          3.9759409944284684E-4,
          0.0020570606194124995,
          0.06257088255461378,
          0.006471006916833743,
          0.07095034114877319,
          0.09272285475170575,
          0.03594511376405593
         ],
         "yaxis": "y2",
         "type": "bar"
        },
        {
         "alignmentgroup": "True",
         "customdata": [
          [
           1082.0
          ],
          [
           11951.0
          ],
          [
           2620.0
          ],
          [
           19887.0
          ],
          [
           63015.0
          ],
          [
           39036.0
          ],
          [
           19284.0
          ],
          [
           6091.0
          ],
          [
           2772.0
          ],
          [
           4978.0
          ],
          [
           84.0
          ],
          [
           244.0
          ],
          [
           382.0
          ],
          [
           74798.0
          ],
          [
           71451.0
          ],
          [
           27330.0
          ],
          [
           45624.0
          ],
          [
           51310.0
          ],
          [
           54418.0
          ],
          [
           48323.0
          ],
          [
           51052.0
          ],
          [
           58577.0
          ],
          [
           56506.0
          ],
          [
           59717.0
          ]
         ],
         "hovertemplate": "source=model<br>pdpurp_label=Personal Business<br>tlvorg_hr=%{x}<br>percentage=%{y}<br>toexpfac=%{customdata[0]}<extra></extra>",
         "legendgroup": "model",
         "marker": {
          "color": "#91268F",
          "pattern": {
           "shape": ""
          }
         },
         "name": "model",
         "offsetgroup": "model",
         "orientation": "v",
         "showlegend": false,
         "textposition": "auto",
         "x": [
          23,
          21,
          22,
          20,
          8,
          7,
          6,
          5,
          4,
          3,
          2,
          1,
          0,
          9,
          10,
          19,
          18,
          17,
          16,
          15,
          14,
          13,
          12,
          11
         ],
         "xaxis": "x",
         "y": [
          0.0014042246136435606,
          0.015510063177129567,
          0.00340024814024596,
          0.025809440750027255,
          0.08178115899145007,
          0.05066110168039744,
          0.02502686455591721,
          0.007904928023755016,
          0.0035975144445655727,
          0.006460471466467324,
          1.0901558922925978E-4,
          3.1666433061832604E-4,
          4.957613700663957E-4,
          0.09707319099012111,
          0.09272943888118858,
          0.035469000638519876,
          0.059211038607092245,
          0.06659035575420619,
          0.0706239325556888,
          0.06271381331339905,
          0.06625552215871632,
          0.07602150202717084,
          0.07333374863081611,
          0.07750099930956794
         ],
         "yaxis": "y",
         "type": "bar"
        },
        {
         "alignmentgroup": "True",
         "customdata": [
          [
           26843.559387681584
          ],
          [
           47069.110645288965
          ],
          [
           38841.596463089474
          ],
          [
           29706.812597293476
          ],
          [
           18524.446823193204
          ],
          [
           11536.937249213654
          ],
          [
           988.686151042609
          ],
          [
           393071.5312644367
          ],
          [
           333470.07784518343
          ],
          [
           269789.2629268081
          ],
          [
           165885.50163496353
          ],
          [
           176781.1604996762
          ],
          [
           988.686151042609
          ],
          [
           74340.17758940026
          ],
          [
           19186.686366792266
          ],
          [
           9235.10731416993
          ],
          [
           4129.18919406304
          ],
          [
           0.0
          ],
          [
           2189.811752997617
          ],
          [
           1627.1968036848764
          ],
          [
           663.365825915265
          ],
          [
           2.034207699983375
          ],
          [
           10080.046467017171
          ],
          [
           66.61248155133971
          ]
         ],
         "hovertemplate": "source=survey (2017/2019)<br>pdpurp_label=Work<br>tlvorg_hr=%{x}<br>percentage=%{y}<br>toexpfac=%{customdata[0]}<extra></extra>",
         "legendgroup": "survey (2017/2019)",
         "marker": {
          "color": "#8CC63E",
          "pattern": {
           "shape": ""
          }
         },
         "name": "survey (2017/2019)",
         "offsetgroup": "survey (2017/2019)",
         "orientation": "v",
         "showlegend": true,
         "textposition": "auto",
         "x": [
          11,
          4,
          12,
          13,
          14,
          3,
          22,
          7,
          6,
          8,
          9,
          5,
          23,
          10,
          15,
          17,
          18,
          1,
          19,
          20,
          0,
          21,
          16,
          2
         ],
         "xaxis": "x6",
         "y": [
          0.016417902428935094,
          0.02878813702871791,
          0.023756072423380285,
          0.018169108785209716,
          0.011329814951170301,
          0.007056154787477896,
          6.046945014343298E-4,
          0.24040813495296307,
          0.20395503897087564,
          0.1650069475190118,
          0.10145793040648646,
          0.10812187021999357,
          6.046945014343298E-4,
          0.045467509155010515,
          0.011734850067950726,
          0.00564832288501819,
          0.0025254707961660976,
          0.0,
          0.0013393199902896817,
          9.952166912646037E-4,
          4.0572396705202367E-4,
          1.2441503399821667E-6,
          0.006165099679387678,
          4.074114043016966E-5
         ],
         "yaxis": "y6",
         "type": "bar"
        },
        {
         "alignmentgroup": "True",
         "customdata": [
          [
           9372.079396235318
          ],
          [
           0.0
          ],
          [
           36237.68696938745
          ],
          [
           75.14674575208934
          ],
          [
           158860.1815105916
          ],
          [
           0.0
          ],
          [
           184966.19363985508
          ],
          [
           2899.564229654071
          ],
          [
           5634.82123136347
          ],
          [
           3740.5243791076186
          ],
          [
           8698.72148985911
          ],
          [
           5464.016981777702
          ],
          [
           0.0
          ],
          [
           13587.301864651043
          ],
          [
           675.1015338263429
          ],
          [
           17571.07859392331
          ],
          [
           0.0
          ],
          [
           0.0
          ],
          [
           0.0
          ],
          [
           0.0
          ],
          [
           67142.9621295134
          ],
          [
           0.0
          ],
          [
           10420.73913625376
          ],
          [
           0.0
          ]
         ],
         "hovertemplate": "source=survey (2017/2019)<br>pdpurp_label=School<br>tlvorg_hr=%{x}<br>percentage=%{y}<br>toexpfac=%{customdata[0]}<extra></extra>",
         "legendgroup": "survey (2017/2019)",
         "marker": {
          "color": "#8CC63E",
          "pattern": {
           "shape": ""
          }
         },
         "name": "survey (2017/2019)",
         "offsetgroup": "survey (2017/2019)",
         "orientation": "v",
         "showlegend": false,
         "textposition": "auto",
         "x": [
          12,
          22,
          9,
          19,
          8,
          20,
          7,
          14,
          16,
          13,
          17,
          11,
          21,
          10,
          18,
          15,
          4,
          1,
          2,
          3,
          6,
          23,
          5,
          0
         ],
         "xaxis": "x5",
         "y": [
          0.01783981844052992,
          0.0,
          0.06897868967033205,
          1.4304235420289395E-4,
          0.3023914625303953,
          0.0,
          0.3520844385394772,
          0.005519340716902397,
          0.010725921480429116,
          0.0071201142216593665,
          0.016558076973415135,
          0.010400794401084797,
          0.0,
          0.025863523783144236,
          0.0012850604741166693,
          0.03344667054845797,
          0.0,
          0.0,
          0.0,
          0.0,
          0.127807096302561,
          0.0,
          0.019835949563291974,
          0.0
         ],
         "yaxis": "y5",
         "type": "bar"
        },
        {
         "alignmentgroup": "True",
         "customdata": [
          [
           0.0
          ],
          [
           18875.025830543796
          ],
          [
           102892.51383715212
          ],
          [
           35570.71695496433
          ],
          [
           16066.913929221464
          ],
          [
           44948.325094358785
          ],
          [
           64356.26229586239
          ],
          [
           0.54525469613021
          ],
          [
           91115.22510114146
          ],
          [
           608.1118660539306
          ],
          [
           89633.42932089814
          ],
          [
           28021.09586572641
          ],
          [
           37186.01221540865
          ],
          [
           2123.97370652186
          ],
          [
           83.24521252225395
          ],
          [
           6154.285694475871
          ],
          [
           13477.069989906293
          ],
          [
           22829.07546272082
          ],
          [
           51437.90924882699
          ],
          [
           134178.9118874883
          ],
          [
           313.64492561617914
          ],
          [
           11.087229656279533
          ],
          [
           25821.85826057283
          ],
          [
           557.4277959529772
          ]
         ],
         "hovertemplate": "source=survey (2017/2019)<br>pdpurp_label=Shop<br>tlvorg_hr=%{x}<br>percentage=%{y}<br>toexpfac=%{customdata[0]}<extra></extra>",
         "legendgroup": "survey (2017/2019)",
         "marker": {
          "color": "#8CC63E",
          "pattern": {
           "shape": ""
          }
         },
         "name": "survey (2017/2019)",
         "offsetgroup": "survey (2017/2019)",
         "orientation": "v",
         "showlegend": false,
         "textposition": "auto",
         "x": [
          1,
          21,
          10,
          16,
          20,
          17,
          15,
          2,
          11,
          4,
          12,
          13,
          19,
          23,
          0,
          6,
          7,
          8,
          14,
          9,
          5,
          3,
          18,
          22
         ],
         "xaxis": "x4",
         "y": [
          0.0,
          0.02400600540152188,
          0.13086277418247516,
          0.04524024661068652,
          0.020434537469428478,
          0.05716706004494252,
          0.08185084323414253,
          6.934765174904071E-7,
          0.11588395192547753,
          7.734207556737221E-4,
          0.11399934536526235,
          0.03563833950471529,
          0.04729464309710245,
          0.0027013538804775894,
          1.0587455823378287E-4,
          0.007827264288296878,
          0.017140671375974366,
          0.029034922324873844,
          0.06542077019423911,
          0.17065405432870717,
          3.9890603838633267E-4,
          1.410117778942885E-5,
          0.032841262017111884,
          7.089587479637414E-4
         ],
         "yaxis": "y4",
         "type": "bar"
        },
        {
         "alignmentgroup": "True",
         "customdata": [
          [
           0.0
          ],
          [
           6320.630172016206
          ],
          [
           5593.375487917708
          ],
          [
           10816.375339993583
          ],
          [
           0.0
          ],
          [
           47203.97984922029
          ],
          [
           0.0
          ],
          [
           23708.46135221934
          ],
          [
           0.0
          ],
          [
           9277.003714894172
          ],
          [
           33989.642419100965
          ],
          [
           62591.62622065111
          ],
          [
           5109.103377173227
          ],
          [
           9391.502890534057
          ],
          [
           79799.76079279724
          ],
          [
           104.37588060467607
          ],
          [
           23115.5301076332
          ],
          [
           0.0
          ],
          [
           10422.979978670437
          ],
          [
           496.1524996618177
          ],
          [
           11355.197307710754
          ],
          [
           24590.122393228026
          ],
          [
           4466.581191293693
          ],
          [
           1004.4129807216316
          ]
         ],
         "hovertemplate": "source=survey (2017/2019)<br>pdpurp_label=Meal<br>tlvorg_hr=%{x}<br>percentage=%{y}<br>toexpfac=%{customdata[0]}<extra></extra>",
         "legendgroup": "survey (2017/2019)",
         "marker": {
          "color": "#8CC63E",
          "pattern": {
           "shape": ""
          }
         },
         "name": "survey (2017/2019)",
         "offsetgroup": "survey (2017/2019)",
         "orientation": "v",
         "showlegend": false,
         "textposition": "auto",
         "x": [
          2,
          14,
          20,
          19,
          0,
          18,
          1,
          16,
          23,
          15,
          17,
          12,
          22,
          8,
          11,
          4,
          10,
          3,
          9,
          21,
          6,
          13,
          7,
          5
         ],
         "xaxis": "x3",
         "y": [
          0.0,
          0.017112531658258337,
          0.015143555707038845,
          0.02928435304643076,
          0.0,
          0.1278004846956421,
          0.0,
          0.0641885040600359,
          0.0,
          0.025116644297235695,
          0.09202386726009104,
          0.1694611385404149,
          0.013832432986551782,
          0.02542664040753762,
          0.2160505987099357,
          2.8258820918110377E-4,
          0.06258319661156765,
          0.0,
          0.028219270864489575,
          0.0013432877935774749,
          0.030743164546199915,
          0.06657552118736475,
          0.012092862572247738,
          0.002719356846199049
         ],
         "yaxis": "y3",
         "type": "bar"
        },
        {
         "alignmentgroup": "True",
         "customdata": [
          [
           330.4532993800188
          ],
          [
           72887.47341573531
          ],
          [
           53721.588782949155
          ],
          [
           5061.683382412337
          ],
          [
           636.9309530825855
          ],
          [
           17977.90415949376
          ],
          [
           57099.76069383569
          ],
          [
           3465.3706566656133
          ],
          [
           0.0
          ],
          [
           11720.50858389246
          ],
          [
           30992.119239703625
          ],
          [
           14689.853983763354
          ],
          [
           68.99716112623685
          ],
          [
           0.0
          ],
          [
           41300.91505807776
          ],
          [
           6335.466793934932
          ],
          [
           21614.712298822113
          ],
          [
           11401.469748573027
          ],
          [
           38700.83596111881
          ],
          [
           1608.8011555079397
          ],
          [
           0.0
          ],
          [
           14275.894103075521
          ],
          [
           21628.90027714401
          ],
          [
           9347.769180612215
          ]
         ],
         "hovertemplate": "source=survey (2017/2019)<br>pdpurp_label=Escort<br>tlvorg_hr=%{x}<br>percentage=%{y}<br>toexpfac=%{customdata[0]}<extra></extra>",
         "legendgroup": "survey (2017/2019)",
         "marker": {
          "color": "#8CC63E",
          "pattern": {
           "shape": ""
          }
         },
         "name": "survey (2017/2019)",
         "offsetgroup": "survey (2017/2019)",
         "orientation": "v",
         "showlegend": false,
         "textposition": "auto",
         "x": [
          23,
          8,
          17,
          6,
          22,
          19,
          7,
          5,
          0,
          20,
          18,
          9,
          3,
          2,
          14,
          21,
          13,
          12,
          15,
          4,
          1,
          11,
          16,
          10
         ],
         "xaxis": "x2",
         "y": [
          7.598943784367113E-4,
          0.1676084984201599,
          0.12353555977029577,
          0.011639601586481321,
          0.0014646555250253284,
          0.04134111637712195,
          0.1313038400364988,
          0.007968798272373857,
          0.0,
          0.026951913029855598,
          0.07126797411396961,
          0.033780075681680025,
          1.5866252498094937E-4,
          0.0,
          0.09497358094413717,
          0.014568732134059336,
          0.04970414396895841,
          0.0262182667993078,
          0.08899456517102558,
          0.0036995211014282576,
          0.0,
          0.032828153619400155,
          0.049736769955711815,
          0.021495676589091656
         ],
         "yaxis": "y2",
         "type": "bar"
        },
        {
         "alignmentgroup": "True",
         "customdata": [
          [
           700.3758568446026
          ],
          [
           2041.160644579677
          ],
          [
           4337.791814374123
          ],
          [
           107315.80528704856
          ],
          [
           71276.96887912306
          ],
          [
           47346.51151895759
          ],
          [
           18699.959783412443
          ],
          [
           4797.110596523592
          ],
          [
           693.650708366326
          ],
          [
           415.12771485007175
          ],
          [
           0.0
          ],
          [
           0.0
          ],
          [
           0.0
          ],
          [
           11826.822830027124
          ],
          [
           36066.865380506766
          ],
          [
           83275.02395238554
          ],
          [
           55075.73985185104
          ],
          [
           51540.587086667394
          ],
          [
           80591.80973502374
          ],
          [
           32255.442975107242
          ],
          [
           36318.721934705594
          ],
          [
           82767.19373577408
          ],
          [
           87578.65479472805
          ],
          [
           68.08898090709165
          ]
         ],
         "hovertemplate": "source=survey (2017/2019)<br>pdpurp_label=Personal Business<br>tlvorg_hr=%{x}<br>percentage=%{y}<br>toexpfac=%{customdata[0]}<extra></extra>",
         "legendgroup": "survey (2017/2019)",
         "marker": {
          "color": "#8CC63E",
          "pattern": {
           "shape": ""
          }
         },
         "name": "survey (2017/2019)",
         "offsetgroup": "survey (2017/2019)",
         "orientation": "v",
         "showlegend": false,
         "textposition": "auto",
         "x": [
          22,
          21,
          20,
          11,
          8,
          7,
          6,
          5,
          4,
          3,
          2,
          1,
          0,
          19,
          18,
          17,
          16,
          15,
          14,
          13,
          12,
          10,
          9,
          23
         ],
         "xaxis": "x",
         "y": [
          8.593680417933929E-4,
          0.00250452411940775,
          0.005322513077507758,
          0.13167754505203383,
          0.0874575395082633,
          0.05809463374866541,
          0.022945033960889302,
          0.0058861017256845545,
          8.511162186871764E-4,
          5.09365775416822E-4,
          0.0,
          0.0,
          0.0,
          0.014511627545055243,
          0.04425439736788219,
          0.10217927069427502,
          0.0675784726790048,
          0.06324080558273534,
          0.09888694054732361,
          0.03957774471493046,
          0.04456342782871188,
          0.10155615804047927,
          0.10745986792423652,
          8.354584701627983E-5
         ],
         "yaxis": "y",
         "type": "bar"
        },
        {
         "alignmentgroup": "True",
         "customdata": [
          [
           74931.36061469567
          ],
          [
           26888.87088729341
          ],
          [
           37766.29203659509
          ],
          [
           311397.3539980396
          ],
          [
           32953.441417655355
          ],
          [
           12103.96345685936
          ],
          [
           30687.93229808931
          ],
          [
           7463.727136272968
          ],
          [
           206346.4784044589
          ],
          [
           248864.7757878116
          ],
          [
           127703.56018230687
          ],
          [
           59092.50410617798
          ],
          [
           99400.45954333011
          ],
          [
           255.98038726538
          ],
          [
           26993.205859767655
          ],
          [
           3106.2604648083056
          ],
          [
           9067.667081552123
          ],
          [
           551.958469674964
          ],
          [
           1354.8011261771376
          ],
          [
           2491.513138185322
          ],
          [
           0.0
          ],
          [
           1284.2515745934531
          ],
          [
           0.0
          ],
          [
           15880.497234966046
          ]
         ],
         "hovertemplate": "source=survey<br>pdpurp_label=Work<br>tlvorg_hr=%{x}<br>percentage=%{y}<br>toexpfac=%{customdata[0]}<extra></extra>",
         "legendgroup": "survey",
         "marker": {
          "color": "#00A7A0",
          "pattern": {
           "shape": ""
          }
         },
         "name": "survey",
         "offsetgroup": "survey",
         "orientation": "v",
         "showlegend": true,
         "textposition": "auto",
         "x": [
          4,
          12,
          11,
          7,
          14,
          3,
          13,
          22,
          8,
          6,
          9,
          10,
          5,
          23,
          15,
          18,
          17,
          1,
          19,
          20,
          0,
          21,
          2,
          16
         ],
         "xaxis": "x6",
         "y": [
          0.05606172193210342,
          0.02011756346589058,
          0.028255770950820932,
          0.2329795125434714,
          0.024654919573155777,
          0.009055874977154871,
          0.02295992376293894,
          0.005584169189752662,
          0.1543831421060676,
          0.18619424156266165,
          0.09554452797799631,
          0.044211495778211075,
          0.0743688740885958,
          1.9151795954615823E-4,
          0.020195624215977877,
          0.0023240244004406408,
          0.006784195913815617,
          4.129611686100683E-4,
          0.001013627450322146,
          0.0018640862196720059,
          0.0,
          9.608440855083564E-4,
          0.0,
          0.011881380677286123
         ],
         "yaxis": "y6",
         "type": "bar"
        },
        {
         "alignmentgroup": "True",
         "customdata": [
          [
           48085.789689652025
          ],
          [
           156.064494787723
          ],
          [
           224775.58031354484
          ],
          [
           0.0
          ],
          [
           0.0
          ],
          [
           177732.16684628095
          ],
          [
           387.7845844848059
          ],
          [
           0.0
          ],
          [
           5015.600869289834
          ],
          [
           7404.664188706871
          ],
          [
           1663.303637075868
          ],
          [
           3333.2504709461364
          ],
          [
           4969.783185943033
          ],
          [
           278.949359175002
          ],
          [
           2229.5902946540955
          ],
          [
           16161.271083577121
          ],
          [
           75.6029420675361
          ],
          [
           0.0
          ],
          [
           26697.98862443798
          ],
          [
           0.0
          ],
          [
           0.0
          ],
          [
           0.0
          ],
          [
           944.6388505184881
          ],
          [
           0.0
          ]
         ],
         "hovertemplate": "source=survey<br>pdpurp_label=School<br>tlvorg_hr=%{x}<br>percentage=%{y}<br>toexpfac=%{customdata[0]}<extra></extra>",
         "legendgroup": "survey",
         "marker": {
          "color": "#00A7A0",
          "pattern": {
           "shape": ""
          }
         },
         "name": "survey",
         "offsetgroup": "survey",
         "orientation": "v",
         "showlegend": false,
         "textposition": "auto",
         "x": [
          9,
          19,
          8,
          21,
          20,
          7,
          15,
          22,
          12,
          13,
          17,
          11,
          16,
          18,
          14,
          10,
          4,
          1,
          6,
          2,
          3,
          23,
          5,
          0
         ],
         "xaxis": "x5",
         "y": [
          0.09248831911409083,
          3.001748102602647E-4,
          0.43233387109306154,
          0.0,
          0.0,
          0.34185046081618425,
          7.458657667646466E-4,
          0.0,
          0.009647018313346254,
          0.014242148227944751,
          0.003199202062862369,
          0.006411181665805159,
          0.009558892475218253,
          5.365318426620482E-4,
          0.0042883991298997845,
          0.031084626184040235,
          1.454148736463644E-4,
          0.0,
          0.05135097307412559,
          0.0,
          0.0,
          0.0,
          0.0018169205500876556,
          0.0
         ],
         "yaxis": "y5",
         "type": "bar"
        },
        {
         "alignmentgroup": "True",
         "customdata": [
          [
           82880.44853573835
          ],
          [
           53869.43630344453
          ],
          [
           766.8642961489354
          ],
          [
           32651.12387925837
          ],
          [
           306.34798152004703
          ],
          [
           55309.722403559426
          ],
          [
           0.0
          ],
          [
           0.0
          ],
          [
           45890.27107482398
          ],
          [
           50827.82088511192
          ],
          [
           17193.175848295632
          ],
          [
           8.1104247487979
          ],
          [
           42465.29577867403
          ],
          [
           14566.762652314472
          ],
          [
           313.25665406101865
          ],
          [
           484.372679805163
          ],
          [
           2933.980540218817
          ],
          [
           13516.04984109138
          ],
          [
           50812.55489726758
          ],
          [
           666.5076935107627
          ],
          [
           75501.37025013978
          ],
          [
           1307.6060667162533
          ],
          [
           59091.909043428306
          ],
          [
           0.0
          ]
         ],
         "hovertemplate": "source=survey<br>pdpurp_label=Shop<br>tlvorg_hr=%{x}<br>percentage=%{y}<br>toexpfac=%{customdata[0]}<extra></extra>",
         "legendgroup": "survey",
         "marker": {
          "color": "#00A7A0",
          "pattern": {
           "shape": ""
          }
         },
         "name": "survey",
         "offsetgroup": "survey",
         "orientation": "v",
         "showlegend": false,
         "textposition": "auto",
         "x": [
          10,
          16,
          21,
          15,
          2,
          11,
          1,
          4,
          12,
          13,
          19,
          23,
          17,
          7,
          6,
          0,
          20,
          8,
          9,
          5,
          14,
          22,
          18,
          3
         ],
         "xaxis": "x4",
         "y": [
          0.13782100033892825,
          0.0895789022646698,
          0.0012752103335188934,
          0.0542952003124022,
          5.094227409580012E-4,
          0.09197393842336643,
          0.0,
          0.0,
          0.07631043481418437,
          0.08452103292386685,
          0.028590345929334987,
          1.348673748514927E-5,
          0.07061508048404992,
          0.024222911867761345,
          5.20911097710803E-4,
          8.05458083866537E-4,
          0.004878884467590003,
          0.022475692912385506,
          0.08449564727799934,
          0.0011083284257762584,
          0.1255504109675166,
          0.0021744039679801653,
          0.09826329562864854,
          0.0
         ],
         "yaxis": "y4",
         "type": "bar"
        },
        {
         "alignmentgroup": "True",
         "customdata": [
          [
           0.0
          ],
          [
           11239.722298735183
          ],
          [
           34280.917362739485
          ],
          [
           0.0
          ],
          [
           18416.898389247777
          ],
          [
           7901.458825086892
          ],
          [
           41737.41209779713
          ],
          [
           0.0
          ],
          [
           36491.245582423144
          ],
          [
           52022.95421104775
          ],
          [
           18899.623555029862
          ],
          [
           1328.6639472156842
          ],
          [
           13430.676065534126
          ],
          [
           37661.62049466345
          ],
          [
           71.5547812881571
          ],
          [
           45.94185906792442
          ],
          [
           16592.386288810565
          ],
          [
           16320.043882478165
          ],
          [
           51142.26052510319
          ],
          [
           10.6381727331061
          ],
          [
           0.0
          ],
          [
           1619.3993794124167
          ],
          [
           14795.148137337195
          ],
          [
           24185.69173063007
          ]
         ],
         "hovertemplate": "source=survey<br>pdpurp_label=Meal<br>tlvorg_hr=%{x}<br>percentage=%{y}<br>toexpfac=%{customdata[0]}<extra></extra>",
         "legendgroup": "survey",
         "marker": {
          "color": "#00A7A0",
          "pattern": {
           "shape": ""
          }
         },
         "name": "survey",
         "offsetgroup": "survey",
         "orientation": "v",
         "showlegend": false,
         "textposition": "auto",
         "x": [
          2,
          14,
          13,
          1,
          15,
          20,
          19,
          0,
          18,
          17,
          16,
          23,
          21,
          12,
          22,
          5,
          8,
          10,
          11,
          4,
          3,
          6,
          9,
          7
         ],
         "xaxis": "x3",
         "y": [
          0.0,
          0.02822673126142941,
          0.08609093855479028,
          0.0,
          0.046251039632967464,
          0.019843226451784803,
          0.10481671019261982,
          0.0,
          0.091641817748984,
          0.13064717338311257,
          0.04746332523625085,
          0.0033367230237554436,
          0.03372895467388948,
          0.09458102365148605,
          1.7969817475992742E-4,
          1.1537549372609457E-4,
          0.041669074761107365,
          0.04098513118044606,
          0.12843545468258988,
          2.671603753803088E-5,
          0.0,
          0.004066857692092951,
          0.037155603968316006,
          0.060738424198353506
         ],
         "yaxis": "y3",
         "type": "bar"
        },
        {
         "alignmentgroup": "True",
         "customdata": [
          [
           0.0
          ],
          [
           116124.1521570951
          ],
          [
           2041.5346810067565
          ],
          [
           24639.46947086319
          ],
          [
           4675.392899869981
          ],
          [
           5242.84440129033
          ],
          [
           123296.6342048758
          ],
          [
           0.0
          ],
          [
           5787.7129099278745
          ],
          [
           15977.137961084289
          ],
          [
           52928.80856852308
          ],
          [
           0.0
          ],
          [
           0.0
          ],
          [
           72334.71357971721
          ],
          [
           17818.680021405922
          ],
          [
           72148.76360733972
          ],
          [
           898.5433493495459
          ],
          [
           37185.89248753225
          ],
          [
           19721.257583932624
          ],
          [
           44784.663242596966
          ],
          [
           3756.89486105699
          ],
          [
           0.0
          ],
          [
           25184.812052210033
          ],
          [
           15896.147247396682
          ]
         ],
         "hovertemplate": "source=survey<br>pdpurp_label=Escort<br>tlvorg_hr=%{x}<br>percentage=%{y}<br>toexpfac=%{customdata[0]}<extra></extra>",
         "legendgroup": "survey",
         "marker": {
          "color": "#00A7A0",
          "pattern": {
           "shape": ""
          }
         },
         "name": "survey",
         "offsetgroup": "survey",
         "orientation": "v",
         "showlegend": false,
         "textposition": "auto",
         "x": [
          23,
          8,
          20,
          6,
          22,
          19,
          7,
          0,
          18,
          5,
          17,
          3,
          2,
          15,
          12,
          14,
          21,
          13,
          11,
          9,
          4,
          1,
          16,
          10
         ],
         "xaxis": "x2",
         "y": [
          0.0,
          0.1758273864795703,
          0.0030911546022158766,
          0.03730742865139908,
          0.007079165695325601,
          0.00793836262030011,
          0.18668747673303324,
          0.0,
          0.00876336589540826,
          0.02419150847552035,
          0.08014124458356521,
          0.0,
          0.0,
          0.10952436167856122,
          0.026979847693020267,
          0.10924280872810478,
          0.0013605139483903407,
          0.05630437913680472,
          0.02986060276575646,
          0.06780992709992746,
          0.005688437697306528,
          0.0,
          0.03813314973554117,
          0.024068877780249118
         ],
         "yaxis": "y2",
         "type": "bar"
        },
        {
         "alignmentgroup": "True",
         "customdata": [
          [
           208.4084893501812
          ],
          [
           46.9407483680735
          ],
          [
           817.8571988340667
          ],
          [
           7876.896164187974
          ],
          [
           23567.089314725887
          ],
          [
           29389.618600086997
          ],
          [
           5380.734653984139
          ],
          [
           10663.035371550308
          ],
          [
           0.0
          ],
          [
           0.0
          ],
          [
           0.0
          ],
          [
           0.0
          ],
          [
           0.0
          ],
          [
           21265.687914254788
          ],
          [
           5254.77023384645
          ],
          [
           15870.549173199572
          ],
          [
           8036.79642291079
          ],
          [
           28112.636222380566
          ],
          [
           40365.683206848276
          ],
          [
           28689.578870672533
          ],
          [
           20348.921996687346
          ],
          [
           0.0
          ],
          [
           29667.336826761086
          ],
          [
           31020.636880102902
          ]
         ],
         "hovertemplate": "source=survey<br>pdpurp_label=Personal Business<br>tlvorg_hr=%{x}<br>percentage=%{y}<br>toexpfac=%{customdata[0]}<extra></extra>",
         "legendgroup": "survey",
         "marker": {
          "color": "#00A7A0",
          "pattern": {
           "shape": ""
          }
         },
         "name": "survey",
         "offsetgroup": "survey",
         "orientation": "v",
         "showlegend": false,
         "textposition": "auto",
         "x": [
          21,
          22,
          20,
          19,
          8,
          7,
          6,
          5,
          4,
          3,
          2,
          1,
          0,
          9,
          18,
          17,
          16,
          15,
          14,
          13,
          12,
          23,
          11,
          10
         ],
         "xaxis": "x",
         "y": [
          6.797779660105618E-4,
          1.531093409301892E-4,
          0.0026676519024921097,
          0.02569252562438115,
          0.07687013177392756,
          0.09586181069728071,
          0.017550651943846557,
          0.03478023625127745,
          0.0,
          0.0,
          0.0,
          0.0,
          0.0,
          0.06936351835398463,
          0.017139786543987432,
          0.051765883770218055,
          0.026214081502349825,
          0.09169660377094466,
          0.1316630724234658,
          0.09357845081654015,
          0.06637325019026954,
          0.0,
          0.09676766022309038,
          0.10118179690500326
         ],
         "yaxis": "y",
         "type": "bar"
        }
       ],
       "layout": {
        "template": {
         "data": {
          "barpolar": [
           {
            "marker": {
             "line": {
              "color": "white",
              "width": 0.5
             },
             "pattern": {
              "fillmode": "overlay",
              "size": 10,
              "solidity": 0.2
             }
            },
            "type": "barpolar"
           }
          ],
          "bar": [
           {
            "error_x": {
             "color": "rgb(36,36,36)"
            },
            "error_y": {
             "color": "rgb(36,36,36)"
            },
            "marker": {
             "line": {
              "color": "white",
              "width": 0.5
             },
             "pattern": {
              "fillmode": "overlay",
              "size": 10,
              "solidity": 0.2
             }
            },
            "type": "bar"
           }
          ],
          "carpet": [
           {
            "aaxis": {
             "endlinecolor": "rgb(36,36,36)",
             "gridcolor": "white",
             "linecolor": "white",
             "minorgridcolor": "white",
             "startlinecolor": "rgb(36,36,36)"
            },
            "baxis": {
             "endlinecolor": "rgb(36,36,36)",
             "gridcolor": "white",
             "linecolor": "white",
             "minorgridcolor": "white",
             "startlinecolor": "rgb(36,36,36)"
            },
            "type": "carpet"
           }
          ],
          "choropleth": [
           {
            "colorbar": {
             "outlinewidth": 1,
             "tickcolor": "rgb(36,36,36)",
             "ticks": "outside"
            },
            "type": "choropleth"
           }
          ],
          "contourcarpet": [
           {
            "colorbar": {
             "outlinewidth": 1,
             "tickcolor": "rgb(36,36,36)",
             "ticks": "outside"
            },
            "type": "contourcarpet"
           }
          ],
          "contour": [
           {
            "colorbar": {
             "outlinewidth": 1,
             "tickcolor": "rgb(36,36,36)",
             "ticks": "outside"
            },
            "colorscale": [
             [
              0.0,
              "#440154"
             ],
             [
              0.1111111111111111,
              "#482878"
             ],
             [
              0.2222222222222222,
              "#3e4989"
             ],
             [
              0.3333333333333333,
              "#31688e"
             ],
             [
              0.4444444444444444,
              "#26828e"
             ],
             [
              0.5555555555555556,
              "#1f9e89"
             ],
             [
              0.6666666666666666,
              "#35b779"
             ],
             [
              0.7777777777777778,
              "#6ece58"
             ],
             [
              0.8888888888888888,
              "#b5de2b"
             ],
             [
              1.0,
              "#fde725"
             ]
            ],
            "type": "contour"
           }
          ],
          "heatmapgl": [
           {
            "colorbar": {
             "outlinewidth": 1,
             "tickcolor": "rgb(36,36,36)",
             "ticks": "outside"
            },
            "colorscale": [
             [
              0.0,
              "#440154"
             ],
             [
              0.1111111111111111,
              "#482878"
             ],
             [
              0.2222222222222222,
              "#3e4989"
             ],
             [
              0.3333333333333333,
              "#31688e"
             ],
             [
              0.4444444444444444,
              "#26828e"
             ],
             [
              0.5555555555555556,
              "#1f9e89"
             ],
             [
              0.6666666666666666,
              "#35b779"
             ],
             [
              0.7777777777777778,
              "#6ece58"
             ],
             [
              0.8888888888888888,
              "#b5de2b"
             ],
             [
              1.0,
              "#fde725"
             ]
            ],
            "type": "heatmapgl"
           }
          ],
          "heatmap": [
           {
            "colorbar": {
             "outlinewidth": 1,
             "tickcolor": "rgb(36,36,36)",
             "ticks": "outside"
            },
            "colorscale": [
             [
              0.0,
              "#440154"
             ],
             [
              0.1111111111111111,
              "#482878"
             ],
             [
              0.2222222222222222,
              "#3e4989"
             ],
             [
              0.3333333333333333,
              "#31688e"
             ],
             [
              0.4444444444444444,
              "#26828e"
             ],
             [
              0.5555555555555556,
              "#1f9e89"
             ],
             [
              0.6666666666666666,
              "#35b779"
             ],
             [
              0.7777777777777778,
              "#6ece58"
             ],
             [
              0.8888888888888888,
              "#b5de2b"
             ],
             [
              1.0,
              "#fde725"
             ]
            ],
            "type": "heatmap"
           }
          ],
          "histogram2dcontour": [
           {
            "colorbar": {
             "outlinewidth": 1,
             "tickcolor": "rgb(36,36,36)",
             "ticks": "outside"
            },
            "colorscale": [
             [
              0.0,
              "#440154"
             ],
             [
              0.1111111111111111,
              "#482878"
             ],
             [
              0.2222222222222222,
              "#3e4989"
             ],
             [
              0.3333333333333333,
              "#31688e"
             ],
             [
              0.4444444444444444,
              "#26828e"
             ],
             [
              0.5555555555555556,
              "#1f9e89"
             ],
             [
              0.6666666666666666,
              "#35b779"
             ],
             [
              0.7777777777777778,
              "#6ece58"
             ],
             [
              0.8888888888888888,
              "#b5de2b"
             ],
             [
              1.0,
              "#fde725"
             ]
            ],
            "type": "histogram2dcontour"
           }
          ],
          "histogram2d": [
           {
            "colorbar": {
             "outlinewidth": 1,
             "tickcolor": "rgb(36,36,36)",
             "ticks": "outside"
            },
            "colorscale": [
             [
              0.0,
              "#440154"
             ],
             [
              0.1111111111111111,
              "#482878"
             ],
             [
              0.2222222222222222,
              "#3e4989"
             ],
             [
              0.3333333333333333,
              "#31688e"
             ],
             [
              0.4444444444444444,
              "#26828e"
             ],
             [
              0.5555555555555556,
              "#1f9e89"
             ],
             [
              0.6666666666666666,
              "#35b779"
             ],
             [
              0.7777777777777778,
              "#6ece58"
             ],
             [
              0.8888888888888888,
              "#b5de2b"
             ],
             [
              1.0,
              "#fde725"
             ]
            ],
            "type": "histogram2d"
           }
          ],
          "histogram": [
           {
            "marker": {
             "line": {
              "color": "white",
              "width": 0.6
             }
            },
            "type": "histogram"
           }
          ],
          "mesh3d": [
           {
            "colorbar": {
             "outlinewidth": 1,
             "tickcolor": "rgb(36,36,36)",
             "ticks": "outside"
            },
            "type": "mesh3d"
           }
          ],
          "parcoords": [
           {
            "line": {
             "colorbar": {
              "outlinewidth": 1,
              "tickcolor": "rgb(36,36,36)",
              "ticks": "outside"
             }
            },
            "type": "parcoords"
           }
          ],
          "pie": [
           {
            "automargin": true,
            "type": "pie"
           }
          ],
          "scatter3d": [
           {
            "line": {
             "colorbar": {
              "outlinewidth": 1,
              "tickcolor": "rgb(36,36,36)",
              "ticks": "outside"
             }
            },
            "marker": {
             "colorbar": {
              "outlinewidth": 1,
              "tickcolor": "rgb(36,36,36)",
              "ticks": "outside"
             }
            },
            "type": "scatter3d"
           }
          ],
          "scattercarpet": [
           {
            "marker": {
             "colorbar": {
              "outlinewidth": 1,
              "tickcolor": "rgb(36,36,36)",
              "ticks": "outside"
             }
            },
            "type": "scattercarpet"
           }
          ],
          "scattergeo": [
           {
            "marker": {
             "colorbar": {
              "outlinewidth": 1,
              "tickcolor": "rgb(36,36,36)",
              "ticks": "outside"
             }
            },
            "type": "scattergeo"
           }
          ],
          "scattergl": [
           {
            "marker": {
             "colorbar": {
              "outlinewidth": 1,
              "tickcolor": "rgb(36,36,36)",
              "ticks": "outside"
             }
            },
            "type": "scattergl"
           }
          ],
          "scattermapbox": [
           {
            "marker": {
             "colorbar": {
              "outlinewidth": 1,
              "tickcolor": "rgb(36,36,36)",
              "ticks": "outside"
             }
            },
            "type": "scattermapbox"
           }
          ],
          "scatterpolargl": [
           {
            "marker": {
             "colorbar": {
              "outlinewidth": 1,
              "tickcolor": "rgb(36,36,36)",
              "ticks": "outside"
             }
            },
            "type": "scatterpolargl"
           }
          ],
          "scatterpolar": [
           {
            "marker": {
             "colorbar": {
              "outlinewidth": 1,
              "tickcolor": "rgb(36,36,36)",
              "ticks": "outside"
             }
            },
            "type": "scatterpolar"
           }
          ],
          "scatter": [
           {
            "fillpattern": {
             "fillmode": "overlay",
             "size": 10,
             "solidity": 0.2
            },
            "type": "scatter"
           }
          ],
          "scatterternary": [
           {
            "marker": {
             "colorbar": {
              "outlinewidth": 1,
              "tickcolor": "rgb(36,36,36)",
              "ticks": "outside"
             }
            },
            "type": "scatterternary"
           }
          ],
          "surface": [
           {
            "colorbar": {
             "outlinewidth": 1,
             "tickcolor": "rgb(36,36,36)",
             "ticks": "outside"
            },
            "colorscale": [
             [
              0.0,
              "#440154"
             ],
             [
              0.1111111111111111,
              "#482878"
             ],
             [
              0.2222222222222222,
              "#3e4989"
             ],
             [
              0.3333333333333333,
              "#31688e"
             ],
             [
              0.4444444444444444,
              "#26828e"
             ],
             [
              0.5555555555555556,
              "#1f9e89"
             ],
             [
              0.6666666666666666,
              "#35b779"
             ],
             [
              0.7777777777777778,
              "#6ece58"
             ],
             [
              0.8888888888888888,
              "#b5de2b"
             ],
             [
              1.0,
              "#fde725"
             ]
            ],
            "type": "surface"
           }
          ],
          "table": [
           {
            "cells": {
             "fill": {
              "color": "rgb(237,237,237)"
             },
             "line": {
              "color": "white"
             }
            },
            "header": {
             "fill": {
              "color": "rgb(217,217,217)"
             },
             "line": {
              "color": "white"
             }
            },
            "type": "table"
           }
          ]
         },
         "layout": {
          "annotationdefaults": {
           "arrowhead": 0,
           "arrowwidth": 1
          },
          "autotypenumbers": "strict",
          "coloraxis": {
           "colorbar": {
            "outlinewidth": 1,
            "tickcolor": "rgb(36,36,36)",
            "ticks": "outside"
           }
          },
          "colorscale": {
           "diverging": [
            [
             0.0,
             "rgb(103,0,31)"
            ],
            [
             0.1,
             "rgb(178,24,43)"
            ],
            [
             0.2,
             "rgb(214,96,77)"
            ],
            [
             0.3,
             "rgb(244,165,130)"
            ],
            [
             0.4,
             "rgb(253,219,199)"
            ],
            [
             0.5,
             "rgb(247,247,247)"
            ],
            [
             0.6,
             "rgb(209,229,240)"
            ],
            [
             0.7,
             "rgb(146,197,222)"
            ],
            [
             0.8,
             "rgb(67,147,195)"
            ],
            [
             0.9,
             "rgb(33,102,172)"
            ],
            [
             1.0,
             "rgb(5,48,97)"
            ]
           ],
           "sequential": [
            [
             0.0,
             "#440154"
            ],
            [
             0.1111111111111111,
             "#482878"
            ],
            [
             0.2222222222222222,
             "#3e4989"
            ],
            [
             0.3333333333333333,
             "#31688e"
            ],
            [
             0.4444444444444444,
             "#26828e"
            ],
            [
             0.5555555555555556,
             "#1f9e89"
            ],
            [
             0.6666666666666666,
             "#35b779"
            ],
            [
             0.7777777777777778,
             "#6ece58"
            ],
            [
             0.8888888888888888,
             "#b5de2b"
            ],
            [
             1.0,
             "#fde725"
            ]
           ],
           "sequentialminus": [
            [
             0.0,
             "#440154"
            ],
            [
             0.1111111111111111,
             "#482878"
            ],
            [
             0.2222222222222222,
             "#3e4989"
            ],
            [
             0.3333333333333333,
             "#31688e"
            ],
            [
             0.4444444444444444,
             "#26828e"
            ],
            [
             0.5555555555555556,
             "#1f9e89"
            ],
            [
             0.6666666666666666,
             "#35b779"
            ],
            [
             0.7777777777777778,
             "#6ece58"
            ],
            [
             0.8888888888888888,
             "#b5de2b"
            ],
            [
             1.0,
             "#fde725"
            ]
           ]
          },
          "colorway": [
           "#91268F",
           "#8CC63E",
           "#00A7A0",
           "#F05A28",
           "#4C4C4C",
           "#630460",
           "#9f3913",
           "#588527",
           "#00716c",
           "#3e4040"
          ],
          "font": {
           "color": "rgb(36,36,36)",
           "family": "Poppins",
           "size": 11
          },
          "geo": {
           "bgcolor": "white",
           "lakecolor": "white",
           "landcolor": "white",
           "showlakes": true,
           "showland": true,
           "subunitcolor": "white"
          },
          "hoverlabel": {
           "align": "left"
          },
          "hovermode": "closest",
          "mapbox": {
           "style": "light"
          },
          "paper_bgcolor": "white",
          "plot_bgcolor": "white",
          "polar": {
           "angularaxis": {
            "gridcolor": "rgb(232,232,232)",
            "linecolor": "rgb(36,36,36)",
            "showgrid": false,
            "showline": true,
            "ticks": "outside"
           },
           "bgcolor": "white",
           "radialaxis": {
            "gridcolor": "rgb(232,232,232)",
            "linecolor": "rgb(36,36,36)",
            "showgrid": false,
            "showline": true,
            "ticks": "outside"
           }
          },
          "scene": {
           "xaxis": {
            "backgroundcolor": "white",
            "gridcolor": "rgb(232,232,232)",
            "gridwidth": 2,
            "linecolor": "rgb(36,36,36)",
            "showbackground": true,
            "showgrid": false,
            "showline": true,
            "ticks": "outside",
            "zeroline": false,
            "zerolinecolor": "rgb(36,36,36)"
           },
           "yaxis": {
            "backgroundcolor": "white",
            "gridcolor": "rgb(232,232,232)",
            "gridwidth": 2,
            "linecolor": "rgb(36,36,36)",
            "showbackground": true,
            "showgrid": false,
            "showline": true,
            "ticks": "outside",
            "zeroline": false,
            "zerolinecolor": "rgb(36,36,36)"
           },
           "zaxis": {
            "backgroundcolor": "white",
            "gridcolor": "rgb(232,232,232)",
            "gridwidth": 2,
            "linecolor": "rgb(36,36,36)",
            "showbackground": true,
            "showgrid": false,
            "showline": true,
            "ticks": "outside",
            "zeroline": false,
            "zerolinecolor": "rgb(36,36,36)"
           }
          },
          "shapedefaults": {
           "fillcolor": "black",
           "line": {
            "width": 0
           },
           "opacity": 0.3
          },
          "ternary": {
           "aaxis": {
            "gridcolor": "rgb(232,232,232)",
            "linecolor": "rgb(36,36,36)",
            "showgrid": false,
            "showline": true,
            "ticks": "outside"
           },
           "baxis": {
            "gridcolor": "rgb(232,232,232)",
            "linecolor": "rgb(36,36,36)",
            "showgrid": false,
            "showline": true,
            "ticks": "outside"
           },
           "bgcolor": "white",
           "caxis": {
            "gridcolor": "rgb(232,232,232)",
            "linecolor": "rgb(36,36,36)",
            "showgrid": false,
            "showline": true,
            "ticks": "outside"
           }
          },
          "title": {
           "x": 0.05
          },
          "xaxis": {
           "automargin": true,
           "gridcolor": "rgb(232,232,232)",
           "linecolor": "rgb(36,36,36)",
           "showgrid": false,
           "showline": true,
           "ticks": "outside",
           "title": {
            "standoff": 15
           },
           "zeroline": false,
           "zerolinecolor": "rgb(36,36,36)"
          },
          "yaxis": {
           "automargin": true,
           "gridcolor": "rgb(232,232,232)",
           "linecolor": "rgb(36,36,36)",
           "showgrid": false,
           "showline": true,
           "ticks": "outside",
           "title": {
            "standoff": 15
           },
           "zeroline": false,
           "zerolinecolor": "rgb(36,36,36)"
          }
         }
        },
        "xaxis": {
         "anchor": "y",
         "domain": [
          0.0,
          0.98
         ],
         "title": {
          "text": "tlvorg_hr"
         },
         "dtick": 1,
         "categoryorder": "category ascending"
        },
        "yaxis": {
         "anchor": "x",
         "domain": [
          0.0,
          0.14166666666666666
         ],
         "title": {
          "text": "percentage"
         },
         "tickformat": ".0%"
        },
        "xaxis2": {
         "anchor": "y2",
         "domain": [
          0.0,
          0.98
         ],
         "matches": "x",
         "showticklabels": false,
         "dtick": 1,
         "categoryorder": "category ascending"
        },
        "yaxis2": {
         "anchor": "x2",
         "domain": [
          0.17166666666666666,
          0.31333333333333335
         ],
         "matches": "y",
         "title": {
          "text": "percentage"
         },
         "tickformat": ".0%"
        },
        "xaxis3": {
         "anchor": "y3",
         "domain": [
          0.0,
          0.98
         ],
         "matches": "x",
         "showticklabels": false,
         "dtick": 1,
         "categoryorder": "category ascending"
        },
        "yaxis3": {
         "anchor": "x3",
         "domain": [
          0.3433333333333333,
          0.485
         ],
         "matches": "y",
         "title": {
          "text": "percentage"
         },
         "tickformat": ".0%"
        },
        "xaxis4": {
         "anchor": "y4",
         "domain": [
          0.0,
          0.98
         ],
         "matches": "x",
         "showticklabels": false,
         "dtick": 1,
         "categoryorder": "category ascending"
        },
        "yaxis4": {
         "anchor": "x4",
         "domain": [
          0.515,
          0.6566666666666667
         ],
         "matches": "y",
         "title": {
          "text": "percentage"
         },
         "tickformat": ".0%"
        },
        "xaxis5": {
         "anchor": "y5",
         "domain": [
          0.0,
          0.98
         ],
         "matches": "x",
         "showticklabels": false,
         "dtick": 1,
         "categoryorder": "category ascending"
        },
        "yaxis5": {
         "anchor": "x5",
         "domain": [
          0.6866666666666666,
          0.8283333333333334
         ],
         "matches": "y",
         "title": {
          "text": "percentage"
         },
         "tickformat": ".0%"
        },
        "xaxis6": {
         "anchor": "y6",
         "domain": [
          0.0,
          0.98
         ],
         "matches": "x",
         "showticklabels": false,
         "dtick": 1,
         "categoryorder": "category ascending"
        },
        "yaxis6": {
         "anchor": "x6",
         "domain": [
          0.8583333333333333,
          1.0
         ],
         "matches": "y",
         "title": {
          "text": "percentage"
         },
         "tickformat": ".0%"
        },
        "annotations": [
         {
          "font": {},
          "showarrow": false,
          "text": "Personal Business",
          "textangle": 90,
          "x": 0.98,
          "xanchor": "left",
          "xref": "paper",
          "y": 0.07083333333333333,
          "yanchor": "middle",
          "yref": "paper"
         },
         {
          "font": {},
          "showarrow": false,
          "text": "Escort",
          "textangle": 90,
          "x": 0.98,
          "xanchor": "left",
          "xref": "paper",
          "y": 0.2425,
          "yanchor": "middle",
          "yref": "paper"
         },
         {
          "font": {},
          "showarrow": false,
          "text": "Meal",
          "textangle": 90,
          "x": 0.98,
          "xanchor": "left",
          "xref": "paper",
          "y": 0.4141666666666667,
          "yanchor": "middle",
          "yref": "paper"
         },
         {
          "font": {},
          "showarrow": false,
          "text": "Shop",
          "textangle": 90,
          "x": 0.98,
          "xanchor": "left",
          "xref": "paper",
          "y": 0.5858333333333334,
          "yanchor": "middle",
          "yref": "paper"
         },
         {
          "font": {},
          "showarrow": false,
          "text": "School",
          "textangle": 90,
          "x": 0.98,
          "xanchor": "left",
          "xref": "paper",
          "y": 0.7575000000000001,
          "yanchor": "middle",
          "yref": "paper"
         },
         {
          "font": {},
          "showarrow": false,
          "text": "Work",
          "textangle": 90,
          "x": 0.98,
          "xanchor": "left",
          "xref": "paper",
          "y": 0.9291666666666667,
          "yanchor": "middle",
          "yref": "paper"
         }
        ],
        "legend": {
         "title": {
          "text": "source"
         },
         "tracegroupgap": 0
        },
        "title": {
         "text": "tour origin departure hour by purpose"
        },
        "barmode": "group",
        "height": 1500,
        "width": 700
       },
       "config": {
        "plotlyServerURL": "https://plot.ly"
       }
      },
      "text/html": [
       "<div>                            <div id=\"93dd4cf6-4e8c-47c1-ac04-dde90e779c36\" class=\"plotly-graph-div\" style=\"height:1500px; width:700px;\"></div>            <script type=\"text/javascript\">                require([\"plotly\"], function(Plotly) {                    window.PLOTLYENV=window.PLOTLYENV || {};                                    if (document.getElementById(\"93dd4cf6-4e8c-47c1-ac04-dde90e779c36\")) {                    Plotly.newPlot(                        \"93dd4cf6-4e8c-47c1-ac04-dde90e779c36\",                        [{\"alignmentgroup\":\"True\",\"customdata\":[[1016.0],[2096.0],[38583.0],[40250.0],[31245.0],[38857.0],[24047.0],[51807.0],[238173.0],[232080.0],[1540.0],[115739.0],[64561.0],[93913.0],[27323.0],[20968.0],[4596.0],[17042.0],[641.0],[8536.0],[6839.0],[299669.0],[22182.0],[271.0]],\"hovertemplate\":\"source=model<br>pdpurp_label=Work<br>tlvorg_hr=%{x}<br>percentage=%{y}<br>toexpfac=%{customdata[0]}<extra></extra>\",\"legendgroup\":\"model\",\"marker\":{\"color\":\"#91268F\",\"pattern\":{\"shape\":\"\"}},\"name\":\"model\",\"offsetgroup\":\"model\",\"orientation\":\"v\",\"showlegend\":true,\"textposition\":\"auto\",\"x\":[0,22,4,12,13,3,15,11,8,6,23,9,10,5,14,17,21,18,1,19,20,7,16,2],\"xaxis\":\"x6\",\"y\":[0.0007351802566473754,0.001516671080642617,0.027918759687230007,0.029125005246118957,0.022608963699751225,0.028117026803688057,0.017400472078345903,0.03748768066548285,0.17234260557723952,0.16793369484519968,0.0011143480268080296,0.08374904303554191,0.04671650841477481,0.06795569236468993,0.019770994244464803,0.015172499627344653,0.0033256776176686393,0.012331635761598988,0.0004638292760934721,0.00617667192002165,0.004948718282688386,0.21684127197762043,0.01605095320172449,0.0001960963086136208],\"yaxis\":\"y6\",\"type\":\"bar\"},{\"alignmentgroup\":\"True\",\"customdata\":[[104613.0],[2702.0],[209144.0],[2499.0],[7449.0],[181190.0],[10383.0],[1550.0],[21048.0],[14414.0],[6970.0],[31357.0],[17.0],[49028.0],[6740.0],[5821.0],[3.0],[2.0],[60484.0],[2071.0],[12.0],[1747.0],[7972.0],[6.0]],\"hovertemplate\":\"source=model<br>pdpurp_label=School<br>tlvorg_hr=%{x}<br>percentage=%{y}<br>toexpfac=%{customdata[0]}<extra></extra>\",\"legendgroup\":\"model\",\"marker\":{\"color\":\"#91268F\",\"pattern\":{\"shape\":\"\"}},\"name\":\"model\",\"offsetgroup\":\"model\",\"orientation\":\"v\",\"showlegend\":false,\"textposition\":\"auto\",\"x\":[9,19,8,20,15,7,14,21,12,13,17,11,22,10,16,18,2,1,6,3,23,4,5,0],\"xaxis\":\"x5\",\"y\":[0.14385290874038464,0.003715509156763684,0.2875930596159082,0.003436364686436879,0.01024308945548952,0.24915362846558547,0.014277620864055268,0.0021313986650568877,0.028943018775559597,0.019820632489116117,0.009584418513191296,0.043118882542057306,2.337663051997877e-05,0.06741820241961877,0.009268146453215111,0.008004433309223319,4.1252877388197825e-06,2.7501918258798553e-06,0.08317130119825858,0.00284782363569859,1.650115095527913e-05,0.0024022925599060533,0.010962264617957103,8.250575477639565e-06],\"yaxis\":\"y5\",\"type\":\"bar\"},{\"alignmentgroup\":\"True\",\"customdata\":[[3527.0],[67439.0],[1933.0],[58449.0],[59895.0],[1681.0],[12854.0],[67190.0],[57902.0],[879.0],[195.0],[64757.0],[63534.0],[62132.0],[42427.0],[31786.0],[10573.0],[523.0],[26336.0],[53893.0],[66798.0],[382.0],[64382.0],[1372.0]],\"hovertemplate\":\"source=model<br>pdpurp_label=Shop<br>tlvorg_hr=%{x}<br>percentage=%{y}<br>toexpfac=%{customdata[0]}<extra></extra>\",\"legendgroup\":\"model\",\"marker\":{\"color\":\"#91268F\",\"pattern\":{\"shape\":\"\"}},\"name\":\"model\",\"offsetgroup\":\"model\",\"orientation\":\"v\",\"showlegend\":false,\"textposition\":\"auto\",\"x\":[22,10,5,12,15,23,21,16,11,4,2,17,13,14,19,7,6,0,20,8,9,1,18,3],\"xaxis\":\"x4\",\"y\":[0.004296823128530686,0.08215862063084235,0.002354907600637884,0.07120641197603915,0.07296802418013763,0.002047904643907027,0.015659587324676337,0.08185527247121542,0.07054002063742099,0.0010708555514540611,0.00023756181175602035,0.07889123201992108,0.07740129306721537,0.07569328455397466,0.051687358909603465,0.03872379358193263,0.012880723259981556,0.0006371529617866597,0.03208424550977719,0.06565599344085746,0.08137771231630075,0.00046537749790153733,0.07843438238192874,0.001671460542201333],\"yaxis\":\"y4\",\"type\":\"bar\"},{\"alignmentgroup\":\"True\",\"customdata\":[[971.0],[37029.0],[112.0],[12196.0],[17122.0],[373.0],[29605.0],[29978.0],[30801.0],[276.0],[29001.0],[15300.0],[47387.0],[58523.0],[53431.0],[991.0],[2156.0],[20120.0],[5815.0],[38914.0],[28985.0],[9450.0],[2490.0],[1103.0]],\"hovertemplate\":\"source=model<br>pdpurp_label=Meal<br>tlvorg_hr=%{x}<br>percentage=%{y}<br>toexpfac=%{customdata[0]}<extra></extra>\",\"legendgroup\":\"model\",\"marker\":{\"color\":\"#91268F\",\"pattern\":{\"shape\":\"\"}},\"name\":\"model\",\"offsetgroup\":\"model\",\"orientation\":\"v\",\"showlegend\":false,\"textposition\":\"auto\",\"x\":[23,14,2,21,19,0,15,18,17,1,16,20,10,12,11,4,22,8,6,13,9,7,5,3],\"xaxis\":\"x3\",\"y\":[0.00205664129930591,0.07842983591348975,0.00023722330125876614,0.025831923054927784,0.03626551217993387,0.0007900383157992837,0.06270531994433724,0.06349535826013653,0.0652385259113505,0.0005845859923876738,0.061426008569691756,0.032406397404099306,0.10036875514954599,0.12395552910327474,0.11317034115676013,0.002099002603102118,0.004566548549231248,0.04261547161898549,0.012316549078747546,0.08242238879628237,0.06139211952665479,0.020015716043708394,0.005273982322627926,0.0023362259043608843],\"yaxis\":\"y3\",\"type\":\"bar\"},{\"alignmentgroup\":\"True\",\"customdata\":[[9300.0],[70872.0],[10597.0],[38741.0],[20063.0],[27039.0],[49412.0],[3342.0],[350.0],[79721.0],[42398.0],[9278.0],[50293.0],[160.0],[48681.0],[52264.0],[46627.0],[305.0],[1578.0],[47999.0],[4964.0],[54427.0],[71129.0],[27574.0]],\"hovertemplate\":\"source=model<br>pdpurp_label=Escort<br>tlvorg_hr=%{x}<br>percentage=%{y}<br>toexpfac=%{customdata[0]}<extra></extra>\",\"legendgroup\":\"model\",\"marker\":{\"color\":\"#91268F\",\"pattern\":{\"shape\":\"\"}},\"name\":\"model\",\"offsetgroup\":\"model\",\"orientation\":\"v\",\"showlegend\":false,\"textposition\":\"auto\",\"x\":[5,8,21,18,20,19,7,22,0,9,17,3,12,2,14,13,15,1,23,16,4,11,10,6],\"xaxis\":\"x2\",\"y\":[0.012123361064978608,0.09238783283840472,0.013814113678019173,0.05050227215250928,0.026153870220071592,0.03524769460601684,0.06441285128416376,0.004356588460124571,0.00045625552395080784,0.10392327607109243,0.055269490584189576,0.012094682146330272,0.06556131161730851,0.00020857395380608358,0.06345992903271222,0.0681306820107572,0.06078236090072662,0.00039759409944284684,0.0020570606194124995,0.06257088255461378,0.006471006916833743,0.07095034114877319,0.09272285475170575,0.03594511376405593],\"yaxis\":\"y2\",\"type\":\"bar\"},{\"alignmentgroup\":\"True\",\"customdata\":[[1082.0],[11951.0],[2620.0],[19887.0],[63015.0],[39036.0],[19284.0],[6091.0],[2772.0],[4978.0],[84.0],[244.0],[382.0],[74798.0],[71451.0],[27330.0],[45624.0],[51310.0],[54418.0],[48323.0],[51052.0],[58577.0],[56506.0],[59717.0]],\"hovertemplate\":\"source=model<br>pdpurp_label=Personal Business<br>tlvorg_hr=%{x}<br>percentage=%{y}<br>toexpfac=%{customdata[0]}<extra></extra>\",\"legendgroup\":\"model\",\"marker\":{\"color\":\"#91268F\",\"pattern\":{\"shape\":\"\"}},\"name\":\"model\",\"offsetgroup\":\"model\",\"orientation\":\"v\",\"showlegend\":false,\"textposition\":\"auto\",\"x\":[23,21,22,20,8,7,6,5,4,3,2,1,0,9,10,19,18,17,16,15,14,13,12,11],\"xaxis\":\"x\",\"y\":[0.0014042246136435606,0.015510063177129567,0.00340024814024596,0.025809440750027255,0.08178115899145007,0.05066110168039744,0.02502686455591721,0.007904928023755016,0.0035975144445655727,0.006460471466467324,0.00010901558922925978,0.00031666433061832604,0.0004957613700663957,0.09707319099012111,0.09272943888118858,0.035469000638519876,0.059211038607092245,0.06659035575420619,0.0706239325556888,0.06271381331339905,0.06625552215871632,0.07602150202717084,0.07333374863081611,0.07750099930956794],\"yaxis\":\"y\",\"type\":\"bar\"},{\"alignmentgroup\":\"True\",\"customdata\":[[26843.559387681584],[47069.110645288965],[38841.596463089474],[29706.812597293476],[18524.446823193204],[11536.937249213654],[988.686151042609],[393071.5312644367],[333470.07784518343],[269789.2629268081],[165885.50163496353],[176781.1604996762],[988.686151042609],[74340.17758940026],[19186.686366792266],[9235.10731416993],[4129.18919406304],[0.0],[2189.811752997617],[1627.1968036848764],[663.365825915265],[2.034207699983375],[10080.046467017171],[66.61248155133971]],\"hovertemplate\":\"source=survey (2017/2019)<br>pdpurp_label=Work<br>tlvorg_hr=%{x}<br>percentage=%{y}<br>toexpfac=%{customdata[0]}<extra></extra>\",\"legendgroup\":\"survey (2017/2019)\",\"marker\":{\"color\":\"#8CC63E\",\"pattern\":{\"shape\":\"\"}},\"name\":\"survey (2017/2019)\",\"offsetgroup\":\"survey (2017/2019)\",\"orientation\":\"v\",\"showlegend\":true,\"textposition\":\"auto\",\"x\":[11,4,12,13,14,3,22,7,6,8,9,5,23,10,15,17,18,1,19,20,0,21,16,2],\"xaxis\":\"x6\",\"y\":[0.016417902428935094,0.02878813702871791,0.023756072423380285,0.018169108785209716,0.011329814951170301,0.007056154787477896,0.0006046945014343298,0.24040813495296307,0.20395503897087564,0.1650069475190118,0.10145793040648646,0.10812187021999357,0.0006046945014343298,0.045467509155010515,0.011734850067950726,0.00564832288501819,0.0025254707961660976,0.0,0.0013393199902896817,0.0009952166912646037,0.00040572396705202367,1.2441503399821667e-06,0.006165099679387678,4.074114043016966e-05],\"yaxis\":\"y6\",\"type\":\"bar\"},{\"alignmentgroup\":\"True\",\"customdata\":[[9372.079396235318],[0.0],[36237.68696938745],[75.14674575208934],[158860.1815105916],[0.0],[184966.19363985508],[2899.564229654071],[5634.82123136347],[3740.5243791076186],[8698.72148985911],[5464.016981777702],[0.0],[13587.301864651043],[675.1015338263429],[17571.07859392331],[0.0],[0.0],[0.0],[0.0],[67142.9621295134],[0.0],[10420.73913625376],[0.0]],\"hovertemplate\":\"source=survey (2017/2019)<br>pdpurp_label=School<br>tlvorg_hr=%{x}<br>percentage=%{y}<br>toexpfac=%{customdata[0]}<extra></extra>\",\"legendgroup\":\"survey (2017/2019)\",\"marker\":{\"color\":\"#8CC63E\",\"pattern\":{\"shape\":\"\"}},\"name\":\"survey (2017/2019)\",\"offsetgroup\":\"survey (2017/2019)\",\"orientation\":\"v\",\"showlegend\":false,\"textposition\":\"auto\",\"x\":[12,22,9,19,8,20,7,14,16,13,17,11,21,10,18,15,4,1,2,3,6,23,5,0],\"xaxis\":\"x5\",\"y\":[0.01783981844052992,0.0,0.06897868967033205,0.00014304235420289395,0.3023914625303953,0.0,0.3520844385394772,0.005519340716902397,0.010725921480429116,0.0071201142216593665,0.016558076973415135,0.010400794401084797,0.0,0.025863523783144236,0.0012850604741166693,0.03344667054845797,0.0,0.0,0.0,0.0,0.127807096302561,0.0,0.019835949563291974,0.0],\"yaxis\":\"y5\",\"type\":\"bar\"},{\"alignmentgroup\":\"True\",\"customdata\":[[0.0],[18875.025830543796],[102892.51383715212],[35570.71695496433],[16066.913929221464],[44948.325094358785],[64356.26229586239],[0.54525469613021],[91115.22510114146],[608.1118660539306],[89633.42932089814],[28021.09586572641],[37186.01221540865],[2123.97370652186],[83.24521252225395],[6154.285694475871],[13477.069989906293],[22829.07546272082],[51437.90924882699],[134178.9118874883],[313.64492561617914],[11.087229656279533],[25821.85826057283],[557.4277959529772]],\"hovertemplate\":\"source=survey (2017/2019)<br>pdpurp_label=Shop<br>tlvorg_hr=%{x}<br>percentage=%{y}<br>toexpfac=%{customdata[0]}<extra></extra>\",\"legendgroup\":\"survey (2017/2019)\",\"marker\":{\"color\":\"#8CC63E\",\"pattern\":{\"shape\":\"\"}},\"name\":\"survey (2017/2019)\",\"offsetgroup\":\"survey (2017/2019)\",\"orientation\":\"v\",\"showlegend\":false,\"textposition\":\"auto\",\"x\":[1,21,10,16,20,17,15,2,11,4,12,13,19,23,0,6,7,8,14,9,5,3,18,22],\"xaxis\":\"x4\",\"y\":[0.0,0.02400600540152188,0.13086277418247516,0.04524024661068652,0.020434537469428478,0.05716706004494252,0.08185084323414253,6.934765174904071e-07,0.11588395192547753,0.0007734207556737221,0.11399934536526235,0.03563833950471529,0.04729464309710245,0.0027013538804775894,0.00010587455823378287,0.007827264288296878,0.017140671375974366,0.029034922324873844,0.06542077019423911,0.17065405432870717,0.00039890603838633267,1.410117778942885e-05,0.032841262017111884,0.0007089587479637414],\"yaxis\":\"y4\",\"type\":\"bar\"},{\"alignmentgroup\":\"True\",\"customdata\":[[0.0],[6320.630172016206],[5593.375487917708],[10816.375339993583],[0.0],[47203.97984922029],[0.0],[23708.46135221934],[0.0],[9277.003714894172],[33989.642419100965],[62591.62622065111],[5109.103377173227],[9391.502890534057],[79799.76079279724],[104.37588060467607],[23115.5301076332],[0.0],[10422.979978670437],[496.1524996618177],[11355.197307710754],[24590.122393228026],[4466.581191293693],[1004.4129807216316]],\"hovertemplate\":\"source=survey (2017/2019)<br>pdpurp_label=Meal<br>tlvorg_hr=%{x}<br>percentage=%{y}<br>toexpfac=%{customdata[0]}<extra></extra>\",\"legendgroup\":\"survey (2017/2019)\",\"marker\":{\"color\":\"#8CC63E\",\"pattern\":{\"shape\":\"\"}},\"name\":\"survey (2017/2019)\",\"offsetgroup\":\"survey (2017/2019)\",\"orientation\":\"v\",\"showlegend\":false,\"textposition\":\"auto\",\"x\":[2,14,20,19,0,18,1,16,23,15,17,12,22,8,11,4,10,3,9,21,6,13,7,5],\"xaxis\":\"x3\",\"y\":[0.0,0.017112531658258337,0.015143555707038845,0.02928435304643076,0.0,0.1278004846956421,0.0,0.0641885040600359,0.0,0.025116644297235695,0.09202386726009104,0.1694611385404149,0.013832432986551782,0.02542664040753762,0.2160505987099357,0.00028258820918110377,0.06258319661156765,0.0,0.028219270864489575,0.0013432877935774749,0.030743164546199915,0.06657552118736475,0.012092862572247738,0.002719356846199049],\"yaxis\":\"y3\",\"type\":\"bar\"},{\"alignmentgroup\":\"True\",\"customdata\":[[330.4532993800188],[72887.47341573531],[53721.588782949155],[5061.683382412337],[636.9309530825855],[17977.90415949376],[57099.76069383569],[3465.3706566656133],[0.0],[11720.50858389246],[30992.119239703625],[14689.853983763354],[68.99716112623685],[0.0],[41300.91505807776],[6335.466793934932],[21614.712298822113],[11401.469748573027],[38700.83596111881],[1608.8011555079397],[0.0],[14275.894103075521],[21628.90027714401],[9347.769180612215]],\"hovertemplate\":\"source=survey (2017/2019)<br>pdpurp_label=Escort<br>tlvorg_hr=%{x}<br>percentage=%{y}<br>toexpfac=%{customdata[0]}<extra></extra>\",\"legendgroup\":\"survey (2017/2019)\",\"marker\":{\"color\":\"#8CC63E\",\"pattern\":{\"shape\":\"\"}},\"name\":\"survey (2017/2019)\",\"offsetgroup\":\"survey (2017/2019)\",\"orientation\":\"v\",\"showlegend\":false,\"textposition\":\"auto\",\"x\":[23,8,17,6,22,19,7,5,0,20,18,9,3,2,14,21,13,12,15,4,1,11,16,10],\"xaxis\":\"x2\",\"y\":[0.0007598943784367113,0.1676084984201599,0.12353555977029577,0.011639601586481321,0.0014646555250253284,0.04134111637712195,0.1313038400364988,0.007968798272373857,0.0,0.026951913029855598,0.07126797411396961,0.033780075681680025,0.00015866252498094937,0.0,0.09497358094413717,0.014568732134059336,0.04970414396895841,0.0262182667993078,0.08899456517102558,0.0036995211014282576,0.0,0.032828153619400155,0.049736769955711815,0.021495676589091656],\"yaxis\":\"y2\",\"type\":\"bar\"},{\"alignmentgroup\":\"True\",\"customdata\":[[700.3758568446026],[2041.160644579677],[4337.791814374123],[107315.80528704856],[71276.96887912306],[47346.51151895759],[18699.959783412443],[4797.110596523592],[693.650708366326],[415.12771485007175],[0.0],[0.0],[0.0],[11826.822830027124],[36066.865380506766],[83275.02395238554],[55075.73985185104],[51540.587086667394],[80591.80973502374],[32255.442975107242],[36318.721934705594],[82767.19373577408],[87578.65479472805],[68.08898090709165]],\"hovertemplate\":\"source=survey (2017/2019)<br>pdpurp_label=Personal Business<br>tlvorg_hr=%{x}<br>percentage=%{y}<br>toexpfac=%{customdata[0]}<extra></extra>\",\"legendgroup\":\"survey (2017/2019)\",\"marker\":{\"color\":\"#8CC63E\",\"pattern\":{\"shape\":\"\"}},\"name\":\"survey (2017/2019)\",\"offsetgroup\":\"survey (2017/2019)\",\"orientation\":\"v\",\"showlegend\":false,\"textposition\":\"auto\",\"x\":[22,21,20,11,8,7,6,5,4,3,2,1,0,19,18,17,16,15,14,13,12,10,9,23],\"xaxis\":\"x\",\"y\":[0.0008593680417933929,0.00250452411940775,0.005322513077507758,0.13167754505203383,0.0874575395082633,0.05809463374866541,0.022945033960889302,0.0058861017256845545,0.0008511162186871764,0.000509365775416822,0.0,0.0,0.0,0.014511627545055243,0.04425439736788219,0.10217927069427502,0.0675784726790048,0.06324080558273534,0.09888694054732361,0.03957774471493046,0.04456342782871188,0.10155615804047927,0.10745986792423652,8.354584701627983e-05],\"yaxis\":\"y\",\"type\":\"bar\"},{\"alignmentgroup\":\"True\",\"customdata\":[[74931.36061469567],[26888.87088729341],[37766.29203659509],[311397.3539980396],[32953.441417655355],[12103.96345685936],[30687.93229808931],[7463.727136272968],[206346.4784044589],[248864.7757878116],[127703.56018230687],[59092.50410617798],[99400.45954333011],[255.98038726538],[26993.205859767655],[3106.2604648083056],[9067.667081552123],[551.958469674964],[1354.8011261771376],[2491.513138185322],[0.0],[1284.2515745934531],[0.0],[15880.497234966046]],\"hovertemplate\":\"source=survey<br>pdpurp_label=Work<br>tlvorg_hr=%{x}<br>percentage=%{y}<br>toexpfac=%{customdata[0]}<extra></extra>\",\"legendgroup\":\"survey\",\"marker\":{\"color\":\"#00A7A0\",\"pattern\":{\"shape\":\"\"}},\"name\":\"survey\",\"offsetgroup\":\"survey\",\"orientation\":\"v\",\"showlegend\":true,\"textposition\":\"auto\",\"x\":[4,12,11,7,14,3,13,22,8,6,9,10,5,23,15,18,17,1,19,20,0,21,2,16],\"xaxis\":\"x6\",\"y\":[0.05606172193210342,0.02011756346589058,0.028255770950820932,0.2329795125434714,0.024654919573155777,0.009055874977154871,0.02295992376293894,0.005584169189752662,0.1543831421060676,0.18619424156266165,0.09554452797799631,0.044211495778211075,0.0743688740885958,0.00019151795954615823,0.020195624215977877,0.0023240244004406408,0.006784195913815617,0.0004129611686100683,0.001013627450322146,0.0018640862196720059,0.0,0.0009608440855083564,0.0,0.011881380677286123],\"yaxis\":\"y6\",\"type\":\"bar\"},{\"alignmentgroup\":\"True\",\"customdata\":[[48085.789689652025],[156.064494787723],[224775.58031354484],[0.0],[0.0],[177732.16684628095],[387.7845844848059],[0.0],[5015.600869289834],[7404.664188706871],[1663.303637075868],[3333.2504709461364],[4969.783185943033],[278.949359175002],[2229.5902946540955],[16161.271083577121],[75.6029420675361],[0.0],[26697.98862443798],[0.0],[0.0],[0.0],[944.6388505184881],[0.0]],\"hovertemplate\":\"source=survey<br>pdpurp_label=School<br>tlvorg_hr=%{x}<br>percentage=%{y}<br>toexpfac=%{customdata[0]}<extra></extra>\",\"legendgroup\":\"survey\",\"marker\":{\"color\":\"#00A7A0\",\"pattern\":{\"shape\":\"\"}},\"name\":\"survey\",\"offsetgroup\":\"survey\",\"orientation\":\"v\",\"showlegend\":false,\"textposition\":\"auto\",\"x\":[9,19,8,21,20,7,15,22,12,13,17,11,16,18,14,10,4,1,6,2,3,23,5,0],\"xaxis\":\"x5\",\"y\":[0.09248831911409083,0.0003001748102602647,0.43233387109306154,0.0,0.0,0.34185046081618425,0.0007458657667646466,0.0,0.009647018313346254,0.014242148227944751,0.003199202062862369,0.006411181665805159,0.009558892475218253,0.0005365318426620482,0.0042883991298997845,0.031084626184040235,0.0001454148736463644,0.0,0.05135097307412559,0.0,0.0,0.0,0.0018169205500876556,0.0],\"yaxis\":\"y5\",\"type\":\"bar\"},{\"alignmentgroup\":\"True\",\"customdata\":[[82880.44853573835],[53869.43630344453],[766.8642961489354],[32651.12387925837],[306.34798152004703],[55309.722403559426],[0.0],[0.0],[45890.27107482398],[50827.82088511192],[17193.175848295632],[8.1104247487979],[42465.29577867403],[14566.762652314472],[313.25665406101865],[484.372679805163],[2933.980540218817],[13516.04984109138],[50812.55489726758],[666.5076935107627],[75501.37025013978],[1307.6060667162533],[59091.909043428306],[0.0]],\"hovertemplate\":\"source=survey<br>pdpurp_label=Shop<br>tlvorg_hr=%{x}<br>percentage=%{y}<br>toexpfac=%{customdata[0]}<extra></extra>\",\"legendgroup\":\"survey\",\"marker\":{\"color\":\"#00A7A0\",\"pattern\":{\"shape\":\"\"}},\"name\":\"survey\",\"offsetgroup\":\"survey\",\"orientation\":\"v\",\"showlegend\":false,\"textposition\":\"auto\",\"x\":[10,16,21,15,2,11,1,4,12,13,19,23,17,7,6,0,20,8,9,5,14,22,18,3],\"xaxis\":\"x4\",\"y\":[0.13782100033892825,0.0895789022646698,0.0012752103335188934,0.0542952003124022,0.0005094227409580012,0.09197393842336643,0.0,0.0,0.07631043481418437,0.08452103292386685,0.028590345929334987,1.348673748514927e-05,0.07061508048404992,0.024222911867761345,0.000520911097710803,0.000805458083866537,0.004878884467590003,0.022475692912385506,0.08449564727799934,0.0011083284257762584,0.1255504109675166,0.0021744039679801653,0.09826329562864854,0.0],\"yaxis\":\"y4\",\"type\":\"bar\"},{\"alignmentgroup\":\"True\",\"customdata\":[[0.0],[11239.722298735183],[34280.917362739485],[0.0],[18416.898389247777],[7901.458825086892],[41737.41209779713],[0.0],[36491.245582423144],[52022.95421104775],[18899.623555029862],[1328.6639472156842],[13430.676065534126],[37661.62049466345],[71.5547812881571],[45.94185906792442],[16592.386288810565],[16320.043882478165],[51142.26052510319],[10.6381727331061],[0.0],[1619.3993794124167],[14795.148137337195],[24185.69173063007]],\"hovertemplate\":\"source=survey<br>pdpurp_label=Meal<br>tlvorg_hr=%{x}<br>percentage=%{y}<br>toexpfac=%{customdata[0]}<extra></extra>\",\"legendgroup\":\"survey\",\"marker\":{\"color\":\"#00A7A0\",\"pattern\":{\"shape\":\"\"}},\"name\":\"survey\",\"offsetgroup\":\"survey\",\"orientation\":\"v\",\"showlegend\":false,\"textposition\":\"auto\",\"x\":[2,14,13,1,15,20,19,0,18,17,16,23,21,12,22,5,8,10,11,4,3,6,9,7],\"xaxis\":\"x3\",\"y\":[0.0,0.02822673126142941,0.08609093855479028,0.0,0.046251039632967464,0.019843226451784803,0.10481671019261982,0.0,0.091641817748984,0.13064717338311257,0.04746332523625085,0.0033367230237554436,0.03372895467388948,0.09458102365148605,0.00017969817475992742,0.00011537549372609457,0.041669074761107365,0.04098513118044606,0.12843545468258988,2.671603753803088e-05,0.0,0.004066857692092951,0.037155603968316006,0.060738424198353506],\"yaxis\":\"y3\",\"type\":\"bar\"},{\"alignmentgroup\":\"True\",\"customdata\":[[0.0],[116124.1521570951],[2041.5346810067565],[24639.46947086319],[4675.392899869981],[5242.84440129033],[123296.6342048758],[0.0],[5787.7129099278745],[15977.137961084289],[52928.80856852308],[0.0],[0.0],[72334.71357971721],[17818.680021405922],[72148.76360733972],[898.5433493495459],[37185.89248753225],[19721.257583932624],[44784.663242596966],[3756.89486105699],[0.0],[25184.812052210033],[15896.147247396682]],\"hovertemplate\":\"source=survey<br>pdpurp_label=Escort<br>tlvorg_hr=%{x}<br>percentage=%{y}<br>toexpfac=%{customdata[0]}<extra></extra>\",\"legendgroup\":\"survey\",\"marker\":{\"color\":\"#00A7A0\",\"pattern\":{\"shape\":\"\"}},\"name\":\"survey\",\"offsetgroup\":\"survey\",\"orientation\":\"v\",\"showlegend\":false,\"textposition\":\"auto\",\"x\":[23,8,20,6,22,19,7,0,18,5,17,3,2,15,12,14,21,13,11,9,4,1,16,10],\"xaxis\":\"x2\",\"y\":[0.0,0.1758273864795703,0.0030911546022158766,0.03730742865139908,0.007079165695325601,0.00793836262030011,0.18668747673303324,0.0,0.00876336589540826,0.02419150847552035,0.08014124458356521,0.0,0.0,0.10952436167856122,0.026979847693020267,0.10924280872810478,0.0013605139483903407,0.05630437913680472,0.02986060276575646,0.06780992709992746,0.005688437697306528,0.0,0.03813314973554117,0.024068877780249118],\"yaxis\":\"y2\",\"type\":\"bar\"},{\"alignmentgroup\":\"True\",\"customdata\":[[208.4084893501812],[46.9407483680735],[817.8571988340667],[7876.896164187974],[23567.089314725887],[29389.618600086997],[5380.734653984139],[10663.035371550308],[0.0],[0.0],[0.0],[0.0],[0.0],[21265.687914254788],[5254.77023384645],[15870.549173199572],[8036.79642291079],[28112.636222380566],[40365.683206848276],[28689.578870672533],[20348.921996687346],[0.0],[29667.336826761086],[31020.636880102902]],\"hovertemplate\":\"source=survey<br>pdpurp_label=Personal Business<br>tlvorg_hr=%{x}<br>percentage=%{y}<br>toexpfac=%{customdata[0]}<extra></extra>\",\"legendgroup\":\"survey\",\"marker\":{\"color\":\"#00A7A0\",\"pattern\":{\"shape\":\"\"}},\"name\":\"survey\",\"offsetgroup\":\"survey\",\"orientation\":\"v\",\"showlegend\":false,\"textposition\":\"auto\",\"x\":[21,22,20,19,8,7,6,5,4,3,2,1,0,9,18,17,16,15,14,13,12,23,11,10],\"xaxis\":\"x\",\"y\":[0.0006797779660105618,0.0001531093409301892,0.0026676519024921097,0.02569252562438115,0.07687013177392756,0.09586181069728071,0.017550651943846557,0.03478023625127745,0.0,0.0,0.0,0.0,0.0,0.06936351835398463,0.017139786543987432,0.051765883770218055,0.026214081502349825,0.09169660377094466,0.1316630724234658,0.09357845081654015,0.06637325019026954,0.0,0.09676766022309038,0.10118179690500326],\"yaxis\":\"y\",\"type\":\"bar\"}],                        {\"template\":{\"data\":{\"barpolar\":[{\"marker\":{\"line\":{\"color\":\"white\",\"width\":0.5},\"pattern\":{\"fillmode\":\"overlay\",\"size\":10,\"solidity\":0.2}},\"type\":\"barpolar\"}],\"bar\":[{\"error_x\":{\"color\":\"rgb(36,36,36)\"},\"error_y\":{\"color\":\"rgb(36,36,36)\"},\"marker\":{\"line\":{\"color\":\"white\",\"width\":0.5},\"pattern\":{\"fillmode\":\"overlay\",\"size\":10,\"solidity\":0.2}},\"type\":\"bar\"}],\"carpet\":[{\"aaxis\":{\"endlinecolor\":\"rgb(36,36,36)\",\"gridcolor\":\"white\",\"linecolor\":\"white\",\"minorgridcolor\":\"white\",\"startlinecolor\":\"rgb(36,36,36)\"},\"baxis\":{\"endlinecolor\":\"rgb(36,36,36)\",\"gridcolor\":\"white\",\"linecolor\":\"white\",\"minorgridcolor\":\"white\",\"startlinecolor\":\"rgb(36,36,36)\"},\"type\":\"carpet\"}],\"choropleth\":[{\"colorbar\":{\"outlinewidth\":1,\"tickcolor\":\"rgb(36,36,36)\",\"ticks\":\"outside\"},\"type\":\"choropleth\"}],\"contourcarpet\":[{\"colorbar\":{\"outlinewidth\":1,\"tickcolor\":\"rgb(36,36,36)\",\"ticks\":\"outside\"},\"type\":\"contourcarpet\"}],\"contour\":[{\"colorbar\":{\"outlinewidth\":1,\"tickcolor\":\"rgb(36,36,36)\",\"ticks\":\"outside\"},\"colorscale\":[[0.0,\"#440154\"],[0.1111111111111111,\"#482878\"],[0.2222222222222222,\"#3e4989\"],[0.3333333333333333,\"#31688e\"],[0.4444444444444444,\"#26828e\"],[0.5555555555555556,\"#1f9e89\"],[0.6666666666666666,\"#35b779\"],[0.7777777777777778,\"#6ece58\"],[0.8888888888888888,\"#b5de2b\"],[1.0,\"#fde725\"]],\"type\":\"contour\"}],\"heatmapgl\":[{\"colorbar\":{\"outlinewidth\":1,\"tickcolor\":\"rgb(36,36,36)\",\"ticks\":\"outside\"},\"colorscale\":[[0.0,\"#440154\"],[0.1111111111111111,\"#482878\"],[0.2222222222222222,\"#3e4989\"],[0.3333333333333333,\"#31688e\"],[0.4444444444444444,\"#26828e\"],[0.5555555555555556,\"#1f9e89\"],[0.6666666666666666,\"#35b779\"],[0.7777777777777778,\"#6ece58\"],[0.8888888888888888,\"#b5de2b\"],[1.0,\"#fde725\"]],\"type\":\"heatmapgl\"}],\"heatmap\":[{\"colorbar\":{\"outlinewidth\":1,\"tickcolor\":\"rgb(36,36,36)\",\"ticks\":\"outside\"},\"colorscale\":[[0.0,\"#440154\"],[0.1111111111111111,\"#482878\"],[0.2222222222222222,\"#3e4989\"],[0.3333333333333333,\"#31688e\"],[0.4444444444444444,\"#26828e\"],[0.5555555555555556,\"#1f9e89\"],[0.6666666666666666,\"#35b779\"],[0.7777777777777778,\"#6ece58\"],[0.8888888888888888,\"#b5de2b\"],[1.0,\"#fde725\"]],\"type\":\"heatmap\"}],\"histogram2dcontour\":[{\"colorbar\":{\"outlinewidth\":1,\"tickcolor\":\"rgb(36,36,36)\",\"ticks\":\"outside\"},\"colorscale\":[[0.0,\"#440154\"],[0.1111111111111111,\"#482878\"],[0.2222222222222222,\"#3e4989\"],[0.3333333333333333,\"#31688e\"],[0.4444444444444444,\"#26828e\"],[0.5555555555555556,\"#1f9e89\"],[0.6666666666666666,\"#35b779\"],[0.7777777777777778,\"#6ece58\"],[0.8888888888888888,\"#b5de2b\"],[1.0,\"#fde725\"]],\"type\":\"histogram2dcontour\"}],\"histogram2d\":[{\"colorbar\":{\"outlinewidth\":1,\"tickcolor\":\"rgb(36,36,36)\",\"ticks\":\"outside\"},\"colorscale\":[[0.0,\"#440154\"],[0.1111111111111111,\"#482878\"],[0.2222222222222222,\"#3e4989\"],[0.3333333333333333,\"#31688e\"],[0.4444444444444444,\"#26828e\"],[0.5555555555555556,\"#1f9e89\"],[0.6666666666666666,\"#35b779\"],[0.7777777777777778,\"#6ece58\"],[0.8888888888888888,\"#b5de2b\"],[1.0,\"#fde725\"]],\"type\":\"histogram2d\"}],\"histogram\":[{\"marker\":{\"line\":{\"color\":\"white\",\"width\":0.6}},\"type\":\"histogram\"}],\"mesh3d\":[{\"colorbar\":{\"outlinewidth\":1,\"tickcolor\":\"rgb(36,36,36)\",\"ticks\":\"outside\"},\"type\":\"mesh3d\"}],\"parcoords\":[{\"line\":{\"colorbar\":{\"outlinewidth\":1,\"tickcolor\":\"rgb(36,36,36)\",\"ticks\":\"outside\"}},\"type\":\"parcoords\"}],\"pie\":[{\"automargin\":true,\"type\":\"pie\"}],\"scatter3d\":[{\"line\":{\"colorbar\":{\"outlinewidth\":1,\"tickcolor\":\"rgb(36,36,36)\",\"ticks\":\"outside\"}},\"marker\":{\"colorbar\":{\"outlinewidth\":1,\"tickcolor\":\"rgb(36,36,36)\",\"ticks\":\"outside\"}},\"type\":\"scatter3d\"}],\"scattercarpet\":[{\"marker\":{\"colorbar\":{\"outlinewidth\":1,\"tickcolor\":\"rgb(36,36,36)\",\"ticks\":\"outside\"}},\"type\":\"scattercarpet\"}],\"scattergeo\":[{\"marker\":{\"colorbar\":{\"outlinewidth\":1,\"tickcolor\":\"rgb(36,36,36)\",\"ticks\":\"outside\"}},\"type\":\"scattergeo\"}],\"scattergl\":[{\"marker\":{\"colorbar\":{\"outlinewidth\":1,\"tickcolor\":\"rgb(36,36,36)\",\"ticks\":\"outside\"}},\"type\":\"scattergl\"}],\"scattermapbox\":[{\"marker\":{\"colorbar\":{\"outlinewidth\":1,\"tickcolor\":\"rgb(36,36,36)\",\"ticks\":\"outside\"}},\"type\":\"scattermapbox\"}],\"scatterpolargl\":[{\"marker\":{\"colorbar\":{\"outlinewidth\":1,\"tickcolor\":\"rgb(36,36,36)\",\"ticks\":\"outside\"}},\"type\":\"scatterpolargl\"}],\"scatterpolar\":[{\"marker\":{\"colorbar\":{\"outlinewidth\":1,\"tickcolor\":\"rgb(36,36,36)\",\"ticks\":\"outside\"}},\"type\":\"scatterpolar\"}],\"scatter\":[{\"fillpattern\":{\"fillmode\":\"overlay\",\"size\":10,\"solidity\":0.2},\"type\":\"scatter\"}],\"scatterternary\":[{\"marker\":{\"colorbar\":{\"outlinewidth\":1,\"tickcolor\":\"rgb(36,36,36)\",\"ticks\":\"outside\"}},\"type\":\"scatterternary\"}],\"surface\":[{\"colorbar\":{\"outlinewidth\":1,\"tickcolor\":\"rgb(36,36,36)\",\"ticks\":\"outside\"},\"colorscale\":[[0.0,\"#440154\"],[0.1111111111111111,\"#482878\"],[0.2222222222222222,\"#3e4989\"],[0.3333333333333333,\"#31688e\"],[0.4444444444444444,\"#26828e\"],[0.5555555555555556,\"#1f9e89\"],[0.6666666666666666,\"#35b779\"],[0.7777777777777778,\"#6ece58\"],[0.8888888888888888,\"#b5de2b\"],[1.0,\"#fde725\"]],\"type\":\"surface\"}],\"table\":[{\"cells\":{\"fill\":{\"color\":\"rgb(237,237,237)\"},\"line\":{\"color\":\"white\"}},\"header\":{\"fill\":{\"color\":\"rgb(217,217,217)\"},\"line\":{\"color\":\"white\"}},\"type\":\"table\"}]},\"layout\":{\"annotationdefaults\":{\"arrowhead\":0,\"arrowwidth\":1},\"autotypenumbers\":\"strict\",\"coloraxis\":{\"colorbar\":{\"outlinewidth\":1,\"tickcolor\":\"rgb(36,36,36)\",\"ticks\":\"outside\"}},\"colorscale\":{\"diverging\":[[0.0,\"rgb(103,0,31)\"],[0.1,\"rgb(178,24,43)\"],[0.2,\"rgb(214,96,77)\"],[0.3,\"rgb(244,165,130)\"],[0.4,\"rgb(253,219,199)\"],[0.5,\"rgb(247,247,247)\"],[0.6,\"rgb(209,229,240)\"],[0.7,\"rgb(146,197,222)\"],[0.8,\"rgb(67,147,195)\"],[0.9,\"rgb(33,102,172)\"],[1.0,\"rgb(5,48,97)\"]],\"sequential\":[[0.0,\"#440154\"],[0.1111111111111111,\"#482878\"],[0.2222222222222222,\"#3e4989\"],[0.3333333333333333,\"#31688e\"],[0.4444444444444444,\"#26828e\"],[0.5555555555555556,\"#1f9e89\"],[0.6666666666666666,\"#35b779\"],[0.7777777777777778,\"#6ece58\"],[0.8888888888888888,\"#b5de2b\"],[1.0,\"#fde725\"]],\"sequentialminus\":[[0.0,\"#440154\"],[0.1111111111111111,\"#482878\"],[0.2222222222222222,\"#3e4989\"],[0.3333333333333333,\"#31688e\"],[0.4444444444444444,\"#26828e\"],[0.5555555555555556,\"#1f9e89\"],[0.6666666666666666,\"#35b779\"],[0.7777777777777778,\"#6ece58\"],[0.8888888888888888,\"#b5de2b\"],[1.0,\"#fde725\"]]},\"colorway\":[\"#91268F\",\"#8CC63E\",\"#00A7A0\",\"#F05A28\",\"#4C4C4C\",\"#630460\",\"#9f3913\",\"#588527\",\"#00716c\",\"#3e4040\"],\"font\":{\"color\":\"rgb(36,36,36)\",\"family\":\"Poppins\",\"size\":11},\"geo\":{\"bgcolor\":\"white\",\"lakecolor\":\"white\",\"landcolor\":\"white\",\"showlakes\":true,\"showland\":true,\"subunitcolor\":\"white\"},\"hoverlabel\":{\"align\":\"left\"},\"hovermode\":\"closest\",\"mapbox\":{\"style\":\"light\"},\"paper_bgcolor\":\"white\",\"plot_bgcolor\":\"white\",\"polar\":{\"angularaxis\":{\"gridcolor\":\"rgb(232,232,232)\",\"linecolor\":\"rgb(36,36,36)\",\"showgrid\":false,\"showline\":true,\"ticks\":\"outside\"},\"bgcolor\":\"white\",\"radialaxis\":{\"gridcolor\":\"rgb(232,232,232)\",\"linecolor\":\"rgb(36,36,36)\",\"showgrid\":false,\"showline\":true,\"ticks\":\"outside\"}},\"scene\":{\"xaxis\":{\"backgroundcolor\":\"white\",\"gridcolor\":\"rgb(232,232,232)\",\"gridwidth\":2,\"linecolor\":\"rgb(36,36,36)\",\"showbackground\":true,\"showgrid\":false,\"showline\":true,\"ticks\":\"outside\",\"zeroline\":false,\"zerolinecolor\":\"rgb(36,36,36)\"},\"yaxis\":{\"backgroundcolor\":\"white\",\"gridcolor\":\"rgb(232,232,232)\",\"gridwidth\":2,\"linecolor\":\"rgb(36,36,36)\",\"showbackground\":true,\"showgrid\":false,\"showline\":true,\"ticks\":\"outside\",\"zeroline\":false,\"zerolinecolor\":\"rgb(36,36,36)\"},\"zaxis\":{\"backgroundcolor\":\"white\",\"gridcolor\":\"rgb(232,232,232)\",\"gridwidth\":2,\"linecolor\":\"rgb(36,36,36)\",\"showbackground\":true,\"showgrid\":false,\"showline\":true,\"ticks\":\"outside\",\"zeroline\":false,\"zerolinecolor\":\"rgb(36,36,36)\"}},\"shapedefaults\":{\"fillcolor\":\"black\",\"line\":{\"width\":0},\"opacity\":0.3},\"ternary\":{\"aaxis\":{\"gridcolor\":\"rgb(232,232,232)\",\"linecolor\":\"rgb(36,36,36)\",\"showgrid\":false,\"showline\":true,\"ticks\":\"outside\"},\"baxis\":{\"gridcolor\":\"rgb(232,232,232)\",\"linecolor\":\"rgb(36,36,36)\",\"showgrid\":false,\"showline\":true,\"ticks\":\"outside\"},\"bgcolor\":\"white\",\"caxis\":{\"gridcolor\":\"rgb(232,232,232)\",\"linecolor\":\"rgb(36,36,36)\",\"showgrid\":false,\"showline\":true,\"ticks\":\"outside\"}},\"title\":{\"x\":0.05},\"xaxis\":{\"automargin\":true,\"gridcolor\":\"rgb(232,232,232)\",\"linecolor\":\"rgb(36,36,36)\",\"showgrid\":false,\"showline\":true,\"ticks\":\"outside\",\"title\":{\"standoff\":15},\"zeroline\":false,\"zerolinecolor\":\"rgb(36,36,36)\"},\"yaxis\":{\"automargin\":true,\"gridcolor\":\"rgb(232,232,232)\",\"linecolor\":\"rgb(36,36,36)\",\"showgrid\":false,\"showline\":true,\"ticks\":\"outside\",\"title\":{\"standoff\":15},\"zeroline\":false,\"zerolinecolor\":\"rgb(36,36,36)\"}}},\"xaxis\":{\"anchor\":\"y\",\"domain\":[0.0,0.98],\"title\":{\"text\":\"tlvorg_hr\"},\"dtick\":1,\"categoryorder\":\"category ascending\"},\"yaxis\":{\"anchor\":\"x\",\"domain\":[0.0,0.14166666666666666],\"title\":{\"text\":\"percentage\"},\"tickformat\":\".0%\"},\"xaxis2\":{\"anchor\":\"y2\",\"domain\":[0.0,0.98],\"matches\":\"x\",\"showticklabels\":false,\"dtick\":1,\"categoryorder\":\"category ascending\"},\"yaxis2\":{\"anchor\":\"x2\",\"domain\":[0.17166666666666666,0.31333333333333335],\"matches\":\"y\",\"title\":{\"text\":\"percentage\"},\"tickformat\":\".0%\"},\"xaxis3\":{\"anchor\":\"y3\",\"domain\":[0.0,0.98],\"matches\":\"x\",\"showticklabels\":false,\"dtick\":1,\"categoryorder\":\"category ascending\"},\"yaxis3\":{\"anchor\":\"x3\",\"domain\":[0.3433333333333333,0.485],\"matches\":\"y\",\"title\":{\"text\":\"percentage\"},\"tickformat\":\".0%\"},\"xaxis4\":{\"anchor\":\"y4\",\"domain\":[0.0,0.98],\"matches\":\"x\",\"showticklabels\":false,\"dtick\":1,\"categoryorder\":\"category ascending\"},\"yaxis4\":{\"anchor\":\"x4\",\"domain\":[0.515,0.6566666666666667],\"matches\":\"y\",\"title\":{\"text\":\"percentage\"},\"tickformat\":\".0%\"},\"xaxis5\":{\"anchor\":\"y5\",\"domain\":[0.0,0.98],\"matches\":\"x\",\"showticklabels\":false,\"dtick\":1,\"categoryorder\":\"category ascending\"},\"yaxis5\":{\"anchor\":\"x5\",\"domain\":[0.6866666666666666,0.8283333333333334],\"matches\":\"y\",\"title\":{\"text\":\"percentage\"},\"tickformat\":\".0%\"},\"xaxis6\":{\"anchor\":\"y6\",\"domain\":[0.0,0.98],\"matches\":\"x\",\"showticklabels\":false,\"dtick\":1,\"categoryorder\":\"category ascending\"},\"yaxis6\":{\"anchor\":\"x6\",\"domain\":[0.8583333333333333,1.0],\"matches\":\"y\",\"title\":{\"text\":\"percentage\"},\"tickformat\":\".0%\"},\"annotations\":[{\"font\":{},\"showarrow\":false,\"text\":\"Personal Business\",\"textangle\":90,\"x\":0.98,\"xanchor\":\"left\",\"xref\":\"paper\",\"y\":0.07083333333333333,\"yanchor\":\"middle\",\"yref\":\"paper\"},{\"font\":{},\"showarrow\":false,\"text\":\"Escort\",\"textangle\":90,\"x\":0.98,\"xanchor\":\"left\",\"xref\":\"paper\",\"y\":0.2425,\"yanchor\":\"middle\",\"yref\":\"paper\"},{\"font\":{},\"showarrow\":false,\"text\":\"Meal\",\"textangle\":90,\"x\":0.98,\"xanchor\":\"left\",\"xref\":\"paper\",\"y\":0.4141666666666667,\"yanchor\":\"middle\",\"yref\":\"paper\"},{\"font\":{},\"showarrow\":false,\"text\":\"Shop\",\"textangle\":90,\"x\":0.98,\"xanchor\":\"left\",\"xref\":\"paper\",\"y\":0.5858333333333334,\"yanchor\":\"middle\",\"yref\":\"paper\"},{\"font\":{},\"showarrow\":false,\"text\":\"School\",\"textangle\":90,\"x\":0.98,\"xanchor\":\"left\",\"xref\":\"paper\",\"y\":0.7575000000000001,\"yanchor\":\"middle\",\"yref\":\"paper\"},{\"font\":{},\"showarrow\":false,\"text\":\"Work\",\"textangle\":90,\"x\":0.98,\"xanchor\":\"left\",\"xref\":\"paper\",\"y\":0.9291666666666667,\"yanchor\":\"middle\",\"yref\":\"paper\"}],\"legend\":{\"title\":{\"text\":\"source\"},\"tracegroupgap\":0},\"title\":{\"text\":\"tour origin departure hour by purpose\"},\"barmode\":\"group\",\"height\":1500,\"width\":700},                        {\"responsive\": true}                    ).then(function(){\n",
       "                            \n",
       "var gd = document.getElementById('93dd4cf6-4e8c-47c1-ac04-dde90e779c36');\n",
       "var x = new MutationObserver(function (mutations, observer) {{\n",
       "        var display = window.getComputedStyle(gd).display;\n",
       "        if (!display || display === 'none') {{\n",
       "            console.log([gd, 'removed!']);\n",
       "            Plotly.purge(gd);\n",
       "            observer.disconnect();\n",
       "        }}\n",
       "}});\n",
       "\n",
       "// Listen for the removal of the full notebook cells\n",
       "var notebookContainer = gd.closest('#notebook-container');\n",
       "if (notebookContainer) {{\n",
       "    x.observe(notebookContainer, {childList: true});\n",
       "}}\n",
       "\n",
       "// Listen for the clearing of the current output cell\n",
       "var outputEl = gd.closest('.output');\n",
       "if (outputEl) {{\n",
       "    x.observe(outputEl, {childList: true});\n",
       "}}\n",
       "\n",
       "                        })                };                });            </script>        </div>"
      ]
     },
     "metadata": {},
     "output_type": "display_data"
    }
   ],
   "execution_count": 13
  }
 ],
 "metadata": {
  "kernelspec": {
   "display_name": "summary",
   "language": "python",
   "name": "python3"
  },
  "language_info": {
   "codemirror_mode": {
    "name": "ipython",
    "version": 3
   },
   "file_extension": ".py",
   "mimetype": "text/x-python",
   "name": "python",
   "nbconvert_exporter": "python",
   "pygments_lexer": "ipython3",
   "version": "3.9.15"
  }
 },
 "nbformat": 4,
 "nbformat_minor": 2
}
