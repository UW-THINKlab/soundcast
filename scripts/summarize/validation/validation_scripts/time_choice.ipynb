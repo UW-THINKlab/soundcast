{
 "cells": [
  {
   "cell_type": "raw",
   "metadata": {},
   "source": [
    "---\n",
    "title: \"Time Choice\"\n",
    "date: today\n",
    "---"
   ]
  },
  {
   "cell_type": "code",
   "execution_count": 1,
   "metadata": {
    "ExecuteTime": {
     "end_time": "2024-07-15T04:25:53.491736Z",
     "start_time": "2024-07-15T04:25:52.116355Z"
    },
    "execution": {
     "iopub.execute_input": "2024-07-15T04:41:23.707209Z",
     "iopub.status.busy": "2024-07-15T04:41:23.707209Z",
     "iopub.status.idle": "2024-07-15T04:41:25.629549Z",
     "shell.execute_reply": "2024-07-15T04:41:25.628550Z"
    }
   },
   "outputs": [],
   "source": [
    "import os\n",
    "import pandas as pd\n",
    "import numpy as np\n",
    "import validation_data_input\n",
    "import plotly.express as px\n",
    "import toml\n",
    "import math\n",
    "import psrc_theme\n",
    "\n",
    "# to show plotly figures in quarto HTML file\n",
    "import plotly.io as pio\n",
    "pio.renderers.default = \"plotly_mimetype+notebook_connected\"\n",
    "pio.templates.default = \"simple_white+psrc_color\" # set plotly template\n",
    "\n",
    "config = toml.load(os.path.join(os.getcwd(), '..\\\\..\\\\..\\\\..\\\\configuration', 'validation_configuration.toml'))"
   ]
  },
  {
   "cell_type": "code",
   "execution_count": 2,
   "metadata": {
    "ExecuteTime": {
     "end_time": "2024-07-15T04:26:18.475538Z",
     "start_time": "2024-07-15T04:25:57.037934Z"
    },
    "execution": {
     "iopub.execute_input": "2024-07-15T04:41:25.637527Z",
     "iopub.status.busy": "2024-07-15T04:41:25.636529Z",
     "iopub.status.idle": "2024-07-15T04:41:46.722641Z",
     "shell.execute_reply": "2024-07-15T04:41:46.722641Z"
    }
   },
   "outputs": [],
   "source": [
    "tour = validation_data_input.get_data('tour')\n",
    "# person = validation_data_input.get_data('person')"
   ]
  },
  {
   "cell_type": "code",
   "execution_count": 3,
   "metadata": {
    "ExecuteTime": {
     "end_time": "2024-07-15T04:36:01.318077Z",
     "start_time": "2024-07-15T04:35:58.005548Z"
    },
    "collapsed": false,
    "execution": {
     "iopub.execute_input": "2024-07-15T04:41:46.738262Z",
     "iopub.status.busy": "2024-07-15T04:41:46.722641Z",
     "iopub.status.idle": "2024-07-15T04:41:53.316566Z",
     "shell.execute_reply": "2024-07-15T04:41:53.316566Z"
    }
   },
   "outputs": [],
   "source": [
    "# df_person = person.copy()\n",
    "df_tour = tour.copy()\n",
    "\n",
    "# ptype_cat = {1: \"1: full time worker\",\n",
    "#              2: \"2: part time worker\",\n",
    "#              3: \"3: non-worker age 65+\",\n",
    "#              4: \"4: other non-working adult\",\n",
    "#              5: \"5: university student\",\n",
    "#              6: \"6: grade school student/child age 16+\",\n",
    "#              7: \"7: child age 5-15\",\n",
    "#              8: \"8: child age 0-4\"}\n",
    "pdpurp_cat = {1: \"Work\",\n",
    "              2: \"School\",\n",
    "              3: \"Escort\",\n",
    "              4: \"Personal Business\",\n",
    "              5: \"Shop\",\n",
    "              6: \"Meal\",\n",
    "              7: \"Social\",\n",
    "              8: \"Social\",\n",
    "              9: \"Personal Business\"}\n",
    "# df_person['pptyp_label'] = df_person['pptyp'].map(ptype_cat)\n",
    "# df_person['pptyp_label'] = df_person['pptyp_label'].astype(pd.CategoricalDtype([\"1: full time worker\",\"2: part time worker\",\"3: non-worker age 65+\",\"4: other non-working adult\",\"5: university student\",\"6: grade school student/child age 16+\",\"7: child age 5-15\",\"8: child age 0-4\"]))\n",
    "\n",
    "df_tour['pdpurp_label'] = df_tour['pdpurp'].map(pdpurp_cat)\n",
    "df_tour['pdpurp_label'] = df_tour['pdpurp_label'].astype(pd.CategoricalDtype([\"Work\",\"School\",\"Shop\",\"Meal\",\"Escort\",\"Personal Business\"]))\n",
    "\n",
    "df_tour['tlvorg_hr'] = df_tour['tlvorig'].apply(lambda row: int(math.floor(row/60)))\n",
    "\n",
    "# df_tour = df_tour.merge(df_person, how='left', on=['pno','hhno','source'])"
   ]
  },
  {
   "cell_type": "code",
   "execution_count": 4,
   "metadata": {
    "ExecuteTime": {
     "end_time": "2024-07-15T04:37:09.021826Z",
     "start_time": "2024-07-15T04:37:08.286683Z"
    },
    "collapsed": false,
    "execution": {
     "iopub.execute_input": "2024-07-15T04:41:53.332192Z",
     "iopub.status.busy": "2024-07-15T04:41:53.332192Z",
     "iopub.status.idle": "2024-07-15T04:41:54.503949Z",
     "shell.execute_reply": "2024-07-15T04:41:54.503949Z"
    }
   },
   "outputs": [
    {
     "data": {
      "text/html": [
       "        <script type=\"text/javascript\">\n",
       "        window.PlotlyConfig = {MathJaxConfig: 'local'};\n",
       "        if (window.MathJax && window.MathJax.Hub && window.MathJax.Hub.Config) {window.MathJax.Hub.Config({SVG: {font: \"STIX-Web\"}});}\n",
       "        if (typeof require !== 'undefined') {\n",
       "        require.undef(\"plotly\");\n",
       "        requirejs.config({\n",
       "            paths: {\n",
       "                'plotly': ['https://cdn.plot.ly/plotly-2.27.0.min']\n",
       "            }\n",
       "        });\n",
       "        require(['plotly'], function(Plotly) {\n",
       "            window._Plotly = Plotly;\n",
       "        });\n",
       "        }\n",
       "        </script>\n",
       "        "
      ]
     },
     "metadata": {},
     "output_type": "display_data"
    },
    {
     "data": {
      "application/vnd.plotly.v1+json": {
       "config": {
        "plotlyServerURL": "https://plot.ly"
       },
       "data": [
        {
         "alignmentgroup": "True",
         "customdata": [
          [
           4204.0
          ],
          [
           2831.0
          ],
          [
           1147.0
          ],
          [
           82100.0
          ],
          [
           70902.0
          ],
          [
           160185.0
          ],
          [
           437317.0
          ],
          [
           699687.0
          ],
          [
           749184.0
          ],
          [
           570976.0
          ],
          [
           477733.0
          ],
          [
           401540.0
          ],
          [
           377750.0
          ],
          [
           342677.0
          ],
          [
           311023.0
          ],
          [
           286278.0
          ],
          [
           313998.0
          ],
          [
           310876.0
          ],
          [
           295707.0
          ],
          [
           186046.0
          ],
          [
           143008.0
          ],
          [
           89614.0
          ],
          [
           22290.0
          ],
          [
           10580.0
          ]
         ],
         "hovertemplate": "source=model<br>tlvorg_hr=%{x}<br>percentage=%{y}<br>toexpfac=%{customdata[0]}<extra></extra>",
         "legendgroup": "model",
         "marker": {
          "color": "#91268F",
          "pattern": {
           "shape": ""
          }
         },
         "name": "model",
         "offsetgroup": "model",
         "orientation": "v",
         "showlegend": true,
         "textposition": "auto",
         "type": "bar",
         "x": [
          0,
          1,
          2,
          3,
          4,
          5,
          6,
          7,
          8,
          9,
          10,
          11,
          12,
          13,
          14,
          15,
          16,
          17,
          18,
          19,
          20,
          21,
          22,
          23
         ],
         "xaxis": "x",
         "y": [
          0.0006622920314012123,
          0.00044599161296309046,
          0.00018069670790132983,
          0.012933914314471821,
          0.011169797718936432,
          0.02523531138201789,
          0.06889428265848811,
          0.11022766997502857,
          0.11802535519821263,
          0.08995072667015667,
          0.07526136037997036,
          0.06325802623426328,
          0.05951018431536822,
          0.053984835024850915,
          0.04899811001010925,
          0.04509981878341491,
          0.049466787173148875,
          0.04897495184440611,
          0.046585249697801694,
          0.029309415621805415,
          0.022529271842679492,
          0.014117658920549059,
          0.00351153410559777,
          0.0016667577764569047
         ],
         "yaxis": "y"
        },
        {
         "alignmentgroup": "True",
         "customdata": [
          [
           520.3702253200515
          ],
          [
           587.7833791151987
          ],
          [
           322.70012578798855
          ],
          [
           12143.289638479979
          ],
          [
           82941.44408576241
          ],
          [
           144711.841502434
          ],
          [
           343063.2400804205
          ],
          [
           717987.7586524468
          ],
          [
           709289.0116873997
          ],
          [
           392695.2381930689
          ],
          [
           333119.4452993873
          ],
          [
           248148.3519912733
          ],
          [
           267584.4712460305
          ],
          [
           235545.0578396302
          ],
          [
           370969.1493775048
          ],
          [
           258846.55020107923
          ],
          [
           217582.5479308704
          ],
          [
           337519.56819881767
          ],
          [
           213751.30914249594
          ],
          [
           135516.39295514353
          ],
          [
           31678.915869293007
          ],
          [
           20304.2009160043
          ],
          [
           18292.573717580864
          ],
          [
           2205.7586376022605
          ]
         ],
         "hovertemplate": "source=survey<br>tlvorg_hr=%{x}<br>percentage=%{y}<br>toexpfac=%{customdata[0]}<extra></extra>",
         "legendgroup": "survey",
         "marker": {
          "color": "#8CC63E",
          "pattern": {
           "shape": ""
          }
         },
         "name": "survey",
         "offsetgroup": "survey",
         "orientation": "v",
         "showlegend": true,
         "textposition": "auto",
         "type": "bar",
         "x": [
          0,
          1,
          2,
          3,
          4,
          5,
          6,
          7,
          8,
          9,
          10,
          11,
          12,
          13,
          14,
          15,
          16,
          17,
          18,
          19,
          20,
          21,
          22,
          23
         ],
         "xaxis": "x",
         "y": [
          0.00010212695442170168,
          0.00011535734261469593,
          6.333256484449629e-05,
          0.002383220882162913,
          0.01627794340963109,
          0.02840089406020463,
          0.06732899420197545,
          0.1409110274480816,
          0.13920382651382582,
          0.07706968373891217,
          0.06537744235106635,
          0.04870116351881254,
          0.05251566244415845,
          0.046227662951795076,
          0.07280575937455352,
          0.0508007732731854,
          0.042702372031041484,
          0.06624100281039821,
          0.041950459776879896,
          0.026596211338208678,
          0.006217248873381195,
          0.003984867120793627,
          0.0035900686692094887,
          0.0004328983498414635
         ],
         "yaxis": "y"
        },
        {
         "alignmentgroup": "True",
         "customdata": [
          [
           818.5256193266233
          ],
          [
           72.74800084760997
          ],
          [
           13907.131040594093
          ],
          [
           60835.642021048836
          ],
          [
           210793.99623853824
          ],
          [
           463781.35173573333
          ],
          [
           728580.9263172238
          ],
          [
           686425.8292300178
          ],
          [
           515595.7618101818
          ],
          [
           378753.0073236862
          ],
          [
           378741.1542697421
          ],
          [
           278401.2763422066
          ],
          [
           194406.7394197493
          ],
          [
           230822.26930435168
          ],
          [
           277120.1887803302
          ],
          [
           235919.8171498615
          ],
          [
           410021.96131048887
          ],
          [
           247964.64092777378
          ],
          [
           148297.12773754023
          ],
          [
           58633.34622816313
          ],
          [
           32946.76056178034
          ],
          [
           9024.613185245682
          ],
          [
           3629.930451363426
          ]
         ],
         "hovertemplate": "source=survey (2017/2019)<br>tlvorg_hr=%{x}<br>percentage=%{y}<br>toexpfac=%{customdata[0]}<extra></extra>",
         "legendgroup": "survey (2017/2019)",
         "marker": {
          "color": "#00A7A0",
          "pattern": {
           "shape": ""
          }
         },
         "name": "survey (2017/2019)",
         "offsetgroup": "survey (2017/2019)",
         "orientation": "v",
         "showlegend": true,
         "textposition": "auto",
         "type": "bar",
         "x": [
          0,
          2,
          3,
          4,
          5,
          6,
          7,
          8,
          9,
          10,
          11,
          12,
          13,
          14,
          15,
          16,
          17,
          18,
          19,
          20,
          21,
          22,
          23
         ],
         "xaxis": "x",
         "y": [
          0.00014707149262177072,
          1.3071254970259475e-05,
          0.0024988130755264266,
          0.010930859664478132,
          0.03787515861508891,
          0.08333155864569063,
          0.1309103610188505,
          0.12333599449464636,
          0.09264149647663444,
          0.068053789407233,
          0.06805165966774222,
          0.050022736359967,
          0.034930720147422746,
          0.04147380958565821,
          0.04979255241036827,
          0.042389729567450324,
          0.07367214957455899,
          0.04455392598300183,
          0.02664581219317742,
          0.010535154359956563,
          0.005919826012116025,
          0.001621529369575622,
          0.0006522206232645805
         ],
         "yaxis": "y"
        }
       ],
       "layout": {
        "barmode": "group",
        "font": {
         "size": 11
        },
        "height": 400,
        "legend": {
         "title": {
          "text": "source"
         },
         "tracegroupgap": 0
        },
        "template": {
         "data": {
          "bar": [
           {
            "error_x": {
             "color": "rgb(36,36,36)"
            },
            "error_y": {
             "color": "rgb(36,36,36)"
            },
            "marker": {
             "line": {
              "color": "white",
              "width": 0.5
             },
             "pattern": {
              "fillmode": "overlay",
              "size": 10,
              "solidity": 0.2
             }
            },
            "type": "bar"
           }
          ],
          "barpolar": [
           {
            "marker": {
             "line": {
              "color": "white",
              "width": 0.5
             },
             "pattern": {
              "fillmode": "overlay",
              "size": 10,
              "solidity": 0.2
             }
            },
            "type": "barpolar"
           }
          ],
          "carpet": [
           {
            "aaxis": {
             "endlinecolor": "rgb(36,36,36)",
             "gridcolor": "white",
             "linecolor": "white",
             "minorgridcolor": "white",
             "startlinecolor": "rgb(36,36,36)"
            },
            "baxis": {
             "endlinecolor": "rgb(36,36,36)",
             "gridcolor": "white",
             "linecolor": "white",
             "minorgridcolor": "white",
             "startlinecolor": "rgb(36,36,36)"
            },
            "type": "carpet"
           }
          ],
          "choropleth": [
           {
            "colorbar": {
             "outlinewidth": 1,
             "tickcolor": "rgb(36,36,36)",
             "ticks": "outside"
            },
            "type": "choropleth"
           }
          ],
          "contour": [
           {
            "colorbar": {
             "outlinewidth": 1,
             "tickcolor": "rgb(36,36,36)",
             "ticks": "outside"
            },
            "colorscale": [
             [
              0.0,
              "#440154"
             ],
             [
              0.1111111111111111,
              "#482878"
             ],
             [
              0.2222222222222222,
              "#3e4989"
             ],
             [
              0.3333333333333333,
              "#31688e"
             ],
             [
              0.4444444444444444,
              "#26828e"
             ],
             [
              0.5555555555555556,
              "#1f9e89"
             ],
             [
              0.6666666666666666,
              "#35b779"
             ],
             [
              0.7777777777777778,
              "#6ece58"
             ],
             [
              0.8888888888888888,
              "#b5de2b"
             ],
             [
              1.0,
              "#fde725"
             ]
            ],
            "type": "contour"
           }
          ],
          "contourcarpet": [
           {
            "colorbar": {
             "outlinewidth": 1,
             "tickcolor": "rgb(36,36,36)",
             "ticks": "outside"
            },
            "type": "contourcarpet"
           }
          ],
          "heatmap": [
           {
            "colorbar": {
             "outlinewidth": 1,
             "tickcolor": "rgb(36,36,36)",
             "ticks": "outside"
            },
            "colorscale": [
             [
              0.0,
              "#440154"
             ],
             [
              0.1111111111111111,
              "#482878"
             ],
             [
              0.2222222222222222,
              "#3e4989"
             ],
             [
              0.3333333333333333,
              "#31688e"
             ],
             [
              0.4444444444444444,
              "#26828e"
             ],
             [
              0.5555555555555556,
              "#1f9e89"
             ],
             [
              0.6666666666666666,
              "#35b779"
             ],
             [
              0.7777777777777778,
              "#6ece58"
             ],
             [
              0.8888888888888888,
              "#b5de2b"
             ],
             [
              1.0,
              "#fde725"
             ]
            ],
            "type": "heatmap"
           }
          ],
          "heatmapgl": [
           {
            "colorbar": {
             "outlinewidth": 1,
             "tickcolor": "rgb(36,36,36)",
             "ticks": "outside"
            },
            "colorscale": [
             [
              0.0,
              "#440154"
             ],
             [
              0.1111111111111111,
              "#482878"
             ],
             [
              0.2222222222222222,
              "#3e4989"
             ],
             [
              0.3333333333333333,
              "#31688e"
             ],
             [
              0.4444444444444444,
              "#26828e"
             ],
             [
              0.5555555555555556,
              "#1f9e89"
             ],
             [
              0.6666666666666666,
              "#35b779"
             ],
             [
              0.7777777777777778,
              "#6ece58"
             ],
             [
              0.8888888888888888,
              "#b5de2b"
             ],
             [
              1.0,
              "#fde725"
             ]
            ],
            "type": "heatmapgl"
           }
          ],
          "histogram": [
           {
            "marker": {
             "line": {
              "color": "white",
              "width": 0.6
             }
            },
            "type": "histogram"
           }
          ],
          "histogram2d": [
           {
            "colorbar": {
             "outlinewidth": 1,
             "tickcolor": "rgb(36,36,36)",
             "ticks": "outside"
            },
            "colorscale": [
             [
              0.0,
              "#440154"
             ],
             [
              0.1111111111111111,
              "#482878"
             ],
             [
              0.2222222222222222,
              "#3e4989"
             ],
             [
              0.3333333333333333,
              "#31688e"
             ],
             [
              0.4444444444444444,
              "#26828e"
             ],
             [
              0.5555555555555556,
              "#1f9e89"
             ],
             [
              0.6666666666666666,
              "#35b779"
             ],
             [
              0.7777777777777778,
              "#6ece58"
             ],
             [
              0.8888888888888888,
              "#b5de2b"
             ],
             [
              1.0,
              "#fde725"
             ]
            ],
            "type": "histogram2d"
           }
          ],
          "histogram2dcontour": [
           {
            "colorbar": {
             "outlinewidth": 1,
             "tickcolor": "rgb(36,36,36)",
             "ticks": "outside"
            },
            "colorscale": [
             [
              0.0,
              "#440154"
             ],
             [
              0.1111111111111111,
              "#482878"
             ],
             [
              0.2222222222222222,
              "#3e4989"
             ],
             [
              0.3333333333333333,
              "#31688e"
             ],
             [
              0.4444444444444444,
              "#26828e"
             ],
             [
              0.5555555555555556,
              "#1f9e89"
             ],
             [
              0.6666666666666666,
              "#35b779"
             ],
             [
              0.7777777777777778,
              "#6ece58"
             ],
             [
              0.8888888888888888,
              "#b5de2b"
             ],
             [
              1.0,
              "#fde725"
             ]
            ],
            "type": "histogram2dcontour"
           }
          ],
          "mesh3d": [
           {
            "colorbar": {
             "outlinewidth": 1,
             "tickcolor": "rgb(36,36,36)",
             "ticks": "outside"
            },
            "type": "mesh3d"
           }
          ],
          "parcoords": [
           {
            "line": {
             "colorbar": {
              "outlinewidth": 1,
              "tickcolor": "rgb(36,36,36)",
              "ticks": "outside"
             }
            },
            "type": "parcoords"
           }
          ],
          "pie": [
           {
            "automargin": true,
            "type": "pie"
           }
          ],
          "scatter": [
           {
            "fillpattern": {
             "fillmode": "overlay",
             "size": 10,
             "solidity": 0.2
            },
            "type": "scatter"
           }
          ],
          "scatter3d": [
           {
            "line": {
             "colorbar": {
              "outlinewidth": 1,
              "tickcolor": "rgb(36,36,36)",
              "ticks": "outside"
             }
            },
            "marker": {
             "colorbar": {
              "outlinewidth": 1,
              "tickcolor": "rgb(36,36,36)",
              "ticks": "outside"
             }
            },
            "type": "scatter3d"
           }
          ],
          "scattercarpet": [
           {
            "marker": {
             "colorbar": {
              "outlinewidth": 1,
              "tickcolor": "rgb(36,36,36)",
              "ticks": "outside"
             }
            },
            "type": "scattercarpet"
           }
          ],
          "scattergeo": [
           {
            "marker": {
             "colorbar": {
              "outlinewidth": 1,
              "tickcolor": "rgb(36,36,36)",
              "ticks": "outside"
             }
            },
            "type": "scattergeo"
           }
          ],
          "scattergl": [
           {
            "marker": {
             "colorbar": {
              "outlinewidth": 1,
              "tickcolor": "rgb(36,36,36)",
              "ticks": "outside"
             }
            },
            "type": "scattergl"
           }
          ],
          "scattermapbox": [
           {
            "marker": {
             "colorbar": {
              "outlinewidth": 1,
              "tickcolor": "rgb(36,36,36)",
              "ticks": "outside"
             }
            },
            "type": "scattermapbox"
           }
          ],
          "scatterpolar": [
           {
            "marker": {
             "colorbar": {
              "outlinewidth": 1,
              "tickcolor": "rgb(36,36,36)",
              "ticks": "outside"
             }
            },
            "type": "scatterpolar"
           }
          ],
          "scatterpolargl": [
           {
            "marker": {
             "colorbar": {
              "outlinewidth": 1,
              "tickcolor": "rgb(36,36,36)",
              "ticks": "outside"
             }
            },
            "type": "scatterpolargl"
           }
          ],
          "scatterternary": [
           {
            "marker": {
             "colorbar": {
              "outlinewidth": 1,
              "tickcolor": "rgb(36,36,36)",
              "ticks": "outside"
             }
            },
            "type": "scatterternary"
           }
          ],
          "surface": [
           {
            "colorbar": {
             "outlinewidth": 1,
             "tickcolor": "rgb(36,36,36)",
             "ticks": "outside"
            },
            "colorscale": [
             [
              0.0,
              "#440154"
             ],
             [
              0.1111111111111111,
              "#482878"
             ],
             [
              0.2222222222222222,
              "#3e4989"
             ],
             [
              0.3333333333333333,
              "#31688e"
             ],
             [
              0.4444444444444444,
              "#26828e"
             ],
             [
              0.5555555555555556,
              "#1f9e89"
             ],
             [
              0.6666666666666666,
              "#35b779"
             ],
             [
              0.7777777777777778,
              "#6ece58"
             ],
             [
              0.8888888888888888,
              "#b5de2b"
             ],
             [
              1.0,
              "#fde725"
             ]
            ],
            "type": "surface"
           }
          ],
          "table": [
           {
            "cells": {
             "fill": {
              "color": "rgb(237,237,237)"
             },
             "line": {
              "color": "white"
             }
            },
            "header": {
             "fill": {
              "color": "rgb(217,217,217)"
             },
             "line": {
              "color": "white"
             }
            },
            "type": "table"
           }
          ]
         },
         "layout": {
          "annotationdefaults": {
           "arrowhead": 0,
           "arrowwidth": 1
          },
          "autotypenumbers": "strict",
          "coloraxis": {
           "colorbar": {
            "outlinewidth": 1,
            "tickcolor": "rgb(36,36,36)",
            "ticks": "outside"
           }
          },
          "colorscale": {
           "diverging": [
            [
             0.0,
             "rgb(103,0,31)"
            ],
            [
             0.1,
             "rgb(178,24,43)"
            ],
            [
             0.2,
             "rgb(214,96,77)"
            ],
            [
             0.3,
             "rgb(244,165,130)"
            ],
            [
             0.4,
             "rgb(253,219,199)"
            ],
            [
             0.5,
             "rgb(247,247,247)"
            ],
            [
             0.6,
             "rgb(209,229,240)"
            ],
            [
             0.7,
             "rgb(146,197,222)"
            ],
            [
             0.8,
             "rgb(67,147,195)"
            ],
            [
             0.9,
             "rgb(33,102,172)"
            ],
            [
             1.0,
             "rgb(5,48,97)"
            ]
           ],
           "sequential": [
            [
             0.0,
             "#440154"
            ],
            [
             0.1111111111111111,
             "#482878"
            ],
            [
             0.2222222222222222,
             "#3e4989"
            ],
            [
             0.3333333333333333,
             "#31688e"
            ],
            [
             0.4444444444444444,
             "#26828e"
            ],
            [
             0.5555555555555556,
             "#1f9e89"
            ],
            [
             0.6666666666666666,
             "#35b779"
            ],
            [
             0.7777777777777778,
             "#6ece58"
            ],
            [
             0.8888888888888888,
             "#b5de2b"
            ],
            [
             1.0,
             "#fde725"
            ]
           ],
           "sequentialminus": [
            [
             0.0,
             "#440154"
            ],
            [
             0.1111111111111111,
             "#482878"
            ],
            [
             0.2222222222222222,
             "#3e4989"
            ],
            [
             0.3333333333333333,
             "#31688e"
            ],
            [
             0.4444444444444444,
             "#26828e"
            ],
            [
             0.5555555555555556,
             "#1f9e89"
            ],
            [
             0.6666666666666666,
             "#35b779"
            ],
            [
             0.7777777777777778,
             "#6ece58"
            ],
            [
             0.8888888888888888,
             "#b5de2b"
            ],
            [
             1.0,
             "#fde725"
            ]
           ]
          },
          "colorway": [
           "#91268F",
           "#8CC63E",
           "#00A7A0",
           "#F05A28",
           "#4C4C4C",
           "#630460",
           "#9f3913",
           "#588527",
           "#00716c",
           "#3e4040"
          ],
          "font": {
           "color": "rgb(36,36,36)",
           "family": "Poppins",
           "size": 11
          },
          "geo": {
           "bgcolor": "white",
           "lakecolor": "white",
           "landcolor": "white",
           "showlakes": true,
           "showland": true,
           "subunitcolor": "white"
          },
          "hoverlabel": {
           "align": "left"
          },
          "hovermode": "closest",
          "mapbox": {
           "style": "light"
          },
          "paper_bgcolor": "white",
          "plot_bgcolor": "white",
          "polar": {
           "angularaxis": {
            "gridcolor": "rgb(232,232,232)",
            "linecolor": "rgb(36,36,36)",
            "showgrid": false,
            "showline": true,
            "ticks": "outside"
           },
           "bgcolor": "white",
           "radialaxis": {
            "gridcolor": "rgb(232,232,232)",
            "linecolor": "rgb(36,36,36)",
            "showgrid": false,
            "showline": true,
            "ticks": "outside"
           }
          },
          "scene": {
           "xaxis": {
            "backgroundcolor": "white",
            "gridcolor": "rgb(232,232,232)",
            "gridwidth": 2,
            "linecolor": "rgb(36,36,36)",
            "showbackground": true,
            "showgrid": false,
            "showline": true,
            "ticks": "outside",
            "zeroline": false,
            "zerolinecolor": "rgb(36,36,36)"
           },
           "yaxis": {
            "backgroundcolor": "white",
            "gridcolor": "rgb(232,232,232)",
            "gridwidth": 2,
            "linecolor": "rgb(36,36,36)",
            "showbackground": true,
            "showgrid": false,
            "showline": true,
            "ticks": "outside",
            "zeroline": false,
            "zerolinecolor": "rgb(36,36,36)"
           },
           "zaxis": {
            "backgroundcolor": "white",
            "gridcolor": "rgb(232,232,232)",
            "gridwidth": 2,
            "linecolor": "rgb(36,36,36)",
            "showbackground": true,
            "showgrid": false,
            "showline": true,
            "ticks": "outside",
            "zeroline": false,
            "zerolinecolor": "rgb(36,36,36)"
           }
          },
          "shapedefaults": {
           "fillcolor": "black",
           "line": {
            "width": 0
           },
           "opacity": 0.3
          },
          "ternary": {
           "aaxis": {
            "gridcolor": "rgb(232,232,232)",
            "linecolor": "rgb(36,36,36)",
            "showgrid": false,
            "showline": true,
            "ticks": "outside"
           },
           "baxis": {
            "gridcolor": "rgb(232,232,232)",
            "linecolor": "rgb(36,36,36)",
            "showgrid": false,
            "showline": true,
            "ticks": "outside"
           },
           "bgcolor": "white",
           "caxis": {
            "gridcolor": "rgb(232,232,232)",
            "linecolor": "rgb(36,36,36)",
            "showgrid": false,
            "showline": true,
            "ticks": "outside"
           }
          },
          "title": {
           "x": 0.05
          },
          "xaxis": {
           "automargin": true,
           "gridcolor": "rgb(232,232,232)",
           "linecolor": "rgb(36,36,36)",
           "showgrid": false,
           "showline": true,
           "ticks": "outside",
           "title": {
            "standoff": 15
           },
           "zeroline": false,
           "zerolinecolor": "rgb(36,36,36)"
          },
          "yaxis": {
           "automargin": true,
           "gridcolor": "rgb(232,232,232)",
           "linecolor": "rgb(36,36,36)",
           "showgrid": false,
           "showline": true,
           "ticks": "outside",
           "title": {
            "standoff": 15
           },
           "zeroline": false,
           "zerolinecolor": "rgb(36,36,36)"
          }
         }
        },
        "title": {
         "text": "tour origin departure hour"
        },
        "width": 700,
        "xaxis": {
         "anchor": "y",
         "categoryorder": "category ascending",
         "domain": [
          0.0,
          1.0
         ],
         "dtick": 1,
         "title": {
          "text": "tlvorg_hr"
         }
        },
        "yaxis": {
         "anchor": "x",
         "domain": [
          0.0,
          1.0
         ],
         "tickformat": ".0%",
         "title": {
          "text": "percentage"
         }
        }
       }
      },
      "text/html": [
       "<div>                            <div id=\"f9e6951a-cc4b-4885-ad2c-02f7a22907dc\" class=\"plotly-graph-div\" style=\"height:400px; width:700px;\"></div>            <script type=\"text/javascript\">                require([\"plotly\"], function(Plotly) {                    window.PLOTLYENV=window.PLOTLYENV || {};                                    if (document.getElementById(\"f9e6951a-cc4b-4885-ad2c-02f7a22907dc\")) {                    Plotly.newPlot(                        \"f9e6951a-cc4b-4885-ad2c-02f7a22907dc\",                        [{\"alignmentgroup\":\"True\",\"customdata\":[[4204.0],[2831.0],[1147.0],[82100.0],[70902.0],[160185.0],[437317.0],[699687.0],[749184.0],[570976.0],[477733.0],[401540.0],[377750.0],[342677.0],[311023.0],[286278.0],[313998.0],[310876.0],[295707.0],[186046.0],[143008.0],[89614.0],[22290.0],[10580.0]],\"hovertemplate\":\"source=model\\u003cbr\\u003etlvorg_hr=%{x}\\u003cbr\\u003epercentage=%{y}\\u003cbr\\u003etoexpfac=%{customdata[0]}\\u003cextra\\u003e\\u003c\\u002fextra\\u003e\",\"legendgroup\":\"model\",\"marker\":{\"color\":\"#91268F\",\"pattern\":{\"shape\":\"\"}},\"name\":\"model\",\"offsetgroup\":\"model\",\"orientation\":\"v\",\"showlegend\":true,\"textposition\":\"auto\",\"x\":[0,1,2,3,4,5,6,7,8,9,10,11,12,13,14,15,16,17,18,19,20,21,22,23],\"xaxis\":\"x\",\"y\":[0.0006622920314012123,0.00044599161296309046,0.00018069670790132983,0.012933914314471821,0.011169797718936432,0.02523531138201789,0.06889428265848811,0.11022766997502857,0.11802535519821263,0.08995072667015667,0.07526136037997036,0.06325802623426328,0.05951018431536822,0.053984835024850915,0.04899811001010925,0.04509981878341491,0.049466787173148875,0.04897495184440611,0.046585249697801694,0.029309415621805415,0.022529271842679492,0.014117658920549059,0.00351153410559777,0.0016667577764569047],\"yaxis\":\"y\",\"type\":\"bar\"},{\"alignmentgroup\":\"True\",\"customdata\":[[520.3702253200515],[587.7833791151987],[322.70012578798855],[12143.289638479979],[82941.44408576241],[144711.841502434],[343063.2400804205],[717987.7586524468],[709289.0116873997],[392695.2381930689],[333119.4452993873],[248148.3519912733],[267584.4712460305],[235545.0578396302],[370969.1493775048],[258846.55020107923],[217582.5479308704],[337519.56819881767],[213751.30914249594],[135516.39295514353],[31678.915869293007],[20304.2009160043],[18292.573717580864],[2205.7586376022605]],\"hovertemplate\":\"source=survey\\u003cbr\\u003etlvorg_hr=%{x}\\u003cbr\\u003epercentage=%{y}\\u003cbr\\u003etoexpfac=%{customdata[0]}\\u003cextra\\u003e\\u003c\\u002fextra\\u003e\",\"legendgroup\":\"survey\",\"marker\":{\"color\":\"#8CC63E\",\"pattern\":{\"shape\":\"\"}},\"name\":\"survey\",\"offsetgroup\":\"survey\",\"orientation\":\"v\",\"showlegend\":true,\"textposition\":\"auto\",\"x\":[0,1,2,3,4,5,6,7,8,9,10,11,12,13,14,15,16,17,18,19,20,21,22,23],\"xaxis\":\"x\",\"y\":[0.00010212695442170168,0.00011535734261469593,6.333256484449629e-05,0.002383220882162913,0.01627794340963109,0.02840089406020463,0.06732899420197545,0.1409110274480816,0.13920382651382582,0.07706968373891217,0.06537744235106635,0.04870116351881254,0.05251566244415845,0.046227662951795076,0.07280575937455352,0.0508007732731854,0.042702372031041484,0.06624100281039821,0.041950459776879896,0.026596211338208678,0.006217248873381195,0.003984867120793627,0.0035900686692094887,0.0004328983498414635],\"yaxis\":\"y\",\"type\":\"bar\"},{\"alignmentgroup\":\"True\",\"customdata\":[[818.5256193266233],[72.74800084760997],[13907.131040594093],[60835.642021048836],[210793.99623853824],[463781.35173573333],[728580.9263172238],[686425.8292300178],[515595.7618101818],[378753.0073236862],[378741.1542697421],[278401.2763422066],[194406.7394197493],[230822.26930435168],[277120.1887803302],[235919.8171498615],[410021.96131048887],[247964.64092777378],[148297.12773754023],[58633.34622816313],[32946.76056178034],[9024.613185245682],[3629.930451363426]],\"hovertemplate\":\"source=survey (2017\\u002f2019)\\u003cbr\\u003etlvorg_hr=%{x}\\u003cbr\\u003epercentage=%{y}\\u003cbr\\u003etoexpfac=%{customdata[0]}\\u003cextra\\u003e\\u003c\\u002fextra\\u003e\",\"legendgroup\":\"survey (2017\\u002f2019)\",\"marker\":{\"color\":\"#00A7A0\",\"pattern\":{\"shape\":\"\"}},\"name\":\"survey (2017\\u002f2019)\",\"offsetgroup\":\"survey (2017\\u002f2019)\",\"orientation\":\"v\",\"showlegend\":true,\"textposition\":\"auto\",\"x\":[0,2,3,4,5,6,7,8,9,10,11,12,13,14,15,16,17,18,19,20,21,22,23],\"xaxis\":\"x\",\"y\":[0.00014707149262177072,1.3071254970259475e-05,0.0024988130755264266,0.010930859664478132,0.03787515861508891,0.08333155864569063,0.1309103610188505,0.12333599449464636,0.09264149647663444,0.068053789407233,0.06805165966774222,0.050022736359967,0.034930720147422746,0.04147380958565821,0.04979255241036827,0.042389729567450324,0.07367214957455899,0.04455392598300183,0.02664581219317742,0.010535154359956563,0.005919826012116025,0.001621529369575622,0.0006522206232645805],\"yaxis\":\"y\",\"type\":\"bar\"}],                        {\"template\":{\"data\":{\"barpolar\":[{\"marker\":{\"line\":{\"color\":\"white\",\"width\":0.5},\"pattern\":{\"fillmode\":\"overlay\",\"size\":10,\"solidity\":0.2}},\"type\":\"barpolar\"}],\"bar\":[{\"error_x\":{\"color\":\"rgb(36,36,36)\"},\"error_y\":{\"color\":\"rgb(36,36,36)\"},\"marker\":{\"line\":{\"color\":\"white\",\"width\":0.5},\"pattern\":{\"fillmode\":\"overlay\",\"size\":10,\"solidity\":0.2}},\"type\":\"bar\"}],\"carpet\":[{\"aaxis\":{\"endlinecolor\":\"rgb(36,36,36)\",\"gridcolor\":\"white\",\"linecolor\":\"white\",\"minorgridcolor\":\"white\",\"startlinecolor\":\"rgb(36,36,36)\"},\"baxis\":{\"endlinecolor\":\"rgb(36,36,36)\",\"gridcolor\":\"white\",\"linecolor\":\"white\",\"minorgridcolor\":\"white\",\"startlinecolor\":\"rgb(36,36,36)\"},\"type\":\"carpet\"}],\"choropleth\":[{\"colorbar\":{\"outlinewidth\":1,\"tickcolor\":\"rgb(36,36,36)\",\"ticks\":\"outside\"},\"type\":\"choropleth\"}],\"contourcarpet\":[{\"colorbar\":{\"outlinewidth\":1,\"tickcolor\":\"rgb(36,36,36)\",\"ticks\":\"outside\"},\"type\":\"contourcarpet\"}],\"contour\":[{\"colorbar\":{\"outlinewidth\":1,\"tickcolor\":\"rgb(36,36,36)\",\"ticks\":\"outside\"},\"colorscale\":[[0.0,\"#440154\"],[0.1111111111111111,\"#482878\"],[0.2222222222222222,\"#3e4989\"],[0.3333333333333333,\"#31688e\"],[0.4444444444444444,\"#26828e\"],[0.5555555555555556,\"#1f9e89\"],[0.6666666666666666,\"#35b779\"],[0.7777777777777778,\"#6ece58\"],[0.8888888888888888,\"#b5de2b\"],[1.0,\"#fde725\"]],\"type\":\"contour\"}],\"heatmapgl\":[{\"colorbar\":{\"outlinewidth\":1,\"tickcolor\":\"rgb(36,36,36)\",\"ticks\":\"outside\"},\"colorscale\":[[0.0,\"#440154\"],[0.1111111111111111,\"#482878\"],[0.2222222222222222,\"#3e4989\"],[0.3333333333333333,\"#31688e\"],[0.4444444444444444,\"#26828e\"],[0.5555555555555556,\"#1f9e89\"],[0.6666666666666666,\"#35b779\"],[0.7777777777777778,\"#6ece58\"],[0.8888888888888888,\"#b5de2b\"],[1.0,\"#fde725\"]],\"type\":\"heatmapgl\"}],\"heatmap\":[{\"colorbar\":{\"outlinewidth\":1,\"tickcolor\":\"rgb(36,36,36)\",\"ticks\":\"outside\"},\"colorscale\":[[0.0,\"#440154\"],[0.1111111111111111,\"#482878\"],[0.2222222222222222,\"#3e4989\"],[0.3333333333333333,\"#31688e\"],[0.4444444444444444,\"#26828e\"],[0.5555555555555556,\"#1f9e89\"],[0.6666666666666666,\"#35b779\"],[0.7777777777777778,\"#6ece58\"],[0.8888888888888888,\"#b5de2b\"],[1.0,\"#fde725\"]],\"type\":\"heatmap\"}],\"histogram2dcontour\":[{\"colorbar\":{\"outlinewidth\":1,\"tickcolor\":\"rgb(36,36,36)\",\"ticks\":\"outside\"},\"colorscale\":[[0.0,\"#440154\"],[0.1111111111111111,\"#482878\"],[0.2222222222222222,\"#3e4989\"],[0.3333333333333333,\"#31688e\"],[0.4444444444444444,\"#26828e\"],[0.5555555555555556,\"#1f9e89\"],[0.6666666666666666,\"#35b779\"],[0.7777777777777778,\"#6ece58\"],[0.8888888888888888,\"#b5de2b\"],[1.0,\"#fde725\"]],\"type\":\"histogram2dcontour\"}],\"histogram2d\":[{\"colorbar\":{\"outlinewidth\":1,\"tickcolor\":\"rgb(36,36,36)\",\"ticks\":\"outside\"},\"colorscale\":[[0.0,\"#440154\"],[0.1111111111111111,\"#482878\"],[0.2222222222222222,\"#3e4989\"],[0.3333333333333333,\"#31688e\"],[0.4444444444444444,\"#26828e\"],[0.5555555555555556,\"#1f9e89\"],[0.6666666666666666,\"#35b779\"],[0.7777777777777778,\"#6ece58\"],[0.8888888888888888,\"#b5de2b\"],[1.0,\"#fde725\"]],\"type\":\"histogram2d\"}],\"histogram\":[{\"marker\":{\"line\":{\"color\":\"white\",\"width\":0.6}},\"type\":\"histogram\"}],\"mesh3d\":[{\"colorbar\":{\"outlinewidth\":1,\"tickcolor\":\"rgb(36,36,36)\",\"ticks\":\"outside\"},\"type\":\"mesh3d\"}],\"parcoords\":[{\"line\":{\"colorbar\":{\"outlinewidth\":1,\"tickcolor\":\"rgb(36,36,36)\",\"ticks\":\"outside\"}},\"type\":\"parcoords\"}],\"pie\":[{\"automargin\":true,\"type\":\"pie\"}],\"scatter3d\":[{\"line\":{\"colorbar\":{\"outlinewidth\":1,\"tickcolor\":\"rgb(36,36,36)\",\"ticks\":\"outside\"}},\"marker\":{\"colorbar\":{\"outlinewidth\":1,\"tickcolor\":\"rgb(36,36,36)\",\"ticks\":\"outside\"}},\"type\":\"scatter3d\"}],\"scattercarpet\":[{\"marker\":{\"colorbar\":{\"outlinewidth\":1,\"tickcolor\":\"rgb(36,36,36)\",\"ticks\":\"outside\"}},\"type\":\"scattercarpet\"}],\"scattergeo\":[{\"marker\":{\"colorbar\":{\"outlinewidth\":1,\"tickcolor\":\"rgb(36,36,36)\",\"ticks\":\"outside\"}},\"type\":\"scattergeo\"}],\"scattergl\":[{\"marker\":{\"colorbar\":{\"outlinewidth\":1,\"tickcolor\":\"rgb(36,36,36)\",\"ticks\":\"outside\"}},\"type\":\"scattergl\"}],\"scattermapbox\":[{\"marker\":{\"colorbar\":{\"outlinewidth\":1,\"tickcolor\":\"rgb(36,36,36)\",\"ticks\":\"outside\"}},\"type\":\"scattermapbox\"}],\"scatterpolargl\":[{\"marker\":{\"colorbar\":{\"outlinewidth\":1,\"tickcolor\":\"rgb(36,36,36)\",\"ticks\":\"outside\"}},\"type\":\"scatterpolargl\"}],\"scatterpolar\":[{\"marker\":{\"colorbar\":{\"outlinewidth\":1,\"tickcolor\":\"rgb(36,36,36)\",\"ticks\":\"outside\"}},\"type\":\"scatterpolar\"}],\"scatter\":[{\"fillpattern\":{\"fillmode\":\"overlay\",\"size\":10,\"solidity\":0.2},\"type\":\"scatter\"}],\"scatterternary\":[{\"marker\":{\"colorbar\":{\"outlinewidth\":1,\"tickcolor\":\"rgb(36,36,36)\",\"ticks\":\"outside\"}},\"type\":\"scatterternary\"}],\"surface\":[{\"colorbar\":{\"outlinewidth\":1,\"tickcolor\":\"rgb(36,36,36)\",\"ticks\":\"outside\"},\"colorscale\":[[0.0,\"#440154\"],[0.1111111111111111,\"#482878\"],[0.2222222222222222,\"#3e4989\"],[0.3333333333333333,\"#31688e\"],[0.4444444444444444,\"#26828e\"],[0.5555555555555556,\"#1f9e89\"],[0.6666666666666666,\"#35b779\"],[0.7777777777777778,\"#6ece58\"],[0.8888888888888888,\"#b5de2b\"],[1.0,\"#fde725\"]],\"type\":\"surface\"}],\"table\":[{\"cells\":{\"fill\":{\"color\":\"rgb(237,237,237)\"},\"line\":{\"color\":\"white\"}},\"header\":{\"fill\":{\"color\":\"rgb(217,217,217)\"},\"line\":{\"color\":\"white\"}},\"type\":\"table\"}]},\"layout\":{\"annotationdefaults\":{\"arrowhead\":0,\"arrowwidth\":1},\"autotypenumbers\":\"strict\",\"coloraxis\":{\"colorbar\":{\"outlinewidth\":1,\"tickcolor\":\"rgb(36,36,36)\",\"ticks\":\"outside\"}},\"colorscale\":{\"diverging\":[[0.0,\"rgb(103,0,31)\"],[0.1,\"rgb(178,24,43)\"],[0.2,\"rgb(214,96,77)\"],[0.3,\"rgb(244,165,130)\"],[0.4,\"rgb(253,219,199)\"],[0.5,\"rgb(247,247,247)\"],[0.6,\"rgb(209,229,240)\"],[0.7,\"rgb(146,197,222)\"],[0.8,\"rgb(67,147,195)\"],[0.9,\"rgb(33,102,172)\"],[1.0,\"rgb(5,48,97)\"]],\"sequential\":[[0.0,\"#440154\"],[0.1111111111111111,\"#482878\"],[0.2222222222222222,\"#3e4989\"],[0.3333333333333333,\"#31688e\"],[0.4444444444444444,\"#26828e\"],[0.5555555555555556,\"#1f9e89\"],[0.6666666666666666,\"#35b779\"],[0.7777777777777778,\"#6ece58\"],[0.8888888888888888,\"#b5de2b\"],[1.0,\"#fde725\"]],\"sequentialminus\":[[0.0,\"#440154\"],[0.1111111111111111,\"#482878\"],[0.2222222222222222,\"#3e4989\"],[0.3333333333333333,\"#31688e\"],[0.4444444444444444,\"#26828e\"],[0.5555555555555556,\"#1f9e89\"],[0.6666666666666666,\"#35b779\"],[0.7777777777777778,\"#6ece58\"],[0.8888888888888888,\"#b5de2b\"],[1.0,\"#fde725\"]]},\"colorway\":[\"#91268F\",\"#8CC63E\",\"#00A7A0\",\"#F05A28\",\"#4C4C4C\",\"#630460\",\"#9f3913\",\"#588527\",\"#00716c\",\"#3e4040\"],\"font\":{\"color\":\"rgb(36,36,36)\",\"family\":\"Poppins\",\"size\":11},\"geo\":{\"bgcolor\":\"white\",\"lakecolor\":\"white\",\"landcolor\":\"white\",\"showlakes\":true,\"showland\":true,\"subunitcolor\":\"white\"},\"hoverlabel\":{\"align\":\"left\"},\"hovermode\":\"closest\",\"mapbox\":{\"style\":\"light\"},\"paper_bgcolor\":\"white\",\"plot_bgcolor\":\"white\",\"polar\":{\"angularaxis\":{\"gridcolor\":\"rgb(232,232,232)\",\"linecolor\":\"rgb(36,36,36)\",\"showgrid\":false,\"showline\":true,\"ticks\":\"outside\"},\"bgcolor\":\"white\",\"radialaxis\":{\"gridcolor\":\"rgb(232,232,232)\",\"linecolor\":\"rgb(36,36,36)\",\"showgrid\":false,\"showline\":true,\"ticks\":\"outside\"}},\"scene\":{\"xaxis\":{\"backgroundcolor\":\"white\",\"gridcolor\":\"rgb(232,232,232)\",\"gridwidth\":2,\"linecolor\":\"rgb(36,36,36)\",\"showbackground\":true,\"showgrid\":false,\"showline\":true,\"ticks\":\"outside\",\"zeroline\":false,\"zerolinecolor\":\"rgb(36,36,36)\"},\"yaxis\":{\"backgroundcolor\":\"white\",\"gridcolor\":\"rgb(232,232,232)\",\"gridwidth\":2,\"linecolor\":\"rgb(36,36,36)\",\"showbackground\":true,\"showgrid\":false,\"showline\":true,\"ticks\":\"outside\",\"zeroline\":false,\"zerolinecolor\":\"rgb(36,36,36)\"},\"zaxis\":{\"backgroundcolor\":\"white\",\"gridcolor\":\"rgb(232,232,232)\",\"gridwidth\":2,\"linecolor\":\"rgb(36,36,36)\",\"showbackground\":true,\"showgrid\":false,\"showline\":true,\"ticks\":\"outside\",\"zeroline\":false,\"zerolinecolor\":\"rgb(36,36,36)\"}},\"shapedefaults\":{\"fillcolor\":\"black\",\"line\":{\"width\":0},\"opacity\":0.3},\"ternary\":{\"aaxis\":{\"gridcolor\":\"rgb(232,232,232)\",\"linecolor\":\"rgb(36,36,36)\",\"showgrid\":false,\"showline\":true,\"ticks\":\"outside\"},\"baxis\":{\"gridcolor\":\"rgb(232,232,232)\",\"linecolor\":\"rgb(36,36,36)\",\"showgrid\":false,\"showline\":true,\"ticks\":\"outside\"},\"bgcolor\":\"white\",\"caxis\":{\"gridcolor\":\"rgb(232,232,232)\",\"linecolor\":\"rgb(36,36,36)\",\"showgrid\":false,\"showline\":true,\"ticks\":\"outside\"}},\"title\":{\"x\":0.05},\"xaxis\":{\"automargin\":true,\"gridcolor\":\"rgb(232,232,232)\",\"linecolor\":\"rgb(36,36,36)\",\"showgrid\":false,\"showline\":true,\"ticks\":\"outside\",\"title\":{\"standoff\":15},\"zeroline\":false,\"zerolinecolor\":\"rgb(36,36,36)\"},\"yaxis\":{\"automargin\":true,\"gridcolor\":\"rgb(232,232,232)\",\"linecolor\":\"rgb(36,36,36)\",\"showgrid\":false,\"showline\":true,\"ticks\":\"outside\",\"title\":{\"standoff\":15},\"zeroline\":false,\"zerolinecolor\":\"rgb(36,36,36)\"}}},\"xaxis\":{\"anchor\":\"y\",\"domain\":[0.0,1.0],\"title\":{\"text\":\"tlvorg_hr\"},\"dtick\":1,\"categoryorder\":\"category ascending\"},\"yaxis\":{\"anchor\":\"x\",\"domain\":[0.0,1.0],\"title\":{\"text\":\"percentage\"},\"tickformat\":\".0%\"},\"legend\":{\"title\":{\"text\":\"source\"},\"tracegroupgap\":0},\"title\":{\"text\":\"tour origin departure hour\"},\"barmode\":\"group\",\"font\":{\"size\":11},\"height\":400,\"width\":700},                        {\"responsive\": true}                    ).then(function(){\n",
       "                            \n",
       "var gd = document.getElementById('f9e6951a-cc4b-4885-ad2c-02f7a22907dc');\n",
       "var x = new MutationObserver(function (mutations, observer) {{\n",
       "        var display = window.getComputedStyle(gd).display;\n",
       "        if (!display || display === 'none') {{\n",
       "            console.log([gd, 'removed!']);\n",
       "            Plotly.purge(gd);\n",
       "            observer.disconnect();\n",
       "        }}\n",
       "}});\n",
       "\n",
       "// Listen for the removal of the full notebook cells\n",
       "var notebookContainer = gd.closest('#notebook-container');\n",
       "if (notebookContainer) {{\n",
       "    x.observe(notebookContainer, {childList: true});\n",
       "}}\n",
       "\n",
       "// Listen for the clearing of the current output cell\n",
       "var outputEl = gd.closest('.output');\n",
       "if (outputEl) {{\n",
       "    x.observe(outputEl, {childList: true});\n",
       "}}\n",
       "\n",
       "                        })                };                });            </script>        </div>"
      ]
     },
     "metadata": {},
     "output_type": "display_data"
    }
   ],
   "source": [
    "df_plot = df_tour.groupby(['tlvorg_hr','source'])['toexpfac'].sum().reset_index()\n",
    "df_plot['percentage'] = df_plot.groupby(['source'], group_keys=False)['toexpfac']. \\\n",
    "    apply(lambda x: x / float(x.sum()))\n",
    "\n",
    "fig = px.bar(df_plot, x=\"tlvorg_hr\", y=\"percentage\", color=\"source\",\n",
    "             barmode=\"group\",title=\"tour origin departure hour\",\n",
    "             hover_data=['toexpfac'])\n",
    "fig.update_layout(height=400, width=700, font=dict(size=11),\n",
    "                  xaxis = dict(dtick = 1, categoryorder='category ascending'),\n",
    "                  yaxis=dict(tickformat=\".0%\"))\n",
    "fig.show()"
   ]
  },
  {
   "cell_type": "markdown",
   "metadata": {
    "collapsed": false
   },
   "source": [
    "## time choice by purpose"
   ]
  },
  {
   "cell_type": "code",
   "execution_count": 5,
   "metadata": {
    "ExecuteTime": {
     "end_time": "2024-07-15T04:43:21.363175Z",
     "start_time": "2024-07-15T04:43:20.456962Z"
    },
    "collapsed": false,
    "execution": {
     "iopub.execute_input": "2024-07-15T04:41:54.566405Z",
     "iopub.status.busy": "2024-07-15T04:41:54.566405Z",
     "iopub.status.idle": "2024-07-15T04:41:55.868137Z",
     "shell.execute_reply": "2024-07-15T04:41:55.866631Z"
    }
   },
   "outputs": [
    {
     "data": {
      "application/vnd.plotly.v1+json": {
       "config": {
        "plotlyServerURL": "https://plot.ly"
       },
       "data": [
        {
         "alignmentgroup": "True",
         "customdata": [
          [
           1423.0
          ],
          [
           2829.0
          ],
          [
           51300.0
          ],
          [
           51914.0
          ],
          [
           39618.0
          ],
          [
           50839.0
          ],
          [
           28720.0
          ],
          [
           65851.0
          ],
          [
           266764.0
          ],
          [
           273685.0
          ],
          [
           1955.0
          ],
          [
           136119.0
          ],
          [
           83060.0
          ],
          [
           117323.0
          ],
          [
           33314.0
          ],
          [
           24884.0
          ],
          [
           6055.0
          ],
          [
           20050.0
          ],
          [
           867.0
          ],
          [
           10840.0
          ],
          [
           8835.0
          ],
          [
           338711.0
          ],
          [
           26595.0
          ],
          [
           351.0
          ]
         ],
         "hovertemplate": "source=model<br>pdpurp_label=Work<br>tlvorg_hr=%{x}<br>percentage=%{y}<br>toexpfac=%{customdata[0]}<extra></extra>",
         "legendgroup": "model",
         "marker": {
          "color": "#91268F",
          "pattern": {
           "shape": ""
          }
         },
         "name": "model",
         "offsetgroup": "model",
         "orientation": "v",
         "showlegend": true,
         "textposition": "auto",
         "type": "bar",
         "x": [
          0,
          22,
          4,
          12,
          13,
          3,
          15,
          11,
          8,
          6,
          23,
          9,
          10,
          5,
          14,
          17,
          21,
          18,
          1,
          19,
          20,
          7,
          16,
          2
         ],
         "xaxis": "x6",
         "y": [
          0.0008666777919754041,
          0.001723001738227982,
          0.03124425209299946,
          0.03161820863851801,
          0.024129332932172565,
          0.030963480158986346,
          0.017491908774092485,
          0.0401065349819904,
          0.1624725470825908,
          0.1666877803912779,
          0.0011906922581250282,
          0.08290324270267044,
          0.05058767210223265,
          0.07145554363171493,
          0.020289883318249203,
          0.015155593939224143,
          0.003687796226571379,
          0.012211447455451056,
          0.0005280461318641429,
          0.006602099272672791,
          0.005380954527127685,
          0.20629184933083705,
          0.016197678058739194,
          0.0002137764616889437
         ],
         "yaxis": "y6"
        },
        {
         "alignmentgroup": "True",
         "customdata": [
          [
           93111.0
          ],
          [
           966.0
          ],
          [
           193948.0
          ],
          [
           886.0
          ],
          [
           4357.0
          ],
          [
           176897.0
          ],
          [
           6513.0
          ],
          [
           583.0
          ],
          [
           15266.0
          ],
          [
           9652.0
          ],
          [
           3425.0
          ],
          [
           24230.0
          ],
          [
           7.0
          ],
          [
           40688.0
          ],
          [
           3770.0
          ],
          [
           2690.0
          ],
          [
           0.0
          ],
          [
           5.0
          ],
          [
           66571.0
          ],
          [
           3296.0
          ],
          [
           4.0
          ],
          [
           3115.0
          ],
          [
           10597.0
          ],
          [
           8.0
          ]
         ],
         "hovertemplate": "source=model<br>pdpurp_label=School<br>tlvorg_hr=%{x}<br>percentage=%{y}<br>toexpfac=%{customdata[0]}<extra></extra>",
         "legendgroup": "model",
         "marker": {
          "color": "#91268F",
          "pattern": {
           "shape": ""
          }
         },
         "name": "model",
         "offsetgroup": "model",
         "orientation": "v",
         "showlegend": false,
         "textposition": "auto",
         "type": "bar",
         "x": [
          9,
          19,
          8,
          20,
          15,
          7,
          14,
          21,
          12,
          13,
          17,
          11,
          22,
          10,
          16,
          18,
          2,
          1,
          6,
          3,
          23,
          4,
          5,
          0
         ],
         "xaxis": "x5",
         "y": [
          0.1409523377006744,
          0.0014623401984604554,
          0.29360036936957395,
          0.0013412354201200452,
          0.006595668990364601,
          0.26778839967604473,
          0.009859442766638662,
          0.0008825510721557408,
          0.023109819326808813,
          0.014611291506770515,
          0.00518479832269882,
          0.0366796097398518,
          1.059666810478591e-05,
          0.06159389026393273,
          0.0057070626792918395,
          0.0040721481716963,
          0.0,
          7.5690486462756494e-06,
          0.10077582748624325,
          0.004989516867624908,
          6.05523891702052e-06,
          0.00471551730662973,
          0.01604184170091661,
          1.211047783404104e-05
         ],
         "yaxis": "y5"
        },
        {
         "alignmentgroup": "True",
         "customdata": [
          [
           2809.0
          ],
          [
           62683.0
          ],
          [
           1837.0
          ],
          [
           51664.0
          ],
          [
           49104.0
          ],
          [
           1400.0
          ],
          [
           10001.0
          ],
          [
           54360.0
          ],
          [
           52724.0
          ],
          [
           798.0
          ],
          [
           169.0
          ],
          [
           50885.0
          ],
          [
           55220.0
          ],
          [
           51620.0
          ],
          [
           31998.0
          ],
          [
           28289.0
          ],
          [
           9455.0
          ],
          [
           393.0
          ],
          [
           20043.0
          ],
          [
           49075.0
          ],
          [
           61160.0
          ],
          [
           314.0
          ],
          [
           49823.0
          ],
          [
           1110.0
          ]
         ],
         "hovertemplate": "source=model<br>pdpurp_label=Shop<br>tlvorg_hr=%{x}<br>percentage=%{y}<br>toexpfac=%{customdata[0]}<extra></extra>",
         "legendgroup": "model",
         "marker": {
          "color": "#91268F",
          "pattern": {
           "shape": ""
          }
         },
         "name": "model",
         "offsetgroup": "model",
         "orientation": "v",
         "showlegend": false,
         "textposition": "auto",
         "type": "bar",
         "x": [
          22,
          10,
          5,
          12,
          15,
          23,
          21,
          16,
          11,
          4,
          2,
          17,
          13,
          14,
          19,
          7,
          6,
          0,
          20,
          8,
          9,
          1,
          18,
          3
         ],
         "xaxis": "x4",
         "y": [
          0.004030510780073867,
          0.08994108480860455,
          0.0026358306525438562,
          0.07413040546163625,
          0.07045717385003458,
          0.0020087985375946645,
          0.014349995838917315,
          0.07799877750260427,
          0.07565135292581507,
          0.0011450151664289588,
          0.00024249068060964166,
          0.07301265256107466,
          0.0792327537471267,
          0.07406727179331185,
          0.04591252543282434,
          0.040590644164296766,
          0.013566564409255397,
          0.000563898446624788,
          0.028758820777864187,
          0.0704155630231844,
          0.0877557989709212,
          0.00045054481486051765,
          0.07148883538469927,
          0.0015926902690929126
         ],
         "yaxis": "y4"
        },
        {
         "alignmentgroup": "True",
         "customdata": [
          [
           1439.0
          ],
          [
           52827.0
          ],
          [
           131.0
          ],
          [
           16470.0
          ],
          [
           23675.0
          ],
          [
           484.0
          ],
          [
           42513.0
          ],
          [
           41669.0
          ],
          [
           42736.0
          ],
          [
           391.0
          ],
          [
           41187.0
          ],
          [
           21082.0
          ],
          [
           69422.0
          ],
          [
           83971.0
          ],
          [
           76387.0
          ],
          [
           1436.0
          ],
          [
           2980.0
          ],
          [
           30608.0
          ],
          [
           8684.0
          ],
          [
           56143.0
          ],
          [
           43133.0
          ],
          [
           14641.0
          ],
          [
           3754.0
          ],
          [
           1620.0
          ]
         ],
         "hovertemplate": "source=model<br>pdpurp_label=Meal<br>tlvorg_hr=%{x}<br>percentage=%{y}<br>toexpfac=%{customdata[0]}<extra></extra>",
         "legendgroup": "model",
         "marker": {
          "color": "#91268F",
          "pattern": {
           "shape": ""
          }
         },
         "name": "model",
         "offsetgroup": "model",
         "orientation": "v",
         "showlegend": false,
         "textposition": "auto",
         "type": "bar",
         "x": [
          23,
          14,
          2,
          21,
          19,
          0,
          15,
          18,
          17,
          1,
          16,
          20,
          10,
          12,
          11,
          4,
          22,
          8,
          6,
          13,
          9,
          7,
          5,
          3
         ],
         "xaxis": "x3",
         "y": [
          0.0021243521021342433,
          0.07798689958265856,
          0.000193391331049052,
          0.02431416200288463,
          0.03495068521058249,
          0.0007145145360896273,
          0.06276065386937671,
          0.06151468224032785,
          0.06308986201307089,
          0.000577221453741827,
          0.06080312024364355,
          0.031122717871573394,
          0.10248559529837625,
          0.12396384320244234,
          0.11276781377743463,
          0.0021199232930262497,
          0.0043992837139402675,
          0.045185663059155605,
          0.012819926097938684,
          0.0828822099166941,
          0.0636759410850287,
          0.021614064716711224,
          0.005541916463802605,
          0.002391556918316521
         ],
         "yaxis": "y3"
        },
        {
         "alignmentgroup": "True",
         "customdata": [
          [
           11811.0
          ],
          [
           81922.0
          ],
          [
           12413.0
          ],
          [
           44386.0
          ],
          [
           22824.0
          ],
          [
           31545.0
          ],
          [
           59135.0
          ],
          [
           3730.0
          ],
          [
           385.0
          ],
          [
           89816.0
          ],
          [
           48360.0
          ],
          [
           11157.0
          ],
          [
           56111.0
          ],
          [
           182.0
          ],
          [
           53792.0
          ],
          [
           58192.0
          ],
          [
           51989.0
          ],
          [
           338.0
          ],
          [
           1696.0
          ],
          [
           54280.0
          ],
          [
           6474.0
          ],
          [
           60580.0
          ],
          [
           79231.0
          ],
          [
           34383.0
          ]
         ],
         "hovertemplate": "source=model<br>pdpurp_label=Escort<br>tlvorg_hr=%{x}<br>percentage=%{y}<br>toexpfac=%{customdata[0]}<extra></extra>",
         "legendgroup": "model",
         "marker": {
          "color": "#91268F",
          "pattern": {
           "shape": ""
          }
         },
         "name": "model",
         "offsetgroup": "model",
         "orientation": "v",
         "showlegend": false,
         "textposition": "auto",
         "type": "bar",
         "x": [
          5,
          8,
          21,
          18,
          20,
          19,
          7,
          22,
          0,
          9,
          17,
          3,
          12,
          2,
          14,
          13,
          15,
          1,
          23,
          16,
          4,
          11,
          10,
          6
         ],
         "xaxis": "x2",
         "y": [
          0.013502421313042166,
          0.09365382768665145,
          0.014190632102175294,
          0.05074239881472268,
          0.026092563207931116,
          0.03606247399203413,
          0.06760356314848434,
          0.0042641631951271936,
          0.00044013480700374514,
          0.10267830604116461,
          0.055285504588834064,
          0.012754763744781258,
          0.06414650430074582,
          0.00020806372694722497,
          0.06149540659310509,
          0.06652551867314789,
          0.05943420384757846,
          0.00038640406433056065,
          0.0019388795653983162,
          0.06205329175107347,
          0.007401124001408432,
          0.06925549768386202,
          0.09057745686678892,
          0.03930689628366174
         ],
         "yaxis": "y2"
        },
        {
         "alignmentgroup": "True",
         "customdata": [
          [
           514.0
          ],
          [
           5529.0
          ],
          [
           1208.0
          ],
          [
           8997.0
          ],
          [
           30276.0
          ],
          [
           18528.0
          ],
          [
           9373.0
          ],
          [
           3025.0
          ],
          [
           1376.0
          ],
          [
           2502.0
          ],
          [
           38.0
          ],
          [
           123.0
          ],
          [
           175.0
          ],
          [
           35530.0
          ],
          [
           34368.0
          ],
          [
           12100.0
          ],
          [
           19993.0
          ],
          [
           22056.0
          ],
          [
           23489.0
          ],
          [
           20866.0
          ],
          [
           22897.0
          ],
          [
           26436.0
          ],
          [
           26420.0
          ],
          [
           27915.0
          ]
         ],
         "hovertemplate": "source=model<br>pdpurp_label=Personal Business<br>tlvorg_hr=%{x}<br>percentage=%{y}<br>toexpfac=%{customdata[0]}<extra></extra>",
         "legendgroup": "model",
         "marker": {
          "color": "#91268F",
          "pattern": {
           "shape": ""
          }
         },
         "name": "model",
         "offsetgroup": "model",
         "orientation": "v",
         "showlegend": false,
         "textposition": "auto",
         "type": "bar",
         "x": [
          23,
          21,
          22,
          20,
          8,
          7,
          6,
          5,
          4,
          3,
          2,
          1,
          0,
          9,
          10,
          19,
          18,
          17,
          16,
          15,
          14,
          13,
          12,
          11
         ],
         "xaxis": "x",
         "y": [
          0.0014530692554292207,
          0.01563038893631938,
          0.0034149954485573905,
          0.025434365935985796,
          0.08558973692096321,
          0.05237834078714514,
          0.02649731153917916,
          0.008551623536329558,
          0.0038899285904097428,
          0.0070731114340153904,
          0.00010742535351422256,
          0.0003477189074276151,
          0.000494722022762867,
          0.10044270553579808,
          0.09715775130465265,
          0.034206494145318234,
          0.05651987086341714,
          0.062351936766044544,
          0.06640300338672561,
          0.058987827011257044,
          0.06472942945829352,
          0.0747341222500523,
          0.07468889052225684,
          0.07891523008814533
         ],
         "yaxis": "y"
        },
        {
         "alignmentgroup": "True",
         "customdata": [
          [
           26843.559387681584
          ],
          [
           47069.110645288965
          ],
          [
           38841.596463089474
          ],
          [
           29706.812597293476
          ],
          [
           18524.446823193204
          ],
          [
           11536.937249213654
          ],
          [
           988.686151042609
          ],
          [
           393071.5312644367
          ],
          [
           333470.07784518343
          ],
          [
           269789.2629268081
          ],
          [
           165885.50163496353
          ],
          [
           176781.1604996762
          ],
          [
           988.686151042609
          ],
          [
           74340.17758940026
          ],
          [
           19186.686366792266
          ],
          [
           9235.10731416993
          ],
          [
           4129.18919406304
          ],
          [
           0.0
          ],
          [
           2189.811752997617
          ],
          [
           1627.1968036848764
          ],
          [
           663.365825915265
          ],
          [
           2.034207699983375
          ],
          [
           10080.046467017171
          ],
          [
           66.61248155133971
          ]
         ],
         "hovertemplate": "source=survey (2017/2019)<br>pdpurp_label=Work<br>tlvorg_hr=%{x}<br>percentage=%{y}<br>toexpfac=%{customdata[0]}<extra></extra>",
         "legendgroup": "survey (2017/2019)",
         "marker": {
          "color": "#8CC63E",
          "pattern": {
           "shape": ""
          }
         },
         "name": "survey (2017/2019)",
         "offsetgroup": "survey (2017/2019)",
         "orientation": "v",
         "showlegend": true,
         "textposition": "auto",
         "type": "bar",
         "x": [
          11,
          4,
          12,
          13,
          14,
          3,
          22,
          7,
          6,
          8,
          9,
          5,
          23,
          10,
          15,
          17,
          18,
          1,
          19,
          20,
          0,
          21,
          16,
          2
         ],
         "xaxis": "x6",
         "y": [
          0.016417902428935094,
          0.02878813702871791,
          0.023756072423380285,
          0.018169108785209716,
          0.011329814951170301,
          0.007056154787477896,
          0.0006046945014343298,
          0.24040813495296307,
          0.20395503897087564,
          0.1650069475190118,
          0.10145793040648646,
          0.10812187021999357,
          0.0006046945014343298,
          0.045467509155010515,
          0.011734850067950726,
          0.00564832288501819,
          0.0025254707961660976,
          0.0,
          0.0013393199902896817,
          0.0009952166912646037,
          0.00040572396705202367,
          1.2441503399821667e-06,
          0.006165099679387678,
          4.074114043016966e-05
         ],
         "yaxis": "y6"
        },
        {
         "alignmentgroup": "True",
         "customdata": [
          [
           9372.079396235318
          ],
          [
           0.0
          ],
          [
           36237.68696938745
          ],
          [
           75.14674575208934
          ],
          [
           158860.1815105916
          ],
          [
           0.0
          ],
          [
           184966.19363985508
          ],
          [
           2899.564229654071
          ],
          [
           5634.82123136347
          ],
          [
           3740.5243791076186
          ],
          [
           8698.72148985911
          ],
          [
           5464.016981777702
          ],
          [
           0.0
          ],
          [
           13587.301864651043
          ],
          [
           675.1015338263429
          ],
          [
           17571.07859392331
          ],
          [
           0.0
          ],
          [
           0.0
          ],
          [
           0.0
          ],
          [
           0.0
          ],
          [
           67142.9621295134
          ],
          [
           0.0
          ],
          [
           10420.73913625376
          ],
          [
           0.0
          ]
         ],
         "hovertemplate": "source=survey (2017/2019)<br>pdpurp_label=School<br>tlvorg_hr=%{x}<br>percentage=%{y}<br>toexpfac=%{customdata[0]}<extra></extra>",
         "legendgroup": "survey (2017/2019)",
         "marker": {
          "color": "#8CC63E",
          "pattern": {
           "shape": ""
          }
         },
         "name": "survey (2017/2019)",
         "offsetgroup": "survey (2017/2019)",
         "orientation": "v",
         "showlegend": false,
         "textposition": "auto",
         "type": "bar",
         "x": [
          12,
          22,
          9,
          19,
          8,
          20,
          7,
          14,
          16,
          13,
          17,
          11,
          21,
          10,
          18,
          15,
          4,
          1,
          2,
          3,
          6,
          23,
          5,
          0
         ],
         "xaxis": "x5",
         "y": [
          0.01783981844052992,
          0.0,
          0.06897868967033205,
          0.00014304235420289395,
          0.3023914625303953,
          0.0,
          0.3520844385394772,
          0.005519340716902397,
          0.010725921480429116,
          0.0071201142216593665,
          0.016558076973415135,
          0.010400794401084797,
          0.0,
          0.025863523783144236,
          0.0012850604741166693,
          0.03344667054845797,
          0.0,
          0.0,
          0.0,
          0.0,
          0.127807096302561,
          0.0,
          0.019835949563291974,
          0.0
         ],
         "yaxis": "y5"
        },
        {
         "alignmentgroup": "True",
         "customdata": [
          [
           0.0
          ],
          [
           18875.025830543796
          ],
          [
           102892.51383715212
          ],
          [
           35570.71695496433
          ],
          [
           16066.913929221464
          ],
          [
           44948.325094358785
          ],
          [
           64356.26229586239
          ],
          [
           0.54525469613021
          ],
          [
           91115.22510114146
          ],
          [
           608.1118660539306
          ],
          [
           89633.42932089814
          ],
          [
           28021.09586572641
          ],
          [
           37186.01221540865
          ],
          [
           2123.97370652186
          ],
          [
           83.24521252225395
          ],
          [
           6154.285694475871
          ],
          [
           13477.069989906293
          ],
          [
           22829.07546272082
          ],
          [
           51437.90924882699
          ],
          [
           134178.9118874883
          ],
          [
           313.64492561617914
          ],
          [
           11.087229656279533
          ],
          [
           25821.85826057283
          ],
          [
           557.4277959529772
          ]
         ],
         "hovertemplate": "source=survey (2017/2019)<br>pdpurp_label=Shop<br>tlvorg_hr=%{x}<br>percentage=%{y}<br>toexpfac=%{customdata[0]}<extra></extra>",
         "legendgroup": "survey (2017/2019)",
         "marker": {
          "color": "#8CC63E",
          "pattern": {
           "shape": ""
          }
         },
         "name": "survey (2017/2019)",
         "offsetgroup": "survey (2017/2019)",
         "orientation": "v",
         "showlegend": false,
         "textposition": "auto",
         "type": "bar",
         "x": [
          1,
          21,
          10,
          16,
          20,
          17,
          15,
          2,
          11,
          4,
          12,
          13,
          19,
          23,
          0,
          6,
          7,
          8,
          14,
          9,
          5,
          3,
          18,
          22
         ],
         "xaxis": "x4",
         "y": [
          0.0,
          0.02400600540152188,
          0.13086277418247516,
          0.04524024661068652,
          0.020434537469428478,
          0.05716706004494252,
          0.08185084323414253,
          6.934765174904071e-07,
          0.11588395192547753,
          0.0007734207556737221,
          0.11399934536526235,
          0.03563833950471529,
          0.04729464309710245,
          0.0027013538804775894,
          0.00010587455823378287,
          0.007827264288296878,
          0.017140671375974366,
          0.029034922324873844,
          0.06542077019423911,
          0.17065405432870717,
          0.00039890603838633267,
          1.410117778942885e-05,
          0.032841262017111884,
          0.0007089587479637414
         ],
         "yaxis": "y4"
        },
        {
         "alignmentgroup": "True",
         "customdata": [
          [
           0.0
          ],
          [
           6320.630172016206
          ],
          [
           5593.375487917708
          ],
          [
           10816.375339993583
          ],
          [
           0.0
          ],
          [
           47203.97984922029
          ],
          [
           0.0
          ],
          [
           23708.46135221934
          ],
          [
           0.0
          ],
          [
           9277.003714894172
          ],
          [
           33989.642419100965
          ],
          [
           62591.62622065111
          ],
          [
           5109.103377173227
          ],
          [
           9391.502890534057
          ],
          [
           79799.76079279724
          ],
          [
           104.37588060467607
          ],
          [
           23115.5301076332
          ],
          [
           0.0
          ],
          [
           10422.979978670437
          ],
          [
           496.1524996618177
          ],
          [
           11355.197307710754
          ],
          [
           24590.122393228026
          ],
          [
           4466.581191293693
          ],
          [
           1004.4129807216316
          ]
         ],
         "hovertemplate": "source=survey (2017/2019)<br>pdpurp_label=Meal<br>tlvorg_hr=%{x}<br>percentage=%{y}<br>toexpfac=%{customdata[0]}<extra></extra>",
         "legendgroup": "survey (2017/2019)",
         "marker": {
          "color": "#8CC63E",
          "pattern": {
           "shape": ""
          }
         },
         "name": "survey (2017/2019)",
         "offsetgroup": "survey (2017/2019)",
         "orientation": "v",
         "showlegend": false,
         "textposition": "auto",
         "type": "bar",
         "x": [
          2,
          14,
          20,
          19,
          0,
          18,
          1,
          16,
          23,
          15,
          17,
          12,
          22,
          8,
          11,
          4,
          10,
          3,
          9,
          21,
          6,
          13,
          7,
          5
         ],
         "xaxis": "x3",
         "y": [
          0.0,
          0.017112531658258337,
          0.015143555707038845,
          0.02928435304643076,
          0.0,
          0.1278004846956421,
          0.0,
          0.0641885040600359,
          0.0,
          0.025116644297235695,
          0.09202386726009104,
          0.1694611385404149,
          0.013832432986551782,
          0.02542664040753762,
          0.2160505987099357,
          0.00028258820918110377,
          0.06258319661156765,
          0.0,
          0.028219270864489575,
          0.0013432877935774749,
          0.030743164546199915,
          0.06657552118736475,
          0.012092862572247738,
          0.002719356846199049
         ],
         "yaxis": "y3"
        },
        {
         "alignmentgroup": "True",
         "customdata": [
          [
           330.4532993800188
          ],
          [
           72887.47341573531
          ],
          [
           53721.588782949155
          ],
          [
           5061.683382412337
          ],
          [
           636.9309530825855
          ],
          [
           17977.90415949376
          ],
          [
           57099.76069383569
          ],
          [
           3465.3706566656133
          ],
          [
           0.0
          ],
          [
           11720.50858389246
          ],
          [
           30992.119239703625
          ],
          [
           14689.853983763354
          ],
          [
           68.99716112623685
          ],
          [
           0.0
          ],
          [
           41300.91505807776
          ],
          [
           6335.466793934932
          ],
          [
           21614.712298822113
          ],
          [
           11401.469748573027
          ],
          [
           38700.83596111881
          ],
          [
           1608.8011555079397
          ],
          [
           0.0
          ],
          [
           14275.894103075521
          ],
          [
           21628.90027714401
          ],
          [
           9347.769180612215
          ]
         ],
         "hovertemplate": "source=survey (2017/2019)<br>pdpurp_label=Escort<br>tlvorg_hr=%{x}<br>percentage=%{y}<br>toexpfac=%{customdata[0]}<extra></extra>",
         "legendgroup": "survey (2017/2019)",
         "marker": {
          "color": "#8CC63E",
          "pattern": {
           "shape": ""
          }
         },
         "name": "survey (2017/2019)",
         "offsetgroup": "survey (2017/2019)",
         "orientation": "v",
         "showlegend": false,
         "textposition": "auto",
         "type": "bar",
         "x": [
          23,
          8,
          17,
          6,
          22,
          19,
          7,
          5,
          0,
          20,
          18,
          9,
          3,
          2,
          14,
          21,
          13,
          12,
          15,
          4,
          1,
          11,
          16,
          10
         ],
         "xaxis": "x2",
         "y": [
          0.0007598943784367113,
          0.1676084984201599,
          0.12353555977029577,
          0.011639601586481321,
          0.0014646555250253284,
          0.04134111637712195,
          0.1313038400364988,
          0.007968798272373857,
          0.0,
          0.026951913029855598,
          0.07126797411396961,
          0.033780075681680025,
          0.00015866252498094937,
          0.0,
          0.09497358094413717,
          0.014568732134059336,
          0.04970414396895841,
          0.0262182667993078,
          0.08899456517102558,
          0.0036995211014282576,
          0.0,
          0.032828153619400155,
          0.049736769955711815,
          0.021495676589091656
         ],
         "yaxis": "y2"
        },
        {
         "alignmentgroup": "True",
         "customdata": [
          [
           700.3758568446026
          ],
          [
           2041.160644579677
          ],
          [
           4337.791814374123
          ],
          [
           107315.80528704856
          ],
          [
           71276.96887912306
          ],
          [
           47346.51151895759
          ],
          [
           18699.959783412443
          ],
          [
           4797.110596523592
          ],
          [
           693.650708366326
          ],
          [
           415.12771485007175
          ],
          [
           0.0
          ],
          [
           0.0
          ],
          [
           0.0
          ],
          [
           11826.822830027124
          ],
          [
           36066.865380506766
          ],
          [
           83275.02395238554
          ],
          [
           55075.73985185104
          ],
          [
           51540.587086667394
          ],
          [
           80591.80973502374
          ],
          [
           32255.442975107242
          ],
          [
           36318.721934705594
          ],
          [
           82767.19373577408
          ],
          [
           87578.65479472805
          ],
          [
           68.08898090709165
          ]
         ],
         "hovertemplate": "source=survey (2017/2019)<br>pdpurp_label=Personal Business<br>tlvorg_hr=%{x}<br>percentage=%{y}<br>toexpfac=%{customdata[0]}<extra></extra>",
         "legendgroup": "survey (2017/2019)",
         "marker": {
          "color": "#8CC63E",
          "pattern": {
           "shape": ""
          }
         },
         "name": "survey (2017/2019)",
         "offsetgroup": "survey (2017/2019)",
         "orientation": "v",
         "showlegend": false,
         "textposition": "auto",
         "type": "bar",
         "x": [
          22,
          21,
          20,
          11,
          8,
          7,
          6,
          5,
          4,
          3,
          2,
          1,
          0,
          19,
          18,
          17,
          16,
          15,
          14,
          13,
          12,
          10,
          9,
          23
         ],
         "xaxis": "x",
         "y": [
          0.0008593680417933929,
          0.00250452411940775,
          0.005322513077507758,
          0.13167754505203383,
          0.0874575395082633,
          0.05809463374866541,
          0.022945033960889302,
          0.0058861017256845545,
          0.0008511162186871764,
          0.000509365775416822,
          0.0,
          0.0,
          0.0,
          0.014511627545055243,
          0.04425439736788219,
          0.10217927069427502,
          0.0675784726790048,
          0.06324080558273534,
          0.09888694054732361,
          0.03957774471493046,
          0.04456342782871188,
          0.10155615804047927,
          0.10745986792423652,
          8.354584701627983e-05
         ],
         "yaxis": "y"
        },
        {
         "alignmentgroup": "True",
         "customdata": [
          [
           74931.3606146957
          ],
          [
           26888.870887293415
          ],
          [
           37766.2920365951
          ],
          [
           311397.3539980395
          ],
          [
           32953.441417655355
          ],
          [
           12103.96345685936
          ],
          [
           30687.93229808931
          ],
          [
           7463.727136272968
          ],
          [
           206346.47840445887
          ],
          [
           248864.7757878116
          ],
          [
           127703.56018230684
          ],
          [
           59092.504106177985
          ],
          [
           99400.45954333006
          ],
          [
           255.98038726538
          ],
          [
           26993.20585976766
          ],
          [
           3106.2604648083056
          ],
          [
           9067.667081552123
          ],
          [
           551.958469674964
          ],
          [
           1354.8011261771376
          ],
          [
           2491.513138185322
          ],
          [
           0.0
          ],
          [
           1284.2515745934531
          ],
          [
           0.0
          ],
          [
           15880.497234966047
          ]
         ],
         "hovertemplate": "source=survey<br>pdpurp_label=Work<br>tlvorg_hr=%{x}<br>percentage=%{y}<br>toexpfac=%{customdata[0]}<extra></extra>",
         "legendgroup": "survey",
         "marker": {
          "color": "#00A7A0",
          "pattern": {
           "shape": ""
          }
         },
         "name": "survey",
         "offsetgroup": "survey",
         "orientation": "v",
         "showlegend": true,
         "textposition": "auto",
         "type": "bar",
         "x": [
          4,
          12,
          11,
          7,
          14,
          3,
          13,
          22,
          8,
          6,
          9,
          10,
          5,
          23,
          15,
          18,
          17,
          1,
          19,
          20,
          0,
          21,
          2,
          16
         ],
         "xaxis": "x6",
         "y": [
          0.05606172193210344,
          0.020117563465890585,
          0.02825577095082094,
          0.23297951254347132,
          0.024654919573155777,
          0.009055874977154871,
          0.02295992376293894,
          0.005584169189752662,
          0.15438314210606757,
          0.18619424156266165,
          0.0955445279779963,
          0.044211495778211075,
          0.07436887408859574,
          0.00019151795954615823,
          0.02019562421597788,
          0.0023240244004406408,
          0.006784195913815617,
          0.0004129611686100683,
          0.001013627450322146,
          0.0018640862196720059,
          0.0,
          0.0009608440855083564,
          0.0,
          0.011881380677286125
         ],
         "yaxis": "y6"
        },
        {
         "alignmentgroup": "True",
         "customdata": [
          [
           48085.789689652025
          ],
          [
           156.064494787723
          ],
          [
           224775.58031354487
          ],
          [
           0.0
          ],
          [
           0.0
          ],
          [
           177732.16684628103
          ],
          [
           387.7845844848059
          ],
          [
           0.0
          ],
          [
           5015.600869289834
          ],
          [
           7404.664188706871
          ],
          [
           1663.303637075868
          ],
          [
           3333.250470946136
          ],
          [
           4969.783185943033
          ],
          [
           278.949359175002
          ],
          [
           2229.590294654095
          ],
          [
           16161.271083577121
          ],
          [
           75.6029420675361
          ],
          [
           0.0
          ],
          [
           26697.98862443798
          ],
          [
           0.0
          ],
          [
           0.0
          ],
          [
           0.0
          ],
          [
           944.6388505184881
          ],
          [
           0.0
          ]
         ],
         "hovertemplate": "source=survey<br>pdpurp_label=School<br>tlvorg_hr=%{x}<br>percentage=%{y}<br>toexpfac=%{customdata[0]}<extra></extra>",
         "legendgroup": "survey",
         "marker": {
          "color": "#00A7A0",
          "pattern": {
           "shape": ""
          }
         },
         "name": "survey",
         "offsetgroup": "survey",
         "orientation": "v",
         "showlegend": false,
         "textposition": "auto",
         "type": "bar",
         "x": [
          9,
          19,
          8,
          21,
          20,
          7,
          15,
          22,
          12,
          13,
          17,
          11,
          16,
          18,
          14,
          10,
          4,
          1,
          6,
          2,
          3,
          23,
          5,
          0
         ],
         "xaxis": "x5",
         "y": [
          0.0924883191140908,
          0.00030017481026026465,
          0.43233387109306154,
          0.0,
          0.0,
          0.34185046081618436,
          0.0007458657667646464,
          0.0,
          0.009647018313346252,
          0.014242148227944748,
          0.0031992020628623685,
          0.006411181665805157,
          0.009558892475218251,
          0.0005365318426620481,
          0.004288399129899783,
          0.031084626184040228,
          0.00014541487364636436,
          0.0,
          0.051350973074125575,
          0.0,
          0.0,
          0.0,
          0.0018169205500876552,
          0.0
         ],
         "yaxis": "y5"
        },
        {
         "alignmentgroup": "True",
         "customdata": [
          [
           82880.44853573837
          ],
          [
           53869.43630344452
          ],
          [
           766.8642961489354
          ],
          [
           32651.123879258368
          ],
          [
           306.34798152004703
          ],
          [
           55309.72240355943
          ],
          [
           0.0
          ],
          [
           0.0
          ],
          [
           45890.27107482398
          ],
          [
           50827.82088511193
          ],
          [
           17193.175848295632
          ],
          [
           8.1104247487979
          ],
          [
           42465.295778674044
          ],
          [
           14566.762652314474
          ],
          [
           313.25665406101865
          ],
          [
           484.372679805163
          ],
          [
           2933.980540218817
          ],
          [
           13516.049841091382
          ],
          [
           50812.554897267575
          ],
          [
           666.5076935107627
          ],
          [
           75501.37025013976
          ],
          [
           1307.606066716253
          ],
          [
           59091.909043428306
          ],
          [
           0.0
          ]
         ],
         "hovertemplate": "source=survey<br>pdpurp_label=Shop<br>tlvorg_hr=%{x}<br>percentage=%{y}<br>toexpfac=%{customdata[0]}<extra></extra>",
         "legendgroup": "survey",
         "marker": {
          "color": "#00A7A0",
          "pattern": {
           "shape": ""
          }
         },
         "name": "survey",
         "offsetgroup": "survey",
         "orientation": "v",
         "showlegend": false,
         "textposition": "auto",
         "type": "bar",
         "x": [
          10,
          16,
          21,
          15,
          2,
          11,
          1,
          4,
          12,
          13,
          19,
          23,
          17,
          7,
          6,
          0,
          20,
          8,
          9,
          5,
          14,
          22,
          18,
          3
         ],
         "xaxis": "x4",
         "y": [
          0.13782100033892825,
          0.08957890226466979,
          0.0012752103335188934,
          0.054295200312402196,
          0.0005094227409580012,
          0.09197393842336644,
          0.0,
          0.0,
          0.07631043481418437,
          0.08452103292386687,
          0.028590345929334987,
          1.348673748514927e-05,
          0.07061508048404995,
          0.02422291186776135,
          0.000520911097710803,
          0.000805458083866537,
          0.004878884467590003,
          0.022475692912385506,
          0.08449564727799933,
          0.0011083284257762584,
          0.1255504109675166,
          0.002174403967980165,
          0.09826329562864854,
          0.0
         ],
         "yaxis": "y4"
        },
        {
         "alignmentgroup": "True",
         "customdata": [
          [
           0.0
          ],
          [
           11239.722298735183
          ],
          [
           34280.917362739485
          ],
          [
           0.0
          ],
          [
           18416.898389247777
          ],
          [
           7901.458825086892
          ],
          [
           41737.41209779713
          ],
          [
           0.0
          ],
          [
           36491.24558242313
          ],
          [
           52022.95421104775
          ],
          [
           18899.623555029862
          ],
          [
           1328.6639472156842
          ],
          [
           13430.676065534126
          ],
          [
           37661.62049466345
          ],
          [
           71.5547812881571
          ],
          [
           45.94185906792442
          ],
          [
           16592.386288810565
          ],
          [
           16320.043882478165
          ],
          [
           51142.2605251032
          ],
          [
           10.6381727331061
          ],
          [
           0.0
          ],
          [
           1619.3993794124167
          ],
          [
           14795.148137337197
          ],
          [
           24185.69173063007
          ]
         ],
         "hovertemplate": "source=survey<br>pdpurp_label=Meal<br>tlvorg_hr=%{x}<br>percentage=%{y}<br>toexpfac=%{customdata[0]}<extra></extra>",
         "legendgroup": "survey",
         "marker": {
          "color": "#00A7A0",
          "pattern": {
           "shape": ""
          }
         },
         "name": "survey",
         "offsetgroup": "survey",
         "orientation": "v",
         "showlegend": false,
         "textposition": "auto",
         "type": "bar",
         "x": [
          2,
          14,
          13,
          1,
          15,
          20,
          19,
          0,
          18,
          17,
          16,
          23,
          21,
          12,
          22,
          5,
          8,
          10,
          11,
          4,
          3,
          6,
          9,
          7
         ],
         "xaxis": "x3",
         "y": [
          0.0,
          0.02822673126142941,
          0.08609093855479028,
          0.0,
          0.046251039632967464,
          0.019843226451784803,
          0.10481671019261982,
          0.0,
          0.09164181774898397,
          0.13064717338311257,
          0.04746332523625085,
          0.0033367230237554436,
          0.03372895467388948,
          0.09458102365148605,
          0.00017969817475992742,
          0.00011537549372609457,
          0.041669074761107365,
          0.04098513118044606,
          0.1284354546825899,
          2.671603753803088e-05,
          0.0,
          0.004066857692092951,
          0.03715560396831601,
          0.060738424198353506
         ],
         "yaxis": "y3"
        },
        {
         "alignmentgroup": "True",
         "customdata": [
          [
           0.0
          ],
          [
           116124.15215709507
          ],
          [
           2041.5346810067565
          ],
          [
           24639.469470863187
          ],
          [
           4675.392899869981
          ],
          [
           5242.84440129033
          ],
          [
           123296.63420487581
          ],
          [
           0.0
          ],
          [
           5787.712909927875
          ],
          [
           15977.137961084289
          ],
          [
           52928.80856852308
          ],
          [
           0.0
          ],
          [
           0.0
          ],
          [
           72334.71357971718
          ],
          [
           17818.680021405922
          ],
          [
           72148.7636073397
          ],
          [
           898.543349349546
          ],
          [
           37185.89248753224
          ],
          [
           19721.257583932624
          ],
          [
           44784.66324259696
          ],
          [
           3756.89486105699
          ],
          [
           0.0
          ],
          [
           25184.81205221003
          ],
          [
           15896.14724739668
          ]
         ],
         "hovertemplate": "source=survey<br>pdpurp_label=Escort<br>tlvorg_hr=%{x}<br>percentage=%{y}<br>toexpfac=%{customdata[0]}<extra></extra>",
         "legendgroup": "survey",
         "marker": {
          "color": "#00A7A0",
          "pattern": {
           "shape": ""
          }
         },
         "name": "survey",
         "offsetgroup": "survey",
         "orientation": "v",
         "showlegend": false,
         "textposition": "auto",
         "type": "bar",
         "x": [
          23,
          8,
          20,
          6,
          22,
          19,
          7,
          0,
          18,
          5,
          17,
          3,
          2,
          15,
          12,
          14,
          21,
          13,
          11,
          9,
          4,
          1,
          16,
          10
         ],
         "xaxis": "x2",
         "y": [
          0.0,
          0.17582738647957025,
          0.0030911546022158766,
          0.03730742865139907,
          0.007079165695325601,
          0.00793836262030011,
          0.18668747673303326,
          0.0,
          0.008763365895408262,
          0.02419150847552035,
          0.08014124458356521,
          0.0,
          0.0,
          0.10952436167856118,
          0.026979847693020267,
          0.10924280872810475,
          0.001360513948390341,
          0.05630437913680471,
          0.02986060276575646,
          0.06780992709992745,
          0.005688437697306528,
          0.0,
          0.03813314973554116,
          0.024068877780249114
         ],
         "yaxis": "y2"
        },
        {
         "alignmentgroup": "True",
         "customdata": [
          [
           208.4084893501812
          ],
          [
           46.9407483680735
          ],
          [
           817.8571988340667
          ],
          [
           7876.896164187974
          ],
          [
           23567.08931472589
          ],
          [
           29389.618600087004
          ],
          [
           5380.734653984138
          ],
          [
           10663.035371550308
          ],
          [
           0.0
          ],
          [
           0.0
          ],
          [
           0.0
          ],
          [
           0.0
          ],
          [
           0.0
          ],
          [
           21265.68791425479
          ],
          [
           5254.77023384645
          ],
          [
           15870.54917319957
          ],
          [
           8036.796422910789
          ],
          [
           28112.636222380563
          ],
          [
           40365.68320684828
          ],
          [
           28689.578870672533
          ],
          [
           20348.92199668735
          ],
          [
           0.0
          ],
          [
           29667.33682676109
          ],
          [
           31020.636880102902
          ]
         ],
         "hovertemplate": "source=survey<br>pdpurp_label=Personal Business<br>tlvorg_hr=%{x}<br>percentage=%{y}<br>toexpfac=%{customdata[0]}<extra></extra>",
         "legendgroup": "survey",
         "marker": {
          "color": "#00A7A0",
          "pattern": {
           "shape": ""
          }
         },
         "name": "survey",
         "offsetgroup": "survey",
         "orientation": "v",
         "showlegend": false,
         "textposition": "auto",
         "type": "bar",
         "x": [
          21,
          22,
          20,
          19,
          8,
          7,
          6,
          5,
          4,
          3,
          2,
          1,
          0,
          9,
          18,
          17,
          16,
          15,
          14,
          13,
          12,
          23,
          11,
          10
         ],
         "xaxis": "x",
         "y": [
          0.0006797779660105617,
          0.00015310934093018918,
          0.0026676519024921093,
          0.025692525624381148,
          0.07687013177392756,
          0.09586181069728071,
          0.01755065194384655,
          0.03478023625127744,
          0.0,
          0.0,
          0.0,
          0.0,
          0.0,
          0.06936351835398463,
          0.01713978654398743,
          0.05176588377021804,
          0.026214081502349818,
          0.09169660377094463,
          0.1316630724234658,
          0.09357845081654013,
          0.06637325019026954,
          0.0,
          0.09676766022309037,
          0.10118179690500324
         ],
         "yaxis": "y"
        }
       ],
       "layout": {
        "annotations": [
         {
          "font": {},
          "showarrow": false,
          "text": "Personal Business",
          "textangle": 90,
          "x": 0.98,
          "xanchor": "left",
          "xref": "paper",
          "y": 0.07083333333333333,
          "yanchor": "middle",
          "yref": "paper"
         },
         {
          "font": {},
          "showarrow": false,
          "text": "Escort",
          "textangle": 90,
          "x": 0.98,
          "xanchor": "left",
          "xref": "paper",
          "y": 0.2425,
          "yanchor": "middle",
          "yref": "paper"
         },
         {
          "font": {},
          "showarrow": false,
          "text": "Meal",
          "textangle": 90,
          "x": 0.98,
          "xanchor": "left",
          "xref": "paper",
          "y": 0.4141666666666667,
          "yanchor": "middle",
          "yref": "paper"
         },
         {
          "font": {},
          "showarrow": false,
          "text": "Shop",
          "textangle": 90,
          "x": 0.98,
          "xanchor": "left",
          "xref": "paper",
          "y": 0.5858333333333334,
          "yanchor": "middle",
          "yref": "paper"
         },
         {
          "font": {},
          "showarrow": false,
          "text": "School",
          "textangle": 90,
          "x": 0.98,
          "xanchor": "left",
          "xref": "paper",
          "y": 0.7575000000000001,
          "yanchor": "middle",
          "yref": "paper"
         },
         {
          "font": {},
          "showarrow": false,
          "text": "Work",
          "textangle": 90,
          "x": 0.98,
          "xanchor": "left",
          "xref": "paper",
          "y": 0.9291666666666667,
          "yanchor": "middle",
          "yref": "paper"
         }
        ],
        "barmode": "group",
        "height": 1500,
        "legend": {
         "title": {
          "text": "source"
         },
         "tracegroupgap": 0
        },
        "template": {
         "data": {
          "bar": [
           {
            "error_x": {
             "color": "rgb(36,36,36)"
            },
            "error_y": {
             "color": "rgb(36,36,36)"
            },
            "marker": {
             "line": {
              "color": "white",
              "width": 0.5
             },
             "pattern": {
              "fillmode": "overlay",
              "size": 10,
              "solidity": 0.2
             }
            },
            "type": "bar"
           }
          ],
          "barpolar": [
           {
            "marker": {
             "line": {
              "color": "white",
              "width": 0.5
             },
             "pattern": {
              "fillmode": "overlay",
              "size": 10,
              "solidity": 0.2
             }
            },
            "type": "barpolar"
           }
          ],
          "carpet": [
           {
            "aaxis": {
             "endlinecolor": "rgb(36,36,36)",
             "gridcolor": "white",
             "linecolor": "white",
             "minorgridcolor": "white",
             "startlinecolor": "rgb(36,36,36)"
            },
            "baxis": {
             "endlinecolor": "rgb(36,36,36)",
             "gridcolor": "white",
             "linecolor": "white",
             "minorgridcolor": "white",
             "startlinecolor": "rgb(36,36,36)"
            },
            "type": "carpet"
           }
          ],
          "choropleth": [
           {
            "colorbar": {
             "outlinewidth": 1,
             "tickcolor": "rgb(36,36,36)",
             "ticks": "outside"
            },
            "type": "choropleth"
           }
          ],
          "contour": [
           {
            "colorbar": {
             "outlinewidth": 1,
             "tickcolor": "rgb(36,36,36)",
             "ticks": "outside"
            },
            "colorscale": [
             [
              0.0,
              "#440154"
             ],
             [
              0.1111111111111111,
              "#482878"
             ],
             [
              0.2222222222222222,
              "#3e4989"
             ],
             [
              0.3333333333333333,
              "#31688e"
             ],
             [
              0.4444444444444444,
              "#26828e"
             ],
             [
              0.5555555555555556,
              "#1f9e89"
             ],
             [
              0.6666666666666666,
              "#35b779"
             ],
             [
              0.7777777777777778,
              "#6ece58"
             ],
             [
              0.8888888888888888,
              "#b5de2b"
             ],
             [
              1.0,
              "#fde725"
             ]
            ],
            "type": "contour"
           }
          ],
          "contourcarpet": [
           {
            "colorbar": {
             "outlinewidth": 1,
             "tickcolor": "rgb(36,36,36)",
             "ticks": "outside"
            },
            "type": "contourcarpet"
           }
          ],
          "heatmap": [
           {
            "colorbar": {
             "outlinewidth": 1,
             "tickcolor": "rgb(36,36,36)",
             "ticks": "outside"
            },
            "colorscale": [
             [
              0.0,
              "#440154"
             ],
             [
              0.1111111111111111,
              "#482878"
             ],
             [
              0.2222222222222222,
              "#3e4989"
             ],
             [
              0.3333333333333333,
              "#31688e"
             ],
             [
              0.4444444444444444,
              "#26828e"
             ],
             [
              0.5555555555555556,
              "#1f9e89"
             ],
             [
              0.6666666666666666,
              "#35b779"
             ],
             [
              0.7777777777777778,
              "#6ece58"
             ],
             [
              0.8888888888888888,
              "#b5de2b"
             ],
             [
              1.0,
              "#fde725"
             ]
            ],
            "type": "heatmap"
           }
          ],
          "heatmapgl": [
           {
            "colorbar": {
             "outlinewidth": 1,
             "tickcolor": "rgb(36,36,36)",
             "ticks": "outside"
            },
            "colorscale": [
             [
              0.0,
              "#440154"
             ],
             [
              0.1111111111111111,
              "#482878"
             ],
             [
              0.2222222222222222,
              "#3e4989"
             ],
             [
              0.3333333333333333,
              "#31688e"
             ],
             [
              0.4444444444444444,
              "#26828e"
             ],
             [
              0.5555555555555556,
              "#1f9e89"
             ],
             [
              0.6666666666666666,
              "#35b779"
             ],
             [
              0.7777777777777778,
              "#6ece58"
             ],
             [
              0.8888888888888888,
              "#b5de2b"
             ],
             [
              1.0,
              "#fde725"
             ]
            ],
            "type": "heatmapgl"
           }
          ],
          "histogram": [
           {
            "marker": {
             "line": {
              "color": "white",
              "width": 0.6
             }
            },
            "type": "histogram"
           }
          ],
          "histogram2d": [
           {
            "colorbar": {
             "outlinewidth": 1,
             "tickcolor": "rgb(36,36,36)",
             "ticks": "outside"
            },
            "colorscale": [
             [
              0.0,
              "#440154"
             ],
             [
              0.1111111111111111,
              "#482878"
             ],
             [
              0.2222222222222222,
              "#3e4989"
             ],
             [
              0.3333333333333333,
              "#31688e"
             ],
             [
              0.4444444444444444,
              "#26828e"
             ],
             [
              0.5555555555555556,
              "#1f9e89"
             ],
             [
              0.6666666666666666,
              "#35b779"
             ],
             [
              0.7777777777777778,
              "#6ece58"
             ],
             [
              0.8888888888888888,
              "#b5de2b"
             ],
             [
              1.0,
              "#fde725"
             ]
            ],
            "type": "histogram2d"
           }
          ],
          "histogram2dcontour": [
           {
            "colorbar": {
             "outlinewidth": 1,
             "tickcolor": "rgb(36,36,36)",
             "ticks": "outside"
            },
            "colorscale": [
             [
              0.0,
              "#440154"
             ],
             [
              0.1111111111111111,
              "#482878"
             ],
             [
              0.2222222222222222,
              "#3e4989"
             ],
             [
              0.3333333333333333,
              "#31688e"
             ],
             [
              0.4444444444444444,
              "#26828e"
             ],
             [
              0.5555555555555556,
              "#1f9e89"
             ],
             [
              0.6666666666666666,
              "#35b779"
             ],
             [
              0.7777777777777778,
              "#6ece58"
             ],
             [
              0.8888888888888888,
              "#b5de2b"
             ],
             [
              1.0,
              "#fde725"
             ]
            ],
            "type": "histogram2dcontour"
           }
          ],
          "mesh3d": [
           {
            "colorbar": {
             "outlinewidth": 1,
             "tickcolor": "rgb(36,36,36)",
             "ticks": "outside"
            },
            "type": "mesh3d"
           }
          ],
          "parcoords": [
           {
            "line": {
             "colorbar": {
              "outlinewidth": 1,
              "tickcolor": "rgb(36,36,36)",
              "ticks": "outside"
             }
            },
            "type": "parcoords"
           }
          ],
          "pie": [
           {
            "automargin": true,
            "type": "pie"
           }
          ],
          "scatter": [
           {
            "fillpattern": {
             "fillmode": "overlay",
             "size": 10,
             "solidity": 0.2
            },
            "type": "scatter"
           }
          ],
          "scatter3d": [
           {
            "line": {
             "colorbar": {
              "outlinewidth": 1,
              "tickcolor": "rgb(36,36,36)",
              "ticks": "outside"
             }
            },
            "marker": {
             "colorbar": {
              "outlinewidth": 1,
              "tickcolor": "rgb(36,36,36)",
              "ticks": "outside"
             }
            },
            "type": "scatter3d"
           }
          ],
          "scattercarpet": [
           {
            "marker": {
             "colorbar": {
              "outlinewidth": 1,
              "tickcolor": "rgb(36,36,36)",
              "ticks": "outside"
             }
            },
            "type": "scattercarpet"
           }
          ],
          "scattergeo": [
           {
            "marker": {
             "colorbar": {
              "outlinewidth": 1,
              "tickcolor": "rgb(36,36,36)",
              "ticks": "outside"
             }
            },
            "type": "scattergeo"
           }
          ],
          "scattergl": [
           {
            "marker": {
             "colorbar": {
              "outlinewidth": 1,
              "tickcolor": "rgb(36,36,36)",
              "ticks": "outside"
             }
            },
            "type": "scattergl"
           }
          ],
          "scattermapbox": [
           {
            "marker": {
             "colorbar": {
              "outlinewidth": 1,
              "tickcolor": "rgb(36,36,36)",
              "ticks": "outside"
             }
            },
            "type": "scattermapbox"
           }
          ],
          "scatterpolar": [
           {
            "marker": {
             "colorbar": {
              "outlinewidth": 1,
              "tickcolor": "rgb(36,36,36)",
              "ticks": "outside"
             }
            },
            "type": "scatterpolar"
           }
          ],
          "scatterpolargl": [
           {
            "marker": {
             "colorbar": {
              "outlinewidth": 1,
              "tickcolor": "rgb(36,36,36)",
              "ticks": "outside"
             }
            },
            "type": "scatterpolargl"
           }
          ],
          "scatterternary": [
           {
            "marker": {
             "colorbar": {
              "outlinewidth": 1,
              "tickcolor": "rgb(36,36,36)",
              "ticks": "outside"
             }
            },
            "type": "scatterternary"
           }
          ],
          "surface": [
           {
            "colorbar": {
             "outlinewidth": 1,
             "tickcolor": "rgb(36,36,36)",
             "ticks": "outside"
            },
            "colorscale": [
             [
              0.0,
              "#440154"
             ],
             [
              0.1111111111111111,
              "#482878"
             ],
             [
              0.2222222222222222,
              "#3e4989"
             ],
             [
              0.3333333333333333,
              "#31688e"
             ],
             [
              0.4444444444444444,
              "#26828e"
             ],
             [
              0.5555555555555556,
              "#1f9e89"
             ],
             [
              0.6666666666666666,
              "#35b779"
             ],
             [
              0.7777777777777778,
              "#6ece58"
             ],
             [
              0.8888888888888888,
              "#b5de2b"
             ],
             [
              1.0,
              "#fde725"
             ]
            ],
            "type": "surface"
           }
          ],
          "table": [
           {
            "cells": {
             "fill": {
              "color": "rgb(237,237,237)"
             },
             "line": {
              "color": "white"
             }
            },
            "header": {
             "fill": {
              "color": "rgb(217,217,217)"
             },
             "line": {
              "color": "white"
             }
            },
            "type": "table"
           }
          ]
         },
         "layout": {
          "annotationdefaults": {
           "arrowhead": 0,
           "arrowwidth": 1
          },
          "autotypenumbers": "strict",
          "coloraxis": {
           "colorbar": {
            "outlinewidth": 1,
            "tickcolor": "rgb(36,36,36)",
            "ticks": "outside"
           }
          },
          "colorscale": {
           "diverging": [
            [
             0.0,
             "rgb(103,0,31)"
            ],
            [
             0.1,
             "rgb(178,24,43)"
            ],
            [
             0.2,
             "rgb(214,96,77)"
            ],
            [
             0.3,
             "rgb(244,165,130)"
            ],
            [
             0.4,
             "rgb(253,219,199)"
            ],
            [
             0.5,
             "rgb(247,247,247)"
            ],
            [
             0.6,
             "rgb(209,229,240)"
            ],
            [
             0.7,
             "rgb(146,197,222)"
            ],
            [
             0.8,
             "rgb(67,147,195)"
            ],
            [
             0.9,
             "rgb(33,102,172)"
            ],
            [
             1.0,
             "rgb(5,48,97)"
            ]
           ],
           "sequential": [
            [
             0.0,
             "#440154"
            ],
            [
             0.1111111111111111,
             "#482878"
            ],
            [
             0.2222222222222222,
             "#3e4989"
            ],
            [
             0.3333333333333333,
             "#31688e"
            ],
            [
             0.4444444444444444,
             "#26828e"
            ],
            [
             0.5555555555555556,
             "#1f9e89"
            ],
            [
             0.6666666666666666,
             "#35b779"
            ],
            [
             0.7777777777777778,
             "#6ece58"
            ],
            [
             0.8888888888888888,
             "#b5de2b"
            ],
            [
             1.0,
             "#fde725"
            ]
           ],
           "sequentialminus": [
            [
             0.0,
             "#440154"
            ],
            [
             0.1111111111111111,
             "#482878"
            ],
            [
             0.2222222222222222,
             "#3e4989"
            ],
            [
             0.3333333333333333,
             "#31688e"
            ],
            [
             0.4444444444444444,
             "#26828e"
            ],
            [
             0.5555555555555556,
             "#1f9e89"
            ],
            [
             0.6666666666666666,
             "#35b779"
            ],
            [
             0.7777777777777778,
             "#6ece58"
            ],
            [
             0.8888888888888888,
             "#b5de2b"
            ],
            [
             1.0,
             "#fde725"
            ]
           ]
          },
          "colorway": [
           "#91268F",
           "#8CC63E",
           "#00A7A0",
           "#F05A28",
           "#4C4C4C",
           "#630460",
           "#9f3913",
           "#588527",
           "#00716c",
           "#3e4040"
          ],
          "font": {
           "color": "rgb(36,36,36)",
           "family": "Poppins",
           "size": 11
          },
          "geo": {
           "bgcolor": "white",
           "lakecolor": "white",
           "landcolor": "white",
           "showlakes": true,
           "showland": true,
           "subunitcolor": "white"
          },
          "hoverlabel": {
           "align": "left"
          },
          "hovermode": "closest",
          "mapbox": {
           "style": "light"
          },
          "paper_bgcolor": "white",
          "plot_bgcolor": "white",
          "polar": {
           "angularaxis": {
            "gridcolor": "rgb(232,232,232)",
            "linecolor": "rgb(36,36,36)",
            "showgrid": false,
            "showline": true,
            "ticks": "outside"
           },
           "bgcolor": "white",
           "radialaxis": {
            "gridcolor": "rgb(232,232,232)",
            "linecolor": "rgb(36,36,36)",
            "showgrid": false,
            "showline": true,
            "ticks": "outside"
           }
          },
          "scene": {
           "xaxis": {
            "backgroundcolor": "white",
            "gridcolor": "rgb(232,232,232)",
            "gridwidth": 2,
            "linecolor": "rgb(36,36,36)",
            "showbackground": true,
            "showgrid": false,
            "showline": true,
            "ticks": "outside",
            "zeroline": false,
            "zerolinecolor": "rgb(36,36,36)"
           },
           "yaxis": {
            "backgroundcolor": "white",
            "gridcolor": "rgb(232,232,232)",
            "gridwidth": 2,
            "linecolor": "rgb(36,36,36)",
            "showbackground": true,
            "showgrid": false,
            "showline": true,
            "ticks": "outside",
            "zeroline": false,
            "zerolinecolor": "rgb(36,36,36)"
           },
           "zaxis": {
            "backgroundcolor": "white",
            "gridcolor": "rgb(232,232,232)",
            "gridwidth": 2,
            "linecolor": "rgb(36,36,36)",
            "showbackground": true,
            "showgrid": false,
            "showline": true,
            "ticks": "outside",
            "zeroline": false,
            "zerolinecolor": "rgb(36,36,36)"
           }
          },
          "shapedefaults": {
           "fillcolor": "black",
           "line": {
            "width": 0
           },
           "opacity": 0.3
          },
          "ternary": {
           "aaxis": {
            "gridcolor": "rgb(232,232,232)",
            "linecolor": "rgb(36,36,36)",
            "showgrid": false,
            "showline": true,
            "ticks": "outside"
           },
           "baxis": {
            "gridcolor": "rgb(232,232,232)",
            "linecolor": "rgb(36,36,36)",
            "showgrid": false,
            "showline": true,
            "ticks": "outside"
           },
           "bgcolor": "white",
           "caxis": {
            "gridcolor": "rgb(232,232,232)",
            "linecolor": "rgb(36,36,36)",
            "showgrid": false,
            "showline": true,
            "ticks": "outside"
           }
          },
          "title": {
           "x": 0.05
          },
          "xaxis": {
           "automargin": true,
           "gridcolor": "rgb(232,232,232)",
           "linecolor": "rgb(36,36,36)",
           "showgrid": false,
           "showline": true,
           "ticks": "outside",
           "title": {
            "standoff": 15
           },
           "zeroline": false,
           "zerolinecolor": "rgb(36,36,36)"
          },
          "yaxis": {
           "automargin": true,
           "gridcolor": "rgb(232,232,232)",
           "linecolor": "rgb(36,36,36)",
           "showgrid": false,
           "showline": true,
           "ticks": "outside",
           "title": {
            "standoff": 15
           },
           "zeroline": false,
           "zerolinecolor": "rgb(36,36,36)"
          }
         }
        },
        "title": {
         "text": "tour origin departure hour by purpose"
        },
        "width": 700,
        "xaxis": {
         "anchor": "y",
         "categoryorder": "category ascending",
         "domain": [
          0.0,
          0.98
         ],
         "dtick": 1,
         "title": {
          "text": "tlvorg_hr"
         }
        },
        "xaxis2": {
         "anchor": "y2",
         "categoryorder": "category ascending",
         "domain": [
          0.0,
          0.98
         ],
         "dtick": 1,
         "matches": "x",
         "showticklabels": false
        },
        "xaxis3": {
         "anchor": "y3",
         "categoryorder": "category ascending",
         "domain": [
          0.0,
          0.98
         ],
         "dtick": 1,
         "matches": "x",
         "showticklabels": false
        },
        "xaxis4": {
         "anchor": "y4",
         "categoryorder": "category ascending",
         "domain": [
          0.0,
          0.98
         ],
         "dtick": 1,
         "matches": "x",
         "showticklabels": false
        },
        "xaxis5": {
         "anchor": "y5",
         "categoryorder": "category ascending",
         "domain": [
          0.0,
          0.98
         ],
         "dtick": 1,
         "matches": "x",
         "showticklabels": false
        },
        "xaxis6": {
         "anchor": "y6",
         "categoryorder": "category ascending",
         "domain": [
          0.0,
          0.98
         ],
         "dtick": 1,
         "matches": "x",
         "showticklabels": false
        },
        "yaxis": {
         "anchor": "x",
         "domain": [
          0.0,
          0.14166666666666666
         ],
         "tickformat": ".0%",
         "title": {
          "text": "percentage"
         }
        },
        "yaxis2": {
         "anchor": "x2",
         "domain": [
          0.17166666666666666,
          0.31333333333333335
         ],
         "matches": "y",
         "tickformat": ".0%",
         "title": {
          "text": "percentage"
         }
        },
        "yaxis3": {
         "anchor": "x3",
         "domain": [
          0.3433333333333333,
          0.485
         ],
         "matches": "y",
         "tickformat": ".0%",
         "title": {
          "text": "percentage"
         }
        },
        "yaxis4": {
         "anchor": "x4",
         "domain": [
          0.515,
          0.6566666666666667
         ],
         "matches": "y",
         "tickformat": ".0%",
         "title": {
          "text": "percentage"
         }
        },
        "yaxis5": {
         "anchor": "x5",
         "domain": [
          0.6866666666666666,
          0.8283333333333334
         ],
         "matches": "y",
         "tickformat": ".0%",
         "title": {
          "text": "percentage"
         }
        },
        "yaxis6": {
         "anchor": "x6",
         "domain": [
          0.8583333333333333,
          1.0
         ],
         "matches": "y",
         "tickformat": ".0%",
         "title": {
          "text": "percentage"
         }
        }
       }
      },
      "text/html": [
       "<div>                            <div id=\"9ba1d54b-0607-4057-a614-3c52302c0353\" class=\"plotly-graph-div\" style=\"height:1500px; width:700px;\"></div>            <script type=\"text/javascript\">                require([\"plotly\"], function(Plotly) {                    window.PLOTLYENV=window.PLOTLYENV || {};                                    if (document.getElementById(\"9ba1d54b-0607-4057-a614-3c52302c0353\")) {                    Plotly.newPlot(                        \"9ba1d54b-0607-4057-a614-3c52302c0353\",                        [{\"alignmentgroup\":\"True\",\"customdata\":[[1423.0],[2829.0],[51300.0],[51914.0],[39618.0],[50839.0],[28720.0],[65851.0],[266764.0],[273685.0],[1955.0],[136119.0],[83060.0],[117323.0],[33314.0],[24884.0],[6055.0],[20050.0],[867.0],[10840.0],[8835.0],[338711.0],[26595.0],[351.0]],\"hovertemplate\":\"source=model\\u003cbr\\u003epdpurp_label=Work\\u003cbr\\u003etlvorg_hr=%{x}\\u003cbr\\u003epercentage=%{y}\\u003cbr\\u003etoexpfac=%{customdata[0]}\\u003cextra\\u003e\\u003c\\u002fextra\\u003e\",\"legendgroup\":\"model\",\"marker\":{\"color\":\"#91268F\",\"pattern\":{\"shape\":\"\"}},\"name\":\"model\",\"offsetgroup\":\"model\",\"orientation\":\"v\",\"showlegend\":true,\"textposition\":\"auto\",\"x\":[0,22,4,12,13,3,15,11,8,6,23,9,10,5,14,17,21,18,1,19,20,7,16,2],\"xaxis\":\"x6\",\"y\":[0.0008666777919754041,0.001723001738227982,0.03124425209299946,0.03161820863851801,0.024129332932172565,0.030963480158986346,0.017491908774092485,0.0401065349819904,0.1624725470825908,0.1666877803912779,0.0011906922581250282,0.08290324270267044,0.05058767210223265,0.07145554363171493,0.020289883318249203,0.015155593939224143,0.003687796226571379,0.012211447455451056,0.0005280461318641429,0.006602099272672791,0.005380954527127685,0.20629184933083705,0.016197678058739194,0.0002137764616889437],\"yaxis\":\"y6\",\"type\":\"bar\"},{\"alignmentgroup\":\"True\",\"customdata\":[[93111.0],[966.0],[193948.0],[886.0],[4357.0],[176897.0],[6513.0],[583.0],[15266.0],[9652.0],[3425.0],[24230.0],[7.0],[40688.0],[3770.0],[2690.0],[0.0],[5.0],[66571.0],[3296.0],[4.0],[3115.0],[10597.0],[8.0]],\"hovertemplate\":\"source=model\\u003cbr\\u003epdpurp_label=School\\u003cbr\\u003etlvorg_hr=%{x}\\u003cbr\\u003epercentage=%{y}\\u003cbr\\u003etoexpfac=%{customdata[0]}\\u003cextra\\u003e\\u003c\\u002fextra\\u003e\",\"legendgroup\":\"model\",\"marker\":{\"color\":\"#91268F\",\"pattern\":{\"shape\":\"\"}},\"name\":\"model\",\"offsetgroup\":\"model\",\"orientation\":\"v\",\"showlegend\":false,\"textposition\":\"auto\",\"x\":[9,19,8,20,15,7,14,21,12,13,17,11,22,10,16,18,2,1,6,3,23,4,5,0],\"xaxis\":\"x5\",\"y\":[0.1409523377006744,0.0014623401984604554,0.29360036936957395,0.0013412354201200452,0.006595668990364601,0.26778839967604473,0.009859442766638662,0.0008825510721557408,0.023109819326808813,0.014611291506770515,0.00518479832269882,0.0366796097398518,1.059666810478591e-05,0.06159389026393273,0.0057070626792918395,0.0040721481716963,0.0,7.5690486462756494e-06,0.10077582748624325,0.004989516867624908,6.05523891702052e-06,0.00471551730662973,0.01604184170091661,1.211047783404104e-05],\"yaxis\":\"y5\",\"type\":\"bar\"},{\"alignmentgroup\":\"True\",\"customdata\":[[2809.0],[62683.0],[1837.0],[51664.0],[49104.0],[1400.0],[10001.0],[54360.0],[52724.0],[798.0],[169.0],[50885.0],[55220.0],[51620.0],[31998.0],[28289.0],[9455.0],[393.0],[20043.0],[49075.0],[61160.0],[314.0],[49823.0],[1110.0]],\"hovertemplate\":\"source=model\\u003cbr\\u003epdpurp_label=Shop\\u003cbr\\u003etlvorg_hr=%{x}\\u003cbr\\u003epercentage=%{y}\\u003cbr\\u003etoexpfac=%{customdata[0]}\\u003cextra\\u003e\\u003c\\u002fextra\\u003e\",\"legendgroup\":\"model\",\"marker\":{\"color\":\"#91268F\",\"pattern\":{\"shape\":\"\"}},\"name\":\"model\",\"offsetgroup\":\"model\",\"orientation\":\"v\",\"showlegend\":false,\"textposition\":\"auto\",\"x\":[22,10,5,12,15,23,21,16,11,4,2,17,13,14,19,7,6,0,20,8,9,1,18,3],\"xaxis\":\"x4\",\"y\":[0.004030510780073867,0.08994108480860455,0.0026358306525438562,0.07413040546163625,0.07045717385003458,0.0020087985375946645,0.014349995838917315,0.07799877750260427,0.07565135292581507,0.0011450151664289588,0.00024249068060964166,0.07301265256107466,0.0792327537471267,0.07406727179331185,0.04591252543282434,0.040590644164296766,0.013566564409255397,0.000563898446624788,0.028758820777864187,0.0704155630231844,0.0877557989709212,0.00045054481486051765,0.07148883538469927,0.0015926902690929126],\"yaxis\":\"y4\",\"type\":\"bar\"},{\"alignmentgroup\":\"True\",\"customdata\":[[1439.0],[52827.0],[131.0],[16470.0],[23675.0],[484.0],[42513.0],[41669.0],[42736.0],[391.0],[41187.0],[21082.0],[69422.0],[83971.0],[76387.0],[1436.0],[2980.0],[30608.0],[8684.0],[56143.0],[43133.0],[14641.0],[3754.0],[1620.0]],\"hovertemplate\":\"source=model\\u003cbr\\u003epdpurp_label=Meal\\u003cbr\\u003etlvorg_hr=%{x}\\u003cbr\\u003epercentage=%{y}\\u003cbr\\u003etoexpfac=%{customdata[0]}\\u003cextra\\u003e\\u003c\\u002fextra\\u003e\",\"legendgroup\":\"model\",\"marker\":{\"color\":\"#91268F\",\"pattern\":{\"shape\":\"\"}},\"name\":\"model\",\"offsetgroup\":\"model\",\"orientation\":\"v\",\"showlegend\":false,\"textposition\":\"auto\",\"x\":[23,14,2,21,19,0,15,18,17,1,16,20,10,12,11,4,22,8,6,13,9,7,5,3],\"xaxis\":\"x3\",\"y\":[0.0021243521021342433,0.07798689958265856,0.000193391331049052,0.02431416200288463,0.03495068521058249,0.0007145145360896273,0.06276065386937671,0.06151468224032785,0.06308986201307089,0.000577221453741827,0.06080312024364355,0.031122717871573394,0.10248559529837625,0.12396384320244234,0.11276781377743463,0.0021199232930262497,0.0043992837139402675,0.045185663059155605,0.012819926097938684,0.0828822099166941,0.0636759410850287,0.021614064716711224,0.005541916463802605,0.002391556918316521],\"yaxis\":\"y3\",\"type\":\"bar\"},{\"alignmentgroup\":\"True\",\"customdata\":[[11811.0],[81922.0],[12413.0],[44386.0],[22824.0],[31545.0],[59135.0],[3730.0],[385.0],[89816.0],[48360.0],[11157.0],[56111.0],[182.0],[53792.0],[58192.0],[51989.0],[338.0],[1696.0],[54280.0],[6474.0],[60580.0],[79231.0],[34383.0]],\"hovertemplate\":\"source=model\\u003cbr\\u003epdpurp_label=Escort\\u003cbr\\u003etlvorg_hr=%{x}\\u003cbr\\u003epercentage=%{y}\\u003cbr\\u003etoexpfac=%{customdata[0]}\\u003cextra\\u003e\\u003c\\u002fextra\\u003e\",\"legendgroup\":\"model\",\"marker\":{\"color\":\"#91268F\",\"pattern\":{\"shape\":\"\"}},\"name\":\"model\",\"offsetgroup\":\"model\",\"orientation\":\"v\",\"showlegend\":false,\"textposition\":\"auto\",\"x\":[5,8,21,18,20,19,7,22,0,9,17,3,12,2,14,13,15,1,23,16,4,11,10,6],\"xaxis\":\"x2\",\"y\":[0.013502421313042166,0.09365382768665145,0.014190632102175294,0.05074239881472268,0.026092563207931116,0.03606247399203413,0.06760356314848434,0.0042641631951271936,0.00044013480700374514,0.10267830604116461,0.055285504588834064,0.012754763744781258,0.06414650430074582,0.00020806372694722497,0.06149540659310509,0.06652551867314789,0.05943420384757846,0.00038640406433056065,0.0019388795653983162,0.06205329175107347,0.007401124001408432,0.06925549768386202,0.09057745686678892,0.03930689628366174],\"yaxis\":\"y2\",\"type\":\"bar\"},{\"alignmentgroup\":\"True\",\"customdata\":[[514.0],[5529.0],[1208.0],[8997.0],[30276.0],[18528.0],[9373.0],[3025.0],[1376.0],[2502.0],[38.0],[123.0],[175.0],[35530.0],[34368.0],[12100.0],[19993.0],[22056.0],[23489.0],[20866.0],[22897.0],[26436.0],[26420.0],[27915.0]],\"hovertemplate\":\"source=model\\u003cbr\\u003epdpurp_label=Personal Business\\u003cbr\\u003etlvorg_hr=%{x}\\u003cbr\\u003epercentage=%{y}\\u003cbr\\u003etoexpfac=%{customdata[0]}\\u003cextra\\u003e\\u003c\\u002fextra\\u003e\",\"legendgroup\":\"model\",\"marker\":{\"color\":\"#91268F\",\"pattern\":{\"shape\":\"\"}},\"name\":\"model\",\"offsetgroup\":\"model\",\"orientation\":\"v\",\"showlegend\":false,\"textposition\":\"auto\",\"x\":[23,21,22,20,8,7,6,5,4,3,2,1,0,9,10,19,18,17,16,15,14,13,12,11],\"xaxis\":\"x\",\"y\":[0.0014530692554292207,0.01563038893631938,0.0034149954485573905,0.025434365935985796,0.08558973692096321,0.05237834078714514,0.02649731153917916,0.008551623536329558,0.0038899285904097428,0.0070731114340153904,0.00010742535351422256,0.0003477189074276151,0.000494722022762867,0.10044270553579808,0.09715775130465265,0.034206494145318234,0.05651987086341714,0.062351936766044544,0.06640300338672561,0.058987827011257044,0.06472942945829352,0.0747341222500523,0.07468889052225684,0.07891523008814533],\"yaxis\":\"y\",\"type\":\"bar\"},{\"alignmentgroup\":\"True\",\"customdata\":[[26843.559387681584],[47069.110645288965],[38841.596463089474],[29706.812597293476],[18524.446823193204],[11536.937249213654],[988.686151042609],[393071.5312644367],[333470.07784518343],[269789.2629268081],[165885.50163496353],[176781.1604996762],[988.686151042609],[74340.17758940026],[19186.686366792266],[9235.10731416993],[4129.18919406304],[0.0],[2189.811752997617],[1627.1968036848764],[663.365825915265],[2.034207699983375],[10080.046467017171],[66.61248155133971]],\"hovertemplate\":\"source=survey (2017\\u002f2019)\\u003cbr\\u003epdpurp_label=Work\\u003cbr\\u003etlvorg_hr=%{x}\\u003cbr\\u003epercentage=%{y}\\u003cbr\\u003etoexpfac=%{customdata[0]}\\u003cextra\\u003e\\u003c\\u002fextra\\u003e\",\"legendgroup\":\"survey (2017\\u002f2019)\",\"marker\":{\"color\":\"#8CC63E\",\"pattern\":{\"shape\":\"\"}},\"name\":\"survey (2017\\u002f2019)\",\"offsetgroup\":\"survey (2017\\u002f2019)\",\"orientation\":\"v\",\"showlegend\":true,\"textposition\":\"auto\",\"x\":[11,4,12,13,14,3,22,7,6,8,9,5,23,10,15,17,18,1,19,20,0,21,16,2],\"xaxis\":\"x6\",\"y\":[0.016417902428935094,0.02878813702871791,0.023756072423380285,0.018169108785209716,0.011329814951170301,0.007056154787477896,0.0006046945014343298,0.24040813495296307,0.20395503897087564,0.1650069475190118,0.10145793040648646,0.10812187021999357,0.0006046945014343298,0.045467509155010515,0.011734850067950726,0.00564832288501819,0.0025254707961660976,0.0,0.0013393199902896817,0.0009952166912646037,0.00040572396705202367,1.2441503399821667e-06,0.006165099679387678,4.074114043016966e-05],\"yaxis\":\"y6\",\"type\":\"bar\"},{\"alignmentgroup\":\"True\",\"customdata\":[[9372.079396235318],[0.0],[36237.68696938745],[75.14674575208934],[158860.1815105916],[0.0],[184966.19363985508],[2899.564229654071],[5634.82123136347],[3740.5243791076186],[8698.72148985911],[5464.016981777702],[0.0],[13587.301864651043],[675.1015338263429],[17571.07859392331],[0.0],[0.0],[0.0],[0.0],[67142.9621295134],[0.0],[10420.73913625376],[0.0]],\"hovertemplate\":\"source=survey (2017\\u002f2019)\\u003cbr\\u003epdpurp_label=School\\u003cbr\\u003etlvorg_hr=%{x}\\u003cbr\\u003epercentage=%{y}\\u003cbr\\u003etoexpfac=%{customdata[0]}\\u003cextra\\u003e\\u003c\\u002fextra\\u003e\",\"legendgroup\":\"survey (2017\\u002f2019)\",\"marker\":{\"color\":\"#8CC63E\",\"pattern\":{\"shape\":\"\"}},\"name\":\"survey (2017\\u002f2019)\",\"offsetgroup\":\"survey (2017\\u002f2019)\",\"orientation\":\"v\",\"showlegend\":false,\"textposition\":\"auto\",\"x\":[12,22,9,19,8,20,7,14,16,13,17,11,21,10,18,15,4,1,2,3,6,23,5,0],\"xaxis\":\"x5\",\"y\":[0.01783981844052992,0.0,0.06897868967033205,0.00014304235420289395,0.3023914625303953,0.0,0.3520844385394772,0.005519340716902397,0.010725921480429116,0.0071201142216593665,0.016558076973415135,0.010400794401084797,0.0,0.025863523783144236,0.0012850604741166693,0.03344667054845797,0.0,0.0,0.0,0.0,0.127807096302561,0.0,0.019835949563291974,0.0],\"yaxis\":\"y5\",\"type\":\"bar\"},{\"alignmentgroup\":\"True\",\"customdata\":[[0.0],[18875.025830543796],[102892.51383715212],[35570.71695496433],[16066.913929221464],[44948.325094358785],[64356.26229586239],[0.54525469613021],[91115.22510114146],[608.1118660539306],[89633.42932089814],[28021.09586572641],[37186.01221540865],[2123.97370652186],[83.24521252225395],[6154.285694475871],[13477.069989906293],[22829.07546272082],[51437.90924882699],[134178.9118874883],[313.64492561617914],[11.087229656279533],[25821.85826057283],[557.4277959529772]],\"hovertemplate\":\"source=survey (2017\\u002f2019)\\u003cbr\\u003epdpurp_label=Shop\\u003cbr\\u003etlvorg_hr=%{x}\\u003cbr\\u003epercentage=%{y}\\u003cbr\\u003etoexpfac=%{customdata[0]}\\u003cextra\\u003e\\u003c\\u002fextra\\u003e\",\"legendgroup\":\"survey (2017\\u002f2019)\",\"marker\":{\"color\":\"#8CC63E\",\"pattern\":{\"shape\":\"\"}},\"name\":\"survey (2017\\u002f2019)\",\"offsetgroup\":\"survey (2017\\u002f2019)\",\"orientation\":\"v\",\"showlegend\":false,\"textposition\":\"auto\",\"x\":[1,21,10,16,20,17,15,2,11,4,12,13,19,23,0,6,7,8,14,9,5,3,18,22],\"xaxis\":\"x4\",\"y\":[0.0,0.02400600540152188,0.13086277418247516,0.04524024661068652,0.020434537469428478,0.05716706004494252,0.08185084323414253,6.934765174904071e-07,0.11588395192547753,0.0007734207556737221,0.11399934536526235,0.03563833950471529,0.04729464309710245,0.0027013538804775894,0.00010587455823378287,0.007827264288296878,0.017140671375974366,0.029034922324873844,0.06542077019423911,0.17065405432870717,0.00039890603838633267,1.410117778942885e-05,0.032841262017111884,0.0007089587479637414],\"yaxis\":\"y4\",\"type\":\"bar\"},{\"alignmentgroup\":\"True\",\"customdata\":[[0.0],[6320.630172016206],[5593.375487917708],[10816.375339993583],[0.0],[47203.97984922029],[0.0],[23708.46135221934],[0.0],[9277.003714894172],[33989.642419100965],[62591.62622065111],[5109.103377173227],[9391.502890534057],[79799.76079279724],[104.37588060467607],[23115.5301076332],[0.0],[10422.979978670437],[496.1524996618177],[11355.197307710754],[24590.122393228026],[4466.581191293693],[1004.4129807216316]],\"hovertemplate\":\"source=survey (2017\\u002f2019)\\u003cbr\\u003epdpurp_label=Meal\\u003cbr\\u003etlvorg_hr=%{x}\\u003cbr\\u003epercentage=%{y}\\u003cbr\\u003etoexpfac=%{customdata[0]}\\u003cextra\\u003e\\u003c\\u002fextra\\u003e\",\"legendgroup\":\"survey (2017\\u002f2019)\",\"marker\":{\"color\":\"#8CC63E\",\"pattern\":{\"shape\":\"\"}},\"name\":\"survey (2017\\u002f2019)\",\"offsetgroup\":\"survey (2017\\u002f2019)\",\"orientation\":\"v\",\"showlegend\":false,\"textposition\":\"auto\",\"x\":[2,14,20,19,0,18,1,16,23,15,17,12,22,8,11,4,10,3,9,21,6,13,7,5],\"xaxis\":\"x3\",\"y\":[0.0,0.017112531658258337,0.015143555707038845,0.02928435304643076,0.0,0.1278004846956421,0.0,0.0641885040600359,0.0,0.025116644297235695,0.09202386726009104,0.1694611385404149,0.013832432986551782,0.02542664040753762,0.2160505987099357,0.00028258820918110377,0.06258319661156765,0.0,0.028219270864489575,0.0013432877935774749,0.030743164546199915,0.06657552118736475,0.012092862572247738,0.002719356846199049],\"yaxis\":\"y3\",\"type\":\"bar\"},{\"alignmentgroup\":\"True\",\"customdata\":[[330.4532993800188],[72887.47341573531],[53721.588782949155],[5061.683382412337],[636.9309530825855],[17977.90415949376],[57099.76069383569],[3465.3706566656133],[0.0],[11720.50858389246],[30992.119239703625],[14689.853983763354],[68.99716112623685],[0.0],[41300.91505807776],[6335.466793934932],[21614.712298822113],[11401.469748573027],[38700.83596111881],[1608.8011555079397],[0.0],[14275.894103075521],[21628.90027714401],[9347.769180612215]],\"hovertemplate\":\"source=survey (2017\\u002f2019)\\u003cbr\\u003epdpurp_label=Escort\\u003cbr\\u003etlvorg_hr=%{x}\\u003cbr\\u003epercentage=%{y}\\u003cbr\\u003etoexpfac=%{customdata[0]}\\u003cextra\\u003e\\u003c\\u002fextra\\u003e\",\"legendgroup\":\"survey (2017\\u002f2019)\",\"marker\":{\"color\":\"#8CC63E\",\"pattern\":{\"shape\":\"\"}},\"name\":\"survey (2017\\u002f2019)\",\"offsetgroup\":\"survey (2017\\u002f2019)\",\"orientation\":\"v\",\"showlegend\":false,\"textposition\":\"auto\",\"x\":[23,8,17,6,22,19,7,5,0,20,18,9,3,2,14,21,13,12,15,4,1,11,16,10],\"xaxis\":\"x2\",\"y\":[0.0007598943784367113,0.1676084984201599,0.12353555977029577,0.011639601586481321,0.0014646555250253284,0.04134111637712195,0.1313038400364988,0.007968798272373857,0.0,0.026951913029855598,0.07126797411396961,0.033780075681680025,0.00015866252498094937,0.0,0.09497358094413717,0.014568732134059336,0.04970414396895841,0.0262182667993078,0.08899456517102558,0.0036995211014282576,0.0,0.032828153619400155,0.049736769955711815,0.021495676589091656],\"yaxis\":\"y2\",\"type\":\"bar\"},{\"alignmentgroup\":\"True\",\"customdata\":[[700.3758568446026],[2041.160644579677],[4337.791814374123],[107315.80528704856],[71276.96887912306],[47346.51151895759],[18699.959783412443],[4797.110596523592],[693.650708366326],[415.12771485007175],[0.0],[0.0],[0.0],[11826.822830027124],[36066.865380506766],[83275.02395238554],[55075.73985185104],[51540.587086667394],[80591.80973502374],[32255.442975107242],[36318.721934705594],[82767.19373577408],[87578.65479472805],[68.08898090709165]],\"hovertemplate\":\"source=survey (2017\\u002f2019)\\u003cbr\\u003epdpurp_label=Personal Business\\u003cbr\\u003etlvorg_hr=%{x}\\u003cbr\\u003epercentage=%{y}\\u003cbr\\u003etoexpfac=%{customdata[0]}\\u003cextra\\u003e\\u003c\\u002fextra\\u003e\",\"legendgroup\":\"survey (2017\\u002f2019)\",\"marker\":{\"color\":\"#8CC63E\",\"pattern\":{\"shape\":\"\"}},\"name\":\"survey (2017\\u002f2019)\",\"offsetgroup\":\"survey (2017\\u002f2019)\",\"orientation\":\"v\",\"showlegend\":false,\"textposition\":\"auto\",\"x\":[22,21,20,11,8,7,6,5,4,3,2,1,0,19,18,17,16,15,14,13,12,10,9,23],\"xaxis\":\"x\",\"y\":[0.0008593680417933929,0.00250452411940775,0.005322513077507758,0.13167754505203383,0.0874575395082633,0.05809463374866541,0.022945033960889302,0.0058861017256845545,0.0008511162186871764,0.000509365775416822,0.0,0.0,0.0,0.014511627545055243,0.04425439736788219,0.10217927069427502,0.0675784726790048,0.06324080558273534,0.09888694054732361,0.03957774471493046,0.04456342782871188,0.10155615804047927,0.10745986792423652,8.354584701627983e-05],\"yaxis\":\"y\",\"type\":\"bar\"},{\"alignmentgroup\":\"True\",\"customdata\":[[74931.3606146957],[26888.870887293415],[37766.2920365951],[311397.3539980395],[32953.441417655355],[12103.96345685936],[30687.93229808931],[7463.727136272968],[206346.47840445887],[248864.7757878116],[127703.56018230684],[59092.504106177985],[99400.45954333006],[255.98038726538],[26993.20585976766],[3106.2604648083056],[9067.667081552123],[551.958469674964],[1354.8011261771376],[2491.513138185322],[0.0],[1284.2515745934531],[0.0],[15880.497234966047]],\"hovertemplate\":\"source=survey\\u003cbr\\u003epdpurp_label=Work\\u003cbr\\u003etlvorg_hr=%{x}\\u003cbr\\u003epercentage=%{y}\\u003cbr\\u003etoexpfac=%{customdata[0]}\\u003cextra\\u003e\\u003c\\u002fextra\\u003e\",\"legendgroup\":\"survey\",\"marker\":{\"color\":\"#00A7A0\",\"pattern\":{\"shape\":\"\"}},\"name\":\"survey\",\"offsetgroup\":\"survey\",\"orientation\":\"v\",\"showlegend\":true,\"textposition\":\"auto\",\"x\":[4,12,11,7,14,3,13,22,8,6,9,10,5,23,15,18,17,1,19,20,0,21,2,16],\"xaxis\":\"x6\",\"y\":[0.05606172193210344,0.020117563465890585,0.02825577095082094,0.23297951254347132,0.024654919573155777,0.009055874977154871,0.02295992376293894,0.005584169189752662,0.15438314210606757,0.18619424156266165,0.0955445279779963,0.044211495778211075,0.07436887408859574,0.00019151795954615823,0.02019562421597788,0.0023240244004406408,0.006784195913815617,0.0004129611686100683,0.001013627450322146,0.0018640862196720059,0.0,0.0009608440855083564,0.0,0.011881380677286125],\"yaxis\":\"y6\",\"type\":\"bar\"},{\"alignmentgroup\":\"True\",\"customdata\":[[48085.789689652025],[156.064494787723],[224775.58031354487],[0.0],[0.0],[177732.16684628103],[387.7845844848059],[0.0],[5015.600869289834],[7404.664188706871],[1663.303637075868],[3333.250470946136],[4969.783185943033],[278.949359175002],[2229.590294654095],[16161.271083577121],[75.6029420675361],[0.0],[26697.98862443798],[0.0],[0.0],[0.0],[944.6388505184881],[0.0]],\"hovertemplate\":\"source=survey\\u003cbr\\u003epdpurp_label=School\\u003cbr\\u003etlvorg_hr=%{x}\\u003cbr\\u003epercentage=%{y}\\u003cbr\\u003etoexpfac=%{customdata[0]}\\u003cextra\\u003e\\u003c\\u002fextra\\u003e\",\"legendgroup\":\"survey\",\"marker\":{\"color\":\"#00A7A0\",\"pattern\":{\"shape\":\"\"}},\"name\":\"survey\",\"offsetgroup\":\"survey\",\"orientation\":\"v\",\"showlegend\":false,\"textposition\":\"auto\",\"x\":[9,19,8,21,20,7,15,22,12,13,17,11,16,18,14,10,4,1,6,2,3,23,5,0],\"xaxis\":\"x5\",\"y\":[0.0924883191140908,0.00030017481026026465,0.43233387109306154,0.0,0.0,0.34185046081618436,0.0007458657667646464,0.0,0.009647018313346252,0.014242148227944748,0.0031992020628623685,0.006411181665805157,0.009558892475218251,0.0005365318426620481,0.004288399129899783,0.031084626184040228,0.00014541487364636436,0.0,0.051350973074125575,0.0,0.0,0.0,0.0018169205500876552,0.0],\"yaxis\":\"y5\",\"type\":\"bar\"},{\"alignmentgroup\":\"True\",\"customdata\":[[82880.44853573837],[53869.43630344452],[766.8642961489354],[32651.123879258368],[306.34798152004703],[55309.72240355943],[0.0],[0.0],[45890.27107482398],[50827.82088511193],[17193.175848295632],[8.1104247487979],[42465.295778674044],[14566.762652314474],[313.25665406101865],[484.372679805163],[2933.980540218817],[13516.049841091382],[50812.554897267575],[666.5076935107627],[75501.37025013976],[1307.606066716253],[59091.909043428306],[0.0]],\"hovertemplate\":\"source=survey\\u003cbr\\u003epdpurp_label=Shop\\u003cbr\\u003etlvorg_hr=%{x}\\u003cbr\\u003epercentage=%{y}\\u003cbr\\u003etoexpfac=%{customdata[0]}\\u003cextra\\u003e\\u003c\\u002fextra\\u003e\",\"legendgroup\":\"survey\",\"marker\":{\"color\":\"#00A7A0\",\"pattern\":{\"shape\":\"\"}},\"name\":\"survey\",\"offsetgroup\":\"survey\",\"orientation\":\"v\",\"showlegend\":false,\"textposition\":\"auto\",\"x\":[10,16,21,15,2,11,1,4,12,13,19,23,17,7,6,0,20,8,9,5,14,22,18,3],\"xaxis\":\"x4\",\"y\":[0.13782100033892825,0.08957890226466979,0.0012752103335188934,0.054295200312402196,0.0005094227409580012,0.09197393842336644,0.0,0.0,0.07631043481418437,0.08452103292386687,0.028590345929334987,1.348673748514927e-05,0.07061508048404995,0.02422291186776135,0.000520911097710803,0.000805458083866537,0.004878884467590003,0.022475692912385506,0.08449564727799933,0.0011083284257762584,0.1255504109675166,0.002174403967980165,0.09826329562864854,0.0],\"yaxis\":\"y4\",\"type\":\"bar\"},{\"alignmentgroup\":\"True\",\"customdata\":[[0.0],[11239.722298735183],[34280.917362739485],[0.0],[18416.898389247777],[7901.458825086892],[41737.41209779713],[0.0],[36491.24558242313],[52022.95421104775],[18899.623555029862],[1328.6639472156842],[13430.676065534126],[37661.62049466345],[71.5547812881571],[45.94185906792442],[16592.386288810565],[16320.043882478165],[51142.2605251032],[10.6381727331061],[0.0],[1619.3993794124167],[14795.148137337197],[24185.69173063007]],\"hovertemplate\":\"source=survey\\u003cbr\\u003epdpurp_label=Meal\\u003cbr\\u003etlvorg_hr=%{x}\\u003cbr\\u003epercentage=%{y}\\u003cbr\\u003etoexpfac=%{customdata[0]}\\u003cextra\\u003e\\u003c\\u002fextra\\u003e\",\"legendgroup\":\"survey\",\"marker\":{\"color\":\"#00A7A0\",\"pattern\":{\"shape\":\"\"}},\"name\":\"survey\",\"offsetgroup\":\"survey\",\"orientation\":\"v\",\"showlegend\":false,\"textposition\":\"auto\",\"x\":[2,14,13,1,15,20,19,0,18,17,16,23,21,12,22,5,8,10,11,4,3,6,9,7],\"xaxis\":\"x3\",\"y\":[0.0,0.02822673126142941,0.08609093855479028,0.0,0.046251039632967464,0.019843226451784803,0.10481671019261982,0.0,0.09164181774898397,0.13064717338311257,0.04746332523625085,0.0033367230237554436,0.03372895467388948,0.09458102365148605,0.00017969817475992742,0.00011537549372609457,0.041669074761107365,0.04098513118044606,0.1284354546825899,2.671603753803088e-05,0.0,0.004066857692092951,0.03715560396831601,0.060738424198353506],\"yaxis\":\"y3\",\"type\":\"bar\"},{\"alignmentgroup\":\"True\",\"customdata\":[[0.0],[116124.15215709507],[2041.5346810067565],[24639.469470863187],[4675.392899869981],[5242.84440129033],[123296.63420487581],[0.0],[5787.712909927875],[15977.137961084289],[52928.80856852308],[0.0],[0.0],[72334.71357971718],[17818.680021405922],[72148.7636073397],[898.543349349546],[37185.89248753224],[19721.257583932624],[44784.66324259696],[3756.89486105699],[0.0],[25184.81205221003],[15896.14724739668]],\"hovertemplate\":\"source=survey\\u003cbr\\u003epdpurp_label=Escort\\u003cbr\\u003etlvorg_hr=%{x}\\u003cbr\\u003epercentage=%{y}\\u003cbr\\u003etoexpfac=%{customdata[0]}\\u003cextra\\u003e\\u003c\\u002fextra\\u003e\",\"legendgroup\":\"survey\",\"marker\":{\"color\":\"#00A7A0\",\"pattern\":{\"shape\":\"\"}},\"name\":\"survey\",\"offsetgroup\":\"survey\",\"orientation\":\"v\",\"showlegend\":false,\"textposition\":\"auto\",\"x\":[23,8,20,6,22,19,7,0,18,5,17,3,2,15,12,14,21,13,11,9,4,1,16,10],\"xaxis\":\"x2\",\"y\":[0.0,0.17582738647957025,0.0030911546022158766,0.03730742865139907,0.007079165695325601,0.00793836262030011,0.18668747673303326,0.0,0.008763365895408262,0.02419150847552035,0.08014124458356521,0.0,0.0,0.10952436167856118,0.026979847693020267,0.10924280872810475,0.001360513948390341,0.05630437913680471,0.02986060276575646,0.06780992709992745,0.005688437697306528,0.0,0.03813314973554116,0.024068877780249114],\"yaxis\":\"y2\",\"type\":\"bar\"},{\"alignmentgroup\":\"True\",\"customdata\":[[208.4084893501812],[46.9407483680735],[817.8571988340667],[7876.896164187974],[23567.08931472589],[29389.618600087004],[5380.734653984138],[10663.035371550308],[0.0],[0.0],[0.0],[0.0],[0.0],[21265.68791425479],[5254.77023384645],[15870.54917319957],[8036.796422910789],[28112.636222380563],[40365.68320684828],[28689.578870672533],[20348.92199668735],[0.0],[29667.33682676109],[31020.636880102902]],\"hovertemplate\":\"source=survey\\u003cbr\\u003epdpurp_label=Personal Business\\u003cbr\\u003etlvorg_hr=%{x}\\u003cbr\\u003epercentage=%{y}\\u003cbr\\u003etoexpfac=%{customdata[0]}\\u003cextra\\u003e\\u003c\\u002fextra\\u003e\",\"legendgroup\":\"survey\",\"marker\":{\"color\":\"#00A7A0\",\"pattern\":{\"shape\":\"\"}},\"name\":\"survey\",\"offsetgroup\":\"survey\",\"orientation\":\"v\",\"showlegend\":false,\"textposition\":\"auto\",\"x\":[21,22,20,19,8,7,6,5,4,3,2,1,0,9,18,17,16,15,14,13,12,23,11,10],\"xaxis\":\"x\",\"y\":[0.0006797779660105617,0.00015310934093018918,0.0026676519024921093,0.025692525624381148,0.07687013177392756,0.09586181069728071,0.01755065194384655,0.03478023625127744,0.0,0.0,0.0,0.0,0.0,0.06936351835398463,0.01713978654398743,0.05176588377021804,0.026214081502349818,0.09169660377094463,0.1316630724234658,0.09357845081654013,0.06637325019026954,0.0,0.09676766022309037,0.10118179690500324],\"yaxis\":\"y\",\"type\":\"bar\"}],                        {\"template\":{\"data\":{\"barpolar\":[{\"marker\":{\"line\":{\"color\":\"white\",\"width\":0.5},\"pattern\":{\"fillmode\":\"overlay\",\"size\":10,\"solidity\":0.2}},\"type\":\"barpolar\"}],\"bar\":[{\"error_x\":{\"color\":\"rgb(36,36,36)\"},\"error_y\":{\"color\":\"rgb(36,36,36)\"},\"marker\":{\"line\":{\"color\":\"white\",\"width\":0.5},\"pattern\":{\"fillmode\":\"overlay\",\"size\":10,\"solidity\":0.2}},\"type\":\"bar\"}],\"carpet\":[{\"aaxis\":{\"endlinecolor\":\"rgb(36,36,36)\",\"gridcolor\":\"white\",\"linecolor\":\"white\",\"minorgridcolor\":\"white\",\"startlinecolor\":\"rgb(36,36,36)\"},\"baxis\":{\"endlinecolor\":\"rgb(36,36,36)\",\"gridcolor\":\"white\",\"linecolor\":\"white\",\"minorgridcolor\":\"white\",\"startlinecolor\":\"rgb(36,36,36)\"},\"type\":\"carpet\"}],\"choropleth\":[{\"colorbar\":{\"outlinewidth\":1,\"tickcolor\":\"rgb(36,36,36)\",\"ticks\":\"outside\"},\"type\":\"choropleth\"}],\"contourcarpet\":[{\"colorbar\":{\"outlinewidth\":1,\"tickcolor\":\"rgb(36,36,36)\",\"ticks\":\"outside\"},\"type\":\"contourcarpet\"}],\"contour\":[{\"colorbar\":{\"outlinewidth\":1,\"tickcolor\":\"rgb(36,36,36)\",\"ticks\":\"outside\"},\"colorscale\":[[0.0,\"#440154\"],[0.1111111111111111,\"#482878\"],[0.2222222222222222,\"#3e4989\"],[0.3333333333333333,\"#31688e\"],[0.4444444444444444,\"#26828e\"],[0.5555555555555556,\"#1f9e89\"],[0.6666666666666666,\"#35b779\"],[0.7777777777777778,\"#6ece58\"],[0.8888888888888888,\"#b5de2b\"],[1.0,\"#fde725\"]],\"type\":\"contour\"}],\"heatmapgl\":[{\"colorbar\":{\"outlinewidth\":1,\"tickcolor\":\"rgb(36,36,36)\",\"ticks\":\"outside\"},\"colorscale\":[[0.0,\"#440154\"],[0.1111111111111111,\"#482878\"],[0.2222222222222222,\"#3e4989\"],[0.3333333333333333,\"#31688e\"],[0.4444444444444444,\"#26828e\"],[0.5555555555555556,\"#1f9e89\"],[0.6666666666666666,\"#35b779\"],[0.7777777777777778,\"#6ece58\"],[0.8888888888888888,\"#b5de2b\"],[1.0,\"#fde725\"]],\"type\":\"heatmapgl\"}],\"heatmap\":[{\"colorbar\":{\"outlinewidth\":1,\"tickcolor\":\"rgb(36,36,36)\",\"ticks\":\"outside\"},\"colorscale\":[[0.0,\"#440154\"],[0.1111111111111111,\"#482878\"],[0.2222222222222222,\"#3e4989\"],[0.3333333333333333,\"#31688e\"],[0.4444444444444444,\"#26828e\"],[0.5555555555555556,\"#1f9e89\"],[0.6666666666666666,\"#35b779\"],[0.7777777777777778,\"#6ece58\"],[0.8888888888888888,\"#b5de2b\"],[1.0,\"#fde725\"]],\"type\":\"heatmap\"}],\"histogram2dcontour\":[{\"colorbar\":{\"outlinewidth\":1,\"tickcolor\":\"rgb(36,36,36)\",\"ticks\":\"outside\"},\"colorscale\":[[0.0,\"#440154\"],[0.1111111111111111,\"#482878\"],[0.2222222222222222,\"#3e4989\"],[0.3333333333333333,\"#31688e\"],[0.4444444444444444,\"#26828e\"],[0.5555555555555556,\"#1f9e89\"],[0.6666666666666666,\"#35b779\"],[0.7777777777777778,\"#6ece58\"],[0.8888888888888888,\"#b5de2b\"],[1.0,\"#fde725\"]],\"type\":\"histogram2dcontour\"}],\"histogram2d\":[{\"colorbar\":{\"outlinewidth\":1,\"tickcolor\":\"rgb(36,36,36)\",\"ticks\":\"outside\"},\"colorscale\":[[0.0,\"#440154\"],[0.1111111111111111,\"#482878\"],[0.2222222222222222,\"#3e4989\"],[0.3333333333333333,\"#31688e\"],[0.4444444444444444,\"#26828e\"],[0.5555555555555556,\"#1f9e89\"],[0.6666666666666666,\"#35b779\"],[0.7777777777777778,\"#6ece58\"],[0.8888888888888888,\"#b5de2b\"],[1.0,\"#fde725\"]],\"type\":\"histogram2d\"}],\"histogram\":[{\"marker\":{\"line\":{\"color\":\"white\",\"width\":0.6}},\"type\":\"histogram\"}],\"mesh3d\":[{\"colorbar\":{\"outlinewidth\":1,\"tickcolor\":\"rgb(36,36,36)\",\"ticks\":\"outside\"},\"type\":\"mesh3d\"}],\"parcoords\":[{\"line\":{\"colorbar\":{\"outlinewidth\":1,\"tickcolor\":\"rgb(36,36,36)\",\"ticks\":\"outside\"}},\"type\":\"parcoords\"}],\"pie\":[{\"automargin\":true,\"type\":\"pie\"}],\"scatter3d\":[{\"line\":{\"colorbar\":{\"outlinewidth\":1,\"tickcolor\":\"rgb(36,36,36)\",\"ticks\":\"outside\"}},\"marker\":{\"colorbar\":{\"outlinewidth\":1,\"tickcolor\":\"rgb(36,36,36)\",\"ticks\":\"outside\"}},\"type\":\"scatter3d\"}],\"scattercarpet\":[{\"marker\":{\"colorbar\":{\"outlinewidth\":1,\"tickcolor\":\"rgb(36,36,36)\",\"ticks\":\"outside\"}},\"type\":\"scattercarpet\"}],\"scattergeo\":[{\"marker\":{\"colorbar\":{\"outlinewidth\":1,\"tickcolor\":\"rgb(36,36,36)\",\"ticks\":\"outside\"}},\"type\":\"scattergeo\"}],\"scattergl\":[{\"marker\":{\"colorbar\":{\"outlinewidth\":1,\"tickcolor\":\"rgb(36,36,36)\",\"ticks\":\"outside\"}},\"type\":\"scattergl\"}],\"scattermapbox\":[{\"marker\":{\"colorbar\":{\"outlinewidth\":1,\"tickcolor\":\"rgb(36,36,36)\",\"ticks\":\"outside\"}},\"type\":\"scattermapbox\"}],\"scatterpolargl\":[{\"marker\":{\"colorbar\":{\"outlinewidth\":1,\"tickcolor\":\"rgb(36,36,36)\",\"ticks\":\"outside\"}},\"type\":\"scatterpolargl\"}],\"scatterpolar\":[{\"marker\":{\"colorbar\":{\"outlinewidth\":1,\"tickcolor\":\"rgb(36,36,36)\",\"ticks\":\"outside\"}},\"type\":\"scatterpolar\"}],\"scatter\":[{\"fillpattern\":{\"fillmode\":\"overlay\",\"size\":10,\"solidity\":0.2},\"type\":\"scatter\"}],\"scatterternary\":[{\"marker\":{\"colorbar\":{\"outlinewidth\":1,\"tickcolor\":\"rgb(36,36,36)\",\"ticks\":\"outside\"}},\"type\":\"scatterternary\"}],\"surface\":[{\"colorbar\":{\"outlinewidth\":1,\"tickcolor\":\"rgb(36,36,36)\",\"ticks\":\"outside\"},\"colorscale\":[[0.0,\"#440154\"],[0.1111111111111111,\"#482878\"],[0.2222222222222222,\"#3e4989\"],[0.3333333333333333,\"#31688e\"],[0.4444444444444444,\"#26828e\"],[0.5555555555555556,\"#1f9e89\"],[0.6666666666666666,\"#35b779\"],[0.7777777777777778,\"#6ece58\"],[0.8888888888888888,\"#b5de2b\"],[1.0,\"#fde725\"]],\"type\":\"surface\"}],\"table\":[{\"cells\":{\"fill\":{\"color\":\"rgb(237,237,237)\"},\"line\":{\"color\":\"white\"}},\"header\":{\"fill\":{\"color\":\"rgb(217,217,217)\"},\"line\":{\"color\":\"white\"}},\"type\":\"table\"}]},\"layout\":{\"annotationdefaults\":{\"arrowhead\":0,\"arrowwidth\":1},\"autotypenumbers\":\"strict\",\"coloraxis\":{\"colorbar\":{\"outlinewidth\":1,\"tickcolor\":\"rgb(36,36,36)\",\"ticks\":\"outside\"}},\"colorscale\":{\"diverging\":[[0.0,\"rgb(103,0,31)\"],[0.1,\"rgb(178,24,43)\"],[0.2,\"rgb(214,96,77)\"],[0.3,\"rgb(244,165,130)\"],[0.4,\"rgb(253,219,199)\"],[0.5,\"rgb(247,247,247)\"],[0.6,\"rgb(209,229,240)\"],[0.7,\"rgb(146,197,222)\"],[0.8,\"rgb(67,147,195)\"],[0.9,\"rgb(33,102,172)\"],[1.0,\"rgb(5,48,97)\"]],\"sequential\":[[0.0,\"#440154\"],[0.1111111111111111,\"#482878\"],[0.2222222222222222,\"#3e4989\"],[0.3333333333333333,\"#31688e\"],[0.4444444444444444,\"#26828e\"],[0.5555555555555556,\"#1f9e89\"],[0.6666666666666666,\"#35b779\"],[0.7777777777777778,\"#6ece58\"],[0.8888888888888888,\"#b5de2b\"],[1.0,\"#fde725\"]],\"sequentialminus\":[[0.0,\"#440154\"],[0.1111111111111111,\"#482878\"],[0.2222222222222222,\"#3e4989\"],[0.3333333333333333,\"#31688e\"],[0.4444444444444444,\"#26828e\"],[0.5555555555555556,\"#1f9e89\"],[0.6666666666666666,\"#35b779\"],[0.7777777777777778,\"#6ece58\"],[0.8888888888888888,\"#b5de2b\"],[1.0,\"#fde725\"]]},\"colorway\":[\"#91268F\",\"#8CC63E\",\"#00A7A0\",\"#F05A28\",\"#4C4C4C\",\"#630460\",\"#9f3913\",\"#588527\",\"#00716c\",\"#3e4040\"],\"font\":{\"color\":\"rgb(36,36,36)\",\"family\":\"Poppins\",\"size\":11},\"geo\":{\"bgcolor\":\"white\",\"lakecolor\":\"white\",\"landcolor\":\"white\",\"showlakes\":true,\"showland\":true,\"subunitcolor\":\"white\"},\"hoverlabel\":{\"align\":\"left\"},\"hovermode\":\"closest\",\"mapbox\":{\"style\":\"light\"},\"paper_bgcolor\":\"white\",\"plot_bgcolor\":\"white\",\"polar\":{\"angularaxis\":{\"gridcolor\":\"rgb(232,232,232)\",\"linecolor\":\"rgb(36,36,36)\",\"showgrid\":false,\"showline\":true,\"ticks\":\"outside\"},\"bgcolor\":\"white\",\"radialaxis\":{\"gridcolor\":\"rgb(232,232,232)\",\"linecolor\":\"rgb(36,36,36)\",\"showgrid\":false,\"showline\":true,\"ticks\":\"outside\"}},\"scene\":{\"xaxis\":{\"backgroundcolor\":\"white\",\"gridcolor\":\"rgb(232,232,232)\",\"gridwidth\":2,\"linecolor\":\"rgb(36,36,36)\",\"showbackground\":true,\"showgrid\":false,\"showline\":true,\"ticks\":\"outside\",\"zeroline\":false,\"zerolinecolor\":\"rgb(36,36,36)\"},\"yaxis\":{\"backgroundcolor\":\"white\",\"gridcolor\":\"rgb(232,232,232)\",\"gridwidth\":2,\"linecolor\":\"rgb(36,36,36)\",\"showbackground\":true,\"showgrid\":false,\"showline\":true,\"ticks\":\"outside\",\"zeroline\":false,\"zerolinecolor\":\"rgb(36,36,36)\"},\"zaxis\":{\"backgroundcolor\":\"white\",\"gridcolor\":\"rgb(232,232,232)\",\"gridwidth\":2,\"linecolor\":\"rgb(36,36,36)\",\"showbackground\":true,\"showgrid\":false,\"showline\":true,\"ticks\":\"outside\",\"zeroline\":false,\"zerolinecolor\":\"rgb(36,36,36)\"}},\"shapedefaults\":{\"fillcolor\":\"black\",\"line\":{\"width\":0},\"opacity\":0.3},\"ternary\":{\"aaxis\":{\"gridcolor\":\"rgb(232,232,232)\",\"linecolor\":\"rgb(36,36,36)\",\"showgrid\":false,\"showline\":true,\"ticks\":\"outside\"},\"baxis\":{\"gridcolor\":\"rgb(232,232,232)\",\"linecolor\":\"rgb(36,36,36)\",\"showgrid\":false,\"showline\":true,\"ticks\":\"outside\"},\"bgcolor\":\"white\",\"caxis\":{\"gridcolor\":\"rgb(232,232,232)\",\"linecolor\":\"rgb(36,36,36)\",\"showgrid\":false,\"showline\":true,\"ticks\":\"outside\"}},\"title\":{\"x\":0.05},\"xaxis\":{\"automargin\":true,\"gridcolor\":\"rgb(232,232,232)\",\"linecolor\":\"rgb(36,36,36)\",\"showgrid\":false,\"showline\":true,\"ticks\":\"outside\",\"title\":{\"standoff\":15},\"zeroline\":false,\"zerolinecolor\":\"rgb(36,36,36)\"},\"yaxis\":{\"automargin\":true,\"gridcolor\":\"rgb(232,232,232)\",\"linecolor\":\"rgb(36,36,36)\",\"showgrid\":false,\"showline\":true,\"ticks\":\"outside\",\"title\":{\"standoff\":15},\"zeroline\":false,\"zerolinecolor\":\"rgb(36,36,36)\"}}},\"xaxis\":{\"anchor\":\"y\",\"domain\":[0.0,0.98],\"title\":{\"text\":\"tlvorg_hr\"},\"dtick\":1,\"categoryorder\":\"category ascending\"},\"yaxis\":{\"anchor\":\"x\",\"domain\":[0.0,0.14166666666666666],\"title\":{\"text\":\"percentage\"},\"tickformat\":\".0%\"},\"xaxis2\":{\"anchor\":\"y2\",\"domain\":[0.0,0.98],\"matches\":\"x\",\"showticklabels\":false,\"dtick\":1,\"categoryorder\":\"category ascending\"},\"yaxis2\":{\"anchor\":\"x2\",\"domain\":[0.17166666666666666,0.31333333333333335],\"matches\":\"y\",\"title\":{\"text\":\"percentage\"},\"tickformat\":\".0%\"},\"xaxis3\":{\"anchor\":\"y3\",\"domain\":[0.0,0.98],\"matches\":\"x\",\"showticklabels\":false,\"dtick\":1,\"categoryorder\":\"category ascending\"},\"yaxis3\":{\"anchor\":\"x3\",\"domain\":[0.3433333333333333,0.485],\"matches\":\"y\",\"title\":{\"text\":\"percentage\"},\"tickformat\":\".0%\"},\"xaxis4\":{\"anchor\":\"y4\",\"domain\":[0.0,0.98],\"matches\":\"x\",\"showticklabels\":false,\"dtick\":1,\"categoryorder\":\"category ascending\"},\"yaxis4\":{\"anchor\":\"x4\",\"domain\":[0.515,0.6566666666666667],\"matches\":\"y\",\"title\":{\"text\":\"percentage\"},\"tickformat\":\".0%\"},\"xaxis5\":{\"anchor\":\"y5\",\"domain\":[0.0,0.98],\"matches\":\"x\",\"showticklabels\":false,\"dtick\":1,\"categoryorder\":\"category ascending\"},\"yaxis5\":{\"anchor\":\"x5\",\"domain\":[0.6866666666666666,0.8283333333333334],\"matches\":\"y\",\"title\":{\"text\":\"percentage\"},\"tickformat\":\".0%\"},\"xaxis6\":{\"anchor\":\"y6\",\"domain\":[0.0,0.98],\"matches\":\"x\",\"showticklabels\":false,\"dtick\":1,\"categoryorder\":\"category ascending\"},\"yaxis6\":{\"anchor\":\"x6\",\"domain\":[0.8583333333333333,1.0],\"matches\":\"y\",\"title\":{\"text\":\"percentage\"},\"tickformat\":\".0%\"},\"annotations\":[{\"font\":{},\"showarrow\":false,\"text\":\"Personal Business\",\"textangle\":90,\"x\":0.98,\"xanchor\":\"left\",\"xref\":\"paper\",\"y\":0.07083333333333333,\"yanchor\":\"middle\",\"yref\":\"paper\"},{\"font\":{},\"showarrow\":false,\"text\":\"Escort\",\"textangle\":90,\"x\":0.98,\"xanchor\":\"left\",\"xref\":\"paper\",\"y\":0.2425,\"yanchor\":\"middle\",\"yref\":\"paper\"},{\"font\":{},\"showarrow\":false,\"text\":\"Meal\",\"textangle\":90,\"x\":0.98,\"xanchor\":\"left\",\"xref\":\"paper\",\"y\":0.4141666666666667,\"yanchor\":\"middle\",\"yref\":\"paper\"},{\"font\":{},\"showarrow\":false,\"text\":\"Shop\",\"textangle\":90,\"x\":0.98,\"xanchor\":\"left\",\"xref\":\"paper\",\"y\":0.5858333333333334,\"yanchor\":\"middle\",\"yref\":\"paper\"},{\"font\":{},\"showarrow\":false,\"text\":\"School\",\"textangle\":90,\"x\":0.98,\"xanchor\":\"left\",\"xref\":\"paper\",\"y\":0.7575000000000001,\"yanchor\":\"middle\",\"yref\":\"paper\"},{\"font\":{},\"showarrow\":false,\"text\":\"Work\",\"textangle\":90,\"x\":0.98,\"xanchor\":\"left\",\"xref\":\"paper\",\"y\":0.9291666666666667,\"yanchor\":\"middle\",\"yref\":\"paper\"}],\"legend\":{\"title\":{\"text\":\"source\"},\"tracegroupgap\":0},\"title\":{\"text\":\"tour origin departure hour by purpose\"},\"barmode\":\"group\",\"height\":1500,\"width\":700},                        {\"responsive\": true}                    ).then(function(){\n",
       "                            \n",
       "var gd = document.getElementById('9ba1d54b-0607-4057-a614-3c52302c0353');\n",
       "var x = new MutationObserver(function (mutations, observer) {{\n",
       "        var display = window.getComputedStyle(gd).display;\n",
       "        if (!display || display === 'none') {{\n",
       "            console.log([gd, 'removed!']);\n",
       "            Plotly.purge(gd);\n",
       "            observer.disconnect();\n",
       "        }}\n",
       "}});\n",
       "\n",
       "// Listen for the removal of the full notebook cells\n",
       "var notebookContainer = gd.closest('#notebook-container');\n",
       "if (notebookContainer) {{\n",
       "    x.observe(notebookContainer, {childList: true});\n",
       "}}\n",
       "\n",
       "// Listen for the clearing of the current output cell\n",
       "var outputEl = gd.closest('.output');\n",
       "if (outputEl) {{\n",
       "    x.observe(outputEl, {childList: true});\n",
       "}}\n",
       "\n",
       "                        })                };                });            </script>        </div>"
      ]
     },
     "metadata": {},
     "output_type": "display_data"
    }
   ],
   "source": [
    "df_plot = df_tour.groupby(['tlvorg_hr','pdpurp_label','source'])['toexpfac'].sum().reset_index()\n",
    "df_plot['percentage'] = df_plot.groupby(['pdpurp_label','source'], group_keys=False)['toexpfac']. \\\n",
    "    apply(lambda x: x / float(x.sum()))\n",
    "\n",
    "fig = px.bar(df_plot.sort_values(['pdpurp_label']),\n",
    "             x=\"tlvorg_hr\", y=\"percentage\", color=\"source\",barmode=\"group\",\n",
    "             facet_row='pdpurp_label',\n",
    "             hover_data=['toexpfac'],\n",
    "             title=\"tour origin departure hour by purpose\")\n",
    "fig.update_layout(height=1500, width=700)\n",
    "fig.for_each_annotation(lambda a: a.update(text = a.text.split(\"=\")[-1]))\n",
    "fig.for_each_xaxis(lambda a: a.update(dict(dtick = 1, categoryorder='category ascending')))\n",
    "fig.for_each_yaxis(lambda a: a.update(dict(tickformat=\".0%\")))\n",
    "fig.show()"
   ]
  }
 ],
 "metadata": {
  "kernelspec": {
   "display_name": "summary",
   "language": "python",
   "name": "python3"
  },
  "language_info": {
   "codemirror_mode": {
    "name": "ipython",
    "version": 3
   },
   "file_extension": ".py",
   "mimetype": "text/x-python",
   "name": "python",
   "nbconvert_exporter": "python",
   "pygments_lexer": "ipython3",
   "version": "3.7.10"
  }
 },
 "nbformat": 4,
 "nbformat_minor": 2
}
