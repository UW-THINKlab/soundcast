{
 "cells": [
  {
   "cell_type": "raw",
   "metadata": {},
   "source": [
    "---\n",
    "title: \"Time Choice\"\n",
    "date: today\n",
    "---"
   ]
  },
  {
   "cell_type": "code",
   "execution_count": 1,
   "metadata": {
    "ExecuteTime": {
     "end_time": "2024-07-15T04:25:53.491736Z",
     "start_time": "2024-07-15T04:25:52.116355Z"
    },
    "execution": {
     "iopub.execute_input": "2025-06-06T18:51:29.943932Z",
     "iopub.status.busy": "2025-06-06T18:51:29.943410Z",
     "iopub.status.idle": "2025-06-06T18:51:31.971518Z",
     "shell.execute_reply": "2025-06-06T18:51:31.971518Z"
    }
   },
   "outputs": [],
   "source": [
    "import os\n",
    "import pandas as pd\n",
    "import numpy as np\n",
    "# import validation_data_input\n",
    "import plotly.express as px\n",
    "import toml\n",
    "import polars as pl\n",
    "from pathlib import Path\n",
    "import util\n",
    "import math\n",
    "import psrc_theme\n",
    "\n",
    "# to show plotly figures in quarto HTML file\n",
    "import plotly.io as pio\n",
    "pio.renderers.default = \"plotly_mimetype+notebook_connected\"\n",
    "pio.templates.default = \"simple_white+psrc_color\" # set plotly template"
   ]
  },
  {
   "cell_type": "code",
   "execution_count": 2,
   "metadata": {
    "ExecuteTime": {
     "end_time": "2024-07-15T04:26:18.475538Z",
     "start_time": "2024-07-15T04:25:57.037934Z"
    },
    "execution": {
     "iopub.execute_input": "2025-06-06T18:51:31.975502Z",
     "iopub.status.busy": "2025-06-06T18:51:31.974505Z",
     "iopub.status.idle": "2025-06-06T18:51:37.248921Z",
     "shell.execute_reply": "2025-06-06T18:51:37.247926Z"
    }
   },
   "outputs": [],
   "source": [
    "# %store -r validation_data\n",
    "\n",
    "# config = validation_data.config.copy()\n",
    "# tour = validation_data.tour.copy()\n",
    "# trip = validation_data.trip.copy()\n",
    "\n",
    "config = toml.load(Path(Path.cwd(), '..\\..\\..\\..\\configuration', 'validation_configuration.toml'))\n",
    "input_config = toml.load(Path(Path.cwd(), '..\\..\\..\\..\\configuration', 'input_configuration.toml'))\n",
    "\n",
    "data = util.ValidationData(config,input_config,['trip', 'tour'])\n",
    "\n",
    "tour = data.tour.to_pandas()\n",
    "trip = data.trip.to_pandas()"
   ]
  },
  {
   "cell_type": "code",
   "execution_count": 3,
   "metadata": {
    "ExecuteTime": {
     "end_time": "2024-07-15T04:36:01.318077Z",
     "start_time": "2024-07-15T04:35:58.005548Z"
    },
    "collapsed": false,
    "execution": {
     "iopub.execute_input": "2025-06-06T18:51:37.255456Z",
     "iopub.status.busy": "2025-06-06T18:51:37.254461Z",
     "iopub.status.idle": "2025-06-06T18:51:51.413449Z",
     "shell.execute_reply": "2025-06-06T18:51:51.412347Z"
    }
   },
   "outputs": [],
   "source": [
    "# df_person = person.copy()\n",
    "df_tour = tour.copy()\n",
    "df_trip = trip.copy()\n",
    "\n",
    "# ptype_cat = {1: \"1: full time worker\",\n",
    "#              2: \"2: part time worker\",\n",
    "#              3: \"3: non-worker age 65+\",\n",
    "#              4: \"4: other non-working adult\",\n",
    "#              5: \"5: university student\",\n",
    "#              6: \"6: grade school student/child age 16+\",\n",
    "#              7: \"7: child age 5-15\",\n",
    "#              8: \"8: child age 0-4\"}\n",
    "pdpurp_cat = {1: \"Work\",\n",
    "              2: \"School\",\n",
    "              3: \"Escort\",\n",
    "              4: \"Personal Business\",\n",
    "              5: \"Shop\",\n",
    "              6: \"Meal\",\n",
    "              7: \"Social\",\n",
    "              8: \"Social\",\n",
    "              9: \"Personal Business\"}\n",
    "# df_person['pptyp_label'] = df_person['pptyp'].map(ptype_cat)\n",
    "# df_person['pptyp_label'] = df_person['pptyp_label'].astype(pd.CategoricalDtype([\"1: full time worker\",\"2: part time worker\",\"3: non-worker age 65+\",\"4: other non-working adult\",\"5: university student\",\"6: grade school student/child age 16+\",\"7: child age 5-15\",\"8: child age 0-4\"]))\n",
    "\n",
    "df_tour['pdpurp_label'] = df_tour['pdpurp'].map(pdpurp_cat)\n",
    "df_tour['pdpurp_label'] = df_tour['pdpurp_label'].astype(pd.CategoricalDtype([\"Work\",\"School\",\"Shop\",\"Meal\",\"Escort\",\"Personal Business\"]))\n",
    "\n",
    "df_tour['tlvorg_hr'] = df_tour['tlvorig'].apply(lambda row: int(math.floor(row/60)))\n",
    "\n",
    "\n",
    "df_trip['dpurp_label'] = df_trip['dpurp'].map(pdpurp_cat)\n",
    "df_trip['dpurp_label'] = df_trip['dpurp_label'].astype(pd.CategoricalDtype([\"Work\",\"School\",\"Shop\",\"Meal\",\"Escort\",\"Personal Business\"]))\n",
    "\n",
    "df_trip['dept_hr'] = df_trip['deptm'].apply(lambda row: int(math.floor(row/60)))\n",
    "\n",
    "# df_tour = df_tour.merge(df_person, how='left', on=['pno','hhno','source'])"
   ]
  },
  {
   "cell_type": "markdown",
   "metadata": {},
   "source": [
    "## departure hour"
   ]
  },
  {
   "cell_type": "raw",
   "metadata": {
    "vscode": {
     "languageId": "raw"
    }
   },
   "source": [
    ":::{.panel-tabset}\n",
    "### tour"
   ]
  },
  {
   "cell_type": "code",
   "execution_count": 4,
   "metadata": {
    "ExecuteTime": {
     "end_time": "2024-07-15T04:37:09.021826Z",
     "start_time": "2024-07-15T04:37:08.286683Z"
    },
    "collapsed": false,
    "execution": {
     "iopub.execute_input": "2025-06-06T18:51:51.419944Z",
     "iopub.status.busy": "2025-06-06T18:51:51.418947Z",
     "iopub.status.idle": "2025-06-06T18:51:52.470241Z",
     "shell.execute_reply": "2025-06-06T18:51:52.469248Z"
    }
   },
   "outputs": [
    {
     "data": {
      "text/html": [
       "        <script type=\"text/javascript\">\n",
       "        window.PlotlyConfig = {MathJaxConfig: 'local'};\n",
       "        if (window.MathJax && window.MathJax.Hub && window.MathJax.Hub.Config) {window.MathJax.Hub.Config({SVG: {font: \"STIX-Web\"}});}\n",
       "        </script>\n",
       "        <script type=\"module\">import \"https://cdn.plot.ly/plotly-3.0.1.min\"</script>\n",
       "        "
      ]
     },
     "metadata": {},
     "output_type": "display_data"
    },
    {
     "data": {
      "application/vnd.plotly.v1+json": {
       "config": {
        "plotlyServerURL": "https://plot.ly"
       },
       "data": [
        {
         "alignmentgroup": "True",
         "customdata": {
          "bdata": "AAAAAABdtEAAAAAAAF20QAAAAAAAuKtAAAAAAAC4q0AAAAAAAHSUQAAAAAAAdJRAAAAAANBe9kAAAAAA0F72QAAAAADgb/RAAAAAAOBv9EAAAAAAAOYGQQAAAAAA5gZBAAAAANJYIEEAAAAA0lggQQAAAACaZCpBAAAAAJpkKkEAAAAAdpMsQQAAAAB2kyxBAAAAANaHJkEAAAAA1ocmQQAAAADuNyJBAAAAAO43IkEAAAAAaIIdQQAAAABogh1BAAAAAHAdG0EAAAAAcB0bQQAAAADElRpBAAAAAMSVGkEAAAAAKPIXQQAAAAAo8hdBAAAAAFiKFkEAAAAAWIoWQQAAAADIPxlBAAAAAMg/GUEAAAAAmF0YQQAAAACYXRhBAAAAAPQIF0EAAAAA9AgXQQAAAADIhwxBAAAAAMiHDEEAAAAAgL0EQQAAAACAvQRBAAAAAJAr+UAAAAAAkCv5QAAAAAAA2tlAAAAAAADa2UAAAAAAgBXJQAAAAACAFclA",
          "dtype": "f8",
          "shape": "24, 2"
         },
         "hovertemplate": "source=model<br>tlvorg_hr=%{x}<br>percentage=%{y}<br>toexpfac=%{customdata[0]}<br>sample_count=%{customdata[1]}<extra></extra>",
         "legendgroup": "model",
         "marker": {
          "color": "#91268F",
          "pattern": {
           "shape": ""
          }
         },
         "name": "model",
         "offsetgroup": "model",
         "orientation": "v",
         "showlegend": true,
         "textposition": "auto",
         "type": "bar",
         "x": {
          "bdata": "AAECAwQFBgcICQoLDA0ODxAREhMUFRYX",
          "dtype": "i1"
         },
         "xaxis": "x",
         "y": {
          "bdata": "PCZ6Z++aRT+OEiL8xmg9Pz62w4FWsyU/PY4epBW8hz+AbkQa9q6FP109XliES5g/lbwfRQxYsT/jMxjnrQC8P1NLs3afUb4/tCeHJZzntz8LaXOuYFSzP/X2tSckT68/eRKcxsnErD/tOlSC1zSsPwU1lxwHaKk/UUMtTUXqpz9I32ANAMqqP4cB84wE2qk/Qf3sEppwqD8y8FkbO0WeP4a0/BJSAZY/pT+pX4y0ij9jmfHkn21rP/I/iOgjnVo/",
          "dtype": "f8"
         },
         "yaxis": "y"
        },
        {
         "alignmentgroup": "True",
         "customdata": {
          "bdata": "IMoFtQ9oiUAAAAAAAAAIQDJIgiVzd3VAAAAAAAAAAEDD3qmNrE+DQAAAAAAAAAhAz1lmmt4nzUAAAAAAAAA5QBNm0wfd2PFAAAAAAACAU0BCdRYFovkDQQAAAAAA4GdAlP/qiZB8FEEAAAAAAEiBQNRSZ0x2TSZBAAAAAABAk0AnlHw/ikYlQQAAAAAAeJRARtupF1F8GkEAAAAAAEiLQDUobUnKIQ9BAAAAAAAgh0AAq31C8k4QQQAAAAAAiINAczKhVTO6DEEAAAAAAFCEQFKovC8O3ghBAAAAAACggUAReRPB0TISQQAAAAAA0IJAk6db/6kVFEEAAAAAAKiDQMbuuz1mEw9BAAAAAAAAgkAv8b7vYQYUQQAAAAAAEIdAg82GecejCkEAAAAAANiAQIf3pqnB1wBBAAAAAACQdkBzGs8gnvbjQAAAAAAAoGJAYmDudsXGwEAAAAAAAABSQO81hKM3atJAAAAAAAAAQEB2/oGSxlSvQAAAAAAAACRA",
          "dtype": "f8",
          "shape": "24, 2"
         },
         "hovertemplate": "source=survey<br>tlvorg_hr=%{x}<br>percentage=%{y}<br>toexpfac=%{customdata[0]}<br>sample_count=%{customdata[1]}<extra></extra>",
         "legendgroup": "survey",
         "marker": {
          "color": "#8CC63E",
          "pattern": {
           "shape": ""
          }
         },
         "name": "survey",
         "offsetgroup": "survey",
         "orientation": "v",
         "showlegend": true,
         "textposition": "auto",
         "type": "bar",
         "x": {
          "bdata": "AAECAwQFBgcICQoLDA0ODxAREhMUFRYX",
          "dtype": "i1"
         },
         "xaxis": "x",
         "y": {
          "bdata": "KbVaxDUZJT8s87NFn9MRP+U19UxoCSA/pXwFEUU2aD8KTixOTaSNPxsTdSaMlqA/sbnxJkcDsT/dPw2GWIXCP0uYAnYBq8E/VZU3Y5/+tT8GZn+eZ9qpP2Tff0QOFqs/tKacVjLbpz/NzdXXmqakPzP/Whe1Oa4/5ZMTWNOtsD+8pMpAdM6pP9NkMqAiobA/XshQxmQfpj+yGVuxR/mbP9A4piQLlIA/yh1I4xHdWz9SbZNmt5VuP9ajq7a+BEo/",
          "dtype": "f8"
         },
         "yaxis": "y"
        }
       ],
       "layout": {
        "barmode": "group",
        "font": {
         "size": 11
        },
        "height": 400,
        "legend": {
         "title": {
          "text": "source"
         },
         "tracegroupgap": 0
        },
        "template": {
         "data": {
          "bar": [
           {
            "error_x": {
             "color": "rgb(36,36,36)"
            },
            "error_y": {
             "color": "rgb(36,36,36)"
            },
            "marker": {
             "line": {
              "color": "white",
              "width": 0.5
             },
             "pattern": {
              "fillmode": "overlay",
              "size": 10,
              "solidity": 0.2
             }
            },
            "type": "bar"
           }
          ],
          "barpolar": [
           {
            "marker": {
             "line": {
              "color": "white",
              "width": 0.5
             },
             "pattern": {
              "fillmode": "overlay",
              "size": 10,
              "solidity": 0.2
             }
            },
            "type": "barpolar"
           }
          ],
          "carpet": [
           {
            "aaxis": {
             "endlinecolor": "rgb(36,36,36)",
             "gridcolor": "white",
             "linecolor": "white",
             "minorgridcolor": "white",
             "startlinecolor": "rgb(36,36,36)"
            },
            "baxis": {
             "endlinecolor": "rgb(36,36,36)",
             "gridcolor": "white",
             "linecolor": "white",
             "minorgridcolor": "white",
             "startlinecolor": "rgb(36,36,36)"
            },
            "type": "carpet"
           }
          ],
          "choropleth": [
           {
            "colorbar": {
             "outlinewidth": 1,
             "tickcolor": "rgb(36,36,36)",
             "ticks": "outside"
            },
            "type": "choropleth"
           }
          ],
          "contour": [
           {
            "colorbar": {
             "outlinewidth": 1,
             "tickcolor": "rgb(36,36,36)",
             "ticks": "outside"
            },
            "colorscale": [
             [
              0.0,
              "#440154"
             ],
             [
              0.1111111111111111,
              "#482878"
             ],
             [
              0.2222222222222222,
              "#3e4989"
             ],
             [
              0.3333333333333333,
              "#31688e"
             ],
             [
              0.4444444444444444,
              "#26828e"
             ],
             [
              0.5555555555555556,
              "#1f9e89"
             ],
             [
              0.6666666666666666,
              "#35b779"
             ],
             [
              0.7777777777777778,
              "#6ece58"
             ],
             [
              0.8888888888888888,
              "#b5de2b"
             ],
             [
              1.0,
              "#fde725"
             ]
            ],
            "type": "contour"
           }
          ],
          "contourcarpet": [
           {
            "colorbar": {
             "outlinewidth": 1,
             "tickcolor": "rgb(36,36,36)",
             "ticks": "outside"
            },
            "type": "contourcarpet"
           }
          ],
          "heatmap": [
           {
            "colorbar": {
             "outlinewidth": 1,
             "tickcolor": "rgb(36,36,36)",
             "ticks": "outside"
            },
            "colorscale": [
             [
              0.0,
              "#440154"
             ],
             [
              0.1111111111111111,
              "#482878"
             ],
             [
              0.2222222222222222,
              "#3e4989"
             ],
             [
              0.3333333333333333,
              "#31688e"
             ],
             [
              0.4444444444444444,
              "#26828e"
             ],
             [
              0.5555555555555556,
              "#1f9e89"
             ],
             [
              0.6666666666666666,
              "#35b779"
             ],
             [
              0.7777777777777778,
              "#6ece58"
             ],
             [
              0.8888888888888888,
              "#b5de2b"
             ],
             [
              1.0,
              "#fde725"
             ]
            ],
            "type": "heatmap"
           }
          ],
          "histogram": [
           {
            "marker": {
             "line": {
              "color": "white",
              "width": 0.6
             }
            },
            "type": "histogram"
           }
          ],
          "histogram2d": [
           {
            "colorbar": {
             "outlinewidth": 1,
             "tickcolor": "rgb(36,36,36)",
             "ticks": "outside"
            },
            "colorscale": [
             [
              0.0,
              "#440154"
             ],
             [
              0.1111111111111111,
              "#482878"
             ],
             [
              0.2222222222222222,
              "#3e4989"
             ],
             [
              0.3333333333333333,
              "#31688e"
             ],
             [
              0.4444444444444444,
              "#26828e"
             ],
             [
              0.5555555555555556,
              "#1f9e89"
             ],
             [
              0.6666666666666666,
              "#35b779"
             ],
             [
              0.7777777777777778,
              "#6ece58"
             ],
             [
              0.8888888888888888,
              "#b5de2b"
             ],
             [
              1.0,
              "#fde725"
             ]
            ],
            "type": "histogram2d"
           }
          ],
          "histogram2dcontour": [
           {
            "colorbar": {
             "outlinewidth": 1,
             "tickcolor": "rgb(36,36,36)",
             "ticks": "outside"
            },
            "colorscale": [
             [
              0.0,
              "#440154"
             ],
             [
              0.1111111111111111,
              "#482878"
             ],
             [
              0.2222222222222222,
              "#3e4989"
             ],
             [
              0.3333333333333333,
              "#31688e"
             ],
             [
              0.4444444444444444,
              "#26828e"
             ],
             [
              0.5555555555555556,
              "#1f9e89"
             ],
             [
              0.6666666666666666,
              "#35b779"
             ],
             [
              0.7777777777777778,
              "#6ece58"
             ],
             [
              0.8888888888888888,
              "#b5de2b"
             ],
             [
              1.0,
              "#fde725"
             ]
            ],
            "type": "histogram2dcontour"
           }
          ],
          "mesh3d": [
           {
            "colorbar": {
             "outlinewidth": 1,
             "tickcolor": "rgb(36,36,36)",
             "ticks": "outside"
            },
            "type": "mesh3d"
           }
          ],
          "parcoords": [
           {
            "line": {
             "colorbar": {
              "outlinewidth": 1,
              "tickcolor": "rgb(36,36,36)",
              "ticks": "outside"
             }
            },
            "type": "parcoords"
           }
          ],
          "pie": [
           {
            "automargin": true,
            "type": "pie"
           }
          ],
          "scatter": [
           {
            "fillpattern": {
             "fillmode": "overlay",
             "size": 10,
             "solidity": 0.2
            },
            "type": "scatter"
           }
          ],
          "scatter3d": [
           {
            "line": {
             "colorbar": {
              "outlinewidth": 1,
              "tickcolor": "rgb(36,36,36)",
              "ticks": "outside"
             }
            },
            "marker": {
             "colorbar": {
              "outlinewidth": 1,
              "tickcolor": "rgb(36,36,36)",
              "ticks": "outside"
             }
            },
            "type": "scatter3d"
           }
          ],
          "scattercarpet": [
           {
            "marker": {
             "colorbar": {
              "outlinewidth": 1,
              "tickcolor": "rgb(36,36,36)",
              "ticks": "outside"
             }
            },
            "type": "scattercarpet"
           }
          ],
          "scattergeo": [
           {
            "marker": {
             "colorbar": {
              "outlinewidth": 1,
              "tickcolor": "rgb(36,36,36)",
              "ticks": "outside"
             }
            },
            "type": "scattergeo"
           }
          ],
          "scattergl": [
           {
            "marker": {
             "colorbar": {
              "outlinewidth": 1,
              "tickcolor": "rgb(36,36,36)",
              "ticks": "outside"
             }
            },
            "type": "scattergl"
           }
          ],
          "scattermap": [
           {
            "marker": {
             "colorbar": {
              "outlinewidth": 1,
              "tickcolor": "rgb(36,36,36)",
              "ticks": "outside"
             }
            },
            "type": "scattermap"
           }
          ],
          "scattermapbox": [
           {
            "marker": {
             "colorbar": {
              "outlinewidth": 1,
              "tickcolor": "rgb(36,36,36)",
              "ticks": "outside"
             }
            },
            "type": "scattermapbox"
           }
          ],
          "scatterpolar": [
           {
            "marker": {
             "colorbar": {
              "outlinewidth": 1,
              "tickcolor": "rgb(36,36,36)",
              "ticks": "outside"
             }
            },
            "type": "scatterpolar"
           }
          ],
          "scatterpolargl": [
           {
            "marker": {
             "colorbar": {
              "outlinewidth": 1,
              "tickcolor": "rgb(36,36,36)",
              "ticks": "outside"
             }
            },
            "type": "scatterpolargl"
           }
          ],
          "scatterternary": [
           {
            "marker": {
             "colorbar": {
              "outlinewidth": 1,
              "tickcolor": "rgb(36,36,36)",
              "ticks": "outside"
             }
            },
            "type": "scatterternary"
           }
          ],
          "surface": [
           {
            "colorbar": {
             "outlinewidth": 1,
             "tickcolor": "rgb(36,36,36)",
             "ticks": "outside"
            },
            "colorscale": [
             [
              0.0,
              "#440154"
             ],
             [
              0.1111111111111111,
              "#482878"
             ],
             [
              0.2222222222222222,
              "#3e4989"
             ],
             [
              0.3333333333333333,
              "#31688e"
             ],
             [
              0.4444444444444444,
              "#26828e"
             ],
             [
              0.5555555555555556,
              "#1f9e89"
             ],
             [
              0.6666666666666666,
              "#35b779"
             ],
             [
              0.7777777777777778,
              "#6ece58"
             ],
             [
              0.8888888888888888,
              "#b5de2b"
             ],
             [
              1.0,
              "#fde725"
             ]
            ],
            "type": "surface"
           }
          ],
          "table": [
           {
            "cells": {
             "fill": {
              "color": "rgb(237,237,237)"
             },
             "line": {
              "color": "white"
             }
            },
            "header": {
             "fill": {
              "color": "rgb(217,217,217)"
             },
             "line": {
              "color": "white"
             }
            },
            "type": "table"
           }
          ]
         },
         "layout": {
          "annotationdefaults": {
           "arrowhead": 0,
           "arrowwidth": 1
          },
          "autotypenumbers": "strict",
          "coloraxis": {
           "colorbar": {
            "outlinewidth": 1,
            "tickcolor": "rgb(36,36,36)",
            "ticks": "outside"
           }
          },
          "colorscale": {
           "diverging": [
            [
             0.0,
             "rgb(103,0,31)"
            ],
            [
             0.1,
             "rgb(178,24,43)"
            ],
            [
             0.2,
             "rgb(214,96,77)"
            ],
            [
             0.3,
             "rgb(244,165,130)"
            ],
            [
             0.4,
             "rgb(253,219,199)"
            ],
            [
             0.5,
             "rgb(247,247,247)"
            ],
            [
             0.6,
             "rgb(209,229,240)"
            ],
            [
             0.7,
             "rgb(146,197,222)"
            ],
            [
             0.8,
             "rgb(67,147,195)"
            ],
            [
             0.9,
             "rgb(33,102,172)"
            ],
            [
             1.0,
             "rgb(5,48,97)"
            ]
           ],
           "sequential": [
            [
             0.0,
             "#440154"
            ],
            [
             0.1111111111111111,
             "#482878"
            ],
            [
             0.2222222222222222,
             "#3e4989"
            ],
            [
             0.3333333333333333,
             "#31688e"
            ],
            [
             0.4444444444444444,
             "#26828e"
            ],
            [
             0.5555555555555556,
             "#1f9e89"
            ],
            [
             0.6666666666666666,
             "#35b779"
            ],
            [
             0.7777777777777778,
             "#6ece58"
            ],
            [
             0.8888888888888888,
             "#b5de2b"
            ],
            [
             1.0,
             "#fde725"
            ]
           ],
           "sequentialminus": [
            [
             0.0,
             "#440154"
            ],
            [
             0.1111111111111111,
             "#482878"
            ],
            [
             0.2222222222222222,
             "#3e4989"
            ],
            [
             0.3333333333333333,
             "#31688e"
            ],
            [
             0.4444444444444444,
             "#26828e"
            ],
            [
             0.5555555555555556,
             "#1f9e89"
            ],
            [
             0.6666666666666666,
             "#35b779"
            ],
            [
             0.7777777777777778,
             "#6ece58"
            ],
            [
             0.8888888888888888,
             "#b5de2b"
            ],
            [
             1.0,
             "#fde725"
            ]
           ]
          },
          "colorway": [
           "#91268F",
           "#8CC63E",
           "#00A7A0",
           "#F05A28",
           "#4C4C4C",
           "#630460",
           "#9f3913",
           "#588527",
           "#00716c",
           "#3e4040"
          ],
          "font": {
           "color": "rgb(36,36,36)",
           "family": "Poppins",
           "size": 11
          },
          "geo": {
           "bgcolor": "white",
           "lakecolor": "white",
           "landcolor": "white",
           "showlakes": true,
           "showland": true,
           "subunitcolor": "white"
          },
          "hoverlabel": {
           "align": "left"
          },
          "hovermode": "closest",
          "mapbox": {
           "style": "light"
          },
          "paper_bgcolor": "white",
          "plot_bgcolor": "white",
          "polar": {
           "angularaxis": {
            "gridcolor": "rgb(232,232,232)",
            "linecolor": "rgb(36,36,36)",
            "showgrid": false,
            "showline": true,
            "ticks": "outside"
           },
           "bgcolor": "white",
           "radialaxis": {
            "gridcolor": "rgb(232,232,232)",
            "linecolor": "rgb(36,36,36)",
            "showgrid": false,
            "showline": true,
            "ticks": "outside"
           }
          },
          "scene": {
           "xaxis": {
            "backgroundcolor": "white",
            "gridcolor": "rgb(232,232,232)",
            "gridwidth": 2,
            "linecolor": "rgb(36,36,36)",
            "showbackground": true,
            "showgrid": false,
            "showline": true,
            "ticks": "outside",
            "zeroline": false,
            "zerolinecolor": "rgb(36,36,36)"
           },
           "yaxis": {
            "backgroundcolor": "white",
            "gridcolor": "rgb(232,232,232)",
            "gridwidth": 2,
            "linecolor": "rgb(36,36,36)",
            "showbackground": true,
            "showgrid": false,
            "showline": true,
            "ticks": "outside",
            "zeroline": false,
            "zerolinecolor": "rgb(36,36,36)"
           },
           "zaxis": {
            "backgroundcolor": "white",
            "gridcolor": "rgb(232,232,232)",
            "gridwidth": 2,
            "linecolor": "rgb(36,36,36)",
            "showbackground": true,
            "showgrid": false,
            "showline": true,
            "ticks": "outside",
            "zeroline": false,
            "zerolinecolor": "rgb(36,36,36)"
           }
          },
          "shapedefaults": {
           "fillcolor": "black",
           "line": {
            "width": 0
           },
           "opacity": 0.3
          },
          "ternary": {
           "aaxis": {
            "gridcolor": "rgb(232,232,232)",
            "linecolor": "rgb(36,36,36)",
            "showgrid": false,
            "showline": true,
            "ticks": "outside"
           },
           "baxis": {
            "gridcolor": "rgb(232,232,232)",
            "linecolor": "rgb(36,36,36)",
            "showgrid": false,
            "showline": true,
            "ticks": "outside"
           },
           "bgcolor": "white",
           "caxis": {
            "gridcolor": "rgb(232,232,232)",
            "linecolor": "rgb(36,36,36)",
            "showgrid": false,
            "showline": true,
            "ticks": "outside"
           }
          },
          "title": {
           "x": 0.05
          },
          "xaxis": {
           "automargin": true,
           "gridcolor": "rgb(232,232,232)",
           "linecolor": "rgb(36,36,36)",
           "showgrid": false,
           "showline": true,
           "ticks": "outside",
           "title": {
            "standoff": 15
           },
           "zeroline": false,
           "zerolinecolor": "rgb(36,36,36)"
          },
          "yaxis": {
           "automargin": true,
           "gridcolor": "rgb(232,232,232)",
           "linecolor": "rgb(36,36,36)",
           "showgrid": false,
           "showline": true,
           "ticks": "outside",
           "title": {
            "standoff": 15
           },
           "zeroline": false,
           "zerolinecolor": "rgb(36,36,36)"
          }
         }
        },
        "title": {
         "text": "tour origin departure hour"
        },
        "width": 700,
        "xaxis": {
         "anchor": "y",
         "categoryorder": "category ascending",
         "domain": [
          0.0,
          1.0
         ],
         "dtick": 1,
         "title": {
          "text": "tlvorg_hr"
         }
        },
        "yaxis": {
         "anchor": "x",
         "domain": [
          0.0,
          1.0
         ],
         "tickformat": ".0%",
         "title": {
          "text": "percentage"
         }
        }
       }
      },
      "text/html": [
       "<div>            <script src=\"https://cdnjs.cloudflare.com/ajax/libs/mathjax/2.7.5/MathJax.js?config=TeX-AMS-MML_SVG\"></script><script type=\"text/javascript\">if (window.MathJax && window.MathJax.Hub && window.MathJax.Hub.Config) {window.MathJax.Hub.Config({SVG: {font: \"STIX-Web\"}});}</script>                <script type=\"text/javascript\">window.PlotlyConfig = {MathJaxConfig: 'local'};</script>\n",
       "        <script charset=\"utf-8\" src=\"https://cdn.plot.ly/plotly-3.0.1.min.js\"></script>                <div id=\"5337a22c-1e78-4f43-bd04-db201588c2f3\" class=\"plotly-graph-div\" style=\"height:400px; width:700px;\"></div>            <script type=\"text/javascript\">                window.PLOTLYENV=window.PLOTLYENV || {};                                if (document.getElementById(\"5337a22c-1e78-4f43-bd04-db201588c2f3\")) {                    Plotly.newPlot(                        \"5337a22c-1e78-4f43-bd04-db201588c2f3\",                        [{\"alignmentgroup\":\"True\",\"customdata\":{\"dtype\":\"f8\",\"bdata\":\"AAAAAABdtEAAAAAAAF20QAAAAAAAuKtAAAAAAAC4q0AAAAAAAHSUQAAAAAAAdJRAAAAAANBe9kAAAAAA0F72QAAAAADgb\\u002fRAAAAAAOBv9EAAAAAAAOYGQQAAAAAA5gZBAAAAANJYIEEAAAAA0lggQQAAAACaZCpBAAAAAJpkKkEAAAAAdpMsQQAAAAB2kyxBAAAAANaHJkEAAAAA1ocmQQAAAADuNyJBAAAAAO43IkEAAAAAaIIdQQAAAABogh1BAAAAAHAdG0EAAAAAcB0bQQAAAADElRpBAAAAAMSVGkEAAAAAKPIXQQAAAAAo8hdBAAAAAFiKFkEAAAAAWIoWQQAAAADIPxlBAAAAAMg\\u002fGUEAAAAAmF0YQQAAAACYXRhBAAAAAPQIF0EAAAAA9AgXQQAAAADIhwxBAAAAAMiHDEEAAAAAgL0EQQAAAACAvQRBAAAAAJAr+UAAAAAAkCv5QAAAAAAA2tlAAAAAAADa2UAAAAAAgBXJQAAAAACAFclA\",\"shape\":\"24, 2\"},\"hovertemplate\":\"source=model\\u003cbr\\u003etlvorg_hr=%{x}\\u003cbr\\u003epercentage=%{y}\\u003cbr\\u003etoexpfac=%{customdata[0]}\\u003cbr\\u003esample_count=%{customdata[1]}\\u003cextra\\u003e\\u003c\\u002fextra\\u003e\",\"legendgroup\":\"model\",\"marker\":{\"color\":\"#91268F\",\"pattern\":{\"shape\":\"\"}},\"name\":\"model\",\"offsetgroup\":\"model\",\"orientation\":\"v\",\"showlegend\":true,\"textposition\":\"auto\",\"x\":{\"dtype\":\"i1\",\"bdata\":\"AAECAwQFBgcICQoLDA0ODxAREhMUFRYX\"},\"xaxis\":\"x\",\"y\":{\"dtype\":\"f8\",\"bdata\":\"PCZ6Z++aRT+OEiL8xmg9Pz62w4FWsyU\\u002fPY4epBW8hz+AbkQa9q6FP109XliES5g\\u002flbwfRQxYsT\\u002fjMxjnrQC8P1NLs3afUb4\\u002ftCeHJZzntz8LaXOuYFSzP\\u002fX2tSckT68\\u002feRKcxsnErD\\u002ftOlSC1zSsPwU1lxwHaKk\\u002fUUMtTUXqpz9I32ANAMqqP4cB84wE2qk\\u002fQf3sEppwqD8y8FkbO0WeP4a0\\u002fBJSAZY\\u002fpT+pX4y0ij9jmfHkn21rP\\u002fI\\u002fiOgjnVo\\u002f\"},\"yaxis\":\"y\",\"type\":\"bar\"},{\"alignmentgroup\":\"True\",\"customdata\":{\"dtype\":\"f8\",\"bdata\":\"IMoFtQ9oiUAAAAAAAAAIQDJIgiVzd3VAAAAAAAAAAEDD3qmNrE+DQAAAAAAAAAhAz1lmmt4nzUAAAAAAAAA5QBNm0wfd2PFAAAAAAACAU0BCdRYFovkDQQAAAAAA4GdAlP\\u002fqiZB8FEEAAAAAAEiBQNRSZ0x2TSZBAAAAAABAk0AnlHw\\u002fikYlQQAAAAAAeJRARtupF1F8GkEAAAAAAEiLQDUobUnKIQ9BAAAAAAAgh0AAq31C8k4QQQAAAAAAiINAczKhVTO6DEEAAAAAAFCEQFKovC8O3ghBAAAAAACggUAReRPB0TISQQAAAAAA0IJAk6db\\u002f6kVFEEAAAAAAKiDQMbuuz1mEw9BAAAAAAAAgkAv8b7vYQYUQQAAAAAAEIdAg82GecejCkEAAAAAANiAQIf3pqnB1wBBAAAAAACQdkBzGs8gnvbjQAAAAAAAoGJAYmDudsXGwEAAAAAAAABSQO81hKM3atJAAAAAAAAAQEB2\\u002foGSxlSvQAAAAAAAACRA\",\"shape\":\"24, 2\"},\"hovertemplate\":\"source=survey\\u003cbr\\u003etlvorg_hr=%{x}\\u003cbr\\u003epercentage=%{y}\\u003cbr\\u003etoexpfac=%{customdata[0]}\\u003cbr\\u003esample_count=%{customdata[1]}\\u003cextra\\u003e\\u003c\\u002fextra\\u003e\",\"legendgroup\":\"survey\",\"marker\":{\"color\":\"#8CC63E\",\"pattern\":{\"shape\":\"\"}},\"name\":\"survey\",\"offsetgroup\":\"survey\",\"orientation\":\"v\",\"showlegend\":true,\"textposition\":\"auto\",\"x\":{\"dtype\":\"i1\",\"bdata\":\"AAECAwQFBgcICQoLDA0ODxAREhMUFRYX\"},\"xaxis\":\"x\",\"y\":{\"dtype\":\"f8\",\"bdata\":\"KbVaxDUZJT8s87NFn9MRP+U19UxoCSA\\u002fpXwFEUU2aD8KTixOTaSNPxsTdSaMlqA\\u002fsbnxJkcDsT\\u002fdPw2GWIXCP0uYAnYBq8E\\u002fVZU3Y5\\u002f+tT8GZn+eZ9qpP2Tff0QOFqs\\u002ftKacVjLbpz\\u002fNzdXXmqakPzP\\u002fWhe1Oa4\\u002f5ZMTWNOtsD+8pMpAdM6pP9NkMqAiobA\\u002fXshQxmQfpj+yGVuxR\\u002fmbP9A4piQLlIA\\u002fyh1I4xHdWz9SbZNmt5VuP9ajq7a+BEo\\u002f\"},\"yaxis\":\"y\",\"type\":\"bar\"}],                        {\"template\":{\"data\":{\"barpolar\":[{\"marker\":{\"line\":{\"color\":\"white\",\"width\":0.5},\"pattern\":{\"fillmode\":\"overlay\",\"size\":10,\"solidity\":0.2}},\"type\":\"barpolar\"}],\"bar\":[{\"error_x\":{\"color\":\"rgb(36,36,36)\"},\"error_y\":{\"color\":\"rgb(36,36,36)\"},\"marker\":{\"line\":{\"color\":\"white\",\"width\":0.5},\"pattern\":{\"fillmode\":\"overlay\",\"size\":10,\"solidity\":0.2}},\"type\":\"bar\"}],\"carpet\":[{\"aaxis\":{\"endlinecolor\":\"rgb(36,36,36)\",\"gridcolor\":\"white\",\"linecolor\":\"white\",\"minorgridcolor\":\"white\",\"startlinecolor\":\"rgb(36,36,36)\"},\"baxis\":{\"endlinecolor\":\"rgb(36,36,36)\",\"gridcolor\":\"white\",\"linecolor\":\"white\",\"minorgridcolor\":\"white\",\"startlinecolor\":\"rgb(36,36,36)\"},\"type\":\"carpet\"}],\"choropleth\":[{\"colorbar\":{\"outlinewidth\":1,\"tickcolor\":\"rgb(36,36,36)\",\"ticks\":\"outside\"},\"type\":\"choropleth\"}],\"contourcarpet\":[{\"colorbar\":{\"outlinewidth\":1,\"tickcolor\":\"rgb(36,36,36)\",\"ticks\":\"outside\"},\"type\":\"contourcarpet\"}],\"contour\":[{\"colorbar\":{\"outlinewidth\":1,\"tickcolor\":\"rgb(36,36,36)\",\"ticks\":\"outside\"},\"colorscale\":[[0.0,\"#440154\"],[0.1111111111111111,\"#482878\"],[0.2222222222222222,\"#3e4989\"],[0.3333333333333333,\"#31688e\"],[0.4444444444444444,\"#26828e\"],[0.5555555555555556,\"#1f9e89\"],[0.6666666666666666,\"#35b779\"],[0.7777777777777778,\"#6ece58\"],[0.8888888888888888,\"#b5de2b\"],[1.0,\"#fde725\"]],\"type\":\"contour\"}],\"heatmap\":[{\"colorbar\":{\"outlinewidth\":1,\"tickcolor\":\"rgb(36,36,36)\",\"ticks\":\"outside\"},\"colorscale\":[[0.0,\"#440154\"],[0.1111111111111111,\"#482878\"],[0.2222222222222222,\"#3e4989\"],[0.3333333333333333,\"#31688e\"],[0.4444444444444444,\"#26828e\"],[0.5555555555555556,\"#1f9e89\"],[0.6666666666666666,\"#35b779\"],[0.7777777777777778,\"#6ece58\"],[0.8888888888888888,\"#b5de2b\"],[1.0,\"#fde725\"]],\"type\":\"heatmap\"}],\"histogram2dcontour\":[{\"colorbar\":{\"outlinewidth\":1,\"tickcolor\":\"rgb(36,36,36)\",\"ticks\":\"outside\"},\"colorscale\":[[0.0,\"#440154\"],[0.1111111111111111,\"#482878\"],[0.2222222222222222,\"#3e4989\"],[0.3333333333333333,\"#31688e\"],[0.4444444444444444,\"#26828e\"],[0.5555555555555556,\"#1f9e89\"],[0.6666666666666666,\"#35b779\"],[0.7777777777777778,\"#6ece58\"],[0.8888888888888888,\"#b5de2b\"],[1.0,\"#fde725\"]],\"type\":\"histogram2dcontour\"}],\"histogram2d\":[{\"colorbar\":{\"outlinewidth\":1,\"tickcolor\":\"rgb(36,36,36)\",\"ticks\":\"outside\"},\"colorscale\":[[0.0,\"#440154\"],[0.1111111111111111,\"#482878\"],[0.2222222222222222,\"#3e4989\"],[0.3333333333333333,\"#31688e\"],[0.4444444444444444,\"#26828e\"],[0.5555555555555556,\"#1f9e89\"],[0.6666666666666666,\"#35b779\"],[0.7777777777777778,\"#6ece58\"],[0.8888888888888888,\"#b5de2b\"],[1.0,\"#fde725\"]],\"type\":\"histogram2d\"}],\"histogram\":[{\"marker\":{\"line\":{\"color\":\"white\",\"width\":0.6}},\"type\":\"histogram\"}],\"mesh3d\":[{\"colorbar\":{\"outlinewidth\":1,\"tickcolor\":\"rgb(36,36,36)\",\"ticks\":\"outside\"},\"type\":\"mesh3d\"}],\"parcoords\":[{\"line\":{\"colorbar\":{\"outlinewidth\":1,\"tickcolor\":\"rgb(36,36,36)\",\"ticks\":\"outside\"}},\"type\":\"parcoords\"}],\"pie\":[{\"automargin\":true,\"type\":\"pie\"}],\"scatter3d\":[{\"line\":{\"colorbar\":{\"outlinewidth\":1,\"tickcolor\":\"rgb(36,36,36)\",\"ticks\":\"outside\"}},\"marker\":{\"colorbar\":{\"outlinewidth\":1,\"tickcolor\":\"rgb(36,36,36)\",\"ticks\":\"outside\"}},\"type\":\"scatter3d\"}],\"scattercarpet\":[{\"marker\":{\"colorbar\":{\"outlinewidth\":1,\"tickcolor\":\"rgb(36,36,36)\",\"ticks\":\"outside\"}},\"type\":\"scattercarpet\"}],\"scattergeo\":[{\"marker\":{\"colorbar\":{\"outlinewidth\":1,\"tickcolor\":\"rgb(36,36,36)\",\"ticks\":\"outside\"}},\"type\":\"scattergeo\"}],\"scattergl\":[{\"marker\":{\"colorbar\":{\"outlinewidth\":1,\"tickcolor\":\"rgb(36,36,36)\",\"ticks\":\"outside\"}},\"type\":\"scattergl\"}],\"scattermapbox\":[{\"marker\":{\"colorbar\":{\"outlinewidth\":1,\"tickcolor\":\"rgb(36,36,36)\",\"ticks\":\"outside\"}},\"type\":\"scattermapbox\"}],\"scattermap\":[{\"marker\":{\"colorbar\":{\"outlinewidth\":1,\"tickcolor\":\"rgb(36,36,36)\",\"ticks\":\"outside\"}},\"type\":\"scattermap\"}],\"scatterpolargl\":[{\"marker\":{\"colorbar\":{\"outlinewidth\":1,\"tickcolor\":\"rgb(36,36,36)\",\"ticks\":\"outside\"}},\"type\":\"scatterpolargl\"}],\"scatterpolar\":[{\"marker\":{\"colorbar\":{\"outlinewidth\":1,\"tickcolor\":\"rgb(36,36,36)\",\"ticks\":\"outside\"}},\"type\":\"scatterpolar\"}],\"scatter\":[{\"fillpattern\":{\"fillmode\":\"overlay\",\"size\":10,\"solidity\":0.2},\"type\":\"scatter\"}],\"scatterternary\":[{\"marker\":{\"colorbar\":{\"outlinewidth\":1,\"tickcolor\":\"rgb(36,36,36)\",\"ticks\":\"outside\"}},\"type\":\"scatterternary\"}],\"surface\":[{\"colorbar\":{\"outlinewidth\":1,\"tickcolor\":\"rgb(36,36,36)\",\"ticks\":\"outside\"},\"colorscale\":[[0.0,\"#440154\"],[0.1111111111111111,\"#482878\"],[0.2222222222222222,\"#3e4989\"],[0.3333333333333333,\"#31688e\"],[0.4444444444444444,\"#26828e\"],[0.5555555555555556,\"#1f9e89\"],[0.6666666666666666,\"#35b779\"],[0.7777777777777778,\"#6ece58\"],[0.8888888888888888,\"#b5de2b\"],[1.0,\"#fde725\"]],\"type\":\"surface\"}],\"table\":[{\"cells\":{\"fill\":{\"color\":\"rgb(237,237,237)\"},\"line\":{\"color\":\"white\"}},\"header\":{\"fill\":{\"color\":\"rgb(217,217,217)\"},\"line\":{\"color\":\"white\"}},\"type\":\"table\"}]},\"layout\":{\"annotationdefaults\":{\"arrowhead\":0,\"arrowwidth\":1},\"autotypenumbers\":\"strict\",\"coloraxis\":{\"colorbar\":{\"outlinewidth\":1,\"tickcolor\":\"rgb(36,36,36)\",\"ticks\":\"outside\"}},\"colorscale\":{\"diverging\":[[0.0,\"rgb(103,0,31)\"],[0.1,\"rgb(178,24,43)\"],[0.2,\"rgb(214,96,77)\"],[0.3,\"rgb(244,165,130)\"],[0.4,\"rgb(253,219,199)\"],[0.5,\"rgb(247,247,247)\"],[0.6,\"rgb(209,229,240)\"],[0.7,\"rgb(146,197,222)\"],[0.8,\"rgb(67,147,195)\"],[0.9,\"rgb(33,102,172)\"],[1.0,\"rgb(5,48,97)\"]],\"sequential\":[[0.0,\"#440154\"],[0.1111111111111111,\"#482878\"],[0.2222222222222222,\"#3e4989\"],[0.3333333333333333,\"#31688e\"],[0.4444444444444444,\"#26828e\"],[0.5555555555555556,\"#1f9e89\"],[0.6666666666666666,\"#35b779\"],[0.7777777777777778,\"#6ece58\"],[0.8888888888888888,\"#b5de2b\"],[1.0,\"#fde725\"]],\"sequentialminus\":[[0.0,\"#440154\"],[0.1111111111111111,\"#482878\"],[0.2222222222222222,\"#3e4989\"],[0.3333333333333333,\"#31688e\"],[0.4444444444444444,\"#26828e\"],[0.5555555555555556,\"#1f9e89\"],[0.6666666666666666,\"#35b779\"],[0.7777777777777778,\"#6ece58\"],[0.8888888888888888,\"#b5de2b\"],[1.0,\"#fde725\"]]},\"colorway\":[\"#91268F\",\"#8CC63E\",\"#00A7A0\",\"#F05A28\",\"#4C4C4C\",\"#630460\",\"#9f3913\",\"#588527\",\"#00716c\",\"#3e4040\"],\"font\":{\"color\":\"rgb(36,36,36)\",\"family\":\"Poppins\",\"size\":11},\"geo\":{\"bgcolor\":\"white\",\"lakecolor\":\"white\",\"landcolor\":\"white\",\"showlakes\":true,\"showland\":true,\"subunitcolor\":\"white\"},\"hoverlabel\":{\"align\":\"left\"},\"hovermode\":\"closest\",\"mapbox\":{\"style\":\"light\"},\"paper_bgcolor\":\"white\",\"plot_bgcolor\":\"white\",\"polar\":{\"angularaxis\":{\"gridcolor\":\"rgb(232,232,232)\",\"linecolor\":\"rgb(36,36,36)\",\"showgrid\":false,\"showline\":true,\"ticks\":\"outside\"},\"bgcolor\":\"white\",\"radialaxis\":{\"gridcolor\":\"rgb(232,232,232)\",\"linecolor\":\"rgb(36,36,36)\",\"showgrid\":false,\"showline\":true,\"ticks\":\"outside\"}},\"scene\":{\"xaxis\":{\"backgroundcolor\":\"white\",\"gridcolor\":\"rgb(232,232,232)\",\"gridwidth\":2,\"linecolor\":\"rgb(36,36,36)\",\"showbackground\":true,\"showgrid\":false,\"showline\":true,\"ticks\":\"outside\",\"zeroline\":false,\"zerolinecolor\":\"rgb(36,36,36)\"},\"yaxis\":{\"backgroundcolor\":\"white\",\"gridcolor\":\"rgb(232,232,232)\",\"gridwidth\":2,\"linecolor\":\"rgb(36,36,36)\",\"showbackground\":true,\"showgrid\":false,\"showline\":true,\"ticks\":\"outside\",\"zeroline\":false,\"zerolinecolor\":\"rgb(36,36,36)\"},\"zaxis\":{\"backgroundcolor\":\"white\",\"gridcolor\":\"rgb(232,232,232)\",\"gridwidth\":2,\"linecolor\":\"rgb(36,36,36)\",\"showbackground\":true,\"showgrid\":false,\"showline\":true,\"ticks\":\"outside\",\"zeroline\":false,\"zerolinecolor\":\"rgb(36,36,36)\"}},\"shapedefaults\":{\"fillcolor\":\"black\",\"line\":{\"width\":0},\"opacity\":0.3},\"ternary\":{\"aaxis\":{\"gridcolor\":\"rgb(232,232,232)\",\"linecolor\":\"rgb(36,36,36)\",\"showgrid\":false,\"showline\":true,\"ticks\":\"outside\"},\"baxis\":{\"gridcolor\":\"rgb(232,232,232)\",\"linecolor\":\"rgb(36,36,36)\",\"showgrid\":false,\"showline\":true,\"ticks\":\"outside\"},\"bgcolor\":\"white\",\"caxis\":{\"gridcolor\":\"rgb(232,232,232)\",\"linecolor\":\"rgb(36,36,36)\",\"showgrid\":false,\"showline\":true,\"ticks\":\"outside\"}},\"title\":{\"x\":0.05},\"xaxis\":{\"automargin\":true,\"gridcolor\":\"rgb(232,232,232)\",\"linecolor\":\"rgb(36,36,36)\",\"showgrid\":false,\"showline\":true,\"ticks\":\"outside\",\"title\":{\"standoff\":15},\"zeroline\":false,\"zerolinecolor\":\"rgb(36,36,36)\"},\"yaxis\":{\"automargin\":true,\"gridcolor\":\"rgb(232,232,232)\",\"linecolor\":\"rgb(36,36,36)\",\"showgrid\":false,\"showline\":true,\"ticks\":\"outside\",\"title\":{\"standoff\":15},\"zeroline\":false,\"zerolinecolor\":\"rgb(36,36,36)\"}}},\"xaxis\":{\"anchor\":\"y\",\"domain\":[0.0,1.0],\"title\":{\"text\":\"tlvorg_hr\"},\"dtick\":1,\"categoryorder\":\"category ascending\"},\"yaxis\":{\"anchor\":\"x\",\"domain\":[0.0,1.0],\"title\":{\"text\":\"percentage\"},\"tickformat\":\".0%\"},\"legend\":{\"title\":{\"text\":\"source\"},\"tracegroupgap\":0},\"title\":{\"text\":\"tour origin departure hour\"},\"barmode\":\"group\",\"font\":{\"size\":11},\"height\":400,\"width\":700},                        {\"responsive\": true}                    ).then(function(){\n",
       "                            \n",
       "var gd = document.getElementById('5337a22c-1e78-4f43-bd04-db201588c2f3');\n",
       "var x = new MutationObserver(function (mutations, observer) {{\n",
       "        var display = window.getComputedStyle(gd).display;\n",
       "        if (!display || display === 'none') {{\n",
       "            console.log([gd, 'removed!']);\n",
       "            Plotly.purge(gd);\n",
       "            observer.disconnect();\n",
       "        }}\n",
       "}});\n",
       "\n",
       "// Listen for the removal of the full notebook cells\n",
       "var notebookContainer = gd.closest('#notebook-container');\n",
       "if (notebookContainer) {{\n",
       "    x.observe(notebookContainer, {childList: true});\n",
       "}}\n",
       "\n",
       "// Listen for the clearing of the current output cell\n",
       "var outputEl = gd.closest('.output');\n",
       "if (outputEl) {{\n",
       "    x.observe(outputEl, {childList: true});\n",
       "}}\n",
       "\n",
       "                        })                };            </script>        </div>"
      ]
     },
     "metadata": {},
     "output_type": "display_data"
    }
   ],
   "source": [
    "df_plot = df_tour.groupby(['tlvorg_hr','source'])['toexpfac'].agg(sample_count='size', toexpfac='sum').reset_index()\n",
    "df_plot['percentage'] = df_plot.groupby(['source'], group_keys=False)['toexpfac']. \\\n",
    "    apply(lambda x: x / float(x.sum()))\n",
    "\n",
    "fig = px.bar(df_plot, x=\"tlvorg_hr\", y=\"percentage\", color=\"source\",\n",
    "             barmode=\"group\",title=\"tour origin departure hour\",\n",
    "             hover_data=['toexpfac','sample_count'])\n",
    "fig.update_layout(height=400, width=700, font=dict(size=11),\n",
    "                  xaxis = dict(dtick = 1, categoryorder='category ascending'),\n",
    "                  yaxis=dict(tickformat=\".0%\"))\n",
    "fig.show()"
   ]
  },
  {
   "cell_type": "raw",
   "metadata": {
    "vscode": {
     "languageId": "raw"
    }
   },
   "source": [
    "### trip"
   ]
  },
  {
   "cell_type": "code",
   "execution_count": 5,
   "metadata": {
    "execution": {
     "iopub.execute_input": "2025-06-06T18:51:52.474298Z",
     "iopub.status.busy": "2025-06-06T18:51:52.474298Z",
     "iopub.status.idle": "2025-06-06T18:51:54.385865Z",
     "shell.execute_reply": "2025-06-06T18:51:54.384870Z"
    }
   },
   "outputs": [
    {
     "data": {
      "application/vnd.plotly.v1+json": {
       "config": {
        "plotlyServerURL": "https://plot.ly"
       },
       "data": [
        {
         "alignmentgroup": "True",
         "customdata": {
          "bdata": "AAAAACAq5EAAAAAAICrkQAAAAAAAXd1AAAAAAABd3UAAAAAAgC3VQAAAAACALdVAAAAAAGC2+UAAAAAAYLb5QAAAAABweP1AAAAAAHB4/UAAAAAAoHUPQQAAAACgdQ9BAAAAAL4vJkEAAAAAvi8mQQAAAABSBTNBAAAAAFIFM0EAAAAAnoY2QQAAAACehjZBAAAAABAiNUEAAAAAECI1QQAAAAC5YzZBAAAAALljNkEAAAAAd5w1QQAAAAB3nDVBAAAAAITONEEAAAAAhM40QQAAAAArNDZBAAAAACs0NkEAAAAA9dQ0QQAAAAD11DRBAAAAANYiOUEAAAAA1iI5QQAAAAD/rjtBAAAAAP+uO0EAAAAAsaE6QQAAAACxoTpBAAAAAPrNNUEAAAAA+s01QQAAAADbeTBBAAAAANt5MEEAAAAA0hYqQQAAAADSFipBAAAAAIjvHEEAAAAAiO8cQQAAAACQ/BBBAAAAAJD8EEEAAAAAoEwIQQAAAACgTAhB",
          "dtype": "f8",
          "shape": "24, 2"
         },
         "hovertemplate": "source=model<br>dept_hr=%{x}<br>percentage=%{y}<br>trexpfac=%{customdata[0]}<br>sample_count=%{customdata[1]}<extra></extra>",
         "legendgroup": "model",
         "marker": {
          "color": "#91268F",
          "pattern": {
           "shape": ""
          }
         },
         "name": "model",
         "offsetgroup": "model",
         "orientation": "v",
         "showlegend": true,
         "textposition": "auto",
         "type": "bar",
         "x": {
          "bdata": "AAECAwQFBgcICQoLDA0ODxAREhMUFRYX",
          "dtype": "i1"
         },
         "xaxis": "x",
         "y": {
          "bdata": "cncHKtrAXj9h/Z9kKGRWPyBo8wM3JlA/ICl1a3Obcz+lG/GbFHl2P2lRF7td/Yc/sUB9ziProD8IzmVVSgKtPx2TwB9jLbE/ztTyPX4dsD8Xm68uxxKxP75uIgnVerA/kgYDQJG7rz8gWEXJg+6wP3IAoCtkxa8/59WvjvEqsz89UhQcQRy1P5vJMcDkTrQ/s9tYeZagsD9vFTazuiCpP6fI3wH/5KM/wW7Zbq4Qlj+LpXawEuiJP7MjfFWYh4I/",
          "dtype": "f8"
         },
         "yaxis": "y"
        },
        {
         "alignmentgroup": "True",
         "customdata": {
          "bdata": "Uu/Ciyeoy0AAAAAAAIBCQGGL3h8Is51AAAAAAAAAJEDoZJlx/NehQAAAAAAAADJAKQw7bh8nykAAAAAAAAA/QHBo17z61PBAAAAAAACAVEDoiKJ6H8EFQQAAAAAAwGpAXuXZCQr0FUEAAAAAACCFQLm0fNzjfC9BAAAAAABkmUBQU2AoEVswQQAAAAAApJ5Ak/WQx1mgJ0EAAAAAAHSYQAvoHBGRkiFBAAAAAAC8mED1DgNrThknQQAAAAAA1JtA+BP9mKywJkEAAAAAAOydQLOzWOLqPydBAAAAAABgnEB4SWVLmIQzQQAAAAAArqBAwdtKT0e+NkEAAAAAAGyjQKyqhXDjYTNBAAAAAABco0BpdhEukw4yQQAAAAAAYqRAexPHlkq9KkEAAAAAAPyfQAafwBRpPiJBAAAAAADQlkDC5RdxY5kbQQAAAAAALJBA0Nmh6VVuCEEAAAAAAHiDQLnMJ1+sgABBAAAAAABAcUAIEBD2lNzuQAAAAAAAoGBA",
          "dtype": "f8",
          "shape": "24, 2"
         },
         "hovertemplate": "source=survey<br>dept_hr=%{x}<br>percentage=%{y}<br>trexpfac=%{customdata[0]}<br>sample_count=%{customdata[1]}<extra></extra>",
         "legendgroup": "survey",
         "marker": {
          "color": "#8CC63E",
          "pattern": {
           "shape": ""
          }
         },
         "name": "survey",
         "offsetgroup": "survey",
         "orientation": "v",
         "showlegend": true,
         "textposition": "auto",
         "type": "bar",
         "x": {
          "bdata": "AAECAwQFBgcICQoLDA0ODxAREhMUFRYX",
          "dtype": "i1"
         },
         "xaxis": "x",
         "y": {
          "bdata": "5kBAJxWwUD9ZT8ymlOshP4Zk5wCKiCU/9324moSPTz/LrvzS+U90P62D2wuwQIo/xu882SF+mj88Tq7Y2P+yPwIgxdTavLM/cJRJLwKDrD+2hqLrwzSlPx9lpkUK4Ks/RWrTxMVhqz/NeoCdog6sP2Bd4y/Gjbc/rsflnzByuz9MPb4m5GO3P+MFomNqyrU/EzWgdF4isD83Av10JASmP6GhVUgsp6A/d9PBF5Z7jT8ymXe6POqDP73x53Men3I/",
          "dtype": "f8"
         },
         "yaxis": "y"
        }
       ],
       "layout": {
        "barmode": "group",
        "font": {
         "size": 11
        },
        "height": 400,
        "legend": {
         "title": {
          "text": "source"
         },
         "tracegroupgap": 0
        },
        "template": {
         "data": {
          "bar": [
           {
            "error_x": {
             "color": "rgb(36,36,36)"
            },
            "error_y": {
             "color": "rgb(36,36,36)"
            },
            "marker": {
             "line": {
              "color": "white",
              "width": 0.5
             },
             "pattern": {
              "fillmode": "overlay",
              "size": 10,
              "solidity": 0.2
             }
            },
            "type": "bar"
           }
          ],
          "barpolar": [
           {
            "marker": {
             "line": {
              "color": "white",
              "width": 0.5
             },
             "pattern": {
              "fillmode": "overlay",
              "size": 10,
              "solidity": 0.2
             }
            },
            "type": "barpolar"
           }
          ],
          "carpet": [
           {
            "aaxis": {
             "endlinecolor": "rgb(36,36,36)",
             "gridcolor": "white",
             "linecolor": "white",
             "minorgridcolor": "white",
             "startlinecolor": "rgb(36,36,36)"
            },
            "baxis": {
             "endlinecolor": "rgb(36,36,36)",
             "gridcolor": "white",
             "linecolor": "white",
             "minorgridcolor": "white",
             "startlinecolor": "rgb(36,36,36)"
            },
            "type": "carpet"
           }
          ],
          "choropleth": [
           {
            "colorbar": {
             "outlinewidth": 1,
             "tickcolor": "rgb(36,36,36)",
             "ticks": "outside"
            },
            "type": "choropleth"
           }
          ],
          "contour": [
           {
            "colorbar": {
             "outlinewidth": 1,
             "tickcolor": "rgb(36,36,36)",
             "ticks": "outside"
            },
            "colorscale": [
             [
              0.0,
              "#440154"
             ],
             [
              0.1111111111111111,
              "#482878"
             ],
             [
              0.2222222222222222,
              "#3e4989"
             ],
             [
              0.3333333333333333,
              "#31688e"
             ],
             [
              0.4444444444444444,
              "#26828e"
             ],
             [
              0.5555555555555556,
              "#1f9e89"
             ],
             [
              0.6666666666666666,
              "#35b779"
             ],
             [
              0.7777777777777778,
              "#6ece58"
             ],
             [
              0.8888888888888888,
              "#b5de2b"
             ],
             [
              1.0,
              "#fde725"
             ]
            ],
            "type": "contour"
           }
          ],
          "contourcarpet": [
           {
            "colorbar": {
             "outlinewidth": 1,
             "tickcolor": "rgb(36,36,36)",
             "ticks": "outside"
            },
            "type": "contourcarpet"
           }
          ],
          "heatmap": [
           {
            "colorbar": {
             "outlinewidth": 1,
             "tickcolor": "rgb(36,36,36)",
             "ticks": "outside"
            },
            "colorscale": [
             [
              0.0,
              "#440154"
             ],
             [
              0.1111111111111111,
              "#482878"
             ],
             [
              0.2222222222222222,
              "#3e4989"
             ],
             [
              0.3333333333333333,
              "#31688e"
             ],
             [
              0.4444444444444444,
              "#26828e"
             ],
             [
              0.5555555555555556,
              "#1f9e89"
             ],
             [
              0.6666666666666666,
              "#35b779"
             ],
             [
              0.7777777777777778,
              "#6ece58"
             ],
             [
              0.8888888888888888,
              "#b5de2b"
             ],
             [
              1.0,
              "#fde725"
             ]
            ],
            "type": "heatmap"
           }
          ],
          "histogram": [
           {
            "marker": {
             "line": {
              "color": "white",
              "width": 0.6
             }
            },
            "type": "histogram"
           }
          ],
          "histogram2d": [
           {
            "colorbar": {
             "outlinewidth": 1,
             "tickcolor": "rgb(36,36,36)",
             "ticks": "outside"
            },
            "colorscale": [
             [
              0.0,
              "#440154"
             ],
             [
              0.1111111111111111,
              "#482878"
             ],
             [
              0.2222222222222222,
              "#3e4989"
             ],
             [
              0.3333333333333333,
              "#31688e"
             ],
             [
              0.4444444444444444,
              "#26828e"
             ],
             [
              0.5555555555555556,
              "#1f9e89"
             ],
             [
              0.6666666666666666,
              "#35b779"
             ],
             [
              0.7777777777777778,
              "#6ece58"
             ],
             [
              0.8888888888888888,
              "#b5de2b"
             ],
             [
              1.0,
              "#fde725"
             ]
            ],
            "type": "histogram2d"
           }
          ],
          "histogram2dcontour": [
           {
            "colorbar": {
             "outlinewidth": 1,
             "tickcolor": "rgb(36,36,36)",
             "ticks": "outside"
            },
            "colorscale": [
             [
              0.0,
              "#440154"
             ],
             [
              0.1111111111111111,
              "#482878"
             ],
             [
              0.2222222222222222,
              "#3e4989"
             ],
             [
              0.3333333333333333,
              "#31688e"
             ],
             [
              0.4444444444444444,
              "#26828e"
             ],
             [
              0.5555555555555556,
              "#1f9e89"
             ],
             [
              0.6666666666666666,
              "#35b779"
             ],
             [
              0.7777777777777778,
              "#6ece58"
             ],
             [
              0.8888888888888888,
              "#b5de2b"
             ],
             [
              1.0,
              "#fde725"
             ]
            ],
            "type": "histogram2dcontour"
           }
          ],
          "mesh3d": [
           {
            "colorbar": {
             "outlinewidth": 1,
             "tickcolor": "rgb(36,36,36)",
             "ticks": "outside"
            },
            "type": "mesh3d"
           }
          ],
          "parcoords": [
           {
            "line": {
             "colorbar": {
              "outlinewidth": 1,
              "tickcolor": "rgb(36,36,36)",
              "ticks": "outside"
             }
            },
            "type": "parcoords"
           }
          ],
          "pie": [
           {
            "automargin": true,
            "type": "pie"
           }
          ],
          "scatter": [
           {
            "fillpattern": {
             "fillmode": "overlay",
             "size": 10,
             "solidity": 0.2
            },
            "type": "scatter"
           }
          ],
          "scatter3d": [
           {
            "line": {
             "colorbar": {
              "outlinewidth": 1,
              "tickcolor": "rgb(36,36,36)",
              "ticks": "outside"
             }
            },
            "marker": {
             "colorbar": {
              "outlinewidth": 1,
              "tickcolor": "rgb(36,36,36)",
              "ticks": "outside"
             }
            },
            "type": "scatter3d"
           }
          ],
          "scattercarpet": [
           {
            "marker": {
             "colorbar": {
              "outlinewidth": 1,
              "tickcolor": "rgb(36,36,36)",
              "ticks": "outside"
             }
            },
            "type": "scattercarpet"
           }
          ],
          "scattergeo": [
           {
            "marker": {
             "colorbar": {
              "outlinewidth": 1,
              "tickcolor": "rgb(36,36,36)",
              "ticks": "outside"
             }
            },
            "type": "scattergeo"
           }
          ],
          "scattergl": [
           {
            "marker": {
             "colorbar": {
              "outlinewidth": 1,
              "tickcolor": "rgb(36,36,36)",
              "ticks": "outside"
             }
            },
            "type": "scattergl"
           }
          ],
          "scattermap": [
           {
            "marker": {
             "colorbar": {
              "outlinewidth": 1,
              "tickcolor": "rgb(36,36,36)",
              "ticks": "outside"
             }
            },
            "type": "scattermap"
           }
          ],
          "scattermapbox": [
           {
            "marker": {
             "colorbar": {
              "outlinewidth": 1,
              "tickcolor": "rgb(36,36,36)",
              "ticks": "outside"
             }
            },
            "type": "scattermapbox"
           }
          ],
          "scatterpolar": [
           {
            "marker": {
             "colorbar": {
              "outlinewidth": 1,
              "tickcolor": "rgb(36,36,36)",
              "ticks": "outside"
             }
            },
            "type": "scatterpolar"
           }
          ],
          "scatterpolargl": [
           {
            "marker": {
             "colorbar": {
              "outlinewidth": 1,
              "tickcolor": "rgb(36,36,36)",
              "ticks": "outside"
             }
            },
            "type": "scatterpolargl"
           }
          ],
          "scatterternary": [
           {
            "marker": {
             "colorbar": {
              "outlinewidth": 1,
              "tickcolor": "rgb(36,36,36)",
              "ticks": "outside"
             }
            },
            "type": "scatterternary"
           }
          ],
          "surface": [
           {
            "colorbar": {
             "outlinewidth": 1,
             "tickcolor": "rgb(36,36,36)",
             "ticks": "outside"
            },
            "colorscale": [
             [
              0.0,
              "#440154"
             ],
             [
              0.1111111111111111,
              "#482878"
             ],
             [
              0.2222222222222222,
              "#3e4989"
             ],
             [
              0.3333333333333333,
              "#31688e"
             ],
             [
              0.4444444444444444,
              "#26828e"
             ],
             [
              0.5555555555555556,
              "#1f9e89"
             ],
             [
              0.6666666666666666,
              "#35b779"
             ],
             [
              0.7777777777777778,
              "#6ece58"
             ],
             [
              0.8888888888888888,
              "#b5de2b"
             ],
             [
              1.0,
              "#fde725"
             ]
            ],
            "type": "surface"
           }
          ],
          "table": [
           {
            "cells": {
             "fill": {
              "color": "rgb(237,237,237)"
             },
             "line": {
              "color": "white"
             }
            },
            "header": {
             "fill": {
              "color": "rgb(217,217,217)"
             },
             "line": {
              "color": "white"
             }
            },
            "type": "table"
           }
          ]
         },
         "layout": {
          "annotationdefaults": {
           "arrowhead": 0,
           "arrowwidth": 1
          },
          "autotypenumbers": "strict",
          "coloraxis": {
           "colorbar": {
            "outlinewidth": 1,
            "tickcolor": "rgb(36,36,36)",
            "ticks": "outside"
           }
          },
          "colorscale": {
           "diverging": [
            [
             0.0,
             "rgb(103,0,31)"
            ],
            [
             0.1,
             "rgb(178,24,43)"
            ],
            [
             0.2,
             "rgb(214,96,77)"
            ],
            [
             0.3,
             "rgb(244,165,130)"
            ],
            [
             0.4,
             "rgb(253,219,199)"
            ],
            [
             0.5,
             "rgb(247,247,247)"
            ],
            [
             0.6,
             "rgb(209,229,240)"
            ],
            [
             0.7,
             "rgb(146,197,222)"
            ],
            [
             0.8,
             "rgb(67,147,195)"
            ],
            [
             0.9,
             "rgb(33,102,172)"
            ],
            [
             1.0,
             "rgb(5,48,97)"
            ]
           ],
           "sequential": [
            [
             0.0,
             "#440154"
            ],
            [
             0.1111111111111111,
             "#482878"
            ],
            [
             0.2222222222222222,
             "#3e4989"
            ],
            [
             0.3333333333333333,
             "#31688e"
            ],
            [
             0.4444444444444444,
             "#26828e"
            ],
            [
             0.5555555555555556,
             "#1f9e89"
            ],
            [
             0.6666666666666666,
             "#35b779"
            ],
            [
             0.7777777777777778,
             "#6ece58"
            ],
            [
             0.8888888888888888,
             "#b5de2b"
            ],
            [
             1.0,
             "#fde725"
            ]
           ],
           "sequentialminus": [
            [
             0.0,
             "#440154"
            ],
            [
             0.1111111111111111,
             "#482878"
            ],
            [
             0.2222222222222222,
             "#3e4989"
            ],
            [
             0.3333333333333333,
             "#31688e"
            ],
            [
             0.4444444444444444,
             "#26828e"
            ],
            [
             0.5555555555555556,
             "#1f9e89"
            ],
            [
             0.6666666666666666,
             "#35b779"
            ],
            [
             0.7777777777777778,
             "#6ece58"
            ],
            [
             0.8888888888888888,
             "#b5de2b"
            ],
            [
             1.0,
             "#fde725"
            ]
           ]
          },
          "colorway": [
           "#91268F",
           "#8CC63E",
           "#00A7A0",
           "#F05A28",
           "#4C4C4C",
           "#630460",
           "#9f3913",
           "#588527",
           "#00716c",
           "#3e4040"
          ],
          "font": {
           "color": "rgb(36,36,36)",
           "family": "Poppins",
           "size": 11
          },
          "geo": {
           "bgcolor": "white",
           "lakecolor": "white",
           "landcolor": "white",
           "showlakes": true,
           "showland": true,
           "subunitcolor": "white"
          },
          "hoverlabel": {
           "align": "left"
          },
          "hovermode": "closest",
          "mapbox": {
           "style": "light"
          },
          "paper_bgcolor": "white",
          "plot_bgcolor": "white",
          "polar": {
           "angularaxis": {
            "gridcolor": "rgb(232,232,232)",
            "linecolor": "rgb(36,36,36)",
            "showgrid": false,
            "showline": true,
            "ticks": "outside"
           },
           "bgcolor": "white",
           "radialaxis": {
            "gridcolor": "rgb(232,232,232)",
            "linecolor": "rgb(36,36,36)",
            "showgrid": false,
            "showline": true,
            "ticks": "outside"
           }
          },
          "scene": {
           "xaxis": {
            "backgroundcolor": "white",
            "gridcolor": "rgb(232,232,232)",
            "gridwidth": 2,
            "linecolor": "rgb(36,36,36)",
            "showbackground": true,
            "showgrid": false,
            "showline": true,
            "ticks": "outside",
            "zeroline": false,
            "zerolinecolor": "rgb(36,36,36)"
           },
           "yaxis": {
            "backgroundcolor": "white",
            "gridcolor": "rgb(232,232,232)",
            "gridwidth": 2,
            "linecolor": "rgb(36,36,36)",
            "showbackground": true,
            "showgrid": false,
            "showline": true,
            "ticks": "outside",
            "zeroline": false,
            "zerolinecolor": "rgb(36,36,36)"
           },
           "zaxis": {
            "backgroundcolor": "white",
            "gridcolor": "rgb(232,232,232)",
            "gridwidth": 2,
            "linecolor": "rgb(36,36,36)",
            "showbackground": true,
            "showgrid": false,
            "showline": true,
            "ticks": "outside",
            "zeroline": false,
            "zerolinecolor": "rgb(36,36,36)"
           }
          },
          "shapedefaults": {
           "fillcolor": "black",
           "line": {
            "width": 0
           },
           "opacity": 0.3
          },
          "ternary": {
           "aaxis": {
            "gridcolor": "rgb(232,232,232)",
            "linecolor": "rgb(36,36,36)",
            "showgrid": false,
            "showline": true,
            "ticks": "outside"
           },
           "baxis": {
            "gridcolor": "rgb(232,232,232)",
            "linecolor": "rgb(36,36,36)",
            "showgrid": false,
            "showline": true,
            "ticks": "outside"
           },
           "bgcolor": "white",
           "caxis": {
            "gridcolor": "rgb(232,232,232)",
            "linecolor": "rgb(36,36,36)",
            "showgrid": false,
            "showline": true,
            "ticks": "outside"
           }
          },
          "title": {
           "x": 0.05
          },
          "xaxis": {
           "automargin": true,
           "gridcolor": "rgb(232,232,232)",
           "linecolor": "rgb(36,36,36)",
           "showgrid": false,
           "showline": true,
           "ticks": "outside",
           "title": {
            "standoff": 15
           },
           "zeroline": false,
           "zerolinecolor": "rgb(36,36,36)"
          },
          "yaxis": {
           "automargin": true,
           "gridcolor": "rgb(232,232,232)",
           "linecolor": "rgb(36,36,36)",
           "showgrid": false,
           "showline": true,
           "ticks": "outside",
           "title": {
            "standoff": 15
           },
           "zeroline": false,
           "zerolinecolor": "rgb(36,36,36)"
          }
         }
        },
        "title": {
         "text": "trip origin departure hour"
        },
        "width": 700,
        "xaxis": {
         "anchor": "y",
         "categoryorder": "category ascending",
         "domain": [
          0.0,
          1.0
         ],
         "dtick": 1,
         "title": {
          "text": "dept_hr"
         }
        },
        "yaxis": {
         "anchor": "x",
         "domain": [
          0.0,
          1.0
         ],
         "tickformat": ".0%",
         "title": {
          "text": "percentage"
         }
        }
       }
      },
      "text/html": [
       "<div>            <script src=\"https://cdnjs.cloudflare.com/ajax/libs/mathjax/2.7.5/MathJax.js?config=TeX-AMS-MML_SVG\"></script><script type=\"text/javascript\">if (window.MathJax && window.MathJax.Hub && window.MathJax.Hub.Config) {window.MathJax.Hub.Config({SVG: {font: \"STIX-Web\"}});}</script>                <script type=\"text/javascript\">window.PlotlyConfig = {MathJaxConfig: 'local'};</script>\n",
       "        <script charset=\"utf-8\" src=\"https://cdn.plot.ly/plotly-3.0.1.min.js\"></script>                <div id=\"f7a361bd-653a-433f-8533-858eacee24c0\" class=\"plotly-graph-div\" style=\"height:400px; width:700px;\"></div>            <script type=\"text/javascript\">                window.PLOTLYENV=window.PLOTLYENV || {};                                if (document.getElementById(\"f7a361bd-653a-433f-8533-858eacee24c0\")) {                    Plotly.newPlot(                        \"f7a361bd-653a-433f-8533-858eacee24c0\",                        [{\"alignmentgroup\":\"True\",\"customdata\":{\"dtype\":\"f8\",\"bdata\":\"AAAAACAq5EAAAAAAICrkQAAAAAAAXd1AAAAAAABd3UAAAAAAgC3VQAAAAACALdVAAAAAAGC2+UAAAAAAYLb5QAAAAABweP1AAAAAAHB4\\u002fUAAAAAAoHUPQQAAAACgdQ9BAAAAAL4vJkEAAAAAvi8mQQAAAABSBTNBAAAAAFIFM0EAAAAAnoY2QQAAAACehjZBAAAAABAiNUEAAAAAECI1QQAAAAC5YzZBAAAAALljNkEAAAAAd5w1QQAAAAB3nDVBAAAAAITONEEAAAAAhM40QQAAAAArNDZBAAAAACs0NkEAAAAA9dQ0QQAAAAD11DRBAAAAANYiOUEAAAAA1iI5QQAAAAD\\u002frjtBAAAAAP+uO0EAAAAAsaE6QQAAAACxoTpBAAAAAPrNNUEAAAAA+s01QQAAAADbeTBBAAAAANt5MEEAAAAA0hYqQQAAAADSFipBAAAAAIjvHEEAAAAAiO8cQQAAAACQ\\u002fBBBAAAAAJD8EEEAAAAAoEwIQQAAAACgTAhB\",\"shape\":\"24, 2\"},\"hovertemplate\":\"source=model\\u003cbr\\u003edept_hr=%{x}\\u003cbr\\u003epercentage=%{y}\\u003cbr\\u003etrexpfac=%{customdata[0]}\\u003cbr\\u003esample_count=%{customdata[1]}\\u003cextra\\u003e\\u003c\\u002fextra\\u003e\",\"legendgroup\":\"model\",\"marker\":{\"color\":\"#91268F\",\"pattern\":{\"shape\":\"\"}},\"name\":\"model\",\"offsetgroup\":\"model\",\"orientation\":\"v\",\"showlegend\":true,\"textposition\":\"auto\",\"x\":{\"dtype\":\"i1\",\"bdata\":\"AAECAwQFBgcICQoLDA0ODxAREhMUFRYX\"},\"xaxis\":\"x\",\"y\":{\"dtype\":\"f8\",\"bdata\":\"cncHKtrAXj9h\\u002fZ9kKGRWPyBo8wM3JlA\\u002fICl1a3Obcz+lG\\u002fGbFHl2P2lRF7td\\u002fYc\\u002fsUB9ziProD8IzmVVSgKtPx2TwB9jLbE\\u002fztTyPX4dsD8Xm68uxxKxP75uIgnVerA\\u002fkgYDQJG7rz8gWEXJg+6wP3IAoCtkxa8\\u002f59WvjvEqsz89UhQcQRy1P5vJMcDkTrQ\\u002fs9tYeZagsD9vFTazuiCpP6fI3wH\\u002f5KM\\u002fwW7Zbq4Qlj+LpXawEuiJP7MjfFWYh4I\\u002f\"},\"yaxis\":\"y\",\"type\":\"bar\"},{\"alignmentgroup\":\"True\",\"customdata\":{\"dtype\":\"f8\",\"bdata\":\"Uu\\u002fCiyeoy0AAAAAAAIBCQGGL3h8Is51AAAAAAAAAJEDoZJlx\\u002fNehQAAAAAAAADJAKQw7bh8nykAAAAAAAAA\\u002fQHBo17z61PBAAAAAAACAVEDoiKJ6H8EFQQAAAAAAwGpAXuXZCQr0FUEAAAAAACCFQLm0fNzjfC9BAAAAAABkmUBQU2AoEVswQQAAAAAApJ5Ak\\u002fWQx1mgJ0EAAAAAAHSYQAvoHBGRkiFBAAAAAAC8mED1DgNrThknQQAAAAAA1JtA+BP9mKywJkEAAAAAAOydQLOzWOLqPydBAAAAAABgnEB4SWVLmIQzQQAAAAAArqBAwdtKT0e+NkEAAAAAAGyjQKyqhXDjYTNBAAAAAABco0BpdhEukw4yQQAAAAAAYqRAexPHlkq9KkEAAAAAAPyfQAafwBRpPiJBAAAAAADQlkDC5RdxY5kbQQAAAAAALJBA0Nmh6VVuCEEAAAAAAHiDQLnMJ1+sgABBAAAAAABAcUAIEBD2lNzuQAAAAAAAoGBA\",\"shape\":\"24, 2\"},\"hovertemplate\":\"source=survey\\u003cbr\\u003edept_hr=%{x}\\u003cbr\\u003epercentage=%{y}\\u003cbr\\u003etrexpfac=%{customdata[0]}\\u003cbr\\u003esample_count=%{customdata[1]}\\u003cextra\\u003e\\u003c\\u002fextra\\u003e\",\"legendgroup\":\"survey\",\"marker\":{\"color\":\"#8CC63E\",\"pattern\":{\"shape\":\"\"}},\"name\":\"survey\",\"offsetgroup\":\"survey\",\"orientation\":\"v\",\"showlegend\":true,\"textposition\":\"auto\",\"x\":{\"dtype\":\"i1\",\"bdata\":\"AAECAwQFBgcICQoLDA0ODxAREhMUFRYX\"},\"xaxis\":\"x\",\"y\":{\"dtype\":\"f8\",\"bdata\":\"5kBAJxWwUD9ZT8ymlOshP4Zk5wCKiCU\\u002f9324moSPTz\\u002fLrvzS+U90P62D2wuwQIo\\u002fxu882SF+mj88Tq7Y2P+yPwIgxdTavLM\\u002fcJRJLwKDrD+2hqLrwzSlPx9lpkUK4Ks\\u002fRWrTxMVhqz\\u002fNeoCdog6sP2Bd4y\\u002fGjbc\\u002frsflnzByuz9MPb4m5GO3P+MFomNqyrU\\u002fEzWgdF4isD83Av10JASmP6GhVUgsp6A\\u002fd9PBF5Z7jT8ymXe6POqDP73x53Men3I\\u002f\"},\"yaxis\":\"y\",\"type\":\"bar\"}],                        {\"template\":{\"data\":{\"barpolar\":[{\"marker\":{\"line\":{\"color\":\"white\",\"width\":0.5},\"pattern\":{\"fillmode\":\"overlay\",\"size\":10,\"solidity\":0.2}},\"type\":\"barpolar\"}],\"bar\":[{\"error_x\":{\"color\":\"rgb(36,36,36)\"},\"error_y\":{\"color\":\"rgb(36,36,36)\"},\"marker\":{\"line\":{\"color\":\"white\",\"width\":0.5},\"pattern\":{\"fillmode\":\"overlay\",\"size\":10,\"solidity\":0.2}},\"type\":\"bar\"}],\"carpet\":[{\"aaxis\":{\"endlinecolor\":\"rgb(36,36,36)\",\"gridcolor\":\"white\",\"linecolor\":\"white\",\"minorgridcolor\":\"white\",\"startlinecolor\":\"rgb(36,36,36)\"},\"baxis\":{\"endlinecolor\":\"rgb(36,36,36)\",\"gridcolor\":\"white\",\"linecolor\":\"white\",\"minorgridcolor\":\"white\",\"startlinecolor\":\"rgb(36,36,36)\"},\"type\":\"carpet\"}],\"choropleth\":[{\"colorbar\":{\"outlinewidth\":1,\"tickcolor\":\"rgb(36,36,36)\",\"ticks\":\"outside\"},\"type\":\"choropleth\"}],\"contourcarpet\":[{\"colorbar\":{\"outlinewidth\":1,\"tickcolor\":\"rgb(36,36,36)\",\"ticks\":\"outside\"},\"type\":\"contourcarpet\"}],\"contour\":[{\"colorbar\":{\"outlinewidth\":1,\"tickcolor\":\"rgb(36,36,36)\",\"ticks\":\"outside\"},\"colorscale\":[[0.0,\"#440154\"],[0.1111111111111111,\"#482878\"],[0.2222222222222222,\"#3e4989\"],[0.3333333333333333,\"#31688e\"],[0.4444444444444444,\"#26828e\"],[0.5555555555555556,\"#1f9e89\"],[0.6666666666666666,\"#35b779\"],[0.7777777777777778,\"#6ece58\"],[0.8888888888888888,\"#b5de2b\"],[1.0,\"#fde725\"]],\"type\":\"contour\"}],\"heatmap\":[{\"colorbar\":{\"outlinewidth\":1,\"tickcolor\":\"rgb(36,36,36)\",\"ticks\":\"outside\"},\"colorscale\":[[0.0,\"#440154\"],[0.1111111111111111,\"#482878\"],[0.2222222222222222,\"#3e4989\"],[0.3333333333333333,\"#31688e\"],[0.4444444444444444,\"#26828e\"],[0.5555555555555556,\"#1f9e89\"],[0.6666666666666666,\"#35b779\"],[0.7777777777777778,\"#6ece58\"],[0.8888888888888888,\"#b5de2b\"],[1.0,\"#fde725\"]],\"type\":\"heatmap\"}],\"histogram2dcontour\":[{\"colorbar\":{\"outlinewidth\":1,\"tickcolor\":\"rgb(36,36,36)\",\"ticks\":\"outside\"},\"colorscale\":[[0.0,\"#440154\"],[0.1111111111111111,\"#482878\"],[0.2222222222222222,\"#3e4989\"],[0.3333333333333333,\"#31688e\"],[0.4444444444444444,\"#26828e\"],[0.5555555555555556,\"#1f9e89\"],[0.6666666666666666,\"#35b779\"],[0.7777777777777778,\"#6ece58\"],[0.8888888888888888,\"#b5de2b\"],[1.0,\"#fde725\"]],\"type\":\"histogram2dcontour\"}],\"histogram2d\":[{\"colorbar\":{\"outlinewidth\":1,\"tickcolor\":\"rgb(36,36,36)\",\"ticks\":\"outside\"},\"colorscale\":[[0.0,\"#440154\"],[0.1111111111111111,\"#482878\"],[0.2222222222222222,\"#3e4989\"],[0.3333333333333333,\"#31688e\"],[0.4444444444444444,\"#26828e\"],[0.5555555555555556,\"#1f9e89\"],[0.6666666666666666,\"#35b779\"],[0.7777777777777778,\"#6ece58\"],[0.8888888888888888,\"#b5de2b\"],[1.0,\"#fde725\"]],\"type\":\"histogram2d\"}],\"histogram\":[{\"marker\":{\"line\":{\"color\":\"white\",\"width\":0.6}},\"type\":\"histogram\"}],\"mesh3d\":[{\"colorbar\":{\"outlinewidth\":1,\"tickcolor\":\"rgb(36,36,36)\",\"ticks\":\"outside\"},\"type\":\"mesh3d\"}],\"parcoords\":[{\"line\":{\"colorbar\":{\"outlinewidth\":1,\"tickcolor\":\"rgb(36,36,36)\",\"ticks\":\"outside\"}},\"type\":\"parcoords\"}],\"pie\":[{\"automargin\":true,\"type\":\"pie\"}],\"scatter3d\":[{\"line\":{\"colorbar\":{\"outlinewidth\":1,\"tickcolor\":\"rgb(36,36,36)\",\"ticks\":\"outside\"}},\"marker\":{\"colorbar\":{\"outlinewidth\":1,\"tickcolor\":\"rgb(36,36,36)\",\"ticks\":\"outside\"}},\"type\":\"scatter3d\"}],\"scattercarpet\":[{\"marker\":{\"colorbar\":{\"outlinewidth\":1,\"tickcolor\":\"rgb(36,36,36)\",\"ticks\":\"outside\"}},\"type\":\"scattercarpet\"}],\"scattergeo\":[{\"marker\":{\"colorbar\":{\"outlinewidth\":1,\"tickcolor\":\"rgb(36,36,36)\",\"ticks\":\"outside\"}},\"type\":\"scattergeo\"}],\"scattergl\":[{\"marker\":{\"colorbar\":{\"outlinewidth\":1,\"tickcolor\":\"rgb(36,36,36)\",\"ticks\":\"outside\"}},\"type\":\"scattergl\"}],\"scattermapbox\":[{\"marker\":{\"colorbar\":{\"outlinewidth\":1,\"tickcolor\":\"rgb(36,36,36)\",\"ticks\":\"outside\"}},\"type\":\"scattermapbox\"}],\"scattermap\":[{\"marker\":{\"colorbar\":{\"outlinewidth\":1,\"tickcolor\":\"rgb(36,36,36)\",\"ticks\":\"outside\"}},\"type\":\"scattermap\"}],\"scatterpolargl\":[{\"marker\":{\"colorbar\":{\"outlinewidth\":1,\"tickcolor\":\"rgb(36,36,36)\",\"ticks\":\"outside\"}},\"type\":\"scatterpolargl\"}],\"scatterpolar\":[{\"marker\":{\"colorbar\":{\"outlinewidth\":1,\"tickcolor\":\"rgb(36,36,36)\",\"ticks\":\"outside\"}},\"type\":\"scatterpolar\"}],\"scatter\":[{\"fillpattern\":{\"fillmode\":\"overlay\",\"size\":10,\"solidity\":0.2},\"type\":\"scatter\"}],\"scatterternary\":[{\"marker\":{\"colorbar\":{\"outlinewidth\":1,\"tickcolor\":\"rgb(36,36,36)\",\"ticks\":\"outside\"}},\"type\":\"scatterternary\"}],\"surface\":[{\"colorbar\":{\"outlinewidth\":1,\"tickcolor\":\"rgb(36,36,36)\",\"ticks\":\"outside\"},\"colorscale\":[[0.0,\"#440154\"],[0.1111111111111111,\"#482878\"],[0.2222222222222222,\"#3e4989\"],[0.3333333333333333,\"#31688e\"],[0.4444444444444444,\"#26828e\"],[0.5555555555555556,\"#1f9e89\"],[0.6666666666666666,\"#35b779\"],[0.7777777777777778,\"#6ece58\"],[0.8888888888888888,\"#b5de2b\"],[1.0,\"#fde725\"]],\"type\":\"surface\"}],\"table\":[{\"cells\":{\"fill\":{\"color\":\"rgb(237,237,237)\"},\"line\":{\"color\":\"white\"}},\"header\":{\"fill\":{\"color\":\"rgb(217,217,217)\"},\"line\":{\"color\":\"white\"}},\"type\":\"table\"}]},\"layout\":{\"annotationdefaults\":{\"arrowhead\":0,\"arrowwidth\":1},\"autotypenumbers\":\"strict\",\"coloraxis\":{\"colorbar\":{\"outlinewidth\":1,\"tickcolor\":\"rgb(36,36,36)\",\"ticks\":\"outside\"}},\"colorscale\":{\"diverging\":[[0.0,\"rgb(103,0,31)\"],[0.1,\"rgb(178,24,43)\"],[0.2,\"rgb(214,96,77)\"],[0.3,\"rgb(244,165,130)\"],[0.4,\"rgb(253,219,199)\"],[0.5,\"rgb(247,247,247)\"],[0.6,\"rgb(209,229,240)\"],[0.7,\"rgb(146,197,222)\"],[0.8,\"rgb(67,147,195)\"],[0.9,\"rgb(33,102,172)\"],[1.0,\"rgb(5,48,97)\"]],\"sequential\":[[0.0,\"#440154\"],[0.1111111111111111,\"#482878\"],[0.2222222222222222,\"#3e4989\"],[0.3333333333333333,\"#31688e\"],[0.4444444444444444,\"#26828e\"],[0.5555555555555556,\"#1f9e89\"],[0.6666666666666666,\"#35b779\"],[0.7777777777777778,\"#6ece58\"],[0.8888888888888888,\"#b5de2b\"],[1.0,\"#fde725\"]],\"sequentialminus\":[[0.0,\"#440154\"],[0.1111111111111111,\"#482878\"],[0.2222222222222222,\"#3e4989\"],[0.3333333333333333,\"#31688e\"],[0.4444444444444444,\"#26828e\"],[0.5555555555555556,\"#1f9e89\"],[0.6666666666666666,\"#35b779\"],[0.7777777777777778,\"#6ece58\"],[0.8888888888888888,\"#b5de2b\"],[1.0,\"#fde725\"]]},\"colorway\":[\"#91268F\",\"#8CC63E\",\"#00A7A0\",\"#F05A28\",\"#4C4C4C\",\"#630460\",\"#9f3913\",\"#588527\",\"#00716c\",\"#3e4040\"],\"font\":{\"color\":\"rgb(36,36,36)\",\"family\":\"Poppins\",\"size\":11},\"geo\":{\"bgcolor\":\"white\",\"lakecolor\":\"white\",\"landcolor\":\"white\",\"showlakes\":true,\"showland\":true,\"subunitcolor\":\"white\"},\"hoverlabel\":{\"align\":\"left\"},\"hovermode\":\"closest\",\"mapbox\":{\"style\":\"light\"},\"paper_bgcolor\":\"white\",\"plot_bgcolor\":\"white\",\"polar\":{\"angularaxis\":{\"gridcolor\":\"rgb(232,232,232)\",\"linecolor\":\"rgb(36,36,36)\",\"showgrid\":false,\"showline\":true,\"ticks\":\"outside\"},\"bgcolor\":\"white\",\"radialaxis\":{\"gridcolor\":\"rgb(232,232,232)\",\"linecolor\":\"rgb(36,36,36)\",\"showgrid\":false,\"showline\":true,\"ticks\":\"outside\"}},\"scene\":{\"xaxis\":{\"backgroundcolor\":\"white\",\"gridcolor\":\"rgb(232,232,232)\",\"gridwidth\":2,\"linecolor\":\"rgb(36,36,36)\",\"showbackground\":true,\"showgrid\":false,\"showline\":true,\"ticks\":\"outside\",\"zeroline\":false,\"zerolinecolor\":\"rgb(36,36,36)\"},\"yaxis\":{\"backgroundcolor\":\"white\",\"gridcolor\":\"rgb(232,232,232)\",\"gridwidth\":2,\"linecolor\":\"rgb(36,36,36)\",\"showbackground\":true,\"showgrid\":false,\"showline\":true,\"ticks\":\"outside\",\"zeroline\":false,\"zerolinecolor\":\"rgb(36,36,36)\"},\"zaxis\":{\"backgroundcolor\":\"white\",\"gridcolor\":\"rgb(232,232,232)\",\"gridwidth\":2,\"linecolor\":\"rgb(36,36,36)\",\"showbackground\":true,\"showgrid\":false,\"showline\":true,\"ticks\":\"outside\",\"zeroline\":false,\"zerolinecolor\":\"rgb(36,36,36)\"}},\"shapedefaults\":{\"fillcolor\":\"black\",\"line\":{\"width\":0},\"opacity\":0.3},\"ternary\":{\"aaxis\":{\"gridcolor\":\"rgb(232,232,232)\",\"linecolor\":\"rgb(36,36,36)\",\"showgrid\":false,\"showline\":true,\"ticks\":\"outside\"},\"baxis\":{\"gridcolor\":\"rgb(232,232,232)\",\"linecolor\":\"rgb(36,36,36)\",\"showgrid\":false,\"showline\":true,\"ticks\":\"outside\"},\"bgcolor\":\"white\",\"caxis\":{\"gridcolor\":\"rgb(232,232,232)\",\"linecolor\":\"rgb(36,36,36)\",\"showgrid\":false,\"showline\":true,\"ticks\":\"outside\"}},\"title\":{\"x\":0.05},\"xaxis\":{\"automargin\":true,\"gridcolor\":\"rgb(232,232,232)\",\"linecolor\":\"rgb(36,36,36)\",\"showgrid\":false,\"showline\":true,\"ticks\":\"outside\",\"title\":{\"standoff\":15},\"zeroline\":false,\"zerolinecolor\":\"rgb(36,36,36)\"},\"yaxis\":{\"automargin\":true,\"gridcolor\":\"rgb(232,232,232)\",\"linecolor\":\"rgb(36,36,36)\",\"showgrid\":false,\"showline\":true,\"ticks\":\"outside\",\"title\":{\"standoff\":15},\"zeroline\":false,\"zerolinecolor\":\"rgb(36,36,36)\"}}},\"xaxis\":{\"anchor\":\"y\",\"domain\":[0.0,1.0],\"title\":{\"text\":\"dept_hr\"},\"dtick\":1,\"categoryorder\":\"category ascending\"},\"yaxis\":{\"anchor\":\"x\",\"domain\":[0.0,1.0],\"title\":{\"text\":\"percentage\"},\"tickformat\":\".0%\"},\"legend\":{\"title\":{\"text\":\"source\"},\"tracegroupgap\":0},\"title\":{\"text\":\"trip origin departure hour\"},\"barmode\":\"group\",\"font\":{\"size\":11},\"height\":400,\"width\":700},                        {\"responsive\": true}                    ).then(function(){\n",
       "                            \n",
       "var gd = document.getElementById('f7a361bd-653a-433f-8533-858eacee24c0');\n",
       "var x = new MutationObserver(function (mutations, observer) {{\n",
       "        var display = window.getComputedStyle(gd).display;\n",
       "        if (!display || display === 'none') {{\n",
       "            console.log([gd, 'removed!']);\n",
       "            Plotly.purge(gd);\n",
       "            observer.disconnect();\n",
       "        }}\n",
       "}});\n",
       "\n",
       "// Listen for the removal of the full notebook cells\n",
       "var notebookContainer = gd.closest('#notebook-container');\n",
       "if (notebookContainer) {{\n",
       "    x.observe(notebookContainer, {childList: true});\n",
       "}}\n",
       "\n",
       "// Listen for the clearing of the current output cell\n",
       "var outputEl = gd.closest('.output');\n",
       "if (outputEl) {{\n",
       "    x.observe(outputEl, {childList: true});\n",
       "}}\n",
       "\n",
       "                        })                };            </script>        </div>"
      ]
     },
     "metadata": {},
     "output_type": "display_data"
    }
   ],
   "source": [
    "df_plot = df_trip.groupby(['dept_hr','source'])['trexpfac'].agg(sample_count='size', trexpfac='sum').reset_index()\n",
    "df_plot['percentage'] = df_plot.groupby(['source'], group_keys=False)['trexpfac']. \\\n",
    "    apply(lambda x: x / float(x.sum()))\n",
    "\n",
    "fig = px.bar(df_plot, x=\"dept_hr\", y=\"percentage\", color=\"source\",\n",
    "             barmode=\"group\",title=\"trip origin departure hour\",\n",
    "             hover_data=['trexpfac','sample_count'])\n",
    "fig.update_layout(height=400, width=700, font=dict(size=11),\n",
    "                  xaxis = dict(dtick = 1, categoryorder='category ascending'),\n",
    "                  yaxis=dict(tickformat=\".0%\"))\n",
    "fig.show()"
   ]
  },
  {
   "cell_type": "raw",
   "metadata": {
    "vscode": {
     "languageId": "raw"
    }
   },
   "source": [
    ":::"
   ]
  },
  {
   "cell_type": "markdown",
   "metadata": {
    "collapsed": false
   },
   "source": [
    "## time choice by purpose"
   ]
  },
  {
   "cell_type": "raw",
   "metadata": {
    "vscode": {
     "languageId": "raw"
    }
   },
   "source": [
    ":::{.panel-tabset}\n",
    "### tour"
   ]
  },
  {
   "cell_type": "code",
   "execution_count": 6,
   "metadata": {
    "ExecuteTime": {
     "end_time": "2024-07-15T04:43:21.363175Z",
     "start_time": "2024-07-15T04:43:20.456962Z"
    },
    "collapsed": false,
    "execution": {
     "iopub.execute_input": "2025-06-06T18:51:54.392845Z",
     "iopub.status.busy": "2025-06-06T18:51:54.391848Z",
     "iopub.status.idle": "2025-06-06T18:51:55.426107Z",
     "shell.execute_reply": "2025-06-06T18:51:55.425106Z"
    }
   },
   "outputs": [
    {
     "name": "stderr",
     "output_type": "stream",
     "text": [
      "C:\\Users\\Modeller\\AppData\\Local\\Temp\\ipykernel_13868\\1038879768.py:1: FutureWarning:\n",
      "\n",
      "The default of observed=False is deprecated and will be changed to True in a future version of pandas. Pass observed=False to retain current behavior or observed=True to adopt the future default and silence this warning.\n",
      "\n"
     ]
    },
    {
     "name": "stderr",
     "output_type": "stream",
     "text": [
      "C:\\Users\\Modeller\\AppData\\Local\\Temp\\ipykernel_13868\\1038879768.py:2: FutureWarning:\n",
      "\n",
      "The default of observed=False is deprecated and will be changed to True in a future version of pandas. Pass observed=False to retain current behavior or observed=True to adopt the future default and silence this warning.\n",
      "\n"
     ]
    },
    {
     "data": {
      "application/vnd.plotly.v1+json": {
       "config": {
        "plotlyServerURL": "https://plot.ly"
       },
       "data": [
        {
         "alignmentgroup": "True",
         "customdata": {
          "bdata": "AAAAAAAIokAAAAAAAAiiQAAAAAAAmJdAAAAAAACYl0AAAAAAAJCAQAAAAAAAkIBAAAAAAMB47EAAAAAAwHjsQAAAAADgn+1AAAAAAOCf7UAAAAAAyM8AQQAAAADIzwBBAAAAAFzFFEEAAAAAXMUUQQAAAABEhBpBAAAAAESEGkEAAAAA4J4VQQAAAADgnhVBAAAAAFD0BkEAAAAAUPQGQQAAAABwv/tAAAAAAHC/+0AAAAAAYE72QAAAAABgTvZAAAAAAGB58kAAAAAAYHnyQAAAAABAJu5AAAAAAEAm7kAAAAAAwDDrQAAAAADAMOtAAAAAAMCj6EAAAAAAwKPoQAAAAAAgyudAAAAAACDK50AAAAAAYITmQAAAAABghOZAAAAAAODH4kAAAAAA4MfiQAAAAACAHNRAAAAAAIAc1EAAAAAAgDnPQAAAAACAOc9AAAAAAAC9xUAAAAAAAL3FQAAAAAAAgbNAAAAAAACBs0AAAAAAAMCrQAAAAAAAwKtA",
          "dtype": "f8",
          "shape": "24, 2"
         },
         "hovertemplate": "source=model<br>pdpurp_label=Work<br>tlvorg_hr=%{x}<br>percentage=%{y}<br>toexpfac=%{customdata[0]}<br>sample_count=%{customdata[1]}<extra></extra>",
         "legendgroup": "model",
         "marker": {
          "color": "#91268F",
          "pattern": {
           "shape": ""
          }
         },
         "name": "model",
         "offsetgroup": "model",
         "orientation": "v",
         "showlegend": true,
         "textposition": "auto",
         "type": "bar",
         "x": {
          "bdata": "AAECAwQFBgcICQoLDA0ODxAREhMUFRYX",
          "dtype": "i1"
         },
         "xaxis": "x6",
         "y": {
          "bdata": "G7B9hf4PUT87GzGDfFNGP9KXVzdkWC8/D5c17iTxmj9jUGW3aQicPxJrirEZ0a8/3ArW3qunwz+qn92zjBfJPw1/3ByAdcQ/YZUE6Je4tT/Ua2XCyUGqP0RLRj+SG6U/RwoEI0d7oT+kJzx+kYecPw9jiVDEupk/Elbz0dlQlz86IQsV64KWP3yx8ISrTpU/bgI3bo/FkT/Gyj9m4geDPwJG5KQHjH0/ontRxAGSdD/5BzsuvXRiP+TcyQVSQlo/",
          "dtype": "f8"
         },
         "yaxis": "y6"
        },
        {
         "alignmentgroup": "True",
         "customdata": {
          "bdata": "AAAAAAAA8D8AAAAAAADwPwAAAAAAAAAAAAAAAAAAAAAAAAAAAAAAAAAAAAAAAAAAAAAAAACOr0AAAAAAAI6vQAAAAAAAX7BAAAAAAABfsEAAAAAAAMLLQAAAAAAAwstAAAAAAJD680AAAAAAkPrzQAAAAADQ/gdBAAAAAND+B0EAAAAAKPUIQQAAAAAo9QhBAAAAAEBh+EAAAAAAQGH4QAAAAABAGuZAAAAAAEAa5kAAAAAAQHjbQAAAAABAeNtAAAAAAIDS0UAAAAAAgNLRQAAAAACA48hAAAAAAIDjyEAAAAAAgEPCQAAAAACAQ8JAAAAAAAAXu0AAAAAAABe7QAAAAAAAMbhAAAAAAAAxuEAAAAAAAF62QAAAAAAAXrZAAAAAAACasUAAAAAAAJqxQAAAAAAA5JdAAAAAAADkl0AAAAAAAOyVQAAAAAAA7JVAAAAAAACgiUAAAAAAAKCJQAAAAAAAABxAAAAAAAAAHEAAAAAAAAAIQAAAAAAAAAhA",
          "dtype": "f8",
          "shape": "24, 2"
         },
         "hovertemplate": "source=model<br>pdpurp_label=School<br>tlvorg_hr=%{x}<br>percentage=%{y}<br>toexpfac=%{customdata[0]}<br>sample_count=%{customdata[1]}<extra></extra>",
         "legendgroup": "model",
         "marker": {
          "color": "#91268F",
          "pattern": {
           "shape": ""
          }
         },
         "name": "model",
         "offsetgroup": "model",
         "orientation": "v",
         "showlegend": false,
         "textposition": "auto",
         "type": "bar",
         "x": {
          "bdata": "AAECAwQFBgcICQoLDA0ODxAREhMUFRYX",
          "dtype": "i1"
         },
         "xaxis": "x5",
         "y": {
          "bdata": "82/hqSx9tj4AAAAAAAAAAAAAAAAAAAAA1DzEug4tdj98GhLjswJ3PywdHI70gZM/UxAsStMUvD8ZxkDaC93QP1GO1fkritE/FFsl6TkiwT/Kr9zGAhGvP5yXLBEgTqM/24QaSN4MmT+u0vBow32RPwJNilOyq4k/flBwp8cJgz8qNc0rUQCBP2AG/M88cH8/yKBiQnS9eD+0blT4M8pgPyKgwfEA0F4/poYJxDwCUj/1QaUUh63jPvYTaX/h3dA+",
          "dtype": "f8"
         },
         "yaxis": "y5"
        },
        {
         "alignmentgroup": "True",
         "customdata": {
          "bdata": "AAAAAABwekAAAAAAAHB6QAAAAAAAcHZAAAAAAABwdkAAAAAAAIBiQAAAAAAAgGJAAAAAAACEmUAAAAAAAISZQAAAAAAA3JZAAAAAAADclkAAAAAAALqoQAAAAAAAuqhAAAAAAIBuzEAAAAAAgG7MQAAAAABAh+VAAAAAAECH5UAAAAAA8GryQAAAAADwavJAAAAAADCP9kAAAAAAMI/2QAAAAABgpvZAAAAAAGCm9kAAAAAAYJHyQAAAAABgkfJAAAAAAIAw8kAAAAAAgDDyQAAAAABAtvNAAAAAAEC280AAAAAAoCLyQAAAAACgIvJAAAAAAIAe8UAAAAAAgB7xQAAAAACg7PJAAAAAAKDs8kAAAAAAECTxQAAAAAAQJPFAAAAAAFBn8EAAAAAAUGfwQAAAAADgEuVAAAAAAOAS5UAAAAAAACXZQAAAAAAAJdlAAAAAAAAsyEAAAAAAACzIQAAAAAAAqKhAAAAAAACoqEAAAAAAAKiXQAAAAAAAqJdA",
          "dtype": "f8",
          "shape": "24, 2"
         },
         "hovertemplate": "source=model<br>pdpurp_label=Shop<br>tlvorg_hr=%{x}<br>percentage=%{y}<br>toexpfac=%{customdata[0]}<br>sample_count=%{customdata[1]}<extra></extra>",
         "legendgroup": "model",
         "marker": {
          "color": "#91268F",
          "pattern": {
           "shape": ""
          }
         },
         "name": "model",
         "offsetgroup": "model",
         "orientation": "v",
         "showlegend": false,
         "textposition": "auto",
         "type": "bar",
         "x": {
          "bdata": "AAECAwQFBgcICQoLDA0ODxAREhMUFRYX",
          "dtype": "i1"
         },
         "xaxis": "x4",
         "y": {
          "bdata": "TfLJ12ajOz+9B2pL5HQ3P9icO8kbVyM/Ptdvwa6sWj96JTgQzOVXP3jrvgCC2Wk/nUMFrRa5jT+d+iH/kYGmP8lz0OEWQbM/loNI7X6Vtz+aPw6KvK23P3tdTdBFabM/gqqVZv8Dsz9ZbOM2c5u0P8y9vhF+9bI/PwAGeI3lsT+SqW/SqsizP6E1kSVe67E/lEdRdQsmsT8M9P3Y6AemPzvx6SReSZo/cZ5H5g5FiT/ZO0e1sMZpPzVBLxIQu1g/",
          "dtype": "f8"
         },
         "yaxis": "y4"
        },
        {
         "alignmentgroup": "True",
         "customdata": {
          "bdata": "AAAAAAAgf0AAAAAAACB/QAAAAAAAkHhAAAAAAACQeEAAAAAAAIBfQAAAAAAAgF9AAAAAAABsm0AAAAAAAGybQAAAAAAAUJdAAAAAAABQl0AAAAAAAFCnQAAAAAAAUKdAAAAAAACWwEAAAAAAAJbAQAAAAACA+MxAAAAAAID4zEAAAAAAQJLbQAAAAABAkttAAAAAAACC4kAAAAAAAILiQAAAAAAg0OZAAAAAACDQ5kAAAAAAYPLlQAAAAABg8uVAAAAAAMDC5kAAAAAAwMLmQAAAAABgsuRAAAAAAGCy5EAAAAAAgDXjQAAAAACANeNAAAAAAOC94UAAAAAA4L3hQAAAAABAb+VAAAAAAEBv5UAAAAAAAFPmQAAAAAAAU+ZAAAAAAGCh5kAAAAAAYKHmQAAAAACAx9xAAAAAAIDH3EAAAAAAQBHVQAAAAABAEdVAAAAAAIDBzEAAAAAAgMHMQAAAAAAAuqpAAAAAAAC6qkAAAAAAAJiWQAAAAAAAmJZA",
          "dtype": "f8",
          "shape": "24, 2"
         },
         "hovertemplate": "source=model<br>pdpurp_label=Meal<br>tlvorg_hr=%{x}<br>percentage=%{y}<br>toexpfac=%{customdata[0]}<br>sample_count=%{customdata[1]}<extra></extra>",
         "legendgroup": "model",
         "marker": {
          "color": "#91268F",
          "pattern": {
           "shape": ""
          }
         },
         "name": "model",
         "offsetgroup": "model",
         "orientation": "v",
         "showlegend": false,
         "textposition": "auto",
         "type": "bar",
         "x": {
          "bdata": "AAECAwQFBgcICQoLDA0ODxAREhMUFRYX",
          "dtype": "i1"
         },
         "xaxis": "x3",
         "y": {
          "bdata": "GErCBoIoTT8QUHR3qgJHP40WQxZxgi0/D2eqTWmwaT+IpnHu4tZlP4imce7i1nU/Gaa2kGUTjz+FswdX2yObP4a4140+1Kk/52rP95tWsT8vFst+F1+1P+g9pp9aj7Q/s3n32o9StT9glKMWk2OzPzLpdkvE/rE/M0kjk+CesD+kps7CgxS0P7KL65Lf6bQ/nrKTvksztT8pS3P88/WqP3He9Vh0vKM/YT57C1Xwmj/260C2qAl5P6ceEGaDKmU/",
          "dtype": "f8"
         },
         "yaxis": "y3"
        },
        {
         "alignmentgroup": "True",
         "customdata": {
          "bdata": "AAAAAAAAcEAAAAAAAABwQAAAAAAAIG5AAAAAAAAgbkAAAAAAACBgQAAAAAAAIGBAAAAAAACXvUAAAAAAAJe9QAAAAAAA7bBAAAAAAADtsEAAAAAAALi9QAAAAAAAuL1AAAAAAIAd2UAAAAAAgB3ZQAAAAAAANOlAAAAAAAA06UAAAAAAkNvzQAAAAACQ2/NAAAAAANBn90AAAAAA0Gf3QAAAAACgqvRAAAAAAKCq9EAAAAAA4BjvQAAAAADgGO9AAAAAACCW60AAAAAAIJbrQAAAAAAAfOxAAAAAAAB87EAAAAAAYIHpQAAAAABggelAAAAAAOCr6EAAAAAA4KvoQAAAAAAAeOhAAAAAAAB46EAAAAAAQGrjQAAAAABAauNAAAAAAKDq4EAAAAAAoOrgQAAAAABAT9ZAAAAAAEBP1kAAAAAAAD/PQAAAAAAAP89AAAAAAAA1wkAAAAAAADXCQAAAAAAALqVAAAAAAAAupUAAAAAAAOyUQAAAAAAA7JRA",
          "dtype": "f8",
          "shape": "24, 2"
         },
         "hovertemplate": "source=model<br>pdpurp_label=Escort<br>tlvorg_hr=%{x}<br>percentage=%{y}<br>toexpfac=%{customdata[0]}<br>sample_count=%{customdata[1]}<extra></extra>",
         "legendgroup": "model",
         "marker": {
          "color": "#91268F",
          "pattern": {
           "shape": ""
          }
         },
         "name": "model",
         "offsetgroup": "model",
         "orientation": "v",
         "showlegend": false,
         "textposition": "auto",
         "type": "bar",
         "x": {
          "bdata": "AAECAwQFBgcICQoLDA0ODxAREhMUFRYX",
          "dtype": "i1"
         },
         "xaxis": "x2",
         "y": {
          "bdata": "+eneeMKGND9D2skT3VIzP82n0P3PryQ/6V80I/z6gj/iT32ZzrZ1P8sFwRsnEIM/SpS1KTQcoD8GkXLqoiqwP9BgNTK0ebk/qq6K6eUGvj+infMsWIO6P/HnQyaB8rM/MSNVTACysT+EbFdbdEWyPwbUrMJEXLA/islcUqOmrz/Q5thnFmSvPyFe89JV6Kg/zF6fmMKzpT/VMXHh9p6cP4bp9bP1CpQ/nykrLJlbhz/3E8Ct4itrP3J8jcs211o/",
          "dtype": "f8"
         },
         "yaxis": "y2"
        },
        {
         "alignmentgroup": "True",
         "customdata": {
          "bdata": "AAAAAAAAbEAAAAAAAABsQAAAAAAAYGJAAAAAAABgYkAAAAAAAABOQAAAAAAAAE5AAAAAAABcqUAAAAAAAFypQAAAAAAAHqJAAAAAAAAeokAAAAAAAH6xQAAAAAAAfrFAAAAAAADqykAAAAAAAOrKQAAAAADApNtAAAAAAMCk20AAAAAAADnnQAAAAAAAOedAAAAAAMDp60AAAAAAwOnrQAAAAABAUOpAAAAAAEBQ6kAAAAAAwBflQAAAAADAF+VAAAAAAMC040AAAAAAwLTjQAAAAACgEeRAAAAAAKAR5EAAAAAAIBLhQAAAAAAgEuFAAAAAAMBj30AAAAAAwGPfQAAAAADAXOFAAAAAAMBc4UAAAAAAYAXgQAAAAABgBeBAAAAAAIDc3EAAAAAAgNzcQAAAAABA7dBAAAAAAEDt0EAAAAAAAEvIQAAAAAAAS8hAAAAAAACKvEAAAAAAAIq8QAAAAAAAcJdAAAAAAABwl0AAAAAAALiEQAAAAAAAuIRA",
          "dtype": "f8",
          "shape": "24, 2"
         },
         "hovertemplate": "source=model<br>pdpurp_label=Personal Business<br>tlvorg_hr=%{x}<br>percentage=%{y}<br>toexpfac=%{customdata[0]}<br>sample_count=%{customdata[1]}<extra></extra>",
         "legendgroup": "model",
         "marker": {
          "color": "#91268F",
          "pattern": {
           "shape": ""
          }
         },
         "name": "model",
         "offsetgroup": "model",
         "orientation": "v",
         "showlegend": false,
         "textposition": "auto",
         "type": "bar",
         "x": {
          "bdata": "AAECAwQFBgcICQoLDA0ODxAREhMUFRYX",
          "dtype": "i1"
         },
         "xaxis": "x",
         "y": {
          "bdata": "bG7M5SIuOz93KM7mRtYxP71R7WMlHx0/SwJFm+2deD8p64uUNZZxPyCkIc3k+oA//5JQi0Ygmj/p0RHUjtWqP3DfhHHxirY/i0ARqokYuz+8crDrBou5P1wZ8ymoebQ/wEt/7wwhsz/8YkDTNHuzPzuWrlYtkrA/r2tQ/3p4rj9dwbADntqwP9MldE+XGq8/URieOC4ErD/cF7m4YW6gPxd5BMfrlJc/sUvLkRi0iz/bZxE2VcBmP9qynNK1HFQ/",
          "dtype": "f8"
         },
         "yaxis": "y"
        },
        {
         "alignmentgroup": "True",
         "customdata": {
          "bdata": "AAAAAAAAAAAAAAAAAAAAABq0z6uRIHJAAAAAAAAA8D8AAAAAAAAAAAAAAAAAAAAA0tVLAlDizEAAAAAAAAA1QFx+yGLfb+5AAAAAAABAUEAuQN0sD/76QAAAAAAA4GBArA8JM8VMDEEAAAAAABB3QIZBGK0pGxVBAAAAAAAwg0ANQH1dWZoPQQAAAAAAgH9A+YjUBb7wAEEAAAAAAEByQGEesonUeeRAAAAAAABAZUCEyRpB0ojiQAAAAAAAwFhA5qvcbD1z3kAAAAAAAIBaQG/f5pEDXdhAAAAAAABAUUBmU3bxwKXaQAAAAAAAAE9AgbC4T1rc2kAAAAAAAABJQJeCMAPioNJAAAAAAACAQEAxWxC+/w/IQAAAAAAAAEFATRHVZ2+MnkAAAAAAAAAkQPuQBcY1TodAAAAAAAAAHEBH82UgB+1wQAAAAAAAABxAcAdvqEVzXEAAAAAAAAAIQNj+/AW9NXhAAAAAAAAAGEBl4E0BBGptQAAAAAAAAPA/",
          "dtype": "f8",
          "shape": "24, 2"
         },
         "hovertemplate": "source=survey<br>pdpurp_label=Work<br>tlvorg_hr=%{x}<br>percentage=%{y}<br>toexpfac=%{customdata[0]}<br>sample_count=%{customdata[1]}<extra></extra>",
         "legendgroup": "survey",
         "marker": {
          "color": "#8CC63E",
          "pattern": {
           "shape": ""
          }
         },
         "name": "survey",
         "offsetgroup": "survey",
         "orientation": "v",
         "showlegend": true,
         "textposition": "auto",
         "type": "bar",
         "x": {
          "bdata": "AAECAwQFBgcICQoLDA0ODxAREhMUFRYX",
          "dtype": "i1"
         },
         "xaxis": "x6",
         "y": {
          "bdata": "AAAAAAAAAABVBBAde10rPwAAAAAAAAAAWo8YB0rNhT9lO8DvXvmmPzV6uE/FX7Q/26R312lcxT9TvIqMtNzPP9TEj9Sp2sc/TBqLptGSuT/DwkKoJ+meP3VIkaXc+ps/G7tvnOn7lj/MkXwfwGOSPyNiDfAdHZQ/pEQsLFRGlD8e12OFLx+MP1GCbnOeKYI/Va9CHO4OVz+lChBuWJdBP9nVYik2jSk/BydQlHl5FT9AE+vdGkYyP/UvgxG4MyY/",
          "dtype": "f8"
         },
         "yaxis": "y6"
        },
        {
         "alignmentgroup": "True",
         "customdata": {
          "bdata": "AAAAAAAAAAAAAAAAAAAAAAAAAAAAAAAAAAAAAAAAAAAAAAAAAAAAAAAAAAAAAAAAAAAAAAAAAAAAAAAAAAAAABXug+gRrFVAAAAAAAAA8D+dwa9xRmZ8QAAAAAAAABBAuuUZIj6A4UAAAAAAAAA8QCh/bAZTjwZBAAAAAACgbEClPKxJ/8gFQQAAAAAAYHBA3tvEO9a66kAAAAAAAIBLQPdSYTBkncZAAAAAAAAAM0BSnx+6l9mwQAAAAAAAACxAsTXHA4G2tUAAAAAAAAAiQNHSt2HkTalAAAAAAAAAJkDb2blpikSlQAAAAAAAABhAafnaty14kEAAAAAAAAAQQIz1IaMZkq5AAAAAAAAAHECPuJ3iBiuLQAAAAAAAABRAE7jHjZGnl0AAAAAAAADwPwAAAAAAAAAAAAAAAAAAAAAAAAAAAAAAAAAAAAAAAAAAAAAAAAAAAAAAAAAAAAAAAAAAAAAAAAAAAAAAAAAAAAAAAAAAAAAAAAAAAAAAAAAA",
          "dtype": "f8",
          "shape": "24, 2"
         },
         "hovertemplate": "source=survey<br>pdpurp_label=School<br>tlvorg_hr=%{x}<br>percentage=%{y}<br>toexpfac=%{customdata[0]}<br>sample_count=%{customdata[1]}<extra></extra>",
         "legendgroup": "survey",
         "marker": {
          "color": "#8CC63E",
          "pattern": {
           "shape": ""
          }
         },
         "name": "survey",
         "offsetgroup": "survey",
         "orientation": "v",
         "showlegend": false,
         "textposition": "auto",
         "type": "bar",
         "x": {
          "bdata": "AAECAwQFBgcICQoLDA0ODxAREhMUFRYX",
          "dtype": "i1"
         },
         "xaxis": "x5",
         "y": {
          "bdata": "AAAAAAAAAAAAAAAAAAAAAAAAAAAAAAAAAAAAAAAAAAD9tG2FdjonP1VySt9VcE4/pn10LfXBsj+93vIwCS7YP512mal3Wdc/ZY/RLjSmvD/0GhfyHD2YPzIUcEpXD4I/bnbkbqVFhz951I2nDR97P4bYUuB/y3Y/2V7Ai+6mYT8eX+dRCWKAPx62WDFzHl0/F6gTX2daaT8AAAAAAAAAAAAAAAAAAAAAAAAAAAAAAAAAAAAAAAAAAAAAAAAAAAAA",
          "dtype": "f8"
         },
         "yaxis": "y5"
        },
        {
         "alignmentgroup": "True",
         "customdata": {
          "bdata": "1QdIDa/wYUAAAAAAAADwPwAAAAAAAAAAAAAAAAAAAADR7iqYLNeBQAAAAAAAAPA/AAAAAAAAAAAAAAAAAAAAAAAAAAAAAAAAAAAAAAAAAACAp8IqHEaIQAAAAAAAABRA7Xrek5qhskAAAAAAAAAgQM6PcArzpcdAAAAAAAAAQkDzoDmFr7rRQAAAAAAAgEpAMzyLdM1I6kAAAAAAAMBcQNsW0zH1iu5AAAAAAABgZEC33pMGK2jxQAAAAAAAgF5AUAfsNpTl7EAAAAAAAABfQBAHTd2GBO1AAAAAAADgYEAcjmpqYqTuQAAAAAAAQGNAwYM7z9fE8EAAAAAAAMBbQKXgcywz5OpAAAAAAACAW0C8236fG8XbQAAAAAAAwF1ASnebqF5z7kAAAAAAAIBZQHBBIj8M99NAAAAAAABAVkBY3i6bbXK8QAAAAAAAAEBAZ5M5IQOOn0AAAAAAAAAsQL9tea/HWqJAAAAAAAAAHEBKD+y8mqKDQAAAAAAAAAhA",
          "dtype": "f8",
          "shape": "24, 2"
         },
         "hovertemplate": "source=survey<br>pdpurp_label=Shop<br>tlvorg_hr=%{x}<br>percentage=%{y}<br>toexpfac=%{customdata[0]}<br>sample_count=%{customdata[1]}<extra></extra>",
         "legendgroup": "survey",
         "marker": {
          "color": "#8CC63E",
          "pattern": {
           "shape": ""
          }
         },
         "name": "survey",
         "offsetgroup": "survey",
         "orientation": "v",
         "showlegend": false,
         "textposition": "auto",
         "type": "bar",
         "x": {
          "bdata": "AAECAwQFBgcICQoLDA0ODxAREhMUFRYX",
          "dtype": "i1"
         },
         "xaxis": "x4",
         "y": {
          "bdata": "AWzaforQLD8AAAAAAAAAAOWBOJmRp0w/AAAAAAAAAAAAAAAAAAAAAMgENdBlflM/nHidf7PsfT9wikXTxv2SPybxHdPPeZw/O7eQCbwbtT8J4K4ONoe4P5LcarVG9bs/sa778M80tz+85NFsqk23P8A0kHOhm7g/9hI3m/Puuj+ZxMm/h5i1P+PN4fclTaY/rp6mqER0uD+ZqJVJjgigPxz02mZW2IY/OPXTWEBXaT/czveO8nptP7SNtpp7iU8/",
          "dtype": "f8"
         },
         "yaxis": "y4"
        },
        {
         "alignmentgroup": "True",
         "customdata": {
          "bdata": "S+8gLvrEg0AAAAAAAADwPwAAAAAAAAAAAAAAAAAAAAAAAAAAAAAAAAAAAAAAAAAAAAAAAAAAAAAAAAAAAAAAAMRVEpr8TzdAAAAAAAAA8D8g+/hVTwlHQAAAAAAAAABA9Mg1M47bpkAAAAAAAAAgQFJAubgdz9ZAAAAAAAAANEBgiJ9TBZnLQAAAAAAAAEZAWgmn1kz/zkAAAAAAAIBIQNKNFhfugNVAAAAAAACATEAbN5FlX7ngQAAAAAAAgFpAQvsd5Nai4kAAAAAAAABdQFo4W/eeHMtAAAAAAACATkAa9BZkDw7KQAAAAAAAAENAv5KS4gNg3kAAAAAAAABMQIkSzmCCxdFAAAAAAACATEBzE711dwPdQAAAAAAAAFhAP6++QyeO40AAAAAAAABaQPebI3fYFOFAAAAAAACAS0BvPnUpTADLQAAAAAAAAEBAIkiIyhSarkAAAAAAAAAmQCRB862zG1BAAAAAAAAAAECW8Rw5KIKCQAAAAAAAAABA",
          "dtype": "f8",
          "shape": "24, 2"
         },
         "hovertemplate": "source=survey<br>pdpurp_label=Meal<br>tlvorg_hr=%{x}<br>percentage=%{y}<br>toexpfac=%{customdata[0]}<br>sample_count=%{customdata[1]}<extra></extra>",
         "legendgroup": "survey",
         "marker": {
          "color": "#8CC63E",
          "pattern": {
           "shape": ""
          }
         },
         "name": "survey",
         "offsetgroup": "survey",
         "orientation": "v",
         "showlegend": false,
         "textposition": "auto",
         "type": "bar",
         "x": {
          "bdata": "AAECAwQFBgcICQoLDA0ODxAREhMUFRYX",
          "dtype": "i1"
         },
         "xaxis": "x3",
         "y": {
          "bdata": "V2/FfbiFXT8AAAAAAAAAAAAAAAAAAAAAAAAAAAAAAABgOf/0F2gRP0b3+FNSMyE/mUm0higRgT9DyrHI3gexPy1ZLjc2m6Q/bRW0FwUlpz+0/CtHWA6wP8oXuA2D+bg/EnIiznLUuz8xb+CdUz6kP/a3xdlOdKM/6xGHUhautj/eQTPV7YmqP7wjo3rWqbU/ZF7wstkzvT8VR5KEHIK5P8v7yq8tKaQ/khPBcXHZhj9VYLGcDg4oP7ABBZeko1s/",
          "dtype": "f8"
         },
         "yaxis": "y3"
        },
        {
         "alignmentgroup": "True",
         "customdata": {
          "bdata": "AAAAAAAAAAAAAAAAAAAAAAAAAAAAAAAAAAAAAAAAAAAAAAAAAAAAAAAAAAAAAAAAAAAAAAAAAAAAAAAAAAAAAI2cHv82rK9AAAAAAAAA8D8sAPvhXkusQAAAAAAAACBAsV/2nwVcy0AAAAAAAAAuQDNFaCSsdfNAAAAAAAAAXEBRihx+nTf6QAAAAAAAwGJABlgyxoYD4EAAAAAAAABHQGJNsNjzkrZAAAAAAAAAO0ADRZiCEWjDQAAAAAAAADdAk/j7DzBKykAAAAAAAABDQPeu60IUiONAAAAAAACAR0A80XSvYY/rQAAAAAAAAFJApPhITjFg8EAAAAAAAEBUQBf2lv/3j+JAAAAAAACAS0AxhYnaJcHoQAAAAAAAgEpAwLee8/Rlq0AAAAAAAAAxQIZjwHVZU8NAAAAAAAAAMEA4Pz6hrnegQAAAAAAAACBAxHQVY1SkdEAAAAAAAAAUQJQ4vZMi0LdAAAAAAAAAFEAAAAAAAAAAAAAAAAAAAAAA",
          "dtype": "f8",
          "shape": "24, 2"
         },
         "hovertemplate": "source=survey<br>pdpurp_label=Escort<br>tlvorg_hr=%{x}<br>percentage=%{y}<br>toexpfac=%{customdata[0]}<br>sample_count=%{customdata[1]}<extra></extra>",
         "legendgroup": "survey",
         "marker": {
          "color": "#8CC63E",
          "pattern": {
           "shape": ""
          }
         },
         "name": "survey",
         "offsetgroup": "survey",
         "orientation": "v",
         "showlegend": false,
         "textposition": "auto",
         "type": "bar",
         "x": {
          "bdata": "AAECAwQFBgcICQoLDA0ODxAREhMUFRYX",
          "dtype": "i1"
         },
         "xaxis": "x2",
         "y": {
          "bdata": "AAAAAAAAAAAAAAAAAAAAAAAAAAAAAAAAAAAAAAAAAACkluduR3l+Pyrh9WYsOXs/iH5ro+JSmj+iyop1F7nCP3bTwi2MOck/LdWar63Qrj8HK7DVMLiFP5y2bKkArJI/ryPFw2pLmT+HIZMzzcqyP2Im6/pMhLo/GydiuP6Cvz8S511XFdyxP9rmJ3NB0bc/vqcOsHFcej9aq2FlEZiSP8HjwBkysG8/wVofskrcQz/GcFLLXemGPwAAAAAAAAAA",
          "dtype": "f8"
         },
         "yaxis": "y2"
        },
        {
         "alignmentgroup": "True",
         "customdata": {
          "bdata": "AAAAAAAAAAAAAAAAAAAAAAAAAAAAAAAAAAAAAAAAAAAAAAAAAAAAAAAAAAAAAAAAAAAAAAAAAAAAAAAAAAAAAAAAAAAAAAAAAAAAAAAAAACJibUBgyqiQAAAAAAAABRAsrguCNcuuUAAAAAAAAA1QDAy4SPGTuJAAAAAAAAAT0Ak97Nd/nfVQAAAAAAAAFFAtNChgy2M50AAAAAAAEBWQOXglL5c0NpAAAAAAABAV0BxEKsTBD3bQAAAAAAAQFJAhTMj87SM20AAAAAAAABVQL/kIYma89VAAAAAAACAVUAkjMiK0oDhQAAAAAAAQFRA6IEbeXp03kAAAAAAAABRQOQI8e6iNMNAAAAAAACASkDicyQgjvXdQAAAAAAAAEJArI5UQz+TpEAAAAAAAAA2QEKFZNd4t8lAAAAAAAAALkCdw/wZe2obQAAAAAAAAPA/hHDV2Rp5PUAAAAAAAADwP8JPxfSWrWhAAAAAAAAA8D8AAAAAAAAAAAAAAAAAAAAA",
          "dtype": "f8",
          "shape": "24, 2"
         },
         "hovertemplate": "source=survey<br>pdpurp_label=Personal Business<br>tlvorg_hr=%{x}<br>percentage=%{y}<br>toexpfac=%{customdata[0]}<br>sample_count=%{customdata[1]}<extra></extra>",
         "legendgroup": "survey",
         "marker": {
          "color": "#8CC63E",
          "pattern": {
           "shape": ""
          }
         },
         "name": "survey",
         "offsetgroup": "survey",
         "orientation": "v",
         "showlegend": false,
         "textposition": "auto",
         "type": "bar",
         "x": {
          "bdata": "AAECAwQFBgcICQoLDA0ODxAREhMUFRYX",
          "dtype": "i1"
         },
         "xaxis": "x",
         "y": {
          "bdata": "AAAAAAAAAAAAAAAAAAAAAAAAAAAAAAAAAAAAAAAAAAAAAAAAAAAAAPLIKz/0hHs/+Kni2RUTkz/Q5cMN47u7P4N59qzgQrA/Ug2odvnVwT8jiNI2VU+0P4oWxZ6hobQ/knpPB/7dtD9mwdYwgaCwP6iTUUflg7o/FovihFoRtz9k7xOwGRidP3i/sI83sbY/X8W2gDsrfz9uV8Zkk3qjP+hnc3cRxPQ+Lf4IHvRSFj9/ZGyqL7FCPwAAAAAAAAAA",
          "dtype": "f8"
         },
         "yaxis": "y"
        }
       ],
       "layout": {
        "annotations": [
         {
          "font": {},
          "showarrow": false,
          "text": "Personal Business",
          "textangle": 90,
          "x": 0.98,
          "xanchor": "left",
          "xref": "paper",
          "y": 0.07083333333333333,
          "yanchor": "middle",
          "yref": "paper"
         },
         {
          "font": {},
          "showarrow": false,
          "text": "Escort",
          "textangle": 90,
          "x": 0.98,
          "xanchor": "left",
          "xref": "paper",
          "y": 0.2425,
          "yanchor": "middle",
          "yref": "paper"
         },
         {
          "font": {},
          "showarrow": false,
          "text": "Meal",
          "textangle": 90,
          "x": 0.98,
          "xanchor": "left",
          "xref": "paper",
          "y": 0.4141666666666667,
          "yanchor": "middle",
          "yref": "paper"
         },
         {
          "font": {},
          "showarrow": false,
          "text": "Shop",
          "textangle": 90,
          "x": 0.98,
          "xanchor": "left",
          "xref": "paper",
          "y": 0.5858333333333334,
          "yanchor": "middle",
          "yref": "paper"
         },
         {
          "font": {},
          "showarrow": false,
          "text": "School",
          "textangle": 90,
          "x": 0.98,
          "xanchor": "left",
          "xref": "paper",
          "y": 0.7575000000000001,
          "yanchor": "middle",
          "yref": "paper"
         },
         {
          "font": {},
          "showarrow": false,
          "text": "Work",
          "textangle": 90,
          "x": 0.98,
          "xanchor": "left",
          "xref": "paper",
          "y": 0.9291666666666667,
          "yanchor": "middle",
          "yref": "paper"
         }
        ],
        "barmode": "group",
        "height": 1500,
        "legend": {
         "title": {
          "text": "source"
         },
         "tracegroupgap": 0
        },
        "template": {
         "data": {
          "bar": [
           {
            "error_x": {
             "color": "rgb(36,36,36)"
            },
            "error_y": {
             "color": "rgb(36,36,36)"
            },
            "marker": {
             "line": {
              "color": "white",
              "width": 0.5
             },
             "pattern": {
              "fillmode": "overlay",
              "size": 10,
              "solidity": 0.2
             }
            },
            "type": "bar"
           }
          ],
          "barpolar": [
           {
            "marker": {
             "line": {
              "color": "white",
              "width": 0.5
             },
             "pattern": {
              "fillmode": "overlay",
              "size": 10,
              "solidity": 0.2
             }
            },
            "type": "barpolar"
           }
          ],
          "carpet": [
           {
            "aaxis": {
             "endlinecolor": "rgb(36,36,36)",
             "gridcolor": "white",
             "linecolor": "white",
             "minorgridcolor": "white",
             "startlinecolor": "rgb(36,36,36)"
            },
            "baxis": {
             "endlinecolor": "rgb(36,36,36)",
             "gridcolor": "white",
             "linecolor": "white",
             "minorgridcolor": "white",
             "startlinecolor": "rgb(36,36,36)"
            },
            "type": "carpet"
           }
          ],
          "choropleth": [
           {
            "colorbar": {
             "outlinewidth": 1,
             "tickcolor": "rgb(36,36,36)",
             "ticks": "outside"
            },
            "type": "choropleth"
           }
          ],
          "contour": [
           {
            "colorbar": {
             "outlinewidth": 1,
             "tickcolor": "rgb(36,36,36)",
             "ticks": "outside"
            },
            "colorscale": [
             [
              0.0,
              "#440154"
             ],
             [
              0.1111111111111111,
              "#482878"
             ],
             [
              0.2222222222222222,
              "#3e4989"
             ],
             [
              0.3333333333333333,
              "#31688e"
             ],
             [
              0.4444444444444444,
              "#26828e"
             ],
             [
              0.5555555555555556,
              "#1f9e89"
             ],
             [
              0.6666666666666666,
              "#35b779"
             ],
             [
              0.7777777777777778,
              "#6ece58"
             ],
             [
              0.8888888888888888,
              "#b5de2b"
             ],
             [
              1.0,
              "#fde725"
             ]
            ],
            "type": "contour"
           }
          ],
          "contourcarpet": [
           {
            "colorbar": {
             "outlinewidth": 1,
             "tickcolor": "rgb(36,36,36)",
             "ticks": "outside"
            },
            "type": "contourcarpet"
           }
          ],
          "heatmap": [
           {
            "colorbar": {
             "outlinewidth": 1,
             "tickcolor": "rgb(36,36,36)",
             "ticks": "outside"
            },
            "colorscale": [
             [
              0.0,
              "#440154"
             ],
             [
              0.1111111111111111,
              "#482878"
             ],
             [
              0.2222222222222222,
              "#3e4989"
             ],
             [
              0.3333333333333333,
              "#31688e"
             ],
             [
              0.4444444444444444,
              "#26828e"
             ],
             [
              0.5555555555555556,
              "#1f9e89"
             ],
             [
              0.6666666666666666,
              "#35b779"
             ],
             [
              0.7777777777777778,
              "#6ece58"
             ],
             [
              0.8888888888888888,
              "#b5de2b"
             ],
             [
              1.0,
              "#fde725"
             ]
            ],
            "type": "heatmap"
           }
          ],
          "histogram": [
           {
            "marker": {
             "line": {
              "color": "white",
              "width": 0.6
             }
            },
            "type": "histogram"
           }
          ],
          "histogram2d": [
           {
            "colorbar": {
             "outlinewidth": 1,
             "tickcolor": "rgb(36,36,36)",
             "ticks": "outside"
            },
            "colorscale": [
             [
              0.0,
              "#440154"
             ],
             [
              0.1111111111111111,
              "#482878"
             ],
             [
              0.2222222222222222,
              "#3e4989"
             ],
             [
              0.3333333333333333,
              "#31688e"
             ],
             [
              0.4444444444444444,
              "#26828e"
             ],
             [
              0.5555555555555556,
              "#1f9e89"
             ],
             [
              0.6666666666666666,
              "#35b779"
             ],
             [
              0.7777777777777778,
              "#6ece58"
             ],
             [
              0.8888888888888888,
              "#b5de2b"
             ],
             [
              1.0,
              "#fde725"
             ]
            ],
            "type": "histogram2d"
           }
          ],
          "histogram2dcontour": [
           {
            "colorbar": {
             "outlinewidth": 1,
             "tickcolor": "rgb(36,36,36)",
             "ticks": "outside"
            },
            "colorscale": [
             [
              0.0,
              "#440154"
             ],
             [
              0.1111111111111111,
              "#482878"
             ],
             [
              0.2222222222222222,
              "#3e4989"
             ],
             [
              0.3333333333333333,
              "#31688e"
             ],
             [
              0.4444444444444444,
              "#26828e"
             ],
             [
              0.5555555555555556,
              "#1f9e89"
             ],
             [
              0.6666666666666666,
              "#35b779"
             ],
             [
              0.7777777777777778,
              "#6ece58"
             ],
             [
              0.8888888888888888,
              "#b5de2b"
             ],
             [
              1.0,
              "#fde725"
             ]
            ],
            "type": "histogram2dcontour"
           }
          ],
          "mesh3d": [
           {
            "colorbar": {
             "outlinewidth": 1,
             "tickcolor": "rgb(36,36,36)",
             "ticks": "outside"
            },
            "type": "mesh3d"
           }
          ],
          "parcoords": [
           {
            "line": {
             "colorbar": {
              "outlinewidth": 1,
              "tickcolor": "rgb(36,36,36)",
              "ticks": "outside"
             }
            },
            "type": "parcoords"
           }
          ],
          "pie": [
           {
            "automargin": true,
            "type": "pie"
           }
          ],
          "scatter": [
           {
            "fillpattern": {
             "fillmode": "overlay",
             "size": 10,
             "solidity": 0.2
            },
            "type": "scatter"
           }
          ],
          "scatter3d": [
           {
            "line": {
             "colorbar": {
              "outlinewidth": 1,
              "tickcolor": "rgb(36,36,36)",
              "ticks": "outside"
             }
            },
            "marker": {
             "colorbar": {
              "outlinewidth": 1,
              "tickcolor": "rgb(36,36,36)",
              "ticks": "outside"
             }
            },
            "type": "scatter3d"
           }
          ],
          "scattercarpet": [
           {
            "marker": {
             "colorbar": {
              "outlinewidth": 1,
              "tickcolor": "rgb(36,36,36)",
              "ticks": "outside"
             }
            },
            "type": "scattercarpet"
           }
          ],
          "scattergeo": [
           {
            "marker": {
             "colorbar": {
              "outlinewidth": 1,
              "tickcolor": "rgb(36,36,36)",
              "ticks": "outside"
             }
            },
            "type": "scattergeo"
           }
          ],
          "scattergl": [
           {
            "marker": {
             "colorbar": {
              "outlinewidth": 1,
              "tickcolor": "rgb(36,36,36)",
              "ticks": "outside"
             }
            },
            "type": "scattergl"
           }
          ],
          "scattermap": [
           {
            "marker": {
             "colorbar": {
              "outlinewidth": 1,
              "tickcolor": "rgb(36,36,36)",
              "ticks": "outside"
             }
            },
            "type": "scattermap"
           }
          ],
          "scattermapbox": [
           {
            "marker": {
             "colorbar": {
              "outlinewidth": 1,
              "tickcolor": "rgb(36,36,36)",
              "ticks": "outside"
             }
            },
            "type": "scattermapbox"
           }
          ],
          "scatterpolar": [
           {
            "marker": {
             "colorbar": {
              "outlinewidth": 1,
              "tickcolor": "rgb(36,36,36)",
              "ticks": "outside"
             }
            },
            "type": "scatterpolar"
           }
          ],
          "scatterpolargl": [
           {
            "marker": {
             "colorbar": {
              "outlinewidth": 1,
              "tickcolor": "rgb(36,36,36)",
              "ticks": "outside"
             }
            },
            "type": "scatterpolargl"
           }
          ],
          "scatterternary": [
           {
            "marker": {
             "colorbar": {
              "outlinewidth": 1,
              "tickcolor": "rgb(36,36,36)",
              "ticks": "outside"
             }
            },
            "type": "scatterternary"
           }
          ],
          "surface": [
           {
            "colorbar": {
             "outlinewidth": 1,
             "tickcolor": "rgb(36,36,36)",
             "ticks": "outside"
            },
            "colorscale": [
             [
              0.0,
              "#440154"
             ],
             [
              0.1111111111111111,
              "#482878"
             ],
             [
              0.2222222222222222,
              "#3e4989"
             ],
             [
              0.3333333333333333,
              "#31688e"
             ],
             [
              0.4444444444444444,
              "#26828e"
             ],
             [
              0.5555555555555556,
              "#1f9e89"
             ],
             [
              0.6666666666666666,
              "#35b779"
             ],
             [
              0.7777777777777778,
              "#6ece58"
             ],
             [
              0.8888888888888888,
              "#b5de2b"
             ],
             [
              1.0,
              "#fde725"
             ]
            ],
            "type": "surface"
           }
          ],
          "table": [
           {
            "cells": {
             "fill": {
              "color": "rgb(237,237,237)"
             },
             "line": {
              "color": "white"
             }
            },
            "header": {
             "fill": {
              "color": "rgb(217,217,217)"
             },
             "line": {
              "color": "white"
             }
            },
            "type": "table"
           }
          ]
         },
         "layout": {
          "annotationdefaults": {
           "arrowhead": 0,
           "arrowwidth": 1
          },
          "autotypenumbers": "strict",
          "coloraxis": {
           "colorbar": {
            "outlinewidth": 1,
            "tickcolor": "rgb(36,36,36)",
            "ticks": "outside"
           }
          },
          "colorscale": {
           "diverging": [
            [
             0.0,
             "rgb(103,0,31)"
            ],
            [
             0.1,
             "rgb(178,24,43)"
            ],
            [
             0.2,
             "rgb(214,96,77)"
            ],
            [
             0.3,
             "rgb(244,165,130)"
            ],
            [
             0.4,
             "rgb(253,219,199)"
            ],
            [
             0.5,
             "rgb(247,247,247)"
            ],
            [
             0.6,
             "rgb(209,229,240)"
            ],
            [
             0.7,
             "rgb(146,197,222)"
            ],
            [
             0.8,
             "rgb(67,147,195)"
            ],
            [
             0.9,
             "rgb(33,102,172)"
            ],
            [
             1.0,
             "rgb(5,48,97)"
            ]
           ],
           "sequential": [
            [
             0.0,
             "#440154"
            ],
            [
             0.1111111111111111,
             "#482878"
            ],
            [
             0.2222222222222222,
             "#3e4989"
            ],
            [
             0.3333333333333333,
             "#31688e"
            ],
            [
             0.4444444444444444,
             "#26828e"
            ],
            [
             0.5555555555555556,
             "#1f9e89"
            ],
            [
             0.6666666666666666,
             "#35b779"
            ],
            [
             0.7777777777777778,
             "#6ece58"
            ],
            [
             0.8888888888888888,
             "#b5de2b"
            ],
            [
             1.0,
             "#fde725"
            ]
           ],
           "sequentialminus": [
            [
             0.0,
             "#440154"
            ],
            [
             0.1111111111111111,
             "#482878"
            ],
            [
             0.2222222222222222,
             "#3e4989"
            ],
            [
             0.3333333333333333,
             "#31688e"
            ],
            [
             0.4444444444444444,
             "#26828e"
            ],
            [
             0.5555555555555556,
             "#1f9e89"
            ],
            [
             0.6666666666666666,
             "#35b779"
            ],
            [
             0.7777777777777778,
             "#6ece58"
            ],
            [
             0.8888888888888888,
             "#b5de2b"
            ],
            [
             1.0,
             "#fde725"
            ]
           ]
          },
          "colorway": [
           "#91268F",
           "#8CC63E",
           "#00A7A0",
           "#F05A28",
           "#4C4C4C",
           "#630460",
           "#9f3913",
           "#588527",
           "#00716c",
           "#3e4040"
          ],
          "font": {
           "color": "rgb(36,36,36)",
           "family": "Poppins",
           "size": 11
          },
          "geo": {
           "bgcolor": "white",
           "lakecolor": "white",
           "landcolor": "white",
           "showlakes": true,
           "showland": true,
           "subunitcolor": "white"
          },
          "hoverlabel": {
           "align": "left"
          },
          "hovermode": "closest",
          "mapbox": {
           "style": "light"
          },
          "paper_bgcolor": "white",
          "plot_bgcolor": "white",
          "polar": {
           "angularaxis": {
            "gridcolor": "rgb(232,232,232)",
            "linecolor": "rgb(36,36,36)",
            "showgrid": false,
            "showline": true,
            "ticks": "outside"
           },
           "bgcolor": "white",
           "radialaxis": {
            "gridcolor": "rgb(232,232,232)",
            "linecolor": "rgb(36,36,36)",
            "showgrid": false,
            "showline": true,
            "ticks": "outside"
           }
          },
          "scene": {
           "xaxis": {
            "backgroundcolor": "white",
            "gridcolor": "rgb(232,232,232)",
            "gridwidth": 2,
            "linecolor": "rgb(36,36,36)",
            "showbackground": true,
            "showgrid": false,
            "showline": true,
            "ticks": "outside",
            "zeroline": false,
            "zerolinecolor": "rgb(36,36,36)"
           },
           "yaxis": {
            "backgroundcolor": "white",
            "gridcolor": "rgb(232,232,232)",
            "gridwidth": 2,
            "linecolor": "rgb(36,36,36)",
            "showbackground": true,
            "showgrid": false,
            "showline": true,
            "ticks": "outside",
            "zeroline": false,
            "zerolinecolor": "rgb(36,36,36)"
           },
           "zaxis": {
            "backgroundcolor": "white",
            "gridcolor": "rgb(232,232,232)",
            "gridwidth": 2,
            "linecolor": "rgb(36,36,36)",
            "showbackground": true,
            "showgrid": false,
            "showline": true,
            "ticks": "outside",
            "zeroline": false,
            "zerolinecolor": "rgb(36,36,36)"
           }
          },
          "shapedefaults": {
           "fillcolor": "black",
           "line": {
            "width": 0
           },
           "opacity": 0.3
          },
          "ternary": {
           "aaxis": {
            "gridcolor": "rgb(232,232,232)",
            "linecolor": "rgb(36,36,36)",
            "showgrid": false,
            "showline": true,
            "ticks": "outside"
           },
           "baxis": {
            "gridcolor": "rgb(232,232,232)",
            "linecolor": "rgb(36,36,36)",
            "showgrid": false,
            "showline": true,
            "ticks": "outside"
           },
           "bgcolor": "white",
           "caxis": {
            "gridcolor": "rgb(232,232,232)",
            "linecolor": "rgb(36,36,36)",
            "showgrid": false,
            "showline": true,
            "ticks": "outside"
           }
          },
          "title": {
           "x": 0.05
          },
          "xaxis": {
           "automargin": true,
           "gridcolor": "rgb(232,232,232)",
           "linecolor": "rgb(36,36,36)",
           "showgrid": false,
           "showline": true,
           "ticks": "outside",
           "title": {
            "standoff": 15
           },
           "zeroline": false,
           "zerolinecolor": "rgb(36,36,36)"
          },
          "yaxis": {
           "automargin": true,
           "gridcolor": "rgb(232,232,232)",
           "linecolor": "rgb(36,36,36)",
           "showgrid": false,
           "showline": true,
           "ticks": "outside",
           "title": {
            "standoff": 15
           },
           "zeroline": false,
           "zerolinecolor": "rgb(36,36,36)"
          }
         }
        },
        "title": {
         "text": "tour origin departure hour by purpose"
        },
        "width": 850,
        "xaxis": {
         "anchor": "y",
         "categoryorder": "category ascending",
         "domain": [
          0.0,
          0.98
         ],
         "dtick": 1,
         "title": {
          "text": "tlvorg_hr"
         }
        },
        "xaxis2": {
         "anchor": "y2",
         "categoryorder": "category ascending",
         "domain": [
          0.0,
          0.98
         ],
         "dtick": 1,
         "matches": "x",
         "showticklabels": false
        },
        "xaxis3": {
         "anchor": "y3",
         "categoryorder": "category ascending",
         "domain": [
          0.0,
          0.98
         ],
         "dtick": 1,
         "matches": "x",
         "showticklabels": false
        },
        "xaxis4": {
         "anchor": "y4",
         "categoryorder": "category ascending",
         "domain": [
          0.0,
          0.98
         ],
         "dtick": 1,
         "matches": "x",
         "showticklabels": false
        },
        "xaxis5": {
         "anchor": "y5",
         "categoryorder": "category ascending",
         "domain": [
          0.0,
          0.98
         ],
         "dtick": 1,
         "matches": "x",
         "showticklabels": false
        },
        "xaxis6": {
         "anchor": "y6",
         "categoryorder": "category ascending",
         "domain": [
          0.0,
          0.98
         ],
         "dtick": 1,
         "matches": "x",
         "showticklabels": false
        },
        "yaxis": {
         "anchor": "x",
         "domain": [
          0.0,
          0.14166666666666666
         ],
         "tickformat": ".0%",
         "title": {
          "text": "percentage"
         }
        },
        "yaxis2": {
         "anchor": "x2",
         "domain": [
          0.17166666666666666,
          0.31333333333333335
         ],
         "matches": "y",
         "tickformat": ".0%",
         "title": {
          "text": "percentage"
         }
        },
        "yaxis3": {
         "anchor": "x3",
         "domain": [
          0.3433333333333333,
          0.485
         ],
         "matches": "y",
         "tickformat": ".0%",
         "title": {
          "text": "percentage"
         }
        },
        "yaxis4": {
         "anchor": "x4",
         "domain": [
          0.515,
          0.6566666666666667
         ],
         "matches": "y",
         "tickformat": ".0%",
         "title": {
          "text": "percentage"
         }
        },
        "yaxis5": {
         "anchor": "x5",
         "domain": [
          0.6866666666666666,
          0.8283333333333334
         ],
         "matches": "y",
         "tickformat": ".0%",
         "title": {
          "text": "percentage"
         }
        },
        "yaxis6": {
         "anchor": "x6",
         "domain": [
          0.8583333333333333,
          1.0
         ],
         "matches": "y",
         "tickformat": ".0%",
         "title": {
          "text": "percentage"
         }
        }
       }
      },
      "text/html": [
       "<div>            <script src=\"https://cdnjs.cloudflare.com/ajax/libs/mathjax/2.7.5/MathJax.js?config=TeX-AMS-MML_SVG\"></script><script type=\"text/javascript\">if (window.MathJax && window.MathJax.Hub && window.MathJax.Hub.Config) {window.MathJax.Hub.Config({SVG: {font: \"STIX-Web\"}});}</script>                <script type=\"text/javascript\">window.PlotlyConfig = {MathJaxConfig: 'local'};</script>\n",
       "        <script charset=\"utf-8\" src=\"https://cdn.plot.ly/plotly-3.0.1.min.js\"></script>                <div id=\"fecd8b28-52d9-4013-afe4-e40c099e4713\" class=\"plotly-graph-div\" style=\"height:1500px; width:850px;\"></div>            <script type=\"text/javascript\">                window.PLOTLYENV=window.PLOTLYENV || {};                                if (document.getElementById(\"fecd8b28-52d9-4013-afe4-e40c099e4713\")) {                    Plotly.newPlot(                        \"fecd8b28-52d9-4013-afe4-e40c099e4713\",                        [{\"alignmentgroup\":\"True\",\"customdata\":{\"dtype\":\"f8\",\"bdata\":\"AAAAAAAIokAAAAAAAAiiQAAAAAAAmJdAAAAAAACYl0AAAAAAAJCAQAAAAAAAkIBAAAAAAMB47EAAAAAAwHjsQAAAAADgn+1AAAAAAOCf7UAAAAAAyM8AQQAAAADIzwBBAAAAAFzFFEEAAAAAXMUUQQAAAABEhBpBAAAAAESEGkEAAAAA4J4VQQAAAADgnhVBAAAAAFD0BkEAAAAAUPQGQQAAAABwv\\u002ftAAAAAAHC\\u002f+0AAAAAAYE72QAAAAABgTvZAAAAAAGB58kAAAAAAYHnyQAAAAABAJu5AAAAAAEAm7kAAAAAAwDDrQAAAAADAMOtAAAAAAMCj6EAAAAAAwKPoQAAAAAAgyudAAAAAACDK50AAAAAAYITmQAAAAABghOZAAAAAAODH4kAAAAAA4MfiQAAAAACAHNRAAAAAAIAc1EAAAAAAgDnPQAAAAACAOc9AAAAAAAC9xUAAAAAAAL3FQAAAAAAAgbNAAAAAAACBs0AAAAAAAMCrQAAAAAAAwKtA\",\"shape\":\"24, 2\"},\"hovertemplate\":\"source=model\\u003cbr\\u003epdpurp_label=Work\\u003cbr\\u003etlvorg_hr=%{x}\\u003cbr\\u003epercentage=%{y}\\u003cbr\\u003etoexpfac=%{customdata[0]}\\u003cbr\\u003esample_count=%{customdata[1]}\\u003cextra\\u003e\\u003c\\u002fextra\\u003e\",\"legendgroup\":\"model\",\"marker\":{\"color\":\"#91268F\",\"pattern\":{\"shape\":\"\"}},\"name\":\"model\",\"offsetgroup\":\"model\",\"orientation\":\"v\",\"showlegend\":true,\"textposition\":\"auto\",\"x\":{\"dtype\":\"i1\",\"bdata\":\"AAECAwQFBgcICQoLDA0ODxAREhMUFRYX\"},\"xaxis\":\"x6\",\"y\":{\"dtype\":\"f8\",\"bdata\":\"G7B9hf4PUT87GzGDfFNGP9KXVzdkWC8\\u002fD5c17iTxmj9jUGW3aQicPxJrirEZ0a8\\u002f3ArW3qunwz+qn92zjBfJPw1\\u002f3ByAdcQ\\u002fYZUE6Je4tT\\u002fUa2XCyUGqP0RLRj+SG6U\\u002fRwoEI0d7oT+kJzx+kYecPw9jiVDEupk\\u002fElbz0dlQlz86IQsV64KWP3yx8ISrTpU\\u002fbgI3bo\\u002fFkT\\u002fGyj9m4geDPwJG5KQHjH0\\u002fontRxAGSdD\\u002f5BzsuvXRiP+TcyQVSQlo\\u002f\"},\"yaxis\":\"y6\",\"type\":\"bar\"},{\"alignmentgroup\":\"True\",\"customdata\":{\"dtype\":\"f8\",\"bdata\":\"AAAAAAAA8D8AAAAAAADwPwAAAAAAAAAAAAAAAAAAAAAAAAAAAAAAAAAAAAAAAAAAAAAAAACOr0AAAAAAAI6vQAAAAAAAX7BAAAAAAABfsEAAAAAAAMLLQAAAAAAAwstAAAAAAJD680AAAAAAkPrzQAAAAADQ\\u002fgdBAAAAAND+B0EAAAAAKPUIQQAAAAAo9QhBAAAAAEBh+EAAAAAAQGH4QAAAAABAGuZAAAAAAEAa5kAAAAAAQHjbQAAAAABAeNtAAAAAAIDS0UAAAAAAgNLRQAAAAACA48hAAAAAAIDjyEAAAAAAgEPCQAAAAACAQ8JAAAAAAAAXu0AAAAAAABe7QAAAAAAAMbhAAAAAAAAxuEAAAAAAAF62QAAAAAAAXrZAAAAAAACasUAAAAAAAJqxQAAAAAAA5JdAAAAAAADkl0AAAAAAAOyVQAAAAAAA7JVAAAAAAACgiUAAAAAAAKCJQAAAAAAAABxAAAAAAAAAHEAAAAAAAAAIQAAAAAAAAAhA\",\"shape\":\"24, 2\"},\"hovertemplate\":\"source=model\\u003cbr\\u003epdpurp_label=School\\u003cbr\\u003etlvorg_hr=%{x}\\u003cbr\\u003epercentage=%{y}\\u003cbr\\u003etoexpfac=%{customdata[0]}\\u003cbr\\u003esample_count=%{customdata[1]}\\u003cextra\\u003e\\u003c\\u002fextra\\u003e\",\"legendgroup\":\"model\",\"marker\":{\"color\":\"#91268F\",\"pattern\":{\"shape\":\"\"}},\"name\":\"model\",\"offsetgroup\":\"model\",\"orientation\":\"v\",\"showlegend\":false,\"textposition\":\"auto\",\"x\":{\"dtype\":\"i1\",\"bdata\":\"AAECAwQFBgcICQoLDA0ODxAREhMUFRYX\"},\"xaxis\":\"x5\",\"y\":{\"dtype\":\"f8\",\"bdata\":\"82\\u002fhqSx9tj4AAAAAAAAAAAAAAAAAAAAA1DzEug4tdj98GhLjswJ3PywdHI70gZM\\u002fUxAsStMUvD8ZxkDaC93QP1GO1fkritE\\u002fFFsl6TkiwT\\u002fKr9zGAhGvP5yXLBEgTqM\\u002f24QaSN4MmT+u0vBow32RPwJNilOyq4k\\u002fflBwp8cJgz8qNc0rUQCBP2AG\\u002fM88cH8\\u002fyKBiQnS9eD+0blT4M8pgPyKgwfEA0F4\\u002fpoYJxDwCUj\\u002f1QaUUh63jPvYTaX\\u002fh3dA+\"},\"yaxis\":\"y5\",\"type\":\"bar\"},{\"alignmentgroup\":\"True\",\"customdata\":{\"dtype\":\"f8\",\"bdata\":\"AAAAAABwekAAAAAAAHB6QAAAAAAAcHZAAAAAAABwdkAAAAAAAIBiQAAAAAAAgGJAAAAAAACEmUAAAAAAAISZQAAAAAAA3JZAAAAAAADclkAAAAAAALqoQAAAAAAAuqhAAAAAAIBuzEAAAAAAgG7MQAAAAABAh+VAAAAAAECH5UAAAAAA8GryQAAAAADwavJAAAAAADCP9kAAAAAAMI\\u002f2QAAAAABgpvZAAAAAAGCm9kAAAAAAYJHyQAAAAABgkfJAAAAAAIAw8kAAAAAAgDDyQAAAAABAtvNAAAAAAEC280AAAAAAoCLyQAAAAACgIvJAAAAAAIAe8UAAAAAAgB7xQAAAAACg7PJAAAAAAKDs8kAAAAAAECTxQAAAAAAQJPFAAAAAAFBn8EAAAAAAUGfwQAAAAADgEuVAAAAAAOAS5UAAAAAAACXZQAAAAAAAJdlAAAAAAAAsyEAAAAAAACzIQAAAAAAAqKhAAAAAAACoqEAAAAAAAKiXQAAAAAAAqJdA\",\"shape\":\"24, 2\"},\"hovertemplate\":\"source=model\\u003cbr\\u003epdpurp_label=Shop\\u003cbr\\u003etlvorg_hr=%{x}\\u003cbr\\u003epercentage=%{y}\\u003cbr\\u003etoexpfac=%{customdata[0]}\\u003cbr\\u003esample_count=%{customdata[1]}\\u003cextra\\u003e\\u003c\\u002fextra\\u003e\",\"legendgroup\":\"model\",\"marker\":{\"color\":\"#91268F\",\"pattern\":{\"shape\":\"\"}},\"name\":\"model\",\"offsetgroup\":\"model\",\"orientation\":\"v\",\"showlegend\":false,\"textposition\":\"auto\",\"x\":{\"dtype\":\"i1\",\"bdata\":\"AAECAwQFBgcICQoLDA0ODxAREhMUFRYX\"},\"xaxis\":\"x4\",\"y\":{\"dtype\":\"f8\",\"bdata\":\"TfLJ12ajOz+9B2pL5HQ3P9icO8kbVyM\\u002fPtdvwa6sWj96JTgQzOVXP3jrvgCC2Wk\\u002fnUMFrRa5jT+d+iH\\u002fkYGmP8lz0OEWQbM\\u002floNI7X6Vtz+aPw6KvK23P3tdTdBFabM\\u002fgqqVZv8Dsz9ZbOM2c5u0P8y9vhF+9bI\\u002fPwAGeI3lsT+SqW\\u002fSqsizP6E1kSVe67E\\u002flEdRdQsmsT8M9P3Y6AemPzvx6SReSZo\\u002fcZ5H5g5FiT\\u002fZO0e1sMZpPzVBLxIQu1g\\u002f\"},\"yaxis\":\"y4\",\"type\":\"bar\"},{\"alignmentgroup\":\"True\",\"customdata\":{\"dtype\":\"f8\",\"bdata\":\"AAAAAAAgf0AAAAAAACB\\u002fQAAAAAAAkHhAAAAAAACQeEAAAAAAAIBfQAAAAAAAgF9AAAAAAABsm0AAAAAAAGybQAAAAAAAUJdAAAAAAABQl0AAAAAAAFCnQAAAAAAAUKdAAAAAAACWwEAAAAAAAJbAQAAAAACA+MxAAAAAAID4zEAAAAAAQJLbQAAAAABAkttAAAAAAACC4kAAAAAAAILiQAAAAAAg0OZAAAAAACDQ5kAAAAAAYPLlQAAAAABg8uVAAAAAAMDC5kAAAAAAwMLmQAAAAABgsuRAAAAAAGCy5EAAAAAAgDXjQAAAAACANeNAAAAAAOC94UAAAAAA4L3hQAAAAABAb+VAAAAAAEBv5UAAAAAAAFPmQAAAAAAAU+ZAAAAAAGCh5kAAAAAAYKHmQAAAAACAx9xAAAAAAIDH3EAAAAAAQBHVQAAAAABAEdVAAAAAAIDBzEAAAAAAgMHMQAAAAAAAuqpAAAAAAAC6qkAAAAAAAJiWQAAAAAAAmJZA\",\"shape\":\"24, 2\"},\"hovertemplate\":\"source=model\\u003cbr\\u003epdpurp_label=Meal\\u003cbr\\u003etlvorg_hr=%{x}\\u003cbr\\u003epercentage=%{y}\\u003cbr\\u003etoexpfac=%{customdata[0]}\\u003cbr\\u003esample_count=%{customdata[1]}\\u003cextra\\u003e\\u003c\\u002fextra\\u003e\",\"legendgroup\":\"model\",\"marker\":{\"color\":\"#91268F\",\"pattern\":{\"shape\":\"\"}},\"name\":\"model\",\"offsetgroup\":\"model\",\"orientation\":\"v\",\"showlegend\":false,\"textposition\":\"auto\",\"x\":{\"dtype\":\"i1\",\"bdata\":\"AAECAwQFBgcICQoLDA0ODxAREhMUFRYX\"},\"xaxis\":\"x3\",\"y\":{\"dtype\":\"f8\",\"bdata\":\"GErCBoIoTT8QUHR3qgJHP40WQxZxgi0\\u002fD2eqTWmwaT+IpnHu4tZlP4imce7i1nU\\u002fGaa2kGUTjz+FswdX2yObP4a4140+1Kk\\u002f52rP95tWsT8vFst+F1+1P+g9pp9aj7Q\\u002fs3n32o9StT9glKMWk2OzPzLpdkvE\\u002frE\\u002fM0kjk+CesD+kps7CgxS0P7KL65Lf6bQ\\u002fnrKTvksztT8pS3P88\\u002fWqP3He9Vh0vKM\\u002fYT57C1Xwmj\\u002f260C2qAl5P6ceEGaDKmU\\u002f\"},\"yaxis\":\"y3\",\"type\":\"bar\"},{\"alignmentgroup\":\"True\",\"customdata\":{\"dtype\":\"f8\",\"bdata\":\"AAAAAAAAcEAAAAAAAABwQAAAAAAAIG5AAAAAAAAgbkAAAAAAACBgQAAAAAAAIGBAAAAAAACXvUAAAAAAAJe9QAAAAAAA7bBAAAAAAADtsEAAAAAAALi9QAAAAAAAuL1AAAAAAIAd2UAAAAAAgB3ZQAAAAAAANOlAAAAAAAA06UAAAAAAkNvzQAAAAACQ2\\u002fNAAAAAANBn90AAAAAA0Gf3QAAAAACgqvRAAAAAAKCq9EAAAAAA4BjvQAAAAADgGO9AAAAAACCW60AAAAAAIJbrQAAAAAAAfOxAAAAAAAB87EAAAAAAYIHpQAAAAABggelAAAAAAOCr6EAAAAAA4KvoQAAAAAAAeOhAAAAAAAB46EAAAAAAQGrjQAAAAABAauNAAAAAAKDq4EAAAAAAoOrgQAAAAABAT9ZAAAAAAEBP1kAAAAAAAD\\u002fPQAAAAAAAP89AAAAAAAA1wkAAAAAAADXCQAAAAAAALqVAAAAAAAAupUAAAAAAAOyUQAAAAAAA7JRA\",\"shape\":\"24, 2\"},\"hovertemplate\":\"source=model\\u003cbr\\u003epdpurp_label=Escort\\u003cbr\\u003etlvorg_hr=%{x}\\u003cbr\\u003epercentage=%{y}\\u003cbr\\u003etoexpfac=%{customdata[0]}\\u003cbr\\u003esample_count=%{customdata[1]}\\u003cextra\\u003e\\u003c\\u002fextra\\u003e\",\"legendgroup\":\"model\",\"marker\":{\"color\":\"#91268F\",\"pattern\":{\"shape\":\"\"}},\"name\":\"model\",\"offsetgroup\":\"model\",\"orientation\":\"v\",\"showlegend\":false,\"textposition\":\"auto\",\"x\":{\"dtype\":\"i1\",\"bdata\":\"AAECAwQFBgcICQoLDA0ODxAREhMUFRYX\"},\"xaxis\":\"x2\",\"y\":{\"dtype\":\"f8\",\"bdata\":\"+eneeMKGND9D2skT3VIzP82n0P3PryQ\\u002f6V80I\\u002fz6gj\\u002fiT32ZzrZ1P8sFwRsnEIM\\u002fSpS1KTQcoD8GkXLqoiqwP9BgNTK0ebk\\u002fqq6K6eUGvj+infMsWIO6P\\u002fHnQyaB8rM\\u002fMSNVTACysT+EbFdbdEWyPwbUrMJEXLA\\u002fislcUqOmrz\\u002fQ5thnFmSvPyFe89JV6Kg\\u002fzF6fmMKzpT\\u002fVMXHh9p6cP4bp9bP1CpQ\\u002fnykrLJlbhz\\u002f3E8Ct4itrP3J8jcs211o\\u002f\"},\"yaxis\":\"y2\",\"type\":\"bar\"},{\"alignmentgroup\":\"True\",\"customdata\":{\"dtype\":\"f8\",\"bdata\":\"AAAAAAAAbEAAAAAAAABsQAAAAAAAYGJAAAAAAABgYkAAAAAAAABOQAAAAAAAAE5AAAAAAABcqUAAAAAAAFypQAAAAAAAHqJAAAAAAAAeokAAAAAAAH6xQAAAAAAAfrFAAAAAAADqykAAAAAAAOrKQAAAAADApNtAAAAAAMCk20AAAAAAADnnQAAAAAAAOedAAAAAAMDp60AAAAAAwOnrQAAAAABAUOpAAAAAAEBQ6kAAAAAAwBflQAAAAADAF+VAAAAAAMC040AAAAAAwLTjQAAAAACgEeRAAAAAAKAR5EAAAAAAIBLhQAAAAAAgEuFAAAAAAMBj30AAAAAAwGPfQAAAAADAXOFAAAAAAMBc4UAAAAAAYAXgQAAAAABgBeBAAAAAAIDc3EAAAAAAgNzcQAAAAABA7dBAAAAAAEDt0EAAAAAAAEvIQAAAAAAAS8hAAAAAAACKvEAAAAAAAIq8QAAAAAAAcJdAAAAAAABwl0AAAAAAALiEQAAAAAAAuIRA\",\"shape\":\"24, 2\"},\"hovertemplate\":\"source=model\\u003cbr\\u003epdpurp_label=Personal Business\\u003cbr\\u003etlvorg_hr=%{x}\\u003cbr\\u003epercentage=%{y}\\u003cbr\\u003etoexpfac=%{customdata[0]}\\u003cbr\\u003esample_count=%{customdata[1]}\\u003cextra\\u003e\\u003c\\u002fextra\\u003e\",\"legendgroup\":\"model\",\"marker\":{\"color\":\"#91268F\",\"pattern\":{\"shape\":\"\"}},\"name\":\"model\",\"offsetgroup\":\"model\",\"orientation\":\"v\",\"showlegend\":false,\"textposition\":\"auto\",\"x\":{\"dtype\":\"i1\",\"bdata\":\"AAECAwQFBgcICQoLDA0ODxAREhMUFRYX\"},\"xaxis\":\"x\",\"y\":{\"dtype\":\"f8\",\"bdata\":\"bG7M5SIuOz93KM7mRtYxP71R7WMlHx0\\u002fSwJFm+2deD8p64uUNZZxPyCkIc3k+oA\\u002f\\u002f5JQi0Ygmj\\u002fp0RHUjtWqP3DfhHHxirY\\u002fi0ARqokYuz+8crDrBou5P1wZ8ymoebQ\\u002fwEt\\u002f7wwhsz\\u002f8YkDTNHuzPzuWrlYtkrA\\u002fr2tQ\\u002f3p4rj9dwbADntqwP9MldE+XGq8\\u002fURieOC4ErD\\u002fcF7m4YW6gPxd5BMfrlJc\\u002fsUvLkRi0iz\\u002fbZxE2VcBmP9qynNK1HFQ\\u002f\"},\"yaxis\":\"y\",\"type\":\"bar\"},{\"alignmentgroup\":\"True\",\"customdata\":{\"dtype\":\"f8\",\"bdata\":\"AAAAAAAAAAAAAAAAAAAAABq0z6uRIHJAAAAAAAAA8D8AAAAAAAAAAAAAAAAAAAAA0tVLAlDizEAAAAAAAAA1QFx+yGLfb+5AAAAAAABAUEAuQN0sD\\u002f76QAAAAAAA4GBArA8JM8VMDEEAAAAAABB3QIZBGK0pGxVBAAAAAAAwg0ANQH1dWZoPQQAAAAAAgH9A+YjUBb7wAEEAAAAAAEByQGEesonUeeRAAAAAAABAZUCEyRpB0ojiQAAAAAAAwFhA5qvcbD1z3kAAAAAAAIBaQG\\u002ff5pEDXdhAAAAAAABAUUBmU3bxwKXaQAAAAAAAAE9AgbC4T1rc2kAAAAAAAABJQJeCMAPioNJAAAAAAACAQEAxWxC+\\u002fw\\u002fIQAAAAAAAAEFATRHVZ2+MnkAAAAAAAAAkQPuQBcY1TodAAAAAAAAAHEBH82UgB+1wQAAAAAAAABxAcAdvqEVzXEAAAAAAAAAIQNj+\\u002fAW9NXhAAAAAAAAAGEBl4E0BBGptQAAAAAAAAPA\\u002f\",\"shape\":\"24, 2\"},\"hovertemplate\":\"source=survey\\u003cbr\\u003epdpurp_label=Work\\u003cbr\\u003etlvorg_hr=%{x}\\u003cbr\\u003epercentage=%{y}\\u003cbr\\u003etoexpfac=%{customdata[0]}\\u003cbr\\u003esample_count=%{customdata[1]}\\u003cextra\\u003e\\u003c\\u002fextra\\u003e\",\"legendgroup\":\"survey\",\"marker\":{\"color\":\"#8CC63E\",\"pattern\":{\"shape\":\"\"}},\"name\":\"survey\",\"offsetgroup\":\"survey\",\"orientation\":\"v\",\"showlegend\":true,\"textposition\":\"auto\",\"x\":{\"dtype\":\"i1\",\"bdata\":\"AAECAwQFBgcICQoLDA0ODxAREhMUFRYX\"},\"xaxis\":\"x6\",\"y\":{\"dtype\":\"f8\",\"bdata\":\"AAAAAAAAAABVBBAde10rPwAAAAAAAAAAWo8YB0rNhT9lO8DvXvmmPzV6uE\\u002fFX7Q\\u002f26R312lcxT9TvIqMtNzPP9TEj9Sp2sc\\u002fTBqLptGSuT\\u002fDwkKoJ+meP3VIkaXc+ps\\u002fG7tvnOn7lj\\u002fMkXwfwGOSPyNiDfAdHZQ\\u002fpEQsLFRGlD8e12OFLx+MP1GCbnOeKYI\\u002fVa9CHO4OVz+lChBuWJdBP9nVYik2jSk\\u002fBydQlHl5FT9AE+vdGkYyP\\u002fUvgxG4MyY\\u002f\"},\"yaxis\":\"y6\",\"type\":\"bar\"},{\"alignmentgroup\":\"True\",\"customdata\":{\"dtype\":\"f8\",\"bdata\":\"AAAAAAAAAAAAAAAAAAAAAAAAAAAAAAAAAAAAAAAAAAAAAAAAAAAAAAAAAAAAAAAAAAAAAAAAAAAAAAAAAAAAABXug+gRrFVAAAAAAAAA8D+dwa9xRmZ8QAAAAAAAABBAuuUZIj6A4UAAAAAAAAA8QCh\\u002fbAZTjwZBAAAAAACgbEClPKxJ\\u002f8gFQQAAAAAAYHBA3tvEO9a66kAAAAAAAIBLQPdSYTBkncZAAAAAAAAAM0BSnx+6l9mwQAAAAAAAACxAsTXHA4G2tUAAAAAAAAAiQNHSt2HkTalAAAAAAAAAJkDb2blpikSlQAAAAAAAABhAafnaty14kEAAAAAAAAAQQIz1IaMZkq5AAAAAAAAAHECPuJ3iBiuLQAAAAAAAABRAE7jHjZGnl0AAAAAAAADwPwAAAAAAAAAAAAAAAAAAAAAAAAAAAAAAAAAAAAAAAAAAAAAAAAAAAAAAAAAAAAAAAAAAAAAAAAAAAAAAAAAAAAAAAAAAAAAAAAAAAAAAAAAA\",\"shape\":\"24, 2\"},\"hovertemplate\":\"source=survey\\u003cbr\\u003epdpurp_label=School\\u003cbr\\u003etlvorg_hr=%{x}\\u003cbr\\u003epercentage=%{y}\\u003cbr\\u003etoexpfac=%{customdata[0]}\\u003cbr\\u003esample_count=%{customdata[1]}\\u003cextra\\u003e\\u003c\\u002fextra\\u003e\",\"legendgroup\":\"survey\",\"marker\":{\"color\":\"#8CC63E\",\"pattern\":{\"shape\":\"\"}},\"name\":\"survey\",\"offsetgroup\":\"survey\",\"orientation\":\"v\",\"showlegend\":false,\"textposition\":\"auto\",\"x\":{\"dtype\":\"i1\",\"bdata\":\"AAECAwQFBgcICQoLDA0ODxAREhMUFRYX\"},\"xaxis\":\"x5\",\"y\":{\"dtype\":\"f8\",\"bdata\":\"AAAAAAAAAAAAAAAAAAAAAAAAAAAAAAAAAAAAAAAAAAD9tG2FdjonP1VySt9VcE4\\u002fpn10LfXBsj+93vIwCS7YP512mal3Wdc\\u002fZY\\u002fRLjSmvD\\u002f0GhfyHD2YPzIUcEpXD4I\\u002fbnbkbqVFhz951I2nDR97P4bYUuB\\u002fy3Y\\u002f2V7Ai+6mYT8eX+dRCWKAPx62WDFzHl0\\u002fF6gTX2daaT8AAAAAAAAAAAAAAAAAAAAAAAAAAAAAAAAAAAAAAAAAAAAAAAAAAAAA\"},\"yaxis\":\"y5\",\"type\":\"bar\"},{\"alignmentgroup\":\"True\",\"customdata\":{\"dtype\":\"f8\",\"bdata\":\"1QdIDa\\u002fwYUAAAAAAAADwPwAAAAAAAAAAAAAAAAAAAADR7iqYLNeBQAAAAAAAAPA\\u002fAAAAAAAAAAAAAAAAAAAAAAAAAAAAAAAAAAAAAAAAAACAp8IqHEaIQAAAAAAAABRA7Xrek5qhskAAAAAAAAAgQM6PcArzpcdAAAAAAAAAQkDzoDmFr7rRQAAAAAAAgEpAMzyLdM1I6kAAAAAAAMBcQNsW0zH1iu5AAAAAAABgZEC33pMGK2jxQAAAAAAAgF5AUAfsNpTl7EAAAAAAAABfQBAHTd2GBO1AAAAAAADgYEAcjmpqYqTuQAAAAAAAQGNAwYM7z9fE8EAAAAAAAMBbQKXgcywz5OpAAAAAAACAW0C8236fG8XbQAAAAAAAwF1ASnebqF5z7kAAAAAAAIBZQHBBIj8M99NAAAAAAABAVkBY3i6bbXK8QAAAAAAAAEBAZ5M5IQOOn0AAAAAAAAAsQL9tea\\u002fHWqJAAAAAAAAAHEBKD+y8mqKDQAAAAAAAAAhA\",\"shape\":\"24, 2\"},\"hovertemplate\":\"source=survey\\u003cbr\\u003epdpurp_label=Shop\\u003cbr\\u003etlvorg_hr=%{x}\\u003cbr\\u003epercentage=%{y}\\u003cbr\\u003etoexpfac=%{customdata[0]}\\u003cbr\\u003esample_count=%{customdata[1]}\\u003cextra\\u003e\\u003c\\u002fextra\\u003e\",\"legendgroup\":\"survey\",\"marker\":{\"color\":\"#8CC63E\",\"pattern\":{\"shape\":\"\"}},\"name\":\"survey\",\"offsetgroup\":\"survey\",\"orientation\":\"v\",\"showlegend\":false,\"textposition\":\"auto\",\"x\":{\"dtype\":\"i1\",\"bdata\":\"AAECAwQFBgcICQoLDA0ODxAREhMUFRYX\"},\"xaxis\":\"x4\",\"y\":{\"dtype\":\"f8\",\"bdata\":\"AWzaforQLD8AAAAAAAAAAOWBOJmRp0w\\u002fAAAAAAAAAAAAAAAAAAAAAMgENdBlflM\\u002fnHidf7PsfT9wikXTxv2SPybxHdPPeZw\\u002fO7eQCbwbtT8J4K4ONoe4P5LcarVG9bs\\u002fsa778M80tz+85NFsqk23P8A0kHOhm7g\\u002f9hI3m\\u002fPuuj+ZxMm\\u002fh5i1P+PN4fclTaY\\u002frp6mqER0uD+ZqJVJjgigPxz02mZW2IY\\u002fOPXTWEBXaT\\u002fczveO8nptP7SNtpp7iU8\\u002f\"},\"yaxis\":\"y4\",\"type\":\"bar\"},{\"alignmentgroup\":\"True\",\"customdata\":{\"dtype\":\"f8\",\"bdata\":\"S+8gLvrEg0AAAAAAAADwPwAAAAAAAAAAAAAAAAAAAAAAAAAAAAAAAAAAAAAAAAAAAAAAAAAAAAAAAAAAAAAAAMRVEpr8TzdAAAAAAAAA8D8g+\\u002fhVTwlHQAAAAAAAAABA9Mg1M47bpkAAAAAAAAAgQFJAubgdz9ZAAAAAAAAANEBgiJ9TBZnLQAAAAAAAAEZAWgmn1kz\\u002fzkAAAAAAAIBIQNKNFhfugNVAAAAAAACATEAbN5FlX7ngQAAAAAAAgFpAQvsd5Nai4kAAAAAAAABdQFo4W\\u002feeHMtAAAAAAACATkAa9BZkDw7KQAAAAAAAAENAv5KS4gNg3kAAAAAAAABMQIkSzmCCxdFAAAAAAACATEBzE711dwPdQAAAAAAAAFhAP6++QyeO40AAAAAAAABaQPebI3fYFOFAAAAAAACAS0BvPnUpTADLQAAAAAAAAEBAIkiIyhSarkAAAAAAAAAmQCRB862zG1BAAAAAAAAAAECW8Rw5KIKCQAAAAAAAAABA\",\"shape\":\"24, 2\"},\"hovertemplate\":\"source=survey\\u003cbr\\u003epdpurp_label=Meal\\u003cbr\\u003etlvorg_hr=%{x}\\u003cbr\\u003epercentage=%{y}\\u003cbr\\u003etoexpfac=%{customdata[0]}\\u003cbr\\u003esample_count=%{customdata[1]}\\u003cextra\\u003e\\u003c\\u002fextra\\u003e\",\"legendgroup\":\"survey\",\"marker\":{\"color\":\"#8CC63E\",\"pattern\":{\"shape\":\"\"}},\"name\":\"survey\",\"offsetgroup\":\"survey\",\"orientation\":\"v\",\"showlegend\":false,\"textposition\":\"auto\",\"x\":{\"dtype\":\"i1\",\"bdata\":\"AAECAwQFBgcICQoLDA0ODxAREhMUFRYX\"},\"xaxis\":\"x3\",\"y\":{\"dtype\":\"f8\",\"bdata\":\"V2\\u002fFfbiFXT8AAAAAAAAAAAAAAAAAAAAAAAAAAAAAAABgOf\\u002f0F2gRP0b3+FNSMyE\\u002fmUm0higRgT9DyrHI3gexPy1ZLjc2m6Q\\u002fbRW0FwUlpz+0\\u002fCtHWA6wP8oXuA2D+bg\\u002fEnIiznLUuz8xb+CdUz6kP\\u002fa3xdlOdKM\\u002f6xGHUhautj\\u002feQTPV7YmqP7wjo3rWqbU\\u002fZF7wstkzvT8VR5KEHIK5P8v7yq8tKaQ\\u002fkhPBcXHZhj9VYLGcDg4oP7ABBZeko1s\\u002f\"},\"yaxis\":\"y3\",\"type\":\"bar\"},{\"alignmentgroup\":\"True\",\"customdata\":{\"dtype\":\"f8\",\"bdata\":\"AAAAAAAAAAAAAAAAAAAAAAAAAAAAAAAAAAAAAAAAAAAAAAAAAAAAAAAAAAAAAAAAAAAAAAAAAAAAAAAAAAAAAI2cHv82rK9AAAAAAAAA8D8sAPvhXkusQAAAAAAAACBAsV\\u002f2nwVcy0AAAAAAAAAuQDNFaCSsdfNAAAAAAAAAXEBRihx+nTf6QAAAAAAAwGJABlgyxoYD4EAAAAAAAABHQGJNsNjzkrZAAAAAAAAAO0ADRZiCEWjDQAAAAAAAADdAk\\u002fj7DzBKykAAAAAAAABDQPeu60IUiONAAAAAAACAR0A80XSvYY\\u002frQAAAAAAAAFJApPhITjFg8EAAAAAAAEBUQBf2lv\\u002f3j+JAAAAAAACAS0AxhYnaJcHoQAAAAAAAgEpAwLee8\\u002fRlq0AAAAAAAAAxQIZjwHVZU8NAAAAAAAAAMEA4Pz6hrnegQAAAAAAAACBAxHQVY1SkdEAAAAAAAAAUQJQ4vZMi0LdAAAAAAAAAFEAAAAAAAAAAAAAAAAAAAAAA\",\"shape\":\"24, 2\"},\"hovertemplate\":\"source=survey\\u003cbr\\u003epdpurp_label=Escort\\u003cbr\\u003etlvorg_hr=%{x}\\u003cbr\\u003epercentage=%{y}\\u003cbr\\u003etoexpfac=%{customdata[0]}\\u003cbr\\u003esample_count=%{customdata[1]}\\u003cextra\\u003e\\u003c\\u002fextra\\u003e\",\"legendgroup\":\"survey\",\"marker\":{\"color\":\"#8CC63E\",\"pattern\":{\"shape\":\"\"}},\"name\":\"survey\",\"offsetgroup\":\"survey\",\"orientation\":\"v\",\"showlegend\":false,\"textposition\":\"auto\",\"x\":{\"dtype\":\"i1\",\"bdata\":\"AAECAwQFBgcICQoLDA0ODxAREhMUFRYX\"},\"xaxis\":\"x2\",\"y\":{\"dtype\":\"f8\",\"bdata\":\"AAAAAAAAAAAAAAAAAAAAAAAAAAAAAAAAAAAAAAAAAACkluduR3l+Pyrh9WYsOXs\\u002fiH5ro+JSmj+iyop1F7nCP3bTwi2MOck\\u002fLdWar63Qrj8HK7DVMLiFP5y2bKkArJI\\u002fryPFw2pLmT+HIZMzzcqyP2Im6\\u002fpMhLo\\u002fGydiuP6Cvz8S511XFdyxP9rmJ3NB0bc\\u002fvqcOsHFcej9aq2FlEZiSP8HjwBkysG8\\u002fwVofskrcQz\\u002fGcFLLXemGPwAAAAAAAAAA\"},\"yaxis\":\"y2\",\"type\":\"bar\"},{\"alignmentgroup\":\"True\",\"customdata\":{\"dtype\":\"f8\",\"bdata\":\"AAAAAAAAAAAAAAAAAAAAAAAAAAAAAAAAAAAAAAAAAAAAAAAAAAAAAAAAAAAAAAAAAAAAAAAAAAAAAAAAAAAAAAAAAAAAAAAAAAAAAAAAAACJibUBgyqiQAAAAAAAABRAsrguCNcuuUAAAAAAAAA1QDAy4SPGTuJAAAAAAAAAT0Ak97Nd\\u002fnfVQAAAAAAAAFFAtNChgy2M50AAAAAAAEBWQOXglL5c0NpAAAAAAABAV0BxEKsTBD3bQAAAAAAAQFJAhTMj87SM20AAAAAAAABVQL\\u002fkIYma89VAAAAAAACAVUAkjMiK0oDhQAAAAAAAQFRA6IEbeXp03kAAAAAAAABRQOQI8e6iNMNAAAAAAACASkDicyQgjvXdQAAAAAAAAEJArI5UQz+TpEAAAAAAAAA2QEKFZNd4t8lAAAAAAAAALkCdw\\u002fwZe2obQAAAAAAAAPA\\u002fhHDV2Rp5PUAAAAAAAADwP8JPxfSWrWhAAAAAAAAA8D8AAAAAAAAAAAAAAAAAAAAA\",\"shape\":\"24, 2\"},\"hovertemplate\":\"source=survey\\u003cbr\\u003epdpurp_label=Personal Business\\u003cbr\\u003etlvorg_hr=%{x}\\u003cbr\\u003epercentage=%{y}\\u003cbr\\u003etoexpfac=%{customdata[0]}\\u003cbr\\u003esample_count=%{customdata[1]}\\u003cextra\\u003e\\u003c\\u002fextra\\u003e\",\"legendgroup\":\"survey\",\"marker\":{\"color\":\"#8CC63E\",\"pattern\":{\"shape\":\"\"}},\"name\":\"survey\",\"offsetgroup\":\"survey\",\"orientation\":\"v\",\"showlegend\":false,\"textposition\":\"auto\",\"x\":{\"dtype\":\"i1\",\"bdata\":\"AAECAwQFBgcICQoLDA0ODxAREhMUFRYX\"},\"xaxis\":\"x\",\"y\":{\"dtype\":\"f8\",\"bdata\":\"AAAAAAAAAAAAAAAAAAAAAAAAAAAAAAAAAAAAAAAAAAAAAAAAAAAAAPLIKz\\u002f0hHs\\u002f+Kni2RUTkz\\u002fQ5cMN47u7P4N59qzgQrA\\u002fUg2odvnVwT8jiNI2VU+0P4oWxZ6hobQ\\u002fknpPB\\u002f7dtD9mwdYwgaCwP6iTUUflg7o\\u002fFovihFoRtz9k7xOwGRidP3i\\u002fsI83sbY\\u002fX8W2gDsrfz9uV8Zkk3qjP+hnc3cRxPQ+Lf4IHvRSFj9\\u002fZGyqL7FCPwAAAAAAAAAA\"},\"yaxis\":\"y\",\"type\":\"bar\"}],                        {\"template\":{\"data\":{\"barpolar\":[{\"marker\":{\"line\":{\"color\":\"white\",\"width\":0.5},\"pattern\":{\"fillmode\":\"overlay\",\"size\":10,\"solidity\":0.2}},\"type\":\"barpolar\"}],\"bar\":[{\"error_x\":{\"color\":\"rgb(36,36,36)\"},\"error_y\":{\"color\":\"rgb(36,36,36)\"},\"marker\":{\"line\":{\"color\":\"white\",\"width\":0.5},\"pattern\":{\"fillmode\":\"overlay\",\"size\":10,\"solidity\":0.2}},\"type\":\"bar\"}],\"carpet\":[{\"aaxis\":{\"endlinecolor\":\"rgb(36,36,36)\",\"gridcolor\":\"white\",\"linecolor\":\"white\",\"minorgridcolor\":\"white\",\"startlinecolor\":\"rgb(36,36,36)\"},\"baxis\":{\"endlinecolor\":\"rgb(36,36,36)\",\"gridcolor\":\"white\",\"linecolor\":\"white\",\"minorgridcolor\":\"white\",\"startlinecolor\":\"rgb(36,36,36)\"},\"type\":\"carpet\"}],\"choropleth\":[{\"colorbar\":{\"outlinewidth\":1,\"tickcolor\":\"rgb(36,36,36)\",\"ticks\":\"outside\"},\"type\":\"choropleth\"}],\"contourcarpet\":[{\"colorbar\":{\"outlinewidth\":1,\"tickcolor\":\"rgb(36,36,36)\",\"ticks\":\"outside\"},\"type\":\"contourcarpet\"}],\"contour\":[{\"colorbar\":{\"outlinewidth\":1,\"tickcolor\":\"rgb(36,36,36)\",\"ticks\":\"outside\"},\"colorscale\":[[0.0,\"#440154\"],[0.1111111111111111,\"#482878\"],[0.2222222222222222,\"#3e4989\"],[0.3333333333333333,\"#31688e\"],[0.4444444444444444,\"#26828e\"],[0.5555555555555556,\"#1f9e89\"],[0.6666666666666666,\"#35b779\"],[0.7777777777777778,\"#6ece58\"],[0.8888888888888888,\"#b5de2b\"],[1.0,\"#fde725\"]],\"type\":\"contour\"}],\"heatmap\":[{\"colorbar\":{\"outlinewidth\":1,\"tickcolor\":\"rgb(36,36,36)\",\"ticks\":\"outside\"},\"colorscale\":[[0.0,\"#440154\"],[0.1111111111111111,\"#482878\"],[0.2222222222222222,\"#3e4989\"],[0.3333333333333333,\"#31688e\"],[0.4444444444444444,\"#26828e\"],[0.5555555555555556,\"#1f9e89\"],[0.6666666666666666,\"#35b779\"],[0.7777777777777778,\"#6ece58\"],[0.8888888888888888,\"#b5de2b\"],[1.0,\"#fde725\"]],\"type\":\"heatmap\"}],\"histogram2dcontour\":[{\"colorbar\":{\"outlinewidth\":1,\"tickcolor\":\"rgb(36,36,36)\",\"ticks\":\"outside\"},\"colorscale\":[[0.0,\"#440154\"],[0.1111111111111111,\"#482878\"],[0.2222222222222222,\"#3e4989\"],[0.3333333333333333,\"#31688e\"],[0.4444444444444444,\"#26828e\"],[0.5555555555555556,\"#1f9e89\"],[0.6666666666666666,\"#35b779\"],[0.7777777777777778,\"#6ece58\"],[0.8888888888888888,\"#b5de2b\"],[1.0,\"#fde725\"]],\"type\":\"histogram2dcontour\"}],\"histogram2d\":[{\"colorbar\":{\"outlinewidth\":1,\"tickcolor\":\"rgb(36,36,36)\",\"ticks\":\"outside\"},\"colorscale\":[[0.0,\"#440154\"],[0.1111111111111111,\"#482878\"],[0.2222222222222222,\"#3e4989\"],[0.3333333333333333,\"#31688e\"],[0.4444444444444444,\"#26828e\"],[0.5555555555555556,\"#1f9e89\"],[0.6666666666666666,\"#35b779\"],[0.7777777777777778,\"#6ece58\"],[0.8888888888888888,\"#b5de2b\"],[1.0,\"#fde725\"]],\"type\":\"histogram2d\"}],\"histogram\":[{\"marker\":{\"line\":{\"color\":\"white\",\"width\":0.6}},\"type\":\"histogram\"}],\"mesh3d\":[{\"colorbar\":{\"outlinewidth\":1,\"tickcolor\":\"rgb(36,36,36)\",\"ticks\":\"outside\"},\"type\":\"mesh3d\"}],\"parcoords\":[{\"line\":{\"colorbar\":{\"outlinewidth\":1,\"tickcolor\":\"rgb(36,36,36)\",\"ticks\":\"outside\"}},\"type\":\"parcoords\"}],\"pie\":[{\"automargin\":true,\"type\":\"pie\"}],\"scatter3d\":[{\"line\":{\"colorbar\":{\"outlinewidth\":1,\"tickcolor\":\"rgb(36,36,36)\",\"ticks\":\"outside\"}},\"marker\":{\"colorbar\":{\"outlinewidth\":1,\"tickcolor\":\"rgb(36,36,36)\",\"ticks\":\"outside\"}},\"type\":\"scatter3d\"}],\"scattercarpet\":[{\"marker\":{\"colorbar\":{\"outlinewidth\":1,\"tickcolor\":\"rgb(36,36,36)\",\"ticks\":\"outside\"}},\"type\":\"scattercarpet\"}],\"scattergeo\":[{\"marker\":{\"colorbar\":{\"outlinewidth\":1,\"tickcolor\":\"rgb(36,36,36)\",\"ticks\":\"outside\"}},\"type\":\"scattergeo\"}],\"scattergl\":[{\"marker\":{\"colorbar\":{\"outlinewidth\":1,\"tickcolor\":\"rgb(36,36,36)\",\"ticks\":\"outside\"}},\"type\":\"scattergl\"}],\"scattermapbox\":[{\"marker\":{\"colorbar\":{\"outlinewidth\":1,\"tickcolor\":\"rgb(36,36,36)\",\"ticks\":\"outside\"}},\"type\":\"scattermapbox\"}],\"scattermap\":[{\"marker\":{\"colorbar\":{\"outlinewidth\":1,\"tickcolor\":\"rgb(36,36,36)\",\"ticks\":\"outside\"}},\"type\":\"scattermap\"}],\"scatterpolargl\":[{\"marker\":{\"colorbar\":{\"outlinewidth\":1,\"tickcolor\":\"rgb(36,36,36)\",\"ticks\":\"outside\"}},\"type\":\"scatterpolargl\"}],\"scatterpolar\":[{\"marker\":{\"colorbar\":{\"outlinewidth\":1,\"tickcolor\":\"rgb(36,36,36)\",\"ticks\":\"outside\"}},\"type\":\"scatterpolar\"}],\"scatter\":[{\"fillpattern\":{\"fillmode\":\"overlay\",\"size\":10,\"solidity\":0.2},\"type\":\"scatter\"}],\"scatterternary\":[{\"marker\":{\"colorbar\":{\"outlinewidth\":1,\"tickcolor\":\"rgb(36,36,36)\",\"ticks\":\"outside\"}},\"type\":\"scatterternary\"}],\"surface\":[{\"colorbar\":{\"outlinewidth\":1,\"tickcolor\":\"rgb(36,36,36)\",\"ticks\":\"outside\"},\"colorscale\":[[0.0,\"#440154\"],[0.1111111111111111,\"#482878\"],[0.2222222222222222,\"#3e4989\"],[0.3333333333333333,\"#31688e\"],[0.4444444444444444,\"#26828e\"],[0.5555555555555556,\"#1f9e89\"],[0.6666666666666666,\"#35b779\"],[0.7777777777777778,\"#6ece58\"],[0.8888888888888888,\"#b5de2b\"],[1.0,\"#fde725\"]],\"type\":\"surface\"}],\"table\":[{\"cells\":{\"fill\":{\"color\":\"rgb(237,237,237)\"},\"line\":{\"color\":\"white\"}},\"header\":{\"fill\":{\"color\":\"rgb(217,217,217)\"},\"line\":{\"color\":\"white\"}},\"type\":\"table\"}]},\"layout\":{\"annotationdefaults\":{\"arrowhead\":0,\"arrowwidth\":1},\"autotypenumbers\":\"strict\",\"coloraxis\":{\"colorbar\":{\"outlinewidth\":1,\"tickcolor\":\"rgb(36,36,36)\",\"ticks\":\"outside\"}},\"colorscale\":{\"diverging\":[[0.0,\"rgb(103,0,31)\"],[0.1,\"rgb(178,24,43)\"],[0.2,\"rgb(214,96,77)\"],[0.3,\"rgb(244,165,130)\"],[0.4,\"rgb(253,219,199)\"],[0.5,\"rgb(247,247,247)\"],[0.6,\"rgb(209,229,240)\"],[0.7,\"rgb(146,197,222)\"],[0.8,\"rgb(67,147,195)\"],[0.9,\"rgb(33,102,172)\"],[1.0,\"rgb(5,48,97)\"]],\"sequential\":[[0.0,\"#440154\"],[0.1111111111111111,\"#482878\"],[0.2222222222222222,\"#3e4989\"],[0.3333333333333333,\"#31688e\"],[0.4444444444444444,\"#26828e\"],[0.5555555555555556,\"#1f9e89\"],[0.6666666666666666,\"#35b779\"],[0.7777777777777778,\"#6ece58\"],[0.8888888888888888,\"#b5de2b\"],[1.0,\"#fde725\"]],\"sequentialminus\":[[0.0,\"#440154\"],[0.1111111111111111,\"#482878\"],[0.2222222222222222,\"#3e4989\"],[0.3333333333333333,\"#31688e\"],[0.4444444444444444,\"#26828e\"],[0.5555555555555556,\"#1f9e89\"],[0.6666666666666666,\"#35b779\"],[0.7777777777777778,\"#6ece58\"],[0.8888888888888888,\"#b5de2b\"],[1.0,\"#fde725\"]]},\"colorway\":[\"#91268F\",\"#8CC63E\",\"#00A7A0\",\"#F05A28\",\"#4C4C4C\",\"#630460\",\"#9f3913\",\"#588527\",\"#00716c\",\"#3e4040\"],\"font\":{\"color\":\"rgb(36,36,36)\",\"family\":\"Poppins\",\"size\":11},\"geo\":{\"bgcolor\":\"white\",\"lakecolor\":\"white\",\"landcolor\":\"white\",\"showlakes\":true,\"showland\":true,\"subunitcolor\":\"white\"},\"hoverlabel\":{\"align\":\"left\"},\"hovermode\":\"closest\",\"mapbox\":{\"style\":\"light\"},\"paper_bgcolor\":\"white\",\"plot_bgcolor\":\"white\",\"polar\":{\"angularaxis\":{\"gridcolor\":\"rgb(232,232,232)\",\"linecolor\":\"rgb(36,36,36)\",\"showgrid\":false,\"showline\":true,\"ticks\":\"outside\"},\"bgcolor\":\"white\",\"radialaxis\":{\"gridcolor\":\"rgb(232,232,232)\",\"linecolor\":\"rgb(36,36,36)\",\"showgrid\":false,\"showline\":true,\"ticks\":\"outside\"}},\"scene\":{\"xaxis\":{\"backgroundcolor\":\"white\",\"gridcolor\":\"rgb(232,232,232)\",\"gridwidth\":2,\"linecolor\":\"rgb(36,36,36)\",\"showbackground\":true,\"showgrid\":false,\"showline\":true,\"ticks\":\"outside\",\"zeroline\":false,\"zerolinecolor\":\"rgb(36,36,36)\"},\"yaxis\":{\"backgroundcolor\":\"white\",\"gridcolor\":\"rgb(232,232,232)\",\"gridwidth\":2,\"linecolor\":\"rgb(36,36,36)\",\"showbackground\":true,\"showgrid\":false,\"showline\":true,\"ticks\":\"outside\",\"zeroline\":false,\"zerolinecolor\":\"rgb(36,36,36)\"},\"zaxis\":{\"backgroundcolor\":\"white\",\"gridcolor\":\"rgb(232,232,232)\",\"gridwidth\":2,\"linecolor\":\"rgb(36,36,36)\",\"showbackground\":true,\"showgrid\":false,\"showline\":true,\"ticks\":\"outside\",\"zeroline\":false,\"zerolinecolor\":\"rgb(36,36,36)\"}},\"shapedefaults\":{\"fillcolor\":\"black\",\"line\":{\"width\":0},\"opacity\":0.3},\"ternary\":{\"aaxis\":{\"gridcolor\":\"rgb(232,232,232)\",\"linecolor\":\"rgb(36,36,36)\",\"showgrid\":false,\"showline\":true,\"ticks\":\"outside\"},\"baxis\":{\"gridcolor\":\"rgb(232,232,232)\",\"linecolor\":\"rgb(36,36,36)\",\"showgrid\":false,\"showline\":true,\"ticks\":\"outside\"},\"bgcolor\":\"white\",\"caxis\":{\"gridcolor\":\"rgb(232,232,232)\",\"linecolor\":\"rgb(36,36,36)\",\"showgrid\":false,\"showline\":true,\"ticks\":\"outside\"}},\"title\":{\"x\":0.05},\"xaxis\":{\"automargin\":true,\"gridcolor\":\"rgb(232,232,232)\",\"linecolor\":\"rgb(36,36,36)\",\"showgrid\":false,\"showline\":true,\"ticks\":\"outside\",\"title\":{\"standoff\":15},\"zeroline\":false,\"zerolinecolor\":\"rgb(36,36,36)\"},\"yaxis\":{\"automargin\":true,\"gridcolor\":\"rgb(232,232,232)\",\"linecolor\":\"rgb(36,36,36)\",\"showgrid\":false,\"showline\":true,\"ticks\":\"outside\",\"title\":{\"standoff\":15},\"zeroline\":false,\"zerolinecolor\":\"rgb(36,36,36)\"}}},\"xaxis\":{\"anchor\":\"y\",\"domain\":[0.0,0.98],\"title\":{\"text\":\"tlvorg_hr\"},\"dtick\":1,\"categoryorder\":\"category ascending\"},\"yaxis\":{\"anchor\":\"x\",\"domain\":[0.0,0.14166666666666666],\"title\":{\"text\":\"percentage\"},\"tickformat\":\".0%\"},\"xaxis2\":{\"anchor\":\"y2\",\"domain\":[0.0,0.98],\"matches\":\"x\",\"showticklabels\":false,\"dtick\":1,\"categoryorder\":\"category ascending\"},\"yaxis2\":{\"anchor\":\"x2\",\"domain\":[0.17166666666666666,0.31333333333333335],\"matches\":\"y\",\"title\":{\"text\":\"percentage\"},\"tickformat\":\".0%\"},\"xaxis3\":{\"anchor\":\"y3\",\"domain\":[0.0,0.98],\"matches\":\"x\",\"showticklabels\":false,\"dtick\":1,\"categoryorder\":\"category ascending\"},\"yaxis3\":{\"anchor\":\"x3\",\"domain\":[0.3433333333333333,0.485],\"matches\":\"y\",\"title\":{\"text\":\"percentage\"},\"tickformat\":\".0%\"},\"xaxis4\":{\"anchor\":\"y4\",\"domain\":[0.0,0.98],\"matches\":\"x\",\"showticklabels\":false,\"dtick\":1,\"categoryorder\":\"category ascending\"},\"yaxis4\":{\"anchor\":\"x4\",\"domain\":[0.515,0.6566666666666667],\"matches\":\"y\",\"title\":{\"text\":\"percentage\"},\"tickformat\":\".0%\"},\"xaxis5\":{\"anchor\":\"y5\",\"domain\":[0.0,0.98],\"matches\":\"x\",\"showticklabels\":false,\"dtick\":1,\"categoryorder\":\"category ascending\"},\"yaxis5\":{\"anchor\":\"x5\",\"domain\":[0.6866666666666666,0.8283333333333334],\"matches\":\"y\",\"title\":{\"text\":\"percentage\"},\"tickformat\":\".0%\"},\"xaxis6\":{\"anchor\":\"y6\",\"domain\":[0.0,0.98],\"matches\":\"x\",\"showticklabels\":false,\"dtick\":1,\"categoryorder\":\"category ascending\"},\"yaxis6\":{\"anchor\":\"x6\",\"domain\":[0.8583333333333333,1.0],\"matches\":\"y\",\"title\":{\"text\":\"percentage\"},\"tickformat\":\".0%\"},\"annotations\":[{\"font\":{},\"showarrow\":false,\"text\":\"Personal Business\",\"textangle\":90,\"x\":0.98,\"xanchor\":\"left\",\"xref\":\"paper\",\"y\":0.07083333333333333,\"yanchor\":\"middle\",\"yref\":\"paper\"},{\"font\":{},\"showarrow\":false,\"text\":\"Escort\",\"textangle\":90,\"x\":0.98,\"xanchor\":\"left\",\"xref\":\"paper\",\"y\":0.2425,\"yanchor\":\"middle\",\"yref\":\"paper\"},{\"font\":{},\"showarrow\":false,\"text\":\"Meal\",\"textangle\":90,\"x\":0.98,\"xanchor\":\"left\",\"xref\":\"paper\",\"y\":0.4141666666666667,\"yanchor\":\"middle\",\"yref\":\"paper\"},{\"font\":{},\"showarrow\":false,\"text\":\"Shop\",\"textangle\":90,\"x\":0.98,\"xanchor\":\"left\",\"xref\":\"paper\",\"y\":0.5858333333333334,\"yanchor\":\"middle\",\"yref\":\"paper\"},{\"font\":{},\"showarrow\":false,\"text\":\"School\",\"textangle\":90,\"x\":0.98,\"xanchor\":\"left\",\"xref\":\"paper\",\"y\":0.7575000000000001,\"yanchor\":\"middle\",\"yref\":\"paper\"},{\"font\":{},\"showarrow\":false,\"text\":\"Work\",\"textangle\":90,\"x\":0.98,\"xanchor\":\"left\",\"xref\":\"paper\",\"y\":0.9291666666666667,\"yanchor\":\"middle\",\"yref\":\"paper\"}],\"legend\":{\"title\":{\"text\":\"source\"},\"tracegroupgap\":0},\"title\":{\"text\":\"tour origin departure hour by purpose\"},\"barmode\":\"group\",\"height\":1500,\"width\":850},                        {\"responsive\": true}                    ).then(function(){\n",
       "                            \n",
       "var gd = document.getElementById('fecd8b28-52d9-4013-afe4-e40c099e4713');\n",
       "var x = new MutationObserver(function (mutations, observer) {{\n",
       "        var display = window.getComputedStyle(gd).display;\n",
       "        if (!display || display === 'none') {{\n",
       "            console.log([gd, 'removed!']);\n",
       "            Plotly.purge(gd);\n",
       "            observer.disconnect();\n",
       "        }}\n",
       "}});\n",
       "\n",
       "// Listen for the removal of the full notebook cells\n",
       "var notebookContainer = gd.closest('#notebook-container');\n",
       "if (notebookContainer) {{\n",
       "    x.observe(notebookContainer, {childList: true});\n",
       "}}\n",
       "\n",
       "// Listen for the clearing of the current output cell\n",
       "var outputEl = gd.closest('.output');\n",
       "if (outputEl) {{\n",
       "    x.observe(outputEl, {childList: true});\n",
       "}}\n",
       "\n",
       "                        })                };            </script>        </div>"
      ]
     },
     "metadata": {},
     "output_type": "display_data"
    }
   ],
   "source": [
    "df_plot = df_tour.groupby(['tlvorg_hr','pdpurp_label','source'])['toexpfac'].agg(sample_count='size', toexpfac='sum').reset_index()\n",
    "df_plot['percentage'] = df_plot.groupby(['pdpurp_label','source'], group_keys=False)['toexpfac']. \\\n",
    "    apply(lambda x: x / float(x.sum()))\n",
    "\n",
    "fig = px.bar(df_plot.sort_values(['source','pdpurp_label']),\n",
    "             x=\"tlvorg_hr\", y=\"percentage\", color=\"source\",barmode=\"group\",\n",
    "             facet_row='pdpurp_label',\n",
    "             hover_data=['toexpfac','sample_count'],\n",
    "             title=\"tour origin departure hour by purpose\")\n",
    "fig.update_layout(height=1500, width=850)\n",
    "fig.for_each_annotation(lambda a: a.update(text = a.text.split(\"=\")[-1]))\n",
    "fig.for_each_xaxis(lambda a: a.update(dict(dtick = 1, categoryorder='category ascending')))\n",
    "fig.for_each_yaxis(lambda a: a.update(dict(tickformat=\".0%\")))\n",
    "fig.show()"
   ]
  },
  {
   "cell_type": "raw",
   "metadata": {
    "vscode": {
     "languageId": "raw"
    }
   },
   "source": [
    "### trip"
   ]
  },
  {
   "cell_type": "code",
   "execution_count": 7,
   "metadata": {
    "execution": {
     "iopub.execute_input": "2025-06-06T18:51:55.434088Z",
     "iopub.status.busy": "2025-06-06T18:51:55.434088Z",
     "iopub.status.idle": "2025-06-06T18:51:57.745932Z",
     "shell.execute_reply": "2025-06-06T18:51:57.744931Z"
    }
   },
   "outputs": [
    {
     "name": "stderr",
     "output_type": "stream",
     "text": [
      "C:\\Users\\Modeller\\AppData\\Local\\Temp\\ipykernel_13868\\80562895.py:1: FutureWarning:\n",
      "\n",
      "The default of observed=False is deprecated and will be changed to True in a future version of pandas. Pass observed=False to retain current behavior or observed=True to adopt the future default and silence this warning.\n",
      "\n"
     ]
    },
    {
     "name": "stderr",
     "output_type": "stream",
     "text": [
      "C:\\Users\\Modeller\\AppData\\Local\\Temp\\ipykernel_13868\\80562895.py:2: FutureWarning:\n",
      "\n",
      "The default of observed=False is deprecated and will be changed to True in a future version of pandas. Pass observed=False to retain current behavior or observed=True to adopt the future default and silence this warning.\n",
      "\n"
     ]
    },
    {
     "data": {
      "application/vnd.plotly.v1+json": {
       "config": {
        "plotlyServerURL": "https://plot.ly"
       },
       "data": [
        {
         "alignmentgroup": "True",
         "customdata": {
          "bdata": "AAAAAAABs0AAAAAAAAGzQAAAAAAANqtAAAAAAAA2q0AAAAAAAESTQAAAAAAARJNAAAAAAMDz2kAAAAAAwPPaQAAAAABgtONAAAAAAGC040AAAAAAEMX7QAAAAAAQxftAAAAAAPgQE0EAAAAA+BATQQAAAACg8RtBAAAAAKDxG0EAAAAABKMZQQAAAAAEoxlBAAAAABClDkEAAAAAEKUOQQAAAAB4UgVBAAAAAHhSBUEAAAAASE4FQQAAAABITgVBAAAAAIirBEEAAAAAiKsEQQAAAABYMgFBAAAAAFgyAUEAAAAAkCX/QAAAAACQJf9AAAAAAJDr/EAAAAAAkOv8QAAAAABgqf1AAAAAAGCp/UAAAAAAAAP5QAAAAAAAA/lAAAAAAIA980AAAAAAgD3zQAAAAADgHuVAAAAAAOAe5UAAAAAA4AHgQAAAAADgAeBAAAAAAIAS2EAAAAAAgBLYQAAAAAAA18pAAAAAAADXykAAAAAAgIDEQAAAAACAgMRA",
          "dtype": "f8",
          "shape": "24, 2"
         },
         "hovertemplate": "source=model<br>dpurp_label=Work<br>dept_hr=%{x}<br>percentage=%{y}<br>trexpfac=%{customdata[0]}<br>sample_count=%{customdata[1]}<extra></extra>",
         "legendgroup": "model",
         "marker": {
          "color": "#91268F",
          "pattern": {
           "shape": ""
          }
         },
         "name": "model",
         "offsetgroup": "model",
         "orientation": "v",
         "showlegend": true,
         "textposition": "auto",
         "type": "bar",
         "x": {
          "bdata": "AAECAwQFBgcICQoLDA0ODxAREhMUFRYX",
          "dtype": "i1"
         },
         "xaxis": "x6",
         "y": {
          "bdata": "XLQ0onLgWj9JgIx16z1TP4IdMkc0Pzs/+J1GaBIPgz8i6AokIt6LP2gro6kVo6M/RgOTMAj3uj8Io+ivmMLDP+CwuVP0IMI/CYAeromrtT/n22OaxieuP1UFFIDaIa4/bZC/Ja47rT/mY53nH1KoP/GN0KxnBqY/OlggLFZzpD/mirdlj/mkP1RKmSXNr6E/qouu7AI2mz9Hhu/bzt6NP4Pf0aeFo4Y/PkAXG7wFgT+qzBngvfpyPxNRh37S/mw/",
          "dtype": "f8"
         },
         "yaxis": "y6"
        },
        {
         "alignmentgroup": "True",
         "customdata": {
          "bdata": "AAAAAAAAIkAAAAAAAAAiQAAAAAAAABRAAAAAAAAAFEAAAAAAAADwPwAAAAAAAPA/AAAAAACohEAAAAAAAKiEQAAAAAAAAIpAAAAAAAAAikAAAAAAAC+7QAAAAAAAL7tAAAAAAMCt7kAAAAAAwK3uQAAAAABI4gdBAAAAAEjiB0EAAAAAmLYLQQAAAACYtgtBAAAAAOAs/UAAAAAA4Cz9QAAAAACAM+xAAAAAAIAz7EAAAAAAQJDjQAAAAABAkONAAAAAAMCV20AAAAAAwJXbQAAAAAAAadRAAAAAAABp1EAAAAAAwKTQQAAAAADApNBAAAAAAABu0EAAAAAAAG7QQAAAAACATsdAAAAAAIBOx0AAAAAAgOvDQAAAAACA68NAAAAAAAB3u0AAAAAAAHe7QAAAAAAACKJAAAAAAAAIokAAAAAAACCdQAAAAAAAIJ1AAAAAAACckEAAAAAAAJyQQAAAAAAAQFZAAAAAAABAVkAAAAAAAIBMQAAAAAAAgExA",
          "dtype": "f8",
          "shape": "24, 2"
         },
         "hovertemplate": "source=model<br>dpurp_label=School<br>dept_hr=%{x}<br>percentage=%{y}<br>trexpfac=%{customdata[0]}<br>sample_count=%{customdata[1]}<extra></extra>",
         "legendgroup": "model",
         "marker": {
          "color": "#91268F",
          "pattern": {
           "shape": ""
          }
         },
         "name": "model",
         "offsetgroup": "model",
         "orientation": "v",
         "showlegend": false,
         "textposition": "auto",
         "type": "bar",
         "x": {
          "bdata": "AAECAwQFBgcICQoLDA0ODxAREhMUFRYX",
          "dtype": "i1"
         },
         "xaxis": "x5",
         "y": {
          "bdata": "lrpaPXrF5j78eQ99Mk3ZPjD7pf3BPbQ+ysj28bohSj8X3BaeLXJQP7qX8GLWMYE/t9YaMc1nsz/8VqZGCjfOP8ogsBKbh9E/Zx/paFp0wj/rciUindaxP7bmJybTv6g/rgrVr9RyoT89CyDGB9KZP0fEJectDpU/T9BVk+rIlD9uD2PcFXyNP1N9glxDM4k/L01rV2FfgT+UjVkemc9mP58R3I81bGI/gQ0PIRwDVT9P0brE4SUcP7fT58UABxI/",
          "dtype": "f8"
         },
         "yaxis": "y5"
        },
        {
         "alignmentgroup": "True",
         "customdata": {
          "bdata": "AAAAAAAUl0AAAAAAABSXQAAAAAAAKI9AAAAAAAAoj0AAAAAAADB6QAAAAAAAMHpAAAAAAICcw0AAAAAAgJzDQAAAAACA1cRAAAAAAIDVxEAAAAAAwKDQQAAAAADAoNBAAAAAAOAm5UAAAAAA4CblQAAAAACAgPZAAAAAAICA9kAAAAAAWGwCQQAAAABYbAJBAAAAAAhvCUEAAAAACG8JQQAAAACQ6w1BAAAAAJDrDUEAAAAAGA8MQQAAAAAYDwxBAAAAAFBVCkEAAAAAUFUKQQAAAABQOA1BAAAAAFA4DUEAAAAAYEEKQQAAAABgQQpBAAAAAHChDUEAAAAAcKENQQAAAABwzg9BAAAAAHDOD0EAAAAAwJQKQQAAAADAlApBAAAAAIj1BEEAAAAAiPUEQQAAAABAIf1AAAAAAEAh/UAAAAAAYLLzQAAAAABgsvNAAAAAAAB/3EAAAAAAAH/cQAAAAAAAOchAAAAAAAA5yEAAAAAAAKC+QAAAAAAAoL5A",
          "dtype": "f8",
          "shape": "24, 2"
         },
         "hovertemplate": "source=model<br>dpurp_label=Shop<br>dept_hr=%{x}<br>percentage=%{y}<br>trexpfac=%{customdata[0]}<br>sample_count=%{customdata[1]}<extra></extra>",
         "legendgroup": "model",
         "marker": {
          "color": "#91268F",
          "pattern": {
           "shape": ""
          }
         },
         "name": "model",
         "offsetgroup": "model",
         "orientation": "v",
         "showlegend": false,
         "textposition": "auto",
         "type": "bar",
         "x": {
          "bdata": "AAECAwQFBgcICQoLDA0ODxAREhMUFRYX",
          "dtype": "i1"
         },
         "xaxis": "x4",
         "y": {
          "bdata": "mGw8G2wlQT/CWSBi3iU3P76i/AbSdCM/npumEBYkbT92kVVCLvVuP0MSBAU2tXg/dh4vDBlujz8JsenX1begP2aSSgEiYKs/7DpernPlsj/j37J6xDq2P0K8gOPE2LQ/SKUJzoqQsz+9JNZql7W1PzB4cLm6gbM/ssz9BbIDtj+lXkKHhqG3PzkG8YOsv7M/wCD718Ykrz/gD4b3dKSlP2dIpz6XRJ0/wnQRR+krhT8vHE48HP9xP4JZ32bTwGY/",
          "dtype": "f8"
         },
         "yaxis": "y4"
        },
        {
         "alignmentgroup": "True",
         "customdata": {
          "bdata": "AAAAAAB8k0AAAAAAAHyTQAAAAAAA0IxAAAAAAADQjEAAAAAAADB1QAAAAAAAMHVAAAAAAADVtkAAAAAAANW2QAAAAAAAgbpAAAAAAACBukAAAAAAgNzJQAAAAACA3MlAAAAAAOCR4EAAAAAA4JHgQAAAAAAggelAAAAAACCB6UAAAAAAUBPyQAAAAABQE/JAAAAAAOAb9kAAAAAA4Bv2QAAAAACwrfxAAAAAALCt/EAAAAAAQNH+QAAAAABA0f5AAAAAAPDb/UAAAAAA8Nv9QAAAAADAA/9AAAAAAMAD/0AAAAAAwI/7QAAAAADAj/tAAAAAACCs+UAAAAAAIKz5QAAAAABg2/xAAAAAAGDb/EAAAAAAgGf8QAAAAACAZ/xAAAAAAICU90AAAAAAgJT3QAAAAABQC/BAAAAAAFAL8EAAAAAAoMvnQAAAAACgy+dAAAAAAAB220AAAAAAAHbbQAAAAACAG8ZAAAAAAIAbxkAAAAAAAFW3QAAAAAAAVbdA",
          "dtype": "f8",
          "shape": "24, 2"
         },
         "hovertemplate": "source=model<br>dpurp_label=Meal<br>dept_hr=%{x}<br>percentage=%{y}<br>trexpfac=%{customdata[0]}<br>sample_count=%{customdata[1]}<extra></extra>",
         "legendgroup": "model",
         "marker": {
          "color": "#91268F",
          "pattern": {
           "shape": ""
          }
         },
         "name": "model",
         "offsetgroup": "model",
         "orientation": "v",
         "showlegend": false,
         "textposition": "auto",
         "type": "bar",
         "x": {
          "bdata": "AAECAwQFBgcICQoLDA0ODxAREhMUFRYX",
          "dtype": "i1"
         },
         "xaxis": "x3",
         "y": {
          "bdata": "rDqu+TGWSz+DT4Rnm2VEP3mnMQuA/y0/mTQgpsgpcD8vJb0pOsNyPxV7TkzGToI/vXyLxc11lz/+MfyqFg6iP9noyT6Fl6k/v6nC8nVNrz/Wq0sMUU20P3M+Pzzy0LU/fuev80gjtT9xXr80svS1PzWtc2nlgrM/Nidfb4cssj9i0PTcqG20P5P7/iqhG7Q/rHiRpVmxsD/8vVIESbemPwpzActf2KA/XJog0Kpwkz94JSYH7kx/P4wOI7llhHA/",
          "dtype": "f8"
         },
         "yaxis": "y3"
        },
        {
         "alignmentgroup": "True",
         "customdata": {
          "bdata": "AAAAAADqpEAAAAAAAOqkQAAAAAAA7J1AAAAAAADsnUAAAAAAAAiIQAAAAAAACIhAAAAAAMBP3kAAAAAAwE/eQAAAAABAJd1AAAAAAEAl3UAAAAAAQCPqQAAAAABAI+pAAAAAAKDFAUEAAAAAoMUBQQAAAABQoQVBAAAAAFChBUEAAAAAgJ4DQQAAAACAngNBAAAAAMAYAUEAAAAAwBgBQQAAAACAWQBBAAAAAIBZAEEAAAAAkD/7QAAAAACQP/tAAAAAAECS+UAAAAAAQJL5QAAAAABwePxAAAAAAHB4/EAAAAAA8ID8QAAAAADwgPxAAAAAAOgwA0EAAAAA6DADQQAAAAAQDQZBAAAAABANBkEAAAAAAH0DQQAAAAAAfQNBAAAAAMDj+kAAAAAAwOP6QAAAAABALfBAAAAAAEAt8EAAAAAAYPTnQAAAAABg9OdAAAAAAMDI2UAAAAAAwMjZQAAAAAAAp8xAAAAAAACnzEAAAAAAAFbGQAAAAAAAVsZA",
          "dtype": "f8",
          "shape": "24, 2"
         },
         "hovertemplate": "source=model<br>dpurp_label=Escort<br>dept_hr=%{x}<br>percentage=%{y}<br>trexpfac=%{customdata[0]}<br>sample_count=%{customdata[1]}<extra></extra>",
         "legendgroup": "model",
         "marker": {
          "color": "#91268F",
          "pattern": {
           "shape": ""
          }
         },
         "name": "model",
         "offsetgroup": "model",
         "orientation": "v",
         "showlegend": false,
         "textposition": "auto",
         "type": "bar",
         "x": {
          "bdata": "AAECAwQFBgcICQoLDA0ODxAREhMUFRYX",
          "dtype": "i1"
         },
         "xaxis": "x2",
         "y": {
          "bdata": "IgS8437cVD+88S7krdhNP299up17+Dc/5sBuey08jj99lLU5bhKNP19DS2tfEpo/r2GIRya6sT86+wmGWJO1P1yo7/DUkbM/ksnm57UNsT8W96tl8U6wP2zLONb3Las/RHPnC72BqT93LL/PDWasP6q4sFKIbqw/EsPdtIMksz/f1eHy0v61P0j4gpJqcLM/p9flHmPSqj+U9zr4zSKgP0WBwUno5Jc/fEED2xm4iT9LH+6+f5R8P40OQtqTR3Y/",
          "dtype": "f8"
         },
         "yaxis": "y2"
        },
        {
         "alignmentgroup": "True",
         "customdata": {
          "bdata": "AAAAAADIhUAAAAAAAMiFQAAAAAAAEHxAAAAAAAAQfEAAAAAAAEBkQAAAAAAAQGRAAAAAAACZuEAAAAAAAJm4QAAAAAAAebhAAAAAAAB5uEAAAAAAAKLGQAAAAAAAosZAAAAAAMD73UAAAAAAwPvdQAAAAABgIetAAAAAAGAh60AAAAAAMDX1QAAAAAAwNfVAAAAAAGBK+kAAAAAAYEr6QAAAAACQP/tAAAAAAJA/+0AAAAAAIEX3QAAAAAAgRfdAAAAAAACY9UAAAAAAAJj1QAAAAADQYPdAAAAAANBg90AAAAAAIPfzQAAAAAAg9/NAAAAAAADI9EAAAAAAAMj0QAAAAACAg/ZAAAAAAICD9kAAAAAAcCPyQAAAAABwI/JAAAAAACB17EAAAAAAIHXsQAAAAACAfuBAAAAAAIB+4EAAAAAAgLvXQAAAAACAu9dAAAAAAIAEykAAAAAAgATKQAAAAAAANrNAAAAAAAA2s0AAAAAAAP6mQAAAAAAA/qZA",
          "dtype": "f8",
          "shape": "24, 2"
         },
         "hovertemplate": "source=model<br>dpurp_label=Personal Business<br>dept_hr=%{x}<br>percentage=%{y}<br>trexpfac=%{customdata[0]}<br>sample_count=%{customdata[1]}<extra></extra>",
         "legendgroup": "model",
         "marker": {
          "color": "#91268F",
          "pattern": {
           "shape": ""
          }
         },
         "name": "model",
         "offsetgroup": "model",
         "orientation": "v",
         "showlegend": false,
         "textposition": "auto",
         "type": "bar",
         "x": {
          "bdata": "AAECAwQFBgcICQoLDA0ODxAREhMUFRYX",
          "dtype": "i1"
         },
         "xaxis": "x",
         "y": {
          "bdata": "6vktv1WMQz8XMUmYei85P/cvzhOGLCI/yCg+kWoTdj9H6VpusvZ1P4wa2iz8T4Q//1ppQNDomj+GmCB8UVmoPw5jHvOSCLM/18W5UVyYtz/u+AkxaXS4P0iJstZi4rQ/qBrZikFhsz+6KOIoPPu0P1eqWrwe67E/3v0TqJSmsj8FgpmrnDS0P7BhdophR7A/x1SJfjyKqT+fLxS3MpudPzQtwf+fTJU/LI6LPaZZhz8SMM1xyz1xPyFxJ5GNomQ/",
          "dtype": "f8"
         },
         "yaxis": "y"
        },
        {
         "alignmentgroup": "True",
         "customdata": {
          "bdata": "lP8gOXEliUAAAAAAAAAIQMwA3Xn/koFAAAAAAAAAAEAAAAAAAAAAAAAAAAAAAAAAQFWDdI9+yEAAAAAAAAA2QA9Xv52OFOpAAAAAAACAT0B19dWtPvr5QAAAAAAAIGFA/zhsI2CyCUEAAAAAAHB3QLlzjWWyLBZBAAAAAADYg0BBmlD9j3sRQQAAAAAAaINAd6S62TdgBkEAAAAAAFB5QFIRldlA7PlAAAAAAADAcECcDrSIsRL0QAAAAAAAYG1Ats5sWMxV9UAAAAAAACB0QADyDZy5mvJAAAAAAADAbUBUNHAsaqL3QAAAAAAAgGhAUAoPZyGq8UAAAAAAAEBiQIYJoQJAzeFAAAAAAACAW0B/ad2RpYXZQAAAAAAAAFxANYbAxTbLwkAAAAAAAIBNQP6BnLUm8MlAAAAAAACARkDw1Tbps6StQAAAAAAAAEFAnBloYfAwhEAAAAAAAAA2QM01GtvAFcVAAAAAAAAAMEBAeNvMcOWUQAAAAAAAACRA",
          "dtype": "f8",
          "shape": "24, 2"
         },
         "hovertemplate": "source=survey<br>dpurp_label=Work<br>dept_hr=%{x}<br>percentage=%{y}<br>trexpfac=%{customdata[0]}<br>sample_count=%{customdata[1]}<extra></extra>",
         "legendgroup": "survey",
         "marker": {
          "color": "#8CC63E",
          "pattern": {
           "shape": ""
          }
         },
         "name": "survey",
         "offsetgroup": "survey",
         "orientation": "v",
         "showlegend": true,
         "textposition": "auto",
         "type": "bar",
         "x": {
          "bdata": "AAECAwQFBgcICQoLDA0ODxAREhMUFRYX",
          "dtype": "i1"
         },
         "xaxis": "x6",
         "y": {
          "bdata": "kql2kh6nPD9ZawTHXQY0PwAAAAAAAAAAhBr9affoez+H6WDxk7edP3JuYLSYma0/CA15jrRHvT+cy3V5SkTJP892Xq+p68M//yjnJf9+uT/INSJnp4mtP2jm1tZD36Y/i7ed62xPqD/Th9eA3jKlP2lKPlIf7qo/LOOOfrkgpD8JMvzOvUiUP8jByT+9FI0/IUaWoh5qdT+5E/1oGI59P2YjqJ1142A/98+FZboBNz/0EjMkcwZ4P4ThJ2hmz0c/",
          "dtype": "f8"
         },
         "yaxis": "y6"
        },
        {
         "alignmentgroup": "True",
         "customdata": {
          "bdata": "AAAAAAAAAAAAAAAAAAAAAAAAAAAAAAAAAAAAAAAAAAAAAAAAAAAAAAAAAAAAAAAAAAAAAAAAAAAAAAAAAAAAABXug+gRrFVAAAAAAAAA8D+cwa9xRmZ8QAAAAAAAABBA1J9/ZbQi2UAAAAAAAAA6QJLqMwMcqwhBAAAAAACgbUAlf+w+g8oGQQAAAAAAoHBA35DU+ufC60AAAAAAAIBPQCvMPYvFpsJAAAAAAAAANkB6jW6R9hG5QAAAAAAAADBA75AT2H8SuUAAAAAAAAAqQFEkZynrx89AAAAAAAAAM0DMGS+v+9OzQAAAAAAAACpA0ZmZuTbQrUAAAAAAAAAuQKjajxUWNbFAAAAAAAAAIkAIX+GJ6aCPQAAAAAAAACBABGsstwJbxkAAAAAAAAAIQIuxHsNOcV1AAAAAAAAA8D8AAAAAAAAAAAAAAAAAAAAAAAAAAAAAAAAAAAAAAAAAAAAAAAAAAAAAAAAAAAAAAAAAAAAAAAAAAAAAAAAAAAAA",
          "dtype": "f8",
          "shape": "24, 2"
         },
         "hovertemplate": "source=survey<br>dpurp_label=School<br>dept_hr=%{x}<br>percentage=%{y}<br>trexpfac=%{customdata[0]}<br>sample_count=%{customdata[1]}<extra></extra>",
         "legendgroup": "survey",
         "marker": {
          "color": "#8CC63E",
          "pattern": {
           "shape": ""
          }
         },
         "name": "survey",
         "offsetgroup": "survey",
         "orientation": "v",
         "showlegend": false,
         "textposition": "auto",
         "type": "bar",
         "x": {
          "bdata": "AAECAwQFBgcICQoLDA0ODxAREhMUFRYX",
          "dtype": "i1"
         },
         "xaxis": "x5",
         "y": {
          "bdata": "AAAAAAAAAAAAAAAAAAAAAAAAAAAAAAAAAAAAAAAAAAC2xbN5Py4lP9BlRmdlwUs//1yMbcaQqD/Ja89g5BvYP/U0788xRtY/IY4fabshuz9PB0CmfDqSPz/Ht8tpgIg/zR5h9e+AiD/vaFt0aA+fP6ebzgveYIM/0OmQYCAjfT/cZe94L9GAP3hVX0pJ6V4/e/stoTjZlT8BxStpX8YsPwAAAAAAAAAAAAAAAAAAAAAAAAAAAAAAAAAAAAAAAAAA",
          "dtype": "f8"
         },
         "yaxis": "y5"
        },
        {
         "alignmentgroup": "True",
         "customdata": {
          "bdata": "rDIaz2BsdkAAAAAAAAAIQNUHSA2v8GFAAAAAAAAA8D/R7iqYLNeBQAAAAAAAAPA/AAAAAAAAAAAAAAAAAAAAAHqeDuMntqJAAAAAAAAAAEDCbgX/gSyRQAAAAAAAACBAEpflhhjpwkAAAAAAAAAwQCG5WJ3EJN5AAAAAAACAS0BtwgG2foPpQAAAAAAAAFhApBI/c4g/8kAAAAAAAEBoQD2lv3+WMwFBAAAAAAAwckBRgZxy2jQEQQAAAAAA8HRAcnGF6DtbA0EAAAAAAEB0QKqO8MDTIAJBAAAAAAAAc0Cr6cAFmrMKQQAAAAAAkHVAhp1uTWItDUEAAAAAAIByQJ9DKqUIawhBAAAAAADAdEDNlHN35Ej/QAAAAAAAEHNAfy7PuRN3AkEAAAAAAMBuQK4+aq+G/vBAAAAAAADAakAeuDEOIHjgQAAAAAAAQFVA6mOeVCF80EAAAAAAAAA9QDALnmGS0M9AAAAAAAAAM0B86qbaPKeyQAAAAAAAABxA",
          "dtype": "f8",
          "shape": "24, 2"
         },
         "hovertemplate": "source=survey<br>dpurp_label=Shop<br>dept_hr=%{x}<br>percentage=%{y}<br>trexpfac=%{customdata[0]}<br>sample_count=%{customdata[1]}<extra></extra>",
         "legendgroup": "survey",
         "marker": {
          "color": "#8CC63E",
          "pattern": {
           "shape": ""
          }
         },
         "name": "survey",
         "offsetgroup": "survey",
         "orientation": "v",
         "showlegend": false,
         "textposition": "auto",
         "type": "bar",
         "x": {
          "bdata": "AAECAwQFBgcICQoLDA0ODxAREhMUFRYX",
          "dtype": "i1"
         },
         "xaxis": "x4",
         "y": {
          "bdata": "avTdDP05KT/UrLfY0S4UP+demgIfEjQ/AAAAAAAAAADimVpX+gxVP+0MeJseUkM/Hv1WNElGdT+Zjr1xufSQP7PvEuoAtJw/hOEupIaHpD8dKmKxFVqzPwOgUEyEu7Y/eLFSVLHGtT+EfHxF+2S0P1K3rn4gCr4/k43By5FpwD8g2UBNe3i7P5cQj8ULmbE/teuLewPGtD9VktDAYx6jPyxfs+ovh5I/fpzPXLGLgj/tihvKXeWBP9oGKeMx/GQ/",
          "dtype": "f8"
         },
         "yaxis": "y4"
        },
        {
         "alignmentgroup": "True",
         "customdata": {
          "bdata": "S+8gLvrEg0AAAAAAAADwPwAAAAAAAAAAAAAAAAAAAAAAAAAAAAAAAAAAAAAAAAAAAAAAAAAAAAAAAAAAAAAAAMRVEpr8TzdAAAAAAAAA8D/cEQ5Y+12vQAAAAAAAABRAEuKZsQ7v0kAAAAAAAAA8QAdbFE1qytBAAAAAAACASEAq9BqfMavjQAAAAAAAgFFAiEU2Z9WP30AAAAAAAIBWQLo4iNC/99VAAAAAAACAVUBRHmniwlTzQAAAAAAAAGlAKn6JhjkT/EAAAAAAACBuQJXcvXciqeFAAAAAAAAgY0AjuuPb+hDzQAAAAAAAAF5AUFZJ9Hv19EAAAAAAAEBeQA0LVFxsPfFAAAAAAAAgZEBY4KLS3r30QAAAAAAA4GlA1W7Do/BH9EAAAAAAAEBpQMVH2lM6cu1AAAAAAADAXUB7wc0mKb7wQAAAAAAAwFRA+wSoK/yeykAAAAAAAAA9QJn4JwCLWLNAAAAAAAAALkBT0WCVFluXQAAAAAAAABBA",
          "dtype": "f8",
          "shape": "24, 2"
         },
         "hovertemplate": "source=survey<br>dpurp_label=Meal<br>dept_hr=%{x}<br>percentage=%{y}<br>trexpfac=%{customdata[0]}<br>sample_count=%{customdata[1]}<extra></extra>",
         "legendgroup": "survey",
         "marker": {
          "color": "#8CC63E",
          "pattern": {
           "shape": ""
          }
         },
         "name": "survey",
         "offsetgroup": "survey",
         "orientation": "v",
         "showlegend": false,
         "textposition": "auto",
         "type": "bar",
         "x": {
          "bdata": "AAECAwQFBgcICQoLDA0ODxAREhMUFRYX",
          "dtype": "i1"
         },
         "xaxis": "x3",
         "y": {
          "bdata": "qXMcqVKTRj8AAAAAAAAAAAAAAAAAAAAAAAAAAAAAAABs/71SEp/6Pud9RQbf6HE/klPFJQqflT+7KJ40hiyTPzBiITvhdaY/Daf2w1UFoj9KFNJE+RWZPx8Jxt0tE7Y/Inc11q4HwD9Zedcj2yqkPzO3Ru3GxbU/xRUWDA3vtz9B+kE326+zPwx3vx+Lr7c/eymMzd8otz8suXBKGNCwP4z4X8aHHrM///ftjkpmjj++5SRlfxd2P1Trv7C/q1o/",
          "dtype": "f8"
         },
         "yaxis": "y3"
        },
        {
         "alignmentgroup": "True",
         "customdata": {
          "bdata": "utkyW31UIkAAAAAAAADwPwAAAAAAAAAAAAAAAAAAAAAAAAAAAAAAAAAAAAAAAAAAAAAAAAAAAAAAAAAAAAAAAI2cHv82rK9AAAAAAAAA8D+9KI5qsGqoQAAAAAAAACRAiph2LG9m4EAAAAAAAIBCQJuBVSdVpwxBAAAAAABgbEACIVcf4e4GQQAAAAAAQG1ADmiCQa5P9EAAAAAAAMBXQC6/EQbnMdNAAAAAAACAU0Ck3R/FpM3bQAAAAAAAgE9AzNShFvIn2EAAAAAAAABTQF3RNON0zPZAAAAAAADAVUBNU7H+kMUCQQAAAAAA4GVAEAfZ7hQPCUEAAAAAAIBsQApmk3oMU/ZAAAAAAAAgY0BitBL33Er5QAAAAAAAgGFAvtGsKr3T2EAAAAAAAABRQLvlj10aU+NAAAAAAAAATUBOaXUsNAvVQAAAAAAAAD1A0DOWUJdJwEAAAAAAAAA3QIuM5b5ffsZAAAAAAAAAKkDFzPnRrPyCQAAAAAAAAAhA",
          "dtype": "f8",
          "shape": "24, 2"
         },
         "hovertemplate": "source=survey<br>dpurp_label=Escort<br>dept_hr=%{x}<br>percentage=%{y}<br>trexpfac=%{customdata[0]}<br>sample_count=%{customdata[1]}<extra></extra>",
         "legendgroup": "survey",
         "marker": {
          "color": "#8CC63E",
          "pattern": {
           "shape": ""
          }
         },
         "name": "survey",
         "offsetgroup": "survey",
         "orientation": "v",
         "showlegend": false,
         "textposition": "auto",
         "type": "bar",
         "x": {
          "bdata": "AAECAwQFBgcICQoLDA0ODxAREhMUFRYX",
          "dtype": "i1"
         },
         "xaxis": "x2",
         "y": {
          "bdata": "YPp1jpX62z4AAAAAAAAAAAAAAAAAAAAAAAAAAAAAAACF9ERxKSxoP2VH6i2BomI/DnE6H3YImT8etxUDTd7FP32neJaigME/HnPE0cEArz+d+RgRjEyNP6IhxEwpOJU/T2zI85Bvkj8RKsQeXWaxP8lT1ggvp7w/zsVc8Pcfwz/SWIiotAmxP2R/i+yXTbM/cGx9oq3ykj/0g29nOX+dP1V8v9x+D5A/Oak+c2/ceD+v/bB5xSqBPzxsbx9N+zw/",
          "dtype": "f8"
         },
         "yaxis": "y2"
        },
        {
         "alignmentgroup": "True",
         "customdata": {
          "bdata": "AAAAAAAAAAAAAAAAAAAAAAAAAAAAAAAAAAAAAAAAAAAAAAAAAAAAAAAAAAAAAAAAAAAAAAAAAAAAAAAAAAAAAAAAAAAAAAAAAAAAAAAAAACa8xZta/umQAAAAAAAABRArqFiEteDukAAAAAAAAA4QL6tSVOGzOVAAAAAAAAAU0CP6PLAXQXfQAAAAAAAgFtAia/WJYIr8kAAAAAAAGBjQNwIE0cMQvBAAAAAAADgZkASMNLO8kHrQAAAAAAAgGJAywM2oLGE8UAAAAAAAGBiQDSeGR6Df/JAAAAAAABAZUB5kTmdNOT/QAAAAAAAIGRARYi2Xk4B70AAAAAAAABhQN2cjCCmu+NAAAAAAACAXkA1Y9d6D8/wQAAAAAAAwFRAv55eqKRLwkAAAAAAAIBJQD51YMZiJMtAAAAAAAAANkBw/zXjDyqVQAAAAAAAACBA81x7DMIltUAAAAAAAAAUQMJPxfSWrWhAAAAAAAAA8D8AAAAAAAAAAAAAAAAAAAAA",
          "dtype": "f8",
          "shape": "24, 2"
         },
         "hovertemplate": "source=survey<br>dpurp_label=Personal Business<br>dept_hr=%{x}<br>percentage=%{y}<br>trexpfac=%{customdata[0]}<br>sample_count=%{customdata[1]}<extra></extra>",
         "legendgroup": "survey",
         "marker": {
          "color": "#8CC63E",
          "pattern": {
           "shape": ""
          }
         },
         "name": "survey",
         "offsetgroup": "survey",
         "orientation": "v",
         "showlegend": false,
         "textposition": "auto",
         "type": "bar",
         "x": {
          "bdata": "AAECAwQFBgcICQoLDA0ODxAREhMUFRYX",
          "dtype": "i1"
         },
         "xaxis": "x",
         "y": {
          "bdata": "AAAAAAAAAAAAAAAAAAAAAAAAAAAAAAAAAAAAAAAAAAAAAAAAAAAAAIUfilOciW8/I3XWi1sxgj/QRuRj9emtP39xC0/USKU/hWgtHRrvuD9W2Em/bk+2P8PblA/Ms7I/5wHMMTAKuD+drm+hYGK5P52NRwO64cU/oB9hJwtGtT/GlndrMxSrP1xl8mrwELc/nhC3EDMbiT8Nkjljg5+SP3/RGEoEC10/CzZRRhwFfT+HNg4YtO4wPwAAAAAAAAAA",
          "dtype": "f8"
         },
         "yaxis": "y"
        }
       ],
       "layout": {
        "annotations": [
         {
          "font": {},
          "showarrow": false,
          "text": "Personal Business",
          "textangle": 90,
          "x": 0.98,
          "xanchor": "left",
          "xref": "paper",
          "y": 0.07083333333333333,
          "yanchor": "middle",
          "yref": "paper"
         },
         {
          "font": {},
          "showarrow": false,
          "text": "Escort",
          "textangle": 90,
          "x": 0.98,
          "xanchor": "left",
          "xref": "paper",
          "y": 0.2425,
          "yanchor": "middle",
          "yref": "paper"
         },
         {
          "font": {},
          "showarrow": false,
          "text": "Meal",
          "textangle": 90,
          "x": 0.98,
          "xanchor": "left",
          "xref": "paper",
          "y": 0.4141666666666667,
          "yanchor": "middle",
          "yref": "paper"
         },
         {
          "font": {},
          "showarrow": false,
          "text": "Shop",
          "textangle": 90,
          "x": 0.98,
          "xanchor": "left",
          "xref": "paper",
          "y": 0.5858333333333334,
          "yanchor": "middle",
          "yref": "paper"
         },
         {
          "font": {},
          "showarrow": false,
          "text": "School",
          "textangle": 90,
          "x": 0.98,
          "xanchor": "left",
          "xref": "paper",
          "y": 0.7575000000000001,
          "yanchor": "middle",
          "yref": "paper"
         },
         {
          "font": {},
          "showarrow": false,
          "text": "Work",
          "textangle": 90,
          "x": 0.98,
          "xanchor": "left",
          "xref": "paper",
          "y": 0.9291666666666667,
          "yanchor": "middle",
          "yref": "paper"
         }
        ],
        "barmode": "group",
        "height": 1500,
        "legend": {
         "title": {
          "text": "source"
         },
         "tracegroupgap": 0
        },
        "template": {
         "data": {
          "bar": [
           {
            "error_x": {
             "color": "rgb(36,36,36)"
            },
            "error_y": {
             "color": "rgb(36,36,36)"
            },
            "marker": {
             "line": {
              "color": "white",
              "width": 0.5
             },
             "pattern": {
              "fillmode": "overlay",
              "size": 10,
              "solidity": 0.2
             }
            },
            "type": "bar"
           }
          ],
          "barpolar": [
           {
            "marker": {
             "line": {
              "color": "white",
              "width": 0.5
             },
             "pattern": {
              "fillmode": "overlay",
              "size": 10,
              "solidity": 0.2
             }
            },
            "type": "barpolar"
           }
          ],
          "carpet": [
           {
            "aaxis": {
             "endlinecolor": "rgb(36,36,36)",
             "gridcolor": "white",
             "linecolor": "white",
             "minorgridcolor": "white",
             "startlinecolor": "rgb(36,36,36)"
            },
            "baxis": {
             "endlinecolor": "rgb(36,36,36)",
             "gridcolor": "white",
             "linecolor": "white",
             "minorgridcolor": "white",
             "startlinecolor": "rgb(36,36,36)"
            },
            "type": "carpet"
           }
          ],
          "choropleth": [
           {
            "colorbar": {
             "outlinewidth": 1,
             "tickcolor": "rgb(36,36,36)",
             "ticks": "outside"
            },
            "type": "choropleth"
           }
          ],
          "contour": [
           {
            "colorbar": {
             "outlinewidth": 1,
             "tickcolor": "rgb(36,36,36)",
             "ticks": "outside"
            },
            "colorscale": [
             [
              0.0,
              "#440154"
             ],
             [
              0.1111111111111111,
              "#482878"
             ],
             [
              0.2222222222222222,
              "#3e4989"
             ],
             [
              0.3333333333333333,
              "#31688e"
             ],
             [
              0.4444444444444444,
              "#26828e"
             ],
             [
              0.5555555555555556,
              "#1f9e89"
             ],
             [
              0.6666666666666666,
              "#35b779"
             ],
             [
              0.7777777777777778,
              "#6ece58"
             ],
             [
              0.8888888888888888,
              "#b5de2b"
             ],
             [
              1.0,
              "#fde725"
             ]
            ],
            "type": "contour"
           }
          ],
          "contourcarpet": [
           {
            "colorbar": {
             "outlinewidth": 1,
             "tickcolor": "rgb(36,36,36)",
             "ticks": "outside"
            },
            "type": "contourcarpet"
           }
          ],
          "heatmap": [
           {
            "colorbar": {
             "outlinewidth": 1,
             "tickcolor": "rgb(36,36,36)",
             "ticks": "outside"
            },
            "colorscale": [
             [
              0.0,
              "#440154"
             ],
             [
              0.1111111111111111,
              "#482878"
             ],
             [
              0.2222222222222222,
              "#3e4989"
             ],
             [
              0.3333333333333333,
              "#31688e"
             ],
             [
              0.4444444444444444,
              "#26828e"
             ],
             [
              0.5555555555555556,
              "#1f9e89"
             ],
             [
              0.6666666666666666,
              "#35b779"
             ],
             [
              0.7777777777777778,
              "#6ece58"
             ],
             [
              0.8888888888888888,
              "#b5de2b"
             ],
             [
              1.0,
              "#fde725"
             ]
            ],
            "type": "heatmap"
           }
          ],
          "histogram": [
           {
            "marker": {
             "line": {
              "color": "white",
              "width": 0.6
             }
            },
            "type": "histogram"
           }
          ],
          "histogram2d": [
           {
            "colorbar": {
             "outlinewidth": 1,
             "tickcolor": "rgb(36,36,36)",
             "ticks": "outside"
            },
            "colorscale": [
             [
              0.0,
              "#440154"
             ],
             [
              0.1111111111111111,
              "#482878"
             ],
             [
              0.2222222222222222,
              "#3e4989"
             ],
             [
              0.3333333333333333,
              "#31688e"
             ],
             [
              0.4444444444444444,
              "#26828e"
             ],
             [
              0.5555555555555556,
              "#1f9e89"
             ],
             [
              0.6666666666666666,
              "#35b779"
             ],
             [
              0.7777777777777778,
              "#6ece58"
             ],
             [
              0.8888888888888888,
              "#b5de2b"
             ],
             [
              1.0,
              "#fde725"
             ]
            ],
            "type": "histogram2d"
           }
          ],
          "histogram2dcontour": [
           {
            "colorbar": {
             "outlinewidth": 1,
             "tickcolor": "rgb(36,36,36)",
             "ticks": "outside"
            },
            "colorscale": [
             [
              0.0,
              "#440154"
             ],
             [
              0.1111111111111111,
              "#482878"
             ],
             [
              0.2222222222222222,
              "#3e4989"
             ],
             [
              0.3333333333333333,
              "#31688e"
             ],
             [
              0.4444444444444444,
              "#26828e"
             ],
             [
              0.5555555555555556,
              "#1f9e89"
             ],
             [
              0.6666666666666666,
              "#35b779"
             ],
             [
              0.7777777777777778,
              "#6ece58"
             ],
             [
              0.8888888888888888,
              "#b5de2b"
             ],
             [
              1.0,
              "#fde725"
             ]
            ],
            "type": "histogram2dcontour"
           }
          ],
          "mesh3d": [
           {
            "colorbar": {
             "outlinewidth": 1,
             "tickcolor": "rgb(36,36,36)",
             "ticks": "outside"
            },
            "type": "mesh3d"
           }
          ],
          "parcoords": [
           {
            "line": {
             "colorbar": {
              "outlinewidth": 1,
              "tickcolor": "rgb(36,36,36)",
              "ticks": "outside"
             }
            },
            "type": "parcoords"
           }
          ],
          "pie": [
           {
            "automargin": true,
            "type": "pie"
           }
          ],
          "scatter": [
           {
            "fillpattern": {
             "fillmode": "overlay",
             "size": 10,
             "solidity": 0.2
            },
            "type": "scatter"
           }
          ],
          "scatter3d": [
           {
            "line": {
             "colorbar": {
              "outlinewidth": 1,
              "tickcolor": "rgb(36,36,36)",
              "ticks": "outside"
             }
            },
            "marker": {
             "colorbar": {
              "outlinewidth": 1,
              "tickcolor": "rgb(36,36,36)",
              "ticks": "outside"
             }
            },
            "type": "scatter3d"
           }
          ],
          "scattercarpet": [
           {
            "marker": {
             "colorbar": {
              "outlinewidth": 1,
              "tickcolor": "rgb(36,36,36)",
              "ticks": "outside"
             }
            },
            "type": "scattercarpet"
           }
          ],
          "scattergeo": [
           {
            "marker": {
             "colorbar": {
              "outlinewidth": 1,
              "tickcolor": "rgb(36,36,36)",
              "ticks": "outside"
             }
            },
            "type": "scattergeo"
           }
          ],
          "scattergl": [
           {
            "marker": {
             "colorbar": {
              "outlinewidth": 1,
              "tickcolor": "rgb(36,36,36)",
              "ticks": "outside"
             }
            },
            "type": "scattergl"
           }
          ],
          "scattermap": [
           {
            "marker": {
             "colorbar": {
              "outlinewidth": 1,
              "tickcolor": "rgb(36,36,36)",
              "ticks": "outside"
             }
            },
            "type": "scattermap"
           }
          ],
          "scattermapbox": [
           {
            "marker": {
             "colorbar": {
              "outlinewidth": 1,
              "tickcolor": "rgb(36,36,36)",
              "ticks": "outside"
             }
            },
            "type": "scattermapbox"
           }
          ],
          "scatterpolar": [
           {
            "marker": {
             "colorbar": {
              "outlinewidth": 1,
              "tickcolor": "rgb(36,36,36)",
              "ticks": "outside"
             }
            },
            "type": "scatterpolar"
           }
          ],
          "scatterpolargl": [
           {
            "marker": {
             "colorbar": {
              "outlinewidth": 1,
              "tickcolor": "rgb(36,36,36)",
              "ticks": "outside"
             }
            },
            "type": "scatterpolargl"
           }
          ],
          "scatterternary": [
           {
            "marker": {
             "colorbar": {
              "outlinewidth": 1,
              "tickcolor": "rgb(36,36,36)",
              "ticks": "outside"
             }
            },
            "type": "scatterternary"
           }
          ],
          "surface": [
           {
            "colorbar": {
             "outlinewidth": 1,
             "tickcolor": "rgb(36,36,36)",
             "ticks": "outside"
            },
            "colorscale": [
             [
              0.0,
              "#440154"
             ],
             [
              0.1111111111111111,
              "#482878"
             ],
             [
              0.2222222222222222,
              "#3e4989"
             ],
             [
              0.3333333333333333,
              "#31688e"
             ],
             [
              0.4444444444444444,
              "#26828e"
             ],
             [
              0.5555555555555556,
              "#1f9e89"
             ],
             [
              0.6666666666666666,
              "#35b779"
             ],
             [
              0.7777777777777778,
              "#6ece58"
             ],
             [
              0.8888888888888888,
              "#b5de2b"
             ],
             [
              1.0,
              "#fde725"
             ]
            ],
            "type": "surface"
           }
          ],
          "table": [
           {
            "cells": {
             "fill": {
              "color": "rgb(237,237,237)"
             },
             "line": {
              "color": "white"
             }
            },
            "header": {
             "fill": {
              "color": "rgb(217,217,217)"
             },
             "line": {
              "color": "white"
             }
            },
            "type": "table"
           }
          ]
         },
         "layout": {
          "annotationdefaults": {
           "arrowhead": 0,
           "arrowwidth": 1
          },
          "autotypenumbers": "strict",
          "coloraxis": {
           "colorbar": {
            "outlinewidth": 1,
            "tickcolor": "rgb(36,36,36)",
            "ticks": "outside"
           }
          },
          "colorscale": {
           "diverging": [
            [
             0.0,
             "rgb(103,0,31)"
            ],
            [
             0.1,
             "rgb(178,24,43)"
            ],
            [
             0.2,
             "rgb(214,96,77)"
            ],
            [
             0.3,
             "rgb(244,165,130)"
            ],
            [
             0.4,
             "rgb(253,219,199)"
            ],
            [
             0.5,
             "rgb(247,247,247)"
            ],
            [
             0.6,
             "rgb(209,229,240)"
            ],
            [
             0.7,
             "rgb(146,197,222)"
            ],
            [
             0.8,
             "rgb(67,147,195)"
            ],
            [
             0.9,
             "rgb(33,102,172)"
            ],
            [
             1.0,
             "rgb(5,48,97)"
            ]
           ],
           "sequential": [
            [
             0.0,
             "#440154"
            ],
            [
             0.1111111111111111,
             "#482878"
            ],
            [
             0.2222222222222222,
             "#3e4989"
            ],
            [
             0.3333333333333333,
             "#31688e"
            ],
            [
             0.4444444444444444,
             "#26828e"
            ],
            [
             0.5555555555555556,
             "#1f9e89"
            ],
            [
             0.6666666666666666,
             "#35b779"
            ],
            [
             0.7777777777777778,
             "#6ece58"
            ],
            [
             0.8888888888888888,
             "#b5de2b"
            ],
            [
             1.0,
             "#fde725"
            ]
           ],
           "sequentialminus": [
            [
             0.0,
             "#440154"
            ],
            [
             0.1111111111111111,
             "#482878"
            ],
            [
             0.2222222222222222,
             "#3e4989"
            ],
            [
             0.3333333333333333,
             "#31688e"
            ],
            [
             0.4444444444444444,
             "#26828e"
            ],
            [
             0.5555555555555556,
             "#1f9e89"
            ],
            [
             0.6666666666666666,
             "#35b779"
            ],
            [
             0.7777777777777778,
             "#6ece58"
            ],
            [
             0.8888888888888888,
             "#b5de2b"
            ],
            [
             1.0,
             "#fde725"
            ]
           ]
          },
          "colorway": [
           "#91268F",
           "#8CC63E",
           "#00A7A0",
           "#F05A28",
           "#4C4C4C",
           "#630460",
           "#9f3913",
           "#588527",
           "#00716c",
           "#3e4040"
          ],
          "font": {
           "color": "rgb(36,36,36)",
           "family": "Poppins",
           "size": 11
          },
          "geo": {
           "bgcolor": "white",
           "lakecolor": "white",
           "landcolor": "white",
           "showlakes": true,
           "showland": true,
           "subunitcolor": "white"
          },
          "hoverlabel": {
           "align": "left"
          },
          "hovermode": "closest",
          "mapbox": {
           "style": "light"
          },
          "paper_bgcolor": "white",
          "plot_bgcolor": "white",
          "polar": {
           "angularaxis": {
            "gridcolor": "rgb(232,232,232)",
            "linecolor": "rgb(36,36,36)",
            "showgrid": false,
            "showline": true,
            "ticks": "outside"
           },
           "bgcolor": "white",
           "radialaxis": {
            "gridcolor": "rgb(232,232,232)",
            "linecolor": "rgb(36,36,36)",
            "showgrid": false,
            "showline": true,
            "ticks": "outside"
           }
          },
          "scene": {
           "xaxis": {
            "backgroundcolor": "white",
            "gridcolor": "rgb(232,232,232)",
            "gridwidth": 2,
            "linecolor": "rgb(36,36,36)",
            "showbackground": true,
            "showgrid": false,
            "showline": true,
            "ticks": "outside",
            "zeroline": false,
            "zerolinecolor": "rgb(36,36,36)"
           },
           "yaxis": {
            "backgroundcolor": "white",
            "gridcolor": "rgb(232,232,232)",
            "gridwidth": 2,
            "linecolor": "rgb(36,36,36)",
            "showbackground": true,
            "showgrid": false,
            "showline": true,
            "ticks": "outside",
            "zeroline": false,
            "zerolinecolor": "rgb(36,36,36)"
           },
           "zaxis": {
            "backgroundcolor": "white",
            "gridcolor": "rgb(232,232,232)",
            "gridwidth": 2,
            "linecolor": "rgb(36,36,36)",
            "showbackground": true,
            "showgrid": false,
            "showline": true,
            "ticks": "outside",
            "zeroline": false,
            "zerolinecolor": "rgb(36,36,36)"
           }
          },
          "shapedefaults": {
           "fillcolor": "black",
           "line": {
            "width": 0
           },
           "opacity": 0.3
          },
          "ternary": {
           "aaxis": {
            "gridcolor": "rgb(232,232,232)",
            "linecolor": "rgb(36,36,36)",
            "showgrid": false,
            "showline": true,
            "ticks": "outside"
           },
           "baxis": {
            "gridcolor": "rgb(232,232,232)",
            "linecolor": "rgb(36,36,36)",
            "showgrid": false,
            "showline": true,
            "ticks": "outside"
           },
           "bgcolor": "white",
           "caxis": {
            "gridcolor": "rgb(232,232,232)",
            "linecolor": "rgb(36,36,36)",
            "showgrid": false,
            "showline": true,
            "ticks": "outside"
           }
          },
          "title": {
           "x": 0.05
          },
          "xaxis": {
           "automargin": true,
           "gridcolor": "rgb(232,232,232)",
           "linecolor": "rgb(36,36,36)",
           "showgrid": false,
           "showline": true,
           "ticks": "outside",
           "title": {
            "standoff": 15
           },
           "zeroline": false,
           "zerolinecolor": "rgb(36,36,36)"
          },
          "yaxis": {
           "automargin": true,
           "gridcolor": "rgb(232,232,232)",
           "linecolor": "rgb(36,36,36)",
           "showgrid": false,
           "showline": true,
           "ticks": "outside",
           "title": {
            "standoff": 15
           },
           "zeroline": false,
           "zerolinecolor": "rgb(36,36,36)"
          }
         }
        },
        "title": {
         "text": "trip origin departure hour by purpose"
        },
        "width": 850,
        "xaxis": {
         "anchor": "y",
         "categoryorder": "category ascending",
         "domain": [
          0.0,
          0.98
         ],
         "dtick": 1,
         "title": {
          "text": "dept_hr"
         }
        },
        "xaxis2": {
         "anchor": "y2",
         "categoryorder": "category ascending",
         "domain": [
          0.0,
          0.98
         ],
         "dtick": 1,
         "matches": "x",
         "showticklabels": false
        },
        "xaxis3": {
         "anchor": "y3",
         "categoryorder": "category ascending",
         "domain": [
          0.0,
          0.98
         ],
         "dtick": 1,
         "matches": "x",
         "showticklabels": false
        },
        "xaxis4": {
         "anchor": "y4",
         "categoryorder": "category ascending",
         "domain": [
          0.0,
          0.98
         ],
         "dtick": 1,
         "matches": "x",
         "showticklabels": false
        },
        "xaxis5": {
         "anchor": "y5",
         "categoryorder": "category ascending",
         "domain": [
          0.0,
          0.98
         ],
         "dtick": 1,
         "matches": "x",
         "showticklabels": false
        },
        "xaxis6": {
         "anchor": "y6",
         "categoryorder": "category ascending",
         "domain": [
          0.0,
          0.98
         ],
         "dtick": 1,
         "matches": "x",
         "showticklabels": false
        },
        "yaxis": {
         "anchor": "x",
         "domain": [
          0.0,
          0.14166666666666666
         ],
         "tickformat": ".0%",
         "title": {
          "text": "percentage"
         }
        },
        "yaxis2": {
         "anchor": "x2",
         "domain": [
          0.17166666666666666,
          0.31333333333333335
         ],
         "matches": "y",
         "tickformat": ".0%",
         "title": {
          "text": "percentage"
         }
        },
        "yaxis3": {
         "anchor": "x3",
         "domain": [
          0.3433333333333333,
          0.485
         ],
         "matches": "y",
         "tickformat": ".0%",
         "title": {
          "text": "percentage"
         }
        },
        "yaxis4": {
         "anchor": "x4",
         "domain": [
          0.515,
          0.6566666666666667
         ],
         "matches": "y",
         "tickformat": ".0%",
         "title": {
          "text": "percentage"
         }
        },
        "yaxis5": {
         "anchor": "x5",
         "domain": [
          0.6866666666666666,
          0.8283333333333334
         ],
         "matches": "y",
         "tickformat": ".0%",
         "title": {
          "text": "percentage"
         }
        },
        "yaxis6": {
         "anchor": "x6",
         "domain": [
          0.8583333333333333,
          1.0
         ],
         "matches": "y",
         "tickformat": ".0%",
         "title": {
          "text": "percentage"
         }
        }
       }
      },
      "text/html": [
       "<div>            <script src=\"https://cdnjs.cloudflare.com/ajax/libs/mathjax/2.7.5/MathJax.js?config=TeX-AMS-MML_SVG\"></script><script type=\"text/javascript\">if (window.MathJax && window.MathJax.Hub && window.MathJax.Hub.Config) {window.MathJax.Hub.Config({SVG: {font: \"STIX-Web\"}});}</script>                <script type=\"text/javascript\">window.PlotlyConfig = {MathJaxConfig: 'local'};</script>\n",
       "        <script charset=\"utf-8\" src=\"https://cdn.plot.ly/plotly-3.0.1.min.js\"></script>                <div id=\"cbee120b-4787-422a-82f2-0b18eb24b634\" class=\"plotly-graph-div\" style=\"height:1500px; width:850px;\"></div>            <script type=\"text/javascript\">                window.PLOTLYENV=window.PLOTLYENV || {};                                if (document.getElementById(\"cbee120b-4787-422a-82f2-0b18eb24b634\")) {                    Plotly.newPlot(                        \"cbee120b-4787-422a-82f2-0b18eb24b634\",                        [{\"alignmentgroup\":\"True\",\"customdata\":{\"dtype\":\"f8\",\"bdata\":\"AAAAAAABs0AAAAAAAAGzQAAAAAAANqtAAAAAAAA2q0AAAAAAAESTQAAAAAAARJNAAAAAAMDz2kAAAAAAwPPaQAAAAABgtONAAAAAAGC040AAAAAAEMX7QAAAAAAQxftAAAAAAPgQE0EAAAAA+BATQQAAAACg8RtBAAAAAKDxG0EAAAAABKMZQQAAAAAEoxlBAAAAABClDkEAAAAAEKUOQQAAAAB4UgVBAAAAAHhSBUEAAAAASE4FQQAAAABITgVBAAAAAIirBEEAAAAAiKsEQQAAAABYMgFBAAAAAFgyAUEAAAAAkCX\\u002fQAAAAACQJf9AAAAAAJDr\\u002fEAAAAAAkOv8QAAAAABgqf1AAAAAAGCp\\u002fUAAAAAAAAP5QAAAAAAAA\\u002flAAAAAAIA980AAAAAAgD3zQAAAAADgHuVAAAAAAOAe5UAAAAAA4AHgQAAAAADgAeBAAAAAAIAS2EAAAAAAgBLYQAAAAAAA18pAAAAAAADXykAAAAAAgIDEQAAAAACAgMRA\",\"shape\":\"24, 2\"},\"hovertemplate\":\"source=model\\u003cbr\\u003edpurp_label=Work\\u003cbr\\u003edept_hr=%{x}\\u003cbr\\u003epercentage=%{y}\\u003cbr\\u003etrexpfac=%{customdata[0]}\\u003cbr\\u003esample_count=%{customdata[1]}\\u003cextra\\u003e\\u003c\\u002fextra\\u003e\",\"legendgroup\":\"model\",\"marker\":{\"color\":\"#91268F\",\"pattern\":{\"shape\":\"\"}},\"name\":\"model\",\"offsetgroup\":\"model\",\"orientation\":\"v\",\"showlegend\":true,\"textposition\":\"auto\",\"x\":{\"dtype\":\"i1\",\"bdata\":\"AAECAwQFBgcICQoLDA0ODxAREhMUFRYX\"},\"xaxis\":\"x6\",\"y\":{\"dtype\":\"f8\",\"bdata\":\"XLQ0onLgWj9JgIx16z1TP4IdMkc0Pzs\\u002f+J1GaBIPgz8i6AokIt6LP2gro6kVo6M\\u002fRgOTMAj3uj8Io+ivmMLDP+CwuVP0IMI\\u002fCYAeromrtT\\u002fn22OaxieuP1UFFIDaIa4\\u002fbZC\\u002fJa47rT\\u002fmY53nH1KoP\\u002fGN0KxnBqY\\u002fOlggLFZzpD\\u002fmirdlj\\u002fmkP1RKmSXNr6E\\u002fqouu7AI2mz9Hhu\\u002fbzt6NP4Pf0aeFo4Y\\u002fPkAXG7wFgT+qzBngvfpyPxNRh37S\\u002fmw\\u002f\"},\"yaxis\":\"y6\",\"type\":\"bar\"},{\"alignmentgroup\":\"True\",\"customdata\":{\"dtype\":\"f8\",\"bdata\":\"AAAAAAAAIkAAAAAAAAAiQAAAAAAAABRAAAAAAAAAFEAAAAAAAADwPwAAAAAAAPA\\u002fAAAAAACohEAAAAAAAKiEQAAAAAAAAIpAAAAAAAAAikAAAAAAAC+7QAAAAAAAL7tAAAAAAMCt7kAAAAAAwK3uQAAAAABI4gdBAAAAAEjiB0EAAAAAmLYLQQAAAACYtgtBAAAAAOAs\\u002fUAAAAAA4Cz9QAAAAACAM+xAAAAAAIAz7EAAAAAAQJDjQAAAAABAkONAAAAAAMCV20AAAAAAwJXbQAAAAAAAadRAAAAAAABp1EAAAAAAwKTQQAAAAADApNBAAAAAAABu0EAAAAAAAG7QQAAAAACATsdAAAAAAIBOx0AAAAAAgOvDQAAAAACA68NAAAAAAAB3u0AAAAAAAHe7QAAAAAAACKJAAAAAAAAIokAAAAAAACCdQAAAAAAAIJ1AAAAAAACckEAAAAAAAJyQQAAAAAAAQFZAAAAAAABAVkAAAAAAAIBMQAAAAAAAgExA\",\"shape\":\"24, 2\"},\"hovertemplate\":\"source=model\\u003cbr\\u003edpurp_label=School\\u003cbr\\u003edept_hr=%{x}\\u003cbr\\u003epercentage=%{y}\\u003cbr\\u003etrexpfac=%{customdata[0]}\\u003cbr\\u003esample_count=%{customdata[1]}\\u003cextra\\u003e\\u003c\\u002fextra\\u003e\",\"legendgroup\":\"model\",\"marker\":{\"color\":\"#91268F\",\"pattern\":{\"shape\":\"\"}},\"name\":\"model\",\"offsetgroup\":\"model\",\"orientation\":\"v\",\"showlegend\":false,\"textposition\":\"auto\",\"x\":{\"dtype\":\"i1\",\"bdata\":\"AAECAwQFBgcICQoLDA0ODxAREhMUFRYX\"},\"xaxis\":\"x5\",\"y\":{\"dtype\":\"f8\",\"bdata\":\"lrpaPXrF5j78eQ99Mk3ZPjD7pf3BPbQ+ysj28bohSj8X3BaeLXJQP7qX8GLWMYE\\u002ft9YaMc1nsz\\u002f8VqZGCjfOP8ogsBKbh9E\\u002fZx\\u002fpaFp0wj\\u002frciUindaxP7bmJybTv6g\\u002frgrVr9RyoT89CyDGB9KZP0fEJectDpU\\u002fT9BVk+rIlD9uD2PcFXyNP1N9glxDM4k\\u002fL01rV2FfgT+UjVkemc9mP58R3I81bGI\\u002fgQ0PIRwDVT9P0brE4SUcP7fT58UABxI\\u002f\"},\"yaxis\":\"y5\",\"type\":\"bar\"},{\"alignmentgroup\":\"True\",\"customdata\":{\"dtype\":\"f8\",\"bdata\":\"AAAAAAAUl0AAAAAAABSXQAAAAAAAKI9AAAAAAAAoj0AAAAAAADB6QAAAAAAAMHpAAAAAAICcw0AAAAAAgJzDQAAAAACA1cRAAAAAAIDVxEAAAAAAwKDQQAAAAADAoNBAAAAAAOAm5UAAAAAA4CblQAAAAACAgPZAAAAAAICA9kAAAAAAWGwCQQAAAABYbAJBAAAAAAhvCUEAAAAACG8JQQAAAACQ6w1BAAAAAJDrDUEAAAAAGA8MQQAAAAAYDwxBAAAAAFBVCkEAAAAAUFUKQQAAAABQOA1BAAAAAFA4DUEAAAAAYEEKQQAAAABgQQpBAAAAAHChDUEAAAAAcKENQQAAAABwzg9BAAAAAHDOD0EAAAAAwJQKQQAAAADAlApBAAAAAIj1BEEAAAAAiPUEQQAAAABAIf1AAAAAAEAh\\u002fUAAAAAAYLLzQAAAAABgsvNAAAAAAAB\\u002f3EAAAAAAAH\\u002fcQAAAAAAAOchAAAAAAAA5yEAAAAAAAKC+QAAAAAAAoL5A\",\"shape\":\"24, 2\"},\"hovertemplate\":\"source=model\\u003cbr\\u003edpurp_label=Shop\\u003cbr\\u003edept_hr=%{x}\\u003cbr\\u003epercentage=%{y}\\u003cbr\\u003etrexpfac=%{customdata[0]}\\u003cbr\\u003esample_count=%{customdata[1]}\\u003cextra\\u003e\\u003c\\u002fextra\\u003e\",\"legendgroup\":\"model\",\"marker\":{\"color\":\"#91268F\",\"pattern\":{\"shape\":\"\"}},\"name\":\"model\",\"offsetgroup\":\"model\",\"orientation\":\"v\",\"showlegend\":false,\"textposition\":\"auto\",\"x\":{\"dtype\":\"i1\",\"bdata\":\"AAECAwQFBgcICQoLDA0ODxAREhMUFRYX\"},\"xaxis\":\"x4\",\"y\":{\"dtype\":\"f8\",\"bdata\":\"mGw8G2wlQT\\u002fCWSBi3iU3P76i\\u002fAbSdCM\\u002fnpumEBYkbT92kVVCLvVuP0MSBAU2tXg\\u002fdh4vDBlujz8JsenX1begP2aSSgEiYKs\\u002f7DpernPlsj\\u002fj37J6xDq2P0K8gOPE2LQ\\u002fSKUJzoqQsz+9JNZql7W1PzB4cLm6gbM\\u002fssz9BbIDtj+lXkKHhqG3PzkG8YOsv7M\\u002fwCD718Ykrz\\u002fgD4b3dKSlP2dIpz6XRJ0\\u002fwnQRR+krhT8vHE48HP9xP4JZ32bTwGY\\u002f\"},\"yaxis\":\"y4\",\"type\":\"bar\"},{\"alignmentgroup\":\"True\",\"customdata\":{\"dtype\":\"f8\",\"bdata\":\"AAAAAAB8k0AAAAAAAHyTQAAAAAAA0IxAAAAAAADQjEAAAAAAADB1QAAAAAAAMHVAAAAAAADVtkAAAAAAANW2QAAAAAAAgbpAAAAAAACBukAAAAAAgNzJQAAAAACA3MlAAAAAAOCR4EAAAAAA4JHgQAAAAAAggelAAAAAACCB6UAAAAAAUBPyQAAAAABQE\\u002fJAAAAAAOAb9kAAAAAA4Bv2QAAAAACwrfxAAAAAALCt\\u002fEAAAAAAQNH+QAAAAABA0f5AAAAAAPDb\\u002fUAAAAAA8Nv9QAAAAADAA\\u002f9AAAAAAMAD\\u002f0AAAAAAwI\\u002f7QAAAAADAj\\u002ftAAAAAACCs+UAAAAAAIKz5QAAAAABg2\\u002fxAAAAAAGDb\\u002fEAAAAAAgGf8QAAAAACAZ\\u002fxAAAAAAICU90AAAAAAgJT3QAAAAABQC\\u002fBAAAAAAFAL8EAAAAAAoMvnQAAAAACgy+dAAAAAAAB220AAAAAAAHbbQAAAAACAG8ZAAAAAAIAbxkAAAAAAAFW3QAAAAAAAVbdA\",\"shape\":\"24, 2\"},\"hovertemplate\":\"source=model\\u003cbr\\u003edpurp_label=Meal\\u003cbr\\u003edept_hr=%{x}\\u003cbr\\u003epercentage=%{y}\\u003cbr\\u003etrexpfac=%{customdata[0]}\\u003cbr\\u003esample_count=%{customdata[1]}\\u003cextra\\u003e\\u003c\\u002fextra\\u003e\",\"legendgroup\":\"model\",\"marker\":{\"color\":\"#91268F\",\"pattern\":{\"shape\":\"\"}},\"name\":\"model\",\"offsetgroup\":\"model\",\"orientation\":\"v\",\"showlegend\":false,\"textposition\":\"auto\",\"x\":{\"dtype\":\"i1\",\"bdata\":\"AAECAwQFBgcICQoLDA0ODxAREhMUFRYX\"},\"xaxis\":\"x3\",\"y\":{\"dtype\":\"f8\",\"bdata\":\"rDqu+TGWSz+DT4Rnm2VEP3mnMQuA\\u002fy0\\u002fmTQgpsgpcD8vJb0pOsNyPxV7TkzGToI\\u002fvXyLxc11lz\\u002f+MfyqFg6iP9noyT6Fl6k\\u002fv6nC8nVNrz\\u002fWq0sMUU20P3M+Pzzy0LU\\u002ffuev80gjtT9xXr80svS1PzWtc2nlgrM\\u002fNidfb4cssj9i0PTcqG20P5P7\\u002fiqhG7Q\\u002frHiRpVmxsD\\u002f8vVIESbemPwpzActf2KA\\u002fXJog0Kpwkz94JSYH7kx\\u002fP4wOI7llhHA\\u002f\"},\"yaxis\":\"y3\",\"type\":\"bar\"},{\"alignmentgroup\":\"True\",\"customdata\":{\"dtype\":\"f8\",\"bdata\":\"AAAAAADqpEAAAAAAAOqkQAAAAAAA7J1AAAAAAADsnUAAAAAAAAiIQAAAAAAACIhAAAAAAMBP3kAAAAAAwE\\u002feQAAAAABAJd1AAAAAAEAl3UAAAAAAQCPqQAAAAABAI+pAAAAAAKDFAUEAAAAAoMUBQQAAAABQoQVBAAAAAFChBUEAAAAAgJ4DQQAAAACAngNBAAAAAMAYAUEAAAAAwBgBQQAAAACAWQBBAAAAAIBZAEEAAAAAkD\\u002f7QAAAAACQP\\u002ftAAAAAAECS+UAAAAAAQJL5QAAAAABwePxAAAAAAHB4\\u002fEAAAAAA8ID8QAAAAADwgPxAAAAAAOgwA0EAAAAA6DADQQAAAAAQDQZBAAAAABANBkEAAAAAAH0DQQAAAAAAfQNBAAAAAMDj+kAAAAAAwOP6QAAAAABALfBAAAAAAEAt8EAAAAAAYPTnQAAAAABg9OdAAAAAAMDI2UAAAAAAwMjZQAAAAAAAp8xAAAAAAACnzEAAAAAAAFbGQAAAAAAAVsZA\",\"shape\":\"24, 2\"},\"hovertemplate\":\"source=model\\u003cbr\\u003edpurp_label=Escort\\u003cbr\\u003edept_hr=%{x}\\u003cbr\\u003epercentage=%{y}\\u003cbr\\u003etrexpfac=%{customdata[0]}\\u003cbr\\u003esample_count=%{customdata[1]}\\u003cextra\\u003e\\u003c\\u002fextra\\u003e\",\"legendgroup\":\"model\",\"marker\":{\"color\":\"#91268F\",\"pattern\":{\"shape\":\"\"}},\"name\":\"model\",\"offsetgroup\":\"model\",\"orientation\":\"v\",\"showlegend\":false,\"textposition\":\"auto\",\"x\":{\"dtype\":\"i1\",\"bdata\":\"AAECAwQFBgcICQoLDA0ODxAREhMUFRYX\"},\"xaxis\":\"x2\",\"y\":{\"dtype\":\"f8\",\"bdata\":\"IgS8437cVD+88S7krdhNP299up17+Dc\\u002f5sBuey08jj99lLU5bhKNP19DS2tfEpo\\u002fr2GIRya6sT86+wmGWJO1P1yo7\\u002fDUkbM\\u002fksnm57UNsT8W96tl8U6wP2zLONb3Las\\u002fRHPnC72BqT93LL\\u002fPDWasP6q4sFKIbqw\\u002fEsPdtIMksz\\u002ff1eHy0v61P0j4gpJqcLM\\u002fp9flHmPSqj+U9zr4zSKgP0WBwUno5Jc\\u002ffEED2xm4iT9LH+6+f5R8P40OQtqTR3Y\\u002f\"},\"yaxis\":\"y2\",\"type\":\"bar\"},{\"alignmentgroup\":\"True\",\"customdata\":{\"dtype\":\"f8\",\"bdata\":\"AAAAAADIhUAAAAAAAMiFQAAAAAAAEHxAAAAAAAAQfEAAAAAAAEBkQAAAAAAAQGRAAAAAAACZuEAAAAAAAJm4QAAAAAAAebhAAAAAAAB5uEAAAAAAAKLGQAAAAAAAosZAAAAAAMD73UAAAAAAwPvdQAAAAABgIetAAAAAAGAh60AAAAAAMDX1QAAAAAAwNfVAAAAAAGBK+kAAAAAAYEr6QAAAAACQP\\u002ftAAAAAAJA\\u002f+0AAAAAAIEX3QAAAAAAgRfdAAAAAAACY9UAAAAAAAJj1QAAAAADQYPdAAAAAANBg90AAAAAAIPfzQAAAAAAg9\\u002fNAAAAAAADI9EAAAAAAAMj0QAAAAACAg\\u002fZAAAAAAICD9kAAAAAAcCPyQAAAAABwI\\u002fJAAAAAACB17EAAAAAAIHXsQAAAAACAfuBAAAAAAIB+4EAAAAAAgLvXQAAAAACAu9dAAAAAAIAEykAAAAAAgATKQAAAAAAANrNAAAAAAAA2s0AAAAAAAP6mQAAAAAAA\\u002fqZA\",\"shape\":\"24, 2\"},\"hovertemplate\":\"source=model\\u003cbr\\u003edpurp_label=Personal Business\\u003cbr\\u003edept_hr=%{x}\\u003cbr\\u003epercentage=%{y}\\u003cbr\\u003etrexpfac=%{customdata[0]}\\u003cbr\\u003esample_count=%{customdata[1]}\\u003cextra\\u003e\\u003c\\u002fextra\\u003e\",\"legendgroup\":\"model\",\"marker\":{\"color\":\"#91268F\",\"pattern\":{\"shape\":\"\"}},\"name\":\"model\",\"offsetgroup\":\"model\",\"orientation\":\"v\",\"showlegend\":false,\"textposition\":\"auto\",\"x\":{\"dtype\":\"i1\",\"bdata\":\"AAECAwQFBgcICQoLDA0ODxAREhMUFRYX\"},\"xaxis\":\"x\",\"y\":{\"dtype\":\"f8\",\"bdata\":\"6vktv1WMQz8XMUmYei85P\\u002fcvzhOGLCI\\u002fyCg+kWoTdj9H6VpusvZ1P4wa2iz8T4Q\\u002f\\u002f1ppQNDomj+GmCB8UVmoPw5jHvOSCLM\\u002f18W5UVyYtz\\u002fu+AkxaXS4P0iJstZi4rQ\\u002fqBrZikFhsz+6KOIoPPu0P1eqWrwe67E\\u002f3v0TqJSmsj8FgpmrnDS0P7BhdophR7A\\u002fx1SJfjyKqT+fLxS3MpudPzQtwf+fTJU\\u002fLI6LPaZZhz8SMM1xyz1xPyFxJ5GNomQ\\u002f\"},\"yaxis\":\"y\",\"type\":\"bar\"},{\"alignmentgroup\":\"True\",\"customdata\":{\"dtype\":\"f8\",\"bdata\":\"lP8gOXEliUAAAAAAAAAIQMwA3Xn\\u002fkoFAAAAAAAAAAEAAAAAAAAAAAAAAAAAAAAAAQFWDdI9+yEAAAAAAAAA2QA9Xv52OFOpAAAAAAACAT0B19dWtPvr5QAAAAAAAIGFA\\u002fzhsI2CyCUEAAAAAAHB3QLlzjWWyLBZBAAAAAADYg0BBmlD9j3sRQQAAAAAAaINAd6S62TdgBkEAAAAAAFB5QFIRldlA7PlAAAAAAADAcECcDrSIsRL0QAAAAAAAYG1Ats5sWMxV9UAAAAAAACB0QADyDZy5mvJAAAAAAADAbUBUNHAsaqL3QAAAAAAAgGhAUAoPZyGq8UAAAAAAAEBiQIYJoQJAzeFAAAAAAACAW0B\\u002fad2RpYXZQAAAAAAAAFxANYbAxTbLwkAAAAAAAIBNQP6BnLUm8MlAAAAAAACARkDw1Tbps6StQAAAAAAAAEFAnBloYfAwhEAAAAAAAAA2QM01GtvAFcVAAAAAAAAAMEBAeNvMcOWUQAAAAAAAACRA\",\"shape\":\"24, 2\"},\"hovertemplate\":\"source=survey\\u003cbr\\u003edpurp_label=Work\\u003cbr\\u003edept_hr=%{x}\\u003cbr\\u003epercentage=%{y}\\u003cbr\\u003etrexpfac=%{customdata[0]}\\u003cbr\\u003esample_count=%{customdata[1]}\\u003cextra\\u003e\\u003c\\u002fextra\\u003e\",\"legendgroup\":\"survey\",\"marker\":{\"color\":\"#8CC63E\",\"pattern\":{\"shape\":\"\"}},\"name\":\"survey\",\"offsetgroup\":\"survey\",\"orientation\":\"v\",\"showlegend\":true,\"textposition\":\"auto\",\"x\":{\"dtype\":\"i1\",\"bdata\":\"AAECAwQFBgcICQoLDA0ODxAREhMUFRYX\"},\"xaxis\":\"x6\",\"y\":{\"dtype\":\"f8\",\"bdata\":\"kql2kh6nPD9ZawTHXQY0PwAAAAAAAAAAhBr9affoez+H6WDxk7edP3JuYLSYma0\\u002fCA15jrRHvT+cy3V5SkTJP892Xq+p68M\\u002f\\u002fyjnJf9+uT\\u002fINSJnp4mtP2jm1tZD36Y\\u002fi7ed62xPqD\\u002fTh9eA3jKlP2lKPlIf7qo\\u002fLOOOfrkgpD8JMvzOvUiUP8jByT+9FI0\\u002fIUaWoh5qdT+5E\\u002f1oGI59P2YjqJ1142A\\u002f98+FZboBNz\\u002f0EjMkcwZ4P4ThJ2hmz0c\\u002f\"},\"yaxis\":\"y6\",\"type\":\"bar\"},{\"alignmentgroup\":\"True\",\"customdata\":{\"dtype\":\"f8\",\"bdata\":\"AAAAAAAAAAAAAAAAAAAAAAAAAAAAAAAAAAAAAAAAAAAAAAAAAAAAAAAAAAAAAAAAAAAAAAAAAAAAAAAAAAAAABXug+gRrFVAAAAAAAAA8D+cwa9xRmZ8QAAAAAAAABBA1J9\\u002fZbQi2UAAAAAAAAA6QJLqMwMcqwhBAAAAAACgbUAlf+w+g8oGQQAAAAAAoHBA35DU+ufC60AAAAAAAIBPQCvMPYvFpsJAAAAAAAAANkB6jW6R9hG5QAAAAAAAADBA75AT2H8SuUAAAAAAAAAqQFEkZynrx89AAAAAAAAAM0DMGS+v+9OzQAAAAAAAACpA0ZmZuTbQrUAAAAAAAAAuQKjajxUWNbFAAAAAAAAAIkAIX+GJ6aCPQAAAAAAAACBABGsstwJbxkAAAAAAAAAIQIuxHsNOcV1AAAAAAAAA8D8AAAAAAAAAAAAAAAAAAAAAAAAAAAAAAAAAAAAAAAAAAAAAAAAAAAAAAAAAAAAAAAAAAAAAAAAAAAAAAAAAAAAA\",\"shape\":\"24, 2\"},\"hovertemplate\":\"source=survey\\u003cbr\\u003edpurp_label=School\\u003cbr\\u003edept_hr=%{x}\\u003cbr\\u003epercentage=%{y}\\u003cbr\\u003etrexpfac=%{customdata[0]}\\u003cbr\\u003esample_count=%{customdata[1]}\\u003cextra\\u003e\\u003c\\u002fextra\\u003e\",\"legendgroup\":\"survey\",\"marker\":{\"color\":\"#8CC63E\",\"pattern\":{\"shape\":\"\"}},\"name\":\"survey\",\"offsetgroup\":\"survey\",\"orientation\":\"v\",\"showlegend\":false,\"textposition\":\"auto\",\"x\":{\"dtype\":\"i1\",\"bdata\":\"AAECAwQFBgcICQoLDA0ODxAREhMUFRYX\"},\"xaxis\":\"x5\",\"y\":{\"dtype\":\"f8\",\"bdata\":\"AAAAAAAAAAAAAAAAAAAAAAAAAAAAAAAAAAAAAAAAAAC2xbN5Py4lP9BlRmdlwUs\\u002f\\u002f1yMbcaQqD\\u002fJa89g5BvYP\\u002fU0788xRtY\\u002fIY4fabshuz9PB0CmfDqSPz\\u002fHt8tpgIg\\u002fzR5h9e+AiD\\u002fvaFt0aA+fP6ebzgveYIM\\u002f0OmQYCAjfT\\u002fcZe94L9GAP3hVX0pJ6V4\\u002fe\\u002fstoTjZlT8BxStpX8YsPwAAAAAAAAAAAAAAAAAAAAAAAAAAAAAAAAAAAAAAAAAA\"},\"yaxis\":\"y5\",\"type\":\"bar\"},{\"alignmentgroup\":\"True\",\"customdata\":{\"dtype\":\"f8\",\"bdata\":\"rDIaz2BsdkAAAAAAAAAIQNUHSA2v8GFAAAAAAAAA8D\\u002fR7iqYLNeBQAAAAAAAAPA\\u002fAAAAAAAAAAAAAAAAAAAAAHqeDuMntqJAAAAAAAAAAEDCbgX\\u002fgSyRQAAAAAAAACBAEpflhhjpwkAAAAAAAAAwQCG5WJ3EJN5AAAAAAACAS0BtwgG2foPpQAAAAAAAAFhApBI\\u002fc4g\\u002f8kAAAAAAAEBoQD2lv3+WMwFBAAAAAAAwckBRgZxy2jQEQQAAAAAA8HRAcnGF6DtbA0EAAAAAAEB0QKqO8MDTIAJBAAAAAAAAc0Cr6cAFmrMKQQAAAAAAkHVAhp1uTWItDUEAAAAAAIByQJ9DKqUIawhBAAAAAADAdEDNlHN35Ej\\u002fQAAAAAAAEHNAfy7PuRN3AkEAAAAAAMBuQK4+aq+G\\u002fvBAAAAAAADAakAeuDEOIHjgQAAAAAAAQFVA6mOeVCF80EAAAAAAAAA9QDALnmGS0M9AAAAAAAAAM0B86qbaPKeyQAAAAAAAABxA\",\"shape\":\"24, 2\"},\"hovertemplate\":\"source=survey\\u003cbr\\u003edpurp_label=Shop\\u003cbr\\u003edept_hr=%{x}\\u003cbr\\u003epercentage=%{y}\\u003cbr\\u003etrexpfac=%{customdata[0]}\\u003cbr\\u003esample_count=%{customdata[1]}\\u003cextra\\u003e\\u003c\\u002fextra\\u003e\",\"legendgroup\":\"survey\",\"marker\":{\"color\":\"#8CC63E\",\"pattern\":{\"shape\":\"\"}},\"name\":\"survey\",\"offsetgroup\":\"survey\",\"orientation\":\"v\",\"showlegend\":false,\"textposition\":\"auto\",\"x\":{\"dtype\":\"i1\",\"bdata\":\"AAECAwQFBgcICQoLDA0ODxAREhMUFRYX\"},\"xaxis\":\"x4\",\"y\":{\"dtype\":\"f8\",\"bdata\":\"avTdDP05KT\\u002fUrLfY0S4UP+demgIfEjQ\\u002fAAAAAAAAAADimVpX+gxVP+0MeJseUkM\\u002fHv1WNElGdT+Zjr1xufSQP7PvEuoAtJw\\u002fhOEupIaHpD8dKmKxFVqzPwOgUEyEu7Y\\u002feLFSVLHGtT+EfHxF+2S0P1K3rn4gCr4\\u002fk43By5FpwD8g2UBNe3i7P5cQj8ULmbE\\u002fteuLewPGtD9VktDAYx6jPyxfs+ovh5I\\u002ffpzPXLGLgj\\u002ftihvKXeWBP9oGKeMx\\u002fGQ\\u002f\"},\"yaxis\":\"y4\",\"type\":\"bar\"},{\"alignmentgroup\":\"True\",\"customdata\":{\"dtype\":\"f8\",\"bdata\":\"S+8gLvrEg0AAAAAAAADwPwAAAAAAAAAAAAAAAAAAAAAAAAAAAAAAAAAAAAAAAAAAAAAAAAAAAAAAAAAAAAAAAMRVEpr8TzdAAAAAAAAA8D\\u002fcEQ5Y+12vQAAAAAAAABRAEuKZsQ7v0kAAAAAAAAA8QAdbFE1qytBAAAAAAACASEAq9BqfMavjQAAAAAAAgFFAiEU2Z9WP30AAAAAAAIBWQLo4iNC\\u002f99VAAAAAAACAVUBRHmniwlTzQAAAAAAAAGlAKn6JhjkT\\u002fEAAAAAAACBuQJXcvXciqeFAAAAAAAAgY0AjuuPb+hDzQAAAAAAAAF5AUFZJ9Hv19EAAAAAAAEBeQA0LVFxsPfFAAAAAAAAgZEBY4KLS3r30QAAAAAAA4GlA1W7Do\\u002fBH9EAAAAAAAEBpQMVH2lM6cu1AAAAAAADAXUB7wc0mKb7wQAAAAAAAwFRA+wSoK\\u002fyeykAAAAAAAAA9QJn4JwCLWLNAAAAAAAAALkBT0WCVFluXQAAAAAAAABBA\",\"shape\":\"24, 2\"},\"hovertemplate\":\"source=survey\\u003cbr\\u003edpurp_label=Meal\\u003cbr\\u003edept_hr=%{x}\\u003cbr\\u003epercentage=%{y}\\u003cbr\\u003etrexpfac=%{customdata[0]}\\u003cbr\\u003esample_count=%{customdata[1]}\\u003cextra\\u003e\\u003c\\u002fextra\\u003e\",\"legendgroup\":\"survey\",\"marker\":{\"color\":\"#8CC63E\",\"pattern\":{\"shape\":\"\"}},\"name\":\"survey\",\"offsetgroup\":\"survey\",\"orientation\":\"v\",\"showlegend\":false,\"textposition\":\"auto\",\"x\":{\"dtype\":\"i1\",\"bdata\":\"AAECAwQFBgcICQoLDA0ODxAREhMUFRYX\"},\"xaxis\":\"x3\",\"y\":{\"dtype\":\"f8\",\"bdata\":\"qXMcqVKTRj8AAAAAAAAAAAAAAAAAAAAAAAAAAAAAAABs\\u002f71SEp\\u002f6Pud9RQbf6HE\\u002fklPFJQqflT+7KJ40hiyTPzBiITvhdaY\\u002fDaf2w1UFoj9KFNJE+RWZPx8Jxt0tE7Y\\u002fInc11q4HwD9Zedcj2yqkPzO3Ru3GxbU\\u002fxRUWDA3vtz9B+kE326+zPwx3vx+Lr7c\\u002feymMzd8otz8suXBKGNCwP4z4X8aHHrM\\u002f\\u002f\\u002fftjkpmjj++5SRlfxd2P1Trv7C\\u002fq1o\\u002f\"},\"yaxis\":\"y3\",\"type\":\"bar\"},{\"alignmentgroup\":\"True\",\"customdata\":{\"dtype\":\"f8\",\"bdata\":\"utkyW31UIkAAAAAAAADwPwAAAAAAAAAAAAAAAAAAAAAAAAAAAAAAAAAAAAAAAAAAAAAAAAAAAAAAAAAAAAAAAI2cHv82rK9AAAAAAAAA8D+9KI5qsGqoQAAAAAAAACRAiph2LG9m4EAAAAAAAIBCQJuBVSdVpwxBAAAAAABgbEACIVcf4e4GQQAAAAAAQG1ADmiCQa5P9EAAAAAAAMBXQC6\\u002fEQbnMdNAAAAAAACAU0Ck3R\\u002fFpM3bQAAAAAAAgE9AzNShFvIn2EAAAAAAAABTQF3RNON0zPZAAAAAAADAVUBNU7H+kMUCQQAAAAAA4GVAEAfZ7hQPCUEAAAAAAIBsQApmk3oMU\\u002fZAAAAAAAAgY0BitBL33Er5QAAAAAAAgGFAvtGsKr3T2EAAAAAAAABRQLvlj10aU+NAAAAAAAAATUBOaXUsNAvVQAAAAAAAAD1A0DOWUJdJwEAAAAAAAAA3QIuM5b5ffsZAAAAAAAAAKkDFzPnRrPyCQAAAAAAAAAhA\",\"shape\":\"24, 2\"},\"hovertemplate\":\"source=survey\\u003cbr\\u003edpurp_label=Escort\\u003cbr\\u003edept_hr=%{x}\\u003cbr\\u003epercentage=%{y}\\u003cbr\\u003etrexpfac=%{customdata[0]}\\u003cbr\\u003esample_count=%{customdata[1]}\\u003cextra\\u003e\\u003c\\u002fextra\\u003e\",\"legendgroup\":\"survey\",\"marker\":{\"color\":\"#8CC63E\",\"pattern\":{\"shape\":\"\"}},\"name\":\"survey\",\"offsetgroup\":\"survey\",\"orientation\":\"v\",\"showlegend\":false,\"textposition\":\"auto\",\"x\":{\"dtype\":\"i1\",\"bdata\":\"AAECAwQFBgcICQoLDA0ODxAREhMUFRYX\"},\"xaxis\":\"x2\",\"y\":{\"dtype\":\"f8\",\"bdata\":\"YPp1jpX62z4AAAAAAAAAAAAAAAAAAAAAAAAAAAAAAACF9ERxKSxoP2VH6i2BomI\\u002fDnE6H3YImT8etxUDTd7FP32neJaigME\\u002fHnPE0cEArz+d+RgRjEyNP6IhxEwpOJU\\u002fT2zI85Bvkj8RKsQeXWaxP8lT1ggvp7w\\u002fzsVc8Pcfwz\\u002fSWIiotAmxP2R\\u002fi+yXTbM\\u002fcGx9oq3ykj\\u002f0g29nOX+dP1V8v9x+D5A\\u002fOak+c2\\u002fceD+v\\u002fbB5xSqBPzxsbx9N+zw\\u002f\"},\"yaxis\":\"y2\",\"type\":\"bar\"},{\"alignmentgroup\":\"True\",\"customdata\":{\"dtype\":\"f8\",\"bdata\":\"AAAAAAAAAAAAAAAAAAAAAAAAAAAAAAAAAAAAAAAAAAAAAAAAAAAAAAAAAAAAAAAAAAAAAAAAAAAAAAAAAAAAAAAAAAAAAAAAAAAAAAAAAACa8xZta\\u002fumQAAAAAAAABRArqFiEteDukAAAAAAAAA4QL6tSVOGzOVAAAAAAAAAU0CP6PLAXQXfQAAAAAAAgFtAia\\u002fWJYIr8kAAAAAAAGBjQNwIE0cMQvBAAAAAAADgZkASMNLO8kHrQAAAAAAAgGJAywM2oLGE8UAAAAAAAGBiQDSeGR6Df\\u002fJAAAAAAABAZUB5kTmdNOT\\u002fQAAAAAAAIGRARYi2Xk4B70AAAAAAAABhQN2cjCCmu+NAAAAAAACAXkA1Y9d6D8\\u002fwQAAAAAAAwFRAv55eqKRLwkAAAAAAAIBJQD51YMZiJMtAAAAAAAAANkBw\\u002fzXjDyqVQAAAAAAAACBA81x7DMIltUAAAAAAAAAUQMJPxfSWrWhAAAAAAAAA8D8AAAAAAAAAAAAAAAAAAAAA\",\"shape\":\"24, 2\"},\"hovertemplate\":\"source=survey\\u003cbr\\u003edpurp_label=Personal Business\\u003cbr\\u003edept_hr=%{x}\\u003cbr\\u003epercentage=%{y}\\u003cbr\\u003etrexpfac=%{customdata[0]}\\u003cbr\\u003esample_count=%{customdata[1]}\\u003cextra\\u003e\\u003c\\u002fextra\\u003e\",\"legendgroup\":\"survey\",\"marker\":{\"color\":\"#8CC63E\",\"pattern\":{\"shape\":\"\"}},\"name\":\"survey\",\"offsetgroup\":\"survey\",\"orientation\":\"v\",\"showlegend\":false,\"textposition\":\"auto\",\"x\":{\"dtype\":\"i1\",\"bdata\":\"AAECAwQFBgcICQoLDA0ODxAREhMUFRYX\"},\"xaxis\":\"x\",\"y\":{\"dtype\":\"f8\",\"bdata\":\"AAAAAAAAAAAAAAAAAAAAAAAAAAAAAAAAAAAAAAAAAAAAAAAAAAAAAIUfilOciW8\\u002fI3XWi1sxgj\\u002fQRuRj9emtP39xC0\\u002fUSKU\\u002fhWgtHRrvuD9W2Em\\u002fbk+2P8PblA\\u002fMs7I\\u002f5wHMMTAKuD+drm+hYGK5P52NRwO64cU\\u002foB9hJwtGtT\\u002fGlndrMxSrP1xl8mrwELc\\u002fnhC3EDMbiT8Nkjljg5+SP3\\u002fRGEoEC10\\u002fCzZRRhwFfT+HNg4YtO4wPwAAAAAAAAAA\"},\"yaxis\":\"y\",\"type\":\"bar\"}],                        {\"template\":{\"data\":{\"barpolar\":[{\"marker\":{\"line\":{\"color\":\"white\",\"width\":0.5},\"pattern\":{\"fillmode\":\"overlay\",\"size\":10,\"solidity\":0.2}},\"type\":\"barpolar\"}],\"bar\":[{\"error_x\":{\"color\":\"rgb(36,36,36)\"},\"error_y\":{\"color\":\"rgb(36,36,36)\"},\"marker\":{\"line\":{\"color\":\"white\",\"width\":0.5},\"pattern\":{\"fillmode\":\"overlay\",\"size\":10,\"solidity\":0.2}},\"type\":\"bar\"}],\"carpet\":[{\"aaxis\":{\"endlinecolor\":\"rgb(36,36,36)\",\"gridcolor\":\"white\",\"linecolor\":\"white\",\"minorgridcolor\":\"white\",\"startlinecolor\":\"rgb(36,36,36)\"},\"baxis\":{\"endlinecolor\":\"rgb(36,36,36)\",\"gridcolor\":\"white\",\"linecolor\":\"white\",\"minorgridcolor\":\"white\",\"startlinecolor\":\"rgb(36,36,36)\"},\"type\":\"carpet\"}],\"choropleth\":[{\"colorbar\":{\"outlinewidth\":1,\"tickcolor\":\"rgb(36,36,36)\",\"ticks\":\"outside\"},\"type\":\"choropleth\"}],\"contourcarpet\":[{\"colorbar\":{\"outlinewidth\":1,\"tickcolor\":\"rgb(36,36,36)\",\"ticks\":\"outside\"},\"type\":\"contourcarpet\"}],\"contour\":[{\"colorbar\":{\"outlinewidth\":1,\"tickcolor\":\"rgb(36,36,36)\",\"ticks\":\"outside\"},\"colorscale\":[[0.0,\"#440154\"],[0.1111111111111111,\"#482878\"],[0.2222222222222222,\"#3e4989\"],[0.3333333333333333,\"#31688e\"],[0.4444444444444444,\"#26828e\"],[0.5555555555555556,\"#1f9e89\"],[0.6666666666666666,\"#35b779\"],[0.7777777777777778,\"#6ece58\"],[0.8888888888888888,\"#b5de2b\"],[1.0,\"#fde725\"]],\"type\":\"contour\"}],\"heatmap\":[{\"colorbar\":{\"outlinewidth\":1,\"tickcolor\":\"rgb(36,36,36)\",\"ticks\":\"outside\"},\"colorscale\":[[0.0,\"#440154\"],[0.1111111111111111,\"#482878\"],[0.2222222222222222,\"#3e4989\"],[0.3333333333333333,\"#31688e\"],[0.4444444444444444,\"#26828e\"],[0.5555555555555556,\"#1f9e89\"],[0.6666666666666666,\"#35b779\"],[0.7777777777777778,\"#6ece58\"],[0.8888888888888888,\"#b5de2b\"],[1.0,\"#fde725\"]],\"type\":\"heatmap\"}],\"histogram2dcontour\":[{\"colorbar\":{\"outlinewidth\":1,\"tickcolor\":\"rgb(36,36,36)\",\"ticks\":\"outside\"},\"colorscale\":[[0.0,\"#440154\"],[0.1111111111111111,\"#482878\"],[0.2222222222222222,\"#3e4989\"],[0.3333333333333333,\"#31688e\"],[0.4444444444444444,\"#26828e\"],[0.5555555555555556,\"#1f9e89\"],[0.6666666666666666,\"#35b779\"],[0.7777777777777778,\"#6ece58\"],[0.8888888888888888,\"#b5de2b\"],[1.0,\"#fde725\"]],\"type\":\"histogram2dcontour\"}],\"histogram2d\":[{\"colorbar\":{\"outlinewidth\":1,\"tickcolor\":\"rgb(36,36,36)\",\"ticks\":\"outside\"},\"colorscale\":[[0.0,\"#440154\"],[0.1111111111111111,\"#482878\"],[0.2222222222222222,\"#3e4989\"],[0.3333333333333333,\"#31688e\"],[0.4444444444444444,\"#26828e\"],[0.5555555555555556,\"#1f9e89\"],[0.6666666666666666,\"#35b779\"],[0.7777777777777778,\"#6ece58\"],[0.8888888888888888,\"#b5de2b\"],[1.0,\"#fde725\"]],\"type\":\"histogram2d\"}],\"histogram\":[{\"marker\":{\"line\":{\"color\":\"white\",\"width\":0.6}},\"type\":\"histogram\"}],\"mesh3d\":[{\"colorbar\":{\"outlinewidth\":1,\"tickcolor\":\"rgb(36,36,36)\",\"ticks\":\"outside\"},\"type\":\"mesh3d\"}],\"parcoords\":[{\"line\":{\"colorbar\":{\"outlinewidth\":1,\"tickcolor\":\"rgb(36,36,36)\",\"ticks\":\"outside\"}},\"type\":\"parcoords\"}],\"pie\":[{\"automargin\":true,\"type\":\"pie\"}],\"scatter3d\":[{\"line\":{\"colorbar\":{\"outlinewidth\":1,\"tickcolor\":\"rgb(36,36,36)\",\"ticks\":\"outside\"}},\"marker\":{\"colorbar\":{\"outlinewidth\":1,\"tickcolor\":\"rgb(36,36,36)\",\"ticks\":\"outside\"}},\"type\":\"scatter3d\"}],\"scattercarpet\":[{\"marker\":{\"colorbar\":{\"outlinewidth\":1,\"tickcolor\":\"rgb(36,36,36)\",\"ticks\":\"outside\"}},\"type\":\"scattercarpet\"}],\"scattergeo\":[{\"marker\":{\"colorbar\":{\"outlinewidth\":1,\"tickcolor\":\"rgb(36,36,36)\",\"ticks\":\"outside\"}},\"type\":\"scattergeo\"}],\"scattergl\":[{\"marker\":{\"colorbar\":{\"outlinewidth\":1,\"tickcolor\":\"rgb(36,36,36)\",\"ticks\":\"outside\"}},\"type\":\"scattergl\"}],\"scattermapbox\":[{\"marker\":{\"colorbar\":{\"outlinewidth\":1,\"tickcolor\":\"rgb(36,36,36)\",\"ticks\":\"outside\"}},\"type\":\"scattermapbox\"}],\"scattermap\":[{\"marker\":{\"colorbar\":{\"outlinewidth\":1,\"tickcolor\":\"rgb(36,36,36)\",\"ticks\":\"outside\"}},\"type\":\"scattermap\"}],\"scatterpolargl\":[{\"marker\":{\"colorbar\":{\"outlinewidth\":1,\"tickcolor\":\"rgb(36,36,36)\",\"ticks\":\"outside\"}},\"type\":\"scatterpolargl\"}],\"scatterpolar\":[{\"marker\":{\"colorbar\":{\"outlinewidth\":1,\"tickcolor\":\"rgb(36,36,36)\",\"ticks\":\"outside\"}},\"type\":\"scatterpolar\"}],\"scatter\":[{\"fillpattern\":{\"fillmode\":\"overlay\",\"size\":10,\"solidity\":0.2},\"type\":\"scatter\"}],\"scatterternary\":[{\"marker\":{\"colorbar\":{\"outlinewidth\":1,\"tickcolor\":\"rgb(36,36,36)\",\"ticks\":\"outside\"}},\"type\":\"scatterternary\"}],\"surface\":[{\"colorbar\":{\"outlinewidth\":1,\"tickcolor\":\"rgb(36,36,36)\",\"ticks\":\"outside\"},\"colorscale\":[[0.0,\"#440154\"],[0.1111111111111111,\"#482878\"],[0.2222222222222222,\"#3e4989\"],[0.3333333333333333,\"#31688e\"],[0.4444444444444444,\"#26828e\"],[0.5555555555555556,\"#1f9e89\"],[0.6666666666666666,\"#35b779\"],[0.7777777777777778,\"#6ece58\"],[0.8888888888888888,\"#b5de2b\"],[1.0,\"#fde725\"]],\"type\":\"surface\"}],\"table\":[{\"cells\":{\"fill\":{\"color\":\"rgb(237,237,237)\"},\"line\":{\"color\":\"white\"}},\"header\":{\"fill\":{\"color\":\"rgb(217,217,217)\"},\"line\":{\"color\":\"white\"}},\"type\":\"table\"}]},\"layout\":{\"annotationdefaults\":{\"arrowhead\":0,\"arrowwidth\":1},\"autotypenumbers\":\"strict\",\"coloraxis\":{\"colorbar\":{\"outlinewidth\":1,\"tickcolor\":\"rgb(36,36,36)\",\"ticks\":\"outside\"}},\"colorscale\":{\"diverging\":[[0.0,\"rgb(103,0,31)\"],[0.1,\"rgb(178,24,43)\"],[0.2,\"rgb(214,96,77)\"],[0.3,\"rgb(244,165,130)\"],[0.4,\"rgb(253,219,199)\"],[0.5,\"rgb(247,247,247)\"],[0.6,\"rgb(209,229,240)\"],[0.7,\"rgb(146,197,222)\"],[0.8,\"rgb(67,147,195)\"],[0.9,\"rgb(33,102,172)\"],[1.0,\"rgb(5,48,97)\"]],\"sequential\":[[0.0,\"#440154\"],[0.1111111111111111,\"#482878\"],[0.2222222222222222,\"#3e4989\"],[0.3333333333333333,\"#31688e\"],[0.4444444444444444,\"#26828e\"],[0.5555555555555556,\"#1f9e89\"],[0.6666666666666666,\"#35b779\"],[0.7777777777777778,\"#6ece58\"],[0.8888888888888888,\"#b5de2b\"],[1.0,\"#fde725\"]],\"sequentialminus\":[[0.0,\"#440154\"],[0.1111111111111111,\"#482878\"],[0.2222222222222222,\"#3e4989\"],[0.3333333333333333,\"#31688e\"],[0.4444444444444444,\"#26828e\"],[0.5555555555555556,\"#1f9e89\"],[0.6666666666666666,\"#35b779\"],[0.7777777777777778,\"#6ece58\"],[0.8888888888888888,\"#b5de2b\"],[1.0,\"#fde725\"]]},\"colorway\":[\"#91268F\",\"#8CC63E\",\"#00A7A0\",\"#F05A28\",\"#4C4C4C\",\"#630460\",\"#9f3913\",\"#588527\",\"#00716c\",\"#3e4040\"],\"font\":{\"color\":\"rgb(36,36,36)\",\"family\":\"Poppins\",\"size\":11},\"geo\":{\"bgcolor\":\"white\",\"lakecolor\":\"white\",\"landcolor\":\"white\",\"showlakes\":true,\"showland\":true,\"subunitcolor\":\"white\"},\"hoverlabel\":{\"align\":\"left\"},\"hovermode\":\"closest\",\"mapbox\":{\"style\":\"light\"},\"paper_bgcolor\":\"white\",\"plot_bgcolor\":\"white\",\"polar\":{\"angularaxis\":{\"gridcolor\":\"rgb(232,232,232)\",\"linecolor\":\"rgb(36,36,36)\",\"showgrid\":false,\"showline\":true,\"ticks\":\"outside\"},\"bgcolor\":\"white\",\"radialaxis\":{\"gridcolor\":\"rgb(232,232,232)\",\"linecolor\":\"rgb(36,36,36)\",\"showgrid\":false,\"showline\":true,\"ticks\":\"outside\"}},\"scene\":{\"xaxis\":{\"backgroundcolor\":\"white\",\"gridcolor\":\"rgb(232,232,232)\",\"gridwidth\":2,\"linecolor\":\"rgb(36,36,36)\",\"showbackground\":true,\"showgrid\":false,\"showline\":true,\"ticks\":\"outside\",\"zeroline\":false,\"zerolinecolor\":\"rgb(36,36,36)\"},\"yaxis\":{\"backgroundcolor\":\"white\",\"gridcolor\":\"rgb(232,232,232)\",\"gridwidth\":2,\"linecolor\":\"rgb(36,36,36)\",\"showbackground\":true,\"showgrid\":false,\"showline\":true,\"ticks\":\"outside\",\"zeroline\":false,\"zerolinecolor\":\"rgb(36,36,36)\"},\"zaxis\":{\"backgroundcolor\":\"white\",\"gridcolor\":\"rgb(232,232,232)\",\"gridwidth\":2,\"linecolor\":\"rgb(36,36,36)\",\"showbackground\":true,\"showgrid\":false,\"showline\":true,\"ticks\":\"outside\",\"zeroline\":false,\"zerolinecolor\":\"rgb(36,36,36)\"}},\"shapedefaults\":{\"fillcolor\":\"black\",\"line\":{\"width\":0},\"opacity\":0.3},\"ternary\":{\"aaxis\":{\"gridcolor\":\"rgb(232,232,232)\",\"linecolor\":\"rgb(36,36,36)\",\"showgrid\":false,\"showline\":true,\"ticks\":\"outside\"},\"baxis\":{\"gridcolor\":\"rgb(232,232,232)\",\"linecolor\":\"rgb(36,36,36)\",\"showgrid\":false,\"showline\":true,\"ticks\":\"outside\"},\"bgcolor\":\"white\",\"caxis\":{\"gridcolor\":\"rgb(232,232,232)\",\"linecolor\":\"rgb(36,36,36)\",\"showgrid\":false,\"showline\":true,\"ticks\":\"outside\"}},\"title\":{\"x\":0.05},\"xaxis\":{\"automargin\":true,\"gridcolor\":\"rgb(232,232,232)\",\"linecolor\":\"rgb(36,36,36)\",\"showgrid\":false,\"showline\":true,\"ticks\":\"outside\",\"title\":{\"standoff\":15},\"zeroline\":false,\"zerolinecolor\":\"rgb(36,36,36)\"},\"yaxis\":{\"automargin\":true,\"gridcolor\":\"rgb(232,232,232)\",\"linecolor\":\"rgb(36,36,36)\",\"showgrid\":false,\"showline\":true,\"ticks\":\"outside\",\"title\":{\"standoff\":15},\"zeroline\":false,\"zerolinecolor\":\"rgb(36,36,36)\"}}},\"xaxis\":{\"anchor\":\"y\",\"domain\":[0.0,0.98],\"title\":{\"text\":\"dept_hr\"},\"dtick\":1,\"categoryorder\":\"category ascending\"},\"yaxis\":{\"anchor\":\"x\",\"domain\":[0.0,0.14166666666666666],\"title\":{\"text\":\"percentage\"},\"tickformat\":\".0%\"},\"xaxis2\":{\"anchor\":\"y2\",\"domain\":[0.0,0.98],\"matches\":\"x\",\"showticklabels\":false,\"dtick\":1,\"categoryorder\":\"category ascending\"},\"yaxis2\":{\"anchor\":\"x2\",\"domain\":[0.17166666666666666,0.31333333333333335],\"matches\":\"y\",\"title\":{\"text\":\"percentage\"},\"tickformat\":\".0%\"},\"xaxis3\":{\"anchor\":\"y3\",\"domain\":[0.0,0.98],\"matches\":\"x\",\"showticklabels\":false,\"dtick\":1,\"categoryorder\":\"category ascending\"},\"yaxis3\":{\"anchor\":\"x3\",\"domain\":[0.3433333333333333,0.485],\"matches\":\"y\",\"title\":{\"text\":\"percentage\"},\"tickformat\":\".0%\"},\"xaxis4\":{\"anchor\":\"y4\",\"domain\":[0.0,0.98],\"matches\":\"x\",\"showticklabels\":false,\"dtick\":1,\"categoryorder\":\"category ascending\"},\"yaxis4\":{\"anchor\":\"x4\",\"domain\":[0.515,0.6566666666666667],\"matches\":\"y\",\"title\":{\"text\":\"percentage\"},\"tickformat\":\".0%\"},\"xaxis5\":{\"anchor\":\"y5\",\"domain\":[0.0,0.98],\"matches\":\"x\",\"showticklabels\":false,\"dtick\":1,\"categoryorder\":\"category ascending\"},\"yaxis5\":{\"anchor\":\"x5\",\"domain\":[0.6866666666666666,0.8283333333333334],\"matches\":\"y\",\"title\":{\"text\":\"percentage\"},\"tickformat\":\".0%\"},\"xaxis6\":{\"anchor\":\"y6\",\"domain\":[0.0,0.98],\"matches\":\"x\",\"showticklabels\":false,\"dtick\":1,\"categoryorder\":\"category ascending\"},\"yaxis6\":{\"anchor\":\"x6\",\"domain\":[0.8583333333333333,1.0],\"matches\":\"y\",\"title\":{\"text\":\"percentage\"},\"tickformat\":\".0%\"},\"annotations\":[{\"font\":{},\"showarrow\":false,\"text\":\"Personal Business\",\"textangle\":90,\"x\":0.98,\"xanchor\":\"left\",\"xref\":\"paper\",\"y\":0.07083333333333333,\"yanchor\":\"middle\",\"yref\":\"paper\"},{\"font\":{},\"showarrow\":false,\"text\":\"Escort\",\"textangle\":90,\"x\":0.98,\"xanchor\":\"left\",\"xref\":\"paper\",\"y\":0.2425,\"yanchor\":\"middle\",\"yref\":\"paper\"},{\"font\":{},\"showarrow\":false,\"text\":\"Meal\",\"textangle\":90,\"x\":0.98,\"xanchor\":\"left\",\"xref\":\"paper\",\"y\":0.4141666666666667,\"yanchor\":\"middle\",\"yref\":\"paper\"},{\"font\":{},\"showarrow\":false,\"text\":\"Shop\",\"textangle\":90,\"x\":0.98,\"xanchor\":\"left\",\"xref\":\"paper\",\"y\":0.5858333333333334,\"yanchor\":\"middle\",\"yref\":\"paper\"},{\"font\":{},\"showarrow\":false,\"text\":\"School\",\"textangle\":90,\"x\":0.98,\"xanchor\":\"left\",\"xref\":\"paper\",\"y\":0.7575000000000001,\"yanchor\":\"middle\",\"yref\":\"paper\"},{\"font\":{},\"showarrow\":false,\"text\":\"Work\",\"textangle\":90,\"x\":0.98,\"xanchor\":\"left\",\"xref\":\"paper\",\"y\":0.9291666666666667,\"yanchor\":\"middle\",\"yref\":\"paper\"}],\"legend\":{\"title\":{\"text\":\"source\"},\"tracegroupgap\":0},\"title\":{\"text\":\"trip origin departure hour by purpose\"},\"barmode\":\"group\",\"height\":1500,\"width\":850},                        {\"responsive\": true}                    ).then(function(){\n",
       "                            \n",
       "var gd = document.getElementById('cbee120b-4787-422a-82f2-0b18eb24b634');\n",
       "var x = new MutationObserver(function (mutations, observer) {{\n",
       "        var display = window.getComputedStyle(gd).display;\n",
       "        if (!display || display === 'none') {{\n",
       "            console.log([gd, 'removed!']);\n",
       "            Plotly.purge(gd);\n",
       "            observer.disconnect();\n",
       "        }}\n",
       "}});\n",
       "\n",
       "// Listen for the removal of the full notebook cells\n",
       "var notebookContainer = gd.closest('#notebook-container');\n",
       "if (notebookContainer) {{\n",
       "    x.observe(notebookContainer, {childList: true});\n",
       "}}\n",
       "\n",
       "// Listen for the clearing of the current output cell\n",
       "var outputEl = gd.closest('.output');\n",
       "if (outputEl) {{\n",
       "    x.observe(outputEl, {childList: true});\n",
       "}}\n",
       "\n",
       "                        })                };            </script>        </div>"
      ]
     },
     "metadata": {},
     "output_type": "display_data"
    }
   ],
   "source": [
    "df_plot = df_trip.groupby(['dept_hr','dpurp_label','source'])['trexpfac'].agg(sample_count='size', trexpfac='sum').reset_index()\n",
    "df_plot['percentage'] = df_plot.groupby(['dpurp_label','source'], group_keys=False)['trexpfac']. \\\n",
    "    apply(lambda x: x / float(x.sum()))\n",
    "\n",
    "fig = px.bar(df_plot.sort_values(['source','dpurp_label']),\n",
    "             x=\"dept_hr\", y=\"percentage\", color=\"source\",barmode=\"group\",\n",
    "             facet_row='dpurp_label',\n",
    "             hover_data=['trexpfac','sample_count'],\n",
    "             title=\"trip origin departure hour by purpose\")\n",
    "fig.update_layout(height=1500, width=850)\n",
    "fig.for_each_annotation(lambda a: a.update(text = a.text.split(\"=\")[-1]))\n",
    "fig.for_each_xaxis(lambda a: a.update(dict(dtick = 1, categoryorder='category ascending')))\n",
    "fig.for_each_yaxis(lambda a: a.update(dict(tickformat=\".0%\")))\n",
    "fig.show()"
   ]
  },
  {
   "cell_type": "raw",
   "metadata": {
    "vscode": {
     "languageId": "raw"
    }
   },
   "source": [
    ":::"
   ]
  }
 ],
 "metadata": {
  "kernelspec": {
   "display_name": "summary",
   "language": "python",
   "name": "python3"
  },
  "language_info": {
   "codemirror_mode": {
    "name": "ipython",
    "version": 3
   },
   "file_extension": ".py",
   "mimetype": "text/x-python",
   "name": "python",
   "nbconvert_exporter": "python",
   "pygments_lexer": "ipython3",
   "version": "3.11.12"
  }
 },
 "nbformat": 4,
 "nbformat_minor": 2
}
