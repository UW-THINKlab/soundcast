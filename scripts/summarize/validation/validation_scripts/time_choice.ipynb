{
 "cells": [
  {
   "cell_type": "raw",
   "metadata": {},
   "source": [
    "---\n",
    "title: \"Time Choice\"\n",
    "date: today\n",
    "---"
   ]
  },
  {
   "cell_type": "code",
   "execution_count": 1,
   "metadata": {
    "ExecuteTime": {
     "end_time": "2024-07-15T04:25:53.491736Z",
     "start_time": "2024-07-15T04:25:52.116355Z"
    },
    "execution": {
     "iopub.execute_input": "2024-11-26T18:22:28.332314Z",
     "iopub.status.busy": "2024-11-26T18:22:28.330319Z",
     "iopub.status.idle": "2024-11-26T18:22:31.587006Z",
     "shell.execute_reply": "2024-11-26T18:22:31.583842Z"
    }
   },
   "outputs": [],
   "source": [
    "import os\n",
    "import pandas as pd\n",
    "import numpy as np\n",
    "import validation_data_input\n",
    "import plotly.express as px\n",
    "import toml\n",
    "import math\n",
    "import psrc_theme\n",
    "\n",
    "# to show plotly figures in quarto HTML file\n",
    "import plotly.io as pio\n",
    "pio.renderers.default = \"plotly_mimetype+notebook_connected\"\n",
    "pio.templates.default = \"simple_white+psrc_color\" # set plotly template\n",
    "\n",
    "config = toml.load(os.path.join(os.getcwd(), '..\\\\..\\\\..\\\\..\\\\configuration', 'validation_configuration.toml'))"
   ]
  },
  {
   "cell_type": "code",
   "execution_count": 2,
   "metadata": {
    "ExecuteTime": {
     "end_time": "2024-07-15T04:26:18.475538Z",
     "start_time": "2024-07-15T04:25:57.037934Z"
    },
    "execution": {
     "iopub.execute_input": "2024-11-26T18:22:31.596979Z",
     "iopub.status.busy": "2024-11-26T18:22:31.594983Z",
     "iopub.status.idle": "2024-11-26T18:23:27.142722Z",
     "shell.execute_reply": "2024-11-26T18:23:27.140727Z"
    }
   },
   "outputs": [],
   "source": [
    "tour = validation_data_input.get_data('tour')\n",
    "trip = validation_data_input.get_data('trip')\n",
    "# person = validation_data_input.get_data('person')"
   ]
  },
  {
   "cell_type": "code",
   "execution_count": 3,
   "metadata": {
    "execution": {
     "iopub.execute_input": "2024-11-26T18:23:27.155686Z",
     "iopub.status.busy": "2024-11-26T18:23:27.153691Z",
     "iopub.status.idle": "2024-11-26T18:23:27.205214Z",
     "shell.execute_reply": "2024-11-26T18:23:27.204217Z"
    }
   },
   "outputs": [
    {
     "data": {
      "text/plain": [
       "Index(['id', 'tour_id', 'hhno', 'pno', 'day', 'tour', 'half', 'tseg', 'tsvid',\n",
       "       'opurp', 'dpurp', 'oadtyp', 'dadtyp', 'opcl', 'otaz', 'dpcl', 'dtaz',\n",
       "       'mode', 'pathtype', 'dorp', 'deptm', 'arrtm', 'endacttm', 'travtime',\n",
       "       'travcost', 'travdist', 'vot', 'trexpfac', 'source'],\n",
       "      dtype='object')"
      ]
     },
     "execution_count": 3,
     "metadata": {},
     "output_type": "execute_result"
    }
   ],
   "source": [
    "trip.columns"
   ]
  },
  {
   "cell_type": "code",
   "execution_count": 4,
   "metadata": {
    "ExecuteTime": {
     "end_time": "2024-07-15T04:36:01.318077Z",
     "start_time": "2024-07-15T04:35:58.005548Z"
    },
    "collapsed": false,
    "execution": {
     "iopub.execute_input": "2024-11-26T18:23:27.282416Z",
     "iopub.status.busy": "2024-11-26T18:23:27.281419Z",
     "iopub.status.idle": "2024-11-26T18:23:55.842086Z",
     "shell.execute_reply": "2024-11-26T18:23:55.840090Z"
    }
   },
   "outputs": [],
   "source": [
    "# df_person = person.copy()\n",
    "df_tour = tour.copy()\n",
    "df_trip = trip.copy()\n",
    "\n",
    "# ptype_cat = {1: \"1: full time worker\",\n",
    "#              2: \"2: part time worker\",\n",
    "#              3: \"3: non-worker age 65+\",\n",
    "#              4: \"4: other non-working adult\",\n",
    "#              5: \"5: university student\",\n",
    "#              6: \"6: grade school student/child age 16+\",\n",
    "#              7: \"7: child age 5-15\",\n",
    "#              8: \"8: child age 0-4\"}\n",
    "pdpurp_cat = {1: \"Work\",\n",
    "              2: \"School\",\n",
    "              3: \"Escort\",\n",
    "              4: \"Personal Business\",\n",
    "              5: \"Shop\",\n",
    "              6: \"Meal\",\n",
    "              7: \"Social\",\n",
    "              8: \"Social\",\n",
    "              9: \"Personal Business\"}\n",
    "# df_person['pptyp_label'] = df_person['pptyp'].map(ptype_cat)\n",
    "# df_person['pptyp_label'] = df_person['pptyp_label'].astype(pd.CategoricalDtype([\"1: full time worker\",\"2: part time worker\",\"3: non-worker age 65+\",\"4: other non-working adult\",\"5: university student\",\"6: grade school student/child age 16+\",\"7: child age 5-15\",\"8: child age 0-4\"]))\n",
    "\n",
    "df_tour['pdpurp_label'] = df_tour['pdpurp'].map(pdpurp_cat)\n",
    "df_tour['pdpurp_label'] = df_tour['pdpurp_label'].astype(pd.CategoricalDtype([\"Work\",\"School\",\"Shop\",\"Meal\",\"Escort\",\"Personal Business\"]))\n",
    "\n",
    "df_tour['tlvorg_hr'] = df_tour['tlvorig'].apply(lambda row: int(math.floor(row/60)))\n",
    "\n",
    "\n",
    "df_trip['dpurp_label'] = df_trip['dpurp'].map(pdpurp_cat)\n",
    "df_trip['dpurp_label'] = df_trip['dpurp_label'].astype(pd.CategoricalDtype([\"Work\",\"School\",\"Shop\",\"Meal\",\"Escort\",\"Personal Business\"]))\n",
    "\n",
    "df_trip['dept_hr'] = df_trip['deptm'].apply(lambda row: int(math.floor(row/60)))\n",
    "\n",
    "# df_tour = df_tour.merge(df_person, how='left', on=['pno','hhno','source'])"
   ]
  },
  {
   "cell_type": "markdown",
   "metadata": {},
   "source": [
    "## departure hour"
   ]
  },
  {
   "cell_type": "raw",
   "metadata": {
    "vscode": {
     "languageId": "raw"
    }
   },
   "source": [
    ":::{.panel-tabset}\n",
    "### tour"
   ]
  },
  {
   "cell_type": "code",
   "execution_count": 5,
   "metadata": {
    "ExecuteTime": {
     "end_time": "2024-07-15T04:37:09.021826Z",
     "start_time": "2024-07-15T04:37:08.286683Z"
    },
    "collapsed": false,
    "execution": {
     "iopub.execute_input": "2024-11-26T18:23:55.855051Z",
     "iopub.status.busy": "2024-11-26T18:23:55.854054Z",
     "iopub.status.idle": "2024-11-26T18:23:56.921931Z",
     "shell.execute_reply": "2024-11-26T18:23:56.918939Z"
    }
   },
   "outputs": [
    {
     "data": {
      "text/html": [
       "        <script type=\"text/javascript\">\n",
       "        window.PlotlyConfig = {MathJaxConfig: 'local'};\n",
       "        if (window.MathJax && window.MathJax.Hub && window.MathJax.Hub.Config) {window.MathJax.Hub.Config({SVG: {font: \"STIX-Web\"}});}\n",
       "        if (typeof require !== 'undefined') {\n",
       "        require.undef(\"plotly\");\n",
       "        requirejs.config({\n",
       "            paths: {\n",
       "                'plotly': ['https://cdn.plot.ly/plotly-2.35.2.min']\n",
       "            }\n",
       "        });\n",
       "        require(['plotly'], function(Plotly) {\n",
       "            window._Plotly = Plotly;\n",
       "        });\n",
       "        }\n",
       "        </script>\n",
       "        "
      ]
     },
     "metadata": {},
     "output_type": "display_data"
    },
    {
     "data": {
      "application/vnd.plotly.v1+json": {
       "config": {
        "plotlyServerURL": "https://plot.ly"
       },
       "data": [
        {
         "alignmentgroup": "True",
         "customdata": [
          [
           3946.0,
           3946.0
          ],
          [
           2666.0,
           2666.0
          ],
          [
           1024.0,
           1024.0
          ],
          [
           77400.0,
           77400.0
          ],
          [
           67844.0,
           67844.0
          ],
          [
           151047.0,
           151047.0
          ],
          [
           420694.0,
           420694.0
          ],
          [
           662790.0,
           662790.0
          ],
          [
           709870.0,
           709870.0
          ],
          [
           555552.0,
           555552.0
          ],
          [
           475755.0,
           475755.0
          ],
          [
           398752.0,
           398752.0
          ],
          [
           374784.0,
           374784.0
          ],
          [
           338001.0,
           338001.0
          ],
          [
           303698.0,
           303698.0
          ],
          [
           276774.0,
           276774.0
          ],
          [
           303420.0,
           303420.0
          ],
          [
           295260.0,
           295260.0
          ],
          [
           279943.0,
           279943.0
          ],
          [
           172483.0,
           172483.0
          ],
          [
           132420.0,
           132420.0
          ],
          [
           84035.0,
           84035.0
          ],
          [
           20678.0,
           20678.0
          ],
          [
           10046.0,
           10046.0
          ]
         ],
         "hovertemplate": "source=model<br>tlvorg_hr=%{x}<br>percentage=%{y}<br>toexpfac=%{customdata[0]}<br>sample_count=%{customdata[1]}<extra></extra>",
         "legendgroup": "model",
         "marker": {
          "color": "#91268F",
          "pattern": {
           "shape": ""
          }
         },
         "name": "model",
         "offsetgroup": "model",
         "orientation": "v",
         "showlegend": true,
         "textposition": "auto",
         "type": "bar",
         "x": [
          0,
          1,
          2,
          3,
          4,
          5,
          6,
          7,
          8,
          9,
          10,
          11,
          12,
          13,
          14,
          15,
          16,
          17,
          18,
          19,
          20,
          21,
          22,
          23
         ],
         "xaxis": "x",
         "y": [
          0.0006448890499931196,
          0.00043570050868769816,
          0.00016735083304433718,
          0.012649369607062205,
          0.011087646403378918,
          0.024685391873874998,
          0.06875340952808046,
          0.10831880725923461,
          0.11601302329412465,
          0.09079305664008556,
          0.07775194880371937,
          0.06516746033017143,
          0.06125040489422741,
          0.05523901261701075,
          0.04963292313857336,
          0.04523277291505213,
          0.04958749000225858,
          0.04825391305143652,
          0.04575067798333094,
          0.02818864622654923,
          0.021641208312237432,
          0.013733718022344604,
          0.003379375513369926,
          0.001641803192151769
         ],
         "yaxis": "y"
        },
        {
         "alignmentgroup": "True",
         "customdata": [
          [
           520.3702253200515,
           2.0
          ],
          [
           587.7833791151987,
           2.0
          ],
          [
           322.70012578798855,
           3.0
          ],
          [
           12143.289638479979,
           24.0
          ],
          [
           82941.44408576244,
           75.0
          ],
          [
           144711.84150243405,
           180.0
          ],
          [
           343063.2400804206,
           528.0
          ],
          [
           717987.758652446,
           1195.0
          ],
          [
           709289.0116873997,
           1266.0
          ],
          [
           392695.23819306894,
           832.0
          ],
          [
           333119.44529938773,
           715.0
          ],
          [
           248148.3519912732,
           591.0
          ],
          [
           267584.47124603036,
           621.0
          ],
          [
           235545.0578396302,
           534.0
          ],
          [
           370969.1493775048,
           579.0
          ],
          [
           258846.5502010793,
           604.0
          ],
          [
           217582.5479308705,
           551.0
          ],
          [
           337519.56819881743,
           708.0
          ],
          [
           213751.3091424961,
           516.0
          ],
          [
           135516.39295514335,
           342.0
          ],
          [
           31678.915869293014,
           144.0
          ],
          [
           20304.20091600431,
           69.0
          ],
          [
           18292.573717580864,
           30.0
          ],
          [
           2205.7586376022605,
           7.0
          ]
         ],
         "hovertemplate": "source=survey<br>tlvorg_hr=%{x}<br>percentage=%{y}<br>toexpfac=%{customdata[0]}<br>sample_count=%{customdata[1]}<extra></extra>",
         "legendgroup": "survey",
         "marker": {
          "color": "#8CC63E",
          "pattern": {
           "shape": ""
          }
         },
         "name": "survey",
         "offsetgroup": "survey",
         "orientation": "v",
         "showlegend": true,
         "textposition": "auto",
         "type": "bar",
         "x": [
          0,
          1,
          2,
          3,
          4,
          5,
          6,
          7,
          8,
          9,
          10,
          11,
          12,
          13,
          14,
          15,
          16,
          17,
          18,
          19,
          20,
          21,
          22,
          23
         ],
         "xaxis": "x",
         "y": [
          0.00010212695442170168,
          0.00011535734261469593,
          6.333256484449629e-05,
          0.002383220882162913,
          0.016277943409631093,
          0.02840089406020464,
          0.06732899420197548,
          0.14091102744808143,
          0.13920382651382582,
          0.07706968373891218,
          0.06537744235106643,
          0.04870116351881252,
          0.05251566244415842,
          0.046227662951795076,
          0.07280575937455352,
          0.05080077327318541,
          0.042702372031041505,
          0.06624100281039817,
          0.041950459776879924,
          0.026596211338208643,
          0.006217248873381197,
          0.003984867120793629,
          0.0035900686692094887,
          0.0004328983498414635
         ],
         "yaxis": "y"
        },
        {
         "alignmentgroup": "True",
         "customdata": [
          [
           818.5256193266234,
           8.0
          ],
          [
           72.74800084760997,
           4.0
          ],
          [
           13907.131040594093,
           47.0
          ],
          [
           60835.64202104887,
           193.0
          ],
          [
           210793.99623853827,
           614.0
          ],
          [
           463781.3517357327,
           1742.0
          ],
          [
           728580.9263172249,
           3462.0
          ],
          [
           686425.8292300161,
           3437.0
          ],
          [
           515595.76181018155,
           2078.0
          ],
          [
           378753.0073236868,
           1390.0
          ],
          [
           378741.1542697413,
           1253.0
          ],
          [
           278401.2763422068,
           1252.0
          ],
          [
           194406.73941974936,
           1004.0
          ],
          [
           230822.26930435197,
           927.0
          ],
          [
           277120.1887803305,
           1021.0
          ],
          [
           235919.8171498617,
           1105.0
          ],
          [
           410021.9613104888,
           1314.0
          ],
          [
           247964.640927774,
           1373.0
          ],
          [
           148297.12773754026,
           880.0
          ],
          [
           58633.34622816313,
           418.0
          ],
          [
           32946.760561780335,
           185.0
          ],
          [
           9024.61318524568,
           61.0
          ],
          [
           3629.930451363425,
           18.0
          ]
         ],
         "hovertemplate": "source=survey (2017/2019)<br>tlvorg_hr=%{x}<br>percentage=%{y}<br>toexpfac=%{customdata[0]}<br>sample_count=%{customdata[1]}<extra></extra>",
         "legendgroup": "survey (2017/2019)",
         "marker": {
          "color": "#00A7A0",
          "pattern": {
           "shape": ""
          }
         },
         "name": "survey (2017/2019)",
         "offsetgroup": "survey (2017/2019)",
         "orientation": "v",
         "showlegend": true,
         "textposition": "auto",
         "type": "bar",
         "x": [
          0,
          2,
          3,
          4,
          5,
          6,
          7,
          8,
          9,
          10,
          11,
          12,
          13,
          14,
          15,
          16,
          17,
          18,
          19,
          20,
          21,
          22,
          23
         ],
         "xaxis": "x",
         "y": [
          0.00014707149262177074,
          1.3071254970259475e-05,
          0.0024988130755264266,
          0.010930859664478139,
          0.037875158615088916,
          0.08333155864569051,
          0.1309103610188507,
          0.12333599449464605,
          0.0926414964766344,
          0.0680537894072331,
          0.06805165966774208,
          0.05002273635996704,
          0.03493072014742275,
          0.04147380958565826,
          0.04979255241036833,
          0.04238972956745036,
          0.07367214957455898,
          0.04455392598300187,
          0.026645812193177423,
          0.010535154359956563,
          0.005919826012116024,
          0.0016215293695756217,
          0.0006522206232645803
         ],
         "yaxis": "y"
        }
       ],
       "layout": {
        "barmode": "group",
        "font": {
         "size": 11
        },
        "height": 400,
        "legend": {
         "title": {
          "text": "source"
         },
         "tracegroupgap": 0
        },
        "template": {
         "data": {
          "bar": [
           {
            "error_x": {
             "color": "rgb(36,36,36)"
            },
            "error_y": {
             "color": "rgb(36,36,36)"
            },
            "marker": {
             "line": {
              "color": "white",
              "width": 0.5
             },
             "pattern": {
              "fillmode": "overlay",
              "size": 10,
              "solidity": 0.2
             }
            },
            "type": "bar"
           }
          ],
          "barpolar": [
           {
            "marker": {
             "line": {
              "color": "white",
              "width": 0.5
             },
             "pattern": {
              "fillmode": "overlay",
              "size": 10,
              "solidity": 0.2
             }
            },
            "type": "barpolar"
           }
          ],
          "carpet": [
           {
            "aaxis": {
             "endlinecolor": "rgb(36,36,36)",
             "gridcolor": "white",
             "linecolor": "white",
             "minorgridcolor": "white",
             "startlinecolor": "rgb(36,36,36)"
            },
            "baxis": {
             "endlinecolor": "rgb(36,36,36)",
             "gridcolor": "white",
             "linecolor": "white",
             "minorgridcolor": "white",
             "startlinecolor": "rgb(36,36,36)"
            },
            "type": "carpet"
           }
          ],
          "choropleth": [
           {
            "colorbar": {
             "outlinewidth": 1,
             "tickcolor": "rgb(36,36,36)",
             "ticks": "outside"
            },
            "type": "choropleth"
           }
          ],
          "contour": [
           {
            "colorbar": {
             "outlinewidth": 1,
             "tickcolor": "rgb(36,36,36)",
             "ticks": "outside"
            },
            "colorscale": [
             [
              0.0,
              "#440154"
             ],
             [
              0.1111111111111111,
              "#482878"
             ],
             [
              0.2222222222222222,
              "#3e4989"
             ],
             [
              0.3333333333333333,
              "#31688e"
             ],
             [
              0.4444444444444444,
              "#26828e"
             ],
             [
              0.5555555555555556,
              "#1f9e89"
             ],
             [
              0.6666666666666666,
              "#35b779"
             ],
             [
              0.7777777777777778,
              "#6ece58"
             ],
             [
              0.8888888888888888,
              "#b5de2b"
             ],
             [
              1.0,
              "#fde725"
             ]
            ],
            "type": "contour"
           }
          ],
          "contourcarpet": [
           {
            "colorbar": {
             "outlinewidth": 1,
             "tickcolor": "rgb(36,36,36)",
             "ticks": "outside"
            },
            "type": "contourcarpet"
           }
          ],
          "heatmap": [
           {
            "colorbar": {
             "outlinewidth": 1,
             "tickcolor": "rgb(36,36,36)",
             "ticks": "outside"
            },
            "colorscale": [
             [
              0.0,
              "#440154"
             ],
             [
              0.1111111111111111,
              "#482878"
             ],
             [
              0.2222222222222222,
              "#3e4989"
             ],
             [
              0.3333333333333333,
              "#31688e"
             ],
             [
              0.4444444444444444,
              "#26828e"
             ],
             [
              0.5555555555555556,
              "#1f9e89"
             ],
             [
              0.6666666666666666,
              "#35b779"
             ],
             [
              0.7777777777777778,
              "#6ece58"
             ],
             [
              0.8888888888888888,
              "#b5de2b"
             ],
             [
              1.0,
              "#fde725"
             ]
            ],
            "type": "heatmap"
           }
          ],
          "heatmapgl": [
           {
            "colorbar": {
             "outlinewidth": 1,
             "tickcolor": "rgb(36,36,36)",
             "ticks": "outside"
            },
            "colorscale": [
             [
              0.0,
              "#440154"
             ],
             [
              0.1111111111111111,
              "#482878"
             ],
             [
              0.2222222222222222,
              "#3e4989"
             ],
             [
              0.3333333333333333,
              "#31688e"
             ],
             [
              0.4444444444444444,
              "#26828e"
             ],
             [
              0.5555555555555556,
              "#1f9e89"
             ],
             [
              0.6666666666666666,
              "#35b779"
             ],
             [
              0.7777777777777778,
              "#6ece58"
             ],
             [
              0.8888888888888888,
              "#b5de2b"
             ],
             [
              1.0,
              "#fde725"
             ]
            ],
            "type": "heatmapgl"
           }
          ],
          "histogram": [
           {
            "marker": {
             "line": {
              "color": "white",
              "width": 0.6
             }
            },
            "type": "histogram"
           }
          ],
          "histogram2d": [
           {
            "colorbar": {
             "outlinewidth": 1,
             "tickcolor": "rgb(36,36,36)",
             "ticks": "outside"
            },
            "colorscale": [
             [
              0.0,
              "#440154"
             ],
             [
              0.1111111111111111,
              "#482878"
             ],
             [
              0.2222222222222222,
              "#3e4989"
             ],
             [
              0.3333333333333333,
              "#31688e"
             ],
             [
              0.4444444444444444,
              "#26828e"
             ],
             [
              0.5555555555555556,
              "#1f9e89"
             ],
             [
              0.6666666666666666,
              "#35b779"
             ],
             [
              0.7777777777777778,
              "#6ece58"
             ],
             [
              0.8888888888888888,
              "#b5de2b"
             ],
             [
              1.0,
              "#fde725"
             ]
            ],
            "type": "histogram2d"
           }
          ],
          "histogram2dcontour": [
           {
            "colorbar": {
             "outlinewidth": 1,
             "tickcolor": "rgb(36,36,36)",
             "ticks": "outside"
            },
            "colorscale": [
             [
              0.0,
              "#440154"
             ],
             [
              0.1111111111111111,
              "#482878"
             ],
             [
              0.2222222222222222,
              "#3e4989"
             ],
             [
              0.3333333333333333,
              "#31688e"
             ],
             [
              0.4444444444444444,
              "#26828e"
             ],
             [
              0.5555555555555556,
              "#1f9e89"
             ],
             [
              0.6666666666666666,
              "#35b779"
             ],
             [
              0.7777777777777778,
              "#6ece58"
             ],
             [
              0.8888888888888888,
              "#b5de2b"
             ],
             [
              1.0,
              "#fde725"
             ]
            ],
            "type": "histogram2dcontour"
           }
          ],
          "mesh3d": [
           {
            "colorbar": {
             "outlinewidth": 1,
             "tickcolor": "rgb(36,36,36)",
             "ticks": "outside"
            },
            "type": "mesh3d"
           }
          ],
          "parcoords": [
           {
            "line": {
             "colorbar": {
              "outlinewidth": 1,
              "tickcolor": "rgb(36,36,36)",
              "ticks": "outside"
             }
            },
            "type": "parcoords"
           }
          ],
          "pie": [
           {
            "automargin": true,
            "type": "pie"
           }
          ],
          "scatter": [
           {
            "fillpattern": {
             "fillmode": "overlay",
             "size": 10,
             "solidity": 0.2
            },
            "type": "scatter"
           }
          ],
          "scatter3d": [
           {
            "line": {
             "colorbar": {
              "outlinewidth": 1,
              "tickcolor": "rgb(36,36,36)",
              "ticks": "outside"
             }
            },
            "marker": {
             "colorbar": {
              "outlinewidth": 1,
              "tickcolor": "rgb(36,36,36)",
              "ticks": "outside"
             }
            },
            "type": "scatter3d"
           }
          ],
          "scattercarpet": [
           {
            "marker": {
             "colorbar": {
              "outlinewidth": 1,
              "tickcolor": "rgb(36,36,36)",
              "ticks": "outside"
             }
            },
            "type": "scattercarpet"
           }
          ],
          "scattergeo": [
           {
            "marker": {
             "colorbar": {
              "outlinewidth": 1,
              "tickcolor": "rgb(36,36,36)",
              "ticks": "outside"
             }
            },
            "type": "scattergeo"
           }
          ],
          "scattergl": [
           {
            "marker": {
             "colorbar": {
              "outlinewidth": 1,
              "tickcolor": "rgb(36,36,36)",
              "ticks": "outside"
             }
            },
            "type": "scattergl"
           }
          ],
          "scattermapbox": [
           {
            "marker": {
             "colorbar": {
              "outlinewidth": 1,
              "tickcolor": "rgb(36,36,36)",
              "ticks": "outside"
             }
            },
            "type": "scattermapbox"
           }
          ],
          "scatterpolar": [
           {
            "marker": {
             "colorbar": {
              "outlinewidth": 1,
              "tickcolor": "rgb(36,36,36)",
              "ticks": "outside"
             }
            },
            "type": "scatterpolar"
           }
          ],
          "scatterpolargl": [
           {
            "marker": {
             "colorbar": {
              "outlinewidth": 1,
              "tickcolor": "rgb(36,36,36)",
              "ticks": "outside"
             }
            },
            "type": "scatterpolargl"
           }
          ],
          "scatterternary": [
           {
            "marker": {
             "colorbar": {
              "outlinewidth": 1,
              "tickcolor": "rgb(36,36,36)",
              "ticks": "outside"
             }
            },
            "type": "scatterternary"
           }
          ],
          "surface": [
           {
            "colorbar": {
             "outlinewidth": 1,
             "tickcolor": "rgb(36,36,36)",
             "ticks": "outside"
            },
            "colorscale": [
             [
              0.0,
              "#440154"
             ],
             [
              0.1111111111111111,
              "#482878"
             ],
             [
              0.2222222222222222,
              "#3e4989"
             ],
             [
              0.3333333333333333,
              "#31688e"
             ],
             [
              0.4444444444444444,
              "#26828e"
             ],
             [
              0.5555555555555556,
              "#1f9e89"
             ],
             [
              0.6666666666666666,
              "#35b779"
             ],
             [
              0.7777777777777778,
              "#6ece58"
             ],
             [
              0.8888888888888888,
              "#b5de2b"
             ],
             [
              1.0,
              "#fde725"
             ]
            ],
            "type": "surface"
           }
          ],
          "table": [
           {
            "cells": {
             "fill": {
              "color": "rgb(237,237,237)"
             },
             "line": {
              "color": "white"
             }
            },
            "header": {
             "fill": {
              "color": "rgb(217,217,217)"
             },
             "line": {
              "color": "white"
             }
            },
            "type": "table"
           }
          ]
         },
         "layout": {
          "annotationdefaults": {
           "arrowhead": 0,
           "arrowwidth": 1
          },
          "autotypenumbers": "strict",
          "coloraxis": {
           "colorbar": {
            "outlinewidth": 1,
            "tickcolor": "rgb(36,36,36)",
            "ticks": "outside"
           }
          },
          "colorscale": {
           "diverging": [
            [
             0.0,
             "rgb(103,0,31)"
            ],
            [
             0.1,
             "rgb(178,24,43)"
            ],
            [
             0.2,
             "rgb(214,96,77)"
            ],
            [
             0.3,
             "rgb(244,165,130)"
            ],
            [
             0.4,
             "rgb(253,219,199)"
            ],
            [
             0.5,
             "rgb(247,247,247)"
            ],
            [
             0.6,
             "rgb(209,229,240)"
            ],
            [
             0.7,
             "rgb(146,197,222)"
            ],
            [
             0.8,
             "rgb(67,147,195)"
            ],
            [
             0.9,
             "rgb(33,102,172)"
            ],
            [
             1.0,
             "rgb(5,48,97)"
            ]
           ],
           "sequential": [
            [
             0.0,
             "#440154"
            ],
            [
             0.1111111111111111,
             "#482878"
            ],
            [
             0.2222222222222222,
             "#3e4989"
            ],
            [
             0.3333333333333333,
             "#31688e"
            ],
            [
             0.4444444444444444,
             "#26828e"
            ],
            [
             0.5555555555555556,
             "#1f9e89"
            ],
            [
             0.6666666666666666,
             "#35b779"
            ],
            [
             0.7777777777777778,
             "#6ece58"
            ],
            [
             0.8888888888888888,
             "#b5de2b"
            ],
            [
             1.0,
             "#fde725"
            ]
           ],
           "sequentialminus": [
            [
             0.0,
             "#440154"
            ],
            [
             0.1111111111111111,
             "#482878"
            ],
            [
             0.2222222222222222,
             "#3e4989"
            ],
            [
             0.3333333333333333,
             "#31688e"
            ],
            [
             0.4444444444444444,
             "#26828e"
            ],
            [
             0.5555555555555556,
             "#1f9e89"
            ],
            [
             0.6666666666666666,
             "#35b779"
            ],
            [
             0.7777777777777778,
             "#6ece58"
            ],
            [
             0.8888888888888888,
             "#b5de2b"
            ],
            [
             1.0,
             "#fde725"
            ]
           ]
          },
          "colorway": [
           "#91268F",
           "#8CC63E",
           "#00A7A0",
           "#F05A28",
           "#4C4C4C",
           "#630460",
           "#9f3913",
           "#588527",
           "#00716c",
           "#3e4040"
          ],
          "font": {
           "color": "rgb(36,36,36)",
           "family": "Poppins",
           "size": 11
          },
          "geo": {
           "bgcolor": "white",
           "lakecolor": "white",
           "landcolor": "white",
           "showlakes": true,
           "showland": true,
           "subunitcolor": "white"
          },
          "hoverlabel": {
           "align": "left"
          },
          "hovermode": "closest",
          "mapbox": {
           "style": "light"
          },
          "paper_bgcolor": "white",
          "plot_bgcolor": "white",
          "polar": {
           "angularaxis": {
            "gridcolor": "rgb(232,232,232)",
            "linecolor": "rgb(36,36,36)",
            "showgrid": false,
            "showline": true,
            "ticks": "outside"
           },
           "bgcolor": "white",
           "radialaxis": {
            "gridcolor": "rgb(232,232,232)",
            "linecolor": "rgb(36,36,36)",
            "showgrid": false,
            "showline": true,
            "ticks": "outside"
           }
          },
          "scene": {
           "xaxis": {
            "backgroundcolor": "white",
            "gridcolor": "rgb(232,232,232)",
            "gridwidth": 2,
            "linecolor": "rgb(36,36,36)",
            "showbackground": true,
            "showgrid": false,
            "showline": true,
            "ticks": "outside",
            "zeroline": false,
            "zerolinecolor": "rgb(36,36,36)"
           },
           "yaxis": {
            "backgroundcolor": "white",
            "gridcolor": "rgb(232,232,232)",
            "gridwidth": 2,
            "linecolor": "rgb(36,36,36)",
            "showbackground": true,
            "showgrid": false,
            "showline": true,
            "ticks": "outside",
            "zeroline": false,
            "zerolinecolor": "rgb(36,36,36)"
           },
           "zaxis": {
            "backgroundcolor": "white",
            "gridcolor": "rgb(232,232,232)",
            "gridwidth": 2,
            "linecolor": "rgb(36,36,36)",
            "showbackground": true,
            "showgrid": false,
            "showline": true,
            "ticks": "outside",
            "zeroline": false,
            "zerolinecolor": "rgb(36,36,36)"
           }
          },
          "shapedefaults": {
           "fillcolor": "black",
           "line": {
            "width": 0
           },
           "opacity": 0.3
          },
          "ternary": {
           "aaxis": {
            "gridcolor": "rgb(232,232,232)",
            "linecolor": "rgb(36,36,36)",
            "showgrid": false,
            "showline": true,
            "ticks": "outside"
           },
           "baxis": {
            "gridcolor": "rgb(232,232,232)",
            "linecolor": "rgb(36,36,36)",
            "showgrid": false,
            "showline": true,
            "ticks": "outside"
           },
           "bgcolor": "white",
           "caxis": {
            "gridcolor": "rgb(232,232,232)",
            "linecolor": "rgb(36,36,36)",
            "showgrid": false,
            "showline": true,
            "ticks": "outside"
           }
          },
          "title": {
           "x": 0.05
          },
          "xaxis": {
           "automargin": true,
           "gridcolor": "rgb(232,232,232)",
           "linecolor": "rgb(36,36,36)",
           "showgrid": false,
           "showline": true,
           "ticks": "outside",
           "title": {
            "standoff": 15
           },
           "zeroline": false,
           "zerolinecolor": "rgb(36,36,36)"
          },
          "yaxis": {
           "automargin": true,
           "gridcolor": "rgb(232,232,232)",
           "linecolor": "rgb(36,36,36)",
           "showgrid": false,
           "showline": true,
           "ticks": "outside",
           "title": {
            "standoff": 15
           },
           "zeroline": false,
           "zerolinecolor": "rgb(36,36,36)"
          }
         }
        },
        "title": {
         "text": "tour origin departure hour"
        },
        "width": 700,
        "xaxis": {
         "anchor": "y",
         "categoryorder": "category ascending",
         "domain": [
          0.0,
          1.0
         ],
         "dtick": 1,
         "title": {
          "text": "tlvorg_hr"
         }
        },
        "yaxis": {
         "anchor": "x",
         "domain": [
          0.0,
          1.0
         ],
         "tickformat": ".0%",
         "title": {
          "text": "percentage"
         }
        }
       }
      },
      "text/html": [
       "<div>                            <div id=\"af2d0450-3508-4c19-be35-fbce9747632a\" class=\"plotly-graph-div\" style=\"height:400px; width:700px;\"></div>            <script type=\"text/javascript\">                require([\"plotly\"], function(Plotly) {                    window.PLOTLYENV=window.PLOTLYENV || {};                                    if (document.getElementById(\"af2d0450-3508-4c19-be35-fbce9747632a\")) {                    Plotly.newPlot(                        \"af2d0450-3508-4c19-be35-fbce9747632a\",                        [{\"alignmentgroup\":\"True\",\"customdata\":[[3946.0,3946.0],[2666.0,2666.0],[1024.0,1024.0],[77400.0,77400.0],[67844.0,67844.0],[151047.0,151047.0],[420694.0,420694.0],[662790.0,662790.0],[709870.0,709870.0],[555552.0,555552.0],[475755.0,475755.0],[398752.0,398752.0],[374784.0,374784.0],[338001.0,338001.0],[303698.0,303698.0],[276774.0,276774.0],[303420.0,303420.0],[295260.0,295260.0],[279943.0,279943.0],[172483.0,172483.0],[132420.0,132420.0],[84035.0,84035.0],[20678.0,20678.0],[10046.0,10046.0]],\"hovertemplate\":\"source=model\\u003cbr\\u003etlvorg_hr=%{x}\\u003cbr\\u003epercentage=%{y}\\u003cbr\\u003etoexpfac=%{customdata[0]}\\u003cbr\\u003esample_count=%{customdata[1]}\\u003cextra\\u003e\\u003c\\u002fextra\\u003e\",\"legendgroup\":\"model\",\"marker\":{\"color\":\"#91268F\",\"pattern\":{\"shape\":\"\"}},\"name\":\"model\",\"offsetgroup\":\"model\",\"orientation\":\"v\",\"showlegend\":true,\"textposition\":\"auto\",\"x\":[0,1,2,3,4,5,6,7,8,9,10,11,12,13,14,15,16,17,18,19,20,21,22,23],\"xaxis\":\"x\",\"y\":[0.0006448890499931196,0.00043570050868769816,0.00016735083304433718,0.012649369607062205,0.011087646403378918,0.024685391873874998,0.06875340952808046,0.10831880725923461,0.11601302329412465,0.09079305664008556,0.07775194880371937,0.06516746033017143,0.06125040489422741,0.05523901261701075,0.04963292313857336,0.04523277291505213,0.04958749000225858,0.04825391305143652,0.04575067798333094,0.02818864622654923,0.021641208312237432,0.013733718022344604,0.003379375513369926,0.001641803192151769],\"yaxis\":\"y\",\"type\":\"bar\"},{\"alignmentgroup\":\"True\",\"customdata\":[[520.3702253200515,2.0],[587.7833791151987,2.0],[322.70012578798855,3.0],[12143.289638479979,24.0],[82941.44408576244,75.0],[144711.84150243405,180.0],[343063.2400804206,528.0],[717987.758652446,1195.0],[709289.0116873997,1266.0],[392695.23819306894,832.0],[333119.44529938773,715.0],[248148.3519912732,591.0],[267584.47124603036,621.0],[235545.0578396302,534.0],[370969.1493775048,579.0],[258846.5502010793,604.0],[217582.5479308705,551.0],[337519.56819881743,708.0],[213751.3091424961,516.0],[135516.39295514335,342.0],[31678.915869293014,144.0],[20304.20091600431,69.0],[18292.573717580864,30.0],[2205.7586376022605,7.0]],\"hovertemplate\":\"source=survey\\u003cbr\\u003etlvorg_hr=%{x}\\u003cbr\\u003epercentage=%{y}\\u003cbr\\u003etoexpfac=%{customdata[0]}\\u003cbr\\u003esample_count=%{customdata[1]}\\u003cextra\\u003e\\u003c\\u002fextra\\u003e\",\"legendgroup\":\"survey\",\"marker\":{\"color\":\"#8CC63E\",\"pattern\":{\"shape\":\"\"}},\"name\":\"survey\",\"offsetgroup\":\"survey\",\"orientation\":\"v\",\"showlegend\":true,\"textposition\":\"auto\",\"x\":[0,1,2,3,4,5,6,7,8,9,10,11,12,13,14,15,16,17,18,19,20,21,22,23],\"xaxis\":\"x\",\"y\":[0.00010212695442170168,0.00011535734261469593,6.333256484449629e-05,0.002383220882162913,0.016277943409631093,0.02840089406020464,0.06732899420197548,0.14091102744808143,0.13920382651382582,0.07706968373891218,0.06537744235106643,0.04870116351881252,0.05251566244415842,0.046227662951795076,0.07280575937455352,0.05080077327318541,0.042702372031041505,0.06624100281039817,0.041950459776879924,0.026596211338208643,0.006217248873381197,0.003984867120793629,0.0035900686692094887,0.0004328983498414635],\"yaxis\":\"y\",\"type\":\"bar\"},{\"alignmentgroup\":\"True\",\"customdata\":[[818.5256193266234,8.0],[72.74800084760997,4.0],[13907.131040594093,47.0],[60835.64202104887,193.0],[210793.99623853827,614.0],[463781.3517357327,1742.0],[728580.9263172249,3462.0],[686425.8292300161,3437.0],[515595.76181018155,2078.0],[378753.0073236868,1390.0],[378741.1542697413,1253.0],[278401.2763422068,1252.0],[194406.73941974936,1004.0],[230822.26930435197,927.0],[277120.1887803305,1021.0],[235919.8171498617,1105.0],[410021.9613104888,1314.0],[247964.640927774,1373.0],[148297.12773754026,880.0],[58633.34622816313,418.0],[32946.760561780335,185.0],[9024.61318524568,61.0],[3629.930451363425,18.0]],\"hovertemplate\":\"source=survey (2017\\u002f2019)\\u003cbr\\u003etlvorg_hr=%{x}\\u003cbr\\u003epercentage=%{y}\\u003cbr\\u003etoexpfac=%{customdata[0]}\\u003cbr\\u003esample_count=%{customdata[1]}\\u003cextra\\u003e\\u003c\\u002fextra\\u003e\",\"legendgroup\":\"survey (2017\\u002f2019)\",\"marker\":{\"color\":\"#00A7A0\",\"pattern\":{\"shape\":\"\"}},\"name\":\"survey (2017\\u002f2019)\",\"offsetgroup\":\"survey (2017\\u002f2019)\",\"orientation\":\"v\",\"showlegend\":true,\"textposition\":\"auto\",\"x\":[0,2,3,4,5,6,7,8,9,10,11,12,13,14,15,16,17,18,19,20,21,22,23],\"xaxis\":\"x\",\"y\":[0.00014707149262177074,1.3071254970259475e-05,0.0024988130755264266,0.010930859664478139,0.037875158615088916,0.08333155864569051,0.1309103610188507,0.12333599449464605,0.0926414964766344,0.0680537894072331,0.06805165966774208,0.05002273635996704,0.03493072014742275,0.04147380958565826,0.04979255241036833,0.04238972956745036,0.07367214957455898,0.04455392598300187,0.026645812193177423,0.010535154359956563,0.005919826012116024,0.0016215293695756217,0.0006522206232645803],\"yaxis\":\"y\",\"type\":\"bar\"}],                        {\"template\":{\"data\":{\"barpolar\":[{\"marker\":{\"line\":{\"color\":\"white\",\"width\":0.5},\"pattern\":{\"fillmode\":\"overlay\",\"size\":10,\"solidity\":0.2}},\"type\":\"barpolar\"}],\"bar\":[{\"error_x\":{\"color\":\"rgb(36,36,36)\"},\"error_y\":{\"color\":\"rgb(36,36,36)\"},\"marker\":{\"line\":{\"color\":\"white\",\"width\":0.5},\"pattern\":{\"fillmode\":\"overlay\",\"size\":10,\"solidity\":0.2}},\"type\":\"bar\"}],\"carpet\":[{\"aaxis\":{\"endlinecolor\":\"rgb(36,36,36)\",\"gridcolor\":\"white\",\"linecolor\":\"white\",\"minorgridcolor\":\"white\",\"startlinecolor\":\"rgb(36,36,36)\"},\"baxis\":{\"endlinecolor\":\"rgb(36,36,36)\",\"gridcolor\":\"white\",\"linecolor\":\"white\",\"minorgridcolor\":\"white\",\"startlinecolor\":\"rgb(36,36,36)\"},\"type\":\"carpet\"}],\"choropleth\":[{\"colorbar\":{\"outlinewidth\":1,\"tickcolor\":\"rgb(36,36,36)\",\"ticks\":\"outside\"},\"type\":\"choropleth\"}],\"contourcarpet\":[{\"colorbar\":{\"outlinewidth\":1,\"tickcolor\":\"rgb(36,36,36)\",\"ticks\":\"outside\"},\"type\":\"contourcarpet\"}],\"contour\":[{\"colorbar\":{\"outlinewidth\":1,\"tickcolor\":\"rgb(36,36,36)\",\"ticks\":\"outside\"},\"colorscale\":[[0.0,\"#440154\"],[0.1111111111111111,\"#482878\"],[0.2222222222222222,\"#3e4989\"],[0.3333333333333333,\"#31688e\"],[0.4444444444444444,\"#26828e\"],[0.5555555555555556,\"#1f9e89\"],[0.6666666666666666,\"#35b779\"],[0.7777777777777778,\"#6ece58\"],[0.8888888888888888,\"#b5de2b\"],[1.0,\"#fde725\"]],\"type\":\"contour\"}],\"heatmapgl\":[{\"colorbar\":{\"outlinewidth\":1,\"tickcolor\":\"rgb(36,36,36)\",\"ticks\":\"outside\"},\"colorscale\":[[0.0,\"#440154\"],[0.1111111111111111,\"#482878\"],[0.2222222222222222,\"#3e4989\"],[0.3333333333333333,\"#31688e\"],[0.4444444444444444,\"#26828e\"],[0.5555555555555556,\"#1f9e89\"],[0.6666666666666666,\"#35b779\"],[0.7777777777777778,\"#6ece58\"],[0.8888888888888888,\"#b5de2b\"],[1.0,\"#fde725\"]],\"type\":\"heatmapgl\"}],\"heatmap\":[{\"colorbar\":{\"outlinewidth\":1,\"tickcolor\":\"rgb(36,36,36)\",\"ticks\":\"outside\"},\"colorscale\":[[0.0,\"#440154\"],[0.1111111111111111,\"#482878\"],[0.2222222222222222,\"#3e4989\"],[0.3333333333333333,\"#31688e\"],[0.4444444444444444,\"#26828e\"],[0.5555555555555556,\"#1f9e89\"],[0.6666666666666666,\"#35b779\"],[0.7777777777777778,\"#6ece58\"],[0.8888888888888888,\"#b5de2b\"],[1.0,\"#fde725\"]],\"type\":\"heatmap\"}],\"histogram2dcontour\":[{\"colorbar\":{\"outlinewidth\":1,\"tickcolor\":\"rgb(36,36,36)\",\"ticks\":\"outside\"},\"colorscale\":[[0.0,\"#440154\"],[0.1111111111111111,\"#482878\"],[0.2222222222222222,\"#3e4989\"],[0.3333333333333333,\"#31688e\"],[0.4444444444444444,\"#26828e\"],[0.5555555555555556,\"#1f9e89\"],[0.6666666666666666,\"#35b779\"],[0.7777777777777778,\"#6ece58\"],[0.8888888888888888,\"#b5de2b\"],[1.0,\"#fde725\"]],\"type\":\"histogram2dcontour\"}],\"histogram2d\":[{\"colorbar\":{\"outlinewidth\":1,\"tickcolor\":\"rgb(36,36,36)\",\"ticks\":\"outside\"},\"colorscale\":[[0.0,\"#440154\"],[0.1111111111111111,\"#482878\"],[0.2222222222222222,\"#3e4989\"],[0.3333333333333333,\"#31688e\"],[0.4444444444444444,\"#26828e\"],[0.5555555555555556,\"#1f9e89\"],[0.6666666666666666,\"#35b779\"],[0.7777777777777778,\"#6ece58\"],[0.8888888888888888,\"#b5de2b\"],[1.0,\"#fde725\"]],\"type\":\"histogram2d\"}],\"histogram\":[{\"marker\":{\"line\":{\"color\":\"white\",\"width\":0.6}},\"type\":\"histogram\"}],\"mesh3d\":[{\"colorbar\":{\"outlinewidth\":1,\"tickcolor\":\"rgb(36,36,36)\",\"ticks\":\"outside\"},\"type\":\"mesh3d\"}],\"parcoords\":[{\"line\":{\"colorbar\":{\"outlinewidth\":1,\"tickcolor\":\"rgb(36,36,36)\",\"ticks\":\"outside\"}},\"type\":\"parcoords\"}],\"pie\":[{\"automargin\":true,\"type\":\"pie\"}],\"scatter3d\":[{\"line\":{\"colorbar\":{\"outlinewidth\":1,\"tickcolor\":\"rgb(36,36,36)\",\"ticks\":\"outside\"}},\"marker\":{\"colorbar\":{\"outlinewidth\":1,\"tickcolor\":\"rgb(36,36,36)\",\"ticks\":\"outside\"}},\"type\":\"scatter3d\"}],\"scattercarpet\":[{\"marker\":{\"colorbar\":{\"outlinewidth\":1,\"tickcolor\":\"rgb(36,36,36)\",\"ticks\":\"outside\"}},\"type\":\"scattercarpet\"}],\"scattergeo\":[{\"marker\":{\"colorbar\":{\"outlinewidth\":1,\"tickcolor\":\"rgb(36,36,36)\",\"ticks\":\"outside\"}},\"type\":\"scattergeo\"}],\"scattergl\":[{\"marker\":{\"colorbar\":{\"outlinewidth\":1,\"tickcolor\":\"rgb(36,36,36)\",\"ticks\":\"outside\"}},\"type\":\"scattergl\"}],\"scattermapbox\":[{\"marker\":{\"colorbar\":{\"outlinewidth\":1,\"tickcolor\":\"rgb(36,36,36)\",\"ticks\":\"outside\"}},\"type\":\"scattermapbox\"}],\"scatterpolargl\":[{\"marker\":{\"colorbar\":{\"outlinewidth\":1,\"tickcolor\":\"rgb(36,36,36)\",\"ticks\":\"outside\"}},\"type\":\"scatterpolargl\"}],\"scatterpolar\":[{\"marker\":{\"colorbar\":{\"outlinewidth\":1,\"tickcolor\":\"rgb(36,36,36)\",\"ticks\":\"outside\"}},\"type\":\"scatterpolar\"}],\"scatter\":[{\"fillpattern\":{\"fillmode\":\"overlay\",\"size\":10,\"solidity\":0.2},\"type\":\"scatter\"}],\"scatterternary\":[{\"marker\":{\"colorbar\":{\"outlinewidth\":1,\"tickcolor\":\"rgb(36,36,36)\",\"ticks\":\"outside\"}},\"type\":\"scatterternary\"}],\"surface\":[{\"colorbar\":{\"outlinewidth\":1,\"tickcolor\":\"rgb(36,36,36)\",\"ticks\":\"outside\"},\"colorscale\":[[0.0,\"#440154\"],[0.1111111111111111,\"#482878\"],[0.2222222222222222,\"#3e4989\"],[0.3333333333333333,\"#31688e\"],[0.4444444444444444,\"#26828e\"],[0.5555555555555556,\"#1f9e89\"],[0.6666666666666666,\"#35b779\"],[0.7777777777777778,\"#6ece58\"],[0.8888888888888888,\"#b5de2b\"],[1.0,\"#fde725\"]],\"type\":\"surface\"}],\"table\":[{\"cells\":{\"fill\":{\"color\":\"rgb(237,237,237)\"},\"line\":{\"color\":\"white\"}},\"header\":{\"fill\":{\"color\":\"rgb(217,217,217)\"},\"line\":{\"color\":\"white\"}},\"type\":\"table\"}]},\"layout\":{\"annotationdefaults\":{\"arrowhead\":0,\"arrowwidth\":1},\"autotypenumbers\":\"strict\",\"coloraxis\":{\"colorbar\":{\"outlinewidth\":1,\"tickcolor\":\"rgb(36,36,36)\",\"ticks\":\"outside\"}},\"colorscale\":{\"diverging\":[[0.0,\"rgb(103,0,31)\"],[0.1,\"rgb(178,24,43)\"],[0.2,\"rgb(214,96,77)\"],[0.3,\"rgb(244,165,130)\"],[0.4,\"rgb(253,219,199)\"],[0.5,\"rgb(247,247,247)\"],[0.6,\"rgb(209,229,240)\"],[0.7,\"rgb(146,197,222)\"],[0.8,\"rgb(67,147,195)\"],[0.9,\"rgb(33,102,172)\"],[1.0,\"rgb(5,48,97)\"]],\"sequential\":[[0.0,\"#440154\"],[0.1111111111111111,\"#482878\"],[0.2222222222222222,\"#3e4989\"],[0.3333333333333333,\"#31688e\"],[0.4444444444444444,\"#26828e\"],[0.5555555555555556,\"#1f9e89\"],[0.6666666666666666,\"#35b779\"],[0.7777777777777778,\"#6ece58\"],[0.8888888888888888,\"#b5de2b\"],[1.0,\"#fde725\"]],\"sequentialminus\":[[0.0,\"#440154\"],[0.1111111111111111,\"#482878\"],[0.2222222222222222,\"#3e4989\"],[0.3333333333333333,\"#31688e\"],[0.4444444444444444,\"#26828e\"],[0.5555555555555556,\"#1f9e89\"],[0.6666666666666666,\"#35b779\"],[0.7777777777777778,\"#6ece58\"],[0.8888888888888888,\"#b5de2b\"],[1.0,\"#fde725\"]]},\"colorway\":[\"#91268F\",\"#8CC63E\",\"#00A7A0\",\"#F05A28\",\"#4C4C4C\",\"#630460\",\"#9f3913\",\"#588527\",\"#00716c\",\"#3e4040\"],\"font\":{\"color\":\"rgb(36,36,36)\",\"family\":\"Poppins\",\"size\":11},\"geo\":{\"bgcolor\":\"white\",\"lakecolor\":\"white\",\"landcolor\":\"white\",\"showlakes\":true,\"showland\":true,\"subunitcolor\":\"white\"},\"hoverlabel\":{\"align\":\"left\"},\"hovermode\":\"closest\",\"mapbox\":{\"style\":\"light\"},\"paper_bgcolor\":\"white\",\"plot_bgcolor\":\"white\",\"polar\":{\"angularaxis\":{\"gridcolor\":\"rgb(232,232,232)\",\"linecolor\":\"rgb(36,36,36)\",\"showgrid\":false,\"showline\":true,\"ticks\":\"outside\"},\"bgcolor\":\"white\",\"radialaxis\":{\"gridcolor\":\"rgb(232,232,232)\",\"linecolor\":\"rgb(36,36,36)\",\"showgrid\":false,\"showline\":true,\"ticks\":\"outside\"}},\"scene\":{\"xaxis\":{\"backgroundcolor\":\"white\",\"gridcolor\":\"rgb(232,232,232)\",\"gridwidth\":2,\"linecolor\":\"rgb(36,36,36)\",\"showbackground\":true,\"showgrid\":false,\"showline\":true,\"ticks\":\"outside\",\"zeroline\":false,\"zerolinecolor\":\"rgb(36,36,36)\"},\"yaxis\":{\"backgroundcolor\":\"white\",\"gridcolor\":\"rgb(232,232,232)\",\"gridwidth\":2,\"linecolor\":\"rgb(36,36,36)\",\"showbackground\":true,\"showgrid\":false,\"showline\":true,\"ticks\":\"outside\",\"zeroline\":false,\"zerolinecolor\":\"rgb(36,36,36)\"},\"zaxis\":{\"backgroundcolor\":\"white\",\"gridcolor\":\"rgb(232,232,232)\",\"gridwidth\":2,\"linecolor\":\"rgb(36,36,36)\",\"showbackground\":true,\"showgrid\":false,\"showline\":true,\"ticks\":\"outside\",\"zeroline\":false,\"zerolinecolor\":\"rgb(36,36,36)\"}},\"shapedefaults\":{\"fillcolor\":\"black\",\"line\":{\"width\":0},\"opacity\":0.3},\"ternary\":{\"aaxis\":{\"gridcolor\":\"rgb(232,232,232)\",\"linecolor\":\"rgb(36,36,36)\",\"showgrid\":false,\"showline\":true,\"ticks\":\"outside\"},\"baxis\":{\"gridcolor\":\"rgb(232,232,232)\",\"linecolor\":\"rgb(36,36,36)\",\"showgrid\":false,\"showline\":true,\"ticks\":\"outside\"},\"bgcolor\":\"white\",\"caxis\":{\"gridcolor\":\"rgb(232,232,232)\",\"linecolor\":\"rgb(36,36,36)\",\"showgrid\":false,\"showline\":true,\"ticks\":\"outside\"}},\"title\":{\"x\":0.05},\"xaxis\":{\"automargin\":true,\"gridcolor\":\"rgb(232,232,232)\",\"linecolor\":\"rgb(36,36,36)\",\"showgrid\":false,\"showline\":true,\"ticks\":\"outside\",\"title\":{\"standoff\":15},\"zeroline\":false,\"zerolinecolor\":\"rgb(36,36,36)\"},\"yaxis\":{\"automargin\":true,\"gridcolor\":\"rgb(232,232,232)\",\"linecolor\":\"rgb(36,36,36)\",\"showgrid\":false,\"showline\":true,\"ticks\":\"outside\",\"title\":{\"standoff\":15},\"zeroline\":false,\"zerolinecolor\":\"rgb(36,36,36)\"}}},\"xaxis\":{\"anchor\":\"y\",\"domain\":[0.0,1.0],\"title\":{\"text\":\"tlvorg_hr\"},\"dtick\":1,\"categoryorder\":\"category ascending\"},\"yaxis\":{\"anchor\":\"x\",\"domain\":[0.0,1.0],\"title\":{\"text\":\"percentage\"},\"tickformat\":\".0%\"},\"legend\":{\"title\":{\"text\":\"source\"},\"tracegroupgap\":0},\"title\":{\"text\":\"tour origin departure hour\"},\"barmode\":\"group\",\"font\":{\"size\":11},\"height\":400,\"width\":700},                        {\"responsive\": true}                    ).then(function(){\n",
       "                            \n",
       "var gd = document.getElementById('af2d0450-3508-4c19-be35-fbce9747632a');\n",
       "var x = new MutationObserver(function (mutations, observer) {{\n",
       "        var display = window.getComputedStyle(gd).display;\n",
       "        if (!display || display === 'none') {{\n",
       "            console.log([gd, 'removed!']);\n",
       "            Plotly.purge(gd);\n",
       "            observer.disconnect();\n",
       "        }}\n",
       "}});\n",
       "\n",
       "// Listen for the removal of the full notebook cells\n",
       "var notebookContainer = gd.closest('#notebook-container');\n",
       "if (notebookContainer) {{\n",
       "    x.observe(notebookContainer, {childList: true});\n",
       "}}\n",
       "\n",
       "// Listen for the clearing of the current output cell\n",
       "var outputEl = gd.closest('.output');\n",
       "if (outputEl) {{\n",
       "    x.observe(outputEl, {childList: true});\n",
       "}}\n",
       "\n",
       "                        })                };                });            </script>        </div>"
      ]
     },
     "metadata": {},
     "output_type": "display_data"
    }
   ],
   "source": [
    "df_plot = df_tour.groupby(['tlvorg_hr','source'])['toexpfac'].agg(sample_count='size', toexpfac='sum').reset_index()\n",
    "df_plot['percentage'] = df_plot.groupby(['source'], group_keys=False)['toexpfac']. \\\n",
    "    apply(lambda x: x / float(x.sum()))\n",
    "\n",
    "fig = px.bar(df_plot, x=\"tlvorg_hr\", y=\"percentage\", color=\"source\",\n",
    "             barmode=\"group\",title=\"tour origin departure hour\",\n",
    "             hover_data=['toexpfac','sample_count'])\n",
    "fig.update_layout(height=400, width=700, font=dict(size=11),\n",
    "                  xaxis = dict(dtick = 1, categoryorder='category ascending'),\n",
    "                  yaxis=dict(tickformat=\".0%\"))\n",
    "fig.show()"
   ]
  },
  {
   "cell_type": "raw",
   "metadata": {
    "vscode": {
     "languageId": "raw"
    }
   },
   "source": [
    "### trip"
   ]
  },
  {
   "cell_type": "code",
   "execution_count": 6,
   "metadata": {
    "execution": {
     "iopub.execute_input": "2024-11-26T18:23:56.933899Z",
     "iopub.status.busy": "2024-11-26T18:23:56.931905Z",
     "iopub.status.idle": "2024-11-26T18:23:58.570605Z",
     "shell.execute_reply": "2024-11-26T18:23:58.568612Z"
    }
   },
   "outputs": [
    {
     "data": {
      "application/vnd.plotly.v1+json": {
       "config": {
        "plotlyServerURL": "https://plot.ly"
       },
       "data": [
        {
         "alignmentgroup": "True",
         "customdata": [
          [
           37774.0,
           37774.0
          ],
          [
           28072.0,
           28072.0
          ],
          [
           22170.0,
           22170.0
          ],
          [
           90734.0,
           90734.0
          ],
          [
           100191.0,
           100191.0
          ],
          [
           210734.0,
           210734.0
          ],
          [
           590445.0,
           590445.0
          ],
          [
           987927.0,
           987927.0
          ],
          [
           1158081.0,
           1158081.0
          ],
          [
           1075581.0,
           1075581.0
          ],
          [
           1163818.0,
           1163818.0
          ],
          [
           1134539.0,
           1134539.0
          ],
          [
           1111789.0,
           1111789.0
          ],
          [
           1132463.0,
           1132463.0
          ],
          [
           1061279.0,
           1061279.0
          ],
          [
           1245601.0,
           1245601.0
          ],
          [
           1376134.0,
           1376134.0
          ],
          [
           1343199.0,
           1343199.0
          ],
          [
           1099694.0,
           1099694.0
          ],
          [
           825892.0,
           825892.0
          ],
          [
           662922.0,
           662922.0
          ],
          [
           385050.0,
           385050.0
          ],
          [
           227477.0,
           227477.0
          ],
          [
           165838.0,
           165838.0
          ]
         ],
         "hovertemplate": "source=model<br>dept_hr=%{x}<br>percentage=%{y}<br>trexpfac=%{customdata[0]}<br>sample_count=%{customdata[1]}<extra></extra>",
         "legendgroup": "model",
         "marker": {
          "color": "#91268F",
          "pattern": {
           "shape": ""
          }
         },
         "name": "model",
         "offsetgroup": "model",
         "orientation": "v",
         "showlegend": true,
         "textposition": "auto",
         "type": "bar",
         "x": [
          0,
          1,
          2,
          3,
          4,
          5,
          6,
          7,
          8,
          9,
          10,
          11,
          12,
          13,
          14,
          15,
          16,
          17,
          18,
          19,
          20,
          21,
          22,
          23
         ],
         "xaxis": "x",
         "y": [
          0.0021913972660848467,
          0.0016285514918603753,
          0.0012861565465426233,
          0.0052637856605321776,
          0.005812418157629768,
          0.012225390783902263,
          0.034253707808902085,
          0.05731298053929698,
          0.0671841885239796,
          0.06239808500166266,
          0.06751701126225272,
          0.06581843762552644,
          0.06449863332088752,
          0.06569800185689215,
          0.061568377697709,
          0.07226151919395751,
          0.07983417920703141,
          0.07792350866754646,
          0.06379696153782785,
          0.047912783154586386,
          0.03845834326328953,
          0.02233805043961376,
          0.013196708738740475,
          0.0096208222537454
         ],
         "yaxis": "y"
        },
        {
         "alignmentgroup": "True",
         "customdata": [
          [
           16732.035414651556,
           25.0
          ],
          [
           1686.8828241439442,
           8.0
          ],
          [
           5621.770821798432,
           8.0
          ],
          [
           11885.337820811179,
           22.0
          ],
          [
           61981.33648097673,
           48.0
          ],
          [
           128092.89392344817,
           150.0
          ],
          [
           296586.6683667779,
           437.0
          ],
          [
           875028.7568614692,
           1181.0
          ],
          [
           967873.8529297126,
           1437.0
          ],
          [
           693790.492143425,
           1061.0
          ],
          [
           633314.1220614141,
           1041.0
          ],
          [
           755968.5724337419,
           1154.0
          ],
          [
           704604.8426099415,
           1237.0
          ],
          [
           708952.5785127421,
           1172.0
          ],
          [
           1230589.7818187769,
           1436.0
          ],
          [
           1257845.3079375648,
           1727.0
          ],
          [
           1035048.0731893245,
           1659.0
          ],
          [
           915046.186197112,
           1700.0
          ],
          [
           675763.205923194,
           1291.0
          ],
          [
           518613.0186271319,
           927.0
          ],
          [
           382968.1153226823,
           625.0
          ],
          [
           215139.26505115812,
           365.0
          ],
          [
           87585.20322161399,
           165.0
          ],
          [
           44864.477920186095,
           87.0
          ]
         ],
         "hovertemplate": "source=survey<br>dept_hr=%{x}<br>percentage=%{y}<br>trexpfac=%{customdata[0]}<br>sample_count=%{customdata[1]}<extra></extra>",
         "legendgroup": "survey",
         "marker": {
          "color": "#8CC63E",
          "pattern": {
           "shape": ""
          }
         },
         "name": "survey",
         "offsetgroup": "survey",
         "orientation": "v",
         "showlegend": true,
         "textposition": "auto",
         "type": "bar",
         "x": [
          0,
          1,
          2,
          3,
          4,
          5,
          6,
          7,
          8,
          9,
          10,
          11,
          12,
          13,
          14,
          15,
          16,
          17,
          18,
          19,
          20,
          21,
          22,
          23
         ],
         "xaxis": "x",
         "y": [
          0.001368608410569565,
          0.00013797974744585615,
          0.0004598366330417032,
          0.0009721694283397781,
          0.005069806290986356,
          0.01047744686246094,
          0.024259511693008908,
          0.07157358243947855,
          0.07916791129488299,
          0.05674907321133369,
          0.051802366687961114,
          0.061834972298296,
          0.057633640488209105,
          0.057989266553780165,
          0.10065694242335653,
          0.10288632703534507,
          0.08466247310654718,
          0.07484683575271117,
          0.05527451886517515,
          0.04242031059188649,
          0.03132514189825561,
          0.017597465000279623,
          0.007164092281658714,
          0.0036697210049897525
         ],
         "yaxis": "y"
        },
        {
         "alignmentgroup": "True",
         "customdata": [
          [
           2187.3343885239187,
           14.0
          ],
          [
           61.97820913203569,
           2.0
          ],
          [
           912.2695589601129,
           5.0
          ],
          [
           12483.692776628926,
           36.0
          ],
          [
           55159.42271740184,
           137.0
          ],
          [
           199632.62916546426,
           494.0
          ],
          [
           456107.80835704284,
           1354.0
          ],
          [
           793861.4790379282,
           2702.0
          ],
          [
           925881.9063101637,
           3061.0
          ],
          [
           755962.3059648597,
           2157.0
          ],
          [
           790577.2370197598,
           1886.0
          ],
          [
           899443.1494328843,
           2249.0
          ],
          [
           1030126.4044181665,
           2669.0
          ],
          [
           724910.248032352,
           2300.0
          ],
          [
           936064.4405040304,
           2478.0
          ],
          [
           1150834.6385726687,
           2956.0
          ],
          [
           1039719.184522795,
           3578.0
          ],
          [
           1179160.9735368912,
           4002.0
          ],
          [
           765211.3275061895,
           3115.0
          ],
          [
           580555.6707428126,
           2143.0
          ],
          [
           427562.734015865,
           1606.0
          ],
          [
           273280.336872502,
           944.0
          ],
          [
           76045.60261073374,
           384.0
          ],
          [
           31291.91554708656,
           172.0
          ]
         ],
         "hovertemplate": "source=survey (2017/2019)<br>dept_hr=%{x}<br>percentage=%{y}<br>trexpfac=%{customdata[0]}<br>sample_count=%{customdata[1]}<extra></extra>",
         "legendgroup": "survey (2017/2019)",
         "marker": {
          "color": "#00A7A0",
          "pattern": {
           "shape": ""
          }
         },
         "name": "survey (2017/2019)",
         "offsetgroup": "survey (2017/2019)",
         "orientation": "v",
         "showlegend": true,
         "textposition": "auto",
         "type": "bar",
         "x": [
          0,
          1,
          2,
          3,
          4,
          5,
          6,
          7,
          8,
          9,
          10,
          11,
          12,
          13,
          14,
          15,
          16,
          17,
          18,
          19,
          20,
          21,
          22,
          23
         ],
         "xaxis": "x",
         "y": [
          0.00016688247496763259,
          4.7286217362474115e-06,
          6.960152166749035e-05,
          0.0009524421863569176,
          0.004208383057095258,
          0.015230952987444408,
          0.034798703074408154,
          0.06056758815588206,
          0.07064007445018972,
          0.05767607424980369,
          0.060317017214712665,
          0.06862293193832834,
          0.07859339879661577,
          0.05530696036040327,
          0.0714169499552019,
          0.08780282236274445,
          0.07932527906790844,
          0.08996397747025486,
          0.058381727493287724,
          0.04429344123073715,
          0.032620859266353955,
          0.02084989803870256,
          0.005801892221265891,
          0.002387413803931443
         ],
         "yaxis": "y"
        }
       ],
       "layout": {
        "barmode": "group",
        "font": {
         "size": 11
        },
        "height": 400,
        "legend": {
         "title": {
          "text": "source"
         },
         "tracegroupgap": 0
        },
        "template": {
         "data": {
          "bar": [
           {
            "error_x": {
             "color": "rgb(36,36,36)"
            },
            "error_y": {
             "color": "rgb(36,36,36)"
            },
            "marker": {
             "line": {
              "color": "white",
              "width": 0.5
             },
             "pattern": {
              "fillmode": "overlay",
              "size": 10,
              "solidity": 0.2
             }
            },
            "type": "bar"
           }
          ],
          "barpolar": [
           {
            "marker": {
             "line": {
              "color": "white",
              "width": 0.5
             },
             "pattern": {
              "fillmode": "overlay",
              "size": 10,
              "solidity": 0.2
             }
            },
            "type": "barpolar"
           }
          ],
          "carpet": [
           {
            "aaxis": {
             "endlinecolor": "rgb(36,36,36)",
             "gridcolor": "white",
             "linecolor": "white",
             "minorgridcolor": "white",
             "startlinecolor": "rgb(36,36,36)"
            },
            "baxis": {
             "endlinecolor": "rgb(36,36,36)",
             "gridcolor": "white",
             "linecolor": "white",
             "minorgridcolor": "white",
             "startlinecolor": "rgb(36,36,36)"
            },
            "type": "carpet"
           }
          ],
          "choropleth": [
           {
            "colorbar": {
             "outlinewidth": 1,
             "tickcolor": "rgb(36,36,36)",
             "ticks": "outside"
            },
            "type": "choropleth"
           }
          ],
          "contour": [
           {
            "colorbar": {
             "outlinewidth": 1,
             "tickcolor": "rgb(36,36,36)",
             "ticks": "outside"
            },
            "colorscale": [
             [
              0.0,
              "#440154"
             ],
             [
              0.1111111111111111,
              "#482878"
             ],
             [
              0.2222222222222222,
              "#3e4989"
             ],
             [
              0.3333333333333333,
              "#31688e"
             ],
             [
              0.4444444444444444,
              "#26828e"
             ],
             [
              0.5555555555555556,
              "#1f9e89"
             ],
             [
              0.6666666666666666,
              "#35b779"
             ],
             [
              0.7777777777777778,
              "#6ece58"
             ],
             [
              0.8888888888888888,
              "#b5de2b"
             ],
             [
              1.0,
              "#fde725"
             ]
            ],
            "type": "contour"
           }
          ],
          "contourcarpet": [
           {
            "colorbar": {
             "outlinewidth": 1,
             "tickcolor": "rgb(36,36,36)",
             "ticks": "outside"
            },
            "type": "contourcarpet"
           }
          ],
          "heatmap": [
           {
            "colorbar": {
             "outlinewidth": 1,
             "tickcolor": "rgb(36,36,36)",
             "ticks": "outside"
            },
            "colorscale": [
             [
              0.0,
              "#440154"
             ],
             [
              0.1111111111111111,
              "#482878"
             ],
             [
              0.2222222222222222,
              "#3e4989"
             ],
             [
              0.3333333333333333,
              "#31688e"
             ],
             [
              0.4444444444444444,
              "#26828e"
             ],
             [
              0.5555555555555556,
              "#1f9e89"
             ],
             [
              0.6666666666666666,
              "#35b779"
             ],
             [
              0.7777777777777778,
              "#6ece58"
             ],
             [
              0.8888888888888888,
              "#b5de2b"
             ],
             [
              1.0,
              "#fde725"
             ]
            ],
            "type": "heatmap"
           }
          ],
          "heatmapgl": [
           {
            "colorbar": {
             "outlinewidth": 1,
             "tickcolor": "rgb(36,36,36)",
             "ticks": "outside"
            },
            "colorscale": [
             [
              0.0,
              "#440154"
             ],
             [
              0.1111111111111111,
              "#482878"
             ],
             [
              0.2222222222222222,
              "#3e4989"
             ],
             [
              0.3333333333333333,
              "#31688e"
             ],
             [
              0.4444444444444444,
              "#26828e"
             ],
             [
              0.5555555555555556,
              "#1f9e89"
             ],
             [
              0.6666666666666666,
              "#35b779"
             ],
             [
              0.7777777777777778,
              "#6ece58"
             ],
             [
              0.8888888888888888,
              "#b5de2b"
             ],
             [
              1.0,
              "#fde725"
             ]
            ],
            "type": "heatmapgl"
           }
          ],
          "histogram": [
           {
            "marker": {
             "line": {
              "color": "white",
              "width": 0.6
             }
            },
            "type": "histogram"
           }
          ],
          "histogram2d": [
           {
            "colorbar": {
             "outlinewidth": 1,
             "tickcolor": "rgb(36,36,36)",
             "ticks": "outside"
            },
            "colorscale": [
             [
              0.0,
              "#440154"
             ],
             [
              0.1111111111111111,
              "#482878"
             ],
             [
              0.2222222222222222,
              "#3e4989"
             ],
             [
              0.3333333333333333,
              "#31688e"
             ],
             [
              0.4444444444444444,
              "#26828e"
             ],
             [
              0.5555555555555556,
              "#1f9e89"
             ],
             [
              0.6666666666666666,
              "#35b779"
             ],
             [
              0.7777777777777778,
              "#6ece58"
             ],
             [
              0.8888888888888888,
              "#b5de2b"
             ],
             [
              1.0,
              "#fde725"
             ]
            ],
            "type": "histogram2d"
           }
          ],
          "histogram2dcontour": [
           {
            "colorbar": {
             "outlinewidth": 1,
             "tickcolor": "rgb(36,36,36)",
             "ticks": "outside"
            },
            "colorscale": [
             [
              0.0,
              "#440154"
             ],
             [
              0.1111111111111111,
              "#482878"
             ],
             [
              0.2222222222222222,
              "#3e4989"
             ],
             [
              0.3333333333333333,
              "#31688e"
             ],
             [
              0.4444444444444444,
              "#26828e"
             ],
             [
              0.5555555555555556,
              "#1f9e89"
             ],
             [
              0.6666666666666666,
              "#35b779"
             ],
             [
              0.7777777777777778,
              "#6ece58"
             ],
             [
              0.8888888888888888,
              "#b5de2b"
             ],
             [
              1.0,
              "#fde725"
             ]
            ],
            "type": "histogram2dcontour"
           }
          ],
          "mesh3d": [
           {
            "colorbar": {
             "outlinewidth": 1,
             "tickcolor": "rgb(36,36,36)",
             "ticks": "outside"
            },
            "type": "mesh3d"
           }
          ],
          "parcoords": [
           {
            "line": {
             "colorbar": {
              "outlinewidth": 1,
              "tickcolor": "rgb(36,36,36)",
              "ticks": "outside"
             }
            },
            "type": "parcoords"
           }
          ],
          "pie": [
           {
            "automargin": true,
            "type": "pie"
           }
          ],
          "scatter": [
           {
            "fillpattern": {
             "fillmode": "overlay",
             "size": 10,
             "solidity": 0.2
            },
            "type": "scatter"
           }
          ],
          "scatter3d": [
           {
            "line": {
             "colorbar": {
              "outlinewidth": 1,
              "tickcolor": "rgb(36,36,36)",
              "ticks": "outside"
             }
            },
            "marker": {
             "colorbar": {
              "outlinewidth": 1,
              "tickcolor": "rgb(36,36,36)",
              "ticks": "outside"
             }
            },
            "type": "scatter3d"
           }
          ],
          "scattercarpet": [
           {
            "marker": {
             "colorbar": {
              "outlinewidth": 1,
              "tickcolor": "rgb(36,36,36)",
              "ticks": "outside"
             }
            },
            "type": "scattercarpet"
           }
          ],
          "scattergeo": [
           {
            "marker": {
             "colorbar": {
              "outlinewidth": 1,
              "tickcolor": "rgb(36,36,36)",
              "ticks": "outside"
             }
            },
            "type": "scattergeo"
           }
          ],
          "scattergl": [
           {
            "marker": {
             "colorbar": {
              "outlinewidth": 1,
              "tickcolor": "rgb(36,36,36)",
              "ticks": "outside"
             }
            },
            "type": "scattergl"
           }
          ],
          "scattermapbox": [
           {
            "marker": {
             "colorbar": {
              "outlinewidth": 1,
              "tickcolor": "rgb(36,36,36)",
              "ticks": "outside"
             }
            },
            "type": "scattermapbox"
           }
          ],
          "scatterpolar": [
           {
            "marker": {
             "colorbar": {
              "outlinewidth": 1,
              "tickcolor": "rgb(36,36,36)",
              "ticks": "outside"
             }
            },
            "type": "scatterpolar"
           }
          ],
          "scatterpolargl": [
           {
            "marker": {
             "colorbar": {
              "outlinewidth": 1,
              "tickcolor": "rgb(36,36,36)",
              "ticks": "outside"
             }
            },
            "type": "scatterpolargl"
           }
          ],
          "scatterternary": [
           {
            "marker": {
             "colorbar": {
              "outlinewidth": 1,
              "tickcolor": "rgb(36,36,36)",
              "ticks": "outside"
             }
            },
            "type": "scatterternary"
           }
          ],
          "surface": [
           {
            "colorbar": {
             "outlinewidth": 1,
             "tickcolor": "rgb(36,36,36)",
             "ticks": "outside"
            },
            "colorscale": [
             [
              0.0,
              "#440154"
             ],
             [
              0.1111111111111111,
              "#482878"
             ],
             [
              0.2222222222222222,
              "#3e4989"
             ],
             [
              0.3333333333333333,
              "#31688e"
             ],
             [
              0.4444444444444444,
              "#26828e"
             ],
             [
              0.5555555555555556,
              "#1f9e89"
             ],
             [
              0.6666666666666666,
              "#35b779"
             ],
             [
              0.7777777777777778,
              "#6ece58"
             ],
             [
              0.8888888888888888,
              "#b5de2b"
             ],
             [
              1.0,
              "#fde725"
             ]
            ],
            "type": "surface"
           }
          ],
          "table": [
           {
            "cells": {
             "fill": {
              "color": "rgb(237,237,237)"
             },
             "line": {
              "color": "white"
             }
            },
            "header": {
             "fill": {
              "color": "rgb(217,217,217)"
             },
             "line": {
              "color": "white"
             }
            },
            "type": "table"
           }
          ]
         },
         "layout": {
          "annotationdefaults": {
           "arrowhead": 0,
           "arrowwidth": 1
          },
          "autotypenumbers": "strict",
          "coloraxis": {
           "colorbar": {
            "outlinewidth": 1,
            "tickcolor": "rgb(36,36,36)",
            "ticks": "outside"
           }
          },
          "colorscale": {
           "diverging": [
            [
             0.0,
             "rgb(103,0,31)"
            ],
            [
             0.1,
             "rgb(178,24,43)"
            ],
            [
             0.2,
             "rgb(214,96,77)"
            ],
            [
             0.3,
             "rgb(244,165,130)"
            ],
            [
             0.4,
             "rgb(253,219,199)"
            ],
            [
             0.5,
             "rgb(247,247,247)"
            ],
            [
             0.6,
             "rgb(209,229,240)"
            ],
            [
             0.7,
             "rgb(146,197,222)"
            ],
            [
             0.8,
             "rgb(67,147,195)"
            ],
            [
             0.9,
             "rgb(33,102,172)"
            ],
            [
             1.0,
             "rgb(5,48,97)"
            ]
           ],
           "sequential": [
            [
             0.0,
             "#440154"
            ],
            [
             0.1111111111111111,
             "#482878"
            ],
            [
             0.2222222222222222,
             "#3e4989"
            ],
            [
             0.3333333333333333,
             "#31688e"
            ],
            [
             0.4444444444444444,
             "#26828e"
            ],
            [
             0.5555555555555556,
             "#1f9e89"
            ],
            [
             0.6666666666666666,
             "#35b779"
            ],
            [
             0.7777777777777778,
             "#6ece58"
            ],
            [
             0.8888888888888888,
             "#b5de2b"
            ],
            [
             1.0,
             "#fde725"
            ]
           ],
           "sequentialminus": [
            [
             0.0,
             "#440154"
            ],
            [
             0.1111111111111111,
             "#482878"
            ],
            [
             0.2222222222222222,
             "#3e4989"
            ],
            [
             0.3333333333333333,
             "#31688e"
            ],
            [
             0.4444444444444444,
             "#26828e"
            ],
            [
             0.5555555555555556,
             "#1f9e89"
            ],
            [
             0.6666666666666666,
             "#35b779"
            ],
            [
             0.7777777777777778,
             "#6ece58"
            ],
            [
             0.8888888888888888,
             "#b5de2b"
            ],
            [
             1.0,
             "#fde725"
            ]
           ]
          },
          "colorway": [
           "#91268F",
           "#8CC63E",
           "#00A7A0",
           "#F05A28",
           "#4C4C4C",
           "#630460",
           "#9f3913",
           "#588527",
           "#00716c",
           "#3e4040"
          ],
          "font": {
           "color": "rgb(36,36,36)",
           "family": "Poppins",
           "size": 11
          },
          "geo": {
           "bgcolor": "white",
           "lakecolor": "white",
           "landcolor": "white",
           "showlakes": true,
           "showland": true,
           "subunitcolor": "white"
          },
          "hoverlabel": {
           "align": "left"
          },
          "hovermode": "closest",
          "mapbox": {
           "style": "light"
          },
          "paper_bgcolor": "white",
          "plot_bgcolor": "white",
          "polar": {
           "angularaxis": {
            "gridcolor": "rgb(232,232,232)",
            "linecolor": "rgb(36,36,36)",
            "showgrid": false,
            "showline": true,
            "ticks": "outside"
           },
           "bgcolor": "white",
           "radialaxis": {
            "gridcolor": "rgb(232,232,232)",
            "linecolor": "rgb(36,36,36)",
            "showgrid": false,
            "showline": true,
            "ticks": "outside"
           }
          },
          "scene": {
           "xaxis": {
            "backgroundcolor": "white",
            "gridcolor": "rgb(232,232,232)",
            "gridwidth": 2,
            "linecolor": "rgb(36,36,36)",
            "showbackground": true,
            "showgrid": false,
            "showline": true,
            "ticks": "outside",
            "zeroline": false,
            "zerolinecolor": "rgb(36,36,36)"
           },
           "yaxis": {
            "backgroundcolor": "white",
            "gridcolor": "rgb(232,232,232)",
            "gridwidth": 2,
            "linecolor": "rgb(36,36,36)",
            "showbackground": true,
            "showgrid": false,
            "showline": true,
            "ticks": "outside",
            "zeroline": false,
            "zerolinecolor": "rgb(36,36,36)"
           },
           "zaxis": {
            "backgroundcolor": "white",
            "gridcolor": "rgb(232,232,232)",
            "gridwidth": 2,
            "linecolor": "rgb(36,36,36)",
            "showbackground": true,
            "showgrid": false,
            "showline": true,
            "ticks": "outside",
            "zeroline": false,
            "zerolinecolor": "rgb(36,36,36)"
           }
          },
          "shapedefaults": {
           "fillcolor": "black",
           "line": {
            "width": 0
           },
           "opacity": 0.3
          },
          "ternary": {
           "aaxis": {
            "gridcolor": "rgb(232,232,232)",
            "linecolor": "rgb(36,36,36)",
            "showgrid": false,
            "showline": true,
            "ticks": "outside"
           },
           "baxis": {
            "gridcolor": "rgb(232,232,232)",
            "linecolor": "rgb(36,36,36)",
            "showgrid": false,
            "showline": true,
            "ticks": "outside"
           },
           "bgcolor": "white",
           "caxis": {
            "gridcolor": "rgb(232,232,232)",
            "linecolor": "rgb(36,36,36)",
            "showgrid": false,
            "showline": true,
            "ticks": "outside"
           }
          },
          "title": {
           "x": 0.05
          },
          "xaxis": {
           "automargin": true,
           "gridcolor": "rgb(232,232,232)",
           "linecolor": "rgb(36,36,36)",
           "showgrid": false,
           "showline": true,
           "ticks": "outside",
           "title": {
            "standoff": 15
           },
           "zeroline": false,
           "zerolinecolor": "rgb(36,36,36)"
          },
          "yaxis": {
           "automargin": true,
           "gridcolor": "rgb(232,232,232)",
           "linecolor": "rgb(36,36,36)",
           "showgrid": false,
           "showline": true,
           "ticks": "outside",
           "title": {
            "standoff": 15
           },
           "zeroline": false,
           "zerolinecolor": "rgb(36,36,36)"
          }
         }
        },
        "title": {
         "text": "trip origin departure hour"
        },
        "width": 700,
        "xaxis": {
         "anchor": "y",
         "categoryorder": "category ascending",
         "domain": [
          0.0,
          1.0
         ],
         "dtick": 1,
         "title": {
          "text": "dept_hr"
         }
        },
        "yaxis": {
         "anchor": "x",
         "domain": [
          0.0,
          1.0
         ],
         "tickformat": ".0%",
         "title": {
          "text": "percentage"
         }
        }
       }
      },
      "text/html": [
       "<div>                            <div id=\"3df8a452-7cd1-4548-aaa4-56eef23cb6f0\" class=\"plotly-graph-div\" style=\"height:400px; width:700px;\"></div>            <script type=\"text/javascript\">                require([\"plotly\"], function(Plotly) {                    window.PLOTLYENV=window.PLOTLYENV || {};                                    if (document.getElementById(\"3df8a452-7cd1-4548-aaa4-56eef23cb6f0\")) {                    Plotly.newPlot(                        \"3df8a452-7cd1-4548-aaa4-56eef23cb6f0\",                        [{\"alignmentgroup\":\"True\",\"customdata\":[[37774.0,37774.0],[28072.0,28072.0],[22170.0,22170.0],[90734.0,90734.0],[100191.0,100191.0],[210734.0,210734.0],[590445.0,590445.0],[987927.0,987927.0],[1158081.0,1158081.0],[1075581.0,1075581.0],[1163818.0,1163818.0],[1134539.0,1134539.0],[1111789.0,1111789.0],[1132463.0,1132463.0],[1061279.0,1061279.0],[1245601.0,1245601.0],[1376134.0,1376134.0],[1343199.0,1343199.0],[1099694.0,1099694.0],[825892.0,825892.0],[662922.0,662922.0],[385050.0,385050.0],[227477.0,227477.0],[165838.0,165838.0]],\"hovertemplate\":\"source=model\\u003cbr\\u003edept_hr=%{x}\\u003cbr\\u003epercentage=%{y}\\u003cbr\\u003etrexpfac=%{customdata[0]}\\u003cbr\\u003esample_count=%{customdata[1]}\\u003cextra\\u003e\\u003c\\u002fextra\\u003e\",\"legendgroup\":\"model\",\"marker\":{\"color\":\"#91268F\",\"pattern\":{\"shape\":\"\"}},\"name\":\"model\",\"offsetgroup\":\"model\",\"orientation\":\"v\",\"showlegend\":true,\"textposition\":\"auto\",\"x\":[0,1,2,3,4,5,6,7,8,9,10,11,12,13,14,15,16,17,18,19,20,21,22,23],\"xaxis\":\"x\",\"y\":[0.0021913972660848467,0.0016285514918603753,0.0012861565465426233,0.0052637856605321776,0.005812418157629768,0.012225390783902263,0.034253707808902085,0.05731298053929698,0.0671841885239796,0.06239808500166266,0.06751701126225272,0.06581843762552644,0.06449863332088752,0.06569800185689215,0.061568377697709,0.07226151919395751,0.07983417920703141,0.07792350866754646,0.06379696153782785,0.047912783154586386,0.03845834326328953,0.02233805043961376,0.013196708738740475,0.0096208222537454],\"yaxis\":\"y\",\"type\":\"bar\"},{\"alignmentgroup\":\"True\",\"customdata\":[[16732.035414651556,25.0],[1686.8828241439442,8.0],[5621.770821798432,8.0],[11885.337820811179,22.0],[61981.33648097673,48.0],[128092.89392344817,150.0],[296586.6683667779,437.0],[875028.7568614692,1181.0],[967873.8529297126,1437.0],[693790.492143425,1061.0],[633314.1220614141,1041.0],[755968.5724337419,1154.0],[704604.8426099415,1237.0],[708952.5785127421,1172.0],[1230589.7818187769,1436.0],[1257845.3079375648,1727.0],[1035048.0731893245,1659.0],[915046.186197112,1700.0],[675763.205923194,1291.0],[518613.0186271319,927.0],[382968.1153226823,625.0],[215139.26505115812,365.0],[87585.20322161399,165.0],[44864.477920186095,87.0]],\"hovertemplate\":\"source=survey\\u003cbr\\u003edept_hr=%{x}\\u003cbr\\u003epercentage=%{y}\\u003cbr\\u003etrexpfac=%{customdata[0]}\\u003cbr\\u003esample_count=%{customdata[1]}\\u003cextra\\u003e\\u003c\\u002fextra\\u003e\",\"legendgroup\":\"survey\",\"marker\":{\"color\":\"#8CC63E\",\"pattern\":{\"shape\":\"\"}},\"name\":\"survey\",\"offsetgroup\":\"survey\",\"orientation\":\"v\",\"showlegend\":true,\"textposition\":\"auto\",\"x\":[0,1,2,3,4,5,6,7,8,9,10,11,12,13,14,15,16,17,18,19,20,21,22,23],\"xaxis\":\"x\",\"y\":[0.001368608410569565,0.00013797974744585615,0.0004598366330417032,0.0009721694283397781,0.005069806290986356,0.01047744686246094,0.024259511693008908,0.07157358243947855,0.07916791129488299,0.05674907321133369,0.051802366687961114,0.061834972298296,0.057633640488209105,0.057989266553780165,0.10065694242335653,0.10288632703534507,0.08466247310654718,0.07484683575271117,0.05527451886517515,0.04242031059188649,0.03132514189825561,0.017597465000279623,0.007164092281658714,0.0036697210049897525],\"yaxis\":\"y\",\"type\":\"bar\"},{\"alignmentgroup\":\"True\",\"customdata\":[[2187.3343885239187,14.0],[61.97820913203569,2.0],[912.2695589601129,5.0],[12483.692776628926,36.0],[55159.42271740184,137.0],[199632.62916546426,494.0],[456107.80835704284,1354.0],[793861.4790379282,2702.0],[925881.9063101637,3061.0],[755962.3059648597,2157.0],[790577.2370197598,1886.0],[899443.1494328843,2249.0],[1030126.4044181665,2669.0],[724910.248032352,2300.0],[936064.4405040304,2478.0],[1150834.6385726687,2956.0],[1039719.184522795,3578.0],[1179160.9735368912,4002.0],[765211.3275061895,3115.0],[580555.6707428126,2143.0],[427562.734015865,1606.0],[273280.336872502,944.0],[76045.60261073374,384.0],[31291.91554708656,172.0]],\"hovertemplate\":\"source=survey (2017\\u002f2019)\\u003cbr\\u003edept_hr=%{x}\\u003cbr\\u003epercentage=%{y}\\u003cbr\\u003etrexpfac=%{customdata[0]}\\u003cbr\\u003esample_count=%{customdata[1]}\\u003cextra\\u003e\\u003c\\u002fextra\\u003e\",\"legendgroup\":\"survey (2017\\u002f2019)\",\"marker\":{\"color\":\"#00A7A0\",\"pattern\":{\"shape\":\"\"}},\"name\":\"survey (2017\\u002f2019)\",\"offsetgroup\":\"survey (2017\\u002f2019)\",\"orientation\":\"v\",\"showlegend\":true,\"textposition\":\"auto\",\"x\":[0,1,2,3,4,5,6,7,8,9,10,11,12,13,14,15,16,17,18,19,20,21,22,23],\"xaxis\":\"x\",\"y\":[0.00016688247496763259,4.7286217362474115e-06,6.960152166749035e-05,0.0009524421863569176,0.004208383057095258,0.015230952987444408,0.034798703074408154,0.06056758815588206,0.07064007445018972,0.05767607424980369,0.060317017214712665,0.06862293193832834,0.07859339879661577,0.05530696036040327,0.0714169499552019,0.08780282236274445,0.07932527906790844,0.08996397747025486,0.058381727493287724,0.04429344123073715,0.032620859266353955,0.02084989803870256,0.005801892221265891,0.002387413803931443],\"yaxis\":\"y\",\"type\":\"bar\"}],                        {\"template\":{\"data\":{\"barpolar\":[{\"marker\":{\"line\":{\"color\":\"white\",\"width\":0.5},\"pattern\":{\"fillmode\":\"overlay\",\"size\":10,\"solidity\":0.2}},\"type\":\"barpolar\"}],\"bar\":[{\"error_x\":{\"color\":\"rgb(36,36,36)\"},\"error_y\":{\"color\":\"rgb(36,36,36)\"},\"marker\":{\"line\":{\"color\":\"white\",\"width\":0.5},\"pattern\":{\"fillmode\":\"overlay\",\"size\":10,\"solidity\":0.2}},\"type\":\"bar\"}],\"carpet\":[{\"aaxis\":{\"endlinecolor\":\"rgb(36,36,36)\",\"gridcolor\":\"white\",\"linecolor\":\"white\",\"minorgridcolor\":\"white\",\"startlinecolor\":\"rgb(36,36,36)\"},\"baxis\":{\"endlinecolor\":\"rgb(36,36,36)\",\"gridcolor\":\"white\",\"linecolor\":\"white\",\"minorgridcolor\":\"white\",\"startlinecolor\":\"rgb(36,36,36)\"},\"type\":\"carpet\"}],\"choropleth\":[{\"colorbar\":{\"outlinewidth\":1,\"tickcolor\":\"rgb(36,36,36)\",\"ticks\":\"outside\"},\"type\":\"choropleth\"}],\"contourcarpet\":[{\"colorbar\":{\"outlinewidth\":1,\"tickcolor\":\"rgb(36,36,36)\",\"ticks\":\"outside\"},\"type\":\"contourcarpet\"}],\"contour\":[{\"colorbar\":{\"outlinewidth\":1,\"tickcolor\":\"rgb(36,36,36)\",\"ticks\":\"outside\"},\"colorscale\":[[0.0,\"#440154\"],[0.1111111111111111,\"#482878\"],[0.2222222222222222,\"#3e4989\"],[0.3333333333333333,\"#31688e\"],[0.4444444444444444,\"#26828e\"],[0.5555555555555556,\"#1f9e89\"],[0.6666666666666666,\"#35b779\"],[0.7777777777777778,\"#6ece58\"],[0.8888888888888888,\"#b5de2b\"],[1.0,\"#fde725\"]],\"type\":\"contour\"}],\"heatmapgl\":[{\"colorbar\":{\"outlinewidth\":1,\"tickcolor\":\"rgb(36,36,36)\",\"ticks\":\"outside\"},\"colorscale\":[[0.0,\"#440154\"],[0.1111111111111111,\"#482878\"],[0.2222222222222222,\"#3e4989\"],[0.3333333333333333,\"#31688e\"],[0.4444444444444444,\"#26828e\"],[0.5555555555555556,\"#1f9e89\"],[0.6666666666666666,\"#35b779\"],[0.7777777777777778,\"#6ece58\"],[0.8888888888888888,\"#b5de2b\"],[1.0,\"#fde725\"]],\"type\":\"heatmapgl\"}],\"heatmap\":[{\"colorbar\":{\"outlinewidth\":1,\"tickcolor\":\"rgb(36,36,36)\",\"ticks\":\"outside\"},\"colorscale\":[[0.0,\"#440154\"],[0.1111111111111111,\"#482878\"],[0.2222222222222222,\"#3e4989\"],[0.3333333333333333,\"#31688e\"],[0.4444444444444444,\"#26828e\"],[0.5555555555555556,\"#1f9e89\"],[0.6666666666666666,\"#35b779\"],[0.7777777777777778,\"#6ece58\"],[0.8888888888888888,\"#b5de2b\"],[1.0,\"#fde725\"]],\"type\":\"heatmap\"}],\"histogram2dcontour\":[{\"colorbar\":{\"outlinewidth\":1,\"tickcolor\":\"rgb(36,36,36)\",\"ticks\":\"outside\"},\"colorscale\":[[0.0,\"#440154\"],[0.1111111111111111,\"#482878\"],[0.2222222222222222,\"#3e4989\"],[0.3333333333333333,\"#31688e\"],[0.4444444444444444,\"#26828e\"],[0.5555555555555556,\"#1f9e89\"],[0.6666666666666666,\"#35b779\"],[0.7777777777777778,\"#6ece58\"],[0.8888888888888888,\"#b5de2b\"],[1.0,\"#fde725\"]],\"type\":\"histogram2dcontour\"}],\"histogram2d\":[{\"colorbar\":{\"outlinewidth\":1,\"tickcolor\":\"rgb(36,36,36)\",\"ticks\":\"outside\"},\"colorscale\":[[0.0,\"#440154\"],[0.1111111111111111,\"#482878\"],[0.2222222222222222,\"#3e4989\"],[0.3333333333333333,\"#31688e\"],[0.4444444444444444,\"#26828e\"],[0.5555555555555556,\"#1f9e89\"],[0.6666666666666666,\"#35b779\"],[0.7777777777777778,\"#6ece58\"],[0.8888888888888888,\"#b5de2b\"],[1.0,\"#fde725\"]],\"type\":\"histogram2d\"}],\"histogram\":[{\"marker\":{\"line\":{\"color\":\"white\",\"width\":0.6}},\"type\":\"histogram\"}],\"mesh3d\":[{\"colorbar\":{\"outlinewidth\":1,\"tickcolor\":\"rgb(36,36,36)\",\"ticks\":\"outside\"},\"type\":\"mesh3d\"}],\"parcoords\":[{\"line\":{\"colorbar\":{\"outlinewidth\":1,\"tickcolor\":\"rgb(36,36,36)\",\"ticks\":\"outside\"}},\"type\":\"parcoords\"}],\"pie\":[{\"automargin\":true,\"type\":\"pie\"}],\"scatter3d\":[{\"line\":{\"colorbar\":{\"outlinewidth\":1,\"tickcolor\":\"rgb(36,36,36)\",\"ticks\":\"outside\"}},\"marker\":{\"colorbar\":{\"outlinewidth\":1,\"tickcolor\":\"rgb(36,36,36)\",\"ticks\":\"outside\"}},\"type\":\"scatter3d\"}],\"scattercarpet\":[{\"marker\":{\"colorbar\":{\"outlinewidth\":1,\"tickcolor\":\"rgb(36,36,36)\",\"ticks\":\"outside\"}},\"type\":\"scattercarpet\"}],\"scattergeo\":[{\"marker\":{\"colorbar\":{\"outlinewidth\":1,\"tickcolor\":\"rgb(36,36,36)\",\"ticks\":\"outside\"}},\"type\":\"scattergeo\"}],\"scattergl\":[{\"marker\":{\"colorbar\":{\"outlinewidth\":1,\"tickcolor\":\"rgb(36,36,36)\",\"ticks\":\"outside\"}},\"type\":\"scattergl\"}],\"scattermapbox\":[{\"marker\":{\"colorbar\":{\"outlinewidth\":1,\"tickcolor\":\"rgb(36,36,36)\",\"ticks\":\"outside\"}},\"type\":\"scattermapbox\"}],\"scatterpolargl\":[{\"marker\":{\"colorbar\":{\"outlinewidth\":1,\"tickcolor\":\"rgb(36,36,36)\",\"ticks\":\"outside\"}},\"type\":\"scatterpolargl\"}],\"scatterpolar\":[{\"marker\":{\"colorbar\":{\"outlinewidth\":1,\"tickcolor\":\"rgb(36,36,36)\",\"ticks\":\"outside\"}},\"type\":\"scatterpolar\"}],\"scatter\":[{\"fillpattern\":{\"fillmode\":\"overlay\",\"size\":10,\"solidity\":0.2},\"type\":\"scatter\"}],\"scatterternary\":[{\"marker\":{\"colorbar\":{\"outlinewidth\":1,\"tickcolor\":\"rgb(36,36,36)\",\"ticks\":\"outside\"}},\"type\":\"scatterternary\"}],\"surface\":[{\"colorbar\":{\"outlinewidth\":1,\"tickcolor\":\"rgb(36,36,36)\",\"ticks\":\"outside\"},\"colorscale\":[[0.0,\"#440154\"],[0.1111111111111111,\"#482878\"],[0.2222222222222222,\"#3e4989\"],[0.3333333333333333,\"#31688e\"],[0.4444444444444444,\"#26828e\"],[0.5555555555555556,\"#1f9e89\"],[0.6666666666666666,\"#35b779\"],[0.7777777777777778,\"#6ece58\"],[0.8888888888888888,\"#b5de2b\"],[1.0,\"#fde725\"]],\"type\":\"surface\"}],\"table\":[{\"cells\":{\"fill\":{\"color\":\"rgb(237,237,237)\"},\"line\":{\"color\":\"white\"}},\"header\":{\"fill\":{\"color\":\"rgb(217,217,217)\"},\"line\":{\"color\":\"white\"}},\"type\":\"table\"}]},\"layout\":{\"annotationdefaults\":{\"arrowhead\":0,\"arrowwidth\":1},\"autotypenumbers\":\"strict\",\"coloraxis\":{\"colorbar\":{\"outlinewidth\":1,\"tickcolor\":\"rgb(36,36,36)\",\"ticks\":\"outside\"}},\"colorscale\":{\"diverging\":[[0.0,\"rgb(103,0,31)\"],[0.1,\"rgb(178,24,43)\"],[0.2,\"rgb(214,96,77)\"],[0.3,\"rgb(244,165,130)\"],[0.4,\"rgb(253,219,199)\"],[0.5,\"rgb(247,247,247)\"],[0.6,\"rgb(209,229,240)\"],[0.7,\"rgb(146,197,222)\"],[0.8,\"rgb(67,147,195)\"],[0.9,\"rgb(33,102,172)\"],[1.0,\"rgb(5,48,97)\"]],\"sequential\":[[0.0,\"#440154\"],[0.1111111111111111,\"#482878\"],[0.2222222222222222,\"#3e4989\"],[0.3333333333333333,\"#31688e\"],[0.4444444444444444,\"#26828e\"],[0.5555555555555556,\"#1f9e89\"],[0.6666666666666666,\"#35b779\"],[0.7777777777777778,\"#6ece58\"],[0.8888888888888888,\"#b5de2b\"],[1.0,\"#fde725\"]],\"sequentialminus\":[[0.0,\"#440154\"],[0.1111111111111111,\"#482878\"],[0.2222222222222222,\"#3e4989\"],[0.3333333333333333,\"#31688e\"],[0.4444444444444444,\"#26828e\"],[0.5555555555555556,\"#1f9e89\"],[0.6666666666666666,\"#35b779\"],[0.7777777777777778,\"#6ece58\"],[0.8888888888888888,\"#b5de2b\"],[1.0,\"#fde725\"]]},\"colorway\":[\"#91268F\",\"#8CC63E\",\"#00A7A0\",\"#F05A28\",\"#4C4C4C\",\"#630460\",\"#9f3913\",\"#588527\",\"#00716c\",\"#3e4040\"],\"font\":{\"color\":\"rgb(36,36,36)\",\"family\":\"Poppins\",\"size\":11},\"geo\":{\"bgcolor\":\"white\",\"lakecolor\":\"white\",\"landcolor\":\"white\",\"showlakes\":true,\"showland\":true,\"subunitcolor\":\"white\"},\"hoverlabel\":{\"align\":\"left\"},\"hovermode\":\"closest\",\"mapbox\":{\"style\":\"light\"},\"paper_bgcolor\":\"white\",\"plot_bgcolor\":\"white\",\"polar\":{\"angularaxis\":{\"gridcolor\":\"rgb(232,232,232)\",\"linecolor\":\"rgb(36,36,36)\",\"showgrid\":false,\"showline\":true,\"ticks\":\"outside\"},\"bgcolor\":\"white\",\"radialaxis\":{\"gridcolor\":\"rgb(232,232,232)\",\"linecolor\":\"rgb(36,36,36)\",\"showgrid\":false,\"showline\":true,\"ticks\":\"outside\"}},\"scene\":{\"xaxis\":{\"backgroundcolor\":\"white\",\"gridcolor\":\"rgb(232,232,232)\",\"gridwidth\":2,\"linecolor\":\"rgb(36,36,36)\",\"showbackground\":true,\"showgrid\":false,\"showline\":true,\"ticks\":\"outside\",\"zeroline\":false,\"zerolinecolor\":\"rgb(36,36,36)\"},\"yaxis\":{\"backgroundcolor\":\"white\",\"gridcolor\":\"rgb(232,232,232)\",\"gridwidth\":2,\"linecolor\":\"rgb(36,36,36)\",\"showbackground\":true,\"showgrid\":false,\"showline\":true,\"ticks\":\"outside\",\"zeroline\":false,\"zerolinecolor\":\"rgb(36,36,36)\"},\"zaxis\":{\"backgroundcolor\":\"white\",\"gridcolor\":\"rgb(232,232,232)\",\"gridwidth\":2,\"linecolor\":\"rgb(36,36,36)\",\"showbackground\":true,\"showgrid\":false,\"showline\":true,\"ticks\":\"outside\",\"zeroline\":false,\"zerolinecolor\":\"rgb(36,36,36)\"}},\"shapedefaults\":{\"fillcolor\":\"black\",\"line\":{\"width\":0},\"opacity\":0.3},\"ternary\":{\"aaxis\":{\"gridcolor\":\"rgb(232,232,232)\",\"linecolor\":\"rgb(36,36,36)\",\"showgrid\":false,\"showline\":true,\"ticks\":\"outside\"},\"baxis\":{\"gridcolor\":\"rgb(232,232,232)\",\"linecolor\":\"rgb(36,36,36)\",\"showgrid\":false,\"showline\":true,\"ticks\":\"outside\"},\"bgcolor\":\"white\",\"caxis\":{\"gridcolor\":\"rgb(232,232,232)\",\"linecolor\":\"rgb(36,36,36)\",\"showgrid\":false,\"showline\":true,\"ticks\":\"outside\"}},\"title\":{\"x\":0.05},\"xaxis\":{\"automargin\":true,\"gridcolor\":\"rgb(232,232,232)\",\"linecolor\":\"rgb(36,36,36)\",\"showgrid\":false,\"showline\":true,\"ticks\":\"outside\",\"title\":{\"standoff\":15},\"zeroline\":false,\"zerolinecolor\":\"rgb(36,36,36)\"},\"yaxis\":{\"automargin\":true,\"gridcolor\":\"rgb(232,232,232)\",\"linecolor\":\"rgb(36,36,36)\",\"showgrid\":false,\"showline\":true,\"ticks\":\"outside\",\"title\":{\"standoff\":15},\"zeroline\":false,\"zerolinecolor\":\"rgb(36,36,36)\"}}},\"xaxis\":{\"anchor\":\"y\",\"domain\":[0.0,1.0],\"title\":{\"text\":\"dept_hr\"},\"dtick\":1,\"categoryorder\":\"category ascending\"},\"yaxis\":{\"anchor\":\"x\",\"domain\":[0.0,1.0],\"title\":{\"text\":\"percentage\"},\"tickformat\":\".0%\"},\"legend\":{\"title\":{\"text\":\"source\"},\"tracegroupgap\":0},\"title\":{\"text\":\"trip origin departure hour\"},\"barmode\":\"group\",\"font\":{\"size\":11},\"height\":400,\"width\":700},                        {\"responsive\": true}                    ).then(function(){\n",
       "                            \n",
       "var gd = document.getElementById('3df8a452-7cd1-4548-aaa4-56eef23cb6f0');\n",
       "var x = new MutationObserver(function (mutations, observer) {{\n",
       "        var display = window.getComputedStyle(gd).display;\n",
       "        if (!display || display === 'none') {{\n",
       "            console.log([gd, 'removed!']);\n",
       "            Plotly.purge(gd);\n",
       "            observer.disconnect();\n",
       "        }}\n",
       "}});\n",
       "\n",
       "// Listen for the removal of the full notebook cells\n",
       "var notebookContainer = gd.closest('#notebook-container');\n",
       "if (notebookContainer) {{\n",
       "    x.observe(notebookContainer, {childList: true});\n",
       "}}\n",
       "\n",
       "// Listen for the clearing of the current output cell\n",
       "var outputEl = gd.closest('.output');\n",
       "if (outputEl) {{\n",
       "    x.observe(outputEl, {childList: true});\n",
       "}}\n",
       "\n",
       "                        })                };                });            </script>        </div>"
      ]
     },
     "metadata": {},
     "output_type": "display_data"
    }
   ],
   "source": [
    "df_plot = df_trip.groupby(['dept_hr','source'])['trexpfac'].agg(sample_count='size', trexpfac='sum').reset_index()\n",
    "df_plot['percentage'] = df_plot.groupby(['source'], group_keys=False)['trexpfac']. \\\n",
    "    apply(lambda x: x / float(x.sum()))\n",
    "\n",
    "fig = px.bar(df_plot, x=\"dept_hr\", y=\"percentage\", color=\"source\",\n",
    "             barmode=\"group\",title=\"trip origin departure hour\",\n",
    "             hover_data=['trexpfac','sample_count'])\n",
    "fig.update_layout(height=400, width=700, font=dict(size=11),\n",
    "                  xaxis = dict(dtick = 1, categoryorder='category ascending'),\n",
    "                  yaxis=dict(tickformat=\".0%\"))\n",
    "fig.show()"
   ]
  },
  {
   "cell_type": "raw",
   "metadata": {
    "vscode": {
     "languageId": "raw"
    }
   },
   "source": [
    ":::"
   ]
  },
  {
   "cell_type": "markdown",
   "metadata": {
    "collapsed": false
   },
   "source": [
    "## time choice by purpose"
   ]
  },
  {
   "cell_type": "raw",
   "metadata": {
    "vscode": {
     "languageId": "raw"
    }
   },
   "source": [
    ":::{.panel-tabset}\n",
    "### tour"
   ]
  },
  {
   "cell_type": "code",
   "execution_count": 7,
   "metadata": {
    "ExecuteTime": {
     "end_time": "2024-07-15T04:43:21.363175Z",
     "start_time": "2024-07-15T04:43:20.456962Z"
    },
    "collapsed": false,
    "execution": {
     "iopub.execute_input": "2024-11-26T18:23:58.585576Z",
     "iopub.status.busy": "2024-11-26T18:23:58.583579Z",
     "iopub.status.idle": "2024-11-26T18:23:59.763475Z",
     "shell.execute_reply": "2024-11-26T18:23:59.761514Z"
    }
   },
   "outputs": [
    {
     "data": {
      "application/vnd.plotly.v1+json": {
       "config": {
        "plotlyServerURL": "https://plot.ly"
       },
       "data": [
        {
         "alignmentgroup": "True",
         "customdata": [
          [
           1368.0,
           1368.0
          ],
          [
           845.0,
           845.0
          ],
          [
           281.0,
           281.0
          ],
          [
           49965.0,
           49965.0
          ],
          [
           49419.0,
           49419.0
          ],
          [
           112200.0,
           112200.0
          ],
          [
           268052.0,
           268052.0
          ],
          [
           333505.0,
           333505.0
          ],
          [
           262122.0,
           262122.0
          ],
          [
           133811.0,
           133811.0
          ],
          [
           83366.0,
           83366.0
          ],
          [
           65967.0,
           65967.0
          ],
          [
           52179.0,
           52179.0
          ],
          [
           39288.0,
           39288.0
          ],
          [
           33680.0,
           33680.0
          ],
          [
           29476.0,
           29476.0
          ],
          [
           28207.0,
           28207.0
          ],
          [
           27288.0,
           27288.0
          ],
          [
           21808.0,
           21808.0
          ],
          [
           12194.0,
           12194.0
          ],
          [
           9920.0,
           9920.0
          ],
          [
           6679.0,
           6679.0
          ],
          [
           3037.0,
           3037.0
          ],
          [
           2104.0,
           2104.0
          ]
         ],
         "hovertemplate": "source=model<br>pdpurp_label=Work<br>tlvorg_hr=%{x}<br>percentage=%{y}<br>toexpfac=%{customdata[0]}<br>sample_count=%{customdata[1]}<extra></extra>",
         "legendgroup": "model",
         "marker": {
          "color": "#91268F",
          "pattern": {
           "shape": ""
          }
         },
         "name": "model",
         "offsetgroup": "model",
         "orientation": "v",
         "showlegend": true,
         "textposition": "auto",
         "type": "bar",
         "x": [
          0,
          1,
          2,
          3,
          4,
          5,
          6,
          7,
          8,
          9,
          10,
          11,
          12,
          13,
          14,
          15,
          16,
          17,
          18,
          19,
          20,
          21,
          22,
          23
         ],
         "xaxis": "x6",
         "y": [
          0.0008409348392296103,
          0.000519437090021214,
          0.00017273588437391848,
          0.03071440734072184,
          0.03037877106716967,
          0.06897141005962154,
          0.16477650988682419,
          0.2050116765769526,
          0.16113122947992975,
          0.0822560904767203,
          0.05124661828012843,
          0.04055113197328925,
          0.03207539398842239,
          0.024151058452962667,
          0.020703717386881048,
          0.018119441024219293,
          0.017339363311512878,
          0.016774437056211698,
          0.013405779951695423,
          0.007495876775998441,
          0.006098007021314133,
          0.004105704525741642,
          0.001866899931827724,
          0.0012933676182303362
         ],
         "yaxis": "y6"
        },
        {
         "alignmentgroup": "True",
         "customdata": [
          [
           2.0,
           2.0
          ],
          [
           1.0,
           1.0
          ],
          [
           0.0,
           0.0
          ],
          [
           3378.0,
           3378.0
          ],
          [
           3644.0,
           3644.0
          ],
          [
           11123.0,
           11123.0
          ],
          [
           62779.0,
           62779.0
          ],
          [
           152006.0,
           152006.0
          ],
          [
           160752.0,
           160752.0
          ],
          [
           76561.0,
           76561.0
          ],
          [
           33792.0,
           33792.0
          ],
          [
           20165.0,
           20165.0
          ],
          [
           12611.0,
           12611.0
          ],
          [
           8224.0,
           8224.0
          ],
          [
           5647.0,
           5647.0
          ],
          [
           3957.0,
           3957.0
          ],
          [
           3308.0,
           3308.0
          ],
          [
           3044.0,
           3044.0
          ],
          [
           2204.0,
           2204.0
          ],
          [
           699.0,
           699.0
          ],
          [
           617.0,
           617.0
          ],
          [
           358.0,
           358.0
          ],
          [
           9.0,
           9.0
          ],
          [
           8.0,
           8.0
          ]
         ],
         "hovertemplate": "source=model<br>pdpurp_label=School<br>tlvorg_hr=%{x}<br>percentage=%{y}<br>toexpfac=%{customdata[0]}<br>sample_count=%{customdata[1]}<extra></extra>",
         "legendgroup": "model",
         "marker": {
          "color": "#91268F",
          "pattern": {
           "shape": ""
          }
         },
         "name": "model",
         "offsetgroup": "model",
         "orientation": "v",
         "showlegend": false,
         "textposition": "auto",
         "type": "bar",
         "x": [
          0,
          1,
          2,
          3,
          4,
          5,
          6,
          7,
          8,
          9,
          10,
          11,
          12,
          13,
          14,
          15,
          16,
          17,
          18,
          19,
          20,
          21,
          22,
          23
         ],
         "xaxis": "x5",
         "y": [
          3.540518579756377e-06,
          1.7702592898781886e-06,
          0.0,
          0.005979935881208521,
          0.006450824852316119,
          0.01969059408131509,
          0.11113510795926279,
          0.2690900336172239,
          0.2845727213664985,
          0.13553282149236398,
          0.05982060192356375,
          0.03569727858039367,
          0.022324739904653834,
          0.014558612399958221,
          0.00999665420994213,
          0.007004916010047992,
          0.005856017730917047,
          0.005388669278389205,
          0.0039016514748915275,
          0.0012374112436248537,
          0.0010922499818548422,
          0.0006337528257763915,
          1.5932333608903695e-05,
          1.4162074319025508e-05
         ],
         "yaxis": "y5"
        },
        {
         "alignmentgroup": "True",
         "customdata": [
          [
           353.0,
           353.0
          ],
          [
           265.0,
           265.0
          ],
          [
           124.0,
           124.0
          ],
          [
           1043.0,
           1043.0
          ],
          [
           781.0,
           781.0
          ],
          [
           1817.0,
           1817.0
          ],
          [
           9343.0,
           9343.0
          ],
          [
           28245.0,
           28245.0
          ],
          [
           49194.0,
           49194.0
          ],
          [
           61020.0,
           61020.0
          ],
          [
           62461.0,
           62461.0
          ],
          [
           52435.0,
           52435.0
          ],
          [
           50892.0,
           50892.0
          ],
          [
           54368.0,
           54368.0
          ],
          [
           50038.0,
           50038.0
          ],
          [
           47150.0,
           47150.0
          ],
          [
           51518.0,
           51518.0
          ],
          [
           47412.0,
           47412.0
          ],
          [
           45058.0,
           45058.0
          ],
          [
           28739.0,
           28739.0
          ],
          [
           17717.0,
           17717.0
          ],
          [
           8742.0,
           8742.0
          ],
          [
           2317.0,
           2317.0
          ],
          [
           1121.0,
           1121.0
          ]
         ],
         "hovertemplate": "source=model<br>pdpurp_label=Shop<br>tlvorg_hr=%{x}<br>percentage=%{y}<br>toexpfac=%{customdata[0]}<br>sample_count=%{customdata[1]}<extra></extra>",
         "legendgroup": "model",
         "marker": {
          "color": "#91268F",
          "pattern": {
           "shape": ""
          }
         },
         "name": "model",
         "offsetgroup": "model",
         "orientation": "v",
         "showlegend": false,
         "textposition": "auto",
         "type": "bar",
         "x": [
          0,
          1,
          2,
          3,
          4,
          5,
          6,
          7,
          8,
          9,
          10,
          11,
          12,
          13,
          14,
          15,
          16,
          17,
          18,
          19,
          20,
          21,
          22,
          23
         ],
         "xaxis": "x4",
         "y": [
          0.0005251780472600732,
          0.00039425547457200966,
          0.00018448180696954415,
          0.0015517300376551172,
          0.0011619378326065642,
          0.002703253574706949,
          0.013900109052552023,
          0.04202168256334495,
          0.07318869364564318,
          0.09078290210710954,
          0.09292675923487659,
          0.07801051248748425,
          0.07571490419591968,
          0.08088634581709819,
          0.07444436013824234,
          0.07014771934366133,
          0.07664623976981431,
          0.0705375115487099,
          0.06703533272930419,
          0.04275663427820749,
          0.026358582049027527,
          0.013005967391352862,
          0.003447131828616401,
          0.0016677750452649917
         ],
         "yaxis": "y4"
        },
        {
         "alignmentgroup": "True",
         "customdata": [
          [
           619.0,
           619.0
          ],
          [
           418.0,
           418.0
          ],
          [
           162.0,
           162.0
          ],
          [
           1503.0,
           1503.0
          ],
          [
           1385.0,
           1385.0
          ],
          [
           3178.0,
           3178.0
          ],
          [
           8692.0,
           8692.0
          ],
          [
           14605.0,
           14605.0
          ],
          [
           31847.0,
           31847.0
          ],
          [
           45218.0,
           45218.0
          ],
          [
           71973.0,
           71973.0
          ],
          [
           78142.0,
           78142.0
          ],
          [
           85626.0,
           85626.0
          ],
          [
           57235.0,
           57235.0
          ],
          [
           53953.0,
           53953.0
          ],
          [
           42693.0,
           42693.0
          ],
          [
           42394.0,
           42394.0
          ],
          [
           43221.0,
           43221.0
          ],
          [
           44380.0,
           44380.0
          ],
          [
           25139.0,
           25139.0
          ],
          [
           22053.0,
           22053.0
          ],
          [
           17883.0,
           17883.0
          ],
          [
           3318.0,
           3318.0
          ],
          [
           1589.0,
           1589.0
          ]
         ],
         "hovertemplate": "source=model<br>pdpurp_label=Meal<br>tlvorg_hr=%{x}<br>percentage=%{y}<br>toexpfac=%{customdata[0]}<br>sample_count=%{customdata[1]}<extra></extra>",
         "legendgroup": "model",
         "marker": {
          "color": "#91268F",
          "pattern": {
           "shape": ""
          }
         },
         "name": "model",
         "offsetgroup": "model",
         "orientation": "v",
         "showlegend": false,
         "textposition": "auto",
         "type": "bar",
         "x": [
          0,
          1,
          2,
          3,
          4,
          5,
          6,
          7,
          8,
          9,
          10,
          11,
          12,
          13,
          14,
          15,
          16,
          17,
          18,
          19,
          20,
          21,
          22,
          23
         ],
         "xaxis": "x3",
         "y": [
          0.0008878039545283738,
          0.0005995186639626176,
          0.0002323493386649379,
          0.002155685530946924,
          0.0019864434200675247,
          0.004558062952328227,
          0.012466545997997779,
          0.020947296859268015,
          0.04567672462013752,
          0.06485415059105656,
          0.10322764785019492,
          0.11207556803676283,
          0.12280953378101218,
          0.08208959505239334,
          0.07738236956166293,
          0.0612326562692728,
          0.06080381397136653,
          0.06198994300269927,
          0.06365224475277743,
          0.036055740893196755,
          0.03162962941714738,
          0.025648785329290647,
          0.004758858677100395,
          0.0022790314761641133
         ],
         "yaxis": "y3"
        },
        {
         "alignmentgroup": "True",
         "customdata": [
          [
           320.0,
           320.0
          ],
          [
           289.0,
           289.0
          ],
          [
           140.0,
           140.0
          ],
          [
           8519.0,
           8519.0
          ],
          [
           5177.0,
           5177.0
          ],
          [
           8782.0,
           8782.0
          ],
          [
           27930.0,
           27930.0
          ],
          [
           51662.0,
           51662.0
          ],
          [
           76016.0,
           76016.0
          ],
          [
           85710.0,
           85710.0
          ],
          [
           76546.0,
           76546.0
          ],
          [
           57950.0,
           57950.0
          ],
          [
           52709.0,
           52709.0
          ],
          [
           53799.0,
           53799.0
          ],
          [
           48340.0,
           48340.0
          ],
          [
           46014.0,
           46014.0
          ],
          [
           47728.0,
           47728.0
          ],
          [
           40509.0,
           40509.0
          ],
          [
           36294.0,
           36294.0
          ],
          [
           24904.0,
           24904.0
          ],
          [
           18110.0,
           18110.0
          ],
          [
           10092.0,
           10092.0
          ],
          [
           2881.0,
           2881.0
          ],
          [
           1394.0,
           1394.0
          ]
         ],
         "hovertemplate": "source=model<br>pdpurp_label=Escort<br>tlvorg_hr=%{x}<br>percentage=%{y}<br>toexpfac=%{customdata[0]}<br>sample_count=%{customdata[1]}<extra></extra>",
         "legendgroup": "model",
         "marker": {
          "color": "#91268F",
          "pattern": {
           "shape": ""
          }
         },
         "name": "model",
         "offsetgroup": "model",
         "orientation": "v",
         "showlegend": false,
         "textposition": "auto",
         "type": "bar",
         "x": [
          0,
          1,
          2,
          3,
          4,
          5,
          6,
          7,
          8,
          9,
          10,
          11,
          12,
          13,
          14,
          15,
          16,
          17,
          18,
          19,
          20,
          21,
          22,
          23
         ],
         "xaxis": "x2",
         "y": [
          0.0004093039913534532,
          0.0003696526671910874,
          0.00017907049621713577,
          0.010896439694812712,
          0.006621771135115085,
          0.01123283641270633,
          0.035724563995318585,
          0.06607957125406906,
          0.09723016314601281,
          0.10962951593407648,
          0.09790807288169195,
          0.07412239468416441,
          0.06741876275077864,
          0.06881295447132633,
          0.06183048419383102,
          0.05885535580668061,
          0.06104769031036754,
          0.051814048080428235,
          0.04642274706931947,
          0.031854083127082496,
          0.02316404776065949,
          0.012908424627309529,
          0.003685014997154058,
          0.0017830305123334804
         ],
         "yaxis": "y2"
        },
        {
         "alignmentgroup": "True",
         "customdata": [
          [
           155.0,
           155.0
          ],
          [
           101.0,
           101.0
          ],
          [
           56.0,
           56.0
          ],
          [
           2252.0,
           2252.0
          ],
          [
           1336.0,
           1336.0
          ],
          [
           2557.0,
           2557.0
          ],
          [
           8719.0,
           8719.0
          ],
          [
           17707.0,
           17707.0
          ],
          [
           30096.0,
           30096.0
          ],
          [
           36861.0,
           36861.0
          ],
          [
           35716.0,
           35716.0
          ],
          [
           28635.0,
           28635.0
          ],
          [
           26995.0,
           26995.0
          ],
          [
           27071.0,
           27071.0
          ],
          [
           23186.0,
           23186.0
          ],
          [
           20915.0,
           20915.0
          ],
          [
           23876.0,
           23876.0
          ],
          [
           22328.0,
           22328.0
          ],
          [
           20445.0,
           20445.0
          ],
          [
           12216.0,
           12216.0
          ],
          [
           8976.0,
           8976.0
          ],
          [
           5417.0,
           5417.0
          ],
          [
           1190.0,
           1190.0
          ],
          [
           554.0,
           554.0
          ]
         ],
         "hovertemplate": "source=model<br>pdpurp_label=Personal Business<br>tlvorg_hr=%{x}<br>percentage=%{y}<br>toexpfac=%{customdata[0]}<br>sample_count=%{customdata[1]}<extra></extra>",
         "legendgroup": "model",
         "marker": {
          "color": "#91268F",
          "pattern": {
           "shape": ""
          }
         },
         "name": "model",
         "offsetgroup": "model",
         "orientation": "v",
         "showlegend": false,
         "textposition": "auto",
         "type": "bar",
         "x": [
          0,
          1,
          2,
          3,
          4,
          5,
          6,
          7,
          8,
          9,
          10,
          11,
          12,
          13,
          14,
          15,
          16,
          17,
          18,
          19,
          20,
          21,
          22,
          23
         ],
         "xaxis": "x",
         "y": [
          0.00043373628833669127,
          0.0002826281620774569,
          0.0001567047235280949,
          0.00630176852473696,
          0.003738526975598836,
          0.007155249608238191,
          0.02439836579359749,
          0.04954947391985673,
          0.0842175957018133,
          0.10314808596373405,
          0.09994403402731139,
          0.08012928139691068,
          0.07554007163644504,
          0.07575274233266174,
          0.06488135213790015,
          0.058526415939109025,
          0.06681217819565705,
          0.06248041190955899,
          0.057211215580926796,
          0.034184016118200135,
          0.02511752854264607,
          0.015158383702708753,
          0.003329975374972017,
          0.0015502574434743677
         ],
         "yaxis": "y"
        },
        {
         "alignmentgroup": "True",
         "customdata": [
          [
           0.0,
           0.0
          ],
          [
           551.958469674964,
           1.0
          ],
          [
           0.0,
           0.0
          ],
          [
           12103.963456859357,
           20.0
          ],
          [
           74931.36061469572,
           63.0
          ],
          [
           99400.45954333004,
           126.0
          ],
          [
           248864.77578781146,
           354.0
          ],
          [
           311397.3539980395,
           588.0
          ],
          [
           206346.47840445887,
           495.0
          ],
          [
           127703.56018230686,
           269.0
          ],
          [
           59092.504106178,
           166.0
          ],
          [
           37766.292036595085,
           93.0
          ],
          [
           26888.870887293404,
           95.0
          ],
          [
           30687.932298089298,
           67.0
          ],
          [
           32953.44141765535,
           59.0
          ],
          [
           26993.205859767655,
           52.0
          ],
          [
           15880.497234966046,
           27.0
          ],
          [
           9067.667081552125,
           38.0
          ],
          [
           3106.2604648083056,
           10.0
          ],
          [
           1354.8011261771373,
           8.0
          ],
          [
           2491.513138185322,
           8.0
          ],
          [
           1284.2515745934531,
           3.0
          ],
          [
           7463.727136272969,
           6.0
          ],
          [
           255.98038726538,
           1.0
          ]
         ],
         "hovertemplate": "source=survey<br>pdpurp_label=Work<br>tlvorg_hr=%{x}<br>percentage=%{y}<br>toexpfac=%{customdata[0]}<br>sample_count=%{customdata[1]}<extra></extra>",
         "legendgroup": "survey",
         "marker": {
          "color": "#8CC63E",
          "pattern": {
           "shape": ""
          }
         },
         "name": "survey",
         "offsetgroup": "survey",
         "orientation": "v",
         "showlegend": true,
         "textposition": "auto",
         "type": "bar",
         "x": [
          0,
          1,
          2,
          3,
          4,
          5,
          6,
          7,
          8,
          9,
          10,
          11,
          12,
          13,
          14,
          15,
          16,
          17,
          18,
          19,
          20,
          21,
          22,
          23
         ],
         "xaxis": "x6",
         "y": [
          0.0,
          0.00041296116861006844,
          0.0,
          0.009055874977154873,
          0.05606172193210347,
          0.07436887408859577,
          0.18619424156266162,
          0.2329795125434714,
          0.15438314210606763,
          0.09554452797799634,
          0.0442114957782111,
          0.028255770950820935,
          0.020117563465890585,
          0.02295992376293894,
          0.02465491957315578,
          0.020195624215977884,
          0.011881380677286129,
          0.006784195913815621,
          0.0023240244004406416,
          0.0010136274503221461,
          0.0018640862196720065,
          0.0009608440855083568,
          0.005584169189752665,
          0.00019151795954615829
         ],
         "yaxis": "y6"
        },
        {
         "alignmentgroup": "True",
         "customdata": [
          [
           0.0,
           0.0
          ],
          [
           0.0,
           0.0
          ],
          [
           0.0,
           0.0
          ],
          [
           0.0,
           0.0
          ],
          [
           75.6029420675361,
           1.0
          ],
          [
           944.6388505184881,
           3.0
          ],
          [
           26697.98862443798,
           28.0
          ],
          [
           177732.16684628103,
           225.0
          ],
          [
           224775.58031354484,
           254.0
          ],
          [
           48085.78968965203,
           55.0
          ],
          [
           16161.271083577121,
           16.0
          ],
          [
           3333.250470946136,
           11.0
          ],
          [
           5015.600869289834,
           10.0
          ],
          [
           7404.664188706871,
           9.0
          ],
          [
           2229.590294654095,
           10.0
          ],
          [
           387.7845844848059,
           5.0
          ],
          [
           4969.783185943033,
           6.0
          ],
          [
           1663.3036370758678,
           16.0
          ],
          [
           278.949359175002,
           2.0
          ],
          [
           156.064494787723,
           1.0
          ],
          [
           0.0,
           0.0
          ],
          [
           0.0,
           0.0
          ],
          [
           0.0,
           0.0
          ],
          [
           0.0,
           0.0
          ]
         ],
         "hovertemplate": "source=survey<br>pdpurp_label=School<br>tlvorg_hr=%{x}<br>percentage=%{y}<br>toexpfac=%{customdata[0]}<br>sample_count=%{customdata[1]}<extra></extra>",
         "legendgroup": "survey",
         "marker": {
          "color": "#8CC63E",
          "pattern": {
           "shape": ""
          }
         },
         "name": "survey",
         "offsetgroup": "survey",
         "orientation": "v",
         "showlegend": false,
         "textposition": "auto",
         "type": "bar",
         "x": [
          0,
          1,
          2,
          3,
          4,
          5,
          6,
          7,
          8,
          9,
          10,
          11,
          12,
          13,
          14,
          15,
          16,
          17,
          18,
          19,
          20,
          21,
          22,
          23
         ],
         "xaxis": "x5",
         "y": [
          0.0,
          0.0,
          0.0,
          0.0,
          0.00014541487364636436,
          0.0018169205500876552,
          0.051350973074125575,
          0.34185046081618436,
          0.4323338710930615,
          0.09248831911409082,
          0.031084626184040228,
          0.006411181665805157,
          0.009647018313346252,
          0.014242148227944748,
          0.004288399129899783,
          0.0007458657667646464,
          0.009558892475218251,
          0.003199202062862368,
          0.0005365318426620481,
          0.00030017481026026465,
          0.0,
          0.0,
          0.0,
          0.0
         ],
         "yaxis": "y5"
        },
        {
         "alignmentgroup": "True",
         "customdata": [
          [
           484.372679805163,
           1.0
          ],
          [
           0.0,
           0.0
          ],
          [
           306.34798152004703,
           1.0
          ],
          [
           0.0,
           0.0
          ],
          [
           0.0,
           0.0
          ],
          [
           666.5076935107627,
           5.0
          ],
          [
           313.25665406101865,
           3.0
          ],
          [
           14566.76265231447,
           36.0
          ],
          [
           13516.049841091384,
           51.0
          ],
          [
           50812.554897267575,
           115.0
          ],
          [
           82880.44853573837,
           157.0
          ],
          [
           55309.722403559426,
           114.0
          ],
          [
           45890.27107482399,
           117.0
          ],
          [
           50827.820885111934,
           126.0
          ],
          [
           75501.3702501398,
           148.0
          ],
          [
           32651.12387925838,
           103.0
          ],
          [
           53869.43630344453,
           99.0
          ],
          [
           42465.29577867404,
           112.0
          ],
          [
           59091.90904342833,
           92.0
          ],
          [
           17193.175848295632,
           83.0
          ],
          [
           2933.980540218817,
           23.0
          ],
          [
           766.8642961489354,
           9.0
          ],
          [
           1307.606066716253,
           7.0
          ],
          [
           8.1104247487979,
           1.0
          ]
         ],
         "hovertemplate": "source=survey<br>pdpurp_label=Shop<br>tlvorg_hr=%{x}<br>percentage=%{y}<br>toexpfac=%{customdata[0]}<br>sample_count=%{customdata[1]}<extra></extra>",
         "legendgroup": "survey",
         "marker": {
          "color": "#8CC63E",
          "pattern": {
           "shape": ""
          }
         },
         "name": "survey",
         "offsetgroup": "survey",
         "orientation": "v",
         "showlegend": false,
         "textposition": "auto",
         "type": "bar",
         "x": [
          0,
          1,
          2,
          3,
          4,
          5,
          6,
          7,
          8,
          9,
          10,
          11,
          12,
          13,
          14,
          15,
          16,
          17,
          18,
          19,
          20,
          21,
          22,
          23
         ],
         "xaxis": "x4",
         "y": [
          0.0008054580838665369,
          0.0,
          0.000509422740958001,
          0.0,
          0.0,
          0.0011083284257762582,
          0.0005209110977108029,
          0.024222911867761338,
          0.022475692912385506,
          0.08449564727799931,
          0.13782100033892822,
          0.09197393842336642,
          0.07631043481418438,
          0.08452103292386685,
          0.1255504109675166,
          0.0542952003124022,
          0.08957890226466977,
          0.07061508048404992,
          0.09826329562864856,
          0.028590345929334984,
          0.0048788844675900014,
          0.0012752103335188932,
          0.0021744039679801644,
          1.3486737485149266e-05
         ],
         "yaxis": "y4"
        },
        {
         "alignmentgroup": "True",
         "customdata": [
          [
           0.0,
           0.0
          ],
          [
           0.0,
           0.0
          ],
          [
           0.0,
           0.0
          ],
          [
           0.0,
           0.0
          ],
          [
           10.6381727331061,
           1.0
          ],
          [
           45.94185906792442,
           2.0
          ],
          [
           1619.3993794124167,
           7.0
          ],
          [
           24185.691730630075,
           21.0
          ],
          [
           16592.386288810565,
           43.0
          ],
          [
           14795.148137337193,
           46.0
          ],
          [
           16320.043882478165,
           53.0
          ],
          [
           51142.26052510319,
           105.0
          ],
          [
           37661.62049466346,
           109.0
          ],
          [
           34280.917362739485,
           57.0
          ],
          [
           11239.722298735183,
           37.0
          ],
          [
           18416.89838924778,
           53.0
          ],
          [
           18899.62355502986,
           57.0
          ],
          [
           52022.95421104775,
           88.0
          ],
          [
           36491.24558242314,
           99.0
          ],
          [
           41737.41209779713,
           51.0
          ],
          [
           7901.458825086891,
           30.0
          ],
          [
           13430.676065534126,
           12.0
          ],
          [
           71.5547812881571,
           2.0
          ],
          [
           1328.6639472156842,
           2.0
          ]
         ],
         "hovertemplate": "source=survey<br>pdpurp_label=Meal<br>tlvorg_hr=%{x}<br>percentage=%{y}<br>toexpfac=%{customdata[0]}<br>sample_count=%{customdata[1]}<extra></extra>",
         "legendgroup": "survey",
         "marker": {
          "color": "#8CC63E",
          "pattern": {
           "shape": ""
          }
         },
         "name": "survey",
         "offsetgroup": "survey",
         "orientation": "v",
         "showlegend": false,
         "textposition": "auto",
         "type": "bar",
         "x": [
          0,
          1,
          2,
          3,
          4,
          5,
          6,
          7,
          8,
          9,
          10,
          11,
          12,
          13,
          14,
          15,
          16,
          17,
          18,
          19,
          20,
          21,
          22,
          23
         ],
         "xaxis": "x3",
         "y": [
          0.0,
          0.0,
          0.0,
          0.0,
          2.671603753803088e-05,
          0.00011537549372609457,
          0.004066857692092951,
          0.06073842419835352,
          0.041669074761107365,
          0.037155603968316006,
          0.04098513118044606,
          0.12843545468258988,
          0.09458102365148606,
          0.08609093855479028,
          0.02822673126142941,
          0.04625103963296748,
          0.04746332523625084,
          0.13064717338311257,
          0.09164181774898399,
          0.10481671019261982,
          0.0198432264517848,
          0.03372895467388948,
          0.00017969817475992742,
          0.0033367230237554436
         ],
         "yaxis": "y3"
        },
        {
         "alignmentgroup": "True",
         "customdata": [
          [
           0.0,
           0.0
          ],
          [
           0.0,
           0.0
          ],
          [
           0.0,
           0.0
          ],
          [
           0.0,
           0.0
          ],
          [
           3756.89486105699,
           1.0
          ],
          [
           15977.13796108429,
           13.0
          ],
          [
           24639.469470863194,
           18.0
          ],
          [
           123296.63420487581,
           121.0
          ],
          [
           116124.15215709507,
           163.0
          ],
          [
           44784.66324259696,
           57.0
          ],
          [
           15896.147247396682,
           30.0
          ],
          [
           19721.257583932624,
           29.0
          ],
          [
           17818.68002140592,
           43.0
          ],
          [
           37185.892487532255,
           52.0
          ],
          [
           72148.76360733972,
           80.0
          ],
          [
           72334.71357971721,
           86.0
          ],
          [
           25184.81205221003,
           63.0
          ],
          [
           52928.80856852309,
           69.0
          ],
          [
           5787.712909927875,
           25.0
          ],
          [
           5242.84440129033,
           17.0
          ],
          [
           2041.5346810067565,
           8.0
          ],
          [
           898.543349349546,
           5.0
          ],
          [
           4675.392899869981,
           5.0
          ],
          [
           0.0,
           0.0
          ]
         ],
         "hovertemplate": "source=survey<br>pdpurp_label=Escort<br>tlvorg_hr=%{x}<br>percentage=%{y}<br>toexpfac=%{customdata[0]}<br>sample_count=%{customdata[1]}<extra></extra>",
         "legendgroup": "survey",
         "marker": {
          "color": "#8CC63E",
          "pattern": {
           "shape": ""
          }
         },
         "name": "survey",
         "offsetgroup": "survey",
         "orientation": "v",
         "showlegend": false,
         "textposition": "auto",
         "type": "bar",
         "x": [
          0,
          1,
          2,
          3,
          4,
          5,
          6,
          7,
          8,
          9,
          10,
          11,
          12,
          13,
          14,
          15,
          16,
          17,
          18,
          19,
          20,
          21,
          22,
          23
         ],
         "xaxis": "x2",
         "y": [
          0.0,
          0.0,
          0.0,
          0.0,
          0.005688437697306528,
          0.024191508475520353,
          0.037307428651399084,
          0.18668747673303326,
          0.17582738647957025,
          0.06780992709992745,
          0.024068877780249118,
          0.02986060276575646,
          0.026979847693020264,
          0.05630437913680473,
          0.10924280872810478,
          0.10952436167856122,
          0.03813314973554116,
          0.08014124458356522,
          0.008763365895408262,
          0.00793836262030011,
          0.0030911546022158766,
          0.001360513948390341,
          0.007079165695325601,
          0.0
         ],
         "yaxis": "y2"
        },
        {
         "alignmentgroup": "True",
         "customdata": [
          [
           0.0,
           0.0
          ],
          [
           0.0,
           0.0
          ],
          [
           0.0,
           0.0
          ],
          [
           0.0,
           0.0
          ],
          [
           0.0,
           0.0
          ],
          [
           10663.035371550308,
           5.0
          ],
          [
           5380.734653984139,
           21.0
          ],
          [
           29389.618600087004,
           57.0
          ],
          [
           23567.08931472589,
           54.0
          ],
          [
           21265.68791425479,
           80.0
          ],
          [
           31020.636880102895,
           82.0
          ],
          [
           29667.33682676109,
           61.0
          ],
          [
           20348.92199668735,
           73.0
          ],
          [
           28689.578870672518,
           79.0
          ],
          [
           40365.683206848276,
           73.0
          ],
          [
           28112.636222380563,
           55.0
          ],
          [
           8036.796422910787,
           44.0
          ],
          [
           15870.549173199572,
           29.0
          ],
          [
           5254.77023384645,
           16.0
          ],
          [
           7876.896164187973,
           12.0
          ],
          [
           817.8571988340665,
           8.0
          ],
          [
           208.4084893501812,
           3.0
          ],
          [
           46.9407483680735,
           1.0
          ],
          [
           0.0,
           0.0
          ]
         ],
         "hovertemplate": "source=survey<br>pdpurp_label=Personal Business<br>tlvorg_hr=%{x}<br>percentage=%{y}<br>toexpfac=%{customdata[0]}<br>sample_count=%{customdata[1]}<extra></extra>",
         "legendgroup": "survey",
         "marker": {
          "color": "#8CC63E",
          "pattern": {
           "shape": ""
          }
         },
         "name": "survey",
         "offsetgroup": "survey",
         "orientation": "v",
         "showlegend": false,
         "textposition": "auto",
         "type": "bar",
         "x": [
          0,
          1,
          2,
          3,
          4,
          5,
          6,
          7,
          8,
          9,
          10,
          11,
          12,
          13,
          14,
          15,
          16,
          17,
          18,
          19,
          20,
          21,
          22,
          23
         ],
         "xaxis": "x",
         "y": [
          0.0,
          0.0,
          0.0,
          0.0,
          0.0,
          0.03478023625127745,
          0.017550651943846557,
          0.09586181069728072,
          0.07687013177392757,
          0.06936351835398465,
          0.10118179690500324,
          0.0967676602230904,
          0.06637325019026956,
          0.0935784508165401,
          0.1316630724234658,
          0.09169660377094464,
          0.026214081502349815,
          0.051765883770218055,
          0.017139786543987432,
          0.025692525624381148,
          0.002667651902492109,
          0.0006797779660105618,
          0.0001531093409301892,
          0.0
         ],
         "yaxis": "y"
        },
        {
         "alignmentgroup": "True",
         "customdata": [
          [
           663.365825915265,
           1.0
          ],
          [
           0.0,
           0.0
          ],
          [
           66.61248155133971,
           2.0
          ],
          [
           11536.937249213654,
           35.0
          ],
          [
           47069.11064528897,
           144.0
          ],
          [
           176781.16049967616,
           464.0
          ],
          [
           333470.07784518355,
           1342.0
          ],
          [
           393071.5312644363,
           2287.0
          ],
          [
           269789.2629268085,
           1877.0
          ],
          [
           165885.5016349633,
           1035.0
          ],
          [
           74340.1775894003,
           457.0
          ],
          [
           26843.559387681602,
           262.0
          ],
          [
           38841.596463089445,
           243.0
          ],
          [
           29706.812597293483,
           196.0
          ],
          [
           18524.446823193204,
           130.0
          ],
          [
           19186.686366792266,
           73.0
          ],
          [
           10080.046467017171,
           76.0
          ],
          [
           9235.107314169933,
           64.0
          ],
          [
           4129.18919406304,
           39.0
          ],
          [
           2189.811752997616,
           13.0
          ],
          [
           1627.1968036848762,
           10.0
          ],
          [
           2.034207699983375,
           1.0
          ],
          [
           988.686151042609,
           2.0
          ],
          [
           988.686151042609,
           2.0
          ]
         ],
         "hovertemplate": "source=survey (2017/2019)<br>pdpurp_label=Work<br>tlvorg_hr=%{x}<br>percentage=%{y}<br>toexpfac=%{customdata[0]}<br>sample_count=%{customdata[1]}<extra></extra>",
         "legendgroup": "survey (2017/2019)",
         "marker": {
          "color": "#00A7A0",
          "pattern": {
           "shape": ""
          }
         },
         "name": "survey (2017/2019)",
         "offsetgroup": "survey (2017/2019)",
         "orientation": "v",
         "showlegend": true,
         "textposition": "auto",
         "type": "bar",
         "x": [
          0,
          1,
          2,
          3,
          4,
          5,
          6,
          7,
          8,
          9,
          10,
          11,
          12,
          13,
          14,
          15,
          16,
          17,
          18,
          19,
          20,
          21,
          22,
          23
         ],
         "xaxis": "x6",
         "y": [
          0.00040572396705202367,
          0.0,
          4.074114043016966e-05,
          0.007056154787477896,
          0.028788137028717912,
          0.10812187021999356,
          0.20395503897087572,
          0.24040813495296282,
          0.16500694751901204,
          0.10145793040648632,
          0.045467509155010535,
          0.016417902428935104,
          0.023756072423380268,
          0.01816910878520972,
          0.011329814951170301,
          0.011734850067950726,
          0.006165099679387678,
          0.0056483228850181914,
          0.0025254707961660976,
          0.0013393199902896813,
          0.0009952166912646034,
          1.2441503399821667e-06,
          0.0006046945014343298,
          0.0006046945014343298
         ],
         "yaxis": "y6"
        },
        {
         "alignmentgroup": "True",
         "customdata": [
          [
           0.0,
           0.0
          ],
          [
           0.0,
           0.0
          ],
          [
           0.0,
           0.0
          ],
          [
           0.0,
           0.0
          ],
          [
           0.0,
           0.0
          ],
          [
           10420.739136253758,
           19.0
          ],
          [
           67142.96212951338,
           117.0
          ],
          [
           184966.19363985493,
           500.0
          ],
          [
           158860.18151059185,
           567.0
          ],
          [
           36237.686969387454,
           140.0
          ],
          [
           13587.301864651045,
           57.0
          ],
          [
           5464.016981777703,
           29.0
          ],
          [
           9372.079396235318,
           46.0
          ],
          [
           3740.5243791076186,
           32.0
          ],
          [
           2899.564229654071,
           33.0
          ],
          [
           17571.078593923314,
           29.0
          ],
          [
           5634.82123136347,
           27.0
          ],
          [
           8698.721489859108,
           38.0
          ],
          [
           675.101533826343,
           11.0
          ],
          [
           75.14674575208934,
           3.0
          ],
          [
           0.0,
           0.0
          ],
          [
           0.0,
           0.0
          ],
          [
           0.0,
           0.0
          ],
          [
           0.0,
           0.0
          ]
         ],
         "hovertemplate": "source=survey (2017/2019)<br>pdpurp_label=School<br>tlvorg_hr=%{x}<br>percentage=%{y}<br>toexpfac=%{customdata[0]}<br>sample_count=%{customdata[1]}<extra></extra>",
         "legendgroup": "survey (2017/2019)",
         "marker": {
          "color": "#00A7A0",
          "pattern": {
           "shape": ""
          }
         },
         "name": "survey (2017/2019)",
         "offsetgroup": "survey (2017/2019)",
         "orientation": "v",
         "showlegend": false,
         "textposition": "auto",
         "type": "bar",
         "x": [
          0,
          1,
          2,
          3,
          4,
          5,
          6,
          7,
          8,
          9,
          10,
          11,
          12,
          13,
          14,
          15,
          16,
          17,
          18,
          19,
          20,
          21,
          22,
          23
         ],
         "xaxis": "x5",
         "y": [
          0.0,
          0.0,
          0.0,
          0.0,
          0.0,
          0.019835949563291964,
          0.12780709630256096,
          0.35208443853947685,
          0.3023914625303957,
          0.06897868967033205,
          0.025863523783144233,
          0.010400794401084797,
          0.017839818440529915,
          0.007120114221659366,
          0.005519340716902395,
          0.03344667054845797,
          0.010725921480429114,
          0.016558076973415128,
          0.0012850604741166693,
          0.00014304235420289392,
          0.0,
          0.0,
          0.0,
          0.0
         ],
         "yaxis": "y5"
        },
        {
         "alignmentgroup": "True",
         "customdata": [
          [
           83.24521252225395,
           2.0
          ],
          [
           0.0,
           0.0
          ],
          [
           0.54525469613021,
           1.0
          ],
          [
           11.087229656279533,
           1.0
          ],
          [
           608.1118660539306,
           3.0
          ],
          [
           313.64492561617914,
           3.0
          ],
          [
           6154.285694475873,
           16.0
          ],
          [
           13477.069989906293,
           54.0
          ],
          [
           22829.075462720826,
           87.0
          ],
          [
           134178.91188748827,
           211.0
          ],
          [
           102892.5138371521,
           225.0
          ],
          [
           91115.22510114146,
           230.0
          ],
          [
           89633.42932089815,
           201.0
          ],
          [
           28021.09586572641,
           219.0
          ],
          [
           51437.909248826996,
           190.0
          ],
          [
           64356.26229586238,
           200.0
          ],
          [
           35570.71695496434,
           203.0
          ],
          [
           44948.3250943588,
           206.0
          ],
          [
           25821.858260572855,
           201.0
          ],
          [
           37186.01221540861,
           173.0
          ],
          [
           16066.913929221468,
           97.0
          ],
          [
           18875.0258305438,
           49.0
          ],
          [
           557.4277959529774,
           17.0
          ],
          [
           2123.97370652186,
           7.0
          ]
         ],
         "hovertemplate": "source=survey (2017/2019)<br>pdpurp_label=Shop<br>tlvorg_hr=%{x}<br>percentage=%{y}<br>toexpfac=%{customdata[0]}<br>sample_count=%{customdata[1]}<extra></extra>",
         "legendgroup": "survey (2017/2019)",
         "marker": {
          "color": "#00A7A0",
          "pattern": {
           "shape": ""
          }
         },
         "name": "survey (2017/2019)",
         "offsetgroup": "survey (2017/2019)",
         "orientation": "v",
         "showlegend": false,
         "textposition": "auto",
         "type": "bar",
         "x": [
          0,
          1,
          2,
          3,
          4,
          5,
          6,
          7,
          8,
          9,
          10,
          11,
          12,
          13,
          14,
          15,
          16,
          17,
          18,
          19,
          20,
          21,
          22,
          23
         ],
         "xaxis": "x4",
         "y": [
          0.00010587455823378287,
          0.0,
          6.934765174904071e-07,
          1.410117778942885e-05,
          0.0007734207556737221,
          0.00039890603838633267,
          0.007827264288296882,
          0.017140671375974366,
          0.02903492232487385,
          0.17065405432870714,
          0.13086277418247513,
          0.11588395192547753,
          0.11399934536526238,
          0.03563833950471529,
          0.06542077019423911,
          0.08185084323414253,
          0.045240246610686534,
          0.05716706004494254,
          0.03284126201711192,
          0.0472946430971024,
          0.02043453746942848,
          0.024006005401521882,
          0.0007089587479637415,
          0.0027013538804775894
         ],
         "yaxis": "y4"
        },
        {
         "alignmentgroup": "True",
         "customdata": [
          [
           0.0,
           0.0
          ],
          [
           0.0,
           0.0
          ],
          [
           0.0,
           0.0
          ],
          [
           0.0,
           0.0
          ],
          [
           104.37588060467607,
           2.0
          ],
          [
           1004.4129807216316,
           5.0
          ],
          [
           11355.197307710752,
           17.0
          ],
          [
           4466.581191293693,
           65.0
          ],
          [
           9391.502890534057,
           82.0
          ],
          [
           10422.979978670439,
           76.0
          ],
          [
           23115.5301076332,
           88.0
          ],
          [
           79799.76079279731,
           284.0
          ],
          [
           62591.6262206511,
           315.0
          ],
          [
           24590.122393228034,
           131.0
          ],
          [
           6320.630172016207,
           78.0
          ],
          [
           9277.003714894172,
           76.0
          ],
          [
           23708.461352219336,
           119.0
          ],
          [
           33989.64241910098,
           196.0
          ],
          [
           47203.97984922029,
           242.0
          ],
          [
           10816.375339993585,
           164.0
          ],
          [
           5593.375487917707,
           82.0
          ],
          [
           496.1524996618177,
           23.0
          ],
          [
           5109.103377173227,
           8.0
          ],
          [
           0.0,
           0.0
          ]
         ],
         "hovertemplate": "source=survey (2017/2019)<br>pdpurp_label=Meal<br>tlvorg_hr=%{x}<br>percentage=%{y}<br>toexpfac=%{customdata[0]}<br>sample_count=%{customdata[1]}<extra></extra>",
         "legendgroup": "survey (2017/2019)",
         "marker": {
          "color": "#00A7A0",
          "pattern": {
           "shape": ""
          }
         },
         "name": "survey (2017/2019)",
         "offsetgroup": "survey (2017/2019)",
         "orientation": "v",
         "showlegend": false,
         "textposition": "auto",
         "type": "bar",
         "x": [
          0,
          1,
          2,
          3,
          4,
          5,
          6,
          7,
          8,
          9,
          10,
          11,
          12,
          13,
          14,
          15,
          16,
          17,
          18,
          19,
          20,
          21,
          22,
          23
         ],
         "xaxis": "x3",
         "y": [
          0.0,
          0.0,
          0.0,
          0.0,
          0.0002825882091811037,
          0.0027193568461990484,
          0.030743164546199908,
          0.012092862572247736,
          0.025426640407537615,
          0.028219270864489575,
          0.06258319661156764,
          0.21605059870993584,
          0.16946113854041484,
          0.06657552118736476,
          0.017112531658258337,
          0.02511664429723569,
          0.06418850406003589,
          0.09202386726009106,
          0.12780048469564206,
          0.02928435304643076,
          0.015143555707038842,
          0.0013432877935774747,
          0.01383243298655178,
          0.0
         ],
         "yaxis": "y3"
        },
        {
         "alignmentgroup": "True",
         "customdata": [
          [
           0.0,
           0.0
          ],
          [
           0.0,
           0.0
          ],
          [
           0.0,
           0.0
          ],
          [
           68.99716112623685,
           2.0
          ],
          [
           1608.8011555079395,
           8.0
          ],
          [
           3465.3706566656138,
           13.0
          ],
          [
           5061.683382412336,
           43.0
          ],
          [
           57099.760693835706,
           219.0
          ],
          [
           72887.47341573531,
           233.0
          ],
          [
           14689.853983763353,
           60.0
          ],
          [
           9347.769180612217,
           31.0
          ],
          [
           14275.894103075514,
           49.0
          ],
          [
           11401.469748573028,
           45.0
          ],
          [
           21614.71229882211,
           57.0
          ],
          [
           41300.91505807778,
           101.0
          ],
          [
           38700.8359611188,
           135.0
          ],
          [
           21628.900277144017,
           129.0
          ],
          [
           53721.58878294915,
           109.0
          ],
          [
           30992.11923970363,
           74.0
          ],
          [
           17977.90415949376,
           42.0
          ],
          [
           11720.508583892459,
           24.0
          ],
          [
           6335.466793934933,
           24.0
          ],
          [
           636.9309530825855,
           9.0
          ],
          [
           330.4532993800188,
           3.0
          ]
         ],
         "hovertemplate": "source=survey (2017/2019)<br>pdpurp_label=Escort<br>tlvorg_hr=%{x}<br>percentage=%{y}<br>toexpfac=%{customdata[0]}<br>sample_count=%{customdata[1]}<extra></extra>",
         "legendgroup": "survey (2017/2019)",
         "marker": {
          "color": "#00A7A0",
          "pattern": {
           "shape": ""
          }
         },
         "name": "survey (2017/2019)",
         "offsetgroup": "survey (2017/2019)",
         "orientation": "v",
         "showlegend": false,
         "textposition": "auto",
         "type": "bar",
         "x": [
          0,
          1,
          2,
          3,
          4,
          5,
          6,
          7,
          8,
          9,
          10,
          11,
          12,
          13,
          14,
          15,
          16,
          17,
          18,
          19,
          20,
          21,
          22,
          23
         ],
         "xaxis": "x2",
         "y": [
          0.0,
          0.0,
          0.0,
          0.00015866252498094934,
          0.0036995211014282567,
          0.007968798272373857,
          0.011639601586481316,
          0.1313038400364988,
          0.16760849842015987,
          0.03378007568168002,
          0.021495676589091656,
          0.032828153619400134,
          0.0262182667993078,
          0.0497041439689584,
          0.09497358094413721,
          0.08899456517102552,
          0.04973676995571183,
          0.12353555977029573,
          0.07126797411396961,
          0.04134111637712194,
          0.02695191302985559,
          0.014568732134059336,
          0.0014646555250253282,
          0.0007598943784367112
         ],
         "yaxis": "y2"
        },
        {
         "alignmentgroup": "True",
         "customdata": [
          [
           0.0,
           0.0
          ],
          [
           0.0,
           0.0
          ],
          [
           0.0,
           0.0
          ],
          [
           415.12771485007175,
           5.0
          ],
          [
           693.6507083663261,
           7.0
          ],
          [
           4797.110596523593,
           19.0
          ],
          [
           18699.95978341244,
           69.0
          ],
          [
           47346.51151895759,
           148.0
          ],
          [
           71276.96887912303,
           291.0
          ],
          [
           87578.65479472806,
           260.0
          ],
          [
           82767.1937357741,
           271.0
          ],
          [
           107315.8052870485,
           182.0
          ],
          [
           36318.72193470561,
           209.0
          ],
          [
           32255.442975107242,
           195.0
          ],
          [
           80591.80973502366,
           192.0
          ],
          [
           51540.58708666739,
           196.0
          ],
          [
           55075.73985185104,
           193.0
          ],
          [
           83275.02395238561,
           171.0
          ],
          [
           36066.86538050676,
           180.0
          ],
          [
           11826.822830027118,
           92.0
          ],
          [
           4337.791814374124,
           39.0
          ],
          [
           2041.160644579677,
           18.0
          ],
          [
           700.3758568446026,
           9.0
          ],
          [
           68.08898090709165,
           2.0
          ]
         ],
         "hovertemplate": "source=survey (2017/2019)<br>pdpurp_label=Personal Business<br>tlvorg_hr=%{x}<br>percentage=%{y}<br>toexpfac=%{customdata[0]}<br>sample_count=%{customdata[1]}<extra></extra>",
         "legendgroup": "survey (2017/2019)",
         "marker": {
          "color": "#00A7A0",
          "pattern": {
           "shape": ""
          }
         },
         "name": "survey (2017/2019)",
         "offsetgroup": "survey (2017/2019)",
         "orientation": "v",
         "showlegend": false,
         "textposition": "auto",
         "type": "bar",
         "x": [
          0,
          1,
          2,
          3,
          4,
          5,
          6,
          7,
          8,
          9,
          10,
          11,
          12,
          13,
          14,
          15,
          16,
          17,
          18,
          19,
          20,
          21,
          22,
          23
         ],
         "xaxis": "x",
         "y": [
          0.0,
          0.0,
          0.0,
          0.0005093657754168221,
          0.0008511162186871767,
          0.005886101725684557,
          0.022945033960889302,
          0.058094633748665414,
          0.08745753950826327,
          0.10745986792423656,
          0.10155615804047931,
          0.13167754505203377,
          0.04456342782871191,
          0.03957774471493046,
          0.09888694054732353,
          0.06324080558273534,
          0.06757847267900481,
          0.10217927069427511,
          0.044254397367882184,
          0.014511627545055238,
          0.005322513077507761,
          0.0025045241194077503,
          0.000859368041793393,
          8.354584701627984e-05
         ],
         "yaxis": "y"
        }
       ],
       "layout": {
        "annotations": [
         {
          "font": {},
          "showarrow": false,
          "text": "Personal Business",
          "textangle": 90,
          "x": 0.98,
          "xanchor": "left",
          "xref": "paper",
          "y": 0.07083333333333333,
          "yanchor": "middle",
          "yref": "paper"
         },
         {
          "font": {},
          "showarrow": false,
          "text": "Escort",
          "textangle": 90,
          "x": 0.98,
          "xanchor": "left",
          "xref": "paper",
          "y": 0.2425,
          "yanchor": "middle",
          "yref": "paper"
         },
         {
          "font": {},
          "showarrow": false,
          "text": "Meal",
          "textangle": 90,
          "x": 0.98,
          "xanchor": "left",
          "xref": "paper",
          "y": 0.4141666666666667,
          "yanchor": "middle",
          "yref": "paper"
         },
         {
          "font": {},
          "showarrow": false,
          "text": "Shop",
          "textangle": 90,
          "x": 0.98,
          "xanchor": "left",
          "xref": "paper",
          "y": 0.5858333333333334,
          "yanchor": "middle",
          "yref": "paper"
         },
         {
          "font": {},
          "showarrow": false,
          "text": "School",
          "textangle": 90,
          "x": 0.98,
          "xanchor": "left",
          "xref": "paper",
          "y": 0.7575000000000001,
          "yanchor": "middle",
          "yref": "paper"
         },
         {
          "font": {},
          "showarrow": false,
          "text": "Work",
          "textangle": 90,
          "x": 0.98,
          "xanchor": "left",
          "xref": "paper",
          "y": 0.9291666666666667,
          "yanchor": "middle",
          "yref": "paper"
         }
        ],
        "barmode": "group",
        "height": 1500,
        "legend": {
         "title": {
          "text": "source"
         },
         "tracegroupgap": 0
        },
        "template": {
         "data": {
          "bar": [
           {
            "error_x": {
             "color": "rgb(36,36,36)"
            },
            "error_y": {
             "color": "rgb(36,36,36)"
            },
            "marker": {
             "line": {
              "color": "white",
              "width": 0.5
             },
             "pattern": {
              "fillmode": "overlay",
              "size": 10,
              "solidity": 0.2
             }
            },
            "type": "bar"
           }
          ],
          "barpolar": [
           {
            "marker": {
             "line": {
              "color": "white",
              "width": 0.5
             },
             "pattern": {
              "fillmode": "overlay",
              "size": 10,
              "solidity": 0.2
             }
            },
            "type": "barpolar"
           }
          ],
          "carpet": [
           {
            "aaxis": {
             "endlinecolor": "rgb(36,36,36)",
             "gridcolor": "white",
             "linecolor": "white",
             "minorgridcolor": "white",
             "startlinecolor": "rgb(36,36,36)"
            },
            "baxis": {
             "endlinecolor": "rgb(36,36,36)",
             "gridcolor": "white",
             "linecolor": "white",
             "minorgridcolor": "white",
             "startlinecolor": "rgb(36,36,36)"
            },
            "type": "carpet"
           }
          ],
          "choropleth": [
           {
            "colorbar": {
             "outlinewidth": 1,
             "tickcolor": "rgb(36,36,36)",
             "ticks": "outside"
            },
            "type": "choropleth"
           }
          ],
          "contour": [
           {
            "colorbar": {
             "outlinewidth": 1,
             "tickcolor": "rgb(36,36,36)",
             "ticks": "outside"
            },
            "colorscale": [
             [
              0.0,
              "#440154"
             ],
             [
              0.1111111111111111,
              "#482878"
             ],
             [
              0.2222222222222222,
              "#3e4989"
             ],
             [
              0.3333333333333333,
              "#31688e"
             ],
             [
              0.4444444444444444,
              "#26828e"
             ],
             [
              0.5555555555555556,
              "#1f9e89"
             ],
             [
              0.6666666666666666,
              "#35b779"
             ],
             [
              0.7777777777777778,
              "#6ece58"
             ],
             [
              0.8888888888888888,
              "#b5de2b"
             ],
             [
              1.0,
              "#fde725"
             ]
            ],
            "type": "contour"
           }
          ],
          "contourcarpet": [
           {
            "colorbar": {
             "outlinewidth": 1,
             "tickcolor": "rgb(36,36,36)",
             "ticks": "outside"
            },
            "type": "contourcarpet"
           }
          ],
          "heatmap": [
           {
            "colorbar": {
             "outlinewidth": 1,
             "tickcolor": "rgb(36,36,36)",
             "ticks": "outside"
            },
            "colorscale": [
             [
              0.0,
              "#440154"
             ],
             [
              0.1111111111111111,
              "#482878"
             ],
             [
              0.2222222222222222,
              "#3e4989"
             ],
             [
              0.3333333333333333,
              "#31688e"
             ],
             [
              0.4444444444444444,
              "#26828e"
             ],
             [
              0.5555555555555556,
              "#1f9e89"
             ],
             [
              0.6666666666666666,
              "#35b779"
             ],
             [
              0.7777777777777778,
              "#6ece58"
             ],
             [
              0.8888888888888888,
              "#b5de2b"
             ],
             [
              1.0,
              "#fde725"
             ]
            ],
            "type": "heatmap"
           }
          ],
          "heatmapgl": [
           {
            "colorbar": {
             "outlinewidth": 1,
             "tickcolor": "rgb(36,36,36)",
             "ticks": "outside"
            },
            "colorscale": [
             [
              0.0,
              "#440154"
             ],
             [
              0.1111111111111111,
              "#482878"
             ],
             [
              0.2222222222222222,
              "#3e4989"
             ],
             [
              0.3333333333333333,
              "#31688e"
             ],
             [
              0.4444444444444444,
              "#26828e"
             ],
             [
              0.5555555555555556,
              "#1f9e89"
             ],
             [
              0.6666666666666666,
              "#35b779"
             ],
             [
              0.7777777777777778,
              "#6ece58"
             ],
             [
              0.8888888888888888,
              "#b5de2b"
             ],
             [
              1.0,
              "#fde725"
             ]
            ],
            "type": "heatmapgl"
           }
          ],
          "histogram": [
           {
            "marker": {
             "line": {
              "color": "white",
              "width": 0.6
             }
            },
            "type": "histogram"
           }
          ],
          "histogram2d": [
           {
            "colorbar": {
             "outlinewidth": 1,
             "tickcolor": "rgb(36,36,36)",
             "ticks": "outside"
            },
            "colorscale": [
             [
              0.0,
              "#440154"
             ],
             [
              0.1111111111111111,
              "#482878"
             ],
             [
              0.2222222222222222,
              "#3e4989"
             ],
             [
              0.3333333333333333,
              "#31688e"
             ],
             [
              0.4444444444444444,
              "#26828e"
             ],
             [
              0.5555555555555556,
              "#1f9e89"
             ],
             [
              0.6666666666666666,
              "#35b779"
             ],
             [
              0.7777777777777778,
              "#6ece58"
             ],
             [
              0.8888888888888888,
              "#b5de2b"
             ],
             [
              1.0,
              "#fde725"
             ]
            ],
            "type": "histogram2d"
           }
          ],
          "histogram2dcontour": [
           {
            "colorbar": {
             "outlinewidth": 1,
             "tickcolor": "rgb(36,36,36)",
             "ticks": "outside"
            },
            "colorscale": [
             [
              0.0,
              "#440154"
             ],
             [
              0.1111111111111111,
              "#482878"
             ],
             [
              0.2222222222222222,
              "#3e4989"
             ],
             [
              0.3333333333333333,
              "#31688e"
             ],
             [
              0.4444444444444444,
              "#26828e"
             ],
             [
              0.5555555555555556,
              "#1f9e89"
             ],
             [
              0.6666666666666666,
              "#35b779"
             ],
             [
              0.7777777777777778,
              "#6ece58"
             ],
             [
              0.8888888888888888,
              "#b5de2b"
             ],
             [
              1.0,
              "#fde725"
             ]
            ],
            "type": "histogram2dcontour"
           }
          ],
          "mesh3d": [
           {
            "colorbar": {
             "outlinewidth": 1,
             "tickcolor": "rgb(36,36,36)",
             "ticks": "outside"
            },
            "type": "mesh3d"
           }
          ],
          "parcoords": [
           {
            "line": {
             "colorbar": {
              "outlinewidth": 1,
              "tickcolor": "rgb(36,36,36)",
              "ticks": "outside"
             }
            },
            "type": "parcoords"
           }
          ],
          "pie": [
           {
            "automargin": true,
            "type": "pie"
           }
          ],
          "scatter": [
           {
            "fillpattern": {
             "fillmode": "overlay",
             "size": 10,
             "solidity": 0.2
            },
            "type": "scatter"
           }
          ],
          "scatter3d": [
           {
            "line": {
             "colorbar": {
              "outlinewidth": 1,
              "tickcolor": "rgb(36,36,36)",
              "ticks": "outside"
             }
            },
            "marker": {
             "colorbar": {
              "outlinewidth": 1,
              "tickcolor": "rgb(36,36,36)",
              "ticks": "outside"
             }
            },
            "type": "scatter3d"
           }
          ],
          "scattercarpet": [
           {
            "marker": {
             "colorbar": {
              "outlinewidth": 1,
              "tickcolor": "rgb(36,36,36)",
              "ticks": "outside"
             }
            },
            "type": "scattercarpet"
           }
          ],
          "scattergeo": [
           {
            "marker": {
             "colorbar": {
              "outlinewidth": 1,
              "tickcolor": "rgb(36,36,36)",
              "ticks": "outside"
             }
            },
            "type": "scattergeo"
           }
          ],
          "scattergl": [
           {
            "marker": {
             "colorbar": {
              "outlinewidth": 1,
              "tickcolor": "rgb(36,36,36)",
              "ticks": "outside"
             }
            },
            "type": "scattergl"
           }
          ],
          "scattermapbox": [
           {
            "marker": {
             "colorbar": {
              "outlinewidth": 1,
              "tickcolor": "rgb(36,36,36)",
              "ticks": "outside"
             }
            },
            "type": "scattermapbox"
           }
          ],
          "scatterpolar": [
           {
            "marker": {
             "colorbar": {
              "outlinewidth": 1,
              "tickcolor": "rgb(36,36,36)",
              "ticks": "outside"
             }
            },
            "type": "scatterpolar"
           }
          ],
          "scatterpolargl": [
           {
            "marker": {
             "colorbar": {
              "outlinewidth": 1,
              "tickcolor": "rgb(36,36,36)",
              "ticks": "outside"
             }
            },
            "type": "scatterpolargl"
           }
          ],
          "scatterternary": [
           {
            "marker": {
             "colorbar": {
              "outlinewidth": 1,
              "tickcolor": "rgb(36,36,36)",
              "ticks": "outside"
             }
            },
            "type": "scatterternary"
           }
          ],
          "surface": [
           {
            "colorbar": {
             "outlinewidth": 1,
             "tickcolor": "rgb(36,36,36)",
             "ticks": "outside"
            },
            "colorscale": [
             [
              0.0,
              "#440154"
             ],
             [
              0.1111111111111111,
              "#482878"
             ],
             [
              0.2222222222222222,
              "#3e4989"
             ],
             [
              0.3333333333333333,
              "#31688e"
             ],
             [
              0.4444444444444444,
              "#26828e"
             ],
             [
              0.5555555555555556,
              "#1f9e89"
             ],
             [
              0.6666666666666666,
              "#35b779"
             ],
             [
              0.7777777777777778,
              "#6ece58"
             ],
             [
              0.8888888888888888,
              "#b5de2b"
             ],
             [
              1.0,
              "#fde725"
             ]
            ],
            "type": "surface"
           }
          ],
          "table": [
           {
            "cells": {
             "fill": {
              "color": "rgb(237,237,237)"
             },
             "line": {
              "color": "white"
             }
            },
            "header": {
             "fill": {
              "color": "rgb(217,217,217)"
             },
             "line": {
              "color": "white"
             }
            },
            "type": "table"
           }
          ]
         },
         "layout": {
          "annotationdefaults": {
           "arrowhead": 0,
           "arrowwidth": 1
          },
          "autotypenumbers": "strict",
          "coloraxis": {
           "colorbar": {
            "outlinewidth": 1,
            "tickcolor": "rgb(36,36,36)",
            "ticks": "outside"
           }
          },
          "colorscale": {
           "diverging": [
            [
             0.0,
             "rgb(103,0,31)"
            ],
            [
             0.1,
             "rgb(178,24,43)"
            ],
            [
             0.2,
             "rgb(214,96,77)"
            ],
            [
             0.3,
             "rgb(244,165,130)"
            ],
            [
             0.4,
             "rgb(253,219,199)"
            ],
            [
             0.5,
             "rgb(247,247,247)"
            ],
            [
             0.6,
             "rgb(209,229,240)"
            ],
            [
             0.7,
             "rgb(146,197,222)"
            ],
            [
             0.8,
             "rgb(67,147,195)"
            ],
            [
             0.9,
             "rgb(33,102,172)"
            ],
            [
             1.0,
             "rgb(5,48,97)"
            ]
           ],
           "sequential": [
            [
             0.0,
             "#440154"
            ],
            [
             0.1111111111111111,
             "#482878"
            ],
            [
             0.2222222222222222,
             "#3e4989"
            ],
            [
             0.3333333333333333,
             "#31688e"
            ],
            [
             0.4444444444444444,
             "#26828e"
            ],
            [
             0.5555555555555556,
             "#1f9e89"
            ],
            [
             0.6666666666666666,
             "#35b779"
            ],
            [
             0.7777777777777778,
             "#6ece58"
            ],
            [
             0.8888888888888888,
             "#b5de2b"
            ],
            [
             1.0,
             "#fde725"
            ]
           ],
           "sequentialminus": [
            [
             0.0,
             "#440154"
            ],
            [
             0.1111111111111111,
             "#482878"
            ],
            [
             0.2222222222222222,
             "#3e4989"
            ],
            [
             0.3333333333333333,
             "#31688e"
            ],
            [
             0.4444444444444444,
             "#26828e"
            ],
            [
             0.5555555555555556,
             "#1f9e89"
            ],
            [
             0.6666666666666666,
             "#35b779"
            ],
            [
             0.7777777777777778,
             "#6ece58"
            ],
            [
             0.8888888888888888,
             "#b5de2b"
            ],
            [
             1.0,
             "#fde725"
            ]
           ]
          },
          "colorway": [
           "#91268F",
           "#8CC63E",
           "#00A7A0",
           "#F05A28",
           "#4C4C4C",
           "#630460",
           "#9f3913",
           "#588527",
           "#00716c",
           "#3e4040"
          ],
          "font": {
           "color": "rgb(36,36,36)",
           "family": "Poppins",
           "size": 11
          },
          "geo": {
           "bgcolor": "white",
           "lakecolor": "white",
           "landcolor": "white",
           "showlakes": true,
           "showland": true,
           "subunitcolor": "white"
          },
          "hoverlabel": {
           "align": "left"
          },
          "hovermode": "closest",
          "mapbox": {
           "style": "light"
          },
          "paper_bgcolor": "white",
          "plot_bgcolor": "white",
          "polar": {
           "angularaxis": {
            "gridcolor": "rgb(232,232,232)",
            "linecolor": "rgb(36,36,36)",
            "showgrid": false,
            "showline": true,
            "ticks": "outside"
           },
           "bgcolor": "white",
           "radialaxis": {
            "gridcolor": "rgb(232,232,232)",
            "linecolor": "rgb(36,36,36)",
            "showgrid": false,
            "showline": true,
            "ticks": "outside"
           }
          },
          "scene": {
           "xaxis": {
            "backgroundcolor": "white",
            "gridcolor": "rgb(232,232,232)",
            "gridwidth": 2,
            "linecolor": "rgb(36,36,36)",
            "showbackground": true,
            "showgrid": false,
            "showline": true,
            "ticks": "outside",
            "zeroline": false,
            "zerolinecolor": "rgb(36,36,36)"
           },
           "yaxis": {
            "backgroundcolor": "white",
            "gridcolor": "rgb(232,232,232)",
            "gridwidth": 2,
            "linecolor": "rgb(36,36,36)",
            "showbackground": true,
            "showgrid": false,
            "showline": true,
            "ticks": "outside",
            "zeroline": false,
            "zerolinecolor": "rgb(36,36,36)"
           },
           "zaxis": {
            "backgroundcolor": "white",
            "gridcolor": "rgb(232,232,232)",
            "gridwidth": 2,
            "linecolor": "rgb(36,36,36)",
            "showbackground": true,
            "showgrid": false,
            "showline": true,
            "ticks": "outside",
            "zeroline": false,
            "zerolinecolor": "rgb(36,36,36)"
           }
          },
          "shapedefaults": {
           "fillcolor": "black",
           "line": {
            "width": 0
           },
           "opacity": 0.3
          },
          "ternary": {
           "aaxis": {
            "gridcolor": "rgb(232,232,232)",
            "linecolor": "rgb(36,36,36)",
            "showgrid": false,
            "showline": true,
            "ticks": "outside"
           },
           "baxis": {
            "gridcolor": "rgb(232,232,232)",
            "linecolor": "rgb(36,36,36)",
            "showgrid": false,
            "showline": true,
            "ticks": "outside"
           },
           "bgcolor": "white",
           "caxis": {
            "gridcolor": "rgb(232,232,232)",
            "linecolor": "rgb(36,36,36)",
            "showgrid": false,
            "showline": true,
            "ticks": "outside"
           }
          },
          "title": {
           "x": 0.05
          },
          "xaxis": {
           "automargin": true,
           "gridcolor": "rgb(232,232,232)",
           "linecolor": "rgb(36,36,36)",
           "showgrid": false,
           "showline": true,
           "ticks": "outside",
           "title": {
            "standoff": 15
           },
           "zeroline": false,
           "zerolinecolor": "rgb(36,36,36)"
          },
          "yaxis": {
           "automargin": true,
           "gridcolor": "rgb(232,232,232)",
           "linecolor": "rgb(36,36,36)",
           "showgrid": false,
           "showline": true,
           "ticks": "outside",
           "title": {
            "standoff": 15
           },
           "zeroline": false,
           "zerolinecolor": "rgb(36,36,36)"
          }
         }
        },
        "title": {
         "text": "tour origin departure hour by purpose"
        },
        "width": 850,
        "xaxis": {
         "anchor": "y",
         "categoryorder": "category ascending",
         "domain": [
          0.0,
          0.98
         ],
         "dtick": 1,
         "title": {
          "text": "tlvorg_hr"
         }
        },
        "xaxis2": {
         "anchor": "y2",
         "categoryorder": "category ascending",
         "domain": [
          0.0,
          0.98
         ],
         "dtick": 1,
         "matches": "x",
         "showticklabels": false
        },
        "xaxis3": {
         "anchor": "y3",
         "categoryorder": "category ascending",
         "domain": [
          0.0,
          0.98
         ],
         "dtick": 1,
         "matches": "x",
         "showticklabels": false
        },
        "xaxis4": {
         "anchor": "y4",
         "categoryorder": "category ascending",
         "domain": [
          0.0,
          0.98
         ],
         "dtick": 1,
         "matches": "x",
         "showticklabels": false
        },
        "xaxis5": {
         "anchor": "y5",
         "categoryorder": "category ascending",
         "domain": [
          0.0,
          0.98
         ],
         "dtick": 1,
         "matches": "x",
         "showticklabels": false
        },
        "xaxis6": {
         "anchor": "y6",
         "categoryorder": "category ascending",
         "domain": [
          0.0,
          0.98
         ],
         "dtick": 1,
         "matches": "x",
         "showticklabels": false
        },
        "yaxis": {
         "anchor": "x",
         "domain": [
          0.0,
          0.14166666666666666
         ],
         "tickformat": ".0%",
         "title": {
          "text": "percentage"
         }
        },
        "yaxis2": {
         "anchor": "x2",
         "domain": [
          0.17166666666666666,
          0.31333333333333335
         ],
         "matches": "y",
         "tickformat": ".0%",
         "title": {
          "text": "percentage"
         }
        },
        "yaxis3": {
         "anchor": "x3",
         "domain": [
          0.3433333333333333,
          0.485
         ],
         "matches": "y",
         "tickformat": ".0%",
         "title": {
          "text": "percentage"
         }
        },
        "yaxis4": {
         "anchor": "x4",
         "domain": [
          0.515,
          0.6566666666666667
         ],
         "matches": "y",
         "tickformat": ".0%",
         "title": {
          "text": "percentage"
         }
        },
        "yaxis5": {
         "anchor": "x5",
         "domain": [
          0.6866666666666666,
          0.8283333333333334
         ],
         "matches": "y",
         "tickformat": ".0%",
         "title": {
          "text": "percentage"
         }
        },
        "yaxis6": {
         "anchor": "x6",
         "domain": [
          0.8583333333333333,
          1.0
         ],
         "matches": "y",
         "tickformat": ".0%",
         "title": {
          "text": "percentage"
         }
        }
       }
      },
      "text/html": [
       "<div>                            <div id=\"cab5ef0a-5300-48cc-bb20-eb85bbceff06\" class=\"plotly-graph-div\" style=\"height:1500px; width:850px;\"></div>            <script type=\"text/javascript\">                require([\"plotly\"], function(Plotly) {                    window.PLOTLYENV=window.PLOTLYENV || {};                                    if (document.getElementById(\"cab5ef0a-5300-48cc-bb20-eb85bbceff06\")) {                    Plotly.newPlot(                        \"cab5ef0a-5300-48cc-bb20-eb85bbceff06\",                        [{\"alignmentgroup\":\"True\",\"customdata\":[[1368.0,1368.0],[845.0,845.0],[281.0,281.0],[49965.0,49965.0],[49419.0,49419.0],[112200.0,112200.0],[268052.0,268052.0],[333505.0,333505.0],[262122.0,262122.0],[133811.0,133811.0],[83366.0,83366.0],[65967.0,65967.0],[52179.0,52179.0],[39288.0,39288.0],[33680.0,33680.0],[29476.0,29476.0],[28207.0,28207.0],[27288.0,27288.0],[21808.0,21808.0],[12194.0,12194.0],[9920.0,9920.0],[6679.0,6679.0],[3037.0,3037.0],[2104.0,2104.0]],\"hovertemplate\":\"source=model\\u003cbr\\u003epdpurp_label=Work\\u003cbr\\u003etlvorg_hr=%{x}\\u003cbr\\u003epercentage=%{y}\\u003cbr\\u003etoexpfac=%{customdata[0]}\\u003cbr\\u003esample_count=%{customdata[1]}\\u003cextra\\u003e\\u003c\\u002fextra\\u003e\",\"legendgroup\":\"model\",\"marker\":{\"color\":\"#91268F\",\"pattern\":{\"shape\":\"\"}},\"name\":\"model\",\"offsetgroup\":\"model\",\"orientation\":\"v\",\"showlegend\":true,\"textposition\":\"auto\",\"x\":[0,1,2,3,4,5,6,7,8,9,10,11,12,13,14,15,16,17,18,19,20,21,22,23],\"xaxis\":\"x6\",\"y\":[0.0008409348392296103,0.000519437090021214,0.00017273588437391848,0.03071440734072184,0.03037877106716967,0.06897141005962154,0.16477650988682419,0.2050116765769526,0.16113122947992975,0.0822560904767203,0.05124661828012843,0.04055113197328925,0.03207539398842239,0.024151058452962667,0.020703717386881048,0.018119441024219293,0.017339363311512878,0.016774437056211698,0.013405779951695423,0.007495876775998441,0.006098007021314133,0.004105704525741642,0.001866899931827724,0.0012933676182303362],\"yaxis\":\"y6\",\"type\":\"bar\"},{\"alignmentgroup\":\"True\",\"customdata\":[[2.0,2.0],[1.0,1.0],[0.0,0.0],[3378.0,3378.0],[3644.0,3644.0],[11123.0,11123.0],[62779.0,62779.0],[152006.0,152006.0],[160752.0,160752.0],[76561.0,76561.0],[33792.0,33792.0],[20165.0,20165.0],[12611.0,12611.0],[8224.0,8224.0],[5647.0,5647.0],[3957.0,3957.0],[3308.0,3308.0],[3044.0,3044.0],[2204.0,2204.0],[699.0,699.0],[617.0,617.0],[358.0,358.0],[9.0,9.0],[8.0,8.0]],\"hovertemplate\":\"source=model\\u003cbr\\u003epdpurp_label=School\\u003cbr\\u003etlvorg_hr=%{x}\\u003cbr\\u003epercentage=%{y}\\u003cbr\\u003etoexpfac=%{customdata[0]}\\u003cbr\\u003esample_count=%{customdata[1]}\\u003cextra\\u003e\\u003c\\u002fextra\\u003e\",\"legendgroup\":\"model\",\"marker\":{\"color\":\"#91268F\",\"pattern\":{\"shape\":\"\"}},\"name\":\"model\",\"offsetgroup\":\"model\",\"orientation\":\"v\",\"showlegend\":false,\"textposition\":\"auto\",\"x\":[0,1,2,3,4,5,6,7,8,9,10,11,12,13,14,15,16,17,18,19,20,21,22,23],\"xaxis\":\"x5\",\"y\":[3.540518579756377e-06,1.7702592898781886e-06,0.0,0.005979935881208521,0.006450824852316119,0.01969059408131509,0.11113510795926279,0.2690900336172239,0.2845727213664985,0.13553282149236398,0.05982060192356375,0.03569727858039367,0.022324739904653834,0.014558612399958221,0.00999665420994213,0.007004916010047992,0.005856017730917047,0.005388669278389205,0.0039016514748915275,0.0012374112436248537,0.0010922499818548422,0.0006337528257763915,1.5932333608903695e-05,1.4162074319025508e-05],\"yaxis\":\"y5\",\"type\":\"bar\"},{\"alignmentgroup\":\"True\",\"customdata\":[[353.0,353.0],[265.0,265.0],[124.0,124.0],[1043.0,1043.0],[781.0,781.0],[1817.0,1817.0],[9343.0,9343.0],[28245.0,28245.0],[49194.0,49194.0],[61020.0,61020.0],[62461.0,62461.0],[52435.0,52435.0],[50892.0,50892.0],[54368.0,54368.0],[50038.0,50038.0],[47150.0,47150.0],[51518.0,51518.0],[47412.0,47412.0],[45058.0,45058.0],[28739.0,28739.0],[17717.0,17717.0],[8742.0,8742.0],[2317.0,2317.0],[1121.0,1121.0]],\"hovertemplate\":\"source=model\\u003cbr\\u003epdpurp_label=Shop\\u003cbr\\u003etlvorg_hr=%{x}\\u003cbr\\u003epercentage=%{y}\\u003cbr\\u003etoexpfac=%{customdata[0]}\\u003cbr\\u003esample_count=%{customdata[1]}\\u003cextra\\u003e\\u003c\\u002fextra\\u003e\",\"legendgroup\":\"model\",\"marker\":{\"color\":\"#91268F\",\"pattern\":{\"shape\":\"\"}},\"name\":\"model\",\"offsetgroup\":\"model\",\"orientation\":\"v\",\"showlegend\":false,\"textposition\":\"auto\",\"x\":[0,1,2,3,4,5,6,7,8,9,10,11,12,13,14,15,16,17,18,19,20,21,22,23],\"xaxis\":\"x4\",\"y\":[0.0005251780472600732,0.00039425547457200966,0.00018448180696954415,0.0015517300376551172,0.0011619378326065642,0.002703253574706949,0.013900109052552023,0.04202168256334495,0.07318869364564318,0.09078290210710954,0.09292675923487659,0.07801051248748425,0.07571490419591968,0.08088634581709819,0.07444436013824234,0.07014771934366133,0.07664623976981431,0.0705375115487099,0.06703533272930419,0.04275663427820749,0.026358582049027527,0.013005967391352862,0.003447131828616401,0.0016677750452649917],\"yaxis\":\"y4\",\"type\":\"bar\"},{\"alignmentgroup\":\"True\",\"customdata\":[[619.0,619.0],[418.0,418.0],[162.0,162.0],[1503.0,1503.0],[1385.0,1385.0],[3178.0,3178.0],[8692.0,8692.0],[14605.0,14605.0],[31847.0,31847.0],[45218.0,45218.0],[71973.0,71973.0],[78142.0,78142.0],[85626.0,85626.0],[57235.0,57235.0],[53953.0,53953.0],[42693.0,42693.0],[42394.0,42394.0],[43221.0,43221.0],[44380.0,44380.0],[25139.0,25139.0],[22053.0,22053.0],[17883.0,17883.0],[3318.0,3318.0],[1589.0,1589.0]],\"hovertemplate\":\"source=model\\u003cbr\\u003epdpurp_label=Meal\\u003cbr\\u003etlvorg_hr=%{x}\\u003cbr\\u003epercentage=%{y}\\u003cbr\\u003etoexpfac=%{customdata[0]}\\u003cbr\\u003esample_count=%{customdata[1]}\\u003cextra\\u003e\\u003c\\u002fextra\\u003e\",\"legendgroup\":\"model\",\"marker\":{\"color\":\"#91268F\",\"pattern\":{\"shape\":\"\"}},\"name\":\"model\",\"offsetgroup\":\"model\",\"orientation\":\"v\",\"showlegend\":false,\"textposition\":\"auto\",\"x\":[0,1,2,3,4,5,6,7,8,9,10,11,12,13,14,15,16,17,18,19,20,21,22,23],\"xaxis\":\"x3\",\"y\":[0.0008878039545283738,0.0005995186639626176,0.0002323493386649379,0.002155685530946924,0.0019864434200675247,0.004558062952328227,0.012466545997997779,0.020947296859268015,0.04567672462013752,0.06485415059105656,0.10322764785019492,0.11207556803676283,0.12280953378101218,0.08208959505239334,0.07738236956166293,0.0612326562692728,0.06080381397136653,0.06198994300269927,0.06365224475277743,0.036055740893196755,0.03162962941714738,0.025648785329290647,0.004758858677100395,0.0022790314761641133],\"yaxis\":\"y3\",\"type\":\"bar\"},{\"alignmentgroup\":\"True\",\"customdata\":[[320.0,320.0],[289.0,289.0],[140.0,140.0],[8519.0,8519.0],[5177.0,5177.0],[8782.0,8782.0],[27930.0,27930.0],[51662.0,51662.0],[76016.0,76016.0],[85710.0,85710.0],[76546.0,76546.0],[57950.0,57950.0],[52709.0,52709.0],[53799.0,53799.0],[48340.0,48340.0],[46014.0,46014.0],[47728.0,47728.0],[40509.0,40509.0],[36294.0,36294.0],[24904.0,24904.0],[18110.0,18110.0],[10092.0,10092.0],[2881.0,2881.0],[1394.0,1394.0]],\"hovertemplate\":\"source=model\\u003cbr\\u003epdpurp_label=Escort\\u003cbr\\u003etlvorg_hr=%{x}\\u003cbr\\u003epercentage=%{y}\\u003cbr\\u003etoexpfac=%{customdata[0]}\\u003cbr\\u003esample_count=%{customdata[1]}\\u003cextra\\u003e\\u003c\\u002fextra\\u003e\",\"legendgroup\":\"model\",\"marker\":{\"color\":\"#91268F\",\"pattern\":{\"shape\":\"\"}},\"name\":\"model\",\"offsetgroup\":\"model\",\"orientation\":\"v\",\"showlegend\":false,\"textposition\":\"auto\",\"x\":[0,1,2,3,4,5,6,7,8,9,10,11,12,13,14,15,16,17,18,19,20,21,22,23],\"xaxis\":\"x2\",\"y\":[0.0004093039913534532,0.0003696526671910874,0.00017907049621713577,0.010896439694812712,0.006621771135115085,0.01123283641270633,0.035724563995318585,0.06607957125406906,0.09723016314601281,0.10962951593407648,0.09790807288169195,0.07412239468416441,0.06741876275077864,0.06881295447132633,0.06183048419383102,0.05885535580668061,0.06104769031036754,0.051814048080428235,0.04642274706931947,0.031854083127082496,0.02316404776065949,0.012908424627309529,0.003685014997154058,0.0017830305123334804],\"yaxis\":\"y2\",\"type\":\"bar\"},{\"alignmentgroup\":\"True\",\"customdata\":[[155.0,155.0],[101.0,101.0],[56.0,56.0],[2252.0,2252.0],[1336.0,1336.0],[2557.0,2557.0],[8719.0,8719.0],[17707.0,17707.0],[30096.0,30096.0],[36861.0,36861.0],[35716.0,35716.0],[28635.0,28635.0],[26995.0,26995.0],[27071.0,27071.0],[23186.0,23186.0],[20915.0,20915.0],[23876.0,23876.0],[22328.0,22328.0],[20445.0,20445.0],[12216.0,12216.0],[8976.0,8976.0],[5417.0,5417.0],[1190.0,1190.0],[554.0,554.0]],\"hovertemplate\":\"source=model\\u003cbr\\u003epdpurp_label=Personal Business\\u003cbr\\u003etlvorg_hr=%{x}\\u003cbr\\u003epercentage=%{y}\\u003cbr\\u003etoexpfac=%{customdata[0]}\\u003cbr\\u003esample_count=%{customdata[1]}\\u003cextra\\u003e\\u003c\\u002fextra\\u003e\",\"legendgroup\":\"model\",\"marker\":{\"color\":\"#91268F\",\"pattern\":{\"shape\":\"\"}},\"name\":\"model\",\"offsetgroup\":\"model\",\"orientation\":\"v\",\"showlegend\":false,\"textposition\":\"auto\",\"x\":[0,1,2,3,4,5,6,7,8,9,10,11,12,13,14,15,16,17,18,19,20,21,22,23],\"xaxis\":\"x\",\"y\":[0.00043373628833669127,0.0002826281620774569,0.0001567047235280949,0.00630176852473696,0.003738526975598836,0.007155249608238191,0.02439836579359749,0.04954947391985673,0.0842175957018133,0.10314808596373405,0.09994403402731139,0.08012928139691068,0.07554007163644504,0.07575274233266174,0.06488135213790015,0.058526415939109025,0.06681217819565705,0.06248041190955899,0.057211215580926796,0.034184016118200135,0.02511752854264607,0.015158383702708753,0.003329975374972017,0.0015502574434743677],\"yaxis\":\"y\",\"type\":\"bar\"},{\"alignmentgroup\":\"True\",\"customdata\":[[0.0,0.0],[551.958469674964,1.0],[0.0,0.0],[12103.963456859357,20.0],[74931.36061469572,63.0],[99400.45954333004,126.0],[248864.77578781146,354.0],[311397.3539980395,588.0],[206346.47840445887,495.0],[127703.56018230686,269.0],[59092.504106178,166.0],[37766.292036595085,93.0],[26888.870887293404,95.0],[30687.932298089298,67.0],[32953.44141765535,59.0],[26993.205859767655,52.0],[15880.497234966046,27.0],[9067.667081552125,38.0],[3106.2604648083056,10.0],[1354.8011261771373,8.0],[2491.513138185322,8.0],[1284.2515745934531,3.0],[7463.727136272969,6.0],[255.98038726538,1.0]],\"hovertemplate\":\"source=survey\\u003cbr\\u003epdpurp_label=Work\\u003cbr\\u003etlvorg_hr=%{x}\\u003cbr\\u003epercentage=%{y}\\u003cbr\\u003etoexpfac=%{customdata[0]}\\u003cbr\\u003esample_count=%{customdata[1]}\\u003cextra\\u003e\\u003c\\u002fextra\\u003e\",\"legendgroup\":\"survey\",\"marker\":{\"color\":\"#8CC63E\",\"pattern\":{\"shape\":\"\"}},\"name\":\"survey\",\"offsetgroup\":\"survey\",\"orientation\":\"v\",\"showlegend\":true,\"textposition\":\"auto\",\"x\":[0,1,2,3,4,5,6,7,8,9,10,11,12,13,14,15,16,17,18,19,20,21,22,23],\"xaxis\":\"x6\",\"y\":[0.0,0.00041296116861006844,0.0,0.009055874977154873,0.05606172193210347,0.07436887408859577,0.18619424156266162,0.2329795125434714,0.15438314210606763,0.09554452797799634,0.0442114957782111,0.028255770950820935,0.020117563465890585,0.02295992376293894,0.02465491957315578,0.020195624215977884,0.011881380677286129,0.006784195913815621,0.0023240244004406416,0.0010136274503221461,0.0018640862196720065,0.0009608440855083568,0.005584169189752665,0.00019151795954615829],\"yaxis\":\"y6\",\"type\":\"bar\"},{\"alignmentgroup\":\"True\",\"customdata\":[[0.0,0.0],[0.0,0.0],[0.0,0.0],[0.0,0.0],[75.6029420675361,1.0],[944.6388505184881,3.0],[26697.98862443798,28.0],[177732.16684628103,225.0],[224775.58031354484,254.0],[48085.78968965203,55.0],[16161.271083577121,16.0],[3333.250470946136,11.0],[5015.600869289834,10.0],[7404.664188706871,9.0],[2229.590294654095,10.0],[387.7845844848059,5.0],[4969.783185943033,6.0],[1663.3036370758678,16.0],[278.949359175002,2.0],[156.064494787723,1.0],[0.0,0.0],[0.0,0.0],[0.0,0.0],[0.0,0.0]],\"hovertemplate\":\"source=survey\\u003cbr\\u003epdpurp_label=School\\u003cbr\\u003etlvorg_hr=%{x}\\u003cbr\\u003epercentage=%{y}\\u003cbr\\u003etoexpfac=%{customdata[0]}\\u003cbr\\u003esample_count=%{customdata[1]}\\u003cextra\\u003e\\u003c\\u002fextra\\u003e\",\"legendgroup\":\"survey\",\"marker\":{\"color\":\"#8CC63E\",\"pattern\":{\"shape\":\"\"}},\"name\":\"survey\",\"offsetgroup\":\"survey\",\"orientation\":\"v\",\"showlegend\":false,\"textposition\":\"auto\",\"x\":[0,1,2,3,4,5,6,7,8,9,10,11,12,13,14,15,16,17,18,19,20,21,22,23],\"xaxis\":\"x5\",\"y\":[0.0,0.0,0.0,0.0,0.00014541487364636436,0.0018169205500876552,0.051350973074125575,0.34185046081618436,0.4323338710930615,0.09248831911409082,0.031084626184040228,0.006411181665805157,0.009647018313346252,0.014242148227944748,0.004288399129899783,0.0007458657667646464,0.009558892475218251,0.003199202062862368,0.0005365318426620481,0.00030017481026026465,0.0,0.0,0.0,0.0],\"yaxis\":\"y5\",\"type\":\"bar\"},{\"alignmentgroup\":\"True\",\"customdata\":[[484.372679805163,1.0],[0.0,0.0],[306.34798152004703,1.0],[0.0,0.0],[0.0,0.0],[666.5076935107627,5.0],[313.25665406101865,3.0],[14566.76265231447,36.0],[13516.049841091384,51.0],[50812.554897267575,115.0],[82880.44853573837,157.0],[55309.722403559426,114.0],[45890.27107482399,117.0],[50827.820885111934,126.0],[75501.3702501398,148.0],[32651.12387925838,103.0],[53869.43630344453,99.0],[42465.29577867404,112.0],[59091.90904342833,92.0],[17193.175848295632,83.0],[2933.980540218817,23.0],[766.8642961489354,9.0],[1307.606066716253,7.0],[8.1104247487979,1.0]],\"hovertemplate\":\"source=survey\\u003cbr\\u003epdpurp_label=Shop\\u003cbr\\u003etlvorg_hr=%{x}\\u003cbr\\u003epercentage=%{y}\\u003cbr\\u003etoexpfac=%{customdata[0]}\\u003cbr\\u003esample_count=%{customdata[1]}\\u003cextra\\u003e\\u003c\\u002fextra\\u003e\",\"legendgroup\":\"survey\",\"marker\":{\"color\":\"#8CC63E\",\"pattern\":{\"shape\":\"\"}},\"name\":\"survey\",\"offsetgroup\":\"survey\",\"orientation\":\"v\",\"showlegend\":false,\"textposition\":\"auto\",\"x\":[0,1,2,3,4,5,6,7,8,9,10,11,12,13,14,15,16,17,18,19,20,21,22,23],\"xaxis\":\"x4\",\"y\":[0.0008054580838665369,0.0,0.000509422740958001,0.0,0.0,0.0011083284257762582,0.0005209110977108029,0.024222911867761338,0.022475692912385506,0.08449564727799931,0.13782100033892822,0.09197393842336642,0.07631043481418438,0.08452103292386685,0.1255504109675166,0.0542952003124022,0.08957890226466977,0.07061508048404992,0.09826329562864856,0.028590345929334984,0.0048788844675900014,0.0012752103335188932,0.0021744039679801644,1.3486737485149266e-05],\"yaxis\":\"y4\",\"type\":\"bar\"},{\"alignmentgroup\":\"True\",\"customdata\":[[0.0,0.0],[0.0,0.0],[0.0,0.0],[0.0,0.0],[10.6381727331061,1.0],[45.94185906792442,2.0],[1619.3993794124167,7.0],[24185.691730630075,21.0],[16592.386288810565,43.0],[14795.148137337193,46.0],[16320.043882478165,53.0],[51142.26052510319,105.0],[37661.62049466346,109.0],[34280.917362739485,57.0],[11239.722298735183,37.0],[18416.89838924778,53.0],[18899.62355502986,57.0],[52022.95421104775,88.0],[36491.24558242314,99.0],[41737.41209779713,51.0],[7901.458825086891,30.0],[13430.676065534126,12.0],[71.5547812881571,2.0],[1328.6639472156842,2.0]],\"hovertemplate\":\"source=survey\\u003cbr\\u003epdpurp_label=Meal\\u003cbr\\u003etlvorg_hr=%{x}\\u003cbr\\u003epercentage=%{y}\\u003cbr\\u003etoexpfac=%{customdata[0]}\\u003cbr\\u003esample_count=%{customdata[1]}\\u003cextra\\u003e\\u003c\\u002fextra\\u003e\",\"legendgroup\":\"survey\",\"marker\":{\"color\":\"#8CC63E\",\"pattern\":{\"shape\":\"\"}},\"name\":\"survey\",\"offsetgroup\":\"survey\",\"orientation\":\"v\",\"showlegend\":false,\"textposition\":\"auto\",\"x\":[0,1,2,3,4,5,6,7,8,9,10,11,12,13,14,15,16,17,18,19,20,21,22,23],\"xaxis\":\"x3\",\"y\":[0.0,0.0,0.0,0.0,2.671603753803088e-05,0.00011537549372609457,0.004066857692092951,0.06073842419835352,0.041669074761107365,0.037155603968316006,0.04098513118044606,0.12843545468258988,0.09458102365148606,0.08609093855479028,0.02822673126142941,0.04625103963296748,0.04746332523625084,0.13064717338311257,0.09164181774898399,0.10481671019261982,0.0198432264517848,0.03372895467388948,0.00017969817475992742,0.0033367230237554436],\"yaxis\":\"y3\",\"type\":\"bar\"},{\"alignmentgroup\":\"True\",\"customdata\":[[0.0,0.0],[0.0,0.0],[0.0,0.0],[0.0,0.0],[3756.89486105699,1.0],[15977.13796108429,13.0],[24639.469470863194,18.0],[123296.63420487581,121.0],[116124.15215709507,163.0],[44784.66324259696,57.0],[15896.147247396682,30.0],[19721.257583932624,29.0],[17818.68002140592,43.0],[37185.892487532255,52.0],[72148.76360733972,80.0],[72334.71357971721,86.0],[25184.81205221003,63.0],[52928.80856852309,69.0],[5787.712909927875,25.0],[5242.84440129033,17.0],[2041.5346810067565,8.0],[898.543349349546,5.0],[4675.392899869981,5.0],[0.0,0.0]],\"hovertemplate\":\"source=survey\\u003cbr\\u003epdpurp_label=Escort\\u003cbr\\u003etlvorg_hr=%{x}\\u003cbr\\u003epercentage=%{y}\\u003cbr\\u003etoexpfac=%{customdata[0]}\\u003cbr\\u003esample_count=%{customdata[1]}\\u003cextra\\u003e\\u003c\\u002fextra\\u003e\",\"legendgroup\":\"survey\",\"marker\":{\"color\":\"#8CC63E\",\"pattern\":{\"shape\":\"\"}},\"name\":\"survey\",\"offsetgroup\":\"survey\",\"orientation\":\"v\",\"showlegend\":false,\"textposition\":\"auto\",\"x\":[0,1,2,3,4,5,6,7,8,9,10,11,12,13,14,15,16,17,18,19,20,21,22,23],\"xaxis\":\"x2\",\"y\":[0.0,0.0,0.0,0.0,0.005688437697306528,0.024191508475520353,0.037307428651399084,0.18668747673303326,0.17582738647957025,0.06780992709992745,0.024068877780249118,0.02986060276575646,0.026979847693020264,0.05630437913680473,0.10924280872810478,0.10952436167856122,0.03813314973554116,0.08014124458356522,0.008763365895408262,0.00793836262030011,0.0030911546022158766,0.001360513948390341,0.007079165695325601,0.0],\"yaxis\":\"y2\",\"type\":\"bar\"},{\"alignmentgroup\":\"True\",\"customdata\":[[0.0,0.0],[0.0,0.0],[0.0,0.0],[0.0,0.0],[0.0,0.0],[10663.035371550308,5.0],[5380.734653984139,21.0],[29389.618600087004,57.0],[23567.08931472589,54.0],[21265.68791425479,80.0],[31020.636880102895,82.0],[29667.33682676109,61.0],[20348.92199668735,73.0],[28689.578870672518,79.0],[40365.683206848276,73.0],[28112.636222380563,55.0],[8036.796422910787,44.0],[15870.549173199572,29.0],[5254.77023384645,16.0],[7876.896164187973,12.0],[817.8571988340665,8.0],[208.4084893501812,3.0],[46.9407483680735,1.0],[0.0,0.0]],\"hovertemplate\":\"source=survey\\u003cbr\\u003epdpurp_label=Personal Business\\u003cbr\\u003etlvorg_hr=%{x}\\u003cbr\\u003epercentage=%{y}\\u003cbr\\u003etoexpfac=%{customdata[0]}\\u003cbr\\u003esample_count=%{customdata[1]}\\u003cextra\\u003e\\u003c\\u002fextra\\u003e\",\"legendgroup\":\"survey\",\"marker\":{\"color\":\"#8CC63E\",\"pattern\":{\"shape\":\"\"}},\"name\":\"survey\",\"offsetgroup\":\"survey\",\"orientation\":\"v\",\"showlegend\":false,\"textposition\":\"auto\",\"x\":[0,1,2,3,4,5,6,7,8,9,10,11,12,13,14,15,16,17,18,19,20,21,22,23],\"xaxis\":\"x\",\"y\":[0.0,0.0,0.0,0.0,0.0,0.03478023625127745,0.017550651943846557,0.09586181069728072,0.07687013177392757,0.06936351835398465,0.10118179690500324,0.0967676602230904,0.06637325019026956,0.0935784508165401,0.1316630724234658,0.09169660377094464,0.026214081502349815,0.051765883770218055,0.017139786543987432,0.025692525624381148,0.002667651902492109,0.0006797779660105618,0.0001531093409301892,0.0],\"yaxis\":\"y\",\"type\":\"bar\"},{\"alignmentgroup\":\"True\",\"customdata\":[[663.365825915265,1.0],[0.0,0.0],[66.61248155133971,2.0],[11536.937249213654,35.0],[47069.11064528897,144.0],[176781.16049967616,464.0],[333470.07784518355,1342.0],[393071.5312644363,2287.0],[269789.2629268085,1877.0],[165885.5016349633,1035.0],[74340.1775894003,457.0],[26843.559387681602,262.0],[38841.596463089445,243.0],[29706.812597293483,196.0],[18524.446823193204,130.0],[19186.686366792266,73.0],[10080.046467017171,76.0],[9235.107314169933,64.0],[4129.18919406304,39.0],[2189.811752997616,13.0],[1627.1968036848762,10.0],[2.034207699983375,1.0],[988.686151042609,2.0],[988.686151042609,2.0]],\"hovertemplate\":\"source=survey (2017\\u002f2019)\\u003cbr\\u003epdpurp_label=Work\\u003cbr\\u003etlvorg_hr=%{x}\\u003cbr\\u003epercentage=%{y}\\u003cbr\\u003etoexpfac=%{customdata[0]}\\u003cbr\\u003esample_count=%{customdata[1]}\\u003cextra\\u003e\\u003c\\u002fextra\\u003e\",\"legendgroup\":\"survey (2017\\u002f2019)\",\"marker\":{\"color\":\"#00A7A0\",\"pattern\":{\"shape\":\"\"}},\"name\":\"survey (2017\\u002f2019)\",\"offsetgroup\":\"survey (2017\\u002f2019)\",\"orientation\":\"v\",\"showlegend\":true,\"textposition\":\"auto\",\"x\":[0,1,2,3,4,5,6,7,8,9,10,11,12,13,14,15,16,17,18,19,20,21,22,23],\"xaxis\":\"x6\",\"y\":[0.00040572396705202367,0.0,4.074114043016966e-05,0.007056154787477896,0.028788137028717912,0.10812187021999356,0.20395503897087572,0.24040813495296282,0.16500694751901204,0.10145793040648632,0.045467509155010535,0.016417902428935104,0.023756072423380268,0.01816910878520972,0.011329814951170301,0.011734850067950726,0.006165099679387678,0.0056483228850181914,0.0025254707961660976,0.0013393199902896813,0.0009952166912646034,1.2441503399821667e-06,0.0006046945014343298,0.0006046945014343298],\"yaxis\":\"y6\",\"type\":\"bar\"},{\"alignmentgroup\":\"True\",\"customdata\":[[0.0,0.0],[0.0,0.0],[0.0,0.0],[0.0,0.0],[0.0,0.0],[10420.739136253758,19.0],[67142.96212951338,117.0],[184966.19363985493,500.0],[158860.18151059185,567.0],[36237.686969387454,140.0],[13587.301864651045,57.0],[5464.016981777703,29.0],[9372.079396235318,46.0],[3740.5243791076186,32.0],[2899.564229654071,33.0],[17571.078593923314,29.0],[5634.82123136347,27.0],[8698.721489859108,38.0],[675.101533826343,11.0],[75.14674575208934,3.0],[0.0,0.0],[0.0,0.0],[0.0,0.0],[0.0,0.0]],\"hovertemplate\":\"source=survey (2017\\u002f2019)\\u003cbr\\u003epdpurp_label=School\\u003cbr\\u003etlvorg_hr=%{x}\\u003cbr\\u003epercentage=%{y}\\u003cbr\\u003etoexpfac=%{customdata[0]}\\u003cbr\\u003esample_count=%{customdata[1]}\\u003cextra\\u003e\\u003c\\u002fextra\\u003e\",\"legendgroup\":\"survey (2017\\u002f2019)\",\"marker\":{\"color\":\"#00A7A0\",\"pattern\":{\"shape\":\"\"}},\"name\":\"survey (2017\\u002f2019)\",\"offsetgroup\":\"survey (2017\\u002f2019)\",\"orientation\":\"v\",\"showlegend\":false,\"textposition\":\"auto\",\"x\":[0,1,2,3,4,5,6,7,8,9,10,11,12,13,14,15,16,17,18,19,20,21,22,23],\"xaxis\":\"x5\",\"y\":[0.0,0.0,0.0,0.0,0.0,0.019835949563291964,0.12780709630256096,0.35208443853947685,0.3023914625303957,0.06897868967033205,0.025863523783144233,0.010400794401084797,0.017839818440529915,0.007120114221659366,0.005519340716902395,0.03344667054845797,0.010725921480429114,0.016558076973415128,0.0012850604741166693,0.00014304235420289392,0.0,0.0,0.0,0.0],\"yaxis\":\"y5\",\"type\":\"bar\"},{\"alignmentgroup\":\"True\",\"customdata\":[[83.24521252225395,2.0],[0.0,0.0],[0.54525469613021,1.0],[11.087229656279533,1.0],[608.1118660539306,3.0],[313.64492561617914,3.0],[6154.285694475873,16.0],[13477.069989906293,54.0],[22829.075462720826,87.0],[134178.91188748827,211.0],[102892.5138371521,225.0],[91115.22510114146,230.0],[89633.42932089815,201.0],[28021.09586572641,219.0],[51437.909248826996,190.0],[64356.26229586238,200.0],[35570.71695496434,203.0],[44948.3250943588,206.0],[25821.858260572855,201.0],[37186.01221540861,173.0],[16066.913929221468,97.0],[18875.0258305438,49.0],[557.4277959529774,17.0],[2123.97370652186,7.0]],\"hovertemplate\":\"source=survey (2017\\u002f2019)\\u003cbr\\u003epdpurp_label=Shop\\u003cbr\\u003etlvorg_hr=%{x}\\u003cbr\\u003epercentage=%{y}\\u003cbr\\u003etoexpfac=%{customdata[0]}\\u003cbr\\u003esample_count=%{customdata[1]}\\u003cextra\\u003e\\u003c\\u002fextra\\u003e\",\"legendgroup\":\"survey (2017\\u002f2019)\",\"marker\":{\"color\":\"#00A7A0\",\"pattern\":{\"shape\":\"\"}},\"name\":\"survey (2017\\u002f2019)\",\"offsetgroup\":\"survey (2017\\u002f2019)\",\"orientation\":\"v\",\"showlegend\":false,\"textposition\":\"auto\",\"x\":[0,1,2,3,4,5,6,7,8,9,10,11,12,13,14,15,16,17,18,19,20,21,22,23],\"xaxis\":\"x4\",\"y\":[0.00010587455823378287,0.0,6.934765174904071e-07,1.410117778942885e-05,0.0007734207556737221,0.00039890603838633267,0.007827264288296882,0.017140671375974366,0.02903492232487385,0.17065405432870714,0.13086277418247513,0.11588395192547753,0.11399934536526238,0.03563833950471529,0.06542077019423911,0.08185084323414253,0.045240246610686534,0.05716706004494254,0.03284126201711192,0.0472946430971024,0.02043453746942848,0.024006005401521882,0.0007089587479637415,0.0027013538804775894],\"yaxis\":\"y4\",\"type\":\"bar\"},{\"alignmentgroup\":\"True\",\"customdata\":[[0.0,0.0],[0.0,0.0],[0.0,0.0],[0.0,0.0],[104.37588060467607,2.0],[1004.4129807216316,5.0],[11355.197307710752,17.0],[4466.581191293693,65.0],[9391.502890534057,82.0],[10422.979978670439,76.0],[23115.5301076332,88.0],[79799.76079279731,284.0],[62591.6262206511,315.0],[24590.122393228034,131.0],[6320.630172016207,78.0],[9277.003714894172,76.0],[23708.461352219336,119.0],[33989.64241910098,196.0],[47203.97984922029,242.0],[10816.375339993585,164.0],[5593.375487917707,82.0],[496.1524996618177,23.0],[5109.103377173227,8.0],[0.0,0.0]],\"hovertemplate\":\"source=survey (2017\\u002f2019)\\u003cbr\\u003epdpurp_label=Meal\\u003cbr\\u003etlvorg_hr=%{x}\\u003cbr\\u003epercentage=%{y}\\u003cbr\\u003etoexpfac=%{customdata[0]}\\u003cbr\\u003esample_count=%{customdata[1]}\\u003cextra\\u003e\\u003c\\u002fextra\\u003e\",\"legendgroup\":\"survey (2017\\u002f2019)\",\"marker\":{\"color\":\"#00A7A0\",\"pattern\":{\"shape\":\"\"}},\"name\":\"survey (2017\\u002f2019)\",\"offsetgroup\":\"survey (2017\\u002f2019)\",\"orientation\":\"v\",\"showlegend\":false,\"textposition\":\"auto\",\"x\":[0,1,2,3,4,5,6,7,8,9,10,11,12,13,14,15,16,17,18,19,20,21,22,23],\"xaxis\":\"x3\",\"y\":[0.0,0.0,0.0,0.0,0.0002825882091811037,0.0027193568461990484,0.030743164546199908,0.012092862572247736,0.025426640407537615,0.028219270864489575,0.06258319661156764,0.21605059870993584,0.16946113854041484,0.06657552118736476,0.017112531658258337,0.02511664429723569,0.06418850406003589,0.09202386726009106,0.12780048469564206,0.02928435304643076,0.015143555707038842,0.0013432877935774747,0.01383243298655178,0.0],\"yaxis\":\"y3\",\"type\":\"bar\"},{\"alignmentgroup\":\"True\",\"customdata\":[[0.0,0.0],[0.0,0.0],[0.0,0.0],[68.99716112623685,2.0],[1608.8011555079395,8.0],[3465.3706566656138,13.0],[5061.683382412336,43.0],[57099.760693835706,219.0],[72887.47341573531,233.0],[14689.853983763353,60.0],[9347.769180612217,31.0],[14275.894103075514,49.0],[11401.469748573028,45.0],[21614.71229882211,57.0],[41300.91505807778,101.0],[38700.8359611188,135.0],[21628.900277144017,129.0],[53721.58878294915,109.0],[30992.11923970363,74.0],[17977.90415949376,42.0],[11720.508583892459,24.0],[6335.466793934933,24.0],[636.9309530825855,9.0],[330.4532993800188,3.0]],\"hovertemplate\":\"source=survey (2017\\u002f2019)\\u003cbr\\u003epdpurp_label=Escort\\u003cbr\\u003etlvorg_hr=%{x}\\u003cbr\\u003epercentage=%{y}\\u003cbr\\u003etoexpfac=%{customdata[0]}\\u003cbr\\u003esample_count=%{customdata[1]}\\u003cextra\\u003e\\u003c\\u002fextra\\u003e\",\"legendgroup\":\"survey (2017\\u002f2019)\",\"marker\":{\"color\":\"#00A7A0\",\"pattern\":{\"shape\":\"\"}},\"name\":\"survey (2017\\u002f2019)\",\"offsetgroup\":\"survey (2017\\u002f2019)\",\"orientation\":\"v\",\"showlegend\":false,\"textposition\":\"auto\",\"x\":[0,1,2,3,4,5,6,7,8,9,10,11,12,13,14,15,16,17,18,19,20,21,22,23],\"xaxis\":\"x2\",\"y\":[0.0,0.0,0.0,0.00015866252498094934,0.0036995211014282567,0.007968798272373857,0.011639601586481316,0.1313038400364988,0.16760849842015987,0.03378007568168002,0.021495676589091656,0.032828153619400134,0.0262182667993078,0.0497041439689584,0.09497358094413721,0.08899456517102552,0.04973676995571183,0.12353555977029573,0.07126797411396961,0.04134111637712194,0.02695191302985559,0.014568732134059336,0.0014646555250253282,0.0007598943784367112],\"yaxis\":\"y2\",\"type\":\"bar\"},{\"alignmentgroup\":\"True\",\"customdata\":[[0.0,0.0],[0.0,0.0],[0.0,0.0],[415.12771485007175,5.0],[693.6507083663261,7.0],[4797.110596523593,19.0],[18699.95978341244,69.0],[47346.51151895759,148.0],[71276.96887912303,291.0],[87578.65479472806,260.0],[82767.1937357741,271.0],[107315.8052870485,182.0],[36318.72193470561,209.0],[32255.442975107242,195.0],[80591.80973502366,192.0],[51540.58708666739,196.0],[55075.73985185104,193.0],[83275.02395238561,171.0],[36066.86538050676,180.0],[11826.822830027118,92.0],[4337.791814374124,39.0],[2041.160644579677,18.0],[700.3758568446026,9.0],[68.08898090709165,2.0]],\"hovertemplate\":\"source=survey (2017\\u002f2019)\\u003cbr\\u003epdpurp_label=Personal Business\\u003cbr\\u003etlvorg_hr=%{x}\\u003cbr\\u003epercentage=%{y}\\u003cbr\\u003etoexpfac=%{customdata[0]}\\u003cbr\\u003esample_count=%{customdata[1]}\\u003cextra\\u003e\\u003c\\u002fextra\\u003e\",\"legendgroup\":\"survey (2017\\u002f2019)\",\"marker\":{\"color\":\"#00A7A0\",\"pattern\":{\"shape\":\"\"}},\"name\":\"survey (2017\\u002f2019)\",\"offsetgroup\":\"survey (2017\\u002f2019)\",\"orientation\":\"v\",\"showlegend\":false,\"textposition\":\"auto\",\"x\":[0,1,2,3,4,5,6,7,8,9,10,11,12,13,14,15,16,17,18,19,20,21,22,23],\"xaxis\":\"x\",\"y\":[0.0,0.0,0.0,0.0005093657754168221,0.0008511162186871767,0.005886101725684557,0.022945033960889302,0.058094633748665414,0.08745753950826327,0.10745986792423656,0.10155615804047931,0.13167754505203377,0.04456342782871191,0.03957774471493046,0.09888694054732353,0.06324080558273534,0.06757847267900481,0.10217927069427511,0.044254397367882184,0.014511627545055238,0.005322513077507761,0.0025045241194077503,0.000859368041793393,8.354584701627984e-05],\"yaxis\":\"y\",\"type\":\"bar\"}],                        {\"template\":{\"data\":{\"barpolar\":[{\"marker\":{\"line\":{\"color\":\"white\",\"width\":0.5},\"pattern\":{\"fillmode\":\"overlay\",\"size\":10,\"solidity\":0.2}},\"type\":\"barpolar\"}],\"bar\":[{\"error_x\":{\"color\":\"rgb(36,36,36)\"},\"error_y\":{\"color\":\"rgb(36,36,36)\"},\"marker\":{\"line\":{\"color\":\"white\",\"width\":0.5},\"pattern\":{\"fillmode\":\"overlay\",\"size\":10,\"solidity\":0.2}},\"type\":\"bar\"}],\"carpet\":[{\"aaxis\":{\"endlinecolor\":\"rgb(36,36,36)\",\"gridcolor\":\"white\",\"linecolor\":\"white\",\"minorgridcolor\":\"white\",\"startlinecolor\":\"rgb(36,36,36)\"},\"baxis\":{\"endlinecolor\":\"rgb(36,36,36)\",\"gridcolor\":\"white\",\"linecolor\":\"white\",\"minorgridcolor\":\"white\",\"startlinecolor\":\"rgb(36,36,36)\"},\"type\":\"carpet\"}],\"choropleth\":[{\"colorbar\":{\"outlinewidth\":1,\"tickcolor\":\"rgb(36,36,36)\",\"ticks\":\"outside\"},\"type\":\"choropleth\"}],\"contourcarpet\":[{\"colorbar\":{\"outlinewidth\":1,\"tickcolor\":\"rgb(36,36,36)\",\"ticks\":\"outside\"},\"type\":\"contourcarpet\"}],\"contour\":[{\"colorbar\":{\"outlinewidth\":1,\"tickcolor\":\"rgb(36,36,36)\",\"ticks\":\"outside\"},\"colorscale\":[[0.0,\"#440154\"],[0.1111111111111111,\"#482878\"],[0.2222222222222222,\"#3e4989\"],[0.3333333333333333,\"#31688e\"],[0.4444444444444444,\"#26828e\"],[0.5555555555555556,\"#1f9e89\"],[0.6666666666666666,\"#35b779\"],[0.7777777777777778,\"#6ece58\"],[0.8888888888888888,\"#b5de2b\"],[1.0,\"#fde725\"]],\"type\":\"contour\"}],\"heatmapgl\":[{\"colorbar\":{\"outlinewidth\":1,\"tickcolor\":\"rgb(36,36,36)\",\"ticks\":\"outside\"},\"colorscale\":[[0.0,\"#440154\"],[0.1111111111111111,\"#482878\"],[0.2222222222222222,\"#3e4989\"],[0.3333333333333333,\"#31688e\"],[0.4444444444444444,\"#26828e\"],[0.5555555555555556,\"#1f9e89\"],[0.6666666666666666,\"#35b779\"],[0.7777777777777778,\"#6ece58\"],[0.8888888888888888,\"#b5de2b\"],[1.0,\"#fde725\"]],\"type\":\"heatmapgl\"}],\"heatmap\":[{\"colorbar\":{\"outlinewidth\":1,\"tickcolor\":\"rgb(36,36,36)\",\"ticks\":\"outside\"},\"colorscale\":[[0.0,\"#440154\"],[0.1111111111111111,\"#482878\"],[0.2222222222222222,\"#3e4989\"],[0.3333333333333333,\"#31688e\"],[0.4444444444444444,\"#26828e\"],[0.5555555555555556,\"#1f9e89\"],[0.6666666666666666,\"#35b779\"],[0.7777777777777778,\"#6ece58\"],[0.8888888888888888,\"#b5de2b\"],[1.0,\"#fde725\"]],\"type\":\"heatmap\"}],\"histogram2dcontour\":[{\"colorbar\":{\"outlinewidth\":1,\"tickcolor\":\"rgb(36,36,36)\",\"ticks\":\"outside\"},\"colorscale\":[[0.0,\"#440154\"],[0.1111111111111111,\"#482878\"],[0.2222222222222222,\"#3e4989\"],[0.3333333333333333,\"#31688e\"],[0.4444444444444444,\"#26828e\"],[0.5555555555555556,\"#1f9e89\"],[0.6666666666666666,\"#35b779\"],[0.7777777777777778,\"#6ece58\"],[0.8888888888888888,\"#b5de2b\"],[1.0,\"#fde725\"]],\"type\":\"histogram2dcontour\"}],\"histogram2d\":[{\"colorbar\":{\"outlinewidth\":1,\"tickcolor\":\"rgb(36,36,36)\",\"ticks\":\"outside\"},\"colorscale\":[[0.0,\"#440154\"],[0.1111111111111111,\"#482878\"],[0.2222222222222222,\"#3e4989\"],[0.3333333333333333,\"#31688e\"],[0.4444444444444444,\"#26828e\"],[0.5555555555555556,\"#1f9e89\"],[0.6666666666666666,\"#35b779\"],[0.7777777777777778,\"#6ece58\"],[0.8888888888888888,\"#b5de2b\"],[1.0,\"#fde725\"]],\"type\":\"histogram2d\"}],\"histogram\":[{\"marker\":{\"line\":{\"color\":\"white\",\"width\":0.6}},\"type\":\"histogram\"}],\"mesh3d\":[{\"colorbar\":{\"outlinewidth\":1,\"tickcolor\":\"rgb(36,36,36)\",\"ticks\":\"outside\"},\"type\":\"mesh3d\"}],\"parcoords\":[{\"line\":{\"colorbar\":{\"outlinewidth\":1,\"tickcolor\":\"rgb(36,36,36)\",\"ticks\":\"outside\"}},\"type\":\"parcoords\"}],\"pie\":[{\"automargin\":true,\"type\":\"pie\"}],\"scatter3d\":[{\"line\":{\"colorbar\":{\"outlinewidth\":1,\"tickcolor\":\"rgb(36,36,36)\",\"ticks\":\"outside\"}},\"marker\":{\"colorbar\":{\"outlinewidth\":1,\"tickcolor\":\"rgb(36,36,36)\",\"ticks\":\"outside\"}},\"type\":\"scatter3d\"}],\"scattercarpet\":[{\"marker\":{\"colorbar\":{\"outlinewidth\":1,\"tickcolor\":\"rgb(36,36,36)\",\"ticks\":\"outside\"}},\"type\":\"scattercarpet\"}],\"scattergeo\":[{\"marker\":{\"colorbar\":{\"outlinewidth\":1,\"tickcolor\":\"rgb(36,36,36)\",\"ticks\":\"outside\"}},\"type\":\"scattergeo\"}],\"scattergl\":[{\"marker\":{\"colorbar\":{\"outlinewidth\":1,\"tickcolor\":\"rgb(36,36,36)\",\"ticks\":\"outside\"}},\"type\":\"scattergl\"}],\"scattermapbox\":[{\"marker\":{\"colorbar\":{\"outlinewidth\":1,\"tickcolor\":\"rgb(36,36,36)\",\"ticks\":\"outside\"}},\"type\":\"scattermapbox\"}],\"scatterpolargl\":[{\"marker\":{\"colorbar\":{\"outlinewidth\":1,\"tickcolor\":\"rgb(36,36,36)\",\"ticks\":\"outside\"}},\"type\":\"scatterpolargl\"}],\"scatterpolar\":[{\"marker\":{\"colorbar\":{\"outlinewidth\":1,\"tickcolor\":\"rgb(36,36,36)\",\"ticks\":\"outside\"}},\"type\":\"scatterpolar\"}],\"scatter\":[{\"fillpattern\":{\"fillmode\":\"overlay\",\"size\":10,\"solidity\":0.2},\"type\":\"scatter\"}],\"scatterternary\":[{\"marker\":{\"colorbar\":{\"outlinewidth\":1,\"tickcolor\":\"rgb(36,36,36)\",\"ticks\":\"outside\"}},\"type\":\"scatterternary\"}],\"surface\":[{\"colorbar\":{\"outlinewidth\":1,\"tickcolor\":\"rgb(36,36,36)\",\"ticks\":\"outside\"},\"colorscale\":[[0.0,\"#440154\"],[0.1111111111111111,\"#482878\"],[0.2222222222222222,\"#3e4989\"],[0.3333333333333333,\"#31688e\"],[0.4444444444444444,\"#26828e\"],[0.5555555555555556,\"#1f9e89\"],[0.6666666666666666,\"#35b779\"],[0.7777777777777778,\"#6ece58\"],[0.8888888888888888,\"#b5de2b\"],[1.0,\"#fde725\"]],\"type\":\"surface\"}],\"table\":[{\"cells\":{\"fill\":{\"color\":\"rgb(237,237,237)\"},\"line\":{\"color\":\"white\"}},\"header\":{\"fill\":{\"color\":\"rgb(217,217,217)\"},\"line\":{\"color\":\"white\"}},\"type\":\"table\"}]},\"layout\":{\"annotationdefaults\":{\"arrowhead\":0,\"arrowwidth\":1},\"autotypenumbers\":\"strict\",\"coloraxis\":{\"colorbar\":{\"outlinewidth\":1,\"tickcolor\":\"rgb(36,36,36)\",\"ticks\":\"outside\"}},\"colorscale\":{\"diverging\":[[0.0,\"rgb(103,0,31)\"],[0.1,\"rgb(178,24,43)\"],[0.2,\"rgb(214,96,77)\"],[0.3,\"rgb(244,165,130)\"],[0.4,\"rgb(253,219,199)\"],[0.5,\"rgb(247,247,247)\"],[0.6,\"rgb(209,229,240)\"],[0.7,\"rgb(146,197,222)\"],[0.8,\"rgb(67,147,195)\"],[0.9,\"rgb(33,102,172)\"],[1.0,\"rgb(5,48,97)\"]],\"sequential\":[[0.0,\"#440154\"],[0.1111111111111111,\"#482878\"],[0.2222222222222222,\"#3e4989\"],[0.3333333333333333,\"#31688e\"],[0.4444444444444444,\"#26828e\"],[0.5555555555555556,\"#1f9e89\"],[0.6666666666666666,\"#35b779\"],[0.7777777777777778,\"#6ece58\"],[0.8888888888888888,\"#b5de2b\"],[1.0,\"#fde725\"]],\"sequentialminus\":[[0.0,\"#440154\"],[0.1111111111111111,\"#482878\"],[0.2222222222222222,\"#3e4989\"],[0.3333333333333333,\"#31688e\"],[0.4444444444444444,\"#26828e\"],[0.5555555555555556,\"#1f9e89\"],[0.6666666666666666,\"#35b779\"],[0.7777777777777778,\"#6ece58\"],[0.8888888888888888,\"#b5de2b\"],[1.0,\"#fde725\"]]},\"colorway\":[\"#91268F\",\"#8CC63E\",\"#00A7A0\",\"#F05A28\",\"#4C4C4C\",\"#630460\",\"#9f3913\",\"#588527\",\"#00716c\",\"#3e4040\"],\"font\":{\"color\":\"rgb(36,36,36)\",\"family\":\"Poppins\",\"size\":11},\"geo\":{\"bgcolor\":\"white\",\"lakecolor\":\"white\",\"landcolor\":\"white\",\"showlakes\":true,\"showland\":true,\"subunitcolor\":\"white\"},\"hoverlabel\":{\"align\":\"left\"},\"hovermode\":\"closest\",\"mapbox\":{\"style\":\"light\"},\"paper_bgcolor\":\"white\",\"plot_bgcolor\":\"white\",\"polar\":{\"angularaxis\":{\"gridcolor\":\"rgb(232,232,232)\",\"linecolor\":\"rgb(36,36,36)\",\"showgrid\":false,\"showline\":true,\"ticks\":\"outside\"},\"bgcolor\":\"white\",\"radialaxis\":{\"gridcolor\":\"rgb(232,232,232)\",\"linecolor\":\"rgb(36,36,36)\",\"showgrid\":false,\"showline\":true,\"ticks\":\"outside\"}},\"scene\":{\"xaxis\":{\"backgroundcolor\":\"white\",\"gridcolor\":\"rgb(232,232,232)\",\"gridwidth\":2,\"linecolor\":\"rgb(36,36,36)\",\"showbackground\":true,\"showgrid\":false,\"showline\":true,\"ticks\":\"outside\",\"zeroline\":false,\"zerolinecolor\":\"rgb(36,36,36)\"},\"yaxis\":{\"backgroundcolor\":\"white\",\"gridcolor\":\"rgb(232,232,232)\",\"gridwidth\":2,\"linecolor\":\"rgb(36,36,36)\",\"showbackground\":true,\"showgrid\":false,\"showline\":true,\"ticks\":\"outside\",\"zeroline\":false,\"zerolinecolor\":\"rgb(36,36,36)\"},\"zaxis\":{\"backgroundcolor\":\"white\",\"gridcolor\":\"rgb(232,232,232)\",\"gridwidth\":2,\"linecolor\":\"rgb(36,36,36)\",\"showbackground\":true,\"showgrid\":false,\"showline\":true,\"ticks\":\"outside\",\"zeroline\":false,\"zerolinecolor\":\"rgb(36,36,36)\"}},\"shapedefaults\":{\"fillcolor\":\"black\",\"line\":{\"width\":0},\"opacity\":0.3},\"ternary\":{\"aaxis\":{\"gridcolor\":\"rgb(232,232,232)\",\"linecolor\":\"rgb(36,36,36)\",\"showgrid\":false,\"showline\":true,\"ticks\":\"outside\"},\"baxis\":{\"gridcolor\":\"rgb(232,232,232)\",\"linecolor\":\"rgb(36,36,36)\",\"showgrid\":false,\"showline\":true,\"ticks\":\"outside\"},\"bgcolor\":\"white\",\"caxis\":{\"gridcolor\":\"rgb(232,232,232)\",\"linecolor\":\"rgb(36,36,36)\",\"showgrid\":false,\"showline\":true,\"ticks\":\"outside\"}},\"title\":{\"x\":0.05},\"xaxis\":{\"automargin\":true,\"gridcolor\":\"rgb(232,232,232)\",\"linecolor\":\"rgb(36,36,36)\",\"showgrid\":false,\"showline\":true,\"ticks\":\"outside\",\"title\":{\"standoff\":15},\"zeroline\":false,\"zerolinecolor\":\"rgb(36,36,36)\"},\"yaxis\":{\"automargin\":true,\"gridcolor\":\"rgb(232,232,232)\",\"linecolor\":\"rgb(36,36,36)\",\"showgrid\":false,\"showline\":true,\"ticks\":\"outside\",\"title\":{\"standoff\":15},\"zeroline\":false,\"zerolinecolor\":\"rgb(36,36,36)\"}}},\"xaxis\":{\"anchor\":\"y\",\"domain\":[0.0,0.98],\"title\":{\"text\":\"tlvorg_hr\"},\"dtick\":1,\"categoryorder\":\"category ascending\"},\"yaxis\":{\"anchor\":\"x\",\"domain\":[0.0,0.14166666666666666],\"title\":{\"text\":\"percentage\"},\"tickformat\":\".0%\"},\"xaxis2\":{\"anchor\":\"y2\",\"domain\":[0.0,0.98],\"matches\":\"x\",\"showticklabels\":false,\"dtick\":1,\"categoryorder\":\"category ascending\"},\"yaxis2\":{\"anchor\":\"x2\",\"domain\":[0.17166666666666666,0.31333333333333335],\"matches\":\"y\",\"title\":{\"text\":\"percentage\"},\"tickformat\":\".0%\"},\"xaxis3\":{\"anchor\":\"y3\",\"domain\":[0.0,0.98],\"matches\":\"x\",\"showticklabels\":false,\"dtick\":1,\"categoryorder\":\"category ascending\"},\"yaxis3\":{\"anchor\":\"x3\",\"domain\":[0.3433333333333333,0.485],\"matches\":\"y\",\"title\":{\"text\":\"percentage\"},\"tickformat\":\".0%\"},\"xaxis4\":{\"anchor\":\"y4\",\"domain\":[0.0,0.98],\"matches\":\"x\",\"showticklabels\":false,\"dtick\":1,\"categoryorder\":\"category ascending\"},\"yaxis4\":{\"anchor\":\"x4\",\"domain\":[0.515,0.6566666666666667],\"matches\":\"y\",\"title\":{\"text\":\"percentage\"},\"tickformat\":\".0%\"},\"xaxis5\":{\"anchor\":\"y5\",\"domain\":[0.0,0.98],\"matches\":\"x\",\"showticklabels\":false,\"dtick\":1,\"categoryorder\":\"category ascending\"},\"yaxis5\":{\"anchor\":\"x5\",\"domain\":[0.6866666666666666,0.8283333333333334],\"matches\":\"y\",\"title\":{\"text\":\"percentage\"},\"tickformat\":\".0%\"},\"xaxis6\":{\"anchor\":\"y6\",\"domain\":[0.0,0.98],\"matches\":\"x\",\"showticklabels\":false,\"dtick\":1,\"categoryorder\":\"category ascending\"},\"yaxis6\":{\"anchor\":\"x6\",\"domain\":[0.8583333333333333,1.0],\"matches\":\"y\",\"title\":{\"text\":\"percentage\"},\"tickformat\":\".0%\"},\"annotations\":[{\"font\":{},\"showarrow\":false,\"text\":\"Personal Business\",\"textangle\":90,\"x\":0.98,\"xanchor\":\"left\",\"xref\":\"paper\",\"y\":0.07083333333333333,\"yanchor\":\"middle\",\"yref\":\"paper\"},{\"font\":{},\"showarrow\":false,\"text\":\"Escort\",\"textangle\":90,\"x\":0.98,\"xanchor\":\"left\",\"xref\":\"paper\",\"y\":0.2425,\"yanchor\":\"middle\",\"yref\":\"paper\"},{\"font\":{},\"showarrow\":false,\"text\":\"Meal\",\"textangle\":90,\"x\":0.98,\"xanchor\":\"left\",\"xref\":\"paper\",\"y\":0.4141666666666667,\"yanchor\":\"middle\",\"yref\":\"paper\"},{\"font\":{},\"showarrow\":false,\"text\":\"Shop\",\"textangle\":90,\"x\":0.98,\"xanchor\":\"left\",\"xref\":\"paper\",\"y\":0.5858333333333334,\"yanchor\":\"middle\",\"yref\":\"paper\"},{\"font\":{},\"showarrow\":false,\"text\":\"School\",\"textangle\":90,\"x\":0.98,\"xanchor\":\"left\",\"xref\":\"paper\",\"y\":0.7575000000000001,\"yanchor\":\"middle\",\"yref\":\"paper\"},{\"font\":{},\"showarrow\":false,\"text\":\"Work\",\"textangle\":90,\"x\":0.98,\"xanchor\":\"left\",\"xref\":\"paper\",\"y\":0.9291666666666667,\"yanchor\":\"middle\",\"yref\":\"paper\"}],\"legend\":{\"title\":{\"text\":\"source\"},\"tracegroupgap\":0},\"title\":{\"text\":\"tour origin departure hour by purpose\"},\"barmode\":\"group\",\"height\":1500,\"width\":850},                        {\"responsive\": true}                    ).then(function(){\n",
       "                            \n",
       "var gd = document.getElementById('cab5ef0a-5300-48cc-bb20-eb85bbceff06');\n",
       "var x = new MutationObserver(function (mutations, observer) {{\n",
       "        var display = window.getComputedStyle(gd).display;\n",
       "        if (!display || display === 'none') {{\n",
       "            console.log([gd, 'removed!']);\n",
       "            Plotly.purge(gd);\n",
       "            observer.disconnect();\n",
       "        }}\n",
       "}});\n",
       "\n",
       "// Listen for the removal of the full notebook cells\n",
       "var notebookContainer = gd.closest('#notebook-container');\n",
       "if (notebookContainer) {{\n",
       "    x.observe(notebookContainer, {childList: true});\n",
       "}}\n",
       "\n",
       "// Listen for the clearing of the current output cell\n",
       "var outputEl = gd.closest('.output');\n",
       "if (outputEl) {{\n",
       "    x.observe(outputEl, {childList: true});\n",
       "}}\n",
       "\n",
       "                        })                };                });            </script>        </div>"
      ]
     },
     "metadata": {},
     "output_type": "display_data"
    }
   ],
   "source": [
    "df_plot = df_tour.groupby(['tlvorg_hr','pdpurp_label','source'])['toexpfac'].agg(sample_count='size', toexpfac='sum').reset_index()\n",
    "df_plot['percentage'] = df_plot.groupby(['pdpurp_label','source'], group_keys=False)['toexpfac']. \\\n",
    "    apply(lambda x: x / float(x.sum()))\n",
    "\n",
    "fig = px.bar(df_plot.sort_values(['source','pdpurp_label']),\n",
    "             x=\"tlvorg_hr\", y=\"percentage\", color=\"source\",barmode=\"group\",\n",
    "             facet_row='pdpurp_label',\n",
    "             hover_data=['toexpfac','sample_count'],\n",
    "             title=\"tour origin departure hour by purpose\")\n",
    "fig.update_layout(height=1500, width=850)\n",
    "fig.for_each_annotation(lambda a: a.update(text = a.text.split(\"=\")[-1]))\n",
    "fig.for_each_xaxis(lambda a: a.update(dict(dtick = 1, categoryorder='category ascending')))\n",
    "fig.for_each_yaxis(lambda a: a.update(dict(tickformat=\".0%\")))\n",
    "fig.show()"
   ]
  },
  {
   "cell_type": "raw",
   "metadata": {
    "vscode": {
     "languageId": "raw"
    }
   },
   "source": [
    "### trip"
   ]
  },
  {
   "cell_type": "code",
   "execution_count": 8,
   "metadata": {
    "execution": {
     "iopub.execute_input": "2024-11-26T18:23:59.774443Z",
     "iopub.status.busy": "2024-11-26T18:23:59.773446Z",
     "iopub.status.idle": "2024-11-26T18:24:02.033588Z",
     "shell.execute_reply": "2024-11-26T18:24:02.031584Z"
    }
   },
   "outputs": [
    {
     "data": {
      "application/vnd.plotly.v1+json": {
       "config": {
        "plotlyServerURL": "https://plot.ly"
       },
       "data": [
        {
         "alignmentgroup": "True",
         "customdata": [
          [
           5015.0,
           5015.0
          ],
          [
           3434.0,
           3434.0
          ],
          [
           1235.0,
           1235.0
          ],
          [
           26928.0,
           26928.0
          ],
          [
           36085.0,
           36085.0
          ],
          [
           99279.0,
           99279.0
          ],
          [
           262324.0,
           262324.0
          ],
          [
           372068.0,
           372068.0
          ],
          [
           342458.0,
           342458.0
          ],
          [
           209945.0,
           209945.0
          ],
          [
           181257.0,
           181257.0
          ],
          [
           192732.0,
           192732.0
          ],
          [
           197855.0,
           197855.0
          ],
          [
           165892.0,
           165892.0
          ],
          [
           147791.0,
           147791.0
          ],
          [
           128874.0,
           128874.0
          ],
          [
           139288.0,
           139288.0
          ],
          [
           115330.0,
           115330.0
          ],
          [
           84515.0,
           84515.0
          ],
          [
           46508.0,
           46508.0
          ],
          [
           34287.0,
           34287.0
          ],
          [
           30780.0,
           30780.0
          ],
          [
           17455.0,
           17455.0
          ],
          [
           12487.0,
           12487.0
          ]
         ],
         "hovertemplate": "source=model<br>dpurp_label=Work<br>dept_hr=%{x}<br>percentage=%{y}<br>trexpfac=%{customdata[0]}<br>sample_count=%{customdata[1]}<extra></extra>",
         "legendgroup": "model",
         "marker": {
          "color": "#91268F",
          "pattern": {
           "shape": ""
          }
         },
         "name": "model",
         "offsetgroup": "model",
         "orientation": "v",
         "showlegend": true,
         "textposition": "auto",
         "type": "bar",
         "x": [
          0,
          1,
          2,
          3,
          4,
          5,
          6,
          7,
          8,
          9,
          10,
          11,
          12,
          13,
          14,
          15,
          16,
          17,
          18,
          19,
          20,
          21,
          22,
          23
         ],
         "xaxis": "x6",
         "y": [
          0.0017572925010739984,
          0.0012032985939557548,
          0.00043275298879888094,
          0.009435767192207503,
          0.012644446640330055,
          0.03478808419025433,
          0.09192023889366611,
          0.13037533525216358,
          0.11999977573934184,
          0.07356625605941786,
          0.06351377205726215,
          0.06753469557666876,
          0.06932983206380776,
          0.05812976422495867,
          0.05178704207900843,
          0.04515838759390039,
          0.048807528990946175,
          0.040412471415526265,
          0.029614671132257023,
          0.01629674170288126,
          0.012014414353803425,
          0.010785536028525956,
          0.0061163590441169775,
          0.004375535685126823
         ],
         "yaxis": "y6"
        },
        {
         "alignmentgroup": "True",
         "customdata": [
          [
           19.0,
           19.0
          ],
          [
           6.0,
           6.0
          ],
          [
           0.0,
           0.0
          ],
          [
           467.0,
           467.0
          ],
          [
           574.0,
           574.0
          ],
          [
           4526.0,
           4526.0
          ],
          [
           45684.0,
           45684.0
          ],
          [
           153140.0,
           153140.0
          ],
          [
           182090.0,
           182090.0
          ],
          [
           94480.0,
           94480.0
          ],
          [
           45200.0,
           45200.0
          ],
          [
           30205.0,
           30205.0
          ],
          [
           21076.0,
           21076.0
          ],
          [
           15500.0,
           15500.0
          ],
          [
           12358.0,
           12358.0
          ],
          [
           12799.0,
           12799.0
          ],
          [
           8598.0,
           8598.0
          ],
          [
           7278.0,
           7278.0
          ],
          [
           4483.0,
           4483.0
          ],
          [
           1392.0,
           1392.0
          ],
          [
           1103.0,
           1103.0
          ],
          [
           567.0,
           567.0
          ],
          [
           112.0,
           112.0
          ],
          [
           69.0,
           69.0
          ]
         ],
         "hovertemplate": "source=model<br>dpurp_label=School<br>dept_hr=%{x}<br>percentage=%{y}<br>trexpfac=%{customdata[0]}<br>sample_count=%{customdata[1]}<extra></extra>",
         "legendgroup": "model",
         "marker": {
          "color": "#91268F",
          "pattern": {
           "shape": ""
          }
         },
         "name": "model",
         "offsetgroup": "model",
         "orientation": "v",
         "showlegend": false,
         "textposition": "auto",
         "type": "bar",
         "x": [
          0,
          1,
          2,
          3,
          4,
          5,
          6,
          7,
          8,
          9,
          10,
          11,
          12,
          13,
          14,
          15,
          16,
          17,
          18,
          19,
          20,
          21,
          22,
          23
         ],
         "xaxis": "x5",
         "y": [
          2.96076518638796e-05,
          9.349784799119874e-06,
          0.0,
          0.0007277249168648302,
          0.000894462745782468,
          0.007052854333469425,
          0.07118926146049871,
          0.23863767402286956,
          0.283750385678623,
          0.1472279446368076,
          0.07043504548670305,
          0.04706837497623596,
          0.032842677404375076,
          0.024153610731059674,
          0.0192574400912539,
          0.01994464927398921,
          0.01339824161713878,
          0.011341288961332407,
          0.0069858475424090655,
          0.0021691500733958106,
          0.0017188021055715367,
          0.000883554663516828,
          0.00017452931625023765,
          0.00010752252518987854
         ],
         "yaxis": "y5"
        },
        {
         "alignmentgroup": "True",
         "customdata": [
          [
           1132.0,
           1132.0
          ],
          [
           812.0,
           812.0
          ],
          [
           352.0,
           352.0
          ],
          [
           6315.0,
           6315.0
          ],
          [
           6457.0,
           6457.0
          ],
          [
           10124.0,
           10124.0
          ],
          [
           27444.0,
           27444.0
          ],
          [
           58295.0,
           58295.0
          ],
          [
           96678.0,
           96678.0
          ],
          [
           134390.0,
           134390.0
          ],
          [
           156656.0,
           156656.0
          ],
          [
           146741.0,
           146741.0
          ],
          [
           137610.0,
           137610.0
          ],
          [
           150445.0,
           150445.0
          ],
          [
           135367.0,
           135367.0
          ],
          [
           150467.0,
           150467.0
          ],
          [
           159349.0,
           159349.0
          ],
          [
           136102.0,
           136102.0
          ],
          [
           108986.0,
           108986.0
          ],
          [
           76264.0,
           76264.0
          ],
          [
           52002.0,
           52002.0
          ],
          [
           19613.0,
           19613.0
          ],
          [
           8657.0,
           8657.0
          ],
          [
           5363.0,
           5363.0
          ]
         ],
         "hovertemplate": "source=model<br>dpurp_label=Shop<br>dept_hr=%{x}<br>percentage=%{y}<br>trexpfac=%{customdata[0]}<br>sample_count=%{customdata[1]}<extra></extra>",
         "legendgroup": "model",
         "marker": {
          "color": "#91268F",
          "pattern": {
           "shape": ""
          }
         },
         "name": "model",
         "offsetgroup": "model",
         "orientation": "v",
         "showlegend": false,
         "textposition": "auto",
         "type": "bar",
         "x": [
          0,
          1,
          2,
          3,
          4,
          5,
          6,
          7,
          8,
          9,
          10,
          11,
          12,
          13,
          14,
          15,
          16,
          17,
          18,
          19,
          20,
          21,
          22,
          23
         ],
         "xaxis": "x4",
         "y": [
          0.0006339531177108692,
          0.0004547437558138037,
          0.00019713029808677204,
          0.003536584751187402,
          0.0036161089055292248,
          0.00566973618701841,
          0.01536944289969708,
          0.03264690547434198,
          0.05414250840463906,
          0.07526233170420822,
          0.08773194311670841,
          0.08217925304417903,
          0.07706562590829745,
          0.08425360140813756,
          0.07580948028725021,
          0.08426592205176799,
          0.0892401019029234,
          0.07622110179035753,
          0.06103534848660494,
          0.04271007117411814,
          0.029122641366785,
          0.01098385379652233,
          0.00484817326857155,
          0.0030034368995436322
         ],
         "yaxis": "y4"
        },
        {
         "alignmentgroup": "True",
         "customdata": [
          [
           1452.0,
           1452.0
          ],
          [
           1196.0,
           1196.0
          ],
          [
           559.0,
           559.0
          ],
          [
           4189.0,
           4189.0
          ],
          [
           5051.0,
           5051.0
          ],
          [
           9351.0,
           9351.0
          ],
          [
           24170.0,
           24170.0
          ],
          [
           35953.0,
           35953.0
          ],
          [
           56579.0,
           56579.0
          ],
          [
           73943.0,
           73943.0
          ],
          [
           109800.0,
           109800.0
          ],
          [
           122030.0,
           122030.0
          ],
          [
           126912.0,
           126912.0
          ],
          [
           101987.0,
           101987.0
          ],
          [
           93490.0,
           93490.0
          ],
          [
           80122.0,
           80122.0
          ],
          [
           84067.0,
           84067.0
          ],
          [
           85654.0,
           85654.0
          ],
          [
           75389.0,
           75389.0
          ],
          [
           46826.0,
           46826.0
          ],
          [
           38884.0,
           38884.0
          ],
          [
           26530.0,
           26530.0
          ],
          [
           8522.0,
           8522.0
          ],
          [
           4995.0,
           4995.0
          ]
         ],
         "hovertemplate": "source=model<br>dpurp_label=Meal<br>dept_hr=%{x}<br>percentage=%{y}<br>trexpfac=%{customdata[0]}<br>sample_count=%{customdata[1]}<extra></extra>",
         "legendgroup": "model",
         "marker": {
          "color": "#91268F",
          "pattern": {
           "shape": ""
          }
         },
         "name": "model",
         "offsetgroup": "model",
         "orientation": "v",
         "showlegend": false,
         "textposition": "auto",
         "type": "bar",
         "x": [
          0,
          1,
          2,
          3,
          4,
          5,
          6,
          7,
          8,
          9,
          10,
          11,
          12,
          13,
          14,
          15,
          16,
          17,
          18,
          19,
          20,
          21,
          22,
          23
         ],
         "xaxis": "x3",
         "y": [
          0.0011924599084630982,
          0.000982219043059136,
          0.00045908063969068313,
          0.0034402304108484285,
          0.004148150824825832,
          0.00767954036090801,
          0.019849694206303777,
          0.029526522788549427,
          0.0464656950144171,
          0.06072593871314523,
          0.09017362117716816,
          0.10021755002049028,
          0.10422690902401427,
          0.0837571685154449,
          0.07677897854147042,
          0.06580046335115727,
          0.06904030793716755,
          0.07034363705199602,
          0.06191347110132542,
          0.038456010794554435,
          0.0319336164467487,
          0.021787852184246552,
          0.006998721308486586,
          0.004102160635518716
         ],
         "yaxis": "y3"
        },
        {
         "alignmentgroup": "True",
         "customdata": [
          [
           3097.0,
           3097.0
          ],
          [
           2228.0,
           2228.0
          ],
          [
           1012.0,
           1012.0
          ],
          [
           28662.0,
           28662.0
          ],
          [
           26604.0,
           26604.0
          ],
          [
           47292.0,
           47292.0
          ],
          [
           129243.0,
           129243.0
          ],
          [
           161648.0,
           161648.0
          ],
          [
           151576.0,
           151576.0
          ],
          [
           137374.0,
           137374.0
          ],
          [
           131175.0,
           131175.0
          ],
          [
           107831.0,
           107831.0
          ],
          [
           100747.0,
           100747.0
          ],
          [
           109761.0,
           109761.0
          ],
          [
           108725.0,
           108725.0
          ],
          [
           138995.0,
           138995.0
          ],
          [
           160139.0,
           160139.0
          ],
          [
           144316.0,
           144316.0
          ],
          [
           104918.0,
           104918.0
          ],
          [
           67103.0,
           67103.0
          ],
          [
           50974.0,
           50974.0
          ],
          [
           27828.0,
           27828.0
          ],
          [
           14868.0,
           14868.0
          ],
          [
           11458.0,
           11458.0
          ]
         ],
         "hovertemplate": "source=model<br>dpurp_label=Escort<br>dept_hr=%{x}<br>percentage=%{y}<br>trexpfac=%{customdata[0]}<br>sample_count=%{customdata[1]}<extra></extra>",
         "legendgroup": "model",
         "marker": {
          "color": "#91268F",
          "pattern": {
           "shape": ""
          }
         },
         "name": "model",
         "offsetgroup": "model",
         "orientation": "v",
         "showlegend": false,
         "textposition": "auto",
         "type": "bar",
         "x": [
          0,
          1,
          2,
          3,
          4,
          5,
          6,
          7,
          8,
          9,
          10,
          11,
          12,
          13,
          14,
          15,
          16,
          17,
          18,
          19,
          20,
          21,
          22,
          23
         ],
         "xaxis": "x2",
         "y": [
          0.0015740195794414849,
          0.001132358935419964,
          0.0005143389778478471,
          0.014567177651259876,
          0.013521219532276803,
          0.02403569065254979,
          0.06568647481619497,
          0.08215599514935652,
          0.07703700089551906,
          0.06981897504236181,
          0.0666683946829954,
          0.05480403786592016,
          0.05120366502098524,
          0.055784941252527226,
          0.055258404512358875,
          0.0706428322390924,
          0.08138906084345493,
          0.0733471777935671,
          0.0533235344642692,
          0.03410443520802776,
          0.025907030688553517,
          0.014143305410622422,
          0.007556513757551177,
          0.005823415027846475
         ],
         "yaxis": "y2"
        },
        {
         "alignmentgroup": "True",
         "customdata": [
          [
           625.0,
           625.0
          ],
          [
           369.0,
           369.0
          ],
          [
           152.0,
           152.0
          ],
          [
           4913.0,
           4913.0
          ],
          [
           4582.0,
           4582.0
          ],
          [
           8217.0,
           8217.0
          ],
          [
           22633.0,
           22633.0
          ],
          [
           39803.0,
           39803.0
          ],
          [
           61226.0,
           61226.0
          ],
          [
           75722.0,
           75722.0
          ],
          [
           79639.0,
           79639.0
          ],
          [
           68348.0,
           68348.0
          ],
          [
           63999.0,
           63999.0
          ],
          [
           68201.0,
           68201.0
          ],
          [
           58681.0,
           58681.0
          ],
          [
           61763.0,
           61763.0
          ],
          [
           67400.0,
           67400.0
          ],
          [
           54818.0,
           54818.0
          ],
          [
           42670.0,
           42670.0
          ],
          [
           25505.0,
           25505.0
          ],
          [
           18365.0,
           18365.0
          ],
          [
           10265.0,
           10265.0
          ],
          [
           4177.0,
           4177.0
          ],
          [
           2570.0,
           2570.0
          ]
         ],
         "hovertemplate": "source=model<br>dpurp_label=Personal Business<br>dept_hr=%{x}<br>percentage=%{y}<br>trexpfac=%{customdata[0]}<br>sample_count=%{customdata[1]}<extra></extra>",
         "legendgroup": "model",
         "marker": {
          "color": "#91268F",
          "pattern": {
           "shape": ""
          }
         },
         "name": "model",
         "offsetgroup": "model",
         "orientation": "v",
         "showlegend": false,
         "textposition": "auto",
         "type": "bar",
         "x": [
          0,
          1,
          2,
          3,
          4,
          5,
          6,
          7,
          8,
          9,
          10,
          11,
          12,
          13,
          14,
          15,
          16,
          17,
          18,
          19,
          20,
          21,
          22,
          23
         ],
         "xaxis": "x",
         "y": [
          0.0007399575915505131,
          0.0004368709620514229,
          0.00017995768626508478,
          0.005816658635660273,
          0.005424777095175122,
          0.009728370447632905,
          0.02679593627130042,
          0.04712405122637611,
          0.07248742960043474,
          0.08964970999582073,
          0.0942871722135861,
          0.08091939434767115,
          0.07577047344262605,
          0.08074535632213846,
          0.06947432228764105,
          0.07312320116309494,
          0.07979702667280733,
          0.06490079240578564,
          0.05051838469033663,
          0.030196189395993337,
          0.021742913870120277,
          0.012153063483625626,
          0.0049452845758503885,
          0.0030427056164557095
         ],
         "yaxis": "y"
        },
        {
         "alignmentgroup": "True",
         "customdata": [
          [
           877.647042052731,
           3.0
          ],
          [
           44.9833310322261,
           1.0
          ],
          [
           0.0,
           0.0
          ],
          [
           11560.088587954324,
           19.0
          ],
          [
           54576.244359929835,
           39.0
          ],
          [
           79405.27991963363,
           96.0
          ],
          [
           191815.96875959478,
           251.0
          ],
          [
           294483.32755837997,
           426.0
          ],
          [
           228830.68846033327,
           431.0
          ],
          [
           139893.95239440547,
           244.0
          ],
          [
           100327.27357694642,
           152.0
          ],
          [
           69162.34611466476,
           132.0
          ],
          [
           96008.09107178276,
           187.0
          ],
          [
           93778.57444812258,
           142.0
          ],
          [
           88455.54960899398,
           105.0
          ],
          [
           87305.15170905265,
           83.0
          ],
          [
           41395.94650395607,
           54.0
          ],
          [
           22536.685525379875,
           49.0
          ],
          [
           15150.373481916085,
           24.0
          ],
          [
           30195.203630267533,
           19.0
          ],
          [
           14130.49944792034,
           12.0
          ],
          [
           4438.049072575183,
           9.0
          ],
          [
           14127.710987835238,
           6.0
          ],
          [
           2329.6740245834644,
           6.0
          ]
         ],
         "hovertemplate": "source=survey<br>dpurp_label=Work<br>dept_hr=%{x}<br>percentage=%{y}<br>trexpfac=%{customdata[0]}<br>sample_count=%{customdata[1]}<extra></extra>",
         "legendgroup": "survey",
         "marker": {
          "color": "#8CC63E",
          "pattern": {
           "shape": ""
          }
         },
         "name": "survey",
         "offsetgroup": "survey",
         "orientation": "v",
         "showlegend": true,
         "textposition": "auto",
         "type": "bar",
         "x": [
          0,
          1,
          2,
          3,
          4,
          5,
          6,
          7,
          8,
          9,
          10,
          11,
          12,
          13,
          14,
          15,
          16,
          17,
          18,
          19,
          20,
          21,
          22,
          23
         ],
         "xaxis": "x6",
         "y": [
          0.0005221512006192653,
          2.676258128939207e-05,
          0.0,
          0.006877610071296469,
          0.032469831438360394,
          0.047241727321920876,
          0.11411983814303366,
          0.17520120923249916,
          0.13614153867440165,
          0.0832291248099762,
          0.059689150470483336,
          0.041147751124361025,
          0.05711947698820271,
          0.05579303853850207,
          0.05262613467225492,
          0.051941711873723845,
          0.024628286921877268,
          0.01340807504749603,
          0.009013629995163211,
          0.01796446757413,
          0.008406861640898882,
          0.0026403924819621495,
          0.00840520266216193,
          0.001386026535385606
         ],
         "yaxis": "y6"
        },
        {
         "alignmentgroup": "True",
         "customdata": [
          [
           0.0,
           0.0
          ],
          [
           0.0,
           0.0
          ],
          [
           0.0,
           0.0
          ],
          [
           0.0,
           0.0
          ],
          [
           0.0,
           0.0
          ],
          [
           869.035908450952,
           2.0
          ],
          [
           20217.931620365427,
           26.0
          ],
          [
           179594.50083476107,
           223.0
          ],
          [
           208388.71041593785,
           245.0
          ],
          [
           58417.639569949555,
           56.0
          ],
          [
           17722.01849644242,
           18.0
          ],
          [
           6108.9239740402645,
           12.0
          ],
          [
           5934.212940715952,
           10.0
          ],
          [
           23217.71863432178,
           13.0
          ],
          [
           4060.773438606998,
           15.0
          ],
          [
           14562.920624023891,
           16.0
          ],
          [
           11931.184860898193,
           10.0
          ],
          [
           3751.1959002163267,
           20.0
          ],
          [
           5734.429891505202,
           4.0
          ],
          [
           826.970102120082,
           3.0
          ],
          [
           0.0,
           0.0
          ],
          [
           0.0,
           0.0
          ],
          [
           365.922772130815,
           1.0
          ],
          [
           0.0,
           0.0
          ]
         ],
         "hovertemplate": "source=survey<br>dpurp_label=School<br>dept_hr=%{x}<br>percentage=%{y}<br>trexpfac=%{customdata[0]}<br>sample_count=%{customdata[1]}<extra></extra>",
         "legendgroup": "survey",
         "marker": {
          "color": "#8CC63E",
          "pattern": {
           "shape": ""
          }
         },
         "name": "survey",
         "offsetgroup": "survey",
         "orientation": "v",
         "showlegend": false,
         "textposition": "auto",
         "type": "bar",
         "x": [
          0,
          1,
          2,
          3,
          4,
          5,
          6,
          7,
          8,
          9,
          10,
          11,
          12,
          13,
          14,
          15,
          16,
          17,
          18,
          19,
          20,
          21,
          22,
          23
         ],
         "xaxis": "x5",
         "y": [
          0.0,
          0.0,
          0.0,
          0.0,
          0.0,
          0.0015471418562662648,
          0.035993919184251995,
          0.3197315170692831,
          0.370993756555508,
          0.10400073741952447,
          0.03155045300975442,
          0.010875697868265444,
          0.010564660372830548,
          0.041334430438209925,
          0.007229382002041589,
          0.025926321142554064,
          0.021241050356652573,
          0.00667824209775636,
          0.010208987247473267,
          0.0014722522354126374,
          0.0,
          0.0,
          0.0006514511442153129,
          0.0
         ],
         "yaxis": "y5"
        },
        {
         "alignmentgroup": "True",
         "customdata": [
          [
           74.8421472528727,
           1.0
          ],
          [
           0.0,
           0.0
          ],
          [
           306.34798152004703,
           1.0
          ],
          [
           0.0,
           0.0
          ],
          [
           1225.38617943629,
           1.0
          ],
          [
           665.8483350233327,
           4.0
          ],
          [
           3048.1039541965006,
           7.0
          ],
          [
           26984.33685808642,
           33.0
          ],
          [
           44713.95753150281,
           58.0
          ],
          [
           62218.056794539094,
           127.0
          ],
          [
           111589.09705982561,
           202.0
          ],
          [
           173811.81862073534,
           231.0
          ],
          [
           93899.2327758374,
           197.0
          ],
          [
           101126.09173678234,
           177.0
          ],
          [
           195507.36254920135,
           212.0
          ],
          [
           117678.4470924974,
           183.0
          ],
          [
           137917.17192730808,
           184.0
          ],
          [
           101516.21728546915,
           162.0
          ],
          [
           100941.52464473317,
           123.0
          ],
          [
           67532.01924493862,
           120.0
          ],
          [
           23014.135782376463,
           42.0
          ],
          [
           3868.0299228549743,
           7.0
          ],
          [
           3626.583899830274,
           9.0
          ],
          [
           1005.4244650200757,
           4.0
          ]
         ],
         "hovertemplate": "source=survey<br>dpurp_label=Shop<br>dept_hr=%{x}<br>percentage=%{y}<br>trexpfac=%{customdata[0]}<br>sample_count=%{customdata[1]}<extra></extra>",
         "legendgroup": "survey",
         "marker": {
          "color": "#8CC63E",
          "pattern": {
           "shape": ""
          }
         },
         "name": "survey",
         "offsetgroup": "survey",
         "orientation": "v",
         "showlegend": false,
         "textposition": "auto",
         "type": "bar",
         "x": [
          0,
          1,
          2,
          3,
          4,
          5,
          6,
          7,
          8,
          9,
          10,
          11,
          12,
          13,
          14,
          15,
          16,
          17,
          18,
          19,
          20,
          21,
          22,
          23
         ],
         "xaxis": "x4",
         "y": [
          5.4538935666043544e-05,
          0.0,
          0.00022324176241352874,
          0.0,
          0.0008929628619623749,
          0.00048521669727729337,
          0.0022212129336649277,
          0.01966401373976525,
          0.0325839348909278,
          0.045339514182008774,
          0.08131715629449845,
          0.12666006978294517,
          0.06842620640144281,
          0.07369255979195724,
          0.14247003673320544,
          0.08575458469373722,
          0.1005029390935521,
          0.0739768519051915,
          0.07355806214419029,
          0.049211902493302005,
          0.01677085060913245,
          0.0028187090143758737,
          0.0026427625777767985,
          0.000732672461006808
         ],
         "yaxis": "y4"
        },
        {
         "alignmentgroup": "True",
         "customdata": [
          [
           0.0,
           0.0
          ],
          [
           0.0,
           0.0
          ],
          [
           0.0,
           0.0
          ],
          [
           0.0,
           0.0
          ],
          [
           0.0,
           0.0
          ],
          [
           1022.7532586346153,
           4.0
          ],
          [
           13305.790365732215,
           17.0
          ],
          [
           10836.332790748074,
           32.0
          ],
          [
           38413.36550890295,
           46.0
          ],
          [
           32628.024487544026,
           59.0
          ],
          [
           7727.480043457685,
           36.0
          ],
          [
           86737.02170096757,
           122.0
          ],
          [
           92568.34017919755,
           150.0
          ],
          [
           76628.85063880625,
           91.0
          ],
          [
           49694.77095394536,
           62.0
          ],
          [
           28021.479126191174,
           73.0
          ],
          [
           33382.179140698616,
           94.0
          ],
          [
           86613.7645217652,
           121.0
          ],
          [
           50549.188096377715,
           109.0
          ],
          [
           46398.71885368092,
           69.0
          ],
          [
           44726.8573617568,
           50.0
          ],
          [
           14598.73463136398,
           11.0
          ],
          [
           1100.4695393680277,
           8.0
          ],
          [
           3297.8481203362194,
           3.0
          ]
         ],
         "hovertemplate": "source=survey<br>dpurp_label=Meal<br>dept_hr=%{x}<br>percentage=%{y}<br>trexpfac=%{customdata[0]}<br>sample_count=%{customdata[1]}<extra></extra>",
         "legendgroup": "survey",
         "marker": {
          "color": "#8CC63E",
          "pattern": {
           "shape": ""
          }
         },
         "name": "survey",
         "offsetgroup": "survey",
         "orientation": "v",
         "showlegend": false,
         "textposition": "auto",
         "type": "bar",
         "x": [
          0,
          1,
          2,
          3,
          4,
          5,
          6,
          7,
          8,
          9,
          10,
          11,
          12,
          13,
          14,
          15,
          16,
          17,
          18,
          19,
          20,
          21,
          22,
          23
         ],
         "xaxis": "x3",
         "y": [
          0.0,
          0.0,
          0.0,
          0.0,
          0.0,
          0.0014239477263162223,
          0.01852524035310214,
          0.015087090956416338,
          0.05348174060044502,
          0.04542698924787945,
          0.010758731439023093,
          0.12076127237513688,
          0.12888003671873485,
          0.1066879784700209,
          0.06918849244650156,
          0.0390134386303748,
          0.04647697544404558,
          0.12058966521710968,
          0.07037807100518187,
          0.0645995010603904,
          0.062271820019003,
          0.02032536666094477,
          0.0015321497000707065,
          0.004591491929302811
         ],
         "yaxis": "y3"
        },
        {
         "alignmentgroup": "True",
         "customdata": [
          [
           9.53758922636237,
           1.0
          ],
          [
           0.0,
           0.0
          ],
          [
           0.0,
           0.0
          ],
          [
           0.0,
           0.0
          ],
          [
           3756.89486105699,
           1.0
          ],
          [
           15342.113304833343,
           12.0
          ],
          [
           30492.202546148405,
           28.0
          ],
          [
           240389.8744297008,
           204.0
          ],
          [
           217286.14691110613,
           225.0
          ],
          [
           115296.36714383955,
           89.0
          ],
          [
           102180.25981499025,
           66.0
          ],
          [
           50286.954649800755,
           53.0
          ],
          [
           29326.33880662858,
           66.0
          ],
          [
           91853.37701370924,
           80.0
          ],
          [
           188676.19169070196,
           163.0
          ],
          [
           183767.23880856778,
           195.0
          ],
          [
           83957.37860345993,
           140.0
          ],
          [
           106084.86632424121,
           136.0
          ],
          [
           20800.188724360414,
           56.0
          ],
          [
           13508.163625581727,
           43.0
          ],
          [
           10404.101326366876,
           20.0
          ],
          [
           6830.520471885157,
           14.0
          ],
          [
           7931.15388585725,
           11.0
          ],
          [
           74.8421472528727,
           1.0
          ]
         ],
         "hovertemplate": "source=survey<br>dpurp_label=Escort<br>dept_hr=%{x}<br>percentage=%{y}<br>trexpfac=%{customdata[0]}<br>sample_count=%{customdata[1]}<extra></extra>",
         "legendgroup": "survey",
         "marker": {
          "color": "#8CC63E",
          "pattern": {
           "shape": ""
          }
         },
         "name": "survey",
         "offsetgroup": "survey",
         "orientation": "v",
         "showlegend": false,
         "textposition": "auto",
         "type": "bar",
         "x": [
          0,
          1,
          2,
          3,
          4,
          5,
          6,
          7,
          8,
          9,
          10,
          11,
          12,
          13,
          14,
          15,
          16,
          17,
          18,
          19,
          20,
          21,
          22,
          23
         ],
         "xaxis": "x2",
         "y": [
          6.281942777263679e-06,
          0.0,
          0.0,
          0.0,
          0.0024744825948388267,
          0.010105098424333948,
          0.02008372000528013,
          0.15833303359584286,
          0.14311574013009576,
          0.07594006867291203,
          0.06730113133300886,
          0.03312155347178713,
          0.019315822675679627,
          0.06049931954540913,
          0.12427176422705692,
          0.12103847745301413,
          0.05529861221724614,
          0.06987290435412491,
          0.013700065312264776,
          0.008897165615737435,
          0.00685267184714112,
          0.004498929207887066,
          0.0052238625176804976,
          4.929485588145893e-05
         ],
         "yaxis": "y2"
        },
        {
         "alignmentgroup": "True",
         "customdata": [
          [
           0.0,
           0.0
          ],
          [
           0.0,
           0.0
          ],
          [
           0.0,
           0.0
          ],
          [
           0.0,
           0.0
          ],
          [
           0.0,
           0.0
          ],
          [
           9288.316776906282,
           4.0
          ],
          [
           4956.125455615196,
           13.0
          ],
          [
           34051.155306077395,
           50.0
          ],
          [
           25753.419248195532,
           56.0
          ],
          [
           64518.238462461384,
           106.0
          ],
          [
           63647.455279375805,
           114.0
          ],
          [
           57578.58437015683,
           94.0
          ],
          [
           58145.206671470114,
           96.0
          ],
          [
           61552.658075065076,
           108.0
          ],
          [
           100316.5928328649,
           97.0
          ],
          [
           52493.97280648251,
           75.0
          ],
          [
           18176.013271279633,
           64.0
          ],
          [
           24528.16948543155,
           54.0
          ],
          [
           20258.83132784132,
           41.0
          ],
          [
           8765.444443136155,
           19.0
          ],
          [
           5001.128497402224,
           10.0
          ],
          [
           1528.6919254451695,
           2.0
          ],
          [
           46.9407483680735,
           1.0
          ],
          [
           218.151276463587,
           1.0
          ]
         ],
         "hovertemplate": "source=survey<br>dpurp_label=Personal Business<br>dept_hr=%{x}<br>percentage=%{y}<br>trexpfac=%{customdata[0]}<br>sample_count=%{customdata[1]}<extra></extra>",
         "legendgroup": "survey",
         "marker": {
          "color": "#8CC63E",
          "pattern": {
           "shape": ""
          }
         },
         "name": "survey",
         "offsetgroup": "survey",
         "orientation": "v",
         "showlegend": false,
         "textposition": "auto",
         "type": "bar",
         "x": [
          0,
          1,
          2,
          3,
          4,
          5,
          6,
          7,
          8,
          9,
          10,
          11,
          12,
          13,
          14,
          15,
          16,
          17,
          18,
          19,
          20,
          21,
          22,
          23
         ],
         "xaxis": "x",
         "y": [
          0.0,
          0.0,
          0.0,
          0.0,
          0.0,
          0.015206180678850309,
          0.008113820938204033,
          0.055746162877992216,
          0.04216169146598367,
          0.10562473424470244,
          0.1041991491002524,
          0.09426361936125269,
          0.09519125364606286,
          0.10076969406126209,
          0.1642312888698967,
          0.08593944997985957,
          0.02975649393348074,
          0.0401557985020797,
          0.03316633755207855,
          0.01435017077196932,
          0.008187496761385778,
          0.0025026671870639365,
          7.684810047177565e-05,
          0.0003571419671511274
         ],
         "yaxis": "y"
        },
        {
         "alignmentgroup": "True",
         "customdata": [
          [
           663.365825915265,
           1.0
          ],
          [
           0.0,
           0.0
          ],
          [
           0.0,
           0.0
          ],
          [
           8132.136680405911,
           24.0
          ],
          [
           38619.643542836435,
           88.0
          ],
          [
           135643.44379438332,
           318.0
          ],
          [
           264381.21607312345,
           851.0
          ],
          [
           324716.9488407788,
           1469.0
          ],
          [
           279943.39568910847,
           1356.0
          ],
          [
           230513.94828421355,
           818.0
          ],
          [
           144087.31292348646,
           424.0
          ],
          [
           99707.57172934448,
           355.0
          ],
          [
           175860.5416438898,
           560.0
          ],
          [
           127522.14200201769,
           476.0
          ],
          [
           83522.00462028726,
           305.0
          ],
          [
           45029.84995522208,
           216.0
          ],
          [
           42833.50246898315,
           157.0
          ],
          [
           46197.703126803804,
           119.0
          ],
          [
           10320.107564872396,
           58.0
          ],
          [
           14510.924602515273,
           30.0
          ],
          [
           2861.034058879043,
           19.0
          ],
          [
           1577.030166958317,
           2.0
          ],
          [
           35.32668425247039,
           2.0
          ],
          [
           0.0,
           0.0
          ]
         ],
         "hovertemplate": "source=survey (2017/2019)<br>dpurp_label=Work<br>dept_hr=%{x}<br>percentage=%{y}<br>trexpfac=%{customdata[0]}<br>sample_count=%{customdata[1]}<extra></extra>",
         "legendgroup": "survey (2017/2019)",
         "marker": {
          "color": "#00A7A0",
          "pattern": {
           "shape": ""
          }
         },
         "name": "survey (2017/2019)",
         "offsetgroup": "survey (2017/2019)",
         "orientation": "v",
         "showlegend": true,
         "textposition": "auto",
         "type": "bar",
         "x": [
          0,
          1,
          2,
          3,
          4,
          5,
          6,
          7,
          8,
          9,
          10,
          11,
          12,
          13,
          14,
          15,
          16,
          17,
          18,
          19,
          20,
          21,
          22,
          23
         ],
         "xaxis": "x6",
         "y": [
          0.0003194358771437433,
          0.0,
          0.0,
          0.003915933127809463,
          0.018596827313290723,
          0.06531747755844082,
          0.12730961161607274,
          0.1563635618902739,
          0.13480339302852623,
          0.11100123399097277,
          0.0693835217174394,
          0.04801298829238188,
          0.08468353988160583,
          0.06140676184134154,
          0.0402190220906755,
          0.021683585521233763,
          0.02062596066573087,
          0.022245951244135746,
          0.004969524330944186,
          0.006987562137642107,
          0.0013776967224309357,
          0.000759400009744882,
          1.7011142163071547e-05,
          0.0
         ],
         "yaxis": "y6"
        },
        {
         "alignmentgroup": "True",
         "customdata": [
          [
           0.0,
           0.0
          ],
          [
           0.0,
           0.0
          ],
          [
           0.0,
           0.0
          ],
          [
           0.0,
           0.0
          ],
          [
           0.0,
           0.0
          ],
          [
           7798.7927252851105,
           10.0
          ],
          [
           55968.18646885951,
           85.0
          ],
          [
           173543.1380981622,
           353.0
          ],
          [
           169409.70186736702,
           445.0
          ],
          [
           31020.70406844005,
           94.0
          ],
          [
           9351.479790390278,
           42.0
          ],
          [
           16041.150303537099,
           33.0
          ],
          [
           15077.214049206706,
           65.0
          ],
          [
           7117.495170882856,
           44.0
          ],
          [
           14034.154744513226,
           44.0
          ],
          [
           21930.428299663203,
           40.0
          ],
          [
           13983.893805668844,
           41.0
          ],
          [
           6723.105949528367,
           27.0
          ],
          [
           163.98224951389415,
           7.0
          ],
          [
           1246.7241287510394,
           5.0
          ],
          [
           312.3021497864155,
           1.0
          ],
          [
           2.722273883088835,
           1.0
          ],
          [
           0.0,
           0.0
          ],
          [
           0.0,
           0.0
          ]
         ],
         "hovertemplate": "source=survey (2017/2019)<br>dpurp_label=School<br>dept_hr=%{x}<br>percentage=%{y}<br>trexpfac=%{customdata[0]}<br>sample_count=%{customdata[1]}<extra></extra>",
         "legendgroup": "survey (2017/2019)",
         "marker": {
          "color": "#00A7A0",
          "pattern": {
           "shape": ""
          }
         },
         "name": "survey (2017/2019)",
         "offsetgroup": "survey (2017/2019)",
         "orientation": "v",
         "showlegend": false,
         "textposition": "auto",
         "type": "bar",
         "x": [
          0,
          1,
          2,
          3,
          4,
          5,
          6,
          7,
          8,
          9,
          10,
          11,
          12,
          13,
          14,
          15,
          16,
          17,
          18,
          19,
          20,
          21,
          22,
          23
         ],
         "xaxis": "x5",
         "y": [
          0.0,
          0.0,
          0.0,
          0.0,
          0.0,
          0.014343262124812349,
          0.10293469738854738,
          0.31917436549301914,
          0.31157229663147956,
          0.05705217530750599,
          0.01719890893542749,
          0.029502312946615,
          0.02772947568134903,
          0.013090243901093897,
          0.025811118116794554,
          0.04033366351584534,
          0.025718679986191748,
          0.012364897276257003,
          0.0003015903193539715,
          0.002292930663232971,
          0.000574375003198358,
          5.00670927617793e-06,
          0.0,
          0.0
         ],
         "yaxis": "y5"
        },
        {
         "alignmentgroup": "True",
         "customdata": [
          [
           71.40233287114344,
           2.0
          ],
          [
           0.0,
           0.0
          ],
          [
           0.0,
           0.0
          ],
          [
           23.5581858798963,
           2.0
          ],
          [
           2802.6843880997167,
           5.0
          ],
          [
           1109.9758434620333,
           6.0
          ],
          [
           7784.194658007579,
           25.0
          ],
          [
           30616.494501955112,
           66.0
          ],
          [
           56804.014109969656,
           103.0
          ],
          [
           140177.01172875005,
           218.0
          ],
          [
           229381.83447245148,
           339.0
          ],
          [
           207637.3217551663,
           406.0
          ],
          [
           216102.46067834963,
           356.0
          ],
          [
           138305.7982016167,
           336.0
          ],
          [
           214655.56994787918,
           394.0
          ],
          [
           139782.17614622528,
           370.0
          ],
          [
           140790.43860664466,
           416.0
          ],
          [
           87565.950598798,
           412.0
          ],
          [
           59293.27495145732,
           332.0
          ],
          [
           68539.6578880813,
           251.0
          ],
          [
           57268.43365745165,
           146.0
          ],
          [
           34797.425988679424,
           64.0
          ],
          [
           1151.6222472197308,
           18.0
          ],
          [
           2123.9737065218605,
           7.0
          ]
         ],
         "hovertemplate": "source=survey (2017/2019)<br>dpurp_label=Shop<br>dept_hr=%{x}<br>percentage=%{y}<br>trexpfac=%{customdata[0]}<br>sample_count=%{customdata[1]}<extra></extra>",
         "legendgroup": "survey (2017/2019)",
         "marker": {
          "color": "#00A7A0",
          "pattern": {
           "shape": ""
          }
         },
         "name": "survey (2017/2019)",
         "offsetgroup": "survey (2017/2019)",
         "orientation": "v",
         "showlegend": false,
         "textposition": "auto",
         "type": "bar",
         "x": [
          0,
          1,
          2,
          3,
          4,
          5,
          6,
          7,
          8,
          9,
          10,
          11,
          12,
          13,
          14,
          15,
          16,
          17,
          18,
          19,
          20,
          21,
          22,
          23
         ],
         "xaxis": "x4",
         "y": [
          3.887353293752114e-05,
          0.0,
          0.0,
          1.2825770222425068e-05,
          0.0015258639247948409,
          0.0006043035398933342,
          0.004237944829844995,
          0.016668521315697557,
          0.030925778258146134,
          0.07631649364110739,
          0.12488222637943437,
          0.11304387324255324,
          0.11765254418534886,
          0.0752977498864541,
          0.11686481425824072,
          0.0761015335213886,
          0.07665046129991808,
          0.0476734824750161,
          0.03228100517329864,
          0.037315008366001746,
          0.031178621937756022,
          0.018944743552749714,
          0.0006269770686578045,
          0.0011563538405378179
         ],
         "yaxis": "y4"
        },
        {
         "alignmentgroup": "True",
         "customdata": [
          [
           0.0,
           0.0
          ],
          [
           0.0,
           0.0
          ],
          [
           0.0,
           0.0
          ],
          [
           42.29917858051295,
           1.0
          ],
          [
           69.8927379423395,
           1.0
          ],
          [
           12182.338079748184,
           12.0
          ],
          [
           15496.795572829991,
           39.0
          ],
          [
           27331.1735562728,
           62.0
          ],
          [
           23905.486578655666,
           78.0
          ],
          [
           10783.718855342795,
           59.0
          ],
          [
           19703.36107736938,
           81.0
          ],
          [
           91959.21926120603,
           339.0
          ],
          [
           158985.81087069996,
           410.0
          ],
          [
           37951.12033504973,
           169.0
          ],
          [
           22561.414515033743,
           130.0
          ],
          [
           19554.929511799874,
           107.0
          ],
          [
           46261.05809157212,
           178.0
          ],
          [
           59740.65520962408,
           271.0
          ],
          [
           88176.27020470444,
           307.0
          ],
          [
           50974.11024511319,
           175.0
          ],
          [
           37175.501569851986,
           97.0
          ],
          [
           8391.118135102508,
           29.0
          ],
          [
           5615.425782045304,
           15.0
          ],
          [
           0.0,
           0.0
          ]
         ],
         "hovertemplate": "source=survey (2017/2019)<br>dpurp_label=Meal<br>dept_hr=%{x}<br>percentage=%{y}<br>trexpfac=%{customdata[0]}<br>sample_count=%{customdata[1]}<extra></extra>",
         "legendgroup": "survey (2017/2019)",
         "marker": {
          "color": "#00A7A0",
          "pattern": {
           "shape": ""
          }
         },
         "name": "survey (2017/2019)",
         "offsetgroup": "survey (2017/2019)",
         "orientation": "v",
         "showlegend": false,
         "textposition": "auto",
         "type": "bar",
         "x": [
          0,
          1,
          2,
          3,
          4,
          5,
          6,
          7,
          8,
          9,
          10,
          11,
          12,
          13,
          14,
          15,
          16,
          17,
          18,
          19,
          20,
          21,
          22,
          23
         ],
         "xaxis": "x3",
         "y": [
          0.0,
          0.0,
          0.0,
          5.740450157303783e-05,
          9.485190776265647e-05,
          0.016532733469778477,
          0.0210308061690681,
          0.03709132063682277,
          0.0324422976511624,
          0.014634657853141136,
          0.02673956468934974,
          0.12479847892760704,
          0.21576072010113054,
          0.051503722296289835,
          0.030618248355651814,
          0.02653812720698812,
          0.0627811950752979,
          0.08107444756705223,
          0.11966461315640005,
          0.0691773100553273,
          0.05045112481990802,
          0.011387643220285838,
          0.0076207323394029795,
          0.0
         ],
         "yaxis": "y3"
        },
        {
         "alignmentgroup": "True",
         "customdata": [
          [
           0.0,
           0.0
          ],
          [
           0.0,
           0.0
          ],
          [
           0.0,
           0.0
          ],
          [
           0.0,
           0.0
          ],
          [
           950.9693550395945,
           7.0
          ],
          [
           17164.260372865,
           26.0
          ],
          [
           46799.11908842117,
           85.0
          ],
          [
           100829.26906986428,
           275.0
          ],
          [
           150499.4464308631,
           340.0
          ],
          [
           32866.885993210315,
           90.0
          ],
          [
           17332.110561837137,
           52.0
          ],
          [
           42301.59639573894,
           81.0
          ],
          [
           22247.40294299082,
           84.0
          ],
          [
           32762.54567701566,
           101.0
          ],
          [
           94059.05859245232,
           146.0
          ],
          [
           99248.0086484954,
           226.0
          ],
          [
           74507.63012431223,
           249.0
          ],
          [
           81375.57963004163,
           198.0
          ],
          [
           48592.27369077669,
           108.0
          ],
          [
           31358.17710711351,
           72.0
          ],
          [
           23795.82813554957,
           70.0
          ],
          [
           9012.834408279845,
           36.0
          ],
          [
           307.5528570376318,
           17.0
          ],
          [
           524.6280816611351,
           5.0
          ]
         ],
         "hovertemplate": "source=survey (2017/2019)<br>dpurp_label=Escort<br>dept_hr=%{x}<br>percentage=%{y}<br>trexpfac=%{customdata[0]}<br>sample_count=%{customdata[1]}<extra></extra>",
         "legendgroup": "survey (2017/2019)",
         "marker": {
          "color": "#00A7A0",
          "pattern": {
           "shape": ""
          }
         },
         "name": "survey (2017/2019)",
         "offsetgroup": "survey (2017/2019)",
         "orientation": "v",
         "showlegend": false,
         "textposition": "auto",
         "type": "bar",
         "x": [
          0,
          1,
          2,
          3,
          4,
          5,
          6,
          7,
          8,
          9,
          10,
          11,
          12,
          13,
          14,
          15,
          16,
          17,
          18,
          19,
          20,
          21,
          22,
          23
         ],
         "xaxis": "x2",
         "y": [
          0.0,
          0.0,
          0.0,
          0.0,
          0.0010263715598481965,
          0.018525211773837383,
          0.050509813595733,
          0.10882400534271823,
          0.16243252295243904,
          0.03547289601440373,
          0.01870637077687274,
          0.045655683063473396,
          0.024011395887954905,
          0.03536028257158327,
          0.10151698598254903,
          0.10711736704085724,
          0.08041532794513534,
          0.08782783604521038,
          0.05244514713357553,
          0.03384456184719438,
          0.02568259546107743,
          0.009727460576155506,
          0.0003319386728296209,
          0.0005662257565516261
         ],
         "yaxis": "y2"
        },
        {
         "alignmentgroup": "True",
         "customdata": [
          [
           0.0,
           0.0
          ],
          [
           0.0,
           0.0
          ],
          [
           0.0,
           0.0
          ],
          [
           994.7917795725714,
           3.0
          ],
          [
           586.647080499792,
           3.0
          ],
          [
           5559.059366232365,
           20.0
          ],
          [
           23604.72867778398,
           71.0
          ],
          [
           53125.846403448384,
           142.0
          ],
          [
           76226.66019139388,
           235.0
          ],
          [
           132647.8211804782,
           300.0
          ],
          [
           152590.96001360606,
           335.0
          ],
          [
           128402.58510341661,
           285.0
          ],
          [
           110516.35832413401,
           317.0
          ],
          [
           70275.89029333487,
           297.0
          ],
          [
           136841.24713602324,
           340.0
          ],
          [
           109923.91460675646,
           296.0
          ],
          [
           116774.77766907045,
           329.0
          ],
          [
           100887.5299790586,
           256.0
          ],
          [
           50940.61816713153,
           197.0
          ],
          [
           28575.13097803148,
           96.0
          ],
          [
           12083.84802175991,
           48.0
          ],
          [
           2764.0629908122223,
           20.0
          ],
          [
           3357.3836922187875,
           8.0
          ],
          [
           18.2754935486296,
           1.0
          ]
         ],
         "hovertemplate": "source=survey (2017/2019)<br>dpurp_label=Personal Business<br>dept_hr=%{x}<br>percentage=%{y}<br>trexpfac=%{customdata[0]}<br>sample_count=%{customdata[1]}<extra></extra>",
         "legendgroup": "survey (2017/2019)",
         "marker": {
          "color": "#00A7A0",
          "pattern": {
           "shape": ""
          }
         },
         "name": "survey (2017/2019)",
         "offsetgroup": "survey (2017/2019)",
         "orientation": "v",
         "showlegend": false,
         "textposition": "auto",
         "type": "bar",
         "x": [
          0,
          1,
          2,
          3,
          4,
          5,
          6,
          7,
          8,
          9,
          10,
          11,
          12,
          13,
          14,
          15,
          16,
          17,
          18,
          19,
          20,
          21,
          22,
          23
         ],
         "xaxis": "x",
         "y": [
          0.0,
          0.0,
          0.0,
          0.0007555200022740813,
          0.0004455440954525421,
          0.004221969492773875,
          0.017927213544105713,
          0.04034777972611677,
          0.057892282248142767,
          0.10074277272675812,
          0.11588909842622365,
          0.09751861985732682,
          0.08393446850581024,
          0.053372818196232505,
          0.10392757707730359,
          0.08348452200656124,
          0.08868758478080616,
          0.07662160910894848,
          0.03868815237899407,
          0.02170211240665923,
          0.009177386737958749,
          0.0020992381722348256,
          0.0025498507193836895,
          1.3879789932877426e-05
         ],
         "yaxis": "y"
        }
       ],
       "layout": {
        "annotations": [
         {
          "font": {},
          "showarrow": false,
          "text": "Personal Business",
          "textangle": 90,
          "x": 0.98,
          "xanchor": "left",
          "xref": "paper",
          "y": 0.07083333333333333,
          "yanchor": "middle",
          "yref": "paper"
         },
         {
          "font": {},
          "showarrow": false,
          "text": "Escort",
          "textangle": 90,
          "x": 0.98,
          "xanchor": "left",
          "xref": "paper",
          "y": 0.2425,
          "yanchor": "middle",
          "yref": "paper"
         },
         {
          "font": {},
          "showarrow": false,
          "text": "Meal",
          "textangle": 90,
          "x": 0.98,
          "xanchor": "left",
          "xref": "paper",
          "y": 0.4141666666666667,
          "yanchor": "middle",
          "yref": "paper"
         },
         {
          "font": {},
          "showarrow": false,
          "text": "Shop",
          "textangle": 90,
          "x": 0.98,
          "xanchor": "left",
          "xref": "paper",
          "y": 0.5858333333333334,
          "yanchor": "middle",
          "yref": "paper"
         },
         {
          "font": {},
          "showarrow": false,
          "text": "School",
          "textangle": 90,
          "x": 0.98,
          "xanchor": "left",
          "xref": "paper",
          "y": 0.7575000000000001,
          "yanchor": "middle",
          "yref": "paper"
         },
         {
          "font": {},
          "showarrow": false,
          "text": "Work",
          "textangle": 90,
          "x": 0.98,
          "xanchor": "left",
          "xref": "paper",
          "y": 0.9291666666666667,
          "yanchor": "middle",
          "yref": "paper"
         }
        ],
        "barmode": "group",
        "height": 1500,
        "legend": {
         "title": {
          "text": "source"
         },
         "tracegroupgap": 0
        },
        "template": {
         "data": {
          "bar": [
           {
            "error_x": {
             "color": "rgb(36,36,36)"
            },
            "error_y": {
             "color": "rgb(36,36,36)"
            },
            "marker": {
             "line": {
              "color": "white",
              "width": 0.5
             },
             "pattern": {
              "fillmode": "overlay",
              "size": 10,
              "solidity": 0.2
             }
            },
            "type": "bar"
           }
          ],
          "barpolar": [
           {
            "marker": {
             "line": {
              "color": "white",
              "width": 0.5
             },
             "pattern": {
              "fillmode": "overlay",
              "size": 10,
              "solidity": 0.2
             }
            },
            "type": "barpolar"
           }
          ],
          "carpet": [
           {
            "aaxis": {
             "endlinecolor": "rgb(36,36,36)",
             "gridcolor": "white",
             "linecolor": "white",
             "minorgridcolor": "white",
             "startlinecolor": "rgb(36,36,36)"
            },
            "baxis": {
             "endlinecolor": "rgb(36,36,36)",
             "gridcolor": "white",
             "linecolor": "white",
             "minorgridcolor": "white",
             "startlinecolor": "rgb(36,36,36)"
            },
            "type": "carpet"
           }
          ],
          "choropleth": [
           {
            "colorbar": {
             "outlinewidth": 1,
             "tickcolor": "rgb(36,36,36)",
             "ticks": "outside"
            },
            "type": "choropleth"
           }
          ],
          "contour": [
           {
            "colorbar": {
             "outlinewidth": 1,
             "tickcolor": "rgb(36,36,36)",
             "ticks": "outside"
            },
            "colorscale": [
             [
              0.0,
              "#440154"
             ],
             [
              0.1111111111111111,
              "#482878"
             ],
             [
              0.2222222222222222,
              "#3e4989"
             ],
             [
              0.3333333333333333,
              "#31688e"
             ],
             [
              0.4444444444444444,
              "#26828e"
             ],
             [
              0.5555555555555556,
              "#1f9e89"
             ],
             [
              0.6666666666666666,
              "#35b779"
             ],
             [
              0.7777777777777778,
              "#6ece58"
             ],
             [
              0.8888888888888888,
              "#b5de2b"
             ],
             [
              1.0,
              "#fde725"
             ]
            ],
            "type": "contour"
           }
          ],
          "contourcarpet": [
           {
            "colorbar": {
             "outlinewidth": 1,
             "tickcolor": "rgb(36,36,36)",
             "ticks": "outside"
            },
            "type": "contourcarpet"
           }
          ],
          "heatmap": [
           {
            "colorbar": {
             "outlinewidth": 1,
             "tickcolor": "rgb(36,36,36)",
             "ticks": "outside"
            },
            "colorscale": [
             [
              0.0,
              "#440154"
             ],
             [
              0.1111111111111111,
              "#482878"
             ],
             [
              0.2222222222222222,
              "#3e4989"
             ],
             [
              0.3333333333333333,
              "#31688e"
             ],
             [
              0.4444444444444444,
              "#26828e"
             ],
             [
              0.5555555555555556,
              "#1f9e89"
             ],
             [
              0.6666666666666666,
              "#35b779"
             ],
             [
              0.7777777777777778,
              "#6ece58"
             ],
             [
              0.8888888888888888,
              "#b5de2b"
             ],
             [
              1.0,
              "#fde725"
             ]
            ],
            "type": "heatmap"
           }
          ],
          "heatmapgl": [
           {
            "colorbar": {
             "outlinewidth": 1,
             "tickcolor": "rgb(36,36,36)",
             "ticks": "outside"
            },
            "colorscale": [
             [
              0.0,
              "#440154"
             ],
             [
              0.1111111111111111,
              "#482878"
             ],
             [
              0.2222222222222222,
              "#3e4989"
             ],
             [
              0.3333333333333333,
              "#31688e"
             ],
             [
              0.4444444444444444,
              "#26828e"
             ],
             [
              0.5555555555555556,
              "#1f9e89"
             ],
             [
              0.6666666666666666,
              "#35b779"
             ],
             [
              0.7777777777777778,
              "#6ece58"
             ],
             [
              0.8888888888888888,
              "#b5de2b"
             ],
             [
              1.0,
              "#fde725"
             ]
            ],
            "type": "heatmapgl"
           }
          ],
          "histogram": [
           {
            "marker": {
             "line": {
              "color": "white",
              "width": 0.6
             }
            },
            "type": "histogram"
           }
          ],
          "histogram2d": [
           {
            "colorbar": {
             "outlinewidth": 1,
             "tickcolor": "rgb(36,36,36)",
             "ticks": "outside"
            },
            "colorscale": [
             [
              0.0,
              "#440154"
             ],
             [
              0.1111111111111111,
              "#482878"
             ],
             [
              0.2222222222222222,
              "#3e4989"
             ],
             [
              0.3333333333333333,
              "#31688e"
             ],
             [
              0.4444444444444444,
              "#26828e"
             ],
             [
              0.5555555555555556,
              "#1f9e89"
             ],
             [
              0.6666666666666666,
              "#35b779"
             ],
             [
              0.7777777777777778,
              "#6ece58"
             ],
             [
              0.8888888888888888,
              "#b5de2b"
             ],
             [
              1.0,
              "#fde725"
             ]
            ],
            "type": "histogram2d"
           }
          ],
          "histogram2dcontour": [
           {
            "colorbar": {
             "outlinewidth": 1,
             "tickcolor": "rgb(36,36,36)",
             "ticks": "outside"
            },
            "colorscale": [
             [
              0.0,
              "#440154"
             ],
             [
              0.1111111111111111,
              "#482878"
             ],
             [
              0.2222222222222222,
              "#3e4989"
             ],
             [
              0.3333333333333333,
              "#31688e"
             ],
             [
              0.4444444444444444,
              "#26828e"
             ],
             [
              0.5555555555555556,
              "#1f9e89"
             ],
             [
              0.6666666666666666,
              "#35b779"
             ],
             [
              0.7777777777777778,
              "#6ece58"
             ],
             [
              0.8888888888888888,
              "#b5de2b"
             ],
             [
              1.0,
              "#fde725"
             ]
            ],
            "type": "histogram2dcontour"
           }
          ],
          "mesh3d": [
           {
            "colorbar": {
             "outlinewidth": 1,
             "tickcolor": "rgb(36,36,36)",
             "ticks": "outside"
            },
            "type": "mesh3d"
           }
          ],
          "parcoords": [
           {
            "line": {
             "colorbar": {
              "outlinewidth": 1,
              "tickcolor": "rgb(36,36,36)",
              "ticks": "outside"
             }
            },
            "type": "parcoords"
           }
          ],
          "pie": [
           {
            "automargin": true,
            "type": "pie"
           }
          ],
          "scatter": [
           {
            "fillpattern": {
             "fillmode": "overlay",
             "size": 10,
             "solidity": 0.2
            },
            "type": "scatter"
           }
          ],
          "scatter3d": [
           {
            "line": {
             "colorbar": {
              "outlinewidth": 1,
              "tickcolor": "rgb(36,36,36)",
              "ticks": "outside"
             }
            },
            "marker": {
             "colorbar": {
              "outlinewidth": 1,
              "tickcolor": "rgb(36,36,36)",
              "ticks": "outside"
             }
            },
            "type": "scatter3d"
           }
          ],
          "scattercarpet": [
           {
            "marker": {
             "colorbar": {
              "outlinewidth": 1,
              "tickcolor": "rgb(36,36,36)",
              "ticks": "outside"
             }
            },
            "type": "scattercarpet"
           }
          ],
          "scattergeo": [
           {
            "marker": {
             "colorbar": {
              "outlinewidth": 1,
              "tickcolor": "rgb(36,36,36)",
              "ticks": "outside"
             }
            },
            "type": "scattergeo"
           }
          ],
          "scattergl": [
           {
            "marker": {
             "colorbar": {
              "outlinewidth": 1,
              "tickcolor": "rgb(36,36,36)",
              "ticks": "outside"
             }
            },
            "type": "scattergl"
           }
          ],
          "scattermapbox": [
           {
            "marker": {
             "colorbar": {
              "outlinewidth": 1,
              "tickcolor": "rgb(36,36,36)",
              "ticks": "outside"
             }
            },
            "type": "scattermapbox"
           }
          ],
          "scatterpolar": [
           {
            "marker": {
             "colorbar": {
              "outlinewidth": 1,
              "tickcolor": "rgb(36,36,36)",
              "ticks": "outside"
             }
            },
            "type": "scatterpolar"
           }
          ],
          "scatterpolargl": [
           {
            "marker": {
             "colorbar": {
              "outlinewidth": 1,
              "tickcolor": "rgb(36,36,36)",
              "ticks": "outside"
             }
            },
            "type": "scatterpolargl"
           }
          ],
          "scatterternary": [
           {
            "marker": {
             "colorbar": {
              "outlinewidth": 1,
              "tickcolor": "rgb(36,36,36)",
              "ticks": "outside"
             }
            },
            "type": "scatterternary"
           }
          ],
          "surface": [
           {
            "colorbar": {
             "outlinewidth": 1,
             "tickcolor": "rgb(36,36,36)",
             "ticks": "outside"
            },
            "colorscale": [
             [
              0.0,
              "#440154"
             ],
             [
              0.1111111111111111,
              "#482878"
             ],
             [
              0.2222222222222222,
              "#3e4989"
             ],
             [
              0.3333333333333333,
              "#31688e"
             ],
             [
              0.4444444444444444,
              "#26828e"
             ],
             [
              0.5555555555555556,
              "#1f9e89"
             ],
             [
              0.6666666666666666,
              "#35b779"
             ],
             [
              0.7777777777777778,
              "#6ece58"
             ],
             [
              0.8888888888888888,
              "#b5de2b"
             ],
             [
              1.0,
              "#fde725"
             ]
            ],
            "type": "surface"
           }
          ],
          "table": [
           {
            "cells": {
             "fill": {
              "color": "rgb(237,237,237)"
             },
             "line": {
              "color": "white"
             }
            },
            "header": {
             "fill": {
              "color": "rgb(217,217,217)"
             },
             "line": {
              "color": "white"
             }
            },
            "type": "table"
           }
          ]
         },
         "layout": {
          "annotationdefaults": {
           "arrowhead": 0,
           "arrowwidth": 1
          },
          "autotypenumbers": "strict",
          "coloraxis": {
           "colorbar": {
            "outlinewidth": 1,
            "tickcolor": "rgb(36,36,36)",
            "ticks": "outside"
           }
          },
          "colorscale": {
           "diverging": [
            [
             0.0,
             "rgb(103,0,31)"
            ],
            [
             0.1,
             "rgb(178,24,43)"
            ],
            [
             0.2,
             "rgb(214,96,77)"
            ],
            [
             0.3,
             "rgb(244,165,130)"
            ],
            [
             0.4,
             "rgb(253,219,199)"
            ],
            [
             0.5,
             "rgb(247,247,247)"
            ],
            [
             0.6,
             "rgb(209,229,240)"
            ],
            [
             0.7,
             "rgb(146,197,222)"
            ],
            [
             0.8,
             "rgb(67,147,195)"
            ],
            [
             0.9,
             "rgb(33,102,172)"
            ],
            [
             1.0,
             "rgb(5,48,97)"
            ]
           ],
           "sequential": [
            [
             0.0,
             "#440154"
            ],
            [
             0.1111111111111111,
             "#482878"
            ],
            [
             0.2222222222222222,
             "#3e4989"
            ],
            [
             0.3333333333333333,
             "#31688e"
            ],
            [
             0.4444444444444444,
             "#26828e"
            ],
            [
             0.5555555555555556,
             "#1f9e89"
            ],
            [
             0.6666666666666666,
             "#35b779"
            ],
            [
             0.7777777777777778,
             "#6ece58"
            ],
            [
             0.8888888888888888,
             "#b5de2b"
            ],
            [
             1.0,
             "#fde725"
            ]
           ],
           "sequentialminus": [
            [
             0.0,
             "#440154"
            ],
            [
             0.1111111111111111,
             "#482878"
            ],
            [
             0.2222222222222222,
             "#3e4989"
            ],
            [
             0.3333333333333333,
             "#31688e"
            ],
            [
             0.4444444444444444,
             "#26828e"
            ],
            [
             0.5555555555555556,
             "#1f9e89"
            ],
            [
             0.6666666666666666,
             "#35b779"
            ],
            [
             0.7777777777777778,
             "#6ece58"
            ],
            [
             0.8888888888888888,
             "#b5de2b"
            ],
            [
             1.0,
             "#fde725"
            ]
           ]
          },
          "colorway": [
           "#91268F",
           "#8CC63E",
           "#00A7A0",
           "#F05A28",
           "#4C4C4C",
           "#630460",
           "#9f3913",
           "#588527",
           "#00716c",
           "#3e4040"
          ],
          "font": {
           "color": "rgb(36,36,36)",
           "family": "Poppins",
           "size": 11
          },
          "geo": {
           "bgcolor": "white",
           "lakecolor": "white",
           "landcolor": "white",
           "showlakes": true,
           "showland": true,
           "subunitcolor": "white"
          },
          "hoverlabel": {
           "align": "left"
          },
          "hovermode": "closest",
          "mapbox": {
           "style": "light"
          },
          "paper_bgcolor": "white",
          "plot_bgcolor": "white",
          "polar": {
           "angularaxis": {
            "gridcolor": "rgb(232,232,232)",
            "linecolor": "rgb(36,36,36)",
            "showgrid": false,
            "showline": true,
            "ticks": "outside"
           },
           "bgcolor": "white",
           "radialaxis": {
            "gridcolor": "rgb(232,232,232)",
            "linecolor": "rgb(36,36,36)",
            "showgrid": false,
            "showline": true,
            "ticks": "outside"
           }
          },
          "scene": {
           "xaxis": {
            "backgroundcolor": "white",
            "gridcolor": "rgb(232,232,232)",
            "gridwidth": 2,
            "linecolor": "rgb(36,36,36)",
            "showbackground": true,
            "showgrid": false,
            "showline": true,
            "ticks": "outside",
            "zeroline": false,
            "zerolinecolor": "rgb(36,36,36)"
           },
           "yaxis": {
            "backgroundcolor": "white",
            "gridcolor": "rgb(232,232,232)",
            "gridwidth": 2,
            "linecolor": "rgb(36,36,36)",
            "showbackground": true,
            "showgrid": false,
            "showline": true,
            "ticks": "outside",
            "zeroline": false,
            "zerolinecolor": "rgb(36,36,36)"
           },
           "zaxis": {
            "backgroundcolor": "white",
            "gridcolor": "rgb(232,232,232)",
            "gridwidth": 2,
            "linecolor": "rgb(36,36,36)",
            "showbackground": true,
            "showgrid": false,
            "showline": true,
            "ticks": "outside",
            "zeroline": false,
            "zerolinecolor": "rgb(36,36,36)"
           }
          },
          "shapedefaults": {
           "fillcolor": "black",
           "line": {
            "width": 0
           },
           "opacity": 0.3
          },
          "ternary": {
           "aaxis": {
            "gridcolor": "rgb(232,232,232)",
            "linecolor": "rgb(36,36,36)",
            "showgrid": false,
            "showline": true,
            "ticks": "outside"
           },
           "baxis": {
            "gridcolor": "rgb(232,232,232)",
            "linecolor": "rgb(36,36,36)",
            "showgrid": false,
            "showline": true,
            "ticks": "outside"
           },
           "bgcolor": "white",
           "caxis": {
            "gridcolor": "rgb(232,232,232)",
            "linecolor": "rgb(36,36,36)",
            "showgrid": false,
            "showline": true,
            "ticks": "outside"
           }
          },
          "title": {
           "x": 0.05
          },
          "xaxis": {
           "automargin": true,
           "gridcolor": "rgb(232,232,232)",
           "linecolor": "rgb(36,36,36)",
           "showgrid": false,
           "showline": true,
           "ticks": "outside",
           "title": {
            "standoff": 15
           },
           "zeroline": false,
           "zerolinecolor": "rgb(36,36,36)"
          },
          "yaxis": {
           "automargin": true,
           "gridcolor": "rgb(232,232,232)",
           "linecolor": "rgb(36,36,36)",
           "showgrid": false,
           "showline": true,
           "ticks": "outside",
           "title": {
            "standoff": 15
           },
           "zeroline": false,
           "zerolinecolor": "rgb(36,36,36)"
          }
         }
        },
        "title": {
         "text": "trip origin departure hour by purpose"
        },
        "width": 850,
        "xaxis": {
         "anchor": "y",
         "categoryorder": "category ascending",
         "domain": [
          0.0,
          0.98
         ],
         "dtick": 1,
         "title": {
          "text": "dept_hr"
         }
        },
        "xaxis2": {
         "anchor": "y2",
         "categoryorder": "category ascending",
         "domain": [
          0.0,
          0.98
         ],
         "dtick": 1,
         "matches": "x",
         "showticklabels": false
        },
        "xaxis3": {
         "anchor": "y3",
         "categoryorder": "category ascending",
         "domain": [
          0.0,
          0.98
         ],
         "dtick": 1,
         "matches": "x",
         "showticklabels": false
        },
        "xaxis4": {
         "anchor": "y4",
         "categoryorder": "category ascending",
         "domain": [
          0.0,
          0.98
         ],
         "dtick": 1,
         "matches": "x",
         "showticklabels": false
        },
        "xaxis5": {
         "anchor": "y5",
         "categoryorder": "category ascending",
         "domain": [
          0.0,
          0.98
         ],
         "dtick": 1,
         "matches": "x",
         "showticklabels": false
        },
        "xaxis6": {
         "anchor": "y6",
         "categoryorder": "category ascending",
         "domain": [
          0.0,
          0.98
         ],
         "dtick": 1,
         "matches": "x",
         "showticklabels": false
        },
        "yaxis": {
         "anchor": "x",
         "domain": [
          0.0,
          0.14166666666666666
         ],
         "tickformat": ".0%",
         "title": {
          "text": "percentage"
         }
        },
        "yaxis2": {
         "anchor": "x2",
         "domain": [
          0.17166666666666666,
          0.31333333333333335
         ],
         "matches": "y",
         "tickformat": ".0%",
         "title": {
          "text": "percentage"
         }
        },
        "yaxis3": {
         "anchor": "x3",
         "domain": [
          0.3433333333333333,
          0.485
         ],
         "matches": "y",
         "tickformat": ".0%",
         "title": {
          "text": "percentage"
         }
        },
        "yaxis4": {
         "anchor": "x4",
         "domain": [
          0.515,
          0.6566666666666667
         ],
         "matches": "y",
         "tickformat": ".0%",
         "title": {
          "text": "percentage"
         }
        },
        "yaxis5": {
         "anchor": "x5",
         "domain": [
          0.6866666666666666,
          0.8283333333333334
         ],
         "matches": "y",
         "tickformat": ".0%",
         "title": {
          "text": "percentage"
         }
        },
        "yaxis6": {
         "anchor": "x6",
         "domain": [
          0.8583333333333333,
          1.0
         ],
         "matches": "y",
         "tickformat": ".0%",
         "title": {
          "text": "percentage"
         }
        }
       }
      },
      "text/html": [
       "<div>                            <div id=\"3a88d95d-430d-4d6a-b510-bdbca494eb6f\" class=\"plotly-graph-div\" style=\"height:1500px; width:850px;\"></div>            <script type=\"text/javascript\">                require([\"plotly\"], function(Plotly) {                    window.PLOTLYENV=window.PLOTLYENV || {};                                    if (document.getElementById(\"3a88d95d-430d-4d6a-b510-bdbca494eb6f\")) {                    Plotly.newPlot(                        \"3a88d95d-430d-4d6a-b510-bdbca494eb6f\",                        [{\"alignmentgroup\":\"True\",\"customdata\":[[5015.0,5015.0],[3434.0,3434.0],[1235.0,1235.0],[26928.0,26928.0],[36085.0,36085.0],[99279.0,99279.0],[262324.0,262324.0],[372068.0,372068.0],[342458.0,342458.0],[209945.0,209945.0],[181257.0,181257.0],[192732.0,192732.0],[197855.0,197855.0],[165892.0,165892.0],[147791.0,147791.0],[128874.0,128874.0],[139288.0,139288.0],[115330.0,115330.0],[84515.0,84515.0],[46508.0,46508.0],[34287.0,34287.0],[30780.0,30780.0],[17455.0,17455.0],[12487.0,12487.0]],\"hovertemplate\":\"source=model\\u003cbr\\u003edpurp_label=Work\\u003cbr\\u003edept_hr=%{x}\\u003cbr\\u003epercentage=%{y}\\u003cbr\\u003etrexpfac=%{customdata[0]}\\u003cbr\\u003esample_count=%{customdata[1]}\\u003cextra\\u003e\\u003c\\u002fextra\\u003e\",\"legendgroup\":\"model\",\"marker\":{\"color\":\"#91268F\",\"pattern\":{\"shape\":\"\"}},\"name\":\"model\",\"offsetgroup\":\"model\",\"orientation\":\"v\",\"showlegend\":true,\"textposition\":\"auto\",\"x\":[0,1,2,3,4,5,6,7,8,9,10,11,12,13,14,15,16,17,18,19,20,21,22,23],\"xaxis\":\"x6\",\"y\":[0.0017572925010739984,0.0012032985939557548,0.00043275298879888094,0.009435767192207503,0.012644446640330055,0.03478808419025433,0.09192023889366611,0.13037533525216358,0.11999977573934184,0.07356625605941786,0.06351377205726215,0.06753469557666876,0.06932983206380776,0.05812976422495867,0.05178704207900843,0.04515838759390039,0.048807528990946175,0.040412471415526265,0.029614671132257023,0.01629674170288126,0.012014414353803425,0.010785536028525956,0.0061163590441169775,0.004375535685126823],\"yaxis\":\"y6\",\"type\":\"bar\"},{\"alignmentgroup\":\"True\",\"customdata\":[[19.0,19.0],[6.0,6.0],[0.0,0.0],[467.0,467.0],[574.0,574.0],[4526.0,4526.0],[45684.0,45684.0],[153140.0,153140.0],[182090.0,182090.0],[94480.0,94480.0],[45200.0,45200.0],[30205.0,30205.0],[21076.0,21076.0],[15500.0,15500.0],[12358.0,12358.0],[12799.0,12799.0],[8598.0,8598.0],[7278.0,7278.0],[4483.0,4483.0],[1392.0,1392.0],[1103.0,1103.0],[567.0,567.0],[112.0,112.0],[69.0,69.0]],\"hovertemplate\":\"source=model\\u003cbr\\u003edpurp_label=School\\u003cbr\\u003edept_hr=%{x}\\u003cbr\\u003epercentage=%{y}\\u003cbr\\u003etrexpfac=%{customdata[0]}\\u003cbr\\u003esample_count=%{customdata[1]}\\u003cextra\\u003e\\u003c\\u002fextra\\u003e\",\"legendgroup\":\"model\",\"marker\":{\"color\":\"#91268F\",\"pattern\":{\"shape\":\"\"}},\"name\":\"model\",\"offsetgroup\":\"model\",\"orientation\":\"v\",\"showlegend\":false,\"textposition\":\"auto\",\"x\":[0,1,2,3,4,5,6,7,8,9,10,11,12,13,14,15,16,17,18,19,20,21,22,23],\"xaxis\":\"x5\",\"y\":[2.96076518638796e-05,9.349784799119874e-06,0.0,0.0007277249168648302,0.000894462745782468,0.007052854333469425,0.07118926146049871,0.23863767402286956,0.283750385678623,0.1472279446368076,0.07043504548670305,0.04706837497623596,0.032842677404375076,0.024153610731059674,0.0192574400912539,0.01994464927398921,0.01339824161713878,0.011341288961332407,0.0069858475424090655,0.0021691500733958106,0.0017188021055715367,0.000883554663516828,0.00017452931625023765,0.00010752252518987854],\"yaxis\":\"y5\",\"type\":\"bar\"},{\"alignmentgroup\":\"True\",\"customdata\":[[1132.0,1132.0],[812.0,812.0],[352.0,352.0],[6315.0,6315.0],[6457.0,6457.0],[10124.0,10124.0],[27444.0,27444.0],[58295.0,58295.0],[96678.0,96678.0],[134390.0,134390.0],[156656.0,156656.0],[146741.0,146741.0],[137610.0,137610.0],[150445.0,150445.0],[135367.0,135367.0],[150467.0,150467.0],[159349.0,159349.0],[136102.0,136102.0],[108986.0,108986.0],[76264.0,76264.0],[52002.0,52002.0],[19613.0,19613.0],[8657.0,8657.0],[5363.0,5363.0]],\"hovertemplate\":\"source=model\\u003cbr\\u003edpurp_label=Shop\\u003cbr\\u003edept_hr=%{x}\\u003cbr\\u003epercentage=%{y}\\u003cbr\\u003etrexpfac=%{customdata[0]}\\u003cbr\\u003esample_count=%{customdata[1]}\\u003cextra\\u003e\\u003c\\u002fextra\\u003e\",\"legendgroup\":\"model\",\"marker\":{\"color\":\"#91268F\",\"pattern\":{\"shape\":\"\"}},\"name\":\"model\",\"offsetgroup\":\"model\",\"orientation\":\"v\",\"showlegend\":false,\"textposition\":\"auto\",\"x\":[0,1,2,3,4,5,6,7,8,9,10,11,12,13,14,15,16,17,18,19,20,21,22,23],\"xaxis\":\"x4\",\"y\":[0.0006339531177108692,0.0004547437558138037,0.00019713029808677204,0.003536584751187402,0.0036161089055292248,0.00566973618701841,0.01536944289969708,0.03264690547434198,0.05414250840463906,0.07526233170420822,0.08773194311670841,0.08217925304417903,0.07706562590829745,0.08425360140813756,0.07580948028725021,0.08426592205176799,0.0892401019029234,0.07622110179035753,0.06103534848660494,0.04271007117411814,0.029122641366785,0.01098385379652233,0.00484817326857155,0.0030034368995436322],\"yaxis\":\"y4\",\"type\":\"bar\"},{\"alignmentgroup\":\"True\",\"customdata\":[[1452.0,1452.0],[1196.0,1196.0],[559.0,559.0],[4189.0,4189.0],[5051.0,5051.0],[9351.0,9351.0],[24170.0,24170.0],[35953.0,35953.0],[56579.0,56579.0],[73943.0,73943.0],[109800.0,109800.0],[122030.0,122030.0],[126912.0,126912.0],[101987.0,101987.0],[93490.0,93490.0],[80122.0,80122.0],[84067.0,84067.0],[85654.0,85654.0],[75389.0,75389.0],[46826.0,46826.0],[38884.0,38884.0],[26530.0,26530.0],[8522.0,8522.0],[4995.0,4995.0]],\"hovertemplate\":\"source=model\\u003cbr\\u003edpurp_label=Meal\\u003cbr\\u003edept_hr=%{x}\\u003cbr\\u003epercentage=%{y}\\u003cbr\\u003etrexpfac=%{customdata[0]}\\u003cbr\\u003esample_count=%{customdata[1]}\\u003cextra\\u003e\\u003c\\u002fextra\\u003e\",\"legendgroup\":\"model\",\"marker\":{\"color\":\"#91268F\",\"pattern\":{\"shape\":\"\"}},\"name\":\"model\",\"offsetgroup\":\"model\",\"orientation\":\"v\",\"showlegend\":false,\"textposition\":\"auto\",\"x\":[0,1,2,3,4,5,6,7,8,9,10,11,12,13,14,15,16,17,18,19,20,21,22,23],\"xaxis\":\"x3\",\"y\":[0.0011924599084630982,0.000982219043059136,0.00045908063969068313,0.0034402304108484285,0.004148150824825832,0.00767954036090801,0.019849694206303777,0.029526522788549427,0.0464656950144171,0.06072593871314523,0.09017362117716816,0.10021755002049028,0.10422690902401427,0.0837571685154449,0.07677897854147042,0.06580046335115727,0.06904030793716755,0.07034363705199602,0.06191347110132542,0.038456010794554435,0.0319336164467487,0.021787852184246552,0.006998721308486586,0.004102160635518716],\"yaxis\":\"y3\",\"type\":\"bar\"},{\"alignmentgroup\":\"True\",\"customdata\":[[3097.0,3097.0],[2228.0,2228.0],[1012.0,1012.0],[28662.0,28662.0],[26604.0,26604.0],[47292.0,47292.0],[129243.0,129243.0],[161648.0,161648.0],[151576.0,151576.0],[137374.0,137374.0],[131175.0,131175.0],[107831.0,107831.0],[100747.0,100747.0],[109761.0,109761.0],[108725.0,108725.0],[138995.0,138995.0],[160139.0,160139.0],[144316.0,144316.0],[104918.0,104918.0],[67103.0,67103.0],[50974.0,50974.0],[27828.0,27828.0],[14868.0,14868.0],[11458.0,11458.0]],\"hovertemplate\":\"source=model\\u003cbr\\u003edpurp_label=Escort\\u003cbr\\u003edept_hr=%{x}\\u003cbr\\u003epercentage=%{y}\\u003cbr\\u003etrexpfac=%{customdata[0]}\\u003cbr\\u003esample_count=%{customdata[1]}\\u003cextra\\u003e\\u003c\\u002fextra\\u003e\",\"legendgroup\":\"model\",\"marker\":{\"color\":\"#91268F\",\"pattern\":{\"shape\":\"\"}},\"name\":\"model\",\"offsetgroup\":\"model\",\"orientation\":\"v\",\"showlegend\":false,\"textposition\":\"auto\",\"x\":[0,1,2,3,4,5,6,7,8,9,10,11,12,13,14,15,16,17,18,19,20,21,22,23],\"xaxis\":\"x2\",\"y\":[0.0015740195794414849,0.001132358935419964,0.0005143389778478471,0.014567177651259876,0.013521219532276803,0.02403569065254979,0.06568647481619497,0.08215599514935652,0.07703700089551906,0.06981897504236181,0.0666683946829954,0.05480403786592016,0.05120366502098524,0.055784941252527226,0.055258404512358875,0.0706428322390924,0.08138906084345493,0.0733471777935671,0.0533235344642692,0.03410443520802776,0.025907030688553517,0.014143305410622422,0.007556513757551177,0.005823415027846475],\"yaxis\":\"y2\",\"type\":\"bar\"},{\"alignmentgroup\":\"True\",\"customdata\":[[625.0,625.0],[369.0,369.0],[152.0,152.0],[4913.0,4913.0],[4582.0,4582.0],[8217.0,8217.0],[22633.0,22633.0],[39803.0,39803.0],[61226.0,61226.0],[75722.0,75722.0],[79639.0,79639.0],[68348.0,68348.0],[63999.0,63999.0],[68201.0,68201.0],[58681.0,58681.0],[61763.0,61763.0],[67400.0,67400.0],[54818.0,54818.0],[42670.0,42670.0],[25505.0,25505.0],[18365.0,18365.0],[10265.0,10265.0],[4177.0,4177.0],[2570.0,2570.0]],\"hovertemplate\":\"source=model\\u003cbr\\u003edpurp_label=Personal Business\\u003cbr\\u003edept_hr=%{x}\\u003cbr\\u003epercentage=%{y}\\u003cbr\\u003etrexpfac=%{customdata[0]}\\u003cbr\\u003esample_count=%{customdata[1]}\\u003cextra\\u003e\\u003c\\u002fextra\\u003e\",\"legendgroup\":\"model\",\"marker\":{\"color\":\"#91268F\",\"pattern\":{\"shape\":\"\"}},\"name\":\"model\",\"offsetgroup\":\"model\",\"orientation\":\"v\",\"showlegend\":false,\"textposition\":\"auto\",\"x\":[0,1,2,3,4,5,6,7,8,9,10,11,12,13,14,15,16,17,18,19,20,21,22,23],\"xaxis\":\"x\",\"y\":[0.0007399575915505131,0.0004368709620514229,0.00017995768626508478,0.005816658635660273,0.005424777095175122,0.009728370447632905,0.02679593627130042,0.04712405122637611,0.07248742960043474,0.08964970999582073,0.0942871722135861,0.08091939434767115,0.07577047344262605,0.08074535632213846,0.06947432228764105,0.07312320116309494,0.07979702667280733,0.06490079240578564,0.05051838469033663,0.030196189395993337,0.021742913870120277,0.012153063483625626,0.0049452845758503885,0.0030427056164557095],\"yaxis\":\"y\",\"type\":\"bar\"},{\"alignmentgroup\":\"True\",\"customdata\":[[877.647042052731,3.0],[44.9833310322261,1.0],[0.0,0.0],[11560.088587954324,19.0],[54576.244359929835,39.0],[79405.27991963363,96.0],[191815.96875959478,251.0],[294483.32755837997,426.0],[228830.68846033327,431.0],[139893.95239440547,244.0],[100327.27357694642,152.0],[69162.34611466476,132.0],[96008.09107178276,187.0],[93778.57444812258,142.0],[88455.54960899398,105.0],[87305.15170905265,83.0],[41395.94650395607,54.0],[22536.685525379875,49.0],[15150.373481916085,24.0],[30195.203630267533,19.0],[14130.49944792034,12.0],[4438.049072575183,9.0],[14127.710987835238,6.0],[2329.6740245834644,6.0]],\"hovertemplate\":\"source=survey\\u003cbr\\u003edpurp_label=Work\\u003cbr\\u003edept_hr=%{x}\\u003cbr\\u003epercentage=%{y}\\u003cbr\\u003etrexpfac=%{customdata[0]}\\u003cbr\\u003esample_count=%{customdata[1]}\\u003cextra\\u003e\\u003c\\u002fextra\\u003e\",\"legendgroup\":\"survey\",\"marker\":{\"color\":\"#8CC63E\",\"pattern\":{\"shape\":\"\"}},\"name\":\"survey\",\"offsetgroup\":\"survey\",\"orientation\":\"v\",\"showlegend\":true,\"textposition\":\"auto\",\"x\":[0,1,2,3,4,5,6,7,8,9,10,11,12,13,14,15,16,17,18,19,20,21,22,23],\"xaxis\":\"x6\",\"y\":[0.0005221512006192653,2.676258128939207e-05,0.0,0.006877610071296469,0.032469831438360394,0.047241727321920876,0.11411983814303366,0.17520120923249916,0.13614153867440165,0.0832291248099762,0.059689150470483336,0.041147751124361025,0.05711947698820271,0.05579303853850207,0.05262613467225492,0.051941711873723845,0.024628286921877268,0.01340807504749603,0.009013629995163211,0.01796446757413,0.008406861640898882,0.0026403924819621495,0.00840520266216193,0.001386026535385606],\"yaxis\":\"y6\",\"type\":\"bar\"},{\"alignmentgroup\":\"True\",\"customdata\":[[0.0,0.0],[0.0,0.0],[0.0,0.0],[0.0,0.0],[0.0,0.0],[869.035908450952,2.0],[20217.931620365427,26.0],[179594.50083476107,223.0],[208388.71041593785,245.0],[58417.639569949555,56.0],[17722.01849644242,18.0],[6108.9239740402645,12.0],[5934.212940715952,10.0],[23217.71863432178,13.0],[4060.773438606998,15.0],[14562.920624023891,16.0],[11931.184860898193,10.0],[3751.1959002163267,20.0],[5734.429891505202,4.0],[826.970102120082,3.0],[0.0,0.0],[0.0,0.0],[365.922772130815,1.0],[0.0,0.0]],\"hovertemplate\":\"source=survey\\u003cbr\\u003edpurp_label=School\\u003cbr\\u003edept_hr=%{x}\\u003cbr\\u003epercentage=%{y}\\u003cbr\\u003etrexpfac=%{customdata[0]}\\u003cbr\\u003esample_count=%{customdata[1]}\\u003cextra\\u003e\\u003c\\u002fextra\\u003e\",\"legendgroup\":\"survey\",\"marker\":{\"color\":\"#8CC63E\",\"pattern\":{\"shape\":\"\"}},\"name\":\"survey\",\"offsetgroup\":\"survey\",\"orientation\":\"v\",\"showlegend\":false,\"textposition\":\"auto\",\"x\":[0,1,2,3,4,5,6,7,8,9,10,11,12,13,14,15,16,17,18,19,20,21,22,23],\"xaxis\":\"x5\",\"y\":[0.0,0.0,0.0,0.0,0.0,0.0015471418562662648,0.035993919184251995,0.3197315170692831,0.370993756555508,0.10400073741952447,0.03155045300975442,0.010875697868265444,0.010564660372830548,0.041334430438209925,0.007229382002041589,0.025926321142554064,0.021241050356652573,0.00667824209775636,0.010208987247473267,0.0014722522354126374,0.0,0.0,0.0006514511442153129,0.0],\"yaxis\":\"y5\",\"type\":\"bar\"},{\"alignmentgroup\":\"True\",\"customdata\":[[74.8421472528727,1.0],[0.0,0.0],[306.34798152004703,1.0],[0.0,0.0],[1225.38617943629,1.0],[665.8483350233327,4.0],[3048.1039541965006,7.0],[26984.33685808642,33.0],[44713.95753150281,58.0],[62218.056794539094,127.0],[111589.09705982561,202.0],[173811.81862073534,231.0],[93899.2327758374,197.0],[101126.09173678234,177.0],[195507.36254920135,212.0],[117678.4470924974,183.0],[137917.17192730808,184.0],[101516.21728546915,162.0],[100941.52464473317,123.0],[67532.01924493862,120.0],[23014.135782376463,42.0],[3868.0299228549743,7.0],[3626.583899830274,9.0],[1005.4244650200757,4.0]],\"hovertemplate\":\"source=survey\\u003cbr\\u003edpurp_label=Shop\\u003cbr\\u003edept_hr=%{x}\\u003cbr\\u003epercentage=%{y}\\u003cbr\\u003etrexpfac=%{customdata[0]}\\u003cbr\\u003esample_count=%{customdata[1]}\\u003cextra\\u003e\\u003c\\u002fextra\\u003e\",\"legendgroup\":\"survey\",\"marker\":{\"color\":\"#8CC63E\",\"pattern\":{\"shape\":\"\"}},\"name\":\"survey\",\"offsetgroup\":\"survey\",\"orientation\":\"v\",\"showlegend\":false,\"textposition\":\"auto\",\"x\":[0,1,2,3,4,5,6,7,8,9,10,11,12,13,14,15,16,17,18,19,20,21,22,23],\"xaxis\":\"x4\",\"y\":[5.4538935666043544e-05,0.0,0.00022324176241352874,0.0,0.0008929628619623749,0.00048521669727729337,0.0022212129336649277,0.01966401373976525,0.0325839348909278,0.045339514182008774,0.08131715629449845,0.12666006978294517,0.06842620640144281,0.07369255979195724,0.14247003673320544,0.08575458469373722,0.1005029390935521,0.0739768519051915,0.07355806214419029,0.049211902493302005,0.01677085060913245,0.0028187090143758737,0.0026427625777767985,0.000732672461006808],\"yaxis\":\"y4\",\"type\":\"bar\"},{\"alignmentgroup\":\"True\",\"customdata\":[[0.0,0.0],[0.0,0.0],[0.0,0.0],[0.0,0.0],[0.0,0.0],[1022.7532586346153,4.0],[13305.790365732215,17.0],[10836.332790748074,32.0],[38413.36550890295,46.0],[32628.024487544026,59.0],[7727.480043457685,36.0],[86737.02170096757,122.0],[92568.34017919755,150.0],[76628.85063880625,91.0],[49694.77095394536,62.0],[28021.479126191174,73.0],[33382.179140698616,94.0],[86613.7645217652,121.0],[50549.188096377715,109.0],[46398.71885368092,69.0],[44726.8573617568,50.0],[14598.73463136398,11.0],[1100.4695393680277,8.0],[3297.8481203362194,3.0]],\"hovertemplate\":\"source=survey\\u003cbr\\u003edpurp_label=Meal\\u003cbr\\u003edept_hr=%{x}\\u003cbr\\u003epercentage=%{y}\\u003cbr\\u003etrexpfac=%{customdata[0]}\\u003cbr\\u003esample_count=%{customdata[1]}\\u003cextra\\u003e\\u003c\\u002fextra\\u003e\",\"legendgroup\":\"survey\",\"marker\":{\"color\":\"#8CC63E\",\"pattern\":{\"shape\":\"\"}},\"name\":\"survey\",\"offsetgroup\":\"survey\",\"orientation\":\"v\",\"showlegend\":false,\"textposition\":\"auto\",\"x\":[0,1,2,3,4,5,6,7,8,9,10,11,12,13,14,15,16,17,18,19,20,21,22,23],\"xaxis\":\"x3\",\"y\":[0.0,0.0,0.0,0.0,0.0,0.0014239477263162223,0.01852524035310214,0.015087090956416338,0.05348174060044502,0.04542698924787945,0.010758731439023093,0.12076127237513688,0.12888003671873485,0.1066879784700209,0.06918849244650156,0.0390134386303748,0.04647697544404558,0.12058966521710968,0.07037807100518187,0.0645995010603904,0.062271820019003,0.02032536666094477,0.0015321497000707065,0.004591491929302811],\"yaxis\":\"y3\",\"type\":\"bar\"},{\"alignmentgroup\":\"True\",\"customdata\":[[9.53758922636237,1.0],[0.0,0.0],[0.0,0.0],[0.0,0.0],[3756.89486105699,1.0],[15342.113304833343,12.0],[30492.202546148405,28.0],[240389.8744297008,204.0],[217286.14691110613,225.0],[115296.36714383955,89.0],[102180.25981499025,66.0],[50286.954649800755,53.0],[29326.33880662858,66.0],[91853.37701370924,80.0],[188676.19169070196,163.0],[183767.23880856778,195.0],[83957.37860345993,140.0],[106084.86632424121,136.0],[20800.188724360414,56.0],[13508.163625581727,43.0],[10404.101326366876,20.0],[6830.520471885157,14.0],[7931.15388585725,11.0],[74.8421472528727,1.0]],\"hovertemplate\":\"source=survey\\u003cbr\\u003edpurp_label=Escort\\u003cbr\\u003edept_hr=%{x}\\u003cbr\\u003epercentage=%{y}\\u003cbr\\u003etrexpfac=%{customdata[0]}\\u003cbr\\u003esample_count=%{customdata[1]}\\u003cextra\\u003e\\u003c\\u002fextra\\u003e\",\"legendgroup\":\"survey\",\"marker\":{\"color\":\"#8CC63E\",\"pattern\":{\"shape\":\"\"}},\"name\":\"survey\",\"offsetgroup\":\"survey\",\"orientation\":\"v\",\"showlegend\":false,\"textposition\":\"auto\",\"x\":[0,1,2,3,4,5,6,7,8,9,10,11,12,13,14,15,16,17,18,19,20,21,22,23],\"xaxis\":\"x2\",\"y\":[6.281942777263679e-06,0.0,0.0,0.0,0.0024744825948388267,0.010105098424333948,0.02008372000528013,0.15833303359584286,0.14311574013009576,0.07594006867291203,0.06730113133300886,0.03312155347178713,0.019315822675679627,0.06049931954540913,0.12427176422705692,0.12103847745301413,0.05529861221724614,0.06987290435412491,0.013700065312264776,0.008897165615737435,0.00685267184714112,0.004498929207887066,0.0052238625176804976,4.929485588145893e-05],\"yaxis\":\"y2\",\"type\":\"bar\"},{\"alignmentgroup\":\"True\",\"customdata\":[[0.0,0.0],[0.0,0.0],[0.0,0.0],[0.0,0.0],[0.0,0.0],[9288.316776906282,4.0],[4956.125455615196,13.0],[34051.155306077395,50.0],[25753.419248195532,56.0],[64518.238462461384,106.0],[63647.455279375805,114.0],[57578.58437015683,94.0],[58145.206671470114,96.0],[61552.658075065076,108.0],[100316.5928328649,97.0],[52493.97280648251,75.0],[18176.013271279633,64.0],[24528.16948543155,54.0],[20258.83132784132,41.0],[8765.444443136155,19.0],[5001.128497402224,10.0],[1528.6919254451695,2.0],[46.9407483680735,1.0],[218.151276463587,1.0]],\"hovertemplate\":\"source=survey\\u003cbr\\u003edpurp_label=Personal Business\\u003cbr\\u003edept_hr=%{x}\\u003cbr\\u003epercentage=%{y}\\u003cbr\\u003etrexpfac=%{customdata[0]}\\u003cbr\\u003esample_count=%{customdata[1]}\\u003cextra\\u003e\\u003c\\u002fextra\\u003e\",\"legendgroup\":\"survey\",\"marker\":{\"color\":\"#8CC63E\",\"pattern\":{\"shape\":\"\"}},\"name\":\"survey\",\"offsetgroup\":\"survey\",\"orientation\":\"v\",\"showlegend\":false,\"textposition\":\"auto\",\"x\":[0,1,2,3,4,5,6,7,8,9,10,11,12,13,14,15,16,17,18,19,20,21,22,23],\"xaxis\":\"x\",\"y\":[0.0,0.0,0.0,0.0,0.0,0.015206180678850309,0.008113820938204033,0.055746162877992216,0.04216169146598367,0.10562473424470244,0.1041991491002524,0.09426361936125269,0.09519125364606286,0.10076969406126209,0.1642312888698967,0.08593944997985957,0.02975649393348074,0.0401557985020797,0.03316633755207855,0.01435017077196932,0.008187496761385778,0.0025026671870639365,7.684810047177565e-05,0.0003571419671511274],\"yaxis\":\"y\",\"type\":\"bar\"},{\"alignmentgroup\":\"True\",\"customdata\":[[663.365825915265,1.0],[0.0,0.0],[0.0,0.0],[8132.136680405911,24.0],[38619.643542836435,88.0],[135643.44379438332,318.0],[264381.21607312345,851.0],[324716.9488407788,1469.0],[279943.39568910847,1356.0],[230513.94828421355,818.0],[144087.31292348646,424.0],[99707.57172934448,355.0],[175860.5416438898,560.0],[127522.14200201769,476.0],[83522.00462028726,305.0],[45029.84995522208,216.0],[42833.50246898315,157.0],[46197.703126803804,119.0],[10320.107564872396,58.0],[14510.924602515273,30.0],[2861.034058879043,19.0],[1577.030166958317,2.0],[35.32668425247039,2.0],[0.0,0.0]],\"hovertemplate\":\"source=survey (2017\\u002f2019)\\u003cbr\\u003edpurp_label=Work\\u003cbr\\u003edept_hr=%{x}\\u003cbr\\u003epercentage=%{y}\\u003cbr\\u003etrexpfac=%{customdata[0]}\\u003cbr\\u003esample_count=%{customdata[1]}\\u003cextra\\u003e\\u003c\\u002fextra\\u003e\",\"legendgroup\":\"survey (2017\\u002f2019)\",\"marker\":{\"color\":\"#00A7A0\",\"pattern\":{\"shape\":\"\"}},\"name\":\"survey (2017\\u002f2019)\",\"offsetgroup\":\"survey (2017\\u002f2019)\",\"orientation\":\"v\",\"showlegend\":true,\"textposition\":\"auto\",\"x\":[0,1,2,3,4,5,6,7,8,9,10,11,12,13,14,15,16,17,18,19,20,21,22,23],\"xaxis\":\"x6\",\"y\":[0.0003194358771437433,0.0,0.0,0.003915933127809463,0.018596827313290723,0.06531747755844082,0.12730961161607274,0.1563635618902739,0.13480339302852623,0.11100123399097277,0.0693835217174394,0.04801298829238188,0.08468353988160583,0.06140676184134154,0.0402190220906755,0.021683585521233763,0.02062596066573087,0.022245951244135746,0.004969524330944186,0.006987562137642107,0.0013776967224309357,0.000759400009744882,1.7011142163071547e-05,0.0],\"yaxis\":\"y6\",\"type\":\"bar\"},{\"alignmentgroup\":\"True\",\"customdata\":[[0.0,0.0],[0.0,0.0],[0.0,0.0],[0.0,0.0],[0.0,0.0],[7798.7927252851105,10.0],[55968.18646885951,85.0],[173543.1380981622,353.0],[169409.70186736702,445.0],[31020.70406844005,94.0],[9351.479790390278,42.0],[16041.150303537099,33.0],[15077.214049206706,65.0],[7117.495170882856,44.0],[14034.154744513226,44.0],[21930.428299663203,40.0],[13983.893805668844,41.0],[6723.105949528367,27.0],[163.98224951389415,7.0],[1246.7241287510394,5.0],[312.3021497864155,1.0],[2.722273883088835,1.0],[0.0,0.0],[0.0,0.0]],\"hovertemplate\":\"source=survey (2017\\u002f2019)\\u003cbr\\u003edpurp_label=School\\u003cbr\\u003edept_hr=%{x}\\u003cbr\\u003epercentage=%{y}\\u003cbr\\u003etrexpfac=%{customdata[0]}\\u003cbr\\u003esample_count=%{customdata[1]}\\u003cextra\\u003e\\u003c\\u002fextra\\u003e\",\"legendgroup\":\"survey (2017\\u002f2019)\",\"marker\":{\"color\":\"#00A7A0\",\"pattern\":{\"shape\":\"\"}},\"name\":\"survey (2017\\u002f2019)\",\"offsetgroup\":\"survey (2017\\u002f2019)\",\"orientation\":\"v\",\"showlegend\":false,\"textposition\":\"auto\",\"x\":[0,1,2,3,4,5,6,7,8,9,10,11,12,13,14,15,16,17,18,19,20,21,22,23],\"xaxis\":\"x5\",\"y\":[0.0,0.0,0.0,0.0,0.0,0.014343262124812349,0.10293469738854738,0.31917436549301914,0.31157229663147956,0.05705217530750599,0.01719890893542749,0.029502312946615,0.02772947568134903,0.013090243901093897,0.025811118116794554,0.04033366351584534,0.025718679986191748,0.012364897276257003,0.0003015903193539715,0.002292930663232971,0.000574375003198358,5.00670927617793e-06,0.0,0.0],\"yaxis\":\"y5\",\"type\":\"bar\"},{\"alignmentgroup\":\"True\",\"customdata\":[[71.40233287114344,2.0],[0.0,0.0],[0.0,0.0],[23.5581858798963,2.0],[2802.6843880997167,5.0],[1109.9758434620333,6.0],[7784.194658007579,25.0],[30616.494501955112,66.0],[56804.014109969656,103.0],[140177.01172875005,218.0],[229381.83447245148,339.0],[207637.3217551663,406.0],[216102.46067834963,356.0],[138305.7982016167,336.0],[214655.56994787918,394.0],[139782.17614622528,370.0],[140790.43860664466,416.0],[87565.950598798,412.0],[59293.27495145732,332.0],[68539.6578880813,251.0],[57268.43365745165,146.0],[34797.425988679424,64.0],[1151.6222472197308,18.0],[2123.9737065218605,7.0]],\"hovertemplate\":\"source=survey (2017\\u002f2019)\\u003cbr\\u003edpurp_label=Shop\\u003cbr\\u003edept_hr=%{x}\\u003cbr\\u003epercentage=%{y}\\u003cbr\\u003etrexpfac=%{customdata[0]}\\u003cbr\\u003esample_count=%{customdata[1]}\\u003cextra\\u003e\\u003c\\u002fextra\\u003e\",\"legendgroup\":\"survey (2017\\u002f2019)\",\"marker\":{\"color\":\"#00A7A0\",\"pattern\":{\"shape\":\"\"}},\"name\":\"survey (2017\\u002f2019)\",\"offsetgroup\":\"survey (2017\\u002f2019)\",\"orientation\":\"v\",\"showlegend\":false,\"textposition\":\"auto\",\"x\":[0,1,2,3,4,5,6,7,8,9,10,11,12,13,14,15,16,17,18,19,20,21,22,23],\"xaxis\":\"x4\",\"y\":[3.887353293752114e-05,0.0,0.0,1.2825770222425068e-05,0.0015258639247948409,0.0006043035398933342,0.004237944829844995,0.016668521315697557,0.030925778258146134,0.07631649364110739,0.12488222637943437,0.11304387324255324,0.11765254418534886,0.0752977498864541,0.11686481425824072,0.0761015335213886,0.07665046129991808,0.0476734824750161,0.03228100517329864,0.037315008366001746,0.031178621937756022,0.018944743552749714,0.0006269770686578045,0.0011563538405378179],\"yaxis\":\"y4\",\"type\":\"bar\"},{\"alignmentgroup\":\"True\",\"customdata\":[[0.0,0.0],[0.0,0.0],[0.0,0.0],[42.29917858051295,1.0],[69.8927379423395,1.0],[12182.338079748184,12.0],[15496.795572829991,39.0],[27331.1735562728,62.0],[23905.486578655666,78.0],[10783.718855342795,59.0],[19703.36107736938,81.0],[91959.21926120603,339.0],[158985.81087069996,410.0],[37951.12033504973,169.0],[22561.414515033743,130.0],[19554.929511799874,107.0],[46261.05809157212,178.0],[59740.65520962408,271.0],[88176.27020470444,307.0],[50974.11024511319,175.0],[37175.501569851986,97.0],[8391.118135102508,29.0],[5615.425782045304,15.0],[0.0,0.0]],\"hovertemplate\":\"source=survey (2017\\u002f2019)\\u003cbr\\u003edpurp_label=Meal\\u003cbr\\u003edept_hr=%{x}\\u003cbr\\u003epercentage=%{y}\\u003cbr\\u003etrexpfac=%{customdata[0]}\\u003cbr\\u003esample_count=%{customdata[1]}\\u003cextra\\u003e\\u003c\\u002fextra\\u003e\",\"legendgroup\":\"survey (2017\\u002f2019)\",\"marker\":{\"color\":\"#00A7A0\",\"pattern\":{\"shape\":\"\"}},\"name\":\"survey (2017\\u002f2019)\",\"offsetgroup\":\"survey (2017\\u002f2019)\",\"orientation\":\"v\",\"showlegend\":false,\"textposition\":\"auto\",\"x\":[0,1,2,3,4,5,6,7,8,9,10,11,12,13,14,15,16,17,18,19,20,21,22,23],\"xaxis\":\"x3\",\"y\":[0.0,0.0,0.0,5.740450157303783e-05,9.485190776265647e-05,0.016532733469778477,0.0210308061690681,0.03709132063682277,0.0324422976511624,0.014634657853141136,0.02673956468934974,0.12479847892760704,0.21576072010113054,0.051503722296289835,0.030618248355651814,0.02653812720698812,0.0627811950752979,0.08107444756705223,0.11966461315640005,0.0691773100553273,0.05045112481990802,0.011387643220285838,0.0076207323394029795,0.0],\"yaxis\":\"y3\",\"type\":\"bar\"},{\"alignmentgroup\":\"True\",\"customdata\":[[0.0,0.0],[0.0,0.0],[0.0,0.0],[0.0,0.0],[950.9693550395945,7.0],[17164.260372865,26.0],[46799.11908842117,85.0],[100829.26906986428,275.0],[150499.4464308631,340.0],[32866.885993210315,90.0],[17332.110561837137,52.0],[42301.59639573894,81.0],[22247.40294299082,84.0],[32762.54567701566,101.0],[94059.05859245232,146.0],[99248.0086484954,226.0],[74507.63012431223,249.0],[81375.57963004163,198.0],[48592.27369077669,108.0],[31358.17710711351,72.0],[23795.82813554957,70.0],[9012.834408279845,36.0],[307.5528570376318,17.0],[524.6280816611351,5.0]],\"hovertemplate\":\"source=survey (2017\\u002f2019)\\u003cbr\\u003edpurp_label=Escort\\u003cbr\\u003edept_hr=%{x}\\u003cbr\\u003epercentage=%{y}\\u003cbr\\u003etrexpfac=%{customdata[0]}\\u003cbr\\u003esample_count=%{customdata[1]}\\u003cextra\\u003e\\u003c\\u002fextra\\u003e\",\"legendgroup\":\"survey (2017\\u002f2019)\",\"marker\":{\"color\":\"#00A7A0\",\"pattern\":{\"shape\":\"\"}},\"name\":\"survey (2017\\u002f2019)\",\"offsetgroup\":\"survey (2017\\u002f2019)\",\"orientation\":\"v\",\"showlegend\":false,\"textposition\":\"auto\",\"x\":[0,1,2,3,4,5,6,7,8,9,10,11,12,13,14,15,16,17,18,19,20,21,22,23],\"xaxis\":\"x2\",\"y\":[0.0,0.0,0.0,0.0,0.0010263715598481965,0.018525211773837383,0.050509813595733,0.10882400534271823,0.16243252295243904,0.03547289601440373,0.01870637077687274,0.045655683063473396,0.024011395887954905,0.03536028257158327,0.10151698598254903,0.10711736704085724,0.08041532794513534,0.08782783604521038,0.05244514713357553,0.03384456184719438,0.02568259546107743,0.009727460576155506,0.0003319386728296209,0.0005662257565516261],\"yaxis\":\"y2\",\"type\":\"bar\"},{\"alignmentgroup\":\"True\",\"customdata\":[[0.0,0.0],[0.0,0.0],[0.0,0.0],[994.7917795725714,3.0],[586.647080499792,3.0],[5559.059366232365,20.0],[23604.72867778398,71.0],[53125.846403448384,142.0],[76226.66019139388,235.0],[132647.8211804782,300.0],[152590.96001360606,335.0],[128402.58510341661,285.0],[110516.35832413401,317.0],[70275.89029333487,297.0],[136841.24713602324,340.0],[109923.91460675646,296.0],[116774.77766907045,329.0],[100887.5299790586,256.0],[50940.61816713153,197.0],[28575.13097803148,96.0],[12083.84802175991,48.0],[2764.0629908122223,20.0],[3357.3836922187875,8.0],[18.2754935486296,1.0]],\"hovertemplate\":\"source=survey (2017\\u002f2019)\\u003cbr\\u003edpurp_label=Personal Business\\u003cbr\\u003edept_hr=%{x}\\u003cbr\\u003epercentage=%{y}\\u003cbr\\u003etrexpfac=%{customdata[0]}\\u003cbr\\u003esample_count=%{customdata[1]}\\u003cextra\\u003e\\u003c\\u002fextra\\u003e\",\"legendgroup\":\"survey (2017\\u002f2019)\",\"marker\":{\"color\":\"#00A7A0\",\"pattern\":{\"shape\":\"\"}},\"name\":\"survey (2017\\u002f2019)\",\"offsetgroup\":\"survey (2017\\u002f2019)\",\"orientation\":\"v\",\"showlegend\":false,\"textposition\":\"auto\",\"x\":[0,1,2,3,4,5,6,7,8,9,10,11,12,13,14,15,16,17,18,19,20,21,22,23],\"xaxis\":\"x\",\"y\":[0.0,0.0,0.0,0.0007555200022740813,0.0004455440954525421,0.004221969492773875,0.017927213544105713,0.04034777972611677,0.057892282248142767,0.10074277272675812,0.11588909842622365,0.09751861985732682,0.08393446850581024,0.053372818196232505,0.10392757707730359,0.08348452200656124,0.08868758478080616,0.07662160910894848,0.03868815237899407,0.02170211240665923,0.009177386737958749,0.0020992381722348256,0.0025498507193836895,1.3879789932877426e-05],\"yaxis\":\"y\",\"type\":\"bar\"}],                        {\"template\":{\"data\":{\"barpolar\":[{\"marker\":{\"line\":{\"color\":\"white\",\"width\":0.5},\"pattern\":{\"fillmode\":\"overlay\",\"size\":10,\"solidity\":0.2}},\"type\":\"barpolar\"}],\"bar\":[{\"error_x\":{\"color\":\"rgb(36,36,36)\"},\"error_y\":{\"color\":\"rgb(36,36,36)\"},\"marker\":{\"line\":{\"color\":\"white\",\"width\":0.5},\"pattern\":{\"fillmode\":\"overlay\",\"size\":10,\"solidity\":0.2}},\"type\":\"bar\"}],\"carpet\":[{\"aaxis\":{\"endlinecolor\":\"rgb(36,36,36)\",\"gridcolor\":\"white\",\"linecolor\":\"white\",\"minorgridcolor\":\"white\",\"startlinecolor\":\"rgb(36,36,36)\"},\"baxis\":{\"endlinecolor\":\"rgb(36,36,36)\",\"gridcolor\":\"white\",\"linecolor\":\"white\",\"minorgridcolor\":\"white\",\"startlinecolor\":\"rgb(36,36,36)\"},\"type\":\"carpet\"}],\"choropleth\":[{\"colorbar\":{\"outlinewidth\":1,\"tickcolor\":\"rgb(36,36,36)\",\"ticks\":\"outside\"},\"type\":\"choropleth\"}],\"contourcarpet\":[{\"colorbar\":{\"outlinewidth\":1,\"tickcolor\":\"rgb(36,36,36)\",\"ticks\":\"outside\"},\"type\":\"contourcarpet\"}],\"contour\":[{\"colorbar\":{\"outlinewidth\":1,\"tickcolor\":\"rgb(36,36,36)\",\"ticks\":\"outside\"},\"colorscale\":[[0.0,\"#440154\"],[0.1111111111111111,\"#482878\"],[0.2222222222222222,\"#3e4989\"],[0.3333333333333333,\"#31688e\"],[0.4444444444444444,\"#26828e\"],[0.5555555555555556,\"#1f9e89\"],[0.6666666666666666,\"#35b779\"],[0.7777777777777778,\"#6ece58\"],[0.8888888888888888,\"#b5de2b\"],[1.0,\"#fde725\"]],\"type\":\"contour\"}],\"heatmapgl\":[{\"colorbar\":{\"outlinewidth\":1,\"tickcolor\":\"rgb(36,36,36)\",\"ticks\":\"outside\"},\"colorscale\":[[0.0,\"#440154\"],[0.1111111111111111,\"#482878\"],[0.2222222222222222,\"#3e4989\"],[0.3333333333333333,\"#31688e\"],[0.4444444444444444,\"#26828e\"],[0.5555555555555556,\"#1f9e89\"],[0.6666666666666666,\"#35b779\"],[0.7777777777777778,\"#6ece58\"],[0.8888888888888888,\"#b5de2b\"],[1.0,\"#fde725\"]],\"type\":\"heatmapgl\"}],\"heatmap\":[{\"colorbar\":{\"outlinewidth\":1,\"tickcolor\":\"rgb(36,36,36)\",\"ticks\":\"outside\"},\"colorscale\":[[0.0,\"#440154\"],[0.1111111111111111,\"#482878\"],[0.2222222222222222,\"#3e4989\"],[0.3333333333333333,\"#31688e\"],[0.4444444444444444,\"#26828e\"],[0.5555555555555556,\"#1f9e89\"],[0.6666666666666666,\"#35b779\"],[0.7777777777777778,\"#6ece58\"],[0.8888888888888888,\"#b5de2b\"],[1.0,\"#fde725\"]],\"type\":\"heatmap\"}],\"histogram2dcontour\":[{\"colorbar\":{\"outlinewidth\":1,\"tickcolor\":\"rgb(36,36,36)\",\"ticks\":\"outside\"},\"colorscale\":[[0.0,\"#440154\"],[0.1111111111111111,\"#482878\"],[0.2222222222222222,\"#3e4989\"],[0.3333333333333333,\"#31688e\"],[0.4444444444444444,\"#26828e\"],[0.5555555555555556,\"#1f9e89\"],[0.6666666666666666,\"#35b779\"],[0.7777777777777778,\"#6ece58\"],[0.8888888888888888,\"#b5de2b\"],[1.0,\"#fde725\"]],\"type\":\"histogram2dcontour\"}],\"histogram2d\":[{\"colorbar\":{\"outlinewidth\":1,\"tickcolor\":\"rgb(36,36,36)\",\"ticks\":\"outside\"},\"colorscale\":[[0.0,\"#440154\"],[0.1111111111111111,\"#482878\"],[0.2222222222222222,\"#3e4989\"],[0.3333333333333333,\"#31688e\"],[0.4444444444444444,\"#26828e\"],[0.5555555555555556,\"#1f9e89\"],[0.6666666666666666,\"#35b779\"],[0.7777777777777778,\"#6ece58\"],[0.8888888888888888,\"#b5de2b\"],[1.0,\"#fde725\"]],\"type\":\"histogram2d\"}],\"histogram\":[{\"marker\":{\"line\":{\"color\":\"white\",\"width\":0.6}},\"type\":\"histogram\"}],\"mesh3d\":[{\"colorbar\":{\"outlinewidth\":1,\"tickcolor\":\"rgb(36,36,36)\",\"ticks\":\"outside\"},\"type\":\"mesh3d\"}],\"parcoords\":[{\"line\":{\"colorbar\":{\"outlinewidth\":1,\"tickcolor\":\"rgb(36,36,36)\",\"ticks\":\"outside\"}},\"type\":\"parcoords\"}],\"pie\":[{\"automargin\":true,\"type\":\"pie\"}],\"scatter3d\":[{\"line\":{\"colorbar\":{\"outlinewidth\":1,\"tickcolor\":\"rgb(36,36,36)\",\"ticks\":\"outside\"}},\"marker\":{\"colorbar\":{\"outlinewidth\":1,\"tickcolor\":\"rgb(36,36,36)\",\"ticks\":\"outside\"}},\"type\":\"scatter3d\"}],\"scattercarpet\":[{\"marker\":{\"colorbar\":{\"outlinewidth\":1,\"tickcolor\":\"rgb(36,36,36)\",\"ticks\":\"outside\"}},\"type\":\"scattercarpet\"}],\"scattergeo\":[{\"marker\":{\"colorbar\":{\"outlinewidth\":1,\"tickcolor\":\"rgb(36,36,36)\",\"ticks\":\"outside\"}},\"type\":\"scattergeo\"}],\"scattergl\":[{\"marker\":{\"colorbar\":{\"outlinewidth\":1,\"tickcolor\":\"rgb(36,36,36)\",\"ticks\":\"outside\"}},\"type\":\"scattergl\"}],\"scattermapbox\":[{\"marker\":{\"colorbar\":{\"outlinewidth\":1,\"tickcolor\":\"rgb(36,36,36)\",\"ticks\":\"outside\"}},\"type\":\"scattermapbox\"}],\"scatterpolargl\":[{\"marker\":{\"colorbar\":{\"outlinewidth\":1,\"tickcolor\":\"rgb(36,36,36)\",\"ticks\":\"outside\"}},\"type\":\"scatterpolargl\"}],\"scatterpolar\":[{\"marker\":{\"colorbar\":{\"outlinewidth\":1,\"tickcolor\":\"rgb(36,36,36)\",\"ticks\":\"outside\"}},\"type\":\"scatterpolar\"}],\"scatter\":[{\"fillpattern\":{\"fillmode\":\"overlay\",\"size\":10,\"solidity\":0.2},\"type\":\"scatter\"}],\"scatterternary\":[{\"marker\":{\"colorbar\":{\"outlinewidth\":1,\"tickcolor\":\"rgb(36,36,36)\",\"ticks\":\"outside\"}},\"type\":\"scatterternary\"}],\"surface\":[{\"colorbar\":{\"outlinewidth\":1,\"tickcolor\":\"rgb(36,36,36)\",\"ticks\":\"outside\"},\"colorscale\":[[0.0,\"#440154\"],[0.1111111111111111,\"#482878\"],[0.2222222222222222,\"#3e4989\"],[0.3333333333333333,\"#31688e\"],[0.4444444444444444,\"#26828e\"],[0.5555555555555556,\"#1f9e89\"],[0.6666666666666666,\"#35b779\"],[0.7777777777777778,\"#6ece58\"],[0.8888888888888888,\"#b5de2b\"],[1.0,\"#fde725\"]],\"type\":\"surface\"}],\"table\":[{\"cells\":{\"fill\":{\"color\":\"rgb(237,237,237)\"},\"line\":{\"color\":\"white\"}},\"header\":{\"fill\":{\"color\":\"rgb(217,217,217)\"},\"line\":{\"color\":\"white\"}},\"type\":\"table\"}]},\"layout\":{\"annotationdefaults\":{\"arrowhead\":0,\"arrowwidth\":1},\"autotypenumbers\":\"strict\",\"coloraxis\":{\"colorbar\":{\"outlinewidth\":1,\"tickcolor\":\"rgb(36,36,36)\",\"ticks\":\"outside\"}},\"colorscale\":{\"diverging\":[[0.0,\"rgb(103,0,31)\"],[0.1,\"rgb(178,24,43)\"],[0.2,\"rgb(214,96,77)\"],[0.3,\"rgb(244,165,130)\"],[0.4,\"rgb(253,219,199)\"],[0.5,\"rgb(247,247,247)\"],[0.6,\"rgb(209,229,240)\"],[0.7,\"rgb(146,197,222)\"],[0.8,\"rgb(67,147,195)\"],[0.9,\"rgb(33,102,172)\"],[1.0,\"rgb(5,48,97)\"]],\"sequential\":[[0.0,\"#440154\"],[0.1111111111111111,\"#482878\"],[0.2222222222222222,\"#3e4989\"],[0.3333333333333333,\"#31688e\"],[0.4444444444444444,\"#26828e\"],[0.5555555555555556,\"#1f9e89\"],[0.6666666666666666,\"#35b779\"],[0.7777777777777778,\"#6ece58\"],[0.8888888888888888,\"#b5de2b\"],[1.0,\"#fde725\"]],\"sequentialminus\":[[0.0,\"#440154\"],[0.1111111111111111,\"#482878\"],[0.2222222222222222,\"#3e4989\"],[0.3333333333333333,\"#31688e\"],[0.4444444444444444,\"#26828e\"],[0.5555555555555556,\"#1f9e89\"],[0.6666666666666666,\"#35b779\"],[0.7777777777777778,\"#6ece58\"],[0.8888888888888888,\"#b5de2b\"],[1.0,\"#fde725\"]]},\"colorway\":[\"#91268F\",\"#8CC63E\",\"#00A7A0\",\"#F05A28\",\"#4C4C4C\",\"#630460\",\"#9f3913\",\"#588527\",\"#00716c\",\"#3e4040\"],\"font\":{\"color\":\"rgb(36,36,36)\",\"family\":\"Poppins\",\"size\":11},\"geo\":{\"bgcolor\":\"white\",\"lakecolor\":\"white\",\"landcolor\":\"white\",\"showlakes\":true,\"showland\":true,\"subunitcolor\":\"white\"},\"hoverlabel\":{\"align\":\"left\"},\"hovermode\":\"closest\",\"mapbox\":{\"style\":\"light\"},\"paper_bgcolor\":\"white\",\"plot_bgcolor\":\"white\",\"polar\":{\"angularaxis\":{\"gridcolor\":\"rgb(232,232,232)\",\"linecolor\":\"rgb(36,36,36)\",\"showgrid\":false,\"showline\":true,\"ticks\":\"outside\"},\"bgcolor\":\"white\",\"radialaxis\":{\"gridcolor\":\"rgb(232,232,232)\",\"linecolor\":\"rgb(36,36,36)\",\"showgrid\":false,\"showline\":true,\"ticks\":\"outside\"}},\"scene\":{\"xaxis\":{\"backgroundcolor\":\"white\",\"gridcolor\":\"rgb(232,232,232)\",\"gridwidth\":2,\"linecolor\":\"rgb(36,36,36)\",\"showbackground\":true,\"showgrid\":false,\"showline\":true,\"ticks\":\"outside\",\"zeroline\":false,\"zerolinecolor\":\"rgb(36,36,36)\"},\"yaxis\":{\"backgroundcolor\":\"white\",\"gridcolor\":\"rgb(232,232,232)\",\"gridwidth\":2,\"linecolor\":\"rgb(36,36,36)\",\"showbackground\":true,\"showgrid\":false,\"showline\":true,\"ticks\":\"outside\",\"zeroline\":false,\"zerolinecolor\":\"rgb(36,36,36)\"},\"zaxis\":{\"backgroundcolor\":\"white\",\"gridcolor\":\"rgb(232,232,232)\",\"gridwidth\":2,\"linecolor\":\"rgb(36,36,36)\",\"showbackground\":true,\"showgrid\":false,\"showline\":true,\"ticks\":\"outside\",\"zeroline\":false,\"zerolinecolor\":\"rgb(36,36,36)\"}},\"shapedefaults\":{\"fillcolor\":\"black\",\"line\":{\"width\":0},\"opacity\":0.3},\"ternary\":{\"aaxis\":{\"gridcolor\":\"rgb(232,232,232)\",\"linecolor\":\"rgb(36,36,36)\",\"showgrid\":false,\"showline\":true,\"ticks\":\"outside\"},\"baxis\":{\"gridcolor\":\"rgb(232,232,232)\",\"linecolor\":\"rgb(36,36,36)\",\"showgrid\":false,\"showline\":true,\"ticks\":\"outside\"},\"bgcolor\":\"white\",\"caxis\":{\"gridcolor\":\"rgb(232,232,232)\",\"linecolor\":\"rgb(36,36,36)\",\"showgrid\":false,\"showline\":true,\"ticks\":\"outside\"}},\"title\":{\"x\":0.05},\"xaxis\":{\"automargin\":true,\"gridcolor\":\"rgb(232,232,232)\",\"linecolor\":\"rgb(36,36,36)\",\"showgrid\":false,\"showline\":true,\"ticks\":\"outside\",\"title\":{\"standoff\":15},\"zeroline\":false,\"zerolinecolor\":\"rgb(36,36,36)\"},\"yaxis\":{\"automargin\":true,\"gridcolor\":\"rgb(232,232,232)\",\"linecolor\":\"rgb(36,36,36)\",\"showgrid\":false,\"showline\":true,\"ticks\":\"outside\",\"title\":{\"standoff\":15},\"zeroline\":false,\"zerolinecolor\":\"rgb(36,36,36)\"}}},\"xaxis\":{\"anchor\":\"y\",\"domain\":[0.0,0.98],\"title\":{\"text\":\"dept_hr\"},\"dtick\":1,\"categoryorder\":\"category ascending\"},\"yaxis\":{\"anchor\":\"x\",\"domain\":[0.0,0.14166666666666666],\"title\":{\"text\":\"percentage\"},\"tickformat\":\".0%\"},\"xaxis2\":{\"anchor\":\"y2\",\"domain\":[0.0,0.98],\"matches\":\"x\",\"showticklabels\":false,\"dtick\":1,\"categoryorder\":\"category ascending\"},\"yaxis2\":{\"anchor\":\"x2\",\"domain\":[0.17166666666666666,0.31333333333333335],\"matches\":\"y\",\"title\":{\"text\":\"percentage\"},\"tickformat\":\".0%\"},\"xaxis3\":{\"anchor\":\"y3\",\"domain\":[0.0,0.98],\"matches\":\"x\",\"showticklabels\":false,\"dtick\":1,\"categoryorder\":\"category ascending\"},\"yaxis3\":{\"anchor\":\"x3\",\"domain\":[0.3433333333333333,0.485],\"matches\":\"y\",\"title\":{\"text\":\"percentage\"},\"tickformat\":\".0%\"},\"xaxis4\":{\"anchor\":\"y4\",\"domain\":[0.0,0.98],\"matches\":\"x\",\"showticklabels\":false,\"dtick\":1,\"categoryorder\":\"category ascending\"},\"yaxis4\":{\"anchor\":\"x4\",\"domain\":[0.515,0.6566666666666667],\"matches\":\"y\",\"title\":{\"text\":\"percentage\"},\"tickformat\":\".0%\"},\"xaxis5\":{\"anchor\":\"y5\",\"domain\":[0.0,0.98],\"matches\":\"x\",\"showticklabels\":false,\"dtick\":1,\"categoryorder\":\"category ascending\"},\"yaxis5\":{\"anchor\":\"x5\",\"domain\":[0.6866666666666666,0.8283333333333334],\"matches\":\"y\",\"title\":{\"text\":\"percentage\"},\"tickformat\":\".0%\"},\"xaxis6\":{\"anchor\":\"y6\",\"domain\":[0.0,0.98],\"matches\":\"x\",\"showticklabels\":false,\"dtick\":1,\"categoryorder\":\"category ascending\"},\"yaxis6\":{\"anchor\":\"x6\",\"domain\":[0.8583333333333333,1.0],\"matches\":\"y\",\"title\":{\"text\":\"percentage\"},\"tickformat\":\".0%\"},\"annotations\":[{\"font\":{},\"showarrow\":false,\"text\":\"Personal Business\",\"textangle\":90,\"x\":0.98,\"xanchor\":\"left\",\"xref\":\"paper\",\"y\":0.07083333333333333,\"yanchor\":\"middle\",\"yref\":\"paper\"},{\"font\":{},\"showarrow\":false,\"text\":\"Escort\",\"textangle\":90,\"x\":0.98,\"xanchor\":\"left\",\"xref\":\"paper\",\"y\":0.2425,\"yanchor\":\"middle\",\"yref\":\"paper\"},{\"font\":{},\"showarrow\":false,\"text\":\"Meal\",\"textangle\":90,\"x\":0.98,\"xanchor\":\"left\",\"xref\":\"paper\",\"y\":0.4141666666666667,\"yanchor\":\"middle\",\"yref\":\"paper\"},{\"font\":{},\"showarrow\":false,\"text\":\"Shop\",\"textangle\":90,\"x\":0.98,\"xanchor\":\"left\",\"xref\":\"paper\",\"y\":0.5858333333333334,\"yanchor\":\"middle\",\"yref\":\"paper\"},{\"font\":{},\"showarrow\":false,\"text\":\"School\",\"textangle\":90,\"x\":0.98,\"xanchor\":\"left\",\"xref\":\"paper\",\"y\":0.7575000000000001,\"yanchor\":\"middle\",\"yref\":\"paper\"},{\"font\":{},\"showarrow\":false,\"text\":\"Work\",\"textangle\":90,\"x\":0.98,\"xanchor\":\"left\",\"xref\":\"paper\",\"y\":0.9291666666666667,\"yanchor\":\"middle\",\"yref\":\"paper\"}],\"legend\":{\"title\":{\"text\":\"source\"},\"tracegroupgap\":0},\"title\":{\"text\":\"trip origin departure hour by purpose\"},\"barmode\":\"group\",\"height\":1500,\"width\":850},                        {\"responsive\": true}                    ).then(function(){\n",
       "                            \n",
       "var gd = document.getElementById('3a88d95d-430d-4d6a-b510-bdbca494eb6f');\n",
       "var x = new MutationObserver(function (mutations, observer) {{\n",
       "        var display = window.getComputedStyle(gd).display;\n",
       "        if (!display || display === 'none') {{\n",
       "            console.log([gd, 'removed!']);\n",
       "            Plotly.purge(gd);\n",
       "            observer.disconnect();\n",
       "        }}\n",
       "}});\n",
       "\n",
       "// Listen for the removal of the full notebook cells\n",
       "var notebookContainer = gd.closest('#notebook-container');\n",
       "if (notebookContainer) {{\n",
       "    x.observe(notebookContainer, {childList: true});\n",
       "}}\n",
       "\n",
       "// Listen for the clearing of the current output cell\n",
       "var outputEl = gd.closest('.output');\n",
       "if (outputEl) {{\n",
       "    x.observe(outputEl, {childList: true});\n",
       "}}\n",
       "\n",
       "                        })                };                });            </script>        </div>"
      ]
     },
     "metadata": {},
     "output_type": "display_data"
    }
   ],
   "source": [
    "df_plot = df_trip.groupby(['dept_hr','dpurp_label','source'])['trexpfac'].agg(sample_count='size', trexpfac='sum').reset_index()\n",
    "df_plot['percentage'] = df_plot.groupby(['dpurp_label','source'], group_keys=False)['trexpfac']. \\\n",
    "    apply(lambda x: x / float(x.sum()))\n",
    "\n",
    "fig = px.bar(df_plot.sort_values(['source','dpurp_label']),\n",
    "             x=\"dept_hr\", y=\"percentage\", color=\"source\",barmode=\"group\",\n",
    "             facet_row='dpurp_label',\n",
    "             hover_data=['trexpfac','sample_count'],\n",
    "             title=\"trip origin departure hour by purpose\")\n",
    "fig.update_layout(height=1500, width=850)\n",
    "fig.for_each_annotation(lambda a: a.update(text = a.text.split(\"=\")[-1]))\n",
    "fig.for_each_xaxis(lambda a: a.update(dict(dtick = 1, categoryorder='category ascending')))\n",
    "fig.for_each_yaxis(lambda a: a.update(dict(tickformat=\".0%\")))\n",
    "fig.show()"
   ]
  },
  {
   "cell_type": "raw",
   "metadata": {
    "vscode": {
     "languageId": "raw"
    }
   },
   "source": [
    ":::"
   ]
  }
 ],
 "metadata": {
  "kernelspec": {
   "display_name": "build_notebook",
   "language": "python",
   "name": "python3"
  },
  "language_info": {
   "codemirror_mode": {
    "name": "ipython",
    "version": 3
   },
   "file_extension": ".py",
   "mimetype": "text/x-python",
   "name": "python",
   "nbconvert_exporter": "python",
   "pygments_lexer": "ipython3",
   "version": "3.10.15"
  }
 },
 "nbformat": 4,
 "nbformat_minor": 2
}
