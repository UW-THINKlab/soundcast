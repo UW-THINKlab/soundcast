{
 "cells": [
  {
   "cell_type": "raw",
   "metadata": {},
   "source": [
    "---\n",
    "title: \"Time Choice\"\n",
    "date: today\n",
    "---"
   ]
  },
  {
   "cell_type": "code",
   "execution_count": 1,
   "metadata": {
    "ExecuteTime": {
     "end_time": "2024-07-15T04:25:53.491736Z",
     "start_time": "2024-07-15T04:25:52.116355Z"
    },
    "execution": {
     "iopub.execute_input": "2025-05-09T00:07:20.084105Z",
     "iopub.status.busy": "2025-05-09T00:07:20.082505Z",
     "iopub.status.idle": "2025-05-09T00:07:23.555979Z",
     "shell.execute_reply": "2025-05-09T00:07:23.554977Z"
    }
   },
   "outputs": [],
   "source": [
    "import os\n",
    "import pandas as pd\n",
    "import numpy as np\n",
    "# import validation_data_input\n",
    "import plotly.express as px\n",
    "import toml\n",
    "import polars as pl\n",
    "from pathlib import Path\n",
    "import util\n",
    "import math\n",
    "import psrc_theme\n",
    "\n",
    "# to show plotly figures in quarto HTML file\n",
    "import plotly.io as pio\n",
    "pio.renderers.default = \"plotly_mimetype+notebook_connected\"\n",
    "pio.templates.default = \"simple_white+psrc_color\" # set plotly template"
   ]
  },
  {
   "cell_type": "code",
   "execution_count": 2,
   "metadata": {
    "ExecuteTime": {
     "end_time": "2024-07-15T04:26:18.475538Z",
     "start_time": "2024-07-15T04:25:57.037934Z"
    },
    "execution": {
     "iopub.execute_input": "2025-05-09T00:07:23.560966Z",
     "iopub.status.busy": "2025-05-09T00:07:23.559968Z",
     "iopub.status.idle": "2025-05-09T00:07:29.230564Z",
     "shell.execute_reply": "2025-05-09T00:07:29.229569Z"
    }
   },
   "outputs": [],
   "source": [
    "# %store -r validation_data\n",
    "\n",
    "# config = validation_data.config.copy()\n",
    "# tour = validation_data.tour.copy()\n",
    "# trip = validation_data.trip.copy()\n",
    "\n",
    "config = toml.load(Path(Path.cwd(), '..\\..\\..\\..\\configuration', 'validation_configuration.toml'))\n",
    "input_config = toml.load(Path(Path.cwd(), '..\\..\\..\\..\\configuration', 'input_configuration.toml'))\n",
    "\n",
    "data = util.ValidationData(config,input_config,['trip', 'tour'])\n",
    "\n",
    "tour = data.tour.to_pandas()\n",
    "trip = data.trip.to_pandas()"
   ]
  },
  {
   "cell_type": "code",
   "execution_count": 3,
   "metadata": {
    "ExecuteTime": {
     "end_time": "2024-07-15T04:36:01.318077Z",
     "start_time": "2024-07-15T04:35:58.005548Z"
    },
    "collapsed": false,
    "execution": {
     "iopub.execute_input": "2025-05-09T00:07:29.241535Z",
     "iopub.status.busy": "2025-05-09T00:07:29.240538Z",
     "iopub.status.idle": "2025-05-09T00:07:51.680708Z",
     "shell.execute_reply": "2025-05-09T00:07:51.679708Z"
    }
   },
   "outputs": [],
   "source": [
    "# df_person = person.copy()\n",
    "df_tour = tour.copy()\n",
    "df_trip = trip.copy()\n",
    "\n",
    "# ptype_cat = {1: \"1: full time worker\",\n",
    "#              2: \"2: part time worker\",\n",
    "#              3: \"3: non-worker age 65+\",\n",
    "#              4: \"4: other non-working adult\",\n",
    "#              5: \"5: university student\",\n",
    "#              6: \"6: grade school student/child age 16+\",\n",
    "#              7: \"7: child age 5-15\",\n",
    "#              8: \"8: child age 0-4\"}\n",
    "pdpurp_cat = {1: \"Work\",\n",
    "              2: \"School\",\n",
    "              3: \"Escort\",\n",
    "              4: \"Personal Business\",\n",
    "              5: \"Shop\",\n",
    "              6: \"Meal\",\n",
    "              7: \"Social\",\n",
    "              8: \"Social\",\n",
    "              9: \"Personal Business\"}\n",
    "# df_person['pptyp_label'] = df_person['pptyp'].map(ptype_cat)\n",
    "# df_person['pptyp_label'] = df_person['pptyp_label'].astype(pd.CategoricalDtype([\"1: full time worker\",\"2: part time worker\",\"3: non-worker age 65+\",\"4: other non-working adult\",\"5: university student\",\"6: grade school student/child age 16+\",\"7: child age 5-15\",\"8: child age 0-4\"]))\n",
    "\n",
    "df_tour['pdpurp_label'] = df_tour['pdpurp'].map(pdpurp_cat)\n",
    "df_tour['pdpurp_label'] = df_tour['pdpurp_label'].astype(pd.CategoricalDtype([\"Work\",\"School\",\"Shop\",\"Meal\",\"Escort\",\"Personal Business\"]))\n",
    "\n",
    "df_tour['tlvorg_hr'] = df_tour['tlvorig'].apply(lambda row: int(math.floor(row/60)))\n",
    "\n",
    "\n",
    "df_trip['dpurp_label'] = df_trip['dpurp'].map(pdpurp_cat)\n",
    "df_trip['dpurp_label'] = df_trip['dpurp_label'].astype(pd.CategoricalDtype([\"Work\",\"School\",\"Shop\",\"Meal\",\"Escort\",\"Personal Business\"]))\n",
    "\n",
    "df_trip['dept_hr'] = df_trip['deptm'].apply(lambda row: int(math.floor(row/60)))\n",
    "\n",
    "# df_tour = df_tour.merge(df_person, how='left', on=['pno','hhno','source'])"
   ]
  },
  {
   "cell_type": "markdown",
   "metadata": {},
   "source": [
    "## departure hour"
   ]
  },
  {
   "cell_type": "raw",
   "metadata": {
    "vscode": {
     "languageId": "raw"
    }
   },
   "source": [
    ":::{.panel-tabset}\n",
    "### tour"
   ]
  },
  {
   "cell_type": "code",
   "execution_count": 4,
   "metadata": {
    "ExecuteTime": {
     "end_time": "2024-07-15T04:37:09.021826Z",
     "start_time": "2024-07-15T04:37:08.286683Z"
    },
    "collapsed": false,
    "execution": {
     "iopub.execute_input": "2025-05-09T00:07:51.693675Z",
     "iopub.status.busy": "2025-05-09T00:07:51.691680Z",
     "iopub.status.idle": "2025-05-09T00:07:52.882573Z",
     "shell.execute_reply": "2025-05-09T00:07:52.880574Z"
    }
   },
   "outputs": [
    {
     "data": {
      "text/html": [
       "        <script type=\"text/javascript\">\n",
       "        window.PlotlyConfig = {MathJaxConfig: 'local'};\n",
       "        if (window.MathJax && window.MathJax.Hub && window.MathJax.Hub.Config) {window.MathJax.Hub.Config({SVG: {font: \"STIX-Web\"}});}\n",
       "        </script>\n",
       "        <script type=\"module\">import \"https://cdn.plot.ly/plotly-3.0.1.min\"</script>\n",
       "        "
      ]
     },
     "metadata": {},
     "output_type": "display_data"
    },
    {
     "data": {
      "application/vnd.plotly.v1+json": {
       "config": {
        "plotlyServerURL": "https://plot.ly"
       },
       "data": [
        {
         "alignmentgroup": "True",
         "customdata": {
          "bdata": "AAAAAACgrkAAAAAAAKCuQAAAAAAA9qNAAAAAAAD2o0AAAAAAAFCQQAAAAAAAUJBAAAAAAPBW8UAAAAAA8FbxQAAAAACAsu5AAAAAAICy7kAAAAAAgB8BQQAAAACAHwFBAAAAANzFGEEAAAAA3MUYQQAAAABq8SNBAAAAAGrxI0EAAAAAilglQQAAAACKWCVBAAAAALiWIEEAAAAAuJYgQQAAAABkvRpBAAAAAGS9GkEAAAAAgJEVQQAAAACAkRVBAAAAAASyE0EAAAAABLITQQAAAABAThNBAAAAAEBOE0EAAAAA4FIRQQAAAADgUhFBAAAAAIRJEEEAAAAAhEkQQQAAAACwRRJBAAAAALBFEkEAAAAADKARQQAAAAAMoBFBAAAAAKidEEEAAAAAqJ0QQQAAAAC4kwRBAAAAALiTBEEAAAAAAA7+QAAAAAAADv5AAAAAAMAK8kAAAAAAwAryQAAAAADAudJAAAAAAMC50kAAAAAAAHLCQAAAAAAAcsJA",
          "dtype": "f8",
          "shape": "24, 2"
         },
         "hovertemplate": "source=model<br>tlvorg_hr=%{x}<br>percentage=%{y}<br>toexpfac=%{customdata[0]}<br>sample_count=%{customdata[1]}<extra></extra>",
         "legendgroup": "model",
         "marker": {
          "color": "#91268F",
          "pattern": {
           "shape": ""
          }
         },
         "name": "model",
         "offsetgroup": "model",
         "orientation": "v",
         "showlegend": true,
         "textposition": "auto",
         "type": "bar",
         "x": {
          "bdata": "AAECAwQFBgcICQoLDA0ODxAREhMUFRYX",
          "dtype": "i1"
         },
         "xaxis": "x",
         "y": {
          "bdata": "oTCplTwSRj9A1s6wfMU8Pyo8EVE7gyc/g2mt8zn+iD8Ms+7JkR+GP4QR+MlRrpg/kZlwWYnasT8bZ5+A4L68P0m8RdmDxL4/GmJmLyrptz+JGDeebUWzP8qUDCeeFq8/zyACy35jrD+xaIHFsdOrP9QS1Ohe+Kg/fwVKneJ5pz9FsvSEW1aqPy6U+vKaZ6k/6oOaFirzpz8bWNQg0qidP1eFOPIDqZU/HW6v32cBij8AjssBpv1qP8QkxZw6llo/",
          "dtype": "f8"
         },
         "yaxis": "y"
        },
        {
         "alignmentgroup": "True",
         "customdata": {
          "bdata": "IMoFtQ9oiUAAAAAAAAAIQDJIgiVzd3VAAAAAAAAAAEDD3qmNrE+DQAAAAAAAAAhAz1lmmt4nzUAAAAAAAAA5QBNm0wfd2PFAAAAAAACAU0BCdRYFovkDQQAAAAAA4GdAlP/qiZB8FEEAAAAAAEiBQNRSZ0x2TSZBAAAAAABAk0AnlHw/ikYlQQAAAAAAeJRARtupF1F8GkEAAAAAAEiLQDUobUnKIQ9BAAAAAAAgh0AAq31C8k4QQQAAAAAAiINAczKhVTO6DEEAAAAAAFCEQFKovC8O3ghBAAAAAACggUAReRPB0TISQQAAAAAA0IJAk6db/6kVFEEAAAAAAKiDQMbuuz1mEw9BAAAAAAAAgkAv8b7vYQYUQQAAAAAAEIdAg82GecejCkEAAAAAANiAQIf3pqnB1wBBAAAAAACQdkBzGs8gnvbjQAAAAAAAoGJAYmDudsXGwEAAAAAAAABSQO81hKM3atJAAAAAAAAAQEB2/oGSxlSvQAAAAAAAACRA",
          "dtype": "f8",
          "shape": "24, 2"
         },
         "hovertemplate": "source=survey<br>tlvorg_hr=%{x}<br>percentage=%{y}<br>toexpfac=%{customdata[0]}<br>sample_count=%{customdata[1]}<extra></extra>",
         "legendgroup": "survey",
         "marker": {
          "color": "#8CC63E",
          "pattern": {
           "shape": ""
          }
         },
         "name": "survey",
         "offsetgroup": "survey",
         "orientation": "v",
         "showlegend": true,
         "textposition": "auto",
         "type": "bar",
         "x": {
          "bdata": "AAECAwQFBgcICQoLDA0ODxAREhMUFRYX",
          "dtype": "i1"
         },
         "xaxis": "x",
         "y": {
          "bdata": "KbVaxDUZJT8s87NFn9MRP+U19UxoCSA/pXwFEUU2aD8KTixOTaSNPxsTdSaMlqA/sbnxJkcDsT/dPw2GWIXCP0uYAnYBq8E/VZU3Y5/+tT8GZn+eZ9qpP2Tff0QOFqs/tKacVjLbpz/NzdXXmqakPzP/Whe1Oa4/5ZMTWNOtsD+8pMpAdM6pP9NkMqAiobA/XshQxmQfpj+yGVuxR/mbP9A4piQLlIA/yh1I4xHdWz9SbZNmt5VuP9ajq7a+BEo/",
          "dtype": "f8"
         },
         "yaxis": "y"
        }
       ],
       "layout": {
        "barmode": "group",
        "font": {
         "size": 11
        },
        "height": 400,
        "legend": {
         "title": {
          "text": "source"
         },
         "tracegroupgap": 0
        },
        "template": {
         "data": {
          "bar": [
           {
            "error_x": {
             "color": "rgb(36,36,36)"
            },
            "error_y": {
             "color": "rgb(36,36,36)"
            },
            "marker": {
             "line": {
              "color": "white",
              "width": 0.5
             },
             "pattern": {
              "fillmode": "overlay",
              "size": 10,
              "solidity": 0.2
             }
            },
            "type": "bar"
           }
          ],
          "barpolar": [
           {
            "marker": {
             "line": {
              "color": "white",
              "width": 0.5
             },
             "pattern": {
              "fillmode": "overlay",
              "size": 10,
              "solidity": 0.2
             }
            },
            "type": "barpolar"
           }
          ],
          "carpet": [
           {
            "aaxis": {
             "endlinecolor": "rgb(36,36,36)",
             "gridcolor": "white",
             "linecolor": "white",
             "minorgridcolor": "white",
             "startlinecolor": "rgb(36,36,36)"
            },
            "baxis": {
             "endlinecolor": "rgb(36,36,36)",
             "gridcolor": "white",
             "linecolor": "white",
             "minorgridcolor": "white",
             "startlinecolor": "rgb(36,36,36)"
            },
            "type": "carpet"
           }
          ],
          "choropleth": [
           {
            "colorbar": {
             "outlinewidth": 1,
             "tickcolor": "rgb(36,36,36)",
             "ticks": "outside"
            },
            "type": "choropleth"
           }
          ],
          "contour": [
           {
            "colorbar": {
             "outlinewidth": 1,
             "tickcolor": "rgb(36,36,36)",
             "ticks": "outside"
            },
            "colorscale": [
             [
              0.0,
              "#440154"
             ],
             [
              0.1111111111111111,
              "#482878"
             ],
             [
              0.2222222222222222,
              "#3e4989"
             ],
             [
              0.3333333333333333,
              "#31688e"
             ],
             [
              0.4444444444444444,
              "#26828e"
             ],
             [
              0.5555555555555556,
              "#1f9e89"
             ],
             [
              0.6666666666666666,
              "#35b779"
             ],
             [
              0.7777777777777778,
              "#6ece58"
             ],
             [
              0.8888888888888888,
              "#b5de2b"
             ],
             [
              1.0,
              "#fde725"
             ]
            ],
            "type": "contour"
           }
          ],
          "contourcarpet": [
           {
            "colorbar": {
             "outlinewidth": 1,
             "tickcolor": "rgb(36,36,36)",
             "ticks": "outside"
            },
            "type": "contourcarpet"
           }
          ],
          "heatmap": [
           {
            "colorbar": {
             "outlinewidth": 1,
             "tickcolor": "rgb(36,36,36)",
             "ticks": "outside"
            },
            "colorscale": [
             [
              0.0,
              "#440154"
             ],
             [
              0.1111111111111111,
              "#482878"
             ],
             [
              0.2222222222222222,
              "#3e4989"
             ],
             [
              0.3333333333333333,
              "#31688e"
             ],
             [
              0.4444444444444444,
              "#26828e"
             ],
             [
              0.5555555555555556,
              "#1f9e89"
             ],
             [
              0.6666666666666666,
              "#35b779"
             ],
             [
              0.7777777777777778,
              "#6ece58"
             ],
             [
              0.8888888888888888,
              "#b5de2b"
             ],
             [
              1.0,
              "#fde725"
             ]
            ],
            "type": "heatmap"
           }
          ],
          "histogram": [
           {
            "marker": {
             "line": {
              "color": "white",
              "width": 0.6
             }
            },
            "type": "histogram"
           }
          ],
          "histogram2d": [
           {
            "colorbar": {
             "outlinewidth": 1,
             "tickcolor": "rgb(36,36,36)",
             "ticks": "outside"
            },
            "colorscale": [
             [
              0.0,
              "#440154"
             ],
             [
              0.1111111111111111,
              "#482878"
             ],
             [
              0.2222222222222222,
              "#3e4989"
             ],
             [
              0.3333333333333333,
              "#31688e"
             ],
             [
              0.4444444444444444,
              "#26828e"
             ],
             [
              0.5555555555555556,
              "#1f9e89"
             ],
             [
              0.6666666666666666,
              "#35b779"
             ],
             [
              0.7777777777777778,
              "#6ece58"
             ],
             [
              0.8888888888888888,
              "#b5de2b"
             ],
             [
              1.0,
              "#fde725"
             ]
            ],
            "type": "histogram2d"
           }
          ],
          "histogram2dcontour": [
           {
            "colorbar": {
             "outlinewidth": 1,
             "tickcolor": "rgb(36,36,36)",
             "ticks": "outside"
            },
            "colorscale": [
             [
              0.0,
              "#440154"
             ],
             [
              0.1111111111111111,
              "#482878"
             ],
             [
              0.2222222222222222,
              "#3e4989"
             ],
             [
              0.3333333333333333,
              "#31688e"
             ],
             [
              0.4444444444444444,
              "#26828e"
             ],
             [
              0.5555555555555556,
              "#1f9e89"
             ],
             [
              0.6666666666666666,
              "#35b779"
             ],
             [
              0.7777777777777778,
              "#6ece58"
             ],
             [
              0.8888888888888888,
              "#b5de2b"
             ],
             [
              1.0,
              "#fde725"
             ]
            ],
            "type": "histogram2dcontour"
           }
          ],
          "mesh3d": [
           {
            "colorbar": {
             "outlinewidth": 1,
             "tickcolor": "rgb(36,36,36)",
             "ticks": "outside"
            },
            "type": "mesh3d"
           }
          ],
          "parcoords": [
           {
            "line": {
             "colorbar": {
              "outlinewidth": 1,
              "tickcolor": "rgb(36,36,36)",
              "ticks": "outside"
             }
            },
            "type": "parcoords"
           }
          ],
          "pie": [
           {
            "automargin": true,
            "type": "pie"
           }
          ],
          "scatter": [
           {
            "fillpattern": {
             "fillmode": "overlay",
             "size": 10,
             "solidity": 0.2
            },
            "type": "scatter"
           }
          ],
          "scatter3d": [
           {
            "line": {
             "colorbar": {
              "outlinewidth": 1,
              "tickcolor": "rgb(36,36,36)",
              "ticks": "outside"
             }
            },
            "marker": {
             "colorbar": {
              "outlinewidth": 1,
              "tickcolor": "rgb(36,36,36)",
              "ticks": "outside"
             }
            },
            "type": "scatter3d"
           }
          ],
          "scattercarpet": [
           {
            "marker": {
             "colorbar": {
              "outlinewidth": 1,
              "tickcolor": "rgb(36,36,36)",
              "ticks": "outside"
             }
            },
            "type": "scattercarpet"
           }
          ],
          "scattergeo": [
           {
            "marker": {
             "colorbar": {
              "outlinewidth": 1,
              "tickcolor": "rgb(36,36,36)",
              "ticks": "outside"
             }
            },
            "type": "scattergeo"
           }
          ],
          "scattergl": [
           {
            "marker": {
             "colorbar": {
              "outlinewidth": 1,
              "tickcolor": "rgb(36,36,36)",
              "ticks": "outside"
             }
            },
            "type": "scattergl"
           }
          ],
          "scattermap": [
           {
            "marker": {
             "colorbar": {
              "outlinewidth": 1,
              "tickcolor": "rgb(36,36,36)",
              "ticks": "outside"
             }
            },
            "type": "scattermap"
           }
          ],
          "scattermapbox": [
           {
            "marker": {
             "colorbar": {
              "outlinewidth": 1,
              "tickcolor": "rgb(36,36,36)",
              "ticks": "outside"
             }
            },
            "type": "scattermapbox"
           }
          ],
          "scatterpolar": [
           {
            "marker": {
             "colorbar": {
              "outlinewidth": 1,
              "tickcolor": "rgb(36,36,36)",
              "ticks": "outside"
             }
            },
            "type": "scatterpolar"
           }
          ],
          "scatterpolargl": [
           {
            "marker": {
             "colorbar": {
              "outlinewidth": 1,
              "tickcolor": "rgb(36,36,36)",
              "ticks": "outside"
             }
            },
            "type": "scatterpolargl"
           }
          ],
          "scatterternary": [
           {
            "marker": {
             "colorbar": {
              "outlinewidth": 1,
              "tickcolor": "rgb(36,36,36)",
              "ticks": "outside"
             }
            },
            "type": "scatterternary"
           }
          ],
          "surface": [
           {
            "colorbar": {
             "outlinewidth": 1,
             "tickcolor": "rgb(36,36,36)",
             "ticks": "outside"
            },
            "colorscale": [
             [
              0.0,
              "#440154"
             ],
             [
              0.1111111111111111,
              "#482878"
             ],
             [
              0.2222222222222222,
              "#3e4989"
             ],
             [
              0.3333333333333333,
              "#31688e"
             ],
             [
              0.4444444444444444,
              "#26828e"
             ],
             [
              0.5555555555555556,
              "#1f9e89"
             ],
             [
              0.6666666666666666,
              "#35b779"
             ],
             [
              0.7777777777777778,
              "#6ece58"
             ],
             [
              0.8888888888888888,
              "#b5de2b"
             ],
             [
              1.0,
              "#fde725"
             ]
            ],
            "type": "surface"
           }
          ],
          "table": [
           {
            "cells": {
             "fill": {
              "color": "rgb(237,237,237)"
             },
             "line": {
              "color": "white"
             }
            },
            "header": {
             "fill": {
              "color": "rgb(217,217,217)"
             },
             "line": {
              "color": "white"
             }
            },
            "type": "table"
           }
          ]
         },
         "layout": {
          "annotationdefaults": {
           "arrowhead": 0,
           "arrowwidth": 1
          },
          "autotypenumbers": "strict",
          "coloraxis": {
           "colorbar": {
            "outlinewidth": 1,
            "tickcolor": "rgb(36,36,36)",
            "ticks": "outside"
           }
          },
          "colorscale": {
           "diverging": [
            [
             0.0,
             "rgb(103,0,31)"
            ],
            [
             0.1,
             "rgb(178,24,43)"
            ],
            [
             0.2,
             "rgb(214,96,77)"
            ],
            [
             0.3,
             "rgb(244,165,130)"
            ],
            [
             0.4,
             "rgb(253,219,199)"
            ],
            [
             0.5,
             "rgb(247,247,247)"
            ],
            [
             0.6,
             "rgb(209,229,240)"
            ],
            [
             0.7,
             "rgb(146,197,222)"
            ],
            [
             0.8,
             "rgb(67,147,195)"
            ],
            [
             0.9,
             "rgb(33,102,172)"
            ],
            [
             1.0,
             "rgb(5,48,97)"
            ]
           ],
           "sequential": [
            [
             0.0,
             "#440154"
            ],
            [
             0.1111111111111111,
             "#482878"
            ],
            [
             0.2222222222222222,
             "#3e4989"
            ],
            [
             0.3333333333333333,
             "#31688e"
            ],
            [
             0.4444444444444444,
             "#26828e"
            ],
            [
             0.5555555555555556,
             "#1f9e89"
            ],
            [
             0.6666666666666666,
             "#35b779"
            ],
            [
             0.7777777777777778,
             "#6ece58"
            ],
            [
             0.8888888888888888,
             "#b5de2b"
            ],
            [
             1.0,
             "#fde725"
            ]
           ],
           "sequentialminus": [
            [
             0.0,
             "#440154"
            ],
            [
             0.1111111111111111,
             "#482878"
            ],
            [
             0.2222222222222222,
             "#3e4989"
            ],
            [
             0.3333333333333333,
             "#31688e"
            ],
            [
             0.4444444444444444,
             "#26828e"
            ],
            [
             0.5555555555555556,
             "#1f9e89"
            ],
            [
             0.6666666666666666,
             "#35b779"
            ],
            [
             0.7777777777777778,
             "#6ece58"
            ],
            [
             0.8888888888888888,
             "#b5de2b"
            ],
            [
             1.0,
             "#fde725"
            ]
           ]
          },
          "colorway": [
           "#91268F",
           "#8CC63E",
           "#00A7A0",
           "#F05A28",
           "#4C4C4C",
           "#630460",
           "#9f3913",
           "#588527",
           "#00716c",
           "#3e4040"
          ],
          "font": {
           "color": "rgb(36,36,36)",
           "family": "Poppins",
           "size": 11
          },
          "geo": {
           "bgcolor": "white",
           "lakecolor": "white",
           "landcolor": "white",
           "showlakes": true,
           "showland": true,
           "subunitcolor": "white"
          },
          "hoverlabel": {
           "align": "left"
          },
          "hovermode": "closest",
          "mapbox": {
           "style": "light"
          },
          "paper_bgcolor": "white",
          "plot_bgcolor": "white",
          "polar": {
           "angularaxis": {
            "gridcolor": "rgb(232,232,232)",
            "linecolor": "rgb(36,36,36)",
            "showgrid": false,
            "showline": true,
            "ticks": "outside"
           },
           "bgcolor": "white",
           "radialaxis": {
            "gridcolor": "rgb(232,232,232)",
            "linecolor": "rgb(36,36,36)",
            "showgrid": false,
            "showline": true,
            "ticks": "outside"
           }
          },
          "scene": {
           "xaxis": {
            "backgroundcolor": "white",
            "gridcolor": "rgb(232,232,232)",
            "gridwidth": 2,
            "linecolor": "rgb(36,36,36)",
            "showbackground": true,
            "showgrid": false,
            "showline": true,
            "ticks": "outside",
            "zeroline": false,
            "zerolinecolor": "rgb(36,36,36)"
           },
           "yaxis": {
            "backgroundcolor": "white",
            "gridcolor": "rgb(232,232,232)",
            "gridwidth": 2,
            "linecolor": "rgb(36,36,36)",
            "showbackground": true,
            "showgrid": false,
            "showline": true,
            "ticks": "outside",
            "zeroline": false,
            "zerolinecolor": "rgb(36,36,36)"
           },
           "zaxis": {
            "backgroundcolor": "white",
            "gridcolor": "rgb(232,232,232)",
            "gridwidth": 2,
            "linecolor": "rgb(36,36,36)",
            "showbackground": true,
            "showgrid": false,
            "showline": true,
            "ticks": "outside",
            "zeroline": false,
            "zerolinecolor": "rgb(36,36,36)"
           }
          },
          "shapedefaults": {
           "fillcolor": "black",
           "line": {
            "width": 0
           },
           "opacity": 0.3
          },
          "ternary": {
           "aaxis": {
            "gridcolor": "rgb(232,232,232)",
            "linecolor": "rgb(36,36,36)",
            "showgrid": false,
            "showline": true,
            "ticks": "outside"
           },
           "baxis": {
            "gridcolor": "rgb(232,232,232)",
            "linecolor": "rgb(36,36,36)",
            "showgrid": false,
            "showline": true,
            "ticks": "outside"
           },
           "bgcolor": "white",
           "caxis": {
            "gridcolor": "rgb(232,232,232)",
            "linecolor": "rgb(36,36,36)",
            "showgrid": false,
            "showline": true,
            "ticks": "outside"
           }
          },
          "title": {
           "x": 0.05
          },
          "xaxis": {
           "automargin": true,
           "gridcolor": "rgb(232,232,232)",
           "linecolor": "rgb(36,36,36)",
           "showgrid": false,
           "showline": true,
           "ticks": "outside",
           "title": {
            "standoff": 15
           },
           "zeroline": false,
           "zerolinecolor": "rgb(36,36,36)"
          },
          "yaxis": {
           "automargin": true,
           "gridcolor": "rgb(232,232,232)",
           "linecolor": "rgb(36,36,36)",
           "showgrid": false,
           "showline": true,
           "ticks": "outside",
           "title": {
            "standoff": 15
           },
           "zeroline": false,
           "zerolinecolor": "rgb(36,36,36)"
          }
         }
        },
        "title": {
         "text": "tour origin departure hour"
        },
        "width": 700,
        "xaxis": {
         "anchor": "y",
         "categoryorder": "category ascending",
         "domain": [
          0.0,
          1.0
         ],
         "dtick": 1,
         "title": {
          "text": "tlvorg_hr"
         }
        },
        "yaxis": {
         "anchor": "x",
         "domain": [
          0.0,
          1.0
         ],
         "tickformat": ".0%",
         "title": {
          "text": "percentage"
         }
        }
       }
      },
      "text/html": [
       "<div>            <script src=\"https://cdnjs.cloudflare.com/ajax/libs/mathjax/2.7.5/MathJax.js?config=TeX-AMS-MML_SVG\"></script><script type=\"text/javascript\">if (window.MathJax && window.MathJax.Hub && window.MathJax.Hub.Config) {window.MathJax.Hub.Config({SVG: {font: \"STIX-Web\"}});}</script>                <script type=\"text/javascript\">window.PlotlyConfig = {MathJaxConfig: 'local'};</script>\n",
       "        <script charset=\"utf-8\" src=\"https://cdn.plot.ly/plotly-3.0.1.min.js\"></script>                <div id=\"61d5e0a7-c0f1-43da-8b02-71afcf402027\" class=\"plotly-graph-div\" style=\"height:400px; width:700px;\"></div>            <script type=\"text/javascript\">                window.PLOTLYENV=window.PLOTLYENV || {};                                if (document.getElementById(\"61d5e0a7-c0f1-43da-8b02-71afcf402027\")) {                    Plotly.newPlot(                        \"61d5e0a7-c0f1-43da-8b02-71afcf402027\",                        [{\"alignmentgroup\":\"True\",\"customdata\":{\"dtype\":\"f8\",\"bdata\":\"AAAAAACgrkAAAAAAAKCuQAAAAAAA9qNAAAAAAAD2o0AAAAAAAFCQQAAAAAAAUJBAAAAAAPBW8UAAAAAA8FbxQAAAAACAsu5AAAAAAICy7kAAAAAAgB8BQQAAAACAHwFBAAAAANzFGEEAAAAA3MUYQQAAAABq8SNBAAAAAGrxI0EAAAAAilglQQAAAACKWCVBAAAAALiWIEEAAAAAuJYgQQAAAABkvRpBAAAAAGS9GkEAAAAAgJEVQQAAAACAkRVBAAAAAASyE0EAAAAABLITQQAAAABAThNBAAAAAEBOE0EAAAAA4FIRQQAAAADgUhFBAAAAAIRJEEEAAAAAhEkQQQAAAACwRRJBAAAAALBFEkEAAAAADKARQQAAAAAMoBFBAAAAAKidEEEAAAAAqJ0QQQAAAAC4kwRBAAAAALiTBEEAAAAAAA7+QAAAAAAADv5AAAAAAMAK8kAAAAAAwAryQAAAAADAudJAAAAAAMC50kAAAAAAAHLCQAAAAAAAcsJA\",\"shape\":\"24, 2\"},\"hovertemplate\":\"source=model\\u003cbr\\u003etlvorg_hr=%{x}\\u003cbr\\u003epercentage=%{y}\\u003cbr\\u003etoexpfac=%{customdata[0]}\\u003cbr\\u003esample_count=%{customdata[1]}\\u003cextra\\u003e\\u003c\\u002fextra\\u003e\",\"legendgroup\":\"model\",\"marker\":{\"color\":\"#91268F\",\"pattern\":{\"shape\":\"\"}},\"name\":\"model\",\"offsetgroup\":\"model\",\"orientation\":\"v\",\"showlegend\":true,\"textposition\":\"auto\",\"x\":{\"dtype\":\"i1\",\"bdata\":\"AAECAwQFBgcICQoLDA0ODxAREhMUFRYX\"},\"xaxis\":\"x\",\"y\":{\"dtype\":\"f8\",\"bdata\":\"oTCplTwSRj9A1s6wfMU8Pyo8EVE7gyc\\u002fg2mt8zn+iD8Ms+7JkR+GP4QR+MlRrpg\\u002fkZlwWYnasT8bZ5+A4L68P0m8RdmDxL4\\u002fGmJmLyrptz+JGDeebUWzP8qUDCeeFq8\\u002fzyACy35jrD+xaIHFsdOrP9QS1Ohe+Kg\\u002ffwVKneJ5pz9FsvSEW1aqPy6U+vKaZ6k\\u002f6oOaFirzpz8bWNQg0qidP1eFOPIDqZU\\u002fHW6v32cBij8AjssBpv1qP8QkxZw6llo\\u002f\"},\"yaxis\":\"y\",\"type\":\"bar\"},{\"alignmentgroup\":\"True\",\"customdata\":{\"dtype\":\"f8\",\"bdata\":\"IMoFtQ9oiUAAAAAAAAAIQDJIgiVzd3VAAAAAAAAAAEDD3qmNrE+DQAAAAAAAAAhAz1lmmt4nzUAAAAAAAAA5QBNm0wfd2PFAAAAAAACAU0BCdRYFovkDQQAAAAAA4GdAlP\\u002fqiZB8FEEAAAAAAEiBQNRSZ0x2TSZBAAAAAABAk0AnlHw\\u002fikYlQQAAAAAAeJRARtupF1F8GkEAAAAAAEiLQDUobUnKIQ9BAAAAAAAgh0AAq31C8k4QQQAAAAAAiINAczKhVTO6DEEAAAAAAFCEQFKovC8O3ghBAAAAAACggUAReRPB0TISQQAAAAAA0IJAk6db\\u002f6kVFEEAAAAAAKiDQMbuuz1mEw9BAAAAAAAAgkAv8b7vYQYUQQAAAAAAEIdAg82GecejCkEAAAAAANiAQIf3pqnB1wBBAAAAAACQdkBzGs8gnvbjQAAAAAAAoGJAYmDudsXGwEAAAAAAAABSQO81hKM3atJAAAAAAAAAQEB2\\u002foGSxlSvQAAAAAAAACRA\",\"shape\":\"24, 2\"},\"hovertemplate\":\"source=survey\\u003cbr\\u003etlvorg_hr=%{x}\\u003cbr\\u003epercentage=%{y}\\u003cbr\\u003etoexpfac=%{customdata[0]}\\u003cbr\\u003esample_count=%{customdata[1]}\\u003cextra\\u003e\\u003c\\u002fextra\\u003e\",\"legendgroup\":\"survey\",\"marker\":{\"color\":\"#8CC63E\",\"pattern\":{\"shape\":\"\"}},\"name\":\"survey\",\"offsetgroup\":\"survey\",\"orientation\":\"v\",\"showlegend\":true,\"textposition\":\"auto\",\"x\":{\"dtype\":\"i1\",\"bdata\":\"AAECAwQFBgcICQoLDA0ODxAREhMUFRYX\"},\"xaxis\":\"x\",\"y\":{\"dtype\":\"f8\",\"bdata\":\"KbVaxDUZJT8s87NFn9MRP+U19UxoCSA\\u002fpXwFEUU2aD8KTixOTaSNPxsTdSaMlqA\\u002fsbnxJkcDsT\\u002fdPw2GWIXCP0uYAnYBq8E\\u002fVZU3Y5\\u002f+tT8GZn+eZ9qpP2Tff0QOFqs\\u002ftKacVjLbpz\\u002fNzdXXmqakPzP\\u002fWhe1Oa4\\u002f5ZMTWNOtsD+8pMpAdM6pP9NkMqAiobA\\u002fXshQxmQfpj+yGVuxR\\u002fmbP9A4piQLlIA\\u002fyh1I4xHdWz9SbZNmt5VuP9ajq7a+BEo\\u002f\"},\"yaxis\":\"y\",\"type\":\"bar\"}],                        {\"template\":{\"data\":{\"barpolar\":[{\"marker\":{\"line\":{\"color\":\"white\",\"width\":0.5},\"pattern\":{\"fillmode\":\"overlay\",\"size\":10,\"solidity\":0.2}},\"type\":\"barpolar\"}],\"bar\":[{\"error_x\":{\"color\":\"rgb(36,36,36)\"},\"error_y\":{\"color\":\"rgb(36,36,36)\"},\"marker\":{\"line\":{\"color\":\"white\",\"width\":0.5},\"pattern\":{\"fillmode\":\"overlay\",\"size\":10,\"solidity\":0.2}},\"type\":\"bar\"}],\"carpet\":[{\"aaxis\":{\"endlinecolor\":\"rgb(36,36,36)\",\"gridcolor\":\"white\",\"linecolor\":\"white\",\"minorgridcolor\":\"white\",\"startlinecolor\":\"rgb(36,36,36)\"},\"baxis\":{\"endlinecolor\":\"rgb(36,36,36)\",\"gridcolor\":\"white\",\"linecolor\":\"white\",\"minorgridcolor\":\"white\",\"startlinecolor\":\"rgb(36,36,36)\"},\"type\":\"carpet\"}],\"choropleth\":[{\"colorbar\":{\"outlinewidth\":1,\"tickcolor\":\"rgb(36,36,36)\",\"ticks\":\"outside\"},\"type\":\"choropleth\"}],\"contourcarpet\":[{\"colorbar\":{\"outlinewidth\":1,\"tickcolor\":\"rgb(36,36,36)\",\"ticks\":\"outside\"},\"type\":\"contourcarpet\"}],\"contour\":[{\"colorbar\":{\"outlinewidth\":1,\"tickcolor\":\"rgb(36,36,36)\",\"ticks\":\"outside\"},\"colorscale\":[[0.0,\"#440154\"],[0.1111111111111111,\"#482878\"],[0.2222222222222222,\"#3e4989\"],[0.3333333333333333,\"#31688e\"],[0.4444444444444444,\"#26828e\"],[0.5555555555555556,\"#1f9e89\"],[0.6666666666666666,\"#35b779\"],[0.7777777777777778,\"#6ece58\"],[0.8888888888888888,\"#b5de2b\"],[1.0,\"#fde725\"]],\"type\":\"contour\"}],\"heatmap\":[{\"colorbar\":{\"outlinewidth\":1,\"tickcolor\":\"rgb(36,36,36)\",\"ticks\":\"outside\"},\"colorscale\":[[0.0,\"#440154\"],[0.1111111111111111,\"#482878\"],[0.2222222222222222,\"#3e4989\"],[0.3333333333333333,\"#31688e\"],[0.4444444444444444,\"#26828e\"],[0.5555555555555556,\"#1f9e89\"],[0.6666666666666666,\"#35b779\"],[0.7777777777777778,\"#6ece58\"],[0.8888888888888888,\"#b5de2b\"],[1.0,\"#fde725\"]],\"type\":\"heatmap\"}],\"histogram2dcontour\":[{\"colorbar\":{\"outlinewidth\":1,\"tickcolor\":\"rgb(36,36,36)\",\"ticks\":\"outside\"},\"colorscale\":[[0.0,\"#440154\"],[0.1111111111111111,\"#482878\"],[0.2222222222222222,\"#3e4989\"],[0.3333333333333333,\"#31688e\"],[0.4444444444444444,\"#26828e\"],[0.5555555555555556,\"#1f9e89\"],[0.6666666666666666,\"#35b779\"],[0.7777777777777778,\"#6ece58\"],[0.8888888888888888,\"#b5de2b\"],[1.0,\"#fde725\"]],\"type\":\"histogram2dcontour\"}],\"histogram2d\":[{\"colorbar\":{\"outlinewidth\":1,\"tickcolor\":\"rgb(36,36,36)\",\"ticks\":\"outside\"},\"colorscale\":[[0.0,\"#440154\"],[0.1111111111111111,\"#482878\"],[0.2222222222222222,\"#3e4989\"],[0.3333333333333333,\"#31688e\"],[0.4444444444444444,\"#26828e\"],[0.5555555555555556,\"#1f9e89\"],[0.6666666666666666,\"#35b779\"],[0.7777777777777778,\"#6ece58\"],[0.8888888888888888,\"#b5de2b\"],[1.0,\"#fde725\"]],\"type\":\"histogram2d\"}],\"histogram\":[{\"marker\":{\"line\":{\"color\":\"white\",\"width\":0.6}},\"type\":\"histogram\"}],\"mesh3d\":[{\"colorbar\":{\"outlinewidth\":1,\"tickcolor\":\"rgb(36,36,36)\",\"ticks\":\"outside\"},\"type\":\"mesh3d\"}],\"parcoords\":[{\"line\":{\"colorbar\":{\"outlinewidth\":1,\"tickcolor\":\"rgb(36,36,36)\",\"ticks\":\"outside\"}},\"type\":\"parcoords\"}],\"pie\":[{\"automargin\":true,\"type\":\"pie\"}],\"scatter3d\":[{\"line\":{\"colorbar\":{\"outlinewidth\":1,\"tickcolor\":\"rgb(36,36,36)\",\"ticks\":\"outside\"}},\"marker\":{\"colorbar\":{\"outlinewidth\":1,\"tickcolor\":\"rgb(36,36,36)\",\"ticks\":\"outside\"}},\"type\":\"scatter3d\"}],\"scattercarpet\":[{\"marker\":{\"colorbar\":{\"outlinewidth\":1,\"tickcolor\":\"rgb(36,36,36)\",\"ticks\":\"outside\"}},\"type\":\"scattercarpet\"}],\"scattergeo\":[{\"marker\":{\"colorbar\":{\"outlinewidth\":1,\"tickcolor\":\"rgb(36,36,36)\",\"ticks\":\"outside\"}},\"type\":\"scattergeo\"}],\"scattergl\":[{\"marker\":{\"colorbar\":{\"outlinewidth\":1,\"tickcolor\":\"rgb(36,36,36)\",\"ticks\":\"outside\"}},\"type\":\"scattergl\"}],\"scattermapbox\":[{\"marker\":{\"colorbar\":{\"outlinewidth\":1,\"tickcolor\":\"rgb(36,36,36)\",\"ticks\":\"outside\"}},\"type\":\"scattermapbox\"}],\"scattermap\":[{\"marker\":{\"colorbar\":{\"outlinewidth\":1,\"tickcolor\":\"rgb(36,36,36)\",\"ticks\":\"outside\"}},\"type\":\"scattermap\"}],\"scatterpolargl\":[{\"marker\":{\"colorbar\":{\"outlinewidth\":1,\"tickcolor\":\"rgb(36,36,36)\",\"ticks\":\"outside\"}},\"type\":\"scatterpolargl\"}],\"scatterpolar\":[{\"marker\":{\"colorbar\":{\"outlinewidth\":1,\"tickcolor\":\"rgb(36,36,36)\",\"ticks\":\"outside\"}},\"type\":\"scatterpolar\"}],\"scatter\":[{\"fillpattern\":{\"fillmode\":\"overlay\",\"size\":10,\"solidity\":0.2},\"type\":\"scatter\"}],\"scatterternary\":[{\"marker\":{\"colorbar\":{\"outlinewidth\":1,\"tickcolor\":\"rgb(36,36,36)\",\"ticks\":\"outside\"}},\"type\":\"scatterternary\"}],\"surface\":[{\"colorbar\":{\"outlinewidth\":1,\"tickcolor\":\"rgb(36,36,36)\",\"ticks\":\"outside\"},\"colorscale\":[[0.0,\"#440154\"],[0.1111111111111111,\"#482878\"],[0.2222222222222222,\"#3e4989\"],[0.3333333333333333,\"#31688e\"],[0.4444444444444444,\"#26828e\"],[0.5555555555555556,\"#1f9e89\"],[0.6666666666666666,\"#35b779\"],[0.7777777777777778,\"#6ece58\"],[0.8888888888888888,\"#b5de2b\"],[1.0,\"#fde725\"]],\"type\":\"surface\"}],\"table\":[{\"cells\":{\"fill\":{\"color\":\"rgb(237,237,237)\"},\"line\":{\"color\":\"white\"}},\"header\":{\"fill\":{\"color\":\"rgb(217,217,217)\"},\"line\":{\"color\":\"white\"}},\"type\":\"table\"}]},\"layout\":{\"annotationdefaults\":{\"arrowhead\":0,\"arrowwidth\":1},\"autotypenumbers\":\"strict\",\"coloraxis\":{\"colorbar\":{\"outlinewidth\":1,\"tickcolor\":\"rgb(36,36,36)\",\"ticks\":\"outside\"}},\"colorscale\":{\"diverging\":[[0.0,\"rgb(103,0,31)\"],[0.1,\"rgb(178,24,43)\"],[0.2,\"rgb(214,96,77)\"],[0.3,\"rgb(244,165,130)\"],[0.4,\"rgb(253,219,199)\"],[0.5,\"rgb(247,247,247)\"],[0.6,\"rgb(209,229,240)\"],[0.7,\"rgb(146,197,222)\"],[0.8,\"rgb(67,147,195)\"],[0.9,\"rgb(33,102,172)\"],[1.0,\"rgb(5,48,97)\"]],\"sequential\":[[0.0,\"#440154\"],[0.1111111111111111,\"#482878\"],[0.2222222222222222,\"#3e4989\"],[0.3333333333333333,\"#31688e\"],[0.4444444444444444,\"#26828e\"],[0.5555555555555556,\"#1f9e89\"],[0.6666666666666666,\"#35b779\"],[0.7777777777777778,\"#6ece58\"],[0.8888888888888888,\"#b5de2b\"],[1.0,\"#fde725\"]],\"sequentialminus\":[[0.0,\"#440154\"],[0.1111111111111111,\"#482878\"],[0.2222222222222222,\"#3e4989\"],[0.3333333333333333,\"#31688e\"],[0.4444444444444444,\"#26828e\"],[0.5555555555555556,\"#1f9e89\"],[0.6666666666666666,\"#35b779\"],[0.7777777777777778,\"#6ece58\"],[0.8888888888888888,\"#b5de2b\"],[1.0,\"#fde725\"]]},\"colorway\":[\"#91268F\",\"#8CC63E\",\"#00A7A0\",\"#F05A28\",\"#4C4C4C\",\"#630460\",\"#9f3913\",\"#588527\",\"#00716c\",\"#3e4040\"],\"font\":{\"color\":\"rgb(36,36,36)\",\"family\":\"Poppins\",\"size\":11},\"geo\":{\"bgcolor\":\"white\",\"lakecolor\":\"white\",\"landcolor\":\"white\",\"showlakes\":true,\"showland\":true,\"subunitcolor\":\"white\"},\"hoverlabel\":{\"align\":\"left\"},\"hovermode\":\"closest\",\"mapbox\":{\"style\":\"light\"},\"paper_bgcolor\":\"white\",\"plot_bgcolor\":\"white\",\"polar\":{\"angularaxis\":{\"gridcolor\":\"rgb(232,232,232)\",\"linecolor\":\"rgb(36,36,36)\",\"showgrid\":false,\"showline\":true,\"ticks\":\"outside\"},\"bgcolor\":\"white\",\"radialaxis\":{\"gridcolor\":\"rgb(232,232,232)\",\"linecolor\":\"rgb(36,36,36)\",\"showgrid\":false,\"showline\":true,\"ticks\":\"outside\"}},\"scene\":{\"xaxis\":{\"backgroundcolor\":\"white\",\"gridcolor\":\"rgb(232,232,232)\",\"gridwidth\":2,\"linecolor\":\"rgb(36,36,36)\",\"showbackground\":true,\"showgrid\":false,\"showline\":true,\"ticks\":\"outside\",\"zeroline\":false,\"zerolinecolor\":\"rgb(36,36,36)\"},\"yaxis\":{\"backgroundcolor\":\"white\",\"gridcolor\":\"rgb(232,232,232)\",\"gridwidth\":2,\"linecolor\":\"rgb(36,36,36)\",\"showbackground\":true,\"showgrid\":false,\"showline\":true,\"ticks\":\"outside\",\"zeroline\":false,\"zerolinecolor\":\"rgb(36,36,36)\"},\"zaxis\":{\"backgroundcolor\":\"white\",\"gridcolor\":\"rgb(232,232,232)\",\"gridwidth\":2,\"linecolor\":\"rgb(36,36,36)\",\"showbackground\":true,\"showgrid\":false,\"showline\":true,\"ticks\":\"outside\",\"zeroline\":false,\"zerolinecolor\":\"rgb(36,36,36)\"}},\"shapedefaults\":{\"fillcolor\":\"black\",\"line\":{\"width\":0},\"opacity\":0.3},\"ternary\":{\"aaxis\":{\"gridcolor\":\"rgb(232,232,232)\",\"linecolor\":\"rgb(36,36,36)\",\"showgrid\":false,\"showline\":true,\"ticks\":\"outside\"},\"baxis\":{\"gridcolor\":\"rgb(232,232,232)\",\"linecolor\":\"rgb(36,36,36)\",\"showgrid\":false,\"showline\":true,\"ticks\":\"outside\"},\"bgcolor\":\"white\",\"caxis\":{\"gridcolor\":\"rgb(232,232,232)\",\"linecolor\":\"rgb(36,36,36)\",\"showgrid\":false,\"showline\":true,\"ticks\":\"outside\"}},\"title\":{\"x\":0.05},\"xaxis\":{\"automargin\":true,\"gridcolor\":\"rgb(232,232,232)\",\"linecolor\":\"rgb(36,36,36)\",\"showgrid\":false,\"showline\":true,\"ticks\":\"outside\",\"title\":{\"standoff\":15},\"zeroline\":false,\"zerolinecolor\":\"rgb(36,36,36)\"},\"yaxis\":{\"automargin\":true,\"gridcolor\":\"rgb(232,232,232)\",\"linecolor\":\"rgb(36,36,36)\",\"showgrid\":false,\"showline\":true,\"ticks\":\"outside\",\"title\":{\"standoff\":15},\"zeroline\":false,\"zerolinecolor\":\"rgb(36,36,36)\"}}},\"xaxis\":{\"anchor\":\"y\",\"domain\":[0.0,1.0],\"title\":{\"text\":\"tlvorg_hr\"},\"dtick\":1,\"categoryorder\":\"category ascending\"},\"yaxis\":{\"anchor\":\"x\",\"domain\":[0.0,1.0],\"title\":{\"text\":\"percentage\"},\"tickformat\":\".0%\"},\"legend\":{\"title\":{\"text\":\"source\"},\"tracegroupgap\":0},\"title\":{\"text\":\"tour origin departure hour\"},\"barmode\":\"group\",\"font\":{\"size\":11},\"height\":400,\"width\":700},                        {\"responsive\": true}                    ).then(function(){\n",
       "                            \n",
       "var gd = document.getElementById('61d5e0a7-c0f1-43da-8b02-71afcf402027');\n",
       "var x = new MutationObserver(function (mutations, observer) {{\n",
       "        var display = window.getComputedStyle(gd).display;\n",
       "        if (!display || display === 'none') {{\n",
       "            console.log([gd, 'removed!']);\n",
       "            Plotly.purge(gd);\n",
       "            observer.disconnect();\n",
       "        }}\n",
       "}});\n",
       "\n",
       "// Listen for the removal of the full notebook cells\n",
       "var notebookContainer = gd.closest('#notebook-container');\n",
       "if (notebookContainer) {{\n",
       "    x.observe(notebookContainer, {childList: true});\n",
       "}}\n",
       "\n",
       "// Listen for the clearing of the current output cell\n",
       "var outputEl = gd.closest('.output');\n",
       "if (outputEl) {{\n",
       "    x.observe(outputEl, {childList: true});\n",
       "}}\n",
       "\n",
       "                        })                };            </script>        </div>"
      ]
     },
     "metadata": {},
     "output_type": "display_data"
    }
   ],
   "source": [
    "df_plot = df_tour.groupby(['tlvorg_hr','source'])['toexpfac'].agg(sample_count='size', toexpfac='sum').reset_index()\n",
    "df_plot['percentage'] = df_plot.groupby(['source'], group_keys=False)['toexpfac']. \\\n",
    "    apply(lambda x: x / float(x.sum()))\n",
    "\n",
    "fig = px.bar(df_plot, x=\"tlvorg_hr\", y=\"percentage\", color=\"source\",\n",
    "             barmode=\"group\",title=\"tour origin departure hour\",\n",
    "             hover_data=['toexpfac','sample_count'])\n",
    "fig.update_layout(height=400, width=700, font=dict(size=11),\n",
    "                  xaxis = dict(dtick = 1, categoryorder='category ascending'),\n",
    "                  yaxis=dict(tickformat=\".0%\"))\n",
    "fig.show()"
   ]
  },
  {
   "cell_type": "raw",
   "metadata": {
    "vscode": {
     "languageId": "raw"
    }
   },
   "source": [
    "### trip"
   ]
  },
  {
   "cell_type": "code",
   "execution_count": 5,
   "metadata": {
    "execution": {
     "iopub.execute_input": "2025-05-09T00:07:52.892548Z",
     "iopub.status.busy": "2025-05-09T00:07:52.891550Z",
     "iopub.status.idle": "2025-05-09T00:07:54.535031Z",
     "shell.execute_reply": "2025-05-09T00:07:54.533032Z"
    }
   },
   "outputs": [
    {
     "data": {
      "application/vnd.plotly.v1+json": {
       "config": {
        "plotlyServerURL": "https://plot.ly"
       },
       "data": [
        {
         "alignmentgroup": "True",
         "customdata": {
          "bdata": "AAAAAAA13kAAAAAAADXeQAAAAADAstVAAAAAAMCy1UAAAAAAAHnPQAAAAAAAec9AAAAAAMAb9EAAAAAAwBv0QAAAAAAgSfZAAAAAACBJ9kAAAAAAmJQHQQAAAACYlAdBAAAAAIztIEEAAAAAjO0gQQAAAAAO5CxBAAAAAA7kLEEAAAAAh+EwQQAAAACH4TBBAAAAADYsL0EAAAAANiwvQQAAAABHajBBAAAAAEdqMEEAAAAAEqovQQAAAAASqi9BAAAAANaELkEAAAAA1oQuQQAAAAC9SzBBAAAAAL1LMEEAAAAAqqUuQQAAAACqpS5BAAAAAHeaMkEAAAAAd5oyQQAAAACVgDRBAAAAAJWANEEAAAAA+sUzQQAAAAD6xTNBAAAAAOgiMEEAAAAA6CIwQQAAAADWTChBAAAAANZMKEEAAAAA6iUjQQAAAADqJSNBAAAAABggFUEAAAAAGCAVQQAAAABwOQlBAAAAAHA5CUEAAAAASAwCQQAAAABIDAJB",
          "dtype": "f8",
          "shape": "24, 2"
         },
         "hovertemplate": "source=model<br>dept_hr=%{x}<br>percentage=%{y}<br>trexpfac=%{customdata[0]}<br>sample_count=%{customdata[1]}<extra></extra>",
         "legendgroup": "model",
         "marker": {
          "color": "#91268F",
          "pattern": {
           "shape": ""
          }
         },
         "name": "model",
         "offsetgroup": "model",
         "orientation": "v",
         "showlegend": true,
         "textposition": "auto",
         "type": "bar",
         "x": {
          "bdata": "AAECAwQFBgcICQoLDA0ODxAREhMUFRYX",
          "dtype": "i1"
         },
         "xaxis": "x",
         "y": {
          "bdata": "aUCzw5sbXz8HvLptZlhWPylADaKiNFA/zGd7SEO1dD+6blxuQvN2P901evOcSIg/ZGwBccduoT8geFhvncCtP6f2X65mYrE/H6XehBgNsD+TS49LmOewP5dd3fDmTbA/m1LKQNNtrz/6AeImJciwP25gJd+hj68/nuIb6nwosz986L0PGh21P7N6T3fuXLQ/pYPrbRiesD/kzy2BWQapP/QstIEYuKM/adDq0F7BlT8si47IAfqJP9d2h3IQloI/",
          "dtype": "f8"
         },
         "yaxis": "y"
        },
        {
         "alignmentgroup": "True",
         "customdata": {
          "bdata": "Uu/Ciyeoy0AAAAAAAIBCQGGL3h8Is51AAAAAAAAAJEDoZJlx/NehQAAAAAAAADJAKQw7bh8nykAAAAAAAAA/QHBo17z61PBAAAAAAACAVEDoiKJ6H8EFQQAAAAAAwGpAXuXZCQr0FUEAAAAAACCFQLm0fNzjfC9BAAAAAABkmUBQU2AoEVswQQAAAAAApJ5Ak/WQx1mgJ0EAAAAAAHSYQAvoHBGRkiFBAAAAAAC8mED1DgNrThknQQAAAAAA1JtA+BP9mKywJkEAAAAAAOydQLOzWOLqPydBAAAAAABgnEB4SWVLmIQzQQAAAAAArqBAwdtKT0e+NkEAAAAAAGyjQKyqhXDjYTNBAAAAAABco0BpdhEukw4yQQAAAAAAYqRAexPHlkq9KkEAAAAAAPyfQAafwBRpPiJBAAAAAADQlkDC5RdxY5kbQQAAAAAALJBA0Nmh6VVuCEEAAAAAAHiDQLnMJ1+sgABBAAAAAABAcUAIEBD2lNzuQAAAAAAAoGBA",
          "dtype": "f8",
          "shape": "24, 2"
         },
         "hovertemplate": "source=survey<br>dept_hr=%{x}<br>percentage=%{y}<br>trexpfac=%{customdata[0]}<br>sample_count=%{customdata[1]}<extra></extra>",
         "legendgroup": "survey",
         "marker": {
          "color": "#8CC63E",
          "pattern": {
           "shape": ""
          }
         },
         "name": "survey",
         "offsetgroup": "survey",
         "orientation": "v",
         "showlegend": true,
         "textposition": "auto",
         "type": "bar",
         "x": {
          "bdata": "AAECAwQFBgcICQoLDA0ODxAREhMUFRYX",
          "dtype": "i1"
         },
         "xaxis": "x",
         "y": {
          "bdata": "5kBAJxWwUD9ZT8ymlOshP4Zk5wCKiCU/9324moSPTz/LrvzS+U90P62D2wuwQIo/xu882SF+mj88Tq7Y2P+yPwIgxdTavLM/cJRJLwKDrD+2hqLrwzSlPx9lpkUK4Ks/RWrTxMVhqz/NeoCdog6sP2Bd4y/Gjbc/rsflnzByuz9MPb4m5GO3P+MFomNqyrU/EzWgdF4isD83Av10JASmP6GhVUgsp6A/d9PBF5Z7jT8ymXe6POqDP73x53Men3I/",
          "dtype": "f8"
         },
         "yaxis": "y"
        }
       ],
       "layout": {
        "barmode": "group",
        "font": {
         "size": 11
        },
        "height": 400,
        "legend": {
         "title": {
          "text": "source"
         },
         "tracegroupgap": 0
        },
        "template": {
         "data": {
          "bar": [
           {
            "error_x": {
             "color": "rgb(36,36,36)"
            },
            "error_y": {
             "color": "rgb(36,36,36)"
            },
            "marker": {
             "line": {
              "color": "white",
              "width": 0.5
             },
             "pattern": {
              "fillmode": "overlay",
              "size": 10,
              "solidity": 0.2
             }
            },
            "type": "bar"
           }
          ],
          "barpolar": [
           {
            "marker": {
             "line": {
              "color": "white",
              "width": 0.5
             },
             "pattern": {
              "fillmode": "overlay",
              "size": 10,
              "solidity": 0.2
             }
            },
            "type": "barpolar"
           }
          ],
          "carpet": [
           {
            "aaxis": {
             "endlinecolor": "rgb(36,36,36)",
             "gridcolor": "white",
             "linecolor": "white",
             "minorgridcolor": "white",
             "startlinecolor": "rgb(36,36,36)"
            },
            "baxis": {
             "endlinecolor": "rgb(36,36,36)",
             "gridcolor": "white",
             "linecolor": "white",
             "minorgridcolor": "white",
             "startlinecolor": "rgb(36,36,36)"
            },
            "type": "carpet"
           }
          ],
          "choropleth": [
           {
            "colorbar": {
             "outlinewidth": 1,
             "tickcolor": "rgb(36,36,36)",
             "ticks": "outside"
            },
            "type": "choropleth"
           }
          ],
          "contour": [
           {
            "colorbar": {
             "outlinewidth": 1,
             "tickcolor": "rgb(36,36,36)",
             "ticks": "outside"
            },
            "colorscale": [
             [
              0.0,
              "#440154"
             ],
             [
              0.1111111111111111,
              "#482878"
             ],
             [
              0.2222222222222222,
              "#3e4989"
             ],
             [
              0.3333333333333333,
              "#31688e"
             ],
             [
              0.4444444444444444,
              "#26828e"
             ],
             [
              0.5555555555555556,
              "#1f9e89"
             ],
             [
              0.6666666666666666,
              "#35b779"
             ],
             [
              0.7777777777777778,
              "#6ece58"
             ],
             [
              0.8888888888888888,
              "#b5de2b"
             ],
             [
              1.0,
              "#fde725"
             ]
            ],
            "type": "contour"
           }
          ],
          "contourcarpet": [
           {
            "colorbar": {
             "outlinewidth": 1,
             "tickcolor": "rgb(36,36,36)",
             "ticks": "outside"
            },
            "type": "contourcarpet"
           }
          ],
          "heatmap": [
           {
            "colorbar": {
             "outlinewidth": 1,
             "tickcolor": "rgb(36,36,36)",
             "ticks": "outside"
            },
            "colorscale": [
             [
              0.0,
              "#440154"
             ],
             [
              0.1111111111111111,
              "#482878"
             ],
             [
              0.2222222222222222,
              "#3e4989"
             ],
             [
              0.3333333333333333,
              "#31688e"
             ],
             [
              0.4444444444444444,
              "#26828e"
             ],
             [
              0.5555555555555556,
              "#1f9e89"
             ],
             [
              0.6666666666666666,
              "#35b779"
             ],
             [
              0.7777777777777778,
              "#6ece58"
             ],
             [
              0.8888888888888888,
              "#b5de2b"
             ],
             [
              1.0,
              "#fde725"
             ]
            ],
            "type": "heatmap"
           }
          ],
          "histogram": [
           {
            "marker": {
             "line": {
              "color": "white",
              "width": 0.6
             }
            },
            "type": "histogram"
           }
          ],
          "histogram2d": [
           {
            "colorbar": {
             "outlinewidth": 1,
             "tickcolor": "rgb(36,36,36)",
             "ticks": "outside"
            },
            "colorscale": [
             [
              0.0,
              "#440154"
             ],
             [
              0.1111111111111111,
              "#482878"
             ],
             [
              0.2222222222222222,
              "#3e4989"
             ],
             [
              0.3333333333333333,
              "#31688e"
             ],
             [
              0.4444444444444444,
              "#26828e"
             ],
             [
              0.5555555555555556,
              "#1f9e89"
             ],
             [
              0.6666666666666666,
              "#35b779"
             ],
             [
              0.7777777777777778,
              "#6ece58"
             ],
             [
              0.8888888888888888,
              "#b5de2b"
             ],
             [
              1.0,
              "#fde725"
             ]
            ],
            "type": "histogram2d"
           }
          ],
          "histogram2dcontour": [
           {
            "colorbar": {
             "outlinewidth": 1,
             "tickcolor": "rgb(36,36,36)",
             "ticks": "outside"
            },
            "colorscale": [
             [
              0.0,
              "#440154"
             ],
             [
              0.1111111111111111,
              "#482878"
             ],
             [
              0.2222222222222222,
              "#3e4989"
             ],
             [
              0.3333333333333333,
              "#31688e"
             ],
             [
              0.4444444444444444,
              "#26828e"
             ],
             [
              0.5555555555555556,
              "#1f9e89"
             ],
             [
              0.6666666666666666,
              "#35b779"
             ],
             [
              0.7777777777777778,
              "#6ece58"
             ],
             [
              0.8888888888888888,
              "#b5de2b"
             ],
             [
              1.0,
              "#fde725"
             ]
            ],
            "type": "histogram2dcontour"
           }
          ],
          "mesh3d": [
           {
            "colorbar": {
             "outlinewidth": 1,
             "tickcolor": "rgb(36,36,36)",
             "ticks": "outside"
            },
            "type": "mesh3d"
           }
          ],
          "parcoords": [
           {
            "line": {
             "colorbar": {
              "outlinewidth": 1,
              "tickcolor": "rgb(36,36,36)",
              "ticks": "outside"
             }
            },
            "type": "parcoords"
           }
          ],
          "pie": [
           {
            "automargin": true,
            "type": "pie"
           }
          ],
          "scatter": [
           {
            "fillpattern": {
             "fillmode": "overlay",
             "size": 10,
             "solidity": 0.2
            },
            "type": "scatter"
           }
          ],
          "scatter3d": [
           {
            "line": {
             "colorbar": {
              "outlinewidth": 1,
              "tickcolor": "rgb(36,36,36)",
              "ticks": "outside"
             }
            },
            "marker": {
             "colorbar": {
              "outlinewidth": 1,
              "tickcolor": "rgb(36,36,36)",
              "ticks": "outside"
             }
            },
            "type": "scatter3d"
           }
          ],
          "scattercarpet": [
           {
            "marker": {
             "colorbar": {
              "outlinewidth": 1,
              "tickcolor": "rgb(36,36,36)",
              "ticks": "outside"
             }
            },
            "type": "scattercarpet"
           }
          ],
          "scattergeo": [
           {
            "marker": {
             "colorbar": {
              "outlinewidth": 1,
              "tickcolor": "rgb(36,36,36)",
              "ticks": "outside"
             }
            },
            "type": "scattergeo"
           }
          ],
          "scattergl": [
           {
            "marker": {
             "colorbar": {
              "outlinewidth": 1,
              "tickcolor": "rgb(36,36,36)",
              "ticks": "outside"
             }
            },
            "type": "scattergl"
           }
          ],
          "scattermap": [
           {
            "marker": {
             "colorbar": {
              "outlinewidth": 1,
              "tickcolor": "rgb(36,36,36)",
              "ticks": "outside"
             }
            },
            "type": "scattermap"
           }
          ],
          "scattermapbox": [
           {
            "marker": {
             "colorbar": {
              "outlinewidth": 1,
              "tickcolor": "rgb(36,36,36)",
              "ticks": "outside"
             }
            },
            "type": "scattermapbox"
           }
          ],
          "scatterpolar": [
           {
            "marker": {
             "colorbar": {
              "outlinewidth": 1,
              "tickcolor": "rgb(36,36,36)",
              "ticks": "outside"
             }
            },
            "type": "scatterpolar"
           }
          ],
          "scatterpolargl": [
           {
            "marker": {
             "colorbar": {
              "outlinewidth": 1,
              "tickcolor": "rgb(36,36,36)",
              "ticks": "outside"
             }
            },
            "type": "scatterpolargl"
           }
          ],
          "scatterternary": [
           {
            "marker": {
             "colorbar": {
              "outlinewidth": 1,
              "tickcolor": "rgb(36,36,36)",
              "ticks": "outside"
             }
            },
            "type": "scatterternary"
           }
          ],
          "surface": [
           {
            "colorbar": {
             "outlinewidth": 1,
             "tickcolor": "rgb(36,36,36)",
             "ticks": "outside"
            },
            "colorscale": [
             [
              0.0,
              "#440154"
             ],
             [
              0.1111111111111111,
              "#482878"
             ],
             [
              0.2222222222222222,
              "#3e4989"
             ],
             [
              0.3333333333333333,
              "#31688e"
             ],
             [
              0.4444444444444444,
              "#26828e"
             ],
             [
              0.5555555555555556,
              "#1f9e89"
             ],
             [
              0.6666666666666666,
              "#35b779"
             ],
             [
              0.7777777777777778,
              "#6ece58"
             ],
             [
              0.8888888888888888,
              "#b5de2b"
             ],
             [
              1.0,
              "#fde725"
             ]
            ],
            "type": "surface"
           }
          ],
          "table": [
           {
            "cells": {
             "fill": {
              "color": "rgb(237,237,237)"
             },
             "line": {
              "color": "white"
             }
            },
            "header": {
             "fill": {
              "color": "rgb(217,217,217)"
             },
             "line": {
              "color": "white"
             }
            },
            "type": "table"
           }
          ]
         },
         "layout": {
          "annotationdefaults": {
           "arrowhead": 0,
           "arrowwidth": 1
          },
          "autotypenumbers": "strict",
          "coloraxis": {
           "colorbar": {
            "outlinewidth": 1,
            "tickcolor": "rgb(36,36,36)",
            "ticks": "outside"
           }
          },
          "colorscale": {
           "diverging": [
            [
             0.0,
             "rgb(103,0,31)"
            ],
            [
             0.1,
             "rgb(178,24,43)"
            ],
            [
             0.2,
             "rgb(214,96,77)"
            ],
            [
             0.3,
             "rgb(244,165,130)"
            ],
            [
             0.4,
             "rgb(253,219,199)"
            ],
            [
             0.5,
             "rgb(247,247,247)"
            ],
            [
             0.6,
             "rgb(209,229,240)"
            ],
            [
             0.7,
             "rgb(146,197,222)"
            ],
            [
             0.8,
             "rgb(67,147,195)"
            ],
            [
             0.9,
             "rgb(33,102,172)"
            ],
            [
             1.0,
             "rgb(5,48,97)"
            ]
           ],
           "sequential": [
            [
             0.0,
             "#440154"
            ],
            [
             0.1111111111111111,
             "#482878"
            ],
            [
             0.2222222222222222,
             "#3e4989"
            ],
            [
             0.3333333333333333,
             "#31688e"
            ],
            [
             0.4444444444444444,
             "#26828e"
            ],
            [
             0.5555555555555556,
             "#1f9e89"
            ],
            [
             0.6666666666666666,
             "#35b779"
            ],
            [
             0.7777777777777778,
             "#6ece58"
            ],
            [
             0.8888888888888888,
             "#b5de2b"
            ],
            [
             1.0,
             "#fde725"
            ]
           ],
           "sequentialminus": [
            [
             0.0,
             "#440154"
            ],
            [
             0.1111111111111111,
             "#482878"
            ],
            [
             0.2222222222222222,
             "#3e4989"
            ],
            [
             0.3333333333333333,
             "#31688e"
            ],
            [
             0.4444444444444444,
             "#26828e"
            ],
            [
             0.5555555555555556,
             "#1f9e89"
            ],
            [
             0.6666666666666666,
             "#35b779"
            ],
            [
             0.7777777777777778,
             "#6ece58"
            ],
            [
             0.8888888888888888,
             "#b5de2b"
            ],
            [
             1.0,
             "#fde725"
            ]
           ]
          },
          "colorway": [
           "#91268F",
           "#8CC63E",
           "#00A7A0",
           "#F05A28",
           "#4C4C4C",
           "#630460",
           "#9f3913",
           "#588527",
           "#00716c",
           "#3e4040"
          ],
          "font": {
           "color": "rgb(36,36,36)",
           "family": "Poppins",
           "size": 11
          },
          "geo": {
           "bgcolor": "white",
           "lakecolor": "white",
           "landcolor": "white",
           "showlakes": true,
           "showland": true,
           "subunitcolor": "white"
          },
          "hoverlabel": {
           "align": "left"
          },
          "hovermode": "closest",
          "mapbox": {
           "style": "light"
          },
          "paper_bgcolor": "white",
          "plot_bgcolor": "white",
          "polar": {
           "angularaxis": {
            "gridcolor": "rgb(232,232,232)",
            "linecolor": "rgb(36,36,36)",
            "showgrid": false,
            "showline": true,
            "ticks": "outside"
           },
           "bgcolor": "white",
           "radialaxis": {
            "gridcolor": "rgb(232,232,232)",
            "linecolor": "rgb(36,36,36)",
            "showgrid": false,
            "showline": true,
            "ticks": "outside"
           }
          },
          "scene": {
           "xaxis": {
            "backgroundcolor": "white",
            "gridcolor": "rgb(232,232,232)",
            "gridwidth": 2,
            "linecolor": "rgb(36,36,36)",
            "showbackground": true,
            "showgrid": false,
            "showline": true,
            "ticks": "outside",
            "zeroline": false,
            "zerolinecolor": "rgb(36,36,36)"
           },
           "yaxis": {
            "backgroundcolor": "white",
            "gridcolor": "rgb(232,232,232)",
            "gridwidth": 2,
            "linecolor": "rgb(36,36,36)",
            "showbackground": true,
            "showgrid": false,
            "showline": true,
            "ticks": "outside",
            "zeroline": false,
            "zerolinecolor": "rgb(36,36,36)"
           },
           "zaxis": {
            "backgroundcolor": "white",
            "gridcolor": "rgb(232,232,232)",
            "gridwidth": 2,
            "linecolor": "rgb(36,36,36)",
            "showbackground": true,
            "showgrid": false,
            "showline": true,
            "ticks": "outside",
            "zeroline": false,
            "zerolinecolor": "rgb(36,36,36)"
           }
          },
          "shapedefaults": {
           "fillcolor": "black",
           "line": {
            "width": 0
           },
           "opacity": 0.3
          },
          "ternary": {
           "aaxis": {
            "gridcolor": "rgb(232,232,232)",
            "linecolor": "rgb(36,36,36)",
            "showgrid": false,
            "showline": true,
            "ticks": "outside"
           },
           "baxis": {
            "gridcolor": "rgb(232,232,232)",
            "linecolor": "rgb(36,36,36)",
            "showgrid": false,
            "showline": true,
            "ticks": "outside"
           },
           "bgcolor": "white",
           "caxis": {
            "gridcolor": "rgb(232,232,232)",
            "linecolor": "rgb(36,36,36)",
            "showgrid": false,
            "showline": true,
            "ticks": "outside"
           }
          },
          "title": {
           "x": 0.05
          },
          "xaxis": {
           "automargin": true,
           "gridcolor": "rgb(232,232,232)",
           "linecolor": "rgb(36,36,36)",
           "showgrid": false,
           "showline": true,
           "ticks": "outside",
           "title": {
            "standoff": 15
           },
           "zeroline": false,
           "zerolinecolor": "rgb(36,36,36)"
          },
          "yaxis": {
           "automargin": true,
           "gridcolor": "rgb(232,232,232)",
           "linecolor": "rgb(36,36,36)",
           "showgrid": false,
           "showline": true,
           "ticks": "outside",
           "title": {
            "standoff": 15
           },
           "zeroline": false,
           "zerolinecolor": "rgb(36,36,36)"
          }
         }
        },
        "title": {
         "text": "trip origin departure hour"
        },
        "width": 700,
        "xaxis": {
         "anchor": "y",
         "categoryorder": "category ascending",
         "domain": [
          0.0,
          1.0
         ],
         "dtick": 1,
         "title": {
          "text": "dept_hr"
         }
        },
        "yaxis": {
         "anchor": "x",
         "domain": [
          0.0,
          1.0
         ],
         "tickformat": ".0%",
         "title": {
          "text": "percentage"
         }
        }
       }
      },
      "text/html": [
       "<div>            <script src=\"https://cdnjs.cloudflare.com/ajax/libs/mathjax/2.7.5/MathJax.js?config=TeX-AMS-MML_SVG\"></script><script type=\"text/javascript\">if (window.MathJax && window.MathJax.Hub && window.MathJax.Hub.Config) {window.MathJax.Hub.Config({SVG: {font: \"STIX-Web\"}});}</script>                <script type=\"text/javascript\">window.PlotlyConfig = {MathJaxConfig: 'local'};</script>\n",
       "        <script charset=\"utf-8\" src=\"https://cdn.plot.ly/plotly-3.0.1.min.js\"></script>                <div id=\"82e05296-476a-48c4-8ed7-a1e0cdb70fe3\" class=\"plotly-graph-div\" style=\"height:400px; width:700px;\"></div>            <script type=\"text/javascript\">                window.PLOTLYENV=window.PLOTLYENV || {};                                if (document.getElementById(\"82e05296-476a-48c4-8ed7-a1e0cdb70fe3\")) {                    Plotly.newPlot(                        \"82e05296-476a-48c4-8ed7-a1e0cdb70fe3\",                        [{\"alignmentgroup\":\"True\",\"customdata\":{\"dtype\":\"f8\",\"bdata\":\"AAAAAAA13kAAAAAAADXeQAAAAADAstVAAAAAAMCy1UAAAAAAAHnPQAAAAAAAec9AAAAAAMAb9EAAAAAAwBv0QAAAAAAgSfZAAAAAACBJ9kAAAAAAmJQHQQAAAACYlAdBAAAAAIztIEEAAAAAjO0gQQAAAAAO5CxBAAAAAA7kLEEAAAAAh+EwQQAAAACH4TBBAAAAADYsL0EAAAAANiwvQQAAAABHajBBAAAAAEdqMEEAAAAAEqovQQAAAAASqi9BAAAAANaELkEAAAAA1oQuQQAAAAC9SzBBAAAAAL1LMEEAAAAAqqUuQQAAAACqpS5BAAAAAHeaMkEAAAAAd5oyQQAAAACVgDRBAAAAAJWANEEAAAAA+sUzQQAAAAD6xTNBAAAAAOgiMEEAAAAA6CIwQQAAAADWTChBAAAAANZMKEEAAAAA6iUjQQAAAADqJSNBAAAAABggFUEAAAAAGCAVQQAAAABwOQlBAAAAAHA5CUEAAAAASAwCQQAAAABIDAJB\",\"shape\":\"24, 2\"},\"hovertemplate\":\"source=model\\u003cbr\\u003edept_hr=%{x}\\u003cbr\\u003epercentage=%{y}\\u003cbr\\u003etrexpfac=%{customdata[0]}\\u003cbr\\u003esample_count=%{customdata[1]}\\u003cextra\\u003e\\u003c\\u002fextra\\u003e\",\"legendgroup\":\"model\",\"marker\":{\"color\":\"#91268F\",\"pattern\":{\"shape\":\"\"}},\"name\":\"model\",\"offsetgroup\":\"model\",\"orientation\":\"v\",\"showlegend\":true,\"textposition\":\"auto\",\"x\":{\"dtype\":\"i1\",\"bdata\":\"AAECAwQFBgcICQoLDA0ODxAREhMUFRYX\"},\"xaxis\":\"x\",\"y\":{\"dtype\":\"f8\",\"bdata\":\"aUCzw5sbXz8HvLptZlhWPylADaKiNFA\\u002fzGd7SEO1dD+6blxuQvN2P901evOcSIg\\u002fZGwBccduoT8geFhvncCtP6f2X65mYrE\\u002fH6XehBgNsD+TS49LmOewP5dd3fDmTbA\\u002fm1LKQNNtrz\\u002f6AeImJciwP25gJd+hj68\\u002fnuIb6nwosz986L0PGh21P7N6T3fuXLQ\\u002fpYPrbRiesD\\u002fkzy2BWQapP\\u002fQstIEYuKM\\u002fadDq0F7BlT8si47IAfqJP9d2h3IQloI\\u002f\"},\"yaxis\":\"y\",\"type\":\"bar\"},{\"alignmentgroup\":\"True\",\"customdata\":{\"dtype\":\"f8\",\"bdata\":\"Uu\\u002fCiyeoy0AAAAAAAIBCQGGL3h8Is51AAAAAAAAAJEDoZJlx\\u002fNehQAAAAAAAADJAKQw7bh8nykAAAAAAAAA\\u002fQHBo17z61PBAAAAAAACAVEDoiKJ6H8EFQQAAAAAAwGpAXuXZCQr0FUEAAAAAACCFQLm0fNzjfC9BAAAAAABkmUBQU2AoEVswQQAAAAAApJ5Ak\\u002fWQx1mgJ0EAAAAAAHSYQAvoHBGRkiFBAAAAAAC8mED1DgNrThknQQAAAAAA1JtA+BP9mKywJkEAAAAAAOydQLOzWOLqPydBAAAAAABgnEB4SWVLmIQzQQAAAAAArqBAwdtKT0e+NkEAAAAAAGyjQKyqhXDjYTNBAAAAAABco0BpdhEukw4yQQAAAAAAYqRAexPHlkq9KkEAAAAAAPyfQAafwBRpPiJBAAAAAADQlkDC5RdxY5kbQQAAAAAALJBA0Nmh6VVuCEEAAAAAAHiDQLnMJ1+sgABBAAAAAABAcUAIEBD2lNzuQAAAAAAAoGBA\",\"shape\":\"24, 2\"},\"hovertemplate\":\"source=survey\\u003cbr\\u003edept_hr=%{x}\\u003cbr\\u003epercentage=%{y}\\u003cbr\\u003etrexpfac=%{customdata[0]}\\u003cbr\\u003esample_count=%{customdata[1]}\\u003cextra\\u003e\\u003c\\u002fextra\\u003e\",\"legendgroup\":\"survey\",\"marker\":{\"color\":\"#8CC63E\",\"pattern\":{\"shape\":\"\"}},\"name\":\"survey\",\"offsetgroup\":\"survey\",\"orientation\":\"v\",\"showlegend\":true,\"textposition\":\"auto\",\"x\":{\"dtype\":\"i1\",\"bdata\":\"AAECAwQFBgcICQoLDA0ODxAREhMUFRYX\"},\"xaxis\":\"x\",\"y\":{\"dtype\":\"f8\",\"bdata\":\"5kBAJxWwUD9ZT8ymlOshP4Zk5wCKiCU\\u002f9324moSPTz\\u002fLrvzS+U90P62D2wuwQIo\\u002fxu882SF+mj88Tq7Y2P+yPwIgxdTavLM\\u002fcJRJLwKDrD+2hqLrwzSlPx9lpkUK4Ks\\u002fRWrTxMVhqz\\u002fNeoCdog6sP2Bd4y\\u002fGjbc\\u002frsflnzByuz9MPb4m5GO3P+MFomNqyrU\\u002fEzWgdF4isD83Av10JASmP6GhVUgsp6A\\u002fd9PBF5Z7jT8ymXe6POqDP73x53Men3I\\u002f\"},\"yaxis\":\"y\",\"type\":\"bar\"}],                        {\"template\":{\"data\":{\"barpolar\":[{\"marker\":{\"line\":{\"color\":\"white\",\"width\":0.5},\"pattern\":{\"fillmode\":\"overlay\",\"size\":10,\"solidity\":0.2}},\"type\":\"barpolar\"}],\"bar\":[{\"error_x\":{\"color\":\"rgb(36,36,36)\"},\"error_y\":{\"color\":\"rgb(36,36,36)\"},\"marker\":{\"line\":{\"color\":\"white\",\"width\":0.5},\"pattern\":{\"fillmode\":\"overlay\",\"size\":10,\"solidity\":0.2}},\"type\":\"bar\"}],\"carpet\":[{\"aaxis\":{\"endlinecolor\":\"rgb(36,36,36)\",\"gridcolor\":\"white\",\"linecolor\":\"white\",\"minorgridcolor\":\"white\",\"startlinecolor\":\"rgb(36,36,36)\"},\"baxis\":{\"endlinecolor\":\"rgb(36,36,36)\",\"gridcolor\":\"white\",\"linecolor\":\"white\",\"minorgridcolor\":\"white\",\"startlinecolor\":\"rgb(36,36,36)\"},\"type\":\"carpet\"}],\"choropleth\":[{\"colorbar\":{\"outlinewidth\":1,\"tickcolor\":\"rgb(36,36,36)\",\"ticks\":\"outside\"},\"type\":\"choropleth\"}],\"contourcarpet\":[{\"colorbar\":{\"outlinewidth\":1,\"tickcolor\":\"rgb(36,36,36)\",\"ticks\":\"outside\"},\"type\":\"contourcarpet\"}],\"contour\":[{\"colorbar\":{\"outlinewidth\":1,\"tickcolor\":\"rgb(36,36,36)\",\"ticks\":\"outside\"},\"colorscale\":[[0.0,\"#440154\"],[0.1111111111111111,\"#482878\"],[0.2222222222222222,\"#3e4989\"],[0.3333333333333333,\"#31688e\"],[0.4444444444444444,\"#26828e\"],[0.5555555555555556,\"#1f9e89\"],[0.6666666666666666,\"#35b779\"],[0.7777777777777778,\"#6ece58\"],[0.8888888888888888,\"#b5de2b\"],[1.0,\"#fde725\"]],\"type\":\"contour\"}],\"heatmap\":[{\"colorbar\":{\"outlinewidth\":1,\"tickcolor\":\"rgb(36,36,36)\",\"ticks\":\"outside\"},\"colorscale\":[[0.0,\"#440154\"],[0.1111111111111111,\"#482878\"],[0.2222222222222222,\"#3e4989\"],[0.3333333333333333,\"#31688e\"],[0.4444444444444444,\"#26828e\"],[0.5555555555555556,\"#1f9e89\"],[0.6666666666666666,\"#35b779\"],[0.7777777777777778,\"#6ece58\"],[0.8888888888888888,\"#b5de2b\"],[1.0,\"#fde725\"]],\"type\":\"heatmap\"}],\"histogram2dcontour\":[{\"colorbar\":{\"outlinewidth\":1,\"tickcolor\":\"rgb(36,36,36)\",\"ticks\":\"outside\"},\"colorscale\":[[0.0,\"#440154\"],[0.1111111111111111,\"#482878\"],[0.2222222222222222,\"#3e4989\"],[0.3333333333333333,\"#31688e\"],[0.4444444444444444,\"#26828e\"],[0.5555555555555556,\"#1f9e89\"],[0.6666666666666666,\"#35b779\"],[0.7777777777777778,\"#6ece58\"],[0.8888888888888888,\"#b5de2b\"],[1.0,\"#fde725\"]],\"type\":\"histogram2dcontour\"}],\"histogram2d\":[{\"colorbar\":{\"outlinewidth\":1,\"tickcolor\":\"rgb(36,36,36)\",\"ticks\":\"outside\"},\"colorscale\":[[0.0,\"#440154\"],[0.1111111111111111,\"#482878\"],[0.2222222222222222,\"#3e4989\"],[0.3333333333333333,\"#31688e\"],[0.4444444444444444,\"#26828e\"],[0.5555555555555556,\"#1f9e89\"],[0.6666666666666666,\"#35b779\"],[0.7777777777777778,\"#6ece58\"],[0.8888888888888888,\"#b5de2b\"],[1.0,\"#fde725\"]],\"type\":\"histogram2d\"}],\"histogram\":[{\"marker\":{\"line\":{\"color\":\"white\",\"width\":0.6}},\"type\":\"histogram\"}],\"mesh3d\":[{\"colorbar\":{\"outlinewidth\":1,\"tickcolor\":\"rgb(36,36,36)\",\"ticks\":\"outside\"},\"type\":\"mesh3d\"}],\"parcoords\":[{\"line\":{\"colorbar\":{\"outlinewidth\":1,\"tickcolor\":\"rgb(36,36,36)\",\"ticks\":\"outside\"}},\"type\":\"parcoords\"}],\"pie\":[{\"automargin\":true,\"type\":\"pie\"}],\"scatter3d\":[{\"line\":{\"colorbar\":{\"outlinewidth\":1,\"tickcolor\":\"rgb(36,36,36)\",\"ticks\":\"outside\"}},\"marker\":{\"colorbar\":{\"outlinewidth\":1,\"tickcolor\":\"rgb(36,36,36)\",\"ticks\":\"outside\"}},\"type\":\"scatter3d\"}],\"scattercarpet\":[{\"marker\":{\"colorbar\":{\"outlinewidth\":1,\"tickcolor\":\"rgb(36,36,36)\",\"ticks\":\"outside\"}},\"type\":\"scattercarpet\"}],\"scattergeo\":[{\"marker\":{\"colorbar\":{\"outlinewidth\":1,\"tickcolor\":\"rgb(36,36,36)\",\"ticks\":\"outside\"}},\"type\":\"scattergeo\"}],\"scattergl\":[{\"marker\":{\"colorbar\":{\"outlinewidth\":1,\"tickcolor\":\"rgb(36,36,36)\",\"ticks\":\"outside\"}},\"type\":\"scattergl\"}],\"scattermapbox\":[{\"marker\":{\"colorbar\":{\"outlinewidth\":1,\"tickcolor\":\"rgb(36,36,36)\",\"ticks\":\"outside\"}},\"type\":\"scattermapbox\"}],\"scattermap\":[{\"marker\":{\"colorbar\":{\"outlinewidth\":1,\"tickcolor\":\"rgb(36,36,36)\",\"ticks\":\"outside\"}},\"type\":\"scattermap\"}],\"scatterpolargl\":[{\"marker\":{\"colorbar\":{\"outlinewidth\":1,\"tickcolor\":\"rgb(36,36,36)\",\"ticks\":\"outside\"}},\"type\":\"scatterpolargl\"}],\"scatterpolar\":[{\"marker\":{\"colorbar\":{\"outlinewidth\":1,\"tickcolor\":\"rgb(36,36,36)\",\"ticks\":\"outside\"}},\"type\":\"scatterpolar\"}],\"scatter\":[{\"fillpattern\":{\"fillmode\":\"overlay\",\"size\":10,\"solidity\":0.2},\"type\":\"scatter\"}],\"scatterternary\":[{\"marker\":{\"colorbar\":{\"outlinewidth\":1,\"tickcolor\":\"rgb(36,36,36)\",\"ticks\":\"outside\"}},\"type\":\"scatterternary\"}],\"surface\":[{\"colorbar\":{\"outlinewidth\":1,\"tickcolor\":\"rgb(36,36,36)\",\"ticks\":\"outside\"},\"colorscale\":[[0.0,\"#440154\"],[0.1111111111111111,\"#482878\"],[0.2222222222222222,\"#3e4989\"],[0.3333333333333333,\"#31688e\"],[0.4444444444444444,\"#26828e\"],[0.5555555555555556,\"#1f9e89\"],[0.6666666666666666,\"#35b779\"],[0.7777777777777778,\"#6ece58\"],[0.8888888888888888,\"#b5de2b\"],[1.0,\"#fde725\"]],\"type\":\"surface\"}],\"table\":[{\"cells\":{\"fill\":{\"color\":\"rgb(237,237,237)\"},\"line\":{\"color\":\"white\"}},\"header\":{\"fill\":{\"color\":\"rgb(217,217,217)\"},\"line\":{\"color\":\"white\"}},\"type\":\"table\"}]},\"layout\":{\"annotationdefaults\":{\"arrowhead\":0,\"arrowwidth\":1},\"autotypenumbers\":\"strict\",\"coloraxis\":{\"colorbar\":{\"outlinewidth\":1,\"tickcolor\":\"rgb(36,36,36)\",\"ticks\":\"outside\"}},\"colorscale\":{\"diverging\":[[0.0,\"rgb(103,0,31)\"],[0.1,\"rgb(178,24,43)\"],[0.2,\"rgb(214,96,77)\"],[0.3,\"rgb(244,165,130)\"],[0.4,\"rgb(253,219,199)\"],[0.5,\"rgb(247,247,247)\"],[0.6,\"rgb(209,229,240)\"],[0.7,\"rgb(146,197,222)\"],[0.8,\"rgb(67,147,195)\"],[0.9,\"rgb(33,102,172)\"],[1.0,\"rgb(5,48,97)\"]],\"sequential\":[[0.0,\"#440154\"],[0.1111111111111111,\"#482878\"],[0.2222222222222222,\"#3e4989\"],[0.3333333333333333,\"#31688e\"],[0.4444444444444444,\"#26828e\"],[0.5555555555555556,\"#1f9e89\"],[0.6666666666666666,\"#35b779\"],[0.7777777777777778,\"#6ece58\"],[0.8888888888888888,\"#b5de2b\"],[1.0,\"#fde725\"]],\"sequentialminus\":[[0.0,\"#440154\"],[0.1111111111111111,\"#482878\"],[0.2222222222222222,\"#3e4989\"],[0.3333333333333333,\"#31688e\"],[0.4444444444444444,\"#26828e\"],[0.5555555555555556,\"#1f9e89\"],[0.6666666666666666,\"#35b779\"],[0.7777777777777778,\"#6ece58\"],[0.8888888888888888,\"#b5de2b\"],[1.0,\"#fde725\"]]},\"colorway\":[\"#91268F\",\"#8CC63E\",\"#00A7A0\",\"#F05A28\",\"#4C4C4C\",\"#630460\",\"#9f3913\",\"#588527\",\"#00716c\",\"#3e4040\"],\"font\":{\"color\":\"rgb(36,36,36)\",\"family\":\"Poppins\",\"size\":11},\"geo\":{\"bgcolor\":\"white\",\"lakecolor\":\"white\",\"landcolor\":\"white\",\"showlakes\":true,\"showland\":true,\"subunitcolor\":\"white\"},\"hoverlabel\":{\"align\":\"left\"},\"hovermode\":\"closest\",\"mapbox\":{\"style\":\"light\"},\"paper_bgcolor\":\"white\",\"plot_bgcolor\":\"white\",\"polar\":{\"angularaxis\":{\"gridcolor\":\"rgb(232,232,232)\",\"linecolor\":\"rgb(36,36,36)\",\"showgrid\":false,\"showline\":true,\"ticks\":\"outside\"},\"bgcolor\":\"white\",\"radialaxis\":{\"gridcolor\":\"rgb(232,232,232)\",\"linecolor\":\"rgb(36,36,36)\",\"showgrid\":false,\"showline\":true,\"ticks\":\"outside\"}},\"scene\":{\"xaxis\":{\"backgroundcolor\":\"white\",\"gridcolor\":\"rgb(232,232,232)\",\"gridwidth\":2,\"linecolor\":\"rgb(36,36,36)\",\"showbackground\":true,\"showgrid\":false,\"showline\":true,\"ticks\":\"outside\",\"zeroline\":false,\"zerolinecolor\":\"rgb(36,36,36)\"},\"yaxis\":{\"backgroundcolor\":\"white\",\"gridcolor\":\"rgb(232,232,232)\",\"gridwidth\":2,\"linecolor\":\"rgb(36,36,36)\",\"showbackground\":true,\"showgrid\":false,\"showline\":true,\"ticks\":\"outside\",\"zeroline\":false,\"zerolinecolor\":\"rgb(36,36,36)\"},\"zaxis\":{\"backgroundcolor\":\"white\",\"gridcolor\":\"rgb(232,232,232)\",\"gridwidth\":2,\"linecolor\":\"rgb(36,36,36)\",\"showbackground\":true,\"showgrid\":false,\"showline\":true,\"ticks\":\"outside\",\"zeroline\":false,\"zerolinecolor\":\"rgb(36,36,36)\"}},\"shapedefaults\":{\"fillcolor\":\"black\",\"line\":{\"width\":0},\"opacity\":0.3},\"ternary\":{\"aaxis\":{\"gridcolor\":\"rgb(232,232,232)\",\"linecolor\":\"rgb(36,36,36)\",\"showgrid\":false,\"showline\":true,\"ticks\":\"outside\"},\"baxis\":{\"gridcolor\":\"rgb(232,232,232)\",\"linecolor\":\"rgb(36,36,36)\",\"showgrid\":false,\"showline\":true,\"ticks\":\"outside\"},\"bgcolor\":\"white\",\"caxis\":{\"gridcolor\":\"rgb(232,232,232)\",\"linecolor\":\"rgb(36,36,36)\",\"showgrid\":false,\"showline\":true,\"ticks\":\"outside\"}},\"title\":{\"x\":0.05},\"xaxis\":{\"automargin\":true,\"gridcolor\":\"rgb(232,232,232)\",\"linecolor\":\"rgb(36,36,36)\",\"showgrid\":false,\"showline\":true,\"ticks\":\"outside\",\"title\":{\"standoff\":15},\"zeroline\":false,\"zerolinecolor\":\"rgb(36,36,36)\"},\"yaxis\":{\"automargin\":true,\"gridcolor\":\"rgb(232,232,232)\",\"linecolor\":\"rgb(36,36,36)\",\"showgrid\":false,\"showline\":true,\"ticks\":\"outside\",\"title\":{\"standoff\":15},\"zeroline\":false,\"zerolinecolor\":\"rgb(36,36,36)\"}}},\"xaxis\":{\"anchor\":\"y\",\"domain\":[0.0,1.0],\"title\":{\"text\":\"dept_hr\"},\"dtick\":1,\"categoryorder\":\"category ascending\"},\"yaxis\":{\"anchor\":\"x\",\"domain\":[0.0,1.0],\"title\":{\"text\":\"percentage\"},\"tickformat\":\".0%\"},\"legend\":{\"title\":{\"text\":\"source\"},\"tracegroupgap\":0},\"title\":{\"text\":\"trip origin departure hour\"},\"barmode\":\"group\",\"font\":{\"size\":11},\"height\":400,\"width\":700},                        {\"responsive\": true}                    ).then(function(){\n",
       "                            \n",
       "var gd = document.getElementById('82e05296-476a-48c4-8ed7-a1e0cdb70fe3');\n",
       "var x = new MutationObserver(function (mutations, observer) {{\n",
       "        var display = window.getComputedStyle(gd).display;\n",
       "        if (!display || display === 'none') {{\n",
       "            console.log([gd, 'removed!']);\n",
       "            Plotly.purge(gd);\n",
       "            observer.disconnect();\n",
       "        }}\n",
       "}});\n",
       "\n",
       "// Listen for the removal of the full notebook cells\n",
       "var notebookContainer = gd.closest('#notebook-container');\n",
       "if (notebookContainer) {{\n",
       "    x.observe(notebookContainer, {childList: true});\n",
       "}}\n",
       "\n",
       "// Listen for the clearing of the current output cell\n",
       "var outputEl = gd.closest('.output');\n",
       "if (outputEl) {{\n",
       "    x.observe(outputEl, {childList: true});\n",
       "}}\n",
       "\n",
       "                        })                };            </script>        </div>"
      ]
     },
     "metadata": {},
     "output_type": "display_data"
    }
   ],
   "source": [
    "df_plot = df_trip.groupby(['dept_hr','source'])['trexpfac'].agg(sample_count='size', trexpfac='sum').reset_index()\n",
    "df_plot['percentage'] = df_plot.groupby(['source'], group_keys=False)['trexpfac']. \\\n",
    "    apply(lambda x: x / float(x.sum()))\n",
    "\n",
    "fig = px.bar(df_plot, x=\"dept_hr\", y=\"percentage\", color=\"source\",\n",
    "             barmode=\"group\",title=\"trip origin departure hour\",\n",
    "             hover_data=['trexpfac','sample_count'])\n",
    "fig.update_layout(height=400, width=700, font=dict(size=11),\n",
    "                  xaxis = dict(dtick = 1, categoryorder='category ascending'),\n",
    "                  yaxis=dict(tickformat=\".0%\"))\n",
    "fig.show()"
   ]
  },
  {
   "cell_type": "raw",
   "metadata": {
    "vscode": {
     "languageId": "raw"
    }
   },
   "source": [
    ":::"
   ]
  },
  {
   "cell_type": "markdown",
   "metadata": {
    "collapsed": false
   },
   "source": [
    "## time choice by purpose"
   ]
  },
  {
   "cell_type": "raw",
   "metadata": {
    "vscode": {
     "languageId": "raw"
    }
   },
   "source": [
    ":::{.panel-tabset}\n",
    "### tour"
   ]
  },
  {
   "cell_type": "code",
   "execution_count": 6,
   "metadata": {
    "ExecuteTime": {
     "end_time": "2024-07-15T04:43:21.363175Z",
     "start_time": "2024-07-15T04:43:20.456962Z"
    },
    "collapsed": false,
    "execution": {
     "iopub.execute_input": "2025-05-09T00:07:54.552712Z",
     "iopub.status.busy": "2025-05-09T00:07:54.550718Z",
     "iopub.status.idle": "2025-05-09T00:07:55.572892Z",
     "shell.execute_reply": "2025-05-09T00:07:55.570789Z"
    }
   },
   "outputs": [
    {
     "name": "stderr",
     "output_type": "stream",
     "text": [
      "C:\\Users\\modeller\\AppData\\Local\\Temp\\ipykernel_48884\\1038879768.py:1: FutureWarning:\n",
      "\n",
      "The default of observed=False is deprecated and will be changed to True in a future version of pandas. Pass observed=False to retain current behavior or observed=True to adopt the future default and silence this warning.\n",
      "\n"
     ]
    },
    {
     "name": "stderr",
     "output_type": "stream",
     "text": [
      "C:\\Users\\modeller\\AppData\\Local\\Temp\\ipykernel_48884\\1038879768.py:2: FutureWarning:\n",
      "\n",
      "The default of observed=False is deprecated and will be changed to True in a future version of pandas. Pass observed=False to retain current behavior or observed=True to adopt the future default and silence this warning.\n",
      "\n"
     ]
    },
    {
     "data": {
      "application/vnd.plotly.v1+json": {
       "config": {
        "plotlyServerURL": "https://plot.ly"
       },
       "data": [
        {
         "alignmentgroup": "True",
         "customdata": {
          "bdata": "AAAAAACwmUAAAAAAALCZQAAAAAAAyI9AAAAAAADIj0AAAAAAALB5QAAAAAAAsHlAAAAAAEBz5kAAAAAAQHPmQAAAAADApeZAAAAAAMCl5kAAAAAAUDr5QAAAAABQOvlAAAAAADgvD0EAAAAAOC8PQQAAAADQtRNBAAAAANC1E0EAAAAAkLwPQQAAAACQvA9BAAAAACijAEEAAAAAKKMAQQAAAABgKvRAAAAAAGAq9EAAAAAAQBTwQAAAAABAFPBAAAAAAMDS6UAAAAAAwNLpQAAAAABA7+RAAAAAAEDv5EAAAAAA4BniQAAAAADgGeJAAAAAACAa4EAAAAAAIBrgQAAAAAAA295AAAAAAADb3kAAAAAAgOHcQAAAAACA4dxAAAAAAIDc10AAAAAAgNzXQAAAAAAAYMlAAAAAAABgyUAAAAAAgGzEQAAAAACAbMRAAAAAAADMu0AAAAAAAMy7QAAAAAAARqpAAAAAAABGqkAAAAAAAG6iQAAAAAAAbqJA",
          "dtype": "f8",
          "shape": "24, 2"
         },
         "hovertemplate": "source=model<br>pdpurp_label=Work<br>tlvorg_hr=%{x}<br>percentage=%{y}<br>toexpfac=%{customdata[0]}<br>sample_count=%{customdata[1]}<extra></extra>",
         "legendgroup": "model",
         "marker": {
          "color": "#91268F",
          "pattern": {
           "shape": ""
          }
         },
         "name": "model",
         "offsetgroup": "model",
         "orientation": "v",
         "showlegend": true,
         "textposition": "auto",
         "type": "bar",
         "x": {
          "bdata": "AAECAwQFBgcICQoLDA0ODxAREhMUFRYX",
          "dtype": "i1"
         },
         "xaxis": "x6",
         "y": {
          "bdata": "l3TgT/S7UD9FZe+LOLREP5d04E/0uzA/dQnxHyBAnT+vr1sX7IGdP/XEtVZJb7A/3ric67BQxD+H+JvuN67JP6XurRfFrMQ/Fu/Ci0ettT8IYk2kFkaqP/kfEgoW86Q/Xg8ao5fSoD95YmIYmUabP9FHF7KAlZc/9QYVnL36lD/z8HiY0xmUP6OXlGCE0JI/T8Dv2swWjz96GXCO1oeAP9rrRzs+nHo/mNuWKb0bcj9tH5MarB1hP9YtURMcA1g/",
          "dtype": "f8"
         },
         "yaxis": "y6"
        },
        {
         "alignmentgroup": "True",
         "customdata": {
          "bdata": "AAAAAAAA8D8AAAAAAADwPwAAAAAAAAAAAAAAAAAAAAAAAAAAAAAAAAAAAAAAAAAAAAAAAADWqkAAAAAAANaqQAAAAAAAzKtAAAAAAADMq0AAAAAAALXGQAAAAAAAtcZAAAAAACBx8EAAAAAAIHHwQAAAAABwhANBAAAAAHCEA0EAAAAAEC8EQQAAAAAQLwRBAAAAABCS80AAAAAAEJLzQAAAAADg1eFAAAAAAODV4UAAAAAAACzWQAAAAAAALNZAAAAAAACZzEAAAAAAAJnMQAAAAAAApMNAAAAAAACkw0AAAAAAAEW9QAAAAAAARb1AAAAAAADjtUAAAAAAAOO1QAAAAAAAj7NAAAAAAACPs0AAAAAAAJKxQAAAAAAAkrFAAAAAAABIq0AAAAAAAEirQAAAAAAAzJNAAAAAAADMk0AAAAAAAMyRQAAAAAAAzJFAAAAAAADIhUAAAAAAAMiFQAAAAAAAACRAAAAAAAAAJEAAAAAAAADwPwAAAAAAAPA/",
          "dtype": "f8",
          "shape": "24, 2"
         },
         "hovertemplate": "source=model<br>pdpurp_label=School<br>tlvorg_hr=%{x}<br>percentage=%{y}<br>toexpfac=%{customdata[0]}<br>sample_count=%{customdata[1]}<extra></extra>",
         "legendgroup": "model",
         "marker": {
          "color": "#91268F",
          "pattern": {
           "shape": ""
          }
         },
         "name": "model",
         "offsetgroup": "model",
         "orientation": "v",
         "showlegend": false,
         "textposition": "auto",
         "type": "bar",
         "x": {
          "bdata": "AAECAwQFBgcICQoLDA0ODxAREhMUFRYX",
          "dtype": "i1"
         },
         "xaxis": "x5",
         "y": {
          "bdata": "4SE81wzBuz4AAAAAAAAAAAAAAAAAAAAAqT3AdHVGdz/u23aH0Rt4P2rDmsS0sZM/COkFxEeFvD98fXAYfe3QPxwh6HF5gdE/FiLoSk75wD/M+VQuHPCuP/lJoUXiOqM/J7W5QZ7NmD9LyJoB3QiRP12YvubLYok/zEhW4JH7gj/ViC1RpvaAP7To2zlfen4/4gN/MlWpdz9106dRjithP68iaAj73l4/D66A/SbkUj8slYUGqFjxPuEhPNcMwbs+",
          "dtype": "f8"
         },
         "yaxis": "y5"
        },
        {
         "alignmentgroup": "True",
         "customdata": {
          "bdata": "AAAAAAAAc0AAAAAAAABzQAAAAAAAcHBAAAAAAABwcEAAAAAAAABeQAAAAAAAAF5AAAAAAAAok0AAAAAAACiTQAAAAAAAsIxAAAAAAACwjEAAAAAAAHagQAAAAAAAdqBAAAAAAABIxUAAAAAAAEjFQAAAAADAut5AAAAAAMC63kAAAAAAQLrqQAAAAABAuupAAAAAAABf8EAAAAAAAF/wQAAAAADgdPBAAAAAAOB08EAAAAAAwCXrQAAAAADAJetAAAAAAGBE6kAAAAAAYETqQAAAAABAlexAAAAAAECV7EAAAAAAYJDqQAAAAABgkOpAAAAAAMDv6EAAAAAAwO/oQAAAAADgvOtAAAAAAOC860AAAAAA4D7pQAAAAADgPulAAAAAAIAS6EAAAAAAgBLoQAAAAADAvt5AAAAAAMC+3kAAAAAAwHTSQAAAAADAdNJAAAAAAACiwUAAAAAAAKLBQAAAAAAAXqNAAAAAAABeo0AAAAAAADyTQAAAAAAAPJNA",
          "dtype": "f8",
          "shape": "24, 2"
         },
         "hovertemplate": "source=model<br>pdpurp_label=Shop<br>tlvorg_hr=%{x}<br>percentage=%{y}<br>toexpfac=%{customdata[0]}<br>sample_count=%{customdata[1]}<extra></extra>",
         "legendgroup": "model",
         "marker": {
          "color": "#91268F",
          "pattern": {
           "shape": ""
          }
         },
         "name": "model",
         "offsetgroup": "model",
         "orientation": "v",
         "showlegend": false,
         "textposition": "auto",
         "type": "bar",
         "x": {
          "bdata": "AAECAwQFBgcICQoLDA0ODxAREhMUFRYX",
          "dtype": "i1"
         },
         "xaxis": "x4",
         "y": {
          "bdata": "qeAkm7FCOz/+vmAFfZU3P9a+2b1+hSU/+8/JlxV8Wz9Ka4tldJRUP7GvrNEYnmc/87lZnZiIjj+0kDdZdwumPxgrZBeCLLM/rj807Rh9tz+Pcl6be5y3P6/M4XKgebM/EozvXfLXsj8ReHfDQ4G0P9PVJcF3DrM/Fkk5pJbjsT/6K76HCuazPzAETu9ZHLI/NiOBHd5EsT9FNqbyVQ6mPx8ZbSDnepo/mbKBuIZMiT9ERnXGj8lrP6RHHJbHmFs/",
          "dtype": "f8"
         },
         "yaxis": "y4"
        },
        {
         "alignmentgroup": "True",
         "customdata": {
          "bdata": "AAAAAAAQeEAAAAAAABB4QAAAAAAAAHBAAAAAAAAAcEAAAAAAAIBcQAAAAAAAgFxAAAAAAAB8kkAAAAAAAHySQAAAAAAA8IpAAAAAAADwikAAAAAAAAydQAAAAAAADJ1AAAAAAAA3tkAAAAAAADe2QAAAAAAA4cNAAAAAAADhw0AAAAAAANnSQAAAAAAA2dJAAAAAAEBO2UAAAAAAQE7ZQAAAAABAEt9AAAAAAEAS30AAAAAAgNvdQAAAAACA291AAAAAAED+3kAAAAAAQP7eQAAAAAAARNxAAAAAAABE3EAAAAAAADvaQAAAAAAAO9pAAAAAAAAm2EAAAAAAACbYQAAAAAAAyt1AAAAAAADK3UAAAAAAQJDeQAAAAABAkN5AAAAAAECH30AAAAAAQIffQAAAAADA49NAAAAAAMDj00AAAAAAgMfMQAAAAACAx8xAAAAAAACTw0AAAAAAAJPDQAAAAAAATqJAAAAAAABOokAAAAAAAGSQQAAAAAAAZJBA",
          "dtype": "f8",
          "shape": "24, 2"
         },
         "hovertemplate": "source=model<br>pdpurp_label=Meal<br>tlvorg_hr=%{x}<br>percentage=%{y}<br>toexpfac=%{customdata[0]}<br>sample_count=%{customdata[1]}<extra></extra>",
         "legendgroup": "model",
         "marker": {
          "color": "#91268F",
          "pattern": {
           "shape": ""
          }
         },
         "name": "model",
         "offsetgroup": "model",
         "orientation": "v",
         "showlegend": false,
         "textposition": "auto",
         "type": "bar",
         "x": {
          "bdata": "AAECAwQFBgcICQoLDA0ODxAREhMUFRYX",
          "dtype": "i1"
         },
         "xaxis": "x3",
         "y": {
          "bdata": "7hQppjd4UD/aFYmEBedFP3YXCurAgTM//l7dn6RNaT/lZREl+W9iPzXvLaKT4XM/RhU0ufFojj+2kfpKVzabP82772/zzKk/STAJOwtSsT9ZY4oZS0S1Px9Y9amZb7Q/rI0Xtpo2tT9tlrG/r1izP4G+220W9LE/LTP0eUaHsD8n3fBSn2O0P3D2H5NQ67Q/kfi2xV+UtT9FWe3/GjqrP8M5XhqxsqM/a3UUEJHLmj/fVABwrA55P6JuBWfpb2Y/",
          "dtype": "f8"
         },
         "yaxis": "y3"
        },
        {
         "alignmentgroup": "True",
         "customdata": {
          "bdata": "AAAAAABAbUAAAAAAAEBtQAAAAAAAQGhAAAAAAABAaEAAAAAAAIBcQAAAAAAAgFxAAAAAAADytkAAAAAAAPK2QAAAAAAAGqpAAAAAAAAaqkAAAAAAANq2QAAAAAAA2rZAAAAAAMAg00AAAAAAwCDTQAAAAACAfuNAAAAAAIB+40AAAAAA4EnuQAAAAADgSe5AAAAAABC38UAAAAAAELfxQAAAAABgvO9AAAAAAGC870AAAAAAgK/nQAAAAACAr+dAAAAAAGAW5UAAAAAAYBblQAAAAABgEOZAAAAAAGAQ5kAAAAAAYMTjQAAAAABgxONAAAAAAKDq4kAAAAAAoOriQAAAAADguuJAAAAAAOC64kAAAAAAAH/eQAAAAAAAf95AAAAAAADN2UAAAAAAAM3ZQAAAAACATtFAAAAAAIBO0UAAAAAAAI7IQAAAAAAAjshAAAAAAABYu0AAAAAAAFi7QAAAAAAACKBAAAAAAAAIoEAAAAAAAOCQQAAAAAAA4JBA",
          "dtype": "f8",
          "shape": "24, 2"
         },
         "hovertemplate": "source=model<br>pdpurp_label=Escort<br>tlvorg_hr=%{x}<br>percentage=%{y}<br>toexpfac=%{customdata[0]}<br>sample_count=%{customdata[1]}<extra></extra>",
         "legendgroup": "model",
         "marker": {
          "color": "#91268F",
          "pattern": {
           "shape": ""
          }
         },
         "name": "model",
         "offsetgroup": "model",
         "orientation": "v",
         "showlegend": false,
         "textposition": "auto",
         "type": "bar",
         "x": {
          "bdata": "AAECAwQFBgcICQoLDA0ODxAREhMUFRYX",
          "dtype": "i1"
         },
         "xaxis": "x2",
         "y": {
          "bdata": "ZYtF6+pyOD/8JihnBEU0P1W82r1u0ic/ya57Ddctgz8r1kf3NtF1P+dUzofHGYM/wBWiBP75nz/7MX6kW0uwPyDzKeAmUbk/oSyFK1qdvT+xDs5/1oa6PyZvpEc8zLM/2UKkxUigsT92AHLLP3GyP1bmWoDDhbA/AjNcrIKfrz8EaBqTr0+vP2urZZGOfak/Iau7f9qQpT8ZrGKVje6cPxuLm9k2hpQ/Hb2AogTbhj/gE5aVvMxqP8NlxvvTNVw/",
          "dtype": "f8"
         },
         "yaxis": "y2"
        },
        {
         "alignmentgroup": "True",
         "customdata": {
          "bdata": "AAAAAACgZkAAAAAAAKBmQAAAAAAAAFxAAAAAAAAAXEAAAAAAAABHQAAAAAAAAEdAAAAAAACmo0AAAAAAAKajQAAAAAAAvJZAAAAAAAC8lkAAAAAAALSoQAAAAAAAtKhAAAAAAIA5w0AAAAAAgDnDQAAAAADAFtRAAAAAAMAW1EAAAAAAwKXgQAAAAADApeBAAAAAAOBR5EAAAAAA4FHkQAAAAADANeNAAAAAAMA140AAAAAAQMfeQAAAAABAx95AAAAAAEDk3EAAAAAAQOTcQAAAAAAAn91AAAAAAACf3UAAAAAAAATZQAAAAAAABNlAAAAAAAA610AAAAAAADrXQAAAAADA2tlAAAAAAMDa2UAAAAAAAKrXQAAAAAAAqtdAAAAAAEBj1UAAAAAAQGPVQAAAAACAeMlAAAAAAIB4yUAAAAAAAFTCQAAAAAAAVMJAAAAAAAAOtUAAAAAAAA61QAAAAAAACJNAAAAAAAAIk0AAAAAAAICBQAAAAAAAgIFA",
          "dtype": "f8",
          "shape": "24, 2"
         },
         "hovertemplate": "source=model<br>pdpurp_label=Personal Business<br>tlvorg_hr=%{x}<br>percentage=%{y}<br>toexpfac=%{customdata[0]}<br>sample_count=%{customdata[1]}<extra></extra>",
         "legendgroup": "model",
         "marker": {
          "color": "#91268F",
          "pattern": {
           "shape": ""
          }
         },
         "name": "model",
         "offsetgroup": "model",
         "orientation": "v",
         "showlegend": false,
         "textposition": "auto",
         "type": "bar",
         "x": {
          "bdata": "AAECAwQFBgcICQoLDA0ODxAREhMUFRYX",
          "dtype": "i1"
         },
         "xaxis": "x",
         "y": {
          "bdata": "5LwSg+/0PT+rX5Mwa4kyP5n4qIYLdB4/+0KaJgEEej+k43NZAhpuP4xOJLaqWoA/1czhJ1h0mT9wCia4SpmqP9mrkEzMCrY/iuawo5Pnuj+A7r0PYW+5P4KRh0xJYLQ/UKOB04Ygsz9jw/4SKZyzP8I8+Ayhj7A/ARIpHtfArj808KW3zB2xP/6srXciVa8/kLbnaYpRrD+nD9BhwdygPxqmTi95RJg/4KINNKrgiz8MVgi2zTJpP5Y3uPzFK1c/",
          "dtype": "f8"
         },
         "yaxis": "y"
        },
        {
         "alignmentgroup": "True",
         "customdata": {
          "bdata": "AAAAAAAAAAAAAAAAAAAAABq0z6uRIHJAAAAAAAAA8D8AAAAAAAAAAAAAAAAAAAAA0tVLAlDizEAAAAAAAAA1QFx+yGLfb+5AAAAAAABAUEAuQN0sD/76QAAAAAAA4GBArA8JM8VMDEEAAAAAABB3QIZBGK0pGxVBAAAAAAAwg0ANQH1dWZoPQQAAAAAAgH9A+YjUBb7wAEEAAAAAAEByQGEesonUeeRAAAAAAABAZUCEyRpB0ojiQAAAAAAAwFhA5qvcbD1z3kAAAAAAAIBaQG/f5pEDXdhAAAAAAABAUUBmU3bxwKXaQAAAAAAAAE9AgbC4T1rc2kAAAAAAAABJQJeCMAPioNJAAAAAAACAQEAxWxC+/w/IQAAAAAAAAEFATRHVZ2+MnkAAAAAAAAAkQPuQBcY1TodAAAAAAAAAHEBH82UgB+1wQAAAAAAAABxAcAdvqEVzXEAAAAAAAAAIQNj+/AW9NXhAAAAAAAAAGEBl4E0BBGptQAAAAAAAAPA/",
          "dtype": "f8",
          "shape": "24, 2"
         },
         "hovertemplate": "source=survey<br>pdpurp_label=Work<br>tlvorg_hr=%{x}<br>percentage=%{y}<br>toexpfac=%{customdata[0]}<br>sample_count=%{customdata[1]}<extra></extra>",
         "legendgroup": "survey",
         "marker": {
          "color": "#8CC63E",
          "pattern": {
           "shape": ""
          }
         },
         "name": "survey",
         "offsetgroup": "survey",
         "orientation": "v",
         "showlegend": true,
         "textposition": "auto",
         "type": "bar",
         "x": {
          "bdata": "AAECAwQFBgcICQoLDA0ODxAREhMUFRYX",
          "dtype": "i1"
         },
         "xaxis": "x6",
         "y": {
          "bdata": "AAAAAAAAAABVBBAde10rPwAAAAAAAAAAWo8YB0rNhT9lO8DvXvmmPzV6uE/FX7Q/26R312lcxT9TvIqMtNzPP9TEj9Sp2sc/TBqLptGSuT/DwkKoJ+meP3VIkaXc+ps/G7tvnOn7lj/MkXwfwGOSPyNiDfAdHZQ/pEQsLFRGlD8e12OFLx+MP1GCbnOeKYI/Va9CHO4OVz+lChBuWJdBP9nVYik2jSk/BydQlHl5FT9AE+vdGkYyP/UvgxG4MyY/",
          "dtype": "f8"
         },
         "yaxis": "y6"
        },
        {
         "alignmentgroup": "True",
         "customdata": {
          "bdata": "AAAAAAAAAAAAAAAAAAAAAAAAAAAAAAAAAAAAAAAAAAAAAAAAAAAAAAAAAAAAAAAAAAAAAAAAAAAAAAAAAAAAABXug+gRrFVAAAAAAAAA8D+dwa9xRmZ8QAAAAAAAABBAuuUZIj6A4UAAAAAAAAA8QCh/bAZTjwZBAAAAAACgbEClPKxJ/8gFQQAAAAAAYHBA3tvEO9a66kAAAAAAAIBLQPdSYTBkncZAAAAAAAAAM0BSnx+6l9mwQAAAAAAAACxAsTXHA4G2tUAAAAAAAAAiQNHSt2HkTalAAAAAAAAAJkDb2blpikSlQAAAAAAAABhAafnaty14kEAAAAAAAAAQQIz1IaMZkq5AAAAAAAAAHECPuJ3iBiuLQAAAAAAAABRAE7jHjZGnl0AAAAAAAADwPwAAAAAAAAAAAAAAAAAAAAAAAAAAAAAAAAAAAAAAAAAAAAAAAAAAAAAAAAAAAAAAAAAAAAAAAAAAAAAAAAAAAAAAAAAAAAAAAAAAAAAAAAAA",
          "dtype": "f8",
          "shape": "24, 2"
         },
         "hovertemplate": "source=survey<br>pdpurp_label=School<br>tlvorg_hr=%{x}<br>percentage=%{y}<br>toexpfac=%{customdata[0]}<br>sample_count=%{customdata[1]}<extra></extra>",
         "legendgroup": "survey",
         "marker": {
          "color": "#8CC63E",
          "pattern": {
           "shape": ""
          }
         },
         "name": "survey",
         "offsetgroup": "survey",
         "orientation": "v",
         "showlegend": false,
         "textposition": "auto",
         "type": "bar",
         "x": {
          "bdata": "AAECAwQFBgcICQoLDA0ODxAREhMUFRYX",
          "dtype": "i1"
         },
         "xaxis": "x5",
         "y": {
          "bdata": "AAAAAAAAAAAAAAAAAAAAAAAAAAAAAAAAAAAAAAAAAAD9tG2FdjonP1VySt9VcE4/pn10LfXBsj+93vIwCS7YP512mal3Wdc/ZY/RLjSmvD/0GhfyHD2YPzIUcEpXD4I/bnbkbqVFhz951I2nDR97P4bYUuB/y3Y/2V7Ai+6mYT8eX+dRCWKAPx62WDFzHl0/F6gTX2daaT8AAAAAAAAAAAAAAAAAAAAAAAAAAAAAAAAAAAAAAAAAAAAAAAAAAAAA",
          "dtype": "f8"
         },
         "yaxis": "y5"
        },
        {
         "alignmentgroup": "True",
         "customdata": {
          "bdata": "1QdIDa/wYUAAAAAAAADwPwAAAAAAAAAAAAAAAAAAAADR7iqYLNeBQAAAAAAAAPA/AAAAAAAAAAAAAAAAAAAAAAAAAAAAAAAAAAAAAAAAAACAp8IqHEaIQAAAAAAAABRA7Xrek5qhskAAAAAAAAAgQM6PcArzpcdAAAAAAAAAQkDzoDmFr7rRQAAAAAAAgEpAMzyLdM1I6kAAAAAAAMBcQNsW0zH1iu5AAAAAAABgZEC33pMGK2jxQAAAAAAAgF5AUAfsNpTl7EAAAAAAAABfQBAHTd2GBO1AAAAAAADgYEAcjmpqYqTuQAAAAAAAQGNAwYM7z9fE8EAAAAAAAMBbQKXgcywz5OpAAAAAAACAW0C8236fG8XbQAAAAAAAwF1ASnebqF5z7kAAAAAAAIBZQHBBIj8M99NAAAAAAABAVkBY3i6bbXK8QAAAAAAAAEBAZ5M5IQOOn0AAAAAAAAAsQL9tea/HWqJAAAAAAAAAHEBKD+y8mqKDQAAAAAAAAAhA",
          "dtype": "f8",
          "shape": "24, 2"
         },
         "hovertemplate": "source=survey<br>pdpurp_label=Shop<br>tlvorg_hr=%{x}<br>percentage=%{y}<br>toexpfac=%{customdata[0]}<br>sample_count=%{customdata[1]}<extra></extra>",
         "legendgroup": "survey",
         "marker": {
          "color": "#8CC63E",
          "pattern": {
           "shape": ""
          }
         },
         "name": "survey",
         "offsetgroup": "survey",
         "orientation": "v",
         "showlegend": false,
         "textposition": "auto",
         "type": "bar",
         "x": {
          "bdata": "AAECAwQFBgcICQoLDA0ODxAREhMUFRYX",
          "dtype": "i1"
         },
         "xaxis": "x4",
         "y": {
          "bdata": "AWzaforQLD8AAAAAAAAAAOWBOJmRp0w/AAAAAAAAAAAAAAAAAAAAAMgENdBlflM/nHidf7PsfT9wikXTxv2SPybxHdPPeZw/O7eQCbwbtT8J4K4ONoe4P5LcarVG9bs/sa778M80tz+85NFsqk23P8A0kHOhm7g/9hI3m/Puuj+ZxMm/h5i1P+PN4fclTaY/rp6mqER0uD+ZqJVJjgigPxz02mZW2IY/OPXTWEBXaT/czveO8nptP7SNtpp7iU8/",
          "dtype": "f8"
         },
         "yaxis": "y4"
        },
        {
         "alignmentgroup": "True",
         "customdata": {
          "bdata": "S+8gLvrEg0AAAAAAAADwPwAAAAAAAAAAAAAAAAAAAAAAAAAAAAAAAAAAAAAAAAAAAAAAAAAAAAAAAAAAAAAAAMRVEpr8TzdAAAAAAAAA8D8g+/hVTwlHQAAAAAAAAABA9Mg1M47bpkAAAAAAAAAgQFJAubgdz9ZAAAAAAAAANEBgiJ9TBZnLQAAAAAAAAEZAWgmn1kz/zkAAAAAAAIBIQNKNFhfugNVAAAAAAACATEAbN5FlX7ngQAAAAAAAgFpAQvsd5Nai4kAAAAAAAABdQFo4W/eeHMtAAAAAAACATkAa9BZkDw7KQAAAAAAAAENAv5KS4gNg3kAAAAAAAABMQIkSzmCCxdFAAAAAAACATEBzE711dwPdQAAAAAAAAFhAP6++QyeO40AAAAAAAABaQPebI3fYFOFAAAAAAACAS0BvPnUpTADLQAAAAAAAAEBAIkiIyhSarkAAAAAAAAAmQCRB862zG1BAAAAAAAAAAECW8Rw5KIKCQAAAAAAAAABA",
          "dtype": "f8",
          "shape": "24, 2"
         },
         "hovertemplate": "source=survey<br>pdpurp_label=Meal<br>tlvorg_hr=%{x}<br>percentage=%{y}<br>toexpfac=%{customdata[0]}<br>sample_count=%{customdata[1]}<extra></extra>",
         "legendgroup": "survey",
         "marker": {
          "color": "#8CC63E",
          "pattern": {
           "shape": ""
          }
         },
         "name": "survey",
         "offsetgroup": "survey",
         "orientation": "v",
         "showlegend": false,
         "textposition": "auto",
         "type": "bar",
         "x": {
          "bdata": "AAECAwQFBgcICQoLDA0ODxAREhMUFRYX",
          "dtype": "i1"
         },
         "xaxis": "x3",
         "y": {
          "bdata": "V2/FfbiFXT8AAAAAAAAAAAAAAAAAAAAAAAAAAAAAAABgOf/0F2gRP0b3+FNSMyE/mUm0higRgT9DyrHI3gexPy1ZLjc2m6Q/bRW0FwUlpz+0/CtHWA6wP8oXuA2D+bg/EnIiznLUuz8xb+CdUz6kP/a3xdlOdKM/6xGHUhautj/eQTPV7YmqP7wjo3rWqbU/ZF7wstkzvT8VR5KEHIK5P8v7yq8tKaQ/khPBcXHZhj9VYLGcDg4oP7ABBZeko1s/",
          "dtype": "f8"
         },
         "yaxis": "y3"
        },
        {
         "alignmentgroup": "True",
         "customdata": {
          "bdata": "AAAAAAAAAAAAAAAAAAAAAAAAAAAAAAAAAAAAAAAAAAAAAAAAAAAAAAAAAAAAAAAAAAAAAAAAAAAAAAAAAAAAAI2cHv82rK9AAAAAAAAA8D8sAPvhXkusQAAAAAAAACBAsV/2nwVcy0AAAAAAAAAuQDNFaCSsdfNAAAAAAAAAXEBRihx+nTf6QAAAAAAAwGJABlgyxoYD4EAAAAAAAABHQGJNsNjzkrZAAAAAAAAAO0ADRZiCEWjDQAAAAAAAADdAk/j7DzBKykAAAAAAAABDQPeu60IUiONAAAAAAACAR0A80XSvYY/rQAAAAAAAAFJApPhITjFg8EAAAAAAAEBUQBf2lv/3j+JAAAAAAACAS0AxhYnaJcHoQAAAAAAAgEpAwLee8/Rlq0AAAAAAAAAxQIZjwHVZU8NAAAAAAAAAMEA4Pz6hrnegQAAAAAAAACBAxHQVY1SkdEAAAAAAAAAUQJQ4vZMi0LdAAAAAAAAAFEAAAAAAAAAAAAAAAAAAAAAA",
          "dtype": "f8",
          "shape": "24, 2"
         },
         "hovertemplate": "source=survey<br>pdpurp_label=Escort<br>tlvorg_hr=%{x}<br>percentage=%{y}<br>toexpfac=%{customdata[0]}<br>sample_count=%{customdata[1]}<extra></extra>",
         "legendgroup": "survey",
         "marker": {
          "color": "#8CC63E",
          "pattern": {
           "shape": ""
          }
         },
         "name": "survey",
         "offsetgroup": "survey",
         "orientation": "v",
         "showlegend": false,
         "textposition": "auto",
         "type": "bar",
         "x": {
          "bdata": "AAECAwQFBgcICQoLDA0ODxAREhMUFRYX",
          "dtype": "i1"
         },
         "xaxis": "x2",
         "y": {
          "bdata": "AAAAAAAAAAAAAAAAAAAAAAAAAAAAAAAAAAAAAAAAAACkluduR3l+Pyrh9WYsOXs/iH5ro+JSmj+iyop1F7nCP3bTwi2MOck/LdWar63Qrj8HK7DVMLiFP5y2bKkArJI/ryPFw2pLmT+HIZMzzcqyP2Im6/pMhLo/GydiuP6Cvz8S511XFdyxP9rmJ3NB0bc/vqcOsHFcej9aq2FlEZiSP8HjwBkysG8/wVofskrcQz/GcFLLXemGPwAAAAAAAAAA",
          "dtype": "f8"
         },
         "yaxis": "y2"
        },
        {
         "alignmentgroup": "True",
         "customdata": {
          "bdata": "AAAAAAAAAAAAAAAAAAAAAAAAAAAAAAAAAAAAAAAAAAAAAAAAAAAAAAAAAAAAAAAAAAAAAAAAAAAAAAAAAAAAAAAAAAAAAAAAAAAAAAAAAACJibUBgyqiQAAAAAAAABRAsrguCNcuuUAAAAAAAAA1QDAy4SPGTuJAAAAAAAAAT0Ak97Nd/nfVQAAAAAAAAFFAtNChgy2M50AAAAAAAEBWQOXglL5c0NpAAAAAAABAV0BxEKsTBD3bQAAAAAAAQFJAhTMj87SM20AAAAAAAABVQL/kIYma89VAAAAAAACAVUAkjMiK0oDhQAAAAAAAQFRA6IEbeXp03kAAAAAAAABRQOQI8e6iNMNAAAAAAACASkDicyQgjvXdQAAAAAAAAEJArI5UQz+TpEAAAAAAAAA2QEKFZNd4t8lAAAAAAAAALkCdw/wZe2obQAAAAAAAAPA/hHDV2Rp5PUAAAAAAAADwP8JPxfSWrWhAAAAAAAAA8D8AAAAAAAAAAAAAAAAAAAAA",
          "dtype": "f8",
          "shape": "24, 2"
         },
         "hovertemplate": "source=survey<br>pdpurp_label=Personal Business<br>tlvorg_hr=%{x}<br>percentage=%{y}<br>toexpfac=%{customdata[0]}<br>sample_count=%{customdata[1]}<extra></extra>",
         "legendgroup": "survey",
         "marker": {
          "color": "#8CC63E",
          "pattern": {
           "shape": ""
          }
         },
         "name": "survey",
         "offsetgroup": "survey",
         "orientation": "v",
         "showlegend": false,
         "textposition": "auto",
         "type": "bar",
         "x": {
          "bdata": "AAECAwQFBgcICQoLDA0ODxAREhMUFRYX",
          "dtype": "i1"
         },
         "xaxis": "x",
         "y": {
          "bdata": "AAAAAAAAAAAAAAAAAAAAAAAAAAAAAAAAAAAAAAAAAAAAAAAAAAAAAPLIKz/0hHs/+Kni2RUTkz/Q5cMN47u7P4N59qzgQrA/Ug2odvnVwT8jiNI2VU+0P4oWxZ6hobQ/knpPB/7dtD9mwdYwgaCwP6iTUUflg7o/FovihFoRtz9k7xOwGRidP3i/sI83sbY/X8W2gDsrfz9uV8Zkk3qjP+hnc3cRxPQ+Lf4IHvRSFj9/ZGyqL7FCPwAAAAAAAAAA",
          "dtype": "f8"
         },
         "yaxis": "y"
        }
       ],
       "layout": {
        "annotations": [
         {
          "font": {},
          "showarrow": false,
          "text": "Personal Business",
          "textangle": 90,
          "x": 0.98,
          "xanchor": "left",
          "xref": "paper",
          "y": 0.07083333333333333,
          "yanchor": "middle",
          "yref": "paper"
         },
         {
          "font": {},
          "showarrow": false,
          "text": "Escort",
          "textangle": 90,
          "x": 0.98,
          "xanchor": "left",
          "xref": "paper",
          "y": 0.2425,
          "yanchor": "middle",
          "yref": "paper"
         },
         {
          "font": {},
          "showarrow": false,
          "text": "Meal",
          "textangle": 90,
          "x": 0.98,
          "xanchor": "left",
          "xref": "paper",
          "y": 0.4141666666666667,
          "yanchor": "middle",
          "yref": "paper"
         },
         {
          "font": {},
          "showarrow": false,
          "text": "Shop",
          "textangle": 90,
          "x": 0.98,
          "xanchor": "left",
          "xref": "paper",
          "y": 0.5858333333333334,
          "yanchor": "middle",
          "yref": "paper"
         },
         {
          "font": {},
          "showarrow": false,
          "text": "School",
          "textangle": 90,
          "x": 0.98,
          "xanchor": "left",
          "xref": "paper",
          "y": 0.7575000000000001,
          "yanchor": "middle",
          "yref": "paper"
         },
         {
          "font": {},
          "showarrow": false,
          "text": "Work",
          "textangle": 90,
          "x": 0.98,
          "xanchor": "left",
          "xref": "paper",
          "y": 0.9291666666666667,
          "yanchor": "middle",
          "yref": "paper"
         }
        ],
        "barmode": "group",
        "height": 1500,
        "legend": {
         "title": {
          "text": "source"
         },
         "tracegroupgap": 0
        },
        "template": {
         "data": {
          "bar": [
           {
            "error_x": {
             "color": "rgb(36,36,36)"
            },
            "error_y": {
             "color": "rgb(36,36,36)"
            },
            "marker": {
             "line": {
              "color": "white",
              "width": 0.5
             },
             "pattern": {
              "fillmode": "overlay",
              "size": 10,
              "solidity": 0.2
             }
            },
            "type": "bar"
           }
          ],
          "barpolar": [
           {
            "marker": {
             "line": {
              "color": "white",
              "width": 0.5
             },
             "pattern": {
              "fillmode": "overlay",
              "size": 10,
              "solidity": 0.2
             }
            },
            "type": "barpolar"
           }
          ],
          "carpet": [
           {
            "aaxis": {
             "endlinecolor": "rgb(36,36,36)",
             "gridcolor": "white",
             "linecolor": "white",
             "minorgridcolor": "white",
             "startlinecolor": "rgb(36,36,36)"
            },
            "baxis": {
             "endlinecolor": "rgb(36,36,36)",
             "gridcolor": "white",
             "linecolor": "white",
             "minorgridcolor": "white",
             "startlinecolor": "rgb(36,36,36)"
            },
            "type": "carpet"
           }
          ],
          "choropleth": [
           {
            "colorbar": {
             "outlinewidth": 1,
             "tickcolor": "rgb(36,36,36)",
             "ticks": "outside"
            },
            "type": "choropleth"
           }
          ],
          "contour": [
           {
            "colorbar": {
             "outlinewidth": 1,
             "tickcolor": "rgb(36,36,36)",
             "ticks": "outside"
            },
            "colorscale": [
             [
              0.0,
              "#440154"
             ],
             [
              0.1111111111111111,
              "#482878"
             ],
             [
              0.2222222222222222,
              "#3e4989"
             ],
             [
              0.3333333333333333,
              "#31688e"
             ],
             [
              0.4444444444444444,
              "#26828e"
             ],
             [
              0.5555555555555556,
              "#1f9e89"
             ],
             [
              0.6666666666666666,
              "#35b779"
             ],
             [
              0.7777777777777778,
              "#6ece58"
             ],
             [
              0.8888888888888888,
              "#b5de2b"
             ],
             [
              1.0,
              "#fde725"
             ]
            ],
            "type": "contour"
           }
          ],
          "contourcarpet": [
           {
            "colorbar": {
             "outlinewidth": 1,
             "tickcolor": "rgb(36,36,36)",
             "ticks": "outside"
            },
            "type": "contourcarpet"
           }
          ],
          "heatmap": [
           {
            "colorbar": {
             "outlinewidth": 1,
             "tickcolor": "rgb(36,36,36)",
             "ticks": "outside"
            },
            "colorscale": [
             [
              0.0,
              "#440154"
             ],
             [
              0.1111111111111111,
              "#482878"
             ],
             [
              0.2222222222222222,
              "#3e4989"
             ],
             [
              0.3333333333333333,
              "#31688e"
             ],
             [
              0.4444444444444444,
              "#26828e"
             ],
             [
              0.5555555555555556,
              "#1f9e89"
             ],
             [
              0.6666666666666666,
              "#35b779"
             ],
             [
              0.7777777777777778,
              "#6ece58"
             ],
             [
              0.8888888888888888,
              "#b5de2b"
             ],
             [
              1.0,
              "#fde725"
             ]
            ],
            "type": "heatmap"
           }
          ],
          "histogram": [
           {
            "marker": {
             "line": {
              "color": "white",
              "width": 0.6
             }
            },
            "type": "histogram"
           }
          ],
          "histogram2d": [
           {
            "colorbar": {
             "outlinewidth": 1,
             "tickcolor": "rgb(36,36,36)",
             "ticks": "outside"
            },
            "colorscale": [
             [
              0.0,
              "#440154"
             ],
             [
              0.1111111111111111,
              "#482878"
             ],
             [
              0.2222222222222222,
              "#3e4989"
             ],
             [
              0.3333333333333333,
              "#31688e"
             ],
             [
              0.4444444444444444,
              "#26828e"
             ],
             [
              0.5555555555555556,
              "#1f9e89"
             ],
             [
              0.6666666666666666,
              "#35b779"
             ],
             [
              0.7777777777777778,
              "#6ece58"
             ],
             [
              0.8888888888888888,
              "#b5de2b"
             ],
             [
              1.0,
              "#fde725"
             ]
            ],
            "type": "histogram2d"
           }
          ],
          "histogram2dcontour": [
           {
            "colorbar": {
             "outlinewidth": 1,
             "tickcolor": "rgb(36,36,36)",
             "ticks": "outside"
            },
            "colorscale": [
             [
              0.0,
              "#440154"
             ],
             [
              0.1111111111111111,
              "#482878"
             ],
             [
              0.2222222222222222,
              "#3e4989"
             ],
             [
              0.3333333333333333,
              "#31688e"
             ],
             [
              0.4444444444444444,
              "#26828e"
             ],
             [
              0.5555555555555556,
              "#1f9e89"
             ],
             [
              0.6666666666666666,
              "#35b779"
             ],
             [
              0.7777777777777778,
              "#6ece58"
             ],
             [
              0.8888888888888888,
              "#b5de2b"
             ],
             [
              1.0,
              "#fde725"
             ]
            ],
            "type": "histogram2dcontour"
           }
          ],
          "mesh3d": [
           {
            "colorbar": {
             "outlinewidth": 1,
             "tickcolor": "rgb(36,36,36)",
             "ticks": "outside"
            },
            "type": "mesh3d"
           }
          ],
          "parcoords": [
           {
            "line": {
             "colorbar": {
              "outlinewidth": 1,
              "tickcolor": "rgb(36,36,36)",
              "ticks": "outside"
             }
            },
            "type": "parcoords"
           }
          ],
          "pie": [
           {
            "automargin": true,
            "type": "pie"
           }
          ],
          "scatter": [
           {
            "fillpattern": {
             "fillmode": "overlay",
             "size": 10,
             "solidity": 0.2
            },
            "type": "scatter"
           }
          ],
          "scatter3d": [
           {
            "line": {
             "colorbar": {
              "outlinewidth": 1,
              "tickcolor": "rgb(36,36,36)",
              "ticks": "outside"
             }
            },
            "marker": {
             "colorbar": {
              "outlinewidth": 1,
              "tickcolor": "rgb(36,36,36)",
              "ticks": "outside"
             }
            },
            "type": "scatter3d"
           }
          ],
          "scattercarpet": [
           {
            "marker": {
             "colorbar": {
              "outlinewidth": 1,
              "tickcolor": "rgb(36,36,36)",
              "ticks": "outside"
             }
            },
            "type": "scattercarpet"
           }
          ],
          "scattergeo": [
           {
            "marker": {
             "colorbar": {
              "outlinewidth": 1,
              "tickcolor": "rgb(36,36,36)",
              "ticks": "outside"
             }
            },
            "type": "scattergeo"
           }
          ],
          "scattergl": [
           {
            "marker": {
             "colorbar": {
              "outlinewidth": 1,
              "tickcolor": "rgb(36,36,36)",
              "ticks": "outside"
             }
            },
            "type": "scattergl"
           }
          ],
          "scattermap": [
           {
            "marker": {
             "colorbar": {
              "outlinewidth": 1,
              "tickcolor": "rgb(36,36,36)",
              "ticks": "outside"
             }
            },
            "type": "scattermap"
           }
          ],
          "scattermapbox": [
           {
            "marker": {
             "colorbar": {
              "outlinewidth": 1,
              "tickcolor": "rgb(36,36,36)",
              "ticks": "outside"
             }
            },
            "type": "scattermapbox"
           }
          ],
          "scatterpolar": [
           {
            "marker": {
             "colorbar": {
              "outlinewidth": 1,
              "tickcolor": "rgb(36,36,36)",
              "ticks": "outside"
             }
            },
            "type": "scatterpolar"
           }
          ],
          "scatterpolargl": [
           {
            "marker": {
             "colorbar": {
              "outlinewidth": 1,
              "tickcolor": "rgb(36,36,36)",
              "ticks": "outside"
             }
            },
            "type": "scatterpolargl"
           }
          ],
          "scatterternary": [
           {
            "marker": {
             "colorbar": {
              "outlinewidth": 1,
              "tickcolor": "rgb(36,36,36)",
              "ticks": "outside"
             }
            },
            "type": "scatterternary"
           }
          ],
          "surface": [
           {
            "colorbar": {
             "outlinewidth": 1,
             "tickcolor": "rgb(36,36,36)",
             "ticks": "outside"
            },
            "colorscale": [
             [
              0.0,
              "#440154"
             ],
             [
              0.1111111111111111,
              "#482878"
             ],
             [
              0.2222222222222222,
              "#3e4989"
             ],
             [
              0.3333333333333333,
              "#31688e"
             ],
             [
              0.4444444444444444,
              "#26828e"
             ],
             [
              0.5555555555555556,
              "#1f9e89"
             ],
             [
              0.6666666666666666,
              "#35b779"
             ],
             [
              0.7777777777777778,
              "#6ece58"
             ],
             [
              0.8888888888888888,
              "#b5de2b"
             ],
             [
              1.0,
              "#fde725"
             ]
            ],
            "type": "surface"
           }
          ],
          "table": [
           {
            "cells": {
             "fill": {
              "color": "rgb(237,237,237)"
             },
             "line": {
              "color": "white"
             }
            },
            "header": {
             "fill": {
              "color": "rgb(217,217,217)"
             },
             "line": {
              "color": "white"
             }
            },
            "type": "table"
           }
          ]
         },
         "layout": {
          "annotationdefaults": {
           "arrowhead": 0,
           "arrowwidth": 1
          },
          "autotypenumbers": "strict",
          "coloraxis": {
           "colorbar": {
            "outlinewidth": 1,
            "tickcolor": "rgb(36,36,36)",
            "ticks": "outside"
           }
          },
          "colorscale": {
           "diverging": [
            [
             0.0,
             "rgb(103,0,31)"
            ],
            [
             0.1,
             "rgb(178,24,43)"
            ],
            [
             0.2,
             "rgb(214,96,77)"
            ],
            [
             0.3,
             "rgb(244,165,130)"
            ],
            [
             0.4,
             "rgb(253,219,199)"
            ],
            [
             0.5,
             "rgb(247,247,247)"
            ],
            [
             0.6,
             "rgb(209,229,240)"
            ],
            [
             0.7,
             "rgb(146,197,222)"
            ],
            [
             0.8,
             "rgb(67,147,195)"
            ],
            [
             0.9,
             "rgb(33,102,172)"
            ],
            [
             1.0,
             "rgb(5,48,97)"
            ]
           ],
           "sequential": [
            [
             0.0,
             "#440154"
            ],
            [
             0.1111111111111111,
             "#482878"
            ],
            [
             0.2222222222222222,
             "#3e4989"
            ],
            [
             0.3333333333333333,
             "#31688e"
            ],
            [
             0.4444444444444444,
             "#26828e"
            ],
            [
             0.5555555555555556,
             "#1f9e89"
            ],
            [
             0.6666666666666666,
             "#35b779"
            ],
            [
             0.7777777777777778,
             "#6ece58"
            ],
            [
             0.8888888888888888,
             "#b5de2b"
            ],
            [
             1.0,
             "#fde725"
            ]
           ],
           "sequentialminus": [
            [
             0.0,
             "#440154"
            ],
            [
             0.1111111111111111,
             "#482878"
            ],
            [
             0.2222222222222222,
             "#3e4989"
            ],
            [
             0.3333333333333333,
             "#31688e"
            ],
            [
             0.4444444444444444,
             "#26828e"
            ],
            [
             0.5555555555555556,
             "#1f9e89"
            ],
            [
             0.6666666666666666,
             "#35b779"
            ],
            [
             0.7777777777777778,
             "#6ece58"
            ],
            [
             0.8888888888888888,
             "#b5de2b"
            ],
            [
             1.0,
             "#fde725"
            ]
           ]
          },
          "colorway": [
           "#91268F",
           "#8CC63E",
           "#00A7A0",
           "#F05A28",
           "#4C4C4C",
           "#630460",
           "#9f3913",
           "#588527",
           "#00716c",
           "#3e4040"
          ],
          "font": {
           "color": "rgb(36,36,36)",
           "family": "Poppins",
           "size": 11
          },
          "geo": {
           "bgcolor": "white",
           "lakecolor": "white",
           "landcolor": "white",
           "showlakes": true,
           "showland": true,
           "subunitcolor": "white"
          },
          "hoverlabel": {
           "align": "left"
          },
          "hovermode": "closest",
          "mapbox": {
           "style": "light"
          },
          "paper_bgcolor": "white",
          "plot_bgcolor": "white",
          "polar": {
           "angularaxis": {
            "gridcolor": "rgb(232,232,232)",
            "linecolor": "rgb(36,36,36)",
            "showgrid": false,
            "showline": true,
            "ticks": "outside"
           },
           "bgcolor": "white",
           "radialaxis": {
            "gridcolor": "rgb(232,232,232)",
            "linecolor": "rgb(36,36,36)",
            "showgrid": false,
            "showline": true,
            "ticks": "outside"
           }
          },
          "scene": {
           "xaxis": {
            "backgroundcolor": "white",
            "gridcolor": "rgb(232,232,232)",
            "gridwidth": 2,
            "linecolor": "rgb(36,36,36)",
            "showbackground": true,
            "showgrid": false,
            "showline": true,
            "ticks": "outside",
            "zeroline": false,
            "zerolinecolor": "rgb(36,36,36)"
           },
           "yaxis": {
            "backgroundcolor": "white",
            "gridcolor": "rgb(232,232,232)",
            "gridwidth": 2,
            "linecolor": "rgb(36,36,36)",
            "showbackground": true,
            "showgrid": false,
            "showline": true,
            "ticks": "outside",
            "zeroline": false,
            "zerolinecolor": "rgb(36,36,36)"
           },
           "zaxis": {
            "backgroundcolor": "white",
            "gridcolor": "rgb(232,232,232)",
            "gridwidth": 2,
            "linecolor": "rgb(36,36,36)",
            "showbackground": true,
            "showgrid": false,
            "showline": true,
            "ticks": "outside",
            "zeroline": false,
            "zerolinecolor": "rgb(36,36,36)"
           }
          },
          "shapedefaults": {
           "fillcolor": "black",
           "line": {
            "width": 0
           },
           "opacity": 0.3
          },
          "ternary": {
           "aaxis": {
            "gridcolor": "rgb(232,232,232)",
            "linecolor": "rgb(36,36,36)",
            "showgrid": false,
            "showline": true,
            "ticks": "outside"
           },
           "baxis": {
            "gridcolor": "rgb(232,232,232)",
            "linecolor": "rgb(36,36,36)",
            "showgrid": false,
            "showline": true,
            "ticks": "outside"
           },
           "bgcolor": "white",
           "caxis": {
            "gridcolor": "rgb(232,232,232)",
            "linecolor": "rgb(36,36,36)",
            "showgrid": false,
            "showline": true,
            "ticks": "outside"
           }
          },
          "title": {
           "x": 0.05
          },
          "xaxis": {
           "automargin": true,
           "gridcolor": "rgb(232,232,232)",
           "linecolor": "rgb(36,36,36)",
           "showgrid": false,
           "showline": true,
           "ticks": "outside",
           "title": {
            "standoff": 15
           },
           "zeroline": false,
           "zerolinecolor": "rgb(36,36,36)"
          },
          "yaxis": {
           "automargin": true,
           "gridcolor": "rgb(232,232,232)",
           "linecolor": "rgb(36,36,36)",
           "showgrid": false,
           "showline": true,
           "ticks": "outside",
           "title": {
            "standoff": 15
           },
           "zeroline": false,
           "zerolinecolor": "rgb(36,36,36)"
          }
         }
        },
        "title": {
         "text": "tour origin departure hour by purpose"
        },
        "width": 850,
        "xaxis": {
         "anchor": "y",
         "categoryorder": "category ascending",
         "domain": [
          0.0,
          0.98
         ],
         "dtick": 1,
         "title": {
          "text": "tlvorg_hr"
         }
        },
        "xaxis2": {
         "anchor": "y2",
         "categoryorder": "category ascending",
         "domain": [
          0.0,
          0.98
         ],
         "dtick": 1,
         "matches": "x",
         "showticklabels": false
        },
        "xaxis3": {
         "anchor": "y3",
         "categoryorder": "category ascending",
         "domain": [
          0.0,
          0.98
         ],
         "dtick": 1,
         "matches": "x",
         "showticklabels": false
        },
        "xaxis4": {
         "anchor": "y4",
         "categoryorder": "category ascending",
         "domain": [
          0.0,
          0.98
         ],
         "dtick": 1,
         "matches": "x",
         "showticklabels": false
        },
        "xaxis5": {
         "anchor": "y5",
         "categoryorder": "category ascending",
         "domain": [
          0.0,
          0.98
         ],
         "dtick": 1,
         "matches": "x",
         "showticklabels": false
        },
        "xaxis6": {
         "anchor": "y6",
         "categoryorder": "category ascending",
         "domain": [
          0.0,
          0.98
         ],
         "dtick": 1,
         "matches": "x",
         "showticklabels": false
        },
        "yaxis": {
         "anchor": "x",
         "domain": [
          0.0,
          0.14166666666666666
         ],
         "tickformat": ".0%",
         "title": {
          "text": "percentage"
         }
        },
        "yaxis2": {
         "anchor": "x2",
         "domain": [
          0.17166666666666666,
          0.31333333333333335
         ],
         "matches": "y",
         "tickformat": ".0%",
         "title": {
          "text": "percentage"
         }
        },
        "yaxis3": {
         "anchor": "x3",
         "domain": [
          0.3433333333333333,
          0.485
         ],
         "matches": "y",
         "tickformat": ".0%",
         "title": {
          "text": "percentage"
         }
        },
        "yaxis4": {
         "anchor": "x4",
         "domain": [
          0.515,
          0.6566666666666667
         ],
         "matches": "y",
         "tickformat": ".0%",
         "title": {
          "text": "percentage"
         }
        },
        "yaxis5": {
         "anchor": "x5",
         "domain": [
          0.6866666666666666,
          0.8283333333333334
         ],
         "matches": "y",
         "tickformat": ".0%",
         "title": {
          "text": "percentage"
         }
        },
        "yaxis6": {
         "anchor": "x6",
         "domain": [
          0.8583333333333333,
          1.0
         ],
         "matches": "y",
         "tickformat": ".0%",
         "title": {
          "text": "percentage"
         }
        }
       }
      },
      "text/html": [
       "<div>            <script src=\"https://cdnjs.cloudflare.com/ajax/libs/mathjax/2.7.5/MathJax.js?config=TeX-AMS-MML_SVG\"></script><script type=\"text/javascript\">if (window.MathJax && window.MathJax.Hub && window.MathJax.Hub.Config) {window.MathJax.Hub.Config({SVG: {font: \"STIX-Web\"}});}</script>                <script type=\"text/javascript\">window.PlotlyConfig = {MathJaxConfig: 'local'};</script>\n",
       "        <script charset=\"utf-8\" src=\"https://cdn.plot.ly/plotly-3.0.1.min.js\"></script>                <div id=\"15a7edd7-f464-480b-81b8-d5c8a2822f96\" class=\"plotly-graph-div\" style=\"height:1500px; width:850px;\"></div>            <script type=\"text/javascript\">                window.PLOTLYENV=window.PLOTLYENV || {};                                if (document.getElementById(\"15a7edd7-f464-480b-81b8-d5c8a2822f96\")) {                    Plotly.newPlot(                        \"15a7edd7-f464-480b-81b8-d5c8a2822f96\",                        [{\"alignmentgroup\":\"True\",\"customdata\":{\"dtype\":\"f8\",\"bdata\":\"AAAAAACwmUAAAAAAALCZQAAAAAAAyI9AAAAAAADIj0AAAAAAALB5QAAAAAAAsHlAAAAAAEBz5kAAAAAAQHPmQAAAAADApeZAAAAAAMCl5kAAAAAAUDr5QAAAAABQOvlAAAAAADgvD0EAAAAAOC8PQQAAAADQtRNBAAAAANC1E0EAAAAAkLwPQQAAAACQvA9BAAAAACijAEEAAAAAKKMAQQAAAABgKvRAAAAAAGAq9EAAAAAAQBTwQAAAAABAFPBAAAAAAMDS6UAAAAAAwNLpQAAAAABA7+RAAAAAAEDv5EAAAAAA4BniQAAAAADgGeJAAAAAACAa4EAAAAAAIBrgQAAAAAAA295AAAAAAADb3kAAAAAAgOHcQAAAAACA4dxAAAAAAIDc10AAAAAAgNzXQAAAAAAAYMlAAAAAAABgyUAAAAAAgGzEQAAAAACAbMRAAAAAAADMu0AAAAAAAMy7QAAAAAAARqpAAAAAAABGqkAAAAAAAG6iQAAAAAAAbqJA\",\"shape\":\"24, 2\"},\"hovertemplate\":\"source=model\\u003cbr\\u003epdpurp_label=Work\\u003cbr\\u003etlvorg_hr=%{x}\\u003cbr\\u003epercentage=%{y}\\u003cbr\\u003etoexpfac=%{customdata[0]}\\u003cbr\\u003esample_count=%{customdata[1]}\\u003cextra\\u003e\\u003c\\u002fextra\\u003e\",\"legendgroup\":\"model\",\"marker\":{\"color\":\"#91268F\",\"pattern\":{\"shape\":\"\"}},\"name\":\"model\",\"offsetgroup\":\"model\",\"orientation\":\"v\",\"showlegend\":true,\"textposition\":\"auto\",\"x\":{\"dtype\":\"i1\",\"bdata\":\"AAECAwQFBgcICQoLDA0ODxAREhMUFRYX\"},\"xaxis\":\"x6\",\"y\":{\"dtype\":\"f8\",\"bdata\":\"l3TgT\\u002fS7UD9FZe+LOLREP5d04E\\u002f0uzA\\u002fdQnxHyBAnT+vr1sX7IGdP\\u002fXEtVZJb7A\\u002f3ric67BQxD+H+JvuN67JP6XurRfFrMQ\\u002fFu\\u002fCi0ettT8IYk2kFkaqP\\u002fkfEgoW86Q\\u002fXg8ao5fSoD95YmIYmUabP9FHF7KAlZc\\u002f9QYVnL36lD\\u002fz8HiY0xmUP6OXlGCE0JI\\u002fT8Dv2swWjz96GXCO1oeAP9rrRzs+nHo\\u002fmNuWKb0bcj9tH5MarB1hP9YtURMcA1g\\u002f\"},\"yaxis\":\"y6\",\"type\":\"bar\"},{\"alignmentgroup\":\"True\",\"customdata\":{\"dtype\":\"f8\",\"bdata\":\"AAAAAAAA8D8AAAAAAADwPwAAAAAAAAAAAAAAAAAAAAAAAAAAAAAAAAAAAAAAAAAAAAAAAADWqkAAAAAAANaqQAAAAAAAzKtAAAAAAADMq0AAAAAAALXGQAAAAAAAtcZAAAAAACBx8EAAAAAAIHHwQAAAAABwhANBAAAAAHCEA0EAAAAAEC8EQQAAAAAQLwRBAAAAABCS80AAAAAAEJLzQAAAAADg1eFAAAAAAODV4UAAAAAAACzWQAAAAAAALNZAAAAAAACZzEAAAAAAAJnMQAAAAAAApMNAAAAAAACkw0AAAAAAAEW9QAAAAAAARb1AAAAAAADjtUAAAAAAAOO1QAAAAAAAj7NAAAAAAACPs0AAAAAAAJKxQAAAAAAAkrFAAAAAAABIq0AAAAAAAEirQAAAAAAAzJNAAAAAAADMk0AAAAAAAMyRQAAAAAAAzJFAAAAAAADIhUAAAAAAAMiFQAAAAAAAACRAAAAAAAAAJEAAAAAAAADwPwAAAAAAAPA\\u002f\",\"shape\":\"24, 2\"},\"hovertemplate\":\"source=model\\u003cbr\\u003epdpurp_label=School\\u003cbr\\u003etlvorg_hr=%{x}\\u003cbr\\u003epercentage=%{y}\\u003cbr\\u003etoexpfac=%{customdata[0]}\\u003cbr\\u003esample_count=%{customdata[1]}\\u003cextra\\u003e\\u003c\\u002fextra\\u003e\",\"legendgroup\":\"model\",\"marker\":{\"color\":\"#91268F\",\"pattern\":{\"shape\":\"\"}},\"name\":\"model\",\"offsetgroup\":\"model\",\"orientation\":\"v\",\"showlegend\":false,\"textposition\":\"auto\",\"x\":{\"dtype\":\"i1\",\"bdata\":\"AAECAwQFBgcICQoLDA0ODxAREhMUFRYX\"},\"xaxis\":\"x5\",\"y\":{\"dtype\":\"f8\",\"bdata\":\"4SE81wzBuz4AAAAAAAAAAAAAAAAAAAAAqT3AdHVGdz\\u002fu23aH0Rt4P2rDmsS0sZM\\u002fCOkFxEeFvD98fXAYfe3QPxwh6HF5gdE\\u002fFiLoSk75wD\\u002fM+VQuHPCuP\\u002flJoUXiOqM\\u002fJ7W5QZ7NmD9LyJoB3QiRP12YvubLYok\\u002fzEhW4JH7gj\\u002fViC1RpvaAP7To2zlfen4\\u002f4gN\\u002fMlWpdz9106dRjithP68iaAj73l4\\u002fD66A\\u002fSbkUj8slYUGqFjxPuEhPNcMwbs+\"},\"yaxis\":\"y5\",\"type\":\"bar\"},{\"alignmentgroup\":\"True\",\"customdata\":{\"dtype\":\"f8\",\"bdata\":\"AAAAAAAAc0AAAAAAAABzQAAAAAAAcHBAAAAAAABwcEAAAAAAAABeQAAAAAAAAF5AAAAAAAAok0AAAAAAACiTQAAAAAAAsIxAAAAAAACwjEAAAAAAAHagQAAAAAAAdqBAAAAAAABIxUAAAAAAAEjFQAAAAADAut5AAAAAAMC63kAAAAAAQLrqQAAAAABAuupAAAAAAABf8EAAAAAAAF\\u002fwQAAAAADgdPBAAAAAAOB08EAAAAAAwCXrQAAAAADAJetAAAAAAGBE6kAAAAAAYETqQAAAAABAlexAAAAAAECV7EAAAAAAYJDqQAAAAABgkOpAAAAAAMDv6EAAAAAAwO\\u002foQAAAAADgvOtAAAAAAOC860AAAAAA4D7pQAAAAADgPulAAAAAAIAS6EAAAAAAgBLoQAAAAADAvt5AAAAAAMC+3kAAAAAAwHTSQAAAAADAdNJAAAAAAACiwUAAAAAAAKLBQAAAAAAAXqNAAAAAAABeo0AAAAAAADyTQAAAAAAAPJNA\",\"shape\":\"24, 2\"},\"hovertemplate\":\"source=model\\u003cbr\\u003epdpurp_label=Shop\\u003cbr\\u003etlvorg_hr=%{x}\\u003cbr\\u003epercentage=%{y}\\u003cbr\\u003etoexpfac=%{customdata[0]}\\u003cbr\\u003esample_count=%{customdata[1]}\\u003cextra\\u003e\\u003c\\u002fextra\\u003e\",\"legendgroup\":\"model\",\"marker\":{\"color\":\"#91268F\",\"pattern\":{\"shape\":\"\"}},\"name\":\"model\",\"offsetgroup\":\"model\",\"orientation\":\"v\",\"showlegend\":false,\"textposition\":\"auto\",\"x\":{\"dtype\":\"i1\",\"bdata\":\"AAECAwQFBgcICQoLDA0ODxAREhMUFRYX\"},\"xaxis\":\"x4\",\"y\":{\"dtype\":\"f8\",\"bdata\":\"qeAkm7FCOz\\u002f+vmAFfZU3P9a+2b1+hSU\\u002f+8\\u002fJlxV8Wz9Ka4tldJRUP7GvrNEYnmc\\u002f87lZnZiIjj+0kDdZdwumPxgrZBeCLLM\\u002frj807Rh9tz+Pcl6be5y3P6\\u002fM4XKgebM\\u002fEozvXfLXsj8ReHfDQ4G0P9PVJcF3DrM\\u002fFkk5pJbjsT\\u002f6K76HCuazPzAETu9ZHLI\\u002fNiOBHd5EsT9FNqbyVQ6mPx8ZbSDnepo\\u002fmbKBuIZMiT9ERnXGj8lrP6RHHJbHmFs\\u002f\"},\"yaxis\":\"y4\",\"type\":\"bar\"},{\"alignmentgroup\":\"True\",\"customdata\":{\"dtype\":\"f8\",\"bdata\":\"AAAAAAAQeEAAAAAAABB4QAAAAAAAAHBAAAAAAAAAcEAAAAAAAIBcQAAAAAAAgFxAAAAAAAB8kkAAAAAAAHySQAAAAAAA8IpAAAAAAADwikAAAAAAAAydQAAAAAAADJ1AAAAAAAA3tkAAAAAAADe2QAAAAAAA4cNAAAAAAADhw0AAAAAAANnSQAAAAAAA2dJAAAAAAEBO2UAAAAAAQE7ZQAAAAABAEt9AAAAAAEAS30AAAAAAgNvdQAAAAACA291AAAAAAED+3kAAAAAAQP7eQAAAAAAARNxAAAAAAABE3EAAAAAAADvaQAAAAAAAO9pAAAAAAAAm2EAAAAAAACbYQAAAAAAAyt1AAAAAAADK3UAAAAAAQJDeQAAAAABAkN5AAAAAAECH30AAAAAAQIffQAAAAADA49NAAAAAAMDj00AAAAAAgMfMQAAAAACAx8xAAAAAAACTw0AAAAAAAJPDQAAAAAAATqJAAAAAAABOokAAAAAAAGSQQAAAAAAAZJBA\",\"shape\":\"24, 2\"},\"hovertemplate\":\"source=model\\u003cbr\\u003epdpurp_label=Meal\\u003cbr\\u003etlvorg_hr=%{x}\\u003cbr\\u003epercentage=%{y}\\u003cbr\\u003etoexpfac=%{customdata[0]}\\u003cbr\\u003esample_count=%{customdata[1]}\\u003cextra\\u003e\\u003c\\u002fextra\\u003e\",\"legendgroup\":\"model\",\"marker\":{\"color\":\"#91268F\",\"pattern\":{\"shape\":\"\"}},\"name\":\"model\",\"offsetgroup\":\"model\",\"orientation\":\"v\",\"showlegend\":false,\"textposition\":\"auto\",\"x\":{\"dtype\":\"i1\",\"bdata\":\"AAECAwQFBgcICQoLDA0ODxAREhMUFRYX\"},\"xaxis\":\"x3\",\"y\":{\"dtype\":\"f8\",\"bdata\":\"7hQppjd4UD\\u002faFYmEBedFP3YXCurAgTM\\u002f\\u002fl7dn6RNaT\\u002flZREl+W9iPzXvLaKT4XM\\u002fRhU0ufFojj+2kfpKVzabP82772\\u002fzzKk\\u002fSTAJOwtSsT9ZY4oZS0S1Px9Y9amZb7Q\\u002frI0Xtpo2tT9tlrG\\u002fr1izP4G+220W9LE\\u002fLTP0eUaHsD8n3fBSn2O0P3D2H5NQ67Q\\u002fkfi2xV+UtT9FWe3\\u002fGjqrP8M5XhqxsqM\\u002fa3UUEJHLmj\\u002ffVABwrA55P6JuBWfpb2Y\\u002f\"},\"yaxis\":\"y3\",\"type\":\"bar\"},{\"alignmentgroup\":\"True\",\"customdata\":{\"dtype\":\"f8\",\"bdata\":\"AAAAAABAbUAAAAAAAEBtQAAAAAAAQGhAAAAAAABAaEAAAAAAAIBcQAAAAAAAgFxAAAAAAADytkAAAAAAAPK2QAAAAAAAGqpAAAAAAAAaqkAAAAAAANq2QAAAAAAA2rZAAAAAAMAg00AAAAAAwCDTQAAAAACAfuNAAAAAAIB+40AAAAAA4EnuQAAAAADgSe5AAAAAABC38UAAAAAAELfxQAAAAABgvO9AAAAAAGC870AAAAAAgK\\u002fnQAAAAACAr+dAAAAAAGAW5UAAAAAAYBblQAAAAABgEOZAAAAAAGAQ5kAAAAAAYMTjQAAAAABgxONAAAAAAKDq4kAAAAAAoOriQAAAAADguuJAAAAAAOC64kAAAAAAAH\\u002feQAAAAAAAf95AAAAAAADN2UAAAAAAAM3ZQAAAAACATtFAAAAAAIBO0UAAAAAAAI7IQAAAAAAAjshAAAAAAABYu0AAAAAAAFi7QAAAAAAACKBAAAAAAAAIoEAAAAAAAOCQQAAAAAAA4JBA\",\"shape\":\"24, 2\"},\"hovertemplate\":\"source=model\\u003cbr\\u003epdpurp_label=Escort\\u003cbr\\u003etlvorg_hr=%{x}\\u003cbr\\u003epercentage=%{y}\\u003cbr\\u003etoexpfac=%{customdata[0]}\\u003cbr\\u003esample_count=%{customdata[1]}\\u003cextra\\u003e\\u003c\\u002fextra\\u003e\",\"legendgroup\":\"model\",\"marker\":{\"color\":\"#91268F\",\"pattern\":{\"shape\":\"\"}},\"name\":\"model\",\"offsetgroup\":\"model\",\"orientation\":\"v\",\"showlegend\":false,\"textposition\":\"auto\",\"x\":{\"dtype\":\"i1\",\"bdata\":\"AAECAwQFBgcICQoLDA0ODxAREhMUFRYX\"},\"xaxis\":\"x2\",\"y\":{\"dtype\":\"f8\",\"bdata\":\"ZYtF6+pyOD\\u002f8JihnBEU0P1W82r1u0ic\\u002fya57Ddctgz8r1kf3NtF1P+dUzofHGYM\\u002fwBWiBP75nz\\u002f7MX6kW0uwPyDzKeAmUbk\\u002foSyFK1qdvT+xDs5\\u002f1oa6PyZvpEc8zLM\\u002f2UKkxUigsT92AHLLP3GyP1bmWoDDhbA\\u002fAjNcrIKfrz8EaBqTr0+vP2urZZGOfak\\u002fIau7f9qQpT8ZrGKVje6cPxuLm9k2hpQ\\u002fHb2AogTbhj\\u002fgE5aVvMxqP8NlxvvTNVw\\u002f\"},\"yaxis\":\"y2\",\"type\":\"bar\"},{\"alignmentgroup\":\"True\",\"customdata\":{\"dtype\":\"f8\",\"bdata\":\"AAAAAACgZkAAAAAAAKBmQAAAAAAAAFxAAAAAAAAAXEAAAAAAAABHQAAAAAAAAEdAAAAAAACmo0AAAAAAAKajQAAAAAAAvJZAAAAAAAC8lkAAAAAAALSoQAAAAAAAtKhAAAAAAIA5w0AAAAAAgDnDQAAAAADAFtRAAAAAAMAW1EAAAAAAwKXgQAAAAADApeBAAAAAAOBR5EAAAAAA4FHkQAAAAADANeNAAAAAAMA140AAAAAAQMfeQAAAAABAx95AAAAAAEDk3EAAAAAAQOTcQAAAAAAAn91AAAAAAACf3UAAAAAAAATZQAAAAAAABNlAAAAAAAA610AAAAAAADrXQAAAAADA2tlAAAAAAMDa2UAAAAAAAKrXQAAAAAAAqtdAAAAAAEBj1UAAAAAAQGPVQAAAAACAeMlAAAAAAIB4yUAAAAAAAFTCQAAAAAAAVMJAAAAAAAAOtUAAAAAAAA61QAAAAAAACJNAAAAAAAAIk0AAAAAAAICBQAAAAAAAgIFA\",\"shape\":\"24, 2\"},\"hovertemplate\":\"source=model\\u003cbr\\u003epdpurp_label=Personal Business\\u003cbr\\u003etlvorg_hr=%{x}\\u003cbr\\u003epercentage=%{y}\\u003cbr\\u003etoexpfac=%{customdata[0]}\\u003cbr\\u003esample_count=%{customdata[1]}\\u003cextra\\u003e\\u003c\\u002fextra\\u003e\",\"legendgroup\":\"model\",\"marker\":{\"color\":\"#91268F\",\"pattern\":{\"shape\":\"\"}},\"name\":\"model\",\"offsetgroup\":\"model\",\"orientation\":\"v\",\"showlegend\":false,\"textposition\":\"auto\",\"x\":{\"dtype\":\"i1\",\"bdata\":\"AAECAwQFBgcICQoLDA0ODxAREhMUFRYX\"},\"xaxis\":\"x\",\"y\":{\"dtype\":\"f8\",\"bdata\":\"5LwSg+\\u002f0PT+rX5Mwa4kyP5n4qIYLdB4\\u002f+0KaJgEEej+k43NZAhpuP4xOJLaqWoA\\u002f1czhJ1h0mT9wCia4SpmqP9mrkEzMCrY\\u002fiuawo5Pnuj+A7r0PYW+5P4KRh0xJYLQ\\u002fUKOB04Ygsz9jw\\u002f4SKZyzP8I8+Ayhj7A\\u002fARIpHtfArj808KW3zB2xP\\u002f6srXciVa8\\u002fkLbnaYpRrD+nD9BhwdygPxqmTi95RJg\\u002f4KINNKrgiz8MVgi2zTJpP5Y3uPzFK1c\\u002f\"},\"yaxis\":\"y\",\"type\":\"bar\"},{\"alignmentgroup\":\"True\",\"customdata\":{\"dtype\":\"f8\",\"bdata\":\"AAAAAAAAAAAAAAAAAAAAABq0z6uRIHJAAAAAAAAA8D8AAAAAAAAAAAAAAAAAAAAA0tVLAlDizEAAAAAAAAA1QFx+yGLfb+5AAAAAAABAUEAuQN0sD\\u002f76QAAAAAAA4GBArA8JM8VMDEEAAAAAABB3QIZBGK0pGxVBAAAAAAAwg0ANQH1dWZoPQQAAAAAAgH9A+YjUBb7wAEEAAAAAAEByQGEesonUeeRAAAAAAABAZUCEyRpB0ojiQAAAAAAAwFhA5qvcbD1z3kAAAAAAAIBaQG\\u002ff5pEDXdhAAAAAAABAUUBmU3bxwKXaQAAAAAAAAE9AgbC4T1rc2kAAAAAAAABJQJeCMAPioNJAAAAAAACAQEAxWxC+\\u002fw\\u002fIQAAAAAAAAEFATRHVZ2+MnkAAAAAAAAAkQPuQBcY1TodAAAAAAAAAHEBH82UgB+1wQAAAAAAAABxAcAdvqEVzXEAAAAAAAAAIQNj+\\u002fAW9NXhAAAAAAAAAGEBl4E0BBGptQAAAAAAAAPA\\u002f\",\"shape\":\"24, 2\"},\"hovertemplate\":\"source=survey\\u003cbr\\u003epdpurp_label=Work\\u003cbr\\u003etlvorg_hr=%{x}\\u003cbr\\u003epercentage=%{y}\\u003cbr\\u003etoexpfac=%{customdata[0]}\\u003cbr\\u003esample_count=%{customdata[1]}\\u003cextra\\u003e\\u003c\\u002fextra\\u003e\",\"legendgroup\":\"survey\",\"marker\":{\"color\":\"#8CC63E\",\"pattern\":{\"shape\":\"\"}},\"name\":\"survey\",\"offsetgroup\":\"survey\",\"orientation\":\"v\",\"showlegend\":true,\"textposition\":\"auto\",\"x\":{\"dtype\":\"i1\",\"bdata\":\"AAECAwQFBgcICQoLDA0ODxAREhMUFRYX\"},\"xaxis\":\"x6\",\"y\":{\"dtype\":\"f8\",\"bdata\":\"AAAAAAAAAABVBBAde10rPwAAAAAAAAAAWo8YB0rNhT9lO8DvXvmmPzV6uE\\u002fFX7Q\\u002f26R312lcxT9TvIqMtNzPP9TEj9Sp2sc\\u002fTBqLptGSuT\\u002fDwkKoJ+meP3VIkaXc+ps\\u002fG7tvnOn7lj\\u002fMkXwfwGOSPyNiDfAdHZQ\\u002fpEQsLFRGlD8e12OFLx+MP1GCbnOeKYI\\u002fVa9CHO4OVz+lChBuWJdBP9nVYik2jSk\\u002fBydQlHl5FT9AE+vdGkYyP\\u002fUvgxG4MyY\\u002f\"},\"yaxis\":\"y6\",\"type\":\"bar\"},{\"alignmentgroup\":\"True\",\"customdata\":{\"dtype\":\"f8\",\"bdata\":\"AAAAAAAAAAAAAAAAAAAAAAAAAAAAAAAAAAAAAAAAAAAAAAAAAAAAAAAAAAAAAAAAAAAAAAAAAAAAAAAAAAAAABXug+gRrFVAAAAAAAAA8D+dwa9xRmZ8QAAAAAAAABBAuuUZIj6A4UAAAAAAAAA8QCh\\u002fbAZTjwZBAAAAAACgbEClPKxJ\\u002f8gFQQAAAAAAYHBA3tvEO9a66kAAAAAAAIBLQPdSYTBkncZAAAAAAAAAM0BSnx+6l9mwQAAAAAAAACxAsTXHA4G2tUAAAAAAAAAiQNHSt2HkTalAAAAAAAAAJkDb2blpikSlQAAAAAAAABhAafnaty14kEAAAAAAAAAQQIz1IaMZkq5AAAAAAAAAHECPuJ3iBiuLQAAAAAAAABRAE7jHjZGnl0AAAAAAAADwPwAAAAAAAAAAAAAAAAAAAAAAAAAAAAAAAAAAAAAAAAAAAAAAAAAAAAAAAAAAAAAAAAAAAAAAAAAAAAAAAAAAAAAAAAAAAAAAAAAAAAAAAAAA\",\"shape\":\"24, 2\"},\"hovertemplate\":\"source=survey\\u003cbr\\u003epdpurp_label=School\\u003cbr\\u003etlvorg_hr=%{x}\\u003cbr\\u003epercentage=%{y}\\u003cbr\\u003etoexpfac=%{customdata[0]}\\u003cbr\\u003esample_count=%{customdata[1]}\\u003cextra\\u003e\\u003c\\u002fextra\\u003e\",\"legendgroup\":\"survey\",\"marker\":{\"color\":\"#8CC63E\",\"pattern\":{\"shape\":\"\"}},\"name\":\"survey\",\"offsetgroup\":\"survey\",\"orientation\":\"v\",\"showlegend\":false,\"textposition\":\"auto\",\"x\":{\"dtype\":\"i1\",\"bdata\":\"AAECAwQFBgcICQoLDA0ODxAREhMUFRYX\"},\"xaxis\":\"x5\",\"y\":{\"dtype\":\"f8\",\"bdata\":\"AAAAAAAAAAAAAAAAAAAAAAAAAAAAAAAAAAAAAAAAAAD9tG2FdjonP1VySt9VcE4\\u002fpn10LfXBsj+93vIwCS7YP512mal3Wdc\\u002fZY\\u002fRLjSmvD\\u002f0GhfyHD2YPzIUcEpXD4I\\u002fbnbkbqVFhz951I2nDR97P4bYUuB\\u002fy3Y\\u002f2V7Ai+6mYT8eX+dRCWKAPx62WDFzHl0\\u002fF6gTX2daaT8AAAAAAAAAAAAAAAAAAAAAAAAAAAAAAAAAAAAAAAAAAAAAAAAAAAAA\"},\"yaxis\":\"y5\",\"type\":\"bar\"},{\"alignmentgroup\":\"True\",\"customdata\":{\"dtype\":\"f8\",\"bdata\":\"1QdIDa\\u002fwYUAAAAAAAADwPwAAAAAAAAAAAAAAAAAAAADR7iqYLNeBQAAAAAAAAPA\\u002fAAAAAAAAAAAAAAAAAAAAAAAAAAAAAAAAAAAAAAAAAACAp8IqHEaIQAAAAAAAABRA7Xrek5qhskAAAAAAAAAgQM6PcArzpcdAAAAAAAAAQkDzoDmFr7rRQAAAAAAAgEpAMzyLdM1I6kAAAAAAAMBcQNsW0zH1iu5AAAAAAABgZEC33pMGK2jxQAAAAAAAgF5AUAfsNpTl7EAAAAAAAABfQBAHTd2GBO1AAAAAAADgYEAcjmpqYqTuQAAAAAAAQGNAwYM7z9fE8EAAAAAAAMBbQKXgcywz5OpAAAAAAACAW0C8236fG8XbQAAAAAAAwF1ASnebqF5z7kAAAAAAAIBZQHBBIj8M99NAAAAAAABAVkBY3i6bbXK8QAAAAAAAAEBAZ5M5IQOOn0AAAAAAAAAsQL9tea\\u002fHWqJAAAAAAAAAHEBKD+y8mqKDQAAAAAAAAAhA\",\"shape\":\"24, 2\"},\"hovertemplate\":\"source=survey\\u003cbr\\u003epdpurp_label=Shop\\u003cbr\\u003etlvorg_hr=%{x}\\u003cbr\\u003epercentage=%{y}\\u003cbr\\u003etoexpfac=%{customdata[0]}\\u003cbr\\u003esample_count=%{customdata[1]}\\u003cextra\\u003e\\u003c\\u002fextra\\u003e\",\"legendgroup\":\"survey\",\"marker\":{\"color\":\"#8CC63E\",\"pattern\":{\"shape\":\"\"}},\"name\":\"survey\",\"offsetgroup\":\"survey\",\"orientation\":\"v\",\"showlegend\":false,\"textposition\":\"auto\",\"x\":{\"dtype\":\"i1\",\"bdata\":\"AAECAwQFBgcICQoLDA0ODxAREhMUFRYX\"},\"xaxis\":\"x4\",\"y\":{\"dtype\":\"f8\",\"bdata\":\"AWzaforQLD8AAAAAAAAAAOWBOJmRp0w\\u002fAAAAAAAAAAAAAAAAAAAAAMgENdBlflM\\u002fnHidf7PsfT9wikXTxv2SPybxHdPPeZw\\u002fO7eQCbwbtT8J4K4ONoe4P5LcarVG9bs\\u002fsa778M80tz+85NFsqk23P8A0kHOhm7g\\u002f9hI3m\\u002fPuuj+ZxMm\\u002fh5i1P+PN4fclTaY\\u002frp6mqER0uD+ZqJVJjgigPxz02mZW2IY\\u002fOPXTWEBXaT\\u002fczveO8nptP7SNtpp7iU8\\u002f\"},\"yaxis\":\"y4\",\"type\":\"bar\"},{\"alignmentgroup\":\"True\",\"customdata\":{\"dtype\":\"f8\",\"bdata\":\"S+8gLvrEg0AAAAAAAADwPwAAAAAAAAAAAAAAAAAAAAAAAAAAAAAAAAAAAAAAAAAAAAAAAAAAAAAAAAAAAAAAAMRVEpr8TzdAAAAAAAAA8D8g+\\u002fhVTwlHQAAAAAAAAABA9Mg1M47bpkAAAAAAAAAgQFJAubgdz9ZAAAAAAAAANEBgiJ9TBZnLQAAAAAAAAEZAWgmn1kz\\u002fzkAAAAAAAIBIQNKNFhfugNVAAAAAAACATEAbN5FlX7ngQAAAAAAAgFpAQvsd5Nai4kAAAAAAAABdQFo4W\\u002feeHMtAAAAAAACATkAa9BZkDw7KQAAAAAAAAENAv5KS4gNg3kAAAAAAAABMQIkSzmCCxdFAAAAAAACATEBzE711dwPdQAAAAAAAAFhAP6++QyeO40AAAAAAAABaQPebI3fYFOFAAAAAAACAS0BvPnUpTADLQAAAAAAAAEBAIkiIyhSarkAAAAAAAAAmQCRB862zG1BAAAAAAAAAAECW8Rw5KIKCQAAAAAAAAABA\",\"shape\":\"24, 2\"},\"hovertemplate\":\"source=survey\\u003cbr\\u003epdpurp_label=Meal\\u003cbr\\u003etlvorg_hr=%{x}\\u003cbr\\u003epercentage=%{y}\\u003cbr\\u003etoexpfac=%{customdata[0]}\\u003cbr\\u003esample_count=%{customdata[1]}\\u003cextra\\u003e\\u003c\\u002fextra\\u003e\",\"legendgroup\":\"survey\",\"marker\":{\"color\":\"#8CC63E\",\"pattern\":{\"shape\":\"\"}},\"name\":\"survey\",\"offsetgroup\":\"survey\",\"orientation\":\"v\",\"showlegend\":false,\"textposition\":\"auto\",\"x\":{\"dtype\":\"i1\",\"bdata\":\"AAECAwQFBgcICQoLDA0ODxAREhMUFRYX\"},\"xaxis\":\"x3\",\"y\":{\"dtype\":\"f8\",\"bdata\":\"V2\\u002fFfbiFXT8AAAAAAAAAAAAAAAAAAAAAAAAAAAAAAABgOf\\u002f0F2gRP0b3+FNSMyE\\u002fmUm0higRgT9DyrHI3gexPy1ZLjc2m6Q\\u002fbRW0FwUlpz+0\\u002fCtHWA6wP8oXuA2D+bg\\u002fEnIiznLUuz8xb+CdUz6kP\\u002fa3xdlOdKM\\u002f6xGHUhautj\\u002feQTPV7YmqP7wjo3rWqbU\\u002fZF7wstkzvT8VR5KEHIK5P8v7yq8tKaQ\\u002fkhPBcXHZhj9VYLGcDg4oP7ABBZeko1s\\u002f\"},\"yaxis\":\"y3\",\"type\":\"bar\"},{\"alignmentgroup\":\"True\",\"customdata\":{\"dtype\":\"f8\",\"bdata\":\"AAAAAAAAAAAAAAAAAAAAAAAAAAAAAAAAAAAAAAAAAAAAAAAAAAAAAAAAAAAAAAAAAAAAAAAAAAAAAAAAAAAAAI2cHv82rK9AAAAAAAAA8D8sAPvhXkusQAAAAAAAACBAsV\\u002f2nwVcy0AAAAAAAAAuQDNFaCSsdfNAAAAAAAAAXEBRihx+nTf6QAAAAAAAwGJABlgyxoYD4EAAAAAAAABHQGJNsNjzkrZAAAAAAAAAO0ADRZiCEWjDQAAAAAAAADdAk\\u002fj7DzBKykAAAAAAAABDQPeu60IUiONAAAAAAACAR0A80XSvYY\\u002frQAAAAAAAAFJApPhITjFg8EAAAAAAAEBUQBf2lv\\u002f3j+JAAAAAAACAS0AxhYnaJcHoQAAAAAAAgEpAwLee8\\u002fRlq0AAAAAAAAAxQIZjwHVZU8NAAAAAAAAAMEA4Pz6hrnegQAAAAAAAACBAxHQVY1SkdEAAAAAAAAAUQJQ4vZMi0LdAAAAAAAAAFEAAAAAAAAAAAAAAAAAAAAAA\",\"shape\":\"24, 2\"},\"hovertemplate\":\"source=survey\\u003cbr\\u003epdpurp_label=Escort\\u003cbr\\u003etlvorg_hr=%{x}\\u003cbr\\u003epercentage=%{y}\\u003cbr\\u003etoexpfac=%{customdata[0]}\\u003cbr\\u003esample_count=%{customdata[1]}\\u003cextra\\u003e\\u003c\\u002fextra\\u003e\",\"legendgroup\":\"survey\",\"marker\":{\"color\":\"#8CC63E\",\"pattern\":{\"shape\":\"\"}},\"name\":\"survey\",\"offsetgroup\":\"survey\",\"orientation\":\"v\",\"showlegend\":false,\"textposition\":\"auto\",\"x\":{\"dtype\":\"i1\",\"bdata\":\"AAECAwQFBgcICQoLDA0ODxAREhMUFRYX\"},\"xaxis\":\"x2\",\"y\":{\"dtype\":\"f8\",\"bdata\":\"AAAAAAAAAAAAAAAAAAAAAAAAAAAAAAAAAAAAAAAAAACkluduR3l+Pyrh9WYsOXs\\u002fiH5ro+JSmj+iyop1F7nCP3bTwi2MOck\\u002fLdWar63Qrj8HK7DVMLiFP5y2bKkArJI\\u002fryPFw2pLmT+HIZMzzcqyP2Im6\\u002fpMhLo\\u002fGydiuP6Cvz8S511XFdyxP9rmJ3NB0bc\\u002fvqcOsHFcej9aq2FlEZiSP8HjwBkysG8\\u002fwVofskrcQz\\u002fGcFLLXemGPwAAAAAAAAAA\"},\"yaxis\":\"y2\",\"type\":\"bar\"},{\"alignmentgroup\":\"True\",\"customdata\":{\"dtype\":\"f8\",\"bdata\":\"AAAAAAAAAAAAAAAAAAAAAAAAAAAAAAAAAAAAAAAAAAAAAAAAAAAAAAAAAAAAAAAAAAAAAAAAAAAAAAAAAAAAAAAAAAAAAAAAAAAAAAAAAACJibUBgyqiQAAAAAAAABRAsrguCNcuuUAAAAAAAAA1QDAy4SPGTuJAAAAAAAAAT0Ak97Nd\\u002fnfVQAAAAAAAAFFAtNChgy2M50AAAAAAAEBWQOXglL5c0NpAAAAAAABAV0BxEKsTBD3bQAAAAAAAQFJAhTMj87SM20AAAAAAAABVQL\\u002fkIYma89VAAAAAAACAVUAkjMiK0oDhQAAAAAAAQFRA6IEbeXp03kAAAAAAAABRQOQI8e6iNMNAAAAAAACASkDicyQgjvXdQAAAAAAAAEJArI5UQz+TpEAAAAAAAAA2QEKFZNd4t8lAAAAAAAAALkCdw\\u002fwZe2obQAAAAAAAAPA\\u002fhHDV2Rp5PUAAAAAAAADwP8JPxfSWrWhAAAAAAAAA8D8AAAAAAAAAAAAAAAAAAAAA\",\"shape\":\"24, 2\"},\"hovertemplate\":\"source=survey\\u003cbr\\u003epdpurp_label=Personal Business\\u003cbr\\u003etlvorg_hr=%{x}\\u003cbr\\u003epercentage=%{y}\\u003cbr\\u003etoexpfac=%{customdata[0]}\\u003cbr\\u003esample_count=%{customdata[1]}\\u003cextra\\u003e\\u003c\\u002fextra\\u003e\",\"legendgroup\":\"survey\",\"marker\":{\"color\":\"#8CC63E\",\"pattern\":{\"shape\":\"\"}},\"name\":\"survey\",\"offsetgroup\":\"survey\",\"orientation\":\"v\",\"showlegend\":false,\"textposition\":\"auto\",\"x\":{\"dtype\":\"i1\",\"bdata\":\"AAECAwQFBgcICQoLDA0ODxAREhMUFRYX\"},\"xaxis\":\"x\",\"y\":{\"dtype\":\"f8\",\"bdata\":\"AAAAAAAAAAAAAAAAAAAAAAAAAAAAAAAAAAAAAAAAAAAAAAAAAAAAAPLIKz\\u002f0hHs\\u002f+Kni2RUTkz\\u002fQ5cMN47u7P4N59qzgQrA\\u002fUg2odvnVwT8jiNI2VU+0P4oWxZ6hobQ\\u002fknpPB\\u002f7dtD9mwdYwgaCwP6iTUUflg7o\\u002fFovihFoRtz9k7xOwGRidP3i\\u002fsI83sbY\\u002fX8W2gDsrfz9uV8Zkk3qjP+hnc3cRxPQ+Lf4IHvRSFj9\\u002fZGyqL7FCPwAAAAAAAAAA\"},\"yaxis\":\"y\",\"type\":\"bar\"}],                        {\"template\":{\"data\":{\"barpolar\":[{\"marker\":{\"line\":{\"color\":\"white\",\"width\":0.5},\"pattern\":{\"fillmode\":\"overlay\",\"size\":10,\"solidity\":0.2}},\"type\":\"barpolar\"}],\"bar\":[{\"error_x\":{\"color\":\"rgb(36,36,36)\"},\"error_y\":{\"color\":\"rgb(36,36,36)\"},\"marker\":{\"line\":{\"color\":\"white\",\"width\":0.5},\"pattern\":{\"fillmode\":\"overlay\",\"size\":10,\"solidity\":0.2}},\"type\":\"bar\"}],\"carpet\":[{\"aaxis\":{\"endlinecolor\":\"rgb(36,36,36)\",\"gridcolor\":\"white\",\"linecolor\":\"white\",\"minorgridcolor\":\"white\",\"startlinecolor\":\"rgb(36,36,36)\"},\"baxis\":{\"endlinecolor\":\"rgb(36,36,36)\",\"gridcolor\":\"white\",\"linecolor\":\"white\",\"minorgridcolor\":\"white\",\"startlinecolor\":\"rgb(36,36,36)\"},\"type\":\"carpet\"}],\"choropleth\":[{\"colorbar\":{\"outlinewidth\":1,\"tickcolor\":\"rgb(36,36,36)\",\"ticks\":\"outside\"},\"type\":\"choropleth\"}],\"contourcarpet\":[{\"colorbar\":{\"outlinewidth\":1,\"tickcolor\":\"rgb(36,36,36)\",\"ticks\":\"outside\"},\"type\":\"contourcarpet\"}],\"contour\":[{\"colorbar\":{\"outlinewidth\":1,\"tickcolor\":\"rgb(36,36,36)\",\"ticks\":\"outside\"},\"colorscale\":[[0.0,\"#440154\"],[0.1111111111111111,\"#482878\"],[0.2222222222222222,\"#3e4989\"],[0.3333333333333333,\"#31688e\"],[0.4444444444444444,\"#26828e\"],[0.5555555555555556,\"#1f9e89\"],[0.6666666666666666,\"#35b779\"],[0.7777777777777778,\"#6ece58\"],[0.8888888888888888,\"#b5de2b\"],[1.0,\"#fde725\"]],\"type\":\"contour\"}],\"heatmap\":[{\"colorbar\":{\"outlinewidth\":1,\"tickcolor\":\"rgb(36,36,36)\",\"ticks\":\"outside\"},\"colorscale\":[[0.0,\"#440154\"],[0.1111111111111111,\"#482878\"],[0.2222222222222222,\"#3e4989\"],[0.3333333333333333,\"#31688e\"],[0.4444444444444444,\"#26828e\"],[0.5555555555555556,\"#1f9e89\"],[0.6666666666666666,\"#35b779\"],[0.7777777777777778,\"#6ece58\"],[0.8888888888888888,\"#b5de2b\"],[1.0,\"#fde725\"]],\"type\":\"heatmap\"}],\"histogram2dcontour\":[{\"colorbar\":{\"outlinewidth\":1,\"tickcolor\":\"rgb(36,36,36)\",\"ticks\":\"outside\"},\"colorscale\":[[0.0,\"#440154\"],[0.1111111111111111,\"#482878\"],[0.2222222222222222,\"#3e4989\"],[0.3333333333333333,\"#31688e\"],[0.4444444444444444,\"#26828e\"],[0.5555555555555556,\"#1f9e89\"],[0.6666666666666666,\"#35b779\"],[0.7777777777777778,\"#6ece58\"],[0.8888888888888888,\"#b5de2b\"],[1.0,\"#fde725\"]],\"type\":\"histogram2dcontour\"}],\"histogram2d\":[{\"colorbar\":{\"outlinewidth\":1,\"tickcolor\":\"rgb(36,36,36)\",\"ticks\":\"outside\"},\"colorscale\":[[0.0,\"#440154\"],[0.1111111111111111,\"#482878\"],[0.2222222222222222,\"#3e4989\"],[0.3333333333333333,\"#31688e\"],[0.4444444444444444,\"#26828e\"],[0.5555555555555556,\"#1f9e89\"],[0.6666666666666666,\"#35b779\"],[0.7777777777777778,\"#6ece58\"],[0.8888888888888888,\"#b5de2b\"],[1.0,\"#fde725\"]],\"type\":\"histogram2d\"}],\"histogram\":[{\"marker\":{\"line\":{\"color\":\"white\",\"width\":0.6}},\"type\":\"histogram\"}],\"mesh3d\":[{\"colorbar\":{\"outlinewidth\":1,\"tickcolor\":\"rgb(36,36,36)\",\"ticks\":\"outside\"},\"type\":\"mesh3d\"}],\"parcoords\":[{\"line\":{\"colorbar\":{\"outlinewidth\":1,\"tickcolor\":\"rgb(36,36,36)\",\"ticks\":\"outside\"}},\"type\":\"parcoords\"}],\"pie\":[{\"automargin\":true,\"type\":\"pie\"}],\"scatter3d\":[{\"line\":{\"colorbar\":{\"outlinewidth\":1,\"tickcolor\":\"rgb(36,36,36)\",\"ticks\":\"outside\"}},\"marker\":{\"colorbar\":{\"outlinewidth\":1,\"tickcolor\":\"rgb(36,36,36)\",\"ticks\":\"outside\"}},\"type\":\"scatter3d\"}],\"scattercarpet\":[{\"marker\":{\"colorbar\":{\"outlinewidth\":1,\"tickcolor\":\"rgb(36,36,36)\",\"ticks\":\"outside\"}},\"type\":\"scattercarpet\"}],\"scattergeo\":[{\"marker\":{\"colorbar\":{\"outlinewidth\":1,\"tickcolor\":\"rgb(36,36,36)\",\"ticks\":\"outside\"}},\"type\":\"scattergeo\"}],\"scattergl\":[{\"marker\":{\"colorbar\":{\"outlinewidth\":1,\"tickcolor\":\"rgb(36,36,36)\",\"ticks\":\"outside\"}},\"type\":\"scattergl\"}],\"scattermapbox\":[{\"marker\":{\"colorbar\":{\"outlinewidth\":1,\"tickcolor\":\"rgb(36,36,36)\",\"ticks\":\"outside\"}},\"type\":\"scattermapbox\"}],\"scattermap\":[{\"marker\":{\"colorbar\":{\"outlinewidth\":1,\"tickcolor\":\"rgb(36,36,36)\",\"ticks\":\"outside\"}},\"type\":\"scattermap\"}],\"scatterpolargl\":[{\"marker\":{\"colorbar\":{\"outlinewidth\":1,\"tickcolor\":\"rgb(36,36,36)\",\"ticks\":\"outside\"}},\"type\":\"scatterpolargl\"}],\"scatterpolar\":[{\"marker\":{\"colorbar\":{\"outlinewidth\":1,\"tickcolor\":\"rgb(36,36,36)\",\"ticks\":\"outside\"}},\"type\":\"scatterpolar\"}],\"scatter\":[{\"fillpattern\":{\"fillmode\":\"overlay\",\"size\":10,\"solidity\":0.2},\"type\":\"scatter\"}],\"scatterternary\":[{\"marker\":{\"colorbar\":{\"outlinewidth\":1,\"tickcolor\":\"rgb(36,36,36)\",\"ticks\":\"outside\"}},\"type\":\"scatterternary\"}],\"surface\":[{\"colorbar\":{\"outlinewidth\":1,\"tickcolor\":\"rgb(36,36,36)\",\"ticks\":\"outside\"},\"colorscale\":[[0.0,\"#440154\"],[0.1111111111111111,\"#482878\"],[0.2222222222222222,\"#3e4989\"],[0.3333333333333333,\"#31688e\"],[0.4444444444444444,\"#26828e\"],[0.5555555555555556,\"#1f9e89\"],[0.6666666666666666,\"#35b779\"],[0.7777777777777778,\"#6ece58\"],[0.8888888888888888,\"#b5de2b\"],[1.0,\"#fde725\"]],\"type\":\"surface\"}],\"table\":[{\"cells\":{\"fill\":{\"color\":\"rgb(237,237,237)\"},\"line\":{\"color\":\"white\"}},\"header\":{\"fill\":{\"color\":\"rgb(217,217,217)\"},\"line\":{\"color\":\"white\"}},\"type\":\"table\"}]},\"layout\":{\"annotationdefaults\":{\"arrowhead\":0,\"arrowwidth\":1},\"autotypenumbers\":\"strict\",\"coloraxis\":{\"colorbar\":{\"outlinewidth\":1,\"tickcolor\":\"rgb(36,36,36)\",\"ticks\":\"outside\"}},\"colorscale\":{\"diverging\":[[0.0,\"rgb(103,0,31)\"],[0.1,\"rgb(178,24,43)\"],[0.2,\"rgb(214,96,77)\"],[0.3,\"rgb(244,165,130)\"],[0.4,\"rgb(253,219,199)\"],[0.5,\"rgb(247,247,247)\"],[0.6,\"rgb(209,229,240)\"],[0.7,\"rgb(146,197,222)\"],[0.8,\"rgb(67,147,195)\"],[0.9,\"rgb(33,102,172)\"],[1.0,\"rgb(5,48,97)\"]],\"sequential\":[[0.0,\"#440154\"],[0.1111111111111111,\"#482878\"],[0.2222222222222222,\"#3e4989\"],[0.3333333333333333,\"#31688e\"],[0.4444444444444444,\"#26828e\"],[0.5555555555555556,\"#1f9e89\"],[0.6666666666666666,\"#35b779\"],[0.7777777777777778,\"#6ece58\"],[0.8888888888888888,\"#b5de2b\"],[1.0,\"#fde725\"]],\"sequentialminus\":[[0.0,\"#440154\"],[0.1111111111111111,\"#482878\"],[0.2222222222222222,\"#3e4989\"],[0.3333333333333333,\"#31688e\"],[0.4444444444444444,\"#26828e\"],[0.5555555555555556,\"#1f9e89\"],[0.6666666666666666,\"#35b779\"],[0.7777777777777778,\"#6ece58\"],[0.8888888888888888,\"#b5de2b\"],[1.0,\"#fde725\"]]},\"colorway\":[\"#91268F\",\"#8CC63E\",\"#00A7A0\",\"#F05A28\",\"#4C4C4C\",\"#630460\",\"#9f3913\",\"#588527\",\"#00716c\",\"#3e4040\"],\"font\":{\"color\":\"rgb(36,36,36)\",\"family\":\"Poppins\",\"size\":11},\"geo\":{\"bgcolor\":\"white\",\"lakecolor\":\"white\",\"landcolor\":\"white\",\"showlakes\":true,\"showland\":true,\"subunitcolor\":\"white\"},\"hoverlabel\":{\"align\":\"left\"},\"hovermode\":\"closest\",\"mapbox\":{\"style\":\"light\"},\"paper_bgcolor\":\"white\",\"plot_bgcolor\":\"white\",\"polar\":{\"angularaxis\":{\"gridcolor\":\"rgb(232,232,232)\",\"linecolor\":\"rgb(36,36,36)\",\"showgrid\":false,\"showline\":true,\"ticks\":\"outside\"},\"bgcolor\":\"white\",\"radialaxis\":{\"gridcolor\":\"rgb(232,232,232)\",\"linecolor\":\"rgb(36,36,36)\",\"showgrid\":false,\"showline\":true,\"ticks\":\"outside\"}},\"scene\":{\"xaxis\":{\"backgroundcolor\":\"white\",\"gridcolor\":\"rgb(232,232,232)\",\"gridwidth\":2,\"linecolor\":\"rgb(36,36,36)\",\"showbackground\":true,\"showgrid\":false,\"showline\":true,\"ticks\":\"outside\",\"zeroline\":false,\"zerolinecolor\":\"rgb(36,36,36)\"},\"yaxis\":{\"backgroundcolor\":\"white\",\"gridcolor\":\"rgb(232,232,232)\",\"gridwidth\":2,\"linecolor\":\"rgb(36,36,36)\",\"showbackground\":true,\"showgrid\":false,\"showline\":true,\"ticks\":\"outside\",\"zeroline\":false,\"zerolinecolor\":\"rgb(36,36,36)\"},\"zaxis\":{\"backgroundcolor\":\"white\",\"gridcolor\":\"rgb(232,232,232)\",\"gridwidth\":2,\"linecolor\":\"rgb(36,36,36)\",\"showbackground\":true,\"showgrid\":false,\"showline\":true,\"ticks\":\"outside\",\"zeroline\":false,\"zerolinecolor\":\"rgb(36,36,36)\"}},\"shapedefaults\":{\"fillcolor\":\"black\",\"line\":{\"width\":0},\"opacity\":0.3},\"ternary\":{\"aaxis\":{\"gridcolor\":\"rgb(232,232,232)\",\"linecolor\":\"rgb(36,36,36)\",\"showgrid\":false,\"showline\":true,\"ticks\":\"outside\"},\"baxis\":{\"gridcolor\":\"rgb(232,232,232)\",\"linecolor\":\"rgb(36,36,36)\",\"showgrid\":false,\"showline\":true,\"ticks\":\"outside\"},\"bgcolor\":\"white\",\"caxis\":{\"gridcolor\":\"rgb(232,232,232)\",\"linecolor\":\"rgb(36,36,36)\",\"showgrid\":false,\"showline\":true,\"ticks\":\"outside\"}},\"title\":{\"x\":0.05},\"xaxis\":{\"automargin\":true,\"gridcolor\":\"rgb(232,232,232)\",\"linecolor\":\"rgb(36,36,36)\",\"showgrid\":false,\"showline\":true,\"ticks\":\"outside\",\"title\":{\"standoff\":15},\"zeroline\":false,\"zerolinecolor\":\"rgb(36,36,36)\"},\"yaxis\":{\"automargin\":true,\"gridcolor\":\"rgb(232,232,232)\",\"linecolor\":\"rgb(36,36,36)\",\"showgrid\":false,\"showline\":true,\"ticks\":\"outside\",\"title\":{\"standoff\":15},\"zeroline\":false,\"zerolinecolor\":\"rgb(36,36,36)\"}}},\"xaxis\":{\"anchor\":\"y\",\"domain\":[0.0,0.98],\"title\":{\"text\":\"tlvorg_hr\"},\"dtick\":1,\"categoryorder\":\"category ascending\"},\"yaxis\":{\"anchor\":\"x\",\"domain\":[0.0,0.14166666666666666],\"title\":{\"text\":\"percentage\"},\"tickformat\":\".0%\"},\"xaxis2\":{\"anchor\":\"y2\",\"domain\":[0.0,0.98],\"matches\":\"x\",\"showticklabels\":false,\"dtick\":1,\"categoryorder\":\"category ascending\"},\"yaxis2\":{\"anchor\":\"x2\",\"domain\":[0.17166666666666666,0.31333333333333335],\"matches\":\"y\",\"title\":{\"text\":\"percentage\"},\"tickformat\":\".0%\"},\"xaxis3\":{\"anchor\":\"y3\",\"domain\":[0.0,0.98],\"matches\":\"x\",\"showticklabels\":false,\"dtick\":1,\"categoryorder\":\"category ascending\"},\"yaxis3\":{\"anchor\":\"x3\",\"domain\":[0.3433333333333333,0.485],\"matches\":\"y\",\"title\":{\"text\":\"percentage\"},\"tickformat\":\".0%\"},\"xaxis4\":{\"anchor\":\"y4\",\"domain\":[0.0,0.98],\"matches\":\"x\",\"showticklabels\":false,\"dtick\":1,\"categoryorder\":\"category ascending\"},\"yaxis4\":{\"anchor\":\"x4\",\"domain\":[0.515,0.6566666666666667],\"matches\":\"y\",\"title\":{\"text\":\"percentage\"},\"tickformat\":\".0%\"},\"xaxis5\":{\"anchor\":\"y5\",\"domain\":[0.0,0.98],\"matches\":\"x\",\"showticklabels\":false,\"dtick\":1,\"categoryorder\":\"category ascending\"},\"yaxis5\":{\"anchor\":\"x5\",\"domain\":[0.6866666666666666,0.8283333333333334],\"matches\":\"y\",\"title\":{\"text\":\"percentage\"},\"tickformat\":\".0%\"},\"xaxis6\":{\"anchor\":\"y6\",\"domain\":[0.0,0.98],\"matches\":\"x\",\"showticklabels\":false,\"dtick\":1,\"categoryorder\":\"category ascending\"},\"yaxis6\":{\"anchor\":\"x6\",\"domain\":[0.8583333333333333,1.0],\"matches\":\"y\",\"title\":{\"text\":\"percentage\"},\"tickformat\":\".0%\"},\"annotations\":[{\"font\":{},\"showarrow\":false,\"text\":\"Personal Business\",\"textangle\":90,\"x\":0.98,\"xanchor\":\"left\",\"xref\":\"paper\",\"y\":0.07083333333333333,\"yanchor\":\"middle\",\"yref\":\"paper\"},{\"font\":{},\"showarrow\":false,\"text\":\"Escort\",\"textangle\":90,\"x\":0.98,\"xanchor\":\"left\",\"xref\":\"paper\",\"y\":0.2425,\"yanchor\":\"middle\",\"yref\":\"paper\"},{\"font\":{},\"showarrow\":false,\"text\":\"Meal\",\"textangle\":90,\"x\":0.98,\"xanchor\":\"left\",\"xref\":\"paper\",\"y\":0.4141666666666667,\"yanchor\":\"middle\",\"yref\":\"paper\"},{\"font\":{},\"showarrow\":false,\"text\":\"Shop\",\"textangle\":90,\"x\":0.98,\"xanchor\":\"left\",\"xref\":\"paper\",\"y\":0.5858333333333334,\"yanchor\":\"middle\",\"yref\":\"paper\"},{\"font\":{},\"showarrow\":false,\"text\":\"School\",\"textangle\":90,\"x\":0.98,\"xanchor\":\"left\",\"xref\":\"paper\",\"y\":0.7575000000000001,\"yanchor\":\"middle\",\"yref\":\"paper\"},{\"font\":{},\"showarrow\":false,\"text\":\"Work\",\"textangle\":90,\"x\":0.98,\"xanchor\":\"left\",\"xref\":\"paper\",\"y\":0.9291666666666667,\"yanchor\":\"middle\",\"yref\":\"paper\"}],\"legend\":{\"title\":{\"text\":\"source\"},\"tracegroupgap\":0},\"title\":{\"text\":\"tour origin departure hour by purpose\"},\"barmode\":\"group\",\"height\":1500,\"width\":850},                        {\"responsive\": true}                    ).then(function(){\n",
       "                            \n",
       "var gd = document.getElementById('15a7edd7-f464-480b-81b8-d5c8a2822f96');\n",
       "var x = new MutationObserver(function (mutations, observer) {{\n",
       "        var display = window.getComputedStyle(gd).display;\n",
       "        if (!display || display === 'none') {{\n",
       "            console.log([gd, 'removed!']);\n",
       "            Plotly.purge(gd);\n",
       "            observer.disconnect();\n",
       "        }}\n",
       "}});\n",
       "\n",
       "// Listen for the removal of the full notebook cells\n",
       "var notebookContainer = gd.closest('#notebook-container');\n",
       "if (notebookContainer) {{\n",
       "    x.observe(notebookContainer, {childList: true});\n",
       "}}\n",
       "\n",
       "// Listen for the clearing of the current output cell\n",
       "var outputEl = gd.closest('.output');\n",
       "if (outputEl) {{\n",
       "    x.observe(outputEl, {childList: true});\n",
       "}}\n",
       "\n",
       "                        })                };            </script>        </div>"
      ]
     },
     "metadata": {},
     "output_type": "display_data"
    }
   ],
   "source": [
    "df_plot = df_tour.groupby(['tlvorg_hr','pdpurp_label','source'])['toexpfac'].agg(sample_count='size', toexpfac='sum').reset_index()\n",
    "df_plot['percentage'] = df_plot.groupby(['pdpurp_label','source'], group_keys=False)['toexpfac']. \\\n",
    "    apply(lambda x: x / float(x.sum()))\n",
    "\n",
    "fig = px.bar(df_plot.sort_values(['source','pdpurp_label']),\n",
    "             x=\"tlvorg_hr\", y=\"percentage\", color=\"source\",barmode=\"group\",\n",
    "             facet_row='pdpurp_label',\n",
    "             hover_data=['toexpfac','sample_count'],\n",
    "             title=\"tour origin departure hour by purpose\")\n",
    "fig.update_layout(height=1500, width=850)\n",
    "fig.for_each_annotation(lambda a: a.update(text = a.text.split(\"=\")[-1]))\n",
    "fig.for_each_xaxis(lambda a: a.update(dict(dtick = 1, categoryorder='category ascending')))\n",
    "fig.for_each_yaxis(lambda a: a.update(dict(tickformat=\".0%\")))\n",
    "fig.show()"
   ]
  },
  {
   "cell_type": "raw",
   "metadata": {
    "vscode": {
     "languageId": "raw"
    }
   },
   "source": [
    "### trip"
   ]
  },
  {
   "cell_type": "code",
   "execution_count": 7,
   "metadata": {
    "execution": {
     "iopub.execute_input": "2025-05-09T00:07:55.595598Z",
     "iopub.status.busy": "2025-05-09T00:07:55.593604Z",
     "iopub.status.idle": "2025-05-09T00:07:57.839693Z",
     "shell.execute_reply": "2025-05-09T00:07:57.837697Z"
    }
   },
   "outputs": [
    {
     "name": "stderr",
     "output_type": "stream",
     "text": [
      "C:\\Users\\modeller\\AppData\\Local\\Temp\\ipykernel_48884\\80562895.py:1: FutureWarning:\n",
      "\n",
      "The default of observed=False is deprecated and will be changed to True in a future version of pandas. Pass observed=False to retain current behavior or observed=True to adopt the future default and silence this warning.\n",
      "\n"
     ]
    },
    {
     "name": "stderr",
     "output_type": "stream",
     "text": [
      "C:\\Users\\modeller\\AppData\\Local\\Temp\\ipykernel_48884\\80562895.py:2: FutureWarning:\n",
      "\n",
      "The default of observed=False is deprecated and will be changed to True in a future version of pandas. Pass observed=False to retain current behavior or observed=True to adopt the future default and silence this warning.\n",
      "\n"
     ]
    },
    {
     "data": {
      "application/vnd.plotly.v1+json": {
       "config": {
        "plotlyServerURL": "https://plot.ly"
       },
       "data": [
        {
         "alignmentgroup": "True",
         "customdata": {
          "bdata": "AAAAAACSrEAAAAAAAJKsQAAAAAAAlqNAAAAAAACWo0AAAAAAAOCLQAAAAAAA4ItAAAAAAMAF1UAAAAAAwAXVQAAAAABAUN1AAAAAAEBQ3UAAAAAAMOv0QAAAAAAw6/RAAAAAANigDEEAAAAA2KAMQQAAAABAyRRBAAAAAEDJFEEAAAAAZPQSQQAAAABk9BJBAAAAAKhgBkEAAAAAqGAGQQAAAAAAu/5AAAAAAAC7/kAAAAAAsJv+QAAAAACwm/5AAAAAAKCB/UAAAAAAoIH9QAAAAACwY/hAAAAAALBj+EAAAAAAYOr1QAAAAABg6vVAAAAAACAd9EAAAAAAIB30QAAAAAAwqPRAAAAAADCo9EAAAAAAwH7xQAAAAADAfvFAAAAAAIAz6kAAAAAAgDPqQAAAAADAUt1AAAAAAMBS3UAAAAAAgGDWQAAAAACAYNZAAAAAAMBc0EAAAAAAwFzQQAAAAACAAsNAAAAAAIACw0AAAAAAAF69QAAAAAAAXr1A",
          "dtype": "f8",
          "shape": "24, 2"
         },
         "hovertemplate": "source=model<br>dpurp_label=Work<br>dept_hr=%{x}<br>percentage=%{y}<br>trexpfac=%{customdata[0]}<br>sample_count=%{customdata[1]}<extra></extra>",
         "legendgroup": "model",
         "marker": {
          "color": "#91268F",
          "pattern": {
           "shape": ""
          }
         },
         "name": "model",
         "offsetgroup": "model",
         "orientation": "v",
         "showlegend": true,
         "textposition": "auto",
         "type": "bar",
         "x": {
          "bdata": "AAECAwQFBgcICQoLDA0ODxAREhMUFRYX",
          "dtype": "i1"
         },
         "xaxis": "x6",
         "y": {
          "bdata": "eNXFRBfQWz9i+b+PERFTP6AynF7PIjs/yOSGnBF3hD8O9KMGTImMP2p6suQ1XaQ/f6fahYreuz8Zu+E6LDzEP7q++2q+c8I/yfUuIcfItT8mg+ICbuqtP34nJojyy60/kIPm6Vy5rD+HJsCRJ76nPzUuFeqhVaU/HevxdJyUoz9VcsKg/BukP8n5IFkCCKE/h7KPoquBmT81IugOu4uMP+eyqjCgyIU/PiB4NGXbfz9mVgmoeoFyP+TxGrSulmw/",
          "dtype": "f8"
         },
         "yaxis": "y6"
        },
        {
         "alignmentgroup": "True",
         "customdata": {
          "bdata": "AAAAAAAAIkAAAAAAAAAiQAAAAAAAABBAAAAAAAAAEEAAAAAAAAAAAAAAAAAAAAAAAAAAAACYgUAAAAAAAJiBQAAAAAAAQIVAAAAAAABAhUAAAAAAAMO1QAAAAAAAw7VAAAAAAKAm6UAAAAAAoCbpQAAAAACoagNBAAAAAKhqA0EAAAAAoHMGQQAAAACgcwZBAAAAABCE90AAAAAAEIT3QAAAAAAg7OZAAAAAACDs5kAAAAAAwHrfQAAAAADAet9AAAAAAAAX1kAAAAAAABfWQAAAAAAAK9BAAAAAAAAr0EAAAAAAAKnKQAAAAAAAqcpAAAAAAIBhykAAAAAAgGHKQAAAAAAAucJAAAAAAAC5wkAAAAAAgAXAQAAAAACABcBAAAAAAACatUAAAAAAAJq1QAAAAAAANJ1AAAAAAAA0nUAAAAAAAGiXQAAAAAAAaJdAAAAAAABYi0AAAAAAAFiLQAAAAAAAAFtAAAAAAAAAW0AAAAAAAABHQAAAAAAAAEdA",
          "dtype": "f8",
          "shape": "24, 2"
         },
         "hovertemplate": "source=model<br>dpurp_label=School<br>dept_hr=%{x}<br>percentage=%{y}<br>trexpfac=%{customdata[0]}<br>sample_count=%{customdata[1]}<extra></extra>",
         "legendgroup": "model",
         "marker": {
          "color": "#91268F",
          "pattern": {
           "shape": ""
          }
         },
         "name": "model",
         "offsetgroup": "model",
         "orientation": "v",
         "showlegend": false,
         "textposition": "auto",
         "type": "bar",
         "x": {
          "bdata": "AAECAwQFBgcICQoLDA0ODxAREhMUFRYX",
          "dtype": "i1"
         },
         "xaxis": "x5",
         "y": {
          "bdata": "JRBatVgi7D7o8Yj2FQLZPgAAAAAAAAAAAZaXJst/Sz+k8LaVYptQP0IxoB/DAYE/SZAdrdCnsz8khyp8LlnOPyLz2aLLi9E/CV7W5LRgwj/QTo599+mxP6lbFEfzmag/vVhHmWhDoT/ygY+RS0WZP8pHTdzE1ZQ/zm06M+SdlD+Sn0zTgEONP/uwFa6uCok/zFF8c7jhgD/DuRxLh9JmP/Gqk5DGSmI/tYRpRIheVT8cjAOIwhklP99tMsl/+RE/",
          "dtype": "f8"
         },
         "yaxis": "y5"
        },
        {
         "alignmentgroup": "True",
         "customdata": {
          "bdata": "AAAAAABckUAAAAAAAFyRQAAAAAAAmIlAAAAAAACYiUAAAAAAAGBzQAAAAAAAYHNAAAAAAABrvkAAAAAAAGu+QAAAAAAAf79AAAAAAAB/v0AAAAAAgArIQAAAAACACshAAAAAAMB930AAAAAAwH3fQAAAAAAgofBAAAAAACCh8EAAAAAAMDH7QAAAAAAwMftAAAAAAPiwAkEAAAAA+LACQQAAAADA9wVBAAAAAMD3BUEAAAAAqJUEQQAAAAColQRBAAAAADhfA0EAAAAAOF8DQQAAAACQhAVBAAAAAJCEBUEAAAAACFwDQQAAAAAIXANBAAAAAKjqBUEAAAAAqOoFQQAAAACoiAdBAAAAAKiIB0EAAAAA+NEDQQAAAAD40QNBAAAAAIAc/0AAAAAAgBz/QAAAAABAh/VAAAAAAECH9UAAAAAAwO7sQAAAAADA7uxAAAAAAMD91EAAAAAAwP3UQAAAAACAvMJAAAAAAIC8wkAAAAAAAB63QAAAAAAAHrdA",
          "dtype": "f8",
          "shape": "24, 2"
         },
         "hovertemplate": "source=model<br>dpurp_label=Shop<br>dept_hr=%{x}<br>percentage=%{y}<br>trexpfac=%{customdata[0]}<br>sample_count=%{customdata[1]}<extra></extra>",
         "legendgroup": "model",
         "marker": {
          "color": "#91268F",
          "pattern": {
           "shape": ""
          }
         },
         "name": "model",
         "offsetgroup": "model",
         "orientation": "v",
         "showlegend": false,
         "textposition": "auto",
         "type": "bar",
         "x": {
          "bdata": "AAECAwQFBgcICQoLDA0ODxAREhMUFRYX",
          "dtype": "i1"
         },
         "xaxis": "x4",
         "y": {
          "bdata": "BZjM0Bd4QT/6RSM8a8E5P0+Zcd5afyM/NnZM3Dmcbj8vU1eE+LFvP9H52/NnMXg/qYV6frawjz9nklpkCbygP/hGbm4xXas/OOK+nDfPsj/D5W8HTRu2P5Mt7/33trQ/3JjHmpF+sz8QHmieYqe1Py3zOnJce7M/tsnT1h8Otj8rFeTSva63P23ljk4L8rM/aXbGHNlOrz+8pM/3FqqlP97XhX6SHZ0/QlXvcrgfhT9e/QZG0tpyP4+uRThpQ2c/",
          "dtype": "f8"
         },
         "yaxis": "y4"
        },
        {
         "alignmentgroup": "True",
         "customdata": {
          "bdata": "AAAAAACwjEAAAAAAALCMQAAAAAAAcINAAAAAAABwg0AAAAAAAKBwQAAAAAAAoHBAAAAAAAAAsEAAAAAAAACwQAAAAAAAR7JAAAAAAABHskAAAAAAAFvBQAAAAAAAW8FAAAAAAIC61kAAAAAAgLrWQAAAAADA7OFAAAAAAMDs4UAAAAAAwPToQAAAAADA9OhAAAAAAKB67kAAAAAAoHruQAAAAACw5PNAAAAAALDk80AAAAAAEE/1QAAAAAAQT/VAAAAAAICa9EAAAAAAgJr0QAAAAADQgPVAAAAAANCA9UAAAAAAgAnzQAAAAACACfNAAAAAAADf8UAAAAAAAN/xQAAAAABQNfRAAAAAAFA19EAAAAAAEMzzQAAAAAAQzPNAAAAAAIB48EAAAAAAgHjwQAAAAAAgMuZAAAAAACAy5kAAAAAAAGTgQAAAAAAAZOBAAAAAAMCn0kAAAAAAwKfSQAAAAAAAbr5AAAAAAABuvkAAAAAAAEiwQAAAAAAASLBA",
          "dtype": "f8",
          "shape": "24, 2"
         },
         "hovertemplate": "source=model<br>dpurp_label=Meal<br>dept_hr=%{x}<br>percentage=%{y}<br>trexpfac=%{customdata[0]}<br>sample_count=%{customdata[1]}<extra></extra>",
         "legendgroup": "model",
         "marker": {
          "color": "#91268F",
          "pattern": {
           "shape": ""
          }
         },
         "name": "model",
         "offsetgroup": "model",
         "orientation": "v",
         "showlegend": false,
         "textposition": "auto",
         "type": "bar",
         "x": {
          "bdata": "AAECAwQFBgcICQoLDA0ODxAREhMUFRYX",
          "dtype": "i1"
         },
         "xaxis": "x3",
         "y": {
          "bdata": "7GAyGrpLTT9vBT6sg9lDPw0aPjs/+jA/aZBasNpWcD9XdNRwN6pyP4U8K1c2uYE/MyaUF+E1lz+AtUmHDU6iP/aByaE4fKk/22S1shMgrz/qKSIZrVC0Pw1NGDa8wrU/BR8oDFgKtT+mphRGivW1P0JBREPXcLM/rCda4wJAsj9G0h7DAqO0P4i+jmyHN7Q/eLpaz+jRsD9IApnLnKqmP2/GKIf5vKA/+Nc2owQNkz9lPSYqLxN/P/MndIhhoHA/",
          "dtype": "f8"
         },
         "yaxis": "y3"
        },
        {
         "alignmentgroup": "True",
         "customdata": {
          "bdata": "AAAAAABooUAAAAAAAGihQAAAAAAAIJdAAAAAAAAgl0AAAAAAAHiDQAAAAAAAeINAAAAAAAAm2UAAAAAAACbZQAAAAABA7NdAAAAAAEDs10AAAAAAwEzlQAAAAADATOVAAAAAAOD8/EAAAAAA4Pz8QAAAAABwewFBAAAAAHB7AUEAAAAAkLP+QAAAAACQs/5AAAAAANCH+kAAAAAA0If6QAAAAADgYflAAAAAAOBh+UAAAAAAEBb1QAAAAAAQFvVAAAAAANDm80AAAAAA0ObzQAAAAACQa/ZAAAAAAJBr9kAAAAAAgH72QAAAAACAfvZAAAAAACBR/kAAAAAAIFH+QAAAAACwiwFBAAAAALCLAUEAAAAAAEL/QAAAAAAAQv9AAAAAAIB19UAAAAAAgHX1QAAAAAAA2ulAAAAAAADa6UAAAAAAYPviQAAAAABg++JAAAAAAAA41EAAAAAAADjUQAAAAACATsZAAAAAAIBOxkAAAAAAAK3BQAAAAAAArcFA",
          "dtype": "f8",
          "shape": "24, 2"
         },
         "hovertemplate": "source=model<br>dpurp_label=Escort<br>dept_hr=%{x}<br>percentage=%{y}<br>trexpfac=%{customdata[0]}<br>sample_count=%{customdata[1]}<extra></extra>",
         "legendgroup": "model",
         "marker": {
          "color": "#91268F",
          "pattern": {
           "shape": ""
          }
         },
         "name": "model",
         "offsetgroup": "model",
         "orientation": "v",
         "showlegend": false,
         "textposition": "auto",
         "type": "bar",
         "x": {
          "bdata": "AAECAwQFBgcICQoLDA0ODxAREhMUFRYX",
          "dtype": "i1"
         },
         "xaxis": "x2",
         "y": {
          "bdata": "vxaNqA/lVT/R2LaSlBZNPxmPjzM3fTg/l9gm+Seijz9QUbP9fxeOP2dj4WXXypo/xVve4T07sj9UZKPPgv21PxJPDrQlT7M/E2OPU5qvsD8tpCCUeO2vP/df4D0Nhqo/53DTaJoIqT+owtAenTOsP5zwEkRvS6w/lGUNkDwRsz9GaBGL8xG2Pz6ohCi7qLM/LXXpehn+qj+JqblFSUKgP4rDxyt04Jc/rwC/8bluiT83FIeUDg98P5Aj5qTaO3Y/",
          "dtype": "f8"
         },
         "yaxis": "y2"
        },
        {
         "alignmentgroup": "True",
         "customdata": {
          "bdata": "AAAAAACogEAAAAAAAKiAQAAAAAAA0HRAAAAAAADQdEAAAAAAAIBeQAAAAAAAgF5AAAAAAAAMs0AAAAAAAAyzQAAAAAAANLFAAAAAAAA0sUAAAAAAgMXAQAAAAACAxcBAAAAAAMBP1kAAAAAAwE/WQAAAAADgNeRAAAAAAOA15EAAAAAAYCLvQAAAAABgIu9AAAAAAHA+80AAAAAAcD7zQAAAAADg+vNAAAAAAOD680AAAAAAwBnxQAAAAADAGfFAAAAAAED370AAAAAAQPfvQAAAAADwJPFAAAAAAPAk8UAAAAAA4GTtQAAAAADgZO1AAAAAAADK7kAAAAAAAMruQAAAAABg7vBAAAAAAGDu8EAAAAAAYAjrQAAAAABgCOtAAAAAAAAn5UAAAAAAACflQAAAAAAAy9hAAAAAAADL2EAAAAAAgL3RQAAAAACAvdFAAAAAAIDtwkAAAAAAgO3CQAAAAAAAtq1AAAAAAAC2rUAAAAAAAIShQAAAAAAAhKFA",
          "dtype": "f8",
          "shape": "24, 2"
         },
         "hovertemplate": "source=model<br>dpurp_label=Personal Business<br>dept_hr=%{x}<br>percentage=%{y}<br>trexpfac=%{customdata[0]}<br>sample_count=%{customdata[1]}<extra></extra>",
         "legendgroup": "model",
         "marker": {
          "color": "#91268F",
          "pattern": {
           "shape": ""
          }
         },
         "name": "model",
         "offsetgroup": "model",
         "orientation": "v",
         "showlegend": false,
         "textposition": "auto",
         "type": "bar",
         "x": {
          "bdata": "AAECAwQFBgcICQoLDA0ODxAREhMUFRYX",
          "dtype": "i1"
         },
         "xaxis": "x",
         "y": {
          "bdata": "joKcd/I3RD97UfqUgUM5P1gODxf0giI/gi7AG9Yedz9p2iid4+F0P8/3hZ/BW4Q/BXDmS1QVmz+HKKQTa4ioP1pb1TCB5bI/MDNHnQ9ctz8EPtHDzEC4P/CJHmYGwrQ/+k9hwbRmsz8Eqx7tms+0P6ZuF2Ud17E/Bnb74N2vsj/ObXySX420P+IRB+Q4aLA/9rNP7BytqT/hcUbmcBiePyGMCeLLiJU/ZRCSM9D5hj/gb/g7WghyP+eenbL/QmU/",
          "dtype": "f8"
         },
         "yaxis": "y"
        },
        {
         "alignmentgroup": "True",
         "customdata": {
          "bdata": "lP8gOXEliUAAAAAAAAAIQMwA3Xn/koFAAAAAAAAAAEAAAAAAAAAAAAAAAAAAAAAAQFWDdI9+yEAAAAAAAAA2QA9Xv52OFOpAAAAAAACAT0B19dWtPvr5QAAAAAAAIGFA/zhsI2CyCUEAAAAAAHB3QLlzjWWyLBZBAAAAAADYg0BBmlD9j3sRQQAAAAAAaINAd6S62TdgBkEAAAAAAFB5QFIRldlA7PlAAAAAAADAcECcDrSIsRL0QAAAAAAAYG1Ats5sWMxV9UAAAAAAACB0QADyDZy5mvJAAAAAAADAbUBUNHAsaqL3QAAAAAAAgGhAUAoPZyGq8UAAAAAAAEBiQIYJoQJAzeFAAAAAAACAW0B/ad2RpYXZQAAAAAAAAFxANYbAxTbLwkAAAAAAAIBNQP6BnLUm8MlAAAAAAACARkDw1Tbps6StQAAAAAAAAEFAnBloYfAwhEAAAAAAAAA2QM01GtvAFcVAAAAAAAAAMEBAeNvMcOWUQAAAAAAAACRA",
          "dtype": "f8",
          "shape": "24, 2"
         },
         "hovertemplate": "source=survey<br>dpurp_label=Work<br>dept_hr=%{x}<br>percentage=%{y}<br>trexpfac=%{customdata[0]}<br>sample_count=%{customdata[1]}<extra></extra>",
         "legendgroup": "survey",
         "marker": {
          "color": "#8CC63E",
          "pattern": {
           "shape": ""
          }
         },
         "name": "survey",
         "offsetgroup": "survey",
         "orientation": "v",
         "showlegend": true,
         "textposition": "auto",
         "type": "bar",
         "x": {
          "bdata": "AAECAwQFBgcICQoLDA0ODxAREhMUFRYX",
          "dtype": "i1"
         },
         "xaxis": "x6",
         "y": {
          "bdata": "kql2kh6nPD9ZawTHXQY0PwAAAAAAAAAAhBr9affoez+H6WDxk7edP3JuYLSYma0/CA15jrRHvT+cy3V5SkTJP892Xq+p68M//yjnJf9+uT/INSJnp4mtP2jm1tZD36Y/i7ed62xPqD/Th9eA3jKlP2lKPlIf7qo/LOOOfrkgpD8JMvzOvUiUP8jByT+9FI0/IUaWoh5qdT+5E/1oGI59P2YjqJ1142A/98+FZboBNz/0EjMkcwZ4P4ThJ2hmz0c/",
          "dtype": "f8"
         },
         "yaxis": "y6"
        },
        {
         "alignmentgroup": "True",
         "customdata": {
          "bdata": "AAAAAAAAAAAAAAAAAAAAAAAAAAAAAAAAAAAAAAAAAAAAAAAAAAAAAAAAAAAAAAAAAAAAAAAAAAAAAAAAAAAAABXug+gRrFVAAAAAAAAA8D+cwa9xRmZ8QAAAAAAAABBA1J9/ZbQi2UAAAAAAAAA6QJLqMwMcqwhBAAAAAACgbUAlf+w+g8oGQQAAAAAAoHBA35DU+ufC60AAAAAAAIBPQCvMPYvFpsJAAAAAAAAANkB6jW6R9hG5QAAAAAAAADBA75AT2H8SuUAAAAAAAAAqQFEkZynrx89AAAAAAAAAM0DMGS+v+9OzQAAAAAAAACpA0ZmZuTbQrUAAAAAAAAAuQKjajxUWNbFAAAAAAAAAIkAIX+GJ6aCPQAAAAAAAACBABGsstwJbxkAAAAAAAAAIQIuxHsNOcV1AAAAAAAAA8D8AAAAAAAAAAAAAAAAAAAAAAAAAAAAAAAAAAAAAAAAAAAAAAAAAAAAAAAAAAAAAAAAAAAAAAAAAAAAAAAAAAAAA",
          "dtype": "f8",
          "shape": "24, 2"
         },
         "hovertemplate": "source=survey<br>dpurp_label=School<br>dept_hr=%{x}<br>percentage=%{y}<br>trexpfac=%{customdata[0]}<br>sample_count=%{customdata[1]}<extra></extra>",
         "legendgroup": "survey",
         "marker": {
          "color": "#8CC63E",
          "pattern": {
           "shape": ""
          }
         },
         "name": "survey",
         "offsetgroup": "survey",
         "orientation": "v",
         "showlegend": false,
         "textposition": "auto",
         "type": "bar",
         "x": {
          "bdata": "AAECAwQFBgcICQoLDA0ODxAREhMUFRYX",
          "dtype": "i1"
         },
         "xaxis": "x5",
         "y": {
          "bdata": "AAAAAAAAAAAAAAAAAAAAAAAAAAAAAAAAAAAAAAAAAAC2xbN5Py4lP9BlRmdlwUs//1yMbcaQqD/Ja89g5BvYP/U0788xRtY/IY4fabshuz9PB0CmfDqSPz/Ht8tpgIg/zR5h9e+AiD/vaFt0aA+fP6ebzgveYIM/0OmQYCAjfT/cZe94L9GAP3hVX0pJ6V4/e/stoTjZlT8BxStpX8YsPwAAAAAAAAAAAAAAAAAAAAAAAAAAAAAAAAAAAAAAAAAA",
          "dtype": "f8"
         },
         "yaxis": "y5"
        },
        {
         "alignmentgroup": "True",
         "customdata": {
          "bdata": "rDIaz2BsdkAAAAAAAAAIQNUHSA2v8GFAAAAAAAAA8D/R7iqYLNeBQAAAAAAAAPA/AAAAAAAAAAAAAAAAAAAAAHqeDuMntqJAAAAAAAAAAEDCbgX/gSyRQAAAAAAAACBAEpflhhjpwkAAAAAAAAAwQCG5WJ3EJN5AAAAAAACAS0BtwgG2foPpQAAAAAAAAFhApBI/c4g/8kAAAAAAAEBoQD2lv3+WMwFBAAAAAAAwckBRgZxy2jQEQQAAAAAA8HRAcnGF6DtbA0EAAAAAAEB0QKqO8MDTIAJBAAAAAAAAc0Cr6cAFmrMKQQAAAAAAkHVAhp1uTWItDUEAAAAAAIByQJ9DKqUIawhBAAAAAADAdEDNlHN35Ej/QAAAAAAAEHNAfy7PuRN3AkEAAAAAAMBuQK4+aq+G/vBAAAAAAADAakAeuDEOIHjgQAAAAAAAQFVA6mOeVCF80EAAAAAAAAA9QDALnmGS0M9AAAAAAAAAM0B86qbaPKeyQAAAAAAAABxA",
          "dtype": "f8",
          "shape": "24, 2"
         },
         "hovertemplate": "source=survey<br>dpurp_label=Shop<br>dept_hr=%{x}<br>percentage=%{y}<br>trexpfac=%{customdata[0]}<br>sample_count=%{customdata[1]}<extra></extra>",
         "legendgroup": "survey",
         "marker": {
          "color": "#8CC63E",
          "pattern": {
           "shape": ""
          }
         },
         "name": "survey",
         "offsetgroup": "survey",
         "orientation": "v",
         "showlegend": false,
         "textposition": "auto",
         "type": "bar",
         "x": {
          "bdata": "AAECAwQFBgcICQoLDA0ODxAREhMUFRYX",
          "dtype": "i1"
         },
         "xaxis": "x4",
         "y": {
          "bdata": "avTdDP05KT/UrLfY0S4UP+demgIfEjQ/AAAAAAAAAADimVpX+gxVP+0MeJseUkM/Hv1WNElGdT+Zjr1xufSQP7PvEuoAtJw/hOEupIaHpD8dKmKxFVqzPwOgUEyEu7Y/eLFSVLHGtT+EfHxF+2S0P1K3rn4gCr4/k43By5FpwD8g2UBNe3i7P5cQj8ULmbE/teuLewPGtD9VktDAYx6jPyxfs+ovh5I/fpzPXLGLgj/tihvKXeWBP9oGKeMx/GQ/",
          "dtype": "f8"
         },
         "yaxis": "y4"
        },
        {
         "alignmentgroup": "True",
         "customdata": {
          "bdata": "S+8gLvrEg0AAAAAAAADwPwAAAAAAAAAAAAAAAAAAAAAAAAAAAAAAAAAAAAAAAAAAAAAAAAAAAAAAAAAAAAAAAMRVEpr8TzdAAAAAAAAA8D/cEQ5Y+12vQAAAAAAAABRAEuKZsQ7v0kAAAAAAAAA8QAdbFE1qytBAAAAAAACASEAq9BqfMavjQAAAAAAAgFFAiEU2Z9WP30AAAAAAAIBWQLo4iNC/99VAAAAAAACAVUBRHmniwlTzQAAAAAAAAGlAKn6JhjkT/EAAAAAAACBuQJXcvXciqeFAAAAAAAAgY0AjuuPb+hDzQAAAAAAAAF5AUFZJ9Hv19EAAAAAAAEBeQA0LVFxsPfFAAAAAAAAgZEBY4KLS3r30QAAAAAAA4GlA1W7Do/BH9EAAAAAAAEBpQMVH2lM6cu1AAAAAAADAXUB7wc0mKb7wQAAAAAAAwFRA+wSoK/yeykAAAAAAAAA9QJn4JwCLWLNAAAAAAAAALkBT0WCVFluXQAAAAAAAABBA",
          "dtype": "f8",
          "shape": "24, 2"
         },
         "hovertemplate": "source=survey<br>dpurp_label=Meal<br>dept_hr=%{x}<br>percentage=%{y}<br>trexpfac=%{customdata[0]}<br>sample_count=%{customdata[1]}<extra></extra>",
         "legendgroup": "survey",
         "marker": {
          "color": "#8CC63E",
          "pattern": {
           "shape": ""
          }
         },
         "name": "survey",
         "offsetgroup": "survey",
         "orientation": "v",
         "showlegend": false,
         "textposition": "auto",
         "type": "bar",
         "x": {
          "bdata": "AAECAwQFBgcICQoLDA0ODxAREhMUFRYX",
          "dtype": "i1"
         },
         "xaxis": "x3",
         "y": {
          "bdata": "qXMcqVKTRj8AAAAAAAAAAAAAAAAAAAAAAAAAAAAAAABs/71SEp/6Pud9RQbf6HE/klPFJQqflT+7KJ40hiyTPzBiITvhdaY/Daf2w1UFoj9KFNJE+RWZPx8Jxt0tE7Y/Inc11q4HwD9Zedcj2yqkPzO3Ru3GxbU/xRUWDA3vtz9B+kE326+zPwx3vx+Lr7c/eymMzd8otz8suXBKGNCwP4z4X8aHHrM///ftjkpmjj++5SRlfxd2P1Trv7C/q1o/",
          "dtype": "f8"
         },
         "yaxis": "y3"
        },
        {
         "alignmentgroup": "True",
         "customdata": {
          "bdata": "utkyW31UIkAAAAAAAADwPwAAAAAAAAAAAAAAAAAAAAAAAAAAAAAAAAAAAAAAAAAAAAAAAAAAAAAAAAAAAAAAAI2cHv82rK9AAAAAAAAA8D+9KI5qsGqoQAAAAAAAACRAiph2LG9m4EAAAAAAAIBCQJuBVSdVpwxBAAAAAABgbEACIVcf4e4GQQAAAAAAQG1ADmiCQa5P9EAAAAAAAMBXQC6/EQbnMdNAAAAAAACAU0Ck3R/FpM3bQAAAAAAAgE9AzNShFvIn2EAAAAAAAABTQF3RNON0zPZAAAAAAADAVUBNU7H+kMUCQQAAAAAA4GVAEAfZ7hQPCUEAAAAAAIBsQApmk3oMU/ZAAAAAAAAgY0BitBL33Er5QAAAAAAAgGFAvtGsKr3T2EAAAAAAAABRQLvlj10aU+NAAAAAAAAATUBOaXUsNAvVQAAAAAAAAD1A0DOWUJdJwEAAAAAAAAA3QIuM5b5ffsZAAAAAAAAAKkDFzPnRrPyCQAAAAAAAAAhA",
          "dtype": "f8",
          "shape": "24, 2"
         },
         "hovertemplate": "source=survey<br>dpurp_label=Escort<br>dept_hr=%{x}<br>percentage=%{y}<br>trexpfac=%{customdata[0]}<br>sample_count=%{customdata[1]}<extra></extra>",
         "legendgroup": "survey",
         "marker": {
          "color": "#8CC63E",
          "pattern": {
           "shape": ""
          }
         },
         "name": "survey",
         "offsetgroup": "survey",
         "orientation": "v",
         "showlegend": false,
         "textposition": "auto",
         "type": "bar",
         "x": {
          "bdata": "AAECAwQFBgcICQoLDA0ODxAREhMUFRYX",
          "dtype": "i1"
         },
         "xaxis": "x2",
         "y": {
          "bdata": "YPp1jpX62z4AAAAAAAAAAAAAAAAAAAAAAAAAAAAAAACF9ERxKSxoP2VH6i2BomI/DnE6H3YImT8etxUDTd7FP32neJaigME/HnPE0cEArz+d+RgRjEyNP6IhxEwpOJU/T2zI85Bvkj8RKsQeXWaxP8lT1ggvp7w/zsVc8Pcfwz/SWIiotAmxP2R/i+yXTbM/cGx9oq3ykj/0g29nOX+dP1V8v9x+D5A/Oak+c2/ceD+v/bB5xSqBPzxsbx9N+zw/",
          "dtype": "f8"
         },
         "yaxis": "y2"
        },
        {
         "alignmentgroup": "True",
         "customdata": {
          "bdata": "AAAAAAAAAAAAAAAAAAAAAAAAAAAAAAAAAAAAAAAAAAAAAAAAAAAAAAAAAAAAAAAAAAAAAAAAAAAAAAAAAAAAAAAAAAAAAAAAAAAAAAAAAACa8xZta/umQAAAAAAAABRArqFiEteDukAAAAAAAAA4QL6tSVOGzOVAAAAAAAAAU0CP6PLAXQXfQAAAAAAAgFtAia/WJYIr8kAAAAAAAGBjQNwIE0cMQvBAAAAAAADgZkASMNLO8kHrQAAAAAAAgGJAywM2oLGE8UAAAAAAAGBiQDSeGR6Df/JAAAAAAABAZUB5kTmdNOT/QAAAAAAAIGRARYi2Xk4B70AAAAAAAABhQN2cjCCmu+NAAAAAAACAXkA1Y9d6D8/wQAAAAAAAwFRAv55eqKRLwkAAAAAAAIBJQD51YMZiJMtAAAAAAAAANkBw/zXjDyqVQAAAAAAAACBA81x7DMIltUAAAAAAAAAUQMJPxfSWrWhAAAAAAAAA8D8AAAAAAAAAAAAAAAAAAAAA",
          "dtype": "f8",
          "shape": "24, 2"
         },
         "hovertemplate": "source=survey<br>dpurp_label=Personal Business<br>dept_hr=%{x}<br>percentage=%{y}<br>trexpfac=%{customdata[0]}<br>sample_count=%{customdata[1]}<extra></extra>",
         "legendgroup": "survey",
         "marker": {
          "color": "#8CC63E",
          "pattern": {
           "shape": ""
          }
         },
         "name": "survey",
         "offsetgroup": "survey",
         "orientation": "v",
         "showlegend": false,
         "textposition": "auto",
         "type": "bar",
         "x": {
          "bdata": "AAECAwQFBgcICQoLDA0ODxAREhMUFRYX",
          "dtype": "i1"
         },
         "xaxis": "x",
         "y": {
          "bdata": "AAAAAAAAAAAAAAAAAAAAAAAAAAAAAAAAAAAAAAAAAAAAAAAAAAAAAIUfilOciW8/I3XWi1sxgj/QRuRj9emtP39xC0/USKU/hWgtHRrvuD9W2Em/bk+2P8PblA/Ms7I/5wHMMTAKuD+drm+hYGK5P52NRwO64cU/oB9hJwtGtT/GlndrMxSrP1xl8mrwELc/nhC3EDMbiT8Nkjljg5+SP3/RGEoEC10/CzZRRhwFfT+HNg4YtO4wPwAAAAAAAAAA",
          "dtype": "f8"
         },
         "yaxis": "y"
        }
       ],
       "layout": {
        "annotations": [
         {
          "font": {},
          "showarrow": false,
          "text": "Personal Business",
          "textangle": 90,
          "x": 0.98,
          "xanchor": "left",
          "xref": "paper",
          "y": 0.07083333333333333,
          "yanchor": "middle",
          "yref": "paper"
         },
         {
          "font": {},
          "showarrow": false,
          "text": "Escort",
          "textangle": 90,
          "x": 0.98,
          "xanchor": "left",
          "xref": "paper",
          "y": 0.2425,
          "yanchor": "middle",
          "yref": "paper"
         },
         {
          "font": {},
          "showarrow": false,
          "text": "Meal",
          "textangle": 90,
          "x": 0.98,
          "xanchor": "left",
          "xref": "paper",
          "y": 0.4141666666666667,
          "yanchor": "middle",
          "yref": "paper"
         },
         {
          "font": {},
          "showarrow": false,
          "text": "Shop",
          "textangle": 90,
          "x": 0.98,
          "xanchor": "left",
          "xref": "paper",
          "y": 0.5858333333333334,
          "yanchor": "middle",
          "yref": "paper"
         },
         {
          "font": {},
          "showarrow": false,
          "text": "School",
          "textangle": 90,
          "x": 0.98,
          "xanchor": "left",
          "xref": "paper",
          "y": 0.7575000000000001,
          "yanchor": "middle",
          "yref": "paper"
         },
         {
          "font": {},
          "showarrow": false,
          "text": "Work",
          "textangle": 90,
          "x": 0.98,
          "xanchor": "left",
          "xref": "paper",
          "y": 0.9291666666666667,
          "yanchor": "middle",
          "yref": "paper"
         }
        ],
        "barmode": "group",
        "height": 1500,
        "legend": {
         "title": {
          "text": "source"
         },
         "tracegroupgap": 0
        },
        "template": {
         "data": {
          "bar": [
           {
            "error_x": {
             "color": "rgb(36,36,36)"
            },
            "error_y": {
             "color": "rgb(36,36,36)"
            },
            "marker": {
             "line": {
              "color": "white",
              "width": 0.5
             },
             "pattern": {
              "fillmode": "overlay",
              "size": 10,
              "solidity": 0.2
             }
            },
            "type": "bar"
           }
          ],
          "barpolar": [
           {
            "marker": {
             "line": {
              "color": "white",
              "width": 0.5
             },
             "pattern": {
              "fillmode": "overlay",
              "size": 10,
              "solidity": 0.2
             }
            },
            "type": "barpolar"
           }
          ],
          "carpet": [
           {
            "aaxis": {
             "endlinecolor": "rgb(36,36,36)",
             "gridcolor": "white",
             "linecolor": "white",
             "minorgridcolor": "white",
             "startlinecolor": "rgb(36,36,36)"
            },
            "baxis": {
             "endlinecolor": "rgb(36,36,36)",
             "gridcolor": "white",
             "linecolor": "white",
             "minorgridcolor": "white",
             "startlinecolor": "rgb(36,36,36)"
            },
            "type": "carpet"
           }
          ],
          "choropleth": [
           {
            "colorbar": {
             "outlinewidth": 1,
             "tickcolor": "rgb(36,36,36)",
             "ticks": "outside"
            },
            "type": "choropleth"
           }
          ],
          "contour": [
           {
            "colorbar": {
             "outlinewidth": 1,
             "tickcolor": "rgb(36,36,36)",
             "ticks": "outside"
            },
            "colorscale": [
             [
              0.0,
              "#440154"
             ],
             [
              0.1111111111111111,
              "#482878"
             ],
             [
              0.2222222222222222,
              "#3e4989"
             ],
             [
              0.3333333333333333,
              "#31688e"
             ],
             [
              0.4444444444444444,
              "#26828e"
             ],
             [
              0.5555555555555556,
              "#1f9e89"
             ],
             [
              0.6666666666666666,
              "#35b779"
             ],
             [
              0.7777777777777778,
              "#6ece58"
             ],
             [
              0.8888888888888888,
              "#b5de2b"
             ],
             [
              1.0,
              "#fde725"
             ]
            ],
            "type": "contour"
           }
          ],
          "contourcarpet": [
           {
            "colorbar": {
             "outlinewidth": 1,
             "tickcolor": "rgb(36,36,36)",
             "ticks": "outside"
            },
            "type": "contourcarpet"
           }
          ],
          "heatmap": [
           {
            "colorbar": {
             "outlinewidth": 1,
             "tickcolor": "rgb(36,36,36)",
             "ticks": "outside"
            },
            "colorscale": [
             [
              0.0,
              "#440154"
             ],
             [
              0.1111111111111111,
              "#482878"
             ],
             [
              0.2222222222222222,
              "#3e4989"
             ],
             [
              0.3333333333333333,
              "#31688e"
             ],
             [
              0.4444444444444444,
              "#26828e"
             ],
             [
              0.5555555555555556,
              "#1f9e89"
             ],
             [
              0.6666666666666666,
              "#35b779"
             ],
             [
              0.7777777777777778,
              "#6ece58"
             ],
             [
              0.8888888888888888,
              "#b5de2b"
             ],
             [
              1.0,
              "#fde725"
             ]
            ],
            "type": "heatmap"
           }
          ],
          "histogram": [
           {
            "marker": {
             "line": {
              "color": "white",
              "width": 0.6
             }
            },
            "type": "histogram"
           }
          ],
          "histogram2d": [
           {
            "colorbar": {
             "outlinewidth": 1,
             "tickcolor": "rgb(36,36,36)",
             "ticks": "outside"
            },
            "colorscale": [
             [
              0.0,
              "#440154"
             ],
             [
              0.1111111111111111,
              "#482878"
             ],
             [
              0.2222222222222222,
              "#3e4989"
             ],
             [
              0.3333333333333333,
              "#31688e"
             ],
             [
              0.4444444444444444,
              "#26828e"
             ],
             [
              0.5555555555555556,
              "#1f9e89"
             ],
             [
              0.6666666666666666,
              "#35b779"
             ],
             [
              0.7777777777777778,
              "#6ece58"
             ],
             [
              0.8888888888888888,
              "#b5de2b"
             ],
             [
              1.0,
              "#fde725"
             ]
            ],
            "type": "histogram2d"
           }
          ],
          "histogram2dcontour": [
           {
            "colorbar": {
             "outlinewidth": 1,
             "tickcolor": "rgb(36,36,36)",
             "ticks": "outside"
            },
            "colorscale": [
             [
              0.0,
              "#440154"
             ],
             [
              0.1111111111111111,
              "#482878"
             ],
             [
              0.2222222222222222,
              "#3e4989"
             ],
             [
              0.3333333333333333,
              "#31688e"
             ],
             [
              0.4444444444444444,
              "#26828e"
             ],
             [
              0.5555555555555556,
              "#1f9e89"
             ],
             [
              0.6666666666666666,
              "#35b779"
             ],
             [
              0.7777777777777778,
              "#6ece58"
             ],
             [
              0.8888888888888888,
              "#b5de2b"
             ],
             [
              1.0,
              "#fde725"
             ]
            ],
            "type": "histogram2dcontour"
           }
          ],
          "mesh3d": [
           {
            "colorbar": {
             "outlinewidth": 1,
             "tickcolor": "rgb(36,36,36)",
             "ticks": "outside"
            },
            "type": "mesh3d"
           }
          ],
          "parcoords": [
           {
            "line": {
             "colorbar": {
              "outlinewidth": 1,
              "tickcolor": "rgb(36,36,36)",
              "ticks": "outside"
             }
            },
            "type": "parcoords"
           }
          ],
          "pie": [
           {
            "automargin": true,
            "type": "pie"
           }
          ],
          "scatter": [
           {
            "fillpattern": {
             "fillmode": "overlay",
             "size": 10,
             "solidity": 0.2
            },
            "type": "scatter"
           }
          ],
          "scatter3d": [
           {
            "line": {
             "colorbar": {
              "outlinewidth": 1,
              "tickcolor": "rgb(36,36,36)",
              "ticks": "outside"
             }
            },
            "marker": {
             "colorbar": {
              "outlinewidth": 1,
              "tickcolor": "rgb(36,36,36)",
              "ticks": "outside"
             }
            },
            "type": "scatter3d"
           }
          ],
          "scattercarpet": [
           {
            "marker": {
             "colorbar": {
              "outlinewidth": 1,
              "tickcolor": "rgb(36,36,36)",
              "ticks": "outside"
             }
            },
            "type": "scattercarpet"
           }
          ],
          "scattergeo": [
           {
            "marker": {
             "colorbar": {
              "outlinewidth": 1,
              "tickcolor": "rgb(36,36,36)",
              "ticks": "outside"
             }
            },
            "type": "scattergeo"
           }
          ],
          "scattergl": [
           {
            "marker": {
             "colorbar": {
              "outlinewidth": 1,
              "tickcolor": "rgb(36,36,36)",
              "ticks": "outside"
             }
            },
            "type": "scattergl"
           }
          ],
          "scattermap": [
           {
            "marker": {
             "colorbar": {
              "outlinewidth": 1,
              "tickcolor": "rgb(36,36,36)",
              "ticks": "outside"
             }
            },
            "type": "scattermap"
           }
          ],
          "scattermapbox": [
           {
            "marker": {
             "colorbar": {
              "outlinewidth": 1,
              "tickcolor": "rgb(36,36,36)",
              "ticks": "outside"
             }
            },
            "type": "scattermapbox"
           }
          ],
          "scatterpolar": [
           {
            "marker": {
             "colorbar": {
              "outlinewidth": 1,
              "tickcolor": "rgb(36,36,36)",
              "ticks": "outside"
             }
            },
            "type": "scatterpolar"
           }
          ],
          "scatterpolargl": [
           {
            "marker": {
             "colorbar": {
              "outlinewidth": 1,
              "tickcolor": "rgb(36,36,36)",
              "ticks": "outside"
             }
            },
            "type": "scatterpolargl"
           }
          ],
          "scatterternary": [
           {
            "marker": {
             "colorbar": {
              "outlinewidth": 1,
              "tickcolor": "rgb(36,36,36)",
              "ticks": "outside"
             }
            },
            "type": "scatterternary"
           }
          ],
          "surface": [
           {
            "colorbar": {
             "outlinewidth": 1,
             "tickcolor": "rgb(36,36,36)",
             "ticks": "outside"
            },
            "colorscale": [
             [
              0.0,
              "#440154"
             ],
             [
              0.1111111111111111,
              "#482878"
             ],
             [
              0.2222222222222222,
              "#3e4989"
             ],
             [
              0.3333333333333333,
              "#31688e"
             ],
             [
              0.4444444444444444,
              "#26828e"
             ],
             [
              0.5555555555555556,
              "#1f9e89"
             ],
             [
              0.6666666666666666,
              "#35b779"
             ],
             [
              0.7777777777777778,
              "#6ece58"
             ],
             [
              0.8888888888888888,
              "#b5de2b"
             ],
             [
              1.0,
              "#fde725"
             ]
            ],
            "type": "surface"
           }
          ],
          "table": [
           {
            "cells": {
             "fill": {
              "color": "rgb(237,237,237)"
             },
             "line": {
              "color": "white"
             }
            },
            "header": {
             "fill": {
              "color": "rgb(217,217,217)"
             },
             "line": {
              "color": "white"
             }
            },
            "type": "table"
           }
          ]
         },
         "layout": {
          "annotationdefaults": {
           "arrowhead": 0,
           "arrowwidth": 1
          },
          "autotypenumbers": "strict",
          "coloraxis": {
           "colorbar": {
            "outlinewidth": 1,
            "tickcolor": "rgb(36,36,36)",
            "ticks": "outside"
           }
          },
          "colorscale": {
           "diverging": [
            [
             0.0,
             "rgb(103,0,31)"
            ],
            [
             0.1,
             "rgb(178,24,43)"
            ],
            [
             0.2,
             "rgb(214,96,77)"
            ],
            [
             0.3,
             "rgb(244,165,130)"
            ],
            [
             0.4,
             "rgb(253,219,199)"
            ],
            [
             0.5,
             "rgb(247,247,247)"
            ],
            [
             0.6,
             "rgb(209,229,240)"
            ],
            [
             0.7,
             "rgb(146,197,222)"
            ],
            [
             0.8,
             "rgb(67,147,195)"
            ],
            [
             0.9,
             "rgb(33,102,172)"
            ],
            [
             1.0,
             "rgb(5,48,97)"
            ]
           ],
           "sequential": [
            [
             0.0,
             "#440154"
            ],
            [
             0.1111111111111111,
             "#482878"
            ],
            [
             0.2222222222222222,
             "#3e4989"
            ],
            [
             0.3333333333333333,
             "#31688e"
            ],
            [
             0.4444444444444444,
             "#26828e"
            ],
            [
             0.5555555555555556,
             "#1f9e89"
            ],
            [
             0.6666666666666666,
             "#35b779"
            ],
            [
             0.7777777777777778,
             "#6ece58"
            ],
            [
             0.8888888888888888,
             "#b5de2b"
            ],
            [
             1.0,
             "#fde725"
            ]
           ],
           "sequentialminus": [
            [
             0.0,
             "#440154"
            ],
            [
             0.1111111111111111,
             "#482878"
            ],
            [
             0.2222222222222222,
             "#3e4989"
            ],
            [
             0.3333333333333333,
             "#31688e"
            ],
            [
             0.4444444444444444,
             "#26828e"
            ],
            [
             0.5555555555555556,
             "#1f9e89"
            ],
            [
             0.6666666666666666,
             "#35b779"
            ],
            [
             0.7777777777777778,
             "#6ece58"
            ],
            [
             0.8888888888888888,
             "#b5de2b"
            ],
            [
             1.0,
             "#fde725"
            ]
           ]
          },
          "colorway": [
           "#91268F",
           "#8CC63E",
           "#00A7A0",
           "#F05A28",
           "#4C4C4C",
           "#630460",
           "#9f3913",
           "#588527",
           "#00716c",
           "#3e4040"
          ],
          "font": {
           "color": "rgb(36,36,36)",
           "family": "Poppins",
           "size": 11
          },
          "geo": {
           "bgcolor": "white",
           "lakecolor": "white",
           "landcolor": "white",
           "showlakes": true,
           "showland": true,
           "subunitcolor": "white"
          },
          "hoverlabel": {
           "align": "left"
          },
          "hovermode": "closest",
          "mapbox": {
           "style": "light"
          },
          "paper_bgcolor": "white",
          "plot_bgcolor": "white",
          "polar": {
           "angularaxis": {
            "gridcolor": "rgb(232,232,232)",
            "linecolor": "rgb(36,36,36)",
            "showgrid": false,
            "showline": true,
            "ticks": "outside"
           },
           "bgcolor": "white",
           "radialaxis": {
            "gridcolor": "rgb(232,232,232)",
            "linecolor": "rgb(36,36,36)",
            "showgrid": false,
            "showline": true,
            "ticks": "outside"
           }
          },
          "scene": {
           "xaxis": {
            "backgroundcolor": "white",
            "gridcolor": "rgb(232,232,232)",
            "gridwidth": 2,
            "linecolor": "rgb(36,36,36)",
            "showbackground": true,
            "showgrid": false,
            "showline": true,
            "ticks": "outside",
            "zeroline": false,
            "zerolinecolor": "rgb(36,36,36)"
           },
           "yaxis": {
            "backgroundcolor": "white",
            "gridcolor": "rgb(232,232,232)",
            "gridwidth": 2,
            "linecolor": "rgb(36,36,36)",
            "showbackground": true,
            "showgrid": false,
            "showline": true,
            "ticks": "outside",
            "zeroline": false,
            "zerolinecolor": "rgb(36,36,36)"
           },
           "zaxis": {
            "backgroundcolor": "white",
            "gridcolor": "rgb(232,232,232)",
            "gridwidth": 2,
            "linecolor": "rgb(36,36,36)",
            "showbackground": true,
            "showgrid": false,
            "showline": true,
            "ticks": "outside",
            "zeroline": false,
            "zerolinecolor": "rgb(36,36,36)"
           }
          },
          "shapedefaults": {
           "fillcolor": "black",
           "line": {
            "width": 0
           },
           "opacity": 0.3
          },
          "ternary": {
           "aaxis": {
            "gridcolor": "rgb(232,232,232)",
            "linecolor": "rgb(36,36,36)",
            "showgrid": false,
            "showline": true,
            "ticks": "outside"
           },
           "baxis": {
            "gridcolor": "rgb(232,232,232)",
            "linecolor": "rgb(36,36,36)",
            "showgrid": false,
            "showline": true,
            "ticks": "outside"
           },
           "bgcolor": "white",
           "caxis": {
            "gridcolor": "rgb(232,232,232)",
            "linecolor": "rgb(36,36,36)",
            "showgrid": false,
            "showline": true,
            "ticks": "outside"
           }
          },
          "title": {
           "x": 0.05
          },
          "xaxis": {
           "automargin": true,
           "gridcolor": "rgb(232,232,232)",
           "linecolor": "rgb(36,36,36)",
           "showgrid": false,
           "showline": true,
           "ticks": "outside",
           "title": {
            "standoff": 15
           },
           "zeroline": false,
           "zerolinecolor": "rgb(36,36,36)"
          },
          "yaxis": {
           "automargin": true,
           "gridcolor": "rgb(232,232,232)",
           "linecolor": "rgb(36,36,36)",
           "showgrid": false,
           "showline": true,
           "ticks": "outside",
           "title": {
            "standoff": 15
           },
           "zeroline": false,
           "zerolinecolor": "rgb(36,36,36)"
          }
         }
        },
        "title": {
         "text": "trip origin departure hour by purpose"
        },
        "width": 850,
        "xaxis": {
         "anchor": "y",
         "categoryorder": "category ascending",
         "domain": [
          0.0,
          0.98
         ],
         "dtick": 1,
         "title": {
          "text": "dept_hr"
         }
        },
        "xaxis2": {
         "anchor": "y2",
         "categoryorder": "category ascending",
         "domain": [
          0.0,
          0.98
         ],
         "dtick": 1,
         "matches": "x",
         "showticklabels": false
        },
        "xaxis3": {
         "anchor": "y3",
         "categoryorder": "category ascending",
         "domain": [
          0.0,
          0.98
         ],
         "dtick": 1,
         "matches": "x",
         "showticklabels": false
        },
        "xaxis4": {
         "anchor": "y4",
         "categoryorder": "category ascending",
         "domain": [
          0.0,
          0.98
         ],
         "dtick": 1,
         "matches": "x",
         "showticklabels": false
        },
        "xaxis5": {
         "anchor": "y5",
         "categoryorder": "category ascending",
         "domain": [
          0.0,
          0.98
         ],
         "dtick": 1,
         "matches": "x",
         "showticklabels": false
        },
        "xaxis6": {
         "anchor": "y6",
         "categoryorder": "category ascending",
         "domain": [
          0.0,
          0.98
         ],
         "dtick": 1,
         "matches": "x",
         "showticklabels": false
        },
        "yaxis": {
         "anchor": "x",
         "domain": [
          0.0,
          0.14166666666666666
         ],
         "tickformat": ".0%",
         "title": {
          "text": "percentage"
         }
        },
        "yaxis2": {
         "anchor": "x2",
         "domain": [
          0.17166666666666666,
          0.31333333333333335
         ],
         "matches": "y",
         "tickformat": ".0%",
         "title": {
          "text": "percentage"
         }
        },
        "yaxis3": {
         "anchor": "x3",
         "domain": [
          0.3433333333333333,
          0.485
         ],
         "matches": "y",
         "tickformat": ".0%",
         "title": {
          "text": "percentage"
         }
        },
        "yaxis4": {
         "anchor": "x4",
         "domain": [
          0.515,
          0.6566666666666667
         ],
         "matches": "y",
         "tickformat": ".0%",
         "title": {
          "text": "percentage"
         }
        },
        "yaxis5": {
         "anchor": "x5",
         "domain": [
          0.6866666666666666,
          0.8283333333333334
         ],
         "matches": "y",
         "tickformat": ".0%",
         "title": {
          "text": "percentage"
         }
        },
        "yaxis6": {
         "anchor": "x6",
         "domain": [
          0.8583333333333333,
          1.0
         ],
         "matches": "y",
         "tickformat": ".0%",
         "title": {
          "text": "percentage"
         }
        }
       }
      },
      "text/html": [
       "<div>            <script src=\"https://cdnjs.cloudflare.com/ajax/libs/mathjax/2.7.5/MathJax.js?config=TeX-AMS-MML_SVG\"></script><script type=\"text/javascript\">if (window.MathJax && window.MathJax.Hub && window.MathJax.Hub.Config) {window.MathJax.Hub.Config({SVG: {font: \"STIX-Web\"}});}</script>                <script type=\"text/javascript\">window.PlotlyConfig = {MathJaxConfig: 'local'};</script>\n",
       "        <script charset=\"utf-8\" src=\"https://cdn.plot.ly/plotly-3.0.1.min.js\"></script>                <div id=\"74ffe58a-d947-43ee-90d6-9bf108fe1ba4\" class=\"plotly-graph-div\" style=\"height:1500px; width:850px;\"></div>            <script type=\"text/javascript\">                window.PLOTLYENV=window.PLOTLYENV || {};                                if (document.getElementById(\"74ffe58a-d947-43ee-90d6-9bf108fe1ba4\")) {                    Plotly.newPlot(                        \"74ffe58a-d947-43ee-90d6-9bf108fe1ba4\",                        [{\"alignmentgroup\":\"True\",\"customdata\":{\"dtype\":\"f8\",\"bdata\":\"AAAAAACSrEAAAAAAAJKsQAAAAAAAlqNAAAAAAACWo0AAAAAAAOCLQAAAAAAA4ItAAAAAAMAF1UAAAAAAwAXVQAAAAABAUN1AAAAAAEBQ3UAAAAAAMOv0QAAAAAAw6\\u002fRAAAAAANigDEEAAAAA2KAMQQAAAABAyRRBAAAAAEDJFEEAAAAAZPQSQQAAAABk9BJBAAAAAKhgBkEAAAAAqGAGQQAAAAAAu\\u002f5AAAAAAAC7\\u002fkAAAAAAsJv+QAAAAACwm\\u002f5AAAAAAKCB\\u002fUAAAAAAoIH9QAAAAACwY\\u002fhAAAAAALBj+EAAAAAAYOr1QAAAAABg6vVAAAAAACAd9EAAAAAAIB30QAAAAAAwqPRAAAAAADCo9EAAAAAAwH7xQAAAAADAfvFAAAAAAIAz6kAAAAAAgDPqQAAAAADAUt1AAAAAAMBS3UAAAAAAgGDWQAAAAACAYNZAAAAAAMBc0EAAAAAAwFzQQAAAAACAAsNAAAAAAIACw0AAAAAAAF69QAAAAAAAXr1A\",\"shape\":\"24, 2\"},\"hovertemplate\":\"source=model\\u003cbr\\u003edpurp_label=Work\\u003cbr\\u003edept_hr=%{x}\\u003cbr\\u003epercentage=%{y}\\u003cbr\\u003etrexpfac=%{customdata[0]}\\u003cbr\\u003esample_count=%{customdata[1]}\\u003cextra\\u003e\\u003c\\u002fextra\\u003e\",\"legendgroup\":\"model\",\"marker\":{\"color\":\"#91268F\",\"pattern\":{\"shape\":\"\"}},\"name\":\"model\",\"offsetgroup\":\"model\",\"orientation\":\"v\",\"showlegend\":true,\"textposition\":\"auto\",\"x\":{\"dtype\":\"i1\",\"bdata\":\"AAECAwQFBgcICQoLDA0ODxAREhMUFRYX\"},\"xaxis\":\"x6\",\"y\":{\"dtype\":\"f8\",\"bdata\":\"eNXFRBfQWz9i+b+PERFTP6AynF7PIjs\\u002fyOSGnBF3hD8O9KMGTImMP2p6suQ1XaQ\\u002ff6fahYreuz8Zu+E6LDzEP7q++2q+c8I\\u002fyfUuIcfItT8mg+ICbuqtP34nJojyy60\\u002fkIPm6Vy5rD+HJsCRJ76nPzUuFeqhVaU\\u002fHevxdJyUoz9VcsKg\\u002fBukP8n5IFkCCKE\\u002fh7KPoquBmT81IugOu4uMP+eyqjCgyIU\\u002fPiB4NGXbfz9mVgmoeoFyP+TxGrSulmw\\u002f\"},\"yaxis\":\"y6\",\"type\":\"bar\"},{\"alignmentgroup\":\"True\",\"customdata\":{\"dtype\":\"f8\",\"bdata\":\"AAAAAAAAIkAAAAAAAAAiQAAAAAAAABBAAAAAAAAAEEAAAAAAAAAAAAAAAAAAAAAAAAAAAACYgUAAAAAAAJiBQAAAAAAAQIVAAAAAAABAhUAAAAAAAMO1QAAAAAAAw7VAAAAAAKAm6UAAAAAAoCbpQAAAAACoagNBAAAAAKhqA0EAAAAAoHMGQQAAAACgcwZBAAAAABCE90AAAAAAEIT3QAAAAAAg7OZAAAAAACDs5kAAAAAAwHrfQAAAAADAet9AAAAAAAAX1kAAAAAAABfWQAAAAAAAK9BAAAAAAAAr0EAAAAAAAKnKQAAAAAAAqcpAAAAAAIBhykAAAAAAgGHKQAAAAAAAucJAAAAAAAC5wkAAAAAAgAXAQAAAAACABcBAAAAAAACatUAAAAAAAJq1QAAAAAAANJ1AAAAAAAA0nUAAAAAAAGiXQAAAAAAAaJdAAAAAAABYi0AAAAAAAFiLQAAAAAAAAFtAAAAAAAAAW0AAAAAAAABHQAAAAAAAAEdA\",\"shape\":\"24, 2\"},\"hovertemplate\":\"source=model\\u003cbr\\u003edpurp_label=School\\u003cbr\\u003edept_hr=%{x}\\u003cbr\\u003epercentage=%{y}\\u003cbr\\u003etrexpfac=%{customdata[0]}\\u003cbr\\u003esample_count=%{customdata[1]}\\u003cextra\\u003e\\u003c\\u002fextra\\u003e\",\"legendgroup\":\"model\",\"marker\":{\"color\":\"#91268F\",\"pattern\":{\"shape\":\"\"}},\"name\":\"model\",\"offsetgroup\":\"model\",\"orientation\":\"v\",\"showlegend\":false,\"textposition\":\"auto\",\"x\":{\"dtype\":\"i1\",\"bdata\":\"AAECAwQFBgcICQoLDA0ODxAREhMUFRYX\"},\"xaxis\":\"x5\",\"y\":{\"dtype\":\"f8\",\"bdata\":\"JRBatVgi7D7o8Yj2FQLZPgAAAAAAAAAAAZaXJst\\u002fSz+k8LaVYptQP0IxoB\\u002fDAYE\\u002fSZAdrdCnsz8khyp8LlnOPyLz2aLLi9E\\u002fCV7W5LRgwj\\u002fQTo599+mxP6lbFEfzmag\\u002fvVhHmWhDoT\\u002fygY+RS0WZP8pHTdzE1ZQ\\u002fzm06M+SdlD+Sn0zTgEONP\\u002fuwFa6uCok\\u002fzFF8c7jhgD\\u002fDuRxLh9JmP\\u002fGqk5DGSmI\\u002ftYRpRIheVT8cjAOIwhklP99tMsl\\u002f+RE\\u002f\"},\"yaxis\":\"y5\",\"type\":\"bar\"},{\"alignmentgroup\":\"True\",\"customdata\":{\"dtype\":\"f8\",\"bdata\":\"AAAAAABckUAAAAAAAFyRQAAAAAAAmIlAAAAAAACYiUAAAAAAAGBzQAAAAAAAYHNAAAAAAABrvkAAAAAAAGu+QAAAAAAAf79AAAAAAAB\\u002fv0AAAAAAgArIQAAAAACACshAAAAAAMB930AAAAAAwH3fQAAAAAAgofBAAAAAACCh8EAAAAAAMDH7QAAAAAAwMftAAAAAAPiwAkEAAAAA+LACQQAAAADA9wVBAAAAAMD3BUEAAAAAqJUEQQAAAAColQRBAAAAADhfA0EAAAAAOF8DQQAAAACQhAVBAAAAAJCEBUEAAAAACFwDQQAAAAAIXANBAAAAAKjqBUEAAAAAqOoFQQAAAACoiAdBAAAAAKiIB0EAAAAA+NEDQQAAAAD40QNBAAAAAIAc\\u002f0AAAAAAgBz\\u002fQAAAAABAh\\u002fVAAAAAAECH9UAAAAAAwO7sQAAAAADA7uxAAAAAAMD91EAAAAAAwP3UQAAAAACAvMJAAAAAAIC8wkAAAAAAAB63QAAAAAAAHrdA\",\"shape\":\"24, 2\"},\"hovertemplate\":\"source=model\\u003cbr\\u003edpurp_label=Shop\\u003cbr\\u003edept_hr=%{x}\\u003cbr\\u003epercentage=%{y}\\u003cbr\\u003etrexpfac=%{customdata[0]}\\u003cbr\\u003esample_count=%{customdata[1]}\\u003cextra\\u003e\\u003c\\u002fextra\\u003e\",\"legendgroup\":\"model\",\"marker\":{\"color\":\"#91268F\",\"pattern\":{\"shape\":\"\"}},\"name\":\"model\",\"offsetgroup\":\"model\",\"orientation\":\"v\",\"showlegend\":false,\"textposition\":\"auto\",\"x\":{\"dtype\":\"i1\",\"bdata\":\"AAECAwQFBgcICQoLDA0ODxAREhMUFRYX\"},\"xaxis\":\"x4\",\"y\":{\"dtype\":\"f8\",\"bdata\":\"BZjM0Bd4QT\\u002f6RSM8a8E5P0+Zcd5afyM\\u002fNnZM3Dmcbj8vU1eE+LFvP9H52\\u002fNnMXg\\u002fqYV6frawjz9nklpkCbygP\\u002fhGbm4xXas\\u002fOOK+nDfPsj\\u002fD5W8HTRu2P5Mt7\\u002f33trQ\\u002f3JjHmpF+sz8QHmieYqe1Py3zOnJce7M\\u002ftsnT1h8Otj8rFeTSva63P23ljk4L8rM\\u002faXbGHNlOrz+8pM\\u002f3FqqlP97XhX6SHZ0\\u002fQlXvcrgfhT9e\\u002fQZG0tpyP4+uRThpQ2c\\u002f\"},\"yaxis\":\"y4\",\"type\":\"bar\"},{\"alignmentgroup\":\"True\",\"customdata\":{\"dtype\":\"f8\",\"bdata\":\"AAAAAACwjEAAAAAAALCMQAAAAAAAcINAAAAAAABwg0AAAAAAAKBwQAAAAAAAoHBAAAAAAAAAsEAAAAAAAACwQAAAAAAAR7JAAAAAAABHskAAAAAAAFvBQAAAAAAAW8FAAAAAAIC61kAAAAAAgLrWQAAAAADA7OFAAAAAAMDs4UAAAAAAwPToQAAAAADA9OhAAAAAAKB67kAAAAAAoHruQAAAAACw5PNAAAAAALDk80AAAAAAEE\\u002f1QAAAAAAQT\\u002fVAAAAAAICa9EAAAAAAgJr0QAAAAADQgPVAAAAAANCA9UAAAAAAgAnzQAAAAACACfNAAAAAAADf8UAAAAAAAN\\u002fxQAAAAABQNfRAAAAAAFA19EAAAAAAEMzzQAAAAAAQzPNAAAAAAIB48EAAAAAAgHjwQAAAAAAgMuZAAAAAACAy5kAAAAAAAGTgQAAAAAAAZOBAAAAAAMCn0kAAAAAAwKfSQAAAAAAAbr5AAAAAAABuvkAAAAAAAEiwQAAAAAAASLBA\",\"shape\":\"24, 2\"},\"hovertemplate\":\"source=model\\u003cbr\\u003edpurp_label=Meal\\u003cbr\\u003edept_hr=%{x}\\u003cbr\\u003epercentage=%{y}\\u003cbr\\u003etrexpfac=%{customdata[0]}\\u003cbr\\u003esample_count=%{customdata[1]}\\u003cextra\\u003e\\u003c\\u002fextra\\u003e\",\"legendgroup\":\"model\",\"marker\":{\"color\":\"#91268F\",\"pattern\":{\"shape\":\"\"}},\"name\":\"model\",\"offsetgroup\":\"model\",\"orientation\":\"v\",\"showlegend\":false,\"textposition\":\"auto\",\"x\":{\"dtype\":\"i1\",\"bdata\":\"AAECAwQFBgcICQoLDA0ODxAREhMUFRYX\"},\"xaxis\":\"x3\",\"y\":{\"dtype\":\"f8\",\"bdata\":\"7GAyGrpLTT9vBT6sg9lDPw0aPjs\\u002f+jA\\u002faZBasNpWcD9XdNRwN6pyP4U8K1c2uYE\\u002fMyaUF+E1lz+AtUmHDU6iP\\u002faByaE4fKk\\u002f22S1shMgrz\\u002fqKSIZrVC0Pw1NGDa8wrU\\u002fBR8oDFgKtT+mphRGivW1P0JBREPXcLM\\u002frCda4wJAsj9G0h7DAqO0P4i+jmyHN7Q\\u002feLpaz+jRsD9IApnLnKqmP2\\u002fGKIf5vKA\\u002f+Nc2owQNkz9lPSYqLxN\\u002fP\\u002fMndIhhoHA\\u002f\"},\"yaxis\":\"y3\",\"type\":\"bar\"},{\"alignmentgroup\":\"True\",\"customdata\":{\"dtype\":\"f8\",\"bdata\":\"AAAAAABooUAAAAAAAGihQAAAAAAAIJdAAAAAAAAgl0AAAAAAAHiDQAAAAAAAeINAAAAAAAAm2UAAAAAAACbZQAAAAABA7NdAAAAAAEDs10AAAAAAwEzlQAAAAADATOVAAAAAAOD8\\u002fEAAAAAA4Pz8QAAAAABwewFBAAAAAHB7AUEAAAAAkLP+QAAAAACQs\\u002f5AAAAAANCH+kAAAAAA0If6QAAAAADgYflAAAAAAOBh+UAAAAAAEBb1QAAAAAAQFvVAAAAAANDm80AAAAAA0ObzQAAAAACQa\\u002fZAAAAAAJBr9kAAAAAAgH72QAAAAACAfvZAAAAAACBR\\u002fkAAAAAAIFH+QAAAAACwiwFBAAAAALCLAUEAAAAAAEL\\u002fQAAAAAAAQv9AAAAAAIB19UAAAAAAgHX1QAAAAAAA2ulAAAAAAADa6UAAAAAAYPviQAAAAABg++JAAAAAAAA41EAAAAAAADjUQAAAAACATsZAAAAAAIBOxkAAAAAAAK3BQAAAAAAArcFA\",\"shape\":\"24, 2\"},\"hovertemplate\":\"source=model\\u003cbr\\u003edpurp_label=Escort\\u003cbr\\u003edept_hr=%{x}\\u003cbr\\u003epercentage=%{y}\\u003cbr\\u003etrexpfac=%{customdata[0]}\\u003cbr\\u003esample_count=%{customdata[1]}\\u003cextra\\u003e\\u003c\\u002fextra\\u003e\",\"legendgroup\":\"model\",\"marker\":{\"color\":\"#91268F\",\"pattern\":{\"shape\":\"\"}},\"name\":\"model\",\"offsetgroup\":\"model\",\"orientation\":\"v\",\"showlegend\":false,\"textposition\":\"auto\",\"x\":{\"dtype\":\"i1\",\"bdata\":\"AAECAwQFBgcICQoLDA0ODxAREhMUFRYX\"},\"xaxis\":\"x2\",\"y\":{\"dtype\":\"f8\",\"bdata\":\"vxaNqA\\u002flVT\\u002fR2LaSlBZNPxmPjzM3fTg\\u002fl9gm+Seijz9QUbP9fxeOP2dj4WXXypo\\u002fxVve4T07sj9UZKPPgv21PxJPDrQlT7M\\u002fE2OPU5qvsD8tpCCUeO2vP\\u002fdf4D0Nhqo\\u002f53DTaJoIqT+owtAenTOsP5zwEkRvS6w\\u002flGUNkDwRsz9GaBGL8xG2Pz6ohCi7qLM\\u002fLXXpehn+qj+JqblFSUKgP4rDxyt04Jc\\u002frwC\\u002f8bluiT83FIeUDg98P5Aj5qTaO3Y\\u002f\"},\"yaxis\":\"y2\",\"type\":\"bar\"},{\"alignmentgroup\":\"True\",\"customdata\":{\"dtype\":\"f8\",\"bdata\":\"AAAAAACogEAAAAAAAKiAQAAAAAAA0HRAAAAAAADQdEAAAAAAAIBeQAAAAAAAgF5AAAAAAAAMs0AAAAAAAAyzQAAAAAAANLFAAAAAAAA0sUAAAAAAgMXAQAAAAACAxcBAAAAAAMBP1kAAAAAAwE\\u002fWQAAAAADgNeRAAAAAAOA15EAAAAAAYCLvQAAAAABgIu9AAAAAAHA+80AAAAAAcD7zQAAAAADg+vNAAAAAAOD680AAAAAAwBnxQAAAAADAGfFAAAAAAED370AAAAAAQPfvQAAAAADwJPFAAAAAAPAk8UAAAAAA4GTtQAAAAADgZO1AAAAAAADK7kAAAAAAAMruQAAAAABg7vBAAAAAAGDu8EAAAAAAYAjrQAAAAABgCOtAAAAAAAAn5UAAAAAAACflQAAAAAAAy9hAAAAAAADL2EAAAAAAgL3RQAAAAACAvdFAAAAAAIDtwkAAAAAAgO3CQAAAAAAAtq1AAAAAAAC2rUAAAAAAAIShQAAAAAAAhKFA\",\"shape\":\"24, 2\"},\"hovertemplate\":\"source=model\\u003cbr\\u003edpurp_label=Personal Business\\u003cbr\\u003edept_hr=%{x}\\u003cbr\\u003epercentage=%{y}\\u003cbr\\u003etrexpfac=%{customdata[0]}\\u003cbr\\u003esample_count=%{customdata[1]}\\u003cextra\\u003e\\u003c\\u002fextra\\u003e\",\"legendgroup\":\"model\",\"marker\":{\"color\":\"#91268F\",\"pattern\":{\"shape\":\"\"}},\"name\":\"model\",\"offsetgroup\":\"model\",\"orientation\":\"v\",\"showlegend\":false,\"textposition\":\"auto\",\"x\":{\"dtype\":\"i1\",\"bdata\":\"AAECAwQFBgcICQoLDA0ODxAREhMUFRYX\"},\"xaxis\":\"x\",\"y\":{\"dtype\":\"f8\",\"bdata\":\"joKcd\\u002fI3RD97UfqUgUM5P1gODxf0giI\\u002fgi7AG9Yedz9p2iid4+F0P8\\u002f3hZ\\u002fBW4Q\\u002fBXDmS1QVmz+HKKQTa4ioP1pb1TCB5bI\\u002fMDNHnQ9ctz8EPtHDzEC4P\\u002fCJHmYGwrQ\\u002f+k9hwbRmsz8Eqx7tms+0P6ZuF2Ud17E\\u002fBnb74N2vsj\\u002fObXySX420P+IRB+Q4aLA\\u002f9rNP7BytqT\\u002fhcUbmcBiePyGMCeLLiJU\\u002fZRCSM9D5hj\\u002fgb\\u002fg7WghyP+eenbL\\u002fQmU\\u002f\"},\"yaxis\":\"y\",\"type\":\"bar\"},{\"alignmentgroup\":\"True\",\"customdata\":{\"dtype\":\"f8\",\"bdata\":\"lP8gOXEliUAAAAAAAAAIQMwA3Xn\\u002fkoFAAAAAAAAAAEAAAAAAAAAAAAAAAAAAAAAAQFWDdI9+yEAAAAAAAAA2QA9Xv52OFOpAAAAAAACAT0B19dWtPvr5QAAAAAAAIGFA\\u002fzhsI2CyCUEAAAAAAHB3QLlzjWWyLBZBAAAAAADYg0BBmlD9j3sRQQAAAAAAaINAd6S62TdgBkEAAAAAAFB5QFIRldlA7PlAAAAAAADAcECcDrSIsRL0QAAAAAAAYG1Ats5sWMxV9UAAAAAAACB0QADyDZy5mvJAAAAAAADAbUBUNHAsaqL3QAAAAAAAgGhAUAoPZyGq8UAAAAAAAEBiQIYJoQJAzeFAAAAAAACAW0B\\u002fad2RpYXZQAAAAAAAAFxANYbAxTbLwkAAAAAAAIBNQP6BnLUm8MlAAAAAAACARkDw1Tbps6StQAAAAAAAAEFAnBloYfAwhEAAAAAAAAA2QM01GtvAFcVAAAAAAAAAMEBAeNvMcOWUQAAAAAAAACRA\",\"shape\":\"24, 2\"},\"hovertemplate\":\"source=survey\\u003cbr\\u003edpurp_label=Work\\u003cbr\\u003edept_hr=%{x}\\u003cbr\\u003epercentage=%{y}\\u003cbr\\u003etrexpfac=%{customdata[0]}\\u003cbr\\u003esample_count=%{customdata[1]}\\u003cextra\\u003e\\u003c\\u002fextra\\u003e\",\"legendgroup\":\"survey\",\"marker\":{\"color\":\"#8CC63E\",\"pattern\":{\"shape\":\"\"}},\"name\":\"survey\",\"offsetgroup\":\"survey\",\"orientation\":\"v\",\"showlegend\":true,\"textposition\":\"auto\",\"x\":{\"dtype\":\"i1\",\"bdata\":\"AAECAwQFBgcICQoLDA0ODxAREhMUFRYX\"},\"xaxis\":\"x6\",\"y\":{\"dtype\":\"f8\",\"bdata\":\"kql2kh6nPD9ZawTHXQY0PwAAAAAAAAAAhBr9affoez+H6WDxk7edP3JuYLSYma0\\u002fCA15jrRHvT+cy3V5SkTJP892Xq+p68M\\u002f\\u002fyjnJf9+uT\\u002fINSJnp4mtP2jm1tZD36Y\\u002fi7ed62xPqD\\u002fTh9eA3jKlP2lKPlIf7qo\\u002fLOOOfrkgpD8JMvzOvUiUP8jByT+9FI0\\u002fIUaWoh5qdT+5E\\u002f1oGI59P2YjqJ1142A\\u002f98+FZboBNz\\u002f0EjMkcwZ4P4ThJ2hmz0c\\u002f\"},\"yaxis\":\"y6\",\"type\":\"bar\"},{\"alignmentgroup\":\"True\",\"customdata\":{\"dtype\":\"f8\",\"bdata\":\"AAAAAAAAAAAAAAAAAAAAAAAAAAAAAAAAAAAAAAAAAAAAAAAAAAAAAAAAAAAAAAAAAAAAAAAAAAAAAAAAAAAAABXug+gRrFVAAAAAAAAA8D+cwa9xRmZ8QAAAAAAAABBA1J9\\u002fZbQi2UAAAAAAAAA6QJLqMwMcqwhBAAAAAACgbUAlf+w+g8oGQQAAAAAAoHBA35DU+ufC60AAAAAAAIBPQCvMPYvFpsJAAAAAAAAANkB6jW6R9hG5QAAAAAAAADBA75AT2H8SuUAAAAAAAAAqQFEkZynrx89AAAAAAAAAM0DMGS+v+9OzQAAAAAAAACpA0ZmZuTbQrUAAAAAAAAAuQKjajxUWNbFAAAAAAAAAIkAIX+GJ6aCPQAAAAAAAACBABGsstwJbxkAAAAAAAAAIQIuxHsNOcV1AAAAAAAAA8D8AAAAAAAAAAAAAAAAAAAAAAAAAAAAAAAAAAAAAAAAAAAAAAAAAAAAAAAAAAAAAAAAAAAAAAAAAAAAAAAAAAAAA\",\"shape\":\"24, 2\"},\"hovertemplate\":\"source=survey\\u003cbr\\u003edpurp_label=School\\u003cbr\\u003edept_hr=%{x}\\u003cbr\\u003epercentage=%{y}\\u003cbr\\u003etrexpfac=%{customdata[0]}\\u003cbr\\u003esample_count=%{customdata[1]}\\u003cextra\\u003e\\u003c\\u002fextra\\u003e\",\"legendgroup\":\"survey\",\"marker\":{\"color\":\"#8CC63E\",\"pattern\":{\"shape\":\"\"}},\"name\":\"survey\",\"offsetgroup\":\"survey\",\"orientation\":\"v\",\"showlegend\":false,\"textposition\":\"auto\",\"x\":{\"dtype\":\"i1\",\"bdata\":\"AAECAwQFBgcICQoLDA0ODxAREhMUFRYX\"},\"xaxis\":\"x5\",\"y\":{\"dtype\":\"f8\",\"bdata\":\"AAAAAAAAAAAAAAAAAAAAAAAAAAAAAAAAAAAAAAAAAAC2xbN5Py4lP9BlRmdlwUs\\u002f\\u002f1yMbcaQqD\\u002fJa89g5BvYP\\u002fU0788xRtY\\u002fIY4fabshuz9PB0CmfDqSPz\\u002fHt8tpgIg\\u002fzR5h9e+AiD\\u002fvaFt0aA+fP6ebzgveYIM\\u002f0OmQYCAjfT\\u002fcZe94L9GAP3hVX0pJ6V4\\u002fe\\u002fstoTjZlT8BxStpX8YsPwAAAAAAAAAAAAAAAAAAAAAAAAAAAAAAAAAAAAAAAAAA\"},\"yaxis\":\"y5\",\"type\":\"bar\"},{\"alignmentgroup\":\"True\",\"customdata\":{\"dtype\":\"f8\",\"bdata\":\"rDIaz2BsdkAAAAAAAAAIQNUHSA2v8GFAAAAAAAAA8D\\u002fR7iqYLNeBQAAAAAAAAPA\\u002fAAAAAAAAAAAAAAAAAAAAAHqeDuMntqJAAAAAAAAAAEDCbgX\\u002fgSyRQAAAAAAAACBAEpflhhjpwkAAAAAAAAAwQCG5WJ3EJN5AAAAAAACAS0BtwgG2foPpQAAAAAAAAFhApBI\\u002fc4g\\u002f8kAAAAAAAEBoQD2lv3+WMwFBAAAAAAAwckBRgZxy2jQEQQAAAAAA8HRAcnGF6DtbA0EAAAAAAEB0QKqO8MDTIAJBAAAAAAAAc0Cr6cAFmrMKQQAAAAAAkHVAhp1uTWItDUEAAAAAAIByQJ9DKqUIawhBAAAAAADAdEDNlHN35Ej\\u002fQAAAAAAAEHNAfy7PuRN3AkEAAAAAAMBuQK4+aq+G\\u002fvBAAAAAAADAakAeuDEOIHjgQAAAAAAAQFVA6mOeVCF80EAAAAAAAAA9QDALnmGS0M9AAAAAAAAAM0B86qbaPKeyQAAAAAAAABxA\",\"shape\":\"24, 2\"},\"hovertemplate\":\"source=survey\\u003cbr\\u003edpurp_label=Shop\\u003cbr\\u003edept_hr=%{x}\\u003cbr\\u003epercentage=%{y}\\u003cbr\\u003etrexpfac=%{customdata[0]}\\u003cbr\\u003esample_count=%{customdata[1]}\\u003cextra\\u003e\\u003c\\u002fextra\\u003e\",\"legendgroup\":\"survey\",\"marker\":{\"color\":\"#8CC63E\",\"pattern\":{\"shape\":\"\"}},\"name\":\"survey\",\"offsetgroup\":\"survey\",\"orientation\":\"v\",\"showlegend\":false,\"textposition\":\"auto\",\"x\":{\"dtype\":\"i1\",\"bdata\":\"AAECAwQFBgcICQoLDA0ODxAREhMUFRYX\"},\"xaxis\":\"x4\",\"y\":{\"dtype\":\"f8\",\"bdata\":\"avTdDP05KT\\u002fUrLfY0S4UP+demgIfEjQ\\u002fAAAAAAAAAADimVpX+gxVP+0MeJseUkM\\u002fHv1WNElGdT+Zjr1xufSQP7PvEuoAtJw\\u002fhOEupIaHpD8dKmKxFVqzPwOgUEyEu7Y\\u002feLFSVLHGtT+EfHxF+2S0P1K3rn4gCr4\\u002fk43By5FpwD8g2UBNe3i7P5cQj8ULmbE\\u002fteuLewPGtD9VktDAYx6jPyxfs+ovh5I\\u002ffpzPXLGLgj\\u002ftihvKXeWBP9oGKeMx\\u002fGQ\\u002f\"},\"yaxis\":\"y4\",\"type\":\"bar\"},{\"alignmentgroup\":\"True\",\"customdata\":{\"dtype\":\"f8\",\"bdata\":\"S+8gLvrEg0AAAAAAAADwPwAAAAAAAAAAAAAAAAAAAAAAAAAAAAAAAAAAAAAAAAAAAAAAAAAAAAAAAAAAAAAAAMRVEpr8TzdAAAAAAAAA8D\\u002fcEQ5Y+12vQAAAAAAAABRAEuKZsQ7v0kAAAAAAAAA8QAdbFE1qytBAAAAAAACASEAq9BqfMavjQAAAAAAAgFFAiEU2Z9WP30AAAAAAAIBWQLo4iNC\\u002f99VAAAAAAACAVUBRHmniwlTzQAAAAAAAAGlAKn6JhjkT\\u002fEAAAAAAACBuQJXcvXciqeFAAAAAAAAgY0AjuuPb+hDzQAAAAAAAAF5AUFZJ9Hv19EAAAAAAAEBeQA0LVFxsPfFAAAAAAAAgZEBY4KLS3r30QAAAAAAA4GlA1W7Do\\u002fBH9EAAAAAAAEBpQMVH2lM6cu1AAAAAAADAXUB7wc0mKb7wQAAAAAAAwFRA+wSoK\\u002fyeykAAAAAAAAA9QJn4JwCLWLNAAAAAAAAALkBT0WCVFluXQAAAAAAAABBA\",\"shape\":\"24, 2\"},\"hovertemplate\":\"source=survey\\u003cbr\\u003edpurp_label=Meal\\u003cbr\\u003edept_hr=%{x}\\u003cbr\\u003epercentage=%{y}\\u003cbr\\u003etrexpfac=%{customdata[0]}\\u003cbr\\u003esample_count=%{customdata[1]}\\u003cextra\\u003e\\u003c\\u002fextra\\u003e\",\"legendgroup\":\"survey\",\"marker\":{\"color\":\"#8CC63E\",\"pattern\":{\"shape\":\"\"}},\"name\":\"survey\",\"offsetgroup\":\"survey\",\"orientation\":\"v\",\"showlegend\":false,\"textposition\":\"auto\",\"x\":{\"dtype\":\"i1\",\"bdata\":\"AAECAwQFBgcICQoLDA0ODxAREhMUFRYX\"},\"xaxis\":\"x3\",\"y\":{\"dtype\":\"f8\",\"bdata\":\"qXMcqVKTRj8AAAAAAAAAAAAAAAAAAAAAAAAAAAAAAABs\\u002f71SEp\\u002f6Pud9RQbf6HE\\u002fklPFJQqflT+7KJ40hiyTPzBiITvhdaY\\u002fDaf2w1UFoj9KFNJE+RWZPx8Jxt0tE7Y\\u002fInc11q4HwD9Zedcj2yqkPzO3Ru3GxbU\\u002fxRUWDA3vtz9B+kE326+zPwx3vx+Lr7c\\u002feymMzd8otz8suXBKGNCwP4z4X8aHHrM\\u002f\\u002f\\u002fftjkpmjj++5SRlfxd2P1Trv7C\\u002fq1o\\u002f\"},\"yaxis\":\"y3\",\"type\":\"bar\"},{\"alignmentgroup\":\"True\",\"customdata\":{\"dtype\":\"f8\",\"bdata\":\"utkyW31UIkAAAAAAAADwPwAAAAAAAAAAAAAAAAAAAAAAAAAAAAAAAAAAAAAAAAAAAAAAAAAAAAAAAAAAAAAAAI2cHv82rK9AAAAAAAAA8D+9KI5qsGqoQAAAAAAAACRAiph2LG9m4EAAAAAAAIBCQJuBVSdVpwxBAAAAAABgbEACIVcf4e4GQQAAAAAAQG1ADmiCQa5P9EAAAAAAAMBXQC6\\u002fEQbnMdNAAAAAAACAU0Ck3R\\u002fFpM3bQAAAAAAAgE9AzNShFvIn2EAAAAAAAABTQF3RNON0zPZAAAAAAADAVUBNU7H+kMUCQQAAAAAA4GVAEAfZ7hQPCUEAAAAAAIBsQApmk3oMU\\u002fZAAAAAAAAgY0BitBL33Er5QAAAAAAAgGFAvtGsKr3T2EAAAAAAAABRQLvlj10aU+NAAAAAAAAATUBOaXUsNAvVQAAAAAAAAD1A0DOWUJdJwEAAAAAAAAA3QIuM5b5ffsZAAAAAAAAAKkDFzPnRrPyCQAAAAAAAAAhA\",\"shape\":\"24, 2\"},\"hovertemplate\":\"source=survey\\u003cbr\\u003edpurp_label=Escort\\u003cbr\\u003edept_hr=%{x}\\u003cbr\\u003epercentage=%{y}\\u003cbr\\u003etrexpfac=%{customdata[0]}\\u003cbr\\u003esample_count=%{customdata[1]}\\u003cextra\\u003e\\u003c\\u002fextra\\u003e\",\"legendgroup\":\"survey\",\"marker\":{\"color\":\"#8CC63E\",\"pattern\":{\"shape\":\"\"}},\"name\":\"survey\",\"offsetgroup\":\"survey\",\"orientation\":\"v\",\"showlegend\":false,\"textposition\":\"auto\",\"x\":{\"dtype\":\"i1\",\"bdata\":\"AAECAwQFBgcICQoLDA0ODxAREhMUFRYX\"},\"xaxis\":\"x2\",\"y\":{\"dtype\":\"f8\",\"bdata\":\"YPp1jpX62z4AAAAAAAAAAAAAAAAAAAAAAAAAAAAAAACF9ERxKSxoP2VH6i2BomI\\u002fDnE6H3YImT8etxUDTd7FP32neJaigME\\u002fHnPE0cEArz+d+RgRjEyNP6IhxEwpOJU\\u002fT2zI85Bvkj8RKsQeXWaxP8lT1ggvp7w\\u002fzsVc8Pcfwz\\u002fSWIiotAmxP2R\\u002fi+yXTbM\\u002fcGx9oq3ykj\\u002f0g29nOX+dP1V8v9x+D5A\\u002fOak+c2\\u002fceD+v\\u002fbB5xSqBPzxsbx9N+zw\\u002f\"},\"yaxis\":\"y2\",\"type\":\"bar\"},{\"alignmentgroup\":\"True\",\"customdata\":{\"dtype\":\"f8\",\"bdata\":\"AAAAAAAAAAAAAAAAAAAAAAAAAAAAAAAAAAAAAAAAAAAAAAAAAAAAAAAAAAAAAAAAAAAAAAAAAAAAAAAAAAAAAAAAAAAAAAAAAAAAAAAAAACa8xZta\\u002fumQAAAAAAAABRArqFiEteDukAAAAAAAAA4QL6tSVOGzOVAAAAAAAAAU0CP6PLAXQXfQAAAAAAAgFtAia\\u002fWJYIr8kAAAAAAAGBjQNwIE0cMQvBAAAAAAADgZkASMNLO8kHrQAAAAAAAgGJAywM2oLGE8UAAAAAAAGBiQDSeGR6Df\\u002fJAAAAAAABAZUB5kTmdNOT\\u002fQAAAAAAAIGRARYi2Xk4B70AAAAAAAABhQN2cjCCmu+NAAAAAAACAXkA1Y9d6D8\\u002fwQAAAAAAAwFRAv55eqKRLwkAAAAAAAIBJQD51YMZiJMtAAAAAAAAANkBw\\u002fzXjDyqVQAAAAAAAACBA81x7DMIltUAAAAAAAAAUQMJPxfSWrWhAAAAAAAAA8D8AAAAAAAAAAAAAAAAAAAAA\",\"shape\":\"24, 2\"},\"hovertemplate\":\"source=survey\\u003cbr\\u003edpurp_label=Personal Business\\u003cbr\\u003edept_hr=%{x}\\u003cbr\\u003epercentage=%{y}\\u003cbr\\u003etrexpfac=%{customdata[0]}\\u003cbr\\u003esample_count=%{customdata[1]}\\u003cextra\\u003e\\u003c\\u002fextra\\u003e\",\"legendgroup\":\"survey\",\"marker\":{\"color\":\"#8CC63E\",\"pattern\":{\"shape\":\"\"}},\"name\":\"survey\",\"offsetgroup\":\"survey\",\"orientation\":\"v\",\"showlegend\":false,\"textposition\":\"auto\",\"x\":{\"dtype\":\"i1\",\"bdata\":\"AAECAwQFBgcICQoLDA0ODxAREhMUFRYX\"},\"xaxis\":\"x\",\"y\":{\"dtype\":\"f8\",\"bdata\":\"AAAAAAAAAAAAAAAAAAAAAAAAAAAAAAAAAAAAAAAAAAAAAAAAAAAAAIUfilOciW8\\u002fI3XWi1sxgj\\u002fQRuRj9emtP39xC0\\u002fUSKU\\u002fhWgtHRrvuD9W2Em\\u002fbk+2P8PblA\\u002fMs7I\\u002f5wHMMTAKuD+drm+hYGK5P52NRwO64cU\\u002foB9hJwtGtT\\u002fGlndrMxSrP1xl8mrwELc\\u002fnhC3EDMbiT8Nkjljg5+SP3\\u002fRGEoEC10\\u002fCzZRRhwFfT+HNg4YtO4wPwAAAAAAAAAA\"},\"yaxis\":\"y\",\"type\":\"bar\"}],                        {\"template\":{\"data\":{\"barpolar\":[{\"marker\":{\"line\":{\"color\":\"white\",\"width\":0.5},\"pattern\":{\"fillmode\":\"overlay\",\"size\":10,\"solidity\":0.2}},\"type\":\"barpolar\"}],\"bar\":[{\"error_x\":{\"color\":\"rgb(36,36,36)\"},\"error_y\":{\"color\":\"rgb(36,36,36)\"},\"marker\":{\"line\":{\"color\":\"white\",\"width\":0.5},\"pattern\":{\"fillmode\":\"overlay\",\"size\":10,\"solidity\":0.2}},\"type\":\"bar\"}],\"carpet\":[{\"aaxis\":{\"endlinecolor\":\"rgb(36,36,36)\",\"gridcolor\":\"white\",\"linecolor\":\"white\",\"minorgridcolor\":\"white\",\"startlinecolor\":\"rgb(36,36,36)\"},\"baxis\":{\"endlinecolor\":\"rgb(36,36,36)\",\"gridcolor\":\"white\",\"linecolor\":\"white\",\"minorgridcolor\":\"white\",\"startlinecolor\":\"rgb(36,36,36)\"},\"type\":\"carpet\"}],\"choropleth\":[{\"colorbar\":{\"outlinewidth\":1,\"tickcolor\":\"rgb(36,36,36)\",\"ticks\":\"outside\"},\"type\":\"choropleth\"}],\"contourcarpet\":[{\"colorbar\":{\"outlinewidth\":1,\"tickcolor\":\"rgb(36,36,36)\",\"ticks\":\"outside\"},\"type\":\"contourcarpet\"}],\"contour\":[{\"colorbar\":{\"outlinewidth\":1,\"tickcolor\":\"rgb(36,36,36)\",\"ticks\":\"outside\"},\"colorscale\":[[0.0,\"#440154\"],[0.1111111111111111,\"#482878\"],[0.2222222222222222,\"#3e4989\"],[0.3333333333333333,\"#31688e\"],[0.4444444444444444,\"#26828e\"],[0.5555555555555556,\"#1f9e89\"],[0.6666666666666666,\"#35b779\"],[0.7777777777777778,\"#6ece58\"],[0.8888888888888888,\"#b5de2b\"],[1.0,\"#fde725\"]],\"type\":\"contour\"}],\"heatmap\":[{\"colorbar\":{\"outlinewidth\":1,\"tickcolor\":\"rgb(36,36,36)\",\"ticks\":\"outside\"},\"colorscale\":[[0.0,\"#440154\"],[0.1111111111111111,\"#482878\"],[0.2222222222222222,\"#3e4989\"],[0.3333333333333333,\"#31688e\"],[0.4444444444444444,\"#26828e\"],[0.5555555555555556,\"#1f9e89\"],[0.6666666666666666,\"#35b779\"],[0.7777777777777778,\"#6ece58\"],[0.8888888888888888,\"#b5de2b\"],[1.0,\"#fde725\"]],\"type\":\"heatmap\"}],\"histogram2dcontour\":[{\"colorbar\":{\"outlinewidth\":1,\"tickcolor\":\"rgb(36,36,36)\",\"ticks\":\"outside\"},\"colorscale\":[[0.0,\"#440154\"],[0.1111111111111111,\"#482878\"],[0.2222222222222222,\"#3e4989\"],[0.3333333333333333,\"#31688e\"],[0.4444444444444444,\"#26828e\"],[0.5555555555555556,\"#1f9e89\"],[0.6666666666666666,\"#35b779\"],[0.7777777777777778,\"#6ece58\"],[0.8888888888888888,\"#b5de2b\"],[1.0,\"#fde725\"]],\"type\":\"histogram2dcontour\"}],\"histogram2d\":[{\"colorbar\":{\"outlinewidth\":1,\"tickcolor\":\"rgb(36,36,36)\",\"ticks\":\"outside\"},\"colorscale\":[[0.0,\"#440154\"],[0.1111111111111111,\"#482878\"],[0.2222222222222222,\"#3e4989\"],[0.3333333333333333,\"#31688e\"],[0.4444444444444444,\"#26828e\"],[0.5555555555555556,\"#1f9e89\"],[0.6666666666666666,\"#35b779\"],[0.7777777777777778,\"#6ece58\"],[0.8888888888888888,\"#b5de2b\"],[1.0,\"#fde725\"]],\"type\":\"histogram2d\"}],\"histogram\":[{\"marker\":{\"line\":{\"color\":\"white\",\"width\":0.6}},\"type\":\"histogram\"}],\"mesh3d\":[{\"colorbar\":{\"outlinewidth\":1,\"tickcolor\":\"rgb(36,36,36)\",\"ticks\":\"outside\"},\"type\":\"mesh3d\"}],\"parcoords\":[{\"line\":{\"colorbar\":{\"outlinewidth\":1,\"tickcolor\":\"rgb(36,36,36)\",\"ticks\":\"outside\"}},\"type\":\"parcoords\"}],\"pie\":[{\"automargin\":true,\"type\":\"pie\"}],\"scatter3d\":[{\"line\":{\"colorbar\":{\"outlinewidth\":1,\"tickcolor\":\"rgb(36,36,36)\",\"ticks\":\"outside\"}},\"marker\":{\"colorbar\":{\"outlinewidth\":1,\"tickcolor\":\"rgb(36,36,36)\",\"ticks\":\"outside\"}},\"type\":\"scatter3d\"}],\"scattercarpet\":[{\"marker\":{\"colorbar\":{\"outlinewidth\":1,\"tickcolor\":\"rgb(36,36,36)\",\"ticks\":\"outside\"}},\"type\":\"scattercarpet\"}],\"scattergeo\":[{\"marker\":{\"colorbar\":{\"outlinewidth\":1,\"tickcolor\":\"rgb(36,36,36)\",\"ticks\":\"outside\"}},\"type\":\"scattergeo\"}],\"scattergl\":[{\"marker\":{\"colorbar\":{\"outlinewidth\":1,\"tickcolor\":\"rgb(36,36,36)\",\"ticks\":\"outside\"}},\"type\":\"scattergl\"}],\"scattermapbox\":[{\"marker\":{\"colorbar\":{\"outlinewidth\":1,\"tickcolor\":\"rgb(36,36,36)\",\"ticks\":\"outside\"}},\"type\":\"scattermapbox\"}],\"scattermap\":[{\"marker\":{\"colorbar\":{\"outlinewidth\":1,\"tickcolor\":\"rgb(36,36,36)\",\"ticks\":\"outside\"}},\"type\":\"scattermap\"}],\"scatterpolargl\":[{\"marker\":{\"colorbar\":{\"outlinewidth\":1,\"tickcolor\":\"rgb(36,36,36)\",\"ticks\":\"outside\"}},\"type\":\"scatterpolargl\"}],\"scatterpolar\":[{\"marker\":{\"colorbar\":{\"outlinewidth\":1,\"tickcolor\":\"rgb(36,36,36)\",\"ticks\":\"outside\"}},\"type\":\"scatterpolar\"}],\"scatter\":[{\"fillpattern\":{\"fillmode\":\"overlay\",\"size\":10,\"solidity\":0.2},\"type\":\"scatter\"}],\"scatterternary\":[{\"marker\":{\"colorbar\":{\"outlinewidth\":1,\"tickcolor\":\"rgb(36,36,36)\",\"ticks\":\"outside\"}},\"type\":\"scatterternary\"}],\"surface\":[{\"colorbar\":{\"outlinewidth\":1,\"tickcolor\":\"rgb(36,36,36)\",\"ticks\":\"outside\"},\"colorscale\":[[0.0,\"#440154\"],[0.1111111111111111,\"#482878\"],[0.2222222222222222,\"#3e4989\"],[0.3333333333333333,\"#31688e\"],[0.4444444444444444,\"#26828e\"],[0.5555555555555556,\"#1f9e89\"],[0.6666666666666666,\"#35b779\"],[0.7777777777777778,\"#6ece58\"],[0.8888888888888888,\"#b5de2b\"],[1.0,\"#fde725\"]],\"type\":\"surface\"}],\"table\":[{\"cells\":{\"fill\":{\"color\":\"rgb(237,237,237)\"},\"line\":{\"color\":\"white\"}},\"header\":{\"fill\":{\"color\":\"rgb(217,217,217)\"},\"line\":{\"color\":\"white\"}},\"type\":\"table\"}]},\"layout\":{\"annotationdefaults\":{\"arrowhead\":0,\"arrowwidth\":1},\"autotypenumbers\":\"strict\",\"coloraxis\":{\"colorbar\":{\"outlinewidth\":1,\"tickcolor\":\"rgb(36,36,36)\",\"ticks\":\"outside\"}},\"colorscale\":{\"diverging\":[[0.0,\"rgb(103,0,31)\"],[0.1,\"rgb(178,24,43)\"],[0.2,\"rgb(214,96,77)\"],[0.3,\"rgb(244,165,130)\"],[0.4,\"rgb(253,219,199)\"],[0.5,\"rgb(247,247,247)\"],[0.6,\"rgb(209,229,240)\"],[0.7,\"rgb(146,197,222)\"],[0.8,\"rgb(67,147,195)\"],[0.9,\"rgb(33,102,172)\"],[1.0,\"rgb(5,48,97)\"]],\"sequential\":[[0.0,\"#440154\"],[0.1111111111111111,\"#482878\"],[0.2222222222222222,\"#3e4989\"],[0.3333333333333333,\"#31688e\"],[0.4444444444444444,\"#26828e\"],[0.5555555555555556,\"#1f9e89\"],[0.6666666666666666,\"#35b779\"],[0.7777777777777778,\"#6ece58\"],[0.8888888888888888,\"#b5de2b\"],[1.0,\"#fde725\"]],\"sequentialminus\":[[0.0,\"#440154\"],[0.1111111111111111,\"#482878\"],[0.2222222222222222,\"#3e4989\"],[0.3333333333333333,\"#31688e\"],[0.4444444444444444,\"#26828e\"],[0.5555555555555556,\"#1f9e89\"],[0.6666666666666666,\"#35b779\"],[0.7777777777777778,\"#6ece58\"],[0.8888888888888888,\"#b5de2b\"],[1.0,\"#fde725\"]]},\"colorway\":[\"#91268F\",\"#8CC63E\",\"#00A7A0\",\"#F05A28\",\"#4C4C4C\",\"#630460\",\"#9f3913\",\"#588527\",\"#00716c\",\"#3e4040\"],\"font\":{\"color\":\"rgb(36,36,36)\",\"family\":\"Poppins\",\"size\":11},\"geo\":{\"bgcolor\":\"white\",\"lakecolor\":\"white\",\"landcolor\":\"white\",\"showlakes\":true,\"showland\":true,\"subunitcolor\":\"white\"},\"hoverlabel\":{\"align\":\"left\"},\"hovermode\":\"closest\",\"mapbox\":{\"style\":\"light\"},\"paper_bgcolor\":\"white\",\"plot_bgcolor\":\"white\",\"polar\":{\"angularaxis\":{\"gridcolor\":\"rgb(232,232,232)\",\"linecolor\":\"rgb(36,36,36)\",\"showgrid\":false,\"showline\":true,\"ticks\":\"outside\"},\"bgcolor\":\"white\",\"radialaxis\":{\"gridcolor\":\"rgb(232,232,232)\",\"linecolor\":\"rgb(36,36,36)\",\"showgrid\":false,\"showline\":true,\"ticks\":\"outside\"}},\"scene\":{\"xaxis\":{\"backgroundcolor\":\"white\",\"gridcolor\":\"rgb(232,232,232)\",\"gridwidth\":2,\"linecolor\":\"rgb(36,36,36)\",\"showbackground\":true,\"showgrid\":false,\"showline\":true,\"ticks\":\"outside\",\"zeroline\":false,\"zerolinecolor\":\"rgb(36,36,36)\"},\"yaxis\":{\"backgroundcolor\":\"white\",\"gridcolor\":\"rgb(232,232,232)\",\"gridwidth\":2,\"linecolor\":\"rgb(36,36,36)\",\"showbackground\":true,\"showgrid\":false,\"showline\":true,\"ticks\":\"outside\",\"zeroline\":false,\"zerolinecolor\":\"rgb(36,36,36)\"},\"zaxis\":{\"backgroundcolor\":\"white\",\"gridcolor\":\"rgb(232,232,232)\",\"gridwidth\":2,\"linecolor\":\"rgb(36,36,36)\",\"showbackground\":true,\"showgrid\":false,\"showline\":true,\"ticks\":\"outside\",\"zeroline\":false,\"zerolinecolor\":\"rgb(36,36,36)\"}},\"shapedefaults\":{\"fillcolor\":\"black\",\"line\":{\"width\":0},\"opacity\":0.3},\"ternary\":{\"aaxis\":{\"gridcolor\":\"rgb(232,232,232)\",\"linecolor\":\"rgb(36,36,36)\",\"showgrid\":false,\"showline\":true,\"ticks\":\"outside\"},\"baxis\":{\"gridcolor\":\"rgb(232,232,232)\",\"linecolor\":\"rgb(36,36,36)\",\"showgrid\":false,\"showline\":true,\"ticks\":\"outside\"},\"bgcolor\":\"white\",\"caxis\":{\"gridcolor\":\"rgb(232,232,232)\",\"linecolor\":\"rgb(36,36,36)\",\"showgrid\":false,\"showline\":true,\"ticks\":\"outside\"}},\"title\":{\"x\":0.05},\"xaxis\":{\"automargin\":true,\"gridcolor\":\"rgb(232,232,232)\",\"linecolor\":\"rgb(36,36,36)\",\"showgrid\":false,\"showline\":true,\"ticks\":\"outside\",\"title\":{\"standoff\":15},\"zeroline\":false,\"zerolinecolor\":\"rgb(36,36,36)\"},\"yaxis\":{\"automargin\":true,\"gridcolor\":\"rgb(232,232,232)\",\"linecolor\":\"rgb(36,36,36)\",\"showgrid\":false,\"showline\":true,\"ticks\":\"outside\",\"title\":{\"standoff\":15},\"zeroline\":false,\"zerolinecolor\":\"rgb(36,36,36)\"}}},\"xaxis\":{\"anchor\":\"y\",\"domain\":[0.0,0.98],\"title\":{\"text\":\"dept_hr\"},\"dtick\":1,\"categoryorder\":\"category ascending\"},\"yaxis\":{\"anchor\":\"x\",\"domain\":[0.0,0.14166666666666666],\"title\":{\"text\":\"percentage\"},\"tickformat\":\".0%\"},\"xaxis2\":{\"anchor\":\"y2\",\"domain\":[0.0,0.98],\"matches\":\"x\",\"showticklabels\":false,\"dtick\":1,\"categoryorder\":\"category ascending\"},\"yaxis2\":{\"anchor\":\"x2\",\"domain\":[0.17166666666666666,0.31333333333333335],\"matches\":\"y\",\"title\":{\"text\":\"percentage\"},\"tickformat\":\".0%\"},\"xaxis3\":{\"anchor\":\"y3\",\"domain\":[0.0,0.98],\"matches\":\"x\",\"showticklabels\":false,\"dtick\":1,\"categoryorder\":\"category ascending\"},\"yaxis3\":{\"anchor\":\"x3\",\"domain\":[0.3433333333333333,0.485],\"matches\":\"y\",\"title\":{\"text\":\"percentage\"},\"tickformat\":\".0%\"},\"xaxis4\":{\"anchor\":\"y4\",\"domain\":[0.0,0.98],\"matches\":\"x\",\"showticklabels\":false,\"dtick\":1,\"categoryorder\":\"category ascending\"},\"yaxis4\":{\"anchor\":\"x4\",\"domain\":[0.515,0.6566666666666667],\"matches\":\"y\",\"title\":{\"text\":\"percentage\"},\"tickformat\":\".0%\"},\"xaxis5\":{\"anchor\":\"y5\",\"domain\":[0.0,0.98],\"matches\":\"x\",\"showticklabels\":false,\"dtick\":1,\"categoryorder\":\"category ascending\"},\"yaxis5\":{\"anchor\":\"x5\",\"domain\":[0.6866666666666666,0.8283333333333334],\"matches\":\"y\",\"title\":{\"text\":\"percentage\"},\"tickformat\":\".0%\"},\"xaxis6\":{\"anchor\":\"y6\",\"domain\":[0.0,0.98],\"matches\":\"x\",\"showticklabels\":false,\"dtick\":1,\"categoryorder\":\"category ascending\"},\"yaxis6\":{\"anchor\":\"x6\",\"domain\":[0.8583333333333333,1.0],\"matches\":\"y\",\"title\":{\"text\":\"percentage\"},\"tickformat\":\".0%\"},\"annotations\":[{\"font\":{},\"showarrow\":false,\"text\":\"Personal Business\",\"textangle\":90,\"x\":0.98,\"xanchor\":\"left\",\"xref\":\"paper\",\"y\":0.07083333333333333,\"yanchor\":\"middle\",\"yref\":\"paper\"},{\"font\":{},\"showarrow\":false,\"text\":\"Escort\",\"textangle\":90,\"x\":0.98,\"xanchor\":\"left\",\"xref\":\"paper\",\"y\":0.2425,\"yanchor\":\"middle\",\"yref\":\"paper\"},{\"font\":{},\"showarrow\":false,\"text\":\"Meal\",\"textangle\":90,\"x\":0.98,\"xanchor\":\"left\",\"xref\":\"paper\",\"y\":0.4141666666666667,\"yanchor\":\"middle\",\"yref\":\"paper\"},{\"font\":{},\"showarrow\":false,\"text\":\"Shop\",\"textangle\":90,\"x\":0.98,\"xanchor\":\"left\",\"xref\":\"paper\",\"y\":0.5858333333333334,\"yanchor\":\"middle\",\"yref\":\"paper\"},{\"font\":{},\"showarrow\":false,\"text\":\"School\",\"textangle\":90,\"x\":0.98,\"xanchor\":\"left\",\"xref\":\"paper\",\"y\":0.7575000000000001,\"yanchor\":\"middle\",\"yref\":\"paper\"},{\"font\":{},\"showarrow\":false,\"text\":\"Work\",\"textangle\":90,\"x\":0.98,\"xanchor\":\"left\",\"xref\":\"paper\",\"y\":0.9291666666666667,\"yanchor\":\"middle\",\"yref\":\"paper\"}],\"legend\":{\"title\":{\"text\":\"source\"},\"tracegroupgap\":0},\"title\":{\"text\":\"trip origin departure hour by purpose\"},\"barmode\":\"group\",\"height\":1500,\"width\":850},                        {\"responsive\": true}                    ).then(function(){\n",
       "                            \n",
       "var gd = document.getElementById('74ffe58a-d947-43ee-90d6-9bf108fe1ba4');\n",
       "var x = new MutationObserver(function (mutations, observer) {{\n",
       "        var display = window.getComputedStyle(gd).display;\n",
       "        if (!display || display === 'none') {{\n",
       "            console.log([gd, 'removed!']);\n",
       "            Plotly.purge(gd);\n",
       "            observer.disconnect();\n",
       "        }}\n",
       "}});\n",
       "\n",
       "// Listen for the removal of the full notebook cells\n",
       "var notebookContainer = gd.closest('#notebook-container');\n",
       "if (notebookContainer) {{\n",
       "    x.observe(notebookContainer, {childList: true});\n",
       "}}\n",
       "\n",
       "// Listen for the clearing of the current output cell\n",
       "var outputEl = gd.closest('.output');\n",
       "if (outputEl) {{\n",
       "    x.observe(outputEl, {childList: true});\n",
       "}}\n",
       "\n",
       "                        })                };            </script>        </div>"
      ]
     },
     "metadata": {},
     "output_type": "display_data"
    }
   ],
   "source": [
    "df_plot = df_trip.groupby(['dept_hr','dpurp_label','source'])['trexpfac'].agg(sample_count='size', trexpfac='sum').reset_index()\n",
    "df_plot['percentage'] = df_plot.groupby(['dpurp_label','source'], group_keys=False)['trexpfac']. \\\n",
    "    apply(lambda x: x / float(x.sum()))\n",
    "\n",
    "fig = px.bar(df_plot.sort_values(['source','dpurp_label']),\n",
    "             x=\"dept_hr\", y=\"percentage\", color=\"source\",barmode=\"group\",\n",
    "             facet_row='dpurp_label',\n",
    "             hover_data=['trexpfac','sample_count'],\n",
    "             title=\"trip origin departure hour by purpose\")\n",
    "fig.update_layout(height=1500, width=850)\n",
    "fig.for_each_annotation(lambda a: a.update(text = a.text.split(\"=\")[-1]))\n",
    "fig.for_each_xaxis(lambda a: a.update(dict(dtick = 1, categoryorder='category ascending')))\n",
    "fig.for_each_yaxis(lambda a: a.update(dict(tickformat=\".0%\")))\n",
    "fig.show()"
   ]
  },
  {
   "cell_type": "raw",
   "metadata": {
    "vscode": {
     "languageId": "raw"
    }
   },
   "source": [
    ":::"
   ]
  }
 ],
 "metadata": {
  "kernelspec": {
   "display_name": "summary",
   "language": "python",
   "name": "python3"
  },
  "language_info": {
   "codemirror_mode": {
    "name": "ipython",
    "version": 3
   },
   "file_extension": ".py",
   "mimetype": "text/x-python",
   "name": "python",
   "nbconvert_exporter": "python",
   "pygments_lexer": "ipython3",
   "version": "3.11.0"
  }
 },
 "nbformat": 4,
 "nbformat_minor": 2
}
